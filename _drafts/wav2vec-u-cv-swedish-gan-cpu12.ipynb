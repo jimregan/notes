{
 "cells": [
  {
   "cell_type": "markdown",
   "id": "fundamental-export",
   "metadata": {
    "papermill": {
     "duration": 0.014391,
     "end_time": "2021-06-07T11:14:17.171706",
     "exception": false,
     "start_time": "2021-06-07T11:14:17.157315",
     "status": "completed"
    },
    "tags": []
   },
   "source": [
    "## Preparation"
   ]
  },
  {
   "cell_type": "code",
   "execution_count": 1,
   "id": "injured-wells",
   "metadata": {
    "execution": {
     "iopub.execute_input": "2021-06-07T11:14:17.204013Z",
     "iopub.status.busy": "2021-06-07T11:14:17.202708Z",
     "iopub.status.idle": "2021-06-07T11:14:19.646397Z",
     "shell.execute_reply": "2021-06-07T11:14:19.644822Z"
    },
    "papermill": {
     "duration": 2.461059,
     "end_time": "2021-06-07T11:14:19.646631",
     "exception": false,
     "start_time": "2021-06-07T11:14:17.185572",
     "status": "completed"
    },
    "tags": []
   },
   "outputs": [],
   "source": [
    "!cp ../input/w2vu-cvsv-checkpoints-cpu11/checkpoint_best.pt .\n",
    "!cp ../input/w2vu-cvsv-checkpoints-cpu11/checkpoint_last.pt ."
   ]
  },
  {
   "cell_type": "code",
   "execution_count": 2,
   "id": "paperback-remainder",
   "metadata": {
    "_cell_guid": "b1076dfc-b9ad-4769-8c92-a6c4dae69d19",
    "_uuid": "8f2839f25d086af736a60e9eeb907d3b93b6e0e5",
    "execution": {
     "iopub.execute_input": "2021-06-07T11:14:19.689320Z",
     "iopub.status.busy": "2021-06-07T11:14:19.684444Z",
     "iopub.status.idle": "2021-06-07T11:18:28.397491Z",
     "shell.execute_reply": "2021-06-07T11:18:28.398299Z",
     "shell.execute_reply.started": "2021-05-31T11:43:46.770364Z"
    },
    "papermill": {
     "duration": 248.736382,
     "end_time": "2021-06-07T11:18:28.398538",
     "exception": false,
     "start_time": "2021-06-07T11:14:19.662156",
     "status": "completed"
    },
    "tags": []
   },
   "outputs": [],
   "source": [
    "%%capture\n",
    "!conda install -c pykaldi pykaldi -y"
   ]
  },
  {
   "cell_type": "code",
   "execution_count": 3,
   "id": "detailed-grounds",
   "metadata": {
    "execution": {
     "iopub.execute_input": "2021-06-07T11:18:28.440442Z",
     "iopub.status.busy": "2021-06-07T11:18:28.439473Z",
     "iopub.status.idle": "2021-06-07T11:18:28.446716Z",
     "shell.execute_reply": "2021-06-07T11:18:28.447278Z",
     "shell.execute_reply.started": "2021-05-31T13:58:07.987793Z"
    },
    "papermill": {
     "duration": 0.03283,
     "end_time": "2021-06-07T11:18:28.447470",
     "exception": false,
     "start_time": "2021-06-07T11:18:28.414640",
     "status": "completed"
    },
    "tags": []
   },
   "outputs": [
    {
     "name": "stdout",
     "output_type": "stream",
     "text": [
      "/tmp\n"
     ]
    }
   ],
   "source": [
    "%cd /tmp"
   ]
  },
  {
   "cell_type": "code",
   "execution_count": 4,
   "id": "forty-living",
   "metadata": {
    "execution": {
     "iopub.execute_input": "2021-06-07T11:18:28.489293Z",
     "iopub.status.busy": "2021-06-07T11:18:28.488345Z",
     "iopub.status.idle": "2021-06-07T11:18:34.048190Z",
     "shell.execute_reply": "2021-06-07T11:18:34.047395Z",
     "shell.execute_reply.started": "2021-05-31T11:47:48.174342Z"
    },
    "papermill": {
     "duration": 5.582312,
     "end_time": "2021-06-07T11:18:34.048385",
     "exception": false,
     "start_time": "2021-06-07T11:18:28.466073",
     "status": "completed"
    },
    "tags": []
   },
   "outputs": [
    {
     "name": "stdout",
     "output_type": "stream",
     "text": [
      "Cloning into 'fairseq'...\r\n"
     ]
    },
    {
     "name": "stdout",
     "output_type": "stream",
     "text": [
      "remote: Enumerating objects: 28296, done.\u001b[K\r\n",
      "Receiving objects:   0% (1/28296)   \r"
     ]
    },
    {
     "name": "stdout",
     "output_type": "stream",
     "text": [
      "Receiving objects:   1% (283/28296)   \r"
     ]
    },
    {
     "name": "stdout",
     "output_type": "stream",
     "text": [
      "Receiving objects:   2% (566/28296)   \r",
      "Receiving objects:   3% (849/28296)   \r"
     ]
    },
    {
     "name": "stdout",
     "output_type": "stream",
     "text": [
      "Receiving objects:   4% (1132/28296)   \r",
      "Receiving objects:   5% (1415/28296)   \r"
     ]
    },
    {
     "name": "stdout",
     "output_type": "stream",
     "text": [
      "Receiving objects:   6% (1698/28296)   \r",
      "Receiving objects:   7% (1981/28296)   \r",
      "Receiving objects:   8% (2264/28296)   \r",
      "Receiving objects:   9% (2547/28296)   \r",
      "Receiving objects:  10% (2830/28296)   \r"
     ]
    },
    {
     "name": "stdout",
     "output_type": "stream",
     "text": [
      "Receiving objects:  11% (3113/28296)   \r",
      "Receiving objects:  12% (3396/28296)   \r",
      "Receiving objects:  13% (3679/28296)   \r",
      "Receiving objects:  14% (3962/28296)   \r",
      "Receiving objects:  15% (4245/28296)   \r",
      "Receiving objects:  16% (4528/28296)   \r"
     ]
    },
    {
     "name": "stdout",
     "output_type": "stream",
     "text": [
      "Receiving objects:  17% (4811/28296)   \r",
      "Receiving objects:  18% (5094/28296)   \r",
      "Receiving objects:  19% (5377/28296)   \r",
      "Receiving objects:  20% (5660/28296)   \r",
      "Receiving objects:  21% (5943/28296), 4.68 MiB | 9.34 MiB/s   \r"
     ]
    },
    {
     "name": "stdout",
     "output_type": "stream",
     "text": [
      "Receiving objects:  22% (6226/28296), 4.68 MiB | 9.34 MiB/s   \r",
      "Receiving objects:  23% (6509/28296), 4.68 MiB | 9.34 MiB/s   \r",
      "Receiving objects:  24% (6792/28296), 4.68 MiB | 9.34 MiB/s   \r",
      "Receiving objects:  25% (7074/28296), 4.68 MiB | 9.34 MiB/s   \r",
      "Receiving objects:  26% (7357/28296), 4.68 MiB | 9.34 MiB/s   \r",
      "Receiving objects:  27% (7640/28296), 4.68 MiB | 9.34 MiB/s   \r",
      "Receiving objects:  28% (7923/28296), 4.68 MiB | 9.34 MiB/s   \r"
     ]
    },
    {
     "name": "stdout",
     "output_type": "stream",
     "text": [
      "Receiving objects:  29% (8206/28296), 4.68 MiB | 9.34 MiB/s   \r",
      "Receiving objects:  30% (8489/28296), 4.68 MiB | 9.34 MiB/s   \r",
      "Receiving objects:  31% (8772/28296), 4.68 MiB | 9.34 MiB/s   \r",
      "Receiving objects:  32% (9055/28296), 4.68 MiB | 9.34 MiB/s   \r",
      "Receiving objects:  33% (9338/28296), 4.68 MiB | 9.34 MiB/s   \r",
      "Receiving objects:  34% (9621/28296), 4.68 MiB | 9.34 MiB/s   \r",
      "Receiving objects:  35% (9904/28296), 4.68 MiB | 9.34 MiB/s   \r",
      "Receiving objects:  36% (10187/28296), 4.68 MiB | 9.34 MiB/s   \r",
      "Receiving objects:  37% (10470/28296), 4.68 MiB | 9.34 MiB/s   \r",
      "Receiving objects:  38% (10753/28296), 4.68 MiB | 9.34 MiB/s   \r"
     ]
    },
    {
     "name": "stdout",
     "output_type": "stream",
     "text": [
      "Receiving objects:  39% (11036/28296), 4.68 MiB | 9.34 MiB/s   \r",
      "Receiving objects:  40% (11319/28296), 4.68 MiB | 9.34 MiB/s   \r",
      "Receiving objects:  41% (11602/28296), 4.68 MiB | 9.34 MiB/s   \r",
      "Receiving objects:  42% (11885/28296), 4.68 MiB | 9.34 MiB/s   \r",
      "Receiving objects:  43% (12168/28296), 4.68 MiB | 9.34 MiB/s   \r",
      "Receiving objects:  44% (12451/28296), 4.68 MiB | 9.34 MiB/s   \r",
      "Receiving objects:  45% (12734/28296), 4.68 MiB | 9.34 MiB/s   \r",
      "Receiving objects:  46% (13017/28296), 4.68 MiB | 9.34 MiB/s   \r",
      "Receiving objects:  47% (13300/28296), 4.68 MiB | 9.34 MiB/s   \r",
      "Receiving objects:  48% (13583/28296), 4.68 MiB | 9.34 MiB/s   \r",
      "Receiving objects:  49% (13866/28296), 4.68 MiB | 9.34 MiB/s   \r",
      "Receiving objects:  50% (14148/28296), 4.68 MiB | 9.34 MiB/s   \r",
      "Receiving objects:  51% (14431/28296), 4.68 MiB | 9.34 MiB/s   \r",
      "Receiving objects:  52% (14714/28296), 4.68 MiB | 9.34 MiB/s   \r",
      "Receiving objects:  53% (14997/28296), 4.68 MiB | 9.34 MiB/s   \r",
      "Receiving objects:  54% (15280/28296), 4.68 MiB | 9.34 MiB/s   \r",
      "Receiving objects:  55% (15563/28296), 4.68 MiB | 9.34 MiB/s   \r",
      "Receiving objects:  56% (15846/28296), 4.68 MiB | 9.34 MiB/s   \r",
      "Receiving objects:  57% (16129/28296), 4.68 MiB | 9.34 MiB/s   \r",
      "Receiving objects:  58% (16412/28296), 4.68 MiB | 9.34 MiB/s   \r"
     ]
    },
    {
     "name": "stdout",
     "output_type": "stream",
     "text": [
      "Receiving objects:  59% (16695/28296), 4.68 MiB | 9.34 MiB/s   \r",
      "Receiving objects:  60% (16978/28296), 4.68 MiB | 9.34 MiB/s   \r",
      "Receiving objects:  61% (17261/28296), 4.68 MiB | 9.34 MiB/s   \r",
      "Receiving objects:  62% (17544/28296), 4.68 MiB | 9.34 MiB/s   \r",
      "Receiving objects:  63% (17827/28296), 4.68 MiB | 9.34 MiB/s   \r",
      "Receiving objects:  64% (18110/28296), 4.68 MiB | 9.34 MiB/s   \r",
      "Receiving objects:  65% (18393/28296), 4.68 MiB | 9.34 MiB/s   \r",
      "Receiving objects:  66% (18676/28296), 4.68 MiB | 9.34 MiB/s   \r",
      "Receiving objects:  67% (18959/28296), 4.68 MiB | 9.34 MiB/s   \r",
      "Receiving objects:  68% (19242/28296), 4.68 MiB | 9.34 MiB/s   \r",
      "Receiving objects:  69% (19525/28296), 4.68 MiB | 9.34 MiB/s   \r",
      "Receiving objects:  70% (19808/28296), 4.68 MiB | 9.34 MiB/s   \r",
      "Receiving objects:  71% (20091/28296), 4.68 MiB | 9.34 MiB/s   \r",
      "Receiving objects:  72% (20374/28296), 4.68 MiB | 9.34 MiB/s   \r",
      "Receiving objects:  73% (20657/28296), 4.68 MiB | 9.34 MiB/s   \r",
      "Receiving objects:  74% (20940/28296), 4.68 MiB | 9.34 MiB/s   \r",
      "Receiving objects:  75% (21222/28296), 4.68 MiB | 9.34 MiB/s   \r",
      "Receiving objects:  76% (21505/28296), 4.68 MiB | 9.34 MiB/s   \r",
      "Receiving objects:  77% (21788/28296), 4.68 MiB | 9.34 MiB/s   \r",
      "Receiving objects:  78% (22071/28296), 4.68 MiB | 9.34 MiB/s   \r"
     ]
    },
    {
     "name": "stdout",
     "output_type": "stream",
     "text": [
      "Receiving objects:  79% (22354/28296), 4.68 MiB | 9.34 MiB/s   \r",
      "Receiving objects:  80% (22637/28296), 4.68 MiB | 9.34 MiB/s   \r",
      "Receiving objects:  81% (22920/28296), 4.68 MiB | 9.34 MiB/s   \r",
      "Receiving objects:  82% (23203/28296), 4.68 MiB | 9.34 MiB/s   \r",
      "Receiving objects:  83% (23486/28296), 4.68 MiB | 9.34 MiB/s   \r",
      "Receiving objects:  84% (23769/28296), 4.68 MiB | 9.34 MiB/s   \r",
      "Receiving objects:  85% (24052/28296), 4.68 MiB | 9.34 MiB/s   \r",
      "Receiving objects:  86% (24335/28296), 4.68 MiB | 9.34 MiB/s   \r",
      "Receiving objects:  87% (24618/28296), 4.68 MiB | 9.34 MiB/s   \r",
      "Receiving objects:  88% (24901/28296), 4.68 MiB | 9.34 MiB/s   \r",
      "Receiving objects:  89% (25184/28296), 4.68 MiB | 9.34 MiB/s   \r",
      "Receiving objects:  90% (25467/28296), 4.68 MiB | 9.34 MiB/s   \r",
      "Receiving objects:  91% (25750/28296), 4.68 MiB | 9.34 MiB/s   \r",
      "Receiving objects:  92% (26033/28296), 4.68 MiB | 9.34 MiB/s   \r",
      "Receiving objects:  93% (26316/28296), 4.68 MiB | 9.34 MiB/s   \r",
      "Receiving objects:  94% (26599/28296), 4.68 MiB | 9.34 MiB/s   \r",
      "Receiving objects:  95% (26882/28296), 4.68 MiB | 9.34 MiB/s   \r",
      "Receiving objects:  96% (27165/28296), 4.68 MiB | 9.34 MiB/s   \r",
      "Receiving objects:  97% (27448/28296), 4.68 MiB | 9.34 MiB/s   \r",
      "Receiving objects:  98% (27731/28296), 4.68 MiB | 9.34 MiB/s   \r",
      "remote: Total 28296 (delta 0), reused 0 (delta 0), pack-reused 28296\u001b[K\r\n",
      "Receiving objects:  99% (28014/28296), 4.68 MiB | 9.34 MiB/s   \r",
      "Receiving objects: 100% (28296/28296), 4.68 MiB | 9.34 MiB/s   \r",
      "Receiving objects: 100% (28296/28296), 11.77 MiB | 15.51 MiB/s, done.\r\n",
      "Resolving deltas:   0% (0/21291)   \r",
      "Resolving deltas:   1% (215/21291)   \r",
      "Resolving deltas:   2% (426/21291)   \r"
     ]
    },
    {
     "name": "stdout",
     "output_type": "stream",
     "text": [
      "Resolving deltas:   3% (655/21291)   \r",
      "Resolving deltas:   4% (853/21291)   \r",
      "Resolving deltas:   5% (1065/21291)   \r",
      "Resolving deltas:   6% (1284/21291)   \r",
      "Resolving deltas:   7% (1494/21291)   \r",
      "Resolving deltas:   8% (1706/21291)   \r",
      "Resolving deltas:   9% (1937/21291)   \r",
      "Resolving deltas:  10% (2132/21291)   \r",
      "Resolving deltas:  11% (2361/21291)   \r"
     ]
    },
    {
     "name": "stdout",
     "output_type": "stream",
     "text": [
      "Resolving deltas:  12% (2584/21291)   \r",
      "Resolving deltas:  13% (2776/21291)   \r",
      "Resolving deltas:  14% (2983/21291)   \r",
      "Resolving deltas:  15% (3201/21291)   \r",
      "Resolving deltas:  16% (3422/21291)   \r",
      "Resolving deltas:  17% (3637/21291)   \r",
      "Resolving deltas:  18% (3842/21291)   \r"
     ]
    },
    {
     "name": "stdout",
     "output_type": "stream",
     "text": [
      "Resolving deltas:  19% (4070/21291)   \r",
      "Resolving deltas:  20% (4262/21291)   \r",
      "Resolving deltas:  21% (4478/21291)   \r",
      "Resolving deltas:  22% (4703/21291)   \r",
      "Resolving deltas:  23% (4969/21291)   \r",
      "Resolving deltas:  24% (5114/21291)   \r",
      "Resolving deltas:  25% (5364/21291)   \r",
      "Resolving deltas:  26% (5539/21291)   \r"
     ]
    },
    {
     "name": "stdout",
     "output_type": "stream",
     "text": [
      "Resolving deltas:  27% (5766/21291)   \r",
      "Resolving deltas:  28% (5963/21291)   \r",
      "Resolving deltas:  29% (6185/21291)   \r",
      "Resolving deltas:  30% (6431/21291)   \r",
      "Resolving deltas:  31% (6649/21291)   \r",
      "Resolving deltas:  32% (6833/21291)   \r",
      "Resolving deltas:  33% (7032/21291)   \r",
      "Resolving deltas:  34% (7241/21291)   \r",
      "Resolving deltas:  35% (7497/21291)   \r",
      "Resolving deltas:  36% (7725/21291)   \r"
     ]
    },
    {
     "name": "stdout",
     "output_type": "stream",
     "text": [
      "Resolving deltas:  37% (7993/21291)   \r",
      "Resolving deltas:  38% (8092/21291)   \r",
      "Resolving deltas:  39% (8314/21291)   \r",
      "Resolving deltas:  40% (8561/21291)   \r",
      "Resolving deltas:  41% (8747/21291)   \r",
      "Resolving deltas:  42% (8943/21291)   \r",
      "Resolving deltas:  43% (9182/21291)   \r",
      "Resolving deltas:  44% (9404/21291)   \r",
      "Resolving deltas:  45% (9586/21291)   \r"
     ]
    },
    {
     "name": "stdout",
     "output_type": "stream",
     "text": [
      "Resolving deltas:  46% (9815/21291)   \r",
      "Resolving deltas:  47% (10013/21291)   \r",
      "Resolving deltas:  48% (10224/21291)   \r",
      "Resolving deltas:  49% (10569/21291)   \r",
      "Resolving deltas:  50% (10673/21291)   \r",
      "Resolving deltas:  51% (10859/21291)   \r",
      "Resolving deltas:  52% (11121/21291)   \r",
      "Resolving deltas:  53% (11347/21291)   \r",
      "Resolving deltas:  54% (11501/21291)   \r",
      "Resolving deltas:  55% (11712/21291)   \r",
      "Resolving deltas:  56% (11927/21291)   \r",
      "Resolving deltas:  57% (12146/21291)   \r",
      "Resolving deltas:  58% (12364/21291)   \r",
      "Resolving deltas:  59% (12603/21291)   \r",
      "Resolving deltas:  60% (12793/21291)   \r"
     ]
    },
    {
     "name": "stdout",
     "output_type": "stream",
     "text": [
      "Resolving deltas:  61% (12999/21291)   \r",
      "Resolving deltas:  62% (13214/21291)   \r",
      "Resolving deltas:  63% (13433/21291)   \r",
      "Resolving deltas:  64% (13627/21291)   \r",
      "Resolving deltas:  65% (13860/21291)   \r",
      "Resolving deltas:  66% (14170/21291)   \r",
      "Resolving deltas:  67% (14281/21291)   \r",
      "Resolving deltas:  68% (14548/21291)   \r",
      "Resolving deltas:  69% (14693/21291)   \r",
      "Resolving deltas:  70% (14969/21291)   \r",
      "Resolving deltas:  71% (15126/21291)   \r",
      "Resolving deltas:  72% (15349/21291)   \r",
      "Resolving deltas:  73% (15554/21291)   \r",
      "Resolving deltas:  74% (15763/21291)   \r",
      "Resolving deltas:  75% (15973/21291)   \r",
      "Resolving deltas:  76% (16223/21291)   \r",
      "Resolving deltas:  77% (16397/21291)   \r"
     ]
    },
    {
     "name": "stdout",
     "output_type": "stream",
     "text": [
      "Resolving deltas:  78% (16692/21291)   \r",
      "Resolving deltas:  79% (16855/21291)   \r",
      "Resolving deltas:  80% (17066/21291)   \r",
      "Resolving deltas:  81% (17298/21291)   \r",
      "Resolving deltas:  82% (17494/21291)   \r",
      "Resolving deltas:  83% (17677/21291)   \r",
      "Resolving deltas:  84% (17910/21291)   \r",
      "Resolving deltas:  86% (18392/21291)   \r",
      "Resolving deltas:  87% (18526/21291)   \r",
      "Resolving deltas:  88% (18759/21291)   \r",
      "Resolving deltas:  89% (18967/21291)   \r",
      "Resolving deltas:  90% (19168/21291)   \r",
      "Resolving deltas:  91% (19381/21291)   \r",
      "Resolving deltas:  92% (19595/21291)   \r",
      "Resolving deltas:  93% (19807/21291)   \r",
      "Resolving deltas:  94% (20022/21291)   \r"
     ]
    },
    {
     "name": "stdout",
     "output_type": "stream",
     "text": [
      "Resolving deltas:  95% (20229/21291)   \r",
      "Resolving deltas:  96% (20472/21291)   \r",
      "Resolving deltas:  97% (20708/21291)   \r",
      "Resolving deltas:  98% (20866/21291)   \r",
      "Resolving deltas:  99% (21080/21291)   \r",
      "Resolving deltas: 100% (21291/21291)   \r",
      "Resolving deltas: 100% (21291/21291), done.\r\n"
     ]
    }
   ],
   "source": [
    "!git clone https://github.com/jimregan/fairseq/ --branch issue3581"
   ]
  },
  {
   "cell_type": "code",
   "execution_count": 5,
   "id": "metropolitan-boundary",
   "metadata": {
    "execution": {
     "iopub.execute_input": "2021-06-07T11:18:34.102285Z",
     "iopub.status.busy": "2021-06-07T11:18:34.097624Z",
     "iopub.status.idle": "2021-06-07T11:18:36.138985Z",
     "shell.execute_reply": "2021-06-07T11:18:36.139461Z",
     "shell.execute_reply.started": "2021-05-31T13:58:08.002832Z"
    },
    "papermill": {
     "duration": 2.069187,
     "end_time": "2021-06-07T11:18:36.139677",
     "exception": false,
     "start_time": "2021-06-07T11:18:34.070490",
     "status": "completed"
    },
    "tags": []
   },
   "outputs": [
    {
     "name": "stdout",
     "output_type": "stream",
     "text": [
      "Cloning into 'kenlm'...\r\n"
     ]
    },
    {
     "name": "stdout",
     "output_type": "stream",
     "text": [
      "remote: Enumerating objects: 13824, done.\u001b[K\r\n",
      "remote: Counting objects:   0% (1/137)\u001b[K\r",
      "remote: Counting objects:   1% (2/137)\u001b[K\r",
      "remote: Counting objects:   2% (3/137)\u001b[K\r",
      "remote: Counting objects:   3% (5/137)\u001b[K\r",
      "remote: Counting objects:   4% (6/137)\u001b[K\r",
      "remote: Counting objects:   5% (7/137)\u001b[K\r",
      "remote: Counting objects:   6% (9/137)\u001b[K\r",
      "remote: Counting objects:   7% (10/137)\u001b[K\r",
      "remote: Counting objects:   8% (11/137)\u001b[K\r",
      "remote: Counting objects:   9% (13/137)\u001b[K\r",
      "remote: Counting objects:  10% (14/137)\u001b[K\r",
      "remote: Counting objects:  11% (16/137)\u001b[K\r",
      "remote: Counting objects:  12% (17/137)\u001b[K\r",
      "remote: Counting objects:  13% (18/137)\u001b[K\r",
      "remote: Counting objects:  14% (20/137)\u001b[K\r",
      "remote: Counting objects:  15% (21/137)\u001b[K\r",
      "remote: Counting objects:  16% (22/137)\u001b[K\r",
      "remote: Counting objects:  17% (24/137)\u001b[K\r",
      "remote: Counting objects:  18% (25/137)\u001b[K\r",
      "remote: Counting objects:  19% (27/137)\u001b[K\r",
      "remote: Counting objects:  20% (28/137)\u001b[K\r",
      "remote: Counting objects:  21% (29/137)\u001b[K\r",
      "remote: Counting objects:  22% (31/137)\u001b[K\r",
      "remote: Counting objects:  23% (32/137)\u001b[K\r",
      "remote: Counting objects:  24% (33/137)\u001b[K\r",
      "remote: Counting objects:  25% (35/137)\u001b[K\r",
      "remote: Counting objects:  26% (36/137)\u001b[K\r",
      "remote: Counting objects:  27% (37/137)\u001b[K\r",
      "remote: Counting objects:  28% (39/137)\u001b[K\r",
      "remote: Counting objects:  29% (40/137)\u001b[K\r",
      "remote: Counting objects:  30% (42/137)\u001b[K\r",
      "remote: Counting objects:  31% (43/137)\u001b[K\r",
      "remote: Counting objects:  32% (44/137)\u001b[K\r",
      "remote: Counting objects:  33% (46/137)\u001b[K\r",
      "remote: Counting objects:  34% (47/137)\u001b[K\r",
      "remote: Counting objects:  35% (48/137)\u001b[K\r",
      "remote: Counting objects:  36% (50/137)\u001b[K\r",
      "remote: Counting objects:  37% (51/137)\u001b[K\r",
      "remote: Counting objects:  38% (53/137)\u001b[K\r",
      "remote: Counting objects:  39% (54/137)\u001b[K\r",
      "remote: Counting objects:  40% (55/137)\u001b[K\r",
      "remote: Counting objects:  41% (57/137)\u001b[K\r",
      "remote: Counting objects:  42% (58/137)\u001b[K\r",
      "remote: Counting objects:  43% (59/137)\u001b[K\r",
      "remote: Counting objects:  44% (61/137)\u001b[K\r",
      "remote: Counting objects:  45% (62/137)\u001b[K\r",
      "remote: Counting objects:  46% (64/137)\u001b[K\r",
      "remote: Counting objects:  47% (65/137)\u001b[K\r",
      "remote: Counting objects:  48% (66/137)\u001b[K\r",
      "remote: Counting objects:  49% (68/137)\u001b[K\r",
      "remote: Counting objects:  50% (69/137)\u001b[K\r",
      "remote: Counting objects:  51% (70/137)\u001b[K\r",
      "remote: Counting objects:  52% (72/137)\u001b[K\r",
      "remote: Counting objects:  53% (73/137)\u001b[K\r",
      "remote: Counting objects:  54% (74/137)\u001b[K\r",
      "remote: Counting objects:  55% (76/137)\u001b[K\r",
      "remote: Counting objects:  56% (77/137)\u001b[K\r",
      "remote: Counting objects:  57% (79/137)\u001b[K\r",
      "remote: Counting objects:  58% (80/137)\u001b[K\r",
      "remote: Counting objects:  59% (81/137)\u001b[K\r",
      "remote: Counting objects:  60% (83/137)\u001b[K\r",
      "remote: Counting objects:  61% (84/137)\u001b[K\r",
      "remote: Counting objects:  62% (85/137)\u001b[K\r",
      "remote: Counting objects:  63% (87/137)\u001b[K\r",
      "remote: Counting objects:  64% (88/137)\u001b[K\r",
      "remote: Counting objects:  65% (90/137)\u001b[K\r",
      "remote: Counting objects:  66% (91/137)\u001b[K\r",
      "remote: Counting objects:  67% (92/137)\u001b[K\r",
      "remote: Counting objects:  68% (94/137)\u001b[K\r",
      "remote: Counting objects:  69% (95/137)\u001b[K\r",
      "remote: Counting objects:  70% (96/137)\u001b[K\r",
      "remote: Counting objects:  71% (98/137)\u001b[K\r",
      "remote: Counting objects:  72% (99/137)\u001b[K\r",
      "remote: Counting objects:  73% (101/137)\u001b[K\r",
      "remote: Counting objects:  74% (102/137)\u001b[K\r",
      "remote: Counting objects:  75% (103/137)\u001b[K\r",
      "remote: Counting objects:  76% (105/137)\u001b[K\r",
      "remote: Counting objects:  77% (106/137)\u001b[K\r",
      "remote: Counting objects:  78% (107/137)\u001b[K\r",
      "remote: Counting objects:  79% (109/137)\u001b[K\r",
      "remote: Counting objects:  80% (110/137)\u001b[K\r",
      "remote: Counting objects:  81% (111/137)\u001b[K\r",
      "remote: Counting objects:  82% (113/137)\u001b[K\r",
      "remote: Counting objects:  83% (114/137)\u001b[K\r",
      "remote: Counting objects:  84% (116/137)\u001b[K\r",
      "remote: Counting objects:  85% (117/137)\u001b[K\r",
      "remote: Counting objects:  86% (118/137)\u001b[K\r",
      "remote: Counting objects:  87% (120/137)\u001b[K\r",
      "remote: Counting objects:  88% (121/137)\u001b[K\r",
      "remote: Counting objects:  89% (122/137)\u001b[K\r",
      "remote: Counting objects:  90% (124/137)\u001b[K\r",
      "remote: Counting objects:  91% (125/137)\u001b[K\r",
      "remote: Counting objects:  92% (127/137)\u001b[K\r",
      "remote: Counting objects:  93% (128/137)\u001b[K\r",
      "remote: Counting objects:  94% (129/137)\u001b[K\r",
      "remote: Counting objects:  95% (131/137)\u001b[K\r",
      "remote: Counting objects:  96% (132/137)\u001b[K\r",
      "remote: Counting objects:  97% (133/137)\u001b[K\r",
      "remote: Counting objects:  98% (135/137)\u001b[K\r",
      "remote: Counting objects:  99% (136/137)\u001b[K\r",
      "remote: Counting objects: 100% (137/137)\u001b[K\r",
      "remote: Counting objects: 100% (137/137), done.\u001b[K\r\n",
      "remote: Compressing objects:   1% (1/79)\u001b[K\r",
      "remote: Compressing objects:   2% (2/79)\u001b[K\r",
      "remote: Compressing objects:   3% (3/79)\u001b[K\r",
      "remote: Compressing objects:   5% (4/79)\u001b[K\r",
      "remote: Compressing objects:   6% (5/79)\u001b[K\r",
      "remote: Compressing objects:   7% (6/79)\u001b[K\r",
      "remote: Compressing objects:   8% (7/79)\u001b[K\r",
      "remote: Compressing objects:  10% (8/79)\u001b[K\r",
      "remote: Compressing objects:  11% (9/79)\u001b[K\r",
      "remote: Compressing objects:  12% (10/79)\u001b[K\r",
      "remote: Compressing objects:  13% (11/79)\u001b[K\r",
      "remote: Compressing objects:  15% (12/79)\u001b[K\r",
      "remote: Compressing objects:  16% (13/79)\u001b[K\r",
      "remote: Compressing objects:  17% (14/79)\u001b[K\r",
      "remote: Compressing objects:  18% (15/79)\u001b[K\r"
     ]
    },
    {
     "name": "stdout",
     "output_type": "stream",
     "text": [
      "remote: Compressing objects:  20% (16/79)\u001b[K\r",
      "remote: Compressing objects:  21% (17/79)\u001b[K\r",
      "remote: Compressing objects:  22% (18/79)\u001b[K\r",
      "remote: Compressing objects:  24% (19/79)\u001b[K\r",
      "remote: Compressing objects:  25% (20/79)\u001b[K\r",
      "remote: Compressing objects:  26% (21/79)\u001b[K\r",
      "remote: Compressing objects:  27% (22/79)\u001b[K\r",
      "remote: Compressing objects:  29% (23/79)\u001b[K\r",
      "remote: Compressing objects:  30% (24/79)\u001b[K\r",
      "remote: Compressing objects:  31% (25/79)\u001b[K\r",
      "remote: Compressing objects:  32% (26/79)\u001b[K\r",
      "remote: Compressing objects:  34% (27/79)\u001b[K\r",
      "remote: Compressing objects:  35% (28/79)\u001b[K\r",
      "remote: Compressing objects:  36% (29/79)\u001b[K\r",
      "remote: Compressing objects:  37% (30/79)\u001b[K\r",
      "remote: Compressing objects:  39% (31/79)\u001b[K\r",
      "remote: Compressing objects:  40% (32/79)\u001b[K\r",
      "remote: Compressing objects:  41% (33/79)\u001b[K\r",
      "remote: Compressing objects:  43% (34/79)\u001b[K\r",
      "remote: Compressing objects:  44% (35/79)\u001b[K\r",
      "remote: Compressing objects:  45% (36/79)\u001b[K\r",
      "remote: Compressing objects:  46% (37/79)\u001b[K\r",
      "remote: Compressing objects:  48% (38/79)\u001b[K\r",
      "remote: Compressing objects:  49% (39/79)\u001b[K\r",
      "remote: Compressing objects:  50% (40/79)\u001b[K\r",
      "remote: Compressing objects:  51% (41/79)\u001b[K\r",
      "remote: Compressing objects:  53% (42/79)\u001b[K\r",
      "remote: Compressing objects:  54% (43/79)\u001b[K\r",
      "remote: Compressing objects:  55% (44/79)\u001b[K\r",
      "remote: Compressing objects:  56% (45/79)\u001b[K\r",
      "remote: Compressing objects:  58% (46/79)\u001b[K\r",
      "remote: Compressing objects:  59% (47/79)\u001b[K\r",
      "remote: Compressing objects:  60% (48/79)\u001b[K\r",
      "remote: Compressing objects:  62% (49/79)\u001b[K\r",
      "remote: Compressing objects:  63% (50/79)\u001b[K\r",
      "remote: Compressing objects:  64% (51/79)\u001b[K\r",
      "remote: Compressing objects:  65% (52/79)\u001b[K\r",
      "remote: Compressing objects:  67% (53/79)\u001b[K\r",
      "remote: Compressing objects:  68% (54/79)\u001b[K\r",
      "remote: Compressing objects:  69% (55/79)\u001b[K\r",
      "remote: Compressing objects:  70% (56/79)\u001b[K\r",
      "remote: Compressing objects:  72% (57/79)\u001b[K\r",
      "remote: Compressing objects:  73% (58/79)\u001b[K\r",
      "remote: Compressing objects:  74% (59/79)\u001b[K\r",
      "remote: Compressing objects:  75% (60/79)\u001b[K\r",
      "remote: Compressing objects:  77% (61/79)\u001b[K\r",
      "remote: Compressing objects:  78% (62/79)\u001b[K\r",
      "remote: Compressing objects:  79% (63/79)\u001b[K\r",
      "remote: Compressing objects:  81% (64/79)\u001b[K\r",
      "remote: Compressing objects:  82% (65/79)\u001b[K\r",
      "remote: Compressing objects:  83% (66/79)\u001b[K\r",
      "remote: Compressing objects:  84% (67/79)\u001b[K\r",
      "remote: Compressing objects:  86% (68/79)\u001b[K\r",
      "remote: Compressing objects:  87% (69/79)\u001b[K\r",
      "remote: Compressing objects:  88% (70/79)\u001b[K\r",
      "remote: Compressing objects:  89% (71/79)\u001b[K\r",
      "remote: Compressing objects:  91% (72/79)\u001b[K\r",
      "remote: Compressing objects:  92% (73/79)\u001b[K\r",
      "remote: Compressing objects:  93% (74/79)\u001b[K\r",
      "remote: Compressing objects:  94% (75/79)\u001b[K\r",
      "remote: Compressing objects:  96% (76/79)\u001b[K\r",
      "remote: Compressing objects:  97% (77/79)\u001b[K\r",
      "remote: Compressing objects:  98% (78/79)\u001b[K\r",
      "remote: Compressing objects: 100% (79/79)\u001b[K\r",
      "remote: Compressing objects: 100% (79/79), done.\u001b[K\r\n",
      "Receiving objects:   0% (1/13824)   \r"
     ]
    },
    {
     "name": "stdout",
     "output_type": "stream",
     "text": [
      "Receiving objects:   1% (139/13824)   \r",
      "Receiving objects:   2% (277/13824)   \r"
     ]
    },
    {
     "name": "stdout",
     "output_type": "stream",
     "text": [
      "Receiving objects:   3% (415/13824)   \r",
      "Receiving objects:   4% (553/13824)   \r",
      "Receiving objects:   5% (692/13824)   \r",
      "Receiving objects:   6% (830/13824)   \r",
      "Receiving objects:   7% (968/13824)   \r"
     ]
    },
    {
     "name": "stdout",
     "output_type": "stream",
     "text": [
      "Receiving objects:   8% (1106/13824)   \r",
      "Receiving objects:   9% (1245/13824)   \r",
      "Receiving objects:  10% (1383/13824)   \r",
      "Receiving objects:  11% (1521/13824)   \r",
      "Receiving objects:  12% (1659/13824)   \r",
      "Receiving objects:  13% (1798/13824)   \r",
      "Receiving objects:  14% (1936/13824)   \r",
      "Receiving objects:  15% (2074/13824)   \r",
      "Receiving objects:  16% (2212/13824)   \r"
     ]
    },
    {
     "name": "stdout",
     "output_type": "stream",
     "text": [
      "Receiving objects:  17% (2351/13824)   \r",
      "Receiving objects:  18% (2489/13824)   \r",
      "Receiving objects:  19% (2627/13824)   \r",
      "Receiving objects:  20% (2765/13824)   \r"
     ]
    },
    {
     "name": "stdout",
     "output_type": "stream",
     "text": [
      "Receiving objects:  21% (2904/13824)   \r",
      "Receiving objects:  22% (3042/13824)   \r",
      "Receiving objects:  23% (3180/13824)   \r"
     ]
    },
    {
     "name": "stdout",
     "output_type": "stream",
     "text": [
      "Receiving objects:  24% (3318/13824)   \r",
      "Receiving objects:  25% (3456/13824)   \r",
      "Receiving objects:  26% (3595/13824)   \r",
      "Receiving objects:  27% (3733/13824)   \r",
      "Receiving objects:  28% (3871/13824)   \r",
      "Receiving objects:  29% (4009/13824)   \r"
     ]
    },
    {
     "name": "stdout",
     "output_type": "stream",
     "text": [
      "Receiving objects:  30% (4148/13824)   \r",
      "Receiving objects:  31% (4286/13824)   \r",
      "Receiving objects:  32% (4424/13824)   \r",
      "Receiving objects:  33% (4562/13824)   \r",
      "Receiving objects:  34% (4701/13824)   \r",
      "Receiving objects:  35% (4839/13824)   \r",
      "Receiving objects:  36% (4977/13824)   \r",
      "Receiving objects:  37% (5115/13824)   \r",
      "Receiving objects:  38% (5254/13824)   \r",
      "Receiving objects:  39% (5392/13824)   \r",
      "Receiving objects:  40% (5530/13824)   \r",
      "Receiving objects:  41% (5668/13824)   \r",
      "Receiving objects:  42% (5807/13824)   \r",
      "Receiving objects:  43% (5945/13824)   \r",
      "Receiving objects:  44% (6083/13824)   \r",
      "Receiving objects:  45% (6221/13824)   \r",
      "Receiving objects:  46% (6360/13824)   \r",
      "Receiving objects:  47% (6498/13824)   \r",
      "Receiving objects:  48% (6636/13824)   \r",
      "Receiving objects:  49% (6774/13824)   \r",
      "Receiving objects:  50% (6912/13824)   \r",
      "Receiving objects:  51% (7051/13824)   \r",
      "Receiving objects:  52% (7189/13824)   \r",
      "Receiving objects:  53% (7327/13824)   \r",
      "Receiving objects:  54% (7465/13824)   \r",
      "Receiving objects:  55% (7604/13824)   \r",
      "Receiving objects:  56% (7742/13824)   \r",
      "Receiving objects:  57% (7880/13824)   \r",
      "Receiving objects:  58% (8018/13824)   \r",
      "Receiving objects:  59% (8157/13824)   \r",
      "Receiving objects:  60% (8295/13824)   \r",
      "Receiving objects:  61% (8433/13824)   \r",
      "Receiving objects:  62% (8571/13824)   \r",
      "Receiving objects:  63% (8710/13824)   \r",
      "Receiving objects:  64% (8848/13824)   \r"
     ]
    },
    {
     "name": "stdout",
     "output_type": "stream",
     "text": [
      "Receiving objects:  65% (8986/13824)   \r",
      "Receiving objects:  66% (9124/13824)   \r",
      "Receiving objects:  67% (9263/13824)   \r",
      "Receiving objects:  68% (9401/13824)   \r",
      "Receiving objects:  69% (9539/13824)   \r",
      "Receiving objects:  70% (9677/13824)   \r",
      "Receiving objects:  71% (9816/13824)   \r",
      "Receiving objects:  72% (9954/13824)   \r",
      "Receiving objects:  73% (10092/13824)   \r",
      "Receiving objects:  74% (10230/13824)   \r",
      "Receiving objects:  75% (10368/13824)   \r",
      "Receiving objects:  76% (10507/13824)   \r",
      "Receiving objects:  77% (10645/13824)   \r",
      "Receiving objects:  78% (10783/13824)   \r",
      "Receiving objects:  79% (10921/13824)   \r",
      "Receiving objects:  80% (11060/13824)   \r",
      "Receiving objects:  81% (11198/13824)   \r",
      "Receiving objects:  82% (11336/13824)   \r",
      "Receiving objects:  83% (11474/13824)   \r",
      "Receiving objects:  84% (11613/13824)   \r",
      "Receiving objects:  85% (11751/13824)   \r"
     ]
    },
    {
     "name": "stdout",
     "output_type": "stream",
     "text": [
      "Receiving objects:  86% (11889/13824)   \r",
      "Receiving objects:  87% (12027/13824)   \r",
      "Receiving objects:  88% (12166/13824)   \r",
      "Receiving objects:  89% (12304/13824)   \r",
      "Receiving objects:  90% (12442/13824)   \r",
      "Receiving objects:  91% (12580/13824)   \r",
      "Receiving objects:  92% (12719/13824)   \r",
      "Receiving objects:  93% (12857/13824)   \r",
      "Receiving objects:  94% (12995/13824)   \r",
      "Receiving objects:  95% (13133/13824)   \r",
      "Receiving objects:  96% (13272/13824)   \r",
      "Receiving objects:  97% (13410/13824)   \r",
      "Receiving objects:  98% (13548/13824)   \r",
      "remote: Total 13824 (delta 76), reused 92 (delta 45), pack-reused 13687\u001b[K\r\n"
     ]
    },
    {
     "name": "stdout",
     "output_type": "stream",
     "text": [
      "Receiving objects:  99% (13686/13824), 5.42 MiB | 10.83 MiB/s   \r",
      "Receiving objects: 100% (13824/13824), 5.42 MiB | 10.83 MiB/s   \r",
      "Receiving objects: 100% (13824/13824), 5.49 MiB | 10.90 MiB/s, done.\r\n",
      "Resolving deltas:   0% (0/7956)   \r",
      "Resolving deltas:   1% (80/7956)   \r",
      "Resolving deltas:   2% (175/7956)   \r",
      "Resolving deltas:   3% (249/7956)   \r",
      "Resolving deltas:   4% (319/7956)   \r",
      "Resolving deltas:   5% (402/7956)   \r",
      "Resolving deltas:   6% (478/7956)   \r",
      "Resolving deltas:   7% (562/7956)   \r",
      "Resolving deltas:   8% (642/7956)   \r",
      "Resolving deltas:   9% (724/7956)   \r",
      "Resolving deltas:  10% (796/7956)   \r",
      "Resolving deltas:  11% (881/7956)   \r",
      "Resolving deltas:  12% (955/7956)   \r",
      "Resolving deltas:  13% (1036/7956)   \r",
      "Resolving deltas:  14% (1123/7956)   \r",
      "Resolving deltas:  15% (1197/7956)   \r",
      "Resolving deltas:  16% (1280/7956)   \r",
      "Resolving deltas:  17% (1353/7956)   \r",
      "Resolving deltas:  18% (1453/7956)   \r",
      "Resolving deltas:  19% (1512/7956)   \r",
      "Resolving deltas:  20% (1596/7956)   \r",
      "Resolving deltas:  21% (1678/7956)   \r",
      "Resolving deltas:  22% (1798/7956)   \r",
      "Resolving deltas:  23% (1837/7956)   \r",
      "Resolving deltas:  24% (1910/7956)   \r",
      "Resolving deltas:  25% (1995/7956)   \r"
     ]
    },
    {
     "name": "stdout",
     "output_type": "stream",
     "text": [
      "Resolving deltas:  26% (2142/7956)   \r",
      "Resolving deltas:  27% (2150/7956)   \r",
      "Resolving deltas:  28% (2288/7956)   \r",
      "Resolving deltas:  29% (2324/7956)   \r",
      "Resolving deltas:  32% (2572/7956)   \r",
      "Resolving deltas:  33% (2629/7956)   \r",
      "Resolving deltas:  34% (2717/7956)   \r",
      "Resolving deltas:  35% (2802/7956)   \r",
      "Resolving deltas:  36% (2872/7956)   \r",
      "Resolving deltas:  37% (2962/7956)   \r",
      "Resolving deltas:  39% (3122/7956)   \r",
      "Resolving deltas:  40% (3185/7956)   \r",
      "Resolving deltas:  42% (3355/7956)   \r",
      "Resolving deltas:  43% (3434/7956)   \r",
      "Resolving deltas:  44% (3522/7956)   \r",
      "Resolving deltas:  45% (3583/7956)   \r",
      "Resolving deltas:  46% (3712/7956)   \r",
      "Resolving deltas:  47% (3741/7956)   \r",
      "Resolving deltas:  48% (3826/7956)   \r",
      "Resolving deltas:  49% (3902/7956)   \r",
      "Resolving deltas:  50% (3987/7956)   \r",
      "Resolving deltas:  57% (4550/7956)   \r",
      "Resolving deltas:  58% (4692/7956)   \r",
      "Resolving deltas:  59% (4705/7956)   \r",
      "Resolving deltas:  60% (4791/7956)   \r",
      "Resolving deltas:  61% (4855/7956)   \r",
      "Resolving deltas:  62% (4945/7956)   \r",
      "Resolving deltas:  63% (5014/7956)   \r",
      "Resolving deltas:  64% (5145/7956)   \r",
      "Resolving deltas:  65% (5211/7956)   \r",
      "Resolving deltas:  66% (5256/7956)   \r"
     ]
    },
    {
     "name": "stdout",
     "output_type": "stream",
     "text": [
      "Resolving deltas:  68% (5419/7956)   \r",
      "Resolving deltas:  69% (5501/7956)   \r",
      "Resolving deltas:  70% (5596/7956)   \r",
      "Resolving deltas:  71% (5655/7956)   \r",
      "Resolving deltas:  72% (5729/7956)   \r",
      "Resolving deltas:  73% (5839/7956)   \r",
      "Resolving deltas:  74% (5890/7956)   \r",
      "Resolving deltas:  75% (5969/7956)   \r",
      "Resolving deltas:  76% (6050/7956)   \r",
      "Resolving deltas:  77% (6129/7956)   \r",
      "Resolving deltas:  78% (6212/7956)   \r",
      "Resolving deltas:  79% (6290/7956)   \r",
      "Resolving deltas:  80% (6367/7956)   \r",
      "Resolving deltas:  81% (6445/7956)   \r",
      "Resolving deltas:  82% (6526/7956)   \r",
      "Resolving deltas:  83% (6624/7956)   \r",
      "Resolving deltas:  84% (6690/7956)   \r",
      "Resolving deltas:  85% (6782/7956)   \r",
      "Resolving deltas:  86% (6843/7956)   \r",
      "Resolving deltas:  87% (6929/7956)   \r",
      "Resolving deltas:  88% (7007/7956)   \r",
      "Resolving deltas:  89% (7098/7956)   \r",
      "Resolving deltas:  90% (7166/7956)   \r",
      "Resolving deltas:  91% (7242/7956)   \r",
      "Resolving deltas:  92% (7324/7956)   \r",
      "Resolving deltas:  93% (7400/7956)   \r",
      "Resolving deltas:  94% (7480/7956)   \r",
      "Resolving deltas:  95% (7565/7956)   \r",
      "Resolving deltas:  96% (7638/7956)   \r",
      "Resolving deltas:  97% (7722/7956)   \r",
      "Resolving deltas:  98% (7799/7956)   \r",
      "Resolving deltas:  99% (7892/7956)   \r",
      "Resolving deltas: 100% (7956/7956)   \r",
      "Resolving deltas: 100% (7956/7956), done.\r\n"
     ]
    }
   ],
   "source": [
    "!git clone https://github.com/kpu/kenlm"
   ]
  },
  {
   "cell_type": "code",
   "execution_count": 6,
   "id": "ceramic-morgan",
   "metadata": {
    "execution": {
     "iopub.execute_input": "2021-06-07T11:18:36.204673Z",
     "iopub.status.busy": "2021-06-07T11:18:36.200350Z",
     "iopub.status.idle": "2021-06-07T11:18:42.390417Z",
     "shell.execute_reply": "2021-06-07T11:18:42.389418Z",
     "shell.execute_reply.started": "2021-05-31T13:58:12.001162Z"
    },
    "papermill": {
     "duration": 6.224394,
     "end_time": "2021-06-07T11:18:42.390580",
     "exception": false,
     "start_time": "2021-06-07T11:18:36.166186",
     "status": "completed"
    },
    "tags": []
   },
   "outputs": [],
   "source": [
    "%%capture\n",
    "!apt-get -y install libeigen3-dev liblzma-dev zlib1g-dev libbz2-dev"
   ]
  },
  {
   "cell_type": "code",
   "execution_count": 7,
   "id": "facial-jewelry",
   "metadata": {
    "execution": {
     "iopub.execute_input": "2021-06-07T11:18:42.452927Z",
     "iopub.status.busy": "2021-06-07T11:18:42.452266Z",
     "iopub.status.idle": "2021-06-07T11:19:56.772143Z",
     "shell.execute_reply": "2021-06-07T11:19:56.772630Z"
    },
    "papermill": {
     "duration": 74.356175,
     "end_time": "2021-06-07T11:19:56.772852",
     "exception": false,
     "start_time": "2021-06-07T11:18:42.416677",
     "status": "completed"
    },
    "tags": []
   },
   "outputs": [],
   "source": [
    "\n",
    "%%capture\n",
    "%cd kenlm\n",
    "!mkdir build\n",
    "%cd build\n",
    "!cmake ..\n",
    "!make -j 4\n",
    "%cd /tmp"
   ]
  },
  {
   "cell_type": "code",
   "execution_count": 8,
   "id": "willing-approval",
   "metadata": {
    "execution": {
     "iopub.execute_input": "2021-06-07T11:19:56.833887Z",
     "iopub.status.busy": "2021-06-07T11:19:56.833170Z",
     "iopub.status.idle": "2021-06-07T11:20:36.305552Z",
     "shell.execute_reply": "2021-06-07T11:20:36.304961Z",
     "shell.execute_reply.started": "2021-05-31T14:00:27.915818Z"
    },
    "papermill": {
     "duration": 39.506245,
     "end_time": "2021-06-07T11:20:36.305738",
     "exception": false,
     "start_time": "2021-06-07T11:19:56.799493",
     "status": "completed"
    },
    "tags": []
   },
   "outputs": [],
   "source": [
    "%%capture\n",
    "%cd /tmp/kenlm\n",
    "!python setup.py install\n",
    "%cd /tmp"
   ]
  },
  {
   "cell_type": "code",
   "execution_count": 9,
   "id": "comic-convert",
   "metadata": {
    "execution": {
     "iopub.execute_input": "2021-06-07T11:20:36.368840Z",
     "iopub.status.busy": "2021-06-07T11:20:36.367976Z",
     "iopub.status.idle": "2021-06-07T11:20:36.371214Z",
     "shell.execute_reply": "2021-06-07T11:20:36.370530Z",
     "shell.execute_reply.started": "2021-05-25T22:58:58.397816Z"
    },
    "papermill": {
     "duration": 0.035858,
     "end_time": "2021-06-07T11:20:36.371378",
     "exception": false,
     "start_time": "2021-06-07T11:20:36.335520",
     "status": "completed"
    },
    "tags": []
   },
   "outputs": [],
   "source": [
    "import os\n",
    "os.environ['PATH'] = f\"{os.environ['PATH']}:/tmp/kenlm/build/bin/\"\n",
    "os.environ['FAIRSEQ_ROOT'] = '/tmp/fairseq'"
   ]
  },
  {
   "cell_type": "code",
   "execution_count": 10,
   "id": "reasonable-divide",
   "metadata": {
    "execution": {
     "iopub.execute_input": "2021-06-07T11:20:36.427650Z",
     "iopub.status.busy": "2021-06-07T11:20:36.427052Z",
     "iopub.status.idle": "2021-06-07T11:20:36.434335Z",
     "shell.execute_reply": "2021-06-07T11:20:36.433618Z",
     "shell.execute_reply.started": "2021-05-31T11:51:49.832574Z"
    },
    "papermill": {
     "duration": 0.03622,
     "end_time": "2021-06-07T11:20:36.434509",
     "exception": false,
     "start_time": "2021-06-07T11:20:36.398289",
     "status": "completed"
    },
    "tags": []
   },
   "outputs": [
    {
     "name": "stdout",
     "output_type": "stream",
     "text": [
      "/tmp/fairseq\n"
     ]
    }
   ],
   "source": [
    "%cd /tmp/fairseq/"
   ]
  },
  {
   "cell_type": "code",
   "execution_count": 11,
   "id": "reliable-buyer",
   "metadata": {
    "execution": {
     "iopub.execute_input": "2021-06-07T11:20:36.494859Z",
     "iopub.status.busy": "2021-06-07T11:20:36.494196Z",
     "iopub.status.idle": "2021-06-07T11:21:59.702594Z",
     "shell.execute_reply": "2021-06-07T11:21:59.701578Z"
    },
    "papermill": {
     "duration": 83.241887,
     "end_time": "2021-06-07T11:21:59.703017",
     "exception": false,
     "start_time": "2021-06-07T11:20:36.461130",
     "status": "completed"
    },
    "tags": []
   },
   "outputs": [],
   "source": [
    "%%capture\n",
    "!python setup.py install"
   ]
  },
  {
   "cell_type": "code",
   "execution_count": 12,
   "id": "breathing-happening",
   "metadata": {
    "execution": {
     "iopub.execute_input": "2021-06-07T11:21:59.769707Z",
     "iopub.status.busy": "2021-06-07T11:21:59.768980Z",
     "iopub.status.idle": "2021-06-07T11:21:59.771754Z",
     "shell.execute_reply": "2021-06-07T11:21:59.772292Z"
    },
    "papermill": {
     "duration": 0.039719,
     "end_time": "2021-06-07T11:21:59.772489",
     "exception": false,
     "start_time": "2021-06-07T11:21:59.732770",
     "status": "completed"
    },
    "tags": []
   },
   "outputs": [
    {
     "name": "stdout",
     "output_type": "stream",
     "text": [
      "/tmp/fairseq\n"
     ]
    }
   ],
   "source": [
    "%cd /tmp/fairseq/"
   ]
  },
  {
   "cell_type": "code",
   "execution_count": 13,
   "id": "proof-affect",
   "metadata": {
    "execution": {
     "iopub.execute_input": "2021-06-07T11:21:59.832781Z",
     "iopub.status.busy": "2021-06-07T11:21:59.832171Z",
     "iopub.status.idle": "2021-06-07T11:21:59.836084Z",
     "shell.execute_reply": "2021-06-07T11:21:59.836655Z"
    },
    "papermill": {
     "duration": 0.037126,
     "end_time": "2021-06-07T11:21:59.836879",
     "exception": false,
     "start_time": "2021-06-07T11:21:59.799753",
     "status": "completed"
    },
    "tags": []
   },
   "outputs": [],
   "source": [
    "os.environ['HYDRA_FULL_ERROR'] = '1'"
   ]
  },
  {
   "cell_type": "code",
   "execution_count": 14,
   "id": "third-momentum",
   "metadata": {
    "execution": {
     "iopub.execute_input": "2021-06-07T11:21:59.896252Z",
     "iopub.status.busy": "2021-06-07T11:21:59.895521Z",
     "iopub.status.idle": "2021-06-07T11:22:08.742794Z",
     "shell.execute_reply": "2021-06-07T11:22:08.742202Z"
    },
    "papermill": {
     "duration": 8.878797,
     "end_time": "2021-06-07T11:22:08.743001",
     "exception": false,
     "start_time": "2021-06-07T11:21:59.864204",
     "status": "completed"
    },
    "tags": []
   },
   "outputs": [],
   "source": [
    "%%capture\n",
    "!pip install editdistance"
   ]
  },
  {
   "cell_type": "markdown",
   "id": "connected-south",
   "metadata": {
    "papermill": {
     "duration": 0.027728,
     "end_time": "2021-06-07T11:22:08.798922",
     "exception": false,
     "start_time": "2021-06-07T11:22:08.771194",
     "status": "completed"
    },
    "tags": []
   },
   "source": [
    "## GAN"
   ]
  },
  {
   "cell_type": "code",
   "execution_count": 15,
   "id": "bulgarian-onion",
   "metadata": {
    "execution": {
     "iopub.execute_input": "2021-06-07T11:22:08.862518Z",
     "iopub.status.busy": "2021-06-07T11:22:08.861881Z",
     "iopub.status.idle": "2021-06-07T11:22:08.866545Z",
     "shell.execute_reply": "2021-06-07T11:22:08.867158Z"
    },
    "papermill": {
     "duration": 0.040612,
     "end_time": "2021-06-07T11:22:08.867332",
     "exception": false,
     "start_time": "2021-06-07T11:22:08.826720",
     "status": "completed"
    },
    "tags": []
   },
   "outputs": [
    {
     "name": "stdout",
     "output_type": "stream",
     "text": [
      "Writing rungan.sh\n"
     ]
    }
   ],
   "source": [
    "%%writefile rungan.sh\n",
    "PREFIX=w2v_unsup_gan_xp\n",
    "#TASK_DATA=/path/to/features/unfiltered/precompute_unfiltered_pca512_cls128_mean_pooled\n",
    "TASK_DATA=/kaggle/input/wav2vec-u-cv-swedish-audio/precompute_pca512_cls128_mean_pooled/\n",
    "#TEXT_DATA=/path/to/data  # path to fairseq-preprocessed GAN data\n",
    "TEXT_DATA=/kaggle/input/wav2vec-u-cv-swedish-text-prep/preppedtext/phones/\n",
    "#KENLM_PATH=/path/to/data/kenlm.phn.o4.bin  # KenLM 4-gram phoneme language model (LM data = GAN data here)\n",
    "KENLM_PATH=/kaggle/input/wav2vec-u-cv-swedish-text-prep/preppedtext/phones/lm.phones.filtered.04.bin\n",
    "\n",
    "PREFIX=$PREFIX fairseq-hydra-train \\\n",
    "\t-m --config-dir fairseq/config/model/wav2vecu/gan \\\n",
    "\t--config-name w2vu \\\n",
    "\ttask.data=${TASK_DATA} \\\n",
    "\ttask.text_data=${TEXT_DATA} \\\n",
    "\ttask.kenlm_path=${KENLM_PATH} \\\n",
    "\tcheckpoint.no_epoch_checkpoints=true \\\n",
    "\tcheckpoint.save_dir=/kaggle/working \\\n",
    "\t'common.seed=range(0,5)'"
   ]
  },
  {
   "cell_type": "code",
   "execution_count": 16,
   "id": "favorite-nicholas",
   "metadata": {
    "execution": {
     "iopub.execute_input": "2021-06-07T11:22:08.925608Z",
     "iopub.status.busy": "2021-06-07T11:22:08.924981Z"
    },
    "papermill": {
     "duration": null,
     "end_time": null,
     "exception": false,
     "start_time": "2021-06-07T11:22:08.894532",
     "status": "running"
    },
    "tags": []
   },
   "outputs": [
    {
     "name": "stdout",
     "output_type": "stream",
     "text": [
      "[2021-06-07 11:22:23,934][HYDRA] Launching 5 jobs locally\r\n",
      "[2021-06-07 11:22:23,934][HYDRA] \t#0 : task.data=/kaggle/input/wav2vec-u-cv-swedish-audio/precompute_pca512_cls128_mean_pooled/ task.text_data=/kaggle/input/wav2vec-u-cv-swedish-text-prep/preppedtext/phones/ task.kenlm_path=/kaggle/input/wav2vec-u-cv-swedish-text-prep/preppedtext/phones/lm.phones.filtered.04.bin checkpoint.no_epoch_checkpoints=True checkpoint.save_dir=/kaggle/working common.seed=0\r\n"
     ]
    },
    {
     "name": "stdout",
     "output_type": "stream",
     "text": [
      "[2021-06-07 11:22:26,211][fairseq_cli.train][INFO] - {'_name': None, 'common': {'_name': None, 'no_progress_bar': False, 'log_interval': 100, 'log_format': 'json', 'log_file': None, 'tensorboard_logdir': 'tb', 'wandb_project': None, 'azureml_logging': False, 'seed': 0, 'cpu': False, 'tpu': False, 'bf16': False, 'memory_efficient_bf16': False, 'fp16': False, 'memory_efficient_fp16': False, 'fp16_no_flatten_grads': True, 'fp16_init_scale': 128, 'fp16_scale_window': None, 'fp16_scale_tolerance': 0.0, 'min_loss_scale': 0.0001, 'threshold_loss_scale': None, 'amp': False, 'amp_batch_retries': 2, 'amp_init_scale': 128, 'amp_scale_window': None, 'user_dir': None, 'empty_cache_freq': 0, 'all_gather_list_size': 16384, 'model_parallel_size': 1, 'quantization_config_path': None, 'profile': False, 'reset_logging': False, 'suppress_crashes': False, 'use_plasma_view': False, 'plasma_path': '/tmp/plasma'}, 'common_eval': {'_name': None, 'path': None, 'post_process': None, 'quiet': False, 'model_overrides': '{}', 'results_path': None}, 'distributed_training': {'_name': None, 'distributed_world_size': 1, 'distributed_rank': 0, 'distributed_backend': 'nccl', 'distributed_init_method': None, 'distributed_port': -1, 'device_id': 0, 'distributed_no_spawn': False, 'ddp_backend': 'pytorch_ddp', 'ddp_comm_hook': 'none', 'bucket_cap_mb': 25, 'fix_batches_to_gpus': False, 'find_unused_parameters': False, 'fast_stat_sync': False, 'heartbeat_timeout': -1, 'broadcast_buffers': False, 'slowmo_momentum': None, 'slowmo_algorithm': 'LocalSGD', 'localsgd_frequency': 3, 'nprocs_per_node': 1, 'pipeline_model_parallel': False, 'pipeline_balance': None, 'pipeline_devices': None, 'pipeline_chunks': 0, 'pipeline_encoder_balance': None, 'pipeline_encoder_devices': None, 'pipeline_decoder_balance': None, 'pipeline_decoder_devices': None, 'pipeline_checkpoint': 'never', 'zero_sharding': 'none', 'fp16': False, 'memory_efficient_fp16': False, 'tpu': False, 'no_reshard_after_forward': False, 'fp32_reduce_scatter': False, 'cpu_offload': False, 'use_sharded_state': False, 'distributed_num_procs': 0}, 'dataset': {'_name': None, 'num_workers': 6, 'skip_invalid_size_inputs_valid_test': True, 'max_tokens': None, 'batch_size': 160, 'required_batch_size_multiple': 8, 'required_seq_len_multiple': 1, 'dataset_impl': None, 'data_buffer_size': 10, 'train_subset': 'train', 'valid_subset': 'valid', 'combine_valid_subsets': None, 'ignore_unused_valid_subsets': False, 'validate_interval': 1, 'validate_interval_updates': 0, 'validate_after_updates': 0, 'fixed_validation_seed': None, 'disable_validation': False, 'max_tokens_valid': None, 'batch_size_valid': 160, 'max_valid_steps': None, 'curriculum': 0, 'gen_subset': 'test', 'num_shards': 1, 'shard_id': 0}, 'optimization': {'_name': None, 'max_epoch': 0, 'max_update': 150000, 'stop_time_hours': 0.0, 'clip_norm': 5.0, 'sentence_avg': False, 'update_freq': [1], 'lr': [0.0], 'stop_min_lr': -1.0, 'use_bmuf': False}, 'checkpoint': {'_name': None, 'save_dir': '/kaggle/working', 'restore_file': 'checkpoint_last.pt', 'finetune_from_model': None, 'reset_dataloader': False, 'reset_lr_scheduler': False, 'reset_meters': False, 'reset_optimizer': False, 'optimizer_overrides': '{}', 'save_interval': 1, 'save_interval_updates': 0, 'keep_interval_updates': -1, 'keep_interval_updates_pattern': -1, 'keep_last_epochs': -1, 'keep_best_checkpoints': -1, 'no_save': False, 'no_epoch_checkpoints': True, 'no_last_checkpoints': False, 'no_save_optimizer_state': False, 'best_checkpoint_metric': 'weighted_lm_ppl', 'maximize_best_checkpoint_metric': False, 'patience': -1, 'checkpoint_suffix': '', 'checkpoint_shard_count': 1, 'load_checkpoint_on_all_dp_ranks': False, 'write_checkpoints_asynchronously': False, 'model_parallel_size': 1}, 'bmuf': {'_name': None, 'block_lr': 1.0, 'block_momentum': 0.875, 'global_sync_iter': 50, 'warmup_iterations': 500, 'use_nbm': False, 'average_sync': False, 'distributed_world_size': 1}, 'generation': {'_name': None, 'beam': 5, 'nbest': 1, 'max_len_a': 0.0, 'max_len_b': 200, 'min_len': 1, 'match_source_len': False, 'unnormalized': False, 'no_early_stop': False, 'no_beamable_mm': False, 'lenpen': 1.0, 'unkpen': 0.0, 'replace_unk': None, 'sacrebleu': False, 'score_reference': False, 'prefix_size': 0, 'no_repeat_ngram_size': 0, 'sampling': False, 'sampling_topk': -1, 'sampling_topp': -1.0, 'constraints': None, 'temperature': 1.0, 'diverse_beam_groups': -1, 'diverse_beam_strength': 0.5, 'diversity_rate': -1.0, 'print_alignment': None, 'print_step': False, 'lm_path': None, 'lm_weight': 0.0, 'iter_decode_eos_penalty': 0.0, 'iter_decode_max_iter': 10, 'iter_decode_force_max_iter': False, 'iter_decode_with_beam': 1, 'iter_decode_with_external_reranker': False, 'retain_iter_history': False, 'retain_dropout': False, 'retain_dropout_modules': None, 'decoding_format': None, 'no_seed_provided': False}, 'eval_lm': {'_name': None, 'output_word_probs': False, 'output_word_stats': False, 'context_window': 0, 'softmax_batch': 9223372036854775807}, 'interactive': {'_name': None, 'buffer_size': 0, 'input': '-'}, 'model': {'_name': 'wav2vec_u', 'discriminator_kernel': 6, 'discriminator_dilation': 1, 'discriminator_dim': 384, 'discriminator_causal': True, 'discriminator_linear_emb': False, 'discriminator_depth': 2, 'discriminator_max_pool': False, 'discriminator_act_after_linear': False, 'discriminator_dropout': 0.0, 'discriminator_spectral_norm': False, 'discriminator_weight_norm': False, 'generator_kernel': 4, 'generator_dilation': 1, 'generator_stride': 1, 'generator_bias': False, 'generator_dropout': 0.1, 'blank_weight': 0.0, 'blank_mode': 'add', 'blank_is_sil': False, 'no_softmax': False, 'smoothness_weight': 0.5, 'smoothing': 0.0, 'smoothing_one_sided': False, 'gradient_penalty': 1.5, 'probabilistic_grad_penalty_slicing': False, 'code_penalty': 4.0, 'gumbel': False, 'hard_gumbel': False, 'temp': [2.0, 0.1, 0.99995], 'input_dim': 512, 'wgan_loss': False, 'segmentation': {'_name': None, 'type': 'JOIN', 'subsample_rate': 0.25, 'mean_pool': True, 'mean_pool_join': False, 'remove_zeros': False}}, 'task': {'_name': 'gan_audio_pretraining_feats', 'data': '/kaggle/input/wav2vec-u-cv-swedish-audio/precompute_pca512_cls128_mean_pooled/', 'text_data': '/kaggle/input/wav2vec-u-cv-swedish-text-prep/preppedtext/phones/', 'max_length': None, 'labels': 'phn', 'unfiltered': False, 'ctc_eval': False, 'sort_by_length': False, 'shuffle': True, 'append_eos': False, 'uppercase': False, 'skipwords': '', 'kenlm_path': '/kaggle/input/wav2vec-u-cv-swedish-text-prep/preppedtext/phones/lm.phones.filtered.04.bin', 'vocab_usage_power': 2.0, 'word_decoder_config': None, 'word_kenlm_path': None, 'decoding_config': {'_name': None, 'kenlm_path': None, 'lm_weight': 0.0, 'blank_weight': 0.0}}, 'criterion': {'_name': 'model', 'loss_weights': {}, 'log_keys': ['accuracy_dense', 'accuracy_token', 'temp', 'code_ppl']}, 'optimizer': {'_name': 'composite', 'groups': {'generator': {'lr': [0.0004], 'lr_float': None, 'optimizer': {'_name': 'adam', 'adam_betas': [0.5, 0.98], 'adam_eps': 1e-06, 'weight_decay': 0, 'amsgrad': False}, 'lr_scheduler': {'_name': 'fixed', 'warmup_updates': 0}}, 'discriminator': {'lr': [0.0005], 'lr_float': None, 'optimizer': {'_name': 'adam', 'adam_betas': [0.5, 0.98], 'adam_eps': 1e-06, 'weight_decay': 0.0001, 'amsgrad': False}, 'lr_scheduler': {'_name': 'fixed', 'warmup_updates': 0}}}}, 'lr_scheduler': {'_name': 'pass_through'}, 'scoring': None, 'bpe': None, 'tokenizer': None, 'job_logging_cfg': {'version': 1, 'formatters': {'simple': {'format': '[%(asctime)s][%(name)s][%(levelname)s] - %(message)s'}}, 'handlers': {'console': {'class': 'logging.StreamHandler', 'formatter': 'simple', 'stream': 'ext://sys.stdout'}, 'file': {'class': 'logging.FileHandler', 'formatter': 'simple', 'filename': 'hydra_train.log'}}, 'root': {'level': 'INFO', 'handlers': ['console', 'file']}, 'disable_existing_loggers': False}}\r\n"
     ]
    },
    {
     "name": "stdout",
     "output_type": "stream",
     "text": [
      "[2021-06-07 11:22:26,351][fairseq_cli.train][INFO] - Wav2vec_U(\r\n",
      "  (discriminator): Discriminator(\r\n",
      "    (net): Sequential(\r\n",
      "      (0): Conv1d(45, 384, kernel_size=(6,), stride=(1,), padding=(5,))\r\n",
      "      (1): SamePad()\r\n",
      "      (2): Dropout(p=0.0, inplace=False)\r\n",
      "      (3): Sequential(\r\n",
      "        (0): Conv1d(384, 384, kernel_size=(6,), stride=(1,), padding=(5,))\r\n",
      "        (1): SamePad()\r\n",
      "        (2): Dropout(p=0.0, inplace=False)\r\n",
      "        (3): GELU()\r\n",
      "      )\r\n",
      "      (4): Conv1d(384, 1, kernel_size=(6,), stride=(1,), padding=(5,))\r\n",
      "      (5): SamePad()\r\n",
      "    )\r\n",
      "  )\r\n",
      "  (segmenter): JoinSegmenter()\r\n",
      "  (generator): Generator(\r\n",
      "    (dropout): Dropout(p=0.1, inplace=False)\r\n",
      "    (proj): Sequential(\r\n",
      "      (0): TransposeLast()\r\n",
      "      (1): Conv1d(512, 45, kernel_size=(4,), stride=(1,), padding=(2,), bias=False)\r\n",
      "      (2): TransposeLast()\r\n",
      "    )\r\n",
      "  )\r\n",
      ")\r\n",
      "[2021-06-07 11:22:26,352][fairseq_cli.train][INFO] - task: UnpairedAudioText\r\n",
      "[2021-06-07 11:22:26,352][fairseq_cli.train][INFO] - model: Wav2vec_U\r\n",
      "[2021-06-07 11:22:26,352][fairseq_cli.train][INFO] - criterion: ModelCriterion\r\n",
      "[2021-06-07 11:22:26,352][fairseq_cli.train][INFO] - num. shared model params: 1,083,649 (num. trained: 1,083,649)\r\n",
      "[2021-06-07 11:22:26,353][fairseq_cli.train][INFO] - num. expert model params: 0 (num. trained: 0)\r\n"
     ]
    },
    {
     "name": "stdout",
     "output_type": "stream",
     "text": [
      "[2021-06-07 11:22:26,455][fairseq.data.extracted_features_dataset][INFO] - loaded 2019, skipped 0 samples\r\n",
      "[2021-06-07 11:22:26,455][fairseq.tasks.unpaired_audio_text][INFO] - split valid has unpaired text? False\r\n",
      "[2021-06-07 11:22:26,465][fairseq_cli.train][INFO] - training on 1 devices (GPUs/TPUs)\r\n",
      "[2021-06-07 11:22:26,465][fairseq_cli.train][INFO] - max tokens per device = None and max sentences per device = 160\r\n",
      "[2021-06-07 11:22:26,467][fairseq.trainer][INFO] - Preparing to load checkpoint /kaggle/working/checkpoint_last.pt\r\n"
     ]
    },
    {
     "name": "stdout",
     "output_type": "stream",
     "text": [
      "[2021-06-07 11:22:26,855][fairseq.trainer][INFO] - Loaded checkpoint /kaggle/working/checkpoint_last.pt (epoch 5058 @ 80912 updates)\r\n",
      "[2021-06-07 11:22:26,856][fairseq.trainer][INFO] - loading train data for epoch 5058\r\n"
     ]
    },
    {
     "name": "stdout",
     "output_type": "stream",
     "text": [
      "[2021-06-07 11:22:26,923][fairseq.data.extracted_features_dataset][INFO] - loaded 2331, skipped 0 samples\r\n",
      "[2021-06-07 11:22:26,924][fairseq.tasks.unpaired_audio_text][INFO] - split train has unpaired text? True\r\n"
     ]
    },
    {
     "name": "stdout",
     "output_type": "stream",
     "text": [
      "[2021-06-07 11:22:26,944][fairseq.data.data_utils][INFO] - loaded 2,328 examples from: /kaggle/input/wav2vec-u-cv-swedish-text-prep/preppedtext/phones/train\r\n"
     ]
    },
    {
     "name": "stdout",
     "output_type": "stream",
     "text": [
      "[2021-06-07 11:22:28,081][fairseq.trainer][INFO] - begin training epoch 5058\r\n",
      "[2021-06-07 11:22:28,083][fairseq_cli.train][INFO] - Start iterating over samples\r\n"
     ]
    },
    {
     "name": "stdout",
     "output_type": "stream",
     "text": [
      "[2021-06-07 11:26:30,821][fairseq_cli.train][INFO] - begin validation on \"valid\" subset\r\n"
     ]
    },
    {
     "name": "stdout",
     "output_type": "stream",
     "text": [
      "[2021-06-07 11:26:34,510][fairseq.tasks.unpaired_audio_text][INFO] - REF: ɛ n f œ ʂ ə n a d ɵ ʂ ə k t f øː r d eː t s ɔ m h ɛ n d ə p oː ɕ œ r k ɔ n s ɛ t ə n\r\n",
      "[2021-06-07 11:26:34,512][fairseq.tasks.unpaired_audio_text][INFO] - HYP: n ɛ s j œ r œ yː b j uː œ k uː ɵ v n ə m œ k ə uː s eː r n v oː n l ɪ ŋ k l ɪ l s œ m k n t n\r\n",
      "[2021-06-07 11:26:34,516][fairseq.tasks.unpaired_audio_text][INFO] - LM [REF]: -53.44462585449219, 0.05339602260269112\r\n",
      "[2021-06-07 11:26:34,516][fairseq.tasks.unpaired_audio_text][INFO] - LM [HYP]: -85.4294662475586, 0.012634772216117652\r\n"
     ]
    },
    {
     "name": "stdout",
     "output_type": "stream",
     "text": [
      "[2021-06-07 11:26:40,733][valid][INFO] - {\"epoch\": 5058, \"valid_loss\": \"0.999\", \"valid_ntokens\": \"3039.79\", \"valid_nsentences\": \"144.214\", \"valid_lm_score_sum\": \"-89312.5\", \"valid_num_pred_chars\": \"48213\", \"valid_vocab_seen_pct\": \"0.890244\", \"valid_uer\": \"99.852\", \"valid_weighted_lm_ppl\": \"75.6801\", \"valid_lm_ppl\": \"59.979\", \"valid_wps\": \"15125.7\", \"valid_wpb\": \"3039.8\", \"valid_bsz\": \"144.2\", \"valid_num_updates\": \"80928\", \"valid_best_weighted_lm_ppl\": \"73.0296\"}\r\n",
      "[2021-06-07 11:26:40,736][fairseq.checkpoint_utils][INFO] - Preparing to save checkpoint for epoch 5058 @ 80928 updates\r\n",
      "[2021-06-07 11:26:40,737][fairseq.trainer][INFO] - Saving checkpoint to /kaggle/working/checkpoint_last.pt\r\n"
     ]
    },
    {
     "name": "stdout",
     "output_type": "stream",
     "text": [
      "[2021-06-07 11:26:40,783][fairseq.trainer][INFO] - Finished saving checkpoint to /kaggle/working/checkpoint_last.pt\r\n",
      "[2021-06-07 11:26:40,783][fairseq.checkpoint_utils][INFO] - Saved checkpoint /kaggle/working/checkpoint_last.pt (epoch 5058 @ 80928 updates, score 75.68007510689489) (writing took 0.0469661450000558 seconds)\r\n",
      "[2021-06-07 11:26:40,783][fairseq_cli.train][INFO] - end of epoch 5058 (average epoch stats below)\r\n",
      "[2021-06-07 11:26:40,788][train][INFO] - {\"epoch\": 5058, \"train_loss\": \"2.958\", \"train_ntokens\": \"145.688\", \"train_nsentences\": \"145.688\", \"train_temp\": \"0.1\", \"train_code_ppl\": \"8.669\", \"train_loss_code_pen\": \"0.307\", \"train_loss_smoothness\": \"1.972\", \"train_loss_dense_g\": \"4.109\", \"train_lm_score_sum\": 0.0, \"train_num_pred_chars\": 0.0, \"train_loss_grad_pen\": \"0.095\", \"train_loss_dense_d\": \"0.024\", \"train_loss_token_d\": \"0.023\", \"train_wps\": \"8.8\", \"train_ups\": \"0.06\", \"train_wpb\": \"145.7\", \"train_bsz\": \"145.7\", \"train_num_updates\": \"80928\", \"train_lr_discriminator\": \"0.0005\", \"train_lr_generator\": \"0.0004\", \"train_gnorm\": \"30.028\", \"train_clip\": \"87.5\", \"train_train_wall\": \"242\", \"train_wall\": \"254\"}\r\n"
     ]
    },
    {
     "name": "stdout",
     "output_type": "stream",
     "text": [
      "[2021-06-07 11:26:40,837][fairseq.trainer][INFO] - begin training epoch 5059\r\n",
      "[2021-06-07 11:26:40,838][fairseq_cli.train][INFO] - Start iterating over samples\r\n"
     ]
    },
    {
     "name": "stdout",
     "output_type": "stream",
     "text": [
      "[2021-06-07 11:30:06,450][fairseq_cli.train][INFO] - begin validation on \"valid\" subset\r\n"
     ]
    },
    {
     "name": "stdout",
     "output_type": "stream",
     "text": [
      "[2021-06-07 11:30:08,989][fairseq.tasks.unpaired_audio_text][INFO] - REF: ɛ n f œ ʂ ə n a d ɵ ʂ ə k t f øː r d eː t s ɔ m h ɛ n d ə p oː ɕ œ r k ɔ n s ɛ t ə n\r\n",
      "[2021-06-07 11:30:08,991][fairseq.tasks.unpaired_audio_text][INFO] - HYP: n ɡ ɛ s j œ r œ yː b j uː œ k uː ɡ ɵ b n ə m œ k b ə uː s eː r n ɛ oː n l ɪ ŋ k l ɪ l s œ m k n t n\r\n",
      "[2021-06-07 11:30:08,995][fairseq.tasks.unpaired_audio_text][INFO] - LM [REF]: -53.44462585449219, 0.05339602260269112\r\n",
      "[2021-06-07 11:30:08,996][fairseq.tasks.unpaired_audio_text][INFO] - LM [HYP]: -90.35494232177734, 0.01311008079866808\r\n"
     ]
    },
    {
     "name": "stdout",
     "output_type": "stream",
     "text": [
      "[2021-06-07 11:30:09,515][valid][INFO] - {\"epoch\": 5059, \"valid_loss\": \"1.002\", \"valid_ntokens\": \"3039.79\", \"valid_nsentences\": \"144.214\", \"valid_lm_score_sum\": \"-89654.2\", \"valid_num_pred_chars\": \"48485\", \"valid_vocab_seen_pct\": \"0.897213\", \"valid_uer\": \"100.23\", \"valid_weighted_lm_ppl\": \"74.0286\", \"valid_lm_ppl\": \"59.5923\", \"valid_wps\": \"17799\", \"valid_wpb\": \"3039.8\", \"valid_bsz\": \"144.2\", \"valid_num_updates\": \"80944\", \"valid_best_weighted_lm_ppl\": \"73.0296\"}\r\n",
      "[2021-06-07 11:30:09,518][fairseq.checkpoint_utils][INFO] - Preparing to save checkpoint for epoch 5059 @ 80944 updates\r\n",
      "[2021-06-07 11:30:09,520][fairseq.trainer][INFO] - Saving checkpoint to /kaggle/working/checkpoint_last.pt\r\n"
     ]
    },
    {
     "name": "stdout",
     "output_type": "stream",
     "text": [
      "[2021-06-07 11:30:09,568][fairseq.trainer][INFO] - Finished saving checkpoint to /kaggle/working/checkpoint_last.pt\r\n",
      "[2021-06-07 11:30:09,568][fairseq.checkpoint_utils][INFO] - Saved checkpoint /kaggle/working/checkpoint_last.pt (epoch 5059 @ 80944 updates, score 74.02855708796689) (writing took 0.050191422000125385 seconds)\r\n",
      "[2021-06-07 11:30:09,569][fairseq_cli.train][INFO] - end of epoch 5059 (average epoch stats below)\r\n",
      "[2021-06-07 11:30:09,572][train][INFO] - {\"epoch\": 5059, \"train_loss\": \"3.801\", \"train_ntokens\": \"145.688\", \"train_nsentences\": \"145.688\", \"train_temp\": \"0.1\", \"train_code_ppl\": \"8.787\", \"train_loss_code_pen\": \"0.328\", \"train_loss_smoothness\": \"2.089\", \"train_loss_dense_g\": \"4.372\", \"train_lm_score_sum\": 0.0, \"train_num_pred_chars\": 0.0, \"train_loss_grad_pen\": \"0.109\", \"train_loss_dense_d\": \"0.023\", \"train_loss_token_d\": \"0.03\", \"train_wps\": \"11.2\", \"train_ups\": \"0.08\", \"train_wpb\": \"145.7\", \"train_bsz\": \"145.7\", \"train_num_updates\": \"80944\", \"train_lr_discriminator\": \"0.0005\", \"train_lr_generator\": \"0.0004\", \"train_gnorm\": \"32.266\", \"train_clip\": \"68.8\", \"train_train_wall\": \"205\", \"train_wall\": \"463\"}\r\n"
     ]
    },
    {
     "name": "stdout",
     "output_type": "stream",
     "text": [
      "[2021-06-07 11:30:09,628][fairseq.trainer][INFO] - begin training epoch 5060\r\n",
      "[2021-06-07 11:30:09,630][fairseq_cli.train][INFO] - Start iterating over samples\r\n"
     ]
    },
    {
     "name": "stdout",
     "output_type": "stream",
     "text": [
      "[2021-06-07 11:34:05,876][fairseq_cli.train][INFO] - begin validation on \"valid\" subset\r\n"
     ]
    },
    {
     "name": "stdout",
     "output_type": "stream",
     "text": [
      "[2021-06-07 11:34:08,795][fairseq.tasks.unpaired_audio_text][INFO] - REF: ɛ n f œ ʂ ə n a d ɵ ʂ ə k t f øː r d eː t s ɔ m h ɛ n d ə p oː ɕ œ r k ɔ n s ɛ t ə n\r\n"
     ]
    },
    {
     "name": "stdout",
     "output_type": "stream",
     "text": [
      "[2021-06-07 11:34:08,798][fairseq.tasks.unpaired_audio_text][INFO] - HYP: n ɡ ɛ s j œ r œ yː b j uː œ k uː ɡ ɵ ə n ə m œ k ə uː s eː r n ɛ oː n ɪ ŋ k l ɪ l s ɔ m k n t n\r\n",
      "[2021-06-07 11:34:08,802][fairseq.tasks.unpaired_audio_text][INFO] - LM [REF]: -53.44462585449219, 0.05339602260269112\r\n",
      "[2021-06-07 11:34:08,803][fairseq.tasks.unpaired_audio_text][INFO] - LM [HYP]: -83.69584655761719, 0.015153922952868366\r\n"
     ]
    },
    {
     "name": "stdout",
     "output_type": "stream",
     "text": [
      "[2021-06-07 11:34:09,316][valid][INFO] - {\"epoch\": 5060, \"valid_loss\": \"0.999\", \"valid_ntokens\": \"3039.79\", \"valid_nsentences\": \"144.214\", \"valid_lm_score_sum\": \"-89192.3\", \"valid_num_pred_chars\": \"48247\", \"valid_vocab_seen_pct\": \"0.893728\", \"valid_uer\": \"99.8849\", \"valid_weighted_lm_ppl\": \"74.4724\", \"valid_lm_ppl\": \"59.4848\", \"valid_wps\": \"17878.2\", \"valid_wpb\": \"3039.8\", \"valid_bsz\": \"144.2\", \"valid_num_updates\": \"80960\", \"valid_best_weighted_lm_ppl\": \"73.0296\"}\r\n",
      "[2021-06-07 11:34:09,319][fairseq.checkpoint_utils][INFO] - Preparing to save checkpoint for epoch 5060 @ 80960 updates\r\n",
      "[2021-06-07 11:34:09,321][fairseq.trainer][INFO] - Saving checkpoint to /kaggle/working/checkpoint_last.pt\r\n"
     ]
    },
    {
     "name": "stdout",
     "output_type": "stream",
     "text": [
      "[2021-06-07 11:34:09,369][fairseq.trainer][INFO] - Finished saving checkpoint to /kaggle/working/checkpoint_last.pt\r\n",
      "[2021-06-07 11:34:09,369][fairseq.checkpoint_utils][INFO] - Saved checkpoint /kaggle/working/checkpoint_last.pt (epoch 5060 @ 80960 updates, score 74.47238892995982) (writing took 0.05001271099990845 seconds)\r\n",
      "[2021-06-07 11:34:09,370][fairseq_cli.train][INFO] - end of epoch 5060 (average epoch stats below)\r\n",
      "[2021-06-07 11:34:09,374][train][INFO] - {\"epoch\": 5060, \"train_loss\": \"3.156\", \"train_ntokens\": \"145.688\", \"train_nsentences\": \"145.688\", \"train_temp\": \"0.1\", \"train_code_ppl\": \"8.796\", \"train_loss_code_pen\": \"0.325\", \"train_loss_smoothness\": \"2.073\", \"train_loss_dense_g\": \"3.999\", \"train_lm_score_sum\": 0.0, \"train_num_pred_chars\": 0.0, \"train_loss_grad_pen\": \"0.094\", \"train_loss_dense_d\": \"0.026\", \"train_loss_token_d\": \"0.024\", \"train_wps\": \"9.7\", \"train_ups\": \"0.07\", \"train_wpb\": \"145.7\", \"train_bsz\": \"145.7\", \"train_num_updates\": \"80960\", \"train_lr_discriminator\": \"0.0005\", \"train_lr_generator\": \"0.0004\", \"train_gnorm\": \"30.156\", \"train_clip\": \"87.5\", \"train_train_wall\": \"236\", \"train_wall\": \"703\"}\r\n"
     ]
    },
    {
     "name": "stdout",
     "output_type": "stream",
     "text": [
      "[2021-06-07 11:34:09,436][fairseq.trainer][INFO] - begin training epoch 5061\r\n",
      "[2021-06-07 11:34:09,437][fairseq_cli.train][INFO] - Start iterating over samples\r\n"
     ]
    },
    {
     "name": "stdout",
     "output_type": "stream",
     "text": [
      "[2021-06-07 11:37:44,932][fairseq_cli.train][INFO] - begin validation on \"valid\" subset\r\n"
     ]
    },
    {
     "name": "stdout",
     "output_type": "stream",
     "text": [
      "[2021-06-07 11:37:47,596][fairseq.tasks.unpaired_audio_text][INFO] - REF: ɛ n f œ ʂ ə n a d ɵ ʂ ə k t f øː r d eː t s ɔ m h ɛ n d ə p oː ɕ œ r k ɔ n s ɛ t ə n\r\n",
      "[2021-06-07 11:37:47,598][fairseq.tasks.unpaired_audio_text][INFO] - HYP: n ɛ s j œ r œ ɕ b j uː k uː ɵ n ə m ɔ k b ə uː s eː r n ɛ oː n l ɪ ŋ k l ɪ l s ɔ m k n t n\r\n",
      "[2021-06-07 11:37:47,603][fairseq.tasks.unpaired_audio_text][INFO] - LM [REF]: -53.44462585449219, 0.05339602260269112\r\n",
      "[2021-06-07 11:37:47,603][fairseq.tasks.unpaired_audio_text][INFO] - LM [HYP]: -77.15992736816406, 0.017634586760080635\r\n"
     ]
    },
    {
     "name": "stdout",
     "output_type": "stream",
     "text": [
      "[2021-06-07 11:37:48,137][valid][INFO] - {\"epoch\": 5061, \"valid_loss\": \"0.997\", \"valid_ntokens\": \"3039.79\", \"valid_nsentences\": \"144.214\", \"valid_lm_score_sum\": \"-89001\", \"valid_num_pred_chars\": \"48120\", \"valid_vocab_seen_pct\": \"0.891986\", \"valid_uer\": \"99.7298\", \"valid_weighted_lm_ppl\": \"74.8805\", \"valid_lm_ppl\": \"59.5779\", \"valid_wps\": \"16927.6\", \"valid_wpb\": \"3039.8\", \"valid_bsz\": \"144.2\", \"valid_num_updates\": \"80976\", \"valid_best_weighted_lm_ppl\": \"73.0296\"}\r\n",
      "[2021-06-07 11:37:48,141][fairseq.checkpoint_utils][INFO] - Preparing to save checkpoint for epoch 5061 @ 80976 updates\r\n",
      "[2021-06-07 11:37:48,143][fairseq.trainer][INFO] - Saving checkpoint to /kaggle/working/checkpoint_last.pt\r\n"
     ]
    },
    {
     "name": "stdout",
     "output_type": "stream",
     "text": [
      "[2021-06-07 11:37:48,193][fairseq.trainer][INFO] - Finished saving checkpoint to /kaggle/working/checkpoint_last.pt\r\n",
      "[2021-06-07 11:37:48,193][fairseq.checkpoint_utils][INFO] - Saved checkpoint /kaggle/working/checkpoint_last.pt (epoch 5061 @ 80976 updates, score 74.88049904336405) (writing took 0.052002522000066165 seconds)\r\n",
      "[2021-06-07 11:37:48,194][fairseq_cli.train][INFO] - end of epoch 5061 (average epoch stats below)\r\n"
     ]
    },
    {
     "name": "stdout",
     "output_type": "stream",
     "text": [
      "[2021-06-07 11:37:48,199][train][INFO] - {\"epoch\": 5061, \"train_loss\": \"3.446\", \"train_ntokens\": \"145.688\", \"train_nsentences\": \"145.688\", \"train_temp\": \"0.1\", \"train_code_ppl\": \"8.998\", \"train_loss_code_pen\": \"0.344\", \"train_loss_smoothness\": \"2.107\", \"train_loss_dense_g\": \"4.052\", \"train_lm_score_sum\": 0.0, \"train_num_pred_chars\": 0.0, \"train_loss_grad_pen\": \"0.106\", \"train_loss_dense_d\": \"0.027\", \"train_loss_token_d\": \"0.025\", \"train_wps\": \"10.7\", \"train_ups\": \"0.07\", \"train_wpb\": \"145.7\", \"train_bsz\": \"145.7\", \"train_num_updates\": \"80976\", \"train_lr_discriminator\": \"0.0005\", \"train_lr_generator\": \"0.0004\", \"train_gnorm\": \"29.824\", \"train_clip\": \"93.8\", \"train_train_wall\": \"215\", \"train_wall\": \"922\"}\r\n"
     ]
    },
    {
     "name": "stdout",
     "output_type": "stream",
     "text": [
      "[2021-06-07 11:37:48,255][fairseq.trainer][INFO] - begin training epoch 5062\r\n",
      "[2021-06-07 11:37:48,257][fairseq_cli.train][INFO] - Start iterating over samples\r\n"
     ]
    },
    {
     "name": "stdout",
     "output_type": "stream",
     "text": [
      "[2021-06-07 11:41:22,359][fairseq_cli.train][INFO] - begin validation on \"valid\" subset\r\n"
     ]
    },
    {
     "name": "stdout",
     "output_type": "stream",
     "text": [
      "[2021-06-07 11:41:24,982][fairseq.tasks.unpaired_audio_text][INFO] - REF: ɛ n f œ ʂ ə n a d ɵ ʂ ə k t f øː r d eː t s ɔ m h ɛ n d ə p oː ɕ œ r k ɔ n s ɛ t ə n\r\n",
      "[2021-06-07 11:41:24,984][fairseq.tasks.unpaired_audio_text][INFO] - HYP: n ɛ s j œ r œ ɕ b j uː œ k uː ɡ ɵ v n ə m ɔ k ə uː s eː r n ɛ oː n l ɪ ŋ k l ɪ l s ɔ m k n t n\r\n",
      "[2021-06-07 11:41:24,988][fairseq.tasks.unpaired_audio_text][INFO] - LM [REF]: -53.44462585449219, 0.05339602260269112\r\n",
      "[2021-06-07 11:41:24,989][fairseq.tasks.unpaired_audio_text][INFO] - LM [HYP]: -83.18968963623047, 0.015542772353130683\r\n"
     ]
    },
    {
     "name": "stdout",
     "output_type": "stream",
     "text": [
      "[2021-06-07 11:41:25,501][valid][INFO] - {\"epoch\": 5062, \"valid_loss\": \"1\", \"valid_ntokens\": \"3039.79\", \"valid_nsentences\": \"144.214\", \"valid_lm_score_sum\": \"-89285.4\", \"valid_num_pred_chars\": \"48328\", \"valid_vocab_seen_pct\": \"0.893728\", \"valid_uer\": \"100.026\", \"valid_weighted_lm_ppl\": \"74.3003\", \"valid_lm_ppl\": \"59.3474\", \"valid_wps\": \"17329.9\", \"valid_wpb\": \"3039.8\", \"valid_bsz\": \"144.2\", \"valid_num_updates\": \"80992\", \"valid_best_weighted_lm_ppl\": \"73.0296\"}\r\n"
     ]
    },
    {
     "name": "stdout",
     "output_type": "stream",
     "text": [
      "[2021-06-07 11:41:25,505][fairseq.checkpoint_utils][INFO] - Preparing to save checkpoint for epoch 5062 @ 80992 updates\r\n",
      "[2021-06-07 11:41:25,506][fairseq.trainer][INFO] - Saving checkpoint to /kaggle/working/checkpoint_last.pt\r\n"
     ]
    },
    {
     "name": "stdout",
     "output_type": "stream",
     "text": [
      "[2021-06-07 11:41:25,556][fairseq.trainer][INFO] - Finished saving checkpoint to /kaggle/working/checkpoint_last.pt\r\n",
      "[2021-06-07 11:41:25,556][fairseq.checkpoint_utils][INFO] - Saved checkpoint /kaggle/working/checkpoint_last.pt (epoch 5062 @ 80992 updates, score 74.30029371834904) (writing took 0.051333308000039324 seconds)\r\n",
      "[2021-06-07 11:41:25,557][fairseq_cli.train][INFO] - end of epoch 5062 (average epoch stats below)\r\n",
      "[2021-06-07 11:41:25,560][train][INFO] - {\"epoch\": 5062, \"train_loss\": \"3.781\", \"train_ntokens\": \"145.688\", \"train_nsentences\": \"145.688\", \"train_temp\": \"0.1\", \"train_code_ppl\": \"9.015\", \"train_loss_code_pen\": \"0.345\", \"train_loss_smoothness\": \"2.149\", \"train_loss_dense_g\": \"4.266\", \"train_lm_score_sum\": 0.0, \"train_num_pred_chars\": 0.0, \"train_loss_grad_pen\": \"0.104\", \"train_loss_dense_d\": \"0.024\", \"train_loss_token_d\": \"0.026\", \"train_wps\": \"10.7\", \"train_ups\": \"0.07\", \"train_wpb\": \"145.7\", \"train_bsz\": \"145.7\", \"train_num_updates\": \"80992\", \"train_lr_discriminator\": \"0.0005\", \"train_lr_generator\": \"0.0004\", \"train_gnorm\": \"30.817\", \"train_clip\": \"81.2\", \"train_train_wall\": \"213\", \"train_wall\": \"1139\"}\r\n"
     ]
    },
    {
     "name": "stdout",
     "output_type": "stream",
     "text": [
      "[2021-06-07 11:41:25,618][fairseq.trainer][INFO] - begin training epoch 5063\r\n",
      "[2021-06-07 11:41:25,620][fairseq_cli.train][INFO] - Start iterating over samples\r\n"
     ]
    },
    {
     "name": "stdout",
     "output_type": "stream",
     "text": [
      "[2021-06-07 11:43:10,733][train_inner][INFO] - {\"epoch\": 5063, \"update\": 5062.5, \"loss\": \"3.446\", \"ntokens\": \"145.205\", \"nsentences\": \"145.205\", \"temp\": \"0.1\", \"code_ppl\": \"8.871\", \"loss_code_pen\": \"0.329\", \"loss_smoothness\": \"2.077\", \"loss_dense_g\": \"4.136\", \"lm_score_sum\": 0.0, \"num_pred_chars\": 0.0, \"loss_grad_pen\": \"0.106\", \"loss_dense_d\": \"0.025\", \"loss_token_d\": \"0.026\", \"wps\": \"10.2\", \"ups\": \"0.07\", \"wpb\": \"145.2\", \"bsz\": \"145.2\", \"num_updates\": \"81000\", \"lr_discriminator\": \"0.0005\", \"lr_generator\": \"0.0004\", \"gnorm\": \"31.398\", \"clip\": \"83\", \"train_wall\": \"1216\", \"wall\": \"1244\"}\r\n"
     ]
    },
    {
     "name": "stdout",
     "output_type": "stream",
     "text": [
      "[2021-06-07 11:45:10,822][fairseq_cli.train][INFO] - begin validation on \"valid\" subset\r\n"
     ]
    },
    {
     "name": "stdout",
     "output_type": "stream",
     "text": [
      "[2021-06-07 11:45:13,551][fairseq.tasks.unpaired_audio_text][INFO] - REF: ɛ n f œ ʂ ə n a d ɵ ʂ ə k t f øː r d eː t s ɔ m h ɛ n d ə p oː ɕ œ r k ɔ n s ɛ t ə n\r\n",
      "[2021-06-07 11:45:13,553][fairseq.tasks.unpaired_audio_text][INFO] - HYP: n ɛ s j œ r œ yː b j uː œ yː k uː ɵ v m n ə m ɔ k ə uː s eː r n v oː n ɪ ŋ k l ɪ l s ɔ m k n t n\r\n",
      "[2021-06-07 11:45:13,557][fairseq.tasks.unpaired_audio_text][INFO] - LM [REF]: -53.44462585449219, 0.05339602260269112\r\n",
      "[2021-06-07 11:45:13,557][fairseq.tasks.unpaired_audio_text][INFO] - LM [HYP]: -81.39459991455078, 0.01700404226492813\r\n"
     ]
    },
    {
     "name": "stdout",
     "output_type": "stream",
     "text": [
      "[2021-06-07 11:45:14,072][valid][INFO] - {\"epoch\": 5063, \"valid_loss\": \"1.001\", \"valid_ntokens\": \"3039.79\", \"valid_nsentences\": \"144.214\", \"valid_lm_score_sum\": \"-89363.9\", \"valid_num_pred_chars\": \"48375\", \"valid_vocab_seen_pct\": \"0.890244\", \"valid_uer\": \"100.094\", \"valid_weighted_lm_ppl\": \"74.8662\", \"valid_lm_ppl\": \"59.334\", \"valid_wps\": \"16893.7\", \"valid_wpb\": \"3039.8\", \"valid_bsz\": \"144.2\", \"valid_num_updates\": \"81008\", \"valid_best_weighted_lm_ppl\": \"73.0296\"}\r\n",
      "[2021-06-07 11:45:14,075][fairseq.checkpoint_utils][INFO] - Preparing to save checkpoint for epoch 5063 @ 81008 updates\r\n",
      "[2021-06-07 11:45:14,076][fairseq.trainer][INFO] - Saving checkpoint to /kaggle/working/checkpoint_last.pt\r\n"
     ]
    },
    {
     "name": "stdout",
     "output_type": "stream",
     "text": [
      "[2021-06-07 11:45:14,126][fairseq.trainer][INFO] - Finished saving checkpoint to /kaggle/working/checkpoint_last.pt\r\n",
      "[2021-06-07 11:45:14,126][fairseq.checkpoint_utils][INFO] - Saved checkpoint /kaggle/working/checkpoint_last.pt (epoch 5063 @ 81008 updates, score 74.86622305234141) (writing took 0.05148341899985098 seconds)\r\n",
      "[2021-06-07 11:45:14,127][fairseq_cli.train][INFO] - end of epoch 5063 (average epoch stats below)\r\n",
      "[2021-06-07 11:45:14,130][train][INFO] - {\"epoch\": 5063, \"train_loss\": \"3.366\", \"train_ntokens\": \"145.688\", \"train_nsentences\": \"145.688\", \"train_temp\": \"0.1\", \"train_code_ppl\": \"8.755\", \"train_loss_code_pen\": \"0.322\", \"train_loss_smoothness\": \"2.049\", \"train_loss_dense_g\": \"3.958\", \"train_lm_score_sum\": 0.0, \"train_num_pred_chars\": 0.0, \"train_loss_grad_pen\": \"0.12\", \"train_loss_dense_d\": \"0.028\", \"train_loss_token_d\": \"0.032\", \"train_wps\": \"10.2\", \"train_ups\": \"0.07\", \"train_wpb\": \"145.7\", \"train_bsz\": \"145.7\", \"train_num_updates\": \"81008\", \"train_lr_discriminator\": \"0.0005\", \"train_lr_generator\": \"0.0004\", \"train_gnorm\": \"34.318\", \"train_clip\": \"81.2\", \"train_train_wall\": \"225\", \"train_wall\": \"1368\"}\r\n"
     ]
    },
    {
     "name": "stdout",
     "output_type": "stream",
     "text": [
      "[2021-06-07 11:45:14,188][fairseq.trainer][INFO] - begin training epoch 5064\r\n",
      "[2021-06-07 11:45:14,189][fairseq_cli.train][INFO] - Start iterating over samples\r\n"
     ]
    },
    {
     "name": "stdout",
     "output_type": "stream",
     "text": [
      "[2021-06-07 11:49:21,535][fairseq_cli.train][INFO] - begin validation on \"valid\" subset\r\n"
     ]
    },
    {
     "name": "stdout",
     "output_type": "stream",
     "text": [
      "[2021-06-07 11:49:24,149][fairseq.tasks.unpaired_audio_text][INFO] - REF: ɛ n f œ ʂ ə n a d ɵ ʂ ə k t f øː r d eː t s ɔ m h ɛ n d ə p oː ɕ œ r k ɔ n s ɛ t ə n\r\n",
      "[2021-06-07 11:49:24,152][fairseq.tasks.unpaired_audio_text][INFO] - HYP: n ɪ ɛ s j œ r œ yː b j uː œ yː k uː ɵ m ə n ə m œ k b ə uː s eː r n v oː n l ɪ ŋ k l ɪ l s œ m k t n\r\n",
      "[2021-06-07 11:49:24,156][fairseq.tasks.unpaired_audio_text][INFO] - LM [REF]: -53.44462585449219, 0.05339602260269112\r\n",
      "[2021-06-07 11:49:24,157][fairseq.tasks.unpaired_audio_text][INFO] - LM [HYP]: -88.4032211303711, 0.014396808452060079\r\n"
     ]
    },
    {
     "name": "stdout",
     "output_type": "stream",
     "text": [
      "[2021-06-07 11:49:24,674][valid][INFO] - {\"epoch\": 5064, \"valid_loss\": \"0.999\", \"valid_ntokens\": \"3039.79\", \"valid_nsentences\": \"144.214\", \"valid_lm_score_sum\": \"-89333.4\", \"valid_num_pred_chars\": \"48220\", \"valid_vocab_seen_pct\": \"0.888502\", \"valid_uer\": \"99.8802\", \"valid_weighted_lm_ppl\": \"76.0066\", \"valid_lm_ppl\": \"60.0023\", \"valid_wps\": \"17541.8\", \"valid_wpb\": \"3039.8\", \"valid_bsz\": \"144.2\", \"valid_num_updates\": \"81024\", \"valid_best_weighted_lm_ppl\": \"73.0296\"}\r\n"
     ]
    },
    {
     "name": "stdout",
     "output_type": "stream",
     "text": [
      "[2021-06-07 11:49:24,678][fairseq.checkpoint_utils][INFO] - Preparing to save checkpoint for epoch 5064 @ 81024 updates\r\n",
      "[2021-06-07 11:49:24,679][fairseq.trainer][INFO] - Saving checkpoint to /kaggle/working/checkpoint_last.pt\r\n"
     ]
    },
    {
     "name": "stdout",
     "output_type": "stream",
     "text": [
      "[2021-06-07 11:49:24,728][fairseq.trainer][INFO] - Finished saving checkpoint to /kaggle/working/checkpoint_last.pt\r\n",
      "[2021-06-07 11:49:24,729][fairseq.checkpoint_utils][INFO] - Saved checkpoint /kaggle/working/checkpoint_last.pt (epoch 5064 @ 81024 updates, score 76.00656639298161) (writing took 0.05118867599958321 seconds)\r\n",
      "[2021-06-07 11:49:24,729][fairseq_cli.train][INFO] - end of epoch 5064 (average epoch stats below)\r\n",
      "[2021-06-07 11:49:24,733][train][INFO] - {\"epoch\": 5064, \"train_loss\": \"2.957\", \"train_ntokens\": \"145.688\", \"train_nsentences\": \"145.688\", \"train_temp\": \"0.1\", \"train_code_ppl\": \"8.833\", \"train_loss_code_pen\": \"0.322\", \"train_loss_smoothness\": \"2.052\", \"train_loss_dense_g\": \"4.05\", \"train_lm_score_sum\": 0.0, \"train_num_pred_chars\": 0.0, \"train_loss_grad_pen\": \"0.058\", \"train_loss_dense_d\": \"0.028\", \"train_loss_token_d\": \"0.025\", \"train_wps\": \"9.3\", \"train_ups\": \"0.06\", \"train_wpb\": \"145.7\", \"train_bsz\": \"145.7\", \"train_num_updates\": \"81024\", \"train_lr_discriminator\": \"0.0005\", \"train_lr_generator\": \"0.0004\", \"train_gnorm\": \"28.392\", \"train_clip\": \"62.5\", \"train_train_wall\": \"247\", \"train_wall\": \"1618\"}\r\n"
     ]
    },
    {
     "name": "stdout",
     "output_type": "stream",
     "text": [
      "[2021-06-07 11:49:24,791][fairseq.trainer][INFO] - begin training epoch 5065\r\n",
      "[2021-06-07 11:49:24,792][fairseq_cli.train][INFO] - Start iterating over samples\r\n"
     ]
    },
    {
     "name": "stdout",
     "output_type": "stream",
     "text": [
      "[2021-06-07 11:53:17,864][fairseq_cli.train][INFO] - begin validation on \"valid\" subset\r\n"
     ]
    },
    {
     "name": "stdout",
     "output_type": "stream",
     "text": [
      "[2021-06-07 11:53:20,518][fairseq.tasks.unpaired_audio_text][INFO] - REF: ɛ n f œ ʂ ə n a d ɵ ʂ ə k t f øː r d eː t s ɔ m h ɛ n d ə p oː ɕ œ r k ɔ n s ɛ t ə n\r\n",
      "[2021-06-07 11:53:20,520][fairseq.tasks.unpaired_audio_text][INFO] - HYP: n ɛ s j œ r œ yː b j uː œ yː k uː ɵ m ə ə m œ k b ə uː s eː r n v oː n l ɪ ŋ k l ɪ l s ɔ m k l t n\r\n",
      "[2021-06-07 11:53:20,524][fairseq.tasks.unpaired_audio_text][INFO] - LM [REF]: -53.44462585449219, 0.05339602260269112\r\n",
      "[2021-06-07 11:53:20,525][fairseq.tasks.unpaired_audio_text][INFO] - LM [HYP]: -84.66416931152344, 0.01579918540096089\r\n"
     ]
    },
    {
     "name": "stdout",
     "output_type": "stream",
     "text": [
      "[2021-06-07 11:53:21,082][valid][INFO] - {\"epoch\": 5065, \"valid_loss\": \"0.998\", \"valid_ntokens\": \"3039.79\", \"valid_nsentences\": \"144.214\", \"valid_lm_score_sum\": \"-89388.3\", \"valid_num_pred_chars\": \"48220\", \"valid_vocab_seen_pct\": \"0.891986\", \"valid_uer\": \"99.8073\", \"valid_weighted_lm_ppl\": \"75.604\", \"valid_lm_ppl\": \"60.1535\", \"valid_wps\": \"16908.6\", \"valid_wpb\": \"3039.8\", \"valid_bsz\": \"144.2\", \"valid_num_updates\": \"81040\", \"valid_best_weighted_lm_ppl\": \"73.0296\"}\r\n",
      "[2021-06-07 11:53:21,086][fairseq.checkpoint_utils][INFO] - Preparing to save checkpoint for epoch 5065 @ 81040 updates\r\n",
      "[2021-06-07 11:53:21,087][fairseq.trainer][INFO] - Saving checkpoint to /kaggle/working/checkpoint_last.pt\r\n"
     ]
    },
    {
     "name": "stdout",
     "output_type": "stream",
     "text": [
      "[2021-06-07 11:53:21,133][fairseq.trainer][INFO] - Finished saving checkpoint to /kaggle/working/checkpoint_last.pt\r\n",
      "[2021-06-07 11:53:21,134][fairseq.checkpoint_utils][INFO] - Saved checkpoint /kaggle/working/checkpoint_last.pt (epoch 5065 @ 81040 updates, score 75.60397764675088) (writing took 0.04784967399973539 seconds)\r\n",
      "[2021-06-07 11:53:21,134][fairseq_cli.train][INFO] - end of epoch 5065 (average epoch stats below)\r\n",
      "[2021-06-07 11:53:21,138][train][INFO] - {\"epoch\": 5065, \"train_loss\": \"3.195\", \"train_ntokens\": \"145.688\", \"train_nsentences\": \"145.688\", \"train_temp\": \"0.1\", \"train_code_ppl\": \"8.865\", \"train_loss_code_pen\": \"0.329\", \"train_loss_smoothness\": \"2.076\", \"train_loss_dense_g\": \"4.116\", \"train_lm_score_sum\": 0.0, \"train_num_pred_chars\": 0.0, \"train_loss_grad_pen\": \"0.054\", \"train_loss_dense_d\": \"0.025\", \"train_loss_token_d\": \"0.024\", \"train_wps\": \"9.9\", \"train_ups\": \"0.07\", \"train_wpb\": \"145.7\", \"train_bsz\": \"145.7\", \"train_num_updates\": \"81040\", \"train_lr_discriminator\": \"0.0005\", \"train_lr_generator\": \"0.0004\", \"train_gnorm\": \"28.66\", \"train_clip\": \"62.5\", \"train_train_wall\": \"233\", \"train_wall\": \"1855\"}\r\n"
     ]
    },
    {
     "name": "stdout",
     "output_type": "stream",
     "text": [
      "[2021-06-07 11:53:21,191][fairseq.trainer][INFO] - begin training epoch 5066\r\n",
      "[2021-06-07 11:53:21,193][fairseq_cli.train][INFO] - Start iterating over samples\r\n"
     ]
    },
    {
     "name": "stdout",
     "output_type": "stream",
     "text": [
      "[2021-06-07 11:57:20,810][fairseq_cli.train][INFO] - begin validation on \"valid\" subset\r\n"
     ]
    },
    {
     "name": "stdout",
     "output_type": "stream",
     "text": [
      "[2021-06-07 11:57:23,714][fairseq.tasks.unpaired_audio_text][INFO] - REF: ɛ n f œ ʂ ə n a d ɵ ʂ ə k t f øː r d eː t s ɔ m h ɛ n d ə p oː ɕ œ r k ɔ n s ɛ t ə n\r\n",
      "[2021-06-07 11:57:23,716][fairseq.tasks.unpaired_audio_text][INFO] - HYP: n ɛ n s j œ r œ yː b j uː œ ʃ k uː ɵ v j m ə ə m ɔ k b ə uː s eː r n v oː n l ɪ ŋ k l ɪ l s œ m k n t n\r\n",
      "[2021-06-07 11:57:23,721][fairseq.tasks.unpaired_audio_text][INFO] - LM [REF]: -53.44462585449219, 0.05339602260269112\r\n",
      "[2021-06-07 11:57:23,721][fairseq.tasks.unpaired_audio_text][INFO] - LM [HYP]: -93.7430191040039, 0.013339502044061908\r\n"
     ]
    },
    {
     "name": "stdout",
     "output_type": "stream",
     "text": [
      "[2021-06-07 11:57:24,266][valid][INFO] - {\"epoch\": 5066, \"valid_loss\": \"0.998\", \"valid_ntokens\": \"3039.79\", \"valid_nsentences\": \"144.214\", \"valid_lm_score_sum\": \"-89194.8\", \"valid_num_pred_chars\": \"48154\", \"valid_vocab_seen_pct\": \"0.888502\", \"valid_uer\": \"99.7697\", \"valid_weighted_lm_ppl\": \"75.9325\", \"valid_lm_ppl\": \"59.9438\", \"valid_wps\": \"16372.2\", \"valid_wpb\": \"3039.8\", \"valid_bsz\": \"144.2\", \"valid_num_updates\": \"81056\", \"valid_best_weighted_lm_ppl\": \"73.0296\"}\r\n",
      "[2021-06-07 11:57:24,269][fairseq.checkpoint_utils][INFO] - Preparing to save checkpoint for epoch 5066 @ 81056 updates\r\n",
      "[2021-06-07 11:57:24,271][fairseq.trainer][INFO] - Saving checkpoint to /kaggle/working/checkpoint_last.pt\r\n"
     ]
    },
    {
     "name": "stdout",
     "output_type": "stream",
     "text": [
      "[2021-06-07 11:57:24,320][fairseq.trainer][INFO] - Finished saving checkpoint to /kaggle/working/checkpoint_last.pt\r\n",
      "[2021-06-07 11:57:24,320][fairseq.checkpoint_utils][INFO] - Saved checkpoint /kaggle/working/checkpoint_last.pt (epoch 5066 @ 81056 updates, score 75.93249365357678) (writing took 0.05062651000025653 seconds)\r\n",
      "[2021-06-07 11:57:24,321][fairseq_cli.train][INFO] - end of epoch 5066 (average epoch stats below)\r\n",
      "[2021-06-07 11:57:24,324][train][INFO] - {\"epoch\": 5066, \"train_loss\": \"3.195\", \"train_ntokens\": \"145.688\", \"train_nsentences\": \"145.688\", \"train_temp\": \"0.1\", \"train_code_ppl\": \"8.807\", \"train_loss_code_pen\": \"0.324\", \"train_loss_smoothness\": \"2.064\", \"train_loss_dense_g\": \"4.116\", \"train_lm_score_sum\": 0.0, \"train_num_pred_chars\": 0.0, \"train_loss_grad_pen\": \"0.068\", \"train_loss_dense_d\": \"0.026\", \"train_loss_token_d\": \"0.024\", \"train_wps\": \"9.6\", \"train_ups\": \"0.07\", \"train_wpb\": \"145.7\", \"train_bsz\": \"145.7\", \"train_num_updates\": \"81056\", \"train_lr_discriminator\": \"0.0005\", \"train_lr_generator\": \"0.0004\", \"train_gnorm\": \"28.829\", \"train_clip\": \"62.5\", \"train_train_wall\": \"239\", \"train_wall\": \"2098\"}\r\n"
     ]
    },
    {
     "name": "stdout",
     "output_type": "stream",
     "text": [
      "[2021-06-07 11:57:24,384][fairseq.trainer][INFO] - begin training epoch 5067\r\n",
      "[2021-06-07 11:57:24,386][fairseq_cli.train][INFO] - Start iterating over samples\r\n"
     ]
    },
    {
     "name": "stdout",
     "output_type": "stream",
     "text": [
      "[2021-06-07 12:01:08,677][fairseq_cli.train][INFO] - begin validation on \"valid\" subset\r\n"
     ]
    },
    {
     "name": "stdout",
     "output_type": "stream",
     "text": [
      "[2021-06-07 12:01:11,323][fairseq.tasks.unpaired_audio_text][INFO] - REF: ɛ n f œ ʂ ə n a d ɵ ʂ ə k t f øː r d eː t s ɔ m h ɛ n d ə p oː ɕ œ r k ɔ n s ɛ t ə n\r\n",
      "[2021-06-07 12:01:11,325][fairseq.tasks.unpaired_audio_text][INFO] - HYP: n ɛ n s j œ r œ yː b j uː œ yː k uː ɵ øː m ə ə m œ k b ə uː s eː r n v oː n l ɪ ŋ k l ɪ l a s œ m k l t n\r\n",
      "[2021-06-07 12:01:11,330][fairseq.tasks.unpaired_audio_text][INFO] - LM [REF]: -53.44462585449219, 0.05339602260269112\r\n",
      "[2021-06-07 12:01:11,330][fairseq.tasks.unpaired_audio_text][INFO] - LM [HYP]: -91.36453247070312, 0.01488364663704127\r\n"
     ]
    },
    {
     "name": "stdout",
     "output_type": "stream",
     "text": [
      "[2021-06-07 12:01:11,843][valid][INFO] - {\"epoch\": 5067, \"valid_loss\": \"1\", \"valid_ntokens\": \"3039.79\", \"valid_nsentences\": \"144.214\", \"valid_lm_score_sum\": \"-89446.3\", \"valid_num_pred_chars\": \"48329\", \"valid_vocab_seen_pct\": \"0.893728\", \"valid_uer\": \"100.031\", \"valid_weighted_lm_ppl\": \"74.8428\", \"valid_lm_ppl\": \"59.7807\", \"valid_wps\": \"17295.2\", \"valid_wpb\": \"3039.8\", \"valid_bsz\": \"144.2\", \"valid_num_updates\": \"81072\", \"valid_best_weighted_lm_ppl\": \"73.0296\"}\r\n",
      "[2021-06-07 12:01:11,846][fairseq.checkpoint_utils][INFO] - Preparing to save checkpoint for epoch 5067 @ 81072 updates\r\n",
      "[2021-06-07 12:01:11,847][fairseq.trainer][INFO] - Saving checkpoint to /kaggle/working/checkpoint_last.pt\r\n"
     ]
    },
    {
     "name": "stdout",
     "output_type": "stream",
     "text": [
      "[2021-06-07 12:01:11,894][fairseq.trainer][INFO] - Finished saving checkpoint to /kaggle/working/checkpoint_last.pt\r\n",
      "[2021-06-07 12:01:11,894][fairseq.checkpoint_utils][INFO] - Saved checkpoint /kaggle/working/checkpoint_last.pt (epoch 5067 @ 81072 updates, score 74.84281678425188) (writing took 0.04846700600000986 seconds)\r\n",
      "[2021-06-07 12:01:11,895][fairseq_cli.train][INFO] - end of epoch 5067 (average epoch stats below)\r\n",
      "[2021-06-07 12:01:11,898][train][INFO] - {\"epoch\": 5067, \"train_loss\": \"3.509\", \"train_ntokens\": \"145.688\", \"train_nsentences\": \"145.688\", \"train_temp\": \"0.1\", \"train_code_ppl\": \"8.624\", \"train_loss_code_pen\": \"0.334\", \"train_loss_smoothness\": \"2.073\", \"train_loss_dense_g\": \"4.26\", \"train_lm_score_sum\": 0.0, \"train_num_pred_chars\": 0.0, \"train_loss_grad_pen\": \"0.066\", \"train_loss_dense_d\": \"0.022\", \"train_loss_token_d\": \"0.025\", \"train_wps\": \"10.2\", \"train_ups\": \"0.07\", \"train_wpb\": \"145.7\", \"train_bsz\": \"145.7\", \"train_num_updates\": \"81072\", \"train_lr_discriminator\": \"0.0005\", \"train_lr_generator\": \"0.0004\", \"train_gnorm\": \"30.476\", \"train_clip\": \"75\", \"train_train_wall\": \"224\", \"train_wall\": \"2325\"}\r\n"
     ]
    },
    {
     "name": "stdout",
     "output_type": "stream",
     "text": [
      "[2021-06-07 12:01:11,950][fairseq.trainer][INFO] - begin training epoch 5068\r\n",
      "[2021-06-07 12:01:11,952][fairseq_cli.train][INFO] - Start iterating over samples\r\n"
     ]
    },
    {
     "name": "stdout",
     "output_type": "stream",
     "text": [
      "[2021-06-07 12:04:46,861][fairseq_cli.train][INFO] - begin validation on \"valid\" subset\r\n"
     ]
    },
    {
     "name": "stdout",
     "output_type": "stream",
     "text": [
      "[2021-06-07 12:04:49,428][fairseq.tasks.unpaired_audio_text][INFO] - REF: ɛ n f œ ʂ ə n a d ɵ ʂ ə k t f øː r d eː t s ɔ m h ɛ n d ə p oː ɕ œ r k ɔ n s ɛ t ə n\r\n",
      "[2021-06-07 12:04:49,430][fairseq.tasks.unpaired_audio_text][INFO] - HYP: n ɛ n s j œ r œ yː b j uː œ yː k uː ɵ v m ə ə m œ k b ə uː s eː r n v oː n ɪ ŋ k l ɪ l s ɔ m k n t n\r\n",
      "[2021-06-07 12:04:49,434][fairseq.tasks.unpaired_audio_text][INFO] - LM [REF]: -53.44462585449219, 0.05339602260269112\r\n",
      "[2021-06-07 12:04:49,435][fairseq.tasks.unpaired_audio_text][INFO] - LM [HYP]: -86.01110076904297, 0.01614738005814762\r\n"
     ]
    },
    {
     "name": "stdout",
     "output_type": "stream",
     "text": [
      "[2021-06-07 12:04:49,951][valid][INFO] - {\"epoch\": 5068, \"valid_loss\": \"0.999\", \"valid_ntokens\": \"3039.79\", \"valid_nsentences\": \"144.214\", \"valid_lm_score_sum\": \"-89361.5\", \"valid_num_pred_chars\": \"48307\", \"valid_vocab_seen_pct\": \"0.891986\", \"valid_uer\": \"99.9483\", \"valid_weighted_lm_ppl\": \"74.9785\", \"valid_lm_ppl\": \"59.6558\", \"valid_wps\": \"17455.9\", \"valid_wpb\": \"3039.8\", \"valid_bsz\": \"144.2\", \"valid_num_updates\": \"81088\", \"valid_best_weighted_lm_ppl\": \"73.0296\"}\r\n",
      "[2021-06-07 12:04:49,954][fairseq.checkpoint_utils][INFO] - Preparing to save checkpoint for epoch 5068 @ 81088 updates\r\n",
      "[2021-06-07 12:04:49,956][fairseq.trainer][INFO] - Saving checkpoint to /kaggle/working/checkpoint_last.pt\r\n"
     ]
    },
    {
     "name": "stdout",
     "output_type": "stream",
     "text": [
      "[2021-06-07 12:04:50,002][fairseq.trainer][INFO] - Finished saving checkpoint to /kaggle/working/checkpoint_last.pt\r\n",
      "[2021-06-07 12:04:50,002][fairseq.checkpoint_utils][INFO] - Saved checkpoint /kaggle/working/checkpoint_last.pt (epoch 5068 @ 81088 updates, score 74.97851070406367) (writing took 0.0480246479996822 seconds)\r\n",
      "[2021-06-07 12:04:50,003][fairseq_cli.train][INFO] - end of epoch 5068 (average epoch stats below)\r\n",
      "[2021-06-07 12:04:50,007][train][INFO] - {\"epoch\": 5068, \"train_loss\": \"3.646\", \"train_ntokens\": \"145.688\", \"train_nsentences\": \"145.688\", \"train_temp\": \"0.1\", \"train_code_ppl\": \"8.759\", \"train_loss_code_pen\": \"0.317\", \"train_loss_smoothness\": \"2.057\", \"train_loss_dense_g\": \"4.153\", \"train_lm_score_sum\": 0.0, \"train_num_pred_chars\": 0.0, \"train_loss_grad_pen\": \"0.084\", \"train_loss_dense_d\": \"0.023\", \"train_loss_token_d\": \"0.031\", \"train_wps\": \"10.7\", \"train_ups\": \"0.07\", \"train_wpb\": \"145.7\", \"train_bsz\": \"145.7\", \"train_num_updates\": \"81088\", \"train_lr_discriminator\": \"0.0005\", \"train_lr_generator\": \"0.0004\", \"train_gnorm\": \"30.057\", \"train_clip\": \"87.5\", \"train_train_wall\": \"214\", \"train_wall\": \"2544\"}\r\n"
     ]
    },
    {
     "name": "stdout",
     "output_type": "stream",
     "text": [
      "[2021-06-07 12:04:50,071][fairseq.trainer][INFO] - begin training epoch 5069\r\n",
      "[2021-06-07 12:04:50,072][fairseq_cli.train][INFO] - Start iterating over samples\r\n"
     ]
    },
    {
     "name": "stdout",
     "output_type": "stream",
     "text": [
      "[2021-06-07 12:07:50,271][train_inner][INFO] - {\"epoch\": 5069, \"update\": 5068.75, \"loss\": \"3.225\", \"ntokens\": \"145.54\", \"nsentences\": \"145.54\", \"temp\": \"0.1\", \"code_ppl\": \"8.749\", \"loss_code_pen\": \"0.325\", \"loss_smoothness\": \"2.062\", \"loss_dense_g\": \"4.11\", \"lm_score_sum\": 0.0, \"num_pred_chars\": 0.0, \"loss_grad_pen\": \"0.072\", \"loss_dense_d\": \"0.025\", \"loss_token_d\": \"0.026\", \"wps\": \"9.8\", \"ups\": \"0.07\", \"wpb\": \"145.5\", \"bsz\": \"145.5\", \"num_updates\": \"81100\", \"lr_discriminator\": \"0.0005\", \"lr_generator\": \"0.0004\", \"gnorm\": \"29.381\", \"clip\": \"72\", \"train_wall\": \"1457\", \"wall\": \"2724\"}\r\n"
     ]
    },
    {
     "name": "stdout",
     "output_type": "stream",
     "text": [
      "[2021-06-07 12:08:49,084][fairseq_cli.train][INFO] - begin validation on \"valid\" subset\r\n"
     ]
    },
    {
     "name": "stdout",
     "output_type": "stream",
     "text": [
      "[2021-06-07 12:08:51,723][fairseq.tasks.unpaired_audio_text][INFO] - REF: ɛ n f œ ʂ ə n a d ɵ ʂ ə k t f øː r d eː t s ɔ m h ɛ n d ə p oː ɕ œ r k ɔ n s ɛ t ə n\r\n",
      "[2021-06-07 12:08:51,725][fairseq.tasks.unpaired_audio_text][INFO] - HYP: n ɛ n s j œ r œ yː b j uː œ yː k uː ɵ øː m ə n ə m œ k b ə uː s eː r n ɛ oː n l ɪ ŋ k l ɪ l s ɔ m k n t n\r\n",
      "[2021-06-07 12:08:51,729][fairseq.tasks.unpaired_audio_text][INFO] - LM [REF]: -53.44462585449219, 0.05339602260269112\r\n",
      "[2021-06-07 12:08:51,730][fairseq.tasks.unpaired_audio_text][INFO] - LM [HYP]: -89.40357208251953, 0.016290280347050795\r\n"
     ]
    },
    {
     "name": "stdout",
     "output_type": "stream",
     "text": [
      "[2021-06-07 12:08:52,279][valid][INFO] - {\"epoch\": 5069, \"valid_loss\": \"0.999\", \"valid_ntokens\": \"3039.79\", \"valid_nsentences\": \"144.214\", \"valid_lm_score_sum\": \"-89370.3\", \"valid_num_pred_chars\": \"48263\", \"valid_vocab_seen_pct\": \"0.89547\", \"valid_uer\": \"99.8614\", \"valid_weighted_lm_ppl\": \"74.693\", \"valid_lm_ppl\": \"59.8939\", \"valid_wps\": \"17232.6\", \"valid_wpb\": \"3039.8\", \"valid_bsz\": \"144.2\", \"valid_num_updates\": \"81104\", \"valid_best_weighted_lm_ppl\": \"73.0296\"}\r\n",
      "[2021-06-07 12:08:52,283][fairseq.checkpoint_utils][INFO] - Preparing to save checkpoint for epoch 5069 @ 81104 updates\r\n",
      "[2021-06-07 12:08:52,284][fairseq.trainer][INFO] - Saving checkpoint to /kaggle/working/checkpoint_last.pt\r\n"
     ]
    },
    {
     "name": "stdout",
     "output_type": "stream",
     "text": [
      "[2021-06-07 12:08:52,336][fairseq.trainer][INFO] - Finished saving checkpoint to /kaggle/working/checkpoint_last.pt\r\n",
      "[2021-06-07 12:08:52,336][fairseq.checkpoint_utils][INFO] - Saved checkpoint /kaggle/working/checkpoint_last.pt (epoch 5069 @ 81104 updates, score 74.69299794293585) (writing took 0.05359252300013395 seconds)\r\n",
      "[2021-06-07 12:08:52,337][fairseq_cli.train][INFO] - end of epoch 5069 (average epoch stats below)\r\n",
      "[2021-06-07 12:08:52,341][train][INFO] - {\"epoch\": 5069, \"train_loss\": \"2.975\", \"train_ntokens\": \"145.688\", \"train_nsentences\": \"145.688\", \"train_temp\": \"0.1\", \"train_code_ppl\": \"8.742\", \"train_loss_code_pen\": \"0.323\", \"train_loss_smoothness\": \"2.049\", \"train_loss_dense_g\": \"4.061\", \"train_lm_score_sum\": 0.0, \"train_num_pred_chars\": 0.0, \"train_loss_grad_pen\": \"0.09\", \"train_loss_dense_d\": \"0.023\", \"train_loss_token_d\": \"0.023\", \"train_wps\": \"9.6\", \"train_ups\": \"0.07\", \"train_wpb\": \"145.7\", \"train_bsz\": \"145.7\", \"train_num_updates\": \"81104\", \"train_lr_discriminator\": \"0.0005\", \"train_lr_generator\": \"0.0004\", \"train_gnorm\": \"29.769\", \"train_clip\": \"75\", \"train_train_wall\": \"239\", \"train_wall\": \"2786\"}\r\n"
     ]
    },
    {
     "name": "stdout",
     "output_type": "stream",
     "text": [
      "[2021-06-07 12:08:52,405][fairseq.trainer][INFO] - begin training epoch 5070\r\n",
      "[2021-06-07 12:08:52,406][fairseq_cli.train][INFO] - Start iterating over samples\r\n"
     ]
    },
    {
     "name": "stdout",
     "output_type": "stream",
     "text": [
      "[2021-06-07 12:12:57,663][fairseq_cli.train][INFO] - begin validation on \"valid\" subset\r\n"
     ]
    },
    {
     "name": "stdout",
     "output_type": "stream",
     "text": [
      "[2021-06-07 12:13:00,368][fairseq.tasks.unpaired_audio_text][INFO] - REF: ɛ n f œ ʂ ə n a d ɵ ʂ ə k t f øː r d eː t s ɔ m h ɛ n d ə p oː ɕ œ r k ɔ n s ɛ t ə n\r\n",
      "[2021-06-07 12:13:00,370][fairseq.tasks.unpaired_audio_text][INFO] - HYP: n ɛ n s j œ r œ yː b j uː œ yː k uː ɵ m ə n ə m œ k b ə uː s eː r n ɛ oː n ɪ ŋ k l ɪ l s ɔ m k n ə n\r\n",
      "[2021-06-07 12:13:00,375][fairseq.tasks.unpaired_audio_text][INFO] - LM [REF]: -53.44462585449219, 0.05339602260269112\r\n",
      "[2021-06-07 12:13:00,375][fairseq.tasks.unpaired_audio_text][INFO] - LM [HYP]: -83.7117691040039, 0.018030377115582235\r\n"
     ]
    },
    {
     "name": "stdout",
     "output_type": "stream",
     "text": [
      "[2021-06-07 12:13:00,897][valid][INFO] - {\"epoch\": 5070, \"valid_loss\": \"0.997\", \"valid_ntokens\": \"3039.79\", \"valid_nsentences\": \"144.214\", \"valid_lm_score_sum\": \"-89061.2\", \"valid_num_pred_chars\": \"48149\", \"valid_vocab_seen_pct\": \"0.891986\", \"valid_uer\": \"99.6757\", \"valid_weighted_lm_ppl\": \"74.9107\", \"valid_lm_ppl\": \"59.6019\", \"valid_wps\": \"17311.4\", \"valid_wpb\": \"3039.8\", \"valid_bsz\": \"144.2\", \"valid_num_updates\": \"81120\", \"valid_best_weighted_lm_ppl\": \"73.0296\"}\r\n",
      "[2021-06-07 12:13:00,900][fairseq.checkpoint_utils][INFO] - Preparing to save checkpoint for epoch 5070 @ 81120 updates\r\n",
      "[2021-06-07 12:13:00,901][fairseq.trainer][INFO] - Saving checkpoint to /kaggle/working/checkpoint_last.pt\r\n"
     ]
    },
    {
     "name": "stdout",
     "output_type": "stream",
     "text": [
      "[2021-06-07 12:13:00,951][fairseq.trainer][INFO] - Finished saving checkpoint to /kaggle/working/checkpoint_last.pt\r\n",
      "[2021-06-07 12:13:00,951][fairseq.checkpoint_utils][INFO] - Saved checkpoint /kaggle/working/checkpoint_last.pt (epoch 5070 @ 81120 updates, score 74.91067975556976) (writing took 0.05084190900015528 seconds)\r\n",
      "[2021-06-07 12:13:00,952][fairseq_cli.train][INFO] - end of epoch 5070 (average epoch stats below)\r\n",
      "[2021-06-07 12:13:00,956][train][INFO] - {\"epoch\": 5070, \"train_loss\": \"2.939\", \"train_ntokens\": \"145.688\", \"train_nsentences\": \"145.688\", \"train_temp\": \"0.1\", \"train_code_ppl\": \"8.822\", \"train_loss_code_pen\": \"0.329\", \"train_loss_smoothness\": \"2.065\", \"train_loss_dense_g\": \"3.992\", \"train_lm_score_sum\": 0.0, \"train_num_pred_chars\": 0.0, \"train_loss_grad_pen\": \"0.061\", \"train_loss_dense_d\": \"0.026\", \"train_loss_token_d\": \"0.022\", \"train_wps\": \"9.4\", \"train_ups\": \"0.06\", \"train_wpb\": \"145.7\", \"train_bsz\": \"145.7\", \"train_num_updates\": \"81120\", \"train_lr_discriminator\": \"0.0005\", \"train_lr_generator\": \"0.0004\", \"train_gnorm\": \"28.677\", \"train_clip\": \"68.8\", \"train_train_wall\": \"245\", \"train_wall\": \"3034\"}\r\n"
     ]
    },
    {
     "name": "stdout",
     "output_type": "stream",
     "text": [
      "[2021-06-07 12:13:01,016][fairseq.trainer][INFO] - begin training epoch 5071\r\n",
      "[2021-06-07 12:13:01,017][fairseq_cli.train][INFO] - Start iterating over samples\r\n"
     ]
    },
    {
     "name": "stdout",
     "output_type": "stream",
     "text": [
      "[2021-06-07 12:16:23,437][fairseq_cli.train][INFO] - begin validation on \"valid\" subset\r\n"
     ]
    },
    {
     "name": "stdout",
     "output_type": "stream",
     "text": [
      "[2021-06-07 12:16:26,090][fairseq.tasks.unpaired_audio_text][INFO] - REF: ɛ n f œ ʂ ə n a d ɵ ʂ ə k t f øː r d eː t s ɔ m h ɛ n d ə p oː ɕ œ r k ɔ n s ɛ t ə n\r\n",
      "[2021-06-07 12:16:26,093][fairseq.tasks.unpaired_audio_text][INFO] - HYP: n ɛ n s j œ r œ yː b j uː œ yː k uː ɵ j m ə n ə m œ k b ə uː s eː r n ɛ oː n ɪ ŋ k l ɪ l s ɔ m k n t n\r\n",
      "[2021-06-07 12:16:26,097][fairseq.tasks.unpaired_audio_text][INFO] - LM [REF]: -53.44462585449219, 0.05339602260269112\r\n",
      "[2021-06-07 12:16:26,097][fairseq.tasks.unpaired_audio_text][INFO] - LM [HYP]: -88.5433349609375, 0.015595279551525574\r\n"
     ]
    },
    {
     "name": "stdout",
     "output_type": "stream",
     "text": [
      "[2021-06-07 12:16:26,608][valid][INFO] - {\"epoch\": 5071, \"valid_loss\": \"1.001\", \"valid_ntokens\": \"3039.79\", \"valid_nsentences\": \"144.214\", \"valid_lm_score_sum\": \"-89416.7\", \"valid_num_pred_chars\": \"48363\", \"valid_vocab_seen_pct\": \"0.893728\", \"valid_uer\": \"100.085\", \"valid_weighted_lm_ppl\": \"74.5356\", \"valid_lm_ppl\": \"59.5353\", \"valid_wps\": \"17187.7\", \"valid_wpb\": \"3039.8\", \"valid_bsz\": \"144.2\", \"valid_num_updates\": \"81136\", \"valid_best_weighted_lm_ppl\": \"73.0296\"}\r\n",
      "[2021-06-07 12:16:26,612][fairseq.checkpoint_utils][INFO] - Preparing to save checkpoint for epoch 5071 @ 81136 updates\r\n",
      "[2021-06-07 12:16:26,613][fairseq.trainer][INFO] - Saving checkpoint to /kaggle/working/checkpoint_last.pt\r\n"
     ]
    },
    {
     "name": "stdout",
     "output_type": "stream",
     "text": [
      "[2021-06-07 12:16:26,659][fairseq.trainer][INFO] - Finished saving checkpoint to /kaggle/working/checkpoint_last.pt\r\n",
      "[2021-06-07 12:16:26,659][fairseq.checkpoint_utils][INFO] - Saved checkpoint /kaggle/working/checkpoint_last.pt (epoch 5071 @ 81136 updates, score 74.53561759019736) (writing took 0.04791110899986961 seconds)\r\n",
      "[2021-06-07 12:16:26,660][fairseq_cli.train][INFO] - end of epoch 5071 (average epoch stats below)\r\n",
      "[2021-06-07 12:16:26,663][train][INFO] - {\"epoch\": 5071, \"train_loss\": \"3.63\", \"train_ntokens\": \"145.688\", \"train_nsentences\": \"145.688\", \"train_temp\": \"0.1\", \"train_code_ppl\": \"8.685\", \"train_loss_code_pen\": \"0.305\", \"train_loss_smoothness\": \"2.011\", \"train_loss_dense_g\": \"4.163\", \"train_lm_score_sum\": 0.0, \"train_num_pred_chars\": 0.0, \"train_loss_grad_pen\": \"0.11\", \"train_loss_dense_d\": \"0.024\", \"train_loss_token_d\": \"0.027\", \"train_wps\": \"11.3\", \"train_ups\": \"0.08\", \"train_wpb\": \"145.7\", \"train_bsz\": \"145.7\", \"train_num_updates\": \"81136\", \"train_lr_discriminator\": \"0.0005\", \"train_lr_generator\": \"0.0004\", \"train_gnorm\": \"36.558\", \"train_clip\": \"93.8\", \"train_train_wall\": \"202\", \"train_wall\": \"3240\"}\r\n"
     ]
    },
    {
     "name": "stdout",
     "output_type": "stream",
     "text": [
      "[2021-06-07 12:16:26,721][fairseq.trainer][INFO] - begin training epoch 5072\r\n",
      "[2021-06-07 12:16:26,722][fairseq_cli.train][INFO] - Start iterating over samples\r\n"
     ]
    },
    {
     "name": "stdout",
     "output_type": "stream",
     "text": [
      "[2021-06-07 12:20:16,793][fairseq_cli.train][INFO] - begin validation on \"valid\" subset\r\n"
     ]
    },
    {
     "name": "stdout",
     "output_type": "stream",
     "text": [
      "[2021-06-07 12:20:19,482][fairseq.tasks.unpaired_audio_text][INFO] - REF: ɛ n f œ ʂ ə n a d ɵ ʂ ə k t f øː r d eː t s ɔ m h ɛ n d ə p oː ɕ œ r k ɔ n s ɛ t ə n\r\n",
      "[2021-06-07 12:20:19,484][fairseq.tasks.unpaired_audio_text][INFO] - HYP: n ɛ n s j œ r œ yː b j uː œ yː k uː ɵ ə n ə m œ k b ə uː s eː r n ɛ oː n ɪ ŋ k l ɪ l s ɔ k m k n t n\r\n",
      "[2021-06-07 12:20:19,489][fairseq.tasks.unpaired_audio_text][INFO] - LM [REF]: -53.44462585449219, 0.05339602260269112\r\n",
      "[2021-06-07 12:20:19,489][fairseq.tasks.unpaired_audio_text][INFO] - LM [HYP]: -88.91741943359375, 0.014046035502621637\r\n"
     ]
    },
    {
     "name": "stdout",
     "output_type": "stream",
     "text": [
      "[2021-06-07 12:20:20,007][valid][INFO] - {\"epoch\": 5072, \"valid_loss\": \"1.001\", \"valid_ntokens\": \"3039.79\", \"valid_nsentences\": \"144.214\", \"valid_lm_score_sum\": \"-89503.5\", \"valid_num_pred_chars\": \"48365\", \"valid_vocab_seen_pct\": \"0.897213\", \"valid_uer\": \"100.101\", \"valid_weighted_lm_ppl\": \"74.2396\", \"valid_lm_ppl\": \"59.7622\", \"valid_wps\": \"17019.9\", \"valid_wpb\": \"3039.8\", \"valid_bsz\": \"144.2\", \"valid_num_updates\": \"81152\", \"valid_best_weighted_lm_ppl\": \"73.0296\"}\r\n",
      "[2021-06-07 12:20:20,010][fairseq.checkpoint_utils][INFO] - Preparing to save checkpoint for epoch 5072 @ 81152 updates\r\n",
      "[2021-06-07 12:20:20,011][fairseq.trainer][INFO] - Saving checkpoint to /kaggle/working/checkpoint_last.pt\r\n"
     ]
    },
    {
     "name": "stdout",
     "output_type": "stream",
     "text": [
      "[2021-06-07 12:20:20,060][fairseq.trainer][INFO] - Finished saving checkpoint to /kaggle/working/checkpoint_last.pt\r\n",
      "[2021-06-07 12:20:20,060][fairseq.checkpoint_utils][INFO] - Saved checkpoint /kaggle/working/checkpoint_last.pt (epoch 5072 @ 81152 updates, score 74.23961683628563) (writing took 0.04972662999989552 seconds)\r\n",
      "[2021-06-07 12:20:20,061][fairseq_cli.train][INFO] - end of epoch 5072 (average epoch stats below)\r\n",
      "[2021-06-07 12:20:20,065][train][INFO] - {\"epoch\": 5072, \"train_loss\": \"3.286\", \"train_ntokens\": \"145.688\", \"train_nsentences\": \"145.688\", \"train_temp\": \"0.1\", \"train_code_ppl\": \"8.67\", \"train_loss_code_pen\": \"0.316\", \"train_loss_smoothness\": \"2.058\", \"train_loss_dense_g\": \"4.288\", \"train_lm_score_sum\": 0.0, \"train_num_pred_chars\": 0.0, \"train_loss_grad_pen\": \"0.093\", \"train_loss_dense_d\": \"0.028\", \"train_loss_token_d\": \"0.026\", \"train_wps\": \"10\", \"train_ups\": \"0.07\", \"train_wpb\": \"145.7\", \"train_bsz\": \"145.7\", \"train_num_updates\": \"81152\", \"train_lr_discriminator\": \"0.0005\", \"train_lr_generator\": \"0.0004\", \"train_gnorm\": \"30.251\", \"train_clip\": \"93.8\", \"train_train_wall\": \"229\", \"train_wall\": \"3474\"}\r\n"
     ]
    },
    {
     "name": "stdout",
     "output_type": "stream",
     "text": [
      "[2021-06-07 12:20:20,126][fairseq.trainer][INFO] - begin training epoch 5073\r\n",
      "[2021-06-07 12:20:20,128][fairseq_cli.train][INFO] - Start iterating over samples\r\n"
     ]
    },
    {
     "name": "stdout",
     "output_type": "stream",
     "text": [
      "[2021-06-07 12:24:18,116][fairseq_cli.train][INFO] - begin validation on \"valid\" subset\r\n"
     ]
    },
    {
     "name": "stdout",
     "output_type": "stream",
     "text": [
      "[2021-06-07 12:24:20,770][fairseq.tasks.unpaired_audio_text][INFO] - REF: ɛ n f œ ʂ ə n a d ɵ ʂ ə k t f øː r d eː t s ɔ m h ɛ n d ə p oː ɕ œ r k ɔ n s ɛ t ə n\r\n",
      "[2021-06-07 12:24:20,773][fairseq.tasks.unpaired_audio_text][INFO] - HYP: n ɛ n s j œ r œ ʂ yː b j uː œ yː k uː ɵ øː j m ə n ə m œ k b ə uː s eː r n v oː n l ɪ ŋ k l ɪ l s ɔ k m k n t n\r\n",
      "[2021-06-07 12:24:20,777][fairseq.tasks.unpaired_audio_text][INFO] - LM [REF]: -53.44462585449219, 0.05339602260269112\r\n",
      "[2021-06-07 12:24:20,778][fairseq.tasks.unpaired_audio_text][INFO] - LM [HYP]: -97.6714859008789, 0.014359581254483477\r\n"
     ]
    },
    {
     "name": "stdout",
     "output_type": "stream",
     "text": [
      "[2021-06-07 12:24:21,316][valid][INFO] - {\"epoch\": 5073, \"valid_loss\": \"1.001\", \"valid_ntokens\": \"3039.79\", \"valid_nsentences\": \"144.214\", \"valid_lm_score_sum\": \"-89556.7\", \"valid_num_pred_chars\": \"48423\", \"valid_vocab_seen_pct\": \"0.890244\", \"valid_uer\": \"100.117\", \"valid_weighted_lm_ppl\": \"75.2352\", \"valid_lm_ppl\": \"59.6265\", \"valid_wps\": \"16904.4\", \"valid_wpb\": \"3039.8\", \"valid_bsz\": \"144.2\", \"valid_num_updates\": \"81168\", \"valid_best_weighted_lm_ppl\": \"73.0296\"}\r\n",
      "[2021-06-07 12:24:21,319][fairseq.checkpoint_utils][INFO] - Preparing to save checkpoint for epoch 5073 @ 81168 updates\r\n",
      "[2021-06-07 12:24:21,321][fairseq.trainer][INFO] - Saving checkpoint to /kaggle/working/checkpoint_last.pt\r\n"
     ]
    },
    {
     "name": "stdout",
     "output_type": "stream",
     "text": [
      "[2021-06-07 12:24:21,367][fairseq.trainer][INFO] - Finished saving checkpoint to /kaggle/working/checkpoint_last.pt\r\n",
      "[2021-06-07 12:24:21,367][fairseq.checkpoint_utils][INFO] - Saved checkpoint /kaggle/working/checkpoint_last.pt (epoch 5073 @ 81168 updates, score 75.23522702338924) (writing took 0.048301050000191026 seconds)\r\n",
      "[2021-06-07 12:24:21,368][fairseq_cli.train][INFO] - end of epoch 5073 (average epoch stats below)\r\n",
      "[2021-06-07 12:24:21,371][train][INFO] - {\"epoch\": 5073, \"train_loss\": \"3.025\", \"train_ntokens\": \"145.688\", \"train_nsentences\": \"145.688\", \"train_temp\": \"0.1\", \"train_code_ppl\": \"8.76\", \"train_loss_code_pen\": \"0.335\", \"train_loss_smoothness\": \"2.074\", \"train_loss_dense_g\": \"4.149\", \"train_lm_score_sum\": 0.0, \"train_num_pred_chars\": 0.0, \"train_loss_grad_pen\": \"0.075\", \"train_loss_dense_d\": \"0.024\", \"train_loss_token_d\": \"0.026\", \"train_wps\": \"9.7\", \"train_ups\": \"0.07\", \"train_wpb\": \"145.7\", \"train_bsz\": \"145.7\", \"train_num_updates\": \"81168\", \"train_lr_discriminator\": \"0.0005\", \"train_lr_generator\": \"0.0004\", \"train_gnorm\": \"29.3\", \"train_clip\": \"62.5\", \"train_train_wall\": \"238\", \"train_wall\": \"3715\"}\r\n"
     ]
    },
    {
     "name": "stdout",
     "output_type": "stream",
     "text": [
      "[2021-06-07 12:24:21,429][fairseq.trainer][INFO] - begin training epoch 5074\r\n",
      "[2021-06-07 12:24:21,430][fairseq_cli.train][INFO] - Start iterating over samples\r\n"
     ]
    },
    {
     "name": "stdout",
     "output_type": "stream",
     "text": [
      "[2021-06-07 12:28:22,606][fairseq_cli.train][INFO] - begin validation on \"valid\" subset\r\n"
     ]
    },
    {
     "name": "stdout",
     "output_type": "stream",
     "text": [
      "[2021-06-07 12:28:25,277][fairseq.tasks.unpaired_audio_text][INFO] - REF: ɛ n f œ ʂ ə n a d ɵ ʂ ə k t f øː r d eː t s ɔ m h ɛ n d ə p oː ɕ œ r k ɔ n s ɛ t ə n\r\n",
      "[2021-06-07 12:28:25,280][fairseq.tasks.unpaired_audio_text][INFO] - HYP: n ɛ n s j œ r œ ʂ yː b j uː œ yː k uː ɵ v m ə n ə m œ k b ə uː s eː r n ɛ oː n l ɪ ŋ k l ɪ l s ɔ k m k n t n\r\n",
      "[2021-06-07 12:28:25,284][fairseq.tasks.unpaired_audio_text][INFO] - LM [REF]: -53.44462585449219, 0.05339602260269112\r\n",
      "[2021-06-07 12:28:25,284][fairseq.tasks.unpaired_audio_text][INFO] - LM [HYP]: -95.9640121459961, 0.014273754666981064\r\n"
     ]
    },
    {
     "name": "stdout",
     "output_type": "stream",
     "text": [
      "[2021-06-07 12:28:25,799][valid][INFO] - {\"epoch\": 5074, \"valid_loss\": \"0.998\", \"valid_ntokens\": \"3039.79\", \"valid_nsentences\": \"144.214\", \"valid_lm_score_sum\": \"-89408.8\", \"valid_num_pred_chars\": \"48183\", \"valid_vocab_seen_pct\": \"0.890244\", \"valid_uer\": \"99.8449\", \"valid_weighted_lm_ppl\": \"76.2014\", \"valid_lm_ppl\": \"60.3922\", \"valid_wps\": \"17372.7\", \"valid_wpb\": \"3039.8\", \"valid_bsz\": \"144.2\", \"valid_num_updates\": \"81184\", \"valid_best_weighted_lm_ppl\": \"73.0296\"}\r\n",
      "[2021-06-07 12:28:25,802][fairseq.checkpoint_utils][INFO] - Preparing to save checkpoint for epoch 5074 @ 81184 updates\r\n",
      "[2021-06-07 12:28:25,803][fairseq.trainer][INFO] - Saving checkpoint to /kaggle/working/checkpoint_last.pt\r\n"
     ]
    },
    {
     "name": "stdout",
     "output_type": "stream",
     "text": [
      "[2021-06-07 12:28:25,851][fairseq.trainer][INFO] - Finished saving checkpoint to /kaggle/working/checkpoint_last.pt\r\n",
      "[2021-06-07 12:28:25,851][fairseq.checkpoint_utils][INFO] - Saved checkpoint /kaggle/working/checkpoint_last.pt (epoch 5074 @ 81184 updates, score 76.20138799919516) (writing took 0.04944590600007359 seconds)\r\n",
      "[2021-06-07 12:28:25,852][fairseq_cli.train][INFO] - end of epoch 5074 (average epoch stats below)\r\n",
      "[2021-06-07 12:28:25,856][train][INFO] - {\"epoch\": 5074, \"train_loss\": \"3.077\", \"train_ntokens\": \"145.688\", \"train_nsentences\": \"145.688\", \"train_temp\": \"0.1\", \"train_code_ppl\": \"8.71\", \"train_loss_code_pen\": \"0.336\", \"train_loss_smoothness\": \"2.082\", \"train_loss_dense_g\": \"4.254\", \"train_lm_score_sum\": 0.0, \"train_num_pred_chars\": 0.0, \"train_loss_grad_pen\": \"0.077\", \"train_loss_dense_d\": \"0.026\", \"train_loss_token_d\": \"0.022\", \"train_wps\": \"9.5\", \"train_ups\": \"0.07\", \"train_wpb\": \"145.7\", \"train_bsz\": \"145.7\", \"train_num_updates\": \"81184\", \"train_lr_discriminator\": \"0.0005\", \"train_lr_generator\": \"0.0004\", \"train_gnorm\": \"29.382\", \"train_clip\": \"68.8\", \"train_train_wall\": \"241\", \"train_wall\": \"3959\"}\r\n"
     ]
    },
    {
     "name": "stdout",
     "output_type": "stream",
     "text": [
      "[2021-06-07 12:28:25,913][fairseq.trainer][INFO] - begin training epoch 5075\r\n",
      "[2021-06-07 12:28:25,914][fairseq_cli.train][INFO] - Start iterating over samples\r\n"
     ]
    },
    {
     "name": "stdout",
     "output_type": "stream",
     "text": [
      "[2021-06-07 12:32:18,908][train_inner][INFO] - {\"epoch\": 5075, \"update\": 5075.0, \"loss\": \"3.188\", \"ntokens\": \"146.26\", \"nsentences\": \"146.26\", \"temp\": \"0.1\", \"code_ppl\": \"8.738\", \"loss_code_pen\": \"0.324\", \"loss_smoothness\": \"2.055\", \"loss_dense_g\": \"4.208\", \"lm_score_sum\": 0.0, \"num_pred_chars\": 0.0, \"loss_grad_pen\": \"0.08\", \"loss_dense_d\": \"0.025\", \"loss_token_d\": \"0.025\", \"wps\": \"10\", \"ups\": \"0.07\", \"wpb\": \"146.3\", \"bsz\": \"146.3\", \"num_updates\": \"81200\", \"lr_discriminator\": \"0.0005\", \"lr_generator\": \"0.0004\", \"gnorm\": \"30.612\", \"clip\": \"76\", \"train_wall\": \"1446\", \"wall\": \"4192\"}\r\n",
      "[2021-06-07 12:32:18,910][fairseq_cli.train][INFO] - begin validation on \"valid\" subset\r\n"
     ]
    },
    {
     "name": "stdout",
     "output_type": "stream",
     "text": [
      "[2021-06-07 12:32:21,578][fairseq.tasks.unpaired_audio_text][INFO] - REF: ɛ n f œ ʂ ə n a d ɵ ʂ ə k t f øː r d eː t s ɔ m h ɛ n d ə p oː ɕ œ r k ɔ n s ɛ t ə n\r\n",
      "[2021-06-07 12:32:21,580][fairseq.tasks.unpaired_audio_text][INFO] - HYP: n ɛ n s j œ r œ yː b j uː œ k uː ɡ ɵ v m n ə m œ k b ə uː s eː r n v oː n l ɪ ŋ k l ɪ l s œ m k n t n\r\n",
      "[2021-06-07 12:32:21,584][fairseq.tasks.unpaired_audio_text][INFO] - LM [REF]: -53.44462585449219, 0.05339602260269112\r\n",
      "[2021-06-07 12:32:21,585][fairseq.tasks.unpaired_audio_text][INFO] - LM [HYP]: -91.3880386352539, 0.013643883014997069\r\n"
     ]
    },
    {
     "name": "stdout",
     "output_type": "stream",
     "text": [
      "[2021-06-07 12:32:22,101][valid][INFO] - {\"epoch\": 5075, \"valid_loss\": \"1.001\", \"valid_ntokens\": \"3039.79\", \"valid_nsentences\": \"144.214\", \"valid_lm_score_sum\": \"-89532.6\", \"valid_num_pred_chars\": \"48324\", \"valid_vocab_seen_pct\": \"0.888502\", \"valid_uer\": \"100.073\", \"valid_weighted_lm_ppl\": \"76.0564\", \"valid_lm_ppl\": \"60.0416\", \"valid_wps\": \"17248.9\", \"valid_wpb\": \"3039.8\", \"valid_bsz\": \"144.2\", \"valid_num_updates\": \"81200\", \"valid_best_weighted_lm_ppl\": \"73.0296\"}\r\n",
      "[2021-06-07 12:32:22,104][fairseq.checkpoint_utils][INFO] - Preparing to save checkpoint for epoch 5075 @ 81200 updates\r\n",
      "[2021-06-07 12:32:22,105][fairseq.trainer][INFO] - Saving checkpoint to /kaggle/working/checkpoint_last.pt\r\n"
     ]
    },
    {
     "name": "stdout",
     "output_type": "stream",
     "text": [
      "[2021-06-07 12:32:22,152][fairseq.trainer][INFO] - Finished saving checkpoint to /kaggle/working/checkpoint_last.pt\r\n",
      "[2021-06-07 12:32:22,152][fairseq.checkpoint_utils][INFO] - Saved checkpoint /kaggle/working/checkpoint_last.pt (epoch 5075 @ 81200 updates, score 76.05642624482074) (writing took 0.04806307299986656 seconds)\r\n",
      "[2021-06-07 12:32:22,153][fairseq_cli.train][INFO] - end of epoch 5075 (average epoch stats below)\r\n",
      "[2021-06-07 12:32:22,157][train][INFO] - {\"epoch\": 5075, \"train_loss\": \"3.086\", \"train_ntokens\": \"145.688\", \"train_nsentences\": \"145.688\", \"train_temp\": \"0.1\", \"train_code_ppl\": \"8.787\", \"train_loss_code_pen\": \"0.324\", \"train_loss_smoothness\": \"2.046\", \"train_loss_dense_g\": \"4.329\", \"train_lm_score_sum\": 0.0, \"train_num_pred_chars\": 0.0, \"train_loss_grad_pen\": \"0.072\", \"train_loss_dense_d\": \"0.022\", \"train_loss_token_d\": \"0.025\", \"train_wps\": \"9.9\", \"train_ups\": \"0.07\", \"train_wpb\": \"145.7\", \"train_bsz\": \"145.7\", \"train_num_updates\": \"81200\", \"train_lr_discriminator\": \"0.0005\", \"train_lr_generator\": \"0.0004\", \"train_gnorm\": \"29.886\", \"train_clip\": \"68.8\", \"train_train_wall\": \"232\", \"train_wall\": \"4196\"}\r\n"
     ]
    },
    {
     "name": "stdout",
     "output_type": "stream",
     "text": [
      "[2021-06-07 12:32:22,215][fairseq.trainer][INFO] - begin training epoch 5076\r\n",
      "[2021-06-07 12:32:22,216][fairseq_cli.train][INFO] - Start iterating over samples\r\n"
     ]
    },
    {
     "name": "stdout",
     "output_type": "stream",
     "text": [
      "[2021-06-07 12:36:10,454][fairseq_cli.train][INFO] - begin validation on \"valid\" subset\r\n"
     ]
    },
    {
     "name": "stdout",
     "output_type": "stream",
     "text": [
      "[2021-06-07 12:36:13,148][fairseq.tasks.unpaired_audio_text][INFO] - REF: ɛ n f œ ʂ ə n a d ɵ ʂ ə k t f øː r d eː t s ɔ m h ɛ n d ə p oː ɕ œ r k ɔ n s ɛ t ə n\r\n",
      "[2021-06-07 12:36:13,150][fairseq.tasks.unpaired_audio_text][INFO] - HYP: n ɪ n s j œ r œ yː b j uː œ k uː ɡ ɵ m ə n ə m œ k ə uː s eː r n v oː n ɪ ŋ k l ɪ l s œ m k t n\r\n",
      "[2021-06-07 12:36:13,154][fairseq.tasks.unpaired_audio_text][INFO] - LM [REF]: -53.44462585449219, 0.05339602260269112\r\n",
      "[2021-06-07 12:36:13,155][fairseq.tasks.unpaired_audio_text][INFO] - LM [HYP]: -79.93677520751953, 0.018291276602177463\r\n"
     ]
    },
    {
     "name": "stdout",
     "output_type": "stream",
     "text": [
      "[2021-06-07 12:36:13,751][valid][INFO] - {\"epoch\": 5076, \"valid_loss\": \"1\", \"valid_ntokens\": \"3039.79\", \"valid_nsentences\": \"144.214\", \"valid_lm_score_sum\": \"-89470.8\", \"valid_num_pred_chars\": \"48333\", \"valid_vocab_seen_pct\": \"0.883275\", \"valid_uer\": \"100.047\", \"valid_weighted_lm_ppl\": \"76.6857\", \"valid_lm_ppl\": \"59.8282\", \"valid_wps\": \"16646.5\", \"valid_wpb\": \"3039.8\", \"valid_bsz\": \"144.2\", \"valid_num_updates\": \"81216\", \"valid_best_weighted_lm_ppl\": \"73.0296\"}\r\n"
     ]
    },
    {
     "name": "stdout",
     "output_type": "stream",
     "text": [
      "[2021-06-07 12:36:13,759][fairseq.checkpoint_utils][INFO] - Preparing to save checkpoint for epoch 5076 @ 81216 updates\r\n",
      "[2021-06-07 12:36:13,760][fairseq.trainer][INFO] - Saving checkpoint to /kaggle/working/checkpoint_last.pt\r\n"
     ]
    },
    {
     "name": "stdout",
     "output_type": "stream",
     "text": [
      "[2021-06-07 12:36:13,822][fairseq.trainer][INFO] - Finished saving checkpoint to /kaggle/working/checkpoint_last.pt\r\n",
      "[2021-06-07 12:36:13,823][fairseq.checkpoint_utils][INFO] - Saved checkpoint /kaggle/working/checkpoint_last.pt (epoch 5076 @ 81216 updates, score 76.68566057432254) (writing took 0.06365731799996865 seconds)\r\n",
      "[2021-06-07 12:36:13,823][fairseq_cli.train][INFO] - end of epoch 5076 (average epoch stats below)\r\n",
      "[2021-06-07 12:36:13,828][train][INFO] - {\"epoch\": 5076, \"train_loss\": \"3.245\", \"train_ntokens\": \"145.688\", \"train_nsentences\": \"145.688\", \"train_temp\": \"0.1\", \"train_code_ppl\": \"8.59\", \"train_loss_code_pen\": \"0.318\", \"train_loss_smoothness\": \"2.063\", \"train_loss_dense_g\": \"4.198\", \"train_lm_score_sum\": 0.0, \"train_num_pred_chars\": 0.0, \"train_loss_grad_pen\": \"0.099\", \"train_loss_dense_d\": \"0.023\", \"train_loss_token_d\": \"0.023\", \"train_wps\": \"10.1\", \"train_ups\": \"0.07\", \"train_wpb\": \"145.7\", \"train_bsz\": \"145.7\", \"train_num_updates\": \"81216\", \"train_lr_discriminator\": \"0.0005\", \"train_lr_generator\": \"0.0004\", \"train_gnorm\": \"30.402\", \"train_clip\": \"81.2\", \"train_train_wall\": \"228\", \"train_wall\": \"4427\"}\r\n"
     ]
    },
    {
     "name": "stdout",
     "output_type": "stream",
     "text": [
      "[2021-06-07 12:36:13,902][fairseq.trainer][INFO] - begin training epoch 5077\r\n",
      "[2021-06-07 12:36:13,903][fairseq_cli.train][INFO] - Start iterating over samples\r\n"
     ]
    },
    {
     "name": "stdout",
     "output_type": "stream",
     "text": [
      "[2021-06-07 12:39:59,889][fairseq_cli.train][INFO] - begin validation on \"valid\" subset\r\n"
     ]
    },
    {
     "name": "stdout",
     "output_type": "stream",
     "text": [
      "[2021-06-07 12:40:02,536][fairseq.tasks.unpaired_audio_text][INFO] - REF: ɛ n f œ ʂ ə n a d ɵ ʂ ə k t f øː r d eː t s ɔ m h ɛ n d ə p oː ɕ œ r k ɔ n s ɛ t ə n\r\n",
      "[2021-06-07 12:40:02,538][fairseq.tasks.unpaired_audio_text][INFO] - HYP: n ɛ n s j œ r œ yː b j uː œ k uː ɡ ɵ v m n ə m œ k b ə uː s eː r n v oː n ɪ ŋ k l ɪ l s ɔ m k n t n\r\n",
      "[2021-06-07 12:40:02,542][fairseq.tasks.unpaired_audio_text][INFO] - LM [REF]: -53.44462585449219, 0.05339602260269112\r\n",
      "[2021-06-07 12:40:02,543][fairseq.tasks.unpaired_audio_text][INFO] - LM [HYP]: -85.09821319580078, 0.016870212707890308\r\n"
     ]
    },
    {
     "name": "stdout",
     "output_type": "stream",
     "text": [
      "[2021-06-07 12:40:03,067][valid][INFO] - {\"epoch\": 5077, \"valid_loss\": \"1.001\", \"valid_ntokens\": \"3039.79\", \"valid_nsentences\": \"144.214\", \"valid_lm_score_sum\": \"-89579.7\", \"valid_num_pred_chars\": \"48417\", \"valid_vocab_seen_pct\": \"0.885017\", \"valid_uer\": \"100.127\", \"valid_weighted_lm_ppl\": \"76.2434\", \"valid_lm_ppl\": \"59.7181\", \"valid_wps\": \"17147.4\", \"valid_wpb\": \"3039.8\", \"valid_bsz\": \"144.2\", \"valid_num_updates\": \"81232\", \"valid_best_weighted_lm_ppl\": \"73.0296\"}\r\n",
      "[2021-06-07 12:40:03,071][fairseq.checkpoint_utils][INFO] - Preparing to save checkpoint for epoch 5077 @ 81232 updates\r\n",
      "[2021-06-07 12:40:03,072][fairseq.trainer][INFO] - Saving checkpoint to /kaggle/working/checkpoint_last.pt\r\n"
     ]
    },
    {
     "name": "stdout",
     "output_type": "stream",
     "text": [
      "[2021-06-07 12:40:03,125][fairseq.trainer][INFO] - Finished saving checkpoint to /kaggle/working/checkpoint_last.pt\r\n",
      "[2021-06-07 12:40:03,125][fairseq.checkpoint_utils][INFO] - Saved checkpoint /kaggle/working/checkpoint_last.pt (epoch 5077 @ 81232 updates, score 76.24341360258121) (writing took 0.054387618999498955 seconds)\r\n",
      "[2021-06-07 12:40:03,126][fairseq_cli.train][INFO] - end of epoch 5077 (average epoch stats below)\r\n"
     ]
    },
    {
     "name": "stdout",
     "output_type": "stream",
     "text": [
      "[2021-06-07 12:40:03,130][train][INFO] - {\"epoch\": 5077, \"train_loss\": \"3.389\", \"train_ntokens\": \"145.688\", \"train_nsentences\": \"145.688\", \"train_temp\": \"0.1\", \"train_code_ppl\": \"8.802\", \"train_loss_code_pen\": \"0.323\", \"train_loss_smoothness\": \"2.082\", \"train_loss_dense_g\": \"4.507\", \"train_lm_score_sum\": 0.0, \"train_num_pred_chars\": 0.0, \"train_loss_grad_pen\": \"0.066\", \"train_loss_dense_d\": \"0.024\", \"train_loss_token_d\": \"0.024\", \"train_wps\": \"10.2\", \"train_ups\": \"0.07\", \"train_wpb\": \"145.7\", \"train_bsz\": \"145.7\", \"train_num_updates\": \"81232\", \"train_lr_discriminator\": \"0.0005\", \"train_lr_generator\": \"0.0004\", \"train_gnorm\": \"29.704\", \"train_clip\": \"75\", \"train_train_wall\": \"225\", \"train_wall\": \"4657\"}\r\n"
     ]
    },
    {
     "name": "stdout",
     "output_type": "stream",
     "text": [
      "[2021-06-07 12:40:03,196][fairseq.trainer][INFO] - begin training epoch 5078\r\n",
      "[2021-06-07 12:40:03,197][fairseq_cli.train][INFO] - Start iterating over samples\r\n"
     ]
    },
    {
     "name": "stdout",
     "output_type": "stream",
     "text": [
      "[2021-06-07 12:43:46,722][fairseq_cli.train][INFO] - begin validation on \"valid\" subset\r\n"
     ]
    },
    {
     "name": "stdout",
     "output_type": "stream",
     "text": [
      "[2021-06-07 12:43:49,374][fairseq.tasks.unpaired_audio_text][INFO] - REF: ɛ n f œ ʂ ə n a d ɵ ʂ ə k t f øː r d eː t s ɔ m h ɛ n d ə p oː ɕ œ r k ɔ n s ɛ t ə n\r\n",
      "[2021-06-07 12:43:49,376][fairseq.tasks.unpaired_audio_text][INFO] - HYP: n ɛ n s j œ r œ yː b j uː œ k uː ɡ ɵ v m n ə m œ k ə uː s eː r n ɛ oː n ɪ ŋ k l ɪ l s œ m k n a\r\n",
      "[2021-06-07 12:43:49,380][fairseq.tasks.unpaired_audio_text][INFO] - LM [REF]: -53.44462585449219, 0.05339602260269112\r\n",
      "[2021-06-07 12:43:49,381][fairseq.tasks.unpaired_audio_text][INFO] - LM [HYP]: -84.5219955444336, 0.01454003039040475\r\n"
     ]
    },
    {
     "name": "stdout",
     "output_type": "stream",
     "text": [
      "[2021-06-07 12:43:49,904][valid][INFO] - {\"epoch\": 5078, \"valid_loss\": \"1.001\", \"valid_ntokens\": \"3039.79\", \"valid_nsentences\": \"144.214\", \"valid_lm_score_sum\": \"-89532.3\", \"valid_num_pred_chars\": \"48352\", \"valid_vocab_seen_pct\": \"0.88676\", \"valid_uer\": \"100.099\", \"valid_weighted_lm_ppl\": \"76.1809\", \"valid_lm_ppl\": \"59.9043\", \"valid_wps\": \"17271.5\", \"valid_wpb\": \"3039.8\", \"valid_bsz\": \"144.2\", \"valid_num_updates\": \"81248\", \"valid_best_weighted_lm_ppl\": \"73.0296\"}\r\n",
      "[2021-06-07 12:43:49,908][fairseq.checkpoint_utils][INFO] - Preparing to save checkpoint for epoch 5078 @ 81248 updates\r\n",
      "[2021-06-07 12:43:49,909][fairseq.trainer][INFO] - Saving checkpoint to /kaggle/working/checkpoint_last.pt\r\n"
     ]
    },
    {
     "name": "stdout",
     "output_type": "stream",
     "text": [
      "[2021-06-07 12:43:49,964][fairseq.trainer][INFO] - Finished saving checkpoint to /kaggle/working/checkpoint_last.pt\r\n",
      "[2021-06-07 12:43:49,965][fairseq.checkpoint_utils][INFO] - Saved checkpoint /kaggle/working/checkpoint_last.pt (epoch 5078 @ 81248 updates, score 76.18088761835534) (writing took 0.05684669800029951 seconds)\r\n",
      "[2021-06-07 12:43:49,965][fairseq_cli.train][INFO] - end of epoch 5078 (average epoch stats below)\r\n",
      "[2021-06-07 12:43:49,968][train][INFO] - {\"epoch\": 5078, \"train_loss\": \"3.255\", \"train_ntokens\": \"145.688\", \"train_nsentences\": \"145.688\", \"train_temp\": \"0.1\", \"train_code_ppl\": \"8.919\", \"train_loss_code_pen\": \"0.332\", \"train_loss_smoothness\": \"2.092\", \"train_loss_dense_g\": \"4.224\", \"train_lm_score_sum\": 0.0, \"train_num_pred_chars\": 0.0, \"train_loss_grad_pen\": \"0.055\", \"train_loss_dense_d\": \"0.023\", \"train_loss_token_d\": \"0.023\", \"train_wps\": \"10.3\", \"train_ups\": \"0.07\", \"train_wpb\": \"145.7\", \"train_bsz\": \"145.7\", \"train_num_updates\": \"81248\", \"train_lr_discriminator\": \"0.0005\", \"train_lr_generator\": \"0.0004\", \"train_gnorm\": \"29.018\", \"train_clip\": \"62.5\", \"train_train_wall\": \"223\", \"train_wall\": \"4884\"}\r\n"
     ]
    },
    {
     "name": "stdout",
     "output_type": "stream",
     "text": [
      "[2021-06-07 12:43:50,027][fairseq.trainer][INFO] - begin training epoch 5079\r\n",
      "[2021-06-07 12:43:50,028][fairseq_cli.train][INFO] - Start iterating over samples\r\n"
     ]
    },
    {
     "name": "stdout",
     "output_type": "stream",
     "text": [
      "[2021-06-07 12:47:13,791][fairseq_cli.train][INFO] - begin validation on \"valid\" subset\r\n"
     ]
    },
    {
     "name": "stdout",
     "output_type": "stream",
     "text": [
      "[2021-06-07 12:47:17,989][fairseq.tasks.unpaired_audio_text][INFO] - REF: ɛ n f œ ʂ ə n a d ɵ ʂ ə k t f øː r d eː t s ɔ m h ɛ n d ə p oː ɕ œ r k ɔ n s ɛ t ə n\r\n",
      "[2021-06-07 12:47:17,992][fairseq.tasks.unpaired_audio_text][INFO] - HYP: n ɛ n s j œ r œ ʂ yː b j uː œ k uː ɡ ɵ øː n ə m œ k b ə uː s eː r n ɛ oː n l ɪ ŋ k l ɪ l s œ m k n t n\r\n",
      "[2021-06-07 12:47:17,996][fairseq.tasks.unpaired_audio_text][INFO] - LM [REF]: -53.44462585449219, 0.05339602260269112\r\n",
      "[2021-06-07 12:47:17,996][fairseq.tasks.unpaired_audio_text][INFO] - LM [HYP]: -91.63203430175781, 0.013488339347061269\r\n"
     ]
    },
    {
     "name": "stdout",
     "output_type": "stream",
     "text": [
      "[2021-06-07 12:47:18,522][valid][INFO] - {\"epoch\": 5079, \"valid_loss\": \"1.002\", \"valid_ntokens\": \"3039.79\", \"valid_nsentences\": \"144.214\", \"valid_lm_score_sum\": \"-89471.8\", \"valid_num_pred_chars\": \"48426\", \"valid_vocab_seen_pct\": \"0.885017\", \"valid_uer\": \"100.179\", \"valid_weighted_lm_ppl\": \"75.8137\", \"valid_lm_ppl\": \"59.3815\", \"valid_wps\": \"16795.2\", \"valid_wpb\": \"3039.8\", \"valid_bsz\": \"144.2\", \"valid_num_updates\": \"81264\", \"valid_best_weighted_lm_ppl\": \"73.0296\"}\r\n",
      "[2021-06-07 12:47:18,525][fairseq.checkpoint_utils][INFO] - Preparing to save checkpoint for epoch 5079 @ 81264 updates\r\n",
      "[2021-06-07 12:47:18,526][fairseq.trainer][INFO] - Saving checkpoint to /kaggle/working/checkpoint_last.pt\r\n"
     ]
    },
    {
     "name": "stdout",
     "output_type": "stream",
     "text": [
      "[2021-06-07 12:47:18,574][fairseq.trainer][INFO] - Finished saving checkpoint to /kaggle/working/checkpoint_last.pt\r\n",
      "[2021-06-07 12:47:18,574][fairseq.checkpoint_utils][INFO] - Saved checkpoint /kaggle/working/checkpoint_last.pt (epoch 5079 @ 81264 updates, score 75.81370152274059) (writing took 0.04967341600058717 seconds)\r\n",
      "[2021-06-07 12:47:18,575][fairseq_cli.train][INFO] - end of epoch 5079 (average epoch stats below)\r\n",
      "[2021-06-07 12:47:18,577][train][INFO] - {\"epoch\": 5079, \"train_loss\": \"3.867\", \"train_ntokens\": \"145.688\", \"train_nsentences\": \"145.688\", \"train_temp\": \"0.1\", \"train_code_ppl\": \"8.76\", \"train_loss_code_pen\": \"0.342\", \"train_loss_smoothness\": \"2.144\", \"train_loss_dense_g\": \"4.438\", \"train_lm_score_sum\": 0.0, \"train_num_pred_chars\": 0.0, \"train_loss_grad_pen\": \"0.096\", \"train_loss_dense_d\": \"0.024\", \"train_loss_token_d\": \"0.024\", \"train_wps\": \"11.2\", \"train_ups\": \"0.08\", \"train_wpb\": \"145.7\", \"train_bsz\": \"145.7\", \"train_num_updates\": \"81264\", \"train_lr_discriminator\": \"0.0005\", \"train_lr_generator\": \"0.0004\", \"train_gnorm\": \"31.928\", \"train_clip\": \"75\", \"train_train_wall\": \"203\", \"train_wall\": \"5092\"}\r\n"
     ]
    },
    {
     "name": "stdout",
     "output_type": "stream",
     "text": [
      "[2021-06-07 12:47:18,633][fairseq.trainer][INFO] - begin training epoch 5080\r\n",
      "[2021-06-07 12:47:18,634][fairseq_cli.train][INFO] - Start iterating over samples\r\n"
     ]
    },
    {
     "name": "stdout",
     "output_type": "stream",
     "text": [
      "[2021-06-07 12:51:15,804][fairseq_cli.train][INFO] - begin validation on \"valid\" subset\r\n"
     ]
    },
    {
     "name": "stdout",
     "output_type": "stream",
     "text": [
      "[2021-06-07 12:51:18,516][fairseq.tasks.unpaired_audio_text][INFO] - REF: ɛ n f œ ʂ ə n a d ɵ ʂ ə k t f øː r d eː t s ɔ m h ɛ n d ə p oː ɕ œ r k ɔ n s ɛ t ə n\r\n",
      "[2021-06-07 12:51:18,519][fairseq.tasks.unpaired_audio_text][INFO] - HYP: n ɛ n s j œ r œ j yː b j uː œ k uː ɡ ɵ n ə m œ k b ə uː s eː r n v oː n l ɪ ŋ k l ɪ l s œ m k n a\r\n",
      "[2021-06-07 12:51:18,523][fairseq.tasks.unpaired_audio_text][INFO] - LM [REF]: -53.44462585449219, 0.05339602260269112\r\n",
      "[2021-06-07 12:51:18,523][fairseq.tasks.unpaired_audio_text][INFO] - LM [HYP]: -85.5528793334961, 0.015126065324103257\r\n"
     ]
    },
    {
     "name": "stdout",
     "output_type": "stream",
     "text": [
      "[2021-06-07 12:51:19,051][valid][INFO] - {\"epoch\": 5080, \"valid_loss\": \"1.001\", \"valid_ntokens\": \"3039.79\", \"valid_nsentences\": \"144.214\", \"valid_lm_score_sum\": \"-89513.5\", \"valid_num_pred_chars\": \"48403\", \"valid_vocab_seen_pct\": \"0.888502\", \"valid_uer\": \"100.099\", \"valid_weighted_lm_ppl\": \"75.5039\", \"valid_lm_ppl\": \"59.6054\", \"valid_wps\": \"16763.4\", \"valid_wpb\": \"3039.8\", \"valid_bsz\": \"144.2\", \"valid_num_updates\": \"81280\", \"valid_best_weighted_lm_ppl\": \"73.0296\"}\r\n",
      "[2021-06-07 12:51:19,055][fairseq.checkpoint_utils][INFO] - Preparing to save checkpoint for epoch 5080 @ 81280 updates\r\n",
      "[2021-06-07 12:51:19,056][fairseq.trainer][INFO] - Saving checkpoint to /kaggle/working/checkpoint_last.pt\r\n"
     ]
    },
    {
     "name": "stdout",
     "output_type": "stream",
     "text": [
      "[2021-06-07 12:51:19,112][fairseq.trainer][INFO] - Finished saving checkpoint to /kaggle/working/checkpoint_last.pt\r\n",
      "[2021-06-07 12:51:19,113][fairseq.checkpoint_utils][INFO] - Saved checkpoint /kaggle/working/checkpoint_last.pt (epoch 5080 @ 81280 updates, score 75.50385761339197) (writing took 0.05819920999965689 seconds)\r\n",
      "[2021-06-07 12:51:19,113][fairseq_cli.train][INFO] - end of epoch 5080 (average epoch stats below)\r\n",
      "[2021-06-07 12:51:19,117][train][INFO] - {\"epoch\": 5080, \"train_loss\": \"3.367\", \"train_ntokens\": \"145.688\", \"train_nsentences\": \"145.688\", \"train_temp\": \"0.1\", \"train_code_ppl\": \"8.685\", \"train_loss_code_pen\": \"0.334\", \"train_loss_smoothness\": \"2.113\", \"train_loss_dense_g\": \"4.369\", \"train_lm_score_sum\": 0.0, \"train_num_pred_chars\": 0.0, \"train_loss_grad_pen\": \"0.098\", \"train_loss_dense_d\": \"0.025\", \"train_loss_token_d\": \"0.039\", \"train_wps\": \"9.7\", \"train_ups\": \"0.07\", \"train_wpb\": \"145.7\", \"train_bsz\": \"145.7\", \"train_num_updates\": \"81280\", \"train_lr_discriminator\": \"0.0005\", \"train_lr_generator\": \"0.0004\", \"train_gnorm\": \"30.412\", \"train_clip\": \"87.5\", \"train_train_wall\": \"237\", \"train_wall\": \"5333\"}\r\n"
     ]
    },
    {
     "name": "stdout",
     "output_type": "stream",
     "text": [
      "[2021-06-07 12:51:19,183][fairseq.trainer][INFO] - begin training epoch 5081\r\n",
      "[2021-06-07 12:51:19,185][fairseq_cli.train][INFO] - Start iterating over samples\r\n"
     ]
    },
    {
     "name": "stdout",
     "output_type": "stream",
     "text": [
      "[2021-06-07 12:55:00,331][fairseq_cli.train][INFO] - begin validation on \"valid\" subset\r\n"
     ]
    },
    {
     "name": "stdout",
     "output_type": "stream",
     "text": [
      "[2021-06-07 12:55:02,964][fairseq.tasks.unpaired_audio_text][INFO] - REF: ɛ n f œ ʂ ə n a d ɵ ʂ ə k t f øː r d eː t s ɔ m h ɛ n d ə p oː ɕ œ r k ɔ n s ɛ t ə n\r\n",
      "[2021-06-07 12:55:02,966][fairseq.tasks.unpaired_audio_text][INFO] - HYP: n ɛ n s j œ r œ yː b j uː œ k uː ɡ ɵ m ə m œ k b ə uː s eː r n v oː n l ɪ ŋ k l ɪ l s œ m k n t n\r\n",
      "[2021-06-07 12:55:02,970][fairseq.tasks.unpaired_audio_text][INFO] - LM [REF]: -53.44462585449219, 0.05339602260269112\r\n",
      "[2021-06-07 12:55:02,970][fairseq.tasks.unpaired_audio_text][INFO] - LM [HYP]: -85.54175567626953, 0.015134310686384342\r\n"
     ]
    },
    {
     "name": "stdout",
     "output_type": "stream",
     "text": [
      "[2021-06-07 12:55:03,493][valid][INFO] - {\"epoch\": 5081, \"valid_loss\": \"1.003\", \"valid_ntokens\": \"3039.79\", \"valid_nsentences\": \"144.214\", \"valid_lm_score_sum\": \"-89738.1\", \"valid_num_pred_chars\": \"48480\", \"valid_vocab_seen_pct\": \"0.891986\", \"valid_uer\": \"100.331\", \"valid_weighted_lm_ppl\": \"75.2162\", \"valid_lm_ppl\": \"59.845\", \"valid_wps\": \"17206\", \"valid_wpb\": \"3039.8\", \"valid_bsz\": \"144.2\", \"valid_num_updates\": \"81296\", \"valid_best_weighted_lm_ppl\": \"73.0296\"}\r\n",
      "[2021-06-07 12:55:03,496][fairseq.checkpoint_utils][INFO] - Preparing to save checkpoint for epoch 5081 @ 81296 updates\r\n",
      "[2021-06-07 12:55:03,498][fairseq.trainer][INFO] - Saving checkpoint to /kaggle/working/checkpoint_last.pt\r\n"
     ]
    },
    {
     "name": "stdout",
     "output_type": "stream",
     "text": [
      "[2021-06-07 12:55:03,545][fairseq.trainer][INFO] - Finished saving checkpoint to /kaggle/working/checkpoint_last.pt\r\n",
      "[2021-06-07 12:55:03,545][fairseq.checkpoint_utils][INFO] - Saved checkpoint /kaggle/working/checkpoint_last.pt (epoch 5081 @ 81296 updates, score 75.2162015495815) (writing took 0.04867612699945312 seconds)\r\n",
      "[2021-06-07 12:55:03,546][fairseq_cli.train][INFO] - end of epoch 5081 (average epoch stats below)\r\n",
      "[2021-06-07 12:55:03,550][train][INFO] - {\"epoch\": 5081, \"train_loss\": \"3.214\", \"train_ntokens\": \"145.688\", \"train_nsentences\": \"145.688\", \"train_temp\": \"0.1\", \"train_code_ppl\": \"8.951\", \"train_loss_code_pen\": \"0.323\", \"train_loss_smoothness\": \"2.077\", \"train_loss_dense_g\": \"4.142\", \"train_lm_score_sum\": 0.0, \"train_num_pred_chars\": 0.0, \"train_loss_grad_pen\": \"0.073\", \"train_loss_dense_d\": \"0.021\", \"train_loss_token_d\": \"0.026\", \"train_wps\": \"10.4\", \"train_ups\": \"0.07\", \"train_wpb\": \"145.7\", \"train_bsz\": \"145.7\", \"train_num_updates\": \"81296\", \"train_lr_discriminator\": \"0.0005\", \"train_lr_generator\": \"0.0004\", \"train_gnorm\": \"29.188\", \"train_clip\": \"75\", \"train_train_wall\": \"221\", \"train_wall\": \"5557\"}\r\n"
     ]
    },
    {
     "name": "stdout",
     "output_type": "stream",
     "text": [
      "[2021-06-07 12:55:03,609][fairseq.trainer][INFO] - begin training epoch 5082\r\n",
      "[2021-06-07 12:55:03,610][fairseq_cli.train][INFO] - Start iterating over samples\r\n"
     ]
    },
    {
     "name": "stdout",
     "output_type": "stream",
     "text": [
      "[2021-06-07 12:56:03,003][train_inner][INFO] - {\"epoch\": 5082, \"update\": 5081.25, \"loss\": \"3.388\", \"ntokens\": \"146.26\", \"nsentences\": \"146.26\", \"temp\": \"0.1\", \"code_ppl\": \"8.783\", \"loss_code_pen\": \"0.329\", \"loss_smoothness\": \"2.097\", \"loss_dense_g\": \"4.307\", \"lm_score_sum\": 0.0, \"num_pred_chars\": 0.0, \"loss_grad_pen\": \"0.082\", \"loss_dense_d\": \"0.024\", \"loss_token_d\": \"0.026\", \"wps\": \"10.3\", \"ups\": \"0.07\", \"wpb\": \"146.3\", \"bsz\": \"146.3\", \"num_updates\": \"81300\", \"lr_discriminator\": \"0.0005\", \"lr_generator\": \"0.0004\", \"gnorm\": \"30.112\", \"clip\": \"77\", \"train_wall\": \"1396\", \"wall\": \"5617\"}\r\n"
     ]
    },
    {
     "name": "stdout",
     "output_type": "stream",
     "text": [
      "[2021-06-07 12:58:28,987][fairseq_cli.train][INFO] - begin validation on \"valid\" subset\r\n"
     ]
    },
    {
     "name": "stdout",
     "output_type": "stream",
     "text": [
      "[2021-06-07 12:58:31,673][fairseq.tasks.unpaired_audio_text][INFO] - REF: ɛ n f œ ʂ ə n a d ɵ ʂ ə k t f øː r d eː t s ɔ m h ɛ n d ə p oː ɕ œ r k ɔ n s ɛ t ə n\r\n",
      "[2021-06-07 12:58:31,675][fairseq.tasks.unpaired_audio_text][INFO] - HYP: n ɛ n s j œ r œ j yː b j uː œ k uː ɵ m ə m œ k b ə uː s eː r n v oː n ɪ ŋ k l ɪ l s m k n a n\r\n",
      "[2021-06-07 12:58:31,679][fairseq.tasks.unpaired_audio_text][INFO] - LM [REF]: -53.44462585449219, 0.05339602260269112\r\n",
      "[2021-06-07 12:58:31,680][fairseq.tasks.unpaired_audio_text][INFO] - LM [HYP]: -80.05380249023438, 0.016635145788493535\r\n"
     ]
    },
    {
     "name": "stdout",
     "output_type": "stream",
     "text": [
      "[2021-06-07 12:58:32,210][valid][INFO] - {\"epoch\": 5082, \"valid_loss\": \"1.002\", \"valid_ntokens\": \"3039.79\", \"valid_nsentences\": \"144.214\", \"valid_lm_score_sum\": \"-89619.1\", \"valid_num_pred_chars\": \"48457\", \"valid_vocab_seen_pct\": \"0.893728\", \"valid_uer\": \"100.244\", \"valid_weighted_lm_ppl\": \"74.6567\", \"valid_lm_ppl\": \"59.6321\", \"valid_wps\": \"16981\", \"valid_wpb\": \"3039.8\", \"valid_bsz\": \"144.2\", \"valid_num_updates\": \"81312\", \"valid_best_weighted_lm_ppl\": \"73.0296\"}\r\n",
      "[2021-06-07 12:58:32,213][fairseq.checkpoint_utils][INFO] - Preparing to save checkpoint for epoch 5082 @ 81312 updates\r\n",
      "[2021-06-07 12:58:32,214][fairseq.trainer][INFO] - Saving checkpoint to /kaggle/working/checkpoint_last.pt\r\n"
     ]
    },
    {
     "name": "stdout",
     "output_type": "stream",
     "text": [
      "[2021-06-07 12:58:32,262][fairseq.trainer][INFO] - Finished saving checkpoint to /kaggle/working/checkpoint_last.pt\r\n",
      "[2021-06-07 12:58:32,263][fairseq.checkpoint_utils][INFO] - Saved checkpoint /kaggle/working/checkpoint_last.pt (epoch 5082 @ 81312 updates, score 74.65672305423477) (writing took 0.04947464700035198 seconds)\r\n",
      "[2021-06-07 12:58:32,263][fairseq_cli.train][INFO] - end of epoch 5082 (average epoch stats below)\r\n",
      "[2021-06-07 12:58:32,266][train][INFO] - {\"epoch\": 5082, \"train_loss\": \"3.708\", \"train_ntokens\": \"145.688\", \"train_nsentences\": \"145.688\", \"train_temp\": \"0.1\", \"train_code_ppl\": \"8.831\", \"train_loss_code_pen\": \"0.337\", \"train_loss_smoothness\": \"2.115\", \"train_loss_dense_g\": \"4.182\", \"train_lm_score_sum\": 0.0, \"train_num_pred_chars\": 0.0, \"train_loss_grad_pen\": \"0.094\", \"train_loss_dense_d\": \"0.024\", \"train_loss_token_d\": \"0.026\", \"train_wps\": \"11.2\", \"train_ups\": \"0.08\", \"train_wpb\": \"145.7\", \"train_bsz\": \"145.7\", \"train_num_updates\": \"81312\", \"train_lr_discriminator\": \"0.0005\", \"train_lr_generator\": \"0.0004\", \"train_gnorm\": \"30.989\", \"train_clip\": \"75\", \"train_train_wall\": \"205\", \"train_wall\": \"5766\"}\r\n"
     ]
    },
    {
     "name": "stdout",
     "output_type": "stream",
     "text": [
      "[2021-06-07 12:58:32,326][fairseq.trainer][INFO] - begin training epoch 5083\r\n",
      "[2021-06-07 12:58:32,327][fairseq_cli.train][INFO] - Start iterating over samples\r\n"
     ]
    },
    {
     "name": "stdout",
     "output_type": "stream",
     "text": [
      "[2021-06-07 13:02:36,686][fairseq_cli.train][INFO] - begin validation on \"valid\" subset\r\n"
     ]
    },
    {
     "name": "stdout",
     "output_type": "stream",
     "text": [
      "[2021-06-07 13:02:39,865][fairseq.tasks.unpaired_audio_text][INFO] - REF: ɛ n f œ ʂ ə n a d ɵ ʂ ə k t f øː r d eː t s ɔ m h ɛ n d ə p oː ɕ œ r k ɔ n s ɛ t ə n\r\n",
      "[2021-06-07 13:02:39,867][fairseq.tasks.unpaired_audio_text][INFO] - HYP: n ɛ n s j œ r œ ʂ yː b j uː œ yː k uː ɵ v m ə m œ k b ə uː s eː r n v oː n l ɪ ŋ k l ɪ l s œ m k n t a\r\n",
      "[2021-06-07 13:02:39,872][fairseq.tasks.unpaired_audio_text][INFO] - LM [REF]: -53.44462585449219, 0.05339602260269112\r\n",
      "[2021-06-07 13:02:39,872][fairseq.tasks.unpaired_audio_text][INFO] - LM [HYP]: -91.4355239868164, 0.013613471868094655\r\n"
     ]
    },
    {
     "name": "stdout",
     "output_type": "stream",
     "text": [
      "[2021-06-07 13:02:40,416][valid][INFO] - {\"epoch\": 5083, \"valid_loss\": \"1.001\", \"valid_ntokens\": \"3039.79\", \"valid_nsentences\": \"144.214\", \"valid_lm_score_sum\": \"-89627.3\", \"valid_num_pred_chars\": \"48332\", \"valid_vocab_seen_pct\": \"0.89547\", \"valid_uer\": \"100.134\", \"valid_weighted_lm_ppl\": \"75.1534\", \"valid_lm_ppl\": \"60.263\", \"valid_wps\": \"16231.3\", \"valid_wpb\": \"3039.8\", \"valid_bsz\": \"144.2\", \"valid_num_updates\": \"81328\", \"valid_best_weighted_lm_ppl\": \"73.0296\"}\r\n",
      "[2021-06-07 13:02:40,419][fairseq.checkpoint_utils][INFO] - Preparing to save checkpoint for epoch 5083 @ 81328 updates\r\n",
      "[2021-06-07 13:02:40,420][fairseq.trainer][INFO] - Saving checkpoint to /kaggle/working/checkpoint_last.pt\r\n"
     ]
    },
    {
     "name": "stdout",
     "output_type": "stream",
     "text": [
      "[2021-06-07 13:02:40,465][fairseq.trainer][INFO] - Finished saving checkpoint to /kaggle/working/checkpoint_last.pt\r\n",
      "[2021-06-07 13:02:40,465][fairseq.checkpoint_utils][INFO] - Saved checkpoint /kaggle/working/checkpoint_last.pt (epoch 5083 @ 81328 updates, score 75.15335549714418) (writing took 0.04626677299984294 seconds)\r\n",
      "[2021-06-07 13:02:40,466][fairseq_cli.train][INFO] - end of epoch 5083 (average epoch stats below)\r\n",
      "[2021-06-07 13:02:40,470][train][INFO] - {\"epoch\": 5083, \"train_loss\": \"2.999\", \"train_ntokens\": \"145.688\", \"train_nsentences\": \"145.688\", \"train_temp\": \"0.1\", \"train_code_ppl\": \"8.758\", \"train_loss_code_pen\": \"0.32\", \"train_loss_smoothness\": \"2.031\", \"train_loss_dense_g\": \"4.136\", \"train_lm_score_sum\": 0.0, \"train_num_pred_chars\": 0.0, \"train_loss_grad_pen\": \"0.089\", \"train_loss_dense_d\": \"0.023\", \"train_loss_token_d\": \"0.024\", \"train_wps\": \"9.4\", \"train_ups\": \"0.06\", \"train_wpb\": \"145.7\", \"train_bsz\": \"145.7\", \"train_num_updates\": \"81328\", \"train_lr_discriminator\": \"0.0005\", \"train_lr_generator\": \"0.0004\", \"train_gnorm\": \"30.495\", \"train_clip\": \"87.5\", \"train_train_wall\": \"244\", \"train_wall\": \"6014\"}\r\n"
     ]
    },
    {
     "name": "stdout",
     "output_type": "stream",
     "text": [
      "[2021-06-07 13:02:40,529][fairseq.trainer][INFO] - begin training epoch 5084\r\n",
      "[2021-06-07 13:02:40,530][fairseq_cli.train][INFO] - Start iterating over samples\r\n"
     ]
    },
    {
     "name": "stdout",
     "output_type": "stream",
     "text": [
      "[2021-06-07 13:06:19,329][fairseq_cli.train][INFO] - begin validation on \"valid\" subset\r\n"
     ]
    },
    {
     "name": "stdout",
     "output_type": "stream",
     "text": [
      "[2021-06-07 13:06:22,018][fairseq.tasks.unpaired_audio_text][INFO] - REF: ɛ n f œ ʂ ə n a d ɵ ʂ ə k t f øː r d eː t s ɔ m h ɛ n d ə p oː ɕ œ r k ɔ n s ɛ t ə n\r\n",
      "[2021-06-07 13:06:22,021][fairseq.tasks.unpaired_audio_text][INFO] - HYP: n ɛ n s j œ r œ j b j uː œ k uː ɵ v ə m œ k b ə uː s eː r n v oː n l ɪ ŋ k l ɪ l s œ m k n t n\r\n",
      "[2021-06-07 13:06:22,025][fairseq.tasks.unpaired_audio_text][INFO] - LM [REF]: -53.44462585449219, 0.05339602260269112\r\n",
      "[2021-06-07 13:06:22,026][fairseq.tasks.unpaired_audio_text][INFO] - LM [HYP]: -85.90138244628906, 0.013569962342659427\r\n"
     ]
    },
    {
     "name": "stdout",
     "output_type": "stream",
     "text": [
      "[2021-06-07 13:06:22,557][valid][INFO] - {\"epoch\": 5084, \"valid_loss\": \"1.002\", \"valid_ntokens\": \"3039.79\", \"valid_nsentences\": \"144.214\", \"valid_lm_score_sum\": \"-89527.9\", \"valid_num_pred_chars\": \"48349\", \"valid_vocab_seen_pct\": \"0.891986\", \"valid_uer\": \"100.16\", \"valid_weighted_lm_ppl\": \"75.294\", \"valid_lm_ppl\": \"59.9069\", \"valid_wps\": \"17069.6\", \"valid_wpb\": \"3039.8\", \"valid_bsz\": \"144.2\", \"valid_num_updates\": \"81344\", \"valid_best_weighted_lm_ppl\": \"73.0296\"}\r\n",
      "[2021-06-07 13:06:22,561][fairseq.checkpoint_utils][INFO] - Preparing to save checkpoint for epoch 5084 @ 81344 updates\r\n",
      "[2021-06-07 13:06:22,562][fairseq.trainer][INFO] - Saving checkpoint to /kaggle/working/checkpoint_last.pt\r\n"
     ]
    },
    {
     "name": "stdout",
     "output_type": "stream",
     "text": [
      "[2021-06-07 13:06:22,610][fairseq.trainer][INFO] - Finished saving checkpoint to /kaggle/working/checkpoint_last.pt\r\n",
      "[2021-06-07 13:06:22,611][fairseq.checkpoint_utils][INFO] - Saved checkpoint /kaggle/working/checkpoint_last.pt (epoch 5084 @ 81344 updates, score 75.2940202457029) (writing took 0.04996585499975481 seconds)\r\n",
      "[2021-06-07 13:06:22,611][fairseq_cli.train][INFO] - end of epoch 5084 (average epoch stats below)\r\n",
      "[2021-06-07 13:06:22,615][train][INFO] - {\"epoch\": 5084, \"train_loss\": \"3.527\", \"train_ntokens\": \"145.688\", \"train_nsentences\": \"145.688\", \"train_temp\": \"0.1\", \"train_code_ppl\": \"8.906\", \"train_loss_code_pen\": \"0.328\", \"train_loss_smoothness\": \"2.096\", \"train_loss_dense_g\": \"4.256\", \"train_lm_score_sum\": 0.0, \"train_num_pred_chars\": 0.0, \"train_loss_grad_pen\": \"0.082\", \"train_loss_dense_d\": \"0.026\", \"train_loss_token_d\": \"0.027\", \"train_wps\": \"10.5\", \"train_ups\": \"0.07\", \"train_wpb\": \"145.7\", \"train_bsz\": \"145.7\", \"train_num_updates\": \"81344\", \"train_lr_discriminator\": \"0.0005\", \"train_lr_generator\": \"0.0004\", \"train_gnorm\": \"30.165\", \"train_clip\": \"75\", \"train_train_wall\": \"218\", \"train_wall\": \"6236\"}\r\n"
     ]
    },
    {
     "name": "stdout",
     "output_type": "stream",
     "text": [
      "[2021-06-07 13:06:22,674][fairseq.trainer][INFO] - begin training epoch 5085\r\n",
      "[2021-06-07 13:06:22,676][fairseq_cli.train][INFO] - Start iterating over samples\r\n"
     ]
    },
    {
     "name": "stdout",
     "output_type": "stream",
     "text": [
      "[2021-06-07 13:09:50,729][fairseq_cli.train][INFO] - begin validation on \"valid\" subset\r\n"
     ]
    },
    {
     "name": "stdout",
     "output_type": "stream",
     "text": [
      "[2021-06-07 13:09:53,547][fairseq.tasks.unpaired_audio_text][INFO] - REF: ɛ n f œ ʂ ə n a d ɵ ʂ ə k t f øː r d eː t s ɔ m h ɛ n d ə p oː ɕ œ r k ɔ n s ɛ t ə n\r\n",
      "[2021-06-07 13:09:53,549][fairseq.tasks.unpaired_audio_text][INFO] - HYP: n ɪ n s j œ r œ j b j uː œ k uː ɵ v ə m œ k b ə uː s eː r n v oː n l ɪ ŋ k l ɪ l s œ m k n a n\r\n",
      "[2021-06-07 13:09:53,553][fairseq.tasks.unpaired_audio_text][INFO] - LM [REF]: -53.44462585449219, 0.05339602260269112\r\n",
      "[2021-06-07 13:09:53,554][fairseq.tasks.unpaired_audio_text][INFO] - LM [HYP]: -84.23139953613281, 0.01475307732844457\r\n"
     ]
    },
    {
     "name": "stdout",
     "output_type": "stream",
     "text": [
      "[2021-06-07 13:09:54,091][valid][INFO] - {\"epoch\": 5085, \"valid_loss\": \"1.001\", \"valid_ntokens\": \"3039.79\", \"valid_nsentences\": \"144.214\", \"valid_lm_score_sum\": \"-89544.9\", \"valid_num_pred_chars\": \"48324\", \"valid_vocab_seen_pct\": \"0.890244\", \"valid_uer\": \"100.125\", \"valid_weighted_lm_ppl\": \"75.8015\", \"valid_lm_ppl\": \"60.0753\", \"valid_wps\": \"16437.4\", \"valid_wpb\": \"3039.8\", \"valid_bsz\": \"144.2\", \"valid_num_updates\": \"81360\", \"valid_best_weighted_lm_ppl\": \"73.0296\"}\r\n",
      "[2021-06-07 13:09:54,094][fairseq.checkpoint_utils][INFO] - Preparing to save checkpoint for epoch 5085 @ 81360 updates\r\n",
      "[2021-06-07 13:09:54,095][fairseq.trainer][INFO] - Saving checkpoint to /kaggle/working/checkpoint_last.pt\r\n"
     ]
    },
    {
     "name": "stdout",
     "output_type": "stream",
     "text": [
      "[2021-06-07 13:09:54,142][fairseq.trainer][INFO] - Finished saving checkpoint to /kaggle/working/checkpoint_last.pt\r\n",
      "[2021-06-07 13:09:54,143][fairseq.checkpoint_utils][INFO] - Saved checkpoint /kaggle/working/checkpoint_last.pt (epoch 5085 @ 81360 updates, score 75.80154799932423) (writing took 0.04833637299998372 seconds)\r\n",
      "[2021-06-07 13:09:54,143][fairseq_cli.train][INFO] - end of epoch 5085 (average epoch stats below)\r\n",
      "[2021-06-07 13:09:54,148][train][INFO] - {\"epoch\": 5085, \"train_loss\": \"3.7\", \"train_ntokens\": \"145.688\", \"train_nsentences\": \"145.688\", \"train_temp\": \"0.1\", \"train_code_ppl\": \"8.784\", \"train_loss_code_pen\": \"0.32\", \"train_loss_smoothness\": \"2.089\", \"train_loss_dense_g\": \"4.169\", \"train_lm_score_sum\": 0.0, \"train_num_pred_chars\": 0.0, \"train_loss_grad_pen\": \"0.129\", \"train_loss_dense_d\": \"0.028\", \"train_loss_token_d\": \"0.036\", \"train_wps\": \"11\", \"train_ups\": \"0.08\", \"train_wpb\": \"145.7\", \"train_bsz\": \"145.7\", \"train_num_updates\": \"81360\", \"train_lr_discriminator\": \"0.0005\", \"train_lr_generator\": \"0.0004\", \"train_gnorm\": \"38.171\", \"train_clip\": \"81.2\", \"train_train_wall\": \"207\", \"train_wall\": \"6448\"}\r\n"
     ]
    },
    {
     "name": "stdout",
     "output_type": "stream",
     "text": [
      "[2021-06-07 13:09:54,216][fairseq.trainer][INFO] - begin training epoch 5086\r\n",
      "[2021-06-07 13:09:54,218][fairseq_cli.train][INFO] - Start iterating over samples\r\n"
     ]
    },
    {
     "name": "stdout",
     "output_type": "stream",
     "text": [
      "[2021-06-07 13:13:21,412][fairseq_cli.train][INFO] - begin validation on \"valid\" subset\r\n"
     ]
    },
    {
     "name": "stdout",
     "output_type": "stream",
     "text": [
      "[2021-06-07 13:13:24,042][fairseq.tasks.unpaired_audio_text][INFO] - REF: ɛ n f œ ʂ ə n a d ɵ ʂ ə k t f øː r d eː t s ɔ m h ɛ n d ə p oː ɕ œ r k ɔ n s ɛ t ə n\r\n",
      "[2021-06-07 13:13:24,044][fairseq.tasks.unpaired_audio_text][INFO] - HYP: n ɪ n s j œ r œ j b j uː œ k uː ɵ ə m œ k b ə uː s eː r n v oː n l ɪ ŋ k l ɪ l s œ m k n t a\r\n"
     ]
    },
    {
     "name": "stdout",
     "output_type": "stream",
     "text": [
      "[2021-06-07 13:13:24,048][fairseq.tasks.unpaired_audio_text][INFO] - LM [REF]: -53.44462585449219, 0.05339602260269112\r\n",
      "[2021-06-07 13:13:24,049][fairseq.tasks.unpaired_audio_text][INFO] - LM [HYP]: -84.05191040039062, 0.013557504862804068\r\n"
     ]
    },
    {
     "name": "stdout",
     "output_type": "stream",
     "text": [
      "[2021-06-07 13:13:24,576][valid][INFO] - {\"epoch\": 5086, \"valid_loss\": \"0.999\", \"valid_ntokens\": \"3039.79\", \"valid_nsentences\": \"144.214\", \"valid_lm_score_sum\": \"-89191.3\", \"valid_num_pred_chars\": \"48102\", \"valid_vocab_seen_pct\": \"0.888502\", \"valid_uer\": \"99.9037\", \"valid_weighted_lm_ppl\": \"76.2436\", \"valid_lm_ppl\": \"60.1894\", \"valid_wps\": \"17225.4\", \"valid_wpb\": \"3039.8\", \"valid_bsz\": \"144.2\", \"valid_num_updates\": \"81376\", \"valid_best_weighted_lm_ppl\": \"73.0296\"}\r\n",
      "[2021-06-07 13:13:24,579][fairseq.checkpoint_utils][INFO] - Preparing to save checkpoint for epoch 5086 @ 81376 updates\r\n",
      "[2021-06-07 13:13:24,581][fairseq.trainer][INFO] - Saving checkpoint to /kaggle/working/checkpoint_last.pt\r\n"
     ]
    },
    {
     "name": "stdout",
     "output_type": "stream",
     "text": [
      "[2021-06-07 13:13:24,629][fairseq.trainer][INFO] - Finished saving checkpoint to /kaggle/working/checkpoint_last.pt\r\n",
      "[2021-06-07 13:13:24,629][fairseq.checkpoint_utils][INFO] - Saved checkpoint /kaggle/working/checkpoint_last.pt (epoch 5086 @ 81376 updates, score 76.2435929214701) (writing took 0.04986545800056774 seconds)\r\n",
      "[2021-06-07 13:13:24,630][fairseq_cli.train][INFO] - end of epoch 5086 (average epoch stats below)\r\n",
      "[2021-06-07 13:13:24,633][train][INFO] - {\"epoch\": 5086, \"train_loss\": \"3.598\", \"train_ntokens\": \"145.688\", \"train_nsentences\": \"145.688\", \"train_temp\": \"0.1\", \"train_code_ppl\": \"9.025\", \"train_loss_code_pen\": \"0.325\", \"train_loss_smoothness\": \"2.099\", \"train_loss_dense_g\": \"4.009\", \"train_lm_score_sum\": 0.0, \"train_num_pred_chars\": 0.0, \"train_loss_grad_pen\": \"0.088\", \"train_loss_dense_d\": \"0.025\", \"train_loss_token_d\": \"0.033\", \"train_wps\": \"11.1\", \"train_ups\": \"0.08\", \"train_wpb\": \"145.7\", \"train_bsz\": \"145.7\", \"train_num_updates\": \"81376\", \"train_lr_discriminator\": \"0.0005\", \"train_lr_generator\": \"0.0004\", \"train_gnorm\": \"29.556\", \"train_clip\": \"68.8\", \"train_train_wall\": \"207\", \"train_wall\": \"6658\"}\r\n"
     ]
    },
    {
     "name": "stdout",
     "output_type": "stream",
     "text": [
      "[2021-06-07 13:13:24,693][fairseq.trainer][INFO] - begin training epoch 5087\r\n",
      "[2021-06-07 13:13:24,695][fairseq_cli.train][INFO] - Start iterating over samples\r\n"
     ]
    },
    {
     "name": "stdout",
     "output_type": "stream",
     "text": [
      "[2021-06-07 13:17:15,828][fairseq_cli.train][INFO] - begin validation on \"valid\" subset\r\n"
     ]
    },
    {
     "name": "stdout",
     "output_type": "stream",
     "text": [
      "[2021-06-07 13:17:18,696][fairseq.tasks.unpaired_audio_text][INFO] - REF: ɛ n f œ ʂ ə n a d ɵ ʂ ə k t f øː r d eː t s ɔ m h ɛ n d ə p oː ɕ œ r k ɔ n s ɛ t ə n\r\n",
      "[2021-06-07 13:17:18,699][fairseq.tasks.unpaired_audio_text][INFO] - HYP: n ɪ n s j œ r œ j ɕ b j uː œ k uː ɵ v n ə m œ k b ə uː s eː r n v oː n l ɪ ŋ k l ɪ l s œ m k n t a\r\n",
      "[2021-06-07 13:17:18,703][fairseq.tasks.unpaired_audio_text][INFO] - LM [REF]: -53.44462585449219, 0.05339602260269112\r\n",
      "[2021-06-07 13:17:18,703][fairseq.tasks.unpaired_audio_text][INFO] - LM [HYP]: -90.41815948486328, 0.013070383909333395\r\n"
     ]
    },
    {
     "name": "stdout",
     "output_type": "stream",
     "text": [
      "[2021-06-07 13:17:19,280][valid][INFO] - {\"epoch\": 5087, \"valid_loss\": \"1\", \"valid_ntokens\": \"3039.79\", \"valid_nsentences\": \"144.214\", \"valid_lm_score_sum\": \"-89485.6\", \"valid_num_pred_chars\": \"48222\", \"valid_vocab_seen_pct\": \"0.891986\", \"valid_uer\": \"100.005\", \"valid_weighted_lm_ppl\": \"75.9297\", \"valid_lm_ppl\": \"60.4126\", \"valid_wps\": \"15423.9\", \"valid_wpb\": \"3039.8\", \"valid_bsz\": \"144.2\", \"valid_num_updates\": \"81392\", \"valid_best_weighted_lm_ppl\": \"73.0296\"}\r\n",
      "[2021-06-07 13:17:19,283][fairseq.checkpoint_utils][INFO] - Preparing to save checkpoint for epoch 5087 @ 81392 updates\r\n",
      "[2021-06-07 13:17:19,284][fairseq.trainer][INFO] - Saving checkpoint to /kaggle/working/checkpoint_last.pt\r\n"
     ]
    },
    {
     "name": "stdout",
     "output_type": "stream",
     "text": [
      "[2021-06-07 13:17:19,330][fairseq.trainer][INFO] - Finished saving checkpoint to /kaggle/working/checkpoint_last.pt\r\n",
      "[2021-06-07 13:17:19,331][fairseq.checkpoint_utils][INFO] - Saved checkpoint /kaggle/working/checkpoint_last.pt (epoch 5087 @ 81392 updates, score 75.92970875475473) (writing took 0.04733308000049874 seconds)\r\n",
      "[2021-06-07 13:17:19,331][fairseq_cli.train][INFO] - end of epoch 5087 (average epoch stats below)\r\n",
      "[2021-06-07 13:17:19,335][train][INFO] - {\"epoch\": 5087, \"train_loss\": \"3.145\", \"train_ntokens\": \"145.688\", \"train_nsentences\": \"145.688\", \"train_temp\": \"0.1\", \"train_code_ppl\": \"9.045\", \"train_loss_code_pen\": \"0.33\", \"train_loss_smoothness\": \"2.092\", \"train_loss_dense_g\": \"3.99\", \"train_lm_score_sum\": 0.0, \"train_num_pred_chars\": 0.0, \"train_loss_grad_pen\": \"0.058\", \"train_loss_dense_d\": \"0.026\", \"train_loss_token_d\": \"0.024\", \"train_wps\": \"9.9\", \"train_ups\": \"0.07\", \"train_wpb\": \"145.7\", \"train_bsz\": \"145.7\", \"train_num_updates\": \"81392\", \"train_lr_discriminator\": \"0.0005\", \"train_lr_generator\": \"0.0004\", \"train_gnorm\": \"28.556\", \"train_clip\": \"68.8\", \"train_train_wall\": \"231\", \"train_wall\": \"6893\"}\r\n"
     ]
    },
    {
     "name": "stdout",
     "output_type": "stream",
     "text": [
      "[2021-06-07 13:17:19,403][fairseq.trainer][INFO] - begin training epoch 5088\r\n",
      "[2021-06-07 13:17:19,405][fairseq_cli.train][INFO] - Start iterating over samples\r\n"
     ]
    },
    {
     "name": "stdout",
     "output_type": "stream",
     "text": [
      "[2021-06-07 13:18:43,045][train_inner][INFO] - {\"epoch\": 5088, \"update\": 5087.5, \"loss\": \"3.488\", \"ntokens\": \"143.97\", \"nsentences\": \"143.97\", \"temp\": \"0.1\", \"code_ppl\": \"8.918\", \"loss_code_pen\": \"0.329\", \"loss_smoothness\": \"2.093\", \"loss_dense_g\": \"4.109\", \"lm_score_sum\": 0.0, \"num_pred_chars\": 0.0, \"loss_grad_pen\": \"0.087\", \"loss_dense_d\": \"0.025\", \"loss_token_d\": \"0.028\", \"wps\": \"10.6\", \"ups\": \"0.07\", \"wpb\": \"144\", \"bsz\": \"144\", \"num_updates\": \"81400\", \"lr_discriminator\": \"0.0005\", \"lr_generator\": \"0.0004\", \"gnorm\": \"31.513\", \"clip\": \"75\", \"train_wall\": \"1336\", \"wall\": \"6977\"}\r\n"
     ]
    },
    {
     "name": "stdout",
     "output_type": "stream",
     "text": [
      "[2021-06-07 13:20:45,141][fairseq_cli.train][INFO] - begin validation on \"valid\" subset\r\n"
     ]
    },
    {
     "name": "stdout",
     "output_type": "stream",
     "text": [
      "[2021-06-07 13:20:47,771][fairseq.tasks.unpaired_audio_text][INFO] - REF: ɛ n f œ ʂ ə n a d ɵ ʂ ə k t f øː r d eː t s ɔ m h ɛ n d ə p oː ɕ œ r k ɔ n s ɛ t ə n\r\n",
      "[2021-06-07 13:20:47,773][fairseq.tasks.unpaired_audio_text][INFO] - HYP: n ɪ n s j œ r œ j ɕ b j uː œ k uː ɵ øː n ə m œ k b ə uː s eː r n v oː n l ɪ ŋ k l ɪ l s œ m k n t n\r\n",
      "[2021-06-07 13:20:47,778][fairseq.tasks.unpaired_audio_text][INFO] - LM [REF]: -53.44462585449219, 0.05339602260269112\r\n",
      "[2021-06-07 13:20:47,778][fairseq.tasks.unpaired_audio_text][INFO] - LM [HYP]: -90.28424835205078, 0.013154615525505094\r\n"
     ]
    },
    {
     "name": "stdout",
     "output_type": "stream",
     "text": [
      "[2021-06-07 13:20:48,349][valid][INFO] - {\"epoch\": 5088, \"valid_loss\": \"1.003\", \"valid_ntokens\": \"3039.79\", \"valid_nsentences\": \"144.214\", \"valid_lm_score_sum\": \"-89642.6\", \"valid_num_pred_chars\": \"48391\", \"valid_vocab_seen_pct\": \"0.891986\", \"valid_uer\": \"100.296\", \"valid_weighted_lm_ppl\": \"75.4318\", \"valid_lm_ppl\": \"60.0165\", \"valid_wps\": \"16848.5\", \"valid_wpb\": \"3039.8\", \"valid_bsz\": \"144.2\", \"valid_num_updates\": \"81408\", \"valid_best_weighted_lm_ppl\": \"73.0296\"}\r\n",
      "[2021-06-07 13:20:48,353][fairseq.checkpoint_utils][INFO] - Preparing to save checkpoint for epoch 5088 @ 81408 updates\r\n",
      "[2021-06-07 13:20:48,354][fairseq.trainer][INFO] - Saving checkpoint to /kaggle/working/checkpoint_last.pt\r\n"
     ]
    },
    {
     "name": "stdout",
     "output_type": "stream",
     "text": [
      "[2021-06-07 13:20:48,403][fairseq.trainer][INFO] - Finished saving checkpoint to /kaggle/working/checkpoint_last.pt\r\n",
      "[2021-06-07 13:20:48,403][fairseq.checkpoint_utils][INFO] - Saved checkpoint /kaggle/working/checkpoint_last.pt (epoch 5088 @ 81408 updates, score 75.43182351404447) (writing took 0.05073156199978257 seconds)\r\n",
      "[2021-06-07 13:20:48,404][fairseq_cli.train][INFO] - end of epoch 5088 (average epoch stats below)\r\n",
      "[2021-06-07 13:20:48,408][train][INFO] - {\"epoch\": 5088, \"train_loss\": \"3.678\", \"train_ntokens\": \"145.688\", \"train_nsentences\": \"145.688\", \"train_temp\": \"0.1\", \"train_code_ppl\": \"8.951\", \"train_loss_code_pen\": \"0.345\", \"train_loss_smoothness\": \"2.136\", \"train_loss_dense_g\": \"4.117\", \"train_lm_score_sum\": 0.0, \"train_num_pred_chars\": 0.0, \"train_loss_grad_pen\": \"0.07\", \"train_loss_dense_d\": \"0.027\", \"train_loss_token_d\": \"0.024\", \"train_wps\": \"11.1\", \"train_ups\": \"0.08\", \"train_wpb\": \"145.7\", \"train_bsz\": \"145.7\", \"train_num_updates\": \"81408\", \"train_lr_discriminator\": \"0.0005\", \"train_lr_generator\": \"0.0004\", \"train_gnorm\": \"31.148\", \"train_clip\": \"75\", \"train_train_wall\": \"205\", \"train_wall\": \"7102\"}\r\n"
     ]
    },
    {
     "name": "stdout",
     "output_type": "stream",
     "text": [
      "[2021-06-07 13:20:48,469][fairseq.trainer][INFO] - begin training epoch 5089\r\n"
     ]
    },
    {
     "name": "stdout",
     "output_type": "stream",
     "text": [
      "[2021-06-07 13:20:48,470][fairseq_cli.train][INFO] - Start iterating over samples\r\n"
     ]
    },
    {
     "name": "stdout",
     "output_type": "stream",
     "text": [
      "[2021-06-07 13:24:33,193][fairseq_cli.train][INFO] - begin validation on \"valid\" subset\r\n"
     ]
    },
    {
     "name": "stdout",
     "output_type": "stream",
     "text": [
      "[2021-06-07 13:24:35,889][fairseq.tasks.unpaired_audio_text][INFO] - REF: ɛ n f œ ʂ ə n a d ɵ ʂ ə k t f øː r d eː t s ɔ m h ɛ n d ə p oː ɕ œ r k ɔ n s ɛ t ə n\r\n",
      "[2021-06-07 13:24:35,891][fairseq.tasks.unpaired_audio_text][INFO] - HYP: n ɪ n s j œ r œ j b j uː œ k uː ɵ n ə m œ k b ə uː s eː r n ɛ oː n l ɪ ŋ k l ɪ l s œ m k n t n\r\n",
      "[2021-06-07 13:24:35,895][fairseq.tasks.unpaired_audio_text][INFO] - LM [REF]: -53.44462585449219, 0.05339602260269112\r\n",
      "[2021-06-07 13:24:35,895][fairseq.tasks.unpaired_audio_text][INFO] - LM [HYP]: -85.54176330566406, 0.013816449369190638\r\n"
     ]
    },
    {
     "name": "stdout",
     "output_type": "stream",
     "text": [
      "[2021-06-07 13:24:36,423][valid][INFO] - {\"epoch\": 5089, \"valid_loss\": \"1\", \"valid_ntokens\": \"3039.79\", \"valid_nsentences\": \"144.214\", \"valid_lm_score_sum\": \"-89536.2\", \"valid_num_pred_chars\": \"48234\", \"valid_vocab_seen_pct\": \"0.891986\", \"valid_uer\": \"100.009\", \"valid_weighted_lm_ppl\": \"76.0314\", \"valid_lm_ppl\": \"60.4936\", \"valid_wps\": \"17148.8\", \"valid_wpb\": \"3039.8\", \"valid_bsz\": \"144.2\", \"valid_num_updates\": \"81424\", \"valid_best_weighted_lm_ppl\": \"73.0296\"}\r\n",
      "[2021-06-07 13:24:36,426][fairseq.checkpoint_utils][INFO] - Preparing to save checkpoint for epoch 5089 @ 81424 updates\r\n",
      "[2021-06-07 13:24:36,427][fairseq.trainer][INFO] - Saving checkpoint to /kaggle/working/checkpoint_last.pt\r\n"
     ]
    },
    {
     "name": "stdout",
     "output_type": "stream",
     "text": [
      "[2021-06-07 13:24:36,475][fairseq.trainer][INFO] - Finished saving checkpoint to /kaggle/working/checkpoint_last.pt\r\n",
      "[2021-06-07 13:24:36,475][fairseq.checkpoint_utils][INFO] - Saved checkpoint /kaggle/working/checkpoint_last.pt (epoch 5089 @ 81424 updates, score 76.03141243732578) (writing took 0.04914634600027057 seconds)\r\n",
      "[2021-06-07 13:24:36,476][fairseq_cli.train][INFO] - end of epoch 5089 (average epoch stats below)\r\n",
      "[2021-06-07 13:24:36,480][train][INFO] - {\"epoch\": 5089, \"train_loss\": \"3.143\", \"train_ntokens\": \"145.688\", \"train_nsentences\": \"145.688\", \"train_temp\": \"0.1\", \"train_code_ppl\": \"8.791\", \"train_loss_code_pen\": \"0.322\", \"train_loss_smoothness\": \"2.081\", \"train_loss_dense_g\": \"4.012\", \"train_lm_score_sum\": 0.0, \"train_num_pred_chars\": 0.0, \"train_loss_grad_pen\": \"0.056\", \"train_loss_dense_d\": \"0.023\", \"train_loss_token_d\": \"0.022\", \"train_wps\": \"10.2\", \"train_ups\": \"0.07\", \"train_wpb\": \"145.7\", \"train_bsz\": \"145.7\", \"train_num_updates\": \"81424\", \"train_lr_discriminator\": \"0.0005\", \"train_lr_generator\": \"0.0004\", \"train_gnorm\": \"28.6\", \"train_clip\": \"75\", \"train_train_wall\": \"224\", \"train_wall\": \"7330\"}\r\n"
     ]
    },
    {
     "name": "stdout",
     "output_type": "stream",
     "text": [
      "[2021-06-07 13:24:36,537][fairseq.trainer][INFO] - begin training epoch 5090\r\n",
      "[2021-06-07 13:24:36,538][fairseq_cli.train][INFO] - Start iterating over samples\r\n"
     ]
    },
    {
     "name": "stdout",
     "output_type": "stream",
     "text": [
      "[2021-06-07 13:28:03,071][fairseq_cli.train][INFO] - begin validation on \"valid\" subset\r\n"
     ]
    },
    {
     "name": "stdout",
     "output_type": "stream",
     "text": [
      "[2021-06-07 13:28:05,697][fairseq.tasks.unpaired_audio_text][INFO] - REF: ɛ n f œ ʂ ə n a d ɵ ʂ ə k t f øː r d eː t s ɔ m h ɛ n d ə p oː ɕ œ r k ɔ n s ɛ t ə n\r\n",
      "[2021-06-07 13:28:05,699][fairseq.tasks.unpaired_audio_text][INFO] - HYP: n ɛ n s j œ r œ j ɕ b j uː œ k uː ɵ øː n ə m œ k b ə uː s eː r n ɛ oː n ɪ ŋ k l ɪ l s œ m k n t a\r\n",
      "[2021-06-07 13:28:05,703][fairseq.tasks.unpaired_audio_text][INFO] - LM [REF]: -53.44462585449219, 0.05339602260269112\r\n",
      "[2021-06-07 13:28:05,703][fairseq.tasks.unpaired_audio_text][INFO] - LM [HYP]: -88.0335922241211, 0.013395065645163831\r\n"
     ]
    },
    {
     "name": "stdout",
     "output_type": "stream",
     "text": [
      "[2021-06-07 13:28:06,232][valid][INFO] - {\"epoch\": 5090, \"valid_loss\": \"1.001\", \"valid_ntokens\": \"3039.79\", \"valid_nsentences\": \"144.214\", \"valid_lm_score_sum\": \"-89476.1\", \"valid_num_pred_chars\": \"48290\", \"valid_vocab_seen_pct\": \"0.893728\", \"valid_uer\": \"100.115\", \"valid_weighted_lm_ppl\": \"75.183\", \"valid_lm_ppl\": \"60.0524\", \"valid_wps\": \"17233.7\", \"valid_wpb\": \"3039.8\", \"valid_bsz\": \"144.2\", \"valid_num_updates\": \"81440\", \"valid_best_weighted_lm_ppl\": \"73.0296\"}\r\n",
      "[2021-06-07 13:28:06,235][fairseq.checkpoint_utils][INFO] - Preparing to save checkpoint for epoch 5090 @ 81440 updates\r\n",
      "[2021-06-07 13:28:06,236][fairseq.trainer][INFO] - Saving checkpoint to /kaggle/working/checkpoint_last.pt\r\n"
     ]
    },
    {
     "name": "stdout",
     "output_type": "stream",
     "text": [
      "[2021-06-07 13:28:06,283][fairseq.trainer][INFO] - Finished saving checkpoint to /kaggle/working/checkpoint_last.pt\r\n",
      "[2021-06-07 13:28:06,284][fairseq.checkpoint_utils][INFO] - Saved checkpoint /kaggle/working/checkpoint_last.pt (epoch 5090 @ 81440 updates, score 75.18296248891568) (writing took 0.04878421499961405 seconds)\r\n",
      "[2021-06-07 13:28:06,284][fairseq_cli.train][INFO] - end of epoch 5090 (average epoch stats below)\r\n",
      "[2021-06-07 13:28:06,288][train][INFO] - {\"epoch\": 5090, \"train_loss\": \"3.729\", \"train_ntokens\": \"145.688\", \"train_nsentences\": \"145.688\", \"train_temp\": \"0.1\", \"train_code_ppl\": \"8.885\", \"train_loss_code_pen\": \"0.332\", \"train_loss_smoothness\": \"2.099\", \"train_loss_dense_g\": \"4.266\", \"train_lm_score_sum\": 0.0, \"train_num_pred_chars\": 0.0, \"train_loss_grad_pen\": \"0.064\", \"train_loss_dense_d\": \"0.022\", \"train_loss_token_d\": \"0.028\", \"train_wps\": \"11.1\", \"train_ups\": \"0.08\", \"train_wpb\": \"145.7\", \"train_bsz\": \"145.7\", \"train_num_updates\": \"81440\", \"train_lr_discriminator\": \"0.0005\", \"train_lr_generator\": \"0.0004\", \"train_gnorm\": \"29.789\", \"train_clip\": \"68.8\", \"train_train_wall\": \"206\", \"train_wall\": \"7540\"}\r\n"
     ]
    },
    {
     "name": "stdout",
     "output_type": "stream",
     "text": [
      "[2021-06-07 13:28:06,345][fairseq.trainer][INFO] - begin training epoch 5091\r\n",
      "[2021-06-07 13:28:06,347][fairseq_cli.train][INFO] - Start iterating over samples\r\n"
     ]
    },
    {
     "name": "stdout",
     "output_type": "stream",
     "text": [
      "[2021-06-07 13:31:35,264][fairseq_cli.train][INFO] - begin validation on \"valid\" subset\r\n"
     ]
    },
    {
     "name": "stdout",
     "output_type": "stream",
     "text": [
      "[2021-06-07 13:31:38,436][fairseq.tasks.unpaired_audio_text][INFO] - REF: ɛ n f œ ʂ ə n a d ɵ ʂ ə k t f øː r d eː t s ɔ m h ɛ n d ə p oː ɕ œ r k ɔ n s ɛ t ə n\r\n",
      "[2021-06-07 13:31:38,438][fairseq.tasks.unpaired_audio_text][INFO] - HYP: n ɛ n s j œ r œ j ɕ b j uː œ k uː ɵ n ə m œ k b ə uː s eː r n v oː n ɪ ŋ k l ɪ l s œ m k n t a\r\n",
      "[2021-06-07 13:31:38,442][fairseq.tasks.unpaired_audio_text][INFO] - LM [REF]: -53.44462585449219, 0.05339602260269112\r\n",
      "[2021-06-07 13:31:38,443][fairseq.tasks.unpaired_audio_text][INFO] - LM [HYP]: -83.4463882446289, 0.015344335357596378\r\n"
     ]
    },
    {
     "name": "stdout",
     "output_type": "stream",
     "text": [
      "[2021-06-07 13:31:38,974][valid][INFO] - {\"epoch\": 5091, \"valid_loss\": \"1\", \"valid_ntokens\": \"3039.79\", \"valid_nsentences\": \"144.214\", \"valid_lm_score_sum\": \"-89331.8\", \"valid_num_pred_chars\": \"48198\", \"valid_vocab_seen_pct\": \"0.897213\", \"valid_uer\": \"99.9507\", \"valid_weighted_lm_ppl\": \"74.6663\", \"valid_lm_ppl\": \"60.1056\", \"valid_wps\": \"16328.3\", \"valid_wpb\": \"3039.8\", \"valid_bsz\": \"144.2\", \"valid_num_updates\": \"81456\", \"valid_best_weighted_lm_ppl\": \"73.0296\"}\r\n",
      "[2021-06-07 13:31:38,977][fairseq.checkpoint_utils][INFO] - Preparing to save checkpoint for epoch 5091 @ 81456 updates\r\n",
      "[2021-06-07 13:31:38,978][fairseq.trainer][INFO] - Saving checkpoint to /kaggle/working/checkpoint_last.pt\r\n"
     ]
    },
    {
     "name": "stdout",
     "output_type": "stream",
     "text": [
      "[2021-06-07 13:31:39,027][fairseq.trainer][INFO] - Finished saving checkpoint to /kaggle/working/checkpoint_last.pt\r\n",
      "[2021-06-07 13:31:39,027][fairseq.checkpoint_utils][INFO] - Saved checkpoint /kaggle/working/checkpoint_last.pt (epoch 5091 @ 81456 updates, score 74.66627824230535) (writing took 0.049968294999416685 seconds)\r\n",
      "[2021-06-07 13:31:39,027][fairseq_cli.train][INFO] - end of epoch 5091 (average epoch stats below)\r\n",
      "[2021-06-07 13:31:39,030][train][INFO] - {\"epoch\": 5091, \"train_loss\": \"3.695\", \"train_ntokens\": \"145.688\", \"train_nsentences\": \"145.688\", \"train_temp\": \"0.1\", \"train_code_ppl\": \"8.966\", \"train_loss_code_pen\": \"0.339\", \"train_loss_smoothness\": \"2.119\", \"train_loss_dense_g\": \"4\", \"train_lm_score_sum\": 0.0, \"train_num_pred_chars\": 0.0, \"train_loss_grad_pen\": \"0.264\", \"train_loss_dense_d\": \"0.039\", \"train_loss_token_d\": \"0.027\", \"train_wps\": \"11\", \"train_ups\": \"0.08\", \"train_wpb\": \"145.7\", \"train_bsz\": \"145.7\", \"train_num_updates\": \"81456\", \"train_lr_discriminator\": \"0.0005\", \"train_lr_generator\": \"0.0004\", \"train_gnorm\": \"55.818\", \"train_clip\": \"81.2\", \"train_train_wall\": \"208\", \"train_wall\": \"7753\"}\r\n"
     ]
    },
    {
     "name": "stdout",
     "output_type": "stream",
     "text": [
      "[2021-06-07 13:31:39,090][fairseq.trainer][INFO] - begin training epoch 5092\r\n",
      "[2021-06-07 13:31:39,092][fairseq_cli.train][INFO] - Start iterating over samples\r\n"
     ]
    },
    {
     "name": "stdout",
     "output_type": "stream",
     "text": [
      "[2021-06-07 13:35:20,582][fairseq_cli.train][INFO] - begin validation on \"valid\" subset\r\n"
     ]
    },
    {
     "name": "stdout",
     "output_type": "stream",
     "text": [
      "[2021-06-07 13:35:23,277][fairseq.tasks.unpaired_audio_text][INFO] - REF: ɛ n f œ ʂ ə n a d ɵ ʂ ə k t f øː r d eː t s ɔ m h ɛ n d ə p oː ɕ œ r k ɔ n s ɛ t ə n\r\n",
      "[2021-06-07 13:35:23,279][fairseq.tasks.unpaired_audio_text][INFO] - HYP: n ɪ n s j œ r œ ʂ b j uː œ k uː ɵ øː ə m œ k b ə uː s eː r n ɛ oː n ɪ ŋ k l ɪ l s œ m k n a\r\n",
      "[2021-06-07 13:35:23,283][fairseq.tasks.unpaired_audio_text][INFO] - LM [REF]: -53.44462585449219, 0.05339602260269112\r\n",
      "[2021-06-07 13:35:23,284][fairseq.tasks.unpaired_audio_text][INFO] - LM [HYP]: -81.36305236816406, 0.014152713622960835\r\n"
     ]
    },
    {
     "name": "stdout",
     "output_type": "stream",
     "text": [
      "[2021-06-07 13:35:23,897][valid][INFO] - {\"epoch\": 5092, \"valid_loss\": \"1.002\", \"valid_ntokens\": \"3039.79\", \"valid_nsentences\": \"144.214\", \"valid_lm_score_sum\": \"-89724.5\", \"valid_num_pred_chars\": \"48386\", \"valid_vocab_seen_pct\": \"0.898955\", \"valid_uer\": \"100.244\", \"valid_weighted_lm_ppl\": \"74.5753\", \"valid_lm_ppl\": \"60.2657\", \"valid_wps\": \"16220.6\", \"valid_wpb\": \"3039.8\", \"valid_bsz\": \"144.2\", \"valid_num_updates\": \"81472\", \"valid_best_weighted_lm_ppl\": \"73.0296\"}\r\n",
      "[2021-06-07 13:35:23,900][fairseq.checkpoint_utils][INFO] - Preparing to save checkpoint for epoch 5092 @ 81472 updates\r\n",
      "[2021-06-07 13:35:23,901][fairseq.trainer][INFO] - Saving checkpoint to /kaggle/working/checkpoint_last.pt\r\n"
     ]
    },
    {
     "name": "stdout",
     "output_type": "stream",
     "text": [
      "[2021-06-07 13:35:23,951][fairseq.trainer][INFO] - Finished saving checkpoint to /kaggle/working/checkpoint_last.pt\r\n",
      "[2021-06-07 13:35:23,951][fairseq.checkpoint_utils][INFO] - Saved checkpoint /kaggle/working/checkpoint_last.pt (epoch 5092 @ 81472 updates, score 74.5752688376993) (writing took 0.05077812499985157 seconds)\r\n",
      "[2021-06-07 13:35:23,952][fairseq_cli.train][INFO] - end of epoch 5092 (average epoch stats below)\r\n",
      "[2021-06-07 13:35:23,955][train][INFO] - {\"epoch\": 5092, \"train_loss\": \"3.538\", \"train_ntokens\": \"145.688\", \"train_nsentences\": \"145.688\", \"train_temp\": \"0.1\", \"train_code_ppl\": \"8.913\", \"train_loss_code_pen\": \"0.344\", \"train_loss_smoothness\": \"2.126\", \"train_loss_dense_g\": \"4.242\", \"train_lm_score_sum\": 0.0, \"train_num_pred_chars\": 0.0, \"train_loss_grad_pen\": \"0.072\", \"train_loss_dense_d\": \"0.028\", \"train_loss_token_d\": \"0.025\", \"train_wps\": \"10.4\", \"train_ups\": \"0.07\", \"train_wpb\": \"145.7\", \"train_bsz\": \"145.7\", \"train_num_updates\": \"81472\", \"train_lr_discriminator\": \"0.0005\", \"train_lr_generator\": \"0.0004\", \"train_gnorm\": \"29.842\", \"train_clip\": \"81.2\", \"train_train_wall\": \"221\", \"train_wall\": \"7977\"}\r\n"
     ]
    },
    {
     "name": "stdout",
     "output_type": "stream",
     "text": [
      "[2021-06-07 13:35:24,023][fairseq.trainer][INFO] - begin training epoch 5093\r\n",
      "[2021-06-07 13:35:24,024][fairseq_cli.train][INFO] - Start iterating over samples\r\n"
     ]
    },
    {
     "name": "stdout",
     "output_type": "stream",
     "text": [
      "[2021-06-07 13:39:15,400][fairseq_cli.train][INFO] - begin validation on \"valid\" subset\r\n"
     ]
    },
    {
     "name": "stdout",
     "output_type": "stream",
     "text": [
      "[2021-06-07 13:39:18,098][fairseq.tasks.unpaired_audio_text][INFO] - REF: ɛ n f œ ʂ ə n a d ɵ ʂ ə k t f øː r d eː t s ɔ m h ɛ n d ə p oː ɕ œ r k ɔ n s ɛ t ə n\r\n",
      "[2021-06-07 13:39:18,100][fairseq.tasks.unpaired_audio_text][INFO] - HYP: n ɪ n s j œ r œ b j uː œ k uː ɵ n ə m œ k b ə uː s eː r n ɛ oː n ɪ ŋ k l ɪ l s œ m k n a\r\n",
      "[2021-06-07 13:39:18,104][fairseq.tasks.unpaired_audio_text][INFO] - LM [REF]: -53.44462585449219, 0.05339602260269112\r\n",
      "[2021-06-07 13:39:18,105][fairseq.tasks.unpaired_audio_text][INFO] - LM [HYP]: -78.48614501953125, 0.014953429705950816\r\n"
     ]
    },
    {
     "name": "stdout",
     "output_type": "stream",
     "text": [
      "[2021-06-07 13:39:18,642][valid][INFO] - {\"epoch\": 5093, \"valid_loss\": \"1.001\", \"valid_ntokens\": \"3039.79\", \"valid_nsentences\": \"144.214\", \"valid_lm_score_sum\": \"-89419\", \"valid_num_pred_chars\": \"48282\", \"valid_vocab_seen_pct\": \"0.891986\", \"valid_uer\": \"100.101\", \"valid_weighted_lm_ppl\": \"75.329\", \"valid_lm_ppl\": \"59.9347\", \"valid_wps\": \"16803.8\", \"valid_wpb\": \"3039.8\", \"valid_bsz\": \"144.2\", \"valid_num_updates\": \"81488\", \"valid_best_weighted_lm_ppl\": \"73.0296\"}\r\n"
     ]
    },
    {
     "name": "stdout",
     "output_type": "stream",
     "text": [
      "[2021-06-07 13:39:18,646][fairseq.checkpoint_utils][INFO] - Preparing to save checkpoint for epoch 5093 @ 81488 updates\r\n",
      "[2021-06-07 13:39:18,647][fairseq.trainer][INFO] - Saving checkpoint to /kaggle/working/checkpoint_last.pt\r\n"
     ]
    },
    {
     "name": "stdout",
     "output_type": "stream",
     "text": [
      "[2021-06-07 13:39:18,695][fairseq.trainer][INFO] - Finished saving checkpoint to /kaggle/working/checkpoint_last.pt\r\n",
      "[2021-06-07 13:39:18,695][fairseq.checkpoint_utils][INFO] - Saved checkpoint /kaggle/working/checkpoint_last.pt (epoch 5093 @ 81488 updates, score 75.32895190765014) (writing took 0.04953730099987297 seconds)\r\n",
      "[2021-06-07 13:39:18,696][fairseq_cli.train][INFO] - end of epoch 5093 (average epoch stats below)\r\n",
      "[2021-06-07 13:39:18,700][train][INFO] - {\"epoch\": 5093, \"train_loss\": \"3.208\", \"train_ntokens\": \"145.688\", \"train_nsentences\": \"145.688\", \"train_temp\": \"0.1\", \"train_code_ppl\": \"8.568\", \"train_loss_code_pen\": \"0.305\", \"train_loss_smoothness\": \"2.014\", \"train_loss_dense_g\": \"4.19\", \"train_lm_score_sum\": 0.0, \"train_num_pred_chars\": 0.0, \"train_loss_grad_pen\": \"0.093\", \"train_loss_dense_d\": \"0.025\", \"train_loss_token_d\": \"0.023\", \"train_wps\": \"9.9\", \"train_ups\": \"0.07\", \"train_wpb\": \"145.7\", \"train_bsz\": \"145.7\", \"train_num_updates\": \"81488\", \"train_lr_discriminator\": \"0.0005\", \"train_lr_generator\": \"0.0004\", \"train_gnorm\": \"29.951\", \"train_clip\": \"75\", \"train_train_wall\": \"231\", \"train_wall\": \"8212\"}\r\n"
     ]
    },
    {
     "name": "stdout",
     "output_type": "stream",
     "text": [
      "[2021-06-07 13:39:18,760][fairseq.trainer][INFO] - begin training epoch 5094\r\n",
      "[2021-06-07 13:39:18,761][fairseq_cli.train][INFO] - Start iterating over samples\r\n"
     ]
    },
    {
     "name": "stdout",
     "output_type": "stream",
     "text": [
      "[2021-06-07 13:42:06,200][train_inner][INFO] - {\"epoch\": 5094, \"update\": 5093.75, \"loss\": \"3.425\", \"ntokens\": \"146.26\", \"nsentences\": \"146.26\", \"temp\": \"0.1\", \"code_ppl\": \"8.829\", \"loss_code_pen\": \"0.33\", \"loss_smoothness\": \"2.095\", \"loss_dense_g\": \"4.146\", \"lm_score_sum\": 0.0, \"num_pred_chars\": 0.0, \"loss_grad_pen\": \"0.101\", \"loss_dense_d\": \"0.027\", \"loss_token_d\": \"0.025\", \"wps\": \"10.4\", \"ups\": \"0.07\", \"wpb\": \"146.3\", \"bsz\": \"146.3\", \"num_updates\": \"81500\", \"lr_discriminator\": \"0.0005\", \"lr_generator\": \"0.0004\", \"gnorm\": \"33.705\", \"clip\": \"75\", \"train_wall\": \"1379\", \"wall\": \"8380\"}\r\n"
     ]
    },
    {
     "name": "stdout",
     "output_type": "stream",
     "text": [
      "[2021-06-07 13:43:03,750][fairseq_cli.train][INFO] - begin validation on \"valid\" subset\r\n"
     ]
    },
    {
     "name": "stdout",
     "output_type": "stream",
     "text": [
      "[2021-06-07 13:43:06,425][fairseq.tasks.unpaired_audio_text][INFO] - REF: ɛ n f œ ʂ ə n a d ɵ ʂ ə k t f øː r d eː t s ɔ m h ɛ n d ə p oː ɕ œ r k ɔ n s ɛ t ə n\r\n",
      "[2021-06-07 13:43:06,428][fairseq.tasks.unpaired_audio_text][INFO] - HYP: n ɛ n s j œ r œ ʂ b j uː œ k uː ɵ v ə ə m œ k b ə uː s eː r n ɛ oː n ɪ ŋ k l ɪ l s œ k m k n a\r\n"
     ]
    },
    {
     "name": "stdout",
     "output_type": "stream",
     "text": [
      "[2021-06-07 13:43:06,432][fairseq.tasks.unpaired_audio_text][INFO] - LM [REF]: -53.44462585449219, 0.05339602260269112\r\n",
      "[2021-06-07 13:43:06,433][fairseq.tasks.unpaired_audio_text][INFO] - LM [HYP]: -85.62560272216797, 0.01375858761783757\r\n"
     ]
    },
    {
     "name": "stdout",
     "output_type": "stream",
     "text": [
      "[2021-06-07 13:43:06,961][valid][INFO] - {\"epoch\": 5094, \"valid_loss\": \"1\", \"valid_ntokens\": \"3039.79\", \"valid_nsentences\": \"144.214\", \"valid_lm_score_sum\": \"-89587.2\", \"valid_num_pred_chars\": \"48283\", \"valid_vocab_seen_pct\": \"0.89547\", \"valid_uer\": \"99.9765\", \"valid_weighted_lm_ppl\": \"75.3155\", \"valid_lm_ppl\": \"60.393\", \"valid_wps\": \"16986.9\", \"valid_wpb\": \"3039.8\", \"valid_bsz\": \"144.2\", \"valid_num_updates\": \"81504\", \"valid_best_weighted_lm_ppl\": \"73.0296\"}\r\n",
      "[2021-06-07 13:43:06,964][fairseq.checkpoint_utils][INFO] - Preparing to save checkpoint for epoch 5094 @ 81504 updates\r\n",
      "[2021-06-07 13:43:06,965][fairseq.trainer][INFO] - Saving checkpoint to /kaggle/working/checkpoint_last.pt\r\n"
     ]
    },
    {
     "name": "stdout",
     "output_type": "stream",
     "text": [
      "[2021-06-07 13:43:07,017][fairseq.trainer][INFO] - Finished saving checkpoint to /kaggle/working/checkpoint_last.pt\r\n",
      "[2021-06-07 13:43:07,017][fairseq.checkpoint_utils][INFO] - Saved checkpoint /kaggle/working/checkpoint_last.pt (epoch 5094 @ 81504 updates, score 75.31549404714464) (writing took 0.053025860999696306 seconds)\r\n",
      "[2021-06-07 13:43:07,018][fairseq_cli.train][INFO] - end of epoch 5094 (average epoch stats below)\r\n",
      "[2021-06-07 13:43:07,021][train][INFO] - {\"epoch\": 5094, \"train_loss\": \"3.238\", \"train_ntokens\": \"145.688\", \"train_nsentences\": \"145.688\", \"train_temp\": \"0.1\", \"train_code_ppl\": \"8.965\", \"train_loss_code_pen\": \"0.339\", \"train_loss_smoothness\": \"2.129\", \"train_loss_dense_g\": \"4.093\", \"train_lm_score_sum\": 0.0, \"train_num_pred_chars\": 0.0, \"train_loss_grad_pen\": \"0.102\", \"train_loss_dense_d\": \"0.024\", \"train_loss_token_d\": \"0.021\", \"train_wps\": \"10.2\", \"train_ups\": \"0.07\", \"train_wpb\": \"145.7\", \"train_bsz\": \"145.7\", \"train_num_updates\": \"81504\", \"train_lr_discriminator\": \"0.0005\", \"train_lr_generator\": \"0.0004\", \"train_gnorm\": \"29.986\", \"train_clip\": \"68.8\", \"train_train_wall\": \"224\", \"train_wall\": \"8441\"}\r\n"
     ]
    },
    {
     "name": "stdout",
     "output_type": "stream",
     "text": [
      "[2021-06-07 13:43:07,081][fairseq.trainer][INFO] - begin training epoch 5095\r\n",
      "[2021-06-07 13:43:07,082][fairseq_cli.train][INFO] - Start iterating over samples\r\n"
     ]
    },
    {
     "name": "stdout",
     "output_type": "stream",
     "text": [
      "[2021-06-07 13:46:32,951][fairseq_cli.train][INFO] - begin validation on \"valid\" subset\r\n"
     ]
    },
    {
     "name": "stdout",
     "output_type": "stream",
     "text": [
      "[2021-06-07 13:46:35,657][fairseq.tasks.unpaired_audio_text][INFO] - REF: ɛ n f œ ʂ ə n a d ɵ ʂ ə k t f øː r d eː t s ɔ m h ɛ n d ə p oː ɕ œ r k ɔ n s ɛ t ə n\r\n",
      "[2021-06-07 13:46:35,660][fairseq.tasks.unpaired_audio_text][INFO] - HYP: n ɪ n s j œ r œ j yː b j uː œ k uː ɵ j n ə m œ k b ə uː s eː r n v oː n ɪ ŋ k l ɪ l a s œ m a n a\r\n",
      "[2021-06-07 13:46:35,665][fairseq.tasks.unpaired_audio_text][INFO] - LM [REF]: -53.44462585449219, 0.05339602260269112\r\n",
      "[2021-06-07 13:46:35,665][fairseq.tasks.unpaired_audio_text][INFO] - LM [HYP]: -82.8541030883789, 0.017264211300614434\r\n"
     ]
    },
    {
     "name": "stdout",
     "output_type": "stream",
     "text": [
      "[2021-06-07 13:46:36,219][valid][INFO] - {\"epoch\": 5095, \"valid_loss\": \"1.002\", \"valid_ntokens\": \"3039.79\", \"valid_nsentences\": \"144.214\", \"valid_lm_score_sum\": \"-89682.7\", \"valid_num_pred_chars\": \"48492\", \"valid_vocab_seen_pct\": \"0.891986\", \"valid_uer\": \"100.186\", \"valid_weighted_lm_ppl\": \"74.9535\", \"valid_lm_ppl\": \"59.636\", \"valid_wps\": \"16915.6\", \"valid_wpb\": \"3039.8\", \"valid_bsz\": \"144.2\", \"valid_num_updates\": \"81520\", \"valid_best_weighted_lm_ppl\": \"73.0296\"}\r\n",
      "[2021-06-07 13:46:36,222][fairseq.checkpoint_utils][INFO] - Preparing to save checkpoint for epoch 5095 @ 81520 updates\r\n",
      "[2021-06-07 13:46:36,223][fairseq.trainer][INFO] - Saving checkpoint to /kaggle/working/checkpoint_last.pt\r\n"
     ]
    },
    {
     "name": "stdout",
     "output_type": "stream",
     "text": [
      "[2021-06-07 13:46:36,273][fairseq.trainer][INFO] - Finished saving checkpoint to /kaggle/working/checkpoint_last.pt\r\n",
      "[2021-06-07 13:46:36,273][fairseq.checkpoint_utils][INFO] - Saved checkpoint /kaggle/working/checkpoint_last.pt (epoch 5095 @ 81520 updates, score 74.95352806525523) (writing took 0.051351823000004515 seconds)\r\n",
      "[2021-06-07 13:46:36,274][fairseq_cli.train][INFO] - end of epoch 5095 (average epoch stats below)\r\n",
      "[2021-06-07 13:46:36,277][train][INFO] - {\"epoch\": 5095, \"train_loss\": \"3.721\", \"train_ntokens\": \"145.688\", \"train_nsentences\": \"145.688\", \"train_temp\": \"0.1\", \"train_code_ppl\": \"8.672\", \"train_loss_code_pen\": \"0.322\", \"train_loss_smoothness\": \"2.069\", \"train_loss_dense_g\": \"4.297\", \"train_lm_score_sum\": 0.0, \"train_num_pred_chars\": 0.0, \"train_loss_grad_pen\": \"0.061\", \"train_loss_dense_d\": \"0.024\", \"train_loss_token_d\": \"0.024\", \"train_wps\": \"11.1\", \"train_ups\": \"0.08\", \"train_wpb\": \"145.7\", \"train_bsz\": \"145.7\", \"train_num_updates\": \"81520\", \"train_lr_discriminator\": \"0.0005\", \"train_lr_generator\": \"0.0004\", \"train_gnorm\": \"30.179\", \"train_clip\": \"62.5\", \"train_train_wall\": \"205\", \"train_wall\": \"8650\"}\r\n"
     ]
    },
    {
     "name": "stdout",
     "output_type": "stream",
     "text": [
      "[2021-06-07 13:46:36,332][fairseq.trainer][INFO] - begin training epoch 5096\r\n",
      "[2021-06-07 13:46:36,334][fairseq_cli.train][INFO] - Start iterating over samples\r\n"
     ]
    },
    {
     "name": "stdout",
     "output_type": "stream",
     "text": [
      "[2021-06-07 13:50:12,025][fairseq_cli.train][INFO] - begin validation on \"valid\" subset\r\n"
     ]
    },
    {
     "name": "stdout",
     "output_type": "stream",
     "text": [
      "[2021-06-07 13:50:14,745][fairseq.tasks.unpaired_audio_text][INFO] - REF: ɛ n f œ ʂ ə n a d ɵ ʂ ə k t f øː r d eː t s ɔ m h ɛ n d ə p oː ɕ œ r k ɔ n s ɛ t ə n\r\n",
      "[2021-06-07 13:50:14,748][fairseq.tasks.unpaired_audio_text][INFO] - HYP: n ɵ n s j œ r œ yː b j uː œ k uː ɵ ə m œ k b ə uː s eː r n v oː n l ɪ ŋ k l ɪ l s œ m k n t a\r\n",
      "[2021-06-07 13:50:14,752][fairseq.tasks.unpaired_audio_text][INFO] - LM [REF]: -53.44462585449219, 0.05339602260269112\r\n",
      "[2021-06-07 13:50:14,752][fairseq.tasks.unpaired_audio_text][INFO] - LM [HYP]: -84.65487670898438, 0.013145603158040966\r\n"
     ]
    },
    {
     "name": "stdout",
     "output_type": "stream",
     "text": [
      "[2021-06-07 13:50:15,277][valid][INFO] - {\"epoch\": 5096, \"valid_loss\": \"1.002\", \"valid_ntokens\": \"3039.79\", \"valid_nsentences\": \"144.214\", \"valid_lm_score_sum\": \"-89441.5\", \"valid_num_pred_chars\": \"48378\", \"valid_vocab_seen_pct\": \"0.891986\", \"valid_uer\": \"100.157\", \"valid_weighted_lm_ppl\": \"74.8207\", \"valid_lm_ppl\": \"59.5303\", \"valid_wps\": \"17045.6\", \"valid_wpb\": \"3039.8\", \"valid_bsz\": \"144.2\", \"valid_num_updates\": \"81536\", \"valid_best_weighted_lm_ppl\": \"73.0296\"}\r\n",
      "[2021-06-07 13:50:15,280][fairseq.checkpoint_utils][INFO] - Preparing to save checkpoint for epoch 5096 @ 81536 updates\r\n",
      "[2021-06-07 13:50:15,282][fairseq.trainer][INFO] - Saving checkpoint to /kaggle/working/checkpoint_last.pt\r\n"
     ]
    },
    {
     "name": "stdout",
     "output_type": "stream",
     "text": [
      "[2021-06-07 13:50:15,329][fairseq.trainer][INFO] - Finished saving checkpoint to /kaggle/working/checkpoint_last.pt\r\n",
      "[2021-06-07 13:50:15,329][fairseq.checkpoint_utils][INFO] - Saved checkpoint /kaggle/working/checkpoint_last.pt (epoch 5096 @ 81536 updates, score 74.82073770244494) (writing took 0.0486952619994554 seconds)\r\n",
      "[2021-06-07 13:50:15,330][fairseq_cli.train][INFO] - end of epoch 5096 (average epoch stats below)\r\n",
      "[2021-06-07 13:50:15,333][train][INFO] - {\"epoch\": 5096, \"train_loss\": \"3.483\", \"train_ntokens\": \"145.688\", \"train_nsentences\": \"145.688\", \"train_temp\": \"0.1\", \"train_code_ppl\": \"8.716\", \"train_loss_code_pen\": \"0.308\", \"train_loss_smoothness\": \"2.03\", \"train_loss_dense_g\": \"4.202\", \"train_lm_score_sum\": 0.0, \"train_num_pred_chars\": 0.0, \"train_loss_grad_pen\": \"0.137\", \"train_loss_dense_d\": \"0.025\", \"train_loss_token_d\": \"0.031\", \"train_wps\": \"10.6\", \"train_ups\": \"0.07\", \"train_wpb\": \"145.7\", \"train_bsz\": \"145.7\", \"train_num_updates\": \"81536\", \"train_lr_discriminator\": \"0.0005\", \"train_lr_generator\": \"0.0004\", \"train_gnorm\": \"30.143\", \"train_clip\": \"81.2\", \"train_train_wall\": \"215\", \"train_wall\": \"8869\"}\r\n"
     ]
    },
    {
     "name": "stdout",
     "output_type": "stream",
     "text": [
      "[2021-06-07 13:50:15,392][fairseq.trainer][INFO] - begin training epoch 5097\r\n",
      "[2021-06-07 13:50:15,394][fairseq_cli.train][INFO] - Start iterating over samples\r\n"
     ]
    },
    {
     "name": "stdout",
     "output_type": "stream",
     "text": [
      "[2021-06-07 13:54:07,200][fairseq_cli.train][INFO] - begin validation on \"valid\" subset\r\n"
     ]
    },
    {
     "name": "stdout",
     "output_type": "stream",
     "text": [
      "[2021-06-07 13:54:09,868][fairseq.tasks.unpaired_audio_text][INFO] - REF: ɛ n f œ ʂ ə n a d ɵ ʂ ə k t f øː r d eː t s ɔ m h ɛ n d ə p oː ɕ œ r k ɔ n s ɛ t ə n\r\n",
      "[2021-06-07 13:54:09,871][fairseq.tasks.unpaired_audio_text][INFO] - HYP: n ɛ n s j œ r œ j ɕ b j uː œ k uː ɵ v ə m œ k b ə uː s eː r n v oː n ɪ ŋ k l ɪ l s œ m k n t a\r\n",
      "[2021-06-07 13:54:09,877][fairseq.tasks.unpaired_audio_text][INFO] - LM [REF]: -53.44462585449219, 0.05339602260269112\r\n",
      "[2021-06-07 13:54:09,877][fairseq.tasks.unpaired_audio_text][INFO] - LM [HYP]: -84.26390838623047, 0.014729089619285367\r\n"
     ]
    },
    {
     "name": "stdout",
     "output_type": "stream",
     "text": [
      "[2021-06-07 13:54:10,492][valid][INFO] - {\"epoch\": 5097, \"valid_loss\": \"1\", \"valid_ntokens\": \"3039.79\", \"valid_nsentences\": \"144.214\", \"valid_lm_score_sum\": \"-89343.7\", \"valid_num_pred_chars\": \"48175\", \"valid_vocab_seen_pct\": \"0.893728\", \"valid_uer\": \"99.9695\", \"valid_weighted_lm_ppl\": \"75.4321\", \"valid_lm_ppl\": \"60.2514\", \"valid_wps\": \"16338.1\", \"valid_wpb\": \"3039.8\", \"valid_bsz\": \"144.2\", \"valid_num_updates\": \"81552\", \"valid_best_weighted_lm_ppl\": \"73.0296\"}\r\n",
      "[2021-06-07 13:54:10,495][fairseq.checkpoint_utils][INFO] - Preparing to save checkpoint for epoch 5097 @ 81552 updates\r\n",
      "[2021-06-07 13:54:10,497][fairseq.trainer][INFO] - Saving checkpoint to /kaggle/working/checkpoint_last.pt\r\n"
     ]
    },
    {
     "name": "stdout",
     "output_type": "stream",
     "text": [
      "[2021-06-07 13:54:10,544][fairseq.trainer][INFO] - Finished saving checkpoint to /kaggle/working/checkpoint_last.pt\r\n",
      "[2021-06-07 13:54:10,545][fairseq.checkpoint_utils][INFO] - Saved checkpoint /kaggle/working/checkpoint_last.pt (epoch 5097 @ 81552 updates, score 75.43209824210392) (writing took 0.04935652200038021 seconds)\r\n",
      "[2021-06-07 13:54:10,545][fairseq_cli.train][INFO] - end of epoch 5097 (average epoch stats below)\r\n",
      "[2021-06-07 13:54:10,549][train][INFO] - {\"epoch\": 5097, \"train_loss\": \"3.12\", \"train_ntokens\": \"145.688\", \"train_nsentences\": \"145.688\", \"train_temp\": \"0.1\", \"train_code_ppl\": \"8.801\", \"train_loss_code_pen\": \"0.316\", \"train_loss_smoothness\": \"2.063\", \"train_loss_dense_g\": \"3.971\", \"train_lm_score_sum\": 0.0, \"train_num_pred_chars\": 0.0, \"train_loss_grad_pen\": \"0.07\", \"train_loss_dense_d\": \"0.025\", \"train_loss_token_d\": \"0.023\", \"train_wps\": \"9.9\", \"train_ups\": \"0.07\", \"train_wpb\": \"145.7\", \"train_bsz\": \"145.7\", \"train_num_updates\": \"81552\", \"train_lr_discriminator\": \"0.0005\", \"train_lr_generator\": \"0.0004\", \"train_gnorm\": \"28.747\", \"train_clip\": \"68.8\", \"train_train_wall\": \"231\", \"train_wall\": \"9104\"}\r\n"
     ]
    },
    {
     "name": "stdout",
     "output_type": "stream",
     "text": [
      "[2021-06-07 13:54:10,607][fairseq.trainer][INFO] - begin training epoch 5098\r\n",
      "[2021-06-07 13:54:10,608][fairseq_cli.train][INFO] - Start iterating over samples\r\n"
     ]
    },
    {
     "name": "stdout",
     "output_type": "stream",
     "text": [
      "[2021-06-07 13:58:10,979][fairseq_cli.train][INFO] - begin validation on \"valid\" subset\r\n"
     ]
    },
    {
     "name": "stdout",
     "output_type": "stream",
     "text": [
      "[2021-06-07 13:58:13,724][fairseq.tasks.unpaired_audio_text][INFO] - REF: ɛ n f œ ʂ ə n a d ɵ ʂ ə k t f øː r d eː t s ɔ m h ɛ n d ə p oː ɕ œ r k ɔ n s ɛ t ə n\r\n",
      "[2021-06-07 13:58:13,726][fairseq.tasks.unpaired_audio_text][INFO] - HYP: n ɪ n s j œ r œ j b j uː œ k uː ɵ v ə m œ k b ə uː s eː r n v oː n ɪ ŋ k l ɪ l s œ m k n t a\r\n",
      "[2021-06-07 13:58:13,730][fairseq.tasks.unpaired_audio_text][INFO] - LM [REF]: -53.44462585449219, 0.05339602260269112\r\n",
      "[2021-06-07 13:58:13,730][fairseq.tasks.unpaired_audio_text][INFO] - LM [HYP]: -82.0280532836914, 0.015036763580634107\r\n"
     ]
    },
    {
     "name": "stdout",
     "output_type": "stream",
     "text": [
      "[2021-06-07 13:58:14,272][valid][INFO] - {\"epoch\": 5098, \"valid_loss\": \"1\", \"valid_ntokens\": \"3039.79\", \"valid_nsentences\": \"144.214\", \"valid_lm_score_sum\": \"-89599.9\", \"valid_num_pred_chars\": \"48313\", \"valid_vocab_seen_pct\": \"0.900697\", \"valid_uer\": \"100.012\", \"valid_weighted_lm_ppl\": \"74.3055\", \"valid_lm_ppl\": \"60.2807\", \"valid_wps\": \"16637\", \"valid_wpb\": \"3039.8\", \"valid_bsz\": \"144.2\", \"valid_num_updates\": \"81568\", \"valid_best_weighted_lm_ppl\": \"73.0296\"}\r\n",
      "[2021-06-07 13:58:14,276][fairseq.checkpoint_utils][INFO] - Preparing to save checkpoint for epoch 5098 @ 81568 updates\r\n",
      "[2021-06-07 13:58:14,277][fairseq.trainer][INFO] - Saving checkpoint to /kaggle/working/checkpoint_last.pt\r\n"
     ]
    },
    {
     "name": "stdout",
     "output_type": "stream",
     "text": [
      "[2021-06-07 13:58:14,324][fairseq.trainer][INFO] - Finished saving checkpoint to /kaggle/working/checkpoint_last.pt\r\n",
      "[2021-06-07 13:58:14,324][fairseq.checkpoint_utils][INFO] - Saved checkpoint /kaggle/working/checkpoint_last.pt (epoch 5098 @ 81568 updates, score 74.30546036159176) (writing took 0.04862171899912937 seconds)\r\n",
      "[2021-06-07 13:58:14,325][fairseq_cli.train][INFO] - end of epoch 5098 (average epoch stats below)\r\n",
      "[2021-06-07 13:58:14,328][train][INFO] - {\"epoch\": 5098, \"train_loss\": \"3.05\", \"train_ntokens\": \"145.688\", \"train_nsentences\": \"145.688\", \"train_temp\": \"0.1\", \"train_code_ppl\": \"8.872\", \"train_loss_code_pen\": \"0.314\", \"train_loss_smoothness\": \"2.034\", \"train_loss_dense_g\": \"4.307\", \"train_lm_score_sum\": 0.0, \"train_num_pred_chars\": 0.0, \"train_loss_grad_pen\": \"0.044\", \"train_loss_dense_d\": \"0.023\", \"train_loss_token_d\": \"0.024\", \"train_wps\": \"9.6\", \"train_ups\": \"0.07\", \"train_wpb\": \"145.7\", \"train_bsz\": \"145.7\", \"train_num_updates\": \"81568\", \"train_lr_discriminator\": \"0.0005\", \"train_lr_generator\": \"0.0004\", \"train_gnorm\": \"28.383\", \"train_clip\": \"62.5\", \"train_train_wall\": \"240\", \"train_wall\": \"9348\"}\r\n"
     ]
    },
    {
     "name": "stdout",
     "output_type": "stream",
     "text": [
      "[2021-06-07 13:58:14,384][fairseq.trainer][INFO] - begin training epoch 5099\r\n",
      "[2021-06-07 13:58:14,385][fairseq_cli.train][INFO] - Start iterating over samples\r\n"
     ]
    },
    {
     "name": "stdout",
     "output_type": "stream",
     "text": [
      "[2021-06-07 14:01:51,444][fairseq_cli.train][INFO] - begin validation on \"valid\" subset\r\n"
     ]
    },
    {
     "name": "stdout",
     "output_type": "stream",
     "text": [
      "[2021-06-07 14:01:54,105][fairseq.tasks.unpaired_audio_text][INFO] - REF: ɛ n f œ ʂ ə n a d ɵ ʂ ə k t f øː r d eː t s ɔ m h ɛ n d ə p oː ɕ œ r k ɔ n s ɛ t ə n\r\n",
      "[2021-06-07 14:01:54,108][fairseq.tasks.unpaired_audio_text][INFO] - HYP: n ɛ n s j œ r œ j b j uː œ yː k uː ɵ v j n ə m œ k b ə uː s eː r n ɛ oː n ɪ ŋ k l ɪ l s œ m k n t a\r\n",
      "[2021-06-07 14:01:54,112][fairseq.tasks.unpaired_audio_text][INFO] - LM [REF]: -53.44462585449219, 0.05339602260269112\r\n",
      "[2021-06-07 14:01:54,113][fairseq.tasks.unpaired_audio_text][INFO] - LM [HYP]: -89.6824951171875, 0.013539875938218869\r\n"
     ]
    },
    {
     "name": "stdout",
     "output_type": "stream",
     "text": [
      "[2021-06-07 14:01:54,638][valid][INFO] - {\"epoch\": 5099, \"valid_loss\": \"1\", \"valid_ntokens\": \"3039.79\", \"valid_nsentences\": \"144.214\", \"valid_lm_score_sum\": \"-89514\", \"valid_num_pred_chars\": \"48414\", \"valid_vocab_seen_pct\": \"0.88676\", \"valid_uer\": \"100.042\", \"valid_weighted_lm_ppl\": \"75.7352\", \"valid_lm_ppl\": \"59.5538\", \"valid_wps\": \"17162.9\", \"valid_wpb\": \"3039.8\", \"valid_bsz\": \"144.2\", \"valid_num_updates\": \"81584\", \"valid_best_weighted_lm_ppl\": \"73.0296\"}\r\n",
      "[2021-06-07 14:01:54,641][fairseq.checkpoint_utils][INFO] - Preparing to save checkpoint for epoch 5099 @ 81584 updates\r\n",
      "[2021-06-07 14:01:54,643][fairseq.trainer][INFO] - Saving checkpoint to /kaggle/working/checkpoint_last.pt\r\n"
     ]
    },
    {
     "name": "stdout",
     "output_type": "stream",
     "text": [
      "[2021-06-07 14:01:54,691][fairseq.trainer][INFO] - Finished saving checkpoint to /kaggle/working/checkpoint_last.pt\r\n",
      "[2021-06-07 14:01:54,691][fairseq.checkpoint_utils][INFO] - Saved checkpoint /kaggle/working/checkpoint_last.pt (epoch 5099 @ 81584 updates, score 75.7351920000201) (writing took 0.049672360999466036 seconds)\r\n",
      "[2021-06-07 14:01:54,692][fairseq_cli.train][INFO] - end of epoch 5099 (average epoch stats below)\r\n",
      "[2021-06-07 14:01:54,695][train][INFO] - {\"epoch\": 5099, \"train_loss\": \"3.461\", \"train_ntokens\": \"145.688\", \"train_nsentences\": \"145.688\", \"train_temp\": \"0.1\", \"train_code_ppl\": \"8.845\", \"train_loss_code_pen\": \"0.326\", \"train_loss_smoothness\": \"2.099\", \"train_loss_dense_g\": \"4.136\", \"train_lm_score_sum\": 0.0, \"train_num_pred_chars\": 0.0, \"train_loss_grad_pen\": \"0.081\", \"train_loss_dense_d\": \"0.022\", \"train_loss_token_d\": \"0.024\", \"train_wps\": \"10.6\", \"train_ups\": \"0.07\", \"train_wpb\": \"145.7\", \"train_bsz\": \"145.7\", \"train_num_updates\": \"81584\", \"train_lr_discriminator\": \"0.0005\", \"train_lr_generator\": \"0.0004\", \"train_gnorm\": \"29.274\", \"train_clip\": \"68.8\", \"train_train_wall\": \"216\", \"train_wall\": \"9568\"}\r\n"
     ]
    },
    {
     "name": "stdout",
     "output_type": "stream",
     "text": [
      "[2021-06-07 14:01:54,751][fairseq.trainer][INFO] - begin training epoch 5100\r\n",
      "[2021-06-07 14:01:54,752][fairseq_cli.train][INFO] - Start iterating over samples\r\n"
     ]
    },
    {
     "name": "stdout",
     "output_type": "stream",
     "text": [
      "[2021-06-07 14:05:38,020][train_inner][INFO] - {\"epoch\": 5100, \"update\": 5100.0, \"loss\": \"3.387\", \"ntokens\": \"146.26\", \"nsentences\": \"146.26\", \"temp\": \"0.1\", \"code_ppl\": \"8.785\", \"loss_code_pen\": \"0.319\", \"loss_smoothness\": \"2.065\", \"loss_dense_g\": \"4.177\", \"lm_score_sum\": 0.0, \"num_pred_chars\": 0.0, \"loss_grad_pen\": \"0.088\", \"loss_dense_d\": \"0.024\", \"loss_token_d\": \"0.025\", \"wps\": \"10.4\", \"ups\": \"0.07\", \"wpb\": \"146.3\", \"bsz\": \"146.3\", \"num_updates\": \"81600\", \"lr_discriminator\": \"0.0005\", \"lr_generator\": \"0.0004\", \"gnorm\": \"29.489\", \"clip\": \"70\", \"train_wall\": \"1388\", \"wall\": \"9792\"}\r\n",
      "[2021-06-07 14:05:38,022][fairseq_cli.train][INFO] - begin validation on \"valid\" subset\r\n"
     ]
    },
    {
     "name": "stdout",
     "output_type": "stream",
     "text": [
      "[2021-06-07 14:05:40,709][fairseq.tasks.unpaired_audio_text][INFO] - REF: ɛ n f œ ʂ ə n a d ɵ ʂ ə k t f øː r d eː t s ɔ m h ɛ n d ə p oː ɕ œ r k ɔ n s ɛ t ə n\r\n",
      "[2021-06-07 14:05:40,712][fairseq.tasks.unpaired_audio_text][INFO] - HYP: n ɵ n s j œ r œ b j uː œ yː k uː ɵ j n ə m œ k b ə uː s eː r n v oː n ɪ ŋ k l ɪ l a s œ m k t a\r\n"
     ]
    },
    {
     "name": "stdout",
     "output_type": "stream",
     "text": [
      "[2021-06-07 14:05:40,716][fairseq.tasks.unpaired_audio_text][INFO] - LM [REF]: -53.44462585449219, 0.05339602260269112\r\n",
      "[2021-06-07 14:05:40,717][fairseq.tasks.unpaired_audio_text][INFO] - LM [HYP]: -82.20252990722656, 0.01633008631535838\r\n"
     ]
    },
    {
     "name": "stdout",
     "output_type": "stream",
     "text": [
      "[2021-06-07 14:05:41,276][valid][INFO] - {\"epoch\": 5100, \"valid_loss\": \"1.005\", \"valid_ntokens\": \"3039.79\", \"valid_nsentences\": \"144.214\", \"valid_lm_score_sum\": \"-90182.7\", \"valid_num_pred_chars\": \"48639\", \"valid_vocab_seen_pct\": \"0.89547\", \"valid_uer\": \"100.465\", \"valid_weighted_lm_ppl\": \"75.1839\", \"valid_lm_ppl\": \"60.2875\", \"valid_wps\": \"16670.6\", \"valid_wpb\": \"3039.8\", \"valid_bsz\": \"144.2\", \"valid_num_updates\": \"81600\", \"valid_best_weighted_lm_ppl\": \"73.0296\"}\r\n",
      "[2021-06-07 14:05:41,279][fairseq.checkpoint_utils][INFO] - Preparing to save checkpoint for epoch 5100 @ 81600 updates\r\n",
      "[2021-06-07 14:05:41,280][fairseq.trainer][INFO] - Saving checkpoint to /kaggle/working/checkpoint_last.pt\r\n"
     ]
    },
    {
     "name": "stdout",
     "output_type": "stream",
     "text": [
      "[2021-06-07 14:05:41,331][fairseq.trainer][INFO] - Finished saving checkpoint to /kaggle/working/checkpoint_last.pt\r\n",
      "[2021-06-07 14:05:41,331][fairseq.checkpoint_utils][INFO] - Saved checkpoint /kaggle/working/checkpoint_last.pt (epoch 5100 @ 81600 updates, score 75.18385422096765) (writing took 0.05157828499977768 seconds)\r\n",
      "[2021-06-07 14:05:41,331][fairseq_cli.train][INFO] - end of epoch 5100 (average epoch stats below)\r\n",
      "[2021-06-07 14:05:41,335][train][INFO] - {\"epoch\": 5100, \"train_loss\": \"3.462\", \"train_ntokens\": \"145.688\", \"train_nsentences\": \"145.688\", \"train_temp\": \"0.1\", \"train_code_ppl\": \"8.715\", \"train_loss_code_pen\": \"0.317\", \"train_loss_smoothness\": \"2.067\", \"train_loss_dense_g\": \"4.137\", \"train_lm_score_sum\": 0.0, \"train_num_pred_chars\": 0.0, \"train_loss_grad_pen\": \"0.121\", \"train_loss_dense_d\": \"0.027\", \"train_loss_token_d\": \"0.023\", \"train_wps\": \"10.3\", \"train_ups\": \"0.07\", \"train_wpb\": \"145.7\", \"train_bsz\": \"145.7\", \"train_num_updates\": \"81600\", \"train_lr_discriminator\": \"0.0005\", \"train_lr_generator\": \"0.0004\", \"train_gnorm\": \"29.67\", \"train_clip\": \"75\", \"train_train_wall\": \"223\", \"train_wall\": \"9795\"}\r\n"
     ]
    },
    {
     "name": "stdout",
     "output_type": "stream",
     "text": [
      "[2021-06-07 14:05:41,402][fairseq.trainer][INFO] - begin training epoch 5101\r\n",
      "[2021-06-07 14:05:41,404][fairseq_cli.train][INFO] - Start iterating over samples\r\n"
     ]
    },
    {
     "name": "stdout",
     "output_type": "stream",
     "text": [
      "[2021-06-07 14:09:35,088][fairseq_cli.train][INFO] - begin validation on \"valid\" subset\r\n"
     ]
    },
    {
     "name": "stdout",
     "output_type": "stream",
     "text": [
      "[2021-06-07 14:09:37,774][fairseq.tasks.unpaired_audio_text][INFO] - REF: ɛ n f œ ʂ ə n a d ɵ ʂ ə k t f øː r d eː t s ɔ m h ɛ n d ə p oː ɕ œ r k ɔ n s ɛ t ə n\r\n",
      "[2021-06-07 14:09:37,776][fairseq.tasks.unpaired_audio_text][INFO] - HYP: n ɛ n s j œ r œ b j uː œ yː k uː ɵ n ə m œ k b ə uː s eː r n v oː n l ɪ ŋ k l ɪ l s œ k m k n t a\r\n",
      "[2021-06-07 14:09:37,780][fairseq.tasks.unpaired_audio_text][INFO] - LM [REF]: -53.44462585449219, 0.05339602260269112\r\n",
      "[2021-06-07 14:09:37,781][fairseq.tasks.unpaired_audio_text][INFO] - LM [HYP]: -86.80875396728516, 0.014223459311681758\r\n"
     ]
    },
    {
     "name": "stdout",
     "output_type": "stream",
     "text": [
      "[2021-06-07 14:09:38,317][valid][INFO] - {\"epoch\": 5101, \"valid_loss\": \"1.003\", \"valid_ntokens\": \"3039.79\", \"valid_nsentences\": \"144.214\", \"valid_lm_score_sum\": \"-89878.5\", \"valid_num_pred_chars\": \"48469\", \"valid_vocab_seen_pct\": \"0.890244\", \"valid_uer\": \"100.254\", \"valid_weighted_lm_ppl\": \"76.0638\", \"valid_lm_ppl\": \"60.2832\", \"valid_wps\": \"16837.3\", \"valid_wpb\": \"3039.8\", \"valid_bsz\": \"144.2\", \"valid_num_updates\": \"81616\", \"valid_best_weighted_lm_ppl\": \"73.0296\"}\r\n",
      "[2021-06-07 14:09:38,320][fairseq.checkpoint_utils][INFO] - Preparing to save checkpoint for epoch 5101 @ 81616 updates\r\n",
      "[2021-06-07 14:09:38,321][fairseq.trainer][INFO] - Saving checkpoint to /kaggle/working/checkpoint_last.pt\r\n"
     ]
    },
    {
     "name": "stdout",
     "output_type": "stream",
     "text": [
      "[2021-06-07 14:09:38,370][fairseq.trainer][INFO] - Finished saving checkpoint to /kaggle/working/checkpoint_last.pt\r\n",
      "[2021-06-07 14:09:38,370][fairseq.checkpoint_utils][INFO] - Saved checkpoint /kaggle/working/checkpoint_last.pt (epoch 5101 @ 81616 updates, score 76.0638241224625) (writing took 0.050274053999601165 seconds)\r\n",
      "[2021-06-07 14:09:38,371][fairseq_cli.train][INFO] - end of epoch 5101 (average epoch stats below)\r\n",
      "[2021-06-07 14:09:38,374][train][INFO] - {\"epoch\": 5101, \"train_loss\": \"3.331\", \"train_ntokens\": \"145.688\", \"train_nsentences\": \"145.688\", \"train_temp\": \"0.1\", \"train_code_ppl\": \"8.759\", \"train_loss_code_pen\": \"0.331\", \"train_loss_smoothness\": \"2.11\", \"train_loss_dense_g\": \"4.274\", \"train_lm_score_sum\": 0.0, \"train_num_pred_chars\": 0.0, \"train_loss_grad_pen\": \"0.137\", \"train_loss_dense_d\": \"0.024\", \"train_loss_token_d\": \"0.024\", \"train_wps\": \"9.8\", \"train_ups\": \"0.07\", \"train_wpb\": \"145.7\", \"train_bsz\": \"145.7\", \"train_num_updates\": \"81616\", \"train_lr_discriminator\": \"0.0005\", \"train_lr_generator\": \"0.0004\", \"train_gnorm\": \"31.667\", \"train_clip\": \"93.8\", \"train_train_wall\": \"233\", \"train_wall\": \"10032\"}\r\n"
     ]
    },
    {
     "name": "stdout",
     "output_type": "stream",
     "text": [
      "[2021-06-07 14:09:38,436][fairseq.trainer][INFO] - begin training epoch 5102\r\n",
      "[2021-06-07 14:09:38,438][fairseq_cli.train][INFO] - Start iterating over samples\r\n"
     ]
    },
    {
     "name": "stdout",
     "output_type": "stream",
     "text": [
      "[2021-06-07 14:13:43,487][fairseq_cli.train][INFO] - begin validation on \"valid\" subset\r\n"
     ]
    },
    {
     "name": "stdout",
     "output_type": "stream",
     "text": [
      "[2021-06-07 14:13:46,154][fairseq.tasks.unpaired_audio_text][INFO] - REF: ɛ n f œ ʂ ə n a d ɵ ʂ ə k t f øː r d eː t s ɔ m h ɛ n d ə p oː ɕ œ r k ɔ n s ɛ t ə n\r\n",
      "[2021-06-07 14:13:46,157][fairseq.tasks.unpaired_audio_text][INFO] - HYP: n ɵ n s j œ r œ ʂ ɕ b j uː œ k uː ɵ j n ə m œ k b ə uː s eː r n v oː n l ɪ ŋ k l ɪ l s œ m k t a\r\n"
     ]
    },
    {
     "name": "stdout",
     "output_type": "stream",
     "text": [
      "[2021-06-07 14:13:46,162][fairseq.tasks.unpaired_audio_text][INFO] - LM [REF]: -53.44462585449219, 0.05339602260269112\r\n",
      "[2021-06-07 14:13:46,162][fairseq.tasks.unpaired_audio_text][INFO] - LM [HYP]: -88.27481079101562, 0.013237700052330308\r\n"
     ]
    },
    {
     "name": "stdout",
     "output_type": "stream",
     "text": [
      "[2021-06-07 14:13:46,685][valid][INFO] - {\"epoch\": 5102, \"valid_loss\": \"1.004\", \"valid_ntokens\": \"3039.79\", \"valid_nsentences\": \"144.214\", \"valid_lm_score_sum\": \"-89890.8\", \"valid_num_pred_chars\": \"48493\", \"valid_vocab_seen_pct\": \"0.891986\", \"valid_uer\": \"100.355\", \"valid_weighted_lm_ppl\": \"75.6618\", \"valid_lm_ppl\": \"60.1995\", \"valid_wps\": \"16962.7\", \"valid_wpb\": \"3039.8\", \"valid_bsz\": \"144.2\", \"valid_num_updates\": \"81632\", \"valid_best_weighted_lm_ppl\": \"73.0296\"}\r\n",
      "[2021-06-07 14:13:46,688][fairseq.checkpoint_utils][INFO] - Preparing to save checkpoint for epoch 5102 @ 81632 updates\r\n",
      "[2021-06-07 14:13:46,689][fairseq.trainer][INFO] - Saving checkpoint to /kaggle/working/checkpoint_last.pt\r\n"
     ]
    },
    {
     "name": "stdout",
     "output_type": "stream",
     "text": [
      "[2021-06-07 14:13:46,736][fairseq.trainer][INFO] - Finished saving checkpoint to /kaggle/working/checkpoint_last.pt\r\n",
      "[2021-06-07 14:13:46,737][fairseq.checkpoint_utils][INFO] - Saved checkpoint /kaggle/working/checkpoint_last.pt (epoch 5102 @ 81632 updates, score 75.66178001753858) (writing took 0.04838254300011613 seconds)\r\n",
      "[2021-06-07 14:13:46,737][fairseq_cli.train][INFO] - end of epoch 5102 (average epoch stats below)\r\n",
      "[2021-06-07 14:13:46,740][train][INFO] - {\"epoch\": 5102, \"train_loss\": \"3.111\", \"train_ntokens\": \"145.688\", \"train_nsentences\": \"145.688\", \"train_temp\": \"0.1\", \"train_code_ppl\": \"8.9\", \"train_loss_code_pen\": \"0.329\", \"train_loss_smoothness\": \"2.094\", \"train_loss_dense_g\": \"4.343\", \"train_lm_score_sum\": 0.0, \"train_num_pred_chars\": 0.0, \"train_loss_grad_pen\": \"0.062\", \"train_loss_dense_d\": \"0.025\", \"train_loss_token_d\": \"0.022\", \"train_wps\": \"9.4\", \"train_ups\": \"0.06\", \"train_wpb\": \"145.7\", \"train_bsz\": \"145.7\", \"train_num_updates\": \"81632\", \"train_lr_discriminator\": \"0.0005\", \"train_lr_generator\": \"0.0004\", \"train_gnorm\": \"29.278\", \"train_clip\": \"68.8\", \"train_train_wall\": \"245\", \"train_wall\": \"10280\"}\r\n"
     ]
    },
    {
     "name": "stdout",
     "output_type": "stream",
     "text": [
      "[2021-06-07 14:13:46,806][fairseq.trainer][INFO] - begin training epoch 5103\r\n",
      "[2021-06-07 14:13:46,807][fairseq_cli.train][INFO] - Start iterating over samples\r\n"
     ]
    },
    {
     "name": "stdout",
     "output_type": "stream",
     "text": [
      "[2021-06-07 14:17:43,199][fairseq_cli.train][INFO] - begin validation on \"valid\" subset\r\n"
     ]
    },
    {
     "name": "stdout",
     "output_type": "stream",
     "text": [
      "[2021-06-07 14:17:45,906][fairseq.tasks.unpaired_audio_text][INFO] - REF: ɛ n f œ ʂ ə n a d ɵ ʂ ə k t f øː r d eː t s ɔ m h ɛ n d ə p oː ɕ œ r k ɔ n s ɛ t ə n\r\n",
      "[2021-06-07 14:17:45,908][fairseq.tasks.unpaired_audio_text][INFO] - HYP: n ɪ n s j œ r œ ɕ b j uː œ k uː ɵ v j n ə m œ b ə uː s eː r n v oː n l ɪ ŋ k l ɪ l s œ m k n t n\r\n",
      "[2021-06-07 14:17:45,913][fairseq.tasks.unpaired_audio_text][INFO] - LM [REF]: -53.44462585449219, 0.05339602260269112\r\n",
      "[2021-06-07 14:17:45,913][fairseq.tasks.unpaired_audio_text][INFO] - LM [HYP]: -88.0052719116211, 0.013413663464864882\r\n"
     ]
    },
    {
     "name": "stdout",
     "output_type": "stream",
     "text": [
      "[2021-06-07 14:17:46,443][valid][INFO] - {\"epoch\": 5103, \"valid_loss\": \"1.001\", \"valid_ntokens\": \"3039.79\", \"valid_nsentences\": \"144.214\", \"valid_lm_score_sum\": \"-89671.3\", \"valid_num_pred_chars\": \"48383\", \"valid_vocab_seen_pct\": \"0.890244\", \"valid_uer\": \"100.078\", \"valid_weighted_lm_ppl\": \"75.8759\", \"valid_lm_ppl\": \"60.1342\", \"valid_wps\": \"16965.2\", \"valid_wpb\": \"3039.8\", \"valid_bsz\": \"144.2\", \"valid_num_updates\": \"81648\", \"valid_best_weighted_lm_ppl\": \"73.0296\"}\r\n"
     ]
    },
    {
     "name": "stdout",
     "output_type": "stream",
     "text": [
      "[2021-06-07 14:17:46,447][fairseq.checkpoint_utils][INFO] - Preparing to save checkpoint for epoch 5103 @ 81648 updates\r\n",
      "[2021-06-07 14:17:46,449][fairseq.trainer][INFO] - Saving checkpoint to /kaggle/working/checkpoint_last.pt\r\n"
     ]
    },
    {
     "name": "stdout",
     "output_type": "stream",
     "text": [
      "[2021-06-07 14:17:46,500][fairseq.trainer][INFO] - Finished saving checkpoint to /kaggle/working/checkpoint_last.pt\r\n",
      "[2021-06-07 14:17:46,500][fairseq.checkpoint_utils][INFO] - Saved checkpoint /kaggle/working/checkpoint_last.pt (epoch 5103 @ 81648 updates, score 75.8758709517236) (writing took 0.05287795699950948 seconds)\r\n",
      "[2021-06-07 14:17:46,501][fairseq_cli.train][INFO] - end of epoch 5103 (average epoch stats below)\r\n",
      "[2021-06-07 14:17:46,505][train][INFO] - {\"epoch\": 5103, \"train_loss\": \"3.028\", \"train_ntokens\": \"145.688\", \"train_nsentences\": \"145.688\", \"train_temp\": \"0.1\", \"train_code_ppl\": \"8.626\", \"train_loss_code_pen\": \"0.319\", \"train_loss_smoothness\": \"2.049\", \"train_loss_dense_g\": \"4.145\", \"train_lm_score_sum\": 0.0, \"train_num_pred_chars\": 0.0, \"train_loss_grad_pen\": \"0.12\", \"train_loss_dense_d\": \"0.022\", \"train_loss_token_d\": \"0.023\", \"train_wps\": \"9.7\", \"train_ups\": \"0.07\", \"train_wpb\": \"145.7\", \"train_bsz\": \"145.7\", \"train_num_updates\": \"81648\", \"train_lr_discriminator\": \"0.0005\", \"train_lr_generator\": \"0.0004\", \"train_gnorm\": \"30.492\", \"train_clip\": \"75\", \"train_train_wall\": \"236\", \"train_wall\": \"10520\"}\r\n"
     ]
    },
    {
     "name": "stdout",
     "output_type": "stream",
     "text": [
      "[2021-06-07 14:17:46,566][fairseq.trainer][INFO] - begin training epoch 5104\r\n",
      "[2021-06-07 14:17:46,567][fairseq_cli.train][INFO] - Start iterating over samples\r\n"
     ]
    },
    {
     "name": "stdout",
     "output_type": "stream",
     "text": [
      "[2021-06-07 14:21:36,779][fairseq_cli.train][INFO] - begin validation on \"valid\" subset\r\n"
     ]
    },
    {
     "name": "stdout",
     "output_type": "stream",
     "text": [
      "[2021-06-07 14:21:39,435][fairseq.tasks.unpaired_audio_text][INFO] - REF: ɛ n f œ ʂ ə n a d ɵ ʂ ə k t f øː r d eː t s ɔ m h ɛ n d ə p oː ɕ œ r k ɔ n s ɛ t ə n\r\n",
      "[2021-06-07 14:21:39,438][fairseq.tasks.unpaired_audio_text][INFO] - HYP: n ɪ n s j œ r œ ʂ ɕ b j uː œ k uː ɵ v n ə m œ k b ə uː s eː r n v oː n l ɪ ŋ k l ɪ l s œ m k n t a\r\n",
      "[2021-06-07 14:21:39,442][fairseq.tasks.unpaired_audio_text][INFO] - LM [REF]: -53.44462585449219, 0.05339602260269112\r\n",
      "[2021-06-07 14:21:39,442][fairseq.tasks.unpaired_audio_text][INFO] - LM [HYP]: -90.43330383300781, 0.01306089195508737\r\n"
     ]
    },
    {
     "name": "stdout",
     "output_type": "stream",
     "text": [
      "[2021-06-07 14:21:40,120][valid][INFO] - {\"epoch\": 5104, \"valid_loss\": \"1.004\", \"valid_ntokens\": \"3039.79\", \"valid_nsentences\": \"144.214\", \"valid_lm_score_sum\": \"-89892.5\", \"valid_num_pred_chars\": \"48491\", \"valid_vocab_seen_pct\": \"0.893728\", \"valid_uer\": \"100.352\", \"valid_weighted_lm_ppl\": \"75.3853\", \"valid_lm_ppl\": \"60.214\", \"valid_wps\": \"16004.5\", \"valid_wpb\": \"3039.8\", \"valid_bsz\": \"144.2\", \"valid_num_updates\": \"81664\", \"valid_best_weighted_lm_ppl\": \"73.0296\"}\r\n",
      "[2021-06-07 14:21:40,123][fairseq.checkpoint_utils][INFO] - Preparing to save checkpoint for epoch 5104 @ 81664 updates\r\n",
      "[2021-06-07 14:21:40,124][fairseq.trainer][INFO] - Saving checkpoint to /kaggle/working/checkpoint_last.pt\r\n"
     ]
    },
    {
     "name": "stdout",
     "output_type": "stream",
     "text": [
      "[2021-06-07 14:21:40,175][fairseq.trainer][INFO] - Finished saving checkpoint to /kaggle/working/checkpoint_last.pt\r\n",
      "[2021-06-07 14:21:40,175][fairseq.checkpoint_utils][INFO] - Saved checkpoint /kaggle/working/checkpoint_last.pt (epoch 5104 @ 81664 updates, score 75.38530652773073) (writing took 0.05210611499933293 seconds)\r\n",
      "[2021-06-07 14:21:40,176][fairseq_cli.train][INFO] - end of epoch 5104 (average epoch stats below)\r\n",
      "[2021-06-07 14:21:40,179][train][INFO] - {\"epoch\": 5104, \"train_loss\": \"3.37\", \"train_ntokens\": \"145.688\", \"train_nsentences\": \"145.688\", \"train_temp\": \"0.1\", \"train_code_ppl\": \"8.745\", \"train_loss_code_pen\": \"0.335\", \"train_loss_smoothness\": \"2.116\", \"train_loss_dense_g\": \"4.344\", \"train_lm_score_sum\": 0.0, \"train_num_pred_chars\": 0.0, \"train_loss_grad_pen\": \"0.137\", \"train_loss_dense_d\": \"0.022\", \"train_loss_token_d\": \"0.025\", \"train_wps\": \"10\", \"train_ups\": \"0.07\", \"train_wpb\": \"145.7\", \"train_bsz\": \"145.7\", \"train_num_updates\": \"81664\", \"train_lr_discriminator\": \"0.0005\", \"train_lr_generator\": \"0.0004\", \"train_gnorm\": \"31.484\", \"train_clip\": \"81.2\", \"train_train_wall\": \"230\", \"train_wall\": \"10754\"}\r\n"
     ]
    },
    {
     "name": "stdout",
     "output_type": "stream",
     "text": [
      "[2021-06-07 14:21:40,239][fairseq.trainer][INFO] - begin training epoch 5105\r\n",
      "[2021-06-07 14:21:40,241][fairseq_cli.train][INFO] - Start iterating over samples\r\n"
     ]
    },
    {
     "name": "stdout",
     "output_type": "stream",
     "text": [
      "[2021-06-07 14:25:14,850][fairseq_cli.train][INFO] - begin validation on \"valid\" subset\r\n"
     ]
    },
    {
     "name": "stdout",
     "output_type": "stream",
     "text": [
      "[2021-06-07 14:25:17,543][fairseq.tasks.unpaired_audio_text][INFO] - REF: ɛ n f œ ʂ ə n a d ɵ ʂ ə k t f øː r d eː t s ɔ m h ɛ n d ə p oː ɕ œ r k ɔ n s ɛ t ə n\r\n",
      "[2021-06-07 14:25:17,545][fairseq.tasks.unpaired_audio_text][INFO] - HYP: n ɪ n s j œ r œ ɕ b j uː œ k uː ɵ j n ə m œ k b ə uː s eː r n v oː n ɪ ŋ k l ɪ l s œ m k n t a\r\n",
      "[2021-06-07 14:25:17,550][fairseq.tasks.unpaired_audio_text][INFO] - LM [REF]: -53.44462585449219, 0.05339602260269112\r\n",
      "[2021-06-07 14:25:17,550][fairseq.tasks.unpaired_audio_text][INFO] - LM [HYP]: -84.57059478759766, 0.014504701944623248\r\n"
     ]
    },
    {
     "name": "stdout",
     "output_type": "stream",
     "text": [
      "[2021-06-07 14:25:18,088][valid][INFO] - {\"epoch\": 5105, \"valid_loss\": \"1.004\", \"valid_ntokens\": \"3039.79\", \"valid_nsentences\": \"144.214\", \"valid_lm_score_sum\": \"-89891.3\", \"valid_num_pred_chars\": \"48638\", \"valid_vocab_seen_pct\": \"0.885017\", \"valid_uer\": \"100.435\", \"valid_weighted_lm_ppl\": \"75.9635\", \"valid_lm_ppl\": \"59.4988\", \"valid_wps\": \"16781.8\", \"valid_wpb\": \"3039.8\", \"valid_bsz\": \"144.2\", \"valid_num_updates\": \"81680\", \"valid_best_weighted_lm_ppl\": \"73.0296\"}\r\n",
      "[2021-06-07 14:25:18,091][fairseq.checkpoint_utils][INFO] - Preparing to save checkpoint for epoch 5105 @ 81680 updates\r\n",
      "[2021-06-07 14:25:18,093][fairseq.trainer][INFO] - Saving checkpoint to /kaggle/working/checkpoint_last.pt\r\n"
     ]
    },
    {
     "name": "stdout",
     "output_type": "stream",
     "text": [
      "[2021-06-07 14:25:18,143][fairseq.trainer][INFO] - Finished saving checkpoint to /kaggle/working/checkpoint_last.pt\r\n",
      "[2021-06-07 14:25:18,144][fairseq.checkpoint_utils][INFO] - Saved checkpoint /kaggle/working/checkpoint_last.pt (epoch 5105 @ 81680 updates, score 75.96347672830174) (writing took 0.0523093229985534 seconds)\r\n",
      "[2021-06-07 14:25:18,144][fairseq_cli.train][INFO] - end of epoch 5105 (average epoch stats below)\r\n",
      "[2021-06-07 14:25:18,148][train][INFO] - {\"epoch\": 5105, \"train_loss\": \"3.564\", \"train_ntokens\": \"145.688\", \"train_nsentences\": \"145.688\", \"train_temp\": \"0.1\", \"train_code_ppl\": \"8.664\", \"train_loss_code_pen\": \"0.313\", \"train_loss_smoothness\": \"2.054\", \"train_loss_dense_g\": \"4.366\", \"train_lm_score_sum\": 0.0, \"train_num_pred_chars\": 0.0, \"train_loss_grad_pen\": \"0.085\", \"train_loss_dense_d\": \"0.04\", \"train_loss_token_d\": \"0.03\", \"train_wps\": \"10.7\", \"train_ups\": \"0.07\", \"train_wpb\": \"145.7\", \"train_bsz\": \"145.7\", \"train_num_updates\": \"81680\", \"train_lr_discriminator\": \"0.0005\", \"train_lr_generator\": \"0.0004\", \"train_gnorm\": \"30.39\", \"train_clip\": \"87.5\", \"train_train_wall\": \"214\", \"train_wall\": \"10972\"}\r\n"
     ]
    },
    {
     "name": "stdout",
     "output_type": "stream",
     "text": [
      "[2021-06-07 14:25:18,208][fairseq.trainer][INFO] - begin training epoch 5106\r\n",
      "[2021-06-07 14:25:18,210][fairseq_cli.train][INFO] - Start iterating over samples\r\n"
     ]
    },
    {
     "name": "stdout",
     "output_type": "stream",
     "text": [
      "[2021-06-07 14:29:22,528][fairseq_cli.train][INFO] - begin validation on \"valid\" subset\r\n"
     ]
    },
    {
     "name": "stdout",
     "output_type": "stream",
     "text": [
      "[2021-06-07 14:29:25,188][fairseq.tasks.unpaired_audio_text][INFO] - REF: ɛ n f œ ʂ ə n a d ɵ ʂ ə k t f øː r d eː t s ɔ m h ɛ n d ə p oː ɕ œ r k ɔ n s ɛ t ə n\r\n",
      "[2021-06-07 14:29:25,190][fairseq.tasks.unpaired_audio_text][INFO] - HYP: n ɪ n s j œ r œ j b j uː œ k uː ɵ n ə m œ k b ə uː s eː r n v oː n ɪ ŋ k l ɪ l s œ m k l a\r\n"
     ]
    },
    {
     "name": "stdout",
     "output_type": "stream",
     "text": [
      "[2021-06-07 14:29:25,195][fairseq.tasks.unpaired_audio_text][INFO] - LM [REF]: -53.44462585449219, 0.05339602260269112\r\n",
      "[2021-06-07 14:29:25,195][fairseq.tasks.unpaired_audio_text][INFO] - LM [HYP]: -78.78644561767578, 0.01619567164654161\r\n"
     ]
    },
    {
     "name": "stdout",
     "output_type": "stream",
     "text": [
      "[2021-06-07 14:29:25,720][valid][INFO] - {\"epoch\": 5106, \"valid_loss\": \"1.004\", \"valid_ntokens\": \"3039.79\", \"valid_nsentences\": \"144.214\", \"valid_lm_score_sum\": \"-89804.5\", \"valid_num_pred_chars\": \"48537\", \"valid_vocab_seen_pct\": \"0.88676\", \"valid_uer\": \"100.407\", \"valid_weighted_lm_ppl\": \"75.9845\", \"valid_lm_ppl\": \"59.7499\", \"valid_wps\": \"17082.9\", \"valid_wpb\": \"3039.8\", \"valid_bsz\": \"144.2\", \"valid_num_updates\": \"81696\", \"valid_best_weighted_lm_ppl\": \"73.0296\"}\r\n",
      "[2021-06-07 14:29:25,723][fairseq.checkpoint_utils][INFO] - Preparing to save checkpoint for epoch 5106 @ 81696 updates\r\n",
      "[2021-06-07 14:29:25,725][fairseq.trainer][INFO] - Saving checkpoint to /kaggle/working/checkpoint_last.pt\r\n"
     ]
    },
    {
     "name": "stdout",
     "output_type": "stream",
     "text": [
      "[2021-06-07 14:29:25,772][fairseq.trainer][INFO] - Finished saving checkpoint to /kaggle/working/checkpoint_last.pt\r\n",
      "[2021-06-07 14:29:25,773][fairseq.checkpoint_utils][INFO] - Saved checkpoint /kaggle/working/checkpoint_last.pt (epoch 5106 @ 81696 updates, score 75.98453744087648) (writing took 0.049366096000085236 seconds)\r\n",
      "[2021-06-07 14:29:25,773][fairseq_cli.train][INFO] - end of epoch 5106 (average epoch stats below)\r\n",
      "[2021-06-07 14:29:25,777][train][INFO] - {\"epoch\": 5106, \"train_loss\": \"2.952\", \"train_ntokens\": \"145.688\", \"train_nsentences\": \"145.688\", \"train_temp\": \"0.1\", \"train_code_ppl\": \"8.768\", \"train_loss_code_pen\": \"0.31\", \"train_loss_smoothness\": \"2.036\", \"train_loss_dense_g\": \"4.068\", \"train_lm_score_sum\": 0.0, \"train_num_pred_chars\": 0.0, \"train_loss_grad_pen\": \"0.062\", \"train_loss_dense_d\": \"0.024\", \"train_loss_token_d\": \"0.023\", \"train_wps\": \"9.4\", \"train_ups\": \"0.06\", \"train_wpb\": \"145.7\", \"train_bsz\": \"145.7\", \"train_num_updates\": \"81696\", \"train_lr_discriminator\": \"0.0005\", \"train_lr_generator\": \"0.0004\", \"train_gnorm\": \"29.02\", \"train_clip\": \"68.8\", \"train_train_wall\": \"244\", \"train_wall\": \"11219\"}\r\n"
     ]
    },
    {
     "name": "stdout",
     "output_type": "stream",
     "text": [
      "[2021-06-07 14:29:25,835][fairseq.trainer][INFO] - begin training epoch 5107\r\n",
      "[2021-06-07 14:29:25,837][fairseq_cli.train][INFO] - Start iterating over samples\r\n"
     ]
    },
    {
     "name": "stdout",
     "output_type": "stream",
     "text": [
      "[2021-06-07 14:30:29,589][train_inner][INFO] - {\"epoch\": 5107, \"update\": 5106.25, \"loss\": \"3.225\", \"ntokens\": \"146.26\", \"nsentences\": \"146.26\", \"temp\": \"0.1\", \"code_ppl\": \"8.74\", \"loss_code_pen\": \"0.324\", \"loss_smoothness\": \"2.079\", \"loss_dense_g\": \"4.243\", \"lm_score_sum\": 0.0, \"num_pred_chars\": 0.0, \"loss_grad_pen\": \"0.098\", \"loss_dense_d\": \"0.026\", \"loss_token_d\": \"0.024\", \"wps\": \"9.8\", \"ups\": \"0.07\", \"wpb\": \"146.3\", \"bsz\": \"146.3\", \"num_updates\": \"81700\", \"lr_discriminator\": \"0.0005\", \"lr_generator\": \"0.0004\", \"gnorm\": \"30.285\", \"clip\": \"78\", \"train_wall\": \"1465\", \"wall\": \"11283\"}\r\n"
     ]
    },
    {
     "name": "stdout",
     "output_type": "stream",
     "text": [
      "[2021-06-07 14:33:20,899][fairseq_cli.train][INFO] - begin validation on \"valid\" subset\r\n"
     ]
    },
    {
     "name": "stdout",
     "output_type": "stream",
     "text": [
      "[2021-06-07 14:33:23,598][fairseq.tasks.unpaired_audio_text][INFO] - REF: ɛ n f œ ʂ ə n a d ɵ ʂ ə k t f øː r d eː t s ɔ m h ɛ n d ə p oː ɕ œ r k ɔ n s ɛ t ə n\r\n",
      "[2021-06-07 14:33:23,600][fairseq.tasks.unpaired_audio_text][INFO] - HYP: n ɪ n s j œ r œ j b j uː œ k uː ɵ n ə m œ k b ə uː s eː r n v oː n l ɪ ŋ k l ɪ l s œ m k n a\r\n",
      "[2021-06-07 14:33:23,604][fairseq.tasks.unpaired_audio_text][INFO] - LM [REF]: -53.44462585449219, 0.05339602260269112\r\n",
      "[2021-06-07 14:33:23,605][fairseq.tasks.unpaired_audio_text][INFO] - LM [HYP]: -82.31641387939453, 0.014816525003100798\r\n"
     ]
    },
    {
     "name": "stdout",
     "output_type": "stream",
     "text": [
      "[2021-06-07 14:33:24,166][valid][INFO] - {\"epoch\": 5107, \"valid_loss\": \"1\", \"valid_ntokens\": \"3039.79\", \"valid_nsentences\": \"144.214\", \"valid_lm_score_sum\": \"-89575.1\", \"valid_num_pred_chars\": \"48307\", \"valid_vocab_seen_pct\": \"0.890244\", \"valid_uer\": \"99.9742\", \"valid_weighted_lm_ppl\": \"76.0116\", \"valid_lm_ppl\": \"60.2418\", \"valid_wps\": \"16606.9\", \"valid_wpb\": \"3039.8\", \"valid_bsz\": \"144.2\", \"valid_num_updates\": \"81712\", \"valid_best_weighted_lm_ppl\": \"73.0296\"}\r\n",
      "[2021-06-07 14:33:24,169][fairseq.checkpoint_utils][INFO] - Preparing to save checkpoint for epoch 5107 @ 81712 updates\r\n",
      "[2021-06-07 14:33:24,170][fairseq.trainer][INFO] - Saving checkpoint to /kaggle/working/checkpoint_last.pt\r\n"
     ]
    },
    {
     "name": "stdout",
     "output_type": "stream",
     "text": [
      "[2021-06-07 14:33:24,218][fairseq.trainer][INFO] - Finished saving checkpoint to /kaggle/working/checkpoint_last.pt\r\n",
      "[2021-06-07 14:33:24,218][fairseq.checkpoint_utils][INFO] - Saved checkpoint /kaggle/working/checkpoint_last.pt (epoch 5107 @ 81712 updates, score 76.01160059238829) (writing took 0.049344881999786594 seconds)\r\n",
      "[2021-06-07 14:33:24,219][fairseq_cli.train][INFO] - end of epoch 5107 (average epoch stats below)\r\n",
      "[2021-06-07 14:33:24,222][train][INFO] - {\"epoch\": 5107, \"train_loss\": \"3.238\", \"train_ntokens\": \"145.688\", \"train_nsentences\": \"145.688\", \"train_temp\": \"0.1\", \"train_code_ppl\": \"8.767\", \"train_loss_code_pen\": \"0.321\", \"train_loss_smoothness\": \"2.098\", \"train_loss_dense_g\": \"4.197\", \"train_lm_score_sum\": 0.0, \"train_num_pred_chars\": 0.0, \"train_loss_grad_pen\": \"0.052\", \"train_loss_dense_d\": \"0.024\", \"train_loss_token_d\": \"0.022\", \"train_wps\": \"9.8\", \"train_ups\": \"0.07\", \"train_wpb\": \"145.7\", \"train_bsz\": \"145.7\", \"train_num_updates\": \"81712\", \"train_lr_discriminator\": \"0.0005\", \"train_lr_generator\": \"0.0004\", \"train_gnorm\": \"28.942\", \"train_clip\": \"68.8\", \"train_train_wall\": \"235\", \"train_wall\": \"11458\"}\r\n"
     ]
    },
    {
     "name": "stdout",
     "output_type": "stream",
     "text": [
      "[2021-06-07 14:33:24,281][fairseq.trainer][INFO] - begin training epoch 5108\r\n",
      "[2021-06-07 14:33:24,282][fairseq_cli.train][INFO] - Start iterating over samples\r\n"
     ]
    },
    {
     "name": "stdout",
     "output_type": "stream",
     "text": [
      "[2021-06-07 14:37:02,265][fairseq_cli.train][INFO] - begin validation on \"valid\" subset\r\n"
     ]
    },
    {
     "name": "stdout",
     "output_type": "stream",
     "text": [
      "[2021-06-07 14:37:05,015][fairseq.tasks.unpaired_audio_text][INFO] - REF: ɛ n f œ ʂ ə n a d ɵ ʂ ə k t f øː r d eː t s ɔ m h ɛ n d ə p oː ɕ œ r k ɔ n s ɛ t ə n\r\n",
      "[2021-06-07 14:37:05,018][fairseq.tasks.unpaired_audio_text][INFO] - HYP: n ɵ n s j œ r œ ʂ ɕ b j uː œ k uː ɵ n ə m œ k b ə uː s eː r n v oː n l ɪ ŋ k l ɪ l s œ m k n t a\r\n",
      "[2021-06-07 14:37:05,022][fairseq.tasks.unpaired_audio_text][INFO] - LM [REF]: -53.44462585449219, 0.05339602260269112\r\n",
      "[2021-06-07 14:37:05,022][fairseq.tasks.unpaired_audio_text][INFO] - LM [HYP]: -87.31001281738281, 0.013878424042360657\r\n"
     ]
    },
    {
     "name": "stdout",
     "output_type": "stream",
     "text": [
      "[2021-06-07 14:37:05,543][valid][INFO] - {\"epoch\": 5108, \"valid_loss\": \"1.001\", \"valid_ntokens\": \"3039.79\", \"valid_nsentences\": \"144.214\", \"valid_lm_score_sum\": \"-89596.7\", \"valid_num_pred_chars\": \"48404\", \"valid_vocab_seen_pct\": \"0.893728\", \"valid_uer\": \"100.132\", \"valid_weighted_lm_ppl\": \"74.9014\", \"valid_lm_ppl\": \"59.8275\", \"valid_wps\": \"16614.6\", \"valid_wpb\": \"3039.8\", \"valid_bsz\": \"144.2\", \"valid_num_updates\": \"81728\", \"valid_best_weighted_lm_ppl\": \"73.0296\"}\r\n",
      "[2021-06-07 14:37:05,546][fairseq.checkpoint_utils][INFO] - Preparing to save checkpoint for epoch 5108 @ 81728 updates\r\n",
      "[2021-06-07 14:37:05,547][fairseq.trainer][INFO] - Saving checkpoint to /kaggle/working/checkpoint_last.pt\r\n"
     ]
    },
    {
     "name": "stdout",
     "output_type": "stream",
     "text": [
      "[2021-06-07 14:37:05,595][fairseq.trainer][INFO] - Finished saving checkpoint to /kaggle/working/checkpoint_last.pt\r\n",
      "[2021-06-07 14:37:05,596][fairseq.checkpoint_utils][INFO] - Saved checkpoint /kaggle/working/checkpoint_last.pt (epoch 5108 @ 81728 updates, score 74.90139162762287) (writing took 0.0500470579991088 seconds)\r\n",
      "[2021-06-07 14:37:05,596][fairseq_cli.train][INFO] - end of epoch 5108 (average epoch stats below)\r\n",
      "[2021-06-07 14:37:05,601][train][INFO] - {\"epoch\": 5108, \"train_loss\": \"3.51\", \"train_ntokens\": \"145.688\", \"train_nsentences\": \"145.688\", \"train_temp\": \"0.1\", \"train_code_ppl\": \"8.906\", \"train_loss_code_pen\": \"0.324\", \"train_loss_smoothness\": \"2.093\", \"train_loss_dense_g\": \"4.253\", \"train_lm_score_sum\": 0.0, \"train_num_pred_chars\": 0.0, \"train_loss_grad_pen\": \"0.068\", \"train_loss_dense_d\": \"0.021\", \"train_loss_token_d\": \"0.022\", \"train_wps\": \"10.5\", \"train_ups\": \"0.07\", \"train_wpb\": \"145.7\", \"train_bsz\": \"145.7\", \"train_num_updates\": \"81728\", \"train_lr_discriminator\": \"0.0005\", \"train_lr_generator\": \"0.0004\", \"train_gnorm\": \"35.803\", \"train_clip\": \"75\", \"train_train_wall\": \"218\", \"train_wall\": \"11679\"}\r\n"
     ]
    },
    {
     "name": "stdout",
     "output_type": "stream",
     "text": [
      "[2021-06-07 14:37:05,660][fairseq.trainer][INFO] - begin training epoch 5109\r\n",
      "[2021-06-07 14:37:05,662][fairseq_cli.train][INFO] - Start iterating over samples\r\n"
     ]
    },
    {
     "name": "stdout",
     "output_type": "stream",
     "text": [
      "[2021-06-07 14:40:30,639][fairseq_cli.train][INFO] - begin validation on \"valid\" subset\r\n"
     ]
    },
    {
     "name": "stdout",
     "output_type": "stream",
     "text": [
      "[2021-06-07 14:40:33,383][fairseq.tasks.unpaired_audio_text][INFO] - REF: ɛ n f œ ʂ ə n a d ɵ ʂ ə k t f øː r d eː t s ɔ m h ɛ n d ə p oː ɕ œ r k ɔ n s ɛ t ə n\r\n",
      "[2021-06-07 14:40:33,385][fairseq.tasks.unpaired_audio_text][INFO] - HYP: n ɵ n s j œ r œ ʂ yː b j uː œ k uː ɵ v n ə m œ k b ə uː s eː r n v oː n l ɪ ŋ k l ɪ l s œ m k n t n\r\n",
      "[2021-06-07 14:40:33,389][fairseq.tasks.unpaired_audio_text][INFO] - LM [REF]: -53.44462585449219, 0.05339602260269112\r\n",
      "[2021-06-07 14:40:33,389][fairseq.tasks.unpaired_audio_text][INFO] - LM [HYP]: -90.69190979003906, 0.012899866407160801\r\n"
     ]
    },
    {
     "name": "stdout",
     "output_type": "stream",
     "text": [
      "[2021-06-07 14:40:33,915][valid][INFO] - {\"epoch\": 5109, \"valid_loss\": \"1.003\", \"valid_ntokens\": \"3039.79\", \"valid_nsentences\": \"144.214\", \"valid_lm_score_sum\": \"-89690.7\", \"valid_num_pred_chars\": \"48494\", \"valid_vocab_seen_pct\": \"0.89547\", \"valid_uer\": \"100.251\", \"valid_weighted_lm_ppl\": \"74.3864\", \"valid_lm_ppl\": \"59.648\", \"valid_wps\": \"16701.9\", \"valid_wpb\": \"3039.8\", \"valid_bsz\": \"144.2\", \"valid_num_updates\": \"81744\", \"valid_best_weighted_lm_ppl\": \"73.0296\"}\r\n",
      "[2021-06-07 14:40:33,918][fairseq.checkpoint_utils][INFO] - Preparing to save checkpoint for epoch 5109 @ 81744 updates\r\n",
      "[2021-06-07 14:40:33,919][fairseq.trainer][INFO] - Saving checkpoint to /kaggle/working/checkpoint_last.pt\r\n"
     ]
    },
    {
     "name": "stdout",
     "output_type": "stream",
     "text": [
      "[2021-06-07 14:40:33,976][fairseq.trainer][INFO] - Finished saving checkpoint to /kaggle/working/checkpoint_last.pt\r\n",
      "[2021-06-07 14:40:33,977][fairseq.checkpoint_utils][INFO] - Saved checkpoint /kaggle/working/checkpoint_last.pt (epoch 5109 @ 81744 updates, score 74.38636411450602) (writing took 0.05884909599990351 seconds)\r\n",
      "[2021-06-07 14:40:33,977][fairseq_cli.train][INFO] - end of epoch 5109 (average epoch stats below)\r\n",
      "[2021-06-07 14:40:33,980][train][INFO] - {\"epoch\": 5109, \"train_loss\": \"3.646\", \"train_ntokens\": \"145.688\", \"train_nsentences\": \"145.688\", \"train_temp\": \"0.1\", \"train_code_ppl\": \"8.77\", \"train_loss_code_pen\": \"0.32\", \"train_loss_smoothness\": \"2.1\", \"train_loss_dense_g\": \"4.143\", \"train_lm_score_sum\": 0.0, \"train_num_pred_chars\": 0.0, \"train_loss_grad_pen\": \"0.05\", \"train_loss_dense_d\": \"0.02\", \"train_loss_token_d\": \"0.022\", \"train_wps\": \"11.2\", \"train_ups\": \"0.08\", \"train_wpb\": \"145.7\", \"train_bsz\": \"145.7\", \"train_num_updates\": \"81744\", \"train_lr_discriminator\": \"0.0005\", \"train_lr_generator\": \"0.0004\", \"train_gnorm\": \"30.988\", \"train_clip\": \"56.2\", \"train_train_wall\": \"204\", \"train_wall\": \"11888\"}\r\n"
     ]
    },
    {
     "name": "stdout",
     "output_type": "stream",
     "text": [
      "[2021-06-07 14:40:34,044][fairseq.trainer][INFO] - begin training epoch 5110\r\n",
      "[2021-06-07 14:40:34,046][fairseq_cli.train][INFO] - Start iterating over samples\r\n"
     ]
    },
    {
     "name": "stdout",
     "output_type": "stream",
     "text": [
      "[2021-06-07 14:44:31,591][fairseq_cli.train][INFO] - begin validation on \"valid\" subset\r\n"
     ]
    },
    {
     "name": "stdout",
     "output_type": "stream",
     "text": [
      "[2021-06-07 14:44:34,335][fairseq.tasks.unpaired_audio_text][INFO] - REF: ɛ n f œ ʂ ə n a d ɵ ʂ ə k t f øː r d eː t s ɔ m h ɛ n d ə p oː ɕ œ r k ɔ n s ɛ t ə n\r\n",
      "[2021-06-07 14:44:34,337][fairseq.tasks.unpaired_audio_text][INFO] - HYP: n ɪ n s j œ r œ ʂ ɕ b j uː œ k uː ɵ n ə m ɔ k b ə uː s eː r n v oː n l ɪ ŋ k l ɪ l s ɔ œ m k n t n\r\n",
      "[2021-06-07 14:44:34,341][fairseq.tasks.unpaired_audio_text][INFO] - LM [REF]: -53.44462585449219, 0.05339602260269112\r\n",
      "[2021-06-07 14:44:34,341][fairseq.tasks.unpaired_audio_text][INFO] - LM [HYP]: -87.4192886352539, 0.015092626343121968\r\n"
     ]
    },
    {
     "name": "stdout",
     "output_type": "stream",
     "text": [
      "[2021-06-07 14:44:34,857][valid][INFO] - {\"epoch\": 5110, \"valid_loss\": \"1.003\", \"valid_ntokens\": \"3039.79\", \"valid_nsentences\": \"144.214\", \"valid_lm_score_sum\": \"-89790.4\", \"valid_num_pred_chars\": \"48475\", \"valid_vocab_seen_pct\": \"0.897213\", \"valid_uer\": \"100.303\", \"valid_weighted_lm_ppl\": \"74.55\", \"valid_lm_ppl\": \"60.0121\", \"valid_wps\": \"16713\", \"valid_wpb\": \"3039.8\", \"valid_bsz\": \"144.2\", \"valid_num_updates\": \"81760\", \"valid_best_weighted_lm_ppl\": \"73.0296\"}\r\n"
     ]
    },
    {
     "name": "stdout",
     "output_type": "stream",
     "text": [
      "[2021-06-07 14:44:34,861][fairseq.checkpoint_utils][INFO] - Preparing to save checkpoint for epoch 5110 @ 81760 updates\r\n",
      "[2021-06-07 14:44:34,862][fairseq.trainer][INFO] - Saving checkpoint to /kaggle/working/checkpoint_last.pt\r\n",
      "[2021-06-07 14:44:34,911][fairseq.trainer][INFO] - Finished saving checkpoint to /kaggle/working/checkpoint_last.pt\r\n",
      "[2021-06-07 14:44:34,911][fairseq.checkpoint_utils][INFO] - Saved checkpoint /kaggle/working/checkpoint_last.pt (epoch 5110 @ 81760 updates, score 74.55003143285505) (writing took 0.050482545999329886 seconds)\r\n",
      "[2021-06-07 14:44:34,912][fairseq_cli.train][INFO] - end of epoch 5110 (average epoch stats below)\r\n"
     ]
    },
    {
     "name": "stdout",
     "output_type": "stream",
     "text": [
      "[2021-06-07 14:44:34,915][train][INFO] - {\"epoch\": 5110, \"train_loss\": \"3.052\", \"train_ntokens\": \"145.688\", \"train_nsentences\": \"145.688\", \"train_temp\": \"0.1\", \"train_code_ppl\": \"8.899\", \"train_loss_code_pen\": \"0.335\", \"train_loss_smoothness\": \"2.123\", \"train_loss_dense_g\": \"4.143\", \"train_lm_score_sum\": 0.0, \"train_num_pred_chars\": 0.0, \"train_loss_grad_pen\": \"0.092\", \"train_loss_dense_d\": \"0.026\", \"train_loss_token_d\": \"0.02\", \"train_wps\": \"9.7\", \"train_ups\": \"0.07\", \"train_wpb\": \"145.7\", \"train_bsz\": \"145.7\", \"train_num_updates\": \"81760\", \"train_lr_discriminator\": \"0.0005\", \"train_lr_generator\": \"0.0004\", \"train_gnorm\": \"30.498\", \"train_clip\": \"75\", \"train_train_wall\": \"237\", \"train_wall\": \"12128\"}\r\n"
     ]
    },
    {
     "name": "stdout",
     "output_type": "stream",
     "text": [
      "[2021-06-07 14:44:34,988][fairseq.trainer][INFO] - begin training epoch 5111\r\n",
      "[2021-06-07 14:44:34,989][fairseq_cli.train][INFO] - Start iterating over samples\r\n"
     ]
    },
    {
     "name": "stdout",
     "output_type": "stream",
     "text": [
      "[2021-06-07 14:48:05,593][fairseq_cli.train][INFO] - begin validation on \"valid\" subset\r\n"
     ]
    },
    {
     "name": "stdout",
     "output_type": "stream",
     "text": [
      "[2021-06-07 14:48:08,542][fairseq.tasks.unpaired_audio_text][INFO] - REF: ɛ n f œ ʂ ə n a d ɵ ʂ ə k t f øː r d eː t s ɔ m h ɛ n d ə p oː ɕ œ r k ɔ n s ɛ t ə n\r\n"
     ]
    },
    {
     "name": "stdout",
     "output_type": "stream",
     "text": [
      "[2021-06-07 14:48:08,544][fairseq.tasks.unpaired_audio_text][INFO] - HYP: n ɵ n s j œ r œ ʂ ɕ b j uː œ yː k uː ɵ j n ə m ɔ k b ə uː s eː r n v oː n ɪ ŋ k l ɪ l s œ m k n t n\r\n",
      "[2021-06-07 14:48:08,549][fairseq.tasks.unpaired_audio_text][INFO] - LM [REF]: -53.44462585449219, 0.05339602260269112\r\n",
      "[2021-06-07 14:48:08,549][fairseq.tasks.unpaired_audio_text][INFO] - LM [HYP]: -86.09778594970703, 0.01608037328261037\r\n"
     ]
    },
    {
     "name": "stdout",
     "output_type": "stream",
     "text": [
      "[2021-06-07 14:48:09,114][valid][INFO] - {\"epoch\": 5111, \"valid_loss\": \"1.003\", \"valid_ntokens\": \"3039.79\", \"valid_nsentences\": \"144.214\", \"valid_lm_score_sum\": \"-89805.5\", \"valid_num_pred_chars\": \"48516\", \"valid_vocab_seen_pct\": \"0.893728\", \"valid_uer\": \"100.291\", \"valid_weighted_lm_ppl\": \"74.935\", \"valid_lm_ppl\": \"59.8544\", \"valid_wps\": \"15069.7\", \"valid_wpb\": \"3039.8\", \"valid_bsz\": \"144.2\", \"valid_num_updates\": \"81776\", \"valid_best_weighted_lm_ppl\": \"73.0296\"}\r\n",
      "[2021-06-07 14:48:09,118][fairseq.checkpoint_utils][INFO] - Preparing to save checkpoint for epoch 5111 @ 81776 updates\r\n",
      "[2021-06-07 14:48:09,119][fairseq.trainer][INFO] - Saving checkpoint to /kaggle/working/checkpoint_last.pt\r\n"
     ]
    },
    {
     "name": "stdout",
     "output_type": "stream",
     "text": [
      "[2021-06-07 14:48:09,169][fairseq.trainer][INFO] - Finished saving checkpoint to /kaggle/working/checkpoint_last.pt\r\n",
      "[2021-06-07 14:48:09,170][fairseq.checkpoint_utils][INFO] - Saved checkpoint /kaggle/working/checkpoint_last.pt (epoch 5111 @ 81776 updates, score 74.93503233932279) (writing took 0.05207857899949886 seconds)\r\n",
      "[2021-06-07 14:48:09,170][fairseq_cli.train][INFO] - end of epoch 5111 (average epoch stats below)\r\n",
      "[2021-06-07 14:48:09,174][train][INFO] - {\"epoch\": 5111, \"train_loss\": \"3.776\", \"train_ntokens\": \"145.688\", \"train_nsentences\": \"145.688\", \"train_temp\": \"0.1\", \"train_code_ppl\": \"8.772\", \"train_loss_code_pen\": \"0.322\", \"train_loss_smoothness\": \"2.104\", \"train_loss_dense_g\": \"4.315\", \"train_lm_score_sum\": 0.0, \"train_num_pred_chars\": 0.0, \"train_loss_grad_pen\": \"0.112\", \"train_loss_dense_d\": \"0.023\", \"train_loss_token_d\": \"0.032\", \"train_wps\": \"10.9\", \"train_ups\": \"0.07\", \"train_wpb\": \"145.7\", \"train_bsz\": \"145.7\", \"train_num_updates\": \"81776\", \"train_lr_discriminator\": \"0.0005\", \"train_lr_generator\": \"0.0004\", \"train_gnorm\": \"32.212\", \"train_clip\": \"81.2\", \"train_train_wall\": \"210\", \"train_wall\": \"12343\"}\r\n"
     ]
    },
    {
     "name": "stdout",
     "output_type": "stream",
     "text": [
      "[2021-06-07 14:48:09,233][fairseq.trainer][INFO] - begin training epoch 5112\r\n",
      "[2021-06-07 14:48:09,234][fairseq_cli.train][INFO] - Start iterating over samples\r\n"
     ]
    },
    {
     "name": "stdout",
     "output_type": "stream",
     "text": [
      "[2021-06-07 14:52:02,479][fairseq_cli.train][INFO] - begin validation on \"valid\" subset\r\n"
     ]
    },
    {
     "name": "stdout",
     "output_type": "stream",
     "text": [
      "[2021-06-07 14:52:05,159][fairseq.tasks.unpaired_audio_text][INFO] - REF: ɛ n f œ ʂ ə n a d ɵ ʂ ə k t f øː r d eː t s ɔ m h ɛ n d ə p oː ɕ œ r k ɔ n s ɛ t ə n\r\n",
      "[2021-06-07 14:52:05,162][fairseq.tasks.unpaired_audio_text][INFO] - HYP: n ɵ n s j œ r œ j ɕ b j uː œ k uː ɵ j n ə m ɔ k b ə uː s eː r n v oː n ɪ ŋ k l ɪ l s œ m k n t a\r\n",
      "[2021-06-07 14:52:05,166][fairseq.tasks.unpaired_audio_text][INFO] - LM [REF]: -53.44462585449219, 0.05339602260269112\r\n",
      "[2021-06-07 14:52:05,166][fairseq.tasks.unpaired_audio_text][INFO] - LM [HYP]: -84.30634307861328, 0.016078592171489818\r\n"
     ]
    },
    {
     "name": "stdout",
     "output_type": "stream",
     "text": [
      "[2021-06-07 14:52:05,722][valid][INFO] - {\"epoch\": 5112, \"valid_loss\": \"1.001\", \"valid_ntokens\": \"3039.79\", \"valid_nsentences\": \"144.214\", \"valid_lm_score_sum\": \"-89662.2\", \"valid_num_pred_chars\": \"48396\", \"valid_vocab_seen_pct\": \"0.898955\", \"valid_uer\": \"100.127\", \"valid_weighted_lm_ppl\": \"74.303\", \"valid_lm_ppl\": \"60.0457\", \"valid_wps\": \"16848.1\", \"valid_wpb\": \"3039.8\", \"valid_bsz\": \"144.2\", \"valid_num_updates\": \"81792\", \"valid_best_weighted_lm_ppl\": \"73.0296\"}\r\n",
      "[2021-06-07 14:52:05,725][fairseq.checkpoint_utils][INFO] - Preparing to save checkpoint for epoch 5112 @ 81792 updates\r\n",
      "[2021-06-07 14:52:05,726][fairseq.trainer][INFO] - Saving checkpoint to /kaggle/working/checkpoint_last.pt\r\n"
     ]
    },
    {
     "name": "stdout",
     "output_type": "stream",
     "text": [
      "[2021-06-07 14:52:05,773][fairseq.trainer][INFO] - Finished saving checkpoint to /kaggle/working/checkpoint_last.pt\r\n",
      "[2021-06-07 14:52:05,773][fairseq.checkpoint_utils][INFO] - Saved checkpoint /kaggle/working/checkpoint_last.pt (epoch 5112 @ 81792 updates, score 74.30297783333107) (writing took 0.04834402999949816 seconds)\r\n",
      "[2021-06-07 14:52:05,774][fairseq_cli.train][INFO] - end of epoch 5112 (average epoch stats below)\r\n",
      "[2021-06-07 14:52:05,777][train][INFO] - {\"epoch\": 5112, \"train_loss\": \"3.191\", \"train_ntokens\": \"145.688\", \"train_nsentences\": \"145.688\", \"train_temp\": \"0.1\", \"train_code_ppl\": \"8.895\", \"train_loss_code_pen\": \"0.333\", \"train_loss_smoothness\": \"2.128\", \"train_loss_dense_g\": \"4.069\", \"train_lm_score_sum\": 0.0, \"train_num_pred_chars\": 0.0, \"train_loss_grad_pen\": \"0.039\", \"train_loss_dense_d\": \"0.025\", \"train_loss_token_d\": \"0.023\", \"train_wps\": \"9.9\", \"train_ups\": \"0.07\", \"train_wpb\": \"145.7\", \"train_bsz\": \"145.7\", \"train_num_updates\": \"81792\", \"train_lr_discriminator\": \"0.0005\", \"train_lr_generator\": \"0.0004\", \"train_gnorm\": \"28.279\", \"train_clip\": \"50\", \"train_train_wall\": \"233\", \"train_wall\": \"12579\"}\r\n"
     ]
    },
    {
     "name": "stdout",
     "output_type": "stream",
     "text": [
      "[2021-06-07 14:52:05,835][fairseq.trainer][INFO] - begin training epoch 5113\r\n",
      "[2021-06-07 14:52:05,836][fairseq_cli.train][INFO] - Start iterating over samples\r\n"
     ]
    },
    {
     "name": "stdout",
     "output_type": "stream",
     "text": [
      "[2021-06-07 14:54:03,399][train_inner][INFO] - {\"epoch\": 5113, \"update\": 5112.5, \"loss\": \"3.445\", \"ntokens\": \"145.54\", \"nsentences\": \"145.54\", \"temp\": \"0.1\", \"code_ppl\": \"8.817\", \"loss_code_pen\": \"0.325\", \"loss_smoothness\": \"2.107\", \"loss_dense_g\": \"4.24\", \"lm_score_sum\": 0.0, \"num_pred_chars\": 0.0, \"loss_grad_pen\": \"0.074\", \"loss_dense_d\": \"0.023\", \"loss_token_d\": \"0.024\", \"wps\": \"10.3\", \"ups\": \"0.07\", \"wpb\": \"145.5\", \"bsz\": \"145.5\", \"num_updates\": \"81800\", \"lr_discriminator\": \"0.0005\", \"lr_generator\": \"0.0004\", \"gnorm\": \"31.22\", \"clip\": \"70\", \"train_wall\": \"1390\", \"wall\": \"12697\"}\r\n"
     ]
    },
    {
     "name": "stdout",
     "output_type": "stream",
     "text": [
      "[2021-06-07 14:56:01,107][fairseq_cli.train][INFO] - begin validation on \"valid\" subset\r\n"
     ]
    },
    {
     "name": "stdout",
     "output_type": "stream",
     "text": [
      "[2021-06-07 14:56:03,906][fairseq.tasks.unpaired_audio_text][INFO] - REF: ɛ n f œ ʂ ə n a d ɵ ʂ ə k t f øː r d eː t s ɔ m h ɛ n d ə p oː ɕ œ r k ɔ n s ɛ t ə n\r\n",
      "[2021-06-07 14:56:03,909][fairseq.tasks.unpaired_audio_text][INFO] - HYP: n ɵ n s j œ r œ ʂ ɕ b j uː œ yː k uː ɵ n ə m ɔ k b ə uː s eː r n v oː n l ɪ ŋ k l ɪ l s ɔ œ m k n t a\r\n",
      "[2021-06-07 14:56:03,913][fairseq.tasks.unpaired_audio_text][INFO] - LM [REF]: -53.44462585449219, 0.05339602260269112\r\n",
      "[2021-06-07 14:56:03,913][fairseq.tasks.unpaired_audio_text][INFO] - LM [HYP]: -88.83744812011719, 0.015381222504127514\r\n"
     ]
    },
    {
     "name": "stdout",
     "output_type": "stream",
     "text": [
      "[2021-06-07 14:56:04,429][valid][INFO] - {\"epoch\": 5113, \"valid_loss\": \"1\", \"valid_ntokens\": \"3039.79\", \"valid_nsentences\": \"144.214\", \"valid_lm_score_sum\": \"-89607.5\", \"valid_num_pred_chars\": \"48301\", \"valid_vocab_seen_pct\": \"0.89547\", \"valid_uer\": \"100.047\", \"valid_weighted_lm_ppl\": \"75.2749\", \"valid_lm_ppl\": \"60.3605\", \"valid_wps\": \"16290.5\", \"valid_wpb\": \"3039.8\", \"valid_bsz\": \"144.2\", \"valid_num_updates\": \"81808\", \"valid_best_weighted_lm_ppl\": \"73.0296\"}\r\n",
      "[2021-06-07 14:56:04,432][fairseq.checkpoint_utils][INFO] - Preparing to save checkpoint for epoch 5113 @ 81808 updates\r\n",
      "[2021-06-07 14:56:04,433][fairseq.trainer][INFO] - Saving checkpoint to /kaggle/working/checkpoint_last.pt\r\n"
     ]
    },
    {
     "name": "stdout",
     "output_type": "stream",
     "text": [
      "[2021-06-07 14:56:04,481][fairseq.trainer][INFO] - Finished saving checkpoint to /kaggle/working/checkpoint_last.pt\r\n",
      "[2021-06-07 14:56:04,482][fairseq.checkpoint_utils][INFO] - Saved checkpoint /kaggle/working/checkpoint_last.pt (epoch 5113 @ 81808 updates, score 75.27490560844804) (writing took 0.04960806400049478 seconds)\r\n",
      "[2021-06-07 14:56:04,482][fairseq_cli.train][INFO] - end of epoch 5113 (average epoch stats below)\r\n",
      "[2021-06-07 14:56:04,485][train][INFO] - {\"epoch\": 5113, \"train_loss\": \"3.453\", \"train_ntokens\": \"145.688\", \"train_nsentences\": \"145.688\", \"train_temp\": \"0.1\", \"train_code_ppl\": \"8.828\", \"train_loss_code_pen\": \"0.328\", \"train_loss_smoothness\": \"2.13\", \"train_loss_dense_g\": \"4.532\", \"train_lm_score_sum\": 0.0, \"train_num_pred_chars\": 0.0, \"train_loss_grad_pen\": \"0.117\", \"train_loss_dense_d\": \"0.022\", \"train_loss_token_d\": \"0.025\", \"train_wps\": \"9.8\", \"train_ups\": \"0.07\", \"train_wpb\": \"145.7\", \"train_bsz\": \"145.7\", \"train_num_updates\": \"81808\", \"train_lr_discriminator\": \"0.0005\", \"train_lr_generator\": \"0.0004\", \"train_gnorm\": \"31.17\", \"train_clip\": \"87.5\", \"train_train_wall\": \"235\", \"train_wall\": \"12818\"}\r\n"
     ]
    },
    {
     "name": "stdout",
     "output_type": "stream",
     "text": [
      "[2021-06-07 14:56:04,544][fairseq.trainer][INFO] - begin training epoch 5114\r\n",
      "[2021-06-07 14:56:04,546][fairseq_cli.train][INFO] - Start iterating over samples\r\n"
     ]
    },
    {
     "name": "stdout",
     "output_type": "stream",
     "text": [
      "[2021-06-07 14:59:31,414][fairseq_cli.train][INFO] - begin validation on \"valid\" subset\r\n"
     ]
    },
    {
     "name": "stdout",
     "output_type": "stream",
     "text": [
      "[2021-06-07 14:59:34,055][fairseq.tasks.unpaired_audio_text][INFO] - REF: ɛ n f œ ʂ ə n a d ɵ ʂ ə k t f øː r d eː t s ɔ m h ɛ n d ə p oː ɕ œ r k ɔ n s ɛ t ə n\r\n",
      "[2021-06-07 14:59:34,057][fairseq.tasks.unpaired_audio_text][INFO] - HYP: n ɪ n s j œ r œ ʂ ɕ b j uː œ yː k uː ɵ m n ə m ɔ k b ə uː s eː r n v oː s l ɪ ŋ k l ɪ l s ɔ œ m k n t a\r\n",
      "[2021-06-07 14:59:34,062][fairseq.tasks.unpaired_audio_text][INFO] - LM [REF]: -53.44462585449219, 0.05339602260269112\r\n",
      "[2021-06-07 14:59:34,062][fairseq.tasks.unpaired_audio_text][INFO] - LM [HYP]: -89.83952331542969, 0.01596649295470728\r\n"
     ]
    },
    {
     "name": "stdout",
     "output_type": "stream",
     "text": [
      "[2021-06-07 14:59:34,588][valid][INFO] - {\"epoch\": 5114, \"valid_loss\": \"1.001\", \"valid_ntokens\": \"3039.79\", \"valid_nsentences\": \"144.214\", \"valid_lm_score_sum\": \"-89579.9\", \"valid_num_pred_chars\": \"48341\", \"valid_vocab_seen_pct\": \"0.891986\", \"valid_uer\": \"100.113\", \"valid_weighted_lm_ppl\": \"75.522\", \"valid_lm_ppl\": \"60.0883\", \"valid_wps\": \"17269.9\", \"valid_wpb\": \"3039.8\", \"valid_bsz\": \"144.2\", \"valid_num_updates\": \"81824\", \"valid_best_weighted_lm_ppl\": \"73.0296\"}\r\n"
     ]
    },
    {
     "name": "stdout",
     "output_type": "stream",
     "text": [
      "[2021-06-07 14:59:34,592][fairseq.checkpoint_utils][INFO] - Preparing to save checkpoint for epoch 5114 @ 81824 updates\r\n",
      "[2021-06-07 14:59:34,593][fairseq.trainer][INFO] - Saving checkpoint to /kaggle/working/checkpoint_last.pt\r\n",
      "[2021-06-07 14:59:34,643][fairseq.trainer][INFO] - Finished saving checkpoint to /kaggle/working/checkpoint_last.pt\r\n"
     ]
    },
    {
     "name": "stdout",
     "output_type": "stream",
     "text": [
      "[2021-06-07 14:59:34,643][fairseq.checkpoint_utils][INFO] - Saved checkpoint /kaggle/working/checkpoint_last.pt (epoch 5114 @ 81824 updates, score 75.52202962865947) (writing took 0.05143420999957016 seconds)\r\n",
      "[2021-06-07 14:59:34,643][fairseq_cli.train][INFO] - end of epoch 5114 (average epoch stats below)\r\n",
      "[2021-06-07 14:59:34,647][train][INFO] - {\"epoch\": 5114, \"train_loss\": \"3.773\", \"train_ntokens\": \"145.688\", \"train_nsentences\": \"145.688\", \"train_temp\": \"0.1\", \"train_code_ppl\": \"8.89\", \"train_loss_code_pen\": \"0.334\", \"train_loss_smoothness\": \"2.128\", \"train_loss_dense_g\": \"4.262\", \"train_lm_score_sum\": 0.0, \"train_num_pred_chars\": 0.0, \"train_loss_grad_pen\": \"0.122\", \"train_loss_dense_d\": \"0.03\", \"train_loss_token_d\": \"0.025\", \"train_wps\": \"11.1\", \"train_ups\": \"0.08\", \"train_wpb\": \"145.7\", \"train_bsz\": \"145.7\", \"train_num_updates\": \"81824\", \"train_lr_discriminator\": \"0.0005\", \"train_lr_generator\": \"0.0004\", \"train_gnorm\": \"36.987\", \"train_clip\": \"87.5\", \"train_train_wall\": \"206\", \"train_wall\": \"13028\"}\r\n"
     ]
    },
    {
     "name": "stdout",
     "output_type": "stream",
     "text": [
      "[2021-06-07 14:59:34,705][fairseq.trainer][INFO] - begin training epoch 5115\r\n",
      "[2021-06-07 14:59:34,707][fairseq_cli.train][INFO] - Start iterating over samples\r\n"
     ]
    },
    {
     "name": "stdout",
     "output_type": "stream",
     "text": [
      "[2021-06-07 15:03:29,233][fairseq_cli.train][INFO] - begin validation on \"valid\" subset\r\n"
     ]
    },
    {
     "name": "stdout",
     "output_type": "stream",
     "text": [
      "[2021-06-07 15:03:31,958][fairseq.tasks.unpaired_audio_text][INFO] - REF: ɛ n f œ ʂ ə n a d ɵ ʂ ə k t f øː r d eː t s ɔ m h ɛ n d ə p oː ɕ œ r k ɔ n s ɛ t ə n\r\n",
      "[2021-06-07 15:03:31,961][fairseq.tasks.unpaired_audio_text][INFO] - HYP: n ɵ n s j œ r œ ʂ b j uː œ k uː ɵ m n ə m ɔ k b ə uː s eː r n v oː s l ɪ ŋ k l ɪ l s ɔ œ m k t a\r\n",
      "[2021-06-07 15:03:31,965][fairseq.tasks.unpaired_audio_text][INFO] - LM [REF]: -53.44462585449219, 0.05339602260269112\r\n",
      "[2021-06-07 15:03:31,965][fairseq.tasks.unpaired_audio_text][INFO] - LM [HYP]: -83.8717041015625, 0.01642463236315539\r\n"
     ]
    },
    {
     "name": "stdout",
     "output_type": "stream",
     "text": [
      "[2021-06-07 15:03:32,528][valid][INFO] - {\"epoch\": 5115, \"valid_loss\": \"1.001\", \"valid_ntokens\": \"3039.79\", \"valid_nsentences\": \"144.214\", \"valid_lm_score_sum\": \"-89472.5\", \"valid_num_pred_chars\": \"48335\", \"valid_vocab_seen_pct\": \"0.890244\", \"valid_uer\": \"100.141\", \"valid_weighted_lm_ppl\": \"75.4835\", \"valid_lm_ppl\": \"59.8232\", \"valid_wps\": \"16579\", \"valid_wpb\": \"3039.8\", \"valid_bsz\": \"144.2\", \"valid_num_updates\": \"81840\", \"valid_best_weighted_lm_ppl\": \"73.0296\"}\r\n",
      "[2021-06-07 15:03:32,531][fairseq.checkpoint_utils][INFO] - Preparing to save checkpoint for epoch 5115 @ 81840 updates\r\n",
      "[2021-06-07 15:03:32,532][fairseq.trainer][INFO] - Saving checkpoint to /kaggle/working/checkpoint_last.pt\r\n"
     ]
    },
    {
     "name": "stdout",
     "output_type": "stream",
     "text": [
      "[2021-06-07 15:03:32,588][fairseq.trainer][INFO] - Finished saving checkpoint to /kaggle/working/checkpoint_last.pt\r\n",
      "[2021-06-07 15:03:32,589][fairseq.checkpoint_utils][INFO] - Saved checkpoint /kaggle/working/checkpoint_last.pt (epoch 5115 @ 81840 updates, score 75.48345322145764) (writing took 0.057502023000779445 seconds)\r\n",
      "[2021-06-07 15:03:32,589][fairseq_cli.train][INFO] - end of epoch 5115 (average epoch stats below)\r\n",
      "[2021-06-07 15:03:32,593][train][INFO] - {\"epoch\": 5115, \"train_loss\": \"3.228\", \"train_ntokens\": \"145.688\", \"train_nsentences\": \"145.688\", \"train_temp\": \"0.1\", \"train_code_ppl\": \"8.783\", \"train_loss_code_pen\": \"0.314\", \"train_loss_smoothness\": \"2.072\", \"train_loss_dense_g\": \"4.207\", \"train_lm_score_sum\": 0.0, \"train_num_pred_chars\": 0.0, \"train_loss_grad_pen\": \"0.056\", \"train_loss_dense_d\": \"0.022\", \"train_loss_token_d\": \"0.022\", \"train_wps\": \"9.8\", \"train_ups\": \"0.07\", \"train_wpb\": \"145.7\", \"train_bsz\": \"145.7\", \"train_num_updates\": \"81840\", \"train_lr_discriminator\": \"0.0005\", \"train_lr_generator\": \"0.0004\", \"train_gnorm\": \"29.326\", \"train_clip\": \"68.8\", \"train_train_wall\": \"234\", \"train_wall\": \"13266\"}\r\n"
     ]
    },
    {
     "name": "stdout",
     "output_type": "stream",
     "text": [
      "[2021-06-07 15:03:32,660][fairseq.trainer][INFO] - begin training epoch 5116\r\n",
      "[2021-06-07 15:03:32,662][fairseq_cli.train][INFO] - Start iterating over samples\r\n"
     ]
    },
    {
     "name": "stdout",
     "output_type": "stream",
     "text": [
      "[2021-06-07 15:07:06,989][fairseq_cli.train][INFO] - begin validation on \"valid\" subset\r\n"
     ]
    },
    {
     "name": "stdout",
     "output_type": "stream",
     "text": [
      "[2021-06-07 15:07:09,677][fairseq.tasks.unpaired_audio_text][INFO] - REF: ɛ n f œ ʂ ə n a d ɵ ʂ ə k t f øː r d eː t s ɔ m h ɛ n d ə p oː ɕ œ r k ɔ n s ɛ t ə n\r\n",
      "[2021-06-07 15:07:09,680][fairseq.tasks.unpaired_audio_text][INFO] - HYP: n ɵ n s j œ r œ ʂ yː b j uː œ k uː ɵ n ə m ɔ k b ə uː s eː r n v oː s l ɪ ŋ k l ɪ l s ɔ œ m k n t a\r\n",
      "[2021-06-07 15:07:09,684][fairseq.tasks.unpaired_audio_text][INFO] - LM [REF]: -53.44462585449219, 0.05339602260269112\r\n",
      "[2021-06-07 15:07:09,684][fairseq.tasks.unpaired_audio_text][INFO] - LM [HYP]: -86.58549499511719, 0.015708529101317256\r\n"
     ]
    },
    {
     "name": "stdout",
     "output_type": "stream",
     "text": [
      "[2021-06-07 15:07:10,210][valid][INFO] - {\"epoch\": 5116, \"valid_loss\": \"1.001\", \"valid_ntokens\": \"3039.79\", \"valid_nsentences\": \"144.214\", \"valid_lm_score_sum\": \"-89597.8\", \"valid_num_pred_chars\": \"48428\", \"valid_vocab_seen_pct\": \"0.893728\", \"valid_uer\": \"100.134\", \"valid_weighted_lm_ppl\": \"74.7596\", \"valid_lm_ppl\": \"59.7143\", \"valid_wps\": \"16995.8\", \"valid_wpb\": \"3039.8\", \"valid_bsz\": \"144.2\", \"valid_num_updates\": \"81856\", \"valid_best_weighted_lm_ppl\": \"73.0296\"}\r\n",
      "[2021-06-07 15:07:10,213][fairseq.checkpoint_utils][INFO] - Preparing to save checkpoint for epoch 5116 @ 81856 updates\r\n"
     ]
    },
    {
     "name": "stdout",
     "output_type": "stream",
     "text": [
      "[2021-06-07 15:07:10,214][fairseq.trainer][INFO] - Saving checkpoint to /kaggle/working/checkpoint_last.pt\r\n",
      "[2021-06-07 15:07:10,261][fairseq.trainer][INFO] - Finished saving checkpoint to /kaggle/working/checkpoint_last.pt\r\n",
      "[2021-06-07 15:07:10,261][fairseq.checkpoint_utils][INFO] - Saved checkpoint /kaggle/working/checkpoint_last.pt (epoch 5116 @ 81856 updates, score 74.75964530785564) (writing took 0.047779067999726976 seconds)\r\n",
      "[2021-06-07 15:07:10,261][fairseq_cli.train][INFO] - end of epoch 5116 (average epoch stats below)\r\n",
      "[2021-06-07 15:07:10,264][train][INFO] - {\"epoch\": 5116, \"train_loss\": \"3.793\", \"train_ntokens\": \"145.688\", \"train_nsentences\": \"145.688\", \"train_temp\": \"0.1\", \"train_code_ppl\": \"8.894\", \"train_loss_code_pen\": \"0.345\", \"train_loss_smoothness\": \"2.176\", \"train_loss_dense_g\": \"4.248\", \"train_lm_score_sum\": 0.0, \"train_num_pred_chars\": 0.0, \"train_loss_grad_pen\": \"0.112\", \"train_loss_dense_d\": \"0.026\", \"train_loss_token_d\": \"0.029\", \"train_wps\": \"10.7\", \"train_ups\": \"0.07\", \"train_wpb\": \"145.7\", \"train_bsz\": \"145.7\", \"train_num_updates\": \"81856\", \"train_lr_discriminator\": \"0.0005\", \"train_lr_generator\": \"0.0004\", \"train_gnorm\": \"35.085\", \"train_clip\": \"87.5\", \"train_train_wall\": \"214\", \"train_wall\": \"13484\"}\r\n"
     ]
    },
    {
     "name": "stdout",
     "output_type": "stream",
     "text": [
      "[2021-06-07 15:07:10,322][fairseq.trainer][INFO] - begin training epoch 5117\r\n",
      "[2021-06-07 15:07:10,324][fairseq_cli.train][INFO] - Start iterating over samples\r\n"
     ]
    },
    {
     "name": "stdout",
     "output_type": "stream",
     "text": [
      "[2021-06-07 15:10:59,323][fairseq_cli.train][INFO] - begin validation on \"valid\" subset\r\n"
     ]
    },
    {
     "name": "stdout",
     "output_type": "stream",
     "text": [
      "[2021-06-07 15:11:01,976][fairseq.tasks.unpaired_audio_text][INFO] - REF: ɛ n f œ ʂ ə n a d ɵ ʂ ə k t f øː r d eː t s ɔ m h ɛ n d ə p oː ɕ œ r k ɔ n s ɛ t ə n\r\n",
      "[2021-06-07 15:11:01,979][fairseq.tasks.unpaired_audio_text][INFO] - HYP: n ɵ n s j œ r œ ʂ ɕ b j uː œ yː k uː ɵ n ə m œ k b ə uː s eː r n v oː s l ɪ ŋ k l ɪ l s ɔ k m k n t a\r\n",
      "[2021-06-07 15:11:01,983][fairseq.tasks.unpaired_audio_text][INFO] - LM [REF]: -53.44462585449219, 0.05339602260269112\r\n",
      "[2021-06-07 15:11:01,983][fairseq.tasks.unpaired_audio_text][INFO] - LM [HYP]: -89.3360366821289, 0.01502503796057037\r\n"
     ]
    },
    {
     "name": "stdout",
     "output_type": "stream",
     "text": [
      "[2021-06-07 15:11:02,502][valid][INFO] - {\"epoch\": 5117, \"valid_loss\": \"1.002\", \"valid_ntokens\": \"3039.79\", \"valid_nsentences\": \"144.214\", \"valid_lm_score_sum\": \"-89673.6\", \"valid_num_pred_chars\": \"48415\", \"valid_vocab_seen_pct\": \"0.891986\", \"valid_uer\": \"100.16\", \"valid_weighted_lm_ppl\": \"75.3914\", \"valid_lm_ppl\": \"59.9843\", \"valid_wps\": \"17295.3\", \"valid_wpb\": \"3039.8\", \"valid_bsz\": \"144.2\", \"valid_num_updates\": \"81872\", \"valid_best_weighted_lm_ppl\": \"73.0296\"}\r\n",
      "[2021-06-07 15:11:02,505][fairseq.checkpoint_utils][INFO] - Preparing to save checkpoint for epoch 5117 @ 81872 updates\r\n",
      "[2021-06-07 15:11:02,506][fairseq.trainer][INFO] - Saving checkpoint to /kaggle/working/checkpoint_last.pt\r\n"
     ]
    },
    {
     "name": "stdout",
     "output_type": "stream",
     "text": [
      "[2021-06-07 15:11:02,554][fairseq.trainer][INFO] - Finished saving checkpoint to /kaggle/working/checkpoint_last.pt\r\n",
      "[2021-06-07 15:11:02,555][fairseq.checkpoint_utils][INFO] - Saved checkpoint /kaggle/working/checkpoint_last.pt (epoch 5117 @ 81872 updates, score 75.39137955097401) (writing took 0.04935173100057 seconds)\r\n",
      "[2021-06-07 15:11:02,555][fairseq_cli.train][INFO] - end of epoch 5117 (average epoch stats below)\r\n",
      "[2021-06-07 15:11:02,558][train][INFO] - {\"epoch\": 5117, \"train_loss\": \"3.148\", \"train_ntokens\": \"145.688\", \"train_nsentences\": \"145.688\", \"train_temp\": \"0.1\", \"train_code_ppl\": \"8.821\", \"train_loss_code_pen\": \"0.323\", \"train_loss_smoothness\": \"2.077\", \"train_loss_dense_g\": \"4.02\", \"train_lm_score_sum\": 0.0, \"train_num_pred_chars\": 0.0, \"train_loss_grad_pen\": \"0.059\", \"train_loss_dense_d\": \"0.026\", \"train_loss_token_d\": \"0.022\", \"train_wps\": \"10\", \"train_ups\": \"0.07\", \"train_wpb\": \"145.7\", \"train_bsz\": \"145.7\", \"train_num_updates\": \"81872\", \"train_lr_discriminator\": \"0.0005\", \"train_lr_generator\": \"0.0004\", \"train_gnorm\": \"29.067\", \"train_clip\": \"68.8\", \"train_train_wall\": \"228\", \"train_wall\": \"13716\"}\r\n"
     ]
    },
    {
     "name": "stdout",
     "output_type": "stream",
     "text": [
      "[2021-06-07 15:11:02,619][fairseq.trainer][INFO] - begin training epoch 5118\r\n",
      "[2021-06-07 15:11:02,620][fairseq_cli.train][INFO] - Start iterating over samples\r\n"
     ]
    },
    {
     "name": "stdout",
     "output_type": "stream",
     "text": [
      "[2021-06-07 15:14:29,477][fairseq_cli.train][INFO] - begin validation on \"valid\" subset\r\n"
     ]
    },
    {
     "name": "stdout",
     "output_type": "stream",
     "text": [
      "[2021-06-07 15:14:32,116][fairseq.tasks.unpaired_audio_text][INFO] - REF: ɛ n f œ ʂ ə n a d ɵ ʂ ə k t f øː r d eː t s ɔ m h ɛ n d ə p oː ɕ œ r k ɔ n s ɛ t ə n\r\n",
      "[2021-06-07 15:14:32,118][fairseq.tasks.unpaired_audio_text][INFO] - HYP: n ɵ n s j œ r œ ɕ b j uː œ k uː ɵ n ə m ɔ k b ə uː s eː r n v oː s l ɪ ŋ k l ɪ l s ɔ m k n t a\r\n",
      "[2021-06-07 15:14:32,122][fairseq.tasks.unpaired_audio_text][INFO] - LM [REF]: -53.44462585449219, 0.05339602260269112\r\n",
      "[2021-06-07 15:14:32,123][fairseq.tasks.unpaired_audio_text][INFO] - LM [HYP]: -79.84222412109375, 0.018378051983780015\r\n"
     ]
    },
    {
     "name": "stdout",
     "output_type": "stream",
     "text": [
      "[2021-06-07 15:14:32,645][valid][INFO] - {\"epoch\": 5118, \"valid_loss\": \"1.001\", \"valid_ntokens\": \"3039.79\", \"valid_nsentences\": \"144.214\", \"valid_lm_score_sum\": \"-89667.6\", \"valid_num_pred_chars\": \"48381\", \"valid_vocab_seen_pct\": \"0.893728\", \"valid_uer\": \"100.134\", \"valid_weighted_lm_ppl\": \"75.285\", \"valid_lm_ppl\": \"60.1339\", \"valid_wps\": \"17296.7\", \"valid_wpb\": \"3039.8\", \"valid_bsz\": \"144.2\", \"valid_num_updates\": \"81888\", \"valid_best_weighted_lm_ppl\": \"73.0296\"}\r\n",
      "[2021-06-07 15:14:32,648][fairseq.checkpoint_utils][INFO] - Preparing to save checkpoint for epoch 5118 @ 81888 updates\r\n",
      "[2021-06-07 15:14:32,649][fairseq.trainer][INFO] - Saving checkpoint to /kaggle/working/checkpoint_last.pt\r\n"
     ]
    },
    {
     "name": "stdout",
     "output_type": "stream",
     "text": [
      "[2021-06-07 15:14:32,696][fairseq.trainer][INFO] - Finished saving checkpoint to /kaggle/working/checkpoint_last.pt\r\n",
      "[2021-06-07 15:14:32,697][fairseq.checkpoint_utils][INFO] - Saved checkpoint /kaggle/working/checkpoint_last.pt (epoch 5118 @ 81888 updates, score 75.2850131958733) (writing took 0.048645267999745556 seconds)\r\n",
      "[2021-06-07 15:14:32,697][fairseq_cli.train][INFO] - end of epoch 5118 (average epoch stats below)\r\n",
      "[2021-06-07 15:14:32,701][train][INFO] - {\"epoch\": 5118, \"train_loss\": \"3.629\", \"train_ntokens\": \"145.688\", \"train_nsentences\": \"145.688\", \"train_temp\": \"0.1\", \"train_code_ppl\": \"8.881\", \"train_loss_code_pen\": \"0.317\", \"train_loss_smoothness\": \"2.085\", \"train_loss_dense_g\": \"4.115\", \"train_lm_score_sum\": 0.0, \"train_num_pred_chars\": 0.0, \"train_loss_grad_pen\": \"0.061\", \"train_loss_dense_d\": \"0.022\", \"train_loss_token_d\": \"0.028\", \"train_wps\": \"11.1\", \"train_ups\": \"0.08\", \"train_wpb\": \"145.7\", \"train_bsz\": \"145.7\", \"train_num_updates\": \"81888\", \"train_lr_discriminator\": \"0.0005\", \"train_lr_generator\": \"0.0004\", \"train_gnorm\": \"33.814\", \"train_clip\": \"56.2\", \"train_train_wall\": \"206\", \"train_wall\": \"13926\"}\r\n"
     ]
    },
    {
     "name": "stdout",
     "output_type": "stream",
     "text": [
      "[2021-06-07 15:14:32,764][fairseq.trainer][INFO] - begin training epoch 5119\r\n",
      "[2021-06-07 15:14:32,766][fairseq_cli.train][INFO] - Start iterating over samples\r\n"
     ]
    },
    {
     "name": "stdout",
     "output_type": "stream",
     "text": [
      "[2021-06-07 15:17:35,948][train_inner][INFO] - {\"epoch\": 5119, \"update\": 5118.75, \"loss\": \"3.442\", \"ntokens\": \"146.26\", \"nsentences\": \"146.26\", \"temp\": \"0.1\", \"code_ppl\": \"8.851\", \"loss_code_pen\": \"0.327\", \"loss_smoothness\": \"2.111\", \"loss_dense_g\": \"4.181\", \"lm_score_sum\": 0.0, \"num_pred_chars\": 0.0, \"loss_grad_pen\": \"0.086\", \"loss_dense_d\": \"0.025\", \"loss_token_d\": \"0.025\", \"wps\": \"10.4\", \"ups\": \"0.07\", \"wpb\": \"146.3\", \"bsz\": \"146.3\", \"num_updates\": \"81900\", \"lr_discriminator\": \"0.0005\", \"lr_generator\": \"0.0004\", \"gnorm\": \"32.455\", \"clip\": \"76\", \"train_wall\": \"1389\", \"wall\": \"14109\"}\r\n"
     ]
    },
    {
     "name": "stdout",
     "output_type": "stream",
     "text": [
      "[2021-06-07 15:18:32,088][fairseq_cli.train][INFO] - begin validation on \"valid\" subset\r\n"
     ]
    },
    {
     "name": "stdout",
     "output_type": "stream",
     "text": [
      "[2021-06-07 15:18:34,811][fairseq.tasks.unpaired_audio_text][INFO] - REF: ɛ n f œ ʂ ə n a d ɵ ʂ ə k t f øː r d eː t s ɔ m h ɛ n d ə p oː ɕ œ r k ɔ n s ɛ t ə n\r\n",
      "[2021-06-07 15:18:34,814][fairseq.tasks.unpaired_audio_text][INFO] - HYP: n ɪ n s j œ r œ j b j uː œ k uː ɵ ə m ɔ k b ə uː s eː r n v oː s l ɪ ŋ k l ɪ l s œ k m k n t a\r\n"
     ]
    },
    {
     "name": "stdout",
     "output_type": "stream",
     "text": [
      "[2021-06-07 15:18:34,818][fairseq.tasks.unpaired_audio_text][INFO] - LM [REF]: -53.44462585449219, 0.05339602260269112\r\n",
      "[2021-06-07 15:18:34,818][fairseq.tasks.unpaired_audio_text][INFO] - LM [HYP]: -83.32015991210938, 0.015441595646080832\r\n"
     ]
    },
    {
     "name": "stdout",
     "output_type": "stream",
     "text": [
      "[2021-06-07 15:18:35,340][valid][INFO] - {\"epoch\": 5119, \"valid_loss\": \"1.001\", \"valid_ntokens\": \"3039.79\", \"valid_nsentences\": \"144.214\", \"valid_lm_score_sum\": \"-89684.1\", \"valid_num_pred_chars\": \"48438\", \"valid_vocab_seen_pct\": \"0.891986\", \"valid_uer\": \"100.056\", \"valid_weighted_lm_ppl\": \"75.2871\", \"valid_lm_ppl\": \"59.9013\", \"valid_wps\": \"16783.6\", \"valid_wpb\": \"3039.8\", \"valid_bsz\": \"144.2\", \"valid_num_updates\": \"81904\", \"valid_best_weighted_lm_ppl\": \"73.0296\"}\r\n",
      "[2021-06-07 15:18:35,343][fairseq.checkpoint_utils][INFO] - Preparing to save checkpoint for epoch 5119 @ 81904 updates\r\n",
      "[2021-06-07 15:18:35,344][fairseq.trainer][INFO] - Saving checkpoint to /kaggle/working/checkpoint_last.pt\r\n"
     ]
    },
    {
     "name": "stdout",
     "output_type": "stream",
     "text": [
      "[2021-06-07 15:18:35,393][fairseq.trainer][INFO] - Finished saving checkpoint to /kaggle/working/checkpoint_last.pt\r\n",
      "[2021-06-07 15:18:35,393][fairseq.checkpoint_utils][INFO] - Saved checkpoint /kaggle/working/checkpoint_last.pt (epoch 5119 @ 81904 updates, score 75.28705379892644) (writing took 0.049551652000445756 seconds)\r\n",
      "[2021-06-07 15:18:35,394][fairseq_cli.train][INFO] - end of epoch 5119 (average epoch stats below)\r\n",
      "[2021-06-07 15:18:35,397][train][INFO] - {\"epoch\": 5119, \"train_loss\": \"3.041\", \"train_ntokens\": \"145.688\", \"train_nsentences\": \"145.688\", \"train_temp\": \"0.1\", \"train_code_ppl\": \"8.882\", \"train_loss_code_pen\": \"0.327\", \"train_loss_smoothness\": \"2.097\", \"train_loss_dense_g\": \"4.129\", \"train_lm_score_sum\": 0.0, \"train_num_pred_chars\": 0.0, \"train_loss_grad_pen\": \"0.108\", \"train_loss_dense_d\": \"0.026\", \"train_loss_token_d\": \"0.025\", \"train_wps\": \"9.6\", \"train_ups\": \"0.07\", \"train_wpb\": \"145.7\", \"train_bsz\": \"145.7\", \"train_num_updates\": \"81904\", \"train_lr_discriminator\": \"0.0005\", \"train_lr_generator\": \"0.0004\", \"train_gnorm\": \"30.887\", \"train_clip\": \"87.5\", \"train_train_wall\": \"239\", \"train_wall\": \"14169\"}\r\n"
     ]
    },
    {
     "name": "stdout",
     "output_type": "stream",
     "text": [
      "[2021-06-07 15:18:35,456][fairseq.trainer][INFO] - begin training epoch 5120\r\n",
      "[2021-06-07 15:18:35,457][fairseq_cli.train][INFO] - Start iterating over samples\r\n"
     ]
    },
    {
     "name": "stdout",
     "output_type": "stream",
     "text": [
      "[2021-06-07 15:22:10,814][fairseq_cli.train][INFO] - begin validation on \"valid\" subset\r\n"
     ]
    },
    {
     "name": "stdout",
     "output_type": "stream",
     "text": [
      "[2021-06-07 15:22:13,632][fairseq.tasks.unpaired_audio_text][INFO] - REF: ɛ n f œ ʂ ə n a d ɵ ʂ ə k t f øː r d eː t s ɔ m h ɛ n d ə p oː ɕ œ r k ɔ n s ɛ t ə n\r\n",
      "[2021-06-07 15:22:13,634][fairseq.tasks.unpaired_audio_text][INFO] - HYP: n ɪ n s j œ r œ ɕ b j uː œ yː k uː ɵ v j n ə m ɔ k b ə uː s eː r n v oː s ɪ ŋ k l ɪ l s œ k m k n t a\r\n",
      "[2021-06-07 15:22:13,639][fairseq.tasks.unpaired_audio_text][INFO] - LM [REF]: -53.44462585449219, 0.05339602260269112\r\n",
      "[2021-06-07 15:22:13,639][fairseq.tasks.unpaired_audio_text][INFO] - LM [HYP]: -90.25973510742188, 0.014386812700828169\r\n"
     ]
    },
    {
     "name": "stdout",
     "output_type": "stream",
     "text": [
      "[2021-06-07 15:22:14,235][valid][INFO] - {\"epoch\": 5120, \"valid_loss\": \"1\", \"valid_ntokens\": \"3039.79\", \"valid_nsentences\": \"144.214\", \"valid_lm_score_sum\": \"-89544.7\", \"valid_num_pred_chars\": \"48294\", \"valid_vocab_seen_pct\": \"0.891986\", \"valid_uer\": \"99.953\", \"valid_weighted_lm_ppl\": \"75.6896\", \"valid_lm_ppl\": \"60.2216\", \"valid_wps\": \"15616.7\", \"valid_wpb\": \"3039.8\", \"valid_bsz\": \"144.2\", \"valid_num_updates\": \"81920\", \"valid_best_weighted_lm_ppl\": \"73.0296\"}\r\n",
      "[2021-06-07 15:22:14,239][fairseq.checkpoint_utils][INFO] - Preparing to save checkpoint for epoch 5120 @ 81920 updates\r\n",
      "[2021-06-07 15:22:14,240][fairseq.trainer][INFO] - Saving checkpoint to /kaggle/working/checkpoint_last.pt\r\n"
     ]
    },
    {
     "name": "stdout",
     "output_type": "stream",
     "text": [
      "[2021-06-07 15:22:14,290][fairseq.trainer][INFO] - Finished saving checkpoint to /kaggle/working/checkpoint_last.pt\r\n",
      "[2021-06-07 15:22:14,290][fairseq.checkpoint_utils][INFO] - Saved checkpoint /kaggle/working/checkpoint_last.pt (epoch 5120 @ 81920 updates, score 75.68955221772471) (writing took 0.05151429200122948 seconds)\r\n",
      "[2021-06-07 15:22:14,291][fairseq_cli.train][INFO] - end of epoch 5120 (average epoch stats below)\r\n",
      "[2021-06-07 15:22:14,294][train][INFO] - {\"epoch\": 5120, \"train_loss\": \"3.343\", \"train_ntokens\": \"145.688\", \"train_nsentences\": \"145.688\", \"train_temp\": \"0.1\", \"train_code_ppl\": \"8.923\", \"train_loss_code_pen\": \"0.327\", \"train_loss_smoothness\": \"2.081\", \"train_loss_dense_g\": \"3.948\", \"train_lm_score_sum\": 0.0, \"train_num_pred_chars\": 0.0, \"train_loss_grad_pen\": \"0.055\", \"train_loss_dense_d\": \"0.024\", \"train_loss_token_d\": \"0.024\", \"train_wps\": \"10.6\", \"train_ups\": \"0.07\", \"train_wpb\": \"145.7\", \"train_bsz\": \"145.7\", \"train_num_updates\": \"81920\", \"train_lr_discriminator\": \"0.0005\", \"train_lr_generator\": \"0.0004\", \"train_gnorm\": \"30.662\", \"train_clip\": \"62.5\", \"train_train_wall\": \"215\", \"train_wall\": \"14388\"}\r\n"
     ]
    },
    {
     "name": "stdout",
     "output_type": "stream",
     "text": [
      "[2021-06-07 15:22:14,355][fairseq.trainer][INFO] - begin training epoch 5121\r\n",
      "[2021-06-07 15:22:14,357][fairseq_cli.train][INFO] - Start iterating over samples\r\n"
     ]
    },
    {
     "name": "stdout",
     "output_type": "stream",
     "text": [
      "[2021-06-07 15:26:19,017][fairseq_cli.train][INFO] - begin validation on \"valid\" subset\r\n"
     ]
    },
    {
     "name": "stdout",
     "output_type": "stream",
     "text": [
      "[2021-06-07 15:26:21,770][fairseq.tasks.unpaired_audio_text][INFO] - REF: ɛ n f œ ʂ ə n a d ɵ ʂ ə k t f øː r d eː t s ɔ m h ɛ n d ə p oː ɕ œ r k ɔ n s ɛ t ə n\r\n",
      "[2021-06-07 15:26:21,773][fairseq.tasks.unpaired_audio_text][INFO] - HYP: n ɪ n s j œ r œ ʂ ɕ b j uː œ k uː ɵ v j m n ə m ɔ k b ə uː s eː r n v oː s l ɪ ŋ k l ɪ l s ɔ œ k m k n t n\r\n",
      "[2021-06-07 15:26:21,777][fairseq.tasks.unpaired_audio_text][INFO] - LM [REF]: -53.44462585449219, 0.05339602260269112\r\n",
      "[2021-06-07 15:26:21,777][fairseq.tasks.unpaired_audio_text][INFO] - LM [HYP]: -96.09195709228516, 0.014193115868102221\r\n"
     ]
    },
    {
     "name": "stdout",
     "output_type": "stream",
     "text": [
      "[2021-06-07 15:26:22,309][valid][INFO] - {\"epoch\": 5121, \"valid_loss\": \"1.001\", \"valid_ntokens\": \"3039.79\", \"valid_nsentences\": \"144.214\", \"valid_lm_score_sum\": \"-89765.6\", \"valid_num_pred_chars\": \"48484\", \"valid_vocab_seen_pct\": \"0.893728\", \"valid_uer\": \"100.127\", \"valid_weighted_lm_ppl\": \"74.9928\", \"valid_lm_ppl\": \"59.9005\", \"valid_wps\": \"16786.4\", \"valid_wpb\": \"3039.8\", \"valid_bsz\": \"144.2\", \"valid_num_updates\": \"81936\", \"valid_best_weighted_lm_ppl\": \"73.0296\"}\r\n",
      "[2021-06-07 15:26:22,312][fairseq.checkpoint_utils][INFO] - Preparing to save checkpoint for epoch 5121 @ 81936 updates\r\n",
      "[2021-06-07 15:26:22,313][fairseq.trainer][INFO] - Saving checkpoint to /kaggle/working/checkpoint_last.pt\r\n"
     ]
    },
    {
     "name": "stdout",
     "output_type": "stream",
     "text": [
      "[2021-06-07 15:26:22,360][fairseq.trainer][INFO] - Finished saving checkpoint to /kaggle/working/checkpoint_last.pt\r\n",
      "[2021-06-07 15:26:22,361][fairseq.checkpoint_utils][INFO] - Saved checkpoint /kaggle/working/checkpoint_last.pt (epoch 5121 @ 81936 updates, score 74.99281635050076) (writing took 0.04866297100124939 seconds)\r\n",
      "[2021-06-07 15:26:22,361][fairseq_cli.train][INFO] - end of epoch 5121 (average epoch stats below)\r\n",
      "[2021-06-07 15:26:22,364][train][INFO] - {\"epoch\": 5121, \"train_loss\": \"3.102\", \"train_ntokens\": \"145.688\", \"train_nsentences\": \"145.688\", \"train_temp\": \"0.1\", \"train_code_ppl\": \"8.934\", \"train_loss_code_pen\": \"0.342\", \"train_loss_smoothness\": \"2.13\", \"train_loss_dense_g\": \"4.269\", \"train_lm_score_sum\": 0.0, \"train_num_pred_chars\": 0.0, \"train_loss_grad_pen\": \"0.066\", \"train_loss_dense_d\": \"0.026\", \"train_loss_token_d\": \"0.023\", \"train_wps\": \"9.4\", \"train_ups\": \"0.06\", \"train_wpb\": \"145.7\", \"train_bsz\": \"145.7\", \"train_num_updates\": \"81936\", \"train_lr_discriminator\": \"0.0005\", \"train_lr_generator\": \"0.0004\", \"train_gnorm\": \"29.672\", \"train_clip\": \"68.8\", \"train_train_wall\": \"244\", \"train_wall\": \"14636\"}\r\n"
     ]
    },
    {
     "name": "stdout",
     "output_type": "stream",
     "text": [
      "[2021-06-07 15:26:22,423][fairseq.trainer][INFO] - begin training epoch 5122\r\n",
      "[2021-06-07 15:26:22,424][fairseq_cli.train][INFO] - Start iterating over samples\r\n"
     ]
    },
    {
     "name": "stdout",
     "output_type": "stream",
     "text": [
      "[2021-06-07 15:30:09,980][fairseq_cli.train][INFO] - begin validation on \"valid\" subset\r\n"
     ]
    },
    {
     "name": "stdout",
     "output_type": "stream",
     "text": [
      "[2021-06-07 15:30:12,750][fairseq.tasks.unpaired_audio_text][INFO] - REF: ɛ n f œ ʂ ə n a d ɵ ʂ ə k t f øː r d eː t s ɔ m h ɛ n d ə p oː ɕ œ r k ɔ n s ɛ t ə n\r\n",
      "[2021-06-07 15:30:12,752][fairseq.tasks.unpaired_audio_text][INFO] - HYP: n ɪ n s j œ r œ j yː b j uː œ yː k uː ɵ j n ə m ɔ k b ə uː s eː r n v oː s ɪ ŋ k l ɪ l s œ k m k n t a\r\n",
      "[2021-06-07 15:30:12,757][fairseq.tasks.unpaired_audio_text][INFO] - LM [REF]: -53.44462585449219, 0.05339602260269112\r\n",
      "[2021-06-07 15:30:12,757][fairseq.tasks.unpaired_audio_text][INFO] - LM [HYP]: -89.99124145507812, 0.014569480010583743\r\n"
     ]
    },
    {
     "name": "stdout",
     "output_type": "stream",
     "text": [
      "[2021-06-07 15:30:13,286][valid][INFO] - {\"epoch\": 5122, \"valid_loss\": \"1.003\", \"valid_ntokens\": \"3039.79\", \"valid_nsentences\": \"144.214\", \"valid_lm_score_sum\": \"-89582.8\", \"valid_num_pred_chars\": \"48490\", \"valid_vocab_seen_pct\": \"0.890244\", \"valid_uer\": \"100.303\", \"valid_weighted_lm_ppl\": \"74.9173\", \"valid_lm_ppl\": \"59.3745\", \"valid_wps\": \"16680.6\", \"valid_wpb\": \"3039.8\", \"valid_bsz\": \"144.2\", \"valid_num_updates\": \"81952\", \"valid_best_weighted_lm_ppl\": \"73.0296\"}\r\n",
      "[2021-06-07 15:30:13,289][fairseq.checkpoint_utils][INFO] - Preparing to save checkpoint for epoch 5122 @ 81952 updates\r\n",
      "[2021-06-07 15:30:13,290][fairseq.trainer][INFO] - Saving checkpoint to /kaggle/working/checkpoint_last.pt\r\n"
     ]
    },
    {
     "name": "stdout",
     "output_type": "stream",
     "text": [
      "[2021-06-07 15:30:13,337][fairseq.trainer][INFO] - Finished saving checkpoint to /kaggle/working/checkpoint_last.pt\r\n",
      "[2021-06-07 15:30:13,338][fairseq.checkpoint_utils][INFO] - Saved checkpoint /kaggle/working/checkpoint_last.pt (epoch 5122 @ 81952 updates, score 74.91729527039257) (writing took 0.04852704499899119 seconds)\r\n",
      "[2021-06-07 15:30:13,338][fairseq_cli.train][INFO] - end of epoch 5122 (average epoch stats below)\r\n",
      "[2021-06-07 15:30:13,342][train][INFO] - {\"epoch\": 5122, \"train_loss\": \"3.159\", \"train_ntokens\": \"145.688\", \"train_nsentences\": \"145.688\", \"train_temp\": \"0.1\", \"train_code_ppl\": \"8.846\", \"train_loss_code_pen\": \"0.325\", \"train_loss_smoothness\": \"2.081\", \"train_loss_dense_g\": \"4.018\", \"train_lm_score_sum\": 0.0, \"train_num_pred_chars\": 0.0, \"train_loss_grad_pen\": \"0.076\", \"train_loss_dense_d\": \"0.023\", \"train_loss_token_d\": \"0.025\", \"train_wps\": \"10.1\", \"train_ups\": \"0.07\", \"train_wpb\": \"145.7\", \"train_bsz\": \"145.7\", \"train_num_updates\": \"81952\", \"train_lr_discriminator\": \"0.0005\", \"train_lr_generator\": \"0.0004\", \"train_gnorm\": \"29.873\", \"train_clip\": \"75\", \"train_train_wall\": \"227\", \"train_wall\": \"14867\"}\r\n"
     ]
    },
    {
     "name": "stdout",
     "output_type": "stream",
     "text": [
      "[2021-06-07 15:30:13,400][fairseq.trainer][INFO] - begin training epoch 5123\r\n",
      "[2021-06-07 15:30:13,402][fairseq_cli.train][INFO] - Start iterating over samples\r\n"
     ]
    },
    {
     "name": "stdout",
     "output_type": "stream",
     "text": [
      "[2021-06-07 15:33:46,881][fairseq_cli.train][INFO] - begin validation on \"valid\" subset\r\n"
     ]
    },
    {
     "name": "stdout",
     "output_type": "stream",
     "text": [
      "[2021-06-07 15:33:49,591][fairseq.tasks.unpaired_audio_text][INFO] - REF: ɛ n f œ ʂ ə n a d ɵ ʂ ə k t f øː r d eː t s ɔ m h ɛ n d ə p oː ɕ œ r k ɔ n s ɛ t ə n\r\n",
      "[2021-06-07 15:33:49,593][fairseq.tasks.unpaired_audio_text][INFO] - HYP: n ɵ n s j œ r œ yː b j uː œ yː k uː ɵ j n ə m œ k b ə uː s eː r n v oː s l ɪ ŋ k l ɪ l s œ k m k n t n\r\n",
      "[2021-06-07 15:33:49,597][fairseq.tasks.unpaired_audio_text][INFO] - LM [REF]: -53.44462585449219, 0.05339602260269112\r\n",
      "[2021-06-07 15:33:49,598][fairseq.tasks.unpaired_audio_text][INFO] - LM [HYP]: -91.86222839355469, 0.013343219950726938\r\n"
     ]
    },
    {
     "name": "stdout",
     "output_type": "stream",
     "text": [
      "[2021-06-07 15:33:50,124][valid][INFO] - {\"epoch\": 5123, \"valid_loss\": \"1.004\", \"valid_ntokens\": \"3039.79\", \"valid_nsentences\": \"144.214\", \"valid_lm_score_sum\": \"-89931.6\", \"valid_num_pred_chars\": \"48629\", \"valid_vocab_seen_pct\": \"0.891986\", \"valid_uer\": \"100.428\", \"valid_weighted_lm_ppl\": \"74.9727\", \"valid_lm_ppl\": \"59.6512\", \"valid_wps\": \"16838.8\", \"valid_wpb\": \"3039.8\", \"valid_bsz\": \"144.2\", \"valid_num_updates\": \"81968\", \"valid_best_weighted_lm_ppl\": \"73.0296\"}\r\n"
     ]
    },
    {
     "name": "stdout",
     "output_type": "stream",
     "text": [
      "[2021-06-07 15:33:50,129][fairseq.checkpoint_utils][INFO] - Preparing to save checkpoint for epoch 5123 @ 81968 updates\r\n",
      "[2021-06-07 15:33:50,130][fairseq.trainer][INFO] - Saving checkpoint to /kaggle/working/checkpoint_last.pt\r\n"
     ]
    },
    {
     "name": "stdout",
     "output_type": "stream",
     "text": [
      "[2021-06-07 15:33:50,177][fairseq.trainer][INFO] - Finished saving checkpoint to /kaggle/working/checkpoint_last.pt\r\n",
      "[2021-06-07 15:33:50,177][fairseq.checkpoint_utils][INFO] - Saved checkpoint /kaggle/working/checkpoint_last.pt (epoch 5123 @ 81968 updates, score 74.97268285436587) (writing took 0.048360229999161675 seconds)\r\n",
      "[2021-06-07 15:33:50,178][fairseq_cli.train][INFO] - end of epoch 5123 (average epoch stats below)\r\n",
      "[2021-06-07 15:33:50,182][train][INFO] - {\"epoch\": 5123, \"train_loss\": \"3.629\", \"train_ntokens\": \"145.688\", \"train_nsentences\": \"145.688\", \"train_temp\": \"0.1\", \"train_code_ppl\": \"8.771\", \"train_loss_code_pen\": \"0.323\", \"train_loss_smoothness\": \"2.08\", \"train_loss_dense_g\": \"4.451\", \"train_lm_score_sum\": 0.0, \"train_num_pred_chars\": 0.0, \"train_loss_grad_pen\": \"0.105\", \"train_loss_dense_d\": \"0.023\", \"train_loss_token_d\": \"0.031\", \"train_wps\": \"10.8\", \"train_ups\": \"0.07\", \"train_wpb\": \"145.7\", \"train_bsz\": \"145.7\", \"train_num_updates\": \"81968\", \"train_lr_discriminator\": \"0.0005\", \"train_lr_generator\": \"0.0004\", \"train_gnorm\": \"32.882\", \"train_clip\": \"75\", \"train_train_wall\": \"213\", \"train_wall\": \"15084\"}\r\n"
     ]
    },
    {
     "name": "stdout",
     "output_type": "stream",
     "text": [
      "[2021-06-07 15:33:50,239][fairseq.trainer][INFO] - begin training epoch 5124\r\n",
      "[2021-06-07 15:33:50,240][fairseq_cli.train][INFO] - Start iterating over samples\r\n"
     ]
    },
    {
     "name": "stdout",
     "output_type": "stream",
     "text": [
      "[2021-06-07 15:37:46,852][fairseq_cli.train][INFO] - begin validation on \"valid\" subset\r\n"
     ]
    },
    {
     "name": "stdout",
     "output_type": "stream",
     "text": [
      "[2021-06-07 15:37:49,619][fairseq.tasks.unpaired_audio_text][INFO] - REF: ɛ n f œ ʂ ə n a d ɵ ʂ ə k t f øː r d eː t s ɔ m h ɛ n d ə p oː ɕ œ r k ɔ n s ɛ t ə n\r\n",
      "[2021-06-07 15:37:49,622][fairseq.tasks.unpaired_audio_text][INFO] - HYP: n ɪ n s j œ r œ yː b j uː œ k uː ɵ v j n ə m ɔ k b ə uː s eː r n v oː s l ɪ ŋ k l ɪ l s ɔ œ k m k n t a\r\n",
      "[2021-06-07 15:37:49,626][fairseq.tasks.unpaired_audio_text][INFO] - LM [REF]: -53.44462585449219, 0.05339602260269112\r\n",
      "[2021-06-07 15:37:49,626][fairseq.tasks.unpaired_audio_text][INFO] - LM [HYP]: -92.31581115722656, 0.01424569942767606\r\n"
     ]
    },
    {
     "name": "stdout",
     "output_type": "stream",
     "text": [
      "[2021-06-07 15:37:50,154][valid][INFO] - {\"epoch\": 5124, \"valid_loss\": \"1.001\", \"valid_ntokens\": \"3039.79\", \"valid_nsentences\": \"144.214\", \"valid_lm_score_sum\": \"-89613.9\", \"valid_num_pred_chars\": \"48288\", \"valid_vocab_seen_pct\": \"0.893728\", \"valid_uer\": \"100.099\", \"valid_weighted_lm_ppl\": \"75.671\", \"valid_lm_ppl\": \"60.4422\", \"valid_wps\": \"16482.3\", \"valid_wpb\": \"3039.8\", \"valid_bsz\": \"144.2\", \"valid_num_updates\": \"81984\", \"valid_best_weighted_lm_ppl\": \"73.0296\"}\r\n",
      "[2021-06-07 15:37:50,157][fairseq.checkpoint_utils][INFO] - Preparing to save checkpoint for epoch 5124 @ 81984 updates\r\n",
      "[2021-06-07 15:37:50,158][fairseq.trainer][INFO] - Saving checkpoint to /kaggle/working/checkpoint_last.pt\r\n"
     ]
    },
    {
     "name": "stdout",
     "output_type": "stream",
     "text": [
      "[2021-06-07 15:37:50,205][fairseq.trainer][INFO] - Finished saving checkpoint to /kaggle/working/checkpoint_last.pt\r\n",
      "[2021-06-07 15:37:50,206][fairseq.checkpoint_utils][INFO] - Saved checkpoint /kaggle/working/checkpoint_last.pt (epoch 5124 @ 81984 updates, score 75.67098492555513) (writing took 0.04900906599868904 seconds)\r\n",
      "[2021-06-07 15:37:50,206][fairseq_cli.train][INFO] - end of epoch 5124 (average epoch stats below)\r\n",
      "[2021-06-07 15:37:50,210][train][INFO] - {\"epoch\": 5124, \"train_loss\": \"3.285\", \"train_ntokens\": \"145.688\", \"train_nsentences\": \"145.688\", \"train_temp\": \"0.1\", \"train_code_ppl\": \"8.796\", \"train_loss_code_pen\": \"0.341\", \"train_loss_smoothness\": \"2.152\", \"train_loss_dense_g\": \"4.135\", \"train_lm_score_sum\": 0.0, \"train_num_pred_chars\": 0.0, \"train_loss_grad_pen\": \"0.125\", \"train_loss_dense_d\": \"0.028\", \"train_loss_token_d\": \"0.023\", \"train_wps\": \"9.7\", \"train_ups\": \"0.07\", \"train_wpb\": \"145.7\", \"train_bsz\": \"145.7\", \"train_num_updates\": \"81984\", \"train_lr_discriminator\": \"0.0005\", \"train_lr_generator\": \"0.0004\", \"train_gnorm\": \"31.159\", \"train_clip\": \"93.8\", \"train_train_wall\": \"236\", \"train_wall\": \"15324\"}\r\n"
     ]
    },
    {
     "name": "stdout",
     "output_type": "stream",
     "text": [
      "[2021-06-07 15:37:50,270][fairseq.trainer][INFO] - begin training epoch 5125\r\n",
      "[2021-06-07 15:37:50,272][fairseq_cli.train][INFO] - Start iterating over samples\r\n"
     ]
    },
    {
     "name": "stdout",
     "output_type": "stream",
     "text": [
      "[2021-06-07 15:41:52,914][train_inner][INFO] - {\"epoch\": 5125, \"update\": 5125.0, \"loss\": \"3.261\", \"ntokens\": \"144.69\", \"nsentences\": \"144.69\", \"temp\": \"0.1\", \"code_ppl\": \"8.863\", \"loss_code_pen\": \"0.332\", \"loss_smoothness\": \"2.103\", \"loss_dense_g\": \"4.224\", \"lm_score_sum\": 0.0, \"num_pred_chars\": 0.0, \"loss_grad_pen\": \"0.091\", \"loss_dense_d\": \"0.024\", \"loss_token_d\": \"0.026\", \"wps\": \"9.9\", \"ups\": \"0.07\", \"wpb\": \"144.7\", \"bsz\": \"144.7\", \"num_updates\": \"82000\", \"lr_discriminator\": \"0.0005\", \"lr_generator\": \"0.0004\", \"gnorm\": \"30.904\", \"clip\": \"78\", \"train_wall\": \"1433\", \"wall\": \"15566\"}\r\n",
      "[2021-06-07 15:41:52,916][fairseq_cli.train][INFO] - begin validation on \"valid\" subset\r\n"
     ]
    },
    {
     "name": "stdout",
     "output_type": "stream",
     "text": [
      "[2021-06-07 15:41:55,725][fairseq.tasks.unpaired_audio_text][INFO] - REF: ɛ n f œ ʂ ə n a d ɵ ʂ ə k t f øː r d eː t s ɔ m h ɛ n d ə p oː ɕ œ r k ɔ n s ɛ t ə n\r\n",
      "[2021-06-07 15:41:55,729][fairseq.tasks.unpaired_audio_text][INFO] - HYP: n ɪ n s j œ r œ j yː b j uː œ k uː ɵ j n ə m ɔ k b ə uː s eː r n v oː s ɪ ŋ k l ɪ l s œ k m k n t a\r\n",
      "[2021-06-07 15:41:55,735][fairseq.tasks.unpaired_audio_text][INFO] - LM [REF]: -53.44462585449219, 0.05339602260269112\r\n",
      "[2021-06-07 15:41:55,736][fairseq.tasks.unpaired_audio_text][INFO] - LM [HYP]: -88.4223403930664, 0.014383610313776283\r\n"
     ]
    },
    {
     "name": "stdout",
     "output_type": "stream",
     "text": [
      "[2021-06-07 15:41:56,384][valid][INFO] - {\"epoch\": 5125, \"valid_loss\": \"1.005\", \"valid_ntokens\": \"3039.79\", \"valid_nsentences\": \"144.214\", \"valid_lm_score_sum\": \"-90094.6\", \"valid_num_pred_chars\": \"48585\", \"valid_vocab_seen_pct\": \"0.891986\", \"valid_uer\": \"100.472\", \"valid_weighted_lm_ppl\": \"75.8\", \"valid_lm_ppl\": \"60.3095\", \"valid_wps\": \"15362.4\", \"valid_wpb\": \"3039.8\", \"valid_bsz\": \"144.2\", \"valid_num_updates\": \"82000\", \"valid_best_weighted_lm_ppl\": \"73.0296\"}\r\n",
      "[2021-06-07 15:41:56,387][fairseq.checkpoint_utils][INFO] - Preparing to save checkpoint for epoch 5125 @ 82000 updates\r\n",
      "[2021-06-07 15:41:56,388][fairseq.trainer][INFO] - Saving checkpoint to /kaggle/working/checkpoint_last.pt\r\n"
     ]
    },
    {
     "name": "stdout",
     "output_type": "stream",
     "text": [
      "[2021-06-07 15:41:56,439][fairseq.trainer][INFO] - Finished saving checkpoint to /kaggle/working/checkpoint_last.pt\r\n",
      "[2021-06-07 15:41:56,439][fairseq.checkpoint_utils][INFO] - Saved checkpoint /kaggle/working/checkpoint_last.pt (epoch 5125 @ 82000 updates, score 75.80000568374983) (writing took 0.05215502099963487 seconds)\r\n",
      "[2021-06-07 15:41:56,440][fairseq_cli.train][INFO] - end of epoch 5125 (average epoch stats below)\r\n",
      "[2021-06-07 15:41:56,444][train][INFO] - {\"epoch\": 5125, \"train_loss\": \"3.237\", \"train_ntokens\": \"145.688\", \"train_nsentences\": \"145.688\", \"train_temp\": \"0.1\", \"train_code_ppl\": \"8.719\", \"train_loss_code_pen\": \"0.336\", \"train_loss_smoothness\": \"2.109\", \"train_loss_dense_g\": \"4.539\", \"train_lm_score_sum\": 0.0, \"train_num_pred_chars\": 0.0, \"train_loss_grad_pen\": \"0.108\", \"train_loss_dense_d\": \"0.024\", \"train_loss_token_d\": \"0.028\", \"train_wps\": \"9.5\", \"train_ups\": \"0.06\", \"train_wpb\": \"145.7\", \"train_bsz\": \"145.7\", \"train_num_updates\": \"82000\", \"train_lr_discriminator\": \"0.0005\", \"train_lr_generator\": \"0.0004\", \"train_gnorm\": \"30.765\", \"train_clip\": \"87.5\", \"train_train_wall\": \"242\", \"train_wall\": \"15570\"}\r\n"
     ]
    },
    {
     "name": "stdout",
     "output_type": "stream",
     "text": [
      "[2021-06-07 15:41:56,510][fairseq.trainer][INFO] - begin training epoch 5126\r\n",
      "[2021-06-07 15:41:56,512][fairseq_cli.train][INFO] - Start iterating over samples\r\n"
     ]
    },
    {
     "name": "stdout",
     "output_type": "stream",
     "text": [
      "[2021-06-07 15:45:51,236][fairseq_cli.train][INFO] - begin validation on \"valid\" subset\r\n"
     ]
    },
    {
     "name": "stdout",
     "output_type": "stream",
     "text": [
      "[2021-06-07 15:45:53,991][fairseq.tasks.unpaired_audio_text][INFO] - REF: ɛ n f œ ʂ ə n a d ɵ ʂ ə k t f øː r d eː t s ɔ m h ɛ n d ə p oː ɕ œ r k ɔ n s ɛ t ə n\r\n",
      "[2021-06-07 15:45:53,994][fairseq.tasks.unpaired_audio_text][INFO] - HYP: n ɪ n s j œ r œ ʂ yː b j uː œ k uː ɵ n ə m ɔ k b ə r s eː r n v oː s ɪ ŋ k l ɪ l s œ k m k l t a\r\n",
      "[2021-06-07 15:45:54,000][fairseq.tasks.unpaired_audio_text][INFO] - LM [REF]: -53.44462585449219, 0.05339602260269112\r\n",
      "[2021-06-07 15:45:54,000][fairseq.tasks.unpaired_audio_text][INFO] - LM [HYP]: -82.90773010253906, 0.017218913427038674\r\n"
     ]
    },
    {
     "name": "stdout",
     "output_type": "stream",
     "text": [
      "[2021-06-07 15:45:54,574][valid][INFO] - {\"epoch\": 5126, \"valid_loss\": \"1.003\", \"valid_ntokens\": \"3039.79\", \"valid_nsentences\": \"144.214\", \"valid_lm_score_sum\": \"-89748.4\", \"valid_num_pred_chars\": \"48453\", \"valid_vocab_seen_pct\": \"0.893728\", \"valid_uer\": \"100.31\", \"valid_weighted_lm_ppl\": \"75.1228\", \"valid_lm_ppl\": \"60.0043\", \"valid_wps\": \"16324.2\", \"valid_wpb\": \"3039.8\", \"valid_bsz\": \"144.2\", \"valid_num_updates\": \"82016\", \"valid_best_weighted_lm_ppl\": \"73.0296\"}\r\n",
      "[2021-06-07 15:45:54,577][fairseq.checkpoint_utils][INFO] - Preparing to save checkpoint for epoch 5126 @ 82016 updates\r\n",
      "[2021-06-07 15:45:54,578][fairseq.trainer][INFO] - Saving checkpoint to /kaggle/working/checkpoint_last.pt\r\n"
     ]
    },
    {
     "name": "stdout",
     "output_type": "stream",
     "text": [
      "[2021-06-07 15:45:54,628][fairseq.trainer][INFO] - Finished saving checkpoint to /kaggle/working/checkpoint_last.pt\r\n",
      "[2021-06-07 15:45:54,628][fairseq.checkpoint_utils][INFO] - Saved checkpoint /kaggle/working/checkpoint_last.pt (epoch 5126 @ 82016 updates, score 75.12279966590324) (writing took 0.05093190900151967 seconds)\r\n",
      "[2021-06-07 15:45:54,628][fairseq_cli.train][INFO] - end of epoch 5126 (average epoch stats below)\r\n",
      "[2021-06-07 15:45:54,632][train][INFO] - {\"epoch\": 5126, \"train_loss\": \"3.389\", \"train_ntokens\": \"145.688\", \"train_nsentences\": \"145.688\", \"train_temp\": \"0.1\", \"train_code_ppl\": \"8.903\", \"train_loss_code_pen\": \"0.347\", \"train_loss_smoothness\": \"2.166\", \"train_loss_dense_g\": \"4.392\", \"train_lm_score_sum\": 0.0, \"train_num_pred_chars\": 0.0, \"train_loss_grad_pen\": \"0.073\", \"train_loss_dense_d\": \"0.022\", \"train_loss_token_d\": \"0.025\", \"train_wps\": \"9.8\", \"train_ups\": \"0.07\", \"train_wpb\": \"145.7\", \"train_bsz\": \"145.7\", \"train_num_updates\": \"82016\", \"train_lr_discriminator\": \"0.0005\", \"train_lr_generator\": \"0.0004\", \"train_gnorm\": \"29.669\", \"train_clip\": \"68.8\", \"train_train_wall\": \"234\", \"train_wall\": \"15808\"}\r\n"
     ]
    },
    {
     "name": "stdout",
     "output_type": "stream",
     "text": [
      "[2021-06-07 15:45:54,689][fairseq.trainer][INFO] - begin training epoch 5127\r\n",
      "[2021-06-07 15:45:54,690][fairseq_cli.train][INFO] - Start iterating over samples\r\n"
     ]
    },
    {
     "name": "stdout",
     "output_type": "stream",
     "text": [
      "[2021-06-07 15:49:48,124][fairseq_cli.train][INFO] - begin validation on \"valid\" subset\r\n"
     ]
    },
    {
     "name": "stdout",
     "output_type": "stream",
     "text": [
      "[2021-06-07 15:49:50,790][fairseq.tasks.unpaired_audio_text][INFO] - REF: ɛ n f œ ʂ ə n a d ɵ ʂ ə k t f øː r d eː t s ɔ m h ɛ n d ə p oː ɕ œ r k ɔ n s ɛ t ə n\r\n",
      "[2021-06-07 15:49:50,793][fairseq.tasks.unpaired_audio_text][INFO] - HYP: n ɪ n s j œ r œ b j uː œ k uː ɵ n ə m ɔ k b ə uː s eː r n v oː s l ɪ ŋ k l ɪ l s œ k m k n t a\r\n",
      "[2021-06-07 15:49:50,797][fairseq.tasks.unpaired_audio_text][INFO] - LM [REF]: -53.44462585449219, 0.05339602260269112\r\n",
      "[2021-06-07 15:49:50,797][fairseq.tasks.unpaired_audio_text][INFO] - LM [HYP]: -82.35770416259766, 0.016203734809445893\r\n"
     ]
    },
    {
     "name": "stdout",
     "output_type": "stream",
     "text": [
      "[2021-06-07 15:49:51,395][valid][INFO] - {\"epoch\": 5127, \"valid_loss\": \"1.002\", \"valid_ntokens\": \"3039.79\", \"valid_nsentences\": \"144.214\", \"valid_lm_score_sum\": \"-89694.1\", \"valid_num_pred_chars\": \"48477\", \"valid_vocab_seen_pct\": \"0.890244\", \"valid_uer\": \"100.23\", \"valid_weighted_lm_ppl\": \"75.3777\", \"valid_lm_ppl\": \"59.7394\", \"valid_wps\": \"16556.4\", \"valid_wpb\": \"3039.8\", \"valid_bsz\": \"144.2\", \"valid_num_updates\": \"82032\", \"valid_best_weighted_lm_ppl\": \"73.0296\"}\r\n",
      "[2021-06-07 15:49:51,399][fairseq.checkpoint_utils][INFO] - Preparing to save checkpoint for epoch 5127 @ 82032 updates\r\n",
      "[2021-06-07 15:49:51,400][fairseq.trainer][INFO] - Saving checkpoint to /kaggle/working/checkpoint_last.pt\r\n"
     ]
    },
    {
     "name": "stdout",
     "output_type": "stream",
     "text": [
      "[2021-06-07 15:49:51,447][fairseq.trainer][INFO] - Finished saving checkpoint to /kaggle/working/checkpoint_last.pt\r\n",
      "[2021-06-07 15:49:51,448][fairseq.checkpoint_utils][INFO] - Saved checkpoint /kaggle/working/checkpoint_last.pt (epoch 5127 @ 82032 updates, score 75.37768619295655) (writing took 0.04924480300178402 seconds)\r\n",
      "[2021-06-07 15:49:51,448][fairseq_cli.train][INFO] - end of epoch 5127 (average epoch stats below)\r\n",
      "[2021-06-07 15:49:51,452][train][INFO] - {\"epoch\": 5127, \"train_loss\": \"3.249\", \"train_ntokens\": \"145.688\", \"train_nsentences\": \"145.688\", \"train_temp\": \"0.1\", \"train_code_ppl\": \"8.642\", \"train_loss_code_pen\": \"0.31\", \"train_loss_smoothness\": \"2.038\", \"train_loss_dense_g\": \"4.278\", \"train_lm_score_sum\": 0.0, \"train_num_pred_chars\": 0.0, \"train_loss_grad_pen\": \"0.066\", \"train_loss_dense_d\": \"0.022\", \"train_loss_token_d\": \"0.022\", \"train_wps\": \"9.8\", \"train_ups\": \"0.07\", \"train_wpb\": \"145.7\", \"train_bsz\": \"145.7\", \"train_num_updates\": \"82032\", \"train_lr_discriminator\": \"0.0005\", \"train_lr_generator\": \"0.0004\", \"train_gnorm\": \"29.849\", \"train_clip\": \"75\", \"train_train_wall\": \"233\", \"train_wall\": \"16045\"}\r\n"
     ]
    },
    {
     "name": "stdout",
     "output_type": "stream",
     "text": [
      "[2021-06-07 15:49:51,513][fairseq.trainer][INFO] - begin training epoch 5128\r\n",
      "[2021-06-07 15:49:51,514][fairseq_cli.train][INFO] - Start iterating over samples\r\n"
     ]
    },
    {
     "name": "stdout",
     "output_type": "stream",
     "text": [
      "[2021-06-07 15:53:28,326][fairseq_cli.train][INFO] - begin validation on \"valid\" subset\r\n"
     ]
    },
    {
     "name": "stdout",
     "output_type": "stream",
     "text": [
      "[2021-06-07 15:53:31,036][fairseq.tasks.unpaired_audio_text][INFO] - REF: ɛ n f œ ʂ ə n a d ɵ ʂ ə k t f øː r d eː t s ɔ m h ɛ n d ə p oː ɕ œ r k ɔ n s ɛ t ə n\r\n",
      "[2021-06-07 15:53:31,039][fairseq.tasks.unpaired_audio_text][INFO] - HYP: n ɪ n s j œ r œ ʂ b j uː œ k uː ɵ ə m ɔ k b ə uː s eː r n v oː s l ɪ ŋ k l ɪ l s œ k m k n t a\r\n",
      "[2021-06-07 15:53:31,044][fairseq.tasks.unpaired_audio_text][INFO] - LM [REF]: -53.44462585449219, 0.05339602260269112\r\n",
      "[2021-06-07 15:53:31,044][fairseq.tasks.unpaired_audio_text][INFO] - LM [HYP]: -83.2215576171875, 0.01551799844361095\r\n"
     ]
    },
    {
     "name": "stdout",
     "output_type": "stream",
     "text": [
      "[2021-06-07 15:53:31,576][valid][INFO] - {\"epoch\": 5128, \"valid_loss\": \"1.003\", \"valid_ntokens\": \"3039.79\", \"valid_nsentences\": \"144.214\", \"valid_lm_score_sum\": \"-89753.9\", \"valid_num_pred_chars\": \"48590\", \"valid_vocab_seen_pct\": \"0.897213\", \"valid_uer\": \"100.336\", \"valid_weighted_lm_ppl\": \"73.7373\", \"valid_lm_ppl\": \"59.3578\", \"valid_wps\": \"16605.3\", \"valid_wpb\": \"3039.8\", \"valid_bsz\": \"144.2\", \"valid_num_updates\": \"82048\", \"valid_best_weighted_lm_ppl\": \"73.0296\"}\r\n",
      "[2021-06-07 15:53:31,579][fairseq.checkpoint_utils][INFO] - Preparing to save checkpoint for epoch 5128 @ 82048 updates\r\n",
      "[2021-06-07 15:53:31,580][fairseq.trainer][INFO] - Saving checkpoint to /kaggle/working/checkpoint_last.pt\r\n"
     ]
    },
    {
     "name": "stdout",
     "output_type": "stream",
     "text": [
      "[2021-06-07 15:53:31,628][fairseq.trainer][INFO] - Finished saving checkpoint to /kaggle/working/checkpoint_last.pt\r\n",
      "[2021-06-07 15:53:31,628][fairseq.checkpoint_utils][INFO] - Saved checkpoint /kaggle/working/checkpoint_last.pt (epoch 5128 @ 82048 updates, score 73.73727626698475) (writing took 0.04901660200266633 seconds)\r\n",
      "[2021-06-07 15:53:31,629][fairseq_cli.train][INFO] - end of epoch 5128 (average epoch stats below)\r\n",
      "[2021-06-07 15:53:31,631][train][INFO] - {\"epoch\": 5128, \"train_loss\": \"3.705\", \"train_ntokens\": \"145.688\", \"train_nsentences\": \"145.688\", \"train_temp\": \"0.1\", \"train_code_ppl\": \"8.727\", \"train_loss_code_pen\": \"0.32\", \"train_loss_smoothness\": \"2.069\", \"train_loss_dense_g\": \"4.635\", \"train_lm_score_sum\": 0.0, \"train_num_pred_chars\": 0.0, \"train_loss_grad_pen\": \"0.088\", \"train_loss_dense_d\": \"0.021\", \"train_loss_token_d\": \"0.026\", \"train_wps\": \"10.6\", \"train_ups\": \"0.07\", \"train_wpb\": \"145.7\", \"train_bsz\": \"145.7\", \"train_num_updates\": \"82048\", \"train_lr_discriminator\": \"0.0005\", \"train_lr_generator\": \"0.0004\", \"train_gnorm\": \"31.391\", \"train_clip\": \"81.2\", \"train_train_wall\": \"216\", \"train_wall\": \"16265\"}\r\n"
     ]
    },
    {
     "name": "stdout",
     "output_type": "stream",
     "text": [
      "[2021-06-07 15:53:31,691][fairseq.trainer][INFO] - begin training epoch 5129\r\n",
      "[2021-06-07 15:53:31,692][fairseq_cli.train][INFO] - Start iterating over samples\r\n"
     ]
    },
    {
     "name": "stdout",
     "output_type": "stream",
     "text": [
      "[2021-06-07 15:57:24,279][fairseq_cli.train][INFO] - begin validation on \"valid\" subset\r\n"
     ]
    },
    {
     "name": "stdout",
     "output_type": "stream",
     "text": [
      "[2021-06-07 15:57:27,016][fairseq.tasks.unpaired_audio_text][INFO] - REF: ɛ n f œ ʂ ə n a d ɵ ʂ ə k t f øː r d eː t s ɔ m h ɛ n d ə p oː ɕ œ r k ɔ n s ɛ t ə n\r\n",
      "[2021-06-07 15:57:27,018][fairseq.tasks.unpaired_audio_text][INFO] - HYP: n ɪ n s j œ r œ b j uː œ k uː ɵ j ə m ɔ k b ə uː s eː r n v oː s l ɪ ŋ k l ɪ l s œ m k n t a\r\n",
      "[2021-06-07 15:57:27,022][fairseq.tasks.unpaired_audio_text][INFO] - LM [REF]: -53.44462585449219, 0.05339602260269112\r\n",
      "[2021-06-07 15:57:27,023][fairseq.tasks.unpaired_audio_text][INFO] - LM [HYP]: -80.81837463378906, 0.015996910656204545\r\n"
     ]
    },
    {
     "name": "stdout",
     "output_type": "stream",
     "text": [
      "[2021-06-07 15:57:27,552][valid][INFO] - {\"epoch\": 5129, \"valid_loss\": \"1.004\", \"valid_ntokens\": \"3039.79\", \"valid_nsentences\": \"144.214\", \"valid_lm_score_sum\": \"-89879.3\", \"valid_num_pred_chars\": \"48578\", \"valid_vocab_seen_pct\": \"0.893728\", \"valid_uer\": \"100.446\", \"valid_weighted_lm_ppl\": \"74.811\", \"valid_lm_ppl\": \"59.7553\", \"valid_wps\": \"16964.2\", \"valid_wpb\": \"3039.8\", \"valid_bsz\": \"144.2\", \"valid_num_updates\": \"82064\", \"valid_best_weighted_lm_ppl\": \"73.0296\"}\r\n",
      "[2021-06-07 15:57:27,555][fairseq.checkpoint_utils][INFO] - Preparing to save checkpoint for epoch 5129 @ 82064 updates\r\n",
      "[2021-06-07 15:57:27,556][fairseq.trainer][INFO] - Saving checkpoint to /kaggle/working/checkpoint_last.pt\r\n"
     ]
    },
    {
     "name": "stdout",
     "output_type": "stream",
     "text": [
      "[2021-06-07 15:57:27,605][fairseq.trainer][INFO] - Finished saving checkpoint to /kaggle/working/checkpoint_last.pt\r\n",
      "[2021-06-07 15:57:27,605][fairseq.checkpoint_utils][INFO] - Saved checkpoint /kaggle/working/checkpoint_last.pt (epoch 5129 @ 82064 updates, score 74.81098962469176) (writing took 0.049719974002073286 seconds)\r\n",
      "[2021-06-07 15:57:27,605][fairseq_cli.train][INFO] - end of epoch 5129 (average epoch stats below)\r\n",
      "[2021-06-07 15:57:27,609][train][INFO] - {\"epoch\": 5129, \"train_loss\": \"3.392\", \"train_ntokens\": \"145.688\", \"train_nsentences\": \"145.688\", \"train_temp\": \"0.1\", \"train_code_ppl\": \"8.669\", \"train_loss_code_pen\": \"0.331\", \"train_loss_smoothness\": \"2.116\", \"train_loss_dense_g\": \"4.402\", \"train_lm_score_sum\": 0.0, \"train_num_pred_chars\": 0.0, \"train_loss_grad_pen\": \"0.13\", \"train_loss_dense_d\": \"0.023\", \"train_loss_token_d\": \"0.025\", \"train_wps\": \"9.9\", \"train_ups\": \"0.07\", \"train_wpb\": \"145.7\", \"train_bsz\": \"145.7\", \"train_num_updates\": \"82064\", \"train_lr_discriminator\": \"0.0005\", \"train_lr_generator\": \"0.0004\", \"train_gnorm\": \"31.47\", \"train_clip\": \"87.5\", \"train_train_wall\": \"232\", \"train_wall\": \"16501\"}\r\n"
     ]
    },
    {
     "name": "stdout",
     "output_type": "stream",
     "text": [
      "[2021-06-07 15:57:27,668][fairseq.trainer][INFO] - begin training epoch 5130\r\n",
      "[2021-06-07 15:57:27,670][fairseq_cli.train][INFO] - Start iterating over samples\r\n"
     ]
    },
    {
     "name": "stdout",
     "output_type": "stream",
     "text": [
      "[2021-06-07 16:00:58,225][fairseq_cli.train][INFO] - begin validation on \"valid\" subset\r\n"
     ]
    },
    {
     "name": "stdout",
     "output_type": "stream",
     "text": [
      "[2021-06-07 16:01:01,029][fairseq.tasks.unpaired_audio_text][INFO] - REF: ɛ n f œ ʂ ə n a d ɵ ʂ ə k t f øː r d eː t s ɔ m h ɛ n d ə p oː ɕ œ r k ɔ n s ɛ t ə n\r\n",
      "[2021-06-07 16:01:01,032][fairseq.tasks.unpaired_audio_text][INFO] - HYP: n ɪ n s j œ r œ ʂ b j uː œ k uː ɵ n ə m ɔ k b ə uː s eː r n v oː s l ɪ ŋ k l ɪ l s ɔ k m k n t a\r\n",
      "[2021-06-07 16:01:01,036][fairseq.tasks.unpaired_audio_text][INFO] - LM [REF]: -53.44462585449219, 0.05339602260269112\r\n",
      "[2021-06-07 16:01:01,037][fairseq.tasks.unpaired_audio_text][INFO] - LM [HYP]: -83.03042602539062, 0.017115720701601403\r\n"
     ]
    },
    {
     "name": "stdout",
     "output_type": "stream",
     "text": [
      "[2021-06-07 16:01:01,612][valid][INFO] - {\"epoch\": 5130, \"valid_loss\": \"1.006\", \"valid_ntokens\": \"3039.79\", \"valid_nsentences\": \"144.214\", \"valid_lm_score_sum\": \"-89909.7\", \"valid_num_pred_chars\": \"48651\", \"valid_vocab_seen_pct\": \"0.898955\", \"valid_uer\": \"100.623\", \"valid_weighted_lm_ppl\": \"73.6108\", \"valid_lm_ppl\": \"59.4863\", \"valid_wps\": \"15975.7\", \"valid_wpb\": \"3039.8\", \"valid_bsz\": \"144.2\", \"valid_num_updates\": \"82080\", \"valid_best_weighted_lm_ppl\": \"73.0296\"}\r\n",
      "[2021-06-07 16:01:01,615][fairseq.checkpoint_utils][INFO] - Preparing to save checkpoint for epoch 5130 @ 82080 updates\r\n",
      "[2021-06-07 16:01:01,616][fairseq.trainer][INFO] - Saving checkpoint to /kaggle/working/checkpoint_last.pt\r\n"
     ]
    },
    {
     "name": "stdout",
     "output_type": "stream",
     "text": [
      "[2021-06-07 16:01:01,667][fairseq.trainer][INFO] - Finished saving checkpoint to /kaggle/working/checkpoint_last.pt\r\n",
      "[2021-06-07 16:01:01,668][fairseq.checkpoint_utils][INFO] - Saved checkpoint /kaggle/working/checkpoint_last.pt (epoch 5130 @ 82080 updates, score 73.61078478331632) (writing took 0.05245823800214566 seconds)\r\n",
      "[2021-06-07 16:01:01,668][fairseq_cli.train][INFO] - end of epoch 5130 (average epoch stats below)\r\n",
      "[2021-06-07 16:01:01,671][train][INFO] - {\"epoch\": 5130, \"train_loss\": \"3.728\", \"train_ntokens\": \"145.688\", \"train_nsentences\": \"145.688\", \"train_temp\": \"0.1\", \"train_code_ppl\": \"8.662\", \"train_loss_code_pen\": \"0.326\", \"train_loss_smoothness\": \"2.104\", \"train_loss_dense_g\": \"4.237\", \"train_lm_score_sum\": 0.0, \"train_num_pred_chars\": 0.0, \"train_loss_grad_pen\": \"0.096\", \"train_loss_dense_d\": \"0.028\", \"train_loss_token_d\": \"0.023\", \"train_wps\": \"10.9\", \"train_ups\": \"0.07\", \"train_wpb\": \"145.7\", \"train_bsz\": \"145.7\", \"train_num_updates\": \"82080\", \"train_lr_discriminator\": \"0.0005\", \"train_lr_generator\": \"0.0004\", \"train_gnorm\": \"31.87\", \"train_clip\": \"87.5\", \"train_train_wall\": \"210\", \"train_wall\": \"16715\"}\r\n"
     ]
    },
    {
     "name": "stdout",
     "output_type": "stream",
     "text": [
      "[2021-06-07 16:01:01,737][fairseq.trainer][INFO] - begin training epoch 5131\r\n",
      "[2021-06-07 16:01:01,739][fairseq_cli.train][INFO] - Start iterating over samples\r\n"
     ]
    },
    {
     "name": "stdout",
     "output_type": "stream",
     "text": [
      "[2021-06-07 16:05:05,191][fairseq_cli.train][INFO] - begin validation on \"valid\" subset\r\n"
     ]
    },
    {
     "name": "stdout",
     "output_type": "stream",
     "text": [
      "[2021-06-07 16:05:07,853][fairseq.tasks.unpaired_audio_text][INFO] - REF: ɛ n f œ ʂ ə n a d ɵ ʂ ə k t f øː r d eː t s ɔ m h ɛ n d ə p oː ɕ œ r k ɔ n s ɛ t ə n\r\n",
      "[2021-06-07 16:05:07,855][fairseq.tasks.unpaired_audio_text][INFO] - HYP: n ɪ n s j œ r œ ɕ b j uː œ yː k uː ɵ n ə m ɔ k b ə uː s eː r n v oː s l ɪ ŋ k l ɪ l s ɔ k m k n t a\r\n",
      "[2021-06-07 16:05:07,859][fairseq.tasks.unpaired_audio_text][INFO] - LM [REF]: -53.44462585449219, 0.05339602260269112\r\n",
      "[2021-06-07 16:05:07,860][fairseq.tasks.unpaired_audio_text][INFO] - LM [HYP]: -85.05015563964844, 0.01690914925068173\r\n"
     ]
    },
    {
     "name": "stdout",
     "output_type": "stream",
     "text": [
      "[2021-06-07 16:05:08,385][valid][INFO] - {\"epoch\": 5131, \"valid_loss\": \"1.007\", \"valid_ntokens\": \"3039.79\", \"valid_nsentences\": \"144.214\", \"valid_lm_score_sum\": \"-89921.2\", \"valid_num_pred_chars\": \"48607\", \"valid_vocab_seen_pct\": \"0.890244\", \"valid_uer\": \"100.665\", \"valid_weighted_lm_ppl\": \"75.3648\", \"valid_lm_ppl\": \"59.7292\", \"valid_wps\": \"17230\", \"valid_wpb\": \"3039.8\", \"valid_bsz\": \"144.2\", \"valid_num_updates\": \"82096\", \"valid_best_weighted_lm_ppl\": \"73.0296\"}\r\n",
      "[2021-06-07 16:05:08,388][fairseq.checkpoint_utils][INFO] - Preparing to save checkpoint for epoch 5131 @ 82096 updates\r\n",
      "[2021-06-07 16:05:08,390][fairseq.trainer][INFO] - Saving checkpoint to /kaggle/working/checkpoint_last.pt\r\n"
     ]
    },
    {
     "name": "stdout",
     "output_type": "stream",
     "text": [
      "[2021-06-07 16:05:08,438][fairseq.trainer][INFO] - Finished saving checkpoint to /kaggle/working/checkpoint_last.pt\r\n",
      "[2021-06-07 16:05:08,438][fairseq.checkpoint_utils][INFO] - Saved checkpoint /kaggle/working/checkpoint_last.pt (epoch 5131 @ 82096 updates, score 75.36483921556554) (writing took 0.04968942599953152 seconds)\r\n",
      "[2021-06-07 16:05:08,439][fairseq_cli.train][INFO] - end of epoch 5131 (average epoch stats below)\r\n",
      "[2021-06-07 16:05:08,442][train][INFO] - {\"epoch\": 5131, \"train_loss\": \"3.106\", \"train_ntokens\": \"145.688\", \"train_nsentences\": \"145.688\", \"train_temp\": \"0.1\", \"train_code_ppl\": \"8.802\", \"train_loss_code_pen\": \"0.328\", \"train_loss_smoothness\": \"2.089\", \"train_loss_dense_g\": \"4.272\", \"train_lm_score_sum\": 0.0, \"train_num_pred_chars\": 0.0, \"train_loss_grad_pen\": \"0.12\", \"train_loss_dense_d\": \"0.022\", \"train_loss_token_d\": \"0.021\", \"train_wps\": \"9.4\", \"train_ups\": \"0.06\", \"train_wpb\": \"145.7\", \"train_bsz\": \"145.7\", \"train_num_updates\": \"82096\", \"train_lr_discriminator\": \"0.0005\", \"train_lr_generator\": \"0.0004\", \"train_gnorm\": \"31.225\", \"train_clip\": \"81.2\", \"train_train_wall\": \"243\", \"train_wall\": \"16962\"}\r\n"
     ]
    },
    {
     "name": "stdout",
     "output_type": "stream",
     "text": [
      "[2021-06-07 16:05:08,500][fairseq.trainer][INFO] - begin training epoch 5132\r\n",
      "[2021-06-07 16:05:08,501][fairseq_cli.train][INFO] - Start iterating over samples\r\n"
     ]
    },
    {
     "name": "stdout",
     "output_type": "stream",
     "text": [
      "[2021-06-07 16:06:12,205][train_inner][INFO] - {\"epoch\": 5132, \"update\": 5131.25, \"loss\": \"3.412\", \"ntokens\": \"145.54\", \"nsentences\": \"145.54\", \"temp\": \"0.1\", \"code_ppl\": \"8.707\", \"loss_code_pen\": \"0.326\", \"loss_smoothness\": \"2.094\", \"loss_dense_g\": \"4.37\", \"lm_score_sum\": 0.0, \"num_pred_chars\": 0.0, \"loss_grad_pen\": \"0.097\", \"loss_dense_d\": \"0.023\", \"loss_token_d\": \"0.024\", \"wps\": \"10\", \"ups\": \"0.07\", \"wpb\": \"145.5\", \"bsz\": \"145.5\", \"num_updates\": \"82100\", \"lr_discriminator\": \"0.0005\", \"lr_generator\": \"0.0004\", \"gnorm\": \"30.967\", \"clip\": \"81\", \"train_wall\": \"1432\", \"wall\": \"17026\"}\r\n"
     ]
    },
    {
     "name": "stdout",
     "output_type": "stream",
     "text": [
      "[2021-06-07 16:09:18,325][fairseq_cli.train][INFO] - begin validation on \"valid\" subset\r\n"
     ]
    },
    {
     "name": "stdout",
     "output_type": "stream",
     "text": [
      "[2021-06-07 16:09:21,589][fairseq.tasks.unpaired_audio_text][INFO] - REF: ɛ n f œ ʂ ə n a d ɵ ʂ ə k t f øː r d eː t s ɔ m h ɛ n d ə p oː ɕ œ r k ɔ n s ɛ t ə n\r\n",
      "[2021-06-07 16:09:21,591][fairseq.tasks.unpaired_audio_text][INFO] - HYP: n ɪ s j œ r œ b j uː œ ʃ k uː ɡ ɵ b n ə m ɔ k b ə uː s eː r n v oː s l ɪ ŋ k l ɪ l s ɔ k m k n t a\r\n",
      "[2021-06-07 16:09:21,596][fairseq.tasks.unpaired_audio_text][INFO] - LM [REF]: -53.44462585449219, 0.05339602260269112\r\n",
      "[2021-06-07 16:09:21,596][fairseq.tasks.unpaired_audio_text][INFO] - LM [HYP]: -85.9816665649414, 0.01617019584537099\r\n"
     ]
    },
    {
     "name": "stdout",
     "output_type": "stream",
     "text": [
      "[2021-06-07 16:09:22,170][valid][INFO] - {\"epoch\": 5132, \"valid_loss\": \"1.005\", \"valid_ntokens\": \"3039.79\", \"valid_nsentences\": \"144.214\", \"valid_lm_score_sum\": \"-90021.6\", \"valid_num_pred_chars\": \"48600\", \"valid_vocab_seen_pct\": \"0.893728\", \"valid_uer\": \"100.468\", \"valid_weighted_lm_ppl\": \"75.1629\", \"valid_lm_ppl\": \"60.0363\", \"valid_wps\": \"14898.2\", \"valid_wpb\": \"3039.8\", \"valid_bsz\": \"144.2\", \"valid_num_updates\": \"82112\", \"valid_best_weighted_lm_ppl\": \"73.0296\"}\r\n",
      "[2021-06-07 16:09:22,173][fairseq.checkpoint_utils][INFO] - Preparing to save checkpoint for epoch 5132 @ 82112 updates\r\n",
      "[2021-06-07 16:09:22,175][fairseq.trainer][INFO] - Saving checkpoint to /kaggle/working/checkpoint_last.pt\r\n"
     ]
    },
    {
     "name": "stdout",
     "output_type": "stream",
     "text": [
      "[2021-06-07 16:09:22,229][fairseq.trainer][INFO] - Finished saving checkpoint to /kaggle/working/checkpoint_last.pt\r\n",
      "[2021-06-07 16:09:22,230][fairseq.checkpoint_utils][INFO] - Saved checkpoint /kaggle/working/checkpoint_last.pt (epoch 5132 @ 82112 updates, score 75.1628589371044) (writing took 0.05618338999920525 seconds)\r\n",
      "[2021-06-07 16:09:22,230][fairseq_cli.train][INFO] - end of epoch 5132 (average epoch stats below)\r\n",
      "[2021-06-07 16:09:22,234][train][INFO] - {\"epoch\": 5132, \"train_loss\": \"3.135\", \"train_ntokens\": \"145.688\", \"train_nsentences\": \"145.688\", \"train_temp\": \"0.1\", \"train_code_ppl\": \"8.813\", \"train_loss_code_pen\": \"0.334\", \"train_loss_smoothness\": \"2.115\", \"train_loss_dense_g\": \"4.375\", \"train_lm_score_sum\": 0.0, \"train_num_pred_chars\": 0.0, \"train_loss_grad_pen\": \"0.06\", \"train_loss_dense_d\": \"0.022\", \"train_loss_token_d\": \"0.022\", \"train_wps\": \"9.2\", \"train_ups\": \"0.06\", \"train_wpb\": \"145.7\", \"train_bsz\": \"145.7\", \"train_num_updates\": \"82112\", \"train_lr_discriminator\": \"0.0005\", \"train_lr_generator\": \"0.0004\", \"train_gnorm\": \"29.49\", \"train_clip\": \"62.5\", \"train_train_wall\": \"249\", \"train_wall\": \"17216\"}\r\n"
     ]
    },
    {
     "name": "stdout",
     "output_type": "stream",
     "text": [
      "[2021-06-07 16:09:22,297][fairseq.trainer][INFO] - begin training epoch 5133\r\n",
      "[2021-06-07 16:09:22,298][fairseq_cli.train][INFO] - Start iterating over samples\r\n"
     ]
    },
    {
     "name": "stdout",
     "output_type": "stream",
     "text": [
      "[2021-06-07 16:13:01,352][fairseq_cli.train][INFO] - begin validation on \"valid\" subset\r\n"
     ]
    },
    {
     "name": "stdout",
     "output_type": "stream",
     "text": [
      "[2021-06-07 16:13:04,039][fairseq.tasks.unpaired_audio_text][INFO] - REF: ɛ n f œ ʂ ə n a d ɵ ʂ ə k t f øː r d eː t s ɔ m h ɛ n d ə p oː ɕ œ r k ɔ n s ɛ t ə n\r\n",
      "[2021-06-07 16:13:04,042][fairseq.tasks.unpaired_audio_text][INFO] - HYP: n ɪ n s j œ r œ ʂ b j uː œ k uː ɡ ɵ n ə m ɔ k b ə uː s eː r n v oː s l ɪ ŋ k l ɪ l s ɔ k m k n t a\r\n",
      "[2021-06-07 16:13:04,048][fairseq.tasks.unpaired_audio_text][INFO] - LM [REF]: -53.44462585449219, 0.05339602260269112\r\n",
      "[2021-06-07 16:13:04,048][fairseq.tasks.unpaired_audio_text][INFO] - LM [HYP]: -84.03650665283203, 0.017751679355466256\r\n"
     ]
    },
    {
     "name": "stdout",
     "output_type": "stream",
     "text": [
      "[2021-06-07 16:13:04,576][valid][INFO] - {\"epoch\": 5133, \"valid_loss\": \"1.006\", \"valid_ntokens\": \"3039.79\", \"valid_nsentences\": \"144.214\", \"valid_lm_score_sum\": \"-89920.1\", \"valid_num_pred_chars\": \"48602\", \"valid_vocab_seen_pct\": \"0.891986\", \"valid_uer\": \"100.557\", \"valid_weighted_lm_ppl\": \"75.097\", \"valid_lm_ppl\": \"59.7501\", \"valid_wps\": \"16872.1\", \"valid_wpb\": \"3039.8\", \"valid_bsz\": \"144.2\", \"valid_num_updates\": \"82128\", \"valid_best_weighted_lm_ppl\": \"73.0296\"}\r\n",
      "[2021-06-07 16:13:04,579][fairseq.checkpoint_utils][INFO] - Preparing to save checkpoint for epoch 5133 @ 82128 updates\r\n",
      "[2021-06-07 16:13:04,580][fairseq.trainer][INFO] - Saving checkpoint to /kaggle/working/checkpoint_last.pt\r\n"
     ]
    },
    {
     "name": "stdout",
     "output_type": "stream",
     "text": [
      "[2021-06-07 16:13:04,627][fairseq.trainer][INFO] - Finished saving checkpoint to /kaggle/working/checkpoint_last.pt\r\n",
      "[2021-06-07 16:13:04,627][fairseq.checkpoint_utils][INFO] - Saved checkpoint /kaggle/working/checkpoint_last.pt (epoch 5133 @ 82128 updates, score 75.09702649054006) (writing took 0.04850834199896781 seconds)\r\n",
      "[2021-06-07 16:13:04,628][fairseq_cli.train][INFO] - end of epoch 5133 (average epoch stats below)\r\n",
      "[2021-06-07 16:13:04,631][train][INFO] - {\"epoch\": 5133, \"train_loss\": \"3.69\", \"train_ntokens\": \"145.688\", \"train_nsentences\": \"145.688\", \"train_temp\": \"0.1\", \"train_code_ppl\": \"8.68\", \"train_loss_code_pen\": \"0.315\", \"train_loss_smoothness\": \"2.063\", \"train_loss_dense_g\": \"4.374\", \"train_lm_score_sum\": 0.0, \"train_num_pred_chars\": 0.0, \"train_loss_grad_pen\": \"0.331\", \"train_loss_dense_d\": \"0.027\", \"train_loss_token_d\": \"0.039\", \"train_wps\": \"10.5\", \"train_ups\": \"0.07\", \"train_wpb\": \"145.7\", \"train_bsz\": \"145.7\", \"train_num_updates\": \"82128\", \"train_lr_discriminator\": \"0.0005\", \"train_lr_generator\": \"0.0004\", \"train_gnorm\": \"52.991\", \"train_clip\": \"93.8\", \"train_train_wall\": \"219\", \"train_wall\": \"17438\"}\r\n"
     ]
    },
    {
     "name": "stdout",
     "output_type": "stream",
     "text": [
      "[2021-06-07 16:13:04,689][fairseq.trainer][INFO] - begin training epoch 5134\r\n",
      "[2021-06-07 16:13:04,691][fairseq_cli.train][INFO] - Start iterating over samples\r\n"
     ]
    },
    {
     "name": "stdout",
     "output_type": "stream",
     "text": [
      "[2021-06-07 16:16:46,473][fairseq_cli.train][INFO] - begin validation on \"valid\" subset\r\n"
     ]
    },
    {
     "name": "stdout",
     "output_type": "stream",
     "text": [
      "[2021-06-07 16:16:49,214][fairseq.tasks.unpaired_audio_text][INFO] - REF: ɛ n f œ ʂ ə n a d ɵ ʂ ə k t f øː r d eː t s ɔ m h ɛ n d ə p oː ɕ œ r k ɔ n s ɛ t ə n\r\n",
      "[2021-06-07 16:16:49,217][fairseq.tasks.unpaired_audio_text][INFO] - HYP: n ɪ n s j œ r œ j ʃ b j uː œ k uː ɡ ɵ n ə m ɔ k b ə uː s eː r n v oː s l ɪ ŋ k l ɪ l s œ k m k n t a\r\n",
      "[2021-06-07 16:16:49,221][fairseq.tasks.unpaired_audio_text][INFO] - LM [REF]: -53.44462585449219, 0.05339602260269112\r\n",
      "[2021-06-07 16:16:49,221][fairseq.tasks.unpaired_audio_text][INFO] - LM [HYP]: -87.65580749511719, 0.0162594544415698\r\n"
     ]
    },
    {
     "name": "stdout",
     "output_type": "stream",
     "text": [
      "[2021-06-07 16:16:49,744][valid][INFO] - {\"epoch\": 5134, \"valid_loss\": \"1.003\", \"valid_ntokens\": \"3039.79\", \"valid_nsentences\": \"144.214\", \"valid_lm_score_sum\": \"-89740.8\", \"valid_num_pred_chars\": \"48423\", \"valid_vocab_seen_pct\": \"0.89547\", \"valid_uer\": \"100.317\", \"valid_weighted_lm_ppl\": \"74.9869\", \"valid_lm_ppl\": \"60.1296\", \"valid_wps\": \"16798.9\", \"valid_wpb\": \"3039.8\", \"valid_bsz\": \"144.2\", \"valid_num_updates\": \"82144\", \"valid_best_weighted_lm_ppl\": \"73.0296\"}\r\n",
      "[2021-06-07 16:16:49,747][fairseq.checkpoint_utils][INFO] - Preparing to save checkpoint for epoch 5134 @ 82144 updates\r\n",
      "[2021-06-07 16:16:49,748][fairseq.trainer][INFO] - Saving checkpoint to /kaggle/working/checkpoint_last.pt\r\n"
     ]
    },
    {
     "name": "stdout",
     "output_type": "stream",
     "text": [
      "[2021-06-07 16:16:49,797][fairseq.trainer][INFO] - Finished saving checkpoint to /kaggle/working/checkpoint_last.pt\r\n",
      "[2021-06-07 16:16:49,798][fairseq.checkpoint_utils][INFO] - Saved checkpoint /kaggle/working/checkpoint_last.pt (epoch 5134 @ 82144 updates, score 74.9869278459206) (writing took 0.05057255499923485 seconds)\r\n",
      "[2021-06-07 16:16:49,798][fairseq_cli.train][INFO] - end of epoch 5134 (average epoch stats below)\r\n",
      "[2021-06-07 16:16:49,802][train][INFO] - {\"epoch\": 5134, \"train_loss\": \"3.357\", \"train_ntokens\": \"145.688\", \"train_nsentences\": \"145.688\", \"train_temp\": \"0.1\", \"train_code_ppl\": \"8.786\", \"train_loss_code_pen\": \"0.331\", \"train_loss_smoothness\": \"2.106\", \"train_loss_dense_g\": \"3.905\", \"train_lm_score_sum\": 0.0, \"train_num_pred_chars\": 0.0, \"train_loss_grad_pen\": \"0.093\", \"train_loss_dense_d\": \"0.028\", \"train_loss_token_d\": \"0.026\", \"train_wps\": \"10.4\", \"train_ups\": \"0.07\", \"train_wpb\": \"145.7\", \"train_bsz\": \"145.7\", \"train_num_updates\": \"82144\", \"train_lr_discriminator\": \"0.0005\", \"train_lr_generator\": \"0.0004\", \"train_gnorm\": \"33.056\", \"train_clip\": \"62.5\", \"train_train_wall\": \"221\", \"train_wall\": \"17663\"}\r\n"
     ]
    },
    {
     "name": "stdout",
     "output_type": "stream",
     "text": [
      "[2021-06-07 16:16:49,860][fairseq.trainer][INFO] - begin training epoch 5135\r\n"
     ]
    },
    {
     "name": "stdout",
     "output_type": "stream",
     "text": [
      "[2021-06-07 16:16:49,862][fairseq_cli.train][INFO] - Start iterating over samples\r\n"
     ]
    },
    {
     "name": "stdout",
     "output_type": "stream",
     "text": [
      "[2021-06-07 16:20:51,776][fairseq_cli.train][INFO] - begin validation on \"valid\" subset\r\n"
     ]
    },
    {
     "name": "stdout",
     "output_type": "stream",
     "text": [
      "[2021-06-07 16:20:54,668][fairseq.tasks.unpaired_audio_text][INFO] - REF: ɛ n f œ ʂ ə n a d ɵ ʂ ə k t f øː r d eː t s ɔ m h ɛ n d ə p oː ɕ œ r k ɔ n s ɛ t ə n\r\n",
      "[2021-06-07 16:20:54,671][fairseq.tasks.unpaired_audio_text][INFO] - HYP: n ɪ n s j œ r œ j ɕ b j uː œ yː k j uː ɡ ɵ b ə m œ k b ə uː s eː r n v oː s l ɪ ŋ k l ɪ l s œ k m k n t a\r\n",
      "[2021-06-07 16:20:54,675][fairseq.tasks.unpaired_audio_text][INFO] - LM [REF]: -53.44462585449219, 0.05339602260269112\r\n",
      "[2021-06-07 16:20:54,675][fairseq.tasks.unpaired_audio_text][INFO] - LM [HYP]: -92.43077087402344, 0.015403944444827724\r\n"
     ]
    },
    {
     "name": "stdout",
     "output_type": "stream",
     "text": [
      "[2021-06-07 16:20:55,206][valid][INFO] - {\"epoch\": 5135, \"valid_loss\": \"1.004\", \"valid_ntokens\": \"3039.79\", \"valid_nsentences\": \"144.214\", \"valid_lm_score_sum\": \"-89819.6\", \"valid_num_pred_chars\": \"48522\", \"valid_vocab_seen_pct\": \"0.890244\", \"valid_uer\": \"100.395\", \"valid_weighted_lm_ppl\": \"75.5344\", \"valid_lm_ppl\": \"59.8636\", \"valid_wps\": \"16822.2\", \"valid_wpb\": \"3039.8\", \"valid_bsz\": \"144.2\", \"valid_num_updates\": \"82160\", \"valid_best_weighted_lm_ppl\": \"73.0296\"}\r\n",
      "[2021-06-07 16:20:55,209][fairseq.checkpoint_utils][INFO] - Preparing to save checkpoint for epoch 5135 @ 82160 updates\r\n",
      "[2021-06-07 16:20:55,210][fairseq.trainer][INFO] - Saving checkpoint to /kaggle/working/checkpoint_last.pt\r\n"
     ]
    },
    {
     "name": "stdout",
     "output_type": "stream",
     "text": [
      "[2021-06-07 16:20:55,257][fairseq.trainer][INFO] - Finished saving checkpoint to /kaggle/working/checkpoint_last.pt\r\n",
      "[2021-06-07 16:20:55,257][fairseq.checkpoint_utils][INFO] - Saved checkpoint /kaggle/working/checkpoint_last.pt (epoch 5135 @ 82160 updates, score 75.53435523228374) (writing took 0.04810486900169053 seconds)\r\n",
      "[2021-06-07 16:20:55,258][fairseq_cli.train][INFO] - end of epoch 5135 (average epoch stats below)\r\n",
      "[2021-06-07 16:20:55,261][train][INFO] - {\"epoch\": 5135, \"train_loss\": \"2.949\", \"train_ntokens\": \"145.688\", \"train_nsentences\": \"145.688\", \"train_temp\": \"0.1\", \"train_code_ppl\": \"8.721\", \"train_loss_code_pen\": \"0.325\", \"train_loss_smoothness\": \"2.058\", \"train_loss_dense_g\": \"4.026\", \"train_lm_score_sum\": 0.0, \"train_num_pred_chars\": 0.0, \"train_loss_grad_pen\": \"0.059\", \"train_loss_dense_d\": \"0.025\", \"train_loss_token_d\": \"0.024\", \"train_wps\": \"9.5\", \"train_ups\": \"0.07\", \"train_wpb\": \"145.7\", \"train_bsz\": \"145.7\", \"train_num_updates\": \"82160\", \"train_lr_discriminator\": \"0.0005\", \"train_lr_generator\": \"0.0004\", \"train_gnorm\": \"29.267\", \"train_clip\": \"75\", \"train_train_wall\": \"241\", \"train_wall\": \"17909\"}\r\n"
     ]
    },
    {
     "name": "stdout",
     "output_type": "stream",
     "text": [
      "[2021-06-07 16:20:55,327][fairseq.trainer][INFO] - begin training epoch 5136\r\n",
      "[2021-06-07 16:20:55,329][fairseq_cli.train][INFO] - Start iterating over samples\r\n"
     ]
    },
    {
     "name": "stdout",
     "output_type": "stream",
     "text": [
      "[2021-06-07 16:25:00,982][fairseq_cli.train][INFO] - begin validation on \"valid\" subset\r\n"
     ]
    },
    {
     "name": "stdout",
     "output_type": "stream",
     "text": [
      "[2021-06-07 16:25:03,750][fairseq.tasks.unpaired_audio_text][INFO] - REF: ɛ n f œ ʂ ə n a d ɵ ʂ ə k t f øː r d eː t s ɔ m h ɛ n d ə p oː ɕ œ r k ɔ n s ɛ t ə n\r\n",
      "[2021-06-07 16:25:03,753][fairseq.tasks.unpaired_audio_text][INFO] - HYP: n ɪ n s j œ r œ j ʃ b j uː œ yː k j uː ɡ ɵ v j n ə m œ k b ə r s eː r n v oː s l ɪ ŋ k l ɪ l s œ k m k n t a\r\n",
      "[2021-06-07 16:25:03,757][fairseq.tasks.unpaired_audio_text][INFO] - LM [REF]: -53.44462585449219, 0.05339602260269112\r\n",
      "[2021-06-07 16:25:03,758][fairseq.tasks.unpaired_audio_text][INFO] - LM [HYP]: -97.24082946777344, 0.014630776246016372\r\n"
     ]
    },
    {
     "name": "stdout",
     "output_type": "stream",
     "text": [
      "[2021-06-07 16:25:04,286][valid][INFO] - {\"epoch\": 5136, \"valid_loss\": \"1.004\", \"valid_ntokens\": \"3039.79\", \"valid_nsentences\": \"144.214\", \"valid_lm_score_sum\": \"-90013.1\", \"valid_num_pred_chars\": \"48501\", \"valid_vocab_seen_pct\": \"0.888502\", \"valid_uer\": \"100.39\", \"valid_weighted_lm_ppl\": \"76.6328\", \"valid_lm_ppl\": \"60.4966\", \"valid_wps\": \"16656.2\", \"valid_wpb\": \"3039.8\", \"valid_bsz\": \"144.2\", \"valid_num_updates\": \"82176\", \"valid_best_weighted_lm_ppl\": \"73.0296\"}\r\n",
      "[2021-06-07 16:25:04,289][fairseq.checkpoint_utils][INFO] - Preparing to save checkpoint for epoch 5136 @ 82176 updates\r\n",
      "[2021-06-07 16:25:04,290][fairseq.trainer][INFO] - Saving checkpoint to /kaggle/working/checkpoint_last.pt\r\n"
     ]
    },
    {
     "name": "stdout",
     "output_type": "stream",
     "text": [
      "[2021-06-07 16:25:04,337][fairseq.trainer][INFO] - Finished saving checkpoint to /kaggle/working/checkpoint_last.pt\r\n",
      "[2021-06-07 16:25:04,338][fairseq.checkpoint_utils][INFO] - Saved checkpoint /kaggle/working/checkpoint_last.pt (epoch 5136 @ 82176 updates, score 76.63280672690712) (writing took 0.048517120001633884 seconds)\r\n",
      "[2021-06-07 16:25:04,338][fairseq_cli.train][INFO] - end of epoch 5136 (average epoch stats below)\r\n",
      "[2021-06-07 16:25:04,342][train][INFO] - {\"epoch\": 5136, \"train_loss\": \"2.971\", \"train_ntokens\": \"145.688\", \"train_nsentences\": \"145.688\", \"train_temp\": \"0.1\", \"train_code_ppl\": \"8.674\", \"train_loss_code_pen\": \"0.322\", \"train_loss_smoothness\": \"2.046\", \"train_loss_dense_g\": \"4.097\", \"train_lm_score_sum\": 0.0, \"train_num_pred_chars\": 0.0, \"train_loss_grad_pen\": \"0.056\", \"train_loss_dense_d\": \"0.024\", \"train_loss_token_d\": \"0.022\", \"train_wps\": \"9.4\", \"train_ups\": \"0.06\", \"train_wpb\": \"145.7\", \"train_bsz\": \"145.7\", \"train_num_updates\": \"82176\", \"train_lr_discriminator\": \"0.0005\", \"train_lr_generator\": \"0.0004\", \"train_gnorm\": \"28.941\", \"train_clip\": \"62.5\", \"train_train_wall\": \"245\", \"train_wall\": \"18158\"}\r\n"
     ]
    },
    {
     "name": "stdout",
     "output_type": "stream",
     "text": [
      "[2021-06-07 16:25:04,400][fairseq.trainer][INFO] - begin training epoch 5137\r\n",
      "[2021-06-07 16:25:04,401][fairseq_cli.train][INFO] - Start iterating over samples\r\n"
     ]
    },
    {
     "name": "stdout",
     "output_type": "stream",
     "text": [
      "[2021-06-07 16:28:31,513][fairseq_cli.train][INFO] - begin validation on \"valid\" subset\r\n"
     ]
    },
    {
     "name": "stdout",
     "output_type": "stream",
     "text": [
      "[2021-06-07 16:28:34,314][fairseq.tasks.unpaired_audio_text][INFO] - REF: ɛ n f œ ʂ ə n a d ɵ ʂ ə k t f øː r d eː t s ɔ m h ɛ n d ə p oː ɕ œ r k ɔ n s ɛ t ə n\r\n",
      "[2021-06-07 16:28:34,316][fairseq.tasks.unpaired_audio_text][INFO] - HYP: n ɪ n s j œ r œ ʂ b j uː œ yː k j uː ɵ j ə m œ k b ə uː s eː r n v oː s ɪ ŋ k ɪ l s œ m k n t a\r\n",
      "[2021-06-07 16:28:34,321][fairseq.tasks.unpaired_audio_text][INFO] - LM [REF]: -53.44462585449219, 0.05339602260269112\r\n",
      "[2021-06-07 16:28:34,322][fairseq.tasks.unpaired_audio_text][INFO] - LM [HYP]: -86.09514617919922, 0.013438982469076747\r\n"
     ]
    },
    {
     "name": "stdout",
     "output_type": "stream",
     "text": [
      "[2021-06-07 16:28:34,889][valid][INFO] - {\"epoch\": 5137, \"valid_loss\": \"1.006\", \"valid_ntokens\": \"3039.79\", \"valid_nsentences\": \"144.214\", \"valid_lm_score_sum\": \"-90096.9\", \"valid_num_pred_chars\": \"48659\", \"valid_vocab_seen_pct\": \"0.897213\", \"valid_uer\": \"100.557\", \"valid_weighted_lm_ppl\": \"74.48\", \"valid_lm_ppl\": \"59.9557\", \"valid_wps\": \"16346.8\", \"valid_wpb\": \"3039.8\", \"valid_bsz\": \"144.2\", \"valid_num_updates\": \"82192\", \"valid_best_weighted_lm_ppl\": \"73.0296\"}\r\n"
     ]
    },
    {
     "name": "stdout",
     "output_type": "stream",
     "text": [
      "[2021-06-07 16:28:34,892][fairseq.checkpoint_utils][INFO] - Preparing to save checkpoint for epoch 5137 @ 82192 updates\r\n",
      "[2021-06-07 16:28:34,894][fairseq.trainer][INFO] - Saving checkpoint to /kaggle/working/checkpoint_last.pt\r\n"
     ]
    },
    {
     "name": "stdout",
     "output_type": "stream",
     "text": [
      "[2021-06-07 16:28:34,948][fairseq.trainer][INFO] - Finished saving checkpoint to /kaggle/working/checkpoint_last.pt\r\n",
      "[2021-06-07 16:28:34,949][fairseq.checkpoint_utils][INFO] - Saved checkpoint /kaggle/working/checkpoint_last.pt (epoch 5137 @ 82192 updates, score 74.4800151411972) (writing took 0.056342159001360415 seconds)\r\n",
      "[2021-06-07 16:28:34,949][fairseq_cli.train][INFO] - end of epoch 5137 (average epoch stats below)\r\n",
      "[2021-06-07 16:28:34,953][train][INFO] - {\"epoch\": 5137, \"train_loss\": \"3.837\", \"train_ntokens\": \"145.688\", \"train_nsentences\": \"145.688\", \"train_temp\": \"0.1\", \"train_code_ppl\": \"8.998\", \"train_loss_code_pen\": \"0.349\", \"train_loss_smoothness\": \"2.163\", \"train_loss_dense_g\": \"4.333\", \"train_lm_score_sum\": 0.0, \"train_num_pred_chars\": 0.0, \"train_loss_grad_pen\": \"0.125\", \"train_loss_dense_d\": \"0.021\", \"train_loss_token_d\": \"0.03\", \"train_wps\": \"11.1\", \"train_ups\": \"0.08\", \"train_wpb\": \"145.7\", \"train_bsz\": \"145.7\", \"train_num_updates\": \"82192\", \"train_lr_discriminator\": \"0.0005\", \"train_lr_generator\": \"0.0004\", \"train_gnorm\": \"34.107\", \"train_clip\": \"81.2\", \"train_train_wall\": \"207\", \"train_wall\": \"18368\"}\r\n"
     ]
    },
    {
     "name": "stdout",
     "output_type": "stream",
     "text": [
      "[2021-06-07 16:28:35,017][fairseq.trainer][INFO] - begin training epoch 5138\r\n",
      "[2021-06-07 16:28:35,018][fairseq_cli.train][INFO] - Start iterating over samples\r\n"
     ]
    },
    {
     "name": "stdout",
     "output_type": "stream",
     "text": [
      "[2021-06-07 16:30:45,170][train_inner][INFO] - {\"epoch\": 5138, \"update\": 5137.5, \"loss\": \"3.33\", \"ntokens\": \"146.98\", \"nsentences\": \"146.98\", \"temp\": \"0.1\", \"code_ppl\": \"8.782\", \"loss_code_pen\": \"0.33\", \"loss_smoothness\": \"2.095\", \"loss_dense_g\": \"4.167\", \"lm_score_sum\": 0.0, \"num_pred_chars\": 0.0, \"loss_grad_pen\": \"0.111\", \"loss_dense_d\": \"0.025\", \"loss_token_d\": \"0.027\", \"wps\": \"10\", \"ups\": \"0.07\", \"wpb\": \"147\", \"bsz\": \"147\", \"num_updates\": \"82200\", \"lr_discriminator\": \"0.0005\", \"lr_generator\": \"0.0004\", \"gnorm\": \"34.262\", \"clip\": \"71\", \"train_wall\": \"1449\", \"wall\": \"18499\"}\r\n"
     ]
    },
    {
     "name": "stdout",
     "output_type": "stream",
     "text": [
      "[2021-06-07 16:32:20,318][fairseq_cli.train][INFO] - begin validation on \"valid\" subset\r\n"
     ]
    },
    {
     "name": "stdout",
     "output_type": "stream",
     "text": [
      "[2021-06-07 16:32:23,196][fairseq.tasks.unpaired_audio_text][INFO] - REF: ɛ n f œ ʂ ə n a d ɵ ʂ ə k t f øː r d eː t s ɔ m h ɛ n d ə p oː ɕ œ r k ɔ n s ɛ t ə n\r\n",
      "[2021-06-07 16:32:23,199][fairseq.tasks.unpaired_audio_text][INFO] - HYP: n ɪ n s j œ r œ j ɕ b j uː œ yː k j uː ɡ ɵ j n ə m œ k b ə uː s eː r n v oː s l ɪ ŋ k l ɪ l s œ m k n t a\r\n",
      "[2021-06-07 16:32:23,204][fairseq.tasks.unpaired_audio_text][INFO] - LM [REF]: -53.44462585449219, 0.05339602260269112\r\n",
      "[2021-06-07 16:32:23,205][fairseq.tasks.unpaired_audio_text][INFO] - LM [HYP]: -94.82334899902344, 0.013826703409268878\r\n"
     ]
    },
    {
     "name": "stdout",
     "output_type": "stream",
     "text": [
      "[2021-06-07 16:32:23,788][valid][INFO] - {\"epoch\": 5138, \"valid_loss\": \"1.006\", \"valid_ntokens\": \"3039.79\", \"valid_nsentences\": \"144.214\", \"valid_lm_score_sum\": \"-90042.4\", \"valid_num_pred_chars\": \"48642\", \"valid_vocab_seen_pct\": \"0.893728\", \"valid_uer\": \"100.576\", \"valid_weighted_lm_ppl\": \"74.9791\", \"valid_lm_ppl\": \"59.8895\", \"valid_wps\": \"15800\", \"valid_wpb\": \"3039.8\", \"valid_bsz\": \"144.2\", \"valid_num_updates\": \"82208\", \"valid_best_weighted_lm_ppl\": \"73.0296\"}\r\n",
      "[2021-06-07 16:32:23,791][fairseq.checkpoint_utils][INFO] - Preparing to save checkpoint for epoch 5138 @ 82208 updates\r\n",
      "[2021-06-07 16:32:23,792][fairseq.trainer][INFO] - Saving checkpoint to /kaggle/working/checkpoint_last.pt\r\n"
     ]
    },
    {
     "name": "stdout",
     "output_type": "stream",
     "text": [
      "[2021-06-07 16:32:23,846][fairseq.trainer][INFO] - Finished saving checkpoint to /kaggle/working/checkpoint_last.pt\r\n",
      "[2021-06-07 16:32:23,846][fairseq.checkpoint_utils][INFO] - Saved checkpoint /kaggle/working/checkpoint_last.pt (epoch 5138 @ 82208 updates, score 74.97907333069408) (writing took 0.05521116000090842 seconds)\r\n",
      "[2021-06-07 16:32:23,847][fairseq_cli.train][INFO] - end of epoch 5138 (average epoch stats below)\r\n",
      "[2021-06-07 16:32:23,850][train][INFO] - {\"epoch\": 5138, \"train_loss\": \"3.426\", \"train_ntokens\": \"145.688\", \"train_nsentences\": \"145.688\", \"train_temp\": \"0.1\", \"train_code_ppl\": \"8.78\", \"train_loss_code_pen\": \"0.328\", \"train_loss_smoothness\": \"2.085\", \"train_loss_dense_g\": \"4.094\", \"train_lm_score_sum\": 0.0, \"train_num_pred_chars\": 0.0, \"train_loss_grad_pen\": \"0.062\", \"train_loss_dense_d\": \"0.027\", \"train_loss_token_d\": \"0.023\", \"train_wps\": \"10.2\", \"train_ups\": \"0.07\", \"train_wpb\": \"145.7\", \"train_bsz\": \"145.7\", \"train_num_updates\": \"82208\", \"train_lr_discriminator\": \"0.0005\", \"train_lr_generator\": \"0.0004\", \"train_gnorm\": \"29.606\", \"train_clip\": \"68.8\", \"train_train_wall\": \"225\", \"train_wall\": \"18597\"}\r\n"
     ]
    },
    {
     "name": "stdout",
     "output_type": "stream",
     "text": [
      "[2021-06-07 16:32:23,915][fairseq.trainer][INFO] - begin training epoch 5139\r\n",
      "[2021-06-07 16:32:23,917][fairseq_cli.train][INFO] - Start iterating over samples\r\n"
     ]
    },
    {
     "name": "stdout",
     "output_type": "stream",
     "text": [
      "[2021-06-07 16:36:09,580][fairseq_cli.train][INFO] - begin validation on \"valid\" subset\r\n"
     ]
    },
    {
     "name": "stdout",
     "output_type": "stream",
     "text": [
      "[2021-06-07 16:36:12,254][fairseq.tasks.unpaired_audio_text][INFO] - REF: ɛ n f œ ʂ ə n a d ɵ ʂ ə k t f øː r d eː t s ɔ m h ɛ n d ə p oː ɕ œ r k ɔ n s ɛ t ə n\r\n",
      "[2021-06-07 16:36:12,257][fairseq.tasks.unpaired_audio_text][INFO] - HYP: n ɪ n s j œ r œ ʂ ɕ b j uː œ yː k j uː ɵ j n ə m œ k b ə uː s eː r n v oː s l ɪ ŋ k l ɪ l s œ m k n t a\r\n",
      "[2021-06-07 16:36:12,263][fairseq.tasks.unpaired_audio_text][INFO] - LM [REF]: -53.44462585449219, 0.05339602260269112\r\n",
      "[2021-06-07 16:36:12,263][fairseq.tasks.unpaired_audio_text][INFO] - LM [HYP]: -93.6793212890625, 0.013378689491071339\r\n"
     ]
    },
    {
     "name": "stdout",
     "output_type": "stream",
     "text": [
      "[2021-06-07 16:36:12,827][valid][INFO] - {\"epoch\": 5139, \"valid_loss\": \"1.005\", \"valid_ntokens\": \"3039.79\", \"valid_nsentences\": \"144.214\", \"valid_lm_score_sum\": \"-90027.1\", \"valid_num_pred_chars\": \"48602\", \"valid_vocab_seen_pct\": \"0.893728\", \"valid_uer\": \"100.498\", \"valid_weighted_lm_ppl\": \"75.1695\", \"valid_lm_ppl\": \"60.0417\", \"valid_wps\": \"16730.5\", \"valid_wpb\": \"3039.8\", \"valid_bsz\": \"144.2\", \"valid_num_updates\": \"82224\", \"valid_best_weighted_lm_ppl\": \"73.0296\"}\r\n",
      "[2021-06-07 16:36:12,830][fairseq.checkpoint_utils][INFO] - Preparing to save checkpoint for epoch 5139 @ 82224 updates\r\n",
      "[2021-06-07 16:36:12,831][fairseq.trainer][INFO] - Saving checkpoint to /kaggle/working/checkpoint_last.pt\r\n"
     ]
    },
    {
     "name": "stdout",
     "output_type": "stream",
     "text": [
      "[2021-06-07 16:36:12,880][fairseq.trainer][INFO] - Finished saving checkpoint to /kaggle/working/checkpoint_last.pt\r\n",
      "[2021-06-07 16:36:12,881][fairseq.checkpoint_utils][INFO] - Saved checkpoint /kaggle/working/checkpoint_last.pt (epoch 5139 @ 82224 updates, score 75.1695128312128) (writing took 0.05061624299924006 seconds)\r\n",
      "[2021-06-07 16:36:12,882][fairseq_cli.train][INFO] - end of epoch 5139 (average epoch stats below)\r\n"
     ]
    },
    {
     "name": "stdout",
     "output_type": "stream",
     "text": [
      "[2021-06-07 16:36:12,885][train][INFO] - {\"epoch\": 5139, \"train_loss\": \"3.524\", \"train_ntokens\": \"145.688\", \"train_nsentences\": \"145.688\", \"train_temp\": \"0.1\", \"train_code_ppl\": \"8.702\", \"train_loss_code_pen\": \"0.324\", \"train_loss_smoothness\": \"2.086\", \"train_loss_dense_g\": \"4.272\", \"train_lm_score_sum\": 0.0, \"train_num_pred_chars\": 0.0, \"train_loss_grad_pen\": \"0.075\", \"train_loss_dense_d\": \"0.025\", \"train_loss_token_d\": \"0.028\", \"train_wps\": \"10.2\", \"train_ups\": \"0.07\", \"train_wpb\": \"145.7\", \"train_bsz\": \"145.7\", \"train_num_updates\": \"82224\", \"train_lr_discriminator\": \"0.0005\", \"train_lr_generator\": \"0.0004\", \"train_gnorm\": \"31.864\", \"train_clip\": \"75\", \"train_train_wall\": \"225\", \"train_wall\": \"18826\"}\r\n"
     ]
    },
    {
     "name": "stdout",
     "output_type": "stream",
     "text": [
      "[2021-06-07 16:36:12,945][fairseq.trainer][INFO] - begin training epoch 5140\r\n",
      "[2021-06-07 16:36:12,946][fairseq_cli.train][INFO] - Start iterating over samples\r\n"
     ]
    },
    {
     "name": "stdout",
     "output_type": "stream",
     "text": [
      "[2021-06-07 16:39:44,210][fairseq_cli.train][INFO] - begin validation on \"valid\" subset\r\n"
     ]
    },
    {
     "name": "stdout",
     "output_type": "stream",
     "text": [
      "[2021-06-07 16:39:46,901][fairseq.tasks.unpaired_audio_text][INFO] - REF: ɛ n f œ ʂ ə n a d ɵ ʂ ə k t f øː r d eː t s ɔ m h ɛ n d ə p oː ɕ œ r k ɔ n s ɛ t ə n\r\n",
      "[2021-06-07 16:39:46,904][fairseq.tasks.unpaired_audio_text][INFO] - HYP: n ɪ n s j œ r œ j b j uː œ yː k j uː ɡ ɵ n ə m œ k b ə uː s eː r n v oː s l ɪ ŋ k l ɪ l s œ m k n t a\r\n",
      "[2021-06-07 16:39:46,908][fairseq.tasks.unpaired_audio_text][INFO] - LM [REF]: -53.44462585449219, 0.05339602260269112\r\n",
      "[2021-06-07 16:39:46,908][fairseq.tasks.unpaired_audio_text][INFO] - LM [HYP]: -89.5167236328125, 0.014898004088617625\r\n"
     ]
    },
    {
     "name": "stdout",
     "output_type": "stream",
     "text": [
      "[2021-06-07 16:39:47,428][valid][INFO] - {\"epoch\": 5140, \"valid_loss\": \"1.005\", \"valid_ntokens\": \"3039.79\", \"valid_nsentences\": \"144.214\", \"valid_lm_score_sum\": \"-90060.5\", \"valid_num_pred_chars\": \"48570\", \"valid_vocab_seen_pct\": \"0.89547\", \"valid_uer\": \"100.498\", \"valid_weighted_lm_ppl\": \"75.1858\", \"valid_lm_ppl\": \"60.289\", \"valid_wps\": \"17160.4\", \"valid_wpb\": \"3039.8\", \"valid_bsz\": \"144.2\", \"valid_num_updates\": \"82240\", \"valid_best_weighted_lm_ppl\": \"73.0296\"}\r\n",
      "[2021-06-07 16:39:47,431][fairseq.checkpoint_utils][INFO] - Preparing to save checkpoint for epoch 5140 @ 82240 updates\r\n",
      "[2021-06-07 16:39:47,432][fairseq.trainer][INFO] - Saving checkpoint to /kaggle/working/checkpoint_last.pt\r\n"
     ]
    },
    {
     "name": "stdout",
     "output_type": "stream",
     "text": [
      "[2021-06-07 16:39:47,479][fairseq.trainer][INFO] - Finished saving checkpoint to /kaggle/working/checkpoint_last.pt\r\n",
      "[2021-06-07 16:39:47,480][fairseq.checkpoint_utils][INFO] - Saved checkpoint /kaggle/working/checkpoint_last.pt (epoch 5140 @ 82240 updates, score 75.18579557771757) (writing took 0.048290119997545844 seconds)\r\n",
      "[2021-06-07 16:39:47,480][fairseq_cli.train][INFO] - end of epoch 5140 (average epoch stats below)\r\n",
      "[2021-06-07 16:39:47,484][train][INFO] - {\"epoch\": 5140, \"train_loss\": \"3.718\", \"train_ntokens\": \"145.688\", \"train_nsentences\": \"145.688\", \"train_temp\": \"0.1\", \"train_code_ppl\": \"8.852\", \"train_loss_code_pen\": \"0.332\", \"train_loss_smoothness\": \"2.137\", \"train_loss_dense_g\": \"4.175\", \"train_lm_score_sum\": 0.0, \"train_num_pred_chars\": 0.0, \"train_loss_grad_pen\": \"0.1\", \"train_loss_dense_d\": \"0.023\", \"train_loss_token_d\": \"0.031\", \"train_wps\": \"10.9\", \"train_ups\": \"0.07\", \"train_wpb\": \"145.7\", \"train_bsz\": \"145.7\", \"train_num_updates\": \"82240\", \"train_lr_discriminator\": \"0.0005\", \"train_lr_generator\": \"0.0004\", \"train_gnorm\": \"33.813\", \"train_clip\": \"100\", \"train_train_wall\": \"211\", \"train_wall\": \"19041\"}\r\n"
     ]
    },
    {
     "name": "stdout",
     "output_type": "stream",
     "text": [
      "[2021-06-07 16:39:47,548][fairseq.trainer][INFO] - begin training epoch 5141\r\n",
      "[2021-06-07 16:39:47,550][fairseq_cli.train][INFO] - Start iterating over samples\r\n"
     ]
    },
    {
     "name": "stdout",
     "output_type": "stream",
     "text": [
      "[2021-06-07 16:43:34,523][fairseq_cli.train][INFO] - begin validation on \"valid\" subset\r\n"
     ]
    },
    {
     "name": "stdout",
     "output_type": "stream",
     "text": [
      "[2021-06-07 16:43:37,220][fairseq.tasks.unpaired_audio_text][INFO] - REF: ɛ n f œ ʂ ə n a d ɵ ʂ ə k t f øː r d eː t s ɔ m h ɛ n d ə p oː ɕ œ r k ɔ n s ɛ t ə n\r\n",
      "[2021-06-07 16:43:37,223][fairseq.tasks.unpaired_audio_text][INFO] - HYP: n ɪ n s j œ r œ ʂ b j uː œ yː k uː ɵ øː b n ə m œ k b ə uː s eː r n v oː s l ɪ ŋ k l ɪ l s œ k m k n t a\r\n",
      "[2021-06-07 16:43:37,227][fairseq.tasks.unpaired_audio_text][INFO] - LM [REF]: -53.44462585449219, 0.05339602260269112\r\n",
      "[2021-06-07 16:43:37,227][fairseq.tasks.unpaired_audio_text][INFO] - LM [HYP]: -93.38314819335938, 0.013562415212177761\r\n"
     ]
    },
    {
     "name": "stdout",
     "output_type": "stream",
     "text": [
      "[2021-06-07 16:43:37,749][valid][INFO] - {\"epoch\": 5141, \"valid_loss\": \"1.006\", \"valid_ntokens\": \"3039.79\", \"valid_nsentences\": \"144.214\", \"valid_lm_score_sum\": \"-90177.3\", \"valid_num_pred_chars\": \"48727\", \"valid_vocab_seen_pct\": \"0.893728\", \"valid_uer\": \"100.63\", \"valid_weighted_lm_ppl\": \"74.924\", \"valid_lm_ppl\": \"59.8456\", \"valid_wps\": \"17200.2\", \"valid_wpb\": \"3039.8\", \"valid_bsz\": \"144.2\", \"valid_num_updates\": \"82256\", \"valid_best_weighted_lm_ppl\": \"73.0296\"}\r\n",
      "[2021-06-07 16:43:37,752][fairseq.checkpoint_utils][INFO] - Preparing to save checkpoint for epoch 5141 @ 82256 updates\r\n"
     ]
    },
    {
     "name": "stdout",
     "output_type": "stream",
     "text": [
      "[2021-06-07 16:43:37,754][fairseq.trainer][INFO] - Saving checkpoint to /kaggle/working/checkpoint_last.pt\r\n",
      "[2021-06-07 16:43:37,801][fairseq.trainer][INFO] - Finished saving checkpoint to /kaggle/working/checkpoint_last.pt\r\n",
      "[2021-06-07 16:43:37,801][fairseq.checkpoint_utils][INFO] - Saved checkpoint /kaggle/working/checkpoint_last.pt (epoch 5141 @ 82256 updates, score 74.9240207085552) (writing took 0.04876778099787771 seconds)\r\n",
      "[2021-06-07 16:43:37,802][fairseq_cli.train][INFO] - end of epoch 5141 (average epoch stats below)\r\n"
     ]
    },
    {
     "name": "stdout",
     "output_type": "stream",
     "text": [
      "[2021-06-07 16:43:37,805][train][INFO] - {\"epoch\": 5141, \"train_loss\": \"3.434\", \"train_ntokens\": \"145.688\", \"train_nsentences\": \"145.688\", \"train_temp\": \"0.1\", \"train_code_ppl\": \"8.677\", \"train_loss_code_pen\": \"0.321\", \"train_loss_smoothness\": \"2.062\", \"train_loss_dense_g\": \"4.136\", \"train_lm_score_sum\": 0.0, \"train_num_pred_chars\": 0.0, \"train_loss_grad_pen\": \"0.057\", \"train_loss_dense_d\": \"0.035\", \"train_loss_token_d\": \"0.024\", \"train_wps\": \"10.1\", \"train_ups\": \"0.07\", \"train_wpb\": \"145.7\", \"train_bsz\": \"145.7\", \"train_num_updates\": \"82256\", \"train_lr_discriminator\": \"0.0005\", \"train_lr_generator\": \"0.0004\", \"train_gnorm\": \"29.208\", \"train_clip\": \"68.8\", \"train_train_wall\": \"226\", \"train_wall\": \"19271\"}\r\n"
     ]
    },
    {
     "name": "stdout",
     "output_type": "stream",
     "text": [
      "[2021-06-07 16:43:37,864][fairseq.trainer][INFO] - begin training epoch 5142\r\n",
      "[2021-06-07 16:43:37,866][fairseq_cli.train][INFO] - Start iterating over samples\r\n"
     ]
    },
    {
     "name": "stdout",
     "output_type": "stream",
     "text": [
      "[2021-06-07 16:47:30,026][fairseq_cli.train][INFO] - begin validation on \"valid\" subset\r\n"
     ]
    },
    {
     "name": "stdout",
     "output_type": "stream",
     "text": [
      "[2021-06-07 16:47:32,669][fairseq.tasks.unpaired_audio_text][INFO] - REF: ɛ n f œ ʂ ə n a d ɵ ʂ ə k t f øː r d eː t s ɔ m h ɛ n d ə p oː ɕ œ r k ɔ n s ɛ t ə n\r\n",
      "[2021-06-07 16:47:32,671][fairseq.tasks.unpaired_audio_text][INFO] - HYP: n ɛ n s j œ r œ ʂ b j uː œ k uː ɵ n ə m œ k b ə uː s eː r n v oː s l ɪ ŋ k l ɪ l s ɔ k m k n t a\r\n",
      "[2021-06-07 16:47:32,675][fairseq.tasks.unpaired_audio_text][INFO] - LM [REF]: -53.44462585449219, 0.05339602260269112\r\n",
      "[2021-06-07 16:47:32,676][fairseq.tasks.unpaired_audio_text][INFO] - LM [HYP]: -85.23497772216797, 0.015363488359430381\r\n"
     ]
    },
    {
     "name": "stdout",
     "output_type": "stream",
     "text": [
      "[2021-06-07 16:47:33,194][valid][INFO] - {\"epoch\": 5142, \"valid_loss\": \"1.003\", \"valid_ntokens\": \"3039.79\", \"valid_nsentences\": \"144.214\", \"valid_lm_score_sum\": \"-89626\", \"valid_num_pred_chars\": \"48382\", \"valid_vocab_seen_pct\": \"0.891986\", \"valid_uer\": \"100.287\", \"valid_weighted_lm_ppl\": \"75.4295\", \"valid_lm_ppl\": \"60.0147\", \"valid_wps\": \"17416.9\", \"valid_wpb\": \"3039.8\", \"valid_bsz\": \"144.2\", \"valid_num_updates\": \"82272\", \"valid_best_weighted_lm_ppl\": \"73.0296\"}\r\n",
      "[2021-06-07 16:47:33,197][fairseq.checkpoint_utils][INFO] - Preparing to save checkpoint for epoch 5142 @ 82272 updates\r\n",
      "[2021-06-07 16:47:33,198][fairseq.trainer][INFO] - Saving checkpoint to /kaggle/working/checkpoint_last.pt\r\n"
     ]
    },
    {
     "name": "stdout",
     "output_type": "stream",
     "text": [
      "[2021-06-07 16:47:33,246][fairseq.trainer][INFO] - Finished saving checkpoint to /kaggle/working/checkpoint_last.pt\r\n",
      "[2021-06-07 16:47:33,246][fairseq.checkpoint_utils][INFO] - Saved checkpoint /kaggle/working/checkpoint_last.pt (epoch 5142 @ 82272 updates, score 75.4295026928789) (writing took 0.049595694999879925 seconds)\r\n",
      "[2021-06-07 16:47:33,247][fairseq_cli.train][INFO] - end of epoch 5142 (average epoch stats below)\r\n",
      "[2021-06-07 16:47:33,250][train][INFO] - {\"epoch\": 5142, \"train_loss\": \"3.206\", \"train_ntokens\": \"145.688\", \"train_nsentences\": \"145.688\", \"train_temp\": \"0.1\", \"train_code_ppl\": \"8.582\", \"train_loss_code_pen\": \"0.325\", \"train_loss_smoothness\": \"2.079\", \"train_loss_dense_g\": \"4.138\", \"train_lm_score_sum\": 0.0, \"train_num_pred_chars\": 0.0, \"train_loss_grad_pen\": \"0.058\", \"train_loss_dense_d\": \"0.025\", \"train_loss_token_d\": \"0.023\", \"train_wps\": \"9.9\", \"train_ups\": \"0.07\", \"train_wpb\": \"145.7\", \"train_bsz\": \"145.7\", \"train_num_updates\": \"82272\", \"train_lr_discriminator\": \"0.0005\", \"train_lr_generator\": \"0.0004\", \"train_gnorm\": \"29.987\", \"train_clip\": \"68.8\", \"train_train_wall\": \"232\", \"train_wall\": \"19507\"}\r\n"
     ]
    },
    {
     "name": "stdout",
     "output_type": "stream",
     "text": [
      "[2021-06-07 16:47:33,309][fairseq.trainer][INFO] - begin training epoch 5143\r\n",
      "[2021-06-07 16:47:33,310][fairseq_cli.train][INFO] - Start iterating over samples\r\n"
     ]
    },
    {
     "name": "stdout",
     "output_type": "stream",
     "text": [
      "[2021-06-07 16:51:26,803][fairseq_cli.train][INFO] - begin validation on \"valid\" subset\r\n"
     ]
    },
    {
     "name": "stdout",
     "output_type": "stream",
     "text": [
      "[2021-06-07 16:51:29,529][fairseq.tasks.unpaired_audio_text][INFO] - REF: ɛ n f œ ʂ ə n a d ɵ ʂ ə k t f øː r d eː t s ɔ m h ɛ n d ə p oː ɕ œ r k ɔ n s ɛ t ə n\r\n",
      "[2021-06-07 16:51:29,532][fairseq.tasks.unpaired_audio_text][INFO] - HYP: n ɪ n s j œ r œ j b j uː œ k uː ɵ v n ə m œ k b ə uː s eː r n v oː s l ɪ ŋ k l ɪ l s œ k m k n t a\r\n",
      "[2021-06-07 16:51:29,536][fairseq.tasks.unpaired_audio_text][INFO] - LM [REF]: -53.44462585449219, 0.05339602260269112\r\n",
      "[2021-06-07 16:51:29,536][fairseq.tasks.unpaired_audio_text][INFO] - LM [HYP]: -89.65510559082031, 0.013557677536547193\r\n"
     ]
    },
    {
     "name": "stdout",
     "output_type": "stream",
     "text": [
      "[2021-06-07 16:51:30,073][valid][INFO] - {\"epoch\": 5143, \"valid_loss\": \"1.004\", \"valid_ntokens\": \"3039.79\", \"valid_nsentences\": \"144.214\", \"valid_lm_score_sum\": \"-89741\", \"valid_num_pred_chars\": \"48454\", \"valid_vocab_seen_pct\": \"0.893728\", \"valid_uer\": \"100.383\", \"valid_weighted_lm_ppl\": \"75.0911\", \"valid_lm_ppl\": \"59.979\", \"valid_wps\": \"17219.7\", \"valid_wpb\": \"3039.8\", \"valid_bsz\": \"144.2\", \"valid_num_updates\": \"82288\", \"valid_best_weighted_lm_ppl\": \"73.0296\"}\r\n"
     ]
    },
    {
     "name": "stdout",
     "output_type": "stream",
     "text": [
      "[2021-06-07 16:51:30,076][fairseq.checkpoint_utils][INFO] - Preparing to save checkpoint for epoch 5143 @ 82288 updates\r\n",
      "[2021-06-07 16:51:30,077][fairseq.trainer][INFO] - Saving checkpoint to /kaggle/working/checkpoint_last.pt\r\n",
      "[2021-06-07 16:51:30,124][fairseq.trainer][INFO] - Finished saving checkpoint to /kaggle/working/checkpoint_last.pt\r\n",
      "[2021-06-07 16:51:30,124][fairseq.checkpoint_utils][INFO] - Saved checkpoint /kaggle/working/checkpoint_last.pt (epoch 5143 @ 82288 updates, score 75.09106562389135) (writing took 0.048134706001292216 seconds)\r\n",
      "[2021-06-07 16:51:30,124][fairseq_cli.train][INFO] - end of epoch 5143 (average epoch stats below)\r\n"
     ]
    },
    {
     "name": "stdout",
     "output_type": "stream",
     "text": [
      "[2021-06-07 16:51:30,127][train][INFO] - {\"epoch\": 5143, \"train_loss\": \"3.263\", \"train_ntokens\": \"145.688\", \"train_nsentences\": \"145.688\", \"train_temp\": \"0.1\", \"train_code_ppl\": \"8.634\", \"train_loss_code_pen\": \"0.325\", \"train_loss_smoothness\": \"2.068\", \"train_loss_dense_g\": \"4.218\", \"train_lm_score_sum\": 0.0, \"train_num_pred_chars\": 0.0, \"train_loss_grad_pen\": \"0.102\", \"train_loss_dense_d\": \"0.021\", \"train_loss_token_d\": \"0.026\", \"train_wps\": \"9.8\", \"train_ups\": \"0.07\", \"train_wpb\": \"145.7\", \"train_bsz\": \"145.7\", \"train_num_updates\": \"82288\", \"train_lr_discriminator\": \"0.0005\", \"train_lr_generator\": \"0.0004\", \"train_gnorm\": \"30.897\", \"train_clip\": \"81.2\", \"train_train_wall\": \"233\", \"train_wall\": \"19744\"}\r\n"
     ]
    },
    {
     "name": "stdout",
     "output_type": "stream",
     "text": [
      "[2021-06-07 16:51:30,186][fairseq.trainer][INFO] - begin training epoch 5144\r\n",
      "[2021-06-07 16:51:30,187][fairseq_cli.train][INFO] - Start iterating over samples\r\n"
     ]
    },
    {
     "name": "stdout",
     "output_type": "stream",
     "text": [
      "[2021-06-07 16:54:29,897][train_inner][INFO] - {\"epoch\": 5144, \"update\": 5143.75, \"loss\": \"3.408\", \"ntokens\": \"144.69\", \"nsentences\": \"144.69\", \"temp\": \"0.1\", \"code_ppl\": \"8.742\", \"loss_code_pen\": \"0.326\", \"loss_smoothness\": \"2.088\", \"loss_dense_g\": \"4.205\", \"lm_score_sum\": 0.0, \"num_pred_chars\": 0.0, \"loss_grad_pen\": \"0.074\", \"loss_dense_d\": \"0.026\", \"loss_token_d\": \"0.026\", \"wps\": \"10.2\", \"ups\": \"0.07\", \"wpb\": \"144.7\", \"bsz\": \"144.7\", \"num_updates\": \"82300\", \"lr_discriminator\": \"0.0005\", \"lr_generator\": \"0.0004\", \"gnorm\": \"30.826\", \"clip\": \"76\", \"train_wall\": \"1401\", \"wall\": \"19923\"}\r\n"
     ]
    },
    {
     "name": "stdout",
     "output_type": "stream",
     "text": [
      "[2021-06-07 16:55:31,262][fairseq_cli.train][INFO] - begin validation on \"valid\" subset\r\n"
     ]
    },
    {
     "name": "stdout",
     "output_type": "stream",
     "text": [
      "[2021-06-07 16:55:33,935][fairseq.tasks.unpaired_audio_text][INFO] - REF: ɛ n f œ ʂ ə n a d ɵ ʂ ə k t f øː r d eː t s ɔ m h ɛ n d ə p oː ɕ œ r k ɔ n s ɛ t ə n\r\n",
      "[2021-06-07 16:55:33,938][fairseq.tasks.unpaired_audio_text][INFO] - HYP: n ɪ n s j œ r œ b j uː œ yː k j uː ɵ øː n ə m œ k b ə uː s eː r n v oː s l ɪ ŋ k l ɪ l s ɔ œ k m k n t a\r\n",
      "[2021-06-07 16:55:33,942][fairseq.tasks.unpaired_audio_text][INFO] - LM [REF]: -53.44462585449219, 0.05339602260269112\r\n",
      "[2021-06-07 16:55:33,942][fairseq.tasks.unpaired_audio_text][INFO] - LM [HYP]: -93.90399932861328, 0.013240976458751172\r\n"
     ]
    },
    {
     "name": "stdout",
     "output_type": "stream",
     "text": [
      "[2021-06-07 16:55:34,555][valid][INFO] - {\"epoch\": 5144, \"valid_loss\": \"1.004\", \"valid_ntokens\": \"3039.79\", \"valid_nsentences\": \"144.214\", \"valid_lm_score_sum\": \"-90055.6\", \"valid_num_pred_chars\": \"48487\", \"valid_vocab_seen_pct\": \"0.893728\", \"valid_uer\": \"100.39\", \"valid_weighted_lm_ppl\": \"75.9724\", \"valid_lm_ppl\": \"60.683\", \"valid_wps\": \"16414\", \"valid_wpb\": \"3039.8\", \"valid_bsz\": \"144.2\", \"valid_num_updates\": \"82304\", \"valid_best_weighted_lm_ppl\": \"73.0296\"}\r\n",
      "[2021-06-07 16:55:34,558][fairseq.checkpoint_utils][INFO] - Preparing to save checkpoint for epoch 5144 @ 82304 updates\r\n",
      "[2021-06-07 16:55:34,560][fairseq.trainer][INFO] - Saving checkpoint to /kaggle/working/checkpoint_last.pt\r\n"
     ]
    },
    {
     "name": "stdout",
     "output_type": "stream",
     "text": [
      "[2021-06-07 16:55:34,610][fairseq.trainer][INFO] - Finished saving checkpoint to /kaggle/working/checkpoint_last.pt\r\n",
      "[2021-06-07 16:55:34,611][fairseq.checkpoint_utils][INFO] - Saved checkpoint /kaggle/working/checkpoint_last.pt (epoch 5144 @ 82304 updates, score 75.97241180745277) (writing took 0.05214067899942165 seconds)\r\n",
      "[2021-06-07 16:55:34,611][fairseq_cli.train][INFO] - end of epoch 5144 (average epoch stats below)\r\n",
      "[2021-06-07 16:55:34,614][train][INFO] - {\"epoch\": 5144, \"train_loss\": \"3.113\", \"train_ntokens\": \"145.688\", \"train_nsentences\": \"145.688\", \"train_temp\": \"0.1\", \"train_code_ppl\": \"8.671\", \"train_loss_code_pen\": \"0.326\", \"train_loss_smoothness\": \"2.072\", \"train_loss_dense_g\": \"4.37\", \"train_lm_score_sum\": 0.0, \"train_num_pred_chars\": 0.0, \"train_loss_grad_pen\": \"0.063\", \"train_loss_dense_d\": \"0.025\", \"train_loss_token_d\": \"0.023\", \"train_wps\": \"9.5\", \"train_ups\": \"0.07\", \"train_wpb\": \"145.7\", \"train_bsz\": \"145.7\", \"train_num_updates\": \"82304\", \"train_lr_discriminator\": \"0.0005\", \"train_lr_generator\": \"0.0004\", \"train_gnorm\": \"29.491\", \"train_clip\": \"68.8\", \"train_train_wall\": \"241\", \"train_wall\": \"19988\"}\r\n"
     ]
    },
    {
     "name": "stdout",
     "output_type": "stream",
     "text": [
      "[2021-06-07 16:55:34,679][fairseq.trainer][INFO] - begin training epoch 5145\r\n",
      "[2021-06-07 16:55:34,681][fairseq_cli.train][INFO] - Start iterating over samples\r\n"
     ]
    },
    {
     "name": "stdout",
     "output_type": "stream",
     "text": [
      "[2021-06-07 16:59:11,030][fairseq_cli.train][INFO] - begin validation on \"valid\" subset\r\n"
     ]
    },
    {
     "name": "stdout",
     "output_type": "stream",
     "text": [
      "[2021-06-07 16:59:13,745][fairseq.tasks.unpaired_audio_text][INFO] - REF: ɛ n f œ ʂ ə n a d ɵ ʂ ə k t f øː r d eː t s ɔ m h ɛ n d ə p oː ɕ œ r k ɔ n s ɛ t ə n\r\n",
      "[2021-06-07 16:59:13,748][fairseq.tasks.unpaired_audio_text][INFO] - HYP: n ɪ n s j œ r œ j b j uː œ yː k uː ɵ øː ə m œ k b ə uː s eː r n v oː s l ɪ ŋ k l ɪ l s œ k m k n t a\r\n",
      "[2021-06-07 16:59:13,752][fairseq.tasks.unpaired_audio_text][INFO] - LM [REF]: -53.44462585449219, 0.05339602260269112\r\n",
      "[2021-06-07 16:59:13,753][fairseq.tasks.unpaired_audio_text][INFO] - LM [HYP]: -89.16960144042969, 0.0138771400090906\r\n"
     ]
    },
    {
     "name": "stdout",
     "output_type": "stream",
     "text": [
      "[2021-06-07 16:59:14,284][valid][INFO] - {\"epoch\": 5145, \"valid_loss\": \"1.003\", \"valid_ntokens\": \"3039.79\", \"valid_nsentences\": \"144.214\", \"valid_lm_score_sum\": \"-89737.8\", \"valid_num_pred_chars\": \"48448\", \"valid_vocab_seen_pct\": \"0.888502\", \"valid_uer\": \"100.251\", \"valid_weighted_lm_ppl\": \"76.003\", \"valid_lm_ppl\": \"59.9995\", \"valid_wps\": \"16852.5\", \"valid_wpb\": \"3039.8\", \"valid_bsz\": \"144.2\", \"valid_num_updates\": \"82320\", \"valid_best_weighted_lm_ppl\": \"73.0296\"}\r\n",
      "[2021-06-07 16:59:14,288][fairseq.checkpoint_utils][INFO] - Preparing to save checkpoint for epoch 5145 @ 82320 updates\r\n",
      "[2021-06-07 16:59:14,289][fairseq.trainer][INFO] - Saving checkpoint to /kaggle/working/checkpoint_last.pt\r\n"
     ]
    },
    {
     "name": "stdout",
     "output_type": "stream",
     "text": [
      "[2021-06-07 16:59:14,337][fairseq.trainer][INFO] - Finished saving checkpoint to /kaggle/working/checkpoint_last.pt\r\n",
      "[2021-06-07 16:59:14,337][fairseq.checkpoint_utils][INFO] - Saved checkpoint /kaggle/working/checkpoint_last.pt (epoch 5145 @ 82320 updates, score 76.00302869078165) (writing took 0.049402124001062475 seconds)\r\n",
      "[2021-06-07 16:59:14,338][fairseq_cli.train][INFO] - end of epoch 5145 (average epoch stats below)\r\n",
      "[2021-06-07 16:59:14,341][train][INFO] - {\"epoch\": 5145, \"train_loss\": \"3.579\", \"train_ntokens\": \"145.688\", \"train_nsentences\": \"145.688\", \"train_temp\": \"0.1\", \"train_code_ppl\": \"8.576\", \"train_loss_code_pen\": \"0.315\", \"train_loss_smoothness\": \"2.068\", \"train_loss_dense_g\": \"4.35\", \"train_lm_score_sum\": 0.0, \"train_num_pred_chars\": 0.0, \"train_loss_grad_pen\": \"0.138\", \"train_loss_dense_d\": \"0.022\", \"train_loss_token_d\": \"0.027\", \"train_wps\": \"10.6\", \"train_ups\": \"0.07\", \"train_wpb\": \"145.7\", \"train_bsz\": \"145.7\", \"train_num_updates\": \"82320\", \"train_lr_discriminator\": \"0.0005\", \"train_lr_generator\": \"0.0004\", \"train_gnorm\": \"44.519\", \"train_clip\": \"87.5\", \"train_train_wall\": \"216\", \"train_wall\": \"20208\"}\r\n"
     ]
    },
    {
     "name": "stdout",
     "output_type": "stream",
     "text": [
      "[2021-06-07 16:59:14,400][fairseq.trainer][INFO] - begin training epoch 5146\r\n",
      "[2021-06-07 16:59:14,402][fairseq_cli.train][INFO] - Start iterating over samples\r\n"
     ]
    },
    {
     "name": "stdout",
     "output_type": "stream",
     "text": [
      "[2021-06-07 17:03:22,727][fairseq_cli.train][INFO] - begin validation on \"valid\" subset\r\n"
     ]
    },
    {
     "name": "stdout",
     "output_type": "stream",
     "text": [
      "[2021-06-07 17:03:25,569][fairseq.tasks.unpaired_audio_text][INFO] - REF: ɛ n f œ ʂ ə n a d ɵ ʂ ə k t f øː r d eː t s ɔ m h ɛ n d ə p oː ɕ œ r k ɔ n s ɛ t ə n\r\n",
      "[2021-06-07 17:03:25,572][fairseq.tasks.unpaired_audio_text][INFO] - HYP: n ɪ s j œ r œ j b j uː yː k uː ɵ ə m œ k b ə uː s eː r n v oː s l ɪ ŋ k l ɪ l s œ k m k n t a\r\n",
      "[2021-06-07 17:03:25,576][fairseq.tasks.unpaired_audio_text][INFO] - LM [REF]: -53.44462585449219, 0.05339602260269112\r\n",
      "[2021-06-07 17:03:25,577][fairseq.tasks.unpaired_audio_text][INFO] - LM [HYP]: -83.53543090820312, 0.013920572320919167\r\n"
     ]
    },
    {
     "name": "stdout",
     "output_type": "stream",
     "text": [
      "[2021-06-07 17:03:26,134][valid][INFO] - {\"epoch\": 5146, \"valid_loss\": \"1.004\", \"valid_ntokens\": \"3039.79\", \"valid_nsentences\": \"144.214\", \"valid_lm_score_sum\": \"-90102.5\", \"valid_num_pred_chars\": \"48606\", \"valid_vocab_seen_pct\": \"0.89547\", \"valid_uer\": \"100.399\", \"valid_weighted_lm_ppl\": \"75.1105\", \"valid_lm_ppl\": \"60.2286\", \"valid_wps\": \"16023.6\", \"valid_wpb\": \"3039.8\", \"valid_bsz\": \"144.2\", \"valid_num_updates\": \"82336\", \"valid_best_weighted_lm_ppl\": \"73.0296\"}\r\n",
      "[2021-06-07 17:03:26,137][fairseq.checkpoint_utils][INFO] - Preparing to save checkpoint for epoch 5146 @ 82336 updates\r\n",
      "[2021-06-07 17:03:26,138][fairseq.trainer][INFO] - Saving checkpoint to /kaggle/working/checkpoint_last.pt\r\n"
     ]
    },
    {
     "name": "stdout",
     "output_type": "stream",
     "text": [
      "[2021-06-07 17:03:26,187][fairseq.trainer][INFO] - Finished saving checkpoint to /kaggle/working/checkpoint_last.pt\r\n",
      "[2021-06-07 17:03:26,188][fairseq.checkpoint_utils][INFO] - Saved checkpoint /kaggle/working/checkpoint_last.pt (epoch 5146 @ 82336 updates, score 75.11048974980353) (writing took 0.050222775997099234 seconds)\r\n",
      "[2021-06-07 17:03:26,188][fairseq_cli.train][INFO] - end of epoch 5146 (average epoch stats below)\r\n",
      "[2021-06-07 17:03:26,192][train][INFO] - {\"epoch\": 5146, \"train_loss\": \"2.977\", \"train_ntokens\": \"145.688\", \"train_nsentences\": \"145.688\", \"train_temp\": \"0.1\", \"train_code_ppl\": \"8.721\", \"train_loss_code_pen\": \"0.328\", \"train_loss_smoothness\": \"2.085\", \"train_loss_dense_g\": \"4.036\", \"train_lm_score_sum\": 0.0, \"train_num_pred_chars\": 0.0, \"train_loss_grad_pen\": \"0.076\", \"train_loss_dense_d\": \"0.027\", \"train_loss_token_d\": \"0.022\", \"train_wps\": \"9.3\", \"train_ups\": \"0.06\", \"train_wpb\": \"145.7\", \"train_bsz\": \"145.7\", \"train_num_updates\": \"82336\", \"train_lr_discriminator\": \"0.0005\", \"train_lr_generator\": \"0.0004\", \"train_gnorm\": \"29.781\", \"train_clip\": \"68.8\", \"train_train_wall\": \"248\", \"train_wall\": \"20460\"}\r\n"
     ]
    },
    {
     "name": "stdout",
     "output_type": "stream",
     "text": [
      "[2021-06-07 17:03:26,255][fairseq.trainer][INFO] - begin training epoch 5147\r\n",
      "[2021-06-07 17:03:26,256][fairseq_cli.train][INFO] - Start iterating over samples\r\n"
     ]
    },
    {
     "name": "stdout",
     "output_type": "stream",
     "text": [
      "[2021-06-07 17:07:21,266][fairseq_cli.train][INFO] - begin validation on \"valid\" subset\r\n"
     ]
    },
    {
     "name": "stdout",
     "output_type": "stream",
     "text": [
      "[2021-06-07 17:07:24,279][fairseq.tasks.unpaired_audio_text][INFO] - REF: ɛ n f œ ʂ ə n a d ɵ ʂ ə k t f øː r d eː t s ɔ m h ɛ n d ə p oː ɕ œ r k ɔ n s ɛ t ə n\r\n",
      "[2021-06-07 17:07:24,282][fairseq.tasks.unpaired_audio_text][INFO] - HYP: n ɪ n s j œ r œ j ɕ b j uː œ yː k uː ɵ ə m œ k b ə uː s eː r n ɛ oː s l ɪ ŋ k ɪ l s œ k m k n t a\r\n",
      "[2021-06-07 17:07:24,286][fairseq.tasks.unpaired_audio_text][INFO] - LM [REF]: -53.44462585449219, 0.05339602260269112\r\n",
      "[2021-06-07 17:07:24,286][fairseq.tasks.unpaired_audio_text][INFO] - LM [HYP]: -87.96566009521484, 0.013439719688009447\r\n"
     ]
    },
    {
     "name": "stdout",
     "output_type": "stream",
     "text": [
      "[2021-06-07 17:07:24,837][valid][INFO] - {\"epoch\": 5147, \"valid_loss\": \"1.005\", \"valid_ntokens\": \"3039.79\", \"valid_nsentences\": \"144.214\", \"valid_lm_score_sum\": \"-90001.5\", \"valid_num_pred_chars\": \"48565\", \"valid_vocab_seen_pct\": \"0.893728\", \"valid_uer\": \"100.458\", \"valid_weighted_lm_ppl\": \"75.3073\", \"valid_lm_ppl\": \"60.1517\", \"valid_wps\": \"15248.3\", \"valid_wpb\": \"3039.8\", \"valid_bsz\": \"144.2\", \"valid_num_updates\": \"82352\", \"valid_best_weighted_lm_ppl\": \"73.0296\"}\r\n",
      "[2021-06-07 17:07:24,840][fairseq.checkpoint_utils][INFO] - Preparing to save checkpoint for epoch 5147 @ 82352 updates\r\n",
      "[2021-06-07 17:07:24,842][fairseq.trainer][INFO] - Saving checkpoint to /kaggle/working/checkpoint_last.pt\r\n"
     ]
    },
    {
     "name": "stdout",
     "output_type": "stream",
     "text": [
      "[2021-06-07 17:07:24,891][fairseq.trainer][INFO] - Finished saving checkpoint to /kaggle/working/checkpoint_last.pt\r\n",
      "[2021-06-07 17:07:24,891][fairseq.checkpoint_utils][INFO] - Saved checkpoint /kaggle/working/checkpoint_last.pt (epoch 5147 @ 82352 updates, score 75.30730974669699) (writing took 0.05070666399842594 seconds)\r\n",
      "[2021-06-07 17:07:24,892][fairseq_cli.train][INFO] - end of epoch 5147 (average epoch stats below)\r\n",
      "[2021-06-07 17:07:24,895][train][INFO] - {\"epoch\": 5147, \"train_loss\": \"3.353\", \"train_ntokens\": \"145.688\", \"train_nsentences\": \"145.688\", \"train_temp\": \"0.1\", \"train_code_ppl\": \"8.764\", \"train_loss_code_pen\": \"0.338\", \"train_loss_smoothness\": \"2.153\", \"train_loss_dense_g\": \"4.341\", \"train_lm_score_sum\": 0.0, \"train_num_pred_chars\": 0.0, \"train_loss_grad_pen\": \"0.068\", \"train_loss_dense_d\": \"0.025\", \"train_loss_token_d\": \"0.025\", \"train_wps\": \"9.8\", \"train_ups\": \"0.07\", \"train_wpb\": \"145.7\", \"train_bsz\": \"145.7\", \"train_num_updates\": \"82352\", \"train_lr_discriminator\": \"0.0005\", \"train_lr_generator\": \"0.0004\", \"train_gnorm\": \"29.884\", \"train_clip\": \"62.5\", \"train_train_wall\": \"234\", \"train_wall\": \"20698\"}\r\n"
     ]
    },
    {
     "name": "stdout",
     "output_type": "stream",
     "text": [
      "[2021-06-07 17:07:24,957][fairseq.trainer][INFO] - begin training epoch 5148\r\n"
     ]
    },
    {
     "name": "stdout",
     "output_type": "stream",
     "text": [
      "[2021-06-07 17:07:24,958][fairseq_cli.train][INFO] - Start iterating over samples\r\n"
     ]
    },
    {
     "name": "stdout",
     "output_type": "stream",
     "text": [
      "[2021-06-07 17:11:06,243][fairseq_cli.train][INFO] - begin validation on \"valid\" subset\r\n"
     ]
    },
    {
     "name": "stdout",
     "output_type": "stream",
     "text": [
      "[2021-06-07 17:11:09,143][fairseq.tasks.unpaired_audio_text][INFO] - REF: ɛ n f œ ʂ ə n a d ɵ ʂ ə k t f øː r d eː t s ɔ m h ɛ n d ə p oː ɕ œ r k ɔ n s ɛ t ə n\r\n",
      "[2021-06-07 17:11:09,146][fairseq.tasks.unpaired_audio_text][INFO] - HYP: n ɪ n s j œ r œ j ʃ b j uː œ yː k j uː ɵ v ə m œ k b ə uː s eː r n v oː s l ɪ ŋ k l ɪ l s œ k m k n t a\r\n",
      "[2021-06-07 17:11:09,150][fairseq.tasks.unpaired_audio_text][INFO] - LM [REF]: -53.44462585449219, 0.05339602260269112\r\n",
      "[2021-06-07 17:11:09,151][fairseq.tasks.unpaired_audio_text][INFO] - LM [HYP]: -93.83049011230469, 0.013285876091631397\r\n"
     ]
    },
    {
     "name": "stdout",
     "output_type": "stream",
     "text": [
      "[2021-06-07 17:11:09,740][valid][INFO] - {\"epoch\": 5148, \"valid_loss\": \"1.003\", \"valid_ntokens\": \"3039.79\", \"valid_nsentences\": \"144.214\", \"valid_lm_score_sum\": \"-89801.4\", \"valid_num_pred_chars\": \"48537\", \"valid_vocab_seen_pct\": \"0.891986\", \"valid_uer\": \"100.331\", \"valid_weighted_lm_ppl\": \"75.0861\", \"valid_lm_ppl\": \"59.7414\", \"valid_wps\": \"15453.7\", \"valid_wpb\": \"3039.8\", \"valid_bsz\": \"144.2\", \"valid_num_updates\": \"82368\", \"valid_best_weighted_lm_ppl\": \"73.0296\"}\r\n",
      "[2021-06-07 17:11:09,744][fairseq.checkpoint_utils][INFO] - Preparing to save checkpoint for epoch 5148 @ 82368 updates\r\n",
      "[2021-06-07 17:11:09,745][fairseq.trainer][INFO] - Saving checkpoint to /kaggle/working/checkpoint_last.pt\r\n"
     ]
    },
    {
     "name": "stdout",
     "output_type": "stream",
     "text": [
      "[2021-06-07 17:11:09,793][fairseq.trainer][INFO] - Finished saving checkpoint to /kaggle/working/checkpoint_last.pt\r\n",
      "[2021-06-07 17:11:09,793][fairseq.checkpoint_utils][INFO] - Saved checkpoint /kaggle/working/checkpoint_last.pt (epoch 5148 @ 82368 updates, score 75.08609987743523) (writing took 0.049536569000338204 seconds)\r\n",
      "[2021-06-07 17:11:09,794][fairseq_cli.train][INFO] - end of epoch 5148 (average epoch stats below)\r\n",
      "[2021-06-07 17:11:09,798][train][INFO] - {\"epoch\": 5148, \"train_loss\": \"3.519\", \"train_ntokens\": \"145.688\", \"train_nsentences\": \"145.688\", \"train_temp\": \"0.1\", \"train_code_ppl\": \"8.583\", \"train_loss_code_pen\": \"0.318\", \"train_loss_smoothness\": \"2.052\", \"train_loss_dense_g\": \"4.253\", \"train_lm_score_sum\": 0.0, \"train_num_pred_chars\": 0.0, \"train_loss_grad_pen\": \"0.12\", \"train_loss_dense_d\": \"0.025\", \"train_loss_token_d\": \"0.034\", \"train_wps\": \"10.4\", \"train_ups\": \"0.07\", \"train_wpb\": \"145.7\", \"train_bsz\": \"145.7\", \"train_num_updates\": \"82368\", \"train_lr_discriminator\": \"0.0005\", \"train_lr_generator\": \"0.0004\", \"train_gnorm\": \"34.777\", \"train_clip\": \"87.5\", \"train_train_wall\": \"221\", \"train_wall\": \"20923\"}\r\n"
     ]
    },
    {
     "name": "stdout",
     "output_type": "stream",
     "text": [
      "[2021-06-07 17:11:09,857][fairseq.trainer][INFO] - begin training epoch 5149\r\n",
      "[2021-06-07 17:11:09,859][fairseq_cli.train][INFO] - Start iterating over samples\r\n"
     ]
    },
    {
     "name": "stdout",
     "output_type": "stream",
     "text": [
      "[2021-06-07 17:15:22,033][fairseq_cli.train][INFO] - begin validation on \"valid\" subset\r\n"
     ]
    },
    {
     "name": "stdout",
     "output_type": "stream",
     "text": [
      "[2021-06-07 17:15:24,852][fairseq.tasks.unpaired_audio_text][INFO] - REF: ɛ n f œ ʂ ə n a d ɵ ʂ ə k t f øː r d eː t s ɔ m h ɛ n d ə p oː ɕ œ r k ɔ n s ɛ t ə n\r\n",
      "[2021-06-07 17:15:24,855][fairseq.tasks.unpaired_audio_text][INFO] - HYP: n ɪ n s j œ r œ j b j uː œ yː k j uː ɵ v ə m œ k b ə uː s eː r n v oː s l ɪ ŋ k l ɪ l s œ k m k n t a\r\n"
     ]
    },
    {
     "name": "stdout",
     "output_type": "stream",
     "text": [
      "[2021-06-07 17:15:24,860][fairseq.tasks.unpaired_audio_text][INFO] - LM [REF]: -53.44462585449219, 0.05339602260269112\r\n",
      "[2021-06-07 17:15:24,860][fairseq.tasks.unpaired_audio_text][INFO] - LM [HYP]: -91.3884048461914, 0.013643648221983539\r\n"
     ]
    },
    {
     "name": "stdout",
     "output_type": "stream",
     "text": [
      "[2021-06-07 17:15:25,416][valid][INFO] - {\"epoch\": 5149, \"valid_loss\": \"1.004\", \"valid_ntokens\": \"3039.79\", \"valid_nsentences\": \"144.214\", \"valid_lm_score_sum\": \"-89942.8\", \"valid_num_pred_chars\": \"48512\", \"valid_vocab_seen_pct\": \"0.890244\", \"valid_uer\": \"100.397\", \"valid_weighted_lm_ppl\": \"76.0213\", \"valid_lm_ppl\": \"60.2495\", \"valid_wps\": \"16386.6\", \"valid_wpb\": \"3039.8\", \"valid_bsz\": \"144.2\", \"valid_num_updates\": \"82384\", \"valid_best_weighted_lm_ppl\": \"73.0296\"}\r\n",
      "[2021-06-07 17:15:25,420][fairseq.checkpoint_utils][INFO] - Preparing to save checkpoint for epoch 5149 @ 82384 updates\r\n",
      "[2021-06-07 17:15:25,421][fairseq.trainer][INFO] - Saving checkpoint to /kaggle/working/checkpoint_last.pt\r\n"
     ]
    },
    {
     "name": "stdout",
     "output_type": "stream",
     "text": [
      "[2021-06-07 17:15:25,475][fairseq.trainer][INFO] - Finished saving checkpoint to /kaggle/working/checkpoint_last.pt\r\n",
      "[2021-06-07 17:15:25,476][fairseq.checkpoint_utils][INFO] - Saved checkpoint /kaggle/working/checkpoint_last.pt (epoch 5149 @ 82384 updates, score 76.02130114017196) (writing took 0.05611789199974737 seconds)\r\n",
      "[2021-06-07 17:15:25,476][fairseq_cli.train][INFO] - end of epoch 5149 (average epoch stats below)\r\n",
      "[2021-06-07 17:15:25,479][train][INFO] - {\"epoch\": 5149, \"train_loss\": \"2.925\", \"train_ntokens\": \"145.688\", \"train_nsentences\": \"145.688\", \"train_temp\": \"0.1\", \"train_code_ppl\": \"8.552\", \"train_loss_code_pen\": \"0.325\", \"train_loss_smoothness\": \"2.054\", \"train_loss_dense_g\": \"3.953\", \"train_lm_score_sum\": 0.0, \"train_num_pred_chars\": 0.0, \"train_loss_grad_pen\": \"0.078\", \"train_loss_dense_d\": \"0.027\", \"train_loss_token_d\": \"0.023\", \"train_wps\": \"9.1\", \"train_ups\": \"0.06\", \"train_wpb\": \"145.7\", \"train_bsz\": \"145.7\", \"train_num_updates\": \"82384\", \"train_lr_discriminator\": \"0.0005\", \"train_lr_generator\": \"0.0004\", \"train_gnorm\": \"30.291\", \"train_clip\": \"81.2\", \"train_train_wall\": \"252\", \"train_wall\": \"21179\"}\r\n"
     ]
    },
    {
     "name": "stdout",
     "output_type": "stream",
     "text": [
      "[2021-06-07 17:15:25,542][fairseq.trainer][INFO] - begin training epoch 5150\r\n",
      "[2021-06-07 17:15:25,544][fairseq_cli.train][INFO] - Start iterating over samples\r\n"
     ]
    },
    {
     "name": "stdout",
     "output_type": "stream",
     "text": [
      "[2021-06-07 17:19:09,849][train_inner][INFO] - {\"epoch\": 5150, \"update\": 5150.0, \"loss\": \"3.292\", \"ntokens\": \"145.54\", \"nsentences\": \"145.54\", \"temp\": \"0.1\", \"code_ppl\": \"8.629\", \"loss_code_pen\": \"0.325\", \"loss_smoothness\": \"2.078\", \"loss_dense_g\": \"4.196\", \"lm_score_sum\": 0.0, \"num_pred_chars\": 0.0, \"loss_grad_pen\": \"0.094\", \"loss_dense_d\": \"0.024\", \"loss_token_d\": \"0.026\", \"wps\": \"9.8\", \"ups\": \"0.07\", \"wpb\": \"145.5\", \"bsz\": \"145.5\", \"num_updates\": \"82400\", \"lr_discriminator\": \"0.0005\", \"lr_generator\": \"0.0004\", \"gnorm\": \"33.217\", \"clip\": \"77\", \"train_wall\": \"1455\", \"wall\": \"21403\"}\r\n",
      "[2021-06-07 17:19:09,851][fairseq_cli.train][INFO] - begin validation on \"valid\" subset\r\n"
     ]
    },
    {
     "name": "stdout",
     "output_type": "stream",
     "text": [
      "[2021-06-07 17:19:12,893][fairseq.tasks.unpaired_audio_text][INFO] - REF: ɛ n f œ ʂ ə n a d ɵ ʂ ə k t f øː r d eː t s ɔ m h ɛ n d ə p oː ɕ œ r k ɔ n s ɛ t ə n\r\n",
      "[2021-06-07 17:19:12,896][fairseq.tasks.unpaired_audio_text][INFO] - HYP: n ɪ n s j œ r œ j b j uː œ yː k uː ɵ ə m œ k b ə uː s eː r n ɛ oː s l ɪ ŋ k l ɪ l s œ k m k n t a\r\n",
      "[2021-06-07 17:19:12,900][fairseq.tasks.unpaired_audio_text][INFO] - LM [REF]: -53.44462585449219, 0.05339602260269112\r\n",
      "[2021-06-07 17:19:12,901][fairseq.tasks.unpaired_audio_text][INFO] - LM [HYP]: -87.41816711425781, 0.013805082220783043\r\n"
     ]
    },
    {
     "name": "stdout",
     "output_type": "stream",
     "text": [
      "[2021-06-07 17:19:13,527][valid][INFO] - {\"epoch\": 5150, \"valid_loss\": \"1.003\", \"valid_ntokens\": \"3039.79\", \"valid_nsentences\": \"144.214\", \"valid_lm_score_sum\": \"-89753.7\", \"valid_num_pred_chars\": \"48458\", \"valid_vocab_seen_pct\": \"0.885017\", \"valid_uer\": \"100.329\", \"valid_weighted_lm_ppl\": \"76.5962\", \"valid_lm_ppl\": \"59.9944\", \"valid_wps\": \"14826.1\", \"valid_wpb\": \"3039.8\", \"valid_bsz\": \"144.2\", \"valid_num_updates\": \"82400\", \"valid_best_weighted_lm_ppl\": \"73.0296\"}\r\n",
      "[2021-06-07 17:19:13,531][fairseq.checkpoint_utils][INFO] - Preparing to save checkpoint for epoch 5150 @ 82400 updates\r\n",
      "[2021-06-07 17:19:13,532][fairseq.trainer][INFO] - Saving checkpoint to /kaggle/working/checkpoint_last.pt\r\n"
     ]
    },
    {
     "name": "stdout",
     "output_type": "stream",
     "text": [
      "[2021-06-07 17:19:13,591][fairseq.trainer][INFO] - Finished saving checkpoint to /kaggle/working/checkpoint_last.pt\r\n",
      "[2021-06-07 17:19:13,591][fairseq.checkpoint_utils][INFO] - Saved checkpoint /kaggle/working/checkpoint_last.pt (epoch 5150 @ 82400 updates, score 76.59623738409414) (writing took 0.06041269799970905 seconds)\r\n",
      "[2021-06-07 17:19:13,592][fairseq_cli.train][INFO] - end of epoch 5150 (average epoch stats below)\r\n",
      "[2021-06-07 17:19:13,597][train][INFO] - {\"epoch\": 5150, \"train_loss\": \"3.46\", \"train_ntokens\": \"145.688\", \"train_nsentences\": \"145.688\", \"train_temp\": \"0.1\", \"train_code_ppl\": \"8.705\", \"train_loss_code_pen\": \"0.324\", \"train_loss_smoothness\": \"2.075\", \"train_loss_dense_g\": \"4.15\", \"train_lm_score_sum\": 0.0, \"train_num_pred_chars\": 0.0, \"train_loss_grad_pen\": \"0.091\", \"train_loss_dense_d\": \"0.022\", \"train_loss_token_d\": \"0.024\", \"train_wps\": \"10.2\", \"train_ups\": \"0.07\", \"train_wpb\": \"145.7\", \"train_bsz\": \"145.7\", \"train_num_updates\": \"82400\", \"train_lr_discriminator\": \"0.0005\", \"train_lr_generator\": \"0.0004\", \"train_gnorm\": \"30.508\", \"train_clip\": \"68.8\", \"train_train_wall\": \"224\", \"train_wall\": \"21407\"}\r\n"
     ]
    },
    {
     "name": "stdout",
     "output_type": "stream",
     "text": [
      "[2021-06-07 17:19:13,670][fairseq.trainer][INFO] - begin training epoch 5151\r\n",
      "[2021-06-07 17:19:13,672][fairseq_cli.train][INFO] - Start iterating over samples\r\n"
     ]
    },
    {
     "name": "stdout",
     "output_type": "stream",
     "text": [
      "[2021-06-07 17:22:55,191][fairseq_cli.train][INFO] - begin validation on \"valid\" subset\r\n"
     ]
    },
    {
     "name": "stdout",
     "output_type": "stream",
     "text": [
      "[2021-06-07 17:22:57,970][fairseq.tasks.unpaired_audio_text][INFO] - REF: ɛ n f œ ʂ ə n a d ɵ ʂ ə k t f øː r d eː t s ɔ m h ɛ n d ə p oː ɕ œ r k ɔ n s ɛ t ə n\r\n",
      "[2021-06-07 17:22:57,973][fairseq.tasks.unpaired_audio_text][INFO] - HYP: n ɪ n s j œ r œ j b j uː œ yː k j uː ɵ j ə m œ k b ə uː s eː r n v oː s l ɪ ŋ k l ɪ l s œ k m k n t a\r\n",
      "[2021-06-07 17:22:57,979][fairseq.tasks.unpaired_audio_text][INFO] - LM [REF]: -53.44462585449219, 0.05339602260269112\r\n",
      "[2021-06-07 17:22:57,979][fairseq.tasks.unpaired_audio_text][INFO] - LM [HYP]: -91.24488067626953, 0.013735977729970905\r\n"
     ]
    },
    {
     "name": "stdout",
     "output_type": "stream",
     "text": [
      "[2021-06-07 17:22:58,513][valid][INFO] - {\"epoch\": 5151, \"valid_loss\": \"1.002\", \"valid_ntokens\": \"3039.79\", \"valid_nsentences\": \"144.214\", \"valid_lm_score_sum\": \"-89602.2\", \"valid_num_pred_chars\": \"48379\", \"valid_vocab_seen_pct\": \"0.883275\", \"valid_uer\": \"100.174\", \"valid_weighted_lm_ppl\": \"76.8598\", \"valid_lm_ppl\": \"59.9641\", \"valid_wps\": \"16812.3\", \"valid_wpb\": \"3039.8\", \"valid_bsz\": \"144.2\", \"valid_num_updates\": \"82416\", \"valid_best_weighted_lm_ppl\": \"73.0296\"}\r\n",
      "[2021-06-07 17:22:58,516][fairseq.checkpoint_utils][INFO] - Preparing to save checkpoint for epoch 5151 @ 82416 updates\r\n",
      "[2021-06-07 17:22:58,518][fairseq.trainer][INFO] - Saving checkpoint to /kaggle/working/checkpoint_last.pt\r\n"
     ]
    },
    {
     "name": "stdout",
     "output_type": "stream",
     "text": [
      "[2021-06-07 17:22:58,566][fairseq.trainer][INFO] - Finished saving checkpoint to /kaggle/working/checkpoint_last.pt\r\n",
      "[2021-06-07 17:22:58,566][fairseq.checkpoint_utils][INFO] - Saved checkpoint /kaggle/working/checkpoint_last.pt (epoch 5151 @ 82416 updates, score 76.85984011534205) (writing took 0.04978870899867616 seconds)\r\n",
      "[2021-06-07 17:22:58,567][fairseq_cli.train][INFO] - end of epoch 5151 (average epoch stats below)\r\n",
      "[2021-06-07 17:22:58,570][train][INFO] - {\"epoch\": 5151, \"train_loss\": \"3.426\", \"train_ntokens\": \"145.688\", \"train_nsentences\": \"145.688\", \"train_temp\": \"0.1\", \"train_code_ppl\": \"8.726\", \"train_loss_code_pen\": \"0.328\", \"train_loss_smoothness\": \"2.092\", \"train_loss_dense_g\": \"3.984\", \"train_lm_score_sum\": 0.0, \"train_num_pred_chars\": 0.0, \"train_loss_grad_pen\": \"0.171\", \"train_loss_dense_d\": \"0.023\", \"train_loss_token_d\": \"0.028\", \"train_wps\": \"10.4\", \"train_ups\": \"0.07\", \"train_wpb\": \"145.7\", \"train_bsz\": \"145.7\", \"train_num_updates\": \"82416\", \"train_lr_discriminator\": \"0.0005\", \"train_lr_generator\": \"0.0004\", \"train_gnorm\": \"44.89\", \"train_clip\": \"56.2\", \"train_train_wall\": \"221\", \"train_wall\": \"21632\"}\r\n"
     ]
    },
    {
     "name": "stdout",
     "output_type": "stream",
     "text": [
      "[2021-06-07 17:22:58,629][fairseq.trainer][INFO] - begin training epoch 5152\r\n",
      "[2021-06-07 17:22:58,631][fairseq_cli.train][INFO] - Start iterating over samples\r\n"
     ]
    },
    {
     "name": "stdout",
     "output_type": "stream",
     "text": [
      "[2021-06-07 17:26:40,014][fairseq_cli.train][INFO] - begin validation on \"valid\" subset\r\n"
     ]
    },
    {
     "name": "stdout",
     "output_type": "stream",
     "text": [
      "[2021-06-07 17:26:42,895][fairseq.tasks.unpaired_audio_text][INFO] - REF: ɛ n f œ ʂ ə n a d ɵ ʂ ə k t f øː r d eː t s ɔ m h ɛ n d ə p oː ɕ œ r k ɔ n s ɛ t ə n\r\n",
      "[2021-06-07 17:26:42,898][fairseq.tasks.unpaired_audio_text][INFO] - HYP: n ɪ n s j œ r œ j b j uː œ yː k j uː ɵ v ə m œ k b ə uː s eː r n v oː s l ɪ ŋ k l ɪ l s œ k m k l t a\r\n",
      "[2021-06-07 17:26:42,903][fairseq.tasks.unpaired_audio_text][INFO] - LM [REF]: -53.44462585449219, 0.05339602260269112\r\n",
      "[2021-06-07 17:26:42,903][fairseq.tasks.unpaired_audio_text][INFO] - LM [HYP]: -91.0152359008789, 0.013885010295375713\r\n"
     ]
    },
    {
     "name": "stdout",
     "output_type": "stream",
     "text": [
      "[2021-06-07 17:26:43,473][valid][INFO] - {\"epoch\": 5152, \"valid_loss\": \"1.002\", \"valid_ntokens\": \"3039.79\", \"valid_nsentences\": \"144.214\", \"valid_lm_score_sum\": \"-89597.8\", \"valid_num_pred_chars\": \"48424\", \"valid_vocab_seen_pct\": \"0.890244\", \"valid_uer\": \"100.214\", \"valid_weighted_lm_ppl\": \"75.3703\", \"valid_lm_ppl\": \"59.7335\", \"valid_wps\": \"15615.8\", \"valid_wpb\": \"3039.8\", \"valid_bsz\": \"144.2\", \"valid_num_updates\": \"82432\", \"valid_best_weighted_lm_ppl\": \"73.0296\"}\r\n",
      "[2021-06-07 17:26:43,477][fairseq.checkpoint_utils][INFO] - Preparing to save checkpoint for epoch 5152 @ 82432 updates\r\n",
      "[2021-06-07 17:26:43,478][fairseq.trainer][INFO] - Saving checkpoint to /kaggle/working/checkpoint_last.pt\r\n"
     ]
    },
    {
     "name": "stdout",
     "output_type": "stream",
     "text": [
      "[2021-06-07 17:26:43,530][fairseq.trainer][INFO] - Finished saving checkpoint to /kaggle/working/checkpoint_last.pt\r\n",
      "[2021-06-07 17:26:43,530][fairseq.checkpoint_utils][INFO] - Saved checkpoint /kaggle/working/checkpoint_last.pt (epoch 5152 @ 82432 updates, score 75.37029870713748) (writing took 0.05346064299737918 seconds)\r\n",
      "[2021-06-07 17:26:43,531][fairseq_cli.train][INFO] - end of epoch 5152 (average epoch stats below)\r\n",
      "[2021-06-07 17:26:43,535][train][INFO] - {\"epoch\": 5152, \"train_loss\": \"3.721\", \"train_ntokens\": \"145.688\", \"train_nsentences\": \"145.688\", \"train_temp\": \"0.1\", \"train_code_ppl\": \"8.834\", \"train_loss_code_pen\": \"0.345\", \"train_loss_smoothness\": \"2.164\", \"train_loss_dense_g\": \"4.116\", \"train_lm_score_sum\": 0.0, \"train_num_pred_chars\": 0.0, \"train_loss_grad_pen\": \"0.125\", \"train_loss_dense_d\": \"0.032\", \"train_loss_token_d\": \"0.027\", \"train_wps\": \"10.4\", \"train_ups\": \"0.07\", \"train_wpb\": \"145.7\", \"train_bsz\": \"145.7\", \"train_num_updates\": \"82432\", \"train_lr_discriminator\": \"0.0005\", \"train_lr_generator\": \"0.0004\", \"train_gnorm\": \"36.382\", \"train_clip\": \"81.2\", \"train_train_wall\": \"221\", \"train_wall\": \"21857\"}\r\n"
     ]
    },
    {
     "name": "stdout",
     "output_type": "stream",
     "text": [
      "[2021-06-07 17:26:43,598][fairseq.trainer][INFO] - begin training epoch 5153\r\n",
      "[2021-06-07 17:26:43,599][fairseq_cli.train][INFO] - Start iterating over samples\r\n"
     ]
    },
    {
     "name": "stdout",
     "output_type": "stream",
     "text": [
      "[2021-06-07 17:30:47,989][fairseq_cli.train][INFO] - begin validation on \"valid\" subset\r\n"
     ]
    },
    {
     "name": "stdout",
     "output_type": "stream",
     "text": [
      "[2021-06-07 17:30:50,696][fairseq.tasks.unpaired_audio_text][INFO] - REF: ɛ n f œ ʂ ə n a d ɵ ʂ ə k t f øː r d eː t s ɔ m h ɛ n d ə p oː ɕ œ r k ɔ n s ɛ t ə n\r\n",
      "[2021-06-07 17:30:50,698][fairseq.tasks.unpaired_audio_text][INFO] - HYP: n ɪ n s j œ r œ b j uː œ yː k j uː ɵ ə m œ k b ə uː s eː r n v oː s l ɪ ŋ k l ɪ l s œ k m k l t a\r\n",
      "[2021-06-07 17:30:50,702][fairseq.tasks.unpaired_audio_text][INFO] - LM [REF]: -53.44462585449219, 0.05339602260269112\r\n",
      "[2021-06-07 17:30:50,703][fairseq.tasks.unpaired_audio_text][INFO] - LM [HYP]: -87.46027374267578, 0.013776633716989867\r\n"
     ]
    },
    {
     "name": "stdout",
     "output_type": "stream",
     "text": [
      "[2021-06-07 17:30:51,229][valid][INFO] - {\"epoch\": 5153, \"valid_loss\": \"1\", \"valid_ntokens\": \"3039.79\", \"valid_nsentences\": \"144.214\", \"valid_lm_score_sum\": \"-89608.2\", \"valid_num_pred_chars\": \"48300\", \"valid_vocab_seen_pct\": \"0.888502\", \"valid_uer\": \"100.047\", \"valid_weighted_lm_ppl\": \"76.4692\", \"valid_lm_ppl\": \"60.3675\", \"valid_wps\": \"17098.1\", \"valid_wpb\": \"3039.8\", \"valid_bsz\": \"144.2\", \"valid_num_updates\": \"82448\", \"valid_best_weighted_lm_ppl\": \"73.0296\"}\r\n",
      "[2021-06-07 17:30:51,232][fairseq.checkpoint_utils][INFO] - Preparing to save checkpoint for epoch 5153 @ 82448 updates\r\n",
      "[2021-06-07 17:30:51,233][fairseq.trainer][INFO] - Saving checkpoint to /kaggle/working/checkpoint_last.pt\r\n"
     ]
    },
    {
     "name": "stdout",
     "output_type": "stream",
     "text": [
      "[2021-06-07 17:30:51,281][fairseq.trainer][INFO] - Finished saving checkpoint to /kaggle/working/checkpoint_last.pt\r\n",
      "[2021-06-07 17:30:51,281][fairseq.checkpoint_utils][INFO] - Saved checkpoint /kaggle/working/checkpoint_last.pt (epoch 5153 @ 82448 updates, score 76.46924817018962) (writing took 0.048552903997915564 seconds)\r\n",
      "[2021-06-07 17:30:51,281][fairseq_cli.train][INFO] - end of epoch 5153 (average epoch stats below)\r\n",
      "[2021-06-07 17:30:51,285][train][INFO] - {\"epoch\": 5153, \"train_loss\": \"3.152\", \"train_ntokens\": \"145.688\", \"train_nsentences\": \"145.688\", \"train_temp\": \"0.1\", \"train_code_ppl\": \"8.808\", \"train_loss_code_pen\": \"0.341\", \"train_loss_smoothness\": \"2.144\", \"train_loss_dense_g\": \"3.943\", \"train_lm_score_sum\": 0.0, \"train_num_pred_chars\": 0.0, \"train_loss_grad_pen\": \"0.051\", \"train_loss_dense_d\": \"0.028\", \"train_loss_token_d\": \"0.028\", \"train_wps\": \"9.4\", \"train_ups\": \"0.06\", \"train_wpb\": \"145.7\", \"train_bsz\": \"145.7\", \"train_num_updates\": \"82448\", \"train_lr_discriminator\": \"0.0005\", \"train_lr_generator\": \"0.0004\", \"train_gnorm\": \"28.73\", \"train_clip\": \"68.8\", \"train_train_wall\": \"244\", \"train_wall\": \"22105\"}\r\n"
     ]
    },
    {
     "name": "stdout",
     "output_type": "stream",
     "text": [
      "[2021-06-07 17:30:51,344][fairseq.trainer][INFO] - begin training epoch 5154\r\n"
     ]
    },
    {
     "name": "stdout",
     "output_type": "stream",
     "text": [
      "[2021-06-07 17:30:51,346][fairseq_cli.train][INFO] - Start iterating over samples\r\n"
     ]
    },
    {
     "name": "stdout",
     "output_type": "stream",
     "text": [
      "[2021-06-07 17:35:02,664][fairseq_cli.train][INFO] - begin validation on \"valid\" subset\r\n"
     ]
    },
    {
     "name": "stdout",
     "output_type": "stream",
     "text": [
      "[2021-06-07 17:35:05,443][fairseq.tasks.unpaired_audio_text][INFO] - REF: ɛ n f œ ʂ ə n a d ɵ ʂ ə k t f øː r d eː t s ɔ m h ɛ n d ə p oː ɕ œ r k ɔ n s ɛ t ə n\r\n",
      "[2021-06-07 17:35:05,446][fairseq.tasks.unpaired_audio_text][INFO] - HYP: n ɪ n s j œ r œ j b j uː œ yː k j uː ɵ øː j ə m œ k b ə uː s eː r n v oː s l ɪ ŋ k l ɪ l s œ m k l t a\r\n",
      "[2021-06-07 17:35:05,450][fairseq.tasks.unpaired_audio_text][INFO] - LM [REF]: -53.44462585449219, 0.05339602260269112\r\n",
      "[2021-06-07 17:35:05,450][fairseq.tasks.unpaired_audio_text][INFO] - LM [HYP]: -90.03770446777344, 0.014537704173450962\r\n"
     ]
    },
    {
     "name": "stdout",
     "output_type": "stream",
     "text": [
      "[2021-06-07 17:35:06,013][valid][INFO] - {\"epoch\": 5154, \"valid_loss\": \"1.003\", \"valid_ntokens\": \"3039.79\", \"valid_nsentences\": \"144.214\", \"valid_lm_score_sum\": \"-89809.9\", \"valid_num_pred_chars\": \"48483\", \"valid_vocab_seen_pct\": \"0.883275\", \"valid_uer\": \"100.303\", \"valid_weighted_lm_ppl\": \"76.9399\", \"valid_lm_ppl\": \"60.0266\", \"valid_wps\": \"16405.7\", \"valid_wpb\": \"3039.8\", \"valid_bsz\": \"144.2\", \"valid_num_updates\": \"82464\", \"valid_best_weighted_lm_ppl\": \"73.0296\"}\r\n",
      "[2021-06-07 17:35:06,016][fairseq.checkpoint_utils][INFO] - Preparing to save checkpoint for epoch 5154 @ 82464 updates\r\n",
      "[2021-06-07 17:35:06,017][fairseq.trainer][INFO] - Saving checkpoint to /kaggle/working/checkpoint_last.pt\r\n"
     ]
    },
    {
     "name": "stdout",
     "output_type": "stream",
     "text": [
      "[2021-06-07 17:35:06,070][fairseq.trainer][INFO] - Finished saving checkpoint to /kaggle/working/checkpoint_last.pt\r\n",
      "[2021-06-07 17:35:06,071][fairseq.checkpoint_utils][INFO] - Saved checkpoint /kaggle/working/checkpoint_last.pt (epoch 5154 @ 82464 updates, score 76.93986339921113) (writing took 0.05463043200143147 seconds)\r\n",
      "[2021-06-07 17:35:06,071][fairseq_cli.train][INFO] - end of epoch 5154 (average epoch stats below)\r\n",
      "[2021-06-07 17:35:06,075][train][INFO] - {\"epoch\": 5154, \"train_loss\": \"2.869\", \"train_ntokens\": \"145.688\", \"train_nsentences\": \"145.688\", \"train_temp\": \"0.1\", \"train_code_ppl\": \"8.459\", \"train_loss_code_pen\": \"0.295\", \"train_loss_smoothness\": \"1.949\", \"train_loss_dense_g\": \"4.005\", \"train_lm_score_sum\": 0.0, \"train_num_pred_chars\": 0.0, \"train_loss_grad_pen\": \"0.044\", \"train_loss_dense_d\": \"0.027\", \"train_loss_token_d\": \"0.023\", \"train_wps\": \"9.1\", \"train_ups\": \"0.06\", \"train_wpb\": \"145.7\", \"train_bsz\": \"145.7\", \"train_num_updates\": \"82464\", \"train_lr_discriminator\": \"0.0005\", \"train_lr_generator\": \"0.0004\", \"train_gnorm\": \"28.283\", \"train_clip\": \"56.2\", \"train_train_wall\": \"251\", \"train_wall\": \"22360\"}\r\n"
     ]
    },
    {
     "name": "stdout",
     "output_type": "stream",
     "text": [
      "[2021-06-07 17:35:06,143][fairseq.trainer][INFO] - begin training epoch 5155\r\n",
      "[2021-06-07 17:35:06,144][fairseq_cli.train][INFO] - Start iterating over samples\r\n"
     ]
    },
    {
     "name": "stdout",
     "output_type": "stream",
     "text": [
      "[2021-06-07 17:38:43,038][fairseq_cli.train][INFO] - begin validation on \"valid\" subset\r\n"
     ]
    },
    {
     "name": "stdout",
     "output_type": "stream",
     "text": [
      "[2021-06-07 17:38:45,845][fairseq.tasks.unpaired_audio_text][INFO] - REF: ɛ n f œ ʂ ə n a d ɵ ʂ ə k t f øː r d eː t s ɔ m h ɛ n d ə p oː ɕ œ r k ɔ n s ɛ t ə n\r\n",
      "[2021-06-07 17:38:45,848][fairseq.tasks.unpaired_audio_text][INFO] - HYP: n ɪ n s j œ r œ j b j uː œ yː k j uː ɵ øː j ə m œ k b ə uː s eː r n v oː s l ɪ ŋ k l ɪ l s k œ uː m k n t a\r\n",
      "[2021-06-07 17:38:45,852][fairseq.tasks.unpaired_audio_text][INFO] - LM [REF]: -53.44462585449219, 0.05339602260269112\r\n",
      "[2021-06-07 17:38:45,853][fairseq.tasks.unpaired_audio_text][INFO] - LM [HYP]: -94.48701477050781, 0.01403826498552023\r\n"
     ]
    },
    {
     "name": "stdout",
     "output_type": "stream",
     "text": [
      "[2021-06-07 17:38:46,413][valid][INFO] - {\"epoch\": 5155, \"valid_loss\": \"1.003\", \"valid_ntokens\": \"3039.79\", \"valid_nsentences\": \"144.214\", \"valid_lm_score_sum\": \"-89623.3\", \"valid_num_pred_chars\": \"48399\", \"valid_vocab_seen_pct\": \"0.885017\", \"valid_uer\": \"100.275\", \"valid_weighted_lm_ppl\": \"76.5071\", \"valid_lm_ppl\": \"59.9247\", \"valid_wps\": \"16237.2\", \"valid_wpb\": \"3039.8\", \"valid_bsz\": \"144.2\", \"valid_num_updates\": \"82480\", \"valid_best_weighted_lm_ppl\": \"73.0296\"}\r\n",
      "[2021-06-07 17:38:46,416][fairseq.checkpoint_utils][INFO] - Preparing to save checkpoint for epoch 5155 @ 82480 updates\r\n",
      "[2021-06-07 17:38:46,418][fairseq.trainer][INFO] - Saving checkpoint to /kaggle/working/checkpoint_last.pt\r\n"
     ]
    },
    {
     "name": "stdout",
     "output_type": "stream",
     "text": [
      "[2021-06-07 17:38:46,470][fairseq.trainer][INFO] - Finished saving checkpoint to /kaggle/working/checkpoint_last.pt\r\n",
      "[2021-06-07 17:38:46,471][fairseq.checkpoint_utils][INFO] - Saved checkpoint /kaggle/working/checkpoint_last.pt (epoch 5155 @ 82480 updates, score 76.50713311809243) (writing took 0.054229334000410745 seconds)\r\n",
      "[2021-06-07 17:38:46,471][fairseq_cli.train][INFO] - end of epoch 5155 (average epoch stats below)\r\n",
      "[2021-06-07 17:38:46,475][train][INFO] - {\"epoch\": 5155, \"train_loss\": \"3.706\", \"train_ntokens\": \"145.688\", \"train_nsentences\": \"145.688\", \"train_temp\": \"0.1\", \"train_code_ppl\": \"8.657\", \"train_loss_code_pen\": \"0.323\", \"train_loss_smoothness\": \"2.058\", \"train_loss_dense_g\": \"4.253\", \"train_lm_score_sum\": 0.0, \"train_num_pred_chars\": 0.0, \"train_loss_grad_pen\": \"0.089\", \"train_loss_dense_d\": \"0.023\", \"train_loss_token_d\": \"0.027\", \"train_wps\": \"10.6\", \"train_ups\": \"0.07\", \"train_wpb\": \"145.7\", \"train_bsz\": \"145.7\", \"train_num_updates\": \"82480\", \"train_lr_discriminator\": \"0.0005\", \"train_lr_generator\": \"0.0004\", \"train_gnorm\": \"33.766\", \"train_clip\": \"93.8\", \"train_train_wall\": \"216\", \"train_wall\": \"22580\"}\r\n"
     ]
    },
    {
     "name": "stdout",
     "output_type": "stream",
     "text": [
      "[2021-06-07 17:38:46,541][fairseq.trainer][INFO] - begin training epoch 5156\r\n"
     ]
    },
    {
     "name": "stdout",
     "output_type": "stream",
     "text": [
      "[2021-06-07 17:38:46,543][fairseq_cli.train][INFO] - Start iterating over samples\r\n"
     ]
    },
    {
     "name": "stdout",
     "output_type": "stream",
     "text": [
      "[2021-06-07 17:42:22,590][fairseq_cli.train][INFO] - begin validation on \"valid\" subset\r\n"
     ]
    },
    {
     "name": "stdout",
     "output_type": "stream",
     "text": [
      "[2021-06-07 17:42:25,403][fairseq.tasks.unpaired_audio_text][INFO] - REF: ɛ n f œ ʂ ə n a d ɵ ʂ ə k t f øː r d eː t s ɔ m h ɛ n d ə p oː ɕ œ r k ɔ n s ɛ t ə n\r\n",
      "[2021-06-07 17:42:25,406][fairseq.tasks.unpaired_audio_text][INFO] - HYP: n ɪ n s j œ r œ j b j uː œ yː k j uː ɵ j ə m œ k b ə uː s eː r n v oː s l ɪ ŋ k l ɪ l s œ k m k n t a\r\n",
      "[2021-06-07 17:42:25,410][fairseq.tasks.unpaired_audio_text][INFO] - LM [REF]: -53.44462585449219, 0.05339602260269112\r\n",
      "[2021-06-07 17:42:25,410][fairseq.tasks.unpaired_audio_text][INFO] - LM [HYP]: -91.24488067626953, 0.013735977729970905\r\n"
     ]
    },
    {
     "name": "stdout",
     "output_type": "stream",
     "text": [
      "[2021-06-07 17:42:25,948][valid][INFO] - {\"epoch\": 5156, \"valid_loss\": \"1.002\", \"valid_ntokens\": \"3039.79\", \"valid_nsentences\": \"144.214\", \"valid_lm_score_sum\": \"-89610.5\", \"valid_num_pred_chars\": \"48448\", \"valid_vocab_seen_pct\": \"0.883275\", \"valid_uer\": \"100.179\", \"valid_weighted_lm_ppl\": \"76.4598\", \"valid_lm_ppl\": \"59.6521\", \"valid_wps\": \"16485.4\", \"valid_wpb\": \"3039.8\", \"valid_bsz\": \"144.2\", \"valid_num_updates\": \"82496\", \"valid_best_weighted_lm_ppl\": \"73.0296\"}\r\n",
      "[2021-06-07 17:42:25,953][fairseq.checkpoint_utils][INFO] - Preparing to save checkpoint for epoch 5156 @ 82496 updates\r\n",
      "[2021-06-07 17:42:25,954][fairseq.trainer][INFO] - Saving checkpoint to /kaggle/working/checkpoint_last.pt\r\n"
     ]
    },
    {
     "name": "stdout",
     "output_type": "stream",
     "text": [
      "[2021-06-07 17:42:26,004][fairseq.trainer][INFO] - Finished saving checkpoint to /kaggle/working/checkpoint_last.pt\r\n",
      "[2021-06-07 17:42:26,004][fairseq.checkpoint_utils][INFO] - Saved checkpoint /kaggle/working/checkpoint_last.pt (epoch 5156 @ 82496 updates, score 76.4598327761202) (writing took 0.05133001000285731 seconds)\r\n",
      "[2021-06-07 17:42:26,005][fairseq_cli.train][INFO] - end of epoch 5156 (average epoch stats below)\r\n",
      "[2021-06-07 17:42:26,009][train][INFO] - {\"epoch\": 5156, \"train_loss\": \"3.454\", \"train_ntokens\": \"145.688\", \"train_nsentences\": \"145.688\", \"train_temp\": \"0.1\", \"train_code_ppl\": \"8.696\", \"train_loss_code_pen\": \"0.33\", \"train_loss_smoothness\": \"2.088\", \"train_loss_dense_g\": \"4.029\", \"train_lm_score_sum\": 0.0, \"train_num_pred_chars\": 0.0, \"train_loss_grad_pen\": \"0.179\", \"train_loss_dense_d\": \"0.024\", \"train_loss_token_d\": \"0.032\", \"train_wps\": \"10.6\", \"train_ups\": \"0.07\", \"train_wpb\": \"145.7\", \"train_bsz\": \"145.7\", \"train_num_updates\": \"82496\", \"train_lr_discriminator\": \"0.0005\", \"train_lr_generator\": \"0.0004\", \"train_gnorm\": \"42.819\", \"train_clip\": \"75\", \"train_train_wall\": \"216\", \"train_wall\": \"22800\"}\r\n"
     ]
    },
    {
     "name": "stdout",
     "output_type": "stream",
     "text": [
      "[2021-06-07 17:42:26,069][fairseq.trainer][INFO] - begin training epoch 5157\r\n",
      "[2021-06-07 17:42:26,071][fairseq_cli.train][INFO] - Start iterating over samples\r\n"
     ]
    },
    {
     "name": "stdout",
     "output_type": "stream",
     "text": [
      "[2021-06-07 17:43:01,933][train_inner][INFO] - {\"epoch\": 5157, \"update\": 5156.25, \"loss\": \"3.416\", \"ntokens\": \"144.69\", \"nsentences\": \"144.69\", \"temp\": \"0.1\", \"code_ppl\": \"8.734\", \"loss_code_pen\": \"0.328\", \"loss_smoothness\": \"2.087\", \"loss_dense_g\": \"4.05\", \"lm_score_sum\": 0.0, \"num_pred_chars\": 0.0, \"loss_grad_pen\": \"0.109\", \"loss_dense_d\": \"0.026\", \"loss_token_d\": \"0.028\", \"wps\": \"10.1\", \"ups\": \"0.07\", \"wpb\": \"144.7\", \"bsz\": \"144.7\", \"num_updates\": \"82500\", \"lr_discriminator\": \"0.0005\", \"lr_generator\": \"0.0004\", \"gnorm\": \"35.87\", \"clip\": \"73\", \"train_wall\": \"1404\", \"wall\": \"22835\"}\r\n"
     ]
    },
    {
     "name": "stdout",
     "output_type": "stream",
     "text": [
      "[2021-06-07 17:45:57,475][fairseq_cli.train][INFO] - begin validation on \"valid\" subset\r\n"
     ]
    },
    {
     "name": "stdout",
     "output_type": "stream",
     "text": [
      "[2021-06-07 17:46:00,285][fairseq.tasks.unpaired_audio_text][INFO] - REF: ɛ n f œ ʂ ə n a d ɵ ʂ ə k t f øː r d eː t s ɔ m h ɛ n d ə p oː ɕ œ r k ɔ n s ɛ t ə n\r\n"
     ]
    },
    {
     "name": "stdout",
     "output_type": "stream",
     "text": [
      "[2021-06-07 17:46:00,287][fairseq.tasks.unpaired_audio_text][INFO] - HYP: n ɪ n s j œ r œ ʂ b j uː œ yː k j uː ɵ ə m œ k b ə uː s eː r n v oː s l ɪ ŋ k l ɪ l s k œ k m k n t a\r\n",
      "[2021-06-07 17:46:00,292][fairseq.tasks.unpaired_audio_text][INFO] - LM [REF]: -53.44462585449219, 0.05339602260269112\r\n",
      "[2021-06-07 17:46:00,293][fairseq.tasks.unpaired_audio_text][INFO] - LM [HYP]: -91.6005859375, 0.013508287243030825\r\n"
     ]
    },
    {
     "name": "stdout",
     "output_type": "stream",
     "text": [
      "[2021-06-07 17:46:00,824][valid][INFO] - {\"epoch\": 5157, \"valid_loss\": \"1.002\", \"valid_ntokens\": \"3039.79\", \"valid_nsentences\": \"144.214\", \"valid_lm_score_sum\": \"-89717.6\", \"valid_num_pred_chars\": \"48324\", \"valid_vocab_seen_pct\": \"0.891986\", \"valid_uer\": \"100.193\", \"valid_weighted_lm_ppl\": \"76.1046\", \"valid_lm_ppl\": \"60.5518\", \"valid_wps\": \"16725.4\", \"valid_wpb\": \"3039.8\", \"valid_bsz\": \"144.2\", \"valid_num_updates\": \"82512\", \"valid_best_weighted_lm_ppl\": \"73.0296\"}\r\n",
      "[2021-06-07 17:46:00,827][fairseq.checkpoint_utils][INFO] - Preparing to save checkpoint for epoch 5157 @ 82512 updates\r\n",
      "[2021-06-07 17:46:00,828][fairseq.trainer][INFO] - Saving checkpoint to /kaggle/working/checkpoint_last.pt\r\n"
     ]
    },
    {
     "name": "stdout",
     "output_type": "stream",
     "text": [
      "[2021-06-07 17:46:00,875][fairseq.trainer][INFO] - Finished saving checkpoint to /kaggle/working/checkpoint_last.pt\r\n",
      "[2021-06-07 17:46:00,876][fairseq.checkpoint_utils][INFO] - Saved checkpoint /kaggle/working/checkpoint_last.pt (epoch 5157 @ 82512 updates, score 76.1045705496305) (writing took 0.04852139400099986 seconds)\r\n",
      "[2021-06-07 17:46:00,876][fairseq_cli.train][INFO] - end of epoch 5157 (average epoch stats below)\r\n",
      "[2021-06-07 17:46:00,880][train][INFO] - {\"epoch\": 5157, \"train_loss\": \"3.471\", \"train_ntokens\": \"145.688\", \"train_nsentences\": \"145.688\", \"train_temp\": \"0.1\", \"train_code_ppl\": \"8.851\", \"train_loss_code_pen\": \"0.321\", \"train_loss_smoothness\": \"2.062\", \"train_loss_dense_g\": \"3.826\", \"train_lm_score_sum\": 0.0, \"train_num_pred_chars\": 0.0, \"train_loss_grad_pen\": \"0.075\", \"train_loss_dense_d\": \"0.029\", \"train_loss_token_d\": \"0.031\", \"train_wps\": \"10.8\", \"train_ups\": \"0.07\", \"train_wpb\": \"145.7\", \"train_bsz\": \"145.7\", \"train_num_updates\": \"82512\", \"train_lr_discriminator\": \"0.0005\", \"train_lr_generator\": \"0.0004\", \"train_gnorm\": \"30.095\", \"train_clip\": \"75\", \"train_train_wall\": \"211\", \"train_wall\": \"23014\"}\r\n"
     ]
    },
    {
     "name": "stdout",
     "output_type": "stream",
     "text": [
      "[2021-06-07 17:46:00,943][fairseq.trainer][INFO] - begin training epoch 5158\r\n",
      "[2021-06-07 17:46:00,944][fairseq_cli.train][INFO] - Start iterating over samples\r\n"
     ]
    },
    {
     "name": "stdout",
     "output_type": "stream",
     "text": [
      "[2021-06-07 17:50:04,862][fairseq_cli.train][INFO] - begin validation on \"valid\" subset\r\n"
     ]
    },
    {
     "name": "stdout",
     "output_type": "stream",
     "text": [
      "[2021-06-07 17:50:07,669][fairseq.tasks.unpaired_audio_text][INFO] - REF: ɛ n f œ ʂ ə n a d ɵ ʂ ə k t f øː r d eː t s ɔ m h ɛ n d ə p oː ɕ œ r k ɔ n s ɛ t ə n\r\n",
      "[2021-06-07 17:50:07,671][fairseq.tasks.unpaired_audio_text][INFO] - HYP: n ɪ n s j œ r œ j b j uː œ yː k j uː ɵ j ə m œ k b ə uː s eː r n v oː s l ɪ ŋ k l ɪ l s ɔ œ k m k n t n\r\n",
      "[2021-06-07 17:50:07,675][fairseq.tasks.unpaired_audio_text][INFO] - LM [REF]: -53.44462585449219, 0.05339602260269112\r\n",
      "[2021-06-07 17:50:07,676][fairseq.tasks.unpaired_audio_text][INFO] - LM [HYP]: -93.79669189453125, 0.013306571200151097\r\n"
     ]
    },
    {
     "name": "stdout",
     "output_type": "stream",
     "text": [
      "[2021-06-07 17:50:08,196][valid][INFO] - {\"epoch\": 5158, \"valid_loss\": \"1.002\", \"valid_ntokens\": \"3039.79\", \"valid_nsentences\": \"144.214\", \"valid_lm_score_sum\": \"-89494.9\", \"valid_num_pred_chars\": \"48256\", \"valid_vocab_seen_pct\": \"0.890244\", \"valid_uer\": \"100.228\", \"valid_weighted_lm_ppl\": \"76.0483\", \"valid_lm_ppl\": \"60.2709\", \"valid_wps\": \"16671.3\", \"valid_wpb\": \"3039.8\", \"valid_bsz\": \"144.2\", \"valid_num_updates\": \"82528\", \"valid_best_weighted_lm_ppl\": \"73.0296\"}\r\n",
      "[2021-06-07 17:50:08,199][fairseq.checkpoint_utils][INFO] - Preparing to save checkpoint for epoch 5158 @ 82528 updates\r\n",
      "[2021-06-07 17:50:08,200][fairseq.trainer][INFO] - Saving checkpoint to /kaggle/working/checkpoint_last.pt\r\n"
     ]
    },
    {
     "name": "stdout",
     "output_type": "stream",
     "text": [
      "[2021-06-07 17:50:08,247][fairseq.trainer][INFO] - Finished saving checkpoint to /kaggle/working/checkpoint_last.pt\r\n",
      "[2021-06-07 17:50:08,247][fairseq.checkpoint_utils][INFO] - Saved checkpoint /kaggle/working/checkpoint_last.pt (epoch 5158 @ 82528 updates, score 76.04827956789788) (writing took 0.048106449998158496 seconds)\r\n",
      "[2021-06-07 17:50:08,247][fairseq_cli.train][INFO] - end of epoch 5158 (average epoch stats below)\r\n",
      "[2021-06-07 17:50:08,250][train][INFO] - {\"epoch\": 5158, \"train_loss\": \"3.073\", \"train_ntokens\": \"145.688\", \"train_nsentences\": \"145.688\", \"train_temp\": \"0.1\", \"train_code_ppl\": \"8.84\", \"train_loss_code_pen\": \"0.341\", \"train_loss_smoothness\": \"2.109\", \"train_loss_dense_g\": \"3.81\", \"train_lm_score_sum\": 0.0, \"train_num_pred_chars\": 0.0, \"train_loss_grad_pen\": \"0.058\", \"train_loss_dense_d\": \"0.027\", \"train_loss_token_d\": \"0.025\", \"train_wps\": \"9.4\", \"train_ups\": \"0.06\", \"train_wpb\": \"145.7\", \"train_bsz\": \"145.7\", \"train_num_updates\": \"82528\", \"train_lr_discriminator\": \"0.0005\", \"train_lr_generator\": \"0.0004\", \"train_gnorm\": \"28.682\", \"train_clip\": \"75\", \"train_train_wall\": \"243\", \"train_wall\": \"23262\"}\r\n"
     ]
    },
    {
     "name": "stdout",
     "output_type": "stream",
     "text": [
      "[2021-06-07 17:50:08,306][fairseq.trainer][INFO] - begin training epoch 5159\r\n",
      "[2021-06-07 17:50:08,308][fairseq_cli.train][INFO] - Start iterating over samples\r\n"
     ]
    },
    {
     "name": "stdout",
     "output_type": "stream",
     "text": [
      "[2021-06-07 17:54:18,540][fairseq_cli.train][INFO] - begin validation on \"valid\" subset\r\n"
     ]
    },
    {
     "name": "stdout",
     "output_type": "stream",
     "text": [
      "[2021-06-07 17:54:21,288][fairseq.tasks.unpaired_audio_text][INFO] - REF: ɛ n f œ ʂ ə n a d ɵ ʂ ə k t f øː r d eː t s ɔ m h ɛ n d ə p oː ɕ œ r k ɔ n s ɛ t ə n\r\n",
      "[2021-06-07 17:54:21,290][fairseq.tasks.unpaired_audio_text][INFO] - HYP: n ɪ n s j œ r œ ʂ b j uː œ yː k uː ɵ øː j ə m œ k b ə uː s eː r n v oː s l ɪ ŋ k l ɪ l s œ m k n t a\r\n",
      "[2021-06-07 17:54:21,295][fairseq.tasks.unpaired_audio_text][INFO] - LM [REF]: -53.44462585449219, 0.05339602260269112\r\n",
      "[2021-06-07 17:54:21,295][fairseq.tasks.unpaired_audio_text][INFO] - LM [HYP]: -87.78543090820312, 0.014829853339645026\r\n"
     ]
    },
    {
     "name": "stdout",
     "output_type": "stream",
     "text": [
      "[2021-06-07 17:54:21,844][valid][INFO] - {\"epoch\": 5159, \"valid_loss\": \"1.002\", \"valid_ntokens\": \"3039.79\", \"valid_nsentences\": \"144.214\", \"valid_lm_score_sum\": \"-89735.6\", \"valid_num_pred_chars\": \"48263\", \"valid_vocab_seen_pct\": \"0.891986\", \"valid_uer\": \"100.172\", \"valid_weighted_lm_ppl\": \"76.5473\", \"valid_lm_ppl\": \"60.904\", \"valid_wps\": \"16632.7\", \"valid_wpb\": \"3039.8\", \"valid_bsz\": \"144.2\", \"valid_num_updates\": \"82544\", \"valid_best_weighted_lm_ppl\": \"73.0296\"}\r\n",
      "[2021-06-07 17:54:21,847][fairseq.checkpoint_utils][INFO] - Preparing to save checkpoint for epoch 5159 @ 82544 updates\r\n",
      "[2021-06-07 17:54:21,848][fairseq.trainer][INFO] - Saving checkpoint to /kaggle/working/checkpoint_last.pt\r\n"
     ]
    },
    {
     "name": "stdout",
     "output_type": "stream",
     "text": [
      "[2021-06-07 17:54:21,903][fairseq.trainer][INFO] - Finished saving checkpoint to /kaggle/working/checkpoint_last.pt\r\n",
      "[2021-06-07 17:54:21,904][fairseq.checkpoint_utils][INFO] - Saved checkpoint /kaggle/working/checkpoint_last.pt (epoch 5159 @ 82544 updates, score 76.54728489284432) (writing took 0.056514325999160064 seconds)\r\n",
      "[2021-06-07 17:54:21,904][fairseq_cli.train][INFO] - end of epoch 5159 (average epoch stats below)\r\n",
      "[2021-06-07 17:54:21,907][train][INFO] - {\"epoch\": 5159, \"train_loss\": \"3.043\", \"train_ntokens\": \"145.688\", \"train_nsentences\": \"145.688\", \"train_temp\": \"0.1\", \"train_code_ppl\": \"8.592\", \"train_loss_code_pen\": \"0.308\", \"train_loss_smoothness\": \"1.995\", \"train_loss_dense_g\": \"4.304\", \"train_lm_score_sum\": 0.0, \"train_num_pred_chars\": 0.0, \"train_loss_grad_pen\": \"0.059\", \"train_loss_dense_d\": \"0.029\", \"train_loss_token_d\": \"0.028\", \"train_wps\": \"9.2\", \"train_ups\": \"0.06\", \"train_wpb\": \"145.7\", \"train_bsz\": \"145.7\", \"train_num_updates\": \"82544\", \"train_lr_discriminator\": \"0.0005\", \"train_lr_generator\": \"0.0004\", \"train_gnorm\": \"28.872\", \"train_clip\": \"75\", \"train_train_wall\": \"250\", \"train_wall\": \"23515\"}\r\n"
     ]
    },
    {
     "name": "stdout",
     "output_type": "stream",
     "text": [
      "[2021-06-07 17:54:21,971][fairseq.trainer][INFO] - begin training epoch 5160\r\n",
      "[2021-06-07 17:54:21,973][fairseq_cli.train][INFO] - Start iterating over samples\r\n"
     ]
    },
    {
     "name": "stdout",
     "output_type": "stream",
     "text": [
      "[2021-06-07 17:58:15,333][fairseq_cli.train][INFO] - begin validation on \"valid\" subset\r\n"
     ]
    },
    {
     "name": "stdout",
     "output_type": "stream",
     "text": [
      "[2021-06-07 17:58:18,092][fairseq.tasks.unpaired_audio_text][INFO] - REF: ɛ n f œ ʂ ə n a d ɵ ʂ ə k t f øː r d eː t s ɔ m h ɛ n d ə p oː ɕ œ r k ɔ n s ɛ t ə n\r\n",
      "[2021-06-07 17:58:18,094][fairseq.tasks.unpaired_audio_text][INFO] - HYP: n ɪ n s j œ r œ ʂ ɕ b j uː œ yː k j uː ɵ øː j ə m œ k b ə uː s eː r n v oː s l ɪ ŋ k l ɪ l s œ k m k n t n\r\n",
      "[2021-06-07 17:58:18,099][fairseq.tasks.unpaired_audio_text][INFO] - LM [REF]: -53.44462585449219, 0.05339602260269112\r\n",
      "[2021-06-07 17:58:18,099][fairseq.tasks.unpaired_audio_text][INFO] - LM [HYP]: -95.14555358886719, 0.013627020524026368\r\n"
     ]
    },
    {
     "name": "stdout",
     "output_type": "stream",
     "text": [
      "[2021-06-07 17:58:18,638][valid][INFO] - {\"epoch\": 5160, \"valid_loss\": \"1\", \"valid_ntokens\": \"3039.79\", \"valid_nsentences\": \"144.214\", \"valid_lm_score_sum\": \"-89558.1\", \"valid_num_pred_chars\": \"48325\", \"valid_vocab_seen_pct\": \"0.888502\", \"valid_uer\": \"100.009\", \"valid_weighted_lm_ppl\": \"76.1388\", \"valid_lm_ppl\": \"60.1067\", \"valid_wps\": \"16864.5\", \"valid_wpb\": \"3039.8\", \"valid_bsz\": \"144.2\", \"valid_num_updates\": \"82560\", \"valid_best_weighted_lm_ppl\": \"73.0296\"}\r\n"
     ]
    },
    {
     "name": "stdout",
     "output_type": "stream",
     "text": [
      "[2021-06-07 17:58:18,642][fairseq.checkpoint_utils][INFO] - Preparing to save checkpoint for epoch 5160 @ 82560 updates\r\n",
      "[2021-06-07 17:58:18,643][fairseq.trainer][INFO] - Saving checkpoint to /kaggle/working/checkpoint_last.pt\r\n"
     ]
    },
    {
     "name": "stdout",
     "output_type": "stream",
     "text": [
      "[2021-06-07 17:58:18,695][fairseq.trainer][INFO] - Finished saving checkpoint to /kaggle/working/checkpoint_last.pt\r\n",
      "[2021-06-07 17:58:18,695][fairseq.checkpoint_utils][INFO] - Saved checkpoint /kaggle/working/checkpoint_last.pt (epoch 5160 @ 82560 updates, score 76.13881181576629) (writing took 0.053030607999971835 seconds)\r\n",
      "[2021-06-07 17:58:18,695][fairseq_cli.train][INFO] - end of epoch 5160 (average epoch stats below)\r\n",
      "[2021-06-07 17:58:18,698][train][INFO] - {\"epoch\": 5160, \"train_loss\": \"3.153\", \"train_ntokens\": \"145.688\", \"train_nsentences\": \"145.688\", \"train_temp\": \"0.1\", \"train_code_ppl\": \"8.798\", \"train_loss_code_pen\": \"0.321\", \"train_loss_smoothness\": \"2.052\", \"train_loss_dense_g\": \"4.057\", \"train_lm_score_sum\": 0.0, \"train_num_pred_chars\": 0.0, \"train_loss_grad_pen\": \"0.06\", \"train_loss_dense_d\": \"0.022\", \"train_loss_token_d\": \"0.024\", \"train_wps\": \"9.8\", \"train_ups\": \"0.07\", \"train_wpb\": \"145.7\", \"train_bsz\": \"145.7\", \"train_num_updates\": \"82560\", \"train_lr_discriminator\": \"0.0005\", \"train_lr_generator\": \"0.0004\", \"train_gnorm\": \"29.245\", \"train_clip\": \"56.2\", \"train_train_wall\": \"233\", \"train_wall\": \"23752\"}\r\n"
     ]
    },
    {
     "name": "stdout",
     "output_type": "stream",
     "text": [
      "[2021-06-07 17:58:18,761][fairseq.trainer][INFO] - begin training epoch 5161\r\n",
      "[2021-06-07 17:58:18,763][fairseq_cli.train][INFO] - Start iterating over samples\r\n"
     ]
    },
    {
     "name": "stdout",
     "output_type": "stream",
     "text": [
      "[2021-06-07 18:02:01,283][fairseq_cli.train][INFO] - begin validation on \"valid\" subset\r\n"
     ]
    },
    {
     "name": "stdout",
     "output_type": "stream",
     "text": [
      "[2021-06-07 18:02:03,979][fairseq.tasks.unpaired_audio_text][INFO] - REF: ɛ n f œ ʂ ə n a d ɵ ʂ ə k t f øː r d eː t s ɔ m h ɛ n d ə p oː ɕ œ r k ɔ n s ɛ t ə n\r\n",
      "[2021-06-07 18:02:03,981][fairseq.tasks.unpaired_audio_text][INFO] - HYP: n ɪ n s j œ r œ ʂ ʃ b j uː œ yː k j uː ɵ øː ə m œ k b ə uː s eː r n v oː s l ɪ ŋ k l ɪ l s œ m k n t a\r\n",
      "[2021-06-07 18:02:03,985][fairseq.tasks.unpaired_audio_text][INFO] - LM [REF]: -53.44462585449219, 0.05339602260269112\r\n",
      "[2021-06-07 18:02:03,986][fairseq.tasks.unpaired_audio_text][INFO] - LM [HYP]: -91.94033813476562, 0.013294333483041681\r\n"
     ]
    },
    {
     "name": "stdout",
     "output_type": "stream",
     "text": [
      "[2021-06-07 18:02:04,521][valid][INFO] - {\"epoch\": 5161, \"valid_loss\": \"1.002\", \"valid_ntokens\": \"3039.79\", \"valid_nsentences\": \"144.214\", \"valid_lm_score_sum\": \"-89540\", \"valid_num_pred_chars\": \"48359\", \"valid_vocab_seen_pct\": \"0.89547\", \"valid_uer\": \"100.153\", \"valid_weighted_lm_ppl\": \"74.6896\", \"valid_lm_ppl\": \"59.8912\", \"valid_wps\": \"17351.5\", \"valid_wpb\": \"3039.8\", \"valid_bsz\": \"144.2\", \"valid_num_updates\": \"82576\", \"valid_best_weighted_lm_ppl\": \"73.0296\"}\r\n"
     ]
    },
    {
     "name": "stdout",
     "output_type": "stream",
     "text": [
      "[2021-06-07 18:02:04,524][fairseq.checkpoint_utils][INFO] - Preparing to save checkpoint for epoch 5161 @ 82576 updates\r\n",
      "[2021-06-07 18:02:04,526][fairseq.trainer][INFO] - Saving checkpoint to /kaggle/working/checkpoint_last.pt\r\n"
     ]
    },
    {
     "name": "stdout",
     "output_type": "stream",
     "text": [
      "[2021-06-07 18:02:04,579][fairseq.trainer][INFO] - Finished saving checkpoint to /kaggle/working/checkpoint_last.pt\r\n",
      "[2021-06-07 18:02:04,580][fairseq.checkpoint_utils][INFO] - Saved checkpoint /kaggle/working/checkpoint_last.pt (epoch 5161 @ 82576 updates, score 74.68961151920911) (writing took 0.05543845500142197 seconds)\r\n",
      "[2021-06-07 18:02:04,580][fairseq_cli.train][INFO] - end of epoch 5161 (average epoch stats below)\r\n",
      "[2021-06-07 18:02:04,584][train][INFO] - {\"epoch\": 5161, \"train_loss\": \"3.325\", \"train_ntokens\": \"145.688\", \"train_nsentences\": \"145.688\", \"train_temp\": \"0.1\", \"train_code_ppl\": \"8.884\", \"train_loss_code_pen\": \"0.327\", \"train_loss_smoothness\": \"2.066\", \"train_loss_dense_g\": \"3.907\", \"train_lm_score_sum\": 0.0, \"train_num_pred_chars\": 0.0, \"train_loss_grad_pen\": \"0.08\", \"train_loss_dense_d\": \"0.023\", \"train_loss_token_d\": \"0.021\", \"train_wps\": \"10.3\", \"train_ups\": \"0.07\", \"train_wpb\": \"145.7\", \"train_bsz\": \"145.7\", \"train_num_updates\": \"82576\", \"train_lr_discriminator\": \"0.0005\", \"train_lr_generator\": \"0.0004\", \"train_gnorm\": \"30.052\", \"train_clip\": \"75\", \"train_train_wall\": \"222\", \"train_wall\": \"23978\"}\r\n"
     ]
    },
    {
     "name": "stdout",
     "output_type": "stream",
     "text": [
      "[2021-06-07 18:02:04,648][fairseq.trainer][INFO] - begin training epoch 5162\r\n",
      "[2021-06-07 18:02:04,649][fairseq_cli.train][INFO] - Start iterating over samples\r\n"
     ]
    },
    {
     "name": "stdout",
     "output_type": "stream",
     "text": [
      "[2021-06-07 18:05:59,047][fairseq_cli.train][INFO] - begin validation on \"valid\" subset\r\n"
     ]
    },
    {
     "name": "stdout",
     "output_type": "stream",
     "text": [
      "[2021-06-07 18:06:01,722][fairseq.tasks.unpaired_audio_text][INFO] - REF: ɛ n f œ ʂ ə n a d ɵ ʂ ə k t f øː r d eː t s ɔ m h ɛ n d ə p oː ɕ œ r k ɔ n s ɛ t ə n\r\n",
      "[2021-06-07 18:06:01,725][fairseq.tasks.unpaired_audio_text][INFO] - HYP: n ɛ n s j œ r œ j b j uː œ yː k j uː ɵ øː j ə m œ k b ə uː s eː r n v oː s l ɪ ŋ k l ɪ l s m œ k m k n t a\r\n",
      "[2021-06-07 18:06:01,729][fairseq.tasks.unpaired_audio_text][INFO] - LM [REF]: -53.44462585449219, 0.05339602260269112\r\n",
      "[2021-06-07 18:06:01,730][fairseq.tasks.unpaired_audio_text][INFO] - LM [HYP]: -94.63568115234375, 0.01394435429755215\r\n"
     ]
    },
    {
     "name": "stdout",
     "output_type": "stream",
     "text": [
      "[2021-06-07 18:06:02,260][valid][INFO] - {\"epoch\": 5162, \"valid_loss\": \"1.002\", \"valid_ntokens\": \"3039.79\", \"valid_nsentences\": \"144.214\", \"valid_lm_score_sum\": \"-89599.3\", \"valid_num_pred_chars\": \"48365\", \"valid_vocab_seen_pct\": \"0.881533\", \"valid_uer\": \"100.214\", \"valid_weighted_lm_ppl\": \"77.2414\", \"valid_lm_ppl\": \"60.0244\", \"valid_wps\": \"17042.6\", \"valid_wpb\": \"3039.8\", \"valid_bsz\": \"144.2\", \"valid_num_updates\": \"82592\", \"valid_best_weighted_lm_ppl\": \"73.0296\"}\r\n",
      "[2021-06-07 18:06:02,263][fairseq.checkpoint_utils][INFO] - Preparing to save checkpoint for epoch 5162 @ 82592 updates\r\n",
      "[2021-06-07 18:06:02,264][fairseq.trainer][INFO] - Saving checkpoint to /kaggle/working/checkpoint_last.pt\r\n"
     ]
    },
    {
     "name": "stdout",
     "output_type": "stream",
     "text": [
      "[2021-06-07 18:06:02,312][fairseq.trainer][INFO] - Finished saving checkpoint to /kaggle/working/checkpoint_last.pt\r\n",
      "[2021-06-07 18:06:02,312][fairseq.checkpoint_utils][INFO] - Saved checkpoint /kaggle/working/checkpoint_last.pt (epoch 5162 @ 82592 updates, score 77.24142198744558) (writing took 0.048654895999789005 seconds)\r\n",
      "[2021-06-07 18:06:02,312][fairseq_cli.train][INFO] - end of epoch 5162 (average epoch stats below)\r\n",
      "[2021-06-07 18:06:02,316][train][INFO] - {\"epoch\": 5162, \"train_loss\": \"3.196\", \"train_ntokens\": \"145.688\", \"train_nsentences\": \"145.688\", \"train_temp\": \"0.1\", \"train_code_ppl\": \"8.722\", \"train_loss_code_pen\": \"0.316\", \"train_loss_smoothness\": \"2.026\", \"train_loss_dense_g\": \"4.139\", \"train_lm_score_sum\": 0.0, \"train_num_pred_chars\": 0.0, \"train_loss_grad_pen\": \"0.094\", \"train_loss_dense_d\": \"0.022\", \"train_loss_token_d\": \"0.026\", \"train_wps\": \"9.8\", \"train_ups\": \"0.07\", \"train_wpb\": \"145.7\", \"train_bsz\": \"145.7\", \"train_num_updates\": \"82592\", \"train_lr_discriminator\": \"0.0005\", \"train_lr_generator\": \"0.0004\", \"train_gnorm\": \"31.242\", \"train_clip\": \"81.2\", \"train_train_wall\": \"234\", \"train_wall\": \"24216\"}\r\n"
     ]
    },
    {
     "name": "stdout",
     "output_type": "stream",
     "text": [
      "[2021-06-07 18:06:02,379][fairseq.trainer][INFO] - begin training epoch 5163\r\n",
      "[2021-06-07 18:06:02,381][fairseq_cli.train][INFO] - Start iterating over samples\r\n"
     ]
    },
    {
     "name": "stdout",
     "output_type": "stream",
     "text": [
      "[2021-06-07 18:08:09,314][train_inner][INFO] - {\"epoch\": 5163, \"update\": 5162.5, \"loss\": \"3.133\", \"ntokens\": \"146.26\", \"nsentences\": \"146.26\", \"temp\": \"0.1\", \"code_ppl\": \"8.744\", \"loss_code_pen\": \"0.321\", \"loss_smoothness\": \"2.048\", \"loss_dense_g\": \"3.987\", \"lm_score_sum\": 0.0, \"num_pred_chars\": 0.0, \"loss_grad_pen\": \"0.067\", \"loss_dense_d\": \"0.025\", \"loss_token_d\": \"0.025\", \"wps\": \"9.7\", \"ups\": \"0.07\", \"wpb\": \"146.3\", \"bsz\": \"146.3\", \"num_updates\": \"82600\", \"lr_discriminator\": \"0.0005\", \"lr_generator\": \"0.0004\", \"gnorm\": \"29.356\", \"clip\": \"71\", \"train_wall\": \"1484\", \"wall\": \"24343\"}\r\n"
     ]
    },
    {
     "name": "stdout",
     "output_type": "stream",
     "text": [
      "[2021-06-07 18:09:59,109][fairseq_cli.train][INFO] - begin validation on \"valid\" subset\r\n"
     ]
    },
    {
     "name": "stdout",
     "output_type": "stream",
     "text": [
      "[2021-06-07 18:10:01,749][fairseq.tasks.unpaired_audio_text][INFO] - REF: ɛ n f œ ʂ ə n a d ɵ ʂ ə k t f øː r d eː t s ɔ m h ɛ n d ə p oː ɕ œ r k ɔ n s ɛ t ə n\r\n",
      "[2021-06-07 18:10:01,751][fairseq.tasks.unpaired_audio_text][INFO] - HYP: n ɛ n s j œ r œ ʂ ʃ b j uː yː k uː ɵ øː ə m œ k b ə uː s eː r n v oː s l ɪ ŋ k l ɪ l s m œ m k n t a\r\n",
      "[2021-06-07 18:10:01,755][fairseq.tasks.unpaired_audio_text][INFO] - LM [REF]: -53.44462585449219, 0.05339602260269112\r\n",
      "[2021-06-07 18:10:01,755][fairseq.tasks.unpaired_audio_text][INFO] - LM [HYP]: -88.87683868408203, 0.014073405267202488\r\n"
     ]
    },
    {
     "name": "stdout",
     "output_type": "stream",
     "text": [
      "[2021-06-07 18:10:02,275][valid][INFO] - {\"epoch\": 5163, \"valid_loss\": \"1.002\", \"valid_ntokens\": \"3039.79\", \"valid_nsentences\": \"144.214\", \"valid_lm_score_sum\": \"-89484.6\", \"valid_num_pred_chars\": \"48414\", \"valid_vocab_seen_pct\": \"0.888502\", \"valid_uer\": \"100.226\", \"valid_weighted_lm_ppl\": \"75.3372\", \"valid_lm_ppl\": \"59.4738\", \"valid_wps\": \"17666.4\", \"valid_wpb\": \"3039.8\", \"valid_bsz\": \"144.2\", \"valid_num_updates\": \"82608\", \"valid_best_weighted_lm_ppl\": \"73.0296\"}\r\n",
      "[2021-06-07 18:10:02,278][fairseq.checkpoint_utils][INFO] - Preparing to save checkpoint for epoch 5163 @ 82608 updates\r\n",
      "[2021-06-07 18:10:02,279][fairseq.trainer][INFO] - Saving checkpoint to /kaggle/working/checkpoint_last.pt\r\n"
     ]
    },
    {
     "name": "stdout",
     "output_type": "stream",
     "text": [
      "[2021-06-07 18:10:02,325][fairseq.trainer][INFO] - Finished saving checkpoint to /kaggle/working/checkpoint_last.pt\r\n",
      "[2021-06-07 18:10:02,326][fairseq.checkpoint_utils][INFO] - Saved checkpoint /kaggle/working/checkpoint_last.pt (epoch 5163 @ 82608 updates, score 75.33720145061459) (writing took 0.047708539001177996 seconds)\r\n",
      "[2021-06-07 18:10:02,326][fairseq_cli.train][INFO] - end of epoch 5163 (average epoch stats below)\r\n",
      "[2021-06-07 18:10:02,329][train][INFO] - {\"epoch\": 5163, \"train_loss\": \"3.202\", \"train_ntokens\": \"145.688\", \"train_nsentences\": \"145.688\", \"train_temp\": \"0.1\", \"train_code_ppl\": \"8.692\", \"train_loss_code_pen\": \"0.319\", \"train_loss_smoothness\": \"2.054\", \"train_loss_dense_g\": \"4.165\", \"train_lm_score_sum\": 0.0, \"train_num_pred_chars\": 0.0, \"train_loss_grad_pen\": \"0.052\", \"train_loss_dense_d\": \"0.025\", \"train_loss_token_d\": \"0.024\", \"train_wps\": \"9.7\", \"train_ups\": \"0.07\", \"train_wpb\": \"145.7\", \"train_bsz\": \"145.7\", \"train_num_updates\": \"82608\", \"train_lr_discriminator\": \"0.0005\", \"train_lr_generator\": \"0.0004\", \"train_gnorm\": \"29.389\", \"train_clip\": \"62.5\", \"train_train_wall\": \"236\", \"train_wall\": \"24456\"}\r\n"
     ]
    },
    {
     "name": "stdout",
     "output_type": "stream",
     "text": [
      "[2021-06-07 18:10:02,383][fairseq.trainer][INFO] - begin training epoch 5164\r\n",
      "[2021-06-07 18:10:02,385][fairseq_cli.train][INFO] - Start iterating over samples\r\n"
     ]
    },
    {
     "name": "stdout",
     "output_type": "stream",
     "text": [
      "[2021-06-07 18:14:09,681][fairseq_cli.train][INFO] - begin validation on \"valid\" subset\r\n"
     ]
    },
    {
     "name": "stdout",
     "output_type": "stream",
     "text": [
      "[2021-06-07 18:14:12,359][fairseq.tasks.unpaired_audio_text][INFO] - REF: ɛ n f œ ʂ ə n a d ɵ ʂ ə k t f øː r d eː t s ɔ m h ɛ n d ə p oː ɕ œ r k ɔ n s ɛ t ə n\r\n"
     ]
    },
    {
     "name": "stdout",
     "output_type": "stream",
     "text": [
      "[2021-06-07 18:14:12,362][fairseq.tasks.unpaired_audio_text][INFO] - HYP: n ɪ n s j œ r œ j ʃ b j uː yː k j uː f ɵ øː j ə m œ k b ə uː s eː r n v oː s l ɪ ŋ k l ɪ l s m œ m k n t a\r\n",
      "[2021-06-07 18:14:12,366][fairseq.tasks.unpaired_audio_text][INFO] - LM [REF]: -53.44462585449219, 0.05339602260269112\r\n",
      "[2021-06-07 18:14:12,366][fairseq.tasks.unpaired_audio_text][INFO] - LM [HYP]: -93.4526138305664, 0.014709428759841733\r\n"
     ]
    },
    {
     "name": "stdout",
     "output_type": "stream",
     "text": [
      "[2021-06-07 18:14:12,893][valid][INFO] - {\"epoch\": 5164, \"valid_loss\": \"1.002\", \"valid_ntokens\": \"3039.79\", \"valid_nsentences\": \"144.214\", \"valid_lm_score_sum\": \"-89641.8\", \"valid_num_pred_chars\": \"48509\", \"valid_vocab_seen_pct\": \"0.890244\", \"valid_uer\": \"100.226\", \"valid_weighted_lm_ppl\": \"75.0037\", \"valid_lm_ppl\": \"59.443\", \"valid_wps\": \"17236.4\", \"valid_wpb\": \"3039.8\", \"valid_bsz\": \"144.2\", \"valid_num_updates\": \"82624\", \"valid_best_weighted_lm_ppl\": \"73.0296\"}\r\n",
      "[2021-06-07 18:14:12,896][fairseq.checkpoint_utils][INFO] - Preparing to save checkpoint for epoch 5164 @ 82624 updates\r\n",
      "[2021-06-07 18:14:12,897][fairseq.trainer][INFO] - Saving checkpoint to /kaggle/working/checkpoint_last.pt\r\n"
     ]
    },
    {
     "name": "stdout",
     "output_type": "stream",
     "text": [
      "[2021-06-07 18:14:12,945][fairseq.trainer][INFO] - Finished saving checkpoint to /kaggle/working/checkpoint_last.pt\r\n",
      "[2021-06-07 18:14:12,946][fairseq.checkpoint_utils][INFO] - Saved checkpoint /kaggle/working/checkpoint_last.pt (epoch 5164 @ 82624 updates, score 75.00370932677913) (writing took 0.04973116399924038 seconds)\r\n",
      "[2021-06-07 18:14:12,946][fairseq_cli.train][INFO] - end of epoch 5164 (average epoch stats below)\r\n",
      "[2021-06-07 18:14:12,950][train][INFO] - {\"epoch\": 5164, \"train_loss\": \"2.978\", \"train_ntokens\": \"145.688\", \"train_nsentences\": \"145.688\", \"train_temp\": \"0.1\", \"train_code_ppl\": \"8.612\", \"train_loss_code_pen\": \"0.304\", \"train_loss_smoothness\": \"2.008\", \"train_loss_dense_g\": \"4.142\", \"train_lm_score_sum\": 0.0, \"train_num_pred_chars\": 0.0, \"train_loss_grad_pen\": \"0.079\", \"train_loss_dense_d\": \"0.022\", \"train_loss_token_d\": \"0.022\", \"train_wps\": \"9.3\", \"train_ups\": \"0.06\", \"train_wpb\": \"145.7\", \"train_bsz\": \"145.7\", \"train_num_updates\": \"82624\", \"train_lr_discriminator\": \"0.0005\", \"train_lr_generator\": \"0.0004\", \"train_gnorm\": \"30.454\", \"train_clip\": \"75\", \"train_train_wall\": \"247\", \"train_wall\": \"24706\"}\r\n"
     ]
    },
    {
     "name": "stdout",
     "output_type": "stream",
     "text": [
      "[2021-06-07 18:14:13,007][fairseq.trainer][INFO] - begin training epoch 5165\r\n",
      "[2021-06-07 18:14:13,009][fairseq_cli.train][INFO] - Start iterating over samples\r\n"
     ]
    },
    {
     "name": "stdout",
     "output_type": "stream",
     "text": [
      "[2021-06-07 18:18:09,514][fairseq_cli.train][INFO] - begin validation on \"valid\" subset\r\n"
     ]
    },
    {
     "name": "stdout",
     "output_type": "stream",
     "text": [
      "[2021-06-07 18:18:12,279][fairseq.tasks.unpaired_audio_text][INFO] - REF: ɛ n f œ ʂ ə n a d ɵ ʂ ə k t f øː r d eː t s ɔ m h ɛ n d ə p oː ɕ œ r k ɔ n s ɛ t ə n\r\n",
      "[2021-06-07 18:18:12,282][fairseq.tasks.unpaired_audio_text][INFO] - HYP: n ɪ n s j œ r œ j b j uː k j uː f ɵ øː j ə m œ k b ə uː s eː r n v oː s l ɪ ŋ k l ɪ l s ɔ œ m k n t a\r\n",
      "[2021-06-07 18:18:12,288][fairseq.tasks.unpaired_audio_text][INFO] - LM [REF]: -53.44462585449219, 0.05339602260269112\r\n",
      "[2021-06-07 18:18:12,288][fairseq.tasks.unpaired_audio_text][INFO] - LM [HYP]: -89.14153289794922, 0.015162996785304226\r\n"
     ]
    },
    {
     "name": "stdout",
     "output_type": "stream",
     "text": [
      "[2021-06-07 18:18:12,809][valid][INFO] - {\"epoch\": 5165, \"valid_loss\": \"1.003\", \"valid_ntokens\": \"3039.79\", \"valid_nsentences\": \"144.214\", \"valid_lm_score_sum\": \"-89816.3\", \"valid_num_pred_chars\": \"48464\", \"valid_vocab_seen_pct\": \"0.893728\", \"valid_uer\": \"100.303\", \"valid_weighted_lm_ppl\": \"75.2885\", \"valid_lm_ppl\": \"60.1367\", \"valid_wps\": \"17216.3\", \"valid_wpb\": \"3039.8\", \"valid_bsz\": \"144.2\", \"valid_num_updates\": \"82640\", \"valid_best_weighted_lm_ppl\": \"73.0296\"}\r\n",
      "[2021-06-07 18:18:12,812][fairseq.checkpoint_utils][INFO] - Preparing to save checkpoint for epoch 5165 @ 82640 updates\r\n",
      "[2021-06-07 18:18:12,813][fairseq.trainer][INFO] - Saving checkpoint to /kaggle/working/checkpoint_last.pt\r\n"
     ]
    },
    {
     "name": "stdout",
     "output_type": "stream",
     "text": [
      "[2021-06-07 18:18:12,861][fairseq.trainer][INFO] - Finished saving checkpoint to /kaggle/working/checkpoint_last.pt\r\n",
      "[2021-06-07 18:18:12,861][fairseq.checkpoint_utils][INFO] - Saved checkpoint /kaggle/working/checkpoint_last.pt (epoch 5165 @ 82640 updates, score 75.2885290980453) (writing took 0.049461422000604216 seconds)\r\n",
      "[2021-06-07 18:18:12,862][fairseq_cli.train][INFO] - end of epoch 5165 (average epoch stats below)\r\n",
      "[2021-06-07 18:18:12,865][train][INFO] - {\"epoch\": 5165, \"train_loss\": \"3.312\", \"train_ntokens\": \"145.688\", \"train_nsentences\": \"145.688\", \"train_temp\": \"0.1\", \"train_code_ppl\": \"8.558\", \"train_loss_code_pen\": \"0.318\", \"train_loss_smoothness\": \"2.059\", \"train_loss_dense_g\": \"4.391\", \"train_lm_score_sum\": 0.0, \"train_num_pred_chars\": 0.0, \"train_loss_grad_pen\": \"0.051\", \"train_loss_dense_d\": \"0.023\", \"train_loss_token_d\": \"0.026\", \"train_wps\": \"9.7\", \"train_ups\": \"0.07\", \"train_wpb\": \"145.7\", \"train_bsz\": \"145.7\", \"train_num_updates\": \"82640\", \"train_lr_discriminator\": \"0.0005\", \"train_lr_generator\": \"0.0004\", \"train_gnorm\": \"29.579\", \"train_clip\": \"62.5\", \"train_train_wall\": \"236\", \"train_wall\": \"24946\"}\r\n"
     ]
    },
    {
     "name": "stdout",
     "output_type": "stream",
     "text": [
      "[2021-06-07 18:18:12,923][fairseq.trainer][INFO] - begin training epoch 5166\r\n"
     ]
    },
    {
     "name": "stdout",
     "output_type": "stream",
     "text": [
      "[2021-06-07 18:18:12,925][fairseq_cli.train][INFO] - Start iterating over samples\r\n"
     ]
    },
    {
     "name": "stdout",
     "output_type": "stream",
     "text": [
      "[2021-06-07 18:22:04,683][fairseq_cli.train][INFO] - begin validation on \"valid\" subset\r\n"
     ]
    },
    {
     "name": "stdout",
     "output_type": "stream",
     "text": [
      "[2021-06-07 18:22:07,439][fairseq.tasks.unpaired_audio_text][INFO] - REF: ɛ n f œ ʂ ə n a d ɵ ʂ ə k t f øː r d eː t s ɔ m h ɛ n d ə p oː ɕ œ r k ɔ n s ɛ t ə n\r\n",
      "[2021-06-07 18:22:07,442][fairseq.tasks.unpaired_audio_text][INFO] - HYP: n ɪ n s j œ r œ j uː j uː yː k j uː f ɵ øː j ə m œ k ə uː s eː r n v oː s l ɪ ŋ k l ɪ l s œ m k l t a\r\n",
      "[2021-06-07 18:22:07,446][fairseq.tasks.unpaired_audio_text][INFO] - LM [REF]: -53.44462585449219, 0.05339602260269112\r\n",
      "[2021-06-07 18:22:07,446][fairseq.tasks.unpaired_audio_text][INFO] - LM [HYP]: -85.3958969116211, 0.016631017262489226\r\n"
     ]
    },
    {
     "name": "stdout",
     "output_type": "stream",
     "text": [
      "[2021-06-07 18:22:07,971][valid][INFO] - {\"epoch\": 5166, \"valid_loss\": \"1.003\", \"valid_ntokens\": \"3039.79\", \"valid_nsentences\": \"144.214\", \"valid_lm_score_sum\": \"-89755\", \"valid_num_pred_chars\": \"48488\", \"valid_vocab_seen_pct\": \"0.897213\", \"valid_uer\": \"100.266\", \"valid_weighted_lm_ppl\": \"74.3515\", \"valid_lm_ppl\": \"59.8523\", \"valid_wps\": \"17063.2\", \"valid_wpb\": \"3039.8\", \"valid_bsz\": \"144.2\", \"valid_num_updates\": \"82656\", \"valid_best_weighted_lm_ppl\": \"73.0296\"}\r\n",
      "[2021-06-07 18:22:07,974][fairseq.checkpoint_utils][INFO] - Preparing to save checkpoint for epoch 5166 @ 82656 updates\r\n",
      "[2021-06-07 18:22:07,975][fairseq.trainer][INFO] - Saving checkpoint to /kaggle/working/checkpoint_last.pt\r\n"
     ]
    },
    {
     "name": "stdout",
     "output_type": "stream",
     "text": [
      "[2021-06-07 18:22:08,024][fairseq.trainer][INFO] - Finished saving checkpoint to /kaggle/working/checkpoint_last.pt\r\n",
      "[2021-06-07 18:22:08,025][fairseq.checkpoint_utils][INFO] - Saved checkpoint /kaggle/working/checkpoint_last.pt (epoch 5166 @ 82656 updates, score 74.35153477426371) (writing took 0.05102808800074854 seconds)\r\n",
      "[2021-06-07 18:22:08,026][fairseq_cli.train][INFO] - end of epoch 5166 (average epoch stats below)\r\n",
      "[2021-06-07 18:22:08,030][train][INFO] - {\"epoch\": 5166, \"train_loss\": \"3.237\", \"train_ntokens\": \"145.688\", \"train_nsentences\": \"145.688\", \"train_temp\": \"0.1\", \"train_code_ppl\": \"8.805\", \"train_loss_code_pen\": \"0.339\", \"train_loss_smoothness\": \"2.11\", \"train_loss_dense_g\": \"4.153\", \"train_lm_score_sum\": 0.0, \"train_num_pred_chars\": 0.0, \"train_loss_grad_pen\": \"0.063\", \"train_loss_dense_d\": \"0.023\", \"train_loss_token_d\": \"0.023\", \"train_wps\": \"9.9\", \"train_ups\": \"0.07\", \"train_wpb\": \"145.7\", \"train_bsz\": \"145.7\", \"train_num_updates\": \"82656\", \"train_lr_discriminator\": \"0.0005\", \"train_lr_generator\": \"0.0004\", \"train_gnorm\": \"31.272\", \"train_clip\": \"81.2\", \"train_train_wall\": \"231\", \"train_wall\": \"25182\"}\r\n"
     ]
    },
    {
     "name": "stdout",
     "output_type": "stream",
     "text": [
      "[2021-06-07 18:22:08,095][fairseq.trainer][INFO] - begin training epoch 5167\r\n",
      "[2021-06-07 18:22:08,096][fairseq_cli.train][INFO] - Start iterating over samples\r\n"
     ]
    },
    {
     "name": "stdout",
     "output_type": "stream",
     "text": [
      "[2021-06-07 18:25:36,382][fairseq_cli.train][INFO] - begin validation on \"valid\" subset\r\n"
     ]
    },
    {
     "name": "stdout",
     "output_type": "stream",
     "text": [
      "[2021-06-07 18:25:39,038][fairseq.tasks.unpaired_audio_text][INFO] - REF: ɛ n f œ ʂ ə n a d ɵ ʂ ə k t f øː r d eː t s ɔ m h ɛ n d ə p oː ɕ œ r k ɔ n s ɛ t ə n\r\n",
      "[2021-06-07 18:25:39,040][fairseq.tasks.unpaired_audio_text][INFO] - HYP: n ɪ n s j œ r œ ʂ uː j uː œ yː k j uː f ɵ øː j m ə m œ k b ə uː s eː r n v oː s l ɪ ŋ k l ɪ l s œ m k n t a\r\n",
      "[2021-06-07 18:25:39,045][fairseq.tasks.unpaired_audio_text][INFO] - LM [REF]: -53.44462585449219, 0.05339602260269112\r\n",
      "[2021-06-07 18:25:39,045][fairseq.tasks.unpaired_audio_text][INFO] - LM [HYP]: -93.56102752685547, 0.014637605845129745\r\n"
     ]
    },
    {
     "name": "stdout",
     "output_type": "stream",
     "text": [
      "[2021-06-07 18:25:39,572][valid][INFO] - {\"epoch\": 5167, \"valid_loss\": \"1.005\", \"valid_ntokens\": \"3039.79\", \"valid_nsentences\": \"144.214\", \"valid_lm_score_sum\": \"-89901.1\", \"valid_num_pred_chars\": \"48622\", \"valid_vocab_seen_pct\": \"0.897213\", \"valid_uer\": \"100.482\", \"valid_weighted_lm_ppl\": \"74.041\", \"valid_lm_ppl\": \"59.6023\", \"valid_wps\": \"17395.5\", \"valid_wpb\": \"3039.8\", \"valid_bsz\": \"144.2\", \"valid_num_updates\": \"82672\", \"valid_best_weighted_lm_ppl\": \"73.0296\"}\r\n",
      "[2021-06-07 18:25:39,575][fairseq.checkpoint_utils][INFO] - Preparing to save checkpoint for epoch 5167 @ 82672 updates\r\n",
      "[2021-06-07 18:25:39,576][fairseq.trainer][INFO] - Saving checkpoint to /kaggle/working/checkpoint_last.pt\r\n"
     ]
    },
    {
     "name": "stdout",
     "output_type": "stream",
     "text": [
      "[2021-06-07 18:25:39,623][fairseq.trainer][INFO] - Finished saving checkpoint to /kaggle/working/checkpoint_last.pt\r\n",
      "[2021-06-07 18:25:39,624][fairseq.checkpoint_utils][INFO] - Saved checkpoint /kaggle/working/checkpoint_last.pt (epoch 5167 @ 82672 updates, score 74.04095053173494) (writing took 0.048613098999339854 seconds)\r\n",
      "[2021-06-07 18:25:39,624][fairseq_cli.train][INFO] - end of epoch 5167 (average epoch stats below)\r\n",
      "[2021-06-07 18:25:39,627][train][INFO] - {\"epoch\": 5167, \"train_loss\": \"3.745\", \"train_ntokens\": \"145.688\", \"train_nsentences\": \"145.688\", \"train_temp\": \"0.1\", \"train_code_ppl\": \"8.8\", \"train_loss_code_pen\": \"0.319\", \"train_loss_smoothness\": \"2.055\", \"train_loss_dense_g\": \"4.341\", \"train_lm_score_sum\": 0.0, \"train_num_pred_chars\": 0.0, \"train_loss_grad_pen\": \"0.075\", \"train_loss_dense_d\": \"0.025\", \"train_loss_token_d\": \"0.028\", \"train_wps\": \"11\", \"train_ups\": \"0.08\", \"train_wpb\": \"145.7\", \"train_bsz\": \"145.7\", \"train_num_updates\": \"82672\", \"train_lr_discriminator\": \"0.0005\", \"train_lr_generator\": \"0.0004\", \"train_gnorm\": \"30.543\", \"train_clip\": \"68.8\", \"train_train_wall\": \"208\", \"train_wall\": \"25393\"}\r\n"
     ]
    },
    {
     "name": "stdout",
     "output_type": "stream",
     "text": [
      "[2021-06-07 18:25:39,685][fairseq.trainer][INFO] - begin training epoch 5168\r\n",
      "[2021-06-07 18:25:39,687][fairseq_cli.train][INFO] - Start iterating over samples\r\n"
     ]
    },
    {
     "name": "stdout",
     "output_type": "stream",
     "text": [
      "[2021-06-07 18:29:24,821][fairseq_cli.train][INFO] - begin validation on \"valid\" subset\r\n"
     ]
    },
    {
     "name": "stdout",
     "output_type": "stream",
     "text": [
      "[2021-06-07 18:29:27,509][fairseq.tasks.unpaired_audio_text][INFO] - REF: ɛ n f œ ʂ ə n a d ɵ ʂ ə k t f øː r d eː t s ɔ m h ɛ n d ə p oː ɕ œ r k ɔ n s ɛ t ə n\r\n",
      "[2021-06-07 18:29:27,512][fairseq.tasks.unpaired_audio_text][INFO] - HYP: n ɪ n s j œ r œ j ɕ b j uː œ yː k j uː f ɵ øː j ə m œ k b ə uː s eː r n v oː s l ɪ ŋ k l ɪ l s œ m k n t a\r\n",
      "[2021-06-07 18:29:27,516][fairseq.tasks.unpaired_audio_text][INFO] - LM [REF]: -53.44462585449219, 0.05339602260269112\r\n",
      "[2021-06-07 18:29:27,517][fairseq.tasks.unpaired_audio_text][INFO] - LM [HYP]: -93.78304290771484, 0.01449161560578959\r\n"
     ]
    },
    {
     "name": "stdout",
     "output_type": "stream",
     "text": [
      "[2021-06-07 18:29:28,045][valid][INFO] - {\"epoch\": 5168, \"valid_loss\": \"1.004\", \"valid_ntokens\": \"3039.79\", \"valid_nsentences\": \"144.214\", \"valid_lm_score_sum\": \"-89740.2\", \"valid_num_pred_chars\": \"48574\", \"valid_vocab_seen_pct\": \"0.888502\", \"valid_uer\": \"100.446\", \"valid_weighted_lm_ppl\": \"75.2403\", \"valid_lm_ppl\": \"59.3973\", \"valid_wps\": \"17273.9\", \"valid_wpb\": \"3039.8\", \"valid_bsz\": \"144.2\", \"valid_num_updates\": \"82688\", \"valid_best_weighted_lm_ppl\": \"73.0296\"}\r\n",
      "[2021-06-07 18:29:28,048][fairseq.checkpoint_utils][INFO] - Preparing to save checkpoint for epoch 5168 @ 82688 updates\r\n",
      "[2021-06-07 18:29:28,049][fairseq.trainer][INFO] - Saving checkpoint to /kaggle/working/checkpoint_last.pt\r\n"
     ]
    },
    {
     "name": "stdout",
     "output_type": "stream",
     "text": [
      "[2021-06-07 18:29:28,097][fairseq.trainer][INFO] - Finished saving checkpoint to /kaggle/working/checkpoint_last.pt\r\n",
      "[2021-06-07 18:29:28,098][fairseq.checkpoint_utils][INFO] - Saved checkpoint /kaggle/working/checkpoint_last.pt (epoch 5168 @ 82688 updates, score 75.24027454000489) (writing took 0.04940116099896841 seconds)\r\n",
      "[2021-06-07 18:29:28,098][fairseq_cli.train][INFO] - end of epoch 5168 (average epoch stats below)\r\n",
      "[2021-06-07 18:29:28,101][train][INFO] - {\"epoch\": 5168, \"train_loss\": \"3.539\", \"train_ntokens\": \"145.688\", \"train_nsentences\": \"145.688\", \"train_temp\": \"0.1\", \"train_code_ppl\": \"8.413\", \"train_loss_code_pen\": \"0.322\", \"train_loss_smoothness\": \"2.07\", \"train_loss_dense_g\": \"4.323\", \"train_lm_score_sum\": 0.0, \"train_num_pred_chars\": 0.0, \"train_loss_grad_pen\": \"0.075\", \"train_loss_dense_d\": \"0.022\", \"train_loss_token_d\": \"0.025\", \"train_wps\": \"10.2\", \"train_ups\": \"0.07\", \"train_wpb\": \"145.7\", \"train_bsz\": \"145.7\", \"train_num_updates\": \"82688\", \"train_lr_discriminator\": \"0.0005\", \"train_lr_generator\": \"0.0004\", \"train_gnorm\": \"33.753\", \"train_clip\": \"68.8\", \"train_train_wall\": \"225\", \"train_wall\": \"25622\"}\r\n"
     ]
    },
    {
     "name": "stdout",
     "output_type": "stream",
     "text": [
      "[2021-06-07 18:29:28,159][fairseq.trainer][INFO] - begin training epoch 5169\r\n",
      "[2021-06-07 18:29:28,161][fairseq_cli.train][INFO] - Start iterating over samples\r\n"
     ]
    },
    {
     "name": "stdout",
     "output_type": "stream",
     "text": [
      "[2021-06-07 18:32:30,557][train_inner][INFO] - {\"epoch\": 5169, \"update\": 5168.75, \"loss\": \"3.357\", \"ntokens\": \"146.26\", \"nsentences\": \"146.26\", \"temp\": \"0.1\", \"code_ppl\": \"8.627\", \"loss_code_pen\": \"0.32\", \"loss_smoothness\": \"2.06\", \"loss_dense_g\": \"4.293\", \"lm_score_sum\": 0.0, \"num_pred_chars\": 0.0, \"loss_grad_pen\": \"0.069\", \"loss_dense_d\": \"0.023\", \"loss_token_d\": \"0.025\", \"wps\": \"10\", \"ups\": \"0.07\", \"wpb\": \"146.3\", \"bsz\": \"146.3\", \"num_updates\": \"82700\", \"lr_discriminator\": \"0.0005\", \"lr_generator\": \"0.0004\", \"gnorm\": \"30.934\", \"clip\": \"71\", \"train_wall\": \"1438\", \"wall\": \"25804\"}\r\n"
     ]
    },
    {
     "name": "stdout",
     "output_type": "stream",
     "text": [
      "[2021-06-07 18:33:19,202][fairseq_cli.train][INFO] - begin validation on \"valid\" subset\r\n"
     ]
    },
    {
     "name": "stdout",
     "output_type": "stream",
     "text": [
      "[2021-06-07 18:33:21,873][fairseq.tasks.unpaired_audio_text][INFO] - REF: ɛ n f œ ʂ ə n a d ɵ ʂ ə k t f øː r d eː t s ɔ m h ɛ n d ə p oː ɕ œ r k ɔ n s ɛ t ə n\r\n",
      "[2021-06-07 18:33:21,876][fairseq.tasks.unpaired_audio_text][INFO] - HYP: n ɪ n s j œ r œ j ɕ b j uː yː k j uː f ɵ øː j ə m œ k b ə uː s eː r n v oː s l ɪ ŋ k l ɪ l a ɔ œ m k n t a\r\n",
      "[2021-06-07 18:33:21,880][fairseq.tasks.unpaired_audio_text][INFO] - LM [REF]: -53.44462585449219, 0.05339602260269112\r\n",
      "[2021-06-07 18:33:21,880][fairseq.tasks.unpaired_audio_text][INFO] - LM [HYP]: -93.60231018066406, 0.014610348817167466\r\n"
     ]
    },
    {
     "name": "stdout",
     "output_type": "stream",
     "text": [
      "[2021-06-07 18:33:22,407][valid][INFO] - {\"epoch\": 5169, \"valid_loss\": \"1.004\", \"valid_ntokens\": \"3039.79\", \"valid_nsentences\": \"144.214\", \"valid_lm_score_sum\": \"-89814.1\", \"valid_num_pred_chars\": \"48612\", \"valid_vocab_seen_pct\": \"0.888502\", \"valid_uer\": \"100.437\", \"valid_weighted_lm_ppl\": \"75.2624\", \"valid_lm_ppl\": \"59.4148\", \"valid_wps\": \"17316.3\", \"valid_wpb\": \"3039.8\", \"valid_bsz\": \"144.2\", \"valid_num_updates\": \"82704\", \"valid_best_weighted_lm_ppl\": \"73.0296\"}\r\n",
      "[2021-06-07 18:33:22,410][fairseq.checkpoint_utils][INFO] - Preparing to save checkpoint for epoch 5169 @ 82704 updates\r\n",
      "[2021-06-07 18:33:22,411][fairseq.trainer][INFO] - Saving checkpoint to /kaggle/working/checkpoint_last.pt\r\n"
     ]
    },
    {
     "name": "stdout",
     "output_type": "stream",
     "text": [
      "[2021-06-07 18:33:22,460][fairseq.trainer][INFO] - Finished saving checkpoint to /kaggle/working/checkpoint_last.pt\r\n",
      "[2021-06-07 18:33:22,460][fairseq.checkpoint_utils][INFO] - Saved checkpoint /kaggle/working/checkpoint_last.pt (epoch 5169 @ 82704 updates, score 75.2624012416865) (writing took 0.05046204500104068 seconds)\r\n",
      "[2021-06-07 18:33:22,461][fairseq_cli.train][INFO] - end of epoch 5169 (average epoch stats below)\r\n",
      "[2021-06-07 18:33:22,464][train][INFO] - {\"epoch\": 5169, \"train_loss\": \"3.287\", \"train_ntokens\": \"145.688\", \"train_nsentences\": \"145.688\", \"train_temp\": \"0.1\", \"train_code_ppl\": \"8.596\", \"train_loss_code_pen\": \"0.325\", \"train_loss_smoothness\": \"2.081\", \"train_loss_dense_g\": \"4.277\", \"train_lm_score_sum\": 0.0, \"train_num_pred_chars\": 0.0, \"train_loss_grad_pen\": \"0.082\", \"train_loss_dense_d\": \"0.025\", \"train_loss_token_d\": \"0.023\", \"train_wps\": \"9.9\", \"train_ups\": \"0.07\", \"train_wpb\": \"145.7\", \"train_bsz\": \"145.7\", \"train_num_updates\": \"82704\", \"train_lr_discriminator\": \"0.0005\", \"train_lr_generator\": \"0.0004\", \"train_gnorm\": \"30.395\", \"train_clip\": \"75\", \"train_train_wall\": \"231\", \"train_wall\": \"25856\"}\r\n"
     ]
    },
    {
     "name": "stdout",
     "output_type": "stream",
     "text": [
      "[2021-06-07 18:33:22,520][fairseq.trainer][INFO] - begin training epoch 5170\r\n",
      "[2021-06-07 18:33:22,521][fairseq_cli.train][INFO] - Start iterating over samples\r\n"
     ]
    },
    {
     "name": "stdout",
     "output_type": "stream",
     "text": [
      "[2021-06-07 18:37:01,613][fairseq_cli.train][INFO] - begin validation on \"valid\" subset\r\n"
     ]
    },
    {
     "name": "stdout",
     "output_type": "stream",
     "text": [
      "[2021-06-07 18:37:04,431][fairseq.tasks.unpaired_audio_text][INFO] - REF: ɛ n f œ ʂ ə n a d ɵ ʂ ə k t f øː r d eː t s ɔ m h ɛ n d ə p oː ɕ œ r k ɔ n s ɛ t ə n\r\n",
      "[2021-06-07 18:37:04,434][fairseq.tasks.unpaired_audio_text][INFO] - HYP: n ɪ n s j œ r œ j b j uː œ yː k j uː ɡ ɵ øː j m ə m œ k b ə uː s eː r n v oː s l ɪ ŋ k l ɪ l a ɔ œ m k n t a\r\n",
      "[2021-06-07 18:37:04,438][fairseq.tasks.unpaired_audio_text][INFO] - LM [REF]: -53.44462585449219, 0.05339602260269112\r\n",
      "[2021-06-07 18:37:04,438][fairseq.tasks.unpaired_audio_text][INFO] - LM [HYP]: -96.54985809326172, 0.013908233066670786\r\n"
     ]
    },
    {
     "name": "stdout",
     "output_type": "stream",
     "text": [
      "[2021-06-07 18:37:04,974][valid][INFO] - {\"epoch\": 5170, \"valid_loss\": \"1.006\", \"valid_ntokens\": \"3039.79\", \"valid_nsentences\": \"144.214\", \"valid_lm_score_sum\": \"-90032.3\", \"valid_num_pred_chars\": \"48701\", \"valid_vocab_seen_pct\": \"0.890244\", \"valid_uer\": \"100.594\", \"valid_weighted_lm_ppl\": \"75.1739\", \"valid_lm_ppl\": \"59.5779\", \"valid_wps\": \"16523.1\", \"valid_wpb\": \"3039.8\", \"valid_bsz\": \"144.2\", \"valid_num_updates\": \"82720\", \"valid_best_weighted_lm_ppl\": \"73.0296\"}\r\n",
      "[2021-06-07 18:37:04,977][fairseq.checkpoint_utils][INFO] - Preparing to save checkpoint for epoch 5170 @ 82720 updates\r\n",
      "[2021-06-07 18:37:04,978][fairseq.trainer][INFO] - Saving checkpoint to /kaggle/working/checkpoint_last.pt\r\n"
     ]
    },
    {
     "name": "stdout",
     "output_type": "stream",
     "text": [
      "[2021-06-07 18:37:05,026][fairseq.trainer][INFO] - Finished saving checkpoint to /kaggle/working/checkpoint_last.pt\r\n",
      "[2021-06-07 18:37:05,026][fairseq.checkpoint_utils][INFO] - Saved checkpoint /kaggle/working/checkpoint_last.pt (epoch 5170 @ 82720 updates, score 75.1739357274675) (writing took 0.0496758459994453 seconds)\r\n",
      "[2021-06-07 18:37:05,027][fairseq_cli.train][INFO] - end of epoch 5170 (average epoch stats below)\r\n",
      "[2021-06-07 18:37:05,030][train][INFO] - {\"epoch\": 5170, \"train_loss\": \"3.434\", \"train_ntokens\": \"145.688\", \"train_nsentences\": \"145.688\", \"train_temp\": \"0.1\", \"train_code_ppl\": \"8.599\", \"train_loss_code_pen\": \"0.308\", \"train_loss_smoothness\": \"2.021\", \"train_loss_dense_g\": \"4.195\", \"train_lm_score_sum\": 0.0, \"train_num_pred_chars\": 0.0, \"train_loss_grad_pen\": \"0.058\", \"train_loss_dense_d\": \"0.026\", \"train_loss_token_d\": \"0.026\", \"train_wps\": \"10.5\", \"train_ups\": \"0.07\", \"train_wpb\": \"145.7\", \"train_bsz\": \"145.7\", \"train_num_updates\": \"82720\", \"train_lr_discriminator\": \"0.0005\", \"train_lr_generator\": \"0.0004\", \"train_gnorm\": \"31.23\", \"train_clip\": \"75\", \"train_train_wall\": \"219\", \"train_wall\": \"26079\"}\r\n"
     ]
    },
    {
     "name": "stdout",
     "output_type": "stream",
     "text": [
      "[2021-06-07 18:37:05,088][fairseq.trainer][INFO] - begin training epoch 5171\r\n",
      "[2021-06-07 18:37:05,090][fairseq_cli.train][INFO] - Start iterating over samples\r\n"
     ]
    },
    {
     "name": "stdout",
     "output_type": "stream",
     "text": [
      "[2021-06-07 18:40:36,085][fairseq_cli.train][INFO] - begin validation on \"valid\" subset\r\n"
     ]
    },
    {
     "name": "stdout",
     "output_type": "stream",
     "text": [
      "[2021-06-07 18:40:38,742][fairseq.tasks.unpaired_audio_text][INFO] - REF: ɛ n f œ ʂ ə n a d ɵ ʂ ə k t f øː r d eː t s ɔ m h ɛ n d ə p oː ɕ œ r k ɔ n s ɛ t ə n\r\n",
      "[2021-06-07 18:40:38,744][fairseq.tasks.unpaired_audio_text][INFO] - HYP: n ɪ n s j œ r œ j ʃ b j uː yː k j uː f ɵ øː j ə m œ k b ə uː s eː r n ɛ oː s l ɪ ŋ k ɪ l a k œ m k n t a\r\n",
      "[2021-06-07 18:40:38,748][fairseq.tasks.unpaired_audio_text][INFO] - LM [REF]: -53.44462585449219, 0.05339602260269112\r\n",
      "[2021-06-07 18:40:38,749][fairseq.tasks.unpaired_audio_text][INFO] - LM [HYP]: -91.90120697021484, 0.014520309070636147\r\n"
     ]
    },
    {
     "name": "stdout",
     "output_type": "stream",
     "text": [
      "[2021-06-07 18:40:39,262][valid][INFO] - {\"epoch\": 5171, \"valid_loss\": \"1.006\", \"valid_ntokens\": \"3039.79\", \"valid_nsentences\": \"144.214\", \"valid_lm_score_sum\": \"-89913.9\", \"valid_num_pred_chars\": \"48626\", \"valid_vocab_seen_pct\": \"0.888502\", \"valid_uer\": \"100.606\", \"valid_weighted_lm_ppl\": \"75.5196\", \"valid_lm_ppl\": \"59.6178\", \"valid_wps\": \"17489.4\", \"valid_wpb\": \"3039.8\", \"valid_bsz\": \"144.2\", \"valid_num_updates\": \"82736\", \"valid_best_weighted_lm_ppl\": \"73.0296\"}\r\n",
      "[2021-06-07 18:40:39,265][fairseq.checkpoint_utils][INFO] - Preparing to save checkpoint for epoch 5171 @ 82736 updates\r\n",
      "[2021-06-07 18:40:39,266][fairseq.trainer][INFO] - Saving checkpoint to /kaggle/working/checkpoint_last.pt\r\n"
     ]
    },
    {
     "name": "stdout",
     "output_type": "stream",
     "text": [
      "[2021-06-07 18:40:39,312][fairseq.trainer][INFO] - Finished saving checkpoint to /kaggle/working/checkpoint_last.pt\r\n",
      "[2021-06-07 18:40:39,313][fairseq.checkpoint_utils][INFO] - Saved checkpoint /kaggle/working/checkpoint_last.pt (epoch 5171 @ 82736 updates, score 75.51960579082157) (writing took 0.04776374900029623 seconds)\r\n",
      "[2021-06-07 18:40:39,313][fairseq_cli.train][INFO] - end of epoch 5171 (average epoch stats below)\r\n",
      "[2021-06-07 18:40:39,317][train][INFO] - {\"epoch\": 5171, \"train_loss\": \"3.709\", \"train_ntokens\": \"145.688\", \"train_nsentences\": \"145.688\", \"train_temp\": \"0.1\", \"train_code_ppl\": \"8.644\", \"train_loss_code_pen\": \"0.313\", \"train_loss_smoothness\": \"2.058\", \"train_loss_dense_g\": \"4.296\", \"train_lm_score_sum\": 0.0, \"train_num_pred_chars\": 0.0, \"train_loss_grad_pen\": \"0.057\", \"train_loss_dense_d\": \"0.023\", \"train_loss_token_d\": \"0.026\", \"train_wps\": \"10.9\", \"train_ups\": \"0.07\", \"train_wpb\": \"145.7\", \"train_bsz\": \"145.7\", \"train_num_updates\": \"82736\", \"train_lr_discriminator\": \"0.0005\", \"train_lr_generator\": \"0.0004\", \"train_gnorm\": \"31.927\", \"train_clip\": \"56.2\", \"train_train_wall\": \"210\", \"train_wall\": \"26293\"}\r\n"
     ]
    },
    {
     "name": "stdout",
     "output_type": "stream",
     "text": [
      "[2021-06-07 18:40:39,377][fairseq.trainer][INFO] - begin training epoch 5172\r\n",
      "[2021-06-07 18:40:39,379][fairseq_cli.train][INFO] - Start iterating over samples\r\n"
     ]
    },
    {
     "name": "stdout",
     "output_type": "stream",
     "text": [
      "[2021-06-07 18:44:36,614][fairseq_cli.train][INFO] - begin validation on \"valid\" subset\r\n"
     ]
    },
    {
     "name": "stdout",
     "output_type": "stream",
     "text": [
      "[2021-06-07 18:44:39,288][fairseq.tasks.unpaired_audio_text][INFO] - REF: ɛ n f œ ʂ ə n a d ɵ ʂ ə k t f øː r d eː t s ɔ m h ɛ n d ə p oː ɕ œ r k ɔ n s ɛ t ə n\r\n",
      "[2021-06-07 18:44:39,291][fairseq.tasks.unpaired_audio_text][INFO] - HYP: n ɪ n s j œ r œ j b j uː œ yː k j uː ɵ øː j m ə m œ k b ə uː s eː r n ɛ oː s l ɪ ŋ k l ɪ l a s œ m k n t a\r\n",
      "[2021-06-07 18:44:39,296][fairseq.tasks.unpaired_audio_text][INFO] - LM [REF]: -53.44462585449219, 0.05339602260269112\r\n",
      "[2021-06-07 18:44:39,296][fairseq.tasks.unpaired_audio_text][INFO] - LM [HYP]: -93.65486145019531, 0.014575725059234485\r\n"
     ]
    },
    {
     "name": "stdout",
     "output_type": "stream",
     "text": [
      "[2021-06-07 18:44:39,824][valid][INFO] - {\"epoch\": 5172, \"valid_loss\": \"1.005\", \"valid_ntokens\": \"3039.79\", \"valid_nsentences\": \"144.214\", \"valid_lm_score_sum\": \"-89926.9\", \"valid_num_pred_chars\": \"48626\", \"valid_vocab_seen_pct\": \"0.891986\", \"valid_uer\": \"100.501\", \"valid_weighted_lm_ppl\": \"74.9749\", \"valid_lm_ppl\": \"59.653\", \"valid_wps\": \"17173.9\", \"valid_wpb\": \"3039.8\", \"valid_bsz\": \"144.2\", \"valid_num_updates\": \"82752\", \"valid_best_weighted_lm_ppl\": \"73.0296\"}\r\n",
      "[2021-06-07 18:44:39,827][fairseq.checkpoint_utils][INFO] - Preparing to save checkpoint for epoch 5172 @ 82752 updates\r\n",
      "[2021-06-07 18:44:39,828][fairseq.trainer][INFO] - Saving checkpoint to /kaggle/working/checkpoint_last.pt\r\n"
     ]
    },
    {
     "name": "stdout",
     "output_type": "stream",
     "text": [
      "[2021-06-07 18:44:39,876][fairseq.trainer][INFO] - Finished saving checkpoint to /kaggle/working/checkpoint_last.pt\r\n",
      "[2021-06-07 18:44:39,877][fairseq.checkpoint_utils][INFO] - Saved checkpoint /kaggle/working/checkpoint_last.pt (epoch 5172 @ 82752 updates, score 74.97491045713315) (writing took 0.049350035998941166 seconds)\r\n",
      "[2021-06-07 18:44:39,877][fairseq_cli.train][INFO] - end of epoch 5172 (average epoch stats below)\r\n",
      "[2021-06-07 18:44:39,880][train][INFO] - {\"epoch\": 5172, \"train_loss\": \"3.314\", \"train_ntokens\": \"145.688\", \"train_nsentences\": \"145.688\", \"train_temp\": \"0.1\", \"train_code_ppl\": \"8.807\", \"train_loss_code_pen\": \"0.344\", \"train_loss_smoothness\": \"2.145\", \"train_loss_dense_g\": \"4.28\", \"train_lm_score_sum\": 0.0, \"train_num_pred_chars\": 0.0, \"train_loss_grad_pen\": \"0.051\", \"train_loss_dense_d\": \"0.026\", \"train_loss_token_d\": \"0.025\", \"train_wps\": \"9.7\", \"train_ups\": \"0.07\", \"train_wpb\": \"145.7\", \"train_bsz\": \"145.7\", \"train_num_updates\": \"82752\", \"train_lr_discriminator\": \"0.0005\", \"train_lr_generator\": \"0.0004\", \"train_gnorm\": \"29.643\", \"train_clip\": \"62.5\", \"train_train_wall\": \"237\", \"train_wall\": \"26533\"}\r\n"
     ]
    },
    {
     "name": "stdout",
     "output_type": "stream",
     "text": [
      "[2021-06-07 18:44:39,938][fairseq.trainer][INFO] - begin training epoch 5173\r\n",
      "[2021-06-07 18:44:39,939][fairseq_cli.train][INFO] - Start iterating over samples\r\n"
     ]
    },
    {
     "name": "stdout",
     "output_type": "stream",
     "text": [
      "[2021-06-07 18:48:42,525][fairseq_cli.train][INFO] - begin validation on \"valid\" subset\r\n"
     ]
    },
    {
     "name": "stdout",
     "output_type": "stream",
     "text": [
      "[2021-06-07 18:48:45,261][fairseq.tasks.unpaired_audio_text][INFO] - REF: ɛ n f œ ʂ ə n a d ɵ ʂ ə k t f øː r d eː t s ɔ m h ɛ n d ə p oː ɕ œ r k ɔ n s ɛ t ə n\r\n",
      "[2021-06-07 18:48:45,264][fairseq.tasks.unpaired_audio_text][INFO] - HYP: n ɪ n s j œ r œ j ɕ b j uː œ yː k j uː f ɵ øː j m ə m œ k b ə uː s eː r n v oː s l ɪ ŋ k l ɪ l a m œ m k n t a\r\n",
      "[2021-06-07 18:48:45,268][fairseq.tasks.unpaired_audio_text][INFO] - LM [REF]: -53.44462585449219, 0.05339602260269112\r\n",
      "[2021-06-07 18:48:45,269][fairseq.tasks.unpaired_audio_text][INFO] - LM [HYP]: -97.18328857421875, 0.014667396954413882\r\n"
     ]
    },
    {
     "name": "stdout",
     "output_type": "stream",
     "text": [
      "[2021-06-07 18:48:45,786][valid][INFO] - {\"epoch\": 5173, \"valid_loss\": \"1.003\", \"valid_ntokens\": \"3039.79\", \"valid_nsentences\": \"144.214\", \"valid_lm_score_sum\": \"-89977.5\", \"valid_num_pred_chars\": \"48572\", \"valid_vocab_seen_pct\": \"0.891986\", \"valid_uer\": \"100.329\", \"valid_weighted_lm_ppl\": \"75.4766\", \"valid_lm_ppl\": \"60.0521\", \"valid_wps\": \"17040\", \"valid_wpb\": \"3039.8\", \"valid_bsz\": \"144.2\", \"valid_num_updates\": \"82768\", \"valid_best_weighted_lm_ppl\": \"73.0296\"}\r\n",
      "[2021-06-07 18:48:45,789][fairseq.checkpoint_utils][INFO] - Preparing to save checkpoint for epoch 5173 @ 82768 updates\r\n",
      "[2021-06-07 18:48:45,790][fairseq.trainer][INFO] - Saving checkpoint to /kaggle/working/checkpoint_last.pt\r\n"
     ]
    },
    {
     "name": "stdout",
     "output_type": "stream",
     "text": [
      "[2021-06-07 18:48:45,836][fairseq.trainer][INFO] - Finished saving checkpoint to /kaggle/working/checkpoint_last.pt\r\n",
      "[2021-06-07 18:48:45,837][fairseq.checkpoint_utils][INFO] - Saved checkpoint /kaggle/working/checkpoint_last.pt (epoch 5173 @ 82768 updates, score 75.47657698381269) (writing took 0.0478002630006813 seconds)\r\n",
      "[2021-06-07 18:48:45,837][fairseq_cli.train][INFO] - end of epoch 5173 (average epoch stats below)\r\n",
      "[2021-06-07 18:48:45,840][train][INFO] - {\"epoch\": 5173, \"train_loss\": \"3.112\", \"train_ntokens\": \"145.688\", \"train_nsentences\": \"145.688\", \"train_temp\": \"0.1\", \"train_code_ppl\": \"8.81\", \"train_loss_code_pen\": \"0.354\", \"train_loss_smoothness\": \"2.139\", \"train_loss_dense_g\": \"4.286\", \"train_lm_score_sum\": 0.0, \"train_num_pred_chars\": 0.0, \"train_loss_grad_pen\": \"0.056\", \"train_loss_dense_d\": \"0.022\", \"train_loss_token_d\": \"0.022\", \"train_wps\": \"9.5\", \"train_ups\": \"0.07\", \"train_wpb\": \"145.7\", \"train_bsz\": \"145.7\", \"train_num_updates\": \"82768\", \"train_lr_discriminator\": \"0.0005\", \"train_lr_generator\": \"0.0004\", \"train_gnorm\": \"29.482\", \"train_clip\": \"62.5\", \"train_train_wall\": \"242\", \"train_wall\": \"26779\"}\r\n"
     ]
    },
    {
     "name": "stdout",
     "output_type": "stream",
     "text": [
      "[2021-06-07 18:48:45,899][fairseq.trainer][INFO] - begin training epoch 5174\r\n",
      "[2021-06-07 18:48:45,901][fairseq_cli.train][INFO] - Start iterating over samples\r\n"
     ]
    },
    {
     "name": "stdout",
     "output_type": "stream",
     "text": [
      "[2021-06-07 18:52:18,607][fairseq_cli.train][INFO] - begin validation on \"valid\" subset\r\n"
     ]
    },
    {
     "name": "stdout",
     "output_type": "stream",
     "text": [
      "[2021-06-07 18:52:21,480][fairseq.tasks.unpaired_audio_text][INFO] - REF: ɛ n f œ ʂ ə n a d ɵ ʂ ə k t f øː r d eː t s ɔ m h ɛ n d ə p oː ɕ œ r k ɔ n s ɛ t ə n\r\n",
      "[2021-06-07 18:52:21,483][fairseq.tasks.unpaired_audio_text][INFO] - HYP: n ɪ s j œ r œ j ɕ b j uː œ yː k j uː f ɵ øː ə m œ k b ə uː s eː r n v oː s l ɪ ŋ k l ɪ l a ɔ œ m k n t a\r\n",
      "[2021-06-07 18:52:21,488][fairseq.tasks.unpaired_audio_text][INFO] - LM [REF]: -53.44462585449219, 0.05339602260269112\r\n",
      "[2021-06-07 18:52:21,488][fairseq.tasks.unpaired_audio_text][INFO] - LM [HYP]: -93.91294860839844, 0.013235520585229935\r\n"
     ]
    },
    {
     "name": "stdout",
     "output_type": "stream",
     "text": [
      "[2021-06-07 18:52:22,050][valid][INFO] - {\"epoch\": 5174, \"valid_loss\": \"1.005\", \"valid_ntokens\": \"3039.79\", \"valid_nsentences\": \"144.214\", \"valid_lm_score_sum\": \"-89771.3\", \"valid_num_pred_chars\": \"48513\", \"valid_vocab_seen_pct\": \"0.885017\", \"valid_uer\": \"100.496\", \"valid_weighted_lm_ppl\": \"76.3167\", \"valid_lm_ppl\": \"59.7755\", \"valid_wps\": \"15828.6\", \"valid_wpb\": \"3039.8\", \"valid_bsz\": \"144.2\", \"valid_num_updates\": \"82784\", \"valid_best_weighted_lm_ppl\": \"73.0296\"}\r\n",
      "[2021-06-07 18:52:22,054][fairseq.checkpoint_utils][INFO] - Preparing to save checkpoint for epoch 5174 @ 82784 updates\r\n",
      "[2021-06-07 18:52:22,055][fairseq.trainer][INFO] - Saving checkpoint to /kaggle/working/checkpoint_last.pt\r\n"
     ]
    },
    {
     "name": "stdout",
     "output_type": "stream",
     "text": [
      "[2021-06-07 18:52:22,111][fairseq.trainer][INFO] - Finished saving checkpoint to /kaggle/working/checkpoint_last.pt\r\n",
      "[2021-06-07 18:52:22,111][fairseq.checkpoint_utils][INFO] - Saved checkpoint /kaggle/working/checkpoint_last.pt (epoch 5174 @ 82784 updates, score 76.31673061268725) (writing took 0.057522299997799564 seconds)\r\n",
      "[2021-06-07 18:52:22,112][fairseq_cli.train][INFO] - end of epoch 5174 (average epoch stats below)\r\n",
      "[2021-06-07 18:52:22,116][train][INFO] - {\"epoch\": 5174, \"train_loss\": \"3.632\", \"train_ntokens\": \"145.688\", \"train_nsentences\": \"145.688\", \"train_temp\": \"0.1\", \"train_code_ppl\": \"8.717\", \"train_loss_code_pen\": \"0.33\", \"train_loss_smoothness\": \"2.101\", \"train_loss_dense_g\": \"4.078\", \"train_lm_score_sum\": 0.0, \"train_num_pred_chars\": 0.0, \"train_loss_grad_pen\": \"0.079\", \"train_loss_dense_d\": \"0.026\", \"train_loss_token_d\": \"0.022\", \"train_wps\": \"10.8\", \"train_ups\": \"0.07\", \"train_wpb\": \"145.7\", \"train_bsz\": \"145.7\", \"train_num_updates\": \"82784\", \"train_lr_discriminator\": \"0.0005\", \"train_lr_generator\": \"0.0004\", \"train_gnorm\": \"32.406\", \"train_clip\": \"75\", \"train_train_wall\": \"212\", \"train_wall\": \"26996\"}\r\n"
     ]
    },
    {
     "name": "stdout",
     "output_type": "stream",
     "text": [
      "[2021-06-07 18:52:22,183][fairseq.trainer][INFO] - begin training epoch 5175\r\n",
      "[2021-06-07 18:52:22,185][fairseq_cli.train][INFO] - Start iterating over samples\r\n"
     ]
    },
    {
     "name": "stdout",
     "output_type": "stream",
     "text": [
      "[2021-06-07 18:55:55,420][train_inner][INFO] - {\"epoch\": 5175, \"update\": 5175.0, \"loss\": \"3.52\", \"ntokens\": \"145.54\", \"nsentences\": \"145.54\", \"temp\": \"0.1\", \"code_ppl\": \"8.722\", \"loss_code_pen\": \"0.331\", \"loss_smoothness\": \"2.101\", \"loss_dense_g\": \"4.252\", \"lm_score_sum\": 0.0, \"num_pred_chars\": 0.0, \"loss_grad_pen\": \"0.067\", \"loss_dense_d\": \"0.025\", \"loss_token_d\": \"0.025\", \"wps\": \"10.4\", \"ups\": \"0.07\", \"wpb\": \"145.5\", \"bsz\": \"145.5\", \"num_updates\": \"82800\", \"lr_discriminator\": \"0.0005\", \"lr_generator\": \"0.0004\", \"gnorm\": \"31.097\", \"clip\": \"70\", \"train_wall\": \"1381\", \"wall\": \"27209\"}\r\n",
      "[2021-06-07 18:55:55,422][fairseq_cli.train][INFO] - begin validation on \"valid\" subset\r\n"
     ]
    },
    {
     "name": "stdout",
     "output_type": "stream",
     "text": [
      "[2021-06-07 18:55:58,450][fairseq.tasks.unpaired_audio_text][INFO] - REF: ɛ n f œ ʂ ə n a d ɵ ʂ ə k t f øː r d eː t s ɔ m h ɛ n d ə p oː ɕ œ r k ɔ n s ɛ t ə n\r\n",
      "[2021-06-07 18:55:58,452][fairseq.tasks.unpaired_audio_text][INFO] - HYP: n ɪ n s j œ r œ j ɕ b j uː œ yː k j uː f ɵ v ə m œ k b ə uː s eː r n v oː s l ɪ ŋ k ɪ l a s œ m k n t a\r\n"
     ]
    },
    {
     "name": "stdout",
     "output_type": "stream",
     "text": [
      "[2021-06-07 18:55:58,457][fairseq.tasks.unpaired_audio_text][INFO] - LM [REF]: -53.44462585449219, 0.05339602260269112\r\n",
      "[2021-06-07 18:55:58,457][fairseq.tasks.unpaired_audio_text][INFO] - LM [HYP]: -91.17475891113281, 0.01501429075356935\r\n"
     ]
    },
    {
     "name": "stdout",
     "output_type": "stream",
     "text": [
      "[2021-06-07 18:55:58,983][valid][INFO] - {\"epoch\": 5175, \"valid_loss\": \"1.007\", \"valid_ntokens\": \"3039.79\", \"valid_nsentences\": \"144.214\", \"valid_lm_score_sum\": \"-90226.6\", \"valid_num_pred_chars\": \"48781\", \"valid_vocab_seen_pct\": \"0.881533\", \"valid_uer\": \"100.679\", \"valid_weighted_lm_ppl\": \"76.8489\", \"valid_lm_ppl\": \"59.7193\", \"valid_wps\": \"16510.2\", \"valid_wpb\": \"3039.8\", \"valid_bsz\": \"144.2\", \"valid_num_updates\": \"82800\", \"valid_best_weighted_lm_ppl\": \"73.0296\"}\r\n",
      "[2021-06-07 18:55:58,986][fairseq.checkpoint_utils][INFO] - Preparing to save checkpoint for epoch 5175 @ 82800 updates\r\n",
      "[2021-06-07 18:55:58,987][fairseq.trainer][INFO] - Saving checkpoint to /kaggle/working/checkpoint_last.pt\r\n"
     ]
    },
    {
     "name": "stdout",
     "output_type": "stream",
     "text": [
      "[2021-06-07 18:55:59,035][fairseq.trainer][INFO] - Finished saving checkpoint to /kaggle/working/checkpoint_last.pt\r\n",
      "[2021-06-07 18:55:59,035][fairseq.checkpoint_utils][INFO] - Saved checkpoint /kaggle/working/checkpoint_last.pt (epoch 5175 @ 82800 updates, score 76.84887157700996) (writing took 0.04897098199944594 seconds)\r\n",
      "[2021-06-07 18:55:59,035][fairseq_cli.train][INFO] - end of epoch 5175 (average epoch stats below)\r\n",
      "[2021-06-07 18:55:59,039][train][INFO] - {\"epoch\": 5175, \"train_loss\": \"3.817\", \"train_ntokens\": \"145.688\", \"train_nsentences\": \"145.688\", \"train_temp\": \"0.1\", \"train_code_ppl\": \"8.751\", \"train_loss_code_pen\": \"0.335\", \"train_loss_smoothness\": \"2.129\", \"train_loss_dense_g\": \"4.357\", \"train_lm_score_sum\": 0.0, \"train_num_pred_chars\": 0.0, \"train_loss_grad_pen\": \"0.103\", \"train_loss_dense_d\": \"0.025\", \"train_loss_token_d\": \"0.031\", \"train_wps\": \"10.7\", \"train_ups\": \"0.07\", \"train_wpb\": \"145.7\", \"train_bsz\": \"145.7\", \"train_num_updates\": \"82800\", \"train_lr_discriminator\": \"0.0005\", \"train_lr_generator\": \"0.0004\", \"train_gnorm\": \"32.226\", \"train_clip\": \"87.5\", \"train_train_wall\": \"213\", \"train_wall\": \"27213\"}\r\n"
     ]
    },
    {
     "name": "stdout",
     "output_type": "stream",
     "text": [
      "[2021-06-07 18:55:59,098][fairseq.trainer][INFO] - begin training epoch 5176\r\n",
      "[2021-06-07 18:55:59,099][fairseq_cli.train][INFO] - Start iterating over samples\r\n"
     ]
    },
    {
     "name": "stdout",
     "output_type": "stream",
     "text": [
      "[2021-06-07 19:00:10,531][fairseq_cli.train][INFO] - begin validation on \"valid\" subset\r\n"
     ]
    },
    {
     "name": "stdout",
     "output_type": "stream",
     "text": [
      "[2021-06-07 19:00:13,400][fairseq.tasks.unpaired_audio_text][INFO] - REF: ɛ n f œ ʂ ə n a d ɵ ʂ ə k t f øː r d eː t s ɔ m h ɛ n d ə p oː ɕ œ r k ɔ n s ɛ t ə n\r\n",
      "[2021-06-07 19:00:13,403][fairseq.tasks.unpaired_audio_text][INFO] - HYP: n ɪ n s j œ r œ ʂ b j uː œ yː k j uː f ɵ ə m œ k b ə uː s eː r n v oː s l ɪ ŋ k ɪ l a s œ k m k n t a\r\n",
      "[2021-06-07 19:00:13,407][fairseq.tasks.unpaired_audio_text][INFO] - LM [REF]: -53.44462585449219, 0.05339602260269112\r\n",
      "[2021-06-07 19:00:13,407][fairseq.tasks.unpaired_audio_text][INFO] - LM [HYP]: -89.28567504882812, 0.015060637877831367\r\n"
     ]
    },
    {
     "name": "stdout",
     "output_type": "stream",
     "text": [
      "[2021-06-07 19:00:13,938][valid][INFO] - {\"epoch\": 5176, \"valid_loss\": \"1.005\", \"valid_ntokens\": \"3039.79\", \"valid_nsentences\": \"144.214\", \"valid_lm_score_sum\": \"-90163.4\", \"valid_num_pred_chars\": \"48645\", \"valid_vocab_seen_pct\": \"0.885017\", \"valid_uer\": \"100.526\", \"valid_weighted_lm_ppl\": \"76.8652\", \"valid_lm_ppl\": \"60.2051\", \"valid_wps\": \"16130.9\", \"valid_wpb\": \"3039.8\", \"valid_bsz\": \"144.2\", \"valid_num_updates\": \"82816\", \"valid_best_weighted_lm_ppl\": \"73.0296\"}\r\n",
      "[2021-06-07 19:00:13,941][fairseq.checkpoint_utils][INFO] - Preparing to save checkpoint for epoch 5176 @ 82816 updates\r\n",
      "[2021-06-07 19:00:13,943][fairseq.trainer][INFO] - Saving checkpoint to /kaggle/working/checkpoint_last.pt\r\n"
     ]
    },
    {
     "name": "stdout",
     "output_type": "stream",
     "text": [
      "[2021-06-07 19:00:13,991][fairseq.trainer][INFO] - Finished saving checkpoint to /kaggle/working/checkpoint_last.pt\r\n",
      "[2021-06-07 19:00:13,991][fairseq.checkpoint_utils][INFO] - Saved checkpoint /kaggle/working/checkpoint_last.pt (epoch 5176 @ 82816 updates, score 76.8652166731294) (writing took 0.049885879998328164 seconds)\r\n",
      "[2021-06-07 19:00:13,992][fairseq_cli.train][INFO] - end of epoch 5176 (average epoch stats below)\r\n",
      "[2021-06-07 19:00:13,995][train][INFO] - {\"epoch\": 5176, \"train_loss\": \"3.022\", \"train_ntokens\": \"145.688\", \"train_nsentences\": \"145.688\", \"train_temp\": \"0.1\", \"train_code_ppl\": \"8.75\", \"train_loss_code_pen\": \"0.338\", \"train_loss_smoothness\": \"2.1\", \"train_loss_dense_g\": \"4.137\", \"train_lm_score_sum\": 0.0, \"train_num_pred_chars\": 0.0, \"train_loss_grad_pen\": \"0.059\", \"train_loss_dense_d\": \"0.025\", \"train_loss_token_d\": \"0.022\", \"train_wps\": \"9.1\", \"train_ups\": \"0.06\", \"train_wpb\": \"145.7\", \"train_bsz\": \"145.7\", \"train_num_updates\": \"82816\", \"train_lr_discriminator\": \"0.0005\", \"train_lr_generator\": \"0.0004\", \"train_gnorm\": \"29.654\", \"train_clip\": \"68.8\", \"train_train_wall\": \"251\", \"train_wall\": \"27468\"}\r\n"
     ]
    },
    {
     "name": "stdout",
     "output_type": "stream",
     "text": [
      "[2021-06-07 19:00:14,053][fairseq.trainer][INFO] - begin training epoch 5177\r\n",
      "[2021-06-07 19:00:14,054][fairseq_cli.train][INFO] - Start iterating over samples\r\n"
     ]
    },
    {
     "name": "stdout",
     "output_type": "stream",
     "text": [
      "[2021-06-07 19:03:53,392][fairseq_cli.train][INFO] - begin validation on \"valid\" subset\r\n"
     ]
    },
    {
     "name": "stdout",
     "output_type": "stream",
     "text": [
      "[2021-06-07 19:03:56,207][fairseq.tasks.unpaired_audio_text][INFO] - REF: ɛ n f œ ʂ ə n a d ɵ ʂ ə k t f øː r d eː t s ɔ m h ɛ n d ə p oː ɕ œ r k ɔ n s ɛ t ə n\r\n",
      "[2021-06-07 19:03:56,210][fairseq.tasks.unpaired_audio_text][INFO] - HYP: n ɪ n s j œ r œ ʂ b j uː œ yː k j uː f ɵ v j ə m œ k b ə uː s eː r n v oː s l ɪ ŋ k l ɪ l a s œ k m k n t a\r\n",
      "[2021-06-07 19:03:56,215][fairseq.tasks.unpaired_audio_text][INFO] - LM [REF]: -53.44462585449219, 0.05339602260269112\r\n",
      "[2021-06-07 19:03:56,216][fairseq.tasks.unpaired_audio_text][INFO] - LM [HYP]: -94.68084716796875, 0.01510826095630163\r\n"
     ]
    },
    {
     "name": "stdout",
     "output_type": "stream",
     "text": [
      "[2021-06-07 19:03:56,771][valid][INFO] - {\"epoch\": 5177, \"valid_loss\": \"1.006\", \"valid_ntokens\": \"3039.79\", \"valid_nsentences\": \"144.214\", \"valid_lm_score_sum\": \"-89961.1\", \"valid_num_pred_chars\": \"48674\", \"valid_vocab_seen_pct\": \"0.879791\", \"valid_uer\": \"100.564\", \"valid_weighted_lm_ppl\": \"76.8894\", \"valid_lm_ppl\": \"59.5148\", \"valid_wps\": \"16174.7\", \"valid_wpb\": \"3039.8\", \"valid_bsz\": \"144.2\", \"valid_num_updates\": \"82832\", \"valid_best_weighted_lm_ppl\": \"73.0296\"}\r\n",
      "[2021-06-07 19:03:56,775][fairseq.checkpoint_utils][INFO] - Preparing to save checkpoint for epoch 5177 @ 82832 updates\r\n",
      "[2021-06-07 19:03:56,776][fairseq.trainer][INFO] - Saving checkpoint to /kaggle/working/checkpoint_last.pt\r\n"
     ]
    },
    {
     "name": "stdout",
     "output_type": "stream",
     "text": [
      "[2021-06-07 19:03:56,824][fairseq.trainer][INFO] - Finished saving checkpoint to /kaggle/working/checkpoint_last.pt\r\n",
      "[2021-06-07 19:03:56,824][fairseq.checkpoint_utils][INFO] - Saved checkpoint /kaggle/working/checkpoint_last.pt (epoch 5177 @ 82832 updates, score 76.88935668615994) (writing took 0.04943806799929007 seconds)\r\n",
      "[2021-06-07 19:03:56,825][fairseq_cli.train][INFO] - end of epoch 5177 (average epoch stats below)\r\n",
      "[2021-06-07 19:03:56,829][train][INFO] - {\"epoch\": 5177, \"train_loss\": \"3.753\", \"train_ntokens\": \"145.688\", \"train_nsentences\": \"145.688\", \"train_temp\": \"0.1\", \"train_code_ppl\": \"8.555\", \"train_loss_code_pen\": \"0.336\", \"train_loss_smoothness\": \"2.123\", \"train_loss_dense_g\": \"4.281\", \"train_lm_score_sum\": 0.0, \"train_num_pred_chars\": 0.0, \"train_loss_grad_pen\": \"0.067\", \"train_loss_dense_d\": \"0.025\", \"train_loss_token_d\": \"0.025\", \"train_wps\": \"10.5\", \"train_ups\": \"0.07\", \"train_wpb\": \"145.7\", \"train_bsz\": \"145.7\", \"train_num_updates\": \"82832\", \"train_lr_discriminator\": \"0.0005\", \"train_lr_generator\": \"0.0004\", \"train_gnorm\": \"30.622\", \"train_clip\": \"68.8\", \"train_train_wall\": \"219\", \"train_wall\": \"27690\"}\r\n"
     ]
    },
    {
     "name": "stdout",
     "output_type": "stream",
     "text": [
      "[2021-06-07 19:03:56,887][fairseq.trainer][INFO] - begin training epoch 5178\r\n",
      "[2021-06-07 19:03:56,888][fairseq_cli.train][INFO] - Start iterating over samples\r\n"
     ]
    },
    {
     "name": "stdout",
     "output_type": "stream",
     "text": [
      "[2021-06-07 19:07:48,355][fairseq_cli.train][INFO] - begin validation on \"valid\" subset\r\n"
     ]
    },
    {
     "name": "stdout",
     "output_type": "stream",
     "text": [
      "[2021-06-07 19:07:51,435][fairseq.tasks.unpaired_audio_text][INFO] - REF: ɛ n f œ ʂ ə n a d ɵ ʂ ə k t f øː r d eː t s ɔ m h ɛ n d ə p oː ɕ œ r k ɔ n s ɛ t ə n\r\n",
      "[2021-06-07 19:07:51,438][fairseq.tasks.unpaired_audio_text][INFO] - HYP: n ɪ n s j œ r œ ɕ b j uː œ yː k j uː f ɵ v j ə m œ k b ə uː s eː r n v oː s l ɪ ŋ k l ɪ l a ɔ œ k m k n t a\r\n",
      "[2021-06-07 19:07:51,443][fairseq.tasks.unpaired_audio_text][INFO] - LM [REF]: -53.44462585449219, 0.05339602260269112\r\n",
      "[2021-06-07 19:07:51,444][fairseq.tasks.unpaired_audio_text][INFO] - LM [HYP]: -97.24749755859375, 0.01348515107301863\r\n"
     ]
    },
    {
     "name": "stdout",
     "output_type": "stream",
     "text": [
      "[2021-06-07 19:07:52,012][valid][INFO] - {\"epoch\": 5178, \"valid_loss\": \"1.005\", \"valid_ntokens\": \"3039.79\", \"valid_nsentences\": \"144.214\", \"valid_lm_score_sum\": \"-90061.9\", \"valid_num_pred_chars\": \"48569\", \"valid_vocab_seen_pct\": \"0.88676\", \"valid_uer\": \"100.491\", \"valid_weighted_lm_ppl\": \"76.6815\", \"valid_lm_ppl\": \"60.298\", \"valid_wps\": \"14659.4\", \"valid_wpb\": \"3039.8\", \"valid_bsz\": \"144.2\", \"valid_num_updates\": \"82848\", \"valid_best_weighted_lm_ppl\": \"73.0296\"}\r\n",
      "[2021-06-07 19:07:52,016][fairseq.checkpoint_utils][INFO] - Preparing to save checkpoint for epoch 5178 @ 82848 updates\r\n",
      "[2021-06-07 19:07:52,017][fairseq.trainer][INFO] - Saving checkpoint to /kaggle/working/checkpoint_last.pt\r\n"
     ]
    },
    {
     "name": "stdout",
     "output_type": "stream",
     "text": [
      "[2021-06-07 19:07:52,068][fairseq.trainer][INFO] - Finished saving checkpoint to /kaggle/working/checkpoint_last.pt\r\n",
      "[2021-06-07 19:07:52,069][fairseq.checkpoint_utils][INFO] - Saved checkpoint /kaggle/working/checkpoint_last.pt (epoch 5178 @ 82848 updates, score 76.68154434798274) (writing took 0.05285297599766636 seconds)\r\n",
      "[2021-06-07 19:07:52,069][fairseq_cli.train][INFO] - end of epoch 5178 (average epoch stats below)\r\n",
      "[2021-06-07 19:07:52,073][train][INFO] - {\"epoch\": 5178, \"train_loss\": \"3.458\", \"train_ntokens\": \"145.688\", \"train_nsentences\": \"145.688\", \"train_temp\": \"0.1\", \"train_code_ppl\": \"8.749\", \"train_loss_code_pen\": \"0.331\", \"train_loss_smoothness\": \"2.087\", \"train_loss_dense_g\": \"4.069\", \"train_lm_score_sum\": 0.0, \"train_num_pred_chars\": 0.0, \"train_loss_grad_pen\": \"0.135\", \"train_loss_dense_d\": \"0.032\", \"train_loss_token_d\": \"0.033\", \"train_wps\": \"9.9\", \"train_ups\": \"0.07\", \"train_wpb\": \"145.7\", \"train_bsz\": \"145.7\", \"train_num_updates\": \"82848\", \"train_lr_discriminator\": \"0.0005\", \"train_lr_generator\": \"0.0004\", \"train_gnorm\": \"41.32\", \"train_clip\": \"68.8\", \"train_train_wall\": \"231\", \"train_wall\": \"27926\"}\r\n"
     ]
    },
    {
     "name": "stdout",
     "output_type": "stream",
     "text": [
      "[2021-06-07 19:07:52,138][fairseq.trainer][INFO] - begin training epoch 5179\r\n",
      "[2021-06-07 19:07:52,140][fairseq_cli.train][INFO] - Start iterating over samples\r\n"
     ]
    },
    {
     "name": "stdout",
     "output_type": "stream",
     "text": [
      "[2021-06-07 19:12:06,904][fairseq_cli.train][INFO] - begin validation on \"valid\" subset\r\n"
     ]
    },
    {
     "name": "stdout",
     "output_type": "stream",
     "text": [
      "[2021-06-07 19:12:09,888][fairseq.tasks.unpaired_audio_text][INFO] - REF: ɛ n f œ ʂ ə n a d ɵ ʂ ə k t f øː r d eː t s ɔ m h ɛ n d ə p oː ɕ œ r k ɔ n s ɛ t ə n\r\n",
      "[2021-06-07 19:12:09,890][fairseq.tasks.unpaired_audio_text][INFO] - HYP: n ɪ n s j œ r œ j ɕ b j uː yː k j uː f ɵ v j m ə m œ k b ə uː s eː r n v oː s l ɪ ŋ k l ɪ l a s œ k m k n t a\r\n",
      "[2021-06-07 19:12:09,895][fairseq.tasks.unpaired_audio_text][INFO] - LM [REF]: -53.44462585449219, 0.05339602260269112\r\n",
      "[2021-06-07 19:12:09,895][fairseq.tasks.unpaired_audio_text][INFO] - LM [HYP]: -97.06863403320312, 0.014740639970616757\r\n"
     ]
    },
    {
     "name": "stdout",
     "output_type": "stream",
     "text": [
      "[2021-06-07 19:12:10,414][valid][INFO] - {\"epoch\": 5179, \"valid_loss\": \"1.005\", \"valid_ntokens\": \"3039.79\", \"valid_nsentences\": \"144.214\", \"valid_lm_score_sum\": \"-90054.9\", \"valid_num_pred_chars\": \"48538\", \"valid_vocab_seen_pct\": \"0.88676\", \"valid_uer\": \"100.496\", \"valid_weighted_lm_ppl\": \"76.8499\", \"valid_lm_ppl\": \"60.4303\", \"valid_wps\": \"15419.4\", \"valid_wpb\": \"3039.8\", \"valid_bsz\": \"144.2\", \"valid_num_updates\": \"82864\", \"valid_best_weighted_lm_ppl\": \"73.0296\"}\r\n",
      "[2021-06-07 19:12:10,417][fairseq.checkpoint_utils][INFO] - Preparing to save checkpoint for epoch 5179 @ 82864 updates\r\n",
      "[2021-06-07 19:12:10,418][fairseq.trainer][INFO] - Saving checkpoint to /kaggle/working/checkpoint_last.pt\r\n"
     ]
    },
    {
     "name": "stdout",
     "output_type": "stream",
     "text": [
      "[2021-06-07 19:12:10,465][fairseq.trainer][INFO] - Finished saving checkpoint to /kaggle/working/checkpoint_last.pt\r\n",
      "[2021-06-07 19:12:10,465][fairseq.checkpoint_utils][INFO] - Saved checkpoint /kaggle/working/checkpoint_last.pt (epoch 5179 @ 82864 updates, score 76.84986442483454) (writing took 0.04786479700123891 seconds)\r\n",
      "[2021-06-07 19:12:10,465][fairseq_cli.train][INFO] - end of epoch 5179 (average epoch stats below)\r\n",
      "[2021-06-07 19:12:10,469][train][INFO] - {\"epoch\": 5179, \"train_loss\": \"3.019\", \"train_ntokens\": \"145.688\", \"train_nsentences\": \"145.688\", \"train_temp\": \"0.1\", \"train_code_ppl\": \"8.751\", \"train_loss_code_pen\": \"0.328\", \"train_loss_smoothness\": \"2.066\", \"train_loss_dense_g\": \"4.195\", \"train_lm_score_sum\": 0.0, \"train_num_pred_chars\": 0.0, \"train_loss_grad_pen\": \"0.037\", \"train_loss_dense_d\": \"0.026\", \"train_loss_token_d\": \"0.025\", \"train_wps\": \"9\", \"train_ups\": \"0.06\", \"train_wpb\": \"145.7\", \"train_bsz\": \"145.7\", \"train_num_updates\": \"82864\", \"train_lr_discriminator\": \"0.0005\", \"train_lr_generator\": \"0.0004\", \"train_gnorm\": \"28.294\", \"train_clip\": \"50\", \"train_train_wall\": \"254\", \"train_wall\": \"28184\"}\r\n"
     ]
    },
    {
     "name": "stdout",
     "output_type": "stream",
     "text": [
      "[2021-06-07 19:12:10,527][fairseq.trainer][INFO] - begin training epoch 5180\r\n",
      "[2021-06-07 19:12:10,528][fairseq_cli.train][INFO] - Start iterating over samples\r\n"
     ]
    },
    {
     "name": "stdout",
     "output_type": "stream",
     "text": [
      "[2021-06-07 19:15:48,517][fairseq_cli.train][INFO] - begin validation on \"valid\" subset\r\n"
     ]
    },
    {
     "name": "stdout",
     "output_type": "stream",
     "text": [
      "[2021-06-07 19:15:51,335][fairseq.tasks.unpaired_audio_text][INFO] - REF: ɛ n f œ ʂ ə n a d ɵ ʂ ə k t f øː r d eː t s ɔ m h ɛ n d ə p oː ɕ œ r k ɔ n s ɛ t ə n\r\n",
      "[2021-06-07 19:15:51,338][fairseq.tasks.unpaired_audio_text][INFO] - HYP: n ɪ n s j œ r œ j ʃ b j uː œ yː k j uː f ɵ v j m n ə m œ k b ə uː s eː r n v oː s l ɪ ŋ k l ɪ l a s œ k m k n t a\r\n",
      "[2021-06-07 19:15:51,343][fairseq.tasks.unpaired_audio_text][INFO] - LM [REF]: -53.44462585449219, 0.05339602260269112\r\n",
      "[2021-06-07 19:15:51,343][fairseq.tasks.unpaired_audio_text][INFO] - LM [HYP]: -101.3564453125, 0.014360036367264194\r\n"
     ]
    },
    {
     "name": "stdout",
     "output_type": "stream",
     "text": [
      "[2021-06-07 19:15:51,872][valid][INFO] - {\"epoch\": 5180, \"valid_loss\": \"1.005\", \"valid_ntokens\": \"3039.79\", \"valid_nsentences\": \"144.214\", \"valid_lm_score_sum\": \"-89847.3\", \"valid_num_pred_chars\": \"48642\", \"valid_vocab_seen_pct\": \"0.888502\", \"valid_uer\": \"100.51\", \"valid_weighted_lm_ppl\": \"75.194\", \"valid_lm_ppl\": \"59.3608\", \"valid_wps\": \"16542.8\", \"valid_wpb\": \"3039.8\", \"valid_bsz\": \"144.2\", \"valid_num_updates\": \"82880\", \"valid_best_weighted_lm_ppl\": \"73.0296\"}\r\n",
      "[2021-06-07 19:15:51,875][fairseq.checkpoint_utils][INFO] - Preparing to save checkpoint for epoch 5180 @ 82880 updates\r\n",
      "[2021-06-07 19:15:51,876][fairseq.trainer][INFO] - Saving checkpoint to /kaggle/working/checkpoint_last.pt\r\n"
     ]
    },
    {
     "name": "stdout",
     "output_type": "stream",
     "text": [
      "[2021-06-07 19:15:51,926][fairseq.trainer][INFO] - Finished saving checkpoint to /kaggle/working/checkpoint_last.pt\r\n",
      "[2021-06-07 19:15:51,926][fairseq.checkpoint_utils][INFO] - Saved checkpoint /kaggle/working/checkpoint_last.pt (epoch 5180 @ 82880 updates, score 75.19396281937934) (writing took 0.05116825400182279 seconds)\r\n",
      "[2021-06-07 19:15:51,927][fairseq_cli.train][INFO] - end of epoch 5180 (average epoch stats below)\r\n",
      "[2021-06-07 19:15:51,931][train][INFO] - {\"epoch\": 5180, \"train_loss\": \"3.751\", \"train_ntokens\": \"145.688\", \"train_nsentences\": \"145.688\", \"train_temp\": \"0.1\", \"train_code_ppl\": \"8.73\", \"train_loss_code_pen\": \"0.32\", \"train_loss_smoothness\": \"2.044\", \"train_loss_dense_g\": \"4.329\", \"train_lm_score_sum\": 0.0, \"train_num_pred_chars\": 0.0, \"train_loss_grad_pen\": \"0.11\", \"train_loss_dense_d\": \"0.019\", \"train_loss_token_d\": \"0.041\", \"train_wps\": \"10.5\", \"train_ups\": \"0.07\", \"train_wpb\": \"145.7\", \"train_bsz\": \"145.7\", \"train_num_updates\": \"82880\", \"train_lr_discriminator\": \"0.0005\", \"train_lr_generator\": \"0.0004\", \"train_gnorm\": \"32.902\", \"train_clip\": \"81.2\", \"train_train_wall\": \"217\", \"train_wall\": \"28405\"}\r\n"
     ]
    },
    {
     "name": "stdout",
     "output_type": "stream",
     "text": [
      "[2021-06-07 19:15:51,991][fairseq.trainer][INFO] - begin training epoch 5181\r\n",
      "[2021-06-07 19:15:51,992][fairseq_cli.train][INFO] - Start iterating over samples\r\n"
     ]
    },
    {
     "name": "stdout",
     "output_type": "stream",
     "text": [
      "[2021-06-07 19:19:56,117][fairseq_cli.train][INFO] - begin validation on \"valid\" subset\r\n"
     ]
    },
    {
     "name": "stdout",
     "output_type": "stream",
     "text": [
      "[2021-06-07 19:19:59,567][fairseq.tasks.unpaired_audio_text][INFO] - REF: ɛ n f œ ʂ ə n a d ɵ ʂ ə k t f øː r d eː t s ɔ m h ɛ n d ə p oː ɕ œ r k ɔ n s ɛ t ə n\r\n",
      "[2021-06-07 19:19:59,571][fairseq.tasks.unpaired_audio_text][INFO] - HYP: n ɪ n s j œ r œ j yː b j uː œ k j uː f ɵ ə m œ k b ə uː s eː r n ɛ oː s l ɪ ŋ k l ɪ l a s œ k m k n t a\r\n",
      "[2021-06-07 19:19:59,577][fairseq.tasks.unpaired_audio_text][INFO] - LM [REF]: -53.44462585449219, 0.05339602260269112\r\n",
      "[2021-06-07 19:19:59,578][fairseq.tasks.unpaired_audio_text][INFO] - LM [HYP]: -91.51191711425781, 0.014782968711684255\r\n"
     ]
    },
    {
     "name": "stdout",
     "output_type": "stream",
     "text": [
      "[2021-06-07 19:20:00,183][valid][INFO] - {\"epoch\": 5181, \"valid_loss\": \"1.006\", \"valid_ntokens\": \"3039.79\", \"valid_nsentences\": \"144.214\", \"valid_lm_score_sum\": \"-90088.8\", \"valid_num_pred_chars\": \"48692\", \"valid_vocab_seen_pct\": \"0.891986\", \"valid_uer\": \"100.602\", \"valid_weighted_lm_ppl\": \"75.1273\", \"valid_lm_ppl\": \"59.7742\", \"valid_wps\": \"13904.9\", \"valid_wpb\": \"3039.8\", \"valid_bsz\": \"144.2\", \"valid_num_updates\": \"82896\", \"valid_best_weighted_lm_ppl\": \"73.0296\"}\r\n",
      "[2021-06-07 19:20:00,187][fairseq.checkpoint_utils][INFO] - Preparing to save checkpoint for epoch 5181 @ 82896 updates\r\n",
      "[2021-06-07 19:20:00,189][fairseq.trainer][INFO] - Saving checkpoint to /kaggle/working/checkpoint_last.pt\r\n"
     ]
    },
    {
     "name": "stdout",
     "output_type": "stream",
     "text": [
      "[2021-06-07 19:20:00,243][fairseq.trainer][INFO] - Finished saving checkpoint to /kaggle/working/checkpoint_last.pt\r\n",
      "[2021-06-07 19:20:00,243][fairseq.checkpoint_utils][INFO] - Saved checkpoint /kaggle/working/checkpoint_last.pt (epoch 5181 @ 82896 updates, score 75.12727790098191) (writing took 0.05606727200211026 seconds)\r\n",
      "[2021-06-07 19:20:00,244][fairseq_cli.train][INFO] - end of epoch 5181 (average epoch stats below)\r\n",
      "[2021-06-07 19:20:00,248][train][INFO] - {\"epoch\": 5181, \"train_loss\": \"3.235\", \"train_ntokens\": \"145.688\", \"train_nsentences\": \"145.688\", \"train_temp\": \"0.1\", \"train_code_ppl\": \"8.688\", \"train_loss_code_pen\": \"0.328\", \"train_loss_smoothness\": \"2.083\", \"train_loss_dense_g\": \"4.171\", \"train_lm_score_sum\": 0.0, \"train_num_pred_chars\": 0.0, \"train_loss_grad_pen\": \"0.067\", \"train_loss_dense_d\": \"0.031\", \"train_loss_token_d\": \"0.025\", \"train_wps\": \"9.4\", \"train_ups\": \"0.06\", \"train_wpb\": \"145.7\", \"train_bsz\": \"145.7\", \"train_num_updates\": \"82896\", \"train_lr_discriminator\": \"0.0005\", \"train_lr_generator\": \"0.0004\", \"train_gnorm\": \"29.503\", \"train_clip\": \"81.2\", \"train_train_wall\": \"244\", \"train_wall\": \"28654\"}\r\n"
     ]
    },
    {
     "name": "stdout",
     "output_type": "stream",
     "text": [
      "[2021-06-07 19:20:00,326][fairseq.trainer][INFO] - begin training epoch 5182\r\n",
      "[2021-06-07 19:20:00,328][fairseq_cli.train][INFO] - Start iterating over samples\r\n"
     ]
    },
    {
     "name": "stdout",
     "output_type": "stream",
     "text": [
      "[2021-06-07 19:21:03,773][train_inner][INFO] - {\"epoch\": 5182, \"update\": 5181.25, \"loss\": \"3.338\", \"ntokens\": \"144.69\", \"nsentences\": \"144.69\", \"temp\": \"0.1\", \"code_ppl\": \"8.75\", \"loss_code_pen\": \"0.331\", \"loss_smoothness\": \"2.088\", \"loss_dense_g\": \"4.198\", \"lm_score_sum\": 0.0, \"num_pred_chars\": 0.0, \"loss_grad_pen\": \"0.076\", \"loss_dense_d\": \"0.026\", \"loss_token_d\": \"0.028\", \"wps\": \"9.6\", \"ups\": \"0.07\", \"wpb\": \"144.7\", \"bsz\": \"144.7\", \"num_updates\": \"82900\", \"lr_discriminator\": \"0.0005\", \"lr_generator\": \"0.0004\", \"gnorm\": \"31.971\", \"clip\": \"69\", \"train_wall\": \"1479\", \"wall\": \"28717\"}\r\n"
     ]
    },
    {
     "name": "stdout",
     "output_type": "stream",
     "text": [
      "[2021-06-07 19:24:05,216][fairseq_cli.train][INFO] - begin validation on \"valid\" subset\r\n"
     ]
    },
    {
     "name": "stdout",
     "output_type": "stream",
     "text": [
      "[2021-06-07 19:24:08,001][fairseq.tasks.unpaired_audio_text][INFO] - REF: ɛ n f œ ʂ ə n a d ɵ ʂ ə k t f øː r d eː t s ɔ m h ɛ n d ə p oː ɕ œ r k ɔ n s ɛ t ə n\r\n",
      "[2021-06-07 19:24:08,003][fairseq.tasks.unpaired_audio_text][INFO] - HYP: n ɪ n s j œ f œ j ɕ b j uː yː k j uː f ɵ j n ə m œ k b ə uː s eː r n ɛ oː s l ɪ ŋ k ɪ l a s œ k m k n t a\r\n",
      "[2021-06-07 19:24:08,007][fairseq.tasks.unpaired_audio_text][INFO] - LM [REF]: -53.44462585449219, 0.05339602260269112\r\n",
      "[2021-06-07 19:24:08,007][fairseq.tasks.unpaired_audio_text][INFO] - LM [HYP]: -94.08401489257812, 0.01429602813699311\r\n"
     ]
    },
    {
     "name": "stdout",
     "output_type": "stream",
     "text": [
      "[2021-06-07 19:24:08,531][valid][INFO] - {\"epoch\": 5182, \"valid_loss\": \"1.004\", \"valid_ntokens\": \"3039.79\", \"valid_nsentences\": \"144.214\", \"valid_lm_score_sum\": \"-89993.4\", \"valid_num_pred_chars\": \"48617\", \"valid_vocab_seen_pct\": \"0.885017\", \"valid_uer\": \"100.428\", \"valid_weighted_lm_ppl\": \"76.4465\", \"valid_lm_ppl\": \"59.8772\", \"valid_wps\": \"16710.7\", \"valid_wpb\": \"3039.8\", \"valid_bsz\": \"144.2\", \"valid_num_updates\": \"82912\", \"valid_best_weighted_lm_ppl\": \"73.0296\"}\r\n",
      "[2021-06-07 19:24:08,534][fairseq.checkpoint_utils][INFO] - Preparing to save checkpoint for epoch 5182 @ 82912 updates\r\n",
      "[2021-06-07 19:24:08,535][fairseq.trainer][INFO] - Saving checkpoint to /kaggle/working/checkpoint_last.pt\r\n"
     ]
    },
    {
     "name": "stdout",
     "output_type": "stream",
     "text": [
      "[2021-06-07 19:24:08,583][fairseq.trainer][INFO] - Finished saving checkpoint to /kaggle/working/checkpoint_last.pt\r\n",
      "[2021-06-07 19:24:08,584][fairseq.checkpoint_utils][INFO] - Saved checkpoint /kaggle/working/checkpoint_last.pt (epoch 5182 @ 82912 updates, score 76.44650751755728) (writing took 0.04949551999743562 seconds)\r\n",
      "[2021-06-07 19:24:08,584][fairseq_cli.train][INFO] - end of epoch 5182 (average epoch stats below)\r\n",
      "[2021-06-07 19:24:08,588][train][INFO] - {\"epoch\": 5182, \"train_loss\": \"3.174\", \"train_ntokens\": \"145.688\", \"train_nsentences\": \"145.688\", \"train_temp\": \"0.1\", \"train_code_ppl\": \"8.759\", \"train_loss_code_pen\": \"0.32\", \"train_loss_smoothness\": \"2.048\", \"train_loss_dense_g\": \"4.119\", \"train_lm_score_sum\": 0.0, \"train_num_pred_chars\": 0.0, \"train_loss_grad_pen\": \"0.05\", \"train_loss_dense_d\": \"0.023\", \"train_loss_token_d\": \"0.021\", \"train_wps\": \"9.4\", \"train_ups\": \"0.06\", \"train_wpb\": \"145.7\", \"train_bsz\": \"145.7\", \"train_num_updates\": \"82912\", \"train_lr_discriminator\": \"0.0005\", \"train_lr_generator\": \"0.0004\", \"train_gnorm\": \"28.955\", \"train_clip\": \"62.5\", \"train_train_wall\": \"245\", \"train_wall\": \"28902\"}\r\n"
     ]
    },
    {
     "name": "stdout",
     "output_type": "stream",
     "text": [
      "[2021-06-07 19:24:08,657][fairseq.trainer][INFO] - begin training epoch 5183\r\n",
      "[2021-06-07 19:24:08,658][fairseq_cli.train][INFO] - Start iterating over samples\r\n"
     ]
    },
    {
     "name": "stdout",
     "output_type": "stream",
     "text": [
      "[2021-06-07 19:28:15,945][fairseq_cli.train][INFO] - begin validation on \"valid\" subset\r\n"
     ]
    },
    {
     "name": "stdout",
     "output_type": "stream",
     "text": [
      "[2021-06-07 19:28:18,869][fairseq.tasks.unpaired_audio_text][INFO] - REF: ɛ n f œ ʂ ə n a d ɵ ʂ ə k t f øː r d eː t s ɔ m h ɛ n d ə p oː ɕ œ r k ɔ n s ɛ t ə n\r\n"
     ]
    },
    {
     "name": "stdout",
     "output_type": "stream",
     "text": [
      "[2021-06-07 19:28:18,872][fairseq.tasks.unpaired_audio_text][INFO] - HYP: n ɪ n s j œ r œ j b j uː œ yː k j uː f ɵ v j n ə m œ k b ə uː s eː r n ɛ oː s l ɪ ŋ k l ɪ l a s œ k m k n t a\r\n",
      "[2021-06-07 19:28:18,878][fairseq.tasks.unpaired_audio_text][INFO] - LM [REF]: -53.44462585449219, 0.05339602260269112\r\n",
      "[2021-06-07 19:28:18,878][fairseq.tasks.unpaired_audio_text][INFO] - LM [HYP]: -97.37489318847656, 0.014545808456943733\r\n"
     ]
    },
    {
     "name": "stdout",
     "output_type": "stream",
     "text": [
      "[2021-06-07 19:28:19,417][valid][INFO] - {\"epoch\": 5183, \"valid_loss\": \"1.004\", \"valid_ntokens\": \"3039.79\", \"valid_nsentences\": \"144.214\", \"valid_lm_score_sum\": \"-89853.4\", \"valid_num_pred_chars\": \"48584\", \"valid_vocab_seen_pct\": \"0.881533\", \"valid_uer\": \"100.392\", \"valid_weighted_lm_ppl\": \"76.7674\", \"valid_lm_ppl\": \"59.656\", \"valid_wps\": \"15809.3\", \"valid_wpb\": \"3039.8\", \"valid_bsz\": \"144.2\", \"valid_num_updates\": \"82928\", \"valid_best_weighted_lm_ppl\": \"73.0296\"}\r\n",
      "[2021-06-07 19:28:19,420][fairseq.checkpoint_utils][INFO] - Preparing to save checkpoint for epoch 5183 @ 82928 updates\r\n",
      "[2021-06-07 19:28:19,421][fairseq.trainer][INFO] - Saving checkpoint to /kaggle/working/checkpoint_last.pt\r\n"
     ]
    },
    {
     "name": "stdout",
     "output_type": "stream",
     "text": [
      "[2021-06-07 19:28:19,469][fairseq.trainer][INFO] - Finished saving checkpoint to /kaggle/working/checkpoint_last.pt\r\n",
      "[2021-06-07 19:28:19,470][fairseq.checkpoint_utils][INFO] - Saved checkpoint /kaggle/working/checkpoint_last.pt (epoch 5183 @ 82928 updates, score 76.76742419794863) (writing took 0.04941713999869535 seconds)\r\n",
      "[2021-06-07 19:28:19,470][fairseq_cli.train][INFO] - end of epoch 5183 (average epoch stats below)\r\n",
      "[2021-06-07 19:28:19,473][train][INFO] - {\"epoch\": 5183, \"train_loss\": \"3.161\", \"train_ntokens\": \"145.688\", \"train_nsentences\": \"145.688\", \"train_temp\": \"0.1\", \"train_code_ppl\": \"8.736\", \"train_loss_code_pen\": \"0.311\", \"train_loss_smoothness\": \"2.011\", \"train_loss_dense_g\": \"4.56\", \"train_lm_score_sum\": 0.0, \"train_num_pred_chars\": 0.0, \"train_loss_grad_pen\": \"0.055\", \"train_loss_dense_d\": \"0.023\", \"train_loss_token_d\": \"0.027\", \"train_wps\": \"9.3\", \"train_ups\": \"0.06\", \"train_wpb\": \"145.7\", \"train_bsz\": \"145.7\", \"train_num_updates\": \"82928\", \"train_lr_discriminator\": \"0.0005\", \"train_lr_generator\": \"0.0004\", \"train_gnorm\": \"29.119\", \"train_clip\": \"56.2\", \"train_train_wall\": \"247\", \"train_wall\": \"29153\"}\r\n"
     ]
    },
    {
     "name": "stdout",
     "output_type": "stream",
     "text": [
      "[2021-06-07 19:28:19,533][fairseq.trainer][INFO] - begin training epoch 5184\r\n",
      "[2021-06-07 19:28:19,534][fairseq_cli.train][INFO] - Start iterating over samples\r\n"
     ]
    },
    {
     "name": "stdout",
     "output_type": "stream",
     "text": [
      "[2021-06-07 19:32:06,970][fairseq_cli.train][INFO] - begin validation on \"valid\" subset\r\n"
     ]
    },
    {
     "name": "stdout",
     "output_type": "stream",
     "text": [
      "[2021-06-07 19:32:09,784][fairseq.tasks.unpaired_audio_text][INFO] - REF: ɛ n f œ ʂ ə n a d ɵ ʂ ə k t f øː r d eː t s ɔ m h ɛ n d ə p oː ɕ œ r k ɔ n s ɛ t ə n\r\n",
      "[2021-06-07 19:32:09,786][fairseq.tasks.unpaired_audio_text][INFO] - HYP: n ɵ n s j œ r œ j b j uː yː k j uː f ɵ j ə m œ k b ə uː s eː r n ɛ oː s l ɪ ŋ k l ɪ l a s œ k m k n t a\r\n",
      "[2021-06-07 19:32:09,790][fairseq.tasks.unpaired_audio_text][INFO] - LM [REF]: -53.44462585449219, 0.05339602260269112\r\n",
      "[2021-06-07 19:32:09,791][fairseq.tasks.unpaired_audio_text][INFO] - LM [HYP]: -90.45835876464844, 0.015517895563383455\r\n"
     ]
    },
    {
     "name": "stdout",
     "output_type": "stream",
     "text": [
      "[2021-06-07 19:32:10,345][valid][INFO] - {\"epoch\": 5184, \"valid_loss\": \"1.002\", \"valid_ntokens\": \"3039.79\", \"valid_nsentences\": \"144.214\", \"valid_lm_score_sum\": \"-89757.5\", \"valid_num_pred_chars\": \"48476\", \"valid_vocab_seen_pct\": \"0.883275\", \"valid_uer\": \"100.242\", \"valid_weighted_lm_ppl\": \"76.7998\", \"valid_lm_ppl\": \"59.9173\", \"valid_wps\": \"16365.3\", \"valid_wpb\": \"3039.8\", \"valid_bsz\": \"144.2\", \"valid_num_updates\": \"82944\", \"valid_best_weighted_lm_ppl\": \"73.0296\"}\r\n",
      "[2021-06-07 19:32:10,349][fairseq.checkpoint_utils][INFO] - Preparing to save checkpoint for epoch 5184 @ 82944 updates\r\n",
      "[2021-06-07 19:32:10,350][fairseq.trainer][INFO] - Saving checkpoint to /kaggle/working/checkpoint_last.pt\r\n"
     ]
    },
    {
     "name": "stdout",
     "output_type": "stream",
     "text": [
      "[2021-06-07 19:32:10,407][fairseq.trainer][INFO] - Finished saving checkpoint to /kaggle/working/checkpoint_last.pt\r\n",
      "[2021-06-07 19:32:10,408][fairseq.checkpoint_utils][INFO] - Saved checkpoint /kaggle/working/checkpoint_last.pt (epoch 5184 @ 82944 updates, score 76.79980333593383) (writing took 0.05905964799967478 seconds)\r\n",
      "[2021-06-07 19:32:10,409][fairseq_cli.train][INFO] - end of epoch 5184 (average epoch stats below)\r\n",
      "[2021-06-07 19:32:10,412][train][INFO] - {\"epoch\": 5184, \"train_loss\": \"3.498\", \"train_ntokens\": \"145.688\", \"train_nsentences\": \"145.688\", \"train_temp\": \"0.1\", \"train_code_ppl\": \"8.854\", \"train_loss_code_pen\": \"0.348\", \"train_loss_smoothness\": \"2.134\", \"train_loss_dense_g\": \"4.181\", \"train_lm_score_sum\": 0.0, \"train_num_pred_chars\": 0.0, \"train_loss_grad_pen\": \"0.053\", \"train_loss_dense_d\": \"0.022\", \"train_loss_token_d\": \"0.02\", \"train_wps\": \"10.1\", \"train_ups\": \"0.07\", \"train_wpb\": \"145.7\", \"train_bsz\": \"145.7\", \"train_num_updates\": \"82944\", \"train_lr_discriminator\": \"0.0005\", \"train_lr_generator\": \"0.0004\", \"train_gnorm\": \"30.41\", \"train_clip\": \"68.8\", \"train_train_wall\": \"227\", \"train_wall\": \"29384\"}\r\n"
     ]
    },
    {
     "name": "stdout",
     "output_type": "stream",
     "text": [
      "[2021-06-07 19:32:10,476][fairseq.trainer][INFO] - begin training epoch 5185\r\n",
      "[2021-06-07 19:32:10,478][fairseq_cli.train][INFO] - Start iterating over samples\r\n"
     ]
    },
    {
     "name": "stdout",
     "output_type": "stream",
     "text": [
      "[2021-06-07 19:35:42,871][fairseq_cli.train][INFO] - begin validation on \"valid\" subset\r\n"
     ]
    },
    {
     "name": "stdout",
     "output_type": "stream",
     "text": [
      "[2021-06-07 19:35:45,749][fairseq.tasks.unpaired_audio_text][INFO] - REF: ɛ n f œ ʂ ə n a d ɵ ʂ ə k t f øː r d eː t s ɔ m h ɛ n d ə p oː ɕ œ r k ɔ n s ɛ t ə n\r\n",
      "[2021-06-07 19:35:45,751][fairseq.tasks.unpaired_audio_text][INFO] - HYP: n ɵ n s j œ r œ j b j uː œ yː k j uː f ɵ øː j n ə m œ k b ə uː s eː r n ɛ oː s l ɪ ŋ k l ɪ l s œ k m k n t a\r\n",
      "[2021-06-07 19:35:45,755][fairseq.tasks.unpaired_audio_text][INFO] - LM [REF]: -53.44462585449219, 0.05339602260269112\r\n",
      "[2021-06-07 19:35:45,756][fairseq.tasks.unpaired_audio_text][INFO] - LM [HYP]: -96.66033935546875, 0.013840357878699666\r\n"
     ]
    },
    {
     "name": "stdout",
     "output_type": "stream",
     "text": [
      "[2021-06-07 19:35:46,288][valid][INFO] - {\"epoch\": 5185, \"valid_loss\": \"1.005\", \"valid_ntokens\": \"3039.79\", \"valid_nsentences\": \"144.214\", \"valid_lm_score_sum\": \"-89903.4\", \"valid_num_pred_chars\": \"48610\", \"valid_vocab_seen_pct\": \"0.893728\", \"valid_uer\": \"100.482\", \"valid_weighted_lm_ppl\": \"74.6997\", \"valid_lm_ppl\": \"59.6664\", \"valid_wps\": \"16457\", \"valid_wpb\": \"3039.8\", \"valid_bsz\": \"144.2\", \"valid_num_updates\": \"82960\", \"valid_best_weighted_lm_ppl\": \"73.0296\"}\r\n",
      "[2021-06-07 19:35:46,291][fairseq.checkpoint_utils][INFO] - Preparing to save checkpoint for epoch 5185 @ 82960 updates\r\n",
      "[2021-06-07 19:35:46,292][fairseq.trainer][INFO] - Saving checkpoint to /kaggle/working/checkpoint_last.pt\r\n"
     ]
    },
    {
     "name": "stdout",
     "output_type": "stream",
     "text": [
      "[2021-06-07 19:35:46,341][fairseq.trainer][INFO] - Finished saving checkpoint to /kaggle/working/checkpoint_last.pt\r\n",
      "[2021-06-07 19:35:46,341][fairseq.checkpoint_utils][INFO] - Saved checkpoint /kaggle/working/checkpoint_last.pt (epoch 5185 @ 82960 updates, score 74.69971042819137) (writing took 0.04978424100045231 seconds)\r\n",
      "[2021-06-07 19:35:46,342][fairseq_cli.train][INFO] - end of epoch 5185 (average epoch stats below)\r\n"
     ]
    },
    {
     "name": "stdout",
     "output_type": "stream",
     "text": [
      "[2021-06-07 19:35:46,345][train][INFO] - {\"epoch\": 5185, \"train_loss\": \"3.766\", \"train_ntokens\": \"145.688\", \"train_nsentences\": \"145.688\", \"train_temp\": \"0.1\", \"train_code_ppl\": \"8.82\", \"train_loss_code_pen\": \"0.342\", \"train_loss_smoothness\": \"2.138\", \"train_loss_dense_g\": \"4.288\", \"train_lm_score_sum\": 0.0, \"train_num_pred_chars\": 0.0, \"train_loss_grad_pen\": \"0.068\", \"train_loss_dense_d\": \"0.022\", \"train_loss_token_d\": \"0.02\", \"train_wps\": \"10.8\", \"train_ups\": \"0.07\", \"train_wpb\": \"145.7\", \"train_bsz\": \"145.7\", \"train_num_updates\": \"82960\", \"train_lr_discriminator\": \"0.0005\", \"train_lr_generator\": \"0.0004\", \"train_gnorm\": \"31.499\", \"train_clip\": \"68.8\", \"train_train_wall\": \"212\", \"train_wall\": \"29600\"}\r\n"
     ]
    },
    {
     "name": "stdout",
     "output_type": "stream",
     "text": [
      "[2021-06-07 19:35:46,629][fairseq.trainer][INFO] - begin training epoch 5186\r\n",
      "[2021-06-07 19:35:46,631][fairseq_cli.train][INFO] - Start iterating over samples\r\n"
     ]
    },
    {
     "name": "stdout",
     "output_type": "stream",
     "text": [
      "[2021-06-07 19:39:49,773][fairseq_cli.train][INFO] - begin validation on \"valid\" subset\r\n"
     ]
    },
    {
     "name": "stdout",
     "output_type": "stream",
     "text": [
      "[2021-06-07 19:39:52,576][fairseq.tasks.unpaired_audio_text][INFO] - REF: ɛ n f œ ʂ ə n a d ɵ ʂ ə k t f øː r d eː t s ɔ m h ɛ n d ə p oː ɕ œ r k ɔ n s ɛ t ə n\r\n",
      "[2021-06-07 19:39:52,578][fairseq.tasks.unpaired_audio_text][INFO] - HYP: n ɪ s j œ r œ j b j uː œ yː k j uː f ɵ øː j m n ə m œ k b ə uː s eː r n v oː s l ɪ ŋ k ɪ l a s œ k m k n t a\r\n",
      "[2021-06-07 19:39:52,583][fairseq.tasks.unpaired_audio_text][INFO] - LM [REF]: -53.44462585449219, 0.05339602260269112\r\n",
      "[2021-06-07 19:39:52,583][fairseq.tasks.unpaired_audio_text][INFO] - LM [HYP]: -95.57931518554688, 0.014518984661290724\r\n"
     ]
    },
    {
     "name": "stdout",
     "output_type": "stream",
     "text": [
      "[2021-06-07 19:39:53,128][valid][INFO] - {\"epoch\": 5186, \"valid_loss\": \"1.005\", \"valid_ntokens\": \"3039.79\", \"valid_nsentences\": \"144.214\", \"valid_lm_score_sum\": \"-90030.9\", \"valid_num_pred_chars\": \"48630\", \"valid_vocab_seen_pct\": \"0.885017\", \"valid_uer\": \"100.489\", \"valid_weighted_lm_ppl\": \"76.4964\", \"valid_lm_ppl\": \"59.9162\", \"valid_wps\": \"16565.6\", \"valid_wpb\": \"3039.8\", \"valid_bsz\": \"144.2\", \"valid_num_updates\": \"82976\", \"valid_best_weighted_lm_ppl\": \"73.0296\"}\r\n",
      "[2021-06-07 19:39:53,131][fairseq.checkpoint_utils][INFO] - Preparing to save checkpoint for epoch 5186 @ 82976 updates\r\n",
      "[2021-06-07 19:39:53,132][fairseq.trainer][INFO] - Saving checkpoint to /kaggle/working/checkpoint_last.pt\r\n"
     ]
    },
    {
     "name": "stdout",
     "output_type": "stream",
     "text": [
      "[2021-06-07 19:39:53,181][fairseq.trainer][INFO] - Finished saving checkpoint to /kaggle/working/checkpoint_last.pt\r\n",
      "[2021-06-07 19:39:53,181][fairseq.checkpoint_utils][INFO] - Saved checkpoint /kaggle/working/checkpoint_last.pt (epoch 5186 @ 82976 updates, score 76.49639274281513) (writing took 0.05031450800015591 seconds)\r\n",
      "[2021-06-07 19:39:53,182][fairseq_cli.train][INFO] - end of epoch 5186 (average epoch stats below)\r\n"
     ]
    },
    {
     "name": "stdout",
     "output_type": "stream",
     "text": [
      "[2021-06-07 19:39:53,184][train][INFO] - {\"epoch\": 5186, \"train_loss\": \"3.313\", \"train_ntokens\": \"145.688\", \"train_nsentences\": \"145.688\", \"train_temp\": \"0.1\", \"train_code_ppl\": \"8.438\", \"train_loss_code_pen\": \"0.332\", \"train_loss_smoothness\": \"2.091\", \"train_loss_dense_g\": \"4.289\", \"train_lm_score_sum\": 0.0, \"train_num_pred_chars\": 0.0, \"train_loss_grad_pen\": \"0.102\", \"train_loss_dense_d\": \"0.025\", \"train_loss_token_d\": \"0.027\", \"train_wps\": \"9.4\", \"train_ups\": \"0.06\", \"train_wpb\": \"145.7\", \"train_bsz\": \"145.7\", \"train_num_updates\": \"82976\", \"train_lr_discriminator\": \"0.0005\", \"train_lr_generator\": \"0.0004\", \"train_gnorm\": \"30.47\", \"train_clip\": \"68.8\", \"train_train_wall\": \"243\", \"train_wall\": \"29847\"}\r\n"
     ]
    },
    {
     "name": "stdout",
     "output_type": "stream",
     "text": [
      "[2021-06-07 19:39:53,242][fairseq.trainer][INFO] - begin training epoch 5187\r\n",
      "[2021-06-07 19:39:53,244][fairseq_cli.train][INFO] - Start iterating over samples\r\n"
     ]
    },
    {
     "name": "stdout",
     "output_type": "stream",
     "text": [
      "[2021-06-07 19:44:01,217][fairseq_cli.train][INFO] - begin validation on \"valid\" subset\r\n"
     ]
    },
    {
     "name": "stdout",
     "output_type": "stream",
     "text": [
      "[2021-06-07 19:44:03,967][fairseq.tasks.unpaired_audio_text][INFO] - REF: ɛ n f œ ʂ ə n a d ɵ ʂ ə k t f øː r d eː t s ɔ m h ɛ n d ə p oː ɕ œ r k ɔ n s ɛ t ə n\r\n",
      "[2021-06-07 19:44:03,969][fairseq.tasks.unpaired_audio_text][INFO] - HYP: n ɪ n s j œ r œ j b j uː œ yː k j uː f ɵ øː j n ə m œ k b ə uː s eː r n v oː s l ɪ ŋ k ɪ l a s œ k m k t a\r\n",
      "[2021-06-07 19:44:03,974][fairseq.tasks.unpaired_audio_text][INFO] - LM [REF]: -53.44462585449219, 0.05339602260269112\r\n",
      "[2021-06-07 19:44:03,974][fairseq.tasks.unpaired_audio_text][INFO] - LM [HYP]: -92.92652893066406, 0.015062990335141458\r\n"
     ]
    },
    {
     "name": "stdout",
     "output_type": "stream",
     "text": [
      "[2021-06-07 19:44:04,502][valid][INFO] - {\"epoch\": 5187, \"valid_loss\": \"1.004\", \"valid_ntokens\": \"3039.79\", \"valid_nsentences\": \"144.214\", \"valid_lm_score_sum\": \"-89856.8\", \"valid_num_pred_chars\": \"48555\", \"valid_vocab_seen_pct\": \"0.883275\", \"valid_uer\": \"100.352\", \"valid_weighted_lm_ppl\": \"76.6561\", \"valid_lm_ppl\": \"59.8052\", \"valid_wps\": \"16889.3\", \"valid_wpb\": \"3039.8\", \"valid_bsz\": \"144.2\", \"valid_num_updates\": \"82992\", \"valid_best_weighted_lm_ppl\": \"73.0296\"}\r\n",
      "[2021-06-07 19:44:04,505][fairseq.checkpoint_utils][INFO] - Preparing to save checkpoint for epoch 5187 @ 82992 updates\r\n"
     ]
    },
    {
     "name": "stdout",
     "output_type": "stream",
     "text": [
      "[2021-06-07 19:44:04,507][fairseq.trainer][INFO] - Saving checkpoint to /kaggle/working/checkpoint_last.pt\r\n",
      "[2021-06-07 19:44:04,557][fairseq.trainer][INFO] - Finished saving checkpoint to /kaggle/working/checkpoint_last.pt\r\n",
      "[2021-06-07 19:44:04,557][fairseq.checkpoint_utils][INFO] - Saved checkpoint /kaggle/working/checkpoint_last.pt (epoch 5187 @ 82992 updates, score 76.65606415742707) (writing took 0.05169638500228757 seconds)\r\n",
      "[2021-06-07 19:44:04,557][fairseq_cli.train][INFO] - end of epoch 5187 (average epoch stats below)\r\n"
     ]
    },
    {
     "name": "stdout",
     "output_type": "stream",
     "text": [
      "[2021-06-07 19:44:04,561][train][INFO] - {\"epoch\": 5187, \"train_loss\": \"3.061\", \"train_ntokens\": \"145.688\", \"train_nsentences\": \"145.688\", \"train_temp\": \"0.1\", \"train_code_ppl\": \"8.604\", \"train_loss_code_pen\": \"0.325\", \"train_loss_smoothness\": \"2.053\", \"train_loss_dense_g\": \"4.278\", \"train_lm_score_sum\": 0.0, \"train_num_pred_chars\": 0.0, \"train_loss_grad_pen\": \"0.06\", \"train_loss_dense_d\": \"0.025\", \"train_loss_token_d\": \"0.025\", \"train_wps\": \"9.3\", \"train_ups\": \"0.06\", \"train_wpb\": \"145.7\", \"train_bsz\": \"145.7\", \"train_num_updates\": \"82992\", \"train_lr_discriminator\": \"0.0005\", \"train_lr_generator\": \"0.0004\", \"train_gnorm\": \"29.67\", \"train_clip\": \"62.5\", \"train_train_wall\": \"247\", \"train_wall\": \"30098\"}\r\n"
     ]
    },
    {
     "name": "stdout",
     "output_type": "stream",
     "text": [
      "[2021-06-07 19:44:04,620][fairseq.trainer][INFO] - begin training epoch 5188\r\n",
      "[2021-06-07 19:44:04,622][fairseq_cli.train][INFO] - Start iterating over samples\r\n"
     ]
    },
    {
     "name": "stdout",
     "output_type": "stream",
     "text": [
      "[2021-06-07 19:46:08,435][train_inner][INFO] - {\"epoch\": 5188, \"update\": 5187.5, \"loss\": \"3.366\", \"ntokens\": \"147.83\", \"nsentences\": \"147.83\", \"temp\": \"0.1\", \"code_ppl\": \"8.659\", \"loss_code_pen\": \"0.329\", \"loss_smoothness\": \"2.077\", \"loss_dense_g\": \"4.281\", \"lm_score_sum\": 0.0, \"num_pred_chars\": 0.0, \"loss_grad_pen\": \"0.068\", \"loss_dense_d\": \"0.024\", \"loss_token_d\": \"0.024\", \"wps\": \"9.8\", \"ups\": \"0.07\", \"wpb\": \"147.8\", \"bsz\": \"147.8\", \"num_updates\": \"83000\", \"lr_discriminator\": \"0.0005\", \"lr_generator\": \"0.0004\", \"gnorm\": \"30.027\", \"clip\": \"66\", \"train_wall\": \"1480\", \"wall\": \"30222\"}\r\n"
     ]
    },
    {
     "name": "stdout",
     "output_type": "stream",
     "text": [
      "[2021-06-07 19:48:07,932][fairseq_cli.train][INFO] - begin validation on \"valid\" subset\r\n"
     ]
    },
    {
     "name": "stdout",
     "output_type": "stream",
     "text": [
      "[2021-06-07 19:48:10,705][fairseq.tasks.unpaired_audio_text][INFO] - REF: ɛ n f œ ʂ ə n a d ɵ ʂ ə k t f øː r d eː t s ɔ m h ɛ n d ə p oː ɕ œ r k ɔ n s ɛ t ə n\r\n",
      "[2021-06-07 19:48:10,707][fairseq.tasks.unpaired_audio_text][INFO] - HYP: n ɵ n s j œ r œ j yː b j uː œ yː k j uː f ɵ j n ə m œ k b ə uː s eː r n v oː s l ɪ ŋ k ɪ l s œ k m k n t a\r\n",
      "[2021-06-07 19:48:10,711][fairseq.tasks.unpaired_audio_text][INFO] - LM [REF]: -53.44462585449219, 0.05339602260269112\r\n",
      "[2021-06-07 19:48:10,711][fairseq.tasks.unpaired_audio_text][INFO] - LM [HYP]: -95.25078582763672, 0.013562430722147646\r\n"
     ]
    },
    {
     "name": "stdout",
     "output_type": "stream",
     "text": [
      "[2021-06-07 19:48:11,298][valid][INFO] - {\"epoch\": 5188, \"valid_loss\": \"1.004\", \"valid_ntokens\": \"3039.79\", \"valid_nsentences\": \"144.214\", \"valid_lm_score_sum\": \"-90010.4\", \"valid_num_pred_chars\": \"48635\", \"valid_vocab_seen_pct\": \"0.890244\", \"valid_uer\": \"100.39\", \"valid_weighted_lm_ppl\": \"75.5001\", \"valid_lm_ppl\": \"59.8364\", \"valid_wps\": \"16390.3\", \"valid_wpb\": \"3039.8\", \"valid_bsz\": \"144.2\", \"valid_num_updates\": \"83008\", \"valid_best_weighted_lm_ppl\": \"73.0296\"}\r\n",
      "[2021-06-07 19:48:11,301][fairseq.checkpoint_utils][INFO] - Preparing to save checkpoint for epoch 5188 @ 83008 updates\r\n",
      "[2021-06-07 19:48:11,302][fairseq.trainer][INFO] - Saving checkpoint to /kaggle/working/checkpoint_last.pt\r\n"
     ]
    },
    {
     "name": "stdout",
     "output_type": "stream",
     "text": [
      "[2021-06-07 19:48:11,349][fairseq.trainer][INFO] - Finished saving checkpoint to /kaggle/working/checkpoint_last.pt\r\n",
      "[2021-06-07 19:48:11,349][fairseq.checkpoint_utils][INFO] - Saved checkpoint /kaggle/working/checkpoint_last.pt (epoch 5188 @ 83008 updates, score 75.50009993272101) (writing took 0.048437415000080364 seconds)\r\n",
      "[2021-06-07 19:48:11,350][fairseq_cli.train][INFO] - end of epoch 5188 (average epoch stats below)\r\n",
      "[2021-06-07 19:48:11,353][train][INFO] - {\"epoch\": 5188, \"train_loss\": \"3.048\", \"train_ntokens\": \"145.688\", \"train_nsentences\": \"145.688\", \"train_temp\": \"0.1\", \"train_code_ppl\": \"8.791\", \"train_loss_code_pen\": \"0.33\", \"train_loss_smoothness\": \"2.061\", \"train_loss_dense_g\": \"4.216\", \"train_lm_score_sum\": 0.0, \"train_num_pred_chars\": 0.0, \"train_loss_grad_pen\": \"0.079\", \"train_loss_dense_d\": \"0.024\", \"train_loss_token_d\": \"0.021\", \"train_wps\": \"9.4\", \"train_ups\": \"0.06\", \"train_wpb\": \"145.7\", \"train_bsz\": \"145.7\", \"train_num_updates\": \"83008\", \"train_lr_discriminator\": \"0.0005\", \"train_lr_generator\": \"0.0004\", \"train_gnorm\": \"30.465\", \"train_clip\": \"81.2\", \"train_train_wall\": \"243\", \"train_wall\": \"30345\"}\r\n"
     ]
    },
    {
     "name": "stdout",
     "output_type": "stream",
     "text": [
      "[2021-06-07 19:48:11,414][fairseq.trainer][INFO] - begin training epoch 5189\r\n",
      "[2021-06-07 19:48:11,416][fairseq_cli.train][INFO] - Start iterating over samples\r\n"
     ]
    },
    {
     "name": "stdout",
     "output_type": "stream",
     "text": [
      "[2021-06-07 19:51:49,318][fairseq_cli.train][INFO] - begin validation on \"valid\" subset\r\n"
     ]
    },
    {
     "name": "stdout",
     "output_type": "stream",
     "text": [
      "[2021-06-07 19:51:52,154][fairseq.tasks.unpaired_audio_text][INFO] - REF: ɛ n f œ ʂ ə n a d ɵ ʂ ə k t f øː r d eː t s ɔ m h ɛ n d ə p oː ɕ œ r k ɔ n s ɛ t ə n\r\n"
     ]
    },
    {
     "name": "stdout",
     "output_type": "stream",
     "text": [
      "[2021-06-07 19:51:52,158][fairseq.tasks.unpaired_audio_text][INFO] - HYP: n ɵ n s j œ r œ j yː b j uː œ yː k ə uː f ɵ øː j m n ə m œ k b ə uː s eː r n ɛ oː s l ɪ ŋ k ɪ l s œ uː m k n t a\r\n",
      "[2021-06-07 19:51:52,163][fairseq.tasks.unpaired_audio_text][INFO] - LM [REF]: -53.44462585449219, 0.05339602260269112\r\n",
      "[2021-06-07 19:51:52,163][fairseq.tasks.unpaired_audio_text][INFO] - LM [HYP]: -99.7162094116211, 0.013138993160785048\r\n"
     ]
    },
    {
     "name": "stdout",
     "output_type": "stream",
     "text": [
      "[2021-06-07 19:51:52,680][valid][INFO] - {\"epoch\": 5189, \"valid_loss\": \"1.005\", \"valid_ntokens\": \"3039.79\", \"valid_nsentences\": \"144.214\", \"valid_lm_score_sum\": \"-89863.8\", \"valid_num_pred_chars\": \"48713\", \"valid_vocab_seen_pct\": \"0.87108\", \"valid_uer\": \"100.503\", \"valid_weighted_lm_ppl\": \"77.8442\", \"valid_lm_ppl\": \"59.0667\", \"valid_wps\": \"16431.2\", \"valid_wpb\": \"3039.8\", \"valid_bsz\": \"144.2\", \"valid_num_updates\": \"83024\", \"valid_best_weighted_lm_ppl\": \"73.0296\"}\r\n",
      "[2021-06-07 19:51:52,683][fairseq.checkpoint_utils][INFO] - Preparing to save checkpoint for epoch 5189 @ 83024 updates\r\n",
      "[2021-06-07 19:51:52,684][fairseq.trainer][INFO] - Saving checkpoint to /kaggle/working/checkpoint_last.pt\r\n"
     ]
    },
    {
     "name": "stdout",
     "output_type": "stream",
     "text": [
      "[2021-06-07 19:51:52,730][fairseq.trainer][INFO] - Finished saving checkpoint to /kaggle/working/checkpoint_last.pt\r\n",
      "[2021-06-07 19:51:52,730][fairseq.checkpoint_utils][INFO] - Saved checkpoint /kaggle/working/checkpoint_last.pt (epoch 5189 @ 83024 updates, score 77.84423415445997) (writing took 0.0472021429995948 seconds)\r\n",
      "[2021-06-07 19:51:52,731][fairseq_cli.train][INFO] - end of epoch 5189 (average epoch stats below)\r\n",
      "[2021-06-07 19:51:52,734][train][INFO] - {\"epoch\": 5189, \"train_loss\": \"3.533\", \"train_ntokens\": \"145.688\", \"train_nsentences\": \"145.688\", \"train_temp\": \"0.1\", \"train_code_ppl\": \"8.55\", \"train_loss_code_pen\": \"0.32\", \"train_loss_smoothness\": \"2.061\", \"train_loss_dense_g\": \"4.257\", \"train_lm_score_sum\": 0.0, \"train_num_pred_chars\": 0.0, \"train_loss_grad_pen\": \"0.145\", \"train_loss_dense_d\": \"0.025\", \"train_loss_token_d\": \"0.023\", \"train_wps\": \"10.5\", \"train_ups\": \"0.07\", \"train_wpb\": \"145.7\", \"train_bsz\": \"145.7\", \"train_num_updates\": \"83024\", \"train_lr_discriminator\": \"0.0005\", \"train_lr_generator\": \"0.0004\", \"train_gnorm\": \"32.906\", \"train_clip\": \"87.5\", \"train_train_wall\": \"217\", \"train_wall\": \"30566\"}\r\n"
     ]
    },
    {
     "name": "stdout",
     "output_type": "stream",
     "text": [
      "[2021-06-07 19:51:52,787][fairseq.trainer][INFO] - begin training epoch 5190\r\n",
      "[2021-06-07 19:51:52,788][fairseq_cli.train][INFO] - Start iterating over samples\r\n"
     ]
    },
    {
     "name": "stdout",
     "output_type": "stream",
     "text": [
      "[2021-06-07 19:55:24,832][fairseq_cli.train][INFO] - begin validation on \"valid\" subset\r\n"
     ]
    },
    {
     "name": "stdout",
     "output_type": "stream",
     "text": [
      "[2021-06-07 19:55:27,615][fairseq.tasks.unpaired_audio_text][INFO] - REF: ɛ n f œ ʂ ə n a d ɵ ʂ ə k t f øː r d eː t s ɔ m h ɛ n d ə p oː ɕ œ r k ɔ n s ɛ t ə n\r\n",
      "[2021-06-07 19:55:27,618][fairseq.tasks.unpaired_audio_text][INFO] - HYP: n ɪ n s j œ r œ j b j uː yː k uː f ɵ j n ə m œ k b ə uː s eː r n ɛ oː s l ɪ ŋ k ɪ l s œ uː m k n t a\r\n",
      "[2021-06-07 19:55:27,622][fairseq.tasks.unpaired_audio_text][INFO] - LM [REF]: -53.44462585449219, 0.05339602260269112\r\n",
      "[2021-06-07 19:55:27,622][fairseq.tasks.unpaired_audio_text][INFO] - LM [HYP]: -89.05311584472656, 0.013954900788142368\r\n"
     ]
    },
    {
     "name": "stdout",
     "output_type": "stream",
     "text": [
      "[2021-06-07 19:55:28,144][valid][INFO] - {\"epoch\": 5190, \"valid_loss\": \"1.004\", \"valid_ntokens\": \"3039.79\", \"valid_nsentences\": \"144.214\", \"valid_lm_score_sum\": \"-89763.9\", \"valid_num_pred_chars\": \"48586\", \"valid_vocab_seen_pct\": \"0.881533\", \"valid_uer\": \"100.449\", \"valid_weighted_lm_ppl\": \"76.4431\", \"valid_lm_ppl\": \"59.404\", \"valid_wps\": \"16658.7\", \"valid_wpb\": \"3039.8\", \"valid_bsz\": \"144.2\", \"valid_num_updates\": \"83040\", \"valid_best_weighted_lm_ppl\": \"73.0296\"}\r\n",
      "[2021-06-07 19:55:28,147][fairseq.checkpoint_utils][INFO] - Preparing to save checkpoint for epoch 5190 @ 83040 updates\r\n",
      "[2021-06-07 19:55:28,148][fairseq.trainer][INFO] - Saving checkpoint to /kaggle/working/checkpoint_last.pt\r\n"
     ]
    },
    {
     "name": "stdout",
     "output_type": "stream",
     "text": [
      "[2021-06-07 19:55:28,195][fairseq.trainer][INFO] - Finished saving checkpoint to /kaggle/working/checkpoint_last.pt\r\n",
      "[2021-06-07 19:55:28,195][fairseq.checkpoint_utils][INFO] - Saved checkpoint /kaggle/working/checkpoint_last.pt (epoch 5190 @ 83040 updates, score 76.44310405107144) (writing took 0.04797727500044857 seconds)\r\n",
      "[2021-06-07 19:55:28,196][fairseq_cli.train][INFO] - end of epoch 5190 (average epoch stats below)\r\n",
      "[2021-06-07 19:55:28,199][train][INFO] - {\"epoch\": 5190, \"train_loss\": \"3.859\", \"train_ntokens\": \"145.688\", \"train_nsentences\": \"145.688\", \"train_temp\": \"0.1\", \"train_code_ppl\": \"8.545\", \"train_loss_code_pen\": \"0.317\", \"train_loss_smoothness\": \"2.071\", \"train_loss_dense_g\": \"4.435\", \"train_lm_score_sum\": 0.0, \"train_num_pred_chars\": 0.0, \"train_loss_grad_pen\": \"0.176\", \"train_loss_dense_d\": \"0.027\", \"train_loss_token_d\": \"0.047\", \"train_wps\": \"10.8\", \"train_ups\": \"0.07\", \"train_wpb\": \"145.7\", \"train_bsz\": \"145.7\", \"train_num_updates\": \"83040\", \"train_lr_discriminator\": \"0.0005\", \"train_lr_generator\": \"0.0004\", \"train_gnorm\": \"34.751\", \"train_clip\": \"93.8\", \"train_train_wall\": \"211\", \"train_wall\": \"30782\"}\r\n"
     ]
    },
    {
     "name": "stdout",
     "output_type": "stream",
     "text": [
      "[2021-06-07 19:55:28,258][fairseq.trainer][INFO] - begin training epoch 5191\r\n",
      "[2021-06-07 19:55:28,259][fairseq_cli.train][INFO] - Start iterating over samples\r\n"
     ]
    },
    {
     "name": "stdout",
     "output_type": "stream",
     "text": [
      "[2021-06-07 19:59:39,042][fairseq_cli.train][INFO] - begin validation on \"valid\" subset\r\n"
     ]
    },
    {
     "name": "stdout",
     "output_type": "stream",
     "text": [
      "[2021-06-07 19:59:42,002][fairseq.tasks.unpaired_audio_text][INFO] - REF: ɛ n f œ ʂ ə n a d ɵ ʂ ə k t f øː r d eː t s ɔ m h ɛ n d ə p oː ɕ œ r k ɔ n s ɛ t ə n\r\n",
      "[2021-06-07 19:59:42,005][fairseq.tasks.unpaired_audio_text][INFO] - HYP: n ɪ s j œ r œ j b j uː yː k uː f ɵ øː j n ə m œ k b ə uː s eː r n ɛ oː s l ɪ ŋ k ɪ l s œ m k n t a\r\n",
      "[2021-06-07 19:59:42,009][fairseq.tasks.unpaired_audio_text][INFO] - LM [REF]: -53.44462585449219, 0.05339602260269112\r\n",
      "[2021-06-07 19:59:42,010][fairseq.tasks.unpaired_audio_text][INFO] - LM [HYP]: -86.8555679321289, 0.014190875599233769\r\n"
     ]
    },
    {
     "name": "stdout",
     "output_type": "stream",
     "text": [
      "[2021-06-07 19:59:42,539][valid][INFO] - {\"epoch\": 5191, \"valid_loss\": \"1.004\", \"valid_ntokens\": \"3039.79\", \"valid_nsentences\": \"144.214\", \"valid_lm_score_sum\": \"-89810\", \"valid_num_pred_chars\": \"48533\", \"valid_vocab_seen_pct\": \"0.888502\", \"valid_uer\": \"100.399\", \"valid_weighted_lm_ppl\": \"75.7302\", \"valid_lm_ppl\": \"59.7841\", \"valid_wps\": \"15757.2\", \"valid_wpb\": \"3039.8\", \"valid_bsz\": \"144.2\", \"valid_num_updates\": \"83056\", \"valid_best_weighted_lm_ppl\": \"73.0296\"}\r\n",
      "[2021-06-07 19:59:42,543][fairseq.checkpoint_utils][INFO] - Preparing to save checkpoint for epoch 5191 @ 83056 updates\r\n",
      "[2021-06-07 19:59:42,544][fairseq.trainer][INFO] - Saving checkpoint to /kaggle/working/checkpoint_last.pt\r\n"
     ]
    },
    {
     "name": "stdout",
     "output_type": "stream",
     "text": [
      "[2021-06-07 19:59:42,592][fairseq.trainer][INFO] - Finished saving checkpoint to /kaggle/working/checkpoint_last.pt\r\n",
      "[2021-06-07 19:59:42,593][fairseq.checkpoint_utils][INFO] - Saved checkpoint /kaggle/working/checkpoint_last.pt (epoch 5191 @ 83056 updates, score 75.73024763230234) (writing took 0.049970497002505 seconds)\r\n",
      "[2021-06-07 19:59:42,593][fairseq_cli.train][INFO] - end of epoch 5191 (average epoch stats below)\r\n",
      "[2021-06-07 19:59:42,596][train][INFO] - {\"epoch\": 5191, \"train_loss\": \"3.082\", \"train_ntokens\": \"145.688\", \"train_nsentences\": \"145.688\", \"train_temp\": \"0.1\", \"train_code_ppl\": \"8.886\", \"train_loss_code_pen\": \"0.335\", \"train_loss_smoothness\": \"2.083\", \"train_loss_dense_g\": \"4.296\", \"train_lm_score_sum\": 0.0, \"train_num_pred_chars\": 0.0, \"train_loss_grad_pen\": \"0.048\", \"train_loss_dense_d\": \"0.024\", \"train_loss_token_d\": \"0.028\", \"train_wps\": \"9.2\", \"train_ups\": \"0.06\", \"train_wpb\": \"145.7\", \"train_bsz\": \"145.7\", \"train_num_updates\": \"83056\", \"train_lr_discriminator\": \"0.0005\", \"train_lr_generator\": \"0.0004\", \"train_gnorm\": \"28.798\", \"train_clip\": \"56.2\", \"train_train_wall\": \"250\", \"train_wall\": \"31036\"}\r\n"
     ]
    },
    {
     "name": "stdout",
     "output_type": "stream",
     "text": [
      "[2021-06-07 19:59:42,655][fairseq.trainer][INFO] - begin training epoch 5192\r\n",
      "[2021-06-07 19:59:42,656][fairseq_cli.train][INFO] - Start iterating over samples\r\n"
     ]
    },
    {
     "name": "stdout",
     "output_type": "stream",
     "text": [
      "[2021-06-07 20:03:46,130][fairseq_cli.train][INFO] - begin validation on \"valid\" subset\r\n"
     ]
    },
    {
     "name": "stdout",
     "output_type": "stream",
     "text": [
      "[2021-06-07 20:03:49,021][fairseq.tasks.unpaired_audio_text][INFO] - REF: ɛ n f œ ʂ ə n a d ɵ ʂ ə k t f øː r d eː t s ɔ m h ɛ n d ə p oː ɕ œ r k ɔ n s ɛ t ə n\r\n",
      "[2021-06-07 20:03:49,023][fairseq.tasks.unpaired_audio_text][INFO] - HYP: n ɪ n s j œ r œ j ʃ b j uː yː k uː f ɵ j m n ə m œ k b ə uː s eː r n v oː s l ɪ ŋ k ɪ l s œ m k n t a\r\n",
      "[2021-06-07 20:03:49,027][fairseq.tasks.unpaired_audio_text][INFO] - LM [REF]: -53.44462585449219, 0.05339602260269112\r\n",
      "[2021-06-07 20:03:49,028][fairseq.tasks.unpaired_audio_text][INFO] - LM [HYP]: -90.33850860595703, 0.014333655663344803\r\n"
     ]
    },
    {
     "name": "stdout",
     "output_type": "stream",
     "text": [
      "[2021-06-07 20:03:49,579][valid][INFO] - {\"epoch\": 5192, \"valid_loss\": \"1.005\", \"valid_ntokens\": \"3039.79\", \"valid_nsentences\": \"144.214\", \"valid_lm_score_sum\": \"-90046.2\", \"valid_num_pred_chars\": \"48653\", \"valid_vocab_seen_pct\": \"0.893728\", \"valid_uer\": \"100.526\", \"valid_weighted_lm_ppl\": \"74.9255\", \"valid_lm_ppl\": \"59.8468\", \"valid_wps\": \"16072.2\", \"valid_wpb\": \"3039.8\", \"valid_bsz\": \"144.2\", \"valid_num_updates\": \"83072\", \"valid_best_weighted_lm_ppl\": \"73.0296\"}\r\n",
      "[2021-06-07 20:03:49,582][fairseq.checkpoint_utils][INFO] - Preparing to save checkpoint for epoch 5192 @ 83072 updates\r\n",
      "[2021-06-07 20:03:49,584][fairseq.trainer][INFO] - Saving checkpoint to /kaggle/working/checkpoint_last.pt\r\n"
     ]
    },
    {
     "name": "stdout",
     "output_type": "stream",
     "text": [
      "[2021-06-07 20:03:49,632][fairseq.trainer][INFO] - Finished saving checkpoint to /kaggle/working/checkpoint_last.pt\r\n",
      "[2021-06-07 20:03:49,633][fairseq.checkpoint_utils][INFO] - Saved checkpoint /kaggle/working/checkpoint_last.pt (epoch 5192 @ 83072 updates, score 74.92552027953053) (writing took 0.05035054799736827 seconds)\r\n",
      "[2021-06-07 20:03:49,633][fairseq_cli.train][INFO] - end of epoch 5192 (average epoch stats below)\r\n",
      "[2021-06-07 20:03:49,637][train][INFO] - {\"epoch\": 5192, \"train_loss\": \"3.007\", \"train_ntokens\": \"145.688\", \"train_nsentences\": \"145.688\", \"train_temp\": \"0.1\", \"train_code_ppl\": \"8.778\", \"train_loss_code_pen\": \"0.317\", \"train_loss_smoothness\": \"2.032\", \"train_loss_dense_g\": \"4.179\", \"train_lm_score_sum\": 0.0, \"train_num_pred_chars\": 0.0, \"train_loss_grad_pen\": \"0.069\", \"train_loss_dense_d\": \"0.024\", \"train_loss_token_d\": \"0.024\", \"train_wps\": \"9.4\", \"train_ups\": \"0.06\", \"train_wpb\": \"145.7\", \"train_bsz\": \"145.7\", \"train_num_updates\": \"83072\", \"train_lr_discriminator\": \"0.0005\", \"train_lr_generator\": \"0.0004\", \"train_gnorm\": \"29.609\", \"train_clip\": \"75\", \"train_train_wall\": \"243\", \"train_wall\": \"31283\"}\r\n"
     ]
    },
    {
     "name": "stdout",
     "output_type": "stream",
     "text": [
      "[2021-06-07 20:03:49,702][fairseq.trainer][INFO] - begin training epoch 5193\r\n",
      "[2021-06-07 20:03:49,704][fairseq_cli.train][INFO] - Start iterating over samples\r\n"
     ]
    },
    {
     "name": "stdout",
     "output_type": "stream",
     "text": [
      "[2021-06-07 20:07:39,674][fairseq_cli.train][INFO] - begin validation on \"valid\" subset\r\n"
     ]
    },
    {
     "name": "stdout",
     "output_type": "stream",
     "text": [
      "[2021-06-07 20:07:42,500][fairseq.tasks.unpaired_audio_text][INFO] - REF: ɛ n f œ ʂ ə n a d ɵ ʂ ə k t f øː r d eː t s ɔ m h ɛ n d ə p oː ɕ œ r k ɔ n s ɛ t ə n\r\n",
      "[2021-06-07 20:07:42,502][fairseq.tasks.unpaired_audio_text][INFO] - HYP: n ɪ s j œ r œ j b j uː yː k ə uː f ɵ j m n ə m œ k b ə uː s eː r n ɛ oː n l ɪ ŋ k ɪ l s œ m k n t a\r\n",
      "[2021-06-07 20:07:42,506][fairseq.tasks.unpaired_audio_text][INFO] - LM [REF]: -53.44462585449219, 0.05339602260269112\r\n",
      "[2021-06-07 20:07:42,506][fairseq.tasks.unpaired_audio_text][INFO] - LM [HYP]: -90.1698989868164, 0.013226972109029532\r\n"
     ]
    },
    {
     "name": "stdout",
     "output_type": "stream",
     "text": [
      "[2021-06-07 20:07:43,042][valid][INFO] - {\"epoch\": 5193, \"valid_loss\": \"1.007\", \"valid_ntokens\": \"3039.79\", \"valid_nsentences\": \"144.214\", \"valid_lm_score_sum\": \"-90160.9\", \"valid_num_pred_chars\": \"48752\", \"valid_vocab_seen_pct\": \"0.885017\", \"valid_uer\": \"100.731\", \"valid_weighted_lm_ppl\": \"76.1958\", \"valid_lm_ppl\": \"59.6808\", \"valid_wps\": \"16455\", \"valid_wpb\": \"3039.8\", \"valid_bsz\": \"144.2\", \"valid_num_updates\": \"83088\", \"valid_best_weighted_lm_ppl\": \"73.0296\"}\r\n",
      "[2021-06-07 20:07:43,045][fairseq.checkpoint_utils][INFO] - Preparing to save checkpoint for epoch 5193 @ 83088 updates\r\n",
      "[2021-06-07 20:07:43,046][fairseq.trainer][INFO] - Saving checkpoint to /kaggle/working/checkpoint_last.pt\r\n"
     ]
    },
    {
     "name": "stdout",
     "output_type": "stream",
     "text": [
      "[2021-06-07 20:07:43,095][fairseq.trainer][INFO] - Finished saving checkpoint to /kaggle/working/checkpoint_last.pt\r\n",
      "[2021-06-07 20:07:43,095][fairseq.checkpoint_utils][INFO] - Saved checkpoint /kaggle/working/checkpoint_last.pt (epoch 5193 @ 83088 updates, score 76.19580472182119) (writing took 0.050414610999723664 seconds)\r\n",
      "[2021-06-07 20:07:43,096][fairseq_cli.train][INFO] - end of epoch 5193 (average epoch stats below)\r\n",
      "[2021-06-07 20:07:43,099][train][INFO] - {\"epoch\": 5193, \"train_loss\": \"3.243\", \"train_ntokens\": \"145.688\", \"train_nsentences\": \"145.688\", \"train_temp\": \"0.1\", \"train_code_ppl\": \"8.539\", \"train_loss_code_pen\": \"0.316\", \"train_loss_smoothness\": \"2.071\", \"train_loss_dense_g\": \"4.217\", \"train_lm_score_sum\": 0.0, \"train_num_pred_chars\": 0.0, \"train_loss_grad_pen\": \"0.074\", \"train_loss_dense_d\": \"0.023\", \"train_loss_token_d\": \"0.021\", \"train_wps\": \"10\", \"train_ups\": \"0.07\", \"train_wpb\": \"145.7\", \"train_bsz\": \"145.7\", \"train_num_updates\": \"83088\", \"train_lr_discriminator\": \"0.0005\", \"train_lr_generator\": \"0.0004\", \"train_gnorm\": \"29.927\", \"train_clip\": \"68.8\", \"train_train_wall\": \"229\", \"train_wall\": \"31517\"}\r\n"
     ]
    },
    {
     "name": "stdout",
     "output_type": "stream",
     "text": [
      "[2021-06-07 20:07:43,158][fairseq.trainer][INFO] - begin training epoch 5194\r\n",
      "[2021-06-07 20:07:43,160][fairseq_cli.train][INFO] - Start iterating over samples\r\n"
     ]
    },
    {
     "name": "stdout",
     "output_type": "stream",
     "text": [
      "[2021-06-07 20:10:58,220][train_inner][INFO] - {\"epoch\": 5194, \"update\": 5193.75, \"loss\": \"3.278\", \"ntokens\": \"145.54\", \"nsentences\": \"145.54\", \"temp\": \"0.1\", \"code_ppl\": \"8.631\", \"loss_code_pen\": \"0.321\", \"loss_smoothness\": \"2.061\", \"loss_dense_g\": \"4.268\", \"lm_score_sum\": 0.0, \"num_pred_chars\": 0.0, \"loss_grad_pen\": \"0.092\", \"loss_dense_d\": \"0.025\", \"loss_token_d\": \"0.027\", \"wps\": \"9.8\", \"ups\": \"0.07\", \"wpb\": \"145.5\", \"bsz\": \"145.5\", \"num_updates\": \"83100\", \"lr_discriminator\": \"0.0005\", \"lr_generator\": \"0.0004\", \"gnorm\": \"30.978\", \"clip\": \"76\", \"train_wall\": \"1465\", \"wall\": \"31712\"}\r\n"
     ]
    },
    {
     "name": "stdout",
     "output_type": "stream",
     "text": [
      "[2021-06-07 20:11:58,796][fairseq_cli.train][INFO] - begin validation on \"valid\" subset\r\n"
     ]
    }
   ],
   "source": [
    "!bash rungan.sh"
   ]
  }
 ],
 "metadata": {
  "kernelspec": {
   "display_name": "Python 3",
   "language": "python",
   "name": "python3"
  },
  "language_info": {
   "codemirror_mode": {
    "name": "ipython",
    "version": 3
   },
   "file_extension": ".py",
   "mimetype": "text/x-python",
   "name": "python",
   "nbconvert_exporter": "python",
   "pygments_lexer": "ipython3",
   "version": "3.6.4"
  },
  "papermill": {
   "default_parameters": {},
   "duration": null,
   "end_time": null,
   "environment_variables": {},
   "exception": null,
   "input_path": "__notebook__.ipynb",
   "output_path": "__notebook__.ipynb",
   "parameters": {},
   "start_time": "2021-06-07T11:14:09.050417",
   "version": "2.3.3"
  }
 },
 "nbformat": 4,
 "nbformat_minor": 5
}