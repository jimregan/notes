{
 "cells": [
  {
   "cell_type": "markdown",
   "id": "reasonable-projection",
   "metadata": {
    "papermill": {
     "duration": 0.013181,
     "end_time": "2021-06-06T21:19:51.217043",
     "exception": false,
     "start_time": "2021-06-06T21:19:51.203862",
     "status": "completed"
    },
    "tags": []
   },
   "source": [
    "## Preparation"
   ]
  },
  {
   "cell_type": "code",
   "execution_count": 1,
   "id": "delayed-personality",
   "metadata": {
    "execution": {
     "iopub.execute_input": "2021-06-06T21:19:51.244507Z",
     "iopub.status.busy": "2021-06-06T21:19:51.243469Z",
     "iopub.status.idle": "2021-06-06T21:19:53.654602Z",
     "shell.execute_reply": "2021-06-06T21:19:53.655056Z"
    },
    "papermill": {
     "duration": 2.426399,
     "end_time": "2021-06-06T21:19:53.655352",
     "exception": false,
     "start_time": "2021-06-06T21:19:51.228953",
     "status": "completed"
    },
    "tags": []
   },
   "outputs": [],
   "source": [
    "!cp ../input/w2vu-cvsv-checkpoints-cpu10/checkpoint_best.pt .\n",
    "!cp ../input/w2vu-cvsv-checkpoints-cpu10/checkpoint_last.pt ."
   ]
  },
  {
   "cell_type": "code",
   "execution_count": 2,
   "id": "directed-position",
   "metadata": {
    "_cell_guid": "b1076dfc-b9ad-4769-8c92-a6c4dae69d19",
    "_uuid": "8f2839f25d086af736a60e9eeb907d3b93b6e0e5",
    "execution": {
     "iopub.execute_input": "2021-06-06T21:19:53.689541Z",
     "iopub.status.busy": "2021-06-06T21:19:53.688853Z",
     "iopub.status.idle": "2021-06-06T21:24:14.970450Z",
     "shell.execute_reply": "2021-06-06T21:24:14.973568Z",
     "shell.execute_reply.started": "2021-05-31T11:43:46.770364Z"
    },
    "papermill": {
     "duration": 261.307328,
     "end_time": "2021-06-06T21:24:14.975080",
     "exception": false,
     "start_time": "2021-06-06T21:19:53.667752",
     "status": "completed"
    },
    "tags": []
   },
   "outputs": [],
   "source": [
    "%%capture\n",
    "!conda install -c pykaldi pykaldi -y"
   ]
  },
  {
   "cell_type": "code",
   "execution_count": 3,
   "id": "solved-fireplace",
   "metadata": {
    "execution": {
     "iopub.execute_input": "2021-06-06T21:24:15.061756Z",
     "iopub.status.busy": "2021-06-06T21:24:15.059991Z",
     "iopub.status.idle": "2021-06-06T21:24:15.073426Z",
     "shell.execute_reply": "2021-06-06T21:24:15.072819Z",
     "shell.execute_reply.started": "2021-05-31T13:58:07.987793Z"
    },
    "papermill": {
     "duration": 0.061131,
     "end_time": "2021-06-06T21:24:15.073568",
     "exception": false,
     "start_time": "2021-06-06T21:24:15.012437",
     "status": "completed"
    },
    "tags": []
   },
   "outputs": [
    {
     "name": "stdout",
     "output_type": "stream",
     "text": [
      "/tmp\n"
     ]
    }
   ],
   "source": [
    "%cd /tmp"
   ]
  },
  {
   "cell_type": "code",
   "execution_count": 4,
   "id": "exciting-impression",
   "metadata": {
    "execution": {
     "iopub.execute_input": "2021-06-06T21:24:15.140475Z",
     "iopub.status.busy": "2021-06-06T21:24:15.138119Z",
     "iopub.status.idle": "2021-06-06T21:24:20.395483Z",
     "shell.execute_reply": "2021-06-06T21:24:20.394794Z",
     "shell.execute_reply.started": "2021-05-31T11:47:48.174342Z"
    },
    "papermill": {
     "duration": 5.295832,
     "end_time": "2021-06-06T21:24:20.395622",
     "exception": false,
     "start_time": "2021-06-06T21:24:15.099790",
     "status": "completed"
    },
    "tags": []
   },
   "outputs": [
    {
     "name": "stdout",
     "output_type": "stream",
     "text": [
      "Cloning into 'fairseq'...\r\n"
     ]
    },
    {
     "name": "stdout",
     "output_type": "stream",
     "text": [
      "remote: Enumerating objects: 28296, done.\u001b[K\r\n"
     ]
    },
    {
     "name": "stdout",
     "output_type": "stream",
     "text": [
      "Receiving objects:   0% (1/28296)   \r"
     ]
    },
    {
     "name": "stdout",
     "output_type": "stream",
     "text": [
      "Receiving objects:   1% (283/28296)   \r"
     ]
    },
    {
     "name": "stdout",
     "output_type": "stream",
     "text": [
      "Receiving objects:   2% (566/28296), 180.00 KiB | 351.00 KiB/s   \r"
     ]
    },
    {
     "name": "stdout",
     "output_type": "stream",
     "text": [
      "Receiving objects:   3% (849/28296), 180.00 KiB | 351.00 KiB/s   \r",
      "Receiving objects:   4% (1132/28296), 180.00 KiB | 351.00 KiB/s   \r"
     ]
    },
    {
     "name": "stdout",
     "output_type": "stream",
     "text": [
      "Receiving objects:   5% (1415/28296), 180.00 KiB | 351.00 KiB/s   \r"
     ]
    },
    {
     "name": "stdout",
     "output_type": "stream",
     "text": [
      "Receiving objects:   6% (1698/28296), 180.00 KiB | 351.00 KiB/s   \r",
      "Receiving objects:   7% (1981/28296), 180.00 KiB | 351.00 KiB/s   \r",
      "Receiving objects:   8% (2264/28296), 180.00 KiB | 351.00 KiB/s   \r",
      "Receiving objects:   9% (2547/28296), 180.00 KiB | 351.00 KiB/s   \r",
      "Receiving objects:  10% (2830/28296), 180.00 KiB | 351.00 KiB/s   \r"
     ]
    },
    {
     "name": "stdout",
     "output_type": "stream",
     "text": [
      "Receiving objects:  10% (3047/28296), 1.25 MiB | 1.20 MiB/s   \r",
      "Receiving objects:  11% (3113/28296), 1.25 MiB | 1.20 MiB/s   \r",
      "Receiving objects:  12% (3396/28296), 1.25 MiB | 1.20 MiB/s   \r",
      "Receiving objects:  13% (3679/28296), 1.25 MiB | 1.20 MiB/s   \r",
      "Receiving objects:  14% (3962/28296), 1.25 MiB | 1.20 MiB/s   \r"
     ]
    },
    {
     "name": "stdout",
     "output_type": "stream",
     "text": [
      "Receiving objects:  15% (4245/28296), 1.25 MiB | 1.20 MiB/s   \r",
      "Receiving objects:  16% (4528/28296), 1.25 MiB | 1.20 MiB/s   \r"
     ]
    },
    {
     "name": "stdout",
     "output_type": "stream",
     "text": [
      "Receiving objects:  17% (4811/28296), 1.25 MiB | 1.20 MiB/s   \r",
      "Receiving objects:  18% (5094/28296), 1.25 MiB | 1.20 MiB/s   \r",
      "Receiving objects:  19% (5377/28296), 1.25 MiB | 1.20 MiB/s   \r",
      "Receiving objects:  20% (5660/28296), 1.25 MiB | 1.20 MiB/s   \r",
      "Receiving objects:  21% (5943/28296), 1.25 MiB | 1.20 MiB/s   \r"
     ]
    },
    {
     "name": "stdout",
     "output_type": "stream",
     "text": [
      "Receiving objects:  22% (6226/28296), 1.25 MiB | 1.20 MiB/s   \r",
      "Receiving objects:  23% (6509/28296), 1.25 MiB | 1.20 MiB/s   \r",
      "Receiving objects:  24% (6792/28296), 1.25 MiB | 1.20 MiB/s   \r",
      "Receiving objects:  25% (7074/28296), 1.25 MiB | 1.20 MiB/s   \r"
     ]
    },
    {
     "name": "stdout",
     "output_type": "stream",
     "text": [
      "Receiving objects:  26% (7357/28296), 1.25 MiB | 1.20 MiB/s   \r",
      "Receiving objects:  27% (7640/28296), 1.25 MiB | 1.20 MiB/s   \r",
      "Receiving objects:  28% (7923/28296), 1.25 MiB | 1.20 MiB/s   \r",
      "Receiving objects:  29% (8206/28296), 1.25 MiB | 1.20 MiB/s   \r",
      "Receiving objects:  30% (8489/28296), 1.25 MiB | 1.20 MiB/s   \r",
      "Receiving objects:  31% (8772/28296), 1.25 MiB | 1.20 MiB/s   \r"
     ]
    },
    {
     "name": "stdout",
     "output_type": "stream",
     "text": [
      "Receiving objects:  32% (9055/28296), 6.54 MiB | 4.18 MiB/s   \r",
      "Receiving objects:  33% (9338/28296), 6.54 MiB | 4.18 MiB/s   \r",
      "Receiving objects:  34% (9621/28296), 6.54 MiB | 4.18 MiB/s   \r"
     ]
    },
    {
     "name": "stdout",
     "output_type": "stream",
     "text": [
      "Receiving objects:  35% (9904/28296), 6.54 MiB | 4.18 MiB/s   \r",
      "Receiving objects:  36% (10187/28296), 6.54 MiB | 4.18 MiB/s   \r",
      "Receiving objects:  37% (10470/28296), 6.54 MiB | 4.18 MiB/s   \r",
      "Receiving objects:  38% (10753/28296), 6.54 MiB | 4.18 MiB/s   \r",
      "Receiving objects:  39% (11036/28296), 6.54 MiB | 4.18 MiB/s   \r",
      "Receiving objects:  40% (11319/28296), 6.54 MiB | 4.18 MiB/s   \r",
      "Receiving objects:  41% (11602/28296), 6.54 MiB | 4.18 MiB/s   \r",
      "Receiving objects:  42% (11885/28296), 6.54 MiB | 4.18 MiB/s   \r",
      "Receiving objects:  43% (12168/28296), 6.54 MiB | 4.18 MiB/s   \r",
      "Receiving objects:  44% (12451/28296), 6.54 MiB | 4.18 MiB/s   \r",
      "Receiving objects:  45% (12734/28296), 6.54 MiB | 4.18 MiB/s   \r",
      "Receiving objects:  46% (13017/28296), 6.54 MiB | 4.18 MiB/s   \r",
      "Receiving objects:  47% (13300/28296), 6.54 MiB | 4.18 MiB/s   \r",
      "Receiving objects:  48% (13583/28296), 6.54 MiB | 4.18 MiB/s   \r",
      "Receiving objects:  49% (13866/28296), 6.54 MiB | 4.18 MiB/s   \r"
     ]
    },
    {
     "name": "stdout",
     "output_type": "stream",
     "text": [
      "Receiving objects:  50% (14148/28296), 6.54 MiB | 4.18 MiB/s   \r",
      "Receiving objects:  51% (14431/28296), 6.54 MiB | 4.18 MiB/s   \r",
      "Receiving objects:  52% (14714/28296), 6.54 MiB | 4.18 MiB/s   \r",
      "Receiving objects:  53% (14997/28296), 6.54 MiB | 4.18 MiB/s   \r",
      "Receiving objects:  54% (15280/28296), 6.54 MiB | 4.18 MiB/s   \r",
      "Receiving objects:  55% (15563/28296), 6.54 MiB | 4.18 MiB/s   \r"
     ]
    },
    {
     "name": "stdout",
     "output_type": "stream",
     "text": [
      "Receiving objects:  56% (15846/28296), 6.54 MiB | 4.18 MiB/s   \r",
      "Receiving objects:  57% (16129/28296), 6.54 MiB | 4.18 MiB/s   \r",
      "Receiving objects:  58% (16412/28296), 6.54 MiB | 4.18 MiB/s   \r",
      "Receiving objects:  59% (16695/28296), 6.54 MiB | 4.18 MiB/s   \r",
      "Receiving objects:  60% (16978/28296), 6.54 MiB | 4.18 MiB/s   \r",
      "Receiving objects:  61% (17261/28296), 6.54 MiB | 4.18 MiB/s   \r",
      "Receiving objects:  62% (17544/28296), 6.54 MiB | 4.18 MiB/s   \r",
      "Receiving objects:  63% (17827/28296), 6.54 MiB | 4.18 MiB/s   \r",
      "Receiving objects:  64% (18110/28296), 6.54 MiB | 4.18 MiB/s   \r",
      "Receiving objects:  65% (18393/28296), 6.54 MiB | 4.18 MiB/s   \r",
      "Receiving objects:  66% (18676/28296), 6.54 MiB | 4.18 MiB/s   \r",
      "Receiving objects:  67% (18959/28296), 6.54 MiB | 4.18 MiB/s   \r",
      "Receiving objects:  68% (19242/28296), 6.54 MiB | 4.18 MiB/s   \r",
      "Receiving objects:  69% (19525/28296), 6.54 MiB | 4.18 MiB/s   \r",
      "Receiving objects:  70% (19808/28296), 6.54 MiB | 4.18 MiB/s   \r",
      "Receiving objects:  71% (20091/28296), 6.54 MiB | 4.18 MiB/s   \r"
     ]
    },
    {
     "name": "stdout",
     "output_type": "stream",
     "text": [
      "Receiving objects:  72% (20374/28296), 6.54 MiB | 4.18 MiB/s   \r",
      "Receiving objects:  73% (20657/28296), 6.54 MiB | 4.18 MiB/s   \r",
      "Receiving objects:  74% (20940/28296), 6.54 MiB | 4.18 MiB/s   \r",
      "Receiving objects:  75% (21222/28296), 6.54 MiB | 4.18 MiB/s   \r",
      "Receiving objects:  76% (21505/28296), 6.54 MiB | 4.18 MiB/s   \r",
      "Receiving objects:  77% (21788/28296), 6.54 MiB | 4.18 MiB/s   \r",
      "Receiving objects:  78% (22071/28296), 6.54 MiB | 4.18 MiB/s   \r",
      "Receiving objects:  79% (22354/28296), 6.54 MiB | 4.18 MiB/s   \r",
      "Receiving objects:  80% (22637/28296), 6.54 MiB | 4.18 MiB/s   \r",
      "Receiving objects:  81% (22920/28296), 6.54 MiB | 4.18 MiB/s   \r"
     ]
    },
    {
     "name": "stdout",
     "output_type": "stream",
     "text": [
      "Receiving objects:  82% (23203/28296), 6.54 MiB | 4.18 MiB/s   \r",
      "Receiving objects:  83% (23486/28296), 6.54 MiB | 4.18 MiB/s   \r",
      "Receiving objects:  84% (23769/28296), 6.54 MiB | 4.18 MiB/s   \r",
      "Receiving objects:  85% (24052/28296), 6.54 MiB | 4.18 MiB/s   \r",
      "Receiving objects:  86% (24335/28296), 6.54 MiB | 4.18 MiB/s   \r",
      "Receiving objects:  87% (24618/28296), 6.54 MiB | 4.18 MiB/s   \r",
      "Receiving objects:  88% (24901/28296), 6.54 MiB | 4.18 MiB/s   \r",
      "Receiving objects:  89% (25184/28296), 6.54 MiB | 4.18 MiB/s   \r"
     ]
    },
    {
     "name": "stdout",
     "output_type": "stream",
     "text": [
      "Receiving objects:  90% (25467/28296), 6.54 MiB | 4.18 MiB/s   \r",
      "Receiving objects:  91% (25750/28296), 6.54 MiB | 4.18 MiB/s   \r",
      "Receiving objects:  92% (26033/28296), 6.54 MiB | 4.18 MiB/s   \r",
      "Receiving objects:  93% (26316/28296), 6.54 MiB | 4.18 MiB/s   \r",
      "Receiving objects:  94% (26599/28296), 6.54 MiB | 4.18 MiB/s   \r",
      "Receiving objects:  95% (26882/28296), 6.54 MiB | 4.18 MiB/s   \r",
      "Receiving objects:  96% (27165/28296), 6.54 MiB | 4.18 MiB/s   \r",
      "Receiving objects:  97% (27448/28296), 6.54 MiB | 4.18 MiB/s   \r",
      "Receiving objects:  98% (27731/28296), 6.54 MiB | 4.18 MiB/s   \r",
      "remote: Total 28296 (delta 0), reused 0 (delta 0), pack-reused 28296\u001b[K\r\n",
      "Receiving objects:  99% (28014/28296), 6.54 MiB | 4.18 MiB/s   \r",
      "Receiving objects: 100% (28296/28296), 6.54 MiB | 4.18 MiB/s   \r",
      "Receiving objects: 100% (28296/28296), 11.79 MiB | 6.01 MiB/s, done.\r\n",
      "Resolving deltas:   0% (0/21294)   \r",
      "Resolving deltas:   1% (213/21294)   \r",
      "Resolving deltas:   2% (427/21294)   \r",
      "Resolving deltas:   3% (651/21294)   \r",
      "Resolving deltas:   4% (860/21294)   \r"
     ]
    },
    {
     "name": "stdout",
     "output_type": "stream",
     "text": [
      "Resolving deltas:   5% (1065/21294)   \r",
      "Resolving deltas:   6% (1290/21294)   \r",
      "Resolving deltas:   7% (1494/21294)   \r",
      "Resolving deltas:   8% (1704/21294)   \r",
      "Resolving deltas:   9% (1926/21294)   \r",
      "Resolving deltas:  10% (2135/21294)   \r",
      "Resolving deltas:  11% (2349/21294)   \r",
      "Resolving deltas:  12% (2558/21294)   \r"
     ]
    },
    {
     "name": "stdout",
     "output_type": "stream",
     "text": [
      "Resolving deltas:  13% (2776/21294)   \r",
      "Resolving deltas:  14% (2986/21294)   \r",
      "Resolving deltas:  15% (3203/21294)   \r",
      "Resolving deltas:  16% (3412/21294)   \r",
      "Resolving deltas:  17% (3661/21294)   \r",
      "Resolving deltas:  18% (3834/21294)   \r",
      "Resolving deltas:  19% (4046/21294)   \r",
      "Resolving deltas:  20% (4260/21294)   \r"
     ]
    },
    {
     "name": "stdout",
     "output_type": "stream",
     "text": [
      "Resolving deltas:  21% (4476/21294)   \r",
      "Resolving deltas:  22% (4692/21294)   \r",
      "Resolving deltas:  23% (5015/21294)   \r",
      "Resolving deltas:  24% (5112/21294)   \r",
      "Resolving deltas:  25% (5333/21294)   \r",
      "Resolving deltas:  26% (5537/21294)   \r",
      "Resolving deltas:  27% (5774/21294)   \r",
      "Resolving deltas:  28% (5965/21294)   \r",
      "Resolving deltas:  29% (6185/21294)   \r",
      "Resolving deltas:  30% (6392/21294)   \r",
      "Resolving deltas:  31% (6603/21294)   \r"
     ]
    },
    {
     "name": "stdout",
     "output_type": "stream",
     "text": [
      "Resolving deltas:  32% (6917/21294)   \r",
      "Resolving deltas:  33% (7028/21294)   \r",
      "Resolving deltas:  34% (7244/21294)   \r",
      "Resolving deltas:  35% (7544/21294)   \r",
      "Resolving deltas:  36% (7666/21294)   \r",
      "Resolving deltas:  37% (7927/21294)   \r",
      "Resolving deltas:  38% (8148/21294)   \r",
      "Resolving deltas:  39% (8370/21294)   \r",
      "Resolving deltas:  40% (8603/21294)   \r",
      "Resolving deltas:  41% (8731/21294)   \r",
      "Resolving deltas:  42% (8994/21294)   \r",
      "Resolving deltas:  43% (9173/21294)   \r",
      "Resolving deltas:  44% (9372/21294)   \r",
      "Resolving deltas:  45% (9598/21294)   \r"
     ]
    },
    {
     "name": "stdout",
     "output_type": "stream",
     "text": [
      "Resolving deltas:  46% (9799/21294)   \r",
      "Resolving deltas:  47% (10012/21294)   \r",
      "Resolving deltas:  48% (10222/21294)   \r",
      "Resolving deltas:  49% (10447/21294)   \r",
      "Resolving deltas:  50% (10660/21294)   \r",
      "Resolving deltas:  51% (10869/21294)   \r",
      "Resolving deltas:  52% (11102/21294)   \r",
      "Resolving deltas:  53% (11298/21294)   \r",
      "Resolving deltas:  54% (11521/21294)   \r",
      "Resolving deltas:  55% (11715/21294)   \r",
      "Resolving deltas:  56% (11937/21294)   \r",
      "Resolving deltas:  57% (12146/21294)   \r",
      "Resolving deltas:  58% (12354/21294)   \r",
      "Resolving deltas:  59% (12581/21294)   \r",
      "Resolving deltas:  60% (12788/21294)   \r"
     ]
    },
    {
     "name": "stdout",
     "output_type": "stream",
     "text": [
      "Resolving deltas:  61% (12996/21294)   \r",
      "Resolving deltas:  62% (13208/21294)   \r",
      "Resolving deltas:  63% (13420/21294)   \r",
      "Resolving deltas:  64% (13636/21294)   \r",
      "Resolving deltas:  65% (13845/21294)   \r",
      "Resolving deltas:  66% (14189/21294)   \r",
      "Resolving deltas:  67% (14270/21294)   \r",
      "Resolving deltas:  68% (14501/21294)   \r",
      "Resolving deltas:  69% (14695/21294)   \r",
      "Resolving deltas:  70% (14930/21294)   \r",
      "Resolving deltas:  71% (15158/21294)   \r",
      "Resolving deltas:  72% (15374/21294)   \r",
      "Resolving deltas:  73% (15547/21294)   \r",
      "Resolving deltas:  74% (15764/21294)   \r",
      "Resolving deltas:  75% (15980/21294)   \r",
      "Resolving deltas:  76% (16206/21294)   \r",
      "Resolving deltas:  77% (16410/21294)   \r",
      "Resolving deltas:  78% (16642/21294)   \r"
     ]
    },
    {
     "name": "stdout",
     "output_type": "stream",
     "text": [
      "Resolving deltas:  79% (16871/21294)   \r",
      "Resolving deltas:  80% (17059/21294)   \r",
      "Resolving deltas:  81% (17250/21294)   \r",
      "Resolving deltas:  82% (17517/21294)   \r",
      "Resolving deltas:  83% (17729/21294)   \r",
      "Resolving deltas:  84% (17893/21294)   \r",
      "Resolving deltas:  85% (18131/21294)   \r",
      "Resolving deltas:  86% (18353/21294)   \r",
      "Resolving deltas:  87% (18609/21294)   \r",
      "Resolving deltas:  88% (18751/21294)   \r",
      "Resolving deltas:  89% (19009/21294)   \r",
      "Resolving deltas:  90% (19183/21294)   \r",
      "Resolving deltas:  91% (19383/21294)   \r",
      "Resolving deltas:  92% (19595/21294)   \r",
      "Resolving deltas:  93% (19818/21294)   \r",
      "Resolving deltas:  94% (20040/21294)   \r",
      "Resolving deltas:  95% (20237/21294)   \r",
      "Resolving deltas:  96% (20460/21294)   \r",
      "Resolving deltas:  97% (20657/21294)   \r",
      "Resolving deltas:  98% (20900/21294)   \r"
     ]
    },
    {
     "name": "stdout",
     "output_type": "stream",
     "text": [
      "Resolving deltas:  99% (21084/21294)   \r",
      "Resolving deltas: 100% (21294/21294)   \r",
      "Resolving deltas: 100% (21294/21294), done.\r\n"
     ]
    }
   ],
   "source": [
    "!git clone https://github.com/jimregan/fairseq/ --branch issue3581"
   ]
  },
  {
   "cell_type": "code",
   "execution_count": 5,
   "id": "suburban-yorkshire",
   "metadata": {
    "execution": {
     "iopub.execute_input": "2021-06-06T21:24:20.446892Z",
     "iopub.status.busy": "2021-06-06T21:24:20.446304Z",
     "iopub.status.idle": "2021-06-06T21:24:24.154797Z",
     "shell.execute_reply": "2021-06-06T21:24:24.154147Z",
     "shell.execute_reply.started": "2021-05-31T13:58:08.002832Z"
    },
    "papermill": {
     "duration": 3.735719,
     "end_time": "2021-06-06T21:24:24.154965",
     "exception": false,
     "start_time": "2021-06-06T21:24:20.419246",
     "status": "completed"
    },
    "tags": []
   },
   "outputs": [
    {
     "name": "stdout",
     "output_type": "stream",
     "text": [
      "Cloning into 'kenlm'...\r\n"
     ]
    },
    {
     "name": "stdout",
     "output_type": "stream",
     "text": [
      "remote: Enumerating objects: 13824, done.\u001b[K\r\n",
      "remote: Counting objects:   0% (1/137)\u001b[K\r",
      "remote: Counting objects:   1% (2/137)\u001b[K\r",
      "remote: Counting objects:   2% (3/137)\u001b[K\r",
      "remote: Counting objects:   3% (5/137)\u001b[K\r",
      "remote: Counting objects:   4% (6/137)\u001b[K\r",
      "remote: Counting objects:   5% (7/137)\u001b[K\r",
      "remote: Counting objects:   6% (9/137)\u001b[K\r",
      "remote: Counting objects:   7% (10/137)\u001b[K\r",
      "remote: Counting objects:   8% (11/137)\u001b[K\r",
      "remote: Counting objects:   9% (13/137)\u001b[K\r",
      "remote: Counting objects:  10% (14/137)\u001b[K\r",
      "remote: Counting objects:  11% (16/137)\u001b[K\r",
      "remote: Counting objects:  12% (17/137)\u001b[K\r",
      "remote: Counting objects:  13% (18/137)\u001b[K\r",
      "remote: Counting objects:  14% (20/137)\u001b[K\r",
      "remote: Counting objects:  15% (21/137)\u001b[K\r",
      "remote: Counting objects:  16% (22/137)\u001b[K\r",
      "remote: Counting objects:  17% (24/137)\u001b[K\r",
      "remote: Counting objects:  18% (25/137)\u001b[K\r",
      "remote: Counting objects:  19% (27/137)\u001b[K\r",
      "remote: Counting objects:  20% (28/137)\u001b[K\r",
      "remote: Counting objects:  21% (29/137)\u001b[K\r",
      "remote: Counting objects:  22% (31/137)\u001b[K\r",
      "remote: Counting objects:  23% (32/137)\u001b[K\r",
      "remote: Counting objects:  24% (33/137)\u001b[K\r",
      "remote: Counting objects:  25% (35/137)\u001b[K\r",
      "remote: Counting objects:  26% (36/137)\u001b[K\r",
      "remote: Counting objects:  27% (37/137)\u001b[K\r",
      "remote: Counting objects:  28% (39/137)\u001b[K\r",
      "remote: Counting objects:  29% (40/137)\u001b[K\r",
      "remote: Counting objects:  30% (42/137)\u001b[K\r",
      "remote: Counting objects:  31% (43/137)\u001b[K\r",
      "remote: Counting objects:  32% (44/137)\u001b[K\r",
      "remote: Counting objects:  33% (46/137)\u001b[K\r",
      "remote: Counting objects:  34% (47/137)\u001b[K\r",
      "remote: Counting objects:  35% (48/137)\u001b[K\r",
      "remote: Counting objects:  36% (50/137)\u001b[K\r",
      "remote: Counting objects:  37% (51/137)\u001b[K\r",
      "remote: Counting objects:  38% (53/137)\u001b[K\r",
      "remote: Counting objects:  39% (54/137)\u001b[K\r",
      "remote: Counting objects:  40% (55/137)\u001b[K\r",
      "remote: Counting objects:  41% (57/137)\u001b[K\r",
      "remote: Counting objects:  42% (58/137)\u001b[K\r",
      "remote: Counting objects:  43% (59/137)\u001b[K\r",
      "remote: Counting objects:  44% (61/137)\u001b[K\r",
      "remote: Counting objects:  45% (62/137)\u001b[K\r",
      "remote: Counting objects:  46% (64/137)\u001b[K\r",
      "remote: Counting objects:  47% (65/137)\u001b[K\r",
      "remote: Counting objects:  48% (66/137)\u001b[K\r",
      "remote: Counting objects:  49% (68/137)\u001b[K\r",
      "remote: Counting objects:  50% (69/137)\u001b[K\r",
      "remote: Counting objects:  51% (70/137)\u001b[K\r",
      "remote: Counting objects:  52% (72/137)\u001b[K\r",
      "remote: Counting objects:  53% (73/137)\u001b[K\r",
      "remote: Counting objects:  54% (74/137)\u001b[K\r",
      "remote: Counting objects:  55% (76/137)\u001b[K\r",
      "remote: Counting objects:  56% (77/137)\u001b[K\r",
      "remote: Counting objects:  57% (79/137)\u001b[K\r",
      "remote: Counting objects:  58% (80/137)\u001b[K\r",
      "remote: Counting objects:  59% (81/137)\u001b[K\r",
      "remote: Counting objects:  60% (83/137)\u001b[K\r",
      "remote: Counting objects:  61% (84/137)\u001b[K\r",
      "remote: Counting objects:  62% (85/137)\u001b[K\r",
      "remote: Counting objects:  63% (87/137)\u001b[K\r",
      "remote: Counting objects:  64% (88/137)\u001b[K\r",
      "remote: Counting objects:  65% (90/137)\u001b[K\r",
      "remote: Counting objects:  66% (91/137)\u001b[K\r",
      "remote: Counting objects:  67% (92/137)\u001b[K\r",
      "remote: Counting objects:  68% (94/137)\u001b[K\r",
      "remote: Counting objects:  69% (95/137)\u001b[K\r",
      "remote: Counting objects:  70% (96/137)\u001b[K\r",
      "remote: Counting objects:  71% (98/137)\u001b[K\r",
      "remote: Counting objects:  72% (99/137)\u001b[K\r",
      "remote: Counting objects:  73% (101/137)\u001b[K\r",
      "remote: Counting objects:  74% (102/137)\u001b[K\r",
      "remote: Counting objects:  75% (103/137)\u001b[K\r",
      "remote: Counting objects:  76% (105/137)\u001b[K\r",
      "remote: Counting objects:  77% (106/137)\u001b[K\r",
      "remote: Counting objects:  78% (107/137)\u001b[K\r",
      "remote: Counting objects:  79% (109/137)\u001b[K\r",
      "remote: Counting objects:  80% (110/137)\u001b[K\r",
      "remote: Counting objects:  81% (111/137)\u001b[K\r",
      "remote: Counting objects:  82% (113/137)\u001b[K\r",
      "remote: Counting objects:  83% (114/137)\u001b[K\r",
      "remote: Counting objects:  84% (116/137)\u001b[K\r",
      "remote: Counting objects:  85% (117/137)\u001b[K\r",
      "remote: Counting objects:  86% (118/137)\u001b[K\r",
      "remote: Counting objects:  87% (120/137)\u001b[K\r",
      "remote: Counting objects:  88% (121/137)\u001b[K\r",
      "remote: Counting objects:  89% (122/137)\u001b[K\r",
      "remote: Counting objects:  90% (124/137)\u001b[K\r",
      "remote: Counting objects:  91% (125/137)\u001b[K\r",
      "remote: Counting objects:  92% (127/137)\u001b[K\r",
      "remote: Counting objects:  93% (128/137)\u001b[K\r",
      "remote: Counting objects:  94% (129/137)\u001b[K\r",
      "remote: Counting objects:  95% (131/137)\u001b[K\r",
      "remote: Counting objects:  96% (132/137)\u001b[K\r",
      "remote: Counting objects:  97% (133/137)\u001b[K\r",
      "remote: Counting objects:  98% (135/137)\u001b[K\r",
      "remote: Counting objects:  99% (136/137)\u001b[K\r",
      "remote: Counting objects: 100% (137/137)\u001b[K\r",
      "remote: Counting objects: 100% (137/137), done.\u001b[K\r\n",
      "remote: Compressing objects:   1% (1/79)\u001b[K\r",
      "remote: Compressing objects:   2% (2/79)\u001b[K\r",
      "remote: Compressing objects:   3% (3/79)\u001b[K\r",
      "remote: Compressing objects:   5% (4/79)\u001b[K\r",
      "remote: Compressing objects:   6% (5/79)\u001b[K\r",
      "remote: Compressing objects:   7% (6/79)\u001b[K\r",
      "remote: Compressing objects:   8% (7/79)\u001b[K\r",
      "remote: Compressing objects:  10% (8/79)\u001b[K\r",
      "remote: Compressing objects:  11% (9/79)\u001b[K\r",
      "remote: Compressing objects:  12% (10/79)\u001b[K\r",
      "remote: Compressing objects:  13% (11/79)\u001b[K\r",
      "remote: Compressing objects:  15% (12/79)\u001b[K\r",
      "remote: Compressing objects:  16% (13/79)\u001b[K\r",
      "remote: Compressing objects:  17% (14/79)\u001b[K\r"
     ]
    },
    {
     "name": "stdout",
     "output_type": "stream",
     "text": [
      "remote: Compressing objects:  18% (15/79)\u001b[K\r",
      "remote: Compressing objects:  20% (16/79)\u001b[K\r",
      "remote: Compressing objects:  21% (17/79)\u001b[K\r",
      "remote: Compressing objects:  22% (18/79)\u001b[K\r",
      "remote: Compressing objects:  24% (19/79)\u001b[K\r",
      "remote: Compressing objects:  25% (20/79)\u001b[K\r",
      "remote: Compressing objects:  26% (21/79)\u001b[K\r",
      "remote: Compressing objects:  27% (22/79)\u001b[K\r",
      "remote: Compressing objects:  29% (23/79)\u001b[K\r",
      "remote: Compressing objects:  30% (24/79)\u001b[K\r",
      "remote: Compressing objects:  31% (25/79)\u001b[K\r",
      "remote: Compressing objects:  32% (26/79)\u001b[K\r",
      "remote: Compressing objects:  34% (27/79)\u001b[K\r",
      "remote: Compressing objects:  35% (28/79)\u001b[K\r",
      "remote: Compressing objects:  36% (29/79)\u001b[K\r",
      "remote: Compressing objects:  37% (30/79)\u001b[K\r",
      "remote: Compressing objects:  39% (31/79)\u001b[K\r",
      "remote: Compressing objects:  40% (32/79)\u001b[K\r",
      "remote: Compressing objects:  41% (33/79)\u001b[K\r",
      "remote: Compressing objects:  43% (34/79)\u001b[K\r",
      "remote: Compressing objects:  44% (35/79)\u001b[K\r",
      "remote: Compressing objects:  45% (36/79)\u001b[K\r",
      "remote: Compressing objects:  46% (37/79)\u001b[K\r",
      "remote: Compressing objects:  48% (38/79)\u001b[K\r",
      "remote: Compressing objects:  49% (39/79)\u001b[K\r",
      "remote: Compressing objects:  50% (40/79)\u001b[K\r",
      "remote: Compressing objects:  51% (41/79)\u001b[K\r",
      "remote: Compressing objects:  53% (42/79)\u001b[K\r",
      "remote: Compressing objects:  54% (43/79)\u001b[K\r",
      "remote: Compressing objects:  55% (44/79)\u001b[K\r",
      "remote: Compressing objects:  56% (45/79)\u001b[K\r",
      "remote: Compressing objects:  58% (46/79)\u001b[K\r",
      "remote: Compressing objects:  59% (47/79)\u001b[K\r",
      "remote: Compressing objects:  60% (48/79)\u001b[K\r",
      "remote: Compressing objects:  62% (49/79)\u001b[K\r",
      "remote: Compressing objects:  63% (50/79)\u001b[K\r",
      "remote: Compressing objects:  64% (51/79)\u001b[K\r",
      "remote: Compressing objects:  65% (52/79)\u001b[K\r",
      "remote: Compressing objects:  67% (53/79)\u001b[K\r",
      "remote: Compressing objects:  68% (54/79)\u001b[K\r",
      "remote: Compressing objects:  69% (55/79)\u001b[K\r",
      "remote: Compressing objects:  70% (56/79)\u001b[K\r",
      "remote: Compressing objects:  72% (57/79)\u001b[K\r",
      "remote: Compressing objects:  73% (58/79)\u001b[K\r",
      "remote: Compressing objects:  74% (59/79)\u001b[K\r",
      "remote: Compressing objects:  75% (60/79)\u001b[K\r",
      "remote: Compressing objects:  77% (61/79)\u001b[K\r",
      "remote: Compressing objects:  78% (62/79)\u001b[K\r",
      "remote: Compressing objects:  79% (63/79)\u001b[K\r",
      "remote: Compressing objects:  81% (64/79)\u001b[K\r",
      "remote: Compressing objects:  82% (65/79)\u001b[K\r",
      "remote: Compressing objects:  83% (66/79)\u001b[K\r",
      "remote: Compressing objects:  84% (67/79)\u001b[K\r",
      "remote: Compressing objects:  86% (68/79)\u001b[K\r",
      "remote: Compressing objects:  87% (69/79)\u001b[K\r",
      "remote: Compressing objects:  88% (70/79)\u001b[K\r",
      "remote: Compressing objects:  89% (71/79)\u001b[K\r",
      "remote: Compressing objects:  91% (72/79)\u001b[K\r",
      "remote: Compressing objects:  92% (73/79)\u001b[K\r",
      "remote: Compressing objects:  93% (74/79)\u001b[K\r",
      "remote: Compressing objects:  94% (75/79)\u001b[K\r",
      "remote: Compressing objects:  96% (76/79)\u001b[K\r",
      "remote: Compressing objects:  97% (77/79)\u001b[K\r",
      "remote: Compressing objects:  98% (78/79)\u001b[K\r",
      "remote: Compressing objects: 100% (79/79)\u001b[K\r",
      "remote: Compressing objects: 100% (79/79), done.\u001b[K\r\n",
      "Receiving objects:   0% (1/13824)   \r",
      "Receiving objects:   1% (139/13824)   \r"
     ]
    },
    {
     "name": "stdout",
     "output_type": "stream",
     "text": [
      "Receiving objects:   2% (277/13824)   \r",
      "Receiving objects:   3% (415/13824)   \r"
     ]
    },
    {
     "name": "stdout",
     "output_type": "stream",
     "text": [
      "Receiving objects:   4% (553/13824)   \r",
      "Receiving objects:   5% (692/13824)   \r",
      "Receiving objects:   6% (830/13824)   \r",
      "Receiving objects:   7% (968/13824)   \r"
     ]
    },
    {
     "name": "stdout",
     "output_type": "stream",
     "text": [
      "Receiving objects:   8% (1106/13824)   \r",
      "Receiving objects:   9% (1245/13824)   \r"
     ]
    },
    {
     "name": "stdout",
     "output_type": "stream",
     "text": [
      "Receiving objects:  10% (1383/13824), 252.01 KiB | 465.00 KiB/s   \r",
      "Receiving objects:  11% (1521/13824), 252.01 KiB | 465.00 KiB/s   \r",
      "Receiving objects:  12% (1659/13824), 252.01 KiB | 465.00 KiB/s   \r",
      "Receiving objects:  13% (1798/13824), 252.01 KiB | 465.00 KiB/s   \r",
      "Receiving objects:  14% (1936/13824), 252.01 KiB | 465.00 KiB/s   \r",
      "Receiving objects:  15% (2074/13824), 252.01 KiB | 465.00 KiB/s   \r",
      "Receiving objects:  16% (2212/13824), 252.01 KiB | 465.00 KiB/s   \r",
      "Receiving objects:  17% (2351/13824), 252.01 KiB | 465.00 KiB/s   \r"
     ]
    },
    {
     "name": "stdout",
     "output_type": "stream",
     "text": [
      "Receiving objects:  18% (2489/13824), 252.01 KiB | 465.00 KiB/s   \r"
     ]
    },
    {
     "name": "stdout",
     "output_type": "stream",
     "text": [
      "Receiving objects:  19% (2627/13824), 252.01 KiB | 465.00 KiB/s   \r",
      "Receiving objects:  20% (2765/13824), 252.01 KiB | 465.00 KiB/s   \r",
      "Receiving objects:  21% (2904/13824), 252.01 KiB | 465.00 KiB/s   \r",
      "Receiving objects:  22% (3042/13824), 252.01 KiB | 465.00 KiB/s   \r",
      "Receiving objects:  23% (3180/13824), 252.01 KiB | 465.00 KiB/s   \r"
     ]
    },
    {
     "name": "stdout",
     "output_type": "stream",
     "text": [
      "Receiving objects:  24% (3318/13824), 252.01 KiB | 465.00 KiB/s   \r",
      "Receiving objects:  25% (3456/13824), 252.01 KiB | 465.00 KiB/s   \r",
      "Receiving objects:  26% (3595/13824), 252.01 KiB | 465.00 KiB/s   \r",
      "Receiving objects:  27% (3733/13824), 252.01 KiB | 465.00 KiB/s   \r"
     ]
    },
    {
     "name": "stdout",
     "output_type": "stream",
     "text": [
      "Receiving objects:  28% (3871/13824), 252.01 KiB | 465.00 KiB/s   \r",
      "Receiving objects:  29% (4009/13824), 252.01 KiB | 465.00 KiB/s   \r",
      "Receiving objects:  30% (4148/13824), 252.01 KiB | 465.00 KiB/s   \r",
      "Receiving objects:  31% (4286/13824), 252.01 KiB | 465.00 KiB/s   \r",
      "Receiving objects:  32% (4424/13824), 252.01 KiB | 465.00 KiB/s   \r",
      "Receiving objects:  33% (4562/13824), 252.01 KiB | 465.00 KiB/s   \r",
      "Receiving objects:  34% (4701/13824), 252.01 KiB | 465.00 KiB/s   \r",
      "Receiving objects:  35% (4839/13824), 252.01 KiB | 465.00 KiB/s   \r"
     ]
    },
    {
     "name": "stdout",
     "output_type": "stream",
     "text": [
      "Receiving objects:  35% (4853/13824), 2.38 MiB | 2.21 MiB/s   \r"
     ]
    },
    {
     "name": "stdout",
     "output_type": "stream",
     "text": [
      "Receiving objects:  36% (4977/13824), 2.38 MiB | 2.21 MiB/s   \r",
      "Receiving objects:  37% (5115/13824), 2.38 MiB | 2.21 MiB/s   \r",
      "Receiving objects:  38% (5254/13824), 2.38 MiB | 2.21 MiB/s   \r",
      "Receiving objects:  39% (5392/13824), 2.38 MiB | 2.21 MiB/s   \r",
      "Receiving objects:  40% (5530/13824), 2.38 MiB | 2.21 MiB/s   \r",
      "Receiving objects:  41% (5668/13824), 2.38 MiB | 2.21 MiB/s   \r",
      "Receiving objects:  42% (5807/13824), 2.38 MiB | 2.21 MiB/s   \r",
      "Receiving objects:  43% (5945/13824), 2.38 MiB | 2.21 MiB/s   \r",
      "Receiving objects:  44% (6083/13824), 2.38 MiB | 2.21 MiB/s   \r",
      "Receiving objects:  45% (6221/13824), 2.38 MiB | 2.21 MiB/s   \r",
      "Receiving objects:  46% (6360/13824), 2.38 MiB | 2.21 MiB/s   \r",
      "Receiving objects:  47% (6498/13824), 2.38 MiB | 2.21 MiB/s   \r",
      "Receiving objects:  48% (6636/13824), 2.38 MiB | 2.21 MiB/s   \r",
      "Receiving objects:  49% (6774/13824), 2.38 MiB | 2.21 MiB/s   \r",
      "Receiving objects:  50% (6912/13824), 2.38 MiB | 2.21 MiB/s   \r",
      "Receiving objects:  51% (7051/13824), 2.38 MiB | 2.21 MiB/s   \r",
      "Receiving objects:  52% (7189/13824), 2.38 MiB | 2.21 MiB/s   \r",
      "Receiving objects:  53% (7327/13824), 2.38 MiB | 2.21 MiB/s   \r",
      "Receiving objects:  54% (7465/13824), 2.38 MiB | 2.21 MiB/s   \r",
      "Receiving objects:  55% (7604/13824), 2.38 MiB | 2.21 MiB/s   \r",
      "Receiving objects:  56% (7742/13824), 2.38 MiB | 2.21 MiB/s   \r",
      "Receiving objects:  57% (7880/13824), 2.38 MiB | 2.21 MiB/s   \r",
      "Receiving objects:  58% (8018/13824), 2.38 MiB | 2.21 MiB/s   \r",
      "Receiving objects:  59% (8157/13824), 2.38 MiB | 2.21 MiB/s   \r",
      "Receiving objects:  60% (8295/13824), 2.38 MiB | 2.21 MiB/s   \r",
      "Receiving objects:  61% (8433/13824), 2.38 MiB | 2.21 MiB/s   \r",
      "Receiving objects:  62% (8571/13824), 2.38 MiB | 2.21 MiB/s   \r",
      "Receiving objects:  63% (8710/13824), 2.38 MiB | 2.21 MiB/s   \r",
      "Receiving objects:  64% (8848/13824), 2.38 MiB | 2.21 MiB/s   \r",
      "Receiving objects:  65% (8986/13824), 2.38 MiB | 2.21 MiB/s   \r",
      "Receiving objects:  66% (9124/13824), 2.38 MiB | 2.21 MiB/s   \r",
      "Receiving objects:  67% (9263/13824), 2.38 MiB | 2.21 MiB/s   \r",
      "Receiving objects:  68% (9401/13824), 2.38 MiB | 2.21 MiB/s   \r",
      "Receiving objects:  69% (9539/13824), 2.38 MiB | 2.21 MiB/s   \r",
      "Receiving objects:  70% (9677/13824), 2.38 MiB | 2.21 MiB/s   \r",
      "Receiving objects:  71% (9816/13824), 2.38 MiB | 2.21 MiB/s   \r",
      "Receiving objects:  72% (9954/13824), 2.38 MiB | 2.21 MiB/s   \r"
     ]
    },
    {
     "name": "stdout",
     "output_type": "stream",
     "text": [
      "Receiving objects:  73% (10092/13824), 2.38 MiB | 2.21 MiB/s   \r",
      "Receiving objects:  74% (10230/13824), 2.38 MiB | 2.21 MiB/s   \r",
      "Receiving objects:  75% (10368/13824), 2.38 MiB | 2.21 MiB/s   \r",
      "Receiving objects:  76% (10507/13824), 2.38 MiB | 2.21 MiB/s   \r",
      "Receiving objects:  77% (10645/13824), 2.38 MiB | 2.21 MiB/s   \r",
      "Receiving objects:  78% (10783/13824), 2.38 MiB | 2.21 MiB/s   \r",
      "Receiving objects:  79% (10921/13824), 2.38 MiB | 2.21 MiB/s   \r",
      "Receiving objects:  80% (11060/13824), 2.38 MiB | 2.21 MiB/s   \r",
      "Receiving objects:  81% (11198/13824), 2.38 MiB | 2.21 MiB/s   \r",
      "Receiving objects:  82% (11336/13824), 2.38 MiB | 2.21 MiB/s   \r",
      "Receiving objects:  83% (11474/13824), 2.38 MiB | 2.21 MiB/s   \r",
      "Receiving objects:  84% (11613/13824), 2.38 MiB | 2.21 MiB/s   \r",
      "Receiving objects:  85% (11751/13824), 2.38 MiB | 2.21 MiB/s   \r",
      "Receiving objects:  86% (11889/13824), 2.38 MiB | 2.21 MiB/s   \r",
      "Receiving objects:  87% (12027/13824), 2.38 MiB | 2.21 MiB/s   \r",
      "Receiving objects:  88% (12166/13824), 2.38 MiB | 2.21 MiB/s   \r"
     ]
    },
    {
     "name": "stdout",
     "output_type": "stream",
     "text": [
      "Receiving objects:  89% (12304/13824), 2.38 MiB | 2.21 MiB/s   \r",
      "Receiving objects:  90% (12442/13824), 2.38 MiB | 2.21 MiB/s   \r",
      "Receiving objects:  91% (12580/13824), 2.38 MiB | 2.21 MiB/s   \r",
      "Receiving objects:  92% (12719/13824), 2.38 MiB | 2.21 MiB/s   \r",
      "Receiving objects:  93% (12857/13824), 2.38 MiB | 2.21 MiB/s   \r",
      "Receiving objects:  94% (12995/13824), 2.38 MiB | 2.21 MiB/s   \r",
      "Receiving objects:  95% (13133/13824), 2.38 MiB | 2.21 MiB/s   \r",
      "Receiving objects:  96% (13272/13824), 2.38 MiB | 2.21 MiB/s   \r",
      "Receiving objects:  97% (13410/13824), 2.38 MiB | 2.21 MiB/s   \r"
     ]
    },
    {
     "name": "stdout",
     "output_type": "stream",
     "text": [
      "Receiving objects:  98% (13548/13824), 2.38 MiB | 2.21 MiB/s   \r",
      "remote: Total 13824 (delta 76), reused 92 (delta 45), pack-reused 13687\u001b[K\r\n",
      "Receiving objects:  99% (13686/13824), 2.38 MiB | 2.21 MiB/s   \r",
      "Receiving objects: 100% (13824/13824), 2.38 MiB | 2.21 MiB/s   \r",
      "Receiving objects: 100% (13824/13824), 5.49 MiB | 4.22 MiB/s, done.\r\n",
      "Resolving deltas:   0% (0/7956)   \r",
      "Resolving deltas:   1% (84/7956)   \r",
      "Resolving deltas:   2% (163/7956)   \r",
      "Resolving deltas:   3% (244/7956)   \r",
      "Resolving deltas:   4% (322/7956)   \r",
      "Resolving deltas:   5% (402/7956)   \r",
      "Resolving deltas:   6% (478/7956)   \r",
      "Resolving deltas:   7% (564/7956)   \r",
      "Resolving deltas:   8% (642/7956)   \r",
      "Resolving deltas:   9% (726/7956)   \r",
      "Resolving deltas:  10% (803/7956)   \r",
      "Resolving deltas:  11% (882/7956)   \r",
      "Resolving deltas:  12% (962/7956)   \r",
      "Resolving deltas:  13% (1036/7956)   \r",
      "Resolving deltas:  14% (1115/7956)   \r",
      "Resolving deltas:  15% (1204/7956)   \r",
      "Resolving deltas:  16% (1278/7956)   \r",
      "Resolving deltas:  17% (1354/7956)   \r",
      "Resolving deltas:  18% (1448/7956)   \r",
      "Resolving deltas:  19% (1513/7956)   \r"
     ]
    },
    {
     "name": "stdout",
     "output_type": "stream",
     "text": [
      "Resolving deltas:  20% (1597/7956)   \r",
      "Resolving deltas:  21% (1677/7956)   \r",
      "Resolving deltas:  22% (1765/7956)   \r",
      "Resolving deltas:  23% (1833/7956)   \r",
      "Resolving deltas:  24% (1911/7956)   \r",
      "Resolving deltas:  25% (2012/7956)   \r",
      "Resolving deltas:  27% (2156/7956)   \r",
      "Resolving deltas:  28% (2263/7956)   \r",
      "Resolving deltas:  31% (2491/7956)   \r",
      "Resolving deltas:  32% (2555/7956)   \r",
      "Resolving deltas:  33% (2639/7956)   \r",
      "Resolving deltas:  34% (2715/7956)   \r",
      "Resolving deltas:  35% (2801/7956)   \r",
      "Resolving deltas:  36% (2869/7956)   \r",
      "Resolving deltas:  37% (2962/7956)   \r",
      "Resolving deltas:  39% (3122/7956)   \r",
      "Resolving deltas:  41% (3312/7956)   \r",
      "Resolving deltas:  43% (3437/7956)   \r",
      "Resolving deltas:  44% (3507/7956)   \r",
      "Resolving deltas:  45% (3586/7956)   \r",
      "Resolving deltas:  46% (3678/7956)   \r",
      "Resolving deltas:  47% (3788/7956)   \r",
      "Resolving deltas:  48% (3828/7956)   \r",
      "Resolving deltas:  49% (3901/7956)   \r",
      "Resolving deltas:  52% (4180/7956)   \r",
      "Resolving deltas:  53% (4238/7956)   \r",
      "Resolving deltas:  55% (4403/7956)   \r",
      "Resolving deltas:  56% (4461/7956)   \r",
      "Resolving deltas:  57% (4539/7956)   \r",
      "Resolving deltas:  58% (4626/7956)   \r"
     ]
    },
    {
     "name": "stdout",
     "output_type": "stream",
     "text": [
      "Resolving deltas:  59% (4737/7956)   \r",
      "Resolving deltas:  60% (4788/7956)   \r",
      "Resolving deltas:  61% (4890/7956)   \r",
      "Resolving deltas:  62% (4950/7956)   \r",
      "Resolving deltas:  63% (5058/7956)   \r",
      "Resolving deltas:  64% (5096/7956)   \r",
      "Resolving deltas:  65% (5201/7956)   \r",
      "Resolving deltas:  66% (5253/7956)   \r",
      "Resolving deltas:  67% (5331/7956)   \r",
      "Resolving deltas:  68% (5411/7956)   \r",
      "Resolving deltas:  69% (5495/7956)   \r",
      "Resolving deltas:  70% (5573/7956)   \r",
      "Resolving deltas:  71% (5652/7956)   \r",
      "Resolving deltas:  72% (5733/7956)   \r",
      "Resolving deltas:  73% (5828/7956)   \r",
      "Resolving deltas:  74% (5889/7956)   \r",
      "Resolving deltas:  75% (5968/7956)   \r",
      "Resolving deltas:  76% (6055/7956)   \r",
      "Resolving deltas:  77% (6127/7956)   \r",
      "Resolving deltas:  78% (6206/7956)   \r",
      "Resolving deltas:  79% (6289/7956)   \r",
      "Resolving deltas:  80% (6371/7956)   \r",
      "Resolving deltas:  81% (6459/7956)   \r",
      "Resolving deltas:  82% (6529/7956)   \r",
      "Resolving deltas:  83% (6633/7956)   \r",
      "Resolving deltas:  84% (6687/7956)   \r",
      "Resolving deltas:  85% (6781/7956)   \r",
      "Resolving deltas:  86% (6843/7956)   \r",
      "Resolving deltas:  87% (6925/7956)   \r",
      "Resolving deltas:  88% (7003/7956)   \r",
      "Resolving deltas:  89% (7096/7956)   \r",
      "Resolving deltas:  90% (7165/7956)   \r",
      "Resolving deltas:  91% (7240/7956)   \r",
      "Resolving deltas:  92% (7321/7956)   \r",
      "Resolving deltas:  93% (7407/7956)   \r",
      "Resolving deltas:  94% (7481/7956)   \r",
      "Resolving deltas:  95% (7569/7956)   \r",
      "Resolving deltas:  96% (7639/7956)   \r",
      "Resolving deltas:  97% (7728/7956)   \r",
      "Resolving deltas:  98% (7800/7956)   \r",
      "Resolving deltas:  99% (7902/7956)   \r",
      "Resolving deltas: 100% (7956/7956)   \r",
      "Resolving deltas: 100% (7956/7956), done.\r\n"
     ]
    }
   ],
   "source": [
    "!git clone https://github.com/kpu/kenlm"
   ]
  },
  {
   "cell_type": "code",
   "execution_count": 6,
   "id": "educational-feeding",
   "metadata": {
    "execution": {
     "iopub.execute_input": "2021-06-06T21:24:24.220492Z",
     "iopub.status.busy": "2021-06-06T21:24:24.216944Z",
     "iopub.status.idle": "2021-06-06T21:24:31.247445Z",
     "shell.execute_reply": "2021-06-06T21:24:31.246847Z",
     "shell.execute_reply.started": "2021-05-31T13:58:12.001162Z"
    },
    "papermill": {
     "duration": 7.065266,
     "end_time": "2021-06-06T21:24:31.247591",
     "exception": false,
     "start_time": "2021-06-06T21:24:24.182325",
     "status": "completed"
    },
    "tags": []
   },
   "outputs": [],
   "source": [
    "%%capture\n",
    "!apt-get -y install libeigen3-dev liblzma-dev zlib1g-dev libbz2-dev"
   ]
  },
  {
   "cell_type": "code",
   "execution_count": 7,
   "id": "humanitarian-license",
   "metadata": {
    "execution": {
     "iopub.execute_input": "2021-06-06T21:24:31.306604Z",
     "iopub.status.busy": "2021-06-06T21:24:31.306016Z",
     "iopub.status.idle": "2021-06-06T21:25:42.208597Z",
     "shell.execute_reply": "2021-06-06T21:25:42.207384Z"
    },
    "papermill": {
     "duration": 70.933115,
     "end_time": "2021-06-06T21:25:42.208896",
     "exception": false,
     "start_time": "2021-06-06T21:24:31.275781",
     "status": "completed"
    },
    "tags": []
   },
   "outputs": [],
   "source": [
    "\n",
    "%%capture\n",
    "%cd kenlm\n",
    "!mkdir build\n",
    "%cd build\n",
    "!cmake ..\n",
    "!make -j 4\n",
    "%cd /tmp"
   ]
  },
  {
   "cell_type": "code",
   "execution_count": 8,
   "id": "disciplinary-protest",
   "metadata": {
    "execution": {
     "iopub.execute_input": "2021-06-06T21:25:42.273563Z",
     "iopub.status.busy": "2021-06-06T21:25:42.272912Z",
     "iopub.status.idle": "2021-06-06T21:26:21.064035Z",
     "shell.execute_reply": "2021-06-06T21:26:21.063468Z",
     "shell.execute_reply.started": "2021-05-31T14:00:27.915818Z"
    },
    "papermill": {
     "duration": 38.826417,
     "end_time": "2021-06-06T21:26:21.064243",
     "exception": false,
     "start_time": "2021-06-06T21:25:42.237826",
     "status": "completed"
    },
    "tags": []
   },
   "outputs": [],
   "source": [
    "%%capture\n",
    "%cd /tmp/kenlm\n",
    "!python setup.py install\n",
    "%cd /tmp"
   ]
  },
  {
   "cell_type": "code",
   "execution_count": 9,
   "id": "subsequent-buffalo",
   "metadata": {
    "execution": {
     "iopub.execute_input": "2021-06-06T21:26:21.128735Z",
     "iopub.status.busy": "2021-06-06T21:26:21.127903Z",
     "iopub.status.idle": "2021-06-06T21:26:21.130900Z",
     "shell.execute_reply": "2021-06-06T21:26:21.130250Z",
     "shell.execute_reply.started": "2021-05-25T22:58:58.397816Z"
    },
    "papermill": {
     "duration": 0.037312,
     "end_time": "2021-06-06T21:26:21.131038",
     "exception": false,
     "start_time": "2021-06-06T21:26:21.093726",
     "status": "completed"
    },
    "tags": []
   },
   "outputs": [],
   "source": [
    "import os\n",
    "os.environ['PATH'] = f\"{os.environ['PATH']}:/tmp/kenlm/build/bin/\"\n",
    "os.environ['FAIRSEQ_ROOT'] = '/tmp/fairseq'"
   ]
  },
  {
   "cell_type": "code",
   "execution_count": 10,
   "id": "indirect-delay",
   "metadata": {
    "execution": {
     "iopub.execute_input": "2021-06-06T21:26:21.193260Z",
     "iopub.status.busy": "2021-06-06T21:26:21.192555Z",
     "iopub.status.idle": "2021-06-06T21:26:21.196502Z",
     "shell.execute_reply": "2021-06-06T21:26:21.197022Z",
     "shell.execute_reply.started": "2021-05-31T11:51:49.832574Z"
    },
    "papermill": {
     "duration": 0.036928,
     "end_time": "2021-06-06T21:26:21.197183",
     "exception": false,
     "start_time": "2021-06-06T21:26:21.160255",
     "status": "completed"
    },
    "tags": []
   },
   "outputs": [
    {
     "name": "stdout",
     "output_type": "stream",
     "text": [
      "/tmp/fairseq\n"
     ]
    }
   ],
   "source": [
    "%cd /tmp/fairseq/"
   ]
  },
  {
   "cell_type": "code",
   "execution_count": 11,
   "id": "regular-keeping",
   "metadata": {
    "execution": {
     "iopub.execute_input": "2021-06-06T21:26:21.261792Z",
     "iopub.status.busy": "2021-06-06T21:26:21.261177Z",
     "iopub.status.idle": "2021-06-06T21:27:39.982652Z",
     "shell.execute_reply": "2021-06-06T21:27:39.982076Z"
    },
    "papermill": {
     "duration": 78.75649,
     "end_time": "2021-06-06T21:27:39.982821",
     "exception": false,
     "start_time": "2021-06-06T21:26:21.226331",
     "status": "completed"
    },
    "tags": []
   },
   "outputs": [],
   "source": [
    "%%capture\n",
    "!python setup.py install"
   ]
  },
  {
   "cell_type": "code",
   "execution_count": 12,
   "id": "homeless-scroll",
   "metadata": {
    "execution": {
     "iopub.execute_input": "2021-06-06T21:27:40.047936Z",
     "iopub.status.busy": "2021-06-06T21:27:40.047231Z",
     "iopub.status.idle": "2021-06-06T21:27:40.050058Z",
     "shell.execute_reply": "2021-06-06T21:27:40.050534Z"
    },
    "papermill": {
     "duration": 0.038791,
     "end_time": "2021-06-06T21:27:40.050700",
     "exception": false,
     "start_time": "2021-06-06T21:27:40.011909",
     "status": "completed"
    },
    "tags": []
   },
   "outputs": [
    {
     "name": "stdout",
     "output_type": "stream",
     "text": [
      "/tmp/fairseq\n"
     ]
    }
   ],
   "source": [
    "%cd /tmp/fairseq/"
   ]
  },
  {
   "cell_type": "code",
   "execution_count": 13,
   "id": "multiple-attribute",
   "metadata": {
    "execution": {
     "iopub.execute_input": "2021-06-06T21:27:40.113610Z",
     "iopub.status.busy": "2021-06-06T21:27:40.112967Z",
     "iopub.status.idle": "2021-06-06T21:27:40.117949Z",
     "shell.execute_reply": "2021-06-06T21:27:40.117377Z"
    },
    "papermill": {
     "duration": 0.038112,
     "end_time": "2021-06-06T21:27:40.118096",
     "exception": false,
     "start_time": "2021-06-06T21:27:40.079984",
     "status": "completed"
    },
    "tags": []
   },
   "outputs": [],
   "source": [
    "os.environ['HYDRA_FULL_ERROR'] = '1'"
   ]
  },
  {
   "cell_type": "code",
   "execution_count": 14,
   "id": "respiratory-klein",
   "metadata": {
    "execution": {
     "iopub.execute_input": "2021-06-06T21:27:40.180080Z",
     "iopub.status.busy": "2021-06-06T21:27:40.179414Z",
     "iopub.status.idle": "2021-06-06T21:27:50.088158Z",
     "shell.execute_reply": "2021-06-06T21:27:50.088663Z"
    },
    "papermill": {
     "duration": 9.941542,
     "end_time": "2021-06-06T21:27:50.088843",
     "exception": false,
     "start_time": "2021-06-06T21:27:40.147301",
     "status": "completed"
    },
    "tags": []
   },
   "outputs": [],
   "source": [
    "%%capture\n",
    "!pip install editdistance"
   ]
  },
  {
   "cell_type": "markdown",
   "id": "medical-greensboro",
   "metadata": {
    "papermill": {
     "duration": 0.028833,
     "end_time": "2021-06-06T21:27:50.147068",
     "exception": false,
     "start_time": "2021-06-06T21:27:50.118235",
     "status": "completed"
    },
    "tags": []
   },
   "source": [
    "## GAN"
   ]
  },
  {
   "cell_type": "code",
   "execution_count": 15,
   "id": "honest-pound",
   "metadata": {
    "execution": {
     "iopub.execute_input": "2021-06-06T21:27:50.211795Z",
     "iopub.status.busy": "2021-06-06T21:27:50.211152Z",
     "iopub.status.idle": "2021-06-06T21:27:50.215834Z",
     "shell.execute_reply": "2021-06-06T21:27:50.215359Z"
    },
    "papermill": {
     "duration": 0.039713,
     "end_time": "2021-06-06T21:27:50.215994",
     "exception": false,
     "start_time": "2021-06-06T21:27:50.176281",
     "status": "completed"
    },
    "tags": []
   },
   "outputs": [
    {
     "name": "stdout",
     "output_type": "stream",
     "text": [
      "Writing rungan.sh\n"
     ]
    }
   ],
   "source": [
    "%%writefile rungan.sh\n",
    "PREFIX=w2v_unsup_gan_xp\n",
    "#TASK_DATA=/path/to/features/unfiltered/precompute_unfiltered_pca512_cls128_mean_pooled\n",
    "TASK_DATA=/kaggle/input/wav2vec-u-cv-swedish-audio/precompute_pca512_cls128_mean_pooled/\n",
    "#TEXT_DATA=/path/to/data  # path to fairseq-preprocessed GAN data\n",
    "TEXT_DATA=/kaggle/input/wav2vec-u-cv-swedish-text-prep/preppedtext/phones/\n",
    "#KENLM_PATH=/path/to/data/kenlm.phn.o4.bin  # KenLM 4-gram phoneme language model (LM data = GAN data here)\n",
    "KENLM_PATH=/kaggle/input/wav2vec-u-cv-swedish-text-prep/preppedtext/phones/lm.phones.filtered.04.bin\n",
    "\n",
    "PREFIX=$PREFIX fairseq-hydra-train \\\n",
    "\t-m --config-dir fairseq/config/model/wav2vecu/gan \\\n",
    "\t--config-name w2vu \\\n",
    "\ttask.data=${TASK_DATA} \\\n",
    "\ttask.text_data=${TEXT_DATA} \\\n",
    "\ttask.kenlm_path=${KENLM_PATH} \\\n",
    "\tcheckpoint.no_epoch_checkpoints=true \\\n",
    "\tcheckpoint.save_dir=/kaggle/working \\\n",
    "\t'common.seed=range(0,5)'"
   ]
  },
  {
   "cell_type": "code",
   "execution_count": 16,
   "id": "threatened-consequence",
   "metadata": {
    "execution": {
     "iopub.execute_input": "2021-06-06T21:27:50.284379Z",
     "iopub.status.busy": "2021-06-06T21:27:50.279815Z"
    },
    "papermill": {
     "duration": null,
     "end_time": null,
     "exception": false,
     "start_time": "2021-06-06T21:27:50.245909",
     "status": "running"
    },
    "tags": []
   },
   "outputs": [
    {
     "name": "stdout",
     "output_type": "stream",
     "text": [
      "[2021-06-06 21:28:05,147][HYDRA] Launching 5 jobs locally\r\n",
      "[2021-06-06 21:28:05,147][HYDRA] \t#0 : task.data=/kaggle/input/wav2vec-u-cv-swedish-audio/precompute_pca512_cls128_mean_pooled/ task.text_data=/kaggle/input/wav2vec-u-cv-swedish-text-prep/preppedtext/phones/ task.kenlm_path=/kaggle/input/wav2vec-u-cv-swedish-text-prep/preppedtext/phones/lm.phones.filtered.04.bin checkpoint.no_epoch_checkpoints=True checkpoint.save_dir=/kaggle/working common.seed=0\r\n"
     ]
    },
    {
     "name": "stdout",
     "output_type": "stream",
     "text": [
      "[2021-06-06 21:28:07,402][fairseq_cli.train][INFO] - {'_name': None, 'common': {'_name': None, 'no_progress_bar': False, 'log_interval': 100, 'log_format': 'json', 'log_file': None, 'tensorboard_logdir': 'tb', 'wandb_project': None, 'azureml_logging': False, 'seed': 0, 'cpu': False, 'tpu': False, 'bf16': False, 'memory_efficient_bf16': False, 'fp16': False, 'memory_efficient_fp16': False, 'fp16_no_flatten_grads': True, 'fp16_init_scale': 128, 'fp16_scale_window': None, 'fp16_scale_tolerance': 0.0, 'min_loss_scale': 0.0001, 'threshold_loss_scale': None, 'amp': False, 'amp_batch_retries': 2, 'amp_init_scale': 128, 'amp_scale_window': None, 'user_dir': None, 'empty_cache_freq': 0, 'all_gather_list_size': 16384, 'model_parallel_size': 1, 'quantization_config_path': None, 'profile': False, 'reset_logging': False, 'suppress_crashes': False, 'use_plasma_view': False, 'plasma_path': '/tmp/plasma'}, 'common_eval': {'_name': None, 'path': None, 'post_process': None, 'quiet': False, 'model_overrides': '{}', 'results_path': None}, 'distributed_training': {'_name': None, 'distributed_world_size': 1, 'distributed_rank': 0, 'distributed_backend': 'nccl', 'distributed_init_method': None, 'distributed_port': -1, 'device_id': 0, 'distributed_no_spawn': False, 'ddp_backend': 'pytorch_ddp', 'ddp_comm_hook': 'none', 'bucket_cap_mb': 25, 'fix_batches_to_gpus': False, 'find_unused_parameters': False, 'fast_stat_sync': False, 'heartbeat_timeout': -1, 'broadcast_buffers': False, 'slowmo_momentum': None, 'slowmo_algorithm': 'LocalSGD', 'localsgd_frequency': 3, 'nprocs_per_node': 1, 'pipeline_model_parallel': False, 'pipeline_balance': None, 'pipeline_devices': None, 'pipeline_chunks': 0, 'pipeline_encoder_balance': None, 'pipeline_encoder_devices': None, 'pipeline_decoder_balance': None, 'pipeline_decoder_devices': None, 'pipeline_checkpoint': 'never', 'zero_sharding': 'none', 'fp16': False, 'memory_efficient_fp16': False, 'tpu': False, 'no_reshard_after_forward': False, 'fp32_reduce_scatter': False, 'cpu_offload': False, 'use_sharded_state': False, 'distributed_num_procs': 0}, 'dataset': {'_name': None, 'num_workers': 6, 'skip_invalid_size_inputs_valid_test': True, 'max_tokens': None, 'batch_size': 160, 'required_batch_size_multiple': 8, 'required_seq_len_multiple': 1, 'dataset_impl': None, 'data_buffer_size': 10, 'train_subset': 'train', 'valid_subset': 'valid', 'combine_valid_subsets': None, 'ignore_unused_valid_subsets': False, 'validate_interval': 1, 'validate_interval_updates': 0, 'validate_after_updates': 0, 'fixed_validation_seed': None, 'disable_validation': False, 'max_tokens_valid': None, 'batch_size_valid': 160, 'max_valid_steps': None, 'curriculum': 0, 'gen_subset': 'test', 'num_shards': 1, 'shard_id': 0}, 'optimization': {'_name': None, 'max_epoch': 0, 'max_update': 150000, 'stop_time_hours': 0.0, 'clip_norm': 5.0, 'sentence_avg': False, 'update_freq': [1], 'lr': [0.0], 'stop_min_lr': -1.0, 'use_bmuf': False}, 'checkpoint': {'_name': None, 'save_dir': '/kaggle/working', 'restore_file': 'checkpoint_last.pt', 'finetune_from_model': None, 'reset_dataloader': False, 'reset_lr_scheduler': False, 'reset_meters': False, 'reset_optimizer': False, 'optimizer_overrides': '{}', 'save_interval': 1, 'save_interval_updates': 0, 'keep_interval_updates': -1, 'keep_interval_updates_pattern': -1, 'keep_last_epochs': -1, 'keep_best_checkpoints': -1, 'no_save': False, 'no_epoch_checkpoints': True, 'no_last_checkpoints': False, 'no_save_optimizer_state': False, 'best_checkpoint_metric': 'weighted_lm_ppl', 'maximize_best_checkpoint_metric': False, 'patience': -1, 'checkpoint_suffix': '', 'checkpoint_shard_count': 1, 'load_checkpoint_on_all_dp_ranks': False, 'write_checkpoints_asynchronously': False, 'model_parallel_size': 1}, 'bmuf': {'_name': None, 'block_lr': 1.0, 'block_momentum': 0.875, 'global_sync_iter': 50, 'warmup_iterations': 500, 'use_nbm': False, 'average_sync': False, 'distributed_world_size': 1}, 'generation': {'_name': None, 'beam': 5, 'nbest': 1, 'max_len_a': 0.0, 'max_len_b': 200, 'min_len': 1, 'match_source_len': False, 'unnormalized': False, 'no_early_stop': False, 'no_beamable_mm': False, 'lenpen': 1.0, 'unkpen': 0.0, 'replace_unk': None, 'sacrebleu': False, 'score_reference': False, 'prefix_size': 0, 'no_repeat_ngram_size': 0, 'sampling': False, 'sampling_topk': -1, 'sampling_topp': -1.0, 'constraints': None, 'temperature': 1.0, 'diverse_beam_groups': -1, 'diverse_beam_strength': 0.5, 'diversity_rate': -1.0, 'print_alignment': None, 'print_step': False, 'lm_path': None, 'lm_weight': 0.0, 'iter_decode_eos_penalty': 0.0, 'iter_decode_max_iter': 10, 'iter_decode_force_max_iter': False, 'iter_decode_with_beam': 1, 'iter_decode_with_external_reranker': False, 'retain_iter_history': False, 'retain_dropout': False, 'retain_dropout_modules': None, 'decoding_format': None, 'no_seed_provided': False}, 'eval_lm': {'_name': None, 'output_word_probs': False, 'output_word_stats': False, 'context_window': 0, 'softmax_batch': 9223372036854775807}, 'interactive': {'_name': None, 'buffer_size': 0, 'input': '-'}, 'model': {'_name': 'wav2vec_u', 'discriminator_kernel': 6, 'discriminator_dilation': 1, 'discriminator_dim': 384, 'discriminator_causal': True, 'discriminator_linear_emb': False, 'discriminator_depth': 2, 'discriminator_max_pool': False, 'discriminator_act_after_linear': False, 'discriminator_dropout': 0.0, 'discriminator_spectral_norm': False, 'discriminator_weight_norm': False, 'generator_kernel': 4, 'generator_dilation': 1, 'generator_stride': 1, 'generator_bias': False, 'generator_dropout': 0.1, 'blank_weight': 0.0, 'blank_mode': 'add', 'blank_is_sil': False, 'no_softmax': False, 'smoothness_weight': 0.5, 'smoothing': 0.0, 'smoothing_one_sided': False, 'gradient_penalty': 1.5, 'probabilistic_grad_penalty_slicing': False, 'code_penalty': 4.0, 'gumbel': False, 'hard_gumbel': False, 'temp': [2.0, 0.1, 0.99995], 'input_dim': 512, 'wgan_loss': False, 'segmentation': {'_name': None, 'type': 'JOIN', 'subsample_rate': 0.25, 'mean_pool': True, 'mean_pool_join': False, 'remove_zeros': False}}, 'task': {'_name': 'gan_audio_pretraining_feats', 'data': '/kaggle/input/wav2vec-u-cv-swedish-audio/precompute_pca512_cls128_mean_pooled/', 'text_data': '/kaggle/input/wav2vec-u-cv-swedish-text-prep/preppedtext/phones/', 'max_length': None, 'labels': 'phn', 'unfiltered': False, 'ctc_eval': False, 'sort_by_length': False, 'shuffle': True, 'append_eos': False, 'uppercase': False, 'skipwords': '', 'kenlm_path': '/kaggle/input/wav2vec-u-cv-swedish-text-prep/preppedtext/phones/lm.phones.filtered.04.bin', 'vocab_usage_power': 2.0, 'word_decoder_config': None, 'word_kenlm_path': None, 'decoding_config': {'_name': None, 'kenlm_path': None, 'lm_weight': 0.0, 'blank_weight': 0.0}}, 'criterion': {'_name': 'model', 'loss_weights': {}, 'log_keys': ['accuracy_dense', 'accuracy_token', 'temp', 'code_ppl']}, 'optimizer': {'_name': 'composite', 'groups': {'generator': {'lr': [0.0004], 'lr_float': None, 'optimizer': {'_name': 'adam', 'adam_betas': [0.5, 0.98], 'adam_eps': 1e-06, 'weight_decay': 0, 'amsgrad': False}, 'lr_scheduler': {'_name': 'fixed', 'warmup_updates': 0}}, 'discriminator': {'lr': [0.0005], 'lr_float': None, 'optimizer': {'_name': 'adam', 'adam_betas': [0.5, 0.98], 'adam_eps': 1e-06, 'weight_decay': 0.0001, 'amsgrad': False}, 'lr_scheduler': {'_name': 'fixed', 'warmup_updates': 0}}}}, 'lr_scheduler': {'_name': 'pass_through'}, 'scoring': None, 'bpe': None, 'tokenizer': None, 'job_logging_cfg': {'version': 1, 'formatters': {'simple': {'format': '[%(asctime)s][%(name)s][%(levelname)s] - %(message)s'}}, 'handlers': {'console': {'class': 'logging.StreamHandler', 'formatter': 'simple', 'stream': 'ext://sys.stdout'}, 'file': {'class': 'logging.FileHandler', 'formatter': 'simple', 'filename': 'hydra_train.log'}}, 'root': {'level': 'INFO', 'handlers': ['console', 'file']}, 'disable_existing_loggers': False}}\r\n"
     ]
    },
    {
     "name": "stdout",
     "output_type": "stream",
     "text": [
      "[2021-06-06 21:28:07,537][fairseq_cli.train][INFO] - Wav2vec_U(\r\n",
      "  (discriminator): Discriminator(\r\n",
      "    (net): Sequential(\r\n",
      "      (0): Conv1d(45, 384, kernel_size=(6,), stride=(1,), padding=(5,))\r\n",
      "      (1): SamePad()\r\n",
      "      (2): Dropout(p=0.0, inplace=False)\r\n",
      "      (3): Sequential(\r\n",
      "        (0): Conv1d(384, 384, kernel_size=(6,), stride=(1,), padding=(5,))\r\n",
      "        (1): SamePad()\r\n",
      "        (2): Dropout(p=0.0, inplace=False)\r\n",
      "        (3): GELU()\r\n",
      "      )\r\n",
      "      (4): Conv1d(384, 1, kernel_size=(6,), stride=(1,), padding=(5,))\r\n",
      "      (5): SamePad()\r\n",
      "    )\r\n",
      "  )\r\n",
      "  (segmenter): JoinSegmenter()\r\n",
      "  (generator): Generator(\r\n",
      "    (dropout): Dropout(p=0.1, inplace=False)\r\n",
      "    (proj): Sequential(\r\n",
      "      (0): TransposeLast()\r\n",
      "      (1): Conv1d(512, 45, kernel_size=(4,), stride=(1,), padding=(2,), bias=False)\r\n",
      "      (2): TransposeLast()\r\n",
      "    )\r\n",
      "  )\r\n",
      ")\r\n",
      "[2021-06-06 21:28:07,537][fairseq_cli.train][INFO] - task: UnpairedAudioText\r\n",
      "[2021-06-06 21:28:07,537][fairseq_cli.train][INFO] - model: Wav2vec_U\r\n",
      "[2021-06-06 21:28:07,538][fairseq_cli.train][INFO] - criterion: ModelCriterion\r\n",
      "[2021-06-06 21:28:07,538][fairseq_cli.train][INFO] - num. shared model params: 1,083,649 (num. trained: 1,083,649)\r\n",
      "[2021-06-06 21:28:07,539][fairseq_cli.train][INFO] - num. expert model params: 0 (num. trained: 0)\r\n"
     ]
    },
    {
     "name": "stdout",
     "output_type": "stream",
     "text": [
      "[2021-06-06 21:28:07,624][fairseq.data.extracted_features_dataset][INFO] - loaded 2019, skipped 0 samples\r\n",
      "[2021-06-06 21:28:07,624][fairseq.tasks.unpaired_audio_text][INFO] - split valid has unpaired text? False\r\n",
      "[2021-06-06 21:28:07,633][fairseq_cli.train][INFO] - training on 1 devices (GPUs/TPUs)\r\n",
      "[2021-06-06 21:28:07,634][fairseq_cli.train][INFO] - max tokens per device = None and max sentences per device = 160\r\n",
      "[2021-06-06 21:28:07,635][fairseq.trainer][INFO] - Preparing to load checkpoint /kaggle/working/checkpoint_last.pt\r\n"
     ]
    },
    {
     "name": "stdout",
     "output_type": "stream",
     "text": [
      "[2021-06-06 21:28:07,994][fairseq.trainer][INFO] - Loaded checkpoint /kaggle/working/checkpoint_last.pt (epoch 4913 @ 78592 updates)\r\n",
      "[2021-06-06 21:28:07,995][fairseq.trainer][INFO] - loading train data for epoch 4913\r\n"
     ]
    },
    {
     "name": "stdout",
     "output_type": "stream",
     "text": [
      "[2021-06-06 21:28:08,067][fairseq.data.extracted_features_dataset][INFO] - loaded 2331, skipped 0 samples\r\n",
      "[2021-06-06 21:28:08,067][fairseq.tasks.unpaired_audio_text][INFO] - split train has unpaired text? True\r\n",
      "[2021-06-06 21:28:08,095][fairseq.data.data_utils][INFO] - loaded 2,328 examples from: /kaggle/input/wav2vec-u-cv-swedish-text-prep/preppedtext/phones/train\r\n"
     ]
    },
    {
     "name": "stdout",
     "output_type": "stream",
     "text": [
      "[2021-06-06 21:28:09,222][fairseq.trainer][INFO] - begin training epoch 4913\r\n",
      "[2021-06-06 21:28:09,223][fairseq_cli.train][INFO] - Start iterating over samples\r\n"
     ]
    },
    {
     "name": "stdout",
     "output_type": "stream",
     "text": [
      "[2021-06-06 21:29:58,570][train_inner][INFO] - {\"epoch\": 4913, \"update\": 4912.5, \"loss\": \"3.434\", \"ntokens\": \"151\", \"nsentences\": \"151\", \"temp\": \"0.1\", \"code_ppl\": \"8.48\", \"loss_code_pen\": \"0.327\", \"loss_smoothness\": \"2.064\", \"loss_dense_g\": \"3.952\", \"lm_score_sum\": 0.0, \"num_pred_chars\": 0.0, \"loss_grad_pen\": \"0.102\", \"loss_dense_d\": \"0.03\", \"loss_token_d\": \"0.025\", \"wps\": \"10.6\", \"ups\": \"0.07\", \"wpb\": \"151\", \"bsz\": \"151\", \"num_updates\": \"78600\", \"lr_discriminator\": \"0.0005\", \"lr_generator\": \"0.0004\", \"gnorm\": \"29.624\", \"clip\": \"75\", \"train_wall\": \"103\", \"wall\": \"106\"}\r\n"
     ]
    },
    {
     "name": "stdout",
     "output_type": "stream",
     "text": [
      "[2021-06-06 21:31:29,986][fairseq_cli.train][INFO] - begin validation on \"valid\" subset\r\n"
     ]
    },
    {
     "name": "stdout",
     "output_type": "stream",
     "text": [
      "[2021-06-06 21:31:33,706][fairseq.tasks.unpaired_audio_text][INFO] - REF: ɛ n f œ ʂ ə n a d ɵ ʂ ə k t f øː r d eː t s ɔ m h ɛ n d ə p oː ɕ œ r k ɔ n s ɛ t ə n\r\n",
      "[2021-06-06 21:31:33,709][fairseq.tasks.unpaired_audio_text][INFO] - HYP: t ɛ s j œ f œ b j uː œ j yː k ɵ uː ɵ øː yː m b n ə m ɔ k b ə uː s eː r n v oː s l ɪ ŋ k l ɪ l a s ɔ m k n t a\r\n",
      "[2021-06-06 21:31:33,713][fairseq.tasks.unpaired_audio_text][INFO] - LM [REF]: -53.44462585449219, 0.05339602260269112\r\n",
      "[2021-06-06 21:31:33,714][fairseq.tasks.unpaired_audio_text][INFO] - LM [HYP]: -92.73802185058594, 0.01646555988825515\r\n"
     ]
    },
    {
     "name": "stdout",
     "output_type": "stream",
     "text": [
      "[2021-06-06 21:31:34,213][valid][INFO] - {\"epoch\": 4913, \"valid_loss\": \"1.005\", \"valid_ntokens\": \"3039.79\", \"valid_nsentences\": \"144.214\", \"valid_lm_score_sum\": \"-89871\", \"valid_num_pred_chars\": \"48413\", \"valid_vocab_seen_pct\": \"0.890244\", \"valid_uer\": \"100.491\", \"valid_weighted_lm_ppl\": \"76.3844\", \"valid_lm_ppl\": \"60.5373\", \"valid_wps\": \"15603.6\", \"valid_wpb\": \"3039.8\", \"valid_bsz\": \"144.2\", \"valid_num_updates\": \"78608\", \"valid_best_weighted_lm_ppl\": \"73.4256\"}\r\n",
      "[2021-06-06 21:31:34,216][fairseq.checkpoint_utils][INFO] - Preparing to save checkpoint for epoch 4913 @ 78608 updates\r\n",
      "[2021-06-06 21:31:34,218][fairseq.trainer][INFO] - Saving checkpoint to /kaggle/working/checkpoint_last.pt\r\n"
     ]
    },
    {
     "name": "stdout",
     "output_type": "stream",
     "text": [
      "[2021-06-06 21:31:34,266][fairseq.trainer][INFO] - Finished saving checkpoint to /kaggle/working/checkpoint_last.pt\r\n",
      "[2021-06-06 21:31:34,266][fairseq.checkpoint_utils][INFO] - Saved checkpoint /kaggle/working/checkpoint_last.pt (epoch 4913 @ 78608 updates, score 76.38441044664755) (writing took 0.04988598600016303 seconds)\r\n",
      "[2021-06-06 21:31:34,267][fairseq_cli.train][INFO] - end of epoch 4913 (average epoch stats below)\r\n",
      "[2021-06-06 21:31:34,272][train][INFO] - {\"epoch\": 4913, \"train_loss\": \"3.658\", \"train_ntokens\": \"145.688\", \"train_nsentences\": \"145.688\", \"train_temp\": \"0.1\", \"train_code_ppl\": \"8.979\", \"train_loss_code_pen\": \"0.323\", \"train_loss_smoothness\": \"2.06\", \"train_loss_dense_g\": \"4.046\", \"train_lm_score_sum\": 0.0, \"train_num_pred_chars\": 0.0, \"train_loss_grad_pen\": \"0.228\", \"train_loss_dense_d\": \"0.027\", \"train_loss_token_d\": \"0.028\", \"train_wps\": \"10.8\", \"train_ups\": \"0.07\", \"train_wpb\": \"145.7\", \"train_bsz\": \"145.7\", \"train_num_updates\": \"78608\", \"train_lr_discriminator\": \"0.0005\", \"train_lr_generator\": \"0.0004\", \"train_gnorm\": \"71.842\", \"train_clip\": \"75\", \"train_train_wall\": \"195\", \"train_wall\": \"207\"}\r\n"
     ]
    },
    {
     "name": "stdout",
     "output_type": "stream",
     "text": [
      "[2021-06-06 21:31:34,321][fairseq.trainer][INFO] - begin training epoch 4914\r\n",
      "[2021-06-06 21:31:34,322][fairseq_cli.train][INFO] - Start iterating over samples\r\n"
     ]
    },
    {
     "name": "stdout",
     "output_type": "stream",
     "text": [
      "[2021-06-06 21:35:20,000][fairseq_cli.train][INFO] - begin validation on \"valid\" subset\r\n"
     ]
    },
    {
     "name": "stdout",
     "output_type": "stream",
     "text": [
      "[2021-06-06 21:35:22,688][fairseq.tasks.unpaired_audio_text][INFO] - REF: ɛ n f œ ʂ ə n a d ɵ ʂ ə k t f øː r d eː t s ɔ m h ɛ n d ə p oː ɕ œ r k ɔ n s ɛ t ə n\r\n",
      "[2021-06-06 21:35:22,690][fairseq.tasks.unpaired_audio_text][INFO] - HYP: t ɛ s j œ f œ b j uː œ j k ɵ uː ɵ v m b n ə m œ k b ə uː s eː r n v oː s l ɪ ŋ k l ɪ l a s ɔ m t n t a\r\n"
     ]
    },
    {
     "name": "stdout",
     "output_type": "stream",
     "text": [
      "[2021-06-06 21:35:22,696][fairseq.tasks.unpaired_audio_text][INFO] - LM [REF]: -53.44462585449219, 0.05339602260269112\r\n",
      "[2021-06-06 21:35:22,696][fairseq.tasks.unpaired_audio_text][INFO] - LM [HYP]: -91.2719497680664, 0.014947239890654268\r\n"
     ]
    },
    {
     "name": "stdout",
     "output_type": "stream",
     "text": [
      "[2021-06-06 21:35:23,197][valid][INFO] - {\"epoch\": 4914, \"valid_loss\": \"1.004\", \"valid_ntokens\": \"3039.79\", \"valid_nsentences\": \"144.214\", \"valid_lm_score_sum\": \"-89801.1\", \"valid_num_pred_chars\": \"48354\", \"valid_vocab_seen_pct\": \"0.890244\", \"valid_uer\": \"100.397\", \"valid_weighted_lm_ppl\": \"76.5076\", \"valid_lm_ppl\": \"60.6349\", \"valid_wps\": \"18600.2\", \"valid_wpb\": \"3039.8\", \"valid_bsz\": \"144.2\", \"valid_num_updates\": \"78624\", \"valid_best_weighted_lm_ppl\": \"73.4256\"}\r\n",
      "[2021-06-06 21:35:23,200][fairseq.checkpoint_utils][INFO] - Preparing to save checkpoint for epoch 4914 @ 78624 updates\r\n",
      "[2021-06-06 21:35:23,201][fairseq.trainer][INFO] - Saving checkpoint to /kaggle/working/checkpoint_last.pt\r\n"
     ]
    },
    {
     "name": "stdout",
     "output_type": "stream",
     "text": [
      "[2021-06-06 21:35:23,250][fairseq.trainer][INFO] - Finished saving checkpoint to /kaggle/working/checkpoint_last.pt\r\n",
      "[2021-06-06 21:35:23,250][fairseq.checkpoint_utils][INFO] - Saved checkpoint /kaggle/working/checkpoint_last.pt (epoch 4914 @ 78624 updates, score 76.50764884815243) (writing took 0.050408923000077266 seconds)\r\n",
      "[2021-06-06 21:35:23,250][fairseq_cli.train][INFO] - end of epoch 4914 (average epoch stats below)\r\n",
      "[2021-06-06 21:35:23,253][train][INFO] - {\"epoch\": 4914, \"train_loss\": \"2.941\", \"train_ntokens\": \"145.688\", \"train_nsentences\": \"145.688\", \"train_temp\": \"0.1\", \"train_code_ppl\": \"9.146\", \"train_loss_code_pen\": \"0.327\", \"train_loss_smoothness\": \"2.049\", \"train_loss_dense_g\": \"3.975\", \"train_lm_score_sum\": 0.0, \"train_num_pred_chars\": 0.0, \"train_loss_grad_pen\": \"0.084\", \"train_loss_dense_d\": \"0.029\", \"train_loss_token_d\": \"0.027\", \"train_wps\": \"10.2\", \"train_ups\": \"0.07\", \"train_wpb\": \"145.7\", \"train_bsz\": \"145.7\", \"train_num_updates\": \"78624\", \"train_lr_discriminator\": \"0.0005\", \"train_lr_generator\": \"0.0004\", \"train_gnorm\": \"28.984\", \"train_clip\": \"68.8\", \"train_train_wall\": \"225\", \"train_wall\": \"436\"}\r\n"
     ]
    },
    {
     "name": "stdout",
     "output_type": "stream",
     "text": [
      "[2021-06-06 21:35:23,306][fairseq.trainer][INFO] - begin training epoch 4915\r\n",
      "[2021-06-06 21:35:23,307][fairseq_cli.train][INFO] - Start iterating over samples\r\n"
     ]
    },
    {
     "name": "stdout",
     "output_type": "stream",
     "text": [
      "[2021-06-06 21:38:56,688][fairseq_cli.train][INFO] - begin validation on \"valid\" subset\r\n"
     ]
    },
    {
     "name": "stdout",
     "output_type": "stream",
     "text": [
      "[2021-06-06 21:38:59,028][fairseq.tasks.unpaired_audio_text][INFO] - REF: ɛ n f œ ʂ ə n a d ɵ ʂ ə k t f øː r d eː t s ɔ m h ɛ n d ə p oː ɕ œ r k ɔ n s ɛ t ə n\r\n",
      "[2021-06-06 21:38:59,030][fairseq.tasks.unpaired_audio_text][INFO] - HYP: t ɛ s j œ f œ j b j uː œ j k ɵ uː ɵ v b n ə m ɔ k b ə uː s eː r n v oː s l ɪ ŋ k l ɪ l a s ɔ m t l t a\r\n",
      "[2021-06-06 21:38:59,034][fairseq.tasks.unpaired_audio_text][INFO] - LM [REF]: -53.44462585449219, 0.05339602260269112\r\n",
      "[2021-06-06 21:38:59,034][fairseq.tasks.unpaired_audio_text][INFO] - LM [HYP]: -88.7193374633789, 0.01681176267960918\r\n"
     ]
    },
    {
     "name": "stdout",
     "output_type": "stream",
     "text": [
      "[2021-06-06 21:38:59,523][valid][INFO] - {\"epoch\": 4915, \"valid_loss\": \"1.004\", \"valid_ntokens\": \"3039.79\", \"valid_nsentences\": \"144.214\", \"valid_lm_score_sum\": \"-89718\", \"valid_num_pred_chars\": \"48387\", \"valid_vocab_seen_pct\": \"0.893728\", \"valid_uer\": \"100.374\", \"valid_weighted_lm_ppl\": \"75.4218\", \"valid_lm_ppl\": \"60.2431\", \"valid_wps\": \"19183.9\", \"valid_wpb\": \"3039.8\", \"valid_bsz\": \"144.2\", \"valid_num_updates\": \"78640\", \"valid_best_weighted_lm_ppl\": \"73.4256\"}\r\n",
      "[2021-06-06 21:38:59,526][fairseq.checkpoint_utils][INFO] - Preparing to save checkpoint for epoch 4915 @ 78640 updates\r\n",
      "[2021-06-06 21:38:59,527][fairseq.trainer][INFO] - Saving checkpoint to /kaggle/working/checkpoint_last.pt\r\n"
     ]
    },
    {
     "name": "stdout",
     "output_type": "stream",
     "text": [
      "[2021-06-06 21:38:59,570][fairseq.trainer][INFO] - Finished saving checkpoint to /kaggle/working/checkpoint_last.pt\r\n",
      "[2021-06-06 21:38:59,570][fairseq.checkpoint_utils][INFO] - Saved checkpoint /kaggle/working/checkpoint_last.pt (epoch 4915 @ 78640 updates, score 75.42176187179619) (writing took 0.044788955000058195 seconds)\r\n",
      "[2021-06-06 21:38:59,571][fairseq_cli.train][INFO] - end of epoch 4915 (average epoch stats below)\r\n",
      "[2021-06-06 21:38:59,573][train][INFO] - {\"epoch\": 4915, \"train_loss\": \"3.245\", \"train_ntokens\": \"145.688\", \"train_nsentences\": \"145.688\", \"train_temp\": \"0.1\", \"train_code_ppl\": \"8.889\", \"train_loss_code_pen\": \"0.329\", \"train_loss_smoothness\": \"2.057\", \"train_loss_dense_g\": \"4.214\", \"train_lm_score_sum\": 0.0, \"train_num_pred_chars\": 0.0, \"train_loss_grad_pen\": \"0.071\", \"train_loss_dense_d\": \"0.026\", \"train_loss_token_d\": \"0.028\", \"train_wps\": \"10.8\", \"train_ups\": \"0.07\", \"train_wpb\": \"145.7\", \"train_bsz\": \"145.7\", \"train_num_updates\": \"78640\", \"train_lr_discriminator\": \"0.0005\", \"train_lr_generator\": \"0.0004\", \"train_gnorm\": \"28.675\", \"train_clip\": \"62.5\", \"train_train_wall\": \"213\", \"train_wall\": \"652\"}\r\n"
     ]
    },
    {
     "name": "stdout",
     "output_type": "stream",
     "text": [
      "[2021-06-06 21:38:59,627][fairseq.trainer][INFO] - begin training epoch 4916\r\n",
      "[2021-06-06 21:38:59,628][fairseq_cli.train][INFO] - Start iterating over samples\r\n"
     ]
    },
    {
     "name": "stdout",
     "output_type": "stream",
     "text": [
      "[2021-06-06 21:42:37,735][fairseq_cli.train][INFO] - begin validation on \"valid\" subset\r\n"
     ]
    },
    {
     "name": "stdout",
     "output_type": "stream",
     "text": [
      "[2021-06-06 21:42:40,051][fairseq.tasks.unpaired_audio_text][INFO] - REF: ɛ n f œ ʂ ə n a d ɵ ʂ ə k t f øː r d eː t s ɔ m h ɛ n d ə p oː ɕ œ r k ɔ n s ɛ t ə n\r\n",
      "[2021-06-06 21:42:40,053][fairseq.tasks.unpaired_audio_text][INFO] - HYP: n s ɛ s j œ f œ j b j uː œ yː k ɵ uː ɵ v yː b n ə m ɔ k b ə uː s eː r n v oː n l ɪ ŋ k l ɪ l a s ɔ m k n t a\r\n",
      "[2021-06-06 21:42:40,058][fairseq.tasks.unpaired_audio_text][INFO] - LM [REF]: -53.44462585449219, 0.05339602260269112\r\n",
      "[2021-06-06 21:42:40,058][fairseq.tasks.unpaired_audio_text][INFO] - LM [HYP]: -93.7752456665039, 0.01572642076017815\r\n"
     ]
    },
    {
     "name": "stdout",
     "output_type": "stream",
     "text": [
      "[2021-06-06 21:42:40,546][valid][INFO] - {\"epoch\": 4916, \"valid_loss\": \"1.004\", \"valid_ntokens\": \"3039.79\", \"valid_nsentences\": \"144.214\", \"valid_lm_score_sum\": \"-89805.3\", \"valid_num_pred_chars\": \"48534\", \"valid_vocab_seen_pct\": \"0.890244\", \"valid_uer\": \"100.437\", \"valid_weighted_lm_ppl\": \"75.4121\", \"valid_lm_ppl\": \"59.7667\", \"valid_wps\": \"19533.3\", \"valid_wpb\": \"3039.8\", \"valid_bsz\": \"144.2\", \"valid_num_updates\": \"78656\", \"valid_best_weighted_lm_ppl\": \"73.4256\"}\r\n",
      "[2021-06-06 21:42:40,549][fairseq.checkpoint_utils][INFO] - Preparing to save checkpoint for epoch 4916 @ 78656 updates\r\n",
      "[2021-06-06 21:42:40,550][fairseq.trainer][INFO] - Saving checkpoint to /kaggle/working/checkpoint_last.pt\r\n"
     ]
    },
    {
     "name": "stdout",
     "output_type": "stream",
     "text": [
      "[2021-06-06 21:42:40,595][fairseq.trainer][INFO] - Finished saving checkpoint to /kaggle/working/checkpoint_last.pt\r\n",
      "[2021-06-06 21:42:40,595][fairseq.checkpoint_utils][INFO] - Saved checkpoint /kaggle/working/checkpoint_last.pt (epoch 4916 @ 78656 updates, score 75.41211409176852) (writing took 0.0459882899999684 seconds)\r\n",
      "[2021-06-06 21:42:40,596][fairseq_cli.train][INFO] - end of epoch 4916 (average epoch stats below)\r\n",
      "[2021-06-06 21:42:40,599][train][INFO] - {\"epoch\": 4916, \"train_loss\": \"2.972\", \"train_ntokens\": \"145.688\", \"train_nsentences\": \"145.688\", \"train_temp\": \"0.1\", \"train_code_ppl\": \"8.685\", \"train_loss_code_pen\": \"0.327\", \"train_loss_smoothness\": \"2.028\", \"train_loss_dense_g\": \"4.107\", \"train_lm_score_sum\": 0.0, \"train_num_pred_chars\": 0.0, \"train_loss_grad_pen\": \"0.057\", \"train_loss_dense_d\": \"0.027\", \"train_loss_token_d\": \"0.022\", \"train_wps\": \"10.5\", \"train_ups\": \"0.07\", \"train_wpb\": \"145.7\", \"train_bsz\": \"145.7\", \"train_num_updates\": \"78656\", \"train_lr_discriminator\": \"0.0005\", \"train_lr_generator\": \"0.0004\", \"train_gnorm\": \"28.273\", \"train_clip\": \"68.8\", \"train_train_wall\": \"218\", \"train_wall\": \"873\"}\r\n"
     ]
    },
    {
     "name": "stdout",
     "output_type": "stream",
     "text": [
      "[2021-06-06 21:42:40,651][fairseq.trainer][INFO] - begin training epoch 4917\r\n",
      "[2021-06-06 21:42:40,652][fairseq_cli.train][INFO] - Start iterating over samples\r\n"
     ]
    },
    {
     "name": "stdout",
     "output_type": "stream",
     "text": [
      "[2021-06-06 21:46:18,844][fairseq_cli.train][INFO] - begin validation on \"valid\" subset\r\n"
     ]
    },
    {
     "name": "stdout",
     "output_type": "stream",
     "text": [
      "[2021-06-06 21:46:21,440][fairseq.tasks.unpaired_audio_text][INFO] - REF: ɛ n f œ ʂ ə n a d ɵ ʂ ə k t f øː r d eː t s ɔ m h ɛ n d ə p oː ɕ œ r k ɔ n s ɛ t ə n\r\n",
      "[2021-06-06 21:46:21,442][fairseq.tasks.unpaired_audio_text][INFO] - HYP: t s ɛ s j œ f œ j b j uː œ yː k ɵ uː ɵ øː b n ə m ɔ k b ə uː s eː r n v oː n l ɪ ŋ k l ɪ l a s ɔ m k n t a\r\n",
      "[2021-06-06 21:46:21,446][fairseq.tasks.unpaired_audio_text][INFO] - LM [REF]: -53.44462585449219, 0.05339602260269112\r\n",
      "[2021-06-06 21:46:21,446][fairseq.tasks.unpaired_audio_text][INFO] - LM [HYP]: -91.58517456054688, 0.01600340011384652\r\n"
     ]
    },
    {
     "name": "stdout",
     "output_type": "stream",
     "text": [
      "[2021-06-06 21:46:21,941][valid][INFO] - {\"epoch\": 4917, \"valid_loss\": \"1.005\", \"valid_ntokens\": \"3039.79\", \"valid_nsentences\": \"144.214\", \"valid_lm_score_sum\": \"-89706.2\", \"valid_num_pred_chars\": \"48548\", \"valid_vocab_seen_pct\": \"0.893728\", \"valid_uer\": \"100.484\", \"valid_weighted_lm_ppl\": \"74.4038\", \"valid_lm_ppl\": \"59.4301\", \"valid_wps\": \"19374.7\", \"valid_wpb\": \"3039.8\", \"valid_bsz\": \"144.2\", \"valid_num_updates\": \"78672\", \"valid_best_weighted_lm_ppl\": \"73.4256\"}\r\n",
      "[2021-06-06 21:46:21,943][fairseq.checkpoint_utils][INFO] - Preparing to save checkpoint for epoch 4917 @ 78672 updates\r\n",
      "[2021-06-06 21:46:21,945][fairseq.trainer][INFO] - Saving checkpoint to /kaggle/working/checkpoint_last.pt\r\n"
     ]
    },
    {
     "name": "stdout",
     "output_type": "stream",
     "text": [
      "[2021-06-06 21:46:21,990][fairseq.trainer][INFO] - Finished saving checkpoint to /kaggle/working/checkpoint_last.pt\r\n",
      "[2021-06-06 21:46:21,991][fairseq.checkpoint_utils][INFO] - Saved checkpoint /kaggle/working/checkpoint_last.pt (epoch 4917 @ 78672 updates, score 74.4038324081407) (writing took 0.04711874899999202 seconds)\r\n",
      "[2021-06-06 21:46:21,991][fairseq_cli.train][INFO] - end of epoch 4917 (average epoch stats below)\r\n",
      "[2021-06-06 21:46:21,994][train][INFO] - {\"epoch\": 4917, \"train_loss\": \"2.974\", \"train_ntokens\": \"145.688\", \"train_nsentences\": \"145.688\", \"train_temp\": \"0.1\", \"train_code_ppl\": \"8.937\", \"train_loss_code_pen\": \"0.345\", \"train_loss_smoothness\": \"2.089\", \"train_loss_dense_g\": \"4.031\", \"train_lm_score_sum\": 0.0, \"train_num_pred_chars\": 0.0, \"train_loss_grad_pen\": \"0.062\", \"train_loss_dense_d\": \"0.023\", \"train_loss_token_d\": \"0.023\", \"train_wps\": \"10.5\", \"train_ups\": \"0.07\", \"train_wpb\": \"145.7\", \"train_bsz\": \"145.7\", \"train_num_updates\": \"78672\", \"train_lr_discriminator\": \"0.0005\", \"train_lr_generator\": \"0.0004\", \"train_gnorm\": \"28.952\", \"train_clip\": \"81.2\", \"train_train_wall\": \"218\", \"train_wall\": \"1094\"}\r\n"
     ]
    },
    {
     "name": "stdout",
     "output_type": "stream",
     "text": [
      "[2021-06-06 21:46:22,050][fairseq.trainer][INFO] - begin training epoch 4918\r\n",
      "[2021-06-06 21:46:22,051][fairseq_cli.train][INFO] - Start iterating over samples\r\n"
     ]
    },
    {
     "name": "stdout",
     "output_type": "stream",
     "text": [
      "[2021-06-06 21:49:51,077][fairseq_cli.train][INFO] - begin validation on \"valid\" subset\r\n"
     ]
    },
    {
     "name": "stdout",
     "output_type": "stream",
     "text": [
      "[2021-06-06 21:49:53,390][fairseq.tasks.unpaired_audio_text][INFO] - REF: ɛ n f œ ʂ ə n a d ɵ ʂ ə k t f øː r d eː t s ɔ m h ɛ n d ə p oː ɕ œ r k ɔ n s ɛ t ə n\r\n",
      "[2021-06-06 21:49:53,393][fairseq.tasks.unpaired_audio_text][INFO] - HYP: t s ɛ s j œ f œ j œ b j uː œ j k ɵ uː ɵ v m b n ə m ɔ k b ə uː s eː r n v oː n l ɪ ŋ k l ɪ l a s ɔ m t n t a\r\n",
      "[2021-06-06 21:49:53,397][fairseq.tasks.unpaired_audio_text][INFO] - LM [REF]: -53.44462585449219, 0.05339602260269112\r\n",
      "[2021-06-06 21:49:53,397][fairseq.tasks.unpaired_audio_text][INFO] - LM [HYP]: -95.41268157958984, 0.015840202340803588\r\n"
     ]
    },
    {
     "name": "stdout",
     "output_type": "stream",
     "text": [
      "[2021-06-06 21:49:53,897][valid][INFO] - {\"epoch\": 4918, \"valid_loss\": \"1.006\", \"valid_ntokens\": \"3039.79\", \"valid_nsentences\": \"144.214\", \"valid_lm_score_sum\": \"-89803.2\", \"valid_num_pred_chars\": \"48522\", \"valid_vocab_seen_pct\": \"0.888502\", \"valid_uer\": \"100.552\", \"valid_weighted_lm_ppl\": \"75.7742\", \"valid_lm_ppl\": \"59.8188\", \"valid_wps\": \"19054.8\", \"valid_wpb\": \"3039.8\", \"valid_bsz\": \"144.2\", \"valid_num_updates\": \"78688\", \"valid_best_weighted_lm_ppl\": \"73.4256\"}\r\n",
      "[2021-06-06 21:49:53,900][fairseq.checkpoint_utils][INFO] - Preparing to save checkpoint for epoch 4918 @ 78688 updates\r\n",
      "[2021-06-06 21:49:53,901][fairseq.trainer][INFO] - Saving checkpoint to /kaggle/working/checkpoint_last.pt\r\n"
     ]
    },
    {
     "name": "stdout",
     "output_type": "stream",
     "text": [
      "[2021-06-06 21:49:53,947][fairseq.trainer][INFO] - Finished saving checkpoint to /kaggle/working/checkpoint_last.pt\r\n",
      "[2021-06-06 21:49:53,947][fairseq.checkpoint_utils][INFO] - Saved checkpoint /kaggle/working/checkpoint_last.pt (epoch 4918 @ 78688 updates, score 75.77418858578645) (writing took 0.04708691899986661 seconds)\r\n",
      "[2021-06-06 21:49:53,948][fairseq_cli.train][INFO] - end of epoch 4918 (average epoch stats below)\r\n",
      "[2021-06-06 21:49:53,951][train][INFO] - {\"epoch\": 4918, \"train_loss\": \"3.076\", \"train_ntokens\": \"145.688\", \"train_nsentences\": \"145.688\", \"train_temp\": \"0.1\", \"train_code_ppl\": \"8.857\", \"train_loss_code_pen\": \"0.327\", \"train_loss_smoothness\": \"2.053\", \"train_loss_dense_g\": \"4.31\", \"train_lm_score_sum\": 0.0, \"train_num_pred_chars\": 0.0, \"train_loss_grad_pen\": \"0.061\", \"train_loss_dense_d\": \"0.024\", \"train_loss_token_d\": \"0.024\", \"train_wps\": \"11\", \"train_ups\": \"0.08\", \"train_wpb\": \"145.7\", \"train_bsz\": \"145.7\", \"train_num_updates\": \"78688\", \"train_lr_discriminator\": \"0.0005\", \"train_lr_generator\": \"0.0004\", \"train_gnorm\": \"28.41\", \"train_clip\": \"68.8\", \"train_train_wall\": \"209\", \"train_wall\": \"1306\"}\r\n"
     ]
    },
    {
     "name": "stdout",
     "output_type": "stream",
     "text": [
      "[2021-06-06 21:49:54,005][fairseq.trainer][INFO] - begin training epoch 4919\r\n",
      "[2021-06-06 21:49:54,006][fairseq_cli.train][INFO] - Start iterating over samples\r\n"
     ]
    },
    {
     "name": "stdout",
     "output_type": "stream",
     "text": [
      "[2021-06-06 21:52:34,825][train_inner][INFO] - {\"epoch\": 4919, \"update\": 4918.75, \"loss\": \"3.129\", \"ntokens\": \"146.26\", \"nsentences\": \"146.26\", \"temp\": \"0.1\", \"code_ppl\": \"8.896\", \"loss_code_pen\": \"0.327\", \"loss_smoothness\": \"2.047\", \"loss_dense_g\": \"4.143\", \"lm_score_sum\": 0.0, \"num_pred_chars\": 0.0, \"loss_grad_pen\": \"0.09\", \"loss_dense_d\": \"0.025\", \"loss_token_d\": \"0.025\", \"wps\": \"10.8\", \"ups\": \"0.07\", \"wpb\": \"146.3\", \"bsz\": \"146.3\", \"num_updates\": \"78700\", \"lr_discriminator\": \"0.0005\", \"lr_generator\": \"0.0004\", \"gnorm\": \"35.531\", \"clip\": \"70\", \"train_wall\": \"1334\", \"wall\": \"1467\"}\r\n"
     ]
    },
    {
     "name": "stdout",
     "output_type": "stream",
     "text": [
      "[2021-06-06 21:53:26,201][fairseq_cli.train][INFO] - begin validation on \"valid\" subset\r\n"
     ]
    },
    {
     "name": "stdout",
     "output_type": "stream",
     "text": [
      "[2021-06-06 21:53:28,542][fairseq.tasks.unpaired_audio_text][INFO] - REF: ɛ n f œ ʂ ə n a d ɵ ʂ ə k t f øː r d eː t s ɔ m h ɛ n d ə p oː ɕ œ r k ɔ n s ɛ t ə n\r\n",
      "[2021-06-06 21:53:28,544][fairseq.tasks.unpaired_audio_text][INFO] - HYP: t s ɛ s j œ f œ j b j uː œ k ɵ uː ɵ v n ə m ɔ k b ə uː s eː r n b oː n l ɪ ŋ k l ɪ l a s ɔ m t l t a\r\n"
     ]
    },
    {
     "name": "stdout",
     "output_type": "stream",
     "text": [
      "[2021-06-06 21:53:28,549][fairseq.tasks.unpaired_audio_text][INFO] - LM [REF]: -53.44462585449219, 0.05339602260269112\r\n",
      "[2021-06-06 21:53:28,549][fairseq.tasks.unpaired_audio_text][INFO] - LM [HYP]: -87.77468872070312, 0.01616887568743615\r\n"
     ]
    },
    {
     "name": "stdout",
     "output_type": "stream",
     "text": [
      "[2021-06-06 21:53:29,029][valid][INFO] - {\"epoch\": 4919, \"valid_loss\": \"1.004\", \"valid_ntokens\": \"3039.79\", \"valid_nsentences\": \"144.214\", \"valid_lm_score_sum\": \"-89678.9\", \"valid_num_pred_chars\": \"48426\", \"valid_vocab_seen_pct\": \"0.888502\", \"valid_uer\": \"100.385\", \"valid_weighted_lm_ppl\": \"75.9345\", \"valid_lm_ppl\": \"59.9454\", \"valid_wps\": \"19160.7\", \"valid_wpb\": \"3039.8\", \"valid_bsz\": \"144.2\", \"valid_num_updates\": \"78704\", \"valid_best_weighted_lm_ppl\": \"73.4256\"}\r\n",
      "[2021-06-06 21:53:29,032][fairseq.checkpoint_utils][INFO] - Preparing to save checkpoint for epoch 4919 @ 78704 updates\r\n",
      "[2021-06-06 21:53:29,033][fairseq.trainer][INFO] - Saving checkpoint to /kaggle/working/checkpoint_last.pt\r\n"
     ]
    },
    {
     "name": "stdout",
     "output_type": "stream",
     "text": [
      "[2021-06-06 21:53:29,078][fairseq.trainer][INFO] - Finished saving checkpoint to /kaggle/working/checkpoint_last.pt\r\n",
      "[2021-06-06 21:53:29,078][fairseq.checkpoint_utils][INFO] - Saved checkpoint /kaggle/working/checkpoint_last.pt (epoch 4919 @ 78704 updates, score 75.93452259428493) (writing took 0.045800664000125835 seconds)\r\n",
      "[2021-06-06 21:53:29,079][fairseq_cli.train][INFO] - end of epoch 4919 (average epoch stats below)\r\n",
      "[2021-06-06 21:53:29,081][train][INFO] - {\"epoch\": 4919, \"train_loss\": \"2.987\", \"train_ntokens\": \"145.688\", \"train_nsentences\": \"145.688\", \"train_temp\": \"0.1\", \"train_code_ppl\": \"8.713\", \"train_loss_code_pen\": \"0.305\", \"train_loss_smoothness\": \"1.977\", \"train_loss_dense_g\": \"4.167\", \"train_lm_score_sum\": 0.0, \"train_num_pred_chars\": 0.0, \"train_loss_grad_pen\": \"0.099\", \"train_loss_dense_d\": \"0.025\", \"train_loss_token_d\": \"0.022\", \"train_wps\": \"10.8\", \"train_ups\": \"0.07\", \"train_wpb\": \"145.7\", \"train_bsz\": \"145.7\", \"train_num_updates\": \"78704\", \"train_lr_discriminator\": \"0.0005\", \"train_lr_generator\": \"0.0004\", \"train_gnorm\": \"29.278\", \"train_clip\": \"68.8\", \"train_train_wall\": \"212\", \"train_wall\": \"1521\"}\r\n"
     ]
    },
    {
     "name": "stdout",
     "output_type": "stream",
     "text": [
      "[2021-06-06 21:53:29,135][fairseq.trainer][INFO] - begin training epoch 4920\r\n",
      "[2021-06-06 21:53:29,136][fairseq_cli.train][INFO] - Start iterating over samples\r\n"
     ]
    },
    {
     "name": "stdout",
     "output_type": "stream",
     "text": [
      "[2021-06-06 21:56:27,841][fairseq_cli.train][INFO] - begin validation on \"valid\" subset\r\n"
     ]
    },
    {
     "name": "stdout",
     "output_type": "stream",
     "text": [
      "[2021-06-06 21:56:30,224][fairseq.tasks.unpaired_audio_text][INFO] - REF: ɛ n f œ ʂ ə n a d ɵ ʂ ə k t f øː r d eː t s ɔ m h ɛ n d ə p oː ɕ œ r k ɔ n s ɛ t ə n\r\n",
      "[2021-06-06 21:56:30,227][fairseq.tasks.unpaired_audio_text][INFO] - HYP: t s ɛ s j œ f œ j b j uː œ j k ɵ uː ɵ v b n ə m ɔ k b ə uː s eː r n v oː n l ɪ ŋ k l ɪ l a s ɔ m t l t a\r\n",
      "[2021-06-06 21:56:30,231][fairseq.tasks.unpaired_audio_text][INFO] - LM [REF]: -53.44462585449219, 0.05339602260269112\r\n",
      "[2021-06-06 21:56:30,231][fairseq.tasks.unpaired_audio_text][INFO] - LM [HYP]: -91.5590591430664, 0.016022280497179277\r\n"
     ]
    },
    {
     "name": "stdout",
     "output_type": "stream",
     "text": [
      "[2021-06-06 21:56:30,729][valid][INFO] - {\"epoch\": 4920, \"valid_loss\": \"1.005\", \"valid_ntokens\": \"3039.79\", \"valid_nsentences\": \"144.214\", \"valid_lm_score_sum\": \"-89743.7\", \"valid_num_pred_chars\": \"48452\", \"valid_vocab_seen_pct\": \"0.893728\", \"valid_uer\": \"100.491\", \"valid_weighted_lm_ppl\": \"75.1125\", \"valid_lm_ppl\": \"59.9961\", \"valid_wps\": \"18814\", \"valid_wpb\": \"3039.8\", \"valid_bsz\": \"144.2\", \"valid_num_updates\": \"78720\", \"valid_best_weighted_lm_ppl\": \"73.4256\"}\r\n",
      "[2021-06-06 21:56:30,732][fairseq.checkpoint_utils][INFO] - Preparing to save checkpoint for epoch 4920 @ 78720 updates\r\n",
      "[2021-06-06 21:56:30,733][fairseq.trainer][INFO] - Saving checkpoint to /kaggle/working/checkpoint_last.pt\r\n"
     ]
    },
    {
     "name": "stdout",
     "output_type": "stream",
     "text": [
      "[2021-06-06 21:56:30,778][fairseq.trainer][INFO] - Finished saving checkpoint to /kaggle/working/checkpoint_last.pt\r\n",
      "[2021-06-06 21:56:30,778][fairseq.checkpoint_utils][INFO] - Saved checkpoint /kaggle/working/checkpoint_last.pt (epoch 4920 @ 78720 updates, score 75.11252729761186) (writing took 0.04622898500019801 seconds)\r\n",
      "[2021-06-06 21:56:30,779][fairseq_cli.train][INFO] - end of epoch 4920 (average epoch stats below)\r\n",
      "[2021-06-06 21:56:30,783][train][INFO] - {\"epoch\": 4920, \"train_loss\": \"3.709\", \"train_ntokens\": \"145.688\", \"train_nsentences\": \"145.688\", \"train_temp\": \"0.1\", \"train_code_ppl\": \"8.982\", \"train_loss_code_pen\": \"0.329\", \"train_loss_smoothness\": \"2.062\", \"train_loss_dense_g\": \"4.215\", \"train_lm_score_sum\": 0.0, \"train_num_pred_chars\": 0.0, \"train_loss_grad_pen\": \"0.115\", \"train_loss_dense_d\": \"0.028\", \"train_loss_token_d\": \"0.037\", \"train_wps\": \"12.8\", \"train_ups\": \"0.09\", \"train_wpb\": \"145.7\", \"train_bsz\": \"145.7\", \"train_num_updates\": \"78720\", \"train_lr_discriminator\": \"0.0005\", \"train_lr_generator\": \"0.0004\", \"train_gnorm\": \"33.125\", \"train_clip\": \"81.2\", \"train_train_wall\": \"178\", \"train_wall\": \"1703\"}\r\n"
     ]
    },
    {
     "name": "stdout",
     "output_type": "stream",
     "text": [
      "[2021-06-06 21:56:30,839][fairseq.trainer][INFO] - begin training epoch 4921\r\n",
      "[2021-06-06 21:56:30,840][fairseq_cli.train][INFO] - Start iterating over samples\r\n"
     ]
    },
    {
     "name": "stdout",
     "output_type": "stream",
     "text": [
      "[2021-06-06 21:59:41,008][fairseq_cli.train][INFO] - begin validation on \"valid\" subset\r\n"
     ]
    },
    {
     "name": "stdout",
     "output_type": "stream",
     "text": [
      "[2021-06-06 21:59:43,453][fairseq.tasks.unpaired_audio_text][INFO] - REF: ɛ n f œ ʂ ə n a d ɵ ʂ ə k t f øː r d eː t s ɔ m h ɛ n d ə p oː ɕ œ r k ɔ n s ɛ t ə n\r\n",
      "[2021-06-06 21:59:43,456][fairseq.tasks.unpaired_audio_text][INFO] - HYP: t ɛ s j œ f œ j b j œ yː k ɵ uː ɵ øː v m b n ə m ɔ k b uː s eː r n v oː n l ɪ ŋ k l ɪ l a s ɔ m t l t a\r\n",
      "[2021-06-06 21:59:43,460][fairseq.tasks.unpaired_audio_text][INFO] - LM [REF]: -53.44462585449219, 0.05339602260269112\r\n",
      "[2021-06-06 21:59:43,460][fairseq.tasks.unpaired_audio_text][INFO] - LM [HYP]: -88.73797607421875, 0.016797338666679863\r\n"
     ]
    },
    {
     "name": "stdout",
     "output_type": "stream",
     "text": [
      "[2021-06-06 21:59:43,967][valid][INFO] - {\"epoch\": 4921, \"valid_loss\": \"1.004\", \"valid_ntokens\": \"3039.79\", \"valid_nsentences\": \"144.214\", \"valid_lm_score_sum\": \"-89899.4\", \"valid_num_pred_chars\": \"48579\", \"valid_vocab_seen_pct\": \"0.885017\", \"valid_uer\": \"100.439\", \"valid_weighted_lm_ppl\": \"76.3546\", \"valid_lm_ppl\": \"59.8052\", \"valid_wps\": \"18665.8\", \"valid_wpb\": \"3039.8\", \"valid_bsz\": \"144.2\", \"valid_num_updates\": \"78736\", \"valid_best_weighted_lm_ppl\": \"73.4256\"}\r\n",
      "[2021-06-06 21:59:43,970][fairseq.checkpoint_utils][INFO] - Preparing to save checkpoint for epoch 4921 @ 78736 updates\r\n",
      "[2021-06-06 21:59:43,972][fairseq.trainer][INFO] - Saving checkpoint to /kaggle/working/checkpoint_last.pt\r\n"
     ]
    },
    {
     "name": "stdout",
     "output_type": "stream",
     "text": [
      "[2021-06-06 21:59:44,018][fairseq.trainer][INFO] - Finished saving checkpoint to /kaggle/working/checkpoint_last.pt\r\n",
      "[2021-06-06 21:59:44,018][fairseq.checkpoint_utils][INFO] - Saved checkpoint /kaggle/working/checkpoint_last.pt (epoch 4921 @ 78736 updates, score 76.3545829691738) (writing took 0.04805846199997177 seconds)\r\n",
      "[2021-06-06 21:59:44,019][fairseq_cli.train][INFO] - end of epoch 4921 (average epoch stats below)\r\n",
      "[2021-06-06 21:59:44,021][train][INFO] - {\"epoch\": 4921, \"train_loss\": \"3.74\", \"train_ntokens\": \"145.688\", \"train_nsentences\": \"145.688\", \"train_temp\": \"0.1\", \"train_code_ppl\": \"8.916\", \"train_loss_code_pen\": \"0.339\", \"train_loss_smoothness\": \"2.116\", \"train_loss_dense_g\": \"4.232\", \"train_lm_score_sum\": 0.0, \"train_num_pred_chars\": 0.0, \"train_loss_grad_pen\": \"0.091\", \"train_loss_dense_d\": \"0.025\", \"train_loss_token_d\": \"0.033\", \"train_wps\": \"12.1\", \"train_ups\": \"0.08\", \"train_wpb\": \"145.7\", \"train_bsz\": \"145.7\", \"train_num_updates\": \"78736\", \"train_lr_discriminator\": \"0.0005\", \"train_lr_generator\": \"0.0004\", \"train_gnorm\": \"30.112\", \"train_clip\": \"81.2\", \"train_train_wall\": \"190\", \"train_wall\": \"1896\"}\r\n"
     ]
    },
    {
     "name": "stdout",
     "output_type": "stream",
     "text": [
      "[2021-06-06 21:59:44,080][fairseq.trainer][INFO] - begin training epoch 4922\r\n",
      "[2021-06-06 21:59:44,082][fairseq_cli.train][INFO] - Start iterating over samples\r\n"
     ]
    },
    {
     "name": "stdout",
     "output_type": "stream",
     "text": [
      "[2021-06-06 22:02:58,858][fairseq_cli.train][INFO] - begin validation on \"valid\" subset\r\n"
     ]
    },
    {
     "name": "stdout",
     "output_type": "stream",
     "text": [
      "[2021-06-06 22:03:01,351][fairseq.tasks.unpaired_audio_text][INFO] - REF: ɛ n f œ ʂ ə n a d ɵ ʂ ə k t f øː r d eː t s ɔ m h ɛ n d ə p oː ɕ œ r k ɔ n s ɛ t ə n\r\n",
      "[2021-06-06 22:03:01,353][fairseq.tasks.unpaired_audio_text][INFO] - HYP: t ɛ s j œ f œ j œ b j œ j k ɵ uː ɵ øː b n ə m ɔ k b uː s eː r n v oː n l ɪ ŋ k l ɪ l a s ɔ m k n t a\r\n",
      "[2021-06-06 22:03:01,357][fairseq.tasks.unpaired_audio_text][INFO] - LM [REF]: -53.44462585449219, 0.05339602260269112\r\n",
      "[2021-06-06 22:03:01,358][fairseq.tasks.unpaired_audio_text][INFO] - LM [HYP]: -85.9713363647461, 0.017598794955506897\r\n"
     ]
    },
    {
     "name": "stdout",
     "output_type": "stream",
     "text": [
      "[2021-06-06 22:03:01,864][valid][INFO] - {\"epoch\": 4922, \"valid_loss\": \"1.006\", \"valid_ntokens\": \"3039.79\", \"valid_nsentences\": \"144.214\", \"valid_lm_score_sum\": \"-90044.9\", \"valid_num_pred_chars\": \"48519\", \"valid_vocab_seen_pct\": \"0.891986\", \"valid_uer\": \"100.573\", \"valid_weighted_lm_ppl\": \"76.0346\", \"valid_lm_ppl\": \"60.4961\", \"valid_wps\": \"18459.1\", \"valid_wpb\": \"3039.8\", \"valid_bsz\": \"144.2\", \"valid_num_updates\": \"78752\", \"valid_best_weighted_lm_ppl\": \"73.4256\"}\r\n",
      "[2021-06-06 22:03:01,867][fairseq.checkpoint_utils][INFO] - Preparing to save checkpoint for epoch 4922 @ 78752 updates\r\n",
      "[2021-06-06 22:03:01,868][fairseq.trainer][INFO] - Saving checkpoint to /kaggle/working/checkpoint_last.pt\r\n"
     ]
    },
    {
     "name": "stdout",
     "output_type": "stream",
     "text": [
      "[2021-06-06 22:03:01,915][fairseq.trainer][INFO] - Finished saving checkpoint to /kaggle/working/checkpoint_last.pt\r\n",
      "[2021-06-06 22:03:01,915][fairseq.checkpoint_utils][INFO] - Saved checkpoint /kaggle/working/checkpoint_last.pt (epoch 4922 @ 78752 updates, score 76.03461559110144) (writing took 0.04765208099979645 seconds)\r\n",
      "[2021-06-06 22:03:01,915][fairseq_cli.train][INFO] - end of epoch 4922 (average epoch stats below)\r\n",
      "[2021-06-06 22:03:01,918][train][INFO] - {\"epoch\": 4922, \"train_loss\": \"3.646\", \"train_ntokens\": \"145.688\", \"train_nsentences\": \"145.688\", \"train_temp\": \"0.1\", \"train_code_ppl\": \"8.867\", \"train_loss_code_pen\": \"0.329\", \"train_loss_smoothness\": \"2.075\", \"train_loss_dense_g\": \"4.067\", \"train_lm_score_sum\": 0.0, \"train_num_pred_chars\": 0.0, \"train_loss_grad_pen\": \"0.142\", \"train_loss_dense_d\": \"0.036\", \"train_loss_token_d\": \"0.029\", \"train_wps\": \"11.8\", \"train_ups\": \"0.08\", \"train_wpb\": \"145.7\", \"train_bsz\": \"145.7\", \"train_num_updates\": \"78752\", \"train_lr_discriminator\": \"0.0005\", \"train_lr_generator\": \"0.0004\", \"train_gnorm\": \"33.232\", \"train_clip\": \"93.8\", \"train_train_wall\": \"194\", \"train_wall\": \"2094\"}\r\n"
     ]
    },
    {
     "name": "stdout",
     "output_type": "stream",
     "text": [
      "[2021-06-06 22:03:01,973][fairseq.trainer][INFO] - begin training epoch 4923\r\n",
      "[2021-06-06 22:03:01,974][fairseq_cli.train][INFO] - Start iterating over samples\r\n"
     ]
    },
    {
     "name": "stdout",
     "output_type": "stream",
     "text": [
      "[2021-06-06 22:06:39,881][fairseq_cli.train][INFO] - begin validation on \"valid\" subset\r\n"
     ]
    },
    {
     "name": "stdout",
     "output_type": "stream",
     "text": [
      "[2021-06-06 22:06:42,233][fairseq.tasks.unpaired_audio_text][INFO] - REF: ɛ n f œ ʂ ə n a d ɵ ʂ ə k t f øː r d eː t s ɔ m h ɛ n d ə p oː ɕ œ r k ɔ n s ɛ t ə n\r\n",
      "[2021-06-06 22:06:42,235][fairseq.tasks.unpaired_audio_text][INFO] - HYP: t ɛ s j œ f œ j b j uː œ j k uː ɵ øː j n ə m œ k b ə uː s eː r n v oː n l ɪ ŋ k l ɪ l a s m t a\r\n",
      "[2021-06-06 22:06:42,239][fairseq.tasks.unpaired_audio_text][INFO] - LM [REF]: -53.44462585449219, 0.05339602260269112\r\n",
      "[2021-06-06 22:06:42,239][fairseq.tasks.unpaired_audio_text][INFO] - LM [HYP]: -85.30306243896484, 0.013982524827972688\r\n"
     ]
    },
    {
     "name": "stdout",
     "output_type": "stream",
     "text": [
      "[2021-06-06 22:06:42,729][valid][INFO] - {\"epoch\": 4923, \"valid_loss\": \"1.005\", \"valid_ntokens\": \"3039.79\", \"valid_nsentences\": \"144.214\", \"valid_lm_score_sum\": \"-89901.2\", \"valid_num_pred_chars\": \"48410\", \"valid_vocab_seen_pct\": \"0.893728\", \"valid_uer\": \"100.458\", \"valid_weighted_lm_ppl\": \"75.9133\", \"valid_lm_ppl\": \"60.6358\", \"valid_wps\": \"19134.3\", \"valid_wpb\": \"3039.8\", \"valid_bsz\": \"144.2\", \"valid_num_updates\": \"78768\", \"valid_best_weighted_lm_ppl\": \"73.4256\"}\r\n",
      "[2021-06-06 22:06:42,732][fairseq.checkpoint_utils][INFO] - Preparing to save checkpoint for epoch 4923 @ 78768 updates\r\n",
      "[2021-06-06 22:06:42,733][fairseq.trainer][INFO] - Saving checkpoint to /kaggle/working/checkpoint_last.pt\r\n",
      "[2021-06-06 22:06:42,775][fairseq.trainer][INFO] - Finished saving checkpoint to /kaggle/working/checkpoint_last.pt\r\n",
      "[2021-06-06 22:06:42,776][fairseq.checkpoint_utils][INFO] - Saved checkpoint /kaggle/working/checkpoint_last.pt (epoch 4923 @ 78768 updates, score 75.91331968591784) (writing took 0.04409792500018739 seconds)\r\n",
      "[2021-06-06 22:06:42,776][fairseq_cli.train][INFO] - end of epoch 4923 (average epoch stats below)\r\n"
     ]
    },
    {
     "name": "stdout",
     "output_type": "stream",
     "text": [
      "[2021-06-06 22:06:42,779][train][INFO] - {\"epoch\": 4923, \"train_loss\": \"3.224\", \"train_ntokens\": \"145.688\", \"train_nsentences\": \"145.688\", \"train_temp\": \"0.1\", \"train_code_ppl\": \"8.928\", \"train_loss_code_pen\": \"0.321\", \"train_loss_smoothness\": \"2.037\", \"train_loss_dense_g\": \"4.173\", \"train_lm_score_sum\": 0.0, \"train_num_pred_chars\": 0.0, \"train_loss_grad_pen\": \"0.095\", \"train_loss_dense_d\": \"0.028\", \"train_loss_token_d\": \"0.027\", \"train_wps\": \"10.6\", \"train_ups\": \"0.07\", \"train_wpb\": \"145.7\", \"train_bsz\": \"145.7\", \"train_num_updates\": \"78768\", \"train_lr_discriminator\": \"0.0005\", \"train_lr_generator\": \"0.0004\", \"train_gnorm\": \"29.59\", \"train_clip\": \"68.8\", \"train_train_wall\": \"218\", \"train_wall\": \"2315\"}\r\n"
     ]
    },
    {
     "name": "stdout",
     "output_type": "stream",
     "text": [
      "[2021-06-06 22:06:42,833][fairseq.trainer][INFO] - begin training epoch 4924\r\n",
      "[2021-06-06 22:06:42,835][fairseq_cli.train][INFO] - Start iterating over samples\r\n"
     ]
    },
    {
     "name": "stdout",
     "output_type": "stream",
     "text": [
      "[2021-06-06 22:09:51,065][fairseq_cli.train][INFO] - begin validation on \"valid\" subset\r\n"
     ]
    },
    {
     "name": "stdout",
     "output_type": "stream",
     "text": [
      "[2021-06-06 22:09:53,467][fairseq.tasks.unpaired_audio_text][INFO] - REF: ɛ n f œ ʂ ə n a d ɵ ʂ ə k t f øː r d eː t s ɔ m h ɛ n d ə p oː ɕ œ r k ɔ n s ɛ t ə n\r\n",
      "[2021-06-06 22:09:53,470][fairseq.tasks.unpaired_audio_text][INFO] - HYP: t ɛ s j œ f œ j b j œ j k uː ɵ øː j b n ə m œ k b ə uː s eː r n v oː n l ɪ ŋ k l ɪ l a s ɔ m t n t a\r\n"
     ]
    },
    {
     "name": "stdout",
     "output_type": "stream",
     "text": [
      "[2021-06-06 22:09:53,474][fairseq.tasks.unpaired_audio_text][INFO] - LM [REF]: -53.44462585449219, 0.05339602260269112\r\n",
      "[2021-06-06 22:09:53,474][fairseq.tasks.unpaired_audio_text][INFO] - LM [HYP]: -88.92796325683594, 0.015315938260226536\r\n"
     ]
    },
    {
     "name": "stdout",
     "output_type": "stream",
     "text": [
      "[2021-06-06 22:09:53,979][valid][INFO] - {\"epoch\": 4924, \"valid_loss\": \"1.006\", \"valid_ntokens\": \"3039.79\", \"valid_nsentences\": \"144.214\", \"valid_lm_score_sum\": \"-89984.6\", \"valid_num_pred_chars\": \"48533\", \"valid_vocab_seen_pct\": \"0.89547\", \"valid_uer\": \"100.644\", \"valid_weighted_lm_ppl\": \"75.1517\", \"valid_lm_ppl\": \"60.2617\", \"valid_wps\": \"18469.1\", \"valid_wpb\": \"3039.8\", \"valid_bsz\": \"144.2\", \"valid_num_updates\": \"78784\", \"valid_best_weighted_lm_ppl\": \"73.4256\"}\r\n",
      "[2021-06-06 22:09:53,982][fairseq.checkpoint_utils][INFO] - Preparing to save checkpoint for epoch 4924 @ 78784 updates\r\n"
     ]
    },
    {
     "name": "stdout",
     "output_type": "stream",
     "text": [
      "[2021-06-06 22:09:53,984][fairseq.trainer][INFO] - Saving checkpoint to /kaggle/working/checkpoint_last.pt\r\n",
      "[2021-06-06 22:09:54,030][fairseq.trainer][INFO] - Finished saving checkpoint to /kaggle/working/checkpoint_last.pt\r\n",
      "[2021-06-06 22:09:54,030][fairseq.checkpoint_utils][INFO] - Saved checkpoint /kaggle/working/checkpoint_last.pt (epoch 4924 @ 78784 updates, score 75.15166708041369) (writing took 0.04836859099987123 seconds)\r\n",
      "[2021-06-06 22:09:54,031][fairseq_cli.train][INFO] - end of epoch 4924 (average epoch stats below)\r\n"
     ]
    },
    {
     "name": "stdout",
     "output_type": "stream",
     "text": [
      "[2021-06-06 22:09:54,034][train][INFO] - {\"epoch\": 4924, \"train_loss\": \"3.583\", \"train_ntokens\": \"145.688\", \"train_nsentences\": \"145.688\", \"train_temp\": \"0.1\", \"train_code_ppl\": \"8.882\", \"train_loss_code_pen\": \"0.332\", \"train_loss_smoothness\": \"2.079\", \"train_loss_dense_g\": \"4.005\", \"train_lm_score_sum\": 0.0, \"train_num_pred_chars\": 0.0, \"train_loss_grad_pen\": \"0.076\", \"train_loss_dense_d\": \"0.028\", \"train_loss_token_d\": \"0.028\", \"train_wps\": \"12.2\", \"train_ups\": \"0.08\", \"train_wpb\": \"145.7\", \"train_bsz\": \"145.7\", \"train_num_updates\": \"78784\", \"train_lr_discriminator\": \"0.0005\", \"train_lr_generator\": \"0.0004\", \"train_gnorm\": \"29.774\", \"train_clip\": \"81.2\", \"train_train_wall\": \"188\", \"train_wall\": \"2506\"}\r\n"
     ]
    },
    {
     "name": "stdout",
     "output_type": "stream",
     "text": [
      "[2021-06-06 22:09:54,089][fairseq.trainer][INFO] - begin training epoch 4925\r\n",
      "[2021-06-06 22:09:54,090][fairseq_cli.train][INFO] - Start iterating over samples\r\n"
     ]
    },
    {
     "name": "stdout",
     "output_type": "stream",
     "text": [
      "[2021-06-06 22:13:02,372][train_inner][INFO] - {\"epoch\": 4925, \"update\": 4925.0, \"loss\": \"3.546\", \"ntokens\": \"144.69\", \"nsentences\": \"144.69\", \"temp\": \"0.1\", \"code_ppl\": \"8.943\", \"loss_code_pen\": \"0.327\", \"loss_smoothness\": \"2.066\", \"loss_dense_g\": \"4.139\", \"lm_score_sum\": 0.0, \"num_pred_chars\": 0.0, \"loss_grad_pen\": \"0.103\", \"loss_dense_d\": \"0.029\", \"loss_token_d\": \"0.03\", \"wps\": \"11.8\", \"ups\": \"0.08\", \"wpb\": \"144.7\", \"bsz\": \"144.7\", \"num_updates\": \"78800\", \"lr_discriminator\": \"0.0005\", \"lr_generator\": \"0.0004\", \"gnorm\": \"31.751\", \"clip\": \"80\", \"train_wall\": \"1207\", \"wall\": \"2695\"}\r\n",
      "[2021-06-06 22:13:02,374][fairseq_cli.train][INFO] - begin validation on \"valid\" subset\r\n"
     ]
    },
    {
     "name": "stdout",
     "output_type": "stream",
     "text": [
      "[2021-06-06 22:13:04,825][fairseq.tasks.unpaired_audio_text][INFO] - REF: ɛ n f œ ʂ ə n a d ɵ ʂ ə k t f øː r d eː t s ɔ m h ɛ n d ə p oː ɕ œ r k ɔ n s ɛ t ə n\r\n",
      "[2021-06-06 22:13:04,828][fairseq.tasks.unpaired_audio_text][INFO] - HYP: n ɛ s j œ f œ j œ b j œ j k ɵ uː ɵ øː j b n ə m ɔ k ə uː s eː r n v oː s l ɪ ŋ k l ɪ l a s ɔ m k n t a\r\n",
      "[2021-06-06 22:13:04,832][fairseq.tasks.unpaired_audio_text][INFO] - LM [REF]: -53.44462585449219, 0.05339602260269112\r\n",
      "[2021-06-06 22:13:04,832][fairseq.tasks.unpaired_audio_text][INFO] - LM [HYP]: -87.88211059570312, 0.0174726101931601\r\n"
     ]
    },
    {
     "name": "stdout",
     "output_type": "stream",
     "text": [
      "[2021-06-06 22:13:05,325][valid][INFO] - {\"epoch\": 4925, \"valid_loss\": \"1.005\", \"valid_ntokens\": \"3039.79\", \"valid_nsentences\": \"144.214\", \"valid_lm_score_sum\": \"-89875.6\", \"valid_num_pred_chars\": \"48483\", \"valid_vocab_seen_pct\": \"0.891986\", \"valid_uer\": \"100.505\", \"valid_weighted_lm_ppl\": \"75.6709\", \"valid_lm_ppl\": \"60.2067\", \"valid_wps\": \"18298.8\", \"valid_wpb\": \"3039.8\", \"valid_bsz\": \"144.2\", \"valid_num_updates\": \"78800\", \"valid_best_weighted_lm_ppl\": \"73.4256\"}\r\n",
      "[2021-06-06 22:13:05,328][fairseq.checkpoint_utils][INFO] - Preparing to save checkpoint for epoch 4925 @ 78800 updates\r\n",
      "[2021-06-06 22:13:05,329][fairseq.trainer][INFO] - Saving checkpoint to /kaggle/working/checkpoint_last.pt\r\n"
     ]
    },
    {
     "name": "stdout",
     "output_type": "stream",
     "text": [
      "[2021-06-06 22:13:05,375][fairseq.trainer][INFO] - Finished saving checkpoint to /kaggle/working/checkpoint_last.pt\r\n",
      "[2021-06-06 22:13:05,375][fairseq.checkpoint_utils][INFO] - Saved checkpoint /kaggle/working/checkpoint_last.pt (epoch 4925 @ 78800 updates, score 75.67088131188629) (writing took 0.04687895100005335 seconds)\r\n",
      "[2021-06-06 22:13:05,375][fairseq_cli.train][INFO] - end of epoch 4925 (average epoch stats below)\r\n",
      "[2021-06-06 22:13:05,378][train][INFO] - {\"epoch\": 4925, \"train_loss\": \"3.669\", \"train_ntokens\": \"145.688\", \"train_nsentences\": \"145.688\", \"train_temp\": \"0.1\", \"train_code_ppl\": \"8.951\", \"train_loss_code_pen\": \"0.315\", \"train_loss_smoothness\": \"2.048\", \"train_loss_dense_g\": \"4.188\", \"train_lm_score_sum\": 0.0, \"train_num_pred_chars\": 0.0, \"train_loss_grad_pen\": \"0.099\", \"train_loss_dense_d\": \"0.026\", \"train_loss_token_d\": \"0.032\", \"train_wps\": \"12.2\", \"train_ups\": \"0.08\", \"train_wpb\": \"145.7\", \"train_bsz\": \"145.7\", \"train_num_updates\": \"78800\", \"train_lr_discriminator\": \"0.0005\", \"train_lr_generator\": \"0.0004\", \"train_gnorm\": \"35.084\", \"train_clip\": \"75\", \"train_train_wall\": \"188\", \"train_wall\": \"2698\"}\r\n"
     ]
    },
    {
     "name": "stdout",
     "output_type": "stream",
     "text": [
      "[2021-06-06 22:13:05,433][fairseq.trainer][INFO] - begin training epoch 4926\r\n",
      "[2021-06-06 22:13:05,434][fairseq_cli.train][INFO] - Start iterating over samples\r\n"
     ]
    },
    {
     "name": "stdout",
     "output_type": "stream",
     "text": [
      "[2021-06-06 22:16:19,012][fairseq_cli.train][INFO] - begin validation on \"valid\" subset\r\n"
     ]
    },
    {
     "name": "stdout",
     "output_type": "stream",
     "text": [
      "[2021-06-06 22:16:21,420][fairseq.tasks.unpaired_audio_text][INFO] - REF: ɛ n f œ ʂ ə n a d ɵ ʂ ə k t f øː r d eː t s ɔ m h ɛ n d ə p oː ɕ œ r k ɔ n s ɛ t ə n\r\n",
      "[2021-06-06 22:16:21,422][fairseq.tasks.unpaired_audio_text][INFO] - HYP: n ɛ s j œ r œ j œ b j uː œ s k uː ɵ øː j b n ə m œ k ə uː s eː r n v oː s l ɪ ŋ k l ɪ l a s ɔ k m k n t a\r\n",
      "[2021-06-06 22:16:21,426][fairseq.tasks.unpaired_audio_text][INFO] - LM [REF]: -53.44462585449219, 0.05339602260269112\r\n",
      "[2021-06-06 22:16:21,426][fairseq.tasks.unpaired_audio_text][INFO] - LM [HYP]: -92.4472885131836, 0.015392461229645627\r\n"
     ]
    },
    {
     "name": "stdout",
     "output_type": "stream",
     "text": [
      "[2021-06-06 22:16:21,924][valid][INFO] - {\"epoch\": 4926, \"valid_loss\": \"1.005\", \"valid_ntokens\": \"3039.79\", \"valid_nsentences\": \"144.214\", \"valid_lm_score_sum\": \"-89876.8\", \"valid_num_pred_chars\": \"48412\", \"valid_vocab_seen_pct\": \"0.891986\", \"valid_uer\": \"100.461\", \"valid_weighted_lm_ppl\": \"76.1127\", \"valid_lm_ppl\": \"60.5582\", \"valid_wps\": \"18686.6\", \"valid_wpb\": \"3039.8\", \"valid_bsz\": \"144.2\", \"valid_num_updates\": \"78816\", \"valid_best_weighted_lm_ppl\": \"73.4256\"}\r\n",
      "[2021-06-06 22:16:21,927][fairseq.checkpoint_utils][INFO] - Preparing to save checkpoint for epoch 4926 @ 78816 updates\r\n",
      "[2021-06-06 22:16:21,928][fairseq.trainer][INFO] - Saving checkpoint to /kaggle/working/checkpoint_last.pt\r\n"
     ]
    },
    {
     "name": "stdout",
     "output_type": "stream",
     "text": [
      "[2021-06-06 22:16:21,972][fairseq.trainer][INFO] - Finished saving checkpoint to /kaggle/working/checkpoint_last.pt\r\n",
      "[2021-06-06 22:16:21,972][fairseq.checkpoint_utils][INFO] - Saved checkpoint /kaggle/working/checkpoint_last.pt (epoch 4926 @ 78816 updates, score 76.11270314673763) (writing took 0.0455040049996569 seconds)\r\n",
      "[2021-06-06 22:16:21,973][fairseq_cli.train][INFO] - end of epoch 4926 (average epoch stats below)\r\n",
      "[2021-06-06 22:16:21,975][train][INFO] - {\"epoch\": 4926, \"train_loss\": \"3.52\", \"train_ntokens\": \"145.688\", \"train_nsentences\": \"145.688\", \"train_temp\": \"0.1\", \"train_code_ppl\": \"9.019\", \"train_loss_code_pen\": \"0.323\", \"train_loss_smoothness\": \"2.078\", \"train_loss_dense_g\": \"3.902\", \"train_lm_score_sum\": 0.0, \"train_num_pred_chars\": 0.0, \"train_loss_grad_pen\": \"0.068\", \"train_loss_dense_d\": \"0.033\", \"train_loss_token_d\": \"0.029\", \"train_wps\": \"11.9\", \"train_ups\": \"0.08\", \"train_wpb\": \"145.7\", \"train_bsz\": \"145.7\", \"train_num_updates\": \"78816\", \"train_lr_discriminator\": \"0.0005\", \"train_lr_generator\": \"0.0004\", \"train_gnorm\": \"30.408\", \"train_clip\": \"75\", \"train_train_wall\": \"193\", \"train_wall\": \"2894\"}\r\n"
     ]
    },
    {
     "name": "stdout",
     "output_type": "stream",
     "text": [
      "[2021-06-06 22:16:22,031][fairseq.trainer][INFO] - begin training epoch 4927\r\n",
      "[2021-06-06 22:16:22,032][fairseq_cli.train][INFO] - Start iterating over samples\r\n"
     ]
    },
    {
     "name": "stdout",
     "output_type": "stream",
     "text": [
      "[2021-06-06 22:19:54,923][fairseq_cli.train][INFO] - begin validation on \"valid\" subset\r\n"
     ]
    },
    {
     "name": "stdout",
     "output_type": "stream",
     "text": [
      "[2021-06-06 22:19:57,425][fairseq.tasks.unpaired_audio_text][INFO] - REF: ɛ n f œ ʂ ə n a d ɵ ʂ ə k t f øː r d eː t s ɔ m h ɛ n d ə p oː ɕ œ r k ɔ n s ɛ t ə n\r\n",
      "[2021-06-06 22:19:57,428][fairseq.tasks.unpaired_audio_text][INFO] - HYP: n ɛ s j œ f œ j œ b j uː œ s k uː ɵ øː b n ə m œ k ə uː s eː r n v oː s l ɪ ŋ k l ɪ l a s d m t n t a\r\n",
      "[2021-06-06 22:19:57,432][fairseq.tasks.unpaired_audio_text][INFO] - LM [REF]: -53.44462585449219, 0.05339602260269112\r\n",
      "[2021-06-06 22:19:57,432][fairseq.tasks.unpaired_audio_text][INFO] - LM [HYP]: -90.11066436767578, 0.014487947035768287\r\n"
     ]
    },
    {
     "name": "stdout",
     "output_type": "stream",
     "text": [
      "[2021-06-06 22:19:57,919][valid][INFO] - {\"epoch\": 4927, \"valid_loss\": \"1.002\", \"valid_ntokens\": \"3039.79\", \"valid_nsentences\": \"144.214\", \"valid_lm_score_sum\": \"-89606.6\", \"valid_num_pred_chars\": \"48242\", \"valid_vocab_seen_pct\": \"0.890244\", \"valid_uer\": \"100.209\", \"valid_weighted_lm_ppl\": \"76.5258\", \"valid_lm_ppl\": \"60.6493\", \"valid_wps\": \"18798.2\", \"valid_wpb\": \"3039.8\", \"valid_bsz\": \"144.2\", \"valid_num_updates\": \"78832\", \"valid_best_weighted_lm_ppl\": \"73.4256\"}\r\n",
      "[2021-06-06 22:19:57,922][fairseq.checkpoint_utils][INFO] - Preparing to save checkpoint for epoch 4927 @ 78832 updates\r\n",
      "[2021-06-06 22:19:57,923][fairseq.trainer][INFO] - Saving checkpoint to /kaggle/working/checkpoint_last.pt\r\n"
     ]
    },
    {
     "name": "stdout",
     "output_type": "stream",
     "text": [
      "[2021-06-06 22:19:57,970][fairseq.trainer][INFO] - Finished saving checkpoint to /kaggle/working/checkpoint_last.pt\r\n",
      "[2021-06-06 22:19:57,970][fairseq.checkpoint_utils][INFO] - Saved checkpoint /kaggle/working/checkpoint_last.pt (epoch 4927 @ 78832 updates, score 76.52580873667326) (writing took 0.048534198999732325 seconds)\r\n",
      "[2021-06-06 22:19:57,970][fairseq_cli.train][INFO] - end of epoch 4927 (average epoch stats below)\r\n",
      "[2021-06-06 22:19:57,973][train][INFO] - {\"epoch\": 4927, \"train_loss\": \"3.386\", \"train_ntokens\": \"145.688\", \"train_nsentences\": \"145.688\", \"train_temp\": \"0.1\", \"train_code_ppl\": \"8.965\", \"train_loss_code_pen\": \"0.337\", \"train_loss_smoothness\": \"2.072\", \"train_loss_dense_g\": \"4.014\", \"train_lm_score_sum\": 0.0, \"train_num_pred_chars\": 0.0, \"train_loss_grad_pen\": \"0.058\", \"train_loss_dense_d\": \"0.031\", \"train_loss_token_d\": \"0.029\", \"train_wps\": \"10.8\", \"train_ups\": \"0.07\", \"train_wpb\": \"145.7\", \"train_bsz\": \"145.7\", \"train_num_updates\": \"78832\", \"train_lr_discriminator\": \"0.0005\", \"train_lr_generator\": \"0.0004\", \"train_gnorm\": \"29.868\", \"train_clip\": \"68.8\", \"train_train_wall\": \"212\", \"train_wall\": \"3110\"}\r\n"
     ]
    },
    {
     "name": "stdout",
     "output_type": "stream",
     "text": [
      "[2021-06-06 22:19:58,032][fairseq.trainer][INFO] - begin training epoch 4928\r\n",
      "[2021-06-06 22:19:58,033][fairseq_cli.train][INFO] - Start iterating over samples\r\n"
     ]
    },
    {
     "name": "stdout",
     "output_type": "stream",
     "text": [
      "[2021-06-06 22:23:26,466][fairseq_cli.train][INFO] - begin validation on \"valid\" subset\r\n"
     ]
    },
    {
     "name": "stdout",
     "output_type": "stream",
     "text": [
      "[2021-06-06 22:23:28,876][fairseq.tasks.unpaired_audio_text][INFO] - REF: ɛ n f œ ʂ ə n a d ɵ ʂ ə k t f øː r d eː t s ɔ m h ɛ n d ə p oː ɕ œ r k ɔ n s ɛ t ə n\r\n",
      "[2021-06-06 22:23:28,878][fairseq.tasks.unpaired_audio_text][INFO] - HYP: n ɛ s j œ r œ j œ b j uː œ yː k uː ɵ b n ə m œ k ə uː s eː r n v oː s l ɪ ŋ k l ɪ l s ɔ k m t n t a\r\n",
      "[2021-06-06 22:23:28,883][fairseq.tasks.unpaired_audio_text][INFO] - LM [REF]: -53.44462585449219, 0.05339602260269112\r\n",
      "[2021-06-06 22:23:28,883][fairseq.tasks.unpaired_audio_text][INFO] - LM [HYP]: -88.05995178222656, 0.014635840609973375\r\n"
     ]
    },
    {
     "name": "stdout",
     "output_type": "stream",
     "text": [
      "[2021-06-06 22:23:29,389][valid][INFO] - {\"epoch\": 4928, \"valid_loss\": \"1.003\", \"valid_ntokens\": \"3039.79\", \"valid_nsentences\": \"144.214\", \"valid_lm_score_sum\": \"-89554.4\", \"valid_num_pred_chars\": \"48227\", \"valid_vocab_seen_pct\": \"0.89547\", \"valid_uer\": \"100.301\", \"valid_weighted_lm_ppl\": \"75.5468\", \"valid_lm_ppl\": \"60.5785\", \"valid_wps\": \"18536.1\", \"valid_wpb\": \"3039.8\", \"valid_bsz\": \"144.2\", \"valid_num_updates\": \"78848\", \"valid_best_weighted_lm_ppl\": \"73.4256\"}\r\n",
      "[2021-06-06 22:23:29,392][fairseq.checkpoint_utils][INFO] - Preparing to save checkpoint for epoch 4928 @ 78848 updates\r\n",
      "[2021-06-06 22:23:29,393][fairseq.trainer][INFO] - Saving checkpoint to /kaggle/working/checkpoint_last.pt\r\n"
     ]
    },
    {
     "name": "stdout",
     "output_type": "stream",
     "text": [
      "[2021-06-06 22:23:29,442][fairseq.trainer][INFO] - Finished saving checkpoint to /kaggle/working/checkpoint_last.pt\r\n",
      "[2021-06-06 22:23:29,442][fairseq.checkpoint_utils][INFO] - Saved checkpoint /kaggle/working/checkpoint_last.pt (epoch 4928 @ 78848 updates, score 75.54682084944544) (writing took 0.04995912400045199 seconds)\r\n",
      "[2021-06-06 22:23:29,442][fairseq_cli.train][INFO] - end of epoch 4928 (average epoch stats below)\r\n",
      "[2021-06-06 22:23:29,445][train][INFO] - {\"epoch\": 4928, \"train_loss\": \"3.174\", \"train_ntokens\": \"145.688\", \"train_nsentences\": \"145.688\", \"train_temp\": \"0.1\", \"train_code_ppl\": \"8.774\", \"train_loss_code_pen\": \"0.311\", \"train_loss_smoothness\": \"2.005\", \"train_loss_dense_g\": \"4.083\", \"train_lm_score_sum\": 0.0, \"train_num_pred_chars\": 0.0, \"train_loss_grad_pen\": \"0.122\", \"train_loss_dense_d\": \"0.027\", \"train_loss_token_d\": \"0.026\", \"train_wps\": \"11\", \"train_ups\": \"0.08\", \"train_wpb\": \"145.7\", \"train_bsz\": \"145.7\", \"train_num_updates\": \"78848\", \"train_lr_discriminator\": \"0.0005\", \"train_lr_generator\": \"0.0004\", \"train_gnorm\": \"29.521\", \"train_clip\": \"75\", \"train_train_wall\": \"208\", \"train_wall\": \"3322\"}\r\n"
     ]
    },
    {
     "name": "stdout",
     "output_type": "stream",
     "text": [
      "[2021-06-06 22:23:29,502][fairseq.trainer][INFO] - begin training epoch 4929\r\n",
      "[2021-06-06 22:23:29,504][fairseq_cli.train][INFO] - Start iterating over samples\r\n"
     ]
    },
    {
     "name": "stdout",
     "output_type": "stream",
     "text": [
      "[2021-06-06 22:27:10,993][fairseq_cli.train][INFO] - begin validation on \"valid\" subset\r\n"
     ]
    },
    {
     "name": "stdout",
     "output_type": "stream",
     "text": [
      "[2021-06-06 22:27:13,490][fairseq.tasks.unpaired_audio_text][INFO] - REF: ɛ n f œ ʂ ə n a d ɵ ʂ ə k t f øː r d eː t s ɔ m h ɛ n d ə p oː ɕ œ r k ɔ n s ɛ t ə n\r\n",
      "[2021-06-06 22:27:13,492][fairseq.tasks.unpaired_audio_text][INFO] - HYP: n ɛ s j œ r œ b j uː œ s yː k uː ɵ v m b n ə m ɔ k ə uː s eː r n ɛ oː s l ɪ ŋ k l ɪ l s ɔ m t n t a\r\n",
      "[2021-06-06 22:27:13,496][fairseq.tasks.unpaired_audio_text][INFO] - LM [REF]: -53.44462585449219, 0.05339602260269112\r\n",
      "[2021-06-06 22:27:13,497][fairseq.tasks.unpaired_audio_text][INFO] - LM [HYP]: -85.39604187011719, 0.01663090161520719\r\n"
     ]
    },
    {
     "name": "stdout",
     "output_type": "stream",
     "text": [
      "[2021-06-06 22:27:14,009][valid][INFO] - {\"epoch\": 4929, \"valid_loss\": \"1.003\", \"valid_ntokens\": \"3039.79\", \"valid_nsentences\": \"144.214\", \"valid_lm_score_sum\": \"-89673.6\", \"valid_num_pred_chars\": \"48398\", \"valid_vocab_seen_pct\": \"0.890244\", \"valid_uer\": \"100.266\", \"valid_weighted_lm_ppl\": \"75.7914\", \"valid_lm_ppl\": \"60.0673\", \"valid_wps\": \"18242.1\", \"valid_wpb\": \"3039.8\", \"valid_bsz\": \"144.2\", \"valid_num_updates\": \"78864\", \"valid_best_weighted_lm_ppl\": \"73.4256\"}\r\n",
      "[2021-06-06 22:27:14,012][fairseq.checkpoint_utils][INFO] - Preparing to save checkpoint for epoch 4929 @ 78864 updates\r\n"
     ]
    },
    {
     "name": "stdout",
     "output_type": "stream",
     "text": [
      "[2021-06-06 22:27:14,014][fairseq.trainer][INFO] - Saving checkpoint to /kaggle/working/checkpoint_last.pt\r\n",
      "[2021-06-06 22:27:14,061][fairseq.trainer][INFO] - Finished saving checkpoint to /kaggle/working/checkpoint_last.pt\r\n",
      "[2021-06-06 22:27:14,062][fairseq.checkpoint_utils][INFO] - Saved checkpoint /kaggle/working/checkpoint_last.pt (epoch 4929 @ 78864 updates, score 75.79141748035944) (writing took 0.04943905799973436 seconds)\r\n",
      "[2021-06-06 22:27:14,062][fairseq_cli.train][INFO] - end of epoch 4929 (average epoch stats below)\r\n"
     ]
    },
    {
     "name": "stdout",
     "output_type": "stream",
     "text": [
      "[2021-06-06 22:27:14,065][train][INFO] - {\"epoch\": 4929, \"train_loss\": \"2.924\", \"train_ntokens\": \"145.688\", \"train_nsentences\": \"145.688\", \"train_temp\": \"0.1\", \"train_code_ppl\": \"8.914\", \"train_loss_code_pen\": \"0.331\", \"train_loss_smoothness\": \"2.049\", \"train_loss_dense_g\": \"3.989\", \"train_lm_score_sum\": 0.0, \"train_num_pred_chars\": 0.0, \"train_loss_grad_pen\": \"0.046\", \"train_loss_dense_d\": \"0.026\", \"train_loss_token_d\": \"0.024\", \"train_wps\": \"10.4\", \"train_ups\": \"0.07\", \"train_wpb\": \"145.7\", \"train_bsz\": \"145.7\", \"train_num_updates\": \"78864\", \"train_lr_discriminator\": \"0.0005\", \"train_lr_generator\": \"0.0004\", \"train_gnorm\": \"27.978\", \"train_clip\": \"56.2\", \"train_train_wall\": \"221\", \"train_wall\": \"3546\"}\r\n"
     ]
    },
    {
     "name": "stdout",
     "output_type": "stream",
     "text": [
      "[2021-06-06 22:27:14,125][fairseq.trainer][INFO] - begin training epoch 4930\r\n",
      "[2021-06-06 22:27:14,126][fairseq_cli.train][INFO] - Start iterating over samples\r\n"
     ]
    },
    {
     "name": "stdout",
     "output_type": "stream",
     "text": [
      "[2021-06-06 22:30:47,066][fairseq_cli.train][INFO] - begin validation on \"valid\" subset\r\n"
     ]
    },
    {
     "name": "stdout",
     "output_type": "stream",
     "text": [
      "[2021-06-06 22:30:49,586][fairseq.tasks.unpaired_audio_text][INFO] - REF: ɛ n f œ ʂ ə n a d ɵ ʂ ə k t f øː r d eː t s ɔ m h ɛ n d ə p oː ɕ œ r k ɔ n s ɛ t ə n\r\n",
      "[2021-06-06 22:30:49,589][fairseq.tasks.unpaired_audio_text][INFO] - HYP: n ɛ s j œ r œ j b j uː œ s yː k uː ɵ v b n ə m ɔ k ə uː s eː r n v oː s l ɪ ŋ k l ɪ l a s ɔ m t n a\r\n",
      "[2021-06-06 22:30:49,593][fairseq.tasks.unpaired_audio_text][INFO] - LM [REF]: -53.44462585449219, 0.05339602260269112\r\n",
      "[2021-06-06 22:30:49,594][fairseq.tasks.unpaired_audio_text][INFO] - LM [HYP]: -82.79695892333984, 0.018839239001007736\r\n"
     ]
    },
    {
     "name": "stdout",
     "output_type": "stream",
     "text": [
      "[2021-06-06 22:30:50,113][valid][INFO] - {\"epoch\": 4930, \"valid_loss\": \"1.004\", \"valid_ntokens\": \"3039.79\", \"valid_nsentences\": \"144.214\", \"valid_lm_score_sum\": \"-89642.4\", \"valid_num_pred_chars\": \"48435\", \"valid_vocab_seen_pct\": \"0.890244\", \"valid_uer\": \"100.439\", \"valid_weighted_lm_ppl\": \"75.4567\", \"valid_lm_ppl\": \"59.802\", \"valid_wps\": \"17900.3\", \"valid_wpb\": \"3039.8\", \"valid_bsz\": \"144.2\", \"valid_num_updates\": \"78880\", \"valid_best_weighted_lm_ppl\": \"73.4256\"}\r\n",
      "[2021-06-06 22:30:50,116][fairseq.checkpoint_utils][INFO] - Preparing to save checkpoint for epoch 4930 @ 78880 updates\r\n",
      "[2021-06-06 22:30:50,118][fairseq.trainer][INFO] - Saving checkpoint to /kaggle/working/checkpoint_last.pt\r\n"
     ]
    },
    {
     "name": "stdout",
     "output_type": "stream",
     "text": [
      "[2021-06-06 22:30:50,165][fairseq.trainer][INFO] - Finished saving checkpoint to /kaggle/working/checkpoint_last.pt\r\n",
      "[2021-06-06 22:30:50,165][fairseq.checkpoint_utils][INFO] - Saved checkpoint /kaggle/working/checkpoint_last.pt (epoch 4930 @ 78880 updates, score 75.4566700225478) (writing took 0.04902560299979086 seconds)\r\n",
      "[2021-06-06 22:30:50,166][fairseq_cli.train][INFO] - end of epoch 4930 (average epoch stats below)\r\n",
      "[2021-06-06 22:30:50,170][train][INFO] - {\"epoch\": 4930, \"train_loss\": \"3.198\", \"train_ntokens\": \"145.688\", \"train_nsentences\": \"145.688\", \"train_temp\": \"0.1\", \"train_code_ppl\": \"8.831\", \"train_loss_code_pen\": \"0.322\", \"train_loss_smoothness\": \"2.038\", \"train_loss_dense_g\": \"4.15\", \"train_lm_score_sum\": 0.0, \"train_num_pred_chars\": 0.0, \"train_loss_grad_pen\": \"0.07\", \"train_loss_dense_d\": \"0.027\", \"train_loss_token_d\": \"0.023\", \"train_wps\": \"10.8\", \"train_ups\": \"0.07\", \"train_wpb\": \"145.7\", \"train_bsz\": \"145.7\", \"train_num_updates\": \"78880\", \"train_lr_discriminator\": \"0.0005\", \"train_lr_generator\": \"0.0004\", \"train_gnorm\": \"28.769\", \"train_clip\": \"68.8\", \"train_train_wall\": \"213\", \"train_wall\": \"3763\"}\r\n"
     ]
    },
    {
     "name": "stdout",
     "output_type": "stream",
     "text": [
      "[2021-06-06 22:30:50,228][fairseq.trainer][INFO] - begin training epoch 4931\r\n",
      "[2021-06-06 22:30:50,230][fairseq_cli.train][INFO] - Start iterating over samples\r\n"
     ]
    },
    {
     "name": "stdout",
     "output_type": "stream",
     "text": [
      "[2021-06-06 22:34:09,576][fairseq_cli.train][INFO] - begin validation on \"valid\" subset\r\n"
     ]
    },
    {
     "name": "stdout",
     "output_type": "stream",
     "text": [
      "[2021-06-06 22:34:12,047][fairseq.tasks.unpaired_audio_text][INFO] - REF: ɛ n f œ ʂ ə n a d ɵ ʂ ə k t f øː r d eː t s ɔ m h ɛ n d ə p oː ɕ œ r k ɔ n s ɛ t ə n\r\n",
      "[2021-06-06 22:34:12,049][fairseq.tasks.unpaired_audio_text][INFO] - HYP: n ɛ s j œ f œ j b j uː œ s yː k uː ɵ v n ə m ɔ k ə uː s eː r n v oː s l ɪ ŋ k l ɪ l s ɔ m t n a\r\n",
      "[2021-06-06 22:34:12,054][fairseq.tasks.unpaired_audio_text][INFO] - LM [REF]: -53.44462585449219, 0.05339602260269112\r\n",
      "[2021-06-06 22:34:12,054][fairseq.tasks.unpaired_audio_text][INFO] - LM [HYP]: -81.05148315429688, 0.017298611124450608\r\n"
     ]
    },
    {
     "name": "stdout",
     "output_type": "stream",
     "text": [
      "[2021-06-06 22:34:12,571][valid][INFO] - {\"epoch\": 4931, \"valid_loss\": \"1.004\", \"valid_ntokens\": \"3039.79\", \"valid_nsentences\": \"144.214\", \"valid_lm_score_sum\": \"-89817.6\", \"valid_num_pred_chars\": \"48434\", \"valid_vocab_seen_pct\": \"0.890244\", \"valid_uer\": \"100.376\", \"valid_weighted_lm_ppl\": \"76.0687\", \"valid_lm_ppl\": \"60.287\", \"valid_wps\": \"18264.4\", \"valid_wpb\": \"3039.8\", \"valid_bsz\": \"144.2\", \"valid_num_updates\": \"78896\", \"valid_best_weighted_lm_ppl\": \"73.4256\"}\r\n"
     ]
    },
    {
     "name": "stdout",
     "output_type": "stream",
     "text": [
      "[2021-06-06 22:34:12,575][fairseq.checkpoint_utils][INFO] - Preparing to save checkpoint for epoch 4931 @ 78896 updates\r\n",
      "[2021-06-06 22:34:12,576][fairseq.trainer][INFO] - Saving checkpoint to /kaggle/working/checkpoint_last.pt\r\n"
     ]
    },
    {
     "name": "stdout",
     "output_type": "stream",
     "text": [
      "[2021-06-06 22:34:12,630][fairseq.trainer][INFO] - Finished saving checkpoint to /kaggle/working/checkpoint_last.pt\r\n",
      "[2021-06-06 22:34:12,630][fairseq.checkpoint_utils][INFO] - Saved checkpoint /kaggle/working/checkpoint_last.pt (epoch 4931 @ 78896 updates, score 76.0686732170984) (writing took 0.05535196400069253 seconds)\r\n",
      "[2021-06-06 22:34:12,630][fairseq_cli.train][INFO] - end of epoch 4931 (average epoch stats below)\r\n",
      "[2021-06-06 22:34:12,634][train][INFO] - {\"epoch\": 4931, \"train_loss\": \"3.399\", \"train_ntokens\": \"145.688\", \"train_nsentences\": \"145.688\", \"train_temp\": \"0.1\", \"train_code_ppl\": \"8.833\", \"train_loss_code_pen\": \"0.309\", \"train_loss_smoothness\": \"2.006\", \"train_loss_dense_g\": \"4.119\", \"train_lm_score_sum\": 0.0, \"train_num_pred_chars\": 0.0, \"train_loss_grad_pen\": \"0.083\", \"train_loss_dense_d\": \"0.022\", \"train_loss_token_d\": \"0.029\", \"train_wps\": \"11.5\", \"train_ups\": \"0.08\", \"train_wpb\": \"145.7\", \"train_bsz\": \"145.7\", \"train_num_updates\": \"78896\", \"train_lr_discriminator\": \"0.0005\", \"train_lr_generator\": \"0.0004\", \"train_gnorm\": \"29.612\", \"train_clip\": \"81.2\", \"train_train_wall\": \"199\", \"train_wall\": \"3965\"}\r\n"
     ]
    },
    {
     "name": "stdout",
     "output_type": "stream",
     "text": [
      "[2021-06-06 22:34:12,694][fairseq.trainer][INFO] - begin training epoch 4932\r\n",
      "[2021-06-06 22:34:12,696][fairseq_cli.train][INFO] - Start iterating over samples\r\n"
     ]
    },
    {
     "name": "stdout",
     "output_type": "stream",
     "text": [
      "[2021-06-06 22:35:12,185][train_inner][INFO] - {\"epoch\": 4932, \"update\": 4931.25, \"loss\": \"3.265\", \"ntokens\": \"146.26\", \"nsentences\": \"146.26\", \"temp\": \"0.1\", \"code_ppl\": \"8.879\", \"loss_code_pen\": \"0.322\", \"loss_smoothness\": \"2.042\", \"loss_dense_g\": \"4.037\", \"lm_score_sum\": 0.0, \"num_pred_chars\": 0.0, \"loss_grad_pen\": \"0.074\", \"loss_dense_d\": \"0.028\", \"loss_token_d\": \"0.026\", \"wps\": \"11\", \"ups\": \"0.08\", \"wpb\": \"146.3\", \"bsz\": \"146.3\", \"num_updates\": \"78900\", \"lr_discriminator\": \"0.0005\", \"lr_generator\": \"0.0004\", \"gnorm\": \"29.306\", \"clip\": \"71\", \"train_wall\": \"1305\", \"wall\": \"4025\"}\r\n"
     ]
    },
    {
     "name": "stdout",
     "output_type": "stream",
     "text": [
      "[2021-06-06 22:37:55,863][fairseq_cli.train][INFO] - begin validation on \"valid\" subset\r\n"
     ]
    },
    {
     "name": "stdout",
     "output_type": "stream",
     "text": [
      "[2021-06-06 22:37:58,335][fairseq.tasks.unpaired_audio_text][INFO] - REF: ɛ n f œ ʂ ə n a d ɵ ʂ ə k t f øː r d eː t s ɔ m h ɛ n d ə p oː ɕ œ r k ɔ n s ɛ t ə n\r\n",
      "[2021-06-06 22:37:58,337][fairseq.tasks.unpaired_audio_text][INFO] - HYP: n ɛ s j œ f œ j b j yː uː œ yː k uː ɡ ɵ v n ə m ɔ k ə uː s eː r n v oː n l ɪ ŋ k l ɪ l s ɔ m t n t a\r\n",
      "[2021-06-06 22:37:58,341][fairseq.tasks.unpaired_audio_text][INFO] - LM [REF]: -53.44462585449219, 0.05339602260269112\r\n",
      "[2021-06-06 22:37:58,342][fairseq.tasks.unpaired_audio_text][INFO] - LM [HYP]: -88.01333618164062, 0.014668605527275289\r\n"
     ]
    },
    {
     "name": "stdout",
     "output_type": "stream",
     "text": [
      "[2021-06-06 22:37:58,871][valid][INFO] - {\"epoch\": 4932, \"valid_loss\": \"1.003\", \"valid_ntokens\": \"3039.79\", \"valid_nsentences\": \"144.214\", \"valid_lm_score_sum\": \"-89769.6\", \"valid_num_pred_chars\": \"48384\", \"valid_vocab_seen_pct\": \"0.89547\", \"valid_uer\": \"100.296\", \"valid_weighted_lm_ppl\": \"75.3242\", \"valid_lm_ppl\": \"60.4\", \"valid_wps\": \"18080\", \"valid_wpb\": \"3039.8\", \"valid_bsz\": \"144.2\", \"valid_num_updates\": \"78912\", \"valid_best_weighted_lm_ppl\": \"73.4256\"}\r\n",
      "[2021-06-06 22:37:58,874][fairseq.checkpoint_utils][INFO] - Preparing to save checkpoint for epoch 4932 @ 78912 updates\r\n",
      "[2021-06-06 22:37:58,875][fairseq.trainer][INFO] - Saving checkpoint to /kaggle/working/checkpoint_last.pt\r\n"
     ]
    },
    {
     "name": "stdout",
     "output_type": "stream",
     "text": [
      "[2021-06-06 22:37:58,924][fairseq.trainer][INFO] - Finished saving checkpoint to /kaggle/working/checkpoint_last.pt\r\n",
      "[2021-06-06 22:37:58,925][fairseq.checkpoint_utils][INFO] - Saved checkpoint /kaggle/working/checkpoint_last.pt (epoch 4932 @ 78912 updates, score 75.3241644063959) (writing took 0.0505343239992726 seconds)\r\n",
      "[2021-06-06 22:37:58,925][fairseq_cli.train][INFO] - end of epoch 4932 (average epoch stats below)\r\n",
      "[2021-06-06 22:37:58,928][train][INFO] - {\"epoch\": 4932, \"train_loss\": \"3.011\", \"train_ntokens\": \"145.688\", \"train_nsentences\": \"145.688\", \"train_temp\": \"0.1\", \"train_code_ppl\": \"8.844\", \"train_loss_code_pen\": \"0.319\", \"train_loss_smoothness\": \"2.022\", \"train_loss_dense_g\": \"4.21\", \"train_lm_score_sum\": 0.0, \"train_num_pred_chars\": 0.0, \"train_loss_grad_pen\": \"0.051\", \"train_loss_dense_d\": \"0.028\", \"train_loss_token_d\": \"0.024\", \"train_wps\": \"10.3\", \"train_ups\": \"0.07\", \"train_wpb\": \"145.7\", \"train_bsz\": \"145.7\", \"train_num_updates\": \"78912\", \"train_lr_discriminator\": \"0.0005\", \"train_lr_generator\": \"0.0004\", \"train_gnorm\": \"28.323\", \"train_clip\": \"62.5\", \"train_train_wall\": \"223\", \"train_wall\": \"4191\"}\r\n"
     ]
    },
    {
     "name": "stdout",
     "output_type": "stream",
     "text": [
      "[2021-06-06 22:37:58,985][fairseq.trainer][INFO] - begin training epoch 4933\r\n",
      "[2021-06-06 22:37:58,987][fairseq_cli.train][INFO] - Start iterating over samples\r\n"
     ]
    },
    {
     "name": "stdout",
     "output_type": "stream",
     "text": [
      "[2021-06-06 22:41:35,954][fairseq_cli.train][INFO] - begin validation on \"valid\" subset\r\n"
     ]
    },
    {
     "name": "stdout",
     "output_type": "stream",
     "text": [
      "[2021-06-06 22:41:38,432][fairseq.tasks.unpaired_audio_text][INFO] - REF: ɛ n f œ ʂ ə n a d ɵ ʂ ə k t f øː r d eː t s ɔ m h ɛ n d ə p oː ɕ œ r k ɔ n s ɛ t ə n\r\n",
      "[2021-06-06 22:41:38,435][fairseq.tasks.unpaired_audio_text][INFO] - HYP: n ɛ s j œ r œ j œ b j uː œ yː k uː ɡ ɵ øː j m b n ə m ɔ k b ə uː s eː r n v oː s l ɪ ŋ k l ɪ l s ɔ m t n t a\r\n"
     ]
    },
    {
     "name": "stdout",
     "output_type": "stream",
     "text": [
      "[2021-06-06 22:41:38,440][fairseq.tasks.unpaired_audio_text][INFO] - LM [REF]: -53.44462585449219, 0.05339602260269112\r\n",
      "[2021-06-06 22:41:38,441][fairseq.tasks.unpaired_audio_text][INFO] - LM [HYP]: -92.21135711669922, 0.016854065245590612\r\n"
     ]
    },
    {
     "name": "stdout",
     "output_type": "stream",
     "text": [
      "[2021-06-06 22:41:38,952][valid][INFO] - {\"epoch\": 4933, \"valid_loss\": \"1.005\", \"valid_ntokens\": \"3039.79\", \"valid_nsentences\": \"144.214\", \"valid_lm_score_sum\": \"-90065.9\", \"valid_num_pred_chars\": \"48527\", \"valid_vocab_seen_pct\": \"0.888502\", \"valid_uer\": \"100.508\", \"valid_weighted_lm_ppl\": \"76.6556\", \"valid_lm_ppl\": \"60.5146\", \"valid_wps\": \"18274.2\", \"valid_wpb\": \"3039.8\", \"valid_bsz\": \"144.2\", \"valid_num_updates\": \"78928\", \"valid_best_weighted_lm_ppl\": \"73.4256\"}\r\n",
      "[2021-06-06 22:41:38,955][fairseq.checkpoint_utils][INFO] - Preparing to save checkpoint for epoch 4933 @ 78928 updates\r\n",
      "[2021-06-06 22:41:38,957][fairseq.trainer][INFO] - Saving checkpoint to /kaggle/working/checkpoint_last.pt\r\n"
     ]
    },
    {
     "name": "stdout",
     "output_type": "stream",
     "text": [
      "[2021-06-06 22:41:39,006][fairseq.trainer][INFO] - Finished saving checkpoint to /kaggle/working/checkpoint_last.pt\r\n",
      "[2021-06-06 22:41:39,006][fairseq.checkpoint_utils][INFO] - Saved checkpoint /kaggle/working/checkpoint_last.pt (epoch 4933 @ 78928 updates, score 76.65561117996043) (writing took 0.050913691999994626 seconds)\r\n",
      "[2021-06-06 22:41:39,007][fairseq_cli.train][INFO] - end of epoch 4933 (average epoch stats below)\r\n",
      "[2021-06-06 22:41:39,009][train][INFO] - {\"epoch\": 4933, \"train_loss\": \"3.25\", \"train_ntokens\": \"145.688\", \"train_nsentences\": \"145.688\", \"train_temp\": \"0.1\", \"train_code_ppl\": \"8.975\", \"train_loss_code_pen\": \"0.345\", \"train_loss_smoothness\": \"2.12\", \"train_loss_dense_g\": \"4.185\", \"train_lm_score_sum\": 0.0, \"train_num_pred_chars\": 0.0, \"train_loss_grad_pen\": \"0.043\", \"train_loss_dense_d\": \"0.024\", \"train_loss_token_d\": \"0.022\", \"train_wps\": \"10.6\", \"train_ups\": \"0.07\", \"train_wpb\": \"145.7\", \"train_bsz\": \"145.7\", \"train_num_updates\": \"78928\", \"train_lr_discriminator\": \"0.0005\", \"train_lr_generator\": \"0.0004\", \"train_gnorm\": \"27.501\", \"train_clip\": \"56.2\", \"train_train_wall\": \"216\", \"train_wall\": \"4411\"}\r\n"
     ]
    },
    {
     "name": "stdout",
     "output_type": "stream",
     "text": [
      "[2021-06-06 22:41:39,063][fairseq.trainer][INFO] - begin training epoch 4934\r\n",
      "[2021-06-06 22:41:39,065][fairseq_cli.train][INFO] - Start iterating over samples\r\n"
     ]
    },
    {
     "name": "stdout",
     "output_type": "stream",
     "text": [
      "[2021-06-06 22:45:10,622][fairseq_cli.train][INFO] - begin validation on \"valid\" subset\r\n"
     ]
    },
    {
     "name": "stdout",
     "output_type": "stream",
     "text": [
      "[2021-06-06 22:45:13,092][fairseq.tasks.unpaired_audio_text][INFO] - REF: ɛ n f œ ʂ ə n a d ɵ ʂ ə k t f øː r d eː t s ɔ m h ɛ n d ə p oː ɕ œ r k ɔ n s ɛ t ə n\r\n",
      "[2021-06-06 22:45:13,094][fairseq.tasks.unpaired_audio_text][INFO] - HYP: t ɛ s j œ r œ j œ b j uː œ j k uː ɵ øː j m b n ə m ɔ k b uː s eː r n v oː s l ɪ ŋ k l ɪ l s ɔ m t n t a\r\n",
      "[2021-06-06 22:45:13,099][fairseq.tasks.unpaired_audio_text][INFO] - LM [REF]: -53.44462585449219, 0.05339602260269112\r\n",
      "[2021-06-06 22:45:13,099][fairseq.tasks.unpaired_audio_text][INFO] - LM [HYP]: -90.18000793457031, 0.01571809253863979\r\n"
     ]
    },
    {
     "name": "stdout",
     "output_type": "stream",
     "text": [
      "[2021-06-06 22:45:13,613][valid][INFO] - {\"epoch\": 4934, \"valid_loss\": \"1.005\", \"valid_ntokens\": \"3039.79\", \"valid_nsentences\": \"144.214\", \"valid_lm_score_sum\": \"-89954\", \"valid_num_pred_chars\": \"48533\", \"valid_vocab_seen_pct\": \"0.891986\", \"valid_uer\": \"100.47\", \"valid_weighted_lm_ppl\": \"75.6342\", \"valid_lm_ppl\": \"60.1775\", \"valid_wps\": \"18191.3\", \"valid_wpb\": \"3039.8\", \"valid_bsz\": \"144.2\", \"valid_num_updates\": \"78944\", \"valid_best_weighted_lm_ppl\": \"73.4256\"}\r\n",
      "[2021-06-06 22:45:13,616][fairseq.checkpoint_utils][INFO] - Preparing to save checkpoint for epoch 4934 @ 78944 updates\r\n",
      "[2021-06-06 22:45:13,617][fairseq.trainer][INFO] - Saving checkpoint to /kaggle/working/checkpoint_last.pt\r\n"
     ]
    },
    {
     "name": "stdout",
     "output_type": "stream",
     "text": [
      "[2021-06-06 22:45:13,663][fairseq.trainer][INFO] - Finished saving checkpoint to /kaggle/working/checkpoint_last.pt\r\n",
      "[2021-06-06 22:45:13,663][fairseq.checkpoint_utils][INFO] - Saved checkpoint /kaggle/working/checkpoint_last.pt (epoch 4934 @ 78944 updates, score 75.63417579522016) (writing took 0.04747963400041044 seconds)\r\n",
      "[2021-06-06 22:45:13,664][fairseq_cli.train][INFO] - end of epoch 4934 (average epoch stats below)\r\n",
      "[2021-06-06 22:45:13,667][train][INFO] - {\"epoch\": 4934, \"train_loss\": \"3.288\", \"train_ntokens\": \"145.688\", \"train_nsentences\": \"145.688\", \"train_temp\": \"0.1\", \"train_code_ppl\": \"8.902\", \"train_loss_code_pen\": \"0.313\", \"train_loss_smoothness\": \"2.033\", \"train_loss_dense_g\": \"4.344\", \"train_lm_score_sum\": 0.0, \"train_num_pred_chars\": 0.0, \"train_loss_grad_pen\": \"0.079\", \"train_loss_dense_d\": \"0.021\", \"train_loss_token_d\": \"0.025\", \"train_wps\": \"10.9\", \"train_ups\": \"0.07\", \"train_wpb\": \"145.7\", \"train_bsz\": \"145.7\", \"train_num_updates\": \"78944\", \"train_lr_discriminator\": \"0.0005\", \"train_lr_generator\": \"0.0004\", \"train_gnorm\": \"29.14\", \"train_clip\": \"62.5\", \"train_train_wall\": \"211\", \"train_wall\": \"4626\"}\r\n"
     ]
    },
    {
     "name": "stdout",
     "output_type": "stream",
     "text": [
      "[2021-06-06 22:45:13,724][fairseq.trainer][INFO] - begin training epoch 4935\r\n",
      "[2021-06-06 22:45:13,726][fairseq_cli.train][INFO] - Start iterating over samples\r\n"
     ]
    },
    {
     "name": "stdout",
     "output_type": "stream",
     "text": [
      "[2021-06-06 22:48:45,334][fairseq_cli.train][INFO] - begin validation on \"valid\" subset\r\n"
     ]
    },
    {
     "name": "stdout",
     "output_type": "stream",
     "text": [
      "[2021-06-06 22:48:47,803][fairseq.tasks.unpaired_audio_text][INFO] - REF: ɛ n f œ ʂ ə n a d ɵ ʂ ə k t f øː r d eː t s ɔ m h ɛ n d ə p oː ɕ œ r k ɔ n s ɛ t ə n\r\n",
      "[2021-06-06 22:48:47,806][fairseq.tasks.unpaired_audio_text][INFO] - HYP: n ɛ s j œ r œ j œ b j uː œ j yː k uː ɵ øː j m b n ə m ɔ k b ə uː s eː r n v oː s l ɪ ŋ k l ɪ l s ɔ k m t n t a\r\n",
      "[2021-06-06 22:48:47,810][fairseq.tasks.unpaired_audio_text][INFO] - LM [REF]: -53.44462585449219, 0.05339602260269112\r\n",
      "[2021-06-06 22:48:47,810][fairseq.tasks.unpaired_audio_text][INFO] - LM [HYP]: -95.74485778808594, 0.015613247683864155\r\n"
     ]
    },
    {
     "name": "stdout",
     "output_type": "stream",
     "text": [
      "[2021-06-06 22:48:48,320][valid][INFO] - {\"epoch\": 4935, \"valid_loss\": \"1.004\", \"valid_ntokens\": \"3039.79\", \"valid_nsentences\": \"144.214\", \"valid_lm_score_sum\": \"-89679.9\", \"valid_num_pred_chars\": \"48416\", \"valid_vocab_seen_pct\": \"0.89547\", \"valid_uer\": \"100.385\", \"valid_weighted_lm_ppl\": \"74.8213\", \"valid_lm_ppl\": \"59.9967\", \"valid_wps\": \"18349.3\", \"valid_wpb\": \"3039.8\", \"valid_bsz\": \"144.2\", \"valid_num_updates\": \"78960\", \"valid_best_weighted_lm_ppl\": \"73.4256\"}\r\n",
      "[2021-06-06 22:48:48,323][fairseq.checkpoint_utils][INFO] - Preparing to save checkpoint for epoch 4935 @ 78960 updates\r\n",
      "[2021-06-06 22:48:48,324][fairseq.trainer][INFO] - Saving checkpoint to /kaggle/working/checkpoint_last.pt\r\n"
     ]
    },
    {
     "name": "stdout",
     "output_type": "stream",
     "text": [
      "[2021-06-06 22:48:48,373][fairseq.trainer][INFO] - Finished saving checkpoint to /kaggle/working/checkpoint_last.pt\r\n",
      "[2021-06-06 22:48:48,374][fairseq.checkpoint_utils][INFO] - Saved checkpoint /kaggle/working/checkpoint_last.pt (epoch 4935 @ 78960 updates, score 74.8212622590274) (writing took 0.05057835700063151 seconds)\r\n",
      "[2021-06-06 22:48:48,374][fairseq_cli.train][INFO] - end of epoch 4935 (average epoch stats below)\r\n",
      "[2021-06-06 22:48:48,377][train][INFO] - {\"epoch\": 4935, \"train_loss\": \"3.306\", \"train_ntokens\": \"145.688\", \"train_nsentences\": \"145.688\", \"train_temp\": \"0.1\", \"train_code_ppl\": \"8.878\", \"train_loss_code_pen\": \"0.35\", \"train_loss_smoothness\": \"2.128\", \"train_loss_dense_g\": \"4.262\", \"train_lm_score_sum\": 0.0, \"train_num_pred_chars\": 0.0, \"train_loss_grad_pen\": \"0.066\", \"train_loss_dense_d\": \"0.025\", \"train_loss_token_d\": \"0.024\", \"train_wps\": \"10.9\", \"train_ups\": \"0.07\", \"train_wpb\": \"145.7\", \"train_bsz\": \"145.7\", \"train_num_updates\": \"78960\", \"train_lr_discriminator\": \"0.0005\", \"train_lr_generator\": \"0.0004\", \"train_gnorm\": \"28.644\", \"train_clip\": \"62.5\", \"train_train_wall\": \"211\", \"train_wall\": \"4841\"}\r\n"
     ]
    },
    {
     "name": "stdout",
     "output_type": "stream",
     "text": [
      "[2021-06-06 22:48:48,437][fairseq.trainer][INFO] - begin training epoch 4936\r\n",
      "[2021-06-06 22:48:48,438][fairseq_cli.train][INFO] - Start iterating over samples\r\n"
     ]
    },
    {
     "name": "stdout",
     "output_type": "stream",
     "text": [
      "[2021-06-06 22:52:21,952][fairseq_cli.train][INFO] - begin validation on \"valid\" subset\r\n"
     ]
    },
    {
     "name": "stdout",
     "output_type": "stream",
     "text": [
      "[2021-06-06 22:52:24,448][fairseq.tasks.unpaired_audio_text][INFO] - REF: ɛ n f œ ʂ ə n a d ɵ ʂ ə k t f øː r d eː t s ɔ m h ɛ n d ə p oː ɕ œ r k ɔ n s ɛ t ə n\r\n",
      "[2021-06-06 22:52:24,450][fairseq.tasks.unpaired_audio_text][INFO] - HYP: n ɛ s j œ r œ j œ b j uː œ j k uː f ɵ v j m b n ə m ɔ k b ə uː s eː r n v oː n l ɪ ŋ k l ɪ l s ɔ k m k n t n\r\n",
      "[2021-06-06 22:52:24,455][fairseq.tasks.unpaired_audio_text][INFO] - LM [REF]: -53.44462585449219, 0.05339602260269112\r\n",
      "[2021-06-06 22:52:24,455][fairseq.tasks.unpaired_audio_text][INFO] - LM [HYP]: -97.46415710449219, 0.01448950801828043\r\n"
     ]
    },
    {
     "name": "stdout",
     "output_type": "stream",
     "text": [
      "[2021-06-06 22:52:24,958][valid][INFO] - {\"epoch\": 4936, \"valid_loss\": \"1.005\", \"valid_ntokens\": \"3039.79\", \"valid_nsentences\": \"144.214\", \"valid_lm_score_sum\": \"-90042.9\", \"valid_num_pred_chars\": \"48549\", \"valid_vocab_seen_pct\": \"0.89547\", \"valid_uer\": \"100.543\", \"valid_weighted_lm_ppl\": \"75.2535\", \"valid_lm_ppl\": \"60.3433\", \"valid_wps\": \"18248.9\", \"valid_wpb\": \"3039.8\", \"valid_bsz\": \"144.2\", \"valid_num_updates\": \"78976\", \"valid_best_weighted_lm_ppl\": \"73.4256\"}\r\n",
      "[2021-06-06 22:52:24,962][fairseq.checkpoint_utils][INFO] - Preparing to save checkpoint for epoch 4936 @ 78976 updates\r\n",
      "[2021-06-06 22:52:24,963][fairseq.trainer][INFO] - Saving checkpoint to /kaggle/working/checkpoint_last.pt\r\n"
     ]
    },
    {
     "name": "stdout",
     "output_type": "stream",
     "text": [
      "[2021-06-06 22:52:25,011][fairseq.trainer][INFO] - Finished saving checkpoint to /kaggle/working/checkpoint_last.pt\r\n",
      "[2021-06-06 22:52:25,011][fairseq.checkpoint_utils][INFO] - Saved checkpoint /kaggle/working/checkpoint_last.pt (epoch 4936 @ 78976 updates, score 75.25349705951183) (writing took 0.04954312900008517 seconds)\r\n",
      "[2021-06-06 22:52:25,011][fairseq_cli.train][INFO] - end of epoch 4936 (average epoch stats below)\r\n",
      "[2021-06-06 22:52:25,015][train][INFO] - {\"epoch\": 4936, \"train_loss\": \"3.219\", \"train_ntokens\": \"145.688\", \"train_nsentences\": \"145.688\", \"train_temp\": \"0.1\", \"train_code_ppl\": \"8.732\", \"train_loss_code_pen\": \"0.306\", \"train_loss_smoothness\": \"2.008\", \"train_loss_dense_g\": \"4.244\", \"train_lm_score_sum\": 0.0, \"train_num_pred_chars\": 0.0, \"train_loss_grad_pen\": \"0.069\", \"train_loss_dense_d\": \"0.023\", \"train_loss_token_d\": \"0.024\", \"train_wps\": \"10.8\", \"train_ups\": \"0.07\", \"train_wpb\": \"145.7\", \"train_bsz\": \"145.7\", \"train_num_updates\": \"78976\", \"train_lr_discriminator\": \"0.0005\", \"train_lr_generator\": \"0.0004\", \"train_gnorm\": \"29.377\", \"train_clip\": \"68.8\", \"train_train_wall\": \"213\", \"train_wall\": \"5057\"}\r\n"
     ]
    },
    {
     "name": "stdout",
     "output_type": "stream",
     "text": [
      "[2021-06-06 22:52:25,070][fairseq.trainer][INFO] - begin training epoch 4937\r\n",
      "[2021-06-06 22:52:25,072][fairseq_cli.train][INFO] - Start iterating over samples\r\n"
     ]
    },
    {
     "name": "stdout",
     "output_type": "stream",
     "text": [
      "[2021-06-06 22:56:02,826][fairseq_cli.train][INFO] - begin validation on \"valid\" subset\r\n"
     ]
    },
    {
     "name": "stdout",
     "output_type": "stream",
     "text": [
      "[2021-06-06 22:56:05,332][fairseq.tasks.unpaired_audio_text][INFO] - REF: ɛ n f œ ʂ ə n a d ɵ ʂ ə k t f øː r d eː t s ɔ m h ɛ n d ə p oː ɕ œ r k ɔ n s ɛ t ə n\r\n",
      "[2021-06-06 22:56:05,335][fairseq.tasks.unpaired_audio_text][INFO] - HYP: t ɛ s j œ r œ j œ b j uː œ j yː k uː f ɵ v b ə m ɔ k ə uː s eː r n b oː s l ɪ ŋ k l ɪ l s ɔ m t n t a\r\n",
      "[2021-06-06 22:56:05,339][fairseq.tasks.unpaired_audio_text][INFO] - LM [REF]: -53.44462585449219, 0.05339602260269112\r\n",
      "[2021-06-06 22:56:05,339][fairseq.tasks.unpaired_audio_text][INFO] - LM [HYP]: -87.0262680053711, 0.016747643750711475\r\n"
     ]
    },
    {
     "name": "stdout",
     "output_type": "stream",
     "text": [
      "[2021-06-06 22:56:05,846][valid][INFO] - {\"epoch\": 4937, \"valid_loss\": \"1.003\", \"valid_ntokens\": \"3039.79\", \"valid_nsentences\": \"144.214\", \"valid_lm_score_sum\": \"-89668.4\", \"valid_num_pred_chars\": \"48383\", \"valid_vocab_seen_pct\": \"0.890244\", \"valid_uer\": \"100.268\", \"valid_weighted_lm_ppl\": \"75.866\", \"valid_lm_ppl\": \"60.1264\", \"valid_wps\": \"18011.6\", \"valid_wpb\": \"3039.8\", \"valid_bsz\": \"144.2\", \"valid_num_updates\": \"78992\", \"valid_best_weighted_lm_ppl\": \"73.4256\"}\r\n"
     ]
    },
    {
     "name": "stdout",
     "output_type": "stream",
     "text": [
      "[2021-06-06 22:56:05,849][fairseq.checkpoint_utils][INFO] - Preparing to save checkpoint for epoch 4937 @ 78992 updates\r\n",
      "[2021-06-06 22:56:05,851][fairseq.trainer][INFO] - Saving checkpoint to /kaggle/working/checkpoint_last.pt\r\n",
      "[2021-06-06 22:56:05,899][fairseq.trainer][INFO] - Finished saving checkpoint to /kaggle/working/checkpoint_last.pt\r\n"
     ]
    },
    {
     "name": "stdout",
     "output_type": "stream",
     "text": [
      "[2021-06-06 22:56:05,899][fairseq.checkpoint_utils][INFO] - Saved checkpoint /kaggle/working/checkpoint_last.pt (epoch 4937 @ 78992 updates, score 75.865961252459) (writing took 0.05058003599970107 seconds)\r\n",
      "[2021-06-06 22:56:05,900][fairseq_cli.train][INFO] - end of epoch 4937 (average epoch stats below)\r\n",
      "[2021-06-06 22:56:05,904][train][INFO] - {\"epoch\": 4937, \"train_loss\": \"3.021\", \"train_ntokens\": \"145.688\", \"train_nsentences\": \"145.688\", \"train_temp\": \"0.1\", \"train_code_ppl\": \"8.837\", \"train_loss_code_pen\": \"0.316\", \"train_loss_smoothness\": \"2.045\", \"train_loss_dense_g\": \"4.178\", \"train_lm_score_sum\": 0.0, \"train_num_pred_chars\": 0.0, \"train_loss_grad_pen\": \"0.088\", \"train_loss_dense_d\": \"0.022\", \"train_loss_token_d\": \"0.023\", \"train_wps\": \"10.6\", \"train_ups\": \"0.07\", \"train_wpb\": \"145.7\", \"train_bsz\": \"145.7\", \"train_num_updates\": \"78992\", \"train_lr_discriminator\": \"0.0005\", \"train_lr_generator\": \"0.0004\", \"train_gnorm\": \"29.839\", \"train_clip\": \"68.8\", \"train_train_wall\": \"217\", \"train_wall\": \"5278\"}\r\n"
     ]
    },
    {
     "name": "stdout",
     "output_type": "stream",
     "text": [
      "[2021-06-06 22:56:05,964][fairseq.trainer][INFO] - begin training epoch 4938\r\n",
      "[2021-06-06 22:56:05,965][fairseq_cli.train][INFO] - Start iterating over samples\r\n"
     ]
    },
    {
     "name": "stdout",
     "output_type": "stream",
     "text": [
      "[2021-06-06 22:58:00,107][train_inner][INFO] - {\"epoch\": 4938, \"update\": 4937.5, \"loss\": \"3.207\", \"ntokens\": \"146.26\", \"nsentences\": \"146.26\", \"temp\": \"0.1\", \"code_ppl\": \"8.837\", \"loss_code_pen\": \"0.326\", \"loss_smoothness\": \"2.066\", \"loss_dense_g\": \"4.263\", \"lm_score_sum\": 0.0, \"num_pred_chars\": 0.0, \"loss_grad_pen\": \"0.068\", \"loss_dense_d\": \"0.024\", \"loss_token_d\": \"0.024\", \"wps\": \"10.7\", \"ups\": \"0.07\", \"wpb\": \"146.3\", \"bsz\": \"146.3\", \"num_updates\": \"79000\", \"lr_discriminator\": \"0.0005\", \"lr_generator\": \"0.0004\", \"gnorm\": \"28.895\", \"clip\": \"64\", \"train_wall\": \"1346\", \"wall\": \"5392\"}\r\n"
     ]
    },
    {
     "name": "stdout",
     "output_type": "stream",
     "text": [
      "[2021-06-06 22:59:24,133][fairseq_cli.train][INFO] - begin validation on \"valid\" subset\r\n"
     ]
    },
    {
     "name": "stdout",
     "output_type": "stream",
     "text": [
      "[2021-06-06 22:59:26,603][fairseq.tasks.unpaired_audio_text][INFO] - REF: ɛ n f œ ʂ ə n a d ɵ ʂ ə k t f øː r d eː t s ɔ m h ɛ n d ə p oː ɕ œ r k ɔ n s ɛ t ə n\r\n",
      "[2021-06-06 22:59:26,606][fairseq.tasks.unpaired_audio_text][INFO] - HYP: n ɛ s j œ f œ j œ b j uː œ yː k uː f ɵ v j m b n ə m ɔ k b ə uː s eː r n b oː s l ɪ ŋ k l ɪ l s d m t n t a\r\n",
      "[2021-06-06 22:59:26,610][fairseq.tasks.unpaired_audio_text][INFO] - LM [REF]: -53.44462585449219, 0.05339602260269112\r\n",
      "[2021-06-06 22:59:26,611][fairseq.tasks.unpaired_audio_text][INFO] - LM [HYP]: -95.04537200927734, 0.014866351068358648\r\n"
     ]
    },
    {
     "name": "stdout",
     "output_type": "stream",
     "text": [
      "[2021-06-06 22:59:27,134][valid][INFO] - {\"epoch\": 4938, \"valid_loss\": \"1.006\", \"valid_ntokens\": \"3039.79\", \"valid_nsentences\": \"144.214\", \"valid_lm_score_sum\": \"-89893\", \"valid_num_pred_chars\": \"48556\", \"valid_vocab_seen_pct\": \"0.898955\", \"valid_uer\": \"100.599\", \"valid_weighted_lm_ppl\": \"74.1216\", \"valid_lm_ppl\": \"59.8991\", \"valid_wps\": \"18206.1\", \"valid_wpb\": \"3039.8\", \"valid_bsz\": \"144.2\", \"valid_num_updates\": \"79008\", \"valid_best_weighted_lm_ppl\": \"73.4256\"}\r\n",
      "[2021-06-06 22:59:27,138][fairseq.checkpoint_utils][INFO] - Preparing to save checkpoint for epoch 4938 @ 79008 updates\r\n",
      "[2021-06-06 22:59:27,140][fairseq.trainer][INFO] - Saving checkpoint to /kaggle/working/checkpoint_last.pt\r\n"
     ]
    },
    {
     "name": "stdout",
     "output_type": "stream",
     "text": [
      "[2021-06-06 22:59:27,198][fairseq.trainer][INFO] - Finished saving checkpoint to /kaggle/working/checkpoint_last.pt\r\n",
      "[2021-06-06 22:59:27,198][fairseq.checkpoint_utils][INFO] - Saved checkpoint /kaggle/working/checkpoint_last.pt (epoch 4938 @ 79008 updates, score 74.12164062828765) (writing took 0.05999582599997666 seconds)\r\n",
      "[2021-06-06 22:59:27,199][fairseq_cli.train][INFO] - end of epoch 4938 (average epoch stats below)\r\n",
      "[2021-06-06 22:59:27,203][train][INFO] - {\"epoch\": 4938, \"train_loss\": \"3.548\", \"train_ntokens\": \"145.688\", \"train_nsentences\": \"145.688\", \"train_temp\": \"0.1\", \"train_code_ppl\": \"8.702\", \"train_loss_code_pen\": \"0.33\", \"train_loss_smoothness\": \"2.067\", \"train_loss_dense_g\": \"4.308\", \"train_lm_score_sum\": 0.0, \"train_num_pred_chars\": 0.0, \"train_loss_grad_pen\": \"0.096\", \"train_loss_dense_d\": \"0.026\", \"train_loss_token_d\": \"0.03\", \"train_wps\": \"11.6\", \"train_ups\": \"0.08\", \"train_wpb\": \"145.7\", \"train_bsz\": \"145.7\", \"train_num_updates\": \"79008\", \"train_lr_discriminator\": \"0.0005\", \"train_lr_generator\": \"0.0004\", \"train_gnorm\": \"32.667\", \"train_clip\": \"81.2\", \"train_train_wall\": \"198\", \"train_wall\": \"5480\"}\r\n"
     ]
    },
    {
     "name": "stdout",
     "output_type": "stream",
     "text": [
      "[2021-06-06 22:59:27,263][fairseq.trainer][INFO] - begin training epoch 4939\r\n",
      "[2021-06-06 22:59:27,264][fairseq_cli.train][INFO] - Start iterating over samples\r\n"
     ]
    },
    {
     "name": "stdout",
     "output_type": "stream",
     "text": [
      "[2021-06-06 23:02:50,538][fairseq_cli.train][INFO] - begin validation on \"valid\" subset\r\n"
     ]
    },
    {
     "name": "stdout",
     "output_type": "stream",
     "text": [
      "[2021-06-06 23:02:53,024][fairseq.tasks.unpaired_audio_text][INFO] - REF: ɛ n f œ ʂ ə n a d ɵ ʂ ə k t f øː r d eː t s ɔ m h ɛ n d ə p oː ɕ œ r k ɔ n s ɛ t ə n\r\n",
      "[2021-06-06 23:02:53,027][fairseq.tasks.unpaired_audio_text][INFO] - HYP: t ɛ s j œ f œ j œ b j uː œ yː k yː uː f ɵ v j m b ə m ɔ k ə uː s eː r n v oː s l ɪ ŋ k l ɪ l s ɔ m t n t a\r\n",
      "[2021-06-06 23:02:53,031][fairseq.tasks.unpaired_audio_text][INFO] - LM [REF]: -53.44462585449219, 0.05339602260269112\r\n",
      "[2021-06-06 23:02:53,032][fairseq.tasks.unpaired_audio_text][INFO] - LM [HYP]: -94.6053466796875, 0.013963465050645833\r\n"
     ]
    },
    {
     "name": "stdout",
     "output_type": "stream",
     "text": [
      "[2021-06-06 23:02:53,541][valid][INFO] - {\"epoch\": 4939, \"valid_loss\": \"1.007\", \"valid_ntokens\": \"3039.79\", \"valid_nsentences\": \"144.214\", \"valid_lm_score_sum\": \"-90056.3\", \"valid_num_pred_chars\": \"48661\", \"valid_vocab_seen_pct\": \"0.893728\", \"valid_uer\": \"100.75\", \"valid_weighted_lm_ppl\": \"74.9113\", \"valid_lm_ppl\": \"59.8354\", \"valid_wps\": \"18096.9\", \"valid_wpb\": \"3039.8\", \"valid_bsz\": \"144.2\", \"valid_num_updates\": \"79024\", \"valid_best_weighted_lm_ppl\": \"73.4256\"}\r\n",
      "[2021-06-06 23:02:53,544][fairseq.checkpoint_utils][INFO] - Preparing to save checkpoint for epoch 4939 @ 79024 updates\r\n"
     ]
    },
    {
     "name": "stdout",
     "output_type": "stream",
     "text": [
      "[2021-06-06 23:02:53,545][fairseq.trainer][INFO] - Saving checkpoint to /kaggle/working/checkpoint_last.pt\r\n",
      "[2021-06-06 23:02:53,595][fairseq.trainer][INFO] - Finished saving checkpoint to /kaggle/working/checkpoint_last.pt\r\n"
     ]
    },
    {
     "name": "stdout",
     "output_type": "stream",
     "text": [
      "[2021-06-06 23:02:53,595][fairseq.checkpoint_utils][INFO] - Saved checkpoint /kaggle/working/checkpoint_last.pt (epoch 4939 @ 79024 updates, score 74.91133554123806) (writing took 0.05172967999988032 seconds)\r\n",
      "[2021-06-06 23:02:53,596][fairseq_cli.train][INFO] - end of epoch 4939 (average epoch stats below)\r\n",
      "[2021-06-06 23:02:53,598][train][INFO] - {\"epoch\": 4939, \"train_loss\": \"3.383\", \"train_ntokens\": \"145.688\", \"train_nsentences\": \"145.688\", \"train_temp\": \"0.1\", \"train_code_ppl\": \"8.785\", \"train_loss_code_pen\": \"0.311\", \"train_loss_smoothness\": \"2.025\", \"train_loss_dense_g\": \"4.087\", \"train_lm_score_sum\": 0.0, \"train_num_pred_chars\": 0.0, \"train_loss_grad_pen\": \"0.062\", \"train_loss_dense_d\": \"0.024\", \"train_loss_token_d\": \"0.025\", \"train_wps\": \"11.3\", \"train_ups\": \"0.08\", \"train_wpb\": \"145.7\", \"train_bsz\": \"145.7\", \"train_num_updates\": \"79024\", \"train_lr_discriminator\": \"0.0005\", \"train_lr_generator\": \"0.0004\", \"train_gnorm\": \"29.268\", \"train_clip\": \"75\", \"train_train_wall\": \"203\", \"train_wall\": \"5686\"}\r\n"
     ]
    },
    {
     "name": "stdout",
     "output_type": "stream",
     "text": [
      "[2021-06-06 23:02:53,657][fairseq.trainer][INFO] - begin training epoch 4940\r\n",
      "[2021-06-06 23:02:53,658][fairseq_cli.train][INFO] - Start iterating over samples\r\n"
     ]
    },
    {
     "name": "stdout",
     "output_type": "stream",
     "text": [
      "[2021-06-06 23:06:37,107][fairseq_cli.train][INFO] - begin validation on \"valid\" subset\r\n"
     ]
    },
    {
     "name": "stdout",
     "output_type": "stream",
     "text": [
      "[2021-06-06 23:06:39,588][fairseq.tasks.unpaired_audio_text][INFO] - REF: ɛ n f œ ʂ ə n a d ɵ ʂ ə k t f øː r d eː t s ɔ m h ɛ n d ə p oː ɕ œ r k ɔ n s ɛ t ə n\r\n",
      "[2021-06-06 23:06:39,591][fairseq.tasks.unpaired_audio_text][INFO] - HYP: t ɛ s j œ f œ j œ b j uː œ yː k uː ɵ v j yː b n ə m ɔ k ə uː s eː r n b oː s l ɪ ŋ k l ɪ l s ɔ m t n t a\r\n",
      "[2021-06-06 23:06:39,595][fairseq.tasks.unpaired_audio_text][INFO] - LM [REF]: -53.44462585449219, 0.05339602260269112\r\n",
      "[2021-06-06 23:06:39,595][fairseq.tasks.unpaired_audio_text][INFO] - LM [HYP]: -92.05949401855469, 0.014414849738503164\r\n"
     ]
    },
    {
     "name": "stdout",
     "output_type": "stream",
     "text": [
      "[2021-06-06 23:06:40,109][valid][INFO] - {\"epoch\": 4940, \"valid_loss\": \"1.008\", \"valid_ntokens\": \"3039.79\", \"valid_nsentences\": \"144.214\", \"valid_lm_score_sum\": \"-90124.8\", \"valid_num_pred_chars\": \"48713\", \"valid_vocab_seen_pct\": \"0.891986\", \"valid_uer\": \"100.754\", \"valid_weighted_lm_ppl\": \"75.1228\", \"valid_lm_ppl\": \"59.7707\", \"valid_wps\": \"18065.7\", \"valid_wpb\": \"3039.8\", \"valid_bsz\": \"144.2\", \"valid_num_updates\": \"79040\", \"valid_best_weighted_lm_ppl\": \"73.4256\"}\r\n",
      "[2021-06-06 23:06:40,112][fairseq.checkpoint_utils][INFO] - Preparing to save checkpoint for epoch 4940 @ 79040 updates\r\n",
      "[2021-06-06 23:06:40,113][fairseq.trainer][INFO] - Saving checkpoint to /kaggle/working/checkpoint_last.pt\r\n"
     ]
    },
    {
     "name": "stdout",
     "output_type": "stream",
     "text": [
      "[2021-06-06 23:06:40,160][fairseq.trainer][INFO] - Finished saving checkpoint to /kaggle/working/checkpoint_last.pt\r\n",
      "[2021-06-06 23:06:40,160][fairseq.checkpoint_utils][INFO] - Saved checkpoint /kaggle/working/checkpoint_last.pt (epoch 4940 @ 79040 updates, score 75.12282785598144) (writing took 0.04816602800019609 seconds)\r\n",
      "[2021-06-06 23:06:40,160][fairseq_cli.train][INFO] - end of epoch 4940 (average epoch stats below)\r\n",
      "[2021-06-06 23:06:40,163][train][INFO] - {\"epoch\": 4940, \"train_loss\": \"3.011\", \"train_ntokens\": \"145.688\", \"train_nsentences\": \"145.688\", \"train_temp\": \"0.1\", \"train_code_ppl\": \"8.76\", \"train_loss_code_pen\": \"0.323\", \"train_loss_smoothness\": \"2.064\", \"train_loss_dense_g\": \"4.123\", \"train_lm_score_sum\": 0.0, \"train_num_pred_chars\": 0.0, \"train_loss_grad_pen\": \"0.087\", \"train_loss_dense_d\": \"0.026\", \"train_loss_token_d\": \"0.024\", \"train_wps\": \"10.3\", \"train_ups\": \"0.07\", \"train_wpb\": \"145.7\", \"train_bsz\": \"145.7\", \"train_num_updates\": \"79040\", \"train_lr_discriminator\": \"0.0005\", \"train_lr_generator\": \"0.0004\", \"train_gnorm\": \"29.244\", \"train_clip\": \"62.5\", \"train_train_wall\": \"223\", \"train_wall\": \"5913\"}\r\n"
     ]
    },
    {
     "name": "stdout",
     "output_type": "stream",
     "text": [
      "[2021-06-06 23:06:40,222][fairseq.trainer][INFO] - begin training epoch 4941\r\n",
      "[2021-06-06 23:06:40,224][fairseq_cli.train][INFO] - Start iterating over samples\r\n"
     ]
    },
    {
     "name": "stdout",
     "output_type": "stream",
     "text": [
      "[2021-06-06 23:09:50,545][fairseq_cli.train][INFO] - begin validation on \"valid\" subset\r\n"
     ]
    },
    {
     "name": "stdout",
     "output_type": "stream",
     "text": [
      "[2021-06-06 23:09:52,994][fairseq.tasks.unpaired_audio_text][INFO] - REF: ɛ n f œ ʂ ə n a d ɵ ʂ ə k t f øː r d eː t s ɔ m h ɛ n d ə p oː ɕ œ r k ɔ n s ɛ t ə n\r\n",
      "[2021-06-06 23:09:52,997][fairseq.tasks.unpaired_audio_text][INFO] - HYP: t ɛ s j œ f œ j œ b j uː œ yː k uː ɵ j m b n ə m ɔ k b ə uː s eː r n v oː s l ɪ ŋ k l ɪ l s ɔ m t n ə a\r\n",
      "[2021-06-06 23:09:53,001][fairseq.tasks.unpaired_audio_text][INFO] - LM [REF]: -53.44462585449219, 0.05339602260269112\r\n",
      "[2021-06-06 23:09:53,002][fairseq.tasks.unpaired_audio_text][INFO] - LM [HYP]: -90.2472915649414, 0.015669465000918315\r\n"
     ]
    },
    {
     "name": "stdout",
     "output_type": "stream",
     "text": [
      "[2021-06-06 23:09:53,513][valid][INFO] - {\"epoch\": 4941, \"valid_loss\": \"1.005\", \"valid_ntokens\": \"3039.79\", \"valid_nsentences\": \"144.214\", \"valid_lm_score_sum\": \"-89875.3\", \"valid_num_pred_chars\": \"48510\", \"valid_vocab_seen_pct\": \"0.891986\", \"valid_uer\": \"100.536\", \"valid_weighted_lm_ppl\": \"75.5044\", \"valid_lm_ppl\": \"60.0742\", \"valid_wps\": \"18231.1\", \"valid_wpb\": \"3039.8\", \"valid_bsz\": \"144.2\", \"valid_num_updates\": \"79056\", \"valid_best_weighted_lm_ppl\": \"73.4256\"}\r\n",
      "[2021-06-06 23:09:53,516][fairseq.checkpoint_utils][INFO] - Preparing to save checkpoint for epoch 4941 @ 79056 updates\r\n",
      "[2021-06-06 23:09:53,517][fairseq.trainer][INFO] - Saving checkpoint to /kaggle/working/checkpoint_last.pt\r\n"
     ]
    },
    {
     "name": "stdout",
     "output_type": "stream",
     "text": [
      "[2021-06-06 23:09:53,563][fairseq.trainer][INFO] - Finished saving checkpoint to /kaggle/working/checkpoint_last.pt\r\n",
      "[2021-06-06 23:09:53,564][fairseq.checkpoint_utils][INFO] - Saved checkpoint /kaggle/working/checkpoint_last.pt (epoch 4941 @ 79056 updates, score 75.5043561719527) (writing took 0.047845695999967575 seconds)\r\n",
      "[2021-06-06 23:09:53,564][fairseq_cli.train][INFO] - end of epoch 4941 (average epoch stats below)\r\n",
      "[2021-06-06 23:09:53,567][train][INFO] - {\"epoch\": 4941, \"train_loss\": \"3.847\", \"train_ntokens\": \"145.688\", \"train_nsentences\": \"145.688\", \"train_temp\": \"0.1\", \"train_code_ppl\": \"8.879\", \"train_loss_code_pen\": \"0.338\", \"train_loss_smoothness\": \"2.126\", \"train_loss_dense_g\": \"4.415\", \"train_lm_score_sum\": 0.0, \"train_num_pred_chars\": 0.0, \"train_loss_grad_pen\": \"0.092\", \"train_loss_dense_d\": \"0.024\", \"train_loss_token_d\": \"0.037\", \"train_wps\": \"12.1\", \"train_ups\": \"0.08\", \"train_wpb\": \"145.7\", \"train_bsz\": \"145.7\", \"train_num_updates\": \"79056\", \"train_lr_discriminator\": \"0.0005\", \"train_lr_generator\": \"0.0004\", \"train_gnorm\": \"35.077\", \"train_clip\": \"81.2\", \"train_train_wall\": \"190\", \"train_wall\": \"6106\"}\r\n"
     ]
    },
    {
     "name": "stdout",
     "output_type": "stream",
     "text": [
      "[2021-06-06 23:09:53,625][fairseq.trainer][INFO] - begin training epoch 4942\r\n",
      "[2021-06-06 23:09:53,627][fairseq_cli.train][INFO] - Start iterating over samples\r\n"
     ]
    },
    {
     "name": "stdout",
     "output_type": "stream",
     "text": [
      "[2021-06-06 23:13:09,528][fairseq_cli.train][INFO] - begin validation on \"valid\" subset\r\n"
     ]
    },
    {
     "name": "stdout",
     "output_type": "stream",
     "text": [
      "[2021-06-06 23:13:12,006][fairseq.tasks.unpaired_audio_text][INFO] - REF: ɛ n f œ ʂ ə n a d ɵ ʂ ə k t f øː r d eː t s ɔ m h ɛ n d ə p oː ɕ œ r k ɔ n s ɛ t ə n\r\n",
      "[2021-06-06 23:13:12,009][fairseq.tasks.unpaired_audio_text][INFO] - HYP: t ɛ s j œ r œ j œ b j uː œ yː k uː ɵ j m b n ə m ɔ k ə uː s eː r n v oː s l ɪ ŋ k l ɪ l s ɔ m t n ə n\r\n",
      "[2021-06-06 23:13:12,014][fairseq.tasks.unpaired_audio_text][INFO] - LM [REF]: -53.44462585449219, 0.05339602260269112\r\n",
      "[2021-06-06 23:13:12,014][fairseq.tasks.unpaired_audio_text][INFO] - LM [HYP]: -87.92977905273438, 0.016051466370026565\r\n"
     ]
    },
    {
     "name": "stdout",
     "output_type": "stream",
     "text": [
      "[2021-06-06 23:13:12,591][valid][INFO] - {\"epoch\": 4942, \"valid_loss\": \"1.007\", \"valid_ntokens\": \"3039.79\", \"valid_nsentences\": \"144.214\", \"valid_lm_score_sum\": \"-90197.4\", \"valid_num_pred_chars\": \"48686\", \"valid_vocab_seen_pct\": \"0.891986\", \"valid_uer\": \"100.71\", \"valid_weighted_lm_ppl\": \"75.5354\", \"valid_lm_ppl\": \"60.0989\", \"valid_wps\": \"17618.4\", \"valid_wpb\": \"3039.8\", \"valid_bsz\": \"144.2\", \"valid_num_updates\": \"79072\", \"valid_best_weighted_lm_ppl\": \"73.4256\"}\r\n",
      "[2021-06-06 23:13:12,594][fairseq.checkpoint_utils][INFO] - Preparing to save checkpoint for epoch 4942 @ 79072 updates\r\n",
      "[2021-06-06 23:13:12,596][fairseq.trainer][INFO] - Saving checkpoint to /kaggle/working/checkpoint_last.pt\r\n"
     ]
    },
    {
     "name": "stdout",
     "output_type": "stream",
     "text": [
      "[2021-06-06 23:13:12,647][fairseq.trainer][INFO] - Finished saving checkpoint to /kaggle/working/checkpoint_last.pt\r\n",
      "[2021-06-06 23:13:12,647][fairseq.checkpoint_utils][INFO] - Saved checkpoint /kaggle/working/checkpoint_last.pt (epoch 4942 @ 79072 updates, score 75.53536468093967) (writing took 0.05274840200036124 seconds)\r\n",
      "[2021-06-06 23:13:12,648][fairseq_cli.train][INFO] - end of epoch 4942 (average epoch stats below)\r\n"
     ]
    },
    {
     "name": "stdout",
     "output_type": "stream",
     "text": [
      "[2021-06-06 23:13:12,651][train][INFO] - {\"epoch\": 4942, \"train_loss\": \"3.656\", \"train_ntokens\": \"145.688\", \"train_nsentences\": \"145.688\", \"train_temp\": \"0.1\", \"train_code_ppl\": \"8.862\", \"train_loss_code_pen\": \"0.321\", \"train_loss_smoothness\": \"2.09\", \"train_loss_dense_g\": \"4.158\", \"train_lm_score_sum\": 0.0, \"train_num_pred_chars\": 0.0, \"train_loss_grad_pen\": \"0.052\", \"train_loss_dense_d\": \"0.029\", \"train_loss_token_d\": \"0.027\", \"train_wps\": \"11.7\", \"train_ups\": \"0.08\", \"train_wpb\": \"145.7\", \"train_bsz\": \"145.7\", \"train_num_updates\": \"79072\", \"train_lr_discriminator\": \"0.0005\", \"train_lr_generator\": \"0.0004\", \"train_gnorm\": \"29.456\", \"train_clip\": \"68.8\", \"train_train_wall\": \"195\", \"train_wall\": \"6305\"}\r\n"
     ]
    },
    {
     "name": "stdout",
     "output_type": "stream",
     "text": [
      "[2021-06-06 23:13:12,707][fairseq.trainer][INFO] - begin training epoch 4943\r\n",
      "[2021-06-06 23:13:12,709][fairseq_cli.train][INFO] - Start iterating over samples\r\n"
     ]
    },
    {
     "name": "stdout",
     "output_type": "stream",
     "text": [
      "[2021-06-06 23:16:49,225][fairseq_cli.train][INFO] - begin validation on \"valid\" subset\r\n"
     ]
    },
    {
     "name": "stdout",
     "output_type": "stream",
     "text": [
      "[2021-06-06 23:16:51,950][fairseq.tasks.unpaired_audio_text][INFO] - REF: ɛ n f œ ʂ ə n a d ɵ ʂ ə k t f øː r d eː t s ɔ m h ɛ n d ə p oː ɕ œ r k ɔ n s ɛ t ə n\r\n",
      "[2021-06-06 23:16:51,952][fairseq.tasks.unpaired_audio_text][INFO] - HYP: t ɛ s j œ r œ j œ b j uː œ yː k uː ɵ v j m b n ə m ɔ k ə uː s eː r n v oː s l ɪ ŋ k l ɪ l s ɔ m t n t a\r\n",
      "[2021-06-06 23:16:51,956][fairseq.tasks.unpaired_audio_text][INFO] - LM [REF]: -53.44462585449219, 0.05339602260269112\r\n",
      "[2021-06-06 23:16:51,957][fairseq.tasks.unpaired_audio_text][INFO] - LM [HYP]: -91.34534454345703, 0.014896804185902153\r\n"
     ]
    },
    {
     "name": "stdout",
     "output_type": "stream",
     "text": [
      "[2021-06-06 23:16:52,508][valid][INFO] - {\"epoch\": 4943, \"valid_loss\": \"1.003\", \"valid_ntokens\": \"3039.79\", \"valid_nsentences\": \"144.214\", \"valid_lm_score_sum\": \"-89777.4\", \"valid_num_pred_chars\": \"48427\", \"valid_vocab_seen_pct\": \"0.893728\", \"valid_uer\": \"100.343\", \"valid_weighted_lm_ppl\": \"75.381\", \"valid_lm_ppl\": \"60.2106\", \"valid_wps\": \"17657.2\", \"valid_wpb\": \"3039.8\", \"valid_bsz\": \"144.2\", \"valid_num_updates\": \"79088\", \"valid_best_weighted_lm_ppl\": \"73.4256\"}\r\n",
      "[2021-06-06 23:16:52,511][fairseq.checkpoint_utils][INFO] - Preparing to save checkpoint for epoch 4943 @ 79088 updates\r\n",
      "[2021-06-06 23:16:52,513][fairseq.trainer][INFO] - Saving checkpoint to /kaggle/working/checkpoint_last.pt\r\n"
     ]
    },
    {
     "name": "stdout",
     "output_type": "stream",
     "text": [
      "[2021-06-06 23:16:52,561][fairseq.trainer][INFO] - Finished saving checkpoint to /kaggle/working/checkpoint_last.pt\r\n",
      "[2021-06-06 23:16:52,561][fairseq.checkpoint_utils][INFO] - Saved checkpoint /kaggle/working/checkpoint_last.pt (epoch 4943 @ 79088 updates, score 75.38100740137972) (writing took 0.04933428200001799 seconds)\r\n",
      "[2021-06-06 23:16:52,561][fairseq_cli.train][INFO] - end of epoch 4943 (average epoch stats below)\r\n",
      "[2021-06-06 23:16:52,565][train][INFO] - {\"epoch\": 4943, \"train_loss\": \"3.221\", \"train_ntokens\": \"145.688\", \"train_nsentences\": \"145.688\", \"train_temp\": \"0.1\", \"train_code_ppl\": \"8.917\", \"train_loss_code_pen\": \"0.324\", \"train_loss_smoothness\": \"2.091\", \"train_loss_dense_g\": \"4.135\", \"train_lm_score_sum\": 0.0, \"train_num_pred_chars\": 0.0, \"train_loss_grad_pen\": \"0.076\", \"train_loss_dense_d\": \"0.025\", \"train_loss_token_d\": \"0.025\", \"train_wps\": \"10.6\", \"train_ups\": \"0.07\", \"train_wpb\": \"145.7\", \"train_bsz\": \"145.7\", \"train_num_updates\": \"79088\", \"train_lr_discriminator\": \"0.0005\", \"train_lr_generator\": \"0.0004\", \"train_gnorm\": \"29.503\", \"train_clip\": \"75\", \"train_train_wall\": \"216\", \"train_wall\": \"6525\"}\r\n"
     ]
    },
    {
     "name": "stdout",
     "output_type": "stream",
     "text": [
      "[2021-06-06 23:16:52,627][fairseq.trainer][INFO] - begin training epoch 4944\r\n",
      "[2021-06-06 23:16:52,629][fairseq_cli.train][INFO] - Start iterating over samples\r\n"
     ]
    },
    {
     "name": "stdout",
     "output_type": "stream",
     "text": [
      "[2021-06-06 23:19:28,989][train_inner][INFO] - {\"epoch\": 4944, \"update\": 4943.75, \"loss\": \"3.46\", \"ntokens\": \"144.69\", \"nsentences\": \"144.69\", \"temp\": \"0.1\", \"code_ppl\": \"8.845\", \"loss_code_pen\": \"0.322\", \"loss_smoothness\": \"2.07\", \"loss_dense_g\": \"4.191\", \"lm_score_sum\": 0.0, \"num_pred_chars\": 0.0, \"loss_grad_pen\": \"0.074\", \"loss_dense_d\": \"0.025\", \"loss_token_d\": \"0.028\", \"wps\": \"11.2\", \"ups\": \"0.08\", \"wpb\": \"144.7\", \"bsz\": \"144.7\", \"num_updates\": \"79100\", \"lr_discriminator\": \"0.0005\", \"lr_generator\": \"0.0004\", \"gnorm\": \"30.857\", \"clip\": \"72\", \"train_wall\": \"1267\", \"wall\": \"6681\"}\r\n"
     ]
    },
    {
     "name": "stdout",
     "output_type": "stream",
     "text": [
      "[2021-06-06 23:20:22,371][fairseq_cli.train][INFO] - begin validation on \"valid\" subset\r\n"
     ]
    },
    {
     "name": "stdout",
     "output_type": "stream",
     "text": [
      "[2021-06-06 23:20:24,847][fairseq.tasks.unpaired_audio_text][INFO] - REF: ɛ n f œ ʂ ə n a d ɵ ʂ ə k t f øː r d eː t s ɔ m h ɛ n d ə p oː ɕ œ r k ɔ n s ɛ t ə n\r\n",
      "[2021-06-06 23:20:24,849][fairseq.tasks.unpaired_audio_text][INFO] - HYP: t ɛ s j œ f œ j œ b j uː œ yː k uː ɵ v j m b n ə m ɔ k ə uː s eː r n v oː s l ɪ ŋ k l ɪ l s ɔ m t n a\r\n",
      "[2021-06-06 23:20:24,853][fairseq.tasks.unpaired_audio_text][INFO] - LM [REF]: -53.44462585449219, 0.05339602260269112\r\n",
      "[2021-06-06 23:20:24,853][fairseq.tasks.unpaired_audio_text][INFO] - LM [HYP]: -89.75061798095703, 0.014735155899192567\r\n"
     ]
    },
    {
     "name": "stdout",
     "output_type": "stream",
     "text": [
      "[2021-06-06 23:20:25,360][valid][INFO] - {\"epoch\": 4944, \"valid_loss\": \"1.005\", \"valid_ntokens\": \"3039.79\", \"valid_nsentences\": \"144.214\", \"valid_lm_score_sum\": \"-89818.5\", \"valid_num_pred_chars\": \"48563\", \"valid_vocab_seen_pct\": \"0.893728\", \"valid_uer\": \"100.461\", \"valid_weighted_lm_ppl\": \"74.6946\", \"valid_lm_ppl\": \"59.6623\", \"valid_wps\": \"18310.7\", \"valid_wpb\": \"3039.8\", \"valid_bsz\": \"144.2\", \"valid_num_updates\": \"79104\", \"valid_best_weighted_lm_ppl\": \"73.4256\"}\r\n",
      "[2021-06-06 23:20:25,364][fairseq.checkpoint_utils][INFO] - Preparing to save checkpoint for epoch 4944 @ 79104 updates\r\n",
      "[2021-06-06 23:20:25,365][fairseq.trainer][INFO] - Saving checkpoint to /kaggle/working/checkpoint_last.pt\r\n"
     ]
    },
    {
     "name": "stdout",
     "output_type": "stream",
     "text": [
      "[2021-06-06 23:20:25,411][fairseq.trainer][INFO] - Finished saving checkpoint to /kaggle/working/checkpoint_last.pt\r\n",
      "[2021-06-06 23:20:25,411][fairseq.checkpoint_utils][INFO] - Saved checkpoint /kaggle/working/checkpoint_last.pt (epoch 4944 @ 79104 updates, score 74.69456677229009) (writing took 0.04726874500011036 seconds)\r\n",
      "[2021-06-06 23:20:25,411][fairseq_cli.train][INFO] - end of epoch 4944 (average epoch stats below)\r\n",
      "[2021-06-06 23:20:25,414][train][INFO] - {\"epoch\": 4944, \"train_loss\": \"3.414\", \"train_ntokens\": \"145.688\", \"train_nsentences\": \"145.688\", \"train_temp\": \"0.1\", \"train_code_ppl\": \"8.842\", \"train_loss_code_pen\": \"0.32\", \"train_loss_smoothness\": \"2.058\", \"train_loss_dense_g\": \"4.117\", \"train_lm_score_sum\": 0.0, \"train_num_pred_chars\": 0.0, \"train_loss_grad_pen\": \"0.051\", \"train_loss_dense_d\": \"0.024\", \"train_loss_token_d\": \"0.023\", \"train_wps\": \"11\", \"train_ups\": \"0.08\", \"train_wpb\": \"145.7\", \"train_bsz\": \"145.7\", \"train_num_updates\": \"79104\", \"train_lr_discriminator\": \"0.0005\", \"train_lr_generator\": \"0.0004\", \"train_gnorm\": \"29.73\", \"train_clip\": \"56.2\", \"train_train_wall\": \"209\", \"train_wall\": \"6738\"}\r\n"
     ]
    },
    {
     "name": "stdout",
     "output_type": "stream",
     "text": [
      "[2021-06-06 23:20:25,472][fairseq.trainer][INFO] - begin training epoch 4945\r\n",
      "[2021-06-06 23:20:25,473][fairseq_cli.train][INFO] - Start iterating over samples\r\n"
     ]
    },
    {
     "name": "stdout",
     "output_type": "stream",
     "text": [
      "[2021-06-06 23:23:38,891][fairseq_cli.train][INFO] - begin validation on \"valid\" subset\r\n"
     ]
    },
    {
     "name": "stdout",
     "output_type": "stream",
     "text": [
      "[2021-06-06 23:23:41,395][fairseq.tasks.unpaired_audio_text][INFO] - REF: ɛ n f œ ʂ ə n a d ɵ ʂ ə k t f øː r d eː t s ɔ m h ɛ n d ə p oː ɕ œ r k ɔ n s ɛ t ə n\r\n",
      "[2021-06-06 23:23:41,397][fairseq.tasks.unpaired_audio_text][INFO] - HYP: t ɛ s j œ f œ j œ b j uː œ yː k yː uː ɵ v j m b ə m ɔ k ə uː s eː r n v oː s l ɪ ŋ k l ɪ l s ɔ m t n a\r\n",
      "[2021-06-06 23:23:41,402][fairseq.tasks.unpaired_audio_text][INFO] - LM [REF]: -53.44462585449219, 0.05339602260269112\r\n",
      "[2021-06-06 23:23:41,402][fairseq.tasks.unpaired_audio_text][INFO] - LM [HYP]: -90.8990249633789, 0.013961042780397646\r\n"
     ]
    },
    {
     "name": "stdout",
     "output_type": "stream",
     "text": [
      "[2021-06-06 23:23:41,932][valid][INFO] - {\"epoch\": 4945, \"valid_loss\": \"1.006\", \"valid_ntokens\": \"3039.79\", \"valid_nsentences\": \"144.214\", \"valid_lm_score_sum\": \"-90111.1\", \"valid_num_pred_chars\": \"48662\", \"valid_vocab_seen_pct\": \"0.891986\", \"valid_uer\": \"100.573\", \"valid_weighted_lm_ppl\": \"75.3859\", \"valid_lm_ppl\": \"59.98\", \"valid_wps\": \"18234.5\", \"valid_wpb\": \"3039.8\", \"valid_bsz\": \"144.2\", \"valid_num_updates\": \"79120\", \"valid_best_weighted_lm_ppl\": \"73.4256\"}\r\n",
      "[2021-06-06 23:23:41,935][fairseq.checkpoint_utils][INFO] - Preparing to save checkpoint for epoch 4945 @ 79120 updates\r\n",
      "[2021-06-06 23:23:41,936][fairseq.trainer][INFO] - Saving checkpoint to /kaggle/working/checkpoint_last.pt\r\n"
     ]
    },
    {
     "name": "stdout",
     "output_type": "stream",
     "text": [
      "[2021-06-06 23:23:41,989][fairseq.trainer][INFO] - Finished saving checkpoint to /kaggle/working/checkpoint_last.pt\r\n",
      "[2021-06-06 23:23:41,989][fairseq.checkpoint_utils][INFO] - Saved checkpoint /kaggle/working/checkpoint_last.pt (epoch 4945 @ 79120 updates, score 75.38590210370094) (writing took 0.05403728799956298 seconds)\r\n",
      "[2021-06-06 23:23:41,989][fairseq_cli.train][INFO] - end of epoch 4945 (average epoch stats below)\r\n"
     ]
    },
    {
     "name": "stdout",
     "output_type": "stream",
     "text": [
      "[2021-06-06 23:23:41,994][train][INFO] - {\"epoch\": 4945, \"train_loss\": \"3.768\", \"train_ntokens\": \"145.688\", \"train_nsentences\": \"145.688\", \"train_temp\": \"0.1\", \"train_code_ppl\": \"8.843\", \"train_loss_code_pen\": \"0.337\", \"train_loss_smoothness\": \"2.112\", \"train_loss_dense_g\": \"4.265\", \"train_lm_score_sum\": 0.0, \"train_num_pred_chars\": 0.0, \"train_loss_grad_pen\": \"0.132\", \"train_loss_dense_d\": \"0.025\", \"train_loss_token_d\": \"0.023\", \"train_wps\": \"11.9\", \"train_ups\": \"0.08\", \"train_wpb\": \"145.7\", \"train_bsz\": \"145.7\", \"train_num_updates\": \"79120\", \"train_lr_discriminator\": \"0.0005\", \"train_lr_generator\": \"0.0004\", \"train_gnorm\": \"31.332\", \"train_clip\": \"87.5\", \"train_train_wall\": \"193\", \"train_wall\": \"6934\"}\r\n"
     ]
    },
    {
     "name": "stdout",
     "output_type": "stream",
     "text": [
      "[2021-06-06 23:23:42,057][fairseq.trainer][INFO] - begin training epoch 4946\r\n",
      "[2021-06-06 23:23:42,058][fairseq_cli.train][INFO] - Start iterating over samples\r\n"
     ]
    },
    {
     "name": "stdout",
     "output_type": "stream",
     "text": [
      "[2021-06-06 23:27:04,364][fairseq_cli.train][INFO] - begin validation on \"valid\" subset\r\n"
     ]
    },
    {
     "name": "stdout",
     "output_type": "stream",
     "text": [
      "[2021-06-06 23:27:07,062][fairseq.tasks.unpaired_audio_text][INFO] - REF: ɛ n f œ ʂ ə n a d ɵ ʂ ə k t f øː r d eː t s ɔ m h ɛ n d ə p oː ɕ œ r k ɔ n s ɛ t ə n\r\n",
      "[2021-06-06 23:27:07,064][fairseq.tasks.unpaired_audio_text][INFO] - HYP: t ɵ ɛ s j œ f œ j œ b j uː œ yː k ɵ uː ɵ v m b n ə m ɔ k ə uː s eː r n v oː s l ɪ ŋ k l ɪ l s ɔ m t n t a\r\n",
      "[2021-06-06 23:27:07,069][fairseq.tasks.unpaired_audio_text][INFO] - LM [REF]: -53.44462585449219, 0.05339602260269112\r\n",
      "[2021-06-06 23:27:07,069][fairseq.tasks.unpaired_audio_text][INFO] - LM [HYP]: -94.88408660888672, 0.013788839406203188\r\n"
     ]
    },
    {
     "name": "stdout",
     "output_type": "stream",
     "text": [
      "[2021-06-06 23:27:07,585][valid][INFO] - {\"epoch\": 4946, \"valid_loss\": \"1.007\", \"valid_ntokens\": \"3039.79\", \"valid_nsentences\": \"144.214\", \"valid_lm_score_sum\": \"-90058.3\", \"valid_num_pred_chars\": \"48714\", \"valid_vocab_seen_pct\": \"0.897213\", \"valid_uer\": \"100.719\", \"valid_weighted_lm_ppl\": \"74.0204\", \"valid_lm_ppl\": \"59.5857\", \"valid_wps\": \"18208\", \"valid_wpb\": \"3039.8\", \"valid_bsz\": \"144.2\", \"valid_num_updates\": \"79136\", \"valid_best_weighted_lm_ppl\": \"73.4256\"}\r\n",
      "[2021-06-06 23:27:07,588][fairseq.checkpoint_utils][INFO] - Preparing to save checkpoint for epoch 4946 @ 79136 updates\r\n",
      "[2021-06-06 23:27:07,590][fairseq.trainer][INFO] - Saving checkpoint to /kaggle/working/checkpoint_last.pt\r\n"
     ]
    },
    {
     "name": "stdout",
     "output_type": "stream",
     "text": [
      "[2021-06-06 23:27:07,637][fairseq.trainer][INFO] - Finished saving checkpoint to /kaggle/working/checkpoint_last.pt\r\n",
      "[2021-06-06 23:27:07,637][fairseq.checkpoint_utils][INFO] - Saved checkpoint /kaggle/working/checkpoint_last.pt (epoch 4946 @ 79136 updates, score 74.02041981676423) (writing took 0.049066310999478446 seconds)\r\n",
      "[2021-06-06 23:27:07,638][fairseq_cli.train][INFO] - end of epoch 4946 (average epoch stats below)\r\n",
      "[2021-06-06 23:27:07,641][train][INFO] - {\"epoch\": 4946, \"train_loss\": \"3.634\", \"train_ntokens\": \"145.688\", \"train_nsentences\": \"145.688\", \"train_temp\": \"0.1\", \"train_code_ppl\": \"8.706\", \"train_loss_code_pen\": \"0.328\", \"train_loss_smoothness\": \"2.087\", \"train_loss_dense_g\": \"4.092\", \"train_lm_score_sum\": 0.0, \"train_num_pred_chars\": 0.0, \"train_loss_grad_pen\": \"0.086\", \"train_loss_dense_d\": \"0.027\", \"train_loss_token_d\": \"0.021\", \"train_wps\": \"11.3\", \"train_ups\": \"0.08\", \"train_wpb\": \"145.7\", \"train_bsz\": \"145.7\", \"train_num_updates\": \"79136\", \"train_lr_discriminator\": \"0.0005\", \"train_lr_generator\": \"0.0004\", \"train_gnorm\": \"30.307\", \"train_clip\": \"81.2\", \"train_train_wall\": \"202\", \"train_wall\": \"7140\"}\r\n"
     ]
    },
    {
     "name": "stdout",
     "output_type": "stream",
     "text": [
      "[2021-06-06 23:27:07,695][fairseq.trainer][INFO] - begin training epoch 4947\r\n",
      "[2021-06-06 23:27:07,697][fairseq_cli.train][INFO] - Start iterating over samples\r\n"
     ]
    },
    {
     "name": "stdout",
     "output_type": "stream",
     "text": [
      "[2021-06-06 23:30:20,907][fairseq_cli.train][INFO] - begin validation on \"valid\" subset\r\n"
     ]
    },
    {
     "name": "stdout",
     "output_type": "stream",
     "text": [
      "[2021-06-06 23:30:23,377][fairseq.tasks.unpaired_audio_text][INFO] - REF: ɛ n f œ ʂ ə n a d ɵ ʂ ə k t f øː r d eː t s ɔ m h ɛ n d ə p oː ɕ œ r k ɔ n s ɛ t ə n\r\n",
      "[2021-06-06 23:30:23,380][fairseq.tasks.unpaired_audio_text][INFO] - HYP: t ɛ s j œ f œ b j uː œ yː k uː ɵ øː b n ə m ɔ k ə uː s eː r n v oː s l ɪ ŋ k l ɪ l s ɔ m t n t a\r\n",
      "[2021-06-06 23:30:23,384][fairseq.tasks.unpaired_audio_text][INFO] - LM [REF]: -53.44462585449219, 0.05339602260269112\r\n",
      "[2021-06-06 23:30:23,384][fairseq.tasks.unpaired_audio_text][INFO] - LM [HYP]: -84.10345458984375, 0.014847865699571207\r\n"
     ]
    },
    {
     "name": "stdout",
     "output_type": "stream",
     "text": [
      "[2021-06-06 23:30:23,899][valid][INFO] - {\"epoch\": 4947, \"valid_loss\": \"1.009\", \"valid_ntokens\": \"3039.79\", \"valid_nsentences\": \"144.214\", \"valid_lm_score_sum\": \"-90152.4\", \"valid_num_pred_chars\": \"48729\", \"valid_vocab_seen_pct\": \"0.89547\", \"valid_uer\": \"100.872\", \"valid_weighted_lm_ppl\": \"74.5368\", \"valid_lm_ppl\": \"59.7686\", \"valid_wps\": \"18268.8\", \"valid_wpb\": \"3039.8\", \"valid_bsz\": \"144.2\", \"valid_num_updates\": \"79152\", \"valid_best_weighted_lm_ppl\": \"73.4256\"}\r\n",
      "[2021-06-06 23:30:23,902][fairseq.checkpoint_utils][INFO] - Preparing to save checkpoint for epoch 4947 @ 79152 updates\r\n",
      "[2021-06-06 23:30:23,903][fairseq.trainer][INFO] - Saving checkpoint to /kaggle/working/checkpoint_last.pt\r\n"
     ]
    },
    {
     "name": "stdout",
     "output_type": "stream",
     "text": [
      "[2021-06-06 23:30:23,950][fairseq.trainer][INFO] - Finished saving checkpoint to /kaggle/working/checkpoint_last.pt\r\n",
      "[2021-06-06 23:30:23,950][fairseq.checkpoint_utils][INFO] - Saved checkpoint /kaggle/working/checkpoint_last.pt (epoch 4947 @ 79152 updates, score 74.53675400155072) (writing took 0.048281047999807924 seconds)\r\n",
      "[2021-06-06 23:30:23,951][fairseq_cli.train][INFO] - end of epoch 4947 (average epoch stats below)\r\n",
      "[2021-06-06 23:30:23,953][train][INFO] - {\"epoch\": 4947, \"train_loss\": \"3.805\", \"train_ntokens\": \"145.688\", \"train_nsentences\": \"145.688\", \"train_temp\": \"0.1\", \"train_code_ppl\": \"8.833\", \"train_loss_code_pen\": \"0.338\", \"train_loss_smoothness\": \"2.143\", \"train_loss_dense_g\": \"4.293\", \"train_lm_score_sum\": 0.0, \"train_num_pred_chars\": 0.0, \"train_loss_grad_pen\": \"0.135\", \"train_loss_dense_d\": \"0.021\", \"train_loss_token_d\": \"0.033\", \"train_wps\": \"11.9\", \"train_ups\": \"0.08\", \"train_wpb\": \"145.7\", \"train_bsz\": \"145.7\", \"train_num_updates\": \"79152\", \"train_lr_discriminator\": \"0.0005\", \"train_lr_generator\": \"0.0004\", \"train_gnorm\": \"34.229\", \"train_clip\": \"81.2\", \"train_train_wall\": \"193\", \"train_wall\": \"7336\"}\r\n"
     ]
    },
    {
     "name": "stdout",
     "output_type": "stream",
     "text": [
      "[2021-06-06 23:30:24,013][fairseq.trainer][INFO] - begin training epoch 4948\r\n",
      "[2021-06-06 23:30:24,014][fairseq_cli.train][INFO] - Start iterating over samples\r\n"
     ]
    },
    {
     "name": "stdout",
     "output_type": "stream",
     "text": [
      "[2021-06-06 23:33:44,863][fairseq_cli.train][INFO] - begin validation on \"valid\" subset\r\n"
     ]
    },
    {
     "name": "stdout",
     "output_type": "stream",
     "text": [
      "[2021-06-06 23:33:47,498][fairseq.tasks.unpaired_audio_text][INFO] - REF: ɛ n f œ ʂ ə n a d ɵ ʂ ə k t f øː r d eː t s ɔ m h ɛ n d ə p oː ɕ œ r k ɔ n s ɛ t ə n\r\n",
      "[2021-06-06 23:33:47,500][fairseq.tasks.unpaired_audio_text][INFO] - HYP: n ɛ s j œ f œ b j uː œ yː k yː uː ɵ v b n ə m œ k ə uː s eː r n v oː s l ɪ ŋ k l ɪ l s ɔ m t n t a\r\n",
      "[2021-06-06 23:33:47,505][fairseq.tasks.unpaired_audio_text][INFO] - LM [REF]: -53.44462585449219, 0.05339602260269112\r\n",
      "[2021-06-06 23:33:47,505][fairseq.tasks.unpaired_audio_text][INFO] - LM [HYP]: -88.32711029052734, 0.013203825650022212\r\n"
     ]
    },
    {
     "name": "stdout",
     "output_type": "stream",
     "text": [
      "[2021-06-06 23:33:48,023][valid][INFO] - {\"epoch\": 4948, \"valid_loss\": \"1.005\", \"valid_ntokens\": \"3039.79\", \"valid_nsentences\": \"144.214\", \"valid_lm_score_sum\": \"-89838\", \"valid_num_pred_chars\": \"48514\", \"valid_vocab_seen_pct\": \"0.893728\", \"valid_uer\": \"100.451\", \"valid_weighted_lm_ppl\": \"75.0581\", \"valid_lm_ppl\": \"59.9527\", \"valid_wps\": \"16924.3\", \"valid_wpb\": \"3039.8\", \"valid_bsz\": \"144.2\", \"valid_num_updates\": \"79168\", \"valid_best_weighted_lm_ppl\": \"73.4256\"}\r\n",
      "[2021-06-06 23:33:48,026][fairseq.checkpoint_utils][INFO] - Preparing to save checkpoint for epoch 4948 @ 79168 updates\r\n",
      "[2021-06-06 23:33:48,027][fairseq.trainer][INFO] - Saving checkpoint to /kaggle/working/checkpoint_last.pt\r\n"
     ]
    },
    {
     "name": "stdout",
     "output_type": "stream",
     "text": [
      "[2021-06-06 23:33:48,075][fairseq.trainer][INFO] - Finished saving checkpoint to /kaggle/working/checkpoint_last.pt\r\n",
      "[2021-06-06 23:33:48,075][fairseq.checkpoint_utils][INFO] - Saved checkpoint /kaggle/working/checkpoint_last.pt (epoch 4948 @ 79168 updates, score 75.05808124867856) (writing took 0.049316111999360146 seconds)\r\n",
      "[2021-06-06 23:33:48,076][fairseq_cli.train][INFO] - end of epoch 4948 (average epoch stats below)\r\n",
      "[2021-06-06 23:33:48,079][train][INFO] - {\"epoch\": 4948, \"train_loss\": \"3.603\", \"train_ntokens\": \"145.688\", \"train_nsentences\": \"145.688\", \"train_temp\": \"0.1\", \"train_code_ppl\": \"8.886\", \"train_loss_code_pen\": \"0.325\", \"train_loss_smoothness\": \"2.09\", \"train_loss_dense_g\": \"4.031\", \"train_lm_score_sum\": 0.0, \"train_num_pred_chars\": 0.0, \"train_loss_grad_pen\": \"0.072\", \"train_loss_dense_d\": \"0.036\", \"train_loss_token_d\": \"0.032\", \"train_wps\": \"11.4\", \"train_ups\": \"0.08\", \"train_wpb\": \"145.7\", \"train_bsz\": \"145.7\", \"train_num_updates\": \"79168\", \"train_lr_discriminator\": \"0.0005\", \"train_lr_generator\": \"0.0004\", \"train_gnorm\": \"31.425\", \"train_clip\": \"75\", \"train_train_wall\": \"200\", \"train_wall\": \"7540\"}\r\n"
     ]
    },
    {
     "name": "stdout",
     "output_type": "stream",
     "text": [
      "[2021-06-06 23:33:48,140][fairseq.trainer][INFO] - begin training epoch 4949\r\n",
      "[2021-06-06 23:33:48,141][fairseq_cli.train][INFO] - Start iterating over samples\r\n"
     ]
    },
    {
     "name": "stdout",
     "output_type": "stream",
     "text": [
      "[2021-06-06 23:37:15,278][fairseq_cli.train][INFO] - begin validation on \"valid\" subset\r\n"
     ]
    },
    {
     "name": "stdout",
     "output_type": "stream",
     "text": [
      "[2021-06-06 23:37:17,740][fairseq.tasks.unpaired_audio_text][INFO] - REF: ɛ n f œ ʂ ə n a d ɵ ʂ ə k t f øː r d eː t s ɔ m h ɛ n d ə p oː ɕ œ r k ɔ n s ɛ t ə n\r\n",
      "[2021-06-06 23:37:17,743][fairseq.tasks.unpaired_audio_text][INFO] - HYP: t ɡ ɛ s j œ f œ b j uː œ yː k yː uː ɵ v b n ə m ɔ k ə uː s eː r n v oː s l ɪ ŋ k l ɪ l s ɔ m t n t a\r\n",
      "[2021-06-06 23:37:17,747][fairseq.tasks.unpaired_audio_text][INFO] - LM [REF]: -53.44462585449219, 0.05339602260269112\r\n",
      "[2021-06-06 23:37:17,748][fairseq.tasks.unpaired_audio_text][INFO] - LM [HYP]: -89.89984130859375, 0.013399439723519573\r\n"
     ]
    },
    {
     "name": "stdout",
     "output_type": "stream",
     "text": [
      "[2021-06-06 23:37:18,284][valid][INFO] - {\"epoch\": 4949, \"valid_loss\": \"1.006\", \"valid_ntokens\": \"3039.79\", \"valid_nsentences\": \"144.214\", \"valid_lm_score_sum\": \"-89900.6\", \"valid_num_pred_chars\": \"48541\", \"valid_vocab_seen_pct\": \"0.89547\", \"valid_uer\": \"100.566\", \"valid_weighted_lm_ppl\": \"74.8162\", \"valid_lm_ppl\": \"59.9927\", \"valid_wps\": \"18191.6\", \"valid_wpb\": \"3039.8\", \"valid_bsz\": \"144.2\", \"valid_num_updates\": \"79184\", \"valid_best_weighted_lm_ppl\": \"73.4256\"}\r\n",
      "[2021-06-06 23:37:18,287][fairseq.checkpoint_utils][INFO] - Preparing to save checkpoint for epoch 4949 @ 79184 updates\r\n",
      "[2021-06-06 23:37:18,288][fairseq.trainer][INFO] - Saving checkpoint to /kaggle/working/checkpoint_last.pt\r\n"
     ]
    },
    {
     "name": "stdout",
     "output_type": "stream",
     "text": [
      "[2021-06-06 23:37:18,336][fairseq.trainer][INFO] - Finished saving checkpoint to /kaggle/working/checkpoint_last.pt\r\n",
      "[2021-06-06 23:37:18,337][fairseq.checkpoint_utils][INFO] - Saved checkpoint /kaggle/working/checkpoint_last.pt (epoch 4949 @ 79184 updates, score 74.81619214709303) (writing took 0.049498447000587475 seconds)\r\n",
      "[2021-06-06 23:37:18,337][fairseq_cli.train][INFO] - end of epoch 4949 (average epoch stats below)\r\n",
      "[2021-06-06 23:37:18,340][train][INFO] - {\"epoch\": 4949, \"train_loss\": \"3.159\", \"train_ntokens\": \"145.688\", \"train_nsentences\": \"145.688\", \"train_temp\": \"0.1\", \"train_code_ppl\": \"8.842\", \"train_loss_code_pen\": \"0.325\", \"train_loss_smoothness\": \"2.071\", \"train_loss_dense_g\": \"4.034\", \"train_lm_score_sum\": 0.0, \"train_num_pred_chars\": 0.0, \"train_loss_grad_pen\": \"0.064\", \"train_loss_dense_d\": \"0.026\", \"train_loss_token_d\": \"0.028\", \"train_wps\": \"11.1\", \"train_ups\": \"0.08\", \"train_wpb\": \"145.7\", \"train_bsz\": \"145.7\", \"train_num_updates\": \"79184\", \"train_lr_discriminator\": \"0.0005\", \"train_lr_generator\": \"0.0004\", \"train_gnorm\": \"28.669\", \"train_clip\": \"62.5\", \"train_train_wall\": \"207\", \"train_wall\": \"7751\"}\r\n"
     ]
    },
    {
     "name": "stdout",
     "output_type": "stream",
     "text": [
      "[2021-06-06 23:37:18,402][fairseq.trainer][INFO] - begin training epoch 4950\r\n",
      "[2021-06-06 23:37:18,404][fairseq_cli.train][INFO] - Start iterating over samples\r\n"
     ]
    },
    {
     "name": "stdout",
     "output_type": "stream",
     "text": [
      "[2021-06-06 23:40:54,453][train_inner][INFO] - {\"epoch\": 4950, \"update\": 4950.0, \"loss\": \"3.489\", \"ntokens\": \"145.54\", \"nsentences\": \"145.54\", \"temp\": \"0.1\", \"code_ppl\": \"8.825\", \"loss_code_pen\": \"0.331\", \"loss_smoothness\": \"2.097\", \"loss_dense_g\": \"4.113\", \"lm_score_sum\": 0.0, \"num_pred_chars\": 0.0, \"loss_grad_pen\": \"0.087\", \"loss_dense_d\": \"0.027\", \"loss_token_d\": \"0.026\", \"wps\": \"11.3\", \"ups\": \"0.08\", \"wpb\": \"145.5\", \"bsz\": \"145.5\", \"num_updates\": \"79200\", \"lr_discriminator\": \"0.0005\", \"lr_generator\": \"0.0004\", \"gnorm\": \"30.73\", \"clip\": \"74\", \"train_wall\": \"1264\", \"wall\": \"7967\"}\r\n",
      "[2021-06-06 23:40:54,455][fairseq_cli.train][INFO] - begin validation on \"valid\" subset\r\n"
     ]
    },
    {
     "name": "stdout",
     "output_type": "stream",
     "text": [
      "[2021-06-06 23:40:56,888][fairseq.tasks.unpaired_audio_text][INFO] - REF: ɛ n f œ ʂ ə n a d ɵ ʂ ə k t f øː r d eː t s ɔ m h ɛ n d ə p oː ɕ œ r k ɔ n s ɛ t ə n\r\n",
      "[2021-06-06 23:40:56,890][fairseq.tasks.unpaired_audio_text][INFO] - HYP: t ɡ ɛ s j œ f œ b j œ yː k j uː ɵ v b n ə m ɔ k ə uː s eː r n v oː s l ɪ ŋ k l ɪ l s m t n t a\r\n",
      "[2021-06-06 23:40:56,894][fairseq.tasks.unpaired_audio_text][INFO] - LM [REF]: -53.44462585449219, 0.05339602260269112\r\n",
      "[2021-06-06 23:40:56,894][fairseq.tasks.unpaired_audio_text][INFO] - LM [HYP]: -86.11061096191406, 0.013428583267844409\r\n"
     ]
    },
    {
     "name": "stdout",
     "output_type": "stream",
     "text": [
      "[2021-06-06 23:40:57,406][valid][INFO] - {\"epoch\": 4950, \"valid_loss\": \"1.003\", \"valid_ntokens\": \"3039.79\", \"valid_nsentences\": \"144.214\", \"valid_lm_score_sum\": \"-90079.2\", \"valid_num_pred_chars\": \"48527\", \"valid_vocab_seen_pct\": \"0.89547\", \"valid_uer\": \"100.334\", \"valid_weighted_lm_ppl\": \"75.513\", \"valid_lm_ppl\": \"60.5514\", \"valid_wps\": \"18740.1\", \"valid_wpb\": \"3039.8\", \"valid_bsz\": \"144.2\", \"valid_num_updates\": \"79200\", \"valid_best_weighted_lm_ppl\": \"73.4256\"}\r\n",
      "[2021-06-06 23:40:57,409][fairseq.checkpoint_utils][INFO] - Preparing to save checkpoint for epoch 4950 @ 79200 updates\r\n",
      "[2021-06-06 23:40:57,410][fairseq.trainer][INFO] - Saving checkpoint to /kaggle/working/checkpoint_last.pt\r\n"
     ]
    },
    {
     "name": "stdout",
     "output_type": "stream",
     "text": [
      "[2021-06-06 23:40:57,455][fairseq.trainer][INFO] - Finished saving checkpoint to /kaggle/working/checkpoint_last.pt\r\n",
      "[2021-06-06 23:40:57,456][fairseq.checkpoint_utils][INFO] - Saved checkpoint /kaggle/working/checkpoint_last.pt (epoch 4950 @ 79200 updates, score 75.51299065281228) (writing took 0.0465207739998732 seconds)\r\n",
      "[2021-06-06 23:40:57,456][fairseq_cli.train][INFO] - end of epoch 4950 (average epoch stats below)\r\n",
      "[2021-06-06 23:40:57,459][train][INFO] - {\"epoch\": 4950, \"train_loss\": \"3.126\", \"train_ntokens\": \"145.688\", \"train_nsentences\": \"145.688\", \"train_temp\": \"0.1\", \"train_code_ppl\": \"8.805\", \"train_loss_code_pen\": \"0.329\", \"train_loss_smoothness\": \"2.073\", \"train_loss_dense_g\": \"3.982\", \"train_lm_score_sum\": 0.0, \"train_num_pred_chars\": 0.0, \"train_loss_grad_pen\": \"0.049\", \"train_loss_dense_d\": \"0.025\", \"train_loss_token_d\": \"0.023\", \"train_wps\": \"10.6\", \"train_ups\": \"0.07\", \"train_wpb\": \"145.7\", \"train_bsz\": \"145.7\", \"train_num_updates\": \"79200\", \"train_lr_discriminator\": \"0.0005\", \"train_lr_generator\": \"0.0004\", \"train_gnorm\": \"28.792\", \"train_clip\": \"62.5\", \"train_train_wall\": \"216\", \"train_wall\": \"7970\"}\r\n"
     ]
    },
    {
     "name": "stdout",
     "output_type": "stream",
     "text": [
      "[2021-06-06 23:40:57,517][fairseq.trainer][INFO] - begin training epoch 4951\r\n",
      "[2021-06-06 23:40:57,519][fairseq_cli.train][INFO] - Start iterating over samples\r\n"
     ]
    },
    {
     "name": "stdout",
     "output_type": "stream",
     "text": [
      "[2021-06-06 23:44:40,152][fairseq_cli.train][INFO] - begin validation on \"valid\" subset\r\n"
     ]
    },
    {
     "name": "stdout",
     "output_type": "stream",
     "text": [
      "[2021-06-06 23:44:42,599][fairseq.tasks.unpaired_audio_text][INFO] - REF: ɛ n f œ ʂ ə n a d ɵ ʂ ə k t f øː r d eː t s ɔ m h ɛ n d ə p oː ɕ œ r k ɔ n s ɛ t ə n\r\n",
      "[2021-06-06 23:44:42,602][fairseq.tasks.unpaired_audio_text][INFO] - HYP: n ɪ ɛ s j œ f œ j œ b j uː œ yː k uː ɵ v b n ə m œ k ə uː s eː r n v oː n l ɪ ŋ k l ɪ l a s m t n a\r\n",
      "[2021-06-06 23:44:42,606][fairseq.tasks.unpaired_audio_text][INFO] - LM [REF]: -53.44462585449219, 0.05339602260269112\r\n",
      "[2021-06-06 23:44:42,606][fairseq.tasks.unpaired_audio_text][INFO] - LM [HYP]: -89.33836364746094, 0.013765249599417148\r\n"
     ]
    },
    {
     "name": "stdout",
     "output_type": "stream",
     "text": [
      "[2021-06-06 23:44:43,119][valid][INFO] - {\"epoch\": 4951, \"valid_loss\": \"1.004\", \"valid_ntokens\": \"3039.79\", \"valid_nsentences\": \"144.214\", \"valid_lm_score_sum\": \"-89780.5\", \"valid_num_pred_chars\": \"48506\", \"valid_vocab_seen_pct\": \"0.89547\", \"valid_uer\": \"100.449\", \"valid_weighted_lm_ppl\": \"74.6189\", \"valid_lm_ppl\": \"59.8345\", \"valid_wps\": \"18429.4\", \"valid_wpb\": \"3039.8\", \"valid_bsz\": \"144.2\", \"valid_num_updates\": \"79216\", \"valid_best_weighted_lm_ppl\": \"73.4256\"}\r\n",
      "[2021-06-06 23:44:43,122][fairseq.checkpoint_utils][INFO] - Preparing to save checkpoint for epoch 4951 @ 79216 updates\r\n",
      "[2021-06-06 23:44:43,123][fairseq.trainer][INFO] - Saving checkpoint to /kaggle/working/checkpoint_last.pt\r\n"
     ]
    },
    {
     "name": "stdout",
     "output_type": "stream",
     "text": [
      "[2021-06-06 23:44:43,170][fairseq.trainer][INFO] - Finished saving checkpoint to /kaggle/working/checkpoint_last.pt\r\n",
      "[2021-06-06 23:44:43,170][fairseq.checkpoint_utils][INFO] - Saved checkpoint /kaggle/working/checkpoint_last.pt (epoch 4951 @ 79216 updates, score 74.61890664093917) (writing took 0.04822214300111227 seconds)\r\n",
      "[2021-06-06 23:44:43,171][fairseq_cli.train][INFO] - end of epoch 4951 (average epoch stats below)\r\n",
      "[2021-06-06 23:44:43,174][train][INFO] - {\"epoch\": 4951, \"train_loss\": \"2.932\", \"train_ntokens\": \"145.688\", \"train_nsentences\": \"145.688\", \"train_temp\": \"0.1\", \"train_code_ppl\": \"8.638\", \"train_loss_code_pen\": \"0.311\", \"train_loss_smoothness\": \"2.013\", \"train_loss_dense_g\": \"4.066\", \"train_lm_score_sum\": 0.0, \"train_num_pred_chars\": 0.0, \"train_loss_grad_pen\": \"0.043\", \"train_loss_dense_d\": \"0.025\", \"train_loss_token_d\": \"0.023\", \"train_wps\": \"10.3\", \"train_ups\": \"0.07\", \"train_wpb\": \"145.7\", \"train_bsz\": \"145.7\", \"train_num_updates\": \"79216\", \"train_lr_discriminator\": \"0.0005\", \"train_lr_generator\": \"0.0004\", \"train_gnorm\": \"28.707\", \"train_clip\": \"56.2\", \"train_train_wall\": \"222\", \"train_wall\": \"8196\"}\r\n"
     ]
    },
    {
     "name": "stdout",
     "output_type": "stream",
     "text": [
      "[2021-06-06 23:44:43,232][fairseq.trainer][INFO] - begin training epoch 4952\r\n",
      "[2021-06-06 23:44:43,233][fairseq_cli.train][INFO] - Start iterating over samples\r\n"
     ]
    },
    {
     "name": "stdout",
     "output_type": "stream",
     "text": [
      "[2021-06-06 23:48:06,928][fairseq_cli.train][INFO] - begin validation on \"valid\" subset\r\n"
     ]
    },
    {
     "name": "stdout",
     "output_type": "stream",
     "text": [
      "[2021-06-06 23:48:09,382][fairseq.tasks.unpaired_audio_text][INFO] - REF: ɛ n f œ ʂ ə n a d ɵ ʂ ə k t f øː r d eː t s ɔ m h ɛ n d ə p oː ɕ œ r k ɔ n s ɛ t ə n\r\n",
      "[2021-06-06 23:48:09,384][fairseq.tasks.unpaired_audio_text][INFO] - HYP: t ɪ ɛ s j œ f œ ʂ œ b j uː œ yː k yː uː ɵ v b n ə m œ k ə uː s eː r n v oː s l ɪ ŋ k l ɪ l a ɔ m t n ə a\r\n",
      "[2021-06-06 23:48:09,388][fairseq.tasks.unpaired_audio_text][INFO] - LM [REF]: -53.44462585449219, 0.05339602260269112\r\n",
      "[2021-06-06 23:48:09,389][fairseq.tasks.unpaired_audio_text][INFO] - LM [HYP]: -92.68329620361328, 0.014006643528702786\r\n"
     ]
    },
    {
     "name": "stdout",
     "output_type": "stream",
     "text": [
      "[2021-06-06 23:48:09,897][valid][INFO] - {\"epoch\": 4952, \"valid_loss\": \"1.007\", \"valid_ntokens\": \"3039.79\", \"valid_nsentences\": \"144.214\", \"valid_lm_score_sum\": \"-90082.3\", \"valid_num_pred_chars\": \"48617\", \"valid_vocab_seen_pct\": \"0.904181\", \"valid_uer\": \"100.71\", \"valid_weighted_lm_ppl\": \"73.5369\", \"valid_lm_ppl\": \"60.1197\", \"valid_wps\": \"18505.8\", \"valid_wpb\": \"3039.8\", \"valid_bsz\": \"144.2\", \"valid_num_updates\": \"79232\", \"valid_best_weighted_lm_ppl\": \"73.4256\"}\r\n",
      "[2021-06-06 23:48:09,900][fairseq.checkpoint_utils][INFO] - Preparing to save checkpoint for epoch 4952 @ 79232 updates\r\n",
      "[2021-06-06 23:48:09,901][fairseq.trainer][INFO] - Saving checkpoint to /kaggle/working/checkpoint_last.pt\r\n"
     ]
    },
    {
     "name": "stdout",
     "output_type": "stream",
     "text": [
      "[2021-06-06 23:48:09,946][fairseq.trainer][INFO] - Finished saving checkpoint to /kaggle/working/checkpoint_last.pt\r\n",
      "[2021-06-06 23:48:09,947][fairseq.checkpoint_utils][INFO] - Saved checkpoint /kaggle/working/checkpoint_last.pt (epoch 4952 @ 79232 updates, score 73.53693655104203) (writing took 0.04645235300085915 seconds)\r\n",
      "[2021-06-06 23:48:09,947][fairseq_cli.train][INFO] - end of epoch 4952 (average epoch stats below)\r\n",
      "[2021-06-06 23:48:09,950][train][INFO] - {\"epoch\": 4952, \"train_loss\": \"3.256\", \"train_ntokens\": \"145.688\", \"train_nsentences\": \"145.688\", \"train_temp\": \"0.1\", \"train_code_ppl\": \"8.711\", \"train_loss_code_pen\": \"0.345\", \"train_loss_smoothness\": \"2.122\", \"train_loss_dense_g\": \"4.147\", \"train_lm_score_sum\": 0.0, \"train_num_pred_chars\": 0.0, \"train_loss_grad_pen\": \"0.091\", \"train_loss_dense_d\": \"0.022\", \"train_loss_token_d\": \"0.021\", \"train_wps\": \"11.3\", \"train_ups\": \"0.08\", \"train_wpb\": \"145.7\", \"train_bsz\": \"145.7\", \"train_num_updates\": \"79232\", \"train_lr_discriminator\": \"0.0005\", \"train_lr_generator\": \"0.0004\", \"train_gnorm\": \"29.752\", \"train_clip\": \"75\", \"train_train_wall\": \"203\", \"train_wall\": \"8402\"}\r\n"
     ]
    },
    {
     "name": "stdout",
     "output_type": "stream",
     "text": [
      "[2021-06-06 23:48:10,009][fairseq.trainer][INFO] - begin training epoch 4953\r\n",
      "[2021-06-06 23:48:10,010][fairseq_cli.train][INFO] - Start iterating over samples\r\n"
     ]
    },
    {
     "name": "stdout",
     "output_type": "stream",
     "text": [
      "[2021-06-06 23:51:53,240][fairseq_cli.train][INFO] - begin validation on \"valid\" subset\r\n"
     ]
    },
    {
     "name": "stdout",
     "output_type": "stream",
     "text": [
      "[2021-06-06 23:51:55,707][fairseq.tasks.unpaired_audio_text][INFO] - REF: ɛ n f œ ʂ ə n a d ɵ ʂ ə k t f øː r d eː t s ɔ m h ɛ n d ə p oː ɕ œ r k ɔ n s ɛ t ə n\r\n",
      "[2021-06-06 23:51:55,709][fairseq.tasks.unpaired_audio_text][INFO] - HYP: n ɪ ɛ s j œ f œ b j œ yː k uː ɵ v j b n ə m ɔ k ə uː s eː r n v oː s l ɪ ŋ k l ɪ l a ɔ m t n a\r\n",
      "[2021-06-06 23:51:55,713][fairseq.tasks.unpaired_audio_text][INFO] - LM [REF]: -53.44462585449219, 0.05339602260269112\r\n",
      "[2021-06-06 23:51:55,714][fairseq.tasks.unpaired_audio_text][INFO] - LM [HYP]: -83.92577362060547, 0.0149805121242439\r\n"
     ]
    },
    {
     "name": "stdout",
     "output_type": "stream",
     "text": [
      "[2021-06-06 23:51:56,235][valid][INFO] - {\"epoch\": 4953, \"valid_loss\": \"1.006\", \"valid_ntokens\": \"3039.79\", \"valid_nsentences\": \"144.214\", \"valid_lm_score_sum\": \"-89842.3\", \"valid_num_pred_chars\": \"48560\", \"valid_vocab_seen_pct\": \"0.891986\", \"valid_uer\": \"100.562\", \"valid_weighted_lm_ppl\": \"75.0863\", \"valid_lm_ppl\": \"59.7416\", \"valid_wps\": \"18263.6\", \"valid_wpb\": \"3039.8\", \"valid_bsz\": \"144.2\", \"valid_num_updates\": \"79248\", \"valid_best_weighted_lm_ppl\": \"73.4256\"}\r\n",
      "[2021-06-06 23:51:56,238][fairseq.checkpoint_utils][INFO] - Preparing to save checkpoint for epoch 4953 @ 79248 updates\r\n",
      "[2021-06-06 23:51:56,239][fairseq.trainer][INFO] - Saving checkpoint to /kaggle/working/checkpoint_last.pt\r\n"
     ]
    },
    {
     "name": "stdout",
     "output_type": "stream",
     "text": [
      "[2021-06-06 23:51:56,286][fairseq.trainer][INFO] - Finished saving checkpoint to /kaggle/working/checkpoint_last.pt\r\n",
      "[2021-06-06 23:51:56,286][fairseq.checkpoint_utils][INFO] - Saved checkpoint /kaggle/working/checkpoint_last.pt (epoch 4953 @ 79248 updates, score 75.08630615092721) (writing took 0.048126607998710824 seconds)\r\n",
      "[2021-06-06 23:51:56,287][fairseq_cli.train][INFO] - end of epoch 4953 (average epoch stats below)\r\n",
      "[2021-06-06 23:51:56,290][train][INFO] - {\"epoch\": 4953, \"train_loss\": \"3.032\", \"train_ntokens\": \"145.688\", \"train_nsentences\": \"145.688\", \"train_temp\": \"0.1\", \"train_code_ppl\": \"8.477\", \"train_loss_code_pen\": \"0.313\", \"train_loss_smoothness\": \"2.016\", \"train_loss_dense_g\": \"4.21\", \"train_lm_score_sum\": 0.0, \"train_num_pred_chars\": 0.0, \"train_loss_grad_pen\": \"0.108\", \"train_loss_dense_d\": \"0.023\", \"train_loss_token_d\": \"0.022\", \"train_wps\": \"10.3\", \"train_ups\": \"0.07\", \"train_wpb\": \"145.7\", \"train_bsz\": \"145.7\", \"train_num_updates\": \"79248\", \"train_lr_discriminator\": \"0.0005\", \"train_lr_generator\": \"0.0004\", \"train_gnorm\": \"31.441\", \"train_clip\": \"93.8\", \"train_train_wall\": \"223\", \"train_wall\": \"8629\"}\r\n"
     ]
    },
    {
     "name": "stdout",
     "output_type": "stream",
     "text": [
      "[2021-06-06 23:51:56,351][fairseq.trainer][INFO] - begin training epoch 4954\r\n",
      "[2021-06-06 23:51:56,352][fairseq_cli.train][INFO] - Start iterating over samples\r\n"
     ]
    },
    {
     "name": "stdout",
     "output_type": "stream",
     "text": [
      "[2021-06-06 23:55:28,554][fairseq_cli.train][INFO] - begin validation on \"valid\" subset\r\n"
     ]
    },
    {
     "name": "stdout",
     "output_type": "stream",
     "text": [
      "[2021-06-06 23:55:31,033][fairseq.tasks.unpaired_audio_text][INFO] - REF: ɛ n f œ ʂ ə n a d ɵ ʂ ə k t f øː r d eː t s ɔ m h ɛ n d ə p oː ɕ œ r k ɔ n s ɛ t ə n\r\n",
      "[2021-06-06 23:55:31,036][fairseq.tasks.unpaired_audio_text][INFO] - HYP: n ɪ ɛ s j œ r œ j œ b j uː œ yː k uː ɵ øː j n ə m ɔ k ə uː s eː r n v oː s l ɪ ŋ k l ɪ l a s m t n a\r\n",
      "[2021-06-06 23:55:31,040][fairseq.tasks.unpaired_audio_text][INFO] - LM [REF]: -53.44462585449219, 0.05339602260269112\r\n",
      "[2021-06-06 23:55:31,040][fairseq.tasks.unpaired_audio_text][INFO] - LM [HYP]: -86.21934509277344, 0.01598687737939453\r\n"
     ]
    },
    {
     "name": "stdout",
     "output_type": "stream",
     "text": [
      "[2021-06-06 23:55:31,553][valid][INFO] - {\"epoch\": 4954, \"valid_loss\": \"1.006\", \"valid_ntokens\": \"3039.79\", \"valid_nsentences\": \"144.214\", \"valid_lm_score_sum\": \"-90030.4\", \"valid_num_pred_chars\": \"48709\", \"valid_vocab_seen_pct\": \"0.89547\", \"valid_uer\": \"100.58\", \"valid_weighted_lm_ppl\": \"74.2445\", \"valid_lm_ppl\": \"59.5342\", \"valid_wps\": \"18253.1\", \"valid_wpb\": \"3039.8\", \"valid_bsz\": \"144.2\", \"valid_num_updates\": \"79264\", \"valid_best_weighted_lm_ppl\": \"73.4256\"}\r\n",
      "[2021-06-06 23:55:31,556][fairseq.checkpoint_utils][INFO] - Preparing to save checkpoint for epoch 4954 @ 79264 updates\r\n",
      "[2021-06-06 23:55:31,557][fairseq.trainer][INFO] - Saving checkpoint to /kaggle/working/checkpoint_last.pt\r\n"
     ]
    },
    {
     "name": "stdout",
     "output_type": "stream",
     "text": [
      "[2021-06-06 23:55:31,603][fairseq.trainer][INFO] - Finished saving checkpoint to /kaggle/working/checkpoint_last.pt\r\n",
      "[2021-06-06 23:55:31,604][fairseq.checkpoint_utils][INFO] - Saved checkpoint /kaggle/working/checkpoint_last.pt (epoch 4954 @ 79264 updates, score 74.2444575032115) (writing took 0.04755384599957324 seconds)\r\n",
      "[2021-06-06 23:55:31,604][fairseq_cli.train][INFO] - end of epoch 4954 (average epoch stats below)\r\n",
      "[2021-06-06 23:55:31,608][train][INFO] - {\"epoch\": 4954, \"train_loss\": \"3.326\", \"train_ntokens\": \"145.688\", \"train_nsentences\": \"145.688\", \"train_temp\": \"0.1\", \"train_code_ppl\": \"8.745\", \"train_loss_code_pen\": \"0.316\", \"train_loss_smoothness\": \"2.048\", \"train_loss_dense_g\": \"4.418\", \"train_lm_score_sum\": 0.0, \"train_num_pred_chars\": 0.0, \"train_loss_grad_pen\": \"0.06\", \"train_loss_dense_d\": \"0.026\", \"train_loss_token_d\": \"0.026\", \"train_wps\": \"10.8\", \"train_ups\": \"0.07\", \"train_wpb\": \"145.7\", \"train_bsz\": \"145.7\", \"train_num_updates\": \"79264\", \"train_lr_discriminator\": \"0.0005\", \"train_lr_generator\": \"0.0004\", \"train_gnorm\": \"29.809\", \"train_clip\": \"75\", \"train_train_wall\": \"212\", \"train_wall\": \"8844\"}\r\n"
     ]
    },
    {
     "name": "stdout",
     "output_type": "stream",
     "text": [
      "[2021-06-06 23:55:31,673][fairseq.trainer][INFO] - begin training epoch 4955\r\n",
      "[2021-06-06 23:55:31,674][fairseq_cli.train][INFO] - Start iterating over samples\r\n"
     ]
    },
    {
     "name": "stdout",
     "output_type": "stream",
     "text": [
      "[2021-06-06 23:58:53,071][fairseq_cli.train][INFO] - begin validation on \"valid\" subset\r\n"
     ]
    },
    {
     "name": "stdout",
     "output_type": "stream",
     "text": [
      "[2021-06-06 23:58:55,573][fairseq.tasks.unpaired_audio_text][INFO] - REF: ɛ n f œ ʂ ə n a d ɵ ʂ ə k t f øː r d eː t s ɔ m h ɛ n d ə p oː ɕ œ r k ɔ n s ɛ t ə n\r\n",
      "[2021-06-06 23:58:55,576][fairseq.tasks.unpaired_audio_text][INFO] - HYP: n iː ɛ s j œ f œ j ʂ b j uː œ k uː ɵ øː b n ə m ɔ k ə uː s eː r n v oː n l ɪ ŋ k l ɪ l a s m t n ə a\r\n",
      "[2021-06-06 23:58:55,580][fairseq.tasks.unpaired_audio_text][INFO] - LM [REF]: -53.44462585449219, 0.05339602260269112\r\n",
      "[2021-06-06 23:58:55,580][fairseq.tasks.unpaired_audio_text][INFO] - LM [HYP]: -88.66895294189453, 0.014214452842842635\r\n"
     ]
    },
    {
     "name": "stdout",
     "output_type": "stream",
     "text": [
      "[2021-06-06 23:58:56,095][valid][INFO] - {\"epoch\": 4955, \"valid_loss\": \"1.004\", \"valid_ntokens\": \"3039.79\", \"valid_nsentences\": \"144.214\", \"valid_lm_score_sum\": \"-89709.1\", \"valid_num_pred_chars\": \"48535\", \"valid_vocab_seen_pct\": \"0.891986\", \"valid_uer\": \"100.397\", \"valid_weighted_lm_ppl\": \"74.7832\", \"valid_lm_ppl\": \"59.5004\", \"valid_wps\": \"17958.2\", \"valid_wpb\": \"3039.8\", \"valid_bsz\": \"144.2\", \"valid_num_updates\": \"79280\", \"valid_best_weighted_lm_ppl\": \"73.4256\"}\r\n",
      "[2021-06-06 23:58:56,098][fairseq.checkpoint_utils][INFO] - Preparing to save checkpoint for epoch 4955 @ 79280 updates\r\n",
      "[2021-06-06 23:58:56,099][fairseq.trainer][INFO] - Saving checkpoint to /kaggle/working/checkpoint_last.pt\r\n"
     ]
    },
    {
     "name": "stdout",
     "output_type": "stream",
     "text": [
      "[2021-06-06 23:58:56,148][fairseq.trainer][INFO] - Finished saving checkpoint to /kaggle/working/checkpoint_last.pt\r\n",
      "[2021-06-06 23:58:56,148][fairseq.checkpoint_utils][INFO] - Saved checkpoint /kaggle/working/checkpoint_last.pt (epoch 4955 @ 79280 updates, score 74.7831628601136) (writing took 0.05012461400110624 seconds)\r\n",
      "[2021-06-06 23:58:56,149][fairseq_cli.train][INFO] - end of epoch 4955 (average epoch stats below)\r\n",
      "[2021-06-06 23:58:56,152][train][INFO] - {\"epoch\": 4955, \"train_loss\": \"3.615\", \"train_ntokens\": \"145.688\", \"train_nsentences\": \"145.688\", \"train_temp\": \"0.1\", \"train_code_ppl\": \"8.788\", \"train_loss_code_pen\": \"0.337\", \"train_loss_smoothness\": \"2.101\", \"train_loss_dense_g\": \"4.336\", \"train_lm_score_sum\": 0.0, \"train_num_pred_chars\": 0.0, \"train_loss_grad_pen\": \"0.151\", \"train_loss_dense_d\": \"0.02\", \"train_loss_token_d\": \"0.045\", \"train_wps\": \"11.4\", \"train_ups\": \"0.08\", \"train_wpb\": \"145.7\", \"train_bsz\": \"145.7\", \"train_num_updates\": \"79280\", \"train_lr_discriminator\": \"0.0005\", \"train_lr_generator\": \"0.0004\", \"train_gnorm\": \"35.747\", \"train_clip\": \"93.8\", \"train_train_wall\": \"201\", \"train_wall\": \"9049\"}\r\n"
     ]
    },
    {
     "name": "stdout",
     "output_type": "stream",
     "text": [
      "[2021-06-06 23:58:56,214][fairseq.trainer][INFO] - begin training epoch 4956\r\n",
      "[2021-06-06 23:58:56,215][fairseq_cli.train][INFO] - Start iterating over samples\r\n"
     ]
    },
    {
     "name": "stdout",
     "output_type": "stream",
     "text": [
      "[2021-06-07 00:02:14,318][fairseq_cli.train][INFO] - begin validation on \"valid\" subset\r\n"
     ]
    },
    {
     "name": "stdout",
     "output_type": "stream",
     "text": [
      "[2021-06-07 00:02:16,825][fairseq.tasks.unpaired_audio_text][INFO] - REF: ɛ n f œ ʂ ə n a d ɵ ʂ ə k t f øː r d eː t s ɔ m h ɛ n d ə p oː ɕ œ r k ɔ n s ɛ t ə n\r\n",
      "[2021-06-07 00:02:16,827][fairseq.tasks.unpaired_audio_text][INFO] - HYP: n ɪ ɛ s j œ f œ j œ b j uː œ yː k uː ɵ øː b n ə m ɔ k ə uː s eː r n v oː n l ɪ ŋ k l ɪ l s ɔ m t n ə a\r\n",
      "[2021-06-07 00:02:16,831][fairseq.tasks.unpaired_audio_text][INFO] - LM [REF]: -53.44462585449219, 0.05339602260269112\r\n",
      "[2021-06-07 00:02:16,832][fairseq.tasks.unpaired_audio_text][INFO] - LM [HYP]: -90.53976440429688, 0.014198736709392793\r\n"
     ]
    },
    {
     "name": "stdout",
     "output_type": "stream",
     "text": [
      "[2021-06-07 00:02:17,342][valid][INFO] - {\"epoch\": 4956, \"valid_loss\": \"1.006\", \"valid_ntokens\": \"3039.79\", \"valid_nsentences\": \"144.214\", \"valid_lm_score_sum\": \"-89907\", \"valid_num_pred_chars\": \"48622\", \"valid_vocab_seen_pct\": \"0.890244\", \"valid_uer\": \"100.618\", \"valid_weighted_lm_ppl\": \"75.2248\", \"valid_lm_ppl\": \"59.6183\", \"valid_wps\": \"18351.4\", \"valid_wpb\": \"3039.8\", \"valid_bsz\": \"144.2\", \"valid_num_updates\": \"79296\", \"valid_best_weighted_lm_ppl\": \"73.4256\"}\r\n",
      "[2021-06-07 00:02:17,345][fairseq.checkpoint_utils][INFO] - Preparing to save checkpoint for epoch 4956 @ 79296 updates\r\n",
      "[2021-06-07 00:02:17,346][fairseq.trainer][INFO] - Saving checkpoint to /kaggle/working/checkpoint_last.pt\r\n"
     ]
    },
    {
     "name": "stdout",
     "output_type": "stream",
     "text": [
      "[2021-06-07 00:02:17,392][fairseq.trainer][INFO] - Finished saving checkpoint to /kaggle/working/checkpoint_last.pt\r\n",
      "[2021-06-07 00:02:17,392][fairseq.checkpoint_utils][INFO] - Saved checkpoint /kaggle/working/checkpoint_last.pt (epoch 4956 @ 79296 updates, score 75.22482989056454) (writing took 0.04696638899986283 seconds)\r\n",
      "[2021-06-07 00:02:17,392][fairseq_cli.train][INFO] - end of epoch 4956 (average epoch stats below)\r\n",
      "[2021-06-07 00:02:17,395][train][INFO] - {\"epoch\": 4956, \"train_loss\": \"3.389\", \"train_ntokens\": \"145.688\", \"train_nsentences\": \"145.688\", \"train_temp\": \"0.1\", \"train_code_ppl\": \"8.842\", \"train_loss_code_pen\": \"0.339\", \"train_loss_smoothness\": \"2.106\", \"train_loss_dense_g\": \"3.956\", \"train_lm_score_sum\": 0.0, \"train_num_pred_chars\": 0.0, \"train_loss_grad_pen\": \"0.087\", \"train_loss_dense_d\": \"0.042\", \"train_loss_token_d\": \"0.022\", \"train_wps\": \"11.6\", \"train_ups\": \"0.08\", \"train_wpb\": \"145.7\", \"train_bsz\": \"145.7\", \"train_num_updates\": \"79296\", \"train_lr_discriminator\": \"0.0005\", \"train_lr_generator\": \"0.0004\", \"train_gnorm\": \"33.755\", \"train_clip\": \"75\", \"train_train_wall\": \"198\", \"train_wall\": \"9250\"}\r\n"
     ]
    },
    {
     "name": "stdout",
     "output_type": "stream",
     "text": [
      "[2021-06-07 00:02:17,453][fairseq.trainer][INFO] - begin training epoch 4957\r\n",
      "[2021-06-07 00:02:17,454][fairseq_cli.train][INFO] - Start iterating over samples\r\n"
     ]
    },
    {
     "name": "stdout",
     "output_type": "stream",
     "text": [
      "[2021-06-07 00:03:09,854][train_inner][INFO] - {\"epoch\": 4957, \"update\": 4956.25, \"loss\": \"3.223\", \"ntokens\": \"144.69\", \"nsentences\": \"144.69\", \"temp\": \"0.1\", \"code_ppl\": \"8.763\", \"loss_code_pen\": \"0.327\", \"loss_smoothness\": \"2.068\", \"loss_dense_g\": \"4.183\", \"lm_score_sum\": 0.0, \"num_pred_chars\": 0.0, \"loss_grad_pen\": \"0.09\", \"loss_dense_d\": \"0.026\", \"loss_token_d\": \"0.026\", \"wps\": \"10.8\", \"ups\": \"0.07\", \"wpb\": \"144.7\", \"bsz\": \"144.7\", \"num_updates\": \"79300\", \"lr_discriminator\": \"0.0005\", \"lr_generator\": \"0.0004\", \"gnorm\": \"31.513\", \"clip\": \"79\", \"train_wall\": \"1311\", \"wall\": \"9302\"}\r\n"
     ]
    },
    {
     "name": "stdout",
     "output_type": "stream",
     "text": [
      "[2021-06-07 00:05:49,543][fairseq_cli.train][INFO] - begin validation on \"valid\" subset\r\n"
     ]
    },
    {
     "name": "stdout",
     "output_type": "stream",
     "text": [
      "[2021-06-07 00:05:52,021][fairseq.tasks.unpaired_audio_text][INFO] - REF: ɛ n f œ ʂ ə n a d ɵ ʂ ə k t f øː r d eː t s ɔ m h ɛ n d ə p oː ɕ œ r k ɔ n s ɛ t ə n\r\n",
      "[2021-06-07 00:05:52,024][fairseq.tasks.unpaired_audio_text][INFO] - HYP: t ɪ ɛ s j œ f œ j œ b j uː œ yː k uː ɵ øː b n ə m œ k ə uː s eː r n v oː s l ɪ ŋ k l ɪ l a s ɔ m k n ə a\r\n",
      "[2021-06-07 00:05:52,028][fairseq.tasks.unpaired_audio_text][INFO] - LM [REF]: -53.44462585449219, 0.05339602260269112\r\n",
      "[2021-06-07 00:05:52,029][fairseq.tasks.unpaired_audio_text][INFO] - LM [HYP]: -90.31291198730469, 0.015622184416564728\r\n"
     ]
    },
    {
     "name": "stdout",
     "output_type": "stream",
     "text": [
      "[2021-06-07 00:05:52,549][valid][INFO] - {\"epoch\": 4957, \"valid_loss\": \"1.006\", \"valid_ntokens\": \"3039.79\", \"valid_nsentences\": \"144.214\", \"valid_lm_score_sum\": \"-89912.5\", \"valid_num_pred_chars\": \"48596\", \"valid_vocab_seen_pct\": \"0.888502\", \"valid_uer\": \"100.552\", \"valid_weighted_lm_ppl\": \"75.6977\", \"valid_lm_ppl\": \"59.7585\", \"valid_wps\": \"18217.6\", \"valid_wpb\": \"3039.8\", \"valid_bsz\": \"144.2\", \"valid_num_updates\": \"79312\", \"valid_best_weighted_lm_ppl\": \"73.4256\"}\r\n",
      "[2021-06-07 00:05:52,552][fairseq.checkpoint_utils][INFO] - Preparing to save checkpoint for epoch 4957 @ 79312 updates\r\n",
      "[2021-06-07 00:05:52,554][fairseq.trainer][INFO] - Saving checkpoint to /kaggle/working/checkpoint_last.pt\r\n"
     ]
    },
    {
     "name": "stdout",
     "output_type": "stream",
     "text": [
      "[2021-06-07 00:05:52,609][fairseq.trainer][INFO] - Finished saving checkpoint to /kaggle/working/checkpoint_last.pt\r\n",
      "[2021-06-07 00:05:52,609][fairseq.checkpoint_utils][INFO] - Saved checkpoint /kaggle/working/checkpoint_last.pt (epoch 4957 @ 79312 updates, score 75.69772553142919) (writing took 0.05726784100079385 seconds)\r\n",
      "[2021-06-07 00:05:52,610][fairseq_cli.train][INFO] - end of epoch 4957 (average epoch stats below)\r\n",
      "[2021-06-07 00:05:52,614][train][INFO] - {\"epoch\": 4957, \"train_loss\": \"3.171\", \"train_ntokens\": \"145.688\", \"train_nsentences\": \"145.688\", \"train_temp\": \"0.1\", \"train_code_ppl\": \"8.886\", \"train_loss_code_pen\": \"0.315\", \"train_loss_smoothness\": \"2.037\", \"train_loss_dense_g\": \"4.089\", \"train_lm_score_sum\": 0.0, \"train_num_pred_chars\": 0.0, \"train_loss_grad_pen\": \"0.077\", \"train_loss_dense_d\": \"0.026\", \"train_loss_token_d\": \"0.028\", \"train_wps\": \"10.8\", \"train_ups\": \"0.07\", \"train_wpb\": \"145.7\", \"train_bsz\": \"145.7\", \"train_num_updates\": \"79312\", \"train_lr_discriminator\": \"0.0005\", \"train_lr_generator\": \"0.0004\", \"train_gnorm\": \"29.528\", \"train_clip\": \"81.2\", \"train_train_wall\": \"212\", \"train_wall\": \"9465\"}\r\n"
     ]
    },
    {
     "name": "stdout",
     "output_type": "stream",
     "text": [
      "[2021-06-07 00:05:52,673][fairseq.trainer][INFO] - begin training epoch 4958\r\n",
      "[2021-06-07 00:05:52,674][fairseq_cli.train][INFO] - Start iterating over samples\r\n"
     ]
    },
    {
     "name": "stdout",
     "output_type": "stream",
     "text": [
      "[2021-06-07 00:09:03,164][fairseq_cli.train][INFO] - begin validation on \"valid\" subset\r\n"
     ]
    },
    {
     "name": "stdout",
     "output_type": "stream",
     "text": [
      "[2021-06-07 00:09:05,624][fairseq.tasks.unpaired_audio_text][INFO] - REF: ɛ n f œ ʂ ə n a d ɵ ʂ ə k t f øː r d eː t s ɔ m h ɛ n d ə p oː ɕ œ r k ɔ n s ɛ t ə n\r\n",
      "[2021-06-07 00:09:05,626][fairseq.tasks.unpaired_audio_text][INFO] - HYP: t ɛ s j œ f œ j œ ɕ b j uː œ yː k uː ɵ v yː b n ə m œ k ə uː s eː r n v oː s l ɪ ŋ k l ɪ l s ɔ m t n ə a\r\n",
      "[2021-06-07 00:09:05,631][fairseq.tasks.unpaired_audio_text][INFO] - LM [REF]: -53.44462585449219, 0.05339602260269112\r\n",
      "[2021-06-07 00:09:05,631][fairseq.tasks.unpaired_audio_text][INFO] - LM [HYP]: -93.04642486572266, 0.013774362327294992\r\n"
     ]
    },
    {
     "name": "stdout",
     "output_type": "stream",
     "text": [
      "[2021-06-07 00:09:06,146][valid][INFO] - {\"epoch\": 4958, \"valid_loss\": \"1.006\", \"valid_ntokens\": \"3039.79\", \"valid_nsentences\": \"144.214\", \"valid_lm_score_sum\": \"-89925.4\", \"valid_num_pred_chars\": \"48681\", \"valid_vocab_seen_pct\": \"0.893728\", \"valid_uer\": \"100.632\", \"valid_weighted_lm_ppl\": \"74.3474\", \"valid_lm_ppl\": \"59.385\", \"valid_wps\": \"18165.6\", \"valid_wpb\": \"3039.8\", \"valid_bsz\": \"144.2\", \"valid_num_updates\": \"79328\", \"valid_best_weighted_lm_ppl\": \"73.4256\"}\r\n",
      "[2021-06-07 00:09:06,149][fairseq.checkpoint_utils][INFO] - Preparing to save checkpoint for epoch 4958 @ 79328 updates\r\n",
      "[2021-06-07 00:09:06,151][fairseq.trainer][INFO] - Saving checkpoint to /kaggle/working/checkpoint_last.pt\r\n"
     ]
    },
    {
     "name": "stdout",
     "output_type": "stream",
     "text": [
      "[2021-06-07 00:09:06,197][fairseq.trainer][INFO] - Finished saving checkpoint to /kaggle/working/checkpoint_last.pt\r\n",
      "[2021-06-07 00:09:06,197][fairseq.checkpoint_utils][INFO] - Saved checkpoint /kaggle/working/checkpoint_last.pt (epoch 4958 @ 79328 updates, score 74.34740624410645) (writing took 0.047766924999450566 seconds)\r\n",
      "[2021-06-07 00:09:06,198][fairseq_cli.train][INFO] - end of epoch 4958 (average epoch stats below)\r\n",
      "[2021-06-07 00:09:06,202][train][INFO] - {\"epoch\": 4958, \"train_loss\": \"3.593\", \"train_ntokens\": \"145.688\", \"train_nsentences\": \"145.688\", \"train_temp\": \"0.1\", \"train_code_ppl\": \"8.783\", \"train_loss_code_pen\": \"0.325\", \"train_loss_smoothness\": \"2.077\", \"train_loss_dense_g\": \"4.064\", \"train_lm_score_sum\": 0.0, \"train_num_pred_chars\": 0.0, \"train_loss_grad_pen\": \"0.044\", \"train_loss_dense_d\": \"0.026\", \"train_loss_token_d\": \"0.024\", \"train_wps\": \"12\", \"train_ups\": \"0.08\", \"train_wpb\": \"145.7\", \"train_bsz\": \"145.7\", \"train_num_updates\": \"79328\", \"train_lr_discriminator\": \"0.0005\", \"train_lr_generator\": \"0.0004\", \"train_gnorm\": \"29.103\", \"train_clip\": \"56.2\", \"train_train_wall\": \"190\", \"train_wall\": \"9659\"}\r\n"
     ]
    },
    {
     "name": "stdout",
     "output_type": "stream",
     "text": [
      "[2021-06-07 00:09:06,255][fairseq.trainer][INFO] - begin training epoch 4959\r\n",
      "[2021-06-07 00:09:06,257][fairseq_cli.train][INFO] - Start iterating over samples\r\n"
     ]
    },
    {
     "name": "stdout",
     "output_type": "stream",
     "text": [
      "[2021-06-07 00:12:32,247][fairseq_cli.train][INFO] - begin validation on \"valid\" subset\r\n"
     ]
    },
    {
     "name": "stdout",
     "output_type": "stream",
     "text": [
      "[2021-06-07 00:12:34,742][fairseq.tasks.unpaired_audio_text][INFO] - REF: ɛ n f œ ʂ ə n a d ɵ ʂ ə k t f øː r d eː t s ɔ m h ɛ n d ə p oː ɕ œ r k ɔ n s ɛ t ə n\r\n",
      "[2021-06-07 00:12:34,745][fairseq.tasks.unpaired_audio_text][INFO] - HYP: t ɛ s j œ f œ ʂ b j uː œ yː k uː ɵ ə m œ k ə uː s eː r n v oː n l ɪ ŋ k l ɪ l s ɔ m k n a\r\n",
      "[2021-06-07 00:12:34,749][fairseq.tasks.unpaired_audio_text][INFO] - LM [REF]: -53.44462585449219, 0.05339602260269112\r\n",
      "[2021-06-07 00:12:34,749][fairseq.tasks.unpaired_audio_text][INFO] - LM [HYP]: -76.75047302246094, 0.016409875213906\r\n"
     ]
    },
    {
     "name": "stdout",
     "output_type": "stream",
     "text": [
      "[2021-06-07 00:12:35,280][valid][INFO] - {\"epoch\": 4959, \"valid_loss\": \"1.004\", \"valid_ntokens\": \"3039.79\", \"valid_nsentences\": \"144.214\", \"valid_lm_score_sum\": \"-89953.4\", \"valid_num_pred_chars\": \"48505\", \"valid_vocab_seen_pct\": \"0.897213\", \"valid_uer\": \"100.444\", \"valid_weighted_lm_ppl\": \"74.9237\", \"valid_lm_ppl\": \"60.3128\", \"valid_wps\": \"17840.7\", \"valid_wpb\": \"3039.8\", \"valid_bsz\": \"144.2\", \"valid_num_updates\": \"79344\", \"valid_best_weighted_lm_ppl\": \"73.4256\"}\r\n",
      "[2021-06-07 00:12:35,284][fairseq.checkpoint_utils][INFO] - Preparing to save checkpoint for epoch 4959 @ 79344 updates\r\n",
      "[2021-06-07 00:12:35,285][fairseq.trainer][INFO] - Saving checkpoint to /kaggle/working/checkpoint_last.pt\r\n"
     ]
    },
    {
     "name": "stdout",
     "output_type": "stream",
     "text": [
      "[2021-06-07 00:12:35,332][fairseq.trainer][INFO] - Finished saving checkpoint to /kaggle/working/checkpoint_last.pt\r\n",
      "[2021-06-07 00:12:35,332][fairseq.checkpoint_utils][INFO] - Saved checkpoint /kaggle/working/checkpoint_last.pt (epoch 4959 @ 79344 updates, score 74.92367216951195) (writing took 0.04866575899905001 seconds)\r\n",
      "[2021-06-07 00:12:35,333][fairseq_cli.train][INFO] - end of epoch 4959 (average epoch stats below)\r\n",
      "[2021-06-07 00:12:35,336][train][INFO] - {\"epoch\": 4959, \"train_loss\": \"3.493\", \"train_ntokens\": \"145.688\", \"train_nsentences\": \"145.688\", \"train_temp\": \"0.1\", \"train_code_ppl\": \"9.034\", \"train_loss_code_pen\": \"0.329\", \"train_loss_smoothness\": \"2.083\", \"train_loss_dense_g\": \"4.156\", \"train_lm_score_sum\": 0.0, \"train_num_pred_chars\": 0.0, \"train_loss_grad_pen\": \"0.102\", \"train_loss_dense_d\": \"0.029\", \"train_loss_token_d\": \"0.054\", \"train_wps\": \"11.1\", \"train_ups\": \"0.08\", \"train_wpb\": \"145.7\", \"train_bsz\": \"145.7\", \"train_num_updates\": \"79344\", \"train_lr_discriminator\": \"0.0005\", \"train_lr_generator\": \"0.0004\", \"train_gnorm\": \"33.538\", \"train_clip\": \"87.5\", \"train_train_wall\": \"206\", \"train_wall\": \"9868\"}\r\n"
     ]
    },
    {
     "name": "stdout",
     "output_type": "stream",
     "text": [
      "[2021-06-07 00:12:35,395][fairseq.trainer][INFO] - begin training epoch 4960\r\n",
      "[2021-06-07 00:12:35,396][fairseq_cli.train][INFO] - Start iterating over samples\r\n"
     ]
    },
    {
     "name": "stdout",
     "output_type": "stream",
     "text": [
      "[2021-06-07 00:16:15,241][fairseq_cli.train][INFO] - begin validation on \"valid\" subset\r\n"
     ]
    },
    {
     "name": "stdout",
     "output_type": "stream",
     "text": [
      "[2021-06-07 00:16:17,833][fairseq.tasks.unpaired_audio_text][INFO] - REF: ɛ n f œ ʂ ə n a d ɵ ʂ ə k t f øː r d eː t s ɔ m h ɛ n d ə p oː ɕ œ r k ɔ n s ɛ t ə n\r\n",
      "[2021-06-07 00:16:17,836][fairseq.tasks.unpaired_audio_text][INFO] - HYP: t ɛ s j œ f œ j œ b j uː œ yː k j uː ɵ v b n ə m œ k ə uː s eː r n v oː s l ɪ ŋ k l ɪ l a s m t n a\r\n",
      "[2021-06-07 00:16:17,840][fairseq.tasks.unpaired_audio_text][INFO] - LM [REF]: -53.44462585449219, 0.05339602260269112\r\n",
      "[2021-06-07 00:16:17,841][fairseq.tasks.unpaired_audio_text][INFO] - LM [HYP]: -88.7615737915039, 0.014151437120988817\r\n"
     ]
    },
    {
     "name": "stdout",
     "output_type": "stream",
     "text": [
      "[2021-06-07 00:16:18,351][valid][INFO] - {\"epoch\": 4960, \"valid_loss\": \"1.005\", \"valid_ntokens\": \"3039.79\", \"valid_nsentences\": \"144.214\", \"valid_lm_score_sum\": \"-89955.1\", \"valid_num_pred_chars\": \"48514\", \"valid_vocab_seen_pct\": \"0.897213\", \"valid_uer\": \"100.531\", \"valid_weighted_lm_ppl\": \"74.8748\", \"valid_lm_ppl\": \"60.2735\", \"valid_wps\": \"18085.2\", \"valid_wpb\": \"3039.8\", \"valid_bsz\": \"144.2\", \"valid_num_updates\": \"79360\", \"valid_best_weighted_lm_ppl\": \"73.4256\"}\r\n",
      "[2021-06-07 00:16:18,355][fairseq.checkpoint_utils][INFO] - Preparing to save checkpoint for epoch 4960 @ 79360 updates\r\n",
      "[2021-06-07 00:16:18,356][fairseq.trainer][INFO] - Saving checkpoint to /kaggle/working/checkpoint_last.pt\r\n"
     ]
    },
    {
     "name": "stdout",
     "output_type": "stream",
     "text": [
      "[2021-06-07 00:16:18,404][fairseq.trainer][INFO] - Finished saving checkpoint to /kaggle/working/checkpoint_last.pt\r\n",
      "[2021-06-07 00:16:18,405][fairseq.checkpoint_utils][INFO] - Saved checkpoint /kaggle/working/checkpoint_last.pt (epoch 4960 @ 79360 updates, score 74.87483042066422) (writing took 0.05002379599864071 seconds)\r\n",
      "[2021-06-07 00:16:18,405][fairseq_cli.train][INFO] - end of epoch 4960 (average epoch stats below)\r\n",
      "[2021-06-07 00:16:18,408][train][INFO] - {\"epoch\": 4960, \"train_loss\": \"3.06\", \"train_ntokens\": \"145.688\", \"train_nsentences\": \"145.688\", \"train_temp\": \"0.1\", \"train_code_ppl\": \"9.093\", \"train_loss_code_pen\": \"0.339\", \"train_loss_smoothness\": \"2.12\", \"train_loss_dense_g\": \"3.727\", \"train_lm_score_sum\": 0.0, \"train_num_pred_chars\": 0.0, \"train_loss_grad_pen\": \"0.099\", \"train_loss_dense_d\": \"0.032\", \"train_loss_token_d\": \"0.023\", \"train_wps\": \"10.4\", \"train_ups\": \"0.07\", \"train_wpb\": \"145.7\", \"train_bsz\": \"145.7\", \"train_num_updates\": \"79360\", \"train_lr_discriminator\": \"0.0005\", \"train_lr_generator\": \"0.0004\", \"train_gnorm\": \"29.862\", \"train_clip\": \"81.2\", \"train_train_wall\": \"219\", \"train_wall\": \"10091\"}\r\n"
     ]
    },
    {
     "name": "stdout",
     "output_type": "stream",
     "text": [
      "[2021-06-07 00:16:18,469][fairseq.trainer][INFO] - begin training epoch 4961\r\n",
      "[2021-06-07 00:16:18,471][fairseq_cli.train][INFO] - Start iterating over samples\r\n"
     ]
    },
    {
     "name": "stdout",
     "output_type": "stream",
     "text": [
      "[2021-06-07 00:19:30,694][fairseq_cli.train][INFO] - begin validation on \"valid\" subset\r\n"
     ]
    },
    {
     "name": "stdout",
     "output_type": "stream",
     "text": [
      "[2021-06-07 00:19:33,183][fairseq.tasks.unpaired_audio_text][INFO] - REF: ɛ n f œ ʂ ə n a d ɵ ʂ ə k t f øː r d eː t s ɔ m h ɛ n d ə p oː ɕ œ r k ɔ n s ɛ t ə n\r\n",
      "[2021-06-07 00:19:33,185][fairseq.tasks.unpaired_audio_text][INFO] - HYP: t ɛ s j œ f œ j b j œ yː k uː ɵ øː b n ə m œ k ə uː s eː r n v oː s l ɪ ŋ k l ɪ l a s ɔ m k n t a\r\n",
      "[2021-06-07 00:19:33,190][fairseq.tasks.unpaired_audio_text][INFO] - LM [REF]: -53.44462585449219, 0.05339602260269112\r\n",
      "[2021-06-07 00:19:33,190][fairseq.tasks.unpaired_audio_text][INFO] - LM [HYP]: -83.33631134033203, 0.016861142265609343\r\n"
     ]
    },
    {
     "name": "stdout",
     "output_type": "stream",
     "text": [
      "[2021-06-07 00:19:33,715][valid][INFO] - {\"epoch\": 4961, \"valid_loss\": \"1.007\", \"valid_ntokens\": \"3039.79\", \"valid_nsentences\": \"144.214\", \"valid_lm_score_sum\": \"-90165.2\", \"valid_num_pred_chars\": \"48671\", \"valid_vocab_seen_pct\": \"0.893728\", \"valid_uer\": \"100.735\", \"valid_weighted_lm_ppl\": \"75.2222\", \"valid_lm_ppl\": \"60.0838\", \"valid_wps\": \"17851.2\", \"valid_wpb\": \"3039.8\", \"valid_bsz\": \"144.2\", \"valid_num_updates\": \"79376\", \"valid_best_weighted_lm_ppl\": \"73.4256\"}\r\n",
      "[2021-06-07 00:19:33,718][fairseq.checkpoint_utils][INFO] - Preparing to save checkpoint for epoch 4961 @ 79376 updates\r\n",
      "[2021-06-07 00:19:33,720][fairseq.trainer][INFO] - Saving checkpoint to /kaggle/working/checkpoint_last.pt\r\n"
     ]
    },
    {
     "name": "stdout",
     "output_type": "stream",
     "text": [
      "[2021-06-07 00:19:33,769][fairseq.trainer][INFO] - Finished saving checkpoint to /kaggle/working/checkpoint_last.pt\r\n",
      "[2021-06-07 00:19:33,769][fairseq.checkpoint_utils][INFO] - Saved checkpoint /kaggle/working/checkpoint_last.pt (epoch 4961 @ 79376 updates, score 75.22222025965424) (writing took 0.05067803699967044 seconds)\r\n",
      "[2021-06-07 00:19:33,770][fairseq_cli.train][INFO] - end of epoch 4961 (average epoch stats below)\r\n",
      "[2021-06-07 00:19:33,773][train][INFO] - {\"epoch\": 4961, \"train_loss\": \"3.526\", \"train_ntokens\": \"145.688\", \"train_nsentences\": \"145.688\", \"train_temp\": \"0.1\", \"train_code_ppl\": \"8.764\", \"train_loss_code_pen\": \"0.312\", \"train_loss_smoothness\": \"2.037\", \"train_loss_dense_g\": \"3.974\", \"train_lm_score_sum\": 0.0, \"train_num_pred_chars\": 0.0, \"train_loss_grad_pen\": \"0.065\", \"train_loss_dense_d\": \"0.028\", \"train_loss_token_d\": \"0.028\", \"train_wps\": \"11.9\", \"train_ups\": \"0.08\", \"train_wpb\": \"145.7\", \"train_bsz\": \"145.7\", \"train_num_updates\": \"79376\", \"train_lr_discriminator\": \"0.0005\", \"train_lr_generator\": \"0.0004\", \"train_gnorm\": \"30.126\", \"train_clip\": \"68.8\", \"train_train_wall\": \"192\", \"train_wall\": \"10286\"}\r\n"
     ]
    },
    {
     "name": "stdout",
     "output_type": "stream",
     "text": [
      "[2021-06-07 00:19:33,830][fairseq.trainer][INFO] - begin training epoch 4962\r\n",
      "[2021-06-07 00:19:33,832][fairseq_cli.train][INFO] - Start iterating over samples\r\n"
     ]
    },
    {
     "name": "stdout",
     "output_type": "stream",
     "text": [
      "[2021-06-07 00:23:14,431][fairseq_cli.train][INFO] - begin validation on \"valid\" subset\r\n"
     ]
    },
    {
     "name": "stdout",
     "output_type": "stream",
     "text": [
      "[2021-06-07 00:23:16,925][fairseq.tasks.unpaired_audio_text][INFO] - REF: ɛ n f œ ʂ ə n a d ɵ ʂ ə k t f øː r d eː t s ɔ m h ɛ n d ə p oː ɕ œ r k ɔ n s ɛ t ə n\r\n",
      "[2021-06-07 00:23:16,927][fairseq.tasks.unpaired_audio_text][INFO] - HYP: t ɛ s j œ f œ j œ s b j œ yː k j uː ɵ v yː b n ə m œ k b ə uː s eː r n b oː s l ɪ ŋ k l ɪ l a s m k n a\r\n",
      "[2021-06-07 00:23:16,931][fairseq.tasks.unpaired_audio_text][INFO] - LM [REF]: -53.44462585449219, 0.05339602260269112\r\n",
      "[2021-06-07 00:23:16,932][fairseq.tasks.unpaired_audio_text][INFO] - LM [HYP]: -91.52347564697266, 0.014775101977631221\r\n"
     ]
    },
    {
     "name": "stdout",
     "output_type": "stream",
     "text": [
      "[2021-06-07 00:23:17,447][valid][INFO] - {\"epoch\": 4962, \"valid_loss\": \"1.005\", \"valid_ntokens\": \"3039.79\", \"valid_nsentences\": \"144.214\", \"valid_lm_score_sum\": \"-90048\", \"valid_num_pred_chars\": \"48579\", \"valid_vocab_seen_pct\": \"0.893728\", \"valid_uer\": \"100.508\", \"valid_weighted_lm_ppl\": \"75.3813\", \"valid_lm_ppl\": \"60.2108\", \"valid_wps\": \"18212.4\", \"valid_wpb\": \"3039.8\", \"valid_bsz\": \"144.2\", \"valid_num_updates\": \"79392\", \"valid_best_weighted_lm_ppl\": \"73.4256\"}\r\n",
      "[2021-06-07 00:23:17,450][fairseq.checkpoint_utils][INFO] - Preparing to save checkpoint for epoch 4962 @ 79392 updates\r\n",
      "[2021-06-07 00:23:17,451][fairseq.trainer][INFO] - Saving checkpoint to /kaggle/working/checkpoint_last.pt\r\n"
     ]
    },
    {
     "name": "stdout",
     "output_type": "stream",
     "text": [
      "[2021-06-07 00:23:17,497][fairseq.trainer][INFO] - Finished saving checkpoint to /kaggle/working/checkpoint_last.pt\r\n",
      "[2021-06-07 00:23:17,497][fairseq.checkpoint_utils][INFO] - Saved checkpoint /kaggle/working/checkpoint_last.pt (epoch 4962 @ 79392 updates, score 75.38127609701372) (writing took 0.04725886500091292 seconds)\r\n",
      "[2021-06-07 00:23:17,497][fairseq_cli.train][INFO] - end of epoch 4962 (average epoch stats below)\r\n",
      "[2021-06-07 00:23:17,501][train][INFO] - {\"epoch\": 4962, \"train_loss\": \"2.97\", \"train_ntokens\": \"145.688\", \"train_nsentences\": \"145.688\", \"train_temp\": \"0.1\", \"train_code_ppl\": \"8.9\", \"train_loss_code_pen\": \"0.321\", \"train_loss_smoothness\": \"2.039\", \"train_loss_dense_g\": \"4.098\", \"train_lm_score_sum\": 0.0, \"train_num_pred_chars\": 0.0, \"train_loss_grad_pen\": \"0.056\", \"train_loss_dense_d\": \"0.026\", \"train_loss_token_d\": \"0.024\", \"train_wps\": \"10.4\", \"train_ups\": \"0.07\", \"train_wpb\": \"145.7\", \"train_bsz\": \"145.7\", \"train_num_updates\": \"79392\", \"train_lr_discriminator\": \"0.0005\", \"train_lr_generator\": \"0.0004\", \"train_gnorm\": \"28.94\", \"train_clip\": \"62.5\", \"train_train_wall\": \"220\", \"train_wall\": \"10510\"}\r\n"
     ]
    },
    {
     "name": "stdout",
     "output_type": "stream",
     "text": [
      "[2021-06-07 00:23:17,560][fairseq.trainer][INFO] - begin training epoch 4963\r\n",
      "[2021-06-07 00:23:17,562][fairseq_cli.train][INFO] - Start iterating over samples\r\n"
     ]
    },
    {
     "name": "stdout",
     "output_type": "stream",
     "text": [
      "[2021-06-07 00:24:36,443][train_inner][INFO] - {\"epoch\": 4963, \"update\": 4962.5, \"loss\": \"3.394\", \"ntokens\": \"145.54\", \"nsentences\": \"145.54\", \"temp\": \"0.1\", \"code_ppl\": \"8.867\", \"loss_code_pen\": \"0.324\", \"loss_smoothness\": \"2.067\", \"loss_dense_g\": \"4.037\", \"lm_score_sum\": 0.0, \"num_pred_chars\": 0.0, \"loss_grad_pen\": \"0.073\", \"loss_dense_d\": \"0.028\", \"loss_token_d\": \"0.03\", \"wps\": \"11.3\", \"ups\": \"0.08\", \"wpb\": \"145.5\", \"bsz\": \"145.5\", \"num_updates\": \"79400\", \"lr_discriminator\": \"0.0005\", \"lr_generator\": \"0.0004\", \"gnorm\": \"30.295\", \"clip\": \"72\", \"train_wall\": \"1265\", \"wall\": \"10589\"}\r\n"
     ]
    },
    {
     "name": "stdout",
     "output_type": "stream",
     "text": [
      "[2021-06-07 00:26:27,026][fairseq_cli.train][INFO] - begin validation on \"valid\" subset\r\n"
     ]
    },
    {
     "name": "stdout",
     "output_type": "stream",
     "text": [
      "[2021-06-07 00:26:29,513][fairseq.tasks.unpaired_audio_text][INFO] - REF: ɛ n f œ ʂ ə n a d ɵ ʂ ə k t f øː r d eː t s ɔ m h ɛ n d ə p oː ɕ œ r k ɔ n s ɛ t ə n\r\n",
      "[2021-06-07 00:26:29,516][fairseq.tasks.unpaired_audio_text][INFO] - HYP: t ɛ s j œ r œ j œ b j œ yː k uː ɵ v yː b n ə m œ k b ə uː s eː r n v oː s l ɪ ŋ k l ɪ l a s m k m k n a\r\n",
      "[2021-06-07 00:26:29,520][fairseq.tasks.unpaired_audio_text][INFO] - LM [REF]: -53.44462585449219, 0.05339602260269112\r\n",
      "[2021-06-07 00:26:29,520][fairseq.tasks.unpaired_audio_text][INFO] - LM [HYP]: -91.3357162475586, 0.01490341088471579\r\n"
     ]
    },
    {
     "name": "stdout",
     "output_type": "stream",
     "text": [
      "[2021-06-07 00:26:30,037][valid][INFO] - {\"epoch\": 4963, \"valid_loss\": \"1.006\", \"valid_ntokens\": \"3039.79\", \"valid_nsentences\": \"144.214\", \"valid_lm_score_sum\": \"-90054.9\", \"valid_num_pred_chars\": \"48611\", \"valid_vocab_seen_pct\": \"0.893728\", \"valid_uer\": \"100.609\", \"valid_weighted_lm_ppl\": \"75.21\", \"valid_lm_ppl\": \"60.074\", \"valid_wps\": \"18227.2\", \"valid_wpb\": \"3039.8\", \"valid_bsz\": \"144.2\", \"valid_num_updates\": \"79408\", \"valid_best_weighted_lm_ppl\": \"73.4256\"}\r\n",
      "[2021-06-07 00:26:30,041][fairseq.checkpoint_utils][INFO] - Preparing to save checkpoint for epoch 4963 @ 79408 updates\r\n",
      "[2021-06-07 00:26:30,042][fairseq.trainer][INFO] - Saving checkpoint to /kaggle/working/checkpoint_last.pt\r\n"
     ]
    },
    {
     "name": "stdout",
     "output_type": "stream",
     "text": [
      "[2021-06-07 00:26:30,088][fairseq.trainer][INFO] - Finished saving checkpoint to /kaggle/working/checkpoint_last.pt\r\n",
      "[2021-06-07 00:26:30,089][fairseq.checkpoint_utils][INFO] - Saved checkpoint /kaggle/working/checkpoint_last.pt (epoch 4963 @ 79408 updates, score 75.21003809242188) (writing took 0.048053283000626834 seconds)\r\n",
      "[2021-06-07 00:26:30,089][fairseq_cli.train][INFO] - end of epoch 4963 (average epoch stats below)\r\n",
      "[2021-06-07 00:26:30,092][train][INFO] - {\"epoch\": 4963, \"train_loss\": \"3.665\", \"train_ntokens\": \"145.688\", \"train_nsentences\": \"145.688\", \"train_temp\": \"0.1\", \"train_code_ppl\": \"9.031\", \"train_loss_code_pen\": \"0.338\", \"train_loss_smoothness\": \"2.106\", \"train_loss_dense_g\": \"4.122\", \"train_lm_score_sum\": 0.0, \"train_num_pred_chars\": 0.0, \"train_loss_grad_pen\": \"0.079\", \"train_loss_dense_d\": \"0.026\", \"train_loss_token_d\": \"0.026\", \"train_wps\": \"12.1\", \"train_ups\": \"0.08\", \"train_wpb\": \"145.7\", \"train_bsz\": \"145.7\", \"train_num_updates\": \"79408\", \"train_lr_discriminator\": \"0.0005\", \"train_lr_generator\": \"0.0004\", \"train_gnorm\": \"30.753\", \"train_clip\": \"68.8\", \"train_train_wall\": \"189\", \"train_wall\": \"10702\"}\r\n"
     ]
    },
    {
     "name": "stdout",
     "output_type": "stream",
     "text": [
      "[2021-06-07 00:26:30,152][fairseq.trainer][INFO] - begin training epoch 4964\r\n",
      "[2021-06-07 00:26:30,153][fairseq_cli.train][INFO] - Start iterating over samples\r\n"
     ]
    },
    {
     "name": "stdout",
     "output_type": "stream",
     "text": [
      "[2021-06-07 00:29:59,811][fairseq_cli.train][INFO] - begin validation on \"valid\" subset\r\n"
     ]
    },
    {
     "name": "stdout",
     "output_type": "stream",
     "text": [
      "[2021-06-07 00:30:02,402][fairseq.tasks.unpaired_audio_text][INFO] - REF: ɛ n f œ ʂ ə n a d ɵ ʂ ə k t f øː r d eː t s ɔ m h ɛ n d ə p oː ɕ œ r k ɔ n s ɛ t ə n\r\n",
      "[2021-06-07 00:30:02,405][fairseq.tasks.unpaired_audio_text][INFO] - HYP: t ɛ s j œ r œ j œ b j uː œ yː k uː ɵ v yː b n ə m ɔ k ə uː s eː r n v oː n l ɪ ŋ k l ɪ l a s m ʉ n a\r\n",
      "[2021-06-07 00:30:02,409][fairseq.tasks.unpaired_audio_text][INFO] - LM [REF]: -53.44462585449219, 0.05339602260269112\r\n",
      "[2021-06-07 00:30:02,409][fairseq.tasks.unpaired_audio_text][INFO] - LM [HYP]: -87.6016616821289, 0.014961163932696973\r\n"
     ]
    },
    {
     "name": "stdout",
     "output_type": "stream",
     "text": [
      "[2021-06-07 00:30:02,929][valid][INFO] - {\"epoch\": 4964, \"valid_loss\": \"1.004\", \"valid_ntokens\": \"3039.79\", \"valid_nsentences\": \"144.214\", \"valid_lm_score_sum\": \"-89794.2\", \"valid_num_pred_chars\": \"48496\", \"valid_vocab_seen_pct\": \"0.893728\", \"valid_uer\": \"100.397\", \"valid_weighted_lm_ppl\": \"75.0177\", \"valid_lm_ppl\": \"59.9204\", \"valid_wps\": \"17371.6\", \"valid_wpb\": \"3039.8\", \"valid_bsz\": \"144.2\", \"valid_num_updates\": \"79424\", \"valid_best_weighted_lm_ppl\": \"73.4256\"}\r\n",
      "[2021-06-07 00:30:02,932][fairseq.checkpoint_utils][INFO] - Preparing to save checkpoint for epoch 4964 @ 79424 updates\r\n"
     ]
    },
    {
     "name": "stdout",
     "output_type": "stream",
     "text": [
      "[2021-06-07 00:30:02,933][fairseq.trainer][INFO] - Saving checkpoint to /kaggle/working/checkpoint_last.pt\r\n",
      "[2021-06-07 00:30:02,982][fairseq.trainer][INFO] - Finished saving checkpoint to /kaggle/working/checkpoint_last.pt\r\n",
      "[2021-06-07 00:30:02,983][fairseq.checkpoint_utils][INFO] - Saved checkpoint /kaggle/working/checkpoint_last.pt (epoch 4964 @ 79424 updates, score 75.01769095896016) (writing took 0.05038303800029098 seconds)\r\n",
      "[2021-06-07 00:30:02,983][fairseq_cli.train][INFO] - end of epoch 4964 (average epoch stats below)\r\n"
     ]
    },
    {
     "name": "stdout",
     "output_type": "stream",
     "text": [
      "[2021-06-07 00:30:02,986][train][INFO] - {\"epoch\": 4964, \"train_loss\": \"3.298\", \"train_ntokens\": \"145.688\", \"train_nsentences\": \"145.688\", \"train_temp\": \"0.1\", \"train_code_ppl\": \"8.89\", \"train_loss_code_pen\": \"0.325\", \"train_loss_smoothness\": \"2.056\", \"train_loss_dense_g\": \"4.332\", \"train_lm_score_sum\": 0.0, \"train_num_pred_chars\": 0.0, \"train_loss_grad_pen\": \"0.071\", \"train_loss_dense_d\": \"0.027\", \"train_loss_token_d\": \"0.025\", \"train_wps\": \"10.9\", \"train_ups\": \"0.08\", \"train_wpb\": \"145.7\", \"train_bsz\": \"145.7\", \"train_num_updates\": \"79424\", \"train_lr_discriminator\": \"0.0005\", \"train_lr_generator\": \"0.0004\", \"train_gnorm\": \"29.656\", \"train_clip\": \"75\", \"train_train_wall\": \"209\", \"train_wall\": \"10915\"}\r\n"
     ]
    },
    {
     "name": "stdout",
     "output_type": "stream",
     "text": [
      "[2021-06-07 00:30:03,050][fairseq.trainer][INFO] - begin training epoch 4965\r\n",
      "[2021-06-07 00:30:03,052][fairseq_cli.train][INFO] - Start iterating over samples\r\n"
     ]
    },
    {
     "name": "stdout",
     "output_type": "stream",
     "text": [
      "[2021-06-07 00:33:23,604][fairseq_cli.train][INFO] - begin validation on \"valid\" subset\r\n"
     ]
    },
    {
     "name": "stdout",
     "output_type": "stream",
     "text": [
      "[2021-06-07 00:33:26,099][fairseq.tasks.unpaired_audio_text][INFO] - REF: ɛ n f œ ʂ ə n a d ɵ ʂ ə k t f øː r d eː t s ɔ m h ɛ n d ə p oː ɕ œ r k ɔ n s ɛ t ə n\r\n",
      "[2021-06-07 00:33:26,102][fairseq.tasks.unpaired_audio_text][INFO] - HYP: t ɛ s j œ r œ j œ b j uː œ yː k uː ɵ v j b n ə m ɔ k ə uː s eː r n v oː n l ɪ ŋ k l ɪ l a s m k n a\r\n",
      "[2021-06-07 00:33:26,106][fairseq.tasks.unpaired_audio_text][INFO] - LM [REF]: -53.44462585449219, 0.05339602260269112\r\n",
      "[2021-06-07 00:33:26,107][fairseq.tasks.unpaired_audio_text][INFO] - LM [HYP]: -87.56559753417969, 0.014987069388099447\r\n"
     ]
    },
    {
     "name": "stdout",
     "output_type": "stream",
     "text": [
      "[2021-06-07 00:33:26,622][valid][INFO] - {\"epoch\": 4965, \"valid_loss\": \"1.006\", \"valid_ntokens\": \"3039.79\", \"valid_nsentences\": \"144.214\", \"valid_lm_score_sum\": \"-89944.5\", \"valid_num_pred_chars\": \"48649\", \"valid_vocab_seen_pct\": \"0.88676\", \"valid_uer\": \"100.578\", \"valid_weighted_lm_ppl\": \"75.7813\", \"valid_lm_ppl\": \"59.5901\", \"valid_wps\": \"18226.1\", \"valid_wpb\": \"3039.8\", \"valid_bsz\": \"144.2\", \"valid_num_updates\": \"79440\", \"valid_best_weighted_lm_ppl\": \"73.4256\"}\r\n"
     ]
    },
    {
     "name": "stdout",
     "output_type": "stream",
     "text": [
      "[2021-06-07 00:33:26,626][fairseq.checkpoint_utils][INFO] - Preparing to save checkpoint for epoch 4965 @ 79440 updates\r\n",
      "[2021-06-07 00:33:26,627][fairseq.trainer][INFO] - Saving checkpoint to /kaggle/working/checkpoint_last.pt\r\n",
      "[2021-06-07 00:33:26,675][fairseq.trainer][INFO] - Finished saving checkpoint to /kaggle/working/checkpoint_last.pt\r\n"
     ]
    },
    {
     "name": "stdout",
     "output_type": "stream",
     "text": [
      "[2021-06-07 00:33:26,675][fairseq.checkpoint_utils][INFO] - Saved checkpoint /kaggle/working/checkpoint_last.pt (epoch 4965 @ 79440 updates, score 75.78134600726682) (writing took 0.04922642699966673 seconds)\r\n",
      "[2021-06-07 00:33:26,675][fairseq_cli.train][INFO] - end of epoch 4965 (average epoch stats below)\r\n",
      "[2021-06-07 00:33:26,680][train][INFO] - {\"epoch\": 4965, \"train_loss\": \"3.49\", \"train_ntokens\": \"145.688\", \"train_nsentences\": \"145.688\", \"train_temp\": \"0.1\", \"train_code_ppl\": \"8.763\", \"train_loss_code_pen\": \"0.321\", \"train_loss_smoothness\": \"2.037\", \"train_loss_dense_g\": \"4.23\", \"train_lm_score_sum\": 0.0, \"train_num_pred_chars\": 0.0, \"train_loss_grad_pen\": \"0.109\", \"train_loss_dense_d\": \"0.024\", \"train_loss_token_d\": \"0.024\", \"train_wps\": \"11.4\", \"train_ups\": \"0.08\", \"train_wpb\": \"145.7\", \"train_bsz\": \"145.7\", \"train_num_updates\": \"79440\", \"train_lr_discriminator\": \"0.0005\", \"train_lr_generator\": \"0.0004\", \"train_gnorm\": \"40.145\", \"train_clip\": \"87.5\", \"train_train_wall\": \"200\", \"train_wall\": \"11119\"}\r\n"
     ]
    },
    {
     "name": "stdout",
     "output_type": "stream",
     "text": [
      "[2021-06-07 00:33:26,734][fairseq.trainer][INFO] - begin training epoch 4966\r\n",
      "[2021-06-07 00:33:26,735][fairseq_cli.train][INFO] - Start iterating over samples\r\n"
     ]
    },
    {
     "name": "stdout",
     "output_type": "stream",
     "text": [
      "[2021-06-07 00:36:41,088][fairseq_cli.train][INFO] - begin validation on \"valid\" subset\r\n"
     ]
    },
    {
     "name": "stdout",
     "output_type": "stream",
     "text": [
      "[2021-06-07 00:36:43,598][fairseq.tasks.unpaired_audio_text][INFO] - REF: ɛ n f œ ʂ ə n a d ɵ ʂ ə k t f øː r d eː t s ɔ m h ɛ n d ə p oː ɕ œ r k ɔ n s ɛ t ə n\r\n",
      "[2021-06-07 00:36:43,601][fairseq.tasks.unpaired_audio_text][INFO] - HYP: t ɛ s j œ f œ j œ yː b j œ yː k uː ɵ v yː b n ə m œ k b ə uː s eː r n v oː n l ɪ ŋ k l ɪ l a s m t n ə a\r\n",
      "[2021-06-07 00:36:43,605][fairseq.tasks.unpaired_audio_text][INFO] - LM [REF]: -53.44462585449219, 0.05339602260269112\r\n",
      "[2021-06-07 00:36:43,605][fairseq.tasks.unpaired_audio_text][INFO] - LM [HYP]: -92.86209869384766, 0.013891784133450198\r\n"
     ]
    },
    {
     "name": "stdout",
     "output_type": "stream",
     "text": [
      "[2021-06-07 00:36:44,116][valid][INFO] - {\"epoch\": 4966, \"valid_loss\": \"1.005\", \"valid_ntokens\": \"3039.79\", \"valid_nsentences\": \"144.214\", \"valid_lm_score_sum\": \"-89863.2\", \"valid_num_pred_chars\": \"48524\", \"valid_vocab_seen_pct\": \"0.888502\", \"valid_uer\": \"100.533\", \"valid_weighted_lm_ppl\": \"75.9693\", \"valid_lm_ppl\": \"59.9728\", \"valid_wps\": \"18286\", \"valid_wpb\": \"3039.8\", \"valid_bsz\": \"144.2\", \"valid_num_updates\": \"79456\", \"valid_best_weighted_lm_ppl\": \"73.4256\"}\r\n"
     ]
    },
    {
     "name": "stdout",
     "output_type": "stream",
     "text": [
      "[2021-06-07 00:36:44,120][fairseq.checkpoint_utils][INFO] - Preparing to save checkpoint for epoch 4966 @ 79456 updates\r\n",
      "[2021-06-07 00:36:44,122][fairseq.trainer][INFO] - Saving checkpoint to /kaggle/working/checkpoint_last.pt\r\n"
     ]
    },
    {
     "name": "stdout",
     "output_type": "stream",
     "text": [
      "[2021-06-07 00:36:44,170][fairseq.trainer][INFO] - Finished saving checkpoint to /kaggle/working/checkpoint_last.pt\r\n",
      "[2021-06-07 00:36:44,170][fairseq.checkpoint_utils][INFO] - Saved checkpoint /kaggle/working/checkpoint_last.pt (epoch 4966 @ 79456 updates, score 75.96929638004107) (writing took 0.049403937000533915 seconds)\r\n",
      "[2021-06-07 00:36:44,170][fairseq_cli.train][INFO] - end of epoch 4966 (average epoch stats below)\r\n",
      "[2021-06-07 00:36:44,175][train][INFO] - {\"epoch\": 4966, \"train_loss\": \"3.597\", \"train_ntokens\": \"145.688\", \"train_nsentences\": \"145.688\", \"train_temp\": \"0.1\", \"train_code_ppl\": \"8.824\", \"train_loss_code_pen\": \"0.321\", \"train_loss_smoothness\": \"2.058\", \"train_loss_dense_g\": \"4.074\", \"train_lm_score_sum\": 0.0, \"train_num_pred_chars\": 0.0, \"train_loss_grad_pen\": \"0.063\", \"train_loss_dense_d\": \"0.027\", \"train_loss_token_d\": \"0.029\", \"train_wps\": \"11.8\", \"train_ups\": \"0.08\", \"train_wpb\": \"145.7\", \"train_bsz\": \"145.7\", \"train_num_updates\": \"79456\", \"train_lr_discriminator\": \"0.0005\", \"train_lr_generator\": \"0.0004\", \"train_gnorm\": \"29.661\", \"train_clip\": \"62.5\", \"train_train_wall\": \"194\", \"train_wall\": \"11317\"}\r\n"
     ]
    },
    {
     "name": "stdout",
     "output_type": "stream",
     "text": [
      "[2021-06-07 00:36:44,239][fairseq.trainer][INFO] - begin training epoch 4967\r\n",
      "[2021-06-07 00:36:44,240][fairseq_cli.train][INFO] - Start iterating over samples\r\n"
     ]
    },
    {
     "name": "stdout",
     "output_type": "stream",
     "text": [
      "[2021-06-07 00:40:25,710][fairseq_cli.train][INFO] - begin validation on \"valid\" subset\r\n"
     ]
    },
    {
     "name": "stdout",
     "output_type": "stream",
     "text": [
      "[2021-06-07 00:40:28,227][fairseq.tasks.unpaired_audio_text][INFO] - REF: ɛ n f œ ʂ ə n a d ɵ ʂ ə k t f øː r d eː t s ɔ m h ɛ n d ə p oː ɕ œ r k ɔ n s ɛ t ə n\r\n",
      "[2021-06-07 00:40:28,229][fairseq.tasks.unpaired_audio_text][INFO] - HYP: t ɛ s j œ f œ j œ b j œ yː k uː ɵ v b n ə m œ k ə uː s eː r n v oː s l ɪ ŋ k l ɪ l a s m k n a\r\n",
      "[2021-06-07 00:40:28,234][fairseq.tasks.unpaired_audio_text][INFO] - LM [REF]: -53.44462585449219, 0.05339602260269112\r\n",
      "[2021-06-07 00:40:28,234][fairseq.tasks.unpaired_audio_text][INFO] - LM [HYP]: -83.26104736328125, 0.015487354211957896\r\n"
     ]
    },
    {
     "name": "stdout",
     "output_type": "stream",
     "text": [
      "[2021-06-07 00:40:28,756][valid][INFO] - {\"epoch\": 4967, \"valid_loss\": \"1.003\", \"valid_ntokens\": \"3039.79\", \"valid_nsentences\": \"144.214\", \"valid_lm_score_sum\": \"-89650.5\", \"valid_num_pred_chars\": \"48407\", \"valid_vocab_seen_pct\": \"0.89547\", \"valid_uer\": \"100.331\", \"valid_weighted_lm_ppl\": \"74.7755\", \"valid_lm_ppl\": \"59.96\", \"valid_wps\": \"17816\", \"valid_wpb\": \"3039.8\", \"valid_bsz\": \"144.2\", \"valid_num_updates\": \"79472\", \"valid_best_weighted_lm_ppl\": \"73.4256\"}\r\n",
      "[2021-06-07 00:40:28,760][fairseq.checkpoint_utils][INFO] - Preparing to save checkpoint for epoch 4967 @ 79472 updates\r\n",
      "[2021-06-07 00:40:28,761][fairseq.trainer][INFO] - Saving checkpoint to /kaggle/working/checkpoint_last.pt\r\n"
     ]
    },
    {
     "name": "stdout",
     "output_type": "stream",
     "text": [
      "[2021-06-07 00:40:28,810][fairseq.trainer][INFO] - Finished saving checkpoint to /kaggle/working/checkpoint_last.pt\r\n",
      "[2021-06-07 00:40:28,811][fairseq.checkpoint_utils][INFO] - Saved checkpoint /kaggle/working/checkpoint_last.pt (epoch 4967 @ 79472 updates, score 74.77551921362301) (writing took 0.051078994998533744 seconds)\r\n",
      "[2021-06-07 00:40:28,811][fairseq_cli.train][INFO] - end of epoch 4967 (average epoch stats below)\r\n"
     ]
    },
    {
     "name": "stdout",
     "output_type": "stream",
     "text": [
      "[2021-06-07 00:40:28,816][train][INFO] - {\"epoch\": 4967, \"train_loss\": \"3.224\", \"train_ntokens\": \"145.688\", \"train_nsentences\": \"145.688\", \"train_temp\": \"0.1\", \"train_code_ppl\": \"9.014\", \"train_loss_code_pen\": \"0.345\", \"train_loss_smoothness\": \"2.138\", \"train_loss_dense_g\": \"4.067\", \"train_lm_score_sum\": 0.0, \"train_num_pred_chars\": 0.0, \"train_loss_grad_pen\": \"0.079\", \"train_loss_dense_d\": \"0.027\", \"train_loss_token_d\": \"0.028\", \"train_wps\": \"10.4\", \"train_ups\": \"0.07\", \"train_wpb\": \"145.7\", \"train_bsz\": \"145.7\", \"train_num_updates\": \"79472\", \"train_lr_discriminator\": \"0.0005\", \"train_lr_generator\": \"0.0004\", \"train_gnorm\": \"29.704\", \"train_clip\": \"75\", \"train_train_wall\": \"221\", \"train_wall\": \"11541\"}\r\n"
     ]
    },
    {
     "name": "stdout",
     "output_type": "stream",
     "text": [
      "[2021-06-07 00:40:28,883][fairseq.trainer][INFO] - begin training epoch 4968\r\n",
      "[2021-06-07 00:40:28,884][fairseq_cli.train][INFO] - Start iterating over samples\r\n"
     ]
    },
    {
     "name": "stdout",
     "output_type": "stream",
     "text": [
      "[2021-06-07 00:43:45,801][fairseq_cli.train][INFO] - begin validation on \"valid\" subset\r\n"
     ]
    },
    {
     "name": "stdout",
     "output_type": "stream",
     "text": [
      "[2021-06-07 00:43:48,378][fairseq.tasks.unpaired_audio_text][INFO] - REF: ɛ n f œ ʂ ə n a d ɵ ʂ ə k t f øː r d eː t s ɔ m h ɛ n d ə p oː ɕ œ r k ɔ n s ɛ t ə n\r\n",
      "[2021-06-07 00:43:48,381][fairseq.tasks.unpaired_audio_text][INFO] - HYP: t ɛ s j œ f œ j œ b j uː œ yː k uː ɵ øː j m b n ə m œ k b ə uː s eː r n v oː s l ɪ ŋ k l ɪ l s m k n ə a\r\n",
      "[2021-06-07 00:43:48,385][fairseq.tasks.unpaired_audio_text][INFO] - LM [REF]: -53.44462585449219, 0.05339602260269112\r\n",
      "[2021-06-07 00:43:48,386][fairseq.tasks.unpaired_audio_text][INFO] - LM [HYP]: -94.80597686767578, 0.012702244342548892\r\n"
     ]
    },
    {
     "name": "stdout",
     "output_type": "stream",
     "text": [
      "[2021-06-07 00:43:48,904][valid][INFO] - {\"epoch\": 4968, \"valid_loss\": \"1.006\", \"valid_ntokens\": \"3039.79\", \"valid_nsentences\": \"144.214\", \"valid_lm_score_sum\": \"-89854.2\", \"valid_num_pred_chars\": \"48548\", \"valid_vocab_seen_pct\": \"0.89547\", \"valid_uer\": \"100.597\", \"valid_weighted_lm_ppl\": \"74.6159\", \"valid_lm_ppl\": \"59.832\", \"valid_wps\": \"18049.3\", \"valid_wpb\": \"3039.8\", \"valid_bsz\": \"144.2\", \"valid_num_updates\": \"79488\", \"valid_best_weighted_lm_ppl\": \"73.4256\"}\r\n",
      "[2021-06-07 00:43:48,907][fairseq.checkpoint_utils][INFO] - Preparing to save checkpoint for epoch 4968 @ 79488 updates\r\n",
      "[2021-06-07 00:43:48,908][fairseq.trainer][INFO] - Saving checkpoint to /kaggle/working/checkpoint_last.pt\r\n"
     ]
    },
    {
     "name": "stdout",
     "output_type": "stream",
     "text": [
      "[2021-06-07 00:43:48,955][fairseq.trainer][INFO] - Finished saving checkpoint to /kaggle/working/checkpoint_last.pt\r\n",
      "[2021-06-07 00:43:48,956][fairseq.checkpoint_utils][INFO] - Saved checkpoint /kaggle/working/checkpoint_last.pt (epoch 4968 @ 79488 updates, score 74.6159065786002) (writing took 0.048516385000766604 seconds)\r\n",
      "[2021-06-07 00:43:48,956][fairseq_cli.train][INFO] - end of epoch 4968 (average epoch stats below)\r\n",
      "[2021-06-07 00:43:48,959][train][INFO] - {\"epoch\": 4968, \"train_loss\": \"3.748\", \"train_ntokens\": \"145.688\", \"train_nsentences\": \"145.688\", \"train_temp\": \"0.1\", \"train_code_ppl\": \"8.855\", \"train_loss_code_pen\": \"0.321\", \"train_loss_smoothness\": \"2.034\", \"train_loss_dense_g\": \"4.281\", \"train_lm_score_sum\": 0.0, \"train_num_pred_chars\": 0.0, \"train_loss_grad_pen\": \"0.171\", \"train_loss_dense_d\": \"0.023\", \"train_loss_token_d\": \"0.036\", \"train_wps\": \"11.6\", \"train_ups\": \"0.08\", \"train_wpb\": \"145.7\", \"train_bsz\": \"145.7\", \"train_num_updates\": \"79488\", \"train_lr_discriminator\": \"0.0005\", \"train_lr_generator\": \"0.0004\", \"train_gnorm\": \"29.9\", \"train_clip\": \"75\", \"train_train_wall\": \"196\", \"train_wall\": \"11741\"}\r\n"
     ]
    },
    {
     "name": "stdout",
     "output_type": "stream",
     "text": [
      "[2021-06-07 00:43:49,021][fairseq.trainer][INFO] - begin training epoch 4969\r\n",
      "[2021-06-07 00:43:49,023][fairseq_cli.train][INFO] - Start iterating over samples\r\n"
     ]
    },
    {
     "name": "stdout",
     "output_type": "stream",
     "text": [
      "[2021-06-07 00:46:05,926][train_inner][INFO] - {\"epoch\": 4969, \"update\": 4968.75, \"loss\": \"3.473\", \"ntokens\": \"146.26\", \"nsentences\": \"146.26\", \"temp\": \"0.1\", \"code_ppl\": \"8.909\", \"loss_code_pen\": \"0.329\", \"loss_smoothness\": \"2.073\", \"loss_dense_g\": \"4.131\", \"lm_score_sum\": 0.0, \"num_pred_chars\": 0.0, \"loss_grad_pen\": \"0.097\", \"loss_dense_d\": \"0.026\", \"loss_token_d\": \"0.027\", \"wps\": \"11.3\", \"ups\": \"0.08\", \"wpb\": \"146.3\", \"bsz\": \"146.3\", \"num_updates\": \"79500\", \"lr_discriminator\": \"0.0005\", \"lr_generator\": \"0.0004\", \"gnorm\": \"31.192\", \"clip\": \"74\", \"train_wall\": \"1268\", \"wall\": \"11878\"}\r\n"
     ]
    },
    {
     "name": "stdout",
     "output_type": "stream",
     "text": [
      "[2021-06-07 00:47:03,006][fairseq_cli.train][INFO] - begin validation on \"valid\" subset\r\n"
     ]
    },
    {
     "name": "stdout",
     "output_type": "stream",
     "text": [
      "[2021-06-07 00:47:05,569][fairseq.tasks.unpaired_audio_text][INFO] - REF: ɛ n f œ ʂ ə n a d ɵ ʂ ə k t f øː r d eː t s ɔ m h ɛ n d ə p oː ɕ œ r k ɔ n s ɛ t ə n\r\n",
      "[2021-06-07 00:47:05,572][fairseq.tasks.unpaired_audio_text][INFO] - HYP: t ɛ s j œ f œ j œ b j œ yː k ɵ uː ɵ øː j b n ə m œ k b ə uː s eː r n v oː s l ɪ ŋ k l ɪ l a s ɔ m t n ə a\r\n"
     ]
    },
    {
     "name": "stdout",
     "output_type": "stream",
     "text": [
      "[2021-06-07 00:47:05,577][fairseq.tasks.unpaired_audio_text][INFO] - LM [REF]: -53.44462585449219, 0.05339602260269112\r\n",
      "[2021-06-07 00:47:05,577][fairseq.tasks.unpaired_audio_text][INFO] - LM [HYP]: -92.08241271972656, 0.015648131810349672\r\n"
     ]
    },
    {
     "name": "stdout",
     "output_type": "stream",
     "text": [
      "[2021-06-07 00:47:06,098][valid][INFO] - {\"epoch\": 4969, \"valid_loss\": \"1.006\", \"valid_ntokens\": \"3039.79\", \"valid_nsentences\": \"144.214\", \"valid_lm_score_sum\": \"-89959.2\", \"valid_num_pred_chars\": \"48616\", \"valid_vocab_seen_pct\": \"0.89547\", \"valid_uer\": \"100.634\", \"valid_weighted_lm_ppl\": \"74.5622\", \"valid_lm_ppl\": \"59.789\", \"valid_wps\": \"17643.5\", \"valid_wpb\": \"3039.8\", \"valid_bsz\": \"144.2\", \"valid_num_updates\": \"79504\", \"valid_best_weighted_lm_ppl\": \"73.4256\"}\r\n",
      "[2021-06-07 00:47:06,102][fairseq.checkpoint_utils][INFO] - Preparing to save checkpoint for epoch 4969 @ 79504 updates\r\n",
      "[2021-06-07 00:47:06,103][fairseq.trainer][INFO] - Saving checkpoint to /kaggle/working/checkpoint_last.pt\r\n"
     ]
    },
    {
     "name": "stdout",
     "output_type": "stream",
     "text": [
      "[2021-06-07 00:47:06,151][fairseq.trainer][INFO] - Finished saving checkpoint to /kaggle/working/checkpoint_last.pt\r\n",
      "[2021-06-07 00:47:06,151][fairseq.checkpoint_utils][INFO] - Saved checkpoint /kaggle/working/checkpoint_last.pt (epoch 4969 @ 79504 updates, score 74.56216962763149) (writing took 0.04977098400013347 seconds)\r\n",
      "[2021-06-07 00:47:06,152][fairseq_cli.train][INFO] - end of epoch 4969 (average epoch stats below)\r\n",
      "[2021-06-07 00:47:06,155][train][INFO] - {\"epoch\": 4969, \"train_loss\": \"3.477\", \"train_ntokens\": \"145.688\", \"train_nsentences\": \"145.688\", \"train_temp\": \"0.1\", \"train_code_ppl\": \"9.012\", \"train_loss_code_pen\": \"0.322\", \"train_loss_smoothness\": \"2.07\", \"train_loss_dense_g\": \"3.81\", \"train_lm_score_sum\": 0.0, \"train_num_pred_chars\": 0.0, \"train_loss_grad_pen\": \"0.101\", \"train_loss_dense_d\": \"0.035\", \"train_loss_token_d\": \"0.022\", \"train_wps\": \"11.8\", \"train_ups\": \"0.08\", \"train_wpb\": \"145.7\", \"train_bsz\": \"145.7\", \"train_num_updates\": \"79504\", \"train_lr_discriminator\": \"0.0005\", \"train_lr_generator\": \"0.0004\", \"train_gnorm\": \"28.234\", \"train_clip\": \"75\", \"train_train_wall\": \"194\", \"train_wall\": \"11939\"}\r\n"
     ]
    },
    {
     "name": "stdout",
     "output_type": "stream",
     "text": [
      "[2021-06-07 00:47:06,218][fairseq.trainer][INFO] - begin training epoch 4970\r\n",
      "[2021-06-07 00:47:06,219][fairseq_cli.train][INFO] - Start iterating over samples\r\n"
     ]
    },
    {
     "name": "stdout",
     "output_type": "stream",
     "text": [
      "[2021-06-07 00:50:27,880][fairseq_cli.train][INFO] - begin validation on \"valid\" subset\r\n"
     ]
    },
    {
     "name": "stdout",
     "output_type": "stream",
     "text": [
      "[2021-06-07 00:50:30,359][fairseq.tasks.unpaired_audio_text][INFO] - REF: ɛ n f œ ʂ ə n a d ɵ ʂ ə k t f øː r d eː t s ɔ m h ɛ n d ə p oː ɕ œ r k ɔ n s ɛ t ə n\r\n",
      "[2021-06-07 00:50:30,362][fairseq.tasks.unpaired_audio_text][INFO] - HYP: t ɛ s j œ r œ j œ b j œ yː k ɵ uː ɵ øː j b n ə m œ k b ə uː s eː r n v oː s l ɪ ŋ k l ɪ l s m t l ə a\r\n"
     ]
    },
    {
     "name": "stdout",
     "output_type": "stream",
     "text": [
      "[2021-06-07 00:50:30,367][fairseq.tasks.unpaired_audio_text][INFO] - LM [REF]: -53.44462585449219, 0.05339602260269112\r\n",
      "[2021-06-07 00:50:30,367][fairseq.tasks.unpaired_audio_text][INFO] - LM [HYP]: -91.49822235107422, 0.01357342163063387\r\n"
     ]
    },
    {
     "name": "stdout",
     "output_type": "stream",
     "text": [
      "[2021-06-07 00:50:30,893][valid][INFO] - {\"epoch\": 4970, \"valid_loss\": \"1.005\", \"valid_ntokens\": \"3039.79\", \"valid_nsentences\": \"144.214\", \"valid_lm_score_sum\": \"-89908.3\", \"valid_num_pred_chars\": \"48518\", \"valid_vocab_seen_pct\": \"0.900697\", \"valid_uer\": \"100.496\", \"valid_weighted_lm_ppl\": \"74.1142\", \"valid_lm_ppl\": \"60.1255\", \"valid_wps\": \"18182.3\", \"valid_wpb\": \"3039.8\", \"valid_bsz\": \"144.2\", \"valid_num_updates\": \"79520\", \"valid_best_weighted_lm_ppl\": \"73.4256\"}\r\n",
      "[2021-06-07 00:50:30,896][fairseq.checkpoint_utils][INFO] - Preparing to save checkpoint for epoch 4970 @ 79520 updates\r\n",
      "[2021-06-07 00:50:30,897][fairseq.trainer][INFO] - Saving checkpoint to /kaggle/working/checkpoint_last.pt\r\n"
     ]
    },
    {
     "name": "stdout",
     "output_type": "stream",
     "text": [
      "[2021-06-07 00:50:30,944][fairseq.trainer][INFO] - Finished saving checkpoint to /kaggle/working/checkpoint_last.pt\r\n",
      "[2021-06-07 00:50:30,944][fairseq.checkpoint_utils][INFO] - Saved checkpoint /kaggle/working/checkpoint_last.pt (epoch 4970 @ 79520 updates, score 74.11417982387002) (writing took 0.0483593059998384 seconds)\r\n",
      "[2021-06-07 00:50:30,944][fairseq_cli.train][INFO] - end of epoch 4970 (average epoch stats below)\r\n",
      "[2021-06-07 00:50:30,947][train][INFO] - {\"epoch\": 4970, \"train_loss\": \"3.687\", \"train_ntokens\": \"145.688\", \"train_nsentences\": \"145.688\", \"train_temp\": \"0.1\", \"train_code_ppl\": \"8.778\", \"train_loss_code_pen\": \"0.321\", \"train_loss_smoothness\": \"2.081\", \"train_loss_dense_g\": \"4.069\", \"train_lm_score_sum\": 0.0, \"train_num_pred_chars\": 0.0, \"train_loss_grad_pen\": \"0.236\", \"train_loss_dense_d\": \"0.028\", \"train_loss_token_d\": \"0.034\", \"train_wps\": \"11.4\", \"train_ups\": \"0.08\", \"train_wpb\": \"145.7\", \"train_bsz\": \"145.7\", \"train_num_updates\": \"79520\", \"train_lr_discriminator\": \"0.0005\", \"train_lr_generator\": \"0.0004\", \"train_gnorm\": \"51.65\", \"train_clip\": \"75\", \"train_train_wall\": \"201\", \"train_wall\": \"12143\"}\r\n"
     ]
    },
    {
     "name": "stdout",
     "output_type": "stream",
     "text": [
      "[2021-06-07 00:50:31,002][fairseq.trainer][INFO] - begin training epoch 4971\r\n",
      "[2021-06-07 00:50:31,004][fairseq_cli.train][INFO] - Start iterating over samples\r\n"
     ]
    },
    {
     "name": "stdout",
     "output_type": "stream",
     "text": [
      "[2021-06-07 00:54:02,832][fairseq_cli.train][INFO] - begin validation on \"valid\" subset\r\n"
     ]
    },
    {
     "name": "stdout",
     "output_type": "stream",
     "text": [
      "[2021-06-07 00:54:05,329][fairseq.tasks.unpaired_audio_text][INFO] - REF: ɛ n f œ ʂ ə n a d ɵ ʂ ə k t f øː r d eː t s ɔ m h ɛ n d ə p oː ɕ œ r k ɔ n s ɛ t ə n\r\n",
      "[2021-06-07 00:54:05,332][fairseq.tasks.unpaired_audio_text][INFO] - HYP: t ɛ s j œ r œ j œ b j œ yː k ɵ uː ɵ øː yː b n ə m œ k b ə uː s eː r n v oː s l ɪ ŋ k l ɪ l s ɔ k m k l d a\r\n",
      "[2021-06-07 00:54:05,336][fairseq.tasks.unpaired_audio_text][INFO] - LM [REF]: -53.44462585449219, 0.05339602260269112\r\n",
      "[2021-06-07 00:54:05,337][fairseq.tasks.unpaired_audio_text][INFO] - LM [HYP]: -94.51007843017578, 0.014023654620219301\r\n"
     ]
    },
    {
     "name": "stdout",
     "output_type": "stream",
     "text": [
      "[2021-06-07 00:54:05,871][valid][INFO] - {\"epoch\": 4971, \"valid_loss\": \"1.003\", \"valid_ntokens\": \"3039.79\", \"valid_nsentences\": \"144.214\", \"valid_lm_score_sum\": \"-89688\", \"valid_num_pred_chars\": \"48349\", \"valid_vocab_seen_pct\": \"0.89547\", \"valid_uer\": \"100.268\", \"valid_weighted_lm_ppl\": \"75.2578\", \"valid_lm_ppl\": \"60.3467\", \"valid_wps\": \"18094.4\", \"valid_wpb\": \"3039.8\", \"valid_bsz\": \"144.2\", \"valid_num_updates\": \"79536\", \"valid_best_weighted_lm_ppl\": \"73.4256\"}\r\n",
      "[2021-06-07 00:54:05,874][fairseq.checkpoint_utils][INFO] - Preparing to save checkpoint for epoch 4971 @ 79536 updates\r\n",
      "[2021-06-07 00:54:05,876][fairseq.trainer][INFO] - Saving checkpoint to /kaggle/working/checkpoint_last.pt\r\n"
     ]
    },
    {
     "name": "stdout",
     "output_type": "stream",
     "text": [
      "[2021-06-07 00:54:05,924][fairseq.trainer][INFO] - Finished saving checkpoint to /kaggle/working/checkpoint_last.pt\r\n",
      "[2021-06-07 00:54:05,924][fairseq.checkpoint_utils][INFO] - Saved checkpoint /kaggle/working/checkpoint_last.pt (epoch 4971 @ 79536 updates, score 75.25778100803139) (writing took 0.049736949000362074 seconds)\r\n",
      "[2021-06-07 00:54:05,925][fairseq_cli.train][INFO] - end of epoch 4971 (average epoch stats below)\r\n",
      "[2021-06-07 00:54:05,928][train][INFO] - {\"epoch\": 4971, \"train_loss\": \"3.386\", \"train_ntokens\": \"145.688\", \"train_nsentences\": \"145.688\", \"train_temp\": \"0.1\", \"train_code_ppl\": \"8.901\", \"train_loss_code_pen\": \"0.32\", \"train_loss_smoothness\": \"2.047\", \"train_loss_dense_g\": \"3.989\", \"train_lm_score_sum\": 0.0, \"train_num_pred_chars\": 0.0, \"train_loss_grad_pen\": \"0.127\", \"train_loss_dense_d\": \"0.033\", \"train_loss_token_d\": \"0.031\", \"train_wps\": \"10.8\", \"train_ups\": \"0.07\", \"train_wpb\": \"145.7\", \"train_bsz\": \"145.7\", \"train_num_updates\": \"79536\", \"train_lr_discriminator\": \"0.0005\", \"train_lr_generator\": \"0.0004\", \"train_gnorm\": \"45.946\", \"train_clip\": \"75\", \"train_train_wall\": \"211\", \"train_wall\": \"12358\"}\r\n"
     ]
    },
    {
     "name": "stdout",
     "output_type": "stream",
     "text": [
      "[2021-06-07 00:54:05,987][fairseq.trainer][INFO] - begin training epoch 4972\r\n",
      "[2021-06-07 00:54:05,989][fairseq_cli.train][INFO] - Start iterating over samples\r\n"
     ]
    },
    {
     "name": "stdout",
     "output_type": "stream",
     "text": [
      "[2021-06-07 00:57:37,011][fairseq_cli.train][INFO] - begin validation on \"valid\" subset\r\n"
     ]
    },
    {
     "name": "stdout",
     "output_type": "stream",
     "text": [
      "[2021-06-07 00:57:39,518][fairseq.tasks.unpaired_audio_text][INFO] - REF: ɛ n f œ ʂ ə n a d ɵ ʂ ə k t f øː r d eː t s ɔ m h ɛ n d ə p oː ɕ œ r k ɔ n s ɛ t ə n\r\n",
      "[2021-06-07 00:57:39,521][fairseq.tasks.unpaired_audio_text][INFO] - HYP: t ɛ s j œ r œ j œ b j uː œ yː k ɵ uː ɵ øː yː b n ə m œ k b ə uː s eː r n v oː s l ɪ ŋ k l ɪ l s ɔ k m k l d a\r\n",
      "[2021-06-07 00:57:39,525][fairseq.tasks.unpaired_audio_text][INFO] - LM [REF]: -53.44462585449219, 0.05339602260269112\r\n",
      "[2021-06-07 00:57:39,526][fairseq.tasks.unpaired_audio_text][INFO] - LM [HYP]: -97.42488861083984, 0.013379640664531489\r\n"
     ]
    },
    {
     "name": "stdout",
     "output_type": "stream",
     "text": [
      "[2021-06-07 00:57:40,047][valid][INFO] - {\"epoch\": 4972, \"valid_loss\": \"1.003\", \"valid_ntokens\": \"3039.79\", \"valid_nsentences\": \"144.214\", \"valid_lm_score_sum\": \"-89543.7\", \"valid_num_pred_chars\": \"48300\", \"valid_vocab_seen_pct\": \"0.89547\", \"valid_uer\": \"100.343\", \"valid_weighted_lm_ppl\": \"75.0616\", \"valid_lm_ppl\": \"60.1894\", \"valid_wps\": \"18214.2\", \"valid_wpb\": \"3039.8\", \"valid_bsz\": \"144.2\", \"valid_num_updates\": \"79552\", \"valid_best_weighted_lm_ppl\": \"73.4256\"}\r\n"
     ]
    },
    {
     "name": "stdout",
     "output_type": "stream",
     "text": [
      "[2021-06-07 00:57:40,050][fairseq.checkpoint_utils][INFO] - Preparing to save checkpoint for epoch 4972 @ 79552 updates\r\n",
      "[2021-06-07 00:57:40,052][fairseq.trainer][INFO] - Saving checkpoint to /kaggle/working/checkpoint_last.pt\r\n",
      "[2021-06-07 00:57:40,098][fairseq.trainer][INFO] - Finished saving checkpoint to /kaggle/working/checkpoint_last.pt\r\n",
      "[2021-06-07 00:57:40,098][fairseq.checkpoint_utils][INFO] - Saved checkpoint /kaggle/working/checkpoint_last.pt (epoch 4972 @ 79552 updates, score 75.06156764208814) (writing took 0.04813159999866912 seconds)\r\n",
      "[2021-06-07 00:57:40,099][fairseq_cli.train][INFO] - end of epoch 4972 (average epoch stats below)\r\n"
     ]
    },
    {
     "name": "stdout",
     "output_type": "stream",
     "text": [
      "[2021-06-07 00:57:40,102][train][INFO] - {\"epoch\": 4972, \"train_loss\": \"3.327\", \"train_ntokens\": \"145.688\", \"train_nsentences\": \"145.688\", \"train_temp\": \"0.1\", \"train_code_ppl\": \"8.822\", \"train_loss_code_pen\": \"0.319\", \"train_loss_smoothness\": \"2.04\", \"train_loss_dense_g\": \"3.931\", \"train_lm_score_sum\": 0.0, \"train_num_pred_chars\": 0.0, \"train_loss_grad_pen\": \"0.083\", \"train_loss_dense_d\": \"0.028\", \"train_loss_token_d\": \"0.029\", \"train_wps\": \"10.9\", \"train_ups\": \"0.07\", \"train_wpb\": \"145.7\", \"train_bsz\": \"145.7\", \"train_num_updates\": \"79552\", \"train_lr_discriminator\": \"0.0005\", \"train_lr_generator\": \"0.0004\", \"train_gnorm\": \"30.921\", \"train_clip\": \"68.8\", \"train_train_wall\": \"211\", \"train_wall\": \"12572\"}\r\n"
     ]
    },
    {
     "name": "stdout",
     "output_type": "stream",
     "text": [
      "[2021-06-07 00:57:40,160][fairseq.trainer][INFO] - begin training epoch 4973\r\n",
      "[2021-06-07 00:57:40,162][fairseq_cli.train][INFO] - Start iterating over samples\r\n"
     ]
    },
    {
     "name": "stdout",
     "output_type": "stream",
     "text": [
      "[2021-06-07 01:00:58,054][fairseq_cli.train][INFO] - begin validation on \"valid\" subset\r\n"
     ]
    },
    {
     "name": "stdout",
     "output_type": "stream",
     "text": [
      "[2021-06-07 01:01:00,586][fairseq.tasks.unpaired_audio_text][INFO] - REF: ɛ n f œ ʂ ə n a d ɵ ʂ ə k t f øː r d eː t s ɔ m h ɛ n d ə p oː ɕ œ r k ɔ n s ɛ t ə n\r\n",
      "[2021-06-07 01:01:00,589][fairseq.tasks.unpaired_audio_text][INFO] - HYP: t ɛ s j œ r œ j œ b j uː œ yː k ɵ uː ɵ øː yː b n ə m œ k b ə uː s eː r n v oː s l ɪ ŋ k l ɪ l s m k l n a\r\n",
      "[2021-06-07 01:01:00,594][fairseq.tasks.unpaired_audio_text][INFO] - LM [REF]: -53.44462585449219, 0.05339602260269112\r\n",
      "[2021-06-07 01:01:00,594][fairseq.tasks.unpaired_audio_text][INFO] - LM [HYP]: -95.05717468261719, 0.012556150319773895\r\n"
     ]
    },
    {
     "name": "stdout",
     "output_type": "stream",
     "text": [
      "[2021-06-07 01:01:01,103][valid][INFO] - {\"epoch\": 4973, \"valid_loss\": \"1.006\", \"valid_ntokens\": \"3039.79\", \"valid_nsentences\": \"144.214\", \"valid_lm_score_sum\": \"-90044.9\", \"valid_num_pred_chars\": \"48505\", \"valid_vocab_seen_pct\": \"0.89547\", \"valid_uer\": \"100.604\", \"valid_weighted_lm_ppl\": \"75.5298\", \"valid_lm_ppl\": \"60.5649\", \"valid_wps\": \"18267.3\", \"valid_wpb\": \"3039.8\", \"valid_bsz\": \"144.2\", \"valid_num_updates\": \"79568\", \"valid_best_weighted_lm_ppl\": \"73.4256\"}\r\n",
      "[2021-06-07 01:01:01,106][fairseq.checkpoint_utils][INFO] - Preparing to save checkpoint for epoch 4973 @ 79568 updates\r\n",
      "[2021-06-07 01:01:01,107][fairseq.trainer][INFO] - Saving checkpoint to /kaggle/working/checkpoint_last.pt\r\n"
     ]
    },
    {
     "name": "stdout",
     "output_type": "stream",
     "text": [
      "[2021-06-07 01:01:01,153][fairseq.trainer][INFO] - Finished saving checkpoint to /kaggle/working/checkpoint_last.pt\r\n",
      "[2021-06-07 01:01:01,154][fairseq.checkpoint_utils][INFO] - Saved checkpoint /kaggle/working/checkpoint_last.pt (epoch 4973 @ 79568 updates, score 75.52977823648506) (writing took 0.047729417001391994 seconds)\r\n",
      "[2021-06-07 01:01:01,154][fairseq_cli.train][INFO] - end of epoch 4973 (average epoch stats below)\r\n",
      "[2021-06-07 01:01:01,157][train][INFO] - {\"epoch\": 4973, \"train_loss\": \"3.549\", \"train_ntokens\": \"145.688\", \"train_nsentences\": \"145.688\", \"train_temp\": \"0.1\", \"train_code_ppl\": \"9.013\", \"train_loss_code_pen\": \"0.33\", \"train_loss_smoothness\": \"2.098\", \"train_loss_dense_g\": \"3.883\", \"train_lm_score_sum\": 0.0, \"train_num_pred_chars\": 0.0, \"train_loss_grad_pen\": \"0.127\", \"train_loss_dense_d\": \"0.028\", \"train_loss_token_d\": \"0.03\", \"train_wps\": \"11.6\", \"train_ups\": \"0.08\", \"train_wpb\": \"145.7\", \"train_bsz\": \"145.7\", \"train_num_updates\": \"79568\", \"train_lr_discriminator\": \"0.0005\", \"train_lr_generator\": \"0.0004\", \"train_gnorm\": \"29.117\", \"train_clip\": \"75\", \"train_train_wall\": \"197\", \"train_wall\": \"12774\"}\r\n"
     ]
    },
    {
     "name": "stdout",
     "output_type": "stream",
     "text": [
      "[2021-06-07 01:01:01,219][fairseq.trainer][INFO] - begin training epoch 4974\r\n",
      "[2021-06-07 01:01:01,220][fairseq_cli.train][INFO] - Start iterating over samples\r\n"
     ]
    },
    {
     "name": "stdout",
     "output_type": "stream",
     "text": [
      "[2021-06-07 01:04:30,821][fairseq_cli.train][INFO] - begin validation on \"valid\" subset\r\n"
     ]
    },
    {
     "name": "stdout",
     "output_type": "stream",
     "text": [
      "[2021-06-07 01:04:33,323][fairseq.tasks.unpaired_audio_text][INFO] - REF: ɛ n f œ ʂ ə n a d ɵ ʂ ə k t f øː r d eː t s ɔ m h ɛ n d ə p oː ɕ œ r k ɔ n s ɛ t ə n\r\n"
     ]
    },
    {
     "name": "stdout",
     "output_type": "stream",
     "text": [
      "[2021-06-07 01:04:33,326][fairseq.tasks.unpaired_audio_text][INFO] - HYP: t ɛ s j œ r œ j œ b j uː œ yː k ɵ uː ɵ øː b n ə m œ k b ə uː s eː r n b oː s l ɪ ŋ k l ɪ l s m k l n a\r\n",
      "[2021-06-07 01:04:33,332][fairseq.tasks.unpaired_audio_text][INFO] - LM [REF]: -53.44462585449219, 0.05339602260269112\r\n",
      "[2021-06-07 01:04:33,332][fairseq.tasks.unpaired_audio_text][INFO] - LM [HYP]: -92.3707046508789, 0.013028174849793772\r\n"
     ]
    },
    {
     "name": "stdout",
     "output_type": "stream",
     "text": [
      "[2021-06-07 01:04:33,874][valid][INFO] - {\"epoch\": 4974, \"valid_loss\": \"1.003\", \"valid_ntokens\": \"3039.79\", \"valid_nsentences\": \"144.214\", \"valid_lm_score_sum\": \"-89742.8\", \"valid_num_pred_chars\": \"48347\", \"valid_vocab_seen_pct\": \"0.897213\", \"valid_uer\": \"100.317\", \"valid_weighted_lm_ppl\": \"75.1661\", \"valid_lm_ppl\": \"60.508\", \"valid_wps\": \"17937.1\", \"valid_wpb\": \"3039.8\", \"valid_bsz\": \"144.2\", \"valid_num_updates\": \"79584\", \"valid_best_weighted_lm_ppl\": \"73.4256\"}\r\n",
      "[2021-06-07 01:04:33,877][fairseq.checkpoint_utils][INFO] - Preparing to save checkpoint for epoch 4974 @ 79584 updates\r\n",
      "[2021-06-07 01:04:33,878][fairseq.trainer][INFO] - Saving checkpoint to /kaggle/working/checkpoint_last.pt\r\n"
     ]
    },
    {
     "name": "stdout",
     "output_type": "stream",
     "text": [
      "[2021-06-07 01:04:33,928][fairseq.trainer][INFO] - Finished saving checkpoint to /kaggle/working/checkpoint_last.pt\r\n",
      "[2021-06-07 01:04:33,928][fairseq.checkpoint_utils][INFO] - Saved checkpoint /kaggle/working/checkpoint_last.pt (epoch 4974 @ 79584 updates, score 75.16611118381742) (writing took 0.05135570300080872 seconds)\r\n",
      "[2021-06-07 01:04:33,929][fairseq_cli.train][INFO] - end of epoch 4974 (average epoch stats below)\r\n",
      "[2021-06-07 01:04:33,932][train][INFO] - {\"epoch\": 4974, \"train_loss\": \"3.423\", \"train_ntokens\": \"145.688\", \"train_nsentences\": \"145.688\", \"train_temp\": \"0.1\", \"train_code_ppl\": \"8.886\", \"train_loss_code_pen\": \"0.33\", \"train_loss_smoothness\": \"2.085\", \"train_loss_dense_g\": \"4.029\", \"train_lm_score_sum\": 0.0, \"train_num_pred_chars\": 0.0, \"train_loss_grad_pen\": \"0.104\", \"train_loss_dense_d\": \"0.035\", \"train_loss_token_d\": \"0.036\", \"train_wps\": \"11\", \"train_ups\": \"0.08\", \"train_wpb\": \"145.7\", \"train_bsz\": \"145.7\", \"train_num_updates\": \"79584\", \"train_lr_discriminator\": \"0.0005\", \"train_lr_generator\": \"0.0004\", \"train_gnorm\": \"34.331\", \"train_clip\": \"75\", \"train_train_wall\": \"209\", \"train_wall\": \"12986\"}\r\n"
     ]
    },
    {
     "name": "stdout",
     "output_type": "stream",
     "text": [
      "[2021-06-07 01:04:33,990][fairseq.trainer][INFO] - begin training epoch 4975\r\n",
      "[2021-06-07 01:04:33,992][fairseq_cli.train][INFO] - Start iterating over samples\r\n"
     ]
    },
    {
     "name": "stdout",
     "output_type": "stream",
     "text": [
      "[2021-06-07 01:08:20,262][train_inner][INFO] - {\"epoch\": 4975, \"update\": 4975.0, \"loss\": \"3.367\", \"ntokens\": \"146.26\", \"nsentences\": \"146.26\", \"temp\": \"0.1\", \"code_ppl\": \"8.899\", \"loss_code_pen\": \"0.324\", \"loss_smoothness\": \"2.066\", \"loss_dense_g\": \"3.955\", \"lm_score_sum\": 0.0, \"num_pred_chars\": 0.0, \"loss_grad_pen\": \"0.125\", \"loss_dense_d\": \"0.03\", \"loss_token_d\": \"0.031\", \"wps\": \"11\", \"ups\": \"0.07\", \"wpb\": \"146.3\", \"bsz\": \"146.3\", \"num_updates\": \"79600\", \"lr_discriminator\": \"0.0005\", \"lr_generator\": \"0.0004\", \"gnorm\": \"36.472\", \"clip\": \"72\", \"train_wall\": \"1312\", \"wall\": \"13213\"}\r\n",
      "[2021-06-07 01:08:20,265][fairseq_cli.train][INFO] - begin validation on \"valid\" subset\r\n"
     ]
    },
    {
     "name": "stdout",
     "output_type": "stream",
     "text": [
      "[2021-06-07 01:08:22,726][fairseq.tasks.unpaired_audio_text][INFO] - REF: ɛ n f œ ʂ ə n a d ɵ ʂ ə k t f øː r d eː t s ɔ m h ɛ n d ə p oː ɕ œ r k ɔ n s ɛ t ə n\r\n",
      "[2021-06-07 01:08:22,729][fairseq.tasks.unpaired_audio_text][INFO] - HYP: n ɛ s j œ r œ b j uː œ yː k uː ɵ v b n ə m œ k b ə uː s eː r n b oː s l ɪ ŋ k l ɪ l s ɔ k m t l n a\r\n"
     ]
    },
    {
     "name": "stdout",
     "output_type": "stream",
     "text": [
      "[2021-06-07 01:08:22,734][fairseq.tasks.unpaired_audio_text][INFO] - LM [REF]: -53.44462585449219, 0.05339602260269112\r\n",
      "[2021-06-07 01:08:22,734][fairseq.tasks.unpaired_audio_text][INFO] - LM [HYP]: -88.51390838623047, 0.01432056793792967\r\n"
     ]
    },
    {
     "name": "stdout",
     "output_type": "stream",
     "text": [
      "[2021-06-07 01:08:23,255][valid][INFO] - {\"epoch\": 4975, \"valid_loss\": \"1.004\", \"valid_ntokens\": \"3039.79\", \"valid_nsentences\": \"144.214\", \"valid_lm_score_sum\": \"-89809.4\", \"valid_num_pred_chars\": \"48364\", \"valid_vocab_seen_pct\": \"0.89547\", \"valid_uer\": \"100.392\", \"valid_weighted_lm_ppl\": \"75.5844\", \"valid_lm_ppl\": \"60.6087\", \"valid_wps\": \"18474\", \"valid_wpb\": \"3039.8\", \"valid_bsz\": \"144.2\", \"valid_num_updates\": \"79600\", \"valid_best_weighted_lm_ppl\": \"73.4256\"}\r\n",
      "[2021-06-07 01:08:23,258][fairseq.checkpoint_utils][INFO] - Preparing to save checkpoint for epoch 4975 @ 79600 updates\r\n",
      "[2021-06-07 01:08:23,260][fairseq.trainer][INFO] - Saving checkpoint to /kaggle/working/checkpoint_last.pt\r\n"
     ]
    },
    {
     "name": "stdout",
     "output_type": "stream",
     "text": [
      "[2021-06-07 01:08:23,308][fairseq.trainer][INFO] - Finished saving checkpoint to /kaggle/working/checkpoint_last.pt\r\n",
      "[2021-06-07 01:08:23,308][fairseq.checkpoint_utils][INFO] - Saved checkpoint /kaggle/working/checkpoint_last.pt (epoch 4975 @ 79600 updates, score 75.58441400226764) (writing took 0.04975431599996227 seconds)\r\n",
      "[2021-06-07 01:08:23,309][fairseq_cli.train][INFO] - end of epoch 4975 (average epoch stats below)\r\n",
      "[2021-06-07 01:08:23,311][train][INFO] - {\"epoch\": 4975, \"train_loss\": \"2.88\", \"train_ntokens\": \"145.688\", \"train_nsentences\": \"145.688\", \"train_temp\": \"0.1\", \"train_code_ppl\": \"9.042\", \"train_loss_code_pen\": \"0.328\", \"train_loss_smoothness\": \"2.051\", \"train_loss_dense_g\": \"3.83\", \"train_lm_score_sum\": 0.0, \"train_num_pred_chars\": 0.0, \"train_loss_grad_pen\": \"0.092\", \"train_loss_dense_d\": \"0.027\", \"train_loss_token_d\": \"0.027\", \"train_wps\": \"10.2\", \"train_ups\": \"0.07\", \"train_wpb\": \"145.7\", \"train_bsz\": \"145.7\", \"train_num_updates\": \"79600\", \"train_lr_discriminator\": \"0.0005\", \"train_lr_generator\": \"0.0004\", \"train_gnorm\": \"28.871\", \"train_clip\": \"62.5\", \"train_train_wall\": \"226\", \"train_wall\": \"13216\"}\r\n"
     ]
    },
    {
     "name": "stdout",
     "output_type": "stream",
     "text": [
      "[2021-06-07 01:08:23,368][fairseq.trainer][INFO] - begin training epoch 4976\r\n",
      "[2021-06-07 01:08:23,370][fairseq_cli.train][INFO] - Start iterating over samples\r\n"
     ]
    },
    {
     "name": "stdout",
     "output_type": "stream",
     "text": [
      "[2021-06-07 01:12:08,701][fairseq_cli.train][INFO] - begin validation on \"valid\" subset\r\n"
     ]
    },
    {
     "name": "stdout",
     "output_type": "stream",
     "text": [
      "[2021-06-07 01:12:11,218][fairseq.tasks.unpaired_audio_text][INFO] - REF: ɛ n f œ ʂ ə n a d ɵ ʂ ə k t f øː r d eː t s ɔ m h ɛ n d ə p oː ɕ œ r k ɔ n s ɛ t ə n\r\n",
      "[2021-06-07 01:12:11,220][fairseq.tasks.unpaired_audio_text][INFO] - HYP: n ɛ s j œ f œ j œ b j uː œ yː k ɵ uː f ɵ v j b n ə m œ k b ə uː s eː r n v oː s l ɪ ŋ k l ɪ l s ɔ k m t n\r\n",
      "[2021-06-07 01:12:11,225][fairseq.tasks.unpaired_audio_text][INFO] - LM [REF]: -53.44462585449219, 0.05339602260269112\r\n",
      "[2021-06-07 01:12:11,225][fairseq.tasks.unpaired_audio_text][INFO] - LM [HYP]: -95.91316986083984, 0.013162840250957418\r\n"
     ]
    },
    {
     "name": "stdout",
     "output_type": "stream",
     "text": [
      "[2021-06-07 01:12:11,736][valid][INFO] - {\"epoch\": 4976, \"valid_loss\": \"1.003\", \"valid_ntokens\": \"3039.79\", \"valid_nsentences\": \"144.214\", \"valid_lm_score_sum\": \"-89626.7\", \"valid_num_pred_chars\": \"48397\", \"valid_vocab_seen_pct\": \"0.891986\", \"valid_uer\": \"100.287\", \"valid_weighted_lm_ppl\": \"75.3403\", \"valid_lm_ppl\": \"59.9437\", \"valid_wps\": \"18212\", \"valid_wpb\": \"3039.8\", \"valid_bsz\": \"144.2\", \"valid_num_updates\": \"79616\", \"valid_best_weighted_lm_ppl\": \"73.4256\"}\r\n",
      "[2021-06-07 01:12:11,739][fairseq.checkpoint_utils][INFO] - Preparing to save checkpoint for epoch 4976 @ 79616 updates\r\n",
      "[2021-06-07 01:12:11,741][fairseq.trainer][INFO] - Saving checkpoint to /kaggle/working/checkpoint_last.pt\r\n"
     ]
    },
    {
     "name": "stdout",
     "output_type": "stream",
     "text": [
      "[2021-06-07 01:12:11,789][fairseq.trainer][INFO] - Finished saving checkpoint to /kaggle/working/checkpoint_last.pt\r\n",
      "[2021-06-07 01:12:11,789][fairseq.checkpoint_utils][INFO] - Saved checkpoint /kaggle/working/checkpoint_last.pt (epoch 4976 @ 79616 updates, score 75.34025169562237) (writing took 0.04989064400069765 seconds)\r\n",
      "[2021-06-07 01:12:11,790][fairseq_cli.train][INFO] - end of epoch 4976 (average epoch stats below)\r\n",
      "[2021-06-07 01:12:11,793][train][INFO] - {\"epoch\": 4976, \"train_loss\": \"2.893\", \"train_ntokens\": \"145.688\", \"train_nsentences\": \"145.688\", \"train_temp\": \"0.1\", \"train_code_ppl\": \"8.882\", \"train_loss_code_pen\": \"0.322\", \"train_loss_smoothness\": \"2.025\", \"train_loss_dense_g\": \"3.933\", \"train_lm_score_sum\": 0.0, \"train_num_pred_chars\": 0.0, \"train_loss_grad_pen\": \"0.057\", \"train_loss_dense_d\": \"0.029\", \"train_loss_token_d\": \"0.026\", \"train_wps\": \"10.2\", \"train_ups\": \"0.07\", \"train_wpb\": \"145.7\", \"train_bsz\": \"145.7\", \"train_num_updates\": \"79616\", \"train_lr_discriminator\": \"0.0005\", \"train_lr_generator\": \"0.0004\", \"train_gnorm\": \"28.735\", \"train_clip\": \"68.8\", \"train_train_wall\": \"225\", \"train_wall\": \"13444\"}\r\n"
     ]
    },
    {
     "name": "stdout",
     "output_type": "stream",
     "text": [
      "[2021-06-07 01:12:11,850][fairseq.trainer][INFO] - begin training epoch 4977\r\n",
      "[2021-06-07 01:12:11,852][fairseq_cli.train][INFO] - Start iterating over samples\r\n"
     ]
    },
    {
     "name": "stdout",
     "output_type": "stream",
     "text": [
      "[2021-06-07 01:15:54,505][fairseq_cli.train][INFO] - begin validation on \"valid\" subset\r\n"
     ]
    },
    {
     "name": "stdout",
     "output_type": "stream",
     "text": [
      "[2021-06-07 01:15:56,967][fairseq.tasks.unpaired_audio_text][INFO] - REF: ɛ n f œ ʂ ə n a d ɵ ʂ ə k t f øː r d eː t s ɔ m h ɛ n d ə p oː ɕ œ r k ɔ n s ɛ t ə n\r\n",
      "[2021-06-07 01:15:56,969][fairseq.tasks.unpaired_audio_text][INFO] - HYP: n ɛ s j œ f œ j œ b j uː œ yː k ɵ uː ɵ v j b n ə m œ k ə uː s eː r n b oː s l ɪ ŋ k l ɪ l s m k m t l n a\r\n",
      "[2021-06-07 01:15:56,974][fairseq.tasks.unpaired_audio_text][INFO] - LM [REF]: -53.44462585449219, 0.05339602260269112\r\n",
      "[2021-06-07 01:15:56,974][fairseq.tasks.unpaired_audio_text][INFO] - LM [HYP]: -97.28781127929688, 0.012370745069899521\r\n"
     ]
    },
    {
     "name": "stdout",
     "output_type": "stream",
     "text": [
      "[2021-06-07 01:15:57,498][valid][INFO] - {\"epoch\": 4977, \"valid_loss\": \"1.001\", \"valid_ntokens\": \"3039.79\", \"valid_nsentences\": \"144.214\", \"valid_lm_score_sum\": \"-89552.3\", \"valid_num_pred_chars\": \"48343\", \"valid_vocab_seen_pct\": \"0.898955\", \"valid_uer\": \"100.139\", \"valid_weighted_lm_ppl\": \"74.2499\", \"valid_lm_ppl\": \"60.0028\", \"valid_wps\": \"18472.4\", \"valid_wpb\": \"3039.8\", \"valid_bsz\": \"144.2\", \"valid_num_updates\": \"79632\", \"valid_best_weighted_lm_ppl\": \"73.4256\"}\r\n",
      "[2021-06-07 01:15:57,501][fairseq.checkpoint_utils][INFO] - Preparing to save checkpoint for epoch 4977 @ 79632 updates\r\n",
      "[2021-06-07 01:15:57,502][fairseq.trainer][INFO] - Saving checkpoint to /kaggle/working/checkpoint_last.pt\r\n"
     ]
    },
    {
     "name": "stdout",
     "output_type": "stream",
     "text": [
      "[2021-06-07 01:15:57,551][fairseq.trainer][INFO] - Finished saving checkpoint to /kaggle/working/checkpoint_last.pt\r\n",
      "[2021-06-07 01:15:57,551][fairseq.checkpoint_utils][INFO] - Saved checkpoint /kaggle/working/checkpoint_last.pt (epoch 4977 @ 79632 updates, score 74.24993018163748) (writing took 0.050284050001209835 seconds)\r\n",
      "[2021-06-07 01:15:57,552][fairseq_cli.train][INFO] - end of epoch 4977 (average epoch stats below)\r\n",
      "[2021-06-07 01:15:57,555][train][INFO] - {\"epoch\": 4977, \"train_loss\": \"2.923\", \"train_ntokens\": \"145.688\", \"train_nsentences\": \"145.688\", \"train_temp\": \"0.1\", \"train_code_ppl\": \"8.91\", \"train_loss_code_pen\": \"0.343\", \"train_loss_smoothness\": \"2.089\", \"train_loss_dense_g\": \"3.899\", \"train_lm_score_sum\": 0.0, \"train_num_pred_chars\": 0.0, \"train_loss_grad_pen\": \"0.075\", \"train_loss_dense_d\": \"0.025\", \"train_loss_token_d\": \"0.024\", \"train_wps\": \"10.3\", \"train_ups\": \"0.07\", \"train_wpb\": \"145.7\", \"train_bsz\": \"145.7\", \"train_num_updates\": \"79632\", \"train_lr_discriminator\": \"0.0005\", \"train_lr_generator\": \"0.0004\", \"train_gnorm\": \"29.596\", \"train_clip\": \"81.2\", \"train_train_wall\": \"222\", \"train_wall\": \"13670\"}\r\n"
     ]
    },
    {
     "name": "stdout",
     "output_type": "stream",
     "text": [
      "[2021-06-07 01:15:57,615][fairseq.trainer][INFO] - begin training epoch 4978\r\n",
      "[2021-06-07 01:15:57,616][fairseq_cli.train][INFO] - Start iterating over samples\r\n"
     ]
    },
    {
     "name": "stdout",
     "output_type": "stream",
     "text": [
      "[2021-06-07 01:19:26,553][fairseq_cli.train][INFO] - begin validation on \"valid\" subset\r\n"
     ]
    },
    {
     "name": "stdout",
     "output_type": "stream",
     "text": [
      "[2021-06-07 01:19:29,044][fairseq.tasks.unpaired_audio_text][INFO] - REF: ɛ n f œ ʂ ə n a d ɵ ʂ ə k t f øː r d eː t s ɔ m h ɛ n d ə p oː ɕ œ r k ɔ n s ɛ t ə n\r\n",
      "[2021-06-07 01:19:29,047][fairseq.tasks.unpaired_audio_text][INFO] - HYP: n ɛ s j œ f œ j œ b j œ yː k uː ɵ øː b n ə m ɔ k b ə uː s eː r n v oː s l ɪ ŋ k l ɪ l s m k m t n\r\n",
      "[2021-06-07 01:19:29,051][fairseq.tasks.unpaired_audio_text][INFO] - LM [REF]: -53.44462585449219, 0.05339602260269112\r\n",
      "[2021-06-07 01:19:29,051][fairseq.tasks.unpaired_audio_text][INFO] - LM [HYP]: -85.79621124267578, 0.014946816299838352\r\n"
     ]
    },
    {
     "name": "stdout",
     "output_type": "stream",
     "text": [
      "[2021-06-07 01:19:29,570][valid][INFO] - {\"epoch\": 4978, \"valid_loss\": \"1.002\", \"valid_ntokens\": \"3039.79\", \"valid_nsentences\": \"144.214\", \"valid_lm_score_sum\": \"-89497.1\", \"valid_num_pred_chars\": \"48367\", \"valid_vocab_seen_pct\": \"0.893728\", \"valid_uer\": \"100.211\", \"valid_weighted_lm_ppl\": \"74.7857\", \"valid_lm_ppl\": \"59.7351\", \"valid_wps\": \"18012.7\", \"valid_wpb\": \"3039.8\", \"valid_bsz\": \"144.2\", \"valid_num_updates\": \"79648\", \"valid_best_weighted_lm_ppl\": \"73.4256\"}\r\n",
      "[2021-06-07 01:19:29,574][fairseq.checkpoint_utils][INFO] - Preparing to save checkpoint for epoch 4978 @ 79648 updates\r\n",
      "[2021-06-07 01:19:29,575][fairseq.trainer][INFO] - Saving checkpoint to /kaggle/working/checkpoint_last.pt\r\n"
     ]
    },
    {
     "name": "stdout",
     "output_type": "stream",
     "text": [
      "[2021-06-07 01:19:29,622][fairseq.trainer][INFO] - Finished saving checkpoint to /kaggle/working/checkpoint_last.pt\r\n",
      "[2021-06-07 01:19:29,622][fairseq.checkpoint_utils][INFO] - Saved checkpoint /kaggle/working/checkpoint_last.pt (epoch 4978 @ 79648 updates, score 74.78574248839286) (writing took 0.0480736790013907 seconds)\r\n",
      "[2021-06-07 01:19:29,622][fairseq_cli.train][INFO] - end of epoch 4978 (average epoch stats below)\r\n",
      "[2021-06-07 01:19:29,627][train][INFO] - {\"epoch\": 4978, \"train_loss\": \"3.236\", \"train_ntokens\": \"145.688\", \"train_nsentences\": \"145.688\", \"train_temp\": \"0.1\", \"train_code_ppl\": \"8.821\", \"train_loss_code_pen\": \"0.342\", \"train_loss_smoothness\": \"2.08\", \"train_loss_dense_g\": \"4.121\", \"train_lm_score_sum\": 0.0, \"train_num_pred_chars\": 0.0, \"train_loss_grad_pen\": \"0.109\", \"train_loss_dense_d\": \"0.023\", \"train_loss_token_d\": \"0.029\", \"train_wps\": \"11\", \"train_ups\": \"0.08\", \"train_wpb\": \"145.7\", \"train_bsz\": \"145.7\", \"train_num_updates\": \"79648\", \"train_lr_discriminator\": \"0.0005\", \"train_lr_generator\": \"0.0004\", \"train_gnorm\": \"30.21\", \"train_clip\": \"87.5\", \"train_train_wall\": \"209\", \"train_wall\": \"13882\"}\r\n"
     ]
    },
    {
     "name": "stdout",
     "output_type": "stream",
     "text": [
      "[2021-06-07 01:19:29,688][fairseq.trainer][INFO] - begin training epoch 4979\r\n",
      "[2021-06-07 01:19:29,689][fairseq_cli.train][INFO] - Start iterating over samples\r\n"
     ]
    },
    {
     "name": "stdout",
     "output_type": "stream",
     "text": [
      "[2021-06-07 01:22:59,298][fairseq_cli.train][INFO] - begin validation on \"valid\" subset\r\n"
     ]
    },
    {
     "name": "stdout",
     "output_type": "stream",
     "text": [
      "[2021-06-07 01:23:01,824][fairseq.tasks.unpaired_audio_text][INFO] - REF: ɛ n f œ ʂ ə n a d ɵ ʂ ə k t f øː r d eː t s ɔ m h ɛ n d ə p oː ɕ œ r k ɔ n s ɛ t ə n\r\n",
      "[2021-06-07 01:23:01,827][fairseq.tasks.unpaired_audio_text][INFO] - HYP: n ɛ s j œ f œ j œ b j œ yː k ɵ uː ɵ øː n ə m œ k b ə uː s eː r n v oː s l ɪ ŋ k l ɪ l s ɔ k m t n\r\n",
      "[2021-06-07 01:23:01,831][fairseq.tasks.unpaired_audio_text][INFO] - LM [REF]: -53.44462585449219, 0.05339602260269112\r\n",
      "[2021-06-07 01:23:01,831][fairseq.tasks.unpaired_audio_text][INFO] - LM [HYP]: -86.54779052734375, 0.014406472294159336\r\n"
     ]
    },
    {
     "name": "stdout",
     "output_type": "stream",
     "text": [
      "[2021-06-07 01:23:02,369][valid][INFO] - {\"epoch\": 4979, \"valid_loss\": \"1.002\", \"valid_ntokens\": \"3039.79\", \"valid_nsentences\": \"144.214\", \"valid_lm_score_sum\": \"-89560.1\", \"valid_num_pred_chars\": \"48511\", \"valid_vocab_seen_pct\": \"0.89547\", \"valid_uer\": \"100.242\", \"valid_weighted_lm_ppl\": \"73.8436\", \"valid_lm_ppl\": \"59.2128\", \"valid_wps\": \"17909.4\", \"valid_wpb\": \"3039.8\", \"valid_bsz\": \"144.2\", \"valid_num_updates\": \"79664\", \"valid_best_weighted_lm_ppl\": \"73.4256\"}\r\n",
      "[2021-06-07 01:23:02,372][fairseq.checkpoint_utils][INFO] - Preparing to save checkpoint for epoch 4979 @ 79664 updates\r\n",
      "[2021-06-07 01:23:02,373][fairseq.trainer][INFO] - Saving checkpoint to /kaggle/working/checkpoint_last.pt\r\n"
     ]
    },
    {
     "name": "stdout",
     "output_type": "stream",
     "text": [
      "[2021-06-07 01:23:02,420][fairseq.trainer][INFO] - Finished saving checkpoint to /kaggle/working/checkpoint_last.pt\r\n",
      "[2021-06-07 01:23:02,420][fairseq.checkpoint_utils][INFO] - Saved checkpoint /kaggle/working/checkpoint_last.pt (epoch 4979 @ 79664 updates, score 73.84360534508264) (writing took 0.04783737899924745 seconds)\r\n",
      "[2021-06-07 01:23:02,421][fairseq_cli.train][INFO] - end of epoch 4979 (average epoch stats below)\r\n",
      "[2021-06-07 01:23:02,424][train][INFO] - {\"epoch\": 4979, \"train_loss\": \"3.377\", \"train_ntokens\": \"145.688\", \"train_nsentences\": \"145.688\", \"train_temp\": \"0.1\", \"train_code_ppl\": \"8.794\", \"train_loss_code_pen\": \"0.326\", \"train_loss_smoothness\": \"2.052\", \"train_loss_dense_g\": \"3.986\", \"train_lm_score_sum\": 0.0, \"train_num_pred_chars\": 0.0, \"train_loss_grad_pen\": \"0.114\", \"train_loss_dense_d\": \"0.026\", \"train_loss_token_d\": \"0.025\", \"train_wps\": \"11\", \"train_ups\": \"0.08\", \"train_wpb\": \"145.7\", \"train_bsz\": \"145.7\", \"train_num_updates\": \"79664\", \"train_lr_discriminator\": \"0.0005\", \"train_lr_generator\": \"0.0004\", \"train_gnorm\": \"35.251\", \"train_clip\": \"87.5\", \"train_train_wall\": \"209\", \"train_wall\": \"14095\"}\r\n"
     ]
    },
    {
     "name": "stdout",
     "output_type": "stream",
     "text": [
      "[2021-06-07 01:23:02,483][fairseq.trainer][INFO] - begin training epoch 4980\r\n",
      "[2021-06-07 01:23:02,485][fairseq_cli.train][INFO] - Start iterating over samples\r\n"
     ]
    },
    {
     "name": "stdout",
     "output_type": "stream",
     "text": [
      "[2021-06-07 01:26:46,127][fairseq_cli.train][INFO] - begin validation on \"valid\" subset\r\n"
     ]
    },
    {
     "name": "stdout",
     "output_type": "stream",
     "text": [
      "[2021-06-07 01:26:48,649][fairseq.tasks.unpaired_audio_text][INFO] - REF: ɛ n f œ ʂ ə n a d ɵ ʂ ə k t f øː r d eː t s ɔ m h ɛ n d ə p oː ɕ œ r k ɔ n s ɛ t ə n\r\n",
      "[2021-06-07 01:26:48,652][fairseq.tasks.unpaired_audio_text][INFO] - HYP: n ɛ s j œ f œ ʂ b j œ yː k uː ɵ øː n ə m œ k ə uː s eː r n v oː s l ɪ ŋ k l ɪ l s œ k m k n a\r\n",
      "[2021-06-07 01:26:48,656][fairseq.tasks.unpaired_audio_text][INFO] - LM [REF]: -53.44462585449219, 0.05339602260269112\r\n",
      "[2021-06-07 01:26:48,656][fairseq.tasks.unpaired_audio_text][INFO] - LM [HYP]: -81.36444854736328, 0.01555611494064891\r\n"
     ]
    },
    {
     "name": "stdout",
     "output_type": "stream",
     "text": [
      "[2021-06-07 01:26:49,176][valid][INFO] - {\"epoch\": 4980, \"valid_loss\": \"1.002\", \"valid_ntokens\": \"3039.79\", \"valid_nsentences\": \"144.214\", \"valid_lm_score_sum\": \"-89682.3\", \"valid_num_pred_chars\": \"48449\", \"valid_vocab_seen_pct\": \"0.898955\", \"valid_uer\": \"100.176\", \"valid_weighted_lm_ppl\": \"74.0521\", \"valid_lm_ppl\": \"59.843\", \"valid_wps\": \"17937.2\", \"valid_wpb\": \"3039.8\", \"valid_bsz\": \"144.2\", \"valid_num_updates\": \"79680\", \"valid_best_weighted_lm_ppl\": \"73.4256\"}\r\n",
      "[2021-06-07 01:26:49,179][fairseq.checkpoint_utils][INFO] - Preparing to save checkpoint for epoch 4980 @ 79680 updates\r\n",
      "[2021-06-07 01:26:49,180][fairseq.trainer][INFO] - Saving checkpoint to /kaggle/working/checkpoint_last.pt\r\n"
     ]
    },
    {
     "name": "stdout",
     "output_type": "stream",
     "text": [
      "[2021-06-07 01:26:49,225][fairseq.trainer][INFO] - Finished saving checkpoint to /kaggle/working/checkpoint_last.pt\r\n",
      "[2021-06-07 01:26:49,225][fairseq.checkpoint_utils][INFO] - Saved checkpoint /kaggle/working/checkpoint_last.pt (epoch 4980 @ 79680 updates, score 74.05210804142378) (writing took 0.04651214800105663 seconds)\r\n",
      "[2021-06-07 01:26:49,226][fairseq_cli.train][INFO] - end of epoch 4980 (average epoch stats below)\r\n",
      "[2021-06-07 01:26:49,228][train][INFO] - {\"epoch\": 4980, \"train_loss\": \"3.135\", \"train_ntokens\": \"145.688\", \"train_nsentences\": \"145.688\", \"train_temp\": \"0.1\", \"train_code_ppl\": \"8.808\", \"train_loss_code_pen\": \"0.325\", \"train_loss_smoothness\": \"2.069\", \"train_loss_dense_g\": \"3.993\", \"train_lm_score_sum\": 0.0, \"train_num_pred_chars\": 0.0, \"train_loss_grad_pen\": \"0.058\", \"train_loss_dense_d\": \"0.027\", \"train_loss_token_d\": \"0.025\", \"train_wps\": \"10.3\", \"train_ups\": \"0.07\", \"train_wpb\": \"145.7\", \"train_bsz\": \"145.7\", \"train_num_updates\": \"79680\", \"train_lr_discriminator\": \"0.0005\", \"train_lr_generator\": \"0.0004\", \"train_gnorm\": \"28.758\", \"train_clip\": \"68.8\", \"train_train_wall\": \"223\", \"train_wall\": \"14322\"}\r\n"
     ]
    },
    {
     "name": "stdout",
     "output_type": "stream",
     "text": [
      "[2021-06-07 01:26:49,287][fairseq.trainer][INFO] - begin training epoch 4981\r\n",
      "[2021-06-07 01:26:49,289][fairseq_cli.train][INFO] - Start iterating over samples\r\n"
     ]
    },
    {
     "name": "stdout",
     "output_type": "stream",
     "text": [
      "[2021-06-07 01:30:07,795][fairseq_cli.train][INFO] - begin validation on \"valid\" subset\r\n"
     ]
    },
    {
     "name": "stdout",
     "output_type": "stream",
     "text": [
      "[2021-06-07 01:30:10,362][fairseq.tasks.unpaired_audio_text][INFO] - REF: ɛ n f œ ʂ ə n a d ɵ ʂ ə k t f øː r d eː t s ɔ m h ɛ n d ə p oː ɕ œ r k ɔ n s ɛ t ə n\r\n",
      "[2021-06-07 01:30:10,365][fairseq.tasks.unpaired_audio_text][INFO] - HYP: n ɛ s j œ f œ b j uː œ j k ɵ uː ɵ øː yː b n ə m œ k ə uː s eː r n v oː s l ɪ ŋ k l ɪ l s ɔ k m k n\r\n",
      "[2021-06-07 01:30:10,370][fairseq.tasks.unpaired_audio_text][INFO] - LM [REF]: -53.44462585449219, 0.05339602260269112\r\n",
      "[2021-06-07 01:30:10,370][fairseq.tasks.unpaired_audio_text][INFO] - LM [HYP]: -88.52147674560547, 0.013078692367194136\r\n"
     ]
    },
    {
     "name": "stdout",
     "output_type": "stream",
     "text": [
      "[2021-06-07 01:30:10,910][valid][INFO] - {\"epoch\": 4981, \"valid_loss\": \"1.003\", \"valid_ntokens\": \"3039.79\", \"valid_nsentences\": \"144.214\", \"valid_lm_score_sum\": \"-89781.2\", \"valid_num_pred_chars\": \"48515\", \"valid_vocab_seen_pct\": \"0.89547\", \"valid_uer\": \"100.263\", \"valid_weighted_lm_ppl\": \"74.5669\", \"valid_lm_ppl\": \"59.7928\", \"valid_wps\": \"17533.1\", \"valid_wpb\": \"3039.8\", \"valid_bsz\": \"144.2\", \"valid_num_updates\": \"79696\", \"valid_best_weighted_lm_ppl\": \"73.4256\"}\r\n",
      "[2021-06-07 01:30:10,913][fairseq.checkpoint_utils][INFO] - Preparing to save checkpoint for epoch 4981 @ 79696 updates\r\n",
      "[2021-06-07 01:30:10,914][fairseq.trainer][INFO] - Saving checkpoint to /kaggle/working/checkpoint_last.pt\r\n"
     ]
    },
    {
     "name": "stdout",
     "output_type": "stream",
     "text": [
      "[2021-06-07 01:30:10,960][fairseq.trainer][INFO] - Finished saving checkpoint to /kaggle/working/checkpoint_last.pt\r\n",
      "[2021-06-07 01:30:10,961][fairseq.checkpoint_utils][INFO] - Saved checkpoint /kaggle/working/checkpoint_last.pt (epoch 4981 @ 79696 updates, score 74.56690958139805) (writing took 0.047923013000399806 seconds)\r\n",
      "[2021-06-07 01:30:10,961][fairseq_cli.train][INFO] - end of epoch 4981 (average epoch stats below)\r\n",
      "[2021-06-07 01:30:10,964][train][INFO] - {\"epoch\": 4981, \"train_loss\": \"3.684\", \"train_ntokens\": \"145.688\", \"train_nsentences\": \"145.688\", \"train_temp\": \"0.1\", \"train_code_ppl\": \"8.775\", \"train_loss_code_pen\": \"0.331\", \"train_loss_smoothness\": \"2.082\", \"train_loss_dense_g\": \"4.18\", \"train_lm_score_sum\": 0.0, \"train_num_pred_chars\": 0.0, \"train_loss_grad_pen\": \"0.083\", \"train_loss_dense_d\": \"0.029\", \"train_loss_token_d\": \"0.028\", \"train_wps\": \"11.6\", \"train_ups\": \"0.08\", \"train_wpb\": \"145.7\", \"train_bsz\": \"145.7\", \"train_num_updates\": \"79696\", \"train_lr_discriminator\": \"0.0005\", \"train_lr_generator\": \"0.0004\", \"train_gnorm\": \"30.095\", \"train_clip\": \"75\", \"train_train_wall\": \"198\", \"train_wall\": \"14523\"}\r\n"
     ]
    },
    {
     "name": "stdout",
     "output_type": "stream",
     "text": [
      "[2021-06-07 01:30:11,027][fairseq.trainer][INFO] - begin training epoch 4982\r\n",
      "[2021-06-07 01:30:11,029][fairseq_cli.train][INFO] - Start iterating over samples\r\n"
     ]
    },
    {
     "name": "stdout",
     "output_type": "stream",
     "text": [
      "[2021-06-07 01:31:05,894][train_inner][INFO] - {\"epoch\": 4982, \"update\": 4981.25, \"loss\": \"3.172\", \"ntokens\": \"144.69\", \"nsentences\": \"144.69\", \"temp\": \"0.1\", \"code_ppl\": \"8.878\", \"loss_code_pen\": \"0.332\", \"loss_smoothness\": \"2.066\", \"loss_dense_g\": \"4.018\", \"lm_score_sum\": 0.0, \"num_pred_chars\": 0.0, \"loss_grad_pen\": \"0.081\", \"loss_dense_d\": \"0.027\", \"loss_token_d\": \"0.026\", \"wps\": \"10.6\", \"ups\": \"0.07\", \"wpb\": \"144.7\", \"bsz\": \"144.7\", \"num_updates\": \"79700\", \"lr_discriminator\": \"0.0005\", \"lr_generator\": \"0.0004\", \"gnorm\": \"30.393\", \"clip\": \"78\", \"train_wall\": \"1341\", \"wall\": \"14578\"}\r\n"
     ]
    },
    {
     "name": "stdout",
     "output_type": "stream",
     "text": [
      "[2021-06-07 01:33:58,472][fairseq_cli.train][INFO] - begin validation on \"valid\" subset\r\n"
     ]
    },
    {
     "name": "stdout",
     "output_type": "stream",
     "text": [
      "[2021-06-07 01:34:01,008][fairseq.tasks.unpaired_audio_text][INFO] - REF: ɛ n f œ ʂ ə n a d ɵ ʂ ə k t f øː r d eː t s ɔ m h ɛ n d ə p oː ɕ œ r k ɔ n s ɛ t ə n\r\n",
      "[2021-06-07 01:34:01,010][fairseq.tasks.unpaired_audio_text][INFO] - HYP: t ɛ s j œ r œ j œ b j uː œ j k ɵ uː ɵ øː b n ə m œ k b ə uː s eː r n v oː s l ɪ ŋ k l ɪ l s œ k m k n\r\n",
      "[2021-06-07 01:34:01,015][fairseq.tasks.unpaired_audio_text][INFO] - LM [REF]: -53.44462585449219, 0.05339602260269112\r\n",
      "[2021-06-07 01:34:01,015][fairseq.tasks.unpaired_audio_text][INFO] - LM [HYP]: -92.47726440429688, 0.012963100550054094\r\n"
     ]
    },
    {
     "name": "stdout",
     "output_type": "stream",
     "text": [
      "[2021-06-07 01:34:01,544][valid][INFO] - {\"epoch\": 4982, \"valid_loss\": \"1.002\", \"valid_ntokens\": \"3039.79\", \"valid_nsentences\": \"144.214\", \"valid_lm_score_sum\": \"-89792\", \"valid_num_pred_chars\": \"48515\", \"valid_vocab_seen_pct\": \"0.893728\", \"valid_uer\": \"100.23\", \"valid_weighted_lm_ppl\": \"74.8948\", \"valid_lm_ppl\": \"59.8223\", \"valid_wps\": \"17889.3\", \"valid_wpb\": \"3039.8\", \"valid_bsz\": \"144.2\", \"valid_num_updates\": \"79712\", \"valid_best_weighted_lm_ppl\": \"73.4256\"}\r\n",
      "[2021-06-07 01:34:01,548][fairseq.checkpoint_utils][INFO] - Preparing to save checkpoint for epoch 4982 @ 79712 updates\r\n",
      "[2021-06-07 01:34:01,549][fairseq.trainer][INFO] - Saving checkpoint to /kaggle/working/checkpoint_last.pt\r\n"
     ]
    },
    {
     "name": "stdout",
     "output_type": "stream",
     "text": [
      "[2021-06-07 01:34:01,595][fairseq.trainer][INFO] - Finished saving checkpoint to /kaggle/working/checkpoint_last.pt\r\n",
      "[2021-06-07 01:34:01,595][fairseq.checkpoint_utils][INFO] - Saved checkpoint /kaggle/working/checkpoint_last.pt (epoch 4982 @ 79712 updates, score 74.89484500987409) (writing took 0.04720830000042042 seconds)\r\n",
      "[2021-06-07 01:34:01,595][fairseq_cli.train][INFO] - end of epoch 4982 (average epoch stats below)\r\n",
      "[2021-06-07 01:34:01,599][train][INFO] - {\"epoch\": 4982, \"train_loss\": \"2.928\", \"train_ntokens\": \"145.688\", \"train_nsentences\": \"145.688\", \"train_temp\": \"0.1\", \"train_code_ppl\": \"8.759\", \"train_loss_code_pen\": \"0.317\", \"train_loss_smoothness\": \"2.008\", \"train_loss_dense_g\": \"4.039\", \"train_lm_score_sum\": 0.0, \"train_num_pred_chars\": 0.0, \"train_loss_grad_pen\": \"0.055\", \"train_loss_dense_d\": \"0.026\", \"train_loss_token_d\": \"0.025\", \"train_wps\": \"10.1\", \"train_ups\": \"0.07\", \"train_wpb\": \"145.7\", \"train_bsz\": \"145.7\", \"train_num_updates\": \"79712\", \"train_lr_discriminator\": \"0.0005\", \"train_lr_generator\": \"0.0004\", \"train_gnorm\": \"28.872\", \"train_clip\": \"68.8\", \"train_train_wall\": \"227\", \"train_wall\": \"14754\"}\r\n"
     ]
    },
    {
     "name": "stdout",
     "output_type": "stream",
     "text": [
      "[2021-06-07 01:34:01,663][fairseq.trainer][INFO] - begin training epoch 4983\r\n",
      "[2021-06-07 01:34:01,665][fairseq_cli.train][INFO] - Start iterating over samples\r\n"
     ]
    },
    {
     "name": "stdout",
     "output_type": "stream",
     "text": [
      "[2021-06-07 01:37:34,642][fairseq_cli.train][INFO] - begin validation on \"valid\" subset\r\n"
     ]
    },
    {
     "name": "stdout",
     "output_type": "stream",
     "text": [
      "[2021-06-07 01:37:37,396][fairseq.tasks.unpaired_audio_text][INFO] - REF: ɛ n f œ ʂ ə n a d ɵ ʂ ə k t f øː r d eː t s ɔ m h ɛ n d ə p oː ɕ œ r k ɔ n s ɛ t ə n\r\n",
      "[2021-06-07 01:37:37,399][fairseq.tasks.unpaired_audio_text][INFO] - HYP: n ɛ s j œ f œ j œ b j uː œ j k ɵ uː ɵ øː b n ə m œ k ə uː s eː r n v oː s l ɪ ŋ k l ɪ l s ɔ m k l n\r\n"
     ]
    },
    {
     "name": "stdout",
     "output_type": "stream",
     "text": [
      "[2021-06-07 01:37:37,403][fairseq.tasks.unpaired_audio_text][INFO] - LM [REF]: -53.44462585449219, 0.05339602260269112\r\n",
      "[2021-06-07 01:37:37,404][fairseq.tasks.unpaired_audio_text][INFO] - LM [HYP]: -87.52471160888672, 0.015016492659978075\r\n"
     ]
    },
    {
     "name": "stdout",
     "output_type": "stream",
     "text": [
      "[2021-06-07 01:37:37,924][valid][INFO] - {\"epoch\": 4983, \"valid_loss\": \"1.002\", \"valid_ntokens\": \"3039.79\", \"valid_nsentences\": \"144.214\", \"valid_lm_score_sum\": \"-89697\", \"valid_num_pred_chars\": \"48438\", \"valid_vocab_seen_pct\": \"0.893728\", \"valid_uer\": \"100.202\", \"valid_weighted_lm_ppl\": \"75.0379\", \"valid_lm_ppl\": \"59.9366\", \"valid_wps\": \"18129.4\", \"valid_wpb\": \"3039.8\", \"valid_bsz\": \"144.2\", \"valid_num_updates\": \"79728\", \"valid_best_weighted_lm_ppl\": \"73.4256\"}\r\n",
      "[2021-06-07 01:37:37,928][fairseq.checkpoint_utils][INFO] - Preparing to save checkpoint for epoch 4983 @ 79728 updates\r\n",
      "[2021-06-07 01:37:37,929][fairseq.trainer][INFO] - Saving checkpoint to /kaggle/working/checkpoint_last.pt\r\n"
     ]
    },
    {
     "name": "stdout",
     "output_type": "stream",
     "text": [
      "[2021-06-07 01:37:37,977][fairseq.trainer][INFO] - Finished saving checkpoint to /kaggle/working/checkpoint_last.pt\r\n",
      "[2021-06-07 01:37:37,978][fairseq.checkpoint_utils][INFO] - Saved checkpoint /kaggle/working/checkpoint_last.pt (epoch 4983 @ 79728 updates, score 75.03794122009946) (writing took 0.05025198299881595 seconds)\r\n",
      "[2021-06-07 01:37:37,979][fairseq_cli.train][INFO] - end of epoch 4983 (average epoch stats below)\r\n",
      "[2021-06-07 01:37:37,982][train][INFO] - {\"epoch\": 4983, \"train_loss\": \"3.38\", \"train_ntokens\": \"145.688\", \"train_nsentences\": \"145.688\", \"train_temp\": \"0.1\", \"train_code_ppl\": \"8.9\", \"train_loss_code_pen\": \"0.349\", \"train_loss_smoothness\": \"2.126\", \"train_loss_dense_g\": \"3.948\", \"train_lm_score_sum\": 0.0, \"train_num_pred_chars\": 0.0, \"train_loss_grad_pen\": \"0.056\", \"train_loss_dense_d\": \"0.025\", \"train_loss_token_d\": \"0.025\", \"train_wps\": \"10.8\", \"train_ups\": \"0.07\", \"train_wpb\": \"145.7\", \"train_bsz\": \"145.7\", \"train_num_updates\": \"79728\", \"train_lr_discriminator\": \"0.0005\", \"train_lr_generator\": \"0.0004\", \"train_gnorm\": \"30.792\", \"train_clip\": \"68.8\", \"train_train_wall\": \"212\", \"train_wall\": \"14970\"}\r\n"
     ]
    },
    {
     "name": "stdout",
     "output_type": "stream",
     "text": [
      "[2021-06-07 01:37:38,042][fairseq.trainer][INFO] - begin training epoch 4984\r\n",
      "[2021-06-07 01:37:38,043][fairseq_cli.train][INFO] - Start iterating over samples\r\n"
     ]
    },
    {
     "name": "stdout",
     "output_type": "stream",
     "text": [
      "[2021-06-07 01:41:07,686][fairseq_cli.train][INFO] - begin validation on \"valid\" subset\r\n"
     ]
    },
    {
     "name": "stdout",
     "output_type": "stream",
     "text": [
      "[2021-06-07 01:41:10,228][fairseq.tasks.unpaired_audio_text][INFO] - REF: ɛ n f œ ʂ ə n a d ɵ ʂ ə k t f øː r d eː t s ɔ m h ɛ n d ə p oː ɕ œ r k ɔ n s ɛ t ə n\r\n",
      "[2021-06-07 01:41:10,231][fairseq.tasks.unpaired_audio_text][INFO] - HYP: n ɛ s j œ r œ j œ b j uː œ j k ɵ uː ɵ øː m b n ə m œ k ə uː s eː r n v oː s l ɪ ŋ k l ɪ l s ɔ k m k n\r\n",
      "[2021-06-07 01:41:10,235][fairseq.tasks.unpaired_audio_text][INFO] - LM [REF]: -53.44462585449219, 0.05339602260269112\r\n",
      "[2021-06-07 01:41:10,235][fairseq.tasks.unpaired_audio_text][INFO] - LM [HYP]: -91.03553009033203, 0.01387177509691153\r\n"
     ]
    },
    {
     "name": "stdout",
     "output_type": "stream",
     "text": [
      "[2021-06-07 01:41:10,748][valid][INFO] - {\"epoch\": 4984, \"valid_loss\": \"1.003\", \"valid_ntokens\": \"3039.79\", \"valid_nsentences\": \"144.214\", \"valid_lm_score_sum\": \"-89789.7\", \"valid_num_pred_chars\": \"48533\", \"valid_vocab_seen_pct\": \"0.893728\", \"valid_uer\": \"100.327\", \"valid_weighted_lm_ppl\": \"74.7781\", \"valid_lm_ppl\": \"59.7291\", \"valid_wps\": \"17960\", \"valid_wpb\": \"3039.8\", \"valid_bsz\": \"144.2\", \"valid_num_updates\": \"79744\", \"valid_best_weighted_lm_ppl\": \"73.4256\"}\r\n",
      "[2021-06-07 01:41:10,751][fairseq.checkpoint_utils][INFO] - Preparing to save checkpoint for epoch 4984 @ 79744 updates\r\n",
      "[2021-06-07 01:41:10,752][fairseq.trainer][INFO] - Saving checkpoint to /kaggle/working/checkpoint_last.pt\r\n"
     ]
    },
    {
     "name": "stdout",
     "output_type": "stream",
     "text": [
      "[2021-06-07 01:41:10,798][fairseq.trainer][INFO] - Finished saving checkpoint to /kaggle/working/checkpoint_last.pt\r\n",
      "[2021-06-07 01:41:10,798][fairseq.checkpoint_utils][INFO] - Saved checkpoint /kaggle/working/checkpoint_last.pt (epoch 4984 @ 79744 updates, score 74.7781435867535) (writing took 0.04765234499973303 seconds)\r\n",
      "[2021-06-07 01:41:10,799][fairseq_cli.train][INFO] - end of epoch 4984 (average epoch stats below)\r\n",
      "[2021-06-07 01:41:10,802][train][INFO] - {\"epoch\": 4984, \"train_loss\": \"3.27\", \"train_ntokens\": \"145.688\", \"train_nsentences\": \"145.688\", \"train_temp\": \"0.1\", \"train_code_ppl\": \"8.795\", \"train_loss_code_pen\": \"0.32\", \"train_loss_smoothness\": \"2.013\", \"train_loss_dense_g\": \"3.81\", \"train_lm_score_sum\": 0.0, \"train_num_pred_chars\": 0.0, \"train_loss_grad_pen\": \"0.128\", \"train_loss_dense_d\": \"0.023\", \"train_loss_token_d\": \"0.028\", \"train_wps\": \"11\", \"train_ups\": \"0.08\", \"train_wpb\": \"145.7\", \"train_bsz\": \"145.7\", \"train_num_updates\": \"79744\", \"train_lr_discriminator\": \"0.0005\", \"train_lr_generator\": \"0.0004\", \"train_gnorm\": \"30.734\", \"train_clip\": \"81.2\", \"train_train_wall\": \"209\", \"train_wall\": \"15183\"}\r\n"
     ]
    },
    {
     "name": "stdout",
     "output_type": "stream",
     "text": [
      "[2021-06-07 01:41:10,860][fairseq.trainer][INFO] - begin training epoch 4985\r\n",
      "[2021-06-07 01:41:10,862][fairseq_cli.train][INFO] - Start iterating over samples\r\n"
     ]
    },
    {
     "name": "stdout",
     "output_type": "stream",
     "text": [
      "[2021-06-07 01:44:55,583][fairseq_cli.train][INFO] - begin validation on \"valid\" subset\r\n"
     ]
    },
    {
     "name": "stdout",
     "output_type": "stream",
     "text": [
      "[2021-06-07 01:44:58,130][fairseq.tasks.unpaired_audio_text][INFO] - REF: ɛ n f œ ʂ ə n a d ɵ ʂ ə k t f øː r d eː t s ɔ m h ɛ n d ə p oː ɕ œ r k ɔ n s ɛ t ə n\r\n",
      "[2021-06-07 01:44:58,133][fairseq.tasks.unpaired_audio_text][INFO] - HYP: t ɛ s j œ r œ j œ b j uː œ yː k uː ɵ øː m b n ə m œ k b ə uː s eː r n v oː s l ɪ ŋ k l ɪ l s œ k m k n\r\n",
      "[2021-06-07 01:44:58,137][fairseq.tasks.unpaired_audio_text][INFO] - LM [REF]: -53.44462585449219, 0.05339602260269112\r\n",
      "[2021-06-07 01:44:58,137][fairseq.tasks.unpaired_audio_text][INFO] - LM [HYP]: -92.3360366821289, 0.013049416359801197\r\n"
     ]
    },
    {
     "name": "stdout",
     "output_type": "stream",
     "text": [
      "[2021-06-07 01:44:58,660][valid][INFO] - {\"epoch\": 4985, \"valid_loss\": \"1.002\", \"valid_ntokens\": \"3039.79\", \"valid_nsentences\": \"144.214\", \"valid_lm_score_sum\": \"-89888.5\", \"valid_num_pred_chars\": \"48476\", \"valid_vocab_seen_pct\": \"0.898955\", \"valid_uer\": \"100.242\", \"valid_weighted_lm_ppl\": \"74.5885\", \"valid_lm_ppl\": \"60.2764\", \"valid_wps\": \"17983.7\", \"valid_wpb\": \"3039.8\", \"valid_bsz\": \"144.2\", \"valid_num_updates\": \"79760\", \"valid_best_weighted_lm_ppl\": \"73.4256\"}\r\n",
      "[2021-06-07 01:44:58,663][fairseq.checkpoint_utils][INFO] - Preparing to save checkpoint for epoch 4985 @ 79760 updates\r\n",
      "[2021-06-07 01:44:58,665][fairseq.trainer][INFO] - Saving checkpoint to /kaggle/working/checkpoint_last.pt\r\n"
     ]
    },
    {
     "name": "stdout",
     "output_type": "stream",
     "text": [
      "[2021-06-07 01:44:58,714][fairseq.trainer][INFO] - Finished saving checkpoint to /kaggle/working/checkpoint_last.pt\r\n",
      "[2021-06-07 01:44:58,715][fairseq.checkpoint_utils][INFO] - Saved checkpoint /kaggle/working/checkpoint_last.pt (epoch 4985 @ 79760 updates, score 74.58847443551505) (writing took 0.051389419999395614 seconds)\r\n",
      "[2021-06-07 01:44:58,715][fairseq_cli.train][INFO] - end of epoch 4985 (average epoch stats below)\r\n",
      "[2021-06-07 01:44:58,718][train][INFO] - {\"epoch\": 4985, \"train_loss\": \"3.053\", \"train_ntokens\": \"145.688\", \"train_nsentences\": \"145.688\", \"train_temp\": \"0.1\", \"train_code_ppl\": \"8.938\", \"train_loss_code_pen\": \"0.327\", \"train_loss_smoothness\": \"2.065\", \"train_loss_dense_g\": \"4.191\", \"train_lm_score_sum\": 0.0, \"train_num_pred_chars\": 0.0, \"train_loss_grad_pen\": \"0.101\", \"train_loss_dense_d\": \"0.027\", \"train_loss_token_d\": \"0.026\", \"train_wps\": \"10.2\", \"train_ups\": \"0.07\", \"train_wpb\": \"145.7\", \"train_bsz\": \"145.7\", \"train_num_updates\": \"79760\", \"train_lr_discriminator\": \"0.0005\", \"train_lr_generator\": \"0.0004\", \"train_gnorm\": \"29.619\", \"train_clip\": \"75\", \"train_train_wall\": \"224\", \"train_wall\": \"15411\"}\r\n"
     ]
    },
    {
     "name": "stdout",
     "output_type": "stream",
     "text": [
      "[2021-06-07 01:44:58,778][fairseq.trainer][INFO] - begin training epoch 4986\r\n",
      "[2021-06-07 01:44:58,779][fairseq_cli.train][INFO] - Start iterating over samples\r\n"
     ]
    },
    {
     "name": "stdout",
     "output_type": "stream",
     "text": [
      "[2021-06-07 01:48:45,637][fairseq_cli.train][INFO] - begin validation on \"valid\" subset\r\n"
     ]
    },
    {
     "name": "stdout",
     "output_type": "stream",
     "text": [
      "[2021-06-07 01:48:48,163][fairseq.tasks.unpaired_audio_text][INFO] - REF: ɛ n f œ ʂ ə n a d ɵ ʂ ə k t f øː r d eː t s ɔ m h ɛ n d ə p oː ɕ œ r k ɔ n s ɛ t ə n\r\n",
      "[2021-06-07 01:48:48,166][fairseq.tasks.unpaired_audio_text][INFO] - HYP: n ɛ s j œ r œ j œ b j uː œ yː k ɵ uː ɵ øː yː m b n ə m œ k ə uː s eː r n v oː s l ɪ ŋ k l ɪ l s œ k m t n ə a\r\n",
      "[2021-06-07 01:48:48,171][fairseq.tasks.unpaired_audio_text][INFO] - LM [REF]: -53.44462585449219, 0.05339602260269112\r\n",
      "[2021-06-07 01:48:48,171][fairseq.tasks.unpaired_audio_text][INFO] - LM [HYP]: -98.01274871826172, 0.01303585279789645\r\n"
     ]
    },
    {
     "name": "stdout",
     "output_type": "stream",
     "text": [
      "[2021-06-07 01:48:48,688][valid][INFO] - {\"epoch\": 4986, \"valid_loss\": \"1.005\", \"valid_ntokens\": \"3039.79\", \"valid_nsentences\": \"144.214\", \"valid_lm_score_sum\": \"-90109.2\", \"valid_num_pred_chars\": \"48645\", \"valid_vocab_seen_pct\": \"0.89547\", \"valid_uer\": \"100.472\", \"valid_weighted_lm_ppl\": \"74.8966\", \"valid_lm_ppl\": \"60.0571\", \"valid_wps\": \"17922.7\", \"valid_wpb\": \"3039.8\", \"valid_bsz\": \"144.2\", \"valid_num_updates\": \"79776\", \"valid_best_weighted_lm_ppl\": \"73.4256\"}\r\n"
     ]
    },
    {
     "name": "stdout",
     "output_type": "stream",
     "text": [
      "[2021-06-07 01:48:48,692][fairseq.checkpoint_utils][INFO] - Preparing to save checkpoint for epoch 4986 @ 79776 updates\r\n",
      "[2021-06-07 01:48:48,694][fairseq.trainer][INFO] - Saving checkpoint to /kaggle/working/checkpoint_last.pt\r\n"
     ]
    },
    {
     "name": "stdout",
     "output_type": "stream",
     "text": [
      "[2021-06-07 01:48:48,744][fairseq.trainer][INFO] - Finished saving checkpoint to /kaggle/working/checkpoint_last.pt\r\n",
      "[2021-06-07 01:48:48,744][fairseq.checkpoint_utils][INFO] - Saved checkpoint /kaggle/working/checkpoint_last.pt (epoch 4986 @ 79776 updates, score 74.8965594517306) (writing took 0.05212595999910263 seconds)\r\n",
      "[2021-06-07 01:48:48,744][fairseq_cli.train][INFO] - end of epoch 4986 (average epoch stats below)\r\n",
      "[2021-06-07 01:48:48,748][train][INFO] - {\"epoch\": 4986, \"train_loss\": \"3.21\", \"train_ntokens\": \"145.688\", \"train_nsentences\": \"145.688\", \"train_temp\": \"0.1\", \"train_code_ppl\": \"8.835\", \"train_loss_code_pen\": \"0.336\", \"train_loss_smoothness\": \"2.085\", \"train_loss_dense_g\": \"4.119\", \"train_lm_score_sum\": 0.0, \"train_num_pred_chars\": 0.0, \"train_loss_grad_pen\": \"0.06\", \"train_loss_dense_d\": \"0.027\", \"train_loss_token_d\": \"0.026\", \"train_wps\": \"10.1\", \"train_ups\": \"0.07\", \"train_wpb\": \"145.7\", \"train_bsz\": \"145.7\", \"train_num_updates\": \"79776\", \"train_lr_discriminator\": \"0.0005\", \"train_lr_generator\": \"0.0004\", \"train_gnorm\": \"28.97\", \"train_clip\": \"62.5\", \"train_train_wall\": \"226\", \"train_wall\": \"15641\"}\r\n"
     ]
    },
    {
     "name": "stdout",
     "output_type": "stream",
     "text": [
      "[2021-06-07 01:48:48,810][fairseq.trainer][INFO] - begin training epoch 4987\r\n",
      "[2021-06-07 01:48:48,812][fairseq_cli.train][INFO] - Start iterating over samples\r\n"
     ]
    },
    {
     "name": "stdout",
     "output_type": "stream",
     "text": [
      "[2021-06-07 01:52:15,165][fairseq_cli.train][INFO] - begin validation on \"valid\" subset\r\n"
     ]
    },
    {
     "name": "stdout",
     "output_type": "stream",
     "text": [
      "[2021-06-07 01:52:17,705][fairseq.tasks.unpaired_audio_text][INFO] - REF: ɛ n f œ ʂ ə n a d ɵ ʂ ə k t f øː r d eː t s ɔ m h ɛ n d ə p oː ɕ œ r k ɔ n s ɛ t ə n\r\n"
     ]
    },
    {
     "name": "stdout",
     "output_type": "stream",
     "text": [
      "[2021-06-07 01:52:17,708][fairseq.tasks.unpaired_audio_text][INFO] - HYP: n ɛ s j œ r œ j œ b j uː œ yː k ɵ uː ɵ øː b n ə m œ k ə uː s eː r n v oː s l ɪ ŋ k l ɪ l a s œ m k n ə n\r\n",
      "[2021-06-07 01:52:17,714][fairseq.tasks.unpaired_audio_text][INFO] - LM [REF]: -53.44462585449219, 0.05339602260269112\r\n",
      "[2021-06-07 01:52:17,715][fairseq.tasks.unpaired_audio_text][INFO] - LM [HYP]: -91.77206420898438, 0.014606922190112734\r\n"
     ]
    },
    {
     "name": "stdout",
     "output_type": "stream",
     "text": [
      "[2021-06-07 01:52:18,231][valid][INFO] - {\"epoch\": 4987, \"valid_loss\": \"1.002\", \"valid_ntokens\": \"3039.79\", \"valid_nsentences\": \"144.214\", \"valid_lm_score_sum\": \"-89605\", \"valid_num_pred_chars\": \"48363\", \"valid_vocab_seen_pct\": \"0.897213\", \"valid_uer\": \"100.181\", \"valid_weighted_lm_ppl\": \"74.5971\", \"valid_lm_ppl\": \"60.0499\", \"valid_wps\": \"17963.8\", \"valid_wpb\": \"3039.8\", \"valid_bsz\": \"144.2\", \"valid_num_updates\": \"79792\", \"valid_best_weighted_lm_ppl\": \"73.4256\"}\r\n",
      "[2021-06-07 01:52:18,234][fairseq.checkpoint_utils][INFO] - Preparing to save checkpoint for epoch 4987 @ 79792 updates\r\n",
      "[2021-06-07 01:52:18,236][fairseq.trainer][INFO] - Saving checkpoint to /kaggle/working/checkpoint_last.pt\r\n"
     ]
    },
    {
     "name": "stdout",
     "output_type": "stream",
     "text": [
      "[2021-06-07 01:52:18,284][fairseq.trainer][INFO] - Finished saving checkpoint to /kaggle/working/checkpoint_last.pt\r\n",
      "[2021-06-07 01:52:18,284][fairseq.checkpoint_utils][INFO] - Saved checkpoint /kaggle/working/checkpoint_last.pt (epoch 4987 @ 79792 updates, score 74.59706933899473) (writing took 0.049700326002493966 seconds)\r\n",
      "[2021-06-07 01:52:18,285][fairseq_cli.train][INFO] - end of epoch 4987 (average epoch stats below)\r\n",
      "[2021-06-07 01:52:18,287][train][INFO] - {\"epoch\": 4987, \"train_loss\": \"3.655\", \"train_ntokens\": \"145.688\", \"train_nsentences\": \"145.688\", \"train_temp\": \"0.1\", \"train_code_ppl\": \"8.629\", \"train_loss_code_pen\": \"0.322\", \"train_loss_smoothness\": \"2.054\", \"train_loss_dense_g\": \"4.151\", \"train_lm_score_sum\": 0.0, \"train_num_pred_chars\": 0.0, \"train_loss_grad_pen\": \"0.091\", \"train_loss_dense_d\": \"0.03\", \"train_loss_token_d\": \"0.035\", \"train_wps\": \"11.1\", \"train_ups\": \"0.08\", \"train_wpb\": \"145.7\", \"train_bsz\": \"145.7\", \"train_num_updates\": \"79792\", \"train_lr_discriminator\": \"0.0005\", \"train_lr_generator\": \"0.0004\", \"train_gnorm\": \"34.399\", \"train_clip\": \"81.2\", \"train_train_wall\": \"206\", \"train_wall\": \"15851\"}\r\n"
     ]
    },
    {
     "name": "stdout",
     "output_type": "stream",
     "text": [
      "[2021-06-07 01:52:18,343][fairseq.trainer][INFO] - begin training epoch 4988\r\n",
      "[2021-06-07 01:52:18,344][fairseq_cli.train][INFO] - Start iterating over samples\r\n"
     ]
    },
    {
     "name": "stdout",
     "output_type": "stream",
     "text": [
      "[2021-06-07 01:54:22,325][train_inner][INFO] - {\"epoch\": 4988, \"update\": 4987.5, \"loss\": \"3.292\", \"ntokens\": \"147.83\", \"nsentences\": \"147.83\", \"temp\": \"0.1\", \"code_ppl\": \"8.727\", \"loss_code_pen\": \"0.327\", \"loss_smoothness\": \"2.055\", \"loss_dense_g\": \"4.056\", \"lm_score_sum\": 0.0, \"num_pred_chars\": 0.0, \"loss_grad_pen\": \"0.086\", \"loss_dense_d\": \"0.026\", \"loss_token_d\": \"0.027\", \"wps\": \"10.6\", \"ups\": \"0.07\", \"wpb\": \"147.8\", \"bsz\": \"147.8\", \"num_updates\": \"79800\", \"lr_discriminator\": \"0.0005\", \"lr_generator\": \"0.0004\", \"gnorm\": \"30.558\", \"clip\": \"73\", \"train_wall\": \"1374\", \"wall\": \"15975\"}\r\n"
     ]
    },
    {
     "name": "stdout",
     "output_type": "stream",
     "text": [
      "[2021-06-07 01:56:06,798][fairseq_cli.train][INFO] - begin validation on \"valid\" subset\r\n"
     ]
    },
    {
     "name": "stdout",
     "output_type": "stream",
     "text": [
      "[2021-06-07 01:56:09,354][fairseq.tasks.unpaired_audio_text][INFO] - REF: ɛ n f œ ʂ ə n a d ɵ ʂ ə k t f øː r d eː t s ɔ m h ɛ n d ə p oː ɕ œ r k ɔ n s ɛ t ə n\r\n",
      "[2021-06-07 01:56:09,356][fairseq.tasks.unpaired_audio_text][INFO] - HYP: t ɛ s j œ f œ ʂ b j uː œ yː k j uː ɵ øː b n ə m œ k ə uː s eː r n v oː s l ɪ ŋ k l ɪ l a ɔ m t n ə n\r\n",
      "[2021-06-07 01:56:09,360][fairseq.tasks.unpaired_audio_text][INFO] - LM [REF]: -53.44462585449219, 0.05339602260269112\r\n",
      "[2021-06-07 01:56:09,361][fairseq.tasks.unpaired_audio_text][INFO] - LM [HYP]: -87.12983703613281, 0.015303651306834691\r\n"
     ]
    },
    {
     "name": "stdout",
     "output_type": "stream",
     "text": [
      "[2021-06-07 01:56:09,875][valid][INFO] - {\"epoch\": 4988, \"valid_loss\": \"1.005\", \"valid_ntokens\": \"3039.79\", \"valid_nsentences\": \"144.214\", \"valid_lm_score_sum\": \"-90096.5\", \"valid_num_pred_chars\": \"48574\", \"valid_vocab_seen_pct\": \"0.898955\", \"valid_uer\": \"100.489\", \"valid_weighted_lm_ppl\": \"74.7022\", \"valid_lm_ppl\": \"60.3683\", \"valid_wps\": \"18057.5\", \"valid_wpb\": \"3039.8\", \"valid_bsz\": \"144.2\", \"valid_num_updates\": \"79808\", \"valid_best_weighted_lm_ppl\": \"73.4256\"}\r\n",
      "[2021-06-07 01:56:09,878][fairseq.checkpoint_utils][INFO] - Preparing to save checkpoint for epoch 4988 @ 79808 updates\r\n",
      "[2021-06-07 01:56:09,879][fairseq.trainer][INFO] - Saving checkpoint to /kaggle/working/checkpoint_last.pt\r\n"
     ]
    },
    {
     "name": "stdout",
     "output_type": "stream",
     "text": [
      "[2021-06-07 01:56:09,927][fairseq.trainer][INFO] - Finished saving checkpoint to /kaggle/working/checkpoint_last.pt\r\n",
      "[2021-06-07 01:56:09,928][fairseq.checkpoint_utils][INFO] - Saved checkpoint /kaggle/working/checkpoint_last.pt (epoch 4988 @ 79808 updates, score 74.70220974406273) (writing took 0.04941875100121251 seconds)\r\n",
      "[2021-06-07 01:56:09,928][fairseq_cli.train][INFO] - end of epoch 4988 (average epoch stats below)\r\n",
      "[2021-06-07 01:56:09,932][train][INFO] - {\"epoch\": 4988, \"train_loss\": \"3.251\", \"train_ntokens\": \"145.688\", \"train_nsentences\": \"145.688\", \"train_temp\": \"0.1\", \"train_code_ppl\": \"8.782\", \"train_loss_code_pen\": \"0.31\", \"train_loss_smoothness\": \"2.018\", \"train_loss_dense_g\": \"4.266\", \"train_lm_score_sum\": 0.0, \"train_num_pred_chars\": 0.0, \"train_loss_grad_pen\": \"0.091\", \"train_loss_dense_d\": \"0.028\", \"train_loss_token_d\": \"0.025\", \"train_wps\": \"10.1\", \"train_ups\": \"0.07\", \"train_wpb\": \"145.7\", \"train_bsz\": \"145.7\", \"train_num_updates\": \"79808\", \"train_lr_discriminator\": \"0.0005\", \"train_lr_generator\": \"0.0004\", \"train_gnorm\": \"30.044\", \"train_clip\": \"68.8\", \"train_train_wall\": \"228\", \"train_wall\": \"16082\"}\r\n"
     ]
    },
    {
     "name": "stdout",
     "output_type": "stream",
     "text": [
      "[2021-06-07 01:56:09,990][fairseq.trainer][INFO] - begin training epoch 4989\r\n",
      "[2021-06-07 01:56:09,992][fairseq_cli.train][INFO] - Start iterating over samples\r\n"
     ]
    },
    {
     "name": "stdout",
     "output_type": "stream",
     "text": [
      "[2021-06-07 01:59:57,262][fairseq_cli.train][INFO] - begin validation on \"valid\" subset\r\n"
     ]
    },
    {
     "name": "stdout",
     "output_type": "stream",
     "text": [
      "[2021-06-07 02:00:00,012][fairseq.tasks.unpaired_audio_text][INFO] - REF: ɛ n f œ ʂ ə n a d ɵ ʂ ə k t f øː r d eː t s ɔ m h ɛ n d ə p oː ɕ œ r k ɔ n s ɛ t ə n\r\n",
      "[2021-06-07 02:00:00,014][fairseq.tasks.unpaired_audio_text][INFO] - HYP: t ɛ n s j œ r œ j œ b j uː œ j k ɵ uː ɵ øː j b n ə m ɔ k ə uː s eː r n v oː s l ɪ ŋ k l ɪ l s ɔ m k n\r\n",
      "[2021-06-07 02:00:00,019][fairseq.tasks.unpaired_audio_text][INFO] - LM [REF]: -53.44462585449219, 0.05339602260269112\r\n",
      "[2021-06-07 02:00:00,019][fairseq.tasks.unpaired_audio_text][INFO] - LM [HYP]: -87.56880187988281, 0.016326067745620072\r\n"
     ]
    },
    {
     "name": "stdout",
     "output_type": "stream",
     "text": [
      "[2021-06-07 02:00:00,521][valid][INFO] - {\"epoch\": 4989, \"valid_loss\": \"1.005\", \"valid_ntokens\": \"3039.79\", \"valid_nsentences\": \"144.214\", \"valid_lm_score_sum\": \"-90204.6\", \"valid_num_pred_chars\": \"48633\", \"valid_vocab_seen_pct\": \"0.902439\", \"valid_uer\": \"100.533\", \"valid_weighted_lm_ppl\": \"74.1367\", \"valid_lm_ppl\": \"60.3766\", \"valid_wps\": \"18054.2\", \"valid_wpb\": \"3039.8\", \"valid_bsz\": \"144.2\", \"valid_num_updates\": \"79824\", \"valid_best_weighted_lm_ppl\": \"73.4256\"}\r\n",
      "[2021-06-07 02:00:00,524][fairseq.checkpoint_utils][INFO] - Preparing to save checkpoint for epoch 4989 @ 79824 updates\r\n",
      "[2021-06-07 02:00:00,526][fairseq.trainer][INFO] - Saving checkpoint to /kaggle/working/checkpoint_last.pt\r\n"
     ]
    },
    {
     "name": "stdout",
     "output_type": "stream",
     "text": [
      "[2021-06-07 02:00:00,575][fairseq.trainer][INFO] - Finished saving checkpoint to /kaggle/working/checkpoint_last.pt\r\n",
      "[2021-06-07 02:00:00,575][fairseq.checkpoint_utils][INFO] - Saved checkpoint /kaggle/working/checkpoint_last.pt (epoch 4989 @ 79824 updates, score 74.13666104617577) (writing took 0.05114926099849981 seconds)\r\n",
      "[2021-06-07 02:00:00,576][fairseq_cli.train][INFO] - end of epoch 4989 (average epoch stats below)\r\n",
      "[2021-06-07 02:00:00,579][train][INFO] - {\"epoch\": 4989, \"train_loss\": \"3.263\", \"train_ntokens\": \"145.688\", \"train_nsentences\": \"145.688\", \"train_temp\": \"0.1\", \"train_code_ppl\": \"8.642\", \"train_loss_code_pen\": \"0.325\", \"train_loss_smoothness\": \"2.083\", \"train_loss_dense_g\": \"4.229\", \"train_lm_score_sum\": 0.0, \"train_num_pred_chars\": 0.0, \"train_loss_grad_pen\": \"0.075\", \"train_loss_dense_d\": \"0.027\", \"train_loss_token_d\": \"0.024\", \"train_wps\": \"10.1\", \"train_ups\": \"0.07\", \"train_wpb\": \"145.7\", \"train_bsz\": \"145.7\", \"train_num_updates\": \"79824\", \"train_lr_discriminator\": \"0.0005\", \"train_lr_generator\": \"0.0004\", \"train_gnorm\": \"29.905\", \"train_clip\": \"75\", \"train_train_wall\": \"227\", \"train_wall\": \"16313\"}\r\n"
     ]
    },
    {
     "name": "stdout",
     "output_type": "stream",
     "text": [
      "[2021-06-07 02:00:00,639][fairseq.trainer][INFO] - begin training epoch 4990\r\n",
      "[2021-06-07 02:00:00,641][fairseq_cli.train][INFO] - Start iterating over samples\r\n"
     ]
    },
    {
     "name": "stdout",
     "output_type": "stream",
     "text": [
      "[2021-06-07 02:03:33,624][fairseq_cli.train][INFO] - begin validation on \"valid\" subset\r\n"
     ]
    },
    {
     "name": "stdout",
     "output_type": "stream",
     "text": [
      "[2021-06-07 02:03:36,222][fairseq.tasks.unpaired_audio_text][INFO] - REF: ɛ n f œ ʂ ə n a d ɵ ʂ ə k t f øː r d eː t s ɔ m h ɛ n d ə p oː ɕ œ r k ɔ n s ɛ t ə n\r\n",
      "[2021-06-07 02:03:36,224][fairseq.tasks.unpaired_audio_text][INFO] - HYP: t ɛ s j œ r œ j œ b j uː œ j k uː ɵ øː b n ə m ɔ k ə uː s eː r n v oː s l ɪ ŋ k l ɪ l s ɔ k m k n\r\n",
      "[2021-06-07 02:03:36,229][fairseq.tasks.unpaired_audio_text][INFO] - LM [REF]: -53.44462585449219, 0.05339602260269112\r\n",
      "[2021-06-07 02:03:36,229][fairseq.tasks.unpaired_audio_text][INFO] - LM [HYP]: -86.67271423339844, 0.01431857165336559\r\n"
     ]
    },
    {
     "name": "stdout",
     "output_type": "stream",
     "text": [
      "[2021-06-07 02:03:36,750][valid][INFO] - {\"epoch\": 4990, \"valid_loss\": \"1.003\", \"valid_ntokens\": \"3039.79\", \"valid_nsentences\": \"144.214\", \"valid_lm_score_sum\": \"-89890.4\", \"valid_num_pred_chars\": \"48564\", \"valid_vocab_seen_pct\": \"0.898955\", \"valid_uer\": \"100.334\", \"valid_weighted_lm_ppl\": \"74.0648\", \"valid_lm_ppl\": \"59.8532\", \"valid_wps\": \"17453.2\", \"valid_wpb\": \"3039.8\", \"valid_bsz\": \"144.2\", \"valid_num_updates\": \"79840\", \"valid_best_weighted_lm_ppl\": \"73.4256\"}\r\n",
      "[2021-06-07 02:03:36,753][fairseq.checkpoint_utils][INFO] - Preparing to save checkpoint for epoch 4990 @ 79840 updates\r\n",
      "[2021-06-07 02:03:36,754][fairseq.trainer][INFO] - Saving checkpoint to /kaggle/working/checkpoint_last.pt\r\n"
     ]
    },
    {
     "name": "stdout",
     "output_type": "stream",
     "text": [
      "[2021-06-07 02:03:36,804][fairseq.trainer][INFO] - Finished saving checkpoint to /kaggle/working/checkpoint_last.pt\r\n",
      "[2021-06-07 02:03:36,804][fairseq.checkpoint_utils][INFO] - Saved checkpoint /kaggle/working/checkpoint_last.pt (epoch 4990 @ 79840 updates, score 74.0648150174502) (writing took 0.05058635800014599 seconds)\r\n",
      "[2021-06-07 02:03:36,804][fairseq_cli.train][INFO] - end of epoch 4990 (average epoch stats below)\r\n",
      "[2021-06-07 02:03:36,808][train][INFO] - {\"epoch\": 4990, \"train_loss\": \"3.566\", \"train_ntokens\": \"145.688\", \"train_nsentences\": \"145.688\", \"train_temp\": \"0.1\", \"train_code_ppl\": \"8.722\", \"train_loss_code_pen\": \"0.32\", \"train_loss_smoothness\": \"2.054\", \"train_loss_dense_g\": \"4.364\", \"train_lm_score_sum\": 0.0, \"train_num_pred_chars\": 0.0, \"train_loss_grad_pen\": \"0.089\", \"train_loss_dense_d\": \"0.027\", \"train_loss_token_d\": \"0.036\", \"train_wps\": \"10.8\", \"train_ups\": \"0.07\", \"train_wpb\": \"145.7\", \"train_bsz\": \"145.7\", \"train_num_updates\": \"79840\", \"train_lr_discriminator\": \"0.0005\", \"train_lr_generator\": \"0.0004\", \"train_gnorm\": \"31.58\", \"train_clip\": \"75\", \"train_train_wall\": \"212\", \"train_wall\": \"16529\"}\r\n"
     ]
    },
    {
     "name": "stdout",
     "output_type": "stream",
     "text": [
      "[2021-06-07 02:03:36,867][fairseq.trainer][INFO] - begin training epoch 4991\r\n",
      "[2021-06-07 02:03:36,868][fairseq_cli.train][INFO] - Start iterating over samples\r\n"
     ]
    },
    {
     "name": "stdout",
     "output_type": "stream",
     "text": [
      "[2021-06-07 02:07:13,713][fairseq_cli.train][INFO] - begin validation on \"valid\" subset\r\n"
     ]
    },
    {
     "name": "stdout",
     "output_type": "stream",
     "text": [
      "[2021-06-07 02:07:16,241][fairseq.tasks.unpaired_audio_text][INFO] - REF: ɛ n f œ ʂ ə n a d ɵ ʂ ə k t f øː r d eː t s ɔ m h ɛ n d ə p oː ɕ œ r k ɔ n s ɛ t ə n\r\n",
      "[2021-06-07 02:07:16,243][fairseq.tasks.unpaired_audio_text][INFO] - HYP: t ɛ s j œ r œ j œ b j uː œ k uː ɵ øː m b n ə m œ k ə uː s eː r n v oː n l ɪ ŋ k l ɪ l s œ m k n ə n\r\n",
      "[2021-06-07 02:07:16,248][fairseq.tasks.unpaired_audio_text][INFO] - LM [REF]: -53.44462585449219, 0.05339602260269112\r\n",
      "[2021-06-07 02:07:16,248][fairseq.tasks.unpaired_audio_text][INFO] - LM [HYP]: -90.20307159423828, 0.013205940669674813\r\n"
     ]
    },
    {
     "name": "stdout",
     "output_type": "stream",
     "text": [
      "[2021-06-07 02:07:16,755][valid][INFO] - {\"epoch\": 4991, \"valid_loss\": \"1.004\", \"valid_ntokens\": \"3039.79\", \"valid_nsentences\": \"144.214\", \"valid_lm_score_sum\": \"-89979.6\", \"valid_num_pred_chars\": \"48582\", \"valid_vocab_seen_pct\": \"0.897213\", \"valid_uer\": \"100.402\", \"valid_weighted_lm_ppl\": \"74.5465\", \"valid_lm_ppl\": \"60.0092\", \"valid_wps\": \"18240.2\", \"valid_wpb\": \"3039.8\", \"valid_bsz\": \"144.2\", \"valid_num_updates\": \"79856\", \"valid_best_weighted_lm_ppl\": \"73.4256\"}\r\n",
      "[2021-06-07 02:07:16,758][fairseq.checkpoint_utils][INFO] - Preparing to save checkpoint for epoch 4991 @ 79856 updates\r\n",
      "[2021-06-07 02:07:16,759][fairseq.trainer][INFO] - Saving checkpoint to /kaggle/working/checkpoint_last.pt\r\n"
     ]
    },
    {
     "name": "stdout",
     "output_type": "stream",
     "text": [
      "[2021-06-07 02:07:16,807][fairseq.trainer][INFO] - Finished saving checkpoint to /kaggle/working/checkpoint_last.pt\r\n",
      "[2021-06-07 02:07:16,808][fairseq.checkpoint_utils][INFO] - Saved checkpoint /kaggle/working/checkpoint_last.pt (epoch 4991 @ 79856 updates, score 74.54652360186576) (writing took 0.04963018800117425 seconds)\r\n",
      "[2021-06-07 02:07:16,808][fairseq_cli.train][INFO] - end of epoch 4991 (average epoch stats below)\r\n",
      "[2021-06-07 02:07:16,811][train][INFO] - {\"epoch\": 4991, \"train_loss\": \"3.45\", \"train_ntokens\": \"145.688\", \"train_nsentences\": \"145.688\", \"train_temp\": \"0.1\", \"train_code_ppl\": \"8.512\", \"train_loss_code_pen\": \"0.32\", \"train_loss_smoothness\": \"2.013\", \"train_loss_dense_g\": \"4.155\", \"train_lm_score_sum\": 0.0, \"train_num_pred_chars\": 0.0, \"train_loss_grad_pen\": \"0.117\", \"train_loss_dense_d\": \"0.024\", \"train_loss_token_d\": \"0.042\", \"train_wps\": \"10.6\", \"train_ups\": \"0.07\", \"train_wpb\": \"145.7\", \"train_bsz\": \"145.7\", \"train_num_updates\": \"79856\", \"train_lr_discriminator\": \"0.0005\", \"train_lr_generator\": \"0.0004\", \"train_gnorm\": \"34.459\", \"train_clip\": \"93.8\", \"train_train_wall\": \"216\", \"train_wall\": \"16749\"}\r\n"
     ]
    },
    {
     "name": "stdout",
     "output_type": "stream",
     "text": [
      "[2021-06-07 02:07:16,870][fairseq.trainer][INFO] - begin training epoch 4992\r\n",
      "[2021-06-07 02:07:16,872][fairseq_cli.train][INFO] - Start iterating over samples\r\n"
     ]
    },
    {
     "name": "stdout",
     "output_type": "stream",
     "text": [
      "[2021-06-07 02:10:52,542][fairseq_cli.train][INFO] - begin validation on \"valid\" subset\r\n"
     ]
    },
    {
     "name": "stdout",
     "output_type": "stream",
     "text": [
      "[2021-06-07 02:10:55,054][fairseq.tasks.unpaired_audio_text][INFO] - REF: ɛ n f œ ʂ ə n a d ɵ ʂ ə k t f øː r d eː t s ɔ m h ɛ n d ə p oː ɕ œ r k ɔ n s ɛ t ə n\r\n",
      "[2021-06-07 02:10:55,057][fairseq.tasks.unpaired_audio_text][INFO] - HYP: t ɛ s j œ r œ j œ b j uː œ j k uː ɵ øː m b n ə m œ k ə uː s eː r n v oː s l ɪ ŋ k l ɪ l s œ m k n\r\n",
      "[2021-06-07 02:10:55,061][fairseq.tasks.unpaired_audio_text][INFO] - LM [REF]: -53.44462585449219, 0.05339602260269112\r\n",
      "[2021-06-07 02:10:55,062][fairseq.tasks.unpaired_audio_text][INFO] - LM [HYP]: -88.41006469726562, 0.013150273750674549\r\n"
     ]
    },
    {
     "name": "stdout",
     "output_type": "stream",
     "text": [
      "[2021-06-07 02:10:55,577][valid][INFO] - {\"epoch\": 4992, \"valid_loss\": \"1.004\", \"valid_ntokens\": \"3039.79\", \"valid_nsentences\": \"144.214\", \"valid_lm_score_sum\": \"-90005\", \"valid_num_pred_chars\": \"48574\", \"valid_vocab_seen_pct\": \"0.893728\", \"valid_uer\": \"100.423\", \"valid_weighted_lm_ppl\": \"75.2644\", \"valid_lm_ppl\": \"60.1175\", \"valid_wps\": \"18171.3\", \"valid_wpb\": \"3039.8\", \"valid_bsz\": \"144.2\", \"valid_num_updates\": \"79872\", \"valid_best_weighted_lm_ppl\": \"73.4256\"}\r\n",
      "[2021-06-07 02:10:55,580][fairseq.checkpoint_utils][INFO] - Preparing to save checkpoint for epoch 4992 @ 79872 updates\r\n",
      "[2021-06-07 02:10:55,581][fairseq.trainer][INFO] - Saving checkpoint to /kaggle/working/checkpoint_last.pt\r\n"
     ]
    },
    {
     "name": "stdout",
     "output_type": "stream",
     "text": [
      "[2021-06-07 02:10:55,628][fairseq.trainer][INFO] - Finished saving checkpoint to /kaggle/working/checkpoint_last.pt\r\n",
      "[2021-06-07 02:10:55,628][fairseq.checkpoint_utils][INFO] - Saved checkpoint /kaggle/working/checkpoint_last.pt (epoch 4992 @ 79872 updates, score 75.26440716085021) (writing took 0.04824968600223656 seconds)\r\n",
      "[2021-06-07 02:10:55,628][fairseq_cli.train][INFO] - end of epoch 4992 (average epoch stats below)\r\n",
      "[2021-06-07 02:10:55,631][train][INFO] - {\"epoch\": 4992, \"train_loss\": \"3.416\", \"train_ntokens\": \"145.688\", \"train_nsentences\": \"145.688\", \"train_temp\": \"0.1\", \"train_code_ppl\": \"8.933\", \"train_loss_code_pen\": \"0.34\", \"train_loss_smoothness\": \"2.111\", \"train_loss_dense_g\": \"3.999\", \"train_lm_score_sum\": 0.0, \"train_num_pred_chars\": 0.0, \"train_loss_grad_pen\": \"0.093\", \"train_loss_dense_d\": \"0.031\", \"train_loss_token_d\": \"0.028\", \"train_wps\": \"10.7\", \"train_ups\": \"0.07\", \"train_wpb\": \"145.7\", \"train_bsz\": \"145.7\", \"train_num_updates\": \"79872\", \"train_lr_discriminator\": \"0.0005\", \"train_lr_generator\": \"0.0004\", \"train_gnorm\": \"29.565\", \"train_clip\": \"81.2\", \"train_train_wall\": \"215\", \"train_wall\": \"16968\"}\r\n"
     ]
    },
    {
     "name": "stdout",
     "output_type": "stream",
     "text": [
      "[2021-06-07 02:10:55,689][fairseq.trainer][INFO] - begin training epoch 4993\r\n"
     ]
    },
    {
     "name": "stdout",
     "output_type": "stream",
     "text": [
      "[2021-06-07 02:10:55,691][fairseq_cli.train][INFO] - Start iterating over samples\r\n"
     ]
    },
    {
     "name": "stdout",
     "output_type": "stream",
     "text": [
      "[2021-06-07 02:14:42,090][fairseq_cli.train][INFO] - begin validation on \"valid\" subset\r\n"
     ]
    },
    {
     "name": "stdout",
     "output_type": "stream",
     "text": [
      "[2021-06-07 02:14:44,806][fairseq.tasks.unpaired_audio_text][INFO] - REF: ɛ n f œ ʂ ə n a d ɵ ʂ ə k t f øː r d eː t s ɔ m h ɛ n d ə p oː ɕ œ r k ɔ n s ɛ t ə n\r\n",
      "[2021-06-07 02:14:44,808][fairseq.tasks.unpaired_audio_text][INFO] - HYP: t ɛ s j œ r œ j œ yː b j uː œ j k uː ɵ øː b n ə m œ k ə uː s eː r n v oː n l ɪ ŋ k l ɪ l s ɔ m k n\r\n",
      "[2021-06-07 02:14:44,813][fairseq.tasks.unpaired_audio_text][INFO] - LM [REF]: -53.44462585449219, 0.05339602260269112\r\n",
      "[2021-06-07 02:14:44,813][fairseq.tasks.unpaired_audio_text][INFO] - LM [HYP]: -86.93663787841797, 0.01413462531151488\r\n"
     ]
    },
    {
     "name": "stdout",
     "output_type": "stream",
     "text": [
      "[2021-06-07 02:14:45,328][valid][INFO] - {\"epoch\": 4993, \"valid_loss\": \"1.004\", \"valid_ntokens\": \"3039.79\", \"valid_nsentences\": \"144.214\", \"valid_lm_score_sum\": \"-89858.4\", \"valid_num_pred_chars\": \"48552\", \"valid_vocab_seen_pct\": \"0.89547\", \"valid_uer\": \"100.428\", \"valid_weighted_lm_ppl\": \"74.6061\", \"valid_lm_ppl\": \"59.8242\", \"valid_wps\": \"18174.5\", \"valid_wpb\": \"3039.8\", \"valid_bsz\": \"144.2\", \"valid_num_updates\": \"79888\", \"valid_best_weighted_lm_ppl\": \"73.4256\"}\r\n",
      "[2021-06-07 02:14:45,331][fairseq.checkpoint_utils][INFO] - Preparing to save checkpoint for epoch 4993 @ 79888 updates\r\n",
      "[2021-06-07 02:14:45,332][fairseq.trainer][INFO] - Saving checkpoint to /kaggle/working/checkpoint_last.pt\r\n"
     ]
    },
    {
     "name": "stdout",
     "output_type": "stream",
     "text": [
      "[2021-06-07 02:14:45,380][fairseq.trainer][INFO] - Finished saving checkpoint to /kaggle/working/checkpoint_last.pt\r\n",
      "[2021-06-07 02:14:45,380][fairseq.checkpoint_utils][INFO] - Saved checkpoint /kaggle/working/checkpoint_last.pt (epoch 4993 @ 79888 updates, score 74.60609624651495) (writing took 0.048965755999233807 seconds)\r\n",
      "[2021-06-07 02:14:45,381][fairseq_cli.train][INFO] - end of epoch 4993 (average epoch stats below)\r\n",
      "[2021-06-07 02:14:45,384][train][INFO] - {\"epoch\": 4993, \"train_loss\": \"3.132\", \"train_ntokens\": \"145.688\", \"train_nsentences\": \"145.688\", \"train_temp\": \"0.1\", \"train_code_ppl\": \"8.596\", \"train_loss_code_pen\": \"0.326\", \"train_loss_smoothness\": \"2.039\", \"train_loss_dense_g\": \"3.946\", \"train_lm_score_sum\": 0.0, \"train_num_pred_chars\": 0.0, \"train_loss_grad_pen\": \"0.118\", \"train_loss_dense_d\": \"0.03\", \"train_loss_token_d\": \"0.028\", \"train_wps\": \"10.1\", \"train_ups\": \"0.07\", \"train_wpb\": \"145.7\", \"train_bsz\": \"145.7\", \"train_num_updates\": \"79888\", \"train_lr_discriminator\": \"0.0005\", \"train_lr_generator\": \"0.0004\", \"train_gnorm\": \"29.88\", \"train_clip\": \"81.2\", \"train_train_wall\": \"226\", \"train_wall\": \"17198\"}\r\n"
     ]
    },
    {
     "name": "stdout",
     "output_type": "stream",
     "text": [
      "[2021-06-07 02:14:45,445][fairseq.trainer][INFO] - begin training epoch 4994\r\n",
      "[2021-06-07 02:14:45,447][fairseq_cli.train][INFO] - Start iterating over samples\r\n"
     ]
    },
    {
     "name": "stdout",
     "output_type": "stream",
     "text": [
      "[2021-06-07 02:17:38,323][train_inner][INFO] - {\"epoch\": 4994, \"update\": 4993.75, \"loss\": \"3.283\", \"ntokens\": \"143.97\", \"nsentences\": \"143.97\", \"temp\": \"0.1\", \"code_ppl\": \"8.706\", \"loss_code_pen\": \"0.326\", \"loss_smoothness\": \"2.051\", \"loss_dense_g\": \"4.137\", \"lm_score_sum\": 0.0, \"num_pred_chars\": 0.0, \"loss_grad_pen\": \"0.096\", \"loss_dense_d\": \"0.028\", \"loss_token_d\": \"0.03\", \"wps\": \"10.3\", \"ups\": \"0.07\", \"wpb\": \"144\", \"bsz\": \"144\", \"num_updates\": \"79900\", \"lr_discriminator\": \"0.0005\", \"lr_generator\": \"0.0004\", \"gnorm\": \"30.918\", \"clip\": \"82\", \"train_wall\": \"1374\", \"wall\": \"17371\"}\r\n"
     ]
    },
    {
     "name": "stdout",
     "output_type": "stream",
     "text": [
      "[2021-06-07 02:18:40,697][fairseq_cli.train][INFO] - begin validation on \"valid\" subset\r\n"
     ]
    },
    {
     "name": "stdout",
     "output_type": "stream",
     "text": [
      "[2021-06-07 02:18:43,225][fairseq.tasks.unpaired_audio_text][INFO] - REF: ɛ n f œ ʂ ə n a d ɵ ʂ ə k t f øː r d eː t s ɔ m h ɛ n d ə p oː ɕ œ r k ɔ n s ɛ t ə n\r\n",
      "[2021-06-07 02:18:43,227][fairseq.tasks.unpaired_audio_text][INFO] - HYP: t ɛ s j œ r œ j œ b j uː œ yː k uː ɵ øː b n ə m œ k ə uː s eː r n v oː n l ɪ ŋ k l ɪ l s œ m k n\r\n",
      "[2021-06-07 02:18:43,232][fairseq.tasks.unpaired_audio_text][INFO] - LM [REF]: -53.44462585449219, 0.05339602260269112\r\n",
      "[2021-06-07 02:18:43,232][fairseq.tasks.unpaired_audio_text][INFO] - LM [HYP]: -86.7586669921875, 0.01299996017645507\r\n"
     ]
    },
    {
     "name": "stdout",
     "output_type": "stream",
     "text": [
      "[2021-06-07 02:18:43,748][valid][INFO] - {\"epoch\": 4994, \"valid_loss\": \"1.002\", \"valid_ntokens\": \"3039.79\", \"valid_nsentences\": \"144.214\", \"valid_lm_score_sum\": \"-89798.6\", \"valid_num_pred_chars\": \"48537\", \"valid_vocab_seen_pct\": \"0.893728\", \"valid_uer\": \"100.244\", \"valid_weighted_lm_ppl\": \"74.7843\", \"valid_lm_ppl\": \"59.734\", \"valid_wps\": \"18064.3\", \"valid_wpb\": \"3039.8\", \"valid_bsz\": \"144.2\", \"valid_num_updates\": \"79904\", \"valid_best_weighted_lm_ppl\": \"73.4256\"}\r\n",
      "[2021-06-07 02:18:43,751][fairseq.checkpoint_utils][INFO] - Preparing to save checkpoint for epoch 4994 @ 79904 updates\r\n",
      "[2021-06-07 02:18:43,752][fairseq.trainer][INFO] - Saving checkpoint to /kaggle/working/checkpoint_last.pt\r\n"
     ]
    },
    {
     "name": "stdout",
     "output_type": "stream",
     "text": [
      "[2021-06-07 02:18:43,801][fairseq.trainer][INFO] - Finished saving checkpoint to /kaggle/working/checkpoint_last.pt\r\n",
      "[2021-06-07 02:18:43,801][fairseq.checkpoint_utils][INFO] - Saved checkpoint /kaggle/working/checkpoint_last.pt (epoch 4994 @ 79904 updates, score 74.7842976991389) (writing took 0.050063220001902664 seconds)\r\n",
      "[2021-06-07 02:18:43,801][fairseq_cli.train][INFO] - end of epoch 4994 (average epoch stats below)\r\n"
     ]
    },
    {
     "name": "stdout",
     "output_type": "stream",
     "text": [
      "[2021-06-07 02:18:43,804][train][INFO] - {\"epoch\": 4994, \"train_loss\": \"2.925\", \"train_ntokens\": \"145.688\", \"train_nsentences\": \"145.688\", \"train_temp\": \"0.1\", \"train_code_ppl\": \"8.593\", \"train_loss_code_pen\": \"0.339\", \"train_loss_smoothness\": \"2.03\", \"train_loss_dense_g\": \"3.935\", \"train_lm_score_sum\": 0.0, \"train_num_pred_chars\": 0.0, \"train_loss_grad_pen\": \"0.096\", \"train_loss_dense_d\": \"0.027\", \"train_loss_token_d\": \"0.027\", \"train_wps\": \"9.8\", \"train_ups\": \"0.07\", \"train_wpb\": \"145.7\", \"train_bsz\": \"145.7\", \"train_num_updates\": \"79904\", \"train_lr_discriminator\": \"0.0005\", \"train_lr_generator\": \"0.0004\", \"train_gnorm\": \"29.887\", \"train_clip\": \"93.8\", \"train_train_wall\": \"235\", \"train_wall\": \"17436\"}\r\n"
     ]
    },
    {
     "name": "stdout",
     "output_type": "stream",
     "text": [
      "[2021-06-07 02:18:43,864][fairseq.trainer][INFO] - begin training epoch 4995\r\n",
      "[2021-06-07 02:18:43,866][fairseq_cli.train][INFO] - Start iterating over samples\r\n"
     ]
    },
    {
     "name": "stdout",
     "output_type": "stream",
     "text": [
      "[2021-06-07 02:22:13,859][fairseq_cli.train][INFO] - begin validation on \"valid\" subset\r\n"
     ]
    },
    {
     "name": "stdout",
     "output_type": "stream",
     "text": [
      "[2021-06-07 02:22:16,388][fairseq.tasks.unpaired_audio_text][INFO] - REF: ɛ n f œ ʂ ə n a d ɵ ʂ ə k t f øː r d eː t s ɔ m h ɛ n d ə p oː ɕ œ r k ɔ n s ɛ t ə n\r\n",
      "[2021-06-07 02:22:16,390][fairseq.tasks.unpaired_audio_text][INFO] - HYP: t ɛ s j œ r œ yː b j uː œ yː k uː ɵ øː b n ə m œ k ə uː s eː r n v oː n l ɪ ŋ k l ɪ l s œ m k n a\r\n",
      "[2021-06-07 02:22:16,395][fairseq.tasks.unpaired_audio_text][INFO] - LM [REF]: -53.44462585449219, 0.05339602260269112\r\n",
      "[2021-06-07 02:22:16,395][fairseq.tasks.unpaired_audio_text][INFO] - LM [HYP]: -86.71978759765625, 0.013025284744277223\r\n"
     ]
    },
    {
     "name": "stdout",
     "output_type": "stream",
     "text": [
      "[2021-06-07 02:22:16,908][valid][INFO] - {\"epoch\": 4995, \"valid_loss\": \"1\", \"valid_ntokens\": \"3039.79\", \"valid_nsentences\": \"144.214\", \"valid_lm_score_sum\": \"-89484.5\", \"valid_num_pred_chars\": \"48346\", \"valid_vocab_seen_pct\": \"0.89547\", \"valid_uer\": \"100.007\", \"valid_weighted_lm_ppl\": \"74.579\", \"valid_lm_ppl\": \"59.8025\", \"valid_wps\": \"18031.9\", \"valid_wpb\": \"3039.8\", \"valid_bsz\": \"144.2\", \"valid_num_updates\": \"79920\", \"valid_best_weighted_lm_ppl\": \"73.4256\"}\r\n",
      "[2021-06-07 02:22:16,911][fairseq.checkpoint_utils][INFO] - Preparing to save checkpoint for epoch 4995 @ 79920 updates\r\n",
      "[2021-06-07 02:22:16,912][fairseq.trainer][INFO] - Saving checkpoint to /kaggle/working/checkpoint_last.pt\r\n"
     ]
    },
    {
     "name": "stdout",
     "output_type": "stream",
     "text": [
      "[2021-06-07 02:22:16,960][fairseq.trainer][INFO] - Finished saving checkpoint to /kaggle/working/checkpoint_last.pt\r\n",
      "[2021-06-07 02:22:16,961][fairseq.checkpoint_utils][INFO] - Saved checkpoint /kaggle/working/checkpoint_last.pt (epoch 4995 @ 79920 updates, score 74.57899999149642) (writing took 0.04943737299981876 seconds)\r\n",
      "[2021-06-07 02:22:16,961][fairseq_cli.train][INFO] - end of epoch 4995 (average epoch stats below)\r\n",
      "[2021-06-07 02:22:16,964][train][INFO] - {\"epoch\": 4995, \"train_loss\": \"3.455\", \"train_ntokens\": \"145.688\", \"train_nsentences\": \"145.688\", \"train_temp\": \"0.1\", \"train_code_ppl\": \"8.531\", \"train_loss_code_pen\": \"0.302\", \"train_loss_smoothness\": \"1.943\", \"train_loss_dense_g\": \"4.274\", \"train_lm_score_sum\": 0.0, \"train_num_pred_chars\": 0.0, \"train_loss_grad_pen\": \"0.088\", \"train_loss_dense_d\": \"0.025\", \"train_loss_token_d\": \"0.049\", \"train_wps\": \"10.9\", \"train_ups\": \"0.08\", \"train_wpb\": \"145.7\", \"train_bsz\": \"145.7\", \"train_num_updates\": \"79920\", \"train_lr_discriminator\": \"0.0005\", \"train_lr_generator\": \"0.0004\", \"train_gnorm\": \"30.54\", \"train_clip\": \"87.5\", \"train_train_wall\": \"209\", \"train_wall\": \"17649\"}\r\n"
     ]
    },
    {
     "name": "stdout",
     "output_type": "stream",
     "text": [
      "[2021-06-07 02:22:17,022][fairseq.trainer][INFO] - begin training epoch 4996\r\n",
      "[2021-06-07 02:22:17,023][fairseq_cli.train][INFO] - Start iterating over samples\r\n"
     ]
    },
    {
     "name": "stdout",
     "output_type": "stream",
     "text": [
      "[2021-06-07 02:25:40,516][fairseq_cli.train][INFO] - begin validation on \"valid\" subset\r\n"
     ]
    },
    {
     "name": "stdout",
     "output_type": "stream",
     "text": [
      "[2021-06-07 02:25:43,118][fairseq.tasks.unpaired_audio_text][INFO] - REF: ɛ n f œ ʂ ə n a d ɵ ʂ ə k t f øː r d eː t s ɔ m h ɛ n d ə p oː ɕ œ r k ɔ n s ɛ t ə n\r\n",
      "[2021-06-07 02:25:43,121][fairseq.tasks.unpaired_audio_text][INFO] - HYP: t ɛ s j œ r œ j œ yː b j uː œ yː k uː ɵ øː b n ə m œ k ə uː s eː r n v oː n l ɪ ŋ k l ɪ l s ɔ m k n a\r\n",
      "[2021-06-07 02:25:43,126][fairseq.tasks.unpaired_audio_text][INFO] - LM [REF]: -53.44462585449219, 0.05339602260269112\r\n",
      "[2021-06-07 02:25:43,127][fairseq.tasks.unpaired_audio_text][INFO] - LM [HYP]: -87.71285247802734, 0.01488157531732425\r\n"
     ]
    },
    {
     "name": "stdout",
     "output_type": "stream",
     "text": [
      "[2021-06-07 02:25:43,653][valid][INFO] - {\"epoch\": 4996, \"valid_loss\": \"1.003\", \"valid_ntokens\": \"3039.79\", \"valid_nsentences\": \"144.214\", \"valid_lm_score_sum\": \"-89898.4\", \"valid_num_pred_chars\": \"48534\", \"valid_vocab_seen_pct\": \"0.900697\", \"valid_uer\": \"100.334\", \"valid_weighted_lm_ppl\": \"73.985\", \"valid_lm_ppl\": \"60.0207\", \"valid_wps\": \"17504.1\", \"valid_wpb\": \"3039.8\", \"valid_bsz\": \"144.2\", \"valid_num_updates\": \"79936\", \"valid_best_weighted_lm_ppl\": \"73.4256\"}\r\n",
      "[2021-06-07 02:25:43,657][fairseq.checkpoint_utils][INFO] - Preparing to save checkpoint for epoch 4996 @ 79936 updates\r\n",
      "[2021-06-07 02:25:43,658][fairseq.trainer][INFO] - Saving checkpoint to /kaggle/working/checkpoint_last.pt\r\n"
     ]
    },
    {
     "name": "stdout",
     "output_type": "stream",
     "text": [
      "[2021-06-07 02:25:43,713][fairseq.trainer][INFO] - Finished saving checkpoint to /kaggle/working/checkpoint_last.pt\r\n",
      "[2021-06-07 02:25:43,713][fairseq.checkpoint_utils][INFO] - Saved checkpoint /kaggle/working/checkpoint_last.pt (epoch 4996 @ 79936 updates, score 73.98500145473197) (writing took 0.055942982999113156 seconds)\r\n",
      "[2021-06-07 02:25:43,713][fairseq_cli.train][INFO] - end of epoch 4996 (average epoch stats below)\r\n",
      "[2021-06-07 02:25:43,717][train][INFO] - {\"epoch\": 4996, \"train_loss\": \"3.433\", \"train_ntokens\": \"145.688\", \"train_nsentences\": \"145.688\", \"train_temp\": \"0.1\", \"train_code_ppl\": \"8.696\", \"train_loss_code_pen\": \"0.327\", \"train_loss_smoothness\": \"2.05\", \"train_loss_dense_g\": \"3.737\", \"train_lm_score_sum\": 0.0, \"train_num_pred_chars\": 0.0, \"train_loss_grad_pen\": \"0.113\", \"train_loss_dense_d\": \"0.029\", \"train_loss_token_d\": \"0.026\", \"train_wps\": \"11.3\", \"train_ups\": \"0.08\", \"train_wpb\": \"145.7\", \"train_bsz\": \"145.7\", \"train_num_updates\": \"79936\", \"train_lr_discriminator\": \"0.0005\", \"train_lr_generator\": \"0.0004\", \"train_gnorm\": \"35.176\", \"train_clip\": \"75\", \"train_train_wall\": \"203\", \"train_wall\": \"17856\"}\r\n"
     ]
    },
    {
     "name": "stdout",
     "output_type": "stream",
     "text": [
      "[2021-06-07 02:25:43,772][fairseq.trainer][INFO] - begin training epoch 4997\r\n",
      "[2021-06-07 02:25:43,773][fairseq_cli.train][INFO] - Start iterating over samples\r\n"
     ]
    },
    {
     "name": "stdout",
     "output_type": "stream",
     "text": [
      "[2021-06-07 02:29:12,323][fairseq_cli.train][INFO] - begin validation on \"valid\" subset\r\n"
     ]
    },
    {
     "name": "stdout",
     "output_type": "stream",
     "text": [
      "[2021-06-07 02:29:14,856][fairseq.tasks.unpaired_audio_text][INFO] - REF: ɛ n f œ ʂ ə n a d ɵ ʂ ə k t f øː r d eː t s ɔ m h ɛ n d ə p oː ɕ œ r k ɔ n s ɛ t ə n\r\n",
      "[2021-06-07 02:29:14,859][fairseq.tasks.unpaired_audio_text][INFO] - HYP: t ɛ s j œ r œ ʂ yː b j uː œ yː k uː ɵ øː b n ə m œ k ə uː s eː r n v oː n l ɪ ŋ k l ɪ l s m k n\r\n",
      "[2021-06-07 02:29:14,863][fairseq.tasks.unpaired_audio_text][INFO] - LM [REF]: -53.44462585449219, 0.05339602260269112\r\n",
      "[2021-06-07 02:29:14,863][fairseq.tasks.unpaired_audio_text][INFO] - LM [HYP]: -85.80838012695312, 0.012392162743759417\r\n"
     ]
    },
    {
     "name": "stdout",
     "output_type": "stream",
     "text": [
      "[2021-06-07 02:29:15,412][valid][INFO] - {\"epoch\": 4997, \"valid_loss\": \"1.002\", \"valid_ntokens\": \"3039.79\", \"valid_nsentences\": \"144.214\", \"valid_lm_score_sum\": \"-89697.6\", \"valid_num_pred_chars\": \"48435\", \"valid_vocab_seen_pct\": \"0.900697\", \"valid_uer\": \"100.174\", \"valid_weighted_lm_ppl\": \"73.9012\", \"valid_lm_ppl\": \"59.9527\", \"valid_wps\": \"17785.3\", \"valid_wpb\": \"3039.8\", \"valid_bsz\": \"144.2\", \"valid_num_updates\": \"79952\", \"valid_best_weighted_lm_ppl\": \"73.4256\"}\r\n",
      "[2021-06-07 02:29:15,415][fairseq.checkpoint_utils][INFO] - Preparing to save checkpoint for epoch 4997 @ 79952 updates\r\n",
      "[2021-06-07 02:29:15,416][fairseq.trainer][INFO] - Saving checkpoint to /kaggle/working/checkpoint_last.pt\r\n"
     ]
    },
    {
     "name": "stdout",
     "output_type": "stream",
     "text": [
      "[2021-06-07 02:29:15,466][fairseq.trainer][INFO] - Finished saving checkpoint to /kaggle/working/checkpoint_last.pt\r\n",
      "[2021-06-07 02:29:15,466][fairseq.checkpoint_utils][INFO] - Saved checkpoint /kaggle/working/checkpoint_last.pt (epoch 4997 @ 79952 updates, score 73.90118003848133) (writing took 0.05145070100115845 seconds)\r\n",
      "[2021-06-07 02:29:15,467][fairseq_cli.train][INFO] - end of epoch 4997 (average epoch stats below)\r\n",
      "[2021-06-07 02:29:15,470][train][INFO] - {\"epoch\": 4997, \"train_loss\": \"3.518\", \"train_ntokens\": \"145.688\", \"train_nsentences\": \"145.688\", \"train_temp\": \"0.1\", \"train_code_ppl\": \"8.53\", \"train_loss_code_pen\": \"0.305\", \"train_loss_smoothness\": \"1.996\", \"train_loss_dense_g\": \"3.994\", \"train_lm_score_sum\": 0.0, \"train_num_pred_chars\": 0.0, \"train_loss_grad_pen\": \"0.075\", \"train_loss_dense_d\": \"0.029\", \"train_loss_token_d\": \"0.032\", \"train_wps\": \"11\", \"train_ups\": \"0.08\", \"train_wpb\": \"145.7\", \"train_bsz\": \"145.7\", \"train_num_updates\": \"79952\", \"train_lr_discriminator\": \"0.0005\", \"train_lr_generator\": \"0.0004\", \"train_gnorm\": \"32.795\", \"train_clip\": \"81.2\", \"train_train_wall\": \"208\", \"train_wall\": \"18068\"}\r\n"
     ]
    },
    {
     "name": "stdout",
     "output_type": "stream",
     "text": [
      "[2021-06-07 02:29:15,537][fairseq.trainer][INFO] - begin training epoch 4998\r\n",
      "[2021-06-07 02:29:15,539][fairseq_cli.train][INFO] - Start iterating over samples\r\n"
     ]
    },
    {
     "name": "stdout",
     "output_type": "stream",
     "text": [
      "[2021-06-07 02:33:06,657][fairseq_cli.train][INFO] - begin validation on \"valid\" subset\r\n"
     ]
    },
    {
     "name": "stdout",
     "output_type": "stream",
     "text": [
      "[2021-06-07 02:33:09,161][fairseq.tasks.unpaired_audio_text][INFO] - REF: ɛ n f œ ʂ ə n a d ɵ ʂ ə k t f øː r d eː t s ɔ m h ɛ n d ə p oː ɕ œ r k ɔ n s ɛ t ə n\r\n",
      "[2021-06-07 02:33:09,163][fairseq.tasks.unpaired_audio_text][INFO] - HYP: t ɛ s j œ f œ j œ b j uː œ k uː ɵ øː m b n ə m œ k ə uː s eː r n v oː n ɪ ŋ k l ɪ l s m k n t n\r\n",
      "[2021-06-07 02:33:09,167][fairseq.tasks.unpaired_audio_text][INFO] - LM [REF]: -53.44462585449219, 0.05339602260269112\r\n"
     ]
    },
    {
     "name": "stdout",
     "output_type": "stream",
     "text": [
      "[2021-06-07 02:33:09,168][fairseq.tasks.unpaired_audio_text][INFO] - LM [HYP]: -86.51557159423828, 0.013159115671178704\r\n"
     ]
    },
    {
     "name": "stdout",
     "output_type": "stream",
     "text": [
      "[2021-06-07 02:33:09,686][valid][INFO] - {\"epoch\": 4998, \"valid_loss\": \"1.002\", \"valid_ntokens\": \"3039.79\", \"valid_nsentences\": \"144.214\", \"valid_lm_score_sum\": \"-89650.7\", \"valid_num_pred_chars\": \"48392\", \"valid_vocab_seen_pct\": \"0.891986\", \"valid_uer\": \"100.179\", \"valid_weighted_lm_ppl\": \"75.4536\", \"valid_lm_ppl\": \"60.0339\", \"valid_wps\": \"18271.5\", \"valid_wpb\": \"3039.8\", \"valid_bsz\": \"144.2\", \"valid_num_updates\": \"79968\", \"valid_best_weighted_lm_ppl\": \"73.4256\"}\r\n",
      "[2021-06-07 02:33:09,689][fairseq.checkpoint_utils][INFO] - Preparing to save checkpoint for epoch 4998 @ 79968 updates\r\n",
      "[2021-06-07 02:33:09,690][fairseq.trainer][INFO] - Saving checkpoint to /kaggle/working/checkpoint_last.pt\r\n"
     ]
    },
    {
     "name": "stdout",
     "output_type": "stream",
     "text": [
      "[2021-06-07 02:33:09,737][fairseq.trainer][INFO] - Finished saving checkpoint to /kaggle/working/checkpoint_last.pt\r\n",
      "[2021-06-07 02:33:09,737][fairseq.checkpoint_utils][INFO] - Saved checkpoint /kaggle/working/checkpoint_last.pt (epoch 4998 @ 79968 updates, score 75.45361687545719) (writing took 0.04834691599899088 seconds)\r\n",
      "[2021-06-07 02:33:09,738][fairseq_cli.train][INFO] - end of epoch 4998 (average epoch stats below)\r\n",
      "[2021-06-07 02:33:09,741][train][INFO] - {\"epoch\": 4998, \"train_loss\": \"3.118\", \"train_ntokens\": \"145.688\", \"train_nsentences\": \"145.688\", \"train_temp\": \"0.1\", \"train_code_ppl\": \"8.718\", \"train_loss_code_pen\": \"0.306\", \"train_loss_smoothness\": \"1.992\", \"train_loss_dense_g\": \"4.049\", \"train_lm_score_sum\": 0.0, \"train_num_pred_chars\": 0.0, \"train_loss_grad_pen\": \"0.056\", \"train_loss_dense_d\": \"0.03\", \"train_loss_token_d\": \"0.029\", \"train_wps\": \"10\", \"train_ups\": \"0.07\", \"train_wpb\": \"145.7\", \"train_bsz\": \"145.7\", \"train_num_updates\": \"79968\", \"train_lr_discriminator\": \"0.0005\", \"train_lr_generator\": \"0.0004\", \"train_gnorm\": \"28.041\", \"train_clip\": \"68.8\", \"train_train_wall\": \"231\", \"train_wall\": \"18302\"}\r\n"
     ]
    },
    {
     "name": "stdout",
     "output_type": "stream",
     "text": [
      "[2021-06-07 02:33:09,799][fairseq.trainer][INFO] - begin training epoch 4999\r\n",
      "[2021-06-07 02:33:09,800][fairseq_cli.train][INFO] - Start iterating over samples\r\n"
     ]
    },
    {
     "name": "stdout",
     "output_type": "stream",
     "text": [
      "[2021-06-07 02:36:47,188][fairseq_cli.train][INFO] - begin validation on \"valid\" subset\r\n"
     ]
    },
    {
     "name": "stdout",
     "output_type": "stream",
     "text": [
      "[2021-06-07 02:36:49,695][fairseq.tasks.unpaired_audio_text][INFO] - REF: ɛ n f œ ʂ ə n a d ɵ ʂ ə k t f øː r d eː t s ɔ m h ɛ n d ə p oː ɕ œ r k ɔ n s ɛ t ə n\r\n",
      "[2021-06-07 02:36:49,697][fairseq.tasks.unpaired_audio_text][INFO] - HYP: t ɛ s j œ r œ j yː b j uː œ yː k uː ɵ øː b n ə m œ k ə uː s eː r n v oː n ɪ ŋ k l ɪ l s m k n t n\r\n",
      "[2021-06-07 02:36:49,702][fairseq.tasks.unpaired_audio_text][INFO] - LM [REF]: -53.44462585449219, 0.05339602260269112\r\n",
      "[2021-06-07 02:36:49,702][fairseq.tasks.unpaired_audio_text][INFO] - LM [HYP]: -86.01368713378906, 0.013493892196284121\r\n"
     ]
    },
    {
     "name": "stdout",
     "output_type": "stream",
     "text": [
      "[2021-06-07 02:36:50,224][valid][INFO] - {\"epoch\": 4999, \"valid_loss\": \"1.001\", \"valid_ntokens\": \"3039.79\", \"valid_nsentences\": \"144.214\", \"valid_lm_score_sum\": \"-89701.4\", \"valid_num_pred_chars\": \"48437\", \"valid_vocab_seen_pct\": \"0.897213\", \"valid_uer\": \"100.122\", \"valid_weighted_lm_ppl\": \"74.4774\", \"valid_lm_ppl\": \"59.9536\", \"valid_wps\": \"18251.1\", \"valid_wpb\": \"3039.8\", \"valid_bsz\": \"144.2\", \"valid_num_updates\": \"79984\", \"valid_best_weighted_lm_ppl\": \"73.4256\"}\r\n",
      "[2021-06-07 02:36:50,227][fairseq.checkpoint_utils][INFO] - Preparing to save checkpoint for epoch 4999 @ 79984 updates\r\n",
      "[2021-06-07 02:36:50,229][fairseq.trainer][INFO] - Saving checkpoint to /kaggle/working/checkpoint_last.pt\r\n"
     ]
    },
    {
     "name": "stdout",
     "output_type": "stream",
     "text": [
      "[2021-06-07 02:36:50,277][fairseq.trainer][INFO] - Finished saving checkpoint to /kaggle/working/checkpoint_last.pt\r\n",
      "[2021-06-07 02:36:50,277][fairseq.checkpoint_utils][INFO] - Saved checkpoint /kaggle/working/checkpoint_last.pt (epoch 4999 @ 79984 updates, score 74.47741343319989) (writing took 0.04973516699828906 seconds)\r\n",
      "[2021-06-07 02:36:50,278][fairseq_cli.train][INFO] - end of epoch 4999 (average epoch stats below)\r\n",
      "[2021-06-07 02:36:50,281][train][INFO] - {\"epoch\": 4999, \"train_loss\": \"3.533\", \"train_ntokens\": \"145.688\", \"train_nsentences\": \"145.688\", \"train_temp\": \"0.1\", \"train_code_ppl\": \"8.468\", \"train_loss_code_pen\": \"0.311\", \"train_loss_smoothness\": \"2.009\", \"train_loss_dense_g\": \"3.992\", \"train_lm_score_sum\": 0.0, \"train_num_pred_chars\": 0.0, \"train_loss_grad_pen\": \"0.089\", \"train_loss_dense_d\": \"0.026\", \"train_loss_token_d\": \"0.034\", \"train_wps\": \"10.6\", \"train_ups\": \"0.07\", \"train_wpb\": \"145.7\", \"train_bsz\": \"145.7\", \"train_num_updates\": \"79984\", \"train_lr_discriminator\": \"0.0005\", \"train_lr_generator\": \"0.0004\", \"train_gnorm\": \"29.686\", \"train_clip\": \"75\", \"train_train_wall\": \"217\", \"train_wall\": \"18523\"}\r\n"
     ]
    },
    {
     "name": "stdout",
     "output_type": "stream",
     "text": [
      "[2021-06-07 02:36:50,338][fairseq.trainer][INFO] - begin training epoch 5000\r\n",
      "[2021-06-07 02:36:50,340][fairseq_cli.train][INFO] - Start iterating over samples\r\n"
     ]
    },
    {
     "name": "stdout",
     "output_type": "stream",
     "text": [
      "[2021-06-07 02:40:23,635][train_inner][INFO] - {\"epoch\": 5000, \"update\": 5000.0, \"loss\": \"3.425\", \"ntokens\": \"146.26\", \"nsentences\": \"146.26\", \"temp\": \"0.1\", \"code_ppl\": \"8.578\", \"loss_code_pen\": \"0.312\", \"loss_smoothness\": \"2.007\", \"loss_dense_g\": \"3.999\", \"lm_score_sum\": 0.0, \"num_pred_chars\": 0.0, \"loss_grad_pen\": \"0.083\", \"loss_dense_d\": \"0.029\", \"loss_token_d\": \"0.034\", \"wps\": \"10.7\", \"ups\": \"0.07\", \"wpb\": \"146.3\", \"bsz\": \"146.3\", \"num_updates\": \"80000\", \"lr_discriminator\": \"0.0005\", \"lr_generator\": \"0.0004\", \"gnorm\": \"31.148\", \"clip\": \"76\", \"train_wall\": \"1343\", \"wall\": \"18736\"}\r\n",
      "[2021-06-07 02:40:23,637][fairseq_cli.train][INFO] - begin validation on \"valid\" subset\r\n"
     ]
    },
    {
     "name": "stdout",
     "output_type": "stream",
     "text": [
      "[2021-06-07 02:40:26,134][fairseq.tasks.unpaired_audio_text][INFO] - REF: ɛ n f œ ʂ ə n a d ɵ ʂ ə k t f øː r d eː t s ɔ m h ɛ n d ə p oː ɕ œ r k ɔ n s ɛ t ə n\r\n",
      "[2021-06-07 02:40:26,137][fairseq.tasks.unpaired_audio_text][INFO] - HYP: n ɡ ɛ s j œ r œ yː b j uː œ yː k uː ɵ v j m b n ə m œ k ə uː s eː r n v oː n ɪ ŋ k l ɪ l s œ m k n t n\r\n",
      "[2021-06-07 02:40:26,141][fairseq.tasks.unpaired_audio_text][INFO] - LM [REF]: -53.44462585449219, 0.05339602260269112\r\n",
      "[2021-06-07 02:40:26,141][fairseq.tasks.unpaired_audio_text][INFO] - LM [HYP]: -92.29196166992188, 0.01307647169760093\r\n"
     ]
    },
    {
     "name": "stdout",
     "output_type": "stream",
     "text": [
      "[2021-06-07 02:40:26,657][valid][INFO] - {\"epoch\": 5000, \"valid_loss\": \"1.004\", \"valid_ntokens\": \"3039.79\", \"valid_nsentences\": \"144.214\", \"valid_lm_score_sum\": \"-89904.7\", \"valid_num_pred_chars\": \"48530\", \"valid_vocab_seen_pct\": \"0.898955\", \"valid_uer\": \"100.381\", \"valid_weighted_lm_ppl\": \"74.3172\", \"valid_lm_ppl\": \"60.0572\", \"valid_wps\": \"18157.6\", \"valid_wpb\": \"3039.8\", \"valid_bsz\": \"144.2\", \"valid_num_updates\": \"80000\", \"valid_best_weighted_lm_ppl\": \"73.4256\"}\r\n",
      "[2021-06-07 02:40:26,660][fairseq.checkpoint_utils][INFO] - Preparing to save checkpoint for epoch 5000 @ 80000 updates\r\n",
      "[2021-06-07 02:40:26,661][fairseq.trainer][INFO] - Saving checkpoint to /kaggle/working/checkpoint_last.pt\r\n"
     ]
    },
    {
     "name": "stdout",
     "output_type": "stream",
     "text": [
      "[2021-06-07 02:40:26,708][fairseq.trainer][INFO] - Finished saving checkpoint to /kaggle/working/checkpoint_last.pt\r\n",
      "[2021-06-07 02:40:26,708][fairseq.checkpoint_utils][INFO] - Saved checkpoint /kaggle/working/checkpoint_last.pt (epoch 5000 @ 80000 updates, score 74.31722423163055) (writing took 0.04818200500085368 seconds)\r\n",
      "[2021-06-07 02:40:26,709][fairseq_cli.train][INFO] - end of epoch 5000 (average epoch stats below)\r\n",
      "[2021-06-07 02:40:26,711][train][INFO] - {\"epoch\": 5000, \"train_loss\": \"3.527\", \"train_ntokens\": \"145.688\", \"train_nsentences\": \"145.688\", \"train_temp\": \"0.1\", \"train_code_ppl\": \"8.483\", \"train_loss_code_pen\": \"0.306\", \"train_loss_smoothness\": \"2.015\", \"train_loss_dense_g\": \"3.98\", \"train_lm_score_sum\": 0.0, \"train_num_pred_chars\": 0.0, \"train_loss_grad_pen\": \"0.082\", \"train_loss_dense_d\": \"0.034\", \"train_loss_token_d\": \"0.033\", \"train_wps\": \"10.8\", \"train_ups\": \"0.07\", \"train_wpb\": \"145.7\", \"train_bsz\": \"145.7\", \"train_num_updates\": \"80000\", \"train_lr_discriminator\": \"0.0005\", \"train_lr_generator\": \"0.0004\", \"train_gnorm\": \"31.263\", \"train_clip\": \"68.8\", \"train_train_wall\": \"213\", \"train_wall\": \"18739\"}\r\n"
     ]
    },
    {
     "name": "stdout",
     "output_type": "stream",
     "text": [
      "[2021-06-07 02:40:26,770][fairseq.trainer][INFO] - begin training epoch 5001\r\n",
      "[2021-06-07 02:40:26,771][fairseq_cli.train][INFO] - Start iterating over samples\r\n"
     ]
    },
    {
     "name": "stdout",
     "output_type": "stream",
     "text": [
      "[2021-06-07 02:44:29,296][fairseq_cli.train][INFO] - begin validation on \"valid\" subset\r\n"
     ]
    },
    {
     "name": "stdout",
     "output_type": "stream",
     "text": [
      "[2021-06-07 02:44:31,783][fairseq.tasks.unpaired_audio_text][INFO] - REF: ɛ n f œ ʂ ə n a d ɵ ʂ ə k t f øː r d eː t s ɔ m h ɛ n d ə p oː ɕ œ r k ɔ n s ɛ t ə n\r\n",
      "[2021-06-07 02:44:31,785][fairseq.tasks.unpaired_audio_text][INFO] - HYP: n ɡ ɛ s j œ r œ ʃ b j uː œ k uː ɵ v m b n ə m œ k ə uː s eː r n v oː n ɪ ŋ k l ɪ l s œ m k n ə a\r\n",
      "[2021-06-07 02:44:31,789][fairseq.tasks.unpaired_audio_text][INFO] - LM [REF]: -53.44462585449219, 0.05339602260269112\r\n",
      "[2021-06-07 02:44:31,789][fairseq.tasks.unpaired_audio_text][INFO] - LM [HYP]: -88.37877655029297, 0.013170446512575812\r\n"
     ]
    },
    {
     "name": "stdout",
     "output_type": "stream",
     "text": [
      "[2021-06-07 02:44:32,306][valid][INFO] - {\"epoch\": 5001, \"valid_loss\": \"1.003\", \"valid_ntokens\": \"3039.79\", \"valid_nsentences\": \"144.214\", \"valid_lm_score_sum\": \"-89776.4\", \"valid_num_pred_chars\": \"48459\", \"valid_vocab_seen_pct\": \"0.893728\", \"valid_uer\": \"100.324\", \"valid_weighted_lm_ppl\": \"75.182\", \"valid_lm_ppl\": \"60.0516\", \"valid_wps\": \"18419.8\", \"valid_wpb\": \"3039.8\", \"valid_bsz\": \"144.2\", \"valid_num_updates\": \"80016\", \"valid_best_weighted_lm_ppl\": \"73.4256\"}\r\n"
     ]
    },
    {
     "name": "stdout",
     "output_type": "stream",
     "text": [
      "[2021-06-07 02:44:32,311][fairseq.checkpoint_utils][INFO] - Preparing to save checkpoint for epoch 5001 @ 80016 updates\r\n",
      "[2021-06-07 02:44:32,312][fairseq.trainer][INFO] - Saving checkpoint to /kaggle/working/checkpoint_last.pt\r\n",
      "[2021-06-07 02:44:32,358][fairseq.trainer][INFO] - Finished saving checkpoint to /kaggle/working/checkpoint_last.pt\r\n"
     ]
    },
    {
     "name": "stdout",
     "output_type": "stream",
     "text": [
      "[2021-06-07 02:44:32,358][fairseq.checkpoint_utils][INFO] - Saved checkpoint /kaggle/working/checkpoint_last.pt (epoch 5001 @ 80016 updates, score 75.18201386167783) (writing took 0.04737327600014396 seconds)\r\n",
      "[2021-06-07 02:44:32,359][fairseq_cli.train][INFO] - end of epoch 5001 (average epoch stats below)\r\n",
      "[2021-06-07 02:44:32,362][train][INFO] - {\"epoch\": 5001, \"train_loss\": \"2.943\", \"train_ntokens\": \"145.688\", \"train_nsentences\": \"145.688\", \"train_temp\": \"0.1\", \"train_code_ppl\": \"8.759\", \"train_loss_code_pen\": \"0.332\", \"train_loss_smoothness\": \"2.059\", \"train_loss_dense_g\": \"3.999\", \"train_lm_score_sum\": 0.0, \"train_num_pred_chars\": 0.0, \"train_loss_grad_pen\": \"0.054\", \"train_loss_dense_d\": \"0.032\", \"train_loss_token_d\": \"0.027\", \"train_wps\": \"9.5\", \"train_ups\": \"0.07\", \"train_wpb\": \"145.7\", \"train_bsz\": \"145.7\", \"train_num_updates\": \"80016\", \"train_lr_discriminator\": \"0.0005\", \"train_lr_generator\": \"0.0004\", \"train_gnorm\": \"27.946\", \"train_clip\": \"62.5\", \"train_train_wall\": \"242\", \"train_wall\": \"18985\"}\r\n"
     ]
    },
    {
     "name": "stdout",
     "output_type": "stream",
     "text": [
      "[2021-06-07 02:44:32,425][fairseq.trainer][INFO] - begin training epoch 5002\r\n",
      "[2021-06-07 02:44:32,427][fairseq_cli.train][INFO] - Start iterating over samples\r\n"
     ]
    },
    {
     "name": "stdout",
     "output_type": "stream",
     "text": [
      "[2021-06-07 02:48:21,353][fairseq_cli.train][INFO] - begin validation on \"valid\" subset\r\n"
     ]
    },
    {
     "name": "stdout",
     "output_type": "stream",
     "text": [
      "[2021-06-07 02:48:23,862][fairseq.tasks.unpaired_audio_text][INFO] - REF: ɛ n f œ ʂ ə n a d ɵ ʂ ə k t f øː r d eː t s ɔ m h ɛ n d ə p oː ɕ œ r k ɔ n s ɛ t ə n\r\n",
      "[2021-06-07 02:48:23,865][fairseq.tasks.unpaired_audio_text][INFO] - HYP: t ɡ ɛ s j œ r œ ʂ œ ʃ b j uː œ k uː ɵ øː m b n ə m œ k ə uː s eː r n v oː n ɪ ŋ k l ɪ l s m k n t a\r\n",
      "[2021-06-07 02:48:23,869][fairseq.tasks.unpaired_audio_text][INFO] - LM [REF]: -53.44462585449219, 0.05339602260269112\r\n",
      "[2021-06-07 02:48:23,869][fairseq.tasks.unpaired_audio_text][INFO] - LM [HYP]: -90.22272491455078, 0.01319349623937769\r\n"
     ]
    },
    {
     "name": "stdout",
     "output_type": "stream",
     "text": [
      "[2021-06-07 02:48:24,382][valid][INFO] - {\"epoch\": 5002, \"valid_loss\": \"1.002\", \"valid_ntokens\": \"3039.79\", \"valid_nsentences\": \"144.214\", \"valid_lm_score_sum\": \"-89577.9\", \"valid_num_pred_chars\": \"48360\", \"valid_vocab_seen_pct\": \"0.900697\", \"valid_uer\": \"100.19\", \"valid_weighted_lm_ppl\": \"73.9472\", \"valid_lm_ppl\": \"59.99\", \"valid_wps\": \"18318.1\", \"valid_wpb\": \"3039.8\", \"valid_bsz\": \"144.2\", \"valid_num_updates\": \"80032\", \"valid_best_weighted_lm_ppl\": \"73.4256\"}\r\n",
      "[2021-06-07 02:48:24,386][fairseq.checkpoint_utils][INFO] - Preparing to save checkpoint for epoch 5002 @ 80032 updates\r\n",
      "[2021-06-07 02:48:24,387][fairseq.trainer][INFO] - Saving checkpoint to /kaggle/working/checkpoint_last.pt\r\n"
     ]
    },
    {
     "name": "stdout",
     "output_type": "stream",
     "text": [
      "[2021-06-07 02:48:24,435][fairseq.trainer][INFO] - Finished saving checkpoint to /kaggle/working/checkpoint_last.pt\r\n",
      "[2021-06-07 02:48:24,435][fairseq.checkpoint_utils][INFO] - Saved checkpoint /kaggle/working/checkpoint_last.pt (epoch 5002 @ 80032 updates, score 73.94722320548024) (writing took 0.04981771399980062 seconds)\r\n",
      "[2021-06-07 02:48:24,436][fairseq_cli.train][INFO] - end of epoch 5002 (average epoch stats below)\r\n",
      "[2021-06-07 02:48:24,439][train][INFO] - {\"epoch\": 5002, \"train_loss\": \"3.064\", \"train_ntokens\": \"145.688\", \"train_nsentences\": \"145.688\", \"train_temp\": \"0.1\", \"train_code_ppl\": \"8.571\", \"train_loss_code_pen\": \"0.305\", \"train_loss_smoothness\": \"1.986\", \"train_loss_dense_g\": \"3.954\", \"train_lm_score_sum\": 0.0, \"train_num_pred_chars\": 0.0, \"train_loss_grad_pen\": \"0.058\", \"train_loss_dense_d\": \"0.025\", \"train_loss_token_d\": \"0.026\", \"train_wps\": \"10\", \"train_ups\": \"0.07\", \"train_wpb\": \"145.7\", \"train_bsz\": \"145.7\", \"train_num_updates\": \"80032\", \"train_lr_discriminator\": \"0.0005\", \"train_lr_generator\": \"0.0004\", \"train_gnorm\": \"28.324\", \"train_clip\": \"62.5\", \"train_train_wall\": \"228\", \"train_wall\": \"19217\"}\r\n"
     ]
    },
    {
     "name": "stdout",
     "output_type": "stream",
     "text": [
      "[2021-06-07 02:48:24,497][fairseq.trainer][INFO] - begin training epoch 5003\r\n",
      "[2021-06-07 02:48:24,499][fairseq_cli.train][INFO] - Start iterating over samples\r\n"
     ]
    },
    {
     "name": "stdout",
     "output_type": "stream",
     "text": [
      "[2021-06-07 02:52:24,285][fairseq_cli.train][INFO] - begin validation on \"valid\" subset\r\n"
     ]
    },
    {
     "name": "stdout",
     "output_type": "stream",
     "text": [
      "[2021-06-07 02:52:26,781][fairseq.tasks.unpaired_audio_text][INFO] - REF: ɛ n f œ ʂ ə n a d ɵ ʂ ə k t f øː r d eː t s ɔ m h ɛ n d ə p oː ɕ œ r k ɔ n s ɛ t ə n\r\n",
      "[2021-06-07 02:52:26,783][fairseq.tasks.unpaired_audio_text][INFO] - HYP: t ɡ ɛ s j œ r œ ʃ b j uː œ k uː ɵ øː m b n ə m œ k ə uː s eː r n ɛ oː n ɪ ŋ k l ɪ l s œ m k n a\r\n",
      "[2021-06-07 02:52:26,788][fairseq.tasks.unpaired_audio_text][INFO] - LM [REF]: -53.44462585449219, 0.05339602260269112\r\n",
      "[2021-06-07 02:52:26,788][fairseq.tasks.unpaired_audio_text][INFO] - LM [HYP]: -87.4700698852539, 0.012545175511395586\r\n"
     ]
    },
    {
     "name": "stdout",
     "output_type": "stream",
     "text": [
      "[2021-06-07 02:52:27,303][valid][INFO] - {\"epoch\": 5003, \"valid_loss\": \"1.003\", \"valid_ntokens\": \"3039.79\", \"valid_nsentences\": \"144.214\", \"valid_lm_score_sum\": \"-89727.6\", \"valid_num_pred_chars\": \"48448\", \"valid_vocab_seen_pct\": \"0.898955\", \"valid_uer\": \"100.277\", \"valid_weighted_lm_ppl\": \"74.2115\", \"valid_lm_ppl\": \"59.9717\", \"valid_wps\": \"18242.1\", \"valid_wpb\": \"3039.8\", \"valid_bsz\": \"144.2\", \"valid_num_updates\": \"80048\", \"valid_best_weighted_lm_ppl\": \"73.4256\"}\r\n",
      "[2021-06-07 02:52:27,307][fairseq.checkpoint_utils][INFO] - Preparing to save checkpoint for epoch 5003 @ 80048 updates\r\n",
      "[2021-06-07 02:52:27,308][fairseq.trainer][INFO] - Saving checkpoint to /kaggle/working/checkpoint_last.pt\r\n"
     ]
    },
    {
     "name": "stdout",
     "output_type": "stream",
     "text": [
      "[2021-06-07 02:52:27,358][fairseq.trainer][INFO] - Finished saving checkpoint to /kaggle/working/checkpoint_last.pt\r\n",
      "[2021-06-07 02:52:27,358][fairseq.checkpoint_utils][INFO] - Saved checkpoint /kaggle/working/checkpoint_last.pt (epoch 5003 @ 80048 updates, score 74.21147678065267) (writing took 0.05157472700011567 seconds)\r\n",
      "[2021-06-07 02:52:27,359][fairseq_cli.train][INFO] - end of epoch 5003 (average epoch stats below)\r\n",
      "[2021-06-07 02:52:27,362][train][INFO] - {\"epoch\": 5003, \"train_loss\": \"3.035\", \"train_ntokens\": \"145.688\", \"train_nsentences\": \"145.688\", \"train_temp\": \"0.1\", \"train_code_ppl\": \"8.688\", \"train_loss_code_pen\": \"0.334\", \"train_loss_smoothness\": \"2.041\", \"train_loss_dense_g\": \"4.147\", \"train_lm_score_sum\": 0.0, \"train_num_pred_chars\": 0.0, \"train_loss_grad_pen\": \"0.122\", \"train_loss_dense_d\": \"0.026\", \"train_loss_token_d\": \"0.025\", \"train_wps\": \"9.6\", \"train_ups\": \"0.07\", \"train_wpb\": \"145.7\", \"train_bsz\": \"145.7\", \"train_num_updates\": \"80048\", \"train_lr_discriminator\": \"0.0005\", \"train_lr_generator\": \"0.0004\", \"train_gnorm\": \"29.767\", \"train_clip\": \"68.8\", \"train_train_wall\": \"239\", \"train_wall\": \"19460\"}\r\n"
     ]
    },
    {
     "name": "stdout",
     "output_type": "stream",
     "text": [
      "[2021-06-07 02:52:27,422][fairseq.trainer][INFO] - begin training epoch 5004\r\n"
     ]
    },
    {
     "name": "stdout",
     "output_type": "stream",
     "text": [
      "[2021-06-07 02:52:27,424][fairseq_cli.train][INFO] - Start iterating over samples\r\n"
     ]
    },
    {
     "name": "stdout",
     "output_type": "stream",
     "text": [
      "[2021-06-07 02:56:14,608][fairseq_cli.train][INFO] - begin validation on \"valid\" subset\r\n"
     ]
    },
    {
     "name": "stdout",
     "output_type": "stream",
     "text": [
      "[2021-06-07 02:56:17,230][fairseq.tasks.unpaired_audio_text][INFO] - REF: ɛ n f œ ʂ ə n a d ɵ ʂ ə k t f øː r d eː t s ɔ m h ɛ n d ə p oː ɕ œ r k ɔ n s ɛ t ə n\r\n",
      "[2021-06-07 02:56:17,232][fairseq.tasks.unpaired_audio_text][INFO] - HYP: t ɡ ɛ s j œ r œ yː b j uː œ k uː ɵ øː j m b n ə m œ k ə uː s eː r n v oː n ɪ ŋ k l ɪ l s œ m k n t a\r\n",
      "[2021-06-07 02:56:17,237][fairseq.tasks.unpaired_audio_text][INFO] - LM [REF]: -53.44462585449219, 0.05339602260269112\r\n",
      "[2021-06-07 02:56:17,237][fairseq.tasks.unpaired_audio_text][INFO] - LM [HYP]: -90.03694915771484, 0.013311598983743317\r\n"
     ]
    },
    {
     "name": "stdout",
     "output_type": "stream",
     "text": [
      "[2021-06-07 02:56:17,754][valid][INFO] - {\"epoch\": 5004, \"valid_loss\": \"1.004\", \"valid_ntokens\": \"3039.79\", \"valid_nsentences\": \"144.214\", \"valid_lm_score_sum\": \"-89698.7\", \"valid_num_pred_chars\": \"48539\", \"valid_vocab_seen_pct\": \"0.893728\", \"valid_uer\": \"100.364\", \"valid_weighted_lm_ppl\": \"74.4327\", \"valid_lm_ppl\": \"59.4531\", \"valid_wps\": \"17811.1\", \"valid_wpb\": \"3039.8\", \"valid_bsz\": \"144.2\", \"valid_num_updates\": \"80064\", \"valid_best_weighted_lm_ppl\": \"73.4256\"}\r\n"
     ]
    },
    {
     "name": "stdout",
     "output_type": "stream",
     "text": [
      "[2021-06-07 02:56:17,758][fairseq.checkpoint_utils][INFO] - Preparing to save checkpoint for epoch 5004 @ 80064 updates\r\n",
      "[2021-06-07 02:56:17,760][fairseq.trainer][INFO] - Saving checkpoint to /kaggle/working/checkpoint_last.pt\r\n",
      "[2021-06-07 02:56:17,808][fairseq.trainer][INFO] - Finished saving checkpoint to /kaggle/working/checkpoint_last.pt\r\n",
      "[2021-06-07 02:56:17,808][fairseq.checkpoint_utils][INFO] - Saved checkpoint /kaggle/working/checkpoint_last.pt (epoch 5004 @ 80064 updates, score 74.43268836120062) (writing took 0.04974716699871351 seconds)\r\n"
     ]
    },
    {
     "name": "stdout",
     "output_type": "stream",
     "text": [
      "[2021-06-07 02:56:17,808][fairseq_cli.train][INFO] - end of epoch 5004 (average epoch stats below)\r\n",
      "[2021-06-07 02:56:17,813][train][INFO] - {\"epoch\": 5004, \"train_loss\": \"3.241\", \"train_ntokens\": \"145.688\", \"train_nsentences\": \"145.688\", \"train_temp\": \"0.1\", \"train_code_ppl\": \"8.721\", \"train_loss_code_pen\": \"0.339\", \"train_loss_smoothness\": \"2.081\", \"train_loss_dense_g\": \"4.159\", \"train_lm_score_sum\": 0.0, \"train_num_pred_chars\": 0.0, \"train_loss_grad_pen\": \"0.088\", \"train_loss_dense_d\": \"0.026\", \"train_loss_token_d\": \"0.022\", \"train_wps\": \"10.1\", \"train_ups\": \"0.07\", \"train_wpb\": \"145.7\", \"train_bsz\": \"145.7\", \"train_num_updates\": \"80064\", \"train_lr_discriminator\": \"0.0005\", \"train_lr_generator\": \"0.0004\", \"train_gnorm\": \"29.528\", \"train_clip\": \"75\", \"train_train_wall\": \"227\", \"train_wall\": \"19690\"}\r\n"
     ]
    },
    {
     "name": "stdout",
     "output_type": "stream",
     "text": [
      "[2021-06-07 02:56:17,874][fairseq.trainer][INFO] - begin training epoch 5005\r\n",
      "[2021-06-07 02:56:17,876][fairseq_cli.train][INFO] - Start iterating over samples\r\n"
     ]
    },
    {
     "name": "stdout",
     "output_type": "stream",
     "text": [
      "[2021-06-07 02:59:43,527][fairseq_cli.train][INFO] - begin validation on \"valid\" subset\r\n"
     ]
    },
    {
     "name": "stdout",
     "output_type": "stream",
     "text": [
      "[2021-06-07 02:59:46,015][fairseq.tasks.unpaired_audio_text][INFO] - REF: ɛ n f œ ʂ ə n a d ɵ ʂ ə k t f øː r d eː t s ɔ m h ɛ n d ə p oː ɕ œ r k ɔ n s ɛ t ə n\r\n",
      "[2021-06-07 02:59:46,017][fairseq.tasks.unpaired_audio_text][INFO] - HYP: n ɡ ɛ s j œ r œ ʂ œ ʃ b j uː œ k uː ɵ øː j b n ə m œ k ə uː s eː r n v oː n l ɪ ŋ k l ɪ l s ɔ m k n\r\n",
      "[2021-06-07 02:59:46,022][fairseq.tasks.unpaired_audio_text][INFO] - LM [REF]: -53.44462585449219, 0.05339602260269112\r\n",
      "[2021-06-07 02:59:46,022][fairseq.tasks.unpaired_audio_text][INFO] - LM [HYP]: -89.07017517089844, 0.013943485539165341\r\n"
     ]
    },
    {
     "name": "stdout",
     "output_type": "stream",
     "text": [
      "[2021-06-07 02:59:46,536][valid][INFO] - {\"epoch\": 5005, \"valid_loss\": \"1.002\", \"valid_ntokens\": \"3039.79\", \"valid_nsentences\": \"144.214\", \"valid_lm_score_sum\": \"-89499.6\", \"valid_num_pred_chars\": \"48470\", \"valid_vocab_seen_pct\": \"0.900697\", \"valid_uer\": \"100.237\", \"valid_weighted_lm_ppl\": \"73.0296\", \"valid_lm_ppl\": \"59.2456\", \"valid_wps\": \"18314\", \"valid_wpb\": \"3039.8\", \"valid_bsz\": \"144.2\", \"valid_num_updates\": \"80080\", \"valid_best_weighted_lm_ppl\": \"73.0296\"}\r\n",
      "[2021-06-07 02:59:46,539][fairseq.checkpoint_utils][INFO] - Preparing to save checkpoint for epoch 5005 @ 80080 updates\r\n",
      "[2021-06-07 02:59:46,541][fairseq.trainer][INFO] - Saving checkpoint to /kaggle/working/checkpoint_best.pt\r\n"
     ]
    },
    {
     "name": "stdout",
     "output_type": "stream",
     "text": [
      "[2021-06-07 02:59:46,588][fairseq.trainer][INFO] - Finished saving checkpoint to /kaggle/working/checkpoint_best.pt\r\n",
      "[2021-06-07 02:59:46,621][fairseq.checkpoint_utils][INFO] - Saved checkpoint /kaggle/working/checkpoint_best.pt (epoch 5005 @ 80080 updates, score 73.02963122875612) (writing took 0.08147541600192199 seconds)\r\n",
      "[2021-06-07 02:59:46,621][fairseq_cli.train][INFO] - end of epoch 5005 (average epoch stats below)\r\n"
     ]
    },
    {
     "name": "stdout",
     "output_type": "stream",
     "text": [
      "[2021-06-07 02:59:46,626][train][INFO] - {\"epoch\": 5005, \"train_loss\": \"3.602\", \"train_ntokens\": \"145.688\", \"train_nsentences\": \"145.688\", \"train_temp\": \"0.1\", \"train_code_ppl\": \"8.524\", \"train_loss_code_pen\": \"0.328\", \"train_loss_smoothness\": \"2.058\", \"train_loss_dense_g\": \"4.073\", \"train_lm_score_sum\": 0.0, \"train_num_pred_chars\": 0.0, \"train_loss_grad_pen\": \"0.063\", \"train_loss_dense_d\": \"0.028\", \"train_loss_token_d\": \"0.031\", \"train_wps\": \"11.2\", \"train_ups\": \"0.08\", \"train_wpb\": \"145.7\", \"train_bsz\": \"145.7\", \"train_num_updates\": \"80080\", \"train_lr_discriminator\": \"0.0005\", \"train_lr_generator\": \"0.0004\", \"train_gnorm\": \"29.991\", \"train_clip\": \"68.8\", \"train_train_wall\": \"205\", \"train_wall\": \"19899\"}\r\n"
     ]
    },
    {
     "name": "stdout",
     "output_type": "stream",
     "text": [
      "[2021-06-07 02:59:46,686][fairseq.trainer][INFO] - begin training epoch 5006\r\n",
      "[2021-06-07 02:59:46,687][fairseq_cli.train][INFO] - Start iterating over samples\r\n"
     ]
    },
    {
     "name": "stdout",
     "output_type": "stream",
     "text": [
      "[2021-06-07 03:03:23,967][fairseq_cli.train][INFO] - begin validation on \"valid\" subset\r\n"
     ]
    },
    {
     "name": "stdout",
     "output_type": "stream",
     "text": [
      "[2021-06-07 03:03:26,429][fairseq.tasks.unpaired_audio_text][INFO] - REF: ɛ n f œ ʂ ə n a d ɵ ʂ ə k t f øː r d eː t s ɔ m h ɛ n d ə p oː ɕ œ r k ɔ n s ɛ t ə n\r\n",
      "[2021-06-07 03:03:26,431][fairseq.tasks.unpaired_audio_text][INFO] - HYP: n ɛ s j œ f œ yː b j uː œ yː k uː ɵ øː j n ə m œ k ə uː s eː r n v oː n l ɪ ŋ k l ɪ l s ɔ m k n\r\n",
      "[2021-06-07 03:03:26,435][fairseq.tasks.unpaired_audio_text][INFO] - LM [REF]: -53.44462585449219, 0.05339602260269112\r\n",
      "[2021-06-07 03:03:26,435][fairseq.tasks.unpaired_audio_text][INFO] - LM [HYP]: -82.66519165039062, 0.01455444807730236\r\n"
     ]
    },
    {
     "name": "stdout",
     "output_type": "stream",
     "text": [
      "[2021-06-07 03:03:26,938][valid][INFO] - {\"epoch\": 5006, \"valid_loss\": \"1.004\", \"valid_ntokens\": \"3039.79\", \"valid_nsentences\": \"144.214\", \"valid_lm_score_sum\": \"-89627.7\", \"valid_num_pred_chars\": \"48496\", \"valid_vocab_seen_pct\": \"0.891986\", \"valid_uer\": \"100.385\", \"valid_weighted_lm_ppl\": \"74.7418\", \"valid_lm_ppl\": \"59.4675\", \"valid_wps\": \"18609.2\", \"valid_wpb\": \"3039.8\", \"valid_bsz\": \"144.2\", \"valid_num_updates\": \"80096\", \"valid_best_weighted_lm_ppl\": \"73.0296\"}\r\n",
      "[2021-06-07 03:03:26,941][fairseq.checkpoint_utils][INFO] - Preparing to save checkpoint for epoch 5006 @ 80096 updates\r\n",
      "[2021-06-07 03:03:26,942][fairseq.trainer][INFO] - Saving checkpoint to /kaggle/working/checkpoint_last.pt\r\n"
     ]
    },
    {
     "name": "stdout",
     "output_type": "stream",
     "text": [
      "[2021-06-07 03:03:26,989][fairseq.trainer][INFO] - Finished saving checkpoint to /kaggle/working/checkpoint_last.pt\r\n",
      "[2021-06-07 03:03:26,989][fairseq.checkpoint_utils][INFO] - Saved checkpoint /kaggle/working/checkpoint_last.pt (epoch 5006 @ 80096 updates, score 74.74178930147352) (writing took 0.0478378480001993 seconds)\r\n",
      "[2021-06-07 03:03:26,990][fairseq_cli.train][INFO] - end of epoch 5006 (average epoch stats below)\r\n",
      "[2021-06-07 03:03:26,995][train][INFO] - {\"epoch\": 5006, \"train_loss\": \"3.29\", \"train_ntokens\": \"145.688\", \"train_nsentences\": \"145.688\", \"train_temp\": \"0.1\", \"train_code_ppl\": \"8.712\", \"train_loss_code_pen\": \"0.339\", \"train_loss_smoothness\": \"2.093\", \"train_loss_dense_g\": \"4.244\", \"train_lm_score_sum\": 0.0, \"train_num_pred_chars\": 0.0, \"train_loss_grad_pen\": \"0.095\", \"train_loss_dense_d\": \"0.026\", \"train_loss_token_d\": \"0.023\", \"train_wps\": \"10.6\", \"train_ups\": \"0.07\", \"train_wpb\": \"145.7\", \"train_bsz\": \"145.7\", \"train_num_updates\": \"80096\", \"train_lr_discriminator\": \"0.0005\", \"train_lr_generator\": \"0.0004\", \"train_gnorm\": \"29.909\", \"train_clip\": \"75\", \"train_train_wall\": \"217\", \"train_wall\": \"20119\"}\r\n"
     ]
    },
    {
     "name": "stdout",
     "output_type": "stream",
     "text": [
      "[2021-06-07 03:03:27,056][fairseq.trainer][INFO] - begin training epoch 5007\r\n",
      "[2021-06-07 03:03:27,058][fairseq_cli.train][INFO] - Start iterating over samples\r\n"
     ]
    },
    {
     "name": "stdout",
     "output_type": "stream",
     "text": [
      "[2021-06-07 03:04:29,182][train_inner][INFO] - {\"epoch\": 5007, \"update\": 5006.25, \"loss\": \"3.203\", \"ntokens\": \"146.26\", \"nsentences\": \"146.26\", \"temp\": \"0.1\", \"code_ppl\": \"8.659\", \"loss_code_pen\": \"0.328\", \"loss_smoothness\": \"2.051\", \"loss_dense_g\": \"4.104\", \"lm_score_sum\": 0.0, \"num_pred_chars\": 0.0, \"loss_grad_pen\": \"0.08\", \"loss_dense_d\": \"0.027\", \"loss_token_d\": \"0.026\", \"wps\": \"10.1\", \"ups\": \"0.07\", \"wpb\": \"146.3\", \"bsz\": \"146.3\", \"num_updates\": \"80100\", \"lr_discriminator\": \"0.0005\", \"lr_generator\": \"0.0004\", \"gnorm\": \"29.209\", \"clip\": \"69\", \"train_wall\": \"1420\", \"wall\": \"20182\"}\r\n"
     ]
    },
    {
     "name": "stdout",
     "output_type": "stream",
     "text": [
      "[2021-06-07 03:06:51,693][fairseq_cli.train][INFO] - begin validation on \"valid\" subset\r\n"
     ]
    },
    {
     "name": "stdout",
     "output_type": "stream",
     "text": [
      "[2021-06-07 03:06:54,185][fairseq.tasks.unpaired_audio_text][INFO] - REF: ɛ n f œ ʂ ə n a d ɵ ʂ ə k t f øː r d eː t s ɔ m h ɛ n d ə p oː ɕ œ r k ɔ n s ɛ t ə n\r\n",
      "[2021-06-07 03:06:54,187][fairseq.tasks.unpaired_audio_text][INFO] - HYP: n ɛ s j œ r œ yː b j uː œ yː k uː ɵ øː j b n ə m œ k ə uː s eː r n v oː s l ɪ ŋ k l ɪ l s ɔ m k n ə n\r\n",
      "[2021-06-07 03:06:54,192][fairseq.tasks.unpaired_audio_text][INFO] - LM [REF]: -53.44462585449219, 0.05339602260269112\r\n",
      "[2021-06-07 03:06:54,192][fairseq.tasks.unpaired_audio_text][INFO] - LM [HYP]: -86.9892807006836, 0.015407185759047003\r\n"
     ]
    },
    {
     "name": "stdout",
     "output_type": "stream",
     "text": [
      "[2021-06-07 03:06:54,707][valid][INFO] - {\"epoch\": 5007, \"valid_loss\": \"1.006\", \"valid_ntokens\": \"3039.79\", \"valid_nsentences\": \"144.214\", \"valid_lm_score_sum\": \"-89974.3\", \"valid_num_pred_chars\": \"48720\", \"valid_vocab_seen_pct\": \"0.89547\", \"valid_uer\": \"100.639\", \"valid_weighted_lm_ppl\": \"73.9904\", \"valid_lm_ppl\": \"59.3305\", \"valid_wps\": \"18375.8\", \"valid_wpb\": \"3039.8\", \"valid_bsz\": \"144.2\", \"valid_num_updates\": \"80112\", \"valid_best_weighted_lm_ppl\": \"73.0296\"}\r\n",
      "[2021-06-07 03:06:54,710][fairseq.checkpoint_utils][INFO] - Preparing to save checkpoint for epoch 5007 @ 80112 updates\r\n",
      "[2021-06-07 03:06:54,711][fairseq.trainer][INFO] - Saving checkpoint to /kaggle/working/checkpoint_last.pt\r\n"
     ]
    },
    {
     "name": "stdout",
     "output_type": "stream",
     "text": [
      "[2021-06-07 03:06:54,760][fairseq.trainer][INFO] - Finished saving checkpoint to /kaggle/working/checkpoint_last.pt\r\n",
      "[2021-06-07 03:06:54,760][fairseq.checkpoint_utils][INFO] - Saved checkpoint /kaggle/working/checkpoint_last.pt (epoch 5007 @ 80112 updates, score 73.99037474547555) (writing took 0.050152496001828695 seconds)\r\n",
      "[2021-06-07 03:06:54,761][fairseq_cli.train][INFO] - end of epoch 5007 (average epoch stats below)\r\n"
     ]
    },
    {
     "name": "stdout",
     "output_type": "stream",
     "text": [
      "[2021-06-07 03:06:54,764][train][INFO] - {\"epoch\": 5007, \"train_loss\": \"3.695\", \"train_ntokens\": \"145.688\", \"train_nsentences\": \"145.688\", \"train_temp\": \"0.1\", \"train_code_ppl\": \"8.716\", \"train_loss_code_pen\": \"0.336\", \"train_loss_smoothness\": \"2.092\", \"train_loss_dense_g\": \"4.155\", \"train_lm_score_sum\": 0.0, \"train_num_pred_chars\": 0.0, \"train_loss_grad_pen\": \"0.127\", \"train_loss_dense_d\": \"0.022\", \"train_loss_token_d\": \"0.029\", \"train_wps\": \"11.2\", \"train_ups\": \"0.08\", \"train_wpb\": \"145.7\", \"train_bsz\": \"145.7\", \"train_num_updates\": \"80112\", \"train_lr_discriminator\": \"0.0005\", \"train_lr_generator\": \"0.0004\", \"train_gnorm\": \"31.775\", \"train_clip\": \"81.2\", \"train_train_wall\": \"204\", \"train_wall\": \"20327\"}\r\n"
     ]
    },
    {
     "name": "stdout",
     "output_type": "stream",
     "text": [
      "[2021-06-07 03:06:54,823][fairseq.trainer][INFO] - begin training epoch 5008\r\n",
      "[2021-06-07 03:06:54,824][fairseq_cli.train][INFO] - Start iterating over samples\r\n"
     ]
    },
    {
     "name": "stdout",
     "output_type": "stream",
     "text": [
      "[2021-06-07 03:10:32,799][fairseq_cli.train][INFO] - begin validation on \"valid\" subset\r\n"
     ]
    },
    {
     "name": "stdout",
     "output_type": "stream",
     "text": [
      "[2021-06-07 03:10:35,442][fairseq.tasks.unpaired_audio_text][INFO] - REF: ɛ n f œ ʂ ə n a d ɵ ʂ ə k t f øː r d eː t s ɔ m h ɛ n d ə p oː ɕ œ r k ɔ n s ɛ t ə n\r\n",
      "[2021-06-07 03:10:35,444][fairseq.tasks.unpaired_audio_text][INFO] - HYP: n ɛ s j œ r œ yː b j uː œ yː k uː ɵ øː j b n ə m œ k ə uː s eː r n v oː n l ɪ ŋ k l ɪ l s ɔ m k n t a\r\n",
      "[2021-06-07 03:10:35,449][fairseq.tasks.unpaired_audio_text][INFO] - LM [REF]: -53.44462585449219, 0.05339602260269112\r\n",
      "[2021-06-07 03:10:35,449][fairseq.tasks.unpaired_audio_text][INFO] - LM [HYP]: -88.38176727294922, 0.01441163259400061\r\n"
     ]
    },
    {
     "name": "stdout",
     "output_type": "stream",
     "text": [
      "[2021-06-07 03:10:35,977][valid][INFO] - {\"epoch\": 5008, \"valid_loss\": \"1.002\", \"valid_ntokens\": \"3039.79\", \"valid_nsentences\": \"144.214\", \"valid_lm_score_sum\": \"-89568.5\", \"valid_num_pred_chars\": \"48419\", \"valid_vocab_seen_pct\": \"0.897213\", \"valid_uer\": \"100.228\", \"valid_weighted_lm_ppl\": \"74.1351\", \"valid_lm_ppl\": \"59.678\", \"valid_wps\": \"17272.5\", \"valid_wpb\": \"3039.8\", \"valid_bsz\": \"144.2\", \"valid_num_updates\": \"80128\", \"valid_best_weighted_lm_ppl\": \"73.0296\"}\r\n",
      "[2021-06-07 03:10:35,980][fairseq.checkpoint_utils][INFO] - Preparing to save checkpoint for epoch 5008 @ 80128 updates\r\n",
      "[2021-06-07 03:10:35,982][fairseq.trainer][INFO] - Saving checkpoint to /kaggle/working/checkpoint_last.pt\r\n"
     ]
    },
    {
     "name": "stdout",
     "output_type": "stream",
     "text": [
      "[2021-06-07 03:10:36,031][fairseq.trainer][INFO] - Finished saving checkpoint to /kaggle/working/checkpoint_last.pt\r\n",
      "[2021-06-07 03:10:36,031][fairseq.checkpoint_utils][INFO] - Saved checkpoint /kaggle/working/checkpoint_last.pt (epoch 5008 @ 80128 updates, score 74.1350500156205) (writing took 0.050766870997904334 seconds)\r\n",
      "[2021-06-07 03:10:36,032][fairseq_cli.train][INFO] - end of epoch 5008 (average epoch stats below)\r\n",
      "[2021-06-07 03:10:36,035][train][INFO] - {\"epoch\": 5008, \"train_loss\": \"3.253\", \"train_ntokens\": \"145.688\", \"train_nsentences\": \"145.688\", \"train_temp\": \"0.1\", \"train_code_ppl\": \"8.709\", \"train_loss_code_pen\": \"0.307\", \"train_loss_smoothness\": \"1.982\", \"train_loss_dense_g\": \"3.838\", \"train_lm_score_sum\": 0.0, \"train_num_pred_chars\": 0.0, \"train_loss_grad_pen\": \"0.1\", \"train_loss_dense_d\": \"0.032\", \"train_loss_token_d\": \"0.031\", \"train_wps\": \"10.5\", \"train_ups\": \"0.07\", \"train_wpb\": \"145.7\", \"train_bsz\": \"145.7\", \"train_num_updates\": \"80128\", \"train_lr_discriminator\": \"0.0005\", \"train_lr_generator\": \"0.0004\", \"train_gnorm\": \"30.165\", \"train_clip\": \"93.8\", \"train_train_wall\": \"217\", \"train_wall\": \"20548\"}\r\n"
     ]
    },
    {
     "name": "stdout",
     "output_type": "stream",
     "text": [
      "[2021-06-07 03:10:36,099][fairseq.trainer][INFO] - begin training epoch 5009\r\n",
      "[2021-06-07 03:10:36,101][fairseq_cli.train][INFO] - Start iterating over samples\r\n"
     ]
    },
    {
     "name": "stdout",
     "output_type": "stream",
     "text": [
      "[2021-06-07 03:14:23,013][fairseq_cli.train][INFO] - begin validation on \"valid\" subset\r\n"
     ]
    },
    {
     "name": "stdout",
     "output_type": "stream",
     "text": [
      "[2021-06-07 03:14:25,512][fairseq.tasks.unpaired_audio_text][INFO] - REF: ɛ n f œ ʂ ə n a d ɵ ʂ ə k t f øː r d eː t s ɔ m h ɛ n d ə p oː ɕ œ r k ɔ n s ɛ t ə n\r\n",
      "[2021-06-07 03:14:25,514][fairseq.tasks.unpaired_audio_text][INFO] - HYP: n ɵ ɛ s j œ r œ yː b j uː œ yː k uː ɵ øː j n ə m œ k ə uː s eː r n v oː n ɪ ŋ k l ɪ l s m k n ə n\r\n",
      "[2021-06-07 03:14:25,518][fairseq.tasks.unpaired_audio_text][INFO] - LM [REF]: -53.44462585449219, 0.05339602260269112\r\n",
      "[2021-06-07 03:14:25,519][fairseq.tasks.unpaired_audio_text][INFO] - LM [HYP]: -84.81434631347656, 0.014328801381484136\r\n"
     ]
    },
    {
     "name": "stdout",
     "output_type": "stream",
     "text": [
      "[2021-06-07 03:14:26,046][valid][INFO] - {\"epoch\": 5009, \"valid_loss\": \"1.005\", \"valid_ntokens\": \"3039.79\", \"valid_nsentences\": \"144.214\", \"valid_lm_score_sum\": \"-89863.1\", \"valid_num_pred_chars\": \"48592\", \"valid_vocab_seen_pct\": \"0.89547\", \"valid_uer\": \"100.498\", \"valid_weighted_lm_ppl\": \"74.381\", \"valid_lm_ppl\": \"59.6437\", \"valid_wps\": \"18258.3\", \"valid_wpb\": \"3039.8\", \"valid_bsz\": \"144.2\", \"valid_num_updates\": \"80144\", \"valid_best_weighted_lm_ppl\": \"73.0296\"}\r\n"
     ]
    },
    {
     "name": "stdout",
     "output_type": "stream",
     "text": [
      "[2021-06-07 03:14:26,049][fairseq.checkpoint_utils][INFO] - Preparing to save checkpoint for epoch 5009 @ 80144 updates\r\n",
      "[2021-06-07 03:14:26,050][fairseq.trainer][INFO] - Saving checkpoint to /kaggle/working/checkpoint_last.pt\r\n"
     ]
    },
    {
     "name": "stdout",
     "output_type": "stream",
     "text": [
      "[2021-06-07 03:14:26,098][fairseq.trainer][INFO] - Finished saving checkpoint to /kaggle/working/checkpoint_last.pt\r\n",
      "[2021-06-07 03:14:26,099][fairseq.checkpoint_utils][INFO] - Saved checkpoint /kaggle/working/checkpoint_last.pt (epoch 5009 @ 80144 updates, score 74.38098630500227) (writing took 0.04973887400046806 seconds)\r\n",
      "[2021-06-07 03:14:26,099][fairseq_cli.train][INFO] - end of epoch 5009 (average epoch stats below)\r\n",
      "[2021-06-07 03:14:26,104][train][INFO] - {\"epoch\": 5009, \"train_loss\": \"2.988\", \"train_ntokens\": \"145.688\", \"train_nsentences\": \"145.688\", \"train_temp\": \"0.1\", \"train_code_ppl\": \"8.777\", \"train_loss_code_pen\": \"0.302\", \"train_loss_smoothness\": \"1.998\", \"train_loss_dense_g\": \"3.78\", \"train_lm_score_sum\": 0.0, \"train_num_pred_chars\": 0.0, \"train_loss_grad_pen\": \"0.061\", \"train_loss_dense_d\": \"0.028\", \"train_loss_token_d\": \"0.025\", \"train_wps\": \"10.1\", \"train_ups\": \"0.07\", \"train_wpb\": \"145.7\", \"train_bsz\": \"145.7\", \"train_num_updates\": \"80144\", \"train_lr_discriminator\": \"0.0005\", \"train_lr_generator\": \"0.0004\", \"train_gnorm\": \"28.495\", \"train_clip\": \"68.8\", \"train_train_wall\": \"226\", \"train_wall\": \"20778\"}\r\n"
     ]
    },
    {
     "name": "stdout",
     "output_type": "stream",
     "text": [
      "[2021-06-07 03:14:26,163][fairseq.trainer][INFO] - begin training epoch 5010\r\n",
      "[2021-06-07 03:14:26,165][fairseq_cli.train][INFO] - Start iterating over samples\r\n"
     ]
    },
    {
     "name": "stdout",
     "output_type": "stream",
     "text": [
      "[2021-06-07 03:18:05,603][fairseq_cli.train][INFO] - begin validation on \"valid\" subset\r\n"
     ]
    },
    {
     "name": "stdout",
     "output_type": "stream",
     "text": [
      "[2021-06-07 03:18:08,123][fairseq.tasks.unpaired_audio_text][INFO] - REF: ɛ n f œ ʂ ə n a d ɵ ʂ ə k t f øː r d eː t s ɔ m h ɛ n d ə p oː ɕ œ r k ɔ n s ɛ t ə n\r\n",
      "[2021-06-07 03:18:08,127][fairseq.tasks.unpaired_audio_text][INFO] - HYP: n ɛ s j œ r œ yː b j uː œ yː k uː ɵ v j n ə m œ k ə uː s eː r n v oː n ɪ ŋ k l ɪ l s œ k m k n t n\r\n",
      "[2021-06-07 03:18:08,133][fairseq.tasks.unpaired_audio_text][INFO] - LM [REF]: -53.44462585449219, 0.05339602260269112\r\n",
      "[2021-06-07 03:18:08,134][fairseq.tasks.unpaired_audio_text][INFO] - LM [HYP]: -87.52032470703125, 0.01373616287449804\r\n"
     ]
    },
    {
     "name": "stdout",
     "output_type": "stream",
     "text": [
      "[2021-06-07 03:18:08,670][valid][INFO] - {\"epoch\": 5010, \"valid_loss\": \"1.005\", \"valid_ntokens\": \"3039.79\", \"valid_nsentences\": \"144.214\", \"valid_lm_score_sum\": \"-89904.6\", \"valid_num_pred_chars\": \"48595\", \"valid_vocab_seen_pct\": \"0.898955\", \"valid_uer\": \"100.526\", \"valid_weighted_lm_ppl\": \"73.9271\", \"valid_lm_ppl\": \"59.7419\", \"valid_wps\": \"17884.5\", \"valid_wpb\": \"3039.8\", \"valid_bsz\": \"144.2\", \"valid_num_updates\": \"80160\", \"valid_best_weighted_lm_ppl\": \"73.0296\"}\r\n",
      "[2021-06-07 03:18:08,673][fairseq.checkpoint_utils][INFO] - Preparing to save checkpoint for epoch 5010 @ 80160 updates\r\n",
      "[2021-06-07 03:18:08,674][fairseq.trainer][INFO] - Saving checkpoint to /kaggle/working/checkpoint_last.pt\r\n"
     ]
    },
    {
     "name": "stdout",
     "output_type": "stream",
     "text": [
      "[2021-06-07 03:18:08,721][fairseq.trainer][INFO] - Finished saving checkpoint to /kaggle/working/checkpoint_last.pt\r\n",
      "[2021-06-07 03:18:08,721][fairseq.checkpoint_utils][INFO] - Saved checkpoint /kaggle/working/checkpoint_last.pt (epoch 5010 @ 80160 updates, score 73.92710432233693) (writing took 0.04818125699966913 seconds)\r\n",
      "[2021-06-07 03:18:08,722][fairseq_cli.train][INFO] - end of epoch 5010 (average epoch stats below)\r\n",
      "[2021-06-07 03:18:08,726][train][INFO] - {\"epoch\": 5010, \"train_loss\": \"3.256\", \"train_ntokens\": \"145.688\", \"train_nsentences\": \"145.688\", \"train_temp\": \"0.1\", \"train_code_ppl\": \"8.714\", \"train_loss_code_pen\": \"0.317\", \"train_loss_smoothness\": \"2.023\", \"train_loss_dense_g\": \"4.292\", \"train_lm_score_sum\": 0.0, \"train_num_pred_chars\": 0.0, \"train_loss_grad_pen\": \"0.062\", \"train_loss_dense_d\": \"0.027\", \"train_loss_token_d\": \"0.029\", \"train_wps\": \"10.5\", \"train_ups\": \"0.07\", \"train_wpb\": \"145.7\", \"train_bsz\": \"145.7\", \"train_num_updates\": \"80160\", \"train_lr_discriminator\": \"0.0005\", \"train_lr_generator\": \"0.0004\", \"train_gnorm\": \"28.146\", \"train_clip\": \"56.2\", \"train_train_wall\": \"219\", \"train_wall\": \"21001\"}\r\n"
     ]
    },
    {
     "name": "stdout",
     "output_type": "stream",
     "text": [
      "[2021-06-07 03:18:08,785][fairseq.trainer][INFO] - begin training epoch 5011\r\n",
      "[2021-06-07 03:18:08,786][fairseq_cli.train][INFO] - Start iterating over samples\r\n"
     ]
    },
    {
     "name": "stdout",
     "output_type": "stream",
     "text": [
      "[2021-06-07 03:21:29,450][fairseq_cli.train][INFO] - begin validation on \"valid\" subset\r\n"
     ]
    },
    {
     "name": "stdout",
     "output_type": "stream",
     "text": [
      "[2021-06-07 03:21:31,957][fairseq.tasks.unpaired_audio_text][INFO] - REF: ɛ n f œ ʂ ə n a d ɵ ʂ ə k t f øː r d eː t s ɔ m h ɛ n d ə p oː ɕ œ r k ɔ n s ɛ t ə n\r\n",
      "[2021-06-07 03:21:31,959][fairseq.tasks.unpaired_audio_text][INFO] - HYP: n ɛ s j œ r œ yː b j uː œ yː k uː ɵ øː j n ə m œ k ə uː s eː r n v oː n ɪ ŋ k l ɪ l s ɔ k m k n\r\n",
      "[2021-06-07 03:21:31,964][fairseq.tasks.unpaired_audio_text][INFO] - LM [REF]: -53.44462585449219, 0.05339602260269112\r\n",
      "[2021-06-07 03:21:31,964][fairseq.tasks.unpaired_audio_text][INFO] - LM [HYP]: -81.97274780273438, 0.015079376409911157\r\n"
     ]
    },
    {
     "name": "stdout",
     "output_type": "stream",
     "text": [
      "[2021-06-07 03:21:32,492][valid][INFO] - {\"epoch\": 5011, \"valid_loss\": \"1.004\", \"valid_ntokens\": \"3039.79\", \"valid_nsentences\": \"144.214\", \"valid_lm_score_sum\": \"-89920.3\", \"valid_num_pred_chars\": \"48548\", \"valid_vocab_seen_pct\": \"0.898955\", \"valid_uer\": \"100.423\", \"valid_weighted_lm_ppl\": \"74.2619\", \"valid_lm_ppl\": \"60.0125\", \"valid_wps\": \"18088.4\", \"valid_wpb\": \"3039.8\", \"valid_bsz\": \"144.2\", \"valid_num_updates\": \"80176\", \"valid_best_weighted_lm_ppl\": \"73.0296\"}\r\n",
      "[2021-06-07 03:21:32,496][fairseq.checkpoint_utils][INFO] - Preparing to save checkpoint for epoch 5011 @ 80176 updates\r\n",
      "[2021-06-07 03:21:32,497][fairseq.trainer][INFO] - Saving checkpoint to /kaggle/working/checkpoint_last.pt\r\n"
     ]
    },
    {
     "name": "stdout",
     "output_type": "stream",
     "text": [
      "[2021-06-07 03:21:32,544][fairseq.trainer][INFO] - Finished saving checkpoint to /kaggle/working/checkpoint_last.pt\r\n",
      "[2021-06-07 03:21:32,544][fairseq.checkpoint_utils][INFO] - Saved checkpoint /kaggle/working/checkpoint_last.pt (epoch 5011 @ 80176 updates, score 74.26190082146108) (writing took 0.04884555299940985 seconds)\r\n",
      "[2021-06-07 03:21:32,545][fairseq_cli.train][INFO] - end of epoch 5011 (average epoch stats below)\r\n",
      "[2021-06-07 03:21:32,548][train][INFO] - {\"epoch\": 5011, \"train_loss\": \"3.626\", \"train_ntokens\": \"145.688\", \"train_nsentences\": \"145.688\", \"train_temp\": \"0.1\", \"train_code_ppl\": \"8.566\", \"train_loss_code_pen\": \"0.322\", \"train_loss_smoothness\": \"2.074\", \"train_loss_dense_g\": \"4.03\", \"train_lm_score_sum\": 0.0, \"train_num_pred_chars\": 0.0, \"train_loss_grad_pen\": \"0.151\", \"train_loss_dense_d\": \"0.028\", \"train_loss_token_d\": \"0.038\", \"train_wps\": \"11.4\", \"train_ups\": \"0.08\", \"train_wpb\": \"145.7\", \"train_bsz\": \"145.7\", \"train_num_updates\": \"80176\", \"train_lr_discriminator\": \"0.0005\", \"train_lr_generator\": \"0.0004\", \"train_gnorm\": \"34.039\", \"train_clip\": \"87.5\", \"train_train_wall\": \"200\", \"train_wall\": \"21205\"}\r\n"
     ]
    },
    {
     "name": "stdout",
     "output_type": "stream",
     "text": [
      "[2021-06-07 03:21:32,607][fairseq.trainer][INFO] - begin training epoch 5012\r\n",
      "[2021-06-07 03:21:32,608][fairseq_cli.train][INFO] - Start iterating over samples\r\n"
     ]
    },
    {
     "name": "stdout",
     "output_type": "stream",
     "text": [
      "[2021-06-07 03:25:20,923][fairseq_cli.train][INFO] - begin validation on \"valid\" subset\r\n"
     ]
    },
    {
     "name": "stdout",
     "output_type": "stream",
     "text": [
      "[2021-06-07 03:25:23,460][fairseq.tasks.unpaired_audio_text][INFO] - REF: ɛ n f œ ʂ ə n a d ɵ ʂ ə k t f øː r d eː t s ɔ m h ɛ n d ə p oː ɕ œ r k ɔ n s ɛ t ə n\r\n",
      "[2021-06-07 03:25:23,463][fairseq.tasks.unpaired_audio_text][INFO] - HYP: n ɡ ɛ s j œ r œ yː b j uː œ yː k uː ɵ øː j n ə m œ k ə uː s eː r n v oː s ɪ ŋ k l ɪ l s œ k m k n t n\r\n",
      "[2021-06-07 03:25:23,467][fairseq.tasks.unpaired_audio_text][INFO] - LM [REF]: -53.44462585449219, 0.05339602260269112\r\n",
      "[2021-06-07 03:25:23,467][fairseq.tasks.unpaired_audio_text][INFO] - LM [HYP]: -91.38304138183594, 0.01247919692007873\r\n"
     ]
    },
    {
     "name": "stdout",
     "output_type": "stream",
     "text": [
      "[2021-06-07 03:25:23,987][valid][INFO] - {\"epoch\": 5012, \"valid_loss\": \"1.003\", \"valid_ntokens\": \"3039.79\", \"valid_nsentences\": \"144.214\", \"valid_lm_score_sum\": \"-89849.7\", \"valid_num_pred_chars\": \"48542\", \"valid_vocab_seen_pct\": \"0.900697\", \"valid_uer\": \"100.301\", \"valid_weighted_lm_ppl\": \"73.7732\", \"valid_lm_ppl\": \"59.8489\", \"valid_wps\": \"17978.7\", \"valid_wpb\": \"3039.8\", \"valid_bsz\": \"144.2\", \"valid_num_updates\": \"80192\", \"valid_best_weighted_lm_ppl\": \"73.0296\"}\r\n",
      "[2021-06-07 03:25:23,990][fairseq.checkpoint_utils][INFO] - Preparing to save checkpoint for epoch 5012 @ 80192 updates\r\n",
      "[2021-06-07 03:25:23,991][fairseq.trainer][INFO] - Saving checkpoint to /kaggle/working/checkpoint_last.pt\r\n"
     ]
    },
    {
     "name": "stdout",
     "output_type": "stream",
     "text": [
      "[2021-06-07 03:25:24,038][fairseq.trainer][INFO] - Finished saving checkpoint to /kaggle/working/checkpoint_last.pt\r\n",
      "[2021-06-07 03:25:24,038][fairseq.checkpoint_utils][INFO] - Saved checkpoint /kaggle/working/checkpoint_last.pt (epoch 5012 @ 80192 updates, score 73.77321023705308) (writing took 0.0485411080007907 seconds)\r\n",
      "[2021-06-07 03:25:24,039][fairseq_cli.train][INFO] - end of epoch 5012 (average epoch stats below)\r\n",
      "[2021-06-07 03:25:24,042][train][INFO] - {\"epoch\": 5012, \"train_loss\": \"2.965\", \"train_ntokens\": \"145.688\", \"train_nsentences\": \"145.688\", \"train_temp\": \"0.1\", \"train_code_ppl\": \"8.81\", \"train_loss_code_pen\": \"0.311\", \"train_loss_smoothness\": \"2.003\", \"train_loss_dense_g\": \"4.097\", \"train_lm_score_sum\": 0.0, \"train_num_pred_chars\": 0.0, \"train_loss_grad_pen\": \"0.079\", \"train_loss_dense_d\": \"0.028\", \"train_loss_token_d\": \"0.028\", \"train_wps\": \"10.1\", \"train_ups\": \"0.07\", \"train_wpb\": \"145.7\", \"train_bsz\": \"145.7\", \"train_num_updates\": \"80192\", \"train_lr_discriminator\": \"0.0005\", \"train_lr_generator\": \"0.0004\", \"train_gnorm\": \"28.794\", \"train_clip\": \"68.8\", \"train_train_wall\": \"228\", \"train_wall\": \"21436\"}\r\n"
     ]
    },
    {
     "name": "stdout",
     "output_type": "stream",
     "text": [
      "[2021-06-07 03:25:24,100][fairseq.trainer][INFO] - begin training epoch 5013\r\n",
      "[2021-06-07 03:25:24,102][fairseq_cli.train][INFO] - Start iterating over samples\r\n"
     ]
    },
    {
     "name": "stdout",
     "output_type": "stream",
     "text": [
      "[2021-06-07 03:26:57,990][train_inner][INFO] - {\"epoch\": 5013, \"update\": 5012.5, \"loss\": \"3.31\", \"ntokens\": \"143.97\", \"nsentences\": \"143.97\", \"temp\": \"0.1\", \"code_ppl\": \"8.723\", \"loss_code_pen\": \"0.317\", \"loss_smoothness\": \"2.027\", \"loss_dense_g\": \"4.023\", \"lm_score_sum\": 0.0, \"num_pred_chars\": 0.0, \"loss_grad_pen\": \"0.098\", \"loss_dense_d\": \"0.028\", \"loss_token_d\": \"0.029\", \"wps\": \"10.7\", \"ups\": \"0.07\", \"wpb\": \"144\", \"bsz\": \"144\", \"num_updates\": \"80200\", \"lr_discriminator\": \"0.0005\", \"lr_generator\": \"0.0004\", \"gnorm\": \"30.78\", \"clip\": \"76\", \"train_wall\": \"1327\", \"wall\": \"21530\"}\r\n"
     ]
    },
    {
     "name": "stdout",
     "output_type": "stream",
     "text": [
      "[2021-06-07 03:28:58,240][fairseq_cli.train][INFO] - begin validation on \"valid\" subset\r\n"
     ]
    },
    {
     "name": "stdout",
     "output_type": "stream",
     "text": [
      "[2021-06-07 03:29:01,123][fairseq.tasks.unpaired_audio_text][INFO] - REF: ɛ n f œ ʂ ə n a d ɵ ʂ ə k t f øː r d eː t s ɔ m h ɛ n d ə p oː ɕ œ r k ɔ n s ɛ t ə n\r\n",
      "[2021-06-07 03:29:01,126][fairseq.tasks.unpaired_audio_text][INFO] - HYP: n ɡ ɛ s j œ r œ yː b j uː œ yː k uː ɵ øː j n ə m œ k ə uː s eː r n v oː n ɪ ŋ k l ɪ l s m k n t n\r\n"
     ]
    },
    {
     "name": "stdout",
     "output_type": "stream",
     "text": [
      "[2021-06-07 03:29:01,130][fairseq.tasks.unpaired_audio_text][INFO] - LM [REF]: -53.44462585449219, 0.05339602260269112\r\n",
      "[2021-06-07 03:29:01,130][fairseq.tasks.unpaired_audio_text][INFO] - LM [HYP]: -85.65026092529297, 0.013741615925889458\r\n"
     ]
    },
    {
     "name": "stdout",
     "output_type": "stream",
     "text": [
      "[2021-06-07 03:29:01,648][valid][INFO] - {\"epoch\": 5013, \"valid_loss\": \"1.003\", \"valid_ntokens\": \"3039.79\", \"valid_nsentences\": \"144.214\", \"valid_lm_score_sum\": \"-89743.2\", \"valid_num_pred_chars\": \"48496\", \"valid_vocab_seen_pct\": \"0.89547\", \"valid_uer\": \"100.254\", \"valid_weighted_lm_ppl\": \"74.5526\", \"valid_lm_ppl\": \"59.7813\", \"valid_wps\": \"17152.4\", \"valid_wpb\": \"3039.8\", \"valid_bsz\": \"144.2\", \"valid_num_updates\": \"80208\", \"valid_best_weighted_lm_ppl\": \"73.0296\"}\r\n",
      "[2021-06-07 03:29:01,651][fairseq.checkpoint_utils][INFO] - Preparing to save checkpoint for epoch 5013 @ 80208 updates\r\n",
      "[2021-06-07 03:29:01,652][fairseq.trainer][INFO] - Saving checkpoint to /kaggle/working/checkpoint_last.pt\r\n"
     ]
    },
    {
     "name": "stdout",
     "output_type": "stream",
     "text": [
      "[2021-06-07 03:29:01,699][fairseq.trainer][INFO] - Finished saving checkpoint to /kaggle/working/checkpoint_last.pt\r\n",
      "[2021-06-07 03:29:01,700][fairseq.checkpoint_utils][INFO] - Saved checkpoint /kaggle/working/checkpoint_last.pt (epoch 5013 @ 80208 updates, score 74.55263823303719) (writing took 0.04875469899707241 seconds)\r\n",
      "[2021-06-07 03:29:01,700][fairseq_cli.train][INFO] - end of epoch 5013 (average epoch stats below)\r\n",
      "[2021-06-07 03:29:01,704][train][INFO] - {\"epoch\": 5013, \"train_loss\": \"3.45\", \"train_ntokens\": \"145.688\", \"train_nsentences\": \"145.688\", \"train_temp\": \"0.1\", \"train_code_ppl\": \"8.609\", \"train_loss_code_pen\": \"0.31\", \"train_loss_smoothness\": \"1.98\", \"train_loss_dense_g\": \"4.203\", \"train_lm_score_sum\": 0.0, \"train_num_pred_chars\": 0.0, \"train_loss_grad_pen\": \"0.097\", \"train_loss_dense_d\": \"0.033\", \"train_loss_token_d\": \"0.046\", \"train_wps\": \"10.7\", \"train_ups\": \"0.07\", \"train_wpb\": \"145.7\", \"train_bsz\": \"145.7\", \"train_num_updates\": \"80208\", \"train_lr_discriminator\": \"0.0005\", \"train_lr_generator\": \"0.0004\", \"train_gnorm\": \"32.636\", \"train_clip\": \"75\", \"train_train_wall\": \"214\", \"train_wall\": \"21654\"}\r\n"
     ]
    },
    {
     "name": "stdout",
     "output_type": "stream",
     "text": [
      "[2021-06-07 03:29:01,765][fairseq.trainer][INFO] - begin training epoch 5014\r\n",
      "[2021-06-07 03:29:01,767][fairseq_cli.train][INFO] - Start iterating over samples\r\n"
     ]
    },
    {
     "name": "stdout",
     "output_type": "stream",
     "text": [
      "[2021-06-07 03:32:30,882][fairseq_cli.train][INFO] - begin validation on \"valid\" subset\r\n"
     ]
    },
    {
     "name": "stdout",
     "output_type": "stream",
     "text": [
      "[2021-06-07 03:32:33,373][fairseq.tasks.unpaired_audio_text][INFO] - REF: ɛ n f œ ʂ ə n a d ɵ ʂ ə k t f øː r d eː t s ɔ m h ɛ n d ə p oː ɕ œ r k ɔ n s ɛ t ə n\r\n",
      "[2021-06-07 03:32:33,375][fairseq.tasks.unpaired_audio_text][INFO] - HYP: n ɡ ɛ s j œ r œ yː b j uː œ yː k uː ɵ øː n ə m œ k ə uː s eː r n v oː n ɪ ŋ k l ɪ l s m k n\r\n",
      "[2021-06-07 03:32:33,379][fairseq.tasks.unpaired_audio_text][INFO] - LM [REF]: -53.44462585449219, 0.05339602260269112\r\n",
      "[2021-06-07 03:32:33,379][fairseq.tasks.unpaired_audio_text][INFO] - LM [HYP]: -79.841796875, 0.013906377873808136\r\n"
     ]
    },
    {
     "name": "stdout",
     "output_type": "stream",
     "text": [
      "[2021-06-07 03:32:33,893][valid][INFO] - {\"epoch\": 5014, \"valid_loss\": \"1.003\", \"valid_ntokens\": \"3039.79\", \"valid_nsentences\": \"144.214\", \"valid_lm_score_sum\": \"-89783.1\", \"valid_num_pred_chars\": \"48504\", \"valid_vocab_seen_pct\": \"0.893728\", \"valid_uer\": \"100.32\", \"valid_weighted_lm_ppl\": \"74.9312\", \"valid_lm_ppl\": \"59.8513\", \"valid_wps\": \"18382.2\", \"valid_wpb\": \"3039.8\", \"valid_bsz\": \"144.2\", \"valid_num_updates\": \"80224\", \"valid_best_weighted_lm_ppl\": \"73.0296\"}\r\n",
      "[2021-06-07 03:32:33,896][fairseq.checkpoint_utils][INFO] - Preparing to save checkpoint for epoch 5014 @ 80224 updates\r\n",
      "[2021-06-07 03:32:33,898][fairseq.trainer][INFO] - Saving checkpoint to /kaggle/working/checkpoint_last.pt\r\n"
     ]
    },
    {
     "name": "stdout",
     "output_type": "stream",
     "text": [
      "[2021-06-07 03:32:33,948][fairseq.trainer][INFO] - Finished saving checkpoint to /kaggle/working/checkpoint_last.pt\r\n",
      "[2021-06-07 03:32:33,948][fairseq.checkpoint_utils][INFO] - Saved checkpoint /kaggle/working/checkpoint_last.pt (epoch 5014 @ 80224 updates, score 74.93118193319737) (writing took 0.05175128399787354 seconds)\r\n",
      "[2021-06-07 03:32:33,949][fairseq_cli.train][INFO] - end of epoch 5014 (average epoch stats below)\r\n",
      "[2021-06-07 03:32:33,952][train][INFO] - {\"epoch\": 5014, \"train_loss\": \"3.276\", \"train_ntokens\": \"145.688\", \"train_nsentences\": \"145.688\", \"train_temp\": \"0.1\", \"train_code_ppl\": \"8.798\", \"train_loss_code_pen\": \"0.332\", \"train_loss_smoothness\": \"2.05\", \"train_loss_dense_g\": \"3.783\", \"train_lm_score_sum\": 0.0, \"train_num_pred_chars\": 0.0, \"train_loss_grad_pen\": \"0.107\", \"train_loss_dense_d\": \"0.034\", \"train_loss_token_d\": \"0.028\", \"train_wps\": \"11\", \"train_ups\": \"0.08\", \"train_wpb\": \"145.7\", \"train_bsz\": \"145.7\", \"train_num_updates\": \"80224\", \"train_lr_discriminator\": \"0.0005\", \"train_lr_generator\": \"0.0004\", \"train_gnorm\": \"29.887\", \"train_clip\": \"75\", \"train_train_wall\": \"209\", \"train_wall\": \"21866\"}\r\n"
     ]
    },
    {
     "name": "stdout",
     "output_type": "stream",
     "text": [
      "[2021-06-07 03:32:34,014][fairseq.trainer][INFO] - begin training epoch 5015\r\n",
      "[2021-06-07 03:32:34,016][fairseq_cli.train][INFO] - Start iterating over samples\r\n"
     ]
    },
    {
     "name": "stdout",
     "output_type": "stream",
     "text": [
      "[2021-06-07 03:36:23,242][fairseq_cli.train][INFO] - begin validation on \"valid\" subset\r\n"
     ]
    },
    {
     "name": "stdout",
     "output_type": "stream",
     "text": [
      "[2021-06-07 03:36:25,739][fairseq.tasks.unpaired_audio_text][INFO] - REF: ɛ n f œ ʂ ə n a d ɵ ʂ ə k t f øː r d eː t s ɔ m h ɛ n d ə p oː ɕ œ r k ɔ n s ɛ t ə n\r\n",
      "[2021-06-07 03:36:25,742][fairseq.tasks.unpaired_audio_text][INFO] - HYP: n ɛ s j œ r œ yː b j uː œ yː k uː ɵ v yː n ə m œ k ə uː s eː r n v oː n ɪ ŋ k l ɪ l s œ m k n t n\r\n",
      "[2021-06-07 03:36:25,746][fairseq.tasks.unpaired_audio_text][INFO] - LM [REF]: -53.44462585449219, 0.05339602260269112\r\n",
      "[2021-06-07 03:36:25,746][fairseq.tasks.unpaired_audio_text][INFO] - LM [HYP]: -84.81574249267578, 0.014327800013487383\r\n"
     ]
    },
    {
     "name": "stdout",
     "output_type": "stream",
     "text": [
      "[2021-06-07 03:36:26,260][valid][INFO] - {\"epoch\": 5015, \"valid_loss\": \"1.004\", \"valid_ntokens\": \"3039.79\", \"valid_nsentences\": \"144.214\", \"valid_lm_score_sum\": \"-89941.5\", \"valid_num_pred_chars\": \"48564\", \"valid_vocab_seen_pct\": \"0.900697\", \"valid_uer\": \"100.423\", \"valid_weighted_lm_ppl\": \"73.9505\", \"valid_lm_ppl\": \"59.9927\", \"valid_wps\": \"18495.5\", \"valid_wpb\": \"3039.8\", \"valid_bsz\": \"144.2\", \"valid_num_updates\": \"80240\", \"valid_best_weighted_lm_ppl\": \"73.0296\"}\r\n",
      "[2021-06-07 03:36:26,263][fairseq.checkpoint_utils][INFO] - Preparing to save checkpoint for epoch 5015 @ 80240 updates\r\n",
      "[2021-06-07 03:36:26,265][fairseq.trainer][INFO] - Saving checkpoint to /kaggle/working/checkpoint_last.pt\r\n"
     ]
    },
    {
     "name": "stdout",
     "output_type": "stream",
     "text": [
      "[2021-06-07 03:36:26,312][fairseq.trainer][INFO] - Finished saving checkpoint to /kaggle/working/checkpoint_last.pt\r\n",
      "[2021-06-07 03:36:26,313][fairseq.checkpoint_utils][INFO] - Saved checkpoint /kaggle/working/checkpoint_last.pt (epoch 5015 @ 80240 updates, score 73.95048384718909) (writing took 0.04910196999844629 seconds)\r\n",
      "[2021-06-07 03:36:26,313][fairseq_cli.train][INFO] - end of epoch 5015 (average epoch stats below)\r\n",
      "[2021-06-07 03:36:26,316][train][INFO] - {\"epoch\": 5015, \"train_loss\": \"3.052\", \"train_ntokens\": \"145.688\", \"train_nsentences\": \"145.688\", \"train_temp\": \"0.1\", \"train_code_ppl\": \"8.715\", \"train_loss_code_pen\": \"0.327\", \"train_loss_smoothness\": \"2.036\", \"train_loss_dense_g\": \"4.194\", \"train_lm_score_sum\": 0.0, \"train_num_pred_chars\": 0.0, \"train_loss_grad_pen\": \"0.123\", \"train_loss_dense_d\": \"0.025\", \"train_loss_token_d\": \"0.027\", \"train_wps\": \"10\", \"train_ups\": \"0.07\", \"train_wpb\": \"145.7\", \"train_bsz\": \"145.7\", \"train_num_updates\": \"80240\", \"train_lr_discriminator\": \"0.0005\", \"train_lr_generator\": \"0.0004\", \"train_gnorm\": \"30.452\", \"train_clip\": \"81.2\", \"train_train_wall\": \"229\", \"train_wall\": \"22099\"}\r\n"
     ]
    },
    {
     "name": "stdout",
     "output_type": "stream",
     "text": [
      "[2021-06-07 03:36:26,374][fairseq.trainer][INFO] - begin training epoch 5016\r\n",
      "[2021-06-07 03:36:26,376][fairseq_cli.train][INFO] - Start iterating over samples\r\n"
     ]
    },
    {
     "name": "stdout",
     "output_type": "stream",
     "text": [
      "[2021-06-07 03:40:18,313][fairseq_cli.train][INFO] - begin validation on \"valid\" subset\r\n"
     ]
    },
    {
     "name": "stdout",
     "output_type": "stream",
     "text": [
      "[2021-06-07 03:40:21,009][fairseq.tasks.unpaired_audio_text][INFO] - REF: ɛ n f œ ʂ ə n a d ɵ ʂ ə k t f øː r d eː t s ɔ m h ɛ n d ə p oː ɕ œ r k ɔ n s ɛ t ə n\r\n",
      "[2021-06-07 03:40:21,012][fairseq.tasks.unpaired_audio_text][INFO] - HYP: n ɡ ɛ s j œ r œ ʂ yː b j uː œ yː k uː ɵ n ə m œ k ə uː s eː r n v oː n ɪ ŋ k l ɪ l s œ m k n t n\r\n",
      "[2021-06-07 03:40:21,016][fairseq.tasks.unpaired_audio_text][INFO] - LM [REF]: -53.44462585449219, 0.05339602260269112\r\n",
      "[2021-06-07 03:40:21,016][fairseq.tasks.unpaired_audio_text][INFO] - LM [HYP]: -84.26931762695312, 0.014725102022145803\r\n"
     ]
    },
    {
     "name": "stdout",
     "output_type": "stream",
     "text": [
      "[2021-06-07 03:40:21,535][valid][INFO] - {\"epoch\": 5016, \"valid_loss\": \"1.003\", \"valid_ntokens\": \"3039.79\", \"valid_nsentences\": \"144.214\", \"valid_lm_score_sum\": \"-89787.2\", \"valid_num_pred_chars\": \"48418\", \"valid_vocab_seen_pct\": \"0.891986\", \"valid_uer\": \"100.258\", \"valid_weighted_lm_ppl\": \"75.765\", \"valid_lm_ppl\": \"60.2816\", \"valid_wps\": \"17138.3\", \"valid_wpb\": \"3039.8\", \"valid_bsz\": \"144.2\", \"valid_num_updates\": \"80256\", \"valid_best_weighted_lm_ppl\": \"73.0296\"}\r\n",
      "[2021-06-07 03:40:21,539][fairseq.checkpoint_utils][INFO] - Preparing to save checkpoint for epoch 5016 @ 80256 updates\r\n",
      "[2021-06-07 03:40:21,540][fairseq.trainer][INFO] - Saving checkpoint to /kaggle/working/checkpoint_last.pt\r\n"
     ]
    },
    {
     "name": "stdout",
     "output_type": "stream",
     "text": [
      "[2021-06-07 03:40:21,589][fairseq.trainer][INFO] - Finished saving checkpoint to /kaggle/working/checkpoint_last.pt\r\n",
      "[2021-06-07 03:40:21,590][fairseq.checkpoint_utils][INFO] - Saved checkpoint /kaggle/working/checkpoint_last.pt (epoch 5016 @ 80256 updates, score 75.76500234063407) (writing took 0.05038018000050215 seconds)\r\n",
      "[2021-06-07 03:40:21,590][fairseq_cli.train][INFO] - end of epoch 5016 (average epoch stats below)\r\n",
      "[2021-06-07 03:40:21,593][train][INFO] - {\"epoch\": 5016, \"train_loss\": \"2.934\", \"train_ntokens\": \"145.688\", \"train_nsentences\": \"145.688\", \"train_temp\": \"0.1\", \"train_code_ppl\": \"8.825\", \"train_loss_code_pen\": \"0.325\", \"train_loss_smoothness\": \"2.034\", \"train_loss_dense_g\": \"3.966\", \"train_lm_score_sum\": 0.0, \"train_num_pred_chars\": 0.0, \"train_loss_grad_pen\": \"0.098\", \"train_loss_dense_d\": \"0.026\", \"train_loss_token_d\": \"0.025\", \"train_wps\": \"9.9\", \"train_ups\": \"0.07\", \"train_wpb\": \"145.7\", \"train_bsz\": \"145.7\", \"train_num_updates\": \"80256\", \"train_lr_discriminator\": \"0.0005\", \"train_lr_generator\": \"0.0004\", \"train_gnorm\": \"30.184\", \"train_clip\": \"68.8\", \"train_train_wall\": \"231\", \"train_wall\": \"22334\"}\r\n"
     ]
    },
    {
     "name": "stdout",
     "output_type": "stream",
     "text": [
      "[2021-06-07 03:40:21,650][fairseq.trainer][INFO] - begin training epoch 5017\r\n",
      "[2021-06-07 03:40:21,651][fairseq_cli.train][INFO] - Start iterating over samples\r\n"
     ]
    },
    {
     "name": "stdout",
     "output_type": "stream",
     "text": [
      "[2021-06-07 03:43:51,440][fairseq_cli.train][INFO] - begin validation on \"valid\" subset\r\n"
     ]
    },
    {
     "name": "stdout",
     "output_type": "stream",
     "text": [
      "[2021-06-07 03:43:53,997][fairseq.tasks.unpaired_audio_text][INFO] - REF: ɛ n f œ ʂ ə n a d ɵ ʂ ə k t f øː r d eː t s ɔ m h ɛ n d ə p oː ɕ œ r k ɔ n s ɛ t ə n\r\n",
      "[2021-06-07 03:43:53,999][fairseq.tasks.unpaired_audio_text][INFO] - HYP: n ɛ s j œ r œ yː b j uː œ yː k uː ɵ v j n ə m œ k ə uː s eː r n ɛ oː n l ɪ ŋ k l ɪ l s ɔ m k n\r\n",
      "[2021-06-07 03:43:54,003][fairseq.tasks.unpaired_audio_text][INFO] - LM [REF]: -53.44462585449219, 0.05339602260269112\r\n",
      "[2021-06-07 03:43:54,004][fairseq.tasks.unpaired_audio_text][INFO] - LM [HYP]: -82.92053985595703, 0.014365519517845654\r\n"
     ]
    },
    {
     "name": "stdout",
     "output_type": "stream",
     "text": [
      "[2021-06-07 03:43:54,523][valid][INFO] - {\"epoch\": 5017, \"valid_loss\": \"1.006\", \"valid_ntokens\": \"3039.79\", \"valid_nsentences\": \"144.214\", \"valid_lm_score_sum\": \"-89978.9\", \"valid_num_pred_chars\": \"48645\", \"valid_vocab_seen_pct\": \"0.888502\", \"valid_uer\": \"100.613\", \"valid_weighted_lm_ppl\": \"75.6269\", \"valid_lm_ppl\": \"59.7025\", \"valid_wps\": \"18002\", \"valid_wpb\": \"3039.8\", \"valid_bsz\": \"144.2\", \"valid_num_updates\": \"80272\", \"valid_best_weighted_lm_ppl\": \"73.0296\"}\r\n",
      "[2021-06-07 03:43:54,526][fairseq.checkpoint_utils][INFO] - Preparing to save checkpoint for epoch 5017 @ 80272 updates\r\n",
      "[2021-06-07 03:43:54,527][fairseq.trainer][INFO] - Saving checkpoint to /kaggle/working/checkpoint_last.pt\r\n"
     ]
    },
    {
     "name": "stdout",
     "output_type": "stream",
     "text": [
      "[2021-06-07 03:43:54,575][fairseq.trainer][INFO] - Finished saving checkpoint to /kaggle/working/checkpoint_last.pt\r\n",
      "[2021-06-07 03:43:54,576][fairseq.checkpoint_utils][INFO] - Saved checkpoint /kaggle/working/checkpoint_last.pt (epoch 5017 @ 80272 updates, score 75.62687601744798) (writing took 0.049776689000282204 seconds)\r\n",
      "[2021-06-07 03:43:54,577][fairseq_cli.train][INFO] - end of epoch 5017 (average epoch stats below)\r\n",
      "[2021-06-07 03:43:54,580][train][INFO] - {\"epoch\": 5017, \"train_loss\": \"3.464\", \"train_ntokens\": \"145.688\", \"train_nsentences\": \"145.688\", \"train_temp\": \"0.1\", \"train_code_ppl\": \"8.601\", \"train_loss_code_pen\": \"0.319\", \"train_loss_smoothness\": \"2.002\", \"train_loss_dense_g\": \"4.253\", \"train_lm_score_sum\": 0.0, \"train_num_pred_chars\": 0.0, \"train_loss_grad_pen\": \"0.06\", \"train_loss_dense_d\": \"0.03\", \"train_loss_token_d\": \"0.029\", \"train_wps\": \"10.9\", \"train_ups\": \"0.08\", \"train_wpb\": \"145.7\", \"train_bsz\": \"145.7\", \"train_num_updates\": \"80272\", \"train_lr_discriminator\": \"0.0005\", \"train_lr_generator\": \"0.0004\", \"train_gnorm\": \"30.901\", \"train_clip\": \"68.8\", \"train_train_wall\": \"209\", \"train_wall\": \"22547\"}\r\n"
     ]
    },
    {
     "name": "stdout",
     "output_type": "stream",
     "text": [
      "[2021-06-07 03:43:54,639][fairseq.trainer][INFO] - begin training epoch 5018\r\n",
      "[2021-06-07 03:43:54,640][fairseq_cli.train][INFO] - Start iterating over samples\r\n"
     ]
    },
    {
     "name": "stdout",
     "output_type": "stream",
     "text": [
      "[2021-06-07 03:47:48,733][fairseq_cli.train][INFO] - begin validation on \"valid\" subset\r\n"
     ]
    },
    {
     "name": "stdout",
     "output_type": "stream",
     "text": [
      "[2021-06-07 03:47:51,250][fairseq.tasks.unpaired_audio_text][INFO] - REF: ɛ n f œ ʂ ə n a d ɵ ʂ ə k t f øː r d eː t s ɔ m h ɛ n d ə p oː ɕ œ r k ɔ n s ɛ t ə n\r\n",
      "[2021-06-07 03:47:51,252][fairseq.tasks.unpaired_audio_text][INFO] - HYP: n ɛ s j œ r œ j œ yː b j uː œ yː k uː ɵ n ə m œ k ə uː s eː r n ɛ oː n ɪ ŋ k l ɪ l s ɔ m k n t a\r\n",
      "[2021-06-07 03:47:51,256][fairseq.tasks.unpaired_audio_text][INFO] - LM [REF]: -53.44462585449219, 0.05339602260269112\r\n",
      "[2021-06-07 03:47:51,256][fairseq.tasks.unpaired_audio_text][INFO] - LM [HYP]: -82.62376403808594, 0.01598936500004072\r\n"
     ]
    },
    {
     "name": "stdout",
     "output_type": "stream",
     "text": [
      "[2021-06-07 03:47:51,774][valid][INFO] - {\"epoch\": 5018, \"valid_loss\": \"1.003\", \"valid_ntokens\": \"3039.79\", \"valid_nsentences\": \"144.214\", \"valid_lm_score_sum\": \"-89684.3\", \"valid_num_pred_chars\": \"48506\", \"valid_vocab_seen_pct\": \"0.897213\", \"valid_uer\": \"100.305\", \"valid_weighted_lm_ppl\": \"74.0043\", \"valid_lm_ppl\": \"59.5728\", \"valid_wps\": \"18117.9\", \"valid_wpb\": \"3039.8\", \"valid_bsz\": \"144.2\", \"valid_num_updates\": \"80288\", \"valid_best_weighted_lm_ppl\": \"73.0296\"}\r\n",
      "[2021-06-07 03:47:51,777][fairseq.checkpoint_utils][INFO] - Preparing to save checkpoint for epoch 5018 @ 80288 updates\r\n",
      "[2021-06-07 03:47:51,778][fairseq.trainer][INFO] - Saving checkpoint to /kaggle/working/checkpoint_last.pt\r\n"
     ]
    },
    {
     "name": "stdout",
     "output_type": "stream",
     "text": [
      "[2021-06-07 03:47:51,829][fairseq.trainer][INFO] - Finished saving checkpoint to /kaggle/working/checkpoint_last.pt\r\n",
      "[2021-06-07 03:47:51,829][fairseq.checkpoint_utils][INFO] - Saved checkpoint /kaggle/working/checkpoint_last.pt (epoch 5018 @ 80288 updates, score 74.00434546376867) (writing took 0.0516392139979871 seconds)\r\n",
      "[2021-06-07 03:47:51,829][fairseq_cli.train][INFO] - end of epoch 5018 (average epoch stats below)\r\n",
      "[2021-06-07 03:47:51,832][train][INFO] - {\"epoch\": 5018, \"train_loss\": \"2.907\", \"train_ntokens\": \"145.688\", \"train_nsentences\": \"145.688\", \"train_temp\": \"0.1\", \"train_code_ppl\": \"8.473\", \"train_loss_code_pen\": \"0.322\", \"train_loss_smoothness\": \"2.016\", \"train_loss_dense_g\": \"3.963\", \"train_lm_score_sum\": 0.0, \"train_num_pred_chars\": 0.0, \"train_loss_grad_pen\": \"0.076\", \"train_loss_dense_d\": \"0.024\", \"train_loss_token_d\": \"0.022\", \"train_wps\": \"9.8\", \"train_ups\": \"0.07\", \"train_wpb\": \"145.7\", \"train_bsz\": \"145.7\", \"train_num_updates\": \"80288\", \"train_lr_discriminator\": \"0.0005\", \"train_lr_generator\": \"0.0004\", \"train_gnorm\": \"29.856\", \"train_clip\": \"75\", \"train_train_wall\": \"234\", \"train_wall\": \"22784\"}\r\n"
     ]
    },
    {
     "name": "stdout",
     "output_type": "stream",
     "text": [
      "[2021-06-07 03:47:51,893][fairseq.trainer][INFO] - begin training epoch 5019\r\n",
      "[2021-06-07 03:47:51,895][fairseq_cli.train][INFO] - Start iterating over samples\r\n"
     ]
    },
    {
     "name": "stdout",
     "output_type": "stream",
     "text": [
      "[2021-06-07 03:50:33,020][train_inner][INFO] - {\"epoch\": 5019, \"update\": 5018.75, \"loss\": \"3.186\", \"ntokens\": \"147.83\", \"nsentences\": \"147.83\", \"temp\": \"0.1\", \"code_ppl\": \"8.616\", \"loss_code_pen\": \"0.323\", \"loss_smoothness\": \"2.028\", \"loss_dense_g\": \"4.065\", \"lm_score_sum\": 0.0, \"num_pred_chars\": 0.0, \"loss_grad_pen\": \"0.088\", \"loss_dense_d\": \"0.028\", \"loss_token_d\": \"0.029\", \"wps\": \"10.4\", \"ups\": \"0.07\", \"wpb\": \"147.8\", \"bsz\": \"147.8\", \"num_updates\": \"80300\", \"lr_discriminator\": \"0.0005\", \"lr_generator\": \"0.0004\", \"gnorm\": \"29.961\", \"clip\": \"73\", \"train_wall\": \"1393\", \"wall\": \"22945\"}\r\n"
     ]
    },
    {
     "name": "stdout",
     "output_type": "stream",
     "text": [
      "[2021-06-07 03:51:04,577][fairseq_cli.train][INFO] - begin validation on \"valid\" subset\r\n"
     ]
    },
    {
     "name": "stdout",
     "output_type": "stream",
     "text": [
      "[2021-06-07 03:51:07,077][fairseq.tasks.unpaired_audio_text][INFO] - REF: ɛ n f œ ʂ ə n a d ɵ ʂ ə k t f øː r d eː t s ɔ m h ɛ n d ə p oː ɕ œ r k ɔ n s ɛ t ə n\r\n",
      "[2021-06-07 03:51:07,081][fairseq.tasks.unpaired_audio_text][INFO] - HYP: n ɛ s j œ r œ ɕ b j uː œ yː k uː ɵ v n ə m œ k ə uː s eː r n v oː n ɪ ŋ k l ɪ l s ɔ m k n t n\r\n",
      "[2021-06-07 03:51:07,085][fairseq.tasks.unpaired_audio_text][INFO] - LM [REF]: -53.44462585449219, 0.05339602260269112\r\n",
      "[2021-06-07 03:51:07,086][fairseq.tasks.unpaired_audio_text][INFO] - LM [HYP]: -80.51445007324219, 0.01624762917158613\r\n"
     ]
    },
    {
     "name": "stdout",
     "output_type": "stream",
     "text": [
      "[2021-06-07 03:51:07,606][valid][INFO] - {\"epoch\": 5019, \"valid_loss\": \"1.005\", \"valid_ntokens\": \"3039.79\", \"valid_nsentences\": \"144.214\", \"valid_lm_score_sum\": \"-89796.8\", \"valid_num_pred_chars\": \"48619\", \"valid_vocab_seen_pct\": \"0.893728\", \"valid_uer\": \"100.456\", \"valid_weighted_lm_ppl\": \"74.2843\", \"valid_lm_ppl\": \"59.3346\", \"valid_wps\": \"18257.9\", \"valid_wpb\": \"3039.8\", \"valid_bsz\": \"144.2\", \"valid_num_updates\": \"80304\", \"valid_best_weighted_lm_ppl\": \"73.0296\"}\r\n",
      "[2021-06-07 03:51:07,609][fairseq.checkpoint_utils][INFO] - Preparing to save checkpoint for epoch 5019 @ 80304 updates\r\n",
      "[2021-06-07 03:51:07,610][fairseq.trainer][INFO] - Saving checkpoint to /kaggle/working/checkpoint_last.pt\r\n"
     ]
    },
    {
     "name": "stdout",
     "output_type": "stream",
     "text": [
      "[2021-06-07 03:51:07,658][fairseq.trainer][INFO] - Finished saving checkpoint to /kaggle/working/checkpoint_last.pt\r\n",
      "[2021-06-07 03:51:07,659][fairseq.checkpoint_utils][INFO] - Saved checkpoint /kaggle/working/checkpoint_last.pt (epoch 5019 @ 80304 updates, score 74.2843381739555) (writing took 0.04956761500216089 seconds)\r\n",
      "[2021-06-07 03:51:07,659][fairseq_cli.train][INFO] - end of epoch 5019 (average epoch stats below)\r\n",
      "[2021-06-07 03:51:07,662][train][INFO] - {\"epoch\": 5019, \"train_loss\": \"3.689\", \"train_ntokens\": \"145.688\", \"train_nsentences\": \"145.688\", \"train_temp\": \"0.1\", \"train_code_ppl\": \"8.698\", \"train_loss_code_pen\": \"0.333\", \"train_loss_smoothness\": \"2.096\", \"train_loss_dense_g\": \"4.2\", \"train_lm_score_sum\": 0.0, \"train_num_pred_chars\": 0.0, \"train_loss_grad_pen\": \"0.061\", \"train_loss_dense_d\": \"0.023\", \"train_loss_token_d\": \"0.025\", \"train_wps\": \"11.9\", \"train_ups\": \"0.08\", \"train_wpb\": \"145.7\", \"train_bsz\": \"145.7\", \"train_num_updates\": \"80304\", \"train_lr_discriminator\": \"0.0005\", \"train_lr_generator\": \"0.0004\", \"train_gnorm\": \"29.077\", \"train_clip\": \"75\", \"train_train_wall\": \"192\", \"train_wall\": \"22980\"}\r\n"
     ]
    },
    {
     "name": "stdout",
     "output_type": "stream",
     "text": [
      "[2021-06-07 03:51:07,722][fairseq.trainer][INFO] - begin training epoch 5020\r\n",
      "[2021-06-07 03:51:07,724][fairseq_cli.train][INFO] - Start iterating over samples\r\n"
     ]
    },
    {
     "name": "stdout",
     "output_type": "stream",
     "text": [
      "[2021-06-07 03:54:34,301][fairseq_cli.train][INFO] - begin validation on \"valid\" subset\r\n"
     ]
    },
    {
     "name": "stdout",
     "output_type": "stream",
     "text": [
      "[2021-06-07 03:54:36,879][fairseq.tasks.unpaired_audio_text][INFO] - REF: ɛ n f œ ʂ ə n a d ɵ ʂ ə k t f øː r d eː t s ɔ m h ɛ n d ə p oː ɕ œ r k ɔ n s ɛ t ə n\r\n",
      "[2021-06-07 03:54:36,881][fairseq.tasks.unpaired_audio_text][INFO] - HYP: n ɡ ɛ s j œ r œ yː b j uː œ yː k uː ɵ v j b n ə m œ k ə uː s eː r n ɛ oː n ɪ ŋ k l ɪ l s œ m k n t n\r\n",
      "[2021-06-07 03:54:36,885][fairseq.tasks.unpaired_audio_text][INFO] - LM [REF]: -53.44462585449219, 0.05339602260269112\r\n",
      "[2021-06-07 03:54:36,886][fairseq.tasks.unpaired_audio_text][INFO] - LM [HYP]: -92.10706329345703, 0.01205321346430476\r\n"
     ]
    },
    {
     "name": "stdout",
     "output_type": "stream",
     "text": [
      "[2021-06-07 03:54:37,446][valid][INFO] - {\"epoch\": 5020, \"valid_loss\": \"1.005\", \"valid_ntokens\": \"3039.79\", \"valid_nsentences\": \"144.214\", \"valid_lm_score_sum\": \"-89857.2\", \"valid_num_pred_chars\": \"48724\", \"valid_vocab_seen_pct\": \"0.890244\", \"valid_uer\": \"100.501\", \"valid_weighted_lm_ppl\": \"74.4409\", \"valid_lm_ppl\": \"58.9969\", \"valid_wps\": \"17625.7\", \"valid_wpb\": \"3039.8\", \"valid_bsz\": \"144.2\", \"valid_num_updates\": \"80320\", \"valid_best_weighted_lm_ppl\": \"73.0296\"}\r\n",
      "[2021-06-07 03:54:37,449][fairseq.checkpoint_utils][INFO] - Preparing to save checkpoint for epoch 5020 @ 80320 updates\r\n",
      "[2021-06-07 03:54:37,450][fairseq.trainer][INFO] - Saving checkpoint to /kaggle/working/checkpoint_last.pt\r\n"
     ]
    },
    {
     "name": "stdout",
     "output_type": "stream",
     "text": [
      "[2021-06-07 03:54:37,498][fairseq.trainer][INFO] - Finished saving checkpoint to /kaggle/working/checkpoint_last.pt\r\n",
      "[2021-06-07 03:54:37,498][fairseq.checkpoint_utils][INFO] - Saved checkpoint /kaggle/working/checkpoint_last.pt (epoch 5020 @ 80320 updates, score 74.44087156487426) (writing took 0.049300038001092616 seconds)\r\n",
      "[2021-06-07 03:54:37,499][fairseq_cli.train][INFO] - end of epoch 5020 (average epoch stats below)\r\n",
      "[2021-06-07 03:54:37,502][train][INFO] - {\"epoch\": 5020, \"train_loss\": \"3.336\", \"train_ntokens\": \"145.688\", \"train_nsentences\": \"145.688\", \"train_temp\": \"0.1\", \"train_code_ppl\": \"8.526\", \"train_loss_code_pen\": \"0.306\", \"train_loss_smoothness\": \"1.998\", \"train_loss_dense_g\": \"3.964\", \"train_lm_score_sum\": 0.0, \"train_num_pred_chars\": 0.0, \"train_loss_grad_pen\": \"0.129\", \"train_loss_dense_d\": \"0.03\", \"train_loss_token_d\": \"0.023\", \"train_wps\": \"11.1\", \"train_ups\": \"0.08\", \"train_wpb\": \"145.7\", \"train_bsz\": \"145.7\", \"train_num_updates\": \"80320\", \"train_lr_discriminator\": \"0.0005\", \"train_lr_generator\": \"0.0004\", \"train_gnorm\": \"31.592\", \"train_clip\": \"87.5\", \"train_train_wall\": \"206\", \"train_wall\": \"23190\"}\r\n"
     ]
    },
    {
     "name": "stdout",
     "output_type": "stream",
     "text": [
      "[2021-06-07 03:54:37,561][fairseq.trainer][INFO] - begin training epoch 5021\r\n",
      "[2021-06-07 03:54:37,563][fairseq_cli.train][INFO] - Start iterating over samples\r\n"
     ]
    },
    {
     "name": "stdout",
     "output_type": "stream",
     "text": [
      "[2021-06-07 03:58:06,973][fairseq_cli.train][INFO] - begin validation on \"valid\" subset\r\n"
     ]
    },
    {
     "name": "stdout",
     "output_type": "stream",
     "text": [
      "[2021-06-07 03:58:09,487][fairseq.tasks.unpaired_audio_text][INFO] - REF: ɛ n f œ ʂ ə n a d ɵ ʂ ə k t f øː r d eː t s ɔ m h ɛ n d ə p oː ɕ œ r k ɔ n s ɛ t ə n\r\n",
      "[2021-06-07 03:58:09,490][fairseq.tasks.unpaired_audio_text][INFO] - HYP: n ɛ s j œ r œ yː b j uː œ yː k uː ɵ v m b n ə m œ k ə uː s eː r n ɛ oː n ɪ ŋ k l ɪ l s œ m k n\r\n",
      "[2021-06-07 03:58:09,494][fairseq.tasks.unpaired_audio_text][INFO] - LM [REF]: -53.44462585449219, 0.05339602260269112\r\n",
      "[2021-06-07 03:58:09,494][fairseq.tasks.unpaired_audio_text][INFO] - LM [HYP]: -85.40689086914062, 0.012649375700555772\r\n"
     ]
    },
    {
     "name": "stdout",
     "output_type": "stream",
     "text": [
      "[2021-06-07 03:58:10,012][valid][INFO] - {\"epoch\": 5021, \"valid_loss\": \"1.004\", \"valid_ntokens\": \"3039.79\", \"valid_nsentences\": \"144.214\", \"valid_lm_score_sum\": \"-89678.4\", \"valid_num_pred_chars\": \"48570\", \"valid_vocab_seen_pct\": \"0.89547\", \"valid_uer\": \"100.411\", \"valid_weighted_lm_ppl\": \"73.8896\", \"valid_lm_ppl\": \"59.2497\", \"valid_wps\": \"18484.5\", \"valid_wpb\": \"3039.8\", \"valid_bsz\": \"144.2\", \"valid_num_updates\": \"80336\", \"valid_best_weighted_lm_ppl\": \"73.0296\"}\r\n",
      "[2021-06-07 03:58:10,016][fairseq.checkpoint_utils][INFO] - Preparing to save checkpoint for epoch 5021 @ 80336 updates\r\n",
      "[2021-06-07 03:58:10,017][fairseq.trainer][INFO] - Saving checkpoint to /kaggle/working/checkpoint_last.pt\r\n"
     ]
    },
    {
     "name": "stdout",
     "output_type": "stream",
     "text": [
      "[2021-06-07 03:58:10,066][fairseq.trainer][INFO] - Finished saving checkpoint to /kaggle/working/checkpoint_last.pt\r\n",
      "[2021-06-07 03:58:10,066][fairseq.checkpoint_utils][INFO] - Saved checkpoint /kaggle/working/checkpoint_last.pt (epoch 5021 @ 80336 updates, score 73.88962952321386) (writing took 0.05034403199897497 seconds)\r\n",
      "[2021-06-07 03:58:10,067][fairseq_cli.train][INFO] - end of epoch 5021 (average epoch stats below)\r\n",
      "[2021-06-07 03:58:10,069][train][INFO] - {\"epoch\": 5021, \"train_loss\": \"3.384\", \"train_ntokens\": \"145.688\", \"train_nsentences\": \"145.688\", \"train_temp\": \"0.1\", \"train_code_ppl\": \"8.515\", \"train_loss_code_pen\": \"0.316\", \"train_loss_smoothness\": \"2.017\", \"train_loss_dense_g\": \"4.069\", \"train_lm_score_sum\": 0.0, \"train_num_pred_chars\": 0.0, \"train_loss_grad_pen\": \"0.088\", \"train_loss_dense_d\": \"0.022\", \"train_loss_token_d\": \"0.029\", \"train_wps\": \"11\", \"train_ups\": \"0.08\", \"train_wpb\": \"145.7\", \"train_bsz\": \"145.7\", \"train_num_updates\": \"80336\", \"train_lr_discriminator\": \"0.0005\", \"train_lr_generator\": \"0.0004\", \"train_gnorm\": \"33.505\", \"train_clip\": \"81.2\", \"train_train_wall\": \"209\", \"train_wall\": \"23402\"}\r\n"
     ]
    },
    {
     "name": "stdout",
     "output_type": "stream",
     "text": [
      "[2021-06-07 03:58:10,127][fairseq.trainer][INFO] - begin training epoch 5022\r\n",
      "[2021-06-07 03:58:10,128][fairseq_cli.train][INFO] - Start iterating over samples\r\n"
     ]
    },
    {
     "name": "stdout",
     "output_type": "stream",
     "text": [
      "[2021-06-07 04:01:45,823][fairseq_cli.train][INFO] - begin validation on \"valid\" subset\r\n"
     ]
    },
    {
     "name": "stdout",
     "output_type": "stream",
     "text": [
      "[2021-06-07 04:01:48,362][fairseq.tasks.unpaired_audio_text][INFO] - REF: ɛ n f œ ʂ ə n a d ɵ ʂ ə k t f øː r d eː t s ɔ m h ɛ n d ə p oː ɕ œ r k ɔ n s ɛ t ə n\r\n",
      "[2021-06-07 04:01:48,364][fairseq.tasks.unpaired_audio_text][INFO] - HYP: n ɛ s j œ r œ yː b j uː œ yː k uː ɵ v b n ə m œ k ə uː s eː r n v oː n ɪ ŋ k l ɪ l s œ m k n\r\n",
      "[2021-06-07 04:01:48,368][fairseq.tasks.unpaired_audio_text][INFO] - LM [REF]: -53.44462585449219, 0.05339602260269112\r\n",
      "[2021-06-07 04:01:48,368][fairseq.tasks.unpaired_audio_text][INFO] - LM [HYP]: -81.71994018554688, 0.013890843939702396\r\n"
     ]
    },
    {
     "name": "stdout",
     "output_type": "stream",
     "text": [
      "[2021-06-07 04:01:48,881][valid][INFO] - {\"epoch\": 5022, \"valid_loss\": \"1.006\", \"valid_ntokens\": \"3039.79\", \"valid_nsentences\": \"144.214\", \"valid_lm_score_sum\": \"-89957.4\", \"valid_num_pred_chars\": \"48722\", \"valid_vocab_seen_pct\": \"0.890244\", \"valid_uer\": \"100.599\", \"valid_weighted_lm_ppl\": \"74.7922\", \"valid_lm_ppl\": \"59.2753\", \"valid_wps\": \"18329.3\", \"valid_wpb\": \"3039.8\", \"valid_bsz\": \"144.2\", \"valid_num_updates\": \"80352\", \"valid_best_weighted_lm_ppl\": \"73.0296\"}\r\n",
      "[2021-06-07 04:01:48,885][fairseq.checkpoint_utils][INFO] - Preparing to save checkpoint for epoch 5022 @ 80352 updates\r\n",
      "[2021-06-07 04:01:48,887][fairseq.trainer][INFO] - Saving checkpoint to /kaggle/working/checkpoint_last.pt\r\n"
     ]
    },
    {
     "name": "stdout",
     "output_type": "stream",
     "text": [
      "[2021-06-07 04:01:48,936][fairseq.trainer][INFO] - Finished saving checkpoint to /kaggle/working/checkpoint_last.pt\r\n",
      "[2021-06-07 04:01:48,936][fairseq.checkpoint_utils][INFO] - Saved checkpoint /kaggle/working/checkpoint_last.pt (epoch 5022 @ 80352 updates, score 74.79215488848253) (writing took 0.051388579999184 seconds)\r\n",
      "[2021-06-07 04:01:48,937][fairseq_cli.train][INFO] - end of epoch 5022 (average epoch stats below)\r\n",
      "[2021-06-07 04:01:48,940][train][INFO] - {\"epoch\": 5022, \"train_loss\": \"3.296\", \"train_ntokens\": \"145.688\", \"train_nsentences\": \"145.688\", \"train_temp\": \"0.1\", \"train_code_ppl\": \"8.732\", \"train_loss_code_pen\": \"0.33\", \"train_loss_smoothness\": \"2.07\", \"train_loss_dense_g\": \"3.827\", \"train_lm_score_sum\": 0.0, \"train_num_pred_chars\": 0.0, \"train_loss_grad_pen\": \"0.083\", \"train_loss_dense_d\": \"0.034\", \"train_loss_token_d\": \"0.026\", \"train_wps\": \"10.7\", \"train_ups\": \"0.07\", \"train_wpb\": \"145.7\", \"train_bsz\": \"145.7\", \"train_num_updates\": \"80352\", \"train_lr_discriminator\": \"0.0005\", \"train_lr_generator\": \"0.0004\", \"train_gnorm\": \"30.369\", \"train_clip\": \"81.2\", \"train_train_wall\": \"215\", \"train_wall\": \"23621\"}\r\n"
     ]
    },
    {
     "name": "stdout",
     "output_type": "stream",
     "text": [
      "[2021-06-07 04:01:49,001][fairseq.trainer][INFO] - begin training epoch 5023\r\n",
      "[2021-06-07 04:01:49,003][fairseq_cli.train][INFO] - Start iterating over samples\r\n"
     ]
    },
    {
     "name": "stdout",
     "output_type": "stream",
     "text": [
      "[2021-06-07 04:05:33,099][fairseq_cli.train][INFO] - begin validation on \"valid\" subset\r\n"
     ]
    },
    {
     "name": "stdout",
     "output_type": "stream",
     "text": [
      "[2021-06-07 04:05:35,696][fairseq.tasks.unpaired_audio_text][INFO] - REF: ɛ n f œ ʂ ə n a d ɵ ʂ ə k t f øː r d eː t s ɔ m h ɛ n d ə p oː ɕ œ r k ɔ n s ɛ t ə n\r\n",
      "[2021-06-07 04:05:35,699][fairseq.tasks.unpaired_audio_text][INFO] - HYP: n ɛ s j œ r œ j œ yː b j uː œ yː k uː ɵ v n ə m œ k ə uː s eː r n ɛ oː n ɪ ŋ k l ɪ l s œ m k n\r\n",
      "[2021-06-07 04:05:35,703][fairseq.tasks.unpaired_audio_text][INFO] - LM [REF]: -53.44462585449219, 0.05339602260269112\r\n",
      "[2021-06-07 04:05:35,703][fairseq.tasks.unpaired_audio_text][INFO] - LM [HYP]: -84.6227798461914, 0.01316721058028585\r\n"
     ]
    },
    {
     "name": "stdout",
     "output_type": "stream",
     "text": [
      "[2021-06-07 04:05:36,227][valid][INFO] - {\"epoch\": 5023, \"valid_loss\": \"1.004\", \"valid_ntokens\": \"3039.79\", \"valid_nsentences\": \"144.214\", \"valid_lm_score_sum\": \"-89830.6\", \"valid_num_pred_chars\": \"48567\", \"valid_vocab_seen_pct\": \"0.891986\", \"valid_uer\": \"100.378\", \"valid_weighted_lm_ppl\": \"75.0038\", \"valid_lm_ppl\": \"59.676\", \"valid_wps\": \"17767.3\", \"valid_wpb\": \"3039.8\", \"valid_bsz\": \"144.2\", \"valid_num_updates\": \"80368\", \"valid_best_weighted_lm_ppl\": \"73.0296\"}\r\n",
      "[2021-06-07 04:05:36,230][fairseq.checkpoint_utils][INFO] - Preparing to save checkpoint for epoch 5023 @ 80368 updates\r\n",
      "[2021-06-07 04:05:36,231][fairseq.trainer][INFO] - Saving checkpoint to /kaggle/working/checkpoint_last.pt\r\n"
     ]
    },
    {
     "name": "stdout",
     "output_type": "stream",
     "text": [
      "[2021-06-07 04:05:36,279][fairseq.trainer][INFO] - Finished saving checkpoint to /kaggle/working/checkpoint_last.pt\r\n",
      "[2021-06-07 04:05:36,279][fairseq.checkpoint_utils][INFO] - Saved checkpoint /kaggle/working/checkpoint_last.pt (epoch 5023 @ 80368 updates, score 75.00380206432249) (writing took 0.04939423500036355 seconds)\r\n",
      "[2021-06-07 04:05:36,280][fairseq_cli.train][INFO] - end of epoch 5023 (average epoch stats below)\r\n",
      "[2021-06-07 04:05:36,283][train][INFO] - {\"epoch\": 5023, \"train_loss\": \"3.185\", \"train_ntokens\": \"145.688\", \"train_nsentences\": \"145.688\", \"train_temp\": \"0.1\", \"train_code_ppl\": \"8.822\", \"train_loss_code_pen\": \"0.326\", \"train_loss_smoothness\": \"2.094\", \"train_loss_dense_g\": \"4.069\", \"train_lm_score_sum\": 0.0, \"train_num_pred_chars\": 0.0, \"train_loss_grad_pen\": \"0.057\", \"train_loss_dense_d\": \"0.029\", \"train_loss_token_d\": \"0.026\", \"train_wps\": \"10.3\", \"train_ups\": \"0.07\", \"train_wpb\": \"145.7\", \"train_bsz\": \"145.7\", \"train_num_updates\": \"80368\", \"train_lr_discriminator\": \"0.0005\", \"train_lr_generator\": \"0.0004\", \"train_gnorm\": \"29.002\", \"train_clip\": \"62.5\", \"train_train_wall\": \"224\", \"train_wall\": \"23849\"}\r\n"
     ]
    },
    {
     "name": "stdout",
     "output_type": "stream",
     "text": [
      "[2021-06-07 04:05:36,343][fairseq.trainer][INFO] - begin training epoch 5024\r\n"
     ]
    },
    {
     "name": "stdout",
     "output_type": "stream",
     "text": [
      "[2021-06-07 04:05:36,345][fairseq_cli.train][INFO] - Start iterating over samples\r\n"
     ]
    },
    {
     "name": "stdout",
     "output_type": "stream",
     "text": [
      "[2021-06-07 04:09:02,787][fairseq_cli.train][INFO] - begin validation on \"valid\" subset\r\n"
     ]
    },
    {
     "name": "stdout",
     "output_type": "stream",
     "text": [
      "[2021-06-07 04:09:05,470][fairseq.tasks.unpaired_audio_text][INFO] - REF: ɛ n f œ ʂ ə n a d ɵ ʂ ə k t f øː r d eː t s ɔ m h ɛ n d ə p oː ɕ œ r k ɔ n s ɛ t ə n\r\n",
      "[2021-06-07 04:09:05,472][fairseq.tasks.unpaired_audio_text][INFO] - HYP: n ɛ s j œ r œ j œ yː b j uː œ yː k uː ɵ v ə m œ k b ə uː s eː r n v oː n ɪ ŋ k l ɪ l s ɔ m k n\r\n",
      "[2021-06-07 04:09:05,476][fairseq.tasks.unpaired_audio_text][INFO] - LM [REF]: -53.44462585449219, 0.05339602260269112\r\n",
      "[2021-06-07 04:09:05,476][fairseq.tasks.unpaired_audio_text][INFO] - LM [HYP]: -80.00617218017578, 0.01667573798273336\r\n"
     ]
    },
    {
     "name": "stdout",
     "output_type": "stream",
     "text": [
      "[2021-06-07 04:09:06,015][valid][INFO] - {\"epoch\": 5024, \"valid_loss\": \"1.004\", \"valid_ntokens\": \"3039.79\", \"valid_nsentences\": \"144.214\", \"valid_lm_score_sum\": \"-89801.3\", \"valid_num_pred_chars\": \"48570\", \"valid_vocab_seen_pct\": \"0.891986\", \"valid_uer\": \"100.364\", \"valid_weighted_lm_ppl\": \"74.8858\", \"valid_lm_ppl\": \"59.5821\", \"valid_wps\": \"16816.4\", \"valid_wpb\": \"3039.8\", \"valid_bsz\": \"144.2\", \"valid_num_updates\": \"80384\", \"valid_best_weighted_lm_ppl\": \"73.0296\"}\r\n",
      "[2021-06-07 04:09:06,019][fairseq.checkpoint_utils][INFO] - Preparing to save checkpoint for epoch 5024 @ 80384 updates\r\n",
      "[2021-06-07 04:09:06,020][fairseq.trainer][INFO] - Saving checkpoint to /kaggle/working/checkpoint_last.pt\r\n"
     ]
    },
    {
     "name": "stdout",
     "output_type": "stream",
     "text": [
      "[2021-06-07 04:09:06,069][fairseq.trainer][INFO] - Finished saving checkpoint to /kaggle/working/checkpoint_last.pt\r\n",
      "[2021-06-07 04:09:06,070][fairseq.checkpoint_utils][INFO] - Saved checkpoint /kaggle/working/checkpoint_last.pt (epoch 5024 @ 80384 updates, score 74.88580100744201) (writing took 0.05077907499799039 seconds)\r\n",
      "[2021-06-07 04:09:06,070][fairseq_cli.train][INFO] - end of epoch 5024 (average epoch stats below)\r\n",
      "[2021-06-07 04:09:06,074][train][INFO] - {\"epoch\": 5024, \"train_loss\": \"3.61\", \"train_ntokens\": \"145.688\", \"train_nsentences\": \"145.688\", \"train_temp\": \"0.1\", \"train_code_ppl\": \"8.69\", \"train_loss_code_pen\": \"0.328\", \"train_loss_smoothness\": \"2.079\", \"train_loss_dense_g\": \"4.02\", \"train_lm_score_sum\": 0.0, \"train_num_pred_chars\": 0.0, \"train_loss_grad_pen\": \"0.131\", \"train_loss_dense_d\": \"0.023\", \"train_loss_token_d\": \"0.025\", \"train_wps\": \"11.1\", \"train_ups\": \"0.08\", \"train_wpb\": \"145.7\", \"train_bsz\": \"145.7\", \"train_num_updates\": \"80384\", \"train_lr_discriminator\": \"0.0005\", \"train_lr_generator\": \"0.0004\", \"train_gnorm\": \"67.663\", \"train_clip\": \"62.5\", \"train_train_wall\": \"206\", \"train_wall\": \"24058\"}\r\n"
     ]
    },
    {
     "name": "stdout",
     "output_type": "stream",
     "text": [
      "[2021-06-07 04:09:06,147][fairseq.trainer][INFO] - begin training epoch 5025\r\n"
     ]
    },
    {
     "name": "stdout",
     "output_type": "stream",
     "text": [
      "[2021-06-07 04:09:06,149][fairseq_cli.train][INFO] - Start iterating over samples\r\n"
     ]
    },
    {
     "name": "stdout",
     "output_type": "stream",
     "text": [
      "[2021-06-07 04:13:05,407][train_inner][INFO] - {\"epoch\": 5025, \"update\": 5025.0, \"loss\": \"3.359\", \"ntokens\": \"144.69\", \"nsentences\": \"144.69\", \"temp\": \"0.1\", \"code_ppl\": \"8.715\", \"loss_code_pen\": \"0.321\", \"loss_smoothness\": \"2.051\", \"loss_dense_g\": \"4.057\", \"lm_score_sum\": 0.0, \"num_pred_chars\": 0.0, \"loss_grad_pen\": \"0.092\", \"loss_dense_d\": \"0.028\", \"loss_token_d\": \"0.027\", \"wps\": \"10.7\", \"ups\": \"0.07\", \"wpb\": \"144.7\", \"bsz\": \"144.7\", \"num_updates\": \"80400\", \"lr_discriminator\": \"0.0005\", \"lr_generator\": \"0.0004\", \"gnorm\": \"36.625\", \"clip\": \"75\", \"train_wall\": \"1330\", \"wall\": \"24298\"}\r\n",
      "[2021-06-07 04:13:05,409][fairseq_cli.train][INFO] - begin validation on \"valid\" subset\r\n"
     ]
    },
    {
     "name": "stdout",
     "output_type": "stream",
     "text": [
      "[2021-06-07 04:13:07,959][fairseq.tasks.unpaired_audio_text][INFO] - REF: ɛ n f œ ʂ ə n a d ɵ ʂ ə k t f øː r d eː t s ɔ m h ɛ n d ə p oː ɕ œ r k ɔ n s ɛ t ə n\r\n",
      "[2021-06-07 04:13:07,961][fairseq.tasks.unpaired_audio_text][INFO] - HYP: n ɛ s j œ r œ yː b j uː œ yː k uː ɵ v n ə m œ k ə uː s eː r n ɛ oː n ɪ ŋ k l ɪ l s œ k m k n t n\r\n",
      "[2021-06-07 04:13:07,966][fairseq.tasks.unpaired_audio_text][INFO] - LM [REF]: -53.44462585449219, 0.05339602260269112\r\n",
      "[2021-06-07 04:13:07,966][fairseq.tasks.unpaired_audio_text][INFO] - LM [HYP]: -87.23138427734375, 0.01269596040140955\r\n"
     ]
    },
    {
     "name": "stdout",
     "output_type": "stream",
     "text": [
      "[2021-06-07 04:13:08,532][valid][INFO] - {\"epoch\": 5025, \"valid_loss\": \"1.004\", \"valid_ntokens\": \"3039.79\", \"valid_nsentences\": \"144.214\", \"valid_lm_score_sum\": \"-89931.3\", \"valid_num_pred_chars\": \"48542\", \"valid_vocab_seen_pct\": \"0.89547\", \"valid_uer\": \"100.416\", \"valid_weighted_lm_ppl\": \"74.9147\", \"valid_lm_ppl\": \"60.0717\", \"valid_wps\": \"17625\", \"valid_wpb\": \"3039.8\", \"valid_bsz\": \"144.2\", \"valid_num_updates\": \"80400\", \"valid_best_weighted_lm_ppl\": \"73.0296\"}\r\n",
      "[2021-06-07 04:13:08,535][fairseq.checkpoint_utils][INFO] - Preparing to save checkpoint for epoch 5025 @ 80400 updates\r\n",
      "[2021-06-07 04:13:08,536][fairseq.trainer][INFO] - Saving checkpoint to /kaggle/working/checkpoint_last.pt\r\n"
     ]
    },
    {
     "name": "stdout",
     "output_type": "stream",
     "text": [
      "[2021-06-07 04:13:08,585][fairseq.trainer][INFO] - Finished saving checkpoint to /kaggle/working/checkpoint_last.pt\r\n",
      "[2021-06-07 04:13:08,585][fairseq.checkpoint_utils][INFO] - Saved checkpoint /kaggle/working/checkpoint_last.pt (epoch 5025 @ 80400 updates, score 74.91473523015135) (writing took 0.05013948200212326 seconds)\r\n",
      "[2021-06-07 04:13:08,586][fairseq_cli.train][INFO] - end of epoch 5025 (average epoch stats below)\r\n",
      "[2021-06-07 04:13:08,589][train][INFO] - {\"epoch\": 5025, \"train_loss\": \"3.051\", \"train_ntokens\": \"145.688\", \"train_nsentences\": \"145.688\", \"train_temp\": \"0.1\", \"train_code_ppl\": \"8.684\", \"train_loss_code_pen\": \"0.306\", \"train_loss_smoothness\": \"2.004\", \"train_loss_dense_g\": \"4.303\", \"train_lm_score_sum\": 0.0, \"train_num_pred_chars\": 0.0, \"train_loss_grad_pen\": \"0.071\", \"train_loss_dense_d\": \"0.029\", \"train_loss_token_d\": \"0.027\", \"train_wps\": \"9.6\", \"train_ups\": \"0.07\", \"train_wpb\": \"145.7\", \"train_bsz\": \"145.7\", \"train_num_updates\": \"80400\", \"train_lr_discriminator\": \"0.0005\", \"train_lr_generator\": \"0.0004\", \"train_gnorm\": \"29.08\", \"train_clip\": \"68.8\", \"train_train_wall\": \"239\", \"train_wall\": \"24301\"}\r\n"
     ]
    },
    {
     "name": "stdout",
     "output_type": "stream",
     "text": [
      "[2021-06-07 04:13:08,650][fairseq.trainer][INFO] - begin training epoch 5026\r\n",
      "[2021-06-07 04:13:08,652][fairseq_cli.train][INFO] - Start iterating over samples\r\n"
     ]
    },
    {
     "name": "stdout",
     "output_type": "stream",
     "text": [
      "[2021-06-07 04:16:53,266][fairseq_cli.train][INFO] - begin validation on \"valid\" subset\r\n"
     ]
    },
    {
     "name": "stdout",
     "output_type": "stream",
     "text": [
      "[2021-06-07 04:16:55,811][fairseq.tasks.unpaired_audio_text][INFO] - REF: ɛ n f œ ʂ ə n a d ɵ ʂ ə k t f øː r d eː t s ɔ m h ɛ n d ə p oː ɕ œ r k ɔ n s ɛ t ə n\r\n",
      "[2021-06-07 04:16:55,814][fairseq.tasks.unpaired_audio_text][INFO] - HYP: n ɡ ɛ s j œ r œ yː b j uː œ yː k uː ɵ v b n ə m œ k ə uː s eː r n v oː n ɪ ŋ k l ɪ l s œ k m k n t n\r\n",
      "[2021-06-07 04:16:55,818][fairseq.tasks.unpaired_audio_text][INFO] - LM [REF]: -53.44462585449219, 0.05339602260269112\r\n",
      "[2021-06-07 04:16:55,818][fairseq.tasks.unpaired_audio_text][INFO] - LM [HYP]: -90.3001708984375, 0.013144571697105064\r\n"
     ]
    },
    {
     "name": "stdout",
     "output_type": "stream",
     "text": [
      "[2021-06-07 04:16:56,333][valid][INFO] - {\"epoch\": 5026, \"valid_loss\": \"1.005\", \"valid_ntokens\": \"3039.79\", \"valid_nsentences\": \"144.214\", \"valid_lm_score_sum\": \"-89872.5\", \"valid_num_pred_chars\": \"48580\", \"valid_vocab_seen_pct\": \"0.89547\", \"valid_uer\": \"100.472\", \"valid_weighted_lm_ppl\": \"74.4849\", \"valid_lm_ppl\": \"59.727\", \"valid_wps\": \"18258.4\", \"valid_wpb\": \"3039.8\", \"valid_bsz\": \"144.2\", \"valid_num_updates\": \"80416\", \"valid_best_weighted_lm_ppl\": \"73.0296\"}\r\n",
      "[2021-06-07 04:16:56,336][fairseq.checkpoint_utils][INFO] - Preparing to save checkpoint for epoch 5026 @ 80416 updates\r\n",
      "[2021-06-07 04:16:56,337][fairseq.trainer][INFO] - Saving checkpoint to /kaggle/working/checkpoint_last.pt\r\n"
     ]
    },
    {
     "name": "stdout",
     "output_type": "stream",
     "text": [
      "[2021-06-07 04:16:56,385][fairseq.trainer][INFO] - Finished saving checkpoint to /kaggle/working/checkpoint_last.pt\r\n",
      "[2021-06-07 04:16:56,385][fairseq.checkpoint_utils][INFO] - Saved checkpoint /kaggle/working/checkpoint_last.pt (epoch 5026 @ 80416 updates, score 74.48487599242772) (writing took 0.04892738200214808 seconds)\r\n",
      "[2021-06-07 04:16:56,386][fairseq_cli.train][INFO] - end of epoch 5026 (average epoch stats below)\r\n",
      "[2021-06-07 04:16:56,391][train][INFO] - {\"epoch\": 5026, \"train_loss\": \"3.146\", \"train_ntokens\": \"145.688\", \"train_nsentences\": \"145.688\", \"train_temp\": \"0.1\", \"train_code_ppl\": \"8.748\", \"train_loss_code_pen\": \"0.308\", \"train_loss_smoothness\": \"2.017\", \"train_loss_dense_g\": \"4.099\", \"train_lm_score_sum\": 0.0, \"train_num_pred_chars\": 0.0, \"train_loss_grad_pen\": \"0.048\", \"train_loss_dense_d\": \"0.025\", \"train_loss_token_d\": \"0.026\", \"train_wps\": \"10.2\", \"train_ups\": \"0.07\", \"train_wpb\": \"145.7\", \"train_bsz\": \"145.7\", \"train_num_updates\": \"80416\", \"train_lr_discriminator\": \"0.0005\", \"train_lr_generator\": \"0.0004\", \"train_gnorm\": \"27.924\", \"train_clip\": \"56.2\", \"train_train_wall\": \"224\", \"train_wall\": \"24529\"}\r\n"
     ]
    },
    {
     "name": "stdout",
     "output_type": "stream",
     "text": [
      "[2021-06-07 04:16:56,450][fairseq.trainer][INFO] - begin training epoch 5027\r\n",
      "[2021-06-07 04:16:56,451][fairseq_cli.train][INFO] - Start iterating over samples\r\n"
     ]
    },
    {
     "name": "stdout",
     "output_type": "stream",
     "text": [
      "[2021-06-07 04:20:37,001][fairseq_cli.train][INFO] - begin validation on \"valid\" subset\r\n"
     ]
    },
    {
     "name": "stdout",
     "output_type": "stream",
     "text": [
      "[2021-06-07 04:20:39,583][fairseq.tasks.unpaired_audio_text][INFO] - REF: ɛ n f œ ʂ ə n a d ɵ ʂ ə k t f øː r d eː t s ɔ m h ɛ n d ə p oː ɕ œ r k ɔ n s ɛ t ə n\r\n",
      "[2021-06-07 04:20:39,585][fairseq.tasks.unpaired_audio_text][INFO] - HYP: n ɡ ɛ s j œ r œ yː b j uː œ ʃ k uː ɵ v n ə m œ k ə uː s eː r n v oː n ɪ ŋ k l ɪ l s œ k m k n t n\r\n",
      "[2021-06-07 04:20:39,590][fairseq.tasks.unpaired_audio_text][INFO] - LM [REF]: -53.44462585449219, 0.05339602260269112\r\n",
      "[2021-06-07 04:20:39,590][fairseq.tasks.unpaired_audio_text][INFO] - LM [HYP]: -88.98790740966797, 0.01278322013717368\r\n"
     ]
    },
    {
     "name": "stdout",
     "output_type": "stream",
     "text": [
      "[2021-06-07 04:20:40,108][valid][INFO] - {\"epoch\": 5027, \"valid_loss\": \"1.002\", \"valid_ntokens\": \"3039.79\", \"valid_nsentences\": \"144.214\", \"valid_lm_score_sum\": \"-89599.7\", \"valid_num_pred_chars\": \"48401\", \"valid_vocab_seen_pct\": \"0.893728\", \"valid_uer\": \"100.15\", \"valid_weighted_lm_ppl\": \"74.9302\", \"valid_lm_ppl\": \"59.8505\", \"valid_wps\": \"17762\", \"valid_wpb\": \"3039.8\", \"valid_bsz\": \"144.2\", \"valid_num_updates\": \"80432\", \"valid_best_weighted_lm_ppl\": \"73.0296\"}\r\n",
      "[2021-06-07 04:20:40,111][fairseq.checkpoint_utils][INFO] - Preparing to save checkpoint for epoch 5027 @ 80432 updates\r\n",
      "[2021-06-07 04:20:40,112][fairseq.trainer][INFO] - Saving checkpoint to /kaggle/working/checkpoint_last.pt\r\n"
     ]
    },
    {
     "name": "stdout",
     "output_type": "stream",
     "text": [
      "[2021-06-07 04:20:40,160][fairseq.trainer][INFO] - Finished saving checkpoint to /kaggle/working/checkpoint_last.pt\r\n",
      "[2021-06-07 04:20:40,160][fairseq.checkpoint_utils][INFO] - Saved checkpoint /kaggle/working/checkpoint_last.pt (epoch 5027 @ 80432 updates, score 74.93015052766324) (writing took 0.0493421369974385 seconds)\r\n",
      "[2021-06-07 04:20:40,161][fairseq_cli.train][INFO] - end of epoch 5027 (average epoch stats below)\r\n",
      "[2021-06-07 04:20:40,163][train][INFO] - {\"epoch\": 5027, \"train_loss\": \"3.316\", \"train_ntokens\": \"145.688\", \"train_nsentences\": \"145.688\", \"train_temp\": \"0.1\", \"train_code_ppl\": \"8.732\", \"train_loss_code_pen\": \"0.307\", \"train_loss_smoothness\": \"2.004\", \"train_loss_dense_g\": \"3.953\", \"train_lm_score_sum\": 0.0, \"train_num_pred_chars\": 0.0, \"train_loss_grad_pen\": \"0.093\", \"train_loss_dense_d\": \"0.027\", \"train_loss_token_d\": \"0.026\", \"train_wps\": \"10.4\", \"train_ups\": \"0.07\", \"train_wpb\": \"145.7\", \"train_bsz\": \"145.7\", \"train_num_updates\": \"80432\", \"train_lr_discriminator\": \"0.0005\", \"train_lr_generator\": \"0.0004\", \"train_gnorm\": \"35.389\", \"train_clip\": \"87.5\", \"train_train_wall\": \"220\", \"train_wall\": \"24753\"}\r\n"
     ]
    },
    {
     "name": "stdout",
     "output_type": "stream",
     "text": [
      "[2021-06-07 04:20:40,224][fairseq.trainer][INFO] - begin training epoch 5028\r\n",
      "[2021-06-07 04:20:40,225][fairseq_cli.train][INFO] - Start iterating over samples\r\n"
     ]
    },
    {
     "name": "stdout",
     "output_type": "stream",
     "text": [
      "[2021-06-07 04:24:25,401][fairseq_cli.train][INFO] - begin validation on \"valid\" subset\r\n"
     ]
    },
    {
     "name": "stdout",
     "output_type": "stream",
     "text": [
      "[2021-06-07 04:24:27,930][fairseq.tasks.unpaired_audio_text][INFO] - REF: ɛ n f œ ʂ ə n a d ɵ ʂ ə k t f øː r d eː t s ɔ m h ɛ n d ə p oː ɕ œ r k ɔ n s ɛ t ə n\r\n",
      "[2021-06-07 04:24:27,932][fairseq.tasks.unpaired_audio_text][INFO] - HYP: n ɛ s j œ r œ yː b j uː œ yː k uː ɵ v n ə m œ k ə uː s eː r n v oː n ɪ ŋ k l ɪ l s œ k m k n t a\r\n",
      "[2021-06-07 04:24:27,936][fairseq.tasks.unpaired_audio_text][INFO] - LM [REF]: -53.44462585449219, 0.05339602260269112\r\n",
      "[2021-06-07 04:24:27,936][fairseq.tasks.unpaired_audio_text][INFO] - LM [HYP]: -85.27542877197266, 0.014001879346694633\r\n"
     ]
    },
    {
     "name": "stdout",
     "output_type": "stream",
     "text": [
      "[2021-06-07 04:24:28,458][valid][INFO] - {\"epoch\": 5028, \"valid_loss\": \"1.003\", \"valid_ntokens\": \"3039.79\", \"valid_nsentences\": \"144.214\", \"valid_lm_score_sum\": \"-89770.1\", \"valid_num_pred_chars\": \"48489\", \"valid_vocab_seen_pct\": \"0.891986\", \"valid_uer\": \"100.258\", \"valid_weighted_lm_ppl\": \"75.271\", \"valid_lm_ppl\": \"59.8885\", \"valid_wps\": \"18172.4\", \"valid_wpb\": \"3039.8\", \"valid_bsz\": \"144.2\", \"valid_num_updates\": \"80448\", \"valid_best_weighted_lm_ppl\": \"73.0296\"}\r\n",
      "[2021-06-07 04:24:28,461][fairseq.checkpoint_utils][INFO] - Preparing to save checkpoint for epoch 5028 @ 80448 updates\r\n",
      "[2021-06-07 04:24:28,462][fairseq.trainer][INFO] - Saving checkpoint to /kaggle/working/checkpoint_last.pt\r\n"
     ]
    },
    {
     "name": "stdout",
     "output_type": "stream",
     "text": [
      "[2021-06-07 04:24:28,512][fairseq.trainer][INFO] - Finished saving checkpoint to /kaggle/working/checkpoint_last.pt\r\n",
      "[2021-06-07 04:24:28,512][fairseq.checkpoint_utils][INFO] - Saved checkpoint /kaggle/working/checkpoint_last.pt (epoch 5028 @ 80448 updates, score 75.27097354888998) (writing took 0.0510475539995241 seconds)\r\n",
      "[2021-06-07 04:24:28,513][fairseq_cli.train][INFO] - end of epoch 5028 (average epoch stats below)\r\n",
      "[2021-06-07 04:24:28,515][train][INFO] - {\"epoch\": 5028, \"train_loss\": \"3.435\", \"train_ntokens\": \"145.688\", \"train_nsentences\": \"145.688\", \"train_temp\": \"0.1\", \"train_code_ppl\": \"8.672\", \"train_loss_code_pen\": \"0.323\", \"train_loss_smoothness\": \"2.054\", \"train_loss_dense_g\": \"4.084\", \"train_lm_score_sum\": 0.0, \"train_num_pred_chars\": 0.0, \"train_loss_grad_pen\": \"0.127\", \"train_loss_dense_d\": \"0.025\", \"train_loss_token_d\": \"0.028\", \"train_wps\": \"10.2\", \"train_ups\": \"0.07\", \"train_wpb\": \"145.7\", \"train_bsz\": \"145.7\", \"train_num_updates\": \"80448\", \"train_lr_discriminator\": \"0.0005\", \"train_lr_generator\": \"0.0004\", \"train_gnorm\": \"31.242\", \"train_clip\": \"87.5\", \"train_train_wall\": \"225\", \"train_wall\": \"24981\"}\r\n"
     ]
    },
    {
     "name": "stdout",
     "output_type": "stream",
     "text": [
      "[2021-06-07 04:24:28,577][fairseq.trainer][INFO] - begin training epoch 5029\r\n",
      "[2021-06-07 04:24:28,579][fairseq_cli.train][INFO] - Start iterating over samples\r\n"
     ]
    },
    {
     "name": "stdout",
     "output_type": "stream",
     "text": [
      "[2021-06-07 04:28:33,996][fairseq_cli.train][INFO] - begin validation on \"valid\" subset\r\n"
     ]
    },
    {
     "name": "stdout",
     "output_type": "stream",
     "text": [
      "[2021-06-07 04:28:36,729][fairseq.tasks.unpaired_audio_text][INFO] - REF: ɛ n f œ ʂ ə n a d ɵ ʂ ə k t f øː r d eː t s ɔ m h ɛ n d ə p oː ɕ œ r k ɔ n s ɛ t ə n\r\n",
      "[2021-06-07 04:28:36,731][fairseq.tasks.unpaired_audio_text][INFO] - HYP: n ɛ s j œ r œ yː b j uː œ k uː ɵ v n ə m œ k ə uː s eː r n v oː n ɪ ŋ k l ɪ l s œ m k n t n\r\n",
      "[2021-06-07 04:28:36,735][fairseq.tasks.unpaired_audio_text][INFO] - LM [REF]: -53.44462585449219, 0.05339602260269112\r\n",
      "[2021-06-07 04:28:36,735][fairseq.tasks.unpaired_audio_text][INFO] - LM [HYP]: -81.70059204101562, 0.013904915778492559\r\n"
     ]
    },
    {
     "name": "stdout",
     "output_type": "stream",
     "text": [
      "[2021-06-07 04:28:37,386][valid][INFO] - {\"epoch\": 5029, \"valid_loss\": \"1.001\", \"valid_ntokens\": \"3039.79\", \"valid_nsentences\": \"144.214\", \"valid_lm_score_sum\": \"-89613\", \"valid_num_pred_chars\": \"48350\", \"valid_vocab_seen_pct\": \"0.893728\", \"valid_uer\": \"100.052\", \"valid_weighted_lm_ppl\": \"75.2868\", \"valid_lm_ppl\": \"60.1354\", \"valid_wps\": \"16521.6\", \"valid_wpb\": \"3039.8\", \"valid_bsz\": \"144.2\", \"valid_num_updates\": \"80464\", \"valid_best_weighted_lm_ppl\": \"73.0296\"}\r\n",
      "[2021-06-07 04:28:37,389][fairseq.checkpoint_utils][INFO] - Preparing to save checkpoint for epoch 5029 @ 80464 updates\r\n",
      "[2021-06-07 04:28:37,390][fairseq.trainer][INFO] - Saving checkpoint to /kaggle/working/checkpoint_last.pt\r\n"
     ]
    },
    {
     "name": "stdout",
     "output_type": "stream",
     "text": [
      "[2021-06-07 04:28:37,439][fairseq.trainer][INFO] - Finished saving checkpoint to /kaggle/working/checkpoint_last.pt\r\n",
      "[2021-06-07 04:28:37,439][fairseq.checkpoint_utils][INFO] - Saved checkpoint /kaggle/working/checkpoint_last.pt (epoch 5029 @ 80464 updates, score 75.28682357525271) (writing took 0.04964978899806738 seconds)\r\n",
      "[2021-06-07 04:28:37,439][fairseq_cli.train][INFO] - end of epoch 5029 (average epoch stats below)\r\n",
      "[2021-06-07 04:28:37,442][train][INFO] - {\"epoch\": 5029, \"train_loss\": \"2.955\", \"train_ntokens\": \"145.688\", \"train_nsentences\": \"145.688\", \"train_temp\": \"0.1\", \"train_code_ppl\": \"8.74\", \"train_loss_code_pen\": \"0.309\", \"train_loss_smoothness\": \"2.01\", \"train_loss_dense_g\": \"4.099\", \"train_lm_score_sum\": 0.0, \"train_num_pred_chars\": 0.0, \"train_loss_grad_pen\": \"0.061\", \"train_loss_dense_d\": \"0.026\", \"train_loss_token_d\": \"0.025\", \"train_wps\": \"9.4\", \"train_ups\": \"0.06\", \"train_wpb\": \"145.7\", \"train_bsz\": \"145.7\", \"train_num_updates\": \"80464\", \"train_lr_discriminator\": \"0.0005\", \"train_lr_generator\": \"0.0004\", \"train_gnorm\": \"29.07\", \"train_clip\": \"75\", \"train_train_wall\": \"245\", \"train_wall\": \"25230\"}\r\n"
     ]
    },
    {
     "name": "stdout",
     "output_type": "stream",
     "text": [
      "[2021-06-07 04:28:37,505][fairseq.trainer][INFO] - begin training epoch 5030\r\n",
      "[2021-06-07 04:28:37,506][fairseq_cli.train][INFO] - Start iterating over samples\r\n"
     ]
    },
    {
     "name": "stdout",
     "output_type": "stream",
     "text": [
      "[2021-06-07 04:32:16,798][fairseq_cli.train][INFO] - begin validation on \"valid\" subset\r\n"
     ]
    },
    {
     "name": "stdout",
     "output_type": "stream",
     "text": [
      "[2021-06-07 04:32:19,317][fairseq.tasks.unpaired_audio_text][INFO] - REF: ɛ n f œ ʂ ə n a d ɵ ʂ ə k t f øː r d eː t s ɔ m h ɛ n d ə p oː ɕ œ r k ɔ n s ɛ t ə n\r\n",
      "[2021-06-07 04:32:19,320][fairseq.tasks.unpaired_audio_text][INFO] - HYP: n ɛ s j œ r œ yː b j uː œ k uː ɵ v ə m œ k ə uː s eː r n ɛ oː n ɪ ŋ k l ɪ l s ɔ m k n t n\r\n",
      "[2021-06-07 04:32:19,324][fairseq.tasks.unpaired_audio_text][INFO] - LM [REF]: -53.44462585449219, 0.05339602260269112\r\n",
      "[2021-06-07 04:32:19,324][fairseq.tasks.unpaired_audio_text][INFO] - LM [HYP]: -78.52574157714844, 0.014921757002506326\r\n"
     ]
    },
    {
     "name": "stdout",
     "output_type": "stream",
     "text": [
      "[2021-06-07 04:32:19,849][valid][INFO] - {\"epoch\": 5030, \"valid_loss\": \"1.003\", \"valid_ntokens\": \"3039.79\", \"valid_nsentences\": \"144.214\", \"valid_lm_score_sum\": \"-89675.6\", \"valid_num_pred_chars\": \"48499\", \"valid_vocab_seen_pct\": \"0.88676\", \"valid_uer\": \"100.334\", \"valid_weighted_lm_ppl\": \"75.7721\", \"valid_lm_ppl\": \"59.5828\", \"valid_wps\": \"18151.1\", \"valid_wpb\": \"3039.8\", \"valid_bsz\": \"144.2\", \"valid_num_updates\": \"80480\", \"valid_best_weighted_lm_ppl\": \"73.0296\"}\r\n",
      "[2021-06-07 04:32:19,852][fairseq.checkpoint_utils][INFO] - Preparing to save checkpoint for epoch 5030 @ 80480 updates\r\n",
      "[2021-06-07 04:32:19,853][fairseq.trainer][INFO] - Saving checkpoint to /kaggle/working/checkpoint_last.pt\r\n"
     ]
    },
    {
     "name": "stdout",
     "output_type": "stream",
     "text": [
      "[2021-06-07 04:32:19,902][fairseq.trainer][INFO] - Finished saving checkpoint to /kaggle/working/checkpoint_last.pt\r\n",
      "[2021-06-07 04:32:19,903][fairseq.checkpoint_utils][INFO] - Saved checkpoint /kaggle/working/checkpoint_last.pt (epoch 5030 @ 80480 updates, score 75.77209262848977) (writing took 0.050422714000887936 seconds)\r\n",
      "[2021-06-07 04:32:19,903][fairseq_cli.train][INFO] - end of epoch 5030 (average epoch stats below)\r\n",
      "[2021-06-07 04:32:19,906][train][INFO] - {\"epoch\": 5030, \"train_loss\": \"3.448\", \"train_ntokens\": \"145.688\", \"train_nsentences\": \"145.688\", \"train_temp\": \"0.1\", \"train_code_ppl\": \"8.725\", \"train_loss_code_pen\": \"0.319\", \"train_loss_smoothness\": \"2.038\", \"train_loss_dense_g\": \"4.183\", \"train_lm_score_sum\": 0.0, \"train_num_pred_chars\": 0.0, \"train_loss_grad_pen\": \"0.068\", \"train_loss_dense_d\": \"0.027\", \"train_loss_token_d\": \"0.027\", \"train_wps\": \"10.5\", \"train_ups\": \"0.07\", \"train_wpb\": \"145.7\", \"train_bsz\": \"145.7\", \"train_num_updates\": \"80480\", \"train_lr_discriminator\": \"0.0005\", \"train_lr_generator\": \"0.0004\", \"train_gnorm\": \"28.588\", \"train_clip\": \"75\", \"train_train_wall\": \"219\", \"train_wall\": \"25452\"}\r\n"
     ]
    },
    {
     "name": "stdout",
     "output_type": "stream",
     "text": [
      "[2021-06-07 04:32:19,969][fairseq.trainer][INFO] - begin training epoch 5031\r\n",
      "[2021-06-07 04:32:19,970][fairseq_cli.train][INFO] - Start iterating over samples\r\n"
     ]
    },
    {
     "name": "stdout",
     "output_type": "stream",
     "text": [
      "[2021-06-07 04:36:10,996][fairseq_cli.train][INFO] - begin validation on \"valid\" subset\r\n"
     ]
    },
    {
     "name": "stdout",
     "output_type": "stream",
     "text": [
      "[2021-06-07 04:36:13,917][fairseq.tasks.unpaired_audio_text][INFO] - REF: ɛ n f œ ʂ ə n a d ɵ ʂ ə k t f øː r d eː t s ɔ m h ɛ n d ə p oː ɕ œ r k ɔ n s ɛ t ə n\r\n",
      "[2021-06-07 04:36:13,920][fairseq.tasks.unpaired_audio_text][INFO] - HYP: n ɛ s j œ r œ yː b j uː œ yː k uː ɵ v n ə m œ k ə uː s eː r n v oː n ɪ ŋ k l ɪ l s œ m k n t n\r\n",
      "[2021-06-07 04:36:13,925][fairseq.tasks.unpaired_audio_text][INFO] - LM [REF]: -53.44462585449219, 0.05339602260269112\r\n",
      "[2021-06-07 04:36:13,926][fairseq.tasks.unpaired_audio_text][INFO] - LM [HYP]: -83.26949310302734, 0.014111293341134666\r\n"
     ]
    },
    {
     "name": "stdout",
     "output_type": "stream",
     "text": [
      "[2021-06-07 04:36:14,479][valid][INFO] - {\"epoch\": 5031, \"valid_loss\": \"1.001\", \"valid_ntokens\": \"3039.79\", \"valid_nsentences\": \"144.214\", \"valid_lm_score_sum\": \"-89632.3\", \"valid_num_pred_chars\": \"48405\", \"valid_vocab_seen_pct\": \"0.900697\", \"valid_uer\": \"100.117\", \"valid_weighted_lm_ppl\": \"73.8608\", \"valid_lm_ppl\": \"59.92\", \"valid_wps\": \"17807.2\", \"valid_wpb\": \"3039.8\", \"valid_bsz\": \"144.2\", \"valid_num_updates\": \"80496\", \"valid_best_weighted_lm_ppl\": \"73.0296\"}\r\n",
      "[2021-06-07 04:36:14,483][fairseq.checkpoint_utils][INFO] - Preparing to save checkpoint for epoch 5031 @ 80496 updates\r\n",
      "[2021-06-07 04:36:14,484][fairseq.trainer][INFO] - Saving checkpoint to /kaggle/working/checkpoint_last.pt\r\n"
     ]
    },
    {
     "name": "stdout",
     "output_type": "stream",
     "text": [
      "[2021-06-07 04:36:14,535][fairseq.trainer][INFO] - Finished saving checkpoint to /kaggle/working/checkpoint_last.pt\r\n",
      "[2021-06-07 04:36:14,535][fairseq.checkpoint_utils][INFO] - Saved checkpoint /kaggle/working/checkpoint_last.pt (epoch 5031 @ 80496 updates, score 73.86083570067785) (writing took 0.05283609800244449 seconds)\r\n",
      "[2021-06-07 04:36:14,536][fairseq_cli.train][INFO] - end of epoch 5031 (average epoch stats below)\r\n",
      "[2021-06-07 04:36:14,540][train][INFO] - {\"epoch\": 5031, \"train_loss\": \"3.276\", \"train_ntokens\": \"145.688\", \"train_nsentences\": \"145.688\", \"train_temp\": \"0.1\", \"train_code_ppl\": \"8.602\", \"train_loss_code_pen\": \"0.333\", \"train_loss_smoothness\": \"2.097\", \"train_loss_dense_g\": \"4.166\", \"train_lm_score_sum\": 0.0, \"train_num_pred_chars\": 0.0, \"train_loss_grad_pen\": \"0.141\", \"train_loss_dense_d\": \"0.025\", \"train_loss_token_d\": \"0.022\", \"train_wps\": \"9.9\", \"train_ups\": \"0.07\", \"train_wpb\": \"145.7\", \"train_bsz\": \"145.7\", \"train_num_updates\": \"80496\", \"train_lr_discriminator\": \"0.0005\", \"train_lr_generator\": \"0.0004\", \"train_gnorm\": \"31.51\", \"train_clip\": \"87.5\", \"train_train_wall\": \"231\", \"train_wall\": \"25687\"}\r\n"
     ]
    },
    {
     "name": "stdout",
     "output_type": "stream",
     "text": [
      "[2021-06-07 04:36:14,607][fairseq.trainer][INFO] - begin training epoch 5032\r\n",
      "[2021-06-07 04:36:14,609][fairseq_cli.train][INFO] - Start iterating over samples\r\n"
     ]
    },
    {
     "name": "stdout",
     "output_type": "stream",
     "text": [
      "[2021-06-07 04:37:20,541][train_inner][INFO] - {\"epoch\": 5032, \"update\": 5031.25, \"loss\": \"3.273\", \"ntokens\": \"146.26\", \"nsentences\": \"146.26\", \"temp\": \"0.1\", \"code_ppl\": \"8.704\", \"loss_code_pen\": \"0.318\", \"loss_smoothness\": \"2.041\", \"loss_dense_g\": \"4.108\", \"lm_score_sum\": 0.0, \"num_pred_chars\": 0.0, \"loss_grad_pen\": \"0.088\", \"loss_dense_d\": \"0.026\", \"loss_token_d\": \"0.025\", \"wps\": \"10.1\", \"ups\": \"0.07\", \"wpb\": \"146.3\", \"bsz\": \"146.3\", \"num_updates\": \"80500\", \"lr_discriminator\": \"0.0005\", \"lr_generator\": \"0.0004\", \"gnorm\": \"30.573\", \"clip\": \"78\", \"train_wall\": \"1429\", \"wall\": \"25753\"}\r\n"
     ]
    },
    {
     "name": "stdout",
     "output_type": "stream",
     "text": [
      "[2021-06-07 04:40:04,611][fairseq_cli.train][INFO] - begin validation on \"valid\" subset\r\n"
     ]
    },
    {
     "name": "stdout",
     "output_type": "stream",
     "text": [
      "[2021-06-07 04:40:07,319][fairseq.tasks.unpaired_audio_text][INFO] - REF: ɛ n f œ ʂ ə n a d ɵ ʂ ə k t f øː r d eː t s ɔ m h ɛ n d ə p oː ɕ œ r k ɔ n s ɛ t ə n\r\n",
      "[2021-06-07 04:40:07,322][fairseq.tasks.unpaired_audio_text][INFO] - HYP: n ɛ s j œ r œ yː b j uː œ k uː ɵ v ə m œ k ə uː s eː r n v oː n ɪ ŋ k l ɪ l s œ m k n t a\r\n"
     ]
    },
    {
     "name": "stdout",
     "output_type": "stream",
     "text": [
      "[2021-06-07 04:40:07,327][fairseq.tasks.unpaired_audio_text][INFO] - LM [REF]: -53.44462585449219, 0.05339602260269112\r\n",
      "[2021-06-07 04:40:07,327][fairseq.tasks.unpaired_audio_text][INFO] - LM [HYP]: -79.1307601928711, 0.014446071596840629\r\n"
     ]
    },
    {
     "name": "stdout",
     "output_type": "stream",
     "text": [
      "[2021-06-07 04:40:07,900][valid][INFO] - {\"epoch\": 5032, \"valid_loss\": \"1.002\", \"valid_ntokens\": \"3039.79\", \"valid_nsentences\": \"144.214\", \"valid_lm_score_sum\": \"-89662.7\", \"valid_num_pred_chars\": \"48483\", \"valid_vocab_seen_pct\": \"0.897213\", \"valid_uer\": \"100.19\", \"valid_weighted_lm_ppl\": \"74.0694\", \"valid_lm_ppl\": \"59.6252\", \"valid_wps\": \"16695.6\", \"valid_wpb\": \"3039.8\", \"valid_bsz\": \"144.2\", \"valid_num_updates\": \"80512\", \"valid_best_weighted_lm_ppl\": \"73.0296\"}\r\n",
      "[2021-06-07 04:40:07,904][fairseq.checkpoint_utils][INFO] - Preparing to save checkpoint for epoch 5032 @ 80512 updates\r\n",
      "[2021-06-07 04:40:07,905][fairseq.trainer][INFO] - Saving checkpoint to /kaggle/working/checkpoint_last.pt\r\n"
     ]
    },
    {
     "name": "stdout",
     "output_type": "stream",
     "text": [
      "[2021-06-07 04:40:07,953][fairseq.trainer][INFO] - Finished saving checkpoint to /kaggle/working/checkpoint_last.pt\r\n",
      "[2021-06-07 04:40:07,953][fairseq.checkpoint_utils][INFO] - Saved checkpoint /kaggle/working/checkpoint_last.pt (epoch 5032 @ 80512 updates, score 74.0694080841693) (writing took 0.049351370998920174 seconds)\r\n",
      "[2021-06-07 04:40:07,953][fairseq_cli.train][INFO] - end of epoch 5032 (average epoch stats below)\r\n",
      "[2021-06-07 04:40:07,956][train][INFO] - {\"epoch\": 5032, \"train_loss\": \"3.373\", \"train_ntokens\": \"145.688\", \"train_nsentences\": \"145.688\", \"train_temp\": \"0.1\", \"train_code_ppl\": \"8.708\", \"train_loss_code_pen\": \"0.324\", \"train_loss_smoothness\": \"2.04\", \"train_loss_dense_g\": \"4.5\", \"train_lm_score_sum\": 0.0, \"train_num_pred_chars\": 0.0, \"train_loss_grad_pen\": \"0.072\", \"train_loss_dense_d\": \"0.025\", \"train_loss_token_d\": \"0.03\", \"train_wps\": \"10\", \"train_ups\": \"0.07\", \"train_wpb\": \"145.7\", \"train_bsz\": \"145.7\", \"train_num_updates\": \"80512\", \"train_lr_discriminator\": \"0.0005\", \"train_lr_generator\": \"0.0004\", \"train_gnorm\": \"29.371\", \"train_clip\": \"68.8\", \"train_train_wall\": \"229\", \"train_wall\": \"25920\"}\r\n"
     ]
    },
    {
     "name": "stdout",
     "output_type": "stream",
     "text": [
      "[2021-06-07 04:40:08,020][fairseq.trainer][INFO] - begin training epoch 5033\r\n",
      "[2021-06-07 04:40:08,021][fairseq_cli.train][INFO] - Start iterating over samples\r\n"
     ]
    },
    {
     "name": "stdout",
     "output_type": "stream",
     "text": [
      "[2021-06-07 04:43:56,148][fairseq_cli.train][INFO] - begin validation on \"valid\" subset\r\n"
     ]
    },
    {
     "name": "stdout",
     "output_type": "stream",
     "text": [
      "[2021-06-07 04:43:58,943][fairseq.tasks.unpaired_audio_text][INFO] - REF: ɛ n f œ ʂ ə n a d ɵ ʂ ə k t f øː r d eː t s ɔ m h ɛ n d ə p oː ɕ œ r k ɔ n s ɛ t ə n\r\n",
      "[2021-06-07 04:43:58,946][fairseq.tasks.unpaired_audio_text][INFO] - HYP: n ɛ s j œ r œ yː b j uː œ yː k uː ɵ v b ə m œ k ə uː s eː r n v oː n l ɪ ŋ k l ɪ l s m k n t n\r\n",
      "[2021-06-07 04:43:58,950][fairseq.tasks.unpaired_audio_text][INFO] - LM [REF]: -53.44462585449219, 0.05339602260269112\r\n",
      "[2021-06-07 04:43:58,950][fairseq.tasks.unpaired_audio_text][INFO] - LM [HYP]: -84.84959411621094, 0.013015278456161856\r\n"
     ]
    },
    {
     "name": "stdout",
     "output_type": "stream",
     "text": [
      "[2021-06-07 04:43:59,470][valid][INFO] - {\"epoch\": 5033, \"valid_loss\": \"1.005\", \"valid_ntokens\": \"3039.79\", \"valid_nsentences\": \"144.214\", \"valid_lm_score_sum\": \"-89870.5\", \"valid_num_pred_chars\": \"48614\", \"valid_vocab_seen_pct\": \"0.898955\", \"valid_uer\": \"100.484\", \"valid_weighted_lm_ppl\": \"73.6994\", \"valid_lm_ppl\": \"59.5579\", \"valid_wps\": \"17632\", \"valid_wpb\": \"3039.8\", \"valid_bsz\": \"144.2\", \"valid_num_updates\": \"80528\", \"valid_best_weighted_lm_ppl\": \"73.0296\"}\r\n",
      "[2021-06-07 04:43:59,474][fairseq.checkpoint_utils][INFO] - Preparing to save checkpoint for epoch 5033 @ 80528 updates\r\n",
      "[2021-06-07 04:43:59,475][fairseq.trainer][INFO] - Saving checkpoint to /kaggle/working/checkpoint_last.pt\r\n"
     ]
    },
    {
     "name": "stdout",
     "output_type": "stream",
     "text": [
      "[2021-06-07 04:43:59,523][fairseq.trainer][INFO] - Finished saving checkpoint to /kaggle/working/checkpoint_last.pt\r\n",
      "[2021-06-07 04:43:59,523][fairseq.checkpoint_utils][INFO] - Saved checkpoint /kaggle/working/checkpoint_last.pt (epoch 5033 @ 80528 updates, score 73.69936019444809) (writing took 0.04928245699920808 seconds)\r\n",
      "[2021-06-07 04:43:59,523][fairseq_cli.train][INFO] - end of epoch 5033 (average epoch stats below)\r\n",
      "[2021-06-07 04:43:59,526][train][INFO] - {\"epoch\": 5033, \"train_loss\": \"3.14\", \"train_ntokens\": \"145.688\", \"train_nsentences\": \"145.688\", \"train_temp\": \"0.1\", \"train_code_ppl\": \"8.629\", \"train_loss_code_pen\": \"0.311\", \"train_loss_smoothness\": \"2.018\", \"train_loss_dense_g\": \"4.033\", \"train_lm_score_sum\": 0.0, \"train_num_pred_chars\": 0.0, \"train_loss_grad_pen\": \"0.094\", \"train_loss_dense_d\": \"0.029\", \"train_loss_token_d\": \"0.022\", \"train_wps\": \"10.1\", \"train_ups\": \"0.07\", \"train_wpb\": \"145.7\", \"train_bsz\": \"145.7\", \"train_num_updates\": \"80528\", \"train_lr_discriminator\": \"0.0005\", \"train_lr_generator\": \"0.0004\", \"train_gnorm\": \"30.447\", \"train_clip\": \"87.5\", \"train_train_wall\": \"228\", \"train_wall\": \"26152\"}\r\n"
     ]
    },
    {
     "name": "stdout",
     "output_type": "stream",
     "text": [
      "[2021-06-07 04:43:59,582][fairseq.trainer][INFO] - begin training epoch 5034\r\n",
      "[2021-06-07 04:43:59,584][fairseq_cli.train][INFO] - Start iterating over samples\r\n"
     ]
    },
    {
     "name": "stdout",
     "output_type": "stream",
     "text": [
      "[2021-06-07 04:47:49,857][fairseq_cli.train][INFO] - begin validation on \"valid\" subset\r\n"
     ]
    },
    {
     "name": "stdout",
     "output_type": "stream",
     "text": [
      "[2021-06-07 04:47:52,500][fairseq.tasks.unpaired_audio_text][INFO] - REF: ɛ n f œ ʂ ə n a d ɵ ʂ ə k t f øː r d eː t s ɔ m h ɛ n d ə p oː ɕ œ r k ɔ n s ɛ t ə n\r\n",
      "[2021-06-07 04:47:52,503][fairseq.tasks.unpaired_audio_text][INFO] - HYP: t ɛ n s j œ r œ yː b j uː œ yː k uː ɵ v ə m œ k ə uː s eː r n v oː n l ɪ ŋ k l ɪ l s uː œ m k n t n\r\n"
     ]
    },
    {
     "name": "stdout",
     "output_type": "stream",
     "text": [
      "[2021-06-07 04:47:52,508][fairseq.tasks.unpaired_audio_text][INFO] - LM [REF]: -53.44462585449219, 0.05339602260269112\r\n",
      "[2021-06-07 04:47:52,508][fairseq.tasks.unpaired_audio_text][INFO] - LM [HYP]: -88.48380279541016, 0.013102853882227664\r\n"
     ]
    },
    {
     "name": "stdout",
     "output_type": "stream",
     "text": [
      "[2021-06-07 04:47:53,040][valid][INFO] - {\"epoch\": 5034, \"valid_loss\": \"1.003\", \"valid_ntokens\": \"3039.79\", \"valid_nsentences\": \"144.214\", \"valid_lm_score_sum\": \"-89772.8\", \"valid_num_pred_chars\": \"48529\", \"valid_vocab_seen_pct\": \"0.893728\", \"valid_uer\": \"100.329\", \"valid_weighted_lm_ppl\": \"74.7448\", \"valid_lm_ppl\": \"59.7024\", \"valid_wps\": \"17684.7\", \"valid_wpb\": \"3039.8\", \"valid_bsz\": \"144.2\", \"valid_num_updates\": \"80544\", \"valid_best_weighted_lm_ppl\": \"73.0296\"}\r\n",
      "[2021-06-07 04:47:53,044][fairseq.checkpoint_utils][INFO] - Preparing to save checkpoint for epoch 5034 @ 80544 updates\r\n",
      "[2021-06-07 04:47:53,045][fairseq.trainer][INFO] - Saving checkpoint to /kaggle/working/checkpoint_last.pt\r\n"
     ]
    },
    {
     "name": "stdout",
     "output_type": "stream",
     "text": [
      "[2021-06-07 04:47:53,095][fairseq.trainer][INFO] - Finished saving checkpoint to /kaggle/working/checkpoint_last.pt\r\n",
      "[2021-06-07 04:47:53,095][fairseq.checkpoint_utils][INFO] - Saved checkpoint /kaggle/working/checkpoint_last.pt (epoch 5034 @ 80544 updates, score 74.74480608125755) (writing took 0.05099410099865054 seconds)\r\n",
      "[2021-06-07 04:47:53,096][fairseq_cli.train][INFO] - end of epoch 5034 (average epoch stats below)\r\n",
      "[2021-06-07 04:47:53,099][train][INFO] - {\"epoch\": 5034, \"train_loss\": \"3.355\", \"train_ntokens\": \"145.688\", \"train_nsentences\": \"145.688\", \"train_temp\": \"0.1\", \"train_code_ppl\": \"8.747\", \"train_loss_code_pen\": \"0.33\", \"train_loss_smoothness\": \"2.081\", \"train_loss_dense_g\": \"4.41\", \"train_lm_score_sum\": 0.0, \"train_num_pred_chars\": 0.0, \"train_loss_grad_pen\": \"0.081\", \"train_loss_dense_d\": \"0.024\", \"train_loss_token_d\": \"0.027\", \"train_wps\": \"10\", \"train_ups\": \"0.07\", \"train_wpb\": \"145.7\", \"train_bsz\": \"145.7\", \"train_num_updates\": \"80544\", \"train_lr_discriminator\": \"0.0005\", \"train_lr_generator\": \"0.0004\", \"train_gnorm\": \"29.688\", \"train_clip\": \"75\", \"train_train_wall\": \"230\", \"train_wall\": \"26385\"}\r\n"
     ]
    },
    {
     "name": "stdout",
     "output_type": "stream",
     "text": [
      "[2021-06-07 04:47:53,158][fairseq.trainer][INFO] - begin training epoch 5035\r\n",
      "[2021-06-07 04:47:53,160][fairseq_cli.train][INFO] - Start iterating over samples\r\n"
     ]
    },
    {
     "name": "stdout",
     "output_type": "stream",
     "text": [
      "[2021-06-07 04:51:44,175][fairseq_cli.train][INFO] - begin validation on \"valid\" subset\r\n"
     ]
    },
    {
     "name": "stdout",
     "output_type": "stream",
     "text": [
      "[2021-06-07 04:51:46,855][fairseq.tasks.unpaired_audio_text][INFO] - REF: ɛ n f œ ʂ ə n a d ɵ ʂ ə k t f øː r d eː t s ɔ m h ɛ n d ə p oː ɕ œ r k ɔ n s ɛ t ə n\r\n",
      "[2021-06-07 04:51:46,858][fairseq.tasks.unpaired_audio_text][INFO] - HYP: n ɛ s j œ r œ yː b j uː œ yː k uː ɵ v n ə m œ k ə uː s eː r n v oː n l ɪ ŋ k l ɪ l a s œ m k n t n\r\n",
      "[2021-06-07 04:51:46,862][fairseq.tasks.unpaired_audio_text][INFO] - LM [REF]: -53.44462585449219, 0.05339602260269112\r\n",
      "[2021-06-07 04:51:46,862][fairseq.tasks.unpaired_audio_text][INFO] - LM [HYP]: -87.24993896484375, 0.013919329636783695\r\n"
     ]
    },
    {
     "name": "stdout",
     "output_type": "stream",
     "text": [
      "[2021-06-07 04:51:47,418][valid][INFO] - {\"epoch\": 5035, \"valid_loss\": \"1.002\", \"valid_ntokens\": \"3039.79\", \"valid_nsentences\": \"144.214\", \"valid_lm_score_sum\": \"-89727.3\", \"valid_num_pred_chars\": \"48513\", \"valid_vocab_seen_pct\": \"0.891986\", \"valid_uer\": \"100.233\", \"valid_weighted_lm_ppl\": \"74.9785\", \"valid_lm_ppl\": \"59.6559\", \"valid_wps\": \"17137\", \"valid_wpb\": \"3039.8\", \"valid_bsz\": \"144.2\", \"valid_num_updates\": \"80560\", \"valid_best_weighted_lm_ppl\": \"73.0296\"}\r\n",
      "[2021-06-07 04:51:47,421][fairseq.checkpoint_utils][INFO] - Preparing to save checkpoint for epoch 5035 @ 80560 updates\r\n",
      "[2021-06-07 04:51:47,423][fairseq.trainer][INFO] - Saving checkpoint to /kaggle/working/checkpoint_last.pt\r\n"
     ]
    },
    {
     "name": "stdout",
     "output_type": "stream",
     "text": [
      "[2021-06-07 04:51:47,474][fairseq.trainer][INFO] - Finished saving checkpoint to /kaggle/working/checkpoint_last.pt\r\n",
      "[2021-06-07 04:51:47,474][fairseq.checkpoint_utils][INFO] - Saved checkpoint /kaggle/working/checkpoint_last.pt (epoch 5035 @ 80560 updates, score 74.97853078380469) (writing took 0.052512774000206264 seconds)\r\n",
      "[2021-06-07 04:51:47,474][fairseq_cli.train][INFO] - end of epoch 5035 (average epoch stats below)\r\n",
      "[2021-06-07 04:51:47,478][train][INFO] - {\"epoch\": 5035, \"train_loss\": \"3.194\", \"train_ntokens\": \"145.688\", \"train_nsentences\": \"145.688\", \"train_temp\": \"0.1\", \"train_code_ppl\": \"8.769\", \"train_loss_code_pen\": \"0.328\", \"train_loss_smoothness\": \"2.088\", \"train_loss_dense_g\": \"4.105\", \"train_lm_score_sum\": 0.0, \"train_num_pred_chars\": 0.0, \"train_loss_grad_pen\": \"0.058\", \"train_loss_dense_d\": \"0.023\", \"train_loss_token_d\": \"0.021\", \"train_wps\": \"9.9\", \"train_ups\": \"0.07\", \"train_wpb\": \"145.7\", \"train_bsz\": \"145.7\", \"train_num_updates\": \"80560\", \"train_lr_discriminator\": \"0.0005\", \"train_lr_generator\": \"0.0004\", \"train_gnorm\": \"29.345\", \"train_clip\": \"68.8\", \"train_train_wall\": \"231\", \"train_wall\": \"26620\"}\r\n"
     ]
    },
    {
     "name": "stdout",
     "output_type": "stream",
     "text": [
      "[2021-06-07 04:51:47,542][fairseq.trainer][INFO] - begin training epoch 5036\r\n",
      "[2021-06-07 04:51:47,544][fairseq_cli.train][INFO] - Start iterating over samples\r\n"
     ]
    },
    {
     "name": "stdout",
     "output_type": "stream",
     "text": [
      "[2021-06-07 04:55:20,945][fairseq_cli.train][INFO] - begin validation on \"valid\" subset\r\n"
     ]
    },
    {
     "name": "stdout",
     "output_type": "stream",
     "text": [
      "[2021-06-07 04:55:23,633][fairseq.tasks.unpaired_audio_text][INFO] - REF: ɛ n f œ ʂ ə n a d ɵ ʂ ə k t f øː r d eː t s ɔ m h ɛ n d ə p oː ɕ œ r k ɔ n s ɛ t ə n\r\n",
      "[2021-06-07 04:55:23,636][fairseq.tasks.unpaired_audio_text][INFO] - HYP: n ɛ n s j œ r œ ɕ b j uː œ yː k ɵ uː ɵ v n ə m œ k ə uː s eː r n ɛ oː n l ɪ ŋ k l ɪ l a s œ m k n t n\r\n",
      "[2021-06-07 04:55:23,640][fairseq.tasks.unpaired_audio_text][INFO] - LM [REF]: -53.44462585449219, 0.05339602260269112\r\n",
      "[2021-06-07 04:55:23,640][fairseq.tasks.unpaired_audio_text][INFO] - LM [HYP]: -91.48260498046875, 0.013583386606138777\r\n"
     ]
    },
    {
     "name": "stdout",
     "output_type": "stream",
     "text": [
      "[2021-06-07 04:55:24,160][valid][INFO] - {\"epoch\": 5036, \"valid_loss\": \"1.001\", \"valid_ntokens\": \"3039.79\", \"valid_nsentences\": \"144.214\", \"valid_lm_score_sum\": \"-89762.5\", \"valid_num_pred_chars\": \"48456\", \"valid_vocab_seen_pct\": \"0.89547\", \"valid_uer\": \"100.078\", \"valid_weighted_lm_ppl\": \"74.8604\", \"valid_lm_ppl\": \"60.0281\", \"valid_wps\": \"17408.2\", \"valid_wpb\": \"3039.8\", \"valid_bsz\": \"144.2\", \"valid_num_updates\": \"80576\", \"valid_best_weighted_lm_ppl\": \"73.0296\"}\r\n",
      "[2021-06-07 04:55:24,163][fairseq.checkpoint_utils][INFO] - Preparing to save checkpoint for epoch 5036 @ 80576 updates\r\n",
      "[2021-06-07 04:55:24,164][fairseq.trainer][INFO] - Saving checkpoint to /kaggle/working/checkpoint_last.pt\r\n"
     ]
    },
    {
     "name": "stdout",
     "output_type": "stream",
     "text": [
      "[2021-06-07 04:55:24,212][fairseq.trainer][INFO] - Finished saving checkpoint to /kaggle/working/checkpoint_last.pt\r\n",
      "[2021-06-07 04:55:24,212][fairseq.checkpoint_utils][INFO] - Saved checkpoint /kaggle/working/checkpoint_last.pt (epoch 5036 @ 80576 updates, score 74.86042853342377) (writing took 0.04945672399844625 seconds)\r\n",
      "[2021-06-07 04:55:24,213][fairseq_cli.train][INFO] - end of epoch 5036 (average epoch stats below)\r\n",
      "[2021-06-07 04:55:24,218][train][INFO] - {\"epoch\": 5036, \"train_loss\": \"3.62\", \"train_ntokens\": \"145.688\", \"train_nsentences\": \"145.688\", \"train_temp\": \"0.1\", \"train_code_ppl\": \"8.824\", \"train_loss_code_pen\": \"0.326\", \"train_loss_smoothness\": \"2.073\", \"train_loss_dense_g\": \"4.402\", \"train_lm_score_sum\": 0.0, \"train_num_pred_chars\": 0.0, \"train_loss_grad_pen\": \"0.133\", \"train_loss_dense_d\": \"0.024\", \"train_loss_token_d\": \"0.041\", \"train_wps\": \"10.8\", \"train_ups\": \"0.07\", \"train_wpb\": \"145.7\", \"train_bsz\": \"145.7\", \"train_num_updates\": \"80576\", \"train_lr_discriminator\": \"0.0005\", \"train_lr_generator\": \"0.0004\", \"train_gnorm\": \"34.844\", \"train_clip\": \"75\", \"train_train_wall\": \"213\", \"train_wall\": \"26837\"}\r\n"
     ]
    },
    {
     "name": "stdout",
     "output_type": "stream",
     "text": [
      "[2021-06-07 04:55:24,279][fairseq.trainer][INFO] - begin training epoch 5037\r\n",
      "[2021-06-07 04:55:24,281][fairseq_cli.train][INFO] - Start iterating over samples\r\n"
     ]
    },
    {
     "name": "stdout",
     "output_type": "stream",
     "text": [
      "[2021-06-07 04:58:59,913][fairseq_cli.train][INFO] - begin validation on \"valid\" subset\r\n"
     ]
    },
    {
     "name": "stdout",
     "output_type": "stream",
     "text": [
      "[2021-06-07 04:59:02,548][fairseq.tasks.unpaired_audio_text][INFO] - REF: ɛ n f œ ʂ ə n a d ɵ ʂ ə k t f øː r d eː t s ɔ m h ɛ n d ə p oː ɕ œ r k ɔ n s ɛ t ə n\r\n",
      "[2021-06-07 04:59:02,550][fairseq.tasks.unpaired_audio_text][INFO] - HYP: n ɛ s j œ r œ yː b j uː œ yː k uː ɵ v n ə m œ k b ə uː s eː r n ɛ oː n l ɪ ŋ k l ɪ l a ɔ m k n t n\r\n",
      "[2021-06-07 04:59:02,555][fairseq.tasks.unpaired_audio_text][INFO] - LM [REF]: -53.44462585449219, 0.05339602260269112\r\n",
      "[2021-06-07 04:59:02,555][fairseq.tasks.unpaired_audio_text][INFO] - LM [HYP]: -87.58329010009766, 0.013693855555125763\r\n"
     ]
    },
    {
     "name": "stdout",
     "output_type": "stream",
     "text": [
      "[2021-06-07 04:59:03,079][valid][INFO] - {\"epoch\": 5037, \"valid_loss\": \"1.002\", \"valid_ntokens\": \"3039.79\", \"valid_nsentences\": \"144.214\", \"valid_lm_score_sum\": \"-89785.4\", \"valid_num_pred_chars\": \"48632\", \"valid_vocab_seen_pct\": \"0.891986\", \"valid_uer\": \"100.247\", \"valid_weighted_lm_ppl\": \"74.4581\", \"valid_lm_ppl\": \"59.2418\", \"valid_wps\": \"17620.9\", \"valid_wpb\": \"3039.8\", \"valid_bsz\": \"144.2\", \"valid_num_updates\": \"80592\", \"valid_best_weighted_lm_ppl\": \"73.0296\"}\r\n"
     ]
    },
    {
     "name": "stdout",
     "output_type": "stream",
     "text": [
      "[2021-06-07 04:59:03,083][fairseq.checkpoint_utils][INFO] - Preparing to save checkpoint for epoch 5037 @ 80592 updates\r\n",
      "[2021-06-07 04:59:03,084][fairseq.trainer][INFO] - Saving checkpoint to /kaggle/working/checkpoint_last.pt\r\n",
      "[2021-06-07 04:59:03,133][fairseq.trainer][INFO] - Finished saving checkpoint to /kaggle/working/checkpoint_last.pt\r\n"
     ]
    },
    {
     "name": "stdout",
     "output_type": "stream",
     "text": [
      "[2021-06-07 04:59:03,133][fairseq.checkpoint_utils][INFO] - Saved checkpoint /kaggle/working/checkpoint_last.pt (epoch 5037 @ 80592 updates, score 74.45809961026617) (writing took 0.05040957700111903 seconds)\r\n",
      "[2021-06-07 04:59:03,133][fairseq_cli.train][INFO] - end of epoch 5037 (average epoch stats below)\r\n",
      "[2021-06-07 04:59:03,137][train][INFO] - {\"epoch\": 5037, \"train_loss\": \"3.496\", \"train_ntokens\": \"145.688\", \"train_nsentences\": \"145.688\", \"train_temp\": \"0.1\", \"train_code_ppl\": \"8.726\", \"train_loss_code_pen\": \"0.321\", \"train_loss_smoothness\": \"2.058\", \"train_loss_dense_g\": \"4.255\", \"train_lm_score_sum\": 0.0, \"train_num_pred_chars\": 0.0, \"train_loss_grad_pen\": \"0.071\", \"train_loss_dense_d\": \"0.025\", \"train_loss_token_d\": \"0.025\", \"train_wps\": \"10.6\", \"train_ups\": \"0.07\", \"train_wpb\": \"145.7\", \"train_bsz\": \"145.7\", \"train_num_updates\": \"80592\", \"train_lr_discriminator\": \"0.0005\", \"train_lr_generator\": \"0.0004\", \"train_gnorm\": \"29.726\", \"train_clip\": \"81.2\", \"train_train_wall\": \"215\", \"train_wall\": \"27056\"}\r\n"
     ]
    },
    {
     "name": "stdout",
     "output_type": "stream",
     "text": [
      "[2021-06-07 04:59:03,200][fairseq.trainer][INFO] - begin training epoch 5038\r\n",
      "[2021-06-07 04:59:03,201][fairseq_cli.train][INFO] - Start iterating over samples\r\n"
     ]
    },
    {
     "name": "stdout",
     "output_type": "stream",
     "text": [
      "[2021-06-07 05:01:03,733][train_inner][INFO] - {\"epoch\": 5038, \"update\": 5037.5, \"loss\": \"3.328\", \"ntokens\": \"145.54\", \"nsentences\": \"145.54\", \"temp\": \"0.1\", \"code_ppl\": \"8.694\", \"loss_code_pen\": \"0.32\", \"loss_smoothness\": \"2.05\", \"loss_dense_g\": \"4.258\", \"lm_score_sum\": 0.0, \"num_pred_chars\": 0.0, \"loss_grad_pen\": \"0.084\", \"loss_dense_d\": \"0.025\", \"loss_token_d\": \"0.027\", \"wps\": \"10.2\", \"ups\": \"0.07\", \"wpb\": \"145.5\", \"bsz\": \"145.5\", \"num_updates\": \"80600\", \"lr_discriminator\": \"0.0005\", \"lr_generator\": \"0.0004\", \"gnorm\": \"30.486\", \"clip\": \"75\", \"train_wall\": \"1400\", \"wall\": \"27176\"}\r\n"
     ]
    },
    {
     "name": "stdout",
     "output_type": "stream",
     "text": [
      "[2021-06-07 05:02:37,772][fairseq_cli.train][INFO] - begin validation on \"valid\" subset\r\n"
     ]
    },
    {
     "name": "stdout",
     "output_type": "stream",
     "text": [
      "[2021-06-07 05:02:40,414][fairseq.tasks.unpaired_audio_text][INFO] - REF: ɛ n f œ ʂ ə n a d ɵ ʂ ə k t f øː r d eː t s ɔ m h ɛ n d ə p oː ɕ œ r k ɔ n s ɛ t ə n\r\n",
      "[2021-06-07 05:02:40,417][fairseq.tasks.unpaired_audio_text][INFO] - HYP: n ɛ s j œ r œ yː b j uː œ yː k uː ɵ v n ə m œ k b ə uː s eː r n ɛ oː n l ɪ ŋ k l ɪ l a s œ m k n t n\r\n",
      "[2021-06-07 05:02:40,421][fairseq.tasks.unpaired_audio_text][INFO] - LM [REF]: -53.44462585449219, 0.05339602260269112\r\n",
      "[2021-06-07 05:02:40,422][fairseq.tasks.unpaired_audio_text][INFO] - LM [HYP]: -89.70025634765625, 0.013528344667015942\r\n"
     ]
    },
    {
     "name": "stdout",
     "output_type": "stream",
     "text": [
      "[2021-06-07 05:02:40,947][valid][INFO] - {\"epoch\": 5038, \"valid_loss\": \"1.001\", \"valid_ntokens\": \"3039.79\", \"valid_nsentences\": \"144.214\", \"valid_lm_score_sum\": \"-89541.7\", \"valid_num_pred_chars\": \"48496\", \"valid_vocab_seen_pct\": \"0.893728\", \"valid_uer\": \"100.056\", \"valid_weighted_lm_ppl\": \"74.1593\", \"valid_lm_ppl\": \"59.2347\", \"valid_wps\": \"17769\", \"valid_wpb\": \"3039.8\", \"valid_bsz\": \"144.2\", \"valid_num_updates\": \"80608\", \"valid_best_weighted_lm_ppl\": \"73.0296\"}\r\n",
      "[2021-06-07 05:02:40,950][fairseq.checkpoint_utils][INFO] - Preparing to save checkpoint for epoch 5038 @ 80608 updates\r\n",
      "[2021-06-07 05:02:40,952][fairseq.trainer][INFO] - Saving checkpoint to /kaggle/working/checkpoint_last.pt\r\n"
     ]
    },
    {
     "name": "stdout",
     "output_type": "stream",
     "text": [
      "[2021-06-07 05:02:41,001][fairseq.trainer][INFO] - Finished saving checkpoint to /kaggle/working/checkpoint_last.pt\r\n",
      "[2021-06-07 05:02:41,001][fairseq.checkpoint_utils][INFO] - Saved checkpoint /kaggle/working/checkpoint_last.pt (epoch 5038 @ 80608 updates, score 74.15927318072735) (writing took 0.05061264699907042 seconds)\r\n",
      "[2021-06-07 05:02:41,001][fairseq_cli.train][INFO] - end of epoch 5038 (average epoch stats below)\r\n",
      "[2021-06-07 05:02:41,005][train][INFO] - {\"epoch\": 5038, \"train_loss\": \"3.448\", \"train_ntokens\": \"145.688\", \"train_nsentences\": \"145.688\", \"train_temp\": \"0.1\", \"train_code_ppl\": \"8.665\", \"train_loss_code_pen\": \"0.304\", \"train_loss_smoothness\": \"2.023\", \"train_loss_dense_g\": \"4.212\", \"train_lm_score_sum\": 0.0, \"train_num_pred_chars\": 0.0, \"train_loss_grad_pen\": \"0.069\", \"train_loss_dense_d\": \"0.024\", \"train_loss_token_d\": \"0.029\", \"train_wps\": \"10.7\", \"train_ups\": \"0.07\", \"train_wpb\": \"145.7\", \"train_bsz\": \"145.7\", \"train_num_updates\": \"80608\", \"train_lr_discriminator\": \"0.0005\", \"train_lr_generator\": \"0.0004\", \"train_gnorm\": \"31.163\", \"train_clip\": \"62.5\", \"train_train_wall\": \"214\", \"train_wall\": \"27273\"}\r\n"
     ]
    },
    {
     "name": "stdout",
     "output_type": "stream",
     "text": [
      "[2021-06-07 05:02:41,066][fairseq.trainer][INFO] - begin training epoch 5039\r\n",
      "[2021-06-07 05:02:41,068][fairseq_cli.train][INFO] - Start iterating over samples\r\n"
     ]
    },
    {
     "name": "stdout",
     "output_type": "stream",
     "text": [
      "[2021-06-07 05:06:09,387][fairseq_cli.train][INFO] - begin validation on \"valid\" subset\r\n"
     ]
    },
    {
     "name": "stdout",
     "output_type": "stream",
     "text": [
      "[2021-06-07 05:06:11,946][fairseq.tasks.unpaired_audio_text][INFO] - REF: ɛ n f œ ʂ ə n a d ɵ ʂ ə k t f øː r d eː t s ɔ m h ɛ n d ə p oː ɕ œ r k ɔ n s ɛ t ə n\r\n",
      "[2021-06-07 05:06:11,948][fairseq.tasks.unpaired_audio_text][INFO] - HYP: n ɛ n s j œ r œ yː b j uː œ k uː ɵ v n ə m œ k b ə uː s eː r n ɛ oː n l ɪ ŋ k l ɪ l a ɔ m k n t a\r\n",
      "[2021-06-07 05:06:11,952][fairseq.tasks.unpaired_audio_text][INFO] - LM [REF]: -53.44462585449219, 0.05339602260269112\r\n",
      "[2021-06-07 05:06:11,953][fairseq.tasks.unpaired_audio_text][INFO] - LM [HYP]: -87.13228607177734, 0.013999791667513183\r\n"
     ]
    },
    {
     "name": "stdout",
     "output_type": "stream",
     "text": [
      "[2021-06-07 05:06:12,468][valid][INFO] - {\"epoch\": 5039, \"valid_loss\": \"1.003\", \"valid_ntokens\": \"3039.79\", \"valid_nsentences\": \"144.214\", \"valid_lm_score_sum\": \"-89605.5\", \"valid_num_pred_chars\": \"48512\", \"valid_vocab_seen_pct\": \"0.897213\", \"valid_uer\": \"100.289\", \"valid_weighted_lm_ppl\": \"73.7032\", \"valid_lm_ppl\": \"59.3304\", \"valid_wps\": \"18100.1\", \"valid_wpb\": \"3039.8\", \"valid_bsz\": \"144.2\", \"valid_num_updates\": \"80624\", \"valid_best_weighted_lm_ppl\": \"73.0296\"}\r\n",
      "[2021-06-07 05:06:12,471][fairseq.checkpoint_utils][INFO] - Preparing to save checkpoint for epoch 5039 @ 80624 updates\r\n",
      "[2021-06-07 05:06:12,472][fairseq.trainer][INFO] - Saving checkpoint to /kaggle/working/checkpoint_last.pt\r\n"
     ]
    },
    {
     "name": "stdout",
     "output_type": "stream",
     "text": [
      "[2021-06-07 05:06:12,523][fairseq.trainer][INFO] - Finished saving checkpoint to /kaggle/working/checkpoint_last.pt\r\n",
      "[2021-06-07 05:06:12,523][fairseq.checkpoint_utils][INFO] - Saved checkpoint /kaggle/working/checkpoint_last.pt (epoch 5039 @ 80624 updates, score 73.70320428996223) (writing took 0.05201288700118312 seconds)\r\n",
      "[2021-06-07 05:06:12,523][fairseq_cli.train][INFO] - end of epoch 5039 (average epoch stats below)\r\n"
     ]
    },
    {
     "name": "stdout",
     "output_type": "stream",
     "text": [
      "[2021-06-07 05:06:12,527][train][INFO] - {\"epoch\": 5039, \"train_loss\": \"3.533\", \"train_ntokens\": \"145.688\", \"train_nsentences\": \"145.688\", \"train_temp\": \"0.1\", \"train_code_ppl\": \"8.579\", \"train_loss_code_pen\": \"0.317\", \"train_loss_smoothness\": \"2.075\", \"train_loss_dense_g\": \"3.913\", \"train_lm_score_sum\": 0.0, \"train_num_pred_chars\": 0.0, \"train_loss_grad_pen\": \"0.101\", \"train_loss_dense_d\": \"0.032\", \"train_loss_token_d\": \"0.025\", \"train_wps\": \"11\", \"train_ups\": \"0.08\", \"train_wpb\": \"145.7\", \"train_bsz\": \"145.7\", \"train_num_updates\": \"80624\", \"train_lr_discriminator\": \"0.0005\", \"train_lr_generator\": \"0.0004\", \"train_gnorm\": \"30.952\", \"train_clip\": \"75\", \"train_train_wall\": \"208\", \"train_wall\": \"27485\"}\r\n"
     ]
    },
    {
     "name": "stdout",
     "output_type": "stream",
     "text": [
      "[2021-06-07 05:06:12,586][fairseq.trainer][INFO] - begin training epoch 5040\r\n",
      "[2021-06-07 05:06:12,588][fairseq_cli.train][INFO] - Start iterating over samples\r\n"
     ]
    },
    {
     "name": "stdout",
     "output_type": "stream",
     "text": [
      "[2021-06-07 05:09:59,584][fairseq_cli.train][INFO] - begin validation on \"valid\" subset\r\n"
     ]
    },
    {
     "name": "stdout",
     "output_type": "stream",
     "text": [
      "[2021-06-07 05:10:02,190][fairseq.tasks.unpaired_audio_text][INFO] - REF: ɛ n f œ ʂ ə n a d ɵ ʂ ə k t f øː r d eː t s ɔ m h ɛ n d ə p oː ɕ œ r k ɔ n s ɛ t ə n\r\n",
      "[2021-06-07 05:10:02,193][fairseq.tasks.unpaired_audio_text][INFO] - HYP: n ɡ ɛ s j œ r œ yː b j uː œ yː k uː ɵ v b n ə m œ k b ə uː s eː r n ɛ oː n l ɪ ŋ k l ɪ l a s œ m k n t a\r\n",
      "[2021-06-07 05:10:02,197][fairseq.tasks.unpaired_audio_text][INFO] - LM [REF]: -53.44462585449219, 0.05339602260269112\r\n",
      "[2021-06-07 05:10:02,197][fairseq.tasks.unpaired_audio_text][INFO] - LM [HYP]: -94.31019592285156, 0.012995592402306352\r\n"
     ]
    },
    {
     "name": "stdout",
     "output_type": "stream",
     "text": [
      "[2021-06-07 05:10:02,720][valid][INFO] - {\"epoch\": 5040, \"valid_loss\": \"1.003\", \"valid_ntokens\": \"3039.79\", \"valid_nsentences\": \"144.214\", \"valid_lm_score_sum\": \"-89751.3\", \"valid_num_pred_chars\": \"48515\", \"valid_vocab_seen_pct\": \"0.902439\", \"valid_uer\": \"100.303\", \"valid_weighted_lm_ppl\": \"73.32\", \"valid_lm_ppl\": \"59.7115\", \"valid_wps\": \"17646.4\", \"valid_wpb\": \"3039.8\", \"valid_bsz\": \"144.2\", \"valid_num_updates\": \"80640\", \"valid_best_weighted_lm_ppl\": \"73.0296\"}\r\n",
      "[2021-06-07 05:10:02,724][fairseq.checkpoint_utils][INFO] - Preparing to save checkpoint for epoch 5040 @ 80640 updates\r\n",
      "[2021-06-07 05:10:02,725][fairseq.trainer][INFO] - Saving checkpoint to /kaggle/working/checkpoint_last.pt\r\n"
     ]
    },
    {
     "name": "stdout",
     "output_type": "stream",
     "text": [
      "[2021-06-07 05:10:02,776][fairseq.trainer][INFO] - Finished saving checkpoint to /kaggle/working/checkpoint_last.pt\r\n",
      "[2021-06-07 05:10:02,777][fairseq.checkpoint_utils][INFO] - Saved checkpoint /kaggle/working/checkpoint_last.pt (epoch 5040 @ 80640 updates, score 73.31998919249325) (writing took 0.05311933600023622 seconds)\r\n",
      "[2021-06-07 05:10:02,777][fairseq_cli.train][INFO] - end of epoch 5040 (average epoch stats below)\r\n",
      "[2021-06-07 05:10:02,780][train][INFO] - {\"epoch\": 5040, \"train_loss\": \"3.13\", \"train_ntokens\": \"145.688\", \"train_nsentences\": \"145.688\", \"train_temp\": \"0.1\", \"train_code_ppl\": \"8.767\", \"train_loss_code_pen\": \"0.309\", \"train_loss_smoothness\": \"2.015\", \"train_loss_dense_g\": \"4.023\", \"train_lm_score_sum\": 0.0, \"train_num_pred_chars\": 0.0, \"train_loss_grad_pen\": \"0.089\", \"train_loss_dense_d\": \"0.027\", \"train_loss_token_d\": \"0.024\", \"train_wps\": \"10.1\", \"train_ups\": \"0.07\", \"train_wpb\": \"145.7\", \"train_bsz\": \"145.7\", \"train_num_updates\": \"80640\", \"train_lr_discriminator\": \"0.0005\", \"train_lr_generator\": \"0.0004\", \"train_gnorm\": \"30.071\", \"train_clip\": \"87.5\", \"train_train_wall\": \"226\", \"train_wall\": \"27715\"}\r\n"
     ]
    },
    {
     "name": "stdout",
     "output_type": "stream",
     "text": [
      "[2021-06-07 05:10:03,112][fairseq.trainer][INFO] - begin training epoch 5041\r\n",
      "[2021-06-07 05:10:03,114][fairseq_cli.train][INFO] - Start iterating over samples\r\n"
     ]
    },
    {
     "name": "stdout",
     "output_type": "stream",
     "text": [
      "[2021-06-07 05:13:40,736][fairseq_cli.train][INFO] - begin validation on \"valid\" subset\r\n"
     ]
    },
    {
     "name": "stdout",
     "output_type": "stream",
     "text": [
      "[2021-06-07 05:13:43,363][fairseq.tasks.unpaired_audio_text][INFO] - REF: ɛ n f œ ʂ ə n a d ɵ ʂ ə k t f øː r d eː t s ɔ m h ɛ n d ə p oː ɕ œ r k ɔ n s ɛ t ə n\r\n",
      "[2021-06-07 05:13:43,366][fairseq.tasks.unpaired_audio_text][INFO] - HYP: n ɛ s j œ r œ ʂ yː b j uː œ k uː ɵ v b n ə m œ k b ə uː s eː r n ɛ oː n l ɪ ŋ k l ɪ l a s ɔ m k n a\r\n"
     ]
    },
    {
     "name": "stdout",
     "output_type": "stream",
     "text": [
      "[2021-06-07 05:13:43,370][fairseq.tasks.unpaired_audio_text][INFO] - LM [REF]: -53.44462585449219, 0.05339602260269112\r\n",
      "[2021-06-07 05:13:43,371][fairseq.tasks.unpaired_audio_text][INFO] - LM [HYP]: -86.6698226928711, 0.015645112626250655\r\n"
     ]
    },
    {
     "name": "stdout",
     "output_type": "stream",
     "text": [
      "[2021-06-07 05:13:43,916][valid][INFO] - {\"epoch\": 5041, \"valid_loss\": \"1.004\", \"valid_ntokens\": \"3039.79\", \"valid_nsentences\": \"144.214\", \"valid_lm_score_sum\": \"-89688.1\", \"valid_num_pred_chars\": \"48604\", \"valid_vocab_seen_pct\": \"0.898955\", \"valid_uer\": \"100.397\", \"valid_weighted_lm_ppl\": \"73.1494\", \"valid_lm_ppl\": \"59.1135\", \"valid_wps\": \"17442.5\", \"valid_wpb\": \"3039.8\", \"valid_bsz\": \"144.2\", \"valid_num_updates\": \"80656\", \"valid_best_weighted_lm_ppl\": \"73.0296\"}\r\n",
      "[2021-06-07 05:13:43,920][fairseq.checkpoint_utils][INFO] - Preparing to save checkpoint for epoch 5041 @ 80656 updates\r\n",
      "[2021-06-07 05:13:43,921][fairseq.trainer][INFO] - Saving checkpoint to /kaggle/working/checkpoint_last.pt\r\n"
     ]
    },
    {
     "name": "stdout",
     "output_type": "stream",
     "text": [
      "[2021-06-07 05:13:43,973][fairseq.trainer][INFO] - Finished saving checkpoint to /kaggle/working/checkpoint_last.pt\r\n",
      "[2021-06-07 05:13:43,973][fairseq.checkpoint_utils][INFO] - Saved checkpoint /kaggle/working/checkpoint_last.pt (epoch 5041 @ 80656 updates, score 73.14939847453512) (writing took 0.053729506998934085 seconds)\r\n",
      "[2021-06-07 05:13:43,974][fairseq_cli.train][INFO] - end of epoch 5041 (average epoch stats below)\r\n",
      "[2021-06-07 05:13:43,977][train][INFO] - {\"epoch\": 5041, \"train_loss\": \"3.37\", \"train_ntokens\": \"145.688\", \"train_nsentences\": \"145.688\", \"train_temp\": \"0.1\", \"train_code_ppl\": \"8.677\", \"train_loss_code_pen\": \"0.305\", \"train_loss_smoothness\": \"2.011\", \"train_loss_dense_g\": \"4\", \"train_lm_score_sum\": 0.0, \"train_num_pred_chars\": 0.0, \"train_loss_grad_pen\": \"0.152\", \"train_loss_dense_d\": \"0.022\", \"train_loss_token_d\": \"0.027\", \"train_wps\": \"10.5\", \"train_ups\": \"0.07\", \"train_wpb\": \"145.7\", \"train_bsz\": \"145.7\", \"train_num_updates\": \"80656\", \"train_lr_discriminator\": \"0.0005\", \"train_lr_generator\": \"0.0004\", \"train_gnorm\": \"31.513\", \"train_clip\": \"93.8\", \"train_train_wall\": \"217\", \"train_wall\": \"27936\"}\r\n"
     ]
    },
    {
     "name": "stdout",
     "output_type": "stream",
     "text": [
      "[2021-06-07 05:13:44,039][fairseq.trainer][INFO] - begin training epoch 5042\r\n",
      "[2021-06-07 05:13:44,040][fairseq_cli.train][INFO] - Start iterating over samples\r\n"
     ]
    },
    {
     "name": "stdout",
     "output_type": "stream",
     "text": [
      "[2021-06-07 05:17:22,093][fairseq_cli.train][INFO] - begin validation on \"valid\" subset\r\n"
     ]
    },
    {
     "name": "stdout",
     "output_type": "stream",
     "text": [
      "[2021-06-07 05:17:24,725][fairseq.tasks.unpaired_audio_text][INFO] - REF: ɛ n f œ ʂ ə n a d ɵ ʂ ə k t f øː r d eː t s ɔ m h ɛ n d ə p oː ɕ œ r k ɔ n s ɛ t ə n\r\n",
      "[2021-06-07 05:17:24,729][fairseq.tasks.unpaired_audio_text][INFO] - HYP: n ɛ s j œ r œ yː b j uː œ yː k uː ɵ v n ə m œ k b ə uː s eː r n ɛ oː n l ɪ ŋ k l ɪ l a s ɔ m k n\r\n",
      "[2021-06-07 05:17:24,734][fairseq.tasks.unpaired_audio_text][INFO] - LM [REF]: -53.44462585449219, 0.05339602260269112\r\n",
      "[2021-06-07 05:17:24,734][fairseq.tasks.unpaired_audio_text][INFO] - LM [HYP]: -82.95785522460938, 0.015724192961494698\r\n"
     ]
    },
    {
     "name": "stdout",
     "output_type": "stream",
     "text": [
      "[2021-06-07 05:17:25,258][valid][INFO] - {\"epoch\": 5042, \"valid_loss\": \"1.001\", \"valid_ntokens\": \"3039.79\", \"valid_nsentences\": \"144.214\", \"valid_lm_score_sum\": \"-89577.4\", \"valid_num_pred_chars\": \"48441\", \"valid_vocab_seen_pct\": \"0.89547\", \"valid_uer\": \"100.073\", \"valid_weighted_lm_ppl\": \"74.3215\", \"valid_lm_ppl\": \"59.596\", \"valid_wps\": \"17546.4\", \"valid_wpb\": \"3039.8\", \"valid_bsz\": \"144.2\", \"valid_num_updates\": \"80672\", \"valid_best_weighted_lm_ppl\": \"73.0296\"}\r\n",
      "[2021-06-07 05:17:25,261][fairseq.checkpoint_utils][INFO] - Preparing to save checkpoint for epoch 5042 @ 80672 updates\r\n",
      "[2021-06-07 05:17:25,263][fairseq.trainer][INFO] - Saving checkpoint to /kaggle/working/checkpoint_last.pt\r\n"
     ]
    },
    {
     "name": "stdout",
     "output_type": "stream",
     "text": [
      "[2021-06-07 05:17:25,308][fairseq.trainer][INFO] - Finished saving checkpoint to /kaggle/working/checkpoint_last.pt\r\n",
      "[2021-06-07 05:17:25,309][fairseq.checkpoint_utils][INFO] - Saved checkpoint /kaggle/working/checkpoint_last.pt (epoch 5042 @ 80672 updates, score 74.32148880707095) (writing took 0.047418666999874404 seconds)\r\n",
      "[2021-06-07 05:17:25,309][fairseq_cli.train][INFO] - end of epoch 5042 (average epoch stats below)\r\n",
      "[2021-06-07 05:17:25,313][train][INFO] - {\"epoch\": 5042, \"train_loss\": \"3.367\", \"train_ntokens\": \"145.688\", \"train_nsentences\": \"145.688\", \"train_temp\": \"0.1\", \"train_code_ppl\": \"8.508\", \"train_loss_code_pen\": \"0.304\", \"train_loss_smoothness\": \"2.007\", \"train_loss_dense_g\": \"4.043\", \"train_lm_score_sum\": 0.0, \"train_num_pred_chars\": 0.0, \"train_loss_grad_pen\": \"0.098\", \"train_loss_dense_d\": \"0.028\", \"train_loss_token_d\": \"0.028\", \"train_wps\": \"10.5\", \"train_ups\": \"0.07\", \"train_wpb\": \"145.7\", \"train_bsz\": \"145.7\", \"train_num_updates\": \"80672\", \"train_lr_discriminator\": \"0.0005\", \"train_lr_generator\": \"0.0004\", \"train_gnorm\": \"31.7\", \"train_clip\": \"75\", \"train_train_wall\": \"218\", \"train_wall\": \"28158\"}\r\n"
     ]
    },
    {
     "name": "stdout",
     "output_type": "stream",
     "text": [
      "[2021-06-07 05:17:25,375][fairseq.trainer][INFO] - begin training epoch 5043\r\n",
      "[2021-06-07 05:17:25,376][fairseq_cli.train][INFO] - Start iterating over samples\r\n"
     ]
    },
    {
     "name": "stdout",
     "output_type": "stream",
     "text": [
      "[2021-06-07 05:21:26,000][fairseq_cli.train][INFO] - begin validation on \"valid\" subset\r\n"
     ]
    },
    {
     "name": "stdout",
     "output_type": "stream",
     "text": [
      "[2021-06-07 05:21:28,668][fairseq.tasks.unpaired_audio_text][INFO] - REF: ɛ n f œ ʂ ə n a d ɵ ʂ ə k t f øː r d eː t s ɔ m h ɛ n d ə p oː ɕ œ r k ɔ n s ɛ t ə n\r\n",
      "[2021-06-07 05:21:28,670][fairseq.tasks.unpaired_audio_text][INFO] - HYP: n ɛ s j œ r œ yː b j uː œ yː k uː ɵ b n ə m œ k b ə uː s eː r n ɛ oː n l ɪ ŋ k l ɪ l a s œ m k n t a\r\n",
      "[2021-06-07 05:21:28,674][fairseq.tasks.unpaired_audio_text][INFO] - LM [REF]: -53.44462585449219, 0.05339602260269112\r\n",
      "[2021-06-07 05:21:28,674][fairseq.tasks.unpaired_audio_text][INFO] - LM [HYP]: -89.44255065917969, 0.01369662381929289\r\n"
     ]
    },
    {
     "name": "stdout",
     "output_type": "stream",
     "text": [
      "[2021-06-07 05:21:29,198][valid][INFO] - {\"epoch\": 5043, \"valid_loss\": \"1\", \"valid_ntokens\": \"3039.79\", \"valid_nsentences\": \"144.214\", \"valid_lm_score_sum\": \"-89502.4\", \"valid_num_pred_chars\": \"48352\", \"valid_vocab_seen_pct\": \"0.897213\", \"valid_uer\": \"100.047\", \"valid_weighted_lm_ppl\": \"74.3144\", \"valid_lm_ppl\": \"59.8223\", \"valid_wps\": \"17591.6\", \"valid_wpb\": \"3039.8\", \"valid_bsz\": \"144.2\", \"valid_num_updates\": \"80688\", \"valid_best_weighted_lm_ppl\": \"73.0296\"}\r\n"
     ]
    },
    {
     "name": "stdout",
     "output_type": "stream",
     "text": [
      "[2021-06-07 05:21:29,201][fairseq.checkpoint_utils][INFO] - Preparing to save checkpoint for epoch 5043 @ 80688 updates\r\n",
      "[2021-06-07 05:21:29,202][fairseq.trainer][INFO] - Saving checkpoint to /kaggle/working/checkpoint_last.pt\r\n",
      "[2021-06-07 05:21:29,250][fairseq.trainer][INFO] - Finished saving checkpoint to /kaggle/working/checkpoint_last.pt\r\n",
      "[2021-06-07 05:21:29,251][fairseq.checkpoint_utils][INFO] - Saved checkpoint /kaggle/working/checkpoint_last.pt (epoch 5043 @ 80688 updates, score 74.3143688985081) (writing took 0.04949192999993102 seconds)\r\n",
      "[2021-06-07 05:21:29,251][fairseq_cli.train][INFO] - end of epoch 5043 (average epoch stats below)\r\n"
     ]
    },
    {
     "name": "stdout",
     "output_type": "stream",
     "text": [
      "[2021-06-07 05:21:29,256][train][INFO] - {\"epoch\": 5043, \"train_loss\": \"3.239\", \"train_ntokens\": \"145.688\", \"train_nsentences\": \"145.688\", \"train_temp\": \"0.1\", \"train_code_ppl\": \"8.589\", \"train_loss_code_pen\": \"0.332\", \"train_loss_smoothness\": \"2.084\", \"train_loss_dense_g\": \"4.191\", \"train_lm_score_sum\": 0.0, \"train_num_pred_chars\": 0.0, \"train_loss_grad_pen\": \"0.057\", \"train_loss_dense_d\": \"0.028\", \"train_loss_token_d\": \"0.024\", \"train_wps\": \"9.6\", \"train_ups\": \"0.07\", \"train_wpb\": \"145.7\", \"train_bsz\": \"145.7\", \"train_num_updates\": \"80688\", \"train_lr_discriminator\": \"0.0005\", \"train_lr_generator\": \"0.0004\", \"train_gnorm\": \"28.797\", \"train_clip\": \"68.8\", \"train_train_wall\": \"240\", \"train_wall\": \"28402\"}\r\n"
     ]
    },
    {
     "name": "stdout",
     "output_type": "stream",
     "text": [
      "[2021-06-07 05:21:29,321][fairseq.trainer][INFO] - begin training epoch 5044\r\n",
      "[2021-06-07 05:21:29,322][fairseq_cli.train][INFO] - Start iterating over samples\r\n"
     ]
    },
    {
     "name": "stdout",
     "output_type": "stream",
     "text": [
      "[2021-06-07 05:24:33,315][train_inner][INFO] - {\"epoch\": 5044, \"update\": 5043.75, \"loss\": \"3.329\", \"ntokens\": \"145.41\", \"nsentences\": \"145.41\", \"temp\": \"0.1\", \"code_ppl\": \"8.678\", \"loss_code_pen\": \"0.312\", \"loss_smoothness\": \"2.037\", \"loss_dense_g\": \"4.062\", \"lm_score_sum\": 0.0, \"num_pred_chars\": 0.0, \"loss_grad_pen\": \"0.096\", \"loss_dense_d\": \"0.026\", \"loss_token_d\": \"0.026\", \"wps\": \"10.3\", \"ups\": \"0.07\", \"wpb\": \"145.4\", \"bsz\": \"145.4\", \"num_updates\": \"80700\", \"lr_discriminator\": \"0.0005\", \"lr_generator\": \"0.0004\", \"gnorm\": \"30.907\", \"clip\": \"80\", \"train_wall\": \"1387\", \"wall\": \"28586\"}\r\n"
     ]
    },
    {
     "name": "stdout",
     "output_type": "stream",
     "text": [
      "[2021-06-07 05:25:32,065][fairseq_cli.train][INFO] - begin validation on \"valid\" subset\r\n"
     ]
    },
    {
     "name": "stdout",
     "output_type": "stream",
     "text": [
      "[2021-06-07 05:25:35,330][fairseq.tasks.unpaired_audio_text][INFO] - REF: ɛ n f œ ʂ ə n a d ɵ ʂ ə k t f øː r d eː t s ɔ m h ɛ n d ə p oː ɕ œ r k ɔ n s ɛ t ə n\r\n",
      "[2021-06-07 05:25:35,333][fairseq.tasks.unpaired_audio_text][INFO] - HYP: n ɛ s j œ r œ yː b j uː œ yː k uː ɵ n ə m œ k b ə uː s eː r n ɛ oː n l ɪ ŋ k l ɪ l s œ m k n\r\n",
      "[2021-06-07 05:25:35,337][fairseq.tasks.unpaired_audio_text][INFO] - LM [REF]: -53.44462585449219, 0.05339602260269112\r\n",
      "[2021-06-07 05:25:35,338][fairseq.tasks.unpaired_audio_text][INFO] - LM [HYP]: -82.31940460205078, 0.013461840508214454\r\n"
     ]
    },
    {
     "name": "stdout",
     "output_type": "stream",
     "text": [
      "[2021-06-07 05:25:35,886][valid][INFO] - {\"epoch\": 5044, \"valid_loss\": \"1.002\", \"valid_ntokens\": \"3039.79\", \"valid_nsentences\": \"144.214\", \"valid_lm_score_sum\": \"-89533\", \"valid_num_pred_chars\": \"48469\", \"valid_vocab_seen_pct\": \"0.893728\", \"valid_uer\": \"100.164\", \"valid_weighted_lm_ppl\": \"74.2918\", \"valid_lm_ppl\": \"59.3406\", \"valid_wps\": \"15585\", \"valid_wpb\": \"3039.8\", \"valid_bsz\": \"144.2\", \"valid_num_updates\": \"80704\", \"valid_best_weighted_lm_ppl\": \"73.0296\"}\r\n",
      "[2021-06-07 05:25:35,890][fairseq.checkpoint_utils][INFO] - Preparing to save checkpoint for epoch 5044 @ 80704 updates\r\n"
     ]
    },
    {
     "name": "stdout",
     "output_type": "stream",
     "text": [
      "[2021-06-07 05:25:35,891][fairseq.trainer][INFO] - Saving checkpoint to /kaggle/working/checkpoint_last.pt\r\n",
      "[2021-06-07 05:25:35,938][fairseq.trainer][INFO] - Finished saving checkpoint to /kaggle/working/checkpoint_last.pt\r\n",
      "[2021-06-07 05:25:35,939][fairseq.checkpoint_utils][INFO] - Saved checkpoint /kaggle/working/checkpoint_last.pt (epoch 5044 @ 80704 updates, score 74.2918243741734) (writing took 0.04912505299944314 seconds)\r\n",
      "[2021-06-07 05:25:35,939][fairseq_cli.train][INFO] - end of epoch 5044 (average epoch stats below)\r\n"
     ]
    },
    {
     "name": "stdout",
     "output_type": "stream",
     "text": [
      "[2021-06-07 05:25:35,942][train][INFO] - {\"epoch\": 5044, \"train_loss\": \"2.963\", \"train_ntokens\": \"145.688\", \"train_nsentences\": \"145.688\", \"train_temp\": \"0.1\", \"train_code_ppl\": \"8.453\", \"train_loss_code_pen\": \"0.307\", \"train_loss_smoothness\": \"1.995\", \"train_loss_dense_g\": \"4.111\", \"train_lm_score_sum\": 0.0, \"train_num_pred_chars\": 0.0, \"train_loss_grad_pen\": \"0.083\", \"train_loss_dense_d\": \"0.024\", \"train_loss_token_d\": \"0.023\", \"train_wps\": \"9.4\", \"train_ups\": \"0.06\", \"train_wpb\": \"145.7\", \"train_bsz\": \"145.7\", \"train_num_updates\": \"80704\", \"train_lr_discriminator\": \"0.0005\", \"train_lr_generator\": \"0.0004\", \"train_gnorm\": \"30.662\", \"train_clip\": \"81.2\", \"train_train_wall\": \"242\", \"train_wall\": \"28648\"}\r\n"
     ]
    },
    {
     "name": "stdout",
     "output_type": "stream",
     "text": [
      "[2021-06-07 05:25:36,008][fairseq.trainer][INFO] - begin training epoch 5045\r\n",
      "[2021-06-07 05:25:36,009][fairseq_cli.train][INFO] - Start iterating over samples\r\n"
     ]
    },
    {
     "name": "stdout",
     "output_type": "stream",
     "text": [
      "[2021-06-07 05:29:24,969][fairseq_cli.train][INFO] - begin validation on \"valid\" subset\r\n"
     ]
    },
    {
     "name": "stdout",
     "output_type": "stream",
     "text": [
      "[2021-06-07 05:29:27,566][fairseq.tasks.unpaired_audio_text][INFO] - REF: ɛ n f œ ʂ ə n a d ɵ ʂ ə k t f øː r d eː t s ɔ m h ɛ n d ə p oː ɕ œ r k ɔ n s ɛ t ə n\r\n",
      "[2021-06-07 05:29:27,568][fairseq.tasks.unpaired_audio_text][INFO] - HYP: n ɛ s j œ r œ yː b j uː œ k uː ɵ n ə m œ k b ə uː s eː r n ɛ oː n l ɪ ŋ k l ɪ l a s ɔ m k n t a\r\n",
      "[2021-06-07 05:29:27,572][fairseq.tasks.unpaired_audio_text][INFO] - LM [REF]: -53.44462585449219, 0.05339602260269112\r\n",
      "[2021-06-07 05:29:27,573][fairseq.tasks.unpaired_audio_text][INFO] - LM [HYP]: -81.95091247558594, 0.016537064657964257\r\n"
     ]
    },
    {
     "name": "stdout",
     "output_type": "stream",
     "text": [
      "[2021-06-07 05:29:28,095][valid][INFO] - {\"epoch\": 5045, \"valid_loss\": \"1.001\", \"valid_ntokens\": \"3039.79\", \"valid_nsentences\": \"144.214\", \"valid_lm_score_sum\": \"-89443.7\", \"valid_num_pred_chars\": \"48361\", \"valid_vocab_seen_pct\": \"0.89547\", \"valid_uer\": \"100.11\", \"valid_weighted_lm_ppl\": \"74.3495\", \"valid_lm_ppl\": \"59.6185\", \"valid_wps\": \"17875.2\", \"valid_wpb\": \"3039.8\", \"valid_bsz\": \"144.2\", \"valid_num_updates\": \"80720\", \"valid_best_weighted_lm_ppl\": \"73.0296\"}\r\n",
      "[2021-06-07 05:29:28,099][fairseq.checkpoint_utils][INFO] - Preparing to save checkpoint for epoch 5045 @ 80720 updates\r\n",
      "[2021-06-07 05:29:28,100][fairseq.trainer][INFO] - Saving checkpoint to /kaggle/working/checkpoint_last.pt\r\n"
     ]
    },
    {
     "name": "stdout",
     "output_type": "stream",
     "text": [
      "[2021-06-07 05:29:28,149][fairseq.trainer][INFO] - Finished saving checkpoint to /kaggle/working/checkpoint_last.pt\r\n",
      "[2021-06-07 05:29:28,150][fairseq.checkpoint_utils][INFO] - Saved checkpoint /kaggle/working/checkpoint_last.pt (epoch 5045 @ 80720 updates, score 74.3495380679712) (writing took 0.05094091999853845 seconds)\r\n",
      "[2021-06-07 05:29:28,150][fairseq_cli.train][INFO] - end of epoch 5045 (average epoch stats below)\r\n",
      "[2021-06-07 05:29:28,153][train][INFO] - {\"epoch\": 5045, \"train_loss\": \"3.153\", \"train_ntokens\": \"145.688\", \"train_nsentences\": \"145.688\", \"train_temp\": \"0.1\", \"train_code_ppl\": \"8.715\", \"train_loss_code_pen\": \"0.315\", \"train_loss_smoothness\": \"2.047\", \"train_loss_dense_g\": \"4.057\", \"train_lm_score_sum\": 0.0, \"train_num_pred_chars\": 0.0, \"train_loss_grad_pen\": \"0.07\", \"train_loss_dense_d\": \"0.023\", \"train_loss_token_d\": \"0.025\", \"train_wps\": \"10\", \"train_ups\": \"0.07\", \"train_wpb\": \"145.7\", \"train_bsz\": \"145.7\", \"train_num_updates\": \"80720\", \"train_lr_discriminator\": \"0.0005\", \"train_lr_generator\": \"0.0004\", \"train_gnorm\": \"29.135\", \"train_clip\": \"68.8\", \"train_train_wall\": \"229\", \"train_wall\": \"28881\"}\r\n"
     ]
    },
    {
     "name": "stdout",
     "output_type": "stream",
     "text": [
      "[2021-06-07 05:29:28,212][fairseq.trainer][INFO] - begin training epoch 5046\r\n",
      "[2021-06-07 05:29:28,213][fairseq_cli.train][INFO] - Start iterating over samples\r\n"
     ]
    },
    {
     "name": "stdout",
     "output_type": "stream",
     "text": [
      "[2021-06-07 05:32:56,391][fairseq_cli.train][INFO] - begin validation on \"valid\" subset\r\n"
     ]
    },
    {
     "name": "stdout",
     "output_type": "stream",
     "text": [
      "[2021-06-07 05:32:58,991][fairseq.tasks.unpaired_audio_text][INFO] - REF: ɛ n f œ ʂ ə n a d ɵ ʂ ə k t f øː r d eː t s ɔ m h ɛ n d ə p oː ɕ œ r k ɔ n s ɛ t ə n\r\n",
      "[2021-06-07 05:32:58,993][fairseq.tasks.unpaired_audio_text][INFO] - HYP: t ɛ s j œ r œ yː b j uː œ yː k uː ɵ v n ə m œ k b ə uː s eː r n v oː n l ɪ ŋ k l ɪ l a s ɔ m k n t a\r\n",
      "[2021-06-07 05:32:58,998][fairseq.tasks.unpaired_audio_text][INFO] - LM [REF]: -53.44462585449219, 0.05339602260269112\r\n",
      "[2021-06-07 05:32:58,998][fairseq.tasks.unpaired_audio_text][INFO] - LM [HYP]: -86.59886169433594, 0.01569845990243816\r\n"
     ]
    },
    {
     "name": "stdout",
     "output_type": "stream",
     "text": [
      "[2021-06-07 05:32:59,524][valid][INFO] - {\"epoch\": 5046, \"valid_loss\": \"1.003\", \"valid_ntokens\": \"3039.79\", \"valid_nsentences\": \"144.214\", \"valid_lm_score_sum\": \"-89716.9\", \"valid_num_pred_chars\": \"48501\", \"valid_vocab_seen_pct\": \"0.891986\", \"valid_uer\": \"100.308\", \"valid_weighted_lm_ppl\": \"75.0159\", \"valid_lm_ppl\": \"59.6856\", \"valid_wps\": \"17701.2\", \"valid_wpb\": \"3039.8\", \"valid_bsz\": \"144.2\", \"valid_num_updates\": \"80736\", \"valid_best_weighted_lm_ppl\": \"73.0296\"}\r\n",
      "[2021-06-07 05:32:59,528][fairseq.checkpoint_utils][INFO] - Preparing to save checkpoint for epoch 5046 @ 80736 updates\r\n",
      "[2021-06-07 05:32:59,529][fairseq.trainer][INFO] - Saving checkpoint to /kaggle/working/checkpoint_last.pt\r\n"
     ]
    },
    {
     "name": "stdout",
     "output_type": "stream",
     "text": [
      "[2021-06-07 05:32:59,577][fairseq.trainer][INFO] - Finished saving checkpoint to /kaggle/working/checkpoint_last.pt\r\n",
      "[2021-06-07 05:32:59,577][fairseq.checkpoint_utils][INFO] - Saved checkpoint /kaggle/working/checkpoint_last.pt (epoch 5046 @ 80736 updates, score 75.01590760258654) (writing took 0.0494230090007477 seconds)\r\n",
      "[2021-06-07 05:32:59,578][fairseq_cli.train][INFO] - end of epoch 5046 (average epoch stats below)\r\n",
      "[2021-06-07 05:32:59,581][train][INFO] - {\"epoch\": 5046, \"train_loss\": \"3.72\", \"train_ntokens\": \"145.688\", \"train_nsentences\": \"145.688\", \"train_temp\": \"0.1\", \"train_code_ppl\": \"8.813\", \"train_loss_code_pen\": \"0.332\", \"train_loss_smoothness\": \"2.122\", \"train_loss_dense_g\": \"4.199\", \"train_lm_score_sum\": 0.0, \"train_num_pred_chars\": 0.0, \"train_loss_grad_pen\": \"0.089\", \"train_loss_dense_d\": \"0.028\", \"train_loss_token_d\": \"0.031\", \"train_wps\": \"11\", \"train_ups\": \"0.08\", \"train_wpb\": \"145.7\", \"train_bsz\": \"145.7\", \"train_num_updates\": \"80736\", \"train_lr_discriminator\": \"0.0005\", \"train_lr_generator\": \"0.0004\", \"train_gnorm\": \"33.057\", \"train_clip\": \"75\", \"train_train_wall\": \"208\", \"train_wall\": \"29092\"}\r\n"
     ]
    },
    {
     "name": "stdout",
     "output_type": "stream",
     "text": [
      "[2021-06-07 05:32:59,643][fairseq.trainer][INFO] - begin training epoch 5047\r\n",
      "[2021-06-07 05:32:59,645][fairseq_cli.train][INFO] - Start iterating over samples\r\n"
     ]
    },
    {
     "name": "stdout",
     "output_type": "stream",
     "text": [
      "[2021-06-07 05:36:57,850][fairseq_cli.train][INFO] - begin validation on \"valid\" subset\r\n"
     ]
    },
    {
     "name": "stdout",
     "output_type": "stream",
     "text": [
      "[2021-06-07 05:37:00,424][fairseq.tasks.unpaired_audio_text][INFO] - REF: ɛ n f œ ʂ ə n a d ɵ ʂ ə k t f øː r d eː t s ɔ m h ɛ n d ə p oː ɕ œ r k ɔ n s ɛ t ə n\r\n",
      "[2021-06-07 05:37:00,427][fairseq.tasks.unpaired_audio_text][INFO] - HYP: t ɛ s j œ r œ yː b j uː œ yː k ɵ uː ɵ v n ə m œ k b ə uː s eː r n v oː n l ɪ ŋ k l ɪ l s ɔ k m k n t n\r\n"
     ]
    },
    {
     "name": "stdout",
     "output_type": "stream",
     "text": [
      "[2021-06-07 05:37:00,433][fairseq.tasks.unpaired_audio_text][INFO] - LM [REF]: -53.44462585449219, 0.05339602260269112\r\n",
      "[2021-06-07 05:37:00,433][fairseq.tasks.unpaired_audio_text][INFO] - LM [HYP]: -93.18896484375, 0.012536733413712304\r\n"
     ]
    },
    {
     "name": "stdout",
     "output_type": "stream",
     "text": [
      "[2021-06-07 05:37:00,952][valid][INFO] - {\"epoch\": 5047, \"valid_loss\": \"0.999\", \"valid_ntokens\": \"3039.79\", \"valid_nsentences\": \"144.214\", \"valid_lm_score_sum\": \"-89301.3\", \"valid_num_pred_chars\": \"48282\", \"valid_vocab_seen_pct\": \"0.88676\", \"valid_uer\": \"99.9413\", \"valid_weighted_lm_ppl\": \"75.8101\", \"valid_lm_ppl\": \"59.6127\", \"valid_wps\": \"18107.2\", \"valid_wpb\": \"3039.8\", \"valid_bsz\": \"144.2\", \"valid_num_updates\": \"80752\", \"valid_best_weighted_lm_ppl\": \"73.0296\"}\r\n",
      "[2021-06-07 05:37:00,955][fairseq.checkpoint_utils][INFO] - Preparing to save checkpoint for epoch 5047 @ 80752 updates\r\n",
      "[2021-06-07 05:37:00,956][fairseq.trainer][INFO] - Saving checkpoint to /kaggle/working/checkpoint_last.pt\r\n"
     ]
    },
    {
     "name": "stdout",
     "output_type": "stream",
     "text": [
      "[2021-06-07 05:37:01,004][fairseq.trainer][INFO] - Finished saving checkpoint to /kaggle/working/checkpoint_last.pt\r\n",
      "[2021-06-07 05:37:01,005][fairseq.checkpoint_utils][INFO] - Saved checkpoint /kaggle/working/checkpoint_last.pt (epoch 5047 @ 80752 updates, score 75.81010977846984) (writing took 0.04930349999995087 seconds)\r\n",
      "[2021-06-07 05:37:01,006][fairseq_cli.train][INFO] - end of epoch 5047 (average epoch stats below)\r\n",
      "[2021-06-07 05:37:01,009][train][INFO] - {\"epoch\": 5047, \"train_loss\": \"3.182\", \"train_ntokens\": \"145.688\", \"train_nsentences\": \"145.688\", \"train_temp\": \"0.1\", \"train_code_ppl\": \"8.609\", \"train_loss_code_pen\": \"0.315\", \"train_loss_smoothness\": \"2.051\", \"train_loss_dense_g\": \"4.102\", \"train_lm_score_sum\": 0.0, \"train_num_pred_chars\": 0.0, \"train_loss_grad_pen\": \"0.073\", \"train_loss_dense_d\": \"0.024\", \"train_loss_token_d\": \"0.03\", \"train_wps\": \"9.7\", \"train_ups\": \"0.07\", \"train_wpb\": \"145.7\", \"train_bsz\": \"145.7\", \"train_num_updates\": \"80752\", \"train_lr_discriminator\": \"0.0005\", \"train_lr_generator\": \"0.0004\", \"train_gnorm\": \"29.363\", \"train_clip\": \"68.8\", \"train_train_wall\": \"238\", \"train_wall\": \"29333\"}\r\n"
     ]
    },
    {
     "name": "stdout",
     "output_type": "stream",
     "text": [
      "[2021-06-07 05:37:01,071][fairseq.trainer][INFO] - begin training epoch 5048\r\n",
      "[2021-06-07 05:37:01,073][fairseq_cli.train][INFO] - Start iterating over samples\r\n"
     ]
    },
    {
     "name": "stdout",
     "output_type": "stream",
     "text": [
      "[2021-06-07 05:41:05,810][fairseq_cli.train][INFO] - begin validation on \"valid\" subset\r\n"
     ]
    },
    {
     "name": "stdout",
     "output_type": "stream",
     "text": [
      "[2021-06-07 05:41:08,459][fairseq.tasks.unpaired_audio_text][INFO] - REF: ɛ n f œ ʂ ə n a d ɵ ʂ ə k t f øː r d eː t s ɔ m h ɛ n d ə p oː ɕ œ r k ɔ n s ɛ t ə n\r\n",
      "[2021-06-07 05:41:08,462][fairseq.tasks.unpaired_audio_text][INFO] - HYP: n ɛ s j œ r œ yː b j uː œ yː k ɵ uː ɵ v ə n ə m œ k b ə uː s eː r n v oː n l ɪ ŋ k l ɪ l s ɔ m k n t n\r\n",
      "[2021-06-07 05:41:08,467][fairseq.tasks.unpaired_audio_text][INFO] - LM [REF]: -53.44462585449219, 0.05339602260269112\r\n",
      "[2021-06-07 05:41:08,467][fairseq.tasks.unpaired_audio_text][INFO] - LM [HYP]: -89.46611785888672, 0.014933474339199844\r\n"
     ]
    },
    {
     "name": "stdout",
     "output_type": "stream",
     "text": [
      "[2021-06-07 05:41:08,987][valid][INFO] - {\"epoch\": 5048, \"valid_loss\": \"0.999\", \"valid_ntokens\": \"3039.79\", \"valid_nsentences\": \"144.214\", \"valid_lm_score_sum\": \"-89299.9\", \"valid_num_pred_chars\": \"48282\", \"valid_vocab_seen_pct\": \"0.888502\", \"valid_uer\": \"99.9295\", \"valid_weighted_lm_ppl\": \"75.5081\", \"valid_lm_ppl\": \"59.6088\", \"valid_wps\": \"17415.9\", \"valid_wpb\": \"3039.8\", \"valid_bsz\": \"144.2\", \"valid_num_updates\": \"80768\", \"valid_best_weighted_lm_ppl\": \"73.0296\"}\r\n"
     ]
    },
    {
     "name": "stdout",
     "output_type": "stream",
     "text": [
      "[2021-06-07 05:41:08,990][fairseq.checkpoint_utils][INFO] - Preparing to save checkpoint for epoch 5048 @ 80768 updates\r\n",
      "[2021-06-07 05:41:08,991][fairseq.trainer][INFO] - Saving checkpoint to /kaggle/working/checkpoint_last.pt\r\n",
      "[2021-06-07 05:41:09,040][fairseq.trainer][INFO] - Finished saving checkpoint to /kaggle/working/checkpoint_last.pt\r\n"
     ]
    },
    {
     "name": "stdout",
     "output_type": "stream",
     "text": [
      "[2021-06-07 05:41:09,040][fairseq.checkpoint_utils][INFO] - Saved checkpoint /kaggle/working/checkpoint_last.pt (epoch 5048 @ 80768 updates, score 75.50811501893493) (writing took 0.05073902000003727 seconds)\r\n",
      "[2021-06-07 05:41:09,041][fairseq_cli.train][INFO] - end of epoch 5048 (average epoch stats below)\r\n",
      "[2021-06-07 05:41:09,045][train][INFO] - {\"epoch\": 5048, \"train_loss\": \"3.037\", \"train_ntokens\": \"145.688\", \"train_nsentences\": \"145.688\", \"train_temp\": \"0.1\", \"train_code_ppl\": \"8.861\", \"train_loss_code_pen\": \"0.328\", \"train_loss_smoothness\": \"2.065\", \"train_loss_dense_g\": \"4.169\", \"train_lm_score_sum\": 0.0, \"train_num_pred_chars\": 0.0, \"train_loss_grad_pen\": \"0.093\", \"train_loss_dense_d\": \"0.025\", \"train_loss_token_d\": \"0.025\", \"train_wps\": \"9.4\", \"train_ups\": \"0.06\", \"train_wpb\": \"145.7\", \"train_bsz\": \"145.7\", \"train_num_updates\": \"80768\", \"train_lr_discriminator\": \"0.0005\", \"train_lr_generator\": \"0.0004\", \"train_gnorm\": \"30.506\", \"train_clip\": \"87.5\", \"train_train_wall\": \"244\", \"train_wall\": \"29581\"}\r\n"
     ]
    },
    {
     "name": "stdout",
     "output_type": "stream",
     "text": [
      "[2021-06-07 05:41:09,105][fairseq.trainer][INFO] - begin training epoch 5049\r\n",
      "[2021-06-07 05:41:09,107][fairseq_cli.train][INFO] - Start iterating over samples\r\n"
     ]
    },
    {
     "name": "stdout",
     "output_type": "stream",
     "text": [
      "[2021-06-07 05:44:37,854][fairseq_cli.train][INFO] - begin validation on \"valid\" subset\r\n"
     ]
    },
    {
     "name": "stdout",
     "output_type": "stream",
     "text": [
      "[2021-06-07 05:44:40,471][fairseq.tasks.unpaired_audio_text][INFO] - REF: ɛ n f œ ʂ ə n a d ɵ ʂ ə k t f øː r d eː t s ɔ m h ɛ n d ə p oː ɕ œ r k ɔ n s ɛ t ə n\r\n",
      "[2021-06-07 05:44:40,474][fairseq.tasks.unpaired_audio_text][INFO] - HYP: t ɛ s j œ r œ yː b j uː œ yː k uː ɵ v ə n ə m œ k b ə uː s eː r n v oː n l ɪ ŋ k l ɪ l s ɔ m k n\r\n",
      "[2021-06-07 05:44:40,478][fairseq.tasks.unpaired_audio_text][INFO] - LM [REF]: -53.44462585449219, 0.05339602260269112\r\n",
      "[2021-06-07 05:44:40,479][fairseq.tasks.unpaired_audio_text][INFO] - LM [HYP]: -83.10438537597656, 0.015609281995797792\r\n"
     ]
    },
    {
     "name": "stdout",
     "output_type": "stream",
     "text": [
      "[2021-06-07 05:44:41,004][valid][INFO] - {\"epoch\": 5049, \"valid_loss\": \"1.001\", \"valid_ntokens\": \"3039.79\", \"valid_nsentences\": \"144.214\", \"valid_lm_score_sum\": \"-89520.6\", \"valid_num_pred_chars\": \"48488\", \"valid_vocab_seen_pct\": \"0.890244\", \"valid_uer\": \"100.078\", \"valid_weighted_lm_ppl\": \"74.7173\", \"valid_lm_ppl\": \"59.216\", \"valid_wps\": \"17752.7\", \"valid_wpb\": \"3039.8\", \"valid_bsz\": \"144.2\", \"valid_num_updates\": \"80784\", \"valid_best_weighted_lm_ppl\": \"73.0296\"}\r\n",
      "[2021-06-07 05:44:41,007][fairseq.checkpoint_utils][INFO] - Preparing to save checkpoint for epoch 5049 @ 80784 updates\r\n",
      "[2021-06-07 05:44:41,008][fairseq.trainer][INFO] - Saving checkpoint to /kaggle/working/checkpoint_last.pt\r\n"
     ]
    },
    {
     "name": "stdout",
     "output_type": "stream",
     "text": [
      "[2021-06-07 05:44:41,054][fairseq.trainer][INFO] - Finished saving checkpoint to /kaggle/working/checkpoint_last.pt\r\n",
      "[2021-06-07 05:44:41,054][fairseq.checkpoint_utils][INFO] - Saved checkpoint /kaggle/working/checkpoint_last.pt (epoch 5049 @ 80784 updates, score 74.71731355904393) (writing took 0.04751867700178991 seconds)\r\n",
      "[2021-06-07 05:44:41,055][fairseq_cli.train][INFO] - end of epoch 5049 (average epoch stats below)\r\n",
      "[2021-06-07 05:44:41,058][train][INFO] - {\"epoch\": 5049, \"train_loss\": \"3.624\", \"train_ntokens\": \"145.688\", \"train_nsentences\": \"145.688\", \"train_temp\": \"0.1\", \"train_code_ppl\": \"8.607\", \"train_loss_code_pen\": \"0.308\", \"train_loss_smoothness\": \"2.022\", \"train_loss_dense_g\": \"4.136\", \"train_lm_score_sum\": 0.0, \"train_num_pred_chars\": 0.0, \"train_loss_grad_pen\": \"0.114\", \"train_loss_dense_d\": \"0.026\", \"train_loss_token_d\": \"0.024\", \"train_wps\": \"11\", \"train_ups\": \"0.08\", \"train_wpb\": \"145.7\", \"train_bsz\": \"145.7\", \"train_num_updates\": \"80784\", \"train_lr_discriminator\": \"0.0005\", \"train_lr_generator\": \"0.0004\", \"train_gnorm\": \"30.159\", \"train_clip\": \"81.2\", \"train_train_wall\": \"208\", \"train_wall\": \"29793\"}\r\n"
     ]
    },
    {
     "name": "stdout",
     "output_type": "stream",
     "text": [
      "[2021-06-07 05:44:41,117][fairseq.trainer][INFO] - begin training epoch 5050\r\n",
      "[2021-06-07 05:44:41,118][fairseq_cli.train][INFO] - Start iterating over samples\r\n"
     ]
    },
    {
     "name": "stdout",
     "output_type": "stream",
     "text": [
      "[2021-06-07 05:48:43,587][train_inner][INFO] - {\"epoch\": 5050, \"update\": 5050.0, \"loss\": \"3.289\", \"ntokens\": \"145.54\", \"nsentences\": \"145.54\", \"temp\": \"0.1\", \"code_ppl\": \"8.654\", \"loss_code_pen\": \"0.318\", \"loss_smoothness\": \"2.054\", \"loss_dense_g\": \"4.17\", \"lm_score_sum\": 0.0, \"num_pred_chars\": 0.0, \"loss_grad_pen\": \"0.091\", \"loss_dense_d\": \"0.025\", \"loss_token_d\": \"0.027\", \"wps\": \"10\", \"ups\": \"0.07\", \"wpb\": \"145.5\", \"bsz\": \"145.5\", \"num_updates\": \"80800\", \"lr_discriminator\": \"0.0005\", \"lr_generator\": \"0.0004\", \"gnorm\": \"30.498\", \"clip\": \"75\", \"train_wall\": \"1427\", \"wall\": \"30036\"}\r\n",
      "[2021-06-07 05:48:43,588][fairseq_cli.train][INFO] - begin validation on \"valid\" subset\r\n"
     ]
    },
    {
     "name": "stdout",
     "output_type": "stream",
     "text": [
      "[2021-06-07 05:48:46,199][fairseq.tasks.unpaired_audio_text][INFO] - REF: ɛ n f œ ʂ ə n a d ɵ ʂ ə k t f øː r d eː t s ɔ m h ɛ n d ə p oː ɕ œ r k ɔ n s ɛ t ə n\r\n",
      "[2021-06-07 05:48:46,202][fairseq.tasks.unpaired_audio_text][INFO] - HYP: t ɛ s j œ r œ yː b j uː œ yː k uː ɵ v ə n ə m œ k b ə uː s eː r n v oː n l ɪ ŋ k l ɪ l a s œ m k n t n\r\n",
      "[2021-06-07 05:48:46,206][fairseq.tasks.unpaired_audio_text][INFO] - LM [REF]: -53.44462585449219, 0.05339602260269112\r\n",
      "[2021-06-07 05:48:46,206][fairseq.tasks.unpaired_audio_text][INFO] - LM [HYP]: -89.86624145507812, 0.014655312124400717\r\n"
     ]
    },
    {
     "name": "stdout",
     "output_type": "stream",
     "text": [
      "[2021-06-07 05:48:46,741][valid][INFO] - {\"epoch\": 5050, \"valid_loss\": \"1.002\", \"valid_ntokens\": \"3039.79\", \"valid_nsentences\": \"144.214\", \"valid_lm_score_sum\": \"-89562.8\", \"valid_num_pred_chars\": \"48537\", \"valid_vocab_seen_pct\": \"0.888502\", \"valid_uer\": \"100.209\", \"valid_weighted_lm_ppl\": \"74.8582\", \"valid_lm_ppl\": \"59.0957\", \"valid_wps\": \"17648.8\", \"valid_wpb\": \"3039.8\", \"valid_bsz\": \"144.2\", \"valid_num_updates\": \"80800\", \"valid_best_weighted_lm_ppl\": \"73.0296\"}\r\n",
      "[2021-06-07 05:48:46,744][fairseq.checkpoint_utils][INFO] - Preparing to save checkpoint for epoch 5050 @ 80800 updates\r\n",
      "[2021-06-07 05:48:46,745][fairseq.trainer][INFO] - Saving checkpoint to /kaggle/working/checkpoint_last.pt\r\n"
     ]
    },
    {
     "name": "stdout",
     "output_type": "stream",
     "text": [
      "[2021-06-07 05:48:46,795][fairseq.trainer][INFO] - Finished saving checkpoint to /kaggle/working/checkpoint_last.pt\r\n",
      "[2021-06-07 05:48:46,796][fairseq.checkpoint_utils][INFO] - Saved checkpoint /kaggle/working/checkpoint_last.pt (epoch 5050 @ 80800 updates, score 74.85822303601351) (writing took 0.05158840399963083 seconds)\r\n",
      "[2021-06-07 05:48:46,796][fairseq_cli.train][INFO] - end of epoch 5050 (average epoch stats below)\r\n",
      "[2021-06-07 05:48:46,800][train][INFO] - {\"epoch\": 5050, \"train_loss\": \"3.099\", \"train_ntokens\": \"145.688\", \"train_nsentences\": \"145.688\", \"train_temp\": \"0.1\", \"train_code_ppl\": \"8.602\", \"train_loss_code_pen\": \"0.313\", \"train_loss_smoothness\": \"2.038\", \"train_loss_dense_g\": \"4.315\", \"train_lm_score_sum\": 0.0, \"train_num_pred_chars\": 0.0, \"train_loss_grad_pen\": \"0.117\", \"train_loss_dense_d\": \"0.026\", \"train_loss_token_d\": \"0.027\", \"train_wps\": \"9.5\", \"train_ups\": \"0.07\", \"train_wpb\": \"145.7\", \"train_bsz\": \"145.7\", \"train_num_updates\": \"80800\", \"train_lr_discriminator\": \"0.0005\", \"train_lr_generator\": \"0.0004\", \"train_gnorm\": \"31.181\", \"train_clip\": \"75\", \"train_train_wall\": \"242\", \"train_wall\": \"30039\"}\r\n"
     ]
    },
    {
     "name": "stdout",
     "output_type": "stream",
     "text": [
      "[2021-06-07 05:48:46,863][fairseq.trainer][INFO] - begin training epoch 5051\r\n",
      "[2021-06-07 05:48:46,865][fairseq_cli.train][INFO] - Start iterating over samples\r\n"
     ]
    },
    {
     "name": "stdout",
     "output_type": "stream",
     "text": [
      "[2021-06-07 05:52:27,725][fairseq_cli.train][INFO] - begin validation on \"valid\" subset\r\n"
     ]
    },
    {
     "name": "stdout",
     "output_type": "stream",
     "text": [
      "[2021-06-07 05:52:30,367][fairseq.tasks.unpaired_audio_text][INFO] - REF: ɛ n f œ ʂ ə n a d ɵ ʂ ə k t f øː r d eː t s ɔ m h ɛ n d ə p oː ɕ œ r k ɔ n s ɛ t ə n\r\n",
      "[2021-06-07 05:52:30,369][fairseq.tasks.unpaired_audio_text][INFO] - HYP: t ɡ ɛ s j œ r œ yː b j uː œ yː k uː ɵ ə n ə m œ k b ə uː s eː r n v oː n l ɪ ŋ k l ɪ l a s œ m k n a\r\n",
      "[2021-06-07 05:52:30,373][fairseq.tasks.unpaired_audio_text][INFO] - LM [REF]: -53.44462585449219, 0.05339602260269112\r\n",
      "[2021-06-07 05:52:30,374][fairseq.tasks.unpaired_audio_text][INFO] - LM [HYP]: -88.3174057006836, 0.014456196667665922\r\n"
     ]
    },
    {
     "name": "stdout",
     "output_type": "stream",
     "text": [
      "[2021-06-07 05:52:30,896][valid][INFO] - {\"epoch\": 5051, \"valid_loss\": \"1.002\", \"valid_ntokens\": \"3039.79\", \"valid_nsentences\": \"144.214\", \"valid_lm_score_sum\": \"-89803.7\", \"valid_num_pred_chars\": \"48538\", \"valid_vocab_seen_pct\": \"0.893728\", \"valid_uer\": \"100.24\", \"valid_weighted_lm_ppl\": \"74.7955\", \"valid_lm_ppl\": \"59.7429\", \"valid_wps\": \"17503.5\", \"valid_wpb\": \"3039.8\", \"valid_bsz\": \"144.2\", \"valid_num_updates\": \"80816\", \"valid_best_weighted_lm_ppl\": \"73.0296\"}\r\n",
      "[2021-06-07 05:52:30,900][fairseq.checkpoint_utils][INFO] - Preparing to save checkpoint for epoch 5051 @ 80816 updates\r\n",
      "[2021-06-07 05:52:30,902][fairseq.trainer][INFO] - Saving checkpoint to /kaggle/working/checkpoint_last.pt\r\n"
     ]
    },
    {
     "name": "stdout",
     "output_type": "stream",
     "text": [
      "[2021-06-07 05:52:30,955][fairseq.trainer][INFO] - Finished saving checkpoint to /kaggle/working/checkpoint_last.pt\r\n",
      "[2021-06-07 05:52:30,955][fairseq.checkpoint_utils][INFO] - Saved checkpoint /kaggle/working/checkpoint_last.pt (epoch 5051 @ 80816 updates, score 74.79553326108353) (writing took 0.05448418999731075 seconds)\r\n",
      "[2021-06-07 05:52:30,955][fairseq_cli.train][INFO] - end of epoch 5051 (average epoch stats below)\r\n"
     ]
    },
    {
     "name": "stdout",
     "output_type": "stream",
     "text": [
      "[2021-06-07 05:52:30,960][train][INFO] - {\"epoch\": 5051, \"train_loss\": \"3.441\", \"train_ntokens\": \"145.688\", \"train_nsentences\": \"145.688\", \"train_temp\": \"0.1\", \"train_code_ppl\": \"8.621\", \"train_loss_code_pen\": \"0.313\", \"train_loss_smoothness\": \"2.029\", \"train_loss_dense_g\": \"4.202\", \"train_lm_score_sum\": 0.0, \"train_num_pred_chars\": 0.0, \"train_loss_grad_pen\": \"0.059\", \"train_loss_dense_d\": \"0.021\", \"train_loss_token_d\": \"0.024\", \"train_wps\": \"10.4\", \"train_ups\": \"0.07\", \"train_wpb\": \"145.7\", \"train_bsz\": \"145.7\", \"train_num_updates\": \"80816\", \"train_lr_discriminator\": \"0.0005\", \"train_lr_generator\": \"0.0004\", \"train_gnorm\": \"29.439\", \"train_clip\": \"68.8\", \"train_train_wall\": \"220\", \"train_wall\": \"30263\"}\r\n"
     ]
    },
    {
     "name": "stdout",
     "output_type": "stream",
     "text": [
      "[2021-06-07 05:52:31,023][fairseq.trainer][INFO] - begin training epoch 5052\r\n",
      "[2021-06-07 05:52:31,024][fairseq_cli.train][INFO] - Start iterating over samples\r\n"
     ]
    },
    {
     "name": "stdout",
     "output_type": "stream",
     "text": [
      "[2021-06-07 05:56:09,272][fairseq_cli.train][INFO] - begin validation on \"valid\" subset\r\n"
     ]
    },
    {
     "name": "stdout",
     "output_type": "stream",
     "text": [
      "[2021-06-07 05:56:11,943][fairseq.tasks.unpaired_audio_text][INFO] - REF: ɛ n f œ ʂ ə n a d ɵ ʂ ə k t f øː r d eː t s ɔ m h ɛ n d ə p oː ɕ œ r k ɔ n s ɛ t ə n\r\n",
      "[2021-06-07 05:56:11,946][fairseq.tasks.unpaired_audio_text][INFO] - HYP: n ɛ s j œ r œ yː b j uː œ yː k uː ɵ øː ə n ə m œ k b ə uː s eː r n v oː n l ɪ ŋ k l ɪ l a s œ m k n a\r\n",
      "[2021-06-07 05:56:11,950][fairseq.tasks.unpaired_audio_text][INFO] - LM [REF]: -53.44462585449219, 0.05339602260269112\r\n",
      "[2021-06-07 05:56:11,950][fairseq.tasks.unpaired_audio_text][INFO] - LM [HYP]: -87.33275604248047, 0.01515540625200813\r\n"
     ]
    },
    {
     "name": "stdout",
     "output_type": "stream",
     "text": [
      "[2021-06-07 05:56:12,485][valid][INFO] - {\"epoch\": 5052, \"valid_loss\": \"1\", \"valid_ntokens\": \"3039.79\", \"valid_nsentences\": \"144.214\", \"valid_lm_score_sum\": \"-89537.2\", \"valid_num_pred_chars\": \"48441\", \"valid_vocab_seen_pct\": \"0.890244\", \"valid_uer\": \"99.9859\", \"valid_weighted_lm_ppl\": \"75.0588\", \"valid_lm_ppl\": \"59.4867\", \"valid_wps\": \"17601.5\", \"valid_wpb\": \"3039.8\", \"valid_bsz\": \"144.2\", \"valid_num_updates\": \"80832\", \"valid_best_weighted_lm_ppl\": \"73.0296\"}\r\n",
      "[2021-06-07 05:56:12,488][fairseq.checkpoint_utils][INFO] - Preparing to save checkpoint for epoch 5052 @ 80832 updates\r\n",
      "[2021-06-07 05:56:12,490][fairseq.trainer][INFO] - Saving checkpoint to /kaggle/working/checkpoint_last.pt\r\n"
     ]
    },
    {
     "name": "stdout",
     "output_type": "stream",
     "text": [
      "[2021-06-07 05:56:12,542][fairseq.trainer][INFO] - Finished saving checkpoint to /kaggle/working/checkpoint_last.pt\r\n",
      "[2021-06-07 05:56:12,542][fairseq.checkpoint_utils][INFO] - Saved checkpoint /kaggle/working/checkpoint_last.pt (epoch 5052 @ 80832 updates, score 75.05883851584043) (writing took 0.05375770300088334 seconds)\r\n",
      "[2021-06-07 05:56:12,543][fairseq_cli.train][INFO] - end of epoch 5052 (average epoch stats below)\r\n"
     ]
    },
    {
     "name": "stdout",
     "output_type": "stream",
     "text": [
      "[2021-06-07 05:56:12,546][train][INFO] - {\"epoch\": 5052, \"train_loss\": \"3.53\", \"train_ntokens\": \"145.688\", \"train_nsentences\": \"145.688\", \"train_temp\": \"0.1\", \"train_code_ppl\": \"8.5\", \"train_loss_code_pen\": \"0.307\", \"train_loss_smoothness\": \"2.013\", \"train_loss_dense_g\": \"4.219\", \"train_lm_score_sum\": 0.0, \"train_num_pred_chars\": 0.0, \"train_loss_grad_pen\": \"0.226\", \"train_loss_dense_d\": \"0.032\", \"train_loss_token_d\": \"0.035\", \"train_wps\": \"10.5\", \"train_ups\": \"0.07\", \"train_wpb\": \"145.7\", \"train_bsz\": \"145.7\", \"train_num_updates\": \"80832\", \"train_lr_discriminator\": \"0.0005\", \"train_lr_generator\": \"0.0004\", \"train_gnorm\": \"51.724\", \"train_clip\": \"81.2\", \"train_train_wall\": \"218\", \"train_wall\": \"30485\"}\r\n"
     ]
    },
    {
     "name": "stdout",
     "output_type": "stream",
     "text": [
      "[2021-06-07 05:56:12,608][fairseq.trainer][INFO] - begin training epoch 5053\r\n",
      "[2021-06-07 05:56:12,610][fairseq_cli.train][INFO] - Start iterating over samples\r\n"
     ]
    },
    {
     "name": "stdout",
     "output_type": "stream",
     "text": [
      "[2021-06-07 05:59:50,731][fairseq_cli.train][INFO] - begin validation on \"valid\" subset\r\n"
     ]
    },
    {
     "name": "stdout",
     "output_type": "stream",
     "text": [
      "[2021-06-07 05:59:53,448][fairseq.tasks.unpaired_audio_text][INFO] - REF: ɛ n f œ ʂ ə n a d ɵ ʂ ə k t f øː r d eː t s ɔ m h ɛ n d ə p oː ɕ œ r k ɔ n s ɛ t ə n\r\n",
      "[2021-06-07 05:59:53,451][fairseq.tasks.unpaired_audio_text][INFO] - HYP: n ɡ ɛ s j œ r œ yː b j uː œ yː k uː ɵ øː ə n ə m œ k b ə uː s eː r n v oː n l ɪ ŋ k l ɪ l a s ɔ m k n t a\r\n",
      "[2021-06-07 05:59:53,456][fairseq.tasks.unpaired_audio_text][INFO] - LM [REF]: -53.44462585449219, 0.05339602260269112\r\n",
      "[2021-06-07 05:59:53,456][fairseq.tasks.unpaired_audio_text][INFO] - LM [HYP]: -89.58024597167969, 0.016158278176939513\r\n"
     ]
    },
    {
     "name": "stdout",
     "output_type": "stream",
     "text": [
      "[2021-06-07 05:59:53,986][valid][INFO] - {\"epoch\": 5053, \"valid_loss\": \"0.999\", \"valid_ntokens\": \"3039.79\", \"valid_nsentences\": \"144.214\", \"valid_lm_score_sum\": \"-89288.4\", \"valid_num_pred_chars\": \"48245\", \"valid_vocab_seen_pct\": \"0.893728\", \"valid_uer\": \"99.8684\", \"valid_weighted_lm_ppl\": \"74.813\", \"valid_lm_ppl\": \"59.7569\", \"valid_wps\": \"17256.1\", \"valid_wpb\": \"3039.8\", \"valid_bsz\": \"144.2\", \"valid_num_updates\": \"80848\", \"valid_best_weighted_lm_ppl\": \"73.0296\"}\r\n",
      "[2021-06-07 05:59:53,989][fairseq.checkpoint_utils][INFO] - Preparing to save checkpoint for epoch 5053 @ 80848 updates\r\n",
      "[2021-06-07 05:59:53,991][fairseq.trainer][INFO] - Saving checkpoint to /kaggle/working/checkpoint_last.pt\r\n"
     ]
    },
    {
     "name": "stdout",
     "output_type": "stream",
     "text": [
      "[2021-06-07 05:59:54,038][fairseq.trainer][INFO] - Finished saving checkpoint to /kaggle/working/checkpoint_last.pt\r\n",
      "[2021-06-07 05:59:54,038][fairseq.checkpoint_utils][INFO] - Saved checkpoint /kaggle/working/checkpoint_last.pt (epoch 5053 @ 80848 updates, score 74.81304668457392) (writing took 0.048482207999768434 seconds)\r\n",
      "[2021-06-07 05:59:54,039][fairseq_cli.train][INFO] - end of epoch 5053 (average epoch stats below)\r\n",
      "[2021-06-07 05:59:54,041][train][INFO] - {\"epoch\": 5053, \"train_loss\": \"3.681\", \"train_ntokens\": \"145.688\", \"train_nsentences\": \"145.688\", \"train_temp\": \"0.1\", \"train_code_ppl\": \"8.682\", \"train_loss_code_pen\": \"0.342\", \"train_loss_smoothness\": \"2.134\", \"train_loss_dense_g\": \"4.026\", \"train_lm_score_sum\": 0.0, \"train_num_pred_chars\": 0.0, \"train_loss_grad_pen\": \"0.176\", \"train_loss_dense_d\": \"0.032\", \"train_loss_token_d\": \"0.038\", \"train_wps\": \"10.5\", \"train_ups\": \"0.07\", \"train_wpb\": \"145.7\", \"train_bsz\": \"145.7\", \"train_num_updates\": \"80848\", \"train_lr_discriminator\": \"0.0005\", \"train_lr_generator\": \"0.0004\", \"train_gnorm\": \"35.027\", \"train_clip\": \"87.5\", \"train_train_wall\": \"218\", \"train_wall\": \"30706\"}\r\n"
     ]
    },
    {
     "name": "stdout",
     "output_type": "stream",
     "text": [
      "[2021-06-07 05:59:54,103][fairseq.trainer][INFO] - begin training epoch 5054\r\n",
      "[2021-06-07 05:59:54,104][fairseq_cli.train][INFO] - Start iterating over samples\r\n"
     ]
    },
    {
     "name": "stdout",
     "output_type": "stream",
     "text": [
      "[2021-06-07 06:04:09,843][fairseq_cli.train][INFO] - begin validation on \"valid\" subset\r\n"
     ]
    },
    {
     "name": "stdout",
     "output_type": "stream",
     "text": [
      "[2021-06-07 06:04:12,448][fairseq.tasks.unpaired_audio_text][INFO] - REF: ɛ n f œ ʂ ə n a d ɵ ʂ ə k t f øː r d eː t s ɔ m h ɛ n d ə p oː ɕ œ r k ɔ n s ɛ t ə n\r\n",
      "[2021-06-07 06:04:12,450][fairseq.tasks.unpaired_audio_text][INFO] - HYP: n ɡ ɛ s j œ r œ yː b j uː œ yː k uː ɡ ɵ b n ə m ɔ k b ə uː s eː r n v oː n l ɪ ŋ k l ɪ l s œ m k n t n\r\n",
      "[2021-06-07 06:04:12,455][fairseq.tasks.unpaired_audio_text][INFO] - LM [REF]: -53.44462585449219, 0.05339602260269112\r\n",
      "[2021-06-07 06:04:12,455][fairseq.tasks.unpaired_audio_text][INFO] - LM [HYP]: -89.26139068603516, 0.015077834276722334\r\n"
     ]
    },
    {
     "name": "stdout",
     "output_type": "stream",
     "text": [
      "[2021-06-07 06:04:12,979][valid][INFO] - {\"epoch\": 5054, \"valid_loss\": \"0.998\", \"valid_ntokens\": \"3039.79\", \"valid_nsentences\": \"144.214\", \"valid_lm_score_sum\": \"-89409.7\", \"valid_num_pred_chars\": \"48228\", \"valid_vocab_seen_pct\": \"0.898955\", \"valid_uer\": \"99.8426\", \"valid_weighted_lm_ppl\": \"74.4608\", \"valid_lm_ppl\": \"60.1732\", \"valid_wps\": \"17872.8\", \"valid_wpb\": \"3039.8\", \"valid_bsz\": \"144.2\", \"valid_num_updates\": \"80864\", \"valid_best_weighted_lm_ppl\": \"73.0296\"}\r\n",
      "[2021-06-07 06:04:12,982][fairseq.checkpoint_utils][INFO] - Preparing to save checkpoint for epoch 5054 @ 80864 updates\r\n",
      "[2021-06-07 06:04:12,983][fairseq.trainer][INFO] - Saving checkpoint to /kaggle/working/checkpoint_last.pt\r\n"
     ]
    },
    {
     "name": "stdout",
     "output_type": "stream",
     "text": [
      "[2021-06-07 06:04:13,030][fairseq.trainer][INFO] - Finished saving checkpoint to /kaggle/working/checkpoint_last.pt\r\n",
      "[2021-06-07 06:04:13,030][fairseq.checkpoint_utils][INFO] - Saved checkpoint /kaggle/working/checkpoint_last.pt (epoch 5054 @ 80864 updates, score 74.46077195513078) (writing took 0.04840236299787648 seconds)\r\n",
      "[2021-06-07 06:04:13,031][fairseq_cli.train][INFO] - end of epoch 5054 (average epoch stats below)\r\n",
      "[2021-06-07 06:04:13,034][train][INFO] - {\"epoch\": 5054, \"train_loss\": \"2.874\", \"train_ntokens\": \"145.688\", \"train_nsentences\": \"145.688\", \"train_temp\": \"0.1\", \"train_code_ppl\": \"8.827\", \"train_loss_code_pen\": \"0.331\", \"train_loss_smoothness\": \"2.07\", \"train_loss_dense_g\": \"3.839\", \"train_lm_score_sum\": 0.0, \"train_num_pred_chars\": 0.0, \"train_loss_grad_pen\": \"0.056\", \"train_loss_dense_d\": \"0.028\", \"train_loss_token_d\": \"0.026\", \"train_wps\": \"9\", \"train_ups\": \"0.06\", \"train_wpb\": \"145.7\", \"train_bsz\": \"145.7\", \"train_num_updates\": \"80864\", \"train_lr_discriminator\": \"0.0005\", \"train_lr_generator\": \"0.0004\", \"train_gnorm\": \"29.04\", \"train_clip\": \"75\", \"train_train_wall\": \"255\", \"train_wall\": \"30965\"}\r\n"
     ]
    },
    {
     "name": "stdout",
     "output_type": "stream",
     "text": [
      "[2021-06-07 06:04:13,102][fairseq.trainer][INFO] - begin training epoch 5055\r\n",
      "[2021-06-07 06:04:13,104][fairseq_cli.train][INFO] - Start iterating over samples\r\n"
     ]
    },
    {
     "name": "stdout",
     "output_type": "stream",
     "text": [
      "[2021-06-07 06:08:14,353][fairseq_cli.train][INFO] - begin validation on \"valid\" subset\r\n"
     ]
    },
    {
     "name": "stdout",
     "output_type": "stream",
     "text": [
      "[2021-06-07 06:08:17,125][fairseq.tasks.unpaired_audio_text][INFO] - REF: ɛ n f œ ʂ ə n a d ɵ ʂ ə k t f øː r d eː t s ɔ m h ɛ n d ə p oː ɕ œ r k ɔ n s ɛ t ə n\r\n"
     ]
    },
    {
     "name": "stdout",
     "output_type": "stream",
     "text": [
      "[2021-06-07 06:08:17,128][fairseq.tasks.unpaired_audio_text][INFO] - HYP: n ɡ ɛ s j œ r œ yː b j uː œ yː k uː ɵ øː b n ə m œ k b ə uː s eː r n v oː n l ɪ ŋ k l ɪ l s œ k m k n\r\n",
      "[2021-06-07 06:08:17,133][fairseq.tasks.unpaired_audio_text][INFO] - LM [REF]: -53.44462585449219, 0.05339602260269112\r\n",
      "[2021-06-07 06:08:17,134][fairseq.tasks.unpaired_audio_text][INFO] - LM [HYP]: -91.99307250976562, 0.012119303347439025\r\n"
     ]
    },
    {
     "name": "stdout",
     "output_type": "stream",
     "text": [
      "[2021-06-07 06:08:17,768][valid][INFO] - {\"epoch\": 5055, \"valid_loss\": \"1\", \"valid_ntokens\": \"3039.79\", \"valid_nsentences\": \"144.214\", \"valid_lm_score_sum\": \"-89386.9\", \"valid_num_pred_chars\": \"48286\", \"valid_vocab_seen_pct\": \"0.89547\", \"valid_uer\": \"99.9601\", \"valid_weighted_lm_ppl\": \"74.6098\", \"valid_lm_ppl\": \"59.8272\", \"valid_wps\": \"16166.6\", \"valid_wpb\": \"3039.8\", \"valid_bsz\": \"144.2\", \"valid_num_updates\": \"80880\", \"valid_best_weighted_lm_ppl\": \"73.0296\"}\r\n",
      "[2021-06-07 06:08:17,771][fairseq.checkpoint_utils][INFO] - Preparing to save checkpoint for epoch 5055 @ 80880 updates\r\n",
      "[2021-06-07 06:08:17,772][fairseq.trainer][INFO] - Saving checkpoint to /kaggle/working/checkpoint_last.pt\r\n"
     ]
    },
    {
     "name": "stdout",
     "output_type": "stream",
     "text": [
      "[2021-06-07 06:08:17,824][fairseq.trainer][INFO] - Finished saving checkpoint to /kaggle/working/checkpoint_last.pt\r\n",
      "[2021-06-07 06:08:17,824][fairseq.checkpoint_utils][INFO] - Saved checkpoint /kaggle/working/checkpoint_last.pt (epoch 5055 @ 80880 updates, score 74.60982335697652) (writing took 0.052685815000586445 seconds)\r\n",
      "[2021-06-07 06:08:17,824][fairseq_cli.train][INFO] - end of epoch 5055 (average epoch stats below)\r\n",
      "[2021-06-07 06:08:17,827][train][INFO] - {\"epoch\": 5055, \"train_loss\": \"3.404\", \"train_ntokens\": \"145.688\", \"train_nsentences\": \"145.688\", \"train_temp\": \"0.1\", \"train_code_ppl\": \"8.738\", \"train_loss_code_pen\": \"0.34\", \"train_loss_smoothness\": \"2.111\", \"train_loss_dense_g\": \"3.982\", \"train_lm_score_sum\": 0.0, \"train_num_pred_chars\": 0.0, \"train_loss_grad_pen\": \"0.097\", \"train_loss_dense_d\": \"0.025\", \"train_loss_token_d\": \"0.025\", \"train_wps\": \"9.5\", \"train_ups\": \"0.07\", \"train_wpb\": \"145.7\", \"train_bsz\": \"145.7\", \"train_num_updates\": \"80880\", \"train_lr_discriminator\": \"0.0005\", \"train_lr_generator\": \"0.0004\", \"train_gnorm\": \"33.373\", \"train_clip\": \"68.8\", \"train_train_wall\": \"241\", \"train_wall\": \"31210\"}\r\n"
     ]
    },
    {
     "name": "stdout",
     "output_type": "stream",
     "text": [
      "[2021-06-07 06:08:17,882][fairseq.trainer][INFO] - begin training epoch 5056\r\n",
      "[2021-06-07 06:08:17,883][fairseq_cli.train][INFO] - Start iterating over samples\r\n"
     ]
    },
    {
     "name": "stdout",
     "output_type": "stream",
     "text": [
      "[2021-06-07 06:12:15,839][fairseq_cli.train][INFO] - begin validation on \"valid\" subset\r\n"
     ]
    },
    {
     "name": "stdout",
     "output_type": "stream",
     "text": [
      "[2021-06-07 06:12:18,513][fairseq.tasks.unpaired_audio_text][INFO] - REF: ɛ n f œ ʂ ə n a d ɵ ʂ ə k t f øː r d eː t s ɔ m h ɛ n d ə p oː ɕ œ r k ɔ n s ɛ t ə n\r\n",
      "[2021-06-07 06:12:18,516][fairseq.tasks.unpaired_audio_text][INFO] - HYP: n ɡ ɛ s j œ r œ yː b j uː œ yː k uː ɡ ɵ v b n ə m œ k b ə uː s eː r n ɛ oː n l ɪ ŋ k l ɪ l s ɔ m k n t n\r\n"
     ]
    },
    {
     "name": "stdout",
     "output_type": "stream",
     "text": [
      "[2021-06-07 06:12:18,522][fairseq.tasks.unpaired_audio_text][INFO] - LM [REF]: -53.44462585449219, 0.05339602260269112\r\n",
      "[2021-06-07 06:12:18,522][fairseq.tasks.unpaired_audio_text][INFO] - LM [HYP]: -92.71112823486328, 0.013988702539985718\r\n"
     ]
    },
    {
     "name": "stdout",
     "output_type": "stream",
     "text": [
      "[2021-06-07 06:12:19,071][valid][INFO] - {\"epoch\": 5056, \"valid_loss\": \"1.001\", \"valid_ntokens\": \"3039.79\", \"valid_nsentences\": \"144.214\", \"valid_lm_score_sum\": \"-89564.9\", \"valid_num_pred_chars\": \"48284\", \"valid_vocab_seen_pct\": \"0.898955\", \"valid_uer\": \"100.061\", \"valid_weighted_lm_ppl\": \"74.6506\", \"valid_lm_ppl\": \"60.3266\", \"valid_wps\": \"17151\", \"valid_wpb\": \"3039.8\", \"valid_bsz\": \"144.2\", \"valid_num_updates\": \"80896\", \"valid_best_weighted_lm_ppl\": \"73.0296\"}\r\n",
      "[2021-06-07 06:12:19,074][fairseq.checkpoint_utils][INFO] - Preparing to save checkpoint for epoch 5056 @ 80896 updates\r\n",
      "[2021-06-07 06:12:19,076][fairseq.trainer][INFO] - Saving checkpoint to /kaggle/working/checkpoint_last.pt\r\n"
     ]
    },
    {
     "name": "stdout",
     "output_type": "stream",
     "text": [
      "[2021-06-07 06:12:19,127][fairseq.trainer][INFO] - Finished saving checkpoint to /kaggle/working/checkpoint_last.pt\r\n",
      "[2021-06-07 06:12:19,127][fairseq.checkpoint_utils][INFO] - Saved checkpoint /kaggle/working/checkpoint_last.pt (epoch 5056 @ 80896 updates, score 74.65060222000588) (writing took 0.05264066300151171 seconds)\r\n",
      "[2021-06-07 06:12:19,128][fairseq_cli.train][INFO] - end of epoch 5056 (average epoch stats below)\r\n",
      "[2021-06-07 06:12:19,131][train][INFO] - {\"epoch\": 5056, \"train_loss\": \"3.24\", \"train_ntokens\": \"145.688\", \"train_nsentences\": \"145.688\", \"train_temp\": \"0.1\", \"train_code_ppl\": \"8.795\", \"train_loss_code_pen\": \"0.332\", \"train_loss_smoothness\": \"2.095\", \"train_loss_dense_g\": \"4.156\", \"train_lm_score_sum\": 0.0, \"train_num_pred_chars\": 0.0, \"train_loss_grad_pen\": \"0.073\", \"train_loss_dense_d\": \"0.029\", \"train_loss_token_d\": \"0.031\", \"train_wps\": \"9.7\", \"train_ups\": \"0.07\", \"train_wpb\": \"145.7\", \"train_bsz\": \"145.7\", \"train_num_updates\": \"80896\", \"train_lr_discriminator\": \"0.0005\", \"train_lr_generator\": \"0.0004\", \"train_gnorm\": \"29.214\", \"train_clip\": \"81.2\", \"train_train_wall\": \"237\", \"train_wall\": \"31451\"}\r\n"
     ]
    },
    {
     "name": "stdout",
     "output_type": "stream",
     "text": [
      "[2021-06-07 06:12:19,191][fairseq.trainer][INFO] - begin training epoch 5057\r\n",
      "[2021-06-07 06:12:19,192][fairseq_cli.train][INFO] - Start iterating over samples\r\n"
     ]
    },
    {
     "name": "stdout",
     "output_type": "stream",
     "text": [
      "[2021-06-07 06:13:21,433][train_inner][INFO] - {\"epoch\": 5057, \"update\": 5056.25, \"loss\": \"3.363\", \"ntokens\": \"146.26\", \"nsentences\": \"146.26\", \"temp\": \"0.1\", \"code_ppl\": \"8.694\", \"loss_code_pen\": \"0.327\", \"loss_smoothness\": \"2.075\", \"loss_dense_g\": \"4.085\", \"lm_score_sum\": 0.0, \"num_pred_chars\": 0.0, \"loss_grad_pen\": \"0.109\", \"loss_dense_d\": \"0.028\", \"loss_token_d\": \"0.029\", \"wps\": \"9.9\", \"ups\": \"0.07\", \"wpb\": \"146.3\", \"bsz\": \"146.3\", \"num_updates\": \"80900\", \"lr_discriminator\": \"0.0005\", \"lr_generator\": \"0.0004\", \"gnorm\": \"34.345\", \"clip\": \"76\", \"train_wall\": \"1451\", \"wall\": \"31514\"}\r\n"
     ]
    },
    {
     "name": "stdout",
     "output_type": "stream",
     "text": [
      "[2021-06-07 06:16:26,878][fairseq_cli.train][INFO] - begin validation on \"valid\" subset\r\n"
     ]
    }
   ],
   "source": [
    "!bash rungan.sh"
   ]
  }
 ],
 "metadata": {
  "kernelspec": {
   "display_name": "Python 3",
   "language": "python",
   "name": "python3"
  },
  "language_info": {
   "codemirror_mode": {
    "name": "ipython",
    "version": 3
   },
   "file_extension": ".py",
   "mimetype": "text/x-python",
   "name": "python",
   "nbconvert_exporter": "python",
   "pygments_lexer": "ipython3",
   "version": "3.6.4"
  },
  "papermill": {
   "default_parameters": {},
   "duration": null,
   "end_time": null,
   "environment_variables": {},
   "exception": null,
   "input_path": "__notebook__.ipynb",
   "output_path": "__notebook__.ipynb",
   "parameters": {},
   "start_time": "2021-06-06T21:19:43.751967",
   "version": "2.3.3"
  }
 },
 "nbformat": 4,
 "nbformat_minor": 5
}