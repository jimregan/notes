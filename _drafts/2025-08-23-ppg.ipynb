{
 "cells": [
  {
   "cell_type": "markdown",
   "id": "9f419967",
   "metadata": {},
   "source": []
  },
  {
   "cell_type": "markdown",
   "id": "6d325caa",
   "metadata": {},
   "source": [
    "[Phone-Level Pronunciation Scoring for L1 Using Weighted-Dynamic Time Warping](https://ieeexplore.ieee.org/abstract/document/10023182)\n",
    "\n",
    "```bibtex\n",
    "@INPROCEEDINGS{sini2023wdtw,\n",
    "  author={Sini, Aghilas and Perquin, Antoine and Lolive, Damien and Delhay, Arnaud},\n",
    "  booktitle={2022 IEEE Spoken Language Technology Workshop (SLT)}, \n",
    "  title={Phone-Level Pronunciation Scoring for L1 Using Weighted-Dynamic Time Warping}, \n",
    "  year={2023},\n",
    "  pages={1081-1087},\n",
    "  doi={10.1109/SLT54892.2023.10023182}\n",
    "}\n",
    "```"
   ]
  },
  {
   "cell_type": "markdown",
   "id": "7199115a",
   "metadata": {},
   "source": [
    "Scoring method (WMPS)\n",
    "\n",
    "$$\\begin{equation*}\\text{WMPS}(u_{1..K,i}, v_{j})=\\max_{k\\in[1,K]}(p(u_{k,i})\\times Lev(a_{u_{k,i}},a_{v_{j}}))\\tag{2}\\end{equation*}$$"
   ]
  },
  {
   "cell_type": "markdown",
   "id": "eb4a619e",
   "metadata": {},
   "source": [
    "WMPS with probability threshold\n",
    "\n",
    "$$\n",
    "\\begin{gather*} s=Lev(a_{u_{k,i}},a_{v_{j}})\\\\ d=\\begin{cases} p(u_{k,i}) & \\text{if}\\ s=1\\\\ p(u_{k,i})\\times\\alpha & \\text{if}\\ \\beta\\leq s < 1\\\\ 0 & \\text{if}\\ s < \\beta\\end{cases}\\tag{3}\\\\ \\text{WMPS}(u_{1..K,i},v_{j})=\\max_{k\\in[1,K]}(d)\\end{gather*}\n",
    "$$"
   ]
  },
  {
   "cell_type": "markdown",
   "id": "4ff62655",
   "metadata": {},
   "source": []
  },
  {
   "cell_type": "code",
   "execution_count": null,
   "id": "9b43fac3",
   "metadata": {},
   "outputs": [],
   "source": []
  }
 ],
 "metadata": {
  "kernelspec": {
   "display_name": "ps_pl",
   "language": "python",
   "name": "python3"
  },
  "language_info": {
   "name": "python",
   "version": "3.11.13"
  }
 },
 "nbformat": 4,
 "nbformat_minor": 5
}
