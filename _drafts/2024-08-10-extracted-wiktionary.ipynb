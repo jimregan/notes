{
 "cells": [
  {
   "cell_type": "code",
   "execution_count": 4,
   "id": "e7e61c06",
   "metadata": {
    "collapsed": false,
    "jupyter": {
     "outputs_hidden": false,
     "source_hidden": false
    }
   },
   "outputs": [],
   "source": [
    "sjoestedt = []\n",
    "quiggin = []\n",
    "word = \"\""
   ]
  },
  {
   "cell_type": "code",
   "execution_count": 5,
   "id": "3bce0254",
   "metadata": {
    "collapsed": false,
    "jupyter": {
     "outputs_hidden": false,
     "source_hidden": false
    }
   },
   "outputs": [],
   "source": [
    "with open(\"/Users/joregan/Playing/irish-gists/wiktionary/irish-ipa-raw.txt\") as raw:\n",
    "    for line in raw.readlines():\n",
    "        line = line.strip()\n",
    "        if line.startswith(\"*\"):\n",
    "            line = line[1:].strip()\n",
    "            if \"SjPh\" in line:\n",
    "                sjoestedt.append((word, line))\n",
    "            if \"Quiggin\" in line:\n",
    "                quiggin.append((word, line))\n",
    "        elif line.strip() == \"\":\n",
    "            word = \"\"\n",
    "        else:\n",
    "            word = line.strip()"
   ]
  },
  {
   "cell_type": "code",
   "execution_count": 10,
   "id": "176c58d3",
   "metadata": {
    "collapsed": false,
    "jupyter": {
     "outputs_hidden": false,
     "source_hidden": false
    }
   },
   "outputs": [],
   "source": [
    "import json\n",
    "\n",
    "with open(\"/tmp/quiggin.raw.json\", \"w\") as qf:\n",
    "    json.dump(quiggin, qf)\n",
    "with open(\"/tmp/sjoestedt.raw.json\", \"w\") as sf:\n",
    "    json.dump(sjoestedt, sf)"
   ]
  },
  {
   "cell_type": "code",
   "execution_count": 8,
   "id": "5a4aad8d",
   "metadata": {
    "collapsed": false,
    "jupyter": {
     "outputs_hidden": false,
     "source_hidden": false
    }
   },
   "outputs": [
    {
     "data": {
      "text/plain": [
       "212"
      ]
     },
     "execution_count": 8,
     "metadata": {},
     "output_type": "execute_result"
    }
   ],
   "source": [
    "len(sjoestedt)"
   ]
  },
  {
   "cell_type": "code",
   "execution_count": 11,
   "id": "a5afe46f",
   "metadata": {
    "collapsed": false,
    "jupyter": {
     "outputs_hidden": false,
     "source_hidden": false
    }
   },
   "outputs": [
    {
     "data": {
      "text/plain": [
       "212"
      ]
     },
     "execution_count": 11,
     "metadata": {},
     "output_type": "execute_result"
    }
   ],
   "source": [
    "len(sjoestedt)"
   ]
  },
  {
   "cell_type": "code",
   "execution_count": 81,
   "id": "62472f41",
   "metadata": {
    "collapsed": false,
    "jupyter": {
     "outputs_hidden": false,
     "source_hidden": false
    }
   },
   "outputs": [],
   "source": [
    "def get_ipa(text):\n",
    "    for ipastr in [\"{{IPA|ga|\", \"{{IPAchar|\"]:\n",
    "        if not ipastr in text:\n",
    "            continue\n",
    "        start = text.find(ipastr)\n",
    "        tstart = start + len(ipastr)\n",
    "        end = text[tstart:].find(\"}}\") + tstart\n",
    "        print(\"one\", text[tstart:end])\n",
    "        while \"{{\" in text[tstart:end]:\n",
    "            end = text[end+2:].find(\"}}\") + tstart\n",
    "            print(\"two\", tstart, end, text[tstart:end])\n",
    "    \n",
    "    return text[tstart:end].split(\"|\")"
   ]
  },
  {
   "cell_type": "code",
   "execution_count": 82,
   "id": "2b8ffd84",
   "metadata": {
    "collapsed": false,
    "jupyter": {
     "outputs_hidden": false,
     "source_hidden": false
    }
   },
   "outputs": [
    {
     "name": "stdout",
     "output_type": "stream",
     "text": [
      "one /l̪ˠɔsˠ/\n"
     ]
    },
    {
     "data": {
      "text/plain": [
       "['/l̪ˠɔsˠ/']"
      ]
     },
     "execution_count": 82,
     "metadata": {},
     "output_type": "execute_result"
    }
   ],
   "source": [
    "get_ipa('\"{{a|Ulster}} {{IPA|ga|/l̪ˠɔsˠ/}} {{q|as if spelled {{m|ga||los}}}}&lt;ref&gt;{{R:ga:Quiggin|13}}&lt;/ref&gt;\"')"
   ]
  },
  {
   "cell_type": "code",
   "execution_count": 14,
   "id": "9a1a8b66",
   "metadata": {
    "collapsed": false,
    "jupyter": {
     "outputs_hidden": false,
     "source_hidden": false
    }
   },
   "outputs": [
    {
     "data": {
      "text/plain": [
       "'{{IPA|ga|/ʃcɨ̞nˠ/|/ʃcɨ̞n̪ˠ/|ref2={{R:ga:Quiggin|41}}}}'"
      ]
     },
     "execution_count": 14,
     "metadata": {},
     "output_type": "execute_result"
    }
   ],
   "source": [
    "TEST_NESTED = \"* {{a|Ulster}} {{IPA|ga|/ʃcɨ̞nˠ/|/ʃcɨ̞n̪ˠ/|ref2={{R:ga:Quiggin|41}}}}\"\n",
    "\n",
    "s1 = TEST_NESTED.find(\"{{IPA|ga|\")\n",
    "e1 = TEST_NESTED.find(\"}}\", s1)\n",
    "s1, e1\n",
    "s2 = TEST_NESTED.find(\"{{\", s1+2, e1)\n",
    "e2 = TEST_NESTED.find(\"}}\", e1+2)\n",
    "s2, e2\n",
    "TEST_NESTED[s1:e2+2]"
   ]
  },
  {
   "cell_type": "code",
   "execution_count": 83,
   "id": "b3b1891e",
   "metadata": {
    "collapsed": false,
    "jupyter": {
     "outputs_hidden": false,
     "source_hidden": false
    }
   },
   "outputs": [
    {
     "name": "stdout",
     "output_type": "stream",
     "text": [
      "15\n",
      "54\n",
      "{{IPA|ga|/ʃcɨ̞nˠ/|/ʃcɨ̞n̪ˠ/|ref2={{R:ga:Quiggin|41\n"
     ]
    }
   ],
   "source": [
    "\n",
    "print(TEST_NESTED.find(\"{{IPA\"))\n",
    "a = TEST_NESTED[15:]\n",
    "print(len(a))\n",
    "print(a[:a.find(\"}}\")])"
   ]
  },
  {
   "cell_type": "code",
   "execution_count": 44,
   "id": "cd383926",
   "metadata": {
    "collapsed": false,
    "jupyter": {
     "outputs_hidden": false,
     "source_hidden": false
    }
   },
   "outputs": [],
   "source": [
    "def get_simple(text):\n",
    "    TPLS = {\n",
    "        \"{{R:ga:Sjoestedt Phonetique|\": \"sjoestedt_phonetique\",\n",
    "        \"{{R:ga:SjPh|\": \"sjoestedt_phonetique\",\n",
    "        \"{{R:ga:Quiggin|\": \"quiggin\",\n",
    "        \"{{R:ga:Finck|\": \"finck\",\n",
    "        \"{{R:ga:GCFD|\": \"gcfd\",\n",
    "        \"{{R:ga:Breatnach|\": \"breatnach\",\n",
    "        \"{{R:ga:ICF|\": \"icf\",\n",
    "        \"{{R:ga:Sjoestedt Description|\": \"sjoestedt_description\",\n",
    "        \"{{R:ga:SjDe|\": \"sjoestedt_description\",\n",
    "        \"{{R:ga:GCD|\": \"gcd\",\n",
    "        \"{{R:ga:Ó Searcaigh|\": \"o_searcaigh\"\n",
    "    }\n",
    "    extractions = []\n",
    "    for tpl in TPLS:\n",
    "        start = text.find(tpl)\n",
    "        if start < 0:\n",
    "            continue\n",
    "        end = text[start:].find(\"}}\")\n",
    "        if end > 0:\n",
    "            tstart = start + len(tpl)\n",
    "            end = start + end\n",
    "        inner = text[tstart:end]\n",
    "        extractions.append((start, end, TPLS[tpl], inner.split(\"|\")))\n",
    "    return extractions"
   ]
  },
  {
   "cell_type": "code",
   "execution_count": 43,
   "id": "745a7c7b",
   "metadata": {
    "collapsed": false,
    "jupyter": {
     "outputs_hidden": false,
     "source_hidden": false
    }
   },
   "outputs": [
    {
     "data": {
      "text/plain": [
       "[(72, 86, 'sjoestedt_phonetique', ['30']), (30, 47, 'quiggin', ['43'])]"
      ]
     },
     "execution_count": 43,
     "metadata": {},
     "output_type": "execute_result"
    }
   ],
   "source": [
    "get_simple(\"* {{IPA|ga|/bʲɪɟ/}}&lt;ref&gt;{{R:ga:Quiggin|43}}&lt;/ref&gt;&lt;ref&gt;{{R:ga:SjPh|30}}&lt;/ref&gt;\")"
   ]
  },
  {
   "cell_type": "code",
   "execution_count": 25,
   "id": "39ac95ec",
   "metadata": {
    "collapsed": false,
    "jupyter": {
     "outputs_hidden": false,
     "source_hidden": false
    }
   },
   "outputs": [
    {
     "data": {
      "text/plain": [
       "-1"
      ]
     },
     "execution_count": 25,
     "metadata": {},
     "output_type": "execute_result"
    }
   ],
   "source": [
    "\"thing\".find(\"x\")"
   ]
  }
 ],
 "metadata": {
  "kernelspec": {
   "display_name": "Python 3 (ipykernel)",
   "language": "python",
   "name": "python3"
  },
  "language_info": {
   "codemirror_mode": {
    "name": "ipython",
    "version": 3
   },
   "file_extension": ".py",
   "mimetype": "text/x-python",
   "name": "python",
   "nbconvert_exporter": "python",
   "pygments_lexer": "ipython3",
   "version": "3.9.15"
  },
  "widgets": {
   "application/vnd.jupyter.widget-state+json": {
    "state": {},
    "version_major": 2,
    "version_minor": 0
   }
  }
 },
 "nbformat": 4,
 "nbformat_minor": 5
}
