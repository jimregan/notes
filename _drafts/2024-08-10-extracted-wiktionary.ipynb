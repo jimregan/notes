{
 "cells": [
  {
   "cell_type": "code",
   "execution_count": 4,
   "id": "e7e61c06",
   "metadata": {
    "collapsed": false,
    "jupyter": {
     "outputs_hidden": false,
     "source_hidden": false
    }
   },
   "outputs": [],
   "source": [
    "sjoestedt = []\n",
    "quiggin = []\n",
    "word = \"\""
   ]
  },
  {
   "cell_type": "code",
   "execution_count": 5,
   "id": "3bce0254",
   "metadata": {
    "collapsed": false,
    "jupyter": {
     "outputs_hidden": false,
     "source_hidden": false
    }
   },
   "outputs": [],
   "source": [
    "with open(\"/Users/joregan/Playing/irish-gists/wiktionary/irish-ipa-raw.txt\") as raw:\n",
    "    for line in raw.readlines():\n",
    "        line = line.strip()\n",
    "        if line.startswith(\"*\"):\n",
    "            line = line[1:].strip()\n",
    "            if \"SjPh\" in line:\n",
    "                sjoestedt.append((word, line))\n",
    "            if \"Quiggin\" in line:\n",
    "                quiggin.append((word, line))\n",
    "        elif line.strip() == \"\":\n",
    "            word = \"\"\n",
    "        else:\n",
    "            word = line.strip()"
   ]
  },
  {
   "cell_type": "code",
   "execution_count": 10,
   "id": "176c58d3",
   "metadata": {
    "collapsed": false,
    "jupyter": {
     "outputs_hidden": false,
     "source_hidden": false
    }
   },
   "outputs": [],
   "source": [
    "import json\n",
    "\n",
    "with open(\"/tmp/quiggin.raw.json\", \"w\") as qf:\n",
    "    json.dump(quiggin, qf)\n",
    "with open(\"/tmp/sjoestedt.raw.json\", \"w\") as sf:\n",
    "    json.dump(sjoestedt, sf)"
   ]
  },
  {
   "cell_type": "code",
   "execution_count": 8,
   "id": "5a4aad8d",
   "metadata": {
    "collapsed": false,
    "jupyter": {
     "outputs_hidden": false,
     "source_hidden": false
    }
   },
   "outputs": [
    {
     "data": {
      "text/plain": [
       "212"
      ]
     },
     "execution_count": 8,
     "metadata": {},
     "output_type": "execute_result"
    }
   ],
   "source": [
    "len(sjoestedt)"
   ]
  },
  {
   "cell_type": "code",
   "execution_count": 11,
   "id": "a5afe46f",
   "metadata": {
    "collapsed": false,
    "jupyter": {
     "outputs_hidden": false,
     "source_hidden": false
    }
   },
   "outputs": [
    {
     "data": {
      "text/plain": [
       "212"
      ]
     },
     "execution_count": 11,
     "metadata": {},
     "output_type": "execute_result"
    }
   ],
   "source": [
    "len(sjoestedt)"
   ]
  }
 ],
 "metadata": {
  "kernelspec": {
   "display_name": "Python 3 (ipykernel)",
   "language": "python",
   "name": "python3"
  },
  "language_info": {
   "codemirror_mode": {
    "name": "ipython",
    "version": 3
   },
   "file_extension": ".py",
   "mimetype": "text/x-python",
   "name": "python",
   "nbconvert_exporter": "python",
   "pygments_lexer": "ipython3",
   "version": "3.11.9"
  },
  "widgets": {
   "application/vnd.jupyter.widget-state+json": {
    "state": {},
    "version_major": 2,
    "version_minor": 0
   }
  }
 },
 "nbformat": 4,
 "nbformat_minor": 5
}
