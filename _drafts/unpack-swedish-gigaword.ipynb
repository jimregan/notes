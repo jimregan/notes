{
 "cells": [
  {
   "cell_type": "code",
   "execution_count": 1,
   "id": "c996bfaf",
   "metadata": {
    "_cell_guid": "b1076dfc-b9ad-4769-8c92-a6c4dae69d19",
    "_uuid": "8f2839f25d086af736a60e9eeb907d3b93b6e0e5",
    "execution": {
     "iopub.execute_input": "2021-07-31T19:19:27.624336Z",
     "iopub.status.busy": "2021-07-31T19:19:27.623714Z",
     "iopub.status.idle": "2021-07-31T19:21:53.373422Z",
     "shell.execute_reply": "2021-07-31T19:21:53.372616Z"
    },
    "papermill": {
     "duration": 145.764075,
     "end_time": "2021-07-31T19:21:53.373605",
     "exception": false,
     "start_time": "2021-07-31T19:19:27.609530",
     "status": "completed"
    },
    "tags": []
   },
   "outputs": [
    {
     "name": "stdout",
     "output_type": "stream",
     "text": [
      "1950/\r\n",
      "1950/outfile_0000.xml.bz2\r\n",
      "1960/\r\n",
      "1960/outfile_0001.xml.bz2\r\n",
      "1960/outfile_0000.xml.bz2\r\n",
      "1970/\r\n",
      "1970/outfile_0001.xml.bz2\r\n",
      "1970/flatuslog.txt\r\n",
      "1970/outfile_0000.xml.bz2\r\n",
      "1980/\r\n",
      "1980/outfile_0001.xml.bz2\r\n",
      "1980/flatuslog.txt\r\n",
      "1980/outfile_0000.xml.bz2\r\n",
      "1990/\r\n",
      "1990/outfile_0001.xml.bz2\r\n",
      "1990/outfile_0006.xml.bz2\r\n",
      "1990/outfile_0002.xml.bz2\r\n",
      "1990/flatuslog.txt\r\n",
      "1990/outfile_0004.xml.bz2\r\n",
      "1990/outfile_0003.xml.bz2\r\n",
      "1990/outfile_0005.xml.bz2\r\n",
      "1990/outfile_0000.xml.bz2\r\n",
      "2000/\r\n",
      "2000/outfile_0023.xml.bz2\r\n",
      "2000/outfile_0011.xml.bz2\r\n",
      "2000/outfile_0001.xml.bz2\r\n",
      "2000/outfile_0016.xml.bz2\r\n",
      "2000/outfile_0027.xml.bz2\r\n",
      "2000/outfile_0008.xml.bz2\r\n",
      "2000/outfile_0007.xml.bz2\r\n",
      "2000/outfile_0006.xml.bz2\r\n",
      "2000/outfile_0009.xml.bz2\r\n",
      "2000/outfile_0014.xml.bz2\r\n",
      "2000/outfile_0018.xml.bz2\r\n",
      "2000/outfile_0017.xml.bz2\r\n",
      "2000/outfile_0002.xml.bz2\r\n",
      "2000/flatuslog.txt\r\n",
      "2000/outfile_0019.xml.bz2\r\n",
      "2000/outfile_0013.xml.bz2\r\n",
      "2000/outfile_0024.xml.bz2\r\n",
      "2000/outfile_0004.xml.bz2\r\n",
      "2000/outfile_0003.xml.bz2\r\n",
      "2000/outfile_0015.xml.bz2\r\n",
      "2000/outfile_0012.xml.bz2\r\n",
      "2000/outfile_0025.xml.bz2\r\n",
      "2000/outfile_0021.xml.bz2\r\n",
      "2000/outfile_0005.xml.bz2\r\n",
      "2000/outfile_0028.xml.bz2\r\n",
      "2000/outfile_0010.xml.bz2\r\n",
      "2000/outfile_0026.xml.bz2\r\n",
      "2000/outfile_0022.xml.bz2\r\n",
      "2000/outfile_0020.xml.bz2\r\n",
      "2000/outfile_0000.xml.bz2\r\n",
      "2010/\r\n",
      "2010/outfile_0011.xml.bz2\r\n",
      "2010/outfile_0001.xml.bz2\r\n",
      "2010/outfile_0016.xml.bz2\r\n",
      "2010/outfile_0008.xml.bz2\r\n",
      "2010/outfile_0007.xml.bz2\r\n",
      "2010/outfile_0006.xml.bz2\r\n",
      "2010/outfile_0009.xml.bz2\r\n",
      "2010/outfile_0014.xml.bz2\r\n",
      "2010/outfile_0018.xml.bz2\r\n",
      "2010/outfile_0017.xml.bz2\r\n",
      "2010/outfile_0002.xml.bz2\r\n",
      "2010/flatuslog.txt\r\n",
      "2010/outfile_0019.xml.bz2\r\n",
      "2010/outfile_0013.xml.bz2\r\n",
      "2010/outfile_0004.xml.bz2\r\n",
      "2010/outfile_0003.xml.bz2\r\n",
      "2010/outfile_0015.xml.bz2\r\n",
      "2010/outfile_0012.xml.bz2\r\n",
      "2010/outfile_0021.xml.bz2\r\n",
      "2010/outfile_0005.xml.bz2\r\n",
      "2010/outfile_0010.xml.bz2\r\n",
      "2010/outfile_0022.xml.bz2\r\n",
      "2010/outfile_0020.xml.bz2\r\n",
      "2010/outfile_0000.xml.bz2\r\n"
     ]
    }
   ],
   "source": [
    "!for i in ../input/download-swedish-gigaword/*.tar;do tar xvf $i;done"
   ]
  }
 ],
 "metadata": {
  "kernelspec": {
   "display_name": "Python 3",
   "language": "python",
   "name": "python3"
  },
  "language_info": {
   "codemirror_mode": {
    "name": "ipython",
    "version": 3
   },
   "file_extension": ".py",
   "mimetype": "text/x-python",
   "name": "python",
   "nbconvert_exporter": "python",
   "pygments_lexer": "ipython3",
   "version": "3.7.10"
  },
  "papermill": {
   "default_parameters": {},
   "duration": 171.805811,
   "end_time": "2021-07-31T19:22:11.730565",
   "environment_variables": {},
   "exception": null,
   "input_path": "__notebook__.ipynb",
   "output_path": "__notebook__.ipynb",
   "parameters": {},
   "start_time": "2021-07-31T19:19:19.924754",
   "version": "2.3.3"
  }
 },
 "nbformat": 4,
 "nbformat_minor": 5
}
