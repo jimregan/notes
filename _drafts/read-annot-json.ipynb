{
 "cells": [
  {
   "cell_type": "code",
   "execution_count": 3,
   "metadata": {},
   "outputs": [],
   "source": [
    "EG = \"/Users/joregan/Playing/merged_annotations/hsi_4_0717_209_002.json\""
   ]
  },
  {
   "cell_type": "code",
   "execution_count": 1,
   "metadata": {},
   "outputs": [],
   "source": [
    "import json"
   ]
  },
  {
   "cell_type": "code",
   "execution_count": 4,
   "metadata": {},
   "outputs": [],
   "source": [
    "with open(EG) as inf:\n",
    "    data = json.load(inf)"
   ]
  },
  {
   "cell_type": "code",
   "execution_count": 9,
   "metadata": {},
   "outputs": [],
   "source": [
    "SAMPLE = \"\"\"\n",
    "{\n",
    "  \"2\": {\n",
    "    \"general\": {\n",
    "      \"id\": 2,\n",
    "      \"start\": 5.970287890159987,\n",
    "      \"end\": 9.551266621561616\n",
    "    },\n",
    "    \"high_level\": {\n",
    "      \"topic_name\": \"reference_real\",\n",
    "      \"current_topic\": \"vase\",\n",
    "      \"topic_change\": false,\n",
    "      \"topic_duration_id\": 0,\n",
    "      \"spatial_reference\": \"fourth vase\",\n",
    "      \"referenced_object\": [\n",
    "        \"vase\"\n",
    "      ]\n",
    "    },\n",
    "    \"low_level\": {\n",
    "      \"resolved_references\": {\n",
    "        \"the fourth vase\": \"vase\",\n",
    "        \"it\": \"vase\"\n",
    "      },\n",
    "      \"spatial_relationships\": [],\n",
    "      \"resolved_adverbs\": []\n",
    "    },\n",
    "    \"snippet\": \"But I'm wondering about the fourth vase. Where is it? Did you break it?\"\n",
    "  }\n",
    "}\n",
    "\"\"\""
   ]
  },
  {
   "cell_type": "code",
   "execution_count": 10,
   "metadata": {},
   "outputs": [],
   "source": [
    "thing = json.loads(SAMPLE.strip())"
   ]
  },
  {
   "cell_type": "code",
   "execution_count": 13,
   "metadata": {},
   "outputs": [
    {
     "data": {
      "text/plain": [
       "dict_keys(['general', 'high_level', 'low_level', 'snippet'])"
      ]
     },
     "execution_count": 13,
     "metadata": {},
     "output_type": "execute_result"
    }
   ],
   "source": [
    "thing[\"2\"].keys()"
   ]
  },
  {
   "cell_type": "code",
   "execution_count": 14,
   "metadata": {},
   "outputs": [
    {
     "data": {
      "text/plain": [
       "{'resolved_references': {'the fourth vase': 'vase', 'it': 'vase'},\n",
       " 'spatial_relationships': [],\n",
       " 'resolved_adverbs': []}"
      ]
     },
     "execution_count": 14,
     "metadata": {},
     "output_type": "execute_result"
    }
   ],
   "source": [
    "thing[\"2\"][\"low_level\"]"
   ]
  },
  {
   "cell_type": "code",
   "execution_count": 16,
   "metadata": {},
   "outputs": [
    {
     "data": {
      "text/plain": [
       "False"
      ]
     },
     "execution_count": 16,
     "metadata": {},
     "output_type": "execute_result"
    }
   ],
   "source": [
    "thing[\"2\"][\"low_level\"][\"resolved_references\"] == {}"
   ]
  },
  {
   "cell_type": "code",
   "execution_count": 18,
   "metadata": {},
   "outputs": [],
   "source": [
    "words = [x.lower().strip(\".;?\") for x in thing[\"2\"][\"snippet\"].split(\" \")]"
   ]
  },
  {
   "cell_type": "code",
   "execution_count": 19,
   "metadata": {},
   "outputs": [
    {
     "data": {
      "text/plain": [
       "['but',\n",
       " \"i'm\",\n",
       " 'wondering',\n",
       " 'about',\n",
       " 'the',\n",
       " 'fourth',\n",
       " 'vase',\n",
       " 'where',\n",
       " 'is',\n",
       " 'it',\n",
       " 'did',\n",
       " 'you',\n",
       " 'break',\n",
       " 'it']"
      ]
     },
     "execution_count": 19,
     "metadata": {},
     "output_type": "execute_result"
    }
   ],
   "source": [
    "words"
   ]
  },
  {
   "cell_type": "code",
   "execution_count": 20,
   "metadata": {},
   "outputs": [
    {
     "name": "stdout",
     "output_type": "stream",
     "text": [
      "0\tYeah.\n",
      "1\tGood.\n",
      "3\tI have three now. I used to have four.\n",
      "8\tHmm.\n",
      "9\tAnd that weird waste bin over there, is that something you put there?\n",
      "13\tYeah.\n",
      "14\tYeah, cool.\n",
      "17\tOkay.\n",
      "19\tAnd I'm also wondering if you um...\n",
      "21\tHmm.\n",
      "23\tOh, so you're strong.\n",
      "24\tOkay, so uh\n",
      "26\tquite dirty.\n",
      "27\tUh-huh.\n",
      "28\tOh.\n",
      "31\tYou have to check, okay.\n",
      "33\tYeah.\n",
      "36\tHmm.\n",
      "37\tQuite nice.\n",
      "40\tOkay.\n",
      "41\tWell, maybe you have to pay me a little bit then.\n",
      "44\tYeah.\n",
      "45\tYeah. Cool.\n",
      "51\tUh-huh.\n",
      "52\tOkay.\n",
      "53\tFair enough.\n",
      "55\tI don't know.\n",
      "56\tAnimated.\n",
      "58\tYeah.\n",
      "60\tDo you?\n",
      "61\tYeah.\n",
      "65\tYeah.\n",
      "66\tGood.\n",
      "70\tYeah?\n",
      "71\tCool.\n"
     ]
    }
   ],
   "source": [
    "for key in data:\n",
    "    if data[key][\"low_level\"][\"resolved_references\"] == {}:\n",
    "        print(f\"{key}\\t{data[key]['snippet']}\")"
   ]
  },
  {
   "cell_type": "code",
   "execution_count": null,
   "metadata": {},
   "outputs": [],
   "source": [
    "unreal = [\"4\"]\n",
    "additions_real = {\n",
    "    \"4\": {\n",
    "\n",
    "    }\n",
    "}\n",
    "fixes = {\n",
    "    \"5\": {\n",
    "        \"real\": {\n",
    "            \"See-through\": \"vase\",\n",
    "            \"blue\": \"vase\",\n",
    "            \"green\": \"vase\"\n",
    "        },\n",
    "        \"unreal\": {\n",
    "            \"black\": \"vase\"\n",
    "        }\n",
    "    }\n",
    "}"
   ]
  },
  {
   "cell_type": "code",
   "execution_count": 22,
   "metadata": {},
   "outputs": [
    {
     "name": "stdout",
     "output_type": "stream",
     "text": [
      "0\n",
      "6\n",
      "11\n"
     ]
    }
   ],
   "source": [
    "STRING = \"It seems because I've had had it for one year and it's still perfect, you know?\"\n",
    "words = [x.lower().strip(\",?.;:\") for x in STRING.split(\" \")]\n",
    "for w in enumerate(words):\n",
    "    if w[1] in [\"it\", \"it's\"]:\n",
    "        print(w[0])"
   ]
  }
 ],
 "metadata": {
  "kernelspec": {
   "display_name": "nst-tts",
   "language": "python",
   "name": "python3"
  },
  "language_info": {
   "codemirror_mode": {
    "name": "ipython",
    "version": 3
   },
   "file_extension": ".py",
   "mimetype": "text/x-python",
   "name": "python",
   "nbconvert_exporter": "python",
   "pygments_lexer": "ipython3",
   "version": "3.10.9"
  }
 },
 "nbformat": 4,
 "nbformat_minor": 2
}
