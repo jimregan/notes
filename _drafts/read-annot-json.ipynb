{
 "cells": [
  {
   "cell_type": "code",
   "execution_count": 22,
   "metadata": {},
   "outputs": [],
   "source": [
    "import json"
   ]
  },
  {
   "cell_type": "code",
   "execution_count": 23,
   "metadata": {},
   "outputs": [],
   "source": [
    "def load_tsv(filename):\n",
    "    data = []\n",
    "    with open(filename) as inf:\n",
    "        for line in inf.readlines():\n",
    "            parts = line.strip().split(\"\\t\")\n",
    "            data.append({\n",
    "                \"start\": float(parts[0]),\n",
    "                \"end\": float(parts[1]),\n",
    "                \"word\": parts[2]\n",
    "            })\n",
    "    return data"
   ]
  },
  {
   "cell_type": "code",
   "execution_count": 24,
   "metadata": {},
   "outputs": [],
   "source": [
    "def slice_tsv_data(data, start, end):\n",
    "    ret = []\n",
    "    for datum in data:\n",
    "        if type(datum[\"start\"]) is str:\n",
    "            datum[\"start\"] = float(datum[\"start\"])\n",
    "        if type(datum[\"end\"]) is str:\n",
    "            datum[\"end\"] = float(datum[\"end\"])\n",
    "        if datum[\"start\"] >= start and datum[\"end\"] <= end:\n",
    "            ret.append(datum)\n",
    "        elif datum[\"end\"] > end:\n",
    "            return ret\n",
    "    return ret"
   ]
  },
  {
   "cell_type": "code",
   "execution_count": 25,
   "metadata": {},
   "outputs": [],
   "source": [
    "import re\n",
    "def norm_spaces(text):\n",
    "    return re.sub(\"  +\", \" \", text.strip())"
   ]
  },
  {
   "cell_type": "code",
   "execution_count": 26,
   "metadata": {},
   "outputs": [],
   "source": [
    "def clean_text(text):\n",
    "    text = norm_spaces(text)\n",
    "    return \" \".join([x.lower().strip(\".,;?!\") for x in text.split(\" \")])"
   ]
  },
  {
   "cell_type": "code",
   "execution_count": 27,
   "metadata": {},
   "outputs": [],
   "source": [
    "from pathlib import Path\n",
    "\n",
    "TSVS = Path(\"/Users/joregan/Playing/hsi/word_annotations/\")\n",
    "JSON = Path(\"/Users/joregan/Playing/merged_annotations/\")\n",
    "OUTP = Path(\"/Users/joregan/Playing/timed_annotations/\")\n",
    "if not OUTP.is_dir():\n",
    "    OUTP.mkdir()"
   ]
  },
  {
   "cell_type": "code",
   "execution_count": 28,
   "metadata": {},
   "outputs": [],
   "source": [
    "def get_indices(needle, haystack, checkpos=True):\n",
    "    ret = []\n",
    "    nwords = [x.lower().strip(\",?.;:\") for x in needle.split(\" \")]\n",
    "    hwords = [x.lower().strip(\",?.;:\") for x in haystack.split(\" \")]\n",
    "    nwordspos = nwords[:-1] + [f\"{nwords[-1]}'s\"]\n",
    "    nlen = len(nwords)\n",
    "\n",
    "    for i in range(len(hwords)):\n",
    "        if hwords[i:i+nlen] == nwords:\n",
    "            ret.append((i, i+nlen))\n",
    "        elif checkpos and hwords[i:i+nlen] == nwordspos:\n",
    "            ret.append((i, i+nlen))\n",
    "    return ret"
   ]
  },
  {
   "cell_type": "code",
   "execution_count": 38,
   "metadata": {},
   "outputs": [],
   "source": [
    "def clean_text2(text):\n",
    "    nums = {\n",
    "        \"60\": \"sixty\",\n",
    "        \"1\": \"one\",\n",
    "        \"20th\": \"twentieth\",\n",
    "        \"9th\": \"ninth\",\n",
    "        \"5\": \"five\"\n",
    "    }\n",
    "    text = norm_spaces(text)\n",
    "    words = [x.lower().strip(\".,;?!\") for x in text.split(\" \")]\n",
    "    ret = []\n",
    "    for word in words:\n",
    "        if word.startswith(\"[\") and word.endswith(\"]\"):\n",
    "            continue\n",
    "        elif word.startswith(\"{\") and word.endswith(\"}\"):\n",
    "            continue\n",
    "        word = nums.get(word, word)\n",
    "        word = word.replace(\".\", \" \").replace(\",\", \" \")\n",
    "        ret.append(word)\n",
    "    return \" \".join(ret)"
   ]
  },
  {
   "cell_type": "code",
   "execution_count": 39,
   "metadata": {},
   "outputs": [],
   "source": [
    "def get_tsv_for_segment(segment, tsv_data):\n",
    "    assert \"general\" in segment, \"Missing key 'general'\"\n",
    "    assert \"start\" in segment[\"general\"], \"Missing key 'start'\"\n",
    "    assert \"end\" in segment[\"general\"], \"Missing key 'end'\"\n",
    "\n",
    "    start = segment[\"general\"][\"start\"]\n",
    "    end = segment[\"general\"][\"end\"]\n",
    "\n",
    "    tsv = slice_tsv_data(tsv_data, start, end)\n",
    "    tsv_words = \" \".join([x[\"word\"] for x in tsv])\n",
    "\n",
    "    if segment[\"snippet\"] != tsv_words:\n",
    "        cleaned_snippet = clean_text2(segment[\"snippet\"])\n",
    "        cleaned_text = clean_text2(tsv_words)\n",
    "\n",
    "        if cleaned_snippet not in cleaned_text:\n",
    "            print(\"🙀 mismatch:\", \"🖇️\", segment[\"snippet\"], \"🎧\", tsv_words, cleaned_text.find(cleaned_snippet))\n",
    "            return []\n",
    "        else:\n",
    "            idxes = get_indices(cleaned_snippet, cleaned_text)\n",
    "            assert len(idxes) == 1\n",
    "            tsv = tsv[idxes[0][0]:idxes[0][1]]\n",
    "            tsv_words = \" \".join([x[\"word\"] for x in tsv])\n",
    "            cleaned_text = clean_text(tsv_words)\n",
    "            assert cleaned_snippet == cleaned_text, f\"🖇️ {cleaned_snippet} 🎧 {cleaned_text}\"\n",
    "    return tsv"
   ]
  },
  {
   "cell_type": "code",
   "execution_count": 31,
   "metadata": {},
   "outputs": [],
   "source": [
    "def is_skippable(segment, strict=True):\n",
    "    skippables = [\"conversation_generic\"]\n",
    "    if strict:\n",
    "        skippables += [\"reference_imaginary\"]\n",
    "    if not \"topic_name\" in segment[\"high_level\"]:\n",
    "        if \"current_topic\" in segment[\"high_level\"]:\n",
    "            segment[\"high_level\"][\"topic_name\"] = segment[\"high_level\"][\"current_topic\"]\n",
    "            del(segment[\"high_level\"][\"current_topic\"])\n",
    "    if segment[\"high_level\"][\"topic_name\"] == \"reference_unreal\":\n",
    "        segment[\"high_level\"][\"topic_name\"] = \"reference_imaginary\"\n",
    "    if segment[\"high_level\"][\"topic_name\"] in skippables:\n",
    "        return True\n",
    "    elif segment[\"low_level\"][\"resolved_references\"] == {}:\n",
    "        return True\n",
    "    else:\n",
    "        return False"
   ]
  },
  {
   "cell_type": "code",
   "execution_count": 32,
   "metadata": {},
   "outputs": [],
   "source": [
    "# that weird waste bin [(1, 5)]\n",
    "# that [(1, 2), (8, 9)]\n",
    "def skip_overlapped_index(a, b):\n",
    "    if a[0] >= b[0] and a[1] <= b[1]:\n",
    "        return True\n",
    "    return False\n",
    "\n",
    "assert skip_overlapped_index((1, 2), (1, 5)) == True\n",
    "assert skip_overlapped_index((1, 5), (1, 2)) == False"
   ]
  },
  {
   "cell_type": "code",
   "execution_count": 33,
   "metadata": {},
   "outputs": [],
   "source": [
    "def prune_manual_index(indices, manual):\n",
    "    ret = []\n",
    "    for index in indices:\n",
    "        if index[0] in manual:\n",
    "            ret.append(index)\n",
    "    return ret\n",
    "\n",
    "assert prune_manual_index([(1, 3), (5, 7)], [1]) == [(1, 3)]\n",
    "assert prune_manual_index([(1, 3), (5, 7)], [1, 5]) == [(1, 3), (5, 7)]"
   ]
  },
  {
   "cell_type": "code",
   "execution_count": 34,
   "metadata": {},
   "outputs": [],
   "source": [
    "# I will lose all faith in humanity if there isn't a less idiotic way to do this\n",
    "def prune_dict_for_overlap(segments):\n",
    "    if len(segments.keys()) == 1:\n",
    "        return segments\n",
    "    for segment in segments:\n",
    "        pruned = set()\n",
    "        for seg2 in segments:\n",
    "            if segment != seg2:\n",
    "                for a in segments[segment]:\n",
    "                    for b in segments[seg2]:\n",
    "                        if skip_overlapped_index(a, b):\n",
    "                            if a in pruned:\n",
    "                                pruned.remove(a)\n",
    "                        else:\n",
    "                            pruned.add(a)\n",
    "        segments[segment] = list(pruned)\n",
    "    return segments\n",
    "\n",
    "test = {\n",
    "    \"1\": [(1, 3), (5, 7)],\n",
    "    \"2\": [(9, 11)],\n",
    "    \"3\": [(1, 4)]\n",
    "}\n",
    "exp = {\n",
    "    \"1\": [(5, 7)],\n",
    "    \"2\": [(9, 11)],\n",
    "    \"3\": [(1, 4)]\n",
    "}\n",
    "assert prune_dict_for_overlap(test) == exp"
   ]
  },
  {
   "cell_type": "code",
   "execution_count": 35,
   "metadata": {},
   "outputs": [],
   "source": [
    "def process_segment(segment, tsv_data):\n",
    "    if is_skippable(segment):\n",
    "        return\n",
    "    tsv = get_tsv_for_segment(segment, tsv_data)\n",
    "    references = segment[\"low_level\"][\"resolved_references\"]\n",
    "    manual_idx = segment[\"low_level\"].get(\"resolved_references_indices\", {})\n",
    "\n",
    "    # these are ordered. Kinda.\n",
    "    indices = {}\n",
    "    for ref in references:\n",
    "        indices[ref] = get_indices(ref, segment[\"snippet\"])\n",
    "        if ref in manual_idx:\n",
    "            indices[ref] = prune_manual_index(indices[ref], manual_idx[ref])\n",
    "    indices = prune_dict_for_overlap(indices)\n",
    "    reftimes = []\n",
    "    for ref in references:\n",
    "        for index in indices[ref]:\n",
    "            seq = tsv[index[0]:index[1]]\n",
    "            if seq == []:\n",
    "                continue\n",
    "            start = seq[0][\"start\"]\n",
    "            end = seq[-1][\"end\"]\n",
    "            reftimes.append({\n",
    "                \"start\": start,\n",
    "                \"end\": end,\n",
    "                \"text\": ref,\n",
    "                \"reference\": references[ref]\n",
    "            })\n",
    "    segment[\"low_level\"][\"reference_times\"] = reftimes"
   ]
  },
  {
   "cell_type": "code",
   "execution_count": 40,
   "metadata": {},
   "outputs": [
    {
     "name": "stdout",
     "output_type": "stream",
     "text": [
      "🙀 mismatch: 🖇️ Like if someone wants to walk around your, your, your sofa,it's, it's going to be in their way, right? 🎧 Like if someone wants to walk around your, your, your sofa, it's, it's gonna be in their way, right? -1\n",
      "🙀 mismatch: 🖇️ The desk, you can't have that here because it's ruining the whole atmosphere. 🎧 The desk, you you can't have that here because it's eh ruining the whole atmosphere. -1\n",
      "🙀 mismatch: 🖇️ uh that that 🎧  -1\n",
      "🙀 mismatch: 🖇️ it's 🎧  -1\n",
      "🙀 mismatch: 🖇️ eh, So it's brought here by a friend as just a little, little cutling. 🎧 eh, So it's brought here by a friend as just a little, little cutting.. -1\n",
      "🙀 mismatch: 🖇️ And now it looks like that. 🎧 And now it's looks like that. -1\n",
      "🙀 mismatch: 🖇️ Because, you know, every time I was with my... We didn't watch much TV in those days because I'm 60 years old. 🎧 Because, you know, every time I was with my... We didn't watch much eh TV in those days because I'm sixty years old. -1\n",
      "🙀 mismatch: 🖇️ They're (fr-) from Germany, actually. 🎧 They're fr- from Germany, actually. -1\n",
      "🙀 mismatch: 🖇️ But then if you want to to remove some of the pieces, I think ah the the two ah pieces, the one the red one and the brown one there, eh those are the one down there. 🎧 But then if you want to to remove some of the pieces, I think ah the the two ah pieces, the one the red one and the brown one there, those are eh the one down there. -1\n",
      "🙀 mismatch: 🖇️ The sofa table and the rug. 🎧 The sofa table and the the rug, -1\n",
      "🙀 mismatch: 🖇️ Cuz then you will get light shining through and also the light will be nice looking in the vases. 🎧 Cuz then you will get light shining through and also the light will be nice looking in the voses. -1\n",
      "🙀 mismatch: 🖇️ So the colors would pop out. 🎧 So you the colors would pop out. -1\n",
      "🙀 mismatch: 🖇️ You're welcome. Good luck with your apartment and get rid of the teddy bear. 🎧 You're welcome. Good luck with your apartment and get rid of the T. Teddy bear. Get rid of -1\n",
      "🙀 mismatch: 🖇️ And eh, you [loud click noise] know that lamp in the corner? 🎧 And eh, you know that lamp in the corner? -1\n",
      "🙀 mismatch: 🖇️ It was someone before that ehh... that it, it belonged to this apartment before. 🎧 It was someone before that eh... that it, it belonged to this apartment before. -1\n",
      "🙀 mismatch: 🖇️ And then they had a [laugh] dog - that a they dog. 🎧 And then they had a dog that a they dog. -1\n",
      "🙀 mismatch: 🖇️ don't mind these boxes here. 🎧 Yeah, because I'm still, I'm still moving in. -1\n",
      "🙀 mismatch: 🖇️ Yeah, I mean, they all have my, you know, a little bit of a piece of my heart. 🎧 Yeah, I mean, they all have my, you know, little bit of a piece of my heart. -1\n",
      "🙀 mismatch: 🖇️ Crumbles 🎧  -1\n",
      "🙀 mismatch: 🖇️ I know it's hard to clean up, eh, because it's with the [loud click noise] carbon from from winter and everything. 🎧 I know it's hard to clean up, eh, because it's with the carbon from from winter and everything. -1\n",
      "🙀 mismatch: 🖇️ This [loud locking noise] this pillow. 🎧 Oh, this this pillow. -1\n",
      "🙀 mismatch: 🖇️ Did you move the rug like in front of the... 🎧 I see I see did you it's it seems like did you did you move the carpet like in front of the -1\n",
      "🙀 mismatch: 🖇️ It's lighter here in the sides and darker over there so this is eeh. 🎧 It's lighter here in the the sides and darker over there so this is eeh -1\n",
      "🙀 mismatch: 🖇️ and so I think this this place so yeah if we have then we need to put the the couch a little bit here further was but that's no problem because there's space here and, ehh, yeah okay you can put it on the wall but then maybe you should you should change this this furniture 🎧 and so I think this this place so yeah if we have then we need to put the the couch a little bit here further was but that's no problem because there's space here and, eh, yeah okay you can put it on the wall but then maybe you should you should change this this furniture -1\n",
      "🙀 mismatch: 🖇️ so you have a, a, a longer one because if you have a big TV and have just one it will be strange 🎧 so you have a, a, a longer one because if you have a big TV and have just once it will be strange -1\n",
      "🙀 mismatch: 🖇️ That, that ehh, that exists. 🎧 That, that eh, that exists. -1\n",
      "🙀 mismatch: 🖇️ It will be ve, very beautiful because you have this lamp there. 🎧 It will be ve-, very beautiful because you have this lamp there. -1\n",
      "🙀 mismatch: 🖇️ Do you have another vase? 🎧 Do you have another base? -1\n",
      "🙀 mismatch: 🖇️ And I also have a fireplace, but there's no fire in it. 🎧 And I also have fireplace, but there's no fire in it. -1\n",
      "🙀 mismatch: 🖇️ Yeah, IYeah, I I wouldn't I wouldn't put like the laptop close by to the s- to the statues because, in that case you would be uh moving the laptop or just working there and then... I mean you're really close to the statues and then maybe some ah accident happens and then you break some of uh the statues. So I I wouldn't do that. 🎧 Yeah, I I wouldn't I wouldn't put like the laptop close by to the s- to the statues because, in that case you would be uh moving the laptop or just working there and then... I mean you're really close to the statues and then maybe some ah accident happens and then you break some of uh the statues. So I I wouldn't do that. -1\n",
      "🙀 mismatch: 🖇️ ySo uh where... Did you clean the rug? Eh? Yeah, of course. Okay. Good. 🎧 So uh where... Did you clean the rug? Eh? Yeah, of course. Okay. Good. -1\n",
      "🙀 mismatch: 🖇️ Don't put keys on the table. It's very bad luck. 🎧 It's very much bad luck. Yes. -1\n",
      "🙀 mismatch: 🖇️ the couch should be turned this way 🎧  -1\n",
      "🙀 mismatch: 🖇️ these are doors so you can slide them out 🎧  -1\n",
      "🙀 mismatch: 🖇️ no it's not 🎧  -1\n",
      "🙀 mismatch: 🖇️ it's slide sliding doors 🎧  -1\n",
      "🙀 mismatch: 🖇️ and have you seen my super big painting 🎧  -1\n",
      "🙀 mismatch: 🖇️ no, it's it's eh they're from the same collection 🎧  -1\n",
      "🙀 mismatch: 🖇️ maybe I should put them next to each other instead 🎧  -1\n",
      "🙀 mismatch: 🖇️ so you can see, maybe they should be on that wall and just be like next to each other 🎧  -1\n",
      "🙀 mismatch: 🖇️ maybe on one on eah side of the chandelier 🎧  -1\n",
      "🙀 mismatch: 🖇️ oh I don't like the blue pillows, put them away 🎧  -1\n",
      "🙀 mismatch: 🖇️ just no pillows, there's it's like nothing else in this room has that color 🎧  -1\n",
      "🙀 mismatch: 🖇️ well both the the man the wooden man and the lion there are from Africa like ancient African art 🎧  -1\n",
      "🙀 mismatch: 🖇️ I got them there when I was there and it was an 🎧  -1\n",
      "🙀 mismatch: 🖇️ an auction, it was like first auction, it was pretty upsetting and I won them! 🎧  -1\n",
      "🙀 mismatch: 🖇️ she works a lot with woman's bodies with different shapes and 🎧  -1\n",
      "🙀 mismatch: 🖇️ different poses and such and that feels good to buy so 🎧  -1\n",
      "🙀 mismatch: 🖇️ that's why [spn] 🎧  -1\n",
      "🙀 mismatch: 🖇️ feel bright or whatever 🎧  -1\n",
      "🙀 mismatch: 🖇️ It's a that wouldn't be, doesn't belong here really, but. 🎧 It's something that wouldn't be, doesn't belong here really, but. -1\n",
      "🙀 mismatch: 🖇️ And it's so nice with the foot the coosh foot cushion. 🎧 And it's so nice with the fffoot the coosh foot cushion. -1\n",
      "🙀 mismatch: 🖇️ And the, what's that red thing? I mean, it looks like a credit card but I don't think it is. 🎧 And the, what's that red thing? I mean the looks like a credit card but I don't think it is. -1\n",
      "🙀 mismatch: 🖇️ But it's a little bit low though, so (breath out) to get up sometimes when you're sleepy is a little bit hard. 🎧 But it's a little bit low though, so to get up sometimes when you're sleepy is a little bit hard. -1\n",
      "🙀 mismatch: 🖇️ Because those are, those look like bars, right? 🎧 It's conveying the exact opposite of what you want. -1\n",
      "🙀 mismatch: 🖇️ It's false kids. 🎧 it's, It's your kids. -1\n",
      "🙀 mismatch: 🖇️ Either you have a new television, like those flat ones you put on the wall 🎧 Either you have a new television, like those those flat ones you put on the wall, or you just get rid of it. -1\n",
      "🙀 mismatch: 🖇️ Those guys, they also have a clay pot, but then that one has a stone pot. 🎧 Those guys, they also have a clay pot, but then that one h has a stone pot. -1\n",
      "🙀 mismatch: 🖇️ Yeah, is that why you also replaced, uh, my my pillow right there? 🎧 Yeah, is that why you also replaced, uh, my uh my pillow right there? -1\n",
      "🙀 mismatch: 🖇️ product I mean, look at this. 🎧 product I mean, look at that this. -1\n",
      "🙀 mismatch: 🖇️ it's obviously not what was there before, right? 🎧 it's obviously -1\n",
      "🙀 mismatch: 🖇️ And around the turn of the 9th, uh, 20th century, yes, they actually captured a woman who had a similar figure to that and brought her around Europe. 🎧 And around the uh the turn of the the ninth, uh, twentieth century, yes, um they actually they captured a woman uh who had a similar figure to that uh and brought her around Europe. -1\n",
      "🙀 mismatch: 🖇️ And ehh, the other painting is from South America, actually. 🎧 And eh, the other painting is from South America, actually. -1\n",
      "🙀 mismatch: 🖇️ It looks like a, a, a person looking down, like a face looking down. 🎧 It's looks like a, a, a person looking down, like a face looking down. -1\n",
      "🙀 mismatch: 🖇️ Those two women, ehh, they are from two different ehh, parts of the world. 🎧 Those two women, eh, they are from two different eh, parts of the world. -1\n",
      "🙀 mismatch: 🖇️ The black one, she's from, eh, the eh, Tromso in the south of Norway, really, really high up in the north. 🎧 The black one, she's from, uh eh, the eh, Tr- Tromsø in the south of of Norway, really, really high up in the north. -1\n",
      "🙀 mismatch: 🖇️ And you see, there are there. 🎧 And you see, there are three. -1\n",
      "🙀 mismatch: 🖇️ No, because I thought if you had told me we could have removed some of them. 🎧 No, because I thought -1\n",
      "🙀 mismatch: 🖇️ What do you call this one in Swedish eh or in English, fauteuil 🎧 What you call this one in Swedish eh or in English, fåtölj? -1\n",
      "🙀 mismatch: 🖇️ Well, I'm thinking maybe (we'll) we should just turn this, the big couch, turn it this way, have these as they are. 🎧 Well, I'm thinking maybe we'll we should just turn this, the big couch, turn it this way, have these as they are. -1\n",
      "🙀 mismatch: 🖇️ And... there is one vase missing there. 🎧 And... there is one base missing there. -1\n",
      "🙀 mismatch: 🖇️ But I I think you should have something that was about this high, 20 centimeters. 🎧 But I I think you should have something that was about this high, twenty centimeters. -1\n",
      "🙀 mismatch: 🖇️ oYeah, cause like what I do is like I have it facing me and I, I take one of the chairs and I sit at the head of the table and I watch mukbang videos. 🎧 Yeah, cause like what I do is like I have it facing me and I, I take one of the chairs and I sit at the head of the table and I watch mukbang videos. -1\n",
      "🙀 mismatch: 🖇️ it's 🎧  -1\n"
     ]
    }
   ],
   "source": [
    "for jsonfile in JSON.glob(\"*.json\"):\n",
    "    base = jsonfile.stem\n",
    "    with open(jsonfile) as jsf:\n",
    "        data = json.load(jsf)\n",
    "    rawtsv = load_tsv(str(TSVS / f\"{base}_main.tsv\"))\n",
    "    outfile = OUTP / f\"{base}.json\"\n",
    "    for seg in data:\n",
    "        process_segment(data[seg], rawtsv)\n",
    "    with open(str(outfile), 'w') as f:\n",
    "        json.dump(data, f, indent=2)"
   ]
  },
  {
   "cell_type": "code",
   "execution_count": 37,
   "metadata": {},
   "outputs": [
    {
     "name": "stdout",
     "output_type": "stream",
     "text": [
      "/Users/joregan/Playing/merged_annotations/hsi_6_0718_227_001.json\n"
     ]
    }
   ],
   "source": [
    "print(jsonfile)"
   ]
  }
 ],
 "metadata": {
  "kernelspec": {
   "display_name": "nst-tts",
   "language": "python",
   "name": "python3"
  },
  "language_info": {
   "codemirror_mode": {
    "name": "ipython",
    "version": 3
   },
   "file_extension": ".py",
   "mimetype": "text/x-python",
   "name": "python",
   "nbconvert_exporter": "python",
   "pygments_lexer": "ipython3",
   "version": "3.10.9"
  }
 },
 "nbformat": 4,
 "nbformat_minor": 2
}
