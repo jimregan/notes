{
 "cells": [
  {
   "cell_type": "code",
   "execution_count": 38,
   "metadata": {},
   "outputs": [],
   "source": [
    "EG = \"/Users/joregan/Playing/merged_annotations/hsi_4_0717_209_002.json\""
   ]
  },
  {
   "cell_type": "code",
   "execution_count": 39,
   "metadata": {},
   "outputs": [],
   "source": [
    "import json"
   ]
  },
  {
   "cell_type": "code",
   "execution_count": 40,
   "metadata": {},
   "outputs": [],
   "source": [
    "with open(EG) as inf:\n",
    "    data = json.load(inf)"
   ]
  },
  {
   "cell_type": "code",
   "execution_count": 9,
   "metadata": {},
   "outputs": [],
   "source": [
    "SAMPLE = \"\"\"\n",
    "{\n",
    "  \"2\": {\n",
    "    \"general\": {\n",
    "      \"id\": 2,\n",
    "      \"start\": 5.970287890159987,\n",
    "      \"end\": 9.551266621561616\n",
    "    },\n",
    "    \"high_level\": {\n",
    "      \"topic_name\": \"reference_real\",\n",
    "      \"current_topic\": \"vase\",\n",
    "      \"topic_change\": false,\n",
    "      \"topic_duration_id\": 0,\n",
    "      \"spatial_reference\": \"fourth vase\",\n",
    "      \"referenced_object\": [\n",
    "        \"vase\"\n",
    "      ]\n",
    "    },\n",
    "    \"low_level\": {\n",
    "      \"resolved_references\": {\n",
    "        \"the fourth vase\": \"vase\",\n",
    "        \"it\": \"vase\"\n",
    "      },\n",
    "      \"spatial_relationships\": [],\n",
    "      \"resolved_adverbs\": []\n",
    "    },\n",
    "    \"snippet\": \"But I'm wondering about the fourth vase. Where is it? Did you break it?\"\n",
    "  }\n",
    "}\n",
    "\"\"\""
   ]
  },
  {
   "cell_type": "code",
   "execution_count": 10,
   "metadata": {},
   "outputs": [],
   "source": [
    "thing = json.loads(SAMPLE.strip())"
   ]
  },
  {
   "cell_type": "code",
   "execution_count": 13,
   "metadata": {},
   "outputs": [
    {
     "data": {
      "text/plain": [
       "dict_keys(['general', 'high_level', 'low_level', 'snippet'])"
      ]
     },
     "execution_count": 13,
     "metadata": {},
     "output_type": "execute_result"
    }
   ],
   "source": [
    "thing[\"2\"].keys()"
   ]
  },
  {
   "cell_type": "code",
   "execution_count": 14,
   "metadata": {},
   "outputs": [
    {
     "data": {
      "text/plain": [
       "{'resolved_references': {'the fourth vase': 'vase', 'it': 'vase'},\n",
       " 'spatial_relationships': [],\n",
       " 'resolved_adverbs': []}"
      ]
     },
     "execution_count": 14,
     "metadata": {},
     "output_type": "execute_result"
    }
   ],
   "source": [
    "thing[\"2\"][\"low_level\"]"
   ]
  },
  {
   "cell_type": "code",
   "execution_count": 16,
   "metadata": {},
   "outputs": [
    {
     "data": {
      "text/plain": [
       "False"
      ]
     },
     "execution_count": 16,
     "metadata": {},
     "output_type": "execute_result"
    }
   ],
   "source": [
    "thing[\"2\"][\"low_level\"][\"resolved_references\"] == {}"
   ]
  },
  {
   "cell_type": "code",
   "execution_count": 18,
   "metadata": {},
   "outputs": [],
   "source": [
    "words = [x.lower().strip(\".;?\") for x in thing[\"2\"][\"snippet\"].split(\" \")]"
   ]
  },
  {
   "cell_type": "code",
   "execution_count": 19,
   "metadata": {},
   "outputs": [
    {
     "data": {
      "text/plain": [
       "['but',\n",
       " \"i'm\",\n",
       " 'wondering',\n",
       " 'about',\n",
       " 'the',\n",
       " 'fourth',\n",
       " 'vase',\n",
       " 'where',\n",
       " 'is',\n",
       " 'it',\n",
       " 'did',\n",
       " 'you',\n",
       " 'break',\n",
       " 'it']"
      ]
     },
     "execution_count": 19,
     "metadata": {},
     "output_type": "execute_result"
    }
   ],
   "source": [
    "words"
   ]
  },
  {
   "cell_type": "code",
   "execution_count": null,
   "metadata": {},
   "outputs": [],
   "source": [
    "for key in data:\n",
    "    if data[key][\"low_level\"][\"resolved_references\"] == {}:\n",
    "        print(f\"{key}\\t{data[key]['snippet']}\")"
   ]
  },
  {
   "cell_type": "code",
   "execution_count": null,
   "metadata": {},
   "outputs": [],
   "source": [
    "unreal = [\"4\"]\n",
    "additions_real = {\n",
    "    \"4\": {\n",
    "\n",
    "    }\n",
    "}\n",
    "fixes = {\n",
    "    \"5\": {\n",
    "        \"real\": {\n",
    "            \"See-through\": \"vase\",\n",
    "            \"blue\": \"vase\",\n",
    "            \"green\": \"vase\"\n",
    "        },\n",
    "        \"unreal\": {\n",
    "            \"black\": \"vase\"\n",
    "        }\n",
    "    }\n",
    "}"
   ]
  },
  {
   "cell_type": "code",
   "execution_count": 23,
   "metadata": {},
   "outputs": [],
   "source": [
    "STRING = \"It's like, it looks weird. Did you do something with it?\"\n",
    "\n",
    "def get_simple_indices(text, check=[\"it\", \"it's\"]):\n",
    "    ret = []\n",
    "    words = [x.lower().strip(\",?.;:\") for x in text.split(\" \")]\n",
    "    for w in enumerate(words):\n",
    "        if w[1] in check:\n",
    "            ret.append(w[0])\n",
    "    return ret"
   ]
  },
  {
   "cell_type": "code",
   "execution_count": 37,
   "metadata": {},
   "outputs": [
    {
     "data": {
      "text/plain": [
       "[5, 12]"
      ]
     },
     "execution_count": 37,
     "metadata": {},
     "output_type": "execute_result"
    }
   ],
   "source": [
    "get_simple_indices(\"And where did i buy it? I'm I'm not sure... I think it was here.\")"
   ]
  },
  {
   "cell_type": "markdown",
   "metadata": {},
   "source": [
    "```json\n",
    "      \"resolved_references_indices\": {\n",
    "        \"it\": [2, 4]\n",
    "      }\n",
    "```"
   ]
  },
  {
   "cell_type": "code",
   "execution_count": 42,
   "metadata": {},
   "outputs": [
    {
     "data": {
      "text/plain": [
       "{'general': {'id': 12, 'start': 53.02430161961156, 'end': 57.88831036189313},\n",
       " 'high_level': {'topic_name': 'reference_real',\n",
       "  'current_topic': 'desk',\n",
       "  'topic_change': False,\n",
       "  'topic_duration_id': 0,\n",
       "  'spatial_reference': '',\n",
       "  'referenced_object': ['desk']},\n",
       " 'low_level': {'resolved_references': {'the desk': 'desk', 'it': 'desk'},\n",
       "  'spatial_relationships': [],\n",
       "  'resolved_adverbs': [],\n",
       "  'resolved_references_indices': {'it': [11, 15]}},\n",
       " 'snippet': 'And how about the cleaning is like the, the desk? Is it, did you dust it?'}"
      ]
     },
     "execution_count": 42,
     "metadata": {},
     "output_type": "execute_result"
    }
   ],
   "source": [
    "data[\"12\"]"
   ]
  },
  {
   "cell_type": "code",
   "execution_count": null,
   "metadata": {},
   "outputs": [],
   "source": [
    "def load_tsv(filename):\n",
    "    data = []\n",
    "    with open(filename) as inf:\n",
    "        for line in inf.readlines():\n",
    "            parts = line.strip().split(\"\\t\")\n",
    "            data.append({\n",
    "                \"start\": float(parts[0]),\n",
    "                \"end\": float(parts[1]),\n",
    "                \"word\": parts[2]\n",
    "            })\n",
    "    return data"
   ]
  },
  {
   "cell_type": "code",
   "execution_count": 47,
   "metadata": {},
   "outputs": [],
   "source": [
    "def slice_tsv_data(data, start, end):\n",
    "    ret = []\n",
    "    for datum in data:\n",
    "        if type(datum[\"start\"]) is str:\n",
    "            datum[\"start\"] = float(datum[\"start\"])\n",
    "        if type(datum[\"end\"]) is str:\n",
    "            datum[\"end\"] = float(datum[\"end\"])\n",
    "        if datum[\"start\"] >= start and datum[\"end\"] <= end:\n",
    "            ret.append(datum)\n",
    "        elif datum[\"end\"] > end:\n",
    "            return ret\n",
    "    return ret"
   ]
  },
  {
   "cell_type": "code",
   "execution_count": 45,
   "metadata": {},
   "outputs": [],
   "source": [
    "ttsv = load_tsv(\"/Users/joregan/Playing/hsi/word_annotations/hsi_4_0717_209_002_main.tsv\")"
   ]
  },
  {
   "cell_type": "code",
   "execution_count": 48,
   "metadata": {},
   "outputs": [
    {
     "data": {
      "text/plain": [
       "[{'start': 53.124, 'end': 53.284, 'word': 'And'},\n",
       " {'start': 53.284, 'end': 53.464, 'word': 'how'},\n",
       " {'start': 53.464, 'end': 53.644, 'word': 'about'},\n",
       " {'start': 53.644, 'end': 53.744, 'word': 'the'},\n",
       " {'start': 53.744, 'end': 54.324, 'word': 'cleaning'},\n",
       " {'start': 54.324, 'end': 54.544, 'word': 'is'},\n",
       " {'start': 54.544, 'end': 54.824, 'word': 'like'},\n",
       " {'start': 54.824, 'end': 55.204, 'word': 'the,'},\n",
       " {'start': 55.204, 'end': 55.584, 'word': 'the'},\n",
       " {'start': 55.584, 'end': 56.024, 'word': 'desk?'},\n",
       " {'start': 56.024, 'end': 56.204, 'word': 'Is'},\n",
       " {'start': 56.204, 'end': 56.604, 'word': 'it,'},\n",
       " {'start': 56.604, 'end': 56.984, 'word': 'did'},\n",
       " {'start': 56.984, 'end': 57.124, 'word': 'you'},\n",
       " {'start': 57.124, 'end': 57.504, 'word': 'dust'},\n",
       " {'start': 57.504, 'end': 57.664, 'word': 'it?'}]"
      ]
     },
     "execution_count": 48,
     "metadata": {},
     "output_type": "execute_result"
    }
   ],
   "source": [
    "slice_tsv_data(ttsv, 53.02430161961156, 57.88831036189313)"
   ]
  }
 ],
 "metadata": {
  "kernelspec": {
   "display_name": "nst-tts",
   "language": "python",
   "name": "python3"
  },
  "language_info": {
   "codemirror_mode": {
    "name": "ipython",
    "version": 3
   },
   "file_extension": ".py",
   "mimetype": "text/x-python",
   "name": "python",
   "nbconvert_exporter": "python",
   "pygments_lexer": "ipython3",
   "version": "3.10.9"
  }
 },
 "nbformat": 4,
 "nbformat_minor": 2
}
