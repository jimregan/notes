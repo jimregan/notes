{
 "cells": [
  {
   "cell_type": "code",
   "execution_count": 38,
   "metadata": {},
   "outputs": [],
   "source": [
    "EG = \"/Users/joregan/Playing/merged_annotations/hsi_4_0717_209_002.json\""
   ]
  },
  {
   "cell_type": "code",
   "execution_count": 39,
   "metadata": {},
   "outputs": [],
   "source": [
    "import json"
   ]
  },
  {
   "cell_type": "code",
   "execution_count": 40,
   "metadata": {},
   "outputs": [],
   "source": [
    "with open(EG) as inf:\n",
    "    data = json.load(inf)"
   ]
  },
  {
   "cell_type": "code",
   "execution_count": 9,
   "metadata": {},
   "outputs": [],
   "source": [
    "SAMPLE = \"\"\"\n",
    "{\n",
    "  \"2\": {\n",
    "    \"general\": {\n",
    "      \"id\": 2,\n",
    "      \"start\": 5.970287890159987,\n",
    "      \"end\": 9.551266621561616\n",
    "    },\n",
    "    \"high_level\": {\n",
    "      \"topic_name\": \"reference_real\",\n",
    "      \"current_topic\": \"vase\",\n",
    "      \"topic_change\": false,\n",
    "      \"topic_duration_id\": 0,\n",
    "      \"spatial_reference\": \"fourth vase\",\n",
    "      \"referenced_object\": [\n",
    "        \"vase\"\n",
    "      ]\n",
    "    },\n",
    "    \"low_level\": {\n",
    "      \"resolved_references\": {\n",
    "        \"the fourth vase\": \"vase\",\n",
    "        \"it\": \"vase\"\n",
    "      },\n",
    "      \"spatial_relationships\": [],\n",
    "      \"resolved_adverbs\": []\n",
    "    },\n",
    "    \"snippet\": \"But I'm wondering about the fourth vase. Where is it? Did you break it?\"\n",
    "  }\n",
    "}\n",
    "\"\"\""
   ]
  },
  {
   "cell_type": "markdown",
   "metadata": {},
   "source": [
    "```json\n",
    "      \"resolved_references_indices\": {\n",
    "        \"it\": [2, 4]\n",
    "      }\n",
    "```"
   ]
  },
  {
   "cell_type": "code",
   "execution_count": null,
   "metadata": {},
   "outputs": [],
   "source": [
    "def load_tsv(filename):\n",
    "    data = []\n",
    "    with open(filename) as inf:\n",
    "        for line in inf.readlines():\n",
    "            parts = line.strip().split(\"\\t\")\n",
    "            data.append({\n",
    "                \"start\": float(parts[0]),\n",
    "                \"end\": float(parts[1]),\n",
    "                \"word\": parts[2]\n",
    "            })\n",
    "    return data"
   ]
  },
  {
   "cell_type": "code",
   "execution_count": 47,
   "metadata": {},
   "outputs": [],
   "source": [
    "def slice_tsv_data(data, start, end):\n",
    "    ret = []\n",
    "    for datum in data:\n",
    "        if type(datum[\"start\"]) is str:\n",
    "            datum[\"start\"] = float(datum[\"start\"])\n",
    "        if type(datum[\"end\"]) is str:\n",
    "            datum[\"end\"] = float(datum[\"end\"])\n",
    "        if datum[\"start\"] >= start and datum[\"end\"] <= end:\n",
    "            ret.append(datum)\n",
    "        elif datum[\"end\"] > end:\n",
    "            return ret\n",
    "    return ret"
   ]
  },
  {
   "cell_type": "code",
   "execution_count": 50,
   "metadata": {},
   "outputs": [],
   "source": [
    "def clean_text(text):\n",
    "    return \" \".join([x.lower().strip(\".,;?!\") for x in text.split(\" \")])"
   ]
  },
  {
   "cell_type": "code",
   "execution_count": 51,
   "metadata": {},
   "outputs": [],
   "source": [
    "from pathlib import Path\n",
    "\n",
    "TSVS = Path(\"/Users/joregan/Playing/hsi/word_annotations/\")\n",
    "JSON = Path(\"/Users/joregan/Playing/merged_annotations/\")"
   ]
  },
  {
   "cell_type": "code",
   "execution_count": 93,
   "metadata": {},
   "outputs": [],
   "source": [
    "def get_indices(needle, haystack, checkpos=True):\n",
    "    ret = []\n",
    "    nwords = [x.lower().strip(\",?.;:\") for x in needle.split(\" \")]\n",
    "    hwords = [x.lower().strip(\",?.;:\") for x in haystack.split(\" \")]\n",
    "    nwordspos = nwords[:-1] + [f\"{nwords[-1]}'s\"]\n",
    "    nlen = len(nwords)\n",
    "\n",
    "    for i in range(len(hwords)):\n",
    "        if hwords[i:i+nlen] == nwords:\n",
    "            ret.append((i, i+nlen))\n",
    "        elif checkpos and hwords[i:i+nlen] == nwordspos:\n",
    "            ret.append((i, i+nlen))\n",
    "    return ret"
   ]
  },
  {
   "cell_type": "code",
   "execution_count": null,
   "metadata": {},
   "outputs": [],
   "source": [
    "def get_tsv_for_segment(segment, tsv_data):\n",
    "    assert \"general\" in segment, \"Missing key 'general'\"\n",
    "    assert \"start\" in segment[\"general\"], \"Missing key 'start'\"\n",
    "    assert \"end\" in segment[\"general\"], \"Missing key 'end'\"\n",
    "\n",
    "    start = segment[\"general\"][\"start\"]\n",
    "    end = segment[\"general\"][\"end\"]\n",
    "\n",
    "    tsv = slice_tsv_data(tsv_data, start, end)\n",
    "    tsv_words = \" \".join([x[\"word\"] for x in tsv])\n",
    "\n",
    "    if segment[\"snippet\"] != tsv_words:\n",
    "        cleaned_snippet = clean_text(segment[\"snippet\"])\n",
    "        cleaned_text = clean_text(tsv_words)\n",
    "\n",
    "        if cleaned_snippet not in cleaned_text:\n",
    "            print(\"🙀 mismatch:\", \"🖇️\", segment[\"snippet\"], \"🎧\", tsv_words, cleaned_text.find(cleaned_snippet))\n",
    "            return []\n",
    "        else:\n",
    "            idxes = get_indices(cleaned_snippet, cleaned_text)\n",
    "            assert len(idxes) == 1\n",
    "            tsv = tsv[idxes[0][0]:idxes[0][1]]\n",
    "            tsv_words = \" \".join([x[\"word\"] for x in tsv])\n",
    "            cleaned_text = clean_text(tsv_words)\n",
    "            assert cleaned_snippet == cleaned_text, f\"🖇️ {cleaned_snippet} 🎧 {cleaned_text}\"\n",
    "    return tsv\n",
    "        "
   ]
  },
  {
   "cell_type": "code",
   "execution_count": 109,
   "metadata": {},
   "outputs": [
    {
     "name": "stdout",
     "output_type": "stream",
     "text": [
      "[{'start': 2.835, 'end': 3.055, 'word': 'Yeah.'}]\n",
      "[{'start': 4.395, 'end': 4.655, 'word': 'Good.'}]\n",
      "[{'start': 5.99, 'end': 6.31, 'word': 'But'}, {'start': 6.31, 'end': 6.51, 'word': \"I'm\"}, {'start': 6.51, 'end': 6.89, 'word': 'wondering'}, {'start': 6.89, 'end': 7.09, 'word': 'about'}, {'start': 7.09, 'end': 7.21, 'word': 'the'}, {'start': 7.21, 'end': 7.53, 'word': 'fourth'}, {'start': 7.53, 'end': 8.05, 'word': 'vase.'}, {'start': 8.05, 'end': 8.33, 'word': 'Where'}, {'start': 8.33, 'end': 8.43, 'word': 'is'}, {'start': 8.43, 'end': 8.69, 'word': 'it?'}, {'start': 8.69, 'end': 8.95, 'word': 'Did'}, {'start': 8.95, 'end': 9.03, 'word': 'you'}, {'start': 9.03, 'end': 9.29, 'word': 'break'}, {'start': 9.29, 'end': 9.43, 'word': 'it?'}]\n",
      "[{'start': 13.816, 'end': 13.836, 'word': 'I'}, {'start': 13.836, 'end': 14.036, 'word': 'have'}, {'start': 14.036, 'end': 14.416, 'word': 'three'}, {'start': 14.416, 'end': 14.896, 'word': 'now.'}, {'start': 14.896, 'end': 15.076, 'word': 'I'}, {'start': 15.076, 'end': 15.276, 'word': 'used'}, {'start': 15.296, 'end': 15.356, 'word': 'to'}, {'start': 15.356, 'end': 15.536, 'word': 'have'}, {'start': 15.536, 'end': 15.856, 'word': 'four.'}]\n",
      "[{'start': 21.459, 'end': 21.479, 'word': 'I'}, {'start': 21.479, 'end': 21.639, 'word': 'had'}, {'start': 21.639, 'end': 21.679, 'word': 'a'}, {'start': 21.679, 'end': 22.059, 'word': 'black'}, {'start': 22.059, 'end': 22.239, 'word': 'one'}, {'start': 22.239, 'end': 22.299, 'word': 'as'}, {'start': 22.299, 'end': 22.559, 'word': 'well.'}]\n",
      "[{'start': 24.158, 'end': 24.638, 'word': 'See-through,'}, {'start': 24.638, 'end': 24.958, 'word': 'blue,'}, {'start': 24.958, 'end': 25.298, 'word': 'green'}, {'start': 25.298, 'end': 25.378, 'word': 'and'}, {'start': 25.398, 'end': 25.698, 'word': 'black.'}]\n",
      "[{'start': 27.227, 'end': 27.367, 'word': 'Did'}, {'start': 27.387, 'end': 27.467, 'word': 'you'}, {'start': 27.487, 'end': 27.727, 'word': 'break'}, {'start': 27.727, 'end': 27.867, 'word': 'it?'}]\n",
      "[{'start': 33.036, 'end': 33.136, 'word': 'You'}, {'start': 33.136, 'end': 33.436, 'word': 'moved'}, {'start': 33.436, 'end': 33.636, 'word': 'it.'}]\n",
      "[{'start': 35.498, 'end': 35.638, 'word': 'Hmm.'}]\n",
      "[{'start': 37.966, 'end': 38.146, 'word': 'And'}, {'start': 38.166, 'end': 38.526, 'word': 'that'}, {'start': 38.526, 'end': 39.126, 'word': 'weird'}, {'start': 39.126, 'end': 39.586, 'word': 'waste'}, {'start': 39.586, 'end': 39.846, 'word': 'bin'}, {'start': 39.846, 'end': 40.086, 'word': 'over'}, {'start': 40.086, 'end': 40.666, 'word': 'there,'}, {'start': 40.666, 'end': 41.066, 'word': 'is'}, {'start': 41.066, 'end': 41.266, 'word': 'that'}, {'start': 41.266, 'end': 41.846, 'word': 'something'}, {'start': 41.846, 'end': 42.126, 'word': 'you'}, {'start': 42.126, 'end': 42.346, 'word': 'put'}, {'start': 42.346, 'end': 42.526, 'word': 'there?'}]\n",
      "[{'start': 47.56, 'end': 47.84, 'word': 'you'}, {'start': 47.84, 'end': 48.0, 'word': 'can'}, {'start': 48.0, 'end': 48.2, 'word': 'bring'}, {'start': 48.2, 'end': 48.36, 'word': 'that'}, {'start': 48.36, 'end': 48.56, 'word': 'with'}, {'start': 48.56, 'end': 48.72, 'word': 'you,'}, {'start': 48.72, 'end': 49.06, 'word': 'okay.'}, {'start': 49.06, 'end': 49.3, 'word': 'Cause'}, {'start': 49.3, 'end': 49.34, 'word': 'I'}, {'start': 49.34, 'end': 49.5, 'word': \"don't\"}, {'start': 49.5, 'end': 49.78, 'word': 'really'}, {'start': 49.78, 'end': 50.1, 'word': 'like'}, {'start': 50.1, 'end': 50.18, 'word': 'it.'}]\n",
      "[{'start': 50.452, 'end': 50.472, 'word': 'I'}, {'start': 50.472, 'end': 50.652, 'word': 'think'}, {'start': 50.672, 'end': 50.832, 'word': \"it's\"}, {'start': 50.852, 'end': 51.092, 'word': 'ugly.'}]\n",
      "[{'start': 53.124, 'end': 53.284, 'word': 'And'}, {'start': 53.284, 'end': 53.464, 'word': 'how'}, {'start': 53.464, 'end': 53.644, 'word': 'about'}, {'start': 53.644, 'end': 53.744, 'word': 'the'}, {'start': 53.744, 'end': 54.324, 'word': 'cleaning'}, {'start': 54.324, 'end': 54.544, 'word': 'is'}, {'start': 54.544, 'end': 54.824, 'word': 'like'}, {'start': 54.824, 'end': 55.204, 'word': 'the,'}, {'start': 55.204, 'end': 55.584, 'word': 'the'}, {'start': 55.584, 'end': 56.024, 'word': 'desk?'}, {'start': 56.024, 'end': 56.204, 'word': 'Is'}, {'start': 56.204, 'end': 56.604, 'word': 'it,'}, {'start': 56.604, 'end': 56.984, 'word': 'did'}, {'start': 56.984, 'end': 57.124, 'word': 'you'}, {'start': 57.124, 'end': 57.504, 'word': 'dust'}, {'start': 57.504, 'end': 57.664, 'word': 'it?'}]\n",
      "[{'start': 60.864, 'end': 60.959, 'word': 'Yeah.'}]\n",
      "[{'start': 62.804, 'end': 63.124, 'word': 'Yeah,'}, {'start': 63.144, 'end': 63.344, 'word': 'cool.'}]\n",
      "[{'start': 64.223, 'end': 64.343, 'word': 'And'}, {'start': 64.343, 'end': 64.663, 'word': 'also,'}, {'start': 64.663, 'end': 65.643, 'word': 'because'}, {'start': 65.663, 'end': 65.843, 'word': 'this'}, {'start': 65.843, 'end': 66.163, 'word': 'is'}, {'start': 66.163, 'end': 66.363, 'word': 'a'}, {'start': 66.363, 'end': 66.643, 'word': 'part'}, {'start': 66.643, 'end': 66.843, 'word': 'where'}, {'start': 66.863, 'end': 66.963, 'word': 'you'}, {'start': 66.963, 'end': 67.203, 'word': 'can'}, {'start': 67.203, 'end': 67.543, 'word': 'often'}, {'start': 67.543, 'end': 67.983, 'word': 'forget'}, {'start': 67.983, 'end': 68.183, 'word': 'the'}, {'start': 68.183, 'end': 68.503, 'word': 'lower'}, {'start': 68.503, 'end': 68.783, 'word': 'part'}, {'start': 68.783, 'end': 68.883, 'word': 'of'}, {'start': 68.883, 'end': 69.003, 'word': 'the'}, {'start': 69.003, 'end': 69.403, 'word': 'table.'}]\n",
      "[{'start': 71.961, 'end': 72.161, 'word': 'Did'}, {'start': 72.161, 'end': 72.541, 'word': 'you'}, {'start': 72.541, 'end': 73.101, 'word': 'dust'}, {'start': 73.101, 'end': 73.161, 'word': 'it?'}]\n",
      "[{'start': 74.448, 'end': 74.668, 'word': 'Okay.'}]\n",
      "[{'start': 76.123, 'end': 76.343, 'word': 'But'}, {'start': 76.343, 'end': 76.903, 'word': 'before'}, {'start': 76.903, 'end': 77.003, 'word': 'I'}, {'start': 77.003, 'end': 77.163, 'word': 'come'}, {'start': 77.183, 'end': 77.483, 'word': 'back,'}, {'start': 77.483, 'end': 77.643, 'word': 'I'}, {'start': 77.643, 'end': 77.803, 'word': 'would'}, {'start': 77.803, 'end': 78.023, 'word': 'really'}, {'start': 78.023, 'end': 78.303, 'word': 'like'}, {'start': 78.303, 'end': 78.523, 'word': 'for'}, {'start': 78.523, 'end': 78.643, 'word': 'you'}, {'start': 78.643, 'end': 78.783, 'word': 'to'}, {'start': 78.783, 'end': 79.063, 'word': 'dust'}, {'start': 79.063, 'end': 79.243, 'word': 'it,'}, {'start': 79.243, 'end': 79.483, 'word': 'okay?'}]\n",
      "[{'start': 80.623, 'end': 80.743, 'word': 'And'}, {'start': 80.743, 'end': 80.903, 'word': \"I'm\"}, {'start': 80.903, 'end': 81.163, 'word': 'also'}, {'start': 81.163, 'end': 81.603, 'word': 'wondering'}, {'start': 81.603, 'end': 81.783, 'word': 'if'}, {'start': 81.783, 'end': 81.883, 'word': 'you'}, {'start': 81.883, 'end': 82.283, 'word': 'um...'}]\n",
      "[{'start': 84.555, 'end': 85.215, 'word': 'vacuumed'}, {'start': 85.215, 'end': 85.535, 'word': 'under'}, {'start': 85.535, 'end': 85.675, 'word': 'the'}, {'start': 85.675, 'end': 86.295, 'word': 'couches.'}]\n",
      "[{'start': 89.831, 'end': 89.945, 'word': 'Hmm.'}]\n",
      "[{'start': 91.877, 'end': 91.997, 'word': 'Did'}, {'start': 91.997, 'end': 92.077, 'word': 'you'}, {'start': 92.077, 'end': 92.277, 'word': 'find'}, {'start': 92.297, 'end': 92.417, 'word': 'them'}, {'start': 92.417, 'end': 92.677, 'word': 'heavy'}, {'start': 92.677, 'end': 92.817, 'word': 'to'}, {'start': 92.817, 'end': 93.077, 'word': 'move?'}]\n",
      "[{'start': 96.583, 'end': 96.963, 'word': 'Oh,'}, {'start': 96.963, 'end': 97.323, 'word': 'so'}, {'start': 97.343, 'end': 97.463, 'word': \"you're\"}, {'start': 97.463, 'end': 97.783, 'word': 'strong.'}]\n",
      "[{'start': 100.93, 'end': 101.37, 'word': 'Okay,'}, {'start': 101.37, 'end': 101.67, 'word': 'so'}, {'start': 101.67, 'end': 101.79, 'word': 'uh'}]\n",
      "[{'start': 105.189, 'end': 105.309, 'word': 'the'}, {'start': 105.309, 'end': 105.849, 'word': 'windows'}, {'start': 105.849, 'end': 106.049, 'word': 'look'}]\n",
      "[{'start': 107.936, 'end': 108.216, 'word': 'quite'}, {'start': 108.216, 'end': 108.556, 'word': 'dirty.'}]\n",
      "[{'start': 114.219, 'end': 114.499, 'word': 'Uh-huh.'}]\n",
      "[{'start': 115.574, 'end': 115.734, 'word': 'Oh.'}]\n",
      "[{'start': 117.991, 'end': 118.111, 'word': 'So'}, {'start': 118.111, 'end': 118.271, 'word': 'the'}, {'start': 118.271, 'end': 118.491, 'word': 'rain'}, {'start': 118.491, 'end': 118.851, 'word': 'messed'}, {'start': 118.871, 'end': 119.031, 'word': 'them'}, {'start': 119.031, 'end': 119.191, 'word': 'up.'}]\n",
      "[{'start': 120.086, 'end': 120.466, 'word': 'Okay.'}, {'start': 120.466, 'end': 120.686, 'word': 'So'}, {'start': 120.686, 'end': 120.846, 'word': 'how'}, {'start': 120.866, 'end': 121.026, 'word': 'about'}, {'start': 121.026, 'end': 121.146, 'word': 'the'}, {'start': 121.146, 'end': 121.786, 'word': 'insides?'}]\n",
      "[{'start': 125.336, 'end': 125.496, 'word': 'You'}, {'start': 125.496, 'end': 125.656, 'word': 'have'}, {'start': 125.676, 'end': 125.776, 'word': 'to'}, {'start': 125.776, 'end': 126.036, 'word': 'check,'}, {'start': 126.036, 'end': 126.336, 'word': 'okay.'}]\n",
      "[{'start': 127.197, 'end': 127.377, 'word': 'So'}, {'start': 127.377, 'end': 127.517, 'word': 'I'}, {'start': 127.517, 'end': 127.677, 'word': 'would'}, {'start': 127.697, 'end': 127.977, 'word': 'like'}, {'start': 127.977, 'end': 128.137, 'word': 'for'}, {'start': 128.157, 'end': 128.277, 'word': 'you'}, {'start': 128.277, 'end': 128.417, 'word': 'to'}, {'start': 128.417, 'end': 128.577, 'word': 'do'}, {'start': 128.577, 'end': 129.037, 'word': 'that.'}, {'start': 129.037, 'end': 129.537, 'word': 'Before'}, {'start': 129.557, 'end': 129.577, 'word': 'I'}, {'start': 129.577, 'end': 129.777, 'word': 'come'}, {'start': 129.777, 'end': 130.057, 'word': 'back,'}, {'start': 130.057, 'end': 130.317, 'word': 'okay?'}]\n",
      "[{'start': 132.248, 'end': 132.388, 'word': 'Yeah.'}]\n",
      "[{'start': 135.836, 'end': 136.416, 'word': 'have'}, {'start': 136.436, 'end': 136.556, 'word': 'you'}, {'start': 136.556, 'end': 136.836, 'word': 'been'}, {'start': 136.836, 'end': 137.216, 'word': 'using'}, {'start': 137.216, 'end': 137.356, 'word': 'the'}, {'start': 137.356, 'end': 138.096, 'word': 'fireplace'}, {'start': 138.096, 'end': 138.236, 'word': 'at'}, {'start': 138.236, 'end': 138.436, 'word': 'all?'}]\n",
      "[{'start': 140.864, 'end': 140.984, 'word': 'No'}, {'start': 140.984, 'end': 141.364, 'word': 'fires.'}]\n",
      "[{'start': 142.335, 'end': 142.455, 'word': 'Hmm.'}]\n",
      "[{'start': 143.743, 'end': 143.983, 'word': 'Quite'}, {'start': 144.003, 'end': 144.383, 'word': 'nice.'}]\n",
      "[{'start': 145.818, 'end': 145.918, 'word': 'On'}, {'start': 145.918, 'end': 145.998, 'word': 'a'}, {'start': 145.998, 'end': 146.338, 'word': 'rainy'}, {'start': 146.338, 'end': 146.658, 'word': 'night.'}]\n",
      "[{'start': 155.284, 'end': 155.464, 'word': \"You're\"}, {'start': 155.484, 'end': 155.664, 'word': 'going'}, {'start': 155.664, 'end': 155.724, 'word': 'to'}, {'start': 155.744, 'end': 155.984, 'word': 'take'}, {'start': 155.984, 'end': 156.044, 'word': 'it'}, {'start': 156.044, 'end': 156.224, 'word': 'with'}, {'start': 156.244, 'end': 156.304, 'word': 'you?'}]\n",
      "[{'start': 160.45, 'end': 160.85, 'word': 'Okay.'}]\n",
      "[{'start': 161.905, 'end': 162.385, 'word': 'Well,'}, {'start': 162.385, 'end': 162.665, 'word': 'maybe'}, {'start': 162.665, 'end': 162.725, 'word': 'you'}, {'start': 162.745, 'end': 162.825, 'word': 'have'}, {'start': 162.825, 'end': 162.945, 'word': 'to'}, {'start': 162.945, 'end': 163.205, 'word': 'pay'}, {'start': 163.205, 'end': 163.365, 'word': 'me'}, {'start': 163.365, 'end': 163.465, 'word': 'a'}, {'start': 163.465, 'end': 163.725, 'word': 'little'}, {'start': 163.725, 'end': 163.985, 'word': 'bit'}, {'start': 163.985, 'end': 164.245, 'word': 'then.'}]\n",
      "[{'start': 168.147, 'end': 168.487, 'word': 'Okay.'}, {'start': 168.487, 'end': 168.667, 'word': 'You'}, {'start': 168.687, 'end': 168.847, 'word': 'can'}, {'start': 168.847, 'end': 169.127, 'word': 'have'}, {'start': 169.127, 'end': 169.207, 'word': 'it'}, {'start': 169.207, 'end': 169.487, 'word': 'for'}]\n",
      "[{'start': 172.147, 'end': 172.527, 'word': 'hundred'}, {'start': 172.527, 'end': 172.887, 'word': 'bucks.'}]\n",
      "[{'start': 174.001, 'end': 174.121, 'word': 'Yeah.'}]\n",
      "[{'start': 177.188, 'end': 177.488, 'word': 'Yeah.'}, {'start': 177.488, 'end': 177.768, 'word': 'Cool.'}]\n",
      "[{'start': 180.089, 'end': 180.229, 'word': 'And'}, {'start': 180.229, 'end': 180.329, 'word': 'all'}, {'start': 180.329, 'end': 180.469, 'word': 'the'}, {'start': 180.469, 'end': 180.929, 'word': 'lights'}, {'start': 180.929, 'end': 181.129, 'word': 'are'}, {'start': 181.129, 'end': 181.669, 'word': 'working.'}]\n",
      "[{'start': 184.24, 'end': 184.5, 'word': 'And'}, {'start': 184.5, 'end': 184.7, 'word': 'how'}, {'start': 184.72, 'end': 184.88, 'word': 'about'}, {'start': 184.88, 'end': 185.02, 'word': 'the'}, {'start': 185.02, 'end': 185.32, 'word': 'TV?'}]\n",
      "[{'start': 186.444, 'end': 186.784, 'word': 'Everything'}, {'start': 186.784, 'end': 187.024, 'word': 'okay'}, {'start': 187.024, 'end': 187.244, 'word': 'with'}, {'start': 187.244, 'end': 187.404, 'word': 'the'}, {'start': 187.424, 'end': 187.484, 'word': 'TV?'}]\n",
      "[{'start': 189.174, 'end': 189.294, 'word': 'Well,'}, {'start': 189.314, 'end': 189.354, 'word': \"I'm\"}, {'start': 189.374, 'end': 189.534, 'word': 'just'}, {'start': 189.534, 'end': 189.914, 'word': 'wondering,'}, {'start': 189.914, 'end': 190.114, 'word': 'did'}, {'start': 190.114, 'end': 190.234, 'word': 'it'}, {'start': 190.234, 'end': 190.494, 'word': 'work'}, {'start': 190.494, 'end': 190.934, 'word': 'well'}, {'start': 190.934, 'end': 191.214, 'word': 'and'}, {'start': 191.214, 'end': 191.454, 'word': 'did'}, {'start': 191.454, 'end': 191.574, 'word': 'you'}, {'start': 191.574, 'end': 191.754, 'word': 'take'}, {'start': 191.774, 'end': 191.954, 'word': 'care'}, {'start': 191.974, 'end': 192.014, 'word': 'of'}, {'start': 192.014, 'end': 192.114, 'word': 'it?'}]\n",
      "[{'start': 197.229, 'end': 197.349, 'word': 'You'}, {'start': 197.349, 'end': 197.689, 'word': \"didn't\"}, {'start': 197.709, 'end': 198.009, 'word': 'watch'}, {'start': 198.009, 'end': 198.209, 'word': 'the'}, {'start': 198.209, 'end': 198.269, 'word': 'TV?'}]\n",
      "[{'start': 200.355, 'end': 200.655, 'word': 'Uh-huh.'}]\n",
      "[{'start': 202.046, 'end': 202.286, 'word': 'Okay.'}]\n",
      "[{'start': 204.595, 'end': 204.955, 'word': 'Fair'}, {'start': 204.955, 'end': 205.415, 'word': 'enough.'}]\n",
      "[{'start': 207.257, 'end': 207.377, 'word': 'But'}, {'start': 207.377, 'end': 207.617, 'word': 'this'}, {'start': 207.617, 'end': 207.997, 'word': 'lamp'}, {'start': 207.997, 'end': 208.157, 'word': 'is'}, {'start': 208.157, 'end': 208.477, 'word': 'looking'}, {'start': 208.477, 'end': 208.777, 'word': 'very...'}]\n",
      "[{'start': 211.968, 'end': 211.988, 'word': 'I'}, {'start': 211.988, 'end': 212.188, 'word': \"don't\"}, {'start': 212.208, 'end': 212.268, 'word': 'know.'}]\n",
      "[{'start': 215.316, 'end': 215.836, 'word': 'Animated.'}]\n",
      "[{'start': 216.633, 'end': 216.773, 'word': \"It's\"}, {'start': 216.773, 'end': 217.333, 'word': 'like,'}, {'start': 217.333, 'end': 217.673, 'word': 'it'}, {'start': 217.673, 'end': 217.973, 'word': 'looks'}, {'start': 217.973, 'end': 218.513, 'word': 'weird.'}, {'start': 218.513, 'end': 218.793, 'word': 'Did'}, {'start': 218.793, 'end': 218.893, 'word': 'you'}, {'start': 218.893, 'end': 219.053, 'word': 'do'}, {'start': 219.053, 'end': 219.413, 'word': 'something'}, {'start': 219.413, 'end': 219.573, 'word': 'with'}, {'start': 219.573, 'end': 219.753, 'word': 'it?'}]\n",
      "[{'start': 224.962, 'end': 225.082, 'word': 'Yeah.'}]\n",
      "[{'start': 229.632, 'end': 229.652, 'word': 'I'}, {'start': 229.652, 'end': 229.852, 'word': \"don't\"}, {'start': 229.852, 'end': 230.132, 'word': 'even'}, {'start': 230.132, 'end': 230.532, 'word': 'remember'}, {'start': 230.532, 'end': 230.712, 'word': 'what'}, {'start': 230.712, 'end': 230.812, 'word': 'it'}, {'start': 230.812, 'end': 230.992, 'word': 'was'}, {'start': 230.992, 'end': 231.552, 'word': 'before.'}]\n",
      "[{'start': 232.562, 'end': 232.702, 'word': 'Do'}, {'start': 232.702, 'end': 232.842, 'word': 'you?'}]\n",
      "[{'start': 236.166, 'end': 236.266, 'word': 'Yeah.'}]\n",
      "[{'start': 239.83, 'end': 239.95, 'word': 'No,'}, {'start': 239.95, 'end': 240.17, 'word': \"it's\"}, {'start': 240.17, 'end': 240.59, 'word': 'fine.'}]\n",
      "[{'start': 242.064, 'end': 242.164, 'word': \"It's\"}, {'start': 242.184, 'end': 242.244, 'word': 'just'}, {'start': 242.264, 'end': 242.884, 'word': 'new.'}, {'start': 242.884, 'end': 243.404, 'word': 'To'}, {'start': 243.404, 'end': 243.504, 'word': 'me.'}]\n",
      "[{'start': 247.249, 'end': 247.349, 'word': 'Oh,'}, {'start': 247.349, 'end': 247.489, 'word': 'and'}, {'start': 247.489, 'end': 247.609, 'word': 'I'}, {'start': 247.609, 'end': 247.849, 'word': 'see'}, {'start': 247.849, 'end': 247.969, 'word': 'you'}, {'start': 247.969, 'end': 248.209, 'word': 'took'}, {'start': 248.229, 'end': 248.489, 'word': 'care'}, {'start': 248.489, 'end': 248.529, 'word': 'of'}, {'start': 248.549, 'end': 248.689, 'word': 'my'}, {'start': 248.689, 'end': 249.349, 'word': 'plant.'}]\n",
      "[{'start': 253.478, 'end': 253.638, 'word': 'Yeah.'}]\n",
      "[{'start': 254.693, 'end': 254.953, 'word': 'Good.'}]\n",
      "[{'start': 255.293, 'end': 255.533, 'word': 'Because'}, {'start': 255.533, 'end': 255.613, 'word': 'I'}, {'start': 255.613, 'end': 255.833, 'word': 'would'}, {'start': 255.833, 'end': 256.073, 'word': 'be'}, {'start': 256.073, 'end': 256.433, 'word': 'quite'}, {'start': 256.453, 'end': 256.813, 'word': 'upset'}, {'start': 256.813, 'end': 256.993, 'word': 'if'}, {'start': 256.993, 'end': 257.193, 'word': 'it'}, {'start': 257.193, 'end': 257.413, 'word': 'had'}, {'start': 257.413, 'end': 257.713, 'word': 'died.'}]\n",
      "[{'start': 263.532, 'end': 263.692, 'word': 'go'}, {'start': 263.692, 'end': 264.052, 'word': 'find'}, {'start': 264.052, 'end': 264.352, 'word': 'the,'}, {'start': 264.352, 'end': 264.652, 'word': 'the'}, {'start': 264.652, 'end': 265.012, 'word': 'black'}, {'start': 265.012, 'end': 265.452, 'word': 'vase,'}, {'start': 265.452, 'end': 265.852, 'word': 'please.'}]\n",
      "[{'start': 266.499, 'end': 266.599, 'word': 'And'}, {'start': 266.619, 'end': 266.719, 'word': 'then'}, {'start': 266.719, 'end': 266.819, 'word': 'you'}, {'start': 266.819, 'end': 266.999, 'word': 'can'}, {'start': 266.999, 'end': 267.259, 'word': 'take'}, {'start': 267.259, 'end': 267.359, 'word': 'the'}, {'start': 267.359, 'end': 267.659, 'word': 'yellow'}, {'start': 267.659, 'end': 268.079, 'word': 'painting'}, {'start': 268.079, 'end': 268.259, 'word': 'with'}, {'start': 268.259, 'end': 268.379, 'word': 'you.'}]\n",
      "[{'start': 269.421, 'end': 269.501, 'word': 'Yeah?'}]\n",
      "[{'start': 270.58, 'end': 270.751, 'word': 'Cool.'}]\n",
      "[{'start': 271.366, 'end': 271.606, 'word': 'Thank'}, {'start': 271.606, 'end': 271.686, 'word': 'you.'}]\n"
     ]
    }
   ],
   "source": [
    "for seg in data:\n",
    "    print(get_tsv_for_segment(data[seg], ttsv))"
   ]
  },
  {
   "cell_type": "code",
   "execution_count": null,
   "metadata": {},
   "outputs": [],
   "source": []
  },
  {
   "cell_type": "code",
   "execution_count": 92,
   "metadata": {},
   "outputs": [
    {
     "data": {
      "text/plain": [
       "[(0, 2)]"
      ]
     },
     "execution_count": 92,
     "metadata": {},
     "output_type": "execute_result"
    }
   ],
   "source": [
    "get_indices(\"the needle\", \"the needle is the needle's problem\", False)"
   ]
  }
 ],
 "metadata": {
  "kernelspec": {
   "display_name": "nst-tts",
   "language": "python",
   "name": "python3"
  },
  "language_info": {
   "codemirror_mode": {
    "name": "ipython",
    "version": 3
   },
   "file_extension": ".py",
   "mimetype": "text/x-python",
   "name": "python",
   "nbconvert_exporter": "python",
   "pygments_lexer": "ipython3",
   "version": "3.10.9"
  }
 },
 "nbformat": 4,
 "nbformat_minor": 2
}
