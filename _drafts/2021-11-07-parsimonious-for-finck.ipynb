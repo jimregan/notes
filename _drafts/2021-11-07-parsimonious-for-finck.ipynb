{
 "cells": [
  {
   "cell_type": "markdown",
   "metadata": {},
   "source": [
    "# Basic parser for Finck\n",
    "\n",
    "> \"First step towards extracting entries from the wordbook in Finck\"\n",
    "\n",
    "- toc: false\n",
    "- branch: master\n",
    "- hidden: true\n",
    "- categories: [finck, parsimonious]"
   ]
  },
  {
   "cell_type": "code",
   "execution_count": 1,
   "metadata": {},
   "outputs": [
    {
     "name": "stdout",
     "output_type": "stream",
     "text": [
      "Defaulting to user installation because normal site-packages is not writeable\n",
      "Collecting parsimonious\n",
      "  Downloading parsimonious-0.8.1.tar.gz (45 kB)\n",
      "\u001b[K     |████████████████████████████████| 45 kB 448 kB/s  eta 0:00:01\n",
      "\u001b[?25hRequirement already satisfied: six>=1.9.0 in /home/jim/.local/lib/python3.6/site-packages (from parsimonious) (1.15.0)\n",
      "Building wheels for collected packages: parsimonious\n",
      "  Building wheel for parsimonious (setup.py) ... \u001b[?25ldone\n",
      "\u001b[?25h  Created wheel for parsimonious: filename=parsimonious-0.8.1-py3-none-any.whl size=42709 sha256=22e8d8e9d96dece9e8cd38c77cf7708eb5a7aaa6222d43ef09971621668e4f71\n",
      "  Stored in directory: /home/jim/.cache/pip/wheels/43/95/c9/c9f7a3f9dc34ebd851739148bd5b42ab35618ea0808388647c\n",
      "Successfully built parsimonious\n",
      "Installing collected packages: parsimonious\n",
      "Successfully installed parsimonious-0.8.1\n",
      "\u001b[33mWARNING: You are using pip version 21.2.4; however, version 21.3.1 is available.\n",
      "You should consider upgrading via the '/usr/bin/python3 -m pip install --upgrade pip' command.\u001b[0m\n"
     ]
    }
   ],
   "source": [
    "!pip install parsimonious"
   ]
  },
  {
   "cell_type": "code",
   "execution_count": 32,
   "metadata": {},
   "outputs": [],
   "source": [
    "#*ævńəxə*, s. *auən̄*.\n",
    "\n",
    "from parsimonious.grammar import Grammar\n",
    "grammar = Grammar(\n",
    "\"\"\"\n",
    "node = seealso / translation\n",
    "seealso = italictxt comma ws see ws italictxt fullstop\n",
    "translation = italictxt fullstop ws german\n",
    "german = openq qtext closeq\n",
    "italictxt = italics phntext italics\n",
    "italics = \"*\"\n",
    "see = \"s.\"\n",
    "comma = \",\"\n",
    "fullstop = \".\"\n",
    "trscr = ~r\"[-æšaiŕəhxkšŕ̥cĺlāl̄ȧēmvńun̄]+\"\n",
    "phntext = ~r'[^\\*]+'\n",
    "qtext = ~r'[^\"]+'\n",
    "num = ~r'[0-9]+'\n",
    "stb = \"St.-B.\"\n",
    "w = \"W.\"\n",
    "gen = \"gen.\"\n",
    "ctext = ~r'[^,]+'\n",
    "ws = ~\"\\s*\"\n",
    "openq = \"„\"\n",
    "closeq = '\"'\n",
    "\"\"\")"
   ]
  },
  {
   "cell_type": "code",
   "execution_count": 33,
   "metadata": {},
   "outputs": [],
   "source": [
    "test = \"*ævńəxə*, s. *auən̄*.\"\n",
    "test2 = '*ḱŕeȷĭm ə n-æš-aiŕə nə gorp*. „Ich glaube an eine auferstehung des fleisches.\"'"
   ]
  },
  {
   "cell_type": "code",
   "execution_count": 35,
   "metadata": {},
   "outputs": [
    {
     "name": "stdout",
     "output_type": "stream",
     "text": [
      "<Node called \"node\" matching \"*ḱŕeȷĭm ə n-æš-aiŕə nə gorp*. „Ich glaube an eine auferstehung des fleisches.\"\">\n",
      "    <Node called \"translation\" matching \"*ḱŕeȷĭm ə n-æš-aiŕə nə gorp*. „Ich glaube an eine auferstehung des fleisches.\"\">\n",
      "        <Node called \"italictxt\" matching \"*ḱŕeȷĭm ə n-æš-aiŕə nə gorp*\">\n",
      "            <Node called \"italics\" matching \"*\">\n",
      "            <RegexNode called \"phntext\" matching \"ḱŕeȷĭm ə n-æš-aiŕə nə gorp\">\n",
      "            <Node called \"italics\" matching \"*\">\n",
      "        <Node called \"fullstop\" matching \".\">\n",
      "        <RegexNode called \"ws\" matching \" \">\n",
      "        <Node called \"german\" matching \"„Ich glaube an eine auferstehung des fleisches.\"\">\n",
      "            <Node called \"openq\" matching \"„\">\n",
      "            <RegexNode called \"qtext\" matching \"Ich glaube an eine auferstehung des fleisches.\">\n",
      "            <Node called \"closeq\" matching \"\"\">\n"
     ]
    }
   ],
   "source": [
    "print(grammar.parse(test2))"
   ]
  }
 ],
 "metadata": {
  "kernelspec": {
   "display_name": "Python 3",
   "language": "python",
   "name": "python3"
  },
  "language_info": {
   "codemirror_mode": {
    "name": "ipython",
    "version": 3
   },
   "file_extension": ".py",
   "mimetype": "text/x-python",
   "name": "python",
   "nbconvert_exporter": "python",
   "pygments_lexer": "ipython3",
   "version": "3.6.9"
  }
 },
 "nbformat": 4,
 "nbformat_minor": 2
}
