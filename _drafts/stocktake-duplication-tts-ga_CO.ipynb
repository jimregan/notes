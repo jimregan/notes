{
 "cells": [
  {
   "cell_type": "markdown",
   "metadata": {},
   "source": [
    "First thing: check that this is running on the right computer:"
   ]
  },
  {
   "cell_type": "code",
   "execution_count": 1,
   "metadata": {},
   "outputs": [],
   "source": [
    "import socket\n",
    "assert socket.gethostname() == \"lcs098116\""
   ]
  },
  {
   "cell_type": "code",
   "execution_count": 2,
   "metadata": {},
   "outputs": [],
   "source": [
    "from pathlib import Path\n",
    "base_path = Path('/media/storage/jim/speech-syn/Corpora')"
   ]
  },
  {
   "cell_type": "markdown",
   "metadata": {},
   "source": [
    "Some imports for later:"
   ]
  },
  {
   "cell_type": "code",
   "execution_count": 3,
   "metadata": {},
   "outputs": [],
   "source": [
    "from pydub import AudioSegment\n",
    "import numpy as np\n",
    "import datetime\n",
    "import pandas as pd"
   ]
  },
  {
   "cell_type": "code",
   "execution_count": 4,
   "metadata": {},
   "outputs": [],
   "source": [
    "df = pd.DataFrame(columns=[\"name\", \"seconds\", \"hms\"])\n",
    "df_cnt = 0"
   ]
  },
  {
   "cell_type": "code",
   "execution_count": 5,
   "metadata": {},
   "outputs": [],
   "source": [
    "def sum_path_by_type(path, pattern):\n",
    "    acc = []\n",
    "    for audio in path.glob(pattern):\n",
    "        audio = AudioSegment.from_file(str(audio))\n",
    "        acc.append(audio.duration_seconds)\n",
    "    return np.sum(acc)"
   ]
  },
  {
   "cell_type": "code",
   "execution_count": 6,
   "metadata": {},
   "outputs": [],
   "source": [
    "CO = base_path / \"ga_CO\"/ \"pmg\""
   ]
  },
  {
   "cell_type": "code",
   "execution_count": 43,
   "metadata": {},
   "outputs": [],
   "source": [
    "paths = []\n",
    "relevant_paths = {}\n",
    "for entry in CO.glob(\"RC[A-Z]*\"):\n",
    "    subpath = entry / \"ogg\"\n",
    "    if subpath.is_dir():\n",
    "        relevant_paths[str(subpath)] = entry.name\n",
    "        paths.append(subpath)"
   ]
  },
  {
   "cell_type": "code",
   "execution_count": 11,
   "metadata": {},
   "outputs": [],
   "source": [
    "all_paths = [CO / \"AllOriginalWavFiles\",\n",
    "             CO / \"AllTrimmedWavFiles44kHz\",\n",
    "             CO / \"RC_ALL\" / \"wav\",\n",
    "             CO / \"RC_ALL_141118\" / \"wav44\",\n",
    "             CO / \"RC_ALL_141118\" / \"wav\"]"
   ]
  },
  {
   "cell_type": "code",
   "execution_count": 34,
   "metadata": {},
   "outputs": [],
   "source": [
    "short_paths =  [\"AllOriginalWavFiles\",\n",
    "                \"AllTrimmedWavFiles44kHz\",\n",
    "                \"RC_ALL/wav\",\n",
    "                \"RC_ALL_141118/wav44\",\n",
    "                \"RC_ALL_141118/wav\"]"
   ]
  },
  {
   "cell_type": "code",
   "execution_count": 37,
   "metadata": {},
   "outputs": [],
   "source": [
    "dir_to_short = {str(k): v for (k, v) in zip(all_paths, short_paths)}"
   ]
  },
  {
   "cell_type": "code",
   "execution_count": 39,
   "metadata": {},
   "outputs": [],
   "source": [
    "def get_wave_stems(dir):\n",
    "    ret = []\n",
    "    for f in dir.glob(\"*.wav\"):\n",
    "        ret.append(f.stem)\n",
    "    return ret"
   ]
  },
  {
   "cell_type": "code",
   "execution_count": 40,
   "metadata": {},
   "outputs": [],
   "source": [
    "stems = {str(d): get_wave_stems(d) for d in all_paths}"
   ]
  },
  {
   "cell_type": "code",
   "execution_count": null,
   "metadata": {},
   "outputs": [],
   "source": [
    "def get_ogg_stems(dir):\n",
    "    ret = []\n",
    "    for f in dir.glob(\"*.ogg\"):\n",
    "        ret.append(f.stem)\n",
    "    return ret\n",
    "\n",
    "def is_in(a, b):\n",
    "    return set(a).issubset(b)\n",
    "\n",
    "comb_data = []\n",
    "for pth in paths:\n",
    "    pth_stems = get_ogg_stems(pth)\n",
    "    pth_bools = {dir_to_short[k]: is_in(pth_stems, v) for (k, v) in stems.items()}\n",
    "    _dir_piece = [relevant_paths[str(pth)]]\n",
    "    _just_bools = [v for (k, v) in pth_bools.items()]\n",
    "    _joined = _dir_piece + _just_bools\n",
    "    comb_data.append(_joined)"
   ]
  },
  {
   "cell_type": "markdown",
   "metadata": {},
   "source": [
    "The table below shows which of the individual `ogg` directories are completely covered (= `True`) by the `wav` file directories."
   ]
  },
  {
   "cell_type": "code",
   "execution_count": 47,
   "metadata": {},
   "outputs": [
    {
     "data": {
      "text/html": [
       "<div>\n",
       "<style scoped>\n",
       "    .dataframe tbody tr th:only-of-type {\n",
       "        vertical-align: middle;\n",
       "    }\n",
       "\n",
       "    .dataframe tbody tr th {\n",
       "        vertical-align: top;\n",
       "    }\n",
       "\n",
       "    .dataframe thead th {\n",
       "        text-align: right;\n",
       "    }\n",
       "</style>\n",
       "<table border=\"1\" class=\"dataframe\">\n",
       "  <thead>\n",
       "    <tr style=\"text-align: right;\">\n",
       "      <th></th>\n",
       "      <th>Path</th>\n",
       "      <th>AllOriginalWavFiles</th>\n",
       "      <th>AllTrimmedWavFiles44kHz</th>\n",
       "      <th>RC_ALL/wav</th>\n",
       "      <th>RC_ALL_141118/wav44</th>\n",
       "      <th>RC_ALL_141118/wav</th>\n",
       "    </tr>\n",
       "  </thead>\n",
       "  <tbody>\n",
       "    <tr>\n",
       "      <th>0</th>\n",
       "      <td>RCNamedEntities02</td>\n",
       "      <td>True</td>\n",
       "      <td>True</td>\n",
       "      <td>True</td>\n",
       "      <td>True</td>\n",
       "      <td>True</td>\n",
       "    </tr>\n",
       "    <tr>\n",
       "      <th>1</th>\n",
       "      <td>RCPiarsachBoithre</td>\n",
       "      <td>True</td>\n",
       "      <td>True</td>\n",
       "      <td>True</td>\n",
       "      <td>True</td>\n",
       "      <td>True</td>\n",
       "    </tr>\n",
       "    <tr>\n",
       "      <th>2</th>\n",
       "      <td>RCPiarsachDeargadaol</td>\n",
       "      <td>True</td>\n",
       "      <td>True</td>\n",
       "      <td>True</td>\n",
       "      <td>True</td>\n",
       "      <td>True</td>\n",
       "    </tr>\n",
       "    <tr>\n",
       "      <th>3</th>\n",
       "      <td>RCPiarsachMhathair</td>\n",
       "      <td>True</td>\n",
       "      <td>True</td>\n",
       "      <td>True</td>\n",
       "      <td>True</td>\n",
       "      <td>True</td>\n",
       "    </tr>\n",
       "    <tr>\n",
       "      <th>4</th>\n",
       "      <td>RCPiarsachIosagan</td>\n",
       "      <td>True</td>\n",
       "      <td>True</td>\n",
       "      <td>True</td>\n",
       "      <td>True</td>\n",
       "      <td>True</td>\n",
       "    </tr>\n",
       "    <tr>\n",
       "      <th>5</th>\n",
       "      <td>RCPiarsachBairbre</td>\n",
       "      <td>True</td>\n",
       "      <td>True</td>\n",
       "      <td>True</td>\n",
       "      <td>True</td>\n",
       "      <td>True</td>\n",
       "    </tr>\n",
       "    <tr>\n",
       "      <th>6</th>\n",
       "      <td>RCNamedEntities01</td>\n",
       "      <td>True</td>\n",
       "      <td>True</td>\n",
       "      <td>True</td>\n",
       "      <td>True</td>\n",
       "      <td>True</td>\n",
       "    </tr>\n",
       "    <tr>\n",
       "      <th>7</th>\n",
       "      <td>RCPiarsachBrid</td>\n",
       "      <td>True</td>\n",
       "      <td>True</td>\n",
       "      <td>True</td>\n",
       "      <td>True</td>\n",
       "      <td>True</td>\n",
       "    </tr>\n",
       "    <tr>\n",
       "      <th>8</th>\n",
       "      <td>RCPiarsachEoghainin</td>\n",
       "      <td>False</td>\n",
       "      <td>False</td>\n",
       "      <td>False</td>\n",
       "      <td>False</td>\n",
       "      <td>False</td>\n",
       "    </tr>\n",
       "    <tr>\n",
       "      <th>9</th>\n",
       "      <td>RCNuachtRTEMay</td>\n",
       "      <td>True</td>\n",
       "      <td>True</td>\n",
       "      <td>True</td>\n",
       "      <td>True</td>\n",
       "      <td>True</td>\n",
       "    </tr>\n",
       "    <tr>\n",
       "      <th>10</th>\n",
       "      <td>RCNuachtRTE1-1707</td>\n",
       "      <td>True</td>\n",
       "      <td>True</td>\n",
       "      <td>True</td>\n",
       "      <td>True</td>\n",
       "      <td>True</td>\n",
       "    </tr>\n",
       "    <tr>\n",
       "      <th>11</th>\n",
       "      <td>RCPiarsachBheanchaointe</td>\n",
       "      <td>True</td>\n",
       "      <td>True</td>\n",
       "      <td>True</td>\n",
       "      <td>True</td>\n",
       "      <td>True</td>\n",
       "    </tr>\n",
       "    <tr>\n",
       "      <th>12</th>\n",
       "      <td>RCAlphaBet</td>\n",
       "      <td>True</td>\n",
       "      <td>True</td>\n",
       "      <td>True</td>\n",
       "      <td>True</td>\n",
       "      <td>True</td>\n",
       "    </tr>\n",
       "    <tr>\n",
       "      <th>13</th>\n",
       "      <td>RCNuachtRTE16-3006</td>\n",
       "      <td>False</td>\n",
       "      <td>False</td>\n",
       "      <td>True</td>\n",
       "      <td>True</td>\n",
       "      <td>True</td>\n",
       "    </tr>\n",
       "    <tr>\n",
       "      <th>14</th>\n",
       "      <td>RCPiarsachSagart</td>\n",
       "      <td>True</td>\n",
       "      <td>True</td>\n",
       "      <td>True</td>\n",
       "      <td>True</td>\n",
       "      <td>True</td>\n",
       "    </tr>\n",
       "    <tr>\n",
       "      <th>15</th>\n",
       "      <td>RCNuachtRTE1-1506</td>\n",
       "      <td>True</td>\n",
       "      <td>True</td>\n",
       "      <td>True</td>\n",
       "      <td>True</td>\n",
       "      <td>True</td>\n",
       "    </tr>\n",
       "    <tr>\n",
       "      <th>16</th>\n",
       "      <td>RCPiarsachGadai</td>\n",
       "      <td>True</td>\n",
       "      <td>True</td>\n",
       "      <td>True</td>\n",
       "      <td>True</td>\n",
       "      <td>True</td>\n",
       "    </tr>\n",
       "  </tbody>\n",
       "</table>\n",
       "</div>"
      ],
      "text/plain": [
       "                       Path  AllOriginalWavFiles  AllTrimmedWavFiles44kHz  \\\n",
       "0         RCNamedEntities02                 True                     True   \n",
       "1         RCPiarsachBoithre                 True                     True   \n",
       "2      RCPiarsachDeargadaol                 True                     True   \n",
       "3        RCPiarsachMhathair                 True                     True   \n",
       "4         RCPiarsachIosagan                 True                     True   \n",
       "5         RCPiarsachBairbre                 True                     True   \n",
       "6         RCNamedEntities01                 True                     True   \n",
       "7            RCPiarsachBrid                 True                     True   \n",
       "8       RCPiarsachEoghainin                False                    False   \n",
       "9            RCNuachtRTEMay                 True                     True   \n",
       "10        RCNuachtRTE1-1707                 True                     True   \n",
       "11  RCPiarsachBheanchaointe                 True                     True   \n",
       "12               RCAlphaBet                 True                     True   \n",
       "13       RCNuachtRTE16-3006                False                    False   \n",
       "14         RCPiarsachSagart                 True                     True   \n",
       "15        RCNuachtRTE1-1506                 True                     True   \n",
       "16          RCPiarsachGadai                 True                     True   \n",
       "\n",
       "    RC_ALL/wav  RC_ALL_141118/wav44  RC_ALL_141118/wav  \n",
       "0         True                 True               True  \n",
       "1         True                 True               True  \n",
       "2         True                 True               True  \n",
       "3         True                 True               True  \n",
       "4         True                 True               True  \n",
       "5         True                 True               True  \n",
       "6         True                 True               True  \n",
       "7         True                 True               True  \n",
       "8        False                False              False  \n",
       "9         True                 True               True  \n",
       "10        True                 True               True  \n",
       "11        True                 True               True  \n",
       "12        True                 True               True  \n",
       "13        True                 True               True  \n",
       "14        True                 True               True  \n",
       "15        True                 True               True  \n",
       "16        True                 True               True  "
      ]
     },
     "execution_count": 47,
     "metadata": {},
     "output_type": "execute_result"
    }
   ],
   "source": [
    "import pandas as pd\n",
    "pd.DataFrame(comb_data, columns=[\"Path\"] + short_paths)"
   ]
  },
  {
   "cell_type": "code",
   "execution_count": 52,
   "metadata": {},
   "outputs": [],
   "source": [
    "totals = {}\n",
    "for subdir in paths:\n",
    "    dirname = relevant_paths[str(subdir)]\n",
    "    totals[dirname] = sum_path_by_type(subdir, \"*.ogg\")"
   ]
  },
  {
   "cell_type": "code",
   "execution_count": 53,
   "metadata": {},
   "outputs": [],
   "source": [
    "totals_hms = {a: str(datetime.timedelta(seconds=b)) for (a, b) in totals.items()}"
   ]
  },
  {
   "cell_type": "code",
   "execution_count": 54,
   "metadata": {},
   "outputs": [
    {
     "name": "stdout",
     "output_type": "stream",
     "text": [
      "RCNamedEntities02: 771.496 seconds (0:12:51.496000)\n",
      "RCPiarsachBoithre: 1564.104 seconds (0:26:04.104000)\n",
      "RCPiarsachDeargadaol: 530.072 seconds (0:08:50.072000)\n",
      "RCPiarsachMhathair: 725.456 seconds (0:12:05.456000)\n",
      "RCPiarsachIosagan: 1134.2559999999999 seconds (0:18:54.256000)\n",
      "RCPiarsachBairbre: 2151.608 seconds (0:35:51.608000)\n",
      "RCNamedEntities01: 371.096 seconds (0:06:11.096000)\n",
      "RCPiarsachBrid: 584.0639999999999 seconds (0:09:44.064000)\n",
      "RCPiarsachEoghainin: 1573.4 seconds (0:26:13.400000)\n",
      "RCNuachtRTEMay: 1913.512 seconds (0:31:53.512000)\n",
      "RCNuachtRTE1-1707: 1433.952 seconds (0:23:53.952000)\n",
      "RCPiarsachBheanchaointe: 2568.024 seconds (0:42:48.024000)\n",
      "RCAlphaBet: 40.648 seconds (0:00:40.648000)\n",
      "RCNuachtRTE16-3006: 761.928 seconds (0:12:41.928000)\n",
      "RCPiarsachSagart: 813.232 seconds (0:13:33.232000)\n",
      "RCNuachtRTE1-1506: 1034.456 seconds (0:17:14.456000)\n",
      "RCPiarsachGadai: 945.2639999999999 seconds (0:15:45.264000)\n"
     ]
    }
   ],
   "source": [
    "for dir in totals_hms.keys():\n",
    "    print(f\"{dir}: {totals[dir]} seconds ({totals_hms[dir]})\")"
   ]
  },
  {
   "cell_type": "code",
   "execution_count": 55,
   "metadata": {},
   "outputs": [],
   "source": [
    "for scdir in totals_hms.keys():\n",
    "    df.loc[df_cnt] = [f\"{scdir}\", totals[scdir], totals_hms[scdir]]\n",
    "    df_cnt += 1"
   ]
  },
  {
   "cell_type": "code",
   "execution_count": 56,
   "metadata": {},
   "outputs": [],
   "source": [
    "df.to_csv(\"co-pmg.csv\")"
   ]
  },
  {
   "cell_type": "code",
   "execution_count": 65,
   "metadata": {},
   "outputs": [],
   "source": [
    "df.to_excel(\"co-pmg.xlsx\", engine='openpyxl')"
   ]
  },
  {
   "cell_type": "code",
   "execution_count": 57,
   "metadata": {},
   "outputs": [
    {
     "data": {
      "text/html": [
       "<table border=\"1\" class=\"dataframe\">\n",
       "  <thead>\n",
       "    <tr style=\"text-align: right;\">\n",
       "      <th></th>\n",
       "      <th>name</th>\n",
       "      <th>seconds</th>\n",
       "      <th>hms</th>\n",
       "    </tr>\n",
       "  </thead>\n",
       "  <tbody>\n",
       "    <tr>\n",
       "      <th>0</th>\n",
       "      <td>RCNamedEntities02</td>\n",
       "      <td>771.496</td>\n",
       "      <td>0:12:51.496000</td>\n",
       "    </tr>\n",
       "    <tr>\n",
       "      <th>1</th>\n",
       "      <td>RCPiarsachBoithre</td>\n",
       "      <td>1564.104</td>\n",
       "      <td>0:26:04.104000</td>\n",
       "    </tr>\n",
       "    <tr>\n",
       "      <th>2</th>\n",
       "      <td>RCPiarsachDeargadaol</td>\n",
       "      <td>530.072</td>\n",
       "      <td>0:08:50.072000</td>\n",
       "    </tr>\n",
       "    <tr>\n",
       "      <th>3</th>\n",
       "      <td>RCPiarsachMhathair</td>\n",
       "      <td>725.456</td>\n",
       "      <td>0:12:05.456000</td>\n",
       "    </tr>\n",
       "    <tr>\n",
       "      <th>4</th>\n",
       "      <td>RCPiarsachIosagan</td>\n",
       "      <td>1134.256</td>\n",
       "      <td>0:18:54.256000</td>\n",
       "    </tr>\n",
       "    <tr>\n",
       "      <th>5</th>\n",
       "      <td>RCPiarsachBairbre</td>\n",
       "      <td>2151.608</td>\n",
       "      <td>0:35:51.608000</td>\n",
       "    </tr>\n",
       "    <tr>\n",
       "      <th>6</th>\n",
       "      <td>RCNamedEntities01</td>\n",
       "      <td>371.096</td>\n",
       "      <td>0:06:11.096000</td>\n",
       "    </tr>\n",
       "    <tr>\n",
       "      <th>7</th>\n",
       "      <td>RCPiarsachBrid</td>\n",
       "      <td>584.064</td>\n",
       "      <td>0:09:44.064000</td>\n",
       "    </tr>\n",
       "    <tr>\n",
       "      <th>8</th>\n",
       "      <td>RCPiarsachEoghainin</td>\n",
       "      <td>1573.400</td>\n",
       "      <td>0:26:13.400000</td>\n",
       "    </tr>\n",
       "    <tr>\n",
       "      <th>9</th>\n",
       "      <td>RCNuachtRTEMay</td>\n",
       "      <td>1913.512</td>\n",
       "      <td>0:31:53.512000</td>\n",
       "    </tr>\n",
       "    <tr>\n",
       "      <th>10</th>\n",
       "      <td>RCNuachtRTE1-1707</td>\n",
       "      <td>1433.952</td>\n",
       "      <td>0:23:53.952000</td>\n",
       "    </tr>\n",
       "    <tr>\n",
       "      <th>11</th>\n",
       "      <td>RCPiarsachBheanchaointe</td>\n",
       "      <td>2568.024</td>\n",
       "      <td>0:42:48.024000</td>\n",
       "    </tr>\n",
       "    <tr>\n",
       "      <th>12</th>\n",
       "      <td>RCAlphaBet</td>\n",
       "      <td>40.648</td>\n",
       "      <td>0:00:40.648000</td>\n",
       "    </tr>\n",
       "    <tr>\n",
       "      <th>13</th>\n",
       "      <td>RCNuachtRTE16-3006</td>\n",
       "      <td>761.928</td>\n",
       "      <td>0:12:41.928000</td>\n",
       "    </tr>\n",
       "    <tr>\n",
       "      <th>14</th>\n",
       "      <td>RCPiarsachSagart</td>\n",
       "      <td>813.232</td>\n",
       "      <td>0:13:33.232000</td>\n",
       "    </tr>\n",
       "    <tr>\n",
       "      <th>15</th>\n",
       "      <td>RCNuachtRTE1-1506</td>\n",
       "      <td>1034.456</td>\n",
       "      <td>0:17:14.456000</td>\n",
       "    </tr>\n",
       "    <tr>\n",
       "      <th>16</th>\n",
       "      <td>RCPiarsachGadai</td>\n",
       "      <td>945.264</td>\n",
       "      <td>0:15:45.264000</td>\n",
       "    </tr>\n",
       "  </tbody>\n",
       "</table>"
      ],
      "text/plain": [
       "<IPython.core.display.HTML object>"
      ]
     },
     "metadata": {},
     "output_type": "display_data"
    }
   ],
   "source": [
    "from IPython.display import display, HTML\n",
    "display(HTML(df.to_html()))"
   ]
  },
  {
   "cell_type": "code",
   "execution_count": 58,
   "metadata": {},
   "outputs": [
    {
     "name": "stdout",
     "output_type": "stream",
     "text": [
      "Total: 18916.568 (5:15:16.568000)\n"
     ]
    }
   ],
   "source": [
    "total_all = np.sum(df['seconds'])\n",
    "total_all_hms = str(datetime.timedelta(seconds=total_all))\n",
    "print(f'Total: {total_all} ({total_all_hms})')"
   ]
  }
 ],
 "metadata": {
  "kernelspec": {
   "display_name": "Python 3",
   "language": "python",
   "name": "python3"
  },
  "language_info": {
   "codemirror_mode": {
    "name": "ipython",
    "version": 3
   },
   "file_extension": ".py",
   "mimetype": "text/x-python",
   "name": "python",
   "nbconvert_exporter": "python",
   "pygments_lexer": "ipython3",
   "version": "3.6.9"
  }
 },
 "nbformat": 4,
 "nbformat_minor": 2
}
