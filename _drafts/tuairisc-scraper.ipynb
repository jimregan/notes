{
 "cells": [
  {
   "cell_type": "code",
   "execution_count": 6,
   "id": "b862b2bf",
   "metadata": {},
   "outputs": [],
   "source": [
    "_SITEMAP='https://tuairisc.ie/sitemap.xml'"
   ]
  },
  {
   "cell_type": "code",
   "execution_count": 1,
   "id": "424cc238",
   "metadata": {},
   "outputs": [],
   "source": [
    "import requests\n",
    "from bs4 import BeautifulSoup"
   ]
  },
  {
   "cell_type": "code",
   "execution_count": 19,
   "id": "81b824e0",
   "metadata": {},
   "outputs": [],
   "source": [
    "def _read_main_sitemap():\n",
    "    output = []\n",
    "    sm = requests.get(_SITEMAP)\n",
    "    if sm.status_code != 200:\n",
    "        raise Exception(\"Failed to read sitemap\")\n",
    "    base_soup = BeautifulSoup(sm.text, 'lxml')\n",
    "    for submap in base_soup.findAll('sitemap'):\n",
    "        location = submap.find('loc').text\n",
    "        if 'sitemap-pt' in location:\n",
    "            output.append(_read_sub_sitemap(location))\n",
    "    return output"
   ]
  },
  {
   "cell_type": "code",
   "execution_count": 17,
   "id": "1edab493",
   "metadata": {},
   "outputs": [],
   "source": [
    "def _read_sub_sitemap(url):\n",
    "    output = []\n",
    "    sm = requests.get(url)\n",
    "    if sm.status_code != 200:\n",
    "        raise Exception(\"Failed to read sitemap\")\n",
    "    base_soup = BeautifulSoup(sm.text, 'lxml')\n",
    "    for submap in base_soup.findAll('url'):\n",
    "        output.append(submap.find('loc').text)\n",
    "    return output"
   ]
  },
  {
   "cell_type": "code",
   "execution_count": 25,
   "id": "6643834b",
   "metadata": {},
   "outputs": [],
   "source": [
    "def _fetch_article(url):\n",
    "    page = requests.get(url)\n",
    "    if page.status_code != 200:\n",
    "        raise Exception(\"Failed to read page: \" + url)\n",
    "    return page.text"
   ]
  },
  {
   "cell_type": "code",
   "execution_count": 34,
   "id": "fed70399",
   "metadata": {},
   "outputs": [],
   "source": [
    "def _get_article_text(content):\n",
    "    base_soup = BeautifulSoup(content, 'html.parser')\n",
    "    main = base_soup.find('div', {'class': 'article--full__content'})\n",
    "    paras = [p.text.strip() for p in main.findAll('p') if p.text.strip() != '']\n",
    "    return(paras)"
   ]
  },
  {
   "cell_type": "code",
   "execution_count": 36,
   "id": "6658c2ae",
   "metadata": {},
   "outputs": [],
   "source": [
    "def _get_pub_date(content):\n",
    "    base_soup = BeautifulSoup(content, 'html.parser')\n",
    "    date = base_soup.find('time', {'itemprop': 'datePublished'})\n",
    "    return date['datetime']"
   ]
  },
  {
   "cell_type": "code",
   "execution_count": null,
   "id": "395945b4",
   "metadata": {},
   "outputs": [],
   "source": [
    "_get_article_text(_fetch_article('https://tuairisc.ie/nuair-a-thainig-john-hume-go-hollscoil-na-banriona-thuig-me-gur-i-lathair-ceannaire-agus-faidh-a-bhi-me/'))"
   ]
  },
  {
   "cell_type": "code",
   "execution_count": 37,
   "id": "c94ce156",
   "metadata": {},
   "outputs": [
    {
     "data": {
      "text/plain": [
       "'2020-08-04 05:44'"
      ]
     },
     "execution_count": 37,
     "metadata": {},
     "output_type": "execute_result"
    }
   ],
   "source": [
    "_get_pub_date(_fetch_article('https://tuairisc.ie/nuair-a-thainig-john-hume-go-hollscoil-na-banriona-thuig-me-gur-i-lathair-ceannaire-agus-faidh-a-bhi-me/'))"
   ]
  }
 ],
 "metadata": {
  "kernelspec": {
   "display_name": "Python 3",
   "language": "python",
   "name": "python3"
  },
  "language_info": {
   "codemirror_mode": {
    "name": "ipython",
    "version": 3
   },
   "file_extension": ".py",
   "mimetype": "text/x-python",
   "name": "python",
   "nbconvert_exporter": "python",
   "pygments_lexer": "ipython3",
   "version": "3.8.2"
  }
 },
 "nbformat": 4,
 "nbformat_minor": 5
}
