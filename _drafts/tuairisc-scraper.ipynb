{
 "cells": [
  {
   "cell_type": "code",
   "execution_count": 6,
   "id": "30e281a5",
   "metadata": {},
   "outputs": [],
   "source": [
    "_SITEMAP='https://tuairisc.ie/sitemap.xml'"
   ]
  },
  {
   "cell_type": "code",
   "execution_count": 1,
   "id": "51f994f9",
   "metadata": {},
   "outputs": [],
   "source": [
    "import requests\n",
    "from bs4 import BeautifulSoup"
   ]
  },
  {
   "cell_type": "code",
   "execution_count": 19,
   "id": "f2b2437c",
   "metadata": {},
   "outputs": [],
   "source": [
    "def _read_main_sitemap():\n",
    "    output = []\n",
    "    sm = requests.get(_SITEMAP)\n",
    "    if sm.status_code != 200:\n",
    "        raise Exception(\"Failed to read sitemap\")\n",
    "    base_soup = BeautifulSoup(sm.text, 'lxml')\n",
    "    for submap in base_soup.findAll('sitemap'):\n",
    "        location = submap.find('loc').text\n",
    "        if 'sitemap-pt' in location:\n",
    "            output.append(_read_sub_sitemap(location))\n",
    "    return output"
   ]
  },
  {
   "cell_type": "code",
   "execution_count": 17,
   "id": "c0ed2813",
   "metadata": {},
   "outputs": [],
   "source": [
    "def _read_sub_sitemap(url):\n",
    "    output = []\n",
    "    sm = requests.get(url)\n",
    "    if sm.status_code != 200:\n",
    "        raise Exception(\"Failed to read sitemap\")\n",
    "    base_soup = BeautifulSoup(sm.text, 'lxml')\n",
    "    for submap in base_soup.findAll('url'):\n",
    "        out = {}\n",
    "        out['url'] = submap.find('loc').text\n",
    "        out['date'] = submap.find('lastmod').text\n",
    "        output.append(out)\n",
    "    return output"
   ]
  }
 ],
 "metadata": {
  "kernelspec": {
   "display_name": "Python 3",
   "language": "python",
   "name": "python3"
  },
  "language_info": {
   "codemirror_mode": {
    "name": "ipython",
    "version": 3
   },
   "file_extension": ".py",
   "mimetype": "text/x-python",
   "name": "python",
   "nbconvert_exporter": "python",
   "pygments_lexer": "ipython3",
   "version": "3.8.2"
  }
 },
 "nbformat": 4,
 "nbformat_minor": 5
}
