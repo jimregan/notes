{
 "cells": [
  {
   "cell_type": "code",
   "execution_count": 6,
   "id": "2490fd30",
   "metadata": {},
   "outputs": [],
   "source": [
    "_SITEMAP='https://tuairisc.ie/sitemap.xml'"
   ]
  },
  {
   "cell_type": "code",
   "execution_count": 1,
   "id": "062de4ad",
   "metadata": {},
   "outputs": [],
   "source": [
    "import requests\n",
    "from bs4 import BeautifulSoup"
   ]
  },
  {
   "cell_type": "code",
   "execution_count": 19,
   "id": "694cfa0b",
   "metadata": {},
   "outputs": [],
   "source": [
    "def _read_main_sitemap():\n",
    "    output = []\n",
    "    sm = requests.get(_SITEMAP)\n",
    "    if sm.status_code != 200:\n",
    "        raise Exception(\"Failed to read sitemap\")\n",
    "    base_soup = BeautifulSoup(sm.text, 'lxml')\n",
    "    for submap in base_soup.findAll('sitemap'):\n",
    "        location = submap.find('loc').text\n",
    "        if 'sitemap-pt' in location:\n",
    "            output.append(_read_sub_sitemap(location))\n",
    "    return output"
   ]
  },
  {
   "cell_type": "code",
   "execution_count": 17,
   "id": "e4a5af16",
   "metadata": {},
   "outputs": [],
   "source": [
    "def _read_sub_sitemap(url):\n",
    "    output = []\n",
    "    sm = requests.get(url)\n",
    "    if sm.status_code != 200:\n",
    "        raise Exception(\"Failed to read sitemap\")\n",
    "    base_soup = BeautifulSoup(sm.text, 'lxml')\n",
    "    for submap in base_soup.findAll('url'):\n",
    "        out = {}\n",
    "        out['url'] = submap.find('loc').text\n",
    "        out['date'] = submap.find('lastmod').text\n",
    "        output.append(out)\n",
    "    return output"
   ]
  },
  {
   "cell_type": "code",
   "execution_count": 25,
   "id": "49c9d9f1",
   "metadata": {},
   "outputs": [],
   "source": [
    "def _fetch_article(url):\n",
    "    page = requests.get(url)\n",
    "    if page.status_code != 200:\n",
    "        raise Exception(\"Failed to read page: \" + url)\n",
    "    return page.text"
   ]
  },
  {
   "cell_type": "code",
   "execution_count": 32,
   "id": "1f77edbb",
   "metadata": {},
   "outputs": [],
   "source": [
    "def _get_article_text(content):\n",
    "    base_soup = BeautifulSoup(content, 'html.parser')\n",
    "    main = base_soup.find('div', {'class': 'article--full__content'})\n",
    "    paras = [p.text.strip() for p in main.findAll('p') if p.text.strip() != '']\n",
    "    print(paras)"
   ]
  },
  {
   "cell_type": "code",
   "execution_count": null,
   "id": "a71385cd",
   "metadata": {},
   "outputs": [],
   "source": [
    "_get_article_text(_fetch_article('https://tuairisc.ie/nuair-a-thainig-john-hume-go-hollscoil-na-banriona-thuig-me-gur-i-lathair-ceannaire-agus-faidh-a-bhi-me/'))"
   ]
  }
 ],
 "metadata": {
  "kernelspec": {
   "display_name": "Python 3",
   "language": "python",
   "name": "python3"
  },
  "language_info": {
   "codemirror_mode": {
    "name": "ipython",
    "version": 3
   },
   "file_extension": ".py",
   "mimetype": "text/x-python",
   "name": "python",
   "nbconvert_exporter": "python",
   "pygments_lexer": "ipython3",
   "version": "3.8.2"
  }
 },
 "nbformat": 4,
 "nbformat_minor": 5
}
