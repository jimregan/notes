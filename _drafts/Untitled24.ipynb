{
  "nbformat": 4,
  "nbformat_minor": 0,
  "metadata": {
    "colab": {
      "name": "Untitled24.ipynb",
      "provenance": [],
      "collapsed_sections": []
    },
    "kernelspec": {
      "name": "python3",
      "display_name": "Python 3"
    },
    "language_info": {
      "name": "python"
    }
  },
  "cells": [
    {
      "cell_type": "code",
      "execution_count": 1,
      "metadata": {
        "colab": {
          "base_uri": "https://localhost:8080/"
        },
        "id": "zNLGx-pIvdsp",
        "outputId": "aacb6944-413e-4d4c-d0c9-64ad5c259041"
      },
      "outputs": [
        {
          "output_type": "stream",
          "name": "stdout",
          "text": [
            "⏬ Downloading https://github.com/jaimergp/miniforge/releases/latest/download/Mambaforge-colab-Linux-x86_64.sh...\n",
            "📦 Installing...\n",
            "📌 Adjusting configuration...\n",
            "🩹 Patching environment...\n",
            "⏲ Done in 0:00:29\n",
            "🔁 Restarting kernel...\n"
          ]
        }
      ],
      "source": [
        "if 'google.colab' in str(get_ipython()):\n",
        "  !pip install -q condacolab\n",
        "  import condacolab\n",
        "  condacolab.install()"
      ]
    },
    {
      "cell_type": "code",
      "source": [
        "%%capture\n",
        "if 'google.colab' in str(get_ipython()):\n",
        "  ! conda install -c conda-forge pynini=2.1.3"
      ],
      "metadata": {
        "id": "-pIZKquvxa82"
      },
      "execution_count": null,
      "outputs": []
    },
    {
      "cell_type": "code",
      "source": [
        "import string\n",
        "import pynini\n",
        "from pynini import Far\n",
        "from pynini.export import export\n",
        "from pynini.examples import plurals\n",
        "from pynini.lib import byte, pynutil, utf8\n",
        "NEMO_CHAR = utf8.VALID_UTF8_CHAR\n",
        "NEMO_DIGIT = byte.DIGIT\n",
        "NEMO_LOWER = pynini.union(*string.ascii_lowercase).optimize()\n",
        "NEMO_UPPER = pynini.union(*string.ascii_uppercase).optimize()\n",
        "NEMO_ALPHA = pynini.union(NEMO_LOWER, NEMO_UPPER).optimize()\n",
        "NEMO_ALNUM = pynini.union(NEMO_DIGIT, NEMO_ALPHA).optimize()\n",
        "NEMO_SIGMA = pynini.closure(NEMO_CHAR)\n",
        "NEMO_SPACE = \" \"\n",
        "NEMO_WHITE_SPACE = pynini.union(\" \", \"\\t\", \"\\n\", \"\\r\", u\"\\u00A0\").optimize()\n",
        "delete_space = pynutil.delete(pynini.closure(NEMO_WHITE_SPACE))\n",
        "insert_space = pynutil.insert(\" \")\n"
      ],
      "metadata": {
        "id": "tj5J8seI0I_F"
      },
      "execution_count": 2,
      "outputs": []
    },
    {
      "cell_type": "code",
      "source": [
        "from pathlib import Path\n",
        "import os"
      ],
      "metadata": {
        "id": "i8Wc9yCL03Wk"
      },
      "execution_count": 3,
      "outputs": []
    },
    {
      "cell_type": "code",
      "source": [
        "class GraphFst:\n",
        "    \"\"\"\n",
        "    Base class for all grammar fsts.\n",
        "\n",
        "    Args:\n",
        "        name: name of grammar class\n",
        "        kind: either 'classify' or 'verbalize'\n",
        "        deterministic: if True will provide a single transduction option,\n",
        "            for False multiple transduction are generated (used for audio-based normalization)\n",
        "    \"\"\"\n",
        "\n",
        "    def __init__(self, name: str, kind: str, deterministic: bool = True):\n",
        "        self.name = name\n",
        "        self.kind = str\n",
        "        self._fst = None\n",
        "        self.deterministic = deterministic\n",
        "\n",
        "        self.far_path = Path(os.path.dirname(__file__) + '/grammars/' + kind + '/' + name + '.far')\n",
        "        if self.far_exist():\n",
        "            self._fst = Far(self.far_path, mode=\"r\", arc_type=\"standard\", far_type=\"default\").get_fst()\n",
        "\n",
        "    def far_exist(self) -> bool:\n",
        "        \"\"\"\n",
        "        Returns true if FAR can be loaded\n",
        "        \"\"\"\n",
        "        return self.far_path.exists()\n",
        "\n",
        "    @property\n",
        "    def fst(self) -> 'pynini.FstLike':\n",
        "        return self._fst\n",
        "\n",
        "    @fst.setter\n",
        "    def fst(self, fst):\n",
        "        self._fst = fst\n",
        "\n",
        "    def add_tokens(self, fst) -> 'pynini.FstLike':\n",
        "        \"\"\"\n",
        "        Wraps class name around to given fst\n",
        "\n",
        "        Args:\n",
        "            fst: input fst\n",
        "\n",
        "        Returns:\n",
        "            Fst: fst\n",
        "        \"\"\"\n",
        "        return pynutil.insert(f\"{self.name} {{ \") + fst + pynutil.insert(\" }\")\n",
        "\n",
        "    def delete_tokens(self, fst) -> 'pynini.FstLike':\n",
        "        \"\"\"\n",
        "        Deletes class name wrap around output of given fst\n",
        "\n",
        "        Args:\n",
        "            fst: input fst\n",
        "\n",
        "        Returns:\n",
        "            Fst: fst\n",
        "        \"\"\"\n",
        "        res = (\n",
        "            pynutil.delete(f\"{self.name}\")\n",
        "            + delete_space\n",
        "            + pynutil.delete(\"{\")\n",
        "            + delete_space\n",
        "            + fst\n",
        "            + delete_space\n",
        "            + pynutil.delete(\"}\")\n",
        "        )\n",
        "        return res @ pynini.cdrewrite(pynini.cross(u\"\\u00A0\", \" \"), \"\", \"\", NEMO_SIGMA)\n"
      ],
      "metadata": {
        "id": "9O0GHus00yET"
      },
      "execution_count": 4,
      "outputs": []
    },
    {
      "cell_type": "code",
      "source": [
        "!mkdir -p data/numbers/"
      ],
      "metadata": {
        "id": "fwbLtAAL1UQD"
      },
      "execution_count": 5,
      "outputs": []
    },
    {
      "cell_type": "code",
      "source": [
        "%%writefile data/numbers/zero.tsv\n",
        "noll\t0"
      ],
      "metadata": {
        "colab": {
          "base_uri": "https://localhost:8080/"
        },
        "id": "kYIrdNAA1G3g",
        "outputId": "5d9ce32f-71ce-4f24-d18f-6020329709aa"
      },
      "execution_count": 6,
      "outputs": [
        {
          "output_type": "stream",
          "name": "stdout",
          "text": [
            "Writing data/numbers/zero.tsv\n"
          ]
        }
      ]
    },
    {
      "cell_type": "code",
      "source": [
        "%%writefile data/numbers/ties.tsv\n",
        "tjugo\t2\n",
        "trettio\t3\n",
        "fyrtio\t4\n",
        "femtio\t5\n",
        "sextio\t6\n",
        "sjuttio\t7\n",
        "åttio\t8\n",
        "nittio\t9"
      ],
      "metadata": {
        "colab": {
          "base_uri": "https://localhost:8080/"
        },
        "id": "q6QQ_7rr1Wt2",
        "outputId": "e060f0ce-71d7-47fd-d9f5-11a4dfc21ff2"
      },
      "execution_count": 7,
      "outputs": [
        {
          "output_type": "stream",
          "name": "stdout",
          "text": [
            "Writing data/numbers/ties.tsv\n"
          ]
        }
      ]
    },
    {
      "cell_type": "code",
      "source": [
        "%%writefile data/numbers/digit.tsv\n",
        "ett\t1\n",
        "två\t2\n",
        "tre\t3\n",
        "fyra\t4\n",
        "fem\t5\n",
        "sex\t6\n",
        "sju\t7\n",
        "åtta\t8\n",
        "nio\t9"
      ],
      "metadata": {
        "colab": {
          "base_uri": "https://localhost:8080/"
        },
        "id": "t_-lFc_91hGq",
        "outputId": "2a4f4483-e4a0-463a-d6a6-7dc29c6efab6"
      },
      "execution_count": 8,
      "outputs": [
        {
          "output_type": "stream",
          "name": "stdout",
          "text": [
            "Writing data/numbers/digit.tsv\n"
          ]
        }
      ]
    },
    {
      "cell_type": "code",
      "source": [
        "%%writefile data/numbers/teen.tsv\n",
        "tio\t10\n",
        "elva\t11\n",
        "tolv\t12\n",
        "tretton\t13\n",
        "fjorton\t14\n",
        "femton\t15\n",
        "sexton\t16\n",
        "sjutton\t17\n",
        "arton\t18\n",
        "nitton\t19"
      ],
      "metadata": {
        "colab": {
          "base_uri": "https://localhost:8080/"
        },
        "id": "Fa-3xKXD1lmc",
        "outputId": "b9c7542c-b468-40ad-cde3-091d25470109"
      },
      "execution_count": 9,
      "outputs": [
        {
          "output_type": "stream",
          "name": "stdout",
          "text": [
            "Writing data/numbers/teen.tsv\n"
          ]
        }
      ]
    },
    {
      "cell_type": "code",
      "source": [
        "def get_abs_path(rel_path):\n",
        "    \"\"\"\n",
        "    Get absolute path\n",
        "\n",
        "    Args:\n",
        "        rel_path: relative path to this file\n",
        "        \n",
        "    Returns absolute path\n",
        "    \"\"\"\n",
        "    abs_path = \"/content\" + os.sep + rel_path\n",
        "\n",
        "    if not os.path.exists(abs_path):\n",
        "        print(f'{abs_path} does not exist')\n",
        "    return abs_path\n"
      ],
      "metadata": {
        "id": "WtpI3gnn1uhS"
      },
      "execution_count": 10,
      "outputs": []
    },
    {
      "cell_type": "code",
      "source": [
        "zero = pynini.invert(pynini.string_file(get_abs_path(\"data/numbers/zero.tsv\")))\n",
        "digit = pynini.invert(pynini.string_file(get_abs_path(\"data/numbers/digit.tsv\")))\n",
        "teen = pynini.invert(pynini.string_file(get_abs_path(\"data/numbers/teen.tsv\")))\n",
        "ties = pynini.invert(pynini.string_file(get_abs_path(\"data/numbers/ties.tsv\")))\n"
      ],
      "metadata": {
        "id": "D7I0Ap2r1AJB"
      },
      "execution_count": 11,
      "outputs": []
    },
    {
      "cell_type": "code",
      "source": [
        "def filter_punctuation(fst):\n",
        "    exactly_three_digits = NEMO_DIGIT ** 3  # for blocks of three\n",
        "    up_to_three_digits = pynini.closure(NEMO_DIGIT, 1, 3)  # for start of string\n",
        "\n",
        "    cardinal_separator = NEMO_SPACE\n",
        "    cardinal_string = pynini.closure(\n",
        "        NEMO_DIGIT, 1\n",
        "    )  # For string w/o punctuation (used for page numbers, thousand series)\n",
        "\n",
        "    cardinal_string |= (\n",
        "        up_to_three_digits\n",
        "        + pynutil.delete(cardinal_separator)\n",
        "        + pynini.closure(exactly_three_digits + pynutil.delete(cardinal_separator))\n",
        "        + exactly_three_digits\n",
        "    )\n",
        "\n",
        "    return cardinal_string @ fst\n"
      ],
      "metadata": {
        "id": "cyohNs3V19jx"
      },
      "execution_count": 12,
      "outputs": []
    },
    {
      "cell_type": "code",
      "source": [
        "deterministic = False"
      ],
      "metadata": {
        "id": "lxU0yyzn2Mdr"
      },
      "execution_count": 13,
      "outputs": []
    },
    {
      "cell_type": "code",
      "source": [
        "graph_digit = digit\n",
        "digits_no_one = (NEMO_DIGIT - \"1\") @ graph_digit\n",
        "both_ones = (pynini.cross(\"1\", \"en\") | pynini.cross(\"1\", \"ett\"))\n",
        "if deterministic:\n",
        "    final_digit = digit\n",
        "else:\n",
        "    final_digit = digits_no_one | both_ones\n"
      ],
      "metadata": {
        "id": "vFeg4Xy92Ryk"
      },
      "execution_count": 14,
      "outputs": []
    },
    {
      "cell_type": "code",
      "source": [
        "graph_tens = teen\n",
        "if deterministic:\n",
        "    graph_tens |= ties + (pynutil.delete('0') | graph_digit)\n",
        "    final_tens = graph_tens\n",
        "else:\n",
        "    graph_tens |= ties + (pynutil.delete('0') | (graph_digit | pynutil.insert(' ') + graph_digit))\n",
        "    final_tens = graph_tens\n",
        "    final_tens |= ties + (pynutil.delete('0') | (final_digit | pynutil.insert(' ') + final_digit))\n"
      ],
      "metadata": {
        "id": "0FX2Dp6R5B4L"
      },
      "execution_count": 15,
      "outputs": []
    },
    {
      "cell_type": "code",
      "source": [
        "graph_digit = digit\n",
        "digits_no_one = (NEMO_DIGIT - \"1\") @ graph_digit\n",
        "both_ones = (pynini.cross(\"1\", \"en\") | pynini.cross(\"1\", \"ett\"))\n",
        "if deterministic:\n",
        "    final_digit = digit\n",
        "else:\n",
        "    final_digit = digits_no_one | both_ones\n",
        "\n",
        "# Any double digit\n",
        "graph_tens = teen\n",
        "if deterministic:\n",
        "    graph_tens |= ties + (pynutil.delete('0') | graph_digit)\n",
        "    final_tens = graph_tens\n",
        "else:\n",
        "    graph_tens |= ties + (pynutil.delete('0') | (graph_digit | pynutil.insert(' ') + graph_digit))\n",
        "    final_tens |= ties + (pynutil.delete('0') | (final_digit | pynutil.insert(' ') + final_digit))\n",
        "\n",
        "hundreds = digits_no_one + pynutil.insert(\"hundra\")\n",
        "hundreds |= pynini.cross(\"1\", \"hundra\")\n",
        "if not deterministic:\n",
        "    hundreds |= pynini.cross(\"1\", \"etthundra\")\n",
        "    hundreds |= digit + pynutil.insert(NEMO_SPACE) + pynutil.insert(\"hundra\")\n",
        "\n",
        "self_tens = graph_tens.optimize()\n",
        "\n",
        "graph_two_digit_non_zero = pynini.union(\n",
        "    graph_digit, graph_tens, (pynutil.delete(\"0\") + graph_digit)\n",
        ")\n",
        "if not deterministic:\n",
        "    graph_two_digit_non_zero |= pynini.union(\n",
        "        graph_digit, graph_tens, (pynini.cross(\"0\", NEMO_SPACE) + graph_digit)\n",
        "    )\n",
        "\n",
        "self_two_digit_non_zero = graph_two_digit_non_zero.optimize()\n",
        "\n",
        "graph_final_two_digit_non_zero = pynini.union(\n",
        "    final_digit, graph_tens, (pynutil.delete(\"0\") + final_digit)\n",
        ")\n",
        "if not deterministic:\n",
        "    graph_final_two_digit_non_zero |= pynini.union(\n",
        "        final_digit, graph_tens, (pynini.cross(\"0\", NEMO_SPACE) + final_digit)\n",
        "    )\n",
        "\n",
        "self_final_two_digit_non_zero = graph_final_two_digit_non_zero.optimize()\n",
        "\n",
        "# Three digit strings\n",
        "graph_hundreds = hundreds + pynini.union(\n",
        "    pynutil.delete(\"00\"), graph_tens, (pynutil.delete(\"0\") + final_digit)\n",
        ")\n",
        "if not deterministic:\n",
        "    graph_hundreds |= hundreds + pynini.union(\n",
        "        pynutil.delete(\"00\"), (graph_tens | pynutil.insert(NEMO_SPACE) + graph_tens), (pynini.cross(\"0\", NEMO_SPACE) + final_digit)\n",
        "    )\n",
        "\n",
        "self_hundreds = graph_hundreds.optimize()\n",
        "\n",
        "graph_hundreds_component = pynini.union(graph_hundreds, pynutil.delete(\"0\") + graph_tens)\n",
        "\n",
        "graph_hundreds_component_at_least_one_non_zero_digit = graph_hundreds_component | (\n",
        "    pynutil.delete(\"00\") + graph_digit\n",
        ")\n",
        "graph_hundreds_component_at_least_one_non_zero_digit_no_one = graph_hundreds_component | (\n",
        "    pynutil.delete(\"00\") + digits_no_one\n",
        ")\n",
        "\n",
        "\n",
        "tusen = pynutil.insert(\"tusen\")\n",
        "if not deterministic:\n",
        "    tusen |= pynutil.insert(\" tusen\")\n",
        "\n",
        "graph_thousands_component_at_least_one_non_zero_digit = pynini.union(\n",
        "    pynutil.delete(\"000\") + graph_hundreds_component_at_least_one_non_zero_digit,\n",
        "    graph_hundreds_component_at_least_one_non_zero_digit_no_one\n",
        "    + tusen\n",
        "    + ((insert_space + graph_hundreds_component_at_least_one_non_zero_digit) | pynutil.delete(\"000\")),\n",
        "    pynini.cross(\"001\", \"tusen\")\n",
        "    + ((insert_space + graph_hundreds_component_at_least_one_non_zero_digit) | pynutil.delete(\"000\")),\n",
        ")\n",
        "\n",
        "graph_thousands_component_at_least_one_non_zero_digit_no_one = pynini.union(\n",
        "    pynutil.delete(\"000\") + graph_hundreds_component_at_least_one_non_zero_digit_no_one,\n",
        "    graph_hundreds_component_at_least_one_non_zero_digit_no_one\n",
        "    + tusen\n",
        "    + ((insert_space + graph_hundreds_component_at_least_one_non_zero_digit) | pynutil.delete(\"000\")),\n",
        "    pynini.cross(\"001\", \"tusen\")\n",
        "    + ((insert_space + graph_hundreds_component_at_least_one_non_zero_digit) | pynutil.delete(\"000\")),\n",
        ")\n",
        "\n"
      ],
      "metadata": {
        "id": "Fpkdu2P-2iNI"
      },
      "execution_count": 16,
      "outputs": []
    },
    {
      "cell_type": "code",
      "source": [
        "(\"hundraett\" @ pynini.invert(graph_hundreds_component_at_least_one_non_zero_digit_no_one).optimize()).string()"
      ],
      "metadata": {
        "colab": {
          "base_uri": "https://localhost:8080/",
          "height": 35
        },
        "id": "aGhjq8db20Ab",
        "outputId": "90d27b39-3290-4d48-e569-c00f68138460"
      },
      "execution_count": 32,
      "outputs": [
        {
          "output_type": "execute_result",
          "data": {
            "text/plain": [
              "'101'"
            ],
            "application/vnd.google.colaboratory.intrinsic+json": {
              "type": "string"
            }
          },
          "metadata": {},
          "execution_count": 32
        }
      ]
    },
    {
      "cell_type": "code",
      "source": [
        "(\"101\" @ graph_hundreds_component_at_least_one_non_zero_digit_no_one)"
      ],
      "metadata": {
        "colab": {
          "base_uri": "https://localhost:8080/",
          "height": 102
        },
        "id": "b6CByupHFwFr",
        "outputId": "05a4eb92-38df-44d8-ebdb-82edf2c251d3"
      },
      "execution_count": 39,
      "outputs": [
        {
          "output_type": "execute_result",
          "data": {
            "text/plain": [
              "<vector Fst at 0x7f92a8c868b0>"
            ],
            "image/svg+xml": "<?xml version=\"1.0\" encoding=\"UTF-8\" standalone=\"no\"?>\n<!DOCTYPE svg PUBLIC \"-//W3C//DTD SVG 1.1//EN\"\n \"http://www.w3.org/Graphics/SVG/1.1/DTD/svg11.dtd\">\n<!-- Generated by graphviz version 2.42.3 (20191010.1750)\n -->\n<!-- Title: FST Pages: 1 -->\n<svg width=\"612pt\" height=\"61pt\"\n viewBox=\"0.00 0.00 612.00 61.30\" xmlns=\"http://www.w3.org/2000/svg\" xmlns:xlink=\"http://www.w3.org/1999/xlink\">\n<g id=\"graph0\" class=\"graph\" transform=\"scale(2.62 2.62) rotate(0) translate(4 156.8)\">\n<title>FST</title>\n<polygon fill=\"white\" stroke=\"transparent\" points=\"-4,4 -4,-156.8 1601.47,-156.8 1601.47,4 -4,4\"/>\n<!-- 0 -->\n<g id=\"node1\" class=\"node\">\n<title>0</title>\n<ellipse fill=\"none\" stroke=\"black\" stroke-width=\"2\" cx=\"18\" cy=\"-80.8\" rx=\"18\" ry=\"18\"/>\n<text text-anchor=\"middle\" x=\"18\" y=\"-77.1\" font-family=\"Times,serif\" font-size=\"14.00\">0</text>\n</g>\n<!-- 1 -->\n<g id=\"node2\" class=\"node\">\n<title>1</title>\n<ellipse fill=\"none\" stroke=\"black\" cx=\"126\" cy=\"-134.8\" rx=\"18\" ry=\"18\"/>\n<text text-anchor=\"middle\" x=\"126\" y=\"-131.1\" font-family=\"Times,serif\" font-size=\"14.00\">1</text>\n</g>\n<!-- 0&#45;&gt;1 -->\n<g id=\"edge1\" class=\"edge\">\n<title>0&#45;&gt;1</title>\n<path fill=\"none\" stroke=\"black\" d=\"M33.81,-89.99C39.16,-93.2 45.3,-96.76 51,-99.8 67.01,-108.31 85.43,-117.03 99.9,-123.64\"/>\n<polygon fill=\"black\" stroke=\"black\" points=\"98.64,-126.91 109.2,-127.84 101.53,-120.53 98.64,-126.91\"/>\n<text text-anchor=\"middle\" x=\"72\" y=\"-123.6\" font-family=\"Times,serif\" font-size=\"14.00\">0:101</text>\n</g>\n<!-- 2 -->\n<g id=\"node3\" class=\"node\">\n<title>2</title>\n<ellipse fill=\"none\" stroke=\"black\" cx=\"126\" cy=\"-80.8\" rx=\"18\" ry=\"18\"/>\n<text text-anchor=\"middle\" x=\"126\" y=\"-77.1\" font-family=\"Times,serif\" font-size=\"14.00\">2</text>\n</g>\n<!-- 0&#45;&gt;2 -->\n<g id=\"edge2\" class=\"edge\">\n<title>0&#45;&gt;2</title>\n<path fill=\"none\" stroke=\"black\" d=\"M36.03,-80.8C52.62,-80.8 78.12,-80.8 97.57,-80.8\"/>\n<polygon fill=\"black\" stroke=\"black\" points=\"97.66,-84.3 107.66,-80.8 97.66,-77.3 97.66,-84.3\"/>\n<text text-anchor=\"middle\" x=\"72\" y=\"-84.6\" font-family=\"Times,serif\" font-size=\"14.00\">49:101</text>\n</g>\n<!-- 3 -->\n<g id=\"node4\" class=\"node\">\n<title>3</title>\n<ellipse fill=\"none\" stroke=\"black\" cx=\"632.6\" cy=\"-50.8\" rx=\"18\" ry=\"18\"/>\n<text text-anchor=\"middle\" x=\"632.6\" y=\"-47.1\" font-family=\"Times,serif\" font-size=\"14.00\">3</text>\n</g>\n<!-- 0&#45;&gt;3 -->\n<g id=\"edge3\" class=\"edge\">\n<title>0&#45;&gt;3</title>\n<path fill=\"none\" stroke=\"black\" d=\"M32.91,-70.36C52.41,-56.79 89.49,-34.8 125,-34.8 125,-34.8 125,-34.8 533.6,-34.8 558.15,-34.8 585.71,-39.75 605.33,-44.14\"/>\n<polygon fill=\"black\" stroke=\"black\" points=\"604.55,-47.55 615.08,-46.43 606.15,-40.74 604.55,-47.55\"/>\n<text text-anchor=\"middle\" x=\"331\" y=\"-38.6\" font-family=\"Times,serif\" font-size=\"14.00\">49:104</text>\n</g>\n<!-- 4 -->\n<g id=\"node5\" class=\"node\">\n<title>4</title>\n<ellipse fill=\"none\" stroke=\"black\" cx=\"226\" cy=\"-133.8\" rx=\"18\" ry=\"18\"/>\n<text text-anchor=\"middle\" x=\"226\" y=\"-130.1\" font-family=\"Times,serif\" font-size=\"14.00\">4</text>\n</g>\n<!-- 1&#45;&gt;4 -->\n<g id=\"edge4\" class=\"edge\">\n<title>1&#45;&gt;4</title>\n<path fill=\"none\" stroke=\"black\" d=\"M144.07,-134.62C158.88,-134.47 180.57,-134.25 197.77,-134.08\"/>\n<polygon fill=\"black\" stroke=\"black\" points=\"197.83,-137.58 207.8,-133.97 197.76,-130.58 197.83,-137.58\"/>\n<text text-anchor=\"middle\" x=\"176\" y=\"-137.6\" font-family=\"Times,serif\" font-size=\"14.00\">0:116</text>\n</g>\n<!-- 5 -->\n<g id=\"node6\" class=\"node\">\n<title>5</title>\n<ellipse fill=\"none\" stroke=\"black\" cx=\"277\" cy=\"-80.8\" rx=\"18\" ry=\"18\"/>\n<text text-anchor=\"middle\" x=\"277\" y=\"-77.1\" font-family=\"Times,serif\" font-size=\"14.00\">5</text>\n</g>\n<!-- 2&#45;&gt;5 -->\n<g id=\"edge5\" class=\"edge\">\n<title>2&#45;&gt;5</title>\n<path fill=\"none\" stroke=\"black\" d=\"M144.09,-80.8C169.55,-80.8 217.72,-80.8 248.26,-80.8\"/>\n<polygon fill=\"black\" stroke=\"black\" points=\"248.65,-84.3 258.65,-80.8 248.65,-77.3 248.65,-84.3\"/>\n<text text-anchor=\"middle\" x=\"176\" y=\"-84.6\" font-family=\"Times,serif\" font-size=\"14.00\">0:116</text>\n</g>\n<!-- 6 -->\n<g id=\"node7\" class=\"node\">\n<title>6</title>\n<ellipse fill=\"none\" stroke=\"black\" cx=\"732.6\" cy=\"-50.8\" rx=\"18\" ry=\"18\"/>\n<text text-anchor=\"middle\" x=\"732.6\" y=\"-47.1\" font-family=\"Times,serif\" font-size=\"14.00\">6</text>\n</g>\n<!-- 3&#45;&gt;6 -->\n<g id=\"edge6\" class=\"edge\">\n<title>3&#45;&gt;6</title>\n<path fill=\"none\" stroke=\"black\" d=\"M650.67,-50.8C665.47,-50.8 687.16,-50.8 704.37,-50.8\"/>\n<polygon fill=\"black\" stroke=\"black\" points=\"704.39,-54.3 714.39,-50.8 704.39,-47.3 704.39,-54.3\"/>\n<text text-anchor=\"middle\" x=\"682.6\" y=\"-54.6\" font-family=\"Times,serif\" font-size=\"14.00\">0:117</text>\n</g>\n<!-- 7 -->\n<g id=\"node8\" class=\"node\">\n<title>7</title>\n<ellipse fill=\"none\" stroke=\"black\" cx=\"331\" cy=\"-132.8\" rx=\"18\" ry=\"18\"/>\n<text text-anchor=\"middle\" x=\"331\" y=\"-129.1\" font-family=\"Times,serif\" font-size=\"14.00\">7</text>\n</g>\n<!-- 4&#45;&gt;7 -->\n<g id=\"edge7\" class=\"edge\">\n<title>4&#45;&gt;7</title>\n<path fill=\"none\" stroke=\"black\" d=\"M244.01,-133.63C259.96,-133.48 284.09,-133.24 302.73,-133.06\"/>\n<polygon fill=\"black\" stroke=\"black\" points=\"303,-136.56 312.97,-132.96 302.93,-129.56 303,-136.56\"/>\n<text text-anchor=\"middle\" x=\"277\" y=\"-136.6\" font-family=\"Times,serif\" font-size=\"14.00\">0:116</text>\n</g>\n<!-- 8 -->\n<g id=\"node9\" class=\"node\">\n<title>8</title>\n<ellipse fill=\"none\" stroke=\"black\" cx=\"532.6\" cy=\"-80.8\" rx=\"18\" ry=\"18\"/>\n<text text-anchor=\"middle\" x=\"532.6\" y=\"-77.1\" font-family=\"Times,serif\" font-size=\"14.00\">8</text>\n</g>\n<!-- 5&#45;&gt;8 -->\n<g id=\"edge8\" class=\"edge\">\n<title>5&#45;&gt;8</title>\n<path fill=\"none\" stroke=\"black\" d=\"M295.03,-80.8C338.06,-80.8 451.43,-80.8 504.05,-80.8\"/>\n<polygon fill=\"black\" stroke=\"black\" points=\"504.3,-84.3 514.3,-80.8 504.3,-77.3 504.3,-84.3\"/>\n<text text-anchor=\"middle\" x=\"384\" y=\"-84.6\" font-family=\"Times,serif\" font-size=\"14.00\">0:116</text>\n</g>\n<!-- 9 -->\n<g id=\"node10\" class=\"node\">\n<title>9</title>\n<ellipse fill=\"none\" stroke=\"black\" cx=\"832.6\" cy=\"-50.8\" rx=\"18\" ry=\"18\"/>\n<text text-anchor=\"middle\" x=\"832.6\" y=\"-47.1\" font-family=\"Times,serif\" font-size=\"14.00\">9</text>\n</g>\n<!-- 6&#45;&gt;9 -->\n<g id=\"edge9\" class=\"edge\">\n<title>6&#45;&gt;9</title>\n<path fill=\"none\" stroke=\"black\" d=\"M750.67,-50.8C765.47,-50.8 787.16,-50.8 804.37,-50.8\"/>\n<polygon fill=\"black\" stroke=\"black\" points=\"804.39,-54.3 814.39,-50.8 804.39,-47.3 804.39,-54.3\"/>\n<text text-anchor=\"middle\" x=\"782.6\" y=\"-54.6\" font-family=\"Times,serif\" font-size=\"14.00\">0:110</text>\n</g>\n<!-- 10 -->\n<g id=\"node11\" class=\"node\">\n<title>10</title>\n<ellipse fill=\"none\" stroke=\"black\" cx=\"436.8\" cy=\"-131.8\" rx=\"20.6\" ry=\"20.6\"/>\n<text text-anchor=\"middle\" x=\"436.8\" y=\"-128.1\" font-family=\"Times,serif\" font-size=\"14.00\">10</text>\n</g>\n<!-- 7&#45;&gt;10 -->\n<g id=\"edge10\" class=\"edge\">\n<title>7&#45;&gt;10</title>\n<path fill=\"none\" stroke=\"black\" d=\"M349.14,-132.63C364.45,-132.49 387.22,-132.27 405.58,-132.09\"/>\n<polygon fill=\"black\" stroke=\"black\" points=\"405.82,-135.59 415.79,-131.99 405.76,-128.59 405.82,-135.59\"/>\n<text text-anchor=\"middle\" x=\"384\" y=\"-135.6\" font-family=\"Times,serif\" font-size=\"14.00\">49:0</text>\n</g>\n<!-- 8&#45;&gt;3 -->\n<g id=\"edge11\" class=\"edge\">\n<title>8&#45;&gt;3</title>\n<path fill=\"none\" stroke=\"black\" d=\"M550.22,-75.71C565.38,-71.07 588.01,-64.14 605.56,-58.77\"/>\n<polygon fill=\"black\" stroke=\"black\" points=\"606.68,-62.09 615.22,-55.81 604.63,-55.39 606.68,-62.09\"/>\n<text text-anchor=\"middle\" x=\"582.6\" y=\"-74.6\" font-family=\"Times,serif\" font-size=\"14.00\">0:104</text>\n</g>\n<!-- 11 -->\n<g id=\"node12\" class=\"node\">\n<title>11</title>\n<ellipse fill=\"none\" stroke=\"black\" cx=\"934.74\" cy=\"-50.8\" rx=\"20.3\" ry=\"20.3\"/>\n<text text-anchor=\"middle\" x=\"934.74\" y=\"-47.1\" font-family=\"Times,serif\" font-size=\"14.00\">11</text>\n</g>\n<!-- 9&#45;&gt;11 -->\n<g id=\"edge12\" class=\"edge\">\n<title>9&#45;&gt;11</title>\n<path fill=\"none\" stroke=\"black\" d=\"M851.04,-50.8C865.71,-50.8 886.99,-50.8 904.29,-50.8\"/>\n<polygon fill=\"black\" stroke=\"black\" points=\"904.45,-54.3 914.45,-50.8 904.45,-47.3 904.45,-54.3\"/>\n<text text-anchor=\"middle\" x=\"882.6\" y=\"-54.6\" font-family=\"Times,serif\" font-size=\"14.00\">0:100</text>\n</g>\n<!-- 10&#45;&gt;8 -->\n<g id=\"edge13\" class=\"edge\">\n<title>10&#45;&gt;8</title>\n<path fill=\"none\" stroke=\"black\" d=\"M455.44,-122.21C470.17,-114.2 491.31,-102.7 507.58,-93.86\"/>\n<polygon fill=\"black\" stroke=\"black\" points=\"509.4,-96.85 516.51,-89 506.05,-90.7 509.4,-96.85\"/>\n<text text-anchor=\"middle\" x=\"486.1\" y=\"-115.6\" font-family=\"Times,serif\" font-size=\"14.00\">0:32</text>\n</g>\n<!-- 12 -->\n<g id=\"node13\" class=\"node\">\n<title>12</title>\n<ellipse fill=\"none\" stroke=\"black\" cx=\"1039.69\" cy=\"-50.8\" rx=\"20.6\" ry=\"20.6\"/>\n<text text-anchor=\"middle\" x=\"1039.69\" y=\"-47.1\" font-family=\"Times,serif\" font-size=\"14.00\">12</text>\n</g>\n<!-- 11&#45;&gt;12 -->\n<g id=\"edge14\" class=\"edge\">\n<title>11&#45;&gt;12</title>\n<path fill=\"none\" stroke=\"black\" d=\"M955.11,-50.8C970.16,-50.8 991.3,-50.8 1008.56,-50.8\"/>\n<polygon fill=\"black\" stroke=\"black\" points=\"1008.71,-54.3 1018.71,-50.8 1008.71,-47.3 1008.71,-54.3\"/>\n<text text-anchor=\"middle\" x=\"986.89\" y=\"-54.6\" font-family=\"Times,serif\" font-size=\"14.00\">0:114</text>\n</g>\n<!-- 13 -->\n<g id=\"node14\" class=\"node\">\n<title>13</title>\n<ellipse fill=\"none\" stroke=\"black\" cx=\"1138.29\" cy=\"-50.8\" rx=\"20.6\" ry=\"20.6\"/>\n<text text-anchor=\"middle\" x=\"1138.29\" y=\"-47.1\" font-family=\"Times,serif\" font-size=\"14.00\">13</text>\n</g>\n<!-- 12&#45;&gt;13 -->\n<g id=\"edge15\" class=\"edge\">\n<title>12&#45;&gt;13</title>\n<path fill=\"none\" stroke=\"black\" d=\"M1060.71,-50.8C1074.05,-50.8 1091.83,-50.8 1106.9,-50.8\"/>\n<polygon fill=\"black\" stroke=\"black\" points=\"1107.3,-54.3 1117.3,-50.8 1107.3,-47.3 1107.3,-54.3\"/>\n<text text-anchor=\"middle\" x=\"1088.99\" y=\"-54.6\" font-family=\"Times,serif\" font-size=\"14.00\">0:97</text>\n</g>\n<!-- 14 -->\n<g id=\"node15\" class=\"node\">\n<title>14</title>\n<ellipse fill=\"none\" stroke=\"black\" cx=\"1243.88\" cy=\"-80.8\" rx=\"20.6\" ry=\"20.6\"/>\n<text text-anchor=\"middle\" x=\"1243.88\" y=\"-77.1\" font-family=\"Times,serif\" font-size=\"14.00\">14</text>\n</g>\n<!-- 13&#45;&gt;14 -->\n<g id=\"edge16\" class=\"edge\">\n<title>13&#45;&gt;14</title>\n<path fill=\"none\" stroke=\"black\" d=\"M1158.77,-56.44C1174.26,-60.92 1196.15,-67.27 1213.72,-72.35\"/>\n<polygon fill=\"black\" stroke=\"black\" points=\"1212.91,-75.76 1223.49,-75.18 1214.85,-69.04 1212.91,-75.76\"/>\n<text text-anchor=\"middle\" x=\"1191.09\" y=\"-74.6\" font-family=\"Times,serif\" font-size=\"14.00\">48:0</text>\n</g>\n<!-- 15 -->\n<g id=\"node16\" class=\"node\">\n<title>15</title>\n<ellipse fill=\"none\" stroke=\"black\" cx=\"1243.88\" cy=\"-20.8\" rx=\"20.6\" ry=\"20.6\"/>\n<text text-anchor=\"middle\" x=\"1243.88\" y=\"-17.1\" font-family=\"Times,serif\" font-size=\"14.00\">15</text>\n</g>\n<!-- 13&#45;&gt;15 -->\n<g id=\"edge17\" class=\"edge\">\n<title>13&#45;&gt;15</title>\n<path fill=\"none\" stroke=\"black\" d=\"M1158.77,-45.16C1174.26,-40.67 1196.15,-34.33 1213.72,-29.24\"/>\n<polygon fill=\"black\" stroke=\"black\" points=\"1214.85,-32.56 1223.49,-26.42 1212.91,-25.84 1214.85,-32.56\"/>\n<text text-anchor=\"middle\" x=\"1191.09\" y=\"-44.6\" font-family=\"Times,serif\" font-size=\"14.00\">48:32</text>\n</g>\n<!-- 16 -->\n<g id=\"node17\" class=\"node\">\n<title>16</title>\n<ellipse fill=\"none\" stroke=\"black\" cx=\"1357.48\" cy=\"-50.8\" rx=\"20.6\" ry=\"20.6\"/>\n<text text-anchor=\"middle\" x=\"1357.48\" y=\"-47.1\" font-family=\"Times,serif\" font-size=\"14.00\">16</text>\n</g>\n<!-- 14&#45;&gt;16 -->\n<g id=\"edge18\" class=\"edge\">\n<title>14&#45;&gt;16</title>\n<path fill=\"none\" stroke=\"black\" d=\"M1264.07,-75.64C1281.47,-70.96 1307.39,-63.99 1327.35,-58.63\"/>\n<polygon fill=\"black\" stroke=\"black\" points=\"1328.42,-61.96 1337.17,-55.99 1326.61,-55.2 1328.42,-61.96\"/>\n<text text-anchor=\"middle\" x=\"1300.68\" y=\"-75.6\" font-family=\"Times,serif\" font-size=\"14.00\">49:101</text>\n</g>\n<!-- 15&#45;&gt;16 -->\n<g id=\"edge19\" class=\"edge\">\n<title>15&#45;&gt;16</title>\n<path fill=\"none\" stroke=\"black\" d=\"M1264.07,-25.96C1281.47,-30.63 1307.39,-37.6 1327.35,-42.97\"/>\n<polygon fill=\"black\" stroke=\"black\" points=\"1326.61,-46.39 1337.17,-45.61 1328.42,-39.63 1326.61,-46.39\"/>\n<text text-anchor=\"middle\" x=\"1300.68\" y=\"-45.6\" font-family=\"Times,serif\" font-size=\"14.00\">49:101</text>\n</g>\n<!-- 17 -->\n<g id=\"node18\" class=\"node\">\n<title>17</title>\n<ellipse fill=\"none\" stroke=\"black\" cx=\"1572.67\" cy=\"-50.8\" rx=\"20.63\" ry=\"20.63\"/>\n<ellipse fill=\"none\" stroke=\"black\" cx=\"1572.67\" cy=\"-50.8\" rx=\"24.6\" ry=\"24.6\"/>\n<text text-anchor=\"middle\" x=\"1572.67\" y=\"-47.1\" font-family=\"Times,serif\" font-size=\"14.00\">17</text>\n</g>\n<!-- 16&#45;&gt;17 -->\n<g id=\"edge20\" class=\"edge\">\n<title>16&#45;&gt;17</title>\n<path fill=\"none\" stroke=\"black\" d=\"M1377.46,-56.63C1382.54,-57.94 1388.08,-59.14 1393.28,-59.8 1414.51,-62.5 1468.15,-65.71 1532.87,-58.8 1534.61,-58.61 1536.39,-58.38 1538.18,-58.12\"/>\n<polygon fill=\"black\" stroke=\"black\" points=\"1539.14,-61.51 1548.4,-56.36 1537.95,-54.61 1539.14,-61.51\"/>\n<text text-anchor=\"middle\" x=\"1463.08\" y=\"-67.6\" font-family=\"Times,serif\" font-size=\"14.00\">0:110</text>\n</g>\n<!-- 18 -->\n<g id=\"node19\" class=\"node\">\n<title>18</title>\n<ellipse fill=\"none\" stroke=\"black\" cx=\"1463.08\" cy=\"-21.8\" rx=\"20.6\" ry=\"20.6\"/>\n<text text-anchor=\"middle\" x=\"1463.08\" y=\"-18.1\" font-family=\"Times,serif\" font-size=\"14.00\">18</text>\n</g>\n<!-- 16&#45;&gt;18 -->\n<g id=\"edge21\" class=\"edge\">\n<title>16&#45;&gt;18</title>\n<path fill=\"none\" stroke=\"black\" d=\"M1377.97,-45.34C1393.45,-41.01 1415.34,-34.88 1432.91,-29.96\"/>\n<polygon fill=\"black\" stroke=\"black\" points=\"1433.99,-33.29 1442.68,-27.23 1432.1,-26.55 1433.99,-33.29\"/>\n<text text-anchor=\"middle\" x=\"1410.28\" y=\"-44.6\" font-family=\"Times,serif\" font-size=\"14.00\">0:116</text>\n</g>\n<!-- 18&#45;&gt;17 -->\n<g id=\"edge22\" class=\"edge\">\n<title>18&#45;&gt;17</title>\n<path fill=\"none\" stroke=\"black\" d=\"M1483.31,-26.98C1498.64,-31.11 1520.47,-37 1538.59,-41.88\"/>\n<polygon fill=\"black\" stroke=\"black\" points=\"1537.92,-45.33 1548.48,-44.55 1539.74,-38.57 1537.92,-45.33\"/>\n<text text-anchor=\"middle\" x=\"1515.87\" y=\"-43.6\" font-family=\"Times,serif\" font-size=\"14.00\">0:116</text>\n</g>\n</g>\n</svg>\n"
          },
          "metadata": {},
          "execution_count": 39
        }
      ]
    },
    {
      "cell_type": "code",
      "source": [
        "def run_norm(text, graph=graph_hundreds_component_at_least_one_non_zero_digit_no_one, invert=False):\n",
        "    if invert:\n",
        "        cur_graph = pynini.invert(graph).optimize()\n",
        "    else:\n",
        "        cur_graph = graph.optimize()\n",
        "    return (text @ cur_graph).optimize().string()"
      ],
      "metadata": {
        "id": "8jA9uPSMI2C3"
      },
      "execution_count": 35,
      "outputs": []
    },
    {
      "cell_type": "code",
      "source": [
        "run_norm(\"101\", invert=False)"
      ],
      "metadata": {
        "colab": {
          "base_uri": "https://localhost:8080/",
          "height": 329
        },
        "id": "K_IJUNIn60nt",
        "outputId": "4d39fce2-5cb2-4f5f-c3e5-7c35fc972678"
      },
      "execution_count": 36,
      "outputs": [
        {
          "output_type": "error",
          "ename": "FstOpError",
          "evalue": "ignored",
          "traceback": [
            "\u001b[0;31m---------------------------------------------------------------------------\u001b[0m",
            "\u001b[0;31mFstOpError\u001b[0m                                Traceback (most recent call last)",
            "\u001b[0;32m<ipython-input-36-0b01884d7e0b>\u001b[0m in \u001b[0;36m<module>\u001b[0;34m()\u001b[0m\n\u001b[0;32m----> 1\u001b[0;31m \u001b[0mrun_norm\u001b[0m\u001b[0;34m(\u001b[0m\u001b[0;34m\"101\"\u001b[0m\u001b[0;34m,\u001b[0m \u001b[0minvert\u001b[0m\u001b[0;34m=\u001b[0m\u001b[0;32mFalse\u001b[0m\u001b[0;34m)\u001b[0m\u001b[0;34m\u001b[0m\u001b[0;34m\u001b[0m\u001b[0m\n\u001b[0m",
            "\u001b[0;32m<ipython-input-35-db29a2f32876>\u001b[0m in \u001b[0;36mrun_norm\u001b[0;34m(text, graph, invert)\u001b[0m\n\u001b[1;32m      4\u001b[0m     \u001b[0;32melse\u001b[0m\u001b[0;34m:\u001b[0m\u001b[0;34m\u001b[0m\u001b[0;34m\u001b[0m\u001b[0m\n\u001b[1;32m      5\u001b[0m         \u001b[0mcur_graph\u001b[0m \u001b[0;34m=\u001b[0m \u001b[0mgraph\u001b[0m\u001b[0;34m.\u001b[0m\u001b[0moptimize\u001b[0m\u001b[0;34m(\u001b[0m\u001b[0;34m)\u001b[0m\u001b[0;34m\u001b[0m\u001b[0;34m\u001b[0m\u001b[0m\n\u001b[0;32m----> 6\u001b[0;31m     \u001b[0;32mreturn\u001b[0m \u001b[0;34m(\u001b[0m\u001b[0mtext\u001b[0m \u001b[0;34m@\u001b[0m \u001b[0mcur_graph\u001b[0m\u001b[0;34m)\u001b[0m\u001b[0;34m.\u001b[0m\u001b[0moptimize\u001b[0m\u001b[0;34m(\u001b[0m\u001b[0;34m)\u001b[0m\u001b[0;34m.\u001b[0m\u001b[0mstring\u001b[0m\u001b[0;34m(\u001b[0m\u001b[0;34m)\u001b[0m\u001b[0;34m\u001b[0m\u001b[0;34m\u001b[0m\u001b[0m\n\u001b[0m",
            "\u001b[0;32mextensions/_pynini.pyx\u001b[0m in \u001b[0;36m_pynini.Fst.string\u001b[0;34m()\u001b[0m\n",
            "\u001b[0;32mextensions/_pynini.pyx\u001b[0m in \u001b[0;36m_pynini.Fst.string\u001b[0;34m()\u001b[0m\n",
            "\u001b[0;31mFstOpError\u001b[0m: Operation failed"
          ]
        }
      ]
    },
    {
      "cell_type": "code",
      "source": [
        "(\"9\" @ hundreds).string()"
      ],
      "metadata": {
        "colab": {
          "base_uri": "https://localhost:8080/",
          "height": 35
        },
        "id": "_GfWVsYH61pR",
        "outputId": "6dfbe0fb-2c19-4b22-97a4-f98dbc9eb311"
      },
      "execution_count": 86,
      "outputs": [
        {
          "output_type": "execute_result",
          "data": {
            "text/plain": [
              "'niohundra'"
            ],
            "application/vnd.google.colaboratory.intrinsic+json": {
              "type": "string"
            }
          },
          "metadata": {},
          "execution_count": 86
        }
      ]
    },
    {
      "cell_type": "code",
      "source": [
        "graph_hundreds = hundreds + pynini.union(\n",
        "    pynutil.delete(\"00\"), graph_tens, (pynutil.delete(\"0\") + graph_digit)\n",
        ")\n"
      ],
      "metadata": {
        "id": "isoa17TN8DFC"
      },
      "execution_count": 91,
      "outputs": []
    },
    {
      "cell_type": "code",
      "source": [
        "_VOWEL_LOWER = pynini.union(\"a\", \"e\", \"i\", \"o\", \"u\", \"á\", \"é\", \"í\", \"ó\", \"ú\")\n",
        "_VOWEL_UPPER = pynini.union(\"A\", \"E\", \"I\", \"O\", \"U\", \"Á\", \"É\", \"Í\", \"Ó\", \"Ú\")\n"
      ],
      "metadata": {
        "id": "pttFi5i68FKX"
      },
      "execution_count": 40,
      "outputs": []
    },
    {
      "cell_type": "code",
      "source": [
        "UPPER_ECLIPSIS_LETTERS = pynini.union(\n",
        "    pynini.cross(\"B\", \"mB\"),\n",
        "    pynini.cross(\"C\", \"gC\"),\n",
        "    pynini.cross(\"D\", \"nD\"),\n",
        "    pynini.cross(\"F\", \"bhF\"),\n",
        "    pynini.cross(\"G\", \"nG\"),\n",
        "    pynini.cross(\"P\", \"bP\"),\n",
        "    pynini.cross(\"T\", \"dT\"),\n",
        "    pynini.cross(\"A\", \"nA\"),\n",
        "    pynini.cross(\"E\", \"nE\"),\n",
        "    pynini.cross(\"I\", \"nI\"),\n",
        "    pynini.cross(\"O\", \"nO\"),\n",
        "    pynini.cross(\"U\", \"nU\"),\n",
        "    pynini.cross(\"Á\", \"nÁ\"),\n",
        "    pynini.cross(\"É\", \"nÉ\"),\n",
        "    pynini.cross(\"Í\", \"nÍ\"),\n",
        "    pynini.cross(\"Ó\", \"nÓ\"),\n",
        "    pynini.cross(\"Ú\", \"nÚ\"),\n",
        ")\n",
        "UPPER_ECLIPSIS = pynini.cdrewrite(UPPER_ECLIPSIS_LETTERS, \"[BOS]\", \"\", NEMO_SIGMA)"
      ],
      "metadata": {
        "id": "tG5K2GjnsOVh"
      },
      "execution_count": 60,
      "outputs": []
    },
    {
      "cell_type": "code",
      "source": [
        "CHAR_NO_H = NEMO_CHAR - pynini.union(\"h\", \"H\")\n",
        "TITLE_LENITION_LETTERS = pynini.union(\n",
        "    pynini.cross(\"B\", \"Bh\"),\n",
        "    pynini.cross(\"C\", \"Ch\"),\n",
        "    pynini.cross(\"D\", \"Dh\"),\n",
        "    pynini.cross(\"F\", \"Fh\"),\n",
        "    pynini.cross(\"G\", \"Gh\"),\n",
        "    pynini.cross(\"M\", \"Mh\"),\n",
        "    pynini.cross(\"P\", \"Ph\"),\n",
        "    pynini.cross(\"S\", \"Sh\"),\n",
        "    pynini.cross(\"T\", \"Th\")\n",
        ")\n",
        "TITLE_LENITION = pynini.cdrewrite(TITLE_LENITION_LETTERS, \"[BOS]\", CHAR_NO_H, NEMO_SIGMA)"
      ],
      "metadata": {
        "id": "HG36KMr6tQVM"
      },
      "execution_count": 66,
      "outputs": []
    },
    {
      "cell_type": "code",
      "source": [
        "(\"d'osc\" @ TITLE_LENITION).string()"
      ],
      "metadata": {
        "colab": {
          "base_uri": "https://localhost:8080/",
          "height": 35
        },
        "id": "MDW6CvABtY9h",
        "outputId": "05a51625-60f9-4778-8d30-055475147dcf"
      },
      "execution_count": 73,
      "outputs": [
        {
          "output_type": "execute_result",
          "data": {
            "text/plain": [
              "\"d'osc\""
            ],
            "application/vnd.google.colaboratory.intrinsic+json": {
              "type": "string"
            }
          },
          "metadata": {},
          "execution_count": 73
        }
      ]
    },
    {
      "cell_type": "code",
      "source": [
        "SIGMA_NO_H = NEMO_SIGMA - pynini.union(\"h\", \"H\")"
      ],
      "metadata": {
        "id": "zRe3jiESuVDJ"
      },
      "execution_count": 45,
      "outputs": []
    },
    {
      "cell_type": "code",
      "source": [
        "UPPER_VOWELS = pynini.union(\"A\", \"E\", \"I\", \"O\", \"U\", \"Á\", \"É\", \"Í\", \"Ó\", \"Ú\").optimize()\n",
        "LOWER_VOWELS = pynini.union(\"a\", \"e\", \"i\", \"o\", \"u\", \"á\", \"é\", \"í\", \"ó\", \"ú\").optimize()\n",
        "UPPER_PONC = pynini.union(\"Ḃ\", \"Ċ\", \"Ḋ\", \"Ḟ\", \"Ġ\", \"Ṁ\", \"Ṗ\", \"Ṡ\", \"Ṫ\").optimize()\n",
        "LOWER_PONC = pynini.union(\"ḃ\", \"ċ\", \"ḋ\", \"ḟ\", \"ġ\", \"ṁ\", \"ṗ\", \"ṡ\", \"ṫ\").optimize()\n",
        "BASE_UPPER = pynini.union(NEMO_UPPER, UPPER_VOWELS).optimize()\n",
        "BASE_LOWER = pynini.union(NEMO_LOWER, LOWER_VOWELS).optimize()\n"
      ],
      "metadata": {
        "id": "2534U5ZQudU2"
      },
      "execution_count": 74,
      "outputs": []
    },
    {
      "cell_type": "code",
      "source": [
        "UPPER_CONS = (BASE_UPPER - UPPER_VOWELS)"
      ],
      "metadata": {
        "id": "rayYDLNkPImV"
      },
      "execution_count": 75,
      "outputs": []
    },
    {
      "cell_type": "code",
      "source": [
        "(u\"E\" @ UPPER_VOWELS)"
      ],
      "metadata": {
        "colab": {
          "base_uri": "https://localhost:8080/",
          "height": 90
        },
        "id": "NXzAijS5PPv5",
        "outputId": "1ac3caff-60cc-4062-ea08-9f20f03f2157"
      },
      "execution_count": 85,
      "outputs": [
        {
          "output_type": "execute_result",
          "data": {
            "text/plain": [
              "<vector Fst at 0x7f92a8c86430>"
            ],
            "image/svg+xml": "<?xml version=\"1.0\" encoding=\"UTF-8\" standalone=\"no\"?>\n<!DOCTYPE svg PUBLIC \"-//W3C//DTD SVG 1.1//EN\"\n \"http://www.w3.org/Graphics/SVG/1.1/DTD/svg11.dtd\">\n<!-- Generated by graphviz version 2.42.3 (20191010.1750)\n -->\n<!-- Title: FST Pages: 1 -->\n<svg width=\"134pt\" height=\"52pt\"\n viewBox=\"0.00 0.00 134.00 52.00\" xmlns=\"http://www.w3.org/2000/svg\" xmlns:xlink=\"http://www.w3.org/1999/xlink\">\n<g id=\"graph0\" class=\"graph\" transform=\"scale(1 1) rotate(0) translate(4 48)\">\n<title>FST</title>\n<polygon fill=\"white\" stroke=\"transparent\" points=\"-4,4 -4,-48 130,-48 130,4 -4,4\"/>\n<!-- 0 -->\n<g id=\"node1\" class=\"node\">\n<title>0</title>\n<ellipse fill=\"none\" stroke=\"black\" stroke-width=\"2\" cx=\"18\" cy=\"-22\" rx=\"18\" ry=\"18\"/>\n<text text-anchor=\"middle\" x=\"18\" y=\"-18.3\" font-family=\"Times,serif\" font-size=\"14.00\">0</text>\n</g>\n<!-- 1 -->\n<g id=\"node2\" class=\"node\">\n<title>1</title>\n<ellipse fill=\"none\" stroke=\"black\" cx=\"104\" cy=\"-22\" rx=\"18\" ry=\"18\"/>\n<ellipse fill=\"none\" stroke=\"black\" cx=\"104\" cy=\"-22\" rx=\"22\" ry=\"22\"/>\n<text text-anchor=\"middle\" x=\"104\" y=\"-18.3\" font-family=\"Times,serif\" font-size=\"14.00\">1</text>\n</g>\n<!-- 0&#45;&gt;1 -->\n<g id=\"edge1\" class=\"edge\">\n<title>0&#45;&gt;1</title>\n<path fill=\"none\" stroke=\"black\" d=\"M36.4,-22C46.59,-22 59.75,-22 71.68,-22\"/>\n<polygon fill=\"black\" stroke=\"black\" points=\"71.74,-25.5 81.74,-22 71.74,-18.5 71.74,-25.5\"/>\n<text text-anchor=\"middle\" x=\"59\" y=\"-25.8\" font-family=\"Times,serif\" font-size=\"14.00\">69</text>\n</g>\n</g>\n</svg>\n"
          },
          "metadata": {},
          "execution_count": 85
        }
      ]
    },
    {
      "cell_type": "code",
      "source": [
        "TO_LOWER = pynini.union(*[pynini.cross(x, y) for x, y in zip(string.ascii_uppercase, string.ascii_lowercase)])"
      ],
      "metadata": {
        "id": "KOCa9f_EYkPa"
      },
      "execution_count": 86,
      "outputs": []
    },
    {
      "cell_type": "code",
      "source": [
        "_FADA_LOWER = pynini.union(*[pynini.cross(x, y) for x, y in zip(\n",
        "    [\"Á\", \"É\", \"Í\", \"Ó\", \"Ú\"], [\"á\", \"é\", \"í\", \"ó\", \"ú\"])]\n",
        ")\n",
        "_PONC_LOWER = pynini.union(*[pynini.cross(x, y) for x, y in zip(\n",
        "    [\"Ḃ\", \"Ċ\", \"Ḋ\", \"Ḟ\", \"Ġ\", \"Ṁ\", \"Ṗ\", \"Ṡ\", \"Ṫ\"], [\"ḃ\", \"ċ\", \"ḋ\", \"ḟ\", \"ġ\", \"ṁ\", \"ṗ\", \"ṡ\", \"ṫ\"])]\n",
        ")\n",
        "\n",
        "GA_LOWER = pynini.union(TO_LOWER, _FADA_LOWER, _PONC_LOWER)\n"
      ],
      "metadata": {
        "id": "FOd7hT0qYlHm"
      },
      "execution_count": 87,
      "outputs": []
    },
    {
      "cell_type": "code",
      "source": [
        "_LOWERCASE_STARTS = pynini.union(\n",
        "    pynini.cross(\"nA\", \"n-a\"),\n",
        "    pynini.cross(\"nE\", \"n-e\"),\n",
        "    pynini.cross(\"nI\", \"n-i\"),\n",
        "    pynini.cross(\"nO\", \"n-o\"),\n",
        "    pynini.cross(\"nU\", \"n-u\"),\n",
        "    pynini.cross(\"nÁ\", \"n-á\"),\n",
        "    pynini.cross(\"nÉ\", \"n-é\"),\n",
        "    pynini.cross(\"nÍ\", \"n-í\"),\n",
        "    pynini.cross(\"nÓ\", \"n-ó\"),\n",
        "    pynini.cross(\"nÚ\", \"n-ú\"),\n",
        "    pynini.cross(\"tA\", \"t-a\"),\n",
        "    pynini.cross(\"tE\", \"t-e\"),\n",
        "    pynini.cross(\"tI\", \"t-i\"),\n",
        "    pynini.cross(\"tO\", \"t-o\"),\n",
        "    pynini.cross(\"tU\", \"t-u\"),\n",
        "    pynini.cross(\"tÁ\", \"t-á\"),\n",
        "    pynini.cross(\"tÉ\", \"t-é\"),\n",
        "    pynini.cross(\"tÍ\", \"t-í\"),\n",
        "    pynini.cross(\"tÓ\", \"t-ó\"),\n",
        "    pynini.cross(\"tÚ\", \"t-ú\")\n",
        ")\n",
        "_DO_LOWER_STARTS = pynini.cdrewrite(_LOWERCASE_STARTS, \"[BOS]\", \"\", NEMO_SIGMA)\n",
        "TOLOWER = (_DO_LOWER_STARTS @ pynini.closure(GA_LOWER | BASE_LOWER | \"'\" | \"-\")).optimize()\n"
      ],
      "metadata": {
        "id": "KtFELSFyYq1O"
      },
      "execution_count": 117,
      "outputs": []
    },
    {
      "cell_type": "code",
      "source": [
        "(\"tASAL\" @ TOLOWER).string()"
      ],
      "metadata": {
        "colab": {
          "base_uri": "https://localhost:8080/",
          "height": 35
        },
        "id": "k3CpTL1CYx18",
        "outputId": "aa846d39-f773-4b0d-946f-51c8ab3bef57"
      },
      "execution_count": 119,
      "outputs": [
        {
          "output_type": "execute_result",
          "data": {
            "text/plain": [
              "'t-asal'"
            ],
            "application/vnd.google.colaboratory.intrinsic+json": {
              "type": "string"
            }
          },
          "metadata": {},
          "execution_count": 119
        }
      ]
    },
    {
      "cell_type": "code",
      "source": [
        ""
      ],
      "metadata": {
        "id": "BAi9PX-uaU0V"
      },
      "execution_count": null,
      "outputs": []
    }
  ]
}