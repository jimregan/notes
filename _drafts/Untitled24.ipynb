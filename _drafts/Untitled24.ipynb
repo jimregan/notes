{
  "nbformat": 4,
  "nbformat_minor": 0,
  "metadata": {
    "colab": {
      "name": "Untitled24.ipynb",
      "provenance": [],
      "collapsed_sections": []
    },
    "kernelspec": {
      "name": "python3",
      "display_name": "Python 3"
    },
    "language_info": {
      "name": "python"
    }
  },
  "cells": [
    {
      "cell_type": "code",
      "execution_count": 1,
      "metadata": {
        "colab": {
          "base_uri": "https://localhost:8080/"
        },
        "id": "zNLGx-pIvdsp",
        "outputId": "0a4c5a16-a208-4d88-a2e1-ddf0e847fc48"
      },
      "outputs": [
        {
          "output_type": "stream",
          "name": "stdout",
          "text": [
            "⏬ Downloading https://github.com/jaimergp/miniforge/releases/latest/download/Mambaforge-colab-Linux-x86_64.sh...\n",
            "📦 Installing...\n",
            "📌 Adjusting configuration...\n",
            "🩹 Patching environment...\n",
            "⏲ Done in 0:00:30\n",
            "🔁 Restarting kernel...\n"
          ]
        }
      ],
      "source": [
        "if 'google.colab' in str(get_ipython()):\n",
        "  !pip install -q condacolab\n",
        "  import condacolab\n",
        "  condacolab.install()"
      ]
    },
    {
      "cell_type": "code",
      "source": [
        "%%capture\n",
        "if 'google.colab' in str(get_ipython()):\n",
        "  ! conda install -c conda-forge pynini=2.1.3"
      ],
      "metadata": {
        "id": "-pIZKquvxa82"
      },
      "execution_count": 1,
      "outputs": []
    },
    {
      "cell_type": "code",
      "source": [
        "import string\n",
        "import pynini\n",
        "from pynini import Far\n",
        "from pynini.export import export\n",
        "from pynini.examples import plurals\n",
        "from pynini.lib import byte, pynutil, utf8\n",
        "NEMO_CHAR = utf8.VALID_UTF8_CHAR\n",
        "NEMO_DIGIT = byte.DIGIT\n",
        "NEMO_LOWER = pynini.union(*string.ascii_lowercase).optimize()\n",
        "NEMO_UPPER = pynini.union(*string.ascii_uppercase).optimize()\n",
        "NEMO_ALPHA = pynini.union(NEMO_LOWER, NEMO_UPPER).optimize()\n",
        "NEMO_ALNUM = pynini.union(NEMO_DIGIT, NEMO_ALPHA).optimize()\n",
        "NEMO_SIGMA = pynini.closure(NEMO_CHAR)\n",
        "NEMO_SPACE = \" \"\n",
        "NEMO_WHITE_SPACE = pynini.union(\" \", \"\\t\", \"\\n\", \"\\r\", u\"\\u00A0\").optimize()\n",
        "delete_space = pynutil.delete(pynini.closure(NEMO_WHITE_SPACE))\n",
        "insert_space = pynutil.insert(\" \")\n"
      ],
      "metadata": {
        "id": "tj5J8seI0I_F"
      },
      "execution_count": 2,
      "outputs": []
    },
    {
      "cell_type": "code",
      "source": [
        "from pathlib import Path\n",
        "import os"
      ],
      "metadata": {
        "id": "i8Wc9yCL03Wk"
      },
      "execution_count": 3,
      "outputs": []
    },
    {
      "cell_type": "code",
      "source": [
        "class GraphFst:\n",
        "    \"\"\"\n",
        "    Base class for all grammar fsts.\n",
        "\n",
        "    Args:\n",
        "        name: name of grammar class\n",
        "        kind: either 'classify' or 'verbalize'\n",
        "        deterministic: if True will provide a single transduction option,\n",
        "            for False multiple transduction are generated (used for audio-based normalization)\n",
        "    \"\"\"\n",
        "\n",
        "    def __init__(self, name: str, kind: str, deterministic: bool = True):\n",
        "        self.name = name\n",
        "        self.kind = str\n",
        "        self._fst = None\n",
        "        self.deterministic = deterministic\n",
        "\n",
        "        self.far_path = Path(os.path.dirname(__file__) + '/grammars/' + kind + '/' + name + '.far')\n",
        "        if self.far_exist():\n",
        "            self._fst = Far(self.far_path, mode=\"r\", arc_type=\"standard\", far_type=\"default\").get_fst()\n",
        "\n",
        "    def far_exist(self) -> bool:\n",
        "        \"\"\"\n",
        "        Returns true if FAR can be loaded\n",
        "        \"\"\"\n",
        "        return self.far_path.exists()\n",
        "\n",
        "    @property\n",
        "    def fst(self) -> 'pynini.FstLike':\n",
        "        return self._fst\n",
        "\n",
        "    @fst.setter\n",
        "    def fst(self, fst):\n",
        "        self._fst = fst\n",
        "\n",
        "    def add_tokens(self, fst) -> 'pynini.FstLike':\n",
        "        \"\"\"\n",
        "        Wraps class name around to given fst\n",
        "\n",
        "        Args:\n",
        "            fst: input fst\n",
        "\n",
        "        Returns:\n",
        "            Fst: fst\n",
        "        \"\"\"\n",
        "        return pynutil.insert(f\"{self.name} {{ \") + fst + pynutil.insert(\" }\")\n",
        "\n",
        "    def delete_tokens(self, fst) -> 'pynini.FstLike':\n",
        "        \"\"\"\n",
        "        Deletes class name wrap around output of given fst\n",
        "\n",
        "        Args:\n",
        "            fst: input fst\n",
        "\n",
        "        Returns:\n",
        "            Fst: fst\n",
        "        \"\"\"\n",
        "        res = (\n",
        "            pynutil.delete(f\"{self.name}\")\n",
        "            + delete_space\n",
        "            + pynutil.delete(\"{\")\n",
        "            + delete_space\n",
        "            + fst\n",
        "            + delete_space\n",
        "            + pynutil.delete(\"}\")\n",
        "        )\n",
        "        return res @ pynini.cdrewrite(pynini.cross(u\"\\u00A0\", \" \"), \"\", \"\", NEMO_SIGMA)\n"
      ],
      "metadata": {
        "id": "9O0GHus00yET"
      },
      "execution_count": 4,
      "outputs": []
    },
    {
      "cell_type": "code",
      "source": [
        "!mkdir -p data/numbers/"
      ],
      "metadata": {
        "id": "fwbLtAAL1UQD"
      },
      "execution_count": 5,
      "outputs": []
    },
    {
      "cell_type": "code",
      "source": [
        "%%writefile data/numbers/zero.tsv\n",
        "noll\t0"
      ],
      "metadata": {
        "colab": {
          "base_uri": "https://localhost:8080/"
        },
        "id": "kYIrdNAA1G3g",
        "outputId": "5875accb-8cae-4f99-c903-956d7835b130"
      },
      "execution_count": 6,
      "outputs": [
        {
          "output_type": "stream",
          "name": "stdout",
          "text": [
            "Writing data/numbers/zero.tsv\n"
          ]
        }
      ]
    },
    {
      "cell_type": "code",
      "source": [
        "%%writefile data/numbers/ties.tsv\n",
        "tjugo\t2\n",
        "trettio\t3\n",
        "fyrtio\t4\n",
        "femtio\t5\n",
        "sextio\t6\n",
        "sjuttio\t7\n",
        "åttio\t8\n",
        "nittio\t9"
      ],
      "metadata": {
        "colab": {
          "base_uri": "https://localhost:8080/"
        },
        "id": "q6QQ_7rr1Wt2",
        "outputId": "fdb5b43a-ddaa-46d5-ac42-3aa9d3a646c1"
      },
      "execution_count": 7,
      "outputs": [
        {
          "output_type": "stream",
          "name": "stdout",
          "text": [
            "Writing data/numbers/ties.tsv\n"
          ]
        }
      ]
    },
    {
      "cell_type": "code",
      "source": [
        "%%writefile data/numbers/digit.tsv\n",
        "ett\t1\n",
        "två\t2\n",
        "tre\t3\n",
        "fyra\t4\n",
        "fem\t5\n",
        "sex\t6\n",
        "sju\t7\n",
        "åtta\t8\n",
        "nio\t9"
      ],
      "metadata": {
        "colab": {
          "base_uri": "https://localhost:8080/"
        },
        "id": "t_-lFc_91hGq",
        "outputId": "14ac965c-fb58-460c-f1b5-02b841b01108"
      },
      "execution_count": 8,
      "outputs": [
        {
          "output_type": "stream",
          "name": "stdout",
          "text": [
            "Writing data/numbers/digit.tsv\n"
          ]
        }
      ]
    },
    {
      "cell_type": "code",
      "source": [
        "%%writefile data/numbers/teen.tsv\n",
        "tio\t10\n",
        "elva\t11\n",
        "tolv\t12\n",
        "tretton\t13\n",
        "fjorton\t14\n",
        "femton\t15\n",
        "sexton\t16\n",
        "sjutton\t17\n",
        "arton\t18\n",
        "nitton\t19"
      ],
      "metadata": {
        "colab": {
          "base_uri": "https://localhost:8080/"
        },
        "id": "Fa-3xKXD1lmc",
        "outputId": "ccc42e7b-fcc6-4bbc-f819-0d0e0ca486b0"
      },
      "execution_count": 9,
      "outputs": [
        {
          "output_type": "stream",
          "name": "stdout",
          "text": [
            "Writing data/numbers/teen.tsv\n"
          ]
        }
      ]
    },
    {
      "cell_type": "code",
      "source": [
        "def get_abs_path(rel_path):\n",
        "    \"\"\"\n",
        "    Get absolute path\n",
        "\n",
        "    Args:\n",
        "        rel_path: relative path to this file\n",
        "        \n",
        "    Returns absolute path\n",
        "    \"\"\"\n",
        "    abs_path = \"/content\" + os.sep + rel_path\n",
        "\n",
        "    if not os.path.exists(abs_path):\n",
        "        print(f'{abs_path} does not exist')\n",
        "    return abs_path\n"
      ],
      "metadata": {
        "id": "WtpI3gnn1uhS"
      },
      "execution_count": 10,
      "outputs": []
    },
    {
      "cell_type": "code",
      "source": [
        "zero = pynini.invert(pynini.string_file(get_abs_path(\"data/numbers/zero.tsv\")))\n",
        "digit = pynini.invert(pynini.string_file(get_abs_path(\"data/numbers/digit.tsv\")))\n",
        "teen = pynini.invert(pynini.string_file(get_abs_path(\"data/numbers/teen.tsv\")))\n",
        "ties = pynini.invert(pynini.string_file(get_abs_path(\"data/numbers/ties.tsv\")))\n"
      ],
      "metadata": {
        "id": "D7I0Ap2r1AJB"
      },
      "execution_count": 11,
      "outputs": []
    },
    {
      "cell_type": "code",
      "source": [
        "def filter_punctuation(fst):\n",
        "    exactly_three_digits = NEMO_DIGIT ** 3  # for blocks of three\n",
        "    up_to_three_digits = pynini.closure(NEMO_DIGIT, 1, 3)  # for start of string\n",
        "\n",
        "    cardinal_separator = NEMO_SPACE\n",
        "    cardinal_string = pynini.closure(\n",
        "        NEMO_DIGIT, 1\n",
        "    )  # For string w/o punctuation (used for page numbers, thousand series)\n",
        "\n",
        "    cardinal_string |= (\n",
        "        up_to_three_digits\n",
        "        + pynutil.delete(cardinal_separator)\n",
        "        + pynini.closure(exactly_three_digits + pynutil.delete(cardinal_separator))\n",
        "        + exactly_three_digits\n",
        "    )\n",
        "\n",
        "    return cardinal_string @ fst\n"
      ],
      "metadata": {
        "id": "cyohNs3V19jx"
      },
      "execution_count": 12,
      "outputs": []
    },
    {
      "cell_type": "code",
      "source": [
        "deterministic = True"
      ],
      "metadata": {
        "id": "lxU0yyzn2Mdr"
      },
      "execution_count": 13,
      "outputs": []
    },
    {
      "cell_type": "code",
      "source": [
        "graph_digit = digit\n",
        "digits_no_one = (NEMO_DIGIT - \"1\") @ graph_digit\n",
        "both_ones = (pynini.cross(\"1\", \"en\") | pynini.cross(\"1\", \"ett\"))\n",
        "if deterministic:\n",
        "    final_digit = digit\n",
        "else:\n",
        "    final_digit = digits_no_one | both_ones\n"
      ],
      "metadata": {
        "id": "vFeg4Xy92Ryk"
      },
      "execution_count": 14,
      "outputs": []
    },
    {
      "cell_type": "code",
      "source": [
        "graph_tens = teen\n",
        "if deterministic:\n",
        "    graph_tens |= ties + (pynutil.delete('0') | graph_digit)\n",
        "    final_tens = graph_tens\n",
        "else:\n",
        "    graph_tens |= ties + (pynutil.delete('0') | (graph_digit | pynutil.insert(' ') + graph_digit))\n",
        "    final_tens = graph_tens\n",
        "    final_tens |= ties + (pynutil.delete('0') | (final_digit | pynutil.insert(' ') + final_digit))\n"
      ],
      "metadata": {
        "id": "0FX2Dp6R5B4L"
      },
      "execution_count": 15,
      "outputs": []
    },
    {
      "cell_type": "code",
      "source": [
        "graph_digit = digit\n",
        "digits_no_one = (NEMO_DIGIT - \"1\") @ graph_digit\n",
        "both_ones = (pynini.cross(\"1\", \"en\") | pynini.cross(\"1\", \"ett\"))\n",
        "if deterministic:\n",
        "    final_digit = digit\n",
        "else:\n",
        "    final_digit = digits_no_one | both_ones\n",
        "\n",
        "# Any double digit\n",
        "graph_tens = teen\n",
        "if deterministic:\n",
        "    graph_tens |= ties + (pynutil.delete('0') | graph_digit)\n",
        "    final_tens = graph_tens\n",
        "else:\n",
        "    graph_tens |= ties + (pynutil.delete('0') | (graph_digit | pynutil.insert(' ') + graph_digit))\n",
        "    final_tens |= ties + (pynutil.delete('0') | (final_digit | pynutil.insert(' ') + final_digit))\n",
        "\n",
        "hundreds = digits_no_one + pynutil.insert(\"hundra\")\n",
        "hundreds |= pynini.cross(\"1\", \"hundra\")\n",
        "if not deterministic:\n",
        "    hundreds |= pynini.cross(\"1\", \"etthundra\")\n",
        "    hundreds |= pynini.cross(\"1\", \"ett hundra\")\n",
        "    hundreds |= digit + pynutil.insert(NEMO_SPACE) + pynutil.insert(\"hundra\")\n",
        "\n",
        "self_tens = graph_tens.optimize()\n",
        "\n",
        "graph_two_digit_non_zero = pynini.union(\n",
        "    graph_digit, graph_tens, (pynutil.delete(\"0\") + graph_digit)\n",
        ")\n",
        "if not deterministic:\n",
        "    graph_two_digit_non_zero |= pynini.union(\n",
        "        graph_digit, graph_tens, (pynini.cross(\"0\", NEMO_SPACE) + graph_digit)\n",
        "    )\n",
        "\n",
        "self_two_digit_non_zero = graph_two_digit_non_zero.optimize()\n",
        "\n",
        "graph_final_two_digit_non_zero = pynini.union(\n",
        "    final_digit, graph_tens, (pynutil.delete(\"0\") + final_digit)\n",
        ")\n",
        "if not deterministic:\n",
        "    graph_final_two_digit_non_zero |= pynini.union(\n",
        "        final_digit, graph_tens, (pynini.cross(\"0\", NEMO_SPACE) + final_digit)\n",
        "    )\n",
        "\n",
        "self_final_two_digit_non_zero = graph_final_two_digit_non_zero.optimize()\n",
        "\n",
        "# Three digit strings\n",
        "graph_hundreds = hundreds + pynini.union(\n",
        "    pynutil.delete(\"00\"), graph_tens, (pynutil.delete(\"0\") + final_digit)\n",
        ")\n",
        "if not deterministic:\n",
        "    graph_hundreds |= hundreds + pynini.union(\n",
        "        pynutil.delete(\"00\"), (graph_tens | pynutil.insert(NEMO_SPACE) + graph_tens), (pynini.cross(\"0\", NEMO_SPACE) + final_digit)\n",
        "    )\n",
        "\n",
        "self_hundreds = graph_hundreds.optimize()\n",
        "\n",
        "graph_hundreds_component = pynini.union(graph_hundreds, pynutil.delete(\"0\") + graph_tens)\n",
        "\n",
        "graph_hundreds_component_at_least_one_non_zero_digit = graph_hundreds_component | (\n",
        "    pynutil.delete(\"00\") + graph_digit\n",
        ")\n",
        "graph_hundreds_component_at_least_one_non_zero_digit_no_one = graph_hundreds_component | (\n",
        "    pynutil.delete(\"00\") + digits_no_one\n",
        ")\n",
        "\n",
        "\n",
        "tusen = pynutil.insert(\"tusen\")\n",
        "if not deterministic:\n",
        "    tusen |= pynutil.insert(\" tusen\")\n",
        "    tusen |= pynutil.insert(\"ettusen\")\n",
        "    tusen |= pynutil.insert(\" ettusen\")\n",
        "    tusen |= pynutil.insert(\"ett tusen\")\n",
        "    tusen |= pynutil.insert(\" ett tusen\")\n",
        "\n",
        "graph_thousands_component_at_least_one_non_zero_digit = pynini.union(\n",
        "    pynutil.delete(\"000\") + graph_hundreds_component_at_least_one_non_zero_digit,\n",
        "    graph_hundreds_component_at_least_one_non_zero_digit_no_one\n",
        "    + tusen\n",
        "    + ((insert_space + graph_hundreds_component_at_least_one_non_zero_digit) | pynutil.delete(\"000\")),\n",
        "    pynini.cross(\"001\", \"tusen\")\n",
        "    + ((insert_space + graph_hundreds_component_at_least_one_non_zero_digit) | pynutil.delete(\"000\")),\n",
        ")\n",
        "\n",
        "graph_thousands_component_at_least_one_non_zero_digit_no_one = pynini.union(\n",
        "    pynutil.delete(\"000\") + graph_hundreds_component_at_least_one_non_zero_digit_no_one,\n",
        "    graph_hundreds_component_at_least_one_non_zero_digit_no_one\n",
        "    + tusen\n",
        "    + ((insert_space + graph_hundreds_component_at_least_one_non_zero_digit) | pynutil.delete(\"000\")),\n",
        "    pynini.cross(\"001\", \"tusen\")\n",
        "    + ((insert_space + graph_hundreds_component_at_least_one_non_zero_digit) | pynutil.delete(\"000\")),\n",
        ")\n",
        "\n",
        "graph_million = pynutil.add_weight(pynini.cross(\"001\", \"miljon\"), -0.001)\n",
        "if not deterministic:\n",
        "    graph_million |= pynutil.add_weight(pynini.cross(\"001\", \"million\"), -0.001)\n",
        "    graph_million |= pynutil.add_weight(pynini.cross(\"001\", \"en miljon\"), -0.001)\n",
        "    graph_million |= pynutil.add_weight(pynini.cross(\"001\", \"ett miljon\"), -0.001)\n",
        "    graph_million |= pynutil.add_weight(pynini.cross(\"001\", \"en million\"), -0.001)\n",
        "    graph_million |= pynutil.add_weight(pynini.cross(\"001\", \"ett million\"), -0.001)\n",
        "graph_million |= graph_hundreds_component_at_least_one_non_zero_digit_no_one + pynutil.insert(\" miljoner\")\n",
        "if not deterministic:\n",
        "    graph_million |= graph_hundreds_component_at_least_one_non_zero_digit_no_one + pynutil.insert(\" millioner\")\n",
        "graph_million |= pynutil.delete(\"000\")\n",
        "graph_million += insert_space\n",
        "\n",
        "graph_milliard = pynutil.add_weight(pynini.cross(\"001\", \"miljard\"), -0.001)\n",
        "if not deterministic:\n",
        "    graph_milliard |= pynutil.add_weight(pynini.cross(\"001\", \"milliard\"), -0.001)\n",
        "    graph_milliard |= pynutil.add_weight(pynini.cross(\"001\", \"en miljard\"), -0.001)\n",
        "    graph_milliard |= pynutil.add_weight(pynini.cross(\"001\", \"ett miljard\"), -0.001)\n",
        "    graph_milliard |= pynutil.add_weight(pynini.cross(\"001\", \"en milliard\"), -0.001)\n",
        "    graph_milliard |= pynutil.add_weight(pynini.cross(\"001\", \"ett milliard\"), -0.001)\n",
        "graph_milliard |= graph_hundreds_component_at_least_one_non_zero_digit_no_one + pynutil.insert(\" miljarder\")\n",
        "if not deterministic:\n",
        "    graph_milliard |= graph_hundreds_component_at_least_one_non_zero_digit_no_one + pynutil.insert(\" milliarder\")\n",
        "graph_milliard |= pynutil.delete(\"000\")\n",
        "graph_milliard += insert_space\n",
        "\n",
        "graph_billion = pynutil.add_weight(pynini.cross(\"001\", \"biljon\"), -0.001)\n",
        "if not deterministic:\n",
        "    graph_billion |= pynutil.add_weight(pynini.cross(\"001\", \"billion\"), -0.001)\n",
        "    graph_billion |= pynutil.add_weight(pynini.cross(\"001\", \"en biljon\"), -0.001)\n",
        "    graph_billion |= pynutil.add_weight(pynini.cross(\"001\", \"ett biljon\"), -0.001)\n",
        "    graph_billion |= pynutil.add_weight(pynini.cross(\"001\", \"en billion\"), -0.001)\n",
        "    graph_billion |= pynutil.add_weight(pynini.cross(\"001\", \"ett billion\"), -0.001)\n",
        "graph_billion |= graph_hundreds_component_at_least_one_non_zero_digit_no_one + pynutil.insert(\" biljoner\")\n",
        "if not deterministic:\n",
        "    graph_billion |= graph_hundreds_component_at_least_one_non_zero_digit_no_one + pynutil.insert(\" billioner\")\n",
        "graph_billion |= pynutil.delete(\"000\")\n",
        "graph_billion += insert_space\n",
        "\n",
        "graph_billiard = pynutil.add_weight(pynini.cross(\"001\", \"biljard\"), -0.001)\n",
        "if not deterministic:\n",
        "    graph_billiard |= pynutil.add_weight(pynini.cross(\"001\", \"billiard\"), -0.001)\n",
        "    graph_billiard |= pynutil.add_weight(pynini.cross(\"001\", \"en biljard\"), -0.001)\n",
        "    graph_billiard |= pynutil.add_weight(pynini.cross(\"001\", \"ett biljard\"), -0.001)\n",
        "    graph_billiard |= pynutil.add_weight(pynini.cross(\"001\", \"en billiard\"), -0.001)\n",
        "    graph_billiard |= pynutil.add_weight(pynini.cross(\"001\", \"ett billiard\"), -0.001)\n",
        "graph_billiard |= graph_hundreds_component_at_least_one_non_zero_digit_no_one + pynutil.insert(\" biljarder\")\n",
        "if not deterministic:\n",
        "    graph_billiard |= graph_hundreds_component_at_least_one_non_zero_digit_no_one + pynutil.insert(\" billiarder\")\n",
        "graph_billiard |= pynutil.delete(\"000\")\n",
        "graph_billiard += insert_space\n",
        "\n",
        "graph_trillion = pynutil.add_weight(pynini.cross(\"001\", \"triljon\"), -0.001)\n",
        "if not deterministic:\n",
        "    graph_trillion |= pynutil.add_weight(pynini.cross(\"001\", \"trillion\"), -0.001)\n",
        "    graph_trillion |= pynutil.add_weight(pynini.cross(\"001\", \"en triljon\"), -0.001)\n",
        "    graph_trillion |= pynutil.add_weight(pynini.cross(\"001\", \"ett triljon\"), -0.001)\n",
        "    graph_trillion |= pynutil.add_weight(pynini.cross(\"001\", \"en trillion\"), -0.001)\n",
        "    graph_trillion |= pynutil.add_weight(pynini.cross(\"001\", \"ett trillion\"), -0.001)\n",
        "graph_trillion |= graph_hundreds_component_at_least_one_non_zero_digit_no_one + pynutil.insert(\" triljoner\")\n",
        "if not deterministic:\n",
        "    graph_trillion |= graph_hundreds_component_at_least_one_non_zero_digit_no_one + pynutil.insert(\" trillioner\")\n",
        "graph_trillion |= pynutil.delete(\"000\")\n",
        "graph_trillion += insert_space\n",
        "\n",
        "graph_trilliard = pynutil.add_weight(pynini.cross(\"001\", \"triljard\"), -0.001)\n",
        "if not deterministic:\n",
        "    graph_trilliard |= pynutil.add_weight(pynini.cross(\"001\", \"trilliard\"), -0.001)\n",
        "    graph_trilliard |= pynutil.add_weight(pynini.cross(\"001\", \"en triljard\"), -0.001)\n",
        "    graph_trilliard |= pynutil.add_weight(pynini.cross(\"001\", \"ett triljard\"), -0.001)\n",
        "    graph_trilliard |= pynutil.add_weight(pynini.cross(\"001\", \"en trilliard\"), -0.001)\n",
        "    graph_trilliard |= pynutil.add_weight(pynini.cross(\"001\", \"ett trilliard\"), -0.001)\n",
        "graph_trilliard |= graph_hundreds_component_at_least_one_non_zero_digit_no_one + pynutil.insert(\" triljarder\")\n",
        "if not deterministic:\n",
        "    graph_trilliard |= graph_hundreds_component_at_least_one_non_zero_digit_no_one + pynutil.insert(\" trilliarder\")\n",
        "graph_trilliard |= pynutil.delete(\"000\")\n",
        "graph_trilliard += insert_space\n",
        "\n",
        "graph = (\n",
        "    graph_trilliard\n",
        "    + graph_trillion\n",
        "    + graph_billiard\n",
        "    + graph_billion\n",
        "    + graph_milliard\n",
        "    + graph_million\n",
        "    + (graph_thousands_component_at_least_one_non_zero_digit | pynutil.delete(\"000000\"))\n",
        ")\n",
        "\n",
        "self_graph = (\n",
        "    ((NEMO_DIGIT - \"0\") + pynini.closure(NEMO_DIGIT, 0))\n",
        "    @ pynini.cdrewrite(pynini.closure(pynutil.insert(\"0\")), \"[BOS]\", \"\", NEMO_SIGMA)\n",
        "    @ NEMO_DIGIT ** 24\n",
        "    @ graph\n",
        "    @ pynini.cdrewrite(delete_space, \"[BOS]\", \"\", NEMO_SIGMA)\n",
        "    @ pynini.cdrewrite(delete_space, \"\", \"[EOS]\", NEMO_SIGMA)\n",
        "    @ pynini.cdrewrite(\n",
        "        pynini.cross(pynini.closure(NEMO_WHITE_SPACE, 2), NEMO_SPACE), NEMO_ALPHA, NEMO_ALPHA, NEMO_SIGMA\n",
        "    )\n",
        ")\n",
        "self_graph |= zero\n",
        "\n",
        "self_graph = filter_punctuation(self_graph).optimize()\n",
        "\n",
        "optional_minus_graph = pynini.closure(pynutil.insert(\"negative: \") + pynini.cross(\"-\", \"\\\"true\\\" \"), 0, 1)\n",
        "\n",
        "final_graph = optional_minus_graph + pynutil.insert(\"integer: \\\"\") + self_graph + pynutil.insert(\"\\\"\")\n",
        "\n",
        "final_graph = pynutil.insert(\"cardinal { \") + final_graph + pynutil.insert(\" }\")\n",
        "self_fst = final_graph.optimize()\n",
        "\n"
      ],
      "metadata": {
        "id": "Fpkdu2P-2iNI"
      },
      "execution_count": 20,
      "outputs": []
    },
    {
      "cell_type": "code",
      "source": [
        "(\"111222333444555666777888\" @ self_fst).string()"
      ],
      "metadata": {
        "colab": {
          "base_uri": "https://localhost:8080/",
          "height": 53
        },
        "id": "ydb2poLJUI36",
        "outputId": "f5512e14-01a3-4f81-f9f3-8ad11fcffeea"
      },
      "execution_count": 21,
      "outputs": [
        {
          "output_type": "execute_result",
          "data": {
            "text/plain": [
              "'cardinal { integer: \"hundraelva triljarder tvåhundratjugotvå triljoner trehundratrettiotre biljarder fyrahundrafyrtiofyra biljoner femhundrafemtiofem miljarder sexhundrasextiosex miljoner sjuhundrasjuttiosjutusen åttahundraåttioåtta\" }'"
            ],
            "application/vnd.google.colaboratory.intrinsic+json": {
              "type": "string"
            }
          },
          "metadata": {},
          "execution_count": 21
        }
      ]
    },
    {
      "cell_type": "code",
      "source": [
        "(\"hundraett\" @ pynini.invert(graph_hundreds_component_at_least_one_non_zero_digit_no_one).optimize()).string()"
      ],
      "metadata": {
        "colab": {
          "base_uri": "https://localhost:8080/",
          "height": 35
        },
        "id": "aGhjq8db20Ab",
        "outputId": "90d27b39-3290-4d48-e569-c00f68138460"
      },
      "execution_count": null,
      "outputs": [
        {
          "output_type": "execute_result",
          "data": {
            "text/plain": [
              "'101'"
            ],
            "application/vnd.google.colaboratory.intrinsic+json": {
              "type": "string"
            }
          },
          "metadata": {},
          "execution_count": 32
        }
      ]
    }
  ]
}