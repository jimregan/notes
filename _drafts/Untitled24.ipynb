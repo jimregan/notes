{
  "nbformat": 4,
  "nbformat_minor": 0,
  "metadata": {
    "colab": {
      "name": "Untitled24.ipynb",
      "provenance": [],
      "collapsed_sections": []
    },
    "kernelspec": {
      "name": "python3",
      "display_name": "Python 3"
    },
    "language_info": {
      "name": "python"
    }
  },
  "cells": [
    {
      "cell_type": "code",
      "execution_count": 1,
      "metadata": {
        "colab": {
          "base_uri": "https://localhost:8080/"
        },
        "id": "zNLGx-pIvdsp",
        "outputId": "aacb6944-413e-4d4c-d0c9-64ad5c259041"
      },
      "outputs": [
        {
          "output_type": "stream",
          "name": "stdout",
          "text": [
            "⏬ Downloading https://github.com/jaimergp/miniforge/releases/latest/download/Mambaforge-colab-Linux-x86_64.sh...\n",
            "📦 Installing...\n",
            "📌 Adjusting configuration...\n",
            "🩹 Patching environment...\n",
            "⏲ Done in 0:00:29\n",
            "🔁 Restarting kernel...\n"
          ]
        }
      ],
      "source": [
        "if 'google.colab' in str(get_ipython()):\n",
        "  !pip install -q condacolab\n",
        "  import condacolab\n",
        "  condacolab.install()"
      ]
    },
    {
      "cell_type": "code",
      "source": [
        "if 'google.colab' in str(get_ipython()):\n",
        "  ! conda install -c conda-forge pynini=2.1.3"
      ],
      "metadata": {
        "colab": {
          "base_uri": "https://localhost:8080/"
        },
        "id": "-pIZKquvxa82",
        "outputId": "d12c06e2-68ab-41d8-804c-cf7539cbce12"
      },
      "execution_count": 1,
      "outputs": [
        {
          "output_type": "stream",
          "name": "stdout",
          "text": [
            "Collecting package metadata (current_repodata.json): - \b\b\\ \b\b| \b\b/ \b\b- \b\b\\ \b\b| \b\b/ \b\b- \b\b\\ \b\b| \b\b/ \b\b- \b\b\\ \b\b| \b\b/ \b\b- \b\b\\ \b\b| \b\b/ \b\b- \b\b\\ \b\b| \b\b/ \b\b- \b\b\\ \b\b| \b\b/ \b\b- \b\b\\ \b\b| \b\b/ \b\b- \b\b\\ \b\b| \b\b/ \b\b- \b\b\\ \b\b| \b\b/ \b\b- \b\b\\ \b\b| \b\b/ \b\b- \b\b\\ \b\b| \b\b/ \b\b- \b\b\\ \b\b| \b\b/ \b\b- \b\b\\ \b\b| \b\b/ \b\b- \b\b\\ \b\b| \b\b/ \b\b- \b\b\\ \b\b| \b\b/ \b\b- \b\b\\ \b\b| \b\b/ \b\b- \b\b\\ \b\b| \b\b/ \b\b- \b\b\\ \b\b| \b\b/ \b\b- \b\b\\ \b\b| \b\b/ \b\b- \b\b\\ \b\b| \b\b/ \b\b- \b\b\\ \b\b| \b\b/ \b\b- \b\b\\ \b\b| \b\b/ \b\b- \b\b\\ \b\b| \b\b/ \b\b- \b\b\\ \b\b| \b\b/ \b\b- \b\b\\ \b\b| \b\b/ \b\b- \b\b\\ \b\b| \b\b/ \b\b- \b\b\\ \b\b| \b\b/ \b\b- \b\b\\ \b\b| \b\bdone\n",
            "Solving environment: - \b\bfailed with initial frozen solve. Retrying with flexible solve.\n",
            "Collecting package metadata (repodata.json): | \b\b/ \b\b- \b\b\\ \b\b| \b\b/ \b\b- \b\b\\ \b\b| \b\b/ \b\b- \b\b\\ \b\b| \b\b/ \b\b- \b\b\\ \b\b| \b\b/ \b\b- \b\b\\ \b\b| \b\b/ \b\b- \b\b\\ \b\b| \b\b/ \b\b- \b\b\\ \b\b| \b\b/ \b\b- \b\b\\ \b\b| \b\b/ \b\b- \b\b\\ \b\b| \b\b/ \b\b- \b\b\\ \b\b| \b\b/ \b\b- \b\b\\ \b\b| \b\b/ \b\b- \b\b\\ \b\b| \b\b/ \b\b- \b\b\\ \b\b| \b\b/ \b\b- \b\b\\ \b\b| \b\b/ \b\b- \b\b\\ \b\b| \b\b/ \b\b- \b\b\\ \b\b| \b\b/ \b\b- \b\b\\ \b\b| \b\b/ \b\b- \b\b\\ \b\b| \b\b/ \b\b- \b\b\\ \b\b| \b\b/ \b\b- \b\b\\ \b\b| \b\b/ \b\b- \b\b\\ \b\b| \b\b/ \b\b- \b\b\\ \b\b| \b\b/ \b\b- \b\b\\ \b\b| \b\b/ \b\b- \b\b\\ \b\b| \b\b/ \b\b- \b\b\\ \b\b| \b\b/ \b\b- \b\b\\ \b\b| \b\b/ \b\b- \b\b\\ \b\b| \b\b/ \b\b- \b\b\\ \b\b| \b\b/ \b\b- \b\b\\ \b\b| \b\b/ \b\b- \b\b\\ \b\b| \b\b/ \b\b- \b\b\\ \b\b| \b\b/ \b\b- \b\b\\ \b\b| \b\b/ \b\b- \b\b\\ \b\b| \b\b/ \b\b- \b\b\\ \b\b| \b\b/ \b\b- \b\b\\ \b\b| \b\b/ \b\b- \b\b\\ \b\b| \b\b/ \b\b- \b\b\\ \b\b| \b\b/ \b\b- \b\b\\ \b\b| \b\b/ \b\b- \b\b\\ \b\b| \b\b/ \b\b- \b\b\\ \b\b| \b\b/ \b\b- \b\b\\ \b\b| \b\b/ \b\b- \b\b\\ \b\b| \b\b/ \b\b- \b\b\\ \b\b| \b\b/ \b\b- \b\b\\ \b\b| \b\b/ \b\b- \b\b\\ \b\b| \b\b/ \b\b- \b\b\\ \b\b| \b\b/ \b\b- \b\b\\ \b\b| \b\b/ \b\b- \b\b\\ \b\b| \b\b/ \b\b- \b\b\\ \b\b| \b\b/ \b\b- \b\b\\ \b\b| \b\b/ \b\b- \b\b\\ \b\b| \b\b/ \b\b- \b\b\\ \b\b| \b\b/ \b\b- \b\b\\ \b\b| \b\b/ \b\b- \b\b\\ \b\b| \b\b/ \b\b- \b\b\\ \b\b| \b\b/ \b\b- \b\b\\ \b\b| \b\b/ \b\b- \b\b\\ \b\b| \b\b/ \b\b- \b\b\\ \b\b| \b\b/ \b\b- \b\b\\ \b\b| \b\b/ \b\b- \b\b\\ \b\b| \b\b/ \b\b- \b\b\\ \b\b| \b\b/ \b\b- \b\b\\ \b\b| \b\b/ \b\b- \b\b\\ \b\b| \b\b/ \b\b- \b\b\\ \b\b| \b\b/ \b\b- \b\b\\ \b\b| \b\b/ \b\b- \b\b\\ \b\b| \b\b/ \b\b- \b\b\\ \b\b| \b\b/ \b\b- \b\b\\ \b\b| \b\b/ \b\b- \b\b\\ \b\b| \b\b/ \b\b- \b\b\\ \b\b| \b\b/ \b\b- \b\b\\ \b\b| \b\b/ \b\b- \b\b\\ \b\b| \b\b/ \b\b- \b\b\\ \b\b| \b\b/ \b\b- \b\b\\ \b\b| \b\b/ \b\b- \b\b\\ \b\b| \b\b/ \b\b- \b\b\\ \b\b| \b\b/ \b\b- \b\b\\ \b\b| \b\b/ \b\b- \b\b\\ \b\b| \b\b/ \b\b- \b\b\\ \b\b| \b\b/ \b\b- \b\b\\ \b\b| \b\b/ \b\b- \b\b\\ \b\b| \b\b/ \b\b- \b\b\\ \b\b| \b\b/ \b\b- \b\b\\ \b\b| \b\b/ \b\b- \b\b\\ \b\b| \b\b/ \b\b- \b\b\\ \b\b| \b\b/ \b\b- \b\b\\ \b\b| \b\b/ \b\b- \b\b\\ \b\b| \b\b/ \b\b- \b\b\\ \b\b| \b\b/ \b\b- \b\b\\ \b\b| \b\b/ \b\b- \b\b\\ \b\b| \b\b/ \b\b- \b\b\\ \b\b| \b\b/ \b\b- \b\b\\ \b\b| \b\b/ \b\b- \b\b\\ \b\b| \b\b/ \b\b- \b\b\\ \b\b| \b\b/ \b\b- \b\b\\ \b\b| \b\b/ \b\b- \b\b\\ \b\b| \b\b/ \b\b- \b\b\\ \b\b| \b\b/ \b\b- \b\b\\ \b\b| \b\b/ \b\b- \b\b\\ \b\b| \b\b/ \b\b- \b\b\\ \b\b| \b\b/ \b\b- \b\b\\ \b\b| \b\b/ \b\b- \b\b\\ \b\b| \b\b/ \b\b- \b\b\\ \b\b| \b\b/ \b\b- \b\b\\ \b\b| \b\b/ \b\b- \b\b\\ \b\b| \b\b/ \b\b- \b\b\\ \b\b| \b\b/ \b\b- \b\b\\ \b\b| \b\b/ \b\b- \b\b\\ \b\b| \b\b/ \b\b- \b\b\\ \b\b| \b\b/ \b\b- \b\b\\ \b\b| \b\b/ \b\b- \b\b\\ \b\b| \b\b/ \b\b- \b\b\\ \b\bdone\n",
            "Solving environment: / \b\b- \b\b\\ \b\b| \b\b/ \b\b- \b\b\\ \b\b| \b\b/ \b\b- \b\b\\ \b\b| \b\b/ \b\b- \b\b\\ \b\b| \b\b/ \b\b- \b\b\\ \b\b| \b\b/ \b\b- \b\b\\ \b\b| \b\b/ \b\b- \b\b\\ \b\b| \b\b/ \b\b- \b\b\\ \b\b| \b\b/ \b\b- \b\b\\ \b\b| \b\b/ \b\b- \b\b\\ \b\b| \b\b/ \b\b- \b\b\\ \b\b| \b\b/ \b\b- \b\b\\ \b\b| \b\b/ \b\b- \b\b\\ \b\b| \b\b/ \b\b- \b\b\\ \b\b| \b\b/ \b\b- \b\b\\ \b\b| \b\b/ \b\b- \b\b\\ \b\b| \b\b/ \b\b- \b\b\\ \b\b| \b\b/ \b\b- \b\b\\ \b\b| \b\b/ \b\b- \b\b\\ \b\b| \b\b/ \b\b- \b\b\\ \b\b| \b\b/ \b\b- \b\b\\ \b\b| \b\b/ \b\b- \b\b\\ \b\b| \b\b/ \b\b- \b\b\\ \b\b| \b\b/ \b\b- \b\b\\ \b\b| \b\b/ \b\b- \b\b\\ \b\b| \b\b/ \b\b- \b\b\\ \b\b| \b\b/ \b\b- \b\b\\ \b\b| \b\b/ \b\b- \b\bdone\n",
            "\n",
            "## Package Plan ##\n",
            "\n",
            "  environment location: /usr/local\n",
            "\n",
            "  added / updated specs:\n",
            "    - pynini=2.1.3\n",
            "\n",
            "\n",
            "The following packages will be downloaded:\n",
            "\n",
            "    package                    |            build\n",
            "    ---------------------------|-----------------\n",
            "    ca-certificates-2021.10.8  |       ha878542_0         139 KB  conda-forge\n",
            "    cairo-1.16.0               |    h6cf1ce9_1008         1.5 MB  conda-forge\n",
            "    certifi-2021.10.8          |   py37h89c1867_2         145 KB  conda-forge\n",
            "    conda-4.12.0               |   py37h89c1867_0         1.0 MB  conda-forge\n",
            "    expat-2.4.1                |       h9c3ff4c_0         182 KB  conda-forge\n",
            "    fontconfig-2.13.1          |    hba837de_1005         357 KB  conda-forge\n",
            "    freetype-2.10.4            |       h0708190_1         890 KB  conda-forge\n",
            "    fribidi-1.0.10             |       h36c2ea0_0         112 KB  conda-forge\n",
            "    gettext-0.19.8.1           |    h0b5b191_1005         3.6 MB  conda-forge\n",
            "    graphite2-1.3.13           |    h58526e2_1001         102 KB  conda-forge\n",
            "    graphviz-2.42.3            |       h0511662_0         6.9 MB  conda-forge\n",
            "    harfbuzz-2.8.2             |       h83ec7ef_0         2.0 MB  conda-forge\n",
            "    jpeg-9d                    |       h36c2ea0_0         264 KB  conda-forge\n",
            "    libglib-2.68.3             |       h3e27bee_0         3.1 MB  conda-forge\n",
            "    libpng-1.6.37              |       h21135ba_2         306 KB  conda-forge\n",
            "    libtiff-4.1.0              |       hc3755c2_3         568 KB  conda-forge\n",
            "    libtool-2.4.6              |    h58526e2_1007         497 KB  conda-forge\n",
            "    libuuid-2.32.1             |    h7f98852_1000          28 KB  conda-forge\n",
            "    libxcb-1.13                |    h7f98852_1003         395 KB  conda-forge\n",
            "    openfst-1.8.0              |       h0efe328_0         7.5 MB  conda-forge\n",
            "    openssl-1.1.1k             |       h7f98852_0         2.1 MB  conda-forge\n",
            "    pango-1.42.4               |       h69149e4_5         533 KB  conda-forge\n",
            "    pcre-8.45                  |       h9c3ff4c_0         253 KB  conda-forge\n",
            "    pixman-0.40.0              |       h36c2ea0_0         627 KB  conda-forge\n",
            "    pthread-stubs-0.4          |    h36c2ea0_1001           5 KB  conda-forge\n",
            "    pynini-2.1.3               |   py37h2527ec5_0         2.0 MB  conda-forge\n",
            "    python_abi-3.7             |          2_cp37m           4 KB  conda-forge\n",
            "    xorg-kbproto-1.0.7         |    h7f98852_1002          27 KB  conda-forge\n",
            "    xorg-libice-1.0.10         |       h7f98852_0          58 KB  conda-forge\n",
            "    xorg-libsm-1.2.3           |    hd9c2040_1000          26 KB  conda-forge\n",
            "    xorg-libx11-1.7.2          |       h7f98852_0         941 KB  conda-forge\n",
            "    xorg-libxau-1.0.9          |       h7f98852_0          13 KB  conda-forge\n",
            "    xorg-libxdmcp-1.1.3        |       h7f98852_0          19 KB  conda-forge\n",
            "    xorg-libxext-1.3.4         |       h7f98852_1          54 KB  conda-forge\n",
            "    xorg-libxpm-3.5.13         |       h7f98852_0          63 KB  conda-forge\n",
            "    xorg-libxrender-0.9.10     |    h7f98852_1003          32 KB  conda-forge\n",
            "    xorg-libxt-1.2.1           |       h7f98852_2         375 KB  conda-forge\n",
            "    xorg-renderproto-0.11.1    |    h7f98852_1002           9 KB  conda-forge\n",
            "    xorg-xextproto-7.3.0       |    h7f98852_1002          28 KB  conda-forge\n",
            "    xorg-xproto-7.0.31         |    h7f98852_1007          73 KB  conda-forge\n",
            "    ------------------------------------------------------------\n",
            "                                           Total:        36.6 MB\n",
            "\n",
            "The following NEW packages will be INSTALLED:\n",
            "\n",
            "  cairo              conda-forge/linux-64::cairo-1.16.0-h6cf1ce9_1008\n",
            "  expat              conda-forge/linux-64::expat-2.4.1-h9c3ff4c_0\n",
            "  fontconfig         conda-forge/linux-64::fontconfig-2.13.1-hba837de_1005\n",
            "  freetype           conda-forge/linux-64::freetype-2.10.4-h0708190_1\n",
            "  fribidi            conda-forge/linux-64::fribidi-1.0.10-h36c2ea0_0\n",
            "  gettext            conda-forge/linux-64::gettext-0.19.8.1-h0b5b191_1005\n",
            "  graphite2          conda-forge/linux-64::graphite2-1.3.13-h58526e2_1001\n",
            "  graphviz           conda-forge/linux-64::graphviz-2.42.3-h0511662_0\n",
            "  harfbuzz           conda-forge/linux-64::harfbuzz-2.8.2-h83ec7ef_0\n",
            "  jpeg               conda-forge/linux-64::jpeg-9d-h36c2ea0_0\n",
            "  libglib            conda-forge/linux-64::libglib-2.68.3-h3e27bee_0\n",
            "  libpng             conda-forge/linux-64::libpng-1.6.37-h21135ba_2\n",
            "  libtiff            conda-forge/linux-64::libtiff-4.1.0-hc3755c2_3\n",
            "  libtool            conda-forge/linux-64::libtool-2.4.6-h58526e2_1007\n",
            "  libuuid            conda-forge/linux-64::libuuid-2.32.1-h7f98852_1000\n",
            "  libxcb             conda-forge/linux-64::libxcb-1.13-h7f98852_1003\n",
            "  openfst            conda-forge/linux-64::openfst-1.8.0-h0efe328_0\n",
            "  pango              conda-forge/linux-64::pango-1.42.4-h69149e4_5\n",
            "  pcre               conda-forge/linux-64::pcre-8.45-h9c3ff4c_0\n",
            "  pixman             conda-forge/linux-64::pixman-0.40.0-h36c2ea0_0\n",
            "  pthread-stubs      conda-forge/linux-64::pthread-stubs-0.4-h36c2ea0_1001\n",
            "  pynini             conda-forge/linux-64::pynini-2.1.3-py37h2527ec5_0\n",
            "  xorg-kbproto       conda-forge/linux-64::xorg-kbproto-1.0.7-h7f98852_1002\n",
            "  xorg-libice        conda-forge/linux-64::xorg-libice-1.0.10-h7f98852_0\n",
            "  xorg-libsm         conda-forge/linux-64::xorg-libsm-1.2.3-hd9c2040_1000\n",
            "  xorg-libx11        conda-forge/linux-64::xorg-libx11-1.7.2-h7f98852_0\n",
            "  xorg-libxau        conda-forge/linux-64::xorg-libxau-1.0.9-h7f98852_0\n",
            "  xorg-libxdmcp      conda-forge/linux-64::xorg-libxdmcp-1.1.3-h7f98852_0\n",
            "  xorg-libxext       conda-forge/linux-64::xorg-libxext-1.3.4-h7f98852_1\n",
            "  xorg-libxpm        conda-forge/linux-64::xorg-libxpm-3.5.13-h7f98852_0\n",
            "  xorg-libxrender    conda-forge/linux-64::xorg-libxrender-0.9.10-h7f98852_1003\n",
            "  xorg-libxt         conda-forge/linux-64::xorg-libxt-1.2.1-h7f98852_2\n",
            "  xorg-renderproto   conda-forge/linux-64::xorg-renderproto-0.11.1-h7f98852_1002\n",
            "  xorg-xextproto     conda-forge/linux-64::xorg-xextproto-7.3.0-h7f98852_1002\n",
            "  xorg-xproto        conda-forge/linux-64::xorg-xproto-7.0.31-h7f98852_1007\n",
            "\n",
            "The following packages will be UPDATED:\n",
            "\n",
            "  ca-certificates                      2020.12.5-ha878542_0 --> 2021.10.8-ha878542_0\n",
            "  certifi                          2020.12.5-py37h89c1867_1 --> 2021.10.8-py37h89c1867_2\n",
            "  conda                                4.9.2-py37h89c1867_0 --> 4.12.0-py37h89c1867_0\n",
            "  openssl                                 1.1.1j-h7f98852_0 --> 1.1.1k-h7f98852_0\n",
            "  python_abi                                    3.7-1_cp37m --> 3.7-2_cp37m\n",
            "\n",
            "\n",
            "\n",
            "Downloading and Extracting Packages\n",
            "xorg-libice-1.0.10   | 58 KB     | : 100% 1.0/1 [00:00<00:00,  8.08it/s]               \n",
            "xorg-xextproto-7.3.0 | 28 KB     | : 100% 1.0/1 [00:00<00:00, 10.62it/s]\n",
            "openfst-1.8.0        | 7.5 MB    | : 100% 1.0/1 [00:02<00:00,  2.09s/it]\n",
            "freetype-2.10.4      | 890 KB    | : 100% 1.0/1 [00:00<00:00,  5.33it/s]\n",
            "libglib-2.68.3       | 3.1 MB    | : 100% 1.0/1 [00:00<00:00,  1.51it/s]\n",
            "libxcb-1.13          | 395 KB    | : 100% 1.0/1 [00:00<00:00,  5.17it/s]\n",
            "xorg-renderproto-0.1 | 9 KB      | : 100% 1.0/1 [00:00<00:00, 23.56it/s]\n",
            "pcre-8.45            | 253 KB    | : 100% 1.0/1 [00:00<00:00,  9.93it/s]\n",
            "xorg-libxdmcp-1.1.3  | 19 KB     | : 100% 1.0/1 [00:00<00:00, 20.21it/s]\n",
            "libpng-1.6.37        | 306 KB    | : 100% 1.0/1 [00:00<00:00,  8.33it/s]\n",
            "certifi-2021.10.8    | 145 KB    | : 100% 1.0/1 [00:00<00:00, 14.65it/s]\n",
            "libtool-2.4.6        | 497 KB    | : 100% 1.0/1 [00:00<00:00,  4.50it/s]\n",
            "pango-1.42.4         | 533 KB    | : 100% 1.0/1 [00:00<00:00,  5.02it/s]\n",
            "gettext-0.19.8.1     | 3.6 MB    | : 100% 1.0/1 [00:00<00:00,  1.00it/s]\n",
            "xorg-libxt-1.2.1     | 375 KB    | : 100% 1.0/1 [00:00<00:00,  7.30it/s]\n",
            "xorg-libsm-1.2.3     | 26 KB     | : 100% 1.0/1 [00:00<00:00, 22.59it/s]\n",
            "xorg-xproto-7.0.31   | 73 KB     | : 100% 1.0/1 [00:00<00:00, 14.71it/s]\n",
            "pynini-2.1.3         | 2.0 MB    | : 100% 1.0/1 [00:00<00:00,  1.48it/s]\n",
            "xorg-libxau-1.0.9    | 13 KB     | : 100% 1.0/1 [00:00<00:00, 14.57it/s]\n",
            "xorg-libx11-1.7.2    | 941 KB    | : 100% 1.0/1 [00:00<00:00,  4.05it/s]\n",
            "xorg-libxpm-3.5.13   | 63 KB     | : 100% 1.0/1 [00:00<00:00, 19.40it/s]\n",
            "ca-certificates-2021 | 139 KB    | : 100% 1.0/1 [00:00<00:00, 14.66it/s]\n",
            "graphite2-1.3.13     | 102 KB    | : 100% 1.0/1 [00:00<00:00, 16.80it/s]\n",
            "xorg-kbproto-1.0.7   | 27 KB     | : 100% 1.0/1 [00:00<00:00, 19.54it/s]\n",
            "graphviz-2.42.3      | 6.9 MB    | : 100% 1.0/1 [00:00<00:00,  1.01it/s]\n",
            "fontconfig-2.13.1    | 357 KB    | : 100% 1.0/1 [00:00<00:00,  8.50it/s]\n",
            "libuuid-2.32.1       | 28 KB     | : 100% 1.0/1 [00:00<00:00, 26.10it/s]\n",
            "xorg-libxrender-0.9. | 32 KB     | : 100% 1.0/1 [00:00<00:00, 21.60it/s]\n",
            "expat-2.4.1          | 182 KB    | : 100% 1.0/1 [00:00<00:00, 12.26it/s]\n",
            "pthread-stubs-0.4    | 5 KB      | : 100% 1.0/1 [00:00<00:00, 19.44it/s]\n",
            "libtiff-4.1.0        | 568 KB    | : 100% 1.0/1 [00:00<00:00,  6.32it/s]\n",
            "xorg-libxext-1.3.4   | 54 KB     | : 100% 1.0/1 [00:00<00:00, 12.13it/s]\n",
            "conda-4.12.0         | 1.0 MB    | : 100% 1.0/1 [00:00<00:00,  2.71it/s]\n",
            "cairo-1.16.0         | 1.5 MB    | : 100% 1.0/1 [00:00<00:00,  2.42it/s]\n",
            "pixman-0.40.0        | 627 KB    | : 100% 1.0/1 [00:00<00:00,  6.32it/s]\n",
            "openssl-1.1.1k       | 2.1 MB    | : 100% 1.0/1 [00:00<00:00,  2.03it/s]\n",
            "python_abi-3.7       | 4 KB      | : 100% 1.0/1 [00:00<00:00, 21.38it/s]\n",
            "jpeg-9d              | 264 KB    | : 100% 1.0/1 [00:00<00:00,  9.89it/s]\n",
            "fribidi-1.0.10       | 112 KB    | : 100% 1.0/1 [00:00<00:00, 13.39it/s]\n",
            "harfbuzz-2.8.2       | 2.0 MB    | : 100% 1.0/1 [00:00<00:00,  2.44it/s]\n",
            "Preparing transaction: | \b\b/ \b\b- \b\bdone\n",
            "Verifying transaction: | \b\b/ \b\b- \b\b\\ \b\b| \b\b/ \b\b- \b\b\\ \b\b| \b\b/ \b\b- \b\bdone\n",
            "Executing transaction: | \b\b/ \b\b- \b\b\\ \b\b| \b\b/ \b\bdone\n"
          ]
        }
      ]
    },
    {
      "cell_type": "code",
      "source": [
        "import string\n",
        "import pynini\n",
        "from pynini import Far\n",
        "from pynini.export import export\n",
        "from pynini.examples import plurals\n",
        "from pynini.lib import byte, pynutil, utf8\n",
        "NEMO_CHAR = utf8.VALID_UTF8_CHAR\n",
        "NEMO_DIGIT = byte.DIGIT\n",
        "NEMO_LOWER = pynini.union(*string.ascii_lowercase).optimize()\n",
        "NEMO_UPPER = pynini.union(*string.ascii_uppercase).optimize()\n",
        "NEMO_ALPHA = pynini.union(NEMO_LOWER, NEMO_UPPER).optimize()\n",
        "NEMO_ALNUM = pynini.union(NEMO_DIGIT, NEMO_ALPHA).optimize()\n",
        "NEMO_SIGMA = pynini.closure(NEMO_CHAR)\n",
        "NEMO_SPACE = \" \"\n",
        "NEMO_WHITE_SPACE = pynini.union(\" \", \"\\t\", \"\\n\", \"\\r\", u\"\\u00A0\").optimize()\n",
        "delete_space = pynutil.delete(pynini.closure(NEMO_WHITE_SPACE))\n",
        "insert_space = pynutil.insert(\" \")\n"
      ],
      "metadata": {
        "id": "tj5J8seI0I_F"
      },
      "execution_count": 2,
      "outputs": []
    },
    {
      "cell_type": "code",
      "source": [
        "from pathlib import Path\n",
        "import os"
      ],
      "metadata": {
        "id": "i8Wc9yCL03Wk"
      },
      "execution_count": 3,
      "outputs": []
    },
    {
      "cell_type": "code",
      "source": [
        "class GraphFst:\n",
        "    \"\"\"\n",
        "    Base class for all grammar fsts.\n",
        "\n",
        "    Args:\n",
        "        name: name of grammar class\n",
        "        kind: either 'classify' or 'verbalize'\n",
        "        deterministic: if True will provide a single transduction option,\n",
        "            for False multiple transduction are generated (used for audio-based normalization)\n",
        "    \"\"\"\n",
        "\n",
        "    def __init__(self, name: str, kind: str, deterministic: bool = True):\n",
        "        self.name = name\n",
        "        self.kind = str\n",
        "        self._fst = None\n",
        "        self.deterministic = deterministic\n",
        "\n",
        "        self.far_path = Path(os.path.dirname(__file__) + '/grammars/' + kind + '/' + name + '.far')\n",
        "        if self.far_exist():\n",
        "            self._fst = Far(self.far_path, mode=\"r\", arc_type=\"standard\", far_type=\"default\").get_fst()\n",
        "\n",
        "    def far_exist(self) -> bool:\n",
        "        \"\"\"\n",
        "        Returns true if FAR can be loaded\n",
        "        \"\"\"\n",
        "        return self.far_path.exists()\n",
        "\n",
        "    @property\n",
        "    def fst(self) -> 'pynini.FstLike':\n",
        "        return self._fst\n",
        "\n",
        "    @fst.setter\n",
        "    def fst(self, fst):\n",
        "        self._fst = fst\n",
        "\n",
        "    def add_tokens(self, fst) -> 'pynini.FstLike':\n",
        "        \"\"\"\n",
        "        Wraps class name around to given fst\n",
        "\n",
        "        Args:\n",
        "            fst: input fst\n",
        "\n",
        "        Returns:\n",
        "            Fst: fst\n",
        "        \"\"\"\n",
        "        return pynutil.insert(f\"{self.name} {{ \") + fst + pynutil.insert(\" }\")\n",
        "\n",
        "    def delete_tokens(self, fst) -> 'pynini.FstLike':\n",
        "        \"\"\"\n",
        "        Deletes class name wrap around output of given fst\n",
        "\n",
        "        Args:\n",
        "            fst: input fst\n",
        "\n",
        "        Returns:\n",
        "            Fst: fst\n",
        "        \"\"\"\n",
        "        res = (\n",
        "            pynutil.delete(f\"{self.name}\")\n",
        "            + delete_space\n",
        "            + pynutil.delete(\"{\")\n",
        "            + delete_space\n",
        "            + fst\n",
        "            + delete_space\n",
        "            + pynutil.delete(\"}\")\n",
        "        )\n",
        "        return res @ pynini.cdrewrite(pynini.cross(u\"\\u00A0\", \" \"), \"\", \"\", NEMO_SIGMA)\n"
      ],
      "metadata": {
        "id": "9O0GHus00yET"
      },
      "execution_count": 4,
      "outputs": []
    },
    {
      "cell_type": "code",
      "source": [
        "!mkdir -p data/numbers/"
      ],
      "metadata": {
        "id": "fwbLtAAL1UQD"
      },
      "execution_count": 5,
      "outputs": []
    },
    {
      "cell_type": "code",
      "source": [
        "%%writefile data/numbers/zero.tsv\n",
        "noll\t0"
      ],
      "metadata": {
        "colab": {
          "base_uri": "https://localhost:8080/"
        },
        "id": "kYIrdNAA1G3g",
        "outputId": "5d9ce32f-71ce-4f24-d18f-6020329709aa"
      },
      "execution_count": 6,
      "outputs": [
        {
          "output_type": "stream",
          "name": "stdout",
          "text": [
            "Writing data/numbers/zero.tsv\n"
          ]
        }
      ]
    },
    {
      "cell_type": "code",
      "source": [
        "%%writefile data/numbers/ties.tsv\n",
        "tjugo\t2\n",
        "trettio\t3\n",
        "fyrtio\t4\n",
        "femtio\t5\n",
        "sextio\t6\n",
        "sjuttio\t7\n",
        "åttio\t8\n",
        "nittio\t9"
      ],
      "metadata": {
        "colab": {
          "base_uri": "https://localhost:8080/"
        },
        "id": "q6QQ_7rr1Wt2",
        "outputId": "e060f0ce-71d7-47fd-d9f5-11a4dfc21ff2"
      },
      "execution_count": 7,
      "outputs": [
        {
          "output_type": "stream",
          "name": "stdout",
          "text": [
            "Writing data/numbers/ties.tsv\n"
          ]
        }
      ]
    },
    {
      "cell_type": "code",
      "source": [
        "%%writefile data/numbers/digit.tsv\n",
        "ett\t1\n",
        "två\t2\n",
        "tre\t3\n",
        "fyra\t4\n",
        "fem\t5\n",
        "sex\t6\n",
        "sju\t7\n",
        "åtta\t8\n",
        "nio\t9"
      ],
      "metadata": {
        "colab": {
          "base_uri": "https://localhost:8080/"
        },
        "id": "t_-lFc_91hGq",
        "outputId": "2a4f4483-e4a0-463a-d6a6-7dc29c6efab6"
      },
      "execution_count": 8,
      "outputs": [
        {
          "output_type": "stream",
          "name": "stdout",
          "text": [
            "Writing data/numbers/digit.tsv\n"
          ]
        }
      ]
    },
    {
      "cell_type": "code",
      "source": [
        "%%writefile data/numbers/teen.tsv\n",
        "tio\t10\n",
        "elva\t11\n",
        "tolv\t12\n",
        "tretton\t13\n",
        "fjorton\t14\n",
        "femton\t15\n",
        "sexton\t16\n",
        "sjutton\t17\n",
        "arton\t18\n",
        "nitton\t19"
      ],
      "metadata": {
        "colab": {
          "base_uri": "https://localhost:8080/"
        },
        "id": "Fa-3xKXD1lmc",
        "outputId": "b9c7542c-b468-40ad-cde3-091d25470109"
      },
      "execution_count": 9,
      "outputs": [
        {
          "output_type": "stream",
          "name": "stdout",
          "text": [
            "Writing data/numbers/teen.tsv\n"
          ]
        }
      ]
    },
    {
      "cell_type": "code",
      "source": [
        "def get_abs_path(rel_path):\n",
        "    \"\"\"\n",
        "    Get absolute path\n",
        "\n",
        "    Args:\n",
        "        rel_path: relative path to this file\n",
        "        \n",
        "    Returns absolute path\n",
        "    \"\"\"\n",
        "    abs_path = \"/content\" + os.sep + rel_path\n",
        "\n",
        "    if not os.path.exists(abs_path):\n",
        "        print(f'{abs_path} does not exist')\n",
        "    return abs_path\n"
      ],
      "metadata": {
        "id": "WtpI3gnn1uhS"
      },
      "execution_count": 10,
      "outputs": []
    },
    {
      "cell_type": "code",
      "source": [
        "zero = pynini.invert(pynini.string_file(get_abs_path(\"data/numbers/zero.tsv\")))\n",
        "digit = pynini.invert(pynini.string_file(get_abs_path(\"data/numbers/digit.tsv\")))\n",
        "teen = pynini.invert(pynini.string_file(get_abs_path(\"data/numbers/teen.tsv\")))\n",
        "ties = pynini.invert(pynini.string_file(get_abs_path(\"data/numbers/ties.tsv\")))\n"
      ],
      "metadata": {
        "id": "D7I0Ap2r1AJB"
      },
      "execution_count": 11,
      "outputs": []
    },
    {
      "cell_type": "code",
      "source": [
        "def filter_punctuation(fst):\n",
        "    exactly_three_digits = NEMO_DIGIT ** 3  # for blocks of three\n",
        "    up_to_three_digits = pynini.closure(NEMO_DIGIT, 1, 3)  # for start of string\n",
        "\n",
        "    cardinal_separator = NEMO_SPACE\n",
        "    cardinal_string = pynini.closure(\n",
        "        NEMO_DIGIT, 1\n",
        "    )  # For string w/o punctuation (used for page numbers, thousand series)\n",
        "\n",
        "    cardinal_string |= (\n",
        "        up_to_three_digits\n",
        "        + pynutil.delete(cardinal_separator)\n",
        "        + pynini.closure(exactly_three_digits + pynutil.delete(cardinal_separator))\n",
        "        + exactly_three_digits\n",
        "    )\n",
        "\n",
        "    return cardinal_string @ fst\n"
      ],
      "metadata": {
        "id": "cyohNs3V19jx"
      },
      "execution_count": 12,
      "outputs": []
    },
    {
      "cell_type": "code",
      "source": [
        "deterministic = False"
      ],
      "metadata": {
        "id": "lxU0yyzn2Mdr"
      },
      "execution_count": 13,
      "outputs": []
    },
    {
      "cell_type": "code",
      "source": [
        "graph_digit = digit\n",
        "digits_no_one = (NEMO_DIGIT - \"1\") @ graph_digit\n",
        "both_ones = (pynini.cross(\"1\", \"en\") | pynini.cross(\"1\", \"ett\"))\n",
        "if deterministic:\n",
        "    final_digit = digit\n",
        "else:\n",
        "    final_digit = digits_no_one | both_ones\n"
      ],
      "metadata": {
        "id": "vFeg4Xy92Ryk"
      },
      "execution_count": 14,
      "outputs": []
    },
    {
      "cell_type": "code",
      "source": [
        "graph_tens = teen\n",
        "if deterministic:\n",
        "    graph_tens |= ties + (pynutil.delete('0') | graph_digit)\n",
        "    final_tens = graph_tens\n",
        "else:\n",
        "    graph_tens |= ties + (pynutil.delete('0') | (graph_digit | pynutil.insert(' ') + graph_digit))\n",
        "    final_tens = graph_tens\n",
        "    final_tens |= ties + (pynutil.delete('0') | (final_digit | pynutil.insert(' ') + final_digit))\n"
      ],
      "metadata": {
        "id": "0FX2Dp6R5B4L"
      },
      "execution_count": 15,
      "outputs": []
    },
    {
      "cell_type": "code",
      "source": [
        "graph_digit = digit\n",
        "digits_no_one = (NEMO_DIGIT - \"1\") @ graph_digit\n",
        "both_ones = (pynini.cross(\"1\", \"en\") | pynini.cross(\"1\", \"ett\"))\n",
        "if deterministic:\n",
        "    final_digit = digit\n",
        "else:\n",
        "    final_digit = digits_no_one | both_ones\n",
        "\n",
        "# Any double digit\n",
        "graph_tens = teen\n",
        "if deterministic:\n",
        "    graph_tens |= ties + (pynutil.delete('0') | graph_digit)\n",
        "    final_tens = graph_tens\n",
        "else:\n",
        "    graph_tens |= ties + (pynutil.delete('0') | (graph_digit | pynutil.insert(' ') + graph_digit))\n",
        "    final_tens |= ties + (pynutil.delete('0') | (final_digit | pynutil.insert(' ') + final_digit))\n",
        "\n",
        "hundreds = digits_no_one + pynutil.insert(\"hundra\")\n",
        "hundreds |= pynini.cross(\"1\", \"hundra\")\n",
        "if not deterministic:\n",
        "    hundreds |= pynini.cross(\"1\", \"etthundra\")\n",
        "    hundreds |= digit + pynutil.insert(NEMO_SPACE) + pynutil.insert(\"hundra\")\n",
        "\n",
        "self_tens = graph_tens.optimize()\n",
        "\n",
        "graph_two_digit_non_zero = pynini.union(\n",
        "    graph_digit, graph_tens, (pynutil.delete(\"0\") + graph_digit)\n",
        ")\n",
        "if not deterministic:\n",
        "    graph_two_digit_non_zero |= pynini.union(\n",
        "        graph_digit, graph_tens, (pynini.cross(\"0\", NEMO_SPACE) + graph_digit)\n",
        "    )\n",
        "\n",
        "self_two_digit_non_zero = graph_two_digit_non_zero.optimize()\n",
        "\n",
        "graph_final_two_digit_non_zero = pynini.union(\n",
        "    final_digit, graph_tens, (pynutil.delete(\"0\") + final_digit)\n",
        ")\n",
        "if not deterministic:\n",
        "    graph_final_two_digit_non_zero |= pynini.union(\n",
        "        final_digit, graph_tens, (pynini.cross(\"0\", NEMO_SPACE) + final_digit)\n",
        "    )\n",
        "\n",
        "self_final_two_digit_non_zero = graph_final_two_digit_non_zero.optimize()\n",
        "\n",
        "# Three digit strings\n",
        "graph_hundreds = hundreds + pynini.union(\n",
        "    pynutil.delete(\"00\"), graph_tens, (pynutil.delete(\"0\") + final_digit)\n",
        ")\n",
        "if not deterministic:\n",
        "    graph_hundreds |= hundreds + pynini.union(\n",
        "        pynutil.delete(\"00\"), (graph_tens | pynutil.insert(NEMO_SPACE) + graph_tens), (pynini.cross(\"0\", NEMO_SPACE) + final_digit)\n",
        "    )\n",
        "\n",
        "self_hundreds = graph_hundreds.optimize()\n",
        "\n",
        "graph_hundreds_component = pynini.union(graph_hundreds, pynutil.delete(\"0\") + graph_tens)\n",
        "\n",
        "graph_hundreds_component_at_least_one_non_zero_digit = graph_hundreds_component | (\n",
        "    pynutil.delete(\"00\") + graph_digit\n",
        ")\n",
        "graph_hundreds_component_at_least_one_non_zero_digit_no_one = graph_hundreds_component | (\n",
        "    pynutil.delete(\"00\") + digits_no_one\n",
        ")\n",
        "\n",
        "\n",
        "tusen = pynutil.insert(\"tusen\")\n",
        "if not deterministic:\n",
        "    tusen |= pynutil.insert(\" tusen\")\n",
        "\n",
        "graph_thousands_component_at_least_one_non_zero_digit = pynini.union(\n",
        "    pynutil.delete(\"000\") + graph_hundreds_component_at_least_one_non_zero_digit,\n",
        "    graph_hundreds_component_at_least_one_non_zero_digit_no_one\n",
        "    + tusen\n",
        "    + ((insert_space + graph_hundreds_component_at_least_one_non_zero_digit) | pynutil.delete(\"000\")),\n",
        "    pynini.cross(\"001\", \"tusen\")\n",
        "    + ((insert_space + graph_hundreds_component_at_least_one_non_zero_digit) | pynutil.delete(\"000\")),\n",
        ")\n",
        "\n",
        "graph_thousands_component_at_least_one_non_zero_digit_no_one = pynini.union(\n",
        "    pynutil.delete(\"000\") + graph_hundreds_component_at_least_one_non_zero_digit_no_one,\n",
        "    graph_hundreds_component_at_least_one_non_zero_digit_no_one\n",
        "    + tusen\n",
        "    + ((insert_space + graph_hundreds_component_at_least_one_non_zero_digit) | pynutil.delete(\"000\")),\n",
        "    pynini.cross(\"001\", \"tusen\")\n",
        "    + ((insert_space + graph_hundreds_component_at_least_one_non_zero_digit) | pynutil.delete(\"000\")),\n",
        ")\n",
        "\n"
      ],
      "metadata": {
        "id": "Fpkdu2P-2iNI"
      },
      "execution_count": 16,
      "outputs": []
    },
    {
      "cell_type": "code",
      "source": [
        "(\"hundraett\" @ pynini.invert(graph_hundreds_component_at_least_one_non_zero_digit_no_one).optimize()).string()"
      ],
      "metadata": {
        "colab": {
          "base_uri": "https://localhost:8080/",
          "height": 35
        },
        "id": "aGhjq8db20Ab",
        "outputId": "52cea2cc-768f-461a-a551-8bc7e8e8e227"
      },
      "execution_count": 27,
      "outputs": [
        {
          "output_type": "execute_result",
          "data": {
            "text/plain": [
              "'101'"
            ],
            "application/vnd.google.colaboratory.intrinsic+json": {
              "type": "string"
            }
          },
          "metadata": {},
          "execution_count": 27
        }
      ]
    },
    {
      "cell_type": "code",
      "source": [
        "987 654"
      ],
      "metadata": {
        "id": "8jA9uPSMI2C3"
      },
      "execution_count": null,
      "outputs": []
    },
    {
      "cell_type": "code",
      "source": [
        "hundreds = digits_no_one + pynutil.insert(\"hundra\")"
      ],
      "metadata": {
        "id": "K_IJUNIn60nt"
      },
      "execution_count": 84,
      "outputs": []
    },
    {
      "cell_type": "code",
      "source": [
        "(\"9\" @ hundreds).string()"
      ],
      "metadata": {
        "colab": {
          "base_uri": "https://localhost:8080/",
          "height": 35
        },
        "id": "_GfWVsYH61pR",
        "outputId": "6dfbe0fb-2c19-4b22-97a4-f98dbc9eb311"
      },
      "execution_count": 86,
      "outputs": [
        {
          "output_type": "execute_result",
          "data": {
            "text/plain": [
              "'niohundra'"
            ],
            "application/vnd.google.colaboratory.intrinsic+json": {
              "type": "string"
            }
          },
          "metadata": {},
          "execution_count": 86
        }
      ]
    },
    {
      "cell_type": "code",
      "source": [
        "graph_hundreds = hundreds + pynini.union(\n",
        "    pynutil.delete(\"00\"), graph_tens, (pynutil.delete(\"0\") + graph_digit)\n",
        ")\n"
      ],
      "metadata": {
        "id": "isoa17TN8DFC"
      },
      "execution_count": 91,
      "outputs": []
    },
    {
      "cell_type": "code",
      "source": [
        "(\"931\" @ graph_hundreds).string()"
      ],
      "metadata": {
        "colab": {
          "base_uri": "https://localhost:8080/",
          "height": 35
        },
        "id": "pttFi5i68FKX",
        "outputId": "3b3c170b-ae34-4801-a28b-c2ca79821f47"
      },
      "execution_count": 97,
      "outputs": [
        {
          "output_type": "execute_result",
          "data": {
            "text/plain": [
              "'niohundratrettioett'"
            ],
            "application/vnd.google.colaboratory.intrinsic+json": {
              "type": "string"
            }
          },
          "metadata": {},
          "execution_count": 97
        }
      ]
    }
  ]
}