{
  "nbformat": 4,
  "nbformat_minor": 0,
  "metadata": {
    "colab": {
      "name": "Untitled24.ipynb",
      "provenance": [],
      "collapsed_sections": []
    },
    "kernelspec": {
      "name": "python3",
      "display_name": "Python 3"
    },
    "language_info": {
      "name": "python"
    }
  },
  "cells": [
    {
      "cell_type": "code",
      "execution_count": 1,
      "metadata": {
        "colab": {
          "base_uri": "https://localhost:8080/"
        },
        "id": "zNLGx-pIvdsp",
        "outputId": "aacb6944-413e-4d4c-d0c9-64ad5c259041"
      },
      "outputs": [
        {
          "output_type": "stream",
          "name": "stdout",
          "text": [
            "⏬ Downloading https://github.com/jaimergp/miniforge/releases/latest/download/Mambaforge-colab-Linux-x86_64.sh...\n",
            "📦 Installing...\n",
            "📌 Adjusting configuration...\n",
            "🩹 Patching environment...\n",
            "⏲ Done in 0:00:29\n",
            "🔁 Restarting kernel...\n"
          ]
        }
      ],
      "source": [
        "if 'google.colab' in str(get_ipython()):\n",
        "  !pip install -q condacolab\n",
        "  import condacolab\n",
        "  condacolab.install()"
      ]
    },
    {
      "cell_type": "code",
      "source": [
        "%%capture\n",
        "if 'google.colab' in str(get_ipython()):\n",
        "  ! conda install -c conda-forge pynini=2.1.3"
      ],
      "metadata": {
        "id": "-pIZKquvxa82"
      },
      "execution_count": null,
      "outputs": []
    },
    {
      "cell_type": "code",
      "source": [
        "import string\n",
        "import pynini\n",
        "from pynini import Far\n",
        "from pynini.export import export\n",
        "from pynini.examples import plurals\n",
        "from pynini.lib import byte, pynutil, utf8\n",
        "NEMO_CHAR = utf8.VALID_UTF8_CHAR\n",
        "NEMO_DIGIT = byte.DIGIT\n",
        "NEMO_LOWER = pynini.union(*string.ascii_lowercase).optimize()\n",
        "NEMO_UPPER = pynini.union(*string.ascii_uppercase).optimize()\n",
        "NEMO_ALPHA = pynini.union(NEMO_LOWER, NEMO_UPPER).optimize()\n",
        "NEMO_ALNUM = pynini.union(NEMO_DIGIT, NEMO_ALPHA).optimize()\n",
        "NEMO_SIGMA = pynini.closure(NEMO_CHAR)\n",
        "NEMO_SPACE = \" \"\n",
        "NEMO_WHITE_SPACE = pynini.union(\" \", \"\\t\", \"\\n\", \"\\r\", u\"\\u00A0\").optimize()\n",
        "delete_space = pynutil.delete(pynini.closure(NEMO_WHITE_SPACE))\n",
        "insert_space = pynutil.insert(\" \")\n"
      ],
      "metadata": {
        "id": "tj5J8seI0I_F"
      },
      "execution_count": 2,
      "outputs": []
    },
    {
      "cell_type": "code",
      "source": [
        "from pathlib import Path\n",
        "import os"
      ],
      "metadata": {
        "id": "i8Wc9yCL03Wk"
      },
      "execution_count": 3,
      "outputs": []
    },
    {
      "cell_type": "code",
      "source": [
        "class GraphFst:\n",
        "    \"\"\"\n",
        "    Base class for all grammar fsts.\n",
        "\n",
        "    Args:\n",
        "        name: name of grammar class\n",
        "        kind: either 'classify' or 'verbalize'\n",
        "        deterministic: if True will provide a single transduction option,\n",
        "            for False multiple transduction are generated (used for audio-based normalization)\n",
        "    \"\"\"\n",
        "\n",
        "    def __init__(self, name: str, kind: str, deterministic: bool = True):\n",
        "        self.name = name\n",
        "        self.kind = str\n",
        "        self._fst = None\n",
        "        self.deterministic = deterministic\n",
        "\n",
        "        self.far_path = Path(os.path.dirname(__file__) + '/grammars/' + kind + '/' + name + '.far')\n",
        "        if self.far_exist():\n",
        "            self._fst = Far(self.far_path, mode=\"r\", arc_type=\"standard\", far_type=\"default\").get_fst()\n",
        "\n",
        "    def far_exist(self) -> bool:\n",
        "        \"\"\"\n",
        "        Returns true if FAR can be loaded\n",
        "        \"\"\"\n",
        "        return self.far_path.exists()\n",
        "\n",
        "    @property\n",
        "    def fst(self) -> 'pynini.FstLike':\n",
        "        return self._fst\n",
        "\n",
        "    @fst.setter\n",
        "    def fst(self, fst):\n",
        "        self._fst = fst\n",
        "\n",
        "    def add_tokens(self, fst) -> 'pynini.FstLike':\n",
        "        \"\"\"\n",
        "        Wraps class name around to given fst\n",
        "\n",
        "        Args:\n",
        "            fst: input fst\n",
        "\n",
        "        Returns:\n",
        "            Fst: fst\n",
        "        \"\"\"\n",
        "        return pynutil.insert(f\"{self.name} {{ \") + fst + pynutil.insert(\" }\")\n",
        "\n",
        "    def delete_tokens(self, fst) -> 'pynini.FstLike':\n",
        "        \"\"\"\n",
        "        Deletes class name wrap around output of given fst\n",
        "\n",
        "        Args:\n",
        "            fst: input fst\n",
        "\n",
        "        Returns:\n",
        "            Fst: fst\n",
        "        \"\"\"\n",
        "        res = (\n",
        "            pynutil.delete(f\"{self.name}\")\n",
        "            + delete_space\n",
        "            + pynutil.delete(\"{\")\n",
        "            + delete_space\n",
        "            + fst\n",
        "            + delete_space\n",
        "            + pynutil.delete(\"}\")\n",
        "        )\n",
        "        return res @ pynini.cdrewrite(pynini.cross(u\"\\u00A0\", \" \"), \"\", \"\", NEMO_SIGMA)\n"
      ],
      "metadata": {
        "id": "9O0GHus00yET"
      },
      "execution_count": 4,
      "outputs": []
    },
    {
      "cell_type": "code",
      "source": [
        "!mkdir -p data/numbers/"
      ],
      "metadata": {
        "id": "fwbLtAAL1UQD"
      },
      "execution_count": 5,
      "outputs": []
    },
    {
      "cell_type": "code",
      "source": [
        "%%writefile data/numbers/zero.tsv\n",
        "noll\t0"
      ],
      "metadata": {
        "colab": {
          "base_uri": "https://localhost:8080/"
        },
        "id": "kYIrdNAA1G3g",
        "outputId": "5d9ce32f-71ce-4f24-d18f-6020329709aa"
      },
      "execution_count": 6,
      "outputs": [
        {
          "output_type": "stream",
          "name": "stdout",
          "text": [
            "Writing data/numbers/zero.tsv\n"
          ]
        }
      ]
    },
    {
      "cell_type": "code",
      "source": [
        "%%writefile data/numbers/ties.tsv\n",
        "tjugo\t2\n",
        "trettio\t3\n",
        "fyrtio\t4\n",
        "femtio\t5\n",
        "sextio\t6\n",
        "sjuttio\t7\n",
        "åttio\t8\n",
        "nittio\t9"
      ],
      "metadata": {
        "colab": {
          "base_uri": "https://localhost:8080/"
        },
        "id": "q6QQ_7rr1Wt2",
        "outputId": "e060f0ce-71d7-47fd-d9f5-11a4dfc21ff2"
      },
      "execution_count": 7,
      "outputs": [
        {
          "output_type": "stream",
          "name": "stdout",
          "text": [
            "Writing data/numbers/ties.tsv\n"
          ]
        }
      ]
    },
    {
      "cell_type": "code",
      "source": [
        "%%writefile data/numbers/digit.tsv\n",
        "ett\t1\n",
        "två\t2\n",
        "tre\t3\n",
        "fyra\t4\n",
        "fem\t5\n",
        "sex\t6\n",
        "sju\t7\n",
        "åtta\t8\n",
        "nio\t9"
      ],
      "metadata": {
        "colab": {
          "base_uri": "https://localhost:8080/"
        },
        "id": "t_-lFc_91hGq",
        "outputId": "2a4f4483-e4a0-463a-d6a6-7dc29c6efab6"
      },
      "execution_count": 8,
      "outputs": [
        {
          "output_type": "stream",
          "name": "stdout",
          "text": [
            "Writing data/numbers/digit.tsv\n"
          ]
        }
      ]
    },
    {
      "cell_type": "code",
      "source": [
        "%%writefile data/numbers/teen.tsv\n",
        "tio\t10\n",
        "elva\t11\n",
        "tolv\t12\n",
        "tretton\t13\n",
        "fjorton\t14\n",
        "femton\t15\n",
        "sexton\t16\n",
        "sjutton\t17\n",
        "arton\t18\n",
        "nitton\t19"
      ],
      "metadata": {
        "colab": {
          "base_uri": "https://localhost:8080/"
        },
        "id": "Fa-3xKXD1lmc",
        "outputId": "b9c7542c-b468-40ad-cde3-091d25470109"
      },
      "execution_count": 9,
      "outputs": [
        {
          "output_type": "stream",
          "name": "stdout",
          "text": [
            "Writing data/numbers/teen.tsv\n"
          ]
        }
      ]
    },
    {
      "cell_type": "code",
      "source": [
        "def get_abs_path(rel_path):\n",
        "    \"\"\"\n",
        "    Get absolute path\n",
        "\n",
        "    Args:\n",
        "        rel_path: relative path to this file\n",
        "        \n",
        "    Returns absolute path\n",
        "    \"\"\"\n",
        "    abs_path = \"/content\" + os.sep + rel_path\n",
        "\n",
        "    if not os.path.exists(abs_path):\n",
        "        print(f'{abs_path} does not exist')\n",
        "    return abs_path\n"
      ],
      "metadata": {
        "id": "WtpI3gnn1uhS"
      },
      "execution_count": 10,
      "outputs": []
    },
    {
      "cell_type": "code",
      "source": [
        "zero = pynini.invert(pynini.string_file(get_abs_path(\"data/numbers/zero.tsv\")))\n",
        "digit = pynini.invert(pynini.string_file(get_abs_path(\"data/numbers/digit.tsv\")))\n",
        "teen = pynini.invert(pynini.string_file(get_abs_path(\"data/numbers/teen.tsv\")))\n",
        "ties = pynini.invert(pynini.string_file(get_abs_path(\"data/numbers/ties.tsv\")))\n"
      ],
      "metadata": {
        "id": "D7I0Ap2r1AJB"
      },
      "execution_count": 11,
      "outputs": []
    },
    {
      "cell_type": "code",
      "source": [
        "def filter_punctuation(fst):\n",
        "    exactly_three_digits = NEMO_DIGIT ** 3  # for blocks of three\n",
        "    up_to_three_digits = pynini.closure(NEMO_DIGIT, 1, 3)  # for start of string\n",
        "\n",
        "    cardinal_separator = NEMO_SPACE\n",
        "    cardinal_string = pynini.closure(\n",
        "        NEMO_DIGIT, 1\n",
        "    )  # For string w/o punctuation (used for page numbers, thousand series)\n",
        "\n",
        "    cardinal_string |= (\n",
        "        up_to_three_digits\n",
        "        + pynutil.delete(cardinal_separator)\n",
        "        + pynini.closure(exactly_three_digits + pynutil.delete(cardinal_separator))\n",
        "        + exactly_three_digits\n",
        "    )\n",
        "\n",
        "    return cardinal_string @ fst\n"
      ],
      "metadata": {
        "id": "cyohNs3V19jx"
      },
      "execution_count": 12,
      "outputs": []
    },
    {
      "cell_type": "code",
      "source": [
        "deterministic = False"
      ],
      "metadata": {
        "id": "lxU0yyzn2Mdr"
      },
      "execution_count": 13,
      "outputs": []
    },
    {
      "cell_type": "code",
      "source": [
        "graph_digit = digit\n",
        "digits_no_one = (NEMO_DIGIT - \"1\") @ graph_digit\n",
        "both_ones = (pynini.cross(\"1\", \"en\") | pynini.cross(\"1\", \"ett\"))\n",
        "if deterministic:\n",
        "    final_digit = digit\n",
        "else:\n",
        "    final_digit = digits_no_one | both_ones\n"
      ],
      "metadata": {
        "id": "vFeg4Xy92Ryk"
      },
      "execution_count": 14,
      "outputs": []
    },
    {
      "cell_type": "code",
      "source": [
        "graph_tens = teen\n",
        "if deterministic:\n",
        "    graph_tens |= ties + (pynutil.delete('0') | graph_digit)\n",
        "    final_tens = graph_tens\n",
        "else:\n",
        "    graph_tens |= ties + (pynutil.delete('0') | (graph_digit | pynutil.insert(' ') + graph_digit))\n",
        "    final_tens = graph_tens\n",
        "    final_tens |= ties + (pynutil.delete('0') | (final_digit | pynutil.insert(' ') + final_digit))\n"
      ],
      "metadata": {
        "id": "0FX2Dp6R5B4L"
      },
      "execution_count": 15,
      "outputs": []
    },
    {
      "cell_type": "code",
      "source": [
        "graph_digit = digit\n",
        "digits_no_one = (NEMO_DIGIT - \"1\") @ graph_digit\n",
        "both_ones = (pynini.cross(\"1\", \"en\") | pynini.cross(\"1\", \"ett\"))\n",
        "if deterministic:\n",
        "    final_digit = digit\n",
        "else:\n",
        "    final_digit = digits_no_one | both_ones\n",
        "\n",
        "# Any double digit\n",
        "graph_tens = teen\n",
        "if deterministic:\n",
        "    graph_tens |= ties + (pynutil.delete('0') | graph_digit)\n",
        "    final_tens = graph_tens\n",
        "else:\n",
        "    graph_tens |= ties + (pynutil.delete('0') | (graph_digit | pynutil.insert(' ') + graph_digit))\n",
        "    final_tens |= ties + (pynutil.delete('0') | (final_digit | pynutil.insert(' ') + final_digit))\n",
        "\n",
        "hundreds = digits_no_one + pynutil.insert(\"hundra\")\n",
        "hundreds |= pynini.cross(\"1\", \"hundra\")\n",
        "if not deterministic:\n",
        "    hundreds |= pynini.cross(\"1\", \"etthundra\")\n",
        "    hundreds |= digit + pynutil.insert(NEMO_SPACE) + pynutil.insert(\"hundra\")\n",
        "\n",
        "self_tens = graph_tens.optimize()\n",
        "\n",
        "graph_two_digit_non_zero = pynini.union(\n",
        "    graph_digit, graph_tens, (pynutil.delete(\"0\") + graph_digit)\n",
        ")\n",
        "if not deterministic:\n",
        "    graph_two_digit_non_zero |= pynini.union(\n",
        "        graph_digit, graph_tens, (pynini.cross(\"0\", NEMO_SPACE) + graph_digit)\n",
        "    )\n",
        "\n",
        "self_two_digit_non_zero = graph_two_digit_non_zero.optimize()\n",
        "\n",
        "graph_final_two_digit_non_zero = pynini.union(\n",
        "    final_digit, graph_tens, (pynutil.delete(\"0\") + final_digit)\n",
        ")\n",
        "if not deterministic:\n",
        "    graph_final_two_digit_non_zero |= pynini.union(\n",
        "        final_digit, graph_tens, (pynini.cross(\"0\", NEMO_SPACE) + final_digit)\n",
        "    )\n",
        "\n",
        "self_final_two_digit_non_zero = graph_final_two_digit_non_zero.optimize()\n",
        "\n",
        "# Three digit strings\n",
        "graph_hundreds = hundreds + pynini.union(\n",
        "    pynutil.delete(\"00\"), graph_tens, (pynutil.delete(\"0\") + final_digit)\n",
        ")\n",
        "if not deterministic:\n",
        "    graph_hundreds |= hundreds + pynini.union(\n",
        "        pynutil.delete(\"00\"), (graph_tens | pynutil.insert(NEMO_SPACE) + graph_tens), (pynini.cross(\"0\", NEMO_SPACE) + final_digit)\n",
        "    )\n",
        "\n",
        "self_hundreds = graph_hundreds.optimize()\n",
        "\n",
        "graph_hundreds_component = pynini.union(graph_hundreds, pynutil.delete(\"0\") + graph_tens)\n",
        "\n",
        "graph_hundreds_component_at_least_one_non_zero_digit = graph_hundreds_component | (\n",
        "    pynutil.delete(\"00\") + graph_digit\n",
        ")\n",
        "graph_hundreds_component_at_least_one_non_zero_digit_no_one = graph_hundreds_component | (\n",
        "    pynutil.delete(\"00\") + digits_no_one\n",
        ")\n",
        "\n",
        "\n",
        "tusen = pynutil.insert(\"tusen\")\n",
        "if not deterministic:\n",
        "    tusen |= pynutil.insert(\" tusen\")\n",
        "\n",
        "graph_thousands_component_at_least_one_non_zero_digit = pynini.union(\n",
        "    pynutil.delete(\"000\") + graph_hundreds_component_at_least_one_non_zero_digit,\n",
        "    graph_hundreds_component_at_least_one_non_zero_digit_no_one\n",
        "    + tusen\n",
        "    + ((insert_space + graph_hundreds_component_at_least_one_non_zero_digit) | pynutil.delete(\"000\")),\n",
        "    pynini.cross(\"001\", \"tusen\")\n",
        "    + ((insert_space + graph_hundreds_component_at_least_one_non_zero_digit) | pynutil.delete(\"000\")),\n",
        ")\n",
        "\n",
        "graph_thousands_component_at_least_one_non_zero_digit_no_one = pynini.union(\n",
        "    pynutil.delete(\"000\") + graph_hundreds_component_at_least_one_non_zero_digit_no_one,\n",
        "    graph_hundreds_component_at_least_one_non_zero_digit_no_one\n",
        "    + tusen\n",
        "    + ((insert_space + graph_hundreds_component_at_least_one_non_zero_digit) | pynutil.delete(\"000\")),\n",
        "    pynini.cross(\"001\", \"tusen\")\n",
        "    + ((insert_space + graph_hundreds_component_at_least_one_non_zero_digit) | pynutil.delete(\"000\")),\n",
        ")\n",
        "\n"
      ],
      "metadata": {
        "id": "Fpkdu2P-2iNI"
      },
      "execution_count": 16,
      "outputs": []
    },
    {
      "cell_type": "code",
      "source": [
        "(\"hundraett\" @ pynini.invert(graph_hundreds_component_at_least_one_non_zero_digit_no_one).optimize()).string()"
      ],
      "metadata": {
        "colab": {
          "base_uri": "https://localhost:8080/",
          "height": 35
        },
        "id": "aGhjq8db20Ab",
        "outputId": "90d27b39-3290-4d48-e569-c00f68138460"
      },
      "execution_count": 32,
      "outputs": [
        {
          "output_type": "execute_result",
          "data": {
            "text/plain": [
              "'101'"
            ],
            "application/vnd.google.colaboratory.intrinsic+json": {
              "type": "string"
            }
          },
          "metadata": {},
          "execution_count": 32
        }
      ]
    }
  ]
}