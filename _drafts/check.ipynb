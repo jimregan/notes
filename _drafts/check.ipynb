{
 "cells": [
  {
   "cell_type": "code",
   "execution_count": 1,
   "metadata": {},
   "outputs": [],
   "source": [
    "import pympi"
   ]
  },
  {
   "cell_type": "code",
   "execution_count": 14,
   "metadata": {},
   "outputs": [],
   "source": [
    "FILE = \"/mnt/cloud/lithuanian-asr/data/X_IM004_01.eaf\""
   ]
  },
  {
   "cell_type": "code",
   "execution_count": 15,
   "metadata": {},
   "outputs": [],
   "source": [
    "eaf = pympi.Elan.Eaf(FILE)"
   ]
  },
  {
   "cell_type": "code",
   "execution_count": 16,
   "metadata": {},
   "outputs": [
    {
     "data": {
      "text/plain": [
       "dict_keys(['R_SD_M4_IM200_03', 'noise', 'R_SD_M4_IM034_06', 'R_SD_M4_IM215_01', 'R_SD_M4_IM191_02', 'R_SD_M4_IM216_01'])"
      ]
     },
     "execution_count": 16,
     "metadata": {},
     "output_type": "execute_result"
    }
   ],
   "source": [
    "eaf.tiers.keys()"
   ]
  },
  {
   "cell_type": "code",
   "execution_count": 7,
   "metadata": {},
   "outputs": [
    {
     "data": {
      "text/plain": [
       "({'a24': ('ts111', 'ts112', 'tai', None),\n",
       "  'a25': ('ts113',\n",
       "   'ts114',\n",
       "   'aš gal pasikartosiu po savo pranešimo, ką šiandien skaičiau, kad iš tikrųjų',\n",
       "   None),\n",
       "  'a26': ('ts115', 'ts116', 'aš pasigendu tų investicijų, ', None),\n",
       "  'a27': ('ts117', 'ts118', 'ypač ', None),\n",
       "  'a28': ('ts119', 'ts120', 'ankstyvojoj stadijoj Lietuvoj', None),\n",
       "  'a29': ('ts121',\n",
       "   'ts122',\n",
       "   'investicijos yra viena kas yra, manau, viena iš svarbesnių dalykų, tai ',\n",
       "   None),\n",
       "  'a30': ('ts123',\n",
       "   'ts124',\n",
       "   'jau kalbėjau, kad mes turime aštuoniolika ',\n",
       "   None),\n",
       "  'a31': ('ts125', 'ts126', 'eurų per ', None),\n",
       "  'a32': ('ts127', 'ts128', 'žmogų investuota į rizikos kapitalą', None),\n",
       "  'a33': ('ts129', 'ts130', 'Turbūt yra naivus', None),\n",
       "  'a34': ('ts131', 'ts132', 'sukurti ', None),\n",
       "  'a35': ('ts133', 'ts134', 'vienaragį ar ', None),\n",
       "  'a36': ('ts135', 'ts136', 'kažką dar stipriau', None),\n",
       "  'a37': ('ts137', 'ts138', 'su tokiom investicijom ', None),\n",
       "  'a38': ('ts139', 'ts140', 'tai vienas dalykas, investicijos, ', None),\n",
       "  'a39': ('ts141',\n",
       "   'ts142',\n",
       "   'antras dalykas, ką norėjau pasakyt, tai infrastruktūra ',\n",
       "   None),\n",
       "  'a40': ('ts143',\n",
       "   'ts144',\n",
       "   'reikalingi ir inkubatoriai, ir akceleratoriai. ',\n",
       "   None),\n",
       "  'a72': ('ts145', 'ts146', 'Ačiū Dievui, kad jau yra tokie', None),\n",
       "  'a73': ('ts147', 'ts148', 'Turime Seventi Venčeris, turime ', None),\n",
       "  'a74': ('ts149', 'ts150', 'kitą ', None),\n",
       "  'a75': ('ts151', 'ts152', 'Startap Vais Gais, turime kelis, bet ', None),\n",
       "  'a76': ('ts153',\n",
       "   'ts154',\n",
       "   'žiūrint į kokią Izraelio patir turim daugiau',\n",
       "   None),\n",
       "  'a77': ('ts155', 'ts156', 'tai tada', None),\n",
       "  'a78': ('ts157',\n",
       "   'ts158',\n",
       "   'ir koncentracija trečias dalykas, ką norėjau paminėt, tai koncentracija į tas sritis, kurios pritraukia daugiausia kapitalo pasaulyje. ',\n",
       "   None),\n",
       "  'a79': ('ts159',\n",
       "   'ts160',\n",
       "   'Tai nereikia išsiblaškyti pe visur bet matyti, kur ateina pinigai, srautas iš pasaulyje, kokias sritis ',\n",
       "   None),\n",
       "  'a80': ('ts161', 'ts162', 'ir į jas žiūrėti.', None),\n",
       "  'a81': ('ts197',\n",
       "   'ts198',\n",
       "   'Čia būtent ir ta gera mintis ir kur mes kalbėjom, kad ir Londone, ir ir Suomijoj ir i',\n",
       "   None),\n",
       "  'a82': ('ts199',\n",
       "   'ts200',\n",
       "   'tam tikras mokestines lengvatas angelam, kurie investuoja ir skatina inovatyvų verslą, ',\n",
       "   None),\n",
       "  'a83': ('ts201',\n",
       "   'ts202',\n",
       "   'o dėl pinigų panaudojimo tai šiandien dienai',\n",
       "   None),\n",
       "  'a84': ('ts203',\n",
       "   'ts204',\n",
       "   'įmonės ir startuoliai, kurie ateina, būtent mes atsisakome investuoti ir renkame labai labai selektyviai ir dedam mažesnes sumas, ',\n",
       "   None),\n",
       "  'a85': ('ts205', 'ts206', 'negu kaip galėtume investuoti', None),\n",
       "  'a86': ('ts207',\n",
       "   'ts208',\n",
       "   'tai aš labai palaikau tą didesnės kapitalo investicijas ',\n",
       "   None),\n",
       "  'a87': ('ts209',\n",
       "   'ts210',\n",
       "   'ir papildomai Litbano tą veiklą tikrai palaikau, nes tai yra pasaulinė praktika, kuri pasiteisino.',\n",
       "   None),\n",
       "  'a105': ('ts253', 'ts254', 'Dėl ministro ir dėl ', None),\n",
       "  'a106': ('ts255',\n",
       "   'ts256',\n",
       "   'šiandien buvo daug politinių debatų, bet iš tikrųjų išsikelt tikslus ten reikia',\n",
       "   None),\n",
       "  'a107': ('ts257',\n",
       "   'ts258',\n",
       "   'tikslai yra tai jau girdėjau tūkstantis startuolių, ',\n",
       "   None),\n",
       "  'a108': ('ts259',\n",
       "   'ts260',\n",
       "   'Darius kalbėjo apie penkis tūkstančius startuolių.',\n",
       "   None),\n",
       "  'a109': ('ts261',\n",
       "   'ts262',\n",
       "   'Tai pagaliau paimkim vidurkį ir išsikelkim tą tikslą visi vieną ',\n",
       "   None),\n",
       "  'a110': ('ts263',\n",
       "   'ts264',\n",
       "   'trys tūkstančiai tų startuolių gali būti.',\n",
       "   None),\n",
       "  'a111': ('ts265', 'ts266', 'Investicijos per žmogų, ', None),\n",
       "  'a112': ('ts267', 'ts268', 'tebūnie nu pasivykime Estijos lygį kad', None),\n",
       "  'a113': ('ts269', 'ts270', 'šešdešim eurų ', None),\n",
       "  'a114': ('ts271', 'ts272', 'tris kartus ', None),\n",
       "  'a115': ('ts273', 'ts274', 'ne aštuoniolika eurų. ', None),\n",
       "  'a116': ('ts275',\n",
       "   'ts276',\n",
       "   'na, ir trečias dalykas sustiprinkim tą ekosistemą mūsų',\n",
       "   None),\n",
       "  'a117': ('ts277', 'ts278', 'bent ', None),\n",
       "  'a118': ('ts279', 'ts280', 'dvidešimt ', None),\n",
       "  'a119': ('ts281', 'ts282', 'akceleratorių.', None),\n",
       "  'a120': ('ts283', 'ts284', 'Kai mes turim Izraely devyniasdešim', None),\n",
       "  'a121': ('ts285',\n",
       "   'ts286',\n",
       "   'prasme tai labai paprasti dalykai, kuriuos šiandien išryškinau per savo prezentaciją, kur matos, kur mes konkrečiai atsiliekam',\n",
       "   None),\n",
       "  'a122': ('ts287',\n",
       "   'ts288',\n",
       "   'su bent jau susilyginkim su kaimyninėmis šalimis ',\n",
       "   None),\n",
       "  'a123': ('ts289', 'ts290', 'Suomija, ', None),\n",
       "  'a124': ('ts291', 'ts292', 'Estija', None),\n",
       "  'a125': ('ts299', 'ts300', 'Provokuojantys klausi', None),\n",
       "  'a126': ('ts301', 'ts302', 'tilopė su pašauta koja, ', None)},\n",
       " {},\n",
       " {'LANG_REF': 'lit',\n",
       "  'LINGUISTIC_TYPE_REF': 'default-lt',\n",
       "  'PARTICIPANT': 'FLF',\n",
       "  'TIER_ID': 'R_SD_M4_IM200_03'},\n",
       " 0)"
      ]
     },
     "execution_count": 7,
     "metadata": {},
     "output_type": "execute_result"
    }
   ],
   "source": [
    "eaf.tiers['R_SD_M4_IM200_03']"
   ]
  },
  {
   "cell_type": "code",
   "execution_count": 8,
   "metadata": {},
   "outputs": [],
   "source": [
    "FILE = \"/mnt/cloud/lithuanian-asr/data/R_RS_M4_IS050_01.eaf\""
   ]
  },
  {
   "cell_type": "code",
   "execution_count": 9,
   "metadata": {},
   "outputs": [],
   "source": [
    "eaf = pympi.Elan.Eaf(FILE)"
   ]
  },
  {
   "cell_type": "code",
   "execution_count": 13,
   "metadata": {},
   "outputs": [
    {
     "data": {
      "text/plain": [
       "dict_keys(['speech', 'noise'])"
      ]
     },
     "execution_count": 13,
     "metadata": {},
     "output_type": "execute_result"
    }
   ],
   "source": [
    "eaf.tiers.keys()"
   ]
  }
 ],
 "metadata": {
  "interpreter": {
   "hash": "31f2aee4e71d21fbe5cf8b01ff0e069b9275f58929596ceb00d14d90e3e16cd6"
  },
  "kernelspec": {
   "display_name": "Python 3.8.10 64-bit",
   "language": "python",
   "name": "python3"
  },
  "language_info": {
   "codemirror_mode": {
    "name": "ipython",
    "version": 3
   },
   "file_extension": ".py",
   "mimetype": "text/x-python",
   "name": "python",
   "nbconvert_exporter": "python",
   "pygments_lexer": "ipython3",
   "version": "3.8.10"
  },
  "orig_nbformat": 4
 },
 "nbformat": 4,
 "nbformat_minor": 2
}
