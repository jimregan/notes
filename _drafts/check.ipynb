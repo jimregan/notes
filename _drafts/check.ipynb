{
 "cells": [
  {
   "cell_type": "code",
   "execution_count": 1,
   "metadata": {},
   "outputs": [],
   "source": [
    "import pympi"
   ]
  },
  {
   "cell_type": "code",
   "execution_count": 14,
   "metadata": {},
   "outputs": [],
   "source": [
    "FILE = \"/mnt/cloud/lithuanian-asr/data/X_IM004_01.eaf\""
   ]
  },
  {
   "cell_type": "code",
   "execution_count": 15,
   "metadata": {},
   "outputs": [],
   "source": [
    "eaf = pympi.Elan.Eaf(FILE)"
   ]
  },
  {
   "cell_type": "code",
   "execution_count": 16,
   "metadata": {},
   "outputs": [
    {
     "data": {
      "text/plain": [
       "dict_keys(['R_SD_M4_IM200_03', 'noise', 'R_SD_M4_IM034_06', 'R_SD_M4_IM215_01', 'R_SD_M4_IM191_02', 'R_SD_M4_IM216_01'])"
      ]
     },
     "execution_count": 16,
     "metadata": {},
     "output_type": "execute_result"
    }
   ],
   "source": [
    "eaf.tiers.keys()"
   ]
  },
  {
   "cell_type": "code",
   "execution_count": null,
   "metadata": {},
   "outputs": [],
   "source": [
    "eaf.tiers['R_SD_M4_IM200_03']"
   ]
  },
  {
   "cell_type": "code",
   "execution_count": 8,
   "metadata": {},
   "outputs": [],
   "source": [
    "FILE = \"/mnt/cloud/lithuanian-asr/data/R_RS_M4_IS050_01.eaf\""
   ]
  },
  {
   "cell_type": "code",
   "execution_count": 9,
   "metadata": {},
   "outputs": [],
   "source": [
    "eaf = pympi.Elan.Eaf(FILE)"
   ]
  },
  {
   "cell_type": "code",
   "execution_count": 13,
   "metadata": {},
   "outputs": [
    {
     "data": {
      "text/plain": [
       "dict_keys(['speech', 'noise'])"
      ]
     },
     "execution_count": 13,
     "metadata": {},
     "output_type": "execute_result"
    }
   ],
   "source": [
    "eaf.tiers.keys()"
   ]
  },
  {
   "cell_type": "code",
   "execution_count": 18,
   "metadata": {},
   "outputs": [
    {
     "name": "stdout",
     "output_type": "stream",
     "text": [
      "/mnt/cloud/lithuanian-asr/data/X_MS001_01.eaf dict_keys(['R_RS_M4_MS219_01', 'R_RS_M5_MS220_01', 'R_RS_F5_MS221_01'])\n",
      "/mnt/cloud/lithuanian-asr/data/X_IS007_01.eaf dict_keys(['R_RS_F4_IS209_02', 'R_RS_M4_IS212_01', 'R_RS_F4_IS213_01'])\n",
      "/mnt/cloud/lithuanian-asr/data/X_VP018_01.eaf dict_keys(['R_SR_F4_VP374_01', 'noise', 'R_SR_M4_VP375_01', 'R_SR_M4_VP376_01'])\n",
      "/mnt/cloud/lithuanian-asr/data/X_IS004_01.eaf dict_keys(['L_SD_M4_IS202_01', 'L_SD_F4_IS203_01'])\n",
      "/mnt/cloud/lithuanian-asr/data/X_IS041_01.eaf dict_keys(['R_RS_M5_IS379_01', 'R_RS_M4_IS380_01', 'R_RS_M4_IS381_01', 'R_RS_M5_IS382_01', 'R_RS_M5_IS383_01', 'R_RS_F4_IS384_01'])\n",
      "/mnt/cloud/lithuanian-asr/data/X_VP013_01.eaf dict_keys(['R_RR_M4_VP251_05', 'noise', 'R_RR_F4_VP338_01', 'R_SR_F4_VP268_03', 'R_SR_M4_VP336_02', 'R_SR_M4_VP339_01', 'R_RR_F4_VP314_02'])\n",
      "/mnt/cloud/lithuanian-asr/data/X_IM010_02.eaf dict_keys(['L_ST_M5_IM246_02', 'noise', 'L_ST_M4_IM245_02'])\n",
      "/mnt/cloud/lithuanian-asr/data/X_IM009_01.eaf dict_keys(['L_ST_M4_IM247_01', 'noise', 'L_ST_M4_IM248_01'])\n",
      "/mnt/cloud/lithuanian-asr/data/X_VP009_01.eaf dict_keys(['R_RR_M4_VP251_02', 'noise', 'R_SR_M4_VP295_01', 'R_SP_F4_VP296_01', 'R_SR_F4_VP297_01', 'R_RR_M4_VP298_01', 'R_RR_M4_VP299_01', 'R_SP_M4_VP300_01', 'R_SP_F4_VP301_01', 'R_SP_M4_VP302_01', 'R_SP_M4_VP303_01', 'R_SP_M4_VP304_01', 'R_RR_F4_VP305_01', 'R_SP_F4_VP306_01', 'R_RR_F4_VP307_01', 'R_RR_M4_VP224_04', 'R_RR_F4_VP285_02', 'R_RR_M4_VP308_01', 'R_SR_M5_VP309_01', 'R_SP_F5_VP310_01', 'R_SP_F5_VP311_01', 'R_SR_F4_VP312_01', 'R_SR_F4_VP313_01', 'R_RR_F4_VP314_01', 'R_RR_M4_VP286_02', 'R_SP_M4_VP315_01', 'R_RR_M5_VP316_01', 'R_SR_F4_VP317_01', 'R_SR_M4_VP318_01'])\n",
      "/mnt/cloud/lithuanian-asr/data/X_VP020_01.eaf dict_keys(['R_SR_M4_VP367_03', 'noise', 'R_SR_F4_VP379_01'])\n",
      "/mnt/cloud/lithuanian-asr/data/X_IS023_01.eaf dict_keys(['R_RS_F4_IS273_01', 'R_RP_M4_IS274_01', 'R_RS_M4_IS275_01', 'R_RS_F4_IS276_01'])\n",
      "/mnt/cloud/lithuanian-asr/data/X_IM013_02.eaf dict_keys(['L_ST_M4_IM269_02', 'noise', 'L_ST_M4_IM268_02'])\n",
      "/mnt/cloud/lithuanian-asr/data/X_IM005_01.eaf dict_keys(['R_SD_M4_IM214_01', 'noise', 'R_SD_M4_IM217_01', 'R_SD_M4_IM218_01', 'R_SD_M4_IM219_01', 'R_SD_M4_IM208_02', 'R_SD_M4_IM205_03'])\n",
      "/mnt/cloud/lithuanian-asr/data/X_MS011_01.eaf dict_keys(['R_RS_M4_MS245_01', 'R_RS_F4_MS246_01'])\n",
      "/mnt/cloud/lithuanian-asr/data/X_VP012_01.eaf dict_keys(['R_RR_M4_VP251_04', 'noise', 'R_RR_F4_VP233_04', 'R_RR_F4_VP226_03', 'R_SP_F5_VP335_01', 'R_SR_M4_VP336_01', 'R_SR_F4_VP268_02', 'R_RR_F4_VP337_01'])\n",
      "/mnt/cloud/lithuanian-asr/data/X_IS013_01.eaf dict_keys(['R_RS_F4_IS235_01', 'R_RP_M4_IS236_01'])\n",
      "/mnt/cloud/lithuanian-asr/data/X_VP021_01.eaf dict_keys(['R_SR_F4_VP380_01', 'noise', 'R_SR_F3_VP381_01'])\n",
      "/mnt/cloud/lithuanian-asr/data/X_VP028_01.eaf dict_keys(['R_SR_F4_VP380_02', 'noise', 'R_SR_M4_VP390_01', 'R_SR_M4_VP391_01'])\n",
      "/mnt/cloud/lithuanian-asr/data/X_VP001_05.eaf dict_keys(['R_SR_F4_VP230_01', 'noise', 'R_SP_M4_VP231_01'])\n",
      "/mnt/cloud/lithuanian-asr/data/R_RS_F3_VK001_01.eaf dict_keys(['speech', 'noise', 'ss'])\n",
      "/mnt/cloud/lithuanian-asr/data/X_IS030_01.eaf dict_keys(['R_RD_M5_IS341_02', 'R_RD_F5_IS344_01'])\n",
      "/mnt/cloud/lithuanian-asr/data/X_VP014_01.eaf dict_keys(['R_RR_F4_VP290_02', 'noise', 'R_SR_M4_VP340_01', 'R_RR_F4_VP233_05', 'R_SR_M5_VP341_01', 'R_RR_M4_VP342_01', 'R_SR_F4_VP322_03', 'R_SR_F4_VP321_03', 'R_SR_M4_VP343_01', 'R_RR_F4_VP337_02', 'R_SP_F4_VP344_01', 'R_SP_M5_VP345_01'])\n",
      "/mnt/cloud/lithuanian-asr/data/X_VP004_01.eaf dict_keys(['R_RR_M4_VP251_01', 'noise', 'R_SR_M4_VP229_05', 'R_SR_F4_VP228_05', 'R_SR_M4_VP252_01', 'R_SR_F4_VP253_01', 'R_SR_F5_VP254_01', 'R_SR_M5_VP255_01', 'R_SR_F5_VP256_01', 'R_SR_M4_VP257_01', 'R_SR_F4_VP258_01', 'R_SR_F4_VP259_01', 'R_SR_M4_VP260_01', 'R_SP_M4_VP235_02', 'R_RR_M4_VP261_01', 'R_SP_M4_VP262_01', 'R_SP_M4_VP263_01', 'R_SP_M4_VP264_01', 'R_SP_F5_VP265_01', 'R_SP_F4_VP232_02'])\n",
      "/mnt/cloud/lithuanian-asr/data/X_IS010_01.eaf dict_keys(['R_RS_F4_IS226_01', 'R_RS_F4_IS227_01', 'R_RS_M5_IS228_01'])\n",
      "/mnt/cloud/lithuanian-asr/data/X_VP017_01.eaf dict_keys(['R_SR_F4_VP369_01', 'noise', 'R_SR_F4_VP370_01', 'R_SR_M4_VP371_01', 'R_SR_F4_VP372_01', 'R_SR_M4_VP373_01'])\n",
      "/mnt/cloud/lithuanian-asr/data/X_IS003_01.eaf dict_keys(['L_SD_M4_IS199_01', 'L_SD_M4_IS200_01', 'L_SD_M4_IS201_01'])\n",
      "/mnt/cloud/lithuanian-asr/data/X_IS050_01.eaf dict_keys(['R_RS_M5_IS424_01', 'R_RP_M4_IS423_01', 'R_RP_F4_IS425_01', 'R_RS_M4_IS426_01', 'R_RP_F4_IS427_01'])\n",
      "/mnt/cloud/lithuanian-asr/data/X_VP026_01.eaf dict_keys(['R_SR_F4_VP382_02', 'noise', 'R_SR_M4_VP373_04', 'R_SR_M4_VP367_06'])\n",
      "/mnt/cloud/lithuanian-asr/data/X_VP001_04.eaf dict_keys(['R_SR_F4_VP228_01', 'noise', 'R_SR_M4_VP229_01'])\n",
      "/mnt/cloud/lithuanian-asr/data/X_IS001_01.eaf dict_keys(['L_SD_M4_IS032_01', 'L_SD_M4_IS195_01', 'L_SD_F4_IS196_01'])\n",
      "/mnt/cloud/lithuanian-asr/data/X_VP024_01.eaf dict_keys(['R_SR_M4_VP367_05', 'noise', 'R_SR_F4_VP384_01'])\n",
      "/mnt/cloud/lithuanian-asr/data/X_IS038_01.eaf dict_keys(['R_RS_F4_IS357_01', 'R_RS_M5_IS358_01', 'R_RS_M4_IS359_01'])\n",
      "/mnt/cloud/lithuanian-asr/data/X_IS015_01.eaf dict_keys(['R_RS_M4_IS240_01', 'R_RS_M4_IS241_01', 'R_RS_F4_IS242_01', 'R_RS_M4_IS243_01', 'R_RS_M4_IS244_01', 'R_RS_M4_IS245_01', 'R_RS_F4_IS246_01', 'R_RS_M4_IS247_01'])\n",
      "/mnt/cloud/lithuanian-asr/data/X_IM007_01.eaf dict_keys(['R_SD_M4_IM229_01', 'noise', 'R_SD_M4_IM232_01', 'R_SD_F4_IM203_02', 'R_SD_M4_IM233_01'])\n",
      "/mnt/cloud/lithuanian-asr/data/X_IS028_01.eaf dict_keys(['R_RS_M5_IS329_03', 'R_RS_M5_IS330_03', 'R_RD_F4_IS338_01', 'R_RD_F4_IS339_01', 'R_RD_F4_IS340_01'])\n",
      "/mnt/cloud/lithuanian-asr/data/X_IS034_01.eaf dict_keys(['R_RS_F4_IS350_01', 'R_RS_M4_IS351_01', 'R_RS_F4_IS352_01'])\n",
      "/mnt/cloud/lithuanian-asr/data/X_IS020_01.eaf dict_keys(['R_RS_M4_IS263_01', 'R_RS_F4_IS264_01', 'R_RS_M4_IS265_01', 'R_RS_F4_IS266_01', 'R_RP_M4_IS267_01'])\n",
      "/mnt/cloud/lithuanian-asr/data/X_VP025_01.eaf dict_keys(['R_SR_M4_VP373_03', 'noise', 'R_SR_M4_VP385_01', 'R_SR_F3_VP386_01', 'R_SR_F4_VP387_01', 'R_SR_F4_VP388_01'])\n",
      "/mnt/cloud/lithuanian-asr/data/X_IS029_01.eaf dict_keys(['R_RD_M5_IS341_01', 'R_RD_F5_IS342_01', 'R_RS_F4_IS343_01'])\n",
      "/mnt/cloud/lithuanian-asr/data/X_IM012_01.eaf dict_keys(['L_ST_M4_IM247_03', 'noise', 'L_ST_M4_IM251_01'])\n",
      "/mnt/cloud/lithuanian-asr/data/X_VP008_01.eaf dict_keys(['R_RR_F4_VP290_01', 'noise', 'R_RR_M4_VP261_02', 'R_SR_M4_VP229_09', 'R_SR_F4_VP228_09', 'R_SP_F4_VP291_01', 'R_SR_F4_VP292_01', 'R_SR_M4_VP293_01', 'R_SP_F4_VP294_01'])\n",
      "/mnt/cloud/lithuanian-asr/data/X_VP029_01.eaf dict_keys(['R_SS_F4_VP448_01', 'noise', 'R_SS_F4_VP449_01'])\n",
      "/mnt/cloud/lithuanian-asr/data/X_IS014_01.eaf dict_keys(['R_RS_F4_IS237_01', 'R_RS_F4_IS238_01', 'R_RS_F4_IS239_01'])\n",
      "/mnt/cloud/lithuanian-asr/data/X_VP016_02.eaf dict_keys(['R_SR_M4_VP367_02', 'noise', 'R_SR_F4_VP368_02'])\n",
      "/mnt/cloud/lithuanian-asr/data/X_VP002_01.eaf dict_keys(['R_RR_M4_VP224_02', 'noise', 'R_RR_F4_VP233_01', 'R_RR_M4_VP234_01', 'R_SP_M4_VP235_01', 'R_RR_M4_VP236_01', 'R_SR_M4_VP229_03', 'R_SR_F4_VP228_03', 'R_SP_F4_VP237_01', 'R_SP_M4_VP238_01', 'R_SR_M4_VP239_01', 'R_SP_M4_VP240_01', 'R_SR_F4_VP241_01', 'R_SP_M4_VP242_01', 'R_SP_M4_VP243_01', 'R_SR_F4_VP244_01'])\n",
      "/mnt/cloud/lithuanian-asr/data/X_MS005_01.eaf dict_keys(['R_RS_M4_MS230_01', 'R_RS_M4_MS231_01', 'R_RS_F4_MS232_01'])\n",
      "/mnt/cloud/lithuanian-asr/data/X_IS037_01.eaf dict_keys(['R_RD_M4_IS356_01', 'R_RD_F4_IS353_03'])\n",
      "/mnt/cloud/lithuanian-asr/data/X_IS016_01.eaf dict_keys(['R_RS_M4_IS248_01', 'R_RS_M4_IS249_01', 'R_RS_M4_IS250_01', 'R_RS_M4_IS251_01', 'R_RS_F4_IS252_01', 'R_RS_M4_IS253_01'])\n",
      "/mnt/cloud/lithuanian-asr/data/X_IS006_01.eaf dict_keys(['R_RS_F4_IS209_01', 'R_RS_F4_IS210_01', 'R_RP_M4_IS211_01'])\n",
      "/mnt/cloud/lithuanian-asr/data/X_IS005_01.eaf dict_keys(['R_RP_M4_IS204_01', 'R_RP_M4_IS205_01', 'R_RS_M4_IS206_01', 'R_RS_M4_IS207_01', 'R_RS_M4_IS208_01'])\n",
      "/mnt/cloud/lithuanian-asr/data/X_IS039_01.eaf dict_keys(['R_RS_F4_IS469_01', 'R_RS_F4_IS470_01', 'R_RS_F4_IS471_01', 'R_RP_F4_IS472_01', 'R_RS_F4_IS473_01'])\n",
      "/mnt/cloud/lithuanian-asr/data/X_VP001_02.eaf dict_keys(['R_RR_F4_VP227_01', 'noise', 'R_SR_M4_VP221_01'])\n",
      "/mnt/cloud/lithuanian-asr/data/X_IM014_01.eaf dict_keys(['L_ST_M4_IM270_01', 'noise', 'L_ST_M4_IM268_03'])\n",
      "/mnt/cloud/lithuanian-asr/data/X_IM004_01.eaf dict_keys(['R_SD_M4_IM200_03', 'noise', 'R_SD_M4_IM034_06', 'R_SD_M4_IM215_01', 'R_SD_M4_IM191_02', 'R_SD_M4_IM216_01'])\n",
      "/mnt/cloud/lithuanian-asr/data/X_VP003_01.eaf dict_keys(['R_RR_M4_VP224_03', 'noise', 'R_RR_F4_VP245_01', 'R_SR_F4_VP228_04', 'R_SR_M4_VP229_04', 'R_RR_M4_VP246_01', 'R_SR_F4_VP247_01', 'R_SP_F4_VP248_01', 'R_SP_M4_VP249_01', 'R_RP_M4_VP250_01'])\n",
      "/mnt/cloud/lithuanian-asr/data/X_MS007_01.eaf dict_keys(['R_RS_M4_MS235_01', 'R_RS_M4_MS236_01', 'R_RS_F4_MS237_01'])\n",
      "/mnt/cloud/lithuanian-asr/data/X_IS046_01.eaf dict_keys(['R_RS_F4_IS405_01', 'R_RS_F4_IS406_01', 'R_RS_F4_IS407_01'])\n",
      "/mnt/cloud/lithuanian-asr/data/X_IM002_01.eaf dict_keys(['R_SD_M4_IM034_03', 'noise', 'R_SD_M4_IM212_01', 'R_SD_M4_IM205_02'])\n",
      "/mnt/cloud/lithuanian-asr/data/X_IM010_01.eaf dict_keys(['L_ST_M4_IM245_01', 'noise', 'L_ST_M5_IM246_01'])\n",
      "/mnt/cloud/lithuanian-asr/data/X_VP019_01.eaf dict_keys(['R_SR_F4_VP377_01', 'noise', 'R_SR_F4_VP378_01'])\n",
      "/mnt/cloud/lithuanian-asr/data/X_VP016_01.eaf dict_keys(['R_SR_F4_VP368_01', 'noise', 'R_SR_M4_VP367_01'])\n",
      "/mnt/cloud/lithuanian-asr/data/X_IS008_01.eaf dict_keys(['R_RS_F4_IS214_01', 'R_RS_F4_IS215_01', 'R_RS_M5_IS216_01', 'R_RS_F5_IS217_01', 'R_RS_F5_IS218_01', 'R_RS_M4_IS219_01', 'R_RS_M4_IS220_01'])\n",
      "/mnt/cloud/lithuanian-asr/data/X_MS004_01.eaf dict_keys(['R_RP_M5_MS227_01', 'R_RP_F5_MS228_01'])\n",
      "/mnt/cloud/lithuanian-asr/data/X_VP023_01.eaf dict_keys(['R_SR_M4_VP367_04', 'noise', 'R_SR_M4_VP383_01', 'R_SR_F4_VP372_02'])\n",
      "/mnt/cloud/lithuanian-asr/data/X_VP011_01.eaf dict_keys(['R_RR_F4_VP307_03', 'noise', 'R_RR_F4_VP233_03', 'R_SP_F4_VP326_01', 'R_SP_M4_VP269_03', 'R_SR_F4_VP321_02', 'R_SR_F4_VP322_02', 'R_SR_F4_VP327_01', 'R_SR_M4_VP328_01', 'R_SR_F4_VP329_01', 'R_RR_M4_VP251_03', 'R_SR_F4_VP330_01', 'R_SR_F4_VP241_02'])\n",
      "/mnt/cloud/lithuanian-asr/data/X_IS009_01.eaf dict_keys(['R_RP_M4_IS221_01', 'R_RP_M4_IS222_01', 'R_RP_M4_IS223_01', 'R_RP_F4_IS224_01', 'R_RP_M4_IS225_01'])\n",
      "/mnt/cloud/lithuanian-asr/data/X_IS026_01.eaf dict_keys(['R_RS_M5_IS329_01', 'R_RS_M5_IS330_01', 'R_RD_M5_IS331_01', 'R_RD_M5_IS332_01', 'R_RP_F4_IS333_01'])\n",
      "/mnt/cloud/lithuanian-asr/data/X_IS021_01.eaf dict_keys(['R_RS_F4_IS268_01', 'R_RS_F4_IS269_01', 'R_RS_F3_IS270_01'])\n",
      "/mnt/cloud/lithuanian-asr/data/X_VP001_03.eaf dict_keys(['R_SR_M4_VP221_02', 'noise', 'R_SR_M4_VP222_01', 'R_SR_M4_VP223_01'])\n",
      "/mnt/cloud/lithuanian-asr/data/X_IS044_01.eaf dict_keys(['R_RS_F4_IS397_01', 'R_RS_F4_IS398_01', 'R_RS_F4_IS399_01', 'R_RS_M4_IS400_01', 'R_RS_F5_IS401_01', 'R_RS_F5_IS402_01'])\n",
      "/mnt/cloud/lithuanian-asr/data/X_VP015_01.eaf dict_keys(['R_RR_F4_VP290_03', 'noise', 'R_SR_M4_VP346_01', 'R_SR_F4_VP322_04', 'R_SR_F4_VP321_04', 'R_SR_F4_VP347_01', 'R_SR_M4_VP348_01', 'R_SR_M4_VP349_01', 'R_SR_F4_VP350_01', 'R_SR_F4_VP330_02'])\n",
      "/mnt/cloud/lithuanian-asr/data/X_MS010_01.eaf dict_keys(['R_RS_F4_MS243_01', 'R_RS_F4_MS244_01'])\n",
      "/mnt/cloud/lithuanian-asr/data/X_MS002_01.eaf dict_keys(['R_RS_F4_MS223_01', 'R_RP_F4_MS224_01'])\n",
      "/mnt/cloud/lithuanian-asr/data/X_IM006_01.eaf dict_keys(['R_SD_M4_IM034_07', 'noise', 'R_SD_M4_IM223_01', 'R_SD_F4_IM230_01', 'R_SD_M4_IM227_01', 'R_SD_M4_IM225_01', 'R_SD_F4_IM224_01'])\n",
      "/mnt/cloud/lithuanian-asr/data/X_MS003_01.eaf dict_keys(['R_RS_F4_MS225_01', 'R_RS_M4_MS226_01'])\n",
      "/mnt/cloud/lithuanian-asr/data/X_IM011_01.eaf dict_keys(['L_ST_M4_IM247_02', 'noise', 'L_ST_M5_IM250_01'])\n",
      "/mnt/cloud/lithuanian-asr/data/X_IS051_01.eaf dict_keys(['R_RS_M4_IS428_01', 'R_RS_M4_IS429_01', 'R_RS_F4_IS430_01'])\n",
      "/mnt/cloud/lithuanian-asr/data/X_IM005_02.eaf dict_keys(['R_SD_M4_IM214_02', 'noise', 'R_SD_M4_IM220_01', 'R_SD_M4_IM217_02', 'R_SD_M4_IM218_02', 'R_SD_M4_IM208_03', 'R_SD_M4_IM205_04', 'R_SD_M4_IM219_02', 'R_SD_M4_IM221_01', 'R_SD_M4_IM222_01'])\n",
      "/mnt/cloud/lithuanian-asr/data/X_IM008_01.eaf dict_keys(['R_SD_M4_IM235_01', 'noise', 'R_SD_M4_IM236_01', 'R_SD_M4_IM237_01', 'R_SD_M4_IM238_01', 'R_SD_M4_IM231_03', 'R_SD_M4_IM234_02', 'R_SD_M4_IM239_01', 'R_SD_M4_IM240_01', 'R_SD_M4_IM241_01', 'R_SD_M4_IM242_01'])\n",
      "/mnt/cloud/lithuanian-asr/data/X_IS043_01.eaf dict_keys(['R_RS_F5_IS393_01', 'R_RS_M5_IS394_01', 'R_RS_M5_IS395_01', 'R_RS_M4_IS396_01'])\n",
      "/mnt/cloud/lithuanian-asr/data/X_VP001_01.eaf dict_keys(['R_RR_M4_VP224_01', 'noise', 'R_RR_F4_VP225_01', 'R_RR_F4_VP226_01'])\n",
      "/mnt/cloud/lithuanian-asr/data/X_MS006_01.eaf dict_keys(['R_RS_F4_MS233_01', 'R_RS_F4_MS234_01'])\n",
      "/mnt/cloud/lithuanian-asr/data/X_VP027_01.eaf dict_keys(['R_SR_M4_VP373_05', 'noise', 'R_SR_M4_VP389_01'])\n",
      "/mnt/cloud/lithuanian-asr/data/X_IS002_01.eaf dict_keys(['L_SD_F4_IS197_01', 'L_SD_M4_IS198_01'])\n",
      "/mnt/cloud/lithuanian-asr/data/X_IM001_01.eaf dict_keys(['R_SD_M4_IM034_02', 'noise', 'R_SD_F4_IM211_01', 'R_SD_M4_IM210_01'])\n",
      "/mnt/cloud/lithuanian-asr/data/X_IS019_01.eaf dict_keys(['R_RS_F4_IS258_01', 'R_RS_F4_IS259_01', 'R_RP_F4_IS260_01', 'R_RP_F4_IS261_01', 'R_RS_F4_IS262_01'])\n",
      "/mnt/cloud/lithuanian-asr/data/X_IS052_01.eaf dict_keys(['R_RS_F4_IS431_01', 'R_RD_F4_IS432_01'])\n",
      "/mnt/cloud/lithuanian-asr/data/X_MS012_01.eaf dict_keys(['R_RS_M4_MS247_01', 'R_RS_M4_MS248_01', 'R_RP_F3_MS249_01', 'R_RP_F3_MS250_01'])\n",
      "/mnt/cloud/lithuanian-asr/data/X_IS040_01.eaf dict_keys(['R_RS_M4_IS374_01', 'R_RS_F5_IS375_01', 'R_RP_M5_IS376_01', 'R_RP_M5_IS377_01', 'R_RP_F4_IS378_01'])\n",
      "/mnt/cloud/lithuanian-asr/data/X_IS011_01.eaf dict_keys(['R_RP_F4_IS229_01', 'R_RP_M5_IS230_01', 'R_RP_M5_IS231_01', 'R_RP_M4_IS232_01', 'R_RP_M5_IS233_01'])\n",
      "/mnt/cloud/lithuanian-asr/data/X_IS027_01.eaf dict_keys(['R_RS_M5_IS329_02', 'R_RS_M5_IS330_02', 'R_RD_M5_IS334_01', 'R_RD_M5_IS335_01', 'R_RD_F4_IS336_01', 'R_RD_M5_IS337_01'])\n",
      "/mnt/cloud/lithuanian-asr/data/X_IS031_01.eaf dict_keys(['R_RD_M5_IS341_03', 'R_RD_F4_IS345_01'])\n",
      "/mnt/cloud/lithuanian-asr/data/X_IS048_01.eaf dict_keys(['R_RS_F4_IS414_01', 'R_RS_M4_IS415_01', 'R_RS_M4_IS416_01', 'R_RP_F4_IS417_01', 'R_RS_F4_IS418_01', 'R_RP_M4_IS419_01'])\n",
      "/mnt/cloud/lithuanian-asr/data/X_MS008_01.eaf dict_keys(['R_RS_F4_MS238_01', 'R_RS_M4_MS239_01'])\n",
      "/mnt/cloud/lithuanian-asr/data/X_IS053_01.eaf dict_keys(['R_RS_M4_IS433_01', 'R_RS_M4_IS434_01'])\n",
      "/mnt/cloud/lithuanian-asr/data/X_IS017_01.eaf dict_keys(['R_RS_M4_IS254_01', 'R_RS_F4_IS255_01'])\n",
      "/mnt/cloud/lithuanian-asr/data/X_VP005_01.eaf dict_keys(['R_RR_F4_VP266_01', 'noise', 'R_SR_M4_VP267_01', 'R_SR_F4_VP268_01', 'R_RP_M4_VP269_01', 'R_SR_M4_VP221_03', 'R_SR_F4_VP227_02', 'R_SR_F4_VP270_01', 'R_SR_M4_VP271_01', 'R_SP_M4_VP272_01', 'R_SP_M4_VP273_01', 'R_SR_M4_VP229_06', 'R_SP_F4_VP232_03', 'R_SR_F4_VP228_06', 'R_RR_M4_VP274_01'])\n",
      "/mnt/cloud/lithuanian-asr/data/X_IM007_02.eaf dict_keys(['R_SD_M4_IM233_02', 'noise', 'R_SD_M4_IM229_02', 'R_SD_M4_IM232_02', 'R_SD_F4_IM203_03'])\n",
      "/mnt/cloud/lithuanian-asr/data/X_IM006_02.eaf dict_keys(['R_SD_F4_IM224_02', 'noise', 'R_SD_M4_IM034_08', 'R_SD_M4_IM206_02', 'R_SD_M4_IM231_01', 'R_SD_M4_IM226_01', 'R_SD_M4_IM228_01', 'R_SD_F4_IM230_02', 'R_SD_M4_IM227_02', 'R_SD_M4_IM225_02'])\n",
      "/mnt/cloud/lithuanian-asr/data/X_VP006_01.eaf dict_keys(['R_RR_F4_VP266_02', 'noise', 'R_RR_F4_VP233_02', 'R_RR_F4_VP226_02', 'R_RR_M4_VP236_02', 'R_SR_M4_VP229_07', 'R_SR_F4_VP228_07', 'R_SP_M4_VP275_01', 'R_SP_F4_VP276_01', 'R_SP_M4_VP277_01', 'R_SR_M4_VP278_01', 'R_SP_M4_VP279_01', 'R_SP_M4_VP269_02', 'R_SR_F4_VP280_01'])\n",
      "/mnt/cloud/lithuanian-asr/data/X_VP010_01.eaf dict_keys(['R_RR_F4_VP307_02', 'noise', 'R_SR_M4_VP319_01', 'R_SR_M4_VP320_01', 'R_SR_F4_VP321_01', 'R_SR_F4_VP322_01', 'R_SP_M4_VP323_01', 'R_SP_F5_VP324_01', 'R_SP_F5_VP325_01'])\n",
      "/mnt/cloud/lithuanian-asr/data/X_IS012_01.eaf dict_keys(['R_RS_M4_IS234_01', 'R_RP_F4_IS229_02'])\n",
      "/mnt/cloud/lithuanian-asr/data/X_IS045_01.eaf dict_keys(['R_RS_M4_IS403_01', 'R_RS_F4_IS397_02', 'R_RS_M4_IS404_01'])\n",
      "/mnt/cloud/lithuanian-asr/data/X_IS036_01.eaf dict_keys(['R_RD_F4_IS353_02', 'R_RD_M5_IS355_01'])\n",
      "/mnt/cloud/lithuanian-asr/data/X_IS032_01.eaf dict_keys(['R_RS_F4_IS346_01', 'R_RS_F4_IS347_01', 'R_RS_M4_IS348_01'])\n",
      "/mnt/cloud/lithuanian-asr/data/X_IM003_02.eaf dict_keys(['R_SD_M4_IM201_03', 'noise', 'R_SD_M4_IM034_05', 'R_SD_M4_IM213_02', 'R_SD_M4_IM202_03'])\n",
      "/mnt/cloud/lithuanian-asr/data/X_IS024_01.eaf dict_keys(['R_RS_F4_IS277_01', 'R_RS_M4_IS278_01'])\n",
      "/mnt/cloud/lithuanian-asr/data/X_MS009_01.eaf dict_keys(['R_RS_F4_MS240_01', 'R_RS_F4_MS241_01', 'R_RS_M4_MS242_01'])\n",
      "/mnt/cloud/lithuanian-asr/data/X_VP001_06.eaf dict_keys(['R_SR_M4_VP229_02', 'noise', 'R_SP_F4_VP232_01', 'R_SR_F4_VP228_02'])\n",
      "/mnt/cloud/lithuanian-asr/data/X_IS042_01.eaf dict_keys(['R_RS_M5_IS383_02', 'R_RS_F4_IS384_02', 'R_RS_F4_IS385_01', 'R_RS_M5_IS379_02', 'R_RS_M5_IS386_01', 'R_RS_F4_IS387_01', 'R_RS_F4_IS388_01', 'R_RS_M5_IS389_01', 'R_RS_M4_IS390_01', 'R_RS_M5_IS391_01', 'R_RS_M5_IS392_01'])\n",
      "/mnt/cloud/lithuanian-asr/data/X_IS054_01.eaf dict_keys(['R_RS_F4_IS435_01', 'R_RS_F4_IS436_01', 'R_RS_M4_IS437_01'])\n",
      "/mnt/cloud/lithuanian-asr/data/X_VP007_01.eaf dict_keys(['R_RR_F4_VP266_03', 'noise', 'R_RR_F4_VP285_01', 'R_RR_M4_VP286_01', 'R_RR_M4_VP236_03', 'R_SR_M4_VP229_08', 'R_RR_F4_VP237_02', 'R_SR_F4_VP228_08', 'R_SP_M4_VP287_01', 'R_SP_F4_VP288_01', 'R_RR_F5_VP289_01'])\n",
      "/mnt/cloud/lithuanian-asr/data/X_IS033_01.eaf dict_keys(['R_RS_F4_IS346_02', 'R_RS_F4_IS347_01', 'R_RS_M4_IS348_01', 'R_RS_M4_IS349_01'])\n",
      "/mnt/cloud/lithuanian-asr/data/X_IS022_01.eaf dict_keys(['R_RP_M4_IS271_01', 'R_RS_F4_IS272_01'])\n",
      "/mnt/cloud/lithuanian-asr/data/X_IS049_01.eaf dict_keys(['R_RD_F4_IS420_01', 'R_RP_M4_IS421_01', 'R_RD_F4_IS422_01'])\n",
      "/mnt/cloud/lithuanian-asr/data/X_IS035_01.eaf dict_keys(['R_RD_F4_IS353_01', 'R_RD_M5_IS354_01'])\n",
      "/mnt/cloud/lithuanian-asr/data/X_IS018_01.eaf dict_keys(['R_RS_F4_IS256_01', 'R_RS_M4_IS257_01'])\n",
      "/mnt/cloud/lithuanian-asr/data/X_IS025_01.eaf dict_keys(['R_RP_F5_IS317_01', 'R_RP_M4_IS318_01', 'R_RP_M4_IS319_01', 'R_RS_F5_IS320_01', 'R_RS_F4_IS321_01', 'R_RS_M4_IS322_01', 'R_RS_F4_IS323_01', 'R_RS_M4_IS324_01', 'R_RS_F5_IS325_01', 'R_RS_M4_IS326_01', 'R_RD_F5_IS327_01', 'R_RS_M4_IS328_01'])\n",
      "/mnt/cloud/lithuanian-asr/data/X_IS047_01.eaf dict_keys(['R_RS_F4_IS408_01', 'R_RS_M4_IS409_01', 'R_RS_F4_IS410_01', 'R_RS_F4_IS411_01', 'R_RP_F5_IS412_01', 'R_RS_M4_IS413_01'])\n",
      "/mnt/cloud/lithuanian-asr/data/X_VP022_01.eaf dict_keys(['R_SR_M4_VP367_03', 'noise', 'R_SR_F4_VP382_01', 'R_SR_M4_VP373_02'])\n",
      "/mnt/cloud/lithuanian-asr/data/X_IM003_01.eaf dict_keys(['R_SD_M4_IM034_04', 'noise', 'R_SD_M4_IM202_02', 'R_SD_M4_IM200_02', 'R_SD_M4_IM213_01', 'R_SD_M4_IM201_02'])\n",
      "/mnt/cloud/lithuanian-asr/data/X_IM013_01.eaf dict_keys(['L_ST_M4_IM268_01', 'noise', 'L_ST_M4_IM269_01'])\n"
     ]
    }
   ],
   "source": [
    "from pathlib import Path\n",
    "DATAPATH = \"/mnt/cloud/lithuanian-asr/data\"\n",
    "for eaf_file in Path(DATAPATH).glob(\"*.eaf\"):\n",
    "    eaf = pympi.Elan.Eaf(eaf_file)\n",
    "    if len(eaf.tiers) == 1 and 'speech' in eaf.tiers:\n",
    "        pass\n",
    "    elif len(eaf.tiers) == 2 and 'speech' in eaf.tiers and 'noise' in eaf.tiers:\n",
    "        pass\n",
    "    else:\n",
    "        print(eaf_file, eaf.tiers.keys())"
   ]
  }
 ],
 "metadata": {
  "interpreter": {
   "hash": "31f2aee4e71d21fbe5cf8b01ff0e069b9275f58929596ceb00d14d90e3e16cd6"
  },
  "kernelspec": {
   "display_name": "Python 3.8.10 64-bit",
   "language": "python",
   "name": "python3"
  },
  "language_info": {
   "codemirror_mode": {
    "name": "ipython",
    "version": 3
   },
   "file_extension": ".py",
   "mimetype": "text/x-python",
   "name": "python",
   "nbconvert_exporter": "python",
   "pygments_lexer": "ipython3",
   "version": "3.8.10"
  },
  "orig_nbformat": 4
 },
 "nbformat": 4,
 "nbformat_minor": 2
}
