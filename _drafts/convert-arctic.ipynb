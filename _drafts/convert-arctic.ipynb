{
 "cells": [
  {
   "cell_type": "code",
   "execution_count": null,
   "id": "57308de0",
   "metadata": {},
   "outputs": [],
   "source": [
    "from pathlib import Path"
   ]
  },
  {
   "cell_type": "code",
   "execution_count": null,
   "id": "c2d29302",
   "metadata": {},
   "outputs": [],
   "source": [
    "base = Path(\".\")"
   ]
  },
  {
   "cell_type": "code",
   "execution_count": 1,
   "id": "ca18844e",
   "metadata": {},
   "outputs": [],
   "source": [
    "GENDER = {\n",
    "    \"slt\": \"female\",\n",
    "    \"clb\": \"female\",\n",
    "    \"axb\": \"female\",\n",
    "    \"eey\": \"female\",\n",
    "    \"ljm\": \"female\",\n",
    "    \"lnh\": \"female\",\n",
    "    \"bdl\": \"male\",\n",
    "    \"rms\": \"male\",\n",
    "    \"jmk\": \"male\",\n",
    "    \"awb\": \"male\",\n",
    "    \"ksp\": \"male\",\n",
    "    \"ahw\": \"male\",\n",
    "    \"aup\": \"male\",\n",
    "    \"fem\": \"male\",\n",
    "    \"gka\": \"male\",\n",
    "    \"rxr\": \"male\",\n",
    "    \"slp\": \"male\",\n",
    "}"
   ]
  },
  {
   "cell_type": "code",
   "execution_count": null,
   "id": "12f5159b",
   "metadata": {},
   "outputs": [],
   "source": [
    "ACCENTS = {\n",
    "    \"jmk\": \"Canadian English\",\n",
    "    \"awb\": \"Scottish English\",\n",
    "    \"ksp\": \"Indian English\",\n",
    "    \"ahw\": \"German\",\n",
    "    \"aup\": \"Indian\",\n",
    "    \"axb\": \"Indian\",\n",
    "    \"fem\": \"German\",\n",
    "    \"gka\": \"Indian\",\n",
    "    \"rxr\": \"Israeli\",\n",
    "    \"slp\": \"Indian\",\n",
    "}"
   ]
  },
  {
   "cell_type": "code",
   "execution_count": null,
   "id": "fc810d5b",
   "metadata": {},
   "outputs": [],
   "source": [
    "MISSING = {\n",
    "    \"jmk\": {\n",
    "        \"arctic_a0564\": \"Then it is as I said, Womble announced\",\n",
    "        \"arctic_b0313\": \"The apron string loomed near.\",\n",
    "    }\n",
    "}"
   ]
  },
  {
   "cell_type": "code",
   "execution_count": 2,
   "id": "94818031",
   "metadata": {},
   "outputs": [
    {
     "ename": "NameError",
     "evalue": "name 'Path' is not defined",
     "output_type": "error",
     "traceback": [
      "\u001b[0;31m---------------------------------------------------------------------------\u001b[0m",
      "\u001b[0;31mNameError\u001b[0m                                 Traceback (most recent call last)",
      "Cell \u001b[0;32mIn[2], line 1\u001b[0m\n\u001b[0;32m----> 1\u001b[0m \u001b[38;5;28;01mdef\u001b[39;00m \u001b[38;5;21mread_text\u001b[39m(file: \u001b[43mPath\u001b[49m):\n\u001b[1;32m      2\u001b[0m     text_pairs \u001b[38;5;241m=\u001b[39m {}\n\u001b[1;32m      3\u001b[0m     \u001b[38;5;28;01mwith\u001b[39;00m \u001b[38;5;28mopen\u001b[39m(file) \u001b[38;5;28;01mas\u001b[39;00m f:\n",
      "\u001b[0;31mNameError\u001b[0m: name 'Path' is not defined"
     ]
    }
   ],
   "source": [
    "def read_text(file: Path):\n",
    "    text_pairs = {}\n",
    "    with open(file) as f:\n",
    "        for line in f.readlines():\n",
    "            text_start = line.find('\"')\n",
    "            text_end = line.rfind('\"')\n",
    "            text = line[text_start + 1:text_end]\n",
    "            text_id = line[1:text_start].strip()\n",
    "            text_pairs[text_id] = text\n",
    "    return text_pairs"
   ]
  },
  {
   "cell_type": "code",
   "execution_count": null,
   "id": "e0f3e0f2",
   "metadata": {},
   "outputs": [],
   "source": [
    "import soundfile as sf\n",
    "from datasets import Dataset, Audio, Features, Value\n"
   ]
  },
  {
   "cell_type": "code",
   "execution_count": null,
   "id": "defad86e",
   "metadata": {},
   "outputs": [],
   "source": [
    "examples = []\n",
    "for dir in base.glob(\"cmu_us_*\"):\n",
    "    speaker_id = dir.name.split(\"_\")[-2]\n",
    "    accent = ACCENTS.get(speaker_id, \"American English\")\n",
    "    gender = GENDER.get(speaker_id, \"unknown\")\n",
    "    text = dir / \"etc\" / \"txt.done.data\"\n",
    "    pairs = read_text(text)\n",
    "    for wav_file in dir.glob(\"wav/*.wav\"):\n",
    "        wav_id = wav_file.stem\n",
    "        if wav_id not in pairs:\n",
    "            print(f\"Missing text for {wav_id} in {speaker_id}\")\n",
    "            continue\n",
    "        text = pairs[wav_id]\n",
    "        examples.append({\n",
    "            \"audio\": str(wav_file.resolve()),\n",
    "            \"text\": pairs[wav_id],\n",
    "            \"speaker_id\": speaker_id,\n",
    "            \"gender\": gender,\n",
    "            \"accent\": accent,\n",
    "        })"
   ]
  },
  {
   "cell_type": "markdown",
   "id": "95950150",
   "metadata": {},
   "source": [
    "```\n",
    "Missing text for arctic_a0564 in jmk\n",
    "Missing text for arctic_b0313 in jmk\n",
    "Missing text for arctic_b0229 in jmk\n",
    "Missing text for arctic_a0512 in jmk\n",
    "Missing text for arctic_a0576 in jmk\n",
    "Missing text for arctic_a0456 in jmk\n",
    "Missing text for arctic_a0542 in jmk\n",
    "Missing text for arctic_a0392 in jmk\n",
    "Missing text for arctic_b0223 in jmk\n",
    "Missing text for arctic_a0130 in jmk\n",
    "Missing text for arctic_a0108 in jmk\n",
    "Missing text for arctic_a0578 in jmk\n",
    "Missing text for arctic_a0568 in jmk\n",
    "Missing text for arctic_a0341 in jmk\n",
    "Missing text for arctic_a0561 in jmk\n",
    "Missing text for arctic_a0575 in jmk\n",
    "Missing text for arctic_a0208 in jmk\n",
    "Missing text for arctic_a0565 in jmk\n",
    "Missing text for arctic_a0507 in bdl\n",
    "Missing text for arctic_a0282 in eey\n",
    "```"
   ]
  }
 ],
 "metadata": {
  "kernelspec": {
   "display_name": "nst-tts",
   "language": "python",
   "name": "python3"
  },
  "language_info": {
   "codemirror_mode": {
    "name": "ipython",
    "version": 3
   },
   "file_extension": ".py",
   "mimetype": "text/x-python",
   "name": "python",
   "nbconvert_exporter": "python",
   "pygments_lexer": "ipython3",
   "version": "3.10.9"
  }
 },
 "nbformat": 4,
 "nbformat_minor": 5
}
