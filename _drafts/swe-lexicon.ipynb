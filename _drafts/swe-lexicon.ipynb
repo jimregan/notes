{
 "cells": [
  {
   "cell_type": "code",
   "execution_count": 1,
   "metadata": {},
   "outputs": [
    {
     "name": "stdout",
     "output_type": "stream",
     "text": [
      "--2023-09-13 16:17:26--  https://www.openslr.org/resources/29/lexicon-sv.tgz\n",
      "Resolving www.openslr.org (www.openslr.org)... 46.101.158.64\n",
      "Connecting to www.openslr.org (www.openslr.org)|46.101.158.64|:443... connected.\n",
      "HTTP request sent, awaiting response... 200 OK\n",
      "Length: 5374148 (5,1M) [application/x-gzip]\n",
      "Saving to: ‘lexicon-sv.tgz’\n",
      "\n",
      "lexicon-sv.tgz      100%[===================>]   5,12M  9,79MB/s    in 0,5s    \n",
      "\n",
      "2023-09-13 16:17:27 (9,79 MB/s) - ‘lexicon-sv.tgz’ saved [5374148/5374148]\n",
      "\n"
     ]
    }
   ],
   "source": [
    "!wget https://www.openslr.org/resources/29/lexicon-sv.tgz"
   ]
  },
  {
   "cell_type": "code",
   "execution_count": 2,
   "metadata": {},
   "outputs": [
    {
     "name": "stdout",
     "output_type": "stream",
     "text": [
      "x lexicon.txt\n"
     ]
    }
   ],
   "source": [
    "!tar zxvf lexicon-sv.tgz"
   ]
  },
  {
   "cell_type": "code",
   "execution_count": 1,
   "metadata": {},
   "outputs": [],
   "source": [
    "lexicon = {}\n",
    "with open(\"lexicon.txt\") as lexf:\n",
    "    for line in lexf.readlines():\n",
    "        parts = line.strip().split()\n",
    "        word = parts[0]\n",
    "        phones = parts[1:]\n",
    "        if word[0:1] in \"!<&-\":\n",
    "            continue\n",
    "        if not word in lexicon:\n",
    "            lexicon[word] = []\n",
    "        lexicon[word].append(phones)"
   ]
  },
  {
   "cell_type": "code",
   "execution_count": 2,
   "metadata": {},
   "outputs": [],
   "source": [
    "\n",
    "VOWELS = \"2: 9 A: E E*U E: I O U Y a a*U e e: i: o: u0 u: y: }:\".split(\" \")\n",
    "CONS = \"N S b d d` f g h j k l l` m n n` p r s s' s` t t` v\".split(\" \")\n"
   ]
  },
  {
   "cell_type": "code",
   "execution_count": 3,
   "metadata": {},
   "outputs": [],
   "source": [
    "def move_stress(phones):\n",
    "    outphones = []\n",
    "    stress = ''\n",
    "    for phone in phones:\n",
    "        if phone.startswith('%\"'):\n",
    "            stress = '\"'\n",
    "            phone = phone[2:]\n",
    "            if phone in VOWELS:\n",
    "                outphones.append(stress + phone)\n",
    "                stress = ''\n",
    "            else:\n",
    "                outphones.append(phone)\n",
    "        elif phone[0:1] in '%\"':\n",
    "            stress = phone[0:1]\n",
    "            phone = phone[1:]\n",
    "            if phone in VOWELS:\n",
    "                outphones.append(stress + phone)\n",
    "                stress = ''\n",
    "            else:\n",
    "                outphones.append(phone)\n",
    "        else:\n",
    "            if stress != '' and phone in VOWELS:\n",
    "                phone = stress + phone\n",
    "                stress = ''\n",
    "            outphones.append(phone)\n",
    "    if stress != '':\n",
    "        print(\"Error: unplaced stress\", phones)\n",
    "    return outphones\n",
    "        \n"
   ]
  },
  {
   "cell_type": "code",
   "execution_count": 4,
   "metadata": {},
   "outputs": [],
   "source": [
    "test = '%\"j Y t r a %s E j'.split()"
   ]
  },
  {
   "cell_type": "code",
   "execution_count": 6,
   "metadata": {},
   "outputs": [],
   "source": [
    "assert move_stress(test) == ['j', '\"Y', 't', 'r', 'a', 's', '%E', 'j']"
   ]
  },
  {
   "cell_type": "code",
   "execution_count": 7,
   "metadata": {},
   "outputs": [],
   "source": [
    "import itertools"
   ]
  },
  {
   "cell_type": "code",
   "execution_count": 8,
   "metadata": {},
   "outputs": [],
   "source": [
    "class BaseRule():\n",
    "    def __init__(self, rule, phone, keep_stress=False):\n",
    "        self.rule = rule\n",
    "        self.phone = phone\n",
    "        self.keep_stress = keep_stress\n",
    "\n",
    "    def clean_phones(self, phones):\n",
    "        if self.keep_stress:\n",
    "            return [x.replace('\"', '').replace('%', '') for x in phones]\n",
    "        else:\n",
    "            return phones\n",
    "    \n",
    "    def applies(self, phones):\n",
    "        pass\n",
    "\n",
    "    def expand(self, phones, positions=[]):\n",
    "        pass\n",
    "\n",
    "    def __str__(self):\n",
    "        return f\"[{self.rule}]\""
   ]
  },
  {
   "cell_type": "code",
   "execution_count": 11,
   "metadata": {},
   "outputs": [],
   "source": [
    "class PhonologicalRule(BaseRule):\n",
    "    def __init__(self, rule, phone, transform=[], left_context=[], right_context=[], keep_stress=False):\n",
    "        super().__init__(rule, phone, keep_stress)\n",
    "        self.lctx = left_context\n",
    "        self.rctx = right_context\n",
    "        self.transform = transform\n",
    "\n",
    "    def lctx_ok(self, phones, pos):\n",
    "        if self.lctx == []:\n",
    "            return True\n",
    "        end = pos\n",
    "        start = end - len(self.lctx)\n",
    "        if phones[start:end] == self.lctx:\n",
    "            return True\n",
    "        return False\n",
    "\n",
    "    def rctx_ok(self, phones, pos):\n",
    "        if self.rctx == []:\n",
    "            return True\n",
    "        start = pos + 1\n",
    "        end = start + len(self.rctx)\n",
    "        if phones[start:end] == self.rctx:\n",
    "            return True\n",
    "        return False\n",
    "    \n",
    "    def ctx_ok(self, phones, pos):\n",
    "        return self.rctx_ok(phones, pos) and self.lctx_ok(phones, pos)\n",
    "\n",
    "    def applies(self, phones):\n",
    "        positions = []\n",
    "        phones = self.clean_phones(phones)\n",
    "        if not self.phone in phones:\n",
    "            return []\n",
    "        for i in range(0, len(phones)):\n",
    "            if phones[i] == self.phone and self.ctx_ok(phones, i):\n",
    "                positions.append(i)\n",
    "        return positions\n",
    "\n",
    "    def expand(self, phones, positions=[]):\n",
    "        tmp = []\n",
    "        if positions == []:\n",
    "            positions = self.applies(phones)\n",
    "        for i in range(0, len(phones)):\n",
    "            if i in positions:\n",
    "                tmp.append([phones[i], \" \".join(self.transform)])\n",
    "            else:\n",
    "                tmp.append([phones[i]])\n",
    "        expanded = [x for x in itertools.product(*tmp)]\n",
    "        tidied = set()\n",
    "        for exp in expanded:\n",
    "            tidied.add(tuple([c for c in exp if c != '']))\n",
    "        return [list(t) for t in tidied]\n"
   ]
  },
  {
   "cell_type": "code",
   "execution_count": 12,
   "metadata": {},
   "outputs": [],
   "source": [
    "rule = PhonologicalRule(\"k → ∅ / _ t\", \"k\", [], [], [\"t\"])"
   ]
  },
  {
   "cell_type": "code",
   "execution_count": 14,
   "metadata": {},
   "outputs": [
    {
     "name": "stdout",
     "output_type": "stream",
     "text": [
      "[k → ∅ / _ t]\n"
     ]
    }
   ],
   "source": [
    "print(rule)"
   ]
  },
  {
   "cell_type": "code",
   "execution_count": 15,
   "metadata": {},
   "outputs": [
    {
     "data": {
      "text/plain": [
       "[['v', 'I', 't', 'I', 't'],\n",
       " ['v', 'I', 't', 'I', 'k', 't'],\n",
       " ['v', 'I', 'k', 't', 'I', 'k', 't'],\n",
       " ['v', 'I', 'k', 't', 'I', 't']]"
      ]
     },
     "execution_count": 15,
     "metadata": {},
     "output_type": "execute_result"
    }
   ],
   "source": [
    "rule.expand(\"v I k t I k t\".split(\" \"))"
   ]
  },
  {
   "attachments": {},
   "cell_type": "markdown",
   "metadata": {},
   "source": [
    "```\n",
    "2D\tɖ\n",
    "2L\tɭ\n",
    "2N\tɳ\n",
    "2S\tʂ\n",
    "2T\tʈ\n",
    "A\ta\n",
    "A:\tɑː\n",
    "B\tb\n",
    "D\td\n",
    "E\te\n",
    "E0\tə\n",
    "E:\teː\n",
    "F\tf\n",
    "G\tɡ\n",
    "H\th\n",
    "I\tɪ\n",
    "I:\tiː\n",
    "J\tj\n",
    "K\tk\n",
    "L\tl\n",
    "M\tm\n",
    "N\tn\n",
    "NG\tŋ\n",
    "O\tʊ\n",
    "O:\tuː\n",
    "P\tp\n",
    "R\tr\n",
    "S\ts\n",
    "SJ\tɧ\n",
    "T\tt\n",
    "TJ\tɕ\n",
    "U\tɵ\n",
    "U:\tʉː\n",
    "V\tv\n",
    "Y\tʏ\n",
    "Y:\tyː\n",
    "[\tɛ\n",
    "[3\tæː\n",
    "[4\tæ\n",
    "[:\tɛː\n",
    "\\\tœ\n",
    "\\3\tœ̞ː\n",
    "\\4\tœ̞\n",
    "\\:\tøː\n",
    "]\tɔ\n",
    "]:\toː\n",
    "gcl\t<gcl>\n",
    "ha\t<ha>\n",
    "hes\t<hes>\n",
    "kl\t<kl>\n",
    "pa\t<pa>\n",
    "sm\t<sm>\n",
    "v\t<v>\n",
    "~H\t~h\n",
    "~L\t~l\n",
    "~N\t~n\n",
    "```"
   ]
  },
  {
   "cell_type": "code",
   "execution_count": null,
   "metadata": {},
   "outputs": [],
   "source": [
    "ADDITIONS = \"\"\"\n",
    "INTE\\tn t e\\tI -> 0 / VOWEL # _\n",
    "EN\\tE N\\tn -> N / _ # [+velar]\n",
    "EN\\tE m\\tn -> m / _ # [+labial]\n",
    "JA\\t\"A:\n",
    "JA\\t\"j a\n",
    "NEJ\\t\"n E\n",
    "\"\"\""
   ]
  }
 ],
 "metadata": {
  "kernelspec": {
   "display_name": "hf",
   "language": "python",
   "name": "python3"
  },
  "language_info": {
   "codemirror_mode": {
    "name": "ipython",
    "version": 3
   },
   "file_extension": ".py",
   "mimetype": "text/x-python",
   "name": "python",
   "nbconvert_exporter": "python",
   "pygments_lexer": "ipython3",
   "version": "3.9.0"
  },
  "orig_nbformat": 4
 },
 "nbformat": 4,
 "nbformat_minor": 2
}
