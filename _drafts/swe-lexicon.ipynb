{
 "cells": [
  {
   "cell_type": "code",
   "execution_count": 1,
   "metadata": {},
   "outputs": [
    {
     "name": "stdout",
     "output_type": "stream",
     "text": [
      "--2023-09-13 16:17:26--  https://www.openslr.org/resources/29/lexicon-sv.tgz\n",
      "Resolving www.openslr.org (www.openslr.org)... 46.101.158.64\n",
      "Connecting to www.openslr.org (www.openslr.org)|46.101.158.64|:443... connected.\n",
      "HTTP request sent, awaiting response... 200 OK\n",
      "Length: 5374148 (5,1M) [application/x-gzip]\n",
      "Saving to: ‘lexicon-sv.tgz’\n",
      "\n",
      "lexicon-sv.tgz      100%[===================>]   5,12M  9,79MB/s    in 0,5s    \n",
      "\n",
      "2023-09-13 16:17:27 (9,79 MB/s) - ‘lexicon-sv.tgz’ saved [5374148/5374148]\n",
      "\n"
     ]
    }
   ],
   "source": [
    "!wget https://www.openslr.org/resources/29/lexicon-sv.tgz"
   ]
  },
  {
   "cell_type": "code",
   "execution_count": 2,
   "metadata": {},
   "outputs": [
    {
     "name": "stdout",
     "output_type": "stream",
     "text": [
      "x lexicon.txt\n"
     ]
    }
   ],
   "source": [
    "!tar zxvf lexicon-sv.tgz"
   ]
  },
  {
   "cell_type": "code",
   "execution_count": 11,
   "metadata": {},
   "outputs": [],
   "source": [
    "lexicon = {}\n",
    "with open(\"lexicon.txt\") as lexf:\n",
    "    for line in lexf.readlines():\n",
    "        parts = line.strip().split()\n",
    "        word = parts[0]\n",
    "        phones = parts[1:]\n",
    "        if word[0:1] in \"!<&-\":\n",
    "            continue\n",
    "        if not word in lexicon:\n",
    "            lexicon[word] = []\n",
    "        lexicon[word].append(phones)"
   ]
  },
  {
   "cell_type": "code",
   "execution_count": 13,
   "metadata": {},
   "outputs": [],
   "source": [
    "\n",
    "VOWELS = \"2: 9 A: E E*U E: I O U Y a a*U e e: i: o: u0 u: y: }:\".split(\" \")\n",
    "CONS = \"N S b d d` f g h j k l l` m n n` p r s s' s` t t` v\".split(\" \")\n"
   ]
  },
  {
   "cell_type": "code",
   "execution_count": 33,
   "metadata": {},
   "outputs": [],
   "source": [
    "def move_stress(phones):\n",
    "    outphones = []\n",
    "    stress = ''\n",
    "    for phone in phones:\n",
    "        if phone.startswith('%\"'):\n",
    "            stress = '\"'\n",
    "            phone = phone[2:]\n",
    "            if phone in VOWELS:\n",
    "                outphones.append(stress + phone)\n",
    "                stress = ''\n",
    "            else:\n",
    "                outphones.append(phone)\n",
    "        elif phone[0:1] in '%\"':\n",
    "            stress = phone[0:1]\n",
    "            phone = phone[1:]\n",
    "            if phone in VOWELS:\n",
    "                outphones.append(stress + phone)\n",
    "                stress = ''\n",
    "            else:\n",
    "                outphones.append(phone)\n",
    "        else:\n",
    "            if stress != '' and phone in VOWELS:\n",
    "                phone = stress + phone\n",
    "                stress = ''\n",
    "            outphones.append(phone)\n",
    "    if stress != '':\n",
    "        print(\"Error: unplaced stress\", phones)\n",
    "    return outphones\n",
    "        \n"
   ]
  },
  {
   "cell_type": "code",
   "execution_count": 34,
   "metadata": {},
   "outputs": [],
   "source": [
    "test = '%\"j Y t r a %s E j'.split()"
   ]
  },
  {
   "cell_type": "code",
   "execution_count": 35,
   "metadata": {},
   "outputs": [
    {
     "data": {
      "text/plain": [
       "['j', '\"Y', 't', 'r', 'a', 's', '%E', 'j']"
      ]
     },
     "execution_count": 35,
     "metadata": {},
     "output_type": "execute_result"
    }
   ],
   "source": [
    "move_stress(test)"
   ]
  }
 ],
 "metadata": {
  "kernelspec": {
   "display_name": "hf",
   "language": "python",
   "name": "python3"
  },
  "language_info": {
   "codemirror_mode": {
    "name": "ipython",
    "version": 3
   },
   "file_extension": ".py",
   "mimetype": "text/x-python",
   "name": "python",
   "nbconvert_exporter": "python",
   "pygments_lexer": "ipython3",
   "version": "3.9.15"
  },
  "orig_nbformat": 4
 },
 "nbformat": 4,
 "nbformat_minor": 2
}
