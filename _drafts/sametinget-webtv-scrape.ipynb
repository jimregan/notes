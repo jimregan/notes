{
 "cells": [
  {
   "cell_type": "code",
   "execution_count": 1,
   "metadata": {},
   "outputs": [],
   "source": [
    "LANDING = \"https://sametinget.kommunetv.no/archive\""
   ]
  },
  {
   "cell_type": "code",
   "execution_count": 2,
   "metadata": {},
   "outputs": [],
   "source": [
    "import requests\n",
    "from bs4 import BeautifulSoup"
   ]
  },
  {
   "cell_type": "code",
   "execution_count": null,
   "metadata": {},
   "outputs": [],
   "source": [
    "SEARCH_PAGE = \"https://sametinget.kommunetv.no/api/search?noRetry=false&page=3&pageSize=12&type=Archive&hideResultTypes=true\""
   ]
  },
  {
   "cell_type": "code",
   "execution_count": 3,
   "metadata": {},
   "outputs": [],
   "source": [
    "SAMPLE_API = \"https://sametinget.kommunetv.no/api/streams?streamType=1&id=168\""
   ]
  },
  {
   "cell_type": "code",
   "execution_count": 4,
   "metadata": {},
   "outputs": [],
   "source": [
    "sample_req = requests.get(SAMPLE_API)"
   ]
  },
  {
   "cell_type": "code",
   "execution_count": 7,
   "metadata": {},
   "outputs": [
    {
     "data": {
      "text/plain": [
       "b'{\"stream\":{\"allowNewComments\":false,\"assetId\":null,\"assetCopyrightText\":null,\"attachments\":[],\"availableFrom\":null,\"availableTo\":null,\"categoryId\":16,\"description\":null,\"hideComments\":false,\"id\":168,\"imageUrl\":\"https://sametinget.kommunetv.no/admin/images/default-live-splash.jpg\",\"publishDate\":\"2021-10-21T06:55:00Z\",\"streamType\":1,\"title\":\"Sametingets plenum 21.10.21\",\"tupleId\":306,\"views\":78,\"externalCode\":null,\"movieConfiguration\":{\"allowClipDownload\":false},\"hidden\":false,\"likes\":0,\"dislikes\":0},\"bookmarks\":[{\"assetId\":1152,\"documents\":[{\"id\":1405,\"title\":\"40054\",\"downloadUrl\":\"https://innsyn.onacos.no/sametinget/mote/norsk/wfinnsyn.ashx?response=journalpost_detaljer&journalpostid=2021026638\",\"externalID\":\"40054\",\"filename\":\"Fullmaktskomiteens Innstilling Om Fullmaktene - Godkjenning Av Valget\"}],\"duration\":134.0,\"ended\":\"2021-10-20T22:02:54Z\",\"id\":2893,\"number\":\"037/21\",\"sortOrder\":1,\"started\":\"2021-10-20T22:00:40Z\",\"title\":\"Fullmaktskomiteens innstilling om fullmaktene - godkjenning av valget\",\"downloadUrl\":null,\"titleTranslationKey\":null},{\"assetId\":1154,\"documents\":[{\"id\":1406,\"title\":\"40058\",\"downloadUrl\":\"https://innsyn.onacos.no/sametinget/mote/norsk/wfinnsyn.ashx?response=journalpost_detaljer&journalpostid=2021026644\",\"externalID\":\"40058\",\"filename\":\"Valg Av Plenumsledelse\"}],\"duration\":1012.0,\"ended\":\"2021-10-20T22:19:47Z\",\"id\":2894,\"number\":\"038/21\",\"sortOrder\":2,\"started\":\"2021-10-20T22:02:55Z\",\"title\":\"Valg av plenumsledelse\",\"downloadUrl\":null,\"titleTranslationKey\":null},{\"assetId\":1140,\"documents\":[{\"id\":1407,\"title\":\"40062\",\"downloadUrl\":\"https://innsyn.onacos.no/sametinget/mote/norsk/wfinnsyn.ashx?response=journalpost_detaljer&journalpostid=2021026651\",\"externalID\":\"40062\",\"filename\":\"Valg Av Sametingets President\"}],\"duration\":3450.0,\"ended\":\"2021-10-20T23:58:00Z\",\"id\":2895,\"number\":\"039/21\",\"sortOrder\":4,\"started\":\"2021-10-20T23:00:30Z\",\"title\":\"Valg av Sametingets president\",\"downloadUrl\":null,\"titleTranslationKey\":null},{\"assetId\":1157,\"documents\":[{\"id\":1408,\"title\":\"40063\",\"downloadUrl\":\"https://innsyn.onacos.no/sametinget/mote/norsk/wfinnsyn.ashx?response=journalpost_detaljer&journalpostid=2021026654\",\"externalID\":\"40063\",\"filename\":\"Valg Av Valgkomit\\xc3\\xa9\"}],\"duration\":392.0,\"ended\":\"2021-10-21T00:04:32Z\",\"id\":2896,\"number\":\"040/21\",\"sortOrder\":5,\"started\":\"2021-10-20T23:58:00Z\",\"title\":\"Valg av valgkomit\\xc3\\xa9\",\"downloadUrl\":null,\"titleTranslationKey\":null},{\"assetId\":1163,\"documents\":[{\"id\":1409,\"title\":\"40066\",\"downloadUrl\":\"https://innsyn.onacos.no/sametinget/mote/norsk/wfinnsyn.ashx?response=journalpost_detaljer&journalpostid=2021026657\",\"externalID\":\"40066\",\"filename\":\"Valg Av Kontrollutvalg\"}],\"duration\":140.0,\"ended\":\"2021-10-21T04:02:00Z\",\"id\":2897,\"number\":\"041/21\",\"sortOrder\":7,\"started\":\"2021-10-21T03:59:40Z\",\"title\":\"Valg av kontrollutvalg\",\"downloadUrl\":null,\"titleTranslationKey\":null},{\"assetId\":1165,\"documents\":[{\"id\":1410,\"title\":\"40070\",\"downloadUrl\":\"https://innsyn.onacos.no/sametinget/mote/norsk/wfinnsyn.ashx?response=journalpost_detaljer&journalpostid=2021026662\",\"externalID\":\"40070\",\"filename\":\"Valg Av Fagkomiteer\"}],\"duration\":542.0,\"ended\":\"2021-10-21T04:11:03Z\",\"id\":2898,\"number\":\"042/21\",\"sortOrder\":8,\"started\":\"2021-10-21T04:02:01Z\",\"title\":\"Valg av fagkomiteer\",\"downloadUrl\":null,\"titleTranslationKey\":null},{\"assetId\":1167,\"documents\":[{\"id\":1411,\"title\":\"40077\",\"downloadUrl\":\"https://innsyn.onacos.no/sametinget/mote/norsk/wfinnsyn.ashx?response=journalpost_detaljer&journalpostid=2021026673\",\"externalID\":\"40077\",\"filename\":\"Valg Av Medlemmer Til Samisk Parlamentarisk R\\xc3\\xa5d\"}],\"duration\":124.0,\"ended\":\"2021-10-21T04:13:08Z\",\"id\":2899,\"number\":\"043/21\",\"sortOrder\":9,\"started\":\"2021-10-21T04:11:04Z\",\"title\":\"Valg av medlemmer til Samisk parlamentarisk r\\xc3\\xa5d\",\"downloadUrl\":null,\"titleTranslationKey\":null},{\"assetId\":1171,\"documents\":[{\"id\":1412,\"title\":\"39648\",\"downloadUrl\":\"https://innsyn.onacos.no/sametinget/mote/norsk/wfinnsyn.ashx?response=journalpost_detaljer&journalpostid=2021021041\",\"externalID\":\"39648\",\"filename\":\"M\\xc3\\xb8teplan Sametingets Komit\\xc3\\xa9- Og Plenumsm\\xc3\\xb8ter 2021 - 2022\"}],\"duration\":642.0,\"ended\":\"2021-10-21T04:23:51Z\",\"id\":2900,\"number\":\"044/21\",\"sortOrder\":10,\"started\":\"2021-10-21T04:13:09Z\",\"title\":\"M\\xc3\\xb8teplan Sametingets komit\\xc3\\xa9- og plenumsm\\xc3\\xb8ter 2021 - 2022\",\"downloadUrl\":null,\"titleTranslationKey\":null}],\"speakerEntries\":[],\"messages\":[],\"comments\":[],\"playlist\":[{\"tupleId\":306,\"id\":168,\"streamType\":1,\"started\":\"2021-10-20T22:00:00Z\",\"duration\":23049.0,\"cameraId\":97,\"cameraName\":\"L\\xc3\\xa1vdegiella Gulvspr\\xc3\\xa5k\",\"sortOrder\":1,\"playlist\":[{\"bookmarkId\":2893,\"description\":\"Sametingets plenum 21.10.21\",\"file\":\"https://5c094afacb256.streamlock.net/arkiv3/_definst_/sametinget/arkiv/168_97.smil/playlist.m3u8?wowzaplaystart=40000&wowzaplayduration=134000\",\"image\":\"https://sametinget.kommunetv.no/uploads/bookmark/e4cfd598-1efa-41aa-9e0f-b2cadbd534ce.jpg\",\"startTime\":\"2021-10-25T14:05:07\",\"title\":\"Fullmaktskomiteens innstilling om fullmaktene - godkjenning av valget\"},{\"bookmarkId\":2894,\"description\":\"Sametingets plenum 21.10.21\",\"file\":\"https://5c094afacb256.streamlock.net/arkiv3/_definst_/sametinget/arkiv/168_97.smil/playlist.m3u8?wowzaplaystart=175000&wowzaplayduration=1012000\",\"image\":\"https://sametinget.kommunetv.no/uploads/bookmark/421f91d5-3525-4b80-9c1d-8eb8cffec689.jpg\",\"startTime\":\"2021-10-25T14:07:26\",\"title\":\"Valg av plenumsledelse\"},{\"bookmarkId\":2895,\"description\":\"Sametingets plenum 21.10.21\",\"file\":\"https://5c094afacb256.streamlock.net/arkiv3/_definst_/sametinget/arkiv/168_97.smil/playlist.m3u8?wowzaplaystart=3630000&wowzaplayduration=3450000\",\"image\":\"https://sametinget.kommunetv.no/uploads/bookmark/e8534232-7b54-43cd-b956-68ffa775d1d5.jpg\",\"startTime\":\"2021-10-25T15:01:01\",\"title\":\"Valg av Sametingets president\"},{\"bookmarkId\":2896,\"description\":\"Sametingets plenum 21.10.21\",\"file\":\"https://5c094afacb256.streamlock.net/arkiv3/_definst_/sametinget/arkiv/168_97.smil/playlist.m3u8?wowzaplaystart=7080000&wowzaplayduration=392000\",\"image\":\"https://sametinget.kommunetv.no/uploads/bookmark/823be9f1-2f2b-48f0-a17d-5dacb54f2100.jpg\",\"startTime\":\"2021-10-25T16:05:03\",\"title\":\"Valg av valgkomit\\xc3\\xa9\"},{\"bookmarkId\":2897,\"description\":\"Sametingets plenum 21.10.21\",\"file\":\"https://5c094afacb256.streamlock.net/arkiv3/_definst_/sametinget/arkiv/168_97.smil/playlist.m3u8?wowzaplaystart=21580000&wowzaplayduration=140000\",\"image\":\"https://sametinget.kommunetv.no/uploads/bookmark/7810843d-d4eb-4052-9cce-821b72aa6794.jpg\",\"startTime\":\"2021-10-25T20:09:12\",\"title\":\"Valg av kontrollutvalg\"},{\"bookmarkId\":2898,\"description\":\"Sametingets plenum 21.10.21\",\"file\":\"https://5c094afacb256.streamlock.net/arkiv3/_definst_/sametinget/arkiv/168_97.smil/playlist.m3u8?wowzaplaystart=21721000&wowzaplayduration=542000\",\"image\":\"https://sametinget.kommunetv.no/uploads/bookmark/25252b1e-674a-444d-a330-dc37f207add1.jpg\",\"startTime\":\"2021-10-25T20:12:11\",\"title\":\"Valg av fagkomiteer\"},{\"bookmarkId\":2899,\"description\":\"Sametingets plenum 21.10.21\",\"file\":\"https://5c094afacb256.streamlock.net/arkiv3/_definst_/sametinget/arkiv/168_97.smil/playlist.m3u8?wowzaplaystart=22264000&wowzaplayduration=124000\",\"image\":\"https://sametinget.kommunetv.no/uploads/bookmark/b4e6aee7-320e-483d-9870-bb009f55c212.jpg\",\"startTime\":\"2021-10-25T20:22:36\",\"title\":\"Valg av medlemmer til Samisk parlamentarisk r\\xc3\\xa5d\"},{\"bookmarkId\":2900,\"description\":\"Sametingets plenum 21.10.21\",\"file\":\"https://5c094afacb256.streamlock.net/arkiv3/_definst_/sametinget/arkiv/168_97.smil/playlist.m3u8?wowzaplaystart=22389000&wowzaplayduration=642000\",\"image\":\"https://sametinget.kommunetv.no/uploads/bookmark/d6114e40-0a98-4753-945b-58b2a4397f06.jpg\",\"startTime\":\"2021-10-25T20:26:05\",\"title\":\"M\\xc3\\xb8teplan Sametingets komit\\xc3\\xa9- og plenumsm\\xc3\\xb8ter 2021 - 2022\"}],\"lf\":null,\"ll\":null,\"mainCamera\":false},{\"tupleId\":306,\"id\":168,\"streamType\":1,\"started\":\"2021-10-20T22:00:00Z\",\"duration\":23049.0,\"cameraId\":98,\"cameraName\":\"Norsk\",\"sortOrder\":2,\"playlist\":[{\"bookmarkId\":2893,\"description\":\"Sametingets plenum 21.10.21\",\"file\":\"https://5c094afacb256.streamlock.net/arkiv3/_definst_/sametinget/arkiv/168_98.smil/playlist.m3u8?wowzaplaystart=40000&wowzaplayduration=134000\",\"image\":\"https://sametinget.kommunetv.no/uploads/bookmark/e4cfd598-1efa-41aa-9e0f-b2cadbd534ce.jpg\",\"startTime\":\"2021-10-25T14:05:07\",\"title\":\"Fullmaktskomiteens innstilling om fullmaktene - godkjenning av valget\"},{\"bookmarkId\":2894,\"description\":\"Sametingets plenum 21.10.21\",\"file\":\"https://5c094afacb256.streamlock.net/arkiv3/_definst_/sametinget/arkiv/168_98.smil/playlist.m3u8?wowzaplaystart=175000&wowzaplayduration=1012000\",\"image\":\"https://sametinget.kommunetv.no/uploads/bookmark/421f91d5-3525-4b80-9c1d-8eb8cffec689.jpg\",\"startTime\":\"2021-10-25T14:07:26\",\"title\":\"Valg av plenumsledelse\"},{\"bookmarkId\":2895,\"description\":\"Sametingets plenum 21.10.21\",\"file\":\"https://5c094afacb256.streamlock.net/arkiv3/_definst_/sametinget/arkiv/168_98.smil/playlist.m3u8?wowzaplaystart=3630000&wowzaplayduration=3450000\",\"image\":\"https://sametinget.kommunetv.no/uploads/bookmark/e8534232-7b54-43cd-b956-68ffa775d1d5.jpg\",\"startTime\":\"2021-10-25T15:01:01\",\"title\":\"Valg av Sametingets president\"},{\"bookmarkId\":2896,\"description\":\"Sametingets plenum 21.10.21\",\"file\":\"https://5c094afacb256.streamlock.net/arkiv3/_definst_/sametinget/arkiv/168_98.smil/playlist.m3u8?wowzaplaystart=7080000&wowzaplayduration=392000\",\"image\":\"https://sametinget.kommunetv.no/uploads/bookmark/823be9f1-2f2b-48f0-a17d-5dacb54f2100.jpg\",\"startTime\":\"2021-10-25T16:05:03\",\"title\":\"Valg av valgkomit\\xc3\\xa9\"},{\"bookmarkId\":2897,\"description\":\"Sametingets plenum 21.10.21\",\"file\":\"https://5c094afacb256.streamlock.net/arkiv3/_definst_/sametinget/arkiv/168_98.smil/playlist.m3u8?wowzaplaystart=21580000&wowzaplayduration=140000\",\"image\":\"https://sametinget.kommunetv.no/uploads/bookmark/7810843d-d4eb-4052-9cce-821b72aa6794.jpg\",\"startTime\":\"2021-10-25T20:09:12\",\"title\":\"Valg av kontrollutvalg\"},{\"bookmarkId\":2898,\"description\":\"Sametingets plenum 21.10.21\",\"file\":\"https://5c094afacb256.streamlock.net/arkiv3/_definst_/sametinget/arkiv/168_98.smil/playlist.m3u8?wowzaplaystart=21721000&wowzaplayduration=542000\",\"image\":\"https://sametinget.kommunetv.no/uploads/bookmark/25252b1e-674a-444d-a330-dc37f207add1.jpg\",\"startTime\":\"2021-10-25T20:12:11\",\"title\":\"Valg av fagkomiteer\"},{\"bookmarkId\":2899,\"description\":\"Sametingets plenum 21.10.21\",\"file\":\"https://5c094afacb256.streamlock.net/arkiv3/_definst_/sametinget/arkiv/168_98.smil/playlist.m3u8?wowzaplaystart=22264000&wowzaplayduration=124000\",\"image\":\"https://sametinget.kommunetv.no/uploads/bookmark/b4e6aee7-320e-483d-9870-bb009f55c212.jpg\",\"startTime\":\"2021-10-25T20:22:36\",\"title\":\"Valg av medlemmer til Samisk parlamentarisk r\\xc3\\xa5d\"},{\"bookmarkId\":2900,\"description\":\"Sametingets plenum 21.10.21\",\"file\":\"https://5c094afacb256.streamlock.net/arkiv3/_definst_/sametinget/arkiv/168_98.smil/playlist.m3u8?wowzaplaystart=22389000&wowzaplayduration=642000\",\"image\":\"https://sametinget.kommunetv.no/uploads/bookmark/d6114e40-0a98-4753-945b-58b2a4397f06.jpg\",\"startTime\":\"2021-10-25T20:26:05\",\"title\":\"M\\xc3\\xb8teplan Sametingets komit\\xc3\\xa9- og plenumsm\\xc3\\xb8ter 2021 - 2022\"}],\"lf\":null,\"ll\":null,\"mainCamera\":false},{\"tupleId\":306,\"id\":168,\"streamType\":1,\"started\":\"2021-10-20T22:00:00Z\",\"duration\":23049.0,\"cameraId\":99,\"cameraName\":\"Davvis\\xc3\\xa1megiella\",\"sortOrder\":3,\"playlist\":[{\"bookmarkId\":2893,\"description\":\"Sametingets plenum 21.10.21\",\"file\":\"https://5c094afacb256.streamlock.net/arkiv3/_definst_/sametinget/arkiv/168_99.smil/playlist.m3u8?wowzaplaystart=40000&wowzaplayduration=134000\",\"image\":\"https://sametinget.kommunetv.no/uploads/bookmark/e4cfd598-1efa-41aa-9e0f-b2cadbd534ce.jpg\",\"startTime\":\"2021-10-25T14:05:07\",\"title\":\"Fullmaktskomiteens innstilling om fullmaktene - godkjenning av valget\"},{\"bookmarkId\":2894,\"description\":\"Sametingets plenum 21.10.21\",\"file\":\"https://5c094afacb256.streamlock.net/arkiv3/_definst_/sametinget/arkiv/168_99.smil/playlist.m3u8?wowzaplaystart=175000&wowzaplayduration=1012000\",\"image\":\"https://sametinget.kommunetv.no/uploads/bookmark/421f91d5-3525-4b80-9c1d-8eb8cffec689.jpg\",\"startTime\":\"2021-10-25T14:07:26\",\"title\":\"Valg av plenumsledelse\"},{\"bookmarkId\":2895,\"description\":\"Sametingets plenum 21.10.21\",\"file\":\"https://5c094afacb256.streamlock.net/arkiv3/_definst_/sametinget/arkiv/168_99.smil/playlist.m3u8?wowzaplaystart=3630000&wowzaplayduration=3450000\",\"image\":\"https://sametinget.kommunetv.no/uploads/bookmark/e8534232-7b54-43cd-b956-68ffa775d1d5.jpg\",\"startTime\":\"2021-10-25T15:01:01\",\"title\":\"Valg av Sametingets president\"},{\"bookmarkId\":2896,\"description\":\"Sametingets plenum 21.10.21\",\"file\":\"https://5c094afacb256.streamlock.net/arkiv3/_definst_/sametinget/arkiv/168_99.smil/playlist.m3u8?wowzaplaystart=7080000&wowzaplayduration=392000\",\"image\":\"https://sametinget.kommunetv.no/uploads/bookmark/823be9f1-2f2b-48f0-a17d-5dacb54f2100.jpg\",\"startTime\":\"2021-10-25T16:05:03\",\"title\":\"Valg av valgkomit\\xc3\\xa9\"},{\"bookmarkId\":2897,\"description\":\"Sametingets plenum 21.10.21\",\"file\":\"https://5c094afacb256.streamlock.net/arkiv3/_definst_/sametinget/arkiv/168_99.smil/playlist.m3u8?wowzaplaystart=21580000&wowzaplayduration=140000\",\"image\":\"https://sametinget.kommunetv.no/uploads/bookmark/7810843d-d4eb-4052-9cce-821b72aa6794.jpg\",\"startTime\":\"2021-10-25T20:09:12\",\"title\":\"Valg av kontrollutvalg\"},{\"bookmarkId\":2898,\"description\":\"Sametingets plenum 21.10.21\",\"file\":\"https://5c094afacb256.streamlock.net/arkiv3/_definst_/sametinget/arkiv/168_99.smil/playlist.m3u8?wowzaplaystart=21721000&wowzaplayduration=542000\",\"image\":\"https://sametinget.kommunetv.no/uploads/bookmark/25252b1e-674a-444d-a330-dc37f207add1.jpg\",\"startTime\":\"2021-10-25T20:12:11\",\"title\":\"Valg av fagkomiteer\"},{\"bookmarkId\":2899,\"description\":\"Sametingets plenum 21.10.21\",\"file\":\"https://5c094afacb256.streamlock.net/arkiv3/_definst_/sametinget/arkiv/168_99.smil/playlist.m3u8?wowzaplaystart=22264000&wowzaplayduration=124000\",\"image\":\"https://sametinget.kommunetv.no/uploads/bookmark/b4e6aee7-320e-483d-9870-bb009f55c212.jpg\",\"startTime\":\"2021-10-25T20:22:36\",\"title\":\"Valg av medlemmer til Samisk parlamentarisk r\\xc3\\xa5d\"},{\"bookmarkId\":2900,\"description\":\"Sametingets plenum 21.10.21\",\"file\":\"https://5c094afacb256.streamlock.net/arkiv3/_definst_/sametinget/arkiv/168_99.smil/playlist.m3u8?wowzaplaystart=22389000&wowzaplayduration=642000\",\"image\":\"https://sametinget.kommunetv.no/uploads/bookmark/d6114e40-0a98-4753-945b-58b2a4397f06.jpg\",\"startTime\":\"2021-10-25T20:26:05\",\"title\":\"M\\xc3\\xb8teplan Sametingets komit\\xc3\\xa9- og plenumsm\\xc3\\xb8ter 2021 - 2022\"}],\"lf\":null,\"ll\":null,\"mainCamera\":false},{\"tupleId\":306,\"id\":168,\"streamType\":1,\"started\":\"2021-10-20T22:00:00Z\",\"duration\":23049.0,\"cameraId\":100,\"cameraName\":\"Julevs\\xc3\\xa1megiella\",\"sortOrder\":4,\"playlist\":[{\"bookmarkId\":2893,\"description\":\"Sametingets plenum 21.10.21\",\"file\":\"https://5c094afacb256.streamlock.net/arkiv3/_definst_/sametinget/arkiv/168_100.smil/playlist.m3u8?wowzaplaystart=40000&wowzaplayduration=134000\",\"image\":\"https://sametinget.kommunetv.no/uploads/bookmark/e4cfd598-1efa-41aa-9e0f-b2cadbd534ce.jpg\",\"startTime\":\"2021-10-25T14:05:07\",\"title\":\"Fullmaktskomiteens innstilling om fullmaktene - godkjenning av valget\"},{\"bookmarkId\":2894,\"description\":\"Sametingets plenum 21.10.21\",\"file\":\"https://5c094afacb256.streamlock.net/arkiv3/_definst_/sametinget/arkiv/168_100.smil/playlist.m3u8?wowzaplaystart=175000&wowzaplayduration=1012000\",\"image\":\"https://sametinget.kommunetv.no/uploads/bookmark/421f91d5-3525-4b80-9c1d-8eb8cffec689.jpg\",\"startTime\":\"2021-10-25T14:07:26\",\"title\":\"Valg av plenumsledelse\"},{\"bookmarkId\":2895,\"description\":\"Sametingets plenum 21.10.21\",\"file\":\"https://5c094afacb256.streamlock.net/arkiv3/_definst_/sametinget/arkiv/168_100.smil/playlist.m3u8?wowzaplaystart=3630000&wowzaplayduration=3450000\",\"image\":\"https://sametinget.kommunetv.no/uploads/bookmark/e8534232-7b54-43cd-b956-68ffa775d1d5.jpg\",\"startTime\":\"2021-10-25T15:01:01\",\"title\":\"Valg av Sametingets president\"},{\"bookmarkId\":2896,\"description\":\"Sametingets plenum 21.10.21\",\"file\":\"https://5c094afacb256.streamlock.net/arkiv3/_definst_/sametinget/arkiv/168_100.smil/playlist.m3u8?wowzaplaystart=7080000&wowzaplayduration=392000\",\"image\":\"https://sametinget.kommunetv.no/uploads/bookmark/823be9f1-2f2b-48f0-a17d-5dacb54f2100.jpg\",\"startTime\":\"2021-10-25T16:05:03\",\"title\":\"Valg av valgkomit\\xc3\\xa9\"},{\"bookmarkId\":2897,\"description\":\"Sametingets plenum 21.10.21\",\"file\":\"https://5c094afacb256.streamlock.net/arkiv3/_definst_/sametinget/arkiv/168_100.smil/playlist.m3u8?wowzaplaystart=21580000&wowzaplayduration=140000\",\"image\":\"https://sametinget.kommunetv.no/uploads/bookmark/7810843d-d4eb-4052-9cce-821b72aa6794.jpg\",\"startTime\":\"2021-10-25T20:09:12\",\"title\":\"Valg av kontrollutvalg\"},{\"bookmarkId\":2898,\"description\":\"Sametingets plenum 21.10.21\",\"file\":\"https://5c094afacb256.streamlock.net/arkiv3/_definst_/sametinget/arkiv/168_100.smil/playlist.m3u8?wowzaplaystart=21721000&wowzaplayduration=542000\",\"image\":\"https://sametinget.kommunetv.no/uploads/bookmark/25252b1e-674a-444d-a330-dc37f207add1.jpg\",\"startTime\":\"2021-10-25T20:12:11\",\"title\":\"Valg av fagkomiteer\"},{\"bookmarkId\":2899,\"description\":\"Sametingets plenum 21.10.21\",\"file\":\"https://5c094afacb256.streamlock.net/arkiv3/_definst_/sametinget/arkiv/168_100.smil/playlist.m3u8?wowzaplaystart=22264000&wowzaplayduration=124000\",\"image\":\"https://sametinget.kommunetv.no/uploads/bookmark/b4e6aee7-320e-483d-9870-bb009f55c212.jpg\",\"startTime\":\"2021-10-25T20:22:36\",\"title\":\"Valg av medlemmer til Samisk parlamentarisk r\\xc3\\xa5d\"},{\"bookmarkId\":2900,\"description\":\"Sametingets plenum 21.10.21\",\"file\":\"https://5c094afacb256.streamlock.net/arkiv3/_definst_/sametinget/arkiv/168_100.smil/playlist.m3u8?wowzaplaystart=22389000&wowzaplayduration=642000\",\"image\":\"https://sametinget.kommunetv.no/uploads/bookmark/d6114e40-0a98-4753-945b-58b2a4397f06.jpg\",\"startTime\":\"2021-10-25T20:26:05\",\"title\":\"M\\xc3\\xb8teplan Sametingets komit\\xc3\\xa9- og plenumsm\\xc3\\xb8ter 2021 - 2022\"}],\"lf\":null,\"ll\":null,\"mainCamera\":false},{\"tupleId\":306,\"id\":168,\"streamType\":1,\"started\":\"2021-10-20T22:00:00Z\",\"duration\":23049.0,\"cameraId\":101,\"cameraName\":\"\\xc3\\x85arjelsaemien g\\xc3\\xafele\",\"sortOrder\":5,\"playlist\":[{\"bookmarkId\":2893,\"description\":\"Sametingets plenum 21.10.21\",\"file\":\"https://5c094afacb256.streamlock.net/arkiv3/_definst_/sametinget/arkiv/168_101.smil/playlist.m3u8?wowzaplaystart=40000&wowzaplayduration=134000\",\"image\":\"https://sametinget.kommunetv.no/uploads/bookmark/e4cfd598-1efa-41aa-9e0f-b2cadbd534ce.jpg\",\"startTime\":\"2021-10-25T14:05:07\",\"title\":\"Fullmaktskomiteens innstilling om fullmaktene - godkjenning av valget\"},{\"bookmarkId\":2894,\"description\":\"Sametingets plenum 21.10.21\",\"file\":\"https://5c094afacb256.streamlock.net/arkiv3/_definst_/sametinget/arkiv/168_101.smil/playlist.m3u8?wowzaplaystart=175000&wowzaplayduration=1012000\",\"image\":\"https://sametinget.kommunetv.no/uploads/bookmark/421f91d5-3525-4b80-9c1d-8eb8cffec689.jpg\",\"startTime\":\"2021-10-25T14:07:26\",\"title\":\"Valg av plenumsledelse\"},{\"bookmarkId\":2895,\"description\":\"Sametingets plenum 21.10.21\",\"file\":\"https://5c094afacb256.streamlock.net/arkiv3/_definst_/sametinget/arkiv/168_101.smil/playlist.m3u8?wowzaplaystart=3630000&wowzaplayduration=3450000\",\"image\":\"https://sametinget.kommunetv.no/uploads/bookmark/e8534232-7b54-43cd-b956-68ffa775d1d5.jpg\",\"startTime\":\"2021-10-25T15:01:01\",\"title\":\"Valg av Sametingets president\"},{\"bookmarkId\":2896,\"description\":\"Sametingets plenum 21.10.21\",\"file\":\"https://5c094afacb256.streamlock.net/arkiv3/_definst_/sametinget/arkiv/168_101.smil/playlist.m3u8?wowzaplaystart=7080000&wowzaplayduration=392000\",\"image\":\"https://sametinget.kommunetv.no/uploads/bookmark/823be9f1-2f2b-48f0-a17d-5dacb54f2100.jpg\",\"startTime\":\"2021-10-25T16:05:03\",\"title\":\"Valg av valgkomit\\xc3\\xa9\"},{\"bookmarkId\":2897,\"description\":\"Sametingets plenum 21.10.21\",\"file\":\"https://5c094afacb256.streamlock.net/arkiv3/_definst_/sametinget/arkiv/168_101.smil/playlist.m3u8?wowzaplaystart=21580000&wowzaplayduration=140000\",\"image\":\"https://sametinget.kommunetv.no/uploads/bookmark/7810843d-d4eb-4052-9cce-821b72aa6794.jpg\",\"startTime\":\"2021-10-25T20:09:12\",\"title\":\"Valg av kontrollutvalg\"},{\"bookmarkId\":2898,\"description\":\"Sametingets plenum 21.10.21\",\"file\":\"https://5c094afacb256.streamlock.net/arkiv3/_definst_/sametinget/arkiv/168_101.smil/playlist.m3u8?wowzaplaystart=21721000&wowzaplayduration=542000\",\"image\":\"https://sametinget.kommunetv.no/uploads/bookmark/25252b1e-674a-444d-a330-dc37f207add1.jpg\",\"startTime\":\"2021-10-25T20:12:11\",\"title\":\"Valg av fagkomiteer\"},{\"bookmarkId\":2899,\"description\":\"Sametingets plenum 21.10.21\",\"file\":\"https://5c094afacb256.streamlock.net/arkiv3/_definst_/sametinget/arkiv/168_101.smil/playlist.m3u8?wowzaplaystart=22264000&wowzaplayduration=124000\",\"image\":\"https://sametinget.kommunetv.no/uploads/bookmark/b4e6aee7-320e-483d-9870-bb009f55c212.jpg\",\"startTime\":\"2021-10-25T20:22:36\",\"title\":\"Valg av medlemmer til Samisk parlamentarisk r\\xc3\\xa5d\"},{\"bookmarkId\":2900,\"description\":\"Sametingets plenum 21.10.21\",\"file\":\"https://5c094afacb256.streamlock.net/arkiv3/_definst_/sametinget/arkiv/168_101.smil/playlist.m3u8?wowzaplaystart=22389000&wowzaplayduration=642000\",\"image\":\"https://sametinget.kommunetv.no/uploads/bookmark/d6114e40-0a98-4753-945b-58b2a4397f06.jpg\",\"startTime\":\"2021-10-25T20:26:05\",\"title\":\"M\\xc3\\xb8teplan Sametingets komit\\xc3\\xa9- og plenumsm\\xc3\\xb8ter 2021 - 2022\"}],\"lf\":null,\"ll\":null,\"mainCamera\":false}],\"proposals\":[{\"bookmarkId\":2893,\"id\":858,\"isMainProposal\":true,\"items\":[{\"proposalNumber\":null,\"proposalSortIndex\":null,\"text\":\"MAIN_PROPOSAL\"}],\"proposalTypeId\":1,\"proposers\":[],\"sortOrder\":255,\"text\":\"MAIN_PROPOSAL_DESCRIPTION\",\"tupleId\":306,\"voteEnded\":null,\"votes\":[],\"votesAgainst\":0,\"votesBlank\":0,\"votesFor\":0},{\"bookmarkId\":2894,\"id\":859,\"isMainProposal\":true,\"items\":[{\"proposalNumber\":null,\"proposalSortIndex\":null,\"text\":\"MAIN_PROPOSAL\"}],\"proposalTypeId\":1,\"proposers\":[],\"sortOrder\":255,\"text\":\"MAIN_PROPOSAL_DESCRIPTION\",\"tupleId\":306,\"voteEnded\":null,\"votes\":[],\"votesAgainst\":0,\"votesBlank\":0,\"votesFor\":0},{\"bookmarkId\":2895,\"id\":860,\"isMainProposal\":true,\"items\":[{\"proposalNumber\":null,\"proposalSortIndex\":null,\"text\":\"MAIN_PROPOSAL\"}],\"proposalTypeId\":1,\"proposers\":[],\"sortOrder\":255,\"text\":\"MAIN_PROPOSAL_DESCRIPTION\",\"tupleId\":306,\"voteEnded\":null,\"votes\":[],\"votesAgainst\":0,\"votesBlank\":0,\"votesFor\":0},{\"bookmarkId\":2896,\"id\":861,\"isMainProposal\":true,\"items\":[{\"proposalNumber\":null,\"proposalSortIndex\":null,\"text\":\"MAIN_PROPOSAL\"}],\"proposalTypeId\":1,\"proposers\":[],\"sortOrder\":255,\"text\":\"MAIN_PROPOSAL_DESCRIPTION\",\"tupleId\":306,\"voteEnded\":null,\"votes\":[],\"votesAgainst\":0,\"votesBlank\":0,\"votesFor\":0},{\"bookmarkId\":2897,\"id\":862,\"isMainProposal\":true,\"items\":[{\"proposalNumber\":null,\"proposalSortIndex\":null,\"text\":\"MAIN_PROPOSAL\"}],\"proposalTypeId\":1,\"proposers\":[],\"sortOrder\":255,\"text\":\"MAIN_PROPOSAL_DESCRIPTION\",\"tupleId\":306,\"voteEnded\":null,\"votes\":[],\"votesAgainst\":0,\"votesBlank\":0,\"votesFor\":0},{\"bookmarkId\":2898,\"id\":863,\"isMainProposal\":true,\"items\":[{\"proposalNumber\":null,\"proposalSortIndex\":null,\"text\":\"MAIN_PROPOSAL\"}],\"proposalTypeId\":1,\"proposers\":[],\"sortOrder\":255,\"text\":\"MAIN_PROPOSAL_DESCRIPTION\",\"tupleId\":306,\"voteEnded\":null,\"votes\":[],\"votesAgainst\":0,\"votesBlank\":0,\"votesFor\":0},{\"bookmarkId\":2899,\"id\":864,\"isMainProposal\":true,\"items\":[{\"proposalNumber\":null,\"proposalSortIndex\":null,\"text\":\"MAIN_PROPOSAL\"}],\"proposalTypeId\":1,\"proposers\":[],\"sortOrder\":255,\"text\":\"MAIN_PROPOSAL_DESCRIPTION\",\"tupleId\":306,\"voteEnded\":null,\"votes\":[],\"votesAgainst\":0,\"votesBlank\":0,\"votesFor\":0},{\"bookmarkId\":2900,\"id\":865,\"isMainProposal\":true,\"items\":[{\"proposalNumber\":null,\"proposalSortIndex\":null,\"text\":\"MAIN_PROPOSAL\"}],\"proposalTypeId\":1,\"proposers\":[],\"sortOrder\":255,\"text\":\"MAIN_PROPOSAL_DESCRIPTION\",\"tupleId\":306,\"voteEnded\":null,\"votes\":[],\"votesAgainst\":0,\"votesBlank\":0,\"votesFor\":0}],\"references\":[]}'"
      ]
     },
     "execution_count": 7,
     "metadata": {},
     "output_type": "execute_result"
    }
   ],
   "source": [
    "sample_req.content"
   ]
  },
  {
   "cell_type": "code",
   "execution_count": 8,
   "metadata": {},
   "outputs": [],
   "source": [
    "import json"
   ]
  },
  {
   "cell_type": "code",
   "execution_count": 9,
   "metadata": {},
   "outputs": [],
   "source": [
    "sample_data = json.loads(sample_req.content)"
   ]
  },
  {
   "cell_type": "code",
   "execution_count": 12,
   "metadata": {},
   "outputs": [
    {
     "data": {
      "text/plain": [
       "['stream',\n",
       " 'bookmarks',\n",
       " 'speakerEntries',\n",
       " 'messages',\n",
       " 'comments',\n",
       " 'playlist',\n",
       " 'proposals',\n",
       " 'references']"
      ]
     },
     "execution_count": 12,
     "metadata": {},
     "output_type": "execute_result"
    }
   ],
   "source": [
    "[x for x in sample_data.keys()]"
   ]
  },
  {
   "cell_type": "code",
   "execution_count": 15,
   "metadata": {},
   "outputs": [
    {
     "data": {
      "text/plain": [
       "['allowNewComments',\n",
       " 'assetId',\n",
       " 'assetCopyrightText',\n",
       " 'attachments',\n",
       " 'availableFrom',\n",
       " 'availableTo',\n",
       " 'categoryId',\n",
       " 'description',\n",
       " 'hideComments',\n",
       " 'id',\n",
       " 'imageUrl',\n",
       " 'publishDate',\n",
       " 'streamType',\n",
       " 'title',\n",
       " 'tupleId',\n",
       " 'views',\n",
       " 'externalCode',\n",
       " 'movieConfiguration',\n",
       " 'hidden',\n",
       " 'likes',\n",
       " 'dislikes']"
      ]
     },
     "execution_count": 15,
     "metadata": {},
     "output_type": "execute_result"
    }
   ],
   "source": [
    "[x for x in sample_data['stream'].keys()]"
   ]
  },
  {
   "cell_type": "code",
   "execution_count": 18,
   "metadata": {},
   "outputs": [
    {
     "data": {
      "text/plain": [
       "[]"
      ]
     },
     "execution_count": 18,
     "metadata": {},
     "output_type": "execute_result"
    }
   ],
   "source": [
    "sample_data['speakerEntries']"
   ]
  }
 ],
 "metadata": {
  "kernelspec": {
   "display_name": "nemo_tts",
   "language": "python",
   "name": "python3"
  },
  "language_info": {
   "codemirror_mode": {
    "name": "ipython",
    "version": 3
   },
   "file_extension": ".py",
   "mimetype": "text/x-python",
   "name": "python",
   "nbconvert_exporter": "python",
   "pygments_lexer": "ipython3",
   "version": "3.10.10"
  },
  "orig_nbformat": 4
 },
 "nbformat": 4,
 "nbformat_minor": 2
}
