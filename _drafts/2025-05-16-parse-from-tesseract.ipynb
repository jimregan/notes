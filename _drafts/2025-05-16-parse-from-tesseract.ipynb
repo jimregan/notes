{
  "cells": [
    {
      "cell_type": "markdown",
      "metadata": {},
      "source": [
        "# Parse from Tesseract output\n",
        "\n",
        "> \"Using Stanza, for Irish\"\n",
        "\n",
        "- branch: master\n",
        "- categories: [tesseract, stanza, irish]"
      ]
    },
    {
      "cell_type": "code",
      "execution_count": 1,
      "metadata": {
        "id": "gq4eL7Xj9psB"
      },
      "outputs": [],
      "source": [
        "%%capture\n",
        "!pip install stanza"
      ]
    },
    {
      "cell_type": "code",
      "execution_count": null,
      "metadata": {
        "id": "PHI6wzlqAk3t"
      },
      "outputs": [],
      "source": [
        "import json\n",
        "import stanza"
      ]
    },
    {
      "cell_type": "code",
      "execution_count": 5,
      "metadata": {
        "id": "a1WtCT_ZArRt"
      },
      "outputs": [],
      "source": [
        "stanza.download(\"ga\", processors=\"tokenize,pos,lemma,depparse\", verbose=False)\n",
        "\n",
        "nlp = stanza.Pipeline(\n",
        "    lang=\"ga\",\n",
        "    processors=\"tokenize,pos,lemma,depparse\",\n",
        "    # Let Stanza decide sentences & tokens\n",
        "    tokenize_pretokenized=True,\n",
        "    no_ssplit=True,\n",
        "    verbose=False\n",
        ")"
      ]
    },
    {
      "cell_type": "code",
      "execution_count": 11,
      "metadata": {
        "id": "IKupmgct-b-Q"
      },
      "outputs": [],
      "source": [
        "paras = [x.replace(\"\\n\", \" \") for x in PAGE.split(\"\\n\\n\")]"
      ]
    },
    {
      "cell_type": "code",
      "execution_count": 7,
      "metadata": {
        "id": "tYWPdPb286bi"
      },
      "outputs": [],
      "source": [
        "nlp_tok = stanza.Pipeline(\n",
        "    lang=\"ga\",\n",
        "    processors=\"tokenize,pos,lemma,depparse\",\n",
        "    tokenize_pretokenized=False,\n",
        "    verbose=False\n",
        ")"
      ]
    },
    {
      "cell_type": "code",
      "execution_count": null,
      "metadata": {
        "colab": {
          "base_uri": "https://localhost:8080/"
        },
        "id": "PYDAYg3OJrJG",
        "outputId": "be56da38-887d-4621-d499-2d1b4f9b5d3e"
      },
      "outputs": [],
      "source": [
        "!pip install pytesseract opencv-python-headless"
      ]
    },
    {
      "cell_type": "code",
      "execution_count": null,
      "metadata": {
        "colab": {
          "base_uri": "https://localhost:8080/"
        },
        "id": "hIK_8uwOJztG",
        "outputId": "f64a62f5-c9d3-4514-9c3c-910710e6605a"
      },
      "outputs": [],
      "source": [
        "!sudo apt install tesseract-ocr tesseract-ocr-gle"
      ]
    },
    {
      "cell_type": "code",
      "execution_count": 36,
      "metadata": {
        "id": "fLBCzBqRP0j6"
      },
      "outputs": [],
      "source": [
        "import requests\n",
        "import numpy as np\n",
        "import os\n",
        "\n",
        "def read_image_from_url(url):\n",
        "    response = requests.get(url)\n",
        "    image_array = np.frombuffer(response.content, np.uint8)\n",
        "    image = cv2.imdecode(image_array, cv2.IMREAD_COLOR)\n",
        "    return image"
      ]
    },
    {
      "cell_type": "code",
      "execution_count": 24,
      "metadata": {
        "id": "OKgDKshVK-U9"
      },
      "outputs": [],
      "source": [
        "import pytesseract\n",
        "import cv2\n",
        "\n",
        "def extract_text_from_bbox(image_path, bbox, lang=\"gle\"):\n",
        "    image = cv2.imread(image_path)\n",
        "\n",
        "    # Extract the region of interest\n",
        "    x1, y1, x2, y2 = bbox\n",
        "    roi = image[y1:y2, x1:x2]\n",
        "\n",
        "    # Convert the ROI to grayscale\n",
        "    gray = cv2.cvtColor(roi, cv2.COLOR_BGR2GRAY)\n",
        "\n",
        "    text = pytesseract.image_to_string(gray, lang=lang)\n",
        "\n",
        "    return text"
      ]
    },
    {
      "cell_type": "code",
      "execution_count": 67,
      "metadata": {
        "id": "7Vfq6LamP5Ps"
      },
      "outputs": [],
      "source": [
        "import pytesseract\n",
        "import cv2\n",
        "from IPython.display import display, Image\n",
        "import io\n",
        "\n",
        "def extract_text_from_bbox_and_url(url, bbox, lang=\"gle\"):\n",
        "    image = read_image_from_url(url)\n",
        "\n",
        "    # Extract the region of interest\n",
        "    x1, y1, x2, y2 = bbox\n",
        "    roi = image[y1:y2, x1:x2]\n",
        "\n",
        "    # Convert the ROI to grayscale\n",
        "    gray = cv2.cvtColor(roi, cv2.COLOR_BGR2GRAY)\n",
        "\n",
        "    _, buffer = cv2.imencode('.png', roi)\n",
        "    io_buf = io.BytesIO(buffer)\n",
        "    display(Image(io_buf.getvalue()))\n",
        "\n",
        "    text = pytesseract.image_to_string(gray, lang=lang)\n",
        "\n",
        "    return text"
      ]
    },
    {
      "cell_type": "code",
      "execution_count": 39,
      "metadata": {
        "id": "bFb-zLtyLQe0"
      },
      "outputs": [],
      "source": [
        "import requests\n",
        "from bs4 import BeautifulSoup\n",
        "\n",
        "def get_image_selector_from_url(url, selector):\n",
        "    req = requests.get(url)\n",
        "    assert req.status_code == 200, f\"Failed to fetch {url}\"\n",
        "    soup = BeautifulSoup(req.text, 'html.parser')\n",
        "    element = soup.select_one(selector)\n",
        "    if element:\n",
        "        return element['src']\n",
        "    else:\n",
        "        return None"
      ]
    },
    {
      "cell_type": "code",
      "execution_count": 106,
      "metadata": {
        "id": "vVI6NWufdgIh"
      },
      "outputs": [],
      "source": [
        "def get_image_from_data(url, selector, bbox_text):\n",
        "    bbox = [int(x) for x in bbox_text.split(\" \")]\n",
        "    img = get_image_selector_from_url(url, selector)\n",
        "    return extract_text_from_bbox_and_url(img, bbox)"
      ]
    },
    {
      "cell_type": "code",
      "execution_count": null,
      "metadata": {
        "colab": {
          "base_uri": "https://localhost:8080/",
          "height": 78
        },
        "id": "quVuJ55fLzgR",
        "outputId": "9dc113d9-c5f1-403a-eb72-d59875031333"
      },
      "outputs": [],
      "source": [
        "b = get_image_from_data(\"https://www.leighleat.com/pages/1803\", \"#ajax-page-container > div > div:nth-child(2) > img\", \"297 681 725 742\")"
      ]
    },
    {
      "cell_type": "code",
      "execution_count": null,
      "metadata": {
        "colab": {
          "base_uri": "https://localhost:8080/"
        },
        "id": "2aU90T5bL9cO",
        "outputId": "14a5b699-0523-4f24-8d24-02c96bfd064f"
      },
      "outputs": [],
      "source": [
        "lines = \"{:C}\".format(nlp_tok(b)).split(\"\\n\")\n",
        "print(\"\\n\".join(lines))"
      ]
    }
  ],
  "metadata": {
    "colab": {
      "provenance": []
    },
    "kernelspec": {
      "display_name": "stanza",
      "language": "python",
      "name": "python3"
    },
    "language_info": {
      "name": "python",
      "version": "3.10.17"
    }
  },
  "nbformat": 4,
  "nbformat_minor": 0
}
