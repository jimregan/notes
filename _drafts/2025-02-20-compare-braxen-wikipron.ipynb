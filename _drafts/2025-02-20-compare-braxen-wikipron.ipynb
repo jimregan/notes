{
 "cells": [
  {
   "cell_type": "code",
   "execution_count": 1,
   "metadata": {},
   "outputs": [],
   "source": [
    "BRAXEN_MAIN = []\n",
    "with open(\"/Users/joregan/Playing/braxen/main2.txt\") as inf:\n",
    "    for line in inf.readlines():\n",
    "        parts = line.strip().split(\"\\t\")\n",
    "        BRAXEN_MAIN.append(parts)"
   ]
  },
  {
   "cell_type": "code",
   "execution_count": 4,
   "metadata": {},
   "outputs": [],
   "source": [
    "BRAXEN_DICT = {}\n",
    "for line in BRAXEN_MAIN:\n",
    "    if not line[0] in BRAXEN_DICT:\n",
    "        BRAXEN_DICT[line[0]] = []\n",
    "    BRAXEN_DICT[line[0]].append(line[1])"
   ]
  },
  {
   "cell_type": "code",
   "execution_count": 8,
   "metadata": {},
   "outputs": [],
   "source": [
    "WIKIPRON_SWE = {}\n",
    "with open(\"/Users/joregan/Playing/wikipron/data/scrape/tsv/swe_latn_broad.tsv\") as inf:\n",
    "    for line in inf.readlines():\n",
    "        word, pron = line.strip().split(\"\\t\")\n",
    "        if not word in WIKIPRON_SWE:\n",
    "            WIKIPRON_SWE[word] = []\n",
    "        WIKIPRON_SWE[word].append(pron)\n"
   ]
  },
  {
   "cell_type": "code",
   "execution_count": 12,
   "metadata": {},
   "outputs": [],
   "source": [
    "merge = {}\n",
    "for word in BRAXEN_DICT:\n",
    "    if word in WIKIPRON_SWE:\n",
    "        merge[word] = BRAXEN_DICT[word] + WIKIPRON_SWE[word]"
   ]
  },
  {
   "cell_type": "code",
   "execution_count": 17,
   "metadata": {},
   "outputs": [],
   "source": [
    "with open(\"/tmp/merged.tsv\", \"w\") as outf:\n",
    "    for word in merge:\n",
    "        words = \"\\t\".join(merge[word])\n",
    "        outf.write(f'{word}\\t{words}\\n')"
   ]
  },
  {
   "cell_type": "markdown",
   "metadata": {},
   "source": [
    "mˠə  cial̪ˠ fʲeːn̪ˠɪɟə n̪ˠ t̪ˠahˠəɾʲpʲad̪ˠəɾˠoːl̪ˠeːɾʲɛmˠə hʲiːn̠ʲʃəɾˠsˠə vʲɾʲian̪ˠd̪ˠiːɕɪntʲiəɾˠn̪ˠəmʲiːɾʲɪɕeːçd̪ˠə d̪ˠoː bʲʃɪkahˠɛɾˠ ɣeːl̪ˠ ɪvʲaɡə sˠɛɾˠ n̪ˠ d̪ˠɑːeːeːeːoːn̠ʲeːɾʲaɡə sˠeːɾ̥ˠuəoːd̪ˠɑːn̪ˠɛɾʲ n̪ˠaciː ʊn̪ˠ t̪ˠalʲɛfʲ  n̪ˠeːmʲlian̪ˠə kaʧɾʲn̪ˠoːɕɪnɪ  mˠiːtʲɾʲ n̪ˠə hˠhʲeːɾʲɪɪtʲɪɡɪʤiːn̪ˠə ɡɪn vʲə n̪ˠaud̪ˠɛɾʲ sˠʌn̪ˠə hˠhʲeːən̪ˠaɡ sˠɛɾʲsˠən̪ˠəɪ çɾʲɛɾʲɪvʲaɡ sˠ  ɡahˠən̪ˠə   l̪ˠeːmʲl̠ʲian̪ˠsˠən̪ˠə ɾˠʊ ɡə d̪ˠəɾˠ uːaɾˠn̪ˠə ɡal̪ˠəvʲ"
   ]
  },
  {
   "cell_type": "markdown",
   "metadata": {},
   "source": [
    "mˠə ʃcial̪ˠ fʲeːn̪ˠ\n",
    "ɪɟ ən̪ˠ t̪ˠahˠəɾʲ pʲad̪ˠəɾˠ oː l̪ˠeːɾʲɛ\n",
    "mˠə hʲiːn̠ʲʃəɾˠ\n",
    "sˠə vʲlʲian̪ˠ d̪ˠiːʃ ɪn tʲiəɾˠn̪ˠə mʲiːlʲɪ ʃeː çeːd̪ˠ ə d̪ˠoː d̪ˠə bʲɾʲɪʃɪ kahˠ ɛɾˠ ɣeːl̪ˠɪvʲ aɡəsˠ ɛɾˠ ən̪ˠ d̪ˠɑː eː eː oː n̠ʲeːlʲ aɡəsˠ eː ɾ̥ˠuə oː d̪ˠoːn̪ˠɪlʲ ɪn̪ˠ acɪ çʊn̪ˠ t̪ˠalʲɛ\n",
    "vʲiː n̪ˠeː mʲlian̪ˠə katʲɪ n̪ˠ uːɾʲ ʃɪn̪ˠ ɪɟ mˠiːn̠ʲtʲɪɾʲ n̪ˠə hʲeːɾʲɪn̪ˠ ɪɟ t̪ˠɾˠɪdʲ ɡɪ dʲiːn̪ˠ ə ɡɪnɪvʲ ə n̪ˠaud̪ˠ ɛɾʲ sˠʌn̪ ˠə hˠhʲeːən̪ˠ aɡ sˠ ɛɾʲ sˠən̪ˠ əɪ çɾʲɛdʲɪvʲ aɡ sˠ ɡahˠən̪ˠə  l̪ˠeː mʲl̠ʲian̪ˠ sˠən̪ˠ ə ɾˠʊɡəd̪ˠəɾˠ uːa ɾˠ n̪ˠə ɡal̪ˠəvʲ"
   ]
  }
 ],
 "metadata": {
  "kernelspec": {
   "display_name": "ctcseg",
   "language": "python",
   "name": "python3"
  },
  "language_info": {
   "codemirror_mode": {
    "name": "ipython",
    "version": 3
   },
   "file_extension": ".py",
   "mimetype": "text/x-python",
   "name": "python",
   "nbconvert_exporter": "python",
   "pygments_lexer": "ipython3",
   "version": "3.10.4"
  }
 },
 "nbformat": 4,
 "nbformat_minor": 2
}
