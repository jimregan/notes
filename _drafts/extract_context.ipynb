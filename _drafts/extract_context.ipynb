{
 "cells": [
  {
   "cell_type": "code",
   "execution_count": 192,
   "metadata": {},
   "outputs": [],
   "source": [
    "import json\n",
    "from pathlib import Path\n",
    "\n",
    "TSV_PATH = Path(\"/Users/joregan/Playing/hsi/annotations/word_annotations/main\")\n",
    "JSON_PATH = Path(\"/Users/joregan/Playing/hsi/annotations/final_resolved\")\n",
    "\n",
    "with open(\"/Users/joregan/Playing/hsi/annotations/all_meta.json\") as inf:\n",
    "    data = json.load(inf)"
   ]
  },
  {
   "cell_type": "code",
   "execution_count": 193,
   "metadata": {},
   "outputs": [],
   "source": [
    "old_json = {}\n",
    "tsv_cache = {}"
   ]
  },
  {
   "cell_type": "code",
   "execution_count": 194,
   "metadata": {},
   "outputs": [],
   "source": [
    "def get_topic_context(segments, segment_id, size=None, keep_topic=True):\n",
    "    rec_id = segments[segment_id][\"recording_id\"]\n",
    "    orig_seg_id = segments[segment_id][\"segment_id\"]\n",
    "    if not \"recording_id\" in old_json:\n",
    "        with open(JSON_PATH / f\"{rec_id}.json\") as inf:\n",
    "            old_json[\"recording_id\"] = json.load(inf)\n",
    "    original = old_json[\"recording_id\"]\n",
    "    orig_keys = list(original.keys())\n",
    "    orig_topic = original[orig_seg_id][\"high_level\"][\"current_topic\"]\n",
    "\n",
    "    index = orig_keys.index(orig_seg_id)\n",
    "    if size is None:\n",
    "        start = 0\n",
    "    else:\n",
    "        start = index - size\n",
    "    ctx_range = orig_keys[start:index]\n",
    "\n",
    "    if len(ctx_range) < size:\n",
    "        if int(orig_seg_id) <= size:\n",
    "            pass\n",
    "        else:\n",
    "            print(f\"Warning: size of {size} cannot be satisfied: {ctx_range}\")\n",
    "    \n",
    "    topics = [original[x][\"high_level\"][\"current_topic\"] for x in ctx_range]\n",
    "\n",
    "    tmp = []\n",
    "    for p in zip(ctx_range, topics):\n",
    "        if not keep_topic:\n",
    "            tmp.append(original[p[0]][\"snippet\"])\n",
    "        elif keep_topic and p[1] == orig_topic:\n",
    "            tmp.append(original[p[0]][\"snippet\"])\n",
    "        else:\n",
    "            tmp.append(None)\n",
    "    return \" \".join([x for x in tmp if x is not None])"
   ]
  },
  {
   "cell_type": "code",
   "execution_count": 195,
   "metadata": {},
   "outputs": [
    {
     "data": {
      "text/plain": [
       "'This [loud locking noise] this pillow. Um.'"
      ]
     },
     "execution_count": 195,
     "metadata": {},
     "output_type": "execute_result"
    }
   ],
   "source": [
    "get_topic_context(data, \"11\", 5, True)"
   ]
  },
  {
   "cell_type": "code",
   "execution_count": 196,
   "metadata": {},
   "outputs": [],
   "source": [
    "def get_time_context(segments, segment_id, ctx_time = 5.0):\n",
    "    rec_id = segments[segment_id][\"recording_id\"]\n",
    "    start = segments[segment_id][\"timing\"][\"utterance_start\"]\n",
    "\n",
    "    if not rec_id in tsv_cache:\n",
    "        with open(TSV_PATH / f\"{rec_id}_main.tsv\") as inf:\n",
    "            lines = []\n",
    "            for line in inf.readlines():\n",
    "                line = line.strip()\n",
    "                if \"\\t\" in line:\n",
    "                    lines.append(line.split(\"\\t\"))\n",
    "            tsv_cache[rec_id] = lines\n",
    "\n",
    "    tsv_times = tsv_cache[rec_id]\n",
    "    extract = []\n",
    "    for time in tsv_times:\n",
    "        s = float(time[0])\n",
    "        e = float(time[1])\n",
    "        if s >= (start - ctx_time) and (e < start):\n",
    "            extract.append(time[2])\n",
    "    return \" \".join(extract)\n",
    "\n",
    "    "
   ]
  },
  {
   "cell_type": "code",
   "execution_count": 197,
   "metadata": {},
   "outputs": [
    {
     "data": {
      "text/plain": [
       "'yeah ok ok'"
      ]
     },
     "execution_count": 197,
     "metadata": {},
     "output_type": "execute_result"
    }
   ],
   "source": [
    "get_time_context(data, \"12\", 5.0)"
   ]
  },
  {
   "cell_type": "markdown",
   "metadata": {},
   "source": [
    "* Cluster utterance lengths\n",
    "- by speaker"
   ]
  }
 ],
 "metadata": {
  "kernelspec": {
   "display_name": "nst-tts",
   "language": "python",
   "name": "python3"
  },
  "language_info": {
   "codemirror_mode": {
    "name": "ipython",
    "version": 3
   },
   "file_extension": ".py",
   "mimetype": "text/x-python",
   "name": "python",
   "nbconvert_exporter": "python",
   "pygments_lexer": "ipython3",
   "version": "3.10.9"
  }
 },
 "nbformat": 4,
 "nbformat_minor": 2
}
