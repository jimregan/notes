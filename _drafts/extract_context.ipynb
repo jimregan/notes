{
 "cells": [
  {
   "cell_type": "code",
   "execution_count": 81,
   "metadata": {},
   "outputs": [],
   "source": [
    "from pathlib import Path\n",
    "TSV_PATH = Path(\"/Users/joregan/Playing/hsi/annotations/word_annotations/main\")\n",
    "JSON_PATH = Path(\"/Users/joregan/Playing/hsi/annotations/final_resolved\")"
   ]
  },
  {
   "cell_type": "code",
   "execution_count": 40,
   "metadata": {},
   "outputs": [],
   "source": [
    "import json\n",
    "\n",
    "with open(\"/Users/joregan/Playing/hsi/annotations/all_meta.json\") as inf:\n",
    "    data = json.load(inf)"
   ]
  },
  {
   "cell_type": "code",
   "execution_count": 84,
   "metadata": {},
   "outputs": [
    {
     "data": {
      "text/plain": [
       "{'recording_id': 'hsi_3_0715_209_008',\n",
       " 'segment_id': '42',\n",
       " 'phrase': 'the Rug',\n",
       " 'utterance': 'Did you move the Rug like in front of the...',\n",
       " 'object_id': 'Rug',\n",
       " 'object_name': 'Rug',\n",
       " 'frame_number': 2756,\n",
       " 'image_paths': {'color': 'images/color/hsi_3_0715_209_008_42_color.png',\n",
       "  'depth': 'images/depth/hsi_3_0715_209_008_42_depth.png',\n",
       "  'overlay': 'images/overlay/hsi_3_0715_209_008_42_overlay.png',\n",
       "  'mask': 'images/masks/hsi_3_0715_209_008_42_mask.png'},\n",
       " 'topic': 'Rug',\n",
       " 'timing': {'phrase_start': 183.735,\n",
       "  'phrase_end': 184.295,\n",
       "  'utterance_start': 183.5558059638532,\n",
       "  'utterance_end': 195.32878031395185},\n",
       " 'meta_id': 12}"
      ]
     },
     "execution_count": 84,
     "metadata": {},
     "output_type": "execute_result"
    }
   ],
   "source": [
    "data[\"12\"]"
   ]
  },
  {
   "cell_type": "code",
   "execution_count": 54,
   "metadata": {},
   "outputs": [],
   "source": [
    "allsegments = {}\n",
    "\n",
    "for item in data:\n",
    "    if not data[item][\"recording_id\"] in allsegments:\n",
    "        allsegments[data[item][\"recording_id\"]] = []\n",
    "    allsegments[data[item][\"recording_id\"]].append(data[item][\"segment_id\"])\n",
    "\n",
    "for seg in allsegments:\n",
    "    allsegments[seg].sort(key =lambda x: int(x))"
   ]
  },
  {
   "cell_type": "code",
   "execution_count": null,
   "metadata": {},
   "outputs": [],
   "source": [
    "def get_snippet(data, segment):\n",
    "    seg_id = segment[\"segment_id\"]\n",
    "    seg_start = segment[\"timing\"][\"utterance_start\"]\n",
    "    seg_end = segment[\"timing\"][\"utterance_end\"]\n",
    "    simple = data[seg_id]\n",
    "    if simple[\"general\"][\"start\"] == seg_start and simple[\"general\"][\"end\"] == seg_end:\n",
    "        return simple[\"snippet\"]\n",
    "    else:\n",
    "        return None"
   ]
  },
  {
   "cell_type": "code",
   "execution_count": 86,
   "metadata": {},
   "outputs": [],
   "source": [
    "old_json = {}"
   ]
  },
  {
   "cell_type": "code",
   "execution_count": 126,
   "metadata": {},
   "outputs": [],
   "source": [
    "def get_topic_context(segments, segment_id, size=None, keep_topic=True):\n",
    "    current_topic = segments[segment_id][\"topic\"]\n",
    "    rec_id = segments[segment_id][\"recording_id\"]\n",
    "    orig_seg_id = segments[segment_id][\"segment_id\"]\n",
    "    if not \"recording_id\" in old_json:\n",
    "        with open(JSON_PATH / f\"{rec_id}.json\") as inf:\n",
    "            old_json[\"recording_id\"] = json.load(inf)\n",
    "    original = old_json[\"recording_id\"]\n",
    "    orig_keys = list(original.keys())\n",
    "\n",
    "    index = orig_keys.index(orig_seg_id)\n",
    "    print(index)\n",
    "    if size is None:\n",
    "        start = 0\n",
    "    else:\n",
    "        start = index - size\n",
    "    ctx_range = orig_keys[start:index]\n",
    "\n",
    "    if len(ctx_range) < size:\n",
    "        if int(orig_seg_id) <= size:\n",
    "            pass\n",
    "        else:\n",
    "            print(f\"Warning: size of {size} cannot be satisfied: {ctx_range}\")\n",
    "    \n",
    "    topics = [original[x][\"high_level\"][\"current_topic\"] for x in ctx_range]\n",
    "    # if keep_topic:\n",
    "    #     tmp = []\n",
    "    #     for p in zip(ctx_range, topics):\n",
    "    #         # print(p, segments[p[0]])\n",
    "    #         if p[1] == current_topic:\n",
    "    #             pass\n",
    "    #             # print(original[p[0]])\n",
    "    #             tmp.append(original[p[0]][\"snippet\"])\n",
    "    #         else:\n",
    "    #             tmp.append(None)\n",
    "    #     print(tmp)\n",
    "    for p in zip(ctx_range, topics):\n",
    "        print(p, original[p[0]][\"snippet\"])\n",
    "        print(p[1], current_topic, p[1] == current_topic)"
   ]
  },
  {
   "cell_type": "code",
   "execution_count": 127,
   "metadata": {},
   "outputs": [
    {
     "name": "stdout",
     "output_type": "stream",
     "text": [
      "42\n",
      "('37', 'Pillow_f916b120') Yeah.\n",
      "Pillow_f916b120 Rug False\n",
      "('38', 'Pillow_f916b120') Okay.\n",
      "Pillow_f916b120 Rug False\n",
      "('39', 'Pillow_f916b120') Ah so yeah that's really nice that you cleaned some [loud clicking noise] and you tried.\n",
      "Pillow_f916b120 Rug False\n",
      "('40', 'Pillow_f916b120') Yeah\n",
      "Pillow_f916b120 Rug False\n",
      "('41', 'Pillow_f916b120') Yeah ok ok.\n",
      "Pillow_f916b120 Rug False\n"
     ]
    }
   ],
   "source": [
    "get_topic_context(data, \"12\", 5)"
   ]
  }
 ],
 "metadata": {
  "kernelspec": {
   "display_name": "nst-tts",
   "language": "python",
   "name": "python3"
  },
  "language_info": {
   "codemirror_mode": {
    "name": "ipython",
    "version": 3
   },
   "file_extension": ".py",
   "mimetype": "text/x-python",
   "name": "python",
   "nbconvert_exporter": "python",
   "pygments_lexer": "ipython3",
   "version": "3.10.9"
  }
 },
 "nbformat": 4,
 "nbformat_minor": 2
}
