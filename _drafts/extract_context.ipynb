{
 "cells": [
  {
   "cell_type": "code",
   "execution_count": null,
   "metadata": {},
   "outputs": [],
   "source": [
    "from pathlib import Path\n",
    "TSV_PATH = Path(\"/Users/joregan/Playing/hsi/annotations/word_annotations/main\")"
   ]
  },
  {
   "cell_type": "code",
   "execution_count": 40,
   "metadata": {},
   "outputs": [],
   "source": [
    "import json\n",
    "\n",
    "with open(\"/Users/joregan/Playing/hsi/annotations/all_meta.json\") as inf:\n",
    "    data = json.load(inf)"
   ]
  },
  {
   "cell_type": "code",
   "execution_count": 45,
   "metadata": {},
   "outputs": [
    {
     "data": {
      "text/plain": [
       "{'recording_id': 'hsi_3_0715_209_008',\n",
       " 'segment_id': '42',\n",
       " 'phrase': 'the Rug',\n",
       " 'utterance': 'Did you move the Rug like in front of the...',\n",
       " 'object_id': 'Rug',\n",
       " 'object_name': 'Rug',\n",
       " 'frame_number': 2756,\n",
       " 'image_paths': {'color': 'images/color/hsi_3_0715_209_008_42_color.png',\n",
       "  'depth': 'images/depth/hsi_3_0715_209_008_42_depth.png',\n",
       "  'overlay': 'images/overlay/hsi_3_0715_209_008_42_overlay.png',\n",
       "  'mask': 'images/masks/hsi_3_0715_209_008_42_mask.png'},\n",
       " 'topic': 'Rug',\n",
       " 'timing': {'phrase_start': 183.735,\n",
       "  'phrase_end': 184.295,\n",
       "  'utterance_start': 183.5558059638532,\n",
       "  'utterance_end': 195.32878031395185},\n",
       " 'meta_id': 12}"
      ]
     },
     "execution_count": 45,
     "metadata": {},
     "output_type": "execute_result"
    }
   ],
   "source": [
    "data[\"12\"]"
   ]
  },
  {
   "cell_type": "code",
   "execution_count": 54,
   "metadata": {},
   "outputs": [],
   "source": [
    "allsegments = {}\n",
    "\n",
    "for item in data:\n",
    "    if not data[item][\"recording_id\"] in allsegments:\n",
    "        allsegments[data[item][\"recording_id\"]] = []\n",
    "    allsegments[data[item][\"recording_id\"]].append(data[item][\"segment_id\"])\n",
    "\n",
    "for seg in allsegments:\n",
    "    allsegments[seg].sort(key =lambda x: int(x))"
   ]
  },
  {
   "cell_type": "code",
   "execution_count": 8,
   "metadata": {},
   "outputs": [
    {
     "data": {
      "text/plain": [
       "'FloorLamp_82e14abb'"
      ]
     },
     "execution_count": 8,
     "metadata": {},
     "output_type": "execute_result"
    }
   ],
   "source": [
    "data[\"12\"].get(\"high_level\", {}).get(\"current_topic\", \"room\")"
   ]
  },
  {
   "cell_type": "code",
   "execution_count": 59,
   "metadata": {},
   "outputs": [],
   "source": [
    "def get_topic_context(segments, segment_id, size=None, keep_topic=True):\n",
    "    current_topic = segments[segment_id][\"topic\"]\n",
    "\n",
    "    item_keys = list(data.keys())\n",
    "    index = item_keys.index(segment_id)\n",
    "    print(index)\n",
    "    if size is None:\n",
    "        start = 0\n",
    "    else:\n",
    "        start = index - size\n",
    "    ctx_range = item_keys[start:index]\n",
    "\n",
    "    if len(ctx_range) < size:\n",
    "        if int(segment_id) <= size:\n",
    "            pass\n",
    "        else:\n",
    "            print(f\"Warning: size of {size} cannot be satisfied: {range}\")\n",
    "    \n",
    "    topics = [segments[x][\"topic\"] for x in ctx_range]\n",
    "    if keep_topic:\n",
    "        tmp = []\n",
    "        for p in zip(ctx_range, topics):\n",
    "            print(p, segments[p[0]])\n",
    "            if p[1] == current_topic:\n",
    "                tmp.append(segments[p[0]][\"snippet\"])\n",
    "            else:\n",
    "                tmp.append(None)\n",
    "        print(tmp)"
   ]
  },
  {
   "cell_type": "code",
   "execution_count": 60,
   "metadata": {},
   "outputs": [
    {
     "name": "stdout",
     "output_type": "stream",
     "text": [
      "11\n",
      "('7', 'Chair_204_2') {'recording_id': 'hsi_3_0715_209_008', 'segment_id': '19', 'phrase': 'that', 'utterance': 'Where did you buy that?', 'object_id': 'Chair_204_2', 'object_name': 'Chair', 'frame_number': 1498, 'image_paths': {'color': 'images/color/hsi_3_0715_209_008_19_color.png', 'depth': 'images/depth/hsi_3_0715_209_008_19_depth.png', 'overlay': 'images/overlay/hsi_3_0715_209_008_19_overlay.png', 'mask': 'images/masks/hsi_3_0715_209_008_19_mask.png'}, 'topic': 'Chair_204_2', 'timing': {'phrase_start': 99.892, 'phrase_end': 99.992, 'utterance_start': 99.873, 'utterance_end': 100.694}, 'meta_id': 7}\n",
      "('8', 'Chair_204_2') {'recording_id': 'hsi_3_0715_209_008', 'segment_id': '23', 'phrase': 'it', 'utterance': 'It fits very well at the table with the computer and the, and the painting just next to it.', 'object_id': 'Chair_204_2', 'object_name': 'Chair', 'frame_number': 1643, 'image_paths': {'color': 'images/color/hsi_3_0715_209_008_23_color.png', 'depth': 'images/depth/hsi_3_0715_209_008_23_depth.png', 'overlay': 'images/overlay/hsi_3_0715_209_008_23_overlay.png', 'mask': 'images/masks/hsi_3_0715_209_008_23_mask.png'}, 'topic': 'Chair_204_2', 'timing': {'phrase_start': 109.595, 'phrase_end': 109.795, 'utterance_start': 107.475, 'utterance_end': 114.238}, 'meta_id': 8}\n",
      "('9', 'Chair_204_2') {'recording_id': 'hsi_3_0715_209_008', 'segment_id': '24', 'phrase': 'it', 'utterance': 'Yeah, it fits very well there.', 'object_id': 'Chair_204_2', 'object_name': 'Chair', 'frame_number': 1714, 'image_paths': {'color': 'images/color/hsi_3_0715_209_008_24_color.png', 'depth': 'images/depth/hsi_3_0715_209_008_24_depth.png', 'overlay': 'images/overlay/hsi_3_0715_209_008_24_overlay.png', 'mask': 'images/masks/hsi_3_0715_209_008_24_mask.png'}, 'topic': 'Chair_204_2', 'timing': {'phrase_start': 114.278, 'phrase_end': 114.338, 'utterance_start': 114.258, 'utterance_end': 115.438}, 'meta_id': 9}\n",
      "('10', 'Pillow_f916b120') {'recording_id': 'hsi_3_0715_209_008', 'segment_id': '31', 'phrase': 'this pillow', 'utterance': 'This [loud locking noise] this pillow.', 'object_id': 'Pillow_f916b120', 'object_name': 'Pillow', 'frame_number': 1891, 'image_paths': {'color': 'images/color/hsi_3_0715_209_008_31_color.png', 'depth': 'images/depth/hsi_3_0715_209_008_31_depth.png', 'overlay': 'images/overlay/hsi_3_0715_209_008_31_overlay.png', 'mask': 'images/masks/hsi_3_0715_209_008_31_mask.png'}, 'topic': 'Pillow_f916b120', 'timing': {'phrase_start': 126.104, 'phrase_end': 127.664, 'utterance_start': 125.964, 'utterance_end': 128.305}, 'meta_id': 10}\n",
      "('11', 'Pillow_f916b120') {'recording_id': 'hsi_3_0715_209_008', 'segment_id': '33', 'phrase': 'it', 'utterance': \"It's a bit dirty, no, isn't it?\", 'object_id': 'Pillow_f916b120', 'object_name': 'Pillow', 'frame_number': 1967, 'image_paths': {'color': 'images/color/hsi_3_0715_209_008_33_color.png', 'depth': 'images/depth/hsi_3_0715_209_008_33_depth.png', 'overlay': 'images/overlay/hsi_3_0715_209_008_33_overlay.png', 'mask': 'images/masks/hsi_3_0715_209_008_33_mask.png'}, 'topic': 'Pillow_f916b120', 'timing': {'phrase_start': 131.145, 'phrase_end': 131.305, 'utterance_start': 131.08506316244305, 'utterance_end': 133.11105962941335}, 'meta_id': 11}\n",
      "[None, None, None, None, None]\n"
     ]
    }
   ],
   "source": [
    "get_topic_context(data, \"12\", 5)"
   ]
  }
 ],
 "metadata": {
  "kernelspec": {
   "display_name": "nst-tts",
   "language": "python",
   "name": "python3"
  },
  "language_info": {
   "codemirror_mode": {
    "name": "ipython",
    "version": 3
   },
   "file_extension": ".py",
   "mimetype": "text/x-python",
   "name": "python",
   "nbconvert_exporter": "python",
   "pygments_lexer": "ipython3",
   "version": "3.10.9"
  }
 },
 "nbformat": 4,
 "nbformat_minor": 2
}
