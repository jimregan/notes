{
 "cells": [
  {
   "cell_type": "code",
   "execution_count": 130,
   "metadata": {},
   "outputs": [],
   "source": [
    "from pathlib import Path\n",
    "TSV_PATH = Path(\"/Users/joregan/Playing/hsi/annotations/word_annotations/main\")\n",
    "JSON_PATH = Path(\"/Users/joregan/Playing/hsi/annotations/final_resolved\")"
   ]
  },
  {
   "cell_type": "code",
   "execution_count": 131,
   "metadata": {},
   "outputs": [],
   "source": [
    "import json\n",
    "\n",
    "with open(\"/Users/joregan/Playing/hsi/annotations/all_meta.json\") as inf:\n",
    "    data = json.load(inf)"
   ]
  },
  {
   "cell_type": "code",
   "execution_count": 132,
   "metadata": {},
   "outputs": [
    {
     "data": {
      "text/plain": [
       "{'recording_id': 'hsi_3_0715_209_008',\n",
       " 'segment_id': '42',\n",
       " 'phrase': 'the Rug',\n",
       " 'utterance': 'Did you move the Rug like in front of the...',\n",
       " 'object_id': 'Rug',\n",
       " 'object_name': 'Rug',\n",
       " 'frame_number': 2756,\n",
       " 'image_paths': {'color': 'images/color/hsi_3_0715_209_008_42_color.png',\n",
       "  'depth': 'images/depth/hsi_3_0715_209_008_42_depth.png',\n",
       "  'overlay': 'images/overlay/hsi_3_0715_209_008_42_overlay.png',\n",
       "  'mask': 'images/masks/hsi_3_0715_209_008_42_mask.png'},\n",
       " 'topic': 'Rug',\n",
       " 'timing': {'phrase_start': 183.735,\n",
       "  'phrase_end': 184.295,\n",
       "  'utterance_start': 183.5558059638532,\n",
       "  'utterance_end': 195.32878031395185},\n",
       " 'meta_id': 12}"
      ]
     },
     "execution_count": 132,
     "metadata": {},
     "output_type": "execute_result"
    }
   ],
   "source": [
    "data[\"12\"]"
   ]
  },
  {
   "cell_type": "code",
   "execution_count": 135,
   "metadata": {},
   "outputs": [],
   "source": [
    "old_json = {}"
   ]
  },
  {
   "cell_type": "code",
   "execution_count": null,
   "metadata": {},
   "outputs": [],
   "source": [
    "def get_topic_context(segments, segment_id, size=None, keep_topic=True):\n",
    "    rec_id = segments[segment_id][\"recording_id\"]\n",
    "    orig_seg_id = segments[segment_id][\"segment_id\"]\n",
    "    if not \"recording_id\" in old_json:\n",
    "        with open(JSON_PATH / f\"{rec_id}.json\") as inf:\n",
    "            old_json[\"recording_id\"] = json.load(inf)\n",
    "    original = old_json[\"recording_id\"]\n",
    "    orig_keys = list(original.keys())\n",
    "    orig_topic = original[orig_seg_id][\"high_level\"][\"current_topic\"]\n",
    "\n",
    "    index = orig_keys.index(orig_seg_id)\n",
    "    if size is None:\n",
    "        start = 0\n",
    "    else:\n",
    "        start = index - size\n",
    "    ctx_range = orig_keys[start:index]\n",
    "\n",
    "    if len(ctx_range) < size:\n",
    "        if int(orig_seg_id) <= size:\n",
    "            pass\n",
    "        else:\n",
    "            print(f\"Warning: size of {size} cannot be satisfied: {ctx_range}\")\n",
    "    \n",
    "    topics = [original[x][\"high_level\"][\"current_topic\"] for x in ctx_range]\n",
    "\n",
    "    tmp = []\n",
    "    for p in zip(ctx_range, topics):\n",
    "        if not keep_topic:\n",
    "            tmp.append(original[p[0]][\"snippet\"])\n",
    "        elif keep_topic and p[1] == orig_topic:\n",
    "            tmp.append(original[p[0]][\"snippet\"])\n",
    "        else:\n",
    "            tmp.append(None)\n",
    "    return \" \".join([x for x in tmp if x is not None])"
   ]
  },
  {
   "cell_type": "code",
   "execution_count": 161,
   "metadata": {},
   "outputs": [
    {
     "data": {
      "text/plain": [
       "\"Yeah. Okay. Ah so yeah that's really nice that you cleaned some [loud clicking noise] and you tried. Yeah Yeah ok ok.\""
      ]
     },
     "execution_count": 161,
     "metadata": {},
     "output_type": "execute_result"
    }
   ],
   "source": [
    "get_topic_context(data, \"12\", 5, False)"
   ]
  }
 ],
 "metadata": {
  "kernelspec": {
   "display_name": "nst-tts",
   "language": "python",
   "name": "python3"
  },
  "language_info": {
   "codemirror_mode": {
    "name": "ipython",
    "version": 3
   },
   "file_extension": ".py",
   "mimetype": "text/x-python",
   "name": "python",
   "nbconvert_exporter": "python",
   "pygments_lexer": "ipython3",
   "version": "3.10.9"
  }
 },
 "nbformat": 4,
 "nbformat_minor": 2
}
