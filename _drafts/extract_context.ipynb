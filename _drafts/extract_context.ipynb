{
 "cells": [
  {
   "cell_type": "code",
   "execution_count": 201,
   "metadata": {},
   "outputs": [],
   "source": [
    "import json\n",
    "from pathlib import Path\n",
    "\n",
    "TSV_PATH = Path(\"/Users/joregan/Playing/hsi/annotations/word_annotations/main\")\n",
    "JSON_PATH = Path(\"/Users/joregan/Playing/hsi/annotations/final_resolved\")"
   ]
  },
  {
   "cell_type": "code",
   "execution_count": 202,
   "metadata": {},
   "outputs": [],
   "source": [
    "old_json = {}\n",
    "tsv_cache = {}"
   ]
  },
  {
   "cell_type": "code",
   "execution_count": 214,
   "metadata": {},
   "outputs": [],
   "source": [
    "def slurp(filename):\n",
    "    with open(filename) as f:\n",
    "        segment = json.load(f)\n",
    "    return segment"
   ]
  },
  {
   "cell_type": "code",
   "execution_count": 220,
   "metadata": {},
   "outputs": [],
   "source": [
    "def get_topic_context(segment, size=None, keep_topic=True):\n",
    "    rec_id = segment[\"recording_id\"]\n",
    "    orig_seg_id = segment[\"segment_id\"]\n",
    "    if not \"recording_id\" in old_json:\n",
    "        with open(JSON_PATH / f\"{rec_id}.json\") as inf:\n",
    "            old_json[\"recording_id\"] = json.load(inf)\n",
    "    original = old_json[\"recording_id\"]\n",
    "    orig_keys = list(original.keys())\n",
    "    orig_topic = original[orig_seg_id][\"high_level\"][\"current_topic\"]\n",
    "\n",
    "    index = orig_keys.index(orig_seg_id)\n",
    "    if size is None:\n",
    "        start = 0\n",
    "    else:\n",
    "        start = index - size\n",
    "    ctx_range = orig_keys[start:index]\n",
    "\n",
    "    if size is not None and len(ctx_range) < size:\n",
    "        if int(orig_seg_id) <= size:\n",
    "            pass\n",
    "        else:\n",
    "            print(f\"Warning: size of {size} cannot be satisfied: {ctx_range}\")\n",
    "    \n",
    "    topics = [original[x][\"high_level\"][\"current_topic\"] for x in ctx_range]\n",
    "\n",
    "    tmp = []\n",
    "    for p in zip(ctx_range, topics):\n",
    "        if not keep_topic:\n",
    "            tmp.append(original[p[0]][\"snippet\"])\n",
    "        elif keep_topic and p[1] == orig_topic:\n",
    "            tmp.append(original[p[0]][\"snippet\"])\n",
    "        else:\n",
    "            tmp.append(None)\n",
    "    return \" \".join([x for x in tmp if x is not None])"
   ]
  },
  {
   "cell_type": "code",
   "execution_count": 221,
   "metadata": {},
   "outputs": [],
   "source": [
    "def get_time_context(segment, ctx_time = 5.0):\n",
    "    rec_id = segment[\"recording_id\"]\n",
    "    start = segment[\"timing\"][\"utterance_start\"]\n",
    "\n",
    "    if not rec_id in tsv_cache:\n",
    "        with open(TSV_PATH / f\"{rec_id}_main.tsv\") as inf:\n",
    "            lines = []\n",
    "            for line in inf.readlines():\n",
    "                line = line.strip()\n",
    "                if \"\\t\" in line:\n",
    "                    lines.append(line.split(\"\\t\"))\n",
    "            tsv_cache[rec_id] = lines\n",
    "\n",
    "    tsv_times = tsv_cache[rec_id]\n",
    "    extract = []\n",
    "    for time in tsv_times:\n",
    "        s = float(time[0])\n",
    "        e = float(time[1])\n",
    "        if s >= (start - ctx_time) and (e < start):\n",
    "            extract.append(time[2])\n",
    "    return \" \".join(extract)"
   ]
  },
  {
   "cell_type": "code",
   "execution_count": 223,
   "metadata": {},
   "outputs": [
    {
     "name": "stdout",
     "output_type": "stream",
     "text": [
      "Yeah. Ah. That one, it seems like it doesn't have enough light because it's a little bit sad. So I would just put them really, really next to the windows and where the sun comes because you're not facing south here, you're facing east. So yeah, I would put it like next to the do- next to the door and really keep it there in the mornings because um I think it really needs some light.\n",
      "The plant in the middle of the couches? Yeah. Ah. That one, it seems like it doesn't have enough light because it's a little bit sad. So I would just put them really, really next to the windows and where the sun comes because you're not facing south here, you're facing east. So yeah, I would put it like next to the do- next to the door and really keep it there in the mornings because um I think it really needs some light.\n"
     ]
    }
   ],
   "source": [
    "seg = slurp(\"/Users/joregan/Playing/hsi/annotations/meta/hsi_7_0719_227_003_68_000_meta.json\")\n",
    "txt_ctx = get_topic_context(seg, 5)\n",
    "aud_ctx = get_time_context(seg, 30.0)\n",
    "\n",
    "print(txt_ctx)\n",
    "print(aud_ctx)"
   ]
  }
 ],
 "metadata": {
  "kernelspec": {
   "display_name": "nst-tts",
   "language": "python",
   "name": "python3"
  },
  "language_info": {
   "codemirror_mode": {
    "name": "ipython",
    "version": 3
   },
   "file_extension": ".py",
   "mimetype": "text/x-python",
   "name": "python",
   "nbconvert_exporter": "python",
   "pygments_lexer": "ipython3",
   "version": "3.10.9"
  }
 },
 "nbformat": 4,
 "nbformat_minor": 2
}
