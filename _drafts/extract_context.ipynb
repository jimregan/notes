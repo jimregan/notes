{
 "cells": [
  {
   "cell_type": "code",
   "execution_count": null,
   "metadata": {},
   "outputs": [],
   "source": [
    "from pathlib import Path\n",
    "TSV_PATH = Path(\"/Users/joregan/Playing/hsi/annotations/word_annotations/main\")"
   ]
  },
  {
   "cell_type": "code",
   "execution_count": 40,
   "metadata": {},
   "outputs": [],
   "source": [
    "import json\n",
    "\n",
    "with open(\"/Users/joregan/Playing/hsi/annotations/all_meta.json\") as inf:\n",
    "    data = json.load(inf)"
   ]
  },
  {
   "cell_type": "code",
   "execution_count": 45,
   "metadata": {},
   "outputs": [
    {
     "data": {
      "text/plain": [
       "{'recording_id': 'hsi_3_0715_209_008',\n",
       " 'segment_id': '42',\n",
       " 'phrase': 'the Rug',\n",
       " 'utterance': 'Did you move the Rug like in front of the...',\n",
       " 'object_id': 'Rug',\n",
       " 'object_name': 'Rug',\n",
       " 'frame_number': 2756,\n",
       " 'image_paths': {'color': 'images/color/hsi_3_0715_209_008_42_color.png',\n",
       "  'depth': 'images/depth/hsi_3_0715_209_008_42_depth.png',\n",
       "  'overlay': 'images/overlay/hsi_3_0715_209_008_42_overlay.png',\n",
       "  'mask': 'images/masks/hsi_3_0715_209_008_42_mask.png'},\n",
       " 'topic': 'Rug',\n",
       " 'timing': {'phrase_start': 183.735,\n",
       "  'phrase_end': 184.295,\n",
       "  'utterance_start': 183.5558059638532,\n",
       "  'utterance_end': 195.32878031395185},\n",
       " 'meta_id': 12}"
      ]
     },
     "execution_count": 45,
     "metadata": {},
     "output_type": "execute_result"
    }
   ],
   "source": [
    "data[\"12\"]"
   ]
  },
  {
   "cell_type": "code",
   "execution_count": 54,
   "metadata": {},
   "outputs": [],
   "source": [
    "allsegments = {}\n",
    "\n",
    "for item in data:\n",
    "    if not data[item][\"recording_id\"] in allsegments:\n",
    "        allsegments[data[item][\"recording_id\"]] = []\n",
    "    allsegments[data[item][\"recording_id\"]].append(data[item][\"segment_id\"])\n",
    "\n",
    "for seg in allsegments:\n",
    "    allsegments[seg].sort(key =lambda x: int(x))"
   ]
  },
  {
   "cell_type": "code",
   "execution_count": 8,
   "metadata": {},
   "outputs": [
    {
     "data": {
      "text/plain": [
       "'FloorLamp_82e14abb'"
      ]
     },
     "execution_count": 8,
     "metadata": {},
     "output_type": "execute_result"
    }
   ],
   "source": [
    "data[\"12\"].get(\"high_level\", {}).get(\"current_topic\", \"room\")"
   ]
  },
  {
   "cell_type": "code",
   "execution_count": 18,
   "metadata": {},
   "outputs": [],
   "source": [
    "item_keys = list(data.keys()).index(\"12\")"
   ]
  },
  {
   "cell_type": "code",
   "execution_count": 19,
   "metadata": {},
   "outputs": [
    {
     "data": {
      "text/plain": [
       "12"
      ]
     },
     "execution_count": 19,
     "metadata": {},
     "output_type": "execute_result"
    }
   ],
   "source": [
    "item_keys"
   ]
  },
  {
   "cell_type": "code",
   "execution_count": 37,
   "metadata": {},
   "outputs": [],
   "source": [
    "def get_topic_context(segments, segment_id, size=None, keep_topic=True):\n",
    "    current_topic = segments[segment_id].get(\"high_level\", {}).get(\"current_topic\", \"room\")\n",
    "\n",
    "    item_keys = list(data.keys())\n",
    "    index = item_keys.index(segment_id)\n",
    "    print(index)\n",
    "    if size is None:\n",
    "        start = 0\n",
    "    else:\n",
    "        start = index - size\n",
    "    ctx_range = item_keys[start:index]\n",
    "\n",
    "    if len(ctx_range) < size:\n",
    "        if int(segment_id) <= size:\n",
    "            pass\n",
    "        else:\n",
    "            print(f\"Warning: size of {size} cannot be satisfied: {range}\")\n",
    "    \n",
    "    topics = [segments[x].get(\"high_level\", {}).get(\"current_topic\", \"room\") for x in ctx_range]\n",
    "    if keep_topic:\n",
    "        tmp = []\n",
    "        for p in zip(ctx_range, topics):\n",
    "            print(p, segments[p[0]])\n",
    "            if p[1] == current_topic:\n",
    "                tmp.append(segments[p[0]][\"snippet\"])\n",
    "            else:\n",
    "                tmp.append(None)\n",
    "        print(tmp)"
   ]
  },
  {
   "cell_type": "code",
   "execution_count": 38,
   "metadata": {},
   "outputs": [
    {
     "name": "stdout",
     "output_type": "stream",
     "text": [
      "12\n",
      "('7', 'pet bed') {'general': {'id': 7, 'start': 52.069, 'end': 64.335}, 'high_level': {'current_topic': 'pet bed', 'topic_duration_id': 0}, 'low_level': {'resolved_references': {}}}\n",
      "('8', 'pet bed') {'general': {'id': 8, 'start': 65.27499999999999, 'end': 74.84}, 'high_level': {'current_topic': 'pet bed', 'topic_duration_id': 1}, 'low_level': {'resolved_references': {'here': 'corner1', 'that': 'corner2'}}}\n",
      "('9', 'pet bed') {'general': {'id': 9, 'start': 75.44, 'end': 80.146}, 'high_level': {'current_topic': 'pet bed', 'topic_duration_id': 2}, 'low_level': {'resolved_references': {'here': ['corner1']}}}\n",
      "('10', 'pet bed') {'general': {'id': 10, 'start': 80.386, 'end': 81.888}, 'high_level': {'current_topic': 'pet bed', 'topic_duration_id': 3}, 'low_level': {'resolved_references': {'the windows': 'window'}}}\n",
      "('11', 'FloorLamp_82e14abb') {'general': {'id': 11, 'start': 103.302, 'end': 107.364}, 'high_level': {'current_topic': 'FloorLamp_82e14abb', 'topic_duration_id': 0}, 'low_level': {'resolved_references': {'lamp': 'FloorLamp_82e14abb'}}}\n"
     ]
    },
    {
     "ename": "KeyError",
     "evalue": "'snippet'",
     "output_type": "error",
     "traceback": [
      "\u001b[0;31m---------------------------------------------------------------------------\u001b[0m",
      "\u001b[0;31mKeyError\u001b[0m                                  Traceback (most recent call last)",
      "Cell \u001b[0;32mIn[38], line 1\u001b[0m\n\u001b[0;32m----> 1\u001b[0m \u001b[43mget_topic_context\u001b[49m\u001b[43m(\u001b[49m\u001b[43mdata\u001b[49m\u001b[43m,\u001b[49m\u001b[43m \u001b[49m\u001b[38;5;124;43m\"\u001b[39;49m\u001b[38;5;124;43m12\u001b[39;49m\u001b[38;5;124;43m\"\u001b[39;49m\u001b[43m,\u001b[49m\u001b[43m \u001b[49m\u001b[38;5;241;43m5\u001b[39;49m\u001b[43m)\u001b[49m\n",
      "Cell \u001b[0;32mIn[37], line 25\u001b[0m, in \u001b[0;36mget_topic_context\u001b[0;34m(segments, segment_id, size, keep_topic)\u001b[0m\n\u001b[1;32m     23\u001b[0m \u001b[38;5;28mprint\u001b[39m(p, segments[p[\u001b[38;5;241m0\u001b[39m]])\n\u001b[1;32m     24\u001b[0m \u001b[38;5;28;01mif\u001b[39;00m p[\u001b[38;5;241m1\u001b[39m] \u001b[38;5;241m==\u001b[39m current_topic:\n\u001b[0;32m---> 25\u001b[0m     tmp\u001b[38;5;241m.\u001b[39mappend(\u001b[43msegments\u001b[49m\u001b[43m[\u001b[49m\u001b[43mp\u001b[49m\u001b[43m[\u001b[49m\u001b[38;5;241;43m0\u001b[39;49m\u001b[43m]\u001b[49m\u001b[43m]\u001b[49m\u001b[43m[\u001b[49m\u001b[38;5;124;43m\"\u001b[39;49m\u001b[38;5;124;43msnippet\u001b[39;49m\u001b[38;5;124;43m\"\u001b[39;49m\u001b[43m]\u001b[49m)\n\u001b[1;32m     26\u001b[0m \u001b[38;5;28;01melse\u001b[39;00m:\n\u001b[1;32m     27\u001b[0m     tmp\u001b[38;5;241m.\u001b[39mappend(\u001b[38;5;28;01mNone\u001b[39;00m)\n",
      "\u001b[0;31mKeyError\u001b[0m: 'snippet'"
     ]
    }
   ],
   "source": [
    "get_topic_context(data, \"12\", 5)"
   ]
  }
 ],
 "metadata": {
  "kernelspec": {
   "display_name": "nst-tts",
   "language": "python",
   "name": "python3"
  },
  "language_info": {
   "codemirror_mode": {
    "name": "ipython",
    "version": 3
   },
   "file_extension": ".py",
   "mimetype": "text/x-python",
   "name": "python",
   "nbconvert_exporter": "python",
   "pygments_lexer": "ipython3",
   "version": "3.10.9"
  }
 },
 "nbformat": 4,
 "nbformat_minor": 2
}
