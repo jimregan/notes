{
 "cells": [
  {
   "cell_type": "code",
   "execution_count": 81,
   "metadata": {},
   "outputs": [],
   "source": [
    "from pathlib import Path\n",
    "TSV_PATH = Path(\"/Users/joregan/Playing/hsi/annotations/word_annotations/main\")\n",
    "JSON_PATH = Path(\"/Users/joregan/Playing/hsi/annotations/final_resolved\")"
   ]
  },
  {
   "cell_type": "code",
   "execution_count": 40,
   "metadata": {},
   "outputs": [],
   "source": [
    "import json\n",
    "\n",
    "with open(\"/Users/joregan/Playing/hsi/annotations/all_meta.json\") as inf:\n",
    "    data = json.load(inf)"
   ]
  },
  {
   "cell_type": "code",
   "execution_count": 84,
   "metadata": {},
   "outputs": [
    {
     "data": {
      "text/plain": [
       "{'recording_id': 'hsi_3_0715_209_008',\n",
       " 'segment_id': '42',\n",
       " 'phrase': 'the Rug',\n",
       " 'utterance': 'Did you move the Rug like in front of the...',\n",
       " 'object_id': 'Rug',\n",
       " 'object_name': 'Rug',\n",
       " 'frame_number': 2756,\n",
       " 'image_paths': {'color': 'images/color/hsi_3_0715_209_008_42_color.png',\n",
       "  'depth': 'images/depth/hsi_3_0715_209_008_42_depth.png',\n",
       "  'overlay': 'images/overlay/hsi_3_0715_209_008_42_overlay.png',\n",
       "  'mask': 'images/masks/hsi_3_0715_209_008_42_mask.png'},\n",
       " 'topic': 'Rug',\n",
       " 'timing': {'phrase_start': 183.735,\n",
       "  'phrase_end': 184.295,\n",
       "  'utterance_start': 183.5558059638532,\n",
       "  'utterance_end': 195.32878031395185},\n",
       " 'meta_id': 12}"
      ]
     },
     "execution_count": 84,
     "metadata": {},
     "output_type": "execute_result"
    }
   ],
   "source": [
    "data[\"12\"]"
   ]
  },
  {
   "cell_type": "code",
   "execution_count": 54,
   "metadata": {},
   "outputs": [],
   "source": [
    "allsegments = {}\n",
    "\n",
    "for item in data:\n",
    "    if not data[item][\"recording_id\"] in allsegments:\n",
    "        allsegments[data[item][\"recording_id\"]] = []\n",
    "    allsegments[data[item][\"recording_id\"]].append(data[item][\"segment_id\"])\n",
    "\n",
    "for seg in allsegments:\n",
    "    allsegments[seg].sort(key =lambda x: int(x))"
   ]
  },
  {
   "cell_type": "code",
   "execution_count": null,
   "metadata": {},
   "outputs": [],
   "source": [
    "def get_snippet(data, segment):\n",
    "    # with open(JSON_PATH / f\"{recording}.json\") as inf:\n",
    "    #     data = json.load(inf)\n",
    "    seg_id = segment[\"segment_id\"]\n",
    "    seg_start = segment[\"timing\"][\"utterance_start\"]\n",
    "    seg_end = segment[\"timing\"][\"utterance_end\"]\n",
    "    simple = data[seg_id]\n",
    "    if simple[\"general\"][\"start\"] == seg_start and simple[\"general\"][\"end\"] == seg_end:\n",
    "        return simple[\"snippet\"]\n",
    "    else:\n",
    "        return None"
   ]
  },
  {
   "cell_type": "code",
   "execution_count": 85,
   "metadata": {},
   "outputs": [
    {
     "data": {
      "text/plain": [
       "'Did you move the Rug like in front of the...'"
      ]
     },
     "execution_count": 85,
     "metadata": {},
     "output_type": "execute_result"
    }
   ],
   "source": [
    "get_snippet(data[\"12\"][\"recording_id\"], data[\"12\"])"
   ]
  },
  {
   "cell_type": "code",
   "execution_count": 78,
   "metadata": {},
   "outputs": [],
   "source": [
    "def get_topic_context(segments, segment_id, size=None, keep_topic=True):\n",
    "    current_topic = segments[segment_id][\"topic\"]\n",
    "    rec_segments = allsegments[segments[segment_id][\"recording_id\"]]\n",
    "    rec_segment_id = segments[segment_id][\"segment_id\"]\n",
    "    print(rec_segments, rec_segment_id, segments[segment_id][\"recording_id\"], segments[segment_id][\"segment_id\"])\n",
    "\n",
    "    index = rec_segments.index(rec_segment_id)\n",
    "    print(index)\n",
    "    if size is None:\n",
    "        start = 0\n",
    "    else:\n",
    "        start = index - size\n",
    "    ctx_range = rec_segments[start:index]\n",
    "\n",
    "    if len(ctx_range) < size:\n",
    "        if int(segment_id) <= size:\n",
    "            pass\n",
    "        else:\n",
    "            print(f\"Warning: size of {size} cannot be satisfied: {range}\")\n",
    "    \n",
    "    topics = [segments[x][\"topic\"] for x in ctx_range]\n",
    "    if keep_topic:\n",
    "        tmp = []\n",
    "        for p in zip(ctx_range, topics):\n",
    "            print(p, segments[p[0]])\n",
    "            if p[1] == current_topic:\n",
    "                tmp.append(segments[p[0]][\"utterance\"])\n",
    "            else:\n",
    "                tmp.append(None)\n",
    "        print(tmp)"
   ]
  },
  {
   "cell_type": "code",
   "execution_count": 79,
   "metadata": {},
   "outputs": [
    {
     "name": "stdout",
     "output_type": "stream",
     "text": [
      "['6', '8', '9', '11', '13', '14', '15', '16', '17', '19', '23', '24', '31', '33', '42', '43', '45', '46', '48', '49', '52'] 42 hsi_3_0715_209_008 42\n",
      "14\n",
      "('19', 'fireplace') {'recording_id': 'hsi_3_0715_209_008', 'segment_id': '6', 'phrase': 'the stove', 'utterance': \"I see it's a... it's still a in the stove it's a little bit dirty still.\", 'object_id': 'Fireplace', 'object_name': 'Fireplace', 'frame_number': 436, 'image_paths': {'color': 'images/color/hsi_3_0715_209_008_6_color.png', 'depth': 'images/depth/hsi_3_0715_209_008_6_depth.png', 'overlay': 'images/overlay/hsi_3_0715_209_008_6_overlay.png', 'mask': 'images/masks/hsi_3_0715_209_008_6_mask.png'}, 'topic': 'fireplace', 'timing': {'phrase_start': 29.117, 'phrase_end': 29.337, 'utterance_start': 29.05712100147809, 'utterance_end': 33.72502066044103}, 'meta_id': 19}\n",
      "('23', 'rug') {'recording_id': 'hsi_3_0715_210_010', 'segment_id': '11', 'phrase': 'it', 'utterance': 'Yeah, it was a bit expensive, but, yeah, my mother helped me.', 'object_id': 'Rug', 'object_name': 'Rug', 'frame_number': 677, 'image_paths': {'color': 'images/color/hsi_3_0715_210_010_11_color.png', 'depth': 'images/depth/hsi_3_0715_210_010_11_depth.png', 'overlay': 'images/overlay/hsi_3_0715_210_010_11_overlay.png', 'mask': 'images/masks/hsi_3_0715_210_010_11_mask.png'}, 'topic': 'rug', 'timing': {'phrase_start': 45.172, 'phrase_end': 45.432, 'utterance_start': 45.132, 'utterance_end': 49.475}, 'meta_id': 23}\n",
      "('24', 'rug') {'recording_id': 'hsi_3_0715_210_010', 'segment_id': '12', 'phrase': 'mats', 'utterance': \"She she's a really fan of, this, beautiful mats.\", 'object_id': 'Rug', 'object_name': 'Rug', 'frame_number': 765, 'image_paths': {'color': 'images/color/hsi_3_0715_210_010_12_color.png', 'depth': 'images/depth/hsi_3_0715_210_010_12_depth.png', 'overlay': 'images/overlay/hsi_3_0715_210_010_12_overlay.png', 'mask': 'images/masks/hsi_3_0715_210_010_12_mask.png'}, 'topic': 'rug', 'timing': {'phrase_start': 51.057, 'phrase_end': 51.337, 'utterance_start': 51.037, 'utterance_end': 55.58}, 'meta_id': 24}\n",
      "('31', 'room') {'recording_id': 'hsi_3_0715_210_010', 'segment_id': '1', 'phrase': 'apartment', 'utterance': 'How do you like my my apartment?', 'object_id': 'Wall', 'object_name': 'Wall', 'frame_number': 49, 'image_paths': {'color': 'images/color/hsi_3_0715_210_010_1_color.png', 'depth': 'images/depth/hsi_3_0715_210_010_1_depth.png', 'overlay': 'images/overlay/hsi_3_0715_210_010_1_overlay.png', 'mask': 'images/masks/hsi_3_0715_210_010_1_mask.png'}, 'topic': 'room', 'timing': {'phrase_start': 3.279, 'phrase_end': 3.419, 'utterance_start': 3.2590000000000003, 'utterance_end': 5.561}, 'meta_id': 31}\n",
      "('33', 'Pillow_4f745fd7') {'recording_id': 'hsi_3_0715_210_010', 'segment_id': '21', 'phrase': 'That', 'utterance': \"That's why is, looks lightened up.\", 'object_id': 'Pillow_4f745fd7', 'object_name': 'Pillow', 'frame_number': 1966, 'image_paths': {'color': 'images/color/hsi_3_0715_210_010_21_color.png', 'depth': 'images/depth/hsi_3_0715_210_010_21_depth.png', 'overlay': 'images/overlay/hsi_3_0715_210_010_21_overlay.png', 'mask': 'images/masks/hsi_3_0715_210_010_21_mask.png'}, 'topic': 'Pillow_4f745fd7', 'timing': {'phrase_start': 131.132, 'phrase_end': 131.272, 'utterance_start': 131.112, 'utterance_end': 132.773}, 'meta_id': 33}\n",
      "[None, None, None, None, None]\n"
     ]
    }
   ],
   "source": [
    "get_topic_context(data, \"12\", 5)"
   ]
  }
 ],
 "metadata": {
  "kernelspec": {
   "display_name": "nst-tts",
   "language": "python",
   "name": "python3"
  },
  "language_info": {
   "codemirror_mode": {
    "name": "ipython",
    "version": 3
   },
   "file_extension": ".py",
   "mimetype": "text/x-python",
   "name": "python",
   "nbconvert_exporter": "python",
   "pygments_lexer": "ipython3",
   "version": "3.10.9"
  }
 },
 "nbformat": 4,
 "nbformat_minor": 2
}
