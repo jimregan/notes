{
  "nbformat": 4,
  "nbformat_minor": 0,
  "metadata": {
    "colab": {
      "name": "Introduction to pyannote.audio speaker diarization toolkit",
      "provenance": [],
      "collapsed_sections": []
    },
    "kernelspec": {
      "name": "python3",
      "display_name": "Python 3"
    },
    "accelerator": "GPU"
  },
  "cells": [
    {
      "cell_type": "code",
      "metadata": {
        "id": "vJGyKTQJqdzq",
        "colab": {
          "base_uri": "https://localhost:8080/"
        },
        "outputId": "86e72585-a01a-4bac-a93d-0c8f88ed16be"
      },
      "source": [
        "!pip install -q pyannote.audio==1.1"
      ],
      "execution_count": 1,
      "outputs": [
        {
          "output_type": "stream",
          "text": [
            "\u001b[?25l\r\u001b[K     |█▍                              | 10 kB 32.2 MB/s eta 0:00:01\r\u001b[K     |██▉                             | 20 kB 9.5 MB/s eta 0:00:01\r\u001b[K     |████▎                           | 30 kB 8.2 MB/s eta 0:00:01\r\u001b[K     |█████▊                          | 40 kB 7.6 MB/s eta 0:00:01\r\u001b[K     |███████                         | 51 kB 5.1 MB/s eta 0:00:01\r\u001b[K     |████████▌                       | 61 kB 5.5 MB/s eta 0:00:01\r\u001b[K     |██████████                      | 71 kB 5.4 MB/s eta 0:00:01\r\u001b[K     |███████████▍                    | 81 kB 6.1 MB/s eta 0:00:01\r\u001b[K     |████████████▊                   | 92 kB 5.9 MB/s eta 0:00:01\r\u001b[K     |██████████████▏                 | 102 kB 5.2 MB/s eta 0:00:01\r\u001b[K     |███████████████▋                | 112 kB 5.2 MB/s eta 0:00:01\r\u001b[K     |█████████████████               | 122 kB 5.2 MB/s eta 0:00:01\r\u001b[K     |██████████████████▌             | 133 kB 5.2 MB/s eta 0:00:01\r\u001b[K     |███████████████████▉            | 143 kB 5.2 MB/s eta 0:00:01\r\u001b[K     |█████████████████████▎          | 153 kB 5.2 MB/s eta 0:00:01\r\u001b[K     |██████████████████████▊         | 163 kB 5.2 MB/s eta 0:00:01\r\u001b[K     |████████████████████████▏       | 174 kB 5.2 MB/s eta 0:00:01\r\u001b[K     |█████████████████████████▌      | 184 kB 5.2 MB/s eta 0:00:01\r\u001b[K     |███████████████████████████     | 194 kB 5.2 MB/s eta 0:00:01\r\u001b[K     |████████████████████████████▍   | 204 kB 5.2 MB/s eta 0:00:01\r\u001b[K     |█████████████████████████████▉  | 215 kB 5.2 MB/s eta 0:00:01\r\u001b[K     |███████████████████████████████▎| 225 kB 5.2 MB/s eta 0:00:01\r\u001b[K     |████████████████████████████████| 230 kB 5.2 MB/s \n",
            "\u001b[K     |████████████████████████████████| 49 kB 5.5 MB/s \n",
            "\u001b[K     |████████████████████████████████| 41 kB 209 kB/s \n",
            "\u001b[K     |████████████████████████████████| 56 kB 3.1 MB/s \n",
            "\u001b[K     |████████████████████████████████| 129 kB 49.8 MB/s \n",
            "\u001b[K     |████████████████████████████████| 302 kB 42.1 MB/s \n",
            "\u001b[K     |████████████████████████████████| 164 kB 71.3 MB/s \n",
            "\u001b[K     |████████████████████████████████| 80 kB 12.1 MB/s \n",
            "\u001b[K     |████████████████████████████████| 75 kB 5.6 MB/s \n",
            "\u001b[K     |████████████████████████████████| 49 kB 6.9 MB/s \n",
            "\u001b[K     |████████████████████████████████| 141 kB 69.8 MB/s \n",
            "\u001b[K     |████████████████████████████████| 111 kB 70.3 MB/s \n",
            "\u001b[?25h  Building wheel for pescador (setup.py) ... \u001b[?25l\u001b[?25hdone\n",
            "  Building wheel for pyperclip (setup.py) ... \u001b[?25l\u001b[?25hdone\n"
          ],
          "name": "stdout"
        }
      ]
    },
    {
      "cell_type": "code",
      "metadata": {
        "id": "YAa_HoA9mnTZ",
        "colab": {
          "base_uri": "https://localhost:8080/",
          "height": 151
        },
        "outputId": "92dcbdd4-b44b-4b49-cfe5-900d8a65cb64"
      },
      "source": [
        "from pyannote.core import Segment, notebook\n",
        "# make notebook visualization zoom on 600s < t < 660s time range\n",
        "EXCERPT = Segment(600, 660)\n",
        "notebook.crop = EXCERPT\n",
        "\n",
        "# visualize excerpt groundtruth\n",
        "groundtruth"
      ],
      "execution_count": 5,
      "outputs": [
        {
          "output_type": "execute_result",
          "data": {
            "image/png": "[encoded data removed]",
            "text/plain": [
              "<pyannote.core.annotation.Annotation at 0x7fd136f34f90>"
            ]
          },
          "metadata": {},
          "execution_count": 5
        }
      ]
    },
    {
      "cell_type": "code",
      "metadata": {
        "id": "f5u8wRm3GYFr",
        "outputId": "e6d8d5a3-1958-4728-a70c-bb07d6c0f9ef",
        "colab": {
          "base_uri": "https://localhost:8080/"
        }
      },
      "source": [
        "!wget https://podcast.rasset.ie/podcasts/audio/2021/0626/20210626_rteraidion-bailiuchanbhairbre-bailichnbh_c21974765_21975131_232_.mp3"
      ],
      "execution_count": 6,
      "outputs": [
        {
          "output_type": "stream",
          "text": [
            "--2021-08-27 21:16:46--  https://podcast.rasset.ie/podcasts/audio/2021/0626/20210626_rteraidion-bailiuchanbhairbre-bailichnbh_c21974765_21975131_232_.mp3\n",
            "Resolving podcast.rasset.ie (podcast.rasset.ie)... 104.16.19.96, 104.17.56.53, 2606:4700::6811:3835, ...\n",
            "Connecting to podcast.rasset.ie (podcast.rasset.ie)|104.16.19.96|:443... connected.\n",
            "HTTP request sent, awaiting response... 200 OK\n",
            "Length: 27140445 (26M) [audio/mpeg]\n",
            "Saving to: ‘20210626_rteraidion-bailiuchanbhairbre-bailichnbh_c21974765_21975131_232_.mp3’\n",
            "\n",
            "20210626_rteraidion 100%[===================>]  25.88M  17.7MB/s    in 1.5s    \n",
            "\n",
            "2021-08-27 21:16:49 (17.7 MB/s) - ‘20210626_rteraidion-bailiuchanbhairbre-bailichnbh_c21974765_21975131_232_.mp3’ saved [27140445/27140445]\n",
            "\n"
          ],
          "name": "stdout"
        }
      ]
    },
    {
      "cell_type": "code",
      "metadata": {
        "id": "_1FfyTTCePSR",
        "outputId": "4c628b2b-428e-453a-c29b-f01737fff012",
        "colab": {
          "base_uri": "https://localhost:8080/"
        }
      },
      "source": [
        "!ffmpeg -i /content/20210626_rteraidion-bailiuchanbhairbre-bailichnbh_c21974765_21975131_232_.mp3 -acodec pcm_s16le -ac 1 -ar 16000 /content/20210626_rteraidion-bailiuchanbhairbre-bailichnbh_c21974765_21975131_232_.wav"
      ],
      "execution_count": 7,
      "outputs": [
        {
          "output_type": "stream",
          "text": [
            "ffmpeg version 3.4.8-0ubuntu0.2 Copyright (c) 2000-2020 the FFmpeg developers\n",
            "  built with gcc 7 (Ubuntu 7.5.0-3ubuntu1~18.04)\n",
            "  configuration: --prefix=/usr --extra-version=0ubuntu0.2 --toolchain=hardened --libdir=/usr/lib/x86_64-linux-gnu --incdir=/usr/include/x86_64-linux-gnu --enable-gpl --disable-stripping --enable-avresample --enable-avisynth --enable-gnutls --enable-ladspa --enable-libass --enable-libbluray --enable-libbs2b --enable-libcaca --enable-libcdio --enable-libflite --enable-libfontconfig --enable-libfreetype --enable-libfribidi --enable-libgme --enable-libgsm --enable-libmp3lame --enable-libmysofa --enable-libopenjpeg --enable-libopenmpt --enable-libopus --enable-libpulse --enable-librubberband --enable-librsvg --enable-libshine --enable-libsnappy --enable-libsoxr --enable-libspeex --enable-libssh --enable-libtheora --enable-libtwolame --enable-libvorbis --enable-libvpx --enable-libwavpack --enable-libwebp --enable-libx265 --enable-libxml2 --enable-libxvid --enable-libzmq --enable-libzvbi --enable-omx --enable-openal --enable-opengl --enable-sdl2 --enable-libdc1394 --enable-libdrm --enable-libiec61883 --enable-chromaprint --enable-frei0r --enable-libopencv --enable-libx264 --enable-shared\n",
            "  libavutil      55. 78.100 / 55. 78.100\n",
            "  libavcodec     57.107.100 / 57.107.100\n",
            "  libavformat    57. 83.100 / 57. 83.100\n",
            "  libavdevice    57. 10.100 / 57. 10.100\n",
            "  libavfilter     6.107.100 /  6.107.100\n",
            "  libavresample   3.  7.  0 /  3.  7.  0\n",
            "  libswscale      4.  8.100 /  4.  8.100\n",
            "  libswresample   2.  9.100 /  2.  9.100\n",
            "  libpostproc    54.  7.100 / 54.  7.100\n",
            "\u001b[0;35m[mp3 @ 0x55a3444ba000] \u001b[0m\u001b[0;33mEstimating duration from bitrate, this may be inaccurate\n",
            "\u001b[0mInput #0, mp3, from '/content/20210626_rteraidion-bailiuchanbhairbre-bailichnbh_c21974765_21975131_232_.mp3':\n",
            "  Duration: 00:28:16.28, start: 0.000000, bitrate: 127 kb/s\n",
            "    Stream #0:0: Audio: mp3, 44100 Hz, stereo, s16p, 128 kb/s\n",
            "Stream mapping:\n",
            "  Stream #0:0 -> #0:0 (mp3 (native) -> pcm_s16le (native))\n",
            "Press [q] to stop, [?] for help\n",
            "Output #0, wav, to '/content/20210626_rteraidion-bailiuchanbhairbre-bailichnbh_c21974765_21975131_232_.wav':\n",
            "  Metadata:\n",
            "    ISFT            : Lavf57.83.100\n",
            "    Stream #0:0: Audio: pcm_s16le ([1][0][0][0] / 0x0001), 16000 Hz, mono, s16, 256 kb/s\n",
            "    Metadata:\n",
            "      encoder         : Lavc57.107.100 pcm_s16le\n",
            "size=   53131kB time=00:28:20.17 bitrate= 256.0kbits/s speed= 427x    \n",
            "video:0kB audio:53131kB subtitle:0kB other streams:0kB global headers:0kB muxing overhead: 0.000143%\n"
          ],
          "name": "stdout"
        }
      ]
    },
    {
      "cell_type": "code",
      "metadata": {
        "id": "go1wJBYJnsIx",
        "colab": {
          "base_uri": "https://localhost:8080/"
        },
        "outputId": "45b09d62-2dab-479b-e52a-7762c82edbd9"
      },
      "source": [
        "import torch\n",
        "pipeline = torch.hub.load('pyannote/pyannote-audio', 'dia')\n",
        "diarization = pipeline({'audio': '/content/20210626_rteraidion-bailiuchanbhairbre-bailichnbh_c21974765_21975131_232_.wav'})"
      ],
      "execution_count": 9,
      "outputs": [
        {
          "output_type": "stream",
          "text": [
            "Using cache found in /root/.cache/torch/hub/pyannote_pyannote-audio_master\n",
            "Using cache found in /root/.cache/torch/hub/pyannote_pyannote-audio_master\n",
            "Using cache found in /root/.cache/torch/hub/pyannote_pyannote-audio_master\n",
            "Using cache found in /root/.cache/torch/hub/pyannote_pyannote-audio_master\n",
            "/usr/local/lib/python3.7/dist-packages/pyannote/audio/embedding/approaches/arcface_loss.py:170: FutureWarning:\n",
            "\n",
            "The 's' parameter is deprecated in favor of 'scale', and will be removed in a future release\n",
            "\n",
            "/usr/local/lib/python3.7/dist-packages/pyannote/audio/features/pretrained.py:156: UserWarning:\n",
            "\n",
            "Model was trained with 4s chunks and is applied on 2s chunks. This might lead to sub-optimal results.\n",
            "\n",
            "Using cache found in /root/.cache/torch/hub/pyannote_pyannote-audio_master\n",
            "/usr/local/lib/python3.7/dist-packages/torch/nn/functional.py:652: UserWarning:\n",
            "\n",
            "Named tensors and all their associated APIs are an experimental feature and subject to change. Please do not use them for anything important until they are released as stable. (Triggered internally at  /pytorch/c10/core/TensorImpl.h:1156.)\n",
            "\n"
          ],
          "name": "stderr"
        }
      ]
    },
    {
      "cell_type": "code",
      "metadata": {
        "id": "0fRdVs_Ah7a1",
        "outputId": "6ba9665e-94cd-4d66-d063-8952854eb5fa",
        "colab": {
          "base_uri": "https://localhost:8080/"
        }
      },
      "source": [
        "!pip install youtube-dl"
      ],
      "execution_count": 1,
      "outputs": [
        {
          "output_type": "stream",
          "text": [
            "Collecting youtube-dl\n",
            "  Downloading youtube_dl-2021.6.6-py2.py3-none-any.whl (1.9 MB)\n",
            "\u001b[K     |████████████████████████████████| 1.9 MB 8.4 MB/s \n",
            "\u001b[?25hInstalling collected packages: youtube-dl\n",
            "Successfully installed youtube-dl-2021.6.6\n"
          ],
          "name": "stdout"
        }
      ]
    },
    {
      "cell_type": "code",
      "metadata": {
        "id": "SJxeGcnYiGBi",
        "outputId": "3e9ce279-f464-4ad7-db82-620f38b82e71",
        "colab": {
          "base_uri": "https://localhost:8080/"
        }
      },
      "source": [
        "!youtube-dl f3wKxcP7hYE"
      ],
      "execution_count": 2,
      "outputs": [
        {
          "output_type": "stream",
          "text": [
            "[youtube] f3wKxcP7hYE: Downloading webpage\n",
            "[youtube] f3wKxcP7hYE: Downloading MPD manifest\n",
            "[download] Destination: Sraith 2 Eip 1-f3wKxcP7hYE.f136.mp4\n",
            "\u001b[K[download] 100% of 253.61MiB in 00:37\n",
            "[download] Destination: Sraith 2 Eip 1-f3wKxcP7hYE.f140.m4a\n",
            "\u001b[K[download] 100% of 20.96MiB in 00:03\n",
            "[ffmpeg] Merging formats into \"Sraith 2 Eip 1-f3wKxcP7hYE.mp4\"\n",
            "Deleting original file Sraith 2 Eip 1-f3wKxcP7hYE.f136.mp4 (pass -k to keep)\n",
            "Deleting original file Sraith 2 Eip 1-f3wKxcP7hYE.f140.m4a (pass -k to keep)\n"
          ],
          "name": "stdout"
        }
      ]
    },
    {
      "cell_type": "code",
      "metadata": {
        "id": "FKEnEtrOoIAk",
        "colab": {
          "base_uri": "https://localhost:8080/",
          "height": 151
        },
        "outputId": "2aea3b88-bf6c-4027-9577-569dccadf7b8"
      },
      "source": [
        "diarization"
      ],
      "execution_count": 10,
      "outputs": [
        {
          "output_type": "execute_result",
          "data": {
            "image/png": "[encoded data removed]",
            "text/plain": [
              "<pyannote.core.annotation.Annotation at 0x7fd13676a050>"
            ]
          },
          "metadata": {},
          "execution_count": 10
        }
      ]
    },
    {
      "cell_type": "code",
      "metadata": {
        "id": "BUaMy5rTfgoI"
      },
      "source": [
        "with open('/content/20210626_rteraidion-bailiuchanbhairbre-bailichnbh_c21974765_21975131_232_.rttm', 'w') as f:\n",
        "    diarization.write_rttm(f)"
      ],
      "execution_count": 11,
      "outputs": []
    },
    {
      "cell_type": "code",
      "metadata": {
        "id": "gdDFEKkCicq2",
        "outputId": "4f1dcf63-6c7a-4446-8f7c-6596700f7029",
        "colab": {
          "base_uri": "https://localhost:8080/"
        }
      },
      "source": [
        "!ffmpeg -i 'Sraith 2 Eip 1-f3wKxcP7hYE.mp4' -acodec pcm_s16le -ac 1 -ar 16000 f3wKxcP7hYE.wav"
      ],
      "execution_count": 3,
      "outputs": [
        {
          "output_type": "stream",
          "text": [
            "ffmpeg version 3.4.8-0ubuntu0.2 Copyright (c) 2000-2020 the FFmpeg developers\n",
            "  built with gcc 7 (Ubuntu 7.5.0-3ubuntu1~18.04)\n",
            "  configuration: --prefix=/usr --extra-version=0ubuntu0.2 --toolchain=hardened --libdir=/usr/lib/x86_64-linux-gnu --incdir=/usr/include/x86_64-linux-gnu --enable-gpl --disable-stripping --enable-avresample --enable-avisynth --enable-gnutls --enable-ladspa --enable-libass --enable-libbluray --enable-libbs2b --enable-libcaca --enable-libcdio --enable-libflite --enable-libfontconfig --enable-libfreetype --enable-libfribidi --enable-libgme --enable-libgsm --enable-libmp3lame --enable-libmysofa --enable-libopenjpeg --enable-libopenmpt --enable-libopus --enable-libpulse --enable-librubberband --enable-librsvg --enable-libshine --enable-libsnappy --enable-libsoxr --enable-libspeex --enable-libssh --enable-libtheora --enable-libtwolame --enable-libvorbis --enable-libvpx --enable-libwavpack --enable-libwebp --enable-libx265 --enable-libxml2 --enable-libxvid --enable-libzmq --enable-libzvbi --enable-omx --enable-openal --enable-opengl --enable-sdl2 --enable-libdc1394 --enable-libdrm --enable-libiec61883 --enable-chromaprint --enable-frei0r --enable-libopencv --enable-libx264 --enable-shared\n",
            "  libavutil      55. 78.100 / 55. 78.100\n",
            "  libavcodec     57.107.100 / 57.107.100\n",
            "  libavformat    57. 83.100 / 57. 83.100\n",
            "  libavdevice    57. 10.100 / 57. 10.100\n",
            "  libavfilter     6.107.100 /  6.107.100\n",
            "  libavresample   3.  7.  0 /  3.  7.  0\n",
            "  libswscale      4.  8.100 /  4.  8.100\n",
            "  libswresample   2.  9.100 /  2.  9.100\n",
            "  libpostproc    54.  7.100 / 54.  7.100\n",
            "Input #0, mov,mp4,m4a,3gp,3g2,mj2, from 'Sraith 2 Eip 1-f3wKxcP7hYE.mp4':\n",
            "  Metadata:\n",
            "    major_brand     : isom\n",
            "    minor_version   : 512\n",
            "    compatible_brands: isomiso2avc1mp41\n",
            "    encoder         : Lavf57.83.100\n",
            "  Duration: 00:22:38.25, start: 0.000000, bitrate: 1697 kb/s\n",
            "    Stream #0:0(und): Video: h264 (Main) (avc1 / 0x31637661), yuv420p(tv, smpte170m/smpte170m/bt709), 1280x720 [SAR 1:1 DAR 16:9], 1563 kb/s, 25 fps, 25 tbr, 12800 tbn, 50 tbc (default)\n",
            "    Metadata:\n",
            "      handler_name    : VideoHandler\n",
            "    Stream #0:1(eng): Audio: aac (LC) (mp4a / 0x6134706D), 44100 Hz, stereo, fltp, 127 kb/s (default)\n",
            "    Metadata:\n",
            "      handler_name    : SoundHandler\n",
            "Stream mapping:\n",
            "  Stream #0:1 -> #0:0 (aac (native) -> pcm_s16le (native))\n",
            "Press [q] to stop, [?] for help\n",
            "Output #0, wav, to 'f3wKxcP7hYE.wav':\n",
            "  Metadata:\n",
            "    major_brand     : isom\n",
            "    minor_version   : 512\n",
            "    compatible_brands: isomiso2avc1mp41\n",
            "    ISFT            : Lavf57.83.100\n",
            "    Stream #0:0(eng): Audio: pcm_s16le ([1][0][0][0] / 0x0001), 16000 Hz, mono, s16, 256 kb/s (default)\n",
            "    Metadata:\n",
            "      handler_name    : SoundHandler\n",
            "      encoder         : Lavc57.107.100 pcm_s16le\n",
            "size=   42445kB time=00:22:38.25 bitrate= 256.0kbits/s speed= 752x    \n",
            "video:0kB audio:42445kB subtitle:0kB other streams:0kB global headers:0kB muxing overhead: 0.000179%\n"
          ],
          "name": "stdout"
        }
      ]
    },
    {
      "cell_type": "code",
      "metadata": {
        "id": "2GJ4DOQ2ipUA"
      },
      "source": [
        "diarization2 = pipeline({'audio': '/content/f3wKxcP7hYE.wav'})"
      ],
      "execution_count": 15,
      "outputs": []
    },
    {
      "cell_type": "code",
      "metadata": {
        "id": "s9HyY25TjJOI",
        "outputId": "01cb0c1f-2113-4122-e447-c5eab89e7e09",
        "colab": {
          "base_uri": "https://localhost:8080/",
          "height": 163
        }
      },
      "source": [
        "diarization2"
      ],
      "execution_count": 16,
      "outputs": [
        {
          "output_type": "execute_result",
          "data": {
            "image/png": "[encoded data removed]",
            "text/plain": [
              "<pyannote.core.annotation.Annotation at 0x7fd0cc29a150>"
            ]
          },
          "metadata": {},
          "execution_count": 16
        }
      ]
    },
    {
      "cell_type": "code",
      "metadata": {
        "id": "-oVgk33bjZ02"
      },
      "source": [
        "with open('/content/f3wKxcP7hYE.rttm', 'w') as f2:\n",
        "    diarization2.write_rttm(f2)"
      ],
      "execution_count": 17,
      "outputs": []
    },
    {
      "cell_type": "code",
      "metadata": {
        "id": "V0XsG6iQl2XL"
      },
      "source": [
        "import torch\n",
        "torch.cuda.empty_cache()"
      ],
      "execution_count": 19,
      "outputs": []
    },
    {
      "cell_type": "code",
      "metadata": {
        "id": "rYky13cCldOK",
        "outputId": "b2163321-da51-483b-bcd2-3c9a4c15b5e6",
        "colab": {
          "base_uri": "https://localhost:8080/",
          "height": 351
        }
      },
      "source": [
        "import torch\n",
        "\n",
        "model = torch.hub.load('harritaylor/torchvggish', 'vggish')\n",
        "model.eval()\n",
        "\n",
        "model.forward('/content/f3wKxcP7hYE.wav')"
      ],
      "execution_count": 20,
      "outputs": [
        {
          "output_type": "stream",
          "text": [
            "Using cache found in /root/.cache/torch/hub/harritaylor_torchvggish_master\n"
          ],
          "name": "stderr"
        },
        {
          "output_type": "error",
          "ename": "RuntimeError",
          "evalue": "ignored",
          "traceback": [
            "\u001b[0;31m---------------------------------------------------------------------------\u001b[0m",
            "\u001b[0;31mRuntimeError\u001b[0m                              Traceback (most recent call last)",
            "\u001b[0;32m<ipython-input-20-57c2895297b9>\u001b[0m in \u001b[0;36m<module>\u001b[0;34m()\u001b[0m\n\u001b[1;32m      4\u001b[0m \u001b[0mmodel\u001b[0m\u001b[0;34m.\u001b[0m\u001b[0meval\u001b[0m\u001b[0;34m(\u001b[0m\u001b[0;34m)\u001b[0m\u001b[0;34m\u001b[0m\u001b[0;34m\u001b[0m\u001b[0m\n\u001b[1;32m      5\u001b[0m \u001b[0;34m\u001b[0m\u001b[0m\n\u001b[0;32m----> 6\u001b[0;31m \u001b[0mmodel\u001b[0m\u001b[0;34m.\u001b[0m\u001b[0mforward\u001b[0m\u001b[0;34m(\u001b[0m\u001b[0;34m'/content/f3wKxcP7hYE.wav'\u001b[0m\u001b[0;34m)\u001b[0m\u001b[0;34m\u001b[0m\u001b[0;34m\u001b[0m\u001b[0m\n\u001b[0m",
            "\u001b[0;32m/root/.cache/torch/hub/harritaylor_torchvggish_master/torchvggish/vggish.py\u001b[0m in \u001b[0;36mforward\u001b[0;34m(self, x, fs)\u001b[0m\n\u001b[1;32m    171\u001b[0m         \u001b[0;32mif\u001b[0m \u001b[0mself\u001b[0m\u001b[0;34m.\u001b[0m\u001b[0mpreprocess\u001b[0m\u001b[0;34m:\u001b[0m\u001b[0;34m\u001b[0m\u001b[0;34m\u001b[0m\u001b[0m\n\u001b[1;32m    172\u001b[0m             \u001b[0mx\u001b[0m \u001b[0;34m=\u001b[0m \u001b[0mself\u001b[0m\u001b[0;34m.\u001b[0m\u001b[0m_preprocess\u001b[0m\u001b[0;34m(\u001b[0m\u001b[0mx\u001b[0m\u001b[0;34m,\u001b[0m \u001b[0mfs\u001b[0m\u001b[0;34m)\u001b[0m\u001b[0;34m\u001b[0m\u001b[0;34m\u001b[0m\u001b[0m\n\u001b[0;32m--> 173\u001b[0;31m         \u001b[0mx\u001b[0m \u001b[0;34m=\u001b[0m \u001b[0mx\u001b[0m\u001b[0;34m.\u001b[0m\u001b[0mto\u001b[0m\u001b[0;34m(\u001b[0m\u001b[0mself\u001b[0m\u001b[0;34m.\u001b[0m\u001b[0mdevice\u001b[0m\u001b[0;34m)\u001b[0m\u001b[0;34m\u001b[0m\u001b[0;34m\u001b[0m\u001b[0m\n\u001b[0m\u001b[1;32m    174\u001b[0m         \u001b[0mx\u001b[0m \u001b[0;34m=\u001b[0m \u001b[0mVGG\u001b[0m\u001b[0;34m.\u001b[0m\u001b[0mforward\u001b[0m\u001b[0;34m(\u001b[0m\u001b[0mself\u001b[0m\u001b[0;34m,\u001b[0m \u001b[0mx\u001b[0m\u001b[0;34m)\u001b[0m\u001b[0;34m\u001b[0m\u001b[0;34m\u001b[0m\u001b[0m\n\u001b[1;32m    175\u001b[0m         \u001b[0;32mif\u001b[0m \u001b[0mself\u001b[0m\u001b[0;34m.\u001b[0m\u001b[0mpostprocess\u001b[0m\u001b[0;34m:\u001b[0m\u001b[0;34m\u001b[0m\u001b[0;34m\u001b[0m\u001b[0m\n",
            "\u001b[0;31mRuntimeError\u001b[0m: CUDA out of memory. Tried to allocate 34.00 MiB (GPU 0; 7.43 GiB total capacity; 6.63 GiB already allocated; 34.81 MiB free; 6.66 GiB reserved in total by PyTorch)"
          ]
        }
      ]
    }
  ]
}