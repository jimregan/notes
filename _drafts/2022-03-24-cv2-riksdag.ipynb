{
  "nbformat": 4,
  "nbformat_minor": 0,
  "metadata": {
    "colab": {
      "name": "2022-03-24-cv2-riksdag.ipynb",
      "provenance": []
    },
    "kernelspec": {
      "name": "python3",
      "display_name": "Python 3"
    },
    "language_info": {
      "name": "python"
    },
    "accelerator": "GPU"
  },
  "cells": [
    {
      "cell_type": "code",
      "execution_count": 1,
      "metadata": {
        "id": "TloZTenLSgjH"
      },
      "outputs": [],
      "source": [
        "%%capture\n",
        "!pip install opencv-python\n",
        "!pip install dlib\n",
        "!pip install face_recognition"
      ]
    },
    {
      "cell_type": "code",
      "source": [
        "%%capture\n",
        "!wget https://mhdownload.riksdagen.se/VOD1/188373_20000_965995.mp4"
      ],
      "metadata": {
        "id": "_fbez01vTWNM"
      },
      "execution_count": 2,
      "outputs": []
    },
    {
      "cell_type": "code",
      "source": [
        "SAMPLE = \"188373_20000_965995.mp4\""
      ],
      "metadata": {
        "id": "Ta_DVd12TMPd"
      },
      "execution_count": 3,
      "outputs": []
    },
    {
      "cell_type": "code",
      "source": [
        "import face_recognition\n",
        "import cv2"
      ],
      "metadata": {
        "id": "TjY1elXPTbgR"
      },
      "execution_count": 4,
      "outputs": []
    },
    {
      "cell_type": "code",
      "source": [
        "video = cv2.VideoCapture(SAMPLE)\n",
        "frameno = 1\n",
        "\n",
        "detections = []\n",
        "while True:\n",
        "    ret, frame = video.read()\n",
        "    try:\n",
        "      small_frame = cv2.resize(frame, (0, 0), fx=0.25, fy=0.25)\n",
        "    except:\n",
        "      continue\n",
        "    face_locations = face_recognition.face_locations(small_frame, model=\"cnn\")\n",
        "\n",
        "    locations = []\n",
        "    for top, right, bottom, left in face_locations:\n",
        "        current = {}\n",
        "        current[\"top\"] = top * 4\n",
        "        current[\"right\"] = right * 4\n",
        "        current[\"bottom\"] = bottom * 4\n",
        "        current[\"left\"] = left * 4\n",
        "        locations.append(current)\n",
        "\n",
        "    # skip empty output\n",
        "    if len(locations) != 0:\n",
        "        current_frame = {}\n",
        "        current_frame[\"frame\"] = frameno\n",
        "        current_frame[\"detections\"] = locations\n",
        "        detections.append(current_frame)\n",
        "\n",
        "    frameno += 1\n"
      ],
      "metadata": {
        "id": "XyXLqnnnTevC"
      },
      "execution_count": null,
      "outputs": []
    },
    {
      "cell_type": "code",
      "source": [
        "detections"
      ],
      "metadata": {
        "id": "8hx4VVm6Tsyy"
      },
      "execution_count": null,
      "outputs": []
    }
  ]
}