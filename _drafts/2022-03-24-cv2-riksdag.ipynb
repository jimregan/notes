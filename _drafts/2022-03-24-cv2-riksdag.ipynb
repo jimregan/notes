{
  "cells": [
    {
      "cell_type": "code",
      "execution_count": 1,
      "metadata": {
        "id": "TloZTenLSgjH"
      },
      "outputs": [],
      "source": [
        "%%capture\n",
        "!pip install opencv-python\n",
        "!pip install dlib\n",
        "!pip install face_recognition"
      ]
    },
    {
      "cell_type": "code",
      "execution_count": 2,
      "metadata": {
        "id": "_fbez01vTWNM"
      },
      "outputs": [],
      "source": [
        "%%capture\n",
        "!wget https://mhdownload.riksdagen.se/VOD1/188373_20000_965995.mp4"
      ]
    },
    {
      "cell_type": "code",
      "execution_count": 3,
      "metadata": {
        "id": "Ta_DVd12TMPd"
      },
      "outputs": [],
      "source": [
        "SAMPLE = \"188373_20000_965995.mp4\""
      ]
    },
    {
      "cell_type": "code",
      "execution_count": 4,
      "metadata": {
        "id": "TjY1elXPTbgR"
      },
      "outputs": [],
      "source": [
        "import face_recognition\n",
        "import cv2"
      ]
    },
    {
      "cell_type": "code",
      "execution_count": null,
      "metadata": {
        "id": "XyXLqnnnTevC"
      },
      "outputs": [],
      "source": [
        "video = cv2.VideoCapture(SAMPLE)\n",
        "frameno = 1\n",
        "\n",
        "detections = []\n",
        "while True:\n",
        "    ret, frame = video.read()\n",
        "    try:\n",
        "      small_frame = cv2.resize(frame, (0, 0), fx=0.25, fy=0.25)\n",
        "    except:\n",
        "      continue\n",
        "    face_locations = face_recognition.face_locations(small_frame, model=\"cnn\")\n",
        "\n",
        "    locations = []\n",
        "    for top, right, bottom, left in face_locations:\n",
        "        current = {}\n",
        "        current[\"top\"] = top * 4\n",
        "        current[\"right\"] = right * 4\n",
        "        current[\"bottom\"] = bottom * 4\n",
        "        current[\"left\"] = left * 4\n",
        "        locations.append(current)\n",
        "    if len(locations) != 0:\n",
        "        current_frame = {}\n",
        "        current_frame[\"frame\"] = frameno\n",
        "        current_frame[\"detections\"] = locations\n",
        "        detections.append(current_frame)\n",
        "    frameno += 1\n"
      ]
    },
    {
      "cell_type": "code",
      "execution_count": null,
      "metadata": {
        "colab": {
          "base_uri": "https://localhost:8080/"
        },
        "id": "8hx4VVm6Tsyy",
        "outputId": "bac2eef7-2516-4bb8-df43-4d3eac7c153a"
      },
      "outputs": [],
      "source": [
        "detections"
      ]
    }
  ],
  "metadata": {
    "accelerator": "GPU",
    "colab": {
      "name": "2022-03-24-cv2-riksdag.ipynb",
      "provenance": []
    },
    "kernelspec": {
      "display_name": "Python 3",
      "name": "python3"
    },
    "language_info": {
      "name": "python"
    }
  },
  "nbformat": 4,
  "nbformat_minor": 0
}
