{
 "cells": [
  {
   "cell_type": "code",
   "execution_count": 2,
   "metadata": {},
   "outputs": [],
   "source": [
    "import cv2"
   ]
  },
  {
   "cell_type": "code",
   "execution_count": 4,
   "metadata": {},
   "outputs": [],
   "source": [
    "SAMPLE = \"/Users/joregan/riksdag/videos/188373_20000_965995.mp4\""
   ]
  },
  {
   "cell_type": "code",
   "execution_count": 5,
   "metadata": {},
   "outputs": [],
   "source": [
    "def get_fps(video_path: str) -> float:\n",
    "    video = cv2.VideoCapture(video_path)\n",
    "    return video.get(cv2.CAP_PROP_FPS)"
   ]
  },
  {
   "cell_type": "code",
   "execution_count": 6,
   "metadata": {},
   "outputs": [],
   "source": [
    "!pip3 install face_recognition\n",
    "import face_recognition"
   ]
  },
  {
   "cell_type": "code",
   "execution_count": 3,
   "metadata": {},
   "outputs": [
    {
     "name": "stdout",
     "output_type": "stream",
     "text": [
      "\u001b[31mERROR: Could not find a version that satisfies the requirement cv2 (from versions: none)\u001b[0m\n",
      "\u001b[31mERROR: No matching distribution found for cv2\u001b[0m\n"
     ]
    }
   ],
   "source": [
    "!pip install cv2"
   ]
  },
  {
   "cell_type": "code",
   "execution_count": 2,
   "metadata": {},
   "outputs": [],
   "source": [
    "import face_recognition\n",
    "import cv2\n",
    "SAMPLE = \"/Users/joregan/riksdag/videos/188373_20000_965995.mp4\"\n",
    "\n",
    "video = cv2.VideoCapture(SAMPLE)\n",
    "frameno = 1\n",
    "\n",
    "detections = []\n",
    "while True:\n",
    "    ret, frame = video.read()\n",
    "    small_frame = cv2.resize(frame, (0, 0), fx=0.25, fy=0.25)\n",
    "    face_locations = face_recognition.face_locations(small_frame, model=\"cnn\")\n",
    "\n",
    "    current_frame = {}\n",
    "    current_frame[\"frame\"] = frameno\n",
    "\n",
    "    locations = []\n",
    "    for top, right, bottom, left in face_locations:\n",
    "        current = {}\n",
    "        current[\"top\"] = top * 4\n",
    "        current[\"right\"] = right * 4\n",
    "        current[\"bottom\"] = bottom * 4\n",
    "        current[\"left\"] = left * 4\n",
    "        locations.append(current)\n",
    "    current_frame[\"detections\"] = locations\n",
    "    detections.append(current_frame)\n",
    "    frameno += 1\n",
    "\n",
    "detections\n"
   ]
  },
  {
   "cell_type": "code",
   "execution_count": 1,
   "metadata": {},
   "outputs": [
    {
     "ename": "NameError",
     "evalue": "name 'detections' is not defined",
     "output_type": "error",
     "traceback": [
      "\u001b[0;31m---------------------------------------------------------------------------\u001b[0m",
      "\u001b[0;31mNameError\u001b[0m                                 Traceback (most recent call last)",
      "\u001b[1;32m/Users/joregan/Playing/notes/_drafts/2022-03-24-cv2-riksdag.ipynb Cell 1'\u001b[0m in \u001b[0;36m<module>\u001b[0;34m\u001b[0m\n\u001b[0;32m----> <a href='vscode-notebook-cell:/Users/joregan/Playing/notes/_drafts/2022-03-24-cv2-riksdag.ipynb#ch0000000?line=0'>1</a>\u001b[0m detections\n",
      "\u001b[0;31mNameError\u001b[0m: name 'detections' is not defined"
     ]
    }
   ],
   "source": [
    "detections"
   ]
  }
 ],
 "metadata": {
  "interpreter": {
   "hash": "d540b58ed381b08e1d59ae1450eb32a1dcbfb22cad4960e1d84da899b6d1256c"
  },
  "kernelspec": {
   "display_name": "Python 3.8.12 ('xfm')",
   "language": "python",
   "name": "python3"
  },
  "language_info": {
   "codemirror_mode": {
    "name": "ipython",
    "version": 3
   },
   "file_extension": ".py",
   "mimetype": "text/x-python",
   "name": "python",
   "nbconvert_exporter": "python",
   "pygments_lexer": "ipython3",
   "version": "3.8.12"
  },
  "orig_nbformat": 4
 },
 "nbformat": 4,
 "nbformat_minor": 2
}
