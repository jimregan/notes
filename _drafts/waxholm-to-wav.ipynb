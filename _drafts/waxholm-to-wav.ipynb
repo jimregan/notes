{
 "cells": [
  {
   "cell_type": "code",
   "execution_count": 1,
   "metadata": {},
   "outputs": [],
   "source": [
    "def smp_probe(filename: str) -> bool:\n",
    "    with open(filename, \"rb\") as f:\n",
    "        return f.read(9) == b\"file=samp\"\n",
    "\n",
    "\n",
    "def smp_headers(filename: str):\n",
    "    with open(filename, \"rb\") as f:\n",
    "        f.seek(0)\n",
    "        raw_headers = f.read(1024)\n",
    "        raw_headers = raw_headers.rstrip(b'\\x00')\n",
    "        asc_headers = raw_headers.decode(\"ascii\")\n",
    "        asc_headers.rstrip('\\x00')\n",
    "        tmp = [a for a in asc_headers.split(\"\\r\\n\")]\n",
    "        back = -1\n",
    "        while abs(back) > len(tmp) + 1:\n",
    "            if tmp[back] == '=':\n",
    "                break\n",
    "            back -= 1\n",
    "        tmp = tmp[0:back-1]\n",
    "        return dict(a.split(\"=\") for a in tmp)"
   ]
  },
  {
   "cell_type": "code",
   "execution_count": 2,
   "metadata": {},
   "outputs": [],
   "source": [
    "example = \"/Users/joregan/Playing/waxholm/scenes_formatted/fp2060/fp2060.11.04.smp\""
   ]
  },
  {
   "cell_type": "code",
   "execution_count": 5,
   "metadata": {},
   "outputs": [
    {
     "data": {
      "text/plain": [
       "1024"
      ]
     },
     "execution_count": 5,
     "metadata": {},
     "output_type": "execute_result"
    }
   ],
   "source": [
    "with open(example, \"rb\") as egf:\n",
    "    egf.seek(0)\n",
    "    blah = egf.read(1024)\n",
    "    a = egf.tell()\n",
    "a"
   ]
  },
  {
   "cell_type": "code",
   "execution_count": null,
   "metadata": {},
   "outputs": [],
   "source": [
    "def input_args(\n",
    "        save_dir,\n",
    "        tensorboard_logdir,\n",
    "        data,\n",
    "        empty_cache_freq=0,\n",
    "        freeze_updates=2000,  # Freeze all but the output layer\n",
    "        max_tokens_per_minibatch=6400000,\n",
    "        dropout=0.1,\n",
    "        random_seed=5728395,\n",
    "        weight_decay=0.0\n",
    "):\n",
    "    # This is pretty clunky, but still less clunky than bash imo\n",
    "    n_gpu = n_gpu or torch.cuda.device_count() or 1\n",
    "    update_freq = update_freq or math.ceil(max_tokens_per_minibatch / max_tokens / n_gpu)\n",
    "    args_string = f\"\"\"\n",
    "      {data}\n",
    "      --save-dir {save_dir}\n",
    "      --tensorboard-logdir {tensorboard_logdir}\n",
    "      --empty-cache-freq {empty_cache_freq}\n",
    "      --max-tokens-valid {max_tokens}\n",
    "      --feature-grad-mult 0.0\n",
    "      --freeze-finetune-updates {freeze_updates}\n",
    "      --dropout {dropout}\n",
    "      --seed {random_seed}\n",
    "    \"\"\""
   ]
  },
  {
   "cell_type": "code",
   "execution_count": 6,
   "metadata": {},
   "outputs": [
    {
     "name": "stdout",
     "output_type": "stream",
     "text": [
      "Writing config.yaml\n"
     ]
    }
   ],
   "source": [
    "%%writefile config.yaml\n",
    "common:\n",
    "  fp16: true\n",
    "  log_format: json\n",
    "  log_interval: 50\n",
    "\n",
    "checkpoint:\n",
    "  no_epoch_checkpoints: true\n",
    "  best_checkpoint_metric: uer\n",
    "\n",
    "task:\n",
    "  _name: audio_finetuning\n",
    "  data: ???\n",
    "  max_sample_size: 1120000\n",
    "  normalize: false\n",
    "  labels: ltr\n",
    "\n",
    "dataset:\n",
    "  num_workers: 1\n",
    "  max_tokens: 1120000\n",
    "  skip_invalid_size_inputs_valid_test: true\n",
    "  validate_after_updates: 1000\n",
    "  validate_interval: 1\n",
    "  valid_subset: valid\n",
    "\n",
    "distributed_training:\n",
    "  ddp_backend: no_c10d\n",
    "  distributed_world_size: 1\n",
    "\n",
    "criterion:\n",
    "  _name: ctc\n",
    "  zero_infinity: true\n",
    "\n",
    "optimization:\n",
    "  max_update: 12000\n",
    "  lr: [0.00005]\n",
    "  sentence_avg: true\n",
    "  weight_decay: 0.0\n",
    "  update_freq: []\n",
    "\n",
    "optimizer:\n",
    "  _name: adam\n",
    "  adam_betas: (0.9,0.98)\n",
    "  adam_eps: 1e-08\n",
    "\n",
    "lr_scheduler:\n",
    "  _name: tri_stage\n",
    "  phase_ratio: [0.33, 0.33, 0.33]\n",
    "  final_lr_scale: 0.05\n",
    "\n",
    "model:\n",
    "  _name: wav2vec_ctc\n",
    "  w2v_path: ???\n",
    "  apply_mask: true\n",
    "  mask_prob: 0.65\n",
    "  mask_channel_prob: 0.25\n",
    "  mask_channel_length: 64\n",
    "  layerdrop: 0.1\n",
    "  activation_dropout: 0.1\n",
    "  feature_grad_mult: 0.0\n",
    "  freeze_finetune_updates: 0\n",
    "  final_dropout: 0.1\n",
    "  attention_dropout: 0.1"
   ]
  },
  {
   "cell_type": "code",
   "execution_count": 8,
   "metadata": {},
   "outputs": [
    {
     "name": "stdout",
     "output_type": "stream",
     "text": [
      "Overwriting new.yaml\n"
     ]
    }
   ],
   "source": [
    "%%writefile new.yaml\n",
    "# @package _group_\n",
    "\n",
    "common:\n",
    "  fp16: true\n",
    "  log_format: json\n",
    "  log_interval: 200\n",
    "\n",
    "checkpoint:\n",
    "  save_interval: 1000\n",
    "  save_interval_updates: 50\n",
    "  keep_interval_updates: 1\n",
    "  no_epoch_checkpoints: true\n",
    "  best_checkpoint_metric: uer\n",
    "\n",
    "task:\n",
    "  _name: audio_pretraining\n",
    "  data: ???\n",
    "  normalize: false\n",
    "  labels: ltr\n",
    "\n",
    "dataset:\n",
    "  num_workers: 1\n",
    "  max_tokens: 1120000\n",
    "  skip_invalid_size_inputs_valid_test: true\n",
    "  validate_after_updates: 1000\n",
    "  validate_interval: 1\n",
    "  valid_subset: valid\n",
    "\n",
    "distributed_training:\n",
    "  ddp_backend: no_c10d\n",
    "  distributed_world_size: 1\n",
    "\n",
    "criterion:\n",
    "  _name: ctc\n",
    "  zero_infinity: true\n",
    "\n",
    "optimization:\n",
    "  max_update: 12000\n",
    "  lr: [0.00005]\n",
    "  sentence_avg: true\n",
    "  update_freq: [4]\n",
    "\n",
    "optimizer:\n",
    "  _name: adam\n",
    "  adam_betas: (0.9,0.98)\n",
    "  adam_eps: 1e-08\n",
    "\n",
    "lr_scheduler:\n",
    "  _name: tri_stage\n",
    "  phase_ratio: [0.1, 0.4, 0.5]\n",
    "  final_lr_scale: 0.05\n",
    "\n",
    "model:\n",
    "  _name: wav2vec_ctc\n",
    "  w2v_path: ???\n",
    "  apply_mask: true\n",
    "  mask_prob: 0.65\n",
    "  mask_channel_prob: 0.25\n",
    "  mask_channel_length: 64\n",
    "  layerdrop: 0.1\n",
    "  activation_dropout: 0.1\n",
    "  feature_grad_mult: 0.0\n",
    "  final_dropout: 0.1\n",
    "  attention_dropout: 0.1\n",
    "  freeze_finetune_updates: 0\n"
   ]
  }
 ],
 "metadata": {
  "interpreter": {
   "hash": "dd927b719e572b496e2474453a2ada7f45c90bda9f6c95960374c767a23741c2"
  },
  "kernelspec": {
   "display_name": "Python 3.8.12 64-bit ('psst')",
   "language": "python",
   "name": "python3"
  },
  "language_info": {
   "codemirror_mode": {
    "name": "ipython",
    "version": 3
   },
   "file_extension": ".py",
   "mimetype": "text/x-python",
   "name": "python",
   "nbconvert_exporter": "python",
   "pygments_lexer": "ipython3",
   "version": "3.8.12"
  },
  "orig_nbformat": 4
 },
 "nbformat": 4,
 "nbformat_minor": 2
}
