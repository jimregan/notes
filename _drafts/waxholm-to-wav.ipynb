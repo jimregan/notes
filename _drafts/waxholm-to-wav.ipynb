{
 "cells": [
  {
   "cell_type": "code",
   "execution_count": 1,
   "metadata": {},
   "outputs": [],
   "source": [
    "def smp_probe(filename: str) -> bool:\n",
    "    with open(filename, \"rb\") as f:\n",
    "        return f.read(9) == b\"file=samp\"\n",
    "\n",
    "\n",
    "def smp_headers(filename: str):\n",
    "    with open(filename, \"rb\") as f:\n",
    "        f.seek(0)\n",
    "        raw_headers = f.read(1024)\n",
    "        raw_headers = raw_headers.rstrip(b'\\x00')\n",
    "        asc_headers = raw_headers.decode(\"ascii\")\n",
    "        asc_headers.rstrip('\\x00')\n",
    "        tmp = [a for a in asc_headers.split(\"\\r\\n\")]\n",
    "        back = -1\n",
    "        while abs(back) > len(tmp) + 1:\n",
    "            if tmp[back] == '=':\n",
    "                break\n",
    "            back -= 1\n",
    "        tmp = tmp[0:back-1]\n",
    "        return dict(a.split(\"=\") for a in tmp)"
   ]
  },
  {
   "cell_type": "code",
   "execution_count": 2,
   "metadata": {},
   "outputs": [],
   "source": [
    "example = \"/Users/joregan/Playing/waxholm/scenes_formatted/fp2060/fp2060.11.04.smp\""
   ]
  },
  {
   "cell_type": "code",
   "execution_count": 5,
   "metadata": {},
   "outputs": [
    {
     "data": {
      "text/plain": [
       "1024"
      ]
     },
     "execution_count": 5,
     "metadata": {},
     "output_type": "execute_result"
    }
   ],
   "source": [
    "with open(example, \"rb\") as egf:\n",
    "    egf.seek(0)\n",
    "    blah = egf.read(1024)\n",
    "    a = egf.tell()\n",
    "a"
   ]
  },
  {
   "cell_type": "code",
   "execution_count": 12,
   "metadata": {},
   "outputs": [
    {
     "name": "stdout",
     "output_type": "stream",
     "text": [
      "The maximum value possible is  930\n"
     ]
    }
   ],
   "source": [
    "# Unbounded Knapsack Problem\n",
    "def UnboundedKnapsack(Capacity,n,weight,val):\n",
    "    dp=[]\n",
    "    for i in range(Capacity+1):\n",
    "        dp.append(0)\n",
    "    for i in range(0,Capacity+1):\n",
    "        for j in range(0,n):\n",
    "            if weight[j] < i:\n",
    "                dp[i] = max(dp[i] , dp[i-weight[j]]+val[j])\n",
    "    return dp[Capacity]\n",
    "''' No. of items '''\n",
    "n = 4\n",
    "''' Weights of all items '''\n",
    "weight = [5,10,8,15]\n",
    "''' Values of all items '''\n",
    "val = [40,30,50,25]\n",
    "''' Capacity of Knapsack '''\n",
    "Capacity = 120\n",
    "print(\"The maximum value possible is \",UnboundedKnapsack(Capacity,n,weight,val))\n"
   ]
  }
 ],
 "metadata": {
  "interpreter": {
   "hash": "dd927b719e572b496e2474453a2ada7f45c90bda9f6c95960374c767a23741c2"
  },
  "kernelspec": {
   "display_name": "Python 3.8.12 64-bit ('psst')",
   "language": "python",
   "name": "python3"
  },
  "language_info": {
   "codemirror_mode": {
    "name": "ipython",
    "version": 3
   },
   "file_extension": ".py",
   "mimetype": "text/x-python",
   "name": "python",
   "nbconvert_exporter": "python",
   "pygments_lexer": "ipython3",
   "version": "3.8.12"
  },
  "orig_nbformat": 4
 },
 "nbformat": 4,
 "nbformat_minor": 2
}
