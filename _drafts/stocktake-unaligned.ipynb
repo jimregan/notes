{
 "cells": [
  {
   "cell_type": "markdown",
   "metadata": {},
   "source": [
    "First thing: check that this is running on the right computer:"
   ]
  },
  {
   "cell_type": "code",
   "execution_count": 1,
   "metadata": {},
   "outputs": [],
   "source": [
    "import socket\n",
    "assert socket.gethostname() == \"lcs098116\""
   ]
  },
  {
   "cell_type": "code",
   "execution_count": 2,
   "metadata": {},
   "outputs": [],
   "source": [
    "from pathlib import Path\n",
    "base_path = Path('/media/storage/jim/speech-syn/Corpora')"
   ]
  },
  {
   "cell_type": "markdown",
   "metadata": {},
   "source": [
    "Some imports for later:"
   ]
  },
  {
   "cell_type": "code",
   "execution_count": 3,
   "metadata": {},
   "outputs": [],
   "source": [
    "from pydub import AudioSegment\n",
    "import numpy as np\n",
    "import datetime\n",
    "import pandas as pd"
   ]
  },
  {
   "cell_type": "code",
   "execution_count": 4,
   "metadata": {},
   "outputs": [],
   "source": [
    "df = pd.DataFrame(columns=[\"name\", \"seconds\", \"hms\"])\n",
    "df_cnt = 0"
   ]
  },
  {
   "cell_type": "code",
   "execution_count": 5,
   "metadata": {},
   "outputs": [],
   "source": [
    "def sum_path_by_type(path, pattern):\n",
    "    acc = []\n",
    "    for audio in path.glob(pattern):\n",
    "        audio = AudioSegment.from_file(str(audio))\n",
    "        acc.append(audio.duration_seconds)\n",
    "    return np.sum(acc)"
   ]
  },
  {
   "cell_type": "code",
   "execution_count": 6,
   "metadata": {},
   "outputs": [],
   "source": [
    "CO = base_path / \"ga_CO\"/ \"pmg\""
   ]
  },
  {
   "cell_type": "code",
   "execution_count": 8,
   "metadata": {},
   "outputs": [],
   "source": [
    "paths = []\n",
    "for entry in CO.glob(\"RC[A-Z]*\"):\n",
    "    subpath = entry / \"ogg\"\n",
    "    if subpath.is_dir():\n",
    "        paths.append(subpath)"
   ]
  },
  {
   "cell_type": "code",
   "execution_count": 11,
   "metadata": {},
   "outputs": [],
   "source": [
    "all_paths = [CO / \"AllOriginalWavFiles\",\n",
    "             CO / \"AllTrimmedWavFiles44kHz\",\n",
    "             CO / \"RC_ALL\" / \"wav\",\n",
    "             CO / \"RC_ALL_141118\" / \"wav44\",\n",
    "             CO / \"RC_ALL_141118\" / \"wav\"]"
   ]
  },
  {
   "cell_type": "code",
   "execution_count": 34,
   "metadata": {},
   "outputs": [],
   "source": [
    "short_paths =  [\"AllOriginalWavFiles\",\n",
    "                \"AllTrimmedWavFiles44kHz\",\n",
    "                \"RC_ALL/wav\",\n",
    "                \"RC_ALL_141118/wav44\",\n",
    "                \"RC_ALL_141118/wav\"]"
   ]
  },
  {
   "cell_type": "code",
   "execution_count": 29,
   "metadata": {},
   "outputs": [],
   "source": [
    "def get_wave_stems(dir):\n",
    "    ret = []\n",
    "    for f in dir.glob(\"*.wav\"):\n",
    "        ret.append(str(f))\n",
    "    return ret"
   ]
  },
  {
   "cell_type": "code",
   "execution_count": 32,
   "metadata": {},
   "outputs": [],
   "source": [
    "stems = {str(d): get_wave_stems(d) for d in all_paths}"
   ]
  },
  {
   "cell_type": "code",
   "execution_count": 33,
   "metadata": {},
   "outputs": [
    {
     "name": "stdout",
     "output_type": "stream",
     "text": [
      "{'/media/storage/jim/speech-syn/Corpora/ga_CO/pmg/AllOriginalWavFiles': False, '/media/storage/jim/speech-syn/Corpora/ga_CO/pmg/AllTrimmedWavFiles44kHz': False, '/media/storage/jim/speech-syn/Corpora/ga_CO/pmg/RC_ALL/wav': False, '/media/storage/jim/speech-syn/Corpora/ga_CO/pmg/RC_ALL_141118/wav44': False, '/media/storage/jim/speech-syn/Corpora/ga_CO/pmg/RC_ALL_141118/wav': False}\n",
      "{'/media/storage/jim/speech-syn/Corpora/ga_CO/pmg/AllOriginalWavFiles': False, '/media/storage/jim/speech-syn/Corpora/ga_CO/pmg/AllTrimmedWavFiles44kHz': False, '/media/storage/jim/speech-syn/Corpora/ga_CO/pmg/RC_ALL/wav': False, '/media/storage/jim/speech-syn/Corpora/ga_CO/pmg/RC_ALL_141118/wav44': False, '/media/storage/jim/speech-syn/Corpora/ga_CO/pmg/RC_ALL_141118/wav': False}\n",
      "{'/media/storage/jim/speech-syn/Corpora/ga_CO/pmg/AllOriginalWavFiles': False, '/media/storage/jim/speech-syn/Corpora/ga_CO/pmg/AllTrimmedWavFiles44kHz': False, '/media/storage/jim/speech-syn/Corpora/ga_CO/pmg/RC_ALL/wav': False, '/media/storage/jim/speech-syn/Corpora/ga_CO/pmg/RC_ALL_141118/wav44': False, '/media/storage/jim/speech-syn/Corpora/ga_CO/pmg/RC_ALL_141118/wav': False}\n",
      "{'/media/storage/jim/speech-syn/Corpora/ga_CO/pmg/AllOriginalWavFiles': False, '/media/storage/jim/speech-syn/Corpora/ga_CO/pmg/AllTrimmedWavFiles44kHz': False, '/media/storage/jim/speech-syn/Corpora/ga_CO/pmg/RC_ALL/wav': False, '/media/storage/jim/speech-syn/Corpora/ga_CO/pmg/RC_ALL_141118/wav44': False, '/media/storage/jim/speech-syn/Corpora/ga_CO/pmg/RC_ALL_141118/wav': False}\n",
      "{'/media/storage/jim/speech-syn/Corpora/ga_CO/pmg/AllOriginalWavFiles': False, '/media/storage/jim/speech-syn/Corpora/ga_CO/pmg/AllTrimmedWavFiles44kHz': False, '/media/storage/jim/speech-syn/Corpora/ga_CO/pmg/RC_ALL/wav': False, '/media/storage/jim/speech-syn/Corpora/ga_CO/pmg/RC_ALL_141118/wav44': False, '/media/storage/jim/speech-syn/Corpora/ga_CO/pmg/RC_ALL_141118/wav': False}\n",
      "{'/media/storage/jim/speech-syn/Corpora/ga_CO/pmg/AllOriginalWavFiles': False, '/media/storage/jim/speech-syn/Corpora/ga_CO/pmg/AllTrimmedWavFiles44kHz': False, '/media/storage/jim/speech-syn/Corpora/ga_CO/pmg/RC_ALL/wav': False, '/media/storage/jim/speech-syn/Corpora/ga_CO/pmg/RC_ALL_141118/wav44': False, '/media/storage/jim/speech-syn/Corpora/ga_CO/pmg/RC_ALL_141118/wav': False}\n",
      "{'/media/storage/jim/speech-syn/Corpora/ga_CO/pmg/AllOriginalWavFiles': False, '/media/storage/jim/speech-syn/Corpora/ga_CO/pmg/AllTrimmedWavFiles44kHz': False, '/media/storage/jim/speech-syn/Corpora/ga_CO/pmg/RC_ALL/wav': False, '/media/storage/jim/speech-syn/Corpora/ga_CO/pmg/RC_ALL_141118/wav44': False, '/media/storage/jim/speech-syn/Corpora/ga_CO/pmg/RC_ALL_141118/wav': False}\n",
      "{'/media/storage/jim/speech-syn/Corpora/ga_CO/pmg/AllOriginalWavFiles': False, '/media/storage/jim/speech-syn/Corpora/ga_CO/pmg/AllTrimmedWavFiles44kHz': False, '/media/storage/jim/speech-syn/Corpora/ga_CO/pmg/RC_ALL/wav': False, '/media/storage/jim/speech-syn/Corpora/ga_CO/pmg/RC_ALL_141118/wav44': False, '/media/storage/jim/speech-syn/Corpora/ga_CO/pmg/RC_ALL_141118/wav': False}\n",
      "{'/media/storage/jim/speech-syn/Corpora/ga_CO/pmg/AllOriginalWavFiles': False, '/media/storage/jim/speech-syn/Corpora/ga_CO/pmg/AllTrimmedWavFiles44kHz': False, '/media/storage/jim/speech-syn/Corpora/ga_CO/pmg/RC_ALL/wav': False, '/media/storage/jim/speech-syn/Corpora/ga_CO/pmg/RC_ALL_141118/wav44': False, '/media/storage/jim/speech-syn/Corpora/ga_CO/pmg/RC_ALL_141118/wav': False}\n",
      "{'/media/storage/jim/speech-syn/Corpora/ga_CO/pmg/AllOriginalWavFiles': False, '/media/storage/jim/speech-syn/Corpora/ga_CO/pmg/AllTrimmedWavFiles44kHz': False, '/media/storage/jim/speech-syn/Corpora/ga_CO/pmg/RC_ALL/wav': False, '/media/storage/jim/speech-syn/Corpora/ga_CO/pmg/RC_ALL_141118/wav44': False, '/media/storage/jim/speech-syn/Corpora/ga_CO/pmg/RC_ALL_141118/wav': False}\n",
      "{'/media/storage/jim/speech-syn/Corpora/ga_CO/pmg/AllOriginalWavFiles': False, '/media/storage/jim/speech-syn/Corpora/ga_CO/pmg/AllTrimmedWavFiles44kHz': False, '/media/storage/jim/speech-syn/Corpora/ga_CO/pmg/RC_ALL/wav': False, '/media/storage/jim/speech-syn/Corpora/ga_CO/pmg/RC_ALL_141118/wav44': False, '/media/storage/jim/speech-syn/Corpora/ga_CO/pmg/RC_ALL_141118/wav': False}\n",
      "{'/media/storage/jim/speech-syn/Corpora/ga_CO/pmg/AllOriginalWavFiles': False, '/media/storage/jim/speech-syn/Corpora/ga_CO/pmg/AllTrimmedWavFiles44kHz': False, '/media/storage/jim/speech-syn/Corpora/ga_CO/pmg/RC_ALL/wav': False, '/media/storage/jim/speech-syn/Corpora/ga_CO/pmg/RC_ALL_141118/wav44': False, '/media/storage/jim/speech-syn/Corpora/ga_CO/pmg/RC_ALL_141118/wav': False}\n",
      "{'/media/storage/jim/speech-syn/Corpora/ga_CO/pmg/AllOriginalWavFiles': False, '/media/storage/jim/speech-syn/Corpora/ga_CO/pmg/AllTrimmedWavFiles44kHz': False, '/media/storage/jim/speech-syn/Corpora/ga_CO/pmg/RC_ALL/wav': False, '/media/storage/jim/speech-syn/Corpora/ga_CO/pmg/RC_ALL_141118/wav44': False, '/media/storage/jim/speech-syn/Corpora/ga_CO/pmg/RC_ALL_141118/wav': False}\n",
      "{'/media/storage/jim/speech-syn/Corpora/ga_CO/pmg/AllOriginalWavFiles': False, '/media/storage/jim/speech-syn/Corpora/ga_CO/pmg/AllTrimmedWavFiles44kHz': False, '/media/storage/jim/speech-syn/Corpora/ga_CO/pmg/RC_ALL/wav': False, '/media/storage/jim/speech-syn/Corpora/ga_CO/pmg/RC_ALL_141118/wav44': False, '/media/storage/jim/speech-syn/Corpora/ga_CO/pmg/RC_ALL_141118/wav': False}\n",
      "{'/media/storage/jim/speech-syn/Corpora/ga_CO/pmg/AllOriginalWavFiles': False, '/media/storage/jim/speech-syn/Corpora/ga_CO/pmg/AllTrimmedWavFiles44kHz': False, '/media/storage/jim/speech-syn/Corpora/ga_CO/pmg/RC_ALL/wav': False, '/media/storage/jim/speech-syn/Corpora/ga_CO/pmg/RC_ALL_141118/wav44': False, '/media/storage/jim/speech-syn/Corpora/ga_CO/pmg/RC_ALL_141118/wav': False}\n",
      "{'/media/storage/jim/speech-syn/Corpora/ga_CO/pmg/AllOriginalWavFiles': False, '/media/storage/jim/speech-syn/Corpora/ga_CO/pmg/AllTrimmedWavFiles44kHz': False, '/media/storage/jim/speech-syn/Corpora/ga_CO/pmg/RC_ALL/wav': False, '/media/storage/jim/speech-syn/Corpora/ga_CO/pmg/RC_ALL_141118/wav44': False, '/media/storage/jim/speech-syn/Corpora/ga_CO/pmg/RC_ALL_141118/wav': False}\n",
      "{'/media/storage/jim/speech-syn/Corpora/ga_CO/pmg/AllOriginalWavFiles': False, '/media/storage/jim/speech-syn/Corpora/ga_CO/pmg/AllTrimmedWavFiles44kHz': False, '/media/storage/jim/speech-syn/Corpora/ga_CO/pmg/RC_ALL/wav': False, '/media/storage/jim/speech-syn/Corpora/ga_CO/pmg/RC_ALL_141118/wav44': False, '/media/storage/jim/speech-syn/Corpora/ga_CO/pmg/RC_ALL_141118/wav': False}\n"
     ]
    }
   ],
   "source": [
    "def get_ogg_stems(dir):\n",
    "    ret = []\n",
    "    for f in dir.glob(\"*.ogg\"):\n",
    "        ret.append(f.stem)\n",
    "    return ret\n",
    "\n",
    "def is_in(a, b):\n",
    "    return set(a).issubset(b)\n",
    "\n",
    "\n",
    "for pth in paths:\n",
    "    pth_stems = get_ogg_stems(pth)\n",
    "    pth_bools = {k: is_in(pth_stems, v) for (k, v) in stems.items()}\n",
    "    print(pth_bools)\n",
    "\n",
    "#stems_subsets = {k: }\n",
    "\n",
    "#{key:value for (k, v) in dictonary.items()}"
   ]
  },
  {
   "cell_type": "code",
   "execution_count": 17,
   "metadata": {},
   "outputs": [],
   "source": [
    "totals = {}\n",
    "skipdirs = [\"CloIarChonnacht\", \"no-subtitles-kids\", \"lm-data\", \"scripts\", \"unsorted-march\", \"coislife\"]\n",
    "for subdir in base_path.glob('*'):\n",
    "    dirname = subdir.stem\n",
    "    if not subdir.is_dir() or dirname in skipdirs:\n",
    "        continue\n",
    "    if dirname == \"RnaG\":\n",
    "        totals[dirname] = sum_path_by_type(subdir, \"*.mp3\")\n",
    "    else:\n",
    "        totals[dirname] = sum_path_by_type(subdir, \"*.wav\")"
   ]
  },
  {
   "cell_type": "code",
   "execution_count": 18,
   "metadata": {},
   "outputs": [],
   "source": [
    "totals_hms = {a: str(datetime.timedelta(seconds=b)) for (a, b) in totals.items()}"
   ]
  },
  {
   "cell_type": "code",
   "execution_count": 19,
   "metadata": {},
   "outputs": [
    {
     "name": "stdout",
     "output_type": "stream",
     "text": [
      "dinotrain: 14779.008687500002 seconds (4:06:19.008688)\n",
      "wallaceandgromit: 1753.088 seconds (0:29:13.088000)\n",
      "olivia: 25482.027499999997 seconds (7:04:42.027500)\n",
      "catahata: 38876.886375 seconds (10:47:56.886375)\n",
      "gearoidnagaisce: 30558.4431875 seconds (8:29:18.443188)\n",
      "astroblast: 23867.09375 seconds (6:37:47.093750)\n",
      "saolfaoishraid: 17351.061875 seconds (4:49:11.061875)\n",
      "amhrannamara: 5370.0906875 seconds (1:29:30.090688)\n",
      "RnaG: 6864.117551020408 seconds (1:54:24.117551)\n",
      "lurgan2k17: 700.565375 seconds (0:11:40.565375)\n",
      "qpootle: 1616.085375 seconds (0:26:56.085375)\n",
      "niko: 4669.0986875 seconds (1:17:49.098687)\n",
      "dora: 9678.5066875 seconds (2:41:18.506687)\n",
      "rosnarun: 42406.0379375 seconds (11:46:46.037937)\n",
      "wac: 13111.8935 seconds (3:38:31.893500)\n",
      "garfield: 54822.1880625 seconds (15:13:42.188062)\n",
      "harveybeaks: 21050.4538125 seconds (5:50:50.453812)\n",
      "whizsachistin: 24511.5950625 seconds (6:48:31.595063)\n",
      "toirbeir: 1471.104 seconds (0:24:31.104000)\n",
      "spongebob: 3656.4054375 seconds (1:00:56.405438)\n",
      "bealoideasbeo: 1475.6906875 seconds (0:24:35.690687)\n"
     ]
    }
   ],
   "source": [
    "for dir in totals_hms.keys():\n",
    "    print(f\"{dir}: {totals[dir]} seconds ({totals_hms[dir]})\")"
   ]
  },
  {
   "cell_type": "code",
   "execution_count": 21,
   "metadata": {},
   "outputs": [],
   "source": [
    "for scdir in totals_hms.keys():\n",
    "    df.loc[df_cnt] = [f\"{scdir}\", totals[scdir], totals_hms[scdir]]\n",
    "    df_cnt += 1"
   ]
  },
  {
   "cell_type": "code",
   "execution_count": 22,
   "metadata": {},
   "outputs": [],
   "source": [
    "df.to_csv(\"unaligned.csv\")"
   ]
  },
  {
   "cell_type": "code",
   "execution_count": 23,
   "metadata": {},
   "outputs": [
    {
     "data": {
      "text/html": [
       "<table border=\"1\" class=\"dataframe\">\n",
       "  <thead>\n",
       "    <tr style=\"text-align: right;\">\n",
       "      <th></th>\n",
       "      <th>name</th>\n",
       "      <th>seconds</th>\n",
       "      <th>hms</th>\n",
       "    </tr>\n",
       "  </thead>\n",
       "  <tbody>\n",
       "    <tr>\n",
       "      <th>0</th>\n",
       "      <td>dinotrain</td>\n",
       "      <td>14779.008688</td>\n",
       "      <td>4:06:19.008688</td>\n",
       "    </tr>\n",
       "    <tr>\n",
       "      <th>1</th>\n",
       "      <td>wallaceandgromit</td>\n",
       "      <td>1753.088000</td>\n",
       "      <td>0:29:13.088000</td>\n",
       "    </tr>\n",
       "    <tr>\n",
       "      <th>2</th>\n",
       "      <td>olivia</td>\n",
       "      <td>25482.027500</td>\n",
       "      <td>7:04:42.027500</td>\n",
       "    </tr>\n",
       "    <tr>\n",
       "      <th>3</th>\n",
       "      <td>catahata</td>\n",
       "      <td>38876.886375</td>\n",
       "      <td>10:47:56.886375</td>\n",
       "    </tr>\n",
       "    <tr>\n",
       "      <th>4</th>\n",
       "      <td>gearoidnagaisce</td>\n",
       "      <td>30558.443188</td>\n",
       "      <td>8:29:18.443188</td>\n",
       "    </tr>\n",
       "    <tr>\n",
       "      <th>5</th>\n",
       "      <td>astroblast</td>\n",
       "      <td>23867.093750</td>\n",
       "      <td>6:37:47.093750</td>\n",
       "    </tr>\n",
       "    <tr>\n",
       "      <th>6</th>\n",
       "      <td>saolfaoishraid</td>\n",
       "      <td>17351.061875</td>\n",
       "      <td>4:49:11.061875</td>\n",
       "    </tr>\n",
       "    <tr>\n",
       "      <th>7</th>\n",
       "      <td>amhrannamara</td>\n",
       "      <td>5370.090688</td>\n",
       "      <td>1:29:30.090688</td>\n",
       "    </tr>\n",
       "    <tr>\n",
       "      <th>8</th>\n",
       "      <td>RnaG</td>\n",
       "      <td>6864.117551</td>\n",
       "      <td>1:54:24.117551</td>\n",
       "    </tr>\n",
       "    <tr>\n",
       "      <th>9</th>\n",
       "      <td>lurgan2k17</td>\n",
       "      <td>700.565375</td>\n",
       "      <td>0:11:40.565375</td>\n",
       "    </tr>\n",
       "    <tr>\n",
       "      <th>10</th>\n",
       "      <td>qpootle</td>\n",
       "      <td>1616.085375</td>\n",
       "      <td>0:26:56.085375</td>\n",
       "    </tr>\n",
       "    <tr>\n",
       "      <th>11</th>\n",
       "      <td>niko</td>\n",
       "      <td>4669.098687</td>\n",
       "      <td>1:17:49.098687</td>\n",
       "    </tr>\n",
       "    <tr>\n",
       "      <th>12</th>\n",
       "      <td>dora</td>\n",
       "      <td>9678.506687</td>\n",
       "      <td>2:41:18.506687</td>\n",
       "    </tr>\n",
       "    <tr>\n",
       "      <th>13</th>\n",
       "      <td>rosnarun</td>\n",
       "      <td>42406.037937</td>\n",
       "      <td>11:46:46.037937</td>\n",
       "    </tr>\n",
       "    <tr>\n",
       "      <th>14</th>\n",
       "      <td>wac</td>\n",
       "      <td>13111.893500</td>\n",
       "      <td>3:38:31.893500</td>\n",
       "    </tr>\n",
       "    <tr>\n",
       "      <th>15</th>\n",
       "      <td>garfield</td>\n",
       "      <td>54822.188062</td>\n",
       "      <td>15:13:42.188062</td>\n",
       "    </tr>\n",
       "    <tr>\n",
       "      <th>16</th>\n",
       "      <td>harveybeaks</td>\n",
       "      <td>21050.453812</td>\n",
       "      <td>5:50:50.453812</td>\n",
       "    </tr>\n",
       "    <tr>\n",
       "      <th>17</th>\n",
       "      <td>whizsachistin</td>\n",
       "      <td>24511.595063</td>\n",
       "      <td>6:48:31.595063</td>\n",
       "    </tr>\n",
       "    <tr>\n",
       "      <th>18</th>\n",
       "      <td>toirbeir</td>\n",
       "      <td>1471.104000</td>\n",
       "      <td>0:24:31.104000</td>\n",
       "    </tr>\n",
       "    <tr>\n",
       "      <th>19</th>\n",
       "      <td>spongebob</td>\n",
       "      <td>3656.405438</td>\n",
       "      <td>1:00:56.405438</td>\n",
       "    </tr>\n",
       "    <tr>\n",
       "      <th>20</th>\n",
       "      <td>bealoideasbeo</td>\n",
       "      <td>1475.690687</td>\n",
       "      <td>0:24:35.690687</td>\n",
       "    </tr>\n",
       "  </tbody>\n",
       "</table>"
      ],
      "text/plain": [
       "<IPython.core.display.HTML object>"
      ]
     },
     "metadata": {},
     "output_type": "display_data"
    }
   ],
   "source": [
    "from IPython.display import display, HTML\n",
    "display(HTML(df.to_html()))"
   ]
  },
  {
   "cell_type": "code",
   "execution_count": 24,
   "metadata": {},
   "outputs": [
    {
     "name": "stdout",
     "output_type": "stream",
     "text": [
      "Total: 344071.44223852037 (3 days, 23:34:31.442239)\n"
     ]
    }
   ],
   "source": [
    "total_all = np.sum(df['seconds'])\n",
    "total_all_hms = str(datetime.timedelta(seconds=total_all))\n",
    "print(f'Total: {total_all} ({total_all_hms})')"
   ]
  }
 ],
 "metadata": {
  "kernelspec": {
   "display_name": "Python 3",
   "language": "python",
   "name": "python3"
  },
  "language_info": {
   "codemirror_mode": {
    "name": "ipython",
    "version": 3
   },
   "file_extension": ".py",
   "mimetype": "text/x-python",
   "name": "python",
   "nbconvert_exporter": "python",
   "pygments_lexer": "ipython3",
   "version": "3.6.9"
  }
 },
 "nbformat": 4,
 "nbformat_minor": 2
}
