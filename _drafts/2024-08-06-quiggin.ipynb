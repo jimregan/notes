{
 "cells": [
  {
   "cell_type": "markdown",
   "metadata": {},
   "source": [
    "[Start page](https://en.wikisource.org/wiki/Page:Quiggin_Dialect_of_Donegal_0005.png)"
   ]
  },
  {
   "cell_type": "code",
   "execution_count": 31,
   "metadata": {},
   "outputs": [],
   "source": [
    "DATA = {}"
   ]
  },
  {
   "cell_type": "code",
   "execution_count": 41,
   "metadata": {},
   "outputs": [],
   "source": [
    "SOURCES = {\n",
    "    \"Atk.\": \"atkinsons\",\n",
    "    \"Cl. S.\": \"claidheamh_soluis\",\n",
    "    \"D. P.\": \"derry_people\",\n",
    "    \"Di.\": \"dinneen\",\n",
    "    \"Diss.\": \"die_lautliche_geltung\",\n",
    "    \"Finck\": \"finck\",\n",
    "    \"G. J.\": \"gaelic_journal\",\n",
    "    \"Henebry\": \"henebry\",\n",
    "    \"Hogan\": \"hogan\",\n",
    "    \"Macbain\": \"macbain\",\n",
    "    \"Meyer\": \"meyer\",\n",
    "    \"Molloy\": \"molloy\",\n",
    "    \"Pedersen\": \"pedersen\",\n",
    "    \"Rhys\": \"rhys\",\n",
    "    \"Sg. Fearn.\": \"sgeulaidhe_fearnmhuighe\",\n",
    "    \"Spir. Rose\": \"spiritual_rose\",\n",
    "    \"O’R.\": \"oreilly\",\n",
    "    \"Wi.\": \"windisch\",\n",
    "    \"O.Ir. acc. pl.\": \"old_irish_accusative_plural\",\n",
    "\n",
    "    \"M.Ir.\": \"middle_irish\",\n",
    "    \"O.Ir.\": \"old_irish\",\n",
    "}"
   ]
  },
  {
   "cell_type": "code",
   "execution_count": 33,
   "metadata": {},
   "outputs": [
    {
     "data": {
      "text/plain": [
       "{490: [{'section': 490,\n",
       "   'id': '490_1',\n",
       "   'transcription': 'glαk gə ·sɔkyr′ ə',\n",
       "   'english': 'take it easy'},\n",
       "  {'section': 490,\n",
       "   'id': '490_2',\n",
       "   'transcription': 'Nα kyr′ kɔ ·t′Uw̥ iəd',\n",
       "   'english': 'do not set them so close'}]}"
      ]
     },
     "execution_count": 33,
     "metadata": {},
     "output_type": "execute_result"
    }
   ],
   "source": [
    "DATA"
   ]
  },
  {
   "cell_type": "code",
   "execution_count": 6,
   "metadata": {},
   "outputs": [],
   "source": [
    "section = 1"
   ]
  },
  {
   "cell_type": "code",
   "execution_count": 17,
   "metadata": {},
   "outputs": [],
   "source": [
    "PAGE = \"\"\"\n",
    "§ 3. This sound frequently represents O.Ir. a in accented syllables before non-palatal con­sonants, e.g. αrəm, ‘army’, O.Ir. arm; αt, ‘swelling’, O.Ir. att; fαnαχt ‘to stay, remain’, O.Ir. anaim; kαpəL, ‘mare’, M.Ir. capall; mαk, ‘son’, O.Ir. macc; mαLαχt, ‘curse’, O.Ir. maldacht; tαχtuw, ‘to choke’, O.Ir. tachtad; tαrt, ‘thirst’, O.Ir. tart; tαruw, ‘bull’, M.Ir. tarb.\n",
    "\n",
    "§ 4. O.Ir. e before non-palatal con­sonants in accented syllables usually gives α, e.g. αχ, ‘steed’, O.Ir. ech; αlə, ‘swan’, M.Ir. ela; αŋ, ‘splice, strip’; αŋαχ, ‘fisherman’s net’, M.Ir. eng; dʹrʹαm, ‘crowd’, M.Ir. dremm; dʹαrəg, ‘red’, O.Ir. derg; fʹαr, ‘man’, O.Ir. fer; gʹαl, ‘white’, M.Ir. gel; kʹαχtər, ‘either’, O.Ir. cechtar; Lʹαnuw, ‘child’, M.Ir. lenab; Nʹαd, ‘nest’, M.Ir. net; pʹαkuw, ‘sin’, O.Ir. peccad; ʃαsuw, ‘to stand’, M.Ir. sessom; tʹαχ, ‘house’, O.Ir. tech.\n",
    "\"\"\"\n",
    "PAGE_NUM = 5"
   ]
  },
  {
   "cell_type": "code",
   "execution_count": 18,
   "metadata": {},
   "outputs": [],
   "source": [
    "page_lines = [x for x in PAGE.replace(\"\\u00ad\", \"\").split(\"\\n\") if x != \"\"]"
   ]
  },
  {
   "cell_type": "code",
   "execution_count": 29,
   "metadata": {},
   "outputs": [],
   "source": [
    "DATA = {}"
   ]
  },
  {
   "cell_type": "code",
   "execution_count": 38,
   "metadata": {},
   "outputs": [],
   "source": [
    "def extend_trans(item, trans):\n",
    "    if not \"transcription\" in item:\n",
    "        item[\"transcription\"] = trans\n",
    "    item[\"transcription\"] = [item[\"transcription\"], trans]"
   ]
  },
  {
   "cell_type": "code",
   "execution_count": 40,
   "metadata": {},
   "outputs": [],
   "source": [
    "import re\n",
    "\n",
    "_BASIC = r\"^([^‘]+), ‘([^’]+)’\"\n",
    "BASIC = re.compile(_BASIC)\n",
    "\n",
    "def get_basic(text):\n",
    "    m = BASIC.match(text)\n",
    "    if not m:\n",
    "        return (\"\", \"\", text)\n",
    "    t = m.group(1).strip()\n",
    "    e = m.group(2).strip()\n",
    "    m_end = m.span()[1]\n",
    "    if m_end == len(text):\n",
    "        return (t, e, \"\")\n",
    "    text = text[m_end:]\n",
    "    if text.startswith(\",\"):\n",
    "        text = text[1:].strip()\n",
    "    return (t, e, text)\n"
   ]
  },
  {
   "cell_type": "code",
   "execution_count": 47,
   "metadata": {},
   "outputs": [
    {
     "data": {
      "text/plain": [
       "NoneType"
      ]
     },
     "execution_count": 47,
     "metadata": {},
     "output_type": "execute_result"
    }
   ],
   "source": [
    "def get_sources(text):\n",
    "    a = list(SOURCES.keys())\n",
    "    a.sort(key=len, reverse=True)\n",
    "    compare = False\n",
    "    if text.startswith(\"cp.\"):\n",
    "        compare = True\n",
    "        text = text[3:].strip()\n",
    "    for s in a:\n",
    "        if text.startswith(s):\n",
    "            item = SOURCES[s]\n",
    "\n"
   ]
  },
  {
   "cell_type": "code",
   "execution_count": 30,
   "metadata": {},
   "outputs": [
    {
     "name": "stdout",
     "output_type": "stream",
     "text": [
      "<re.Match object; span=(0, 12), match='αrəm, ‘army’'>\n",
      "<re.Match object; span=(0, 14), match='αt, ‘swelling’'>\n",
      "None\n",
      "<re.Match object; span=(0, 13), match='kαpəL, ‘mare’'>\n",
      "<re.Match object; span=(0, 10), match='mαk, ‘son’'>\n",
      "<re.Match object; span=(0, 15), match='mαLαχt, ‘curse’'>\n",
      "<re.Match object; span=(0, 18), match='tαχtuw, ‘to choke’'>\n",
      "<re.Match object; span=(0, 14), match='tαrt, ‘thirst’'>\n",
      "<re.Match object; span=(0, 13), match='tαruw, ‘bull’'>\n",
      "<re.Match object; span=(0, 11), match='αχ, ‘steed’'>\n",
      "<re.Match object; span=(0, 11), match='αlə, ‘swan’'>\n",
      "<re.Match object; span=(0, 19), match='αŋ, ‘splice, strip’'>\n",
      "<re.Match object; span=(0, 17), match='αŋαχ, ‘fisherman’'>\n",
      "<re.Match object; span=(0, 15), match='dʹrʹαm, ‘crowd’'>\n",
      "<re.Match object; span=(0, 13), match='dʹαrəg, ‘red’'>\n",
      "<re.Match object; span=(0, 11), match='fʹαr, ‘man’'>\n",
      "<re.Match object; span=(0, 13), match='gʹαl, ‘white’'>\n",
      "<re.Match object; span=(0, 17), match='kʹαχtər, ‘either’'>\n",
      "<re.Match object; span=(0, 15), match='Lʹαnuw, ‘child’'>\n",
      "<re.Match object; span=(0, 12), match='Nʹαd, ‘nest’'>\n",
      "<re.Match object; span=(0, 13), match='pʹαkuw, ‘sin’'>\n",
      "<re.Match object; span=(0, 17), match='ʃαsuw, ‘to stand’'>\n",
      "<re.Match object; span=(0, 13), match='tʹαχ, ‘house’'>\n"
     ]
    }
   ],
   "source": [
    "for line in page_lines:\n",
    "    counter = 1\n",
    "    if line.startswith(\"§ \"):\n",
    "        dot = line.find(\". \")\n",
    "        pn = line[2:dot]\n",
    "        try:\n",
    "            section = int(pn)\n",
    "        except:\n",
    "            continue\n",
    "        if not section in DATA:\n",
    "            DATA[section] = []\n",
    "        current = {}\n",
    "        if \"e.g.\" in line:\n",
    "            linep = line.split(\"e.g.\")\n",
    "            if len(linep) != 2:\n",
    "                print(line)\n",
    "                \n",
    "            parts = [x.strip() for x in linep[1].split(\";\")]\n",
    "            for part in parts:\n",
    "                if part.endswith(\".\"):\n",
    "                    part = part[:-1]\n",
    "                t, e, r = get_basic(part)\n",
    "                current = {\n",
    "                    \"page\": PAGE_NUM,\n",
    "                    \"section\": section,\n",
    "                    \"id\": f\"{section}_{counter}\",\n",
    "                    \"transcription\": t,\n",
    "                    \"english\": e\n",
    "                }\n",
    "\n",
    "                DATA[section].append(current)\n",
    "                counter += 1\n"
   ]
  },
  {
   "cell_type": "code",
   "execution_count": 36,
   "metadata": {},
   "outputs": [
    {
     "data": {
      "text/plain": [
       "', O.Ir. tech'"
      ]
     },
     "execution_count": 36,
     "metadata": {},
     "output_type": "execute_result"
    }
   ],
   "source": [
    "part[m.span()[1]:]"
   ]
  }
 ],
 "metadata": {
  "kernelspec": {
   "display_name": "hf",
   "language": "python",
   "name": "python3"
  },
  "language_info": {
   "codemirror_mode": {
    "name": "ipython",
    "version": 3
   },
   "file_extension": ".py",
   "mimetype": "text/x-python",
   "name": "python",
   "nbconvert_exporter": "python",
   "pygments_lexer": "ipython3",
   "version": "3.9.15"
  }
 },
 "nbformat": 4,
 "nbformat_minor": 2
}
