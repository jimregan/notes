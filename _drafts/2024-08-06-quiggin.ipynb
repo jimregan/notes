{
 "cells": [
  {
   "cell_type": "code",
   "execution_count": 1,
   "metadata": {},
   "outputs": [],
   "source": [
    "SECT57 = \"\"\"\n",
    "{{section|s57|§ 57.}} The O.Ir. prefix variously spelt ir-, er-, aur- (now written ur‑) is pro&shy;nounced ''o̤r''. The common spelling with au was probably intended to denote some sound like ''o̤'', cp. O’Donovan, Grammar p.&nbsp;17. Medieval scribes seem to have been at a loss to represent this sound. The frequent appear&shy;ance of e for ''o̤'', cp. terus = turas RC. vii 296, terad for turud Wi. p.&nbsp;818, finds a parallel in the inter&shy;change of ''o̤'' and ï in Donegal, cp. §&nbsp;{{QDD|103}}. Examples: ''o̤rəχəsk'', ‘injection’, Di. urchosc; ''o̤rəχɔdʹ'', ‘harm’, M.Ir. erchoit, irchoit; ''o̤rəχər'', ‘shot’, M.Ir. erchor, aurchor, irchor, urchor; ''o̤rLαr'', ‘floor’, Wi. orlar; ''o̤rNỹ꞉'', ‘prayer’, M.Ir. ernaigthe, airnaig&shy;the; ''o̤rχəL'', ‘cricket’, Di. urchuil; ''o̤rsə'', ‘jamb’, M.Ir. irsa, ursa; ''o̤rLə'', ‘eaves, fringe’, M.Ir. urla; ''o̤rNʹæʃ'', ‘furniture’, Meyer airnéis; ''o̤rLuw'', ‘speech, eloquence’, O.Ir. erlabra, aurlabra (see §&nbsp;{{QDD|444}}). Note ''ɔ꞉rLə'', ‘vomit’, Di. orlughcan, urlacan with ''ɔ꞉'', *''o̤rbəL'', ‘tail’, M.Ir. erball has become ''ro̤bəL'' as elsewhere.\n",
    "\"\"\""
   ]
  },
  {
   "cell_type": "code",
   "execution_count": 31,
   "metadata": {},
   "outputs": [],
   "source": [
    "DATA = {}"
   ]
  },
  {
   "cell_type": "code",
   "execution_count": 34,
   "metadata": {},
   "outputs": [],
   "source": [
    "import re\n",
    "\n",
    "def simple_extract(text):\n",
    "    text = text.strip()\n",
    "    section = 0\n",
    "    count = 1\n",
    "    if text[-1] == \".\":\n",
    "        text = text[:-1]\n",
    "    m = re.match(\"^§ ([0-9]+)\\.\", text)\n",
    "    if m:\n",
    "        section = int(m.group(1))\n",
    "        text = text[len(m.group(0)):]\n",
    "    else:\n",
    "        return None\n",
    "    items = [x.strip() for x in text.split(\";\")]\n",
    "    all = []\n",
    "    for item in items:\n",
    "        current = {\n",
    "            \"section\": section,\n",
    "            \"id\": f\"{section}_{count}\"\n",
    "        }\n",
    "        m = re.match(\"^([^,]+), ‘([^’]+)’$\", item)\n",
    "        if m:\n",
    "            current[\"transcription\"] = m.group(1)\n",
    "            current[\"english\"] = m.group(2)\n",
    "        all.append(current)\n",
    "        count += 1\n",
    "    DATA[section] = all\n"
   ]
  },
  {
   "cell_type": "code",
   "execution_count": 33,
   "metadata": {},
   "outputs": [
    {
     "data": {
      "text/plain": [
       "{490: [{'section': 490,\n",
       "   'id': '490_1',\n",
       "   'transcription': 'glαk gə ·sɔkyr′ ə',\n",
       "   'english': 'take it easy'},\n",
       "  {'section': 490,\n",
       "   'id': '490_2',\n",
       "   'transcription': 'Nα kyr′ kɔ ·t′Uw̥ iəd',\n",
       "   'english': 'do not set them so close'}]}"
      ]
     },
     "execution_count": 33,
     "metadata": {},
     "output_type": "execute_result"
    }
   ],
   "source": [
    "DATA"
   ]
  },
  {
   "cell_type": "code",
   "execution_count": 6,
   "metadata": {},
   "outputs": [],
   "source": [
    "section = 1"
   ]
  },
  {
   "cell_type": "code",
   "execution_count": 17,
   "metadata": {},
   "outputs": [],
   "source": [
    "PAGE = \"\"\"\n",
    "§ 3. This sound frequently represents O.Ir. a in accented syllables before non-palatal con­sonants, e.g. αrəm, ‘army’, O.Ir. arm; αt, ‘swelling’, O.Ir. att; fαnαχt ‘to stay, remain’, O.Ir. anaim; kαpəL, ‘mare’, M.Ir. capall; mαk, ‘son’, O.Ir. macc; mαLαχt, ‘curse’, O.Ir. maldacht; tαχtuw, ‘to choke’, O.Ir. tachtad; tαrt, ‘thirst’, O.Ir. tart; tαruw, ‘bull’, M.Ir. tarb.\n",
    "\n",
    "§ 4. O.Ir. e before non-palatal con­sonants in accented syllables usually gives α, e.g. αχ, ‘steed’, O.Ir. ech; αlə, ‘swan’, M.Ir. ela; αŋ, ‘splice, strip’; αŋαχ, ‘fisherman’s net’, M.Ir. eng; dʹrʹαm, ‘crowd’, M.Ir. dremm; dʹαrəg, ‘red’, O.Ir. derg; fʹαr, ‘man’, O.Ir. fer; gʹαl, ‘white’, M.Ir. gel; kʹαχtər, ‘either’, O.Ir. cechtar; Lʹαnuw, ‘child’, M.Ir. lenab; Nʹαd, ‘nest’, M.Ir. net; pʹαkuw, ‘sin’, O.Ir. peccad; ʃαsuw, ‘to stand’, M.Ir. sessom; tʹαχ, ‘house’, O.Ir. tech.\n",
    "\"\"\"\n",
    "PAGE_NUM = 5"
   ]
  },
  {
   "cell_type": "code",
   "execution_count": 18,
   "metadata": {},
   "outputs": [],
   "source": [
    "page_lines = [x for x in PAGE.replace(\"\\u00ad\", \"\").split(\"\\n\") if x != \"\"]"
   ]
  },
  {
   "cell_type": "code",
   "execution_count": 21,
   "metadata": {},
   "outputs": [],
   "source": [
    "import re\n",
    "\n",
    "_BASIC = r\"^([^‘]+) ‘([^’]+)’\"\n",
    "BASIC = re.compile(_BASIC)"
   ]
  },
  {
   "cell_type": "code",
   "execution_count": 20,
   "metadata": {},
   "outputs": [
    {
     "name": "stdout",
     "output_type": "stream",
     "text": [
      "αrəm, ‘army’, O.Ir. arm 3 5\n",
      "αt, ‘swelling’, O.Ir. att 3 5\n",
      "fαnαχt ‘to stay, remain’, O.Ir. anaim 3 5\n",
      "kαpəL, ‘mare’, M.Ir. capall 3 5\n",
      "mαk, ‘son’, O.Ir. macc 3 5\n",
      "mαLαχt, ‘curse’, O.Ir. maldacht 3 5\n",
      "tαχtuw, ‘to choke’, O.Ir. tachtad 3 5\n",
      "tαrt, ‘thirst’, O.Ir. tart 3 5\n",
      "tαruw, ‘bull’, M.Ir. tarb 3 5\n",
      "αχ, ‘steed’, O.Ir. ech 4 5\n",
      "αlə, ‘swan’, M.Ir. ela 4 5\n",
      "αŋ, ‘splice, strip’ 4 5\n",
      "αŋαχ, ‘fisherman’s net’, M.Ir. eng 4 5\n",
      "dʹrʹαm, ‘crowd’, M.Ir. dremm 4 5\n",
      "dʹαrəg, ‘red’, O.Ir. derg 4 5\n",
      "fʹαr, ‘man’, O.Ir. fer 4 5\n",
      "gʹαl, ‘white’, M.Ir. gel 4 5\n",
      "kʹαχtər, ‘either’, O.Ir. cechtar 4 5\n",
      "Lʹαnuw, ‘child’, M.Ir. lenab 4 5\n",
      "Nʹαd, ‘nest’, M.Ir. net 4 5\n",
      "pʹαkuw, ‘sin’, O.Ir. peccad 4 5\n",
      "ʃαsuw, ‘to stand’, M.Ir. sessom 4 5\n",
      "tʹαχ, ‘house’, O.Ir. tech 4 5\n"
     ]
    }
   ],
   "source": [
    "for line in page_lines:\n",
    "    counter = 1\n",
    "    if line.startswith(\"§ \"):\n",
    "        dot = line.find(\". \")\n",
    "        pn = line[2:dot]\n",
    "        try:\n",
    "            section = int(pn)\n",
    "        except:\n",
    "            continue\n",
    "        current = {}\n",
    "        if \"e.g.\" in line:\n",
    "            linep = line.split(\"e.g.\")\n",
    "            if len(linep) != 2:\n",
    "                print(line)\n",
    "            parts = [x.strip() for x in linep[1].split(\";\")]\n",
    "            for part in parts:\n",
    "                if part.endswith(\".\"):\n",
    "                    part = part[:-1]\n",
    "                m = BASIC.match(part)\n",
    "                if m:\n",
    "                    current = {\n",
    "                        \"page\": PAGE_NUM,\n",
    "                        \"section\": section,\n",
    "                        \"id\": f\"{section}_{counter}\",\n",
    "                        \"transcription\": m.group(1),\n",
    "                        \"english\": m.group(2)\n",
    "                    }\n",
    "            counter += 1\n"
   ]
  },
  {
   "cell_type": "code",
   "execution_count": 5,
   "metadata": {},
   "outputs": [
    {
     "data": {
      "text/plain": [
       "['§ 3. This sound frequently represents O.Ir. a in accented syllables before non-palatal consonants, e.g. αrəm, ‘army’, O.Ir. arm; αt, ‘swelling’, O.Ir. att; fαnαχt ‘to stay, remain’, O.Ir. anaim; kαpəL, ‘mare’, M.Ir. capall; mαk, ‘son’, O.Ir. macc; mαLαχt, ‘curse’, O.Ir. maldacht; tαχtuw, ‘to choke’, O.Ir. tachtad; tαrt, ‘thirst’, O.Ir. tart; tαruw, ‘bull’, M.Ir. tarb.',\n",
       " '§ 4. O.Ir. e before non-palatal consonants in accented syllables usually gives α, e.g. αχ, ‘steed’, O.Ir. ech; αlə, ‘swan’, M.Ir. ela; αŋ, ‘splice, strip’, αŋαχ, ‘fisherman’s net’, M.Ir. eng; dʹrʹαm, ‘crowd’, M.Ir. dremm; dʹαrəg, ‘red’, O.Ir. derg; fʹαr, ‘man’, O.Ir. fer; gʹαl, ‘white’, M.Ir. gel; kʹαχtər, ‘either’, O.Ir. cechtar; Lʹαnuw, ‘child’, M.Ir. lenab; Nʹαd, ‘nest’, M.Ir. net; pʹαkuw, ‘sin’, O.Ir. peccad; ʃαsuw, ‘to stand’, M.Ir. sessom; tʹαχ, ‘house’, O.Ir. tech.']"
      ]
     },
     "execution_count": 5,
     "metadata": {},
     "output_type": "execute_result"
    }
   ],
   "source": [
    "page_lines"
   ]
  }
 ],
 "metadata": {
  "kernelspec": {
   "display_name": "hf",
   "language": "python",
   "name": "python3"
  },
  "language_info": {
   "codemirror_mode": {
    "name": "ipython",
    "version": 3
   },
   "file_extension": ".py",
   "mimetype": "text/x-python",
   "name": "python",
   "nbconvert_exporter": "python",
   "pygments_lexer": "ipython3",
   "version": "3.9.15"
  }
 },
 "nbformat": 4,
 "nbformat_minor": 2
}
