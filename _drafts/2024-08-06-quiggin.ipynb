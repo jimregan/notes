{
 "cells": [
  {
   "cell_type": "code",
   "execution_count": 1,
   "metadata": {},
   "outputs": [],
   "source": [
    "SECT57 = \"\"\"\n",
    "{{section|s57|§ 57.}} The O.Ir. prefix variously spelt ir-, er-, aur- (now written ur‑) is pro&shy;nounced ''o̤r''. The common spelling with au was probably intended to denote some sound like ''o̤'', cp. O’Donovan, Grammar p.&nbsp;17. Medieval scribes seem to have been at a loss to represent this sound. The frequent appear&shy;ance of e for ''o̤'', cp. terus = turas RC. vii 296, terad for turud Wi. p.&nbsp;818, finds a parallel in the inter&shy;change of ''o̤'' and ï in Donegal, cp. §&nbsp;{{QDD|103}}. Examples: ''o̤rəχəsk'', ‘injection’, Di. urchosc; ''o̤rəχɔdʹ'', ‘harm’, M.Ir. erchoit, irchoit; ''o̤rəχər'', ‘shot’, M.Ir. erchor, aurchor, irchor, urchor; ''o̤rLαr'', ‘floor’, Wi. orlar; ''o̤rNỹ꞉'', ‘prayer’, M.Ir. ernaigthe, airnaig&shy;the; ''o̤rχəL'', ‘cricket’, Di. urchuil; ''o̤rsə'', ‘jamb’, M.Ir. irsa, ursa; ''o̤rLə'', ‘eaves, fringe’, M.Ir. urla; ''o̤rNʹæʃ'', ‘furniture’, Meyer airnéis; ''o̤rLuw'', ‘speech, eloquence’, O.Ir. erlabra, aurlabra (see §&nbsp;{{QDD|444}}). Note ''ɔ꞉rLə'', ‘vomit’, Di. orlughcan, urlacan with ''ɔ꞉'', *''o̤rbəL'', ‘tail’, M.Ir. erball has become ''ro̤bəL'' as elsewhere.\n",
    "\"\"\""
   ]
  },
  {
   "cell_type": "code",
   "execution_count": 31,
   "metadata": {},
   "outputs": [],
   "source": [
    "DATA = {}"
   ]
  },
  {
   "cell_type": "code",
   "execution_count": 34,
   "metadata": {},
   "outputs": [],
   "source": [
    "import re\n",
    "\n",
    "def simple_extract(text):\n",
    "    text = text.strip()\n",
    "    section = 0\n",
    "    count = 1\n",
    "    if text[-1] == \".\":\n",
    "        text = text[:-1]\n",
    "    m = re.match(\"^§ ([0-9]+)\\.\", text)\n",
    "    if m:\n",
    "        section = int(m.group(1))\n",
    "        text = text[len(m.group(0)):]\n",
    "    else:\n",
    "        return None\n",
    "    items = [x.strip() for x in text.split(\";\")]\n",
    "    all = []\n",
    "    for item in items:\n",
    "        current = {\n",
    "            \"section\": section,\n",
    "            \"id\": f\"{section}_{count}\"\n",
    "        }\n",
    "        m = re.match(\"^([^,]+), ‘([^’]+)’$\", item)\n",
    "        if m:\n",
    "            current[\"transcription\"] = m.group(1)\n",
    "            current[\"english\"] = m.group(2)\n",
    "        all.append(current)\n",
    "        count += 1\n",
    "    DATA[section] = all\n"
   ]
  },
  {
   "cell_type": "code",
   "execution_count": 33,
   "metadata": {},
   "outputs": [
    {
     "data": {
      "text/plain": [
       "{490: [{'section': 490,\n",
       "   'id': '490_1',\n",
       "   'transcription': 'glαk gə ·sɔkyr′ ə',\n",
       "   'english': 'take it easy'},\n",
       "  {'section': 490,\n",
       "   'id': '490_2',\n",
       "   'transcription': 'Nα kyr′ kɔ ·t′Uw̥ iəd',\n",
       "   'english': 'do not set them so close'}]}"
      ]
     },
     "execution_count": 33,
     "metadata": {},
     "output_type": "execute_result"
    }
   ],
   "source": [
    "DATA"
   ]
  }
 ],
 "metadata": {
  "kernelspec": {
   "display_name": "hf",
   "language": "python",
   "name": "python3"
  },
  "language_info": {
   "codemirror_mode": {
    "name": "ipython",
    "version": 3
   },
   "file_extension": ".py",
   "mimetype": "text/x-python",
   "name": "python",
   "nbconvert_exporter": "python",
   "pygments_lexer": "ipython3",
   "version": "3.9.15"
  }
 },
 "nbformat": 4,
 "nbformat_minor": 2
}
