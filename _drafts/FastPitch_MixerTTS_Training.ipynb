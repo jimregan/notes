{
 "cells": [
  {
   "attachments": {},
   "cell_type": "markdown",
   "id": "4eebf3f6",
   "metadata": {},
   "source": [
    "# FastPitch and Mixer-TTS Training\n",
    "\n",
    "Based on [this notebook](https://github.com/NVIDIA/NeMo/blob/main/tutorials/tts/FastPitch_MixerTTS_Training.ipynb)."
   ]
  },
  {
   "cell_type": "markdown",
   "id": "37074ede",
   "metadata": {},
   "source": [
    "# License\n",
    "\n",
    "> Copyright 2022 NVIDIA. All Rights Reserved.\n",
    "> \n",
    "> Licensed under the Apache License, Version 2.0 (the \"License\");\n",
    "> you may not use this file except in compliance with the License.\n",
    "> You may obtain a copy of the License at\n",
    "> \n",
    ">     http://www.apache.org/licenses/LICENSE-2.0\n",
    "> \n",
    "> Unless required by applicable law or agreed to in writing, software\n",
    "> distributed under the License is distributed on an \"AS IS\" BASIS,\n",
    "> WITHOUT WARRANTIES OR CONDITIONS OF ANY KIND, either express or implied.\n",
    "> See the License for the specific language governing permissions and\n",
    "> limitations under the License."
   ]
  },
  {
   "cell_type": "code",
   "execution_count": null,
   "id": "261df0a0",
   "metadata": {},
   "outputs": [],
   "source": [
    "\"\"\"\n",
    "You can either run this notebook locally (if you have all the dependencies and a GPU) or on Google Colab.\n",
    "Instructions for setting up Colab are as follows:\n",
    "1. Open a new Python 3 notebook.\n",
    "2. Import this notebook from GitHub (File -> Upload Notebook -> \"GITHUB\" tab -> copy/paste GitHub URL)\n",
    "3. Connect to an instance with a GPU (Runtime -> Change runtime type -> select \"GPU\" for hardware accelerator)\n",
    "4. Run this cell to set up dependencies# .\n",
    "\"\"\"\n",
    "BRANCH = 'main'\n",
    "# # If you're using Colab and not running locally, uncomment and run this cell.\n",
    "# !apt-get install sox libsndfile1 ffmpeg\n",
    "# !pip install wget text-unidecode scipy==1.7.3\n",
    "# !python -m pip install git+https://github.com/NVIDIA/NeMo.git@$BRANCH#egg=nemo_toolkit[all]\n",
    "\n",
    "# conda create --name nemo_tts python=3.10\n",
    "# conda activate nemo_tts\n",
    "# conda install pip ffmpeg\n",
    "# conda install -c conda-forge sox libsndfile\n",
    "# pip install wget text-unidecode scipy==1.7.3\n",
    "# pip install cython\n",
    "# conda install -c conda-forge pynini\n",
    "# python -m pip install git+'https://github.com/NVIDIA/NeMo.git@main#egg=nemo_toolkit[all]'\n",
    "# conda install git-lfs\n",
    "# git lfs install"
   ]
  },
  {
   "cell_type": "code",
   "execution_count": 2,
   "id": "9e0c0d38",
   "metadata": {},
   "outputs": [],
   "source": [
    "import json\n",
    "import nemo\n",
    "import torch\n",
    "import librosa\n",
    "import numpy as np\n",
    "\n",
    "from pathlib import Path\n",
    "from tqdm.notebook import tqdm"
   ]
  },
  {
   "cell_type": "markdown",
   "id": "efa2c292",
   "metadata": {},
   "source": [
    "# Introduction"
   ]
  },
  {
   "cell_type": "markdown",
   "id": "95884fcd",
   "metadata": {},
   "source": [
    "### FastPitch\n",
    "\n",
    "FastPitch is non-autoregressive model for mel-spectrogram generation based on FastSpeech, conditioned on fundamental frequency contours. For more details about model, please refer to the original [paper](https://arxiv.org/abs/2006.06873). NeMo re-implementation of FastPitch additionally uses unsupervised speech-text [aligner](https://arxiv.org/abs/2108.10447) which was originally implemented in [FastPitch 1.1](https://github.com/NVIDIA/DeepLearningExamples/tree/master/PyTorch/SpeechSynthesis/FastPitch).\n",
    "\n",
    "### Mixer-TTS\n",
    "\n",
    "Mixer-TTS is another non-autoregressive model for mel-spectrogram generation. It is structurally similar to FastPitch: duration prediction, pitch prediction, unsupervised TTS alignment framework, but the main difference is that Mixer-TTS is based on the [MLP-Mixer](https://arxiv.org/abs/2105.01601) architecture adapted for speech synthesis.\n",
    "\n",
    "FastPitch and Mixer-TTS like most NeMo models are defined as a LightningModule, allowing for easy training via PyTorch Lightning, and parameterized by a configuration, currently defined via a yaml file and loading using Hydra.\n",
    "\n",
    "Let's take a look using NeMo's pretrained models and how to use it to generate spectrograms."
   ]
  },
  {
   "cell_type": "code",
   "execution_count": 3,
   "id": "9be422ee",
   "metadata": {},
   "outputs": [
    {
     "name": "stderr",
     "output_type": "stream",
     "text": [
      "[NeMo W 2023-03-24 14:39:31 optimizers:54] Apex was not found. Using the lamb or fused_adam optimizer will error out.\n",
      "[NeMo W 2023-03-24 14:39:31 experimental:27] Module <class 'nemo.collections.tts.models.fastpitch_ssl.FastPitchModel_SSL'> is experimental, not ready for production and is not fully supported. Use at your own risk.\n",
      "[NeMo W 2023-03-24 14:39:31 experimental:27] Module <class 'nemo.collections.common.tokenizers.text_to_speech.tts_tokenizers.IPATokenizer'> is experimental, not ready for production and is not fully supported. Use at your own risk.\n",
      "[NeMo W 2023-03-24 14:39:31 experimental:27] Module <class 'nemo.collections.tts.models.radtts.RadTTSModel'> is experimental, not ready for production and is not fully supported. Use at your own risk.\n",
      "[NeMo W 2023-03-24 14:39:32 experimental:27] Module <class 'nemo.collections.asr.modules.audio_modules.SpectrogramToMultichannelFeatures'> is experimental, not ready for production and is not fully supported. Use at your own risk.\n",
      "[NeMo W 2023-03-24 14:39:32 experimental:27] Module <class 'nemo.collections.tts.models.ssl_tts.SSLDisentangler'> is experimental, not ready for production and is not fully supported. Use at your own risk.\n",
      "[NeMo W 2023-03-24 14:39:32 experimental:27] Module <class 'nemo.collections.tts.models.vits.VitsModel'> is experimental, not ready for production and is not fully supported. Use at your own risk.\n"
     ]
    }
   ],
   "source": [
    "from nemo.collections.tts.models.base import SpectrogramGenerator\n",
    "from nemo.collections.tts.models import FastPitchModel, MixerTTSModel\n",
    "\n",
    "from matplotlib.pyplot import imshow\n",
    "from matplotlib import pyplot as plt\n",
    "%matplotlib inline"
   ]
  },
  {
   "cell_type": "code",
   "execution_count": null,
   "id": "cdf4aee7",
   "metadata": {},
   "outputs": [],
   "source": [
    "# Let's see what pretrained models are available for FastPitch and Mixer-TTS\n",
    "print(\"FastPitch pretrained models:\")\n",
    "print(FastPitchModel.list_available_models())\n",
    "print(\"=====================================\")\n",
    "print(\"Mixer-TTS pretrained models:\")\n",
    "print(MixerTTSModel.list_available_models())"
   ]
  },
  {
   "cell_type": "code",
   "execution_count": null,
   "id": "298704c4",
   "metadata": {},
   "outputs": [],
   "source": [
    "# We can load the pre-trained FastModel as follows\n",
    "pretrained_model = \"tts_en_fastpitch\"\n",
    "spec_gen = FastPitchModel.from_pretrained(pretrained_model)\n",
    "spec_gen.eval();"
   ]
  },
  {
   "cell_type": "code",
   "execution_count": null,
   "id": "fb41b646",
   "metadata": {},
   "outputs": [],
   "source": [
    "assert isinstance(spec_gen, SpectrogramGenerator)\n",
    "\n",
    "if isinstance(spec_gen, FastPitchModel):\n",
    "    tokens = spec_gen.parse(str_input=\"Hey, this produces speech!\")\n",
    "else:\n",
    "    tokens = spec_gen.parse(text=\"Hey, this produces speech!\")\n",
    "\n",
    "spectrogram = spec_gen.generate_spectrogram(tokens=tokens)\n",
    "\n",
    "# Now we can visualize the generated spectrogram\n",
    "# If we want to generate speech, we have to use a vocoder in conjunction to a spectrogram generator.\n",
    "# Refer to the Inference_ModelSelect notebook on how to convert spectrograms to speech.\n",
    "imshow(spectrogram.cpu().detach().numpy()[0,...], origin=\"lower\")\n",
    "plt.show()"
   ]
  },
  {
   "cell_type": "markdown",
   "id": "54ec3c5e",
   "metadata": {},
   "source": [
    "# Preprocessing"
   ]
  },
  {
   "cell_type": "code",
   "execution_count": 6,
   "id": "7ef87e31",
   "metadata": {},
   "outputs": [],
   "source": [
    "from nemo.collections.tts.g2p.models.en_us_arpabet import EnglishG2p\n",
    "from nemo.collections.tts.data.dataset import TTSDataset\n",
    "from nemo_text_processing.text_normalization.normalize import Normalizer\n",
    "from nemo.collections.common.tokenizers.text_to_speech.tts_tokenizers import EnglishPhonemesTokenizer, EnglishCharsTokenizer"
   ]
  },
  {
   "cell_type": "code",
   "execution_count": null,
   "id": "98174854",
   "metadata": {},
   "outputs": [],
   "source": [
    "!git clone -b original https://huggingface.co/datasets/KTH/hungarian-single-speaker-tts"
   ]
  },
  {
   "cell_type": "code",
   "execution_count": 2,
   "id": "4f42c80e",
   "metadata": {},
   "outputs": [],
   "source": [
    "base = !pwd"
   ]
  },
  {
   "cell_type": "code",
   "execution_count": 5,
   "id": "63c42e77",
   "metadata": {},
   "outputs": [],
   "source": [
    "from pathlib import Path\n",
    "BASE_PATH = Path(base[0])"
   ]
  },
  {
   "cell_type": "code",
   "execution_count": 9,
   "id": "914f0955",
   "metadata": {},
   "outputs": [],
   "source": [
    "items = []\n",
    "REPO_PATH = BASE_PATH / \"hungarian-single-speaker-tts\"\n",
    "TRANSCRIPT = REPO_PATH / \"transcript.txt\"\n",
    "with open(str(TRANSCRIPT)) as inf:\n",
    "    for line in inf.readlines():\n",
    "        parts = line.split(\"|\")\n",
    "        filepath = REPO_PATH / parts[0]\n",
    "        text = parts[2]\n",
    "        duration = parts[3]\n",
    "        items.append({\n",
    "            \"audio_filepath\": str(filepath),\n",
    "            \"duration\": float(duration),\n",
    "            \"text\": text\n",
    "        })"
   ]
  },
  {
   "cell_type": "code",
   "execution_count": 20,
   "id": "68b28b00",
   "metadata": {},
   "outputs": [],
   "source": [
    "# https://github.com/NVIDIA/NeMo/blob/main/scripts/dataset_processing/tts/thorsten_neutral/get_data.py\n",
    "import random\n",
    "import json\n",
    "def save_json(json_file, dict_list):\n",
    "    # logging.info(f\"Saving JSON split to {json_file}.\")\n",
    "    with open(json_file, \"w\") as f:\n",
    "        for d in dict_list:\n",
    "            f.write(json.dumps(d) + \"\\n\")\n",
    "\n",
    "def create_splits(entries, val_size=100, test_size=100, seed_for_ds_split=100):\n",
    "    random.Random(seed_for_ds_split).shuffle(entries)\n",
    "    train_size = len(entries) - val_size - test_size\n",
    "    if train_size <= 0:\n",
    "        raise ValueError(\"Not enough data for the train split.\")\n",
    "\n",
    "    # logging.info(\"Preparing JSON train/val/test splits is complete.\")\n",
    "    train, val, test = (\n",
    "        entries[:train_size],\n",
    "        entries[train_size : train_size + val_size],\n",
    "        entries[train_size + val_size :],\n",
    "    )\n",
    "\n",
    "    return train, val, test"
   ]
  },
  {
   "cell_type": "code",
   "execution_count": 17,
   "id": "08d28b3c",
   "metadata": {},
   "outputs": [],
   "source": [
    "train, val, test = create_splits(items)"
   ]
  },
  {
   "cell_type": "code",
   "execution_count": 21,
   "id": "e66e8cc7",
   "metadata": {},
   "outputs": [],
   "source": [
    "save_json(\"manifest_train.json\", train)\n",
    "save_json(\"manifest_test.json\", test)\n",
    "save_json(\"manifest_val.json\", val)"
   ]
  },
  {
   "cell_type": "markdown",
   "id": "45f19be7",
   "metadata": {},
   "source": [
    "### FastPitch\n",
    "\n",
    "Now that we looked at the FastPitch model, let's see how to prepare all data for training it. \n",
    "\n",
    "Firstly, let's download all necessary training scripts and configs."
   ]
  },
  {
   "cell_type": "code",
   "execution_count": 11,
   "id": "4e76d950",
   "metadata": {},
   "outputs": [
    {
     "name": "stdout",
     "output_type": "stream",
     "text": [
      "--2023-03-24 15:04:15--  https://raw.githubusercontent.com/NVIDIA/NeMo/main/examples/tts/fastpitch.py\n",
      "Resolving raw.githubusercontent.com (raw.githubusercontent.com)... 185.199.109.133, 185.199.108.133, 185.199.110.133, ...\n",
      "Connecting to raw.githubusercontent.com (raw.githubusercontent.com)|185.199.109.133|:443... connected.\n",
      "HTTP request sent, awaiting response... 200 OK\n",
      "Length: 1365 (1.3K) [text/plain]\n",
      "Saving to: ‘fastpitch.py’\n",
      "\n",
      "fastpitch.py        100%[===================>]   1.33K  --.-KB/s    in 0s      \n",
      "\n",
      "2023-03-24 15:04:15 (82.8 MB/s) - ‘fastpitch.py’ saved [1365/1365]\n",
      "\n",
      "--2023-03-24 15:04:16--  https://raw.githubusercontent.com/NVIDIA/NeMo/main/examples/tts/conf/fastpitch_align_v1.05.yaml\n",
      "Resolving raw.githubusercontent.com (raw.githubusercontent.com)... 185.199.109.133, 185.199.111.133, 185.199.110.133, ...\n",
      "Connecting to raw.githubusercontent.com (raw.githubusercontent.com)|185.199.109.133|:443... connected.\n",
      "HTTP request sent, awaiting response... 200 OK\n",
      "Length: 6725 (6.6K) [text/plain]\n",
      "Saving to: ‘fastpitch_align_v1.05.yaml’\n",
      "\n",
      "fastpitch_align_v1. 100%[===================>]   6.57K  --.-KB/s    in 0s      \n",
      "\n",
      "2023-03-24 15:04:16 (46.2 MB/s) - ‘fastpitch_align_v1.05.yaml’ saved [6725/6725]\n",
      "\n"
     ]
    }
   ],
   "source": [
    "BRANCH='main'\n",
    "!wget https://raw.githubusercontent.com/NVIDIA/NeMo/$BRANCH/examples/tts/fastpitch.py\n",
    "\n",
    "!mkdir -p conf && cd conf \\\n",
    "&& wget https://raw.githubusercontent.com/NVIDIA/NeMo/$BRANCH/examples/tts/conf/fastpitch_align_v1.05.yaml \\\n",
    "&& cd .."
   ]
  },
  {
   "cell_type": "code",
   "execution_count": 12,
   "id": "efb8d14c",
   "metadata": {},
   "outputs": [
    {
     "name": "stdout",
     "output_type": "stream",
     "text": [
      "--2023-03-27 17:05:38--  https://raw.githubusercontent.com/CUNY-CL/wikipron-modeling/master/tsv/hun_phonetic_train.tsv\n",
      "Resolving raw.githubusercontent.com (raw.githubusercontent.com)... 185.199.111.133, 185.199.109.133, 185.199.108.133, ...\n",
      "Connecting to raw.githubusercontent.com (raw.githubusercontent.com)|185.199.111.133|:443... connected.\n",
      "HTTP request sent, awaiting response... 200 OK\n",
      "Length: 1096386 (1.0M) [text/plain]\n",
      "Saving to: ‘hun_phonetic_train.tsv’\n",
      "\n",
      "hun_phonetic_train. 100%[===================>]   1.04M  --.-KB/s    in 0.01s   \n",
      "\n",
      "2023-03-27 17:05:38 (104 MB/s) - ‘hun_phonetic_train.tsv’ saved [1096386/1096386]\n",
      "\n",
      "--2023-03-27 17:05:38--  https://raw.githubusercontent.com/CUNY-CL/wikipron-modeling/master/tsv/hun_phonetic_test.tsv\n",
      "Resolving raw.githubusercontent.com (raw.githubusercontent.com)... 185.199.111.133, 185.199.108.133, 185.199.110.133, ...\n",
      "Connecting to raw.githubusercontent.com (raw.githubusercontent.com)|185.199.111.133|:443... connected.\n",
      "HTTP request sent, awaiting response... 200 OK\n",
      "Length: 137514 (134K) [text/plain]\n",
      "Saving to: ‘hun_phonetic_test.tsv’\n",
      "\n",
      "hun_phonetic_test.t 100%[===================>] 134.29K  --.-KB/s    in 0.002s  \n",
      "\n",
      "2023-03-27 17:05:39 (55.2 MB/s) - ‘hun_phonetic_test.tsv’ saved [137514/137514]\n",
      "\n",
      "--2023-03-27 17:05:39--  https://raw.githubusercontent.com/CUNY-CL/wikipron-modeling/master/tsv/hun_phonetic_dev.tsv\n",
      "Resolving raw.githubusercontent.com (raw.githubusercontent.com)... 185.199.110.133, 185.199.108.133, 185.199.111.133, ...\n",
      "Connecting to raw.githubusercontent.com (raw.githubusercontent.com)|185.199.110.133|:443... connected.\n",
      "HTTP request sent, awaiting response... 200 OK\n",
      "Length: 137004 (134K) [text/plain]\n",
      "Saving to: ‘hun_phonetic_dev.tsv’\n",
      "\n",
      "hun_phonetic_dev.ts 100%[===================>] 133.79K  --.-KB/s    in 0.002s  \n",
      "\n",
      "2023-03-27 17:05:39 (75.2 MB/s) - ‘hun_phonetic_dev.tsv’ saved [137004/137004]\n",
      "\n"
     ]
    }
   ],
   "source": [
    "!wget https://raw.githubusercontent.com/CUNY-CL/wikipron-modeling/master/tsv/hun_phonetic_train.tsv\n",
    "!wget https://raw.githubusercontent.com/CUNY-CL/wikipron-modeling/master/tsv/hun_phonetic_test.tsv\n",
    "!wget https://raw.githubusercontent.com/CUNY-CL/wikipron-modeling/master/tsv/hun_phonetic_dev.tsv"
   ]
  },
  {
   "cell_type": "code",
   "execution_count": 13,
   "id": "faf2af84",
   "metadata": {},
   "outputs": [],
   "source": [
    "pronunciations = []\n",
    "with open(\"hun_phonetic_train.tsv\") as phon:\n",
    "    for line in phon.readlines():\n",
    "        word, pron = line.strip().split(\"\\t\")\n",
    "        pronunciations.append(pron)"
   ]
  },
  {
   "cell_type": "code",
   "execution_count": 15,
   "id": "cb3d59aa",
   "metadata": {},
   "outputs": [
    {
     "name": "stdout",
     "output_type": "stream",
     "text": [
      "\n",
      "\n",
      "\n"
     ]
    }
   ],
   "source": [
    "from tokenizers import Tokenizer, trainers\n",
    "from tokenizers.models import BPE\n",
    "from tokenizers.pre_tokenizers import CharDelimiterSplit\n",
    "\n",
    "tokenizer = Tokenizer(BPE()) \n",
    "tokenizer.pre_tokenizer = CharDelimiterSplit(' ')\n",
    "\n",
    "trainer = trainers.BpeTrainer(special_tokens=[\"[UNK]\", \"<s>\", \"</s>\"], show_progress=True)\n",
    "tokenizer.train_from_iterator(pronunciations, trainer=trainer)"
   ]
  },
  {
   "cell_type": "code",
   "execution_count": 16,
   "id": "a6fe71d7",
   "metadata": {},
   "outputs": [
    {
     "name": "stdout",
     "output_type": "stream",
     "text": [
      "huggingface/tokenizers: The current process just got forked, after parallelism has already been used. Disabling parallelism to avoid deadlocks...\n",
      "To disable this warning, you can either:\n",
      "\t- Avoid using `tokenizers` before the fork if possible\n",
      "\t- Explicitly set the environment variable TOKENIZERS_PARALLELISM=(true | false)\n"
     ]
    }
   ],
   "source": [
    "!mkdir tokeniser\n",
    "tokenizer.save('./tokeniser/tokenizer.json')"
   ]
  },
  {
   "attachments": {},
   "cell_type": "markdown",
   "id": "e65160f0",
   "metadata": {},
   "source": [
    "Turns out the trainer for NeMo can't accept a huggingface tokeniser, needs sentencepiece instead."
   ]
  },
  {
   "cell_type": "code",
   "execution_count": null,
   "id": "f387856f",
   "metadata": {},
   "outputs": [],
   "source": [
    "!cat hun_phonetic_train.tsv |awk -F'\\t' '{print $NF}' > hun_phonetic_train.txt\n",
    "!conda install sentencepiece\n",
    "# HF tokeniser came up with 91, minus 3 special tokens\n",
    "!spm_train --input=hun_phonetic_train.txt --model_prefix=hun --vocab_size=88 --character_coverage=1.0 --model_type=bpe --split_by_whitespace=true"
   ]
  },
  {
   "attachments": {},
   "cell_type": "markdown",
   "id": "dfce1d6d",
   "metadata": {},
   "source": [
    "`split_by_whitespace` is pretty useless, but it doesn't merge separate pieces."
   ]
  },
  {
   "cell_type": "code",
   "execution_count": null,
   "id": "9ec3b2cf",
   "metadata": {},
   "outputs": [],
   "source": [
    "!cat hun_phonetic_train.tsv |awk -F'\\t' '{print $NF}'|tr -d ' ' > hun_phonetic_train_nows.txt\n",
    "!spm_train --input=hun_phonetic_train_nows.txt --model_prefix=hun_nows --vocab_size=88 --character_coverage=1.0 --model_type=bpe --split_by_whitespace=true"
   ]
  },
  {
   "cell_type": "code",
   "execution_count": null,
   "id": "e0ac5c28",
   "metadata": {},
   "outputs": [],
   "source": [
    "from nemo.collections.common.tokenizers.text_to_speech.tts_tokenizers import BaseCharsTokenizer\n",
    "from nemo.collections.common.tokenizers.text_to_speech.ipa_lexicon import (\n",
    "    get_grapheme_character_set,\n",
    "    get_ipa_punctuation_list,\n",
    ")\n",
    "from nemo.collections.common.tokenizers.text_to_speech.tokenizer_utils import any_locale_text_preprocessing\n",
    "\n",
    "class HungarianCharsTokenizer(BaseCharsTokenizer):\n",
    "\n",
    "    _LOCALE = \"hu-HU\"\n",
    "    _PUNCT_LIST = get_ipa_punctuation_list(_LOCALE)\n",
    "    _CHARSET_STR = get_grapheme_character_set(locale=_LOCALE, case=\"mixed\")\n",
    "\n",
    "    def __init__(\n",
    "        self,\n",
    "        chars=_CHARSET_STR,\n",
    "        punct=True,\n",
    "        apostrophe=True,\n",
    "        add_blank_at=None,\n",
    "        pad_with_space=False,\n",
    "        non_default_punct_list=_PUNCT_LIST,\n",
    "        text_preprocessing_func=any_locale_text_preprocessing,\n",
    "    ):\n",
    "        \"\"\"Hungarian grapheme-based tokenizer.\n",
    "        Args:\n",
    "            punct: Whether to reserve grapheme for basic punctuation or not.\n",
    "            apostrophe: Whether to use apostrophe or not.\n",
    "            add_blank_at: Add blank to labels in the specified order (\"last\") or after tokens (any non None),\n",
    "             if None then no blank in labels.\n",
    "            pad_with_space: Whether to pad text with spaces at the beginning and at the end or not.\n",
    "            non_default_punct_list: List of punctuation marks which will be used instead default.\n",
    "            text_preprocessing_func: Text preprocessing function for correct execution of the tokenizer. By default, it\n",
    "            would keep any word unchanged.\n",
    "        \"\"\"\n",
    "        super().__init__(\n",
    "            chars=chars,\n",
    "            punct=punct,\n",
    "            apostrophe=apostrophe,\n",
    "            add_blank_at=add_blank_at,\n",
    "            pad_with_space=pad_with_space,\n",
    "            non_default_punct_list=non_default_punct_list,\n",
    "            text_preprocessing_func=text_preprocessing_func,\n",
    "        )\n"
   ]
  },
  {
   "cell_type": "code",
   "execution_count": 22,
   "id": "181d2bb2",
   "metadata": {},
   "outputs": [
    {
     "name": "stdout",
     "output_type": "stream",
     "text": [
      "Writing conf/fastpitch_align.yaml\n"
     ]
    }
   ],
   "source": [
    "%%writefile conf/fastpitch_align.yaml\n",
    "name: \"fastpitch_align\"\n",
    "\n",
    "manifest_filepath: \"manifest_train.json\"\n",
    "sup_data_path: \"sup_data\"\n",
    "sup_data_types: [ \"align_prior_matrix\", \"pitch\" ]\n",
    "\n",
    "dataset:\n",
    "  _target_: nemo.collections.tts.data.dataset.TTSDataset\n",
    "  manifest_filepath: ${manifest_filepath}\n",
    "  sample_rate: 22050\n",
    "  sup_data_path: ${sup_data_path}\n",
    "  sup_data_types: ${sup_data_types}\n",
    "  n_fft: 1024\n",
    "  win_length: 1024\n",
    "  hop_length: 256\n",
    "  window: \"hann\"\n",
    "  n_mels: 80\n",
    "  lowfreq: 0\n",
    "  highfreq: null\n",
    "  max_duration: null\n",
    "  min_duration: 0.1\n",
    "  ignore_file: null\n",
    "  trim: true\n",
    "  trim_top_db: 50\n",
    "  trim_frame_length: ${dataset.win_length}\n",
    "  trim_hop_length: ${dataset.hop_length}\n",
    "  pitch_fmin: 65.40639132514966\n",
    "  pitch_fmax: 2093.004522404789\n",
    "\n",
    "  text_normalizer:\n",
    "    _target_: nemo_text_processing.text_normalization.normalize.Normalizer\n",
    "    lang: hu\n",
    "    input_case: cased\n",
    "\n",
    "  text_normalizer_call_kwargs:\n",
    "    verbose: false\n",
    "    punct_pre_process: true\n",
    "    punct_post_process: true\n",
    "\n",
    "  text_tokenizer:\n",
    "    _target_: nemo.collections.common.tokenizers.text_to_speech.tts_tokenizers.GermanCharsTokenizer\n",
    "    punct: true\n",
    "    apostrophe: true\n",
    "    pad_with_space: true"
   ]
  },
  {
   "cell_type": "markdown",
   "id": "82a2eacb",
   "metadata": {},
   "source": [
    "TTS text preprocessing pipeline consists of two stages: text normalization and text tokenization. Both of them can be handled by `nemo.collections.tts.data.dataset.TTSDataset` for training.  \n",
    "\n",
    "Our current example dataset is in English, so let's use `nemo_text_processing.text_normalization.normalize.Normalizer` for normalization which supports English (and many other languages!) and `nemo.collections.common.tokenizers.text_to_speech.tts_tokenizers.EnglishCharsTokenizer`. So, our model will receive grapheme representation of text (graphemes) as input."
   ]
  },
  {
   "cell_type": "code",
   "execution_count": null,
   "id": "a46da66d",
   "metadata": {},
   "outputs": [],
   "source": [
    "# Text normalizer\n",
    "text_normalizer = Normalizer(\n",
    "    lang=\"hu\",\n",
    "    input_case=\"cased\",\n",
    ")\n",
    "\n",
    "text_normalizer_call_kwargs = {\n",
    "    \"punct_pre_process\": False,\n",
    "    \"punct_post_process\": False\n",
    "}\n",
    "\n",
    "# Text tokenizer\n",
    "text_tokenizer = EnglishCharsTokenizer()"
   ]
  },
  {
   "attachments": {},
   "cell_type": "markdown",
   "id": "69529fdc",
   "metadata": {},
   "source": [
    "Get Hungarian data"
   ]
  },
  {
   "cell_type": "code",
   "execution_count": null,
   "id": "a2293d0a",
   "metadata": {},
   "outputs": [],
   "source": [
    "!git clone -b original https://huggingface.co/datasets/KTH/hungarian-single-speaker-tts"
   ]
  },
  {
   "cell_type": "markdown",
   "id": "884d8d82",
   "metadata": {},
   "source": [
    "To accelerate and stabilize our training, we also need to extract pitch for every audio, estimate pitch statistics (mean and std) and pre-calculate alignment prior matrices for alignment framework. To do this, all we need to do is iterate over our data one time.\n",
    "\n",
    "In the below method the arguments are as follows:\n",
    "- `sup_data_path` — path to the folder which contains supplementary data. If the supplementary data or the folder does not already exists then it will be created.\n",
    "\n",
    "- `sup_data_types` — types of supplementary data to be provided to the model.\n",
    "\n",
    "- `text_tokenizer` — text tokenizer object that we already created.\n",
    "\n",
    "- `text_normalizer` — text normalizer object that we already created.\n",
    "\n",
    "- `text_normalizer_call_kwargs` — dictionary of arguments to be used in calling the text normalizer that we already created."
   ]
  },
  {
   "cell_type": "code",
   "execution_count": null,
   "id": "7108f748",
   "metadata": {},
   "outputs": [],
   "source": [
    "def pre_calculate_supplementary_data(sup_data_path, sup_data_types, text_tokenizer, text_normalizer, text_normalizer_call_kwargs):\n",
    "    # init train and val dataloaders\n",
    "    stages = [\"train\", \"val\"]\n",
    "    stage2dl = {}\n",
    "    for stage in stages:\n",
    "        ds = TTSDataset(\n",
    "            manifest_filepath=f\"tests/data/asr/an4_{stage}.json\",\n",
    "            sample_rate=16000,\n",
    "            sup_data_path=sup_data_path,\n",
    "            sup_data_types=sup_data_types,\n",
    "            n_fft=1024,\n",
    "            win_length=1024,\n",
    "            hop_length=256,\n",
    "            window=\"hann\",\n",
    "            n_mels=80,\n",
    "            lowfreq=0,\n",
    "            highfreq=8000,\n",
    "            text_tokenizer=text_tokenizer,\n",
    "            text_normalizer=text_normalizer,\n",
    "            text_normalizer_call_kwargs=text_normalizer_call_kwargs\n",
    "\n",
    "        ) \n",
    "        stage2dl[stage] = torch.utils.data.DataLoader(ds, batch_size=1, collate_fn=ds._collate_fn, num_workers=1)\n",
    "\n",
    "    # iteration over dataloaders\n",
    "    pitch_mean, pitch_std, pitch_min, pitch_max = None, None, None, None\n",
    "    for stage, dl in stage2dl.items():\n",
    "        pitch_list = []\n",
    "        for batch in tqdm(dl, total=len(dl)):\n",
    "            tokens, tokens_lengths, audios, audio_lengths, attn_prior, pitches, pitches_lengths = batch\n",
    "            pitch = pitches.squeeze(0)\n",
    "            pitch_list.append(pitch[pitch != 0])\n",
    "\n",
    "        if stage == \"train\":\n",
    "            pitch_tensor = torch.cat(pitch_list)\n",
    "            pitch_mean, pitch_std = pitch_tensor.mean().item(), pitch_tensor.std().item()\n",
    "            pitch_min, pitch_max = pitch_tensor.min().item(), pitch_tensor.max().item()\n",
    "            \n",
    "    return pitch_mean, pitch_std, pitch_min, pitch_max"
   ]
  },
  {
   "cell_type": "code",
   "execution_count": null,
   "id": "f1affe50",
   "metadata": {},
   "outputs": [],
   "source": [
    "fastpitch_sup_data_path = \"fastpitch_sup_data_folder\"\n",
    "sup_data_types = [\"align_prior_matrix\", \"pitch\"]\n",
    "\n",
    "pitch_mean, pitch_std, pitch_min, pitch_max = pre_calculate_supplementary_data(\n",
    "    fastpitch_sup_data_path, sup_data_types, text_tokenizer, text_normalizer, text_normalizer_call_kwargs\n",
    ")"
   ]
  },
  {
   "cell_type": "markdown",
   "id": "d868bb48",
   "metadata": {},
   "source": [
    "### Mixer-TTS\n",
    "\n",
    "Now, let's see how to prepare data for training Mixer-TTS. \n",
    "\n",
    "Firstly, let's download all necessary training scripts and configs."
   ]
  },
  {
   "cell_type": "code",
   "execution_count": null,
   "id": "1c7c0cfc",
   "metadata": {},
   "outputs": [],
   "source": [
    "!wget https://raw.githubusercontent.com/NVIDIA/NeMo/$BRANCH/examples/tts/mixer_tts.py\n",
    "\n",
    "!mkdir -p conf && cd conf \\\n",
    "&& wget https://raw.githubusercontent.com/NVIDIA/NeMo/$BRANCH/examples/tts/conf/mixer-tts.yaml \\\n",
    "&& cd .."
   ]
  },
  {
   "cell_type": "markdown",
   "id": "e2f10886",
   "metadata": {},
   "source": [
    "In the FastPitch pipeline we used a char-based tokenizer, but in the Mixer-TTS training pipeline we would like to demonstrate a phoneme-based tokenizer `nemo.collections.common.tokenizers.text_to_speech.tts_tokenizers.EnglishPhonemesTokenizer`. Unlike char-based tokenizer, `EnglishPhonemesTokenizer` needs a phoneme dictionary and a heteronym dictionary. We will be using the same `nemo_text_processing.text_normalization.normalize.Normalizer` for normalizing the text as used in the FastPitch example."
   ]
  },
  {
   "cell_type": "code",
   "execution_count": null,
   "id": "c6ba0f9a",
   "metadata": {},
   "outputs": [],
   "source": [
    "# Text normalizer\n",
    "text_normalizer = Normalizer(\n",
    "    lang=\"en\", \n",
    "    input_case=\"cased\", \n",
    ")\n",
    "\n",
    "text_normalizer_call_kwargs = {\n",
    "    \"punct_pre_process\": True,\n",
    "    \"punct_post_process\": True\n",
    "}\n",
    "\n",
    "# Grapheme-to-phoneme module\n",
    "g2p = EnglishG2p(\n",
    "    phoneme_dict=\"tts_dataset_files/cmudict-0.7b_nv22.10\",\n",
    "    heteronyms=\"tts_dataset_files/heteronyms-052722\"\n",
    ")\n",
    "\n",
    "# Text tokenizer\n",
    "text_tokenizer = EnglishPhonemesTokenizer(\n",
    "    punct=True,\n",
    "    stresses=True,\n",
    "    chars=True,\n",
    "    apostrophe=True,\n",
    "    pad_with_space=True,\n",
    "    g2p=g2p,\n",
    ")"
   ]
  },
  {
   "cell_type": "markdown",
   "id": "9fc55415",
   "metadata": {},
   "source": [
    "Just like in FastPitch we will need to extract pitch for every audio, estimate pitch statistics (mean and std) and pre-calculate alignment prior matrices for alignment framework."
   ]
  },
  {
   "cell_type": "code",
   "execution_count": null,
   "id": "aabc1f0f",
   "metadata": {},
   "outputs": [],
   "source": [
    "mixer_tts_sup_data_path = \"mixer_tts_sup_data_folder\"\n",
    "sup_data_types = [\"align_prior_matrix\", \"pitch\"]\n",
    "\n",
    "pitch_mean, pitch_std, pitch_min, pitch_max = pre_calculate_supplementary_data(\n",
    "    mixer_tts_sup_data_path, sup_data_types, text_tokenizer, text_normalizer, text_normalizer_call_kwargs\n",
    ")"
   ]
  },
  {
   "cell_type": "markdown",
   "id": "c0711ec6",
   "metadata": {},
   "source": [
    "# Training"
   ]
  },
  {
   "cell_type": "markdown",
   "id": "0a95848c",
   "metadata": {},
   "source": [
    "### FastPitch\n",
    "\n",
    "Now we are ready for training our model! Let's try to train FastPitch.\n",
    "\n",
    "*NOTE: The sample data is not enough data to properly train a FastPitch. This will not result in a trained FastPitch and is used to just as example.*"
   ]
  },
  {
   "cell_type": "code",
   "execution_count": null,
   "id": "cc1a9107",
   "metadata": {},
   "outputs": [],
   "source": [
    "!(python fastpitch.py --config-name=fastpitch_align_v1.05.yaml \\\n",
    "  sample_rate=16000 \\\n",
    "  train_dataset=tests/data/asr/an4_train.json \\\n",
    "  validation_datasets=tests/data/asr/an4_val.json \\\n",
    "  sup_data_types=\"['align_prior_matrix', 'pitch']\" \\\n",
    "  sup_data_path={fastpitch_sup_data_path} \\\n",
    "  pitch_mean={pitch_mean} \\\n",
    "  pitch_std={pitch_std} \\\n",
    "  pitch_fmin={pitch_min} \\\n",
    "  pitch_fmax={pitch_max} \\\n",
    "  ~model.text_tokenizer \\\n",
    "  +model.text_tokenizer._target_=nemo.collections.common.tokenizers.text_to_speech.tts_tokenizers.EnglishCharsTokenizer \\\n",
    "  +trainer.max_steps=100 ~trainer.max_epochs \\\n",
    "  trainer.check_val_every_n_epoch=25 \\\n",
    "  +trainer.max_epochs=5 \\\n",
    "  model.train_ds.dataloader_params.batch_size=24 \\\n",
    "  model.validation_ds.dataloader_params.batch_size=24 \\\n",
    "  exp_manager.exp_dir=./fastpitch_log_dir \\\n",
    "  model.n_speakers=1 trainer.devices=1 trainer.strategy=null \\\n",
    ")"
   ]
  },
  {
   "cell_type": "markdown",
   "id": "d6bce3ce",
   "metadata": {},
   "source": [
    "Let's look at some of the options in the training command:\n",
    "\n",
    "- *`~model.text_tokenizer`* — remove default text tokenizer. The default tokenizer in the `fastpitch_align_v1.05.yaml` is `nemo.collections.common.tokenizers.text_to_speech.tts_tokenizers.EnglishPhonemesTokenizer`, but we want to use `nemo.collections.common.tokenizers.text_to_speech.tts_tokenizers.EnglishCharsTokenizer`.\n",
    "\n",
    "- *`+model.text_tokenizer._target_`* — add `nemo.collections.common.tokenizers.text_to_speech.tts_tokenizers.EnglishCharsTokenizer` as text tokenizer class."
   ]
  },
  {
   "cell_type": "markdown",
   "id": "2d9745fc",
   "metadata": {},
   "source": [
    "### Mixer-TTS\n",
    "\n",
    "Now we are ready for training our model! Let's try to train Mixer-TTS.\n",
    "\n",
    "*NOTE: The sample data is not enough data to properly train a Mixer-TTS. This will not result in a trained Mixer-TTS and is used to just as example.*"
   ]
  },
  {
   "cell_type": "code",
   "execution_count": null,
   "id": "8db3a903",
   "metadata": {
    "scrolled": true
   },
   "outputs": [],
   "source": [
    "!python mixer_tts.py sample_rate=16000 \\\n",
    "train_dataset=tests/data/asr/an4_train.json \\\n",
    "validation_datasets=tests/data/asr/an4_val.json \\\n",
    "sup_data_types=\"['align_prior_matrix', 'pitch']\" \\\n",
    "sup_data_path={mixer_tts_sup_data_path} \\\n",
    "phoneme_dict_path=tts_dataset_files/cmudict-0.7b_nv22.10 \\\n",
    "heteronyms_path=tts_dataset_files/heteronyms-052722 \\\n",
    "pitch_mean={pitch_mean} \\\n",
    "pitch_std={pitch_std} \\\n",
    "model.train_ds.dataloader_params.batch_size=6 \\\n",
    "model.train_ds.dataloader_params.num_workers=0 \\\n",
    "model.validation_ds.dataloader_params.num_workers=0 \\\n",
    "trainer.max_epochs=3 \\\n",
    "trainer.strategy=null \\\n",
    "trainer.check_val_every_n_epoch=1"
   ]
  },
  {
   "cell_type": "markdown",
   "id": "a00f8b88",
   "metadata": {},
   "source": [
    "That's it!\n",
    "\n",
    "In order to train FastPitch and Mixer-TTS for real purposes, it is highly recommended to obtain high quality speech data with the following properties:\n",
    "\n",
    "* Sampling rate of 22050Hz or higher\n",
    "* Single speaker\n",
    "* Speech should contain a variety of speech phonemes\n",
    "* Audio split into segments of 1-10 seconds\n",
    "* Audio segments should not have silence at the beginning and end\n",
    "* Audio segments should not contain long silences inside"
   ]
  }
 ],
 "metadata": {
  "kernelspec": {
   "display_name": "Python 3.9.15 ('ptl_venv')",
   "language": "python",
   "name": "python3"
  },
  "language_info": {
   "codemirror_mode": {
    "name": "ipython",
    "version": 3
   },
   "file_extension": ".py",
   "mimetype": "text/x-python",
   "name": "python",
   "nbconvert_exporter": "python",
   "pygments_lexer": "ipython3",
   "version": "3.10.10"
  },
  "vscode": {
   "interpreter": {
    "hash": "f8a1d50fd7b1e17bd198f085b8ced031398c6134b0da7c4415c17601bbcccc4e"
   }
  }
 },
 "nbformat": 4,
 "nbformat_minor": 5
}
