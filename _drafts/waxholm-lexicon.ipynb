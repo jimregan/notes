{
 "cells": [
  {
   "cell_type": "code",
   "execution_count": 342,
   "metadata": {},
   "outputs": [],
   "source": [
    "import json\n",
    "\n",
    "with open(\"/tmp/waxholm_raw_lexicon.json\") as lexjson:\n",
    "    data = json.load(lexjson)"
   ]
  },
  {
   "cell_type": "code",
   "execution_count": 254,
   "metadata": {},
   "outputs": [],
   "source": [
    "def simplify_stops(text):\n",
    "    text = text.replace(\"Kk\", \"K\")\n",
    "    text = text.replace(\"Gg\", \"G\")\n",
    "    text = text.replace(\"Dd\", \"D\")\n",
    "    text = text.replace(\"Tt\", \"T\")\n",
    "    text = text.replace(\"Bb\", \"B\")\n",
    "    text = text.replace(\"Pp\", \"P\")\n",
    "    text = text.replace(\"k\", \"K\")\n",
    "    text = text.replace(\"Kl\", \"kl\")\n",
    "    text = text.replace(\"g\", \"G\")\n",
    "    text = text.replace(\"d\", \"D\")\n",
    "    text = text.replace(\"t\", \"T\")\n",
    "    text = text.replace(\"b\", \"B\")\n",
    "    text = text.replace(\"p\", \"P\")\n",
    "    text = text.replace(\"Pa\", \"pa\")\n",
    "    text = text.replace(\"P:\", \"p:\")\n",
    "    return text\n"
   ]
  },
  {
   "cell_type": "code",
   "execution_count": 255,
   "metadata": {},
   "outputs": [],
   "source": [
    "def simplify_phoneme(text):\n",
    "    text = text.replace(\"+\", \"\")\n",
    "    text = text.replace(\"hy\", \"#\")\n",
    "    return text"
   ]
  },
  {
   "cell_type": "code",
   "execution_count": 257,
   "metadata": {},
   "outputs": [],
   "source": [
    "def segment_label(label, skip_pause=True):\n",
    "    phones = []\n",
    "    i = 0\n",
    "    while i < len(label):\n",
    "        start_i = i\n",
    "        end_i = i\n",
    "        if label[i:i+2] in [\"NG\", \"E0\", \"SJ\", \"TJ\", \"kl\", \"sm\", \"pa\", \"ha\", \"öh\", \"Pa\", \"p:_pa\", \"pa_p:\"]:\n",
    "            phones.append(label[i:i+2])\n",
    "            i += 2\n",
    "        elif label[i:i+2] == \"p:\":\n",
    "            if not skip_pause:\n",
    "                phones.append(\"p:\")\n",
    "            i += 2\n",
    "        elif label[i:i+1] in [\"#\", \"~\"]:\n",
    "            i += 1\n",
    "        else:\n",
    "            if label[i:i+1] in [\"'\", \"`\", \"\\\"\", \",\", \"2\"]:\n",
    "                i += 1\n",
    "                end_i += 1\n",
    "            if label[i+1:i+2] in [\":\", \"3\", \"4\"]:\n",
    "                end_i += 1\n",
    "            phones.append(label[start_i:end_i+1])\n",
    "            i = end_i + 1\n",
    "    return phones"
   ]
  },
  {
   "cell_type": "code",
   "execution_count": 258,
   "metadata": {},
   "outputs": [],
   "source": [
    "def lclem(lower):\n",
    "    if lower[0] == lower[-1] == \"X\":\n",
    "        return lower\n",
    "    else:\n",
    "        return lower.lower()\n"
   ]
  },
  {
   "cell_type": "code",
   "execution_count": 259,
   "metadata": {},
   "outputs": [
    {
     "data": {
      "text/plain": [
       "{'stem': 'fp2024.1.03',\n",
       " 'smp': 'fp2024/fp2024.1.03.smp',\n",
       " 'text': 'tack det är bra',\n",
       " 'phoneme': \"T'AK D'E:T+ 'Ä3R+ BR'A:\",\n",
       " 'labels': \"Tt'AKk Dd'E: BbR'A:\",\n",
       " 'labels_original': \"Tt'AKk Dd'E: BbR'A:\"}"
      ]
     },
     "execution_count": 259,
     "metadata": {},
     "output_type": "execute_result"
    }
   ],
   "source": [
    "data[0]"
   ]
  },
  {
   "cell_type": "code",
   "execution_count": 351,
   "metadata": {},
   "outputs": [],
   "source": [
    "X_TAGS = {\n",
    "    \"XtvekX\": \"öh\",\n",
    "    \"XinandX\": \"pa\",\n",
    "    \"XsmackX\": \"sm\",\n",
    "    \"XutandX\": \"pa\",\n",
    "    \"XharklingX\": \"ha\",\n",
    "    \"XklickX\": \"kl\",\n",
    "    \"XavbrordX\": \"\",\n",
    "    \"XskrattX\": \"ha\",\n",
    "    \"XsuckX\": \"pa\"\n",
    "}\n",
    "def check_x_tag(word, phoneme):\n",
    "    if word == \"XavbrordX\":\n",
    "        return True\n",
    "    if word in X_TAGS:\n",
    "        return phoneme == X_TAGS[word]\n",
    "\n",
    "def modify_phonemes_inner(word, phonemes, idx):\n",
    "    if not word in X_TAGS:\n",
    "        return phonemes\n",
    "    elif word == \"XavbrordX\":\n",
    "        return phonemes\n",
    "    if not check_x_tag(word, phonemes[idx]):\n",
    "        if idx == -1:\n",
    "            return phonemes + [X_TAGS[word]]\n",
    "        else:\n",
    "            return phonemes[0:idx] + [X_TAGS[word]] + phonemes[idx:]\n"
   ]
  },
  {
   "cell_type": "code",
   "execution_count": 352,
   "metadata": {},
   "outputs": [],
   "source": [
    "wds = \"XinandX lördag\".split(\" \")\n",
    "phn = \"L'Ö32DA\".split(\" \")\n",
    "assert modify_phonemes_inner(wds[0], phn, 0) == ['pa', \"L'Ö32DA\"]\n",
    "wds = \"lördag XinandX\".split(\" \")\n",
    "phn = \"L'Ö32DA\".split(\" \")\n",
    "assert modify_phonemes_inner(wds[1], phn, -1) == [\"L'Ö32DA\", 'pa']"
   ]
  },
  {
   "cell_type": "code",
   "execution_count": 353,
   "metadata": {},
   "outputs": [],
   "source": [
    "def modify_phonemes(words, phonemes):\n",
    "    i = 0\n",
    "    if phonemes is None or phonemes == [] or len(phonemes) == 0:\n",
    "        print(\"Error with phonemes\", phonemes)\n",
    "        return []\n",
    "    my_phonemes = phonemes\n",
    "    assert isinstance(my_phonemes, list)\n",
    "    assert my_phonemes is not None\n",
    "    while i < len(words):\n",
    "        if my_phonemes is None:\n",
    "            print(words, phonemes, my_phonemes, type(my_phonemes))\n",
    "        if i >= len(my_phonemes):\n",
    "            p_i = -1\n",
    "        else:\n",
    "            p_i = i\n",
    "        my_phonemes = modify_phonemes_inner(words[i], my_phonemes, p_i)\n",
    "        i += 1\n",
    "    return my_phonemes\n",
    "            "
   ]
  },
  {
   "cell_type": "code",
   "execution_count": null,
   "metadata": {},
   "outputs": [],
   "source": [
    "for entry in data:\n",
    "    if not \"phoneme\" in entry:\n",
    "        continue\n",
    "    if entry[\"phoneme\"] == \"\":\n",
    "        continue\n",
    "    phonemes = entry[\"phoneme\"].strip().split(\" \")\n",
    "    phonemes_orig = \" \".join(phonemes)\n",
    "    words = entry[\"text\"].strip().split(\" \")\n",
    "    labels = entry[\"labels\"].strip().split(\" \")\n",
    "    if phonemes == None or phonemes == []:\n",
    "        continue\n",
    "    if len(words) != len(phonemes):\n",
    "        mod = modify_phonemes(words, phonemes)\n",
    "        if \" \".join(mod) != phonemes_orig:\n",
    "            entry[\"phoneme_orginal\"] = entry[\"phoneme\"]\n",
    "            entry[\"phoneme\"] = \" \".join(mod)\n",
    "    with open(\"/tmp/waxholm_autoedit.json\", \"w\") as autoedit:\n",
    "        json.dump(data, autoedit)\n"
   ]
  },
  {
   "cell_type": "code",
   "execution_count": 249,
   "metadata": {},
   "outputs": [],
   "source": [
    "entries = {}\n",
    "rest = []\n",
    "for item in data:\n",
    "    if not \"phoneme\" in item:\n",
    "        continue\n",
    "    if item[\"labels\"].startswith(\"sm\") and not item[\"text\"].startswith(\"XsmackX\"):\n",
    "        item[\"text\"] = f'XsmackX {item[\"text\"]}'\n",
    "    elif item[\"labels\"].startswith(\"öh\") and not item[\"text\"].startswith(\"XtvekX\"):\n",
    "        item[\"text\"] = f'XtvekX {item[\"text\"]}'\n",
    "    # elif item[\"labels\"].startswith(\"pa\") and not item[\"text\"].startswith(\"XutandX\"):\n",
    "    #     item[\"text\"] = f'XutandX {item[\"text\"]}'\n",
    "    phonemes = simplify_phoneme(item[\"phoneme\"]).split(\" \")\n",
    "    labels = simplify_stops(item[\"labels\"]).split(\" \")\n",
    "    words = [lclem(x) for x in item[\"text\"].split(\" \")]\n",
    "\n",
    "    if len(phonemes) == len(labels) == len(words):\n",
    "        curword = {}\n",
    "        for x in zip(words, phonemes, labels):\n",
    "            if not x[0] in entries:\n",
    "                entries[x[0]] = {}\n",
    "            if not x[1] in entries[x[0]]:\n",
    "                entries[x[0]][x[1]] = {}\n",
    "            if not x[2] in entries[x[0]][x[1]]:\n",
    "                entries[x[0]][x[1]][x[2]] = set()\n",
    "            entries[x[0]][x[1]][x[2]].add(item[\"stem\"])\n",
    "    else:\n",
    "        rest.append(item)"
   ]
  },
  {
   "cell_type": "code",
   "execution_count": 250,
   "metadata": {},
   "outputs": [],
   "source": [
    "for a in entries:\n",
    "    for b in entries[a]:\n",
    "        for c in entries[a][b]:\n",
    "            for d in entries[a][b][c]:\n",
    "                entries[a][b][c] = list(entries[a][b][c])"
   ]
  },
  {
   "cell_type": "code",
   "execution_count": 251,
   "metadata": {},
   "outputs": [],
   "source": [
    "with open(\"/tmp/simple-aligned-entries.json\", \"w\") as simplef:\n",
    "    json.dump(entries, simplef)"
   ]
  },
  {
   "cell_type": "code",
   "execution_count": 252,
   "metadata": {},
   "outputs": [
    {
     "data": {
      "text/plain": [
       "429"
      ]
     },
     "execution_count": 252,
     "metadata": {},
     "output_type": "execute_result"
    }
   ],
   "source": [
    "len(rest)"
   ]
  },
  {
   "cell_type": "code",
   "execution_count": 231,
   "metadata": {},
   "outputs": [],
   "source": [
    "smacks = []\n",
    "uh = []\n",
    "for item in rest:\n",
    "    if item[\"labels\"].startswith(\"sm\") and not item[\"text\"].startswith(\"XsmackX\"):\n",
    "        smacks.append(item)\n",
    "    elif item[\"labels\"].startswith(\"öh\") and not item[\"text\"].startswith(\"XtvekX\"):\n",
    "        uh.append(item)"
   ]
  }
 ],
 "metadata": {
  "kernelspec": {
   "display_name": "hf",
   "language": "python",
   "name": "python3"
  },
  "language_info": {
   "codemirror_mode": {
    "name": "ipython",
    "version": 3
   },
   "file_extension": ".py",
   "mimetype": "text/x-python",
   "name": "python",
   "nbconvert_exporter": "python",
   "pygments_lexer": "ipython3",
   "version": "3.9.15"
  },
  "orig_nbformat": 4
 },
 "nbformat": 4,
 "nbformat_minor": 2
}
