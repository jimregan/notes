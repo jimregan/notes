{
 "cells": [
  {
   "cell_type": "code",
   "execution_count": 206,
   "metadata": {},
   "outputs": [],
   "source": [
    "import json\n",
    "\n",
    "with open(\"/tmp/waxholm_raw_lexicon.json\") as lexjson:\n",
    "    data = json.load(lexjson)"
   ]
  },
  {
   "cell_type": "code",
   "execution_count": 207,
   "metadata": {},
   "outputs": [],
   "source": [
    "def simplify_stops(text):\n",
    "    text = text.replace(\"Kk\", \"K\")\n",
    "    text = text.replace(\"Gg\", \"G\")\n",
    "    text = text.replace(\"Dd\", \"D\")\n",
    "    text = text.replace(\"Tt\", \"T\")\n",
    "    text = text.replace(\"Bb\", \"B\")\n",
    "    text = text.replace(\"Pp\", \"P\")\n",
    "    text = text.replace(\"k\", \"K\")\n",
    "    text = text.replace(\"Kl\", \"kl\")\n",
    "    text = text.replace(\"g\", \"G\")\n",
    "    text = text.replace(\"d\", \"D\")\n",
    "    text = text.replace(\"t\", \"T\")\n",
    "    text = text.replace(\"b\", \"B\")\n",
    "    text = text.replace(\"p\", \"P\")\n",
    "    text = text.replace(\"Pa\", \"pa\")\n",
    "    text = text.replace(\"P:\", \"p:\")\n",
    "    return text\n"
   ]
  },
  {
   "cell_type": "code",
   "execution_count": 208,
   "metadata": {},
   "outputs": [],
   "source": [
    "def simplify_phoneme(text):\n",
    "    text = text.replace(\"+\", \"\")\n",
    "    text = text.replace(\"hy\", \"#\")\n",
    "    return text"
   ]
  },
  {
   "cell_type": "code",
   "execution_count": 209,
   "metadata": {},
   "outputs": [],
   "source": [
    "def segment_label(label, skip_pause=True):\n",
    "    phones = []\n",
    "    i = 0\n",
    "    while i < len(label):\n",
    "        start_i = i\n",
    "        end_i = i\n",
    "        if label[i:i+2] in [\"NG\", \"E0\", \"SJ\", \"TJ\", \"kl\", \"sm\", \"pa\", \"ha\", \"öh\", \"Pa\"]:\n",
    "            phones.append(label[i:i+2])\n",
    "            i += 2\n",
    "        elif label[i:i+2] == \"p:\":\n",
    "            if not skip_pause:\n",
    "                phones.append(\"p:\")\n",
    "            i += 2\n",
    "        elif label[i:i+1] in [\"#\", \"~\"]:\n",
    "            i += 1\n",
    "        else:\n",
    "            if label[i:i+1] in [\"'\", \"`\", \"\\\"\", \",\", \"2\"]:\n",
    "                i += 1\n",
    "                end_i += 1\n",
    "            if label[i+1:i+2] in [\":\", \"3\", \"4\"]:\n",
    "                end_i += 1\n",
    "            phones.append(label[start_i:end_i+1])\n",
    "            i = end_i + 1\n",
    "    return phones"
   ]
  },
  {
   "cell_type": "code",
   "execution_count": 210,
   "metadata": {},
   "outputs": [],
   "source": [
    "def lclem(lower):\n",
    "    if lower[0] == lower[-1] == \"X\":\n",
    "        return lower\n",
    "    else:\n",
    "        return lower.lower()\n"
   ]
  },
  {
   "cell_type": "code",
   "execution_count": 211,
   "metadata": {},
   "outputs": [
    {
     "data": {
      "text/plain": [
       "{'stem': 'fp2024.1.03',\n",
       " 'smp': 'fp2024/fp2024.1.03.smp',\n",
       " 'text': 'tack det är bra',\n",
       " 'phoneme': \"T'AK D'E:T+ 'Ä3R+ BR'A:\",\n",
       " 'labels': \"Tt'AKk Dd'E: BbR'A:\",\n",
       " 'labels_original': \"Tt'AKk Dd'E: BbR'A:\"}"
      ]
     },
     "execution_count": 211,
     "metadata": {},
     "output_type": "execute_result"
    }
   ],
   "source": [
    "data[0]"
   ]
  },
  {
   "cell_type": "code",
   "execution_count": 218,
   "metadata": {},
   "outputs": [],
   "source": [
    "entries = {}\n",
    "for item in data:\n",
    "    if not \"phoneme\" in item:\n",
    "        continue\n",
    "    phonemes = simplify_phoneme(item[\"phoneme\"]).split(\" \")\n",
    "    labels = simplify_stops(item[\"labels\"]).split(\" \")\n",
    "    words = [lclem(x) for x in item[\"text\"].split(\" \")]\n",
    "\n",
    "    if len(phonemes) == len(labels) == len(words):\n",
    "        curword = {}\n",
    "        for x in zip(words, phonemes, labels):\n",
    "            if not x[0] in entries:\n",
    "                entries[x[0]] = {}\n",
    "            if not x[1] in entries[x[0]]:\n",
    "                entries[x[0]][x[1]] = {}\n",
    "            if not x[2] in entries[x[0]][x[1]]:\n",
    "                entries[x[0]][x[1]][x[2]] = set()\n",
    "            entries[x[0]][x[1]][x[2]].add(item[\"stem\"])"
   ]
  },
  {
   "cell_type": "code",
   "execution_count": 224,
   "metadata": {},
   "outputs": [],
   "source": [
    "for a in entries:\n",
    "    for b in entries[a]:\n",
    "        for c in entries[a][b]:\n",
    "            for d in entries[a][b][c]:\n",
    "                entries[a][b][c] = list(entries[a][b][c])"
   ]
  },
  {
   "cell_type": "code",
   "execution_count": 225,
   "metadata": {},
   "outputs": [],
   "source": [
    "with open(\"/tmp/simple-aligned-entries.json\", \"w\") as simplef:\n",
    "    json.dump(entries, simplef)"
   ]
  }
 ],
 "metadata": {
  "kernelspec": {
   "display_name": "hf",
   "language": "python",
   "name": "python3"
  },
  "language_info": {
   "codemirror_mode": {
    "name": "ipython",
    "version": 3
   },
   "file_extension": ".py",
   "mimetype": "text/x-python",
   "name": "python",
   "nbconvert_exporter": "python",
   "pygments_lexer": "ipython3",
   "version": "3.9.15"
  },
  "orig_nbformat": 4
 },
 "nbformat": 4,
 "nbformat_minor": 2
}
