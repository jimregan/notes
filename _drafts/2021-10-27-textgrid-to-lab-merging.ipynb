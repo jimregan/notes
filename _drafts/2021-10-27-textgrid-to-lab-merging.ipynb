{
 "cells": [
  {
   "cell_type": "code",
   "execution_count": 3,
   "metadata": {},
   "outputs": [],
   "source": [
    "from praatio import textgrid"
   ]
  },
  {
   "cell_type": "code",
   "execution_count": 4,
   "metadata": {},
   "outputs": [],
   "source": [
    "from pathlib import Path"
   ]
  },
  {
   "cell_type": "code",
   "execution_count": 5,
   "metadata": {},
   "outputs": [],
   "source": [
    "def get_combined_words_and_phones(filename):\n",
    "    from praatio import textgrid\n",
    "\n",
    "    tg = textgrid.openTextgrid(filename, False)\n",
    "    if not tg.tierNameList:\n",
    "        return []\n",
    "    if tg.tierNameList == ['words', 'phones']:\n",
    "        word_tier = 'words'\n",
    "    elif tg.tierNameList == ['Word', 'phones']:\n",
    "        word_tier = 'Word'\n",
    "\n",
    "    word = tg.tierDict[word_tier]\n",
    "    phones = tg.tierDict['phones']\n",
    "    \n",
    "    i = 0\n",
    "    j = 0\n",
    "    out = []\n",
    "\n",
    "    def it_to_dict(it):\n",
    "        ret = {}\n",
    "        ret['start'] = it.start\n",
    "        ret['end'] = it.end\n",
    "        ret['label'] = it.label\n",
    "        return ret\n",
    "\n",
    "    while i < len(word.entryList) and j < len(phones.entryList):\n",
    "        cur_word = it_to_dict(word.entryList[i])\n",
    "        cur_word['phones'] = []\n",
    "        while j < len(phones.entryList) and phones.entryList[j].end <= cur_word['end']:\n",
    "            end_time = phones.entryList[j].end\n",
    "            tmp_phone = it_to_dict(phones.entryList[j])\n",
    "            cur_word['phones'].append(tmp_phone)\n",
    "            j += 1\n",
    "            if end_time == cur_word['end']:\n",
    "                i += 1\n",
    "                out.append(cur_word)\n",
    "                continue\n",
    "    return out"
   ]
  },
  {
   "cell_type": "markdown",
   "metadata": {},
   "source": [
    "This phone merging is only intended to merge a silence or spoken noise 'phone' to the left, but for the most part this doesn't do what I'd wanted, as it often means a silence 'word' has been inserted."
   ]
  },
  {
   "cell_type": "code",
   "execution_count": 19,
   "metadata": {},
   "outputs": [],
   "source": [
    "def merge_phones(word):\n",
    "    outphones = []\n",
    "    if len(word['phones']) == 1:\n",
    "        return word['phones']\n",
    "    for i in range(0, len(word['phones'])):\n",
    "        if i > 0 and word['phones'][i]['label'] in [\"\", \"sil\", \"spn\"]:\n",
    "            outphones[-1]['end'] = word['phones'][i]['end']\n",
    "        else:\n",
    "            outphones.append(word['phones'][i])\n",
    "    return outphones"
   ]
  },
  {
   "cell_type": "code",
   "execution_count": 20,
   "metadata": {},
   "outputs": [],
   "source": [
    "def tg_to_lab(filename, target=\"phones\"):\n",
    "    combined = get_combined_words_and_phones(filename)\n",
    "    merged = [merge_phones(x) for x in combined]\n",
    "    flattened = [item for sublist in merged for item in sublist]\n",
    "    \n",
    "    out = []\n",
    "\n",
    "    for tmp_phone in flattened:\n",
    "        start = int(tmp_phone['start'] * 10000000)\n",
    "        end = int(tmp_phone['end'] * 10000000)\n",
    "        label = tmp_phone['label']\n",
    "        out.append(f\"{start} {end} {label}\")\n",
    "\n",
    "    return out"
   ]
  },
  {
   "cell_type": "code",
   "execution_count": 21,
   "metadata": {},
   "outputs": [],
   "source": [
    "inpath = Path(\"/home/jim/Playing/mfa_alignments/snc-out\")\n",
    "outpath = Path(\"/home/jim/Playing/mfa_alignments/snc-lab2\")\n",
    "\n",
    "for filename in inpath.glob(\"*.TextGrid\"):\n",
    "    out = outpath / f\"{filename.stem}.lab\"\n",
    "    lab = tg_to_lab(filename)\n",
    "\n",
    "    with open(out, \"w\") as outf:\n",
    "        for line in lab:\n",
    "            outf.write(line + \"\\n\")"
   ]
  }
 ],
 "metadata": {
  "kernelspec": {
   "display_name": "Python 3",
   "language": "python",
   "name": "python3"
  },
  "language_info": {
   "codemirror_mode": {
    "name": "ipython",
    "version": 3
   },
   "file_extension": ".py",
   "mimetype": "text/x-python",
   "name": "python",
   "nbconvert_exporter": "python",
   "pygments_lexer": "ipython3",
   "version": "3.6.9"
  }
 },
 "nbformat": 4,
 "nbformat_minor": 2
}
