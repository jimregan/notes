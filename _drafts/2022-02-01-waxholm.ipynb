{
 "cells": [
  {
   "cell_type": "code",
   "execution_count": 6,
   "metadata": {},
   "outputs": [],
   "source": [
    "def fix_text(text):\n",
    "    return text.replace(\"{\", \"ä\").replace(\"}\", \"å\").replace(\"|\", \"ö\")"
   ]
  },
  {
   "cell_type": "code",
   "execution_count": 7,
   "metadata": {},
   "outputs": [],
   "source": [
    "TESTF = \"/Users/joregan/Playing/waxholm/scenes_formatted//fp2033/fp2033.6.20.smp.mix\""
   ]
  },
  {
   "cell_type": "code",
   "execution_count": 8,
   "metadata": {},
   "outputs": [],
   "source": [
    "class FR:\n",
    "    def __init__(self, text):\n",
    "        if not text.startswith(\"FR\"):\n",
    "            raise IOError(\"Unknown line type (does not begin with 'FR'): \" + text)\n",
    "        parts = text.split(\"\\t\")\n",
    "        if len(parts) == 5:\n",
    "            self.type = 'B'\n",
    "        if len(parts) == 4:\n",
    "            self.type = 'I'\n",
    "        if len(parts) == 3:\n",
    "            self.type = 'E'\n",
    "            if parts[1].strip() != \"OK\":\n",
    "                raise IOError(\"Unexpected line: \" + text)\n",
    "        self.frame = parts[0][2:].strip()\n",
    "        if len(parts) > 3:\n",
    "            self.phone_type = parts[1].strip()[0:1]\n",
    "            self.phone = parts[1].strip()[1:]\n",
    "            if not parts[2].strip().startswith(\">pm \"):\n",
    "                raise IOError(\"Unexpected line: \" + text)\n",
    "            self.pm_type = parts[2].strip()[4:5]\n",
    "            self.pm = parts[2].strip()[5:]\n",
    "        if len(parts) == 5:\n",
    "            if not parts[3].strip().startswith(\">w \"):\n",
    "                raise IOError(\"Unexpected line: \" + text)\n",
    "            self.word = fix_text(parts[3].strip()[3:])\n",
    "        if parts[-1].strip().endswith(\" sec\"):\n",
    "            self.seconds = parts[-1].strip()[0:-4]\n",
    "\n",
    "    def __repr__(self):\n",
    "        parts = []\n",
    "        parts.append(f\"type: {self.type}\")\n",
    "        parts.append(f\"frame: {self.frame}\")\n",
    "        if self.type != 'E':\n",
    "            parts.append(f\"phone: {self.phone}\")\n",
    "        if 'word' in self.__dict__:\n",
    "            parts.append(f\"word: {self.word}\")\n",
    "        if 'pm_type' in self.__dict__:\n",
    "            parts.append(f\"pm_type: {self.pm_type}\")\n",
    "        if 'pm' in self.__dict__:\n",
    "            parts.append(f\"pm: {self.pm}\")\n",
    "        parts.append(f\"sec: {self.seconds}\")\n",
    "        return f\"FR(\" + \", \".join(parts) + \")\"\n",
    "        "
   ]
  },
  {
   "cell_type": "code",
   "execution_count": 9,
   "metadata": {},
   "outputs": [],
   "source": [
    "class Mix():\n",
    "    def __init__(self, filepath):\n",
    "        self.fr = []\n",
    "        with open(filepath) as inpf:\n",
    "            saw_text = False\n",
    "            saw_phoneme = False\n",
    "            saw_labels = False\n",
    "            for line in inpf.readlines():\n",
    "                if line.startswith(\"Waxholm dialog.\"):\n",
    "                    self.filepath = line[15:].strip()\n",
    "                if line.startswith(\"TEXT:\"):\n",
    "                    saw_text = True\n",
    "                if saw_text:\n",
    "                    self.text = fix_text(line.strip())\n",
    "                    saw_text = False\n",
    "                if line.startswith(\"FR \"):\n",
    "                    if saw_labels:\n",
    "                        saw_labels = False\n",
    "                    self.fr.append(FR(line))\n",
    "                if line.startswith(\"Labels: \"):\n",
    "                    self.labels = line[8:].strip()\n",
    "                    saw_labels = True\n",
    "                if saw_labels and line.startswith(\" \"):\n",
    "                    self.labels += line.strip()\n",
    "        "
   ]
  },
  {
   "cell_type": "code",
   "execution_count": 10,
   "metadata": {},
   "outputs": [],
   "source": [
    "def smp_probe(filename):\n",
    "    with open(filename, \"rb\") as f:\n",
    "        return f.read(9) == b\"file=samp\""
   ]
  },
  {
   "cell_type": "code",
   "execution_count": 1,
   "metadata": {},
   "outputs": [],
   "source": [
    "def smp_headers(filename):\n",
    "    with open(filename, \"rb\") as f:\n",
    "        f.seek(0)\n",
    "        raw_headers = f.read(1024)\n",
    "        raw_headers = raw_headers.rstrip(b'\\x00')\n",
    "        asc_headers = raw_headers.decode(\"ascii\")\n",
    "        asc_headers.rstrip('\\x00')\n",
    "        tmp = [a for a in asc_headers.split(\"\\r\\n\")]\n",
    "        back = -1\n",
    "        while abs(back) > len(tmp) + 1:\n",
    "            if tmp[back] == '=':\n",
    "                break\n",
    "            back -= 1\n",
    "        tmp = tmp[0:back-1]\n",
    "        return dict(a.split(\"=\") for a in tmp)"
   ]
  },
  {
   "cell_type": "code",
   "execution_count": 12,
   "metadata": {},
   "outputs": [],
   "source": [
    "import struct\n",
    "import numpy as np\n",
    "def smp_read(filename):\n",
    "    headers = smp_headers(filename)\n",
    "    if headers[\"msb\"] == \"last\":\n",
    "        SPEC = \"<H\"\n",
    "    else:\n",
    "        SPEC = \">H\"\n",
    "    \n",
    "    with open(filename, \"rb\") as f:\n",
    "        f.seek(1024)\n",
    "        buf = f.read()\n",
    "        tmp = [a for a in struct.iter_unpack(SPEC, buf)]\n",
    "        return np.array(tmp).reshape(1, -1)\n"
   ]
  },
  {
   "cell_type": "code",
   "execution_count": 1,
   "metadata": {},
   "outputs": [
    {
     "ename": "NameError",
     "evalue": "name 'smp_read' is not defined",
     "output_type": "error",
     "traceback": [
      "\u001b[0;31m---------------------------------------------------------------------------\u001b[0m",
      "\u001b[0;31mNameError\u001b[0m                                 Traceback (most recent call last)",
      "\u001b[0;32m/var/folders/d9/cbkhg23x349_t692zq6yhcv00000gn/T/ipykernel_22707/2075156136.py\u001b[0m in \u001b[0;36m<module>\u001b[0;34m\u001b[0m\n\u001b[1;32m      1\u001b[0m \u001b[0mTEST2\u001b[0m \u001b[0;34m=\u001b[0m \u001b[0;34m\"/Users/joregan/Playing/waxholm/scenes_formatted/fp2060/fp2060.11.03.smp\"\u001b[0m\u001b[0;34m\u001b[0m\u001b[0;34m\u001b[0m\u001b[0m\n\u001b[1;32m      2\u001b[0m \u001b[0;34m\u001b[0m\u001b[0m\n\u001b[0;32m----> 3\u001b[0;31m \u001b[0ma\u001b[0m\u001b[0;34m=\u001b[0m\u001b[0msmp_read\u001b[0m\u001b[0;34m(\u001b[0m\u001b[0mTEST2\u001b[0m\u001b[0;34m)\u001b[0m\u001b[0;34m\u001b[0m\u001b[0;34m\u001b[0m\u001b[0m\n\u001b[0m",
      "\u001b[0;31mNameError\u001b[0m: name 'smp_read' is not defined"
     ]
    }
   ],
   "source": [
    "TEST2 = \"/Users/joregan/Playing/waxholm/scenes_formatted/fp2060/fp2060.11.03.smp\"\n",
    "\n",
    "a=smp_read(TEST2)"
   ]
  },
  {
   "cell_type": "code",
   "execution_count": null,
   "metadata": {},
   "outputs": [],
   "source": [
    "import torch\n",
    "waveform = torch.tensor(a, dtype=torch.uint16)\n",
    "waveform = torch.reshape(waveform, (1, waveform.shape[0]))\n",
    "waveform"
   ]
  },
  {
   "cell_type": "code",
   "execution_count": null,
   "metadata": {},
   "outputs": [],
   "source": [
    "import wave\n",
    "import numpy as np\n",
    "\n",
    "na = np.array(a, dtype=np.uint16)\n",
    "\n",
    "with wave.open(\"sound1.wav\", \"w\") as f:\n",
    "    # 2 Channels.\n",
    "    f.setnchannels(1)\n",
    "    # 2 bytes per sample.\n",
    "    f.setsampwidth(2)\n",
    "    f.setframerate(16000)\n",
    "    f.writeframes(na)"
   ]
  },
  {
   "cell_type": "code",
   "execution_count": null,
   "metadata": {},
   "outputs": [],
   "source": [
    "import numpy as np\n",
    "\n",
    "thing = np.memmap(TEST2, dtype=np.dtype(\">H\"), mode=\"r\", offset=1024)\n"
   ]
  },
  {
   "cell_type": "code",
   "execution_count": 6,
   "metadata": {},
   "outputs": [],
   "source": [
    "import numpy as np\n",
    "test = [1, 2, 3, 4, 5, 6, 7, 8]\n",
    "testnp = np.array(test)\n",
    "odds = testnp[1::2]\n",
    "odds.shape"
   ]
  },
  {
   "cell_type": "markdown",
   "metadata": {},
   "source": [
    "From [python-audio](https://github.com/mgeier/python-audio/blob/master/audio-files/utility.py), [CC-0](https://github.com/mgeier/python-audio/blob/master/LICENSE)"
   ]
  },
  {
   "cell_type": "code",
   "execution_count": 7,
   "metadata": {},
   "outputs": [],
   "source": [
    "def pcm2float(sig, dtype='float64'):\n",
    "    \"\"\"Convert PCM signal to floating point with a range from -1 to 1.\n",
    "    Use dtype='float32' for single precision.\n",
    "    Parameters\n",
    "    ----------\n",
    "    sig : array_like\n",
    "        Input array, must have integral type.\n",
    "    dtype : data type, optional\n",
    "        Desired (floating point) data type.\n",
    "    Returns\n",
    "    -------\n",
    "    numpy.ndarray\n",
    "        Normalized floating point data.\n",
    "    See Also\n",
    "    --------\n",
    "    float2pcm, dtype\n",
    "    \"\"\"\n",
    "    sig = np.asarray(sig)\n",
    "    if sig.dtype.kind not in 'iu':\n",
    "        raise TypeError(\"'sig' must be an array of integers\")\n",
    "    dtype = np.dtype(dtype)\n",
    "    if dtype.kind != 'f':\n",
    "        raise TypeError(\"'dtype' must be a floating point type\")\n",
    "\n",
    "    i = np.iinfo(sig.dtype)\n",
    "    abs_max = 2 ** (i.bits - 1)\n",
    "    offset = i.min + abs_max\n",
    "    return (sig.astype(dtype) - offset) / abs_max"
   ]
  },
  {
   "cell_type": "code",
   "execution_count": 2,
   "metadata": {},
   "outputs": [],
   "source": [
    "def smp_read(filename):\n",
    "    headers = smp_headers(filename)\n",
    "    if headers[\"msb\"] == \"last\":\n",
    "        SPEC = \"<H\"\n",
    "    else:\n",
    "        SPEC = \">H\"\n",
    "\n",
    "    arr = np.memmap(TEST2, dtype=np.dtype(\">H\"), mode=\"r\", offset=1024)\n",
    "    arr = pcm2float(arr)\n",
    "    if headers[\"nchans\"] == \"1\":\n",
    "        arr = np.reshape(arr, (1, -1))\n",
    "    elif headers[\"nchans\"] == \"2\":\n",
    "        arr = np.array([arr[::2], arr[1::2]])\n",
    "    else:\n",
    "        raise IOError(\"Only know how to handle 1 or 2 channels, got: \" + headers[\"nchans\"])\n",
    "    return arr"
   ]
  },
  {
   "cell_type": "code",
   "execution_count": 3,
   "metadata": {},
   "outputs": [
    {
     "ename": "NameError",
     "evalue": "name 'np' is not defined",
     "output_type": "error",
     "traceback": [
      "\u001b[0;31m---------------------------------------------------------------------------\u001b[0m",
      "\u001b[0;31mNameError\u001b[0m                                 Traceback (most recent call last)",
      "\u001b[0;32m/var/folders/d9/cbkhg23x349_t692zq6yhcv00000gn/T/ipykernel_61517/785652426.py\u001b[0m in \u001b[0;36m<module>\u001b[0;34m\u001b[0m\n\u001b[1;32m      1\u001b[0m \u001b[0mTEST2\u001b[0m \u001b[0;34m=\u001b[0m \u001b[0;34m\"/Users/joregan/Playing/waxholm/scenes_formatted/fp2060/fp2060.11.03.smp\"\u001b[0m\u001b[0;34m\u001b[0m\u001b[0;34m\u001b[0m\u001b[0m\n\u001b[0;32m----> 2\u001b[0;31m \u001b[0msmp_read\u001b[0m\u001b[0;34m(\u001b[0m\u001b[0mTEST2\u001b[0m\u001b[0;34m)\u001b[0m\u001b[0;34m\u001b[0m\u001b[0;34m\u001b[0m\u001b[0m\n\u001b[0m",
      "\u001b[0;32m/var/folders/d9/cbkhg23x349_t692zq6yhcv00000gn/T/ipykernel_61517/3089023711.py\u001b[0m in \u001b[0;36msmp_read\u001b[0;34m(filename)\u001b[0m\n\u001b[1;32m      6\u001b[0m         \u001b[0mSPEC\u001b[0m \u001b[0;34m=\u001b[0m \u001b[0;34m\">H\"\u001b[0m\u001b[0;34m\u001b[0m\u001b[0;34m\u001b[0m\u001b[0m\n\u001b[1;32m      7\u001b[0m \u001b[0;34m\u001b[0m\u001b[0m\n\u001b[0;32m----> 8\u001b[0;31m     \u001b[0marr\u001b[0m \u001b[0;34m=\u001b[0m \u001b[0mnp\u001b[0m\u001b[0;34m.\u001b[0m\u001b[0mmemmap\u001b[0m\u001b[0;34m(\u001b[0m\u001b[0mTEST2\u001b[0m\u001b[0;34m,\u001b[0m \u001b[0mdtype\u001b[0m\u001b[0;34m=\u001b[0m\u001b[0mnp\u001b[0m\u001b[0;34m.\u001b[0m\u001b[0mdtype\u001b[0m\u001b[0;34m(\u001b[0m\u001b[0;34m\">H\"\u001b[0m\u001b[0;34m)\u001b[0m\u001b[0;34m,\u001b[0m \u001b[0mmode\u001b[0m\u001b[0;34m=\u001b[0m\u001b[0;34m\"r\"\u001b[0m\u001b[0;34m,\u001b[0m \u001b[0moffset\u001b[0m\u001b[0;34m=\u001b[0m\u001b[0;36m1024\u001b[0m\u001b[0;34m)\u001b[0m\u001b[0;34m\u001b[0m\u001b[0;34m\u001b[0m\u001b[0m\n\u001b[0m\u001b[1;32m      9\u001b[0m     \u001b[0marr\u001b[0m \u001b[0;34m=\u001b[0m \u001b[0mpcm2float\u001b[0m\u001b[0;34m(\u001b[0m\u001b[0marr\u001b[0m\u001b[0;34m)\u001b[0m\u001b[0;34m\u001b[0m\u001b[0;34m\u001b[0m\u001b[0m\n\u001b[1;32m     10\u001b[0m     \u001b[0;32mif\u001b[0m \u001b[0mheaders\u001b[0m\u001b[0;34m[\u001b[0m\u001b[0;34m\"nchans\"\u001b[0m\u001b[0;34m]\u001b[0m \u001b[0;34m==\u001b[0m \u001b[0;34m\"1\"\u001b[0m\u001b[0;34m:\u001b[0m\u001b[0;34m\u001b[0m\u001b[0;34m\u001b[0m\u001b[0m\n",
      "\u001b[0;31mNameError\u001b[0m: name 'np' is not defined"
     ]
    }
   ],
   "source": [
    "TEST2 = \"/Users/joregan/Playing/waxholm/scenes_formatted/fp2060/fp2060.11.03.smp\"\n",
    "smp_read(TEST2)"
   ]
  }
 ],
 "metadata": {
  "interpreter": {
   "hash": "2603f07046c437130ee32ef9381ac7221f7902403001eace09f7e749adb599f7"
  },
  "kernelspec": {
   "display_name": "Python 3.9.7 ('base')",
   "language": "python",
   "name": "python3"
  },
  "language_info": {
   "codemirror_mode": {
    "name": "ipython",
    "version": 3
   },
   "file_extension": ".py",
   "mimetype": "text/x-python",
   "name": "python",
   "nbconvert_exporter": "python",
   "pygments_lexer": "ipython3",
   "version": "3.9.7"
  },
  "orig_nbformat": 4
 },
 "nbformat": 4,
 "nbformat_minor": 2
}
