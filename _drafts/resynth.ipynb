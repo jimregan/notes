{
 "cells": [
  {
   "cell_type": "code",
   "execution_count": null,
   "metadata": {},
   "outputs": [],
   "source": [
    "import torch\n",
    "from TTS.api import TTS\n",
    "from tqdm.auto import tqdm\n",
    "import soundfile as sf\n",
    "import numpy as np"
   ]
  },
  {
   "cell_type": "code",
   "execution_count": null,
   "metadata": {},
   "outputs": [],
   "source": [
    "device = \"cuda\" if torch.cuda.is_available() else \"cpu\""
   ]
  },
  {
   "cell_type": "code",
   "execution_count": null,
   "metadata": {},
   "outputs": [],
   "source": [
    "tts = TTS(\"tts_models/multilingual/multi-dataset/xtts_v2\").to(device)"
   ]
  },
  {
   "cell_type": "code",
   "execution_count": null,
   "metadata": {},
   "outputs": [],
   "source": [
    "TSV_DIR = \"/home/joregan/humogen/genea2023/tsv\"\n",
    "REF_DIR = \"/home/joregan/humogen/reference_speakers\""
   ]
  },
  {
   "cell_type": "code",
   "execution_count": null,
   "metadata": {},
   "outputs": [],
   "source": [
    "from pathlib import Path\n",
    "\n",
    "sentences = {}\n",
    "for tsvfile in Path(TSV_DIR).glob(\"*.tsv\"):\n",
    "    file_id = tsvfile.stem\n",
    "    lines = []\n",
    "    with open(tsvfile) as f:\n",
    "        for line in f.readlines():\n",
    "            if not \"\\t\" in line:\n",
    "                continue\n",
    "            lines.append(line.strip().split(\"\\t\"))\n",
    "    sentences[file_id] = \" \".join([x[2] for x in lines if len(x) == 3])\n"
   ]
  },
  {
   "cell_type": "code",
   "execution_count": null,
   "metadata": {},
   "outputs": [],
   "source": [
    "for spk_no, speaker in enumerate(tqdm(Path(REF_DIR).glob(\"*.wav\"))):\n",
    "    folder = Path(f\"/tmp/outputs/{spk_no + 1}\")\n",
    "    folder.mkdir(exist_ok=True)\n",
    "    print(speaker)\n",
    "    for i, sentence in enumerate(tqdm(sentences)):\n",
    "        wav = tts.tts(text=sentences[sentence], speaker_wav=f\"{speaker}\", language=\"en\", split_sentences=False)\n",
    "        sf.write(folder / f\"{i+1}.wav\", np.array(wav), 24_000, 'PCM_24')"
   ]
  }
 ],
 "metadata": {
  "language_info": {
   "name": "python"
  }
 },
 "nbformat": 4,
 "nbformat_minor": 2
}
