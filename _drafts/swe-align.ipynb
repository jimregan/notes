{
 "cells": [
  {
   "cell_type": "code",
   "execution_count": 26,
   "metadata": {},
   "outputs": [],
   "source": [
    "def approx_match(time_a, time_b, slippage=0.040000000000000036):\n",
    "    return abs(time_a - time_b) <= slippage"
   ]
  },
  {
   "cell_type": "code",
   "execution_count": 28,
   "metadata": {},
   "outputs": [],
   "source": [
    "SAMPLE = \"2442204240010034621\""
   ]
  },
  {
   "cell_type": "code",
   "execution_count": 34,
   "metadata": {},
   "outputs": [],
   "source": [
    "from pathlib import Path\n",
    "TEXT = Path(\"/Users/joregan/Playing/kbw2v\")\n",
    "PHONES = Path(\"/Users/joregan/Playing/rd_phonetic\")"
   ]
  },
  {
   "cell_type": "code",
   "execution_count": 35,
   "metadata": {},
   "outputs": [],
   "source": [
    "text = open(TEXT / f\"{SAMPLE}_480p.json\")\n",
    "phones = open(PHONES / f\"{SAMPLE}_480p.json\")"
   ]
  },
  {
   "cell_type": "code",
   "execution_count": 36,
   "metadata": {},
   "outputs": [],
   "source": [
    "import json\n",
    "text_json = json.load(text)\n",
    "phone_json = json.load(phones)"
   ]
  },
  {
   "cell_type": "code",
   "execution_count": 121,
   "metadata": {},
   "outputs": [],
   "source": [
    "class Chunk:\n",
    "    def __init__(self, chunk):\n",
    "        self.text = chunk['text']\n",
    "        self.start = chunk['timestamp'][0]\n",
    "        self.end = chunk['timestamp'][1]\n",
    "    \n",
    "    def __repr__(self) -> str:\n",
    "        return f\"[{self.text} ({self.start}, {self.end})]\"\n",
    "\n",
    "class SimpleMerge(Chunk):\n",
    "    def __init__(self, left: Chunk, right: Chunk):\n",
    "        self.text = left.text\n",
    "        self.phone = right.text\n",
    "        self.start = left.start\n",
    "        self.end = left.end\n",
    "        self.diff_start = left.start - right.start\n",
    "        self.diff_end = left.end - right.end\n",
    "\n",
    "    def exact_length(self):\n",
    "        return self.diff_start == 0 and self.diff_end == 0\n",
    "\n",
    "    def __repr__(self) -> str:\n",
    "        return f\"[{self.text} :: {self.phone} ({self.start}, {self.end})]\"\n",
    "\n",
    "class ComplexMerge(Chunk):\n",
    "    def __init__(self, left, right):\n",
    "        if type(left) == list:\n",
    "            self.left_chunks = left\n",
    "        elif left == None:\n",
    "            self.left_chunks == []\n",
    "        else:\n",
    "            self.left_chunks = [left]\n",
    "        if type(right) == list:\n",
    "            self.right_chunks = right\n",
    "        elif right == None:\n",
    "            self.right_chunks == []\n",
    "        else:\n",
    "            self.right_chunks = [right]\n",
    "\n",
    "        self.start = self.get_start()\n",
    "        self.end = self.get_end()\n",
    "\n",
    "        self.text = \" \".join([x.text for x in self.left_chunks])\n",
    "        self.phone = \" \".join([x.text for x in self.right_chunks])\n",
    "\n",
    "    def get_start(self):\n",
    "        if self.left_chunks == [] and self.right_chunks == []:\n",
    "            return None\n",
    "        if self.left_chunks == []:\n",
    "            return self.right_chunks[0].start\n",
    "        if self.right_chunks == []:\n",
    "            return self.left_chunks[0].start\n",
    "        if self.left_chunks[0].start < self.right_chunks[0].start:\n",
    "            return self.left_chunks[0].start\n",
    "        else:\n",
    "            return self.right_chunks[0].start\n",
    "\n",
    "    def get_end(self):\n",
    "        if self.left_chunks == [] and self.right_chunks == []:\n",
    "            return None\n",
    "        if self.left_chunks == []:\n",
    "            return self.right_chunks[-1].end\n",
    "        if self.right_chunks == []:\n",
    "            return self.left_chunks[-1].end\n",
    "        if self.left_chunks[-1].end > self.right_chunks[-1].end:\n",
    "            return self.left_chunks[-1].end\n",
    "        else:\n",
    "            return self.right_chunks[-1].end\n",
    "\n",
    "    def __repr__(self) -> str:\n",
    "        return f\"[{self.text} :: {self.phone} ({self.start}, {self.end})]\"\n",
    "\n",
    "        "
   ]
  },
  {
   "cell_type": "code",
   "execution_count": 82,
   "metadata": {},
   "outputs": [],
   "source": [
    "text_chunks = []\n",
    "phone_chunks = []\n",
    "for text_chunk in text_json['chunks']:\n",
    "    text_chunks.append(Chunk(text_chunk))\n",
    "\n",
    "for phone_chunk in phone_json['chunks']:\n",
    "    phone_chunks.append(Chunk(phone_chunk))"
   ]
  },
  {
   "cell_type": "code",
   "execution_count": null,
   "metadata": {},
   "outputs": [],
   "source": [
    "tci = 0\n",
    "pci = 0\n",
    "\n",
    "merged = []\n",
    "\n",
    "def idx_safe(tci, pci):\n",
    "    return tci < len(text_chunks) and pci < len(phone_chunks)\n",
    "\n",
    "while idx_safe(tci, pci):\n",
    "    am_start = approx_match(text_chunks[tci].start, phone_chunks[pci].start)\n",
    "    am_end = approx_match(text_chunks[tci].end, phone_chunks[pci].end)\n",
    "    \n",
    "    if am_start and am_end:\n",
    "        merged.append(SimpleMerge(text_chunks[tci], phone_chunks[pci]))\n",
    "    elif am_start:\n",
    "        save_pci = pci\n",
    "        peek = (pci + 1) < len(phone_chunks)\n",
    "        lt_next = peek and (phone_chunks[pci + 1].start < text_chunks[tci].end)\n",
    "        while idx_safe(tci, pci) and not approx_match(text_chunks[tci].start, phone_chunks[pci].start) and lt_next:\n",
    "            pci += 1\n",
    "            print(text_chunks[tci], phone_chunks[pci])\n",
    "        merged.append(ComplexMerge(text_chunks[tci], phone_chunks[save_pci:pci]))\n",
    "    elif am_end:\n",
    "        save_tci = tci\n",
    "        peek = (tci + 1) < len(text_chunks)\n",
    "        lt_next = peek and (text_chunks[tci + 1].start < phone_chunks[pci].end)\n",
    "        while idx_safe(tci, pci) and not approx_match(text_chunks[tci].start, phone_chunks[pci].start) and lt_next:\n",
    "            tci += 1\n",
    "            print(text_chunks[tci], phone_chunks[pci])\n",
    "        merged.append(ComplexMerge(text_chunks[save_tci:tci], phone_chunks[pci]))\n",
    "    else:\n",
    "        print(text_chunks[tci], phone_chunks[pci])\n",
    "    tci += 1\n",
    "    pci += 1\n",
    "print(tci, pci)"
   ]
  },
  {
   "cell_type": "code",
   "execution_count": 123,
   "metadata": {},
   "outputs": [
    {
     "data": {
      "text/plain": [
       "1"
      ]
     },
     "execution_count": 123,
     "metadata": {},
     "output_type": "execute_result"
    }
   ],
   "source": [
    "len(merged)"
   ]
  },
  {
   "cell_type": "code",
   "execution_count": 62,
   "metadata": {},
   "outputs": [],
   "source": [
    "class myfloat(float):\n",
    "    def __eq__(self, other):\n",
    "        return approx_match(self.real, other.real)\n",
    "    def __hash__(self):\n",
    "        return hash(self.real)\n",
    "\n",
    "starts_a = [myfloat(x.start) for x in text_chunks]\n",
    "starts_b = [myfloat(x.start) for x in phone_chunks]"
   ]
  },
  {
   "cell_type": "code",
   "execution_count": 63,
   "metadata": {},
   "outputs": [],
   "source": [
    "from difflib import SequenceMatcher"
   ]
  },
  {
   "cell_type": "code",
   "execution_count": 64,
   "metadata": {},
   "outputs": [],
   "source": [
    "sm = SequenceMatcher(a=starts_a, b=starts_b)"
   ]
  },
  {
   "cell_type": "code",
   "execution_count": null,
   "metadata": {},
   "outputs": [],
   "source": [
    "for op, a_start, a_end, b_start, b_end in sm.get_opcodes():\n",
    "    print(op, a_start, a_end, b_start, b_end)"
   ]
  }
 ],
 "metadata": {
  "kernelspec": {
   "display_name": "hf",
   "language": "python",
   "name": "python3"
  },
  "language_info": {
   "codemirror_mode": {
    "name": "ipython",
    "version": 3
   },
   "file_extension": ".py",
   "mimetype": "text/x-python",
   "name": "python",
   "nbconvert_exporter": "python",
   "pygments_lexer": "ipython3",
   "version": "3.9.15"
  },
  "orig_nbformat": 4
 },
 "nbformat": 4,
 "nbformat_minor": 2
}
