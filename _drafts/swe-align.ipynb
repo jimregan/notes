{
 "cells": [
  {
   "cell_type": "code",
   "execution_count": 177,
   "metadata": {},
   "outputs": [],
   "source": [
    "def approx_match(time_a, time_b, slippage=(0.01 * 6)):\n",
    "    return abs(time_a - time_b) <= slippage"
   ]
  },
  {
   "cell_type": "code",
   "execution_count": 28,
   "metadata": {},
   "outputs": [],
   "source": [
    "SAMPLE = \"2442204240010034621\""
   ]
  },
  {
   "cell_type": "code",
   "execution_count": 34,
   "metadata": {},
   "outputs": [],
   "source": [
    "from pathlib import Path\n",
    "TEXT = Path(\"/Users/joregan/Playing/kbw2v\")\n",
    "PHONES = Path(\"/Users/joregan/Playing/rd_phonetic\")"
   ]
  },
  {
   "cell_type": "code",
   "execution_count": 35,
   "metadata": {},
   "outputs": [],
   "source": [
    "text = open(TEXT / f\"{SAMPLE}_480p.json\")\n",
    "phones = open(PHONES / f\"{SAMPLE}_480p.json\")"
   ]
  },
  {
   "cell_type": "code",
   "execution_count": 36,
   "metadata": {},
   "outputs": [],
   "source": [
    "import json\n",
    "text_json = json.load(text)\n",
    "phone_json = json.load(phones)"
   ]
  },
  {
   "cell_type": "code",
   "execution_count": 121,
   "metadata": {},
   "outputs": [],
   "source": [
    "class Chunk:\n",
    "    def __init__(self, chunk):\n",
    "        self.text = chunk['text']\n",
    "        self.start = chunk['timestamp'][0]\n",
    "        self.end = chunk['timestamp'][1]\n",
    "    \n",
    "    def __repr__(self) -> str:\n",
    "        return f\"[{self.text} ({self.start}, {self.end})]\"\n",
    "\n",
    "class SimpleMerge(Chunk):\n",
    "    def __init__(self, left: Chunk, right: Chunk):\n",
    "        self.text = left.text\n",
    "        self.phone = right.text\n",
    "        self.start = left.start\n",
    "        self.end = left.end\n",
    "        self.diff_start = left.start - right.start\n",
    "        self.diff_end = left.end - right.end\n",
    "\n",
    "    def exact_length(self):\n",
    "        return self.diff_start == 0 and self.diff_end == 0\n",
    "\n",
    "    def __repr__(self) -> str:\n",
    "        return f\"[{self.text} :: {self.phone} ({self.start}, {self.end})]\"\n",
    "\n",
    "class ComplexMerge(Chunk):\n",
    "    def __init__(self, left, right):\n",
    "        if type(left) == list:\n",
    "            self.left_chunks = left\n",
    "        elif left == None:\n",
    "            self.left_chunks == []\n",
    "        else:\n",
    "            self.left_chunks = [left]\n",
    "        if type(right) == list:\n",
    "            self.right_chunks = right\n",
    "        elif right == None:\n",
    "            self.right_chunks == []\n",
    "        else:\n",
    "            self.right_chunks = [right]\n",
    "\n",
    "        self.start = self.get_start()\n",
    "        self.end = self.get_end()\n",
    "\n",
    "        self.text = \" \".join([x.text for x in self.left_chunks])\n",
    "        self.phone = \" \".join([x.text for x in self.right_chunks])\n",
    "\n",
    "    def get_start(self):\n",
    "        if self.left_chunks == [] and self.right_chunks == []:\n",
    "            return None\n",
    "        if self.left_chunks == []:\n",
    "            return self.right_chunks[0].start\n",
    "        if self.right_chunks == []:\n",
    "            return self.left_chunks[0].start\n",
    "        if self.left_chunks[0].start < self.right_chunks[0].start:\n",
    "            return self.left_chunks[0].start\n",
    "        else:\n",
    "            return self.right_chunks[0].start\n",
    "\n",
    "    def get_end(self):\n",
    "        if self.left_chunks == [] and self.right_chunks == []:\n",
    "            return None\n",
    "        if self.left_chunks == []:\n",
    "            return self.right_chunks[-1].end\n",
    "        if self.right_chunks == []:\n",
    "            return self.left_chunks[-1].end\n",
    "        if self.left_chunks[-1].end > self.right_chunks[-1].end:\n",
    "            return self.left_chunks[-1].end\n",
    "        else:\n",
    "            return self.right_chunks[-1].end\n",
    "\n",
    "    def __repr__(self) -> str:\n",
    "        return f\"[{self.text} :: {self.phone} ({self.start}, {self.end})]\"\n",
    "\n",
    "        "
   ]
  },
  {
   "cell_type": "code",
   "execution_count": 82,
   "metadata": {},
   "outputs": [],
   "source": [
    "text_chunks = []\n",
    "phone_chunks = []\n",
    "for text_chunk in text_json['chunks']:\n",
    "    text_chunks.append(Chunk(text_chunk))\n",
    "\n",
    "for phone_chunk in phone_json['chunks']:\n",
    "    phone_chunks.append(Chunk(phone_chunk))"
   ]
  },
  {
   "cell_type": "code",
   "execution_count": 129,
   "metadata": {},
   "outputs": [],
   "source": [
    "class PhoneChunk(Chunk):\n",
    "    def __init__(self, chunk):\n",
    "        self.text = chunk.text\n",
    "        self.start = chunk.start\n",
    "        self.end = chunk.end\n",
    "class WordChunk(Chunk):\n",
    "    def __init__(self, chunk):\n",
    "        self.text = chunk.text\n",
    "        self.start = chunk.start\n",
    "        self.end = chunk.end"
   ]
  },
  {
   "cell_type": "code",
   "execution_count": null,
   "metadata": {},
   "outputs": [],
   "source": [
    "merged = []\n",
    "\n",
    "start = True\n",
    "\n",
    "pci = 0\n",
    "tci = 0\n",
    "\n",
    "iteration = 0\n",
    "\n",
    "while pci < len(phone_chunks) and tci < len(text_chunks):\n",
    "    iteration += 1\n",
    "    print(\"it\", iteration, \"considering\", text_chunks[tci], phone_chunks[pci], tci, pci)\n",
    "\n",
    "    am_start = approx_match(text_chunks[tci].start, phone_chunks[pci].start)\n",
    "    am_end = approx_match(text_chunks[tci].end, phone_chunks[pci].end)\n",
    "\n",
    "    if am_start and am_end:\n",
    "        merged.append(SimpleMerge(text_chunks[tci], phone_chunks[pci]))\n",
    "\n",
    "    elif am_start:\n",
    "        print(\"it\", iteration, tci, pci)\n",
    "        cur_text = [text_chunks[tci]]\n",
    "        cur_phone = [phone_chunks[pci]]\n",
    "        if phone_chunks[pci].end < text_chunks[tci].end:\n",
    "            while not approx_match(text_chunks[tci].end, phone_chunks[pci].end) and phone_chunks[pci].end < text_chunks[tci].end:\n",
    "                pci += 1\n",
    "                if pci >= len(phone_chunks):\n",
    "                    break\n",
    "                cur_phone.append(phone_chunks[pci])\n",
    "            merged.append(ComplexMerge(cur_text, cur_phone))\n",
    "        else:\n",
    "            while not approx_match(text_chunks[tci].end, phone_chunks[pci].end) and text_chunks[tci].end < phone_chunks[pci].end:\n",
    "                tci += 1\n",
    "                if tci >= len(text_chunks):\n",
    "                    break\n",
    "                cur_text.append(text_chunks[tci])\n",
    "            merged.append(ComplexMerge(cur_text, cur_phone))\n",
    "    else:\n",
    "        if phone_chunks[pci].end < text_chunks[tci].start:\n",
    "            merged.append(PhoneChunk(phone_chunks[pci]))\n",
    "        else:\n",
    "            merged.append(WordChunk(text_chunks[tci]))\n",
    "        print(\"else\", text_chunks[tci], phone_chunks[pci])\n",
    "    tci += 1\n",
    "    pci += 1\n"
   ]
  },
  {
   "cell_type": "code",
   "execution_count": 192,
   "metadata": {},
   "outputs": [
    {
     "data": {
      "text/plain": [
       "3072"
      ]
     },
     "execution_count": 192,
     "metadata": {},
     "output_type": "execute_result"
    }
   ],
   "source": [
    "len(merged)"
   ]
  }
 ],
 "metadata": {
  "kernelspec": {
   "display_name": "hf",
   "language": "python",
   "name": "python3"
  },
  "language_info": {
   "codemirror_mode": {
    "name": "ipython",
    "version": 3
   },
   "file_extension": ".py",
   "mimetype": "text/x-python",
   "name": "python",
   "nbconvert_exporter": "python",
   "pygments_lexer": "ipython3",
   "version": "3.9.15"
  },
  "orig_nbformat": 4
 },
 "nbformat": 4,
 "nbformat_minor": 2
}
