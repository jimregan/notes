{
 "cells": [
  {
   "cell_type": "code",
   "execution_count": 26,
   "metadata": {},
   "outputs": [],
   "source": [
    "def approx_match(time_a, time_b, slippage=0.040000000000000036):\n",
    "    return abs(time_a - time_b) <= slippage"
   ]
  },
  {
   "cell_type": "code",
   "execution_count": 28,
   "metadata": {},
   "outputs": [],
   "source": [
    "SAMPLE = \"2442204240010034621\""
   ]
  },
  {
   "cell_type": "code",
   "execution_count": 34,
   "metadata": {},
   "outputs": [],
   "source": [
    "from pathlib import Path\n",
    "TEXT = Path(\"/Users/joregan/Playing/kbw2v\")\n",
    "PHONES = Path(\"/Users/joregan/Playing/rd_phonetic\")"
   ]
  },
  {
   "cell_type": "code",
   "execution_count": 35,
   "metadata": {},
   "outputs": [],
   "source": [
    "text = open(TEXT / f\"{SAMPLE}_480p.json\")\n",
    "phones = open(PHONES / f\"{SAMPLE}_480p.json\")"
   ]
  },
  {
   "cell_type": "code",
   "execution_count": 36,
   "metadata": {},
   "outputs": [],
   "source": [
    "import json\n",
    "text_json = json.load(text)\n",
    "phone_json = json.load(phones)"
   ]
  },
  {
   "cell_type": "code",
   "execution_count": 80,
   "metadata": {},
   "outputs": [],
   "source": [
    "class Chunk:\n",
    "    def __init__(self, chunk):\n",
    "        self.text = chunk['text']\n",
    "        self.start = chunk['timestamp'][0]\n",
    "        self.end = chunk['timestamp'][1]\n",
    "    \n",
    "    def __repr__(self) -> str:\n",
    "        return f\"[{self.text} ({self.start}, {self.end})]\"\n",
    "\n",
    "class SimpleMerge(Chunk):\n",
    "    def __init__(self, left: Chunk, right: Chunk):\n",
    "        self.text = left.text\n",
    "        self.phone = right.text\n",
    "        self.start = left.start\n",
    "        self.end = left.end\n",
    "        self.diff_start = left.start - right.start\n",
    "        self.diff_end = left.end - right.end\n",
    "\n",
    "    def exact_length(self):\n",
    "        return self.diff_start == 0 and self.diff_end == 0\n",
    "\n",
    "    def __repr__(self) -> str:\n",
    "        return f\"[{self.text} :: {self.phone} ({self.start}, {self.end})]\"\n",
    "\n",
    "class ComplexMerge(Chunk):\n",
    "    def __init__(self, left, right):\n",
    "        if type(left) == list:\n",
    "            self.left_chunks = left\n",
    "        elif left == None or left == []:\n",
    "            self.left_chunks == []\n",
    "        else:\n",
    "            self.left_chunks = [left]\n",
    "        if type(right) == list:\n",
    "            self.right_chunks = right\n",
    "        elif right == None or right == []:\n",
    "            self.right_chunks == []\n",
    "        else:\n",
    "            self.right_chunks = [right]\n",
    "\n",
    "        if self.left_chunks[0].start < self.right_chunks[0].start:\n",
    "            self.start = self.left_chunks[0].start\n",
    "        else:\n",
    "            self.start = self.right_chunks[0].start\n",
    "        if self.left_chunks[-1].end > self.right_chunks[-1].end:\n",
    "            self.end = self.left_chunks[-1].end\n",
    "        else:\n",
    "            self.end = self.right_chunks[-1].end\n",
    "\n",
    "        self.text = \" \".join([x.text for x in self.left_chunks])\n",
    "        self.phone = \" \".join([x.text for x in self.right_chunks])\n",
    "\n",
    "    def __repr__(self) -> str:\n",
    "        return f\"[{self.text} :: {self.phone} ({self.start}, {self.end})]\"\n",
    "\n",
    "        "
   ]
  },
  {
   "cell_type": "code",
   "execution_count": 82,
   "metadata": {},
   "outputs": [],
   "source": [
    "text_chunks = []\n",
    "phone_chunks = []\n",
    "for text_chunk in text_json['chunks']:\n",
    "    text_chunks.append(Chunk(text_chunk))\n",
    "\n",
    "for phone_chunk in phone_json['chunks']:\n",
    "    phone_chunks.append(Chunk(phone_chunk))"
   ]
  },
  {
   "cell_type": "code",
   "execution_count": 96,
   "metadata": {},
   "outputs": [],
   "source": [
    "tci = 0\n",
    "pci = 0\n",
    "\n",
    "merged = []\n",
    "\n",
    "def idx_safe(tci, pci):\n",
    "    return tci < len(text_chunks) and pci < len(phone_chunks)\n",
    "\n",
    "while idx_safe(tci, pci):\n",
    "    am_start = approx_match(text_chunks[tci].start, phone_chunks[pci].start)\n",
    "    am_end = approx_match(text_chunks[tci].end, phone_chunks[pci].end)\n",
    "    \n",
    "    if am_start and am_end:\n",
    "        merged.append(SimpleMerge(text_chunks[tci], phone_chunks[pci]))\n",
    "    elif am_start:\n",
    "        save_pci = pci\n",
    "        peek = (pci + 1) < len(phone_chunks)\n",
    "        lt_next = peek and phone_chunks[pci + 1].start < text_chunks[tci].end\n",
    "        while idx_safe(tci, pci) and not approx_match(text_chunks[tci].end, phone_chunks[pci].end) and lt_next:\n",
    "            pci += 1\n",
    "        merged.append(ComplexMerge(text_chunks[tci], phone_chunks[save_pci:pci]))\n",
    "    elif approx_match(text_chunks[tci].end, phone_chunks[pci].end):\n",
    "        save_tci = tci\n",
    "        while idx_safe(tci, pci) and not approx_match(text_chunks[tci].start, phone_chunks[pci].start) and text_chunks[tci].start > phone_chunks[pci].start:\n",
    "            tci += 1\n",
    "        merged.append(ComplexMerge(text_chunks[save_tci:tci], phone_chunks[tci]))\n",
    "    else:\n",
    "        print_pair(text_chunks[tci], phone_chunks[pci])\n",
    "    tci += 1\n",
    "    pci += 1"
   ]
  },
  {
   "cell_type": "code",
   "execution_count": 98,
   "metadata": {},
   "outputs": [
    {
     "data": {
      "text/plain": [
       "[[IX :: iː seks debat meː anleːdnɪŋ ɑːv ɪntepelaɧuːnsvɑːr oː kamarən øːvərɡoːr nʉː tɪl at debateːra stasroːdən svɑːr poː møːtæɳa s ɪntepelaɧuːnər <pa> oː viː stɑːʈa meː arbesmarknas ɔk jemstɛlheːts mɪnɪstər eːva nuːɖmark sʊsjɑːldemɔkrɑːtæɳa s <hes> svɑːr poː ɪntepelaɧuːn tvoː hɵndra niːe <sm> ɑːv roːɡər hadad lɪbərɑːləɳa arbeːtsfœ̞meːdlɪɡəns tɪl<v>jeŋlɪɡheːt ɔk viː bœ̞rja meː mɪnɪstən vɑːʂoːuːɡuːd tak frʉː tɑːlman roːɡər hadad hɑːr froːɡat mej ɔm deː fɪns noːra kɔŋkreːta moːl ɵpsata fœ̞ː tɪljeŋlɪheːtən tɪl<v> arbesfœ̞meːdlɪŋən sɔm rɪjrɪŋən fœljər ɵp viːdarə hɑː n froːɡat <pa>vɑː jɑː anseːr æːr en rɪmlɪ nɪvoː fœ̞ːr hʉː snapt maŋ kaŋ kɵna kɔma iː kɔntakt meː en arbesfmeːdlarə <pa> samt foː en oːtekɔplɪŋ <sm><pa> ɧenærelt<v> <hes> set slʉːtlɪən hɑːr an froːɡat vɪlka oːtjæːɖə rɪeːrɪŋən ɑːv seː at viːtɑː fœ̞ːr at fœ̞ betra tɪljeŋlɪheːtən fœ̞ːr ɪnskriːvna hʊs arbesfmeːdlɪŋən ɧenerelt <pa> men ɪntə mɪnst fœ̞ːr pæʂuːnər meːd fɵŋkɧʊsnesɛtnɪŋ rɪjeːrɪŋən ɑː vɑːrɪt tyːdlɪ meː at <pa> arbesmaknaspʊlɪtiːkən skɑː fɵŋɡeːra iː heːla landət uːav set vɑːr iː landət en arbesøːkandə buːr skɑː maŋ kɵna foː et enda mɔseːnlɪt støːd sɔm et resɵltɑːt ɑːvet ɵpdrɑːɡ iː arbesfmeːlɪŋəns reɡleːrɪŋsbreːv fœ̞ːr ɕʉːɡʊ ɕʉːɡʊ soː ɧʉːʏsteːradə mʏndɪheːtən sɪm plɑːn fr et nʏt kɔntuːʂnɛːt ɔk <pa> oːtər etableːradə eːɡna arbesfmeːdlɪŋs kɔntuːr poː fleːra ʊʈər <pa> des ʉːtɔm sɛːkradəs poː mɔŋa hɔl mʏndɪheːtəns lʊkɑːla næːrvɑːrʊ jeːnɔm øːvərenskɔməlsər meː andra aktœ̞ːrər frem <hes> ɔfta kɔmʉːnər arbeːtət fœ̞ː at sɛːkəʂtɛla endamɔseːnlɪ lʊkɑːl næːrvɑːrʊ be høːvə fuːʈʂɛta <pa>dæːrfœ̞r vɑː et ɑːv moːlən iː arbesmeːdlɪŋs reɡleːrɪŋsbreːv fœ̞ː ɕʉːɡʊ ɕʉː et at mʏndɪheːtən skɑː skɑːpa vɛːl fɵŋɡeːrande kɔntaktvɛːɡar <pa> fœ̞ː varje kɔmʉːn ɔk at ɪnskriːvna arbesøːkandə skɑː hɑː mœjlɪheːt tɪ pæʂuːlɪɡa møːtən <pa>des ʉːtɔm ɡɑːv rɪjeːrɪŋən arbesfmeːlɪŋən iː ɵptrɑːɡ at seːnas den femtɔndə jʉːnɪ respektiːvə den fɵʂʈa ɔk tuːbər ɕʉːɡʊ ɕʉː et lemna en reːdʊviːsnɪŋ ɑːv hʉːr mʏndɪheːtən sɛːkəʂtɛlər en endamɔnseːnlɪ oː vɛːl fɵŋɡeːrandə lʊkɑːl næːrvɑːrʊ tɪljeŋlɪheːtən ɑːvseːnde kɔntaktər oː møːtən meː mʏndɪheːtən oː hʉːr en liːkvæɖɪ sœ̞rvɪs sɛːkəʂtɛls iː heːla landət ɛːvən iː kɔmʉːnər <pa> dæːr arbesfmeːlɪŋən sɑːknar eːɡna kɔntuːr <pa> tɪl eksempəl jeːnɔm deːltɑːɡandə viː stɑːtlɪa sœ̞rvɪskɔntuːr <ha> arbesfmeːlɪŋən ɪŋkɔm den fœ̞ʂʈa ɔktuːbər meː en slʉːtreːdʊviːsnɪŋ ɑːv ɕʉːɡʊ ɕʉː et oːʂ reɡleːrɪŋsɵp<gcl>rɑːɡs <hes> breːvsɵpdrɑːɡ jɛlandə liːkvæɖɪ sœ̞rvɪs iː heːla landət <pa> iː slʉːtreːdʊviːsnɪŋən framɡoːr ɖe at arbeːsfmeːlɪŋən nʉː hɑːr ʉːtsɛda kɔntakt pæʂuːnər fœ̞ːr samtlɪɡa tfvoːɵndra nɪtɪ kɔmʉːnər <pa> at man viː behuːv kɔmər at kɵna eːrbjʉːda fœ̞ːrbuːkade fyːsɪska møːtən fœ̞ːr arbesøːkandə iː heːla landət <pa> jeːnɔm en fyːsɪsk næːrvɑːrʊ iː tvoːɵndra elva kɔmʉːnər <pa> at man hɑː kɵntɔrsamværkan poː ɧ ethɵndra fyːra sœ̞rvɪskɔntuːr iː landət <pa> sɔm eːrbjʉːdər almen sœ̞rvɪs fœ̞ːr arbesfmeːlɪŋəns kɵndər <pa> samt at mam planeːrar ɪnfœ̞ːrandə ɑːv kɵntɔrsamværkam poː ʏtælɪɡarə sœ̞ːrvɪskɔntuːr kɔmande oːr eː lɪt oːrəts reɡleːrɪŋsbreːv skɑː arbesfmeːlɪŋən iː jɛmfœ̞ːrəsə meː sɪtɵaɧuːnən iː slʉːtət ɑːv ɕʉːɡʊ ɕʉː et <pa>øːka deŋ kɔntɪnɵeːlɪa fyːsɪska næːrvɑːrʊn sɔm ɧeːr iː eːɡən eɧiː <pa> jeːnɔm sœ̞ːrvɪskɔntuːr <pa> elə jeːnɔm samværkan meː kɔmʉːnæɳa <pa> mœjlɪheːtæɳa fœ̞ːr arbetsøːkandə at viː behuːv buːka fyːsɪska møːtən meːd mʏndɪheːtəns pæʂʊnɑːl skɑː øːka rɪrɪŋəm be dœmər at deː arbeːtə sɔm poːɡoːr oː dɔm oːtjæːɖə ʂɔm viːtɑːɡɪt samantɑːɡət skɑːpar ɡuːda fœ̞ːrtsɛtnɪŋar frat ɵndeleta oː fœ̞betra eːnʂɪlda s kɔntaktər meː arbesfmeːdlɪŋən <pa> iː soː vɛːl dɪɡɪtɑːla sɔm ɪkə dɪɡɪtɑːla kanɑːlər <pa>rɪeːrɪŋən fœljə kɔntɪnʉːeːlɪt ʉːtveklɪŋəm poː ɔmroːdət fœ̞ː at sɛːkəʂtɛla at arbesløːsa foːr et endamɔs eːnlɪt støːd tak fr tɑːlman tak soː mʏkə roːɡər hadad lɪbərɑːləna vɑːʂuːɡuːd tak frʉː tɑːlman ɔk tak stadsroːdət fœ̞ːr svɑːrət poː mɪn<v> ɪntepelaɧuːn sɔm jɑː ɪjentlɪɡən <pa> <hes> lɛmnadə ɪn iː hœstas me poː ɡrɵnd ɑːv <pa> <hes> rejeːrɪŋsfroːɡan soː hɑː viː ɧʉːtɪt poː den ɔkə ɧɛlvklɑː ʂoː nʊteːra jɑː ɔksɔ at <pa> noːra ɑːv dɔm sɑːkə ʂɔm lɪberɑːlɳa lʏftər ɵp krɪŋ tɪljeŋlɪheːtən <pa> deːlviːs hɑːr be aktats iː reɡleːrɪŋsbreːvət fœ̞ːr ɪnevɑːrande oːr vɪkət eː vɛːlkɔmət <pa> men <pa> deː endoː meː besviːkəlsə sɔm jɑː tɑː ɖeːl ɑːv rejeːrɪŋən s svɑːr elər ɪkəe svɑːr poː miːna froːɡoːr fœ̞ːr at jɑːɡ <pa> fœ̞ljə jœ̞ː ɧɛlklɑːʈ ɵp arbesfœ̞meːlɪŋəns tɪljeŋlɪeːt ɧenerelt oː bret <pa>oː deː jɛlər ɪntə bɑːra den fyːsɪska næːrvɑːrʊn meː <pa> lʊkɑːlər elə kɵndtɔrj ʉːtan ɛːvən den dɪɡɪtɑːla ɔk deː en vɪktɪ deːl <pa> <hes> fœ̞ː tɑːman eftəʂɔm <pa> boːde reeːjeːrɪŋən ɔk arbesfœ̞meːlɪŋən sɔm deːl ɑːv deː nyːa kɔnseptət iːhæːɖɪt ɔk eːnviːs sɛjər at <pa> viː skɑː ɡoː øːvər tɪl en dɪɡɪtalɪseːrad mʏndɪheːt oː <pa> deː loːtə brɑː men doː mɔstə de ɔksɔ fɵŋɡeːra oː jɑː hɑː lɛːst rapɔʈ eftə rapɔʈ <pa> krɪtiːk poː krɪtiːk froːn tɪleksɛmpəl deːhoː æːr <pa> froːn fɵŋɧuːsrɛt sværjə <pa> froːn andra aktœ̞ːrər mʏndɪheːtən fœ̞ː ɖɪɡɪtɑːl fœ̞valtnɪŋ dɪɡ sɔm ɔksɔ hɑːr krɪtɪseːrat arbesfœ̞meːlɪŋəns brɪstandə tɪljeŋlɪheːt <pa> næːr ejelər pʊʈɑːlən ɔk den dɪɡɪtɑːla sœ̞rvɪsən oː deː kɔmenteːras ɪntə <pa> øːvər hʉːvetɑːɡət frʉːtɑːr man iː mɪt ɪntepɵlaɧʊuːnsvɑːr oː jɑː vɪl jæːɳa <pa> hœ̞ːra hʉːr stɑːdsroːdət seːr poː deŋ krɪtiːkən <sm> fœ̞ː at <pa> ɔm man ɪnjʉːtər <hes> den ɪnfɔmaɧuːnən tɪl almenheːtən oː ɪnte mɪns dɔm hɵndra tʉːsəntɑːls arbeːtsøːkandə at nʉː hɑː vɪnteə lɛŋrə sama lʊkɑːla fyːsɪska næːrvɑːrʊ <hes> jɑː beklɑːɡar at deː poː fleːra hɔl <hes> iː landət hɑːr liːvɪt fsemrə <pa> <hes> jɑː ɪfroːɡasetər ɔksɔ dɔm sɪfrʊr ʂɔm reːdʊviːsas iː de hæːr ɪnteplaɧuːnsvɑːrət <pa> iː na jɑː jemfœ̞ːr svɑːrət froːn reːjeːrɪŋən ɔ den rapɔʈ sɔm arbesfœ̞meːlɪŋən faktɪst lɛmnadə fœ̞ːre jʉːl <pa> krɪŋ soːkalad loːkɑːl <pa>næːrvɑːrʊ dæːr dæːr <v> dem bemanadə antɑːlət bemanade kɔntuːr <pa> ɧɪljə ʂej <hes> oːt en deː sɔm stoːr iː de hæːr entepɔlaɧʊuːsvɑːrət <pa> arbesfœ̞ːmeːdlɪən <pa> mɔste fɵŋɡeːra iː heːla landət viː hɑːr en høːɡ arbesløːseːt <pa> viː hɑːr e rekoːɖhøːɡ lɔŋtiːs arbesløːsheːt <pa> d sɔm nærma sej tvoː hɵndra tʉːsən pæʂuːnər <pa> ɔk dɔm sɔm drabas mest æːr ʉːtriːkəsfœ̞da pæʂuːnə meː lɛːɡrə ʉːtbɪlnɪŋ pæʂuːnə sɔm æː øːvər femtɪfem oːr <pa> ɔk pæʂuːnər meːd fɵŋɧuːnsneːdsetnɪŋ ɔk dæːrfœ̞ːr hade jɑː ɔksɔ frɵtɑː man en sæːʂɪld pɵŋt iː mɪn ɪntepælaɧuːn ɔm <pa> hʉːr ʂkɑː reeːjeːrɪŋən nʉː fœ̞betra støːdət tɪl dɔm lɔŋtiːs arbesløːsa <pa> hʉː sʂkɑː støːdət bliː betrə fœ̞ːr pæʂuːnər meː fɵŋɧuːsneːsɛtnɪ sɔm kaʂə behøːvər <pa> en ekstra hand sɔm behøːvər <hes> muːmuːtɑːs poː et kɔntuːr <pa> elər at man amvɛndər <hes> nyːtekniːk <pa> <hes> fœ̞ːr at <hes> kɵna bemøːta dɔm ɔk tɑː emuː dɔm sɔm ɪnte kan tɑː sej tɪl <pa> <hes> arbesfœ̞meːdlɪskɔntuːr <hes> sɔm hɑːr lɔŋa ɑːvstɔnd ɔk den deːlən kɔnstateːra jɑː at deː kɔmenteːras ɪntə øːvər hʉːvetɑːɡət iː ɪntepelaɧuːsvɑːrə s at mɪn fœ̞rhɔpnɪŋ froː tɑːlman æːr at rɪjeːrɪŋən nʉː <pa> <hes> fœ̞ɕøːkə fœ̞ʈyːdlɪɡa <pa> iː kɔmande ɪnlɛɡ tak tak soː mʏkə arbesmarknad oː jemstɛlheːsmɪnɪstər eːva nuːɖmark sʊsjɑːl dmɔkrɑːtæɳa vɑːʂuːɡʊd tak fœ̞ː tɑːman ɔk tak roːɡər hadad jɑː vɪl ɔksɔ <hes> vækleːn vɛːlkɔmna den hæː vɪ vɪktɪa ɪnteplaɧuːnən jɑː kaŋ kɔnstateːra deː roːdər stuːr samsyːn<v> <pa> <hes> melan ɔs iːɡrɵndən <pa> <hes> deː fleːra vɪktɪa kɔmentɑːrər sɔm jʉː leːdamuːtən <pa>sm jɑː vækleːn vɪl<v> ɵndeʂtryːka ɪntə mɪns dæː hæː meː vɪktən ɑːvat<gcl>eː skɑː fɵnɡeːra oː fɵŋɡeːra betrə iːheːla landə t at menɪɧʊ ʂɔm stoːr lɔŋtfroːn mar arbesmaknan <pa> vækleːn foːr ɖeː støːd sɔm dɔm behøːvər <pa> ɔk<hes> <sm> <hes> næː ɖeːjɛlər<v> <pa> <hes> den dɪɡɪtɑːla sœ̞rvɪsənɳ oː den dɪɡɪtɑːla næːrvɑːrʊn soː vɪl jɑː sejat jɑː seːr at arbesfmeːlɪŋən <pa> ɵndə dɔm seːnast oːrən hɑː jʊʈet fantastɪst arbeːtə meːd at at <hes> dɪɡɪtalɪseːra sɪn sœ̞rvɪs deː eː jʉː mɔŋa sɔm bliːr arbesløːsa sɔm dɔm klɑːraʂej lɔŋt jɵs poː dɔm dɪɡɪtɑːla værktyːɡən oː dɔm dɪɡɪtɑːla kanaɑːləɳa <pa> men jɑː seːr presiː sɔm<v> leːdamuːtən lʏftər hæːr at meːr bøːvə jœ̞ːras ɔkə <pa> ʉːtveklɪŋəm be høːvər fœ̞ʂʈɔs<v>øː fuːʈʂɛta næː dejɛlər <pa> dɔm dɪɡɪtɑːla ɕɛnstæɳa me frʉː tɑːl ma jɑː vɪl ɵndeʂʈryːka at viː veːt a <gcl>eː fɪns mɔŋa menɪɧʊr oː mɔŋa tyːpər ɑːv froːɡʊr fœ̞ː vɪlka dɔm dɪɡɪtɑːla ɕɛnstæɳa ɪntə rɛkə tɪl <pa> mœjlɪheːtən at hɑː en fyːsɪsk plats at ɡoː tɪl <pa> ɔk ɔksɔ en anan menɪʂa <pa> at prɑːta meː deː æːr uːərhœ̞ːʈ vɪktɪt oː rɪjeːrɪŋən hɑː vɑːrt tyːlɪ meː at oːset vɑːr iː landət mam buː ʂoː skɑː maŋ kɵna foː støːd iː sɪt arbetsøːkandə ɔm mam behøːvər ɖeː <pa>ma skɑː kɵna buːka et møːtə meː arbesfmeːlɪŋən ɪnɔm et r rɪmlɪt reːs ɑːvstɔnd ɔm deː behøːvs oː sɔm jɑː nemdə tiːdɪɡarə iː oːrəs reɡleːrɪŋsbreːv soː hɑːr vɪ ɔksɔ fœ̞ʈyːdlɪɡat behuːvət ɑːv den fyːsɪska næːrvɑːrʊn <pa>arbesfmeːlɪŋən skɑː altsɔ iː jɛmfœ̞ːrsə meː sɪtɵaɧuːnən iː slʉːtət poː ɕʉːɡʊ ɕ et as ɔ vɪiː jɛmf ɖesembə ɕʉːɡʊ ɕʉː et soː skɑː arbesfœ̞ːmeːlɪŋən <pa> ɵndə ɖe hæːr oːrət hɑː øːkat <gcl>en kɔntɪnʉːeːlɪa fyːsɪska næːrvɑːrʊn sɔm ɧeːr iː eːɡən reʂiː <pa> jeːnɔm sœ̞ːrvɪskɔntuːr elə jeːnɔm samværkan meː kɔmʉːnəæɳa <pa> <gcl>æː fat deː hæːr behœvs ɔksɔ frat kɵna frɛmja lʊkɑːla prʊʂekt iː samværkan <pa>oː ɪntə mɪnst æː eː jʉː ɔfta <pa> <hes> jɵs fœ̞ː ɖɔm lɔŋtiːds arbesløːsa pæʂuːnə meː fɵŋkɧuːsneːsetnɪŋ sɔ mam behøːvər <pa> samværka melan arbesfœ̞meːdlɪŋən ɔk kɔmʉːnæɳa sa tdeː hæːr ɔks en <pa> en vɪktɪ deːl fr at kɵna fremja lʊkɑːla <pa> ɔk ɔksɔ reɡjʊnaɑːla prʊʂekt iː samværkan rɪjeːrɪŋə ɪl ɔksat arbesfmeːlɪŋəŋ kan sɛːkəʂtɛla a tɔm hɑːr eŋ ɡuːd kɵnskɑːp ɔm den <pa> lʊkɑːla oː reɡʊnɑːla arbetsmarknadən f ɖeː seːr ɔksoː uːliːka ʉːt rɵnt ɔm iː voːʈ ɑːvlɔŋa land ɔk ma mɔst ɔksɔ kɵna hɑː e endamɔseːlɪa arbetsjiːvar kɔntaktər <sm> <pa> deː viː jœ̞ː ɳʉː <hes> fœ̞ːr ɪ oːr deː æːr at viː tɪlfœ̞ːr ʏtelɪɡarə fœ̞rvaltnɪŋs <hes> resɵʂər <pa> fœ̞ː ɕʉːtvoː doː sɔm sakt ɔk deː hæːr hala ɔm at sɛːkəʂtɛla <pa> boːde at arbesfmeːlɪŋəŋ kan ʉːtfœ̞ːra sɪt<v> ɵpdrɑːɡ poː et endamɔseːnlɪt set <pa> eː ɪntə mɪnst vɑː jɛlə pæʂuːnə meː fɵŋkʂuːsnesɛtnɪŋ vɪkət viː hɑːr <hes> tyːdlɪjʊʈ ɔk <pa> <hes> sɔm ɔksɔ roːɡər hadad mʏkə rɪktɪt poː poːpeːkar hʉː vɪktɪt <gcl>e hæːr æːr <pa> <hes> pʂuːnə ɖoː sɔm hɑːr en fɵŋɧʊsneeːsetnɪŋ sɔm m meːdfœ̞ːr neːdsat arbsfœ̞moːɡa oː deː ɪnəbæːr at viː nʉː fœ̞ʂʈærkər <pa> arbesfmeːlɪŋəns <hes> <pa> fœ̞ː valnɪŋsresɵʂə meː samantɑːɡət fyːraɵndra ɧɵtɪ mɪlɪjuːnər kruːnər ɕʉːɡʊ ɕʉːtvoː <pa> <pa> viː fʊʈʂɛtəjɵ ɔksɔ ʉːtøːvə ɖeː sɔm lɪɡə ʂat seja iː<v> <pa> iː iː mɪn pɔʈfœlj sɔm arbesmarknasmɪnɪstə ʂoː fʊʈʂɛtə viːjɵ ɔksɔ ʉːbʏɡnadən ʉːtɑːv kɵnskɑːpslʏftət <pa> deː hæːr eː vɪktɪt viː veːt at mɔŋa ɑːv dɔm sɔm æː lɔŋtiːds arbesløːsa <pa> dɔm sɑːknar ɡrɵndlɛɡande kɵnskɑːp sɔm behœfs poː svɛnsk arbesmarknad ɪdɑː <pa> e en jʉːmnɑːsʉːtbɪlnɪŋ brʉːkajɑː sɛja deː eː ɧelva <pa> aŋtreːbɪljetən tɪl den svɛnska arbesmarknadən men viː fʊʈʂɛtər ɔks at ʉːtvekla nyːa værktyːɡ oː et sɔnt sɔm <pa> sɔm jɑː vɪl <pa> lʏfta fram hæːr sɔm jɑː ɔksɔ lɪberɑːlæɳa hɑː vaʈ hœkst deːlaktɪa iː deː at viː ɵndər fœ̞ra oːrət <pa> ɪnfœ̞ːɖe noːɡɔt sm heːtər ɪntensiːvoːrɖ <pa> e sɔm viː hɑː samarbeːtat ɪkrɪŋ oː sɔm ɔksɔ æːr en veldɪt vɪktɪ <pa> deːl fœ̞ːr at foː ɪn fleːr nyːanlenda ɪnt mɪnst iː arbeːtə men iː oːr soː kɔmə v ɔksɔ poː plats meːd <pa> deː vɪ kalar etableːrɪŋsjɔbən <pa> soː mʏkə meːr kɔmər at jœ̞ːra s frɵ tɑːlma tak tak soː mʏkə roːɡər hadad lɪbərɑːləɳa vɑːʂʊɡuːd tak frʉː tɑːlman jɑːɡ <pa> kɔnstateːrar at rɪjeːrɪən ɪnte hɑːr lʏkats næːr e jɛlər arbesfœ̞meːdlɪən ɔk <pa> næː jɑː kɔm tɪbɑːka hæː fœ̞ː noːra moːnadəʂən tɪl arbesmarknas pʊlɪtiːkən <pa> soː bleːv jɑː ɧɔkad øːvər at deː vɑː soː mʏkə brɪstər ɪnɔm arbesfœ̞meːlɪən ɔk arbesmarknas pʊlɪtiːkən <pa> oː deː hæːr ɪnte noːra nektoːdər froːn nɔm peːfyːrakanɑːl dæː viː <pa> nestan dɑːɡlɪɡən foː hœ̞ːra <pa> hʉː lɔŋt menɪɧʊr ʂkɑː tɑː sej tɪ nærmaste arbesfmeːdlɪŋ <pa> elə ɖæːr fɵŋɧuːnshɪnderœ̞ːrəsən krɪtɪseːrar kɔmpetensən oː fœ̞moːɡan oː bereːdskɑːpən at tɑː ɪmuːt mes sæːʂɪlda <pa> kɔnsɵlentər oː hanlɛɡarə poː arbesfmeːlɪŋə deː fɪns en stuːr uːrʊ ʉːtan dehæːr hɑː jʉː kɔnstateːras ɑːv rɪksrevɪɧuːnsværkət mʏndɪheːtə fœ̞ː dɪɡɪtɑːl fœ̞valnɪŋ <pa> ɪnstɪ ɪnspekɧuːnə fœ̞ːr arbeːsmarknasfœ̞ʂɛːkrɪŋən <pa> deː eː fleːra <pa> aktœ̞ːrər fœ̞ tɑːlman sɔm ɵndeərɕɛnər den hæːr ʉːtveklɪŋən <pa> ɪnɔm arbesmarknas pʊlɪtiːkən oː de hæːrhanla ɪnte ɔm <pa> uːlɪka prʊɡram ʉːtan tɪljeŋlɪheːtən rɪksrevɪʂuːnəŋ krɪtɪseːradə fœ̞ː snɑːʈ et oːʂən tɪljeŋlɪeːtən iː den meːnɪŋ kɔntaktən hʉːr ɭɔŋt deː tɑːr at kɔma fram <pa>øːvər hʉːvetɑːɡət <pa> tɪl en arbesfœ̞meːdlar ɔk <pa> øːvərhʉːvetɑːɡət foː en oːtəkɔplɪŋ <pa> iː stadsroːdət svɑːr stoːr at <pa> <hes> tvoː hɵndra elva kɔmʉːɳər kɔmər hɑː fyːsɪsk næːrvɑːrʊ froːn arbesfœ̞meːdlɪŋən men iː deːras eːɡən reːdʊviːsnɪŋ soː stoːr at hɵndra tɔlv <pa> arbeːsfœ̞meːdlɪŋskɔntuːr iː hɵndra seks ɑːv landəts oːndra nɪtɪ kɔmʉːnər <pa> men dæːr ɔtɪ ɔta <pa> kɔntuːr æːr bemanadə sat mam foː vɑː uːæhœ̞ːʈ nuːɡa fœ̞ː tɑːlman <pa> vɪlka fœ̞rventnɪŋar <pa> man jeːr <pa> sɔm pʊliːtɪkər ansvɑːr iː statsroː tɪl almenheːtən sɑːa dɔm ɪte truːr ɳʉː <pa> at viː <pa> <hes> poː øːvə ʈvoː hɵndra stɛlən iː landət kaŋ ɡoː neː ʈɪ tɔrjət <pa>elə rɪŋa neː tɪ lʊkɑːla arbesarbesfœ̞meːdlɪŋskɔntuːrət <sm> ɔk jɑːɡ sɛjər ɔksɔ <pa> froː lɪberɑːlɳa <pa> at jɑː dɪɡɪtɑːla <hes> ɕɛnstər æː uːærhœ̞ːʈ vɪktɪɡa me doː mɔsteə dɔm fɵŋɡeːra <pa> oː dɔm sɔm drabas mest næː ɖeː ɪntə fɵŋɡeːrar deː eː jɵs dɔm lɔŋtiːs arbesløːsa <pa> dɔm sɔm arbesfœ̞meːdlɪŋən oː heːla arbesmarknaspɔlɪtiːkən jentlɪɡən <pa> fremst skɑː rɪkta sɪn fuː sɪt fuːkɵs sɪn eneɧiː sɪna resɵʂər poː <pa>ɔk deː deː fɪns fleːra rapɔʈə fr ʏtɑːm sɔm sɛjər at antɪŋən soː kan man ɪntə elə soː vɪl man ɪnte tɑː deːl ɑːv <pa> dɪɡɪtɑːla <pa> <hes> ɕɛnstər jɑː doː mɔs<gcl>e stɑːtən ʏtəʂ jeːnɔm arbesfœ̞meːdlɪŋən antɪŋən meː eːɡ iː eːɡə reɧiː <pa> elər iː samaværkas ɑːvtɑːl meː kɔmʉːɳæɳa sɛːkra <pa> den sœ̞ːœ̞rvɪsən oː jɑː kɔnstateːrar <pa> at deː fɵŋɡeːrarɪntə oː jɑː deːlar ɪntə <pa> rɪjeːrɪŋəns <hes> slʉːtsats hæːr at deː ɡoːr oːt rethɔl deːe ɡoːr j oːt feːl hɔl <pa> fœ̞ːrat antɪŋən skɑː man hɑː lʊkɑːl bemanɪŋ meː arbesfmeːdlɪən <pa> elə soː skɑː man hɑː et altæɳatiːv <pa> sɔm fɵŋɡeːrar oː deː hæːr jɑː vɪl krɪtɪseːra den hæː snaba liːtə hatandə refɔrmeːrɪŋ ɑːv arbesfœ̞meːlɪŋə sɔm jɑː liːkt ala andra meːdbɔrjarə hɑː tɑːɡɪt deːl ɑːv ʉːtɪfrɔn ɪna jɑː kɔm tɪbɑːks tɪ arbesmarknasplɪtiːkən <pa> dæː man eːna dɑː s dɑːɡən stɛŋə neːr kɔntuːr oː sen œpna maŋ kɔntuːr oː sen hɛːviːsa man tɪl dɪɡɪtɑːla ɕɛnstər me soː fɪns de en moːlɡrɵp sɔm viː mɔste noː sɔm viː ɪntə noːr oː doː mɔste viː jœ̞ːra meːr oː deː ɡoːr ɪntə sɔm reːɪjeːrɪŋən jœ̞ːr iː iː reɡleːrɪŋsbreːvət <pa> at man ɧʉːtər poː de hæː ɖd meː dɪɡɪtɑːla ɕɛnstər at dɔm foːr <pa> ʏtælɪɡarə et oːr poː sej at sɛːkra dɔm dɪɡɪtɑːla <pa> veplatsæɳa oː ɕɛnstæɳa <pa> <pa> <hes> ɪnɔm arvsfœ̞ːmeːlɪŋən deː arbeːtət skɵlə hɑː jʊʈʂ fœ̞ː leŋe sen tak fœ̞ːr uːɖət tak soː mʏkə arbesmarknad oː jemstɛlheːsmɪnɪstər eːva nuːɖmark ssjɑːldmkrɑːtæɳa vɑːʂoːɡuːd tak fœ̞ːr tɑːlman jɑː men deː roːdə jʉː ɪŋən tveːkan ɔm<v> hʉːr<v> vɪktɪt <gcl>e æːr at arbesmaknaspʊlɪtiːkən fuːʈʂɛtə at ʉːtveklas ɔk at arbesfœ̞meːdlɪŋən kan levəreːra betrə resɵltɑːt jɔba meːr efəktiːf boːde meː at seːtɪl <pa>at tɪɡuːdʊseː arbesiːvaɳas behuːv ɑːv at anstɛla men ɔks at jeː støːd tɪ pæʂuːnə sɔm stoːr <pa> lɔŋt froːn arbesmarknadən <sm> oː ʉːtkoː ɪfroːn dɔm behʊuːv sɔm menɪɧʊr hɑːr <pa> ɑːvat kɵna foː støːd fr at tɑː sej <pa> nærmrə iː arbeːtə oː deː hæːr eː ɔksɔ nɔntɪŋ sɔm<v> viː skɵlə b <hes> sɔm jɑː jæːɳa skɵlə dɪskɵteːra enʉː meːr meː lɪberɑːləɳa fœ̞ ɳʉː æː deː mest <pa> fuːkɵs poː sa sea deː ɔrɡanɪsatuːrɪska <pa><hes> ɔk jɑː seːr jʉː at vɪktən ɑːv at viː hɑːr en arbesmaknaspʊltiːk sɔm eː trefsɛːkər <pa> sɔm tɪ ɡuːdʊseːr behuːvən hʊs arbesiːvaɳa oː samtiːt jeːr støːd tɪ menɪɧʊr ʂɔm eː arbesløːsa d ʉː deː sɔm æː ɧelva ɡrɵndən oː jɑː vɪl endoː poːmɪna leːda mʊtən ɔm <pa> at viː nyːlɪɡən hɑː ɡɔt ɪjeːnɔm <pa> den mest alvɑːlɪa kriːsən poː svɛnsk arbesmaknad iː mʊdæːn tiːd <pa> deː hɑː vaʈ et ʊtruːlɪt <hes> d ʊtruːlɪt tɵfa oːr <pa> dæːr arbeːsfmeːlɪŋən klɑːrat sɪt ɵpdrɑːɡ poː et endoː ɡalant set jiːvət fœ̞ːrɵtsɛtnɪŋaɳa jɑː eː værklɪən ɪntə nœjd<v> oː meːr be hvə jœ̞ːras viː bøːvər øːka tɪljɛŋlɪheːtən viː bøːvə seːtɪl at menɪɧʊr iː heːla landət kan foː deː støːd <pa> dɔm behøːvər <pa> at<gcl>eː skɑː ɡoː snabarə oː eŋklarə at kɔma k t kɔntakt meː arbesfmeːdlɪŋən <pa> at ɔksɔ arbetsiːvaɳa skɑː foː et betrə oː meːr endamɔʊseːnlɪt støːd mejɑː vɪl ɔksɔ poːmɪna leːdamuːʊtən ɔmat <gcl>eː æːr arbesfmeːlɪŋən sɔm ansvɑːra fœ̞ːr hʉː ɔrɡanɪsaʂuːnən seːrʉːt oː hʉː mʏndɪheːtən ɔksɔ <hes> ʉːtfœ̞ː ʂɪt ɵpdrɑːɡ iː eːnlɪheːt meː den ɪnstrɵkɧuːn <pa> sɔm<v> <hes> mɪndɪheːtən hɑːr <pa> jɑː vɪl poːtɑːla at rɪrɪŋəns arbeːtə hɑːr jʊʈ ɧɪlnad oː den styːɳɪŋ viː hɑːr hɑːr jʊʈ ɧɪlnad <pa>boːde ɵndə ɕʉːɡʊ ɕʉːɡʊ ɔk ɕʉːɡʊ ɕʉː et soː hɑːr arbesfmeːlnɪŋən rapɔʈeːrat ɔm arbeːtət <pa> meː lʊkɑːl næːrvɑːrʊ oː liːkvæɖɪ sœ̞ːrvɪs <pa> ʉːtɪfrɔn dɔm ɵptrɑːɡ sɔm rɪjeːrɪŋən hɑː jet iː<v> <hes> uːlɪka reɡleːrɪŋsbreːv oː meː liːkvæːɖɪ sɵrvɪs doː meːnasjʉː at ala deːltɑːɡarə skɑː foː et støːd sɔm svɑːra muːt ɪndɪviːdəns behʊuːv elə den eːnʂɪldə arbesiːvarəns behʊuːv ɔk vɑː sɔm æːr arbesmaknaspʊliːtɪst muːtɪveːrat oː de hæː kan ɵpnoːs poː uːlɪka set beruːndə poː tɪleksempəl l lʊkɑːla elə reɡjʊnɑːla fœ̞ːrɵtsɛtnɪŋar poː mɔŋa hɔl soː fɵŋɡeːra ɖeː brɑː jɑːhɑː jʉː en<v> løːpande kɔntakt meː landəts kɔmʉːnər fœ̞ʂʈɔs fœ̞ːrat ɔksɔ fœlja ɵp hʉː ɖɔm seːr poː deta oː jɑː kan kɔnsateːrat <pa> mɔŋa kɔmʉːnə ɖɔm vɪtnar fœ̞ː mej ɔm at <pa> dɔm hɑːr et jiːvandə samarbeːtə me arbesfmeːdlɪŋən <pa> kɔmʉːnə ʂɔm rapɔʈeːra deː hɑːr bliːvɪt betrə <pa> fœ̞ːr at foː fleːr menɪɧʊr iː jɔb oː eːɡən fœ̞ʂœ̞rnɪŋ soː hɑː man <pa> skɑːpat et et betrə samarbeːtə men frʉː tɑːl man jɑː eːjʉː ɪntə nœjd fœ̞ːɳʂ deː fɵŋkar iː heːla landət fœ̞nʂ varje kɔmʉːn rapɔʈeːrar <pa>at deta arbeːtə fɵŋɡeːrar vɛːl <pa> soː dæːrfœ̞r soː æː ɖeː fuːʈʂat prɪʊrɪteːrat oː deː ɔksɔ dæːrfœ̞ ʂɔm arbesfœ̞meːdlɪŋən nʉː hɑː fɔt et nʏt ɵpdrɑːɡ iː reɡleːrɪŋsbreːvət sɔm hanlar ɔm presiːs de hæːr ɔk sɔm jɑː kɵndəe rapɔʈeːra ɔm iː desembər bɑːra fœ̞ːr <pa><hes> en moːnad seːdan <pa>at iː jɛmfœ̞ːrsə meː hʉː sɪtaɧuːnən soːɡ ʉːt iː desemə ɕʉːɡ ɕʉː et <pa>soː skɑː den lʊkɑːla næːrvɑːrʊn øːka <pa> <hes> oː deː kɔmə viː hɑː fɵlt fuːkɵs poː at styːra oː fœlja ɵp mʏndɪheːtən ɪkrɪŋ fœ̞ʂʈɔs jɑː hɑːr fuːʈʂat mʏkə høːɡa fœ̞ ventnɪŋar poː mʏɪndɪheːtən poː e hæːr ɔmroːdət tak fr tɑːlman tak soː mʏkə oː doː vɑːr deː slʉːtrepliːk fœ̞ː roːɡərhadad lɪbərɑːlnɳa vɑːʂʊ ɡuːd <pa> tak fœ̞ːrʉː tɑːlman jɑː kɔnstateːrar <pa> at jɑː ntə foːr rɪktɪɡa svɑːr poː mɪn ɪnteplaɧuːn deː fɪns ɪŋa kɔŋkreːta moːl <pa> ɵpsata hʊs rɪjeːrɪŋən næːr e jɛlə tɪljeŋlɪheːtən tɪl <pa> arbesfœ̞meːdlɪŋən deː fɪns ɪntə helər en ʉːtɑːlad strateɧiː fœ̞ːr hʉː tɪljeŋlɪheːtən skɑː fœ̞betras fœ̞ː pæʂuːnə meː fɵŋɧuːsneːdsɛetnɪŋ sɔm drabas dɵbəlt næːr jɛlər arbetsløːsheːtən oː lɔŋtiːs arbesløːseːtən <pa> jenfœ̞ːʈ meː andra ɪnskriːvna poː arbesfœ̞meːdlɪən støːdət tɪl dɔm fɵŋɧuːsɪndradə hɑː bliːvɪt semrə næːrvɑːrʊn ʉːtə iː landət jenfœ̞ːʈ meː treːfyːra oːrʂən hɑː bliːvɪt semrə den dɪɡɪtɑːla sœ̞rvɪsən <pa>æːr ɵndər prʊses jɑː men næː ɖeː kɔmə ʈɪl ɕæːɳmoːlɡrɵpən pæʂuːnə meː fɵŋɧuːsneːsɛtnɪŋ <pa> ʉːtriːkəsfœ̞da sproːksvɑːɡa pæʂuːnə meː l <hes> sɔm ɑːr loːɡ ʉːtbɪlnɪ ɔk befɪnə sej lɔŋtɪfroːn arbesmarknadən <pa> jɑː doː leværeːra ɪntə <pa> rejeːrɪŋən ɔk arbesfœ̞meːlɪ oː deː rejeːrɪŋən <pa> jeːnɔm reɡleːrɪŋsbreːv jeːnɔm ɪnstrɵɧuːnɳər jeːnɔm bɵdjet jeːnɔm <pa> kɔntaktər oː dɪaloːɡoː ɑːvstɛmnɪŋar meːn jenɑː jenerɑːldɪrektœ̞ːrən soː styː ma jɵ ɧɛlvklɑːʈ ɪnrɪktnɪŋən poː den æː vɪktɪɡa mʏndɪheːtən <pa> kaʂəeː den vɪktɪɡastə sɔm stɑːtən fœ̞fuːɡar øːvər ɔk jɑː frʉː tɑːr man <pa> <hes> iː oːsœlə lɛːste ɑː hæːr ɔm dɑːn at fleːr ɛn helftən ɑːv ala arbesløːsa h vɑːrɪ ʉːta jɔb iː meːr ɛn et oːr <pa> arbesmarknas eːnheːtən æː neːrlaɡd <pa>arbesfœ̞meːlɪŋ æː neːrlaɡd <pa> ɪŋa prɪvɑːta aktœ̞ːrər hɑːr enʉː etableːrat sej iː desembə ɕʉːɡʊ ɕʉːɡ et <pa> poː ʊʈən <pa> jɑː deː doː <pa> iː fɑːɡeʂda <pa> <pa> iː nuːrbærj <pa> iː oːsɛlə iː andra kɔmʉːnər ɑːv den hæːr karaktæːə deː dɔm sɔm doː behøːvər en arbesfœ̞rmeːdlɪŋ iː stɑːtlɪɡ reʂiː sen ɔm deː eː lʊkɑːl næːrvɑːr el eː dɪɡɪtɑːlt ɵplaɡt deː deː deː muː vɑːra <pa>men deː mɔste fɵŋɡeːra <pa> oː dɔm dɔm <hes> <sm> dɔm fœ̞ːrɵtsɛtnɪŋaɳa <pa> roːdər ɪnt ɪdɑː oː dæːr hɔpas jɑː <pa> poː ɧæːrpnɪŋ tak fœ̞ːr uːɖət tak soː mʏkə oː doː vɑːr eː slʉːtrepiːk fœ̞ː arbesmarknad oː jemstɛlesmɪnɪstər eːva nuːɖmark sʊsjɑːldmɔkrɑːtæɳa vɑːʂɵɡuːd tak frʉː tɑːr man ɔk tak roːɡər hadad jɑː deː æːjʉː blananat ɑːv dɔm ɧɛːl sɔm<v> sɔm<v><hes> <hes> leːdamuːtən hæːr lʏftər sɔm rɪjeːrɪŋən tɪlfœ̞ːr fyːrɵna ɧɵtɪ mɪljuːnər kruːner ɪ oːr ʈɪl arbesfmeːlɪŋəns fœ̞ːrvalnɪŋs anslɑːɡ fœ̞ːr at sɛː sɛːkəʂtɛla en lʊkɑːl næːrvɑːrʊ <pa>men ɔksɑː at kɵna jeːet endamɔs eːnlɪt støːd tɪl pæʂuːnə meː fɵŋɧʊs neːdsɛtnɪŋ <pa> viː æː ɪntə nœjda oː deː dæːrfœ̞ ʂɔm viː viːtɑːr <hes> ʏtəlɪɡarə oːtjæːɖər me jɑː vɪl ɔksɔ sɛja deː at<hes> viː hɑː ɡɔt ɪjeːnɔm en en mʏkə tɵf kriːs poː svɛnsk arbesmaknad kɔplat tɪl kɧʊvɪ nɪtɔn <pa>lɛːɡə p arbesmaknadən hɑːr jʉːsnat <pa> viː hɑːr ɪdɑː øːvər hɵndra tʉːsən færə ɪnskriːvna poː arbesfmeːlɪŋən <pa> soː poː mɔŋa set soː ɡoːr ɖeː oːt rethɔl <pa> men den stuːra ʉːtmɑːnɪŋən framɔt nʉː deː at kneka lɔŋtiːs arbesløːsheːtən <pa> viː skɑː boːde trʏka tɪbɑːka lɔŋtiːsarbesløːsheːtən me viːskɑː ɔksɔ skɑːpa nyːa ɡrøːna jɔb iː heːla voːʈ ɑːvlɔŋa land <pa> <gcl>æː frat jɔpʊlɪtiːk deː ɔksɔ em pʊlɪtiːk fœ̞ː at heːla sværje skɑː leːva oː veksa oː ʉːtveklas tak fœ̞ː tɑːlman ɔk tak roːɡər hadad tak soː mʏkə oː deː meː vɑː debatən meː anleːdnɪŋ ɑːv svɑːrət poː ɪntepelaɧuːn tvoː hɵndra niːʊ ɑːv roːɡər hadad lɪberɑːləɳa arbeːsfœ̞meːdlɪŋəns tɪljeŋlɪheːt ɑːvslʉːtad <ha> (0.02, 1357.74)]]"
      ]
     },
     "execution_count": 98,
     "metadata": {},
     "output_type": "execute_result"
    }
   ],
   "source": [
    "merged"
   ]
  },
  {
   "cell_type": "code",
   "execution_count": 62,
   "metadata": {},
   "outputs": [],
   "source": [
    "class myfloat(float):\n",
    "    def __eq__(self, other):\n",
    "        return approx_match(self.real, other.real)\n",
    "    def __hash__(self):\n",
    "        return hash(self.real)\n",
    "\n",
    "starts_a = [myfloat(x.start) for x in text_chunks]\n",
    "starts_b = [myfloat(x.start) for x in phone_chunks]"
   ]
  },
  {
   "cell_type": "code",
   "execution_count": 63,
   "metadata": {},
   "outputs": [],
   "source": [
    "from difflib import SequenceMatcher"
   ]
  },
  {
   "cell_type": "code",
   "execution_count": 64,
   "metadata": {},
   "outputs": [],
   "source": [
    "sm = SequenceMatcher(a=starts_a, b=starts_b)"
   ]
  },
  {
   "cell_type": "code",
   "execution_count": null,
   "metadata": {},
   "outputs": [],
   "source": [
    "for op, a_start, a_end, b_start, b_end in sm.get_opcodes():\n",
    "    print(op, a_start, a_end, b_start, b_end)"
   ]
  }
 ],
 "metadata": {
  "kernelspec": {
   "display_name": "hf",
   "language": "python",
   "name": "python3"
  },
  "language_info": {
   "codemirror_mode": {
    "name": "ipython",
    "version": 3
   },
   "file_extension": ".py",
   "mimetype": "text/x-python",
   "name": "python",
   "nbconvert_exporter": "python",
   "pygments_lexer": "ipython3",
   "version": "3.9.15"
  },
  "orig_nbformat": 4
 },
 "nbformat": 4,
 "nbformat_minor": 2
}
