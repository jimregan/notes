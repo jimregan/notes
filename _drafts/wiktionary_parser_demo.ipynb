{
 "cells": [
  {
   "cell_type": "markdown",
   "id": "31b7a6d4",
   "metadata": {},
   "source": [
    "# 📘 Wiktionary IPA Parser Demo\n",
    "\n",
    "This notebook demonstrates how to use the `wiktionary_ipa_parser` module to extract structured data from Wiktionary-style Irish IPA templates."
   ]
  },
  {
   "cell_type": "code",
   "execution_count": null,
   "id": "6e84b360",
   "metadata": {},
   "outputs": [],
   "source": [
    "from wiktionary_ipa_parser import parse_ipa_block"
   ]
  },
  {
   "cell_type": "markdown",
   "id": "c93ffc9a",
   "metadata": {},
   "source": [
    "## 🔤 Example Input"
   ]
  },
  {
   "cell_type": "code",
   "execution_count": null,
   "id": "8217dff1",
   "metadata": {},
   "outputs": [],
   "source": [
    "example_text = '''\n",
    "{{a|Ulster}} {{IPA|ga|/mˠaːsˠ/|/mˠaːʃ/|qual2=before {{m|ga|é}}, {{m|ga|ea}}, {{m|ga|í}}, {{m|ga|iad}} and their emphatic equivalents}}\n",
    "{{a|Galway}} {{IPA|ga|/lʲoːbˠ/}} {{a|corresponding to the spelling {{m|ga|leob}}}}<ref>{{R:ga:Finck|I|196}}</ref><ref>{{R:ga:GCFD|308}}</ref>\n",
    "{{IPA|ga|/n̪ˠõːsˠ/|ref={{R:ga:Quiggin|17}}}}\n",
    "'''"
   ]
  },
  {
   "cell_type": "markdown",
   "id": "1232dc75",
   "metadata": {},
   "source": [
    "## 🧠 Parse and Inspect Output"
   ]
  },
  {
   "cell_type": "code",
   "execution_count": null,
   "id": "b1d6e073",
   "metadata": {},
   "outputs": [],
   "source": [
    "import json\n",
    "parsed = parse_ipa_block(example_text)\n",
    "print(parsed)"
   ]
  },
  {
   "cell_type": "markdown",
   "id": "7ceb6c53",
   "metadata": {},
   "source": [
    "## ✅ Output is JSON-encoded structured data\n",
    "You can convert it into Python objects using `json.loads()` if needed."
   ]
  },
  {
   "cell_type": "code",
   "execution_count": null,
   "id": "2f604722",
   "metadata": {},
   "outputs": [],
   "source": [
    "structured_data = json.loads(parsed)\n",
    "structured_data"
   ]
  }
 ],
 "metadata": {},
 "nbformat": 4,
 "nbformat_minor": 5
}