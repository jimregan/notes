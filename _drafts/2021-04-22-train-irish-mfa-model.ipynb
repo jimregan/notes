{
 "cells": [
  {
   "cell_type": "code",
   "execution_count": 1,
   "id": "pressing-literacy",
   "metadata": {
    "_cell_guid": "b1076dfc-b9ad-4769-8c92-a6c4dae69d19",
    "_uuid": "8f2839f25d086af736a60e9eeb907d3b93b6e0e5",
    "execution": {
     "iopub.execute_input": "2021-04-22T00:07:08.289792Z",
     "iopub.status.busy": "2021-04-22T00:07:08.276838Z",
     "iopub.status.idle": "2021-04-22T00:07:19.989741Z",
     "shell.execute_reply": "2021-04-22T00:07:19.988916Z"
    },
    "papermill": {
     "duration": 11.732153,
     "end_time": "2021-04-22T00:07:19.989919",
     "exception": false,
     "start_time": "2021-04-22T00:07:08.257766",
     "status": "completed"
    },
    "tags": []
   },
   "outputs": [],
   "source": [
    "%%capture\n",
    "import os\n",
    "os.chdir('/tmp')\n",
    "!wget https://github.com/MontrealCorpusTools/Montreal-Forced-Aligner/releases/download/v1.0.1/montreal-forced-aligner_linux.tar.gz\n",
    "!tar zxvf montreal-forced-aligner_linux.tar.gz\n",
    "!ln -s /tmp/montreal-forced-aligner/lib/libpython3.6m.so.1.0 /tmp/montreal-forced-aligner/lib/libpython3.6m.so"
   ]
  },
  {
   "cell_type": "code",
   "execution_count": 2,
   "id": "micro-september",
   "metadata": {
    "execution": {
     "iopub.execute_input": "2021-04-22T00:07:20.011413Z",
     "iopub.status.busy": "2021-04-22T00:07:20.010717Z",
     "iopub.status.idle": "2021-04-22T00:07:20.013569Z",
     "shell.execute_reply": "2021-04-22T00:07:20.014067Z"
    },
    "papermill": {
     "duration": 0.016523,
     "end_time": "2021-04-22T00:07:20.014275",
     "exception": false,
     "start_time": "2021-04-22T00:07:19.997752",
     "status": "completed"
    },
    "tags": []
   },
   "outputs": [],
   "source": [
    "os.chdir('/kaggle/working')\n",
    "os.environ['LD_LIBRARY_PATH'] = f'{os.environ[\"LD_LIBRARY_PATH\"]}:/tmp/montreal-forced-aligner/lib/'\n",
    "os.environ['PATH'] = f'{os.environ[\"PATH\"]}:/tmp/montreal-forced-aligner/bin/'"
   ]
  },
  {
   "cell_type": "code",
   "execution_count": 3,
   "id": "dressed-diary",
   "metadata": {
    "execution": {
     "iopub.execute_input": "2021-04-22T00:07:20.038732Z",
     "iopub.status.busy": "2021-04-22T00:07:20.035671Z",
     "iopub.status.idle": "2021-04-22T00:07:27.619273Z",
     "shell.execute_reply": "2021-04-22T00:07:27.618575Z"
    },
    "papermill": {
     "duration": 7.597306,
     "end_time": "2021-04-22T00:07:27.619414",
     "exception": false,
     "start_time": "2021-04-22T00:07:20.022108",
     "status": "completed"
    },
    "tags": []
   },
   "outputs": [],
   "source": [
    "%%capture\n",
    "!yes|apt install libgfortran3"
   ]
  },
  {
   "cell_type": "code",
   "execution_count": 4,
   "id": "boxed-offset",
   "metadata": {
    "execution": {
     "iopub.execute_input": "2021-04-22T00:07:27.644201Z",
     "iopub.status.busy": "2021-04-22T00:07:27.639820Z",
     "iopub.status.idle": "2021-04-22T00:07:28.368380Z",
     "shell.execute_reply": "2021-04-22T00:07:28.367667Z"
    },
    "papermill": {
     "duration": 0.741522,
     "end_time": "2021-04-22T00:07:28.368529",
     "exception": false,
     "start_time": "2021-04-22T00:07:27.627007",
     "status": "completed"
    },
    "tags": []
   },
   "outputs": [],
   "source": [
    "!mkdir /tmp/mfa-temp"
   ]
  },
  {
   "cell_type": "code",
   "execution_count": 5,
   "id": "centered-regression",
   "metadata": {
    "execution": {
     "iopub.execute_input": "2021-04-22T00:07:28.390089Z",
     "iopub.status.busy": "2021-04-22T00:07:28.389451Z",
     "iopub.status.idle": "2021-04-22T00:07:28.419068Z",
     "shell.execute_reply": "2021-04-22T00:07:28.417945Z"
    },
    "papermill": {
     "duration": 0.04288,
     "end_time": "2021-04-22T00:07:28.419273",
     "exception": false,
     "start_time": "2021-04-22T00:07:28.376393",
     "status": "completed"
    },
    "tags": []
   },
   "outputs": [],
   "source": [
    "import json\n",
    "datapath = '../input/living-audio-irish-speech-corpus/living-audio.json'\n",
    "with open(datapath) as jsonf:\n",
    "    data = json.load(jsonf)"
   ]
  },
  {
   "cell_type": "code",
   "execution_count": 6,
   "id": "focused-yemen",
   "metadata": {
    "execution": {
     "iopub.execute_input": "2021-04-22T00:07:28.440720Z",
     "iopub.status.busy": "2021-04-22T00:07:28.439777Z",
     "iopub.status.idle": "2021-04-22T00:07:29.150950Z",
     "shell.execute_reply": "2021-04-22T00:07:29.150195Z"
    },
    "papermill": {
     "duration": 0.723807,
     "end_time": "2021-04-22T00:07:29.151098",
     "exception": false,
     "start_time": "2021-04-22T00:07:28.427291",
     "status": "completed"
    },
    "tags": []
   },
   "outputs": [],
   "source": [
    "!mkdir /tmp/living-audio"
   ]
  },
  {
   "cell_type": "code",
   "execution_count": 7,
   "id": "human-mention",
   "metadata": {
    "execution": {
     "iopub.execute_input": "2021-04-22T00:07:29.173295Z",
     "iopub.status.busy": "2021-04-22T00:07:29.172613Z",
     "iopub.status.idle": "2021-04-22T00:07:29.194452Z",
     "shell.execute_reply": "2021-04-22T00:07:29.193818Z"
    },
    "papermill": {
     "duration": 0.035434,
     "end_time": "2021-04-22T00:07:29.194599",
     "exception": false,
     "start_time": "2021-04-22T00:07:29.159165",
     "status": "completed"
    },
    "tags": []
   },
   "outputs": [],
   "source": [
    "lexicon_words = set()\n",
    "with open('../input/living-audio-irish-speech-corpus/lexicon.txt') as lexicon_file:\n",
    "    for line in lexicon_file.readlines():\n",
    "        words = line.split(' ')\n",
    "        lexicon_words.add(words[0])"
   ]
  },
  {
   "cell_type": "code",
   "execution_count": 8,
   "id": "typical-giant",
   "metadata": {
    "execution": {
     "iopub.execute_input": "2021-04-22T00:07:29.214546Z",
     "iopub.status.busy": "2021-04-22T00:07:29.213893Z",
     "iopub.status.idle": "2021-04-22T00:07:39.318258Z",
     "shell.execute_reply": "2021-04-22T00:07:39.317360Z"
    },
    "papermill": {
     "duration": 10.115443,
     "end_time": "2021-04-22T00:07:39.318404",
     "exception": false,
     "start_time": "2021-04-22T00:07:29.202961",
     "status": "completed"
    },
    "tags": []
   },
   "outputs": [],
   "source": [
    "import shutil\n",
    "missing_words = set()\n",
    "for utt in data:\n",
    "    shutil.copyfile(utt['path'], f\"/tmp/living-audio/{utt['id']}.wav\")\n",
    "    with open(f\"/tmp/living-audio/{utt['id']}.txt\", 'w') as text:\n",
    "        sentence = utt['sentence']\n",
    "        sentence = sentence.replace('(', '').replace(')', '') \n",
    "        words = []\n",
    "        for word in sentence.split(' '):\n",
    "            if not word in lexicon_words:\n",
    "                missing_words.add(word)\n",
    "            if '-' in word:\n",
    "                if word.startswith('n-') or word.startswith('t-'):\n",
    "                    workword = word[2:]\n",
    "                    workword.replace('-', ' ')\n",
    "                    word = word[0:2] + workword\n",
    "                else:\n",
    "                    word = word.replace('-', ' ')\n",
    "            words.append(word)\n",
    "        text.write(' '.join(words))"
   ]
  },
  {
   "cell_type": "code",
   "execution_count": 9,
   "id": "unable-squad",
   "metadata": {
    "execution": {
     "iopub.execute_input": "2021-04-22T00:07:39.345437Z",
     "iopub.status.busy": "2021-04-22T00:07:39.340954Z",
     "iopub.status.idle": "2021-04-22T01:09:15.749750Z",
     "shell.execute_reply": "2021-04-22T01:09:15.750282Z"
    },
    "papermill": {
     "duration": 3696.423914,
     "end_time": "2021-04-22T01:09:15.750709",
     "exception": false,
     "start_time": "2021-04-22T00:07:39.326795",
     "status": "completed"
    },
    "tags": []
   },
   "outputs": [
    {
     "name": "stdout",
     "output_type": "stream",
     "text": [
      "Setting up corpus information...\r\n",
      "Creating dictionary information...\r\n",
      "Setting up training data...\r\n",
      "Calculating MFCCs...\r\n",
      "Calculating CMVN...\r\n",
      "Number of speakers in corpus: 1, average number of utterances per speaker: 1121.0\r\n",
      "b'number of phones 215\\nnumber of pdfs 165\\nnumber of transition-ids 1470\\nnumber of transition-states 675\\nfeature dimension 39\\nnumber of gaussians 165\\n'\r\n",
      "None\r\n",
      "b'number of phones 215\\nnumber of pdfs 165\\nnumber of transition-ids 1470\\nnumber of transition-states 675\\nfeature dimension 39\\nnumber of gaussians 165\\n'\r\n",
      "None\r\n",
      "Beginning monophone training...\r\n",
      "100%|███████████████████████████████████████████| 39/39 [25:35<00:00, 21.13s/it]\r\n",
      "Initializing triphone training...\r\n",
      "Beginning triphone training...\r\n",
      "100%|███████████████████████████████████████████| 34/34 [19:09<00:00, 16.35s/it]\r\n",
      "Initializing speaker-adapted triphone training...\r\n",
      "Beginning speaker-adapted triphone training...\r\n",
      "100%|███████████████████████████████████████████| 34/34 [08:55<00:00,  8.33s/it]\r\n",
      "Saved model to ./irish-model\r\n"
     ]
    }
   ],
   "source": [
    "!mfa_train_and_align -t /tmp/mfa-temp -o ./irish-model /tmp/living-audio ../input/living-audio-irish-speech-corpus/lexicon.txt ./textgrid"
   ]
  }
 ],
 "metadata": {
  "kernelspec": {
   "display_name": "Python 3",
   "language": "python",
   "name": "python3"
  },
  "language_info": {
   "codemirror_mode": {
    "name": "ipython",
    "version": 3
   },
   "file_extension": ".py",
   "mimetype": "text/x-python",
   "name": "python",
   "nbconvert_exporter": "python",
   "pygments_lexer": "ipython3",
   "version": "3.8.2"
  },
  "papermill": {
   "default_parameters": {},
   "duration": 3734.774215,
   "end_time": "2021-04-22T01:09:16.507045",
   "environment_variables": {},
   "exception": null,
   "input_path": "__notebook__.ipynb",
   "output_path": "__notebook__.ipynb",
   "parameters": {},
   "start_time": "2021-04-22T00:07:01.732830",
   "version": "2.3.2"
  }
 },
 "nbformat": 4,
 "nbformat_minor": 5
}
