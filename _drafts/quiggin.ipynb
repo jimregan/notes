{
 "cells": [
  {
   "cell_type": "code",
   "execution_count": 1,
   "metadata": {},
   "outputs": [],
   "source": [
    "SECT57 = \"\"\"\n",
    "{{section|s57|§ 57.}} The O.Ir. prefix variously spelt ir-, er-, aur- (now written ur‑) is pro&shy;nounced ''o̤r''. The common spelling with au was probably intended to denote some sound like ''o̤'', cp. O’Donovan, Grammar p.&nbsp;17. Medieval scribes seem to have been at a loss to represent this sound. The frequent appear&shy;ance of e for ''o̤'', cp. terus = turas RC. vii 296, terad for turud Wi. p.&nbsp;818, finds a parallel in the inter&shy;change of ''o̤'' and ï in Donegal, cp. §&nbsp;{{QDD|103}}. Examples: ''o̤rəχəsk'', ‘injection’, Di. urchosc; ''o̤rəχɔdʹ'', ‘harm’, M.Ir. erchoit, irchoit; ''o̤rəχər'', ‘shot’, M.Ir. erchor, aurchor, irchor, urchor; ''o̤rLαr'', ‘floor’, Wi. orlar; ''o̤rNỹ꞉'', ‘prayer’, M.Ir. ernaigthe, airnaig&shy;the; ''o̤rχəL'', ‘cricket’, Di. urchuil; ''o̤rsə'', ‘jamb’, M.Ir. irsa, ursa; ''o̤rLə'', ‘eaves, fringe’, M.Ir. urla; ''o̤rNʹæʃ'', ‘furniture’, Meyer airnéis; ''o̤rLuw'', ‘speech, eloquence’, O.Ir. erlabra, aurlabra (see §&nbsp;{{QDD|444}}). Note ''ɔ꞉rLə'', ‘vomit’, Di. orlughcan, urlacan with ''ɔ꞉'', *''o̤rbəL'', ‘tail’, M.Ir. erball has become ''ro̤bəL'' as elsewhere.\n",
    "\"\"\""
   ]
  },
  {
   "cell_type": "code",
   "execution_count": 8,
   "metadata": {},
   "outputs": [],
   "source": [
    "SECT57 = SECT57.replace(\"&shy;\", \"\").replace(\"&nbsp;\", \" \")"
   ]
  },
  {
   "cell_type": "code",
   "execution_count": 9,
   "metadata": {},
   "outputs": [],
   "source": [
    "EGS57 = SECT57.split(\"Examples: \")[1]"
   ]
  },
  {
   "cell_type": "code",
   "execution_count": 10,
   "metadata": {},
   "outputs": [
    {
     "data": {
      "text/plain": [
       "[\"''o̤rəχəsk'', ‘injection’, Di. urchosc\",\n",
       " \" ''o̤rəχɔdʹ'', ‘harm’, M.Ir. erchoit, irchoit\",\n",
       " \" ''o̤rəχər'', ‘shot’, M.Ir. erchor, aurchor, irchor, urchor\",\n",
       " \" ''o̤rLαr'', ‘floor’, Wi. orlar\",\n",
       " \" ''o̤rNỹ꞉'', ‘prayer’, M.Ir. ernaigthe, airnaigthe\",\n",
       " \" ''o̤rχəL'', ‘cricket’, Di. urchuil\",\n",
       " \" ''o̤rsə'', ‘jamb’, M.Ir. irsa, ursa\",\n",
       " \" ''o̤rLə'', ‘eaves, fringe’, M.Ir. urla\",\n",
       " \" ''o̤rNʹæʃ'', ‘furniture’, Meyer airnéis\",\n",
       " \" ''o̤rLuw'', ‘speech, eloquence’, O.Ir. erlabra, aurlabra (see § {{QDD|444}}). Note ''ɔ꞉rLə'', ‘vomit’, Di. orlughcan, urlacan with ''ɔ꞉'', *''o̤rbəL'', ‘tail’, M.Ir. erball has become ''ro̤bəL'' as elsewhere.\\n\"]"
      ]
     },
     "execution_count": 10,
     "metadata": {},
     "output_type": "execute_result"
    }
   ],
   "source": [
    "EGS57.split(\";\")"
   ]
  },
  {
   "cell_type": "code",
   "execution_count": 13,
   "metadata": {},
   "outputs": [
    {
     "data": {
      "text/plain": [
       "\"\\n{{section|s57|§ 57.}} The O.Ir. prefix variously spelt ir-, er-, aur- (now written ur‑) is pronounced ''o̤r''. The common spelling with au was probably intended to denote some sound like ''o̤'', cp. O’Donovan, Grammar p. 17. Medieval scribes seem to have been at a loss to represent this sound. The frequent appearance of e for ''o̤'', cp. terus = turas RC. vii 296, terad for turud Wi. p. 818, finds a parallel in the interchange of ''o̤'' and ï in Donegal, cp. § {{QDD|103}}. Examples: ''o̤rəχəsk'', ‘injection’, Di. urchosc; ''o̤rəχɔdʹ'', ‘harm’, M.Ir. erchoit, irchoit; ''o̤rəχər'', ‘shot’, M.Ir. erchor, aurchor, irchor, urchor; ''o̤rLαr'', ‘floor’, Wi. orlar; ''o̤rNỹ꞉'', ‘prayer’, M.Ir. ernaigthe, airnaigthe; ''o̤rχəL'', ‘cricket’, Di. urchuil; ''o̤rsə'', ‘jamb’, M.Ir. irsa, ursa; ''o̤rLə'', ‘eaves, fringe’, M.Ir. urla; ''o̤rNʹæʃ'', ‘furniture’, Meyer airnéis; ''o̤rLuw'', ‘speech, eloquence’, O.Ir. erlabra, aurlabra (see § {{QDD|444}}). Note ''ɔ꞉rLə'', ‘vomit’, Di. orlughcan, urlacan with ''ɔ꞉'', *''o̤rbəL'', ‘tail’, M.Ir. erball has become ''ro̤bəL'' as elsewhere.\\n\""
      ]
     },
     "execution_count": 13,
     "metadata": {},
     "output_type": "execute_result"
    }
   ],
   "source": [
    "SECT57"
   ]
  },
  {
   "cell_type": "code",
   "execution_count": 11,
   "metadata": {},
   "outputs": [
    {
     "name": "stdout",
     "output_type": "stream",
     "text": [
      "Collecting lark\n",
      "  Downloading lark-1.1.9-py3-none-any.whl (111 kB)\n",
      "\u001b[2K     \u001b[90m━━━━━━━━━━━━━━━━━━━━━━━━━━━━━━━━━━━━━━━\u001b[0m \u001b[32m111.7/111.7 kB\u001b[0m \u001b[31m1.4 MB/s\u001b[0m eta \u001b[36m0:00:00\u001b[0ma \u001b[36m0:00:01\u001b[0m\n",
      "\u001b[?25hInstalling collected packages: lark\n",
      "Successfully installed lark-1.1.9\n",
      "Note: you may need to restart the kernel to use updated packages.\n"
     ]
    }
   ],
   "source": [
    "%pip install lark"
   ]
  },
  {
   "cell_type": "code",
   "execution_count": 12,
   "metadata": {},
   "outputs": [],
   "source": [
    "from lark import Lark"
   ]
  },
  {
   "cell_type": "code",
   "execution_count": null,
   "metadata": {},
   "outputs": [],
   "source": [
    "TEST = \"\"\"\n",
    "Examples: ''o̤rəχəsk'', ‘injection’, Di. urchosc; ''o̤rəχɔdʹ'', ‘harm’, M.Ir. erchoit, irchoit; ''o̤rəχər'', ‘shot’, M.Ir. erchor, aurchor, irchor, urchor; ''o̤rLαr'', ‘floor’, Wi. orlar; ''o̤rNỹ꞉'', ‘prayer’, M.Ir. ernaigthe, airnaigthe; ''o̤rχəL'', ‘cricket’, Di. urchuil; ''o̤rsə'', ‘jamb’, M.Ir. irsa, ursa; ''o̤rLə'', ‘eaves, fringe’, M.Ir. urla; ''o̤rNʹæʃ'', ‘furniture’, Meyer airnéis; ''o̤rLuw'', ‘speech, eloquence’, O.Ir. erlabra, aurlabra (see § {{QDD|444}}). Note ''ɔ꞉rLə'', ‘vomit’, Di. orlughcan, urlacan with ''ɔ꞉'', *''o̤rbəL'', ‘tail’, M.Ir. erball has become ''ro̤bəL'' as elsewhere.\n",
    "\"\"\""
   ]
  },
  {
   "cell_type": "code",
   "execution_count": null,
   "metadata": {},
   "outputs": [],
   "source": [
    "parser = r\"\"\"\n",
    "phone : \"''\" not_apos \"''\"\n",
    "english : \"‘\" not_rquot \"’\"\n",
    "\"\"\""
   ]
  }
 ],
 "metadata": {
  "kernelspec": {
   "display_name": "hf",
   "language": "python",
   "name": "python3"
  },
  "language_info": {
   "codemirror_mode": {
    "name": "ipython",
    "version": 3
   },
   "file_extension": ".py",
   "mimetype": "text/x-python",
   "name": "python",
   "nbconvert_exporter": "python",
   "pygments_lexer": "ipython3",
   "version": "3.9.15"
  }
 },
 "nbformat": 4,
 "nbformat_minor": 2
}
