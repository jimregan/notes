{
 "cells": [
  {
   "cell_type": "code",
   "execution_count": 2,
   "id": "656ec532",
   "metadata": {},
   "outputs": [],
   "source": [
    "URL = \"http://web.archive.org/web/20180625150625/http://www.miesiecznikpomerania.pl/audio\""
   ]
  },
  {
   "cell_type": "markdown",
   "id": "48beda76",
   "metadata": {},
   "source": [
    "e.g.: \"5. Czego chcele Młodokaszebi.mp3 /POMERANIA 2012, nr 2/\"\n",
    "- Selector: `#accordion_sp1_id91 > div:nth-child(379)`\n",
    "- pdf: http://www.bibliotekacyfrowa.eu/dlibra/show-content/publication/31780/edition/29632/?format_id=2\n",
    "- pdf page: 55\n",
    "\n",
    "Original format is DjVu: https://www.bibliotekacyfrowa.eu/Content/29632/download?format_id=1\n",
    "Maybe worth working directly with it?"
   ]
  },
  {
   "cell_type": "markdown",
   "id": "e58f3cb4",
   "metadata": {},
   "source": [
    "[Textbooks](http://skarbnicakaszubska.pl/podreczniki/)"
   ]
  },
  {
   "cell_type": "code",
   "execution_count": 3,
   "id": "edf17c3c",
   "metadata": {},
   "outputs": [],
   "source": [
    "import requests\n",
    "from bs4 import BeautifulSoup\n",
    "import json"
   ]
  },
  {
   "cell_type": "code",
   "execution_count": 4,
   "id": "4205a1af",
   "metadata": {},
   "outputs": [],
   "source": [
    "csb_audio_page = requests.get(URL)\n",
    "assert csb_audio_page.status_code == 200, \"Failed to fetch the page\"\n",
    "soup = BeautifulSoup(csb_audio_page.content, \"html.parser\")"
   ]
  },
  {
   "cell_type": "code",
   "execution_count": null,
   "id": "634e045f",
   "metadata": {},
   "outputs": [],
   "source": [
    "testing = [\n",
    "    \"#accordion_sp1_id91 > div:nth-child(36) > div:nth-child(3) > strong\",\n",
    "    \"#accordion_sp1_id91 > div:nth-child(36) > div:nth-child(3) > p:nth-child(5)\",\n",
    "    \"#accordion_sp1_id91 > div:nth-child(36) > div:nth-child(3) > p:nth-child(8)\",\n",
    "    \"#accordion_sp1_id91 > div:nth-child(36) > div:nth-child(3) > p:nth-child(9)\",\n",
    "    \"#accordion_sp1_id91 > div:nth-child(36) > div:nth-child(3) > p:nth-child(10)\",\n",
    "    \"#accordion_sp1_id91 > div:nth-child(36) > div:nth-child(3) > p:nth-child(12)\",\n",
    "\n",
    "    \"#accordion_sp1_id91 > div:nth-child(36) > div:nth-child(3) > p:nth-child(24)\",\n",
    "    \"#accordion_sp1_id91 > div:nth-child(36) > div:nth-child(3) > p:nth-child(26)\",\n",
    "    \"#accordion_sp1_id91 > div:nth-child(36) > div:nth-child(3) > p:nth-child(27)\",\n",
    "    \"#accordion_sp1_id91 > div:nth-child(36) > div:nth-child(3) > p:nth-child(28)\"\n",
    "]"
   ]
  },
  {
   "cell_type": "code",
   "execution_count": null,
   "id": "1cde2d62",
   "metadata": {},
   "outputs": [],
   "source": [
    "soup.select(\"#accordion_sp1_id91 > div:nth-child(3)\")"
   ]
  }
 ],
 "metadata": {
  "kernelspec": {
   "display_name": "nst-tts",
   "language": "python",
   "name": "python3"
  },
  "language_info": {
   "codemirror_mode": {
    "name": "ipython",
    "version": 3
   },
   "file_extension": ".py",
   "mimetype": "text/x-python",
   "name": "python",
   "nbconvert_exporter": "python",
   "pygments_lexer": "ipython3",
   "version": "3.10.9"
  }
 },
 "nbformat": 4,
 "nbformat_minor": 5
}
