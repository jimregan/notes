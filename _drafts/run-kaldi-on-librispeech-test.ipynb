{
 "cells": [
  {
   "cell_type": "markdown",
   "id": "talented-profession",
   "metadata": {
    "papermill": {
     "duration": 0.033216,
     "end_time": "2021-06-22T14:31:56.157871",
     "exception": false,
     "start_time": "2021-06-22T14:31:56.124655",
     "status": "completed"
    },
    "tags": []
   },
   "source": [
    "## Unpack Kaldi"
   ]
  },
  {
   "cell_type": "code",
   "execution_count": 1,
   "id": "strange-cycle",
   "metadata": {
    "_cell_guid": "b1076dfc-b9ad-4769-8c92-a6c4dae69d19",
    "_uuid": "8f2839f25d086af736a60e9eeb907d3b93b6e0e5",
    "execution": {
     "iopub.execute_input": "2021-06-22T14:31:56.224529Z",
     "iopub.status.busy": "2021-06-22T14:31:56.223386Z",
     "iopub.status.idle": "2021-06-22T14:31:56.234208Z",
     "shell.execute_reply": "2021-06-22T14:31:56.233617Z",
     "shell.execute_reply.started": "2021-06-22T11:54:50.153353Z"
    },
    "papermill": {
     "duration": 0.045276,
     "end_time": "2021-06-22T14:31:56.234400",
     "exception": false,
     "start_time": "2021-06-22T14:31:56.189124",
     "status": "completed"
    },
    "tags": []
   },
   "outputs": [
    {
     "name": "stdout",
     "output_type": "stream",
     "text": [
      "/opt\n"
     ]
    }
   ],
   "source": [
    "%cd /opt"
   ]
  },
  {
   "cell_type": "code",
   "execution_count": 2,
   "id": "contemporary-excess",
   "metadata": {
    "execution": {
     "iopub.execute_input": "2021-06-22T14:31:56.311667Z",
     "iopub.status.busy": "2021-06-22T14:31:56.303381Z",
     "iopub.status.idle": "2021-06-22T14:32:47.676691Z",
     "shell.execute_reply": "2021-06-22T14:32:47.677171Z",
     "shell.execute_reply.started": "2021-06-22T11:54:53.255442Z"
    },
    "papermill": {
     "duration": 51.411044,
     "end_time": "2021-06-22T14:32:47.677379",
     "exception": false,
     "start_time": "2021-06-22T14:31:56.266335",
     "status": "completed"
    },
    "tags": []
   },
   "outputs": [],
   "source": [
    "%%capture\n",
    "!tar xvf /kaggle/input/extract-prebuilt-kaldi-from-docker/kaldi.tar"
   ]
  },
  {
   "cell_type": "code",
   "execution_count": 3,
   "id": "adopted-polymer",
   "metadata": {
    "execution": {
     "iopub.execute_input": "2021-06-22T14:32:47.746340Z",
     "iopub.status.busy": "2021-06-22T14:32:47.745689Z",
     "iopub.status.idle": "2021-06-22T14:32:47.748072Z",
     "shell.execute_reply": "2021-06-22T14:32:47.748577Z",
     "shell.execute_reply.started": "2021-06-22T11:55:40.60018Z"
    },
    "papermill": {
     "duration": 0.039503,
     "end_time": "2021-06-22T14:32:47.748753",
     "exception": false,
     "start_time": "2021-06-22T14:32:47.709250",
     "status": "completed"
    },
    "tags": []
   },
   "outputs": [],
   "source": [
    "import os\n",
    "os.environ['LD_LIBRARY_PATH'] = '/opt/conda/lib:/opt/kaldi/tools/openfst-1.6.7/lib:/opt/kaldi/src/lib:'\n",
    "EXISTING_PATH = os.environ['PATH']"
   ]
  },
  {
   "cell_type": "code",
   "execution_count": 4,
   "id": "through-california",
   "metadata": {
    "execution": {
     "iopub.execute_input": "2021-06-22T14:32:47.817476Z",
     "iopub.status.busy": "2021-06-22T14:32:47.816678Z",
     "iopub.status.idle": "2021-06-22T14:32:47.821826Z",
     "shell.execute_reply": "2021-06-22T14:32:47.822278Z"
    },
    "papermill": {
     "duration": 0.041826,
     "end_time": "2021-06-22T14:32:47.822461",
     "exception": false,
     "start_time": "2021-06-22T14:32:47.780635",
     "status": "completed"
    },
    "tags": []
   },
   "outputs": [
    {
     "name": "stdout",
     "output_type": "stream",
     "text": [
      "/\n"
     ]
    }
   ],
   "source": [
    "%cd /\n"
   ]
  },
  {
   "cell_type": "code",
   "execution_count": 5,
   "id": "dental-consent",
   "metadata": {
    "execution": {
     "iopub.execute_input": "2021-06-22T14:32:47.896865Z",
     "iopub.status.busy": "2021-06-22T14:32:47.893440Z",
     "iopub.status.idle": "2021-06-22T14:33:29.873413Z",
     "shell.execute_reply": "2021-06-22T14:33:29.873942Z"
    },
    "papermill": {
     "duration": 42.018747,
     "end_time": "2021-06-22T14:33:29.874118",
     "exception": false,
     "start_time": "2021-06-22T14:32:47.855371",
     "status": "completed"
    },
    "tags": []
   },
   "outputs": [],
   "source": [
    "%%capture\n",
    "!tar xvf /kaggle/input/extract-cuda-from-kaldi-docker/cuda.tar"
   ]
  },
  {
   "cell_type": "code",
   "execution_count": 6,
   "id": "special-reliance",
   "metadata": {
    "execution": {
     "iopub.execute_input": "2021-06-22T14:33:29.944359Z",
     "iopub.status.busy": "2021-06-22T14:33:29.943417Z",
     "iopub.status.idle": "2021-06-22T14:33:29.947482Z",
     "shell.execute_reply": "2021-06-22T14:33:29.947966Z",
     "shell.execute_reply.started": "2021-06-22T13:29:47.085695Z"
    },
    "papermill": {
     "duration": 0.040374,
     "end_time": "2021-06-22T14:33:29.948122",
     "exception": false,
     "start_time": "2021-06-22T14:33:29.907748",
     "status": "completed"
    },
    "tags": []
   },
   "outputs": [],
   "source": [
    "import os\n",
    "os.environ['LD_LIBRARY_PATH'] = f'{os.environ[\"LD_LIBRARY_PATH\"]}:/usr/local/cuda-10.0/targets/x86_64-linux/lib/'"
   ]
  },
  {
   "cell_type": "code",
   "execution_count": 7,
   "id": "functional-cocktail",
   "metadata": {
    "execution": {
     "iopub.execute_input": "2021-06-22T14:33:30.015897Z",
     "iopub.status.busy": "2021-06-22T14:33:30.015263Z",
     "iopub.status.idle": "2021-06-22T14:33:30.022250Z",
     "shell.execute_reply": "2021-06-22T14:33:30.021485Z",
     "shell.execute_reply.started": "2021-06-22T11:55:40.610869Z"
    },
    "papermill": {
     "duration": 0.042111,
     "end_time": "2021-06-22T14:33:30.022459",
     "exception": false,
     "start_time": "2021-06-22T14:33:29.980348",
     "status": "completed"
    },
    "tags": []
   },
   "outputs": [
    {
     "name": "stdout",
     "output_type": "stream",
     "text": [
      "/opt/kaldi/egs\n"
     ]
    }
   ],
   "source": [
    "%cd /opt/kaldi/egs"
   ]
  },
  {
   "cell_type": "markdown",
   "id": "proof-clinic",
   "metadata": {
    "papermill": {
     "duration": 0.032993,
     "end_time": "2021-06-22T14:33:30.088760",
     "exception": false,
     "start_time": "2021-06-22T14:33:30.055767",
     "status": "completed"
    },
    "tags": []
   },
   "source": [
    "## Install flac"
   ]
  },
  {
   "cell_type": "code",
   "execution_count": 8,
   "id": "informal-object",
   "metadata": {
    "execution": {
     "iopub.execute_input": "2021-06-22T14:33:30.163901Z",
     "iopub.status.busy": "2021-06-22T14:33:30.163222Z",
     "iopub.status.idle": "2021-06-22T14:33:38.380223Z",
     "shell.execute_reply": "2021-06-22T14:33:38.379567Z",
     "shell.execute_reply.started": "2021-06-22T12:06:36.222984Z"
    },
    "papermill": {
     "duration": 8.258733,
     "end_time": "2021-06-22T14:33:38.380375",
     "exception": false,
     "start_time": "2021-06-22T14:33:30.121642",
     "status": "completed"
    },
    "tags": []
   },
   "outputs": [],
   "source": [
    "%%capture\n",
    "!apt install -y flac"
   ]
  },
  {
   "cell_type": "markdown",
   "id": "arctic-puzzle",
   "metadata": {
    "papermill": {
     "duration": 0.032125,
     "end_time": "2021-06-22T14:33:38.444918",
     "exception": false,
     "start_time": "2021-06-22T14:33:38.412793",
     "status": "completed"
    },
    "tags": []
   },
   "source": [
    "## Create a work directory"
   ]
  },
  {
   "cell_type": "code",
   "execution_count": 9,
   "id": "lightweight-zealand",
   "metadata": {
    "execution": {
     "iopub.execute_input": "2021-06-22T14:33:38.519153Z",
     "iopub.status.busy": "2021-06-22T14:33:38.515268Z",
     "iopub.status.idle": "2021-06-22T14:33:39.236077Z",
     "shell.execute_reply": "2021-06-22T14:33:39.235231Z",
     "shell.execute_reply.started": "2021-06-22T11:55:40.659251Z"
    },
    "papermill": {
     "duration": 0.75901,
     "end_time": "2021-06-22T14:33:39.236261",
     "exception": false,
     "start_time": "2021-06-22T14:33:38.477251",
     "status": "completed"
    },
    "tags": []
   },
   "outputs": [
    {
     "name": "stdout",
     "output_type": "stream",
     "text": [
      "/opt/kaldi/egs/usels/s5\n"
     ]
    }
   ],
   "source": [
    "!mkdir -p usels/s5\n",
    "%cd usels/s5"
   ]
  },
  {
   "cell_type": "code",
   "execution_count": 10,
   "id": "resident-leader",
   "metadata": {
    "execution": {
     "iopub.execute_input": "2021-06-22T14:33:39.306154Z",
     "iopub.status.busy": "2021-06-22T14:33:39.305557Z",
     "iopub.status.idle": "2021-06-22T14:33:42.204650Z",
     "shell.execute_reply": "2021-06-22T14:33:42.204117Z",
     "shell.execute_reply.started": "2021-06-22T12:08:43.066673Z"
    },
    "papermill": {
     "duration": 2.934809,
     "end_time": "2021-06-22T14:33:42.204793",
     "exception": false,
     "start_time": "2021-06-22T14:33:39.269984",
     "status": "completed"
    },
    "tags": []
   },
   "outputs": [],
   "source": [
    "!mkdir /kaggle/working/data\n",
    "!mkdir /kaggle/working/exp\n",
    "!ln -s /kaggle/working/data\n",
    "!ln -s /kaggle/working/exp"
   ]
  },
  {
   "cell_type": "code",
   "execution_count": 11,
   "id": "regulation-macintosh",
   "metadata": {
    "execution": {
     "iopub.execute_input": "2021-06-22T14:33:42.281964Z",
     "iopub.status.busy": "2021-06-22T14:33:42.277767Z",
     "iopub.status.idle": "2021-06-22T14:33:44.446515Z",
     "shell.execute_reply": "2021-06-22T14:33:44.446997Z",
     "shell.execute_reply.started": "2021-06-22T11:55:41.459018Z"
    },
    "papermill": {
     "duration": 2.209368,
     "end_time": "2021-06-22T14:33:44.447203",
     "exception": false,
     "start_time": "2021-06-22T14:33:42.237835",
     "status": "completed"
    },
    "tags": []
   },
   "outputs": [],
   "source": [
    "!ln -s ../../wsj/s5/steps\n",
    "!ln -s ../../wsj/s5/utils\n",
    "!ln -s ../../librispeech/s5/local"
   ]
  },
  {
   "cell_type": "code",
   "execution_count": 12,
   "id": "domestic-hostel",
   "metadata": {
    "execution": {
     "iopub.execute_input": "2021-06-22T14:33:44.522429Z",
     "iopub.status.busy": "2021-06-22T14:33:44.518651Z",
     "iopub.status.idle": "2021-06-22T14:33:45.245502Z",
     "shell.execute_reply": "2021-06-22T14:33:45.244872Z",
     "shell.execute_reply.started": "2021-06-22T11:55:43.77028Z"
    },
    "papermill": {
     "duration": 0.765438,
     "end_time": "2021-06-22T14:33:45.245635",
     "exception": false,
     "start_time": "2021-06-22T14:33:44.480197",
     "status": "completed"
    },
    "tags": []
   },
   "outputs": [],
   "source": [
    "!mkdir conf"
   ]
  },
  {
   "cell_type": "code",
   "execution_count": 13,
   "id": "authentic-chosen",
   "metadata": {
    "execution": {
     "iopub.execute_input": "2021-06-22T14:33:45.318459Z",
     "iopub.status.busy": "2021-06-22T14:33:45.317488Z",
     "iopub.status.idle": "2021-06-22T14:33:45.321411Z",
     "shell.execute_reply": "2021-06-22T14:33:45.321893Z",
     "shell.execute_reply.started": "2021-06-22T11:55:44.555875Z"
    },
    "papermill": {
     "duration": 0.043523,
     "end_time": "2021-06-22T14:33:45.322048",
     "exception": false,
     "start_time": "2021-06-22T14:33:45.278525",
     "status": "completed"
    },
    "tags": []
   },
   "outputs": [
    {
     "name": "stdout",
     "output_type": "stream",
     "text": [
      "Writing conf/mfcc_hires.conf\n"
     ]
    }
   ],
   "source": [
    "%%writefile conf/mfcc_hires.conf\n",
    "# config for high-resolution MFCC features, intended for neural network training\n",
    "# Note: we keep all cepstra, so it has the same info as filterbank features,\n",
    "# but MFCC is more easily compressible (because less correlated) which is why \n",
    "# we prefer this method.\n",
    "--use-energy=false   # use average of log energy, not energy.\n",
    "--num-mel-bins=40     # similar to Google's setup.\n",
    "--num-ceps=40     # there is no dimensionality reduction.\n",
    "--low-freq=20     # low cutoff frequency for mel bins... this is high-bandwidth data, so\n",
    "                  # there might be some information at the low end.\n",
    "--high-freq=-400 # high cutoff frequently, relative to Nyquist of 8000 (=7600)"
   ]
  },
  {
   "cell_type": "markdown",
   "id": "equipped-wisdom",
   "metadata": {
    "papermill": {
     "duration": 0.032855,
     "end_time": "2021-06-22T14:33:45.387910",
     "exception": false,
     "start_time": "2021-06-22T14:33:45.355055",
     "status": "completed"
    },
    "tags": []
   },
   "source": [
    "## Setting up paths\n",
    "\n",
    "(In the scripts, you just source `path.sh`)"
   ]
  },
  {
   "cell_type": "code",
   "execution_count": 14,
   "id": "hawaiian-registrar",
   "metadata": {
    "execution": {
     "iopub.execute_input": "2021-06-22T14:33:45.459485Z",
     "iopub.status.busy": "2021-06-22T14:33:45.458870Z",
     "iopub.status.idle": "2021-06-22T14:33:45.462886Z",
     "shell.execute_reply": "2021-06-22T14:33:45.462260Z",
     "shell.execute_reply.started": "2021-06-22T11:55:44.565547Z"
    },
    "papermill": {
     "duration": 0.042054,
     "end_time": "2021-06-22T14:33:45.463020",
     "exception": false,
     "start_time": "2021-06-22T14:33:45.420966",
     "status": "completed"
    },
    "tags": []
   },
   "outputs": [
    {
     "name": "stdout",
     "output_type": "stream",
     "text": [
      "env: KALDI_ROOT=/opt/kaldi\n"
     ]
    }
   ],
   "source": [
    "%env KALDI_ROOT=/opt/kaldi"
   ]
  },
  {
   "cell_type": "code",
   "execution_count": 15,
   "id": "confidential-tuesday",
   "metadata": {
    "execution": {
     "iopub.execute_input": "2021-06-22T14:33:45.537960Z",
     "iopub.status.busy": "2021-06-22T14:33:45.534565Z",
     "iopub.status.idle": "2021-06-22T14:33:46.260425Z",
     "shell.execute_reply": "2021-06-22T14:33:46.259876Z",
     "shell.execute_reply.started": "2021-06-22T11:55:44.577705Z"
    },
    "papermill": {
     "duration": 0.76391,
     "end_time": "2021-06-22T14:33:46.260570",
     "exception": false,
     "start_time": "2021-06-22T14:33:45.496660",
     "status": "completed"
    },
    "tags": []
   },
   "outputs": [
    {
     "name": "stdout",
     "output_type": "stream",
     "text": [
      "export KALDI_ROOT=`pwd`/../../..\r\n",
      "[ -f $KALDI_ROOT/tools/env.sh ] && . $KALDI_ROOT/tools/env.sh\r\n",
      "export PATH=$PWD/utils/:$KALDI_ROOT/tools/openfst/bin:$PWD:$PATH\r\n",
      "[ ! -f $KALDI_ROOT/tools/config/common_path.sh ] && echo >&2 \"The standard file $KALDI_ROOT/tools/config/common_path.sh is not present -> Exit!\" && exit 1\r\n",
      ". $KALDI_ROOT/tools/config/common_path.sh\r\n",
      "export LC_ALL=C\r\n"
     ]
    }
   ],
   "source": [
    "!cat ../../wsj/s5/path.sh"
   ]
  },
  {
   "cell_type": "code",
   "execution_count": 16,
   "id": "automatic-psychiatry",
   "metadata": {
    "execution": {
     "iopub.execute_input": "2021-06-22T14:33:46.333914Z",
     "iopub.status.busy": "2021-06-22T14:33:46.333289Z",
     "iopub.status.idle": "2021-06-22T14:33:46.335753Z",
     "shell.execute_reply": "2021-06-22T14:33:46.336579Z",
     "shell.execute_reply.started": "2021-06-22T12:00:36.247262Z"
    },
    "papermill": {
     "duration": 0.042309,
     "end_time": "2021-06-22T14:33:46.336790",
     "exception": false,
     "start_time": "2021-06-22T14:33:46.294481",
     "status": "completed"
    },
    "tags": []
   },
   "outputs": [
    {
     "name": "stdout",
     "output_type": "stream",
     "text": [
      "env: LC_ALL=C\n"
     ]
    }
   ],
   "source": [
    "%env LC_ALL=C\n",
    "#PWD = !pwd\n",
    "PWD = '/opt/kaldi/egs/usels/s5'\n",
    "KALDI_ROOT = '/opt/kaldi'\n",
    "WSJ_PATH = f'{PWD}/utils/:{KALDI_ROOT}/tools/openfst/bin:{PWD}:{EXISTING_PATH}'"
   ]
  },
  {
   "cell_type": "code",
   "execution_count": 17,
   "id": "driving-flash",
   "metadata": {
    "execution": {
     "iopub.execute_input": "2021-06-22T14:33:46.408868Z",
     "iopub.status.busy": "2021-06-22T14:33:46.408262Z",
     "iopub.status.idle": "2021-06-22T14:33:47.142256Z",
     "shell.execute_reply": "2021-06-22T14:33:47.141740Z",
     "shell.execute_reply.started": "2021-06-22T11:57:02.231388Z"
    },
    "papermill": {
     "duration": 0.770319,
     "end_time": "2021-06-22T14:33:47.142412",
     "exception": false,
     "start_time": "2021-06-22T14:33:46.372093",
     "status": "completed"
    },
    "tags": []
   },
   "outputs": [
    {
     "name": "stdout",
     "output_type": "stream",
     "text": [
      "# we assume KALDI_ROOT is already defined\r\n",
      "[ -z \"$KALDI_ROOT\" ] && echo >&2 \"The variable KALDI_ROOT must be already defined\" && exit 1\r\n",
      "# The formatting of the path export command is intentionally weird, because\r\n",
      "# this allows for easy diff'ing\r\n",
      "export PATH=\\\r\n",
      "${KALDI_ROOT}/src/bin:\\\r\n",
      "${KALDI_ROOT}/src/chainbin:\\\r\n",
      "${KALDI_ROOT}/src/featbin:\\\r\n",
      "${KALDI_ROOT}/src/fgmmbin:\\\r\n",
      "${KALDI_ROOT}/src/fstbin:\\\r\n",
      "${KALDI_ROOT}/src/gmmbin:\\\r\n",
      "${KALDI_ROOT}/src/ivectorbin:\\\r\n",
      "${KALDI_ROOT}/src/kwsbin:\\\r\n",
      "${KALDI_ROOT}/src/latbin:\\\r\n",
      "${KALDI_ROOT}/src/lmbin:\\\r\n",
      "${KALDI_ROOT}/src/nnet2bin:\\\r\n",
      "${KALDI_ROOT}/src/nnet3bin:\\\r\n",
      "${KALDI_ROOT}/src/nnetbin:\\\r\n",
      "${KALDI_ROOT}/src/online2bin:\\\r\n",
      "${KALDI_ROOT}/src/onlinebin:\\\r\n",
      "${KALDI_ROOT}/src/rnnlmbin:\\\r\n",
      "${KALDI_ROOT}/src/sgmm2bin:\\\r\n",
      "${KALDI_ROOT}/src/sgmmbin:\\\r\n",
      "${KALDI_ROOT}/src/tfrnnlmbin:\\\r\n",
      "${KALDI_ROOT}/src/cudadecoderbin:\\\r\n",
      "$PATH\r\n"
     ]
    }
   ],
   "source": [
    "!cat $KALDI_ROOT/tools/config/common_path.sh"
   ]
  },
  {
   "cell_type": "code",
   "execution_count": 18,
   "id": "confused-finnish",
   "metadata": {
    "execution": {
     "iopub.execute_input": "2021-06-22T14:33:47.217083Z",
     "iopub.status.busy": "2021-06-22T14:33:47.216480Z",
     "iopub.status.idle": "2021-06-22T14:33:47.238937Z",
     "shell.execute_reply": "2021-06-22T14:33:47.238374Z",
     "shell.execute_reply.started": "2021-06-22T11:56:52.862746Z"
    },
    "papermill": {
     "duration": 0.061898,
     "end_time": "2021-06-22T14:33:47.239081",
     "exception": false,
     "start_time": "2021-06-22T14:33:47.177183",
     "status": "completed"
    },
    "tags": []
   },
   "outputs": [],
   "source": [
    "#kaldi_paths=!cat $KALDI_ROOT/tools/config/common_path.sh|grep '/src/'|awk -F':' '{print $1}'|awk -F'/' '{print $NF}'|tr '\\n' ':'\n",
    "raw_kaldi_paths=!cat $KALDI_ROOT/tools/config/common_path.sh|grep '/src/'|awk -F':' '{print $1}'|awk -F'/' '{print \"/opt/kaldi/src/\"$NF}'"
   ]
  },
  {
   "cell_type": "code",
   "execution_count": 19,
   "id": "compound-strap",
   "metadata": {
    "execution": {
     "iopub.execute_input": "2021-06-22T14:33:47.313344Z",
     "iopub.status.busy": "2021-06-22T14:33:47.312690Z",
     "iopub.status.idle": "2021-06-22T14:33:47.315691Z",
     "shell.execute_reply": "2021-06-22T14:33:47.315097Z",
     "shell.execute_reply.started": "2021-06-22T12:02:21.567242Z"
    },
    "papermill": {
     "duration": 0.042057,
     "end_time": "2021-06-22T14:33:47.315822",
     "exception": false,
     "start_time": "2021-06-22T14:33:47.273765",
     "status": "completed"
    },
    "tags": []
   },
   "outputs": [],
   "source": [
    "KALDI_PATHS=raw_kaldi_paths.nlstr.replace('\\n',':')"
   ]
  },
  {
   "cell_type": "code",
   "execution_count": 20,
   "id": "clean-enzyme",
   "metadata": {
    "execution": {
     "iopub.execute_input": "2021-06-22T14:33:47.388225Z",
     "iopub.status.busy": "2021-06-22T14:33:47.387255Z",
     "iopub.status.idle": "2021-06-22T14:33:48.110264Z",
     "shell.execute_reply": "2021-06-22T14:33:48.109715Z",
     "shell.execute_reply.started": "2021-06-22T11:56:58.4537Z"
    },
    "papermill": {
     "duration": 0.760424,
     "end_time": "2021-06-22T14:33:48.110430",
     "exception": false,
     "start_time": "2021-06-22T14:33:47.350006",
     "status": "completed"
    },
    "tags": []
   },
   "outputs": [
    {
     "name": "stdout",
     "output_type": "stream",
     "text": [
      "export PATH=/opt/kaldi/tools/python:${PATH}\r\n",
      "export PHONETISAURUS=\"/tmp/output/opt/kaldi/tools/phonetisaurus-g2p\"\r\n",
      "export PATH=\"$PATH:${PHONETISAURUS}:${PHONETISAURUS}/src/scripts\"\r\n"
     ]
    }
   ],
   "source": [
    "!cat $KALDI_ROOT/tools/env.sh"
   ]
  },
  {
   "cell_type": "code",
   "execution_count": 21,
   "id": "organized-daily",
   "metadata": {
    "execution": {
     "iopub.execute_input": "2021-06-22T14:33:48.185102Z",
     "iopub.status.busy": "2021-06-22T14:33:48.184435Z",
     "iopub.status.idle": "2021-06-22T14:33:48.187646Z",
     "shell.execute_reply": "2021-06-22T14:33:48.187017Z",
     "shell.execute_reply.started": "2021-06-22T12:02:09.80754Z"
    },
    "papermill": {
     "duration": 0.042756,
     "end_time": "2021-06-22T14:33:48.187773",
     "exception": false,
     "start_time": "2021-06-22T14:33:48.145017",
     "status": "completed"
    },
    "tags": []
   },
   "outputs": [],
   "source": [
    "PHONETISAURUS = \"/tmp/output/opt/kaldi/tools/phonetisaurus-g2p\"\n",
    "TOOLS_PATH = f'/opt/kaldi/tools/python:{PHONETISAURUS}:{PHONETISAURUS}/src/scripts'"
   ]
  },
  {
   "cell_type": "code",
   "execution_count": 22,
   "id": "public-collaboration",
   "metadata": {
    "execution": {
     "iopub.execute_input": "2021-06-22T14:33:48.262581Z",
     "iopub.status.busy": "2021-06-22T14:33:48.261801Z",
     "iopub.status.idle": "2021-06-22T14:33:48.266651Z",
     "shell.execute_reply": "2021-06-22T14:33:48.265997Z",
     "shell.execute_reply.started": "2021-06-22T12:03:04.119662Z"
    },
    "papermill": {
     "duration": 0.044337,
     "end_time": "2021-06-22T14:33:48.266797",
     "exception": false,
     "start_time": "2021-06-22T14:33:48.222460",
     "status": "completed"
    },
    "tags": []
   },
   "outputs": [
    {
     "name": "stdout",
     "output_type": "stream",
     "text": [
      "env: PATH=f\"/opt/kaldi/egs/usels/s5/utils/:/opt/kaldi/tools/openfst/bin:/opt/kaldi/egs/usels/s5:/opt/conda/bin:/usr/local/sbin:/usr/local/bin:/usr/sbin:/usr/bin:/sbin:/bin:/opt/kaldi/src/bin:/opt/kaldi/src/chainbin:/opt/kaldi/src/featbin:/opt/kaldi/src/fgmmbin:/opt/kaldi/src/fstbin:/opt/kaldi/src/gmmbin:/opt/kaldi/src/ivectorbin:/opt/kaldi/src/kwsbin:/opt/kaldi/src/latbin:/opt/kaldi/src/lmbin:/opt/kaldi/src/nnet2bin:/opt/kaldi/src/nnet3bin:/opt/kaldi/src/nnetbin:/opt/kaldi/src/online2bin:/opt/kaldi/src/onlinebin:/opt/kaldi/src/rnnlmbin:/opt/kaldi/src/sgmm2bin:/opt/kaldi/src/sgmmbin:/opt/kaldi/src/tfrnnlmbin:/opt/kaldi/src/cudadecoderbin:/opt/kaldi/tools/python:/tmp/output/opt/kaldi/tools/phonetisaurus-g2p:/tmp/output/opt/kaldi/tools/phonetisaurus-g2p/src/scripts\"\n"
     ]
    }
   ],
   "source": [
    "%env PATH = f\"{WSJ_PATH}:{KALDI_PATHS}:{TOOLS_PATH}\""
   ]
  },
  {
   "cell_type": "code",
   "execution_count": 23,
   "id": "scenic-stake",
   "metadata": {
    "execution": {
     "iopub.execute_input": "2021-06-22T14:33:48.346294Z",
     "iopub.status.busy": "2021-06-22T14:33:48.345605Z",
     "iopub.status.idle": "2021-06-22T14:33:49.078299Z",
     "shell.execute_reply": "2021-06-22T14:33:49.077632Z",
     "shell.execute_reply.started": "2021-06-22T12:16:15.76424Z"
    },
    "papermill": {
     "duration": 0.776308,
     "end_time": "2021-06-22T14:33:49.078459",
     "exception": false,
     "start_time": "2021-06-22T14:33:48.302151",
     "status": "completed"
    },
    "tags": []
   },
   "outputs": [
    {
     "name": "stdout",
     "output_type": "stream",
     "text": [
      "# you can change cmd.sh depending on what type of queue you are using.\r\n",
      "# If you have no queueing system and want to run on a local machine, you\r\n",
      "# can change all instances 'queue.pl' to run.pl (but be careful and run\r\n",
      "# commands one by one: most recipes will exhaust the memory on your\r\n",
      "# machine).  queue.pl works with GridEngine (qsub).  slurm.pl works\r\n",
      "# with slurm.  Different queues are configured differently, with different\r\n",
      "# queue names and different ways of specifying things like memory;\r\n",
      "# to account for these differences you can create and edit the file\r\n",
      "# conf/queue.conf to match your queue's configuration.  Search for\r\n",
      "# conf/queue.conf in http://kaldi-asr.org/doc/queue.html for more information,\r\n",
      "# or search for the string 'default_config' in utils/queue.pl or utils/slurm.pl.\r\n",
      "\r\n",
      "export train_cmd=queue.pl\r\n",
      "export decode_cmd=\"queue.pl --mem 2G\"\r\n",
      "# the use of cuda_cmd is deprecated, used only in 'nnet1',\r\n",
      "export cuda_cmd=\"queue.pl --gpu 1\"\r\n",
      "\r\n",
      "if [ \"$(hostname -d)\" == \"fit.vutbr.cz\" ]; then\r\n",
      "  queue_conf=$HOME/queue_conf/default.conf # see example /homes/kazi/iveselyk/queue_conf/default.conf,\r\n",
      "  export train_cmd=\"queue.pl --config $queue_conf --mem 2G --matylda 0.2\"\r\n",
      "  export decode_cmd=\"queue.pl --config $queue_conf --mem 3G --matylda 0.1\"\r\n",
      "  export cuda_cmd=\"queue.pl --config $queue_conf --gpu 1 --mem 10G --tmp 40G\"\r\n",
      "fi\r\n"
     ]
    }
   ],
   "source": [
    "!cat ../../wsj/s5/cmd.sh"
   ]
  },
  {
   "cell_type": "code",
   "execution_count": 24,
   "id": "challenging-money",
   "metadata": {
    "execution": {
     "iopub.execute_input": "2021-06-22T14:33:49.157873Z",
     "iopub.status.busy": "2021-06-22T14:33:49.157242Z",
     "iopub.status.idle": "2021-06-22T14:33:49.160356Z",
     "shell.execute_reply": "2021-06-22T14:33:49.159852Z",
     "shell.execute_reply.started": "2021-06-22T12:25:36.054695Z"
    },
    "papermill": {
     "duration": 0.044298,
     "end_time": "2021-06-22T14:33:49.160483",
     "exception": false,
     "start_time": "2021-06-22T14:33:49.116185",
     "status": "completed"
    },
    "tags": []
   },
   "outputs": [
    {
     "name": "stdout",
     "output_type": "stream",
     "text": [
      "env: train_cmd=run.pl\n",
      "env: decode_cmd=\"run.pl --mem 2G\"\n"
     ]
    }
   ],
   "source": [
    "%env train_cmd=run.pl\n",
    "%env decode_cmd=\"run.pl --mem 2G\""
   ]
  },
  {
   "cell_type": "code",
   "execution_count": 25,
   "id": "medieval-beverage",
   "metadata": {
    "execution": {
     "iopub.execute_input": "2021-06-22T14:33:49.240632Z",
     "iopub.status.busy": "2021-06-22T14:33:49.240006Z",
     "iopub.status.idle": "2021-06-22T14:33:52.123243Z",
     "shell.execute_reply": "2021-06-22T14:33:52.123824Z",
     "shell.execute_reply.started": "2021-06-22T12:25:39.332426Z"
    },
    "papermill": {
     "duration": 2.92709,
     "end_time": "2021-06-22T14:33:52.124013",
     "exception": false,
     "start_time": "2021-06-22T14:33:49.196923",
     "status": "completed"
    },
    "tags": []
   },
   "outputs": [],
   "source": [
    "!ln -s ../../wsj/s5/cmd.sh\n",
    "!ln -s ../../wsj/s5/path.sh\n",
    "!ln -s utils/queue.pl\n",
    "!ln -s utils/run.pl"
   ]
  },
  {
   "cell_type": "code",
   "execution_count": 26,
   "id": "endless-sapphire",
   "metadata": {
    "execution": {
     "iopub.execute_input": "2021-06-22T14:33:52.211262Z",
     "iopub.status.busy": "2021-06-22T14:33:52.210622Z",
     "iopub.status.idle": "2021-06-22T14:33:52.961034Z",
     "shell.execute_reply": "2021-06-22T14:33:52.960369Z",
     "shell.execute_reply.started": "2021-06-22T12:25:11.355403Z"
    },
    "papermill": {
     "duration": 0.799711,
     "end_time": "2021-06-22T14:33:52.961207",
     "exception": false,
     "start_time": "2021-06-22T14:33:52.161496",
     "status": "completed"
    },
    "tags": []
   },
   "outputs": [],
   "source": [
    "!rm *.pl"
   ]
  },
  {
   "cell_type": "markdown",
   "id": "comprehensive-injury",
   "metadata": {
    "papermill": {
     "duration": 0.036621,
     "end_time": "2021-06-22T14:33:53.034841",
     "exception": false,
     "start_time": "2021-06-22T14:33:52.998220",
     "status": "completed"
    },
    "tags": []
   },
   "source": [
    "## Data prep"
   ]
  },
  {
   "cell_type": "code",
   "execution_count": 27,
   "id": "productive-butterfly",
   "metadata": {
    "execution": {
     "iopub.execute_input": "2021-06-22T14:33:53.118092Z",
     "iopub.status.busy": "2021-06-22T14:33:53.117446Z",
     "iopub.status.idle": "2021-06-22T14:34:03.767469Z",
     "shell.execute_reply": "2021-06-22T14:34:03.766899Z",
     "shell.execute_reply.started": "2021-06-22T12:10:48.153674Z"
    },
    "papermill": {
     "duration": 10.696169,
     "end_time": "2021-06-22T14:34:03.767623",
     "exception": false,
     "start_time": "2021-06-22T14:33:53.071454",
     "status": "completed"
    },
    "tags": []
   },
   "outputs": [
    {
     "name": "stdout",
     "output_type": "stream",
     "text": [
      "utils/validate_data_dir.sh: Successfully validated data-directory data/test-other\r\n",
      "local/data_prep.sh: successfully prepared data in data/test-other\r\n",
      "utils/validate_data_dir.sh: Successfully validated data-directory data/test-clean\r\n",
      "local/data_prep.sh: successfully prepared data in data/test-clean\r\n"
     ]
    }
   ],
   "source": [
    "!local/data_prep.sh /kaggle/input/librispeech-test-clean-and-other/LibriSpeech/test-other data/test-other\n",
    "!local/data_prep.sh /kaggle/input/librispeech-test-clean-and-other/LibriSpeech/test-clean data/test-clean"
   ]
  },
  {
   "cell_type": "code",
   "execution_count": 28,
   "id": "incredible-facial",
   "metadata": {
    "execution": {
     "iopub.execute_input": "2021-06-22T14:34:03.852500Z",
     "iopub.status.busy": "2021-06-22T14:34:03.851737Z",
     "iopub.status.idle": "2021-06-22T14:34:05.861595Z",
     "shell.execute_reply": "2021-06-22T14:34:05.860659Z",
     "shell.execute_reply.started": "2021-06-22T12:12:48.716774Z"
    },
    "papermill": {
     "duration": 2.056513,
     "end_time": "2021-06-22T14:34:05.861743",
     "exception": false,
     "start_time": "2021-06-22T14:34:03.805230",
     "status": "completed"
    },
    "tags": []
   },
   "outputs": [
    {
     "name": "stdout",
     "output_type": "stream",
     "text": [
      "utils/copy_data_dir.sh: copied data from data/test-clean to data/test-clean_hires\r\n",
      "utils/validate_data_dir.sh: Successfully validated data-directory data/test-clean_hires\r\n",
      "utils/copy_data_dir.sh: copied data from data/test-other to data/test-other_hires\r\n",
      "utils/validate_data_dir.sh: Successfully validated data-directory data/test-other_hires\r\n"
     ]
    }
   ],
   "source": [
    "!utils/copy_data_dir.sh data/test-clean data/test-clean_hires\n",
    "!utils/copy_data_dir.sh data/test-other data/test-other_hires"
   ]
  },
  {
   "cell_type": "code",
   "execution_count": 29,
   "id": "interim-delta",
   "metadata": {
    "execution": {
     "iopub.execute_input": "2021-06-22T14:34:05.946823Z",
     "iopub.status.busy": "2021-06-22T14:34:05.943534Z",
     "iopub.status.idle": "2021-06-22T14:34:06.680619Z",
     "shell.execute_reply": "2021-06-22T14:34:06.679931Z",
     "shell.execute_reply.started": "2021-06-22T12:20:32.826362Z"
    },
    "papermill": {
     "duration": 0.781292,
     "end_time": "2021-06-22T14:34:06.680762",
     "exception": false,
     "start_time": "2021-06-22T14:34:05.899470",
     "status": "completed"
    },
    "tags": []
   },
   "outputs": [],
   "source": [
    "!ln -s utils/parse_options.sh"
   ]
  },
  {
   "cell_type": "code",
   "execution_count": 30,
   "id": "ranging-mexican",
   "metadata": {
    "execution": {
     "iopub.execute_input": "2021-06-22T14:34:06.776100Z",
     "iopub.status.busy": "2021-06-22T14:34:06.772171Z",
     "iopub.status.idle": "2021-06-22T14:35:29.502509Z",
     "shell.execute_reply": "2021-06-22T14:35:29.501973Z",
     "shell.execute_reply.started": "2021-06-22T12:25:44.313451Z"
    },
    "papermill": {
     "duration": 82.783479,
     "end_time": "2021-06-22T14:35:29.502660",
     "exception": false,
     "start_time": "2021-06-22T14:34:06.719181",
     "status": "completed"
    },
    "tags": []
   },
   "outputs": [
    {
     "name": "stdout",
     "output_type": "stream",
     "text": [
      "steps/make_mfcc.sh --nj 20 --mfcc-config conf/mfcc_hires.conf --cmd run.pl data/test-clean_hires\r\n",
      "utils/validate_data_dir.sh: Successfully validated data-directory data/test-clean_hires\r\n",
      "steps/make_mfcc.sh: [info]: no segments file exists: assuming wav.scp indexed by utterance.\r\n",
      "steps/make_mfcc.sh: Succeeded creating MFCC features for test-clean_hires\r\n",
      "steps/compute_cmvn_stats.sh data/test-clean_hires\r\n",
      "Succeeded creating CMVN stats for test-clean_hires\r\n",
      "fix_data_dir.sh: kept all 2620 utterances.\r\n",
      "fix_data_dir.sh: old files are kept in data/test-clean_hires/.backup\r\n",
      "steps/make_mfcc.sh --nj 20 --mfcc-config conf/mfcc_hires.conf --cmd run.pl data/test-other_hires\r\n",
      "utils/validate_data_dir.sh: Successfully validated data-directory data/test-other_hires\r\n",
      "steps/make_mfcc.sh: [info]: no segments file exists: assuming wav.scp indexed by utterance.\r\n",
      "steps/make_mfcc.sh: Succeeded creating MFCC features for test-other_hires\r\n",
      "steps/compute_cmvn_stats.sh data/test-other_hires\r\n",
      "Succeeded creating CMVN stats for test-other_hires\r\n",
      "fix_data_dir.sh: kept all 2939 utterances.\r\n",
      "fix_data_dir.sh: old files are kept in data/test-other_hires/.backup\r\n"
     ]
    }
   ],
   "source": [
    "!steps/make_mfcc.sh --nj 20 --mfcc-config conf/mfcc_hires.conf --cmd \"$train_cmd\" data/test-clean_hires\n",
    "!steps/compute_cmvn_stats.sh data/test-clean_hires\n",
    "!utils/fix_data_dir.sh data/test-clean_hires\n",
    "!steps/make_mfcc.sh --nj 20 --mfcc-config conf/mfcc_hires.conf --cmd \"$train_cmd\" data/test-other_hires\n",
    "!steps/compute_cmvn_stats.sh data/test-other_hires\n",
    "!utils/fix_data_dir.sh data/test-other_hires\n"
   ]
  },
  {
   "cell_type": "markdown",
   "id": "reasonable-police",
   "metadata": {
    "papermill": {
     "duration": 0.042978,
     "end_time": "2021-06-22T14:35:29.588671",
     "exception": false,
     "start_time": "2021-06-22T14:35:29.545693",
     "status": "completed"
    },
    "tags": []
   },
   "source": [
    "## Extract i-vectors"
   ]
  },
  {
   "cell_type": "code",
   "execution_count": 31,
   "id": "regulation-scottish",
   "metadata": {
    "execution": {
     "iopub.execute_input": "2021-06-22T14:35:29.686397Z",
     "iopub.status.busy": "2021-06-22T14:35:29.685379Z",
     "iopub.status.idle": "2021-06-22T14:35:31.123939Z",
     "shell.execute_reply": "2021-06-22T14:35:31.124535Z",
     "shell.execute_reply.started": "2021-06-22T12:38:42.072847Z"
    },
    "papermill": {
     "duration": 1.492612,
     "end_time": "2021-06-22T14:35:31.124719",
     "exception": false,
     "start_time": "2021-06-22T14:35:29.632107",
     "status": "completed"
    },
    "tags": []
   },
   "outputs": [],
   "source": [
    "!ln -s /kaggle/input/kaldi-librispeech-model/exp/nnet3_cleaned/ exp/nnet3_cleaned\n",
    "!ln -s /kaggle/input/kaldi-librispeech-model/exp/chain_cleaned/ exp/chain_cleaned"
   ]
  },
  {
   "cell_type": "code",
   "execution_count": 32,
   "id": "common-grenada",
   "metadata": {
    "execution": {
     "iopub.execute_input": "2021-06-22T14:35:31.224189Z",
     "iopub.status.busy": "2021-06-22T14:35:31.220776Z",
     "iopub.status.idle": "2021-06-22T14:36:40.390573Z",
     "shell.execute_reply": "2021-06-22T14:36:40.391074Z",
     "shell.execute_reply.started": "2021-06-22T12:44:16.329652Z"
    },
    "papermill": {
     "duration": 69.223279,
     "end_time": "2021-06-22T14:36:40.391265",
     "exception": false,
     "start_time": "2021-06-22T14:35:31.167986",
     "status": "completed"
    },
    "tags": []
   },
   "outputs": [
    {
     "name": "stdout",
     "output_type": "stream",
     "text": [
      "env: nspk=$(wc -l <data/test-clean_hires/spk2utt)\n",
      "steps/online/nnet2/extract_ivectors_online.sh --cmd run.pl --nj $(wc -l <data/test-clean_hires/spk2utt) data/test-clean_hires exp/nnet3_cleaned/extractor exp/nnet3_cleaned_out/ivectors_test-clean_hires\r\n",
      "steps/online/nnet2/extract_ivectors_online.sh: extracting iVectors\r\n",
      "steps/online/nnet2/extract_ivectors_online.sh: combining iVectors across jobs\r\n",
      "steps/online/nnet2/extract_ivectors_online.sh: done extracting (online) iVectors to exp/nnet3_cleaned_out/ivectors_test-clean_hires using the extractor in exp/nnet3_cleaned/extractor.\r\n",
      "env: nspk=$(wc -l <data/test-other_hires/spk2utt)\n",
      "steps/online/nnet2/extract_ivectors_online.sh --cmd run.pl --nj $(wc -l <data/test-other_hires/spk2utt) data/test-other_hires exp/nnet3_cleaned/extractor exp/nnet3_cleaned_out/ivectors_test-other_hires\r\n",
      "steps/online/nnet2/extract_ivectors_online.sh: extracting iVectors\r\n",
      "steps/online/nnet2/extract_ivectors_online.sh: combining iVectors across jobs\r\n",
      "steps/online/nnet2/extract_ivectors_online.sh: done extracting (online) iVectors to exp/nnet3_cleaned_out/ivectors_test-other_hires using the extractor in exp/nnet3_cleaned/extractor.\r\n"
     ]
    }
   ],
   "source": [
    "%env nspk=$(wc -l <data/test-clean_hires/spk2utt)\n",
    "!steps/online/nnet2/extract_ivectors_online.sh --cmd \"$train_cmd\" --nj \"${nspk}\" data/test-clean_hires exp/nnet3_cleaned/extractor exp/nnet3_cleaned_out/ivectors_test-clean_hires\n",
    "%env nspk=$(wc -l <data/test-other_hires/spk2utt)\n",
    "!steps/online/nnet2/extract_ivectors_online.sh --cmd \"$train_cmd\" --nj \"${nspk}\" data/test-other_hires exp/nnet3_cleaned/extractor exp/nnet3_cleaned_out/ivectors_test-other_hires"
   ]
  },
  {
   "cell_type": "markdown",
   "id": "eleven-caution",
   "metadata": {
    "papermill": {
     "duration": 0.04526,
     "end_time": "2021-06-22T14:36:40.481744",
     "exception": false,
     "start_time": "2021-06-22T14:36:40.436484",
     "status": "completed"
    },
    "tags": []
   },
   "source": [
    "## Build decoding graph"
   ]
  },
  {
   "cell_type": "markdown",
   "id": "surprising-terrace",
   "metadata": {
    "papermill": {
     "duration": 0.045329,
     "end_time": "2021-06-22T14:36:40.572391",
     "exception": false,
     "start_time": "2021-06-22T14:36:40.527062",
     "status": "completed"
    },
    "tags": []
   },
   "source": [
    "Just linking this directory won't work, as it expects to be able to write to it (Kaldi scripts, smh)"
   ]
  },
  {
   "cell_type": "code",
   "execution_count": 33,
   "id": "objective-grass",
   "metadata": {
    "execution": {
     "iopub.execute_input": "2021-06-22T14:36:40.672159Z",
     "iopub.status.busy": "2021-06-22T14:36:40.668569Z",
     "iopub.status.idle": "2021-06-22T14:36:43.457559Z",
     "shell.execute_reply": "2021-06-22T14:36:43.456866Z"
    },
    "papermill": {
     "duration": 2.839783,
     "end_time": "2021-06-22T14:36:43.457694",
     "exception": false,
     "start_time": "2021-06-22T14:36:40.617911",
     "status": "completed"
    },
    "tags": []
   },
   "outputs": [],
   "source": [
    "!cp -r /kaggle/input/kaldi-librispeech-model/data/lang_test_tgsmall data"
   ]
  },
  {
   "cell_type": "code",
   "execution_count": 34,
   "id": "roman-activity",
   "metadata": {
    "execution": {
     "iopub.execute_input": "2021-06-22T14:36:43.562175Z",
     "iopub.status.busy": "2021-06-22T14:36:43.561398Z",
     "iopub.status.idle": "2021-06-22T14:39:51.522693Z",
     "shell.execute_reply": "2021-06-22T14:39:51.521406Z"
    },
    "papermill": {
     "duration": 188.01828,
     "end_time": "2021-06-22T14:39:51.522863",
     "exception": false,
     "start_time": "2021-06-22T14:36:43.504583",
     "status": "completed"
    },
    "tags": []
   },
   "outputs": [
    {
     "name": "stdout",
     "output_type": "stream",
     "text": [
      "env: dir=exp/chain_cleaned/tdnn_1d_sp\n",
      "env: graph_dir=exp/chain_cleaned_out/graph_tgsmall\n",
      "tree-info exp/chain_cleaned/tdnn_1d_sp/tree \r\n",
      "tree-info exp/chain_cleaned/tdnn_1d_sp/tree \r\n",
      "fstpushspecial \r\n",
      "fstminimizeencoded \r\n",
      "fstdeterminizestar --use-log=true \r\n",
      "fsttablecompose data/lang_test_tgsmall/L_disambig.fst data/lang_test_tgsmall/G.fst \r\n",
      "fstisstochastic data/lang_test_tgsmall/tmp/LG.fst \r\n",
      "-0.0459745 -0.0466771\r\n",
      "[info]: LG not stochastic.\r\n",
      "fstcomposecontext --context-size=2 --central-position=1 --read-disambig-syms=data/lang_test_tgsmall/phones/disambig.int --write-disambig-syms=data/lang_test_tgsmall/tmp/disambig_ilabels_2_1.int data/lang_test_tgsmall/tmp/ilabels_2_1.113735 data/lang_test_tgsmall/tmp/LG.fst \r\n",
      "fstisstochastic data/lang_test_tgsmall/tmp/CLG_2_1.fst \r\n",
      "-0.0459745 -0.0466771\r\n",
      "[info]: CLG not stochastic.\r\n",
      "make-h-transducer --disambig-syms-out=exp/chain_cleaned_out/graph_tgsmall/disambig_tid.int --transition-scale=1.0 data/lang_test_tgsmall/tmp/ilabels_2_1 exp/chain_cleaned/tdnn_1d_sp/tree exp/chain_cleaned/tdnn_1d_sp/final.mdl \r\n",
      "fsttablecompose exp/chain_cleaned_out/graph_tgsmall/Ha.fst 'fstrmsymbols --remove-arcs=true --apply-to-output=true data/lang_test_tgsmall/oov.int data/lang_test_tgsmall/tmp/CLG_2_1.fst|' \r\n",
      "fstrmsymbols exp/chain_cleaned_out/graph_tgsmall/disambig_tid.int \r\n",
      "fstrmepslocal \r\n",
      "fstdeterminizestar --use-log=true \r\n",
      "fstminimizeencoded \r\n",
      "fstrmsymbols --remove-arcs=true --apply-to-output=true data/lang_test_tgsmall/oov.int data/lang_test_tgsmall/tmp/CLG_2_1.fst \r\n",
      "fstisstochastic exp/chain_cleaned_out/graph_tgsmall/HCLGa.fst \r\n",
      "3.39453 -0.209239\r\n",
      "HCLGa is not stochastic\r\n",
      "add-self-loops --self-loop-scale=1.0 --reorder=true exp/chain_cleaned/tdnn_1d_sp/final.mdl exp/chain_cleaned_out/graph_tgsmall/HCLGa.fst \r\n",
      "fstisstochastic exp/chain_cleaned_out/graph_tgsmall/HCLG.fst \r\n",
      "3.05078 -0.127788\r\n",
      "[info]: final HCLG is not stochastic.\r\n"
     ]
    }
   ],
   "source": [
    "%env dir=exp/chain_cleaned/tdnn_1d_sp\n",
    "%env graph_dir=exp/chain_cleaned_out/graph_tgsmall\n",
    "!utils/mkgraph.sh --self-loop-scale 1.0 --remove-oov data/lang_test_tgsmall $dir $graph_dir"
   ]
  },
  {
   "cell_type": "markdown",
   "id": "threaded-fleece",
   "metadata": {
    "papermill": {
     "duration": 0.052493,
     "end_time": "2021-06-22T14:39:51.631416",
     "exception": false,
     "start_time": "2021-06-22T14:39:51.578923",
     "status": "completed"
    },
    "tags": []
   },
   "source": [
    "## Decode"
   ]
  },
  {
   "cell_type": "code",
   "execution_count": 35,
   "id": "amateur-mistress",
   "metadata": {
    "execution": {
     "iopub.execute_input": "2021-06-22T14:39:51.747716Z",
     "iopub.status.busy": "2021-06-22T14:39:51.743729Z",
     "iopub.status.idle": "2021-06-22T14:39:53.292736Z",
     "shell.execute_reply": "2021-06-22T14:39:53.292161Z"
    },
    "papermill": {
     "duration": 1.609063,
     "end_time": "2021-06-22T14:39:53.292886",
     "exception": false,
     "start_time": "2021-06-22T14:39:51.683823",
     "status": "completed"
    },
    "tags": []
   },
   "outputs": [
    {
     "name": "stdout",
     "output_type": "stream",
     "text": [
      "steps/nnet3/decode.sh --acwt 1.0 --post-decode-acwt 10.0 --nj 8 --cmd \"run.pl --mem 2G\" --online-ivector-dir exp/nnet3_cleaned/ivectors_test-clean_hires exp/chain_cleaned_out/graph_tgsmall data/test-clean_hires exp/chain_cleaned/tdnn_1d_sp/decode_test-clean_tgsmall\r\n",
      "utils/parse_options.sh: line 78: --mem: command not found\r\n",
      "steps/nnet2/check_ivectors_compatible.sh: WARNING: One of the directories do not contain iVector ID.\r\n",
      "steps/nnet2/check_ivectors_compatible.sh: WARNING: That means it's you who's reponsible for keeping \r\n",
      "steps/nnet2/check_ivectors_compatible.sh: WARNING: the directories compatible\r\n",
      "steps/nnet3/decode.sh: no such file exp/nnet3_cleaned/ivectors_test-clean_hires/ivector_online.scp\r\n",
      "steps/nnet3/decode.sh --acwt 1.0 --post-decode-acwt 10.0 --nj 8 --cmd \"run.pl --mem 2G\" --online-ivector-dir exp/nnet3_cleaned/ivectors_test-other_hires exp/chain_cleaned_out/graph_tgsmall data/test-other_hires exp/chain_cleaned/tdnn_1d_sp/decode_test-other_tgsmall\r\n",
      "utils/parse_options.sh: line 78: --mem: command not found\r\n",
      "steps/nnet2/check_ivectors_compatible.sh: WARNING: One of the directories do not contain iVector ID.\r\n",
      "steps/nnet2/check_ivectors_compatible.sh: WARNING: That means it's you who's reponsible for keeping \r\n",
      "steps/nnet2/check_ivectors_compatible.sh: WARNING: the directories compatible\r\n",
      "steps/nnet3/decode.sh: no such file exp/nnet3_cleaned/ivectors_test-other_hires/ivector_online.scp\r\n"
     ]
    }
   ],
   "source": [
    "!steps/nnet3/decode.sh --acwt 1.0 --post-decode-acwt 10.0 --nj 8 --cmd \"$decode_cmd\" --online-ivector-dir exp/nnet3_cleaned/ivectors_test-clean_hires $graph_dir data/test-clean_hires $dir/decode_test-clean_tgsmall\n",
    "!steps/nnet3/decode.sh --acwt 1.0 --post-decode-acwt 10.0 --nj 8 --cmd \"$decode_cmd\" --online-ivector-dir exp/nnet3_cleaned/ivectors_test-other_hires $graph_dir data/test-other_hires $dir/decode_test-other_tgsmall"
   ]
  },
  {
   "cell_type": "markdown",
   "id": "general-tourist",
   "metadata": {
    "papermill": {
     "duration": 0.051629,
     "end_time": "2021-06-22T14:39:53.398012",
     "exception": false,
     "start_time": "2021-06-22T14:39:53.346383",
     "status": "completed"
    },
    "tags": []
   },
   "source": [
    "## "
   ]
  }
 ],
 "metadata": {
  "kernelspec": {
   "display_name": "Python 3",
   "language": "python",
   "name": "python3"
  },
  "language_info": {
   "codemirror_mode": {
    "name": "ipython",
    "version": 3
   },
   "file_extension": ".py",
   "mimetype": "text/x-python",
   "name": "python",
   "nbconvert_exporter": "python",
   "pygments_lexer": "ipython3",
   "version": "3.7.10"
  },
  "papermill": {
   "default_parameters": {},
   "duration": 485.752893,
   "end_time": "2021-06-22T14:39:54.058878",
   "environment_variables": {},
   "exception": null,
   "input_path": "__notebook__.ipynb",
   "output_path": "__notebook__.ipynb",
   "parameters": {},
   "start_time": "2021-06-22T14:31:48.305985",
   "version": "2.3.3"
  }
 },
 "nbformat": 4,
 "nbformat_minor": 5
}
