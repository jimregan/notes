{
 "cells": [
  {
   "cell_type": "markdown",
   "id": "beneficial-plumbing",
   "metadata": {
    "papermill": {
     "duration": 0.039833,
     "end_time": "2021-06-23T13:07:47.828695",
     "exception": false,
     "start_time": "2021-06-23T13:07:47.788862",
     "status": "completed"
    },
    "tags": []
   },
   "source": [
    "## Unpack Kaldi"
   ]
  },
  {
   "cell_type": "code",
   "execution_count": 1,
   "id": "moral-assets",
   "metadata": {
    "_cell_guid": "b1076dfc-b9ad-4769-8c92-a6c4dae69d19",
    "_uuid": "8f2839f25d086af736a60e9eeb907d3b93b6e0e5",
    "execution": {
     "iopub.execute_input": "2021-06-23T13:07:47.921987Z",
     "iopub.status.busy": "2021-06-23T13:07:47.921183Z",
     "iopub.status.idle": "2021-06-23T13:07:47.926962Z",
     "shell.execute_reply": "2021-06-23T13:07:47.927821Z",
     "shell.execute_reply.started": "2021-06-22T11:54:50.153353Z"
    },
    "papermill": {
     "duration": 0.060302,
     "end_time": "2021-06-23T13:07:47.928400",
     "exception": false,
     "start_time": "2021-06-23T13:07:47.868098",
     "status": "completed"
    },
    "tags": []
   },
   "outputs": [
    {
     "name": "stdout",
     "output_type": "stream",
     "text": [
      "/opt\n"
     ]
    }
   ],
   "source": [
    "%cd /opt"
   ]
  },
  {
   "cell_type": "code",
   "execution_count": 2,
   "id": "threaded-exercise",
   "metadata": {
    "execution": {
     "iopub.execute_input": "2021-06-23T13:07:48.027981Z",
     "iopub.status.busy": "2021-06-23T13:07:48.027107Z",
     "iopub.status.idle": "2021-06-23T13:08:34.529744Z",
     "shell.execute_reply": "2021-06-23T13:08:34.530506Z",
     "shell.execute_reply.started": "2021-06-22T11:54:53.255442Z"
    },
    "papermill": {
     "duration": 46.562938,
     "end_time": "2021-06-23T13:08:34.531064",
     "exception": false,
     "start_time": "2021-06-23T13:07:47.968126",
     "status": "completed"
    },
    "tags": []
   },
   "outputs": [],
   "source": [
    "%%capture\n",
    "!tar xvf /kaggle/input/extract-prebuilt-kaldi-from-docker/kaldi.tar"
   ]
  },
  {
   "cell_type": "code",
   "execution_count": 3,
   "id": "complex-mountain",
   "metadata": {
    "execution": {
     "iopub.execute_input": "2021-06-23T13:08:34.908785Z",
     "iopub.status.busy": "2021-06-23T13:08:34.908094Z",
     "iopub.status.idle": "2021-06-23T13:08:34.911196Z",
     "shell.execute_reply": "2021-06-23T13:08:34.910651Z",
     "shell.execute_reply.started": "2021-06-22T11:55:40.60018Z"
    },
    "papermill": {
     "duration": 0.049676,
     "end_time": "2021-06-23T13:08:34.911354",
     "exception": false,
     "start_time": "2021-06-23T13:08:34.861678",
     "status": "completed"
    },
    "tags": []
   },
   "outputs": [],
   "source": [
    "import os\n",
    "os.environ['LD_LIBRARY_PATH'] = '/opt/conda/lib:/opt/kaldi/tools/openfst-1.6.7/lib:/opt/kaldi/src/lib:'\n",
    "EXISTING_PATH = os.environ['PATH']"
   ]
  },
  {
   "cell_type": "code",
   "execution_count": 4,
   "id": "adequate-instrumentation",
   "metadata": {
    "execution": {
     "iopub.execute_input": "2021-06-23T13:08:34.991997Z",
     "iopub.status.busy": "2021-06-23T13:08:34.991194Z",
     "iopub.status.idle": "2021-06-23T13:08:34.997791Z",
     "shell.execute_reply": "2021-06-23T13:08:34.998366Z"
    },
    "papermill": {
     "duration": 0.049963,
     "end_time": "2021-06-23T13:08:34.998568",
     "exception": false,
     "start_time": "2021-06-23T13:08:34.948605",
     "status": "completed"
    },
    "tags": []
   },
   "outputs": [
    {
     "name": "stdout",
     "output_type": "stream",
     "text": [
      "/\n"
     ]
    }
   ],
   "source": [
    "%cd /\n"
   ]
  },
  {
   "cell_type": "code",
   "execution_count": 5,
   "id": "broadband-relationship",
   "metadata": {
    "execution": {
     "iopub.execute_input": "2021-06-23T13:08:35.078686Z",
     "iopub.status.busy": "2021-06-23T13:08:35.077932Z",
     "iopub.status.idle": "2021-06-23T13:09:15.052599Z",
     "shell.execute_reply": "2021-06-23T13:09:15.053123Z"
    },
    "papermill": {
     "duration": 40.01633,
     "end_time": "2021-06-23T13:09:15.053365",
     "exception": false,
     "start_time": "2021-06-23T13:08:35.037035",
     "status": "completed"
    },
    "tags": []
   },
   "outputs": [],
   "source": [
    "%%capture\n",
    "!tar xvf /kaggle/input/extract-cuda-from-kaldi-docker/cuda.tar"
   ]
  },
  {
   "cell_type": "code",
   "execution_count": 6,
   "id": "dominant-distributor",
   "metadata": {
    "execution": {
     "iopub.execute_input": "2021-06-23T13:09:15.134601Z",
     "iopub.status.busy": "2021-06-23T13:09:15.133883Z",
     "iopub.status.idle": "2021-06-23T13:09:15.138266Z",
     "shell.execute_reply": "2021-06-23T13:09:15.138805Z",
     "shell.execute_reply.started": "2021-06-22T13:29:47.085695Z"
    },
    "papermill": {
     "duration": 0.046931,
     "end_time": "2021-06-23T13:09:15.139000",
     "exception": false,
     "start_time": "2021-06-23T13:09:15.092069",
     "status": "completed"
    },
    "tags": []
   },
   "outputs": [],
   "source": [
    "import os\n",
    "os.environ['LD_LIBRARY_PATH'] = f'{os.environ[\"LD_LIBRARY_PATH\"]}:/usr/local/cuda-10.0/targets/x86_64-linux/lib/'"
   ]
  },
  {
   "cell_type": "code",
   "execution_count": 7,
   "id": "distinguished-street",
   "metadata": {
    "execution": {
     "iopub.execute_input": "2021-06-23T13:09:15.218828Z",
     "iopub.status.busy": "2021-06-23T13:09:15.218163Z",
     "iopub.status.idle": "2021-06-23T13:09:15.224137Z",
     "shell.execute_reply": "2021-06-23T13:09:15.224646Z",
     "shell.execute_reply.started": "2021-06-22T11:55:40.610869Z"
    },
    "papermill": {
     "duration": 0.047938,
     "end_time": "2021-06-23T13:09:15.224824",
     "exception": false,
     "start_time": "2021-06-23T13:09:15.176886",
     "status": "completed"
    },
    "tags": []
   },
   "outputs": [
    {
     "name": "stdout",
     "output_type": "stream",
     "text": [
      "/opt/kaldi/egs\n"
     ]
    }
   ],
   "source": [
    "%cd /opt/kaldi/egs"
   ]
  },
  {
   "cell_type": "markdown",
   "id": "biological-bradley",
   "metadata": {
    "papermill": {
     "duration": 0.038284,
     "end_time": "2021-06-23T13:09:15.301441",
     "exception": false,
     "start_time": "2021-06-23T13:09:15.263157",
     "status": "completed"
    },
    "tags": []
   },
   "source": [
    "## Install flac"
   ]
  },
  {
   "cell_type": "code",
   "execution_count": 8,
   "id": "arranged-vampire",
   "metadata": {
    "execution": {
     "iopub.execute_input": "2021-06-23T13:09:15.381554Z",
     "iopub.status.busy": "2021-06-23T13:09:15.380851Z",
     "iopub.status.idle": "2021-06-23T13:09:21.239841Z",
     "shell.execute_reply": "2021-06-23T13:09:21.239324Z",
     "shell.execute_reply.started": "2021-06-22T12:06:36.222984Z"
    },
    "papermill": {
     "duration": 5.900413,
     "end_time": "2021-06-23T13:09:21.239989",
     "exception": false,
     "start_time": "2021-06-23T13:09:15.339576",
     "status": "completed"
    },
    "tags": []
   },
   "outputs": [],
   "source": [
    "%%capture\n",
    "!apt install -y flac"
   ]
  },
  {
   "cell_type": "markdown",
   "id": "imposed-silicon",
   "metadata": {
    "papermill": {
     "duration": 0.038311,
     "end_time": "2021-06-23T13:09:21.316280",
     "exception": false,
     "start_time": "2021-06-23T13:09:21.277969",
     "status": "completed"
    },
    "tags": []
   },
   "source": [
    "## Create a work directory"
   ]
  },
  {
   "cell_type": "code",
   "execution_count": 9,
   "id": "generous-glory",
   "metadata": {
    "execution": {
     "iopub.execute_input": "2021-06-23T13:09:21.399684Z",
     "iopub.status.busy": "2021-06-23T13:09:21.398650Z",
     "iopub.status.idle": "2021-06-23T13:09:22.130571Z",
     "shell.execute_reply": "2021-06-23T13:09:22.129910Z",
     "shell.execute_reply.started": "2021-06-22T11:55:40.659251Z"
    },
    "papermill": {
     "duration": 0.776628,
     "end_time": "2021-06-23T13:09:22.130751",
     "exception": false,
     "start_time": "2021-06-23T13:09:21.354123",
     "status": "completed"
    },
    "tags": []
   },
   "outputs": [
    {
     "name": "stdout",
     "output_type": "stream",
     "text": [
      "/opt/kaldi/egs/usels/s5\n"
     ]
    }
   ],
   "source": [
    "!mkdir -p usels/s5\n",
    "%cd usels/s5"
   ]
  },
  {
   "cell_type": "code",
   "execution_count": 10,
   "id": "abandoned-afternoon",
   "metadata": {
    "execution": {
     "iopub.execute_input": "2021-06-23T13:09:22.222287Z",
     "iopub.status.busy": "2021-06-23T13:09:22.218369Z",
     "iopub.status.idle": "2021-06-23T13:09:25.129839Z",
     "shell.execute_reply": "2021-06-23T13:09:25.130324Z",
     "shell.execute_reply.started": "2021-06-22T12:08:43.066673Z"
    },
    "papermill": {
     "duration": 2.960357,
     "end_time": "2021-06-23T13:09:25.130540",
     "exception": false,
     "start_time": "2021-06-23T13:09:22.170183",
     "status": "completed"
    },
    "tags": []
   },
   "outputs": [],
   "source": [
    "!mkdir /kaggle/working/data\n",
    "!mkdir /kaggle/working/exp\n",
    "!ln -s /kaggle/working/data\n",
    "!ln -s /kaggle/working/exp"
   ]
  },
  {
   "cell_type": "code",
   "execution_count": 11,
   "id": "agreed-tuesday",
   "metadata": {
    "execution": {
     "iopub.execute_input": "2021-06-23T13:09:25.215745Z",
     "iopub.status.busy": "2021-06-23T13:09:25.215011Z",
     "iopub.status.idle": "2021-06-23T13:09:27.414199Z",
     "shell.execute_reply": "2021-06-23T13:09:27.414726Z",
     "shell.execute_reply.started": "2021-06-22T11:55:41.459018Z"
    },
    "papermill": {
     "duration": 2.245834,
     "end_time": "2021-06-23T13:09:27.414933",
     "exception": false,
     "start_time": "2021-06-23T13:09:25.169099",
     "status": "completed"
    },
    "tags": []
   },
   "outputs": [],
   "source": [
    "!ln -s ../../wsj/s5/steps\n",
    "!ln -s ../../wsj/s5/utils\n",
    "!ln -s ../../librispeech/s5/local"
   ]
  },
  {
   "cell_type": "code",
   "execution_count": 12,
   "id": "overall-grant",
   "metadata": {
    "execution": {
     "iopub.execute_input": "2021-06-23T13:09:27.496541Z",
     "iopub.status.busy": "2021-06-23T13:09:27.495817Z",
     "iopub.status.idle": "2021-06-23T13:09:28.218458Z",
     "shell.execute_reply": "2021-06-23T13:09:28.217846Z",
     "shell.execute_reply.started": "2021-06-22T11:55:43.77028Z"
    },
    "papermill": {
     "duration": 0.764716,
     "end_time": "2021-06-23T13:09:28.218614",
     "exception": false,
     "start_time": "2021-06-23T13:09:27.453898",
     "status": "completed"
    },
    "tags": []
   },
   "outputs": [],
   "source": [
    "!mkdir conf"
   ]
  },
  {
   "cell_type": "code",
   "execution_count": 13,
   "id": "pressing-princeton",
   "metadata": {
    "execution": {
     "iopub.execute_input": "2021-06-23T13:09:28.303973Z",
     "iopub.status.busy": "2021-06-23T13:09:28.303000Z",
     "iopub.status.idle": "2021-06-23T13:09:28.309584Z",
     "shell.execute_reply": "2021-06-23T13:09:28.308403Z",
     "shell.execute_reply.started": "2021-06-22T11:55:44.555875Z"
    },
    "papermill": {
     "duration": 0.052476,
     "end_time": "2021-06-23T13:09:28.309805",
     "exception": false,
     "start_time": "2021-06-23T13:09:28.257329",
     "status": "completed"
    },
    "tags": []
   },
   "outputs": [
    {
     "name": "stdout",
     "output_type": "stream",
     "text": [
      "Writing conf/mfcc_hires.conf\n"
     ]
    }
   ],
   "source": [
    "%%writefile conf/mfcc_hires.conf\n",
    "# config for high-resolution MFCC features, intended for neural network training\n",
    "# Note: we keep all cepstra, so it has the same info as filterbank features,\n",
    "# but MFCC is more easily compressible (because less correlated) which is why \n",
    "# we prefer this method.\n",
    "--use-energy=false   # use average of log energy, not energy.\n",
    "--num-mel-bins=40     # similar to Google's setup.\n",
    "--num-ceps=40     # there is no dimensionality reduction.\n",
    "--low-freq=20     # low cutoff frequency for mel bins... this is high-bandwidth data, so\n",
    "                  # there might be some information at the low end.\n",
    "--high-freq=-400 # high cutoff frequently, relative to Nyquist of 8000 (=7600)"
   ]
  },
  {
   "cell_type": "markdown",
   "id": "cardiac-abuse",
   "metadata": {
    "papermill": {
     "duration": 0.038758,
     "end_time": "2021-06-23T13:09:28.388431",
     "exception": false,
     "start_time": "2021-06-23T13:09:28.349673",
     "status": "completed"
    },
    "tags": []
   },
   "source": [
    "## Setting up paths\n",
    "\n",
    "(In the scripts, you just source `path.sh`)"
   ]
  },
  {
   "cell_type": "code",
   "execution_count": 14,
   "id": "soviet-norwegian",
   "metadata": {
    "execution": {
     "iopub.execute_input": "2021-06-23T13:09:28.474854Z",
     "iopub.status.busy": "2021-06-23T13:09:28.473894Z",
     "iopub.status.idle": "2021-06-23T13:09:28.479083Z",
     "shell.execute_reply": "2021-06-23T13:09:28.478453Z",
     "shell.execute_reply.started": "2021-06-22T11:55:44.565547Z"
    },
    "papermill": {
     "duration": 0.050525,
     "end_time": "2021-06-23T13:09:28.479251",
     "exception": false,
     "start_time": "2021-06-23T13:09:28.428726",
     "status": "completed"
    },
    "tags": []
   },
   "outputs": [
    {
     "name": "stdout",
     "output_type": "stream",
     "text": [
      "env: KALDI_ROOT=/opt/kaldi\n"
     ]
    }
   ],
   "source": [
    "%env KALDI_ROOT=/opt/kaldi"
   ]
  },
  {
   "cell_type": "code",
   "execution_count": 15,
   "id": "electoral-glossary",
   "metadata": {
    "execution": {
     "iopub.execute_input": "2021-06-23T13:09:28.565443Z",
     "iopub.status.busy": "2021-06-23T13:09:28.564778Z",
     "iopub.status.idle": "2021-06-23T13:09:29.298874Z",
     "shell.execute_reply": "2021-06-23T13:09:29.299413Z",
     "shell.execute_reply.started": "2021-06-22T11:55:44.577705Z"
    },
    "papermill": {
     "duration": 0.780196,
     "end_time": "2021-06-23T13:09:29.299651",
     "exception": false,
     "start_time": "2021-06-23T13:09:28.519455",
     "status": "completed"
    },
    "tags": []
   },
   "outputs": [
    {
     "name": "stdout",
     "output_type": "stream",
     "text": [
      "export KALDI_ROOT=`pwd`/../../..\r\n",
      "[ -f $KALDI_ROOT/tools/env.sh ] && . $KALDI_ROOT/tools/env.sh\r\n",
      "export PATH=$PWD/utils/:$KALDI_ROOT/tools/openfst/bin:$PWD:$PATH\r\n",
      "[ ! -f $KALDI_ROOT/tools/config/common_path.sh ] && echo >&2 \"The standard file $KALDI_ROOT/tools/config/common_path.sh is not present -> Exit!\" && exit 1\r\n",
      ". $KALDI_ROOT/tools/config/common_path.sh\r\n",
      "export LC_ALL=C\r\n"
     ]
    }
   ],
   "source": [
    "!cat ../../wsj/s5/path.sh"
   ]
  },
  {
   "cell_type": "code",
   "execution_count": 16,
   "id": "elegant-concert",
   "metadata": {
    "execution": {
     "iopub.execute_input": "2021-06-23T13:09:29.384166Z",
     "iopub.status.busy": "2021-06-23T13:09:29.383465Z",
     "iopub.status.idle": "2021-06-23T13:09:29.391205Z",
     "shell.execute_reply": "2021-06-23T13:09:29.390520Z",
     "shell.execute_reply.started": "2021-06-22T12:00:36.247262Z"
    },
    "papermill": {
     "duration": 0.05136,
     "end_time": "2021-06-23T13:09:29.391408",
     "exception": false,
     "start_time": "2021-06-23T13:09:29.340048",
     "status": "completed"
    },
    "tags": []
   },
   "outputs": [
    {
     "name": "stdout",
     "output_type": "stream",
     "text": [
      "env: LC_ALL=C\n"
     ]
    }
   ],
   "source": [
    "%env LC_ALL=C\n",
    "#PWD = !pwd\n",
    "PWD = '/opt/kaldi/egs/usels/s5'\n",
    "KALDI_ROOT = '/opt/kaldi'\n",
    "WSJ_PATH = f'{PWD}/utils/:{KALDI_ROOT}/tools/openfst/bin:{PWD}:{EXISTING_PATH}'"
   ]
  },
  {
   "cell_type": "code",
   "execution_count": 17,
   "id": "funky-startup",
   "metadata": {
    "execution": {
     "iopub.execute_input": "2021-06-23T13:09:29.480818Z",
     "iopub.status.busy": "2021-06-23T13:09:29.477370Z",
     "iopub.status.idle": "2021-06-23T13:09:30.200402Z",
     "shell.execute_reply": "2021-06-23T13:09:30.199803Z",
     "shell.execute_reply.started": "2021-06-22T11:57:02.231388Z"
    },
    "papermill": {
     "duration": 0.768109,
     "end_time": "2021-06-23T13:09:30.200550",
     "exception": false,
     "start_time": "2021-06-23T13:09:29.432441",
     "status": "completed"
    },
    "tags": []
   },
   "outputs": [
    {
     "name": "stdout",
     "output_type": "stream",
     "text": [
      "# we assume KALDI_ROOT is already defined\r\n",
      "[ -z \"$KALDI_ROOT\" ] && echo >&2 \"The variable KALDI_ROOT must be already defined\" && exit 1\r\n",
      "# The formatting of the path export command is intentionally weird, because\r\n",
      "# this allows for easy diff'ing\r\n",
      "export PATH=\\\r\n",
      "${KALDI_ROOT}/src/bin:\\\r\n",
      "${KALDI_ROOT}/src/chainbin:\\\r\n",
      "${KALDI_ROOT}/src/featbin:\\\r\n",
      "${KALDI_ROOT}/src/fgmmbin:\\\r\n",
      "${KALDI_ROOT}/src/fstbin:\\\r\n",
      "${KALDI_ROOT}/src/gmmbin:\\\r\n",
      "${KALDI_ROOT}/src/ivectorbin:\\\r\n",
      "${KALDI_ROOT}/src/kwsbin:\\\r\n",
      "${KALDI_ROOT}/src/latbin:\\\r\n",
      "${KALDI_ROOT}/src/lmbin:\\\r\n",
      "${KALDI_ROOT}/src/nnet2bin:\\\r\n",
      "${KALDI_ROOT}/src/nnet3bin:\\\r\n",
      "${KALDI_ROOT}/src/nnetbin:\\\r\n",
      "${KALDI_ROOT}/src/online2bin:\\\r\n",
      "${KALDI_ROOT}/src/onlinebin:\\\r\n",
      "${KALDI_ROOT}/src/rnnlmbin:\\\r\n",
      "${KALDI_ROOT}/src/sgmm2bin:\\\r\n",
      "${KALDI_ROOT}/src/sgmmbin:\\\r\n",
      "${KALDI_ROOT}/src/tfrnnlmbin:\\\r\n",
      "${KALDI_ROOT}/src/cudadecoderbin:\\\r\n",
      "$PATH\r\n"
     ]
    }
   ],
   "source": [
    "!cat $KALDI_ROOT/tools/config/common_path.sh"
   ]
  },
  {
   "cell_type": "code",
   "execution_count": 18,
   "id": "antique-soccer",
   "metadata": {
    "execution": {
     "iopub.execute_input": "2021-06-23T13:09:30.288482Z",
     "iopub.status.busy": "2021-06-23T13:09:30.287792Z",
     "iopub.status.idle": "2021-06-23T13:09:30.310810Z",
     "shell.execute_reply": "2021-06-23T13:09:30.310132Z",
     "shell.execute_reply.started": "2021-06-22T11:56:52.862746Z"
    },
    "papermill": {
     "duration": 0.070217,
     "end_time": "2021-06-23T13:09:30.310988",
     "exception": false,
     "start_time": "2021-06-23T13:09:30.240771",
     "status": "completed"
    },
    "tags": []
   },
   "outputs": [],
   "source": [
    "#kaldi_paths=!cat $KALDI_ROOT/tools/config/common_path.sh|grep '/src/'|awk -F':' '{print $1}'|awk -F'/' '{print $NF}'|tr '\\n' ':'\n",
    "raw_kaldi_paths=!cat $KALDI_ROOT/tools/config/common_path.sh|grep '/src/'|awk -F':' '{print $1}'|awk -F'/' '{print \"/opt/kaldi/src/\"$NF}'"
   ]
  },
  {
   "cell_type": "code",
   "execution_count": 19,
   "id": "random-alert",
   "metadata": {
    "execution": {
     "iopub.execute_input": "2021-06-23T13:09:30.401164Z",
     "iopub.status.busy": "2021-06-23T13:09:30.400532Z",
     "iopub.status.idle": "2021-06-23T13:09:30.403843Z",
     "shell.execute_reply": "2021-06-23T13:09:30.403322Z",
     "shell.execute_reply.started": "2021-06-22T12:02:21.567242Z"
    },
    "papermill": {
     "duration": 0.050684,
     "end_time": "2021-06-23T13:09:30.403999",
     "exception": false,
     "start_time": "2021-06-23T13:09:30.353315",
     "status": "completed"
    },
    "tags": []
   },
   "outputs": [],
   "source": [
    "KALDI_PATHS=raw_kaldi_paths.nlstr.replace('\\n',':')"
   ]
  },
  {
   "cell_type": "code",
   "execution_count": 20,
   "id": "distinct-thought",
   "metadata": {
    "execution": {
     "iopub.execute_input": "2021-06-23T13:09:30.496746Z",
     "iopub.status.busy": "2021-06-23T13:09:30.496090Z",
     "iopub.status.idle": "2021-06-23T13:09:31.213686Z",
     "shell.execute_reply": "2021-06-23T13:09:31.214172Z",
     "shell.execute_reply.started": "2021-06-22T11:56:58.4537Z"
    },
    "papermill": {
     "duration": 0.769453,
     "end_time": "2021-06-23T13:09:31.214392",
     "exception": false,
     "start_time": "2021-06-23T13:09:30.444939",
     "status": "completed"
    },
    "tags": []
   },
   "outputs": [
    {
     "name": "stdout",
     "output_type": "stream",
     "text": [
      "export PATH=/opt/kaldi/tools/python:${PATH}\r\n",
      "export PHONETISAURUS=\"/tmp/output/opt/kaldi/tools/phonetisaurus-g2p\"\r\n",
      "export PATH=\"$PATH:${PHONETISAURUS}:${PHONETISAURUS}/src/scripts\"\r\n"
     ]
    }
   ],
   "source": [
    "!cat $KALDI_ROOT/tools/env.sh"
   ]
  },
  {
   "cell_type": "code",
   "execution_count": 21,
   "id": "inappropriate-mortality",
   "metadata": {
    "execution": {
     "iopub.execute_input": "2021-06-23T13:09:31.302479Z",
     "iopub.status.busy": "2021-06-23T13:09:31.301478Z",
     "iopub.status.idle": "2021-06-23T13:09:31.305896Z",
     "shell.execute_reply": "2021-06-23T13:09:31.306348Z",
     "shell.execute_reply.started": "2021-06-22T12:02:09.80754Z"
    },
    "papermill": {
     "duration": 0.050056,
     "end_time": "2021-06-23T13:09:31.306539",
     "exception": false,
     "start_time": "2021-06-23T13:09:31.256483",
     "status": "completed"
    },
    "tags": []
   },
   "outputs": [],
   "source": [
    "PHONETISAURUS = \"/tmp/output/opt/kaldi/tools/phonetisaurus-g2p\"\n",
    "TOOLS_PATH = f'/opt/kaldi/tools/python:{PHONETISAURUS}:{PHONETISAURUS}/src/scripts'"
   ]
  },
  {
   "cell_type": "code",
   "execution_count": 22,
   "id": "close-thirty",
   "metadata": {
    "execution": {
     "iopub.execute_input": "2021-06-23T13:09:31.392828Z",
     "iopub.status.busy": "2021-06-23T13:09:31.391849Z",
     "iopub.status.idle": "2021-06-23T13:09:31.399562Z",
     "shell.execute_reply": "2021-06-23T13:09:31.398710Z",
     "shell.execute_reply.started": "2021-06-22T12:03:04.119662Z"
    },
    "papermill": {
     "duration": 0.05225,
     "end_time": "2021-06-23T13:09:31.399766",
     "exception": false,
     "start_time": "2021-06-23T13:09:31.347516",
     "status": "completed"
    },
    "tags": []
   },
   "outputs": [
    {
     "name": "stdout",
     "output_type": "stream",
     "text": [
      "env: PATH=f\"/opt/kaldi/egs/usels/s5/utils/:/opt/kaldi/tools/openfst/bin:/opt/kaldi/egs/usels/s5:/opt/conda/bin:/usr/local/sbin:/usr/local/bin:/usr/sbin:/usr/bin:/sbin:/bin:/opt/kaldi/src/bin:/opt/kaldi/src/chainbin:/opt/kaldi/src/featbin:/opt/kaldi/src/fgmmbin:/opt/kaldi/src/fstbin:/opt/kaldi/src/gmmbin:/opt/kaldi/src/ivectorbin:/opt/kaldi/src/kwsbin:/opt/kaldi/src/latbin:/opt/kaldi/src/lmbin:/opt/kaldi/src/nnet2bin:/opt/kaldi/src/nnet3bin:/opt/kaldi/src/nnetbin:/opt/kaldi/src/online2bin:/opt/kaldi/src/onlinebin:/opt/kaldi/src/rnnlmbin:/opt/kaldi/src/sgmm2bin:/opt/kaldi/src/sgmmbin:/opt/kaldi/src/tfrnnlmbin:/opt/kaldi/src/cudadecoderbin:/opt/kaldi/tools/python:/tmp/output/opt/kaldi/tools/phonetisaurus-g2p:/tmp/output/opt/kaldi/tools/phonetisaurus-g2p/src/scripts\"\n"
     ]
    }
   ],
   "source": [
    "%env PATH = f\"{WSJ_PATH}:{KALDI_PATHS}:{TOOLS_PATH}\""
   ]
  },
  {
   "cell_type": "code",
   "execution_count": 23,
   "id": "psychological-gates",
   "metadata": {
    "execution": {
     "iopub.execute_input": "2021-06-23T13:09:31.488862Z",
     "iopub.status.busy": "2021-06-23T13:09:31.487984Z",
     "iopub.status.idle": "2021-06-23T13:09:32.207561Z",
     "shell.execute_reply": "2021-06-23T13:09:32.208146Z",
     "shell.execute_reply.started": "2021-06-22T12:16:15.76424Z"
    },
    "papermill": {
     "duration": 0.766077,
     "end_time": "2021-06-23T13:09:32.208356",
     "exception": false,
     "start_time": "2021-06-23T13:09:31.442279",
     "status": "completed"
    },
    "tags": []
   },
   "outputs": [
    {
     "name": "stdout",
     "output_type": "stream",
     "text": [
      "# you can change cmd.sh depending on what type of queue you are using.\r\n",
      "# If you have no queueing system and want to run on a local machine, you\r\n",
      "# can change all instances 'queue.pl' to run.pl (but be careful and run\r\n",
      "# commands one by one: most recipes will exhaust the memory on your\r\n",
      "# machine).  queue.pl works with GridEngine (qsub).  slurm.pl works\r\n",
      "# with slurm.  Different queues are configured differently, with different\r\n",
      "# queue names and different ways of specifying things like memory;\r\n",
      "# to account for these differences you can create and edit the file\r\n",
      "# conf/queue.conf to match your queue's configuration.  Search for\r\n",
      "# conf/queue.conf in http://kaldi-asr.org/doc/queue.html for more information,\r\n",
      "# or search for the string 'default_config' in utils/queue.pl or utils/slurm.pl.\r\n",
      "\r\n",
      "export train_cmd=queue.pl\r\n",
      "export decode_cmd=\"queue.pl --mem 2G\"\r\n",
      "# the use of cuda_cmd is deprecated, used only in 'nnet1',\r\n",
      "export cuda_cmd=\"queue.pl --gpu 1\"\r\n",
      "\r\n",
      "if [ \"$(hostname -d)\" == \"fit.vutbr.cz\" ]; then\r\n",
      "  queue_conf=$HOME/queue_conf/default.conf # see example /homes/kazi/iveselyk/queue_conf/default.conf,\r\n",
      "  export train_cmd=\"queue.pl --config $queue_conf --mem 2G --matylda 0.2\"\r\n",
      "  export decode_cmd=\"queue.pl --config $queue_conf --mem 3G --matylda 0.1\"\r\n",
      "  export cuda_cmd=\"queue.pl --config $queue_conf --gpu 1 --mem 10G --tmp 40G\"\r\n",
      "fi\r\n"
     ]
    }
   ],
   "source": [
    "!cat ../../wsj/s5/cmd.sh"
   ]
  },
  {
   "cell_type": "code",
   "execution_count": 24,
   "id": "manufactured-culture",
   "metadata": {
    "execution": {
     "iopub.execute_input": "2021-06-23T13:09:32.295140Z",
     "iopub.status.busy": "2021-06-23T13:09:32.294506Z",
     "iopub.status.idle": "2021-06-23T13:09:32.302968Z",
     "shell.execute_reply": "2021-06-23T13:09:32.302440Z",
     "shell.execute_reply.started": "2021-06-22T12:25:36.054695Z"
    },
    "papermill": {
     "duration": 0.05314,
     "end_time": "2021-06-23T13:09:32.303100",
     "exception": false,
     "start_time": "2021-06-23T13:09:32.249960",
     "status": "completed"
    },
    "tags": []
   },
   "outputs": [
    {
     "name": "stdout",
     "output_type": "stream",
     "text": [
      "env: train_cmd=run.pl\n",
      "env: decode_cmd=run.pl\n"
     ]
    }
   ],
   "source": [
    "%env train_cmd=run.pl\n",
    "%env decode_cmd=run.pl"
   ]
  },
  {
   "cell_type": "code",
   "execution_count": 25,
   "id": "imported-soldier",
   "metadata": {
    "execution": {
     "iopub.execute_input": "2021-06-23T13:09:32.396074Z",
     "iopub.status.busy": "2021-06-23T13:09:32.395442Z",
     "iopub.status.idle": "2021-06-23T13:09:35.293869Z",
     "shell.execute_reply": "2021-06-23T13:09:35.292934Z",
     "shell.execute_reply.started": "2021-06-22T12:25:39.332426Z"
    },
    "papermill": {
     "duration": 2.949387,
     "end_time": "2021-06-23T13:09:35.294022",
     "exception": false,
     "start_time": "2021-06-23T13:09:32.344635",
     "status": "completed"
    },
    "tags": []
   },
   "outputs": [],
   "source": [
    "!ln -s ../../wsj/s5/cmd.sh\n",
    "!ln -s ../../wsj/s5/path.sh\n",
    "!ln -s utils/queue.pl\n",
    "!ln -s utils/run.pl"
   ]
  },
  {
   "cell_type": "code",
   "execution_count": 26,
   "id": "overall-mineral",
   "metadata": {
    "execution": {
     "iopub.execute_input": "2021-06-23T13:09:35.388561Z",
     "iopub.status.busy": "2021-06-23T13:09:35.383714Z",
     "iopub.status.idle": "2021-06-23T13:09:36.118514Z",
     "shell.execute_reply": "2021-06-23T13:09:36.119023Z",
     "shell.execute_reply.started": "2021-06-22T12:25:11.355403Z"
    },
    "papermill": {
     "duration": 0.783092,
     "end_time": "2021-06-23T13:09:36.119243",
     "exception": false,
     "start_time": "2021-06-23T13:09:35.336151",
     "status": "completed"
    },
    "tags": []
   },
   "outputs": [],
   "source": [
    "!rm *.pl"
   ]
  },
  {
   "cell_type": "markdown",
   "id": "racial-effectiveness",
   "metadata": {
    "papermill": {
     "duration": 0.041451,
     "end_time": "2021-06-23T13:09:36.202686",
     "exception": false,
     "start_time": "2021-06-23T13:09:36.161235",
     "status": "completed"
    },
    "tags": []
   },
   "source": [
    "## Data prep"
   ]
  },
  {
   "cell_type": "code",
   "execution_count": 27,
   "id": "deadly-palestinian",
   "metadata": {
    "execution": {
     "iopub.execute_input": "2021-06-23T13:09:36.291573Z",
     "iopub.status.busy": "2021-06-23T13:09:36.290904Z",
     "iopub.status.idle": "2021-06-23T13:09:50.601257Z",
     "shell.execute_reply": "2021-06-23T13:09:50.600548Z",
     "shell.execute_reply.started": "2021-06-22T12:10:48.153674Z"
    },
    "papermill": {
     "duration": 14.356418,
     "end_time": "2021-06-23T13:09:50.601406",
     "exception": false,
     "start_time": "2021-06-23T13:09:36.244988",
     "status": "completed"
    },
    "tags": []
   },
   "outputs": [
    {
     "name": "stdout",
     "output_type": "stream",
     "text": [
      "utils/validate_data_dir.sh: Successfully validated data-directory data/test-other\r\n",
      "local/data_prep.sh: successfully prepared data in data/test-other\r\n",
      "utils/validate_data_dir.sh: Successfully validated data-directory data/test-clean\r\n",
      "local/data_prep.sh: successfully prepared data in data/test-clean\r\n"
     ]
    }
   ],
   "source": [
    "!local/data_prep.sh /kaggle/input/librispeech-test-clean-and-other/LibriSpeech/test-other data/test-other\n",
    "!local/data_prep.sh /kaggle/input/librispeech-test-clean-and-other/LibriSpeech/test-clean data/test-clean"
   ]
  },
  {
   "cell_type": "code",
   "execution_count": 28,
   "id": "white-fiction",
   "metadata": {
    "execution": {
     "iopub.execute_input": "2021-06-23T13:09:50.695844Z",
     "iopub.status.busy": "2021-06-23T13:09:50.695184Z",
     "iopub.status.idle": "2021-06-23T13:09:52.776407Z",
     "shell.execute_reply": "2021-06-23T13:09:52.775701Z",
     "shell.execute_reply.started": "2021-06-22T12:12:48.716774Z"
    },
    "papermill": {
     "duration": 2.131773,
     "end_time": "2021-06-23T13:09:52.776564",
     "exception": false,
     "start_time": "2021-06-23T13:09:50.644791",
     "status": "completed"
    },
    "tags": []
   },
   "outputs": [
    {
     "name": "stdout",
     "output_type": "stream",
     "text": [
      "utils/copy_data_dir.sh: copied data from data/test-clean to data/test-clean_hires\r\n",
      "utils/validate_data_dir.sh: Successfully validated data-directory data/test-clean_hires\r\n",
      "utils/copy_data_dir.sh: copied data from data/test-other to data/test-other_hires\r\n",
      "utils/validate_data_dir.sh: Successfully validated data-directory data/test-other_hires\r\n"
     ]
    }
   ],
   "source": [
    "!utils/copy_data_dir.sh data/test-clean data/test-clean_hires\n",
    "!utils/copy_data_dir.sh data/test-other data/test-other_hires"
   ]
  },
  {
   "cell_type": "code",
   "execution_count": 29,
   "id": "faced-floor",
   "metadata": {
    "execution": {
     "iopub.execute_input": "2021-06-23T13:09:52.876617Z",
     "iopub.status.busy": "2021-06-23T13:09:52.872161Z",
     "iopub.status.idle": "2021-06-23T13:09:53.594035Z",
     "shell.execute_reply": "2021-06-23T13:09:53.593419Z",
     "shell.execute_reply.started": "2021-06-22T12:20:32.826362Z"
    },
    "papermill": {
     "duration": 0.772843,
     "end_time": "2021-06-23T13:09:53.594205",
     "exception": false,
     "start_time": "2021-06-23T13:09:52.821362",
     "status": "completed"
    },
    "tags": []
   },
   "outputs": [],
   "source": [
    "!ln -s utils/parse_options.sh"
   ]
  },
  {
   "cell_type": "code",
   "execution_count": 30,
   "id": "subtle-staff",
   "metadata": {
    "execution": {
     "iopub.execute_input": "2021-06-23T13:09:53.698582Z",
     "iopub.status.busy": "2021-06-23T13:09:53.697836Z",
     "iopub.status.idle": "2021-06-23T13:11:22.879572Z",
     "shell.execute_reply": "2021-06-23T13:11:22.878776Z",
     "shell.execute_reply.started": "2021-06-22T12:25:44.313451Z"
    },
    "papermill": {
     "duration": 89.24103,
     "end_time": "2021-06-23T13:11:22.879772",
     "exception": false,
     "start_time": "2021-06-23T13:09:53.638742",
     "status": "completed"
    },
    "tags": []
   },
   "outputs": [
    {
     "name": "stdout",
     "output_type": "stream",
     "text": [
      "steps/make_mfcc.sh --nj 20 --mfcc-config conf/mfcc_hires.conf --cmd run.pl data/test-clean_hires\r\n",
      "utils/validate_data_dir.sh: Successfully validated data-directory data/test-clean_hires\r\n",
      "steps/make_mfcc.sh: [info]: no segments file exists: assuming wav.scp indexed by utterance.\r\n",
      "steps/make_mfcc.sh: Succeeded creating MFCC features for test-clean_hires\r\n",
      "steps/compute_cmvn_stats.sh data/test-clean_hires\r\n",
      "Succeeded creating CMVN stats for test-clean_hires\r\n",
      "fix_data_dir.sh: kept all 2620 utterances.\r\n",
      "fix_data_dir.sh: old files are kept in data/test-clean_hires/.backup\r\n",
      "steps/make_mfcc.sh --nj 20 --mfcc-config conf/mfcc_hires.conf --cmd run.pl data/test-other_hires\r\n",
      "utils/validate_data_dir.sh: Successfully validated data-directory data/test-other_hires\r\n",
      "steps/make_mfcc.sh: [info]: no segments file exists: assuming wav.scp indexed by utterance.\r\n",
      "steps/make_mfcc.sh: Succeeded creating MFCC features for test-other_hires\r\n",
      "steps/compute_cmvn_stats.sh data/test-other_hires\r\n",
      "Succeeded creating CMVN stats for test-other_hires\r\n",
      "fix_data_dir.sh: kept all 2939 utterances.\r\n",
      "fix_data_dir.sh: old files are kept in data/test-other_hires/.backup\r\n"
     ]
    }
   ],
   "source": [
    "!steps/make_mfcc.sh --nj 20 --mfcc-config conf/mfcc_hires.conf --cmd \"$train_cmd\" data/test-clean_hires\n",
    "!steps/compute_cmvn_stats.sh data/test-clean_hires\n",
    "!utils/fix_data_dir.sh data/test-clean_hires\n",
    "!steps/make_mfcc.sh --nj 20 --mfcc-config conf/mfcc_hires.conf --cmd \"$train_cmd\" data/test-other_hires\n",
    "!steps/compute_cmvn_stats.sh data/test-other_hires\n",
    "!utils/fix_data_dir.sh data/test-other_hires\n"
   ]
  },
  {
   "cell_type": "markdown",
   "id": "visible-commitment",
   "metadata": {
    "papermill": {
     "duration": 0.048566,
     "end_time": "2021-06-23T13:11:22.977717",
     "exception": false,
     "start_time": "2021-06-23T13:11:22.929151",
     "status": "completed"
    },
    "tags": []
   },
   "source": [
    "## Extract i-vectors"
   ]
  },
  {
   "cell_type": "code",
   "execution_count": 31,
   "id": "fifteen-training",
   "metadata": {
    "execution": {
     "iopub.execute_input": "2021-06-23T13:11:23.087930Z",
     "iopub.status.busy": "2021-06-23T13:11:23.087201Z",
     "iopub.status.idle": "2021-06-23T13:11:24.517790Z",
     "shell.execute_reply": "2021-06-23T13:11:24.517233Z",
     "shell.execute_reply.started": "2021-06-22T12:38:42.072847Z"
    },
    "papermill": {
     "duration": 1.491679,
     "end_time": "2021-06-23T13:11:24.517954",
     "exception": false,
     "start_time": "2021-06-23T13:11:23.026275",
     "status": "completed"
    },
    "tags": []
   },
   "outputs": [],
   "source": [
    "!ln -s /kaggle/input/kaldi-librispeech-model/exp/nnet3_cleaned/ exp/nnet3_cleaned\n",
    "!ln -s /kaggle/input/kaldi-librispeech-model/exp/chain_cleaned/ exp/chain_cleaned"
   ]
  },
  {
   "cell_type": "code",
   "execution_count": 32,
   "id": "cloudy-theme",
   "metadata": {
    "execution": {
     "iopub.execute_input": "2021-06-23T13:11:24.635509Z",
     "iopub.status.busy": "2021-06-23T13:11:24.629199Z",
     "iopub.status.idle": "2021-06-23T13:12:40.510062Z",
     "shell.execute_reply": "2021-06-23T13:12:40.509430Z",
     "shell.execute_reply.started": "2021-06-22T12:44:16.329652Z"
    },
    "papermill": {
     "duration": 75.943784,
     "end_time": "2021-06-23T13:12:40.510266",
     "exception": false,
     "start_time": "2021-06-23T13:11:24.566482",
     "status": "completed"
    },
    "tags": []
   },
   "outputs": [
    {
     "name": "stdout",
     "output_type": "stream",
     "text": [
      "env: nspk=$(wc -l <data/test-clean_hires/spk2utt)\n",
      "steps/online/nnet2/extract_ivectors_online.sh --cmd run.pl --nj $(wc -l <data/test-clean_hires/spk2utt) data/test-clean_hires exp/nnet3_cleaned/extractor exp/nnet3_cleaned_out/ivectors_test-clean_hires\r\n",
      "steps/online/nnet2/extract_ivectors_online.sh: extracting iVectors\r\n",
      "steps/online/nnet2/extract_ivectors_online.sh: combining iVectors across jobs\r\n",
      "steps/online/nnet2/extract_ivectors_online.sh: done extracting (online) iVectors to exp/nnet3_cleaned_out/ivectors_test-clean_hires using the extractor in exp/nnet3_cleaned/extractor.\r\n",
      "env: nspk=$(wc -l <data/test-other_hires/spk2utt)\n",
      "steps/online/nnet2/extract_ivectors_online.sh --cmd run.pl --nj $(wc -l <data/test-other_hires/spk2utt) data/test-other_hires exp/nnet3_cleaned/extractor exp/nnet3_cleaned_out/ivectors_test-other_hires\r\n",
      "steps/online/nnet2/extract_ivectors_online.sh: extracting iVectors\r\n",
      "steps/online/nnet2/extract_ivectors_online.sh: combining iVectors across jobs\r\n",
      "steps/online/nnet2/extract_ivectors_online.sh: done extracting (online) iVectors to exp/nnet3_cleaned_out/ivectors_test-other_hires using the extractor in exp/nnet3_cleaned/extractor.\r\n"
     ]
    }
   ],
   "source": [
    "%env nspk=$(wc -l <data/test-clean_hires/spk2utt)\n",
    "!steps/online/nnet2/extract_ivectors_online.sh --cmd \"$train_cmd\" --nj \"${nspk}\" data/test-clean_hires exp/nnet3_cleaned/extractor exp/nnet3_cleaned_out/ivectors_test-clean_hires\n",
    "%env nspk=$(wc -l <data/test-other_hires/spk2utt)\n",
    "!steps/online/nnet2/extract_ivectors_online.sh --cmd \"$train_cmd\" --nj \"${nspk}\" data/test-other_hires exp/nnet3_cleaned/extractor exp/nnet3_cleaned_out/ivectors_test-other_hires"
   ]
  },
  {
   "cell_type": "markdown",
   "id": "academic-image",
   "metadata": {
    "papermill": {
     "duration": 0.051532,
     "end_time": "2021-06-23T13:12:40.614009",
     "exception": false,
     "start_time": "2021-06-23T13:12:40.562477",
     "status": "completed"
    },
    "tags": []
   },
   "source": [
    "## Build decoding graph"
   ]
  },
  {
   "cell_type": "markdown",
   "id": "aquatic-companion",
   "metadata": {
    "papermill": {
     "duration": 0.051681,
     "end_time": "2021-06-23T13:12:40.717510",
     "exception": false,
     "start_time": "2021-06-23T13:12:40.665829",
     "status": "completed"
    },
    "tags": []
   },
   "source": [
    "Just linking this directory won't work, as it expects to be able to write to it (Kaldi scripts, smh)"
   ]
  },
  {
   "cell_type": "code",
   "execution_count": 33,
   "id": "secure-orleans",
   "metadata": {
    "execution": {
     "iopub.execute_input": "2021-06-23T13:12:40.829721Z",
     "iopub.status.busy": "2021-06-23T13:12:40.828740Z",
     "iopub.status.idle": "2021-06-23T13:12:43.489577Z",
     "shell.execute_reply": "2021-06-23T13:12:43.488770Z"
    },
    "papermill": {
     "duration": 2.720115,
     "end_time": "2021-06-23T13:12:43.489749",
     "exception": false,
     "start_time": "2021-06-23T13:12:40.769634",
     "status": "completed"
    },
    "tags": []
   },
   "outputs": [],
   "source": [
    "!cp -r /kaggle/input/kaldi-librispeech-model/data/lang_test_tgsmall data"
   ]
  },
  {
   "cell_type": "code",
   "execution_count": 34,
   "id": "assigned-flash",
   "metadata": {
    "execution": {
     "iopub.execute_input": "2021-06-23T13:12:43.608743Z",
     "iopub.status.busy": "2021-06-23T13:12:43.607950Z",
     "iopub.status.idle": "2021-06-23T13:15:59.094397Z",
     "shell.execute_reply": "2021-06-23T13:15:59.093641Z"
    },
    "papermill": {
     "duration": 195.551657,
     "end_time": "2021-06-23T13:15:59.094614",
     "exception": false,
     "start_time": "2021-06-23T13:12:43.542957",
     "status": "completed"
    },
    "tags": []
   },
   "outputs": [
    {
     "name": "stdout",
     "output_type": "stream",
     "text": [
      "env: tdnndir=exp/chain_cleaned/tdnn_1d_sp\n",
      "env: graph_dir=exp/chain_cleaned_out/graph_tgsmall\n",
      "tree-info exp/chain_cleaned/tdnn_1d_sp/tree \r\n",
      "tree-info exp/chain_cleaned/tdnn_1d_sp/tree \r\n",
      "fstpushspecial \r\n",
      "fstdeterminizestar --use-log=true \r\n",
      "fstminimizeencoded \r\n",
      "fsttablecompose data/lang_test_tgsmall/L_disambig.fst data/lang_test_tgsmall/G.fst \r\n",
      "fstisstochastic data/lang_test_tgsmall/tmp/LG.fst \r\n",
      "-0.0459745 -0.0466771\r\n",
      "[info]: LG not stochastic.\r\n",
      "fstcomposecontext --context-size=2 --central-position=1 --read-disambig-syms=data/lang_test_tgsmall/phones/disambig.int --write-disambig-syms=data/lang_test_tgsmall/tmp/disambig_ilabels_2_1.int data/lang_test_tgsmall/tmp/ilabels_2_1.113735 data/lang_test_tgsmall/tmp/LG.fst \r\n",
      "fstisstochastic data/lang_test_tgsmall/tmp/CLG_2_1.fst \r\n",
      "-0.0459745 -0.0466771\r\n",
      "[info]: CLG not stochastic.\r\n",
      "make-h-transducer --disambig-syms-out=exp/chain_cleaned_out/graph_tgsmall/disambig_tid.int --transition-scale=1.0 data/lang_test_tgsmall/tmp/ilabels_2_1 exp/chain_cleaned/tdnn_1d_sp/tree exp/chain_cleaned/tdnn_1d_sp/final.mdl \r\n",
      "fstdeterminizestar --use-log=true \r\n",
      "fsttablecompose exp/chain_cleaned_out/graph_tgsmall/Ha.fst 'fstrmsymbols --remove-arcs=true --apply-to-output=true data/lang_test_tgsmall/oov.int data/lang_test_tgsmall/tmp/CLG_2_1.fst|' \r\n",
      "fstminimizeencoded \r\n",
      "fstrmsymbols exp/chain_cleaned_out/graph_tgsmall/disambig_tid.int \r\n",
      "fstrmepslocal \r\n",
      "fstrmsymbols --remove-arcs=true --apply-to-output=true data/lang_test_tgsmall/oov.int data/lang_test_tgsmall/tmp/CLG_2_1.fst \r\n",
      "fstisstochastic exp/chain_cleaned_out/graph_tgsmall/HCLGa.fst \r\n",
      "3.39453 -0.209239\r\n",
      "HCLGa is not stochastic\r\n",
      "add-self-loops --self-loop-scale=1.0 --reorder=true exp/chain_cleaned/tdnn_1d_sp/final.mdl exp/chain_cleaned_out/graph_tgsmall/HCLGa.fst \r\n",
      "fstisstochastic exp/chain_cleaned_out/graph_tgsmall/HCLG.fst \r\n",
      "3.05078 -0.127788\r\n",
      "[info]: final HCLG is not stochastic.\r\n"
     ]
    }
   ],
   "source": [
    "%env tdnndir=exp/chain_cleaned/tdnn_1d_sp\n",
    "%env graph_dir=exp/chain_cleaned_out/graph_tgsmall\n",
    "!utils/mkgraph.sh --self-loop-scale 1.0 --remove-oov data/lang_test_tgsmall $tdnndir $graph_dir"
   ]
  },
  {
   "cell_type": "markdown",
   "id": "sealed-ordinance",
   "metadata": {
    "papermill": {
     "duration": 0.057381,
     "end_time": "2021-06-23T13:15:59.209973",
     "exception": false,
     "start_time": "2021-06-23T13:15:59.152592",
     "status": "completed"
    },
    "tags": []
   },
   "source": [
    "## Decode"
   ]
  },
  {
   "cell_type": "code",
   "execution_count": 35,
   "id": "seven-nickel",
   "metadata": {
    "execution": {
     "iopub.execute_input": "2021-06-23T13:15:59.336781Z",
     "iopub.status.busy": "2021-06-23T13:15:59.335709Z",
     "iopub.status.idle": "2021-06-23T13:16:00.821436Z",
     "shell.execute_reply": "2021-06-23T13:16:00.821994Z"
    },
    "papermill": {
     "duration": 1.554311,
     "end_time": "2021-06-23T13:16:00.822227",
     "exception": false,
     "start_time": "2021-06-23T13:15:59.267916",
     "status": "completed"
    },
    "tags": []
   },
   "outputs": [
    {
     "name": "stdout",
     "output_type": "stream",
     "text": [
      "/kaggle/working/exp/tdnn_1d_sp\n",
      "/opt/kaldi/egs/usels/s5\n",
      "popd -> /opt/kaldi/egs/usels/s5\n"
     ]
    }
   ],
   "source": [
    "!mkdir exp/tdnn_1d_sp\n",
    "%pushd exp/tdnn_1d_sp\n",
    "!for i in /kaggle/input/kaldi-librispeech-model/exp/chain_cleaned/tdnn_1d_sp/*;do ln -s $i;done\n",
    "%popd"
   ]
  },
  {
   "cell_type": "code",
   "execution_count": 36,
   "id": "awful-influence",
   "metadata": {
    "execution": {
     "iopub.execute_input": "2021-06-23T13:16:00.942754Z",
     "iopub.status.busy": "2021-06-23T13:16:00.942028Z",
     "iopub.status.idle": "2021-06-23T14:22:57.473031Z",
     "shell.execute_reply": "2021-06-23T14:22:57.472426Z"
    },
    "papermill": {
     "duration": 4016.592909,
     "end_time": "2021-06-23T14:22:57.473300",
     "exception": false,
     "start_time": "2021-06-23T13:16:00.880391",
     "status": "completed"
    },
    "tags": []
   },
   "outputs": [
    {
     "name": "stdout",
     "output_type": "stream",
     "text": [
      "env: tdnndir=exp/tdnn_1d_sp\n",
      "steps/nnet3/decode.sh --acwt 1.0 --post-decode-acwt 10.0 --nj 8 --cmd run.pl --online-ivector-dir exp/nnet3_cleaned_out/ivectors_test-clean_hires exp/chain_cleaned_out/graph_tgsmall data/test-clean_hires exp/tdnn_1d_sp/decode_test-clean_tgsmall\r\n",
      "steps/nnet3/decode.sh: feature type is raw\r\n",
      "steps/diagnostic/analyze_lats.sh --cmd run.pl --iter final exp/chain_cleaned_out/graph_tgsmall exp/tdnn_1d_sp/decode_test-clean_tgsmall\r\n",
      "steps/diagnostic/analyze_lats.sh: see stats in exp/tdnn_1d_sp/decode_test-clean_tgsmall/log/analyze_alignments.log\r\n",
      "Overall, lattice depth (10,50,90-percentile)=(1,2,5) and mean=2.8\r\n",
      "steps/diagnostic/analyze_lats.sh: see stats in exp/tdnn_1d_sp/decode_test-clean_tgsmall/log/analyze_lattice_depth_stats.log\r\n",
      "score best paths\r\n",
      "score confidence and timing with sclite\r\n",
      "Decoding done.\r\n",
      "steps/nnet3/decode.sh --acwt 1.0 --post-decode-acwt 10.0 --nj 8 --cmd run.pl --online-ivector-dir exp/nnet3_cleaned_out/ivectors_test-other_hires exp/chain_cleaned_out/graph_tgsmall data/test-other_hires exp/tdnn_1d_sp/decode_test-other_tgsmall\r\n",
      "steps/nnet3/decode.sh: feature type is raw\r\n",
      "steps/diagnostic/analyze_lats.sh --cmd run.pl --iter final exp/chain_cleaned_out/graph_tgsmall exp/tdnn_1d_sp/decode_test-other_tgsmall\r\n",
      "steps/diagnostic/analyze_lats.sh: see stats in exp/tdnn_1d_sp/decode_test-other_tgsmall/log/analyze_alignments.log\r\n",
      "Overall, lattice depth (10,50,90-percentile)=(1,3,13) and mean=6.3\r\n",
      "steps/diagnostic/analyze_lats.sh: see stats in exp/tdnn_1d_sp/decode_test-other_tgsmall/log/analyze_lattice_depth_stats.log\r\n",
      "score best paths\r\n",
      "score confidence and timing with sclite\r\n",
      "Decoding done.\r\n"
     ]
    }
   ],
   "source": [
    "%env tdnndir=exp/tdnn_1d_sp\n",
    "!steps/nnet3/decode.sh --acwt 1.0 --post-decode-acwt 10.0 --nj 8 --cmd \"$decode_cmd\" --online-ivector-dir exp/nnet3_cleaned_out/ivectors_test-clean_hires $graph_dir data/test-clean_hires $tdnndir/decode_test-clean_tgsmall\n",
    "!steps/nnet3/decode.sh --acwt 1.0 --post-decode-acwt 10.0 --nj 8 --cmd \"$decode_cmd\" --online-ivector-dir exp/nnet3_cleaned_out/ivectors_test-other_hires $graph_dir data/test-other_hires $tdnndir/decode_test-other_tgsmall"
   ]
  },
  {
   "cell_type": "markdown",
   "id": "compatible-minister",
   "metadata": {
    "papermill": {
     "duration": 0.062854,
     "end_time": "2021-06-23T14:22:57.598777",
     "exception": false,
     "start_time": "2021-06-23T14:22:57.535923",
     "status": "completed"
    },
    "tags": []
   },
   "source": [
    "## Score"
   ]
  },
  {
   "cell_type": "code",
   "execution_count": 37,
   "id": "waiting-giving",
   "metadata": {
    "execution": {
     "iopub.execute_input": "2021-06-23T14:22:57.840305Z",
     "iopub.status.busy": "2021-06-23T14:22:57.839335Z",
     "iopub.status.idle": "2021-06-23T14:25:20.158344Z",
     "shell.execute_reply": "2021-06-23T14:25:20.157751Z"
    },
    "papermill": {
     "duration": 142.396339,
     "end_time": "2021-06-23T14:25:20.158531",
     "exception": false,
     "start_time": "2021-06-23T14:22:57.762192",
     "status": "completed"
    },
    "tags": []
   },
   "outputs": [
    {
     "name": "stdout",
     "output_type": "stream",
     "text": [
      "steps/score_kaldi.sh --cmd run.pl data/test-clean_hires exp/chain_cleaned_out/graph_tgsmall exp/tdnn_1d_sp/decode_test-clean_tgsmall\r\n",
      "steps/score_kaldi.sh: scoring with word insertion penalty=0.0,0.5,1.0\r\n",
      "steps/score_kaldi.sh --cmd run.pl data/test-other_hires exp/chain_cleaned_out/graph_tgsmall exp/tdnn_1d_sp/decode_test-other_tgsmall\r\n",
      "steps/score_kaldi.sh: scoring with word insertion penalty=0.0,0.5,1.0\r\n"
     ]
    }
   ],
   "source": [
    "!steps/score_kaldi.sh --cmd \"run.pl\" data/test-clean_hires $graph_dir $tdnndir/decode_test-clean_tgsmall\n",
    "!steps/score_kaldi.sh --cmd \"run.pl\" data/test-other_hires $graph_dir $tdnndir/decode_test-other_tgsmall"
   ]
  },
  {
   "cell_type": "code",
   "execution_count": 38,
   "id": "previous-willow",
   "metadata": {
    "execution": {
     "iopub.execute_input": "2021-06-23T14:25:20.293867Z",
     "iopub.status.busy": "2021-06-23T14:25:20.292906Z",
     "iopub.status.idle": "2021-06-23T14:25:21.754665Z",
     "shell.execute_reply": "2021-06-23T14:25:21.754070Z"
    },
    "papermill": {
     "duration": 1.531875,
     "end_time": "2021-06-23T14:25:21.754847",
     "exception": false,
     "start_time": "2021-06-23T14:25:20.222972",
     "status": "completed"
    },
    "tags": []
   },
   "outputs": [
    {
     "name": "stdout",
     "output_type": "stream",
     "text": [
      "%WER 7.13 [ 3747 / 52576, 648 ins, 242 del, 2857 sub ] exp/tdnn_1d_sp/decode_test-clean_tgsmall/wer_17_0.5\r\n",
      "%WER 17.92 [ 9378 / 52343, 1384 ins, 723 del, 7271 sub ] exp/tdnn_1d_sp/decode_test-other_tgsmall/wer_17_1.0\r\n"
     ]
    }
   ],
   "source": [
    "!cat exp/tdnn_1d_sp/decode_test-clean_tgsmall/scoring_kaldi/best_wer\n",
    "!cat exp/tdnn_1d_sp/decode_test-other_tgsmall/scoring_kaldi/best_wer"
   ]
  },
  {
   "cell_type": "markdown",
   "id": "present-information",
   "metadata": {
    "papermill": {
     "duration": 0.064685,
     "end_time": "2021-06-23T14:25:21.884787",
     "exception": false,
     "start_time": "2021-06-23T14:25:21.820102",
     "status": "completed"
    },
    "tags": []
   },
   "source": [
    "## Rescoring"
   ]
  },
  {
   "cell_type": "code",
   "execution_count": 39,
   "id": "theoretical-crystal",
   "metadata": {
    "execution": {
     "iopub.execute_input": "2021-06-23T14:25:22.027461Z",
     "iopub.status.busy": "2021-06-23T14:25:22.021654Z",
     "iopub.status.idle": "2021-06-23T14:25:26.264777Z",
     "shell.execute_reply": "2021-06-23T14:25:26.265369Z"
    },
    "papermill": {
     "duration": 4.316892,
     "end_time": "2021-06-23T14:25:26.265588",
     "exception": false,
     "start_time": "2021-06-23T14:25:21.948696",
     "status": "completed"
    },
    "tags": []
   },
   "outputs": [],
   "source": [
    "!cp -r /kaggle/input/kaldi-librispeech-model/exp/rnnlm_lstm_1a/ exp"
   ]
  },
  {
   "cell_type": "code",
   "execution_count": 40,
   "id": "authorized-pavilion",
   "metadata": {
    "execution": {
     "iopub.execute_input": "2021-06-23T14:25:26.398895Z",
     "iopub.status.busy": "2021-06-23T14:25:26.398266Z",
     "iopub.status.idle": "2021-06-23T14:25:27.138227Z",
     "shell.execute_reply": "2021-06-23T14:25:27.137510Z"
    },
    "papermill": {
     "duration": 0.80751,
     "end_time": "2021-06-23T14:25:27.138371",
     "exception": false,
     "start_time": "2021-06-23T14:25:26.330861",
     "status": "completed"
    },
    "tags": []
   },
   "outputs": [],
   "source": [
    "!ln -s /opt/kaldi/scripts/rnnlm"
   ]
  },
  {
   "cell_type": "code",
   "execution_count": 41,
   "id": "fluid-senator",
   "metadata": {
    "execution": {
     "iopub.execute_input": "2021-06-23T14:25:27.283009Z",
     "iopub.status.busy": "2021-06-23T14:25:27.279040Z",
     "iopub.status.idle": "2021-06-23T15:14:10.730265Z",
     "shell.execute_reply": "2021-06-23T15:14:10.729500Z"
    },
    "papermill": {
     "duration": 2923.528646,
     "end_time": "2021-06-23T15:14:10.730434",
     "exception": false,
     "start_time": "2021-06-23T14:25:27.201788",
     "status": "completed"
    },
    "tags": []
   },
   "outputs": [
    {
     "name": "stdout",
     "output_type": "stream",
     "text": [
      "env: decode_dir=exp/tdnn_1d_sp/decode_test-clean_tgsmall\n",
      "rnnlm/lmrescore_pruned.sh --cmd run.pl --weight 0.45 --max-ngram-order 4 data/lang_test_tgsmall exp/rnnlm_lstm_1a data/test-clean_hires exp/tdnn_1d_sp/decode_test-clean_tgsmall exp/tdnn_1d_sp/decode_test-clean_rescore\r\n",
      "local/score.sh --cmd run.pl data/test-clean_hires data/lang_test_tgsmall exp/tdnn_1d_sp/decode_test-clean_rescore\r\n",
      "env: decode_dir=exp/tdnn_1d_sp/decode_test-other_tgsmall\n",
      "rnnlm/lmrescore_pruned.sh --cmd run.pl --weight 0.45 --max-ngram-order 4 data/lang_test_tgsmall exp/rnnlm_lstm_1a data/test-other_hires exp/tdnn_1d_sp/decode_test-other_tgsmall exp/tdnn_1d_sp/decode_test-other_rescore\r\n",
      "local/score.sh --cmd run.pl data/test-other_hires data/lang_test_tgsmall exp/tdnn_1d_sp/decode_test-other_rescore\r\n"
     ]
    }
   ],
   "source": [
    "%env decode_dir=exp/tdnn_1d_sp/decode_test-clean_tgsmall\n",
    "!rnnlm/lmrescore_pruned.sh --cmd \"$decode_cmd\" --weight 0.45 --max-ngram-order 4 data/lang_test_tgsmall exp/rnnlm_lstm_1a data/test-clean_hires ${decode_dir} $tdnndir/decode_test-clean_rescore\n",
    "%env decode_dir=exp/tdnn_1d_sp/decode_test-other_tgsmall\n",
    "!rnnlm/lmrescore_pruned.sh --cmd \"$decode_cmd\" --weight 0.45 --max-ngram-order 4 data/lang_test_tgsmall exp/rnnlm_lstm_1a data/test-other_hires ${decode_dir} $tdnndir/decode_test-other_rescore"
   ]
  },
  {
   "cell_type": "code",
   "execution_count": 42,
   "id": "cooperative-kentucky",
   "metadata": {
    "execution": {
     "iopub.execute_input": "2021-06-23T15:14:10.875545Z",
     "iopub.status.busy": "2021-06-23T15:14:10.869742Z",
     "iopub.status.idle": "2021-06-23T15:19:07.979276Z",
     "shell.execute_reply": "2021-06-23T15:19:07.978677Z"
    },
    "papermill": {
     "duration": 297.182677,
     "end_time": "2021-06-23T15:19:07.979448",
     "exception": false,
     "start_time": "2021-06-23T15:14:10.796771",
     "status": "completed"
    },
    "tags": []
   },
   "outputs": [
    {
     "name": "stdout",
     "output_type": "stream",
     "text": [
      "steps/score_kaldi.sh --cmd run.pl data/test-clean_hires exp/chain_cleaned_out/graph_tgsmall exp/tdnn_1d_sp/decode_test-clean_rescore\r\n",
      "steps/score_kaldi.sh: scoring with word insertion penalty=0.0,0.5,1.0\r\n",
      "steps/score_kaldi.sh --cmd run.pl data/test-other_hires exp/chain_cleaned_out/graph_tgsmall exp/tdnn_1d_sp/decode_test-other_rescore\r\n",
      "steps/score_kaldi.sh: scoring with word insertion penalty=0.0,0.5,1.0\r\n"
     ]
    }
   ],
   "source": [
    "!steps/score_kaldi.sh --cmd \"run.pl\" data/test-clean_hires $graph_dir $tdnndir/decode_test-clean_rescore\n",
    "!steps/score_kaldi.sh --cmd \"run.pl\" data/test-other_hires $graph_dir $tdnndir/decode_test-other_rescore"
   ]
  },
  {
   "cell_type": "code",
   "execution_count": 43,
   "id": "elect-omega",
   "metadata": {
    "execution": {
     "iopub.execute_input": "2021-06-23T15:19:08.119249Z",
     "iopub.status.busy": "2021-06-23T15:19:08.118601Z",
     "iopub.status.idle": "2021-06-23T15:19:09.569066Z",
     "shell.execute_reply": "2021-06-23T15:19:09.568289Z"
    },
    "papermill": {
     "duration": 1.520726,
     "end_time": "2021-06-23T15:19:09.569231",
     "exception": false,
     "start_time": "2021-06-23T15:19:08.048505",
     "status": "completed"
    },
    "tags": []
   },
   "outputs": [
    {
     "name": "stdout",
     "output_type": "stream",
     "text": [
      "%WER 5.85 [ 3078 / 52576, 617 ins, 198 del, 2263 sub ] exp/tdnn_1d_sp/decode_test-clean_rescore/wer_17_0.5\r\n",
      "%WER 15.98 [ 8362 / 52343, 1381 ins, 588 del, 6393 sub ] exp/tdnn_1d_sp/decode_test-other_rescore/wer_17_1.0\r\n"
     ]
    }
   ],
   "source": [
    "!cat $tdnndir/decode_test-clean_rescore/scoring_kaldi/best_wer\n",
    "!cat $tdnndir/decode_test-other_rescore/scoring_kaldi/best_wer"
   ]
  },
  {
   "cell_type": "markdown",
   "id": "compact-compromise",
   "metadata": {
    "papermill": {
     "duration": 0.067179,
     "end_time": "2021-06-23T15:19:09.704650",
     "exception": false,
     "start_time": "2021-06-23T15:19:09.637471",
     "status": "completed"
    },
    "tags": []
   },
   "source": [
    "## "
   ]
  }
 ],
 "metadata": {
  "kernelspec": {
   "display_name": "Python 3",
   "language": "python",
   "name": "python3"
  },
  "language_info": {
   "codemirror_mode": {
    "name": "ipython",
    "version": 3
   },
   "file_extension": ".py",
   "mimetype": "text/x-python",
   "name": "python",
   "nbconvert_exporter": "python",
   "pygments_lexer": "ipython3",
   "version": "3.7.10"
  },
  "papermill": {
   "default_parameters": {},
   "duration": 7892.104474,
   "end_time": "2021-06-23T15:19:11.496612",
   "environment_variables": {},
   "exception": null,
   "input_path": "__notebook__.ipynb",
   "output_path": "__notebook__.ipynb",
   "parameters": {},
   "start_time": "2021-06-23T13:07:39.392138",
   "version": "2.3.3"
  }
 },
 "nbformat": 4,
 "nbformat_minor": 5
}
