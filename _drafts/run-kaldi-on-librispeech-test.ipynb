{
 "cells": [
  {
   "cell_type": "markdown",
   "id": "wrapped-circle",
   "metadata": {
    "papermill": {
     "duration": 0.023234,
     "end_time": "2021-06-22T14:44:06.051017",
     "exception": false,
     "start_time": "2021-06-22T14:44:06.027783",
     "status": "completed"
    },
    "tags": []
   },
   "source": [
    "## Unpack Kaldi"
   ]
  },
  {
   "cell_type": "code",
   "execution_count": 1,
   "id": "stable-cement",
   "metadata": {
    "_cell_guid": "b1076dfc-b9ad-4769-8c92-a6c4dae69d19",
    "_uuid": "8f2839f25d086af736a60e9eeb907d3b93b6e0e5",
    "execution": {
     "iopub.execute_input": "2021-06-22T14:44:06.100231Z",
     "iopub.status.busy": "2021-06-22T14:44:06.098656Z",
     "iopub.status.idle": "2021-06-22T14:44:06.111414Z",
     "shell.execute_reply": "2021-06-22T14:44:06.110388Z",
     "shell.execute_reply.started": "2021-06-22T11:54:50.153353Z"
    },
    "papermill": {
     "duration": 0.038736,
     "end_time": "2021-06-22T14:44:06.111666",
     "exception": false,
     "start_time": "2021-06-22T14:44:06.072930",
     "status": "completed"
    },
    "tags": []
   },
   "outputs": [
    {
     "name": "stdout",
     "output_type": "stream",
     "text": [
      "/opt\n"
     ]
    }
   ],
   "source": [
    "%cd /opt"
   ]
  },
  {
   "cell_type": "code",
   "execution_count": 2,
   "id": "finished-poison",
   "metadata": {
    "execution": {
     "iopub.execute_input": "2021-06-22T14:44:06.161173Z",
     "iopub.status.busy": "2021-06-22T14:44:06.160564Z",
     "iopub.status.idle": "2021-06-22T14:44:49.923733Z",
     "shell.execute_reply": "2021-06-22T14:44:49.924212Z",
     "shell.execute_reply.started": "2021-06-22T11:54:53.255442Z"
    },
    "papermill": {
     "duration": 43.788878,
     "end_time": "2021-06-22T14:44:49.924425",
     "exception": false,
     "start_time": "2021-06-22T14:44:06.135547",
     "status": "completed"
    },
    "tags": []
   },
   "outputs": [],
   "source": [
    "%%capture\n",
    "!tar xvf /kaggle/input/extract-prebuilt-kaldi-from-docker/kaldi.tar"
   ]
  },
  {
   "cell_type": "code",
   "execution_count": 3,
   "id": "impressed-screw",
   "metadata": {
    "execution": {
     "iopub.execute_input": "2021-06-22T14:44:49.973803Z",
     "iopub.status.busy": "2021-06-22T14:44:49.973258Z",
     "iopub.status.idle": "2021-06-22T14:44:49.976717Z",
     "shell.execute_reply": "2021-06-22T14:44:49.977212Z",
     "shell.execute_reply.started": "2021-06-22T11:55:40.60018Z"
    },
    "papermill": {
     "duration": 0.029589,
     "end_time": "2021-06-22T14:44:49.977365",
     "exception": false,
     "start_time": "2021-06-22T14:44:49.947776",
     "status": "completed"
    },
    "tags": []
   },
   "outputs": [],
   "source": [
    "import os\n",
    "os.environ['LD_LIBRARY_PATH'] = '/opt/conda/lib:/opt/kaldi/tools/openfst-1.6.7/lib:/opt/kaldi/src/lib:'\n",
    "EXISTING_PATH = os.environ['PATH']"
   ]
  },
  {
   "cell_type": "code",
   "execution_count": 4,
   "id": "attempted-turkish",
   "metadata": {
    "execution": {
     "iopub.execute_input": "2021-06-22T14:44:50.024833Z",
     "iopub.status.busy": "2021-06-22T14:44:50.024286Z",
     "iopub.status.idle": "2021-06-22T14:44:50.030513Z",
     "shell.execute_reply": "2021-06-22T14:44:50.029661Z"
    },
    "papermill": {
     "duration": 0.031119,
     "end_time": "2021-06-22T14:44:50.030700",
     "exception": false,
     "start_time": "2021-06-22T14:44:49.999581",
     "status": "completed"
    },
    "tags": []
   },
   "outputs": [
    {
     "name": "stdout",
     "output_type": "stream",
     "text": [
      "/\n"
     ]
    }
   ],
   "source": [
    "%cd /\n"
   ]
  },
  {
   "cell_type": "code",
   "execution_count": 5,
   "id": "adopted-convenience",
   "metadata": {
    "execution": {
     "iopub.execute_input": "2021-06-22T14:44:50.082789Z",
     "iopub.status.busy": "2021-06-22T14:44:50.082252Z",
     "iopub.status.idle": "2021-06-22T14:45:25.530455Z",
     "shell.execute_reply": "2021-06-22T14:45:25.530868Z"
    },
    "papermill": {
     "duration": 35.476088,
     "end_time": "2021-06-22T14:45:25.531055",
     "exception": false,
     "start_time": "2021-06-22T14:44:50.054967",
     "status": "completed"
    },
    "tags": []
   },
   "outputs": [],
   "source": [
    "%%capture\n",
    "!tar xvf /kaggle/input/extract-cuda-from-kaldi-docker/cuda.tar"
   ]
  },
  {
   "cell_type": "code",
   "execution_count": 6,
   "id": "seven-facility",
   "metadata": {
    "execution": {
     "iopub.execute_input": "2021-06-22T14:45:25.581430Z",
     "iopub.status.busy": "2021-06-22T14:45:25.580858Z",
     "iopub.status.idle": "2021-06-22T14:45:25.583839Z",
     "shell.execute_reply": "2021-06-22T14:45:25.583302Z",
     "shell.execute_reply.started": "2021-06-22T13:29:47.085695Z"
    },
    "papermill": {
     "duration": 0.0298,
     "end_time": "2021-06-22T14:45:25.583965",
     "exception": false,
     "start_time": "2021-06-22T14:45:25.554165",
     "status": "completed"
    },
    "tags": []
   },
   "outputs": [],
   "source": [
    "import os\n",
    "os.environ['LD_LIBRARY_PATH'] = f'{os.environ[\"LD_LIBRARY_PATH\"]}:/usr/local/cuda-10.0/targets/x86_64-linux/lib/'"
   ]
  },
  {
   "cell_type": "code",
   "execution_count": 7,
   "id": "through-treat",
   "metadata": {
    "execution": {
     "iopub.execute_input": "2021-06-22T14:45:25.639816Z",
     "iopub.status.busy": "2021-06-22T14:45:25.638784Z",
     "iopub.status.idle": "2021-06-22T14:45:25.643909Z",
     "shell.execute_reply": "2021-06-22T14:45:25.645036Z",
     "shell.execute_reply.started": "2021-06-22T11:55:40.610869Z"
    },
    "papermill": {
     "duration": 0.038688,
     "end_time": "2021-06-22T14:45:25.645258",
     "exception": false,
     "start_time": "2021-06-22T14:45:25.606570",
     "status": "completed"
    },
    "tags": []
   },
   "outputs": [
    {
     "name": "stdout",
     "output_type": "stream",
     "text": [
      "/opt/kaldi/egs\n"
     ]
    }
   ],
   "source": [
    "%cd /opt/kaldi/egs"
   ]
  },
  {
   "cell_type": "markdown",
   "id": "historical-london",
   "metadata": {
    "papermill": {
     "duration": 0.022739,
     "end_time": "2021-06-22T14:45:25.691092",
     "exception": false,
     "start_time": "2021-06-22T14:45:25.668353",
     "status": "completed"
    },
    "tags": []
   },
   "source": [
    "## Install flac"
   ]
  },
  {
   "cell_type": "code",
   "execution_count": 8,
   "id": "aboriginal-photograph",
   "metadata": {
    "execution": {
     "iopub.execute_input": "2021-06-22T14:45:25.740129Z",
     "iopub.status.busy": "2021-06-22T14:45:25.739513Z",
     "iopub.status.idle": "2021-06-22T14:45:35.913368Z",
     "shell.execute_reply": "2021-06-22T14:45:35.912816Z",
     "shell.execute_reply.started": "2021-06-22T12:06:36.222984Z"
    },
    "papermill": {
     "duration": 10.199253,
     "end_time": "2021-06-22T14:45:35.913518",
     "exception": false,
     "start_time": "2021-06-22T14:45:25.714265",
     "status": "completed"
    },
    "tags": []
   },
   "outputs": [],
   "source": [
    "%%capture\n",
    "!apt install -y flac"
   ]
  },
  {
   "cell_type": "markdown",
   "id": "rural-depression",
   "metadata": {
    "papermill": {
     "duration": 0.026656,
     "end_time": "2021-06-22T14:45:35.964416",
     "exception": false,
     "start_time": "2021-06-22T14:45:35.937760",
     "status": "completed"
    },
    "tags": []
   },
   "source": [
    "## Create a work directory"
   ]
  },
  {
   "cell_type": "code",
   "execution_count": 9,
   "id": "optical-midnight",
   "metadata": {
    "execution": {
     "iopub.execute_input": "2021-06-22T14:45:36.027359Z",
     "iopub.status.busy": "2021-06-22T14:45:36.022709Z",
     "iopub.status.idle": "2021-06-22T14:45:36.748571Z",
     "shell.execute_reply": "2021-06-22T14:45:36.749035Z",
     "shell.execute_reply.started": "2021-06-22T11:55:40.659251Z"
    },
    "papermill": {
     "duration": 0.758952,
     "end_time": "2021-06-22T14:45:36.749234",
     "exception": false,
     "start_time": "2021-06-22T14:45:35.990282",
     "status": "completed"
    },
    "tags": []
   },
   "outputs": [
    {
     "name": "stdout",
     "output_type": "stream",
     "text": [
      "/opt/kaldi/egs/usels/s5\n"
     ]
    }
   ],
   "source": [
    "!mkdir -p usels/s5\n",
    "%cd usels/s5"
   ]
  },
  {
   "cell_type": "code",
   "execution_count": 10,
   "id": "valuable-plymouth",
   "metadata": {
    "execution": {
     "iopub.execute_input": "2021-06-22T14:45:36.799640Z",
     "iopub.status.busy": "2021-06-22T14:45:36.799084Z",
     "iopub.status.idle": "2021-06-22T14:45:39.734469Z",
     "shell.execute_reply": "2021-06-22T14:45:39.734854Z",
     "shell.execute_reply.started": "2021-06-22T12:08:43.066673Z"
    },
    "papermill": {
     "duration": 2.962272,
     "end_time": "2021-06-22T14:45:39.735030",
     "exception": false,
     "start_time": "2021-06-22T14:45:36.772758",
     "status": "completed"
    },
    "tags": []
   },
   "outputs": [],
   "source": [
    "!mkdir /kaggle/working/data\n",
    "!mkdir /kaggle/working/exp\n",
    "!ln -s /kaggle/working/data\n",
    "!ln -s /kaggle/working/exp"
   ]
  },
  {
   "cell_type": "code",
   "execution_count": 11,
   "id": "chemical-disease",
   "metadata": {
    "execution": {
     "iopub.execute_input": "2021-06-22T14:45:39.790856Z",
     "iopub.status.busy": "2021-06-22T14:45:39.789883Z",
     "iopub.status.idle": "2021-06-22T14:45:41.996873Z",
     "shell.execute_reply": "2021-06-22T14:45:41.996360Z",
     "shell.execute_reply.started": "2021-06-22T11:55:41.459018Z"
    },
    "papermill": {
     "duration": 2.239036,
     "end_time": "2021-06-22T14:45:41.997023",
     "exception": false,
     "start_time": "2021-06-22T14:45:39.757987",
     "status": "completed"
    },
    "tags": []
   },
   "outputs": [],
   "source": [
    "!ln -s ../../wsj/s5/steps\n",
    "!ln -s ../../wsj/s5/utils\n",
    "!ln -s ../../librispeech/s5/local"
   ]
  },
  {
   "cell_type": "code",
   "execution_count": 12,
   "id": "fifteen-notion",
   "metadata": {
    "execution": {
     "iopub.execute_input": "2021-06-22T14:45:42.052557Z",
     "iopub.status.busy": "2021-06-22T14:45:42.051924Z",
     "iopub.status.idle": "2021-06-22T14:45:42.774429Z",
     "shell.execute_reply": "2021-06-22T14:45:42.773951Z",
     "shell.execute_reply.started": "2021-06-22T11:55:43.77028Z"
    },
    "papermill": {
     "duration": 0.75374,
     "end_time": "2021-06-22T14:45:42.774579",
     "exception": false,
     "start_time": "2021-06-22T14:45:42.020839",
     "status": "completed"
    },
    "tags": []
   },
   "outputs": [],
   "source": [
    "!mkdir conf"
   ]
  },
  {
   "cell_type": "code",
   "execution_count": 13,
   "id": "forced-column",
   "metadata": {
    "execution": {
     "iopub.execute_input": "2021-06-22T14:45:42.826648Z",
     "iopub.status.busy": "2021-06-22T14:45:42.826061Z",
     "iopub.status.idle": "2021-06-22T14:45:42.831908Z",
     "shell.execute_reply": "2021-06-22T14:45:42.832653Z",
     "shell.execute_reply.started": "2021-06-22T11:55:44.555875Z"
    },
    "papermill": {
     "duration": 0.035315,
     "end_time": "2021-06-22T14:45:42.832866",
     "exception": false,
     "start_time": "2021-06-22T14:45:42.797551",
     "status": "completed"
    },
    "tags": []
   },
   "outputs": [
    {
     "name": "stdout",
     "output_type": "stream",
     "text": [
      "Writing conf/mfcc_hires.conf\n"
     ]
    }
   ],
   "source": [
    "%%writefile conf/mfcc_hires.conf\n",
    "# config for high-resolution MFCC features, intended for neural network training\n",
    "# Note: we keep all cepstra, so it has the same info as filterbank features,\n",
    "# but MFCC is more easily compressible (because less correlated) which is why \n",
    "# we prefer this method.\n",
    "--use-energy=false   # use average of log energy, not energy.\n",
    "--num-mel-bins=40     # similar to Google's setup.\n",
    "--num-ceps=40     # there is no dimensionality reduction.\n",
    "--low-freq=20     # low cutoff frequency for mel bins... this is high-bandwidth data, so\n",
    "                  # there might be some information at the low end.\n",
    "--high-freq=-400 # high cutoff frequently, relative to Nyquist of 8000 (=7600)"
   ]
  },
  {
   "cell_type": "markdown",
   "id": "structural-blond",
   "metadata": {
    "papermill": {
     "duration": 0.023052,
     "end_time": "2021-06-22T14:45:42.879915",
     "exception": false,
     "start_time": "2021-06-22T14:45:42.856863",
     "status": "completed"
    },
    "tags": []
   },
   "source": [
    "## Setting up paths\n",
    "\n",
    "(In the scripts, you just source `path.sh`)"
   ]
  },
  {
   "cell_type": "code",
   "execution_count": 14,
   "id": "successful-greek",
   "metadata": {
    "execution": {
     "iopub.execute_input": "2021-06-22T14:45:42.931471Z",
     "iopub.status.busy": "2021-06-22T14:45:42.930884Z",
     "iopub.status.idle": "2021-06-22T14:45:42.934011Z",
     "shell.execute_reply": "2021-06-22T14:45:42.934433Z",
     "shell.execute_reply.started": "2021-06-22T11:55:44.565547Z"
    },
    "papermill": {
     "duration": 0.031441,
     "end_time": "2021-06-22T14:45:42.934600",
     "exception": false,
     "start_time": "2021-06-22T14:45:42.903159",
     "status": "completed"
    },
    "tags": []
   },
   "outputs": [
    {
     "name": "stdout",
     "output_type": "stream",
     "text": [
      "env: KALDI_ROOT=/opt/kaldi\n"
     ]
    }
   ],
   "source": [
    "%env KALDI_ROOT=/opt/kaldi"
   ]
  },
  {
   "cell_type": "code",
   "execution_count": 15,
   "id": "comprehensive-scholarship",
   "metadata": {
    "execution": {
     "iopub.execute_input": "2021-06-22T14:45:42.989552Z",
     "iopub.status.busy": "2021-06-22T14:45:42.985938Z",
     "iopub.status.idle": "2021-06-22T14:45:43.712614Z",
     "shell.execute_reply": "2021-06-22T14:45:43.712035Z",
     "shell.execute_reply.started": "2021-06-22T11:55:44.577705Z"
    },
    "papermill": {
     "duration": 0.754617,
     "end_time": "2021-06-22T14:45:43.712751",
     "exception": false,
     "start_time": "2021-06-22T14:45:42.958134",
     "status": "completed"
    },
    "tags": []
   },
   "outputs": [
    {
     "name": "stdout",
     "output_type": "stream",
     "text": [
      "export KALDI_ROOT=`pwd`/../../..\r\n",
      "[ -f $KALDI_ROOT/tools/env.sh ] && . $KALDI_ROOT/tools/env.sh\r\n",
      "export PATH=$PWD/utils/:$KALDI_ROOT/tools/openfst/bin:$PWD:$PATH\r\n",
      "[ ! -f $KALDI_ROOT/tools/config/common_path.sh ] && echo >&2 \"The standard file $KALDI_ROOT/tools/config/common_path.sh is not present -> Exit!\" && exit 1\r\n",
      ". $KALDI_ROOT/tools/config/common_path.sh\r\n",
      "export LC_ALL=C\r\n"
     ]
    }
   ],
   "source": [
    "!cat ../../wsj/s5/path.sh"
   ]
  },
  {
   "cell_type": "code",
   "execution_count": 16,
   "id": "identified-cambridge",
   "metadata": {
    "execution": {
     "iopub.execute_input": "2021-06-22T14:45:43.764765Z",
     "iopub.status.busy": "2021-06-22T14:45:43.764224Z",
     "iopub.status.idle": "2021-06-22T14:45:43.770407Z",
     "shell.execute_reply": "2021-06-22T14:45:43.769763Z",
     "shell.execute_reply.started": "2021-06-22T12:00:36.247262Z"
    },
    "papermill": {
     "duration": 0.033819,
     "end_time": "2021-06-22T14:45:43.770570",
     "exception": false,
     "start_time": "2021-06-22T14:45:43.736751",
     "status": "completed"
    },
    "tags": []
   },
   "outputs": [
    {
     "name": "stdout",
     "output_type": "stream",
     "text": [
      "env: LC_ALL=C\n"
     ]
    }
   ],
   "source": [
    "%env LC_ALL=C\n",
    "#PWD = !pwd\n",
    "PWD = '/opt/kaldi/egs/usels/s5'\n",
    "KALDI_ROOT = '/opt/kaldi'\n",
    "WSJ_PATH = f'{PWD}/utils/:{KALDI_ROOT}/tools/openfst/bin:{PWD}:{EXISTING_PATH}'"
   ]
  },
  {
   "cell_type": "code",
   "execution_count": 17,
   "id": "temporal-meditation",
   "metadata": {
    "execution": {
     "iopub.execute_input": "2021-06-22T14:45:43.822317Z",
     "iopub.status.busy": "2021-06-22T14:45:43.821472Z",
     "iopub.status.idle": "2021-06-22T14:45:44.550215Z",
     "shell.execute_reply": "2021-06-22T14:45:44.549635Z",
     "shell.execute_reply.started": "2021-06-22T11:57:02.231388Z"
    },
    "papermill": {
     "duration": 0.755368,
     "end_time": "2021-06-22T14:45:44.550339",
     "exception": false,
     "start_time": "2021-06-22T14:45:43.794971",
     "status": "completed"
    },
    "tags": []
   },
   "outputs": [
    {
     "name": "stdout",
     "output_type": "stream",
     "text": [
      "# we assume KALDI_ROOT is already defined\r\n",
      "[ -z \"$KALDI_ROOT\" ] && echo >&2 \"The variable KALDI_ROOT must be already defined\" && exit 1\r\n",
      "# The formatting of the path export command is intentionally weird, because\r\n",
      "# this allows for easy diff'ing\r\n",
      "export PATH=\\\r\n",
      "${KALDI_ROOT}/src/bin:\\\r\n",
      "${KALDI_ROOT}/src/chainbin:\\\r\n",
      "${KALDI_ROOT}/src/featbin:\\\r\n",
      "${KALDI_ROOT}/src/fgmmbin:\\\r\n",
      "${KALDI_ROOT}/src/fstbin:\\\r\n",
      "${KALDI_ROOT}/src/gmmbin:\\\r\n",
      "${KALDI_ROOT}/src/ivectorbin:\\\r\n",
      "${KALDI_ROOT}/src/kwsbin:\\\r\n",
      "${KALDI_ROOT}/src/latbin:\\\r\n",
      "${KALDI_ROOT}/src/lmbin:\\\r\n",
      "${KALDI_ROOT}/src/nnet2bin:\\\r\n",
      "${KALDI_ROOT}/src/nnet3bin:\\\r\n",
      "${KALDI_ROOT}/src/nnetbin:\\\r\n",
      "${KALDI_ROOT}/src/online2bin:\\\r\n",
      "${KALDI_ROOT}/src/onlinebin:\\\r\n",
      "${KALDI_ROOT}/src/rnnlmbin:\\\r\n",
      "${KALDI_ROOT}/src/sgmm2bin:\\\r\n",
      "${KALDI_ROOT}/src/sgmmbin:\\\r\n",
      "${KALDI_ROOT}/src/tfrnnlmbin:\\\r\n",
      "${KALDI_ROOT}/src/cudadecoderbin:\\\r\n",
      "$PATH\r\n"
     ]
    }
   ],
   "source": [
    "!cat $KALDI_ROOT/tools/config/common_path.sh"
   ]
  },
  {
   "cell_type": "code",
   "execution_count": 18,
   "id": "electrical-element",
   "metadata": {
    "execution": {
     "iopub.execute_input": "2021-06-22T14:45:44.604553Z",
     "iopub.status.busy": "2021-06-22T14:45:44.604007Z",
     "iopub.status.idle": "2021-06-22T14:45:44.626372Z",
     "shell.execute_reply": "2021-06-22T14:45:44.625788Z",
     "shell.execute_reply.started": "2021-06-22T11:56:52.862746Z"
    },
    "papermill": {
     "duration": 0.051583,
     "end_time": "2021-06-22T14:45:44.626508",
     "exception": false,
     "start_time": "2021-06-22T14:45:44.574925",
     "status": "completed"
    },
    "tags": []
   },
   "outputs": [],
   "source": [
    "#kaldi_paths=!cat $KALDI_ROOT/tools/config/common_path.sh|grep '/src/'|awk -F':' '{print $1}'|awk -F'/' '{print $NF}'|tr '\\n' ':'\n",
    "raw_kaldi_paths=!cat $KALDI_ROOT/tools/config/common_path.sh|grep '/src/'|awk -F':' '{print $1}'|awk -F'/' '{print \"/opt/kaldi/src/\"$NF}'"
   ]
  },
  {
   "cell_type": "code",
   "execution_count": 19,
   "id": "resistant-sarah",
   "metadata": {
    "execution": {
     "iopub.execute_input": "2021-06-22T14:45:44.680854Z",
     "iopub.status.busy": "2021-06-22T14:45:44.680308Z",
     "iopub.status.idle": "2021-06-22T14:45:44.682827Z",
     "shell.execute_reply": "2021-06-22T14:45:44.682413Z",
     "shell.execute_reply.started": "2021-06-22T12:02:21.567242Z"
    },
    "papermill": {
     "duration": 0.031432,
     "end_time": "2021-06-22T14:45:44.682954",
     "exception": false,
     "start_time": "2021-06-22T14:45:44.651522",
     "status": "completed"
    },
    "tags": []
   },
   "outputs": [],
   "source": [
    "KALDI_PATHS=raw_kaldi_paths.nlstr.replace('\\n',':')"
   ]
  },
  {
   "cell_type": "code",
   "execution_count": 20,
   "id": "backed-brother",
   "metadata": {
    "execution": {
     "iopub.execute_input": "2021-06-22T14:45:44.739604Z",
     "iopub.status.busy": "2021-06-22T14:45:44.735592Z",
     "iopub.status.idle": "2021-06-22T14:45:45.460670Z",
     "shell.execute_reply": "2021-06-22T14:45:45.460043Z",
     "shell.execute_reply.started": "2021-06-22T11:56:58.4537Z"
    },
    "papermill": {
     "duration": 0.753707,
     "end_time": "2021-06-22T14:45:45.460801",
     "exception": false,
     "start_time": "2021-06-22T14:45:44.707094",
     "status": "completed"
    },
    "tags": []
   },
   "outputs": [
    {
     "name": "stdout",
     "output_type": "stream",
     "text": [
      "export PATH=/opt/kaldi/tools/python:${PATH}\r\n",
      "export PHONETISAURUS=\"/tmp/output/opt/kaldi/tools/phonetisaurus-g2p\"\r\n",
      "export PATH=\"$PATH:${PHONETISAURUS}:${PHONETISAURUS}/src/scripts\"\r\n"
     ]
    }
   ],
   "source": [
    "!cat $KALDI_ROOT/tools/env.sh"
   ]
  },
  {
   "cell_type": "code",
   "execution_count": 21,
   "id": "committed-office",
   "metadata": {
    "execution": {
     "iopub.execute_input": "2021-06-22T14:45:45.515883Z",
     "iopub.status.busy": "2021-06-22T14:45:45.515281Z",
     "iopub.status.idle": "2021-06-22T14:45:45.518038Z",
     "shell.execute_reply": "2021-06-22T14:45:45.517643Z",
     "shell.execute_reply.started": "2021-06-22T12:02:09.80754Z"
    },
    "papermill": {
     "duration": 0.031912,
     "end_time": "2021-06-22T14:45:45.518180",
     "exception": false,
     "start_time": "2021-06-22T14:45:45.486268",
     "status": "completed"
    },
    "tags": []
   },
   "outputs": [],
   "source": [
    "PHONETISAURUS = \"/tmp/output/opt/kaldi/tools/phonetisaurus-g2p\"\n",
    "TOOLS_PATH = f'/opt/kaldi/tools/python:{PHONETISAURUS}:{PHONETISAURUS}/src/scripts'"
   ]
  },
  {
   "cell_type": "code",
   "execution_count": 22,
   "id": "charming-joseph",
   "metadata": {
    "execution": {
     "iopub.execute_input": "2021-06-22T14:45:45.572835Z",
     "iopub.status.busy": "2021-06-22T14:45:45.572286Z",
     "iopub.status.idle": "2021-06-22T14:45:45.575400Z",
     "shell.execute_reply": "2021-06-22T14:45:45.574781Z",
     "shell.execute_reply.started": "2021-06-22T12:03:04.119662Z"
    },
    "papermill": {
     "duration": 0.032775,
     "end_time": "2021-06-22T14:45:45.575560",
     "exception": false,
     "start_time": "2021-06-22T14:45:45.542785",
     "status": "completed"
    },
    "tags": []
   },
   "outputs": [
    {
     "name": "stdout",
     "output_type": "stream",
     "text": [
      "env: PATH=f\"/opt/kaldi/egs/usels/s5/utils/:/opt/kaldi/tools/openfst/bin:/opt/kaldi/egs/usels/s5:/opt/conda/bin:/usr/local/sbin:/usr/local/bin:/usr/sbin:/usr/bin:/sbin:/bin:/opt/kaldi/src/bin:/opt/kaldi/src/chainbin:/opt/kaldi/src/featbin:/opt/kaldi/src/fgmmbin:/opt/kaldi/src/fstbin:/opt/kaldi/src/gmmbin:/opt/kaldi/src/ivectorbin:/opt/kaldi/src/kwsbin:/opt/kaldi/src/latbin:/opt/kaldi/src/lmbin:/opt/kaldi/src/nnet2bin:/opt/kaldi/src/nnet3bin:/opt/kaldi/src/nnetbin:/opt/kaldi/src/online2bin:/opt/kaldi/src/onlinebin:/opt/kaldi/src/rnnlmbin:/opt/kaldi/src/sgmm2bin:/opt/kaldi/src/sgmmbin:/opt/kaldi/src/tfrnnlmbin:/opt/kaldi/src/cudadecoderbin:/opt/kaldi/tools/python:/tmp/output/opt/kaldi/tools/phonetisaurus-g2p:/tmp/output/opt/kaldi/tools/phonetisaurus-g2p/src/scripts\"\n"
     ]
    }
   ],
   "source": [
    "%env PATH = f\"{WSJ_PATH}:{KALDI_PATHS}:{TOOLS_PATH}\""
   ]
  },
  {
   "cell_type": "code",
   "execution_count": 23,
   "id": "desperate-projector",
   "metadata": {
    "execution": {
     "iopub.execute_input": "2021-06-22T14:45:45.639881Z",
     "iopub.status.busy": "2021-06-22T14:45:45.639238Z",
     "iopub.status.idle": "2021-06-22T14:45:46.361111Z",
     "shell.execute_reply": "2021-06-22T14:45:46.360520Z",
     "shell.execute_reply.started": "2021-06-22T12:16:15.76424Z"
    },
    "papermill": {
     "duration": 0.760707,
     "end_time": "2021-06-22T14:45:46.361242",
     "exception": false,
     "start_time": "2021-06-22T14:45:45.600535",
     "status": "completed"
    },
    "tags": []
   },
   "outputs": [
    {
     "name": "stdout",
     "output_type": "stream",
     "text": [
      "# you can change cmd.sh depending on what type of queue you are using.\r\n",
      "# If you have no queueing system and want to run on a local machine, you\r\n",
      "# can change all instances 'queue.pl' to run.pl (but be careful and run\r\n",
      "# commands one by one: most recipes will exhaust the memory on your\r\n",
      "# machine).  queue.pl works with GridEngine (qsub).  slurm.pl works\r\n",
      "# with slurm.  Different queues are configured differently, with different\r\n",
      "# queue names and different ways of specifying things like memory;\r\n",
      "# to account for these differences you can create and edit the file\r\n",
      "# conf/queue.conf to match your queue's configuration.  Search for\r\n",
      "# conf/queue.conf in http://kaldi-asr.org/doc/queue.html for more information,\r\n",
      "# or search for the string 'default_config' in utils/queue.pl or utils/slurm.pl.\r\n",
      "\r\n",
      "export train_cmd=queue.pl\r\n",
      "export decode_cmd=\"queue.pl --mem 2G\"\r\n",
      "# the use of cuda_cmd is deprecated, used only in 'nnet1',\r\n",
      "export cuda_cmd=\"queue.pl --gpu 1\"\r\n",
      "\r\n",
      "if [ \"$(hostname -d)\" == \"fit.vutbr.cz\" ]; then\r\n",
      "  queue_conf=$HOME/queue_conf/default.conf # see example /homes/kazi/iveselyk/queue_conf/default.conf,\r\n",
      "  export train_cmd=\"queue.pl --config $queue_conf --mem 2G --matylda 0.2\"\r\n",
      "  export decode_cmd=\"queue.pl --config $queue_conf --mem 3G --matylda 0.1\"\r\n",
      "  export cuda_cmd=\"queue.pl --config $queue_conf --gpu 1 --mem 10G --tmp 40G\"\r\n",
      "fi\r\n"
     ]
    }
   ],
   "source": [
    "!cat ../../wsj/s5/cmd.sh"
   ]
  },
  {
   "cell_type": "code",
   "execution_count": 24,
   "id": "literary-denmark",
   "metadata": {
    "execution": {
     "iopub.execute_input": "2021-06-22T14:45:46.416736Z",
     "iopub.status.busy": "2021-06-22T14:45:46.416147Z",
     "iopub.status.idle": "2021-06-22T14:45:46.419393Z",
     "shell.execute_reply": "2021-06-22T14:45:46.419809Z",
     "shell.execute_reply.started": "2021-06-22T12:25:36.054695Z"
    },
    "papermill": {
     "duration": 0.033953,
     "end_time": "2021-06-22T14:45:46.419958",
     "exception": false,
     "start_time": "2021-06-22T14:45:46.386005",
     "status": "completed"
    },
    "tags": []
   },
   "outputs": [
    {
     "name": "stdout",
     "output_type": "stream",
     "text": [
      "env: train_cmd=run.pl\n",
      "env: decode_cmd=run.pl\n"
     ]
    }
   ],
   "source": [
    "%env train_cmd=run.pl\n",
    "%env decode_cmd=run.pl"
   ]
  },
  {
   "cell_type": "code",
   "execution_count": 25,
   "id": "lightweight-kernel",
   "metadata": {
    "execution": {
     "iopub.execute_input": "2021-06-22T14:45:46.480129Z",
     "iopub.status.busy": "2021-06-22T14:45:46.479554Z",
     "iopub.status.idle": "2021-06-22T14:45:49.390675Z",
     "shell.execute_reply": "2021-06-22T14:45:49.391174Z",
     "shell.execute_reply.started": "2021-06-22T12:25:39.332426Z"
    },
    "papermill": {
     "duration": 2.946439,
     "end_time": "2021-06-22T14:45:49.391376",
     "exception": false,
     "start_time": "2021-06-22T14:45:46.444937",
     "status": "completed"
    },
    "tags": []
   },
   "outputs": [],
   "source": [
    "!ln -s ../../wsj/s5/cmd.sh\n",
    "!ln -s ../../wsj/s5/path.sh\n",
    "!ln -s utils/queue.pl\n",
    "!ln -s utils/run.pl"
   ]
  },
  {
   "cell_type": "code",
   "execution_count": 26,
   "id": "challenging-lincoln",
   "metadata": {
    "execution": {
     "iopub.execute_input": "2021-06-22T14:45:49.445253Z",
     "iopub.status.busy": "2021-06-22T14:45:49.444688Z",
     "iopub.status.idle": "2021-06-22T14:45:50.175650Z",
     "shell.execute_reply": "2021-06-22T14:45:50.175045Z",
     "shell.execute_reply.started": "2021-06-22T12:25:11.355403Z"
    },
    "papermill": {
     "duration": 0.759108,
     "end_time": "2021-06-22T14:45:50.175782",
     "exception": false,
     "start_time": "2021-06-22T14:45:49.416674",
     "status": "completed"
    },
    "tags": []
   },
   "outputs": [],
   "source": [
    "!rm *.pl"
   ]
  },
  {
   "cell_type": "markdown",
   "id": "permanent-interest",
   "metadata": {
    "papermill": {
     "duration": 0.024763,
     "end_time": "2021-06-22T14:45:50.225973",
     "exception": false,
     "start_time": "2021-06-22T14:45:50.201210",
     "status": "completed"
    },
    "tags": []
   },
   "source": [
    "## Data prep"
   ]
  },
  {
   "cell_type": "code",
   "execution_count": 27,
   "id": "coupled-valentine",
   "metadata": {
    "execution": {
     "iopub.execute_input": "2021-06-22T14:45:50.286366Z",
     "iopub.status.busy": "2021-06-22T14:45:50.282890Z",
     "iopub.status.idle": "2021-06-22T14:46:02.368538Z",
     "shell.execute_reply": "2021-06-22T14:46:02.367854Z",
     "shell.execute_reply.started": "2021-06-22T12:10:48.153674Z"
    },
    "papermill": {
     "duration": 12.117452,
     "end_time": "2021-06-22T14:46:02.368674",
     "exception": false,
     "start_time": "2021-06-22T14:45:50.251222",
     "status": "completed"
    },
    "tags": []
   },
   "outputs": [
    {
     "name": "stdout",
     "output_type": "stream",
     "text": [
      "utils/validate_data_dir.sh: Successfully validated data-directory data/test-other\r\n",
      "local/data_prep.sh: successfully prepared data in data/test-other\r\n",
      "utils/validate_data_dir.sh: Successfully validated data-directory data/test-clean\r\n",
      "local/data_prep.sh: successfully prepared data in data/test-clean\r\n"
     ]
    }
   ],
   "source": [
    "!local/data_prep.sh /kaggle/input/librispeech-test-clean-and-other/LibriSpeech/test-other data/test-other\n",
    "!local/data_prep.sh /kaggle/input/librispeech-test-clean-and-other/LibriSpeech/test-clean data/test-clean"
   ]
  },
  {
   "cell_type": "code",
   "execution_count": 28,
   "id": "pressed-rogers",
   "metadata": {
    "execution": {
     "iopub.execute_input": "2021-06-22T14:46:02.426053Z",
     "iopub.status.busy": "2021-06-22T14:46:02.425481Z",
     "iopub.status.idle": "2021-06-22T14:46:04.297649Z",
     "shell.execute_reply": "2021-06-22T14:46:04.296845Z",
     "shell.execute_reply.started": "2021-06-22T12:12:48.716774Z"
    },
    "papermill": {
     "duration": 1.903174,
     "end_time": "2021-06-22T14:46:04.297791",
     "exception": false,
     "start_time": "2021-06-22T14:46:02.394617",
     "status": "completed"
    },
    "tags": []
   },
   "outputs": [
    {
     "name": "stdout",
     "output_type": "stream",
     "text": [
      "utils/copy_data_dir.sh: copied data from data/test-clean to data/test-clean_hires\r\n",
      "utils/validate_data_dir.sh: Successfully validated data-directory data/test-clean_hires\r\n",
      "utils/copy_data_dir.sh: copied data from data/test-other to data/test-other_hires\r\n",
      "utils/validate_data_dir.sh: Successfully validated data-directory data/test-other_hires\r\n"
     ]
    }
   ],
   "source": [
    "!utils/copy_data_dir.sh data/test-clean data/test-clean_hires\n",
    "!utils/copy_data_dir.sh data/test-other data/test-other_hires"
   ]
  },
  {
   "cell_type": "code",
   "execution_count": 29,
   "id": "guilty-joining",
   "metadata": {
    "execution": {
     "iopub.execute_input": "2021-06-22T14:46:04.361839Z",
     "iopub.status.busy": "2021-06-22T14:46:04.360616Z",
     "iopub.status.idle": "2021-06-22T14:46:05.078125Z",
     "shell.execute_reply": "2021-06-22T14:46:05.078591Z",
     "shell.execute_reply.started": "2021-06-22T12:20:32.826362Z"
    },
    "papermill": {
     "duration": 0.75435,
     "end_time": "2021-06-22T14:46:05.078763",
     "exception": false,
     "start_time": "2021-06-22T14:46:04.324413",
     "status": "completed"
    },
    "tags": []
   },
   "outputs": [],
   "source": [
    "!ln -s utils/parse_options.sh"
   ]
  },
  {
   "cell_type": "code",
   "execution_count": 30,
   "id": "boxed-european",
   "metadata": {
    "execution": {
     "iopub.execute_input": "2021-06-22T14:46:05.146356Z",
     "iopub.status.busy": "2021-06-22T14:46:05.145656Z",
     "iopub.status.idle": "2021-06-22T14:47:23.784014Z",
     "shell.execute_reply": "2021-06-22T14:47:23.783545Z",
     "shell.execute_reply.started": "2021-06-22T12:25:44.313451Z"
    },
    "papermill": {
     "duration": 78.678534,
     "end_time": "2021-06-22T14:47:23.784187",
     "exception": false,
     "start_time": "2021-06-22T14:46:05.105653",
     "status": "completed"
    },
    "tags": []
   },
   "outputs": [
    {
     "name": "stdout",
     "output_type": "stream",
     "text": [
      "steps/make_mfcc.sh --nj 20 --mfcc-config conf/mfcc_hires.conf --cmd run.pl data/test-clean_hires\r\n",
      "utils/validate_data_dir.sh: Successfully validated data-directory data/test-clean_hires\r\n",
      "steps/make_mfcc.sh: [info]: no segments file exists: assuming wav.scp indexed by utterance.\r\n",
      "steps/make_mfcc.sh: Succeeded creating MFCC features for test-clean_hires\r\n",
      "steps/compute_cmvn_stats.sh data/test-clean_hires\r\n",
      "Succeeded creating CMVN stats for test-clean_hires\r\n",
      "fix_data_dir.sh: kept all 2620 utterances.\r\n",
      "fix_data_dir.sh: old files are kept in data/test-clean_hires/.backup\r\n",
      "steps/make_mfcc.sh --nj 20 --mfcc-config conf/mfcc_hires.conf --cmd run.pl data/test-other_hires\r\n",
      "utils/validate_data_dir.sh: Successfully validated data-directory data/test-other_hires\r\n",
      "steps/make_mfcc.sh: [info]: no segments file exists: assuming wav.scp indexed by utterance.\r\n",
      "steps/make_mfcc.sh: Succeeded creating MFCC features for test-other_hires\r\n",
      "steps/compute_cmvn_stats.sh data/test-other_hires\r\n",
      "Succeeded creating CMVN stats for test-other_hires\r\n",
      "fix_data_dir.sh: kept all 2939 utterances.\r\n",
      "fix_data_dir.sh: old files are kept in data/test-other_hires/.backup\r\n"
     ]
    }
   ],
   "source": [
    "!steps/make_mfcc.sh --nj 20 --mfcc-config conf/mfcc_hires.conf --cmd \"$train_cmd\" data/test-clean_hires\n",
    "!steps/compute_cmvn_stats.sh data/test-clean_hires\n",
    "!utils/fix_data_dir.sh data/test-clean_hires\n",
    "!steps/make_mfcc.sh --nj 20 --mfcc-config conf/mfcc_hires.conf --cmd \"$train_cmd\" data/test-other_hires\n",
    "!steps/compute_cmvn_stats.sh data/test-other_hires\n",
    "!utils/fix_data_dir.sh data/test-other_hires\n"
   ]
  },
  {
   "cell_type": "markdown",
   "id": "limited-decimal",
   "metadata": {
    "papermill": {
     "duration": 0.029868,
     "end_time": "2021-06-22T14:47:23.844580",
     "exception": false,
     "start_time": "2021-06-22T14:47:23.814712",
     "status": "completed"
    },
    "tags": []
   },
   "source": [
    "## Extract i-vectors"
   ]
  },
  {
   "cell_type": "code",
   "execution_count": 31,
   "id": "partial-status",
   "metadata": {
    "execution": {
     "iopub.execute_input": "2021-06-22T14:47:23.915033Z",
     "iopub.status.busy": "2021-06-22T14:47:23.914448Z",
     "iopub.status.idle": "2021-06-22T14:47:25.362838Z",
     "shell.execute_reply": "2021-06-22T14:47:25.362342Z",
     "shell.execute_reply.started": "2021-06-22T12:38:42.072847Z"
    },
    "papermill": {
     "duration": 1.488187,
     "end_time": "2021-06-22T14:47:25.362968",
     "exception": false,
     "start_time": "2021-06-22T14:47:23.874781",
     "status": "completed"
    },
    "tags": []
   },
   "outputs": [],
   "source": [
    "!ln -s /kaggle/input/kaldi-librispeech-model/exp/nnet3_cleaned/ exp/nnet3_cleaned\n",
    "!ln -s /kaggle/input/kaldi-librispeech-model/exp/chain_cleaned/ exp/chain_cleaned"
   ]
  },
  {
   "cell_type": "code",
   "execution_count": 32,
   "id": "stupid-assumption",
   "metadata": {
    "execution": {
     "iopub.execute_input": "2021-06-22T14:47:25.436717Z",
     "iopub.status.busy": "2021-06-22T14:47:25.431549Z",
     "iopub.status.idle": "2021-06-22T14:48:35.748430Z",
     "shell.execute_reply": "2021-06-22T14:48:35.747835Z",
     "shell.execute_reply.started": "2021-06-22T12:44:16.329652Z"
    },
    "papermill": {
     "duration": 70.355396,
     "end_time": "2021-06-22T14:48:35.748561",
     "exception": false,
     "start_time": "2021-06-22T14:47:25.393165",
     "status": "completed"
    },
    "tags": []
   },
   "outputs": [
    {
     "name": "stdout",
     "output_type": "stream",
     "text": [
      "env: nspk=$(wc -l <data/test-clean_hires/spk2utt)\n",
      "steps/online/nnet2/extract_ivectors_online.sh --cmd run.pl --nj $(wc -l <data/test-clean_hires/spk2utt) data/test-clean_hires exp/nnet3_cleaned/extractor exp/nnet3_cleaned_out/ivectors_test-clean_hires\r\n",
      "steps/online/nnet2/extract_ivectors_online.sh: extracting iVectors\r\n",
      "steps/online/nnet2/extract_ivectors_online.sh: combining iVectors across jobs\r\n",
      "steps/online/nnet2/extract_ivectors_online.sh: done extracting (online) iVectors to exp/nnet3_cleaned_out/ivectors_test-clean_hires using the extractor in exp/nnet3_cleaned/extractor.\r\n",
      "env: nspk=$(wc -l <data/test-other_hires/spk2utt)\n",
      "steps/online/nnet2/extract_ivectors_online.sh --cmd run.pl --nj $(wc -l <data/test-other_hires/spk2utt) data/test-other_hires exp/nnet3_cleaned/extractor exp/nnet3_cleaned_out/ivectors_test-other_hires\r\n",
      "steps/online/nnet2/extract_ivectors_online.sh: extracting iVectors\r\n",
      "steps/online/nnet2/extract_ivectors_online.sh: combining iVectors across jobs\r\n",
      "steps/online/nnet2/extract_ivectors_online.sh: done extracting (online) iVectors to exp/nnet3_cleaned_out/ivectors_test-other_hires using the extractor in exp/nnet3_cleaned/extractor.\r\n"
     ]
    }
   ],
   "source": [
    "%env nspk=$(wc -l <data/test-clean_hires/spk2utt)\n",
    "!steps/online/nnet2/extract_ivectors_online.sh --cmd \"$train_cmd\" --nj \"${nspk}\" data/test-clean_hires exp/nnet3_cleaned/extractor exp/nnet3_cleaned_out/ivectors_test-clean_hires\n",
    "%env nspk=$(wc -l <data/test-other_hires/spk2utt)\n",
    "!steps/online/nnet2/extract_ivectors_online.sh --cmd \"$train_cmd\" --nj \"${nspk}\" data/test-other_hires exp/nnet3_cleaned/extractor exp/nnet3_cleaned_out/ivectors_test-other_hires"
   ]
  },
  {
   "cell_type": "markdown",
   "id": "differential-glenn",
   "metadata": {
    "papermill": {
     "duration": 0.031952,
     "end_time": "2021-06-22T14:48:35.814209",
     "exception": false,
     "start_time": "2021-06-22T14:48:35.782257",
     "status": "completed"
    },
    "tags": []
   },
   "source": [
    "## Build decoding graph"
   ]
  },
  {
   "cell_type": "markdown",
   "id": "incorrect-stereo",
   "metadata": {
    "papermill": {
     "duration": 0.031608,
     "end_time": "2021-06-22T14:48:35.877719",
     "exception": false,
     "start_time": "2021-06-22T14:48:35.846111",
     "status": "completed"
    },
    "tags": []
   },
   "source": [
    "Just linking this directory won't work, as it expects to be able to write to it (Kaldi scripts, smh)"
   ]
  },
  {
   "cell_type": "code",
   "execution_count": 33,
   "id": "juvenile-horizontal",
   "metadata": {
    "execution": {
     "iopub.execute_input": "2021-06-22T14:48:35.949944Z",
     "iopub.status.busy": "2021-06-22T14:48:35.946374Z",
     "iopub.status.idle": "2021-06-22T14:48:37.984146Z",
     "shell.execute_reply": "2021-06-22T14:48:37.983616Z"
    },
    "papermill": {
     "duration": 2.074793,
     "end_time": "2021-06-22T14:48:37.984294",
     "exception": false,
     "start_time": "2021-06-22T14:48:35.909501",
     "status": "completed"
    },
    "tags": []
   },
   "outputs": [],
   "source": [
    "!cp -r /kaggle/input/kaldi-librispeech-model/data/lang_test_tgsmall data"
   ]
  },
  {
   "cell_type": "code",
   "execution_count": 34,
   "id": "resistant-optimum",
   "metadata": {
    "execution": {
     "iopub.execute_input": "2021-06-22T14:48:38.062024Z",
     "iopub.status.busy": "2021-06-22T14:48:38.057355Z",
     "iopub.status.idle": "2021-06-22T14:51:44.027467Z",
     "shell.execute_reply": "2021-06-22T14:51:44.026113Z"
    },
    "papermill": {
     "duration": 186.009898,
     "end_time": "2021-06-22T14:51:44.027638",
     "exception": false,
     "start_time": "2021-06-22T14:48:38.017740",
     "status": "completed"
    },
    "tags": []
   },
   "outputs": [
    {
     "name": "stdout",
     "output_type": "stream",
     "text": [
      "env: dir=exp/chain_cleaned/tdnn_1d_sp\n",
      "env: graph_dir=exp/chain_cleaned_out/graph_tgsmall\n",
      "tree-info exp/chain_cleaned/tdnn_1d_sp/tree \r\n",
      "tree-info exp/chain_cleaned/tdnn_1d_sp/tree \r\n",
      "fstminimizeencoded \r\n",
      "fstdeterminizestar --use-log=true \r\n",
      "fsttablecompose data/lang_test_tgsmall/L_disambig.fst data/lang_test_tgsmall/G.fst \r\n",
      "fstpushspecial \r\n",
      "fstisstochastic data/lang_test_tgsmall/tmp/LG.fst \r\n",
      "-0.0459745 -0.0466771\r\n",
      "[info]: LG not stochastic.\r\n",
      "fstcomposecontext --context-size=2 --central-position=1 --read-disambig-syms=data/lang_test_tgsmall/phones/disambig.int --write-disambig-syms=data/lang_test_tgsmall/tmp/disambig_ilabels_2_1.int data/lang_test_tgsmall/tmp/ilabels_2_1.113735 data/lang_test_tgsmall/tmp/LG.fst \r\n",
      "fstisstochastic data/lang_test_tgsmall/tmp/CLG_2_1.fst \r\n",
      "-0.0459745 -0.0466771\r\n",
      "[info]: CLG not stochastic.\r\n",
      "make-h-transducer --disambig-syms-out=exp/chain_cleaned_out/graph_tgsmall/disambig_tid.int --transition-scale=1.0 data/lang_test_tgsmall/tmp/ilabels_2_1 exp/chain_cleaned/tdnn_1d_sp/tree exp/chain_cleaned/tdnn_1d_sp/final.mdl \r\n",
      "fstminimizeencoded \r\n",
      "fstdeterminizestar --use-log=true \r\n",
      "fstrmsymbols exp/chain_cleaned_out/graph_tgsmall/disambig_tid.int \r\n",
      "fstrmepslocal \r\n",
      "fsttablecompose exp/chain_cleaned_out/graph_tgsmall/Ha.fst 'fstrmsymbols --remove-arcs=true --apply-to-output=true data/lang_test_tgsmall/oov.int data/lang_test_tgsmall/tmp/CLG_2_1.fst|' \r\n",
      "fstrmsymbols --remove-arcs=true --apply-to-output=true data/lang_test_tgsmall/oov.int data/lang_test_tgsmall/tmp/CLG_2_1.fst \r\n",
      "fstisstochastic exp/chain_cleaned_out/graph_tgsmall/HCLGa.fst \r\n",
      "3.39453 -0.209239\r\n",
      "HCLGa is not stochastic\r\n",
      "add-self-loops --self-loop-scale=1.0 --reorder=true exp/chain_cleaned/tdnn_1d_sp/final.mdl exp/chain_cleaned_out/graph_tgsmall/HCLGa.fst \r\n",
      "fstisstochastic exp/chain_cleaned_out/graph_tgsmall/HCLG.fst \r\n",
      "3.05078 -0.127788\r\n",
      "[info]: final HCLG is not stochastic.\r\n"
     ]
    }
   ],
   "source": [
    "%env dir=exp/chain_cleaned/tdnn_1d_sp\n",
    "%env graph_dir=exp/chain_cleaned_out/graph_tgsmall\n",
    "!utils/mkgraph.sh --self-loop-scale 1.0 --remove-oov data/lang_test_tgsmall $dir $graph_dir"
   ]
  },
  {
   "cell_type": "markdown",
   "id": "muslim-sampling",
   "metadata": {
    "papermill": {
     "duration": 0.036189,
     "end_time": "2021-06-22T14:51:44.102342",
     "exception": false,
     "start_time": "2021-06-22T14:51:44.066153",
     "status": "completed"
    },
    "tags": []
   },
   "source": [
    "## Decode"
   ]
  },
  {
   "cell_type": "code",
   "execution_count": 35,
   "id": "answering-canadian",
   "metadata": {
    "execution": {
     "iopub.execute_input": "2021-06-22T14:51:44.185731Z",
     "iopub.status.busy": "2021-06-22T14:51:44.181669Z",
     "iopub.status.idle": "2021-06-22T14:51:46.218802Z",
     "shell.execute_reply": "2021-06-22T14:51:46.218350Z"
    },
    "papermill": {
     "duration": 2.080261,
     "end_time": "2021-06-22T14:51:46.218982",
     "exception": false,
     "start_time": "2021-06-22T14:51:44.138721",
     "status": "completed"
    },
    "tags": []
   },
   "outputs": [
    {
     "name": "stdout",
     "output_type": "stream",
     "text": [
      "steps/nnet3/decode.sh --acwt 1.0 --post-decode-acwt 10.0 --nj 8 --cmd run.pl --online-ivector-dir exp/nnet3_cleaned_out/ivectors_test-clean_hires exp/chain_cleaned_out/graph_tgsmall data/test-clean_hires exp/chain_cleaned/tdnn_1d_sp/decode_test-clean_tgsmall\r\n",
      "mkdir: cannot create directory 'exp/chain_cleaned/tdnn_1d_sp/decode_test-clean_tgsmall': Read-only file system\r\n",
      "steps/nnet3/decode.sh: line 101: exp/chain_cleaned/tdnn_1d_sp/decode_test-clean_tgsmall/num_jobs: No such file or directory\r\n",
      "steps/nnet3/decode.sh: feature type is raw\r\n",
      "run.pl: Error opening log file exp/chain_cleaned/tdnn_1d_sp/decode_test-clean_tgsmall/log/decode.1.log at /opt/kaldi/egs/usels/s5/utils/run.pl line 275.\r\n",
      "run.pl: Error opening log file exp/chain_cleaned/tdnn_1d_sp/decode_test-clean_tgsmall/log/decode.2.log at /opt/kaldi/egs/usels/s5/utils/run.pl line 275.\r\n",
      "run.pl: Error opening log file exp/chain_cleaned/tdnn_1d_sp/decode_test-clean_tgsmall/log/decode.3.log at /opt/kaldi/egs/usels/s5/utils/run.pl line 275.\r\n",
      "run.pl: Error opening log file exp/chain_cleaned/tdnn_1d_sp/decode_test-clean_tgsmall/log/decode.4.log at /opt/kaldi/egs/usels/s5/utils/run.pl line 275.\r\n",
      "run.pl: Error opening log file exp/chain_cleaned/tdnn_1d_sp/decode_test-clean_tgsmall/log/decode.8.log at /opt/kaldi/egs/usels/s5/utils/run.pl line 275.\r\n",
      "run.pl: Error opening log file exp/chain_cleaned/tdnn_1d_sp/decode_test-clean_tgsmall/log/decode.7.log at /opt/kaldi/egs/usels/s5/utils/run.pl line 275.\r\n",
      "run.pl: Error opening log file exp/chain_cleaned/tdnn_1d_sp/decode_test-clean_tgsmall/log/decode.6.log at /opt/kaldi/egs/usels/s5/utils/run.pl line 275.\r\n",
      "run.pl: Error opening log file exp/chain_cleaned/tdnn_1d_sp/decode_test-clean_tgsmall/log/decode.5.log at /opt/kaldi/egs/usels/s5/utils/run.pl line 275.\r\n",
      "run.pl: 8 / 8 failed, log is in exp/chain_cleaned/tdnn_1d_sp/decode_test-clean_tgsmall/log/decode.*.log\r\n",
      "steps/nnet3/decode.sh --acwt 1.0 --post-decode-acwt 10.0 --nj 8 --cmd run.pl --online-ivector-dir exp/nnet3_cleaned_out/ivectors_test-other_hires exp/chain_cleaned_out/graph_tgsmall data/test-other_hires exp/chain_cleaned/tdnn_1d_sp/decode_test-other_tgsmall\r\n",
      "mkdir: cannot create directory 'exp/chain_cleaned/tdnn_1d_sp/decode_test-other_tgsmall': Read-only file system\r\n",
      "steps/nnet3/decode.sh: line 101: exp/chain_cleaned/tdnn_1d_sp/decode_test-other_tgsmall/num_jobs: No such file or directory\r\n",
      "steps/nnet3/decode.sh: feature type is raw\r\n",
      "run.pl: Error opening log file exp/chain_cleaned/tdnn_1d_sp/decode_test-other_tgsmall/log/decode.1.log at /opt/kaldi/egs/usels/s5/utils/run.pl line 275.\r\n",
      "run.pl: Error opening log file exp/chain_cleaned/tdnn_1d_sp/decode_test-other_tgsmall/log/decode.2.log at /opt/kaldi/egs/usels/s5/utils/run.pl line 275.\r\n",
      "run.pl: Error opening log file exp/chain_cleaned/tdnn_1d_sp/decode_test-other_tgsmall/log/decode.3.log at /opt/kaldi/egs/usels/s5/utils/run.pl line 275.\r\n",
      "run.pl: Error opening log file exp/chain_cleaned/tdnn_1d_sp/decode_test-other_tgsmall/log/decode.4.log at /opt/kaldi/egs/usels/s5/utils/run.pl line 275.\r\n",
      "run.pl: Error opening log file exp/chain_cleaned/tdnn_1d_sp/decode_test-other_tgsmall/log/decode.6.log at /opt/kaldi/egs/usels/s5/utils/run.pl line 275.\r\n",
      "run.pl: Error opening log file exp/chain_cleaned/tdnn_1d_sp/decode_test-other_tgsmall/log/decode.5.log at /opt/kaldi/egs/usels/s5/utils/run.pl line 275.\r\n",
      "run.pl: Error opening log file exp/chain_cleaned/tdnn_1d_sp/decode_test-other_tgsmall/log/decode.7.log at /opt/kaldi/egs/usels/s5/utils/run.pl line 275.\r\n",
      "run.pl: Error opening log file exp/chain_cleaned/tdnn_1d_sp/decode_test-other_tgsmall/log/decode.8.log at /opt/kaldi/egs/usels/s5/utils/run.pl line 275.\r\n",
      "run.pl: 8 / 8 failed, log is in exp/chain_cleaned/tdnn_1d_sp/decode_test-other_tgsmall/log/decode.*.log\r\n"
     ]
    }
   ],
   "source": [
    "!steps/nnet3/decode.sh --acwt 1.0 --post-decode-acwt 10.0 --nj 8 --cmd \"$decode_cmd\" --online-ivector-dir exp/nnet3_cleaned_out/ivectors_test-clean_hires $graph_dir data/test-clean_hires $dir/decode_test-clean_tgsmall\n",
    "!steps/nnet3/decode.sh --acwt 1.0 --post-decode-acwt 10.0 --nj 8 --cmd \"$decode_cmd\" --online-ivector-dir exp/nnet3_cleaned_out/ivectors_test-other_hires $graph_dir data/test-other_hires $dir/decode_test-other_tgsmall"
   ]
  },
  {
   "cell_type": "markdown",
   "id": "advisory-collect",
   "metadata": {
    "papermill": {
     "duration": 0.038493,
     "end_time": "2021-06-22T14:51:46.296028",
     "exception": false,
     "start_time": "2021-06-22T14:51:46.257535",
     "status": "completed"
    },
    "tags": []
   },
   "source": [
    "## "
   ]
  }
 ],
 "metadata": {
  "kernelspec": {
   "display_name": "Python 3",
   "language": "python",
   "name": "python3"
  },
  "language_info": {
   "codemirror_mode": {
    "name": "ipython",
    "version": 3
   },
   "file_extension": ".py",
   "mimetype": "text/x-python",
   "name": "python",
   "nbconvert_exporter": "python",
   "pygments_lexer": "ipython3",
   "version": "3.7.10"
  },
  "papermill": {
   "default_parameters": {},
   "duration": 469.047416,
   "end_time": "2021-06-22T14:51:47.589147",
   "environment_variables": {},
   "exception": null,
   "input_path": "__notebook__.ipynb",
   "output_path": "__notebook__.ipynb",
   "parameters": {},
   "start_time": "2021-06-22T14:43:58.541731",
   "version": "2.3.3"
  }
 },
 "nbformat": 4,
 "nbformat_minor": 5
}
