{
 "cells": [
  {
   "cell_type": "markdown",
   "id": "joined-julian",
   "metadata": {
    "papermill": {
     "duration": 0.033625,
     "end_time": "2021-06-22T18:41:43.348899",
     "exception": false,
     "start_time": "2021-06-22T18:41:43.315274",
     "status": "completed"
    },
    "tags": []
   },
   "source": [
    "## Unpack Kaldi"
   ]
  },
  {
   "cell_type": "code",
   "execution_count": 1,
   "id": "cheap-travel",
   "metadata": {
    "_cell_guid": "b1076dfc-b9ad-4769-8c92-a6c4dae69d19",
    "_uuid": "8f2839f25d086af736a60e9eeb907d3b93b6e0e5",
    "execution": {
     "iopub.execute_input": "2021-06-22T18:41:43.428271Z",
     "iopub.status.busy": "2021-06-22T18:41:43.427214Z",
     "iopub.status.idle": "2021-06-22T18:41:43.431943Z",
     "shell.execute_reply": "2021-06-22T18:41:43.432440Z",
     "shell.execute_reply.started": "2021-06-22T11:54:50.153353Z"
    },
    "papermill": {
     "duration": 0.05095,
     "end_time": "2021-06-22T18:41:43.432754",
     "exception": false,
     "start_time": "2021-06-22T18:41:43.381804",
     "status": "completed"
    },
    "tags": []
   },
   "outputs": [
    {
     "name": "stdout",
     "output_type": "stream",
     "text": [
      "/opt\n"
     ]
    }
   ],
   "source": [
    "%cd /opt"
   ]
  },
  {
   "cell_type": "code",
   "execution_count": 2,
   "id": "governmental-photographer",
   "metadata": {
    "execution": {
     "iopub.execute_input": "2021-06-22T18:41:43.517337Z",
     "iopub.status.busy": "2021-06-22T18:41:43.505761Z",
     "iopub.status.idle": "2021-06-22T18:42:25.881517Z",
     "shell.execute_reply": "2021-06-22T18:42:25.880244Z",
     "shell.execute_reply.started": "2021-06-22T11:54:53.255442Z"
    },
    "papermill": {
     "duration": 42.41432,
     "end_time": "2021-06-22T18:42:25.881756",
     "exception": false,
     "start_time": "2021-06-22T18:41:43.467436",
     "status": "completed"
    },
    "tags": []
   },
   "outputs": [],
   "source": [
    "%%capture\n",
    "!tar xvf /kaggle/input/extract-prebuilt-kaldi-from-docker/kaldi.tar"
   ]
  },
  {
   "cell_type": "code",
   "execution_count": 3,
   "id": "economic-resistance",
   "metadata": {
    "execution": {
     "iopub.execute_input": "2021-06-22T18:42:25.953624Z",
     "iopub.status.busy": "2021-06-22T18:42:25.952632Z",
     "iopub.status.idle": "2021-06-22T18:42:25.955488Z",
     "shell.execute_reply": "2021-06-22T18:42:25.955952Z",
     "shell.execute_reply.started": "2021-06-22T11:55:40.60018Z"
    },
    "papermill": {
     "duration": 0.041063,
     "end_time": "2021-06-22T18:42:25.956118",
     "exception": false,
     "start_time": "2021-06-22T18:42:25.915055",
     "status": "completed"
    },
    "tags": []
   },
   "outputs": [],
   "source": [
    "import os\n",
    "os.environ['LD_LIBRARY_PATH'] = '/opt/conda/lib:/opt/kaldi/tools/openfst-1.6.7/lib:/opt/kaldi/src/lib:'\n",
    "EXISTING_PATH = os.environ['PATH']"
   ]
  },
  {
   "cell_type": "code",
   "execution_count": 4,
   "id": "entitled-arrest",
   "metadata": {
    "execution": {
     "iopub.execute_input": "2021-06-22T18:42:26.027033Z",
     "iopub.status.busy": "2021-06-22T18:42:26.025941Z",
     "iopub.status.idle": "2021-06-22T18:42:26.031504Z",
     "shell.execute_reply": "2021-06-22T18:42:26.030647Z"
    },
    "papermill": {
     "duration": 0.043154,
     "end_time": "2021-06-22T18:42:26.031714",
     "exception": false,
     "start_time": "2021-06-22T18:42:25.988560",
     "status": "completed"
    },
    "tags": []
   },
   "outputs": [
    {
     "name": "stdout",
     "output_type": "stream",
     "text": [
      "/\n"
     ]
    }
   ],
   "source": [
    "%cd /\n"
   ]
  },
  {
   "cell_type": "code",
   "execution_count": 5,
   "id": "floral-knife",
   "metadata": {
    "execution": {
     "iopub.execute_input": "2021-06-22T18:42:26.114220Z",
     "iopub.status.busy": "2021-06-22T18:42:26.113501Z",
     "iopub.status.idle": "2021-06-22T18:43:02.248477Z",
     "shell.execute_reply": "2021-06-22T18:43:02.247886Z"
    },
    "papermill": {
     "duration": 36.182629,
     "end_time": "2021-06-22T18:43:02.248677",
     "exception": false,
     "start_time": "2021-06-22T18:42:26.066048",
     "status": "completed"
    },
    "tags": []
   },
   "outputs": [],
   "source": [
    "%%capture\n",
    "!tar xvf /kaggle/input/extract-cuda-from-kaldi-docker/cuda.tar"
   ]
  },
  {
   "cell_type": "code",
   "execution_count": 6,
   "id": "entire-arbor",
   "metadata": {
    "execution": {
     "iopub.execute_input": "2021-06-22T18:43:09.417285Z",
     "iopub.status.busy": "2021-06-22T18:43:09.416248Z",
     "iopub.status.idle": "2021-06-22T18:43:09.419159Z",
     "shell.execute_reply": "2021-06-22T18:43:09.419587Z",
     "shell.execute_reply.started": "2021-06-22T13:29:47.085695Z"
    },
    "papermill": {
     "duration": 0.041405,
     "end_time": "2021-06-22T18:43:09.419781",
     "exception": false,
     "start_time": "2021-06-22T18:43:09.378376",
     "status": "completed"
    },
    "tags": []
   },
   "outputs": [],
   "source": [
    "import os\n",
    "os.environ['LD_LIBRARY_PATH'] = f'{os.environ[\"LD_LIBRARY_PATH\"]}:/usr/local/cuda-10.0/targets/x86_64-linux/lib/'"
   ]
  },
  {
   "cell_type": "code",
   "execution_count": 7,
   "id": "olympic-floor",
   "metadata": {
    "execution": {
     "iopub.execute_input": "2021-06-22T18:43:09.492979Z",
     "iopub.status.busy": "2021-06-22T18:43:09.492198Z",
     "iopub.status.idle": "2021-06-22T18:43:09.496221Z",
     "shell.execute_reply": "2021-06-22T18:43:09.496671Z",
     "shell.execute_reply.started": "2021-06-22T11:55:40.610869Z"
    },
    "papermill": {
     "duration": 0.042694,
     "end_time": "2021-06-22T18:43:09.496847",
     "exception": false,
     "start_time": "2021-06-22T18:43:09.454153",
     "status": "completed"
    },
    "tags": []
   },
   "outputs": [
    {
     "name": "stdout",
     "output_type": "stream",
     "text": [
      "/opt/kaldi/egs\n"
     ]
    }
   ],
   "source": [
    "%cd /opt/kaldi/egs"
   ]
  },
  {
   "cell_type": "markdown",
   "id": "middle-tolerance",
   "metadata": {
    "papermill": {
     "duration": 0.033003,
     "end_time": "2021-06-22T18:43:09.564198",
     "exception": false,
     "start_time": "2021-06-22T18:43:09.531195",
     "status": "completed"
    },
    "tags": []
   },
   "source": [
    "## Install flac"
   ]
  },
  {
   "cell_type": "code",
   "execution_count": 8,
   "id": "signal-treaty",
   "metadata": {
    "execution": {
     "iopub.execute_input": "2021-06-22T18:43:09.640656Z",
     "iopub.status.busy": "2021-06-22T18:43:09.639720Z",
     "iopub.status.idle": "2021-06-22T18:43:14.435969Z",
     "shell.execute_reply": "2021-06-22T18:43:14.435261Z",
     "shell.execute_reply.started": "2021-06-22T12:06:36.222984Z"
    },
    "papermill": {
     "duration": 4.838543,
     "end_time": "2021-06-22T18:43:14.436108",
     "exception": false,
     "start_time": "2021-06-22T18:43:09.597565",
     "status": "completed"
    },
    "tags": []
   },
   "outputs": [],
   "source": [
    "%%capture\n",
    "!apt install -y flac"
   ]
  },
  {
   "cell_type": "markdown",
   "id": "stunning-theme",
   "metadata": {
    "papermill": {
     "duration": 0.036121,
     "end_time": "2021-06-22T18:43:14.506944",
     "exception": false,
     "start_time": "2021-06-22T18:43:14.470823",
     "status": "completed"
    },
    "tags": []
   },
   "source": [
    "## Create a work directory"
   ]
  },
  {
   "cell_type": "code",
   "execution_count": 9,
   "id": "composite-course",
   "metadata": {
    "execution": {
     "iopub.execute_input": "2021-06-22T18:43:14.585494Z",
     "iopub.status.busy": "2021-06-22T18:43:14.581166Z",
     "iopub.status.idle": "2021-06-22T18:43:15.316641Z",
     "shell.execute_reply": "2021-06-22T18:43:15.317344Z",
     "shell.execute_reply.started": "2021-06-22T11:55:40.659251Z"
    },
    "papermill": {
     "duration": 0.775896,
     "end_time": "2021-06-22T18:43:15.317572",
     "exception": false,
     "start_time": "2021-06-22T18:43:14.541676",
     "status": "completed"
    },
    "tags": []
   },
   "outputs": [
    {
     "name": "stdout",
     "output_type": "stream",
     "text": [
      "/opt/kaldi/egs/usels/s5\n"
     ]
    }
   ],
   "source": [
    "!mkdir -p usels/s5\n",
    "%cd usels/s5"
   ]
  },
  {
   "cell_type": "code",
   "execution_count": 10,
   "id": "atmospheric-moscow",
   "metadata": {
    "execution": {
     "iopub.execute_input": "2021-06-22T18:43:15.394953Z",
     "iopub.status.busy": "2021-06-22T18:43:15.394202Z",
     "iopub.status.idle": "2021-06-22T18:43:18.328355Z",
     "shell.execute_reply": "2021-06-22T18:43:18.327842Z",
     "shell.execute_reply.started": "2021-06-22T12:08:43.066673Z"
    },
    "papermill": {
     "duration": 2.976406,
     "end_time": "2021-06-22T18:43:18.328498",
     "exception": false,
     "start_time": "2021-06-22T18:43:15.352092",
     "status": "completed"
    },
    "tags": []
   },
   "outputs": [],
   "source": [
    "!mkdir /kaggle/working/data\n",
    "!mkdir /kaggle/working/exp\n",
    "!ln -s /kaggle/working/data\n",
    "!ln -s /kaggle/working/exp"
   ]
  },
  {
   "cell_type": "code",
   "execution_count": 11,
   "id": "adjusted-theology",
   "metadata": {
    "execution": {
     "iopub.execute_input": "2021-06-22T18:43:18.410088Z",
     "iopub.status.busy": "2021-06-22T18:43:18.409448Z",
     "iopub.status.idle": "2021-06-22T18:43:20.556056Z",
     "shell.execute_reply": "2021-06-22T18:43:20.557043Z",
     "shell.execute_reply.started": "2021-06-22T11:55:41.459018Z"
    },
    "papermill": {
     "duration": 2.193303,
     "end_time": "2021-06-22T18:43:20.557250",
     "exception": false,
     "start_time": "2021-06-22T18:43:18.363947",
     "status": "completed"
    },
    "tags": []
   },
   "outputs": [],
   "source": [
    "!ln -s ../../wsj/s5/steps\n",
    "!ln -s ../../wsj/s5/utils\n",
    "!ln -s ../../librispeech/s5/local"
   ]
  },
  {
   "cell_type": "code",
   "execution_count": 12,
   "id": "initial-delaware",
   "metadata": {
    "execution": {
     "iopub.execute_input": "2021-06-22T18:43:20.631318Z",
     "iopub.status.busy": "2021-06-22T18:43:20.630593Z",
     "iopub.status.idle": "2021-06-22T18:43:21.366860Z",
     "shell.execute_reply": "2021-06-22T18:43:21.366261Z",
     "shell.execute_reply.started": "2021-06-22T11:55:43.77028Z"
    },
    "papermill": {
     "duration": 0.775239,
     "end_time": "2021-06-22T18:43:21.367005",
     "exception": false,
     "start_time": "2021-06-22T18:43:20.591766",
     "status": "completed"
    },
    "tags": []
   },
   "outputs": [],
   "source": [
    "!mkdir conf"
   ]
  },
  {
   "cell_type": "code",
   "execution_count": 13,
   "id": "numeric-reference",
   "metadata": {
    "execution": {
     "iopub.execute_input": "2021-06-22T18:43:21.438521Z",
     "iopub.status.busy": "2021-06-22T18:43:21.437890Z",
     "iopub.status.idle": "2021-06-22T18:43:21.443840Z",
     "shell.execute_reply": "2021-06-22T18:43:21.444339Z",
     "shell.execute_reply.started": "2021-06-22T11:55:44.555875Z"
    },
    "papermill": {
     "duration": 0.043633,
     "end_time": "2021-06-22T18:43:21.444508",
     "exception": false,
     "start_time": "2021-06-22T18:43:21.400875",
     "status": "completed"
    },
    "tags": []
   },
   "outputs": [
    {
     "name": "stdout",
     "output_type": "stream",
     "text": [
      "Writing conf/mfcc_hires.conf\n"
     ]
    }
   ],
   "source": [
    "%%writefile conf/mfcc_hires.conf\n",
    "# config for high-resolution MFCC features, intended for neural network training\n",
    "# Note: we keep all cepstra, so it has the same info as filterbank features,\n",
    "# but MFCC is more easily compressible (because less correlated) which is why \n",
    "# we prefer this method.\n",
    "--use-energy=false   # use average of log energy, not energy.\n",
    "--num-mel-bins=40     # similar to Google's setup.\n",
    "--num-ceps=40     # there is no dimensionality reduction.\n",
    "--low-freq=20     # low cutoff frequency for mel bins... this is high-bandwidth data, so\n",
    "                  # there might be some information at the low end.\n",
    "--high-freq=-400 # high cutoff frequently, relative to Nyquist of 8000 (=7600)"
   ]
  },
  {
   "cell_type": "markdown",
   "id": "specific-peninsula",
   "metadata": {
    "papermill": {
     "duration": 0.033866,
     "end_time": "2021-06-22T18:43:21.513329",
     "exception": false,
     "start_time": "2021-06-22T18:43:21.479463",
     "status": "completed"
    },
    "tags": []
   },
   "source": [
    "## Setting up paths\n",
    "\n",
    "(In the scripts, you just source `path.sh`)"
   ]
  },
  {
   "cell_type": "code",
   "execution_count": 14,
   "id": "proof-yorkshire",
   "metadata": {
    "execution": {
     "iopub.execute_input": "2021-06-22T18:43:21.587030Z",
     "iopub.status.busy": "2021-06-22T18:43:21.586411Z",
     "iopub.status.idle": "2021-06-22T18:43:21.588797Z",
     "shell.execute_reply": "2021-06-22T18:43:21.589367Z",
     "shell.execute_reply.started": "2021-06-22T11:55:44.565547Z"
    },
    "papermill": {
     "duration": 0.041983,
     "end_time": "2021-06-22T18:43:21.589521",
     "exception": false,
     "start_time": "2021-06-22T18:43:21.547538",
     "status": "completed"
    },
    "tags": []
   },
   "outputs": [
    {
     "name": "stdout",
     "output_type": "stream",
     "text": [
      "env: KALDI_ROOT=/opt/kaldi\n"
     ]
    }
   ],
   "source": [
    "%env KALDI_ROOT=/opt/kaldi"
   ]
  },
  {
   "cell_type": "code",
   "execution_count": 15,
   "id": "trained-intervention",
   "metadata": {
    "execution": {
     "iopub.execute_input": "2021-06-22T18:43:21.660886Z",
     "iopub.status.busy": "2021-06-22T18:43:21.660219Z",
     "iopub.status.idle": "2021-06-22T18:43:22.400202Z",
     "shell.execute_reply": "2021-06-22T18:43:22.399628Z",
     "shell.execute_reply.started": "2021-06-22T11:55:44.577705Z"
    },
    "papermill": {
     "duration": 0.776808,
     "end_time": "2021-06-22T18:43:22.400342",
     "exception": false,
     "start_time": "2021-06-22T18:43:21.623534",
     "status": "completed"
    },
    "tags": []
   },
   "outputs": [
    {
     "name": "stdout",
     "output_type": "stream",
     "text": [
      "export KALDI_ROOT=`pwd`/../../..\r\n",
      "[ -f $KALDI_ROOT/tools/env.sh ] && . $KALDI_ROOT/tools/env.sh\r\n",
      "export PATH=$PWD/utils/:$KALDI_ROOT/tools/openfst/bin:$PWD:$PATH\r\n",
      "[ ! -f $KALDI_ROOT/tools/config/common_path.sh ] && echo >&2 \"The standard file $KALDI_ROOT/tools/config/common_path.sh is not present -> Exit!\" && exit 1\r\n",
      ". $KALDI_ROOT/tools/config/common_path.sh\r\n",
      "export LC_ALL=C\r\n"
     ]
    }
   ],
   "source": [
    "!cat ../../wsj/s5/path.sh"
   ]
  },
  {
   "cell_type": "code",
   "execution_count": 16,
   "id": "lesser-dependence",
   "metadata": {
    "execution": {
     "iopub.execute_input": "2021-06-22T18:43:22.476506Z",
     "iopub.status.busy": "2021-06-22T18:43:22.475867Z",
     "iopub.status.idle": "2021-06-22T18:43:22.478872Z",
     "shell.execute_reply": "2021-06-22T18:43:22.479884Z",
     "shell.execute_reply.started": "2021-06-22T12:00:36.247262Z"
    },
    "papermill": {
     "duration": 0.045218,
     "end_time": "2021-06-22T18:43:22.480135",
     "exception": false,
     "start_time": "2021-06-22T18:43:22.434917",
     "status": "completed"
    },
    "tags": []
   },
   "outputs": [
    {
     "name": "stdout",
     "output_type": "stream",
     "text": [
      "env: LC_ALL=C\n"
     ]
    }
   ],
   "source": [
    "%env LC_ALL=C\n",
    "#PWD = !pwd\n",
    "PWD = '/opt/kaldi/egs/usels/s5'\n",
    "KALDI_ROOT = '/opt/kaldi'\n",
    "WSJ_PATH = f'{PWD}/utils/:{KALDI_ROOT}/tools/openfst/bin:{PWD}:{EXISTING_PATH}'"
   ]
  },
  {
   "cell_type": "code",
   "execution_count": 17,
   "id": "offensive-northeast",
   "metadata": {
    "execution": {
     "iopub.execute_input": "2021-06-22T18:43:22.559496Z",
     "iopub.status.busy": "2021-06-22T18:43:22.555770Z",
     "iopub.status.idle": "2021-06-22T18:43:23.276363Z",
     "shell.execute_reply": "2021-06-22T18:43:23.275817Z",
     "shell.execute_reply.started": "2021-06-22T11:57:02.231388Z"
    },
    "papermill": {
     "duration": 0.760001,
     "end_time": "2021-06-22T18:43:23.276499",
     "exception": false,
     "start_time": "2021-06-22T18:43:22.516498",
     "status": "completed"
    },
    "tags": []
   },
   "outputs": [
    {
     "name": "stdout",
     "output_type": "stream",
     "text": [
      "# we assume KALDI_ROOT is already defined\r\n",
      "[ -z \"$KALDI_ROOT\" ] && echo >&2 \"The variable KALDI_ROOT must be already defined\" && exit 1\r\n",
      "# The formatting of the path export command is intentionally weird, because\r\n",
      "# this allows for easy diff'ing\r\n",
      "export PATH=\\\r\n",
      "${KALDI_ROOT}/src/bin:\\\r\n",
      "${KALDI_ROOT}/src/chainbin:\\\r\n",
      "${KALDI_ROOT}/src/featbin:\\\r\n",
      "${KALDI_ROOT}/src/fgmmbin:\\\r\n",
      "${KALDI_ROOT}/src/fstbin:\\\r\n",
      "${KALDI_ROOT}/src/gmmbin:\\\r\n",
      "${KALDI_ROOT}/src/ivectorbin:\\\r\n",
      "${KALDI_ROOT}/src/kwsbin:\\\r\n",
      "${KALDI_ROOT}/src/latbin:\\\r\n",
      "${KALDI_ROOT}/src/lmbin:\\\r\n",
      "${KALDI_ROOT}/src/nnet2bin:\\\r\n",
      "${KALDI_ROOT}/src/nnet3bin:\\\r\n",
      "${KALDI_ROOT}/src/nnetbin:\\\r\n",
      "${KALDI_ROOT}/src/online2bin:\\\r\n",
      "${KALDI_ROOT}/src/onlinebin:\\\r\n",
      "${KALDI_ROOT}/src/rnnlmbin:\\\r\n",
      "${KALDI_ROOT}/src/sgmm2bin:\\\r\n",
      "${KALDI_ROOT}/src/sgmmbin:\\\r\n",
      "${KALDI_ROOT}/src/tfrnnlmbin:\\\r\n",
      "${KALDI_ROOT}/src/cudadecoderbin:\\\r\n",
      "$PATH\r\n"
     ]
    }
   ],
   "source": [
    "!cat $KALDI_ROOT/tools/config/common_path.sh"
   ]
  },
  {
   "cell_type": "code",
   "execution_count": 18,
   "id": "ambient-interim",
   "metadata": {
    "execution": {
     "iopub.execute_input": "2021-06-22T18:43:23.353165Z",
     "iopub.status.busy": "2021-06-22T18:43:23.352512Z",
     "iopub.status.idle": "2021-06-22T18:43:23.374327Z",
     "shell.execute_reply": "2021-06-22T18:43:23.373752Z",
     "shell.execute_reply.started": "2021-06-22T11:56:52.862746Z"
    },
    "papermill": {
     "duration": 0.062445,
     "end_time": "2021-06-22T18:43:23.374464",
     "exception": false,
     "start_time": "2021-06-22T18:43:23.312019",
     "status": "completed"
    },
    "tags": []
   },
   "outputs": [],
   "source": [
    "#kaldi_paths=!cat $KALDI_ROOT/tools/config/common_path.sh|grep '/src/'|awk -F':' '{print $1}'|awk -F'/' '{print $NF}'|tr '\\n' ':'\n",
    "raw_kaldi_paths=!cat $KALDI_ROOT/tools/config/common_path.sh|grep '/src/'|awk -F':' '{print $1}'|awk -F'/' '{print \"/opt/kaldi/src/\"$NF}'"
   ]
  },
  {
   "cell_type": "code",
   "execution_count": 19,
   "id": "cosmetic-optimum",
   "metadata": {
    "execution": {
     "iopub.execute_input": "2021-06-22T18:43:23.450397Z",
     "iopub.status.busy": "2021-06-22T18:43:23.449767Z",
     "iopub.status.idle": "2021-06-22T18:43:23.451800Z",
     "shell.execute_reply": "2021-06-22T18:43:23.452292Z",
     "shell.execute_reply.started": "2021-06-22T12:02:21.567242Z"
    },
    "papermill": {
     "duration": 0.042518,
     "end_time": "2021-06-22T18:43:23.452459",
     "exception": false,
     "start_time": "2021-06-22T18:43:23.409941",
     "status": "completed"
    },
    "tags": []
   },
   "outputs": [],
   "source": [
    "KALDI_PATHS=raw_kaldi_paths.nlstr.replace('\\n',':')"
   ]
  },
  {
   "cell_type": "code",
   "execution_count": 20,
   "id": "wanted-arthritis",
   "metadata": {
    "execution": {
     "iopub.execute_input": "2021-06-22T18:43:23.526988Z",
     "iopub.status.busy": "2021-06-22T18:43:23.526359Z",
     "iopub.status.idle": "2021-06-22T18:43:24.247487Z",
     "shell.execute_reply": "2021-06-22T18:43:24.248009Z",
     "shell.execute_reply.started": "2021-06-22T11:56:58.4537Z"
    },
    "papermill": {
     "duration": 0.760157,
     "end_time": "2021-06-22T18:43:24.248197",
     "exception": false,
     "start_time": "2021-06-22T18:43:23.488040",
     "status": "completed"
    },
    "tags": []
   },
   "outputs": [
    {
     "name": "stdout",
     "output_type": "stream",
     "text": [
      "export PATH=/opt/kaldi/tools/python:${PATH}\r\n",
      "export PHONETISAURUS=\"/tmp/output/opt/kaldi/tools/phonetisaurus-g2p\"\r\n",
      "export PATH=\"$PATH:${PHONETISAURUS}:${PHONETISAURUS}/src/scripts\"\r\n"
     ]
    }
   ],
   "source": [
    "!cat $KALDI_ROOT/tools/env.sh"
   ]
  },
  {
   "cell_type": "code",
   "execution_count": 21,
   "id": "impaired-heating",
   "metadata": {
    "execution": {
     "iopub.execute_input": "2021-06-22T18:43:24.324962Z",
     "iopub.status.busy": "2021-06-22T18:43:24.324287Z",
     "iopub.status.idle": "2021-06-22T18:43:24.327186Z",
     "shell.execute_reply": "2021-06-22T18:43:24.326667Z",
     "shell.execute_reply.started": "2021-06-22T12:02:09.80754Z"
    },
    "papermill": {
     "duration": 0.043409,
     "end_time": "2021-06-22T18:43:24.327316",
     "exception": false,
     "start_time": "2021-06-22T18:43:24.283907",
     "status": "completed"
    },
    "tags": []
   },
   "outputs": [],
   "source": [
    "PHONETISAURUS = \"/tmp/output/opt/kaldi/tools/phonetisaurus-g2p\"\n",
    "TOOLS_PATH = f'/opt/kaldi/tools/python:{PHONETISAURUS}:{PHONETISAURUS}/src/scripts'"
   ]
  },
  {
   "cell_type": "code",
   "execution_count": 22,
   "id": "intimate-clinton",
   "metadata": {
    "execution": {
     "iopub.execute_input": "2021-06-22T18:43:24.404227Z",
     "iopub.status.busy": "2021-06-22T18:43:24.403455Z",
     "iopub.status.idle": "2021-06-22T18:43:24.406959Z",
     "shell.execute_reply": "2021-06-22T18:43:24.407507Z",
     "shell.execute_reply.started": "2021-06-22T12:03:04.119662Z"
    },
    "papermill": {
     "duration": 0.044683,
     "end_time": "2021-06-22T18:43:24.407700",
     "exception": false,
     "start_time": "2021-06-22T18:43:24.363017",
     "status": "completed"
    },
    "tags": []
   },
   "outputs": [
    {
     "name": "stdout",
     "output_type": "stream",
     "text": [
      "env: PATH=f\"/opt/kaldi/egs/usels/s5/utils/:/opt/kaldi/tools/openfst/bin:/opt/kaldi/egs/usels/s5:/opt/conda/bin:/usr/local/sbin:/usr/local/bin:/usr/sbin:/usr/bin:/sbin:/bin:/opt/kaldi/src/bin:/opt/kaldi/src/chainbin:/opt/kaldi/src/featbin:/opt/kaldi/src/fgmmbin:/opt/kaldi/src/fstbin:/opt/kaldi/src/gmmbin:/opt/kaldi/src/ivectorbin:/opt/kaldi/src/kwsbin:/opt/kaldi/src/latbin:/opt/kaldi/src/lmbin:/opt/kaldi/src/nnet2bin:/opt/kaldi/src/nnet3bin:/opt/kaldi/src/nnetbin:/opt/kaldi/src/online2bin:/opt/kaldi/src/onlinebin:/opt/kaldi/src/rnnlmbin:/opt/kaldi/src/sgmm2bin:/opt/kaldi/src/sgmmbin:/opt/kaldi/src/tfrnnlmbin:/opt/kaldi/src/cudadecoderbin:/opt/kaldi/tools/python:/tmp/output/opt/kaldi/tools/phonetisaurus-g2p:/tmp/output/opt/kaldi/tools/phonetisaurus-g2p/src/scripts\"\n"
     ]
    }
   ],
   "source": [
    "%env PATH = f\"{WSJ_PATH}:{KALDI_PATHS}:{TOOLS_PATH}\""
   ]
  },
  {
   "cell_type": "code",
   "execution_count": 23,
   "id": "mathematical-electric",
   "metadata": {
    "execution": {
     "iopub.execute_input": "2021-06-22T18:43:24.489765Z",
     "iopub.status.busy": "2021-06-22T18:43:24.488893Z",
     "iopub.status.idle": "2021-06-22T18:43:25.210682Z",
     "shell.execute_reply": "2021-06-22T18:43:25.209755Z",
     "shell.execute_reply.started": "2021-06-22T12:16:15.76424Z"
    },
    "papermill": {
     "duration": 0.766636,
     "end_time": "2021-06-22T18:43:25.210825",
     "exception": false,
     "start_time": "2021-06-22T18:43:24.444189",
     "status": "completed"
    },
    "tags": []
   },
   "outputs": [
    {
     "name": "stdout",
     "output_type": "stream",
     "text": [
      "# you can change cmd.sh depending on what type of queue you are using.\r\n",
      "# If you have no queueing system and want to run on a local machine, you\r\n",
      "# can change all instances 'queue.pl' to run.pl (but be careful and run\r\n",
      "# commands one by one: most recipes will exhaust the memory on your\r\n",
      "# machine).  queue.pl works with GridEngine (qsub).  slurm.pl works\r\n",
      "# with slurm.  Different queues are configured differently, with different\r\n",
      "# queue names and different ways of specifying things like memory;\r\n",
      "# to account for these differences you can create and edit the file\r\n",
      "# conf/queue.conf to match your queue's configuration.  Search for\r\n",
      "# conf/queue.conf in http://kaldi-asr.org/doc/queue.html for more information,\r\n",
      "# or search for the string 'default_config' in utils/queue.pl or utils/slurm.pl.\r\n",
      "\r\n",
      "export train_cmd=queue.pl\r\n",
      "export decode_cmd=\"queue.pl --mem 2G\"\r\n",
      "# the use of cuda_cmd is deprecated, used only in 'nnet1',\r\n",
      "export cuda_cmd=\"queue.pl --gpu 1\"\r\n",
      "\r\n",
      "if [ \"$(hostname -d)\" == \"fit.vutbr.cz\" ]; then\r\n",
      "  queue_conf=$HOME/queue_conf/default.conf # see example /homes/kazi/iveselyk/queue_conf/default.conf,\r\n",
      "  export train_cmd=\"queue.pl --config $queue_conf --mem 2G --matylda 0.2\"\r\n",
      "  export decode_cmd=\"queue.pl --config $queue_conf --mem 3G --matylda 0.1\"\r\n",
      "  export cuda_cmd=\"queue.pl --config $queue_conf --gpu 1 --mem 10G --tmp 40G\"\r\n",
      "fi\r\n"
     ]
    }
   ],
   "source": [
    "!cat ../../wsj/s5/cmd.sh"
   ]
  },
  {
   "cell_type": "code",
   "execution_count": 24,
   "id": "assigned-exhibit",
   "metadata": {
    "execution": {
     "iopub.execute_input": "2021-06-22T18:43:25.289566Z",
     "iopub.status.busy": "2021-06-22T18:43:25.288951Z",
     "iopub.status.idle": "2021-06-22T18:43:25.291672Z",
     "shell.execute_reply": "2021-06-22T18:43:25.292382Z",
     "shell.execute_reply.started": "2021-06-22T12:25:36.054695Z"
    },
    "papermill": {
     "duration": 0.045417,
     "end_time": "2021-06-22T18:43:25.292594",
     "exception": false,
     "start_time": "2021-06-22T18:43:25.247177",
     "status": "completed"
    },
    "tags": []
   },
   "outputs": [
    {
     "name": "stdout",
     "output_type": "stream",
     "text": [
      "env: train_cmd=run.pl\n",
      "env: decode_cmd=run.pl\n"
     ]
    }
   ],
   "source": [
    "%env train_cmd=run.pl\n",
    "%env decode_cmd=run.pl"
   ]
  },
  {
   "cell_type": "code",
   "execution_count": 25,
   "id": "organized-flooring",
   "metadata": {
    "execution": {
     "iopub.execute_input": "2021-06-22T18:43:25.369858Z",
     "iopub.status.busy": "2021-06-22T18:43:25.369240Z",
     "iopub.status.idle": "2021-06-22T18:43:28.241332Z",
     "shell.execute_reply": "2021-06-22T18:43:28.240768Z",
     "shell.execute_reply.started": "2021-06-22T12:25:39.332426Z"
    },
    "papermill": {
     "duration": 2.911176,
     "end_time": "2021-06-22T18:43:28.241468",
     "exception": false,
     "start_time": "2021-06-22T18:43:25.330292",
     "status": "completed"
    },
    "tags": []
   },
   "outputs": [],
   "source": [
    "!ln -s ../../wsj/s5/cmd.sh\n",
    "!ln -s ../../wsj/s5/path.sh\n",
    "!ln -s utils/queue.pl\n",
    "!ln -s utils/run.pl"
   ]
  },
  {
   "cell_type": "code",
   "execution_count": 26,
   "id": "aggressive-discrimination",
   "metadata": {
    "execution": {
     "iopub.execute_input": "2021-06-22T18:43:28.324974Z",
     "iopub.status.busy": "2021-06-22T18:43:28.320147Z",
     "iopub.status.idle": "2021-06-22T18:43:29.043639Z",
     "shell.execute_reply": "2021-06-22T18:43:29.042979Z",
     "shell.execute_reply.started": "2021-06-22T12:25:11.355403Z"
    },
    "papermill": {
     "duration": 0.76551,
     "end_time": "2021-06-22T18:43:29.043773",
     "exception": false,
     "start_time": "2021-06-22T18:43:28.278263",
     "status": "completed"
    },
    "tags": []
   },
   "outputs": [],
   "source": [
    "!rm *.pl"
   ]
  },
  {
   "cell_type": "markdown",
   "id": "continuous-armor",
   "metadata": {
    "papermill": {
     "duration": 0.036714,
     "end_time": "2021-06-22T18:43:29.117887",
     "exception": false,
     "start_time": "2021-06-22T18:43:29.081173",
     "status": "completed"
    },
    "tags": []
   },
   "source": [
    "## Data prep"
   ]
  },
  {
   "cell_type": "code",
   "execution_count": 27,
   "id": "negative-vision",
   "metadata": {
    "execution": {
     "iopub.execute_input": "2021-06-22T18:43:29.203070Z",
     "iopub.status.busy": "2021-06-22T18:43:29.202153Z",
     "iopub.status.idle": "2021-06-22T18:43:41.935785Z",
     "shell.execute_reply": "2021-06-22T18:43:41.935061Z",
     "shell.execute_reply.started": "2021-06-22T12:10:48.153674Z"
    },
    "papermill": {
     "duration": 12.780684,
     "end_time": "2021-06-22T18:43:41.935966",
     "exception": false,
     "start_time": "2021-06-22T18:43:29.155282",
     "status": "completed"
    },
    "tags": []
   },
   "outputs": [
    {
     "name": "stdout",
     "output_type": "stream",
     "text": [
      "utils/validate_data_dir.sh: Successfully validated data-directory data/test-other\r\n",
      "local/data_prep.sh: successfully prepared data in data/test-other\r\n",
      "utils/validate_data_dir.sh: Successfully validated data-directory data/test-clean\r\n",
      "local/data_prep.sh: successfully prepared data in data/test-clean\r\n"
     ]
    }
   ],
   "source": [
    "!local/data_prep.sh /kaggle/input/librispeech-test-clean-and-other/LibriSpeech/test-other data/test-other\n",
    "!local/data_prep.sh /kaggle/input/librispeech-test-clean-and-other/LibriSpeech/test-clean data/test-clean"
   ]
  },
  {
   "cell_type": "code",
   "execution_count": 28,
   "id": "sporting-collapse",
   "metadata": {
    "execution": {
     "iopub.execute_input": "2021-06-22T18:43:42.020913Z",
     "iopub.status.busy": "2021-06-22T18:43:42.017038Z",
     "iopub.status.idle": "2021-06-22T18:43:44.026825Z",
     "shell.execute_reply": "2021-06-22T18:43:44.026033Z",
     "shell.execute_reply.started": "2021-06-22T12:12:48.716774Z"
    },
    "papermill": {
     "duration": 2.053221,
     "end_time": "2021-06-22T18:43:44.026969",
     "exception": false,
     "start_time": "2021-06-22T18:43:41.973748",
     "status": "completed"
    },
    "tags": []
   },
   "outputs": [
    {
     "name": "stdout",
     "output_type": "stream",
     "text": [
      "utils/copy_data_dir.sh: copied data from data/test-clean to data/test-clean_hires\r\n",
      "utils/validate_data_dir.sh: Successfully validated data-directory data/test-clean_hires\r\n",
      "utils/copy_data_dir.sh: copied data from data/test-other to data/test-other_hires\r\n",
      "utils/validate_data_dir.sh: Successfully validated data-directory data/test-other_hires\r\n"
     ]
    }
   ],
   "source": [
    "!utils/copy_data_dir.sh data/test-clean data/test-clean_hires\n",
    "!utils/copy_data_dir.sh data/test-other data/test-other_hires"
   ]
  },
  {
   "cell_type": "code",
   "execution_count": 29,
   "id": "several-cable",
   "metadata": {
    "execution": {
     "iopub.execute_input": "2021-06-22T18:43:44.121187Z",
     "iopub.status.busy": "2021-06-22T18:43:44.120510Z",
     "iopub.status.idle": "2021-06-22T18:43:44.870718Z",
     "shell.execute_reply": "2021-06-22T18:43:44.870125Z",
     "shell.execute_reply.started": "2021-06-22T12:20:32.826362Z"
    },
    "papermill": {
     "duration": 0.80368,
     "end_time": "2021-06-22T18:43:44.870858",
     "exception": false,
     "start_time": "2021-06-22T18:43:44.067178",
     "status": "completed"
    },
    "tags": []
   },
   "outputs": [],
   "source": [
    "!ln -s utils/parse_options.sh"
   ]
  },
  {
   "cell_type": "code",
   "execution_count": 30,
   "id": "tired-density",
   "metadata": {
    "execution": {
     "iopub.execute_input": "2021-06-22T18:43:44.965270Z",
     "iopub.status.busy": "2021-06-22T18:43:44.961966Z",
     "iopub.status.idle": "2021-06-22T18:45:11.141529Z",
     "shell.execute_reply": "2021-06-22T18:45:11.140858Z",
     "shell.execute_reply.started": "2021-06-22T12:25:44.313451Z"
    },
    "papermill": {
     "duration": 86.232247,
     "end_time": "2021-06-22T18:45:11.141695",
     "exception": false,
     "start_time": "2021-06-22T18:43:44.909448",
     "status": "completed"
    },
    "tags": []
   },
   "outputs": [
    {
     "name": "stdout",
     "output_type": "stream",
     "text": [
      "steps/make_mfcc.sh --nj 20 --mfcc-config conf/mfcc_hires.conf --cmd run.pl data/test-clean_hires\r\n",
      "utils/validate_data_dir.sh: Successfully validated data-directory data/test-clean_hires\r\n",
      "steps/make_mfcc.sh: [info]: no segments file exists: assuming wav.scp indexed by utterance.\r\n",
      "steps/make_mfcc.sh: Succeeded creating MFCC features for test-clean_hires\r\n",
      "steps/compute_cmvn_stats.sh data/test-clean_hires\r\n",
      "Succeeded creating CMVN stats for test-clean_hires\r\n",
      "fix_data_dir.sh: kept all 2620 utterances.\r\n",
      "fix_data_dir.sh: old files are kept in data/test-clean_hires/.backup\r\n",
      "steps/make_mfcc.sh --nj 20 --mfcc-config conf/mfcc_hires.conf --cmd run.pl data/test-other_hires\r\n",
      "utils/validate_data_dir.sh: Successfully validated data-directory data/test-other_hires\r\n",
      "steps/make_mfcc.sh: [info]: no segments file exists: assuming wav.scp indexed by utterance.\r\n",
      "steps/make_mfcc.sh: Succeeded creating MFCC features for test-other_hires\r\n",
      "steps/compute_cmvn_stats.sh data/test-other_hires\r\n",
      "Succeeded creating CMVN stats for test-other_hires\r\n",
      "fix_data_dir.sh: kept all 2939 utterances.\r\n",
      "fix_data_dir.sh: old files are kept in data/test-other_hires/.backup\r\n"
     ]
    }
   ],
   "source": [
    "!steps/make_mfcc.sh --nj 20 --mfcc-config conf/mfcc_hires.conf --cmd \"$train_cmd\" data/test-clean_hires\n",
    "!steps/compute_cmvn_stats.sh data/test-clean_hires\n",
    "!utils/fix_data_dir.sh data/test-clean_hires\n",
    "!steps/make_mfcc.sh --nj 20 --mfcc-config conf/mfcc_hires.conf --cmd \"$train_cmd\" data/test-other_hires\n",
    "!steps/compute_cmvn_stats.sh data/test-other_hires\n",
    "!utils/fix_data_dir.sh data/test-other_hires\n"
   ]
  },
  {
   "cell_type": "markdown",
   "id": "vocational-polyester",
   "metadata": {
    "papermill": {
     "duration": 0.043385,
     "end_time": "2021-06-22T18:45:11.228667",
     "exception": false,
     "start_time": "2021-06-22T18:45:11.185282",
     "status": "completed"
    },
    "tags": []
   },
   "source": [
    "## Extract i-vectors"
   ]
  },
  {
   "cell_type": "code",
   "execution_count": 31,
   "id": "interpreted-milton",
   "metadata": {
    "execution": {
     "iopub.execute_input": "2021-06-22T18:45:11.322223Z",
     "iopub.status.busy": "2021-06-22T18:45:11.321328Z",
     "iopub.status.idle": "2021-06-22T18:45:12.761312Z",
     "shell.execute_reply": "2021-06-22T18:45:12.761802Z",
     "shell.execute_reply.started": "2021-06-22T12:38:42.072847Z"
    },
    "papermill": {
     "duration": 1.490165,
     "end_time": "2021-06-22T18:45:12.761983",
     "exception": false,
     "start_time": "2021-06-22T18:45:11.271818",
     "status": "completed"
    },
    "tags": []
   },
   "outputs": [],
   "source": [
    "!ln -s /kaggle/input/kaldi-librispeech-model/exp/nnet3_cleaned/ exp/nnet3_cleaned\n",
    "!ln -s /kaggle/input/kaldi-librispeech-model/exp/chain_cleaned/ exp/chain_cleaned"
   ]
  },
  {
   "cell_type": "code",
   "execution_count": 32,
   "id": "adolescent-garden",
   "metadata": {
    "execution": {
     "iopub.execute_input": "2021-06-22T18:45:12.865687Z",
     "iopub.status.busy": "2021-06-22T18:45:12.861205Z",
     "iopub.status.idle": "2021-06-22T18:46:22.209946Z",
     "shell.execute_reply": "2021-06-22T18:46:22.209278Z",
     "shell.execute_reply.started": "2021-06-22T12:44:16.329652Z"
    },
    "papermill": {
     "duration": 69.404045,
     "end_time": "2021-06-22T18:46:22.210084",
     "exception": false,
     "start_time": "2021-06-22T18:45:12.806039",
     "status": "completed"
    },
    "tags": []
   },
   "outputs": [
    {
     "name": "stdout",
     "output_type": "stream",
     "text": [
      "env: nspk=$(wc -l <data/test-clean_hires/spk2utt)\n",
      "steps/online/nnet2/extract_ivectors_online.sh --cmd run.pl --nj $(wc -l <data/test-clean_hires/spk2utt) data/test-clean_hires exp/nnet3_cleaned/extractor exp/nnet3_cleaned_out/ivectors_test-clean_hires\r\n",
      "steps/online/nnet2/extract_ivectors_online.sh: extracting iVectors\r\n",
      "steps/online/nnet2/extract_ivectors_online.sh: combining iVectors across jobs\r\n",
      "steps/online/nnet2/extract_ivectors_online.sh: done extracting (online) iVectors to exp/nnet3_cleaned_out/ivectors_test-clean_hires using the extractor in exp/nnet3_cleaned/extractor.\r\n",
      "env: nspk=$(wc -l <data/test-other_hires/spk2utt)\n",
      "steps/online/nnet2/extract_ivectors_online.sh --cmd run.pl --nj $(wc -l <data/test-other_hires/spk2utt) data/test-other_hires exp/nnet3_cleaned/extractor exp/nnet3_cleaned_out/ivectors_test-other_hires\r\n",
      "steps/online/nnet2/extract_ivectors_online.sh: extracting iVectors\r\n",
      "steps/online/nnet2/extract_ivectors_online.sh: combining iVectors across jobs\r\n",
      "steps/online/nnet2/extract_ivectors_online.sh: done extracting (online) iVectors to exp/nnet3_cleaned_out/ivectors_test-other_hires using the extractor in exp/nnet3_cleaned/extractor.\r\n"
     ]
    }
   ],
   "source": [
    "%env nspk=$(wc -l <data/test-clean_hires/spk2utt)\n",
    "!steps/online/nnet2/extract_ivectors_online.sh --cmd \"$train_cmd\" --nj \"${nspk}\" data/test-clean_hires exp/nnet3_cleaned/extractor exp/nnet3_cleaned_out/ivectors_test-clean_hires\n",
    "%env nspk=$(wc -l <data/test-other_hires/spk2utt)\n",
    "!steps/online/nnet2/extract_ivectors_online.sh --cmd \"$train_cmd\" --nj \"${nspk}\" data/test-other_hires exp/nnet3_cleaned/extractor exp/nnet3_cleaned_out/ivectors_test-other_hires"
   ]
  },
  {
   "cell_type": "markdown",
   "id": "identical-flood",
   "metadata": {
    "papermill": {
     "duration": 0.045651,
     "end_time": "2021-06-22T18:46:22.302216",
     "exception": false,
     "start_time": "2021-06-22T18:46:22.256565",
     "status": "completed"
    },
    "tags": []
   },
   "source": [
    "## Build decoding graph"
   ]
  },
  {
   "cell_type": "markdown",
   "id": "narrow-memphis",
   "metadata": {
    "papermill": {
     "duration": 0.046129,
     "end_time": "2021-06-22T18:46:22.394258",
     "exception": false,
     "start_time": "2021-06-22T18:46:22.348129",
     "status": "completed"
    },
    "tags": []
   },
   "source": [
    "Just linking this directory won't work, as it expects to be able to write to it (Kaldi scripts, smh)"
   ]
  },
  {
   "cell_type": "code",
   "execution_count": 33,
   "id": "educated-concert",
   "metadata": {
    "execution": {
     "iopub.execute_input": "2021-06-22T18:46:22.494907Z",
     "iopub.status.busy": "2021-06-22T18:46:22.494250Z",
     "iopub.status.idle": "2021-06-22T18:46:25.220162Z",
     "shell.execute_reply": "2021-06-22T18:46:25.219614Z"
    },
    "papermill": {
     "duration": 2.780206,
     "end_time": "2021-06-22T18:46:25.220321",
     "exception": false,
     "start_time": "2021-06-22T18:46:22.440115",
     "status": "completed"
    },
    "tags": []
   },
   "outputs": [],
   "source": [
    "!cp -r /kaggle/input/kaldi-librispeech-model/data/lang_test_tgsmall data"
   ]
  },
  {
   "cell_type": "code",
   "execution_count": 34,
   "id": "worth-retention",
   "metadata": {
    "execution": {
     "iopub.execute_input": "2021-06-22T18:46:25.322755Z",
     "iopub.status.busy": "2021-06-22T18:46:25.321821Z",
     "iopub.status.idle": "2021-06-22T18:49:32.113850Z",
     "shell.execute_reply": "2021-06-22T18:49:32.114990Z"
    },
    "papermill": {
     "duration": 186.848358,
     "end_time": "2021-06-22T18:49:32.115388",
     "exception": false,
     "start_time": "2021-06-22T18:46:25.267030",
     "status": "completed"
    },
    "tags": []
   },
   "outputs": [
    {
     "name": "stdout",
     "output_type": "stream",
     "text": [
      "env: dir=exp/chain_cleaned/tdnn_1d_sp\n",
      "env: graph_dir=exp/chain_cleaned_out/graph_tgsmall\n",
      "tree-info exp/chain_cleaned/tdnn_1d_sp/tree \r\n",
      "tree-info exp/chain_cleaned/tdnn_1d_sp/tree \r\n",
      "fstpushspecial \r\n",
      "fstminimizeencoded \r\n",
      "fstdeterminizestar --use-log=true \r\n",
      "fsttablecompose data/lang_test_tgsmall/L_disambig.fst data/lang_test_tgsmall/G.fst \r\n",
      "fstisstochastic data/lang_test_tgsmall/tmp/LG.fst \r\n",
      "-0.0459745 -0.0466771\r\n",
      "[info]: LG not stochastic.\r\n",
      "fstcomposecontext --context-size=2 --central-position=1 --read-disambig-syms=data/lang_test_tgsmall/phones/disambig.int --write-disambig-syms=data/lang_test_tgsmall/tmp/disambig_ilabels_2_1.int data/lang_test_tgsmall/tmp/ilabels_2_1.113734 data/lang_test_tgsmall/tmp/LG.fst \r\n",
      "fstisstochastic data/lang_test_tgsmall/tmp/CLG_2_1.fst \r\n",
      "-0.0459745 -0.0466771\r\n",
      "[info]: CLG not stochastic.\r\n",
      "make-h-transducer --disambig-syms-out=exp/chain_cleaned_out/graph_tgsmall/disambig_tid.int --transition-scale=1.0 data/lang_test_tgsmall/tmp/ilabels_2_1 exp/chain_cleaned/tdnn_1d_sp/tree exp/chain_cleaned/tdnn_1d_sp/final.mdl \r\n",
      "fsttablecompose exp/chain_cleaned_out/graph_tgsmall/Ha.fst 'fstrmsymbols --remove-arcs=true --apply-to-output=true data/lang_test_tgsmall/oov.int data/lang_test_tgsmall/tmp/CLG_2_1.fst|' \r\n",
      "fstdeterminizestar --use-log=true \r\n",
      "fstminimizeencoded \r\n",
      "fstrmsymbols exp/chain_cleaned_out/graph_tgsmall/disambig_tid.int \r\n",
      "fstrmsymbols --remove-arcs=true --apply-to-output=true data/lang_test_tgsmall/oov.int data/lang_test_tgsmall/tmp/CLG_2_1.fst \r\n",
      "fstrmepslocal \r\n",
      "fstisstochastic exp/chain_cleaned_out/graph_tgsmall/HCLGa.fst \r\n",
      "3.39453 -0.209239\r\n",
      "HCLGa is not stochastic\r\n",
      "add-self-loops --self-loop-scale=1.0 --reorder=true exp/chain_cleaned/tdnn_1d_sp/final.mdl exp/chain_cleaned_out/graph_tgsmall/HCLGa.fst \r\n",
      "fstisstochastic exp/chain_cleaned_out/graph_tgsmall/HCLG.fst \r\n",
      "3.05078 -0.127788\r\n",
      "[info]: final HCLG is not stochastic.\r\n"
     ]
    }
   ],
   "source": [
    "%env dir=exp/chain_cleaned/tdnn_1d_sp\n",
    "%env graph_dir=exp/chain_cleaned_out/graph_tgsmall\n",
    "!utils/mkgraph.sh --self-loop-scale 1.0 --remove-oov data/lang_test_tgsmall $dir $graph_dir"
   ]
  },
  {
   "cell_type": "markdown",
   "id": "twelve-space",
   "metadata": {
    "papermill": {
     "duration": 0.052528,
     "end_time": "2021-06-22T18:49:32.221201",
     "exception": false,
     "start_time": "2021-06-22T18:49:32.168673",
     "status": "completed"
    },
    "tags": []
   },
   "source": [
    "## Decode"
   ]
  },
  {
   "cell_type": "code",
   "execution_count": 35,
   "id": "human-greene",
   "metadata": {
    "execution": {
     "iopub.execute_input": "2021-06-22T18:49:32.331846Z",
     "iopub.status.busy": "2021-06-22T18:49:32.330879Z",
     "iopub.status.idle": "2021-06-22T18:49:33.812032Z",
     "shell.execute_reply": "2021-06-22T18:49:33.812933Z"
    },
    "papermill": {
     "duration": 1.539683,
     "end_time": "2021-06-22T18:49:33.813105",
     "exception": false,
     "start_time": "2021-06-22T18:49:32.273422",
     "status": "completed"
    },
    "tags": []
   },
   "outputs": [
    {
     "name": "stdout",
     "output_type": "stream",
     "text": [
      "/kaggle/working/exp/tdnn_1d_sp\n",
      "/opt/kaldi/egs/usels/s5\n",
      "popd -> /opt/kaldi/egs/usels/s5\n"
     ]
    }
   ],
   "source": [
    "!mkdir exp/tdnn_1d_sp\n",
    "%pushd exp/tdnn_1d_sp\n",
    "!for i in /kaggle/input/kaldi-librispeech-model/exp/chain_cleaned/tdnn_1d_sp/*;do ln -s $i;done\n",
    "%popd"
   ]
  },
  {
   "cell_type": "code",
   "execution_count": 36,
   "id": "employed-inventory",
   "metadata": {
    "execution": {
     "iopub.execute_input": "2021-06-22T18:49:33.937515Z",
     "iopub.status.busy": "2021-06-22T18:49:33.932527Z",
     "iopub.status.idle": "2021-06-22T19:53:52.276911Z",
     "shell.execute_reply": "2021-06-22T19:53:52.277550Z"
    },
    "papermill": {
     "duration": 3858.410855,
     "end_time": "2021-06-22T19:53:52.277861",
     "exception": false,
     "start_time": "2021-06-22T18:49:33.867006",
     "status": "completed"
    },
    "tags": []
   },
   "outputs": [
    {
     "name": "stdout",
     "output_type": "stream",
     "text": [
      "env: dir=exp/tdnn_1d_sp\n",
      "steps/nnet3/decode.sh --acwt 1.0 --post-decode-acwt 10.0 --nj 8 --cmd run.pl --online-ivector-dir exp/nnet3_cleaned_out/ivectors_test-clean_hires exp/chain_cleaned_out/graph_tgsmall data/test-clean_hires exp/tdnn_1d_sp/decode_test-other_tgsmall\r\n",
      "steps/nnet3/decode.sh: feature type is raw\r\n",
      "steps/diagnostic/analyze_lats.sh --cmd run.pl --iter final exp/chain_cleaned_out/graph_tgsmall exp/tdnn_1d_sp/decode_test-other_tgsmall\r\n",
      "steps/diagnostic/analyze_lats.sh: see stats in exp/tdnn_1d_sp/decode_test-other_tgsmall/log/analyze_alignments.log\r\n",
      "Overall, lattice depth (10,50,90-percentile)=(1,2,5) and mean=2.8\r\n",
      "steps/diagnostic/analyze_lats.sh: see stats in exp/tdnn_1d_sp/decode_test-other_tgsmall/log/analyze_lattice_depth_stats.log\r\n",
      "score best paths\r\n",
      "score confidence and timing with sclite\r\n",
      "Decoding done.\r\n",
      "steps/nnet3/decode.sh --acwt 1.0 --post-decode-acwt 10.0 --nj 8 --cmd run.pl --online-ivector-dir exp/nnet3_cleaned_out/ivectors_test-other_hires exp/chain_cleaned_out/graph_tgsmall data/test-other_hires exp/tdnn_1d_sp/decode_test-other_tgsmall\r\n",
      "steps/nnet3/decode.sh: feature type is raw\r\n",
      "steps/diagnostic/analyze_lats.sh --cmd run.pl --iter final exp/chain_cleaned_out/graph_tgsmall exp/tdnn_1d_sp/decode_test-other_tgsmall\r\n",
      "steps/diagnostic/analyze_lats.sh: see stats in exp/tdnn_1d_sp/decode_test-other_tgsmall/log/analyze_alignments.log\r\n",
      "Overall, lattice depth (10,50,90-percentile)=(1,3,13) and mean=6.3\r\n",
      "steps/diagnostic/analyze_lats.sh: see stats in exp/tdnn_1d_sp/decode_test-other_tgsmall/log/analyze_lattice_depth_stats.log\r\n",
      "score best paths\r\n",
      "score confidence and timing with sclite\r\n",
      "Decoding done.\r\n"
     ]
    }
   ],
   "source": [
    "%env dir=exp/tdnn_1d_sp\n",
    "!steps/nnet3/decode.sh --acwt 1.0 --post-decode-acwt 10.0 --nj 8 --cmd \"$decode_cmd\" --online-ivector-dir exp/nnet3_cleaned_out/ivectors_test-clean_hires $graph_dir data/test-clean_hires $dir/decode_test-other_tgsmall\n",
    "!steps/nnet3/decode.sh --acwt 1.0 --post-decode-acwt 10.0 --nj 8 --cmd \"$decode_cmd\" --online-ivector-dir exp/nnet3_cleaned_out/ivectors_test-other_hires $graph_dir data/test-other_hires $dir/decode_test-other_tgsmall"
   ]
  },
  {
   "cell_type": "markdown",
   "id": "disabled-airport",
   "metadata": {
    "papermill": {
     "duration": 0.057792,
     "end_time": "2021-06-22T19:53:52.394721",
     "exception": false,
     "start_time": "2021-06-22T19:53:52.336929",
     "status": "completed"
    },
    "tags": []
   },
   "source": [
    "## "
   ]
  }
 ],
 "metadata": {
  "kernelspec": {
   "display_name": "Python 3",
   "language": "python",
   "name": "python3"
  },
  "language_info": {
   "codemirror_mode": {
    "name": "ipython",
    "version": 3
   },
   "file_extension": ".py",
   "mimetype": "text/x-python",
   "name": "python",
   "nbconvert_exporter": "python",
   "pygments_lexer": "ipython3",
   "version": "3.7.10"
  },
  "papermill": {
   "default_parameters": {},
   "duration": 4339.285481,
   "end_time": "2021-06-22T19:53:54.136146",
   "environment_variables": {},
   "exception": null,
   "input_path": "__notebook__.ipynb",
   "output_path": "__notebook__.ipynb",
   "parameters": {},
   "start_time": "2021-06-22T18:41:34.850665",
   "version": "2.3.3"
  }
 },
 "nbformat": 4,
 "nbformat_minor": 5
}
