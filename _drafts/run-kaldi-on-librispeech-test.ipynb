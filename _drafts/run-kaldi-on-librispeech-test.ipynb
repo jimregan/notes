{
 "cells": [
  {
   "cell_type": "markdown",
   "id": "numerous-acrylic",
   "metadata": {
    "papermill": {
     "duration": 0.040046,
     "end_time": "2021-06-22T20:36:20.753807",
     "exception": false,
     "start_time": "2021-06-22T20:36:20.713761",
     "status": "completed"
    },
    "tags": []
   },
   "source": [
    "## Unpack Kaldi"
   ]
  },
  {
   "cell_type": "code",
   "execution_count": 1,
   "id": "further-purse",
   "metadata": {
    "_cell_guid": "b1076dfc-b9ad-4769-8c92-a6c4dae69d19",
    "_uuid": "8f2839f25d086af736a60e9eeb907d3b93b6e0e5",
    "execution": {
     "iopub.execute_input": "2021-06-22T20:36:20.837765Z",
     "iopub.status.busy": "2021-06-22T20:36:20.834104Z",
     "iopub.status.idle": "2021-06-22T20:36:20.844365Z",
     "shell.execute_reply": "2021-06-22T20:36:20.843668Z",
     "shell.execute_reply.started": "2021-06-22T11:54:50.153353Z"
    },
    "papermill": {
     "duration": 0.054817,
     "end_time": "2021-06-22T20:36:20.844528",
     "exception": false,
     "start_time": "2021-06-22T20:36:20.789711",
     "status": "completed"
    },
    "tags": []
   },
   "outputs": [
    {
     "name": "stdout",
     "output_type": "stream",
     "text": [
      "/opt\n"
     ]
    }
   ],
   "source": [
    "%cd /opt"
   ]
  },
  {
   "cell_type": "code",
   "execution_count": 2,
   "id": "effective-accuracy",
   "metadata": {
    "execution": {
     "iopub.execute_input": "2021-06-22T20:36:20.925624Z",
     "iopub.status.busy": "2021-06-22T20:36:20.924964Z",
     "iopub.status.idle": "2021-06-22T20:36:59.914891Z",
     "shell.execute_reply": "2021-06-22T20:36:59.915433Z",
     "shell.execute_reply.started": "2021-06-22T11:54:53.255442Z"
    },
    "papermill": {
     "duration": 39.033738,
     "end_time": "2021-06-22T20:36:59.915659",
     "exception": false,
     "start_time": "2021-06-22T20:36:20.881921",
     "status": "completed"
    },
    "tags": []
   },
   "outputs": [],
   "source": [
    "%%capture\n",
    "!tar xvf /kaggle/input/extract-prebuilt-kaldi-from-docker/kaldi.tar"
   ]
  },
  {
   "cell_type": "code",
   "execution_count": 3,
   "id": "french-mayor",
   "metadata": {
    "execution": {
     "iopub.execute_input": "2021-06-22T20:36:59.994103Z",
     "iopub.status.busy": "2021-06-22T20:36:59.993455Z",
     "iopub.status.idle": "2021-06-22T20:36:59.997247Z",
     "shell.execute_reply": "2021-06-22T20:36:59.997705Z",
     "shell.execute_reply.started": "2021-06-22T11:55:40.60018Z"
    },
    "papermill": {
     "duration": 0.044821,
     "end_time": "2021-06-22T20:36:59.997894",
     "exception": false,
     "start_time": "2021-06-22T20:36:59.953073",
     "status": "completed"
    },
    "tags": []
   },
   "outputs": [],
   "source": [
    "import os\n",
    "os.environ['LD_LIBRARY_PATH'] = '/opt/conda/lib:/opt/kaldi/tools/openfst-1.6.7/lib:/opt/kaldi/src/lib:'\n",
    "EXISTING_PATH = os.environ['PATH']"
   ]
  },
  {
   "cell_type": "code",
   "execution_count": 4,
   "id": "partial-hungarian",
   "metadata": {
    "execution": {
     "iopub.execute_input": "2021-06-22T20:37:00.078821Z",
     "iopub.status.busy": "2021-06-22T20:37:00.078171Z",
     "iopub.status.idle": "2021-06-22T20:37:00.097067Z",
     "shell.execute_reply": "2021-06-22T20:37:00.097840Z"
    },
    "papermill": {
     "duration": 0.061043,
     "end_time": "2021-06-22T20:37:00.098124",
     "exception": false,
     "start_time": "2021-06-22T20:37:00.037081",
     "status": "completed"
    },
    "tags": []
   },
   "outputs": [
    {
     "name": "stdout",
     "output_type": "stream",
     "text": [
      "/\n"
     ]
    }
   ],
   "source": [
    "%cd /\n"
   ]
  },
  {
   "cell_type": "code",
   "execution_count": 5,
   "id": "velvet-depth",
   "metadata": {
    "execution": {
     "iopub.execute_input": "2021-06-22T20:37:00.181332Z",
     "iopub.status.busy": "2021-06-22T20:37:00.180629Z",
     "iopub.status.idle": "2021-06-22T20:37:35.671527Z",
     "shell.execute_reply": "2021-06-22T20:37:35.670966Z"
    },
    "papermill": {
     "duration": 35.532903,
     "end_time": "2021-06-22T20:37:35.671695",
     "exception": false,
     "start_time": "2021-06-22T20:37:00.138792",
     "status": "completed"
    },
    "tags": []
   },
   "outputs": [],
   "source": [
    "%%capture\n",
    "!tar xvf /kaggle/input/extract-cuda-from-kaldi-docker/cuda.tar"
   ]
  },
  {
   "cell_type": "code",
   "execution_count": 6,
   "id": "crazy-humor",
   "metadata": {
    "execution": {
     "iopub.execute_input": "2021-06-22T20:37:41.190741Z",
     "iopub.status.busy": "2021-06-22T20:37:41.190083Z",
     "iopub.status.idle": "2021-06-22T20:37:41.194088Z",
     "shell.execute_reply": "2021-06-22T20:37:41.193478Z",
     "shell.execute_reply.started": "2021-06-22T13:29:47.085695Z"
    },
    "papermill": {
     "duration": 0.04946,
     "end_time": "2021-06-22T20:37:41.194259",
     "exception": false,
     "start_time": "2021-06-22T20:37:41.144799",
     "status": "completed"
    },
    "tags": []
   },
   "outputs": [],
   "source": [
    "import os\n",
    "os.environ['LD_LIBRARY_PATH'] = f'{os.environ[\"LD_LIBRARY_PATH\"]}:/usr/local/cuda-10.0/targets/x86_64-linux/lib/'"
   ]
  },
  {
   "cell_type": "code",
   "execution_count": 7,
   "id": "narrow-reserve",
   "metadata": {
    "execution": {
     "iopub.execute_input": "2021-06-22T20:37:41.280152Z",
     "iopub.status.busy": "2021-06-22T20:37:41.279429Z",
     "iopub.status.idle": "2021-06-22T20:37:41.285860Z",
     "shell.execute_reply": "2021-06-22T20:37:41.285314Z",
     "shell.execute_reply.started": "2021-06-22T11:55:40.610869Z"
    },
    "papermill": {
     "duration": 0.050199,
     "end_time": "2021-06-22T20:37:41.286032",
     "exception": false,
     "start_time": "2021-06-22T20:37:41.235833",
     "status": "completed"
    },
    "tags": []
   },
   "outputs": [
    {
     "name": "stdout",
     "output_type": "stream",
     "text": [
      "/opt/kaldi/egs\n"
     ]
    }
   ],
   "source": [
    "%cd /opt/kaldi/egs"
   ]
  },
  {
   "cell_type": "markdown",
   "id": "generous-southwest",
   "metadata": {
    "papermill": {
     "duration": 0.053048,
     "end_time": "2021-06-22T20:37:41.381504",
     "exception": false,
     "start_time": "2021-06-22T20:37:41.328456",
     "status": "completed"
    },
    "tags": []
   },
   "source": [
    "## Install flac"
   ]
  },
  {
   "cell_type": "code",
   "execution_count": 8,
   "id": "automated-composition",
   "metadata": {
    "execution": {
     "iopub.execute_input": "2021-06-22T20:37:41.488458Z",
     "iopub.status.busy": "2021-06-22T20:37:41.487754Z",
     "iopub.status.idle": "2021-06-22T20:37:51.603625Z",
     "shell.execute_reply": "2021-06-22T20:37:51.603089Z",
     "shell.execute_reply.started": "2021-06-22T12:06:36.222984Z"
    },
    "papermill": {
     "duration": 10.172647,
     "end_time": "2021-06-22T20:37:51.603768",
     "exception": false,
     "start_time": "2021-06-22T20:37:41.431121",
     "status": "completed"
    },
    "tags": []
   },
   "outputs": [],
   "source": [
    "%%capture\n",
    "!apt install -y flac"
   ]
  },
  {
   "cell_type": "markdown",
   "id": "extreme-cruise",
   "metadata": {
    "papermill": {
     "duration": 0.037455,
     "end_time": "2021-06-22T20:37:51.679155",
     "exception": false,
     "start_time": "2021-06-22T20:37:51.641700",
     "status": "completed"
    },
    "tags": []
   },
   "source": [
    "## Create a work directory"
   ]
  },
  {
   "cell_type": "code",
   "execution_count": 9,
   "id": "proud-aaron",
   "metadata": {
    "execution": {
     "iopub.execute_input": "2021-06-22T20:37:51.765489Z",
     "iopub.status.busy": "2021-06-22T20:37:51.760467Z",
     "iopub.status.idle": "2021-06-22T20:37:52.499609Z",
     "shell.execute_reply": "2021-06-22T20:37:52.500358Z",
     "shell.execute_reply.started": "2021-06-22T11:55:40.659251Z"
    },
    "papermill": {
     "duration": 0.783648,
     "end_time": "2021-06-22T20:37:52.500629",
     "exception": false,
     "start_time": "2021-06-22T20:37:51.716981",
     "status": "completed"
    },
    "tags": []
   },
   "outputs": [
    {
     "name": "stdout",
     "output_type": "stream",
     "text": [
      "/opt/kaldi/egs/usels/s5\n"
     ]
    }
   ],
   "source": [
    "!mkdir -p usels/s5\n",
    "%cd usels/s5"
   ]
  },
  {
   "cell_type": "code",
   "execution_count": 10,
   "id": "substantial-legislature",
   "metadata": {
    "execution": {
     "iopub.execute_input": "2021-06-22T20:37:52.587599Z",
     "iopub.status.busy": "2021-06-22T20:37:52.586623Z",
     "iopub.status.idle": "2021-06-22T20:37:55.509527Z",
     "shell.execute_reply": "2021-06-22T20:37:55.508886Z",
     "shell.execute_reply.started": "2021-06-22T12:08:43.066673Z"
    },
    "papermill": {
     "duration": 2.969589,
     "end_time": "2021-06-22T20:37:55.509672",
     "exception": false,
     "start_time": "2021-06-22T20:37:52.540083",
     "status": "completed"
    },
    "tags": []
   },
   "outputs": [],
   "source": [
    "!mkdir /kaggle/working/data\n",
    "!mkdir /kaggle/working/exp\n",
    "!ln -s /kaggle/working/data\n",
    "!ln -s /kaggle/working/exp"
   ]
  },
  {
   "cell_type": "code",
   "execution_count": 11,
   "id": "needed-tracy",
   "metadata": {
    "execution": {
     "iopub.execute_input": "2021-06-22T20:37:55.597879Z",
     "iopub.status.busy": "2021-06-22T20:37:55.593095Z",
     "iopub.status.idle": "2021-06-22T20:37:57.787777Z",
     "shell.execute_reply": "2021-06-22T20:37:57.787247Z",
     "shell.execute_reply.started": "2021-06-22T11:55:41.459018Z"
    },
    "papermill": {
     "duration": 2.240619,
     "end_time": "2021-06-22T20:37:57.787917",
     "exception": false,
     "start_time": "2021-06-22T20:37:55.547298",
     "status": "completed"
    },
    "tags": []
   },
   "outputs": [],
   "source": [
    "!ln -s ../../wsj/s5/steps\n",
    "!ln -s ../../wsj/s5/utils\n",
    "!ln -s ../../librispeech/s5/local"
   ]
  },
  {
   "cell_type": "code",
   "execution_count": 12,
   "id": "therapeutic-colors",
   "metadata": {
    "execution": {
     "iopub.execute_input": "2021-06-22T20:37:57.873675Z",
     "iopub.status.busy": "2021-06-22T20:37:57.873052Z",
     "iopub.status.idle": "2021-06-22T20:37:58.621567Z",
     "shell.execute_reply": "2021-06-22T20:37:58.620954Z",
     "shell.execute_reply.started": "2021-06-22T11:55:43.77028Z"
    },
    "papermill": {
     "duration": 0.796579,
     "end_time": "2021-06-22T20:37:58.621735",
     "exception": false,
     "start_time": "2021-06-22T20:37:57.825156",
     "status": "completed"
    },
    "tags": []
   },
   "outputs": [],
   "source": [
    "!mkdir conf"
   ]
  },
  {
   "cell_type": "code",
   "execution_count": 13,
   "id": "approved-watson",
   "metadata": {
    "execution": {
     "iopub.execute_input": "2021-06-22T20:37:58.708758Z",
     "iopub.status.busy": "2021-06-22T20:37:58.707721Z",
     "iopub.status.idle": "2021-06-22T20:37:58.711142Z",
     "shell.execute_reply": "2021-06-22T20:37:58.711656Z",
     "shell.execute_reply.started": "2021-06-22T11:55:44.555875Z"
    },
    "papermill": {
     "duration": 0.049806,
     "end_time": "2021-06-22T20:37:58.711911",
     "exception": false,
     "start_time": "2021-06-22T20:37:58.662105",
     "status": "completed"
    },
    "tags": []
   },
   "outputs": [
    {
     "name": "stdout",
     "output_type": "stream",
     "text": [
      "Writing conf/mfcc_hires.conf\n"
     ]
    }
   ],
   "source": [
    "%%writefile conf/mfcc_hires.conf\n",
    "# config for high-resolution MFCC features, intended for neural network training\n",
    "# Note: we keep all cepstra, so it has the same info as filterbank features,\n",
    "# but MFCC is more easily compressible (because less correlated) which is why \n",
    "# we prefer this method.\n",
    "--use-energy=false   # use average of log energy, not energy.\n",
    "--num-mel-bins=40     # similar to Google's setup.\n",
    "--num-ceps=40     # there is no dimensionality reduction.\n",
    "--low-freq=20     # low cutoff frequency for mel bins... this is high-bandwidth data, so\n",
    "                  # there might be some information at the low end.\n",
    "--high-freq=-400 # high cutoff frequently, relative to Nyquist of 8000 (=7600)"
   ]
  },
  {
   "cell_type": "markdown",
   "id": "southern-armor",
   "metadata": {
    "papermill": {
     "duration": 0.040708,
     "end_time": "2021-06-22T20:37:58.793565",
     "exception": false,
     "start_time": "2021-06-22T20:37:58.752857",
     "status": "completed"
    },
    "tags": []
   },
   "source": [
    "## Setting up paths\n",
    "\n",
    "(In the scripts, you just source `path.sh`)"
   ]
  },
  {
   "cell_type": "code",
   "execution_count": 14,
   "id": "labeled-leeds",
   "metadata": {
    "execution": {
     "iopub.execute_input": "2021-06-22T20:37:58.875890Z",
     "iopub.status.busy": "2021-06-22T20:37:58.875204Z",
     "iopub.status.idle": "2021-06-22T20:37:58.880956Z",
     "shell.execute_reply": "2021-06-22T20:37:58.881831Z",
     "shell.execute_reply.started": "2021-06-22T11:55:44.565547Z"
    },
    "papermill": {
     "duration": 0.048445,
     "end_time": "2021-06-22T20:37:58.882108",
     "exception": false,
     "start_time": "2021-06-22T20:37:58.833663",
     "status": "completed"
    },
    "tags": []
   },
   "outputs": [
    {
     "name": "stdout",
     "output_type": "stream",
     "text": [
      "env: KALDI_ROOT=/opt/kaldi\n"
     ]
    }
   ],
   "source": [
    "%env KALDI_ROOT=/opt/kaldi"
   ]
  },
  {
   "cell_type": "code",
   "execution_count": 15,
   "id": "meaningful-armstrong",
   "metadata": {
    "execution": {
     "iopub.execute_input": "2021-06-22T20:37:58.968120Z",
     "iopub.status.busy": "2021-06-22T20:37:58.967170Z",
     "iopub.status.idle": "2021-06-22T20:37:59.702307Z",
     "shell.execute_reply": "2021-06-22T20:37:59.702858Z",
     "shell.execute_reply.started": "2021-06-22T11:55:44.577705Z"
    },
    "papermill": {
     "duration": 0.779183,
     "end_time": "2021-06-22T20:37:59.703089",
     "exception": false,
     "start_time": "2021-06-22T20:37:58.923906",
     "status": "completed"
    },
    "tags": []
   },
   "outputs": [
    {
     "name": "stdout",
     "output_type": "stream",
     "text": [
      "export KALDI_ROOT=`pwd`/../../..\r\n",
      "[ -f $KALDI_ROOT/tools/env.sh ] && . $KALDI_ROOT/tools/env.sh\r\n",
      "export PATH=$PWD/utils/:$KALDI_ROOT/tools/openfst/bin:$PWD:$PATH\r\n",
      "[ ! -f $KALDI_ROOT/tools/config/common_path.sh ] && echo >&2 \"The standard file $KALDI_ROOT/tools/config/common_path.sh is not present -> Exit!\" && exit 1\r\n",
      ". $KALDI_ROOT/tools/config/common_path.sh\r\n",
      "export LC_ALL=C\r\n"
     ]
    }
   ],
   "source": [
    "!cat ../../wsj/s5/path.sh"
   ]
  },
  {
   "cell_type": "code",
   "execution_count": 16,
   "id": "furnished-civilian",
   "metadata": {
    "execution": {
     "iopub.execute_input": "2021-06-22T20:37:59.788677Z",
     "iopub.status.busy": "2021-06-22T20:37:59.787558Z",
     "iopub.status.idle": "2021-06-22T20:37:59.797085Z",
     "shell.execute_reply": "2021-06-22T20:37:59.796065Z",
     "shell.execute_reply.started": "2021-06-22T12:00:36.247262Z"
    },
    "papermill": {
     "duration": 0.053703,
     "end_time": "2021-06-22T20:37:59.797320",
     "exception": false,
     "start_time": "2021-06-22T20:37:59.743617",
     "status": "completed"
    },
    "tags": []
   },
   "outputs": [
    {
     "name": "stdout",
     "output_type": "stream",
     "text": [
      "env: LC_ALL=C\n"
     ]
    }
   ],
   "source": [
    "%env LC_ALL=C\n",
    "#PWD = !pwd\n",
    "PWD = '/opt/kaldi/egs/usels/s5'\n",
    "KALDI_ROOT = '/opt/kaldi'\n",
    "WSJ_PATH = f'{PWD}/utils/:{KALDI_ROOT}/tools/openfst/bin:{PWD}:{EXISTING_PATH}'"
   ]
  },
  {
   "cell_type": "code",
   "execution_count": 17,
   "id": "latest-sister",
   "metadata": {
    "execution": {
     "iopub.execute_input": "2021-06-22T20:37:59.886307Z",
     "iopub.status.busy": "2021-06-22T20:37:59.885414Z",
     "iopub.status.idle": "2021-06-22T20:38:00.611226Z",
     "shell.execute_reply": "2021-06-22T20:38:00.611779Z",
     "shell.execute_reply.started": "2021-06-22T11:57:02.231388Z"
    },
    "papermill": {
     "duration": 0.77516,
     "end_time": "2021-06-22T20:38:00.612006",
     "exception": false,
     "start_time": "2021-06-22T20:37:59.836846",
     "status": "completed"
    },
    "tags": []
   },
   "outputs": [
    {
     "name": "stdout",
     "output_type": "stream",
     "text": [
      "# we assume KALDI_ROOT is already defined\r\n",
      "[ -z \"$KALDI_ROOT\" ] && echo >&2 \"The variable KALDI_ROOT must be already defined\" && exit 1\r\n",
      "# The formatting of the path export command is intentionally weird, because\r\n",
      "# this allows for easy diff'ing\r\n",
      "export PATH=\\\r\n",
      "${KALDI_ROOT}/src/bin:\\\r\n",
      "${KALDI_ROOT}/src/chainbin:\\\r\n",
      "${KALDI_ROOT}/src/featbin:\\\r\n",
      "${KALDI_ROOT}/src/fgmmbin:\\\r\n",
      "${KALDI_ROOT}/src/fstbin:\\\r\n",
      "${KALDI_ROOT}/src/gmmbin:\\\r\n",
      "${KALDI_ROOT}/src/ivectorbin:\\\r\n",
      "${KALDI_ROOT}/src/kwsbin:\\\r\n",
      "${KALDI_ROOT}/src/latbin:\\\r\n",
      "${KALDI_ROOT}/src/lmbin:\\\r\n",
      "${KALDI_ROOT}/src/nnet2bin:\\\r\n",
      "${KALDI_ROOT}/src/nnet3bin:\\\r\n",
      "${KALDI_ROOT}/src/nnetbin:\\\r\n",
      "${KALDI_ROOT}/src/online2bin:\\\r\n",
      "${KALDI_ROOT}/src/onlinebin:\\\r\n",
      "${KALDI_ROOT}/src/rnnlmbin:\\\r\n",
      "${KALDI_ROOT}/src/sgmm2bin:\\\r\n",
      "${KALDI_ROOT}/src/sgmmbin:\\\r\n",
      "${KALDI_ROOT}/src/tfrnnlmbin:\\\r\n",
      "${KALDI_ROOT}/src/cudadecoderbin:\\\r\n",
      "$PATH\r\n"
     ]
    }
   ],
   "source": [
    "!cat $KALDI_ROOT/tools/config/common_path.sh"
   ]
  },
  {
   "cell_type": "code",
   "execution_count": 18,
   "id": "rolled-hindu",
   "metadata": {
    "execution": {
     "iopub.execute_input": "2021-06-22T20:38:00.695262Z",
     "iopub.status.busy": "2021-06-22T20:38:00.694636Z",
     "iopub.status.idle": "2021-06-22T20:38:00.723534Z",
     "shell.execute_reply": "2021-06-22T20:38:00.722778Z",
     "shell.execute_reply.started": "2021-06-22T11:56:52.862746Z"
    },
    "papermill": {
     "duration": 0.071441,
     "end_time": "2021-06-22T20:38:00.723696",
     "exception": false,
     "start_time": "2021-06-22T20:38:00.652255",
     "status": "completed"
    },
    "tags": []
   },
   "outputs": [],
   "source": [
    "#kaldi_paths=!cat $KALDI_ROOT/tools/config/common_path.sh|grep '/src/'|awk -F':' '{print $1}'|awk -F'/' '{print $NF}'|tr '\\n' ':'\n",
    "raw_kaldi_paths=!cat $KALDI_ROOT/tools/config/common_path.sh|grep '/src/'|awk -F':' '{print $1}'|awk -F'/' '{print \"/opt/kaldi/src/\"$NF}'"
   ]
  },
  {
   "cell_type": "code",
   "execution_count": 19,
   "id": "random-helena",
   "metadata": {
    "execution": {
     "iopub.execute_input": "2021-06-22T20:38:00.811660Z",
     "iopub.status.busy": "2021-06-22T20:38:00.810792Z",
     "iopub.status.idle": "2021-06-22T20:38:00.816269Z",
     "shell.execute_reply": "2021-06-22T20:38:00.815698Z",
     "shell.execute_reply.started": "2021-06-22T12:02:21.567242Z"
    },
    "papermill": {
     "duration": 0.049025,
     "end_time": "2021-06-22T20:38:00.816430",
     "exception": false,
     "start_time": "2021-06-22T20:38:00.767405",
     "status": "completed"
    },
    "tags": []
   },
   "outputs": [],
   "source": [
    "KALDI_PATHS=raw_kaldi_paths.nlstr.replace('\\n',':')"
   ]
  },
  {
   "cell_type": "code",
   "execution_count": 20,
   "id": "fiscal-animal",
   "metadata": {
    "execution": {
     "iopub.execute_input": "2021-06-22T20:38:00.906893Z",
     "iopub.status.busy": "2021-06-22T20:38:00.902319Z",
     "iopub.status.idle": "2021-06-22T20:38:01.651424Z",
     "shell.execute_reply": "2021-06-22T20:38:01.650525Z",
     "shell.execute_reply.started": "2021-06-22T11:56:58.4537Z"
    },
    "papermill": {
     "duration": 0.793964,
     "end_time": "2021-06-22T20:38:01.651614",
     "exception": false,
     "start_time": "2021-06-22T20:38:00.857650",
     "status": "completed"
    },
    "tags": []
   },
   "outputs": [
    {
     "name": "stdout",
     "output_type": "stream",
     "text": [
      "export PATH=/opt/kaldi/tools/python:${PATH}\r\n",
      "export PHONETISAURUS=\"/tmp/output/opt/kaldi/tools/phonetisaurus-g2p\"\r\n",
      "export PATH=\"$PATH:${PHONETISAURUS}:${PHONETISAURUS}/src/scripts\"\r\n"
     ]
    }
   ],
   "source": [
    "!cat $KALDI_ROOT/tools/env.sh"
   ]
  },
  {
   "cell_type": "code",
   "execution_count": 21,
   "id": "boxed-campaign",
   "metadata": {
    "execution": {
     "iopub.execute_input": "2021-06-22T20:38:01.738899Z",
     "iopub.status.busy": "2021-06-22T20:38:01.738225Z",
     "iopub.status.idle": "2021-06-22T20:38:01.740962Z",
     "shell.execute_reply": "2021-06-22T20:38:01.741427Z",
     "shell.execute_reply.started": "2021-06-22T12:02:09.80754Z"
    },
    "papermill": {
     "duration": 0.048104,
     "end_time": "2021-06-22T20:38:01.741626",
     "exception": false,
     "start_time": "2021-06-22T20:38:01.693522",
     "status": "completed"
    },
    "tags": []
   },
   "outputs": [],
   "source": [
    "PHONETISAURUS = \"/tmp/output/opt/kaldi/tools/phonetisaurus-g2p\"\n",
    "TOOLS_PATH = f'/opt/kaldi/tools/python:{PHONETISAURUS}:{PHONETISAURUS}/src/scripts'"
   ]
  },
  {
   "cell_type": "code",
   "execution_count": 22,
   "id": "physical-static",
   "metadata": {
    "execution": {
     "iopub.execute_input": "2021-06-22T20:38:01.826725Z",
     "iopub.status.busy": "2021-06-22T20:38:01.826078Z",
     "iopub.status.idle": "2021-06-22T20:38:01.831129Z",
     "shell.execute_reply": "2021-06-22T20:38:01.831731Z",
     "shell.execute_reply.started": "2021-06-22T12:03:04.119662Z"
    },
    "papermill": {
     "duration": 0.049055,
     "end_time": "2021-06-22T20:38:01.831946",
     "exception": false,
     "start_time": "2021-06-22T20:38:01.782891",
     "status": "completed"
    },
    "tags": []
   },
   "outputs": [
    {
     "name": "stdout",
     "output_type": "stream",
     "text": [
      "env: PATH=f\"/opt/kaldi/egs/usels/s5/utils/:/opt/kaldi/tools/openfst/bin:/opt/kaldi/egs/usels/s5:/opt/conda/bin:/usr/local/sbin:/usr/local/bin:/usr/sbin:/usr/bin:/sbin:/bin:/opt/kaldi/src/bin:/opt/kaldi/src/chainbin:/opt/kaldi/src/featbin:/opt/kaldi/src/fgmmbin:/opt/kaldi/src/fstbin:/opt/kaldi/src/gmmbin:/opt/kaldi/src/ivectorbin:/opt/kaldi/src/kwsbin:/opt/kaldi/src/latbin:/opt/kaldi/src/lmbin:/opt/kaldi/src/nnet2bin:/opt/kaldi/src/nnet3bin:/opt/kaldi/src/nnetbin:/opt/kaldi/src/online2bin:/opt/kaldi/src/onlinebin:/opt/kaldi/src/rnnlmbin:/opt/kaldi/src/sgmm2bin:/opt/kaldi/src/sgmmbin:/opt/kaldi/src/tfrnnlmbin:/opt/kaldi/src/cudadecoderbin:/opt/kaldi/tools/python:/tmp/output/opt/kaldi/tools/phonetisaurus-g2p:/tmp/output/opt/kaldi/tools/phonetisaurus-g2p/src/scripts\"\n"
     ]
    }
   ],
   "source": [
    "%env PATH = f\"{WSJ_PATH}:{KALDI_PATHS}:{TOOLS_PATH}\""
   ]
  },
  {
   "cell_type": "code",
   "execution_count": 23,
   "id": "southern-steps",
   "metadata": {
    "execution": {
     "iopub.execute_input": "2021-06-22T20:38:01.920554Z",
     "iopub.status.busy": "2021-06-22T20:38:01.919896Z",
     "iopub.status.idle": "2021-06-22T20:38:02.645399Z",
     "shell.execute_reply": "2021-06-22T20:38:02.645894Z",
     "shell.execute_reply.started": "2021-06-22T12:16:15.76424Z"
    },
    "papermill": {
     "duration": 0.771239,
     "end_time": "2021-06-22T20:38:02.646134",
     "exception": false,
     "start_time": "2021-06-22T20:38:01.874895",
     "status": "completed"
    },
    "tags": []
   },
   "outputs": [
    {
     "name": "stdout",
     "output_type": "stream",
     "text": [
      "# you can change cmd.sh depending on what type of queue you are using.\r\n",
      "# If you have no queueing system and want to run on a local machine, you\r\n",
      "# can change all instances 'queue.pl' to run.pl (but be careful and run\r\n",
      "# commands one by one: most recipes will exhaust the memory on your\r\n",
      "# machine).  queue.pl works with GridEngine (qsub).  slurm.pl works\r\n",
      "# with slurm.  Different queues are configured differently, with different\r\n",
      "# queue names and different ways of specifying things like memory;\r\n",
      "# to account for these differences you can create and edit the file\r\n",
      "# conf/queue.conf to match your queue's configuration.  Search for\r\n",
      "# conf/queue.conf in http://kaldi-asr.org/doc/queue.html for more information,\r\n",
      "# or search for the string 'default_config' in utils/queue.pl or utils/slurm.pl.\r\n",
      "\r\n",
      "export train_cmd=queue.pl\r\n",
      "export decode_cmd=\"queue.pl --mem 2G\"\r\n",
      "# the use of cuda_cmd is deprecated, used only in 'nnet1',\r\n",
      "export cuda_cmd=\"queue.pl --gpu 1\"\r\n",
      "\r\n",
      "if [ \"$(hostname -d)\" == \"fit.vutbr.cz\" ]; then\r\n",
      "  queue_conf=$HOME/queue_conf/default.conf # see example /homes/kazi/iveselyk/queue_conf/default.conf,\r\n",
      "  export train_cmd=\"queue.pl --config $queue_conf --mem 2G --matylda 0.2\"\r\n",
      "  export decode_cmd=\"queue.pl --config $queue_conf --mem 3G --matylda 0.1\"\r\n",
      "  export cuda_cmd=\"queue.pl --config $queue_conf --gpu 1 --mem 10G --tmp 40G\"\r\n",
      "fi\r\n"
     ]
    }
   ],
   "source": [
    "!cat ../../wsj/s5/cmd.sh"
   ]
  },
  {
   "cell_type": "code",
   "execution_count": 24,
   "id": "subjective-tuner",
   "metadata": {
    "execution": {
     "iopub.execute_input": "2021-06-22T20:38:02.738709Z",
     "iopub.status.busy": "2021-06-22T20:38:02.738027Z",
     "iopub.status.idle": "2021-06-22T20:38:02.741631Z",
     "shell.execute_reply": "2021-06-22T20:38:02.741018Z",
     "shell.execute_reply.started": "2021-06-22T12:25:36.054695Z"
    },
    "papermill": {
     "duration": 0.051996,
     "end_time": "2021-06-22T20:38:02.741766",
     "exception": false,
     "start_time": "2021-06-22T20:38:02.689770",
     "status": "completed"
    },
    "tags": []
   },
   "outputs": [
    {
     "name": "stdout",
     "output_type": "stream",
     "text": [
      "env: train_cmd=run.pl\n",
      "env: decode_cmd=run.pl\n"
     ]
    }
   ],
   "source": [
    "%env train_cmd=run.pl\n",
    "%env decode_cmd=run.pl"
   ]
  },
  {
   "cell_type": "code",
   "execution_count": 25,
   "id": "bacterial-abuse",
   "metadata": {
    "execution": {
     "iopub.execute_input": "2021-06-22T20:38:02.835503Z",
     "iopub.status.busy": "2021-06-22T20:38:02.831533Z",
     "iopub.status.idle": "2021-06-22T20:38:05.771587Z",
     "shell.execute_reply": "2021-06-22T20:38:05.772146Z",
     "shell.execute_reply.started": "2021-06-22T12:25:39.332426Z"
    },
    "papermill": {
     "duration": 2.99022,
     "end_time": "2021-06-22T20:38:05.772370",
     "exception": false,
     "start_time": "2021-06-22T20:38:02.782150",
     "status": "completed"
    },
    "tags": []
   },
   "outputs": [],
   "source": [
    "!ln -s ../../wsj/s5/cmd.sh\n",
    "!ln -s ../../wsj/s5/path.sh\n",
    "!ln -s utils/queue.pl\n",
    "!ln -s utils/run.pl"
   ]
  },
  {
   "cell_type": "code",
   "execution_count": 26,
   "id": "agricultural-tourism",
   "metadata": {
    "execution": {
     "iopub.execute_input": "2021-06-22T20:38:05.865566Z",
     "iopub.status.busy": "2021-06-22T20:38:05.861814Z",
     "iopub.status.idle": "2021-06-22T20:38:06.592217Z",
     "shell.execute_reply": "2021-06-22T20:38:06.591622Z",
     "shell.execute_reply.started": "2021-06-22T12:25:11.355403Z"
    },
    "papermill": {
     "duration": 0.777932,
     "end_time": "2021-06-22T20:38:06.592390",
     "exception": false,
     "start_time": "2021-06-22T20:38:05.814458",
     "status": "completed"
    },
    "tags": []
   },
   "outputs": [],
   "source": [
    "!rm *.pl"
   ]
  },
  {
   "cell_type": "markdown",
   "id": "polish-turtle",
   "metadata": {
    "papermill": {
     "duration": 0.041858,
     "end_time": "2021-06-22T20:38:06.676174",
     "exception": false,
     "start_time": "2021-06-22T20:38:06.634316",
     "status": "completed"
    },
    "tags": []
   },
   "source": [
    "## Data prep"
   ]
  },
  {
   "cell_type": "code",
   "execution_count": 27,
   "id": "sticky-differential",
   "metadata": {
    "execution": {
     "iopub.execute_input": "2021-06-22T20:38:06.774133Z",
     "iopub.status.busy": "2021-06-22T20:38:06.773366Z",
     "iopub.status.idle": "2021-06-22T20:38:21.277043Z",
     "shell.execute_reply": "2021-06-22T20:38:21.275871Z",
     "shell.execute_reply.started": "2021-06-22T12:10:48.153674Z"
    },
    "papermill": {
     "duration": 14.557099,
     "end_time": "2021-06-22T20:38:21.277203",
     "exception": false,
     "start_time": "2021-06-22T20:38:06.720104",
     "status": "completed"
    },
    "tags": []
   },
   "outputs": [
    {
     "name": "stdout",
     "output_type": "stream",
     "text": [
      "utils/validate_data_dir.sh: Successfully validated data-directory data/test-other\r\n",
      "local/data_prep.sh: successfully prepared data in data/test-other\r\n",
      "utils/validate_data_dir.sh: Successfully validated data-directory data/test-clean\r\n",
      "local/data_prep.sh: successfully prepared data in data/test-clean\r\n"
     ]
    }
   ],
   "source": [
    "!local/data_prep.sh /kaggle/input/librispeech-test-clean-and-other/LibriSpeech/test-other data/test-other\n",
    "!local/data_prep.sh /kaggle/input/librispeech-test-clean-and-other/LibriSpeech/test-clean data/test-clean"
   ]
  },
  {
   "cell_type": "code",
   "execution_count": 28,
   "id": "attempted-encounter",
   "metadata": {
    "execution": {
     "iopub.execute_input": "2021-06-22T20:38:21.374473Z",
     "iopub.status.busy": "2021-06-22T20:38:21.373825Z",
     "iopub.status.idle": "2021-06-22T20:38:23.475417Z",
     "shell.execute_reply": "2021-06-22T20:38:23.474205Z",
     "shell.execute_reply.started": "2021-06-22T12:12:48.716774Z"
    },
    "papermill": {
     "duration": 2.156238,
     "end_time": "2021-06-22T20:38:23.475607",
     "exception": false,
     "start_time": "2021-06-22T20:38:21.319369",
     "status": "completed"
    },
    "tags": []
   },
   "outputs": [
    {
     "name": "stdout",
     "output_type": "stream",
     "text": [
      "utils/copy_data_dir.sh: copied data from data/test-clean to data/test-clean_hires\r\n",
      "utils/validate_data_dir.sh: Successfully validated data-directory data/test-clean_hires\r\n",
      "utils/copy_data_dir.sh: copied data from data/test-other to data/test-other_hires\r\n",
      "utils/validate_data_dir.sh: Successfully validated data-directory data/test-other_hires\r\n"
     ]
    }
   ],
   "source": [
    "!utils/copy_data_dir.sh data/test-clean data/test-clean_hires\n",
    "!utils/copy_data_dir.sh data/test-other data/test-other_hires"
   ]
  },
  {
   "cell_type": "code",
   "execution_count": 29,
   "id": "ultimate-literature",
   "metadata": {
    "execution": {
     "iopub.execute_input": "2021-06-22T20:38:23.574026Z",
     "iopub.status.busy": "2021-06-22T20:38:23.570356Z",
     "iopub.status.idle": "2021-06-22T20:38:24.291448Z",
     "shell.execute_reply": "2021-06-22T20:38:24.290832Z",
     "shell.execute_reply.started": "2021-06-22T12:20:32.826362Z"
    },
    "papermill": {
     "duration": 0.769811,
     "end_time": "2021-06-22T20:38:24.291619",
     "exception": false,
     "start_time": "2021-06-22T20:38:23.521808",
     "status": "completed"
    },
    "tags": []
   },
   "outputs": [],
   "source": [
    "!ln -s utils/parse_options.sh"
   ]
  },
  {
   "cell_type": "code",
   "execution_count": 30,
   "id": "retired-clause",
   "metadata": {
    "execution": {
     "iopub.execute_input": "2021-06-22T20:38:24.396083Z",
     "iopub.status.busy": "2021-06-22T20:38:24.395396Z",
     "iopub.status.idle": "2021-06-22T20:39:54.919865Z",
     "shell.execute_reply": "2021-06-22T20:39:54.918893Z",
     "shell.execute_reply.started": "2021-06-22T12:25:44.313451Z"
    },
    "papermill": {
     "duration": 90.582459,
     "end_time": "2021-06-22T20:39:54.920102",
     "exception": false,
     "start_time": "2021-06-22T20:38:24.337643",
     "status": "completed"
    },
    "tags": []
   },
   "outputs": [
    {
     "name": "stdout",
     "output_type": "stream",
     "text": [
      "steps/make_mfcc.sh --nj 20 --mfcc-config conf/mfcc_hires.conf --cmd run.pl data/test-clean_hires\r\n",
      "utils/validate_data_dir.sh: Successfully validated data-directory data/test-clean_hires\r\n",
      "steps/make_mfcc.sh: [info]: no segments file exists: assuming wav.scp indexed by utterance.\r\n",
      "steps/make_mfcc.sh: Succeeded creating MFCC features for test-clean_hires\r\n",
      "steps/compute_cmvn_stats.sh data/test-clean_hires\r\n",
      "Succeeded creating CMVN stats for test-clean_hires\r\n",
      "fix_data_dir.sh: kept all 2620 utterances.\r\n",
      "fix_data_dir.sh: old files are kept in data/test-clean_hires/.backup\r\n",
      "steps/make_mfcc.sh --nj 20 --mfcc-config conf/mfcc_hires.conf --cmd run.pl data/test-other_hires\r\n",
      "utils/validate_data_dir.sh: Successfully validated data-directory data/test-other_hires\r\n",
      "steps/make_mfcc.sh: [info]: no segments file exists: assuming wav.scp indexed by utterance.\r\n",
      "steps/make_mfcc.sh: Succeeded creating MFCC features for test-other_hires\r\n",
      "steps/compute_cmvn_stats.sh data/test-other_hires\r\n",
      "Succeeded creating CMVN stats for test-other_hires\r\n",
      "fix_data_dir.sh: kept all 2939 utterances.\r\n",
      "fix_data_dir.sh: old files are kept in data/test-other_hires/.backup\r\n"
     ]
    }
   ],
   "source": [
    "!steps/make_mfcc.sh --nj 20 --mfcc-config conf/mfcc_hires.conf --cmd \"$train_cmd\" data/test-clean_hires\n",
    "!steps/compute_cmvn_stats.sh data/test-clean_hires\n",
    "!utils/fix_data_dir.sh data/test-clean_hires\n",
    "!steps/make_mfcc.sh --nj 20 --mfcc-config conf/mfcc_hires.conf --cmd \"$train_cmd\" data/test-other_hires\n",
    "!steps/compute_cmvn_stats.sh data/test-other_hires\n",
    "!utils/fix_data_dir.sh data/test-other_hires\n"
   ]
  },
  {
   "cell_type": "markdown",
   "id": "coated-kelly",
   "metadata": {
    "papermill": {
     "duration": 0.049306,
     "end_time": "2021-06-22T20:39:55.019709",
     "exception": false,
     "start_time": "2021-06-22T20:39:54.970403",
     "status": "completed"
    },
    "tags": []
   },
   "source": [
    "## Extract i-vectors"
   ]
  },
  {
   "cell_type": "code",
   "execution_count": 31,
   "id": "traditional-crystal",
   "metadata": {
    "execution": {
     "iopub.execute_input": "2021-06-22T20:39:55.129292Z",
     "iopub.status.busy": "2021-06-22T20:39:55.128601Z",
     "iopub.status.idle": "2021-06-22T20:39:56.586077Z",
     "shell.execute_reply": "2021-06-22T20:39:56.586556Z",
     "shell.execute_reply.started": "2021-06-22T12:38:42.072847Z"
    },
    "papermill": {
     "duration": 1.517655,
     "end_time": "2021-06-22T20:39:56.586753",
     "exception": false,
     "start_time": "2021-06-22T20:39:55.069098",
     "status": "completed"
    },
    "tags": []
   },
   "outputs": [],
   "source": [
    "!ln -s /kaggle/input/kaldi-librispeech-model/exp/nnet3_cleaned/ exp/nnet3_cleaned\n",
    "!ln -s /kaggle/input/kaldi-librispeech-model/exp/chain_cleaned/ exp/chain_cleaned"
   ]
  },
  {
   "cell_type": "code",
   "execution_count": 32,
   "id": "senior-coffee",
   "metadata": {
    "execution": {
     "iopub.execute_input": "2021-06-22T20:39:56.684783Z",
     "iopub.status.busy": "2021-06-22T20:39:56.684170Z",
     "iopub.status.idle": "2021-06-22T20:41:12.318892Z",
     "shell.execute_reply": "2021-06-22T20:41:12.318295Z",
     "shell.execute_reply.started": "2021-06-22T12:44:16.329652Z"
    },
    "papermill": {
     "duration": 75.684971,
     "end_time": "2021-06-22T20:41:12.319096",
     "exception": false,
     "start_time": "2021-06-22T20:39:56.634125",
     "status": "completed"
    },
    "tags": []
   },
   "outputs": [
    {
     "name": "stdout",
     "output_type": "stream",
     "text": [
      "env: nspk=$(wc -l <data/test-clean_hires/spk2utt)\n",
      "steps/online/nnet2/extract_ivectors_online.sh --cmd run.pl --nj $(wc -l <data/test-clean_hires/spk2utt) data/test-clean_hires exp/nnet3_cleaned/extractor exp/nnet3_cleaned_out/ivectors_test-clean_hires\r\n",
      "steps/online/nnet2/extract_ivectors_online.sh: extracting iVectors\r\n",
      "steps/online/nnet2/extract_ivectors_online.sh: combining iVectors across jobs\r\n",
      "steps/online/nnet2/extract_ivectors_online.sh: done extracting (online) iVectors to exp/nnet3_cleaned_out/ivectors_test-clean_hires using the extractor in exp/nnet3_cleaned/extractor.\r\n",
      "env: nspk=$(wc -l <data/test-other_hires/spk2utt)\n",
      "steps/online/nnet2/extract_ivectors_online.sh --cmd run.pl --nj $(wc -l <data/test-other_hires/spk2utt) data/test-other_hires exp/nnet3_cleaned/extractor exp/nnet3_cleaned_out/ivectors_test-other_hires\r\n",
      "steps/online/nnet2/extract_ivectors_online.sh: extracting iVectors\r\n",
      "steps/online/nnet2/extract_ivectors_online.sh: combining iVectors across jobs\r\n",
      "steps/online/nnet2/extract_ivectors_online.sh: done extracting (online) iVectors to exp/nnet3_cleaned_out/ivectors_test-other_hires using the extractor in exp/nnet3_cleaned/extractor.\r\n"
     ]
    }
   ],
   "source": [
    "%env nspk=$(wc -l <data/test-clean_hires/spk2utt)\n",
    "!steps/online/nnet2/extract_ivectors_online.sh --cmd \"$train_cmd\" --nj \"${nspk}\" data/test-clean_hires exp/nnet3_cleaned/extractor exp/nnet3_cleaned_out/ivectors_test-clean_hires\n",
    "%env nspk=$(wc -l <data/test-other_hires/spk2utt)\n",
    "!steps/online/nnet2/extract_ivectors_online.sh --cmd \"$train_cmd\" --nj \"${nspk}\" data/test-other_hires exp/nnet3_cleaned/extractor exp/nnet3_cleaned_out/ivectors_test-other_hires"
   ]
  },
  {
   "cell_type": "markdown",
   "id": "recognized-wayne",
   "metadata": {
    "papermill": {
     "duration": 0.051449,
     "end_time": "2021-06-22T20:41:12.423069",
     "exception": false,
     "start_time": "2021-06-22T20:41:12.371620",
     "status": "completed"
    },
    "tags": []
   },
   "source": [
    "## Build decoding graph"
   ]
  },
  {
   "cell_type": "markdown",
   "id": "checked-advertiser",
   "metadata": {
    "papermill": {
     "duration": 0.053744,
     "end_time": "2021-06-22T20:41:12.527782",
     "exception": false,
     "start_time": "2021-06-22T20:41:12.474038",
     "status": "completed"
    },
    "tags": []
   },
   "source": [
    "Just linking this directory won't work, as it expects to be able to write to it (Kaldi scripts, smh)"
   ]
  },
  {
   "cell_type": "code",
   "execution_count": 33,
   "id": "damaged-fellowship",
   "metadata": {
    "execution": {
     "iopub.execute_input": "2021-06-22T20:41:12.645654Z",
     "iopub.status.busy": "2021-06-22T20:41:12.641054Z",
     "iopub.status.idle": "2021-06-22T20:41:16.305191Z",
     "shell.execute_reply": "2021-06-22T20:41:16.304054Z"
    },
    "papermill": {
     "duration": 3.725064,
     "end_time": "2021-06-22T20:41:16.305345",
     "exception": false,
     "start_time": "2021-06-22T20:41:12.580281",
     "status": "completed"
    },
    "tags": []
   },
   "outputs": [],
   "source": [
    "!cp -r /kaggle/input/kaldi-librispeech-model/data/lang_test_tgsmall data"
   ]
  },
  {
   "cell_type": "code",
   "execution_count": 34,
   "id": "complete-powell",
   "metadata": {
    "execution": {
     "iopub.execute_input": "2021-06-22T20:41:16.425351Z",
     "iopub.status.busy": "2021-06-22T20:41:16.419632Z",
     "iopub.status.idle": "2021-06-22T20:44:44.559709Z",
     "shell.execute_reply": "2021-06-22T20:44:44.560211Z"
    },
    "papermill": {
     "duration": 208.200407,
     "end_time": "2021-06-22T20:44:44.560426",
     "exception": false,
     "start_time": "2021-06-22T20:41:16.360019",
     "status": "completed"
    },
    "tags": []
   },
   "outputs": [
    {
     "name": "stdout",
     "output_type": "stream",
     "text": [
      "env: dir=exp/chain_cleaned/tdnn_1d_sp\n",
      "env: graph_dir=exp/chain_cleaned_out/graph_tgsmall\n",
      "tree-info exp/chain_cleaned/tdnn_1d_sp/tree \r\n",
      "tree-info exp/chain_cleaned/tdnn_1d_sp/tree \r\n",
      "fstpushspecial \r\n",
      "fstdeterminizestar --use-log=true \r\n",
      "fstminimizeencoded \r\n",
      "fsttablecompose data/lang_test_tgsmall/L_disambig.fst data/lang_test_tgsmall/G.fst \r\n",
      "fstisstochastic data/lang_test_tgsmall/tmp/LG.fst \r\n",
      "-0.0459745 -0.0466771\r\n",
      "[info]: LG not stochastic.\r\n",
      "fstcomposecontext --context-size=2 --central-position=1 --read-disambig-syms=data/lang_test_tgsmall/phones/disambig.int --write-disambig-syms=data/lang_test_tgsmall/tmp/disambig_ilabels_2_1.int data/lang_test_tgsmall/tmp/ilabels_2_1.113734 data/lang_test_tgsmall/tmp/LG.fst \r\n",
      "fstisstochastic data/lang_test_tgsmall/tmp/CLG_2_1.fst \r\n",
      "-0.0459745 -0.0466771\r\n",
      "[info]: CLG not stochastic.\r\n",
      "make-h-transducer --disambig-syms-out=exp/chain_cleaned_out/graph_tgsmall/disambig_tid.int --transition-scale=1.0 data/lang_test_tgsmall/tmp/ilabels_2_1 exp/chain_cleaned/tdnn_1d_sp/tree exp/chain_cleaned/tdnn_1d_sp/final.mdl \r\n",
      "fstdeterminizestar --use-log=true \r\n",
      "fsttablecompose exp/chain_cleaned_out/graph_tgsmall/Ha.fst 'fstrmsymbols --remove-arcs=true --apply-to-output=true data/lang_test_tgsmall/oov.int data/lang_test_tgsmall/tmp/CLG_2_1.fst|' \r\n",
      "fstrmsymbols exp/chain_cleaned_out/graph_tgsmall/disambig_tid.int \r\n",
      "fstminimizeencoded \r\n",
      "fstrmepslocal \r\n",
      "fstrmsymbols --remove-arcs=true --apply-to-output=true data/lang_test_tgsmall/oov.int data/lang_test_tgsmall/tmp/CLG_2_1.fst \r\n",
      "fstisstochastic exp/chain_cleaned_out/graph_tgsmall/HCLGa.fst \r\n",
      "3.39453 -0.209239\r\n",
      "HCLGa is not stochastic\r\n",
      "add-self-loops --self-loop-scale=1.0 --reorder=true exp/chain_cleaned/tdnn_1d_sp/final.mdl exp/chain_cleaned_out/graph_tgsmall/HCLGa.fst \r\n",
      "fstisstochastic exp/chain_cleaned_out/graph_tgsmall/HCLG.fst \r\n",
      "3.05078 -0.127788\r\n",
      "[info]: final HCLG is not stochastic.\r\n"
     ]
    }
   ],
   "source": [
    "%env dir=exp/chain_cleaned/tdnn_1d_sp\n",
    "%env graph_dir=exp/chain_cleaned_out/graph_tgsmall\n",
    "!utils/mkgraph.sh --self-loop-scale 1.0 --remove-oov data/lang_test_tgsmall $dir $graph_dir"
   ]
  },
  {
   "cell_type": "markdown",
   "id": "aging-jewel",
   "metadata": {
    "papermill": {
     "duration": 0.056194,
     "end_time": "2021-06-22T20:44:44.674485",
     "exception": false,
     "start_time": "2021-06-22T20:44:44.618291",
     "status": "completed"
    },
    "tags": []
   },
   "source": [
    "## Decode"
   ]
  },
  {
   "cell_type": "code",
   "execution_count": 35,
   "id": "wireless-latvia",
   "metadata": {
    "execution": {
     "iopub.execute_input": "2021-06-22T20:44:44.789219Z",
     "iopub.status.busy": "2021-06-22T20:44:44.788600Z",
     "iopub.status.idle": "2021-06-22T20:44:46.328020Z",
     "shell.execute_reply": "2021-06-22T20:44:46.328767Z"
    },
    "papermill": {
     "duration": 1.598779,
     "end_time": "2021-06-22T20:44:46.328995",
     "exception": false,
     "start_time": "2021-06-22T20:44:44.730216",
     "status": "completed"
    },
    "tags": []
   },
   "outputs": [
    {
     "name": "stdout",
     "output_type": "stream",
     "text": [
      "/kaggle/working/exp/tdnn_1d_sp\n",
      "/opt/kaldi/egs/usels/s5\n",
      "popd -> /opt/kaldi/egs/usels/s5\n"
     ]
    }
   ],
   "source": [
    "!mkdir exp/tdnn_1d_sp\n",
    "%pushd exp/tdnn_1d_sp\n",
    "!for i in /kaggle/input/kaldi-librispeech-model/exp/chain_cleaned/tdnn_1d_sp/*;do ln -s $i;done\n",
    "%popd"
   ]
  },
  {
   "cell_type": "code",
   "execution_count": 36,
   "id": "built-parcel",
   "metadata": {
    "execution": {
     "iopub.execute_input": "2021-06-22T20:44:46.457385Z",
     "iopub.status.busy": "2021-06-22T20:44:46.453531Z",
     "iopub.status.idle": "2021-06-22T21:51:30.472378Z",
     "shell.execute_reply": "2021-06-22T21:51:30.473043Z"
    },
    "papermill": {
     "duration": 4004.087924,
     "end_time": "2021-06-22T21:51:30.473365",
     "exception": false,
     "start_time": "2021-06-22T20:44:46.385441",
     "status": "completed"
    },
    "tags": []
   },
   "outputs": [
    {
     "name": "stdout",
     "output_type": "stream",
     "text": [
      "env: dir=exp/tdnn_1d_sp\n",
      "steps/nnet3/decode.sh --acwt 1.0 --post-decode-acwt 10.0 --nj 8 --cmd run.pl --online-ivector-dir exp/nnet3_cleaned_out/ivectors_test-clean_hires exp/chain_cleaned_out/graph_tgsmall data/test-clean_hires exp/tdnn_1d_sp/decode_test-other_tgsmall\r\n",
      "steps/nnet3/decode.sh: feature type is raw\r\n",
      "steps/diagnostic/analyze_lats.sh --cmd run.pl --iter final exp/chain_cleaned_out/graph_tgsmall exp/tdnn_1d_sp/decode_test-other_tgsmall\r\n",
      "steps/diagnostic/analyze_lats.sh: see stats in exp/tdnn_1d_sp/decode_test-other_tgsmall/log/analyze_alignments.log\r\n",
      "Overall, lattice depth (10,50,90-percentile)=(1,2,5) and mean=2.8\r\n",
      "steps/diagnostic/analyze_lats.sh: see stats in exp/tdnn_1d_sp/decode_test-other_tgsmall/log/analyze_lattice_depth_stats.log\r\n",
      "score best paths\r\n",
      "score confidence and timing with sclite\r\n",
      "Decoding done.\r\n",
      "steps/nnet3/decode.sh --acwt 1.0 --post-decode-acwt 10.0 --nj 8 --cmd run.pl --online-ivector-dir exp/nnet3_cleaned_out/ivectors_test-other_hires exp/chain_cleaned_out/graph_tgsmall data/test-other_hires exp/tdnn_1d_sp/decode_test-other_tgsmall\r\n",
      "steps/nnet3/decode.sh: feature type is raw\r\n",
      "steps/diagnostic/analyze_lats.sh --cmd run.pl --iter final exp/chain_cleaned_out/graph_tgsmall exp/tdnn_1d_sp/decode_test-other_tgsmall\r\n",
      "steps/diagnostic/analyze_lats.sh: see stats in exp/tdnn_1d_sp/decode_test-other_tgsmall/log/analyze_alignments.log\r\n",
      "Overall, lattice depth (10,50,90-percentile)=(1,3,13) and mean=6.3\r\n",
      "steps/diagnostic/analyze_lats.sh: see stats in exp/tdnn_1d_sp/decode_test-other_tgsmall/log/analyze_lattice_depth_stats.log\r\n",
      "score best paths\r\n",
      "score confidence and timing with sclite\r\n",
      "Decoding done.\r\n"
     ]
    }
   ],
   "source": [
    "%env dir=exp/tdnn_1d_sp\n",
    "!steps/nnet3/decode.sh --acwt 1.0 --post-decode-acwt 10.0 --nj 8 --cmd \"$decode_cmd\" --online-ivector-dir exp/nnet3_cleaned_out/ivectors_test-clean_hires $graph_dir data/test-clean_hires $dir/decode_test-other_tgsmall\n",
    "!steps/nnet3/decode.sh --acwt 1.0 --post-decode-acwt 10.0 --nj 8 --cmd \"$decode_cmd\" --online-ivector-dir exp/nnet3_cleaned_out/ivectors_test-other_hires $graph_dir data/test-other_hires $dir/decode_test-other_tgsmall"
   ]
  },
  {
   "cell_type": "markdown",
   "id": "increased-potential",
   "metadata": {
    "papermill": {
     "duration": 0.060222,
     "end_time": "2021-06-22T21:51:30.594397",
     "exception": false,
     "start_time": "2021-06-22T21:51:30.534175",
     "status": "completed"
    },
    "tags": []
   },
   "source": [
    "## Score"
   ]
  },
  {
   "cell_type": "code",
   "execution_count": 37,
   "id": "individual-snapshot",
   "metadata": {
    "execution": {
     "iopub.execute_input": "2021-06-22T21:51:30.720004Z",
     "iopub.status.busy": "2021-06-22T21:51:30.719340Z",
     "iopub.status.idle": "2021-06-22T21:53:04.580263Z",
     "shell.execute_reply": "2021-06-22T21:53:04.579413Z"
    },
    "papermill": {
     "duration": 93.925983,
     "end_time": "2021-06-22T21:53:04.580447",
     "exception": false,
     "start_time": "2021-06-22T21:51:30.654464",
     "status": "completed"
    },
    "tags": []
   },
   "outputs": [
    {
     "name": "stdout",
     "output_type": "stream",
     "text": [
      "steps/score_kaldi.sh --cmd run.pl data/test-clean_hires exp/chain_cleaned_out/graph_tgsmall exp/tdnn_1d_sp/decode_test-clean_tgsmall\r\n",
      "score.sh: no such file exp/tdnn_1d_sp/decode_test-clean_tgsmall/lat.1.gz\r\n",
      "steps/score_kaldi.sh --cmd run.pl data/test-other_hires exp/chain_cleaned_out/graph_tgsmall exp/tdnn_1d_sp/decode_test-other_tgsmall\r\n",
      "steps/score_kaldi.sh: scoring with word insertion penalty=0.0,0.5,1.0\r\n"
     ]
    }
   ],
   "source": [
    "!steps/score_kaldi.sh --cmd \"run.pl\" data/test-clean_hires $graph_dir $dir/decode_test-clean_tgsmall\n",
    "!steps/score_kaldi.sh --cmd \"run.pl\" data/test-other_hires $graph_dir $dir/decode_test-other_tgsmall"
   ]
  },
  {
   "cell_type": "code",
   "execution_count": 38,
   "id": "ready-twenty",
   "metadata": {
    "execution": {
     "iopub.execute_input": "2021-06-22T21:53:04.794381Z",
     "iopub.status.busy": "2021-06-22T21:53:04.793674Z",
     "iopub.status.idle": "2021-06-22T21:53:06.267315Z",
     "shell.execute_reply": "2021-06-22T21:53:06.267894Z"
    },
    "papermill": {
     "duration": 1.548371,
     "end_time": "2021-06-22T21:53:06.268121",
     "exception": false,
     "start_time": "2021-06-22T21:53:04.719750",
     "status": "completed"
    },
    "tags": []
   },
   "outputs": [
    {
     "name": "stdout",
     "output_type": "stream",
     "text": [
      "/bin/bash: built-in: No such file or directory\r\n",
      "/bin/bash: built-in: No such file or directory\r\n"
     ]
    }
   ],
   "source": [
    "!cat $dir/decode_test-clean_tgsmall/scoring_kaldi/best_wer\n",
    "!cat $dir/decode_test-other_tgsmall/scoring_kaldi/best_wer"
   ]
  },
  {
   "cell_type": "markdown",
   "id": "sublime-ownership",
   "metadata": {
    "papermill": {
     "duration": 0.066317,
     "end_time": "2021-06-22T21:53:06.400080",
     "exception": false,
     "start_time": "2021-06-22T21:53:06.333763",
     "status": "completed"
    },
    "tags": []
   },
   "source": [
    "## Rescoring"
   ]
  },
  {
   "cell_type": "code",
   "execution_count": 39,
   "id": "auburn-polls",
   "metadata": {
    "execution": {
     "iopub.execute_input": "2021-06-22T21:53:06.539082Z",
     "iopub.status.busy": "2021-06-22T21:53:06.538355Z",
     "iopub.status.idle": "2021-06-22T21:53:08.012568Z",
     "shell.execute_reply": "2021-06-22T21:53:08.011786Z"
    },
    "papermill": {
     "duration": 1.545216,
     "end_time": "2021-06-22T21:53:08.012747",
     "exception": false,
     "start_time": "2021-06-22T21:53:06.467531",
     "status": "completed"
    },
    "tags": []
   },
   "outputs": [
    {
     "name": "stdout",
     "output_type": "stream",
     "text": [
      "/kaggle/working/exp/rnnlm_lstm_1a\n",
      "/opt/kaldi/egs/usels/s5\n",
      "popd -> /opt/kaldi/egs/usels/s5\n"
     ]
    }
   ],
   "source": [
    "!mkdir exp/rnnlm_lstm_1a\n",
    "%pushd exp/rnnlm_lstm_1a\n",
    "!for i in /kaldi/input/kaldi-librispeech-model/exp/rnnlm_lstm_1a/*; do ln -s $i;done\n",
    "%popd"
   ]
  },
  {
   "cell_type": "code",
   "execution_count": 40,
   "id": "adjustable-lloyd",
   "metadata": {
    "execution": {
     "iopub.execute_input": "2021-06-22T21:53:08.155810Z",
     "iopub.status.busy": "2021-06-22T21:53:08.155096Z",
     "iopub.status.idle": "2021-06-22T21:53:08.870495Z",
     "shell.execute_reply": "2021-06-22T21:53:08.869840Z"
    },
    "papermill": {
     "duration": 0.794275,
     "end_time": "2021-06-22T21:53:08.870658",
     "exception": false,
     "start_time": "2021-06-22T21:53:08.076383",
     "status": "completed"
    },
    "tags": []
   },
   "outputs": [],
   "source": [
    "!ln -s /opt/kaldi/scripts/rnnlm"
   ]
  },
  {
   "cell_type": "code",
   "execution_count": 41,
   "id": "federal-inspection",
   "metadata": {
    "execution": {
     "iopub.execute_input": "2021-06-22T21:53:09.019521Z",
     "iopub.status.busy": "2021-06-22T21:53:09.015161Z",
     "iopub.status.idle": "2021-06-22T21:53:10.531827Z",
     "shell.execute_reply": "2021-06-22T21:53:10.531023Z"
    },
    "papermill": {
     "duration": 1.594448,
     "end_time": "2021-06-22T21:53:10.532010",
     "exception": false,
     "start_time": "2021-06-22T21:53:08.937562",
     "status": "completed"
    },
    "tags": []
   },
   "outputs": [
    {
     "name": "stdout",
     "output_type": "stream",
     "text": [
      "env: decode_dir=<built-in function dir>/decode_test-clean_tgsmall\n",
      "rnnlm/lmrescore_pruned.sh --cmd run.pl --weight 0.45 --max-ngram-order 4 data/lang_test_tgsmall exp/rnnlm_lstm_1a data/test-clean_hires <built-in function dir>/decode_test-clean_tgsmall exp/tdnn_1d_sp/decode_test-clean_rescore\r\n",
      "Does language model rescoring of lattices (remove old LM, add new LM)\r\n",
      "with Kaldi RNNLM using a pruned algorithm. See comments in file for details\r\n",
      "\r\n",
      "Usage: rnnlm/lmrescore_pruned.sh [options] <old-lang-dir> <rnnlm-dir> \\\r\n",
      "                   <data-dir> <input-decode-dir> <output-decode-dir>\r\n",
      " e.g.: rnnlm/lmrescore_pruned.sh data/lang_tg exp/rnnlm_lstm/ data/test \\\r\n",
      "                   exp/tri3/test_tg exp/tri3/test_rnnlm_4gram\r\n",
      "options: [--cmd (run.pl|queue.pl [queue opts])]\r\n",
      "env: decode_dir=<built-in function dir>/decode_test-other_tgsmall\n",
      "rnnlm/lmrescore_pruned.sh --cmd run.pl --weight 0.45 --max-ngram-order 4 data/lang_test_tgsmall exp/rnnlm_lstm_1a data/test-other_hires <built-in function dir>/decode_test-other_tgsmall exp/tdnn_1d_sp/decode_test-other_rescore\r\n",
      "Does language model rescoring of lattices (remove old LM, add new LM)\r\n",
      "with Kaldi RNNLM using a pruned algorithm. See comments in file for details\r\n",
      "\r\n",
      "Usage: rnnlm/lmrescore_pruned.sh [options] <old-lang-dir> <rnnlm-dir> \\\r\n",
      "                   <data-dir> <input-decode-dir> <output-decode-dir>\r\n",
      " e.g.: rnnlm/lmrescore_pruned.sh data/lang_tg exp/rnnlm_lstm/ data/test \\\r\n",
      "                   exp/tri3/test_tg exp/tri3/test_rnnlm_4gram\r\n",
      "options: [--cmd (run.pl|queue.pl [queue opts])]\r\n"
     ]
    }
   ],
   "source": [
    "%env decode_dir=$dir/decode_test-clean_tgsmall\n",
    "!rnnlm/lmrescore_pruned.sh --cmd \"$decode_cmd\" --weight 0.45 --max-ngram-order 4 data/lang_test_tgsmall exp/rnnlm_lstm_1a data/test-clean_hires ${decode_dir} $dir/decode_test-clean_rescore\n",
    "%env decode_dir=$dir/decode_test-other_tgsmall\n",
    "!rnnlm/lmrescore_pruned.sh --cmd \"$decode_cmd\" --weight 0.45 --max-ngram-order 4 data/lang_test_tgsmall exp/rnnlm_lstm_1a data/test-other_hires ${decode_dir} $dir/decode_test-other_rescore"
   ]
  },
  {
   "cell_type": "markdown",
   "id": "noted-toddler",
   "metadata": {
    "papermill": {
     "duration": 0.067216,
     "end_time": "2021-06-22T21:53:10.666908",
     "exception": false,
     "start_time": "2021-06-22T21:53:10.599692",
     "status": "completed"
    },
    "tags": []
   },
   "source": [
    "## "
   ]
  }
 ],
 "metadata": {
  "kernelspec": {
   "display_name": "Python 3",
   "language": "python",
   "name": "python3"
  },
  "language_info": {
   "codemirror_mode": {
    "name": "ipython",
    "version": 3
   },
   "file_extension": ".py",
   "mimetype": "text/x-python",
   "name": "python",
   "nbconvert_exporter": "python",
   "pygments_lexer": "ipython3",
   "version": "3.7.10"
  },
  "papermill": {
   "default_parameters": {},
   "duration": 4619.603079,
   "end_time": "2021-06-22T21:53:12.143118",
   "environment_variables": {},
   "exception": null,
   "input_path": "__notebook__.ipynb",
   "output_path": "__notebook__.ipynb",
   "parameters": {},
   "start_time": "2021-06-22T20:36:12.540039",
   "version": "2.3.3"
  }
 },
 "nbformat": 4,
 "nbformat_minor": 5
}
