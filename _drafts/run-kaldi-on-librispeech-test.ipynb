{
 "cells": [
  {
   "cell_type": "markdown",
   "id": "capital-purpose",
   "metadata": {
    "papermill": {
     "duration": 0.032597,
     "end_time": "2021-06-22T18:06:14.605405",
     "exception": false,
     "start_time": "2021-06-22T18:06:14.572808",
     "status": "completed"
    },
    "tags": []
   },
   "source": [
    "## Unpack Kaldi"
   ]
  },
  {
   "cell_type": "code",
   "execution_count": 1,
   "id": "parliamentary-muscle",
   "metadata": {
    "_cell_guid": "b1076dfc-b9ad-4769-8c92-a6c4dae69d19",
    "_uuid": "8f2839f25d086af736a60e9eeb907d3b93b6e0e5",
    "execution": {
     "iopub.execute_input": "2021-06-22T18:06:14.679514Z",
     "iopub.status.busy": "2021-06-22T18:06:14.678919Z",
     "iopub.status.idle": "2021-06-22T18:06:14.684330Z",
     "shell.execute_reply": "2021-06-22T18:06:14.683633Z",
     "shell.execute_reply.started": "2021-06-22T11:54:50.153353Z"
    },
    "papermill": {
     "duration": 0.0473,
     "end_time": "2021-06-22T18:06:14.684483",
     "exception": false,
     "start_time": "2021-06-22T18:06:14.637183",
     "status": "completed"
    },
    "tags": []
   },
   "outputs": [
    {
     "name": "stdout",
     "output_type": "stream",
     "text": [
      "/opt\n"
     ]
    }
   ],
   "source": [
    "%cd /opt"
   ]
  },
  {
   "cell_type": "code",
   "execution_count": 2,
   "id": "accepting-poultry",
   "metadata": {
    "execution": {
     "iopub.execute_input": "2021-06-22T18:06:14.755503Z",
     "iopub.status.busy": "2021-06-22T18:06:14.754872Z",
     "iopub.status.idle": "2021-06-22T18:06:55.831063Z",
     "shell.execute_reply": "2021-06-22T18:06:55.830503Z",
     "shell.execute_reply.started": "2021-06-22T11:54:53.255442Z"
    },
    "papermill": {
     "duration": 41.114033,
     "end_time": "2021-06-22T18:06:55.831212",
     "exception": false,
     "start_time": "2021-06-22T18:06:14.717179",
     "status": "completed"
    },
    "tags": []
   },
   "outputs": [],
   "source": [
    "%%capture\n",
    "!tar xvf /kaggle/input/extract-prebuilt-kaldi-from-docker/kaldi.tar"
   ]
  },
  {
   "cell_type": "code",
   "execution_count": 3,
   "id": "threaded-papua",
   "metadata": {
    "execution": {
     "iopub.execute_input": "2021-06-22T18:06:55.901290Z",
     "iopub.status.busy": "2021-06-22T18:06:55.900663Z",
     "iopub.status.idle": "2021-06-22T18:06:55.903884Z",
     "shell.execute_reply": "2021-06-22T18:06:55.903312Z",
     "shell.execute_reply.started": "2021-06-22T11:55:40.60018Z"
    },
    "papermill": {
     "duration": 0.040263,
     "end_time": "2021-06-22T18:06:55.904023",
     "exception": false,
     "start_time": "2021-06-22T18:06:55.863760",
     "status": "completed"
    },
    "tags": []
   },
   "outputs": [],
   "source": [
    "import os\n",
    "os.environ['LD_LIBRARY_PATH'] = '/opt/conda/lib:/opt/kaldi/tools/openfst-1.6.7/lib:/opt/kaldi/src/lib:'\n",
    "EXISTING_PATH = os.environ['PATH']"
   ]
  },
  {
   "cell_type": "code",
   "execution_count": 4,
   "id": "civilian-collapse",
   "metadata": {
    "execution": {
     "iopub.execute_input": "2021-06-22T18:06:55.973535Z",
     "iopub.status.busy": "2021-06-22T18:06:55.972936Z",
     "iopub.status.idle": "2021-06-22T18:06:55.977385Z",
     "shell.execute_reply": "2021-06-22T18:06:55.976794Z"
    },
    "papermill": {
     "duration": 0.041304,
     "end_time": "2021-06-22T18:06:55.977516",
     "exception": false,
     "start_time": "2021-06-22T18:06:55.936212",
     "status": "completed"
    },
    "tags": []
   },
   "outputs": [
    {
     "name": "stdout",
     "output_type": "stream",
     "text": [
      "/\n"
     ]
    }
   ],
   "source": [
    "%cd /\n"
   ]
  },
  {
   "cell_type": "code",
   "execution_count": 5,
   "id": "educated-natural",
   "metadata": {
    "execution": {
     "iopub.execute_input": "2021-06-22T18:06:56.051778Z",
     "iopub.status.busy": "2021-06-22T18:06:56.048271Z",
     "iopub.status.idle": "2021-06-22T18:07:31.589224Z",
     "shell.execute_reply": "2021-06-22T18:07:31.588692Z"
    },
    "papermill": {
     "duration": 35.579218,
     "end_time": "2021-06-22T18:07:31.589371",
     "exception": false,
     "start_time": "2021-06-22T18:06:56.010153",
     "status": "completed"
    },
    "tags": []
   },
   "outputs": [],
   "source": [
    "%%capture\n",
    "!tar xvf /kaggle/input/extract-cuda-from-kaldi-docker/cuda.tar"
   ]
  },
  {
   "cell_type": "code",
   "execution_count": 6,
   "id": "better-suspension",
   "metadata": {
    "execution": {
     "iopub.execute_input": "2021-06-22T18:07:37.745747Z",
     "iopub.status.busy": "2021-06-22T18:07:37.744768Z",
     "iopub.status.idle": "2021-06-22T18:07:37.748255Z",
     "shell.execute_reply": "2021-06-22T18:07:37.747539Z",
     "shell.execute_reply.started": "2021-06-22T13:29:47.085695Z"
    },
    "papermill": {
     "duration": 0.041383,
     "end_time": "2021-06-22T18:07:37.748392",
     "exception": false,
     "start_time": "2021-06-22T18:07:37.707009",
     "status": "completed"
    },
    "tags": []
   },
   "outputs": [],
   "source": [
    "import os\n",
    "os.environ['LD_LIBRARY_PATH'] = f'{os.environ[\"LD_LIBRARY_PATH\"]}:/usr/local/cuda-10.0/targets/x86_64-linux/lib/'"
   ]
  },
  {
   "cell_type": "code",
   "execution_count": 7,
   "id": "occupied-disability",
   "metadata": {
    "execution": {
     "iopub.execute_input": "2021-06-22T18:07:37.820539Z",
     "iopub.status.busy": "2021-06-22T18:07:37.819670Z",
     "iopub.status.idle": "2021-06-22T18:07:37.824372Z",
     "shell.execute_reply": "2021-06-22T18:07:37.823852Z",
     "shell.execute_reply.started": "2021-06-22T11:55:40.610869Z"
    },
    "papermill": {
     "duration": 0.04338,
     "end_time": "2021-06-22T18:07:37.824521",
     "exception": false,
     "start_time": "2021-06-22T18:07:37.781141",
     "status": "completed"
    },
    "tags": []
   },
   "outputs": [
    {
     "name": "stdout",
     "output_type": "stream",
     "text": [
      "/opt/kaldi/egs\n"
     ]
    }
   ],
   "source": [
    "%cd /opt/kaldi/egs"
   ]
  },
  {
   "cell_type": "markdown",
   "id": "certified-death",
   "metadata": {
    "papermill": {
     "duration": 0.03264,
     "end_time": "2021-06-22T18:07:37.890525",
     "exception": false,
     "start_time": "2021-06-22T18:07:37.857885",
     "status": "completed"
    },
    "tags": []
   },
   "source": [
    "## Install flac"
   ]
  },
  {
   "cell_type": "code",
   "execution_count": 8,
   "id": "seeing-concert",
   "metadata": {
    "execution": {
     "iopub.execute_input": "2021-06-22T18:07:37.966012Z",
     "iopub.status.busy": "2021-06-22T18:07:37.961990Z",
     "iopub.status.idle": "2021-06-22T18:07:43.452974Z",
     "shell.execute_reply": "2021-06-22T18:07:43.451877Z",
     "shell.execute_reply.started": "2021-06-22T12:06:36.222984Z"
    },
    "papermill": {
     "duration": 5.529299,
     "end_time": "2021-06-22T18:07:43.453136",
     "exception": false,
     "start_time": "2021-06-22T18:07:37.923837",
     "status": "completed"
    },
    "tags": []
   },
   "outputs": [],
   "source": [
    "%%capture\n",
    "!apt install -y flac"
   ]
  },
  {
   "cell_type": "markdown",
   "id": "earlier-pattern",
   "metadata": {
    "papermill": {
     "duration": 0.032959,
     "end_time": "2021-06-22T18:07:43.519481",
     "exception": false,
     "start_time": "2021-06-22T18:07:43.486522",
     "status": "completed"
    },
    "tags": []
   },
   "source": [
    "## Create a work directory"
   ]
  },
  {
   "cell_type": "code",
   "execution_count": 9,
   "id": "regulated-stranger",
   "metadata": {
    "execution": {
     "iopub.execute_input": "2021-06-22T18:07:43.595656Z",
     "iopub.status.busy": "2021-06-22T18:07:43.591067Z",
     "iopub.status.idle": "2021-06-22T18:07:44.318787Z",
     "shell.execute_reply": "2021-06-22T18:07:44.318194Z",
     "shell.execute_reply.started": "2021-06-22T11:55:40.659251Z"
    },
    "papermill": {
     "duration": 0.766458,
     "end_time": "2021-06-22T18:07:44.318930",
     "exception": false,
     "start_time": "2021-06-22T18:07:43.552472",
     "status": "completed"
    },
    "tags": []
   },
   "outputs": [
    {
     "name": "stdout",
     "output_type": "stream",
     "text": [
      "/opt/kaldi/egs/usels/s5\n"
     ]
    }
   ],
   "source": [
    "!mkdir -p usels/s5\n",
    "%cd usels/s5"
   ]
  },
  {
   "cell_type": "code",
   "execution_count": 10,
   "id": "burning-engine",
   "metadata": {
    "execution": {
     "iopub.execute_input": "2021-06-22T18:07:44.393523Z",
     "iopub.status.busy": "2021-06-22T18:07:44.392909Z",
     "iopub.status.idle": "2021-06-22T18:07:47.280369Z",
     "shell.execute_reply": "2021-06-22T18:07:47.279719Z",
     "shell.execute_reply.started": "2021-06-22T12:08:43.066673Z"
    },
    "papermill": {
     "duration": 2.928397,
     "end_time": "2021-06-22T18:07:47.280499",
     "exception": false,
     "start_time": "2021-06-22T18:07:44.352102",
     "status": "completed"
    },
    "tags": []
   },
   "outputs": [],
   "source": [
    "!mkdir /kaggle/working/data\n",
    "!mkdir /kaggle/working/exp\n",
    "!ln -s /kaggle/working/data\n",
    "!ln -s /kaggle/working/exp"
   ]
  },
  {
   "cell_type": "code",
   "execution_count": 11,
   "id": "processed-vegetation",
   "metadata": {
    "execution": {
     "iopub.execute_input": "2021-06-22T18:07:47.356493Z",
     "iopub.status.busy": "2021-06-22T18:07:47.352624Z",
     "iopub.status.idle": "2021-06-22T18:07:49.519432Z",
     "shell.execute_reply": "2021-06-22T18:07:49.518918Z",
     "shell.execute_reply.started": "2021-06-22T11:55:41.459018Z"
    },
    "papermill": {
     "duration": 2.20678,
     "end_time": "2021-06-22T18:07:49.519593",
     "exception": false,
     "start_time": "2021-06-22T18:07:47.312813",
     "status": "completed"
    },
    "tags": []
   },
   "outputs": [],
   "source": [
    "!ln -s ../../wsj/s5/steps\n",
    "!ln -s ../../wsj/s5/utils\n",
    "!ln -s ../../librispeech/s5/local"
   ]
  },
  {
   "cell_type": "code",
   "execution_count": 12,
   "id": "english-processing",
   "metadata": {
    "execution": {
     "iopub.execute_input": "2021-06-22T18:07:49.593848Z",
     "iopub.status.busy": "2021-06-22T18:07:49.590489Z",
     "iopub.status.idle": "2021-06-22T18:07:50.317364Z",
     "shell.execute_reply": "2021-06-22T18:07:50.316826Z",
     "shell.execute_reply.started": "2021-06-22T11:55:43.77028Z"
    },
    "papermill": {
     "duration": 0.764663,
     "end_time": "2021-06-22T18:07:50.317511",
     "exception": false,
     "start_time": "2021-06-22T18:07:49.552848",
     "status": "completed"
    },
    "tags": []
   },
   "outputs": [],
   "source": [
    "!mkdir conf"
   ]
  },
  {
   "cell_type": "code",
   "execution_count": 13,
   "id": "executive-oxygen",
   "metadata": {
    "execution": {
     "iopub.execute_input": "2021-06-22T18:07:50.389980Z",
     "iopub.status.busy": "2021-06-22T18:07:50.389313Z",
     "iopub.status.idle": "2021-06-22T18:07:50.393670Z",
     "shell.execute_reply": "2021-06-22T18:07:50.394175Z",
     "shell.execute_reply.started": "2021-06-22T11:55:44.555875Z"
    },
    "papermill": {
     "duration": 0.043594,
     "end_time": "2021-06-22T18:07:50.394357",
     "exception": false,
     "start_time": "2021-06-22T18:07:50.350763",
     "status": "completed"
    },
    "tags": []
   },
   "outputs": [
    {
     "name": "stdout",
     "output_type": "stream",
     "text": [
      "Writing conf/mfcc_hires.conf\n"
     ]
    }
   ],
   "source": [
    "%%writefile conf/mfcc_hires.conf\n",
    "# config for high-resolution MFCC features, intended for neural network training\n",
    "# Note: we keep all cepstra, so it has the same info as filterbank features,\n",
    "# but MFCC is more easily compressible (because less correlated) which is why \n",
    "# we prefer this method.\n",
    "--use-energy=false   # use average of log energy, not energy.\n",
    "--num-mel-bins=40     # similar to Google's setup.\n",
    "--num-ceps=40     # there is no dimensionality reduction.\n",
    "--low-freq=20     # low cutoff frequency for mel bins... this is high-bandwidth data, so\n",
    "                  # there might be some information at the low end.\n",
    "--high-freq=-400 # high cutoff frequently, relative to Nyquist of 8000 (=7600)"
   ]
  },
  {
   "cell_type": "markdown",
   "id": "collect-cooper",
   "metadata": {
    "papermill": {
     "duration": 0.033377,
     "end_time": "2021-06-22T18:07:50.462138",
     "exception": false,
     "start_time": "2021-06-22T18:07:50.428761",
     "status": "completed"
    },
    "tags": []
   },
   "source": [
    "## Setting up paths\n",
    "\n",
    "(In the scripts, you just source `path.sh`)"
   ]
  },
  {
   "cell_type": "code",
   "execution_count": 14,
   "id": "comfortable-curtis",
   "metadata": {
    "execution": {
     "iopub.execute_input": "2021-06-22T18:07:50.534293Z",
     "iopub.status.busy": "2021-06-22T18:07:50.533613Z",
     "iopub.status.idle": "2021-06-22T18:07:50.537059Z",
     "shell.execute_reply": "2021-06-22T18:07:50.536432Z",
     "shell.execute_reply.started": "2021-06-22T11:55:44.565547Z"
    },
    "papermill": {
     "duration": 0.041704,
     "end_time": "2021-06-22T18:07:50.537198",
     "exception": false,
     "start_time": "2021-06-22T18:07:50.495494",
     "status": "completed"
    },
    "tags": []
   },
   "outputs": [
    {
     "name": "stdout",
     "output_type": "stream",
     "text": [
      "env: KALDI_ROOT=/opt/kaldi\n"
     ]
    }
   ],
   "source": [
    "%env KALDI_ROOT=/opt/kaldi"
   ]
  },
  {
   "cell_type": "code",
   "execution_count": 15,
   "id": "inside-market",
   "metadata": {
    "execution": {
     "iopub.execute_input": "2021-06-22T18:07:50.613116Z",
     "iopub.status.busy": "2021-06-22T18:07:50.608777Z",
     "iopub.status.idle": "2021-06-22T18:07:51.333842Z",
     "shell.execute_reply": "2021-06-22T18:07:51.334316Z",
     "shell.execute_reply.started": "2021-06-22T11:55:44.577705Z"
    },
    "papermill": {
     "duration": 0.763651,
     "end_time": "2021-06-22T18:07:51.334506",
     "exception": false,
     "start_time": "2021-06-22T18:07:50.570855",
     "status": "completed"
    },
    "tags": []
   },
   "outputs": [
    {
     "name": "stdout",
     "output_type": "stream",
     "text": [
      "export KALDI_ROOT=`pwd`/../../..\r\n",
      "[ -f $KALDI_ROOT/tools/env.sh ] && . $KALDI_ROOT/tools/env.sh\r\n",
      "export PATH=$PWD/utils/:$KALDI_ROOT/tools/openfst/bin:$PWD:$PATH\r\n",
      "[ ! -f $KALDI_ROOT/tools/config/common_path.sh ] && echo >&2 \"The standard file $KALDI_ROOT/tools/config/common_path.sh is not present -> Exit!\" && exit 1\r\n",
      ". $KALDI_ROOT/tools/config/common_path.sh\r\n",
      "export LC_ALL=C\r\n"
     ]
    }
   ],
   "source": [
    "!cat ../../wsj/s5/path.sh"
   ]
  },
  {
   "cell_type": "code",
   "execution_count": 16,
   "id": "divine-cookie",
   "metadata": {
    "execution": {
     "iopub.execute_input": "2021-06-22T18:07:51.408837Z",
     "iopub.status.busy": "2021-06-22T18:07:51.408182Z",
     "iopub.status.idle": "2021-06-22T18:07:51.411525Z",
     "shell.execute_reply": "2021-06-22T18:07:51.410814Z",
     "shell.execute_reply.started": "2021-06-22T12:00:36.247262Z"
    },
    "papermill": {
     "duration": 0.043229,
     "end_time": "2021-06-22T18:07:51.411736",
     "exception": false,
     "start_time": "2021-06-22T18:07:51.368507",
     "status": "completed"
    },
    "tags": []
   },
   "outputs": [
    {
     "name": "stdout",
     "output_type": "stream",
     "text": [
      "env: LC_ALL=C\n"
     ]
    }
   ],
   "source": [
    "%env LC_ALL=C\n",
    "#PWD = !pwd\n",
    "PWD = '/opt/kaldi/egs/usels/s5'\n",
    "KALDI_ROOT = '/opt/kaldi'\n",
    "WSJ_PATH = f'{PWD}/utils/:{KALDI_ROOT}/tools/openfst/bin:{PWD}:{EXISTING_PATH}'"
   ]
  },
  {
   "cell_type": "code",
   "execution_count": 17,
   "id": "informative-bulletin",
   "metadata": {
    "execution": {
     "iopub.execute_input": "2021-06-22T18:07:51.490939Z",
     "iopub.status.busy": "2021-06-22T18:07:51.490279Z",
     "iopub.status.idle": "2021-06-22T18:07:52.212762Z",
     "shell.execute_reply": "2021-06-22T18:07:52.212093Z",
     "shell.execute_reply.started": "2021-06-22T11:57:02.231388Z"
    },
    "papermill": {
     "duration": 0.765287,
     "end_time": "2021-06-22T18:07:52.212909",
     "exception": false,
     "start_time": "2021-06-22T18:07:51.447622",
     "status": "completed"
    },
    "tags": []
   },
   "outputs": [
    {
     "name": "stdout",
     "output_type": "stream",
     "text": [
      "# we assume KALDI_ROOT is already defined\r\n",
      "[ -z \"$KALDI_ROOT\" ] && echo >&2 \"The variable KALDI_ROOT must be already defined\" && exit 1\r\n",
      "# The formatting of the path export command is intentionally weird, because\r\n",
      "# this allows for easy diff'ing\r\n",
      "export PATH=\\\r\n",
      "${KALDI_ROOT}/src/bin:\\\r\n",
      "${KALDI_ROOT}/src/chainbin:\\\r\n",
      "${KALDI_ROOT}/src/featbin:\\\r\n",
      "${KALDI_ROOT}/src/fgmmbin:\\\r\n",
      "${KALDI_ROOT}/src/fstbin:\\\r\n",
      "${KALDI_ROOT}/src/gmmbin:\\\r\n",
      "${KALDI_ROOT}/src/ivectorbin:\\\r\n",
      "${KALDI_ROOT}/src/kwsbin:\\\r\n",
      "${KALDI_ROOT}/src/latbin:\\\r\n",
      "${KALDI_ROOT}/src/lmbin:\\\r\n",
      "${KALDI_ROOT}/src/nnet2bin:\\\r\n",
      "${KALDI_ROOT}/src/nnet3bin:\\\r\n",
      "${KALDI_ROOT}/src/nnetbin:\\\r\n",
      "${KALDI_ROOT}/src/online2bin:\\\r\n",
      "${KALDI_ROOT}/src/onlinebin:\\\r\n",
      "${KALDI_ROOT}/src/rnnlmbin:\\\r\n",
      "${KALDI_ROOT}/src/sgmm2bin:\\\r\n",
      "${KALDI_ROOT}/src/sgmmbin:\\\r\n",
      "${KALDI_ROOT}/src/tfrnnlmbin:\\\r\n",
      "${KALDI_ROOT}/src/cudadecoderbin:\\\r\n",
      "$PATH\r\n"
     ]
    }
   ],
   "source": [
    "!cat $KALDI_ROOT/tools/config/common_path.sh"
   ]
  },
  {
   "cell_type": "code",
   "execution_count": 18,
   "id": "binding-mountain",
   "metadata": {
    "execution": {
     "iopub.execute_input": "2021-06-22T18:07:52.289475Z",
     "iopub.status.busy": "2021-06-22T18:07:52.288794Z",
     "iopub.status.idle": "2021-06-22T18:07:52.312502Z",
     "shell.execute_reply": "2021-06-22T18:07:52.311902Z",
     "shell.execute_reply.started": "2021-06-22T11:56:52.862746Z"
    },
    "papermill": {
     "duration": 0.064212,
     "end_time": "2021-06-22T18:07:52.312687",
     "exception": false,
     "start_time": "2021-06-22T18:07:52.248475",
     "status": "completed"
    },
    "tags": []
   },
   "outputs": [],
   "source": [
    "#kaldi_paths=!cat $KALDI_ROOT/tools/config/common_path.sh|grep '/src/'|awk -F':' '{print $1}'|awk -F'/' '{print $NF}'|tr '\\n' ':'\n",
    "raw_kaldi_paths=!cat $KALDI_ROOT/tools/config/common_path.sh|grep '/src/'|awk -F':' '{print $1}'|awk -F'/' '{print \"/opt/kaldi/src/\"$NF}'"
   ]
  },
  {
   "cell_type": "code",
   "execution_count": 19,
   "id": "steady-degree",
   "metadata": {
    "execution": {
     "iopub.execute_input": "2021-06-22T18:07:52.387521Z",
     "iopub.status.busy": "2021-06-22T18:07:52.386891Z",
     "iopub.status.idle": "2021-06-22T18:07:52.389713Z",
     "shell.execute_reply": "2021-06-22T18:07:52.389221Z",
     "shell.execute_reply.started": "2021-06-22T12:02:21.567242Z"
    },
    "papermill": {
     "duration": 0.042326,
     "end_time": "2021-06-22T18:07:52.389849",
     "exception": false,
     "start_time": "2021-06-22T18:07:52.347523",
     "status": "completed"
    },
    "tags": []
   },
   "outputs": [],
   "source": [
    "KALDI_PATHS=raw_kaldi_paths.nlstr.replace('\\n',':')"
   ]
  },
  {
   "cell_type": "code",
   "execution_count": 20,
   "id": "rational-contest",
   "metadata": {
    "execution": {
     "iopub.execute_input": "2021-06-22T18:07:52.467579Z",
     "iopub.status.busy": "2021-06-22T18:07:52.463934Z",
     "iopub.status.idle": "2021-06-22T18:07:53.185019Z",
     "shell.execute_reply": "2021-06-22T18:07:53.185591Z",
     "shell.execute_reply.started": "2021-06-22T11:56:58.4537Z"
    },
    "papermill": {
     "duration": 0.761214,
     "end_time": "2021-06-22T18:07:53.185793",
     "exception": false,
     "start_time": "2021-06-22T18:07:52.424579",
     "status": "completed"
    },
    "tags": []
   },
   "outputs": [
    {
     "name": "stdout",
     "output_type": "stream",
     "text": [
      "export PATH=/opt/kaldi/tools/python:${PATH}\r\n",
      "export PHONETISAURUS=\"/tmp/output/opt/kaldi/tools/phonetisaurus-g2p\"\r\n",
      "export PATH=\"$PATH:${PHONETISAURUS}:${PHONETISAURUS}/src/scripts\"\r\n"
     ]
    }
   ],
   "source": [
    "!cat $KALDI_ROOT/tools/env.sh"
   ]
  },
  {
   "cell_type": "code",
   "execution_count": 21,
   "id": "descending-sudan",
   "metadata": {
    "execution": {
     "iopub.execute_input": "2021-06-22T18:07:53.260876Z",
     "iopub.status.busy": "2021-06-22T18:07:53.259882Z",
     "iopub.status.idle": "2021-06-22T18:07:53.264150Z",
     "shell.execute_reply": "2021-06-22T18:07:53.264736Z",
     "shell.execute_reply.started": "2021-06-22T12:02:09.80754Z"
    },
    "papermill": {
     "duration": 0.044154,
     "end_time": "2021-06-22T18:07:53.264908",
     "exception": false,
     "start_time": "2021-06-22T18:07:53.220754",
     "status": "completed"
    },
    "tags": []
   },
   "outputs": [],
   "source": [
    "PHONETISAURUS = \"/tmp/output/opt/kaldi/tools/phonetisaurus-g2p\"\n",
    "TOOLS_PATH = f'/opt/kaldi/tools/python:{PHONETISAURUS}:{PHONETISAURUS}/src/scripts'"
   ]
  },
  {
   "cell_type": "code",
   "execution_count": 22,
   "id": "illegal-first",
   "metadata": {
    "execution": {
     "iopub.execute_input": "2021-06-22T18:07:53.338935Z",
     "iopub.status.busy": "2021-06-22T18:07:53.337973Z",
     "iopub.status.idle": "2021-06-22T18:07:53.343730Z",
     "shell.execute_reply": "2021-06-22T18:07:53.344226Z",
     "shell.execute_reply.started": "2021-06-22T12:03:04.119662Z"
    },
    "papermill": {
     "duration": 0.044384,
     "end_time": "2021-06-22T18:07:53.344396",
     "exception": false,
     "start_time": "2021-06-22T18:07:53.300012",
     "status": "completed"
    },
    "tags": []
   },
   "outputs": [
    {
     "name": "stdout",
     "output_type": "stream",
     "text": [
      "env: PATH=f\"/opt/kaldi/egs/usels/s5/utils/:/opt/kaldi/tools/openfst/bin:/opt/kaldi/egs/usels/s5:/opt/conda/bin:/usr/local/sbin:/usr/local/bin:/usr/sbin:/usr/bin:/sbin:/bin:/opt/kaldi/src/bin:/opt/kaldi/src/chainbin:/opt/kaldi/src/featbin:/opt/kaldi/src/fgmmbin:/opt/kaldi/src/fstbin:/opt/kaldi/src/gmmbin:/opt/kaldi/src/ivectorbin:/opt/kaldi/src/kwsbin:/opt/kaldi/src/latbin:/opt/kaldi/src/lmbin:/opt/kaldi/src/nnet2bin:/opt/kaldi/src/nnet3bin:/opt/kaldi/src/nnetbin:/opt/kaldi/src/online2bin:/opt/kaldi/src/onlinebin:/opt/kaldi/src/rnnlmbin:/opt/kaldi/src/sgmm2bin:/opt/kaldi/src/sgmmbin:/opt/kaldi/src/tfrnnlmbin:/opt/kaldi/src/cudadecoderbin:/opt/kaldi/tools/python:/tmp/output/opt/kaldi/tools/phonetisaurus-g2p:/tmp/output/opt/kaldi/tools/phonetisaurus-g2p/src/scripts\"\n"
     ]
    }
   ],
   "source": [
    "%env PATH = f\"{WSJ_PATH}:{KALDI_PATHS}:{TOOLS_PATH}\""
   ]
  },
  {
   "cell_type": "code",
   "execution_count": 23,
   "id": "upper-barbados",
   "metadata": {
    "execution": {
     "iopub.execute_input": "2021-06-22T18:07:53.418833Z",
     "iopub.status.busy": "2021-06-22T18:07:53.417890Z",
     "iopub.status.idle": "2021-06-22T18:07:54.149376Z",
     "shell.execute_reply": "2021-06-22T18:07:54.149946Z",
     "shell.execute_reply.started": "2021-06-22T12:16:15.76424Z"
    },
    "papermill": {
     "duration": 0.770341,
     "end_time": "2021-06-22T18:07:54.150128",
     "exception": false,
     "start_time": "2021-06-22T18:07:53.379787",
     "status": "completed"
    },
    "tags": []
   },
   "outputs": [
    {
     "name": "stdout",
     "output_type": "stream",
     "text": [
      "# you can change cmd.sh depending on what type of queue you are using.\r\n",
      "# If you have no queueing system and want to run on a local machine, you\r\n",
      "# can change all instances 'queue.pl' to run.pl (but be careful and run\r\n",
      "# commands one by one: most recipes will exhaust the memory on your\r\n",
      "# machine).  queue.pl works with GridEngine (qsub).  slurm.pl works\r\n",
      "# with slurm.  Different queues are configured differently, with different\r\n",
      "# queue names and different ways of specifying things like memory;\r\n",
      "# to account for these differences you can create and edit the file\r\n",
      "# conf/queue.conf to match your queue's configuration.  Search for\r\n",
      "# conf/queue.conf in http://kaldi-asr.org/doc/queue.html for more information,\r\n",
      "# or search for the string 'default_config' in utils/queue.pl or utils/slurm.pl.\r\n",
      "\r\n",
      "export train_cmd=queue.pl\r\n",
      "export decode_cmd=\"queue.pl --mem 2G\"\r\n",
      "# the use of cuda_cmd is deprecated, used only in 'nnet1',\r\n",
      "export cuda_cmd=\"queue.pl --gpu 1\"\r\n",
      "\r\n",
      "if [ \"$(hostname -d)\" == \"fit.vutbr.cz\" ]; then\r\n",
      "  queue_conf=$HOME/queue_conf/default.conf # see example /homes/kazi/iveselyk/queue_conf/default.conf,\r\n",
      "  export train_cmd=\"queue.pl --config $queue_conf --mem 2G --matylda 0.2\"\r\n",
      "  export decode_cmd=\"queue.pl --config $queue_conf --mem 3G --matylda 0.1\"\r\n",
      "  export cuda_cmd=\"queue.pl --config $queue_conf --gpu 1 --mem 10G --tmp 40G\"\r\n",
      "fi\r\n"
     ]
    }
   ],
   "source": [
    "!cat ../../wsj/s5/cmd.sh"
   ]
  },
  {
   "cell_type": "code",
   "execution_count": 24,
   "id": "durable-responsibility",
   "metadata": {
    "execution": {
     "iopub.execute_input": "2021-06-22T18:07:54.241657Z",
     "iopub.status.busy": "2021-06-22T18:07:54.240250Z",
     "iopub.status.idle": "2021-06-22T18:07:54.250843Z",
     "shell.execute_reply": "2021-06-22T18:07:54.251590Z",
     "shell.execute_reply.started": "2021-06-22T12:25:36.054695Z"
    },
    "papermill": {
     "duration": 0.059774,
     "end_time": "2021-06-22T18:07:54.251858",
     "exception": false,
     "start_time": "2021-06-22T18:07:54.192084",
     "status": "completed"
    },
    "tags": []
   },
   "outputs": [
    {
     "name": "stdout",
     "output_type": "stream",
     "text": [
      "env: train_cmd=run.pl\n",
      "env: decode_cmd=run.pl\n"
     ]
    }
   ],
   "source": [
    "%env train_cmd=run.pl\n",
    "%env decode_cmd=run.pl"
   ]
  },
  {
   "cell_type": "code",
   "execution_count": 25,
   "id": "tropical-kazakhstan",
   "metadata": {
    "execution": {
     "iopub.execute_input": "2021-06-22T18:07:54.329538Z",
     "iopub.status.busy": "2021-06-22T18:07:54.328922Z",
     "iopub.status.idle": "2021-06-22T18:07:57.224986Z",
     "shell.execute_reply": "2021-06-22T18:07:57.225425Z",
     "shell.execute_reply.started": "2021-06-22T12:25:39.332426Z"
    },
    "papermill": {
     "duration": 2.9356,
     "end_time": "2021-06-22T18:07:57.225613",
     "exception": false,
     "start_time": "2021-06-22T18:07:54.290013",
     "status": "completed"
    },
    "tags": []
   },
   "outputs": [],
   "source": [
    "!ln -s ../../wsj/s5/cmd.sh\n",
    "!ln -s ../../wsj/s5/path.sh\n",
    "!ln -s utils/queue.pl\n",
    "!ln -s utils/run.pl"
   ]
  },
  {
   "cell_type": "code",
   "execution_count": 26,
   "id": "modified-hearts",
   "metadata": {
    "execution": {
     "iopub.execute_input": "2021-06-22T18:07:57.305325Z",
     "iopub.status.busy": "2021-06-22T18:07:57.304690Z",
     "iopub.status.idle": "2021-06-22T18:07:58.023600Z",
     "shell.execute_reply": "2021-06-22T18:07:58.023026Z",
     "shell.execute_reply.started": "2021-06-22T12:25:11.355403Z"
    },
    "papermill": {
     "duration": 0.760669,
     "end_time": "2021-06-22T18:07:58.023750",
     "exception": false,
     "start_time": "2021-06-22T18:07:57.263081",
     "status": "completed"
    },
    "tags": []
   },
   "outputs": [],
   "source": [
    "!rm *.pl"
   ]
  },
  {
   "cell_type": "markdown",
   "id": "superb-knight",
   "metadata": {
    "papermill": {
     "duration": 0.036192,
     "end_time": "2021-06-22T18:07:58.096351",
     "exception": false,
     "start_time": "2021-06-22T18:07:58.060159",
     "status": "completed"
    },
    "tags": []
   },
   "source": [
    "## Data prep"
   ]
  },
  {
   "cell_type": "code",
   "execution_count": 27,
   "id": "understanding-washer",
   "metadata": {
    "execution": {
     "iopub.execute_input": "2021-06-22T18:07:58.184049Z",
     "iopub.status.busy": "2021-06-22T18:07:58.179907Z",
     "iopub.status.idle": "2021-06-22T18:08:11.757335Z",
     "shell.execute_reply": "2021-06-22T18:08:11.756596Z",
     "shell.execute_reply.started": "2021-06-22T12:10:48.153674Z"
    },
    "papermill": {
     "duration": 13.624461,
     "end_time": "2021-06-22T18:08:11.757477",
     "exception": false,
     "start_time": "2021-06-22T18:07:58.133016",
     "status": "completed"
    },
    "tags": []
   },
   "outputs": [
    {
     "name": "stdout",
     "output_type": "stream",
     "text": [
      "utils/validate_data_dir.sh: Successfully validated data-directory data/test-other\r\n",
      "local/data_prep.sh: successfully prepared data in data/test-other\r\n",
      "utils/validate_data_dir.sh: Successfully validated data-directory data/test-clean\r\n",
      "local/data_prep.sh: successfully prepared data in data/test-clean\r\n"
     ]
    }
   ],
   "source": [
    "!local/data_prep.sh /kaggle/input/librispeech-test-clean-and-other/LibriSpeech/test-other data/test-other\n",
    "!local/data_prep.sh /kaggle/input/librispeech-test-clean-and-other/LibriSpeech/test-clean data/test-clean"
   ]
  },
  {
   "cell_type": "code",
   "execution_count": 28,
   "id": "attempted-johns",
   "metadata": {
    "execution": {
     "iopub.execute_input": "2021-06-22T18:08:11.843102Z",
     "iopub.status.busy": "2021-06-22T18:08:11.839194Z",
     "iopub.status.idle": "2021-06-22T18:08:13.913290Z",
     "shell.execute_reply": "2021-06-22T18:08:13.912511Z",
     "shell.execute_reply.started": "2021-06-22T12:12:48.716774Z"
    },
    "papermill": {
     "duration": 2.117796,
     "end_time": "2021-06-22T18:08:13.913432",
     "exception": false,
     "start_time": "2021-06-22T18:08:11.795636",
     "status": "completed"
    },
    "tags": []
   },
   "outputs": [
    {
     "name": "stdout",
     "output_type": "stream",
     "text": [
      "utils/copy_data_dir.sh: copied data from data/test-clean to data/test-clean_hires\r\n",
      "utils/validate_data_dir.sh: Successfully validated data-directory data/test-clean_hires\r\n",
      "utils/copy_data_dir.sh: copied data from data/test-other to data/test-other_hires\r\n",
      "utils/validate_data_dir.sh: Successfully validated data-directory data/test-other_hires\r\n"
     ]
    }
   ],
   "source": [
    "!utils/copy_data_dir.sh data/test-clean data/test-clean_hires\n",
    "!utils/copy_data_dir.sh data/test-other data/test-other_hires"
   ]
  },
  {
   "cell_type": "code",
   "execution_count": 29,
   "id": "legitimate-handle",
   "metadata": {
    "execution": {
     "iopub.execute_input": "2021-06-22T18:08:13.995657Z",
     "iopub.status.busy": "2021-06-22T18:08:13.994983Z",
     "iopub.status.idle": "2021-06-22T18:08:14.717480Z",
     "shell.execute_reply": "2021-06-22T18:08:14.716823Z",
     "shell.execute_reply.started": "2021-06-22T12:20:32.826362Z"
    },
    "papermill": {
     "duration": 0.765749,
     "end_time": "2021-06-22T18:08:14.717635",
     "exception": false,
     "start_time": "2021-06-22T18:08:13.951886",
     "status": "completed"
    },
    "tags": []
   },
   "outputs": [],
   "source": [
    "!ln -s utils/parse_options.sh"
   ]
  },
  {
   "cell_type": "code",
   "execution_count": 30,
   "id": "artistic-legislature",
   "metadata": {
    "execution": {
     "iopub.execute_input": "2021-06-22T18:08:14.812981Z",
     "iopub.status.busy": "2021-06-22T18:08:14.811970Z",
     "iopub.status.idle": "2021-06-22T18:09:54.879559Z",
     "shell.execute_reply": "2021-06-22T18:09:54.878739Z",
     "shell.execute_reply.started": "2021-06-22T12:25:44.313451Z"
    },
    "papermill": {
     "duration": 100.123568,
     "end_time": "2021-06-22T18:09:54.879720",
     "exception": false,
     "start_time": "2021-06-22T18:08:14.756152",
     "status": "completed"
    },
    "tags": []
   },
   "outputs": [
    {
     "name": "stdout",
     "output_type": "stream",
     "text": [
      "steps/make_mfcc.sh --nj 20 --mfcc-config conf/mfcc_hires.conf --cmd run.pl data/test-clean_hires\r\n",
      "utils/validate_data_dir.sh: Successfully validated data-directory data/test-clean_hires\r\n",
      "steps/make_mfcc.sh: [info]: no segments file exists: assuming wav.scp indexed by utterance.\r\n",
      "steps/make_mfcc.sh: Succeeded creating MFCC features for test-clean_hires\r\n",
      "steps/compute_cmvn_stats.sh data/test-clean_hires\r\n",
      "Succeeded creating CMVN stats for test-clean_hires\r\n",
      "fix_data_dir.sh: kept all 2620 utterances.\r\n",
      "fix_data_dir.sh: old files are kept in data/test-clean_hires/.backup\r\n",
      "steps/make_mfcc.sh --nj 20 --mfcc-config conf/mfcc_hires.conf --cmd run.pl data/test-other_hires\r\n",
      "utils/validate_data_dir.sh: Successfully validated data-directory data/test-other_hires\r\n",
      "steps/make_mfcc.sh: [info]: no segments file exists: assuming wav.scp indexed by utterance.\r\n",
      "steps/make_mfcc.sh: Succeeded creating MFCC features for test-other_hires\r\n",
      "steps/compute_cmvn_stats.sh data/test-other_hires\r\n",
      "Succeeded creating CMVN stats for test-other_hires\r\n",
      "fix_data_dir.sh: kept all 2939 utterances.\r\n",
      "fix_data_dir.sh: old files are kept in data/test-other_hires/.backup\r\n"
     ]
    }
   ],
   "source": [
    "!steps/make_mfcc.sh --nj 20 --mfcc-config conf/mfcc_hires.conf --cmd \"$train_cmd\" data/test-clean_hires\n",
    "!steps/compute_cmvn_stats.sh data/test-clean_hires\n",
    "!utils/fix_data_dir.sh data/test-clean_hires\n",
    "!steps/make_mfcc.sh --nj 20 --mfcc-config conf/mfcc_hires.conf --cmd \"$train_cmd\" data/test-other_hires\n",
    "!steps/compute_cmvn_stats.sh data/test-other_hires\n",
    "!utils/fix_data_dir.sh data/test-other_hires\n"
   ]
  },
  {
   "cell_type": "markdown",
   "id": "hairy-findings",
   "metadata": {
    "papermill": {
     "duration": 0.043201,
     "end_time": "2021-06-22T18:09:54.966308",
     "exception": false,
     "start_time": "2021-06-22T18:09:54.923107",
     "status": "completed"
    },
    "tags": []
   },
   "source": [
    "## Extract i-vectors"
   ]
  },
  {
   "cell_type": "code",
   "execution_count": 31,
   "id": "representative-pattern",
   "metadata": {
    "execution": {
     "iopub.execute_input": "2021-06-22T18:09:55.060357Z",
     "iopub.status.busy": "2021-06-22T18:09:55.059709Z",
     "iopub.status.idle": "2021-06-22T18:09:56.509520Z",
     "shell.execute_reply": "2021-06-22T18:09:56.510054Z",
     "shell.execute_reply.started": "2021-06-22T12:38:42.072847Z"
    },
    "papermill": {
     "duration": 1.500473,
     "end_time": "2021-06-22T18:09:56.510232",
     "exception": false,
     "start_time": "2021-06-22T18:09:55.009759",
     "status": "completed"
    },
    "tags": []
   },
   "outputs": [],
   "source": [
    "!ln -s /kaggle/input/kaldi-librispeech-model/exp/nnet3_cleaned/ exp/nnet3_cleaned\n",
    "!ln -s /kaggle/input/kaldi-librispeech-model/exp/chain_cleaned/ exp/chain_cleaned"
   ]
  },
  {
   "cell_type": "code",
   "execution_count": 32,
   "id": "massive-hydrogen",
   "metadata": {
    "execution": {
     "iopub.execute_input": "2021-06-22T18:09:56.612258Z",
     "iopub.status.busy": "2021-06-22T18:09:56.608405Z",
     "iopub.status.idle": "2021-06-22T18:11:17.602556Z",
     "shell.execute_reply": "2021-06-22T18:11:17.602005Z",
     "shell.execute_reply.started": "2021-06-22T12:44:16.329652Z"
    },
    "papermill": {
     "duration": 81.049091,
     "end_time": "2021-06-22T18:11:17.602714",
     "exception": false,
     "start_time": "2021-06-22T18:09:56.553623",
     "status": "completed"
    },
    "tags": []
   },
   "outputs": [
    {
     "name": "stdout",
     "output_type": "stream",
     "text": [
      "env: nspk=$(wc -l <data/test-clean_hires/spk2utt)\n",
      "steps/online/nnet2/extract_ivectors_online.sh --cmd run.pl --nj $(wc -l <data/test-clean_hires/spk2utt) data/test-clean_hires exp/nnet3_cleaned/extractor exp/nnet3_cleaned_out/ivectors_test-clean_hires\r\n",
      "steps/online/nnet2/extract_ivectors_online.sh: extracting iVectors\r\n",
      "steps/online/nnet2/extract_ivectors_online.sh: combining iVectors across jobs\r\n",
      "steps/online/nnet2/extract_ivectors_online.sh: done extracting (online) iVectors to exp/nnet3_cleaned_out/ivectors_test-clean_hires using the extractor in exp/nnet3_cleaned/extractor.\r\n",
      "env: nspk=$(wc -l <data/test-other_hires/spk2utt)\n",
      "steps/online/nnet2/extract_ivectors_online.sh --cmd run.pl --nj $(wc -l <data/test-other_hires/spk2utt) data/test-other_hires exp/nnet3_cleaned/extractor exp/nnet3_cleaned_out/ivectors_test-other_hires\r\n",
      "steps/online/nnet2/extract_ivectors_online.sh: extracting iVectors\r\n",
      "steps/online/nnet2/extract_ivectors_online.sh: combining iVectors across jobs\r\n",
      "steps/online/nnet2/extract_ivectors_online.sh: done extracting (online) iVectors to exp/nnet3_cleaned_out/ivectors_test-other_hires using the extractor in exp/nnet3_cleaned/extractor.\r\n"
     ]
    }
   ],
   "source": [
    "%env nspk=$(wc -l <data/test-clean_hires/spk2utt)\n",
    "!steps/online/nnet2/extract_ivectors_online.sh --cmd \"$train_cmd\" --nj \"${nspk}\" data/test-clean_hires exp/nnet3_cleaned/extractor exp/nnet3_cleaned_out/ivectors_test-clean_hires\n",
    "%env nspk=$(wc -l <data/test-other_hires/spk2utt)\n",
    "!steps/online/nnet2/extract_ivectors_online.sh --cmd \"$train_cmd\" --nj \"${nspk}\" data/test-other_hires exp/nnet3_cleaned/extractor exp/nnet3_cleaned_out/ivectors_test-other_hires"
   ]
  },
  {
   "cell_type": "markdown",
   "id": "funded-blackjack",
   "metadata": {
    "papermill": {
     "duration": 0.046206,
     "end_time": "2021-06-22T18:11:17.695774",
     "exception": false,
     "start_time": "2021-06-22T18:11:17.649568",
     "status": "completed"
    },
    "tags": []
   },
   "source": [
    "## Build decoding graph"
   ]
  },
  {
   "cell_type": "markdown",
   "id": "bizarre-drama",
   "metadata": {
    "papermill": {
     "duration": 0.046056,
     "end_time": "2021-06-22T18:11:17.787982",
     "exception": false,
     "start_time": "2021-06-22T18:11:17.741926",
     "status": "completed"
    },
    "tags": []
   },
   "source": [
    "Just linking this directory won't work, as it expects to be able to write to it (Kaldi scripts, smh)"
   ]
  },
  {
   "cell_type": "code",
   "execution_count": 33,
   "id": "challenging-tribute",
   "metadata": {
    "execution": {
     "iopub.execute_input": "2021-06-22T18:11:17.889271Z",
     "iopub.status.busy": "2021-06-22T18:11:17.885918Z",
     "iopub.status.idle": "2021-06-22T18:11:20.671286Z",
     "shell.execute_reply": "2021-06-22T18:11:20.670748Z"
    },
    "papermill": {
     "duration": 2.837026,
     "end_time": "2021-06-22T18:11:20.671434",
     "exception": false,
     "start_time": "2021-06-22T18:11:17.834408",
     "status": "completed"
    },
    "tags": []
   },
   "outputs": [],
   "source": [
    "!cp -r /kaggle/input/kaldi-librispeech-model/data/lang_test_tgsmall data"
   ]
  },
  {
   "cell_type": "code",
   "execution_count": 34,
   "id": "laden-conflict",
   "metadata": {
    "execution": {
     "iopub.execute_input": "2021-06-22T18:11:20.794827Z",
     "iopub.status.busy": "2021-06-22T18:11:20.793844Z",
     "iopub.status.idle": "2021-06-22T18:14:19.472208Z",
     "shell.execute_reply": "2021-06-22T18:14:19.471162Z"
    },
    "papermill": {
     "duration": 178.748197,
     "end_time": "2021-06-22T18:14:19.472381",
     "exception": false,
     "start_time": "2021-06-22T18:11:20.724184",
     "status": "completed"
    },
    "tags": []
   },
   "outputs": [
    {
     "name": "stdout",
     "output_type": "stream",
     "text": [
      "env: dir=exp/chain_cleaned/tdnn_1d_sp\n",
      "env: graph_dir=exp/chain_cleaned_out/graph_tgsmall\n",
      "tree-info exp/chain_cleaned/tdnn_1d_sp/tree \r\n",
      "tree-info exp/chain_cleaned/tdnn_1d_sp/tree \r\n",
      "fstpushspecial \r\n",
      "fsttablecompose data/lang_test_tgsmall/L_disambig.fst data/lang_test_tgsmall/G.fst \r\n",
      "fstminimizeencoded \r\n",
      "fstdeterminizestar --use-log=true \r\n",
      "fstisstochastic data/lang_test_tgsmall/tmp/LG.fst \r\n",
      "-0.0459745 -0.0466771\r\n",
      "[info]: LG not stochastic.\r\n",
      "fstcomposecontext --context-size=2 --central-position=1 --read-disambig-syms=data/lang_test_tgsmall/phones/disambig.int --write-disambig-syms=data/lang_test_tgsmall/tmp/disambig_ilabels_2_1.int data/lang_test_tgsmall/tmp/ilabels_2_1.113734 data/lang_test_tgsmall/tmp/LG.fst \r\n",
      "fstisstochastic data/lang_test_tgsmall/tmp/CLG_2_1.fst \r\n",
      "-0.0459745 -0.0466771\r\n",
      "[info]: CLG not stochastic.\r\n",
      "make-h-transducer --disambig-syms-out=exp/chain_cleaned_out/graph_tgsmall/disambig_tid.int --transition-scale=1.0 data/lang_test_tgsmall/tmp/ilabels_2_1 exp/chain_cleaned/tdnn_1d_sp/tree exp/chain_cleaned/tdnn_1d_sp/final.mdl \r\n",
      "fsttablecompose exp/chain_cleaned_out/graph_tgsmall/Ha.fst 'fstrmsymbols --remove-arcs=true --apply-to-output=true data/lang_test_tgsmall/oov.int data/lang_test_tgsmall/tmp/CLG_2_1.fst|' \r\n",
      "fstrmepslocal \r\n",
      "fstrmsymbols exp/chain_cleaned_out/graph_tgsmall/disambig_tid.int \r\n",
      "fstdeterminizestar --use-log=true \r\n",
      "fstminimizeencoded \r\n",
      "fstrmsymbols --remove-arcs=true --apply-to-output=true data/lang_test_tgsmall/oov.int data/lang_test_tgsmall/tmp/CLG_2_1.fst \r\n",
      "fstisstochastic exp/chain_cleaned_out/graph_tgsmall/HCLGa.fst \r\n",
      "3.39453 -0.209239\r\n",
      "HCLGa is not stochastic\r\n",
      "add-self-loops --self-loop-scale=1.0 --reorder=true exp/chain_cleaned/tdnn_1d_sp/final.mdl exp/chain_cleaned_out/graph_tgsmall/HCLGa.fst \r\n",
      "fstisstochastic exp/chain_cleaned_out/graph_tgsmall/HCLG.fst \r\n",
      "3.05078 -0.127788\r\n",
      "[info]: final HCLG is not stochastic.\r\n"
     ]
    }
   ],
   "source": [
    "%env dir=exp/chain_cleaned/tdnn_1d_sp\n",
    "%env graph_dir=exp/chain_cleaned_out/graph_tgsmall\n",
    "!utils/mkgraph.sh --self-loop-scale 1.0 --remove-oov data/lang_test_tgsmall $dir $graph_dir"
   ]
  },
  {
   "cell_type": "markdown",
   "id": "random-release",
   "metadata": {
    "papermill": {
     "duration": 0.051559,
     "end_time": "2021-06-22T18:14:19.575640",
     "exception": false,
     "start_time": "2021-06-22T18:14:19.524081",
     "status": "completed"
    },
    "tags": []
   },
   "source": [
    "## Decode"
   ]
  },
  {
   "cell_type": "code",
   "execution_count": 35,
   "id": "familiar-match",
   "metadata": {
    "execution": {
     "iopub.execute_input": "2021-06-22T18:14:19.692611Z",
     "iopub.status.busy": "2021-06-22T18:14:19.691785Z",
     "iopub.status.idle": "2021-06-22T18:14:21.222327Z",
     "shell.execute_reply": "2021-06-22T18:14:21.221735Z"
    },
    "papermill": {
     "duration": 1.595131,
     "end_time": "2021-06-22T18:14:21.222475",
     "exception": false,
     "start_time": "2021-06-22T18:14:19.627344",
     "status": "completed"
    },
    "tags": []
   },
   "outputs": [
    {
     "name": "stdout",
     "output_type": "stream",
     "text": [
      "steps/nnet3/decode.sh --acwt 1.0 --post-decode-acwt 10.0 --nj 8 --cmd run.pl --online-ivector-dir exp/nnet3_cleaned_out/ivectors_test-clean_hires exp/chain_cleaned_out/graph_tgsmall data/test-clean_hires data/decode_test-clean_tgsmall\r\n",
      "steps/nnet2/check_ivectors_compatible.sh: WARNING: One of the directories do not contain iVector ID.\r\n",
      "steps/nnet2/check_ivectors_compatible.sh: WARNING: That means it's you who's reponsible for keeping \r\n",
      "steps/nnet2/check_ivectors_compatible.sh: WARNING: the directories compatible\r\n",
      "steps/nnet3/decode.sh: no such file data/final.mdl\r\n",
      "steps/nnet3/decode.sh --acwt 1.0 --post-decode-acwt 10.0 --nj 8 --cmd run.pl --online-ivector-dir exp/nnet3_cleaned_out/ivectors_test-other_hires exp/chain_cleaned_out/graph_tgsmall data/test-other_hires data/decode_test-other_tgsmall\r\n",
      "steps/nnet2/check_ivectors_compatible.sh: WARNING: One of the directories do not contain iVector ID.\r\n",
      "steps/nnet2/check_ivectors_compatible.sh: WARNING: That means it's you who's reponsible for keeping \r\n",
      "steps/nnet2/check_ivectors_compatible.sh: WARNING: the directories compatible\r\n",
      "steps/nnet3/decode.sh: no such file data/final.mdl\r\n"
     ]
    }
   ],
   "source": [
    "!steps/nnet3/decode.sh --acwt 1.0 --post-decode-acwt 10.0 --nj 8 --cmd \"$decode_cmd\" --online-ivector-dir exp/nnet3_cleaned_out/ivectors_test-clean_hires $graph_dir data/test-clean_hires data/decode_test-clean_tgsmall\n",
    "!steps/nnet3/decode.sh --acwt 1.0 --post-decode-acwt 10.0 --nj 8 --cmd \"$decode_cmd\" --online-ivector-dir exp/nnet3_cleaned_out/ivectors_test-other_hires $graph_dir data/test-other_hires data/decode_test-other_tgsmall"
   ]
  },
  {
   "cell_type": "markdown",
   "id": "hairy-abuse",
   "metadata": {
    "papermill": {
     "duration": 0.052343,
     "end_time": "2021-06-22T18:14:21.327574",
     "exception": false,
     "start_time": "2021-06-22T18:14:21.275231",
     "status": "completed"
    },
    "tags": []
   },
   "source": [
    "## "
   ]
  }
 ],
 "metadata": {
  "kernelspec": {
   "display_name": "Python 3",
   "language": "python",
   "name": "python3"
  },
  "language_info": {
   "codemirror_mode": {
    "name": "ipython",
    "version": 3
   },
   "file_extension": ".py",
   "mimetype": "text/x-python",
   "name": "python",
   "nbconvert_exporter": "python",
   "pygments_lexer": "ipython3",
   "version": "3.7.10"
  },
  "papermill": {
   "default_parameters": {},
   "duration": 495.817149,
   "end_time": "2021-06-22T18:14:22.090943",
   "environment_variables": {},
   "exception": null,
   "input_path": "__notebook__.ipynb",
   "output_path": "__notebook__.ipynb",
   "parameters": {},
   "start_time": "2021-06-22T18:06:06.273794",
   "version": "2.3.3"
  }
 },
 "nbformat": 4,
 "nbformat_minor": 5
}
