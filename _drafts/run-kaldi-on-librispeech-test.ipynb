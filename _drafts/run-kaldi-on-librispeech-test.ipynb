{
 "cells": [
  {
   "cell_type": "markdown",
   "id": "olympic-creativity",
   "metadata": {
    "papermill": {
     "duration": 0.022573,
     "end_time": "2021-06-22T14:00:34.320708",
     "exception": false,
     "start_time": "2021-06-22T14:00:34.298135",
     "status": "completed"
    },
    "tags": []
   },
   "source": [
    "## Unpack Kaldi"
   ]
  },
  {
   "cell_type": "code",
   "execution_count": 1,
   "id": "coastal-macro",
   "metadata": {
    "_cell_guid": "b1076dfc-b9ad-4769-8c92-a6c4dae69d19",
    "_uuid": "8f2839f25d086af736a60e9eeb907d3b93b6e0e5",
    "execution": {
     "iopub.execute_input": "2021-06-22T14:00:34.366804Z",
     "iopub.status.busy": "2021-06-22T14:00:34.365855Z",
     "iopub.status.idle": "2021-06-22T14:00:34.375072Z",
     "shell.execute_reply": "2021-06-22T14:00:34.374519Z",
     "shell.execute_reply.started": "2021-06-22T11:54:50.153353Z"
    },
    "papermill": {
     "duration": 0.033076,
     "end_time": "2021-06-22T14:00:34.375217",
     "exception": false,
     "start_time": "2021-06-22T14:00:34.342141",
     "status": "completed"
    },
    "tags": []
   },
   "outputs": [
    {
     "name": "stdout",
     "output_type": "stream",
     "text": [
      "/opt\n"
     ]
    }
   ],
   "source": [
    "%cd /opt"
   ]
  },
  {
   "cell_type": "code",
   "execution_count": 2,
   "id": "pursuant-publisher",
   "metadata": {
    "execution": {
     "iopub.execute_input": "2021-06-22T14:00:34.423380Z",
     "iopub.status.busy": "2021-06-22T14:00:34.422748Z",
     "iopub.status.idle": "2021-06-22T14:01:10.694517Z",
     "shell.execute_reply": "2021-06-22T14:01:10.693991Z",
     "shell.execute_reply.started": "2021-06-22T11:54:53.255442Z"
    },
    "papermill": {
     "duration": 36.298056,
     "end_time": "2021-06-22T14:01:10.694663",
     "exception": false,
     "start_time": "2021-06-22T14:00:34.396607",
     "status": "completed"
    },
    "tags": []
   },
   "outputs": [],
   "source": [
    "%%capture\n",
    "!tar xvf /kaggle/input/extract-prebuilt-kaldi-from-docker/kaldi.tar"
   ]
  },
  {
   "cell_type": "code",
   "execution_count": 3,
   "id": "analyzed-justice",
   "metadata": {
    "execution": {
     "iopub.execute_input": "2021-06-22T14:01:10.744047Z",
     "iopub.status.busy": "2021-06-22T14:01:10.743439Z",
     "iopub.status.idle": "2021-06-22T14:01:10.746122Z",
     "shell.execute_reply": "2021-06-22T14:01:10.745628Z",
     "shell.execute_reply.started": "2021-06-22T11:55:40.60018Z"
    },
    "papermill": {
     "duration": 0.030021,
     "end_time": "2021-06-22T14:01:10.746244",
     "exception": false,
     "start_time": "2021-06-22T14:01:10.716223",
     "status": "completed"
    },
    "tags": []
   },
   "outputs": [],
   "source": [
    "import os\n",
    "os.environ['LD_LIBRARY_PATH'] = '/opt/conda/lib:/opt/kaldi/tools/openfst-1.6.7/lib:/opt/kaldi/src/lib:'\n",
    "EXISTING_PATH = os.environ['PATH']"
   ]
  },
  {
   "cell_type": "code",
   "execution_count": 4,
   "id": "consecutive-storm",
   "metadata": {
    "execution": {
     "iopub.execute_input": "2021-06-22T14:01:10.795187Z",
     "iopub.status.busy": "2021-06-22T14:01:10.794635Z",
     "iopub.status.idle": "2021-06-22T14:01:10.798415Z",
     "shell.execute_reply": "2021-06-22T14:01:10.798858Z"
    },
    "papermill": {
     "duration": 0.030004,
     "end_time": "2021-06-22T14:01:10.799018",
     "exception": false,
     "start_time": "2021-06-22T14:01:10.769014",
     "status": "completed"
    },
    "tags": []
   },
   "outputs": [
    {
     "name": "stdout",
     "output_type": "stream",
     "text": [
      "/\n"
     ]
    }
   ],
   "source": [
    "%cd /\n"
   ]
  },
  {
   "cell_type": "code",
   "execution_count": 5,
   "id": "graduate-reporter",
   "metadata": {
    "execution": {
     "iopub.execute_input": "2021-06-22T14:01:10.851658Z",
     "iopub.status.busy": "2021-06-22T14:01:10.851068Z",
     "iopub.status.idle": "2021-06-22T14:01:41.579386Z",
     "shell.execute_reply": "2021-06-22T14:01:41.577989Z"
    },
    "papermill": {
     "duration": 30.758017,
     "end_time": "2021-06-22T14:01:41.579577",
     "exception": false,
     "start_time": "2021-06-22T14:01:10.821560",
     "status": "completed"
    },
    "tags": []
   },
   "outputs": [],
   "source": [
    "%%capture\n",
    "!tar xvf /kaggle/input/extract-cuda-from-kaldi-docker/cuda.tar"
   ]
  },
  {
   "cell_type": "code",
   "execution_count": 6,
   "id": "referenced-pepper",
   "metadata": {
    "execution": {
     "iopub.execute_input": "2021-06-22T14:01:41.661451Z",
     "iopub.status.busy": "2021-06-22T14:01:41.660544Z",
     "iopub.status.idle": "2021-06-22T14:01:41.675387Z",
     "shell.execute_reply": "2021-06-22T14:01:41.673634Z",
     "shell.execute_reply.started": "2021-06-22T13:29:47.085695Z"
    },
    "papermill": {
     "duration": 0.058203,
     "end_time": "2021-06-22T14:01:41.675816",
     "exception": false,
     "start_time": "2021-06-22T14:01:41.617613",
     "status": "completed"
    },
    "tags": []
   },
   "outputs": [],
   "source": [
    "import os\n",
    "os.environ['LD_LIBRARY_PATH'] = f'{os.environ[\"LD_LIBRARY_PATH\"]}:/usr/local/cuda-10.0/targets/x86_64-linux/lib/'"
   ]
  },
  {
   "cell_type": "code",
   "execution_count": 7,
   "id": "married-american",
   "metadata": {
    "execution": {
     "iopub.execute_input": "2021-06-22T14:01:41.756560Z",
     "iopub.status.busy": "2021-06-22T14:01:41.755643Z",
     "iopub.status.idle": "2021-06-22T14:01:41.762059Z",
     "shell.execute_reply": "2021-06-22T14:01:41.761422Z",
     "shell.execute_reply.started": "2021-06-22T11:55:40.610869Z"
    },
    "papermill": {
     "duration": 0.043738,
     "end_time": "2021-06-22T14:01:41.762188",
     "exception": false,
     "start_time": "2021-06-22T14:01:41.718450",
     "status": "completed"
    },
    "tags": []
   },
   "outputs": [
    {
     "name": "stdout",
     "output_type": "stream",
     "text": [
      "/opt/kaldi/egs\n"
     ]
    }
   ],
   "source": [
    "%cd /opt/kaldi/egs"
   ]
  },
  {
   "cell_type": "markdown",
   "id": "derived-adoption",
   "metadata": {
    "papermill": {
     "duration": 0.021698,
     "end_time": "2021-06-22T14:01:41.810772",
     "exception": false,
     "start_time": "2021-06-22T14:01:41.789074",
     "status": "completed"
    },
    "tags": []
   },
   "source": [
    "## Install flac"
   ]
  },
  {
   "cell_type": "code",
   "execution_count": 8,
   "id": "stretch-welsh",
   "metadata": {
    "execution": {
     "iopub.execute_input": "2021-06-22T14:01:41.865836Z",
     "iopub.status.busy": "2021-06-22T14:01:41.865286Z",
     "iopub.status.idle": "2021-06-22T14:02:03.091239Z",
     "shell.execute_reply": "2021-06-22T14:02:03.090639Z",
     "shell.execute_reply.started": "2021-06-22T12:06:36.222984Z"
    },
    "papermill": {
     "duration": 21.258401,
     "end_time": "2021-06-22T14:02:03.091379",
     "exception": false,
     "start_time": "2021-06-22T14:01:41.832978",
     "status": "completed"
    },
    "tags": []
   },
   "outputs": [],
   "source": [
    "%%capture\n",
    "!apt install -y flac"
   ]
  },
  {
   "cell_type": "markdown",
   "id": "southern-surrey",
   "metadata": {
    "papermill": {
     "duration": 0.021692,
     "end_time": "2021-06-22T14:02:03.135316",
     "exception": false,
     "start_time": "2021-06-22T14:02:03.113624",
     "status": "completed"
    },
    "tags": []
   },
   "source": [
    "## Create a work directory"
   ]
  },
  {
   "cell_type": "code",
   "execution_count": 9,
   "id": "sporting-frame",
   "metadata": {
    "execution": {
     "iopub.execute_input": "2021-06-22T14:02:03.188042Z",
     "iopub.status.busy": "2021-06-22T14:02:03.185546Z",
     "iopub.status.idle": "2021-06-22T14:02:03.950861Z",
     "shell.execute_reply": "2021-06-22T14:02:03.950285Z",
     "shell.execute_reply.started": "2021-06-22T11:55:40.659251Z"
    },
    "papermill": {
     "duration": 0.793729,
     "end_time": "2021-06-22T14:02:03.950989",
     "exception": false,
     "start_time": "2021-06-22T14:02:03.157260",
     "status": "completed"
    },
    "tags": []
   },
   "outputs": [
    {
     "name": "stdout",
     "output_type": "stream",
     "text": [
      "/opt/kaldi/egs/usels/s5\n"
     ]
    }
   ],
   "source": [
    "!mkdir -p usels/s5\n",
    "%cd usels/s5"
   ]
  },
  {
   "cell_type": "code",
   "execution_count": 10,
   "id": "actual-allen",
   "metadata": {
    "execution": {
     "iopub.execute_input": "2021-06-22T14:02:04.005563Z",
     "iopub.status.busy": "2021-06-22T14:02:04.001360Z",
     "iopub.status.idle": "2021-06-22T14:02:07.030051Z",
     "shell.execute_reply": "2021-06-22T14:02:07.029294Z",
     "shell.execute_reply.started": "2021-06-22T12:08:43.066673Z"
    },
    "papermill": {
     "duration": 3.056553,
     "end_time": "2021-06-22T14:02:07.030327",
     "exception": false,
     "start_time": "2021-06-22T14:02:03.973774",
     "status": "completed"
    },
    "tags": []
   },
   "outputs": [],
   "source": [
    "!mkdir /kaggle/working/data\n",
    "!mkdir /kaggle/working/exp\n",
    "!ln -s /kaggle/working/data\n",
    "!ln -s /kaggle/working/exp"
   ]
  },
  {
   "cell_type": "code",
   "execution_count": 11,
   "id": "headed-argument",
   "metadata": {
    "execution": {
     "iopub.execute_input": "2021-06-22T14:02:07.096836Z",
     "iopub.status.busy": "2021-06-22T14:02:07.092227Z",
     "iopub.status.idle": "2021-06-22T14:02:09.259310Z",
     "shell.execute_reply": "2021-06-22T14:02:09.259815Z",
     "shell.execute_reply.started": "2021-06-22T11:55:41.459018Z"
    },
    "papermill": {
     "duration": 2.199749,
     "end_time": "2021-06-22T14:02:09.259990",
     "exception": false,
     "start_time": "2021-06-22T14:02:07.060241",
     "status": "completed"
    },
    "tags": []
   },
   "outputs": [],
   "source": [
    "!ln -s ../../wsj/s5/steps\n",
    "!ln -s ../../wsj/s5/utils\n",
    "!ln -s ../../librispeech/s5/local"
   ]
  },
  {
   "cell_type": "code",
   "execution_count": 12,
   "id": "developed-scottish",
   "metadata": {
    "execution": {
     "iopub.execute_input": "2021-06-22T14:02:09.321360Z",
     "iopub.status.busy": "2021-06-22T14:02:09.320777Z",
     "iopub.status.idle": "2021-06-22T14:02:10.077694Z",
     "shell.execute_reply": "2021-06-22T14:02:10.077116Z",
     "shell.execute_reply.started": "2021-06-22T11:55:43.77028Z"
    },
    "papermill": {
     "duration": 0.794532,
     "end_time": "2021-06-22T14:02:10.077821",
     "exception": false,
     "start_time": "2021-06-22T14:02:09.283289",
     "status": "completed"
    },
    "tags": []
   },
   "outputs": [],
   "source": [
    "!mkdir conf"
   ]
  },
  {
   "cell_type": "code",
   "execution_count": 13,
   "id": "plain-sunglasses",
   "metadata": {
    "execution": {
     "iopub.execute_input": "2021-06-22T14:02:10.128930Z",
     "iopub.status.busy": "2021-06-22T14:02:10.128048Z",
     "iopub.status.idle": "2021-06-22T14:02:10.132783Z",
     "shell.execute_reply": "2021-06-22T14:02:10.132227Z",
     "shell.execute_reply.started": "2021-06-22T11:55:44.555875Z"
    },
    "papermill": {
     "duration": 0.032468,
     "end_time": "2021-06-22T14:02:10.132908",
     "exception": false,
     "start_time": "2021-06-22T14:02:10.100440",
     "status": "completed"
    },
    "tags": []
   },
   "outputs": [
    {
     "name": "stdout",
     "output_type": "stream",
     "text": [
      "Writing conf/mfcc_hires.conf\n"
     ]
    }
   ],
   "source": [
    "%%writefile conf/mfcc_hires.conf\n",
    "# config for high-resolution MFCC features, intended for neural network training\n",
    "# Note: we keep all cepstra, so it has the same info as filterbank features,\n",
    "# but MFCC is more easily compressible (because less correlated) which is why \n",
    "# we prefer this method.\n",
    "--use-energy=false   # use average of log energy, not energy.\n",
    "--num-mel-bins=40     # similar to Google's setup.\n",
    "--num-ceps=40     # there is no dimensionality reduction.\n",
    "--low-freq=20     # low cutoff frequency for mel bins... this is high-bandwidth data, so\n",
    "                  # there might be some information at the low end.\n",
    "--high-freq=-400 # high cutoff frequently, relative to Nyquist of 8000 (=7600)"
   ]
  },
  {
   "cell_type": "markdown",
   "id": "unavailable-lobby",
   "metadata": {
    "papermill": {
     "duration": 0.022141,
     "end_time": "2021-06-22T14:02:10.177923",
     "exception": false,
     "start_time": "2021-06-22T14:02:10.155782",
     "status": "completed"
    },
    "tags": []
   },
   "source": [
    "## Setting up paths\n",
    "\n",
    "(In the scripts, you just source `path.sh`)"
   ]
  },
  {
   "cell_type": "code",
   "execution_count": 14,
   "id": "secondary-score",
   "metadata": {
    "execution": {
     "iopub.execute_input": "2021-06-22T14:02:10.227701Z",
     "iopub.status.busy": "2021-06-22T14:02:10.227138Z",
     "iopub.status.idle": "2021-06-22T14:02:10.229972Z",
     "shell.execute_reply": "2021-06-22T14:02:10.230360Z",
     "shell.execute_reply.started": "2021-06-22T11:55:44.565547Z"
    },
    "papermill": {
     "duration": 0.030178,
     "end_time": "2021-06-22T14:02:10.230541",
     "exception": false,
     "start_time": "2021-06-22T14:02:10.200363",
     "status": "completed"
    },
    "tags": []
   },
   "outputs": [
    {
     "name": "stdout",
     "output_type": "stream",
     "text": [
      "env: KALDI_ROOT=/opt/kaldi\n"
     ]
    }
   ],
   "source": [
    "%env KALDI_ROOT=/opt/kaldi"
   ]
  },
  {
   "cell_type": "code",
   "execution_count": 15,
   "id": "pleasant-ready",
   "metadata": {
    "execution": {
     "iopub.execute_input": "2021-06-22T14:02:10.278724Z",
     "iopub.status.busy": "2021-06-22T14:02:10.278188Z",
     "iopub.status.idle": "2021-06-22T14:02:11.002390Z",
     "shell.execute_reply": "2021-06-22T14:02:11.001912Z",
     "shell.execute_reply.started": "2021-06-22T11:55:44.577705Z"
    },
    "papermill": {
     "duration": 0.7495,
     "end_time": "2021-06-22T14:02:11.002545",
     "exception": false,
     "start_time": "2021-06-22T14:02:10.253045",
     "status": "completed"
    },
    "tags": []
   },
   "outputs": [
    {
     "name": "stdout",
     "output_type": "stream",
     "text": [
      "export KALDI_ROOT=`pwd`/../../..\r\n",
      "[ -f $KALDI_ROOT/tools/env.sh ] && . $KALDI_ROOT/tools/env.sh\r\n",
      "export PATH=$PWD/utils/:$KALDI_ROOT/tools/openfst/bin:$PWD:$PATH\r\n",
      "[ ! -f $KALDI_ROOT/tools/config/common_path.sh ] && echo >&2 \"The standard file $KALDI_ROOT/tools/config/common_path.sh is not present -> Exit!\" && exit 1\r\n",
      ". $KALDI_ROOT/tools/config/common_path.sh\r\n",
      "export LC_ALL=C\r\n"
     ]
    }
   ],
   "source": [
    "!cat ../../wsj/s5/path.sh"
   ]
  },
  {
   "cell_type": "code",
   "execution_count": 16,
   "id": "amino-wellington",
   "metadata": {
    "execution": {
     "iopub.execute_input": "2021-06-22T14:02:11.054413Z",
     "iopub.status.busy": "2021-06-22T14:02:11.053857Z",
     "iopub.status.idle": "2021-06-22T14:02:11.056090Z",
     "shell.execute_reply": "2021-06-22T14:02:11.056618Z",
     "shell.execute_reply.started": "2021-06-22T12:00:36.247262Z"
    },
    "papermill": {
     "duration": 0.031099,
     "end_time": "2021-06-22T14:02:11.056773",
     "exception": false,
     "start_time": "2021-06-22T14:02:11.025674",
     "status": "completed"
    },
    "tags": []
   },
   "outputs": [
    {
     "name": "stdout",
     "output_type": "stream",
     "text": [
      "env: LC_ALL=C\n"
     ]
    }
   ],
   "source": [
    "%env LC_ALL=C\n",
    "#PWD = !pwd\n",
    "PWD = '/opt/kaldi/egs/usels/s5'\n",
    "KALDI_ROOT = '/opt/kaldi'\n",
    "WSJ_PATH = f'{PWD}/utils/:{KALDI_ROOT}/tools/openfst/bin:{PWD}:{EXISTING_PATH}'"
   ]
  },
  {
   "cell_type": "code",
   "execution_count": 17,
   "id": "smoking-circular",
   "metadata": {
    "execution": {
     "iopub.execute_input": "2021-06-22T14:02:11.105346Z",
     "iopub.status.busy": "2021-06-22T14:02:11.104839Z",
     "iopub.status.idle": "2021-06-22T14:02:11.835637Z",
     "shell.execute_reply": "2021-06-22T14:02:11.835040Z",
     "shell.execute_reply.started": "2021-06-22T11:57:02.231388Z"
    },
    "papermill": {
     "duration": 0.755957,
     "end_time": "2021-06-22T14:02:11.835765",
     "exception": false,
     "start_time": "2021-06-22T14:02:11.079808",
     "status": "completed"
    },
    "tags": []
   },
   "outputs": [
    {
     "name": "stdout",
     "output_type": "stream",
     "text": [
      "# we assume KALDI_ROOT is already defined\r\n",
      "[ -z \"$KALDI_ROOT\" ] && echo >&2 \"The variable KALDI_ROOT must be already defined\" && exit 1\r\n",
      "# The formatting of the path export command is intentionally weird, because\r\n",
      "# this allows for easy diff'ing\r\n",
      "export PATH=\\\r\n",
      "${KALDI_ROOT}/src/bin:\\\r\n",
      "${KALDI_ROOT}/src/chainbin:\\\r\n",
      "${KALDI_ROOT}/src/featbin:\\\r\n",
      "${KALDI_ROOT}/src/fgmmbin:\\\r\n",
      "${KALDI_ROOT}/src/fstbin:\\\r\n",
      "${KALDI_ROOT}/src/gmmbin:\\\r\n",
      "${KALDI_ROOT}/src/ivectorbin:\\\r\n",
      "${KALDI_ROOT}/src/kwsbin:\\\r\n",
      "${KALDI_ROOT}/src/latbin:\\\r\n",
      "${KALDI_ROOT}/src/lmbin:\\\r\n",
      "${KALDI_ROOT}/src/nnet2bin:\\\r\n",
      "${KALDI_ROOT}/src/nnet3bin:\\\r\n",
      "${KALDI_ROOT}/src/nnetbin:\\\r\n",
      "${KALDI_ROOT}/src/online2bin:\\\r\n",
      "${KALDI_ROOT}/src/onlinebin:\\\r\n",
      "${KALDI_ROOT}/src/rnnlmbin:\\\r\n",
      "${KALDI_ROOT}/src/sgmm2bin:\\\r\n",
      "${KALDI_ROOT}/src/sgmmbin:\\\r\n",
      "${KALDI_ROOT}/src/tfrnnlmbin:\\\r\n",
      "${KALDI_ROOT}/src/cudadecoderbin:\\\r\n",
      "$PATH\r\n"
     ]
    }
   ],
   "source": [
    "!cat $KALDI_ROOT/tools/config/common_path.sh"
   ]
  },
  {
   "cell_type": "code",
   "execution_count": 18,
   "id": "medical-webmaster",
   "metadata": {
    "execution": {
     "iopub.execute_input": "2021-06-22T14:02:11.887378Z",
     "iopub.status.busy": "2021-06-22T14:02:11.886646Z",
     "iopub.status.idle": "2021-06-22T14:02:11.908812Z",
     "shell.execute_reply": "2021-06-22T14:02:11.909256Z",
     "shell.execute_reply.started": "2021-06-22T11:56:52.862746Z"
    },
    "papermill": {
     "duration": 0.050322,
     "end_time": "2021-06-22T14:02:11.909416",
     "exception": false,
     "start_time": "2021-06-22T14:02:11.859094",
     "status": "completed"
    },
    "tags": []
   },
   "outputs": [],
   "source": [
    "#kaldi_paths=!cat $KALDI_ROOT/tools/config/common_path.sh|grep '/src/'|awk -F':' '{print $1}'|awk -F'/' '{print $NF}'|tr '\\n' ':'\n",
    "raw_kaldi_paths=!cat $KALDI_ROOT/tools/config/common_path.sh|grep '/src/'|awk -F':' '{print $1}'|awk -F'/' '{print \"/opt/kaldi/src/\"$NF}'"
   ]
  },
  {
   "cell_type": "code",
   "execution_count": 19,
   "id": "excess-gentleman",
   "metadata": {
    "execution": {
     "iopub.execute_input": "2021-06-22T14:02:11.962242Z",
     "iopub.status.busy": "2021-06-22T14:02:11.961507Z",
     "iopub.status.idle": "2021-06-22T14:02:11.963738Z",
     "shell.execute_reply": "2021-06-22T14:02:11.963323Z",
     "shell.execute_reply.started": "2021-06-22T12:02:21.567242Z"
    },
    "papermill": {
     "duration": 0.031087,
     "end_time": "2021-06-22T14:02:11.963864",
     "exception": false,
     "start_time": "2021-06-22T14:02:11.932777",
     "status": "completed"
    },
    "tags": []
   },
   "outputs": [],
   "source": [
    "KALDI_PATHS=raw_kaldi_paths.nlstr.replace('\\n',':')"
   ]
  },
  {
   "cell_type": "code",
   "execution_count": 20,
   "id": "interim-biology",
   "metadata": {
    "execution": {
     "iopub.execute_input": "2021-06-22T14:02:12.018870Z",
     "iopub.status.busy": "2021-06-22T14:02:12.018311Z",
     "iopub.status.idle": "2021-06-22T14:02:12.729807Z",
     "shell.execute_reply": "2021-06-22T14:02:12.730221Z",
     "shell.execute_reply.started": "2021-06-22T11:56:58.4537Z"
    },
    "papermill": {
     "duration": 0.743298,
     "end_time": "2021-06-22T14:02:12.730410",
     "exception": false,
     "start_time": "2021-06-22T14:02:11.987112",
     "status": "completed"
    },
    "tags": []
   },
   "outputs": [
    {
     "name": "stdout",
     "output_type": "stream",
     "text": [
      "export PATH=/opt/kaldi/tools/python:${PATH}\r\n",
      "export PHONETISAURUS=\"/tmp/output/opt/kaldi/tools/phonetisaurus-g2p\"\r\n",
      "export PATH=\"$PATH:${PHONETISAURUS}:${PHONETISAURUS}/src/scripts\"\r\n"
     ]
    }
   ],
   "source": [
    "!cat $KALDI_ROOT/tools/env.sh"
   ]
  },
  {
   "cell_type": "code",
   "execution_count": 21,
   "id": "instant-equivalent",
   "metadata": {
    "execution": {
     "iopub.execute_input": "2021-06-22T14:02:12.779962Z",
     "iopub.status.busy": "2021-06-22T14:02:12.779473Z",
     "iopub.status.idle": "2021-06-22T14:02:12.782765Z",
     "shell.execute_reply": "2021-06-22T14:02:12.783257Z",
     "shell.execute_reply.started": "2021-06-22T12:02:09.80754Z"
    },
    "papermill": {
     "duration": 0.029642,
     "end_time": "2021-06-22T14:02:12.783399",
     "exception": false,
     "start_time": "2021-06-22T14:02:12.753757",
     "status": "completed"
    },
    "tags": []
   },
   "outputs": [],
   "source": [
    "PHONETISAURUS = \"/tmp/output/opt/kaldi/tools/phonetisaurus-g2p\"\n",
    "TOOLS_PATH = f'/opt/kaldi/tools/python:{PHONETISAURUS}:{PHONETISAURUS}/src/scripts'"
   ]
  },
  {
   "cell_type": "code",
   "execution_count": 22,
   "id": "hungry-metropolitan",
   "metadata": {
    "execution": {
     "iopub.execute_input": "2021-06-22T14:02:12.832806Z",
     "iopub.status.busy": "2021-06-22T14:02:12.832283Z",
     "iopub.status.idle": "2021-06-22T14:02:12.838381Z",
     "shell.execute_reply": "2021-06-22T14:02:12.837921Z",
     "shell.execute_reply.started": "2021-06-22T12:03:04.119662Z"
    },
    "papermill": {
     "duration": 0.031774,
     "end_time": "2021-06-22T14:02:12.838530",
     "exception": false,
     "start_time": "2021-06-22T14:02:12.806756",
     "status": "completed"
    },
    "tags": []
   },
   "outputs": [
    {
     "name": "stdout",
     "output_type": "stream",
     "text": [
      "env: PATH=f\"/opt/kaldi/egs/usels/s5/utils/:/opt/kaldi/tools/openfst/bin:/opt/kaldi/egs/usels/s5:/opt/conda/bin:/usr/local/sbin:/usr/local/bin:/usr/sbin:/usr/bin:/sbin:/bin:/opt/kaldi/src/bin:/opt/kaldi/src/chainbin:/opt/kaldi/src/featbin:/opt/kaldi/src/fgmmbin:/opt/kaldi/src/fstbin:/opt/kaldi/src/gmmbin:/opt/kaldi/src/ivectorbin:/opt/kaldi/src/kwsbin:/opt/kaldi/src/latbin:/opt/kaldi/src/lmbin:/opt/kaldi/src/nnet2bin:/opt/kaldi/src/nnet3bin:/opt/kaldi/src/nnetbin:/opt/kaldi/src/online2bin:/opt/kaldi/src/onlinebin:/opt/kaldi/src/rnnlmbin:/opt/kaldi/src/sgmm2bin:/opt/kaldi/src/sgmmbin:/opt/kaldi/src/tfrnnlmbin:/opt/kaldi/src/cudadecoderbin:/opt/kaldi/tools/python:/tmp/output/opt/kaldi/tools/phonetisaurus-g2p:/tmp/output/opt/kaldi/tools/phonetisaurus-g2p/src/scripts\"\n"
     ]
    }
   ],
   "source": [
    "%env PATH = f\"{WSJ_PATH}:{KALDI_PATHS}:{TOOLS_PATH}\""
   ]
  },
  {
   "cell_type": "code",
   "execution_count": 23,
   "id": "fourth-glass",
   "metadata": {
    "execution": {
     "iopub.execute_input": "2021-06-22T14:02:12.890490Z",
     "iopub.status.busy": "2021-06-22T14:02:12.889912Z",
     "iopub.status.idle": "2021-06-22T14:02:13.610799Z",
     "shell.execute_reply": "2021-06-22T14:02:13.611244Z",
     "shell.execute_reply.started": "2021-06-22T12:16:15.76424Z"
    },
    "papermill": {
     "duration": 0.749432,
     "end_time": "2021-06-22T14:02:13.611399",
     "exception": false,
     "start_time": "2021-06-22T14:02:12.861967",
     "status": "completed"
    },
    "tags": []
   },
   "outputs": [
    {
     "name": "stdout",
     "output_type": "stream",
     "text": [
      "# you can change cmd.sh depending on what type of queue you are using.\r\n",
      "# If you have no queueing system and want to run on a local machine, you\r\n",
      "# can change all instances 'queue.pl' to run.pl (but be careful and run\r\n",
      "# commands one by one: most recipes will exhaust the memory on your\r\n",
      "# machine).  queue.pl works with GridEngine (qsub).  slurm.pl works\r\n",
      "# with slurm.  Different queues are configured differently, with different\r\n",
      "# queue names and different ways of specifying things like memory;\r\n",
      "# to account for these differences you can create and edit the file\r\n",
      "# conf/queue.conf to match your queue's configuration.  Search for\r\n",
      "# conf/queue.conf in http://kaldi-asr.org/doc/queue.html for more information,\r\n",
      "# or search for the string 'default_config' in utils/queue.pl or utils/slurm.pl.\r\n",
      "\r\n",
      "export train_cmd=queue.pl\r\n",
      "export decode_cmd=\"queue.pl --mem 2G\"\r\n",
      "# the use of cuda_cmd is deprecated, used only in 'nnet1',\r\n",
      "export cuda_cmd=\"queue.pl --gpu 1\"\r\n",
      "\r\n",
      "if [ \"$(hostname -d)\" == \"fit.vutbr.cz\" ]; then\r\n",
      "  queue_conf=$HOME/queue_conf/default.conf # see example /homes/kazi/iveselyk/queue_conf/default.conf,\r\n",
      "  export train_cmd=\"queue.pl --config $queue_conf --mem 2G --matylda 0.2\"\r\n",
      "  export decode_cmd=\"queue.pl --config $queue_conf --mem 3G --matylda 0.1\"\r\n",
      "  export cuda_cmd=\"queue.pl --config $queue_conf --gpu 1 --mem 10G --tmp 40G\"\r\n",
      "fi\r\n"
     ]
    }
   ],
   "source": [
    "!cat ../../wsj/s5/cmd.sh"
   ]
  },
  {
   "cell_type": "code",
   "execution_count": 24,
   "id": "handy-result",
   "metadata": {
    "execution": {
     "iopub.execute_input": "2021-06-22T14:02:13.663127Z",
     "iopub.status.busy": "2021-06-22T14:02:13.662318Z",
     "iopub.status.idle": "2021-06-22T14:02:13.668972Z",
     "shell.execute_reply": "2021-06-22T14:02:13.668525Z",
     "shell.execute_reply.started": "2021-06-22T12:25:36.054695Z"
    },
    "papermill": {
     "duration": 0.033709,
     "end_time": "2021-06-22T14:02:13.669093",
     "exception": false,
     "start_time": "2021-06-22T14:02:13.635384",
     "status": "completed"
    },
    "tags": []
   },
   "outputs": [
    {
     "name": "stdout",
     "output_type": "stream",
     "text": [
      "env: train_cmd=run.pl\n",
      "env: decode_cmd=\"run.pl --mem 2G\"\n"
     ]
    }
   ],
   "source": [
    "%env train_cmd=run.pl\n",
    "%env decode_cmd=\"run.pl --mem 2G\""
   ]
  },
  {
   "cell_type": "code",
   "execution_count": 25,
   "id": "native-raise",
   "metadata": {
    "execution": {
     "iopub.execute_input": "2021-06-22T14:02:13.727207Z",
     "iopub.status.busy": "2021-06-22T14:02:13.723371Z",
     "iopub.status.idle": "2021-06-22T14:02:16.618672Z",
     "shell.execute_reply": "2021-06-22T14:02:16.619114Z",
     "shell.execute_reply.started": "2021-06-22T12:25:39.332426Z"
    },
    "papermill": {
     "duration": 2.926119,
     "end_time": "2021-06-22T14:02:16.619273",
     "exception": false,
     "start_time": "2021-06-22T14:02:13.693154",
     "status": "completed"
    },
    "tags": []
   },
   "outputs": [],
   "source": [
    "!ln -s ../../wsj/s5/cmd.sh\n",
    "!ln -s ../../wsj/s5/path.sh\n",
    "!ln -s utils/queue.pl\n",
    "!ln -s utils/run.pl"
   ]
  },
  {
   "cell_type": "code",
   "execution_count": 26,
   "id": "micro-transportation",
   "metadata": {
    "execution": {
     "iopub.execute_input": "2021-06-22T14:02:16.677454Z",
     "iopub.status.busy": "2021-06-22T14:02:16.676884Z",
     "iopub.status.idle": "2021-06-22T14:02:17.398493Z",
     "shell.execute_reply": "2021-06-22T14:02:17.397910Z",
     "shell.execute_reply.started": "2021-06-22T12:25:11.355403Z"
    },
    "papermill": {
     "duration": 0.754922,
     "end_time": "2021-06-22T14:02:17.398627",
     "exception": false,
     "start_time": "2021-06-22T14:02:16.643705",
     "status": "completed"
    },
    "tags": []
   },
   "outputs": [],
   "source": [
    "!rm *.pl"
   ]
  },
  {
   "cell_type": "markdown",
   "id": "convenient-palmer",
   "metadata": {
    "papermill": {
     "duration": 0.023933,
     "end_time": "2021-06-22T14:02:17.446776",
     "exception": false,
     "start_time": "2021-06-22T14:02:17.422843",
     "status": "completed"
    },
    "tags": []
   },
   "source": [
    "## Data prep"
   ]
  },
  {
   "cell_type": "code",
   "execution_count": 27,
   "id": "satisfactory-finger",
   "metadata": {
    "execution": {
     "iopub.execute_input": "2021-06-22T14:02:17.504381Z",
     "iopub.status.busy": "2021-06-22T14:02:17.500632Z",
     "iopub.status.idle": "2021-06-22T14:02:28.489763Z",
     "shell.execute_reply": "2021-06-22T14:02:28.489066Z",
     "shell.execute_reply.started": "2021-06-22T12:10:48.153674Z"
    },
    "papermill": {
     "duration": 11.018968,
     "end_time": "2021-06-22T14:02:28.489892",
     "exception": false,
     "start_time": "2021-06-22T14:02:17.470924",
     "status": "completed"
    },
    "tags": []
   },
   "outputs": [
    {
     "name": "stdout",
     "output_type": "stream",
     "text": [
      "utils/validate_data_dir.sh: Successfully validated data-directory data/test-other\r\n",
      "local/data_prep.sh: successfully prepared data in data/test-other\r\n",
      "utils/validate_data_dir.sh: Successfully validated data-directory data/test-clean\r\n",
      "local/data_prep.sh: successfully prepared data in data/test-clean\r\n"
     ]
    }
   ],
   "source": [
    "!local/data_prep.sh /kaggle/input/librispeech-test-clean-and-other/LibriSpeech/test-other data/test-other\n",
    "!local/data_prep.sh /kaggle/input/librispeech-test-clean-and-other/LibriSpeech/test-clean data/test-clean"
   ]
  },
  {
   "cell_type": "code",
   "execution_count": 28,
   "id": "prostate-salem",
   "metadata": {
    "execution": {
     "iopub.execute_input": "2021-06-22T14:02:28.548708Z",
     "iopub.status.busy": "2021-06-22T14:02:28.544797Z",
     "iopub.status.idle": "2021-06-22T14:02:30.408265Z",
     "shell.execute_reply": "2021-06-22T14:02:30.407442Z",
     "shell.execute_reply.started": "2021-06-22T12:12:48.716774Z"
    },
    "papermill": {
     "duration": 1.893383,
     "end_time": "2021-06-22T14:02:30.408399",
     "exception": false,
     "start_time": "2021-06-22T14:02:28.515016",
     "status": "completed"
    },
    "tags": []
   },
   "outputs": [
    {
     "name": "stdout",
     "output_type": "stream",
     "text": [
      "utils/copy_data_dir.sh: copied data from data/test-clean to data/test-clean_hires\r\n",
      "utils/validate_data_dir.sh: Successfully validated data-directory data/test-clean_hires\r\n",
      "utils/copy_data_dir.sh: copied data from data/test-other to data/test-other_hires\r\n",
      "utils/validate_data_dir.sh: Successfully validated data-directory data/test-other_hires\r\n"
     ]
    }
   ],
   "source": [
    "!utils/copy_data_dir.sh data/test-clean data/test-clean_hires\n",
    "!utils/copy_data_dir.sh data/test-other data/test-other_hires"
   ]
  },
  {
   "cell_type": "code",
   "execution_count": 29,
   "id": "polish-grammar",
   "metadata": {
    "execution": {
     "iopub.execute_input": "2021-06-22T14:02:30.468447Z",
     "iopub.status.busy": "2021-06-22T14:02:30.464781Z",
     "iopub.status.idle": "2021-06-22T14:02:31.180983Z",
     "shell.execute_reply": "2021-06-22T14:02:31.181425Z",
     "shell.execute_reply.started": "2021-06-22T12:20:32.826362Z"
    },
    "papermill": {
     "duration": 0.747229,
     "end_time": "2021-06-22T14:02:31.181636",
     "exception": false,
     "start_time": "2021-06-22T14:02:30.434407",
     "status": "completed"
    },
    "tags": []
   },
   "outputs": [],
   "source": [
    "!ln -s utils/parse_options.sh"
   ]
  },
  {
   "cell_type": "code",
   "execution_count": 30,
   "id": "actual-upper",
   "metadata": {
    "execution": {
     "iopub.execute_input": "2021-06-22T14:02:31.247385Z",
     "iopub.status.busy": "2021-06-22T14:02:31.243484Z",
     "iopub.status.idle": "2021-06-22T14:03:48.842592Z",
     "shell.execute_reply": "2021-06-22T14:03:48.843008Z",
     "shell.execute_reply.started": "2021-06-22T12:25:44.313451Z"
    },
    "papermill": {
     "duration": 77.635527,
     "end_time": "2021-06-22T14:03:48.843203",
     "exception": false,
     "start_time": "2021-06-22T14:02:31.207676",
     "status": "completed"
    },
    "tags": []
   },
   "outputs": [
    {
     "name": "stdout",
     "output_type": "stream",
     "text": [
      "steps/make_mfcc.sh --nj 20 --mfcc-config conf/mfcc_hires.conf --cmd run.pl data/test-clean_hires\r\n",
      "utils/validate_data_dir.sh: Successfully validated data-directory data/test-clean_hires\r\n",
      "steps/make_mfcc.sh: [info]: no segments file exists: assuming wav.scp indexed by utterance.\r\n",
      "steps/make_mfcc.sh: Succeeded creating MFCC features for test-clean_hires\r\n",
      "steps/compute_cmvn_stats.sh data/test-clean_hires\r\n",
      "Succeeded creating CMVN stats for test-clean_hires\r\n",
      "fix_data_dir.sh: kept all 2620 utterances.\r\n",
      "fix_data_dir.sh: old files are kept in data/test-clean_hires/.backup\r\n",
      "steps/make_mfcc.sh --nj 20 --mfcc-config conf/mfcc_hires.conf --cmd run.pl data/test-other_hires\r\n",
      "utils/validate_data_dir.sh: Successfully validated data-directory data/test-other_hires\r\n",
      "steps/make_mfcc.sh: [info]: no segments file exists: assuming wav.scp indexed by utterance.\r\n",
      "steps/make_mfcc.sh: Succeeded creating MFCC features for test-other_hires\r\n",
      "steps/compute_cmvn_stats.sh data/test-other_hires\r\n",
      "Succeeded creating CMVN stats for test-other_hires\r\n",
      "fix_data_dir.sh: kept all 2939 utterances.\r\n",
      "fix_data_dir.sh: old files are kept in data/test-other_hires/.backup\r\n"
     ]
    }
   ],
   "source": [
    "!steps/make_mfcc.sh --nj 20 --mfcc-config conf/mfcc_hires.conf --cmd \"$train_cmd\" data/test-clean_hires\n",
    "!steps/compute_cmvn_stats.sh data/test-clean_hires\n",
    "!utils/fix_data_dir.sh data/test-clean_hires\n",
    "!steps/make_mfcc.sh --nj 20 --mfcc-config conf/mfcc_hires.conf --cmd \"$train_cmd\" data/test-other_hires\n",
    "!steps/compute_cmvn_stats.sh data/test-other_hires\n",
    "!utils/fix_data_dir.sh data/test-other_hires\n"
   ]
  },
  {
   "cell_type": "markdown",
   "id": "challenging-spotlight",
   "metadata": {
    "papermill": {
     "duration": 0.029196,
     "end_time": "2021-06-22T14:03:48.902010",
     "exception": false,
     "start_time": "2021-06-22T14:03:48.872814",
     "status": "completed"
    },
    "tags": []
   },
   "source": [
    "## Extract i-vectors"
   ]
  },
  {
   "cell_type": "code",
   "execution_count": 31,
   "id": "diverse-receipt",
   "metadata": {
    "execution": {
     "iopub.execute_input": "2021-06-22T14:03:48.966516Z",
     "iopub.status.busy": "2021-06-22T14:03:48.965940Z",
     "iopub.status.idle": "2021-06-22T14:03:50.416537Z",
     "shell.execute_reply": "2021-06-22T14:03:50.415938Z",
     "shell.execute_reply.started": "2021-06-22T12:38:42.072847Z"
    },
    "papermill": {
     "duration": 1.485188,
     "end_time": "2021-06-22T14:03:50.416682",
     "exception": false,
     "start_time": "2021-06-22T14:03:48.931494",
     "status": "completed"
    },
    "tags": []
   },
   "outputs": [],
   "source": [
    "!ln -s /kaggle/input/kaldi-librispeech-model/exp/nnet3_cleaned/ exp/nnet3_cleaned\n",
    "!ln -s /kaggle/input/kaldi-librispeech-model/exp/chain_cleaned/ exp/chain_cleaned"
   ]
  },
  {
   "cell_type": "code",
   "execution_count": 32,
   "id": "limited-morning",
   "metadata": {
    "execution": {
     "iopub.execute_input": "2021-06-22T14:03:50.487307Z",
     "iopub.status.busy": "2021-06-22T14:03:50.483703Z",
     "iopub.status.idle": "2021-06-22T14:04:54.139213Z",
     "shell.execute_reply": "2021-06-22T14:04:54.138747Z",
     "shell.execute_reply.started": "2021-06-22T12:44:16.329652Z"
    },
    "papermill": {
     "duration": 63.693422,
     "end_time": "2021-06-22T14:04:54.139356",
     "exception": false,
     "start_time": "2021-06-22T14:03:50.445934",
     "status": "completed"
    },
    "tags": []
   },
   "outputs": [
    {
     "name": "stdout",
     "output_type": "stream",
     "text": [
      "env: nspk=$(wc -l <data/test-clean_hires/spk2utt)\n",
      "steps/online/nnet2/extract_ivectors_online.sh --cmd run.pl --nj $(wc -l <data/test-clean_hires/spk2utt) data/test-clean_hires exp/nnet3_cleaned/extractor exp/nnet3_cleaned_out/ivectors_test-clean_hires\r\n",
      "steps/online/nnet2/extract_ivectors_online.sh: extracting iVectors\r\n",
      "steps/online/nnet2/extract_ivectors_online.sh: combining iVectors across jobs\r\n",
      "steps/online/nnet2/extract_ivectors_online.sh: done extracting (online) iVectors to exp/nnet3_cleaned_out/ivectors_test-clean_hires using the extractor in exp/nnet3_cleaned/extractor.\r\n",
      "env: nspk=$(wc -l <data/test-other_hires/spk2utt)\n",
      "steps/online/nnet2/extract_ivectors_online.sh --cmd run.pl --nj $(wc -l <data/test-other_hires/spk2utt) data/test-other_hires exp/nnet3_cleaned/extractor exp/nnet3_cleaned_out/ivectors_test-other_hires\r\n",
      "steps/online/nnet2/extract_ivectors_online.sh: extracting iVectors\r\n",
      "steps/online/nnet2/extract_ivectors_online.sh: combining iVectors across jobs\r\n",
      "steps/online/nnet2/extract_ivectors_online.sh: done extracting (online) iVectors to exp/nnet3_cleaned_out/ivectors_test-other_hires using the extractor in exp/nnet3_cleaned/extractor.\r\n"
     ]
    }
   ],
   "source": [
    "%env nspk=$(wc -l <data/test-clean_hires/spk2utt)\n",
    "!steps/online/nnet2/extract_ivectors_online.sh --cmd \"$train_cmd\" --nj \"${nspk}\" data/test-clean_hires exp/nnet3_cleaned/extractor exp/nnet3_cleaned_out/ivectors_test-clean_hires\n",
    "%env nspk=$(wc -l <data/test-other_hires/spk2utt)\n",
    "!steps/online/nnet2/extract_ivectors_online.sh --cmd \"$train_cmd\" --nj \"${nspk}\" data/test-other_hires exp/nnet3_cleaned/extractor exp/nnet3_cleaned_out/ivectors_test-other_hires"
   ]
  },
  {
   "cell_type": "markdown",
   "id": "spiritual-cause",
   "metadata": {
    "papermill": {
     "duration": 0.031825,
     "end_time": "2021-06-22T14:04:54.204551",
     "exception": false,
     "start_time": "2021-06-22T14:04:54.172726",
     "status": "completed"
    },
    "tags": []
   },
   "source": [
    "## Build decoding graph"
   ]
  },
  {
   "cell_type": "code",
   "execution_count": 33,
   "id": "plain-throw",
   "metadata": {
    "execution": {
     "iopub.execute_input": "2021-06-22T14:04:54.276979Z",
     "iopub.status.busy": "2021-06-22T14:04:54.276369Z",
     "iopub.status.idle": "2021-06-22T14:04:55.004901Z",
     "shell.execute_reply": "2021-06-22T14:04:55.005351Z"
    },
    "papermill": {
     "duration": 0.769509,
     "end_time": "2021-06-22T14:04:55.005546",
     "exception": false,
     "start_time": "2021-06-22T14:04:54.236037",
     "status": "completed"
    },
    "tags": []
   },
   "outputs": [],
   "source": [
    "!ln -s /kaggle/input/kaldi-librispeech-model/data/lang_test_tgsmall/ data/lang_test_tgsmall"
   ]
  },
  {
   "cell_type": "code",
   "execution_count": 34,
   "id": "announced-market",
   "metadata": {
    "execution": {
     "iopub.execute_input": "2021-06-22T14:04:55.079972Z",
     "iopub.status.busy": "2021-06-22T14:04:55.076261Z",
     "iopub.status.idle": "2021-06-22T14:05:42.171299Z",
     "shell.execute_reply": "2021-06-22T14:05:42.170797Z"
    },
    "papermill": {
     "duration": 47.133606,
     "end_time": "2021-06-22T14:05:42.171511",
     "exception": false,
     "start_time": "2021-06-22T14:04:55.037905",
     "status": "completed"
    },
    "tags": []
   },
   "outputs": [
    {
     "name": "stdout",
     "output_type": "stream",
     "text": [
      "env: dir=exp/chain_cleaned/tdnn_1d_sp\n",
      "env: graph_dir=exp/chain_cleaned_out/graph_tgsmall\n",
      "tree-info exp/chain_cleaned/tdnn_1d_sp/tree \r\n",
      "tree-info exp/chain_cleaned/tdnn_1d_sp/tree \r\n",
      "mkdir: cannot create directory 'data/lang_test_tgsmall/tmp': Read-only file system\r\n",
      "utils/mkgraph.sh: line 101: data/lang_test_tgsmall/tmp/LG.fst.113734: No such file or directory\r\n",
      "fstminimizeencoded \r\n",
      "fsttablecompose data/lang_test_tgsmall/L_disambig.fst data/lang_test_tgsmall/G.fst \r\n",
      "fstdeterminizestar --use-log=true \r\n",
      "ERROR: VectorFst::Write: Write failed: standard output\r\n",
      "ERROR (fstminimizeencoded[5.5.0~1-2b62]:~Output():kaldi-io.cc:694) Error closing output file standard output\r\n",
      "\r\n",
      "[ Stack-Trace: ]\r\n",
      "/opt/kaldi/src/lib/libkaldi-base.so(kaldi::MessageLogger::LogMessage() const+0x82c) [0x7f00414212aa]\r\n",
      "/opt/kaldi/src/lib/libkaldi-fstext.so(kaldi::MessageLogger::LogAndThrow::operator=(kaldi::MessageLogger const&)+0x21) [0x7f004187e7c3]\r\n",
      "/opt/kaldi/src/lib/libkaldi-util.so(kaldi::Output::~Output()+0xe4) [0x7f0041642a8e]\r\n",
      "/opt/kaldi/src/lib/libkaldi-fstext.so(fst::WriteFstKaldi(fst::VectorFst<fst::ArcTpl<fst::TropicalWeightTpl<float> >, fst::VectorState<fst::ArcTpl<fst::TropicalWeightTpl<float> >, std::allocator<fst::ArcTpl<fst::TropicalWeightTpl<float> > > > > const&, std::__cxx11::basic_string<char, std::char_traits<char>, std::allocator<char> >)+0x115) [0x7f004187cc0a]\r\n",
      "fstminimizeencoded(main+0x1db) [0x4109b1]\r\n",
      "/lib/x86_64-linux-gnu/libc.so.6(__libc_start_main+0xe7) [0x7f0040965bf7]\r\n",
      "fstminimizeencoded(_start+0x29) [0x410709]\r\n",
      "\r\n",
      "terminate called after throwing an instance of 'kaldi::KaldiFatalError'\r\n",
      "  what():  kaldi::KaldiFatalError\r\n"
     ]
    }
   ],
   "source": [
    "%env dir=exp/chain_cleaned/tdnn_1d_sp\n",
    "%env graph_dir=exp/chain_cleaned_out/graph_tgsmall\n",
    "!utils/mkgraph.sh --self-loop-scale 1.0 --remove-oov data/lang_test_tgsmall $dir $graph_dir"
   ]
  },
  {
   "cell_type": "markdown",
   "id": "rough-fraction",
   "metadata": {
    "papermill": {
     "duration": 0.032954,
     "end_time": "2021-06-22T14:05:42.237699",
     "exception": false,
     "start_time": "2021-06-22T14:05:42.204745",
     "status": "completed"
    },
    "tags": []
   },
   "source": [
    "## "
   ]
  }
 ],
 "metadata": {
  "kernelspec": {
   "display_name": "Python 3",
   "language": "python",
   "name": "python3"
  },
  "language_info": {
   "codemirror_mode": {
    "name": "ipython",
    "version": 3
   },
   "file_extension": ".py",
   "mimetype": "text/x-python",
   "name": "python",
   "nbconvert_exporter": "python",
   "pygments_lexer": "ipython3",
   "version": "3.7.10"
  },
  "papermill": {
   "default_parameters": {},
   "duration": 315.914614,
   "end_time": "2021-06-22T14:05:42.980338",
   "environment_variables": {},
   "exception": null,
   "input_path": "__notebook__.ipynb",
   "output_path": "__notebook__.ipynb",
   "parameters": {},
   "start_time": "2021-06-22T14:00:27.065724",
   "version": "2.3.3"
  }
 },
 "nbformat": 4,
 "nbformat_minor": 5
}
