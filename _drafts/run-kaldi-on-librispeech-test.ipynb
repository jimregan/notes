{
 "cells": [
  {
   "cell_type": "markdown",
   "id": "light-helena",
   "metadata": {
    "papermill": {
     "duration": 0.038185,
     "end_time": "2021-06-23T07:59:31.769133",
     "exception": false,
     "start_time": "2021-06-23T07:59:31.730948",
     "status": "completed"
    },
    "tags": []
   },
   "source": [
    "## Unpack Kaldi"
   ]
  },
  {
   "cell_type": "code",
   "execution_count": 1,
   "id": "modular-trick",
   "metadata": {
    "_cell_guid": "b1076dfc-b9ad-4769-8c92-a6c4dae69d19",
    "_uuid": "8f2839f25d086af736a60e9eeb907d3b93b6e0e5",
    "execution": {
     "iopub.execute_input": "2021-06-23T07:59:31.866821Z",
     "iopub.status.busy": "2021-06-23T07:59:31.865877Z",
     "iopub.status.idle": "2021-06-23T07:59:31.880668Z",
     "shell.execute_reply": "2021-06-23T07:59:31.881505Z",
     "shell.execute_reply.started": "2021-06-22T11:54:50.153353Z"
    },
    "papermill": {
     "duration": 0.075435,
     "end_time": "2021-06-23T07:59:31.883021",
     "exception": false,
     "start_time": "2021-06-23T07:59:31.807586",
     "status": "completed"
    },
    "tags": []
   },
   "outputs": [
    {
     "name": "stdout",
     "output_type": "stream",
     "text": [
      "/opt\n"
     ]
    }
   ],
   "source": [
    "%cd /opt"
   ]
  },
  {
   "cell_type": "code",
   "execution_count": 2,
   "id": "generous-virtue",
   "metadata": {
    "execution": {
     "iopub.execute_input": "2021-06-23T07:59:31.972881Z",
     "iopub.status.busy": "2021-06-23T07:59:31.972085Z",
     "iopub.status.idle": "2021-06-23T08:00:12.551287Z",
     "shell.execute_reply": "2021-06-23T08:00:12.550761Z",
     "shell.execute_reply.started": "2021-06-22T11:54:53.255442Z"
    },
    "papermill": {
     "duration": 40.618266,
     "end_time": "2021-06-23T08:00:12.551449",
     "exception": false,
     "start_time": "2021-06-23T07:59:31.933183",
     "status": "completed"
    },
    "tags": []
   },
   "outputs": [],
   "source": [
    "%%capture\n",
    "!tar xvf /kaggle/input/extract-prebuilt-kaldi-from-docker/kaldi.tar"
   ]
  },
  {
   "cell_type": "code",
   "execution_count": 3,
   "id": "polished-academy",
   "metadata": {
    "execution": {
     "iopub.execute_input": "2021-06-23T08:00:12.630325Z",
     "iopub.status.busy": "2021-06-23T08:00:12.629530Z",
     "iopub.status.idle": "2021-06-23T08:00:12.632787Z",
     "shell.execute_reply": "2021-06-23T08:00:12.632151Z",
     "shell.execute_reply.started": "2021-06-22T11:55:40.60018Z"
    },
    "papermill": {
     "duration": 0.044613,
     "end_time": "2021-06-23T08:00:12.632924",
     "exception": false,
     "start_time": "2021-06-23T08:00:12.588311",
     "status": "completed"
    },
    "tags": []
   },
   "outputs": [],
   "source": [
    "import os\n",
    "os.environ['LD_LIBRARY_PATH'] = '/opt/conda/lib:/opt/kaldi/tools/openfst-1.6.7/lib:/opt/kaldi/src/lib:'\n",
    "EXISTING_PATH = os.environ['PATH']"
   ]
  },
  {
   "cell_type": "code",
   "execution_count": 4,
   "id": "requested-sussex",
   "metadata": {
    "execution": {
     "iopub.execute_input": "2021-06-23T08:00:12.713819Z",
     "iopub.status.busy": "2021-06-23T08:00:12.713191Z",
     "iopub.status.idle": "2021-06-23T08:00:12.718074Z",
     "shell.execute_reply": "2021-06-23T08:00:12.718801Z"
    },
    "papermill": {
     "duration": 0.048482,
     "end_time": "2021-06-23T08:00:12.719037",
     "exception": false,
     "start_time": "2021-06-23T08:00:12.670555",
     "status": "completed"
    },
    "tags": []
   },
   "outputs": [
    {
     "name": "stdout",
     "output_type": "stream",
     "text": [
      "/\n"
     ]
    }
   ],
   "source": [
    "%cd /\n"
   ]
  },
  {
   "cell_type": "code",
   "execution_count": 5,
   "id": "independent-sailing",
   "metadata": {
    "execution": {
     "iopub.execute_input": "2021-06-23T08:00:12.800456Z",
     "iopub.status.busy": "2021-06-23T08:00:12.799600Z",
     "iopub.status.idle": "2021-06-23T08:00:48.585580Z",
     "shell.execute_reply": "2021-06-23T08:00:48.586117Z"
    },
    "papermill": {
     "duration": 35.82919,
     "end_time": "2021-06-23T08:00:48.586328",
     "exception": false,
     "start_time": "2021-06-23T08:00:12.757138",
     "status": "completed"
    },
    "tags": []
   },
   "outputs": [],
   "source": [
    "%%capture\n",
    "!tar xvf /kaggle/input/extract-cuda-from-kaldi-docker/cuda.tar"
   ]
  },
  {
   "cell_type": "code",
   "execution_count": 6,
   "id": "undefined-belize",
   "metadata": {
    "execution": {
     "iopub.execute_input": "2021-06-23T08:00:56.718082Z",
     "iopub.status.busy": "2021-06-23T08:00:56.717348Z",
     "iopub.status.idle": "2021-06-23T08:00:56.719698Z",
     "shell.execute_reply": "2021-06-23T08:00:56.720139Z",
     "shell.execute_reply.started": "2021-06-22T13:29:47.085695Z"
    },
    "papermill": {
     "duration": 0.04477,
     "end_time": "2021-06-23T08:00:56.720319",
     "exception": false,
     "start_time": "2021-06-23T08:00:56.675549",
     "status": "completed"
    },
    "tags": []
   },
   "outputs": [],
   "source": [
    "import os\n",
    "os.environ['LD_LIBRARY_PATH'] = f'{os.environ[\"LD_LIBRARY_PATH\"]}:/usr/local/cuda-10.0/targets/x86_64-linux/lib/'"
   ]
  },
  {
   "cell_type": "code",
   "execution_count": 7,
   "id": "filled-metallic",
   "metadata": {
    "execution": {
     "iopub.execute_input": "2021-06-23T08:00:56.799666Z",
     "iopub.status.busy": "2021-06-23T08:00:56.799054Z",
     "iopub.status.idle": "2021-06-23T08:00:56.804945Z",
     "shell.execute_reply": "2021-06-23T08:00:56.805419Z",
     "shell.execute_reply.started": "2021-06-22T11:55:40.610869Z"
    },
    "papermill": {
     "duration": 0.047076,
     "end_time": "2021-06-23T08:00:56.805594",
     "exception": false,
     "start_time": "2021-06-23T08:00:56.758518",
     "status": "completed"
    },
    "tags": []
   },
   "outputs": [
    {
     "name": "stdout",
     "output_type": "stream",
     "text": [
      "/opt/kaldi/egs\n"
     ]
    }
   ],
   "source": [
    "%cd /opt/kaldi/egs"
   ]
  },
  {
   "cell_type": "markdown",
   "id": "lined-graduate",
   "metadata": {
    "papermill": {
     "duration": 0.036135,
     "end_time": "2021-06-23T08:00:56.879680",
     "exception": false,
     "start_time": "2021-06-23T08:00:56.843545",
     "status": "completed"
    },
    "tags": []
   },
   "source": [
    "## Install flac"
   ]
  },
  {
   "cell_type": "code",
   "execution_count": 8,
   "id": "understood-interim",
   "metadata": {
    "execution": {
     "iopub.execute_input": "2021-06-23T08:00:56.963238Z",
     "iopub.status.busy": "2021-06-23T08:00:56.958461Z",
     "iopub.status.idle": "2021-06-23T08:01:01.675468Z",
     "shell.execute_reply": "2021-06-23T08:01:01.674924Z",
     "shell.execute_reply.started": "2021-06-22T12:06:36.222984Z"
    },
    "papermill": {
     "duration": 4.759317,
     "end_time": "2021-06-23T08:01:01.675635",
     "exception": false,
     "start_time": "2021-06-23T08:00:56.916318",
     "status": "completed"
    },
    "tags": []
   },
   "outputs": [],
   "source": [
    "%%capture\n",
    "!apt install -y flac"
   ]
  },
  {
   "cell_type": "markdown",
   "id": "associate-alloy",
   "metadata": {
    "papermill": {
     "duration": 0.037395,
     "end_time": "2021-06-23T08:01:01.751035",
     "exception": false,
     "start_time": "2021-06-23T08:01:01.713640",
     "status": "completed"
    },
    "tags": []
   },
   "source": [
    "## Create a work directory"
   ]
  },
  {
   "cell_type": "code",
   "execution_count": 9,
   "id": "afraid-monitoring",
   "metadata": {
    "execution": {
     "iopub.execute_input": "2021-06-23T08:01:01.844486Z",
     "iopub.status.busy": "2021-06-23T08:01:01.840086Z",
     "iopub.status.idle": "2021-06-23T08:01:02.574266Z",
     "shell.execute_reply": "2021-06-23T08:01:02.574777Z",
     "shell.execute_reply.started": "2021-06-22T11:55:40.659251Z"
    },
    "papermill": {
     "duration": 0.786115,
     "end_time": "2021-06-23T08:01:02.574950",
     "exception": false,
     "start_time": "2021-06-23T08:01:01.788835",
     "status": "completed"
    },
    "tags": []
   },
   "outputs": [
    {
     "name": "stdout",
     "output_type": "stream",
     "text": [
      "/opt/kaldi/egs/usels/s5\n"
     ]
    }
   ],
   "source": [
    "!mkdir -p usels/s5\n",
    "%cd usels/s5"
   ]
  },
  {
   "cell_type": "code",
   "execution_count": 10,
   "id": "preceding-airplane",
   "metadata": {
    "execution": {
     "iopub.execute_input": "2021-06-23T08:01:02.656486Z",
     "iopub.status.busy": "2021-06-23T08:01:02.655846Z",
     "iopub.status.idle": "2021-06-23T08:01:05.518772Z",
     "shell.execute_reply": "2021-06-23T08:01:05.518106Z",
     "shell.execute_reply.started": "2021-06-22T12:08:43.066673Z"
    },
    "papermill": {
     "duration": 2.904037,
     "end_time": "2021-06-23T08:01:05.518901",
     "exception": false,
     "start_time": "2021-06-23T08:01:02.614864",
     "status": "completed"
    },
    "tags": []
   },
   "outputs": [],
   "source": [
    "!mkdir /kaggle/working/data\n",
    "!mkdir /kaggle/working/exp\n",
    "!ln -s /kaggle/working/data\n",
    "!ln -s /kaggle/working/exp"
   ]
  },
  {
   "cell_type": "code",
   "execution_count": 11,
   "id": "hourly-defeat",
   "metadata": {
    "execution": {
     "iopub.execute_input": "2021-06-23T08:01:05.605214Z",
     "iopub.status.busy": "2021-06-23T08:01:05.601829Z",
     "iopub.status.idle": "2021-06-23T08:01:07.782512Z",
     "shell.execute_reply": "2021-06-23T08:01:07.781619Z",
     "shell.execute_reply.started": "2021-06-22T11:55:41.459018Z"
    },
    "papermill": {
     "duration": 2.225778,
     "end_time": "2021-06-23T08:01:07.782704",
     "exception": false,
     "start_time": "2021-06-23T08:01:05.556926",
     "status": "completed"
    },
    "tags": []
   },
   "outputs": [],
   "source": [
    "!ln -s ../../wsj/s5/steps\n",
    "!ln -s ../../wsj/s5/utils\n",
    "!ln -s ../../librispeech/s5/local"
   ]
  },
  {
   "cell_type": "code",
   "execution_count": 12,
   "id": "assigned-selling",
   "metadata": {
    "execution": {
     "iopub.execute_input": "2021-06-23T08:01:07.869833Z",
     "iopub.status.busy": "2021-06-23T08:01:07.866075Z",
     "iopub.status.idle": "2021-06-23T08:01:08.582350Z",
     "shell.execute_reply": "2021-06-23T08:01:08.581682Z",
     "shell.execute_reply.started": "2021-06-22T11:55:43.77028Z"
    },
    "papermill": {
     "duration": 0.761021,
     "end_time": "2021-06-23T08:01:08.582488",
     "exception": false,
     "start_time": "2021-06-23T08:01:07.821467",
     "status": "completed"
    },
    "tags": []
   },
   "outputs": [],
   "source": [
    "!mkdir conf"
   ]
  },
  {
   "cell_type": "code",
   "execution_count": 13,
   "id": "unnecessary-precipitation",
   "metadata": {
    "execution": {
     "iopub.execute_input": "2021-06-23T08:01:08.665466Z",
     "iopub.status.busy": "2021-06-23T08:01:08.664837Z",
     "iopub.status.idle": "2021-06-23T08:01:08.668550Z",
     "shell.execute_reply": "2021-06-23T08:01:08.669046Z",
     "shell.execute_reply.started": "2021-06-22T11:55:44.555875Z"
    },
    "papermill": {
     "duration": 0.048638,
     "end_time": "2021-06-23T08:01:08.669236",
     "exception": false,
     "start_time": "2021-06-23T08:01:08.620598",
     "status": "completed"
    },
    "tags": []
   },
   "outputs": [
    {
     "name": "stdout",
     "output_type": "stream",
     "text": [
      "Writing conf/mfcc_hires.conf\n"
     ]
    }
   ],
   "source": [
    "%%writefile conf/mfcc_hires.conf\n",
    "# config for high-resolution MFCC features, intended for neural network training\n",
    "# Note: we keep all cepstra, so it has the same info as filterbank features,\n",
    "# but MFCC is more easily compressible (because less correlated) which is why \n",
    "# we prefer this method.\n",
    "--use-energy=false   # use average of log energy, not energy.\n",
    "--num-mel-bins=40     # similar to Google's setup.\n",
    "--num-ceps=40     # there is no dimensionality reduction.\n",
    "--low-freq=20     # low cutoff frequency for mel bins... this is high-bandwidth data, so\n",
    "                  # there might be some information at the low end.\n",
    "--high-freq=-400 # high cutoff frequently, relative to Nyquist of 8000 (=7600)"
   ]
  },
  {
   "cell_type": "markdown",
   "id": "billion-tender",
   "metadata": {
    "papermill": {
     "duration": 0.03866,
     "end_time": "2021-06-23T08:01:08.747075",
     "exception": false,
     "start_time": "2021-06-23T08:01:08.708415",
     "status": "completed"
    },
    "tags": []
   },
   "source": [
    "## Setting up paths\n",
    "\n",
    "(In the scripts, you just source `path.sh`)"
   ]
  },
  {
   "cell_type": "code",
   "execution_count": 14,
   "id": "frank-lewis",
   "metadata": {
    "execution": {
     "iopub.execute_input": "2021-06-23T08:01:08.828249Z",
     "iopub.status.busy": "2021-06-23T08:01:08.827643Z",
     "iopub.status.idle": "2021-06-23T08:01:08.833089Z",
     "shell.execute_reply": "2021-06-23T08:01:08.832599Z",
     "shell.execute_reply.started": "2021-06-22T11:55:44.565547Z"
    },
    "papermill": {
     "duration": 0.047301,
     "end_time": "2021-06-23T08:01:08.833261",
     "exception": false,
     "start_time": "2021-06-23T08:01:08.785960",
     "status": "completed"
    },
    "tags": []
   },
   "outputs": [
    {
     "name": "stdout",
     "output_type": "stream",
     "text": [
      "env: KALDI_ROOT=/opt/kaldi\n"
     ]
    }
   ],
   "source": [
    "%env KALDI_ROOT=/opt/kaldi"
   ]
  },
  {
   "cell_type": "code",
   "execution_count": 15,
   "id": "choice-facility",
   "metadata": {
    "execution": {
     "iopub.execute_input": "2021-06-23T08:01:08.915477Z",
     "iopub.status.busy": "2021-06-23T08:01:08.914487Z",
     "iopub.status.idle": "2021-06-23T08:01:09.640583Z",
     "shell.execute_reply": "2021-06-23T08:01:09.640052Z",
     "shell.execute_reply.started": "2021-06-22T11:55:44.577705Z"
    },
    "papermill": {
     "duration": 0.767893,
     "end_time": "2021-06-23T08:01:09.640720",
     "exception": false,
     "start_time": "2021-06-23T08:01:08.872827",
     "status": "completed"
    },
    "tags": []
   },
   "outputs": [
    {
     "name": "stdout",
     "output_type": "stream",
     "text": [
      "export KALDI_ROOT=`pwd`/../../..\r\n",
      "[ -f $KALDI_ROOT/tools/env.sh ] && . $KALDI_ROOT/tools/env.sh\r\n",
      "export PATH=$PWD/utils/:$KALDI_ROOT/tools/openfst/bin:$PWD:$PATH\r\n",
      "[ ! -f $KALDI_ROOT/tools/config/common_path.sh ] && echo >&2 \"The standard file $KALDI_ROOT/tools/config/common_path.sh is not present -> Exit!\" && exit 1\r\n",
      ". $KALDI_ROOT/tools/config/common_path.sh\r\n",
      "export LC_ALL=C\r\n"
     ]
    }
   ],
   "source": [
    "!cat ../../wsj/s5/path.sh"
   ]
  },
  {
   "cell_type": "code",
   "execution_count": 16,
   "id": "mounted-strap",
   "metadata": {
    "execution": {
     "iopub.execute_input": "2021-06-23T08:01:09.726113Z",
     "iopub.status.busy": "2021-06-23T08:01:09.725444Z",
     "iopub.status.idle": "2021-06-23T08:01:09.727970Z",
     "shell.execute_reply": "2021-06-23T08:01:09.728584Z",
     "shell.execute_reply.started": "2021-06-22T12:00:36.247262Z"
    },
    "papermill": {
     "duration": 0.048172,
     "end_time": "2021-06-23T08:01:09.728749",
     "exception": false,
     "start_time": "2021-06-23T08:01:09.680577",
     "status": "completed"
    },
    "tags": []
   },
   "outputs": [
    {
     "name": "stdout",
     "output_type": "stream",
     "text": [
      "env: LC_ALL=C\n"
     ]
    }
   ],
   "source": [
    "%env LC_ALL=C\n",
    "#PWD = !pwd\n",
    "PWD = '/opt/kaldi/egs/usels/s5'\n",
    "KALDI_ROOT = '/opt/kaldi'\n",
    "WSJ_PATH = f'{PWD}/utils/:{KALDI_ROOT}/tools/openfst/bin:{PWD}:{EXISTING_PATH}'"
   ]
  },
  {
   "cell_type": "code",
   "execution_count": 17,
   "id": "unlike-storage",
   "metadata": {
    "execution": {
     "iopub.execute_input": "2021-06-23T08:01:09.810542Z",
     "iopub.status.busy": "2021-06-23T08:01:09.809947Z",
     "iopub.status.idle": "2021-06-23T08:01:10.541649Z",
     "shell.execute_reply": "2021-06-23T08:01:10.541079Z",
     "shell.execute_reply.started": "2021-06-22T11:57:02.231388Z"
    },
    "papermill": {
     "duration": 0.773587,
     "end_time": "2021-06-23T08:01:10.541820",
     "exception": false,
     "start_time": "2021-06-23T08:01:09.768233",
     "status": "completed"
    },
    "tags": []
   },
   "outputs": [
    {
     "name": "stdout",
     "output_type": "stream",
     "text": [
      "# we assume KALDI_ROOT is already defined\r\n",
      "[ -z \"$KALDI_ROOT\" ] && echo >&2 \"The variable KALDI_ROOT must be already defined\" && exit 1\r\n",
      "# The formatting of the path export command is intentionally weird, because\r\n",
      "# this allows for easy diff'ing\r\n",
      "export PATH=\\\r\n",
      "${KALDI_ROOT}/src/bin:\\\r\n",
      "${KALDI_ROOT}/src/chainbin:\\\r\n",
      "${KALDI_ROOT}/src/featbin:\\\r\n",
      "${KALDI_ROOT}/src/fgmmbin:\\\r\n",
      "${KALDI_ROOT}/src/fstbin:\\\r\n",
      "${KALDI_ROOT}/src/gmmbin:\\\r\n",
      "${KALDI_ROOT}/src/ivectorbin:\\\r\n",
      "${KALDI_ROOT}/src/kwsbin:\\\r\n",
      "${KALDI_ROOT}/src/latbin:\\\r\n",
      "${KALDI_ROOT}/src/lmbin:\\\r\n",
      "${KALDI_ROOT}/src/nnet2bin:\\\r\n",
      "${KALDI_ROOT}/src/nnet3bin:\\\r\n",
      "${KALDI_ROOT}/src/nnetbin:\\\r\n",
      "${KALDI_ROOT}/src/online2bin:\\\r\n",
      "${KALDI_ROOT}/src/onlinebin:\\\r\n",
      "${KALDI_ROOT}/src/rnnlmbin:\\\r\n",
      "${KALDI_ROOT}/src/sgmm2bin:\\\r\n",
      "${KALDI_ROOT}/src/sgmmbin:\\\r\n",
      "${KALDI_ROOT}/src/tfrnnlmbin:\\\r\n",
      "${KALDI_ROOT}/src/cudadecoderbin:\\\r\n",
      "$PATH\r\n"
     ]
    }
   ],
   "source": [
    "!cat $KALDI_ROOT/tools/config/common_path.sh"
   ]
  },
  {
   "cell_type": "code",
   "execution_count": 18,
   "id": "thick-trial",
   "metadata": {
    "execution": {
     "iopub.execute_input": "2021-06-23T08:01:10.628116Z",
     "iopub.status.busy": "2021-06-23T08:01:10.627502Z",
     "iopub.status.idle": "2021-06-23T08:01:10.651823Z",
     "shell.execute_reply": "2021-06-23T08:01:10.652351Z",
     "shell.execute_reply.started": "2021-06-22T11:56:52.862746Z"
    },
    "papermill": {
     "duration": 0.0701,
     "end_time": "2021-06-23T08:01:10.652544",
     "exception": false,
     "start_time": "2021-06-23T08:01:10.582444",
     "status": "completed"
    },
    "tags": []
   },
   "outputs": [],
   "source": [
    "#kaldi_paths=!cat $KALDI_ROOT/tools/config/common_path.sh|grep '/src/'|awk -F':' '{print $1}'|awk -F'/' '{print $NF}'|tr '\\n' ':'\n",
    "raw_kaldi_paths=!cat $KALDI_ROOT/tools/config/common_path.sh|grep '/src/'|awk -F':' '{print $1}'|awk -F'/' '{print \"/opt/kaldi/src/\"$NF}'"
   ]
  },
  {
   "cell_type": "code",
   "execution_count": 19,
   "id": "single-poland",
   "metadata": {
    "execution": {
     "iopub.execute_input": "2021-06-23T08:01:10.737832Z",
     "iopub.status.busy": "2021-06-23T08:01:10.737253Z",
     "iopub.status.idle": "2021-06-23T08:01:10.739978Z",
     "shell.execute_reply": "2021-06-23T08:01:10.739542Z",
     "shell.execute_reply.started": "2021-06-22T12:02:21.567242Z"
    },
    "papermill": {
     "duration": 0.047382,
     "end_time": "2021-06-23T08:01:10.740130",
     "exception": false,
     "start_time": "2021-06-23T08:01:10.692748",
     "status": "completed"
    },
    "tags": []
   },
   "outputs": [],
   "source": [
    "KALDI_PATHS=raw_kaldi_paths.nlstr.replace('\\n',':')"
   ]
  },
  {
   "cell_type": "code",
   "execution_count": 20,
   "id": "existing-clear",
   "metadata": {
    "execution": {
     "iopub.execute_input": "2021-06-23T08:01:10.828549Z",
     "iopub.status.busy": "2021-06-23T08:01:10.827827Z",
     "iopub.status.idle": "2021-06-23T08:01:11.539188Z",
     "shell.execute_reply": "2021-06-23T08:01:11.538644Z",
     "shell.execute_reply.started": "2021-06-22T11:56:58.4537Z"
    },
    "papermill": {
     "duration": 0.759202,
     "end_time": "2021-06-23T08:01:11.539337",
     "exception": false,
     "start_time": "2021-06-23T08:01:10.780135",
     "status": "completed"
    },
    "tags": []
   },
   "outputs": [
    {
     "name": "stdout",
     "output_type": "stream",
     "text": [
      "export PATH=/opt/kaldi/tools/python:${PATH}\r\n",
      "export PHONETISAURUS=\"/tmp/output/opt/kaldi/tools/phonetisaurus-g2p\"\r\n",
      "export PATH=\"$PATH:${PHONETISAURUS}:${PHONETISAURUS}/src/scripts\"\r\n"
     ]
    }
   ],
   "source": [
    "!cat $KALDI_ROOT/tools/env.sh"
   ]
  },
  {
   "cell_type": "code",
   "execution_count": 21,
   "id": "logical-atlantic",
   "metadata": {
    "execution": {
     "iopub.execute_input": "2021-06-23T08:01:11.624789Z",
     "iopub.status.busy": "2021-06-23T08:01:11.624082Z",
     "iopub.status.idle": "2021-06-23T08:01:11.627001Z",
     "shell.execute_reply": "2021-06-23T08:01:11.626504Z",
     "shell.execute_reply.started": "2021-06-22T12:02:09.80754Z"
    },
    "papermill": {
     "duration": 0.047494,
     "end_time": "2021-06-23T08:01:11.627145",
     "exception": false,
     "start_time": "2021-06-23T08:01:11.579651",
     "status": "completed"
    },
    "tags": []
   },
   "outputs": [],
   "source": [
    "PHONETISAURUS = \"/tmp/output/opt/kaldi/tools/phonetisaurus-g2p\"\n",
    "TOOLS_PATH = f'/opt/kaldi/tools/python:{PHONETISAURUS}:{PHONETISAURUS}/src/scripts'"
   ]
  },
  {
   "cell_type": "code",
   "execution_count": 22,
   "id": "swiss-replacement",
   "metadata": {
    "execution": {
     "iopub.execute_input": "2021-06-23T08:01:11.713388Z",
     "iopub.status.busy": "2021-06-23T08:01:11.712721Z",
     "iopub.status.idle": "2021-06-23T08:01:11.716840Z",
     "shell.execute_reply": "2021-06-23T08:01:11.716235Z",
     "shell.execute_reply.started": "2021-06-22T12:03:04.119662Z"
    },
    "papermill": {
     "duration": 0.049173,
     "end_time": "2021-06-23T08:01:11.716979",
     "exception": false,
     "start_time": "2021-06-23T08:01:11.667806",
     "status": "completed"
    },
    "tags": []
   },
   "outputs": [
    {
     "name": "stdout",
     "output_type": "stream",
     "text": [
      "env: PATH=f\"/opt/kaldi/egs/usels/s5/utils/:/opt/kaldi/tools/openfst/bin:/opt/kaldi/egs/usels/s5:/opt/conda/bin:/usr/local/sbin:/usr/local/bin:/usr/sbin:/usr/bin:/sbin:/bin:/opt/kaldi/src/bin:/opt/kaldi/src/chainbin:/opt/kaldi/src/featbin:/opt/kaldi/src/fgmmbin:/opt/kaldi/src/fstbin:/opt/kaldi/src/gmmbin:/opt/kaldi/src/ivectorbin:/opt/kaldi/src/kwsbin:/opt/kaldi/src/latbin:/opt/kaldi/src/lmbin:/opt/kaldi/src/nnet2bin:/opt/kaldi/src/nnet3bin:/opt/kaldi/src/nnetbin:/opt/kaldi/src/online2bin:/opt/kaldi/src/onlinebin:/opt/kaldi/src/rnnlmbin:/opt/kaldi/src/sgmm2bin:/opt/kaldi/src/sgmmbin:/opt/kaldi/src/tfrnnlmbin:/opt/kaldi/src/cudadecoderbin:/opt/kaldi/tools/python:/tmp/output/opt/kaldi/tools/phonetisaurus-g2p:/tmp/output/opt/kaldi/tools/phonetisaurus-g2p/src/scripts\"\n"
     ]
    }
   ],
   "source": [
    "%env PATH = f\"{WSJ_PATH}:{KALDI_PATHS}:{TOOLS_PATH}\""
   ]
  },
  {
   "cell_type": "code",
   "execution_count": 23,
   "id": "preceding-relations",
   "metadata": {
    "execution": {
     "iopub.execute_input": "2021-06-23T08:01:11.807632Z",
     "iopub.status.busy": "2021-06-23T08:01:11.806654Z",
     "iopub.status.idle": "2021-06-23T08:01:12.545245Z",
     "shell.execute_reply": "2021-06-23T08:01:12.544657Z",
     "shell.execute_reply.started": "2021-06-22T12:16:15.76424Z"
    },
    "papermill": {
     "duration": 0.787594,
     "end_time": "2021-06-23T08:01:12.545408",
     "exception": false,
     "start_time": "2021-06-23T08:01:11.757814",
     "status": "completed"
    },
    "tags": []
   },
   "outputs": [
    {
     "name": "stdout",
     "output_type": "stream",
     "text": [
      "# you can change cmd.sh depending on what type of queue you are using.\r\n",
      "# If you have no queueing system and want to run on a local machine, you\r\n",
      "# can change all instances 'queue.pl' to run.pl (but be careful and run\r\n",
      "# commands one by one: most recipes will exhaust the memory on your\r\n",
      "# machine).  queue.pl works with GridEngine (qsub).  slurm.pl works\r\n",
      "# with slurm.  Different queues are configured differently, with different\r\n",
      "# queue names and different ways of specifying things like memory;\r\n",
      "# to account for these differences you can create and edit the file\r\n",
      "# conf/queue.conf to match your queue's configuration.  Search for\r\n",
      "# conf/queue.conf in http://kaldi-asr.org/doc/queue.html for more information,\r\n",
      "# or search for the string 'default_config' in utils/queue.pl or utils/slurm.pl.\r\n",
      "\r\n",
      "export train_cmd=queue.pl\r\n",
      "export decode_cmd=\"queue.pl --mem 2G\"\r\n",
      "# the use of cuda_cmd is deprecated, used only in 'nnet1',\r\n",
      "export cuda_cmd=\"queue.pl --gpu 1\"\r\n",
      "\r\n",
      "if [ \"$(hostname -d)\" == \"fit.vutbr.cz\" ]; then\r\n",
      "  queue_conf=$HOME/queue_conf/default.conf # see example /homes/kazi/iveselyk/queue_conf/default.conf,\r\n",
      "  export train_cmd=\"queue.pl --config $queue_conf --mem 2G --matylda 0.2\"\r\n",
      "  export decode_cmd=\"queue.pl --config $queue_conf --mem 3G --matylda 0.1\"\r\n",
      "  export cuda_cmd=\"queue.pl --config $queue_conf --gpu 1 --mem 10G --tmp 40G\"\r\n",
      "fi\r\n"
     ]
    }
   ],
   "source": [
    "!cat ../../wsj/s5/cmd.sh"
   ]
  },
  {
   "cell_type": "code",
   "execution_count": 24,
   "id": "sensitive-tomorrow",
   "metadata": {
    "execution": {
     "iopub.execute_input": "2021-06-23T08:01:12.634279Z",
     "iopub.status.busy": "2021-06-23T08:01:12.633442Z",
     "iopub.status.idle": "2021-06-23T08:01:12.637328Z",
     "shell.execute_reply": "2021-06-23T08:01:12.636674Z",
     "shell.execute_reply.started": "2021-06-22T12:25:36.054695Z"
    },
    "papermill": {
     "duration": 0.051137,
     "end_time": "2021-06-23T08:01:12.637470",
     "exception": false,
     "start_time": "2021-06-23T08:01:12.586333",
     "status": "completed"
    },
    "tags": []
   },
   "outputs": [
    {
     "name": "stdout",
     "output_type": "stream",
     "text": [
      "env: train_cmd=run.pl\n",
      "env: decode_cmd=run.pl\n"
     ]
    }
   ],
   "source": [
    "%env train_cmd=run.pl\n",
    "%env decode_cmd=run.pl"
   ]
  },
  {
   "cell_type": "code",
   "execution_count": 25,
   "id": "unauthorized-moderator",
   "metadata": {
    "execution": {
     "iopub.execute_input": "2021-06-23T08:01:12.733561Z",
     "iopub.status.busy": "2021-06-23T08:01:12.732889Z",
     "iopub.status.idle": "2021-06-23T08:01:15.590551Z",
     "shell.execute_reply": "2021-06-23T08:01:15.591005Z",
     "shell.execute_reply.started": "2021-06-22T12:25:39.332426Z"
    },
    "papermill": {
     "duration": 2.911818,
     "end_time": "2021-06-23T08:01:15.591200",
     "exception": false,
     "start_time": "2021-06-23T08:01:12.679382",
     "status": "completed"
    },
    "tags": []
   },
   "outputs": [],
   "source": [
    "!ln -s ../../wsj/s5/cmd.sh\n",
    "!ln -s ../../wsj/s5/path.sh\n",
    "!ln -s utils/queue.pl\n",
    "!ln -s utils/run.pl"
   ]
  },
  {
   "cell_type": "code",
   "execution_count": 26,
   "id": "enabling-tradition",
   "metadata": {
    "execution": {
     "iopub.execute_input": "2021-06-23T08:01:15.679919Z",
     "iopub.status.busy": "2021-06-23T08:01:15.676399Z",
     "iopub.status.idle": "2021-06-23T08:01:16.390333Z",
     "shell.execute_reply": "2021-06-23T08:01:16.389803Z",
     "shell.execute_reply.started": "2021-06-22T12:25:11.355403Z"
    },
    "papermill": {
     "duration": 0.759176,
     "end_time": "2021-06-23T08:01:16.390478",
     "exception": false,
     "start_time": "2021-06-23T08:01:15.631302",
     "status": "completed"
    },
    "tags": []
   },
   "outputs": [],
   "source": [
    "!rm *.pl"
   ]
  },
  {
   "cell_type": "markdown",
   "id": "welsh-positive",
   "metadata": {
    "papermill": {
     "duration": 0.040537,
     "end_time": "2021-06-23T08:01:16.472054",
     "exception": false,
     "start_time": "2021-06-23T08:01:16.431517",
     "status": "completed"
    },
    "tags": []
   },
   "source": [
    "## Data prep"
   ]
  },
  {
   "cell_type": "code",
   "execution_count": 27,
   "id": "coordinated-worst",
   "metadata": {
    "execution": {
     "iopub.execute_input": "2021-06-23T08:01:16.563819Z",
     "iopub.status.busy": "2021-06-23T08:01:16.563173Z",
     "iopub.status.idle": "2021-06-23T08:01:29.197369Z",
     "shell.execute_reply": "2021-06-23T08:01:29.197858Z",
     "shell.execute_reply.started": "2021-06-22T12:10:48.153674Z"
    },
    "papermill": {
     "duration": 12.685444,
     "end_time": "2021-06-23T08:01:29.198044",
     "exception": false,
     "start_time": "2021-06-23T08:01:16.512600",
     "status": "completed"
    },
    "tags": []
   },
   "outputs": [
    {
     "name": "stdout",
     "output_type": "stream",
     "text": [
      "utils/validate_data_dir.sh: Successfully validated data-directory data/test-other\r\n",
      "local/data_prep.sh: successfully prepared data in data/test-other\r\n",
      "utils/validate_data_dir.sh: Successfully validated data-directory data/test-clean\r\n",
      "local/data_prep.sh: successfully prepared data in data/test-clean\r\n"
     ]
    }
   ],
   "source": [
    "!local/data_prep.sh /kaggle/input/librispeech-test-clean-and-other/LibriSpeech/test-other data/test-other\n",
    "!local/data_prep.sh /kaggle/input/librispeech-test-clean-and-other/LibriSpeech/test-clean data/test-clean"
   ]
  },
  {
   "cell_type": "code",
   "execution_count": 28,
   "id": "balanced-activation",
   "metadata": {
    "execution": {
     "iopub.execute_input": "2021-06-23T08:01:29.292564Z",
     "iopub.status.busy": "2021-06-23T08:01:29.288409Z",
     "iopub.status.idle": "2021-06-23T08:01:31.313403Z",
     "shell.execute_reply": "2021-06-23T08:01:31.312827Z",
     "shell.execute_reply.started": "2021-06-22T12:12:48.716774Z"
    },
    "papermill": {
     "duration": 2.073323,
     "end_time": "2021-06-23T08:01:31.313555",
     "exception": false,
     "start_time": "2021-06-23T08:01:29.240232",
     "status": "completed"
    },
    "tags": []
   },
   "outputs": [
    {
     "name": "stdout",
     "output_type": "stream",
     "text": [
      "utils/copy_data_dir.sh: copied data from data/test-clean to data/test-clean_hires\r\n",
      "utils/validate_data_dir.sh: Successfully validated data-directory data/test-clean_hires\r\n",
      "utils/copy_data_dir.sh: copied data from data/test-other to data/test-other_hires\r\n",
      "utils/validate_data_dir.sh: Successfully validated data-directory data/test-other_hires\r\n"
     ]
    }
   ],
   "source": [
    "!utils/copy_data_dir.sh data/test-clean data/test-clean_hires\n",
    "!utils/copy_data_dir.sh data/test-other data/test-other_hires"
   ]
  },
  {
   "cell_type": "code",
   "execution_count": 29,
   "id": "prescribed-agreement",
   "metadata": {
    "execution": {
     "iopub.execute_input": "2021-06-23T08:01:31.410119Z",
     "iopub.status.busy": "2021-06-23T08:01:31.405728Z",
     "iopub.status.idle": "2021-06-23T08:01:32.133587Z",
     "shell.execute_reply": "2021-06-23T08:01:32.133031Z",
     "shell.execute_reply.started": "2021-06-22T12:20:32.826362Z"
    },
    "papermill": {
     "duration": 0.777223,
     "end_time": "2021-06-23T08:01:32.133734",
     "exception": false,
     "start_time": "2021-06-23T08:01:31.356511",
     "status": "completed"
    },
    "tags": []
   },
   "outputs": [],
   "source": [
    "!ln -s utils/parse_options.sh"
   ]
  },
  {
   "cell_type": "code",
   "execution_count": 30,
   "id": "compound-communist",
   "metadata": {
    "execution": {
     "iopub.execute_input": "2021-06-23T08:01:32.236946Z",
     "iopub.status.busy": "2021-06-23T08:01:32.236280Z",
     "iopub.status.idle": "2021-06-23T08:02:58.828899Z",
     "shell.execute_reply": "2021-06-23T08:02:58.828323Z",
     "shell.execute_reply.started": "2021-06-22T12:25:44.313451Z"
    },
    "papermill": {
     "duration": 86.651773,
     "end_time": "2021-06-23T08:02:58.829179",
     "exception": false,
     "start_time": "2021-06-23T08:01:32.177406",
     "status": "completed"
    },
    "tags": []
   },
   "outputs": [
    {
     "name": "stdout",
     "output_type": "stream",
     "text": [
      "steps/make_mfcc.sh --nj 20 --mfcc-config conf/mfcc_hires.conf --cmd run.pl data/test-clean_hires\r\n",
      "utils/validate_data_dir.sh: Successfully validated data-directory data/test-clean_hires\r\n",
      "steps/make_mfcc.sh: [info]: no segments file exists: assuming wav.scp indexed by utterance.\r\n",
      "steps/make_mfcc.sh: Succeeded creating MFCC features for test-clean_hires\r\n",
      "steps/compute_cmvn_stats.sh data/test-clean_hires\r\n",
      "Succeeded creating CMVN stats for test-clean_hires\r\n",
      "fix_data_dir.sh: kept all 2620 utterances.\r\n",
      "fix_data_dir.sh: old files are kept in data/test-clean_hires/.backup\r\n",
      "steps/make_mfcc.sh --nj 20 --mfcc-config conf/mfcc_hires.conf --cmd run.pl data/test-other_hires\r\n",
      "utils/validate_data_dir.sh: Successfully validated data-directory data/test-other_hires\r\n",
      "steps/make_mfcc.sh: [info]: no segments file exists: assuming wav.scp indexed by utterance.\r\n",
      "steps/make_mfcc.sh: Succeeded creating MFCC features for test-other_hires\r\n",
      "steps/compute_cmvn_stats.sh data/test-other_hires\r\n",
      "Succeeded creating CMVN stats for test-other_hires\r\n",
      "fix_data_dir.sh: kept all 2939 utterances.\r\n",
      "fix_data_dir.sh: old files are kept in data/test-other_hires/.backup\r\n"
     ]
    }
   ],
   "source": [
    "!steps/make_mfcc.sh --nj 20 --mfcc-config conf/mfcc_hires.conf --cmd \"$train_cmd\" data/test-clean_hires\n",
    "!steps/compute_cmvn_stats.sh data/test-clean_hires\n",
    "!utils/fix_data_dir.sh data/test-clean_hires\n",
    "!steps/make_mfcc.sh --nj 20 --mfcc-config conf/mfcc_hires.conf --cmd \"$train_cmd\" data/test-other_hires\n",
    "!steps/compute_cmvn_stats.sh data/test-other_hires\n",
    "!utils/fix_data_dir.sh data/test-other_hires\n"
   ]
  },
  {
   "cell_type": "markdown",
   "id": "institutional-biography",
   "metadata": {
    "papermill": {
     "duration": 0.048605,
     "end_time": "2021-06-23T08:02:58.925218",
     "exception": false,
     "start_time": "2021-06-23T08:02:58.876613",
     "status": "completed"
    },
    "tags": []
   },
   "source": [
    "## Extract i-vectors"
   ]
  },
  {
   "cell_type": "code",
   "execution_count": 31,
   "id": "selected-captain",
   "metadata": {
    "execution": {
     "iopub.execute_input": "2021-06-23T08:02:59.031248Z",
     "iopub.status.busy": "2021-06-23T08:02:59.027157Z",
     "iopub.status.idle": "2021-06-23T08:03:00.454856Z",
     "shell.execute_reply": "2021-06-23T08:03:00.455405Z",
     "shell.execute_reply.started": "2021-06-22T12:38:42.072847Z"
    },
    "papermill": {
     "duration": 1.483289,
     "end_time": "2021-06-23T08:03:00.455581",
     "exception": false,
     "start_time": "2021-06-23T08:02:58.972292",
     "status": "completed"
    },
    "tags": []
   },
   "outputs": [],
   "source": [
    "!ln -s /kaggle/input/kaldi-librispeech-model/exp/nnet3_cleaned/ exp/nnet3_cleaned\n",
    "!ln -s /kaggle/input/kaldi-librispeech-model/exp/chain_cleaned/ exp/chain_cleaned"
   ]
  },
  {
   "cell_type": "code",
   "execution_count": 32,
   "id": "progressive-belle",
   "metadata": {
    "execution": {
     "iopub.execute_input": "2021-06-23T08:03:00.556378Z",
     "iopub.status.busy": "2021-06-23T08:03:00.555390Z",
     "iopub.status.idle": "2021-06-23T08:04:11.928950Z",
     "shell.execute_reply": "2021-06-23T08:04:11.928264Z",
     "shell.execute_reply.started": "2021-06-22T12:44:16.329652Z"
    },
    "papermill": {
     "duration": 71.425528,
     "end_time": "2021-06-23T08:04:11.929117",
     "exception": false,
     "start_time": "2021-06-23T08:03:00.503589",
     "status": "completed"
    },
    "tags": []
   },
   "outputs": [
    {
     "name": "stdout",
     "output_type": "stream",
     "text": [
      "env: nspk=$(wc -l <data/test-clean_hires/spk2utt)\n",
      "steps/online/nnet2/extract_ivectors_online.sh --cmd run.pl --nj $(wc -l <data/test-clean_hires/spk2utt) data/test-clean_hires exp/nnet3_cleaned/extractor exp/nnet3_cleaned_out/ivectors_test-clean_hires\r\n",
      "steps/online/nnet2/extract_ivectors_online.sh: extracting iVectors\r\n",
      "steps/online/nnet2/extract_ivectors_online.sh: combining iVectors across jobs\r\n",
      "steps/online/nnet2/extract_ivectors_online.sh: done extracting (online) iVectors to exp/nnet3_cleaned_out/ivectors_test-clean_hires using the extractor in exp/nnet3_cleaned/extractor.\r\n",
      "env: nspk=$(wc -l <data/test-other_hires/spk2utt)\n",
      "steps/online/nnet2/extract_ivectors_online.sh --cmd run.pl --nj $(wc -l <data/test-other_hires/spk2utt) data/test-other_hires exp/nnet3_cleaned/extractor exp/nnet3_cleaned_out/ivectors_test-other_hires\r\n",
      "steps/online/nnet2/extract_ivectors_online.sh: extracting iVectors\r\n",
      "steps/online/nnet2/extract_ivectors_online.sh: combining iVectors across jobs\r\n",
      "steps/online/nnet2/extract_ivectors_online.sh: done extracting (online) iVectors to exp/nnet3_cleaned_out/ivectors_test-other_hires using the extractor in exp/nnet3_cleaned/extractor.\r\n"
     ]
    }
   ],
   "source": [
    "%env nspk=$(wc -l <data/test-clean_hires/spk2utt)\n",
    "!steps/online/nnet2/extract_ivectors_online.sh --cmd \"$train_cmd\" --nj \"${nspk}\" data/test-clean_hires exp/nnet3_cleaned/extractor exp/nnet3_cleaned_out/ivectors_test-clean_hires\n",
    "%env nspk=$(wc -l <data/test-other_hires/spk2utt)\n",
    "!steps/online/nnet2/extract_ivectors_online.sh --cmd \"$train_cmd\" --nj \"${nspk}\" data/test-other_hires exp/nnet3_cleaned/extractor exp/nnet3_cleaned_out/ivectors_test-other_hires"
   ]
  },
  {
   "cell_type": "markdown",
   "id": "automatic-outline",
   "metadata": {
    "papermill": {
     "duration": 0.051052,
     "end_time": "2021-06-23T08:04:12.032544",
     "exception": false,
     "start_time": "2021-06-23T08:04:11.981492",
     "status": "completed"
    },
    "tags": []
   },
   "source": [
    "## Build decoding graph"
   ]
  },
  {
   "cell_type": "markdown",
   "id": "casual-missouri",
   "metadata": {
    "papermill": {
     "duration": 0.050601,
     "end_time": "2021-06-23T08:04:12.134254",
     "exception": false,
     "start_time": "2021-06-23T08:04:12.083653",
     "status": "completed"
    },
    "tags": []
   },
   "source": [
    "Just linking this directory won't work, as it expects to be able to write to it (Kaldi scripts, smh)"
   ]
  },
  {
   "cell_type": "code",
   "execution_count": 33,
   "id": "north-digit",
   "metadata": {
    "execution": {
     "iopub.execute_input": "2021-06-23T08:04:12.244233Z",
     "iopub.status.busy": "2021-06-23T08:04:12.243591Z",
     "iopub.status.idle": "2021-06-23T08:04:14.394751Z",
     "shell.execute_reply": "2021-06-23T08:04:14.394225Z"
    },
    "papermill": {
     "duration": 2.210309,
     "end_time": "2021-06-23T08:04:14.394908",
     "exception": false,
     "start_time": "2021-06-23T08:04:12.184599",
     "status": "completed"
    },
    "tags": []
   },
   "outputs": [],
   "source": [
    "!cp -r /kaggle/input/kaldi-librispeech-model/data/lang_test_tgsmall data"
   ]
  },
  {
   "cell_type": "code",
   "execution_count": 34,
   "id": "small-disco",
   "metadata": {
    "execution": {
     "iopub.execute_input": "2021-06-23T08:04:14.505139Z",
     "iopub.status.busy": "2021-06-23T08:04:14.504516Z",
     "iopub.status.idle": "2021-06-23T08:07:18.731304Z",
     "shell.execute_reply": "2021-06-23T08:07:18.730649Z"
    },
    "papermill": {
     "duration": 184.285673,
     "end_time": "2021-06-23T08:07:18.731495",
     "exception": false,
     "start_time": "2021-06-23T08:04:14.445822",
     "status": "completed"
    },
    "tags": []
   },
   "outputs": [
    {
     "name": "stdout",
     "output_type": "stream",
     "text": [
      "env: tdnndir=exp/chain_cleaned/tdnn_1d_sp\n",
      "env: graph_dir=exp/chain_cleaned_out/graph_tgsmall\n",
      "tree-info exp/chain_cleaned/tdnn_1d_sp/tree \r\n",
      "tree-info exp/chain_cleaned/tdnn_1d_sp/tree \r\n",
      "fstpushspecial \r\n",
      "fstdeterminizestar --use-log=true \r\n",
      "fstminimizeencoded \r\n",
      "fsttablecompose data/lang_test_tgsmall/L_disambig.fst data/lang_test_tgsmall/G.fst \r\n",
      "fstisstochastic data/lang_test_tgsmall/tmp/LG.fst \r\n",
      "-0.0459745 -0.0466771\r\n",
      "[info]: LG not stochastic.\r\n",
      "fstcomposecontext --context-size=2 --central-position=1 --read-disambig-syms=data/lang_test_tgsmall/phones/disambig.int --write-disambig-syms=data/lang_test_tgsmall/tmp/disambig_ilabels_2_1.int data/lang_test_tgsmall/tmp/ilabels_2_1.113735 data/lang_test_tgsmall/tmp/LG.fst \r\n",
      "fstisstochastic data/lang_test_tgsmall/tmp/CLG_2_1.fst \r\n",
      "-0.0459745 -0.0466771\r\n",
      "[info]: CLG not stochastic.\r\n",
      "make-h-transducer --disambig-syms-out=exp/chain_cleaned_out/graph_tgsmall/disambig_tid.int --transition-scale=1.0 data/lang_test_tgsmall/tmp/ilabels_2_1 exp/chain_cleaned/tdnn_1d_sp/tree exp/chain_cleaned/tdnn_1d_sp/final.mdl \r\n",
      "fsttablecompose exp/chain_cleaned_out/graph_tgsmall/Ha.fst 'fstrmsymbols --remove-arcs=true --apply-to-output=true data/lang_test_tgsmall/oov.int data/lang_test_tgsmall/tmp/CLG_2_1.fst|' \r\n",
      "fstrmsymbols exp/chain_cleaned_out/graph_tgsmall/disambig_tid.int \r\n",
      "fstdeterminizestar --use-log=true \r\n",
      "fstrmepslocal \r\n",
      "fstminimizeencoded \r\n",
      "fstrmsymbols --remove-arcs=true --apply-to-output=true data/lang_test_tgsmall/oov.int data/lang_test_tgsmall/tmp/CLG_2_1.fst \r\n",
      "fstisstochastic exp/chain_cleaned_out/graph_tgsmall/HCLGa.fst \r\n",
      "3.39453 -0.209239\r\n",
      "HCLGa is not stochastic\r\n",
      "add-self-loops --self-loop-scale=1.0 --reorder=true exp/chain_cleaned/tdnn_1d_sp/final.mdl exp/chain_cleaned_out/graph_tgsmall/HCLGa.fst \r\n",
      "fstisstochastic exp/chain_cleaned_out/graph_tgsmall/HCLG.fst \r\n",
      "3.05078 -0.127788\r\n",
      "[info]: final HCLG is not stochastic.\r\n"
     ]
    }
   ],
   "source": [
    "%env tdnndir=exp/chain_cleaned/tdnn_1d_sp\n",
    "%env graph_dir=exp/chain_cleaned_out/graph_tgsmall\n",
    "!utils/mkgraph.sh --self-loop-scale 1.0 --remove-oov data/lang_test_tgsmall $tdnndir $graph_dir"
   ]
  },
  {
   "cell_type": "markdown",
   "id": "photographic-guest",
   "metadata": {
    "papermill": {
     "duration": 0.054034,
     "end_time": "2021-06-23T08:07:18.839845",
     "exception": false,
     "start_time": "2021-06-23T08:07:18.785811",
     "status": "completed"
    },
    "tags": []
   },
   "source": [
    "## Decode"
   ]
  },
  {
   "cell_type": "code",
   "execution_count": 35,
   "id": "human-thermal",
   "metadata": {
    "execution": {
     "iopub.execute_input": "2021-06-23T08:07:18.962111Z",
     "iopub.status.busy": "2021-06-23T08:07:18.957573Z",
     "iopub.status.idle": "2021-06-23T08:07:20.414758Z",
     "shell.execute_reply": "2021-06-23T08:07:20.413721Z"
    },
    "papermill": {
     "duration": 1.521102,
     "end_time": "2021-06-23T08:07:20.414967",
     "exception": false,
     "start_time": "2021-06-23T08:07:18.893865",
     "status": "completed"
    },
    "tags": []
   },
   "outputs": [
    {
     "name": "stdout",
     "output_type": "stream",
     "text": [
      "/kaggle/working/exp/tdnn_1d_sp\n",
      "/opt/kaldi/egs/usels/s5\n",
      "popd -> /opt/kaldi/egs/usels/s5\n"
     ]
    }
   ],
   "source": [
    "!mkdir exp/tdnn_1d_sp\n",
    "%pushd exp/tdnn_1d_sp\n",
    "!for i in /kaggle/input/kaldi-librispeech-model/exp/chain_cleaned/tdnn_1d_sp/*;do ln -s $i;done\n",
    "%popd"
   ]
  },
  {
   "cell_type": "code",
   "execution_count": 36,
   "id": "silver-silicon",
   "metadata": {
    "execution": {
     "iopub.execute_input": "2021-06-23T08:07:20.541028Z",
     "iopub.status.busy": "2021-06-23T08:07:20.540173Z",
     "iopub.status.idle": "2021-06-23T09:10:22.508157Z",
     "shell.execute_reply": "2021-06-23T09:10:22.507443Z"
    },
    "papermill": {
     "duration": 3782.037109,
     "end_time": "2021-06-23T09:10:22.508330",
     "exception": false,
     "start_time": "2021-06-23T08:07:20.471221",
     "status": "completed"
    },
    "tags": []
   },
   "outputs": [
    {
     "name": "stdout",
     "output_type": "stream",
     "text": [
      "env: tdnndir=exp/tdnn_1d_sp\n",
      "steps/nnet3/decode.sh --acwt 1.0 --post-decode-acwt 10.0 --nj 8 --cmd run.pl --online-ivector-dir exp/nnet3_cleaned_out/ivectors_test-clean_hires exp/chain_cleaned_out/graph_tgsmall data/test-clean_hires exp/tdnn_1d_sp/decode_test-clean_tgsmall\r\n",
      "steps/nnet3/decode.sh: feature type is raw\r\n",
      "steps/diagnostic/analyze_lats.sh --cmd run.pl --iter final exp/chain_cleaned_out/graph_tgsmall exp/tdnn_1d_sp/decode_test-clean_tgsmall\r\n",
      "steps/diagnostic/analyze_lats.sh: see stats in exp/tdnn_1d_sp/decode_test-clean_tgsmall/log/analyze_alignments.log\r\n",
      "Overall, lattice depth (10,50,90-percentile)=(1,2,5) and mean=2.8\r\n",
      "steps/diagnostic/analyze_lats.sh: see stats in exp/tdnn_1d_sp/decode_test-clean_tgsmall/log/analyze_lattice_depth_stats.log\r\n",
      "score best paths\r\n",
      "score confidence and timing with sclite\r\n",
      "Decoding done.\r\n",
      "steps/nnet3/decode.sh --acwt 1.0 --post-decode-acwt 10.0 --nj 8 --cmd run.pl --online-ivector-dir exp/nnet3_cleaned_out/ivectors_test-other_hires exp/chain_cleaned_out/graph_tgsmall data/test-other_hires exp/tdnn_1d_sp/decode_test-other_tgsmall\r\n",
      "steps/nnet3/decode.sh: feature type is raw\r\n",
      "steps/diagnostic/analyze_lats.sh --cmd run.pl --iter final exp/chain_cleaned_out/graph_tgsmall exp/tdnn_1d_sp/decode_test-other_tgsmall\r\n",
      "steps/diagnostic/analyze_lats.sh: see stats in exp/tdnn_1d_sp/decode_test-other_tgsmall/log/analyze_alignments.log\r\n",
      "Overall, lattice depth (10,50,90-percentile)=(1,3,13) and mean=6.3\r\n",
      "steps/diagnostic/analyze_lats.sh: see stats in exp/tdnn_1d_sp/decode_test-other_tgsmall/log/analyze_lattice_depth_stats.log\r\n",
      "score best paths\r\n",
      "score confidence and timing with sclite\r\n",
      "Decoding done.\r\n"
     ]
    }
   ],
   "source": [
    "%env tdnndir=exp/tdnn_1d_sp\n",
    "!steps/nnet3/decode.sh --acwt 1.0 --post-decode-acwt 10.0 --nj 8 --cmd \"$decode_cmd\" --online-ivector-dir exp/nnet3_cleaned_out/ivectors_test-clean_hires $graph_dir data/test-clean_hires $tdnndir/decode_test-clean_tgsmall\n",
    "!steps/nnet3/decode.sh --acwt 1.0 --post-decode-acwt 10.0 --nj 8 --cmd \"$decode_cmd\" --online-ivector-dir exp/nnet3_cleaned_out/ivectors_test-other_hires $graph_dir data/test-other_hires $tdnndir/decode_test-other_tgsmall"
   ]
  },
  {
   "cell_type": "markdown",
   "id": "concerned-sigma",
   "metadata": {
    "papermill": {
     "duration": 0.063077,
     "end_time": "2021-06-23T09:10:22.633000",
     "exception": false,
     "start_time": "2021-06-23T09:10:22.569923",
     "status": "completed"
    },
    "tags": []
   },
   "source": [
    "## Score"
   ]
  },
  {
   "cell_type": "code",
   "execution_count": 37,
   "id": "junior-skirt",
   "metadata": {
    "execution": {
     "iopub.execute_input": "2021-06-23T09:10:22.760454Z",
     "iopub.status.busy": "2021-06-23T09:10:22.759775Z",
     "iopub.status.idle": "2021-06-23T09:12:41.886620Z",
     "shell.execute_reply": "2021-06-23T09:12:41.886015Z"
    },
    "papermill": {
     "duration": 139.191223,
     "end_time": "2021-06-23T09:12:41.886793",
     "exception": false,
     "start_time": "2021-06-23T09:10:22.695570",
     "status": "completed"
    },
    "tags": []
   },
   "outputs": [
    {
     "name": "stdout",
     "output_type": "stream",
     "text": [
      "steps/score_kaldi.sh --cmd run.pl data/test-clean_hires exp/chain_cleaned_out/graph_tgsmall exp/tdnn_1d_sp/decode_test-clean_tgsmall\r\n",
      "steps/score_kaldi.sh: scoring with word insertion penalty=0.0,0.5,1.0\r\n",
      "steps/score_kaldi.sh --cmd run.pl data/test-other_hires exp/chain_cleaned_out/graph_tgsmall exp/tdnn_1d_sp/decode_test-other_tgsmall\r\n",
      "steps/score_kaldi.sh: scoring with word insertion penalty=0.0,0.5,1.0\r\n"
     ]
    }
   ],
   "source": [
    "!steps/score_kaldi.sh --cmd \"run.pl\" data/test-clean_hires $graph_dir $tdnndir/decode_test-clean_tgsmall\n",
    "!steps/score_kaldi.sh --cmd \"run.pl\" data/test-other_hires $graph_dir $tdnndir/decode_test-other_tgsmall"
   ]
  },
  {
   "cell_type": "code",
   "execution_count": 38,
   "id": "equal-malawi",
   "metadata": {
    "execution": {
     "iopub.execute_input": "2021-06-23T09:12:42.103658Z",
     "iopub.status.busy": "2021-06-23T09:12:42.099872Z",
     "iopub.status.idle": "2021-06-23T09:12:43.557421Z",
     "shell.execute_reply": "2021-06-23T09:12:43.557930Z"
    },
    "papermill": {
     "duration": 1.526621,
     "end_time": "2021-06-23T09:12:43.558132",
     "exception": false,
     "start_time": "2021-06-23T09:12:42.031511",
     "status": "completed"
    },
    "tags": []
   },
   "outputs": [
    {
     "name": "stdout",
     "output_type": "stream",
     "text": [
      "%WER 7.13 [ 3747 / 52576, 648 ins, 242 del, 2857 sub ] exp/tdnn_1d_sp/decode_test-clean_tgsmall/wer_17_0.5\r\n",
      "%WER 17.92 [ 9378 / 52343, 1384 ins, 723 del, 7271 sub ] exp/tdnn_1d_sp/decode_test-other_tgsmall/wer_17_1.0\r\n"
     ]
    }
   ],
   "source": [
    "!cat exp/tdnn_1d_sp/decode_test-clean_tgsmall/scoring_kaldi/best_wer\n",
    "!cat exp/tdnn_1d_sp/decode_test-other_tgsmall/scoring_kaldi/best_wer"
   ]
  },
  {
   "cell_type": "markdown",
   "id": "statewide-destruction",
   "metadata": {
    "papermill": {
     "duration": 0.063143,
     "end_time": "2021-06-23T09:12:43.684003",
     "exception": false,
     "start_time": "2021-06-23T09:12:43.620860",
     "status": "completed"
    },
    "tags": []
   },
   "source": [
    "## Rescoring"
   ]
  },
  {
   "cell_type": "code",
   "execution_count": 39,
   "id": "metropolitan-working",
   "metadata": {
    "execution": {
     "iopub.execute_input": "2021-06-23T09:12:43.819828Z",
     "iopub.status.busy": "2021-06-23T09:12:43.815802Z",
     "iopub.status.idle": "2021-06-23T09:12:44.544040Z",
     "shell.execute_reply": "2021-06-23T09:12:44.543502Z"
    },
    "papermill": {
     "duration": 0.797505,
     "end_time": "2021-06-23T09:12:44.544205",
     "exception": false,
     "start_time": "2021-06-23T09:12:43.746700",
     "status": "completed"
    },
    "tags": []
   },
   "outputs": [
    {
     "name": "stdout",
     "output_type": "stream",
     "text": [
      "cp: cannot stat '/kaldi/input/kaldi-librispeech-model/exp/rnnlm_lstm_1a/': No such file or directory\r\n"
     ]
    }
   ],
   "source": [
    "!cp -r /kaldi/input/kaldi-librispeech-model/exp/rnnlm_lstm_1a/ exp"
   ]
  },
  {
   "cell_type": "code",
   "execution_count": 40,
   "id": "molecular-consumption",
   "metadata": {
    "execution": {
     "iopub.execute_input": "2021-06-23T09:12:44.679886Z",
     "iopub.status.busy": "2021-06-23T09:12:44.679253Z",
     "iopub.status.idle": "2021-06-23T09:12:45.396315Z",
     "shell.execute_reply": "2021-06-23T09:12:45.395578Z"
    },
    "papermill": {
     "duration": 0.78907,
     "end_time": "2021-06-23T09:12:45.396479",
     "exception": false,
     "start_time": "2021-06-23T09:12:44.607409",
     "status": "completed"
    },
    "tags": []
   },
   "outputs": [],
   "source": [
    "!ln -s /opt/kaldi/scripts/rnnlm"
   ]
  },
  {
   "cell_type": "code",
   "execution_count": 41,
   "id": "wicked-combination",
   "metadata": {
    "execution": {
     "iopub.execute_input": "2021-06-23T09:12:45.544681Z",
     "iopub.status.busy": "2021-06-23T09:12:45.539676Z",
     "iopub.status.idle": "2021-06-23T09:12:47.001703Z",
     "shell.execute_reply": "2021-06-23T09:12:47.000904Z"
    },
    "papermill": {
     "duration": 1.540432,
     "end_time": "2021-06-23T09:12:47.001849",
     "exception": false,
     "start_time": "2021-06-23T09:12:45.461417",
     "status": "completed"
    },
    "tags": []
   },
   "outputs": [
    {
     "name": "stdout",
     "output_type": "stream",
     "text": [
      "env: decode_dir=$tdnndir/decode_test-clean_tgsmall\n",
      "rnnlm/lmrescore_pruned.sh --cmd run.pl --weight 0.45 --max-ngram-order 4 data/lang_test_tgsmall exp/rnnlm_lstm_1a data/test-clean_hires $tdnndir/decode_test-clean_tgsmall exp/tdnn_1d_sp/decode_test-clean_rescore\r\n",
      "rnnlm/lmrescore_pruned.sh: Missing file exp/rnnlm_lstm_1a/final.raw\r\n",
      "env: decode_dir=$tdnndir/decode_test-other_tgsmall\n",
      "rnnlm/lmrescore_pruned.sh --cmd run.pl --weight 0.45 --max-ngram-order 4 data/lang_test_tgsmall exp/rnnlm_lstm_1a data/test-other_hires $tdnndir/decode_test-other_tgsmall exp/tdnn_1d_sp/decode_test-other_rescore\r\n",
      "rnnlm/lmrescore_pruned.sh: Missing file exp/rnnlm_lstm_1a/final.raw\r\n"
     ]
    }
   ],
   "source": [
    "%env decode_dir=$tdnndir/decode_test-clean_tgsmall\n",
    "!rnnlm/lmrescore_pruned.sh --cmd \"$decode_cmd\" --weight 0.45 --max-ngram-order 4 data/lang_test_tgsmall exp/rnnlm_lstm_1a data/test-clean_hires ${decode_dir} $tdnndir/decode_test-clean_rescore\n",
    "%env decode_dir=$tdnndir/decode_test-other_tgsmall\n",
    "!rnnlm/lmrescore_pruned.sh --cmd \"$decode_cmd\" --weight 0.45 --max-ngram-order 4 data/lang_test_tgsmall exp/rnnlm_lstm_1a data/test-other_hires ${decode_dir} $tdnndir/decode_test-other_rescore"
   ]
  },
  {
   "cell_type": "code",
   "execution_count": 42,
   "id": "concrete-digit",
   "metadata": {
    "execution": {
     "iopub.execute_input": "2021-06-23T09:12:47.141769Z",
     "iopub.status.busy": "2021-06-23T09:12:47.141120Z",
     "iopub.status.idle": "2021-06-23T09:12:48.651368Z",
     "shell.execute_reply": "2021-06-23T09:12:48.651994Z"
    },
    "papermill": {
     "duration": 1.584942,
     "end_time": "2021-06-23T09:12:48.652449",
     "exception": false,
     "start_time": "2021-06-23T09:12:47.067507",
     "status": "completed"
    },
    "tags": []
   },
   "outputs": [
    {
     "name": "stdout",
     "output_type": "stream",
     "text": [
      "cat: exp/tdnn_1d_sp/decode_test-clean_rescore/scoring_kaldi/best_wer: No such file or directory\r\n",
      "cat: exp/tdnn_1d_sp/decode_test-other_rescore/scoring_kaldi/best_wer: No such file or directory\r\n"
     ]
    }
   ],
   "source": [
    "!cat $tdnndir/decode_test-clean_rescore/scoring_kaldi/best_wer\n",
    "!cat $tdnndir/decode_test-other_rescore/scoring_kaldi/best_wer"
   ]
  },
  {
   "cell_type": "markdown",
   "id": "preliminary-improvement",
   "metadata": {
    "papermill": {
     "duration": 0.134795,
     "end_time": "2021-06-23T09:12:48.954750",
     "exception": false,
     "start_time": "2021-06-23T09:12:48.819955",
     "status": "completed"
    },
    "tags": []
   },
   "source": [
    "## "
   ]
  }
 ],
 "metadata": {
  "kernelspec": {
   "display_name": "Python 3",
   "language": "python",
   "name": "python3"
  },
  "language_info": {
   "codemirror_mode": {
    "name": "ipython",
    "version": 3
   },
   "file_extension": ".py",
   "mimetype": "text/x-python",
   "name": "python",
   "nbconvert_exporter": "python",
   "pygments_lexer": "ipython3",
   "version": "3.7.10"
  },
  "papermill": {
   "default_parameters": {},
   "duration": 4405.968432,
   "end_time": "2021-06-23T09:12:49.924001",
   "environment_variables": {},
   "exception": null,
   "input_path": "__notebook__.ipynb",
   "output_path": "__notebook__.ipynb",
   "parameters": {},
   "start_time": "2021-06-23T07:59:23.955569",
   "version": "2.3.3"
  }
 },
 "nbformat": 4,
 "nbformat_minor": 5
}
