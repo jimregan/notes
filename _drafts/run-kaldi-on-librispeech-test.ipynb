{
 "cells": [
  {
   "cell_type": "markdown",
   "id": "logical-speaking",
   "metadata": {
    "papermill": {
     "duration": 0.03873,
     "end_time": "2021-06-23T09:33:29.325604",
     "exception": false,
     "start_time": "2021-06-23T09:33:29.286874",
     "status": "completed"
    },
    "tags": []
   },
   "source": [
    "## Unpack Kaldi"
   ]
  },
  {
   "cell_type": "code",
   "execution_count": 1,
   "id": "pleasant-ceramic",
   "metadata": {
    "_cell_guid": "b1076dfc-b9ad-4769-8c92-a6c4dae69d19",
    "_uuid": "8f2839f25d086af736a60e9eeb907d3b93b6e0e5",
    "execution": {
     "iopub.execute_input": "2021-06-23T09:33:29.410960Z",
     "iopub.status.busy": "2021-06-23T09:33:29.410297Z",
     "iopub.status.idle": "2021-06-23T09:33:29.415974Z",
     "shell.execute_reply": "2021-06-23T09:33:29.416797Z",
     "shell.execute_reply.started": "2021-06-22T11:54:50.153353Z"
    },
    "papermill": {
     "duration": 0.054456,
     "end_time": "2021-06-23T09:33:29.417207",
     "exception": false,
     "start_time": "2021-06-23T09:33:29.362751",
     "status": "completed"
    },
    "tags": []
   },
   "outputs": [
    {
     "name": "stdout",
     "output_type": "stream",
     "text": [
      "/opt\n"
     ]
    }
   ],
   "source": [
    "%cd /opt"
   ]
  },
  {
   "cell_type": "code",
   "execution_count": 2,
   "id": "brave-library",
   "metadata": {
    "execution": {
     "iopub.execute_input": "2021-06-23T09:33:29.510548Z",
     "iopub.status.busy": "2021-06-23T09:33:29.499885Z",
     "iopub.status.idle": "2021-06-23T09:34:12.961591Z",
     "shell.execute_reply": "2021-06-23T09:34:12.962182Z",
     "shell.execute_reply.started": "2021-06-22T11:54:53.255442Z"
    },
    "papermill": {
     "duration": 43.506476,
     "end_time": "2021-06-23T09:34:12.962441",
     "exception": false,
     "start_time": "2021-06-23T09:33:29.455965",
     "status": "completed"
    },
    "tags": []
   },
   "outputs": [],
   "source": [
    "%%capture\n",
    "!tar xvf /kaggle/input/extract-prebuilt-kaldi-from-docker/kaldi.tar"
   ]
  },
  {
   "cell_type": "code",
   "execution_count": 3,
   "id": "classical-benjamin",
   "metadata": {
    "execution": {
     "iopub.execute_input": "2021-06-23T09:34:13.053332Z",
     "iopub.status.busy": "2021-06-23T09:34:13.052329Z",
     "iopub.status.idle": "2021-06-23T09:34:13.054614Z",
     "shell.execute_reply": "2021-06-23T09:34:13.055226Z",
     "shell.execute_reply.started": "2021-06-22T11:55:40.60018Z"
    },
    "papermill": {
     "duration": 0.046702,
     "end_time": "2021-06-23T09:34:13.055410",
     "exception": false,
     "start_time": "2021-06-23T09:34:13.008708",
     "status": "completed"
    },
    "tags": []
   },
   "outputs": [],
   "source": [
    "import os\n",
    "os.environ['LD_LIBRARY_PATH'] = '/opt/conda/lib:/opt/kaldi/tools/openfst-1.6.7/lib:/opt/kaldi/src/lib:'\n",
    "EXISTING_PATH = os.environ['PATH']"
   ]
  },
  {
   "cell_type": "code",
   "execution_count": 4,
   "id": "heard-indonesian",
   "metadata": {
    "execution": {
     "iopub.execute_input": "2021-06-23T09:34:13.135730Z",
     "iopub.status.busy": "2021-06-23T09:34:13.134799Z",
     "iopub.status.idle": "2021-06-23T09:34:13.143597Z",
     "shell.execute_reply": "2021-06-23T09:34:13.143049Z"
    },
    "papermill": {
     "duration": 0.05042,
     "end_time": "2021-06-23T09:34:13.143750",
     "exception": false,
     "start_time": "2021-06-23T09:34:13.093330",
     "status": "completed"
    },
    "tags": []
   },
   "outputs": [
    {
     "name": "stdout",
     "output_type": "stream",
     "text": [
      "/\n"
     ]
    }
   ],
   "source": [
    "%cd /\n"
   ]
  },
  {
   "cell_type": "code",
   "execution_count": 5,
   "id": "primary-pizza",
   "metadata": {
    "execution": {
     "iopub.execute_input": "2021-06-23T09:34:13.229148Z",
     "iopub.status.busy": "2021-06-23T09:34:13.228449Z",
     "iopub.status.idle": "2021-06-23T09:34:50.496931Z",
     "shell.execute_reply": "2021-06-23T09:34:50.496389Z"
    },
    "papermill": {
     "duration": 37.3149,
     "end_time": "2021-06-23T09:34:50.497084",
     "exception": false,
     "start_time": "2021-06-23T09:34:13.182184",
     "status": "completed"
    },
    "tags": []
   },
   "outputs": [],
   "source": [
    "%%capture\n",
    "!tar xvf /kaggle/input/extract-cuda-from-kaldi-docker/cuda.tar"
   ]
  },
  {
   "cell_type": "code",
   "execution_count": 6,
   "id": "phantom-transcription",
   "metadata": {
    "execution": {
     "iopub.execute_input": "2021-06-23T09:35:00.913360Z",
     "iopub.status.busy": "2021-06-23T09:35:00.912712Z",
     "iopub.status.idle": "2021-06-23T09:35:00.916479Z",
     "shell.execute_reply": "2021-06-23T09:35:00.915855Z",
     "shell.execute_reply.started": "2021-06-22T13:29:47.085695Z"
    },
    "papermill": {
     "duration": 0.046407,
     "end_time": "2021-06-23T09:35:00.916614",
     "exception": false,
     "start_time": "2021-06-23T09:35:00.870207",
     "status": "completed"
    },
    "tags": []
   },
   "outputs": [],
   "source": [
    "import os\n",
    "os.environ['LD_LIBRARY_PATH'] = f'{os.environ[\"LD_LIBRARY_PATH\"]}:/usr/local/cuda-10.0/targets/x86_64-linux/lib/'"
   ]
  },
  {
   "cell_type": "code",
   "execution_count": 7,
   "id": "round-chance",
   "metadata": {
    "execution": {
     "iopub.execute_input": "2021-06-23T09:35:00.994498Z",
     "iopub.status.busy": "2021-06-23T09:35:00.993876Z",
     "iopub.status.idle": "2021-06-23T09:35:01.001690Z",
     "shell.execute_reply": "2021-06-23T09:35:01.000953Z",
     "shell.execute_reply.started": "2021-06-22T11:55:40.610869Z"
    },
    "papermill": {
     "duration": 0.047874,
     "end_time": "2021-06-23T09:35:01.001940",
     "exception": false,
     "start_time": "2021-06-23T09:35:00.954066",
     "status": "completed"
    },
    "tags": []
   },
   "outputs": [
    {
     "name": "stdout",
     "output_type": "stream",
     "text": [
      "/opt/kaldi/egs\n"
     ]
    }
   ],
   "source": [
    "%cd /opt/kaldi/egs"
   ]
  },
  {
   "cell_type": "markdown",
   "id": "enclosed-disclosure",
   "metadata": {
    "papermill": {
     "duration": 0.038467,
     "end_time": "2021-06-23T09:35:01.078753",
     "exception": false,
     "start_time": "2021-06-23T09:35:01.040286",
     "status": "completed"
    },
    "tags": []
   },
   "source": [
    "## Install flac"
   ]
  },
  {
   "cell_type": "code",
   "execution_count": 8,
   "id": "stone-vinyl",
   "metadata": {
    "execution": {
     "iopub.execute_input": "2021-06-23T09:35:01.165348Z",
     "iopub.status.busy": "2021-06-23T09:35:01.161428Z",
     "iopub.status.idle": "2021-06-23T09:35:06.305548Z",
     "shell.execute_reply": "2021-06-23T09:35:06.306106Z",
     "shell.execute_reply.started": "2021-06-22T12:06:36.222984Z"
    },
    "papermill": {
     "duration": 5.188547,
     "end_time": "2021-06-23T09:35:06.306315",
     "exception": false,
     "start_time": "2021-06-23T09:35:01.117768",
     "status": "completed"
    },
    "tags": []
   },
   "outputs": [],
   "source": [
    "%%capture\n",
    "!apt install -y flac"
   ]
  },
  {
   "cell_type": "markdown",
   "id": "million-surfing",
   "metadata": {
    "papermill": {
     "duration": 0.037923,
     "end_time": "2021-06-23T09:35:06.382638",
     "exception": false,
     "start_time": "2021-06-23T09:35:06.344715",
     "status": "completed"
    },
    "tags": []
   },
   "source": [
    "## Create a work directory"
   ]
  },
  {
   "cell_type": "code",
   "execution_count": 9,
   "id": "distinguished-miami",
   "metadata": {
    "execution": {
     "iopub.execute_input": "2021-06-23T09:35:06.468851Z",
     "iopub.status.busy": "2021-06-23T09:35:06.465306Z",
     "iopub.status.idle": "2021-06-23T09:35:07.197892Z",
     "shell.execute_reply": "2021-06-23T09:35:07.197085Z",
     "shell.execute_reply.started": "2021-06-22T11:55:40.659251Z"
    },
    "papermill": {
     "duration": 0.777115,
     "end_time": "2021-06-23T09:35:07.198111",
     "exception": false,
     "start_time": "2021-06-23T09:35:06.420996",
     "status": "completed"
    },
    "tags": []
   },
   "outputs": [
    {
     "name": "stdout",
     "output_type": "stream",
     "text": [
      "/opt/kaldi/egs/usels/s5\n"
     ]
    }
   ],
   "source": [
    "!mkdir -p usels/s5\n",
    "%cd usels/s5"
   ]
  },
  {
   "cell_type": "code",
   "execution_count": 10,
   "id": "resistant-aluminum",
   "metadata": {
    "execution": {
     "iopub.execute_input": "2021-06-23T09:35:07.288600Z",
     "iopub.status.busy": "2021-06-23T09:35:07.283990Z",
     "iopub.status.idle": "2021-06-23T09:35:10.208114Z",
     "shell.execute_reply": "2021-06-23T09:35:10.207370Z",
     "shell.execute_reply.started": "2021-06-22T12:08:43.066673Z"
    },
    "papermill": {
     "duration": 2.970749,
     "end_time": "2021-06-23T09:35:10.208275",
     "exception": false,
     "start_time": "2021-06-23T09:35:07.237526",
     "status": "completed"
    },
    "tags": []
   },
   "outputs": [],
   "source": [
    "!mkdir /kaggle/working/data\n",
    "!mkdir /kaggle/working/exp\n",
    "!ln -s /kaggle/working/data\n",
    "!ln -s /kaggle/working/exp"
   ]
  },
  {
   "cell_type": "code",
   "execution_count": 11,
   "id": "included-reputation",
   "metadata": {
    "execution": {
     "iopub.execute_input": "2021-06-23T09:35:10.294209Z",
     "iopub.status.busy": "2021-06-23T09:35:10.293573Z",
     "iopub.status.idle": "2021-06-23T09:35:12.465626Z",
     "shell.execute_reply": "2021-06-23T09:35:12.464954Z",
     "shell.execute_reply.started": "2021-06-22T11:55:41.459018Z"
    },
    "papermill": {
     "duration": 2.21859,
     "end_time": "2021-06-23T09:35:12.465767",
     "exception": false,
     "start_time": "2021-06-23T09:35:10.247177",
     "status": "completed"
    },
    "tags": []
   },
   "outputs": [],
   "source": [
    "!ln -s ../../wsj/s5/steps\n",
    "!ln -s ../../wsj/s5/utils\n",
    "!ln -s ../../librispeech/s5/local"
   ]
  },
  {
   "cell_type": "code",
   "execution_count": 12,
   "id": "seven-thing",
   "metadata": {
    "execution": {
     "iopub.execute_input": "2021-06-23T09:35:12.553299Z",
     "iopub.status.busy": "2021-06-23T09:35:12.552567Z",
     "iopub.status.idle": "2021-06-23T09:35:13.277019Z",
     "shell.execute_reply": "2021-06-23T09:35:13.276433Z",
     "shell.execute_reply.started": "2021-06-22T11:55:43.77028Z"
    },
    "papermill": {
     "duration": 0.772765,
     "end_time": "2021-06-23T09:35:13.277160",
     "exception": false,
     "start_time": "2021-06-23T09:35:12.504395",
     "status": "completed"
    },
    "tags": []
   },
   "outputs": [],
   "source": [
    "!mkdir conf"
   ]
  },
  {
   "cell_type": "code",
   "execution_count": 13,
   "id": "affected-ambassador",
   "metadata": {
    "execution": {
     "iopub.execute_input": "2021-06-23T09:35:13.361344Z",
     "iopub.status.busy": "2021-06-23T09:35:13.360368Z",
     "iopub.status.idle": "2021-06-23T09:35:13.365134Z",
     "shell.execute_reply": "2021-06-23T09:35:13.364603Z",
     "shell.execute_reply.started": "2021-06-22T11:55:44.555875Z"
    },
    "papermill": {
     "duration": 0.049852,
     "end_time": "2021-06-23T09:35:13.365268",
     "exception": false,
     "start_time": "2021-06-23T09:35:13.315416",
     "status": "completed"
    },
    "tags": []
   },
   "outputs": [
    {
     "name": "stdout",
     "output_type": "stream",
     "text": [
      "Writing conf/mfcc_hires.conf\n"
     ]
    }
   ],
   "source": [
    "%%writefile conf/mfcc_hires.conf\n",
    "# config for high-resolution MFCC features, intended for neural network training\n",
    "# Note: we keep all cepstra, so it has the same info as filterbank features,\n",
    "# but MFCC is more easily compressible (because less correlated) which is why \n",
    "# we prefer this method.\n",
    "--use-energy=false   # use average of log energy, not energy.\n",
    "--num-mel-bins=40     # similar to Google's setup.\n",
    "--num-ceps=40     # there is no dimensionality reduction.\n",
    "--low-freq=20     # low cutoff frequency for mel bins... this is high-bandwidth data, so\n",
    "                  # there might be some information at the low end.\n",
    "--high-freq=-400 # high cutoff frequently, relative to Nyquist of 8000 (=7600)"
   ]
  },
  {
   "cell_type": "markdown",
   "id": "studied-measure",
   "metadata": {
    "papermill": {
     "duration": 0.037895,
     "end_time": "2021-06-23T09:35:13.441420",
     "exception": false,
     "start_time": "2021-06-23T09:35:13.403525",
     "status": "completed"
    },
    "tags": []
   },
   "source": [
    "## Setting up paths\n",
    "\n",
    "(In the scripts, you just source `path.sh`)"
   ]
  },
  {
   "cell_type": "code",
   "execution_count": 14,
   "id": "stylish-exclusive",
   "metadata": {
    "execution": {
     "iopub.execute_input": "2021-06-23T09:35:13.523563Z",
     "iopub.status.busy": "2021-06-23T09:35:13.522943Z",
     "iopub.status.idle": "2021-06-23T09:35:13.527194Z",
     "shell.execute_reply": "2021-06-23T09:35:13.526632Z",
     "shell.execute_reply.started": "2021-06-22T11:55:44.565547Z"
    },
    "papermill": {
     "duration": 0.047835,
     "end_time": "2021-06-23T09:35:13.527336",
     "exception": false,
     "start_time": "2021-06-23T09:35:13.479501",
     "status": "completed"
    },
    "tags": []
   },
   "outputs": [
    {
     "name": "stdout",
     "output_type": "stream",
     "text": [
      "env: KALDI_ROOT=/opt/kaldi\n"
     ]
    }
   ],
   "source": [
    "%env KALDI_ROOT=/opt/kaldi"
   ]
  },
  {
   "cell_type": "code",
   "execution_count": 15,
   "id": "tribal-aircraft",
   "metadata": {
    "execution": {
     "iopub.execute_input": "2021-06-23T09:35:13.614719Z",
     "iopub.status.busy": "2021-06-23T09:35:13.610346Z",
     "iopub.status.idle": "2021-06-23T09:35:14.341455Z",
     "shell.execute_reply": "2021-06-23T09:35:14.340889Z",
     "shell.execute_reply.started": "2021-06-22T11:55:44.577705Z"
    },
    "papermill": {
     "duration": 0.7747,
     "end_time": "2021-06-23T09:35:14.341592",
     "exception": false,
     "start_time": "2021-06-23T09:35:13.566892",
     "status": "completed"
    },
    "tags": []
   },
   "outputs": [
    {
     "name": "stdout",
     "output_type": "stream",
     "text": [
      "export KALDI_ROOT=`pwd`/../../..\r\n",
      "[ -f $KALDI_ROOT/tools/env.sh ] && . $KALDI_ROOT/tools/env.sh\r\n",
      "export PATH=$PWD/utils/:$KALDI_ROOT/tools/openfst/bin:$PWD:$PATH\r\n",
      "[ ! -f $KALDI_ROOT/tools/config/common_path.sh ] && echo >&2 \"The standard file $KALDI_ROOT/tools/config/common_path.sh is not present -> Exit!\" && exit 1\r\n",
      ". $KALDI_ROOT/tools/config/common_path.sh\r\n",
      "export LC_ALL=C\r\n"
     ]
    }
   ],
   "source": [
    "!cat ../../wsj/s5/path.sh"
   ]
  },
  {
   "cell_type": "code",
   "execution_count": 16,
   "id": "medium-paper",
   "metadata": {
    "execution": {
     "iopub.execute_input": "2021-06-23T09:35:14.426410Z",
     "iopub.status.busy": "2021-06-23T09:35:14.425752Z",
     "iopub.status.idle": "2021-06-23T09:35:14.430345Z",
     "shell.execute_reply": "2021-06-23T09:35:14.429697Z",
     "shell.execute_reply.started": "2021-06-22T12:00:36.247262Z"
    },
    "papermill": {
     "duration": 0.049902,
     "end_time": "2021-06-23T09:35:14.430489",
     "exception": false,
     "start_time": "2021-06-23T09:35:14.380587",
     "status": "completed"
    },
    "tags": []
   },
   "outputs": [
    {
     "name": "stdout",
     "output_type": "stream",
     "text": [
      "env: LC_ALL=C\n"
     ]
    }
   ],
   "source": [
    "%env LC_ALL=C\n",
    "#PWD = !pwd\n",
    "PWD = '/opt/kaldi/egs/usels/s5'\n",
    "KALDI_ROOT = '/opt/kaldi'\n",
    "WSJ_PATH = f'{PWD}/utils/:{KALDI_ROOT}/tools/openfst/bin:{PWD}:{EXISTING_PATH}'"
   ]
  },
  {
   "cell_type": "code",
   "execution_count": 17,
   "id": "democratic-milan",
   "metadata": {
    "execution": {
     "iopub.execute_input": "2021-06-23T09:35:14.519327Z",
     "iopub.status.busy": "2021-06-23T09:35:14.514562Z",
     "iopub.status.idle": "2021-06-23T09:35:15.236697Z",
     "shell.execute_reply": "2021-06-23T09:35:15.236020Z",
     "shell.execute_reply.started": "2021-06-22T11:57:02.231388Z"
    },
    "papermill": {
     "duration": 0.767018,
     "end_time": "2021-06-23T09:35:15.236840",
     "exception": false,
     "start_time": "2021-06-23T09:35:14.469822",
     "status": "completed"
    },
    "tags": []
   },
   "outputs": [
    {
     "name": "stdout",
     "output_type": "stream",
     "text": [
      "# we assume KALDI_ROOT is already defined\r\n",
      "[ -z \"$KALDI_ROOT\" ] && echo >&2 \"The variable KALDI_ROOT must be already defined\" && exit 1\r\n",
      "# The formatting of the path export command is intentionally weird, because\r\n",
      "# this allows for easy diff'ing\r\n",
      "export PATH=\\\r\n",
      "${KALDI_ROOT}/src/bin:\\\r\n",
      "${KALDI_ROOT}/src/chainbin:\\\r\n",
      "${KALDI_ROOT}/src/featbin:\\\r\n",
      "${KALDI_ROOT}/src/fgmmbin:\\\r\n",
      "${KALDI_ROOT}/src/fstbin:\\\r\n",
      "${KALDI_ROOT}/src/gmmbin:\\\r\n",
      "${KALDI_ROOT}/src/ivectorbin:\\\r\n",
      "${KALDI_ROOT}/src/kwsbin:\\\r\n",
      "${KALDI_ROOT}/src/latbin:\\\r\n",
      "${KALDI_ROOT}/src/lmbin:\\\r\n",
      "${KALDI_ROOT}/src/nnet2bin:\\\r\n",
      "${KALDI_ROOT}/src/nnet3bin:\\\r\n",
      "${KALDI_ROOT}/src/nnetbin:\\\r\n",
      "${KALDI_ROOT}/src/online2bin:\\\r\n",
      "${KALDI_ROOT}/src/onlinebin:\\\r\n",
      "${KALDI_ROOT}/src/rnnlmbin:\\\r\n",
      "${KALDI_ROOT}/src/sgmm2bin:\\\r\n",
      "${KALDI_ROOT}/src/sgmmbin:\\\r\n",
      "${KALDI_ROOT}/src/tfrnnlmbin:\\\r\n",
      "${KALDI_ROOT}/src/cudadecoderbin:\\\r\n",
      "$PATH\r\n"
     ]
    }
   ],
   "source": [
    "!cat $KALDI_ROOT/tools/config/common_path.sh"
   ]
  },
  {
   "cell_type": "code",
   "execution_count": 18,
   "id": "basic-stack",
   "metadata": {
    "execution": {
     "iopub.execute_input": "2021-06-23T09:35:15.322529Z",
     "iopub.status.busy": "2021-06-23T09:35:15.321891Z",
     "iopub.status.idle": "2021-06-23T09:35:15.346735Z",
     "shell.execute_reply": "2021-06-23T09:35:15.346189Z",
     "shell.execute_reply.started": "2021-06-22T11:56:52.862746Z"
    },
    "papermill": {
     "duration": 0.069917,
     "end_time": "2021-06-23T09:35:15.346888",
     "exception": false,
     "start_time": "2021-06-23T09:35:15.276971",
     "status": "completed"
    },
    "tags": []
   },
   "outputs": [],
   "source": [
    "#kaldi_paths=!cat $KALDI_ROOT/tools/config/common_path.sh|grep '/src/'|awk -F':' '{print $1}'|awk -F'/' '{print $NF}'|tr '\\n' ':'\n",
    "raw_kaldi_paths=!cat $KALDI_ROOT/tools/config/common_path.sh|grep '/src/'|awk -F':' '{print $1}'|awk -F'/' '{print \"/opt/kaldi/src/\"$NF}'"
   ]
  },
  {
   "cell_type": "code",
   "execution_count": 19,
   "id": "therapeutic-destruction",
   "metadata": {
    "execution": {
     "iopub.execute_input": "2021-06-23T09:35:15.429615Z",
     "iopub.status.busy": "2021-06-23T09:35:15.429045Z",
     "iopub.status.idle": "2021-06-23T09:35:15.433129Z",
     "shell.execute_reply": "2021-06-23T09:35:15.433587Z",
     "shell.execute_reply.started": "2021-06-22T12:02:21.567242Z"
    },
    "papermill": {
     "duration": 0.04725,
     "end_time": "2021-06-23T09:35:15.433747",
     "exception": false,
     "start_time": "2021-06-23T09:35:15.386497",
     "status": "completed"
    },
    "tags": []
   },
   "outputs": [],
   "source": [
    "KALDI_PATHS=raw_kaldi_paths.nlstr.replace('\\n',':')"
   ]
  },
  {
   "cell_type": "code",
   "execution_count": 20,
   "id": "excellent-circus",
   "metadata": {
    "execution": {
     "iopub.execute_input": "2021-06-23T09:35:15.516138Z",
     "iopub.status.busy": "2021-06-23T09:35:15.515496Z",
     "iopub.status.idle": "2021-06-23T09:35:16.274642Z",
     "shell.execute_reply": "2021-06-23T09:35:16.275413Z",
     "shell.execute_reply.started": "2021-06-22T11:56:58.4537Z"
    },
    "papermill": {
     "duration": 0.802633,
     "end_time": "2021-06-23T09:35:16.275662",
     "exception": false,
     "start_time": "2021-06-23T09:35:15.473029",
     "status": "completed"
    },
    "tags": []
   },
   "outputs": [
    {
     "name": "stdout",
     "output_type": "stream",
     "text": [
      "export PATH=/opt/kaldi/tools/python:${PATH}\r\n",
      "export PHONETISAURUS=\"/tmp/output/opt/kaldi/tools/phonetisaurus-g2p\"\r\n",
      "export PATH=\"$PATH:${PHONETISAURUS}:${PHONETISAURUS}/src/scripts\"\r\n"
     ]
    }
   ],
   "source": [
    "!cat $KALDI_ROOT/tools/env.sh"
   ]
  },
  {
   "cell_type": "code",
   "execution_count": 21,
   "id": "chicken-wealth",
   "metadata": {
    "execution": {
     "iopub.execute_input": "2021-06-23T09:35:16.366836Z",
     "iopub.status.busy": "2021-06-23T09:35:16.365888Z",
     "iopub.status.idle": "2021-06-23T09:35:16.370568Z",
     "shell.execute_reply": "2021-06-23T09:35:16.371257Z",
     "shell.execute_reply.started": "2021-06-22T12:02:09.80754Z"
    },
    "papermill": {
     "duration": 0.050103,
     "end_time": "2021-06-23T09:35:16.371458",
     "exception": false,
     "start_time": "2021-06-23T09:35:16.321355",
     "status": "completed"
    },
    "tags": []
   },
   "outputs": [],
   "source": [
    "PHONETISAURUS = \"/tmp/output/opt/kaldi/tools/phonetisaurus-g2p\"\n",
    "TOOLS_PATH = f'/opt/kaldi/tools/python:{PHONETISAURUS}:{PHONETISAURUS}/src/scripts'"
   ]
  },
  {
   "cell_type": "code",
   "execution_count": 22,
   "id": "adolescent-occupation",
   "metadata": {
    "execution": {
     "iopub.execute_input": "2021-06-23T09:35:16.459253Z",
     "iopub.status.busy": "2021-06-23T09:35:16.458269Z",
     "iopub.status.idle": "2021-06-23T09:35:16.465559Z",
     "shell.execute_reply": "2021-06-23T09:35:16.466129Z",
     "shell.execute_reply.started": "2021-06-22T12:03:04.119662Z"
    },
    "papermill": {
     "duration": 0.052692,
     "end_time": "2021-06-23T09:35:16.466363",
     "exception": false,
     "start_time": "2021-06-23T09:35:16.413671",
     "status": "completed"
    },
    "tags": []
   },
   "outputs": [
    {
     "name": "stdout",
     "output_type": "stream",
     "text": [
      "env: PATH=f\"/opt/kaldi/egs/usels/s5/utils/:/opt/kaldi/tools/openfst/bin:/opt/kaldi/egs/usels/s5:/opt/conda/bin:/usr/local/sbin:/usr/local/bin:/usr/sbin:/usr/bin:/sbin:/bin:/opt/kaldi/src/bin:/opt/kaldi/src/chainbin:/opt/kaldi/src/featbin:/opt/kaldi/src/fgmmbin:/opt/kaldi/src/fstbin:/opt/kaldi/src/gmmbin:/opt/kaldi/src/ivectorbin:/opt/kaldi/src/kwsbin:/opt/kaldi/src/latbin:/opt/kaldi/src/lmbin:/opt/kaldi/src/nnet2bin:/opt/kaldi/src/nnet3bin:/opt/kaldi/src/nnetbin:/opt/kaldi/src/online2bin:/opt/kaldi/src/onlinebin:/opt/kaldi/src/rnnlmbin:/opt/kaldi/src/sgmm2bin:/opt/kaldi/src/sgmmbin:/opt/kaldi/src/tfrnnlmbin:/opt/kaldi/src/cudadecoderbin:/opt/kaldi/tools/python:/tmp/output/opt/kaldi/tools/phonetisaurus-g2p:/tmp/output/opt/kaldi/tools/phonetisaurus-g2p/src/scripts\"\n"
     ]
    }
   ],
   "source": [
    "%env PATH = f\"{WSJ_PATH}:{KALDI_PATHS}:{TOOLS_PATH}\""
   ]
  },
  {
   "cell_type": "code",
   "execution_count": 23,
   "id": "manual-character",
   "metadata": {
    "execution": {
     "iopub.execute_input": "2021-06-23T09:35:16.562148Z",
     "iopub.status.busy": "2021-06-23T09:35:16.555826Z",
     "iopub.status.idle": "2021-06-23T09:35:17.290907Z",
     "shell.execute_reply": "2021-06-23T09:35:17.290218Z",
     "shell.execute_reply.started": "2021-06-22T12:16:15.76424Z"
    },
    "papermill": {
     "duration": 0.781947,
     "end_time": "2021-06-23T09:35:17.291084",
     "exception": false,
     "start_time": "2021-06-23T09:35:16.509137",
     "status": "completed"
    },
    "tags": []
   },
   "outputs": [
    {
     "name": "stdout",
     "output_type": "stream",
     "text": [
      "# you can change cmd.sh depending on what type of queue you are using.\r\n",
      "# If you have no queueing system and want to run on a local machine, you\r\n",
      "# can change all instances 'queue.pl' to run.pl (but be careful and run\r\n",
      "# commands one by one: most recipes will exhaust the memory on your\r\n",
      "# machine).  queue.pl works with GridEngine (qsub).  slurm.pl works\r\n",
      "# with slurm.  Different queues are configured differently, with different\r\n",
      "# queue names and different ways of specifying things like memory;\r\n",
      "# to account for these differences you can create and edit the file\r\n",
      "# conf/queue.conf to match your queue's configuration.  Search for\r\n",
      "# conf/queue.conf in http://kaldi-asr.org/doc/queue.html for more information,\r\n",
      "# or search for the string 'default_config' in utils/queue.pl or utils/slurm.pl.\r\n",
      "\r\n",
      "export train_cmd=queue.pl\r\n",
      "export decode_cmd=\"queue.pl --mem 2G\"\r\n",
      "# the use of cuda_cmd is deprecated, used only in 'nnet1',\r\n",
      "export cuda_cmd=\"queue.pl --gpu 1\"\r\n",
      "\r\n",
      "if [ \"$(hostname -d)\" == \"fit.vutbr.cz\" ]; then\r\n",
      "  queue_conf=$HOME/queue_conf/default.conf # see example /homes/kazi/iveselyk/queue_conf/default.conf,\r\n",
      "  export train_cmd=\"queue.pl --config $queue_conf --mem 2G --matylda 0.2\"\r\n",
      "  export decode_cmd=\"queue.pl --config $queue_conf --mem 3G --matylda 0.1\"\r\n",
      "  export cuda_cmd=\"queue.pl --config $queue_conf --gpu 1 --mem 10G --tmp 40G\"\r\n",
      "fi\r\n"
     ]
    }
   ],
   "source": [
    "!cat ../../wsj/s5/cmd.sh"
   ]
  },
  {
   "cell_type": "code",
   "execution_count": 24,
   "id": "funky-sunrise",
   "metadata": {
    "execution": {
     "iopub.execute_input": "2021-06-23T09:35:17.381019Z",
     "iopub.status.busy": "2021-06-23T09:35:17.380179Z",
     "iopub.status.idle": "2021-06-23T09:35:17.383384Z",
     "shell.execute_reply": "2021-06-23T09:35:17.383908Z",
     "shell.execute_reply.started": "2021-06-22T12:25:36.054695Z"
    },
    "papermill": {
     "duration": 0.051833,
     "end_time": "2021-06-23T09:35:17.384146",
     "exception": false,
     "start_time": "2021-06-23T09:35:17.332313",
     "status": "completed"
    },
    "tags": []
   },
   "outputs": [
    {
     "name": "stdout",
     "output_type": "stream",
     "text": [
      "env: train_cmd=run.pl\n",
      "env: decode_cmd=run.pl\n"
     ]
    }
   ],
   "source": [
    "%env train_cmd=run.pl\n",
    "%env decode_cmd=run.pl"
   ]
  },
  {
   "cell_type": "code",
   "execution_count": 25,
   "id": "naughty-phenomenon",
   "metadata": {
    "execution": {
     "iopub.execute_input": "2021-06-23T09:35:17.479408Z",
     "iopub.status.busy": "2021-06-23T09:35:17.476273Z",
     "iopub.status.idle": "2021-06-23T09:35:20.393898Z",
     "shell.execute_reply": "2021-06-23T09:35:20.394458Z",
     "shell.execute_reply.started": "2021-06-22T12:25:39.332426Z"
    },
    "papermill": {
     "duration": 2.967943,
     "end_time": "2021-06-23T09:35:20.394705",
     "exception": false,
     "start_time": "2021-06-23T09:35:17.426762",
     "status": "completed"
    },
    "tags": []
   },
   "outputs": [],
   "source": [
    "!ln -s ../../wsj/s5/cmd.sh\n",
    "!ln -s ../../wsj/s5/path.sh\n",
    "!ln -s utils/queue.pl\n",
    "!ln -s utils/run.pl"
   ]
  },
  {
   "cell_type": "code",
   "execution_count": 26,
   "id": "balanced-style",
   "metadata": {
    "execution": {
     "iopub.execute_input": "2021-06-23T09:35:20.490764Z",
     "iopub.status.busy": "2021-06-23T09:35:20.490132Z",
     "iopub.status.idle": "2021-06-23T09:35:21.211828Z",
     "shell.execute_reply": "2021-06-23T09:35:21.211230Z",
     "shell.execute_reply.started": "2021-06-22T12:25:11.355403Z"
    },
    "papermill": {
     "duration": 0.775131,
     "end_time": "2021-06-23T09:35:21.212003",
     "exception": false,
     "start_time": "2021-06-23T09:35:20.436872",
     "status": "completed"
    },
    "tags": []
   },
   "outputs": [],
   "source": [
    "!rm *.pl"
   ]
  },
  {
   "cell_type": "markdown",
   "id": "ancient-victim",
   "metadata": {
    "papermill": {
     "duration": 0.042261,
     "end_time": "2021-06-23T09:35:21.296269",
     "exception": false,
     "start_time": "2021-06-23T09:35:21.254008",
     "status": "completed"
    },
    "tags": []
   },
   "source": [
    "## Data prep"
   ]
  },
  {
   "cell_type": "code",
   "execution_count": 27,
   "id": "amber-barrel",
   "metadata": {
    "execution": {
     "iopub.execute_input": "2021-06-23T09:35:21.391267Z",
     "iopub.status.busy": "2021-06-23T09:35:21.387570Z",
     "iopub.status.idle": "2021-06-23T09:35:35.470201Z",
     "shell.execute_reply": "2021-06-23T09:35:35.469665Z",
     "shell.execute_reply.started": "2021-06-22T12:10:48.153674Z"
    },
    "papermill": {
     "duration": 14.131871,
     "end_time": "2021-06-23T09:35:35.470358",
     "exception": false,
     "start_time": "2021-06-23T09:35:21.338487",
     "status": "completed"
    },
    "tags": []
   },
   "outputs": [
    {
     "name": "stdout",
     "output_type": "stream",
     "text": [
      "utils/validate_data_dir.sh: Successfully validated data-directory data/test-other\r\n",
      "local/data_prep.sh: successfully prepared data in data/test-other\r\n",
      "utils/validate_data_dir.sh: Successfully validated data-directory data/test-clean\r\n",
      "local/data_prep.sh: successfully prepared data in data/test-clean\r\n"
     ]
    }
   ],
   "source": [
    "!local/data_prep.sh /kaggle/input/librispeech-test-clean-and-other/LibriSpeech/test-other data/test-other\n",
    "!local/data_prep.sh /kaggle/input/librispeech-test-clean-and-other/LibriSpeech/test-clean data/test-clean"
   ]
  },
  {
   "cell_type": "code",
   "execution_count": 28,
   "id": "meaningful-curtis",
   "metadata": {
    "execution": {
     "iopub.execute_input": "2021-06-23T09:35:35.564895Z",
     "iopub.status.busy": "2021-06-23T09:35:35.560431Z",
     "iopub.status.idle": "2021-06-23T09:35:37.618893Z",
     "shell.execute_reply": "2021-06-23T09:35:37.618346Z",
     "shell.execute_reply.started": "2021-06-22T12:12:48.716774Z"
    },
    "papermill": {
     "duration": 2.106926,
     "end_time": "2021-06-23T09:35:37.619070",
     "exception": false,
     "start_time": "2021-06-23T09:35:35.512144",
     "status": "completed"
    },
    "tags": []
   },
   "outputs": [
    {
     "name": "stdout",
     "output_type": "stream",
     "text": [
      "utils/copy_data_dir.sh: copied data from data/test-clean to data/test-clean_hires\r\n",
      "utils/validate_data_dir.sh: Successfully validated data-directory data/test-clean_hires\r\n",
      "utils/copy_data_dir.sh: copied data from data/test-other to data/test-other_hires\r\n",
      "utils/validate_data_dir.sh: Successfully validated data-directory data/test-other_hires\r\n"
     ]
    }
   ],
   "source": [
    "!utils/copy_data_dir.sh data/test-clean data/test-clean_hires\n",
    "!utils/copy_data_dir.sh data/test-other data/test-other_hires"
   ]
  },
  {
   "cell_type": "code",
   "execution_count": 29,
   "id": "employed-house",
   "metadata": {
    "execution": {
     "iopub.execute_input": "2021-06-23T09:35:37.716738Z",
     "iopub.status.busy": "2021-06-23T09:35:37.712440Z",
     "iopub.status.idle": "2021-06-23T09:35:38.458712Z",
     "shell.execute_reply": "2021-06-23T09:35:38.458041Z",
     "shell.execute_reply.started": "2021-06-22T12:20:32.826362Z"
    },
    "papermill": {
     "duration": 0.795403,
     "end_time": "2021-06-23T09:35:38.458860",
     "exception": false,
     "start_time": "2021-06-23T09:35:37.663457",
     "status": "completed"
    },
    "tags": []
   },
   "outputs": [],
   "source": [
    "!ln -s utils/parse_options.sh"
   ]
  },
  {
   "cell_type": "code",
   "execution_count": 30,
   "id": "raised-topic",
   "metadata": {
    "execution": {
     "iopub.execute_input": "2021-06-23T09:35:38.565317Z",
     "iopub.status.busy": "2021-06-23T09:35:38.561098Z",
     "iopub.status.idle": "2021-06-23T09:37:07.613815Z",
     "shell.execute_reply": "2021-06-23T09:37:07.614364Z",
     "shell.execute_reply.started": "2021-06-22T12:25:44.313451Z"
    },
    "papermill": {
     "duration": 89.111361,
     "end_time": "2021-06-23T09:37:07.614653",
     "exception": false,
     "start_time": "2021-06-23T09:35:38.503292",
     "status": "completed"
    },
    "tags": []
   },
   "outputs": [
    {
     "name": "stdout",
     "output_type": "stream",
     "text": [
      "steps/make_mfcc.sh --nj 20 --mfcc-config conf/mfcc_hires.conf --cmd run.pl data/test-clean_hires\r\n",
      "utils/validate_data_dir.sh: Successfully validated data-directory data/test-clean_hires\r\n",
      "steps/make_mfcc.sh: [info]: no segments file exists: assuming wav.scp indexed by utterance.\r\n",
      "steps/make_mfcc.sh: Succeeded creating MFCC features for test-clean_hires\r\n",
      "steps/compute_cmvn_stats.sh data/test-clean_hires\r\n",
      "Succeeded creating CMVN stats for test-clean_hires\r\n",
      "fix_data_dir.sh: kept all 2620 utterances.\r\n",
      "fix_data_dir.sh: old files are kept in data/test-clean_hires/.backup\r\n",
      "steps/make_mfcc.sh --nj 20 --mfcc-config conf/mfcc_hires.conf --cmd run.pl data/test-other_hires\r\n",
      "utils/validate_data_dir.sh: Successfully validated data-directory data/test-other_hires\r\n",
      "steps/make_mfcc.sh: [info]: no segments file exists: assuming wav.scp indexed by utterance.\r\n",
      "steps/make_mfcc.sh: Succeeded creating MFCC features for test-other_hires\r\n",
      "steps/compute_cmvn_stats.sh data/test-other_hires\r\n",
      "Succeeded creating CMVN stats for test-other_hires\r\n",
      "fix_data_dir.sh: kept all 2939 utterances.\r\n",
      "fix_data_dir.sh: old files are kept in data/test-other_hires/.backup\r\n"
     ]
    }
   ],
   "source": [
    "!steps/make_mfcc.sh --nj 20 --mfcc-config conf/mfcc_hires.conf --cmd \"$train_cmd\" data/test-clean_hires\n",
    "!steps/compute_cmvn_stats.sh data/test-clean_hires\n",
    "!utils/fix_data_dir.sh data/test-clean_hires\n",
    "!steps/make_mfcc.sh --nj 20 --mfcc-config conf/mfcc_hires.conf --cmd \"$train_cmd\" data/test-other_hires\n",
    "!steps/compute_cmvn_stats.sh data/test-other_hires\n",
    "!utils/fix_data_dir.sh data/test-other_hires\n"
   ]
  },
  {
   "cell_type": "markdown",
   "id": "hispanic-point",
   "metadata": {
    "papermill": {
     "duration": 0.04745,
     "end_time": "2021-06-23T09:37:07.710010",
     "exception": false,
     "start_time": "2021-06-23T09:37:07.662560",
     "status": "completed"
    },
    "tags": []
   },
   "source": [
    "## Extract i-vectors"
   ]
  },
  {
   "cell_type": "code",
   "execution_count": 31,
   "id": "approximate-firmware",
   "metadata": {
    "execution": {
     "iopub.execute_input": "2021-06-23T09:37:07.816224Z",
     "iopub.status.busy": "2021-06-23T09:37:07.812602Z",
     "iopub.status.idle": "2021-06-23T09:37:09.263034Z",
     "shell.execute_reply": "2021-06-23T09:37:09.262390Z",
     "shell.execute_reply.started": "2021-06-22T12:38:42.072847Z"
    },
    "papermill": {
     "duration": 1.505557,
     "end_time": "2021-06-23T09:37:09.263209",
     "exception": false,
     "start_time": "2021-06-23T09:37:07.757652",
     "status": "completed"
    },
    "tags": []
   },
   "outputs": [],
   "source": [
    "!ln -s /kaggle/input/kaldi-librispeech-model/exp/nnet3_cleaned/ exp/nnet3_cleaned\n",
    "!ln -s /kaggle/input/kaldi-librispeech-model/exp/chain_cleaned/ exp/chain_cleaned"
   ]
  },
  {
   "cell_type": "code",
   "execution_count": 32,
   "id": "photographic-joyce",
   "metadata": {
    "execution": {
     "iopub.execute_input": "2021-06-23T09:37:09.377291Z",
     "iopub.status.busy": "2021-06-23T09:37:09.372580Z",
     "iopub.status.idle": "2021-06-23T09:38:23.744606Z",
     "shell.execute_reply": "2021-06-23T09:38:23.743842Z",
     "shell.execute_reply.started": "2021-06-22T12:44:16.329652Z"
    },
    "papermill": {
     "duration": 74.433227,
     "end_time": "2021-06-23T09:38:23.744819",
     "exception": false,
     "start_time": "2021-06-23T09:37:09.311592",
     "status": "completed"
    },
    "tags": []
   },
   "outputs": [
    {
     "name": "stdout",
     "output_type": "stream",
     "text": [
      "env: nspk=$(wc -l <data/test-clean_hires/spk2utt)\n",
      "steps/online/nnet2/extract_ivectors_online.sh --cmd run.pl --nj $(wc -l <data/test-clean_hires/spk2utt) data/test-clean_hires exp/nnet3_cleaned/extractor exp/nnet3_cleaned_out/ivectors_test-clean_hires\r\n",
      "steps/online/nnet2/extract_ivectors_online.sh: extracting iVectors\r\n",
      "steps/online/nnet2/extract_ivectors_online.sh: combining iVectors across jobs\r\n",
      "steps/online/nnet2/extract_ivectors_online.sh: done extracting (online) iVectors to exp/nnet3_cleaned_out/ivectors_test-clean_hires using the extractor in exp/nnet3_cleaned/extractor.\r\n",
      "env: nspk=$(wc -l <data/test-other_hires/spk2utt)\n",
      "steps/online/nnet2/extract_ivectors_online.sh --cmd run.pl --nj $(wc -l <data/test-other_hires/spk2utt) data/test-other_hires exp/nnet3_cleaned/extractor exp/nnet3_cleaned_out/ivectors_test-other_hires\r\n",
      "steps/online/nnet2/extract_ivectors_online.sh: extracting iVectors\r\n",
      "steps/online/nnet2/extract_ivectors_online.sh: combining iVectors across jobs\r\n",
      "steps/online/nnet2/extract_ivectors_online.sh: done extracting (online) iVectors to exp/nnet3_cleaned_out/ivectors_test-other_hires using the extractor in exp/nnet3_cleaned/extractor.\r\n"
     ]
    }
   ],
   "source": [
    "%env nspk=$(wc -l <data/test-clean_hires/spk2utt)\n",
    "!steps/online/nnet2/extract_ivectors_online.sh --cmd \"$train_cmd\" --nj \"${nspk}\" data/test-clean_hires exp/nnet3_cleaned/extractor exp/nnet3_cleaned_out/ivectors_test-clean_hires\n",
    "%env nspk=$(wc -l <data/test-other_hires/spk2utt)\n",
    "!steps/online/nnet2/extract_ivectors_online.sh --cmd \"$train_cmd\" --nj \"${nspk}\" data/test-other_hires exp/nnet3_cleaned/extractor exp/nnet3_cleaned_out/ivectors_test-other_hires"
   ]
  },
  {
   "cell_type": "markdown",
   "id": "provincial-irrigation",
   "metadata": {
    "papermill": {
     "duration": 0.052351,
     "end_time": "2021-06-23T09:38:23.849659",
     "exception": false,
     "start_time": "2021-06-23T09:38:23.797308",
     "status": "completed"
    },
    "tags": []
   },
   "source": [
    "## Build decoding graph"
   ]
  },
  {
   "cell_type": "markdown",
   "id": "sitting-terrorist",
   "metadata": {
    "papermill": {
     "duration": 0.050909,
     "end_time": "2021-06-23T09:38:23.952426",
     "exception": false,
     "start_time": "2021-06-23T09:38:23.901517",
     "status": "completed"
    },
    "tags": []
   },
   "source": [
    "Just linking this directory won't work, as it expects to be able to write to it (Kaldi scripts, smh)"
   ]
  },
  {
   "cell_type": "code",
   "execution_count": 33,
   "id": "affected-debate",
   "metadata": {
    "execution": {
     "iopub.execute_input": "2021-06-23T09:38:24.066718Z",
     "iopub.status.busy": "2021-06-23T09:38:24.062238Z",
     "iopub.status.idle": "2021-06-23T09:38:27.080176Z",
     "shell.execute_reply": "2021-06-23T09:38:27.079148Z"
    },
    "papermill": {
     "duration": 3.075816,
     "end_time": "2021-06-23T09:38:27.080435",
     "exception": false,
     "start_time": "2021-06-23T09:38:24.004619",
     "status": "completed"
    },
    "tags": []
   },
   "outputs": [],
   "source": [
    "!cp -r /kaggle/input/kaldi-librispeech-model/data/lang_test_tgsmall data"
   ]
  },
  {
   "cell_type": "code",
   "execution_count": 34,
   "id": "clean-clerk",
   "metadata": {
    "execution": {
     "iopub.execute_input": "2021-06-23T09:38:27.224851Z",
     "iopub.status.busy": "2021-06-23T09:38:27.224041Z",
     "iopub.status.idle": "2021-06-23T09:42:03.423544Z",
     "shell.execute_reply": "2021-06-23T09:42:03.422940Z"
    },
    "papermill": {
     "duration": 216.271987,
     "end_time": "2021-06-23T09:42:03.423733",
     "exception": false,
     "start_time": "2021-06-23T09:38:27.151746",
     "status": "completed"
    },
    "tags": []
   },
   "outputs": [
    {
     "name": "stdout",
     "output_type": "stream",
     "text": [
      "env: tdnndir=exp/chain_cleaned/tdnn_1d_sp\n",
      "env: graph_dir=exp/chain_cleaned_out/graph_tgsmall\n",
      "tree-info exp/chain_cleaned/tdnn_1d_sp/tree \r\n",
      "tree-info exp/chain_cleaned/tdnn_1d_sp/tree \r\n",
      "fstminimizeencoded \r\n",
      "fstdeterminizestar --use-log=true \r\n",
      "fsttablecompose data/lang_test_tgsmall/L_disambig.fst data/lang_test_tgsmall/G.fst \r\n",
      "fstpushspecial \r\n",
      "fstisstochastic data/lang_test_tgsmall/tmp/LG.fst \r\n",
      "-0.0459745 -0.0466771\r\n",
      "[info]: LG not stochastic.\r\n",
      "fstcomposecontext --context-size=2 --central-position=1 --read-disambig-syms=data/lang_test_tgsmall/phones/disambig.int --write-disambig-syms=data/lang_test_tgsmall/tmp/disambig_ilabels_2_1.int data/lang_test_tgsmall/tmp/ilabels_2_1.113734 data/lang_test_tgsmall/tmp/LG.fst \r\n",
      "fstisstochastic data/lang_test_tgsmall/tmp/CLG_2_1.fst \r\n",
      "-0.0459745 -0.0466771\r\n",
      "[info]: CLG not stochastic.\r\n",
      "make-h-transducer --disambig-syms-out=exp/chain_cleaned_out/graph_tgsmall/disambig_tid.int --transition-scale=1.0 data/lang_test_tgsmall/tmp/ilabels_2_1 exp/chain_cleaned/tdnn_1d_sp/tree exp/chain_cleaned/tdnn_1d_sp/final.mdl \r\n",
      "fsttablecompose exp/chain_cleaned_out/graph_tgsmall/Ha.fst 'fstrmsymbols --remove-arcs=true --apply-to-output=true data/lang_test_tgsmall/oov.int data/lang_test_tgsmall/tmp/CLG_2_1.fst|' \r\n",
      "fstrmepslocal \r\n",
      "fstdeterminizestar --use-log=true \r\n",
      "fstrmsymbols exp/chain_cleaned_out/graph_tgsmall/disambig_tid.int \r\n",
      "fstminimizeencoded \r\n",
      "fstrmsymbols --remove-arcs=true --apply-to-output=true data/lang_test_tgsmall/oov.int data/lang_test_tgsmall/tmp/CLG_2_1.fst \r\n",
      "fstisstochastic exp/chain_cleaned_out/graph_tgsmall/HCLGa.fst \r\n",
      "3.39453 -0.209239\r\n",
      "HCLGa is not stochastic\r\n",
      "add-self-loops --self-loop-scale=1.0 --reorder=true exp/chain_cleaned/tdnn_1d_sp/final.mdl exp/chain_cleaned_out/graph_tgsmall/HCLGa.fst \r\n",
      "fstisstochastic exp/chain_cleaned_out/graph_tgsmall/HCLG.fst \r\n",
      "3.05078 -0.127788\r\n",
      "[info]: final HCLG is not stochastic.\r\n"
     ]
    }
   ],
   "source": [
    "%env tdnndir=exp/chain_cleaned/tdnn_1d_sp\n",
    "%env graph_dir=exp/chain_cleaned_out/graph_tgsmall\n",
    "!utils/mkgraph.sh --self-loop-scale 1.0 --remove-oov data/lang_test_tgsmall $tdnndir $graph_dir"
   ]
  },
  {
   "cell_type": "markdown",
   "id": "removable-terrorism",
   "metadata": {
    "papermill": {
     "duration": 0.05719,
     "end_time": "2021-06-23T09:42:03.537876",
     "exception": false,
     "start_time": "2021-06-23T09:42:03.480686",
     "status": "completed"
    },
    "tags": []
   },
   "source": [
    "## Decode"
   ]
  },
  {
   "cell_type": "code",
   "execution_count": 35,
   "id": "serious-examination",
   "metadata": {
    "execution": {
     "iopub.execute_input": "2021-06-23T09:42:03.655145Z",
     "iopub.status.busy": "2021-06-23T09:42:03.654555Z",
     "iopub.status.idle": "2021-06-23T09:42:05.145399Z",
     "shell.execute_reply": "2021-06-23T09:42:05.145895Z"
    },
    "papermill": {
     "duration": 1.551362,
     "end_time": "2021-06-23T09:42:05.146167",
     "exception": false,
     "start_time": "2021-06-23T09:42:03.594805",
     "status": "completed"
    },
    "tags": []
   },
   "outputs": [
    {
     "name": "stdout",
     "output_type": "stream",
     "text": [
      "/kaggle/working/exp/tdnn_1d_sp\n",
      "/opt/kaldi/egs/usels/s5\n",
      "popd -> /opt/kaldi/egs/usels/s5\n"
     ]
    }
   ],
   "source": [
    "!mkdir exp/tdnn_1d_sp\n",
    "%pushd exp/tdnn_1d_sp\n",
    "!for i in /kaggle/input/kaldi-librispeech-model/exp/chain_cleaned/tdnn_1d_sp/*;do ln -s $i;done\n",
    "%popd"
   ]
  },
  {
   "cell_type": "code",
   "execution_count": 36,
   "id": "experienced-ranking",
   "metadata": {
    "execution": {
     "iopub.execute_input": "2021-06-23T09:42:05.265906Z",
     "iopub.status.busy": "2021-06-23T09:42:05.265323Z",
     "iopub.status.idle": "2021-06-23T10:46:40.586796Z",
     "shell.execute_reply": "2021-06-23T10:46:40.586155Z"
    },
    "papermill": {
     "duration": 3875.383116,
     "end_time": "2021-06-23T10:46:40.587087",
     "exception": false,
     "start_time": "2021-06-23T09:42:05.203971",
     "status": "completed"
    },
    "tags": []
   },
   "outputs": [
    {
     "name": "stdout",
     "output_type": "stream",
     "text": [
      "env: tdnndir=exp/tdnn_1d_sp\n",
      "steps/nnet3/decode.sh --acwt 1.0 --post-decode-acwt 10.0 --nj 8 --cmd run.pl --online-ivector-dir exp/nnet3_cleaned_out/ivectors_test-clean_hires exp/chain_cleaned_out/graph_tgsmall data/test-clean_hires exp/tdnn_1d_sp/decode_test-clean_tgsmall\r\n",
      "steps/nnet3/decode.sh: feature type is raw\r\n",
      "steps/diagnostic/analyze_lats.sh --cmd run.pl --iter final exp/chain_cleaned_out/graph_tgsmall exp/tdnn_1d_sp/decode_test-clean_tgsmall\r\n",
      "steps/diagnostic/analyze_lats.sh: see stats in exp/tdnn_1d_sp/decode_test-clean_tgsmall/log/analyze_alignments.log\r\n",
      "Overall, lattice depth (10,50,90-percentile)=(1,2,5) and mean=2.8\r\n",
      "steps/diagnostic/analyze_lats.sh: see stats in exp/tdnn_1d_sp/decode_test-clean_tgsmall/log/analyze_lattice_depth_stats.log\r\n",
      "score best paths\r\n",
      "score confidence and timing with sclite\r\n",
      "Decoding done.\r\n",
      "steps/nnet3/decode.sh --acwt 1.0 --post-decode-acwt 10.0 --nj 8 --cmd run.pl --online-ivector-dir exp/nnet3_cleaned_out/ivectors_test-other_hires exp/chain_cleaned_out/graph_tgsmall data/test-other_hires exp/tdnn_1d_sp/decode_test-other_tgsmall\r\n",
      "steps/nnet3/decode.sh: feature type is raw\r\n",
      "steps/diagnostic/analyze_lats.sh --cmd run.pl --iter final exp/chain_cleaned_out/graph_tgsmall exp/tdnn_1d_sp/decode_test-other_tgsmall\r\n",
      "steps/diagnostic/analyze_lats.sh: see stats in exp/tdnn_1d_sp/decode_test-other_tgsmall/log/analyze_alignments.log\r\n",
      "Overall, lattice depth (10,50,90-percentile)=(1,3,13) and mean=6.3\r\n",
      "steps/diagnostic/analyze_lats.sh: see stats in exp/tdnn_1d_sp/decode_test-other_tgsmall/log/analyze_lattice_depth_stats.log\r\n",
      "score best paths\r\n",
      "score confidence and timing with sclite\r\n",
      "Decoding done.\r\n"
     ]
    }
   ],
   "source": [
    "%env tdnndir=exp/tdnn_1d_sp\n",
    "!steps/nnet3/decode.sh --acwt 1.0 --post-decode-acwt 10.0 --nj 8 --cmd \"$decode_cmd\" --online-ivector-dir exp/nnet3_cleaned_out/ivectors_test-clean_hires $graph_dir data/test-clean_hires $tdnndir/decode_test-clean_tgsmall\n",
    "!steps/nnet3/decode.sh --acwt 1.0 --post-decode-acwt 10.0 --nj 8 --cmd \"$decode_cmd\" --online-ivector-dir exp/nnet3_cleaned_out/ivectors_test-other_hires $graph_dir data/test-other_hires $tdnndir/decode_test-other_tgsmall"
   ]
  },
  {
   "cell_type": "markdown",
   "id": "animal-richmond",
   "metadata": {
    "papermill": {
     "duration": 0.061939,
     "end_time": "2021-06-23T10:46:40.711913",
     "exception": false,
     "start_time": "2021-06-23T10:46:40.649974",
     "status": "completed"
    },
    "tags": []
   },
   "source": [
    "## Score"
   ]
  },
  {
   "cell_type": "code",
   "execution_count": 37,
   "id": "naked-narrow",
   "metadata": {
    "execution": {
     "iopub.execute_input": "2021-06-23T10:46:40.850387Z",
     "iopub.status.busy": "2021-06-23T10:46:40.845375Z",
     "iopub.status.idle": "2021-06-23T10:49:00.136169Z",
     "shell.execute_reply": "2021-06-23T10:49:00.136899Z"
    },
    "papermill": {
     "duration": 139.362732,
     "end_time": "2021-06-23T10:49:00.137138",
     "exception": false,
     "start_time": "2021-06-23T10:46:40.774406",
     "status": "completed"
    },
    "tags": []
   },
   "outputs": [
    {
     "name": "stdout",
     "output_type": "stream",
     "text": [
      "steps/score_kaldi.sh --cmd run.pl data/test-clean_hires exp/chain_cleaned_out/graph_tgsmall exp/tdnn_1d_sp/decode_test-clean_tgsmall\r\n",
      "steps/score_kaldi.sh: scoring with word insertion penalty=0.0,0.5,1.0\r\n",
      "steps/score_kaldi.sh --cmd run.pl data/test-other_hires exp/chain_cleaned_out/graph_tgsmall exp/tdnn_1d_sp/decode_test-other_tgsmall\r\n",
      "steps/score_kaldi.sh: scoring with word insertion penalty=0.0,0.5,1.0\r\n"
     ]
    }
   ],
   "source": [
    "!steps/score_kaldi.sh --cmd \"run.pl\" data/test-clean_hires $graph_dir $tdnndir/decode_test-clean_tgsmall\n",
    "!steps/score_kaldi.sh --cmd \"run.pl\" data/test-other_hires $graph_dir $tdnndir/decode_test-other_tgsmall"
   ]
  },
  {
   "cell_type": "code",
   "execution_count": 38,
   "id": "personal-consumption",
   "metadata": {
    "execution": {
     "iopub.execute_input": "2021-06-23T10:49:00.275306Z",
     "iopub.status.busy": "2021-06-23T10:49:00.270937Z",
     "iopub.status.idle": "2021-06-23T10:49:01.724394Z",
     "shell.execute_reply": "2021-06-23T10:49:01.724975Z"
    },
    "papermill": {
     "duration": 1.524542,
     "end_time": "2021-06-23T10:49:01.725205",
     "exception": false,
     "start_time": "2021-06-23T10:49:00.200663",
     "status": "completed"
    },
    "tags": []
   },
   "outputs": [
    {
     "name": "stdout",
     "output_type": "stream",
     "text": [
      "%WER 7.13 [ 3747 / 52576, 648 ins, 242 del, 2857 sub ] exp/tdnn_1d_sp/decode_test-clean_tgsmall/wer_17_0.5\r\n",
      "%WER 17.92 [ 9378 / 52343, 1384 ins, 723 del, 7271 sub ] exp/tdnn_1d_sp/decode_test-other_tgsmall/wer_17_1.0\r\n"
     ]
    }
   ],
   "source": [
    "!cat exp/tdnn_1d_sp/decode_test-clean_tgsmall/scoring_kaldi/best_wer\n",
    "!cat exp/tdnn_1d_sp/decode_test-other_tgsmall/scoring_kaldi/best_wer"
   ]
  },
  {
   "cell_type": "markdown",
   "id": "flying-click",
   "metadata": {
    "papermill": {
     "duration": 0.066344,
     "end_time": "2021-06-23T10:49:01.855686",
     "exception": false,
     "start_time": "2021-06-23T10:49:01.789342",
     "status": "completed"
    },
    "tags": []
   },
   "source": [
    "## Rescoring"
   ]
  },
  {
   "cell_type": "code",
   "execution_count": 39,
   "id": "rolled-header",
   "metadata": {
    "execution": {
     "iopub.execute_input": "2021-06-23T10:49:01.991220Z",
     "iopub.status.busy": "2021-06-23T10:49:01.990558Z",
     "iopub.status.idle": "2021-06-23T10:49:06.952301Z",
     "shell.execute_reply": "2021-06-23T10:49:06.951578Z"
    },
    "papermill": {
     "duration": 5.032082,
     "end_time": "2021-06-23T10:49:06.952473",
     "exception": false,
     "start_time": "2021-06-23T10:49:01.920391",
     "status": "completed"
    },
    "tags": []
   },
   "outputs": [],
   "source": [
    "!cp -r /kaggle/input/kaldi-librispeech-model/exp/rnnlm_lstm_1a/ exp"
   ]
  },
  {
   "cell_type": "code",
   "execution_count": 40,
   "id": "ahead-procurement",
   "metadata": {
    "execution": {
     "iopub.execute_input": "2021-06-23T10:49:07.092758Z",
     "iopub.status.busy": "2021-06-23T10:49:07.092137Z",
     "iopub.status.idle": "2021-06-23T10:49:07.812605Z",
     "shell.execute_reply": "2021-06-23T10:49:07.811883Z"
    },
    "papermill": {
     "duration": 0.796197,
     "end_time": "2021-06-23T10:49:07.812746",
     "exception": false,
     "start_time": "2021-06-23T10:49:07.016549",
     "status": "completed"
    },
    "tags": []
   },
   "outputs": [],
   "source": [
    "!ln -s /opt/kaldi/scripts/rnnlm"
   ]
  },
  {
   "cell_type": "code",
   "execution_count": 41,
   "id": "preliminary-neighborhood",
   "metadata": {
    "execution": {
     "iopub.execute_input": "2021-06-23T10:49:07.958628Z",
     "iopub.status.busy": "2021-06-23T10:49:07.952879Z",
     "iopub.status.idle": "2021-06-23T10:49:09.451634Z",
     "shell.execute_reply": "2021-06-23T10:49:09.450176Z"
    },
    "papermill": {
     "duration": 1.575768,
     "end_time": "2021-06-23T10:49:09.451831",
     "exception": false,
     "start_time": "2021-06-23T10:49:07.876063",
     "status": "completed"
    },
    "tags": []
   },
   "outputs": [
    {
     "name": "stdout",
     "output_type": "stream",
     "text": [
      "env: decode_dir=$tdnndir/decode_test-clean_tgsmall\n",
      "rnnlm/lmrescore_pruned.sh --cmd run.pl --weight 0.45 --max-ngram-order 4 data/lang_test_tgsmall exp/rnnlm_lstm_1a data/test-clean_hires $tdnndir/decode_test-clean_tgsmall exp/tdnn_1d_sp/decode_test-clean_rescore\r\n",
      "ls: cannot access '$tdnndir/decode_test-clean_tgsmall/lat.*.gz': No such file or directory\r\n",
      "rnnlm/lmrescore_pruned.sh: No lattices input directory $tdnndir/decode_test-clean_tgsmall\r\n",
      "env: decode_dir=$tdnndir/decode_test-other_tgsmall\n",
      "rnnlm/lmrescore_pruned.sh --cmd run.pl --weight 0.45 --max-ngram-order 4 data/lang_test_tgsmall exp/rnnlm_lstm_1a data/test-other_hires $tdnndir/decode_test-other_tgsmall exp/tdnn_1d_sp/decode_test-other_rescore\r\n",
      "ls: cannot access '$tdnndir/decode_test-other_tgsmall/lat.*.gz': No such file or directory\r\n",
      "rnnlm/lmrescore_pruned.sh: No lattices input directory $tdnndir/decode_test-other_tgsmall\r\n"
     ]
    }
   ],
   "source": [
    "%env decode_dir=$tdnndir/decode_test-clean_tgsmall\n",
    "!rnnlm/lmrescore_pruned.sh --cmd \"$decode_cmd\" --weight 0.45 --max-ngram-order 4 data/lang_test_tgsmall exp/rnnlm_lstm_1a data/test-clean_hires ${decode_dir} $tdnndir/decode_test-clean_rescore\n",
    "%env decode_dir=$tdnndir/decode_test-other_tgsmall\n",
    "!rnnlm/lmrescore_pruned.sh --cmd \"$decode_cmd\" --weight 0.45 --max-ngram-order 4 data/lang_test_tgsmall exp/rnnlm_lstm_1a data/test-other_hires ${decode_dir} $tdnndir/decode_test-other_rescore"
   ]
  },
  {
   "cell_type": "code",
   "execution_count": 42,
   "id": "isolated-working",
   "metadata": {
    "execution": {
     "iopub.execute_input": "2021-06-23T10:49:09.592205Z",
     "iopub.status.busy": "2021-06-23T10:49:09.587959Z",
     "iopub.status.idle": "2021-06-23T10:49:11.037395Z",
     "shell.execute_reply": "2021-06-23T10:49:11.036816Z"
    },
    "papermill": {
     "duration": 1.520434,
     "end_time": "2021-06-23T10:49:11.037540",
     "exception": false,
     "start_time": "2021-06-23T10:49:09.517106",
     "status": "completed"
    },
    "tags": []
   },
   "outputs": [
    {
     "name": "stdout",
     "output_type": "stream",
     "text": [
      "cat: exp/tdnn_1d_sp/decode_test-clean_rescore/scoring_kaldi/best_wer: No such file or directory\r\n",
      "cat: exp/tdnn_1d_sp/decode_test-other_rescore/scoring_kaldi/best_wer: No such file or directory\r\n"
     ]
    }
   ],
   "source": [
    "!cat $tdnndir/decode_test-clean_rescore/scoring_kaldi/best_wer\n",
    "!cat $tdnndir/decode_test-other_rescore/scoring_kaldi/best_wer"
   ]
  },
  {
   "cell_type": "markdown",
   "id": "independent-killing",
   "metadata": {
    "papermill": {
     "duration": 0.066077,
     "end_time": "2021-06-23T10:49:11.169834",
     "exception": false,
     "start_time": "2021-06-23T10:49:11.103757",
     "status": "completed"
    },
    "tags": []
   },
   "source": [
    "## "
   ]
  }
 ],
 "metadata": {
  "kernelspec": {
   "display_name": "Python 3",
   "language": "python",
   "name": "python3"
  },
  "language_info": {
   "codemirror_mode": {
    "name": "ipython",
    "version": 3
   },
   "file_extension": ".py",
   "mimetype": "text/x-python",
   "name": "python",
   "nbconvert_exporter": "python",
   "pygments_lexer": "ipython3",
   "version": "3.7.10"
  },
  "papermill": {
   "default_parameters": {},
   "duration": 4551.496562,
   "end_time": "2021-06-23T10:49:12.657540",
   "environment_variables": {},
   "exception": null,
   "input_path": "__notebook__.ipynb",
   "output_path": "__notebook__.ipynb",
   "parameters": {},
   "start_time": "2021-06-23T09:33:21.160978",
   "version": "2.3.3"
  }
 },
 "nbformat": 4,
 "nbformat_minor": 5
}
