{
 "cells": [
  {
   "cell_type": "markdown",
   "id": "genuine-madagascar",
   "metadata": {
    "papermill": {
     "duration": 0.032317,
     "end_time": "2021-06-22T13:48:46.538235",
     "exception": false,
     "start_time": "2021-06-22T13:48:46.505918",
     "status": "completed"
    },
    "tags": []
   },
   "source": [
    "## Unpack Kaldi"
   ]
  },
  {
   "cell_type": "code",
   "execution_count": 1,
   "id": "excited-appliance",
   "metadata": {
    "_cell_guid": "b1076dfc-b9ad-4769-8c92-a6c4dae69d19",
    "_uuid": "8f2839f25d086af736a60e9eeb907d3b93b6e0e5",
    "execution": {
     "iopub.execute_input": "2021-06-22T13:48:46.607747Z",
     "iopub.status.busy": "2021-06-22T13:48:46.607102Z",
     "iopub.status.idle": "2021-06-22T13:48:46.612563Z",
     "shell.execute_reply": "2021-06-22T13:48:46.613606Z",
     "shell.execute_reply.started": "2021-06-22T11:54:50.153353Z"
    },
    "papermill": {
     "duration": 0.046127,
     "end_time": "2021-06-22T13:48:46.614028",
     "exception": false,
     "start_time": "2021-06-22T13:48:46.567901",
     "status": "completed"
    },
    "tags": []
   },
   "outputs": [
    {
     "name": "stdout",
     "output_type": "stream",
     "text": [
      "/opt\n"
     ]
    }
   ],
   "source": [
    "%cd /opt"
   ]
  },
  {
   "cell_type": "code",
   "execution_count": 2,
   "id": "mysterious-civilization",
   "metadata": {
    "execution": {
     "iopub.execute_input": "2021-06-22T13:48:46.693386Z",
     "iopub.status.busy": "2021-06-22T13:48:46.682002Z",
     "iopub.status.idle": "2021-06-22T13:49:19.104020Z",
     "shell.execute_reply": "2021-06-22T13:49:19.105036Z",
     "shell.execute_reply.started": "2021-06-22T11:54:53.255442Z"
    },
    "papermill": {
     "duration": 32.460114,
     "end_time": "2021-06-22T13:49:19.105245",
     "exception": false,
     "start_time": "2021-06-22T13:48:46.645131",
     "status": "completed"
    },
    "tags": []
   },
   "outputs": [],
   "source": [
    "%%capture\n",
    "!tar xvf /kaggle/input/extract-prebuilt-kaldi-from-docker/kaldi.tar"
   ]
  },
  {
   "cell_type": "code",
   "execution_count": 3,
   "id": "disturbed-thompson",
   "metadata": {
    "execution": {
     "iopub.execute_input": "2021-06-22T13:49:19.172165Z",
     "iopub.status.busy": "2021-06-22T13:49:19.171187Z",
     "iopub.status.idle": "2021-06-22T13:49:19.175554Z",
     "shell.execute_reply": "2021-06-22T13:49:19.176145Z",
     "shell.execute_reply.started": "2021-06-22T11:55:40.60018Z"
    },
    "papermill": {
     "duration": 0.040468,
     "end_time": "2021-06-22T13:49:19.176343",
     "exception": false,
     "start_time": "2021-06-22T13:49:19.135875",
     "status": "completed"
    },
    "tags": []
   },
   "outputs": [],
   "source": [
    "import os\n",
    "os.environ['LD_LIBRARY_PATH'] = '/opt/conda/lib:/opt/kaldi/tools/openfst-1.6.7/lib:/opt/kaldi/src/lib:'\n",
    "EXISTING_PATH = os.environ['PATH']"
   ]
  },
  {
   "cell_type": "code",
   "execution_count": 4,
   "id": "charitable-majority",
   "metadata": {
    "execution": {
     "iopub.execute_input": "2021-06-22T13:49:19.256496Z",
     "iopub.status.busy": "2021-06-22T13:49:19.255711Z",
     "iopub.status.idle": "2021-06-22T13:49:19.262848Z",
     "shell.execute_reply": "2021-06-22T13:49:19.263714Z"
    },
    "papermill": {
     "duration": 0.049984,
     "end_time": "2021-06-22T13:49:19.264097",
     "exception": false,
     "start_time": "2021-06-22T13:49:19.214113",
     "status": "completed"
    },
    "tags": []
   },
   "outputs": [
    {
     "name": "stdout",
     "output_type": "stream",
     "text": [
      "/\n"
     ]
    }
   ],
   "source": [
    "%cd /\n"
   ]
  },
  {
   "cell_type": "code",
   "execution_count": 5,
   "id": "efficient-venue",
   "metadata": {
    "execution": {
     "iopub.execute_input": "2021-06-22T13:49:19.348187Z",
     "iopub.status.busy": "2021-06-22T13:49:19.347155Z",
     "iopub.status.idle": "2021-06-22T13:49:51.068910Z",
     "shell.execute_reply": "2021-06-22T13:49:51.069717Z"
    },
    "papermill": {
     "duration": 31.765309,
     "end_time": "2021-06-22T13:49:51.070476",
     "exception": false,
     "start_time": "2021-06-22T13:49:19.305167",
     "status": "completed"
    },
    "tags": []
   },
   "outputs": [],
   "source": [
    "%%capture\n",
    "!tar xvf /kaggle/input/extract-cuda-from-kaldi-docker/cuda.tar"
   ]
  },
  {
   "cell_type": "code",
   "execution_count": 6,
   "id": "prospective-europe",
   "metadata": {
    "execution": {
     "iopub.execute_input": "2021-06-22T13:49:51.148571Z",
     "iopub.status.busy": "2021-06-22T13:49:51.147893Z",
     "iopub.status.idle": "2021-06-22T13:49:51.154696Z",
     "shell.execute_reply": "2021-06-22T13:49:51.155411Z",
     "shell.execute_reply.started": "2021-06-22T13:29:47.085695Z"
    },
    "papermill": {
     "duration": 0.042897,
     "end_time": "2021-06-22T13:49:51.155664",
     "exception": false,
     "start_time": "2021-06-22T13:49:51.112767",
     "status": "completed"
    },
    "tags": []
   },
   "outputs": [],
   "source": [
    "import os\n",
    "os.environ['LD_LIBRARY_PATH'] = f'{os.environ[\"LD_LIBRARY_PATH\"]}:/usr/local/cuda-10.0/targets/x86_64-linux/lib/'"
   ]
  },
  {
   "cell_type": "code",
   "execution_count": 7,
   "id": "comprehensive-executive",
   "metadata": {
    "execution": {
     "iopub.execute_input": "2021-06-22T13:49:51.235453Z",
     "iopub.status.busy": "2021-06-22T13:49:51.234605Z",
     "iopub.status.idle": "2021-06-22T13:49:51.246848Z",
     "shell.execute_reply": "2021-06-22T13:49:51.245896Z",
     "shell.execute_reply.started": "2021-06-22T11:55:40.610869Z"
    },
    "papermill": {
     "duration": 0.054821,
     "end_time": "2021-06-22T13:49:51.247054",
     "exception": false,
     "start_time": "2021-06-22T13:49:51.192233",
     "status": "completed"
    },
    "tags": []
   },
   "outputs": [
    {
     "name": "stdout",
     "output_type": "stream",
     "text": [
      "/opt/kaldi/egs\n"
     ]
    }
   ],
   "source": [
    "%cd /opt/kaldi/egs"
   ]
  },
  {
   "cell_type": "markdown",
   "id": "adolescent-buying",
   "metadata": {
    "papermill": {
     "duration": 0.030734,
     "end_time": "2021-06-22T13:49:51.309633",
     "exception": false,
     "start_time": "2021-06-22T13:49:51.278899",
     "status": "completed"
    },
    "tags": []
   },
   "source": [
    "## Install flac"
   ]
  },
  {
   "cell_type": "code",
   "execution_count": 8,
   "id": "outside-glasgow",
   "metadata": {
    "execution": {
     "iopub.execute_input": "2021-06-22T13:49:51.384500Z",
     "iopub.status.busy": "2021-06-22T13:49:51.383811Z",
     "iopub.status.idle": "2021-06-22T13:50:08.735692Z",
     "shell.execute_reply": "2021-06-22T13:50:08.733989Z",
     "shell.execute_reply.started": "2021-06-22T12:06:36.222984Z"
    },
    "papermill": {
     "duration": 17.395392,
     "end_time": "2021-06-22T13:50:08.735902",
     "exception": false,
     "start_time": "2021-06-22T13:49:51.340510",
     "status": "completed"
    },
    "tags": []
   },
   "outputs": [],
   "source": [
    "%%capture\n",
    "!apt install -y flac"
   ]
  },
  {
   "cell_type": "markdown",
   "id": "treated-firewall",
   "metadata": {
    "papermill": {
     "duration": 0.030374,
     "end_time": "2021-06-22T13:50:08.796952",
     "exception": false,
     "start_time": "2021-06-22T13:50:08.766578",
     "status": "completed"
    },
    "tags": []
   },
   "source": [
    "## Create a work directory"
   ]
  },
  {
   "cell_type": "code",
   "execution_count": 9,
   "id": "filled-journalism",
   "metadata": {
    "execution": {
     "iopub.execute_input": "2021-06-22T13:50:08.868075Z",
     "iopub.status.busy": "2021-06-22T13:50:08.867370Z",
     "iopub.status.idle": "2021-06-22T13:50:09.589594Z",
     "shell.execute_reply": "2021-06-22T13:50:09.589055Z",
     "shell.execute_reply.started": "2021-06-22T11:55:40.659251Z"
    },
    "papermill": {
     "duration": 0.761807,
     "end_time": "2021-06-22T13:50:09.589742",
     "exception": false,
     "start_time": "2021-06-22T13:50:08.827935",
     "status": "completed"
    },
    "tags": []
   },
   "outputs": [
    {
     "name": "stdout",
     "output_type": "stream",
     "text": [
      "/opt/kaldi/egs/usels/s5\n"
     ]
    }
   ],
   "source": [
    "!mkdir -p usels/s5\n",
    "%cd usels/s5"
   ]
  },
  {
   "cell_type": "code",
   "execution_count": 10,
   "id": "conservative-bahamas",
   "metadata": {
    "execution": {
     "iopub.execute_input": "2021-06-22T13:50:09.663090Z",
     "iopub.status.busy": "2021-06-22T13:50:09.659337Z",
     "iopub.status.idle": "2021-06-22T13:50:12.535254Z",
     "shell.execute_reply": "2021-06-22T13:50:12.534677Z",
     "shell.execute_reply.started": "2021-06-22T12:08:43.066673Z"
    },
    "papermill": {
     "duration": 2.914667,
     "end_time": "2021-06-22T13:50:12.535415",
     "exception": false,
     "start_time": "2021-06-22T13:50:09.620748",
     "status": "completed"
    },
    "tags": []
   },
   "outputs": [],
   "source": [
    "!mkdir /kaggle/working/data\n",
    "!mkdir /kaggle/working/exp\n",
    "!ln -s /kaggle/working/data\n",
    "!ln -s /kaggle/working/exp"
   ]
  },
  {
   "cell_type": "code",
   "execution_count": 11,
   "id": "promising-scheme",
   "metadata": {
    "execution": {
     "iopub.execute_input": "2021-06-22T13:50:12.609353Z",
     "iopub.status.busy": "2021-06-22T13:50:12.608150Z",
     "iopub.status.idle": "2021-06-22T13:50:14.751022Z",
     "shell.execute_reply": "2021-06-22T13:50:14.750322Z",
     "shell.execute_reply.started": "2021-06-22T11:55:41.459018Z"
    },
    "papermill": {
     "duration": 2.184559,
     "end_time": "2021-06-22T13:50:14.751173",
     "exception": false,
     "start_time": "2021-06-22T13:50:12.566614",
     "status": "completed"
    },
    "tags": []
   },
   "outputs": [],
   "source": [
    "!ln -s ../../wsj/s5/steps\n",
    "!ln -s ../../wsj/s5/utils\n",
    "!ln -s ../../librispeech/s5/local"
   ]
  },
  {
   "cell_type": "code",
   "execution_count": 12,
   "id": "regular-interpretation",
   "metadata": {
    "execution": {
     "iopub.execute_input": "2021-06-22T13:50:14.822668Z",
     "iopub.status.busy": "2021-06-22T13:50:14.818796Z",
     "iopub.status.idle": "2021-06-22T13:50:15.537683Z",
     "shell.execute_reply": "2021-06-22T13:50:15.536998Z",
     "shell.execute_reply.started": "2021-06-22T11:55:43.77028Z"
    },
    "papermill": {
     "duration": 0.755663,
     "end_time": "2021-06-22T13:50:15.537844",
     "exception": false,
     "start_time": "2021-06-22T13:50:14.782181",
     "status": "completed"
    },
    "tags": []
   },
   "outputs": [],
   "source": [
    "!mkdir conf"
   ]
  },
  {
   "cell_type": "code",
   "execution_count": 13,
   "id": "precious-seller",
   "metadata": {
    "execution": {
     "iopub.execute_input": "2021-06-22T13:50:15.609671Z",
     "iopub.status.busy": "2021-06-22T13:50:15.608970Z",
     "iopub.status.idle": "2021-06-22T13:50:15.613716Z",
     "shell.execute_reply": "2021-06-22T13:50:15.613194Z",
     "shell.execute_reply.started": "2021-06-22T11:55:44.555875Z"
    },
    "papermill": {
     "duration": 0.042633,
     "end_time": "2021-06-22T13:50:15.613883",
     "exception": false,
     "start_time": "2021-06-22T13:50:15.571250",
     "status": "completed"
    },
    "tags": []
   },
   "outputs": [
    {
     "name": "stdout",
     "output_type": "stream",
     "text": [
      "Writing conf/mfcc_hires.conf\n"
     ]
    }
   ],
   "source": [
    "%%writefile conf/mfcc_hires.conf\n",
    "# config for high-resolution MFCC features, intended for neural network training\n",
    "# Note: we keep all cepstra, so it has the same info as filterbank features,\n",
    "# but MFCC is more easily compressible (because less correlated) which is why \n",
    "# we prefer this method.\n",
    "--use-energy=false   # use average of log energy, not energy.\n",
    "--num-mel-bins=40     # similar to Google's setup.\n",
    "--num-ceps=40     # there is no dimensionality reduction.\n",
    "--low-freq=20     # low cutoff frequency for mel bins... this is high-bandwidth data, so\n",
    "                  # there might be some information at the low end.\n",
    "--high-freq=-400 # high cutoff frequently, relative to Nyquist of 8000 (=7600)"
   ]
  },
  {
   "cell_type": "markdown",
   "id": "consecutive-generation",
   "metadata": {
    "papermill": {
     "duration": 0.035165,
     "end_time": "2021-06-22T13:50:15.680409",
     "exception": false,
     "start_time": "2021-06-22T13:50:15.645244",
     "status": "completed"
    },
    "tags": []
   },
   "source": [
    "## Setting up paths\n",
    "\n",
    "(In the scripts, you just source `path.sh`)"
   ]
  },
  {
   "cell_type": "code",
   "execution_count": 14,
   "id": "aggregate-heart",
   "metadata": {
    "execution": {
     "iopub.execute_input": "2021-06-22T13:50:15.771004Z",
     "iopub.status.busy": "2021-06-22T13:50:15.770196Z",
     "iopub.status.idle": "2021-06-22T13:50:15.781757Z",
     "shell.execute_reply": "2021-06-22T13:50:15.780642Z",
     "shell.execute_reply.started": "2021-06-22T11:55:44.565547Z"
    },
    "papermill": {
     "duration": 0.059685,
     "end_time": "2021-06-22T13:50:15.781998",
     "exception": false,
     "start_time": "2021-06-22T13:50:15.722313",
     "status": "completed"
    },
    "tags": []
   },
   "outputs": [
    {
     "name": "stdout",
     "output_type": "stream",
     "text": [
      "env: KALDI_ROOT=/opt/kaldi\n"
     ]
    }
   ],
   "source": [
    "%env KALDI_ROOT=/opt/kaldi"
   ]
  },
  {
   "cell_type": "code",
   "execution_count": 15,
   "id": "computational-mexican",
   "metadata": {
    "execution": {
     "iopub.execute_input": "2021-06-22T13:50:15.855218Z",
     "iopub.status.busy": "2021-06-22T13:50:15.854551Z",
     "iopub.status.idle": "2021-06-22T13:50:16.568896Z",
     "shell.execute_reply": "2021-06-22T13:50:16.567678Z",
     "shell.execute_reply.started": "2021-06-22T11:55:44.577705Z"
    },
    "papermill": {
     "duration": 0.754554,
     "end_time": "2021-06-22T13:50:16.569067",
     "exception": false,
     "start_time": "2021-06-22T13:50:15.814513",
     "status": "completed"
    },
    "tags": []
   },
   "outputs": [
    {
     "name": "stdout",
     "output_type": "stream",
     "text": [
      "export KALDI_ROOT=`pwd`/../../..\r\n",
      "[ -f $KALDI_ROOT/tools/env.sh ] && . $KALDI_ROOT/tools/env.sh\r\n",
      "export PATH=$PWD/utils/:$KALDI_ROOT/tools/openfst/bin:$PWD:$PATH\r\n",
      "[ ! -f $KALDI_ROOT/tools/config/common_path.sh ] && echo >&2 \"The standard file $KALDI_ROOT/tools/config/common_path.sh is not present -> Exit!\" && exit 1\r\n",
      ". $KALDI_ROOT/tools/config/common_path.sh\r\n",
      "export LC_ALL=C\r\n"
     ]
    }
   ],
   "source": [
    "!cat ../../wsj/s5/path.sh"
   ]
  },
  {
   "cell_type": "code",
   "execution_count": 16,
   "id": "fifteen-bidding",
   "metadata": {
    "execution": {
     "iopub.execute_input": "2021-06-22T13:50:16.641301Z",
     "iopub.status.busy": "2021-06-22T13:50:16.640613Z",
     "iopub.status.idle": "2021-06-22T13:50:16.644664Z",
     "shell.execute_reply": "2021-06-22T13:50:16.645161Z",
     "shell.execute_reply.started": "2021-06-22T12:00:36.247262Z"
    },
    "papermill": {
     "duration": 0.043437,
     "end_time": "2021-06-22T13:50:16.645339",
     "exception": false,
     "start_time": "2021-06-22T13:50:16.601902",
     "status": "completed"
    },
    "tags": []
   },
   "outputs": [
    {
     "name": "stdout",
     "output_type": "stream",
     "text": [
      "env: LC_ALL=C\n"
     ]
    }
   ],
   "source": [
    "%env LC_ALL=C\n",
    "#PWD = !pwd\n",
    "PWD = '/opt/kaldi/egs/usels/s5'\n",
    "KALDI_ROOT = '/opt/kaldi'\n",
    "WSJ_PATH = f'{PWD}/utils/:{KALDI_ROOT}/tools/openfst/bin:{PWD}:{EXISTING_PATH}'"
   ]
  },
  {
   "cell_type": "code",
   "execution_count": 17,
   "id": "focused-roller",
   "metadata": {
    "execution": {
     "iopub.execute_input": "2021-06-22T13:50:16.722989Z",
     "iopub.status.busy": "2021-06-22T13:50:16.721771Z",
     "iopub.status.idle": "2021-06-22T13:50:17.445754Z",
     "shell.execute_reply": "2021-06-22T13:50:17.445056Z",
     "shell.execute_reply.started": "2021-06-22T11:57:02.231388Z"
    },
    "papermill": {
     "duration": 0.766778,
     "end_time": "2021-06-22T13:50:17.445921",
     "exception": false,
     "start_time": "2021-06-22T13:50:16.679143",
     "status": "completed"
    },
    "tags": []
   },
   "outputs": [
    {
     "name": "stdout",
     "output_type": "stream",
     "text": [
      "# we assume KALDI_ROOT is already defined\r\n",
      "[ -z \"$KALDI_ROOT\" ] && echo >&2 \"The variable KALDI_ROOT must be already defined\" && exit 1\r\n",
      "# The formatting of the path export command is intentionally weird, because\r\n",
      "# this allows for easy diff'ing\r\n",
      "export PATH=\\\r\n",
      "${KALDI_ROOT}/src/bin:\\\r\n",
      "${KALDI_ROOT}/src/chainbin:\\\r\n",
      "${KALDI_ROOT}/src/featbin:\\\r\n",
      "${KALDI_ROOT}/src/fgmmbin:\\\r\n",
      "${KALDI_ROOT}/src/fstbin:\\\r\n",
      "${KALDI_ROOT}/src/gmmbin:\\\r\n",
      "${KALDI_ROOT}/src/ivectorbin:\\\r\n",
      "${KALDI_ROOT}/src/kwsbin:\\\r\n",
      "${KALDI_ROOT}/src/latbin:\\\r\n",
      "${KALDI_ROOT}/src/lmbin:\\\r\n",
      "${KALDI_ROOT}/src/nnet2bin:\\\r\n",
      "${KALDI_ROOT}/src/nnet3bin:\\\r\n",
      "${KALDI_ROOT}/src/nnetbin:\\\r\n",
      "${KALDI_ROOT}/src/online2bin:\\\r\n",
      "${KALDI_ROOT}/src/onlinebin:\\\r\n",
      "${KALDI_ROOT}/src/rnnlmbin:\\\r\n",
      "${KALDI_ROOT}/src/sgmm2bin:\\\r\n",
      "${KALDI_ROOT}/src/sgmmbin:\\\r\n",
      "${KALDI_ROOT}/src/tfrnnlmbin:\\\r\n",
      "${KALDI_ROOT}/src/cudadecoderbin:\\\r\n",
      "$PATH\r\n"
     ]
    }
   ],
   "source": [
    "!cat $KALDI_ROOT/tools/config/common_path.sh"
   ]
  },
  {
   "cell_type": "code",
   "execution_count": 18,
   "id": "green-discharge",
   "metadata": {
    "execution": {
     "iopub.execute_input": "2021-06-22T13:50:17.517485Z",
     "iopub.status.busy": "2021-06-22T13:50:17.516748Z",
     "iopub.status.idle": "2021-06-22T13:50:17.541531Z",
     "shell.execute_reply": "2021-06-22T13:50:17.540858Z",
     "shell.execute_reply.started": "2021-06-22T11:56:52.862746Z"
    },
    "papermill": {
     "duration": 0.062961,
     "end_time": "2021-06-22T13:50:17.541692",
     "exception": false,
     "start_time": "2021-06-22T13:50:17.478731",
     "status": "completed"
    },
    "tags": []
   },
   "outputs": [],
   "source": [
    "#kaldi_paths=!cat $KALDI_ROOT/tools/config/common_path.sh|grep '/src/'|awk -F':' '{print $1}'|awk -F'/' '{print $NF}'|tr '\\n' ':'\n",
    "raw_kaldi_paths=!cat $KALDI_ROOT/tools/config/common_path.sh|grep '/src/'|awk -F':' '{print $1}'|awk -F'/' '{print \"/opt/kaldi/src/\"$NF}'"
   ]
  },
  {
   "cell_type": "code",
   "execution_count": 19,
   "id": "partial-yorkshire",
   "metadata": {
    "execution": {
     "iopub.execute_input": "2021-06-22T13:50:17.615280Z",
     "iopub.status.busy": "2021-06-22T13:50:17.614585Z",
     "iopub.status.idle": "2021-06-22T13:50:17.617846Z",
     "shell.execute_reply": "2021-06-22T13:50:17.617273Z",
     "shell.execute_reply.started": "2021-06-22T12:02:21.567242Z"
    },
    "papermill": {
     "duration": 0.04297,
     "end_time": "2021-06-22T13:50:17.617993",
     "exception": false,
     "start_time": "2021-06-22T13:50:17.575023",
     "status": "completed"
    },
    "tags": []
   },
   "outputs": [],
   "source": [
    "KALDI_PATHS=raw_kaldi_paths.nlstr.replace('\\n',':')"
   ]
  },
  {
   "cell_type": "code",
   "execution_count": 20,
   "id": "grateful-ethernet",
   "metadata": {
    "execution": {
     "iopub.execute_input": "2021-06-22T13:50:17.692484Z",
     "iopub.status.busy": "2021-06-22T13:50:17.691007Z",
     "iopub.status.idle": "2021-06-22T13:50:18.475730Z",
     "shell.execute_reply": "2021-06-22T13:50:18.476551Z",
     "shell.execute_reply.started": "2021-06-22T11:56:58.4537Z"
    },
    "papermill": {
     "duration": 0.82629,
     "end_time": "2021-06-22T13:50:18.476863",
     "exception": false,
     "start_time": "2021-06-22T13:50:17.650573",
     "status": "completed"
    },
    "tags": []
   },
   "outputs": [
    {
     "name": "stdout",
     "output_type": "stream",
     "text": [
      "export PATH=/opt/kaldi/tools/python:${PATH}\r\n",
      "export PHONETISAURUS=\"/tmp/output/opt/kaldi/tools/phonetisaurus-g2p\"\r\n",
      "export PATH=\"$PATH:${PHONETISAURUS}:${PHONETISAURUS}/src/scripts\"\r\n"
     ]
    }
   ],
   "source": [
    "!cat $KALDI_ROOT/tools/env.sh"
   ]
  },
  {
   "cell_type": "code",
   "execution_count": 21,
   "id": "dietary-fundamentals",
   "metadata": {
    "execution": {
     "iopub.execute_input": "2021-06-22T13:50:18.563577Z",
     "iopub.status.busy": "2021-06-22T13:50:18.562920Z",
     "iopub.status.idle": "2021-06-22T13:50:18.568228Z",
     "shell.execute_reply": "2021-06-22T13:50:18.568744Z",
     "shell.execute_reply.started": "2021-06-22T12:02:09.80754Z"
    },
    "papermill": {
     "duration": 0.056728,
     "end_time": "2021-06-22T13:50:18.568934",
     "exception": false,
     "start_time": "2021-06-22T13:50:18.512206",
     "status": "completed"
    },
    "tags": []
   },
   "outputs": [],
   "source": [
    "PHONETISAURUS = \"/tmp/output/opt/kaldi/tools/phonetisaurus-g2p\"\n",
    "TOOLS_PATH = f'/opt/kaldi/tools/python:{PHONETISAURUS}:{PHONETISAURUS}/src/scripts'"
   ]
  },
  {
   "cell_type": "code",
   "execution_count": 22,
   "id": "qualified-maria",
   "metadata": {
    "execution": {
     "iopub.execute_input": "2021-06-22T13:50:18.652380Z",
     "iopub.status.busy": "2021-06-22T13:50:18.651675Z",
     "iopub.status.idle": "2021-06-22T13:50:18.658836Z",
     "shell.execute_reply": "2021-06-22T13:50:18.658327Z",
     "shell.execute_reply.started": "2021-06-22T12:03:04.119662Z"
    },
    "papermill": {
     "duration": 0.046599,
     "end_time": "2021-06-22T13:50:18.658979",
     "exception": false,
     "start_time": "2021-06-22T13:50:18.612380",
     "status": "completed"
    },
    "tags": []
   },
   "outputs": [
    {
     "name": "stdout",
     "output_type": "stream",
     "text": [
      "env: PATH=f\"/opt/kaldi/egs/usels/s5/utils/:/opt/kaldi/tools/openfst/bin:/opt/kaldi/egs/usels/s5:/opt/conda/bin:/usr/local/sbin:/usr/local/bin:/usr/sbin:/usr/bin:/sbin:/bin:/opt/kaldi/src/bin:/opt/kaldi/src/chainbin:/opt/kaldi/src/featbin:/opt/kaldi/src/fgmmbin:/opt/kaldi/src/fstbin:/opt/kaldi/src/gmmbin:/opt/kaldi/src/ivectorbin:/opt/kaldi/src/kwsbin:/opt/kaldi/src/latbin:/opt/kaldi/src/lmbin:/opt/kaldi/src/nnet2bin:/opt/kaldi/src/nnet3bin:/opt/kaldi/src/nnetbin:/opt/kaldi/src/online2bin:/opt/kaldi/src/onlinebin:/opt/kaldi/src/rnnlmbin:/opt/kaldi/src/sgmm2bin:/opt/kaldi/src/sgmmbin:/opt/kaldi/src/tfrnnlmbin:/opt/kaldi/src/cudadecoderbin:/opt/kaldi/tools/python:/tmp/output/opt/kaldi/tools/phonetisaurus-g2p:/tmp/output/opt/kaldi/tools/phonetisaurus-g2p/src/scripts\"\n"
     ]
    }
   ],
   "source": [
    "%env PATH = f\"{WSJ_PATH}:{KALDI_PATHS}:{TOOLS_PATH}\""
   ]
  },
  {
   "cell_type": "code",
   "execution_count": 23,
   "id": "transsexual-fellowship",
   "metadata": {
    "execution": {
     "iopub.execute_input": "2021-06-22T13:50:18.736286Z",
     "iopub.status.busy": "2021-06-22T13:50:18.730314Z",
     "iopub.status.idle": "2021-06-22T13:50:19.462667Z",
     "shell.execute_reply": "2021-06-22T13:50:19.462090Z",
     "shell.execute_reply.started": "2021-06-22T12:16:15.76424Z"
    },
    "papermill": {
     "duration": 0.770461,
     "end_time": "2021-06-22T13:50:19.462830",
     "exception": false,
     "start_time": "2021-06-22T13:50:18.692369",
     "status": "completed"
    },
    "tags": []
   },
   "outputs": [
    {
     "name": "stdout",
     "output_type": "stream",
     "text": [
      "# you can change cmd.sh depending on what type of queue you are using.\r\n",
      "# If you have no queueing system and want to run on a local machine, you\r\n",
      "# can change all instances 'queue.pl' to run.pl (but be careful and run\r\n",
      "# commands one by one: most recipes will exhaust the memory on your\r\n",
      "# machine).  queue.pl works with GridEngine (qsub).  slurm.pl works\r\n",
      "# with slurm.  Different queues are configured differently, with different\r\n",
      "# queue names and different ways of specifying things like memory;\r\n",
      "# to account for these differences you can create and edit the file\r\n",
      "# conf/queue.conf to match your queue's configuration.  Search for\r\n",
      "# conf/queue.conf in http://kaldi-asr.org/doc/queue.html for more information,\r\n",
      "# or search for the string 'default_config' in utils/queue.pl or utils/slurm.pl.\r\n",
      "\r\n",
      "export train_cmd=queue.pl\r\n",
      "export decode_cmd=\"queue.pl --mem 2G\"\r\n",
      "# the use of cuda_cmd is deprecated, used only in 'nnet1',\r\n",
      "export cuda_cmd=\"queue.pl --gpu 1\"\r\n",
      "\r\n",
      "if [ \"$(hostname -d)\" == \"fit.vutbr.cz\" ]; then\r\n",
      "  queue_conf=$HOME/queue_conf/default.conf # see example /homes/kazi/iveselyk/queue_conf/default.conf,\r\n",
      "  export train_cmd=\"queue.pl --config $queue_conf --mem 2G --matylda 0.2\"\r\n",
      "  export decode_cmd=\"queue.pl --config $queue_conf --mem 3G --matylda 0.1\"\r\n",
      "  export cuda_cmd=\"queue.pl --config $queue_conf --gpu 1 --mem 10G --tmp 40G\"\r\n",
      "fi\r\n"
     ]
    }
   ],
   "source": [
    "!cat ../../wsj/s5/cmd.sh"
   ]
  },
  {
   "cell_type": "code",
   "execution_count": 24,
   "id": "intimate-boundary",
   "metadata": {
    "execution": {
     "iopub.execute_input": "2021-06-22T13:50:19.537011Z",
     "iopub.status.busy": "2021-06-22T13:50:19.536179Z",
     "iopub.status.idle": "2021-06-22T13:50:19.540594Z",
     "shell.execute_reply": "2021-06-22T13:50:19.539990Z",
     "shell.execute_reply.started": "2021-06-22T12:25:36.054695Z"
    },
    "papermill": {
     "duration": 0.044078,
     "end_time": "2021-06-22T13:50:19.540743",
     "exception": false,
     "start_time": "2021-06-22T13:50:19.496665",
     "status": "completed"
    },
    "tags": []
   },
   "outputs": [
    {
     "name": "stdout",
     "output_type": "stream",
     "text": [
      "env: train_cmd=run.pl\n",
      "env: decode_cmd=\"run.pl --mem 2G\"\n"
     ]
    }
   ],
   "source": [
    "%env train_cmd=run.pl\n",
    "%env decode_cmd=\"run.pl --mem 2G\""
   ]
  },
  {
   "cell_type": "code",
   "execution_count": 25,
   "id": "trained-terminology",
   "metadata": {
    "execution": {
     "iopub.execute_input": "2021-06-22T13:50:19.621765Z",
     "iopub.status.busy": "2021-06-22T13:50:19.621076Z",
     "iopub.status.idle": "2021-06-22T13:50:22.489840Z",
     "shell.execute_reply": "2021-06-22T13:50:22.490350Z",
     "shell.execute_reply.started": "2021-06-22T12:25:39.332426Z"
    },
    "papermill": {
     "duration": 2.915644,
     "end_time": "2021-06-22T13:50:22.490523",
     "exception": false,
     "start_time": "2021-06-22T13:50:19.574879",
     "status": "completed"
    },
    "tags": []
   },
   "outputs": [],
   "source": [
    "!ln -s ../../wsj/s5/cmd.sh\n",
    "!ln -s ../../wsj/s5/path.sh\n",
    "!ln -s utils/queue.pl\n",
    "!ln -s utils/run.pl"
   ]
  },
  {
   "cell_type": "code",
   "execution_count": 26,
   "id": "portuguese-introduction",
   "metadata": {
    "execution": {
     "iopub.execute_input": "2021-06-22T13:50:22.564332Z",
     "iopub.status.busy": "2021-06-22T13:50:22.563357Z",
     "iopub.status.idle": "2021-06-22T13:50:23.290297Z",
     "shell.execute_reply": "2021-06-22T13:50:23.289604Z",
     "shell.execute_reply.started": "2021-06-22T12:25:11.355403Z"
    },
    "papermill": {
     "duration": 0.766217,
     "end_time": "2021-06-22T13:50:23.290445",
     "exception": false,
     "start_time": "2021-06-22T13:50:22.524228",
     "status": "completed"
    },
    "tags": []
   },
   "outputs": [],
   "source": [
    "!rm *.pl"
   ]
  },
  {
   "cell_type": "markdown",
   "id": "cubic-stopping",
   "metadata": {
    "papermill": {
     "duration": 0.03341,
     "end_time": "2021-06-22T13:50:23.357872",
     "exception": false,
     "start_time": "2021-06-22T13:50:23.324462",
     "status": "completed"
    },
    "tags": []
   },
   "source": [
    "## Data prep"
   ]
  },
  {
   "cell_type": "code",
   "execution_count": 27,
   "id": "dimensional-rehabilitation",
   "metadata": {
    "execution": {
     "iopub.execute_input": "2021-06-22T13:50:23.436125Z",
     "iopub.status.busy": "2021-06-22T13:50:23.432415Z",
     "iopub.status.idle": "2021-06-22T13:50:34.706015Z",
     "shell.execute_reply": "2021-06-22T13:50:34.706496Z",
     "shell.execute_reply.started": "2021-06-22T12:10:48.153674Z"
    },
    "papermill": {
     "duration": 11.314902,
     "end_time": "2021-06-22T13:50:34.706683",
     "exception": false,
     "start_time": "2021-06-22T13:50:23.391781",
     "status": "completed"
    },
    "tags": []
   },
   "outputs": [
    {
     "name": "stdout",
     "output_type": "stream",
     "text": [
      "utils/validate_data_dir.sh: Successfully validated data-directory data/test-other\r\n",
      "local/data_prep.sh: successfully prepared data in data/test-other\r\n",
      "utils/validate_data_dir.sh: Successfully validated data-directory data/test-clean\r\n",
      "local/data_prep.sh: successfully prepared data in data/test-clean\r\n"
     ]
    }
   ],
   "source": [
    "!local/data_prep.sh /kaggle/input/librispeech-test-clean-and-other/LibriSpeech/test-other data/test-other\n",
    "!local/data_prep.sh /kaggle/input/librispeech-test-clean-and-other/LibriSpeech/test-clean data/test-clean"
   ]
  },
  {
   "cell_type": "code",
   "execution_count": 28,
   "id": "knowing-camcorder",
   "metadata": {
    "execution": {
     "iopub.execute_input": "2021-06-22T13:50:34.786880Z",
     "iopub.status.busy": "2021-06-22T13:50:34.786052Z",
     "iopub.status.idle": "2021-06-22T13:50:36.818949Z",
     "shell.execute_reply": "2021-06-22T13:50:36.818065Z",
     "shell.execute_reply.started": "2021-06-22T12:12:48.716774Z"
    },
    "papermill": {
     "duration": 2.077337,
     "end_time": "2021-06-22T13:50:36.819102",
     "exception": false,
     "start_time": "2021-06-22T13:50:34.741765",
     "status": "completed"
    },
    "tags": []
   },
   "outputs": [
    {
     "name": "stdout",
     "output_type": "stream",
     "text": [
      "utils/copy_data_dir.sh: copied data from data/test-clean to data/test-clean_hires\r\n",
      "utils/validate_data_dir.sh: Successfully validated data-directory data/test-clean_hires\r\n",
      "utils/copy_data_dir.sh: copied data from data/test-other to data/test-other_hires\r\n",
      "utils/validate_data_dir.sh: Successfully validated data-directory data/test-other_hires\r\n"
     ]
    }
   ],
   "source": [
    "!utils/copy_data_dir.sh data/test-clean data/test-clean_hires\n",
    "!utils/copy_data_dir.sh data/test-other data/test-other_hires"
   ]
  },
  {
   "cell_type": "code",
   "execution_count": 29,
   "id": "quality-anger",
   "metadata": {
    "execution": {
     "iopub.execute_input": "2021-06-22T13:50:36.899689Z",
     "iopub.status.busy": "2021-06-22T13:50:36.899040Z",
     "iopub.status.idle": "2021-06-22T13:50:37.622590Z",
     "shell.execute_reply": "2021-06-22T13:50:37.621992Z",
     "shell.execute_reply.started": "2021-06-22T12:20:32.826362Z"
    },
    "papermill": {
     "duration": 0.767939,
     "end_time": "2021-06-22T13:50:37.622739",
     "exception": false,
     "start_time": "2021-06-22T13:50:36.854800",
     "status": "completed"
    },
    "tags": []
   },
   "outputs": [],
   "source": [
    "!ln -s utils/parse_options.sh"
   ]
  },
  {
   "cell_type": "code",
   "execution_count": 30,
   "id": "emerging-archives",
   "metadata": {
    "execution": {
     "iopub.execute_input": "2021-06-22T13:50:37.718559Z",
     "iopub.status.busy": "2021-06-22T13:50:37.717613Z",
     "iopub.status.idle": "2021-06-22T13:52:01.700665Z",
     "shell.execute_reply": "2021-06-22T13:52:01.700121Z",
     "shell.execute_reply.started": "2021-06-22T12:25:44.313451Z"
    },
    "papermill": {
     "duration": 84.042337,
     "end_time": "2021-06-22T13:52:01.700857",
     "exception": false,
     "start_time": "2021-06-22T13:50:37.658520",
     "status": "completed"
    },
    "tags": []
   },
   "outputs": [
    {
     "name": "stdout",
     "output_type": "stream",
     "text": [
      "steps/make_mfcc.sh --nj 20 --mfcc-config conf/mfcc_hires.conf --cmd run.pl data/test-clean_hires\r\n",
      "utils/validate_data_dir.sh: Successfully validated data-directory data/test-clean_hires\r\n",
      "steps/make_mfcc.sh: [info]: no segments file exists: assuming wav.scp indexed by utterance.\r\n",
      "steps/make_mfcc.sh: Succeeded creating MFCC features for test-clean_hires\r\n",
      "steps/compute_cmvn_stats.sh data/test-clean_hires\r\n",
      "Succeeded creating CMVN stats for test-clean_hires\r\n",
      "fix_data_dir.sh: kept all 2620 utterances.\r\n",
      "fix_data_dir.sh: old files are kept in data/test-clean_hires/.backup\r\n",
      "steps/make_mfcc.sh --nj 20 --mfcc-config conf/mfcc_hires.conf --cmd run.pl data/test-other_hires\r\n",
      "utils/validate_data_dir.sh: Successfully validated data-directory data/test-other_hires\r\n",
      "steps/make_mfcc.sh: [info]: no segments file exists: assuming wav.scp indexed by utterance.\r\n",
      "steps/make_mfcc.sh: Succeeded creating MFCC features for test-other_hires\r\n",
      "steps/compute_cmvn_stats.sh data/test-other_hires\r\n",
      "Succeeded creating CMVN stats for test-other_hires\r\n",
      "fix_data_dir.sh: kept all 2939 utterances.\r\n",
      "fix_data_dir.sh: old files are kept in data/test-other_hires/.backup\r\n"
     ]
    }
   ],
   "source": [
    "!steps/make_mfcc.sh --nj 20 --mfcc-config conf/mfcc_hires.conf --cmd \"$train_cmd\" data/test-clean_hires\n",
    "!steps/compute_cmvn_stats.sh data/test-clean_hires\n",
    "!utils/fix_data_dir.sh data/test-clean_hires\n",
    "!steps/make_mfcc.sh --nj 20 --mfcc-config conf/mfcc_hires.conf --cmd \"$train_cmd\" data/test-other_hires\n",
    "!steps/compute_cmvn_stats.sh data/test-other_hires\n",
    "!utils/fix_data_dir.sh data/test-other_hires\n"
   ]
  },
  {
   "cell_type": "markdown",
   "id": "employed-valentine",
   "metadata": {
    "papermill": {
     "duration": 0.040256,
     "end_time": "2021-06-22T13:52:01.782742",
     "exception": false,
     "start_time": "2021-06-22T13:52:01.742486",
     "status": "completed"
    },
    "tags": []
   },
   "source": [
    "## Extract i-vectors"
   ]
  },
  {
   "cell_type": "code",
   "execution_count": 31,
   "id": "frank-comparison",
   "metadata": {
    "execution": {
     "iopub.execute_input": "2021-06-22T13:52:01.875477Z",
     "iopub.status.busy": "2021-06-22T13:52:01.872232Z",
     "iopub.status.idle": "2021-06-22T13:52:03.316524Z",
     "shell.execute_reply": "2021-06-22T13:52:03.315966Z",
     "shell.execute_reply.started": "2021-06-22T12:38:42.072847Z"
    },
    "papermill": {
     "duration": 1.492139,
     "end_time": "2021-06-22T13:52:03.316681",
     "exception": false,
     "start_time": "2021-06-22T13:52:01.824542",
     "status": "completed"
    },
    "tags": []
   },
   "outputs": [],
   "source": [
    "!ln -s /kaggle/input/kaldi-librispeech-model/exp/nnet3_cleaned/ exp/nnet3_cleaned\n",
    "!ln -s /kaggle/input/kaldi-librispeech-model/exp/chain_cleaned/ exp/chain_cleaned"
   ]
  },
  {
   "cell_type": "code",
   "execution_count": 32,
   "id": "seasonal-confidence",
   "metadata": {
    "execution": {
     "iopub.execute_input": "2021-06-22T13:52:03.409719Z",
     "iopub.status.busy": "2021-06-22T13:52:03.408630Z",
     "iopub.status.idle": "2021-06-22T13:53:15.612168Z",
     "shell.execute_reply": "2021-06-22T13:53:15.611615Z",
     "shell.execute_reply.started": "2021-06-22T12:44:16.329652Z"
    },
    "papermill": {
     "duration": 72.255216,
     "end_time": "2021-06-22T13:53:15.612376",
     "exception": false,
     "start_time": "2021-06-22T13:52:03.357160",
     "status": "completed"
    },
    "tags": []
   },
   "outputs": [
    {
     "name": "stdout",
     "output_type": "stream",
     "text": [
      "env: nspk=$(wc -l <data/test-clean_hires/spk2utt)\n",
      "steps/online/nnet2/extract_ivectors_online.sh --cmd run.pl --nj $(wc -l <data/test-clean_hires/spk2utt) data/test-clean_hires exp/nnet3_cleaned/extractor exp/nnet3_cleaned_out/ivectors_test-clean_hires\r\n",
      "steps/online/nnet2/extract_ivectors_online.sh: extracting iVectors\r\n",
      "steps/online/nnet2/extract_ivectors_online.sh: combining iVectors across jobs\r\n",
      "steps/online/nnet2/extract_ivectors_online.sh: done extracting (online) iVectors to exp/nnet3_cleaned_out/ivectors_test-clean_hires using the extractor in exp/nnet3_cleaned/extractor.\r\n",
      "env: nspk=$(wc -l <data/test-other_hires/spk2utt)\n",
      "steps/online/nnet2/extract_ivectors_online.sh --cmd run.pl --nj $(wc -l <data/test-other_hires/spk2utt) data/test-other_hires exp/nnet3_cleaned/extractor exp/nnet3_cleaned_out/ivectors_test-other_hires\r\n",
      "steps/online/nnet2/extract_ivectors_online.sh: extracting iVectors\r\n",
      "steps/online/nnet2/extract_ivectors_online.sh: combining iVectors across jobs\r\n",
      "steps/online/nnet2/extract_ivectors_online.sh: done extracting (online) iVectors to exp/nnet3_cleaned_out/ivectors_test-other_hires using the extractor in exp/nnet3_cleaned/extractor.\r\n"
     ]
    }
   ],
   "source": [
    "%env nspk=$(wc -l <data/test-clean_hires/spk2utt)\n",
    "!steps/online/nnet2/extract_ivectors_online.sh --cmd \"$train_cmd\" --nj \"${nspk}\" data/test-clean_hires exp/nnet3_cleaned/extractor exp/nnet3_cleaned_out/ivectors_test-clean_hires\n",
    "%env nspk=$(wc -l <data/test-other_hires/spk2utt)\n",
    "!steps/online/nnet2/extract_ivectors_online.sh --cmd \"$train_cmd\" --nj \"${nspk}\" data/test-other_hires exp/nnet3_cleaned/extractor exp/nnet3_cleaned_out/ivectors_test-other_hires"
   ]
  },
  {
   "cell_type": "markdown",
   "id": "attractive-outreach",
   "metadata": {
    "papermill": {
     "duration": 0.046535,
     "end_time": "2021-06-22T13:53:15.702499",
     "exception": false,
     "start_time": "2021-06-22T13:53:15.655964",
     "status": "completed"
    },
    "tags": []
   },
   "source": [
    "## Build decoding graph"
   ]
  },
  {
   "cell_type": "code",
   "execution_count": 33,
   "id": "dried-stuart",
   "metadata": {
    "execution": {
     "iopub.execute_input": "2021-06-22T13:53:15.803543Z",
     "iopub.status.busy": "2021-06-22T13:53:15.799625Z",
     "iopub.status.idle": "2021-06-22T13:53:16.526079Z",
     "shell.execute_reply": "2021-06-22T13:53:16.525310Z"
    },
    "papermill": {
     "duration": 0.779747,
     "end_time": "2021-06-22T13:53:16.526233",
     "exception": false,
     "start_time": "2021-06-22T13:53:15.746486",
     "status": "completed"
    },
    "tags": []
   },
   "outputs": [
    {
     "name": "stdout",
     "output_type": "stream",
     "text": [
      "env: dir=exp/chain_cleaned/tdnn_1d_sp\n",
      "env: graph_dir=exp/chain_cleaned_out/graph_tgsmall\n",
      "mkgraph.sh: expected data/lang_test_tgsmall/L_disambig.fst to exist\r\n"
     ]
    }
   ],
   "source": [
    "%env dir=exp/chain_cleaned/tdnn_1d_sp\n",
    "%env graph_dir=exp/chain_cleaned_out/graph_tgsmall\n",
    "!utils/mkgraph.sh --self-loop-scale 1.0 --remove-oov data/lang_test_tgsmall $dir $graph_dir"
   ]
  },
  {
   "cell_type": "markdown",
   "id": "paperback-impact",
   "metadata": {
    "papermill": {
     "duration": 0.044785,
     "end_time": "2021-06-22T13:53:16.616784",
     "exception": false,
     "start_time": "2021-06-22T13:53:16.571999",
     "status": "completed"
    },
    "tags": []
   },
   "source": [
    "## "
   ]
  }
 ],
 "metadata": {
  "kernelspec": {
   "display_name": "Python 3",
   "language": "python",
   "name": "python3"
  },
  "language_info": {
   "codemirror_mode": {
    "name": "ipython",
    "version": 3
   },
   "file_extension": ".py",
   "mimetype": "text/x-python",
   "name": "python",
   "nbconvert_exporter": "python",
   "pygments_lexer": "ipython3",
   "version": "3.7.10"
  },
  "papermill": {
   "default_parameters": {},
   "duration": 278.868511,
   "end_time": "2021-06-22T13:53:17.575982",
   "environment_variables": {},
   "exception": null,
   "input_path": "__notebook__.ipynb",
   "output_path": "__notebook__.ipynb",
   "parameters": {},
   "start_time": "2021-06-22T13:48:38.707471",
   "version": "2.3.3"
  }
 },
 "nbformat": 4,
 "nbformat_minor": 5
}
