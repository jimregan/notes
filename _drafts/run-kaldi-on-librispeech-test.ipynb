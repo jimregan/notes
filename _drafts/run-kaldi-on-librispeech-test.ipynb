{
 "cells": [
  {
   "cell_type": "markdown",
   "id": "discrete-niagara",
   "metadata": {
    "papermill": {
     "duration": 0.029496,
     "end_time": "2021-06-22T13:30:59.164540",
     "exception": false,
     "start_time": "2021-06-22T13:30:59.135044",
     "status": "completed"
    },
    "tags": []
   },
   "source": [
    "## Unpack Kaldi"
   ]
  },
  {
   "cell_type": "code",
   "execution_count": 1,
   "id": "cross-beads",
   "metadata": {
    "_cell_guid": "b1076dfc-b9ad-4769-8c92-a6c4dae69d19",
    "_uuid": "8f2839f25d086af736a60e9eeb907d3b93b6e0e5",
    "execution": {
     "iopub.execute_input": "2021-06-22T13:30:59.225785Z",
     "iopub.status.busy": "2021-06-22T13:30:59.224646Z",
     "iopub.status.idle": "2021-06-22T13:30:59.235919Z",
     "shell.execute_reply": "2021-06-22T13:30:59.236655Z",
     "shell.execute_reply.started": "2021-06-22T11:54:50.153353Z"
    },
    "papermill": {
     "duration": 0.043838,
     "end_time": "2021-06-22T13:30:59.237045",
     "exception": false,
     "start_time": "2021-06-22T13:30:59.193207",
     "status": "completed"
    },
    "tags": []
   },
   "outputs": [
    {
     "name": "stdout",
     "output_type": "stream",
     "text": [
      "/opt\n"
     ]
    }
   ],
   "source": [
    "%cd /opt"
   ]
  },
  {
   "cell_type": "code",
   "execution_count": 2,
   "id": "disabled-healing",
   "metadata": {
    "execution": {
     "iopub.execute_input": "2021-06-22T13:30:59.305940Z",
     "iopub.status.busy": "2021-06-22T13:30:59.305144Z",
     "iopub.status.idle": "2021-06-22T13:31:45.018763Z",
     "shell.execute_reply": "2021-06-22T13:31:45.018156Z",
     "shell.execute_reply.started": "2021-06-22T11:54:53.255442Z"
    },
    "papermill": {
     "duration": 45.750096,
     "end_time": "2021-06-22T13:31:45.018991",
     "exception": false,
     "start_time": "2021-06-22T13:30:59.268895",
     "status": "completed"
    },
    "tags": []
   },
   "outputs": [],
   "source": [
    "%%capture\n",
    "!tar xvf /kaggle/input/extract-prebuilt-kaldi-from-docker/kaldi.tar"
   ]
  },
  {
   "cell_type": "code",
   "execution_count": 3,
   "id": "descending-lighter",
   "metadata": {
    "execution": {
     "iopub.execute_input": "2021-06-22T13:31:45.087929Z",
     "iopub.status.busy": "2021-06-22T13:31:45.087167Z",
     "iopub.status.idle": "2021-06-22T13:31:45.090568Z",
     "shell.execute_reply": "2021-06-22T13:31:45.089986Z",
     "shell.execute_reply.started": "2021-06-22T11:55:40.60018Z"
    },
    "papermill": {
     "duration": 0.038195,
     "end_time": "2021-06-22T13:31:45.090743",
     "exception": false,
     "start_time": "2021-06-22T13:31:45.052548",
     "status": "completed"
    },
    "tags": []
   },
   "outputs": [],
   "source": [
    "import os\n",
    "os.environ['LD_LIBRARY_PATH'] = '/opt/conda/lib:/opt/kaldi/tools/openfst-1.6.7/lib:/opt/kaldi/src/lib:'\n",
    "EXISTING_PATH = os.environ['PATH']"
   ]
  },
  {
   "cell_type": "code",
   "execution_count": 4,
   "id": "valid-shift",
   "metadata": {
    "execution": {
     "iopub.execute_input": "2021-06-22T13:31:45.157600Z",
     "iopub.status.busy": "2021-06-22T13:31:45.156265Z",
     "iopub.status.idle": "2021-06-22T13:31:45.163026Z",
     "shell.execute_reply": "2021-06-22T13:31:45.162265Z"
    },
    "papermill": {
     "duration": 0.042762,
     "end_time": "2021-06-22T13:31:45.163184",
     "exception": false,
     "start_time": "2021-06-22T13:31:45.120422",
     "status": "completed"
    },
    "tags": []
   },
   "outputs": [
    {
     "name": "stdout",
     "output_type": "stream",
     "text": [
      "/\n"
     ]
    }
   ],
   "source": [
    "%cd /\n"
   ]
  },
  {
   "cell_type": "code",
   "execution_count": 5,
   "id": "electronic-worthy",
   "metadata": {
    "execution": {
     "iopub.execute_input": "2021-06-22T13:31:45.232177Z",
     "iopub.status.busy": "2021-06-22T13:31:45.231517Z",
     "iopub.status.idle": "2021-06-22T13:32:20.028208Z",
     "shell.execute_reply": "2021-06-22T13:32:20.027339Z"
    },
    "papermill": {
     "duration": 34.834123,
     "end_time": "2021-06-22T13:32:20.028393",
     "exception": false,
     "start_time": "2021-06-22T13:31:45.194270",
     "status": "completed"
    },
    "tags": []
   },
   "outputs": [],
   "source": [
    "%%capture\n",
    "!tar xvf /kaggle/input/extract-cuda-from-kaldi-docker/cuda.tar"
   ]
  },
  {
   "cell_type": "code",
   "execution_count": 6,
   "id": "blessed-owner",
   "metadata": {
    "execution": {
     "iopub.execute_input": "2021-06-22T13:32:20.102320Z",
     "iopub.status.busy": "2021-06-22T13:32:20.101152Z",
     "iopub.status.idle": "2021-06-22T13:32:20.104016Z",
     "shell.execute_reply": "2021-06-22T13:32:20.103437Z",
     "shell.execute_reply.started": "2021-06-22T13:29:47.085695Z"
    },
    "papermill": {
     "duration": 0.040128,
     "end_time": "2021-06-22T13:32:20.104181",
     "exception": false,
     "start_time": "2021-06-22T13:32:20.064053",
     "status": "completed"
    },
    "tags": []
   },
   "outputs": [],
   "source": [
    "import os\n",
    "os.environ['LD_LIBRARY_PATH'] = f'{os.environ[\"LD_LIBRARY_PATH\"]}:/usr/local/cuda-10.0/targets/x86_64-linux/lib/'"
   ]
  },
  {
   "cell_type": "code",
   "execution_count": 7,
   "id": "numerical-bibliography",
   "metadata": {
    "execution": {
     "iopub.execute_input": "2021-06-22T13:32:20.171208Z",
     "iopub.status.busy": "2021-06-22T13:32:20.170526Z",
     "iopub.status.idle": "2021-06-22T13:32:20.176097Z",
     "shell.execute_reply": "2021-06-22T13:32:20.177027Z",
     "shell.execute_reply.started": "2021-06-22T11:55:40.610869Z"
    },
    "papermill": {
     "duration": 0.042435,
     "end_time": "2021-06-22T13:32:20.177382",
     "exception": false,
     "start_time": "2021-06-22T13:32:20.134947",
     "status": "completed"
    },
    "tags": []
   },
   "outputs": [
    {
     "name": "stdout",
     "output_type": "stream",
     "text": [
      "/opt/kaldi/egs\n"
     ]
    }
   ],
   "source": [
    "%cd /opt/kaldi/egs"
   ]
  },
  {
   "cell_type": "markdown",
   "id": "killing-index",
   "metadata": {
    "papermill": {
     "duration": 0.030158,
     "end_time": "2021-06-22T13:32:20.239045",
     "exception": false,
     "start_time": "2021-06-22T13:32:20.208887",
     "status": "completed"
    },
    "tags": []
   },
   "source": [
    "## Install flac"
   ]
  },
  {
   "cell_type": "code",
   "execution_count": 8,
   "id": "ethical-heart",
   "metadata": {
    "execution": {
     "iopub.execute_input": "2021-06-22T13:32:20.309996Z",
     "iopub.status.busy": "2021-06-22T13:32:20.306037Z",
     "iopub.status.idle": "2021-06-22T13:32:31.767559Z",
     "shell.execute_reply": "2021-06-22T13:32:31.768091Z",
     "shell.execute_reply.started": "2021-06-22T12:06:36.222984Z"
    },
    "papermill": {
     "duration": 11.498224,
     "end_time": "2021-06-22T13:32:31.768286",
     "exception": false,
     "start_time": "2021-06-22T13:32:20.270062",
     "status": "completed"
    },
    "tags": []
   },
   "outputs": [],
   "source": [
    "%%capture\n",
    "!apt install -y flac"
   ]
  },
  {
   "cell_type": "markdown",
   "id": "imposed-period",
   "metadata": {
    "papermill": {
     "duration": 0.031292,
     "end_time": "2021-06-22T13:32:31.829347",
     "exception": false,
     "start_time": "2021-06-22T13:32:31.798055",
     "status": "completed"
    },
    "tags": []
   },
   "source": [
    "## Create a work directory"
   ]
  },
  {
   "cell_type": "code",
   "execution_count": 9,
   "id": "thermal-corruption",
   "metadata": {
    "execution": {
     "iopub.execute_input": "2021-06-22T13:32:31.900916Z",
     "iopub.status.busy": "2021-06-22T13:32:31.900242Z",
     "iopub.status.idle": "2021-06-22T13:32:32.625686Z",
     "shell.execute_reply": "2021-06-22T13:32:32.625111Z",
     "shell.execute_reply.started": "2021-06-22T11:55:40.659251Z"
    },
    "papermill": {
     "duration": 0.765465,
     "end_time": "2021-06-22T13:32:32.625837",
     "exception": false,
     "start_time": "2021-06-22T13:32:31.860372",
     "status": "completed"
    },
    "tags": []
   },
   "outputs": [
    {
     "name": "stdout",
     "output_type": "stream",
     "text": [
      "/opt/kaldi/egs/usels/s5\n"
     ]
    }
   ],
   "source": [
    "!mkdir -p usels/s5\n",
    "%cd usels/s5"
   ]
  },
  {
   "cell_type": "code",
   "execution_count": 10,
   "id": "korean-injection",
   "metadata": {
    "execution": {
     "iopub.execute_input": "2021-06-22T13:32:32.701280Z",
     "iopub.status.busy": "2021-06-22T13:32:32.700307Z",
     "iopub.status.idle": "2021-06-22T13:32:35.575804Z",
     "shell.execute_reply": "2021-06-22T13:32:35.575053Z",
     "shell.execute_reply.started": "2021-06-22T12:08:43.066673Z"
    },
    "papermill": {
     "duration": 2.918405,
     "end_time": "2021-06-22T13:32:35.575964",
     "exception": false,
     "start_time": "2021-06-22T13:32:32.657559",
     "status": "completed"
    },
    "tags": []
   },
   "outputs": [],
   "source": [
    "!mkdir /kaggle/working/data\n",
    "!mkdir /kaggle/working/exp\n",
    "!ln -s /kaggle/working/data\n",
    "!ln -s /kaggle/working/exp"
   ]
  },
  {
   "cell_type": "code",
   "execution_count": 11,
   "id": "preliminary-rwanda",
   "metadata": {
    "execution": {
     "iopub.execute_input": "2021-06-22T13:32:35.646378Z",
     "iopub.status.busy": "2021-06-22T13:32:35.642747Z",
     "iopub.status.idle": "2021-06-22T13:32:37.820197Z",
     "shell.execute_reply": "2021-06-22T13:32:37.819592Z",
     "shell.execute_reply.started": "2021-06-22T11:55:41.459018Z"
    },
    "papermill": {
     "duration": 2.214494,
     "end_time": "2021-06-22T13:32:37.820337",
     "exception": false,
     "start_time": "2021-06-22T13:32:35.605843",
     "status": "completed"
    },
    "tags": []
   },
   "outputs": [],
   "source": [
    "!ln -s ../../wsj/s5/steps\n",
    "!ln -s ../../wsj/s5/utils\n",
    "!ln -s ../../librispeech/s5/local"
   ]
  },
  {
   "cell_type": "code",
   "execution_count": 12,
   "id": "consolidated-accountability",
   "metadata": {
    "execution": {
     "iopub.execute_input": "2021-06-22T13:32:37.890534Z",
     "iopub.status.busy": "2021-06-22T13:32:37.889127Z",
     "iopub.status.idle": "2021-06-22T13:32:38.626461Z",
     "shell.execute_reply": "2021-06-22T13:32:38.625884Z",
     "shell.execute_reply.started": "2021-06-22T11:55:43.77028Z"
    },
    "papermill": {
     "duration": 0.776311,
     "end_time": "2021-06-22T13:32:38.626646",
     "exception": false,
     "start_time": "2021-06-22T13:32:37.850335",
     "status": "completed"
    },
    "tags": []
   },
   "outputs": [],
   "source": [
    "!mkdir conf"
   ]
  },
  {
   "cell_type": "code",
   "execution_count": 13,
   "id": "reasonable-atlanta",
   "metadata": {
    "execution": {
     "iopub.execute_input": "2021-06-22T13:32:38.694219Z",
     "iopub.status.busy": "2021-06-22T13:32:38.693507Z",
     "iopub.status.idle": "2021-06-22T13:32:38.697822Z",
     "shell.execute_reply": "2021-06-22T13:32:38.697229Z",
     "shell.execute_reply.started": "2021-06-22T11:55:44.555875Z"
    },
    "papermill": {
     "duration": 0.040474,
     "end_time": "2021-06-22T13:32:38.697970",
     "exception": false,
     "start_time": "2021-06-22T13:32:38.657496",
     "status": "completed"
    },
    "tags": []
   },
   "outputs": [
    {
     "name": "stdout",
     "output_type": "stream",
     "text": [
      "Writing conf/mfcc_hires.conf\n"
     ]
    }
   ],
   "source": [
    "%%writefile conf/mfcc_hires.conf\n",
    "# config for high-resolution MFCC features, intended for neural network training\n",
    "# Note: we keep all cepstra, so it has the same info as filterbank features,\n",
    "# but MFCC is more easily compressible (because less correlated) which is why \n",
    "# we prefer this method.\n",
    "--use-energy=false   # use average of log energy, not energy.\n",
    "--num-mel-bins=40     # similar to Google's setup.\n",
    "--num-ceps=40     # there is no dimensionality reduction.\n",
    "--low-freq=20     # low cutoff frequency for mel bins... this is high-bandwidth data, so\n",
    "                  # there might be some information at the low end.\n",
    "--high-freq=-400 # high cutoff frequently, relative to Nyquist of 8000 (=7600)"
   ]
  },
  {
   "cell_type": "markdown",
   "id": "passive-location",
   "metadata": {
    "papermill": {
     "duration": 0.030281,
     "end_time": "2021-06-22T13:32:38.760070",
     "exception": false,
     "start_time": "2021-06-22T13:32:38.729789",
     "status": "completed"
    },
    "tags": []
   },
   "source": [
    "## Setting up paths\n",
    "\n",
    "(In the scripts, you just source `path.sh`)"
   ]
  },
  {
   "cell_type": "code",
   "execution_count": 14,
   "id": "undefined-hobby",
   "metadata": {
    "execution": {
     "iopub.execute_input": "2021-06-22T13:32:38.824636Z",
     "iopub.status.busy": "2021-06-22T13:32:38.823953Z",
     "iopub.status.idle": "2021-06-22T13:32:38.829559Z",
     "shell.execute_reply": "2021-06-22T13:32:38.828945Z",
     "shell.execute_reply.started": "2021-06-22T11:55:44.565547Z"
    },
    "papermill": {
     "duration": 0.038957,
     "end_time": "2021-06-22T13:32:38.829724",
     "exception": false,
     "start_time": "2021-06-22T13:32:38.790767",
     "status": "completed"
    },
    "tags": []
   },
   "outputs": [
    {
     "name": "stdout",
     "output_type": "stream",
     "text": [
      "env: KALDI_ROOT=/opt/kaldi\n"
     ]
    }
   ],
   "source": [
    "%env KALDI_ROOT=/opt/kaldi"
   ]
  },
  {
   "cell_type": "code",
   "execution_count": 15,
   "id": "announced-grain",
   "metadata": {
    "execution": {
     "iopub.execute_input": "2021-06-22T13:32:38.895778Z",
     "iopub.status.busy": "2021-06-22T13:32:38.895116Z",
     "iopub.status.idle": "2021-06-22T13:32:39.623115Z",
     "shell.execute_reply": "2021-06-22T13:32:39.622550Z",
     "shell.execute_reply.started": "2021-06-22T11:55:44.577705Z"
    },
    "papermill": {
     "duration": 0.763007,
     "end_time": "2021-06-22T13:32:39.623273",
     "exception": false,
     "start_time": "2021-06-22T13:32:38.860266",
     "status": "completed"
    },
    "tags": []
   },
   "outputs": [
    {
     "name": "stdout",
     "output_type": "stream",
     "text": [
      "export KALDI_ROOT=`pwd`/../../..\r\n",
      "[ -f $KALDI_ROOT/tools/env.sh ] && . $KALDI_ROOT/tools/env.sh\r\n",
      "export PATH=$PWD/utils/:$KALDI_ROOT/tools/openfst/bin:$PWD:$PATH\r\n",
      "[ ! -f $KALDI_ROOT/tools/config/common_path.sh ] && echo >&2 \"The standard file $KALDI_ROOT/tools/config/common_path.sh is not present -> Exit!\" && exit 1\r\n",
      ". $KALDI_ROOT/tools/config/common_path.sh\r\n",
      "export LC_ALL=C\r\n"
     ]
    }
   ],
   "source": [
    "!cat ../../wsj/s5/path.sh"
   ]
  },
  {
   "cell_type": "code",
   "execution_count": 16,
   "id": "moving-facing",
   "metadata": {
    "execution": {
     "iopub.execute_input": "2021-06-22T13:32:39.691567Z",
     "iopub.status.busy": "2021-06-22T13:32:39.690916Z",
     "iopub.status.idle": "2021-06-22T13:32:39.696774Z",
     "shell.execute_reply": "2021-06-22T13:32:39.696208Z",
     "shell.execute_reply.started": "2021-06-22T12:00:36.247262Z"
    },
    "papermill": {
     "duration": 0.042881,
     "end_time": "2021-06-22T13:32:39.696924",
     "exception": false,
     "start_time": "2021-06-22T13:32:39.654043",
     "status": "completed"
    },
    "tags": []
   },
   "outputs": [
    {
     "name": "stdout",
     "output_type": "stream",
     "text": [
      "env: LC_ALL=C\n"
     ]
    }
   ],
   "source": [
    "%env LC_ALL=C\n",
    "#PWD = !pwd\n",
    "PWD = '/opt/kaldi/egs/usels/s5'\n",
    "KALDI_ROOT = '/opt/kaldi'\n",
    "WSJ_PATH = f'{PWD}/utils/:{KALDI_ROOT}/tools/openfst/bin:{PWD}:{EXISTING_PATH}'"
   ]
  },
  {
   "cell_type": "code",
   "execution_count": 17,
   "id": "offshore-repository",
   "metadata": {
    "execution": {
     "iopub.execute_input": "2021-06-22T13:32:39.764701Z",
     "iopub.status.busy": "2021-06-22T13:32:39.764024Z",
     "iopub.status.idle": "2021-06-22T13:32:40.487904Z",
     "shell.execute_reply": "2021-06-22T13:32:40.487336Z",
     "shell.execute_reply.started": "2021-06-22T11:57:02.231388Z"
    },
    "papermill": {
     "duration": 0.759488,
     "end_time": "2021-06-22T13:32:40.488062",
     "exception": false,
     "start_time": "2021-06-22T13:32:39.728574",
     "status": "completed"
    },
    "tags": []
   },
   "outputs": [
    {
     "name": "stdout",
     "output_type": "stream",
     "text": [
      "# we assume KALDI_ROOT is already defined\r\n",
      "[ -z \"$KALDI_ROOT\" ] && echo >&2 \"The variable KALDI_ROOT must be already defined\" && exit 1\r\n",
      "# The formatting of the path export command is intentionally weird, because\r\n",
      "# this allows for easy diff'ing\r\n",
      "export PATH=\\\r\n",
      "${KALDI_ROOT}/src/bin:\\\r\n",
      "${KALDI_ROOT}/src/chainbin:\\\r\n",
      "${KALDI_ROOT}/src/featbin:\\\r\n",
      "${KALDI_ROOT}/src/fgmmbin:\\\r\n",
      "${KALDI_ROOT}/src/fstbin:\\\r\n",
      "${KALDI_ROOT}/src/gmmbin:\\\r\n",
      "${KALDI_ROOT}/src/ivectorbin:\\\r\n",
      "${KALDI_ROOT}/src/kwsbin:\\\r\n",
      "${KALDI_ROOT}/src/latbin:\\\r\n",
      "${KALDI_ROOT}/src/lmbin:\\\r\n",
      "${KALDI_ROOT}/src/nnet2bin:\\\r\n",
      "${KALDI_ROOT}/src/nnet3bin:\\\r\n",
      "${KALDI_ROOT}/src/nnetbin:\\\r\n",
      "${KALDI_ROOT}/src/online2bin:\\\r\n",
      "${KALDI_ROOT}/src/onlinebin:\\\r\n",
      "${KALDI_ROOT}/src/rnnlmbin:\\\r\n",
      "${KALDI_ROOT}/src/sgmm2bin:\\\r\n",
      "${KALDI_ROOT}/src/sgmmbin:\\\r\n",
      "${KALDI_ROOT}/src/tfrnnlmbin:\\\r\n",
      "${KALDI_ROOT}/src/cudadecoderbin:\\\r\n",
      "$PATH\r\n"
     ]
    }
   ],
   "source": [
    "!cat $KALDI_ROOT/tools/config/common_path.sh"
   ]
  },
  {
   "cell_type": "code",
   "execution_count": 18,
   "id": "operational-viewer",
   "metadata": {
    "execution": {
     "iopub.execute_input": "2021-06-22T13:32:40.558128Z",
     "iopub.status.busy": "2021-06-22T13:32:40.557448Z",
     "iopub.status.idle": "2021-06-22T13:32:40.582053Z",
     "shell.execute_reply": "2021-06-22T13:32:40.581426Z",
     "shell.execute_reply.started": "2021-06-22T11:56:52.862746Z"
    },
    "papermill": {
     "duration": 0.062616,
     "end_time": "2021-06-22T13:32:40.582202",
     "exception": false,
     "start_time": "2021-06-22T13:32:40.519586",
     "status": "completed"
    },
    "tags": []
   },
   "outputs": [],
   "source": [
    "#kaldi_paths=!cat $KALDI_ROOT/tools/config/common_path.sh|grep '/src/'|awk -F':' '{print $1}'|awk -F'/' '{print $NF}'|tr '\\n' ':'\n",
    "raw_kaldi_paths=!cat $KALDI_ROOT/tools/config/common_path.sh|grep '/src/'|awk -F':' '{print $1}'|awk -F'/' '{print \"/opt/kaldi/src/\"$NF}'"
   ]
  },
  {
   "cell_type": "code",
   "execution_count": 19,
   "id": "social-contest",
   "metadata": {
    "execution": {
     "iopub.execute_input": "2021-06-22T13:32:40.664016Z",
     "iopub.status.busy": "2021-06-22T13:32:40.663059Z",
     "iopub.status.idle": "2021-06-22T13:32:40.664973Z",
     "shell.execute_reply": "2021-06-22T13:32:40.665664Z",
     "shell.execute_reply.started": "2021-06-22T12:02:21.567242Z"
    },
    "papermill": {
     "duration": 0.050735,
     "end_time": "2021-06-22T13:32:40.665898",
     "exception": false,
     "start_time": "2021-06-22T13:32:40.615163",
     "status": "completed"
    },
    "tags": []
   },
   "outputs": [],
   "source": [
    "KALDI_PATHS=raw_kaldi_paths.nlstr.replace('\\n',':')"
   ]
  },
  {
   "cell_type": "code",
   "execution_count": 20,
   "id": "basic-joining",
   "metadata": {
    "execution": {
     "iopub.execute_input": "2021-06-22T13:32:40.762548Z",
     "iopub.status.busy": "2021-06-22T13:32:40.761859Z",
     "iopub.status.idle": "2021-06-22T13:32:41.515987Z",
     "shell.execute_reply": "2021-06-22T13:32:41.516465Z",
     "shell.execute_reply.started": "2021-06-22T11:56:58.4537Z"
    },
    "papermill": {
     "duration": 0.801173,
     "end_time": "2021-06-22T13:32:41.516686",
     "exception": false,
     "start_time": "2021-06-22T13:32:40.715513",
     "status": "completed"
    },
    "tags": []
   },
   "outputs": [
    {
     "name": "stdout",
     "output_type": "stream",
     "text": [
      "export PATH=/opt/kaldi/tools/python:${PATH}\r\n",
      "export PHONETISAURUS=\"/tmp/output/opt/kaldi/tools/phonetisaurus-g2p\"\r\n",
      "export PATH=\"$PATH:${PHONETISAURUS}:${PHONETISAURUS}/src/scripts\"\r\n"
     ]
    }
   ],
   "source": [
    "!cat $KALDI_ROOT/tools/env.sh"
   ]
  },
  {
   "cell_type": "code",
   "execution_count": 21,
   "id": "willing-signature",
   "metadata": {
    "execution": {
     "iopub.execute_input": "2021-06-22T13:32:41.583647Z",
     "iopub.status.busy": "2021-06-22T13:32:41.582959Z",
     "iopub.status.idle": "2021-06-22T13:32:41.587628Z",
     "shell.execute_reply": "2021-06-22T13:32:41.587134Z",
     "shell.execute_reply.started": "2021-06-22T12:02:09.80754Z"
    },
    "papermill": {
     "duration": 0.039061,
     "end_time": "2021-06-22T13:32:41.587769",
     "exception": false,
     "start_time": "2021-06-22T13:32:41.548708",
     "status": "completed"
    },
    "tags": []
   },
   "outputs": [],
   "source": [
    "PHONETISAURUS = \"/tmp/output/opt/kaldi/tools/phonetisaurus-g2p\"\n",
    "TOOLS_PATH = f'/opt/kaldi/tools/python:{PHONETISAURUS}:{PHONETISAURUS}/src/scripts'"
   ]
  },
  {
   "cell_type": "code",
   "execution_count": 22,
   "id": "outstanding-hello",
   "metadata": {
    "execution": {
     "iopub.execute_input": "2021-06-22T13:32:41.656622Z",
     "iopub.status.busy": "2021-06-22T13:32:41.655978Z",
     "iopub.status.idle": "2021-06-22T13:32:41.659577Z",
     "shell.execute_reply": "2021-06-22T13:32:41.660063Z",
     "shell.execute_reply.started": "2021-06-22T12:03:04.119662Z"
    },
    "papermill": {
     "duration": 0.040854,
     "end_time": "2021-06-22T13:32:41.660228",
     "exception": false,
     "start_time": "2021-06-22T13:32:41.619374",
     "status": "completed"
    },
    "tags": []
   },
   "outputs": [
    {
     "name": "stdout",
     "output_type": "stream",
     "text": [
      "env: PATH=f\"/opt/kaldi/egs/usels/s5/utils/:/opt/kaldi/tools/openfst/bin:/opt/kaldi/egs/usels/s5:/opt/conda/bin:/usr/local/sbin:/usr/local/bin:/usr/sbin:/usr/bin:/sbin:/bin:/opt/kaldi/src/bin:/opt/kaldi/src/chainbin:/opt/kaldi/src/featbin:/opt/kaldi/src/fgmmbin:/opt/kaldi/src/fstbin:/opt/kaldi/src/gmmbin:/opt/kaldi/src/ivectorbin:/opt/kaldi/src/kwsbin:/opt/kaldi/src/latbin:/opt/kaldi/src/lmbin:/opt/kaldi/src/nnet2bin:/opt/kaldi/src/nnet3bin:/opt/kaldi/src/nnetbin:/opt/kaldi/src/online2bin:/opt/kaldi/src/onlinebin:/opt/kaldi/src/rnnlmbin:/opt/kaldi/src/sgmm2bin:/opt/kaldi/src/sgmmbin:/opt/kaldi/src/tfrnnlmbin:/opt/kaldi/src/cudadecoderbin:/opt/kaldi/tools/python:/tmp/output/opt/kaldi/tools/phonetisaurus-g2p:/tmp/output/opt/kaldi/tools/phonetisaurus-g2p/src/scripts\"\n"
     ]
    }
   ],
   "source": [
    "%env PATH = f\"{WSJ_PATH}:{KALDI_PATHS}:{TOOLS_PATH}\""
   ]
  },
  {
   "cell_type": "code",
   "execution_count": 23,
   "id": "catholic-nomination",
   "metadata": {
    "execution": {
     "iopub.execute_input": "2021-06-22T13:32:41.732335Z",
     "iopub.status.busy": "2021-06-22T13:32:41.728839Z",
     "iopub.status.idle": "2021-06-22T13:32:42.452035Z",
     "shell.execute_reply": "2021-06-22T13:32:42.452628Z",
     "shell.execute_reply.started": "2021-06-22T12:16:15.76424Z"
    },
    "papermill": {
     "duration": 0.760621,
     "end_time": "2021-06-22T13:32:42.452805",
     "exception": false,
     "start_time": "2021-06-22T13:32:41.692184",
     "status": "completed"
    },
    "tags": []
   },
   "outputs": [
    {
     "name": "stdout",
     "output_type": "stream",
     "text": [
      "# you can change cmd.sh depending on what type of queue you are using.\r\n",
      "# If you have no queueing system and want to run on a local machine, you\r\n",
      "# can change all instances 'queue.pl' to run.pl (but be careful and run\r\n",
      "# commands one by one: most recipes will exhaust the memory on your\r\n",
      "# machine).  queue.pl works with GridEngine (qsub).  slurm.pl works\r\n",
      "# with slurm.  Different queues are configured differently, with different\r\n",
      "# queue names and different ways of specifying things like memory;\r\n",
      "# to account for these differences you can create and edit the file\r\n",
      "# conf/queue.conf to match your queue's configuration.  Search for\r\n",
      "# conf/queue.conf in http://kaldi-asr.org/doc/queue.html for more information,\r\n",
      "# or search for the string 'default_config' in utils/queue.pl or utils/slurm.pl.\r\n",
      "\r\n",
      "export train_cmd=queue.pl\r\n",
      "export decode_cmd=\"queue.pl --mem 2G\"\r\n",
      "# the use of cuda_cmd is deprecated, used only in 'nnet1',\r\n",
      "export cuda_cmd=\"queue.pl --gpu 1\"\r\n",
      "\r\n",
      "if [ \"$(hostname -d)\" == \"fit.vutbr.cz\" ]; then\r\n",
      "  queue_conf=$HOME/queue_conf/default.conf # see example /homes/kazi/iveselyk/queue_conf/default.conf,\r\n",
      "  export train_cmd=\"queue.pl --config $queue_conf --mem 2G --matylda 0.2\"\r\n",
      "  export decode_cmd=\"queue.pl --config $queue_conf --mem 3G --matylda 0.1\"\r\n",
      "  export cuda_cmd=\"queue.pl --config $queue_conf --gpu 1 --mem 10G --tmp 40G\"\r\n",
      "fi\r\n"
     ]
    }
   ],
   "source": [
    "!cat ../../wsj/s5/cmd.sh"
   ]
  },
  {
   "cell_type": "code",
   "execution_count": 24,
   "id": "fresh-neighborhood",
   "metadata": {
    "execution": {
     "iopub.execute_input": "2021-06-22T13:32:42.521926Z",
     "iopub.status.busy": "2021-06-22T13:32:42.521225Z",
     "iopub.status.idle": "2021-06-22T13:32:42.528302Z",
     "shell.execute_reply": "2021-06-22T13:32:42.529129Z",
     "shell.execute_reply.started": "2021-06-22T12:25:36.054695Z"
    },
    "papermill": {
     "duration": 0.04329,
     "end_time": "2021-06-22T13:32:42.529320",
     "exception": false,
     "start_time": "2021-06-22T13:32:42.486030",
     "status": "completed"
    },
    "tags": []
   },
   "outputs": [
    {
     "name": "stdout",
     "output_type": "stream",
     "text": [
      "env: train_cmd=run.pl\n",
      "env: decode_cmd=\"run.pl --mem 2G\"\n"
     ]
    }
   ],
   "source": [
    "%env train_cmd=run.pl\n",
    "%env decode_cmd=\"run.pl --mem 2G\""
   ]
  },
  {
   "cell_type": "code",
   "execution_count": 25,
   "id": "weighted-setup",
   "metadata": {
    "execution": {
     "iopub.execute_input": "2021-06-22T13:32:42.604913Z",
     "iopub.status.busy": "2021-06-22T13:32:42.604140Z",
     "iopub.status.idle": "2021-06-22T13:32:45.488853Z",
     "shell.execute_reply": "2021-06-22T13:32:45.488274Z",
     "shell.execute_reply.started": "2021-06-22T12:25:39.332426Z"
    },
    "papermill": {
     "duration": 2.926425,
     "end_time": "2021-06-22T13:32:45.488992",
     "exception": false,
     "start_time": "2021-06-22T13:32:42.562567",
     "status": "completed"
    },
    "tags": []
   },
   "outputs": [],
   "source": [
    "!ln -s ../../wsj/s5/cmd.sh\n",
    "!ln -s ../../wsj/s5/path.sh\n",
    "!ln -s utils/queue.pl\n",
    "!ln -s utils/run.pl"
   ]
  },
  {
   "cell_type": "code",
   "execution_count": 26,
   "id": "parental-playlist",
   "metadata": {
    "execution": {
     "iopub.execute_input": "2021-06-22T13:32:45.557980Z",
     "iopub.status.busy": "2021-06-22T13:32:45.557346Z",
     "iopub.status.idle": "2021-06-22T13:32:46.280215Z",
     "shell.execute_reply": "2021-06-22T13:32:46.279593Z",
     "shell.execute_reply.started": "2021-06-22T12:25:11.355403Z"
    },
    "papermill": {
     "duration": 0.758533,
     "end_time": "2021-06-22T13:32:46.280365",
     "exception": false,
     "start_time": "2021-06-22T13:32:45.521832",
     "status": "completed"
    },
    "tags": []
   },
   "outputs": [],
   "source": [
    "!rm *.pl"
   ]
  },
  {
   "cell_type": "markdown",
   "id": "coated-digest",
   "metadata": {
    "papermill": {
     "duration": 0.034512,
     "end_time": "2021-06-22T13:32:46.347947",
     "exception": false,
     "start_time": "2021-06-22T13:32:46.313435",
     "status": "completed"
    },
    "tags": []
   },
   "source": [
    "## Data prep"
   ]
  },
  {
   "cell_type": "code",
   "execution_count": 27,
   "id": "collected-painting",
   "metadata": {
    "execution": {
     "iopub.execute_input": "2021-06-22T13:32:46.419214Z",
     "iopub.status.busy": "2021-06-22T13:32:46.418198Z",
     "iopub.status.idle": "2021-06-22T13:33:03.804423Z",
     "shell.execute_reply": "2021-06-22T13:33:03.804919Z",
     "shell.execute_reply.started": "2021-06-22T12:10:48.153674Z"
    },
    "papermill": {
     "duration": 17.423992,
     "end_time": "2021-06-22T13:33:03.805125",
     "exception": false,
     "start_time": "2021-06-22T13:32:46.381133",
     "status": "completed"
    },
    "tags": []
   },
   "outputs": [
    {
     "name": "stdout",
     "output_type": "stream",
     "text": [
      "utils/validate_data_dir.sh: Successfully validated data-directory data/test-other\r\n",
      "local/data_prep.sh: successfully prepared data in data/test-other\r\n",
      "utils/validate_data_dir.sh: Successfully validated data-directory data/test-clean\r\n",
      "local/data_prep.sh: successfully prepared data in data/test-clean\r\n"
     ]
    }
   ],
   "source": [
    "!local/data_prep.sh /kaggle/input/librispeech-test-clean-and-other/LibriSpeech/test-other data/test-other\n",
    "!local/data_prep.sh /kaggle/input/librispeech-test-clean-and-other/LibriSpeech/test-clean data/test-clean"
   ]
  },
  {
   "cell_type": "code",
   "execution_count": 28,
   "id": "brave-prince",
   "metadata": {
    "execution": {
     "iopub.execute_input": "2021-06-22T13:33:03.885565Z",
     "iopub.status.busy": "2021-06-22T13:33:03.884765Z",
     "iopub.status.idle": "2021-06-22T13:33:05.943237Z",
     "shell.execute_reply": "2021-06-22T13:33:05.943738Z",
     "shell.execute_reply.started": "2021-06-22T12:12:48.716774Z"
    },
    "papermill": {
     "duration": 2.10474,
     "end_time": "2021-06-22T13:33:05.943941",
     "exception": false,
     "start_time": "2021-06-22T13:33:03.839201",
     "status": "completed"
    },
    "tags": []
   },
   "outputs": [
    {
     "name": "stdout",
     "output_type": "stream",
     "text": [
      "utils/copy_data_dir.sh: copied data from data/test-clean to data/test-clean_hires\r\n",
      "utils/validate_data_dir.sh: Successfully validated data-directory data/test-clean_hires\r\n",
      "utils/copy_data_dir.sh: copied data from data/test-other to data/test-other_hires\r\n",
      "utils/validate_data_dir.sh: Successfully validated data-directory data/test-other_hires\r\n"
     ]
    }
   ],
   "source": [
    "!utils/copy_data_dir.sh data/test-clean data/test-clean_hires\n",
    "!utils/copy_data_dir.sh data/test-other data/test-other_hires"
   ]
  },
  {
   "cell_type": "code",
   "execution_count": 29,
   "id": "composed-consumer",
   "metadata": {
    "execution": {
     "iopub.execute_input": "2021-06-22T13:33:06.025387Z",
     "iopub.status.busy": "2021-06-22T13:33:06.024718Z",
     "iopub.status.idle": "2021-06-22T13:33:06.745341Z",
     "shell.execute_reply": "2021-06-22T13:33:06.744774Z",
     "shell.execute_reply.started": "2021-06-22T12:20:32.826362Z"
    },
    "papermill": {
     "duration": 0.766162,
     "end_time": "2021-06-22T13:33:06.745493",
     "exception": false,
     "start_time": "2021-06-22T13:33:05.979331",
     "status": "completed"
    },
    "tags": []
   },
   "outputs": [],
   "source": [
    "!ln -s utils/parse_options.sh"
   ]
  },
  {
   "cell_type": "code",
   "execution_count": 30,
   "id": "metallic-aspect",
   "metadata": {
    "execution": {
     "iopub.execute_input": "2021-06-22T13:33:06.835128Z",
     "iopub.status.busy": "2021-06-22T13:33:06.831468Z",
     "iopub.status.idle": "2021-06-22T13:34:46.607110Z",
     "shell.execute_reply": "2021-06-22T13:34:46.606416Z",
     "shell.execute_reply.started": "2021-06-22T12:25:44.313451Z"
    },
    "papermill": {
     "duration": 99.826271,
     "end_time": "2021-06-22T13:34:46.607261",
     "exception": false,
     "start_time": "2021-06-22T13:33:06.780990",
     "status": "completed"
    },
    "tags": []
   },
   "outputs": [
    {
     "name": "stdout",
     "output_type": "stream",
     "text": [
      "steps/make_mfcc.sh --nj 20 --mfcc-config conf/mfcc_hires.conf --cmd run.pl data/test-clean_hires\r\n",
      "utils/validate_data_dir.sh: Successfully validated data-directory data/test-clean_hires\r\n",
      "steps/make_mfcc.sh: [info]: no segments file exists: assuming wav.scp indexed by utterance.\r\n",
      "steps/make_mfcc.sh: Succeeded creating MFCC features for test-clean_hires\r\n",
      "steps/compute_cmvn_stats.sh data/test-clean_hires\r\n",
      "Succeeded creating CMVN stats for test-clean_hires\r\n",
      "fix_data_dir.sh: kept all 2620 utterances.\r\n",
      "fix_data_dir.sh: old files are kept in data/test-clean_hires/.backup\r\n",
      "steps/make_mfcc.sh --nj 20 --mfcc-config conf/mfcc_hires.conf --cmd run.pl data/test-other_hires\r\n",
      "utils/validate_data_dir.sh: Successfully validated data-directory data/test-other_hires\r\n",
      "steps/make_mfcc.sh: [info]: no segments file exists: assuming wav.scp indexed by utterance.\r\n",
      "steps/make_mfcc.sh: Succeeded creating MFCC features for test-other_hires\r\n",
      "steps/compute_cmvn_stats.sh data/test-other_hires\r\n",
      "Succeeded creating CMVN stats for test-other_hires\r\n",
      "fix_data_dir.sh: kept all 2939 utterances.\r\n",
      "fix_data_dir.sh: old files are kept in data/test-other_hires/.backup\r\n"
     ]
    }
   ],
   "source": [
    "!steps/make_mfcc.sh --nj 20 --mfcc-config conf/mfcc_hires.conf --cmd \"$train_cmd\" data/test-clean_hires\n",
    "!steps/compute_cmvn_stats.sh data/test-clean_hires\n",
    "!utils/fix_data_dir.sh data/test-clean_hires\n",
    "!steps/make_mfcc.sh --nj 20 --mfcc-config conf/mfcc_hires.conf --cmd \"$train_cmd\" data/test-other_hires\n",
    "!steps/compute_cmvn_stats.sh data/test-other_hires\n",
    "!utils/fix_data_dir.sh data/test-other_hires\n"
   ]
  },
  {
   "cell_type": "code",
   "execution_count": 31,
   "id": "drawn-assistant",
   "metadata": {
    "execution": {
     "iopub.execute_input": "2021-06-22T13:34:46.697176Z",
     "iopub.status.busy": "2021-06-22T13:34:46.693295Z",
     "iopub.status.idle": "2021-06-22T13:34:48.131813Z",
     "shell.execute_reply": "2021-06-22T13:34:48.132294Z",
     "shell.execute_reply.started": "2021-06-22T12:38:42.072847Z"
    },
    "papermill": {
     "duration": 1.485306,
     "end_time": "2021-06-22T13:34:48.132487",
     "exception": false,
     "start_time": "2021-06-22T13:34:46.647181",
     "status": "completed"
    },
    "tags": []
   },
   "outputs": [],
   "source": [
    "!ln -s /kaggle/input/kaldi-librispeech-model/exp/nnet3_cleaned/ exp/nnet3_cleaned\n",
    "!ln -s /kaggle/input/kaldi-librispeech-model/exp/chain_cleaned/ exp/chain_cleaned"
   ]
  },
  {
   "cell_type": "code",
   "execution_count": 32,
   "id": "generous-signal",
   "metadata": {
    "execution": {
     "iopub.execute_input": "2021-06-22T13:34:48.230086Z",
     "iopub.status.busy": "2021-06-22T13:34:48.229027Z",
     "iopub.status.idle": "2021-06-22T13:36:09.456961Z",
     "shell.execute_reply": "2021-06-22T13:36:09.456187Z",
     "shell.execute_reply.started": "2021-06-22T12:44:16.329652Z"
    },
    "papermill": {
     "duration": 81.284102,
     "end_time": "2021-06-22T13:36:09.457115",
     "exception": false,
     "start_time": "2021-06-22T13:34:48.173013",
     "status": "completed"
    },
    "tags": []
   },
   "outputs": [
    {
     "name": "stdout",
     "output_type": "stream",
     "text": [
      "env: nspk=$(wc -l <data/test-clean_hires/spk2utt)\n",
      "steps/online/nnet2/extract_ivectors_online.sh --cmd run.pl --nj $(wc -l <data/test-clean_hires/spk2utt) data/test-clean_hires exp/nnet3_cleaned/extractor exp/nnet3_cleaned_out/ivectors_test-clean_hires\r\n",
      "steps/online/nnet2/extract_ivectors_online.sh: extracting iVectors\r\n",
      "steps/online/nnet2/extract_ivectors_online.sh: combining iVectors across jobs\r\n",
      "steps/online/nnet2/extract_ivectors_online.sh: done extracting (online) iVectors to exp/nnet3_cleaned_out/ivectors_test-clean_hires using the extractor in exp/nnet3_cleaned/extractor.\r\n",
      "env: nspk=$(wc -l <data/test-other_hires/spk2utt)\n",
      "steps/online/nnet2/extract_ivectors_online.sh --cmd run.pl --nj $(wc -l <data/test-other_hires/spk2utt) data/test-other_hires exp/nnet3_cleaned/extractor exp/nnet3_cleaned_out/ivectors_test-other_hires\r\n",
      "steps/online/nnet2/extract_ivectors_online.sh: extracting iVectors\r\n",
      "steps/online/nnet2/extract_ivectors_online.sh: combining iVectors across jobs\r\n",
      "steps/online/nnet2/extract_ivectors_online.sh: done extracting (online) iVectors to exp/nnet3_cleaned_out/ivectors_test-other_hires using the extractor in exp/nnet3_cleaned/extractor.\r\n"
     ]
    }
   ],
   "source": [
    "%env nspk=$(wc -l <data/test-clean_hires/spk2utt)\n",
    "!steps/online/nnet2/extract_ivectors_online.sh --cmd \"$train_cmd\" --nj \"${nspk}\" data/test-clean_hires exp/nnet3_cleaned/extractor exp/nnet3_cleaned_out/ivectors_test-clean_hires\n",
    "%env nspk=$(wc -l <data/test-other_hires/spk2utt)\n",
    "!steps/online/nnet2/extract_ivectors_online.sh --cmd \"$train_cmd\" --nj \"${nspk}\" data/test-other_hires exp/nnet3_cleaned/extractor exp/nnet3_cleaned_out/ivectors_test-other_hires"
   ]
  },
  {
   "cell_type": "code",
   "execution_count": 33,
   "id": "impressive-place",
   "metadata": {
    "execution": {
     "iopub.execute_input": "2021-06-22T13:36:09.555134Z",
     "iopub.status.busy": "2021-06-22T13:36:09.550246Z",
     "iopub.status.idle": "2021-06-22T13:36:10.298955Z",
     "shell.execute_reply": "2021-06-22T13:36:10.298209Z",
     "shell.execute_reply.started": "2021-06-22T12:44:48.467401Z"
    },
    "papermill": {
     "duration": 0.797698,
     "end_time": "2021-06-22T13:36:10.299121",
     "exception": false,
     "start_time": "2021-06-22T13:36:09.501423",
     "status": "completed"
    },
    "tags": []
   },
   "outputs": [
    {
     "name": "stdout",
     "output_type": "stream",
     "text": [
      "# ivector-extract-online2 --config=exp/nnet3_cleaned_out/ivectors_test-clean_hires/conf/ivector_extractor.conf ark:data/test-clean_hires/split87/1/spk2utt scp:data/test-clean_hires/split87/1/feats.scp ark:- | copy-feats --compress=true ark:- ark,scp:/kaggle/working/exp/nnet3_cleaned_out/ivectors_test-clean_hires/ivector_online.1.ark,/kaggle/working/exp/nnet3_cleaned_out/ivectors_test-clean_hires/ivector_online.1.scp \r\n",
      "# Started at Tue Jun 22 13:34:51 UTC 2021\r\n",
      "#\r\n",
      "copy-feats --compress=true ark:- ark,scp:/kaggle/working/exp/nnet3_cleaned_out/ivectors_test-clean_hires/ivector_online.1.ark,/kaggle/working/exp/nnet3_cleaned_out/ivectors_test-clean_hires/ivector_online.1.scp \r\n",
      "ivector-extract-online2 --config=exp/nnet3_cleaned_out/ivectors_test-clean_hires/conf/ivector_extractor.conf ark:data/test-clean_hires/split87/1/spk2utt scp:data/test-clean_hires/split87/1/feats.scp ark:- \r\n",
      "LOG (ivector-extract-online2[5.5.0~1-2b62]:ComputeDerivedVars():ivector-extractor.cc:183) Computing derived variables for iVector extractor\r\n",
      "LOG (ivector-extract-online2[5.5.0~1-2b62]:ComputeDerivedVars():ivector-extractor.cc:204) Done.\r\n",
      "LOG (ivector-extract-online2[5.5.0~1-2b62]:main():ivector-extract-online2.cc:189) Estimated iVectors for 38 files, 0 with errors.\r\n",
      "LOG (ivector-extract-online2[5.5.0~1-2b62]:main():ivector-extract-online2.cc:191) Average objective-function improvement was 5.53795 per frame, over 27555 frames (weighted).\r\n",
      "LOG (ivector-extract-online2[5.5.0~1-2b62]:main():ivector-extract-online2.cc:194) Average iVector length was 7.50663 and at utterance-end was 7.82247, over 27555 frames (weighted);  expected length is 10\r\n",
      "LOG (copy-feats[5.5.0~1-2b62]:main():copy-feats.cc:143) Copied 38 feature matrices.\r\n",
      "# Accounting: time=3 threads=1\r\n",
      "# Ended (code 0) at Tue Jun 22 13:34:54 UTC 2021, elapsed time 3 seconds\r\n",
      "# ivector-extract-online2 --config=exp/nnet3_cleaned_out/ivectors_test-clean_hires/conf/ivector_extractor.conf ark:data/test-clean_hires/split87/10/spk2utt scp:data/test-clean_hires/split87/10/feats.scp ark:- | copy-feats --compress=true ark:- ark,scp:/kaggle/working/exp/nnet3_cleaned_out/ivectors_test-clean_hires/ivector_online.10.ark,/kaggle/working/exp/nnet3_cleaned_out/ivectors_test-clean_hires/ivector_online.10.scp \r\n",
      "# Started at Tue Jun 22 13:34:55 UTC 2021\r\n",
      "#\r\n",
      "copy-feats --compress=true ark:- ark,scp:/kaggle/working/exp/nnet3_cleaned_out/ivectors_test-clean_hires/ivector_online.10.ark,/kaggle/working/exp/nnet3_cleaned_out/ivectors_test-clean_hires/ivector_online.10.scp \r\n",
      "ivector-extract-online2 --config=exp/nnet3_cleaned_out/ivectors_test-clean_hires/conf/ivector_extractor.conf ark:data/test-clean_hires/split87/10/spk2utt scp:data/test-clean_hires/split87/10/feats.scp ark:- \r\n",
      "LOG (ivector-extract-online2[5.5.0~1-2b62]:ComputeDerivedVars():ivector-extractor.cc:183) Computing derived variables for iVector extractor\r\n",
      "LOG (ivector-extract-online2[5.5.0~1-2b62]:ComputeDerivedVars():ivector-extractor.cc:204) Done.\r\n",
      "LOG (ivector-extract-online2[5.5.0~1-2b62]:main():ivector-extract-online2.cc:189) Estimated iVectors for 33 files, 0 with errors.\r\n",
      "LOG (ivector-extract-online2[5.5.0~1-2b62]:main():ivector-extract-online2.cc:191) Average objective-function improvement was 7.21769 per frame, over 22733 frames (weighted).\r\n",
      "LOG (ivector-extract-online2[5.5.0~1-2b62]:main():ivector-extract-online2.cc:194) Average iVector length was 8.42686 and at utterance-end was 8.75777, over 22733 frames (weighted);  expected length is 10\r\n",
      "LOG (copy-feats[5.5.0~1-2b62]:main():copy-feats.cc:143) Copied 33 feature matrices.\r\n",
      "# Accounting: time=2 threads=1\r\n",
      "# Ended (code 0) at Tue Jun 22 13:34:57 UTC 2021, elapsed time 2 seconds\r\n",
      "# ivector-extract-online2 --config=exp/nnet3_cleaned_out/ivectors_test-clean_hires/conf/ivector_extractor.conf ark:data/test-clean_hires/split87/11/spk2utt scp:data/test-clean_hires/split87/11/feats.scp ark:- | copy-feats --compress=true ark:- ark,scp:/kaggle/working/exp/nnet3_cleaned_out/ivectors_test-clean_hires/ivector_online.11.ark,/kaggle/working/exp/nnet3_cleaned_out/ivectors_test-clean_hires/ivector_online.11.scp \r\n",
      "# Started at Tue Jun 22 13:34:55 UTC 2021\r\n",
      "#\r\n",
      "copy-feats --compress=true ark:- ark,scp:/kaggle/working/exp/nnet3_cleaned_out/ivectors_test-clean_hires/ivector_online.11.ark,/kaggle/working/exp/nnet3_cleaned_out/ivectors_test-clean_hires/ivector_online.11.scp \r\n",
      "ivector-extract-online2 --config=exp/nnet3_cleaned_out/ivectors_test-clean_hires/conf/ivector_extractor.conf ark:data/test-clean_hires/split87/11/spk2utt scp:data/test-clean_hires/split87/11/feats.scp ark:- \r\n",
      "LOG (ivector-extract-online2[5.5.0~1-2b62]:ComputeDerivedVars():ivector-extractor.cc:183) Computing derived variables for iVector extractor\r\n",
      "LOG (ivector-extract-online2[5.5.0~1-2b62]:ComputeDerivedVars():ivector-extractor.cc:204) Done.\r\n",
      "LOG (ivector-extract-online2[5.5.0~1-2b62]:main():ivector-extract-online2.cc:189) Estimated iVectors for 22 files, 0 with errors.\r\n",
      "LOG (ivector-extract-online2[5.5.0~1-2b62]:main():ivector-extract-online2.cc:191) Average objective-function improvement was 5.66827 per frame, over 14659 frames (weighted).\r\n",
      "LOG (ivector-extract-online2[5.5.0~1-2b62]:main():ivector-extract-online2.cc:194) Average iVector length was 8.2269 and at utterance-end was 8.62803, over 14659 frames (weighted);  expected length is 10\r\n",
      "LOG (copy-feats[5.5.0~1-2b62]:main():copy-feats.cc:143) Copied 22 feature matrices.\r\n",
      "# Accounting: time=1 threads=1\r\n",
      "# Ended (code 0) at Tue Jun 22 13:34:56 UTC 2021, elapsed time 1 seconds\r\n",
      "# ivector-extract-online2 --config=exp/nnet3_cleaned_out/ivectors_test-clean_hires/conf/ivector_extractor.conf ark:data/test-clean_hires/split87/12/spk2utt scp:data/test-clean_hires/split87/12/feats.scp ark:- | copy-feats --compress=true ark:- ark,scp:/kaggle/working/exp/nnet3_cleaned_out/ivectors_test-clean_hires/ivector_online.12.ark,/kaggle/working/exp/nnet3_cleaned_out/ivectors_test-clean_hires/ivector_online.12.scp \r\n",
      "# Started at Tue Jun 22 13:34:55 UTC 2021\r\n",
      "#\r\n",
      "copy-feats --compress=true ark:- ark,scp:/kaggle/working/exp/nnet3_cleaned_out/ivectors_test-clean_hires/ivector_online.12.ark,/kaggle/working/exp/nnet3_cleaned_out/ivectors_test-clean_hires/ivector_online.12.scp \r\n",
      "ivector-extract-online2 --config=exp/nnet3_cleaned_out/ivectors_test-clean_hires/conf/ivector_extractor.conf ark:data/test-clean_hires/split87/12/spk2utt scp:data/test-clean_hires/split87/12/feats.scp ark:- \r\n",
      "LOG (ivector-extract-online2[5.5.0~1-2b62]:ComputeDerivedVars():ivector-extractor.cc:183) Computing derived variables for iVector extractor\r\n",
      "LOG (ivector-extract-online2[5.5.0~1-2b62]:ComputeDerivedVars():ivector-extractor.cc:204) Done.\r\n",
      "LOG (ivector-extract-online2[5.5.0~1-2b62]:main():ivector-extract-online2.cc:189) Estimated iVectors for 8 files, 0 with errors.\r\n",
      "LOG (ivector-extract-online2[5.5.0~1-2b62]:main():ivector-extract-online2.cc:191) Average objective-function improvement was 6.95768 per frame, over 11442 frames (weighted).\r\n",
      "LOG (ivector-extract-online2[5.5.0~1-2b62]:main():ivector-extract-online2.cc:194) Average iVector length was 8.11628 and at utterance-end was 8.62623, over 11442 frames (weighted);  expected length is 10\r\n",
      "LOG (copy-feats[5.5.0~1-2b62]:main():copy-feats.cc:143) Copied 8 feature matrices.\r\n",
      "# Accounting: time=1 threads=1\r\n",
      "# Ended (code 0) at Tue Jun 22 13:34:56 UTC 2021, elapsed time 1 seconds\r\n",
      "# ivector-extract-online2 --config=exp/nnet3_cleaned_out/ivectors_test-clean_hires/conf/ivector_extractor.conf ark:data/test-clean_hires/split87/13/spk2utt scp:data/test-clean_hires/split87/13/feats.scp ark:- | copy-feats --compress=true ark:- ark,scp:/kaggle/working/exp/nnet3_cleaned_out/ivectors_test-clean_hires/ivector_online.13.ark,/kaggle/working/exp/nnet3_cleaned_out/ivectors_test-clean_hires/ivector_online.13.scp \r\n",
      "# Started at Tue Jun 22 13:34:56 UTC 2021\r\n",
      "#\r\n",
      "copy-feats --compress=true ark:- ark,scp:/kaggle/working/exp/nnet3_cleaned_out/ivectors_test-clean_hires/ivector_online.13.ark,/kaggle/working/exp/nnet3_cleaned_out/ivectors_test-clean_hires/ivector_online.13.scp \r\n",
      "ivector-extract-online2 --config=exp/nnet3_cleaned_out/ivectors_test-clean_hires/conf/ivector_extractor.conf ark:data/test-clean_hires/split87/13/spk2utt scp:data/test-clean_hires/split87/13/feats.scp ark:- \r\n",
      "LOG (ivector-extract-online2[5.5.0~1-2b62]:ComputeDerivedVars():ivector-extractor.cc:183) Computing derived variables for iVector extractor\r\n",
      "LOG (ivector-extract-online2[5.5.0~1-2b62]:ComputeDerivedVars():ivector-extractor.cc:204) Done.\r\n",
      "LOG (ivector-extract-online2[5.5.0~1-2b62]:main():ivector-extract-online2.cc:189) Estimated iVectors for 17 files, 0 with errors.\r\n",
      "LOG (ivector-extract-online2[5.5.0~1-2b62]:main():ivector-extract-online2.cc:191) Average objective-function improvement was 6.42282 per frame, over 12883 frames (weighted).\r\n",
      "LOG (ivector-extract-online2[5.5.0~1-2b62]:main():ivector-extract-online2.cc:194) Average iVector length was 7.43697 and at utterance-end was 7.95162, over 12883 frames (weighted);  expected length is 10\r\n",
      "LOG (copy-feats[5.5.0~1-2b62]:main():copy-feats.cc:143) Copied 17 feature matrices.\r\n",
      "# Accounting: time=2 threads=1\r\n",
      "# Ended (code 0) at Tue Jun 22 13:34:58 UTC 2021, elapsed time 2 seconds\r\n",
      "# ivector-extract-online2 --config=exp/nnet3_cleaned_out/ivectors_test-clean_hires/conf/ivector_extractor.conf ark:data/test-clean_hires/split87/14/spk2utt scp:data/test-clean_hires/split87/14/feats.scp ark:- | copy-feats --compress=true ark:- ark,scp:/kaggle/working/exp/nnet3_cleaned_out/ivectors_test-clean_hires/ivector_online.14.ark,/kaggle/working/exp/nnet3_cleaned_out/ivectors_test-clean_hires/ivector_online.14.scp \r\n",
      "# Started at Tue Jun 22 13:34:56 UTC 2021\r\n",
      "#\r\n",
      "copy-feats --compress=true ark:- ark,scp:/kaggle/working/exp/nnet3_cleaned_out/ivectors_test-clean_hires/ivector_online.14.ark,/kaggle/working/exp/nnet3_cleaned_out/ivectors_test-clean_hires/ivector_online.14.scp \r\n",
      "ivector-extract-online2 --config=exp/nnet3_cleaned_out/ivectors_test-clean_hires/conf/ivector_extractor.conf ark:data/test-clean_hires/split87/14/spk2utt scp:data/test-clean_hires/split87/14/feats.scp ark:- \r\n",
      "LOG (ivector-extract-online2[5.5.0~1-2b62]:ComputeDerivedVars():ivector-extractor.cc:183) Computing derived variables for iVector extractor\r\n",
      "LOG (ivector-extract-online2[5.5.0~1-2b62]:ComputeDerivedVars():ivector-extractor.cc:204) Done.\r\n",
      "LOG (ivector-extract-online2[5.5.0~1-2b62]:main():ivector-extract-online2.cc:189) Estimated iVectors for 42 files, 0 with errors.\r\n",
      "LOG (ivector-extract-online2[5.5.0~1-2b62]:main():ivector-extract-online2.cc:191) Average objective-function improvement was 8.73709 per frame, over 35144 frames (weighted).\r\n",
      "LOG (ivector-extract-online2[5.5.0~1-2b62]:main():ivector-extract-online2.cc:194) Average iVector length was 6.94416 and at utterance-end was 7.33816, over 35144 frames (weighted);  expected length is 10\r\n",
      "LOG (copy-feats[5.5.0~1-2b62]:main():copy-feats.cc:143) Copied 42 feature matrices.\r\n",
      "# Accounting: time=3 threads=1\r\n",
      "# Ended (code 0) at Tue Jun 22 13:34:59 UTC 2021, elapsed time 3 seconds\r\n",
      "# ivector-extract-online2 --config=exp/nnet3_cleaned_out/ivectors_test-clean_hires/conf/ivector_extractor.conf ark:data/test-clean_hires/split87/15/spk2utt scp:data/test-clean_hires/split87/15/feats.scp ark:- | copy-feats --compress=true ark:- ark,scp:/kaggle/working/exp/nnet3_cleaned_out/ivectors_test-clean_hires/ivector_online.15.ark,/kaggle/working/exp/nnet3_cleaned_out/ivectors_test-clean_hires/ivector_online.15.scp \r\n",
      "# Started at Tue Jun 22 13:34:57 UTC 2021\r\n",
      "#\r\n",
      "copy-feats --compress=true ark:- ark,scp:/kaggle/working/exp/nnet3_cleaned_out/ivectors_test-clean_hires/ivector_online.15.ark,/kaggle/working/exp/nnet3_cleaned_out/ivectors_test-clean_hires/ivector_online.15.scp \r\n",
      "ivector-extract-online2 --config=exp/nnet3_cleaned_out/ivectors_test-clean_hires/conf/ivector_extractor.conf ark:data/test-clean_hires/split87/15/spk2utt scp:data/test-clean_hires/split87/15/feats.scp ark:- \r\n",
      "LOG (ivector-extract-online2[5.5.0~1-2b62]:ComputeDerivedVars():ivector-extractor.cc:183) Computing derived variables for iVector extractor\r\n",
      "LOG (ivector-extract-online2[5.5.0~1-2b62]:ComputeDerivedVars():ivector-extractor.cc:204) Done.\r\n",
      "LOG (ivector-extract-online2[5.5.0~1-2b62]:main():ivector-extract-online2.cc:189) Estimated iVectors for 54 files, 0 with errors.\r\n",
      "LOG (ivector-extract-online2[5.5.0~1-2b62]:main():ivector-extract-online2.cc:191) Average objective-function improvement was 11.6099 per frame, over 25611 frames (weighted).\r\n",
      "LOG (ivector-extract-online2[5.5.0~1-2b62]:main():ivector-extract-online2.cc:194) Average iVector length was 6.87785 and at utterance-end was 7.13149, over 25611 frames (weighted);  expected length is 10\r\n",
      "LOG (copy-feats[5.5.0~1-2b62]:main():copy-feats.cc:143) Copied 54 feature matrices.\r\n",
      "# Accounting: time=2 threads=1\r\n",
      "# Ended (code 0) at Tue Jun 22 13:34:59 UTC 2021, elapsed time 2 seconds\r\n",
      "# ivector-extract-online2 --config=exp/nnet3_cleaned_out/ivectors_test-clean_hires/conf/ivector_extractor.conf ark:data/test-clean_hires/split87/16/spk2utt scp:data/test-clean_hires/split87/16/feats.scp ark:- | copy-feats --compress=true ark:- ark,scp:/kaggle/working/exp/nnet3_cleaned_out/ivectors_test-clean_hires/ivector_online.16.ark,/kaggle/working/exp/nnet3_cleaned_out/ivectors_test-clean_hires/ivector_online.16.scp \r\n",
      "# Started at Tue Jun 22 13:34:57 UTC 2021\r\n",
      "#\r\n",
      "copy-feats --compress=true ark:- ark,scp:/kaggle/working/exp/nnet3_cleaned_out/ivectors_test-clean_hires/ivector_online.16.ark,/kaggle/working/exp/nnet3_cleaned_out/ivectors_test-clean_hires/ivector_online.16.scp \r\n",
      "ivector-extract-online2 --config=exp/nnet3_cleaned_out/ivectors_test-clean_hires/conf/ivector_extractor.conf ark:data/test-clean_hires/split87/16/spk2utt scp:data/test-clean_hires/split87/16/feats.scp ark:- \r\n",
      "LOG (ivector-extract-online2[5.5.0~1-2b62]:ComputeDerivedVars():ivector-extractor.cc:183) Computing derived variables for iVector extractor\r\n",
      "LOG (ivector-extract-online2[5.5.0~1-2b62]:ComputeDerivedVars():ivector-extractor.cc:204) Done.\r\n",
      "LOG (ivector-extract-online2[5.5.0~1-2b62]:main():ivector-extract-online2.cc:189) Estimated iVectors for 51 files, 0 with errors.\r\n",
      "LOG (ivector-extract-online2[5.5.0~1-2b62]:main():ivector-extract-online2.cc:191) Average objective-function improvement was 11.2041 per frame, over 22638 frames (weighted).\r\n",
      "LOG (ivector-extract-online2[5.5.0~1-2b62]:main():ivector-extract-online2.cc:194) Average iVector length was 6.40009 and at utterance-end was 6.63964, over 22638 frames (weighted);  expected length is 10\r\n",
      "LOG (copy-feats[5.5.0~1-2b62]:main():copy-feats.cc:143) Copied 51 feature matrices.\r\n",
      "# Accounting: time=2 threads=1\r\n",
      "# Ended (code 0) at Tue Jun 22 13:34:59 UTC 2021, elapsed time 2 seconds\r\n",
      "# ivector-extract-online2 --config=exp/nnet3_cleaned_out/ivectors_test-clean_hires/conf/ivector_extractor.conf ark:data/test-clean_hires/split87/17/spk2utt scp:data/test-clean_hires/split87/17/feats.scp ark:- | copy-feats --compress=true ark:- ark,scp:/kaggle/working/exp/nnet3_cleaned_out/ivectors_test-clean_hires/ivector_online.17.ark,/kaggle/working/exp/nnet3_cleaned_out/ivectors_test-clean_hires/ivector_online.17.scp \r\n",
      "# Started at Tue Jun 22 13:34:58 UTC 2021\r\n",
      "#\r\n",
      "copy-feats --compress=true ark:- ark,scp:/kaggle/working/exp/nnet3_cleaned_out/ivectors_test-clean_hires/ivector_online.17.ark,/kaggle/working/exp/nnet3_cleaned_out/ivectors_test-clean_hires/ivector_online.17.scp \r\n",
      "ivector-extract-online2 --config=exp/nnet3_cleaned_out/ivectors_test-clean_hires/conf/ivector_extractor.conf ark:data/test-clean_hires/split87/17/spk2utt scp:data/test-clean_hires/split87/17/feats.scp ark:- \r\n",
      "LOG (ivector-extract-online2[5.5.0~1-2b62]:ComputeDerivedVars():ivector-extractor.cc:183) Computing derived variables for iVector extractor\r\n",
      "LOG (ivector-extract-online2[5.5.0~1-2b62]:ComputeDerivedVars():ivector-extractor.cc:204) Done.\r\n",
      "LOG (ivector-extract-online2[5.5.0~1-2b62]:main():ivector-extract-online2.cc:189) Estimated iVectors for 27 files, 0 with errors.\r\n",
      "LOG (ivector-extract-online2[5.5.0~1-2b62]:main():ivector-extract-online2.cc:191) Average objective-function improvement was 7.43515 per frame, over 16395 frames (weighted).\r\n",
      "LOG (ivector-extract-online2[5.5.0~1-2b62]:main():ivector-extract-online2.cc:194) Average iVector length was 7.19091 and at utterance-end was 7.49871, over 16395 frames (weighted);  expected length is 10\r\n",
      "LOG (copy-feats[5.5.0~1-2b62]:main():copy-feats.cc:143) Copied 27 feature matrices.\r\n",
      "# Accounting: time=1 threads=1\r\n",
      "# Ended (code 0) at Tue Jun 22 13:34:59 UTC 2021, elapsed time 1 seconds\r\n",
      "# ivector-extract-online2 --config=exp/nnet3_cleaned_out/ivectors_test-clean_hires/conf/ivector_extractor.conf ark:data/test-clean_hires/split87/18/spk2utt scp:data/test-clean_hires/split87/18/feats.scp ark:- | copy-feats --compress=true ark:- ark,scp:/kaggle/working/exp/nnet3_cleaned_out/ivectors_test-clean_hires/ivector_online.18.ark,/kaggle/working/exp/nnet3_cleaned_out/ivectors_test-clean_hires/ivector_online.18.scp \r\n",
      "# Started at Tue Jun 22 13:34:59 UTC 2021\r\n",
      "#\r\n",
      "copy-feats --compress=true ark:- ark,scp:/kaggle/working/exp/nnet3_cleaned_out/ivectors_test-clean_hires/ivector_online.18.ark,/kaggle/working/exp/nnet3_cleaned_out/ivectors_test-clean_hires/ivector_online.18.scp \r\n",
      "ivector-extract-online2 --config=exp/nnet3_cleaned_out/ivectors_test-clean_hires/conf/ivector_extractor.conf ark:data/test-clean_hires/split87/18/spk2utt scp:data/test-clean_hires/split87/18/feats.scp ark:- \r\n",
      "LOG (ivector-extract-online2[5.5.0~1-2b62]:ComputeDerivedVars():ivector-extractor.cc:183) Computing derived variables for iVector extractor\r\n",
      "LOG (ivector-extract-online2[5.5.0~1-2b62]:ComputeDerivedVars():ivector-extractor.cc:204) Done.\r\n",
      "LOG (ivector-extract-online2[5.5.0~1-2b62]:main():ivector-extract-online2.cc:189) Estimated iVectors for 15 files, 0 with errors.\r\n",
      "LOG (ivector-extract-online2[5.5.0~1-2b62]:main():ivector-extract-online2.cc:191) Average objective-function improvement was 7.18831 per frame, over 14183 frames (weighted).\r\n",
      "LOG (ivector-extract-online2[5.5.0~1-2b62]:main():ivector-extract-online2.cc:194) Average iVector length was 7.30215 and at utterance-end was 7.67726, over 14183 frames (weighted);  expected length is 10\r\n",
      "LOG (copy-feats[5.5.0~1-2b62]:main():copy-feats.cc:143) Copied 15 feature matrices.\r\n",
      "# Accounting: time=1 threads=1\r\n",
      "# Ended (code 0) at Tue Jun 22 13:35:00 UTC 2021, elapsed time 1 seconds\r\n",
      "# ivector-extract-online2 --config=exp/nnet3_cleaned_out/ivectors_test-clean_hires/conf/ivector_extractor.conf ark:data/test-clean_hires/split87/19/spk2utt scp:data/test-clean_hires/split87/19/feats.scp ark:- | copy-feats --compress=true ark:- ark,scp:/kaggle/working/exp/nnet3_cleaned_out/ivectors_test-clean_hires/ivector_online.19.ark,/kaggle/working/exp/nnet3_cleaned_out/ivectors_test-clean_hires/ivector_online.19.scp \r\n",
      "# Started at Tue Jun 22 13:34:59 UTC 2021\r\n",
      "#\r\n",
      "copy-feats --compress=true ark:- ark,scp:/kaggle/working/exp/nnet3_cleaned_out/ivectors_test-clean_hires/ivector_online.19.ark,/kaggle/working/exp/nnet3_cleaned_out/ivectors_test-clean_hires/ivector_online.19.scp \r\n",
      "ivector-extract-online2 --config=exp/nnet3_cleaned_out/ivectors_test-clean_hires/conf/ivector_extractor.conf ark:data/test-clean_hires/split87/19/spk2utt scp:data/test-clean_hires/split87/19/feats.scp ark:- \r\n",
      "LOG (ivector-extract-online2[5.5.0~1-2b62]:ComputeDerivedVars():ivector-extractor.cc:183) Computing derived variables for iVector extractor\r\n",
      "LOG (ivector-extract-online2[5.5.0~1-2b62]:ComputeDerivedVars():ivector-extractor.cc:204) Done.\r\n",
      "LOG (ivector-extract-online2[5.5.0~1-2b62]:main():ivector-extract-online2.cc:189) Estimated iVectors for 30 files, 0 with errors.\r\n",
      "LOG (ivector-extract-online2[5.5.0~1-2b62]:main():ivector-extract-online2.cc:191) Average objective-function improvement was 7.90831 per frame, over 17671 frames (weighted).\r\n",
      "LOG (ivector-extract-online2[5.5.0~1-2b62]:main():ivector-extract-online2.cc:194) Average iVector length was 7.65 and at utterance-end was 7.90849, over 17671 frames (weighted);  expected length is 10\r\n",
      "LOG (copy-feats[5.5.0~1-2b62]:main():copy-feats.cc:143) Copied 30 feature matrices.\r\n",
      "# Accounting: time=1 threads=1\r\n",
      "# Ended (code 0) at Tue Jun 22 13:35:00 UTC 2021, elapsed time 1 seconds\r\n",
      "# ivector-extract-online2 --config=exp/nnet3_cleaned_out/ivectors_test-clean_hires/conf/ivector_extractor.conf ark:data/test-clean_hires/split87/2/spk2utt scp:data/test-clean_hires/split87/2/feats.scp ark:- | copy-feats --compress=true ark:- ark,scp:/kaggle/working/exp/nnet3_cleaned_out/ivectors_test-clean_hires/ivector_online.2.ark,/kaggle/working/exp/nnet3_cleaned_out/ivectors_test-clean_hires/ivector_online.2.scp \r\n",
      "# Started at Tue Jun 22 13:34:51 UTC 2021\r\n",
      "#\r\n",
      "copy-feats --compress=true ark:- ark,scp:/kaggle/working/exp/nnet3_cleaned_out/ivectors_test-clean_hires/ivector_online.2.ark,/kaggle/working/exp/nnet3_cleaned_out/ivectors_test-clean_hires/ivector_online.2.scp \r\n",
      "ivector-extract-online2 --config=exp/nnet3_cleaned_out/ivectors_test-clean_hires/conf/ivector_extractor.conf ark:data/test-clean_hires/split87/2/spk2utt scp:data/test-clean_hires/split87/2/feats.scp ark:- \r\n",
      "LOG (ivector-extract-online2[5.5.0~1-2b62]:ComputeDerivedVars():ivector-extractor.cc:183) Computing derived variables for iVector extractor\r\n",
      "LOG (ivector-extract-online2[5.5.0~1-2b62]:ComputeDerivedVars():ivector-extractor.cc:204) Done.\r\n",
      "LOG (ivector-extract-online2[5.5.0~1-2b62]:main():ivector-extract-online2.cc:189) Estimated iVectors for 26 files, 0 with errors.\r\n",
      "LOG (ivector-extract-online2[5.5.0~1-2b62]:main():ivector-extract-online2.cc:191) Average objective-function improvement was 7.34379 per frame, over 20641 frames (weighted).\r\n",
      "LOG (ivector-extract-online2[5.5.0~1-2b62]:main():ivector-extract-online2.cc:194) Average iVector length was 7.32079 and at utterance-end was 7.71741, over 20641 frames (weighted);  expected length is 10\r\n",
      "LOG (copy-feats[5.5.0~1-2b62]:main():copy-feats.cc:143) Copied 26 feature matrices.\r\n",
      "# Accounting: time=2 threads=1\r\n",
      "# Ended (code 0) at Tue Jun 22 13:34:53 UTC 2021, elapsed time 2 seconds\r\n",
      "# ivector-extract-online2 --config=exp/nnet3_cleaned_out/ivectors_test-clean_hires/conf/ivector_extractor.conf ark:data/test-clean_hires/split87/20/spk2utt scp:data/test-clean_hires/split87/20/feats.scp ark:- | copy-feats --compress=true ark:- ark,scp:/kaggle/working/exp/nnet3_cleaned_out/ivectors_test-clean_hires/ivector_online.20.ark,/kaggle/working/exp/nnet3_cleaned_out/ivectors_test-clean_hires/ivector_online.20.scp \r\n",
      "# Started at Tue Jun 22 13:34:59 UTC 2021\r\n",
      "#\r\n",
      "copy-feats --compress=true ark:- ark,scp:/kaggle/working/exp/nnet3_cleaned_out/ivectors_test-clean_hires/ivector_online.20.ark,/kaggle/working/exp/nnet3_cleaned_out/ivectors_test-clean_hires/ivector_online.20.scp \r\n",
      "ivector-extract-online2 --config=exp/nnet3_cleaned_out/ivectors_test-clean_hires/conf/ivector_extractor.conf ark:data/test-clean_hires/split87/20/spk2utt scp:data/test-clean_hires/split87/20/feats.scp ark:- \r\n",
      "LOG (ivector-extract-online2[5.5.0~1-2b62]:ComputeDerivedVars():ivector-extractor.cc:183) Computing derived variables for iVector extractor\r\n",
      "LOG (ivector-extract-online2[5.5.0~1-2b62]:ComputeDerivedVars():ivector-extractor.cc:204) Done.\r\n",
      "LOG (ivector-extract-online2[5.5.0~1-2b62]:main():ivector-extract-online2.cc:189) Estimated iVectors for 61 files, 0 with errors.\r\n",
      "LOG (ivector-extract-online2[5.5.0~1-2b62]:main():ivector-extract-online2.cc:191) Average objective-function improvement was 13.5138 per frame, over 48454 frames (weighted).\r\n",
      "LOG (ivector-extract-online2[5.5.0~1-2b62]:main():ivector-extract-online2.cc:194) Average iVector length was 7.55799 and at utterance-end was 7.89793, over 48454 frames (weighted);  expected length is 10\r\n",
      "LOG (copy-feats[5.5.0~1-2b62]:main():copy-feats.cc:143) Copied 61 feature matrices.\r\n",
      "# Accounting: time=3 threads=1\r\n",
      "# Ended (code 0) at Tue Jun 22 13:35:02 UTC 2021, elapsed time 3 seconds\r\n",
      "# ivector-extract-online2 --config=exp/nnet3_cleaned_out/ivectors_test-clean_hires/conf/ivector_extractor.conf ark:data/test-clean_hires/split87/21/spk2utt scp:data/test-clean_hires/split87/21/feats.scp ark:- | copy-feats --compress=true ark:- ark,scp:/kaggle/working/exp/nnet3_cleaned_out/ivectors_test-clean_hires/ivector_online.21.ark,/kaggle/working/exp/nnet3_cleaned_out/ivectors_test-clean_hires/ivector_online.21.scp \r\n",
      "# Started at Tue Jun 22 13:34:59 UTC 2021\r\n",
      "#\r\n",
      "copy-feats --compress=true ark:- ark,scp:/kaggle/working/exp/nnet3_cleaned_out/ivectors_test-clean_hires/ivector_online.21.ark,/kaggle/working/exp/nnet3_cleaned_out/ivectors_test-clean_hires/ivector_online.21.scp \r\n",
      "ivector-extract-online2 --config=exp/nnet3_cleaned_out/ivectors_test-clean_hires/conf/ivector_extractor.conf ark:data/test-clean_hires/split87/21/spk2utt scp:data/test-clean_hires/split87/21/feats.scp ark:- \r\n",
      "LOG (ivector-extract-online2[5.5.0~1-2b62]:ComputeDerivedVars():ivector-extractor.cc:183) Computing derived variables for iVector extractor\r\n",
      "LOG (ivector-extract-online2[5.5.0~1-2b62]:ComputeDerivedVars():ivector-extractor.cc:204) Done.\r\n",
      "LOG (ivector-extract-online2[5.5.0~1-2b62]:main():ivector-extract-online2.cc:189) Estimated iVectors for 42 files, 0 with errors.\r\n",
      "LOG (ivector-extract-online2[5.5.0~1-2b62]:main():ivector-extract-online2.cc:191) Average objective-function improvement was 8.14012 per frame, over 49045 frames (weighted).\r\n",
      "LOG (ivector-extract-online2[5.5.0~1-2b62]:main():ivector-extract-online2.cc:194) Average iVector length was 7.72432 and at utterance-end was 8.0617, over 49045 frames (weighted);  expected length is 10\r\n",
      "LOG (copy-feats[5.5.0~1-2b62]:main():copy-feats.cc:143) Copied 42 feature matrices.\r\n",
      "# Accounting: time=3 threads=1\r\n",
      "# Ended (code 0) at Tue Jun 22 13:35:02 UTC 2021, elapsed time 3 seconds\r\n",
      "# ivector-extract-online2 --config=exp/nnet3_cleaned_out/ivectors_test-clean_hires/conf/ivector_extractor.conf ark:data/test-clean_hires/split87/22/spk2utt scp:data/test-clean_hires/split87/22/feats.scp ark:- | copy-feats --compress=true ark:- ark,scp:/kaggle/working/exp/nnet3_cleaned_out/ivectors_test-clean_hires/ivector_online.22.ark,/kaggle/working/exp/nnet3_cleaned_out/ivectors_test-clean_hires/ivector_online.22.scp \r\n",
      "# Started at Tue Jun 22 13:35:00 UTC 2021\r\n",
      "#\r\n",
      "copy-feats --compress=true ark:- ark,scp:/kaggle/working/exp/nnet3_cleaned_out/ivectors_test-clean_hires/ivector_online.22.ark,/kaggle/working/exp/nnet3_cleaned_out/ivectors_test-clean_hires/ivector_online.22.scp \r\n",
      "ivector-extract-online2 --config=exp/nnet3_cleaned_out/ivectors_test-clean_hires/conf/ivector_extractor.conf ark:data/test-clean_hires/split87/22/spk2utt scp:data/test-clean_hires/split87/22/feats.scp ark:- \r\n",
      "LOG (ivector-extract-online2[5.5.0~1-2b62]:ComputeDerivedVars():ivector-extractor.cc:183) Computing derived variables for iVector extractor\r\n",
      "LOG (ivector-extract-online2[5.5.0~1-2b62]:ComputeDerivedVars():ivector-extractor.cc:204) Done.\r\n",
      "LOG (ivector-extract-online2[5.5.0~1-2b62]:main():ivector-extract-online2.cc:189) Estimated iVectors for 26 files, 0 with errors.\r\n",
      "LOG (ivector-extract-online2[5.5.0~1-2b62]:main():ivector-extract-online2.cc:191) Average objective-function improvement was 6.75097 per frame, over 16649 frames (weighted).\r\n",
      "LOG (ivector-extract-online2[5.5.0~1-2b62]:main():ivector-extract-online2.cc:194) Average iVector length was 6.66973 and at utterance-end was 6.99015, over 16649 frames (weighted);  expected length is 10\r\n",
      "LOG (copy-feats[5.5.0~1-2b62]:main():copy-feats.cc:143) Copied 26 feature matrices.\r\n",
      "# Accounting: time=1 threads=1\r\n",
      "# Ended (code 0) at Tue Jun 22 13:35:01 UTC 2021, elapsed time 1 seconds\r\n",
      "# ivector-extract-online2 --config=exp/nnet3_cleaned_out/ivectors_test-clean_hires/conf/ivector_extractor.conf ark:data/test-clean_hires/split87/23/spk2utt scp:data/test-clean_hires/split87/23/feats.scp ark:- | copy-feats --compress=true ark:- ark,scp:/kaggle/working/exp/nnet3_cleaned_out/ivectors_test-clean_hires/ivector_online.23.ark,/kaggle/working/exp/nnet3_cleaned_out/ivectors_test-clean_hires/ivector_online.23.scp \r\n",
      "# Started at Tue Jun 22 13:35:00 UTC 2021\r\n",
      "#\r\n",
      "copy-feats --compress=true ark:- ark,scp:/kaggle/working/exp/nnet3_cleaned_out/ivectors_test-clean_hires/ivector_online.23.ark,/kaggle/working/exp/nnet3_cleaned_out/ivectors_test-clean_hires/ivector_online.23.scp \r\n",
      "ivector-extract-online2 --config=exp/nnet3_cleaned_out/ivectors_test-clean_hires/conf/ivector_extractor.conf ark:data/test-clean_hires/split87/23/spk2utt scp:data/test-clean_hires/split87/23/feats.scp ark:- \r\n",
      "LOG (ivector-extract-online2[5.5.0~1-2b62]:ComputeDerivedVars():ivector-extractor.cc:183) Computing derived variables for iVector extractor\r\n",
      "LOG (ivector-extract-online2[5.5.0~1-2b62]:ComputeDerivedVars():ivector-extractor.cc:204) Done.\r\n",
      "LOG (ivector-extract-online2[5.5.0~1-2b62]:main():ivector-extract-online2.cc:189) Estimated iVectors for 19 files, 0 with errors.\r\n",
      "LOG (ivector-extract-online2[5.5.0~1-2b62]:main():ivector-extract-online2.cc:191) Average objective-function improvement was 7.45077 per frame, over 11470 frames (weighted).\r\n",
      "LOG (ivector-extract-online2[5.5.0~1-2b62]:main():ivector-extract-online2.cc:194) Average iVector length was 6.62236 and at utterance-end was 6.87479, over 11470 frames (weighted);  expected length is 10\r\n",
      "LOG (copy-feats[5.5.0~1-2b62]:main():copy-feats.cc:143) Copied 19 feature matrices.\r\n",
      "# Accounting: time=1 threads=1\r\n",
      "# Ended (code 0) at Tue Jun 22 13:35:01 UTC 2021, elapsed time 1 seconds\r\n",
      "# ivector-extract-online2 --config=exp/nnet3_cleaned_out/ivectors_test-clean_hires/conf/ivector_extractor.conf ark:data/test-clean_hires/split87/24/spk2utt scp:data/test-clean_hires/split87/24/feats.scp ark:- | copy-feats --compress=true ark:- ark,scp:/kaggle/working/exp/nnet3_cleaned_out/ivectors_test-clean_hires/ivector_online.24.ark,/kaggle/working/exp/nnet3_cleaned_out/ivectors_test-clean_hires/ivector_online.24.scp \r\n",
      "# Started at Tue Jun 22 13:35:01 UTC 2021\r\n",
      "#\r\n",
      "copy-feats --compress=true ark:- ark,scp:/kaggle/working/exp/nnet3_cleaned_out/ivectors_test-clean_hires/ivector_online.24.ark,/kaggle/working/exp/nnet3_cleaned_out/ivectors_test-clean_hires/ivector_online.24.scp \r\n",
      "ivector-extract-online2 --config=exp/nnet3_cleaned_out/ivectors_test-clean_hires/conf/ivector_extractor.conf ark:data/test-clean_hires/split87/24/spk2utt scp:data/test-clean_hires/split87/24/feats.scp ark:- \r\n",
      "LOG (ivector-extract-online2[5.5.0~1-2b62]:ComputeDerivedVars():ivector-extractor.cc:183) Computing derived variables for iVector extractor\r\n",
      "LOG (ivector-extract-online2[5.5.0~1-2b62]:ComputeDerivedVars():ivector-extractor.cc:204) Done.\r\n",
      "LOG (ivector-extract-online2[5.5.0~1-2b62]:main():ivector-extract-online2.cc:189) Estimated iVectors for 43 files, 0 with errors.\r\n",
      "LOG (ivector-extract-online2[5.5.0~1-2b62]:main():ivector-extract-online2.cc:191) Average objective-function improvement was 6.10543 per frame, over 19871 frames (weighted).\r\n",
      "LOG (ivector-extract-online2[5.5.0~1-2b62]:main():ivector-extract-online2.cc:194) Average iVector length was 6.63596 and at utterance-end was 6.8515, over 19871 frames (weighted);  expected length is 10\r\n",
      "LOG (copy-feats[5.5.0~1-2b62]:main():copy-feats.cc:143) Copied 43 feature matrices.\r\n",
      "# Accounting: time=2 threads=1\r\n",
      "# Ended (code 0) at Tue Jun 22 13:35:03 UTC 2021, elapsed time 2 seconds\r\n",
      "# ivector-extract-online2 --config=exp/nnet3_cleaned_out/ivectors_test-clean_hires/conf/ivector_extractor.conf ark:data/test-clean_hires/split87/25/spk2utt scp:data/test-clean_hires/split87/25/feats.scp ark:- | copy-feats --compress=true ark:- ark,scp:/kaggle/working/exp/nnet3_cleaned_out/ivectors_test-clean_hires/ivector_online.25.ark,/kaggle/working/exp/nnet3_cleaned_out/ivectors_test-clean_hires/ivector_online.25.scp \r\n",
      "# Started at Tue Jun 22 13:35:01 UTC 2021\r\n",
      "#\r\n",
      "copy-feats --compress=true ark:- ark,scp:/kaggle/working/exp/nnet3_cleaned_out/ivectors_test-clean_hires/ivector_online.25.ark,/kaggle/working/exp/nnet3_cleaned_out/ivectors_test-clean_hires/ivector_online.25.scp \r\n",
      "ivector-extract-online2 --config=exp/nnet3_cleaned_out/ivectors_test-clean_hires/conf/ivector_extractor.conf ark:data/test-clean_hires/split87/25/spk2utt scp:data/test-clean_hires/split87/25/feats.scp ark:- \r\n",
      "LOG (ivector-extract-online2[5.5.0~1-2b62]:ComputeDerivedVars():ivector-extractor.cc:183) Computing derived variables for iVector extractor\r\n",
      "LOG (ivector-extract-online2[5.5.0~1-2b62]:ComputeDerivedVars():ivector-extractor.cc:204) Done.\r\n",
      "LOG (ivector-extract-online2[5.5.0~1-2b62]:main():ivector-extract-online2.cc:189) Estimated iVectors for 32 files, 0 with errors.\r\n",
      "LOG (ivector-extract-online2[5.5.0~1-2b62]:main():ivector-extract-online2.cc:191) Average objective-function improvement was 6.20103 per frame, over 17306 frames (weighted).\r\n",
      "LOG (ivector-extract-online2[5.5.0~1-2b62]:main():ivector-extract-online2.cc:194) Average iVector length was 6.66578 and at utterance-end was 6.93139, over 17306 frames (weighted);  expected length is 10\r\n",
      "LOG (copy-feats[5.5.0~1-2b62]:main():copy-feats.cc:143) Copied 32 feature matrices.\r\n",
      "# Accounting: time=2 threads=1\r\n",
      "# Ended (code 0) at Tue Jun 22 13:35:03 UTC 2021, elapsed time 2 seconds\r\n",
      "# ivector-extract-online2 --config=exp/nnet3_cleaned_out/ivectors_test-clean_hires/conf/ivector_extractor.conf ark:data/test-clean_hires/split87/26/spk2utt scp:data/test-clean_hires/split87/26/feats.scp ark:- | copy-feats --compress=true ark:- ark,scp:/kaggle/working/exp/nnet3_cleaned_out/ivectors_test-clean_hires/ivector_online.26.ark,/kaggle/working/exp/nnet3_cleaned_out/ivectors_test-clean_hires/ivector_online.26.scp \r\n",
      "# Started at Tue Jun 22 13:35:02 UTC 2021\r\n",
      "#\r\n",
      "copy-feats --compress=true ark:- ark,scp:/kaggle/working/exp/nnet3_cleaned_out/ivectors_test-clean_hires/ivector_online.26.ark,/kaggle/working/exp/nnet3_cleaned_out/ivectors_test-clean_hires/ivector_online.26.scp \r\n",
      "ivector-extract-online2 --config=exp/nnet3_cleaned_out/ivectors_test-clean_hires/conf/ivector_extractor.conf ark:data/test-clean_hires/split87/26/spk2utt scp:data/test-clean_hires/split87/26/feats.scp ark:- \r\n",
      "LOG (ivector-extract-online2[5.5.0~1-2b62]:ComputeDerivedVars():ivector-extractor.cc:183) Computing derived variables for iVector extractor\r\n",
      "LOG (ivector-extract-online2[5.5.0~1-2b62]:ComputeDerivedVars():ivector-extractor.cc:204) Done.\r\n",
      "LOG (ivector-extract-online2[5.5.0~1-2b62]:main():ivector-extract-online2.cc:189) Estimated iVectors for 29 files, 0 with errors.\r\n",
      "LOG (ivector-extract-online2[5.5.0~1-2b62]:main():ivector-extract-online2.cc:191) Average objective-function improvement was 6.94289 per frame, over 20355 frames (weighted).\r\n",
      "LOG (ivector-extract-online2[5.5.0~1-2b62]:main():ivector-extract-online2.cc:194) Average iVector length was 6.9185 and at utterance-end was 7.14025, over 20355 frames (weighted);  expected length is 10\r\n",
      "LOG (copy-feats[5.5.0~1-2b62]:main():copy-feats.cc:143) Copied 29 feature matrices.\r\n",
      "# Accounting: time=2 threads=1\r\n",
      "# Ended (code 0) at Tue Jun 22 13:35:04 UTC 2021, elapsed time 2 seconds\r\n",
      "# ivector-extract-online2 --config=exp/nnet3_cleaned_out/ivectors_test-clean_hires/conf/ivector_extractor.conf ark:data/test-clean_hires/split87/27/spk2utt scp:data/test-clean_hires/split87/27/feats.scp ark:- | copy-feats --compress=true ark:- ark,scp:/kaggle/working/exp/nnet3_cleaned_out/ivectors_test-clean_hires/ivector_online.27.ark,/kaggle/working/exp/nnet3_cleaned_out/ivectors_test-clean_hires/ivector_online.27.scp \r\n",
      "# Started at Tue Jun 22 13:35:02 UTC 2021\r\n",
      "#\r\n",
      "copy-feats --compress=true ark:- ark,scp:/kaggle/working/exp/nnet3_cleaned_out/ivectors_test-clean_hires/ivector_online.27.ark,/kaggle/working/exp/nnet3_cleaned_out/ivectors_test-clean_hires/ivector_online.27.scp \r\n",
      "ivector-extract-online2 --config=exp/nnet3_cleaned_out/ivectors_test-clean_hires/conf/ivector_extractor.conf ark:data/test-clean_hires/split87/27/spk2utt scp:data/test-clean_hires/split87/27/feats.scp ark:- \r\n",
      "LOG (ivector-extract-online2[5.5.0~1-2b62]:ComputeDerivedVars():ivector-extractor.cc:183) Computing derived variables for iVector extractor\r\n",
      "LOG (ivector-extract-online2[5.5.0~1-2b62]:ComputeDerivedVars():ivector-extractor.cc:204) Done.\r\n",
      "LOG (ivector-extract-online2[5.5.0~1-2b62]:main():ivector-extract-online2.cc:189) Estimated iVectors for 21 files, 0 with errors.\r\n",
      "LOG (ivector-extract-online2[5.5.0~1-2b62]:main():ivector-extract-online2.cc:191) Average objective-function improvement was 3.41399 per frame, over 10509 frames (weighted).\r\n",
      "LOG (ivector-extract-online2[5.5.0~1-2b62]:main():ivector-extract-online2.cc:194) Average iVector length was 6.01421 and at utterance-end was 6.22214, over 10509 frames (weighted);  expected length is 10\r\n",
      "LOG (copy-feats[5.5.0~1-2b62]:main():copy-feats.cc:143) Copied 21 feature matrices.\r\n",
      "# Accounting: time=1 threads=1\r\n",
      "# Ended (code 0) at Tue Jun 22 13:35:03 UTC 2021, elapsed time 1 seconds\r\n",
      "# ivector-extract-online2 --config=exp/nnet3_cleaned_out/ivectors_test-clean_hires/conf/ivector_extractor.conf ark:data/test-clean_hires/split87/28/spk2utt scp:data/test-clean_hires/split87/28/feats.scp ark:- | copy-feats --compress=true ark:- ark,scp:/kaggle/working/exp/nnet3_cleaned_out/ivectors_test-clean_hires/ivector_online.28.ark,/kaggle/working/exp/nnet3_cleaned_out/ivectors_test-clean_hires/ivector_online.28.scp \r\n",
      "# Started at Tue Jun 22 13:35:03 UTC 2021\r\n",
      "#\r\n",
      "copy-feats --compress=true ark:- ark,scp:/kaggle/working/exp/nnet3_cleaned_out/ivectors_test-clean_hires/ivector_online.28.ark,/kaggle/working/exp/nnet3_cleaned_out/ivectors_test-clean_hires/ivector_online.28.scp \r\n",
      "ivector-extract-online2 --config=exp/nnet3_cleaned_out/ivectors_test-clean_hires/conf/ivector_extractor.conf ark:data/test-clean_hires/split87/28/spk2utt scp:data/test-clean_hires/split87/28/feats.scp ark:- \r\n",
      "LOG (ivector-extract-online2[5.5.0~1-2b62]:ComputeDerivedVars():ivector-extractor.cc:183) Computing derived variables for iVector extractor\r\n",
      "LOG (ivector-extract-online2[5.5.0~1-2b62]:ComputeDerivedVars():ivector-extractor.cc:204) Done.\r\n",
      "LOG (ivector-extract-online2[5.5.0~1-2b62]:main():ivector-extract-online2.cc:189) Estimated iVectors for 13 files, 0 with errors.\r\n",
      "LOG (ivector-extract-online2[5.5.0~1-2b62]:main():ivector-extract-online2.cc:191) Average objective-function improvement was 7.72282 per frame, over 9192 frames (weighted).\r\n",
      "LOG (ivector-extract-online2[5.5.0~1-2b62]:main():ivector-extract-online2.cc:194) Average iVector length was 7.3742 and at utterance-end was 7.70384, over 9192 frames (weighted);  expected length is 10\r\n",
      "LOG (copy-feats[5.5.0~1-2b62]:main():copy-feats.cc:143) Copied 13 feature matrices.\r\n",
      "# Accounting: time=1 threads=1\r\n",
      "# Ended (code 0) at Tue Jun 22 13:35:04 UTC 2021, elapsed time 1 seconds\r\n",
      "# ivector-extract-online2 --config=exp/nnet3_cleaned_out/ivectors_test-clean_hires/conf/ivector_extractor.conf ark:data/test-clean_hires/split87/29/spk2utt scp:data/test-clean_hires/split87/29/feats.scp ark:- | copy-feats --compress=true ark:- ark,scp:/kaggle/working/exp/nnet3_cleaned_out/ivectors_test-clean_hires/ivector_online.29.ark,/kaggle/working/exp/nnet3_cleaned_out/ivectors_test-clean_hires/ivector_online.29.scp \r\n",
      "# Started at Tue Jun 22 13:35:03 UTC 2021\r\n",
      "#\r\n",
      "copy-feats --compress=true ark:- ark,scp:/kaggle/working/exp/nnet3_cleaned_out/ivectors_test-clean_hires/ivector_online.29.ark,/kaggle/working/exp/nnet3_cleaned_out/ivectors_test-clean_hires/ivector_online.29.scp \r\n",
      "ivector-extract-online2 --config=exp/nnet3_cleaned_out/ivectors_test-clean_hires/conf/ivector_extractor.conf ark:data/test-clean_hires/split87/29/spk2utt scp:data/test-clean_hires/split87/29/feats.scp ark:- \r\n",
      "LOG (ivector-extract-online2[5.5.0~1-2b62]:ComputeDerivedVars():ivector-extractor.cc:183) Computing derived variables for iVector extractor\r\n",
      "LOG (ivector-extract-online2[5.5.0~1-2b62]:ComputeDerivedVars():ivector-extractor.cc:204) Done.\r\n",
      "LOG (ivector-extract-online2[5.5.0~1-2b62]:main():ivector-extract-online2.cc:189) Estimated iVectors for 77 files, 0 with errors.\r\n",
      "LOG (ivector-extract-online2[5.5.0~1-2b62]:main():ivector-extract-online2.cc:191) Average objective-function improvement was 19.5476 per frame, over 38892 frames (weighted).\r\n",
      "LOG (ivector-extract-online2[5.5.0~1-2b62]:main():ivector-extract-online2.cc:194) Average iVector length was 7.98258 and at utterance-end was 8.2078, over 38892 frames (weighted);  expected length is 10\r\n",
      "LOG (copy-feats[5.5.0~1-2b62]:main():copy-feats.cc:143) Copied 77 feature matrices.\r\n",
      "# Accounting: time=2 threads=1\r\n",
      "# Ended (code 0) at Tue Jun 22 13:35:05 UTC 2021, elapsed time 2 seconds\r\n",
      "# ivector-extract-online2 --config=exp/nnet3_cleaned_out/ivectors_test-clean_hires/conf/ivector_extractor.conf ark:data/test-clean_hires/split87/3/spk2utt scp:data/test-clean_hires/split87/3/feats.scp ark:- | copy-feats --compress=true ark:- ark,scp:/kaggle/working/exp/nnet3_cleaned_out/ivectors_test-clean_hires/ivector_online.3.ark,/kaggle/working/exp/nnet3_cleaned_out/ivectors_test-clean_hires/ivector_online.3.scp \r\n",
      "# Started at Tue Jun 22 13:34:51 UTC 2021\r\n",
      "#\r\n",
      "copy-feats --compress=true ark:- ark,scp:/kaggle/working/exp/nnet3_cleaned_out/ivectors_test-clean_hires/ivector_online.3.ark,/kaggle/working/exp/nnet3_cleaned_out/ivectors_test-clean_hires/ivector_online.3.scp \r\n",
      "ivector-extract-online2 --config=exp/nnet3_cleaned_out/ivectors_test-clean_hires/conf/ivector_extractor.conf ark:data/test-clean_hires/split87/3/spk2utt scp:data/test-clean_hires/split87/3/feats.scp ark:- \r\n",
      "LOG (ivector-extract-online2[5.5.0~1-2b62]:ComputeDerivedVars():ivector-extractor.cc:183) Computing derived variables for iVector extractor\r\n",
      "LOG (ivector-extract-online2[5.5.0~1-2b62]:ComputeDerivedVars():ivector-extractor.cc:204) Done.\r\n",
      "LOG (ivector-extract-online2[5.5.0~1-2b62]:main():ivector-extract-online2.cc:189) Estimated iVectors for 45 files, 0 with errors.\r\n",
      "LOG (ivector-extract-online2[5.5.0~1-2b62]:main():ivector-extract-online2.cc:191) Average objective-function improvement was 15.2113 per frame, over 49113 frames (weighted).\r\n",
      "LOG (ivector-extract-online2[5.5.0~1-2b62]:main():ivector-extract-online2.cc:194) Average iVector length was 9.64934 and at utterance-end was 10.0699, over 49113 frames (weighted);  expected length is 10\r\n",
      "LOG (copy-feats[5.5.0~1-2b62]:main():copy-feats.cc:143) Copied 45 feature matrices.\r\n",
      "# Accounting: time=4 threads=1\r\n",
      "# Ended (code 0) at Tue Jun 22 13:34:55 UTC 2021, elapsed time 4 seconds\r\n",
      "# ivector-extract-online2 --config=exp/nnet3_cleaned_out/ivectors_test-clean_hires/conf/ivector_extractor.conf ark:data/test-clean_hires/split87/30/spk2utt scp:data/test-clean_hires/split87/30/feats.scp ark:- | copy-feats --compress=true ark:- ark,scp:/kaggle/working/exp/nnet3_cleaned_out/ivectors_test-clean_hires/ivector_online.30.ark,/kaggle/working/exp/nnet3_cleaned_out/ivectors_test-clean_hires/ivector_online.30.scp \r\n",
      "# Started at Tue Jun 22 13:35:03 UTC 2021\r\n",
      "#\r\n",
      "copy-feats --compress=true ark:- ark,scp:/kaggle/working/exp/nnet3_cleaned_out/ivectors_test-clean_hires/ivector_online.30.ark,/kaggle/working/exp/nnet3_cleaned_out/ivectors_test-clean_hires/ivector_online.30.scp \r\n",
      "ivector-extract-online2 --config=exp/nnet3_cleaned_out/ivectors_test-clean_hires/conf/ivector_extractor.conf ark:data/test-clean_hires/split87/30/spk2utt scp:data/test-clean_hires/split87/30/feats.scp ark:- \r\n",
      "LOG (ivector-extract-online2[5.5.0~1-2b62]:ComputeDerivedVars():ivector-extractor.cc:183) Computing derived variables for iVector extractor\r\n",
      "LOG (ivector-extract-online2[5.5.0~1-2b62]:ComputeDerivedVars():ivector-extractor.cc:204) Done.\r\n",
      "LOG (ivector-extract-online2[5.5.0~1-2b62]:main():ivector-extract-online2.cc:189) Estimated iVectors for 23 files, 0 with errors.\r\n",
      "LOG (ivector-extract-online2[5.5.0~1-2b62]:main():ivector-extract-online2.cc:191) Average objective-function improvement was 16.5814 per frame, over 28157 frames (weighted).\r\n",
      "LOG (ivector-extract-online2[5.5.0~1-2b62]:main():ivector-extract-online2.cc:194) Average iVector length was 9.05555 and at utterance-end was 9.41989, over 28157 frames (weighted);  expected length is 10\r\n",
      "LOG (copy-feats[5.5.0~1-2b62]:main():copy-feats.cc:143) Copied 23 feature matrices.\r\n",
      "# Accounting: time=2 threads=1\r\n",
      "# Ended (code 0) at Tue Jun 22 13:35:05 UTC 2021, elapsed time 2 seconds\r\n",
      "# ivector-extract-online2 --config=exp/nnet3_cleaned_out/ivectors_test-clean_hires/conf/ivector_extractor.conf ark:data/test-clean_hires/split87/31/spk2utt scp:data/test-clean_hires/split87/31/feats.scp ark:- | copy-feats --compress=true ark:- ark,scp:/kaggle/working/exp/nnet3_cleaned_out/ivectors_test-clean_hires/ivector_online.31.ark,/kaggle/working/exp/nnet3_cleaned_out/ivectors_test-clean_hires/ivector_online.31.scp \r\n",
      "# Started at Tue Jun 22 13:35:04 UTC 2021\r\n",
      "#\r\n",
      "copy-feats --compress=true ark:- ark,scp:/kaggle/working/exp/nnet3_cleaned_out/ivectors_test-clean_hires/ivector_online.31.ark,/kaggle/working/exp/nnet3_cleaned_out/ivectors_test-clean_hires/ivector_online.31.scp \r\n",
      "ivector-extract-online2 --config=exp/nnet3_cleaned_out/ivectors_test-clean_hires/conf/ivector_extractor.conf ark:data/test-clean_hires/split87/31/spk2utt scp:data/test-clean_hires/split87/31/feats.scp ark:- \r\n",
      "LOG (ivector-extract-online2[5.5.0~1-2b62]:ComputeDerivedVars():ivector-extractor.cc:183) Computing derived variables for iVector extractor\r\n",
      "LOG (ivector-extract-online2[5.5.0~1-2b62]:ComputeDerivedVars():ivector-extractor.cc:204) Done.\r\n",
      "LOG (ivector-extract-online2[5.5.0~1-2b62]:main():ivector-extract-online2.cc:189) Estimated iVectors for 23 files, 0 with errors.\r\n",
      "LOG (ivector-extract-online2[5.5.0~1-2b62]:main():ivector-extract-online2.cc:191) Average objective-function improvement was 10.0659 per frame, over 20170 frames (weighted).\r\n",
      "LOG (ivector-extract-online2[5.5.0~1-2b62]:main():ivector-extract-online2.cc:194) Average iVector length was 7.78669 and at utterance-end was 8.11815, over 20170 frames (weighted);  expected length is 10\r\n",
      "LOG (copy-feats[5.5.0~1-2b62]:main():copy-feats.cc:143) Copied 23 feature matrices.\r\n",
      "# Accounting: time=1 threads=1\r\n",
      "# Ended (code 0) at Tue Jun 22 13:35:05 UTC 2021, elapsed time 1 seconds\r\n",
      "# ivector-extract-online2 --config=exp/nnet3_cleaned_out/ivectors_test-clean_hires/conf/ivector_extractor.conf ark:data/test-clean_hires/split87/32/spk2utt scp:data/test-clean_hires/split87/32/feats.scp ark:- | copy-feats --compress=true ark:- ark,scp:/kaggle/working/exp/nnet3_cleaned_out/ivectors_test-clean_hires/ivector_online.32.ark,/kaggle/working/exp/nnet3_cleaned_out/ivectors_test-clean_hires/ivector_online.32.scp \r\n",
      "# Started at Tue Jun 22 13:35:04 UTC 2021\r\n",
      "#\r\n",
      "copy-feats --compress=true ark:- ark,scp:/kaggle/working/exp/nnet3_cleaned_out/ivectors_test-clean_hires/ivector_online.32.ark,/kaggle/working/exp/nnet3_cleaned_out/ivectors_test-clean_hires/ivector_online.32.scp \r\n",
      "ivector-extract-online2 --config=exp/nnet3_cleaned_out/ivectors_test-clean_hires/conf/ivector_extractor.conf ark:data/test-clean_hires/split87/32/spk2utt scp:data/test-clean_hires/split87/32/feats.scp ark:- \r\n",
      "LOG (ivector-extract-online2[5.5.0~1-2b62]:ComputeDerivedVars():ivector-extractor.cc:183) Computing derived variables for iVector extractor\r\n",
      "LOG (ivector-extract-online2[5.5.0~1-2b62]:ComputeDerivedVars():ivector-extractor.cc:204) Done.\r\n",
      "LOG (ivector-extract-online2[5.5.0~1-2b62]:main():ivector-extract-online2.cc:189) Estimated iVectors for 23 files, 0 with errors.\r\n",
      "LOG (ivector-extract-online2[5.5.0~1-2b62]:main():ivector-extract-online2.cc:191) Average objective-function improvement was 8.46387 per frame, over 22340 frames (weighted).\r\n",
      "LOG (ivector-extract-online2[5.5.0~1-2b62]:main():ivector-extract-online2.cc:194) Average iVector length was 7.83543 and at utterance-end was 8.33208, over 22340 frames (weighted);  expected length is 10\r\n",
      "LOG (copy-feats[5.5.0~1-2b62]:main():copy-feats.cc:143) Copied 23 feature matrices.\r\n",
      "# Accounting: time=1 threads=1\r\n",
      "# Ended (code 0) at Tue Jun 22 13:35:05 UTC 2021, elapsed time 1 seconds\r\n",
      "# ivector-extract-online2 --config=exp/nnet3_cleaned_out/ivectors_test-clean_hires/conf/ivector_extractor.conf ark:data/test-clean_hires/split87/33/spk2utt scp:data/test-clean_hires/split87/33/feats.scp ark:- | copy-feats --compress=true ark:- ark,scp:/kaggle/working/exp/nnet3_cleaned_out/ivectors_test-clean_hires/ivector_online.33.ark,/kaggle/working/exp/nnet3_cleaned_out/ivectors_test-clean_hires/ivector_online.33.scp \r\n",
      "# Started at Tue Jun 22 13:35:05 UTC 2021\r\n",
      "#\r\n",
      "copy-feats --compress=true ark:- ark,scp:/kaggle/working/exp/nnet3_cleaned_out/ivectors_test-clean_hires/ivector_online.33.ark,/kaggle/working/exp/nnet3_cleaned_out/ivectors_test-clean_hires/ivector_online.33.scp \r\n",
      "ivector-extract-online2 --config=exp/nnet3_cleaned_out/ivectors_test-clean_hires/conf/ivector_extractor.conf ark:data/test-clean_hires/split87/33/spk2utt scp:data/test-clean_hires/split87/33/feats.scp ark:- \r\n",
      "LOG (ivector-extract-online2[5.5.0~1-2b62]:ComputeDerivedVars():ivector-extractor.cc:183) Computing derived variables for iVector extractor\r\n",
      "LOG (ivector-extract-online2[5.5.0~1-2b62]:ComputeDerivedVars():ivector-extractor.cc:204) Done.\r\n",
      "LOG (ivector-extract-online2[5.5.0~1-2b62]:main():ivector-extract-online2.cc:189) Estimated iVectors for 16 files, 0 with errors.\r\n",
      "LOG (ivector-extract-online2[5.5.0~1-2b62]:main():ivector-extract-online2.cc:191) Average objective-function improvement was 9.20227 per frame, over 14296 frames (weighted).\r\n",
      "LOG (ivector-extract-online2[5.5.0~1-2b62]:main():ivector-extract-online2.cc:194) Average iVector length was 7.27444 and at utterance-end was 7.65382, over 14296 frames (weighted);  expected length is 10\r\n",
      "LOG (copy-feats[5.5.0~1-2b62]:main():copy-feats.cc:143) Copied 16 feature matrices.\r\n",
      "# Accounting: time=1 threads=1\r\n",
      "# Ended (code 0) at Tue Jun 22 13:35:06 UTC 2021, elapsed time 1 seconds\r\n",
      "# ivector-extract-online2 --config=exp/nnet3_cleaned_out/ivectors_test-clean_hires/conf/ivector_extractor.conf ark:data/test-clean_hires/split87/34/spk2utt scp:data/test-clean_hires/split87/34/feats.scp ark:- | copy-feats --compress=true ark:- ark,scp:/kaggle/working/exp/nnet3_cleaned_out/ivectors_test-clean_hires/ivector_online.34.ark,/kaggle/working/exp/nnet3_cleaned_out/ivectors_test-clean_hires/ivector_online.34.scp \r\n",
      "# Started at Tue Jun 22 13:35:05 UTC 2021\r\n",
      "#\r\n",
      "copy-feats --compress=true ark:- ark,scp:/kaggle/working/exp/nnet3_cleaned_out/ivectors_test-clean_hires/ivector_online.34.ark,/kaggle/working/exp/nnet3_cleaned_out/ivectors_test-clean_hires/ivector_online.34.scp \r\n",
      "ivector-extract-online2 --config=exp/nnet3_cleaned_out/ivectors_test-clean_hires/conf/ivector_extractor.conf ark:data/test-clean_hires/split87/34/spk2utt scp:data/test-clean_hires/split87/34/feats.scp ark:- \r\n",
      "LOG (ivector-extract-online2[5.5.0~1-2b62]:ComputeDerivedVars():ivector-extractor.cc:183) Computing derived variables for iVector extractor\r\n",
      "LOG (ivector-extract-online2[5.5.0~1-2b62]:ComputeDerivedVars():ivector-extractor.cc:204) Done.\r\n",
      "LOG (ivector-extract-online2[5.5.0~1-2b62]:main():ivector-extract-online2.cc:189) Estimated iVectors for 11 files, 0 with errors.\r\n",
      "LOG (ivector-extract-online2[5.5.0~1-2b62]:main():ivector-extract-online2.cc:191) Average objective-function improvement was 9.53888 per frame, over 11565 frames (weighted).\r\n",
      "LOG (ivector-extract-online2[5.5.0~1-2b62]:main():ivector-extract-online2.cc:194) Average iVector length was 7.24219 and at utterance-end was 7.68088, over 11565 frames (weighted);  expected length is 10\r\n",
      "LOG (copy-feats[5.5.0~1-2b62]:main():copy-feats.cc:143) Copied 11 feature matrices.\r\n",
      "# Accounting: time=1 threads=1\r\n",
      "# Ended (code 0) at Tue Jun 22 13:35:06 UTC 2021, elapsed time 1 seconds\r\n",
      "# ivector-extract-online2 --config=exp/nnet3_cleaned_out/ivectors_test-clean_hires/conf/ivector_extractor.conf ark:data/test-clean_hires/split87/35/spk2utt scp:data/test-clean_hires/split87/35/feats.scp ark:- | copy-feats --compress=true ark:- ark,scp:/kaggle/working/exp/nnet3_cleaned_out/ivectors_test-clean_hires/ivector_online.35.ark,/kaggle/working/exp/nnet3_cleaned_out/ivectors_test-clean_hires/ivector_online.35.scp \r\n",
      "# Started at Tue Jun 22 13:35:05 UTC 2021\r\n",
      "#\r\n",
      "copy-feats --compress=true ark:- ark,scp:/kaggle/working/exp/nnet3_cleaned_out/ivectors_test-clean_hires/ivector_online.35.ark,/kaggle/working/exp/nnet3_cleaned_out/ivectors_test-clean_hires/ivector_online.35.scp \r\n",
      "ivector-extract-online2 --config=exp/nnet3_cleaned_out/ivectors_test-clean_hires/conf/ivector_extractor.conf ark:data/test-clean_hires/split87/35/spk2utt scp:data/test-clean_hires/split87/35/feats.scp ark:- \r\n",
      "LOG (ivector-extract-online2[5.5.0~1-2b62]:ComputeDerivedVars():ivector-extractor.cc:183) Computing derived variables for iVector extractor\r\n",
      "LOG (ivector-extract-online2[5.5.0~1-2b62]:ComputeDerivedVars():ivector-extractor.cc:204) Done.\r\n",
      "LOG (ivector-extract-online2[5.5.0~1-2b62]:main():ivector-extract-online2.cc:189) Estimated iVectors for 57 files, 0 with errors.\r\n",
      "LOG (ivector-extract-online2[5.5.0~1-2b62]:main():ivector-extract-online2.cc:191) Average objective-function improvement was 8.24556 per frame, over 48262 frames (weighted).\r\n",
      "LOG (ivector-extract-online2[5.5.0~1-2b62]:main():ivector-extract-online2.cc:194) Average iVector length was 7.72379 and at utterance-end was 8.10932, over 48262 frames (weighted);  expected length is 10\r\n",
      "LOG (copy-feats[5.5.0~1-2b62]:main():copy-feats.cc:143) Copied 57 feature matrices.\r\n",
      "# Accounting: time=3 threads=1\r\n",
      "# Ended (code 0) at Tue Jun 22 13:35:08 UTC 2021, elapsed time 3 seconds\r\n",
      "# ivector-extract-online2 --config=exp/nnet3_cleaned_out/ivectors_test-clean_hires/conf/ivector_extractor.conf ark:data/test-clean_hires/split87/36/spk2utt scp:data/test-clean_hires/split87/36/feats.scp ark:- | copy-feats --compress=true ark:- ark,scp:/kaggle/working/exp/nnet3_cleaned_out/ivectors_test-clean_hires/ivector_online.36.ark,/kaggle/working/exp/nnet3_cleaned_out/ivectors_test-clean_hires/ivector_online.36.scp \r\n",
      "# Started at Tue Jun 22 13:35:05 UTC 2021\r\n",
      "#\r\n",
      "copy-feats --compress=true ark:- ark,scp:/kaggle/working/exp/nnet3_cleaned_out/ivectors_test-clean_hires/ivector_online.36.ark,/kaggle/working/exp/nnet3_cleaned_out/ivectors_test-clean_hires/ivector_online.36.scp \r\n",
      "ivector-extract-online2 --config=exp/nnet3_cleaned_out/ivectors_test-clean_hires/conf/ivector_extractor.conf ark:data/test-clean_hires/split87/36/spk2utt scp:data/test-clean_hires/split87/36/feats.scp ark:- \r\n",
      "LOG (ivector-extract-online2[5.5.0~1-2b62]:ComputeDerivedVars():ivector-extractor.cc:183) Computing derived variables for iVector extractor\r\n",
      "LOG (ivector-extract-online2[5.5.0~1-2b62]:ComputeDerivedVars():ivector-extractor.cc:204) Done.\r\n",
      "LOG (ivector-extract-online2[5.5.0~1-2b62]:main():ivector-extract-online2.cc:189) Estimated iVectors for 47 files, 0 with errors.\r\n",
      "LOG (ivector-extract-online2[5.5.0~1-2b62]:main():ivector-extract-online2.cc:191) Average objective-function improvement was 13.5999 per frame, over 48084 frames (weighted).\r\n",
      "LOG (ivector-extract-online2[5.5.0~1-2b62]:main():ivector-extract-online2.cc:194) Average iVector length was 8.34731 and at utterance-end was 8.63076, over 48084 frames (weighted);  expected length is 10\r\n",
      "LOG (copy-feats[5.5.0~1-2b62]:main():copy-feats.cc:143) Copied 47 feature matrices.\r\n",
      "# Accounting: time=3 threads=1\r\n",
      "# Ended (code 0) at Tue Jun 22 13:35:08 UTC 2021, elapsed time 3 seconds\r\n",
      "# ivector-extract-online2 --config=exp/nnet3_cleaned_out/ivectors_test-clean_hires/conf/ivector_extractor.conf ark:data/test-clean_hires/split87/37/spk2utt scp:data/test-clean_hires/split87/37/feats.scp ark:- | copy-feats --compress=true ark:- ark,scp:/kaggle/working/exp/nnet3_cleaned_out/ivectors_test-clean_hires/ivector_online.37.ark,/kaggle/working/exp/nnet3_cleaned_out/ivectors_test-clean_hires/ivector_online.37.scp \r\n",
      "# Started at Tue Jun 22 13:35:06 UTC 2021\r\n",
      "#\r\n",
      "copy-feats --compress=true ark:- ark,scp:/kaggle/working/exp/nnet3_cleaned_out/ivectors_test-clean_hires/ivector_online.37.ark,/kaggle/working/exp/nnet3_cleaned_out/ivectors_test-clean_hires/ivector_online.37.scp \r\n",
      "ivector-extract-online2 --config=exp/nnet3_cleaned_out/ivectors_test-clean_hires/conf/ivector_extractor.conf ark:data/test-clean_hires/split87/37/spk2utt scp:data/test-clean_hires/split87/37/feats.scp ark:- \r\n",
      "LOG (ivector-extract-online2[5.5.0~1-2b62]:ComputeDerivedVars():ivector-extractor.cc:183) Computing derived variables for iVector extractor\r\n",
      "LOG (ivector-extract-online2[5.5.0~1-2b62]:ComputeDerivedVars():ivector-extractor.cc:204) Done.\r\n",
      "LOG (ivector-extract-online2[5.5.0~1-2b62]:main():ivector-extract-online2.cc:189) Estimated iVectors for 22 files, 0 with errors.\r\n",
      "LOG (ivector-extract-online2[5.5.0~1-2b62]:main():ivector-extract-online2.cc:191) Average objective-function improvement was 8.87617 per frame, over 27288 frames (weighted).\r\n",
      "LOG (ivector-extract-online2[5.5.0~1-2b62]:main():ivector-extract-online2.cc:194) Average iVector length was 7.39675 and at utterance-end was 7.72472, over 27288 frames (weighted);  expected length is 10\r\n",
      "LOG (copy-feats[5.5.0~1-2b62]:main():copy-feats.cc:143) Copied 22 feature matrices.\r\n",
      "# Accounting: time=2 threads=1\r\n",
      "# Ended (code 0) at Tue Jun 22 13:35:08 UTC 2021, elapsed time 2 seconds\r\n",
      "# ivector-extract-online2 --config=exp/nnet3_cleaned_out/ivectors_test-clean_hires/conf/ivector_extractor.conf ark:data/test-clean_hires/split87/38/spk2utt scp:data/test-clean_hires/split87/38/feats.scp ark:- | copy-feats --compress=true ark:- ark,scp:/kaggle/working/exp/nnet3_cleaned_out/ivectors_test-clean_hires/ivector_online.38.ark,/kaggle/working/exp/nnet3_cleaned_out/ivectors_test-clean_hires/ivector_online.38.scp \r\n",
      "# Started at Tue Jun 22 13:35:06 UTC 2021\r\n",
      "#\r\n",
      "copy-feats --compress=true ark:- ark,scp:/kaggle/working/exp/nnet3_cleaned_out/ivectors_test-clean_hires/ivector_online.38.ark,/kaggle/working/exp/nnet3_cleaned_out/ivectors_test-clean_hires/ivector_online.38.scp \r\n",
      "ivector-extract-online2 --config=exp/nnet3_cleaned_out/ivectors_test-clean_hires/conf/ivector_extractor.conf ark:data/test-clean_hires/split87/38/spk2utt scp:data/test-clean_hires/split87/38/feats.scp ark:- \r\n",
      "LOG (ivector-extract-online2[5.5.0~1-2b62]:ComputeDerivedVars():ivector-extractor.cc:183) Computing derived variables for iVector extractor\r\n",
      "LOG (ivector-extract-online2[5.5.0~1-2b62]:ComputeDerivedVars():ivector-extractor.cc:204) Done.\r\n",
      "LOG (ivector-extract-online2[5.5.0~1-2b62]:main():ivector-extract-online2.cc:189) Estimated iVectors for 17 files, 0 with errors.\r\n",
      "LOG (ivector-extract-online2[5.5.0~1-2b62]:main():ivector-extract-online2.cc:191) Average objective-function improvement was 5.75736 per frame, over 21490 frames (weighted).\r\n",
      "LOG (ivector-extract-online2[5.5.0~1-2b62]:main():ivector-extract-online2.cc:194) Average iVector length was 7.44189 and at utterance-end was 7.88766, over 21490 frames (weighted);  expected length is 10\r\n",
      "LOG (copy-feats[5.5.0~1-2b62]:main():copy-feats.cc:143) Copied 17 feature matrices.\r\n",
      "# Accounting: time=2 threads=1\r\n",
      "# Ended (code 0) at Tue Jun 22 13:35:08 UTC 2021, elapsed time 2 seconds\r\n",
      "# ivector-extract-online2 --config=exp/nnet3_cleaned_out/ivectors_test-clean_hires/conf/ivector_extractor.conf ark:data/test-clean_hires/split87/39/spk2utt scp:data/test-clean_hires/split87/39/feats.scp ark:- | copy-feats --compress=true ark:- ark,scp:/kaggle/working/exp/nnet3_cleaned_out/ivectors_test-clean_hires/ivector_online.39.ark,/kaggle/working/exp/nnet3_cleaned_out/ivectors_test-clean_hires/ivector_online.39.scp \r\n",
      "# Started at Tue Jun 22 13:35:08 UTC 2021\r\n",
      "#\r\n",
      "copy-feats --compress=true ark:- ark,scp:/kaggle/working/exp/nnet3_cleaned_out/ivectors_test-clean_hires/ivector_online.39.ark,/kaggle/working/exp/nnet3_cleaned_out/ivectors_test-clean_hires/ivector_online.39.scp \r\n",
      "ivector-extract-online2 --config=exp/nnet3_cleaned_out/ivectors_test-clean_hires/conf/ivector_extractor.conf ark:data/test-clean_hires/split87/39/spk2utt scp:data/test-clean_hires/split87/39/feats.scp ark:- \r\n",
      "LOG (ivector-extract-online2[5.5.0~1-2b62]:ComputeDerivedVars():ivector-extractor.cc:183) Computing derived variables for iVector extractor\r\n",
      "LOG (ivector-extract-online2[5.5.0~1-2b62]:ComputeDerivedVars():ivector-extractor.cc:204) Done.\r\n",
      "LOG (ivector-extract-online2[5.5.0~1-2b62]:main():ivector-extract-online2.cc:189) Estimated iVectors for 25 files, 0 with errors.\r\n",
      "LOG (ivector-extract-online2[5.5.0~1-2b62]:main():ivector-extract-online2.cc:191) Average objective-function improvement was 9.73814 per frame, over 12328 frames (weighted).\r\n",
      "LOG (ivector-extract-online2[5.5.0~1-2b62]:main():ivector-extract-online2.cc:194) Average iVector length was 8.44274 and at utterance-end was 8.7543, over 12328 frames (weighted);  expected length is 10\r\n",
      "LOG (copy-feats[5.5.0~1-2b62]:main():copy-feats.cc:143) Copied 25 feature matrices.\r\n",
      "# Accounting: time=1 threads=1\r\n",
      "# Ended (code 0) at Tue Jun 22 13:35:09 UTC 2021, elapsed time 1 seconds\r\n",
      "# ivector-extract-online2 --config=exp/nnet3_cleaned_out/ivectors_test-clean_hires/conf/ivector_extractor.conf ark:data/test-clean_hires/split87/4/spk2utt scp:data/test-clean_hires/split87/4/feats.scp ark:- | copy-feats --compress=true ark:- ark,scp:/kaggle/working/exp/nnet3_cleaned_out/ivectors_test-clean_hires/ivector_online.4.ark,/kaggle/working/exp/nnet3_cleaned_out/ivectors_test-clean_hires/ivector_online.4.scp \r\n",
      "# Started at Tue Jun 22 13:34:51 UTC 2021\r\n",
      "#\r\n",
      "copy-feats --compress=true ark:- ark,scp:/kaggle/working/exp/nnet3_cleaned_out/ivectors_test-clean_hires/ivector_online.4.ark,/kaggle/working/exp/nnet3_cleaned_out/ivectors_test-clean_hires/ivector_online.4.scp \r\n",
      "ivector-extract-online2 --config=exp/nnet3_cleaned_out/ivectors_test-clean_hires/conf/ivector_extractor.conf ark:data/test-clean_hires/split87/4/spk2utt scp:data/test-clean_hires/split87/4/feats.scp ark:- \r\n",
      "LOG (ivector-extract-online2[5.5.0~1-2b62]:ComputeDerivedVars():ivector-extractor.cc:183) Computing derived variables for iVector extractor\r\n",
      "LOG (ivector-extract-online2[5.5.0~1-2b62]:ComputeDerivedVars():ivector-extractor.cc:204) Done.\r\n",
      "LOG (ivector-extract-online2[5.5.0~1-2b62]:main():ivector-extract-online2.cc:189) Estimated iVectors for 15 files, 0 with errors.\r\n",
      "LOG (ivector-extract-online2[5.5.0~1-2b62]:main():ivector-extract-online2.cc:191) Average objective-function improvement was 11.6284 per frame, over 7882 frames (weighted).\r\n",
      "LOG (ivector-extract-online2[5.5.0~1-2b62]:main():ivector-extract-online2.cc:194) Average iVector length was 7.71216 and at utterance-end was 8.06447, over 7882 frames (weighted);  expected length is 10\r\n",
      "LOG (copy-feats[5.5.0~1-2b62]:main():copy-feats.cc:143) Copied 15 feature matrices.\r\n",
      "# Accounting: time=2 threads=1\r\n",
      "# Ended (code 0) at Tue Jun 22 13:34:53 UTC 2021, elapsed time 2 seconds\r\n",
      "# ivector-extract-online2 --config=exp/nnet3_cleaned_out/ivectors_test-clean_hires/conf/ivector_extractor.conf ark:data/test-clean_hires/split87/40/spk2utt scp:data/test-clean_hires/split87/40/feats.scp ark:- | copy-feats --compress=true ark:- ark,scp:/kaggle/working/exp/nnet3_cleaned_out/ivectors_test-clean_hires/ivector_online.40.ark,/kaggle/working/exp/nnet3_cleaned_out/ivectors_test-clean_hires/ivector_online.40.scp \r\n",
      "# Started at Tue Jun 22 13:35:08 UTC 2021\r\n",
      "#\r\n",
      "copy-feats --compress=true ark:- ark,scp:/kaggle/working/exp/nnet3_cleaned_out/ivectors_test-clean_hires/ivector_online.40.ark,/kaggle/working/exp/nnet3_cleaned_out/ivectors_test-clean_hires/ivector_online.40.scp \r\n",
      "ivector-extract-online2 --config=exp/nnet3_cleaned_out/ivectors_test-clean_hires/conf/ivector_extractor.conf ark:data/test-clean_hires/split87/40/spk2utt scp:data/test-clean_hires/split87/40/feats.scp ark:- \r\n",
      "LOG (ivector-extract-online2[5.5.0~1-2b62]:ComputeDerivedVars():ivector-extractor.cc:183) Computing derived variables for iVector extractor\r\n",
      "LOG (ivector-extract-online2[5.5.0~1-2b62]:ComputeDerivedVars():ivector-extractor.cc:204) Done.\r\n",
      "LOG (ivector-extract-online2[5.5.0~1-2b62]:main():ivector-extract-online2.cc:189) Estimated iVectors for 37 files, 0 with errors.\r\n",
      "LOG (ivector-extract-online2[5.5.0~1-2b62]:main():ivector-extract-online2.cc:191) Average objective-function improvement was 9.42596 per frame, over 17080 frames (weighted).\r\n",
      "LOG (ivector-extract-online2[5.5.0~1-2b62]:main():ivector-extract-online2.cc:194) Average iVector length was 7.60384 and at utterance-end was 7.89297, over 17080 frames (weighted);  expected length is 10\r\n",
      "LOG (copy-feats[5.5.0~1-2b62]:main():copy-feats.cc:143) Copied 37 feature matrices.\r\n",
      "# Accounting: time=1 threads=1\r\n",
      "# Ended (code 0) at Tue Jun 22 13:35:09 UTC 2021, elapsed time 1 seconds\r\n",
      "# ivector-extract-online2 --config=exp/nnet3_cleaned_out/ivectors_test-clean_hires/conf/ivector_extractor.conf ark:data/test-clean_hires/split87/41/spk2utt scp:data/test-clean_hires/split87/41/feats.scp ark:- | copy-feats --compress=true ark:- ark,scp:/kaggle/working/exp/nnet3_cleaned_out/ivectors_test-clean_hires/ivector_online.41.ark,/kaggle/working/exp/nnet3_cleaned_out/ivectors_test-clean_hires/ivector_online.41.scp \r\n",
      "# Started at Tue Jun 22 13:35:08 UTC 2021\r\n",
      "#\r\n",
      "copy-feats --compress=true ark:- ark,scp:/kaggle/working/exp/nnet3_cleaned_out/ivectors_test-clean_hires/ivector_online.41.ark,/kaggle/working/exp/nnet3_cleaned_out/ivectors_test-clean_hires/ivector_online.41.scp \r\n",
      "ivector-extract-online2 --config=exp/nnet3_cleaned_out/ivectors_test-clean_hires/conf/ivector_extractor.conf ark:data/test-clean_hires/split87/41/spk2utt scp:data/test-clean_hires/split87/41/feats.scp ark:- \r\n",
      "LOG (ivector-extract-online2[5.5.0~1-2b62]:ComputeDerivedVars():ivector-extractor.cc:183) Computing derived variables for iVector extractor\r\n",
      "LOG (ivector-extract-online2[5.5.0~1-2b62]:ComputeDerivedVars():ivector-extractor.cc:204) Done.\r\n",
      "LOG (ivector-extract-online2[5.5.0~1-2b62]:main():ivector-extract-online2.cc:189) Estimated iVectors for 46 files, 0 with errors.\r\n",
      "LOG (ivector-extract-online2[5.5.0~1-2b62]:main():ivector-extract-online2.cc:191) Average objective-function improvement was 7.7557 per frame, over 18418 frames (weighted).\r\n",
      "LOG (ivector-extract-online2[5.5.0~1-2b62]:main():ivector-extract-online2.cc:194) Average iVector length was 7.6441 and at utterance-end was 7.9306, over 18418 frames (weighted);  expected length is 10\r\n",
      "LOG (copy-feats[5.5.0~1-2b62]:main():copy-feats.cc:143) Copied 46 feature matrices.\r\n",
      "# Accounting: time=2 threads=1\r\n",
      "# Ended (code 0) at Tue Jun 22 13:35:10 UTC 2021, elapsed time 2 seconds\r\n",
      "# ivector-extract-online2 --config=exp/nnet3_cleaned_out/ivectors_test-clean_hires/conf/ivector_extractor.conf ark:data/test-clean_hires/split87/42/spk2utt scp:data/test-clean_hires/split87/42/feats.scp ark:- | copy-feats --compress=true ark:- ark,scp:/kaggle/working/exp/nnet3_cleaned_out/ivectors_test-clean_hires/ivector_online.42.ark,/kaggle/working/exp/nnet3_cleaned_out/ivectors_test-clean_hires/ivector_online.42.scp \r\n",
      "# Started at Tue Jun 22 13:35:08 UTC 2021\r\n",
      "#\r\n",
      "copy-feats --compress=true ark:- ark,scp:/kaggle/working/exp/nnet3_cleaned_out/ivectors_test-clean_hires/ivector_online.42.ark,/kaggle/working/exp/nnet3_cleaned_out/ivectors_test-clean_hires/ivector_online.42.scp \r\n",
      "ivector-extract-online2 --config=exp/nnet3_cleaned_out/ivectors_test-clean_hires/conf/ivector_extractor.conf ark:data/test-clean_hires/split87/42/spk2utt scp:data/test-clean_hires/split87/42/feats.scp ark:- \r\n",
      "LOG (ivector-extract-online2[5.5.0~1-2b62]:ComputeDerivedVars():ivector-extractor.cc:183) Computing derived variables for iVector extractor\r\n",
      "LOG (ivector-extract-online2[5.5.0~1-2b62]:ComputeDerivedVars():ivector-extractor.cc:204) Done.\r\n",
      "LOG (ivector-extract-online2[5.5.0~1-2b62]:main():ivector-extract-online2.cc:189) Estimated iVectors for 60 files, 0 with errors.\r\n",
      "LOG (ivector-extract-online2[5.5.0~1-2b62]:main():ivector-extract-online2.cc:191) Average objective-function improvement was 21.4281 per frame, over 48225 frames (weighted).\r\n",
      "LOG (ivector-extract-online2[5.5.0~1-2b62]:main():ivector-extract-online2.cc:194) Average iVector length was 8.46836 and at utterance-end was 8.75758, over 48225 frames (weighted);  expected length is 10\r\n",
      "LOG (copy-feats[5.5.0~1-2b62]:main():copy-feats.cc:143) Copied 60 feature matrices.\r\n",
      "# Accounting: time=3 threads=1\r\n",
      "# Ended (code 0) at Tue Jun 22 13:35:11 UTC 2021, elapsed time 3 seconds\r\n",
      "# ivector-extract-online2 --config=exp/nnet3_cleaned_out/ivectors_test-clean_hires/conf/ivector_extractor.conf ark:data/test-clean_hires/split87/43/spk2utt scp:data/test-clean_hires/split87/43/feats.scp ark:- | copy-feats --compress=true ark:- ark,scp:/kaggle/working/exp/nnet3_cleaned_out/ivectors_test-clean_hires/ivector_online.43.ark,/kaggle/working/exp/nnet3_cleaned_out/ivectors_test-clean_hires/ivector_online.43.scp \r\n",
      "# Started at Tue Jun 22 13:35:09 UTC 2021\r\n",
      "#\r\n",
      "copy-feats --compress=true ark:- ark,scp:/kaggle/working/exp/nnet3_cleaned_out/ivectors_test-clean_hires/ivector_online.43.ark,/kaggle/working/exp/nnet3_cleaned_out/ivectors_test-clean_hires/ivector_online.43.scp \r\n",
      "ivector-extract-online2 --config=exp/nnet3_cleaned_out/ivectors_test-clean_hires/conf/ivector_extractor.conf ark:data/test-clean_hires/split87/43/spk2utt scp:data/test-clean_hires/split87/43/feats.scp ark:- \r\n",
      "LOG (ivector-extract-online2[5.5.0~1-2b62]:ComputeDerivedVars():ivector-extractor.cc:183) Computing derived variables for iVector extractor\r\n",
      "LOG (ivector-extract-online2[5.5.0~1-2b62]:ComputeDerivedVars():ivector-extractor.cc:204) Done.\r\n",
      "LOG (ivector-extract-online2[5.5.0~1-2b62]:main():ivector-extract-online2.cc:189) Estimated iVectors for 24 files, 0 with errors.\r\n",
      "LOG (ivector-extract-online2[5.5.0~1-2b62]:main():ivector-extract-online2.cc:191) Average objective-function improvement was 12.7989 per frame, over 21044 frames (weighted).\r\n",
      "LOG (ivector-extract-online2[5.5.0~1-2b62]:main():ivector-extract-online2.cc:194) Average iVector length was 7.33008 and at utterance-end was 7.73777, over 21044 frames (weighted);  expected length is 10\r\n",
      "LOG (copy-feats[5.5.0~1-2b62]:main():copy-feats.cc:143) Copied 24 feature matrices.\r\n",
      "# Accounting: time=2 threads=1\r\n",
      "# Ended (code 0) at Tue Jun 22 13:35:11 UTC 2021, elapsed time 2 seconds\r\n",
      "# ivector-extract-online2 --config=exp/nnet3_cleaned_out/ivectors_test-clean_hires/conf/ivector_extractor.conf ark:data/test-clean_hires/split87/44/spk2utt scp:data/test-clean_hires/split87/44/feats.scp ark:- | copy-feats --compress=true ark:- ark,scp:/kaggle/working/exp/nnet3_cleaned_out/ivectors_test-clean_hires/ivector_online.44.ark,/kaggle/working/exp/nnet3_cleaned_out/ivectors_test-clean_hires/ivector_online.44.scp \r\n",
      "# Started at Tue Jun 22 13:35:10 UTC 2021\r\n",
      "#\r\n",
      "copy-feats --compress=true ark:- ark,scp:/kaggle/working/exp/nnet3_cleaned_out/ivectors_test-clean_hires/ivector_online.44.ark,/kaggle/working/exp/nnet3_cleaned_out/ivectors_test-clean_hires/ivector_online.44.scp \r\n",
      "ivector-extract-online2 --config=exp/nnet3_cleaned_out/ivectors_test-clean_hires/conf/ivector_extractor.conf ark:data/test-clean_hires/split87/44/spk2utt scp:data/test-clean_hires/split87/44/feats.scp ark:- \r\n",
      "LOG (ivector-extract-online2[5.5.0~1-2b62]:ComputeDerivedVars():ivector-extractor.cc:183) Computing derived variables for iVector extractor\r\n",
      "LOG (ivector-extract-online2[5.5.0~1-2b62]:ComputeDerivedVars():ivector-extractor.cc:204) Done.\r\n",
      "LOG (ivector-extract-online2[5.5.0~1-2b62]:main():ivector-extract-online2.cc:189) Estimated iVectors for 39 files, 0 with errors.\r\n",
      "LOG (ivector-extract-online2[5.5.0~1-2b62]:main():ivector-extract-online2.cc:191) Average objective-function improvement was 7.7995 per frame, over 27758 frames (weighted).\r\n",
      "LOG (ivector-extract-online2[5.5.0~1-2b62]:main():ivector-extract-online2.cc:194) Average iVector length was 6.53418 and at utterance-end was 6.81254, over 27758 frames (weighted);  expected length is 10\r\n",
      "LOG (copy-feats[5.5.0~1-2b62]:main():copy-feats.cc:143) Copied 39 feature matrices.\r\n",
      "# Accounting: time=1 threads=1\r\n",
      "# Ended (code 0) at Tue Jun 22 13:35:11 UTC 2021, elapsed time 1 seconds\r\n",
      "# ivector-extract-online2 --config=exp/nnet3_cleaned_out/ivectors_test-clean_hires/conf/ivector_extractor.conf ark:data/test-clean_hires/split87/45/spk2utt scp:data/test-clean_hires/split87/45/feats.scp ark:- | copy-feats --compress=true ark:- ark,scp:/kaggle/working/exp/nnet3_cleaned_out/ivectors_test-clean_hires/ivector_online.45.ark,/kaggle/working/exp/nnet3_cleaned_out/ivectors_test-clean_hires/ivector_online.45.scp \r\n",
      "# Started at Tue Jun 22 13:35:10 UTC 2021\r\n",
      "#\r\n",
      "copy-feats --compress=true ark:- ark,scp:/kaggle/working/exp/nnet3_cleaned_out/ivectors_test-clean_hires/ivector_online.45.ark,/kaggle/working/exp/nnet3_cleaned_out/ivectors_test-clean_hires/ivector_online.45.scp \r\n",
      "ivector-extract-online2 --config=exp/nnet3_cleaned_out/ivectors_test-clean_hires/conf/ivector_extractor.conf ark:data/test-clean_hires/split87/45/spk2utt scp:data/test-clean_hires/split87/45/feats.scp ark:- \r\n",
      "LOG (ivector-extract-online2[5.5.0~1-2b62]:ComputeDerivedVars():ivector-extractor.cc:183) Computing derived variables for iVector extractor\r\n",
      "LOG (ivector-extract-online2[5.5.0~1-2b62]:ComputeDerivedVars():ivector-extractor.cc:204) Done.\r\n",
      "LOG (ivector-extract-online2[5.5.0~1-2b62]:main():ivector-extract-online2.cc:189) Estimated iVectors for 21 files, 0 with errors.\r\n",
      "LOG (ivector-extract-online2[5.5.0~1-2b62]:main():ivector-extract-online2.cc:191) Average objective-function improvement was 5.47823 per frame, over 14407 frames (weighted).\r\n",
      "LOG (ivector-extract-online2[5.5.0~1-2b62]:main():ivector-extract-online2.cc:194) Average iVector length was 8.09679 and at utterance-end was 8.50081, over 14407 frames (weighted);  expected length is 10\r\n",
      "LOG (copy-feats[5.5.0~1-2b62]:main():copy-feats.cc:143) Copied 21 feature matrices.\r\n",
      "# Accounting: time=1 threads=1\r\n",
      "# Ended (code 0) at Tue Jun 22 13:35:11 UTC 2021, elapsed time 1 seconds\r\n",
      "# ivector-extract-online2 --config=exp/nnet3_cleaned_out/ivectors_test-clean_hires/conf/ivector_extractor.conf ark:data/test-clean_hires/split87/46/spk2utt scp:data/test-clean_hires/split87/46/feats.scp ark:- | copy-feats --compress=true ark:- ark,scp:/kaggle/working/exp/nnet3_cleaned_out/ivectors_test-clean_hires/ivector_online.46.ark,/kaggle/working/exp/nnet3_cleaned_out/ivectors_test-clean_hires/ivector_online.46.scp \r\n",
      "# Started at Tue Jun 22 13:35:11 UTC 2021\r\n",
      "#\r\n",
      "copy-feats --compress=true ark:- ark,scp:/kaggle/working/exp/nnet3_cleaned_out/ivectors_test-clean_hires/ivector_online.46.ark,/kaggle/working/exp/nnet3_cleaned_out/ivectors_test-clean_hires/ivector_online.46.scp \r\n",
      "ivector-extract-online2 --config=exp/nnet3_cleaned_out/ivectors_test-clean_hires/conf/ivector_extractor.conf ark:data/test-clean_hires/split87/46/spk2utt scp:data/test-clean_hires/split87/46/feats.scp ark:- \r\n",
      "LOG (ivector-extract-online2[5.5.0~1-2b62]:ComputeDerivedVars():ivector-extractor.cc:183) Computing derived variables for iVector extractor\r\n",
      "LOG (ivector-extract-online2[5.5.0~1-2b62]:ComputeDerivedVars():ivector-extractor.cc:204) Done.\r\n",
      "LOG (ivector-extract-online2[5.5.0~1-2b62]:main():ivector-extract-online2.cc:189) Estimated iVectors for 23 files, 0 with errors.\r\n",
      "LOG (ivector-extract-online2[5.5.0~1-2b62]:main():ivector-extract-online2.cc:191) Average objective-function improvement was 6.65871 per frame, over 17544 frames (weighted).\r\n",
      "LOG (ivector-extract-online2[5.5.0~1-2b62]:main():ivector-extract-online2.cc:194) Average iVector length was 7.99525 and at utterance-end was 8.34437, over 17544 frames (weighted);  expected length is 10\r\n",
      "LOG (copy-feats[5.5.0~1-2b62]:main():copy-feats.cc:143) Copied 23 feature matrices.\r\n",
      "# Accounting: time=1 threads=1\r\n",
      "# Ended (code 0) at Tue Jun 22 13:35:12 UTC 2021, elapsed time 1 seconds\r\n",
      "# ivector-extract-online2 --config=exp/nnet3_cleaned_out/ivectors_test-clean_hires/conf/ivector_extractor.conf ark:data/test-clean_hires/split87/47/spk2utt scp:data/test-clean_hires/split87/47/feats.scp ark:- | copy-feats --compress=true ark:- ark,scp:/kaggle/working/exp/nnet3_cleaned_out/ivectors_test-clean_hires/ivector_online.47.ark,/kaggle/working/exp/nnet3_cleaned_out/ivectors_test-clean_hires/ivector_online.47.scp \r\n",
      "# Started at Tue Jun 22 13:35:11 UTC 2021\r\n",
      "#\r\n",
      "copy-feats --compress=true ark:- ark,scp:/kaggle/working/exp/nnet3_cleaned_out/ivectors_test-clean_hires/ivector_online.47.ark,/kaggle/working/exp/nnet3_cleaned_out/ivectors_test-clean_hires/ivector_online.47.scp \r\n",
      "ivector-extract-online2 --config=exp/nnet3_cleaned_out/ivectors_test-clean_hires/conf/ivector_extractor.conf ark:data/test-clean_hires/split87/47/spk2utt scp:data/test-clean_hires/split87/47/feats.scp ark:- \r\n",
      "LOG (ivector-extract-online2[5.5.0~1-2b62]:ComputeDerivedVars():ivector-extractor.cc:183) Computing derived variables for iVector extractor\r\n",
      "LOG (ivector-extract-online2[5.5.0~1-2b62]:ComputeDerivedVars():ivector-extractor.cc:204) Done.\r\n",
      "LOG (ivector-extract-online2[5.5.0~1-2b62]:main():ivector-extract-online2.cc:189) Estimated iVectors for 18 files, 0 with errors.\r\n",
      "LOG (ivector-extract-online2[5.5.0~1-2b62]:main():ivector-extract-online2.cc:191) Average objective-function improvement was 7.44811 per frame, over 17174 frames (weighted).\r\n",
      "LOG (ivector-extract-online2[5.5.0~1-2b62]:main():ivector-extract-online2.cc:194) Average iVector length was 7.86032 and at utterance-end was 8.21706, over 17174 frames (weighted);  expected length is 10\r\n",
      "LOG (copy-feats[5.5.0~1-2b62]:main():copy-feats.cc:143) Copied 18 feature matrices.\r\n",
      "# Accounting: time=1 threads=1\r\n",
      "# Ended (code 0) at Tue Jun 22 13:35:12 UTC 2021, elapsed time 1 seconds\r\n",
      "# ivector-extract-online2 --config=exp/nnet3_cleaned_out/ivectors_test-clean_hires/conf/ivector_extractor.conf ark:data/test-clean_hires/split87/48/spk2utt scp:data/test-clean_hires/split87/48/feats.scp ark:- | copy-feats --compress=true ark:- ark,scp:/kaggle/working/exp/nnet3_cleaned_out/ivectors_test-clean_hires/ivector_online.48.ark,/kaggle/working/exp/nnet3_cleaned_out/ivectors_test-clean_hires/ivector_online.48.scp \r\n",
      "# Started at Tue Jun 22 13:35:11 UTC 2021\r\n",
      "#\r\n",
      "copy-feats --compress=true ark:- ark,scp:/kaggle/working/exp/nnet3_cleaned_out/ivectors_test-clean_hires/ivector_online.48.ark,/kaggle/working/exp/nnet3_cleaned_out/ivectors_test-clean_hires/ivector_online.48.scp \r\n",
      "ivector-extract-online2 --config=exp/nnet3_cleaned_out/ivectors_test-clean_hires/conf/ivector_extractor.conf ark:data/test-clean_hires/split87/48/spk2utt scp:data/test-clean_hires/split87/48/feats.scp ark:- \r\n",
      "LOG (ivector-extract-online2[5.5.0~1-2b62]:ComputeDerivedVars():ivector-extractor.cc:183) Computing derived variables for iVector extractor\r\n",
      "LOG (ivector-extract-online2[5.5.0~1-2b62]:ComputeDerivedVars():ivector-extractor.cc:204) Done.\r\n",
      "LOG (ivector-extract-online2[5.5.0~1-2b62]:main():ivector-extract-online2.cc:189) Estimated iVectors for 11 files, 0 with errors.\r\n",
      "LOG (ivector-extract-online2[5.5.0~1-2b62]:main():ivector-extract-online2.cc:191) Average objective-function improvement was 7.01253 per frame, over 11859 frames (weighted).\r\n",
      "LOG (ivector-extract-online2[5.5.0~1-2b62]:main():ivector-extract-online2.cc:194) Average iVector length was 10.1045 and at utterance-end was 10.6535, over 11859 frames (weighted);  expected length is 10\r\n",
      "LOG (copy-feats[5.5.0~1-2b62]:main():copy-feats.cc:143) Copied 11 feature matrices.\r\n",
      "# Accounting: time=1 threads=1\r\n",
      "# Ended (code 0) at Tue Jun 22 13:35:12 UTC 2021, elapsed time 1 seconds\r\n",
      "# ivector-extract-online2 --config=exp/nnet3_cleaned_out/ivectors_test-clean_hires/conf/ivector_extractor.conf ark:data/test-clean_hires/split87/49/spk2utt scp:data/test-clean_hires/split87/49/feats.scp ark:- | copy-feats --compress=true ark:- ark,scp:/kaggle/working/exp/nnet3_cleaned_out/ivectors_test-clean_hires/ivector_online.49.ark,/kaggle/working/exp/nnet3_cleaned_out/ivectors_test-clean_hires/ivector_online.49.scp \r\n",
      "# Started at Tue Jun 22 13:35:11 UTC 2021\r\n",
      "#\r\n",
      "copy-feats --compress=true ark:- ark,scp:/kaggle/working/exp/nnet3_cleaned_out/ivectors_test-clean_hires/ivector_online.49.ark,/kaggle/working/exp/nnet3_cleaned_out/ivectors_test-clean_hires/ivector_online.49.scp \r\n",
      "ivector-extract-online2 --config=exp/nnet3_cleaned_out/ivectors_test-clean_hires/conf/ivector_extractor.conf ark:data/test-clean_hires/split87/49/spk2utt scp:data/test-clean_hires/split87/49/feats.scp ark:- \r\n",
      "LOG (ivector-extract-online2[5.5.0~1-2b62]:ComputeDerivedVars():ivector-extractor.cc:183) Computing derived variables for iVector extractor\r\n",
      "LOG (ivector-extract-online2[5.5.0~1-2b62]:ComputeDerivedVars():ivector-extractor.cc:204) Done.\r\n",
      "LOG (ivector-extract-online2[5.5.0~1-2b62]:main():ivector-extract-online2.cc:189) Estimated iVectors for 25 files, 0 with errors.\r\n",
      "LOG (ivector-extract-online2[5.5.0~1-2b62]:main():ivector-extract-online2.cc:191) Average objective-function improvement was 8.65464 per frame, over 17810 frames (weighted).\r\n",
      "LOG (ivector-extract-online2[5.5.0~1-2b62]:main():ivector-extract-online2.cc:194) Average iVector length was 6.45209 and at utterance-end was 6.68813, over 17810 frames (weighted);  expected length is 10\r\n",
      "LOG (copy-feats[5.5.0~1-2b62]:main():copy-feats.cc:143) Copied 25 feature matrices.\r\n",
      "# Accounting: time=2 threads=1\r\n",
      "# Ended (code 0) at Tue Jun 22 13:35:13 UTC 2021, elapsed time 2 seconds\r\n",
      "# ivector-extract-online2 --config=exp/nnet3_cleaned_out/ivectors_test-clean_hires/conf/ivector_extractor.conf ark:data/test-clean_hires/split87/5/spk2utt scp:data/test-clean_hires/split87/5/feats.scp ark:- | copy-feats --compress=true ark:- ark,scp:/kaggle/working/exp/nnet3_cleaned_out/ivectors_test-clean_hires/ivector_online.5.ark,/kaggle/working/exp/nnet3_cleaned_out/ivectors_test-clean_hires/ivector_online.5.scp \r\n",
      "# Started at Tue Jun 22 13:34:53 UTC 2021\r\n",
      "#\r\n",
      "copy-feats --compress=true ark:- ark,scp:/kaggle/working/exp/nnet3_cleaned_out/ivectors_test-clean_hires/ivector_online.5.ark,/kaggle/working/exp/nnet3_cleaned_out/ivectors_test-clean_hires/ivector_online.5.scp \r\n",
      "ivector-extract-online2 --config=exp/nnet3_cleaned_out/ivectors_test-clean_hires/conf/ivector_extractor.conf ark:data/test-clean_hires/split87/5/spk2utt scp:data/test-clean_hires/split87/5/feats.scp ark:- \r\n",
      "LOG (ivector-extract-online2[5.5.0~1-2b62]:ComputeDerivedVars():ivector-extractor.cc:183) Computing derived variables for iVector extractor\r\n",
      "LOG (ivector-extract-online2[5.5.0~1-2b62]:ComputeDerivedVars():ivector-extractor.cc:204) Done.\r\n",
      "LOG (ivector-extract-online2[5.5.0~1-2b62]:main():ivector-extract-online2.cc:189) Estimated iVectors for 5 files, 0 with errors.\r\n",
      "LOG (ivector-extract-online2[5.5.0~1-2b62]:main():ivector-extract-online2.cc:191) Average objective-function improvement was 12.726 per frame, over 7656 frames (weighted).\r\n",
      "LOG (ivector-extract-online2[5.5.0~1-2b62]:main():ivector-extract-online2.cc:194) Average iVector length was 8.5048 and at utterance-end was 9.10174, over 7656 frames (weighted);  expected length is 10\r\n",
      "LOG (copy-feats[5.5.0~1-2b62]:main():copy-feats.cc:143) Copied 5 feature matrices.\r\n",
      "# Accounting: time=1 threads=1\r\n",
      "# Ended (code 0) at Tue Jun 22 13:34:54 UTC 2021, elapsed time 1 seconds\r\n",
      "# ivector-extract-online2 --config=exp/nnet3_cleaned_out/ivectors_test-clean_hires/conf/ivector_extractor.conf ark:data/test-clean_hires/split87/50/spk2utt scp:data/test-clean_hires/split87/50/feats.scp ark:- | copy-feats --compress=true ark:- ark,scp:/kaggle/working/exp/nnet3_cleaned_out/ivectors_test-clean_hires/ivector_online.50.ark,/kaggle/working/exp/nnet3_cleaned_out/ivectors_test-clean_hires/ivector_online.50.scp \r\n",
      "# Started at Tue Jun 22 13:35:12 UTC 2021\r\n",
      "#\r\n",
      "copy-feats --compress=true ark:- ark,scp:/kaggle/working/exp/nnet3_cleaned_out/ivectors_test-clean_hires/ivector_online.50.ark,/kaggle/working/exp/nnet3_cleaned_out/ivectors_test-clean_hires/ivector_online.50.scp \r\n",
      "ivector-extract-online2 --config=exp/nnet3_cleaned_out/ivectors_test-clean_hires/conf/ivector_extractor.conf ark:data/test-clean_hires/split87/50/spk2utt scp:data/test-clean_hires/split87/50/feats.scp ark:- \r\n",
      "LOG (ivector-extract-online2[5.5.0~1-2b62]:ComputeDerivedVars():ivector-extractor.cc:183) Computing derived variables for iVector extractor\r\n",
      "LOG (ivector-extract-online2[5.5.0~1-2b62]:ComputeDerivedVars():ivector-extractor.cc:204) Done.\r\n",
      "LOG (ivector-extract-online2[5.5.0~1-2b62]:main():ivector-extract-online2.cc:189) Estimated iVectors for 20 files, 0 with errors.\r\n",
      "LOG (ivector-extract-online2[5.5.0~1-2b62]:main():ivector-extract-online2.cc:191) Average objective-function improvement was 5.14277 per frame, over 18977 frames (weighted).\r\n",
      "LOG (ivector-extract-online2[5.5.0~1-2b62]:main():ivector-extract-online2.cc:194) Average iVector length was 7.70423 and at utterance-end was 8.14517, over 18977 frames (weighted);  expected length is 10\r\n",
      "LOG (copy-feats[5.5.0~1-2b62]:main():copy-feats.cc:143) Copied 20 feature matrices.\r\n",
      "# Accounting: time=1 threads=1\r\n",
      "# Ended (code 0) at Tue Jun 22 13:35:13 UTC 2021, elapsed time 1 seconds\r\n",
      "# ivector-extract-online2 --config=exp/nnet3_cleaned_out/ivectors_test-clean_hires/conf/ivector_extractor.conf ark:data/test-clean_hires/split87/51/spk2utt scp:data/test-clean_hires/split87/51/feats.scp ark:- | copy-feats --compress=true ark:- ark,scp:/kaggle/working/exp/nnet3_cleaned_out/ivectors_test-clean_hires/ivector_online.51.ark,/kaggle/working/exp/nnet3_cleaned_out/ivectors_test-clean_hires/ivector_online.51.scp \r\n",
      "# Started at Tue Jun 22 13:35:12 UTC 2021\r\n",
      "#\r\n",
      "copy-feats --compress=true ark:- ark,scp:/kaggle/working/exp/nnet3_cleaned_out/ivectors_test-clean_hires/ivector_online.51.ark,/kaggle/working/exp/nnet3_cleaned_out/ivectors_test-clean_hires/ivector_online.51.scp \r\n",
      "ivector-extract-online2 --config=exp/nnet3_cleaned_out/ivectors_test-clean_hires/conf/ivector_extractor.conf ark:data/test-clean_hires/split87/51/spk2utt scp:data/test-clean_hires/split87/51/feats.scp ark:- \r\n",
      "LOG (ivector-extract-online2[5.5.0~1-2b62]:ComputeDerivedVars():ivector-extractor.cc:183) Computing derived variables for iVector extractor\r\n",
      "LOG (ivector-extract-online2[5.5.0~1-2b62]:ComputeDerivedVars():ivector-extractor.cc:204) Done.\r\n",
      "LOG (ivector-extract-online2[5.5.0~1-2b62]:main():ivector-extract-online2.cc:189) Estimated iVectors for 69 files, 0 with errors.\r\n",
      "LOG (ivector-extract-online2[5.5.0~1-2b62]:main():ivector-extract-online2.cc:191) Average objective-function improvement was 16.0101 per frame, over 26283 frames (weighted).\r\n",
      "LOG (ivector-extract-online2[5.5.0~1-2b62]:main():ivector-extract-online2.cc:194) Average iVector length was 8.33954 and at utterance-end was 8.55409, over 26283 frames (weighted);  expected length is 10\r\n",
      "LOG (copy-feats[5.5.0~1-2b62]:main():copy-feats.cc:143) Copied 69 feature matrices.\r\n",
      "# Accounting: time=2 threads=1\r\n",
      "# Ended (code 0) at Tue Jun 22 13:35:14 UTC 2021, elapsed time 2 seconds\r\n",
      "# ivector-extract-online2 --config=exp/nnet3_cleaned_out/ivectors_test-clean_hires/conf/ivector_extractor.conf ark:data/test-clean_hires/split87/52/spk2utt scp:data/test-clean_hires/split87/52/feats.scp ark:- | copy-feats --compress=true ark:- ark,scp:/kaggle/working/exp/nnet3_cleaned_out/ivectors_test-clean_hires/ivector_online.52.ark,/kaggle/working/exp/nnet3_cleaned_out/ivectors_test-clean_hires/ivector_online.52.scp \r\n",
      "# Started at Tue Jun 22 13:35:12 UTC 2021\r\n",
      "#\r\n",
      "copy-feats --compress=true ark:- ark,scp:/kaggle/working/exp/nnet3_cleaned_out/ivectors_test-clean_hires/ivector_online.52.ark,/kaggle/working/exp/nnet3_cleaned_out/ivectors_test-clean_hires/ivector_online.52.scp \r\n",
      "ivector-extract-online2 --config=exp/nnet3_cleaned_out/ivectors_test-clean_hires/conf/ivector_extractor.conf ark:data/test-clean_hires/split87/52/spk2utt scp:data/test-clean_hires/split87/52/feats.scp ark:- \r\n",
      "LOG (ivector-extract-online2[5.5.0~1-2b62]:ComputeDerivedVars():ivector-extractor.cc:183) Computing derived variables for iVector extractor\r\n",
      "LOG (ivector-extract-online2[5.5.0~1-2b62]:ComputeDerivedVars():ivector-extractor.cc:204) Done.\r\n",
      "LOG (ivector-extract-online2[5.5.0~1-2b62]:main():ivector-extract-online2.cc:189) Estimated iVectors for 26 files, 0 with errors.\r\n",
      "LOG (ivector-extract-online2[5.5.0~1-2b62]:main():ivector-extract-online2.cc:191) Average objective-function improvement was 15.8196 per frame, over 18024 frames (weighted).\r\n",
      "LOG (ivector-extract-online2[5.5.0~1-2b62]:main():ivector-extract-online2.cc:194) Average iVector length was 9.17671 and at utterance-end was 9.52597, over 18024 frames (weighted);  expected length is 10\r\n",
      "LOG (copy-feats[5.5.0~1-2b62]:main():copy-feats.cc:143) Copied 26 feature matrices.\r\n",
      "# Accounting: time=2 threads=1\r\n",
      "# Ended (code 0) at Tue Jun 22 13:35:14 UTC 2021, elapsed time 2 seconds\r\n",
      "# ivector-extract-online2 --config=exp/nnet3_cleaned_out/ivectors_test-clean_hires/conf/ivector_extractor.conf ark:data/test-clean_hires/split87/53/spk2utt scp:data/test-clean_hires/split87/53/feats.scp ark:- | copy-feats --compress=true ark:- ark,scp:/kaggle/working/exp/nnet3_cleaned_out/ivectors_test-clean_hires/ivector_online.53.ark,/kaggle/working/exp/nnet3_cleaned_out/ivectors_test-clean_hires/ivector_online.53.scp \r\n",
      "# Started at Tue Jun 22 13:35:13 UTC 2021\r\n",
      "#\r\n",
      "copy-feats --compress=true ark:- ark,scp:/kaggle/working/exp/nnet3_cleaned_out/ivectors_test-clean_hires/ivector_online.53.ark,/kaggle/working/exp/nnet3_cleaned_out/ivectors_test-clean_hires/ivector_online.53.scp \r\n",
      "ivector-extract-online2 --config=exp/nnet3_cleaned_out/ivectors_test-clean_hires/conf/ivector_extractor.conf ark:data/test-clean_hires/split87/53/spk2utt scp:data/test-clean_hires/split87/53/feats.scp ark:- \r\n",
      "LOG (ivector-extract-online2[5.5.0~1-2b62]:ComputeDerivedVars():ivector-extractor.cc:183) Computing derived variables for iVector extractor\r\n",
      "LOG (ivector-extract-online2[5.5.0~1-2b62]:ComputeDerivedVars():ivector-extractor.cc:204) Done.\r\n",
      "LOG (ivector-extract-online2[5.5.0~1-2b62]:main():ivector-extract-online2.cc:189) Estimated iVectors for 5 files, 0 with errors.\r\n",
      "LOG (ivector-extract-online2[5.5.0~1-2b62]:main():ivector-extract-online2.cc:191) Average objective-function improvement was 13.4419 per frame, over 1674 frames (weighted).\r\n",
      "LOG (ivector-extract-online2[5.5.0~1-2b62]:main():ivector-extract-online2.cc:194) Average iVector length was 8.16474 and at utterance-end was 8.89069, over 1674 frames (weighted);  expected length is 10\r\n",
      "LOG (copy-feats[5.5.0~1-2b62]:main():copy-feats.cc:143) Copied 5 feature matrices.\r\n",
      "# Accounting: time=0 threads=1\r\n",
      "# Ended (code 0) at Tue Jun 22 13:35:13 UTC 2021, elapsed time 0 seconds\r\n",
      "# ivector-extract-online2 --config=exp/nnet3_cleaned_out/ivectors_test-clean_hires/conf/ivector_extractor.conf ark:data/test-clean_hires/split87/54/spk2utt scp:data/test-clean_hires/split87/54/feats.scp ark:- | copy-feats --compress=true ark:- ark,scp:/kaggle/working/exp/nnet3_cleaned_out/ivectors_test-clean_hires/ivector_online.54.ark,/kaggle/working/exp/nnet3_cleaned_out/ivectors_test-clean_hires/ivector_online.54.scp \r\n",
      "# Started at Tue Jun 22 13:35:13 UTC 2021\r\n",
      "#\r\n",
      "copy-feats --compress=true ark:- ark,scp:/kaggle/working/exp/nnet3_cleaned_out/ivectors_test-clean_hires/ivector_online.54.ark,/kaggle/working/exp/nnet3_cleaned_out/ivectors_test-clean_hires/ivector_online.54.scp \r\n",
      "ivector-extract-online2 --config=exp/nnet3_cleaned_out/ivectors_test-clean_hires/conf/ivector_extractor.conf ark:data/test-clean_hires/split87/54/spk2utt scp:data/test-clean_hires/split87/54/feats.scp ark:- \r\n",
      "LOG (ivector-extract-online2[5.5.0~1-2b62]:ComputeDerivedVars():ivector-extractor.cc:183) Computing derived variables for iVector extractor\r\n",
      "LOG (ivector-extract-online2[5.5.0~1-2b62]:ComputeDerivedVars():ivector-extractor.cc:204) Done.\r\n",
      "LOG (ivector-extract-online2[5.5.0~1-2b62]:main():ivector-extract-online2.cc:189) Estimated iVectors for 2 files, 0 with errors.\r\n",
      "LOG (ivector-extract-online2[5.5.0~1-2b62]:main():ivector-extract-online2.cc:191) Average objective-function improvement was 17.5523 per frame, over 2268 frames (weighted).\r\n",
      "LOG (ivector-extract-online2[5.5.0~1-2b62]:main():ivector-extract-online2.cc:194) Average iVector length was 9.33613 and at utterance-end was 10.2036, over 2268 frames (weighted);  expected length is 10\r\n",
      "LOG (copy-feats[5.5.0~1-2b62]:main():copy-feats.cc:143) Copied 2 feature matrices.\r\n",
      "# Accounting: time=1 threads=1\r\n",
      "# Ended (code 0) at Tue Jun 22 13:35:14 UTC 2021, elapsed time 1 seconds\r\n",
      "# ivector-extract-online2 --config=exp/nnet3_cleaned_out/ivectors_test-clean_hires/conf/ivector_extractor.conf ark:data/test-clean_hires/split87/55/spk2utt scp:data/test-clean_hires/split87/55/feats.scp ark:- | copy-feats --compress=true ark:- ark,scp:/kaggle/working/exp/nnet3_cleaned_out/ivectors_test-clean_hires/ivector_online.55.ark,/kaggle/working/exp/nnet3_cleaned_out/ivectors_test-clean_hires/ivector_online.55.scp \r\n",
      "# Started at Tue Jun 22 13:35:13 UTC 2021\r\n",
      "#\r\n",
      "copy-feats --compress=true ark:- ark,scp:/kaggle/working/exp/nnet3_cleaned_out/ivectors_test-clean_hires/ivector_online.55.ark,/kaggle/working/exp/nnet3_cleaned_out/ivectors_test-clean_hires/ivector_online.55.scp \r\n",
      "ivector-extract-online2 --config=exp/nnet3_cleaned_out/ivectors_test-clean_hires/conf/ivector_extractor.conf ark:data/test-clean_hires/split87/55/spk2utt scp:data/test-clean_hires/split87/55/feats.scp ark:- \r\n",
      "LOG (ivector-extract-online2[5.5.0~1-2b62]:ComputeDerivedVars():ivector-extractor.cc:183) Computing derived variables for iVector extractor\r\n",
      "LOG (ivector-extract-online2[5.5.0~1-2b62]:ComputeDerivedVars():ivector-extractor.cc:204) Done.\r\n",
      "LOG (ivector-extract-online2[5.5.0~1-2b62]:main():ivector-extract-online2.cc:189) Estimated iVectors for 42 files, 0 with errors.\r\n",
      "LOG (ivector-extract-online2[5.5.0~1-2b62]:main():ivector-extract-online2.cc:191) Average objective-function improvement was 10.1877 per frame, over 49593 frames (weighted).\r\n",
      "LOG (ivector-extract-online2[5.5.0~1-2b62]:main():ivector-extract-online2.cc:194) Average iVector length was 8.73395 and at utterance-end was 9.10018, over 49593 frames (weighted);  expected length is 10\r\n",
      "LOG (copy-feats[5.5.0~1-2b62]:main():copy-feats.cc:143) Copied 42 feature matrices.\r\n",
      "# Accounting: time=4 threads=1\r\n",
      "# Ended (code 0) at Tue Jun 22 13:35:17 UTC 2021, elapsed time 4 seconds\r\n",
      "# ivector-extract-online2 --config=exp/nnet3_cleaned_out/ivectors_test-clean_hires/conf/ivector_extractor.conf ark:data/test-clean_hires/split87/56/spk2utt scp:data/test-clean_hires/split87/56/feats.scp ark:- | copy-feats --compress=true ark:- ark,scp:/kaggle/working/exp/nnet3_cleaned_out/ivectors_test-clean_hires/ivector_online.56.ark,/kaggle/working/exp/nnet3_cleaned_out/ivectors_test-clean_hires/ivector_online.56.scp \r\n",
      "# Started at Tue Jun 22 13:35:14 UTC 2021\r\n",
      "#\r\n",
      "copy-feats --compress=true ark:- ark,scp:/kaggle/working/exp/nnet3_cleaned_out/ivectors_test-clean_hires/ivector_online.56.ark,/kaggle/working/exp/nnet3_cleaned_out/ivectors_test-clean_hires/ivector_online.56.scp \r\n",
      "ivector-extract-online2 --config=exp/nnet3_cleaned_out/ivectors_test-clean_hires/conf/ivector_extractor.conf ark:data/test-clean_hires/split87/56/spk2utt scp:data/test-clean_hires/split87/56/feats.scp ark:- \r\n",
      "LOG (ivector-extract-online2[5.5.0~1-2b62]:ComputeDerivedVars():ivector-extractor.cc:183) Computing derived variables for iVector extractor\r\n",
      "LOG (ivector-extract-online2[5.5.0~1-2b62]:ComputeDerivedVars():ivector-extractor.cc:204) Done.\r\n",
      "LOG (ivector-extract-online2[5.5.0~1-2b62]:main():ivector-extract-online2.cc:189) Estimated iVectors for 18 files, 0 with errors.\r\n",
      "LOG (ivector-extract-online2[5.5.0~1-2b62]:main():ivector-extract-online2.cc:191) Average objective-function improvement was 7.93858 per frame, over 11022 frames (weighted).\r\n",
      "LOG (ivector-extract-online2[5.5.0~1-2b62]:main():ivector-extract-online2.cc:194) Average iVector length was 8.92123 and at utterance-end was 9.30304, over 11022 frames (weighted);  expected length is 10\r\n",
      "LOG (copy-feats[5.5.0~1-2b62]:main():copy-feats.cc:143) Copied 18 feature matrices.\r\n",
      "# Accounting: time=1 threads=1\r\n",
      "# Ended (code 0) at Tue Jun 22 13:35:15 UTC 2021, elapsed time 1 seconds\r\n",
      "# ivector-extract-online2 --config=exp/nnet3_cleaned_out/ivectors_test-clean_hires/conf/ivector_extractor.conf ark:data/test-clean_hires/split87/57/spk2utt scp:data/test-clean_hires/split87/57/feats.scp ark:- | copy-feats --compress=true ark:- ark,scp:/kaggle/working/exp/nnet3_cleaned_out/ivectors_test-clean_hires/ivector_online.57.ark,/kaggle/working/exp/nnet3_cleaned_out/ivectors_test-clean_hires/ivector_online.57.scp \r\n",
      "# Started at Tue Jun 22 13:35:14 UTC 2021\r\n",
      "#\r\n",
      "copy-feats --compress=true ark:- ark,scp:/kaggle/working/exp/nnet3_cleaned_out/ivectors_test-clean_hires/ivector_online.57.ark,/kaggle/working/exp/nnet3_cleaned_out/ivectors_test-clean_hires/ivector_online.57.scp \r\n",
      "ivector-extract-online2 --config=exp/nnet3_cleaned_out/ivectors_test-clean_hires/conf/ivector_extractor.conf ark:data/test-clean_hires/split87/57/spk2utt scp:data/test-clean_hires/split87/57/feats.scp ark:- \r\n",
      "LOG (ivector-extract-online2[5.5.0~1-2b62]:ComputeDerivedVars():ivector-extractor.cc:183) Computing derived variables for iVector extractor\r\n",
      "LOG (ivector-extract-online2[5.5.0~1-2b62]:ComputeDerivedVars():ivector-extractor.cc:204) Done.\r\n",
      "LOG (ivector-extract-online2[5.5.0~1-2b62]:main():ivector-extract-online2.cc:189) Estimated iVectors for 31 files, 0 with errors.\r\n",
      "LOG (ivector-extract-online2[5.5.0~1-2b62]:main():ivector-extract-online2.cc:191) Average objective-function improvement was 7.22943 per frame, over 18635 frames (weighted).\r\n",
      "LOG (ivector-extract-online2[5.5.0~1-2b62]:main():ivector-extract-online2.cc:194) Average iVector length was 10.5164 and at utterance-end was 10.952, over 18635 frames (weighted);  expected length is 10\r\n",
      "LOG (copy-feats[5.5.0~1-2b62]:main():copy-feats.cc:143) Copied 31 feature matrices.\r\n",
      "# Accounting: time=1 threads=1\r\n",
      "# Ended (code 0) at Tue Jun 22 13:35:15 UTC 2021, elapsed time 1 seconds\r\n",
      "# ivector-extract-online2 --config=exp/nnet3_cleaned_out/ivectors_test-clean_hires/conf/ivector_extractor.conf ark:data/test-clean_hires/split87/58/spk2utt scp:data/test-clean_hires/split87/58/feats.scp ark:- | copy-feats --compress=true ark:- ark,scp:/kaggle/working/exp/nnet3_cleaned_out/ivectors_test-clean_hires/ivector_online.58.ark,/kaggle/working/exp/nnet3_cleaned_out/ivectors_test-clean_hires/ivector_online.58.scp \r\n",
      "# Started at Tue Jun 22 13:35:14 UTC 2021\r\n",
      "#\r\n",
      "copy-feats --compress=true ark:- ark,scp:/kaggle/working/exp/nnet3_cleaned_out/ivectors_test-clean_hires/ivector_online.58.ark,/kaggle/working/exp/nnet3_cleaned_out/ivectors_test-clean_hires/ivector_online.58.scp \r\n",
      "ivector-extract-online2 --config=exp/nnet3_cleaned_out/ivectors_test-clean_hires/conf/ivector_extractor.conf ark:data/test-clean_hires/split87/58/spk2utt scp:data/test-clean_hires/split87/58/feats.scp ark:- \r\n",
      "LOG (ivector-extract-online2[5.5.0~1-2b62]:ComputeDerivedVars():ivector-extractor.cc:183) Computing derived variables for iVector extractor\r\n",
      "LOG (ivector-extract-online2[5.5.0~1-2b62]:ComputeDerivedVars():ivector-extractor.cc:204) Done.\r\n",
      "LOG (ivector-extract-online2[5.5.0~1-2b62]:main():ivector-extract-online2.cc:189) Estimated iVectors for 26 files, 0 with errors.\r\n",
      "LOG (ivector-extract-online2[5.5.0~1-2b62]:main():ivector-extract-online2.cc:191) Average objective-function improvement was 9.57331 per frame, over 18261 frames (weighted).\r\n",
      "LOG (ivector-extract-online2[5.5.0~1-2b62]:main():ivector-extract-online2.cc:194) Average iVector length was 9.25835 and at utterance-end was 9.63141, over 18261 frames (weighted);  expected length is 10\r\n",
      "LOG (copy-feats[5.5.0~1-2b62]:main():copy-feats.cc:143) Copied 26 feature matrices.\r\n",
      "# Accounting: time=1 threads=1\r\n",
      "# Ended (code 0) at Tue Jun 22 13:35:15 UTC 2021, elapsed time 1 seconds\r\n",
      "# ivector-extract-online2 --config=exp/nnet3_cleaned_out/ivectors_test-clean_hires/conf/ivector_extractor.conf ark:data/test-clean_hires/split87/59/spk2utt scp:data/test-clean_hires/split87/59/feats.scp ark:- | copy-feats --compress=true ark:- ark,scp:/kaggle/working/exp/nnet3_cleaned_out/ivectors_test-clean_hires/ivector_online.59.ark,/kaggle/working/exp/nnet3_cleaned_out/ivectors_test-clean_hires/ivector_online.59.scp \r\n",
      "# Started at Tue Jun 22 13:35:15 UTC 2021\r\n",
      "#\r\n",
      "copy-feats --compress=true ark:- ark,scp:/kaggle/working/exp/nnet3_cleaned_out/ivectors_test-clean_hires/ivector_online.59.ark,/kaggle/working/exp/nnet3_cleaned_out/ivectors_test-clean_hires/ivector_online.59.scp \r\n",
      "ivector-extract-online2 --config=exp/nnet3_cleaned_out/ivectors_test-clean_hires/conf/ivector_extractor.conf ark:data/test-clean_hires/split87/59/spk2utt scp:data/test-clean_hires/split87/59/feats.scp ark:- \r\n",
      "LOG (ivector-extract-online2[5.5.0~1-2b62]:ComputeDerivedVars():ivector-extractor.cc:183) Computing derived variables for iVector extractor\r\n",
      "LOG (ivector-extract-online2[5.5.0~1-2b62]:ComputeDerivedVars():ivector-extractor.cc:204) Done.\r\n",
      "LOG (ivector-extract-online2[5.5.0~1-2b62]:main():ivector-extract-online2.cc:189) Estimated iVectors for 63 files, 0 with errors.\r\n",
      "LOG (ivector-extract-online2[5.5.0~1-2b62]:main():ivector-extract-online2.cc:191) Average objective-function improvement was 10.1734 per frame, over 27989 frames (weighted).\r\n",
      "LOG (ivector-extract-online2[5.5.0~1-2b62]:main():ivector-extract-online2.cc:194) Average iVector length was 7.05109 and at utterance-end was 7.29612, over 27989 frames (weighted);  expected length is 10\r\n",
      "LOG (copy-feats[5.5.0~1-2b62]:main():copy-feats.cc:143) Copied 63 feature matrices.\r\n",
      "# Accounting: time=2 threads=1\r\n",
      "# Ended (code 0) at Tue Jun 22 13:35:17 UTC 2021, elapsed time 2 seconds\r\n",
      "# ivector-extract-online2 --config=exp/nnet3_cleaned_out/ivectors_test-clean_hires/conf/ivector_extractor.conf ark:data/test-clean_hires/split87/6/spk2utt scp:data/test-clean_hires/split87/6/feats.scp ark:- | copy-feats --compress=true ark:- ark,scp:/kaggle/working/exp/nnet3_cleaned_out/ivectors_test-clean_hires/ivector_online.6.ark,/kaggle/working/exp/nnet3_cleaned_out/ivectors_test-clean_hires/ivector_online.6.scp \r\n",
      "# Started at Tue Jun 22 13:34:53 UTC 2021\r\n",
      "#\r\n",
      "copy-feats --compress=true ark:- ark,scp:/kaggle/working/exp/nnet3_cleaned_out/ivectors_test-clean_hires/ivector_online.6.ark,/kaggle/working/exp/nnet3_cleaned_out/ivectors_test-clean_hires/ivector_online.6.scp \r\n",
      "ivector-extract-online2 --config=exp/nnet3_cleaned_out/ivectors_test-clean_hires/conf/ivector_extractor.conf ark:data/test-clean_hires/split87/6/spk2utt scp:data/test-clean_hires/split87/6/feats.scp ark:- \r\n",
      "LOG (ivector-extract-online2[5.5.0~1-2b62]:ComputeDerivedVars():ivector-extractor.cc:183) Computing derived variables for iVector extractor\r\n",
      "LOG (ivector-extract-online2[5.5.0~1-2b62]:ComputeDerivedVars():ivector-extractor.cc:204) Done.\r\n",
      "LOG (ivector-extract-online2[5.5.0~1-2b62]:main():ivector-extract-online2.cc:189) Estimated iVectors for 5 files, 0 with errors.\r\n",
      "LOG (ivector-extract-online2[5.5.0~1-2b62]:main():ivector-extract-online2.cc:191) Average objective-function improvement was 12.2996 per frame, over 9307 frames (weighted).\r\n",
      "LOG (ivector-extract-online2[5.5.0~1-2b62]:main():ivector-extract-online2.cc:194) Average iVector length was 8.28035 and at utterance-end was 8.75159, over 9307 frames (weighted);  expected length is 10\r\n",
      "LOG (copy-feats[5.5.0~1-2b62]:main():copy-feats.cc:143) Copied 5 feature matrices.\r\n",
      "# Accounting: time=1 threads=1\r\n",
      "# Ended (code 0) at Tue Jun 22 13:34:54 UTC 2021, elapsed time 1 seconds\r\n",
      "# ivector-extract-online2 --config=exp/nnet3_cleaned_out/ivectors_test-clean_hires/conf/ivector_extractor.conf ark:data/test-clean_hires/split87/60/spk2utt scp:data/test-clean_hires/split87/60/feats.scp ark:- | copy-feats --compress=true ark:- ark,scp:/kaggle/working/exp/nnet3_cleaned_out/ivectors_test-clean_hires/ivector_online.60.ark,/kaggle/working/exp/nnet3_cleaned_out/ivectors_test-clean_hires/ivector_online.60.scp \r\n",
      "# Started at Tue Jun 22 13:35:15 UTC 2021\r\n",
      "#\r\n",
      "copy-feats --compress=true ark:- ark,scp:/kaggle/working/exp/nnet3_cleaned_out/ivectors_test-clean_hires/ivector_online.60.ark,/kaggle/working/exp/nnet3_cleaned_out/ivectors_test-clean_hires/ivector_online.60.scp \r\n",
      "ivector-extract-online2 --config=exp/nnet3_cleaned_out/ivectors_test-clean_hires/conf/ivector_extractor.conf ark:data/test-clean_hires/split87/60/spk2utt scp:data/test-clean_hires/split87/60/feats.scp ark:- \r\n",
      "LOG (ivector-extract-online2[5.5.0~1-2b62]:ComputeDerivedVars():ivector-extractor.cc:183) Computing derived variables for iVector extractor\r\n",
      "LOG (ivector-extract-online2[5.5.0~1-2b62]:ComputeDerivedVars():ivector-extractor.cc:204) Done.\r\n",
      "LOG (ivector-extract-online2[5.5.0~1-2b62]:main():ivector-extract-online2.cc:189) Estimated iVectors for 41 files, 0 with errors.\r\n",
      "LOG (ivector-extract-online2[5.5.0~1-2b62]:main():ivector-extract-online2.cc:191) Average objective-function improvement was 11.7145 per frame, over 20290 frames (weighted).\r\n",
      "LOG (ivector-extract-online2[5.5.0~1-2b62]:main():ivector-extract-online2.cc:194) Average iVector length was 7.17898 and at utterance-end was 7.43114, over 20290 frames (weighted);  expected length is 10\r\n",
      "LOG (copy-feats[5.5.0~1-2b62]:main():copy-feats.cc:143) Copied 41 feature matrices.\r\n",
      "# Accounting: time=2 threads=1\r\n",
      "# Ended (code 0) at Tue Jun 22 13:35:17 UTC 2021, elapsed time 2 seconds\r\n",
      "# ivector-extract-online2 --config=exp/nnet3_cleaned_out/ivectors_test-clean_hires/conf/ivector_extractor.conf ark:data/test-clean_hires/split87/61/spk2utt scp:data/test-clean_hires/split87/61/feats.scp ark:- | copy-feats --compress=true ark:- ark,scp:/kaggle/working/exp/nnet3_cleaned_out/ivectors_test-clean_hires/ivector_online.61.ark,/kaggle/working/exp/nnet3_cleaned_out/ivectors_test-clean_hires/ivector_online.61.scp \r\n",
      "# Started at Tue Jun 22 13:35:15 UTC 2021\r\n",
      "#\r\n",
      "copy-feats --compress=true ark:- ark,scp:/kaggle/working/exp/nnet3_cleaned_out/ivectors_test-clean_hires/ivector_online.61.ark,/kaggle/working/exp/nnet3_cleaned_out/ivectors_test-clean_hires/ivector_online.61.scp \r\n",
      "ivector-extract-online2 --config=exp/nnet3_cleaned_out/ivectors_test-clean_hires/conf/ivector_extractor.conf ark:data/test-clean_hires/split87/61/spk2utt scp:data/test-clean_hires/split87/61/feats.scp ark:- \r\n",
      "LOG (ivector-extract-online2[5.5.0~1-2b62]:ComputeDerivedVars():ivector-extractor.cc:183) Computing derived variables for iVector extractor\r\n",
      "LOG (ivector-extract-online2[5.5.0~1-2b62]:ComputeDerivedVars():ivector-extractor.cc:204) Done.\r\n",
      "LOG (ivector-extract-online2[5.5.0~1-2b62]:main():ivector-extract-online2.cc:189) Estimated iVectors for 75 files, 0 with errors.\r\n",
      "LOG (ivector-extract-online2[5.5.0~1-2b62]:main():ivector-extract-online2.cc:191) Average objective-function improvement was 11.063 per frame, over 49480 frames (weighted).\r\n",
      "LOG (ivector-extract-online2[5.5.0~1-2b62]:main():ivector-extract-online2.cc:194) Average iVector length was 9.91368 and at utterance-end was 10.26, over 49480 frames (weighted);  expected length is 10\r\n",
      "LOG (copy-feats[5.5.0~1-2b62]:main():copy-feats.cc:143) Copied 75 feature matrices.\r\n",
      "# Accounting: time=3 threads=1\r\n",
      "# Ended (code 0) at Tue Jun 22 13:35:18 UTC 2021, elapsed time 3 seconds\r\n",
      "# ivector-extract-online2 --config=exp/nnet3_cleaned_out/ivectors_test-clean_hires/conf/ivector_extractor.conf ark:data/test-clean_hires/split87/62/spk2utt scp:data/test-clean_hires/split87/62/feats.scp ark:- | copy-feats --compress=true ark:- ark,scp:/kaggle/working/exp/nnet3_cleaned_out/ivectors_test-clean_hires/ivector_online.62.ark,/kaggle/working/exp/nnet3_cleaned_out/ivectors_test-clean_hires/ivector_online.62.scp \r\n",
      "# Started at Tue Jun 22 13:35:17 UTC 2021\r\n",
      "#\r\n",
      "copy-feats --compress=true ark:- ark,scp:/kaggle/working/exp/nnet3_cleaned_out/ivectors_test-clean_hires/ivector_online.62.ark,/kaggle/working/exp/nnet3_cleaned_out/ivectors_test-clean_hires/ivector_online.62.scp \r\n",
      "ivector-extract-online2 --config=exp/nnet3_cleaned_out/ivectors_test-clean_hires/conf/ivector_extractor.conf ark:data/test-clean_hires/split87/62/spk2utt scp:data/test-clean_hires/split87/62/feats.scp ark:- \r\n",
      "LOG (ivector-extract-online2[5.5.0~1-2b62]:ComputeDerivedVars():ivector-extractor.cc:183) Computing derived variables for iVector extractor\r\n",
      "LOG (ivector-extract-online2[5.5.0~1-2b62]:ComputeDerivedVars():ivector-extractor.cc:204) Done.\r\n",
      "LOG (ivector-extract-online2[5.5.0~1-2b62]:main():ivector-extract-online2.cc:189) Estimated iVectors for 54 files, 0 with errors.\r\n",
      "LOG (ivector-extract-online2[5.5.0~1-2b62]:main():ivector-extract-online2.cc:191) Average objective-function improvement was 6.24893 per frame, over 24689 frames (weighted).\r\n",
      "LOG (ivector-extract-online2[5.5.0~1-2b62]:main():ivector-extract-online2.cc:194) Average iVector length was 7.55207 and at utterance-end was 7.78495, over 24689 frames (weighted);  expected length is 10\r\n",
      "LOG (copy-feats[5.5.0~1-2b62]:main():copy-feats.cc:143) Copied 54 feature matrices.\r\n",
      "# Accounting: time=1 threads=1\r\n",
      "# Ended (code 0) at Tue Jun 22 13:35:18 UTC 2021, elapsed time 1 seconds\r\n",
      "# ivector-extract-online2 --config=exp/nnet3_cleaned_out/ivectors_test-clean_hires/conf/ivector_extractor.conf ark:data/test-clean_hires/split87/63/spk2utt scp:data/test-clean_hires/split87/63/feats.scp ark:- | copy-feats --compress=true ark:- ark,scp:/kaggle/working/exp/nnet3_cleaned_out/ivectors_test-clean_hires/ivector_online.63.ark,/kaggle/working/exp/nnet3_cleaned_out/ivectors_test-clean_hires/ivector_online.63.scp \r\n",
      "# Started at Tue Jun 22 13:35:17 UTC 2021\r\n",
      "#\r\n",
      "copy-feats --compress=true ark:- ark,scp:/kaggle/working/exp/nnet3_cleaned_out/ivectors_test-clean_hires/ivector_online.63.ark,/kaggle/working/exp/nnet3_cleaned_out/ivectors_test-clean_hires/ivector_online.63.scp \r\n",
      "ivector-extract-online2 --config=exp/nnet3_cleaned_out/ivectors_test-clean_hires/conf/ivector_extractor.conf ark:data/test-clean_hires/split87/63/spk2utt scp:data/test-clean_hires/split87/63/feats.scp ark:- \r\n",
      "LOG (ivector-extract-online2[5.5.0~1-2b62]:ComputeDerivedVars():ivector-extractor.cc:183) Computing derived variables for iVector extractor\r\n",
      "LOG (ivector-extract-online2[5.5.0~1-2b62]:ComputeDerivedVars():ivector-extractor.cc:204) Done.\r\n",
      "LOG (ivector-extract-online2[5.5.0~1-2b62]:main():ivector-extract-online2.cc:189) Estimated iVectors for 37 files, 0 with errors.\r\n",
      "LOG (ivector-extract-online2[5.5.0~1-2b62]:main():ivector-extract-online2.cc:191) Average objective-function improvement was 8.48081 per frame, over 24601 frames (weighted).\r\n",
      "LOG (ivector-extract-online2[5.5.0~1-2b62]:main():ivector-extract-online2.cc:194) Average iVector length was 7.56446 and at utterance-end was 7.87387, over 24601 frames (weighted);  expected length is 10\r\n",
      "LOG (copy-feats[5.5.0~1-2b62]:main():copy-feats.cc:143) Copied 37 feature matrices.\r\n",
      "# Accounting: time=2 threads=1\r\n",
      "# Ended (code 0) at Tue Jun 22 13:35:19 UTC 2021, elapsed time 2 seconds\r\n",
      "# ivector-extract-online2 --config=exp/nnet3_cleaned_out/ivectors_test-clean_hires/conf/ivector_extractor.conf ark:data/test-clean_hires/split87/64/spk2utt scp:data/test-clean_hires/split87/64/feats.scp ark:- | copy-feats --compress=true ark:- ark,scp:/kaggle/working/exp/nnet3_cleaned_out/ivectors_test-clean_hires/ivector_online.64.ark,/kaggle/working/exp/nnet3_cleaned_out/ivectors_test-clean_hires/ivector_online.64.scp \r\n",
      "# Started at Tue Jun 22 13:35:17 UTC 2021\r\n",
      "#\r\n",
      "copy-feats --compress=true ark:- ark,scp:/kaggle/working/exp/nnet3_cleaned_out/ivectors_test-clean_hires/ivector_online.64.ark,/kaggle/working/exp/nnet3_cleaned_out/ivectors_test-clean_hires/ivector_online.64.scp \r\n",
      "ivector-extract-online2 --config=exp/nnet3_cleaned_out/ivectors_test-clean_hires/conf/ivector_extractor.conf ark:data/test-clean_hires/split87/64/spk2utt scp:data/test-clean_hires/split87/64/feats.scp ark:- \r\n",
      "LOG (ivector-extract-online2[5.5.0~1-2b62]:ComputeDerivedVars():ivector-extractor.cc:183) Computing derived variables for iVector extractor\r\n",
      "LOG (ivector-extract-online2[5.5.0~1-2b62]:ComputeDerivedVars():ivector-extractor.cc:204) Done.\r\n",
      "LOG (ivector-extract-online2[5.5.0~1-2b62]:main():ivector-extract-online2.cc:189) Estimated iVectors for 21 files, 0 with errors.\r\n",
      "LOG (ivector-extract-online2[5.5.0~1-2b62]:main():ivector-extract-online2.cc:191) Average objective-function improvement was 14.2679 per frame, over 17852 frames (weighted).\r\n",
      "LOG (ivector-extract-online2[5.5.0~1-2b62]:main():ivector-extract-online2.cc:194) Average iVector length was 9.04872 and at utterance-end was 9.49419, over 17852 frames (weighted);  expected length is 10\r\n",
      "LOG (copy-feats[5.5.0~1-2b62]:main():copy-feats.cc:143) Copied 21 feature matrices.\r\n",
      "# Accounting: time=1 threads=1\r\n",
      "# Ended (code 0) at Tue Jun 22 13:35:18 UTC 2021, elapsed time 1 seconds\r\n",
      "# ivector-extract-online2 --config=exp/nnet3_cleaned_out/ivectors_test-clean_hires/conf/ivector_extractor.conf ark:data/test-clean_hires/split87/65/spk2utt scp:data/test-clean_hires/split87/65/feats.scp ark:- | copy-feats --compress=true ark:- ark,scp:/kaggle/working/exp/nnet3_cleaned_out/ivectors_test-clean_hires/ivector_online.65.ark,/kaggle/working/exp/nnet3_cleaned_out/ivectors_test-clean_hires/ivector_online.65.scp \r\n",
      "# Started at Tue Jun 22 13:35:18 UTC 2021\r\n",
      "#\r\n",
      "copy-feats --compress=true ark:- ark,scp:/kaggle/working/exp/nnet3_cleaned_out/ivectors_test-clean_hires/ivector_online.65.ark,/kaggle/working/exp/nnet3_cleaned_out/ivectors_test-clean_hires/ivector_online.65.scp \r\n",
      "ivector-extract-online2 --config=exp/nnet3_cleaned_out/ivectors_test-clean_hires/conf/ivector_extractor.conf ark:data/test-clean_hires/split87/65/spk2utt scp:data/test-clean_hires/split87/65/feats.scp ark:- \r\n",
      "LOG (ivector-extract-online2[5.5.0~1-2b62]:ComputeDerivedVars():ivector-extractor.cc:183) Computing derived variables for iVector extractor\r\n",
      "LOG (ivector-extract-online2[5.5.0~1-2b62]:ComputeDerivedVars():ivector-extractor.cc:204) Done.\r\n",
      "LOG (ivector-extract-online2[5.5.0~1-2b62]:main():ivector-extract-online2.cc:189) Estimated iVectors for 29 files, 0 with errors.\r\n",
      "LOG (ivector-extract-online2[5.5.0~1-2b62]:main():ivector-extract-online2.cc:191) Average objective-function improvement was 12.875 per frame, over 14888 frames (weighted).\r\n",
      "LOG (ivector-extract-online2[5.5.0~1-2b62]:main():ivector-extract-online2.cc:194) Average iVector length was 8.34151 and at utterance-end was 8.62143, over 14888 frames (weighted);  expected length is 10\r\n",
      "LOG (copy-feats[5.5.0~1-2b62]:main():copy-feats.cc:143) Copied 29 feature matrices.\r\n",
      "# Accounting: time=2 threads=1\r\n",
      "# Ended (code 0) at Tue Jun 22 13:35:20 UTC 2021, elapsed time 2 seconds\r\n",
      "# ivector-extract-online2 --config=exp/nnet3_cleaned_out/ivectors_test-clean_hires/conf/ivector_extractor.conf ark:data/test-clean_hires/split87/66/spk2utt scp:data/test-clean_hires/split87/66/feats.scp ark:- | copy-feats --compress=true ark:- ark,scp:/kaggle/working/exp/nnet3_cleaned_out/ivectors_test-clean_hires/ivector_online.66.ark,/kaggle/working/exp/nnet3_cleaned_out/ivectors_test-clean_hires/ivector_online.66.scp \r\n",
      "# Started at Tue Jun 22 13:35:18 UTC 2021\r\n",
      "#\r\n",
      "copy-feats --compress=true ark:- ark,scp:/kaggle/working/exp/nnet3_cleaned_out/ivectors_test-clean_hires/ivector_online.66.ark,/kaggle/working/exp/nnet3_cleaned_out/ivectors_test-clean_hires/ivector_online.66.scp \r\n",
      "ivector-extract-online2 --config=exp/nnet3_cleaned_out/ivectors_test-clean_hires/conf/ivector_extractor.conf ark:data/test-clean_hires/split87/66/spk2utt scp:data/test-clean_hires/split87/66/feats.scp ark:- \r\n",
      "LOG (ivector-extract-online2[5.5.0~1-2b62]:ComputeDerivedVars():ivector-extractor.cc:183) Computing derived variables for iVector extractor\r\n",
      "LOG (ivector-extract-online2[5.5.0~1-2b62]:ComputeDerivedVars():ivector-extractor.cc:204) Done.\r\n",
      "LOG (ivector-extract-online2[5.5.0~1-2b62]:main():ivector-extract-online2.cc:189) Estimated iVectors for 28 files, 0 with errors.\r\n",
      "LOG (ivector-extract-online2[5.5.0~1-2b62]:main():ivector-extract-online2.cc:191) Average objective-function improvement was 15.9982 per frame, over 15129 frames (weighted).\r\n",
      "LOG (ivector-extract-online2[5.5.0~1-2b62]:main():ivector-extract-online2.cc:194) Average iVector length was 9.47301 and at utterance-end was 9.84816, over 15129 frames (weighted);  expected length is 10\r\n",
      "LOG (copy-feats[5.5.0~1-2b62]:main():copy-feats.cc:143) Copied 28 feature matrices.\r\n",
      "# Accounting: time=2 threads=1\r\n",
      "# Ended (code 0) at Tue Jun 22 13:35:20 UTC 2021, elapsed time 2 seconds\r\n",
      "# ivector-extract-online2 --config=exp/nnet3_cleaned_out/ivectors_test-clean_hires/conf/ivector_extractor.conf ark:data/test-clean_hires/split87/67/spk2utt scp:data/test-clean_hires/split87/67/feats.scp ark:- | copy-feats --compress=true ark:- ark,scp:/kaggle/working/exp/nnet3_cleaned_out/ivectors_test-clean_hires/ivector_online.67.ark,/kaggle/working/exp/nnet3_cleaned_out/ivectors_test-clean_hires/ivector_online.67.scp \r\n",
      "# Started at Tue Jun 22 13:35:18 UTC 2021\r\n",
      "#\r\n",
      "copy-feats --compress=true ark:- ark,scp:/kaggle/working/exp/nnet3_cleaned_out/ivectors_test-clean_hires/ivector_online.67.ark,/kaggle/working/exp/nnet3_cleaned_out/ivectors_test-clean_hires/ivector_online.67.scp \r\n",
      "ivector-extract-online2 --config=exp/nnet3_cleaned_out/ivectors_test-clean_hires/conf/ivector_extractor.conf ark:data/test-clean_hires/split87/67/spk2utt scp:data/test-clean_hires/split87/67/feats.scp ark:- \r\n",
      "LOG (ivector-extract-online2[5.5.0~1-2b62]:ComputeDerivedVars():ivector-extractor.cc:183) Computing derived variables for iVector extractor\r\n",
      "LOG (ivector-extract-online2[5.5.0~1-2b62]:ComputeDerivedVars():ivector-extractor.cc:204) Done.\r\n",
      "LOG (ivector-extract-online2[5.5.0~1-2b62]:main():ivector-extract-online2.cc:189) Estimated iVectors for 10 files, 0 with errors.\r\n",
      "LOG (ivector-extract-online2[5.5.0~1-2b62]:main():ivector-extract-online2.cc:191) Average objective-function improvement was 8.13054 per frame, over 12342 frames (weighted).\r\n",
      "LOG (ivector-extract-online2[5.5.0~1-2b62]:main():ivector-extract-online2.cc:194) Average iVector length was 7.76514 and at utterance-end was 8.19012, over 12342 frames (weighted);  expected length is 10\r\n",
      "LOG (copy-feats[5.5.0~1-2b62]:main():copy-feats.cc:143) Copied 10 feature matrices.\r\n",
      "# Accounting: time=1 threads=1\r\n",
      "# Ended (code 0) at Tue Jun 22 13:35:20 UTC 2021, elapsed time 1 seconds\r\n",
      "# ivector-extract-online2 --config=exp/nnet3_cleaned_out/ivectors_test-clean_hires/conf/ivector_extractor.conf ark:data/test-clean_hires/split87/68/spk2utt scp:data/test-clean_hires/split87/68/feats.scp ark:- | copy-feats --compress=true ark:- ark,scp:/kaggle/working/exp/nnet3_cleaned_out/ivectors_test-clean_hires/ivector_online.68.ark,/kaggle/working/exp/nnet3_cleaned_out/ivectors_test-clean_hires/ivector_online.68.scp \r\n",
      "# Started at Tue Jun 22 13:35:19 UTC 2021\r\n",
      "#\r\n",
      "copy-feats --compress=true ark:- ark,scp:/kaggle/working/exp/nnet3_cleaned_out/ivectors_test-clean_hires/ivector_online.68.ark,/kaggle/working/exp/nnet3_cleaned_out/ivectors_test-clean_hires/ivector_online.68.scp \r\n",
      "ivector-extract-online2 --config=exp/nnet3_cleaned_out/ivectors_test-clean_hires/conf/ivector_extractor.conf ark:data/test-clean_hires/split87/68/spk2utt scp:data/test-clean_hires/split87/68/feats.scp ark:- \r\n",
      "LOG (ivector-extract-online2[5.5.0~1-2b62]:ComputeDerivedVars():ivector-extractor.cc:183) Computing derived variables for iVector extractor\r\n",
      "LOG (ivector-extract-online2[5.5.0~1-2b62]:ComputeDerivedVars():ivector-extractor.cc:204) Done.\r\n",
      "LOG (ivector-extract-online2[5.5.0~1-2b62]:main():ivector-extract-online2.cc:189) Estimated iVectors for 15 files, 0 with errors.\r\n",
      "LOG (ivector-extract-online2[5.5.0~1-2b62]:main():ivector-extract-online2.cc:191) Average objective-function improvement was 11.3223 per frame, over 12181 frames (weighted).\r\n",
      "LOG (ivector-extract-online2[5.5.0~1-2b62]:main():ivector-extract-online2.cc:194) Average iVector length was 8.86867 and at utterance-end was 9.3414, over 12181 frames (weighted);  expected length is 10\r\n",
      "LOG (copy-feats[5.5.0~1-2b62]:main():copy-feats.cc:143) Copied 15 feature matrices.\r\n",
      "# Accounting: time=1 threads=1\r\n",
      "# Ended (code 0) at Tue Jun 22 13:35:20 UTC 2021, elapsed time 1 seconds\r\n",
      "# ivector-extract-online2 --config=exp/nnet3_cleaned_out/ivectors_test-clean_hires/conf/ivector_extractor.conf ark:data/test-clean_hires/split87/69/spk2utt scp:data/test-clean_hires/split87/69/feats.scp ark:- | copy-feats --compress=true ark:- ark,scp:/kaggle/working/exp/nnet3_cleaned_out/ivectors_test-clean_hires/ivector_online.69.ark,/kaggle/working/exp/nnet3_cleaned_out/ivectors_test-clean_hires/ivector_online.69.scp \r\n",
      "# Started at Tue Jun 22 13:35:20 UTC 2021\r\n",
      "#\r\n",
      "copy-feats --compress=true ark:- ark,scp:/kaggle/working/exp/nnet3_cleaned_out/ivectors_test-clean_hires/ivector_online.69.ark,/kaggle/working/exp/nnet3_cleaned_out/ivectors_test-clean_hires/ivector_online.69.scp \r\n",
      "ivector-extract-online2 --config=exp/nnet3_cleaned_out/ivectors_test-clean_hires/conf/ivector_extractor.conf ark:data/test-clean_hires/split87/69/spk2utt scp:data/test-clean_hires/split87/69/feats.scp ark:- \r\n",
      "LOG (ivector-extract-online2[5.5.0~1-2b62]:ComputeDerivedVars():ivector-extractor.cc:183) Computing derived variables for iVector extractor\r\n",
      "LOG (ivector-extract-online2[5.5.0~1-2b62]:ComputeDerivedVars():ivector-extractor.cc:204) Done.\r\n",
      "LOG (ivector-extract-online2[5.5.0~1-2b62]:main():ivector-extract-online2.cc:189) Estimated iVectors for 6 files, 0 with errors.\r\n",
      "LOG (ivector-extract-online2[5.5.0~1-2b62]:main():ivector-extract-online2.cc:191) Average objective-function improvement was 12.7675 per frame, over 5450 frames (weighted).\r\n",
      "LOG (ivector-extract-online2[5.5.0~1-2b62]:main():ivector-extract-online2.cc:194) Average iVector length was 9.13268 and at utterance-end was 9.66446, over 5450 frames (weighted);  expected length is 10\r\n",
      "LOG (copy-feats[5.5.0~1-2b62]:main():copy-feats.cc:143) Copied 6 feature matrices.\r\n",
      "# Accounting: time=0 threads=1\r\n",
      "# Ended (code 0) at Tue Jun 22 13:35:20 UTC 2021, elapsed time 0 seconds\r\n",
      "# ivector-extract-online2 --config=exp/nnet3_cleaned_out/ivectors_test-clean_hires/conf/ivector_extractor.conf ark:data/test-clean_hires/split87/7/spk2utt scp:data/test-clean_hires/split87/7/feats.scp ark:- | copy-feats --compress=true ark:- ark,scp:/kaggle/working/exp/nnet3_cleaned_out/ivectors_test-clean_hires/ivector_online.7.ark,/kaggle/working/exp/nnet3_cleaned_out/ivectors_test-clean_hires/ivector_online.7.scp \r\n",
      "# Started at Tue Jun 22 13:34:54 UTC 2021\r\n",
      "#\r\n",
      "copy-feats --compress=true ark:- ark,scp:/kaggle/working/exp/nnet3_cleaned_out/ivectors_test-clean_hires/ivector_online.7.ark,/kaggle/working/exp/nnet3_cleaned_out/ivectors_test-clean_hires/ivector_online.7.scp \r\n",
      "ivector-extract-online2 --config=exp/nnet3_cleaned_out/ivectors_test-clean_hires/conf/ivector_extractor.conf ark:data/test-clean_hires/split87/7/spk2utt scp:data/test-clean_hires/split87/7/feats.scp ark:- \r\n",
      "LOG (ivector-extract-online2[5.5.0~1-2b62]:ComputeDerivedVars():ivector-extractor.cc:183) Computing derived variables for iVector extractor\r\n",
      "LOG (ivector-extract-online2[5.5.0~1-2b62]:ComputeDerivedVars():ivector-extractor.cc:204) Done.\r\n",
      "LOG (ivector-extract-online2[5.5.0~1-2b62]:main():ivector-extract-online2.cc:189) Estimated iVectors for 37 files, 0 with errors.\r\n",
      "LOG (ivector-extract-online2[5.5.0~1-2b62]:main():ivector-extract-online2.cc:191) Average objective-function improvement was 9.77408 per frame, over 23103 frames (weighted).\r\n",
      "LOG (ivector-extract-online2[5.5.0~1-2b62]:main():ivector-extract-online2.cc:194) Average iVector length was 7.70795 and at utterance-end was 8.00277, over 23103 frames (weighted);  expected length is 10\r\n",
      "LOG (copy-feats[5.5.0~1-2b62]:main():copy-feats.cc:143) Copied 37 feature matrices.\r\n",
      "# Accounting: time=1 threads=1\r\n",
      "# Ended (code 0) at Tue Jun 22 13:34:55 UTC 2021, elapsed time 1 seconds\r\n",
      "# ivector-extract-online2 --config=exp/nnet3_cleaned_out/ivectors_test-clean_hires/conf/ivector_extractor.conf ark:data/test-clean_hires/split87/70/spk2utt scp:data/test-clean_hires/split87/70/feats.scp ark:- | copy-feats --compress=true ark:- ark,scp:/kaggle/working/exp/nnet3_cleaned_out/ivectors_test-clean_hires/ivector_online.70.ark,/kaggle/working/exp/nnet3_cleaned_out/ivectors_test-clean_hires/ivector_online.70.scp \r\n",
      "# Started at Tue Jun 22 13:35:20 UTC 2021\r\n",
      "#\r\n",
      "copy-feats --compress=true ark:- ark,scp:/kaggle/working/exp/nnet3_cleaned_out/ivectors_test-clean_hires/ivector_online.70.ark,/kaggle/working/exp/nnet3_cleaned_out/ivectors_test-clean_hires/ivector_online.70.scp \r\n",
      "ivector-extract-online2 --config=exp/nnet3_cleaned_out/ivectors_test-clean_hires/conf/ivector_extractor.conf ark:data/test-clean_hires/split87/70/spk2utt scp:data/test-clean_hires/split87/70/feats.scp ark:- \r\n",
      "LOG (ivector-extract-online2[5.5.0~1-2b62]:ComputeDerivedVars():ivector-extractor.cc:183) Computing derived variables for iVector extractor\r\n",
      "LOG (ivector-extract-online2[5.5.0~1-2b62]:ComputeDerivedVars():ivector-extractor.cc:204) Done.\r\n",
      "LOG (ivector-extract-online2[5.5.0~1-2b62]:main():ivector-extract-online2.cc:189) Estimated iVectors for 28 files, 0 with errors.\r\n",
      "LOG (ivector-extract-online2[5.5.0~1-2b62]:main():ivector-extract-online2.cc:191) Average objective-function improvement was 10.3854 per frame, over 18774 frames (weighted).\r\n",
      "LOG (ivector-extract-online2[5.5.0~1-2b62]:main():ivector-extract-online2.cc:194) Average iVector length was 7.86584 and at utterance-end was 8.2418, over 18774 frames (weighted);  expected length is 10\r\n",
      "LOG (copy-feats[5.5.0~1-2b62]:main():copy-feats.cc:143) Copied 28 feature matrices.\r\n",
      "# Accounting: time=1 threads=1\r\n",
      "# Ended (code 0) at Tue Jun 22 13:35:21 UTC 2021, elapsed time 1 seconds\r\n",
      "# ivector-extract-online2 --config=exp/nnet3_cleaned_out/ivectors_test-clean_hires/conf/ivector_extractor.conf ark:data/test-clean_hires/split87/71/spk2utt scp:data/test-clean_hires/split87/71/feats.scp ark:- | copy-feats --compress=true ark:- ark,scp:/kaggle/working/exp/nnet3_cleaned_out/ivectors_test-clean_hires/ivector_online.71.ark,/kaggle/working/exp/nnet3_cleaned_out/ivectors_test-clean_hires/ivector_online.71.scp \r\n",
      "# Started at Tue Jun 22 13:35:20 UTC 2021\r\n",
      "#\r\n",
      "copy-feats --compress=true ark:- ark,scp:/kaggle/working/exp/nnet3_cleaned_out/ivectors_test-clean_hires/ivector_online.71.ark,/kaggle/working/exp/nnet3_cleaned_out/ivectors_test-clean_hires/ivector_online.71.scp \r\n",
      "ivector-extract-online2 --config=exp/nnet3_cleaned_out/ivectors_test-clean_hires/conf/ivector_extractor.conf ark:data/test-clean_hires/split87/71/spk2utt scp:data/test-clean_hires/split87/71/feats.scp ark:- \r\n",
      "LOG (ivector-extract-online2[5.5.0~1-2b62]:ComputeDerivedVars():ivector-extractor.cc:183) Computing derived variables for iVector extractor\r\n",
      "LOG (ivector-extract-online2[5.5.0~1-2b62]:ComputeDerivedVars():ivector-extractor.cc:204) Done.\r\n",
      "LOG (ivector-extract-online2[5.5.0~1-2b62]:main():ivector-extract-online2.cc:189) Estimated iVectors for 30 files, 0 with errors.\r\n",
      "LOG (ivector-extract-online2[5.5.0~1-2b62]:main():ivector-extract-online2.cc:191) Average objective-function improvement was 5.86845 per frame, over 23519 frames (weighted).\r\n",
      "LOG (ivector-extract-online2[5.5.0~1-2b62]:main():ivector-extract-online2.cc:194) Average iVector length was 7.74738 and at utterance-end was 8.12816, over 23519 frames (weighted);  expected length is 10\r\n",
      "LOG (copy-feats[5.5.0~1-2b62]:main():copy-feats.cc:143) Copied 30 feature matrices.\r\n",
      "# Accounting: time=1 threads=1\r\n",
      "# Ended (code 0) at Tue Jun 22 13:35:21 UTC 2021, elapsed time 1 seconds\r\n",
      "# ivector-extract-online2 --config=exp/nnet3_cleaned_out/ivectors_test-clean_hires/conf/ivector_extractor.conf ark:data/test-clean_hires/split87/72/spk2utt scp:data/test-clean_hires/split87/72/feats.scp ark:- | copy-feats --compress=true ark:- ark,scp:/kaggle/working/exp/nnet3_cleaned_out/ivectors_test-clean_hires/ivector_online.72.ark,/kaggle/working/exp/nnet3_cleaned_out/ivectors_test-clean_hires/ivector_online.72.scp \r\n",
      "# Started at Tue Jun 22 13:35:20 UTC 2021\r\n",
      "#\r\n",
      "copy-feats --compress=true ark:- ark,scp:/kaggle/working/exp/nnet3_cleaned_out/ivectors_test-clean_hires/ivector_online.72.ark,/kaggle/working/exp/nnet3_cleaned_out/ivectors_test-clean_hires/ivector_online.72.scp \r\n",
      "ivector-extract-online2 --config=exp/nnet3_cleaned_out/ivectors_test-clean_hires/conf/ivector_extractor.conf ark:data/test-clean_hires/split87/72/spk2utt scp:data/test-clean_hires/split87/72/feats.scp ark:- \r\n",
      "LOG (ivector-extract-online2[5.5.0~1-2b62]:ComputeDerivedVars():ivector-extractor.cc:183) Computing derived variables for iVector extractor\r\n",
      "LOG (ivector-extract-online2[5.5.0~1-2b62]:ComputeDerivedVars():ivector-extractor.cc:204) Done.\r\n",
      "LOG (ivector-extract-online2[5.5.0~1-2b62]:main():ivector-extract-online2.cc:189) Estimated iVectors for 41 files, 0 with errors.\r\n",
      "LOG (ivector-extract-online2[5.5.0~1-2b62]:main():ivector-extract-online2.cc:191) Average objective-function improvement was 6.38231 per frame, over 26253 frames (weighted).\r\n",
      "LOG (ivector-extract-online2[5.5.0~1-2b62]:main():ivector-extract-online2.cc:194) Average iVector length was 7.83391 and at utterance-end was 8.18758, over 26253 frames (weighted);  expected length is 10\r\n",
      "LOG (copy-feats[5.5.0~1-2b62]:main():copy-feats.cc:143) Copied 41 feature matrices.\r\n",
      "# Accounting: time=2 threads=1\r\n",
      "# Ended (code 0) at Tue Jun 22 13:35:22 UTC 2021, elapsed time 2 seconds\r\n",
      "# ivector-extract-online2 --config=exp/nnet3_cleaned_out/ivectors_test-clean_hires/conf/ivector_extractor.conf ark:data/test-clean_hires/split87/73/spk2utt scp:data/test-clean_hires/split87/73/feats.scp ark:- | copy-feats --compress=true ark:- ark,scp:/kaggle/working/exp/nnet3_cleaned_out/ivectors_test-clean_hires/ivector_online.73.ark,/kaggle/working/exp/nnet3_cleaned_out/ivectors_test-clean_hires/ivector_online.73.scp \r\n",
      "# Started at Tue Jun 22 13:35:20 UTC 2021\r\n",
      "#\r\n",
      "copy-feats --compress=true ark:- ark,scp:/kaggle/working/exp/nnet3_cleaned_out/ivectors_test-clean_hires/ivector_online.73.ark,/kaggle/working/exp/nnet3_cleaned_out/ivectors_test-clean_hires/ivector_online.73.scp \r\n",
      "ivector-extract-online2 --config=exp/nnet3_cleaned_out/ivectors_test-clean_hires/conf/ivector_extractor.conf ark:data/test-clean_hires/split87/73/spk2utt scp:data/test-clean_hires/split87/73/feats.scp ark:- \r\n",
      "LOG (ivector-extract-online2[5.5.0~1-2b62]:ComputeDerivedVars():ivector-extractor.cc:183) Computing derived variables for iVector extractor\r\n",
      "LOG (ivector-extract-online2[5.5.0~1-2b62]:ComputeDerivedVars():ivector-extractor.cc:204) Done.\r\n",
      "LOG (ivector-extract-online2[5.5.0~1-2b62]:main():ivector-extract-online2.cc:189) Estimated iVectors for 28 files, 0 with errors.\r\n",
      "LOG (ivector-extract-online2[5.5.0~1-2b62]:main():ivector-extract-online2.cc:191) Average objective-function improvement was 8.82546 per frame, over 20307 frames (weighted).\r\n",
      "LOG (ivector-extract-online2[5.5.0~1-2b62]:main():ivector-extract-online2.cc:194) Average iVector length was 7.77773 and at utterance-end was 8.20828, over 20307 frames (weighted);  expected length is 10\r\n",
      "LOG (copy-feats[5.5.0~1-2b62]:main():copy-feats.cc:143) Copied 28 feature matrices.\r\n",
      "# Accounting: time=2 threads=1\r\n",
      "# Ended (code 0) at Tue Jun 22 13:35:22 UTC 2021, elapsed time 2 seconds\r\n",
      "# ivector-extract-online2 --config=exp/nnet3_cleaned_out/ivectors_test-clean_hires/conf/ivector_extractor.conf ark:data/test-clean_hires/split87/74/spk2utt scp:data/test-clean_hires/split87/74/feats.scp ark:- | copy-feats --compress=true ark:- ark,scp:/kaggle/working/exp/nnet3_cleaned_out/ivectors_test-clean_hires/ivector_online.74.ark,/kaggle/working/exp/nnet3_cleaned_out/ivectors_test-clean_hires/ivector_online.74.scp \r\n",
      "# Started at Tue Jun 22 13:35:21 UTC 2021\r\n",
      "#\r\n",
      "copy-feats --compress=true ark:- ark,scp:/kaggle/working/exp/nnet3_cleaned_out/ivectors_test-clean_hires/ivector_online.74.ark,/kaggle/working/exp/nnet3_cleaned_out/ivectors_test-clean_hires/ivector_online.74.scp \r\n",
      "ivector-extract-online2 --config=exp/nnet3_cleaned_out/ivectors_test-clean_hires/conf/ivector_extractor.conf ark:data/test-clean_hires/split87/74/spk2utt scp:data/test-clean_hires/split87/74/feats.scp ark:- \r\n",
      "LOG (ivector-extract-online2[5.5.0~1-2b62]:ComputeDerivedVars():ivector-extractor.cc:183) Computing derived variables for iVector extractor\r\n",
      "LOG (ivector-extract-online2[5.5.0~1-2b62]:ComputeDerivedVars():ivector-extractor.cc:204) Done.\r\n",
      "LOG (ivector-extract-online2[5.5.0~1-2b62]:main():ivector-extract-online2.cc:189) Estimated iVectors for 46 files, 0 with errors.\r\n",
      "LOG (ivector-extract-online2[5.5.0~1-2b62]:main():ivector-extract-online2.cc:191) Average objective-function improvement was 8.43167 per frame, over 27906 frames (weighted).\r\n",
      "LOG (ivector-extract-online2[5.5.0~1-2b62]:main():ivector-extract-online2.cc:194) Average iVector length was 7.51414 and at utterance-end was 7.84368, over 27906 frames (weighted);  expected length is 10\r\n",
      "LOG (copy-feats[5.5.0~1-2b62]:main():copy-feats.cc:143) Copied 46 feature matrices.\r\n",
      "# Accounting: time=2 threads=1\r\n",
      "# Ended (code 0) at Tue Jun 22 13:35:23 UTC 2021, elapsed time 2 seconds\r\n",
      "# ivector-extract-online2 --config=exp/nnet3_cleaned_out/ivectors_test-clean_hires/conf/ivector_extractor.conf ark:data/test-clean_hires/split87/75/spk2utt scp:data/test-clean_hires/split87/75/feats.scp ark:- | copy-feats --compress=true ark:- ark,scp:/kaggle/working/exp/nnet3_cleaned_out/ivectors_test-clean_hires/ivector_online.75.ark,/kaggle/working/exp/nnet3_cleaned_out/ivectors_test-clean_hires/ivector_online.75.scp \r\n",
      "# Started at Tue Jun 22 13:35:21 UTC 2021\r\n",
      "#\r\n",
      "copy-feats --compress=true ark:- ark,scp:/kaggle/working/exp/nnet3_cleaned_out/ivectors_test-clean_hires/ivector_online.75.ark,/kaggle/working/exp/nnet3_cleaned_out/ivectors_test-clean_hires/ivector_online.75.scp \r\n",
      "ivector-extract-online2 --config=exp/nnet3_cleaned_out/ivectors_test-clean_hires/conf/ivector_extractor.conf ark:data/test-clean_hires/split87/75/spk2utt scp:data/test-clean_hires/split87/75/feats.scp ark:- \r\n",
      "LOG (ivector-extract-online2[5.5.0~1-2b62]:ComputeDerivedVars():ivector-extractor.cc:183) Computing derived variables for iVector extractor\r\n",
      "LOG (ivector-extract-online2[5.5.0~1-2b62]:ComputeDerivedVars():ivector-extractor.cc:204) Done.\r\n",
      "LOG (ivector-extract-online2[5.5.0~1-2b62]:main():ivector-extract-online2.cc:189) Estimated iVectors for 47 files, 0 with errors.\r\n",
      "LOG (ivector-extract-online2[5.5.0~1-2b62]:main():ivector-extract-online2.cc:191) Average objective-function improvement was 8.09057 per frame, over 48912 frames (weighted).\r\n",
      "LOG (ivector-extract-online2[5.5.0~1-2b62]:main():ivector-extract-online2.cc:194) Average iVector length was 8.90306 and at utterance-end was 9.30405, over 48912 frames (weighted);  expected length is 10\r\n",
      "LOG (copy-feats[5.5.0~1-2b62]:main():copy-feats.cc:143) Copied 47 feature matrices.\r\n",
      "# Accounting: time=3 threads=1\r\n",
      "# Ended (code 0) at Tue Jun 22 13:35:24 UTC 2021, elapsed time 3 seconds\r\n",
      "# ivector-extract-online2 --config=exp/nnet3_cleaned_out/ivectors_test-clean_hires/conf/ivector_extractor.conf ark:data/test-clean_hires/split87/76/spk2utt scp:data/test-clean_hires/split87/76/feats.scp ark:- | copy-feats --compress=true ark:- ark,scp:/kaggle/working/exp/nnet3_cleaned_out/ivectors_test-clean_hires/ivector_online.76.ark,/kaggle/working/exp/nnet3_cleaned_out/ivectors_test-clean_hires/ivector_online.76.scp \r\n",
      "# Started at Tue Jun 22 13:35:22 UTC 2021\r\n",
      "#\r\n",
      "copy-feats --compress=true ark:- ark,scp:/kaggle/working/exp/nnet3_cleaned_out/ivectors_test-clean_hires/ivector_online.76.ark,/kaggle/working/exp/nnet3_cleaned_out/ivectors_test-clean_hires/ivector_online.76.scp \r\n",
      "ivector-extract-online2 --config=exp/nnet3_cleaned_out/ivectors_test-clean_hires/conf/ivector_extractor.conf ark:data/test-clean_hires/split87/76/spk2utt scp:data/test-clean_hires/split87/76/feats.scp ark:- \r\n",
      "LOG (ivector-extract-online2[5.5.0~1-2b62]:ComputeDerivedVars():ivector-extractor.cc:183) Computing derived variables for iVector extractor\r\n",
      "LOG (ivector-extract-online2[5.5.0~1-2b62]:ComputeDerivedVars():ivector-extractor.cc:204) Done.\r\n",
      "LOG (ivector-extract-online2[5.5.0~1-2b62]:main():ivector-extract-online2.cc:189) Estimated iVectors for 18 files, 0 with errors.\r\n",
      "LOG (ivector-extract-online2[5.5.0~1-2b62]:main():ivector-extract-online2.cc:191) Average objective-function improvement was 10.9567 per frame, over 33084 frames (weighted).\r\n",
      "LOG (ivector-extract-online2[5.5.0~1-2b62]:main():ivector-extract-online2.cc:194) Average iVector length was 9.05467 and at utterance-end was 9.60428, over 33084 frames (weighted);  expected length is 10\r\n",
      "LOG (copy-feats[5.5.0~1-2b62]:main():copy-feats.cc:143) Copied 18 feature matrices.\r\n",
      "# Accounting: time=2 threads=1\r\n",
      "# Ended (code 0) at Tue Jun 22 13:35:24 UTC 2021, elapsed time 2 seconds\r\n",
      "# ivector-extract-online2 --config=exp/nnet3_cleaned_out/ivectors_test-clean_hires/conf/ivector_extractor.conf ark:data/test-clean_hires/split87/77/spk2utt scp:data/test-clean_hires/split87/77/feats.scp ark:- | copy-feats --compress=true ark:- ark,scp:/kaggle/working/exp/nnet3_cleaned_out/ivectors_test-clean_hires/ivector_online.77.ark,/kaggle/working/exp/nnet3_cleaned_out/ivectors_test-clean_hires/ivector_online.77.scp \r\n",
      "# Started at Tue Jun 22 13:35:22 UTC 2021\r\n",
      "#\r\n",
      "copy-feats --compress=true ark:- ark,scp:/kaggle/working/exp/nnet3_cleaned_out/ivectors_test-clean_hires/ivector_online.77.ark,/kaggle/working/exp/nnet3_cleaned_out/ivectors_test-clean_hires/ivector_online.77.scp \r\n",
      "ivector-extract-online2 --config=exp/nnet3_cleaned_out/ivectors_test-clean_hires/conf/ivector_extractor.conf ark:data/test-clean_hires/split87/77/spk2utt scp:data/test-clean_hires/split87/77/feats.scp ark:- \r\n",
      "LOG (ivector-extract-online2[5.5.0~1-2b62]:ComputeDerivedVars():ivector-extractor.cc:183) Computing derived variables for iVector extractor\r\n",
      "LOG (ivector-extract-online2[5.5.0~1-2b62]:ComputeDerivedVars():ivector-extractor.cc:204) Done.\r\n",
      "LOG (ivector-extract-online2[5.5.0~1-2b62]:main():ivector-extract-online2.cc:189) Estimated iVectors for 14 files, 0 with errors.\r\n",
      "LOG (ivector-extract-online2[5.5.0~1-2b62]:main():ivector-extract-online2.cc:191) Average objective-function improvement was 7.29488 per frame, over 16314 frames (weighted).\r\n",
      "LOG (ivector-extract-online2[5.5.0~1-2b62]:main():ivector-extract-online2.cc:194) Average iVector length was 8.9757 and at utterance-end was 9.45876, over 16314 frames (weighted);  expected length is 10\r\n",
      "LOG (copy-feats[5.5.0~1-2b62]:main():copy-feats.cc:143) Copied 14 feature matrices.\r\n",
      "# Accounting: time=1 threads=1\r\n",
      "# Ended (code 0) at Tue Jun 22 13:35:23 UTC 2021, elapsed time 1 seconds\r\n",
      "# ivector-extract-online2 --config=exp/nnet3_cleaned_out/ivectors_test-clean_hires/conf/ivector_extractor.conf ark:data/test-clean_hires/split87/78/spk2utt scp:data/test-clean_hires/split87/78/feats.scp ark:- | copy-feats --compress=true ark:- ark,scp:/kaggle/working/exp/nnet3_cleaned_out/ivectors_test-clean_hires/ivector_online.78.ark,/kaggle/working/exp/nnet3_cleaned_out/ivectors_test-clean_hires/ivector_online.78.scp \r\n",
      "# Started at Tue Jun 22 13:35:23 UTC 2021\r\n",
      "#\r\n",
      "copy-feats --compress=true ark:- ark,scp:/kaggle/working/exp/nnet3_cleaned_out/ivectors_test-clean_hires/ivector_online.78.ark,/kaggle/working/exp/nnet3_cleaned_out/ivectors_test-clean_hires/ivector_online.78.scp \r\n",
      "ivector-extract-online2 --config=exp/nnet3_cleaned_out/ivectors_test-clean_hires/conf/ivector_extractor.conf ark:data/test-clean_hires/split87/78/spk2utt scp:data/test-clean_hires/split87/78/feats.scp ark:- \r\n",
      "LOG (ivector-extract-online2[5.5.0~1-2b62]:ComputeDerivedVars():ivector-extractor.cc:183) Computing derived variables for iVector extractor\r\n",
      "LOG (ivector-extract-online2[5.5.0~1-2b62]:ComputeDerivedVars():ivector-extractor.cc:204) Done.\r\n",
      "LOG (ivector-extract-online2[5.5.0~1-2b62]:main():ivector-extract-online2.cc:189) Estimated iVectors for 44 files, 0 with errors.\r\n",
      "LOG (ivector-extract-online2[5.5.0~1-2b62]:main():ivector-extract-online2.cc:191) Average objective-function improvement was 7.33477 per frame, over 49400 frames (weighted).\r\n",
      "LOG (ivector-extract-online2[5.5.0~1-2b62]:main():ivector-extract-online2.cc:194) Average iVector length was 6.98011 and at utterance-end was 7.38626, over 49400 frames (weighted);  expected length is 10\r\n",
      "LOG (copy-feats[5.5.0~1-2b62]:main():copy-feats.cc:143) Copied 44 feature matrices.\r\n",
      "# Accounting: time=3 threads=1\r\n",
      "# Ended (code 0) at Tue Jun 22 13:35:26 UTC 2021, elapsed time 3 seconds\r\n",
      "# ivector-extract-online2 --config=exp/nnet3_cleaned_out/ivectors_test-clean_hires/conf/ivector_extractor.conf ark:data/test-clean_hires/split87/79/spk2utt scp:data/test-clean_hires/split87/79/feats.scp ark:- | copy-feats --compress=true ark:- ark,scp:/kaggle/working/exp/nnet3_cleaned_out/ivectors_test-clean_hires/ivector_online.79.ark,/kaggle/working/exp/nnet3_cleaned_out/ivectors_test-clean_hires/ivector_online.79.scp \r\n",
      "# Started at Tue Jun 22 13:35:23 UTC 2021\r\n",
      "#\r\n",
      "copy-feats --compress=true ark:- ark,scp:/kaggle/working/exp/nnet3_cleaned_out/ivectors_test-clean_hires/ivector_online.79.ark,/kaggle/working/exp/nnet3_cleaned_out/ivectors_test-clean_hires/ivector_online.79.scp \r\n",
      "ivector-extract-online2 --config=exp/nnet3_cleaned_out/ivectors_test-clean_hires/conf/ivector_extractor.conf ark:data/test-clean_hires/split87/79/spk2utt scp:data/test-clean_hires/split87/79/feats.scp ark:- \r\n",
      "LOG (ivector-extract-online2[5.5.0~1-2b62]:ComputeDerivedVars():ivector-extractor.cc:183) Computing derived variables for iVector extractor\r\n",
      "LOG (ivector-extract-online2[5.5.0~1-2b62]:ComputeDerivedVars():ivector-extractor.cc:204) Done.\r\n",
      "LOG (ivector-extract-online2[5.5.0~1-2b62]:main():ivector-extract-online2.cc:189) Estimated iVectors for 71 files, 0 with errors.\r\n",
      "LOG (ivector-extract-online2[5.5.0~1-2b62]:main():ivector-extract-online2.cc:191) Average objective-function improvement was 11.129 per frame, over 48059 frames (weighted).\r\n",
      "LOG (ivector-extract-online2[5.5.0~1-2b62]:main():ivector-extract-online2.cc:194) Average iVector length was 7.99896 and at utterance-end was 8.23051, over 48059 frames (weighted);  expected length is 10\r\n",
      "LOG (copy-feats[5.5.0~1-2b62]:main():copy-feats.cc:143) Copied 71 feature matrices.\r\n",
      "# Accounting: time=3 threads=1\r\n",
      "# Ended (code 0) at Tue Jun 22 13:35:26 UTC 2021, elapsed time 3 seconds\r\n",
      "# ivector-extract-online2 --config=exp/nnet3_cleaned_out/ivectors_test-clean_hires/conf/ivector_extractor.conf ark:data/test-clean_hires/split87/8/spk2utt scp:data/test-clean_hires/split87/8/feats.scp ark:- | copy-feats --compress=true ark:- ark,scp:/kaggle/working/exp/nnet3_cleaned_out/ivectors_test-clean_hires/ivector_online.8.ark,/kaggle/working/exp/nnet3_cleaned_out/ivectors_test-clean_hires/ivector_online.8.scp \r\n",
      "# Started at Tue Jun 22 13:34:54 UTC 2021\r\n",
      "#\r\n",
      "copy-feats --compress=true ark:- ark,scp:/kaggle/working/exp/nnet3_cleaned_out/ivectors_test-clean_hires/ivector_online.8.ark,/kaggle/working/exp/nnet3_cleaned_out/ivectors_test-clean_hires/ivector_online.8.scp \r\n",
      "ivector-extract-online2 --config=exp/nnet3_cleaned_out/ivectors_test-clean_hires/conf/ivector_extractor.conf ark:data/test-clean_hires/split87/8/spk2utt scp:data/test-clean_hires/split87/8/feats.scp ark:- \r\n",
      "LOG (ivector-extract-online2[5.5.0~1-2b62]:ComputeDerivedVars():ivector-extractor.cc:183) Computing derived variables for iVector extractor\r\n",
      "LOG (ivector-extract-online2[5.5.0~1-2b62]:ComputeDerivedVars():ivector-extractor.cc:204) Done.\r\n",
      "LOG (ivector-extract-online2[5.5.0~1-2b62]:main():ivector-extract-online2.cc:189) Estimated iVectors for 16 files, 0 with errors.\r\n",
      "LOG (ivector-extract-online2[5.5.0~1-2b62]:main():ivector-extract-online2.cc:191) Average objective-function improvement was 11.9315 per frame, over 17632 frames (weighted).\r\n",
      "LOG (ivector-extract-online2[5.5.0~1-2b62]:main():ivector-extract-online2.cc:194) Average iVector length was 6.82817 and at utterance-end was 7.1018, over 17632 frames (weighted);  expected length is 10\r\n",
      "LOG (copy-feats[5.5.0~1-2b62]:main():copy-feats.cc:143) Copied 16 feature matrices.\r\n",
      "# Accounting: time=1 threads=1\r\n",
      "# Ended (code 0) at Tue Jun 22 13:34:55 UTC 2021, elapsed time 1 seconds\r\n",
      "# ivector-extract-online2 --config=exp/nnet3_cleaned_out/ivectors_test-clean_hires/conf/ivector_extractor.conf ark:data/test-clean_hires/split87/80/spk2utt scp:data/test-clean_hires/split87/80/feats.scp ark:- | copy-feats --compress=true ark:- ark,scp:/kaggle/working/exp/nnet3_cleaned_out/ivectors_test-clean_hires/ivector_online.80.ark,/kaggle/working/exp/nnet3_cleaned_out/ivectors_test-clean_hires/ivector_online.80.scp \r\n",
      "# Started at Tue Jun 22 13:35:24 UTC 2021\r\n",
      "#\r\n",
      "copy-feats --compress=true ark:- ark,scp:/kaggle/working/exp/nnet3_cleaned_out/ivectors_test-clean_hires/ivector_online.80.ark,/kaggle/working/exp/nnet3_cleaned_out/ivectors_test-clean_hires/ivector_online.80.scp \r\n",
      "ivector-extract-online2 --config=exp/nnet3_cleaned_out/ivectors_test-clean_hires/conf/ivector_extractor.conf ark:data/test-clean_hires/split87/80/spk2utt scp:data/test-clean_hires/split87/80/feats.scp ark:- \r\n",
      "LOG (ivector-extract-online2[5.5.0~1-2b62]:ComputeDerivedVars():ivector-extractor.cc:183) Computing derived variables for iVector extractor\r\n",
      "LOG (ivector-extract-online2[5.5.0~1-2b62]:ComputeDerivedVars():ivector-extractor.cc:204) Done.\r\n",
      "LOG (ivector-extract-online2[5.5.0~1-2b62]:main():ivector-extract-online2.cc:189) Estimated iVectors for 15 files, 0 with errors.\r\n",
      "LOG (ivector-extract-online2[5.5.0~1-2b62]:main():ivector-extract-online2.cc:191) Average objective-function improvement was 13.073 per frame, over 11297 frames (weighted).\r\n",
      "LOG (ivector-extract-online2[5.5.0~1-2b62]:main():ivector-extract-online2.cc:194) Average iVector length was 9.45082 and at utterance-end was 9.89454, over 11297 frames (weighted);  expected length is 10\r\n",
      "LOG (copy-feats[5.5.0~1-2b62]:main():copy-feats.cc:143) Copied 15 feature matrices.\r\n",
      "# Accounting: time=1 threads=1\r\n",
      "# Ended (code 0) at Tue Jun 22 13:35:25 UTC 2021, elapsed time 1 seconds\r\n",
      "# ivector-extract-online2 --config=exp/nnet3_cleaned_out/ivectors_test-clean_hires/conf/ivector_extractor.conf ark:data/test-clean_hires/split87/81/spk2utt scp:data/test-clean_hires/split87/81/feats.scp ark:- | copy-feats --compress=true ark:- ark,scp:/kaggle/working/exp/nnet3_cleaned_out/ivectors_test-clean_hires/ivector_online.81.ark,/kaggle/working/exp/nnet3_cleaned_out/ivectors_test-clean_hires/ivector_online.81.scp \r\n",
      "# Started at Tue Jun 22 13:35:24 UTC 2021\r\n",
      "#\r\n",
      "copy-feats --compress=true ark:- ark,scp:/kaggle/working/exp/nnet3_cleaned_out/ivectors_test-clean_hires/ivector_online.81.ark,/kaggle/working/exp/nnet3_cleaned_out/ivectors_test-clean_hires/ivector_online.81.scp \r\n",
      "ivector-extract-online2 --config=exp/nnet3_cleaned_out/ivectors_test-clean_hires/conf/ivector_extractor.conf ark:data/test-clean_hires/split87/81/spk2utt scp:data/test-clean_hires/split87/81/feats.scp ark:- \r\n",
      "LOG (ivector-extract-online2[5.5.0~1-2b62]:ComputeDerivedVars():ivector-extractor.cc:183) Computing derived variables for iVector extractor\r\n",
      "LOG (ivector-extract-online2[5.5.0~1-2b62]:ComputeDerivedVars():ivector-extractor.cc:204) Done.\r\n",
      "LOG (ivector-extract-online2[5.5.0~1-2b62]:main():ivector-extract-online2.cc:189) Estimated iVectors for 20 files, 0 with errors.\r\n",
      "LOG (ivector-extract-online2[5.5.0~1-2b62]:main():ivector-extract-online2.cc:191) Average objective-function improvement was 13.4207 per frame, over 14736 frames (weighted).\r\n",
      "LOG (ivector-extract-online2[5.5.0~1-2b62]:main():ivector-extract-online2.cc:194) Average iVector length was 8.25339 and at utterance-end was 8.65396, over 14736 frames (weighted);  expected length is 10\r\n",
      "LOG (copy-feats[5.5.0~1-2b62]:main():copy-feats.cc:143) Copied 20 feature matrices.\r\n",
      "# Accounting: time=2 threads=1\r\n",
      "# Ended (code 0) at Tue Jun 22 13:35:26 UTC 2021, elapsed time 2 seconds\r\n",
      "# ivector-extract-online2 --config=exp/nnet3_cleaned_out/ivectors_test-clean_hires/conf/ivector_extractor.conf ark:data/test-clean_hires/split87/82/spk2utt scp:data/test-clean_hires/split87/82/feats.scp ark:- | copy-feats --compress=true ark:- ark,scp:/kaggle/working/exp/nnet3_cleaned_out/ivectors_test-clean_hires/ivector_online.82.ark,/kaggle/working/exp/nnet3_cleaned_out/ivectors_test-clean_hires/ivector_online.82.scp \r\n",
      "# Started at Tue Jun 22 13:35:25 UTC 2021\r\n",
      "#\r\n",
      "copy-feats --compress=true ark:- ark,scp:/kaggle/working/exp/nnet3_cleaned_out/ivectors_test-clean_hires/ivector_online.82.ark,/kaggle/working/exp/nnet3_cleaned_out/ivectors_test-clean_hires/ivector_online.82.scp \r\n",
      "ivector-extract-online2 --config=exp/nnet3_cleaned_out/ivectors_test-clean_hires/conf/ivector_extractor.conf ark:data/test-clean_hires/split87/82/spk2utt scp:data/test-clean_hires/split87/82/feats.scp ark:- \r\n",
      "LOG (ivector-extract-online2[5.5.0~1-2b62]:ComputeDerivedVars():ivector-extractor.cc:183) Computing derived variables for iVector extractor\r\n",
      "LOG (ivector-extract-online2[5.5.0~1-2b62]:ComputeDerivedVars():ivector-extractor.cc:204) Done.\r\n",
      "LOG (ivector-extract-online2[5.5.0~1-2b62]:main():ivector-extract-online2.cc:189) Estimated iVectors for 39 files, 0 with errors.\r\n",
      "LOG (ivector-extract-online2[5.5.0~1-2b62]:main():ivector-extract-online2.cc:191) Average objective-function improvement was 13.1987 per frame, over 22138 frames (weighted).\r\n",
      "LOG (ivector-extract-online2[5.5.0~1-2b62]:main():ivector-extract-online2.cc:194) Average iVector length was 8.30851 and at utterance-end was 8.63706, over 22138 frames (weighted);  expected length is 10\r\n",
      "LOG (copy-feats[5.5.0~1-2b62]:main():copy-feats.cc:143) Copied 39 feature matrices.\r\n",
      "# Accounting: time=2 threads=1\r\n",
      "# Ended (code 0) at Tue Jun 22 13:35:27 UTC 2021, elapsed time 2 seconds\r\n",
      "# ivector-extract-online2 --config=exp/nnet3_cleaned_out/ivectors_test-clean_hires/conf/ivector_extractor.conf ark:data/test-clean_hires/split87/83/spk2utt scp:data/test-clean_hires/split87/83/feats.scp ark:- | copy-feats --compress=true ark:- ark,scp:/kaggle/working/exp/nnet3_cleaned_out/ivectors_test-clean_hires/ivector_online.83.ark,/kaggle/working/exp/nnet3_cleaned_out/ivectors_test-clean_hires/ivector_online.83.scp \r\n",
      "# Started at Tue Jun 22 13:35:26 UTC 2021\r\n",
      "#\r\n",
      "copy-feats --compress=true ark:- ark,scp:/kaggle/working/exp/nnet3_cleaned_out/ivectors_test-clean_hires/ivector_online.83.ark,/kaggle/working/exp/nnet3_cleaned_out/ivectors_test-clean_hires/ivector_online.83.scp \r\n",
      "ivector-extract-online2 --config=exp/nnet3_cleaned_out/ivectors_test-clean_hires/conf/ivector_extractor.conf ark:data/test-clean_hires/split87/83/spk2utt scp:data/test-clean_hires/split87/83/feats.scp ark:- \r\n",
      "LOG (ivector-extract-online2[5.5.0~1-2b62]:ComputeDerivedVars():ivector-extractor.cc:183) Computing derived variables for iVector extractor\r\n",
      "LOG (ivector-extract-online2[5.5.0~1-2b62]:ComputeDerivedVars():ivector-extractor.cc:204) Done.\r\n",
      "LOG (ivector-extract-online2[5.5.0~1-2b62]:main():ivector-extract-online2.cc:189) Estimated iVectors for 25 files, 0 with errors.\r\n",
      "LOG (ivector-extract-online2[5.5.0~1-2b62]:main():ivector-extract-online2.cc:191) Average objective-function improvement was 11.2165 per frame, over 19003 frames (weighted).\r\n",
      "LOG (ivector-extract-online2[5.5.0~1-2b62]:main():ivector-extract-online2.cc:194) Average iVector length was 8.6193 and at utterance-end was 9.07106, over 19003 frames (weighted);  expected length is 10\r\n",
      "LOG (copy-feats[5.5.0~1-2b62]:main():copy-feats.cc:143) Copied 25 feature matrices.\r\n",
      "# Accounting: time=1 threads=1\r\n",
      "# Ended (code 0) at Tue Jun 22 13:35:27 UTC 2021, elapsed time 1 seconds\r\n",
      "# ivector-extract-online2 --config=exp/nnet3_cleaned_out/ivectors_test-clean_hires/conf/ivector_extractor.conf ark:data/test-clean_hires/split87/84/spk2utt scp:data/test-clean_hires/split87/84/feats.scp ark:- | copy-feats --compress=true ark:- ark,scp:/kaggle/working/exp/nnet3_cleaned_out/ivectors_test-clean_hires/ivector_online.84.ark,/kaggle/working/exp/nnet3_cleaned_out/ivectors_test-clean_hires/ivector_online.84.scp \r\n",
      "# Started at Tue Jun 22 13:35:26 UTC 2021\r\n",
      "#\r\n",
      "copy-feats --compress=true ark:- ark,scp:/kaggle/working/exp/nnet3_cleaned_out/ivectors_test-clean_hires/ivector_online.84.ark,/kaggle/working/exp/nnet3_cleaned_out/ivectors_test-clean_hires/ivector_online.84.scp \r\n",
      "ivector-extract-online2 --config=exp/nnet3_cleaned_out/ivectors_test-clean_hires/conf/ivector_extractor.conf ark:data/test-clean_hires/split87/84/spk2utt scp:data/test-clean_hires/split87/84/feats.scp ark:- \r\n",
      "LOG (ivector-extract-online2[5.5.0~1-2b62]:ComputeDerivedVars():ivector-extractor.cc:183) Computing derived variables for iVector extractor\r\n",
      "LOG (ivector-extract-online2[5.5.0~1-2b62]:ComputeDerivedVars():ivector-extractor.cc:204) Done.\r\n",
      "LOG (ivector-extract-online2[5.5.0~1-2b62]:main():ivector-extract-online2.cc:189) Estimated iVectors for 21 files, 0 with errors.\r\n",
      "LOG (ivector-extract-online2[5.5.0~1-2b62]:main():ivector-extract-online2.cc:191) Average objective-function improvement was 9.09215 per frame, over 16025 frames (weighted).\r\n",
      "LOG (ivector-extract-online2[5.5.0~1-2b62]:main():ivector-extract-online2.cc:194) Average iVector length was 8.13203 and at utterance-end was 8.59301, over 16025 frames (weighted);  expected length is 10\r\n",
      "LOG (copy-feats[5.5.0~1-2b62]:main():copy-feats.cc:143) Copied 21 feature matrices.\r\n",
      "# Accounting: time=2 threads=1\r\n",
      "# Ended (code 0) at Tue Jun 22 13:35:28 UTC 2021, elapsed time 2 seconds\r\n",
      "# ivector-extract-online2 --config=exp/nnet3_cleaned_out/ivectors_test-clean_hires/conf/ivector_extractor.conf ark:data/test-clean_hires/split87/85/spk2utt scp:data/test-clean_hires/split87/85/feats.scp ark:- | copy-feats --compress=true ark:- ark,scp:/kaggle/working/exp/nnet3_cleaned_out/ivectors_test-clean_hires/ivector_online.85.ark,/kaggle/working/exp/nnet3_cleaned_out/ivectors_test-clean_hires/ivector_online.85.scp \r\n",
      "# Started at Tue Jun 22 13:35:26 UTC 2021\r\n",
      "#\r\n",
      "copy-feats --compress=true ark:- ark,scp:/kaggle/working/exp/nnet3_cleaned_out/ivectors_test-clean_hires/ivector_online.85.ark,/kaggle/working/exp/nnet3_cleaned_out/ivectors_test-clean_hires/ivector_online.85.scp \r\n",
      "ivector-extract-online2 --config=exp/nnet3_cleaned_out/ivectors_test-clean_hires/conf/ivector_extractor.conf ark:data/test-clean_hires/split87/85/spk2utt scp:data/test-clean_hires/split87/85/feats.scp ark:- \r\n",
      "LOG (ivector-extract-online2[5.5.0~1-2b62]:ComputeDerivedVars():ivector-extractor.cc:183) Computing derived variables for iVector extractor\r\n",
      "LOG (ivector-extract-online2[5.5.0~1-2b62]:ComputeDerivedVars():ivector-extractor.cc:204) Done.\r\n",
      "LOG (ivector-extract-online2[5.5.0~1-2b62]:main():ivector-extract-online2.cc:189) Estimated iVectors for 16 files, 0 with errors.\r\n",
      "LOG (ivector-extract-online2[5.5.0~1-2b62]:main():ivector-extract-online2.cc:191) Average objective-function improvement was 7.40874 per frame, over 13071 frames (weighted).\r\n",
      "LOG (ivector-extract-online2[5.5.0~1-2b62]:main():ivector-extract-online2.cc:194) Average iVector length was 8.55374 and at utterance-end was 9.13017, over 13071 frames (weighted);  expected length is 10\r\n",
      "LOG (copy-feats[5.5.0~1-2b62]:main():copy-feats.cc:143) Copied 16 feature matrices.\r\n",
      "# Accounting: time=1 threads=1\r\n",
      "# Ended (code 0) at Tue Jun 22 13:35:27 UTC 2021, elapsed time 1 seconds\r\n",
      "# ivector-extract-online2 --config=exp/nnet3_cleaned_out/ivectors_test-clean_hires/conf/ivector_extractor.conf ark:data/test-clean_hires/split87/86/spk2utt scp:data/test-clean_hires/split87/86/feats.scp ark:- | copy-feats --compress=true ark:- ark,scp:/kaggle/working/exp/nnet3_cleaned_out/ivectors_test-clean_hires/ivector_online.86.ark,/kaggle/working/exp/nnet3_cleaned_out/ivectors_test-clean_hires/ivector_online.86.scp \r\n",
      "# Started at Tue Jun 22 13:35:27 UTC 2021\r\n",
      "#\r\n",
      "copy-feats --compress=true ark:- ark,scp:/kaggle/working/exp/nnet3_cleaned_out/ivectors_test-clean_hires/ivector_online.86.ark,/kaggle/working/exp/nnet3_cleaned_out/ivectors_test-clean_hires/ivector_online.86.scp \r\n",
      "ivector-extract-online2 --config=exp/nnet3_cleaned_out/ivectors_test-clean_hires/conf/ivector_extractor.conf ark:data/test-clean_hires/split87/86/spk2utt scp:data/test-clean_hires/split87/86/feats.scp ark:- \r\n",
      "LOG (ivector-extract-online2[5.5.0~1-2b62]:ComputeDerivedVars():ivector-extractor.cc:183) Computing derived variables for iVector extractor\r\n",
      "LOG (ivector-extract-online2[5.5.0~1-2b62]:ComputeDerivedVars():ivector-extractor.cc:204) Done.\r\n",
      "LOG (ivector-extract-online2[5.5.0~1-2b62]:main():ivector-extract-online2.cc:189) Estimated iVectors for 31 files, 0 with errors.\r\n",
      "LOG (ivector-extract-online2[5.5.0~1-2b62]:main():ivector-extract-online2.cc:191) Average objective-function improvement was 8.76098 per frame, over 26592 frames (weighted).\r\n",
      "LOG (ivector-extract-online2[5.5.0~1-2b62]:main():ivector-extract-online2.cc:194) Average iVector length was 8.03538 and at utterance-end was 8.39339, over 26592 frames (weighted);  expected length is 10\r\n",
      "LOG (copy-feats[5.5.0~1-2b62]:main():copy-feats.cc:143) Copied 31 feature matrices.\r\n",
      "# Accounting: time=1 threads=1\r\n",
      "# Ended (code 0) at Tue Jun 22 13:35:28 UTC 2021, elapsed time 1 seconds\r\n",
      "# ivector-extract-online2 --config=exp/nnet3_cleaned_out/ivectors_test-clean_hires/conf/ivector_extractor.conf ark:data/test-clean_hires/split87/87/spk2utt scp:data/test-clean_hires/split87/87/feats.scp ark:- | copy-feats --compress=true ark:- ark,scp:/kaggle/working/exp/nnet3_cleaned_out/ivectors_test-clean_hires/ivector_online.87.ark,/kaggle/working/exp/nnet3_cleaned_out/ivectors_test-clean_hires/ivector_online.87.scp \r\n",
      "# Started at Tue Jun 22 13:35:27 UTC 2021\r\n",
      "#\r\n",
      "copy-feats --compress=true ark:- ark,scp:/kaggle/working/exp/nnet3_cleaned_out/ivectors_test-clean_hires/ivector_online.87.ark,/kaggle/working/exp/nnet3_cleaned_out/ivectors_test-clean_hires/ivector_online.87.scp \r\n",
      "ivector-extract-online2 --config=exp/nnet3_cleaned_out/ivectors_test-clean_hires/conf/ivector_extractor.conf ark:data/test-clean_hires/split87/87/spk2utt scp:data/test-clean_hires/split87/87/feats.scp ark:- \r\n",
      "LOG (ivector-extract-online2[5.5.0~1-2b62]:ComputeDerivedVars():ivector-extractor.cc:183) Computing derived variables for iVector extractor\r\n",
      "LOG (ivector-extract-online2[5.5.0~1-2b62]:ComputeDerivedVars():ivector-extractor.cc:204) Done.\r\n",
      "LOG (ivector-extract-online2[5.5.0~1-2b62]:main():ivector-extract-online2.cc:189) Estimated iVectors for 26 files, 0 with errors.\r\n",
      "LOG (ivector-extract-online2[5.5.0~1-2b62]:main():ivector-extract-online2.cc:191) Average objective-function improvement was 7.23604 per frame, over 21590 frames (weighted).\r\n",
      "LOG (ivector-extract-online2[5.5.0~1-2b62]:main():ivector-extract-online2.cc:194) Average iVector length was 8.19366 and at utterance-end was 8.57593, over 21590 frames (weighted);  expected length is 10\r\n",
      "LOG (copy-feats[5.5.0~1-2b62]:main():copy-feats.cc:143) Copied 26 feature matrices.\r\n",
      "# Accounting: time=1 threads=1\r\n",
      "# Ended (code 0) at Tue Jun 22 13:35:28 UTC 2021, elapsed time 1 seconds\r\n",
      "# ivector-extract-online2 --config=exp/nnet3_cleaned_out/ivectors_test-clean_hires/conf/ivector_extractor.conf ark:data/test-clean_hires/split87/9/spk2utt scp:data/test-clean_hires/split87/9/feats.scp ark:- | copy-feats --compress=true ark:- ark,scp:/kaggle/working/exp/nnet3_cleaned_out/ivectors_test-clean_hires/ivector_online.9.ark,/kaggle/working/exp/nnet3_cleaned_out/ivectors_test-clean_hires/ivector_online.9.scp \r\n",
      "# Started at Tue Jun 22 13:34:54 UTC 2021\r\n",
      "#\r\n",
      "copy-feats --compress=true ark:- ark,scp:/kaggle/working/exp/nnet3_cleaned_out/ivectors_test-clean_hires/ivector_online.9.ark,/kaggle/working/exp/nnet3_cleaned_out/ivectors_test-clean_hires/ivector_online.9.scp \r\n",
      "ivector-extract-online2 --config=exp/nnet3_cleaned_out/ivectors_test-clean_hires/conf/ivector_extractor.conf ark:data/test-clean_hires/split87/9/spk2utt scp:data/test-clean_hires/split87/9/feats.scp ark:- \r\n",
      "LOG (ivector-extract-online2[5.5.0~1-2b62]:ComputeDerivedVars():ivector-extractor.cc:183) Computing derived variables for iVector extractor\r\n",
      "LOG (ivector-extract-online2[5.5.0~1-2b62]:ComputeDerivedVars():ivector-extractor.cc:204) Done.\r\n",
      "LOG (ivector-extract-online2[5.5.0~1-2b62]:main():ivector-extract-online2.cc:189) Estimated iVectors for 25 files, 0 with errors.\r\n",
      "LOG (ivector-extract-online2[5.5.0~1-2b62]:main():ivector-extract-online2.cc:191) Average objective-function improvement was 11.6738 per frame, over 30728 frames (weighted).\r\n",
      "LOG (ivector-extract-online2[5.5.0~1-2b62]:main():ivector-extract-online2.cc:194) Average iVector length was 6.96512 and at utterance-end was 7.27491, over 30728 frames (weighted);  expected length is 10\r\n",
      "LOG (copy-feats[5.5.0~1-2b62]:main():copy-feats.cc:143) Copied 25 feature matrices.\r\n",
      "# Accounting: time=3 threads=1\r\n",
      "# Ended (code 0) at Tue Jun 22 13:34:57 UTC 2021, elapsed time 3 seconds\r\n"
     ]
    }
   ],
   "source": [
    "!cat exp/nnet3_cleaned_out/ivectors_test-clean_hires/log/extract_ivectors.*.log"
   ]
  }
 ],
 "metadata": {
  "kernelspec": {
   "display_name": "Python 3",
   "language": "python",
   "name": "python3"
  },
  "language_info": {
   "codemirror_mode": {
    "name": "ipython",
    "version": 3
   },
   "file_extension": ".py",
   "mimetype": "text/x-python",
   "name": "python",
   "nbconvert_exporter": "python",
   "pygments_lexer": "ipython3",
   "version": "3.7.10"
  },
  "papermill": {
   "default_parameters": {},
   "duration": 321.043244,
   "end_time": "2021-06-22T13:36:11.056629",
   "environment_variables": {},
   "exception": null,
   "input_path": "__notebook__.ipynb",
   "output_path": "__notebook__.ipynb",
   "parameters": {},
   "start_time": "2021-06-22T13:30:50.013385",
   "version": "2.3.3"
  }
 },
 "nbformat": 4,
 "nbformat_minor": 5
}
