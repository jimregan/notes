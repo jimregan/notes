{
 "cells": [
  {
   "cell_type": "markdown",
   "id": "british-volleyball",
   "metadata": {
    "papermill": {
     "duration": 0.044168,
     "end_time": "2021-06-22T14:11:38.132310",
     "exception": false,
     "start_time": "2021-06-22T14:11:38.088142",
     "status": "completed"
    },
    "tags": []
   },
   "source": [
    "## Unpack Kaldi"
   ]
  },
  {
   "cell_type": "code",
   "execution_count": 1,
   "id": "musical-garage",
   "metadata": {
    "_cell_guid": "b1076dfc-b9ad-4769-8c92-a6c4dae69d19",
    "_uuid": "8f2839f25d086af736a60e9eeb907d3b93b6e0e5",
    "execution": {
     "iopub.execute_input": "2021-06-22T14:11:38.210682Z",
     "iopub.status.busy": "2021-06-22T14:11:38.209703Z",
     "iopub.status.idle": "2021-06-22T14:11:38.214954Z",
     "shell.execute_reply": "2021-06-22T14:11:38.214295Z",
     "shell.execute_reply.started": "2021-06-22T11:54:50.153353Z"
    },
    "papermill": {
     "duration": 0.048331,
     "end_time": "2021-06-22T14:11:38.215123",
     "exception": false,
     "start_time": "2021-06-22T14:11:38.166792",
     "status": "completed"
    },
    "tags": []
   },
   "outputs": [
    {
     "name": "stdout",
     "output_type": "stream",
     "text": [
      "/opt\n"
     ]
    }
   ],
   "source": [
    "%cd /opt"
   ]
  },
  {
   "cell_type": "code",
   "execution_count": 2,
   "id": "sound-pressing",
   "metadata": {
    "execution": {
     "iopub.execute_input": "2021-06-22T14:11:38.282467Z",
     "iopub.status.busy": "2021-06-22T14:11:38.281804Z",
     "iopub.status.idle": "2021-06-22T14:12:22.650476Z",
     "shell.execute_reply": "2021-06-22T14:12:22.649427Z",
     "shell.execute_reply.started": "2021-06-22T11:54:53.255442Z"
    },
    "papermill": {
     "duration": 44.404256,
     "end_time": "2021-06-22T14:12:22.650919",
     "exception": false,
     "start_time": "2021-06-22T14:11:38.246663",
     "status": "completed"
    },
    "tags": []
   },
   "outputs": [],
   "source": [
    "%%capture\n",
    "!tar xvf /kaggle/input/extract-prebuilt-kaldi-from-docker/kaldi.tar"
   ]
  },
  {
   "cell_type": "code",
   "execution_count": 3,
   "id": "chicken-youth",
   "metadata": {
    "execution": {
     "iopub.execute_input": "2021-06-22T14:12:23.084992Z",
     "iopub.status.busy": "2021-06-22T14:12:23.082955Z",
     "iopub.status.idle": "2021-06-22T14:12:23.085748Z",
     "shell.execute_reply": "2021-06-22T14:12:23.086235Z",
     "shell.execute_reply.started": "2021-06-22T11:55:40.60018Z"
    },
    "papermill": {
     "duration": 0.044312,
     "end_time": "2021-06-22T14:12:23.086410",
     "exception": false,
     "start_time": "2021-06-22T14:12:23.042098",
     "status": "completed"
    },
    "tags": []
   },
   "outputs": [],
   "source": [
    "import os\n",
    "os.environ['LD_LIBRARY_PATH'] = '/opt/conda/lib:/opt/kaldi/tools/openfst-1.6.7/lib:/opt/kaldi/src/lib:'\n",
    "EXISTING_PATH = os.environ['PATH']"
   ]
  },
  {
   "cell_type": "code",
   "execution_count": 4,
   "id": "parliamentary-bulgarian",
   "metadata": {
    "execution": {
     "iopub.execute_input": "2021-06-22T14:12:23.163399Z",
     "iopub.status.busy": "2021-06-22T14:12:23.162665Z",
     "iopub.status.idle": "2021-06-22T14:12:23.168265Z",
     "shell.execute_reply": "2021-06-22T14:12:23.167690Z"
    },
    "papermill": {
     "duration": 0.04413,
     "end_time": "2021-06-22T14:12:23.168416",
     "exception": false,
     "start_time": "2021-06-22T14:12:23.124286",
     "status": "completed"
    },
    "tags": []
   },
   "outputs": [
    {
     "name": "stdout",
     "output_type": "stream",
     "text": [
      "/\n"
     ]
    }
   ],
   "source": [
    "%cd /\n"
   ]
  },
  {
   "cell_type": "code",
   "execution_count": 5,
   "id": "coastal-airfare",
   "metadata": {
    "execution": {
     "iopub.execute_input": "2021-06-22T14:12:23.267459Z",
     "iopub.status.busy": "2021-06-22T14:12:23.266447Z",
     "iopub.status.idle": "2021-06-22T14:13:31.434644Z",
     "shell.execute_reply": "2021-06-22T14:13:31.434064Z"
    },
    "papermill": {
     "duration": 68.230852,
     "end_time": "2021-06-22T14:13:31.434851",
     "exception": false,
     "start_time": "2021-06-22T14:12:23.203999",
     "status": "completed"
    },
    "tags": []
   },
   "outputs": [],
   "source": [
    "%%capture\n",
    "!tar xvf /kaggle/input/extract-cuda-from-kaldi-docker/cuda.tar"
   ]
  },
  {
   "cell_type": "code",
   "execution_count": 6,
   "id": "wireless-trainer",
   "metadata": {
    "execution": {
     "iopub.execute_input": "2021-06-22T14:13:31.528595Z",
     "iopub.status.busy": "2021-06-22T14:13:31.527792Z",
     "iopub.status.idle": "2021-06-22T14:13:31.531213Z",
     "shell.execute_reply": "2021-06-22T14:13:31.530382Z",
     "shell.execute_reply.started": "2021-06-22T13:29:47.085695Z"
    },
    "papermill": {
     "duration": 0.051125,
     "end_time": "2021-06-22T14:13:31.531437",
     "exception": false,
     "start_time": "2021-06-22T14:13:31.480312",
     "status": "completed"
    },
    "tags": []
   },
   "outputs": [],
   "source": [
    "import os\n",
    "os.environ['LD_LIBRARY_PATH'] = f'{os.environ[\"LD_LIBRARY_PATH\"]}:/usr/local/cuda-10.0/targets/x86_64-linux/lib/'"
   ]
  },
  {
   "cell_type": "code",
   "execution_count": 7,
   "id": "derived-elimination",
   "metadata": {
    "execution": {
     "iopub.execute_input": "2021-06-22T14:13:31.622029Z",
     "iopub.status.busy": "2021-06-22T14:13:31.621051Z",
     "iopub.status.idle": "2021-06-22T14:13:31.629533Z",
     "shell.execute_reply": "2021-06-22T14:13:31.628730Z",
     "shell.execute_reply.started": "2021-06-22T11:55:40.610869Z"
    },
    "papermill": {
     "duration": 0.056337,
     "end_time": "2021-06-22T14:13:31.629817",
     "exception": false,
     "start_time": "2021-06-22T14:13:31.573480",
     "status": "completed"
    },
    "tags": []
   },
   "outputs": [
    {
     "name": "stdout",
     "output_type": "stream",
     "text": [
      "/opt/kaldi/egs\n"
     ]
    }
   ],
   "source": [
    "%cd /opt/kaldi/egs"
   ]
  },
  {
   "cell_type": "markdown",
   "id": "offshore-curtis",
   "metadata": {
    "papermill": {
     "duration": 0.033085,
     "end_time": "2021-06-22T14:13:31.702347",
     "exception": false,
     "start_time": "2021-06-22T14:13:31.669262",
     "status": "completed"
    },
    "tags": []
   },
   "source": [
    "## Install flac"
   ]
  },
  {
   "cell_type": "code",
   "execution_count": 8,
   "id": "permanent-field",
   "metadata": {
    "execution": {
     "iopub.execute_input": "2021-06-22T14:13:31.790413Z",
     "iopub.status.busy": "2021-06-22T14:13:31.789655Z",
     "iopub.status.idle": "2021-06-22T14:13:39.719826Z",
     "shell.execute_reply": "2021-06-22T14:13:39.719226Z",
     "shell.execute_reply.started": "2021-06-22T12:06:36.222984Z"
    },
    "papermill": {
     "duration": 7.977381,
     "end_time": "2021-06-22T14:13:39.719984",
     "exception": false,
     "start_time": "2021-06-22T14:13:31.742603",
     "status": "completed"
    },
    "tags": []
   },
   "outputs": [],
   "source": [
    "%%capture\n",
    "!apt install -y flac"
   ]
  },
  {
   "cell_type": "markdown",
   "id": "congressional-beast",
   "metadata": {
    "papermill": {
     "duration": 0.032758,
     "end_time": "2021-06-22T14:13:39.784941",
     "exception": false,
     "start_time": "2021-06-22T14:13:39.752183",
     "status": "completed"
    },
    "tags": []
   },
   "source": [
    "## Create a work directory"
   ]
  },
  {
   "cell_type": "code",
   "execution_count": 9,
   "id": "finished-nurse",
   "metadata": {
    "execution": {
     "iopub.execute_input": "2021-06-22T14:13:39.860672Z",
     "iopub.status.busy": "2021-06-22T14:13:39.860003Z",
     "iopub.status.idle": "2021-06-22T14:13:40.598538Z",
     "shell.execute_reply": "2021-06-22T14:13:40.597801Z",
     "shell.execute_reply.started": "2021-06-22T11:55:40.659251Z"
    },
    "papermill": {
     "duration": 0.78013,
     "end_time": "2021-06-22T14:13:40.598696",
     "exception": false,
     "start_time": "2021-06-22T14:13:39.818566",
     "status": "completed"
    },
    "tags": []
   },
   "outputs": [
    {
     "name": "stdout",
     "output_type": "stream",
     "text": [
      "/opt/kaldi/egs/usels/s5\n"
     ]
    }
   ],
   "source": [
    "!mkdir -p usels/s5\n",
    "%cd usels/s5"
   ]
  },
  {
   "cell_type": "code",
   "execution_count": 10,
   "id": "indoor-series",
   "metadata": {
    "execution": {
     "iopub.execute_input": "2021-06-22T14:13:40.673580Z",
     "iopub.status.busy": "2021-06-22T14:13:40.672506Z",
     "iopub.status.idle": "2021-06-22T14:13:43.574877Z",
     "shell.execute_reply": "2021-06-22T14:13:43.574286Z",
     "shell.execute_reply.started": "2021-06-22T12:08:43.066673Z"
    },
    "papermill": {
     "duration": 2.942904,
     "end_time": "2021-06-22T14:13:43.575016",
     "exception": false,
     "start_time": "2021-06-22T14:13:40.632112",
     "status": "completed"
    },
    "tags": []
   },
   "outputs": [],
   "source": [
    "!mkdir /kaggle/working/data\n",
    "!mkdir /kaggle/working/exp\n",
    "!ln -s /kaggle/working/data\n",
    "!ln -s /kaggle/working/exp"
   ]
  },
  {
   "cell_type": "code",
   "execution_count": 11,
   "id": "ethical-correspondence",
   "metadata": {
    "execution": {
     "iopub.execute_input": "2021-06-22T14:13:43.650453Z",
     "iopub.status.busy": "2021-06-22T14:13:43.647062Z",
     "iopub.status.idle": "2021-06-22T14:13:45.825018Z",
     "shell.execute_reply": "2021-06-22T14:13:45.824239Z",
     "shell.execute_reply.started": "2021-06-22T11:55:41.459018Z"
    },
    "papermill": {
     "duration": 2.217978,
     "end_time": "2021-06-22T14:13:45.825181",
     "exception": false,
     "start_time": "2021-06-22T14:13:43.607203",
     "status": "completed"
    },
    "tags": []
   },
   "outputs": [],
   "source": [
    "!ln -s ../../wsj/s5/steps\n",
    "!ln -s ../../wsj/s5/utils\n",
    "!ln -s ../../librispeech/s5/local"
   ]
  },
  {
   "cell_type": "code",
   "execution_count": 12,
   "id": "linear-replacement",
   "metadata": {
    "execution": {
     "iopub.execute_input": "2021-06-22T14:13:45.902308Z",
     "iopub.status.busy": "2021-06-22T14:13:45.901154Z",
     "iopub.status.idle": "2021-06-22T14:13:46.630126Z",
     "shell.execute_reply": "2021-06-22T14:13:46.629435Z",
     "shell.execute_reply.started": "2021-06-22T11:55:43.77028Z"
    },
    "papermill": {
     "duration": 0.770372,
     "end_time": "2021-06-22T14:13:46.630272",
     "exception": false,
     "start_time": "2021-06-22T14:13:45.859900",
     "status": "completed"
    },
    "tags": []
   },
   "outputs": [],
   "source": [
    "!mkdir conf"
   ]
  },
  {
   "cell_type": "code",
   "execution_count": 13,
   "id": "applied-hamilton",
   "metadata": {
    "execution": {
     "iopub.execute_input": "2021-06-22T14:13:46.702227Z",
     "iopub.status.busy": "2021-06-22T14:13:46.701189Z",
     "iopub.status.idle": "2021-06-22T14:13:46.706098Z",
     "shell.execute_reply": "2021-06-22T14:13:46.706588Z",
     "shell.execute_reply.started": "2021-06-22T11:55:44.555875Z"
    },
    "papermill": {
     "duration": 0.044165,
     "end_time": "2021-06-22T14:13:46.706775",
     "exception": false,
     "start_time": "2021-06-22T14:13:46.662610",
     "status": "completed"
    },
    "tags": []
   },
   "outputs": [
    {
     "name": "stdout",
     "output_type": "stream",
     "text": [
      "Writing conf/mfcc_hires.conf\n"
     ]
    }
   ],
   "source": [
    "%%writefile conf/mfcc_hires.conf\n",
    "# config for high-resolution MFCC features, intended for neural network training\n",
    "# Note: we keep all cepstra, so it has the same info as filterbank features,\n",
    "# but MFCC is more easily compressible (because less correlated) which is why \n",
    "# we prefer this method.\n",
    "--use-energy=false   # use average of log energy, not energy.\n",
    "--num-mel-bins=40     # similar to Google's setup.\n",
    "--num-ceps=40     # there is no dimensionality reduction.\n",
    "--low-freq=20     # low cutoff frequency for mel bins... this is high-bandwidth data, so\n",
    "                  # there might be some information at the low end.\n",
    "--high-freq=-400 # high cutoff frequently, relative to Nyquist of 8000 (=7600)"
   ]
  },
  {
   "cell_type": "markdown",
   "id": "sharing-september",
   "metadata": {
    "papermill": {
     "duration": 0.033633,
     "end_time": "2021-06-22T14:13:46.774522",
     "exception": false,
     "start_time": "2021-06-22T14:13:46.740889",
     "status": "completed"
    },
    "tags": []
   },
   "source": [
    "## Setting up paths\n",
    "\n",
    "(In the scripts, you just source `path.sh`)"
   ]
  },
  {
   "cell_type": "code",
   "execution_count": 14,
   "id": "prostate-lebanon",
   "metadata": {
    "execution": {
     "iopub.execute_input": "2021-06-22T14:13:46.847114Z",
     "iopub.status.busy": "2021-06-22T14:13:46.846424Z",
     "iopub.status.idle": "2021-06-22T14:13:46.849749Z",
     "shell.execute_reply": "2021-06-22T14:13:46.849104Z",
     "shell.execute_reply.started": "2021-06-22T11:55:44.565547Z"
    },
    "papermill": {
     "duration": 0.041502,
     "end_time": "2021-06-22T14:13:46.849949",
     "exception": false,
     "start_time": "2021-06-22T14:13:46.808447",
     "status": "completed"
    },
    "tags": []
   },
   "outputs": [
    {
     "name": "stdout",
     "output_type": "stream",
     "text": [
      "env: KALDI_ROOT=/opt/kaldi\n"
     ]
    }
   ],
   "source": [
    "%env KALDI_ROOT=/opt/kaldi"
   ]
  },
  {
   "cell_type": "code",
   "execution_count": 15,
   "id": "bacterial-program",
   "metadata": {
    "execution": {
     "iopub.execute_input": "2021-06-22T14:13:46.925599Z",
     "iopub.status.busy": "2021-06-22T14:13:46.921178Z",
     "iopub.status.idle": "2021-06-22T14:13:47.657536Z",
     "shell.execute_reply": "2021-06-22T14:13:47.656974Z",
     "shell.execute_reply.started": "2021-06-22T11:55:44.577705Z"
    },
    "papermill": {
     "duration": 0.774763,
     "end_time": "2021-06-22T14:13:47.657676",
     "exception": false,
     "start_time": "2021-06-22T14:13:46.882913",
     "status": "completed"
    },
    "tags": []
   },
   "outputs": [
    {
     "name": "stdout",
     "output_type": "stream",
     "text": [
      "export KALDI_ROOT=`pwd`/../../..\r\n",
      "[ -f $KALDI_ROOT/tools/env.sh ] && . $KALDI_ROOT/tools/env.sh\r\n",
      "export PATH=$PWD/utils/:$KALDI_ROOT/tools/openfst/bin:$PWD:$PATH\r\n",
      "[ ! -f $KALDI_ROOT/tools/config/common_path.sh ] && echo >&2 \"The standard file $KALDI_ROOT/tools/config/common_path.sh is not present -> Exit!\" && exit 1\r\n",
      ". $KALDI_ROOT/tools/config/common_path.sh\r\n",
      "export LC_ALL=C\r\n"
     ]
    }
   ],
   "source": [
    "!cat ../../wsj/s5/path.sh"
   ]
  },
  {
   "cell_type": "code",
   "execution_count": 16,
   "id": "occupied-discharge",
   "metadata": {
    "execution": {
     "iopub.execute_input": "2021-06-22T14:13:47.730315Z",
     "iopub.status.busy": "2021-06-22T14:13:47.729653Z",
     "iopub.status.idle": "2021-06-22T14:13:47.732187Z",
     "shell.execute_reply": "2021-06-22T14:13:47.732780Z",
     "shell.execute_reply.started": "2021-06-22T12:00:36.247262Z"
    },
    "papermill": {
     "duration": 0.042028,
     "end_time": "2021-06-22T14:13:47.732942",
     "exception": false,
     "start_time": "2021-06-22T14:13:47.690914",
     "status": "completed"
    },
    "tags": []
   },
   "outputs": [
    {
     "name": "stdout",
     "output_type": "stream",
     "text": [
      "env: LC_ALL=C\n"
     ]
    }
   ],
   "source": [
    "%env LC_ALL=C\n",
    "#PWD = !pwd\n",
    "PWD = '/opt/kaldi/egs/usels/s5'\n",
    "KALDI_ROOT = '/opt/kaldi'\n",
    "WSJ_PATH = f'{PWD}/utils/:{KALDI_ROOT}/tools/openfst/bin:{PWD}:{EXISTING_PATH}'"
   ]
  },
  {
   "cell_type": "code",
   "execution_count": 17,
   "id": "deadly-necessity",
   "metadata": {
    "execution": {
     "iopub.execute_input": "2021-06-22T14:13:47.803006Z",
     "iopub.status.busy": "2021-06-22T14:13:47.802400Z",
     "iopub.status.idle": "2021-06-22T14:13:48.527515Z",
     "shell.execute_reply": "2021-06-22T14:13:48.526858Z",
     "shell.execute_reply.started": "2021-06-22T11:57:02.231388Z"
    },
    "papermill": {
     "duration": 0.761232,
     "end_time": "2021-06-22T14:13:48.527653",
     "exception": false,
     "start_time": "2021-06-22T14:13:47.766421",
     "status": "completed"
    },
    "tags": []
   },
   "outputs": [
    {
     "name": "stdout",
     "output_type": "stream",
     "text": [
      "# we assume KALDI_ROOT is already defined\r\n",
      "[ -z \"$KALDI_ROOT\" ] && echo >&2 \"The variable KALDI_ROOT must be already defined\" && exit 1\r\n",
      "# The formatting of the path export command is intentionally weird, because\r\n",
      "# this allows for easy diff'ing\r\n",
      "export PATH=\\\r\n",
      "${KALDI_ROOT}/src/bin:\\\r\n",
      "${KALDI_ROOT}/src/chainbin:\\\r\n",
      "${KALDI_ROOT}/src/featbin:\\\r\n",
      "${KALDI_ROOT}/src/fgmmbin:\\\r\n",
      "${KALDI_ROOT}/src/fstbin:\\\r\n",
      "${KALDI_ROOT}/src/gmmbin:\\\r\n",
      "${KALDI_ROOT}/src/ivectorbin:\\\r\n",
      "${KALDI_ROOT}/src/kwsbin:\\\r\n",
      "${KALDI_ROOT}/src/latbin:\\\r\n",
      "${KALDI_ROOT}/src/lmbin:\\\r\n",
      "${KALDI_ROOT}/src/nnet2bin:\\\r\n",
      "${KALDI_ROOT}/src/nnet3bin:\\\r\n",
      "${KALDI_ROOT}/src/nnetbin:\\\r\n",
      "${KALDI_ROOT}/src/online2bin:\\\r\n",
      "${KALDI_ROOT}/src/onlinebin:\\\r\n",
      "${KALDI_ROOT}/src/rnnlmbin:\\\r\n",
      "${KALDI_ROOT}/src/sgmm2bin:\\\r\n",
      "${KALDI_ROOT}/src/sgmmbin:\\\r\n",
      "${KALDI_ROOT}/src/tfrnnlmbin:\\\r\n",
      "${KALDI_ROOT}/src/cudadecoderbin:\\\r\n",
      "$PATH\r\n"
     ]
    }
   ],
   "source": [
    "!cat $KALDI_ROOT/tools/config/common_path.sh"
   ]
  },
  {
   "cell_type": "code",
   "execution_count": 18,
   "id": "primary-recovery",
   "metadata": {
    "execution": {
     "iopub.execute_input": "2021-06-22T14:13:48.601591Z",
     "iopub.status.busy": "2021-06-22T14:13:48.600961Z",
     "iopub.status.idle": "2021-06-22T14:13:48.623445Z",
     "shell.execute_reply": "2021-06-22T14:13:48.622879Z",
     "shell.execute_reply.started": "2021-06-22T11:56:52.862746Z"
    },
    "papermill": {
     "duration": 0.06174,
     "end_time": "2021-06-22T14:13:48.623593",
     "exception": false,
     "start_time": "2021-06-22T14:13:48.561853",
     "status": "completed"
    },
    "tags": []
   },
   "outputs": [],
   "source": [
    "#kaldi_paths=!cat $KALDI_ROOT/tools/config/common_path.sh|grep '/src/'|awk -F':' '{print $1}'|awk -F'/' '{print $NF}'|tr '\\n' ':'\n",
    "raw_kaldi_paths=!cat $KALDI_ROOT/tools/config/common_path.sh|grep '/src/'|awk -F':' '{print $1}'|awk -F'/' '{print \"/opt/kaldi/src/\"$NF}'"
   ]
  },
  {
   "cell_type": "code",
   "execution_count": 19,
   "id": "needed-prague",
   "metadata": {
    "execution": {
     "iopub.execute_input": "2021-06-22T14:13:48.697631Z",
     "iopub.status.busy": "2021-06-22T14:13:48.696985Z",
     "iopub.status.idle": "2021-06-22T14:13:48.699910Z",
     "shell.execute_reply": "2021-06-22T14:13:48.699379Z",
     "shell.execute_reply.started": "2021-06-22T12:02:21.567242Z"
    },
    "papermill": {
     "duration": 0.041861,
     "end_time": "2021-06-22T14:13:48.700045",
     "exception": false,
     "start_time": "2021-06-22T14:13:48.658184",
     "status": "completed"
    },
    "tags": []
   },
   "outputs": [],
   "source": [
    "KALDI_PATHS=raw_kaldi_paths.nlstr.replace('\\n',':')"
   ]
  },
  {
   "cell_type": "code",
   "execution_count": 20,
   "id": "undefined-exploration",
   "metadata": {
    "execution": {
     "iopub.execute_input": "2021-06-22T14:13:48.771272Z",
     "iopub.status.busy": "2021-06-22T14:13:48.770326Z",
     "iopub.status.idle": "2021-06-22T14:13:49.494840Z",
     "shell.execute_reply": "2021-06-22T14:13:49.495325Z",
     "shell.execute_reply.started": "2021-06-22T11:56:58.4537Z"
    },
    "papermill": {
     "duration": 0.76166,
     "end_time": "2021-06-22T14:13:49.495522",
     "exception": false,
     "start_time": "2021-06-22T14:13:48.733862",
     "status": "completed"
    },
    "tags": []
   },
   "outputs": [
    {
     "name": "stdout",
     "output_type": "stream",
     "text": [
      "export PATH=/opt/kaldi/tools/python:${PATH}\r\n",
      "export PHONETISAURUS=\"/tmp/output/opt/kaldi/tools/phonetisaurus-g2p\"\r\n",
      "export PATH=\"$PATH:${PHONETISAURUS}:${PHONETISAURUS}/src/scripts\"\r\n"
     ]
    }
   ],
   "source": [
    "!cat $KALDI_ROOT/tools/env.sh"
   ]
  },
  {
   "cell_type": "code",
   "execution_count": 21,
   "id": "insured-metallic",
   "metadata": {
    "execution": {
     "iopub.execute_input": "2021-06-22T14:13:49.567395Z",
     "iopub.status.busy": "2021-06-22T14:13:49.566717Z",
     "iopub.status.idle": "2021-06-22T14:13:49.571980Z",
     "shell.execute_reply": "2021-06-22T14:13:49.571439Z",
     "shell.execute_reply.started": "2021-06-22T12:02:09.80754Z"
    },
    "papermill": {
     "duration": 0.042416,
     "end_time": "2021-06-22T14:13:49.572115",
     "exception": false,
     "start_time": "2021-06-22T14:13:49.529699",
     "status": "completed"
    },
    "tags": []
   },
   "outputs": [],
   "source": [
    "PHONETISAURUS = \"/tmp/output/opt/kaldi/tools/phonetisaurus-g2p\"\n",
    "TOOLS_PATH = f'/opt/kaldi/tools/python:{PHONETISAURUS}:{PHONETISAURUS}/src/scripts'"
   ]
  },
  {
   "cell_type": "code",
   "execution_count": 22,
   "id": "unavailable-memphis",
   "metadata": {
    "execution": {
     "iopub.execute_input": "2021-06-22T14:13:49.644088Z",
     "iopub.status.busy": "2021-06-22T14:13:49.643424Z",
     "iopub.status.idle": "2021-06-22T14:13:49.648718Z",
     "shell.execute_reply": "2021-06-22T14:13:49.649183Z",
     "shell.execute_reply.started": "2021-06-22T12:03:04.119662Z"
    },
    "papermill": {
     "duration": 0.042674,
     "end_time": "2021-06-22T14:13:49.649360",
     "exception": false,
     "start_time": "2021-06-22T14:13:49.606686",
     "status": "completed"
    },
    "tags": []
   },
   "outputs": [
    {
     "name": "stdout",
     "output_type": "stream",
     "text": [
      "env: PATH=f\"/opt/kaldi/egs/usels/s5/utils/:/opt/kaldi/tools/openfst/bin:/opt/kaldi/egs/usels/s5:/opt/conda/bin:/usr/local/sbin:/usr/local/bin:/usr/sbin:/usr/bin:/sbin:/bin:/opt/kaldi/src/bin:/opt/kaldi/src/chainbin:/opt/kaldi/src/featbin:/opt/kaldi/src/fgmmbin:/opt/kaldi/src/fstbin:/opt/kaldi/src/gmmbin:/opt/kaldi/src/ivectorbin:/opt/kaldi/src/kwsbin:/opt/kaldi/src/latbin:/opt/kaldi/src/lmbin:/opt/kaldi/src/nnet2bin:/opt/kaldi/src/nnet3bin:/opt/kaldi/src/nnetbin:/opt/kaldi/src/online2bin:/opt/kaldi/src/onlinebin:/opt/kaldi/src/rnnlmbin:/opt/kaldi/src/sgmm2bin:/opt/kaldi/src/sgmmbin:/opt/kaldi/src/tfrnnlmbin:/opt/kaldi/src/cudadecoderbin:/opt/kaldi/tools/python:/tmp/output/opt/kaldi/tools/phonetisaurus-g2p:/tmp/output/opt/kaldi/tools/phonetisaurus-g2p/src/scripts\"\n"
     ]
    }
   ],
   "source": [
    "%env PATH = f\"{WSJ_PATH}:{KALDI_PATHS}:{TOOLS_PATH}\""
   ]
  },
  {
   "cell_type": "code",
   "execution_count": 23,
   "id": "miniature-being",
   "metadata": {
    "execution": {
     "iopub.execute_input": "2021-06-22T14:13:49.721710Z",
     "iopub.status.busy": "2021-06-22T14:13:49.721016Z",
     "iopub.status.idle": "2021-06-22T14:13:50.441184Z",
     "shell.execute_reply": "2021-06-22T14:13:50.441709Z",
     "shell.execute_reply.started": "2021-06-22T12:16:15.76424Z"
    },
    "papermill": {
     "duration": 0.757862,
     "end_time": "2021-06-22T14:13:50.441912",
     "exception": false,
     "start_time": "2021-06-22T14:13:49.684050",
     "status": "completed"
    },
    "tags": []
   },
   "outputs": [
    {
     "name": "stdout",
     "output_type": "stream",
     "text": [
      "# you can change cmd.sh depending on what type of queue you are using.\r\n",
      "# If you have no queueing system and want to run on a local machine, you\r\n",
      "# can change all instances 'queue.pl' to run.pl (but be careful and run\r\n",
      "# commands one by one: most recipes will exhaust the memory on your\r\n",
      "# machine).  queue.pl works with GridEngine (qsub).  slurm.pl works\r\n",
      "# with slurm.  Different queues are configured differently, with different\r\n",
      "# queue names and different ways of specifying things like memory;\r\n",
      "# to account for these differences you can create and edit the file\r\n",
      "# conf/queue.conf to match your queue's configuration.  Search for\r\n",
      "# conf/queue.conf in http://kaldi-asr.org/doc/queue.html for more information,\r\n",
      "# or search for the string 'default_config' in utils/queue.pl or utils/slurm.pl.\r\n",
      "\r\n",
      "export train_cmd=queue.pl\r\n",
      "export decode_cmd=\"queue.pl --mem 2G\"\r\n",
      "# the use of cuda_cmd is deprecated, used only in 'nnet1',\r\n",
      "export cuda_cmd=\"queue.pl --gpu 1\"\r\n",
      "\r\n",
      "if [ \"$(hostname -d)\" == \"fit.vutbr.cz\" ]; then\r\n",
      "  queue_conf=$HOME/queue_conf/default.conf # see example /homes/kazi/iveselyk/queue_conf/default.conf,\r\n",
      "  export train_cmd=\"queue.pl --config $queue_conf --mem 2G --matylda 0.2\"\r\n",
      "  export decode_cmd=\"queue.pl --config $queue_conf --mem 3G --matylda 0.1\"\r\n",
      "  export cuda_cmd=\"queue.pl --config $queue_conf --gpu 1 --mem 10G --tmp 40G\"\r\n",
      "fi\r\n"
     ]
    }
   ],
   "source": [
    "!cat ../../wsj/s5/cmd.sh"
   ]
  },
  {
   "cell_type": "code",
   "execution_count": 24,
   "id": "genuine-bride",
   "metadata": {
    "execution": {
     "iopub.execute_input": "2021-06-22T14:13:50.515524Z",
     "iopub.status.busy": "2021-06-22T14:13:50.514905Z",
     "iopub.status.idle": "2021-06-22T14:13:50.523038Z",
     "shell.execute_reply": "2021-06-22T14:13:50.522327Z",
     "shell.execute_reply.started": "2021-06-22T12:25:36.054695Z"
    },
    "papermill": {
     "duration": 0.045899,
     "end_time": "2021-06-22T14:13:50.523222",
     "exception": false,
     "start_time": "2021-06-22T14:13:50.477323",
     "status": "completed"
    },
    "tags": []
   },
   "outputs": [
    {
     "name": "stdout",
     "output_type": "stream",
     "text": [
      "env: train_cmd=run.pl\n",
      "env: decode_cmd=\"run.pl --mem 2G\"\n"
     ]
    }
   ],
   "source": [
    "%env train_cmd=run.pl\n",
    "%env decode_cmd=\"run.pl --mem 2G\""
   ]
  },
  {
   "cell_type": "code",
   "execution_count": 25,
   "id": "packed-title",
   "metadata": {
    "execution": {
     "iopub.execute_input": "2021-06-22T14:13:50.606600Z",
     "iopub.status.busy": "2021-06-22T14:13:50.603023Z",
     "iopub.status.idle": "2021-06-22T14:13:53.494324Z",
     "shell.execute_reply": "2021-06-22T14:13:53.493704Z",
     "shell.execute_reply.started": "2021-06-22T12:25:39.332426Z"
    },
    "papermill": {
     "duration": 2.935501,
     "end_time": "2021-06-22T14:13:53.494474",
     "exception": false,
     "start_time": "2021-06-22T14:13:50.558973",
     "status": "completed"
    },
    "tags": []
   },
   "outputs": [],
   "source": [
    "!ln -s ../../wsj/s5/cmd.sh\n",
    "!ln -s ../../wsj/s5/path.sh\n",
    "!ln -s utils/queue.pl\n",
    "!ln -s utils/run.pl"
   ]
  },
  {
   "cell_type": "code",
   "execution_count": 26,
   "id": "ranking-portugal",
   "metadata": {
    "execution": {
     "iopub.execute_input": "2021-06-22T14:13:53.570207Z",
     "iopub.status.busy": "2021-06-22T14:13:53.569548Z",
     "iopub.status.idle": "2021-06-22T14:13:54.295860Z",
     "shell.execute_reply": "2021-06-22T14:13:54.295185Z",
     "shell.execute_reply.started": "2021-06-22T12:25:11.355403Z"
    },
    "papermill": {
     "duration": 0.766188,
     "end_time": "2021-06-22T14:13:54.296006",
     "exception": false,
     "start_time": "2021-06-22T14:13:53.529818",
     "status": "completed"
    },
    "tags": []
   },
   "outputs": [],
   "source": [
    "!rm *.pl"
   ]
  },
  {
   "cell_type": "markdown",
   "id": "lasting-surface",
   "metadata": {
    "papermill": {
     "duration": 0.034888,
     "end_time": "2021-06-22T14:13:54.366196",
     "exception": false,
     "start_time": "2021-06-22T14:13:54.331308",
     "status": "completed"
    },
    "tags": []
   },
   "source": [
    "## Data prep"
   ]
  },
  {
   "cell_type": "code",
   "execution_count": 27,
   "id": "flexible-worship",
   "metadata": {
    "execution": {
     "iopub.execute_input": "2021-06-22T14:13:54.449236Z",
     "iopub.status.busy": "2021-06-22T14:13:54.448072Z",
     "iopub.status.idle": "2021-06-22T14:14:10.331692Z",
     "shell.execute_reply": "2021-06-22T14:14:10.331084Z",
     "shell.execute_reply.started": "2021-06-22T12:10:48.153674Z"
    },
    "papermill": {
     "duration": 15.929565,
     "end_time": "2021-06-22T14:14:10.331907",
     "exception": false,
     "start_time": "2021-06-22T14:13:54.402342",
     "status": "completed"
    },
    "tags": []
   },
   "outputs": [
    {
     "name": "stdout",
     "output_type": "stream",
     "text": [
      "utils/validate_data_dir.sh: Successfully validated data-directory data/test-other\r\n",
      "local/data_prep.sh: successfully prepared data in data/test-other\r\n",
      "utils/validate_data_dir.sh: Successfully validated data-directory data/test-clean\r\n",
      "local/data_prep.sh: successfully prepared data in data/test-clean\r\n"
     ]
    }
   ],
   "source": [
    "!local/data_prep.sh /kaggle/input/librispeech-test-clean-and-other/LibriSpeech/test-other data/test-other\n",
    "!local/data_prep.sh /kaggle/input/librispeech-test-clean-and-other/LibriSpeech/test-clean data/test-clean"
   ]
  },
  {
   "cell_type": "code",
   "execution_count": 28,
   "id": "ready-upper",
   "metadata": {
    "execution": {
     "iopub.execute_input": "2021-06-22T14:14:10.416703Z",
     "iopub.status.busy": "2021-06-22T14:14:10.416016Z",
     "iopub.status.idle": "2021-06-22T14:14:12.462076Z",
     "shell.execute_reply": "2021-06-22T14:14:12.461507Z",
     "shell.execute_reply.started": "2021-06-22T12:12:48.716774Z"
    },
    "papermill": {
     "duration": 2.092405,
     "end_time": "2021-06-22T14:14:12.462234",
     "exception": false,
     "start_time": "2021-06-22T14:14:10.369829",
     "status": "completed"
    },
    "tags": []
   },
   "outputs": [
    {
     "name": "stdout",
     "output_type": "stream",
     "text": [
      "utils/copy_data_dir.sh: copied data from data/test-clean to data/test-clean_hires\r\n",
      "utils/validate_data_dir.sh: Successfully validated data-directory data/test-clean_hires\r\n",
      "utils/copy_data_dir.sh: copied data from data/test-other to data/test-other_hires\r\n",
      "utils/validate_data_dir.sh: Successfully validated data-directory data/test-other_hires\r\n"
     ]
    }
   ],
   "source": [
    "!utils/copy_data_dir.sh data/test-clean data/test-clean_hires\n",
    "!utils/copy_data_dir.sh data/test-other data/test-other_hires"
   ]
  },
  {
   "cell_type": "code",
   "execution_count": 29,
   "id": "developed-midnight",
   "metadata": {
    "execution": {
     "iopub.execute_input": "2021-06-22T14:14:12.547503Z",
     "iopub.status.busy": "2021-06-22T14:14:12.546775Z",
     "iopub.status.idle": "2021-06-22T14:14:13.267895Z",
     "shell.execute_reply": "2021-06-22T14:14:13.267308Z",
     "shell.execute_reply.started": "2021-06-22T12:20:32.826362Z"
    },
    "papermill": {
     "duration": 0.76755,
     "end_time": "2021-06-22T14:14:13.268044",
     "exception": false,
     "start_time": "2021-06-22T14:14:12.500494",
     "status": "completed"
    },
    "tags": []
   },
   "outputs": [],
   "source": [
    "!ln -s utils/parse_options.sh"
   ]
  },
  {
   "cell_type": "code",
   "execution_count": 30,
   "id": "rising-section",
   "metadata": {
    "execution": {
     "iopub.execute_input": "2021-06-22T14:14:13.357998Z",
     "iopub.status.busy": "2021-06-22T14:14:13.357054Z",
     "iopub.status.idle": "2021-06-22T14:15:45.892178Z",
     "shell.execute_reply": "2021-06-22T14:15:45.891292Z",
     "shell.execute_reply.started": "2021-06-22T12:25:44.313451Z"
    },
    "papermill": {
     "duration": 92.586642,
     "end_time": "2021-06-22T14:15:45.892337",
     "exception": false,
     "start_time": "2021-06-22T14:14:13.305695",
     "status": "completed"
    },
    "tags": []
   },
   "outputs": [
    {
     "name": "stdout",
     "output_type": "stream",
     "text": [
      "steps/make_mfcc.sh --nj 20 --mfcc-config conf/mfcc_hires.conf --cmd run.pl data/test-clean_hires\r\n",
      "utils/validate_data_dir.sh: Successfully validated data-directory data/test-clean_hires\r\n",
      "steps/make_mfcc.sh: [info]: no segments file exists: assuming wav.scp indexed by utterance.\r\n",
      "steps/make_mfcc.sh: Succeeded creating MFCC features for test-clean_hires\r\n",
      "steps/compute_cmvn_stats.sh data/test-clean_hires\r\n",
      "Succeeded creating CMVN stats for test-clean_hires\r\n",
      "fix_data_dir.sh: kept all 2620 utterances.\r\n",
      "fix_data_dir.sh: old files are kept in data/test-clean_hires/.backup\r\n",
      "steps/make_mfcc.sh --nj 20 --mfcc-config conf/mfcc_hires.conf --cmd run.pl data/test-other_hires\r\n",
      "utils/validate_data_dir.sh: Successfully validated data-directory data/test-other_hires\r\n",
      "steps/make_mfcc.sh: [info]: no segments file exists: assuming wav.scp indexed by utterance.\r\n",
      "steps/make_mfcc.sh: Succeeded creating MFCC features for test-other_hires\r\n",
      "steps/compute_cmvn_stats.sh data/test-other_hires\r\n",
      "Succeeded creating CMVN stats for test-other_hires\r\n",
      "fix_data_dir.sh: kept all 2939 utterances.\r\n",
      "fix_data_dir.sh: old files are kept in data/test-other_hires/.backup\r\n"
     ]
    }
   ],
   "source": [
    "!steps/make_mfcc.sh --nj 20 --mfcc-config conf/mfcc_hires.conf --cmd \"$train_cmd\" data/test-clean_hires\n",
    "!steps/compute_cmvn_stats.sh data/test-clean_hires\n",
    "!utils/fix_data_dir.sh data/test-clean_hires\n",
    "!steps/make_mfcc.sh --nj 20 --mfcc-config conf/mfcc_hires.conf --cmd \"$train_cmd\" data/test-other_hires\n",
    "!steps/compute_cmvn_stats.sh data/test-other_hires\n",
    "!utils/fix_data_dir.sh data/test-other_hires\n"
   ]
  },
  {
   "cell_type": "markdown",
   "id": "rapid-kruger",
   "metadata": {
    "papermill": {
     "duration": 0.044085,
     "end_time": "2021-06-22T14:15:45.979032",
     "exception": false,
     "start_time": "2021-06-22T14:15:45.934947",
     "status": "completed"
    },
    "tags": []
   },
   "source": [
    "## Extract i-vectors"
   ]
  },
  {
   "cell_type": "code",
   "execution_count": 31,
   "id": "specified-friendly",
   "metadata": {
    "execution": {
     "iopub.execute_input": "2021-06-22T14:15:46.076952Z",
     "iopub.status.busy": "2021-06-22T14:15:46.076238Z",
     "iopub.status.idle": "2021-06-22T14:15:47.511666Z",
     "shell.execute_reply": "2021-06-22T14:15:47.512175Z",
     "shell.execute_reply.started": "2021-06-22T12:38:42.072847Z"
    },
    "papermill": {
     "duration": 1.48985,
     "end_time": "2021-06-22T14:15:47.512359",
     "exception": false,
     "start_time": "2021-06-22T14:15:46.022509",
     "status": "completed"
    },
    "tags": []
   },
   "outputs": [],
   "source": [
    "!ln -s /kaggle/input/kaldi-librispeech-model/exp/nnet3_cleaned/ exp/nnet3_cleaned\n",
    "!ln -s /kaggle/input/kaldi-librispeech-model/exp/chain_cleaned/ exp/chain_cleaned"
   ]
  },
  {
   "cell_type": "code",
   "execution_count": 32,
   "id": "entitled-mortality",
   "metadata": {
    "execution": {
     "iopub.execute_input": "2021-06-22T14:15:47.615030Z",
     "iopub.status.busy": "2021-06-22T14:15:47.609061Z",
     "iopub.status.idle": "2021-06-22T14:16:59.739560Z",
     "shell.execute_reply": "2021-06-22T14:16:59.738943Z",
     "shell.execute_reply.started": "2021-06-22T12:44:16.329652Z"
    },
    "papermill": {
     "duration": 72.185223,
     "end_time": "2021-06-22T14:16:59.739799",
     "exception": false,
     "start_time": "2021-06-22T14:15:47.554576",
     "status": "completed"
    },
    "tags": []
   },
   "outputs": [
    {
     "name": "stdout",
     "output_type": "stream",
     "text": [
      "env: nspk=$(wc -l <data/test-clean_hires/spk2utt)\n",
      "steps/online/nnet2/extract_ivectors_online.sh --cmd run.pl --nj $(wc -l <data/test-clean_hires/spk2utt) data/test-clean_hires exp/nnet3_cleaned/extractor exp/nnet3_cleaned_out/ivectors_test-clean_hires\r\n",
      "steps/online/nnet2/extract_ivectors_online.sh: extracting iVectors\r\n",
      "steps/online/nnet2/extract_ivectors_online.sh: combining iVectors across jobs\r\n",
      "steps/online/nnet2/extract_ivectors_online.sh: done extracting (online) iVectors to exp/nnet3_cleaned_out/ivectors_test-clean_hires using the extractor in exp/nnet3_cleaned/extractor.\r\n",
      "env: nspk=$(wc -l <data/test-other_hires/spk2utt)\n",
      "steps/online/nnet2/extract_ivectors_online.sh --cmd run.pl --nj $(wc -l <data/test-other_hires/spk2utt) data/test-other_hires exp/nnet3_cleaned/extractor exp/nnet3_cleaned_out/ivectors_test-other_hires\r\n",
      "steps/online/nnet2/extract_ivectors_online.sh: extracting iVectors\r\n",
      "steps/online/nnet2/extract_ivectors_online.sh: combining iVectors across jobs\r\n",
      "steps/online/nnet2/extract_ivectors_online.sh: done extracting (online) iVectors to exp/nnet3_cleaned_out/ivectors_test-other_hires using the extractor in exp/nnet3_cleaned/extractor.\r\n"
     ]
    }
   ],
   "source": [
    "%env nspk=$(wc -l <data/test-clean_hires/spk2utt)\n",
    "!steps/online/nnet2/extract_ivectors_online.sh --cmd \"$train_cmd\" --nj \"${nspk}\" data/test-clean_hires exp/nnet3_cleaned/extractor exp/nnet3_cleaned_out/ivectors_test-clean_hires\n",
    "%env nspk=$(wc -l <data/test-other_hires/spk2utt)\n",
    "!steps/online/nnet2/extract_ivectors_online.sh --cmd \"$train_cmd\" --nj \"${nspk}\" data/test-other_hires exp/nnet3_cleaned/extractor exp/nnet3_cleaned_out/ivectors_test-other_hires"
   ]
  },
  {
   "cell_type": "markdown",
   "id": "silver-public",
   "metadata": {
    "papermill": {
     "duration": 0.046207,
     "end_time": "2021-06-22T14:16:59.831628",
     "exception": false,
     "start_time": "2021-06-22T14:16:59.785421",
     "status": "completed"
    },
    "tags": []
   },
   "source": [
    "## Build decoding graph"
   ]
  },
  {
   "cell_type": "markdown",
   "id": "federal-version",
   "metadata": {
    "papermill": {
     "duration": 0.045525,
     "end_time": "2021-06-22T14:16:59.922946",
     "exception": false,
     "start_time": "2021-06-22T14:16:59.877421",
     "status": "completed"
    },
    "tags": []
   },
   "source": [
    "Just linking this directory won't work, as it expects to be able to write to it (Kaldi scripts, smh)"
   ]
  },
  {
   "cell_type": "code",
   "execution_count": 33,
   "id": "threaded-dressing",
   "metadata": {
    "execution": {
     "iopub.execute_input": "2021-06-22T14:17:00.025196Z",
     "iopub.status.busy": "2021-06-22T14:17:00.020994Z",
     "iopub.status.idle": "2021-06-22T14:17:03.887451Z",
     "shell.execute_reply": "2021-06-22T14:17:03.886898Z"
    },
    "papermill": {
     "duration": 3.919513,
     "end_time": "2021-06-22T14:17:03.887608",
     "exception": false,
     "start_time": "2021-06-22T14:16:59.968095",
     "status": "completed"
    },
    "tags": []
   },
   "outputs": [],
   "source": [
    "!cp -r /kaggle/input/kaldi-librispeech-model/data/lang_test_tgsmall data"
   ]
  },
  {
   "cell_type": "code",
   "execution_count": 34,
   "id": "wicked-chair",
   "metadata": {
    "execution": {
     "iopub.execute_input": "2021-06-22T14:17:03.993698Z",
     "iopub.status.busy": "2021-06-22T14:17:03.989318Z",
     "iopub.status.idle": "2021-06-22T14:20:06.870852Z",
     "shell.execute_reply": "2021-06-22T14:20:06.871384Z"
    },
    "papermill": {
     "duration": 182.936512,
     "end_time": "2021-06-22T14:20:06.871580",
     "exception": false,
     "start_time": "2021-06-22T14:17:03.935068",
     "status": "completed"
    },
    "tags": []
   },
   "outputs": [
    {
     "name": "stdout",
     "output_type": "stream",
     "text": [
      "env: dir=exp/chain_cleaned/tdnn_1d_sp\n",
      "env: graph_dir=exp/chain_cleaned_out/graph_tgsmall\n",
      "tree-info exp/chain_cleaned/tdnn_1d_sp/tree \r\n",
      "tree-info exp/chain_cleaned/tdnn_1d_sp/tree \r\n",
      "fstpushspecial \r\n",
      "fstminimizeencoded \r\n",
      "fstdeterminizestar --use-log=true \r\n",
      "fsttablecompose data/lang_test_tgsmall/L_disambig.fst data/lang_test_tgsmall/G.fst \r\n",
      "fstisstochastic data/lang_test_tgsmall/tmp/LG.fst \r\n",
      "-0.0459745 -0.0466771\r\n",
      "[info]: LG not stochastic.\r\n",
      "fstcomposecontext --context-size=2 --central-position=1 --read-disambig-syms=data/lang_test_tgsmall/phones/disambig.int --write-disambig-syms=data/lang_test_tgsmall/tmp/disambig_ilabels_2_1.int data/lang_test_tgsmall/tmp/ilabels_2_1.113735 data/lang_test_tgsmall/tmp/LG.fst \r\n",
      "fstisstochastic data/lang_test_tgsmall/tmp/CLG_2_1.fst \r\n",
      "-0.0459745 -0.0466771\r\n",
      "[info]: CLG not stochastic.\r\n",
      "make-h-transducer --disambig-syms-out=exp/chain_cleaned_out/graph_tgsmall/disambig_tid.int --transition-scale=1.0 data/lang_test_tgsmall/tmp/ilabels_2_1 exp/chain_cleaned/tdnn_1d_sp/tree exp/chain_cleaned/tdnn_1d_sp/final.mdl \r\n",
      "fstdeterminizestar --use-log=true \r\n",
      "fsttablecompose exp/chain_cleaned_out/graph_tgsmall/Ha.fst 'fstrmsymbols --remove-arcs=true --apply-to-output=true data/lang_test_tgsmall/oov.int data/lang_test_tgsmall/tmp/CLG_2_1.fst|' \r\n",
      "fstminimizeencoded \r\n",
      "fstrmepslocal \r\n",
      "fstrmsymbols exp/chain_cleaned_out/graph_tgsmall/disambig_tid.int \r\n",
      "fstrmsymbols --remove-arcs=true --apply-to-output=true data/lang_test_tgsmall/oov.int data/lang_test_tgsmall/tmp/CLG_2_1.fst \r\n",
      "fstisstochastic exp/chain_cleaned_out/graph_tgsmall/HCLGa.fst \r\n",
      "3.39453 -0.209239\r\n",
      "HCLGa is not stochastic\r\n",
      "add-self-loops --self-loop-scale=1.0 --reorder=true exp/chain_cleaned/tdnn_1d_sp/final.mdl exp/chain_cleaned_out/graph_tgsmall/HCLGa.fst \r\n",
      "fstisstochastic exp/chain_cleaned_out/graph_tgsmall/HCLG.fst \r\n",
      "3.05078 -0.127788\r\n",
      "[info]: final HCLG is not stochastic.\r\n"
     ]
    }
   ],
   "source": [
    "%env dir=exp/chain_cleaned/tdnn_1d_sp\n",
    "%env graph_dir=exp/chain_cleaned_out/graph_tgsmall\n",
    "!utils/mkgraph.sh --self-loop-scale 1.0 --remove-oov data/lang_test_tgsmall $dir $graph_dir"
   ]
  },
  {
   "cell_type": "markdown",
   "id": "nutritional-vietnamese",
   "metadata": {
    "papermill": {
     "duration": 0.050878,
     "end_time": "2021-06-22T14:20:06.973853",
     "exception": false,
     "start_time": "2021-06-22T14:20:06.922975",
     "status": "completed"
    },
    "tags": []
   },
   "source": [
    "## "
   ]
  }
 ],
 "metadata": {
  "kernelspec": {
   "display_name": "Python 3",
   "language": "python",
   "name": "python3"
  },
  "language_info": {
   "codemirror_mode": {
    "name": "ipython",
    "version": 3
   },
   "file_extension": ".py",
   "mimetype": "text/x-python",
   "name": "python",
   "nbconvert_exporter": "python",
   "pygments_lexer": "ipython3",
   "version": "3.7.10"
  },
  "papermill": {
   "default_parameters": {},
   "duration": 517.949937,
   "end_time": "2021-06-22T14:20:07.937513",
   "environment_variables": {},
   "exception": null,
   "input_path": "__notebook__.ipynb",
   "output_path": "__notebook__.ipynb",
   "parameters": {},
   "start_time": "2021-06-22T14:11:29.987576",
   "version": "2.3.3"
  }
 },
 "nbformat": 4,
 "nbformat_minor": 5
}
