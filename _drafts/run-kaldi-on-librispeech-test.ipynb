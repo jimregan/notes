{
 "cells": [
  {
   "cell_type": "markdown",
   "id": "sexual-expense",
   "metadata": {
    "papermill": {
     "duration": 0.033767,
     "end_time": "2021-06-22T23:35:30.620753",
     "exception": false,
     "start_time": "2021-06-22T23:35:30.586986",
     "status": "completed"
    },
    "tags": []
   },
   "source": [
    "## Unpack Kaldi"
   ]
  },
  {
   "cell_type": "code",
   "execution_count": 1,
   "id": "partial-boston",
   "metadata": {
    "_cell_guid": "b1076dfc-b9ad-4769-8c92-a6c4dae69d19",
    "_uuid": "8f2839f25d086af736a60e9eeb907d3b93b6e0e5",
    "execution": {
     "iopub.execute_input": "2021-06-22T23:35:30.698021Z",
     "iopub.status.busy": "2021-06-22T23:35:30.697431Z",
     "iopub.status.idle": "2021-06-22T23:35:30.701343Z",
     "shell.execute_reply": "2021-06-22T23:35:30.701779Z",
     "shell.execute_reply.started": "2021-06-22T11:54:50.153353Z"
    },
    "papermill": {
     "duration": 0.045913,
     "end_time": "2021-06-22T23:35:30.702038",
     "exception": false,
     "start_time": "2021-06-22T23:35:30.656125",
     "status": "completed"
    },
    "tags": []
   },
   "outputs": [
    {
     "name": "stdout",
     "output_type": "stream",
     "text": [
      "/opt\n"
     ]
    }
   ],
   "source": [
    "%cd /opt"
   ]
  },
  {
   "cell_type": "code",
   "execution_count": 2,
   "id": "hydraulic-youth",
   "metadata": {
    "execution": {
     "iopub.execute_input": "2021-06-22T23:35:30.762548Z",
     "iopub.status.busy": "2021-06-22T23:35:30.761463Z",
     "iopub.status.idle": "2021-06-22T23:36:05.156775Z",
     "shell.execute_reply": "2021-06-22T23:36:05.156250Z",
     "shell.execute_reply.started": "2021-06-22T11:54:53.255442Z"
    },
    "papermill": {
     "duration": 34.428567,
     "end_time": "2021-06-22T23:36:05.156914",
     "exception": false,
     "start_time": "2021-06-22T23:35:30.728347",
     "status": "completed"
    },
    "tags": []
   },
   "outputs": [],
   "source": [
    "%%capture\n",
    "!tar xvf /kaggle/input/extract-prebuilt-kaldi-from-docker/kaldi.tar"
   ]
  },
  {
   "cell_type": "code",
   "execution_count": 3,
   "id": "comparative-budapest",
   "metadata": {
    "execution": {
     "iopub.execute_input": "2021-06-22T23:36:05.215737Z",
     "iopub.status.busy": "2021-06-22T23:36:05.215094Z",
     "iopub.status.idle": "2021-06-22T23:36:05.218449Z",
     "shell.execute_reply": "2021-06-22T23:36:05.217933Z",
     "shell.execute_reply.started": "2021-06-22T11:55:40.60018Z"
    },
    "papermill": {
     "duration": 0.034229,
     "end_time": "2021-06-22T23:36:05.218596",
     "exception": false,
     "start_time": "2021-06-22T23:36:05.184367",
     "status": "completed"
    },
    "tags": []
   },
   "outputs": [],
   "source": [
    "import os\n",
    "os.environ['LD_LIBRARY_PATH'] = '/opt/conda/lib:/opt/kaldi/tools/openfst-1.6.7/lib:/opt/kaldi/src/lib:'\n",
    "EXISTING_PATH = os.environ['PATH']"
   ]
  },
  {
   "cell_type": "code",
   "execution_count": 4,
   "id": "amino-miller",
   "metadata": {
    "execution": {
     "iopub.execute_input": "2021-06-22T23:36:05.279435Z",
     "iopub.status.busy": "2021-06-22T23:36:05.278799Z",
     "iopub.status.idle": "2021-06-22T23:36:05.284747Z",
     "shell.execute_reply": "2021-06-22T23:36:05.284034Z"
    },
    "papermill": {
     "duration": 0.038421,
     "end_time": "2021-06-22T23:36:05.284928",
     "exception": false,
     "start_time": "2021-06-22T23:36:05.246507",
     "status": "completed"
    },
    "tags": []
   },
   "outputs": [
    {
     "name": "stdout",
     "output_type": "stream",
     "text": [
      "/\n"
     ]
    }
   ],
   "source": [
    "%cd /\n"
   ]
  },
  {
   "cell_type": "code",
   "execution_count": 5,
   "id": "american-status",
   "metadata": {
    "execution": {
     "iopub.execute_input": "2021-06-22T23:36:05.349085Z",
     "iopub.status.busy": "2021-06-22T23:36:05.348177Z",
     "iopub.status.idle": "2021-06-22T23:36:36.310172Z",
     "shell.execute_reply": "2021-06-22T23:36:36.309578Z"
    },
    "papermill": {
     "duration": 30.997298,
     "end_time": "2021-06-22T23:36:36.310316",
     "exception": false,
     "start_time": "2021-06-22T23:36:05.313018",
     "status": "completed"
    },
    "tags": []
   },
   "outputs": [],
   "source": [
    "%%capture\n",
    "!tar xvf /kaggle/input/extract-cuda-from-kaldi-docker/cuda.tar"
   ]
  },
  {
   "cell_type": "code",
   "execution_count": 6,
   "id": "derived-orientation",
   "metadata": {
    "execution": {
     "iopub.execute_input": "2021-06-22T23:36:39.460026Z",
     "iopub.status.busy": "2021-06-22T23:36:39.459279Z",
     "iopub.status.idle": "2021-06-22T23:36:39.462488Z",
     "shell.execute_reply": "2021-06-22T23:36:39.462024Z",
     "shell.execute_reply.started": "2021-06-22T13:29:47.085695Z"
    },
    "papermill": {
     "duration": 0.036552,
     "end_time": "2021-06-22T23:36:39.462644",
     "exception": false,
     "start_time": "2021-06-22T23:36:39.426092",
     "status": "completed"
    },
    "tags": []
   },
   "outputs": [],
   "source": [
    "import os\n",
    "os.environ['LD_LIBRARY_PATH'] = f'{os.environ[\"LD_LIBRARY_PATH\"]}:/usr/local/cuda-10.0/targets/x86_64-linux/lib/'"
   ]
  },
  {
   "cell_type": "code",
   "execution_count": 7,
   "id": "pacific-gathering",
   "metadata": {
    "execution": {
     "iopub.execute_input": "2021-06-22T23:36:39.522289Z",
     "iopub.status.busy": "2021-06-22T23:36:39.521426Z",
     "iopub.status.idle": "2021-06-22T23:36:39.526304Z",
     "shell.execute_reply": "2021-06-22T23:36:39.525578Z",
     "shell.execute_reply.started": "2021-06-22T11:55:40.610869Z"
    },
    "papermill": {
     "duration": 0.037492,
     "end_time": "2021-06-22T23:36:39.526473",
     "exception": false,
     "start_time": "2021-06-22T23:36:39.488981",
     "status": "completed"
    },
    "tags": []
   },
   "outputs": [
    {
     "name": "stdout",
     "output_type": "stream",
     "text": [
      "/opt/kaldi/egs\n"
     ]
    }
   ],
   "source": [
    "%cd /opt/kaldi/egs"
   ]
  },
  {
   "cell_type": "markdown",
   "id": "downtown-parent",
   "metadata": {
    "papermill": {
     "duration": 0.047146,
     "end_time": "2021-06-22T23:36:39.616762",
     "exception": false,
     "start_time": "2021-06-22T23:36:39.569616",
     "status": "completed"
    },
    "tags": []
   },
   "source": [
    "## Install flac"
   ]
  },
  {
   "cell_type": "code",
   "execution_count": 8,
   "id": "expanded-bulgarian",
   "metadata": {
    "execution": {
     "iopub.execute_input": "2021-06-22T23:36:39.713954Z",
     "iopub.status.busy": "2021-06-22T23:36:39.713359Z",
     "iopub.status.idle": "2021-06-22T23:36:58.801915Z",
     "shell.execute_reply": "2021-06-22T23:36:58.801280Z",
     "shell.execute_reply.started": "2021-06-22T12:06:36.222984Z"
    },
    "papermill": {
     "duration": 19.140195,
     "end_time": "2021-06-22T23:36:58.802050",
     "exception": false,
     "start_time": "2021-06-22T23:36:39.661855",
     "status": "completed"
    },
    "tags": []
   },
   "outputs": [],
   "source": [
    "%%capture\n",
    "!apt install -y flac"
   ]
  },
  {
   "cell_type": "markdown",
   "id": "dress-outreach",
   "metadata": {
    "papermill": {
     "duration": 0.026089,
     "end_time": "2021-06-22T23:36:58.854749",
     "exception": false,
     "start_time": "2021-06-22T23:36:58.828660",
     "status": "completed"
    },
    "tags": []
   },
   "source": [
    "## Create a work directory"
   ]
  },
  {
   "cell_type": "code",
   "execution_count": 9,
   "id": "referenced-rally",
   "metadata": {
    "execution": {
     "iopub.execute_input": "2021-06-22T23:36:58.916900Z",
     "iopub.status.busy": "2021-06-22T23:36:58.916338Z",
     "iopub.status.idle": "2021-06-22T23:36:59.640095Z",
     "shell.execute_reply": "2021-06-22T23:36:59.640762Z",
     "shell.execute_reply.started": "2021-06-22T11:55:40.659251Z"
    },
    "papermill": {
     "duration": 0.759881,
     "end_time": "2021-06-22T23:36:59.640978",
     "exception": false,
     "start_time": "2021-06-22T23:36:58.881097",
     "status": "completed"
    },
    "tags": []
   },
   "outputs": [
    {
     "name": "stdout",
     "output_type": "stream",
     "text": [
      "/opt/kaldi/egs/usels/s5\n"
     ]
    }
   ],
   "source": [
    "!mkdir -p usels/s5\n",
    "%cd usels/s5"
   ]
  },
  {
   "cell_type": "code",
   "execution_count": 10,
   "id": "connected-necklace",
   "metadata": {
    "execution": {
     "iopub.execute_input": "2021-06-22T23:36:59.705870Z",
     "iopub.status.busy": "2021-06-22T23:36:59.701937Z",
     "iopub.status.idle": "2021-06-22T23:37:02.628755Z",
     "shell.execute_reply": "2021-06-22T23:37:02.628239Z",
     "shell.execute_reply.started": "2021-06-22T12:08:43.066673Z"
    },
    "papermill": {
     "duration": 2.960028,
     "end_time": "2021-06-22T23:37:02.628916",
     "exception": false,
     "start_time": "2021-06-22T23:36:59.668888",
     "status": "completed"
    },
    "tags": []
   },
   "outputs": [],
   "source": [
    "!mkdir /kaggle/working/data\n",
    "!mkdir /kaggle/working/exp\n",
    "!ln -s /kaggle/working/data\n",
    "!ln -s /kaggle/working/exp"
   ]
  },
  {
   "cell_type": "code",
   "execution_count": 11,
   "id": "electrical-entry",
   "metadata": {
    "execution": {
     "iopub.execute_input": "2021-06-22T23:37:02.693902Z",
     "iopub.status.busy": "2021-06-22T23:37:02.689886Z",
     "iopub.status.idle": "2021-06-22T23:37:04.885098Z",
     "shell.execute_reply": "2021-06-22T23:37:04.884634Z",
     "shell.execute_reply.started": "2021-06-22T11:55:41.459018Z"
    },
    "papermill": {
     "duration": 2.229067,
     "end_time": "2021-06-22T23:37:04.885265",
     "exception": false,
     "start_time": "2021-06-22T23:37:02.656198",
     "status": "completed"
    },
    "tags": []
   },
   "outputs": [],
   "source": [
    "!ln -s ../../wsj/s5/steps\n",
    "!ln -s ../../wsj/s5/utils\n",
    "!ln -s ../../librispeech/s5/local"
   ]
  },
  {
   "cell_type": "code",
   "execution_count": 12,
   "id": "provincial-method",
   "metadata": {
    "execution": {
     "iopub.execute_input": "2021-06-22T23:37:04.946442Z",
     "iopub.status.busy": "2021-06-22T23:37:04.945808Z",
     "iopub.status.idle": "2021-06-22T23:37:05.671520Z",
     "shell.execute_reply": "2021-06-22T23:37:05.671939Z",
     "shell.execute_reply.started": "2021-06-22T11:55:43.77028Z"
    },
    "papermill": {
     "duration": 0.758115,
     "end_time": "2021-06-22T23:37:05.672128",
     "exception": false,
     "start_time": "2021-06-22T23:37:04.914013",
     "status": "completed"
    },
    "tags": []
   },
   "outputs": [],
   "source": [
    "!mkdir conf"
   ]
  },
  {
   "cell_type": "code",
   "execution_count": 13,
   "id": "second-trustee",
   "metadata": {
    "execution": {
     "iopub.execute_input": "2021-06-22T23:37:05.729571Z",
     "iopub.status.busy": "2021-06-22T23:37:05.728922Z",
     "iopub.status.idle": "2021-06-22T23:37:05.735803Z",
     "shell.execute_reply": "2021-06-22T23:37:05.735377Z",
     "shell.execute_reply.started": "2021-06-22T11:55:44.555875Z"
    },
    "papermill": {
     "duration": 0.036147,
     "end_time": "2021-06-22T23:37:05.735930",
     "exception": false,
     "start_time": "2021-06-22T23:37:05.699783",
     "status": "completed"
    },
    "tags": []
   },
   "outputs": [
    {
     "name": "stdout",
     "output_type": "stream",
     "text": [
      "Writing conf/mfcc_hires.conf\n"
     ]
    }
   ],
   "source": [
    "%%writefile conf/mfcc_hires.conf\n",
    "# config for high-resolution MFCC features, intended for neural network training\n",
    "# Note: we keep all cepstra, so it has the same info as filterbank features,\n",
    "# but MFCC is more easily compressible (because less correlated) which is why \n",
    "# we prefer this method.\n",
    "--use-energy=false   # use average of log energy, not energy.\n",
    "--num-mel-bins=40     # similar to Google's setup.\n",
    "--num-ceps=40     # there is no dimensionality reduction.\n",
    "--low-freq=20     # low cutoff frequency for mel bins... this is high-bandwidth data, so\n",
    "                  # there might be some information at the low end.\n",
    "--high-freq=-400 # high cutoff frequently, relative to Nyquist of 8000 (=7600)"
   ]
  },
  {
   "cell_type": "markdown",
   "id": "golden-motivation",
   "metadata": {
    "papermill": {
     "duration": 0.026359,
     "end_time": "2021-06-22T23:37:05.789187",
     "exception": false,
     "start_time": "2021-06-22T23:37:05.762828",
     "status": "completed"
    },
    "tags": []
   },
   "source": [
    "## Setting up paths\n",
    "\n",
    "(In the scripts, you just source `path.sh`)"
   ]
  },
  {
   "cell_type": "code",
   "execution_count": 14,
   "id": "allied-running",
   "metadata": {
    "execution": {
     "iopub.execute_input": "2021-06-22T23:37:05.848504Z",
     "iopub.status.busy": "2021-06-22T23:37:05.847768Z",
     "iopub.status.idle": "2021-06-22T23:37:05.850440Z",
     "shell.execute_reply": "2021-06-22T23:37:05.850843Z",
     "shell.execute_reply.started": "2021-06-22T11:55:44.565547Z"
    },
    "papermill": {
     "duration": 0.034978,
     "end_time": "2021-06-22T23:37:05.851003",
     "exception": false,
     "start_time": "2021-06-22T23:37:05.816025",
     "status": "completed"
    },
    "tags": []
   },
   "outputs": [
    {
     "name": "stdout",
     "output_type": "stream",
     "text": [
      "env: KALDI_ROOT=/opt/kaldi\n"
     ]
    }
   ],
   "source": [
    "%env KALDI_ROOT=/opt/kaldi"
   ]
  },
  {
   "cell_type": "code",
   "execution_count": 15,
   "id": "acceptable-cruise",
   "metadata": {
    "execution": {
     "iopub.execute_input": "2021-06-22T23:37:05.914635Z",
     "iopub.status.busy": "2021-06-22T23:37:05.910824Z",
     "iopub.status.idle": "2021-06-22T23:37:06.632789Z",
     "shell.execute_reply": "2021-06-22T23:37:06.632298Z",
     "shell.execute_reply.started": "2021-06-22T11:55:44.577705Z"
    },
    "papermill": {
     "duration": 0.753405,
     "end_time": "2021-06-22T23:37:06.632920",
     "exception": false,
     "start_time": "2021-06-22T23:37:05.879515",
     "status": "completed"
    },
    "tags": []
   },
   "outputs": [
    {
     "name": "stdout",
     "output_type": "stream",
     "text": [
      "export KALDI_ROOT=`pwd`/../../..\r\n",
      "[ -f $KALDI_ROOT/tools/env.sh ] && . $KALDI_ROOT/tools/env.sh\r\n",
      "export PATH=$PWD/utils/:$KALDI_ROOT/tools/openfst/bin:$PWD:$PATH\r\n",
      "[ ! -f $KALDI_ROOT/tools/config/common_path.sh ] && echo >&2 \"The standard file $KALDI_ROOT/tools/config/common_path.sh is not present -> Exit!\" && exit 1\r\n",
      ". $KALDI_ROOT/tools/config/common_path.sh\r\n",
      "export LC_ALL=C\r\n"
     ]
    }
   ],
   "source": [
    "!cat ../../wsj/s5/path.sh"
   ]
  },
  {
   "cell_type": "code",
   "execution_count": 16,
   "id": "reflected-purple",
   "metadata": {
    "execution": {
     "iopub.execute_input": "2021-06-22T23:37:06.694828Z",
     "iopub.status.busy": "2021-06-22T23:37:06.693902Z",
     "iopub.status.idle": "2021-06-22T23:37:06.697296Z",
     "shell.execute_reply": "2021-06-22T23:37:06.697863Z",
     "shell.execute_reply.started": "2021-06-22T12:00:36.247262Z"
    },
    "papermill": {
     "duration": 0.037135,
     "end_time": "2021-06-22T23:37:06.698033",
     "exception": false,
     "start_time": "2021-06-22T23:37:06.660898",
     "status": "completed"
    },
    "tags": []
   },
   "outputs": [
    {
     "name": "stdout",
     "output_type": "stream",
     "text": [
      "env: LC_ALL=C\n"
     ]
    }
   ],
   "source": [
    "%env LC_ALL=C\n",
    "#PWD = !pwd\n",
    "PWD = '/opt/kaldi/egs/usels/s5'\n",
    "KALDI_ROOT = '/opt/kaldi'\n",
    "WSJ_PATH = f'{PWD}/utils/:{KALDI_ROOT}/tools/openfst/bin:{PWD}:{EXISTING_PATH}'"
   ]
  },
  {
   "cell_type": "code",
   "execution_count": 17,
   "id": "willing-merchandise",
   "metadata": {
    "execution": {
     "iopub.execute_input": "2021-06-22T23:37:06.763512Z",
     "iopub.status.busy": "2021-06-22T23:37:06.759441Z",
     "iopub.status.idle": "2021-06-22T23:37:07.491073Z",
     "shell.execute_reply": "2021-06-22T23:37:07.491526Z",
     "shell.execute_reply.started": "2021-06-22T11:57:02.231388Z"
    },
    "papermill": {
     "duration": 0.764434,
     "end_time": "2021-06-22T23:37:07.491705",
     "exception": false,
     "start_time": "2021-06-22T23:37:06.727271",
     "status": "completed"
    },
    "tags": []
   },
   "outputs": [
    {
     "name": "stdout",
     "output_type": "stream",
     "text": [
      "# we assume KALDI_ROOT is already defined\r\n",
      "[ -z \"$KALDI_ROOT\" ] && echo >&2 \"The variable KALDI_ROOT must be already defined\" && exit 1\r\n",
      "# The formatting of the path export command is intentionally weird, because\r\n",
      "# this allows for easy diff'ing\r\n",
      "export PATH=\\\r\n",
      "${KALDI_ROOT}/src/bin:\\\r\n",
      "${KALDI_ROOT}/src/chainbin:\\\r\n",
      "${KALDI_ROOT}/src/featbin:\\\r\n",
      "${KALDI_ROOT}/src/fgmmbin:\\\r\n",
      "${KALDI_ROOT}/src/fstbin:\\\r\n",
      "${KALDI_ROOT}/src/gmmbin:\\\r\n",
      "${KALDI_ROOT}/src/ivectorbin:\\\r\n",
      "${KALDI_ROOT}/src/kwsbin:\\\r\n",
      "${KALDI_ROOT}/src/latbin:\\\r\n",
      "${KALDI_ROOT}/src/lmbin:\\\r\n",
      "${KALDI_ROOT}/src/nnet2bin:\\\r\n",
      "${KALDI_ROOT}/src/nnet3bin:\\\r\n",
      "${KALDI_ROOT}/src/nnetbin:\\\r\n",
      "${KALDI_ROOT}/src/online2bin:\\\r\n",
      "${KALDI_ROOT}/src/onlinebin:\\\r\n",
      "${KALDI_ROOT}/src/rnnlmbin:\\\r\n",
      "${KALDI_ROOT}/src/sgmm2bin:\\\r\n",
      "${KALDI_ROOT}/src/sgmmbin:\\\r\n",
      "${KALDI_ROOT}/src/tfrnnlmbin:\\\r\n",
      "${KALDI_ROOT}/src/cudadecoderbin:\\\r\n",
      "$PATH\r\n"
     ]
    }
   ],
   "source": [
    "!cat $KALDI_ROOT/tools/config/common_path.sh"
   ]
  },
  {
   "cell_type": "code",
   "execution_count": 18,
   "id": "virgin-residence",
   "metadata": {
    "execution": {
     "iopub.execute_input": "2021-06-22T23:37:07.556353Z",
     "iopub.status.busy": "2021-06-22T23:37:07.555718Z",
     "iopub.status.idle": "2021-06-22T23:37:07.578894Z",
     "shell.execute_reply": "2021-06-22T23:37:07.578283Z",
     "shell.execute_reply.started": "2021-06-22T11:56:52.862746Z"
    },
    "papermill": {
     "duration": 0.058422,
     "end_time": "2021-06-22T23:37:07.579037",
     "exception": false,
     "start_time": "2021-06-22T23:37:07.520615",
     "status": "completed"
    },
    "tags": []
   },
   "outputs": [],
   "source": [
    "#kaldi_paths=!cat $KALDI_ROOT/tools/config/common_path.sh|grep '/src/'|awk -F':' '{print $1}'|awk -F'/' '{print $NF}'|tr '\\n' ':'\n",
    "raw_kaldi_paths=!cat $KALDI_ROOT/tools/config/common_path.sh|grep '/src/'|awk -F':' '{print $1}'|awk -F'/' '{print \"/opt/kaldi/src/\"$NF}'"
   ]
  },
  {
   "cell_type": "code",
   "execution_count": 19,
   "id": "outstanding-raise",
   "metadata": {
    "execution": {
     "iopub.execute_input": "2021-06-22T23:37:07.639814Z",
     "iopub.status.busy": "2021-06-22T23:37:07.639227Z",
     "iopub.status.idle": "2021-06-22T23:37:07.644021Z",
     "shell.execute_reply": "2021-06-22T23:37:07.643550Z",
     "shell.execute_reply.started": "2021-06-22T12:02:21.567242Z"
    },
    "papermill": {
     "duration": 0.036202,
     "end_time": "2021-06-22T23:37:07.644185",
     "exception": false,
     "start_time": "2021-06-22T23:37:07.607983",
     "status": "completed"
    },
    "tags": []
   },
   "outputs": [],
   "source": [
    "KALDI_PATHS=raw_kaldi_paths.nlstr.replace('\\n',':')"
   ]
  },
  {
   "cell_type": "code",
   "execution_count": 20,
   "id": "typical-masters",
   "metadata": {
    "execution": {
     "iopub.execute_input": "2021-06-22T23:37:07.704928Z",
     "iopub.status.busy": "2021-06-22T23:37:07.704256Z",
     "iopub.status.idle": "2021-06-22T23:37:08.437596Z",
     "shell.execute_reply": "2021-06-22T23:37:08.436975Z",
     "shell.execute_reply.started": "2021-06-22T11:56:58.4537Z"
    },
    "papermill": {
     "duration": 0.765553,
     "end_time": "2021-06-22T23:37:08.437739",
     "exception": false,
     "start_time": "2021-06-22T23:37:07.672186",
     "status": "completed"
    },
    "tags": []
   },
   "outputs": [
    {
     "name": "stdout",
     "output_type": "stream",
     "text": [
      "export PATH=/opt/kaldi/tools/python:${PATH}\r\n",
      "export PHONETISAURUS=\"/tmp/output/opt/kaldi/tools/phonetisaurus-g2p\"\r\n",
      "export PATH=\"$PATH:${PHONETISAURUS}:${PHONETISAURUS}/src/scripts\"\r\n"
     ]
    }
   ],
   "source": [
    "!cat $KALDI_ROOT/tools/env.sh"
   ]
  },
  {
   "cell_type": "code",
   "execution_count": 21,
   "id": "monetary-clinton",
   "metadata": {
    "execution": {
     "iopub.execute_input": "2021-06-22T23:37:08.499792Z",
     "iopub.status.busy": "2021-06-22T23:37:08.499114Z",
     "iopub.status.idle": "2021-06-22T23:37:08.501837Z",
     "shell.execute_reply": "2021-06-22T23:37:08.501422Z",
     "shell.execute_reply.started": "2021-06-22T12:02:09.80754Z"
    },
    "papermill": {
     "duration": 0.036026,
     "end_time": "2021-06-22T23:37:08.501963",
     "exception": false,
     "start_time": "2021-06-22T23:37:08.465937",
     "status": "completed"
    },
    "tags": []
   },
   "outputs": [],
   "source": [
    "PHONETISAURUS = \"/tmp/output/opt/kaldi/tools/phonetisaurus-g2p\"\n",
    "TOOLS_PATH = f'/opt/kaldi/tools/python:{PHONETISAURUS}:{PHONETISAURUS}/src/scripts'"
   ]
  },
  {
   "cell_type": "code",
   "execution_count": 22,
   "id": "important-making",
   "metadata": {
    "execution": {
     "iopub.execute_input": "2021-06-22T23:37:08.564498Z",
     "iopub.status.busy": "2021-06-22T23:37:08.563884Z",
     "iopub.status.idle": "2021-06-22T23:37:08.567376Z",
     "shell.execute_reply": "2021-06-22T23:37:08.566607Z",
     "shell.execute_reply.started": "2021-06-22T12:03:04.119662Z"
    },
    "papermill": {
     "duration": 0.036769,
     "end_time": "2021-06-22T23:37:08.567573",
     "exception": false,
     "start_time": "2021-06-22T23:37:08.530804",
     "status": "completed"
    },
    "tags": []
   },
   "outputs": [
    {
     "name": "stdout",
     "output_type": "stream",
     "text": [
      "env: PATH=f\"/opt/kaldi/egs/usels/s5/utils/:/opt/kaldi/tools/openfst/bin:/opt/kaldi/egs/usels/s5:/opt/conda/bin:/usr/local/sbin:/usr/local/bin:/usr/sbin:/usr/bin:/sbin:/bin:/opt/kaldi/src/bin:/opt/kaldi/src/chainbin:/opt/kaldi/src/featbin:/opt/kaldi/src/fgmmbin:/opt/kaldi/src/fstbin:/opt/kaldi/src/gmmbin:/opt/kaldi/src/ivectorbin:/opt/kaldi/src/kwsbin:/opt/kaldi/src/latbin:/opt/kaldi/src/lmbin:/opt/kaldi/src/nnet2bin:/opt/kaldi/src/nnet3bin:/opt/kaldi/src/nnetbin:/opt/kaldi/src/online2bin:/opt/kaldi/src/onlinebin:/opt/kaldi/src/rnnlmbin:/opt/kaldi/src/sgmm2bin:/opt/kaldi/src/sgmmbin:/opt/kaldi/src/tfrnnlmbin:/opt/kaldi/src/cudadecoderbin:/opt/kaldi/tools/python:/tmp/output/opt/kaldi/tools/phonetisaurus-g2p:/tmp/output/opt/kaldi/tools/phonetisaurus-g2p/src/scripts\"\n"
     ]
    }
   ],
   "source": [
    "%env PATH = f\"{WSJ_PATH}:{KALDI_PATHS}:{TOOLS_PATH}\""
   ]
  },
  {
   "cell_type": "code",
   "execution_count": 23,
   "id": "southwest-karma",
   "metadata": {
    "execution": {
     "iopub.execute_input": "2021-06-22T23:37:08.631011Z",
     "iopub.status.busy": "2021-06-22T23:37:08.630442Z",
     "iopub.status.idle": "2021-06-22T23:37:09.360397Z",
     "shell.execute_reply": "2021-06-22T23:37:09.359905Z",
     "shell.execute_reply.started": "2021-06-22T12:16:15.76424Z"
    },
    "papermill": {
     "duration": 0.762509,
     "end_time": "2021-06-22T23:37:09.360540",
     "exception": false,
     "start_time": "2021-06-22T23:37:08.598031",
     "status": "completed"
    },
    "tags": []
   },
   "outputs": [
    {
     "name": "stdout",
     "output_type": "stream",
     "text": [
      "# you can change cmd.sh depending on what type of queue you are using.\r\n",
      "# If you have no queueing system and want to run on a local machine, you\r\n",
      "# can change all instances 'queue.pl' to run.pl (but be careful and run\r\n",
      "# commands one by one: most recipes will exhaust the memory on your\r\n",
      "# machine).  queue.pl works with GridEngine (qsub).  slurm.pl works\r\n",
      "# with slurm.  Different queues are configured differently, with different\r\n",
      "# queue names and different ways of specifying things like memory;\r\n",
      "# to account for these differences you can create and edit the file\r\n",
      "# conf/queue.conf to match your queue's configuration.  Search for\r\n",
      "# conf/queue.conf in http://kaldi-asr.org/doc/queue.html for more information,\r\n",
      "# or search for the string 'default_config' in utils/queue.pl or utils/slurm.pl.\r\n",
      "\r\n",
      "export train_cmd=queue.pl\r\n",
      "export decode_cmd=\"queue.pl --mem 2G\"\r\n",
      "# the use of cuda_cmd is deprecated, used only in 'nnet1',\r\n",
      "export cuda_cmd=\"queue.pl --gpu 1\"\r\n",
      "\r\n",
      "if [ \"$(hostname -d)\" == \"fit.vutbr.cz\" ]; then\r\n",
      "  queue_conf=$HOME/queue_conf/default.conf # see example /homes/kazi/iveselyk/queue_conf/default.conf,\r\n",
      "  export train_cmd=\"queue.pl --config $queue_conf --mem 2G --matylda 0.2\"\r\n",
      "  export decode_cmd=\"queue.pl --config $queue_conf --mem 3G --matylda 0.1\"\r\n",
      "  export cuda_cmd=\"queue.pl --config $queue_conf --gpu 1 --mem 10G --tmp 40G\"\r\n",
      "fi\r\n"
     ]
    }
   ],
   "source": [
    "!cat ../../wsj/s5/cmd.sh"
   ]
  },
  {
   "cell_type": "code",
   "execution_count": 24,
   "id": "lined-ghana",
   "metadata": {
    "execution": {
     "iopub.execute_input": "2021-06-22T23:37:09.424273Z",
     "iopub.status.busy": "2021-06-22T23:37:09.423660Z",
     "iopub.status.idle": "2021-06-22T23:37:09.426356Z",
     "shell.execute_reply": "2021-06-22T23:37:09.426953Z",
     "shell.execute_reply.started": "2021-06-22T12:25:36.054695Z"
    },
    "papermill": {
     "duration": 0.037489,
     "end_time": "2021-06-22T23:37:09.427159",
     "exception": false,
     "start_time": "2021-06-22T23:37:09.389670",
     "status": "completed"
    },
    "tags": []
   },
   "outputs": [
    {
     "name": "stdout",
     "output_type": "stream",
     "text": [
      "env: train_cmd=run.pl\n",
      "env: decode_cmd=run.pl\n"
     ]
    }
   ],
   "source": [
    "%env train_cmd=run.pl\n",
    "%env decode_cmd=run.pl"
   ]
  },
  {
   "cell_type": "code",
   "execution_count": 25,
   "id": "caring-factory",
   "metadata": {
    "execution": {
     "iopub.execute_input": "2021-06-22T23:37:09.488747Z",
     "iopub.status.busy": "2021-06-22T23:37:09.488147Z",
     "iopub.status.idle": "2021-06-22T23:37:12.404988Z",
     "shell.execute_reply": "2021-06-22T23:37:12.405489Z",
     "shell.execute_reply.started": "2021-06-22T12:25:39.332426Z"
    },
    "papermill": {
     "duration": 2.948504,
     "end_time": "2021-06-22T23:37:12.405664",
     "exception": false,
     "start_time": "2021-06-22T23:37:09.457160",
     "status": "completed"
    },
    "tags": []
   },
   "outputs": [],
   "source": [
    "!ln -s ../../wsj/s5/cmd.sh\n",
    "!ln -s ../../wsj/s5/path.sh\n",
    "!ln -s utils/queue.pl\n",
    "!ln -s utils/run.pl"
   ]
  },
  {
   "cell_type": "code",
   "execution_count": 26,
   "id": "daily-melbourne",
   "metadata": {
    "execution": {
     "iopub.execute_input": "2021-06-22T23:37:12.467348Z",
     "iopub.status.busy": "2021-06-22T23:37:12.466767Z",
     "iopub.status.idle": "2021-06-22T23:37:13.190729Z",
     "shell.execute_reply": "2021-06-22T23:37:13.191153Z",
     "shell.execute_reply.started": "2021-06-22T12:25:11.355403Z"
    },
    "papermill": {
     "duration": 0.756718,
     "end_time": "2021-06-22T23:37:13.191395",
     "exception": false,
     "start_time": "2021-06-22T23:37:12.434677",
     "status": "completed"
    },
    "tags": []
   },
   "outputs": [],
   "source": [
    "!rm *.pl"
   ]
  },
  {
   "cell_type": "markdown",
   "id": "later-screw",
   "metadata": {
    "papermill": {
     "duration": 0.028903,
     "end_time": "2021-06-22T23:37:13.250084",
     "exception": false,
     "start_time": "2021-06-22T23:37:13.221181",
     "status": "completed"
    },
    "tags": []
   },
   "source": [
    "## Data prep"
   ]
  },
  {
   "cell_type": "code",
   "execution_count": 27,
   "id": "enabling-southeast",
   "metadata": {
    "execution": {
     "iopub.execute_input": "2021-06-22T23:37:13.321915Z",
     "iopub.status.busy": "2021-06-22T23:37:13.321314Z",
     "iopub.status.idle": "2021-06-22T23:37:24.328768Z",
     "shell.execute_reply": "2021-06-22T23:37:24.328295Z",
     "shell.execute_reply.started": "2021-06-22T12:10:48.153674Z"
    },
    "papermill": {
     "duration": 11.048935,
     "end_time": "2021-06-22T23:37:24.328901",
     "exception": false,
     "start_time": "2021-06-22T23:37:13.279966",
     "status": "completed"
    },
    "tags": []
   },
   "outputs": [
    {
     "name": "stdout",
     "output_type": "stream",
     "text": [
      "utils/validate_data_dir.sh: Successfully validated data-directory data/test-other\r\n",
      "local/data_prep.sh: successfully prepared data in data/test-other\r\n",
      "utils/validate_data_dir.sh: Successfully validated data-directory data/test-clean\r\n",
      "local/data_prep.sh: successfully prepared data in data/test-clean\r\n"
     ]
    }
   ],
   "source": [
    "!local/data_prep.sh /kaggle/input/librispeech-test-clean-and-other/LibriSpeech/test-other data/test-other\n",
    "!local/data_prep.sh /kaggle/input/librispeech-test-clean-and-other/LibriSpeech/test-clean data/test-clean"
   ]
  },
  {
   "cell_type": "code",
   "execution_count": 28,
   "id": "ignored-parliament",
   "metadata": {
    "execution": {
     "iopub.execute_input": "2021-06-22T23:37:24.394431Z",
     "iopub.status.busy": "2021-06-22T23:37:24.393774Z",
     "iopub.status.idle": "2021-06-22T23:37:26.283905Z",
     "shell.execute_reply": "2021-06-22T23:37:26.283417Z",
     "shell.execute_reply.started": "2021-06-22T12:12:48.716774Z"
    },
    "papermill": {
     "duration": 1.925391,
     "end_time": "2021-06-22T23:37:26.284047",
     "exception": false,
     "start_time": "2021-06-22T23:37:24.358656",
     "status": "completed"
    },
    "tags": []
   },
   "outputs": [
    {
     "name": "stdout",
     "output_type": "stream",
     "text": [
      "utils/copy_data_dir.sh: copied data from data/test-clean to data/test-clean_hires\r\n",
      "utils/validate_data_dir.sh: Successfully validated data-directory data/test-clean_hires\r\n",
      "utils/copy_data_dir.sh: copied data from data/test-other to data/test-other_hires\r\n",
      "utils/validate_data_dir.sh: Successfully validated data-directory data/test-other_hires\r\n"
     ]
    }
   ],
   "source": [
    "!utils/copy_data_dir.sh data/test-clean data/test-clean_hires\n",
    "!utils/copy_data_dir.sh data/test-other data/test-other_hires"
   ]
  },
  {
   "cell_type": "code",
   "execution_count": 29,
   "id": "square-identity",
   "metadata": {
    "execution": {
     "iopub.execute_input": "2021-06-22T23:37:26.349949Z",
     "iopub.status.busy": "2021-06-22T23:37:26.349335Z",
     "iopub.status.idle": "2021-06-22T23:37:27.077240Z",
     "shell.execute_reply": "2021-06-22T23:37:27.077730Z",
     "shell.execute_reply.started": "2021-06-22T12:20:32.826362Z"
    },
    "papermill": {
     "duration": 0.763388,
     "end_time": "2021-06-22T23:37:27.077920",
     "exception": false,
     "start_time": "2021-06-22T23:37:26.314532",
     "status": "completed"
    },
    "tags": []
   },
   "outputs": [],
   "source": [
    "!ln -s utils/parse_options.sh"
   ]
  },
  {
   "cell_type": "code",
   "execution_count": 30,
   "id": "designing-failure",
   "metadata": {
    "execution": {
     "iopub.execute_input": "2021-06-22T23:37:27.145850Z",
     "iopub.status.busy": "2021-06-22T23:37:27.145270Z",
     "iopub.status.idle": "2021-06-22T23:38:46.595931Z",
     "shell.execute_reply": "2021-06-22T23:38:46.595190Z",
     "shell.execute_reply.started": "2021-06-22T12:25:44.313451Z"
    },
    "papermill": {
     "duration": 79.485584,
     "end_time": "2021-06-22T23:38:46.596080",
     "exception": false,
     "start_time": "2021-06-22T23:37:27.110496",
     "status": "completed"
    },
    "tags": []
   },
   "outputs": [
    {
     "name": "stdout",
     "output_type": "stream",
     "text": [
      "steps/make_mfcc.sh --nj 20 --mfcc-config conf/mfcc_hires.conf --cmd run.pl data/test-clean_hires\r\n",
      "utils/validate_data_dir.sh: Successfully validated data-directory data/test-clean_hires\r\n",
      "steps/make_mfcc.sh: [info]: no segments file exists: assuming wav.scp indexed by utterance.\r\n",
      "steps/make_mfcc.sh: Succeeded creating MFCC features for test-clean_hires\r\n",
      "steps/compute_cmvn_stats.sh data/test-clean_hires\r\n",
      "Succeeded creating CMVN stats for test-clean_hires\r\n",
      "fix_data_dir.sh: kept all 2620 utterances.\r\n",
      "fix_data_dir.sh: old files are kept in data/test-clean_hires/.backup\r\n",
      "steps/make_mfcc.sh --nj 20 --mfcc-config conf/mfcc_hires.conf --cmd run.pl data/test-other_hires\r\n",
      "utils/validate_data_dir.sh: Successfully validated data-directory data/test-other_hires\r\n",
      "steps/make_mfcc.sh: [info]: no segments file exists: assuming wav.scp indexed by utterance.\r\n",
      "steps/make_mfcc.sh: Succeeded creating MFCC features for test-other_hires\r\n",
      "steps/compute_cmvn_stats.sh data/test-other_hires\r\n",
      "Succeeded creating CMVN stats for test-other_hires\r\n",
      "fix_data_dir.sh: kept all 2939 utterances.\r\n",
      "fix_data_dir.sh: old files are kept in data/test-other_hires/.backup\r\n"
     ]
    }
   ],
   "source": [
    "!steps/make_mfcc.sh --nj 20 --mfcc-config conf/mfcc_hires.conf --cmd \"$train_cmd\" data/test-clean_hires\n",
    "!steps/compute_cmvn_stats.sh data/test-clean_hires\n",
    "!utils/fix_data_dir.sh data/test-clean_hires\n",
    "!steps/make_mfcc.sh --nj 20 --mfcc-config conf/mfcc_hires.conf --cmd \"$train_cmd\" data/test-other_hires\n",
    "!steps/compute_cmvn_stats.sh data/test-other_hires\n",
    "!utils/fix_data_dir.sh data/test-other_hires\n"
   ]
  },
  {
   "cell_type": "markdown",
   "id": "opposed-grace",
   "metadata": {
    "papermill": {
     "duration": 0.034474,
     "end_time": "2021-06-22T23:38:46.667157",
     "exception": false,
     "start_time": "2021-06-22T23:38:46.632683",
     "status": "completed"
    },
    "tags": []
   },
   "source": [
    "## Extract i-vectors"
   ]
  },
  {
   "cell_type": "code",
   "execution_count": 31,
   "id": "reserved-handling",
   "metadata": {
    "execution": {
     "iopub.execute_input": "2021-06-22T23:38:46.745754Z",
     "iopub.status.busy": "2021-06-22T23:38:46.745100Z",
     "iopub.status.idle": "2021-06-22T23:38:48.193052Z",
     "shell.execute_reply": "2021-06-22T23:38:48.193472Z",
     "shell.execute_reply.started": "2021-06-22T12:38:42.072847Z"
    },
    "papermill": {
     "duration": 1.491656,
     "end_time": "2021-06-22T23:38:48.193660",
     "exception": false,
     "start_time": "2021-06-22T23:38:46.702004",
     "status": "completed"
    },
    "tags": []
   },
   "outputs": [],
   "source": [
    "!ln -s /kaggle/input/kaldi-librispeech-model/exp/nnet3_cleaned/ exp/nnet3_cleaned\n",
    "!ln -s /kaggle/input/kaldi-librispeech-model/exp/chain_cleaned/ exp/chain_cleaned"
   ]
  },
  {
   "cell_type": "code",
   "execution_count": 32,
   "id": "herbal-compensation",
   "metadata": {
    "execution": {
     "iopub.execute_input": "2021-06-22T23:38:48.270413Z",
     "iopub.status.busy": "2021-06-22T23:38:48.269480Z",
     "iopub.status.idle": "2021-06-22T23:39:54.772309Z",
     "shell.execute_reply": "2021-06-22T23:39:54.772758Z",
     "shell.execute_reply.started": "2021-06-22T12:44:16.329652Z"
    },
    "papermill": {
     "duration": 66.541359,
     "end_time": "2021-06-22T23:39:54.772973",
     "exception": false,
     "start_time": "2021-06-22T23:38:48.231614",
     "status": "completed"
    },
    "tags": []
   },
   "outputs": [
    {
     "name": "stdout",
     "output_type": "stream",
     "text": [
      "env: nspk=$(wc -l <data/test-clean_hires/spk2utt)\n",
      "steps/online/nnet2/extract_ivectors_online.sh --cmd run.pl --nj $(wc -l <data/test-clean_hires/spk2utt) data/test-clean_hires exp/nnet3_cleaned/extractor exp/nnet3_cleaned_out/ivectors_test-clean_hires\r\n",
      "steps/online/nnet2/extract_ivectors_online.sh: extracting iVectors\r\n",
      "steps/online/nnet2/extract_ivectors_online.sh: combining iVectors across jobs\r\n",
      "steps/online/nnet2/extract_ivectors_online.sh: done extracting (online) iVectors to exp/nnet3_cleaned_out/ivectors_test-clean_hires using the extractor in exp/nnet3_cleaned/extractor.\r\n",
      "env: nspk=$(wc -l <data/test-other_hires/spk2utt)\n",
      "steps/online/nnet2/extract_ivectors_online.sh --cmd run.pl --nj $(wc -l <data/test-other_hires/spk2utt) data/test-other_hires exp/nnet3_cleaned/extractor exp/nnet3_cleaned_out/ivectors_test-other_hires\r\n",
      "steps/online/nnet2/extract_ivectors_online.sh: extracting iVectors\r\n",
      "steps/online/nnet2/extract_ivectors_online.sh: combining iVectors across jobs\r\n",
      "steps/online/nnet2/extract_ivectors_online.sh: done extracting (online) iVectors to exp/nnet3_cleaned_out/ivectors_test-other_hires using the extractor in exp/nnet3_cleaned/extractor.\r\n"
     ]
    }
   ],
   "source": [
    "%env nspk=$(wc -l <data/test-clean_hires/spk2utt)\n",
    "!steps/online/nnet2/extract_ivectors_online.sh --cmd \"$train_cmd\" --nj \"${nspk}\" data/test-clean_hires exp/nnet3_cleaned/extractor exp/nnet3_cleaned_out/ivectors_test-clean_hires\n",
    "%env nspk=$(wc -l <data/test-other_hires/spk2utt)\n",
    "!steps/online/nnet2/extract_ivectors_online.sh --cmd \"$train_cmd\" --nj \"${nspk}\" data/test-other_hires exp/nnet3_cleaned/extractor exp/nnet3_cleaned_out/ivectors_test-other_hires"
   ]
  },
  {
   "cell_type": "markdown",
   "id": "polar-blame",
   "metadata": {
    "papermill": {
     "duration": 0.036648,
     "end_time": "2021-06-22T23:39:54.846009",
     "exception": false,
     "start_time": "2021-06-22T23:39:54.809361",
     "status": "completed"
    },
    "tags": []
   },
   "source": [
    "## Build decoding graph"
   ]
  },
  {
   "cell_type": "markdown",
   "id": "pressed-boundary",
   "metadata": {
    "papermill": {
     "duration": 0.03863,
     "end_time": "2021-06-22T23:39:54.922351",
     "exception": false,
     "start_time": "2021-06-22T23:39:54.883721",
     "status": "completed"
    },
    "tags": []
   },
   "source": [
    "Just linking this directory won't work, as it expects to be able to write to it (Kaldi scripts, smh)"
   ]
  },
  {
   "cell_type": "code",
   "execution_count": 33,
   "id": "graphic-negotiation",
   "metadata": {
    "execution": {
     "iopub.execute_input": "2021-06-22T23:39:55.004380Z",
     "iopub.status.busy": "2021-06-22T23:39:55.003256Z",
     "iopub.status.idle": "2021-06-22T23:39:57.549133Z",
     "shell.execute_reply": "2021-06-22T23:39:57.548650Z"
    },
    "papermill": {
     "duration": 2.588915,
     "end_time": "2021-06-22T23:39:57.549298",
     "exception": false,
     "start_time": "2021-06-22T23:39:54.960383",
     "status": "completed"
    },
    "tags": []
   },
   "outputs": [],
   "source": [
    "!cp -r /kaggle/input/kaldi-librispeech-model/data/lang_test_tgsmall data"
   ]
  },
  {
   "cell_type": "code",
   "execution_count": 34,
   "id": "noted-costa",
   "metadata": {
    "execution": {
     "iopub.execute_input": "2021-06-22T23:39:57.637333Z",
     "iopub.status.busy": "2021-06-22T23:39:57.636347Z",
     "iopub.status.idle": "2021-06-22T23:43:05.910832Z",
     "shell.execute_reply": "2021-06-22T23:43:05.910019Z"
    },
    "papermill": {
     "duration": 188.324382,
     "end_time": "2021-06-22T23:43:05.910987",
     "exception": false,
     "start_time": "2021-06-22T23:39:57.586605",
     "status": "completed"
    },
    "tags": []
   },
   "outputs": [
    {
     "name": "stdout",
     "output_type": "stream",
     "text": [
      "env: tdnndir=exp/chain_cleaned/tdnn_1d_sp\n",
      "env: graph_dir=exp/chain_cleaned_out/graph_tgsmall\n",
      "tree-info exp/chain_cleaned/tdnn_1d_sp/tree \r\n",
      "tree-info exp/chain_cleaned/tdnn_1d_sp/tree \r\n",
      "fstminimizeencoded \r\n",
      "fstpushspecial \r\n",
      "fsttablecompose data/lang_test_tgsmall/L_disambig.fst data/lang_test_tgsmall/G.fst \r\n",
      "fstdeterminizestar --use-log=true \r\n",
      "fstisstochastic data/lang_test_tgsmall/tmp/LG.fst \r\n",
      "-0.0459745 -0.0466771\r\n",
      "[info]: LG not stochastic.\r\n",
      "fstcomposecontext --context-size=2 --central-position=1 --read-disambig-syms=data/lang_test_tgsmall/phones/disambig.int --write-disambig-syms=data/lang_test_tgsmall/tmp/disambig_ilabels_2_1.int data/lang_test_tgsmall/tmp/ilabels_2_1.113735 data/lang_test_tgsmall/tmp/LG.fst \r\n",
      "fstisstochastic data/lang_test_tgsmall/tmp/CLG_2_1.fst \r\n",
      "-0.0459745 -0.0466771\r\n",
      "[info]: CLG not stochastic.\r\n",
      "make-h-transducer --disambig-syms-out=exp/chain_cleaned_out/graph_tgsmall/disambig_tid.int --transition-scale=1.0 data/lang_test_tgsmall/tmp/ilabels_2_1 exp/chain_cleaned/tdnn_1d_sp/tree exp/chain_cleaned/tdnn_1d_sp/final.mdl \r\n",
      "fstdeterminizestar --use-log=true \r\n",
      "fstrmsymbols exp/chain_cleaned_out/graph_tgsmall/disambig_tid.int \r\n",
      "fstrmepslocal \r\n",
      "fsttablecompose exp/chain_cleaned_out/graph_tgsmall/Ha.fst 'fstrmsymbols --remove-arcs=true --apply-to-output=true data/lang_test_tgsmall/oov.int data/lang_test_tgsmall/tmp/CLG_2_1.fst|' \r\n",
      "fstminimizeencoded \r\n",
      "fstrmsymbols --remove-arcs=true --apply-to-output=true data/lang_test_tgsmall/oov.int data/lang_test_tgsmall/tmp/CLG_2_1.fst \r\n",
      "fstisstochastic exp/chain_cleaned_out/graph_tgsmall/HCLGa.fst \r\n",
      "3.39453 -0.209239\r\n",
      "HCLGa is not stochastic\r\n",
      "add-self-loops --self-loop-scale=1.0 --reorder=true exp/chain_cleaned/tdnn_1d_sp/final.mdl exp/chain_cleaned_out/graph_tgsmall/HCLGa.fst \r\n",
      "fstisstochastic exp/chain_cleaned_out/graph_tgsmall/HCLG.fst \r\n",
      "3.05078 -0.127788\r\n",
      "[info]: final HCLG is not stochastic.\r\n"
     ]
    }
   ],
   "source": [
    "%env tdnndir=exp/chain_cleaned/tdnn_1d_sp\n",
    "%env graph_dir=exp/chain_cleaned_out/graph_tgsmall\n",
    "!utils/mkgraph.sh --self-loop-scale 1.0 --remove-oov data/lang_test_tgsmall $tdnndir $graph_dir"
   ]
  },
  {
   "cell_type": "markdown",
   "id": "corporate-spectacular",
   "metadata": {
    "papermill": {
     "duration": 0.040069,
     "end_time": "2021-06-22T23:43:05.991582",
     "exception": false,
     "start_time": "2021-06-22T23:43:05.951513",
     "status": "completed"
    },
    "tags": []
   },
   "source": [
    "## Decode"
   ]
  },
  {
   "cell_type": "code",
   "execution_count": 35,
   "id": "complimentary-soldier",
   "metadata": {
    "execution": {
     "iopub.execute_input": "2021-06-22T23:43:06.081860Z",
     "iopub.status.busy": "2021-06-22T23:43:06.080934Z",
     "iopub.status.idle": "2021-06-22T23:43:07.562114Z",
     "shell.execute_reply": "2021-06-22T23:43:07.562720Z"
    },
    "papermill": {
     "duration": 1.529648,
     "end_time": "2021-06-22T23:43:07.562938",
     "exception": false,
     "start_time": "2021-06-22T23:43:06.033290",
     "status": "completed"
    },
    "tags": []
   },
   "outputs": [
    {
     "name": "stdout",
     "output_type": "stream",
     "text": [
      "/kaggle/working/exp/tdnn_1d_sp\n",
      "/opt/kaldi/egs/usels/s5\n",
      "popd -> /opt/kaldi/egs/usels/s5\n"
     ]
    }
   ],
   "source": [
    "!mkdir exp/tdnn_1d_sp\n",
    "%pushd exp/tdnn_1d_sp\n",
    "!for i in /kaggle/input/kaldi-librispeech-model/exp/chain_cleaned/tdnn_1d_sp/*;do ln -s $i;done\n",
    "%popd"
   ]
  },
  {
   "cell_type": "code",
   "execution_count": 36,
   "id": "mental-copying",
   "metadata": {
    "execution": {
     "iopub.execute_input": "2021-06-22T23:43:07.657832Z",
     "iopub.status.busy": "2021-06-22T23:43:07.656821Z",
     "iopub.status.idle": "2021-06-23T00:44:27.570165Z",
     "shell.execute_reply": "2021-06-23T00:44:27.569426Z"
    },
    "papermill": {
     "duration": 3679.966095,
     "end_time": "2021-06-23T00:44:27.570435",
     "exception": false,
     "start_time": "2021-06-22T23:43:07.604340",
     "status": "completed"
    },
    "tags": []
   },
   "outputs": [
    {
     "name": "stdout",
     "output_type": "stream",
     "text": [
      "env: tdnndir=exp/tdnn_1d_sp\n",
      "steps/nnet3/decode.sh --acwt 1.0 --post-decode-acwt 10.0 --nj 8 --cmd run.pl --online-ivector-dir exp/nnet3_cleaned_out/ivectors_test-clean_hires exp/chain_cleaned_out/graph_tgsmall data/test-clean_hires exp/tdnn_1d_sp/decode_test-clean_tgsmall\r\n",
      "steps/nnet3/decode.sh: feature type is raw\r\n",
      "steps/diagnostic/analyze_lats.sh --cmd run.pl --iter final exp/chain_cleaned_out/graph_tgsmall exp/tdnn_1d_sp/decode_test-clean_tgsmall\r\n",
      "steps/diagnostic/analyze_lats.sh: see stats in exp/tdnn_1d_sp/decode_test-clean_tgsmall/log/analyze_alignments.log\r\n",
      "Overall, lattice depth (10,50,90-percentile)=(1,2,5) and mean=2.8\r\n",
      "steps/diagnostic/analyze_lats.sh: see stats in exp/tdnn_1d_sp/decode_test-clean_tgsmall/log/analyze_lattice_depth_stats.log\r\n",
      "score best paths\r\n",
      "score confidence and timing with sclite\r\n",
      "Decoding done.\r\n",
      "steps/nnet3/decode.sh --acwt 1.0 --post-decode-acwt 10.0 --nj 8 --cmd run.pl --online-ivector-dir exp/nnet3_cleaned_out/ivectors_test-other_hires exp/chain_cleaned_out/graph_tgsmall data/test-other_hires exp/tdnn_1d_sp/decode_test-other_tgsmall\r\n",
      "steps/nnet3/decode.sh: feature type is raw\r\n",
      "steps/diagnostic/analyze_lats.sh --cmd run.pl --iter final exp/chain_cleaned_out/graph_tgsmall exp/tdnn_1d_sp/decode_test-other_tgsmall\r\n",
      "steps/diagnostic/analyze_lats.sh: see stats in exp/tdnn_1d_sp/decode_test-other_tgsmall/log/analyze_alignments.log\r\n",
      "Overall, lattice depth (10,50,90-percentile)=(1,3,13) and mean=6.3\r\n",
      "steps/diagnostic/analyze_lats.sh: see stats in exp/tdnn_1d_sp/decode_test-other_tgsmall/log/analyze_lattice_depth_stats.log\r\n",
      "score best paths\r\n",
      "score confidence and timing with sclite\r\n",
      "Decoding done.\r\n"
     ]
    }
   ],
   "source": [
    "%env tdnndir=exp/tdnn_1d_sp\n",
    "!steps/nnet3/decode.sh --acwt 1.0 --post-decode-acwt 10.0 --nj 8 --cmd \"$decode_cmd\" --online-ivector-dir exp/nnet3_cleaned_out/ivectors_test-clean_hires $graph_dir data/test-clean_hires $tdnndir/decode_test-clean_tgsmall\n",
    "!steps/nnet3/decode.sh --acwt 1.0 --post-decode-acwt 10.0 --nj 8 --cmd \"$decode_cmd\" --online-ivector-dir exp/nnet3_cleaned_out/ivectors_test-other_hires $graph_dir data/test-other_hires $tdnndir/decode_test-other_tgsmall"
   ]
  },
  {
   "cell_type": "markdown",
   "id": "visible-adelaide",
   "metadata": {
    "papermill": {
     "duration": 0.047817,
     "end_time": "2021-06-23T00:44:27.665706",
     "exception": false,
     "start_time": "2021-06-23T00:44:27.617889",
     "status": "completed"
    },
    "tags": []
   },
   "source": [
    "## Score"
   ]
  },
  {
   "cell_type": "code",
   "execution_count": 37,
   "id": "promising-anchor",
   "metadata": {
    "execution": {
     "iopub.execute_input": "2021-06-23T00:44:27.766838Z",
     "iopub.status.busy": "2021-06-23T00:44:27.766207Z",
     "iopub.status.idle": "2021-06-23T00:46:47.979381Z",
     "shell.execute_reply": "2021-06-23T00:46:47.980007Z"
    },
    "papermill": {
     "duration": 140.266017,
     "end_time": "2021-06-23T00:46:47.980210",
     "exception": false,
     "start_time": "2021-06-23T00:44:27.714193",
     "status": "completed"
    },
    "tags": []
   },
   "outputs": [
    {
     "name": "stdout",
     "output_type": "stream",
     "text": [
      "steps/score_kaldi.sh --cmd run.pl data/test-clean_hires exp/chain_cleaned_out/graph_tgsmall exp/tdnn_1d_sp/decode_test-clean_tgsmall\r\n",
      "steps/score_kaldi.sh: scoring with word insertion penalty=0.0,0.5,1.0\r\n",
      "steps/score_kaldi.sh --cmd run.pl data/test-other_hires exp/chain_cleaned_out/graph_tgsmall exp/tdnn_1d_sp/decode_test-other_tgsmall\r\n",
      "steps/score_kaldi.sh: scoring with word insertion penalty=0.0,0.5,1.0\r\n"
     ]
    }
   ],
   "source": [
    "!steps/score_kaldi.sh --cmd \"run.pl\" data/test-clean_hires $graph_dir $tdnndir/decode_test-clean_tgsmall\n",
    "!steps/score_kaldi.sh --cmd \"run.pl\" data/test-other_hires $graph_dir $tdnndir/decode_test-other_tgsmall"
   ]
  },
  {
   "cell_type": "code",
   "execution_count": 38,
   "id": "broken-launch",
   "metadata": {
    "execution": {
     "iopub.execute_input": "2021-06-23T00:46:48.170086Z",
     "iopub.status.busy": "2021-06-23T00:46:48.169442Z",
     "iopub.status.idle": "2021-06-23T00:46:49.679203Z",
     "shell.execute_reply": "2021-06-23T00:46:49.678570Z"
    },
    "papermill": {
     "duration": 1.569273,
     "end_time": "2021-06-23T00:46:49.679362",
     "exception": false,
     "start_time": "2021-06-23T00:46:48.110089",
     "status": "completed"
    },
    "tags": []
   },
   "outputs": [
    {
     "name": "stdout",
     "output_type": "stream",
     "text": [
      "%WER 7.13 [ 3747 / 52576, 648 ins, 242 del, 2857 sub ] exp/tdnn_1d_sp/decode_test-clean_tgsmall/wer_17_0.5\r\n",
      "%WER 17.92 [ 9378 / 52343, 1384 ins, 723 del, 7271 sub ] exp/tdnn_1d_sp/decode_test-other_tgsmall/wer_17_1.0\r\n"
     ]
    }
   ],
   "source": [
    "!cat exp/tdnn_1d_sp/decode_test-clean_tgsmall/scoring_kaldi/best_wer\n",
    "!cat exp/tdnn_1d_sp/decode_test-other_tgsmall/scoring_kaldi/best_wer"
   ]
  },
  {
   "cell_type": "markdown",
   "id": "differential-glass",
   "metadata": {
    "papermill": {
     "duration": 0.045029,
     "end_time": "2021-06-23T00:46:49.770959",
     "exception": false,
     "start_time": "2021-06-23T00:46:49.725930",
     "status": "completed"
    },
    "tags": []
   },
   "source": [
    "## Rescoring"
   ]
  },
  {
   "cell_type": "code",
   "execution_count": 39,
   "id": "balanced-botswana",
   "metadata": {
    "execution": {
     "iopub.execute_input": "2021-06-23T00:46:49.877672Z",
     "iopub.status.busy": "2021-06-23T00:46:49.877032Z",
     "iopub.status.idle": "2021-06-23T00:46:51.399900Z",
     "shell.execute_reply": "2021-06-23T00:46:51.400523Z"
    },
    "papermill": {
     "duration": 1.582112,
     "end_time": "2021-06-23T00:46:51.400763",
     "exception": false,
     "start_time": "2021-06-23T00:46:49.818651",
     "status": "completed"
    },
    "tags": []
   },
   "outputs": [
    {
     "name": "stdout",
     "output_type": "stream",
     "text": [
      "/kaggle/working/exp/rnnlm_lstm_1a\n",
      "/opt/kaldi/egs/usels/s5\n",
      "popd -> /opt/kaldi/egs/usels/s5\n"
     ]
    }
   ],
   "source": [
    "!mkdir exp/rnnlm_lstm_1a\n",
    "%pushd exp/rnnlm_lstm_1a\n",
    "!for i in /kaldi/input/kaldi-librispeech-model/exp/rnnlm_lstm_1a/*; do ln -s $i;done\n",
    "%popd"
   ]
  },
  {
   "cell_type": "code",
   "execution_count": 40,
   "id": "exclusive-interest",
   "metadata": {
    "execution": {
     "iopub.execute_input": "2021-06-23T00:46:51.529511Z",
     "iopub.status.busy": "2021-06-23T00:46:51.524333Z",
     "iopub.status.idle": "2021-06-23T00:46:52.275753Z",
     "shell.execute_reply": "2021-06-23T00:46:52.276234Z"
    },
    "papermill": {
     "duration": 0.819173,
     "end_time": "2021-06-23T00:46:52.276451",
     "exception": false,
     "start_time": "2021-06-23T00:46:51.457278",
     "status": "completed"
    },
    "tags": []
   },
   "outputs": [],
   "source": [
    "!ln -s /opt/kaldi/scripts/rnnlm"
   ]
  },
  {
   "cell_type": "code",
   "execution_count": 41,
   "id": "afraid-citizenship",
   "metadata": {
    "execution": {
     "iopub.execute_input": "2021-06-23T00:46:52.384078Z",
     "iopub.status.busy": "2021-06-23T00:46:52.383476Z",
     "iopub.status.idle": "2021-06-23T00:46:53.914503Z",
     "shell.execute_reply": "2021-06-23T00:46:53.913778Z"
    },
    "papermill": {
     "duration": 1.591256,
     "end_time": "2021-06-23T00:46:53.914652",
     "exception": false,
     "start_time": "2021-06-23T00:46:52.323396",
     "status": "completed"
    },
    "tags": []
   },
   "outputs": [
    {
     "name": "stdout",
     "output_type": "stream",
     "text": [
      "env: decode_dir=$tdnndir/decode_test-clean_tgsmall\n",
      "rnnlm/lmrescore_pruned.sh --cmd run.pl --weight 0.45 --max-ngram-order 4 data/lang_test_tgsmall exp/rnnlm_lstm_1a data/test-clean_hires $tdnndir/decode_test-clean_tgsmall exp/tdnn_1d_sp/decode_test-clean_rescore\r\n",
      "rnnlm/lmrescore_pruned.sh: Missing file exp/rnnlm_lstm_1a/final.raw\r\n",
      "env: decode_dir=$tdnndir/decode_test-other_tgsmall\n",
      "rnnlm/lmrescore_pruned.sh --cmd run.pl --weight 0.45 --max-ngram-order 4 data/lang_test_tgsmall exp/rnnlm_lstm_1a data/test-other_hires $tdnndir/decode_test-other_tgsmall exp/tdnn_1d_sp/decode_test-other_rescore\r\n",
      "rnnlm/lmrescore_pruned.sh: Missing file exp/rnnlm_lstm_1a/final.raw\r\n"
     ]
    }
   ],
   "source": [
    "%env decode_dir=$tdnndir/decode_test-clean_tgsmall\n",
    "!rnnlm/lmrescore_pruned.sh --cmd \"$decode_cmd\" --weight 0.45 --max-ngram-order 4 data/lang_test_tgsmall exp/rnnlm_lstm_1a data/test-clean_hires ${decode_dir} $tdnndir/decode_test-clean_rescore\n",
    "%env decode_dir=$tdnndir/decode_test-other_tgsmall\n",
    "!rnnlm/lmrescore_pruned.sh --cmd \"$decode_cmd\" --weight 0.45 --max-ngram-order 4 data/lang_test_tgsmall exp/rnnlm_lstm_1a data/test-other_hires ${decode_dir} $tdnndir/decode_test-other_rescore"
   ]
  },
  {
   "cell_type": "code",
   "execution_count": 42,
   "id": "widespread-package",
   "metadata": {
    "execution": {
     "iopub.execute_input": "2021-06-23T00:46:54.022115Z",
     "iopub.status.busy": "2021-06-23T00:46:54.021533Z",
     "iopub.status.idle": "2021-06-23T00:46:55.544506Z",
     "shell.execute_reply": "2021-06-23T00:46:55.543940Z"
    },
    "papermill": {
     "duration": 1.580845,
     "end_time": "2021-06-23T00:46:55.544672",
     "exception": false,
     "start_time": "2021-06-23T00:46:53.963827",
     "status": "completed"
    },
    "tags": []
   },
   "outputs": [
    {
     "name": "stdout",
     "output_type": "stream",
     "text": [
      "cat: exp/tdnn_1d_sp/decode_test-clean_rescore/scoring_kaldi/best_wer: No such file or directory\r\n",
      "cat: exp/tdnn_1d_sp/decode_test-other_rescore/scoring_kaldi/best_wer: No such file or directory\r\n"
     ]
    }
   ],
   "source": [
    "!cat $tdnndir/decode_test-clean_rescore/scoring_kaldi/best_wer\n",
    "!cat $tdnndir/decode_test-other_rescore/scoring_kaldi/best_wer"
   ]
  },
  {
   "cell_type": "markdown",
   "id": "classical-visiting",
   "metadata": {
    "papermill": {
     "duration": 0.051137,
     "end_time": "2021-06-23T00:46:55.645132",
     "exception": false,
     "start_time": "2021-06-23T00:46:55.593995",
     "status": "completed"
    },
    "tags": []
   },
   "source": [
    "## "
   ]
  }
 ],
 "metadata": {
  "kernelspec": {
   "display_name": "Python 3",
   "language": "python",
   "name": "python3"
  },
  "language_info": {
   "codemirror_mode": {
    "name": "ipython",
    "version": 3
   },
   "file_extension": ".py",
   "mimetype": "text/x-python",
   "name": "python",
   "nbconvert_exporter": "python",
   "pygments_lexer": "ipython3",
   "version": "3.7.10"
  },
  "papermill": {
   "default_parameters": {},
   "duration": 4292.979622,
   "end_time": "2021-06-23T00:46:56.611738",
   "environment_variables": {},
   "exception": null,
   "input_path": "__notebook__.ipynb",
   "output_path": "__notebook__.ipynb",
   "parameters": {},
   "start_time": "2021-06-22T23:35:23.632116",
   "version": "2.3.3"
  }
 },
 "nbformat": 4,
 "nbformat_minor": 5
}
