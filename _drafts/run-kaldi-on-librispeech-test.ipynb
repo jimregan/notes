{
 "cells": [
  {
   "cell_type": "markdown",
   "id": "curious-recognition",
   "metadata": {
    "papermill": {
     "duration": 0.038049,
     "end_time": "2021-06-23T10:59:12.879967",
     "exception": false,
     "start_time": "2021-06-23T10:59:12.841918",
     "status": "completed"
    },
    "tags": []
   },
   "source": [
    "## Unpack Kaldi"
   ]
  },
  {
   "cell_type": "code",
   "execution_count": 1,
   "id": "adjustable-salvation",
   "metadata": {
    "_cell_guid": "b1076dfc-b9ad-4769-8c92-a6c4dae69d19",
    "_uuid": "8f2839f25d086af736a60e9eeb907d3b93b6e0e5",
    "execution": {
     "iopub.execute_input": "2021-06-23T10:59:12.958159Z",
     "iopub.status.busy": "2021-06-23T10:59:12.956660Z",
     "iopub.status.idle": "2021-06-23T10:59:12.969389Z",
     "shell.execute_reply": "2021-06-23T10:59:12.968483Z",
     "shell.execute_reply.started": "2021-06-22T11:54:50.153353Z"
    },
    "papermill": {
     "duration": 0.052591,
     "end_time": "2021-06-23T10:59:12.969650",
     "exception": false,
     "start_time": "2021-06-23T10:59:12.917059",
     "status": "completed"
    },
    "tags": []
   },
   "outputs": [
    {
     "name": "stdout",
     "output_type": "stream",
     "text": [
      "/opt\n"
     ]
    }
   ],
   "source": [
    "%cd /opt"
   ]
  },
  {
   "cell_type": "code",
   "execution_count": 2,
   "id": "natural-potter",
   "metadata": {
    "execution": {
     "iopub.execute_input": "2021-06-23T10:59:13.049052Z",
     "iopub.status.busy": "2021-06-23T10:59:13.048395Z",
     "iopub.status.idle": "2021-06-23T10:59:57.873301Z",
     "shell.execute_reply": "2021-06-23T10:59:57.872743Z",
     "shell.execute_reply.started": "2021-06-22T11:54:53.255442Z"
    },
    "papermill": {
     "duration": 44.865625,
     "end_time": "2021-06-23T10:59:57.873481",
     "exception": false,
     "start_time": "2021-06-23T10:59:13.007856",
     "status": "completed"
    },
    "tags": []
   },
   "outputs": [],
   "source": [
    "%%capture\n",
    "!tar xvf /kaggle/input/extract-prebuilt-kaldi-from-docker/kaldi.tar"
   ]
  },
  {
   "cell_type": "code",
   "execution_count": 3,
   "id": "powerful-provider",
   "metadata": {
    "execution": {
     "iopub.execute_input": "2021-06-23T10:59:57.954129Z",
     "iopub.status.busy": "2021-06-23T10:59:57.953168Z",
     "iopub.status.idle": "2021-06-23T10:59:57.956507Z",
     "shell.execute_reply": "2021-06-23T10:59:57.956007Z",
     "shell.execute_reply.started": "2021-06-22T11:55:40.60018Z"
    },
    "papermill": {
     "duration": 0.04568,
     "end_time": "2021-06-23T10:59:57.956654",
     "exception": false,
     "start_time": "2021-06-23T10:59:57.910974",
     "status": "completed"
    },
    "tags": []
   },
   "outputs": [],
   "source": [
    "import os\n",
    "os.environ['LD_LIBRARY_PATH'] = '/opt/conda/lib:/opt/kaldi/tools/openfst-1.6.7/lib:/opt/kaldi/src/lib:'\n",
    "EXISTING_PATH = os.environ['PATH']"
   ]
  },
  {
   "cell_type": "code",
   "execution_count": 4,
   "id": "amino-hormone",
   "metadata": {
    "execution": {
     "iopub.execute_input": "2021-06-23T10:59:58.038201Z",
     "iopub.status.busy": "2021-06-23T10:59:58.037432Z",
     "iopub.status.idle": "2021-06-23T10:59:58.041984Z",
     "shell.execute_reply": "2021-06-23T10:59:58.041485Z"
    },
    "papermill": {
     "duration": 0.04744,
     "end_time": "2021-06-23T10:59:58.042115",
     "exception": false,
     "start_time": "2021-06-23T10:59:57.994675",
     "status": "completed"
    },
    "tags": []
   },
   "outputs": [
    {
     "name": "stdout",
     "output_type": "stream",
     "text": [
      "/\n"
     ]
    }
   ],
   "source": [
    "%cd /\n"
   ]
  },
  {
   "cell_type": "code",
   "execution_count": 5,
   "id": "useful-israeli",
   "metadata": {
    "execution": {
     "iopub.execute_input": "2021-06-23T10:59:58.128274Z",
     "iopub.status.busy": "2021-06-23T10:59:58.127582Z",
     "iopub.status.idle": "2021-06-23T11:00:37.213328Z",
     "shell.execute_reply": "2021-06-23T11:00:37.212789Z"
    },
    "papermill": {
     "duration": 39.133628,
     "end_time": "2021-06-23T11:00:37.213494",
     "exception": false,
     "start_time": "2021-06-23T10:59:58.079866",
     "status": "completed"
    },
    "tags": []
   },
   "outputs": [],
   "source": [
    "%%capture\n",
    "!tar xvf /kaggle/input/extract-cuda-from-kaldi-docker/cuda.tar"
   ]
  },
  {
   "cell_type": "code",
   "execution_count": 6,
   "id": "everyday-bumper",
   "metadata": {
    "execution": {
     "iopub.execute_input": "2021-06-23T11:00:42.941188Z",
     "iopub.status.busy": "2021-06-23T11:00:42.940521Z",
     "iopub.status.idle": "2021-06-23T11:00:42.943823Z",
     "shell.execute_reply": "2021-06-23T11:00:42.943303Z",
     "shell.execute_reply.started": "2021-06-22T13:29:47.085695Z"
    },
    "papermill": {
     "duration": 0.046028,
     "end_time": "2021-06-23T11:00:42.943978",
     "exception": false,
     "start_time": "2021-06-23T11:00:42.897950",
     "status": "completed"
    },
    "tags": []
   },
   "outputs": [],
   "source": [
    "import os\n",
    "os.environ['LD_LIBRARY_PATH'] = f'{os.environ[\"LD_LIBRARY_PATH\"]}:/usr/local/cuda-10.0/targets/x86_64-linux/lib/'"
   ]
  },
  {
   "cell_type": "code",
   "execution_count": 7,
   "id": "fiscal-supplier",
   "metadata": {
    "execution": {
     "iopub.execute_input": "2021-06-23T11:00:43.027913Z",
     "iopub.status.busy": "2021-06-23T11:00:43.026913Z",
     "iopub.status.idle": "2021-06-23T11:00:43.031928Z",
     "shell.execute_reply": "2021-06-23T11:00:43.032600Z",
     "shell.execute_reply.started": "2021-06-22T11:55:40.610869Z"
    },
    "papermill": {
     "duration": 0.05121,
     "end_time": "2021-06-23T11:00:43.032834",
     "exception": false,
     "start_time": "2021-06-23T11:00:42.981624",
     "status": "completed"
    },
    "tags": []
   },
   "outputs": [
    {
     "name": "stdout",
     "output_type": "stream",
     "text": [
      "/opt/kaldi/egs\n"
     ]
    }
   ],
   "source": [
    "%cd /opt/kaldi/egs"
   ]
  },
  {
   "cell_type": "markdown",
   "id": "headed-edmonton",
   "metadata": {
    "papermill": {
     "duration": 0.038792,
     "end_time": "2021-06-23T11:00:43.109912",
     "exception": false,
     "start_time": "2021-06-23T11:00:43.071120",
     "status": "completed"
    },
    "tags": []
   },
   "source": [
    "## Install flac"
   ]
  },
  {
   "cell_type": "code",
   "execution_count": 8,
   "id": "saving-sphere",
   "metadata": {
    "execution": {
     "iopub.execute_input": "2021-06-23T11:00:43.191168Z",
     "iopub.status.busy": "2021-06-23T11:00:43.190089Z",
     "iopub.status.idle": "2021-06-23T11:00:50.063363Z",
     "shell.execute_reply": "2021-06-23T11:00:50.063880Z",
     "shell.execute_reply.started": "2021-06-22T12:06:36.222984Z"
    },
    "papermill": {
     "duration": 6.915824,
     "end_time": "2021-06-23T11:00:50.064064",
     "exception": false,
     "start_time": "2021-06-23T11:00:43.148240",
     "status": "completed"
    },
    "tags": []
   },
   "outputs": [],
   "source": [
    "%%capture\n",
    "!apt install -y flac"
   ]
  },
  {
   "cell_type": "markdown",
   "id": "duplicate-harassment",
   "metadata": {
    "papermill": {
     "duration": 0.039403,
     "end_time": "2021-06-23T11:00:50.141877",
     "exception": false,
     "start_time": "2021-06-23T11:00:50.102474",
     "status": "completed"
    },
    "tags": []
   },
   "source": [
    "## Create a work directory"
   ]
  },
  {
   "cell_type": "code",
   "execution_count": 9,
   "id": "electronic-modification",
   "metadata": {
    "execution": {
     "iopub.execute_input": "2021-06-23T11:00:50.229625Z",
     "iopub.status.busy": "2021-06-23T11:00:50.228819Z",
     "iopub.status.idle": "2021-06-23T11:00:50.955972Z",
     "shell.execute_reply": "2021-06-23T11:00:50.955398Z",
     "shell.execute_reply.started": "2021-06-22T11:55:40.659251Z"
    },
    "papermill": {
     "duration": 0.775079,
     "end_time": "2021-06-23T11:00:50.956121",
     "exception": false,
     "start_time": "2021-06-23T11:00:50.181042",
     "status": "completed"
    },
    "tags": []
   },
   "outputs": [
    {
     "name": "stdout",
     "output_type": "stream",
     "text": [
      "/opt/kaldi/egs/usels/s5\n"
     ]
    }
   ],
   "source": [
    "!mkdir -p usels/s5\n",
    "%cd usels/s5"
   ]
  },
  {
   "cell_type": "code",
   "execution_count": 10,
   "id": "accepting-dominican",
   "metadata": {
    "execution": {
     "iopub.execute_input": "2021-06-23T11:00:51.046501Z",
     "iopub.status.busy": "2021-06-23T11:00:51.045305Z",
     "iopub.status.idle": "2021-06-23T11:00:53.928369Z",
     "shell.execute_reply": "2021-06-23T11:00:53.927715Z",
     "shell.execute_reply.started": "2021-06-22T12:08:43.066673Z"
    },
    "papermill": {
     "duration": 2.934281,
     "end_time": "2021-06-23T11:00:53.928529",
     "exception": false,
     "start_time": "2021-06-23T11:00:50.994248",
     "status": "completed"
    },
    "tags": []
   },
   "outputs": [],
   "source": [
    "!mkdir /kaggle/working/data\n",
    "!mkdir /kaggle/working/exp\n",
    "!ln -s /kaggle/working/data\n",
    "!ln -s /kaggle/working/exp"
   ]
  },
  {
   "cell_type": "code",
   "execution_count": 11,
   "id": "selected-booking",
   "metadata": {
    "execution": {
     "iopub.execute_input": "2021-06-23T11:00:54.016431Z",
     "iopub.status.busy": "2021-06-23T11:00:54.012582Z",
     "iopub.status.idle": "2021-06-23T11:00:56.188249Z",
     "shell.execute_reply": "2021-06-23T11:00:56.188725Z",
     "shell.execute_reply.started": "2021-06-22T11:55:41.459018Z"
    },
    "papermill": {
     "duration": 2.221708,
     "end_time": "2021-06-23T11:00:56.188916",
     "exception": false,
     "start_time": "2021-06-23T11:00:53.967208",
     "status": "completed"
    },
    "tags": []
   },
   "outputs": [],
   "source": [
    "!ln -s ../../wsj/s5/steps\n",
    "!ln -s ../../wsj/s5/utils\n",
    "!ln -s ../../librispeech/s5/local"
   ]
  },
  {
   "cell_type": "code",
   "execution_count": 12,
   "id": "formal-rating",
   "metadata": {
    "execution": {
     "iopub.execute_input": "2021-06-23T11:00:56.274022Z",
     "iopub.status.busy": "2021-06-23T11:00:56.273361Z",
     "iopub.status.idle": "2021-06-23T11:00:56.995140Z",
     "shell.execute_reply": "2021-06-23T11:00:56.994558Z",
     "shell.execute_reply.started": "2021-06-22T11:55:43.77028Z"
    },
    "papermill": {
     "duration": 0.768085,
     "end_time": "2021-06-23T11:00:56.995284",
     "exception": false,
     "start_time": "2021-06-23T11:00:56.227199",
     "status": "completed"
    },
    "tags": []
   },
   "outputs": [],
   "source": [
    "!mkdir conf"
   ]
  },
  {
   "cell_type": "code",
   "execution_count": 13,
   "id": "photographic-christopher",
   "metadata": {
    "execution": {
     "iopub.execute_input": "2021-06-23T11:00:57.081209Z",
     "iopub.status.busy": "2021-06-23T11:00:57.080079Z",
     "iopub.status.idle": "2021-06-23T11:00:57.083546Z",
     "shell.execute_reply": "2021-06-23T11:00:57.084160Z",
     "shell.execute_reply.started": "2021-06-22T11:55:44.555875Z"
    },
    "papermill": {
     "duration": 0.048321,
     "end_time": "2021-06-23T11:00:57.084331",
     "exception": false,
     "start_time": "2021-06-23T11:00:57.036010",
     "status": "completed"
    },
    "tags": []
   },
   "outputs": [
    {
     "name": "stdout",
     "output_type": "stream",
     "text": [
      "Writing conf/mfcc_hires.conf\n"
     ]
    }
   ],
   "source": [
    "%%writefile conf/mfcc_hires.conf\n",
    "# config for high-resolution MFCC features, intended for neural network training\n",
    "# Note: we keep all cepstra, so it has the same info as filterbank features,\n",
    "# but MFCC is more easily compressible (because less correlated) which is why \n",
    "# we prefer this method.\n",
    "--use-energy=false   # use average of log energy, not energy.\n",
    "--num-mel-bins=40     # similar to Google's setup.\n",
    "--num-ceps=40     # there is no dimensionality reduction.\n",
    "--low-freq=20     # low cutoff frequency for mel bins... this is high-bandwidth data, so\n",
    "                  # there might be some information at the low end.\n",
    "--high-freq=-400 # high cutoff frequently, relative to Nyquist of 8000 (=7600)"
   ]
  },
  {
   "cell_type": "markdown",
   "id": "illegal-failing",
   "metadata": {
    "papermill": {
     "duration": 0.038133,
     "end_time": "2021-06-23T11:00:57.161360",
     "exception": false,
     "start_time": "2021-06-23T11:00:57.123227",
     "status": "completed"
    },
    "tags": []
   },
   "source": [
    "## Setting up paths\n",
    "\n",
    "(In the scripts, you just source `path.sh`)"
   ]
  },
  {
   "cell_type": "code",
   "execution_count": 14,
   "id": "cardiac-notice",
   "metadata": {
    "execution": {
     "iopub.execute_input": "2021-06-23T11:00:57.243872Z",
     "iopub.status.busy": "2021-06-23T11:00:57.243079Z",
     "iopub.status.idle": "2021-06-23T11:00:57.246672Z",
     "shell.execute_reply": "2021-06-23T11:00:57.247200Z",
     "shell.execute_reply.started": "2021-06-22T11:55:44.565547Z"
    },
    "papermill": {
     "duration": 0.04768,
     "end_time": "2021-06-23T11:00:57.247384",
     "exception": false,
     "start_time": "2021-06-23T11:00:57.199704",
     "status": "completed"
    },
    "tags": []
   },
   "outputs": [
    {
     "name": "stdout",
     "output_type": "stream",
     "text": [
      "env: KALDI_ROOT=/opt/kaldi\n"
     ]
    }
   ],
   "source": [
    "%env KALDI_ROOT=/opt/kaldi"
   ]
  },
  {
   "cell_type": "code",
   "execution_count": 15,
   "id": "atomic-connectivity",
   "metadata": {
    "execution": {
     "iopub.execute_input": "2021-06-23T11:00:57.337330Z",
     "iopub.status.busy": "2021-06-23T11:00:57.336519Z",
     "iopub.status.idle": "2021-06-23T11:00:58.056994Z",
     "shell.execute_reply": "2021-06-23T11:00:58.056399Z",
     "shell.execute_reply.started": "2021-06-22T11:55:44.577705Z"
    },
    "papermill": {
     "duration": 0.767915,
     "end_time": "2021-06-23T11:00:58.057133",
     "exception": false,
     "start_time": "2021-06-23T11:00:57.289218",
     "status": "completed"
    },
    "tags": []
   },
   "outputs": [
    {
     "name": "stdout",
     "output_type": "stream",
     "text": [
      "export KALDI_ROOT=`pwd`/../../..\r\n",
      "[ -f $KALDI_ROOT/tools/env.sh ] && . $KALDI_ROOT/tools/env.sh\r\n",
      "export PATH=$PWD/utils/:$KALDI_ROOT/tools/openfst/bin:$PWD:$PATH\r\n",
      "[ ! -f $KALDI_ROOT/tools/config/common_path.sh ] && echo >&2 \"The standard file $KALDI_ROOT/tools/config/common_path.sh is not present -> Exit!\" && exit 1\r\n",
      ". $KALDI_ROOT/tools/config/common_path.sh\r\n",
      "export LC_ALL=C\r\n"
     ]
    }
   ],
   "source": [
    "!cat ../../wsj/s5/path.sh"
   ]
  },
  {
   "cell_type": "code",
   "execution_count": 16,
   "id": "powered-homework",
   "metadata": {
    "execution": {
     "iopub.execute_input": "2021-06-23T11:00:58.143103Z",
     "iopub.status.busy": "2021-06-23T11:00:58.142348Z",
     "iopub.status.idle": "2021-06-23T11:00:58.145653Z",
     "shell.execute_reply": "2021-06-23T11:00:58.146435Z",
     "shell.execute_reply.started": "2021-06-22T12:00:36.247262Z"
    },
    "papermill": {
     "duration": 0.049982,
     "end_time": "2021-06-23T11:00:58.146675",
     "exception": false,
     "start_time": "2021-06-23T11:00:58.096693",
     "status": "completed"
    },
    "tags": []
   },
   "outputs": [
    {
     "name": "stdout",
     "output_type": "stream",
     "text": [
      "env: LC_ALL=C\n"
     ]
    }
   ],
   "source": [
    "%env LC_ALL=C\n",
    "#PWD = !pwd\n",
    "PWD = '/opt/kaldi/egs/usels/s5'\n",
    "KALDI_ROOT = '/opt/kaldi'\n",
    "WSJ_PATH = f'{PWD}/utils/:{KALDI_ROOT}/tools/openfst/bin:{PWD}:{EXISTING_PATH}'"
   ]
  },
  {
   "cell_type": "code",
   "execution_count": 17,
   "id": "pharmaceutical-laptop",
   "metadata": {
    "execution": {
     "iopub.execute_input": "2021-06-23T11:00:58.235729Z",
     "iopub.status.busy": "2021-06-23T11:00:58.234931Z",
     "iopub.status.idle": "2021-06-23T11:00:58.954208Z",
     "shell.execute_reply": "2021-06-23T11:00:58.953535Z",
     "shell.execute_reply.started": "2021-06-22T11:57:02.231388Z"
    },
    "papermill": {
     "duration": 0.767062,
     "end_time": "2021-06-23T11:00:58.954358",
     "exception": false,
     "start_time": "2021-06-23T11:00:58.187296",
     "status": "completed"
    },
    "tags": []
   },
   "outputs": [
    {
     "name": "stdout",
     "output_type": "stream",
     "text": [
      "# we assume KALDI_ROOT is already defined\r\n",
      "[ -z \"$KALDI_ROOT\" ] && echo >&2 \"The variable KALDI_ROOT must be already defined\" && exit 1\r\n",
      "# The formatting of the path export command is intentionally weird, because\r\n",
      "# this allows for easy diff'ing\r\n",
      "export PATH=\\\r\n",
      "${KALDI_ROOT}/src/bin:\\\r\n",
      "${KALDI_ROOT}/src/chainbin:\\\r\n",
      "${KALDI_ROOT}/src/featbin:\\\r\n",
      "${KALDI_ROOT}/src/fgmmbin:\\\r\n",
      "${KALDI_ROOT}/src/fstbin:\\\r\n",
      "${KALDI_ROOT}/src/gmmbin:\\\r\n",
      "${KALDI_ROOT}/src/ivectorbin:\\\r\n",
      "${KALDI_ROOT}/src/kwsbin:\\\r\n",
      "${KALDI_ROOT}/src/latbin:\\\r\n",
      "${KALDI_ROOT}/src/lmbin:\\\r\n",
      "${KALDI_ROOT}/src/nnet2bin:\\\r\n",
      "${KALDI_ROOT}/src/nnet3bin:\\\r\n",
      "${KALDI_ROOT}/src/nnetbin:\\\r\n",
      "${KALDI_ROOT}/src/online2bin:\\\r\n",
      "${KALDI_ROOT}/src/onlinebin:\\\r\n",
      "${KALDI_ROOT}/src/rnnlmbin:\\\r\n",
      "${KALDI_ROOT}/src/sgmm2bin:\\\r\n",
      "${KALDI_ROOT}/src/sgmmbin:\\\r\n",
      "${KALDI_ROOT}/src/tfrnnlmbin:\\\r\n",
      "${KALDI_ROOT}/src/cudadecoderbin:\\\r\n",
      "$PATH\r\n"
     ]
    }
   ],
   "source": [
    "!cat $KALDI_ROOT/tools/config/common_path.sh"
   ]
  },
  {
   "cell_type": "code",
   "execution_count": 18,
   "id": "chief-press",
   "metadata": {
    "execution": {
     "iopub.execute_input": "2021-06-23T11:00:59.042271Z",
     "iopub.status.busy": "2021-06-23T11:00:59.041648Z",
     "iopub.status.idle": "2021-06-23T11:00:59.063188Z",
     "shell.execute_reply": "2021-06-23T11:00:59.062453Z",
     "shell.execute_reply.started": "2021-06-22T11:56:52.862746Z"
    },
    "papermill": {
     "duration": 0.068954,
     "end_time": "2021-06-23T11:00:59.063330",
     "exception": false,
     "start_time": "2021-06-23T11:00:58.994376",
     "status": "completed"
    },
    "tags": []
   },
   "outputs": [],
   "source": [
    "#kaldi_paths=!cat $KALDI_ROOT/tools/config/common_path.sh|grep '/src/'|awk -F':' '{print $1}'|awk -F'/' '{print $NF}'|tr '\\n' ':'\n",
    "raw_kaldi_paths=!cat $KALDI_ROOT/tools/config/common_path.sh|grep '/src/'|awk -F':' '{print $1}'|awk -F'/' '{print \"/opt/kaldi/src/\"$NF}'"
   ]
  },
  {
   "cell_type": "code",
   "execution_count": 19,
   "id": "complete-stanford",
   "metadata": {
    "execution": {
     "iopub.execute_input": "2021-06-23T11:00:59.150177Z",
     "iopub.status.busy": "2021-06-23T11:00:59.149517Z",
     "iopub.status.idle": "2021-06-23T11:00:59.151573Z",
     "shell.execute_reply": "2021-06-23T11:00:59.152042Z",
     "shell.execute_reply.started": "2021-06-22T12:02:21.567242Z"
    },
    "papermill": {
     "duration": 0.04795,
     "end_time": "2021-06-23T11:00:59.152222",
     "exception": false,
     "start_time": "2021-06-23T11:00:59.104272",
     "status": "completed"
    },
    "tags": []
   },
   "outputs": [],
   "source": [
    "KALDI_PATHS=raw_kaldi_paths.nlstr.replace('\\n',':')"
   ]
  },
  {
   "cell_type": "code",
   "execution_count": 20,
   "id": "small-albert",
   "metadata": {
    "execution": {
     "iopub.execute_input": "2021-06-23T11:00:59.235640Z",
     "iopub.status.busy": "2021-06-23T11:00:59.234982Z",
     "iopub.status.idle": "2021-06-23T11:00:59.962221Z",
     "shell.execute_reply": "2021-06-23T11:00:59.961632Z",
     "shell.execute_reply.started": "2021-06-22T11:56:58.4537Z"
    },
    "papermill": {
     "duration": 0.769942,
     "end_time": "2021-06-23T11:00:59.962372",
     "exception": false,
     "start_time": "2021-06-23T11:00:59.192430",
     "status": "completed"
    },
    "tags": []
   },
   "outputs": [
    {
     "name": "stdout",
     "output_type": "stream",
     "text": [
      "export PATH=/opt/kaldi/tools/python:${PATH}\r\n",
      "export PHONETISAURUS=\"/tmp/output/opt/kaldi/tools/phonetisaurus-g2p\"\r\n",
      "export PATH=\"$PATH:${PHONETISAURUS}:${PHONETISAURUS}/src/scripts\"\r\n"
     ]
    }
   ],
   "source": [
    "!cat $KALDI_ROOT/tools/env.sh"
   ]
  },
  {
   "cell_type": "code",
   "execution_count": 21,
   "id": "owned-therapy",
   "metadata": {
    "execution": {
     "iopub.execute_input": "2021-06-23T11:01:00.049320Z",
     "iopub.status.busy": "2021-06-23T11:01:00.048660Z",
     "iopub.status.idle": "2021-06-23T11:01:00.050630Z",
     "shell.execute_reply": "2021-06-23T11:01:00.051078Z",
     "shell.execute_reply.started": "2021-06-22T12:02:09.80754Z"
    },
    "papermill": {
     "duration": 0.048101,
     "end_time": "2021-06-23T11:01:00.051248",
     "exception": false,
     "start_time": "2021-06-23T11:01:00.003147",
     "status": "completed"
    },
    "tags": []
   },
   "outputs": [],
   "source": [
    "PHONETISAURUS = \"/tmp/output/opt/kaldi/tools/phonetisaurus-g2p\"\n",
    "TOOLS_PATH = f'/opt/kaldi/tools/python:{PHONETISAURUS}:{PHONETISAURUS}/src/scripts'"
   ]
  },
  {
   "cell_type": "code",
   "execution_count": 22,
   "id": "objective-cursor",
   "metadata": {
    "execution": {
     "iopub.execute_input": "2021-06-23T11:01:00.135251Z",
     "iopub.status.busy": "2021-06-23T11:01:00.134593Z",
     "iopub.status.idle": "2021-06-23T11:01:00.140676Z",
     "shell.execute_reply": "2021-06-23T11:01:00.140118Z",
     "shell.execute_reply.started": "2021-06-22T12:03:04.119662Z"
    },
    "papermill": {
     "duration": 0.049062,
     "end_time": "2021-06-23T11:01:00.140826",
     "exception": false,
     "start_time": "2021-06-23T11:01:00.091764",
     "status": "completed"
    },
    "tags": []
   },
   "outputs": [
    {
     "name": "stdout",
     "output_type": "stream",
     "text": [
      "env: PATH=f\"/opt/kaldi/egs/usels/s5/utils/:/opt/kaldi/tools/openfst/bin:/opt/kaldi/egs/usels/s5:/opt/conda/bin:/usr/local/sbin:/usr/local/bin:/usr/sbin:/usr/bin:/sbin:/bin:/opt/kaldi/src/bin:/opt/kaldi/src/chainbin:/opt/kaldi/src/featbin:/opt/kaldi/src/fgmmbin:/opt/kaldi/src/fstbin:/opt/kaldi/src/gmmbin:/opt/kaldi/src/ivectorbin:/opt/kaldi/src/kwsbin:/opt/kaldi/src/latbin:/opt/kaldi/src/lmbin:/opt/kaldi/src/nnet2bin:/opt/kaldi/src/nnet3bin:/opt/kaldi/src/nnetbin:/opt/kaldi/src/online2bin:/opt/kaldi/src/onlinebin:/opt/kaldi/src/rnnlmbin:/opt/kaldi/src/sgmm2bin:/opt/kaldi/src/sgmmbin:/opt/kaldi/src/tfrnnlmbin:/opt/kaldi/src/cudadecoderbin:/opt/kaldi/tools/python:/tmp/output/opt/kaldi/tools/phonetisaurus-g2p:/tmp/output/opt/kaldi/tools/phonetisaurus-g2p/src/scripts\"\n"
     ]
    }
   ],
   "source": [
    "%env PATH = f\"{WSJ_PATH}:{KALDI_PATHS}:{TOOLS_PATH}\""
   ]
  },
  {
   "cell_type": "code",
   "execution_count": 23,
   "id": "instant-frank",
   "metadata": {
    "execution": {
     "iopub.execute_input": "2021-06-23T11:01:00.228118Z",
     "iopub.status.busy": "2021-06-23T11:01:00.227425Z",
     "iopub.status.idle": "2021-06-23T11:01:00.951049Z",
     "shell.execute_reply": "2021-06-23T11:01:00.950497Z",
     "shell.execute_reply.started": "2021-06-22T12:16:15.76424Z"
    },
    "papermill": {
     "duration": 0.769639,
     "end_time": "2021-06-23T11:01:00.951199",
     "exception": false,
     "start_time": "2021-06-23T11:01:00.181560",
     "status": "completed"
    },
    "tags": []
   },
   "outputs": [
    {
     "name": "stdout",
     "output_type": "stream",
     "text": [
      "# you can change cmd.sh depending on what type of queue you are using.\r\n",
      "# If you have no queueing system and want to run on a local machine, you\r\n",
      "# can change all instances 'queue.pl' to run.pl (but be careful and run\r\n",
      "# commands one by one: most recipes will exhaust the memory on your\r\n",
      "# machine).  queue.pl works with GridEngine (qsub).  slurm.pl works\r\n",
      "# with slurm.  Different queues are configured differently, with different\r\n",
      "# queue names and different ways of specifying things like memory;\r\n",
      "# to account for these differences you can create and edit the file\r\n",
      "# conf/queue.conf to match your queue's configuration.  Search for\r\n",
      "# conf/queue.conf in http://kaldi-asr.org/doc/queue.html for more information,\r\n",
      "# or search for the string 'default_config' in utils/queue.pl or utils/slurm.pl.\r\n",
      "\r\n",
      "export train_cmd=queue.pl\r\n",
      "export decode_cmd=\"queue.pl --mem 2G\"\r\n",
      "# the use of cuda_cmd is deprecated, used only in 'nnet1',\r\n",
      "export cuda_cmd=\"queue.pl --gpu 1\"\r\n",
      "\r\n",
      "if [ \"$(hostname -d)\" == \"fit.vutbr.cz\" ]; then\r\n",
      "  queue_conf=$HOME/queue_conf/default.conf # see example /homes/kazi/iveselyk/queue_conf/default.conf,\r\n",
      "  export train_cmd=\"queue.pl --config $queue_conf --mem 2G --matylda 0.2\"\r\n",
      "  export decode_cmd=\"queue.pl --config $queue_conf --mem 3G --matylda 0.1\"\r\n",
      "  export cuda_cmd=\"queue.pl --config $queue_conf --gpu 1 --mem 10G --tmp 40G\"\r\n",
      "fi\r\n"
     ]
    }
   ],
   "source": [
    "!cat ../../wsj/s5/cmd.sh"
   ]
  },
  {
   "cell_type": "code",
   "execution_count": 24,
   "id": "intelligent-palestinian",
   "metadata": {
    "execution": {
     "iopub.execute_input": "2021-06-23T11:01:01.042362Z",
     "iopub.status.busy": "2021-06-23T11:01:01.041534Z",
     "iopub.status.idle": "2021-06-23T11:01:01.046451Z",
     "shell.execute_reply": "2021-06-23T11:01:01.045808Z",
     "shell.execute_reply.started": "2021-06-22T12:25:36.054695Z"
    },
    "papermill": {
     "duration": 0.053468,
     "end_time": "2021-06-23T11:01:01.046610",
     "exception": false,
     "start_time": "2021-06-23T11:01:00.993142",
     "status": "completed"
    },
    "tags": []
   },
   "outputs": [
    {
     "name": "stdout",
     "output_type": "stream",
     "text": [
      "env: train_cmd=run.pl\n",
      "env: decode_cmd=run.pl\n"
     ]
    }
   ],
   "source": [
    "%env train_cmd=run.pl\n",
    "%env decode_cmd=run.pl"
   ]
  },
  {
   "cell_type": "code",
   "execution_count": 25,
   "id": "convertible-florence",
   "metadata": {
    "execution": {
     "iopub.execute_input": "2021-06-23T11:01:01.133678Z",
     "iopub.status.busy": "2021-06-23T11:01:01.132978Z",
     "iopub.status.idle": "2021-06-23T11:01:04.033475Z",
     "shell.execute_reply": "2021-06-23T11:01:04.034023Z",
     "shell.execute_reply.started": "2021-06-22T12:25:39.332426Z"
    },
    "papermill": {
     "duration": 2.945769,
     "end_time": "2021-06-23T11:01:04.034215",
     "exception": false,
     "start_time": "2021-06-23T11:01:01.088446",
     "status": "completed"
    },
    "tags": []
   },
   "outputs": [],
   "source": [
    "!ln -s ../../wsj/s5/cmd.sh\n",
    "!ln -s ../../wsj/s5/path.sh\n",
    "!ln -s utils/queue.pl\n",
    "!ln -s utils/run.pl"
   ]
  },
  {
   "cell_type": "code",
   "execution_count": 26,
   "id": "interested-inspiration",
   "metadata": {
    "execution": {
     "iopub.execute_input": "2021-06-23T11:01:04.122446Z",
     "iopub.status.busy": "2021-06-23T11:01:04.121842Z",
     "iopub.status.idle": "2021-06-23T11:01:04.861500Z",
     "shell.execute_reply": "2021-06-23T11:01:04.860792Z",
     "shell.execute_reply.started": "2021-06-22T12:25:11.355403Z"
    },
    "papermill": {
     "duration": 0.783672,
     "end_time": "2021-06-23T11:01:04.861644",
     "exception": false,
     "start_time": "2021-06-23T11:01:04.077972",
     "status": "completed"
    },
    "tags": []
   },
   "outputs": [],
   "source": [
    "!rm *.pl"
   ]
  },
  {
   "cell_type": "markdown",
   "id": "effective-award",
   "metadata": {
    "papermill": {
     "duration": 0.043026,
     "end_time": "2021-06-23T11:01:04.946682",
     "exception": false,
     "start_time": "2021-06-23T11:01:04.903656",
     "status": "completed"
    },
    "tags": []
   },
   "source": [
    "## Data prep"
   ]
  },
  {
   "cell_type": "code",
   "execution_count": 27,
   "id": "contrary-pathology",
   "metadata": {
    "execution": {
     "iopub.execute_input": "2021-06-23T11:01:05.036153Z",
     "iopub.status.busy": "2021-06-23T11:01:05.035516Z",
     "iopub.status.idle": "2021-06-23T11:01:18.051191Z",
     "shell.execute_reply": "2021-06-23T11:01:18.050250Z",
     "shell.execute_reply.started": "2021-06-22T12:10:48.153674Z"
    },
    "papermill": {
     "duration": 13.062002,
     "end_time": "2021-06-23T11:01:18.051358",
     "exception": false,
     "start_time": "2021-06-23T11:01:04.989356",
     "status": "completed"
    },
    "tags": []
   },
   "outputs": [
    {
     "name": "stdout",
     "output_type": "stream",
     "text": [
      "utils/validate_data_dir.sh: Successfully validated data-directory data/test-other\r\n",
      "local/data_prep.sh: successfully prepared data in data/test-other\r\n",
      "utils/validate_data_dir.sh: Successfully validated data-directory data/test-clean\r\n",
      "local/data_prep.sh: successfully prepared data in data/test-clean\r\n"
     ]
    }
   ],
   "source": [
    "!local/data_prep.sh /kaggle/input/librispeech-test-clean-and-other/LibriSpeech/test-other data/test-other\n",
    "!local/data_prep.sh /kaggle/input/librispeech-test-clean-and-other/LibriSpeech/test-clean data/test-clean"
   ]
  },
  {
   "cell_type": "code",
   "execution_count": 28,
   "id": "collected-republican",
   "metadata": {
    "execution": {
     "iopub.execute_input": "2021-06-23T11:01:18.147023Z",
     "iopub.status.busy": "2021-06-23T11:01:18.143321Z",
     "iopub.status.idle": "2021-06-23T11:01:20.173331Z",
     "shell.execute_reply": "2021-06-23T11:01:20.172184Z",
     "shell.execute_reply.started": "2021-06-22T12:12:48.716774Z"
    },
    "papermill": {
     "duration": 2.078502,
     "end_time": "2021-06-23T11:01:20.173577",
     "exception": false,
     "start_time": "2021-06-23T11:01:18.095075",
     "status": "completed"
    },
    "tags": []
   },
   "outputs": [
    {
     "name": "stdout",
     "output_type": "stream",
     "text": [
      "utils/copy_data_dir.sh: copied data from data/test-clean to data/test-clean_hires\r\n",
      "utils/validate_data_dir.sh: Successfully validated data-directory data/test-clean_hires\r\n",
      "utils/copy_data_dir.sh: copied data from data/test-other to data/test-other_hires\r\n",
      "utils/validate_data_dir.sh: Successfully validated data-directory data/test-other_hires\r\n"
     ]
    }
   ],
   "source": [
    "!utils/copy_data_dir.sh data/test-clean data/test-clean_hires\n",
    "!utils/copy_data_dir.sh data/test-other data/test-other_hires"
   ]
  },
  {
   "cell_type": "code",
   "execution_count": 29,
   "id": "continuing-tower",
   "metadata": {
    "execution": {
     "iopub.execute_input": "2021-06-23T11:01:20.266675Z",
     "iopub.status.busy": "2021-06-23T11:01:20.266019Z",
     "iopub.status.idle": "2021-06-23T11:01:20.979453Z",
     "shell.execute_reply": "2021-06-23T11:01:20.978802Z",
     "shell.execute_reply.started": "2021-06-22T12:20:32.826362Z"
    },
    "papermill": {
     "duration": 0.76179,
     "end_time": "2021-06-23T11:01:20.979622",
     "exception": false,
     "start_time": "2021-06-23T11:01:20.217832",
     "status": "completed"
    },
    "tags": []
   },
   "outputs": [],
   "source": [
    "!ln -s utils/parse_options.sh"
   ]
  },
  {
   "cell_type": "code",
   "execution_count": 30,
   "id": "velvet-motion",
   "metadata": {
    "execution": {
     "iopub.execute_input": "2021-06-23T11:01:21.085038Z",
     "iopub.status.busy": "2021-06-23T11:01:21.084141Z",
     "iopub.status.idle": "2021-06-23T11:02:49.224900Z",
     "shell.execute_reply": "2021-06-23T11:02:49.224267Z",
     "shell.execute_reply.started": "2021-06-22T12:25:44.313451Z"
    },
    "papermill": {
     "duration": 88.202215,
     "end_time": "2021-06-23T11:02:49.225073",
     "exception": false,
     "start_time": "2021-06-23T11:01:21.022858",
     "status": "completed"
    },
    "tags": []
   },
   "outputs": [
    {
     "name": "stdout",
     "output_type": "stream",
     "text": [
      "steps/make_mfcc.sh --nj 20 --mfcc-config conf/mfcc_hires.conf --cmd run.pl data/test-clean_hires\r\n",
      "utils/validate_data_dir.sh: Successfully validated data-directory data/test-clean_hires\r\n",
      "steps/make_mfcc.sh: [info]: no segments file exists: assuming wav.scp indexed by utterance.\r\n",
      "steps/make_mfcc.sh: Succeeded creating MFCC features for test-clean_hires\r\n",
      "steps/compute_cmvn_stats.sh data/test-clean_hires\r\n",
      "Succeeded creating CMVN stats for test-clean_hires\r\n",
      "fix_data_dir.sh: kept all 2620 utterances.\r\n",
      "fix_data_dir.sh: old files are kept in data/test-clean_hires/.backup\r\n",
      "steps/make_mfcc.sh --nj 20 --mfcc-config conf/mfcc_hires.conf --cmd run.pl data/test-other_hires\r\n",
      "utils/validate_data_dir.sh: Successfully validated data-directory data/test-other_hires\r\n",
      "steps/make_mfcc.sh: [info]: no segments file exists: assuming wav.scp indexed by utterance.\r\n",
      "steps/make_mfcc.sh: Succeeded creating MFCC features for test-other_hires\r\n",
      "steps/compute_cmvn_stats.sh data/test-other_hires\r\n",
      "Succeeded creating CMVN stats for test-other_hires\r\n",
      "fix_data_dir.sh: kept all 2939 utterances.\r\n",
      "fix_data_dir.sh: old files are kept in data/test-other_hires/.backup\r\n"
     ]
    }
   ],
   "source": [
    "!steps/make_mfcc.sh --nj 20 --mfcc-config conf/mfcc_hires.conf --cmd \"$train_cmd\" data/test-clean_hires\n",
    "!steps/compute_cmvn_stats.sh data/test-clean_hires\n",
    "!utils/fix_data_dir.sh data/test-clean_hires\n",
    "!steps/make_mfcc.sh --nj 20 --mfcc-config conf/mfcc_hires.conf --cmd \"$train_cmd\" data/test-other_hires\n",
    "!steps/compute_cmvn_stats.sh data/test-other_hires\n",
    "!utils/fix_data_dir.sh data/test-other_hires\n"
   ]
  },
  {
   "cell_type": "markdown",
   "id": "guided-amount",
   "metadata": {
    "papermill": {
     "duration": 0.04789,
     "end_time": "2021-06-23T11:02:49.320591",
     "exception": false,
     "start_time": "2021-06-23T11:02:49.272701",
     "status": "completed"
    },
    "tags": []
   },
   "source": [
    "## Extract i-vectors"
   ]
  },
  {
   "cell_type": "code",
   "execution_count": 31,
   "id": "separated-difficulty",
   "metadata": {
    "execution": {
     "iopub.execute_input": "2021-06-23T11:02:49.427202Z",
     "iopub.status.busy": "2021-06-23T11:02:49.422827Z",
     "iopub.status.idle": "2021-06-23T11:02:50.866473Z",
     "shell.execute_reply": "2021-06-23T11:02:50.865898Z",
     "shell.execute_reply.started": "2021-06-22T12:38:42.072847Z"
    },
    "papermill": {
     "duration": 1.497991,
     "end_time": "2021-06-23T11:02:50.866619",
     "exception": false,
     "start_time": "2021-06-23T11:02:49.368628",
     "status": "completed"
    },
    "tags": []
   },
   "outputs": [],
   "source": [
    "!ln -s /kaggle/input/kaldi-librispeech-model/exp/nnet3_cleaned/ exp/nnet3_cleaned\n",
    "!ln -s /kaggle/input/kaldi-librispeech-model/exp/chain_cleaned/ exp/chain_cleaned"
   ]
  },
  {
   "cell_type": "code",
   "execution_count": 32,
   "id": "accredited-alarm",
   "metadata": {
    "execution": {
     "iopub.execute_input": "2021-06-23T11:02:50.975119Z",
     "iopub.status.busy": "2021-06-23T11:02:50.974129Z",
     "iopub.status.idle": "2021-06-23T11:04:02.466511Z",
     "shell.execute_reply": "2021-06-23T11:04:02.466982Z",
     "shell.execute_reply.started": "2021-06-22T12:44:16.329652Z"
    },
    "papermill": {
     "duration": 71.552637,
     "end_time": "2021-06-23T11:04:02.467182",
     "exception": false,
     "start_time": "2021-06-23T11:02:50.914545",
     "status": "completed"
    },
    "tags": []
   },
   "outputs": [
    {
     "name": "stdout",
     "output_type": "stream",
     "text": [
      "env: nspk=$(wc -l <data/test-clean_hires/spk2utt)\n",
      "steps/online/nnet2/extract_ivectors_online.sh --cmd run.pl --nj $(wc -l <data/test-clean_hires/spk2utt) data/test-clean_hires exp/nnet3_cleaned/extractor exp/nnet3_cleaned_out/ivectors_test-clean_hires\r\n",
      "steps/online/nnet2/extract_ivectors_online.sh: extracting iVectors\r\n",
      "steps/online/nnet2/extract_ivectors_online.sh: combining iVectors across jobs\r\n",
      "steps/online/nnet2/extract_ivectors_online.sh: done extracting (online) iVectors to exp/nnet3_cleaned_out/ivectors_test-clean_hires using the extractor in exp/nnet3_cleaned/extractor.\r\n",
      "env: nspk=$(wc -l <data/test-other_hires/spk2utt)\n",
      "steps/online/nnet2/extract_ivectors_online.sh --cmd run.pl --nj $(wc -l <data/test-other_hires/spk2utt) data/test-other_hires exp/nnet3_cleaned/extractor exp/nnet3_cleaned_out/ivectors_test-other_hires\r\n",
      "steps/online/nnet2/extract_ivectors_online.sh: extracting iVectors\r\n",
      "steps/online/nnet2/extract_ivectors_online.sh: combining iVectors across jobs\r\n",
      "steps/online/nnet2/extract_ivectors_online.sh: done extracting (online) iVectors to exp/nnet3_cleaned_out/ivectors_test-other_hires using the extractor in exp/nnet3_cleaned/extractor.\r\n"
     ]
    }
   ],
   "source": [
    "%env nspk=$(wc -l <data/test-clean_hires/spk2utt)\n",
    "!steps/online/nnet2/extract_ivectors_online.sh --cmd \"$train_cmd\" --nj \"${nspk}\" data/test-clean_hires exp/nnet3_cleaned/extractor exp/nnet3_cleaned_out/ivectors_test-clean_hires\n",
    "%env nspk=$(wc -l <data/test-other_hires/spk2utt)\n",
    "!steps/online/nnet2/extract_ivectors_online.sh --cmd \"$train_cmd\" --nj \"${nspk}\" data/test-other_hires exp/nnet3_cleaned/extractor exp/nnet3_cleaned_out/ivectors_test-other_hires"
   ]
  },
  {
   "cell_type": "markdown",
   "id": "owned-winner",
   "metadata": {
    "papermill": {
     "duration": 0.051305,
     "end_time": "2021-06-23T11:04:02.569955",
     "exception": false,
     "start_time": "2021-06-23T11:04:02.518650",
     "status": "completed"
    },
    "tags": []
   },
   "source": [
    "## Build decoding graph"
   ]
  },
  {
   "cell_type": "markdown",
   "id": "sealed-insulin",
   "metadata": {
    "papermill": {
     "duration": 0.050889,
     "end_time": "2021-06-23T11:04:02.671885",
     "exception": false,
     "start_time": "2021-06-23T11:04:02.620996",
     "status": "completed"
    },
    "tags": []
   },
   "source": [
    "Just linking this directory won't work, as it expects to be able to write to it (Kaldi scripts, smh)"
   ]
  },
  {
   "cell_type": "code",
   "execution_count": 33,
   "id": "embedded-society",
   "metadata": {
    "execution": {
     "iopub.execute_input": "2021-06-23T11:04:02.783547Z",
     "iopub.status.busy": "2021-06-23T11:04:02.779306Z",
     "iopub.status.idle": "2021-06-23T11:04:06.173895Z",
     "shell.execute_reply": "2021-06-23T11:04:06.172491Z"
    },
    "papermill": {
     "duration": 3.451164,
     "end_time": "2021-06-23T11:04:06.174051",
     "exception": false,
     "start_time": "2021-06-23T11:04:02.722887",
     "status": "completed"
    },
    "tags": []
   },
   "outputs": [],
   "source": [
    "!cp -r /kaggle/input/kaldi-librispeech-model/data/lang_test_tgsmall data"
   ]
  },
  {
   "cell_type": "code",
   "execution_count": 34,
   "id": "rotary-sense",
   "metadata": {
    "execution": {
     "iopub.execute_input": "2021-06-23T11:04:06.293108Z",
     "iopub.status.busy": "2021-06-23T11:04:06.287943Z",
     "iopub.status.idle": "2021-06-23T11:07:18.325139Z",
     "shell.execute_reply": "2021-06-23T11:07:18.324403Z"
    },
    "papermill": {
     "duration": 192.099202,
     "end_time": "2021-06-23T11:07:18.325395",
     "exception": false,
     "start_time": "2021-06-23T11:04:06.226193",
     "status": "completed"
    },
    "tags": []
   },
   "outputs": [
    {
     "name": "stdout",
     "output_type": "stream",
     "text": [
      "env: tdnndir=exp/chain_cleaned/tdnn_1d_sp\n",
      "env: graph_dir=exp/chain_cleaned_out/graph_tgsmall\n",
      "tree-info exp/chain_cleaned/tdnn_1d_sp/tree \r\n",
      "tree-info exp/chain_cleaned/tdnn_1d_sp/tree \r\n",
      "fstpushspecial \r\n",
      "fstminimizeencoded \r\n",
      "fstdeterminizestar --use-log=true \r\n",
      "fsttablecompose data/lang_test_tgsmall/L_disambig.fst data/lang_test_tgsmall/G.fst \r\n",
      "fstisstochastic data/lang_test_tgsmall/tmp/LG.fst \r\n",
      "-0.0459745 -0.0466771\r\n",
      "[info]: LG not stochastic.\r\n",
      "fstcomposecontext --context-size=2 --central-position=1 --read-disambig-syms=data/lang_test_tgsmall/phones/disambig.int --write-disambig-syms=data/lang_test_tgsmall/tmp/disambig_ilabels_2_1.int data/lang_test_tgsmall/tmp/ilabels_2_1.113735 data/lang_test_tgsmall/tmp/LG.fst \r\n",
      "fstisstochastic data/lang_test_tgsmall/tmp/CLG_2_1.fst \r\n",
      "-0.0459745 -0.0466771\r\n",
      "[info]: CLG not stochastic.\r\n",
      "make-h-transducer --disambig-syms-out=exp/chain_cleaned_out/graph_tgsmall/disambig_tid.int --transition-scale=1.0 data/lang_test_tgsmall/tmp/ilabels_2_1 exp/chain_cleaned/tdnn_1d_sp/tree exp/chain_cleaned/tdnn_1d_sp/final.mdl \r\n",
      "fstdeterminizestar --use-log=true \r\n",
      "fsttablecompose exp/chain_cleaned_out/graph_tgsmall/Ha.fst 'fstrmsymbols --remove-arcs=true --apply-to-output=true data/lang_test_tgsmall/oov.int data/lang_test_tgsmall/tmp/CLG_2_1.fst|' \r\n",
      "fstminimizeencoded \r\n",
      "fstrmsymbols exp/chain_cleaned_out/graph_tgsmall/disambig_tid.int \r\n",
      "fstrmepslocal \r\n",
      "fstrmsymbols --remove-arcs=true --apply-to-output=true data/lang_test_tgsmall/oov.int data/lang_test_tgsmall/tmp/CLG_2_1.fst \r\n",
      "fstisstochastic exp/chain_cleaned_out/graph_tgsmall/HCLGa.fst \r\n",
      "3.39453 -0.209239\r\n",
      "HCLGa is not stochastic\r\n",
      "add-self-loops --self-loop-scale=1.0 --reorder=true exp/chain_cleaned/tdnn_1d_sp/final.mdl exp/chain_cleaned_out/graph_tgsmall/HCLGa.fst \r\n",
      "fstisstochastic exp/chain_cleaned_out/graph_tgsmall/HCLG.fst \r\n",
      "3.05078 -0.127788\r\n",
      "[info]: final HCLG is not stochastic.\r\n"
     ]
    }
   ],
   "source": [
    "%env tdnndir=exp/chain_cleaned/tdnn_1d_sp\n",
    "%env graph_dir=exp/chain_cleaned_out/graph_tgsmall\n",
    "!utils/mkgraph.sh --self-loop-scale 1.0 --remove-oov data/lang_test_tgsmall $tdnndir $graph_dir"
   ]
  },
  {
   "cell_type": "markdown",
   "id": "brilliant-increase",
   "metadata": {
    "papermill": {
     "duration": 0.06014,
     "end_time": "2021-06-23T11:07:18.448063",
     "exception": false,
     "start_time": "2021-06-23T11:07:18.387923",
     "status": "completed"
    },
    "tags": []
   },
   "source": [
    "## Decode"
   ]
  },
  {
   "cell_type": "code",
   "execution_count": 35,
   "id": "collaborative-asbestos",
   "metadata": {
    "execution": {
     "iopub.execute_input": "2021-06-23T11:07:18.578253Z",
     "iopub.status.busy": "2021-06-23T11:07:18.573689Z",
     "iopub.status.idle": "2021-06-23T11:07:20.068384Z",
     "shell.execute_reply": "2021-06-23T11:07:20.066929Z"
    },
    "papermill": {
     "duration": 1.56238,
     "end_time": "2021-06-23T11:07:20.068682",
     "exception": false,
     "start_time": "2021-06-23T11:07:18.506302",
     "status": "completed"
    },
    "tags": []
   },
   "outputs": [
    {
     "name": "stdout",
     "output_type": "stream",
     "text": [
      "/kaggle/working/exp/tdnn_1d_sp\n",
      "/opt/kaldi/egs/usels/s5\n",
      "popd -> /opt/kaldi/egs/usels/s5\n"
     ]
    }
   ],
   "source": [
    "!mkdir exp/tdnn_1d_sp\n",
    "%pushd exp/tdnn_1d_sp\n",
    "!for i in /kaggle/input/kaldi-librispeech-model/exp/chain_cleaned/tdnn_1d_sp/*;do ln -s $i;done\n",
    "%popd"
   ]
  },
  {
   "cell_type": "code",
   "execution_count": 36,
   "id": "headed-bachelor",
   "metadata": {
    "execution": {
     "iopub.execute_input": "2021-06-23T11:07:20.197195Z",
     "iopub.status.busy": "2021-06-23T11:07:20.196523Z",
     "iopub.status.idle": "2021-06-23T12:11:54.973058Z",
     "shell.execute_reply": "2021-06-23T12:11:54.972297Z"
    },
    "papermill": {
     "duration": 3874.845909,
     "end_time": "2021-06-23T12:11:54.973333",
     "exception": false,
     "start_time": "2021-06-23T11:07:20.127424",
     "status": "completed"
    },
    "tags": []
   },
   "outputs": [
    {
     "name": "stdout",
     "output_type": "stream",
     "text": [
      "env: tdnndir=exp/tdnn_1d_sp\n",
      "steps/nnet3/decode.sh --acwt 1.0 --post-decode-acwt 10.0 --nj 8 --cmd run.pl --online-ivector-dir exp/nnet3_cleaned_out/ivectors_test-clean_hires exp/chain_cleaned_out/graph_tgsmall data/test-clean_hires exp/tdnn_1d_sp/decode_test-clean_tgsmall\r\n",
      "steps/nnet3/decode.sh: feature type is raw\r\n",
      "steps/diagnostic/analyze_lats.sh --cmd run.pl --iter final exp/chain_cleaned_out/graph_tgsmall exp/tdnn_1d_sp/decode_test-clean_tgsmall\r\n",
      "steps/diagnostic/analyze_lats.sh: see stats in exp/tdnn_1d_sp/decode_test-clean_tgsmall/log/analyze_alignments.log\r\n",
      "Overall, lattice depth (10,50,90-percentile)=(1,2,5) and mean=2.8\r\n",
      "steps/diagnostic/analyze_lats.sh: see stats in exp/tdnn_1d_sp/decode_test-clean_tgsmall/log/analyze_lattice_depth_stats.log\r\n",
      "score best paths\r\n",
      "score confidence and timing with sclite\r\n",
      "Decoding done.\r\n",
      "steps/nnet3/decode.sh --acwt 1.0 --post-decode-acwt 10.0 --nj 8 --cmd run.pl --online-ivector-dir exp/nnet3_cleaned_out/ivectors_test-other_hires exp/chain_cleaned_out/graph_tgsmall data/test-other_hires exp/tdnn_1d_sp/decode_test-other_tgsmall\r\n",
      "steps/nnet3/decode.sh: feature type is raw\r\n",
      "steps/diagnostic/analyze_lats.sh --cmd run.pl --iter final exp/chain_cleaned_out/graph_tgsmall exp/tdnn_1d_sp/decode_test-other_tgsmall\r\n",
      "steps/diagnostic/analyze_lats.sh: see stats in exp/tdnn_1d_sp/decode_test-other_tgsmall/log/analyze_alignments.log\r\n",
      "Overall, lattice depth (10,50,90-percentile)=(1,3,13) and mean=6.3\r\n",
      "steps/diagnostic/analyze_lats.sh: see stats in exp/tdnn_1d_sp/decode_test-other_tgsmall/log/analyze_lattice_depth_stats.log\r\n",
      "score best paths\r\n",
      "score confidence and timing with sclite\r\n",
      "Decoding done.\r\n"
     ]
    }
   ],
   "source": [
    "%env tdnndir=exp/tdnn_1d_sp\n",
    "!steps/nnet3/decode.sh --acwt 1.0 --post-decode-acwt 10.0 --nj 8 --cmd \"$decode_cmd\" --online-ivector-dir exp/nnet3_cleaned_out/ivectors_test-clean_hires $graph_dir data/test-clean_hires $tdnndir/decode_test-clean_tgsmall\n",
    "!steps/nnet3/decode.sh --acwt 1.0 --post-decode-acwt 10.0 --nj 8 --cmd \"$decode_cmd\" --online-ivector-dir exp/nnet3_cleaned_out/ivectors_test-other_hires $graph_dir data/test-other_hires $tdnndir/decode_test-other_tgsmall"
   ]
  },
  {
   "cell_type": "markdown",
   "id": "enabling-guidance",
   "metadata": {
    "papermill": {
     "duration": 0.063322,
     "end_time": "2021-06-23T12:11:55.100131",
     "exception": false,
     "start_time": "2021-06-23T12:11:55.036809",
     "status": "completed"
    },
    "tags": []
   },
   "source": [
    "## Score"
   ]
  },
  {
   "cell_type": "code",
   "execution_count": 37,
   "id": "future-muslim",
   "metadata": {
    "execution": {
     "iopub.execute_input": "2021-06-23T12:11:55.237262Z",
     "iopub.status.busy": "2021-06-23T12:11:55.236569Z",
     "iopub.status.idle": "2021-06-23T12:14:16.938514Z",
     "shell.execute_reply": "2021-06-23T12:14:16.937407Z"
    },
    "papermill": {
     "duration": 141.776042,
     "end_time": "2021-06-23T12:14:16.938708",
     "exception": false,
     "start_time": "2021-06-23T12:11:55.162666",
     "status": "completed"
    },
    "tags": []
   },
   "outputs": [
    {
     "name": "stdout",
     "output_type": "stream",
     "text": [
      "steps/score_kaldi.sh --cmd run.pl data/test-clean_hires exp/chain_cleaned_out/graph_tgsmall exp/tdnn_1d_sp/decode_test-clean_tgsmall\r\n",
      "steps/score_kaldi.sh: scoring with word insertion penalty=0.0,0.5,1.0\r\n",
      "steps/score_kaldi.sh --cmd run.pl data/test-other_hires exp/chain_cleaned_out/graph_tgsmall exp/tdnn_1d_sp/decode_test-other_tgsmall\r\n",
      "steps/score_kaldi.sh: scoring with word insertion penalty=0.0,0.5,1.0\r\n"
     ]
    }
   ],
   "source": [
    "!steps/score_kaldi.sh --cmd \"run.pl\" data/test-clean_hires $graph_dir $tdnndir/decode_test-clean_tgsmall\n",
    "!steps/score_kaldi.sh --cmd \"run.pl\" data/test-other_hires $graph_dir $tdnndir/decode_test-other_tgsmall"
   ]
  },
  {
   "cell_type": "code",
   "execution_count": 38,
   "id": "younger-mainland",
   "metadata": {
    "execution": {
     "iopub.execute_input": "2021-06-23T12:14:17.076968Z",
     "iopub.status.busy": "2021-06-23T12:14:17.072652Z",
     "iopub.status.idle": "2021-06-23T12:14:18.537740Z",
     "shell.execute_reply": "2021-06-23T12:14:18.537024Z"
    },
    "papermill": {
     "duration": 1.535223,
     "end_time": "2021-06-23T12:14:18.537897",
     "exception": false,
     "start_time": "2021-06-23T12:14:17.002674",
     "status": "completed"
    },
    "tags": []
   },
   "outputs": [
    {
     "name": "stdout",
     "output_type": "stream",
     "text": [
      "%WER 7.13 [ 3747 / 52576, 648 ins, 242 del, 2857 sub ] exp/tdnn_1d_sp/decode_test-clean_tgsmall/wer_17_0.5\r\n",
      "%WER 17.92 [ 9378 / 52343, 1384 ins, 723 del, 7271 sub ] exp/tdnn_1d_sp/decode_test-other_tgsmall/wer_17_1.0\r\n"
     ]
    }
   ],
   "source": [
    "!cat exp/tdnn_1d_sp/decode_test-clean_tgsmall/scoring_kaldi/best_wer\n",
    "!cat exp/tdnn_1d_sp/decode_test-other_tgsmall/scoring_kaldi/best_wer"
   ]
  },
  {
   "cell_type": "markdown",
   "id": "checked-focus",
   "metadata": {
    "papermill": {
     "duration": 0.064714,
     "end_time": "2021-06-23T12:14:18.668576",
     "exception": false,
     "start_time": "2021-06-23T12:14:18.603862",
     "status": "completed"
    },
    "tags": []
   },
   "source": [
    "## Rescoring"
   ]
  },
  {
   "cell_type": "code",
   "execution_count": 39,
   "id": "roman-assurance",
   "metadata": {
    "execution": {
     "iopub.execute_input": "2021-06-23T12:14:18.808358Z",
     "iopub.status.busy": "2021-06-23T12:14:18.807661Z",
     "iopub.status.idle": "2021-06-23T12:14:24.816201Z",
     "shell.execute_reply": "2021-06-23T12:14:24.815610Z"
    },
    "papermill": {
     "duration": 6.083501,
     "end_time": "2021-06-23T12:14:24.816340",
     "exception": false,
     "start_time": "2021-06-23T12:14:18.732839",
     "status": "completed"
    },
    "tags": []
   },
   "outputs": [],
   "source": [
    "!cp -r /kaggle/input/kaldi-librispeech-model/exp/rnnlm_lstm_1a/ exp"
   ]
  },
  {
   "cell_type": "code",
   "execution_count": 40,
   "id": "seventh-ghost",
   "metadata": {
    "execution": {
     "iopub.execute_input": "2021-06-23T12:14:24.953360Z",
     "iopub.status.busy": "2021-06-23T12:14:24.949410Z",
     "iopub.status.idle": "2021-06-23T12:14:25.689371Z",
     "shell.execute_reply": "2021-06-23T12:14:25.688788Z"
    },
    "papermill": {
     "duration": 0.809451,
     "end_time": "2021-06-23T12:14:25.689564",
     "exception": false,
     "start_time": "2021-06-23T12:14:24.880113",
     "status": "completed"
    },
    "tags": []
   },
   "outputs": [],
   "source": [
    "!ln -s /opt/kaldi/scripts/rnnlm"
   ]
  },
  {
   "cell_type": "code",
   "execution_count": 41,
   "id": "objective-sigma",
   "metadata": {
    "execution": {
     "iopub.execute_input": "2021-06-23T12:14:25.835044Z",
     "iopub.status.busy": "2021-06-23T12:14:25.831591Z",
     "iopub.status.idle": "2021-06-23T12:56:33.813704Z",
     "shell.execute_reply": "2021-06-23T12:56:33.814566Z"
    },
    "papermill": {
     "duration": 2528.06153,
     "end_time": "2021-06-23T12:56:33.814824",
     "exception": false,
     "start_time": "2021-06-23T12:14:25.753294",
     "status": "completed"
    },
    "tags": []
   },
   "outputs": [
    {
     "name": "stdout",
     "output_type": "stream",
     "text": [
      "env: decode_dir=exp/tdnn_1d_sp/decode_test-clean_tgsmall\n",
      "rnnlm/lmrescore_pruned.sh --cmd run.pl --weight 0.45 --max-ngram-order 4 data/lang_test_tgsmall exp/rnnlm_lstm_1a data/test-clean_hires exp/tdnn_1d_sp/decode_test-clean_tgsmall exp/tdnn_1d_sp/decode_test-clean_rescore\r\n",
      "local/score.sh --cmd run.pl data/test-clean_hires data/lang_test_tgsmall exp/tdnn_1d_sp/decode_test-clean_rescore\r\n",
      "env: decode_dir=exp/tdnn_1d_sp/decode_test-other_tgsmall\n",
      "rnnlm/lmrescore_pruned.sh --cmd run.pl --weight 0.45 --max-ngram-order 4 data/lang_test_tgsmall exp/rnnlm_lstm_1a data/test-other_hires exp/tdnn_1d_sp/decode_test-other_tgsmall exp/tdnn_1d_sp/decode_test-other_rescore\r\n",
      "local/score.sh --cmd run.pl data/test-other_hires data/lang_test_tgsmall exp/tdnn_1d_sp/decode_test-other_rescore\r\n"
     ]
    }
   ],
   "source": [
    "%env decode_dir=exp/tdnn_1d_sp/decode_test-clean_tgsmall\n",
    "!rnnlm/lmrescore_pruned.sh --cmd \"$decode_cmd\" --weight 0.45 --max-ngram-order 4 data/lang_test_tgsmall exp/rnnlm_lstm_1a data/test-clean_hires ${decode_dir} $tdnndir/decode_test-clean_rescore\n",
    "%env decode_dir=exp/tdnn_1d_sp/decode_test-other_tgsmall\n",
    "!rnnlm/lmrescore_pruned.sh --cmd \"$decode_cmd\" --weight 0.45 --max-ngram-order 4 data/lang_test_tgsmall exp/rnnlm_lstm_1a data/test-other_hires ${decode_dir} $tdnndir/decode_test-other_rescore"
   ]
  },
  {
   "cell_type": "code",
   "execution_count": 42,
   "id": "referenced-tennessee",
   "metadata": {
    "execution": {
     "iopub.execute_input": "2021-06-23T12:56:33.952523Z",
     "iopub.status.busy": "2021-06-23T12:56:33.951827Z",
     "iopub.status.idle": "2021-06-23T12:56:35.404254Z",
     "shell.execute_reply": "2021-06-23T12:56:35.403689Z"
    },
    "papermill": {
     "duration": 1.523412,
     "end_time": "2021-06-23T12:56:35.404469",
     "exception": false,
     "start_time": "2021-06-23T12:56:33.881057",
     "status": "completed"
    },
    "tags": []
   },
   "outputs": [
    {
     "name": "stdout",
     "output_type": "stream",
     "text": [
      "cat: exp/tdnn_1d_sp/decode_test-clean_rescore/scoring_kaldi/best_wer: No such file or directory\r\n",
      "cat: exp/tdnn_1d_sp/decode_test-other_rescore/scoring_kaldi/best_wer: No such file or directory\r\n"
     ]
    }
   ],
   "source": [
    "!cat $tdnndir/decode_test-clean_rescore/scoring_kaldi/best_wer\n",
    "!cat $tdnndir/decode_test-other_rescore/scoring_kaldi/best_wer"
   ]
  },
  {
   "cell_type": "markdown",
   "id": "sitting-morocco",
   "metadata": {
    "papermill": {
     "duration": 0.068712,
     "end_time": "2021-06-23T12:56:35.554992",
     "exception": false,
     "start_time": "2021-06-23T12:56:35.486280",
     "status": "completed"
    },
    "tags": []
   },
   "source": [
    "## "
   ]
  }
 ],
 "metadata": {
  "kernelspec": {
   "display_name": "Python 3",
   "language": "python",
   "name": "python3"
  },
  "language_info": {
   "codemirror_mode": {
    "name": "ipython",
    "version": 3
   },
   "file_extension": ".py",
   "mimetype": "text/x-python",
   "name": "python",
   "nbconvert_exporter": "python",
   "pygments_lexer": "ipython3",
   "version": "3.7.10"
  },
  "papermill": {
   "default_parameters": {},
   "duration": 7052.159079,
   "end_time": "2021-06-23T12:56:37.321992",
   "environment_variables": {},
   "exception": null,
   "input_path": "__notebook__.ipynb",
   "output_path": "__notebook__.ipynb",
   "parameters": {},
   "start_time": "2021-06-23T10:59:05.162913",
   "version": "2.3.3"
  }
 },
 "nbformat": 4,
 "nbformat_minor": 5
}
