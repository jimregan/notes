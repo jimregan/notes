{
 "cells": [
  {
   "cell_type": "markdown",
   "id": "constitutional-ozone",
   "metadata": {
    "papermill": {
     "duration": 0.03023,
     "end_time": "2021-06-22T13:17:19.369385",
     "exception": false,
     "start_time": "2021-06-22T13:17:19.339155",
     "status": "completed"
    },
    "tags": []
   },
   "source": [
    "## Unpack Kaldi"
   ]
  },
  {
   "cell_type": "code",
   "execution_count": 1,
   "id": "approved-capability",
   "metadata": {
    "_cell_guid": "b1076dfc-b9ad-4769-8c92-a6c4dae69d19",
    "_uuid": "8f2839f25d086af736a60e9eeb907d3b93b6e0e5",
    "execution": {
     "iopub.execute_input": "2021-06-22T13:17:19.436450Z",
     "iopub.status.busy": "2021-06-22T13:17:19.434818Z",
     "iopub.status.idle": "2021-06-22T13:17:19.447168Z",
     "shell.execute_reply": "2021-06-22T13:17:19.447740Z",
     "shell.execute_reply.started": "2021-06-22T11:54:50.153353Z"
    },
    "papermill": {
     "duration": 0.050336,
     "end_time": "2021-06-22T13:17:19.448060",
     "exception": false,
     "start_time": "2021-06-22T13:17:19.397724",
     "status": "completed"
    },
    "tags": []
   },
   "outputs": [
    {
     "name": "stdout",
     "output_type": "stream",
     "text": [
      "/opt\n"
     ]
    }
   ],
   "source": [
    "%cd /opt"
   ]
  },
  {
   "cell_type": "code",
   "execution_count": 2,
   "id": "adjacent-geology",
   "metadata": {
    "execution": {
     "iopub.execute_input": "2021-06-22T13:17:19.543622Z",
     "iopub.status.busy": "2021-06-22T13:17:19.531868Z",
     "iopub.status.idle": "2021-06-22T13:17:55.704512Z",
     "shell.execute_reply": "2021-06-22T13:17:55.703792Z",
     "shell.execute_reply.started": "2021-06-22T11:54:53.255442Z"
    },
    "papermill": {
     "duration": 36.218516,
     "end_time": "2021-06-22T13:17:55.704691",
     "exception": false,
     "start_time": "2021-06-22T13:17:19.486175",
     "status": "completed"
    },
    "tags": []
   },
   "outputs": [],
   "source": [
    "%%capture\n",
    "!tar xvf /kaggle/input/extract-prebuilt-kaldi-from-docker/kaldi.tar"
   ]
  },
  {
   "cell_type": "code",
   "execution_count": 3,
   "id": "accessible-starter",
   "metadata": {
    "execution": {
     "iopub.execute_input": "2021-06-22T13:17:55.781964Z",
     "iopub.status.busy": "2021-06-22T13:17:55.781293Z",
     "iopub.status.idle": "2021-06-22T13:17:55.783703Z",
     "shell.execute_reply": "2021-06-22T13:17:55.784209Z",
     "shell.execute_reply.started": "2021-06-22T11:55:40.60018Z"
    },
    "papermill": {
     "duration": 0.043331,
     "end_time": "2021-06-22T13:17:55.784375",
     "exception": false,
     "start_time": "2021-06-22T13:17:55.741044",
     "status": "completed"
    },
    "tags": []
   },
   "outputs": [],
   "source": [
    "import os\n",
    "os.environ['LD_LIBRARY_PATH'] = '/opt/conda/lib:/opt/kaldi/tools/openfst-1.6.7/lib:/opt/kaldi/src/lib'\n",
    "EXISTING_PATH = os.environ['PATH']"
   ]
  },
  {
   "cell_type": "code",
   "execution_count": 4,
   "id": "rolled-canberra",
   "metadata": {
    "execution": {
     "iopub.execute_input": "2021-06-22T13:17:55.847298Z",
     "iopub.status.busy": "2021-06-22T13:17:55.846194Z",
     "iopub.status.idle": "2021-06-22T13:17:55.850783Z",
     "shell.execute_reply": "2021-06-22T13:17:55.851264Z"
    },
    "papermill": {
     "duration": 0.038889,
     "end_time": "2021-06-22T13:17:55.851477",
     "exception": false,
     "start_time": "2021-06-22T13:17:55.812588",
     "status": "completed"
    },
    "tags": []
   },
   "outputs": [
    {
     "name": "stdout",
     "output_type": "stream",
     "text": [
      "/\n"
     ]
    }
   ],
   "source": [
    "%cd /\n"
   ]
  },
  {
   "cell_type": "code",
   "execution_count": 5,
   "id": "urban-copying",
   "metadata": {
    "execution": {
     "iopub.execute_input": "2021-06-22T13:17:55.920302Z",
     "iopub.status.busy": "2021-06-22T13:17:55.916227Z",
     "iopub.status.idle": "2021-06-22T13:18:26.998721Z",
     "shell.execute_reply": "2021-06-22T13:18:26.997954Z"
    },
    "papermill": {
     "duration": 31.117122,
     "end_time": "2021-06-22T13:18:26.998873",
     "exception": false,
     "start_time": "2021-06-22T13:17:55.881751",
     "status": "completed"
    },
    "tags": []
   },
   "outputs": [],
   "source": [
    "%%capture\n",
    "!tar xvf /kaggle/input/extract-cuda-from-kaldi-docker/cuda.tar"
   ]
  },
  {
   "cell_type": "code",
   "execution_count": 6,
   "id": "protecting-packing",
   "metadata": {
    "execution": {
     "iopub.execute_input": "2021-06-22T13:18:27.067014Z",
     "iopub.status.busy": "2021-06-22T13:18:27.066115Z",
     "iopub.status.idle": "2021-06-22T13:18:27.069759Z",
     "shell.execute_reply": "2021-06-22T13:18:27.070726Z",
     "shell.execute_reply.started": "2021-06-22T11:55:40.610869Z"
    },
    "papermill": {
     "duration": 0.041138,
     "end_time": "2021-06-22T13:18:27.070900",
     "exception": false,
     "start_time": "2021-06-22T13:18:27.029762",
     "status": "completed"
    },
    "tags": []
   },
   "outputs": [
    {
     "name": "stdout",
     "output_type": "stream",
     "text": [
      "/opt/kaldi/egs\n"
     ]
    }
   ],
   "source": [
    "%cd /opt/kaldi/egs"
   ]
  },
  {
   "cell_type": "markdown",
   "id": "dying-league",
   "metadata": {
    "papermill": {
     "duration": 0.029982,
     "end_time": "2021-06-22T13:18:27.131260",
     "exception": false,
     "start_time": "2021-06-22T13:18:27.101278",
     "status": "completed"
    },
    "tags": []
   },
   "source": [
    "## Install flac"
   ]
  },
  {
   "cell_type": "code",
   "execution_count": 7,
   "id": "fleet-identification",
   "metadata": {
    "execution": {
     "iopub.execute_input": "2021-06-22T13:18:27.206693Z",
     "iopub.status.busy": "2021-06-22T13:18:27.202311Z",
     "iopub.status.idle": "2021-06-22T13:18:51.565365Z",
     "shell.execute_reply": "2021-06-22T13:18:51.566013Z",
     "shell.execute_reply.started": "2021-06-22T12:06:36.222984Z"
    },
    "papermill": {
     "duration": 24.402235,
     "end_time": "2021-06-22T13:18:51.566335",
     "exception": false,
     "start_time": "2021-06-22T13:18:27.164100",
     "status": "completed"
    },
    "tags": []
   },
   "outputs": [],
   "source": [
    "%%capture\n",
    "!apt install -y flac"
   ]
  },
  {
   "cell_type": "markdown",
   "id": "exposed-greensboro",
   "metadata": {
    "papermill": {
     "duration": 0.030594,
     "end_time": "2021-06-22T13:18:51.628455",
     "exception": false,
     "start_time": "2021-06-22T13:18:51.597861",
     "status": "completed"
    },
    "tags": []
   },
   "source": [
    "## Create a work directory"
   ]
  },
  {
   "cell_type": "code",
   "execution_count": 8,
   "id": "opponent-delivery",
   "metadata": {
    "execution": {
     "iopub.execute_input": "2021-06-22T13:18:51.697354Z",
     "iopub.status.busy": "2021-06-22T13:18:51.696346Z",
     "iopub.status.idle": "2021-06-22T13:18:52.450572Z",
     "shell.execute_reply": "2021-06-22T13:18:52.449996Z",
     "shell.execute_reply.started": "2021-06-22T11:55:40.659251Z"
    },
    "papermill": {
     "duration": 0.791463,
     "end_time": "2021-06-22T13:18:52.450750",
     "exception": false,
     "start_time": "2021-06-22T13:18:51.659287",
     "status": "completed"
    },
    "tags": []
   },
   "outputs": [
    {
     "name": "stdout",
     "output_type": "stream",
     "text": [
      "/opt/kaldi/egs/usels/s5\n"
     ]
    }
   ],
   "source": [
    "!mkdir -p usels/s5\n",
    "%cd usels/s5"
   ]
  },
  {
   "cell_type": "code",
   "execution_count": 9,
   "id": "optimum-welcome",
   "metadata": {
    "execution": {
     "iopub.execute_input": "2021-06-22T13:18:52.525820Z",
     "iopub.status.busy": "2021-06-22T13:18:52.521716Z",
     "iopub.status.idle": "2021-06-22T13:18:55.480497Z",
     "shell.execute_reply": "2021-06-22T13:18:55.479734Z",
     "shell.execute_reply.started": "2021-06-22T12:08:43.066673Z"
    },
    "papermill": {
     "duration": 2.998461,
     "end_time": "2021-06-22T13:18:55.480685",
     "exception": false,
     "start_time": "2021-06-22T13:18:52.482224",
     "status": "completed"
    },
    "tags": []
   },
   "outputs": [],
   "source": [
    "!mkdir /kaggle/working/data\n",
    "!mkdir /kaggle/working/exp\n",
    "!ln -s /kaggle/working/data\n",
    "!ln -s /kaggle/working/exp"
   ]
  },
  {
   "cell_type": "code",
   "execution_count": 10,
   "id": "present-headquarters",
   "metadata": {
    "execution": {
     "iopub.execute_input": "2021-06-22T13:18:55.556068Z",
     "iopub.status.busy": "2021-06-22T13:18:55.550994Z",
     "iopub.status.idle": "2021-06-22T13:18:57.817408Z",
     "shell.execute_reply": "2021-06-22T13:18:57.816814Z",
     "shell.execute_reply.started": "2021-06-22T11:55:41.459018Z"
    },
    "papermill": {
     "duration": 2.305318,
     "end_time": "2021-06-22T13:18:57.817581",
     "exception": false,
     "start_time": "2021-06-22T13:18:55.512263",
     "status": "completed"
    },
    "tags": []
   },
   "outputs": [],
   "source": [
    "!ln -s ../../wsj/s5/steps\n",
    "!ln -s ../../wsj/s5/utils\n",
    "!ln -s ../../librispeech/s5/local"
   ]
  },
  {
   "cell_type": "code",
   "execution_count": 11,
   "id": "efficient-prediction",
   "metadata": {
    "execution": {
     "iopub.execute_input": "2021-06-22T13:18:57.890297Z",
     "iopub.status.busy": "2021-06-22T13:18:57.889555Z",
     "iopub.status.idle": "2021-06-22T13:18:58.653465Z",
     "shell.execute_reply": "2021-06-22T13:18:58.652738Z",
     "shell.execute_reply.started": "2021-06-22T11:55:43.77028Z"
    },
    "papermill": {
     "duration": 0.804195,
     "end_time": "2021-06-22T13:18:58.653688",
     "exception": false,
     "start_time": "2021-06-22T13:18:57.849493",
     "status": "completed"
    },
    "tags": []
   },
   "outputs": [],
   "source": [
    "!mkdir conf"
   ]
  },
  {
   "cell_type": "code",
   "execution_count": 12,
   "id": "frozen-guatemala",
   "metadata": {
    "execution": {
     "iopub.execute_input": "2021-06-22T13:18:58.725080Z",
     "iopub.status.busy": "2021-06-22T13:18:58.724309Z",
     "iopub.status.idle": "2021-06-22T13:18:58.729299Z",
     "shell.execute_reply": "2021-06-22T13:18:58.728626Z",
     "shell.execute_reply.started": "2021-06-22T11:55:44.555875Z"
    },
    "papermill": {
     "duration": 0.042461,
     "end_time": "2021-06-22T13:18:58.729460",
     "exception": false,
     "start_time": "2021-06-22T13:18:58.686999",
     "status": "completed"
    },
    "tags": []
   },
   "outputs": [
    {
     "name": "stdout",
     "output_type": "stream",
     "text": [
      "Writing conf/mfcc_hires.conf\n"
     ]
    }
   ],
   "source": [
    "%%writefile conf/mfcc_hires.conf\n",
    "# config for high-resolution MFCC features, intended for neural network training\n",
    "# Note: we keep all cepstra, so it has the same info as filterbank features,\n",
    "# but MFCC is more easily compressible (because less correlated) which is why \n",
    "# we prefer this method.\n",
    "--use-energy=false   # use average of log energy, not energy.\n",
    "--num-mel-bins=40     # similar to Google's setup.\n",
    "--num-ceps=40     # there is no dimensionality reduction.\n",
    "--low-freq=20     # low cutoff frequency for mel bins... this is high-bandwidth data, so\n",
    "                  # there might be some information at the low end.\n",
    "--high-freq=-400 # high cutoff frequently, relative to Nyquist of 8000 (=7600)"
   ]
  },
  {
   "cell_type": "markdown",
   "id": "unknown-miniature",
   "metadata": {
    "papermill": {
     "duration": 0.031913,
     "end_time": "2021-06-22T13:18:58.793696",
     "exception": false,
     "start_time": "2021-06-22T13:18:58.761783",
     "status": "completed"
    },
    "tags": []
   },
   "source": [
    "## Setting up paths\n",
    "\n",
    "(In the scripts, you just source `path.sh`)"
   ]
  },
  {
   "cell_type": "code",
   "execution_count": 13,
   "id": "global-gibson",
   "metadata": {
    "execution": {
     "iopub.execute_input": "2021-06-22T13:18:58.865695Z",
     "iopub.status.busy": "2021-06-22T13:18:58.864987Z",
     "iopub.status.idle": "2021-06-22T13:18:58.868766Z",
     "shell.execute_reply": "2021-06-22T13:18:58.868014Z",
     "shell.execute_reply.started": "2021-06-22T11:55:44.565547Z"
    },
    "papermill": {
     "duration": 0.042606,
     "end_time": "2021-06-22T13:18:58.868924",
     "exception": false,
     "start_time": "2021-06-22T13:18:58.826318",
     "status": "completed"
    },
    "tags": []
   },
   "outputs": [
    {
     "name": "stdout",
     "output_type": "stream",
     "text": [
      "env: KALDI_ROOT=/opt/kaldi\n"
     ]
    }
   ],
   "source": [
    "%env KALDI_ROOT=/opt/kaldi"
   ]
  },
  {
   "cell_type": "code",
   "execution_count": 14,
   "id": "geographic-crawford",
   "metadata": {
    "execution": {
     "iopub.execute_input": "2021-06-22T13:18:58.943788Z",
     "iopub.status.busy": "2021-06-22T13:18:58.939146Z",
     "iopub.status.idle": "2021-06-22T13:18:59.710805Z",
     "shell.execute_reply": "2021-06-22T13:18:59.709646Z",
     "shell.execute_reply.started": "2021-06-22T11:55:44.577705Z"
    },
    "papermill": {
     "duration": 0.809459,
     "end_time": "2021-06-22T13:18:59.710978",
     "exception": false,
     "start_time": "2021-06-22T13:18:58.901519",
     "status": "completed"
    },
    "tags": []
   },
   "outputs": [
    {
     "name": "stdout",
     "output_type": "stream",
     "text": [
      "export KALDI_ROOT=`pwd`/../../..\r\n",
      "[ -f $KALDI_ROOT/tools/env.sh ] && . $KALDI_ROOT/tools/env.sh\r\n",
      "export PATH=$PWD/utils/:$KALDI_ROOT/tools/openfst/bin:$PWD:$PATH\r\n",
      "[ ! -f $KALDI_ROOT/tools/config/common_path.sh ] && echo >&2 \"The standard file $KALDI_ROOT/tools/config/common_path.sh is not present -> Exit!\" && exit 1\r\n",
      ". $KALDI_ROOT/tools/config/common_path.sh\r\n",
      "export LC_ALL=C\r\n"
     ]
    }
   ],
   "source": [
    "!cat ../../wsj/s5/path.sh"
   ]
  },
  {
   "cell_type": "code",
   "execution_count": 15,
   "id": "cubic-landing",
   "metadata": {
    "execution": {
     "iopub.execute_input": "2021-06-22T13:18:59.786794Z",
     "iopub.status.busy": "2021-06-22T13:18:59.785967Z",
     "iopub.status.idle": "2021-06-22T13:18:59.789887Z",
     "shell.execute_reply": "2021-06-22T13:18:59.788962Z",
     "shell.execute_reply.started": "2021-06-22T12:00:36.247262Z"
    },
    "papermill": {
     "duration": 0.044977,
     "end_time": "2021-06-22T13:18:59.790093",
     "exception": false,
     "start_time": "2021-06-22T13:18:59.745116",
     "status": "completed"
    },
    "tags": []
   },
   "outputs": [
    {
     "name": "stdout",
     "output_type": "stream",
     "text": [
      "env: LC_ALL=C\n"
     ]
    }
   ],
   "source": [
    "%env LC_ALL=C\n",
    "#PWD = !pwd\n",
    "PWD = '/opt/kaldi/egs/usels/s5'\n",
    "KALDI_ROOT = '/opt/kaldi'\n",
    "WSJ_PATH = f'{PWD}/utils/:{KALDI_ROOT}/tools/openfst/bin:{PWD}:{EXISTING_PATH}'"
   ]
  },
  {
   "cell_type": "code",
   "execution_count": 16,
   "id": "comic-horror",
   "metadata": {
    "execution": {
     "iopub.execute_input": "2021-06-22T13:18:59.870071Z",
     "iopub.status.busy": "2021-06-22T13:18:59.865644Z",
     "iopub.status.idle": "2021-06-22T13:19:00.608223Z",
     "shell.execute_reply": "2021-06-22T13:19:00.607423Z",
     "shell.execute_reply.started": "2021-06-22T11:57:02.231388Z"
    },
    "papermill": {
     "duration": 0.782276,
     "end_time": "2021-06-22T13:19:00.608384",
     "exception": false,
     "start_time": "2021-06-22T13:18:59.826108",
     "status": "completed"
    },
    "tags": []
   },
   "outputs": [
    {
     "name": "stdout",
     "output_type": "stream",
     "text": [
      "# we assume KALDI_ROOT is already defined\r\n",
      "[ -z \"$KALDI_ROOT\" ] && echo >&2 \"The variable KALDI_ROOT must be already defined\" && exit 1\r\n",
      "# The formatting of the path export command is intentionally weird, because\r\n",
      "# this allows for easy diff'ing\r\n",
      "export PATH=\\\r\n",
      "${KALDI_ROOT}/src/bin:\\\r\n",
      "${KALDI_ROOT}/src/chainbin:\\\r\n",
      "${KALDI_ROOT}/src/featbin:\\\r\n",
      "${KALDI_ROOT}/src/fgmmbin:\\\r\n",
      "${KALDI_ROOT}/src/fstbin:\\\r\n",
      "${KALDI_ROOT}/src/gmmbin:\\\r\n",
      "${KALDI_ROOT}/src/ivectorbin:\\\r\n",
      "${KALDI_ROOT}/src/kwsbin:\\\r\n",
      "${KALDI_ROOT}/src/latbin:\\\r\n",
      "${KALDI_ROOT}/src/lmbin:\\\r\n",
      "${KALDI_ROOT}/src/nnet2bin:\\\r\n",
      "${KALDI_ROOT}/src/nnet3bin:\\\r\n",
      "${KALDI_ROOT}/src/nnetbin:\\\r\n",
      "${KALDI_ROOT}/src/online2bin:\\\r\n",
      "${KALDI_ROOT}/src/onlinebin:\\\r\n",
      "${KALDI_ROOT}/src/rnnlmbin:\\\r\n",
      "${KALDI_ROOT}/src/sgmm2bin:\\\r\n",
      "${KALDI_ROOT}/src/sgmmbin:\\\r\n",
      "${KALDI_ROOT}/src/tfrnnlmbin:\\\r\n",
      "${KALDI_ROOT}/src/cudadecoderbin:\\\r\n",
      "$PATH\r\n"
     ]
    }
   ],
   "source": [
    "!cat $KALDI_ROOT/tools/config/common_path.sh"
   ]
  },
  {
   "cell_type": "code",
   "execution_count": 17,
   "id": "collected-accessory",
   "metadata": {
    "execution": {
     "iopub.execute_input": "2021-06-22T13:19:00.682206Z",
     "iopub.status.busy": "2021-06-22T13:19:00.681457Z",
     "iopub.status.idle": "2021-06-22T13:19:00.705672Z",
     "shell.execute_reply": "2021-06-22T13:19:00.704883Z",
     "shell.execute_reply.started": "2021-06-22T11:56:52.862746Z"
    },
    "papermill": {
     "duration": 0.06344,
     "end_time": "2021-06-22T13:19:00.705832",
     "exception": false,
     "start_time": "2021-06-22T13:19:00.642392",
     "status": "completed"
    },
    "tags": []
   },
   "outputs": [],
   "source": [
    "#kaldi_paths=!cat $KALDI_ROOT/tools/config/common_path.sh|grep '/src/'|awk -F':' '{print $1}'|awk -F'/' '{print $NF}'|tr '\\n' ':'\n",
    "raw_kaldi_paths=!cat $KALDI_ROOT/tools/config/common_path.sh|grep '/src/'|awk -F':' '{print $1}'|awk -F'/' '{print \"/opt/kaldi/src/\"$NF}'"
   ]
  },
  {
   "cell_type": "code",
   "execution_count": 18,
   "id": "senior-earthquake",
   "metadata": {
    "execution": {
     "iopub.execute_input": "2021-06-22T13:19:00.779904Z",
     "iopub.status.busy": "2021-06-22T13:19:00.779045Z",
     "iopub.status.idle": "2021-06-22T13:19:00.782600Z",
     "shell.execute_reply": "2021-06-22T13:19:00.782071Z",
     "shell.execute_reply.started": "2021-06-22T12:02:21.567242Z"
    },
    "papermill": {
     "duration": 0.043073,
     "end_time": "2021-06-22T13:19:00.782772",
     "exception": false,
     "start_time": "2021-06-22T13:19:00.739699",
     "status": "completed"
    },
    "tags": []
   },
   "outputs": [],
   "source": [
    "KALDI_PATHS=raw_kaldi_paths.nlstr.replace('\\n',':')"
   ]
  },
  {
   "cell_type": "code",
   "execution_count": 19,
   "id": "dimensional-tamil",
   "metadata": {
    "execution": {
     "iopub.execute_input": "2021-06-22T13:19:00.858103Z",
     "iopub.status.busy": "2021-06-22T13:19:00.854104Z",
     "iopub.status.idle": "2021-06-22T13:19:01.611260Z",
     "shell.execute_reply": "2021-06-22T13:19:01.610653Z",
     "shell.execute_reply.started": "2021-06-22T11:56:58.4537Z"
    },
    "papermill": {
     "duration": 0.795406,
     "end_time": "2021-06-22T13:19:01.611416",
     "exception": false,
     "start_time": "2021-06-22T13:19:00.816010",
     "status": "completed"
    },
    "tags": []
   },
   "outputs": [
    {
     "name": "stdout",
     "output_type": "stream",
     "text": [
      "export PATH=/opt/kaldi/tools/python:${PATH}\r\n",
      "export PHONETISAURUS=\"/tmp/output/opt/kaldi/tools/phonetisaurus-g2p\"\r\n",
      "export PATH=\"$PATH:${PHONETISAURUS}:${PHONETISAURUS}/src/scripts\"\r\n"
     ]
    }
   ],
   "source": [
    "!cat $KALDI_ROOT/tools/env.sh"
   ]
  },
  {
   "cell_type": "code",
   "execution_count": 20,
   "id": "hollywood-liability",
   "metadata": {
    "execution": {
     "iopub.execute_input": "2021-06-22T13:19:01.686937Z",
     "iopub.status.busy": "2021-06-22T13:19:01.686167Z",
     "iopub.status.idle": "2021-06-22T13:19:01.689202Z",
     "shell.execute_reply": "2021-06-22T13:19:01.688648Z",
     "shell.execute_reply.started": "2021-06-22T12:02:09.80754Z"
    },
    "papermill": {
     "duration": 0.04245,
     "end_time": "2021-06-22T13:19:01.689365",
     "exception": false,
     "start_time": "2021-06-22T13:19:01.646915",
     "status": "completed"
    },
    "tags": []
   },
   "outputs": [],
   "source": [
    "PHONETISAURUS = \"/tmp/output/opt/kaldi/tools/phonetisaurus-g2p\"\n",
    "TOOLS_PATH = f'/opt/kaldi/tools/python:{PHONETISAURUS}:{PHONETISAURUS}/src/scripts'"
   ]
  },
  {
   "cell_type": "code",
   "execution_count": 21,
   "id": "assumed-longitude",
   "metadata": {
    "execution": {
     "iopub.execute_input": "2021-06-22T13:19:01.767510Z",
     "iopub.status.busy": "2021-06-22T13:19:01.766846Z",
     "iopub.status.idle": "2021-06-22T13:19:01.769886Z",
     "shell.execute_reply": "2021-06-22T13:19:01.770560Z",
     "shell.execute_reply.started": "2021-06-22T12:03:04.119662Z"
    },
    "papermill": {
     "duration": 0.044899,
     "end_time": "2021-06-22T13:19:01.770750",
     "exception": false,
     "start_time": "2021-06-22T13:19:01.725851",
     "status": "completed"
    },
    "tags": []
   },
   "outputs": [
    {
     "name": "stdout",
     "output_type": "stream",
     "text": [
      "env: PATH=f\"/opt/kaldi/egs/usels/s5/utils/:/opt/kaldi/tools/openfst/bin:/opt/kaldi/egs/usels/s5:/opt/conda/bin:/usr/local/sbin:/usr/local/bin:/usr/sbin:/usr/bin:/sbin:/bin:/opt/kaldi/src/bin:/opt/kaldi/src/chainbin:/opt/kaldi/src/featbin:/opt/kaldi/src/fgmmbin:/opt/kaldi/src/fstbin:/opt/kaldi/src/gmmbin:/opt/kaldi/src/ivectorbin:/opt/kaldi/src/kwsbin:/opt/kaldi/src/latbin:/opt/kaldi/src/lmbin:/opt/kaldi/src/nnet2bin:/opt/kaldi/src/nnet3bin:/opt/kaldi/src/nnetbin:/opt/kaldi/src/online2bin:/opt/kaldi/src/onlinebin:/opt/kaldi/src/rnnlmbin:/opt/kaldi/src/sgmm2bin:/opt/kaldi/src/sgmmbin:/opt/kaldi/src/tfrnnlmbin:/opt/kaldi/src/cudadecoderbin:/opt/kaldi/tools/python:/tmp/output/opt/kaldi/tools/phonetisaurus-g2p:/tmp/output/opt/kaldi/tools/phonetisaurus-g2p/src/scripts\"\n"
     ]
    }
   ],
   "source": [
    "%env PATH = f\"{WSJ_PATH}:{KALDI_PATHS}:{TOOLS_PATH}\""
   ]
  },
  {
   "cell_type": "code",
   "execution_count": 22,
   "id": "unnecessary-estate",
   "metadata": {
    "execution": {
     "iopub.execute_input": "2021-06-22T13:19:01.841339Z",
     "iopub.status.busy": "2021-06-22T13:19:01.840657Z",
     "iopub.status.idle": "2021-06-22T13:19:02.602911Z",
     "shell.execute_reply": "2021-06-22T13:19:02.602242Z",
     "shell.execute_reply.started": "2021-06-22T12:16:15.76424Z"
    },
    "papermill": {
     "duration": 0.798729,
     "end_time": "2021-06-22T13:19:02.603087",
     "exception": false,
     "start_time": "2021-06-22T13:19:01.804358",
     "status": "completed"
    },
    "tags": []
   },
   "outputs": [
    {
     "name": "stdout",
     "output_type": "stream",
     "text": [
      "# you can change cmd.sh depending on what type of queue you are using.\r\n",
      "# If you have no queueing system and want to run on a local machine, you\r\n",
      "# can change all instances 'queue.pl' to run.pl (but be careful and run\r\n",
      "# commands one by one: most recipes will exhaust the memory on your\r\n",
      "# machine).  queue.pl works with GridEngine (qsub).  slurm.pl works\r\n",
      "# with slurm.  Different queues are configured differently, with different\r\n",
      "# queue names and different ways of specifying things like memory;\r\n",
      "# to account for these differences you can create and edit the file\r\n",
      "# conf/queue.conf to match your queue's configuration.  Search for\r\n",
      "# conf/queue.conf in http://kaldi-asr.org/doc/queue.html for more information,\r\n",
      "# or search for the string 'default_config' in utils/queue.pl or utils/slurm.pl.\r\n",
      "\r\n",
      "export train_cmd=queue.pl\r\n",
      "export decode_cmd=\"queue.pl --mem 2G\"\r\n",
      "# the use of cuda_cmd is deprecated, used only in 'nnet1',\r\n",
      "export cuda_cmd=\"queue.pl --gpu 1\"\r\n",
      "\r\n",
      "if [ \"$(hostname -d)\" == \"fit.vutbr.cz\" ]; then\r\n",
      "  queue_conf=$HOME/queue_conf/default.conf # see example /homes/kazi/iveselyk/queue_conf/default.conf,\r\n",
      "  export train_cmd=\"queue.pl --config $queue_conf --mem 2G --matylda 0.2\"\r\n",
      "  export decode_cmd=\"queue.pl --config $queue_conf --mem 3G --matylda 0.1\"\r\n",
      "  export cuda_cmd=\"queue.pl --config $queue_conf --gpu 1 --mem 10G --tmp 40G\"\r\n",
      "fi\r\n"
     ]
    }
   ],
   "source": [
    "!cat ../../wsj/s5/cmd.sh"
   ]
  },
  {
   "cell_type": "code",
   "execution_count": 23,
   "id": "herbal-smell",
   "metadata": {
    "execution": {
     "iopub.execute_input": "2021-06-22T13:19:02.682171Z",
     "iopub.status.busy": "2021-06-22T13:19:02.680980Z",
     "iopub.status.idle": "2021-06-22T13:19:02.684888Z",
     "shell.execute_reply": "2021-06-22T13:19:02.685673Z",
     "shell.execute_reply.started": "2021-06-22T12:25:36.054695Z"
    },
    "papermill": {
     "duration": 0.047304,
     "end_time": "2021-06-22T13:19:02.685944",
     "exception": false,
     "start_time": "2021-06-22T13:19:02.638640",
     "status": "completed"
    },
    "tags": []
   },
   "outputs": [
    {
     "name": "stdout",
     "output_type": "stream",
     "text": [
      "env: train_cmd=run.pl\n",
      "env: decode_cmd=\"run.pl --mem 2G\"\n"
     ]
    }
   ],
   "source": [
    "%env train_cmd=run.pl\n",
    "%env decode_cmd=\"run.pl --mem 2G\""
   ]
  },
  {
   "cell_type": "code",
   "execution_count": 24,
   "id": "diverse-beverage",
   "metadata": {
    "execution": {
     "iopub.execute_input": "2021-06-22T13:19:02.771495Z",
     "iopub.status.busy": "2021-06-22T13:19:02.767132Z",
     "iopub.status.idle": "2021-06-22T13:19:05.726018Z",
     "shell.execute_reply": "2021-06-22T13:19:05.725406Z",
     "shell.execute_reply.started": "2021-06-22T12:25:39.332426Z"
    },
    "papermill": {
     "duration": 3.003174,
     "end_time": "2021-06-22T13:19:05.726198",
     "exception": false,
     "start_time": "2021-06-22T13:19:02.723024",
     "status": "completed"
    },
    "tags": []
   },
   "outputs": [],
   "source": [
    "!ln -s ../../wsj/s5/cmd.sh\n",
    "!ln -s ../../wsj/s5/path.sh\n",
    "!ln -s utils/queue.pl\n",
    "!ln -s utils/run.pl"
   ]
  },
  {
   "cell_type": "code",
   "execution_count": 25,
   "id": "necessary-insight",
   "metadata": {
    "execution": {
     "iopub.execute_input": "2021-06-22T13:19:05.805287Z",
     "iopub.status.busy": "2021-06-22T13:19:05.804498Z",
     "iopub.status.idle": "2021-06-22T13:19:06.541405Z",
     "shell.execute_reply": "2021-06-22T13:19:06.540783Z",
     "shell.execute_reply.started": "2021-06-22T12:25:11.355403Z"
    },
    "papermill": {
     "duration": 0.781254,
     "end_time": "2021-06-22T13:19:06.541640",
     "exception": false,
     "start_time": "2021-06-22T13:19:05.760386",
     "status": "completed"
    },
    "tags": []
   },
   "outputs": [],
   "source": [
    "!rm *.pl"
   ]
  },
  {
   "cell_type": "markdown",
   "id": "alpha-hunger",
   "metadata": {
    "papermill": {
     "duration": 0.03415,
     "end_time": "2021-06-22T13:19:06.610224",
     "exception": false,
     "start_time": "2021-06-22T13:19:06.576074",
     "status": "completed"
    },
    "tags": []
   },
   "source": [
    "## Data prep"
   ]
  },
  {
   "cell_type": "code",
   "execution_count": 26,
   "id": "rural-locator",
   "metadata": {
    "execution": {
     "iopub.execute_input": "2021-06-22T13:19:06.690813Z",
     "iopub.status.busy": "2021-06-22T13:19:06.686371Z",
     "iopub.status.idle": "2021-06-22T13:19:18.135944Z",
     "shell.execute_reply": "2021-06-22T13:19:18.136483Z",
     "shell.execute_reply.started": "2021-06-22T12:10:48.153674Z"
    },
    "papermill": {
     "duration": 11.4921,
     "end_time": "2021-06-22T13:19:18.136719",
     "exception": false,
     "start_time": "2021-06-22T13:19:06.644619",
     "status": "completed"
    },
    "tags": []
   },
   "outputs": [
    {
     "name": "stdout",
     "output_type": "stream",
     "text": [
      "utils/validate_data_dir.sh: Successfully validated data-directory data/test-other\r\n",
      "local/data_prep.sh: successfully prepared data in data/test-other\r\n",
      "utils/validate_data_dir.sh: Successfully validated data-directory data/test-clean\r\n",
      "local/data_prep.sh: successfully prepared data in data/test-clean\r\n"
     ]
    }
   ],
   "source": [
    "!local/data_prep.sh /kaggle/input/librispeech-test-clean-and-other/LibriSpeech/test-other data/test-other\n",
    "!local/data_prep.sh /kaggle/input/librispeech-test-clean-and-other/LibriSpeech/test-clean data/test-clean"
   ]
  },
  {
   "cell_type": "code",
   "execution_count": 27,
   "id": "wicked-travel",
   "metadata": {
    "execution": {
     "iopub.execute_input": "2021-06-22T13:19:18.219495Z",
     "iopub.status.busy": "2021-06-22T13:19:18.218318Z",
     "iopub.status.idle": "2021-06-22T13:19:20.330498Z",
     "shell.execute_reply": "2021-06-22T13:19:20.331085Z",
     "shell.execute_reply.started": "2021-06-22T12:12:48.716774Z"
    },
    "papermill": {
     "duration": 2.158734,
     "end_time": "2021-06-22T13:19:20.331283",
     "exception": false,
     "start_time": "2021-06-22T13:19:18.172549",
     "status": "completed"
    },
    "tags": []
   },
   "outputs": [
    {
     "name": "stdout",
     "output_type": "stream",
     "text": [
      "utils/copy_data_dir.sh: copied data from data/test-clean to data/test-clean_hires\r\n",
      "utils/validate_data_dir.sh: Successfully validated data-directory data/test-clean_hires\r\n",
      "utils/copy_data_dir.sh: copied data from data/test-other to data/test-other_hires\r\n",
      "utils/validate_data_dir.sh: Successfully validated data-directory data/test-other_hires\r\n"
     ]
    }
   ],
   "source": [
    "!utils/copy_data_dir.sh data/test-clean data/test-clean_hires\n",
    "!utils/copy_data_dir.sh data/test-other data/test-other_hires"
   ]
  },
  {
   "cell_type": "code",
   "execution_count": 28,
   "id": "pressing-grill",
   "metadata": {
    "execution": {
     "iopub.execute_input": "2021-06-22T13:19:20.406713Z",
     "iopub.status.busy": "2021-06-22T13:19:20.406042Z",
     "iopub.status.idle": "2021-06-22T13:19:21.135102Z",
     "shell.execute_reply": "2021-06-22T13:19:21.134064Z",
     "shell.execute_reply.started": "2021-06-22T12:20:32.826362Z"
    },
    "papermill": {
     "duration": 0.76929,
     "end_time": "2021-06-22T13:19:21.135357",
     "exception": false,
     "start_time": "2021-06-22T13:19:20.366067",
     "status": "completed"
    },
    "tags": []
   },
   "outputs": [],
   "source": [
    "!ln -s utils/parse_options.sh"
   ]
  },
  {
   "cell_type": "code",
   "execution_count": 29,
   "id": "alleged-egyptian",
   "metadata": {
    "execution": {
     "iopub.execute_input": "2021-06-22T13:19:21.232607Z",
     "iopub.status.busy": "2021-06-22T13:19:21.228004Z",
     "iopub.status.idle": "2021-06-22T13:20:47.596449Z",
     "shell.execute_reply": "2021-06-22T13:20:47.595885Z",
     "shell.execute_reply.started": "2021-06-22T12:25:44.313451Z"
    },
    "papermill": {
     "duration": 86.417896,
     "end_time": "2021-06-22T13:20:47.596649",
     "exception": false,
     "start_time": "2021-06-22T13:19:21.178753",
     "status": "completed"
    },
    "tags": []
   },
   "outputs": [
    {
     "name": "stdout",
     "output_type": "stream",
     "text": [
      "steps/make_mfcc.sh --nj 20 --mfcc-config conf/mfcc_hires.conf --cmd run.pl data/test-clean_hires\r\n",
      "utils/validate_data_dir.sh: Successfully validated data-directory data/test-clean_hires\r\n",
      "steps/make_mfcc.sh: [info]: no segments file exists: assuming wav.scp indexed by utterance.\r\n",
      "steps/make_mfcc.sh: Succeeded creating MFCC features for test-clean_hires\r\n",
      "steps/compute_cmvn_stats.sh data/test-clean_hires\r\n",
      "Succeeded creating CMVN stats for test-clean_hires\r\n",
      "fix_data_dir.sh: kept all 2620 utterances.\r\n",
      "fix_data_dir.sh: old files are kept in data/test-clean_hires/.backup\r\n",
      "steps/make_mfcc.sh --nj 20 --mfcc-config conf/mfcc_hires.conf --cmd run.pl data/test-other_hires\r\n",
      "utils/validate_data_dir.sh: Successfully validated data-directory data/test-other_hires\r\n",
      "steps/make_mfcc.sh: [info]: no segments file exists: assuming wav.scp indexed by utterance.\r\n",
      "steps/make_mfcc.sh: Succeeded creating MFCC features for test-other_hires\r\n",
      "steps/compute_cmvn_stats.sh data/test-other_hires\r\n",
      "Succeeded creating CMVN stats for test-other_hires\r\n",
      "fix_data_dir.sh: kept all 2939 utterances.\r\n",
      "fix_data_dir.sh: old files are kept in data/test-other_hires/.backup\r\n"
     ]
    }
   ],
   "source": [
    "!steps/make_mfcc.sh --nj 20 --mfcc-config conf/mfcc_hires.conf --cmd \"$train_cmd\" data/test-clean_hires\n",
    "!steps/compute_cmvn_stats.sh data/test-clean_hires\n",
    "!utils/fix_data_dir.sh data/test-clean_hires\n",
    "!steps/make_mfcc.sh --nj 20 --mfcc-config conf/mfcc_hires.conf --cmd \"$train_cmd\" data/test-other_hires\n",
    "!steps/compute_cmvn_stats.sh data/test-other_hires\n",
    "!utils/fix_data_dir.sh data/test-other_hires\n"
   ]
  },
  {
   "cell_type": "code",
   "execution_count": 30,
   "id": "convenient-burlington",
   "metadata": {
    "execution": {
     "iopub.execute_input": "2021-06-22T13:20:47.686938Z",
     "iopub.status.busy": "2021-06-22T13:20:47.686238Z",
     "iopub.status.idle": "2021-06-22T13:20:49.145356Z",
     "shell.execute_reply": "2021-06-22T13:20:49.146214Z",
     "shell.execute_reply.started": "2021-06-22T12:38:42.072847Z"
    },
    "papermill": {
     "duration": 1.510516,
     "end_time": "2021-06-22T13:20:49.146458",
     "exception": false,
     "start_time": "2021-06-22T13:20:47.635942",
     "status": "completed"
    },
    "tags": []
   },
   "outputs": [],
   "source": [
    "!ln -s /kaggle/input/kaldi-librispeech-model/exp/nnet3_cleaned/ exp/nnet3_cleaned\n",
    "!ln -s /kaggle/input/kaldi-librispeech-model/exp/chain_cleaned/ exp/chain_cleaned"
   ]
  },
  {
   "cell_type": "code",
   "execution_count": 31,
   "id": "driving-analyst",
   "metadata": {
    "execution": {
     "iopub.execute_input": "2021-06-22T13:20:49.232283Z",
     "iopub.status.busy": "2021-06-22T13:20:49.231652Z",
     "iopub.status.idle": "2021-06-22T13:20:58.236403Z",
     "shell.execute_reply": "2021-06-22T13:20:58.235704Z",
     "shell.execute_reply.started": "2021-06-22T12:44:16.329652Z"
    },
    "papermill": {
     "duration": 9.047487,
     "end_time": "2021-06-22T13:20:58.236587",
     "exception": false,
     "start_time": "2021-06-22T13:20:49.189100",
     "status": "completed"
    },
    "tags": []
   },
   "outputs": [
    {
     "name": "stdout",
     "output_type": "stream",
     "text": [
      "env: nspk=$(wc -l <data/test-clean_hires/spk2utt)\n",
      "steps/online/nnet2/extract_ivectors_online.sh --cmd run.pl --nj $(wc -l <data/test-clean_hires/spk2utt) data/test-clean_hires exp/nnet3_cleaned/extractor exp/nnet3_cleaned_out/ivectors_test-clean_hires\r\n",
      "steps/online/nnet2/extract_ivectors_online.sh: extracting iVectors\r\n",
      "run.pl: 87 / 87 failed, log is in exp/nnet3_cleaned_out/ivectors_test-clean_hires/log/extract_ivectors.*.log\r\n",
      "env: nspk=$(wc -l <data/test-other_hires/spk2utt)\n",
      "steps/online/nnet2/extract_ivectors_online.sh --cmd run.pl --nj $(wc -l <data/test-other_hires/spk2utt) data/test-other_hires exp/nnet3_cleaned/extractor exp/nnet3_cleaned_out/ivectors_test-other_hires\r\n",
      "steps/online/nnet2/extract_ivectors_online.sh: extracting iVectors\r\n",
      "run.pl: 90 / 90 failed, log is in exp/nnet3_cleaned_out/ivectors_test-other_hires/log/extract_ivectors.*.log\r\n"
     ]
    }
   ],
   "source": [
    "%env nspk=$(wc -l <data/test-clean_hires/spk2utt)\n",
    "!steps/online/nnet2/extract_ivectors_online.sh --cmd \"$train_cmd\" --nj \"${nspk}\" data/test-clean_hires exp/nnet3_cleaned/extractor exp/nnet3_cleaned_out/ivectors_test-clean_hires\n",
    "%env nspk=$(wc -l <data/test-other_hires/spk2utt)\n",
    "!steps/online/nnet2/extract_ivectors_online.sh --cmd \"$train_cmd\" --nj \"${nspk}\" data/test-other_hires exp/nnet3_cleaned/extractor exp/nnet3_cleaned_out/ivectors_test-other_hires"
   ]
  },
  {
   "cell_type": "code",
   "execution_count": 32,
   "id": "dress-amplifier",
   "metadata": {
    "execution": {
     "iopub.execute_input": "2021-06-22T13:20:58.332664Z",
     "iopub.status.busy": "2021-06-22T13:20:58.331767Z",
     "iopub.status.idle": "2021-06-22T13:20:59.068435Z",
     "shell.execute_reply": "2021-06-22T13:20:59.069020Z",
     "shell.execute_reply.started": "2021-06-22T12:44:48.467401Z"
    },
    "papermill": {
     "duration": 0.789477,
     "end_time": "2021-06-22T13:20:59.069215",
     "exception": false,
     "start_time": "2021-06-22T13:20:58.279738",
     "status": "completed"
    },
    "tags": []
   },
   "outputs": [
    {
     "name": "stdout",
     "output_type": "stream",
     "text": [
      "# ivector-extract-online2 --config=exp/nnet3_cleaned_out/ivectors_test-clean_hires/conf/ivector_extractor.conf ark:data/test-clean_hires/split87/1/spk2utt scp:data/test-clean_hires/split87/1/feats.scp ark:- | copy-feats --compress=true ark:- ark,scp:/kaggle/working/exp/nnet3_cleaned_out/ivectors_test-clean_hires/ivector_online.1.ark,/kaggle/working/exp/nnet3_cleaned_out/ivectors_test-clean_hires/ivector_online.1.scp \r\n",
      "# Started at Tue Jun 22 13:20:52 UTC 2021\r\n",
      "#\r\n",
      "copy-feats --compress=true ark:- ark,scp:/kaggle/working/exp/nnet3_cleaned_out/ivectors_test-clean_hires/ivector_online.1.ark,/kaggle/working/exp/nnet3_cleaned_out/ivectors_test-clean_hires/ivector_online.1.scp \r\n",
      "ivector-extract-online2: error while loading shared libraries: libcudart.so.10.0: cannot open shared object file: No such file or directory\r\n",
      "LOG (copy-feats[5.5.0~1-2b62]:main():copy-feats.cc:143) Copied 0 feature matrices.\r\n",
      "# Accounting: time=0 threads=1\r\n",
      "# Ended (code 1) at Tue Jun 22 13:20:52 UTC 2021, elapsed time 0 seconds\r\n",
      "# ivector-extract-online2 --config=exp/nnet3_cleaned_out/ivectors_test-clean_hires/conf/ivector_extractor.conf ark:data/test-clean_hires/split87/10/spk2utt scp:data/test-clean_hires/split87/10/feats.scp ark:- | copy-feats --compress=true ark:- ark,scp:/kaggle/working/exp/nnet3_cleaned_out/ivectors_test-clean_hires/ivector_online.10.ark,/kaggle/working/exp/nnet3_cleaned_out/ivectors_test-clean_hires/ivector_online.10.scp \r\n",
      "# Started at Tue Jun 22 13:20:52 UTC 2021\r\n",
      "#\r\n",
      "ivector-extract-online2: error while loading shared libraries: libcudart.so.10.0: cannot open shared object file: No such file or directory\r\n",
      "copy-feats --compress=true ark:- ark,scp:/kaggle/working/exp/nnet3_cleaned_out/ivectors_test-clean_hires/ivector_online.10.ark,/kaggle/working/exp/nnet3_cleaned_out/ivectors_test-clean_hires/ivector_online.10.scp \r\n",
      "LOG (copy-feats[5.5.0~1-2b62]:main():copy-feats.cc:143) Copied 0 feature matrices.\r\n",
      "# Accounting: time=0 threads=1\r\n",
      "# Ended (code 1) at Tue Jun 22 13:20:52 UTC 2021, elapsed time 0 seconds\r\n",
      "# ivector-extract-online2 --config=exp/nnet3_cleaned_out/ivectors_test-clean_hires/conf/ivector_extractor.conf ark:data/test-clean_hires/split87/11/spk2utt scp:data/test-clean_hires/split87/11/feats.scp ark:- | copy-feats --compress=true ark:- ark,scp:/kaggle/working/exp/nnet3_cleaned_out/ivectors_test-clean_hires/ivector_online.11.ark,/kaggle/working/exp/nnet3_cleaned_out/ivectors_test-clean_hires/ivector_online.11.scp \r\n",
      "# Started at Tue Jun 22 13:20:52 UTC 2021\r\n",
      "#\r\n",
      "ivector-extract-online2: error while loading shared libraries: libcudart.so.10.0: cannot open shared object file: No such file or directory\r\n",
      "copy-feats --compress=true ark:- ark,scp:/kaggle/working/exp/nnet3_cleaned_out/ivectors_test-clean_hires/ivector_online.11.ark,/kaggle/working/exp/nnet3_cleaned_out/ivectors_test-clean_hires/ivector_online.11.scp \r\n",
      "LOG (copy-feats[5.5.0~1-2b62]:main():copy-feats.cc:143) Copied 0 feature matrices.\r\n",
      "# Accounting: time=0 threads=1\r\n",
      "# Ended (code 1) at Tue Jun 22 13:20:52 UTC 2021, elapsed time 0 seconds\r\n",
      "# ivector-extract-online2 --config=exp/nnet3_cleaned_out/ivectors_test-clean_hires/conf/ivector_extractor.conf ark:data/test-clean_hires/split87/12/spk2utt scp:data/test-clean_hires/split87/12/feats.scp ark:- | copy-feats --compress=true ark:- ark,scp:/kaggle/working/exp/nnet3_cleaned_out/ivectors_test-clean_hires/ivector_online.12.ark,/kaggle/working/exp/nnet3_cleaned_out/ivectors_test-clean_hires/ivector_online.12.scp \r\n",
      "# Started at Tue Jun 22 13:20:52 UTC 2021\r\n",
      "#\r\n",
      "ivector-extract-online2: error while loading shared libraries: libcudart.so.10.0: cannot open shared object file: No such file or directory\r\n",
      "copy-feats --compress=true ark:- ark,scp:/kaggle/working/exp/nnet3_cleaned_out/ivectors_test-clean_hires/ivector_online.12.ark,/kaggle/working/exp/nnet3_cleaned_out/ivectors_test-clean_hires/ivector_online.12.scp \r\n",
      "LOG (copy-feats[5.5.0~1-2b62]:main():copy-feats.cc:143) Copied 0 feature matrices.\r\n",
      "# Accounting: time=0 threads=1\r\n",
      "# Ended (code 1) at Tue Jun 22 13:20:52 UTC 2021, elapsed time 0 seconds\r\n",
      "# ivector-extract-online2 --config=exp/nnet3_cleaned_out/ivectors_test-clean_hires/conf/ivector_extractor.conf ark:data/test-clean_hires/split87/13/spk2utt scp:data/test-clean_hires/split87/13/feats.scp ark:- | copy-feats --compress=true ark:- ark,scp:/kaggle/working/exp/nnet3_cleaned_out/ivectors_test-clean_hires/ivector_online.13.ark,/kaggle/working/exp/nnet3_cleaned_out/ivectors_test-clean_hires/ivector_online.13.scp \r\n",
      "# Started at Tue Jun 22 13:20:52 UTC 2021\r\n",
      "#\r\n",
      "ivector-extract-online2: error while loading shared libraries: libcudart.so.10.0: cannot open shared object file: No such file or directory\r\n",
      "copy-feats --compress=true ark:- ark,scp:/kaggle/working/exp/nnet3_cleaned_out/ivectors_test-clean_hires/ivector_online.13.ark,/kaggle/working/exp/nnet3_cleaned_out/ivectors_test-clean_hires/ivector_online.13.scp \r\n",
      "LOG (copy-feats[5.5.0~1-2b62]:main():copy-feats.cc:143) Copied 0 feature matrices.\r\n",
      "# Accounting: time=0 threads=1\r\n",
      "# Ended (code 1) at Tue Jun 22 13:20:52 UTC 2021, elapsed time 0 seconds\r\n",
      "# ivector-extract-online2 --config=exp/nnet3_cleaned_out/ivectors_test-clean_hires/conf/ivector_extractor.conf ark:data/test-clean_hires/split87/14/spk2utt scp:data/test-clean_hires/split87/14/feats.scp ark:- | copy-feats --compress=true ark:- ark,scp:/kaggle/working/exp/nnet3_cleaned_out/ivectors_test-clean_hires/ivector_online.14.ark,/kaggle/working/exp/nnet3_cleaned_out/ivectors_test-clean_hires/ivector_online.14.scp \r\n",
      "# Started at Tue Jun 22 13:20:52 UTC 2021\r\n",
      "#\r\n",
      "ivector-extract-online2: error while loading shared libraries: libcudart.so.10.0: cannot open shared object file: No such file or directory\r\n",
      "copy-feats --compress=true ark:- ark,scp:/kaggle/working/exp/nnet3_cleaned_out/ivectors_test-clean_hires/ivector_online.14.ark,/kaggle/working/exp/nnet3_cleaned_out/ivectors_test-clean_hires/ivector_online.14.scp \r\n",
      "LOG (copy-feats[5.5.0~1-2b62]:main():copy-feats.cc:143) Copied 0 feature matrices.\r\n",
      "# Accounting: time=0 threads=1\r\n",
      "# Ended (code 1) at Tue Jun 22 13:20:52 UTC 2021, elapsed time 0 seconds\r\n",
      "# ivector-extract-online2 --config=exp/nnet3_cleaned_out/ivectors_test-clean_hires/conf/ivector_extractor.conf ark:data/test-clean_hires/split87/15/spk2utt scp:data/test-clean_hires/split87/15/feats.scp ark:- | copy-feats --compress=true ark:- ark,scp:/kaggle/working/exp/nnet3_cleaned_out/ivectors_test-clean_hires/ivector_online.15.ark,/kaggle/working/exp/nnet3_cleaned_out/ivectors_test-clean_hires/ivector_online.15.scp \r\n",
      "# Started at Tue Jun 22 13:20:52 UTC 2021\r\n",
      "#\r\n",
      "ivector-extract-online2: error while loading shared libraries: libcudart.so.10.0: cannot open shared object file: No such file or directory\r\n",
      "copy-feats --compress=true ark:- ark,scp:/kaggle/working/exp/nnet3_cleaned_out/ivectors_test-clean_hires/ivector_online.15.ark,/kaggle/working/exp/nnet3_cleaned_out/ivectors_test-clean_hires/ivector_online.15.scp \r\n",
      "LOG (copy-feats[5.5.0~1-2b62]:main():copy-feats.cc:143) Copied 0 feature matrices.\r\n",
      "# Accounting: time=0 threads=1\r\n",
      "# Ended (code 1) at Tue Jun 22 13:20:52 UTC 2021, elapsed time 0 seconds\r\n",
      "# ivector-extract-online2 --config=exp/nnet3_cleaned_out/ivectors_test-clean_hires/conf/ivector_extractor.conf ark:data/test-clean_hires/split87/16/spk2utt scp:data/test-clean_hires/split87/16/feats.scp ark:- | copy-feats --compress=true ark:- ark,scp:/kaggle/working/exp/nnet3_cleaned_out/ivectors_test-clean_hires/ivector_online.16.ark,/kaggle/working/exp/nnet3_cleaned_out/ivectors_test-clean_hires/ivector_online.16.scp \r\n",
      "# Started at Tue Jun 22 13:20:52 UTC 2021\r\n",
      "#\r\n",
      "ivector-extract-online2: error while loading shared libraries: libcudart.so.10.0: cannot open shared object file: No such file or directory\r\n",
      "copy-feats --compress=true ark:- ark,scp:/kaggle/working/exp/nnet3_cleaned_out/ivectors_test-clean_hires/ivector_online.16.ark,/kaggle/working/exp/nnet3_cleaned_out/ivectors_test-clean_hires/ivector_online.16.scp \r\n",
      "LOG (copy-feats[5.5.0~1-2b62]:main():copy-feats.cc:143) Copied 0 feature matrices.\r\n",
      "# Accounting: time=0 threads=1\r\n",
      "# Ended (code 1) at Tue Jun 22 13:20:52 UTC 2021, elapsed time 0 seconds\r\n",
      "# ivector-extract-online2 --config=exp/nnet3_cleaned_out/ivectors_test-clean_hires/conf/ivector_extractor.conf ark:data/test-clean_hires/split87/17/spk2utt scp:data/test-clean_hires/split87/17/feats.scp ark:- | copy-feats --compress=true ark:- ark,scp:/kaggle/working/exp/nnet3_cleaned_out/ivectors_test-clean_hires/ivector_online.17.ark,/kaggle/working/exp/nnet3_cleaned_out/ivectors_test-clean_hires/ivector_online.17.scp \r\n",
      "# Started at Tue Jun 22 13:20:52 UTC 2021\r\n",
      "#\r\n",
      "ivector-extract-online2: error while loading shared libraries: libcudart.so.10.0: cannot open shared object file: No such file or directory\r\n",
      "copy-feats --compress=true ark:- ark,scp:/kaggle/working/exp/nnet3_cleaned_out/ivectors_test-clean_hires/ivector_online.17.ark,/kaggle/working/exp/nnet3_cleaned_out/ivectors_test-clean_hires/ivector_online.17.scp \r\n",
      "LOG (copy-feats[5.5.0~1-2b62]:main():copy-feats.cc:143) Copied 0 feature matrices.\r\n",
      "# Accounting: time=0 threads=1\r\n",
      "# Ended (code 1) at Tue Jun 22 13:20:52 UTC 2021, elapsed time 0 seconds\r\n",
      "# ivector-extract-online2 --config=exp/nnet3_cleaned_out/ivectors_test-clean_hires/conf/ivector_extractor.conf ark:data/test-clean_hires/split87/18/spk2utt scp:data/test-clean_hires/split87/18/feats.scp ark:- | copy-feats --compress=true ark:- ark,scp:/kaggle/working/exp/nnet3_cleaned_out/ivectors_test-clean_hires/ivector_online.18.ark,/kaggle/working/exp/nnet3_cleaned_out/ivectors_test-clean_hires/ivector_online.18.scp \r\n",
      "# Started at Tue Jun 22 13:20:52 UTC 2021\r\n",
      "#\r\n",
      "ivector-extract-online2: error while loading shared libraries: libcudart.so.10.0: cannot open shared object file: No such file or directory\r\n",
      "copy-feats --compress=true ark:- ark,scp:/kaggle/working/exp/nnet3_cleaned_out/ivectors_test-clean_hires/ivector_online.18.ark,/kaggle/working/exp/nnet3_cleaned_out/ivectors_test-clean_hires/ivector_online.18.scp \r\n",
      "LOG (copy-feats[5.5.0~1-2b62]:main():copy-feats.cc:143) Copied 0 feature matrices.\r\n",
      "# Accounting: time=0 threads=1\r\n",
      "# Ended (code 1) at Tue Jun 22 13:20:52 UTC 2021, elapsed time 0 seconds\r\n",
      "# ivector-extract-online2 --config=exp/nnet3_cleaned_out/ivectors_test-clean_hires/conf/ivector_extractor.conf ark:data/test-clean_hires/split87/19/spk2utt scp:data/test-clean_hires/split87/19/feats.scp ark:- | copy-feats --compress=true ark:- ark,scp:/kaggle/working/exp/nnet3_cleaned_out/ivectors_test-clean_hires/ivector_online.19.ark,/kaggle/working/exp/nnet3_cleaned_out/ivectors_test-clean_hires/ivector_online.19.scp \r\n",
      "# Started at Tue Jun 22 13:20:52 UTC 2021\r\n",
      "#\r\n",
      "ivector-extract-online2: error while loading shared libraries: libcudart.so.10.0: cannot open shared object file: No such file or directory\r\n",
      "copy-feats --compress=true ark:- ark,scp:/kaggle/working/exp/nnet3_cleaned_out/ivectors_test-clean_hires/ivector_online.19.ark,/kaggle/working/exp/nnet3_cleaned_out/ivectors_test-clean_hires/ivector_online.19.scp \r\n",
      "LOG (copy-feats[5.5.0~1-2b62]:main():copy-feats.cc:143) Copied 0 feature matrices.\r\n",
      "# Accounting: time=0 threads=1\r\n",
      "# Ended (code 1) at Tue Jun 22 13:20:52 UTC 2021, elapsed time 0 seconds\r\n",
      "# ivector-extract-online2 --config=exp/nnet3_cleaned_out/ivectors_test-clean_hires/conf/ivector_extractor.conf ark:data/test-clean_hires/split87/2/spk2utt scp:data/test-clean_hires/split87/2/feats.scp ark:- | copy-feats --compress=true ark:- ark,scp:/kaggle/working/exp/nnet3_cleaned_out/ivectors_test-clean_hires/ivector_online.2.ark,/kaggle/working/exp/nnet3_cleaned_out/ivectors_test-clean_hires/ivector_online.2.scp \r\n",
      "# Started at Tue Jun 22 13:20:52 UTC 2021\r\n",
      "#\r\n",
      "copy-feats --compress=true ark:- ark,scp:/kaggle/working/exp/nnet3_cleaned_out/ivectors_test-clean_hires/ivector_online.2.ark,/kaggle/working/exp/nnet3_cleaned_out/ivectors_test-clean_hires/ivector_online.2.scp \r\n",
      "ivector-extract-online2: error while loading shared libraries: libcudart.so.10.0: cannot open shared object file: No such file or directory\r\n",
      "LOG (copy-feats[5.5.0~1-2b62]:main():copy-feats.cc:143) Copied 0 feature matrices.\r\n",
      "# Accounting: time=0 threads=1\r\n",
      "# Ended (code 1) at Tue Jun 22 13:20:52 UTC 2021, elapsed time 0 seconds\r\n",
      "# ivector-extract-online2 --config=exp/nnet3_cleaned_out/ivectors_test-clean_hires/conf/ivector_extractor.conf ark:data/test-clean_hires/split87/20/spk2utt scp:data/test-clean_hires/split87/20/feats.scp ark:- | copy-feats --compress=true ark:- ark,scp:/kaggle/working/exp/nnet3_cleaned_out/ivectors_test-clean_hires/ivector_online.20.ark,/kaggle/working/exp/nnet3_cleaned_out/ivectors_test-clean_hires/ivector_online.20.scp \r\n",
      "# Started at Tue Jun 22 13:20:52 UTC 2021\r\n",
      "#\r\n",
      "ivector-extract-online2: error while loading shared libraries: libcudart.so.10.0: cannot open shared object file: No such file or directory\r\n",
      "copy-feats --compress=true ark:- ark,scp:/kaggle/working/exp/nnet3_cleaned_out/ivectors_test-clean_hires/ivector_online.20.ark,/kaggle/working/exp/nnet3_cleaned_out/ivectors_test-clean_hires/ivector_online.20.scp \r\n",
      "LOG (copy-feats[5.5.0~1-2b62]:main():copy-feats.cc:143) Copied 0 feature matrices.\r\n",
      "# Accounting: time=0 threads=1\r\n",
      "# Ended (code 1) at Tue Jun 22 13:20:52 UTC 2021, elapsed time 0 seconds\r\n",
      "# ivector-extract-online2 --config=exp/nnet3_cleaned_out/ivectors_test-clean_hires/conf/ivector_extractor.conf ark:data/test-clean_hires/split87/21/spk2utt scp:data/test-clean_hires/split87/21/feats.scp ark:- | copy-feats --compress=true ark:- ark,scp:/kaggle/working/exp/nnet3_cleaned_out/ivectors_test-clean_hires/ivector_online.21.ark,/kaggle/working/exp/nnet3_cleaned_out/ivectors_test-clean_hires/ivector_online.21.scp \r\n",
      "# Started at Tue Jun 22 13:20:52 UTC 2021\r\n",
      "#\r\n",
      "ivector-extract-online2: error while loading shared libraries: libcudart.so.10.0: cannot open shared object file: No such file or directory\r\n",
      "copy-feats --compress=true ark:- ark,scp:/kaggle/working/exp/nnet3_cleaned_out/ivectors_test-clean_hires/ivector_online.21.ark,/kaggle/working/exp/nnet3_cleaned_out/ivectors_test-clean_hires/ivector_online.21.scp \r\n",
      "LOG (copy-feats[5.5.0~1-2b62]:main():copy-feats.cc:143) Copied 0 feature matrices.\r\n",
      "# Accounting: time=1 threads=1\r\n",
      "# Ended (code 1) at Tue Jun 22 13:20:53 UTC 2021, elapsed time 1 seconds\r\n",
      "# ivector-extract-online2 --config=exp/nnet3_cleaned_out/ivectors_test-clean_hires/conf/ivector_extractor.conf ark:data/test-clean_hires/split87/22/spk2utt scp:data/test-clean_hires/split87/22/feats.scp ark:- | copy-feats --compress=true ark:- ark,scp:/kaggle/working/exp/nnet3_cleaned_out/ivectors_test-clean_hires/ivector_online.22.ark,/kaggle/working/exp/nnet3_cleaned_out/ivectors_test-clean_hires/ivector_online.22.scp \r\n",
      "# Started at Tue Jun 22 13:20:52 UTC 2021\r\n",
      "#\r\n",
      "ivector-extract-online2: error while loading shared libraries: libcudart.so.10.0: cannot open shared object file: No such file or directory\r\n",
      "copy-feats --compress=true ark:- ark,scp:/kaggle/working/exp/nnet3_cleaned_out/ivectors_test-clean_hires/ivector_online.22.ark,/kaggle/working/exp/nnet3_cleaned_out/ivectors_test-clean_hires/ivector_online.22.scp \r\n",
      "LOG (copy-feats[5.5.0~1-2b62]:main():copy-feats.cc:143) Copied 0 feature matrices.\r\n",
      "# Accounting: time=1 threads=1\r\n",
      "# Ended (code 1) at Tue Jun 22 13:20:53 UTC 2021, elapsed time 1 seconds\r\n",
      "# ivector-extract-online2 --config=exp/nnet3_cleaned_out/ivectors_test-clean_hires/conf/ivector_extractor.conf ark:data/test-clean_hires/split87/23/spk2utt scp:data/test-clean_hires/split87/23/feats.scp ark:- | copy-feats --compress=true ark:- ark,scp:/kaggle/working/exp/nnet3_cleaned_out/ivectors_test-clean_hires/ivector_online.23.ark,/kaggle/working/exp/nnet3_cleaned_out/ivectors_test-clean_hires/ivector_online.23.scp \r\n",
      "# Started at Tue Jun 22 13:20:52 UTC 2021\r\n",
      "#\r\n",
      "ivector-extract-online2: error while loading shared libraries: libcudart.so.10.0: cannot open shared object file: No such file or directory\r\n",
      "copy-feats --compress=true ark:- ark,scp:/kaggle/working/exp/nnet3_cleaned_out/ivectors_test-clean_hires/ivector_online.23.ark,/kaggle/working/exp/nnet3_cleaned_out/ivectors_test-clean_hires/ivector_online.23.scp \r\n",
      "LOG (copy-feats[5.5.0~1-2b62]:main():copy-feats.cc:143) Copied 0 feature matrices.\r\n",
      "# Accounting: time=1 threads=1\r\n",
      "# Ended (code 1) at Tue Jun 22 13:20:53 UTC 2021, elapsed time 1 seconds\r\n",
      "# ivector-extract-online2 --config=exp/nnet3_cleaned_out/ivectors_test-clean_hires/conf/ivector_extractor.conf ark:data/test-clean_hires/split87/24/spk2utt scp:data/test-clean_hires/split87/24/feats.scp ark:- | copy-feats --compress=true ark:- ark,scp:/kaggle/working/exp/nnet3_cleaned_out/ivectors_test-clean_hires/ivector_online.24.ark,/kaggle/working/exp/nnet3_cleaned_out/ivectors_test-clean_hires/ivector_online.24.scp \r\n",
      "# Started at Tue Jun 22 13:20:53 UTC 2021\r\n",
      "#\r\n",
      "ivector-extract-online2: error while loading shared libraries: libcudart.so.10.0: cannot open shared object file: No such file or directory\r\n",
      "copy-feats --compress=true ark:- ark,scp:/kaggle/working/exp/nnet3_cleaned_out/ivectors_test-clean_hires/ivector_online.24.ark,/kaggle/working/exp/nnet3_cleaned_out/ivectors_test-clean_hires/ivector_online.24.scp \r\n",
      "LOG (copy-feats[5.5.0~1-2b62]:main():copy-feats.cc:143) Copied 0 feature matrices.\r\n",
      "# Accounting: time=0 threads=1\r\n",
      "# Ended (code 1) at Tue Jun 22 13:20:53 UTC 2021, elapsed time 0 seconds\r\n",
      "# ivector-extract-online2 --config=exp/nnet3_cleaned_out/ivectors_test-clean_hires/conf/ivector_extractor.conf ark:data/test-clean_hires/split87/25/spk2utt scp:data/test-clean_hires/split87/25/feats.scp ark:- | copy-feats --compress=true ark:- ark,scp:/kaggle/working/exp/nnet3_cleaned_out/ivectors_test-clean_hires/ivector_online.25.ark,/kaggle/working/exp/nnet3_cleaned_out/ivectors_test-clean_hires/ivector_online.25.scp \r\n",
      "# Started at Tue Jun 22 13:20:53 UTC 2021\r\n",
      "#\r\n",
      "ivector-extract-online2: error while loading shared libraries: libcudart.so.10.0: cannot open shared object file: No such file or directory\r\n",
      "copy-feats --compress=true ark:- ark,scp:/kaggle/working/exp/nnet3_cleaned_out/ivectors_test-clean_hires/ivector_online.25.ark,/kaggle/working/exp/nnet3_cleaned_out/ivectors_test-clean_hires/ivector_online.25.scp \r\n",
      "LOG (copy-feats[5.5.0~1-2b62]:main():copy-feats.cc:143) Copied 0 feature matrices.\r\n",
      "# Accounting: time=0 threads=1\r\n",
      "# Ended (code 1) at Tue Jun 22 13:20:53 UTC 2021, elapsed time 0 seconds\r\n",
      "# ivector-extract-online2 --config=exp/nnet3_cleaned_out/ivectors_test-clean_hires/conf/ivector_extractor.conf ark:data/test-clean_hires/split87/26/spk2utt scp:data/test-clean_hires/split87/26/feats.scp ark:- | copy-feats --compress=true ark:- ark,scp:/kaggle/working/exp/nnet3_cleaned_out/ivectors_test-clean_hires/ivector_online.26.ark,/kaggle/working/exp/nnet3_cleaned_out/ivectors_test-clean_hires/ivector_online.26.scp \r\n",
      "# Started at Tue Jun 22 13:20:53 UTC 2021\r\n",
      "#\r\n",
      "ivector-extract-online2: error while loading shared libraries: libcudart.so.10.0: cannot open shared object file: No such file or directory\r\n",
      "copy-feats --compress=true ark:- ark,scp:/kaggle/working/exp/nnet3_cleaned_out/ivectors_test-clean_hires/ivector_online.26.ark,/kaggle/working/exp/nnet3_cleaned_out/ivectors_test-clean_hires/ivector_online.26.scp \r\n",
      "LOG (copy-feats[5.5.0~1-2b62]:main():copy-feats.cc:143) Copied 0 feature matrices.\r\n",
      "# Accounting: time=0 threads=1\r\n",
      "# Ended (code 1) at Tue Jun 22 13:20:53 UTC 2021, elapsed time 0 seconds\r\n",
      "# ivector-extract-online2 --config=exp/nnet3_cleaned_out/ivectors_test-clean_hires/conf/ivector_extractor.conf ark:data/test-clean_hires/split87/27/spk2utt scp:data/test-clean_hires/split87/27/feats.scp ark:- | copy-feats --compress=true ark:- ark,scp:/kaggle/working/exp/nnet3_cleaned_out/ivectors_test-clean_hires/ivector_online.27.ark,/kaggle/working/exp/nnet3_cleaned_out/ivectors_test-clean_hires/ivector_online.27.scp \r\n",
      "# Started at Tue Jun 22 13:20:53 UTC 2021\r\n",
      "#\r\n",
      "ivector-extract-online2: error while loading shared libraries: libcudart.so.10.0: cannot open shared object file: No such file or directory\r\n",
      "copy-feats --compress=true ark:- ark,scp:/kaggle/working/exp/nnet3_cleaned_out/ivectors_test-clean_hires/ivector_online.27.ark,/kaggle/working/exp/nnet3_cleaned_out/ivectors_test-clean_hires/ivector_online.27.scp \r\n",
      "LOG (copy-feats[5.5.0~1-2b62]:main():copy-feats.cc:143) Copied 0 feature matrices.\r\n",
      "# Accounting: time=0 threads=1\r\n",
      "# Ended (code 1) at Tue Jun 22 13:20:53 UTC 2021, elapsed time 0 seconds\r\n",
      "# ivector-extract-online2 --config=exp/nnet3_cleaned_out/ivectors_test-clean_hires/conf/ivector_extractor.conf ark:data/test-clean_hires/split87/28/spk2utt scp:data/test-clean_hires/split87/28/feats.scp ark:- | copy-feats --compress=true ark:- ark,scp:/kaggle/working/exp/nnet3_cleaned_out/ivectors_test-clean_hires/ivector_online.28.ark,/kaggle/working/exp/nnet3_cleaned_out/ivectors_test-clean_hires/ivector_online.28.scp \r\n",
      "# Started at Tue Jun 22 13:20:53 UTC 2021\r\n",
      "#\r\n",
      "ivector-extract-online2: error while loading shared libraries: libcudart.so.10.0: cannot open shared object file: No such file or directory\r\n",
      "copy-feats --compress=true ark:- ark,scp:/kaggle/working/exp/nnet3_cleaned_out/ivectors_test-clean_hires/ivector_online.28.ark,/kaggle/working/exp/nnet3_cleaned_out/ivectors_test-clean_hires/ivector_online.28.scp \r\n",
      "LOG (copy-feats[5.5.0~1-2b62]:main():copy-feats.cc:143) Copied 0 feature matrices.\r\n",
      "# Accounting: time=0 threads=1\r\n",
      "# Ended (code 1) at Tue Jun 22 13:20:53 UTC 2021, elapsed time 0 seconds\r\n",
      "# ivector-extract-online2 --config=exp/nnet3_cleaned_out/ivectors_test-clean_hires/conf/ivector_extractor.conf ark:data/test-clean_hires/split87/29/spk2utt scp:data/test-clean_hires/split87/29/feats.scp ark:- | copy-feats --compress=true ark:- ark,scp:/kaggle/working/exp/nnet3_cleaned_out/ivectors_test-clean_hires/ivector_online.29.ark,/kaggle/working/exp/nnet3_cleaned_out/ivectors_test-clean_hires/ivector_online.29.scp \r\n",
      "# Started at Tue Jun 22 13:20:53 UTC 2021\r\n",
      "#\r\n",
      "ivector-extract-online2: error while loading shared libraries: libcudart.so.10.0: cannot open shared object file: No such file or directory\r\n",
      "copy-feats --compress=true ark:- ark,scp:/kaggle/working/exp/nnet3_cleaned_out/ivectors_test-clean_hires/ivector_online.29.ark,/kaggle/working/exp/nnet3_cleaned_out/ivectors_test-clean_hires/ivector_online.29.scp \r\n",
      "LOG (copy-feats[5.5.0~1-2b62]:main():copy-feats.cc:143) Copied 0 feature matrices.\r\n",
      "# Accounting: time=0 threads=1\r\n",
      "# Ended (code 1) at Tue Jun 22 13:20:53 UTC 2021, elapsed time 0 seconds\r\n",
      "# ivector-extract-online2 --config=exp/nnet3_cleaned_out/ivectors_test-clean_hires/conf/ivector_extractor.conf ark:data/test-clean_hires/split87/3/spk2utt scp:data/test-clean_hires/split87/3/feats.scp ark:- | copy-feats --compress=true ark:- ark,scp:/kaggle/working/exp/nnet3_cleaned_out/ivectors_test-clean_hires/ivector_online.3.ark,/kaggle/working/exp/nnet3_cleaned_out/ivectors_test-clean_hires/ivector_online.3.scp \r\n",
      "# Started at Tue Jun 22 13:20:52 UTC 2021\r\n",
      "#\r\n",
      "copy-feats --compress=true ark:- ark,scp:/kaggle/working/exp/nnet3_cleaned_out/ivectors_test-clean_hires/ivector_online.3.ark,/kaggle/working/exp/nnet3_cleaned_out/ivectors_test-clean_hires/ivector_online.3.scp \r\n",
      "ivector-extract-online2: error while loading shared libraries: libcudart.so.10.0: cannot open shared object file: No such file or directory\r\n",
      "LOG (copy-feats[5.5.0~1-2b62]:main():copy-feats.cc:143) Copied 0 feature matrices.\r\n",
      "# Accounting: time=0 threads=1\r\n",
      "# Ended (code 1) at Tue Jun 22 13:20:52 UTC 2021, elapsed time 0 seconds\r\n",
      "# ivector-extract-online2 --config=exp/nnet3_cleaned_out/ivectors_test-clean_hires/conf/ivector_extractor.conf ark:data/test-clean_hires/split87/30/spk2utt scp:data/test-clean_hires/split87/30/feats.scp ark:- | copy-feats --compress=true ark:- ark,scp:/kaggle/working/exp/nnet3_cleaned_out/ivectors_test-clean_hires/ivector_online.30.ark,/kaggle/working/exp/nnet3_cleaned_out/ivectors_test-clean_hires/ivector_online.30.scp \r\n",
      "# Started at Tue Jun 22 13:20:53 UTC 2021\r\n",
      "#\r\n",
      "ivector-extract-online2: error while loading shared libraries: libcudart.so.10.0: cannot open shared object file: No such file or directory\r\n",
      "copy-feats --compress=true ark:- ark,scp:/kaggle/working/exp/nnet3_cleaned_out/ivectors_test-clean_hires/ivector_online.30.ark,/kaggle/working/exp/nnet3_cleaned_out/ivectors_test-clean_hires/ivector_online.30.scp \r\n",
      "LOG (copy-feats[5.5.0~1-2b62]:main():copy-feats.cc:143) Copied 0 feature matrices.\r\n",
      "# Accounting: time=0 threads=1\r\n",
      "# Ended (code 1) at Tue Jun 22 13:20:53 UTC 2021, elapsed time 0 seconds\r\n",
      "# ivector-extract-online2 --config=exp/nnet3_cleaned_out/ivectors_test-clean_hires/conf/ivector_extractor.conf ark:data/test-clean_hires/split87/31/spk2utt scp:data/test-clean_hires/split87/31/feats.scp ark:- | copy-feats --compress=true ark:- ark,scp:/kaggle/working/exp/nnet3_cleaned_out/ivectors_test-clean_hires/ivector_online.31.ark,/kaggle/working/exp/nnet3_cleaned_out/ivectors_test-clean_hires/ivector_online.31.scp \r\n",
      "# Started at Tue Jun 22 13:20:53 UTC 2021\r\n",
      "#\r\n",
      "ivector-extract-online2: error while loading shared libraries: libcudart.so.10.0: cannot open shared object file: No such file or directory\r\n",
      "copy-feats --compress=true ark:- ark,scp:/kaggle/working/exp/nnet3_cleaned_out/ivectors_test-clean_hires/ivector_online.31.ark,/kaggle/working/exp/nnet3_cleaned_out/ivectors_test-clean_hires/ivector_online.31.scp \r\n",
      "LOG (copy-feats[5.5.0~1-2b62]:main():copy-feats.cc:143) Copied 0 feature matrices.\r\n",
      "# Accounting: time=0 threads=1\r\n",
      "# Ended (code 1) at Tue Jun 22 13:20:53 UTC 2021, elapsed time 0 seconds\r\n",
      "# ivector-extract-online2 --config=exp/nnet3_cleaned_out/ivectors_test-clean_hires/conf/ivector_extractor.conf ark:data/test-clean_hires/split87/32/spk2utt scp:data/test-clean_hires/split87/32/feats.scp ark:- | copy-feats --compress=true ark:- ark,scp:/kaggle/working/exp/nnet3_cleaned_out/ivectors_test-clean_hires/ivector_online.32.ark,/kaggle/working/exp/nnet3_cleaned_out/ivectors_test-clean_hires/ivector_online.32.scp \r\n",
      "# Started at Tue Jun 22 13:20:53 UTC 2021\r\n",
      "#\r\n",
      "ivector-extract-online2: error while loading shared libraries: libcudart.so.10.0: cannot open shared object file: No such file or directory\r\n",
      "copy-feats --compress=true ark:- ark,scp:/kaggle/working/exp/nnet3_cleaned_out/ivectors_test-clean_hires/ivector_online.32.ark,/kaggle/working/exp/nnet3_cleaned_out/ivectors_test-clean_hires/ivector_online.32.scp \r\n",
      "LOG (copy-feats[5.5.0~1-2b62]:main():copy-feats.cc:143) Copied 0 feature matrices.\r\n",
      "# Accounting: time=0 threads=1\r\n",
      "# Ended (code 1) at Tue Jun 22 13:20:53 UTC 2021, elapsed time 0 seconds\r\n",
      "# ivector-extract-online2 --config=exp/nnet3_cleaned_out/ivectors_test-clean_hires/conf/ivector_extractor.conf ark:data/test-clean_hires/split87/33/spk2utt scp:data/test-clean_hires/split87/33/feats.scp ark:- | copy-feats --compress=true ark:- ark,scp:/kaggle/working/exp/nnet3_cleaned_out/ivectors_test-clean_hires/ivector_online.33.ark,/kaggle/working/exp/nnet3_cleaned_out/ivectors_test-clean_hires/ivector_online.33.scp \r\n",
      "# Started at Tue Jun 22 13:20:53 UTC 2021\r\n",
      "#\r\n",
      "ivector-extract-online2: error while loading shared libraries: libcudart.so.10.0: cannot open shared object file: No such file or directory\r\n",
      "copy-feats --compress=true ark:- ark,scp:/kaggle/working/exp/nnet3_cleaned_out/ivectors_test-clean_hires/ivector_online.33.ark,/kaggle/working/exp/nnet3_cleaned_out/ivectors_test-clean_hires/ivector_online.33.scp \r\n",
      "LOG (copy-feats[5.5.0~1-2b62]:main():copy-feats.cc:143) Copied 0 feature matrices.\r\n",
      "# Accounting: time=0 threads=1\r\n",
      "# Ended (code 1) at Tue Jun 22 13:20:53 UTC 2021, elapsed time 0 seconds\r\n",
      "# ivector-extract-online2 --config=exp/nnet3_cleaned_out/ivectors_test-clean_hires/conf/ivector_extractor.conf ark:data/test-clean_hires/split87/34/spk2utt scp:data/test-clean_hires/split87/34/feats.scp ark:- | copy-feats --compress=true ark:- ark,scp:/kaggle/working/exp/nnet3_cleaned_out/ivectors_test-clean_hires/ivector_online.34.ark,/kaggle/working/exp/nnet3_cleaned_out/ivectors_test-clean_hires/ivector_online.34.scp \r\n",
      "# Started at Tue Jun 22 13:20:53 UTC 2021\r\n",
      "#\r\n",
      "ivector-extract-online2: error while loading shared libraries: libcudart.so.10.0: cannot open shared object file: No such file or directory\r\n",
      "copy-feats --compress=true ark:- ark,scp:/kaggle/working/exp/nnet3_cleaned_out/ivectors_test-clean_hires/ivector_online.34.ark,/kaggle/working/exp/nnet3_cleaned_out/ivectors_test-clean_hires/ivector_online.34.scp \r\n",
      "LOG (copy-feats[5.5.0~1-2b62]:main():copy-feats.cc:143) Copied 0 feature matrices.\r\n",
      "# Accounting: time=0 threads=1\r\n",
      "# Ended (code 1) at Tue Jun 22 13:20:53 UTC 2021, elapsed time 0 seconds\r\n",
      "# ivector-extract-online2 --config=exp/nnet3_cleaned_out/ivectors_test-clean_hires/conf/ivector_extractor.conf ark:data/test-clean_hires/split87/35/spk2utt scp:data/test-clean_hires/split87/35/feats.scp ark:- | copy-feats --compress=true ark:- ark,scp:/kaggle/working/exp/nnet3_cleaned_out/ivectors_test-clean_hires/ivector_online.35.ark,/kaggle/working/exp/nnet3_cleaned_out/ivectors_test-clean_hires/ivector_online.35.scp \r\n",
      "# Started at Tue Jun 22 13:20:53 UTC 2021\r\n",
      "#\r\n",
      "ivector-extract-online2: error while loading shared libraries: libcudart.so.10.0: cannot open shared object file: No such file or directory\r\n",
      "copy-feats --compress=true ark:- ark,scp:/kaggle/working/exp/nnet3_cleaned_out/ivectors_test-clean_hires/ivector_online.35.ark,/kaggle/working/exp/nnet3_cleaned_out/ivectors_test-clean_hires/ivector_online.35.scp \r\n",
      "LOG (copy-feats[5.5.0~1-2b62]:main():copy-feats.cc:143) Copied 0 feature matrices.\r\n",
      "# Accounting: time=0 threads=1\r\n",
      "# Ended (code 1) at Tue Jun 22 13:20:53 UTC 2021, elapsed time 0 seconds\r\n",
      "# ivector-extract-online2 --config=exp/nnet3_cleaned_out/ivectors_test-clean_hires/conf/ivector_extractor.conf ark:data/test-clean_hires/split87/36/spk2utt scp:data/test-clean_hires/split87/36/feats.scp ark:- | copy-feats --compress=true ark:- ark,scp:/kaggle/working/exp/nnet3_cleaned_out/ivectors_test-clean_hires/ivector_online.36.ark,/kaggle/working/exp/nnet3_cleaned_out/ivectors_test-clean_hires/ivector_online.36.scp \r\n",
      "# Started at Tue Jun 22 13:20:53 UTC 2021\r\n",
      "#\r\n",
      "ivector-extract-online2: error while loading shared libraries: libcudart.so.10.0: cannot open shared object file: No such file or directory\r\n",
      "copy-feats --compress=true ark:- ark,scp:/kaggle/working/exp/nnet3_cleaned_out/ivectors_test-clean_hires/ivector_online.36.ark,/kaggle/working/exp/nnet3_cleaned_out/ivectors_test-clean_hires/ivector_online.36.scp \r\n",
      "LOG (copy-feats[5.5.0~1-2b62]:main():copy-feats.cc:143) Copied 0 feature matrices.\r\n",
      "# Accounting: time=0 threads=1\r\n",
      "# Ended (code 1) at Tue Jun 22 13:20:53 UTC 2021, elapsed time 0 seconds\r\n",
      "# ivector-extract-online2 --config=exp/nnet3_cleaned_out/ivectors_test-clean_hires/conf/ivector_extractor.conf ark:data/test-clean_hires/split87/37/spk2utt scp:data/test-clean_hires/split87/37/feats.scp ark:- | copy-feats --compress=true ark:- ark,scp:/kaggle/working/exp/nnet3_cleaned_out/ivectors_test-clean_hires/ivector_online.37.ark,/kaggle/working/exp/nnet3_cleaned_out/ivectors_test-clean_hires/ivector_online.37.scp \r\n",
      "# Started at Tue Jun 22 13:20:53 UTC 2021\r\n",
      "#\r\n",
      "ivector-extract-online2: error while loading shared libraries: libcudart.so.10.0: cannot open shared object file: No such file or directory\r\n",
      "copy-feats --compress=true ark:- ark,scp:/kaggle/working/exp/nnet3_cleaned_out/ivectors_test-clean_hires/ivector_online.37.ark,/kaggle/working/exp/nnet3_cleaned_out/ivectors_test-clean_hires/ivector_online.37.scp \r\n",
      "LOG (copy-feats[5.5.0~1-2b62]:main():copy-feats.cc:143) Copied 0 feature matrices.\r\n",
      "# Accounting: time=0 threads=1\r\n",
      "# Ended (code 1) at Tue Jun 22 13:20:53 UTC 2021, elapsed time 0 seconds\r\n",
      "# ivector-extract-online2 --config=exp/nnet3_cleaned_out/ivectors_test-clean_hires/conf/ivector_extractor.conf ark:data/test-clean_hires/split87/38/spk2utt scp:data/test-clean_hires/split87/38/feats.scp ark:- | copy-feats --compress=true ark:- ark,scp:/kaggle/working/exp/nnet3_cleaned_out/ivectors_test-clean_hires/ivector_online.38.ark,/kaggle/working/exp/nnet3_cleaned_out/ivectors_test-clean_hires/ivector_online.38.scp \r\n",
      "# Started at Tue Jun 22 13:20:53 UTC 2021\r\n",
      "#\r\n",
      "ivector-extract-online2: error while loading shared libraries: libcudart.so.10.0: cannot open shared object file: No such file or directory\r\n",
      "copy-feats --compress=true ark:- ark,scp:/kaggle/working/exp/nnet3_cleaned_out/ivectors_test-clean_hires/ivector_online.38.ark,/kaggle/working/exp/nnet3_cleaned_out/ivectors_test-clean_hires/ivector_online.38.scp \r\n",
      "LOG (copy-feats[5.5.0~1-2b62]:main():copy-feats.cc:143) Copied 0 feature matrices.\r\n",
      "# Accounting: time=0 threads=1\r\n",
      "# Ended (code 1) at Tue Jun 22 13:20:53 UTC 2021, elapsed time 0 seconds\r\n",
      "# ivector-extract-online2 --config=exp/nnet3_cleaned_out/ivectors_test-clean_hires/conf/ivector_extractor.conf ark:data/test-clean_hires/split87/39/spk2utt scp:data/test-clean_hires/split87/39/feats.scp ark:- | copy-feats --compress=true ark:- ark,scp:/kaggle/working/exp/nnet3_cleaned_out/ivectors_test-clean_hires/ivector_online.39.ark,/kaggle/working/exp/nnet3_cleaned_out/ivectors_test-clean_hires/ivector_online.39.scp \r\n",
      "# Started at Tue Jun 22 13:20:53 UTC 2021\r\n",
      "#\r\n",
      "ivector-extract-online2: error while loading shared libraries: libcudart.so.10.0: cannot open shared object file: No such file or directory\r\n",
      "copy-feats --compress=true ark:- ark,scp:/kaggle/working/exp/nnet3_cleaned_out/ivectors_test-clean_hires/ivector_online.39.ark,/kaggle/working/exp/nnet3_cleaned_out/ivectors_test-clean_hires/ivector_online.39.scp \r\n",
      "LOG (copy-feats[5.5.0~1-2b62]:main():copy-feats.cc:143) Copied 0 feature matrices.\r\n",
      "# Accounting: time=0 threads=1\r\n",
      "# Ended (code 1) at Tue Jun 22 13:20:53 UTC 2021, elapsed time 0 seconds\r\n",
      "# ivector-extract-online2 --config=exp/nnet3_cleaned_out/ivectors_test-clean_hires/conf/ivector_extractor.conf ark:data/test-clean_hires/split87/4/spk2utt scp:data/test-clean_hires/split87/4/feats.scp ark:- | copy-feats --compress=true ark:- ark,scp:/kaggle/working/exp/nnet3_cleaned_out/ivectors_test-clean_hires/ivector_online.4.ark,/kaggle/working/exp/nnet3_cleaned_out/ivectors_test-clean_hires/ivector_online.4.scp \r\n",
      "# Started at Tue Jun 22 13:20:52 UTC 2021\r\n",
      "#\r\n",
      "copy-feats --compress=true ark:- ark,scp:/kaggle/working/exp/nnet3_cleaned_out/ivectors_test-clean_hires/ivector_online.4.ark,/kaggle/working/exp/nnet3_cleaned_out/ivectors_test-clean_hires/ivector_online.4.scp \r\n",
      "ivector-extract-online2: error while loading shared libraries: libcudart.so.10.0: cannot open shared object file: No such file or directory\r\n",
      "LOG (copy-feats[5.5.0~1-2b62]:main():copy-feats.cc:143) Copied 0 feature matrices.\r\n",
      "# Accounting: time=0 threads=1\r\n",
      "# Ended (code 1) at Tue Jun 22 13:20:52 UTC 2021, elapsed time 0 seconds\r\n",
      "# ivector-extract-online2 --config=exp/nnet3_cleaned_out/ivectors_test-clean_hires/conf/ivector_extractor.conf ark:data/test-clean_hires/split87/40/spk2utt scp:data/test-clean_hires/split87/40/feats.scp ark:- | copy-feats --compress=true ark:- ark,scp:/kaggle/working/exp/nnet3_cleaned_out/ivectors_test-clean_hires/ivector_online.40.ark,/kaggle/working/exp/nnet3_cleaned_out/ivectors_test-clean_hires/ivector_online.40.scp \r\n",
      "# Started at Tue Jun 22 13:20:53 UTC 2021\r\n",
      "#\r\n",
      "ivector-extract-online2: error while loading shared libraries: libcudart.so.10.0: cannot open shared object file: No such file or directory\r\n",
      "copy-feats --compress=true ark:- ark,scp:/kaggle/working/exp/nnet3_cleaned_out/ivectors_test-clean_hires/ivector_online.40.ark,/kaggle/working/exp/nnet3_cleaned_out/ivectors_test-clean_hires/ivector_online.40.scp \r\n",
      "LOG (copy-feats[5.5.0~1-2b62]:main():copy-feats.cc:143) Copied 0 feature matrices.\r\n",
      "# Accounting: time=0 threads=1\r\n",
      "# Ended (code 1) at Tue Jun 22 13:20:53 UTC 2021, elapsed time 0 seconds\r\n",
      "# ivector-extract-online2 --config=exp/nnet3_cleaned_out/ivectors_test-clean_hires/conf/ivector_extractor.conf ark:data/test-clean_hires/split87/41/spk2utt scp:data/test-clean_hires/split87/41/feats.scp ark:- | copy-feats --compress=true ark:- ark,scp:/kaggle/working/exp/nnet3_cleaned_out/ivectors_test-clean_hires/ivector_online.41.ark,/kaggle/working/exp/nnet3_cleaned_out/ivectors_test-clean_hires/ivector_online.41.scp \r\n",
      "# Started at Tue Jun 22 13:20:53 UTC 2021\r\n",
      "#\r\n",
      "ivector-extract-online2: error while loading shared libraries: libcudart.so.10.0: cannot open shared object file: No such file or directory\r\n",
      "copy-feats --compress=true ark:- ark,scp:/kaggle/working/exp/nnet3_cleaned_out/ivectors_test-clean_hires/ivector_online.41.ark,/kaggle/working/exp/nnet3_cleaned_out/ivectors_test-clean_hires/ivector_online.41.scp \r\n",
      "LOG (copy-feats[5.5.0~1-2b62]:main():copy-feats.cc:143) Copied 0 feature matrices.\r\n",
      "# Accounting: time=0 threads=1\r\n",
      "# Ended (code 1) at Tue Jun 22 13:20:53 UTC 2021, elapsed time 0 seconds\r\n",
      "# ivector-extract-online2 --config=exp/nnet3_cleaned_out/ivectors_test-clean_hires/conf/ivector_extractor.conf ark:data/test-clean_hires/split87/42/spk2utt scp:data/test-clean_hires/split87/42/feats.scp ark:- | copy-feats --compress=true ark:- ark,scp:/kaggle/working/exp/nnet3_cleaned_out/ivectors_test-clean_hires/ivector_online.42.ark,/kaggle/working/exp/nnet3_cleaned_out/ivectors_test-clean_hires/ivector_online.42.scp \r\n",
      "# Started at Tue Jun 22 13:20:53 UTC 2021\r\n",
      "#\r\n",
      "ivector-extract-online2: error while loading shared libraries: libcudart.so.10.0: cannot open shared object file: No such file or directory\r\n",
      "copy-feats --compress=true ark:- ark,scp:/kaggle/working/exp/nnet3_cleaned_out/ivectors_test-clean_hires/ivector_online.42.ark,/kaggle/working/exp/nnet3_cleaned_out/ivectors_test-clean_hires/ivector_online.42.scp \r\n",
      "LOG (copy-feats[5.5.0~1-2b62]:main():copy-feats.cc:143) Copied 0 feature matrices.\r\n",
      "# Accounting: time=0 threads=1\r\n",
      "# Ended (code 1) at Tue Jun 22 13:20:53 UTC 2021, elapsed time 0 seconds\r\n",
      "# ivector-extract-online2 --config=exp/nnet3_cleaned_out/ivectors_test-clean_hires/conf/ivector_extractor.conf ark:data/test-clean_hires/split87/43/spk2utt scp:data/test-clean_hires/split87/43/feats.scp ark:- | copy-feats --compress=true ark:- ark,scp:/kaggle/working/exp/nnet3_cleaned_out/ivectors_test-clean_hires/ivector_online.43.ark,/kaggle/working/exp/nnet3_cleaned_out/ivectors_test-clean_hires/ivector_online.43.scp \r\n",
      "# Started at Tue Jun 22 13:20:53 UTC 2021\r\n",
      "#\r\n",
      "ivector-extract-online2: error while loading shared libraries: libcudart.so.10.0: cannot open shared object file: No such file or directory\r\n",
      "copy-feats --compress=true ark:- ark,scp:/kaggle/working/exp/nnet3_cleaned_out/ivectors_test-clean_hires/ivector_online.43.ark,/kaggle/working/exp/nnet3_cleaned_out/ivectors_test-clean_hires/ivector_online.43.scp \r\n",
      "LOG (copy-feats[5.5.0~1-2b62]:main():copy-feats.cc:143) Copied 0 feature matrices.\r\n",
      "# Accounting: time=0 threads=1\r\n",
      "# Ended (code 1) at Tue Jun 22 13:20:53 UTC 2021, elapsed time 0 seconds\r\n",
      "# ivector-extract-online2 --config=exp/nnet3_cleaned_out/ivectors_test-clean_hires/conf/ivector_extractor.conf ark:data/test-clean_hires/split87/44/spk2utt scp:data/test-clean_hires/split87/44/feats.scp ark:- | copy-feats --compress=true ark:- ark,scp:/kaggle/working/exp/nnet3_cleaned_out/ivectors_test-clean_hires/ivector_online.44.ark,/kaggle/working/exp/nnet3_cleaned_out/ivectors_test-clean_hires/ivector_online.44.scp \r\n",
      "# Started at Tue Jun 22 13:20:53 UTC 2021\r\n",
      "#\r\n",
      "ivector-extract-online2: error while loading shared libraries: libcudart.so.10.0: cannot open shared object file: No such file or directory\r\n",
      "copy-feats --compress=true ark:- ark,scp:/kaggle/working/exp/nnet3_cleaned_out/ivectors_test-clean_hires/ivector_online.44.ark,/kaggle/working/exp/nnet3_cleaned_out/ivectors_test-clean_hires/ivector_online.44.scp \r\n",
      "LOG (copy-feats[5.5.0~1-2b62]:main():copy-feats.cc:143) Copied 0 feature matrices.\r\n",
      "# Accounting: time=0 threads=1\r\n",
      "# Ended (code 1) at Tue Jun 22 13:20:53 UTC 2021, elapsed time 0 seconds\r\n",
      "# ivector-extract-online2 --config=exp/nnet3_cleaned_out/ivectors_test-clean_hires/conf/ivector_extractor.conf ark:data/test-clean_hires/split87/45/spk2utt scp:data/test-clean_hires/split87/45/feats.scp ark:- | copy-feats --compress=true ark:- ark,scp:/kaggle/working/exp/nnet3_cleaned_out/ivectors_test-clean_hires/ivector_online.45.ark,/kaggle/working/exp/nnet3_cleaned_out/ivectors_test-clean_hires/ivector_online.45.scp \r\n",
      "# Started at Tue Jun 22 13:20:53 UTC 2021\r\n",
      "#\r\n",
      "ivector-extract-online2: error while loading shared libraries: libcudart.so.10.0: cannot open shared object file: No such file or directory\r\n",
      "copy-feats --compress=true ark:- ark,scp:/kaggle/working/exp/nnet3_cleaned_out/ivectors_test-clean_hires/ivector_online.45.ark,/kaggle/working/exp/nnet3_cleaned_out/ivectors_test-clean_hires/ivector_online.45.scp \r\n",
      "LOG (copy-feats[5.5.0~1-2b62]:main():copy-feats.cc:143) Copied 0 feature matrices.\r\n",
      "# Accounting: time=0 threads=1\r\n",
      "# Ended (code 1) at Tue Jun 22 13:20:53 UTC 2021, elapsed time 0 seconds\r\n",
      "# ivector-extract-online2 --config=exp/nnet3_cleaned_out/ivectors_test-clean_hires/conf/ivector_extractor.conf ark:data/test-clean_hires/split87/46/spk2utt scp:data/test-clean_hires/split87/46/feats.scp ark:- | copy-feats --compress=true ark:- ark,scp:/kaggle/working/exp/nnet3_cleaned_out/ivectors_test-clean_hires/ivector_online.46.ark,/kaggle/working/exp/nnet3_cleaned_out/ivectors_test-clean_hires/ivector_online.46.scp \r\n",
      "# Started at Tue Jun 22 13:20:53 UTC 2021\r\n",
      "#\r\n",
      "ivector-extract-online2: error while loading shared libraries: libcudart.so.10.0: cannot open shared object file: No such file or directory\r\n",
      "copy-feats --compress=true ark:- ark,scp:/kaggle/working/exp/nnet3_cleaned_out/ivectors_test-clean_hires/ivector_online.46.ark,/kaggle/working/exp/nnet3_cleaned_out/ivectors_test-clean_hires/ivector_online.46.scp \r\n",
      "LOG (copy-feats[5.5.0~1-2b62]:main():copy-feats.cc:143) Copied 0 feature matrices.\r\n",
      "# Accounting: time=0 threads=1\r\n",
      "# Ended (code 1) at Tue Jun 22 13:20:53 UTC 2021, elapsed time 0 seconds\r\n",
      "# ivector-extract-online2 --config=exp/nnet3_cleaned_out/ivectors_test-clean_hires/conf/ivector_extractor.conf ark:data/test-clean_hires/split87/47/spk2utt scp:data/test-clean_hires/split87/47/feats.scp ark:- | copy-feats --compress=true ark:- ark,scp:/kaggle/working/exp/nnet3_cleaned_out/ivectors_test-clean_hires/ivector_online.47.ark,/kaggle/working/exp/nnet3_cleaned_out/ivectors_test-clean_hires/ivector_online.47.scp \r\n",
      "# Started at Tue Jun 22 13:20:53 UTC 2021\r\n",
      "#\r\n",
      "ivector-extract-online2: error while loading shared libraries: libcudart.so.10.0: cannot open shared object file: No such file or directory\r\n",
      "copy-feats --compress=true ark:- ark,scp:/kaggle/working/exp/nnet3_cleaned_out/ivectors_test-clean_hires/ivector_online.47.ark,/kaggle/working/exp/nnet3_cleaned_out/ivectors_test-clean_hires/ivector_online.47.scp \r\n",
      "LOG (copy-feats[5.5.0~1-2b62]:main():copy-feats.cc:143) Copied 0 feature matrices.\r\n",
      "# Accounting: time=0 threads=1\r\n",
      "# Ended (code 1) at Tue Jun 22 13:20:53 UTC 2021, elapsed time 0 seconds\r\n",
      "# ivector-extract-online2 --config=exp/nnet3_cleaned_out/ivectors_test-clean_hires/conf/ivector_extractor.conf ark:data/test-clean_hires/split87/48/spk2utt scp:data/test-clean_hires/split87/48/feats.scp ark:- | copy-feats --compress=true ark:- ark,scp:/kaggle/working/exp/nnet3_cleaned_out/ivectors_test-clean_hires/ivector_online.48.ark,/kaggle/working/exp/nnet3_cleaned_out/ivectors_test-clean_hires/ivector_online.48.scp \r\n",
      "# Started at Tue Jun 22 13:20:53 UTC 2021\r\n",
      "#\r\n",
      "ivector-extract-online2: error while loading shared libraries: libcudart.so.10.0: cannot open shared object file: No such file or directory\r\n",
      "copy-feats --compress=true ark:- ark,scp:/kaggle/working/exp/nnet3_cleaned_out/ivectors_test-clean_hires/ivector_online.48.ark,/kaggle/working/exp/nnet3_cleaned_out/ivectors_test-clean_hires/ivector_online.48.scp \r\n",
      "LOG (copy-feats[5.5.0~1-2b62]:main():copy-feats.cc:143) Copied 0 feature matrices.\r\n",
      "# Accounting: time=0 threads=1\r\n",
      "# Ended (code 1) at Tue Jun 22 13:20:53 UTC 2021, elapsed time 0 seconds\r\n",
      "# ivector-extract-online2 --config=exp/nnet3_cleaned_out/ivectors_test-clean_hires/conf/ivector_extractor.conf ark:data/test-clean_hires/split87/49/spk2utt scp:data/test-clean_hires/split87/49/feats.scp ark:- | copy-feats --compress=true ark:- ark,scp:/kaggle/working/exp/nnet3_cleaned_out/ivectors_test-clean_hires/ivector_online.49.ark,/kaggle/working/exp/nnet3_cleaned_out/ivectors_test-clean_hires/ivector_online.49.scp \r\n",
      "# Started at Tue Jun 22 13:20:53 UTC 2021\r\n",
      "#\r\n",
      "ivector-extract-online2: error while loading shared libraries: libcudart.so.10.0: cannot open shared object file: No such file or directory\r\n",
      "copy-feats --compress=true ark:- ark,scp:/kaggle/working/exp/nnet3_cleaned_out/ivectors_test-clean_hires/ivector_online.49.ark,/kaggle/working/exp/nnet3_cleaned_out/ivectors_test-clean_hires/ivector_online.49.scp \r\n",
      "LOG (copy-feats[5.5.0~1-2b62]:main():copy-feats.cc:143) Copied 0 feature matrices.\r\n",
      "# Accounting: time=0 threads=1\r\n",
      "# Ended (code 1) at Tue Jun 22 13:20:53 UTC 2021, elapsed time 0 seconds\r\n",
      "# ivector-extract-online2 --config=exp/nnet3_cleaned_out/ivectors_test-clean_hires/conf/ivector_extractor.conf ark:data/test-clean_hires/split87/5/spk2utt scp:data/test-clean_hires/split87/5/feats.scp ark:- | copy-feats --compress=true ark:- ark,scp:/kaggle/working/exp/nnet3_cleaned_out/ivectors_test-clean_hires/ivector_online.5.ark,/kaggle/working/exp/nnet3_cleaned_out/ivectors_test-clean_hires/ivector_online.5.scp \r\n",
      "# Started at Tue Jun 22 13:20:52 UTC 2021\r\n",
      "#\r\n",
      "ivector-extract-online2: error while loading shared libraries: libcudart.so.10.0: cannot open shared object file: No such file or directory\r\n",
      "copy-feats --compress=true ark:- ark,scp:/kaggle/working/exp/nnet3_cleaned_out/ivectors_test-clean_hires/ivector_online.5.ark,/kaggle/working/exp/nnet3_cleaned_out/ivectors_test-clean_hires/ivector_online.5.scp \r\n",
      "LOG (copy-feats[5.5.0~1-2b62]:main():copy-feats.cc:143) Copied 0 feature matrices.\r\n",
      "# Accounting: time=0 threads=1\r\n",
      "# Ended (code 1) at Tue Jun 22 13:20:52 UTC 2021, elapsed time 0 seconds\r\n",
      "# ivector-extract-online2 --config=exp/nnet3_cleaned_out/ivectors_test-clean_hires/conf/ivector_extractor.conf ark:data/test-clean_hires/split87/50/spk2utt scp:data/test-clean_hires/split87/50/feats.scp ark:- | copy-feats --compress=true ark:- ark,scp:/kaggle/working/exp/nnet3_cleaned_out/ivectors_test-clean_hires/ivector_online.50.ark,/kaggle/working/exp/nnet3_cleaned_out/ivectors_test-clean_hires/ivector_online.50.scp \r\n",
      "# Started at Tue Jun 22 13:20:53 UTC 2021\r\n",
      "#\r\n",
      "ivector-extract-online2: error while loading shared libraries: libcudart.so.10.0: cannot open shared object file: No such file or directory\r\n",
      "copy-feats --compress=true ark:- ark,scp:/kaggle/working/exp/nnet3_cleaned_out/ivectors_test-clean_hires/ivector_online.50.ark,/kaggle/working/exp/nnet3_cleaned_out/ivectors_test-clean_hires/ivector_online.50.scp \r\n",
      "LOG (copy-feats[5.5.0~1-2b62]:main():copy-feats.cc:143) Copied 0 feature matrices.\r\n",
      "# Accounting: time=0 threads=1\r\n",
      "# Ended (code 1) at Tue Jun 22 13:20:53 UTC 2021, elapsed time 0 seconds\r\n",
      "# ivector-extract-online2 --config=exp/nnet3_cleaned_out/ivectors_test-clean_hires/conf/ivector_extractor.conf ark:data/test-clean_hires/split87/51/spk2utt scp:data/test-clean_hires/split87/51/feats.scp ark:- | copy-feats --compress=true ark:- ark,scp:/kaggle/working/exp/nnet3_cleaned_out/ivectors_test-clean_hires/ivector_online.51.ark,/kaggle/working/exp/nnet3_cleaned_out/ivectors_test-clean_hires/ivector_online.51.scp \r\n",
      "# Started at Tue Jun 22 13:20:53 UTC 2021\r\n",
      "#\r\n",
      "ivector-extract-online2: error while loading shared libraries: libcudart.so.10.0: cannot open shared object file: No such file or directory\r\n",
      "copy-feats --compress=true ark:- ark,scp:/kaggle/working/exp/nnet3_cleaned_out/ivectors_test-clean_hires/ivector_online.51.ark,/kaggle/working/exp/nnet3_cleaned_out/ivectors_test-clean_hires/ivector_online.51.scp \r\n",
      "LOG (copy-feats[5.5.0~1-2b62]:main():copy-feats.cc:143) Copied 0 feature matrices.\r\n",
      "# Accounting: time=0 threads=1\r\n",
      "# Ended (code 1) at Tue Jun 22 13:20:53 UTC 2021, elapsed time 0 seconds\r\n",
      "# ivector-extract-online2 --config=exp/nnet3_cleaned_out/ivectors_test-clean_hires/conf/ivector_extractor.conf ark:data/test-clean_hires/split87/52/spk2utt scp:data/test-clean_hires/split87/52/feats.scp ark:- | copy-feats --compress=true ark:- ark,scp:/kaggle/working/exp/nnet3_cleaned_out/ivectors_test-clean_hires/ivector_online.52.ark,/kaggle/working/exp/nnet3_cleaned_out/ivectors_test-clean_hires/ivector_online.52.scp \r\n",
      "# Started at Tue Jun 22 13:20:53 UTC 2021\r\n",
      "#\r\n",
      "ivector-extract-online2: error while loading shared libraries: libcudart.so.10.0: cannot open shared object file: No such file or directory\r\n",
      "copy-feats --compress=true ark:- ark,scp:/kaggle/working/exp/nnet3_cleaned_out/ivectors_test-clean_hires/ivector_online.52.ark,/kaggle/working/exp/nnet3_cleaned_out/ivectors_test-clean_hires/ivector_online.52.scp \r\n",
      "LOG (copy-feats[5.5.0~1-2b62]:main():copy-feats.cc:143) Copied 0 feature matrices.\r\n",
      "# Accounting: time=0 threads=1\r\n",
      "# Ended (code 1) at Tue Jun 22 13:20:53 UTC 2021, elapsed time 0 seconds\r\n",
      "# ivector-extract-online2 --config=exp/nnet3_cleaned_out/ivectors_test-clean_hires/conf/ivector_extractor.conf ark:data/test-clean_hires/split87/53/spk2utt scp:data/test-clean_hires/split87/53/feats.scp ark:- | copy-feats --compress=true ark:- ark,scp:/kaggle/working/exp/nnet3_cleaned_out/ivectors_test-clean_hires/ivector_online.53.ark,/kaggle/working/exp/nnet3_cleaned_out/ivectors_test-clean_hires/ivector_online.53.scp \r\n",
      "# Started at Tue Jun 22 13:20:53 UTC 2021\r\n",
      "#\r\n",
      "ivector-extract-online2: error while loading shared libraries: libcudart.so.10.0: cannot open shared object file: No such file or directory\r\n",
      "copy-feats --compress=true ark:- ark,scp:/kaggle/working/exp/nnet3_cleaned_out/ivectors_test-clean_hires/ivector_online.53.ark,/kaggle/working/exp/nnet3_cleaned_out/ivectors_test-clean_hires/ivector_online.53.scp \r\n",
      "LOG (copy-feats[5.5.0~1-2b62]:main():copy-feats.cc:143) Copied 0 feature matrices.\r\n",
      "# Accounting: time=0 threads=1\r\n",
      "# Ended (code 1) at Tue Jun 22 13:20:53 UTC 2021, elapsed time 0 seconds\r\n",
      "# ivector-extract-online2 --config=exp/nnet3_cleaned_out/ivectors_test-clean_hires/conf/ivector_extractor.conf ark:data/test-clean_hires/split87/54/spk2utt scp:data/test-clean_hires/split87/54/feats.scp ark:- | copy-feats --compress=true ark:- ark,scp:/kaggle/working/exp/nnet3_cleaned_out/ivectors_test-clean_hires/ivector_online.54.ark,/kaggle/working/exp/nnet3_cleaned_out/ivectors_test-clean_hires/ivector_online.54.scp \r\n",
      "# Started at Tue Jun 22 13:20:53 UTC 2021\r\n",
      "#\r\n",
      "ivector-extract-online2: error while loading shared libraries: libcudart.so.10.0: cannot open shared object file: No such file or directory\r\n",
      "copy-feats --compress=true ark:- ark,scp:/kaggle/working/exp/nnet3_cleaned_out/ivectors_test-clean_hires/ivector_online.54.ark,/kaggle/working/exp/nnet3_cleaned_out/ivectors_test-clean_hires/ivector_online.54.scp \r\n",
      "LOG (copy-feats[5.5.0~1-2b62]:main():copy-feats.cc:143) Copied 0 feature matrices.\r\n",
      "# Accounting: time=0 threads=1\r\n",
      "# Ended (code 1) at Tue Jun 22 13:20:53 UTC 2021, elapsed time 0 seconds\r\n",
      "# ivector-extract-online2 --config=exp/nnet3_cleaned_out/ivectors_test-clean_hires/conf/ivector_extractor.conf ark:data/test-clean_hires/split87/55/spk2utt scp:data/test-clean_hires/split87/55/feats.scp ark:- | copy-feats --compress=true ark:- ark,scp:/kaggle/working/exp/nnet3_cleaned_out/ivectors_test-clean_hires/ivector_online.55.ark,/kaggle/working/exp/nnet3_cleaned_out/ivectors_test-clean_hires/ivector_online.55.scp \r\n",
      "# Started at Tue Jun 22 13:20:53 UTC 2021\r\n",
      "#\r\n",
      "ivector-extract-online2: error while loading shared libraries: libcudart.so.10.0: cannot open shared object file: No such file or directory\r\n",
      "copy-feats --compress=true ark:- ark,scp:/kaggle/working/exp/nnet3_cleaned_out/ivectors_test-clean_hires/ivector_online.55.ark,/kaggle/working/exp/nnet3_cleaned_out/ivectors_test-clean_hires/ivector_online.55.scp \r\n",
      "LOG (copy-feats[5.5.0~1-2b62]:main():copy-feats.cc:143) Copied 0 feature matrices.\r\n",
      "# Accounting: time=0 threads=1\r\n",
      "# Ended (code 1) at Tue Jun 22 13:20:53 UTC 2021, elapsed time 0 seconds\r\n",
      "# ivector-extract-online2 --config=exp/nnet3_cleaned_out/ivectors_test-clean_hires/conf/ivector_extractor.conf ark:data/test-clean_hires/split87/56/spk2utt scp:data/test-clean_hires/split87/56/feats.scp ark:- | copy-feats --compress=true ark:- ark,scp:/kaggle/working/exp/nnet3_cleaned_out/ivectors_test-clean_hires/ivector_online.56.ark,/kaggle/working/exp/nnet3_cleaned_out/ivectors_test-clean_hires/ivector_online.56.scp \r\n",
      "# Started at Tue Jun 22 13:20:53 UTC 2021\r\n",
      "#\r\n",
      "ivector-extract-online2: error while loading shared libraries: libcudart.so.10.0: cannot open shared object file: No such file or directory\r\n",
      "copy-feats --compress=true ark:- ark,scp:/kaggle/working/exp/nnet3_cleaned_out/ivectors_test-clean_hires/ivector_online.56.ark,/kaggle/working/exp/nnet3_cleaned_out/ivectors_test-clean_hires/ivector_online.56.scp \r\n",
      "LOG (copy-feats[5.5.0~1-2b62]:main():copy-feats.cc:143) Copied 0 feature matrices.\r\n",
      "# Accounting: time=0 threads=1\r\n",
      "# Ended (code 1) at Tue Jun 22 13:20:53 UTC 2021, elapsed time 0 seconds\r\n",
      "# ivector-extract-online2 --config=exp/nnet3_cleaned_out/ivectors_test-clean_hires/conf/ivector_extractor.conf ark:data/test-clean_hires/split87/57/spk2utt scp:data/test-clean_hires/split87/57/feats.scp ark:- | copy-feats --compress=true ark:- ark,scp:/kaggle/working/exp/nnet3_cleaned_out/ivectors_test-clean_hires/ivector_online.57.ark,/kaggle/working/exp/nnet3_cleaned_out/ivectors_test-clean_hires/ivector_online.57.scp \r\n",
      "# Started at Tue Jun 22 13:20:53 UTC 2021\r\n",
      "#\r\n",
      "ivector-extract-online2: error while loading shared libraries: libcudart.so.10.0: cannot open shared object file: No such file or directory\r\n",
      "copy-feats --compress=true ark:- ark,scp:/kaggle/working/exp/nnet3_cleaned_out/ivectors_test-clean_hires/ivector_online.57.ark,/kaggle/working/exp/nnet3_cleaned_out/ivectors_test-clean_hires/ivector_online.57.scp \r\n",
      "LOG (copy-feats[5.5.0~1-2b62]:main():copy-feats.cc:143) Copied 0 feature matrices.\r\n",
      "# Accounting: time=0 threads=1\r\n",
      "# Ended (code 1) at Tue Jun 22 13:20:53 UTC 2021, elapsed time 0 seconds\r\n",
      "# ivector-extract-online2 --config=exp/nnet3_cleaned_out/ivectors_test-clean_hires/conf/ivector_extractor.conf ark:data/test-clean_hires/split87/58/spk2utt scp:data/test-clean_hires/split87/58/feats.scp ark:- | copy-feats --compress=true ark:- ark,scp:/kaggle/working/exp/nnet3_cleaned_out/ivectors_test-clean_hires/ivector_online.58.ark,/kaggle/working/exp/nnet3_cleaned_out/ivectors_test-clean_hires/ivector_online.58.scp \r\n",
      "# Started at Tue Jun 22 13:20:53 UTC 2021\r\n",
      "#\r\n",
      "ivector-extract-online2: error while loading shared libraries: libcudart.so.10.0: cannot open shared object file: No such file or directory\r\n",
      "copy-feats --compress=true ark:- ark,scp:/kaggle/working/exp/nnet3_cleaned_out/ivectors_test-clean_hires/ivector_online.58.ark,/kaggle/working/exp/nnet3_cleaned_out/ivectors_test-clean_hires/ivector_online.58.scp \r\n",
      "LOG (copy-feats[5.5.0~1-2b62]:main():copy-feats.cc:143) Copied 0 feature matrices.\r\n",
      "# Accounting: time=0 threads=1\r\n",
      "# Ended (code 1) at Tue Jun 22 13:20:53 UTC 2021, elapsed time 0 seconds\r\n",
      "# ivector-extract-online2 --config=exp/nnet3_cleaned_out/ivectors_test-clean_hires/conf/ivector_extractor.conf ark:data/test-clean_hires/split87/59/spk2utt scp:data/test-clean_hires/split87/59/feats.scp ark:- | copy-feats --compress=true ark:- ark,scp:/kaggle/working/exp/nnet3_cleaned_out/ivectors_test-clean_hires/ivector_online.59.ark,/kaggle/working/exp/nnet3_cleaned_out/ivectors_test-clean_hires/ivector_online.59.scp \r\n",
      "# Started at Tue Jun 22 13:20:53 UTC 2021\r\n",
      "#\r\n",
      "ivector-extract-online2: error while loading shared libraries: libcudart.so.10.0: cannot open shared object file: No such file or directory\r\n",
      "copy-feats --compress=true ark:- ark,scp:/kaggle/working/exp/nnet3_cleaned_out/ivectors_test-clean_hires/ivector_online.59.ark,/kaggle/working/exp/nnet3_cleaned_out/ivectors_test-clean_hires/ivector_online.59.scp \r\n",
      "LOG (copy-feats[5.5.0~1-2b62]:main():copy-feats.cc:143) Copied 0 feature matrices.\r\n",
      "# Accounting: time=0 threads=1\r\n",
      "# Ended (code 1) at Tue Jun 22 13:20:53 UTC 2021, elapsed time 0 seconds\r\n",
      "# ivector-extract-online2 --config=exp/nnet3_cleaned_out/ivectors_test-clean_hires/conf/ivector_extractor.conf ark:data/test-clean_hires/split87/6/spk2utt scp:data/test-clean_hires/split87/6/feats.scp ark:- | copy-feats --compress=true ark:- ark,scp:/kaggle/working/exp/nnet3_cleaned_out/ivectors_test-clean_hires/ivector_online.6.ark,/kaggle/working/exp/nnet3_cleaned_out/ivectors_test-clean_hires/ivector_online.6.scp \r\n",
      "# Started at Tue Jun 22 13:20:52 UTC 2021\r\n",
      "#\r\n",
      "ivector-extract-online2: error while loading shared libraries: libcudart.so.10.0: cannot open shared object file: No such file or directory\r\n",
      "copy-feats --compress=true ark:- ark,scp:/kaggle/working/exp/nnet3_cleaned_out/ivectors_test-clean_hires/ivector_online.6.ark,/kaggle/working/exp/nnet3_cleaned_out/ivectors_test-clean_hires/ivector_online.6.scp \r\n",
      "LOG (copy-feats[5.5.0~1-2b62]:main():copy-feats.cc:143) Copied 0 feature matrices.\r\n",
      "# Accounting: time=0 threads=1\r\n",
      "# Ended (code 1) at Tue Jun 22 13:20:52 UTC 2021, elapsed time 0 seconds\r\n",
      "# ivector-extract-online2 --config=exp/nnet3_cleaned_out/ivectors_test-clean_hires/conf/ivector_extractor.conf ark:data/test-clean_hires/split87/60/spk2utt scp:data/test-clean_hires/split87/60/feats.scp ark:- | copy-feats --compress=true ark:- ark,scp:/kaggle/working/exp/nnet3_cleaned_out/ivectors_test-clean_hires/ivector_online.60.ark,/kaggle/working/exp/nnet3_cleaned_out/ivectors_test-clean_hires/ivector_online.60.scp \r\n",
      "# Started at Tue Jun 22 13:20:53 UTC 2021\r\n",
      "#\r\n",
      "ivector-extract-online2: error while loading shared libraries: libcudart.so.10.0: cannot open shared object file: No such file or directory\r\n",
      "copy-feats --compress=true ark:- ark,scp:/kaggle/working/exp/nnet3_cleaned_out/ivectors_test-clean_hires/ivector_online.60.ark,/kaggle/working/exp/nnet3_cleaned_out/ivectors_test-clean_hires/ivector_online.60.scp \r\n",
      "LOG (copy-feats[5.5.0~1-2b62]:main():copy-feats.cc:143) Copied 0 feature matrices.\r\n",
      "# Accounting: time=0 threads=1\r\n",
      "# Ended (code 1) at Tue Jun 22 13:20:53 UTC 2021, elapsed time 0 seconds\r\n",
      "# ivector-extract-online2 --config=exp/nnet3_cleaned_out/ivectors_test-clean_hires/conf/ivector_extractor.conf ark:data/test-clean_hires/split87/61/spk2utt scp:data/test-clean_hires/split87/61/feats.scp ark:- | copy-feats --compress=true ark:- ark,scp:/kaggle/working/exp/nnet3_cleaned_out/ivectors_test-clean_hires/ivector_online.61.ark,/kaggle/working/exp/nnet3_cleaned_out/ivectors_test-clean_hires/ivector_online.61.scp \r\n",
      "# Started at Tue Jun 22 13:20:53 UTC 2021\r\n",
      "#\r\n",
      "ivector-extract-online2: error while loading shared libraries: libcudart.so.10.0: cannot open shared object file: No such file or directory\r\n",
      "copy-feats --compress=true ark:- ark,scp:/kaggle/working/exp/nnet3_cleaned_out/ivectors_test-clean_hires/ivector_online.61.ark,/kaggle/working/exp/nnet3_cleaned_out/ivectors_test-clean_hires/ivector_online.61.scp \r\n",
      "LOG (copy-feats[5.5.0~1-2b62]:main():copy-feats.cc:143) Copied 0 feature matrices.\r\n",
      "# Accounting: time=0 threads=1\r\n",
      "# Ended (code 1) at Tue Jun 22 13:20:53 UTC 2021, elapsed time 0 seconds\r\n",
      "# ivector-extract-online2 --config=exp/nnet3_cleaned_out/ivectors_test-clean_hires/conf/ivector_extractor.conf ark:data/test-clean_hires/split87/62/spk2utt scp:data/test-clean_hires/split87/62/feats.scp ark:- | copy-feats --compress=true ark:- ark,scp:/kaggle/working/exp/nnet3_cleaned_out/ivectors_test-clean_hires/ivector_online.62.ark,/kaggle/working/exp/nnet3_cleaned_out/ivectors_test-clean_hires/ivector_online.62.scp \r\n",
      "# Started at Tue Jun 22 13:20:53 UTC 2021\r\n",
      "#\r\n",
      "ivector-extract-online2: error while loading shared libraries: libcudart.so.10.0: cannot open shared object file: No such file or directory\r\n",
      "copy-feats --compress=true ark:- ark,scp:/kaggle/working/exp/nnet3_cleaned_out/ivectors_test-clean_hires/ivector_online.62.ark,/kaggle/working/exp/nnet3_cleaned_out/ivectors_test-clean_hires/ivector_online.62.scp \r\n",
      "LOG (copy-feats[5.5.0~1-2b62]:main():copy-feats.cc:143) Copied 0 feature matrices.\r\n",
      "# Accounting: time=0 threads=1\r\n",
      "# Ended (code 1) at Tue Jun 22 13:20:53 UTC 2021, elapsed time 0 seconds\r\n",
      "# ivector-extract-online2 --config=exp/nnet3_cleaned_out/ivectors_test-clean_hires/conf/ivector_extractor.conf ark:data/test-clean_hires/split87/63/spk2utt scp:data/test-clean_hires/split87/63/feats.scp ark:- | copy-feats --compress=true ark:- ark,scp:/kaggle/working/exp/nnet3_cleaned_out/ivectors_test-clean_hires/ivector_online.63.ark,/kaggle/working/exp/nnet3_cleaned_out/ivectors_test-clean_hires/ivector_online.63.scp \r\n",
      "# Started at Tue Jun 22 13:20:53 UTC 2021\r\n",
      "#\r\n",
      "ivector-extract-online2: error while loading shared libraries: libcudart.so.10.0: cannot open shared object file: No such file or directory\r\n",
      "copy-feats --compress=true ark:- ark,scp:/kaggle/working/exp/nnet3_cleaned_out/ivectors_test-clean_hires/ivector_online.63.ark,/kaggle/working/exp/nnet3_cleaned_out/ivectors_test-clean_hires/ivector_online.63.scp \r\n",
      "LOG (copy-feats[5.5.0~1-2b62]:main():copy-feats.cc:143) Copied 0 feature matrices.\r\n",
      "# Accounting: time=0 threads=1\r\n",
      "# Ended (code 1) at Tue Jun 22 13:20:53 UTC 2021, elapsed time 0 seconds\r\n",
      "# ivector-extract-online2 --config=exp/nnet3_cleaned_out/ivectors_test-clean_hires/conf/ivector_extractor.conf ark:data/test-clean_hires/split87/64/spk2utt scp:data/test-clean_hires/split87/64/feats.scp ark:- | copy-feats --compress=true ark:- ark,scp:/kaggle/working/exp/nnet3_cleaned_out/ivectors_test-clean_hires/ivector_online.64.ark,/kaggle/working/exp/nnet3_cleaned_out/ivectors_test-clean_hires/ivector_online.64.scp \r\n",
      "# Started at Tue Jun 22 13:20:53 UTC 2021\r\n",
      "#\r\n",
      "ivector-extract-online2: error while loading shared libraries: libcudart.so.10.0: cannot open shared object file: No such file or directory\r\n",
      "copy-feats --compress=true ark:- ark,scp:/kaggle/working/exp/nnet3_cleaned_out/ivectors_test-clean_hires/ivector_online.64.ark,/kaggle/working/exp/nnet3_cleaned_out/ivectors_test-clean_hires/ivector_online.64.scp \r\n",
      "LOG (copy-feats[5.5.0~1-2b62]:main():copy-feats.cc:143) Copied 0 feature matrices.\r\n",
      "# Accounting: time=0 threads=1\r\n",
      "# Ended (code 1) at Tue Jun 22 13:20:53 UTC 2021, elapsed time 0 seconds\r\n",
      "# ivector-extract-online2 --config=exp/nnet3_cleaned_out/ivectors_test-clean_hires/conf/ivector_extractor.conf ark:data/test-clean_hires/split87/65/spk2utt scp:data/test-clean_hires/split87/65/feats.scp ark:- | copy-feats --compress=true ark:- ark,scp:/kaggle/working/exp/nnet3_cleaned_out/ivectors_test-clean_hires/ivector_online.65.ark,/kaggle/working/exp/nnet3_cleaned_out/ivectors_test-clean_hires/ivector_online.65.scp \r\n",
      "# Started at Tue Jun 22 13:20:53 UTC 2021\r\n",
      "#\r\n",
      "ivector-extract-online2: error while loading shared libraries: libcudart.so.10.0: cannot open shared object file: No such file or directory\r\n",
      "copy-feats --compress=true ark:- ark,scp:/kaggle/working/exp/nnet3_cleaned_out/ivectors_test-clean_hires/ivector_online.65.ark,/kaggle/working/exp/nnet3_cleaned_out/ivectors_test-clean_hires/ivector_online.65.scp \r\n",
      "LOG (copy-feats[5.5.0~1-2b62]:main():copy-feats.cc:143) Copied 0 feature matrices.\r\n",
      "# Accounting: time=0 threads=1\r\n",
      "# Ended (code 1) at Tue Jun 22 13:20:53 UTC 2021, elapsed time 0 seconds\r\n",
      "# ivector-extract-online2 --config=exp/nnet3_cleaned_out/ivectors_test-clean_hires/conf/ivector_extractor.conf ark:data/test-clean_hires/split87/66/spk2utt scp:data/test-clean_hires/split87/66/feats.scp ark:- | copy-feats --compress=true ark:- ark,scp:/kaggle/working/exp/nnet3_cleaned_out/ivectors_test-clean_hires/ivector_online.66.ark,/kaggle/working/exp/nnet3_cleaned_out/ivectors_test-clean_hires/ivector_online.66.scp \r\n",
      "# Started at Tue Jun 22 13:20:53 UTC 2021\r\n",
      "#\r\n",
      "ivector-extract-online2: error while loading shared libraries: libcudart.so.10.0: cannot open shared object file: No such file or directory\r\n",
      "copy-feats --compress=true ark:- ark,scp:/kaggle/working/exp/nnet3_cleaned_out/ivectors_test-clean_hires/ivector_online.66.ark,/kaggle/working/exp/nnet3_cleaned_out/ivectors_test-clean_hires/ivector_online.66.scp \r\n",
      "LOG (copy-feats[5.5.0~1-2b62]:main():copy-feats.cc:143) Copied 0 feature matrices.\r\n",
      "# Accounting: time=0 threads=1\r\n",
      "# Ended (code 1) at Tue Jun 22 13:20:53 UTC 2021, elapsed time 0 seconds\r\n",
      "# ivector-extract-online2 --config=exp/nnet3_cleaned_out/ivectors_test-clean_hires/conf/ivector_extractor.conf ark:data/test-clean_hires/split87/67/spk2utt scp:data/test-clean_hires/split87/67/feats.scp ark:- | copy-feats --compress=true ark:- ark,scp:/kaggle/working/exp/nnet3_cleaned_out/ivectors_test-clean_hires/ivector_online.67.ark,/kaggle/working/exp/nnet3_cleaned_out/ivectors_test-clean_hires/ivector_online.67.scp \r\n",
      "# Started at Tue Jun 22 13:20:53 UTC 2021\r\n",
      "#\r\n",
      "ivector-extract-online2: error while loading shared libraries: libcudart.so.10.0: cannot open shared object file: No such file or directory\r\n",
      "copy-feats --compress=true ark:- ark,scp:/kaggle/working/exp/nnet3_cleaned_out/ivectors_test-clean_hires/ivector_online.67.ark,/kaggle/working/exp/nnet3_cleaned_out/ivectors_test-clean_hires/ivector_online.67.scp \r\n",
      "LOG (copy-feats[5.5.0~1-2b62]:main():copy-feats.cc:143) Copied 0 feature matrices.\r\n",
      "# Accounting: time=0 threads=1\r\n",
      "# Ended (code 1) at Tue Jun 22 13:20:53 UTC 2021, elapsed time 0 seconds\r\n",
      "# ivector-extract-online2 --config=exp/nnet3_cleaned_out/ivectors_test-clean_hires/conf/ivector_extractor.conf ark:data/test-clean_hires/split87/68/spk2utt scp:data/test-clean_hires/split87/68/feats.scp ark:- | copy-feats --compress=true ark:- ark,scp:/kaggle/working/exp/nnet3_cleaned_out/ivectors_test-clean_hires/ivector_online.68.ark,/kaggle/working/exp/nnet3_cleaned_out/ivectors_test-clean_hires/ivector_online.68.scp \r\n",
      "# Started at Tue Jun 22 13:20:53 UTC 2021\r\n",
      "#\r\n",
      "ivector-extract-online2: error while loading shared libraries: libcudart.so.10.0: cannot open shared object file: No such file or directory\r\n",
      "copy-feats --compress=true ark:- ark,scp:/kaggle/working/exp/nnet3_cleaned_out/ivectors_test-clean_hires/ivector_online.68.ark,/kaggle/working/exp/nnet3_cleaned_out/ivectors_test-clean_hires/ivector_online.68.scp \r\n",
      "LOG (copy-feats[5.5.0~1-2b62]:main():copy-feats.cc:143) Copied 0 feature matrices.\r\n",
      "# Accounting: time=0 threads=1\r\n",
      "# Ended (code 1) at Tue Jun 22 13:20:53 UTC 2021, elapsed time 0 seconds\r\n",
      "# ivector-extract-online2 --config=exp/nnet3_cleaned_out/ivectors_test-clean_hires/conf/ivector_extractor.conf ark:data/test-clean_hires/split87/69/spk2utt scp:data/test-clean_hires/split87/69/feats.scp ark:- | copy-feats --compress=true ark:- ark,scp:/kaggle/working/exp/nnet3_cleaned_out/ivectors_test-clean_hires/ivector_online.69.ark,/kaggle/working/exp/nnet3_cleaned_out/ivectors_test-clean_hires/ivector_online.69.scp \r\n",
      "# Started at Tue Jun 22 13:20:53 UTC 2021\r\n",
      "#\r\n",
      "ivector-extract-online2: error while loading shared libraries: libcudart.so.10.0: cannot open shared object file: No such file or directory\r\n",
      "copy-feats --compress=true ark:- ark,scp:/kaggle/working/exp/nnet3_cleaned_out/ivectors_test-clean_hires/ivector_online.69.ark,/kaggle/working/exp/nnet3_cleaned_out/ivectors_test-clean_hires/ivector_online.69.scp \r\n",
      "LOG (copy-feats[5.5.0~1-2b62]:main():copy-feats.cc:143) Copied 0 feature matrices.\r\n",
      "# Accounting: time=0 threads=1\r\n",
      "# Ended (code 1) at Tue Jun 22 13:20:53 UTC 2021, elapsed time 0 seconds\r\n",
      "# ivector-extract-online2 --config=exp/nnet3_cleaned_out/ivectors_test-clean_hires/conf/ivector_extractor.conf ark:data/test-clean_hires/split87/7/spk2utt scp:data/test-clean_hires/split87/7/feats.scp ark:- | copy-feats --compress=true ark:- ark,scp:/kaggle/working/exp/nnet3_cleaned_out/ivectors_test-clean_hires/ivector_online.7.ark,/kaggle/working/exp/nnet3_cleaned_out/ivectors_test-clean_hires/ivector_online.7.scp \r\n",
      "# Started at Tue Jun 22 13:20:52 UTC 2021\r\n",
      "#\r\n",
      "ivector-extract-online2: error while loading shared libraries: libcudart.so.10.0: cannot open shared object file: No such file or directory\r\n",
      "copy-feats --compress=true ark:- ark,scp:/kaggle/working/exp/nnet3_cleaned_out/ivectors_test-clean_hires/ivector_online.7.ark,/kaggle/working/exp/nnet3_cleaned_out/ivectors_test-clean_hires/ivector_online.7.scp \r\n",
      "LOG (copy-feats[5.5.0~1-2b62]:main():copy-feats.cc:143) Copied 0 feature matrices.\r\n",
      "# Accounting: time=0 threads=1\r\n",
      "# Ended (code 1) at Tue Jun 22 13:20:52 UTC 2021, elapsed time 0 seconds\r\n",
      "# ivector-extract-online2 --config=exp/nnet3_cleaned_out/ivectors_test-clean_hires/conf/ivector_extractor.conf ark:data/test-clean_hires/split87/70/spk2utt scp:data/test-clean_hires/split87/70/feats.scp ark:- | copy-feats --compress=true ark:- ark,scp:/kaggle/working/exp/nnet3_cleaned_out/ivectors_test-clean_hires/ivector_online.70.ark,/kaggle/working/exp/nnet3_cleaned_out/ivectors_test-clean_hires/ivector_online.70.scp \r\n",
      "# Started at Tue Jun 22 13:20:53 UTC 2021\r\n",
      "#\r\n",
      "ivector-extract-online2: error while loading shared libraries: libcudart.so.10.0: cannot open shared object file: No such file or directory\r\n",
      "copy-feats --compress=true ark:- ark,scp:/kaggle/working/exp/nnet3_cleaned_out/ivectors_test-clean_hires/ivector_online.70.ark,/kaggle/working/exp/nnet3_cleaned_out/ivectors_test-clean_hires/ivector_online.70.scp \r\n",
      "LOG (copy-feats[5.5.0~1-2b62]:main():copy-feats.cc:143) Copied 0 feature matrices.\r\n",
      "# Accounting: time=0 threads=1\r\n",
      "# Ended (code 1) at Tue Jun 22 13:20:53 UTC 2021, elapsed time 0 seconds\r\n",
      "# ivector-extract-online2 --config=exp/nnet3_cleaned_out/ivectors_test-clean_hires/conf/ivector_extractor.conf ark:data/test-clean_hires/split87/71/spk2utt scp:data/test-clean_hires/split87/71/feats.scp ark:- | copy-feats --compress=true ark:- ark,scp:/kaggle/working/exp/nnet3_cleaned_out/ivectors_test-clean_hires/ivector_online.71.ark,/kaggle/working/exp/nnet3_cleaned_out/ivectors_test-clean_hires/ivector_online.71.scp \r\n",
      "# Started at Tue Jun 22 13:20:53 UTC 2021\r\n",
      "#\r\n",
      "ivector-extract-online2: error while loading shared libraries: libcudart.so.10.0: cannot open shared object file: No such file or directory\r\n",
      "copy-feats --compress=true ark:- ark,scp:/kaggle/working/exp/nnet3_cleaned_out/ivectors_test-clean_hires/ivector_online.71.ark,/kaggle/working/exp/nnet3_cleaned_out/ivectors_test-clean_hires/ivector_online.71.scp \r\n",
      "LOG (copy-feats[5.5.0~1-2b62]:main():copy-feats.cc:143) Copied 0 feature matrices.\r\n",
      "# Accounting: time=0 threads=1\r\n",
      "# Ended (code 1) at Tue Jun 22 13:20:53 UTC 2021, elapsed time 0 seconds\r\n",
      "# ivector-extract-online2 --config=exp/nnet3_cleaned_out/ivectors_test-clean_hires/conf/ivector_extractor.conf ark:data/test-clean_hires/split87/72/spk2utt scp:data/test-clean_hires/split87/72/feats.scp ark:- | copy-feats --compress=true ark:- ark,scp:/kaggle/working/exp/nnet3_cleaned_out/ivectors_test-clean_hires/ivector_online.72.ark,/kaggle/working/exp/nnet3_cleaned_out/ivectors_test-clean_hires/ivector_online.72.scp \r\n",
      "# Started at Tue Jun 22 13:20:53 UTC 2021\r\n",
      "#\r\n",
      "ivector-extract-online2: error while loading shared libraries: libcudart.so.10.0: cannot open shared object file: No such file or directory\r\n",
      "copy-feats --compress=true ark:- ark,scp:/kaggle/working/exp/nnet3_cleaned_out/ivectors_test-clean_hires/ivector_online.72.ark,/kaggle/working/exp/nnet3_cleaned_out/ivectors_test-clean_hires/ivector_online.72.scp \r\n",
      "LOG (copy-feats[5.5.0~1-2b62]:main():copy-feats.cc:143) Copied 0 feature matrices.\r\n",
      "# Accounting: time=0 threads=1\r\n",
      "# Ended (code 1) at Tue Jun 22 13:20:53 UTC 2021, elapsed time 0 seconds\r\n",
      "# ivector-extract-online2 --config=exp/nnet3_cleaned_out/ivectors_test-clean_hires/conf/ivector_extractor.conf ark:data/test-clean_hires/split87/73/spk2utt scp:data/test-clean_hires/split87/73/feats.scp ark:- | copy-feats --compress=true ark:- ark,scp:/kaggle/working/exp/nnet3_cleaned_out/ivectors_test-clean_hires/ivector_online.73.ark,/kaggle/working/exp/nnet3_cleaned_out/ivectors_test-clean_hires/ivector_online.73.scp \r\n",
      "# Started at Tue Jun 22 13:20:53 UTC 2021\r\n",
      "#\r\n",
      "ivector-extract-online2: error while loading shared libraries: libcudart.so.10.0: cannot open shared object file: No such file or directory\r\n",
      "copy-feats --compress=true ark:- ark,scp:/kaggle/working/exp/nnet3_cleaned_out/ivectors_test-clean_hires/ivector_online.73.ark,/kaggle/working/exp/nnet3_cleaned_out/ivectors_test-clean_hires/ivector_online.73.scp \r\n",
      "LOG (copy-feats[5.5.0~1-2b62]:main():copy-feats.cc:143) Copied 0 feature matrices.\r\n",
      "# Accounting: time=0 threads=1\r\n",
      "# Ended (code 1) at Tue Jun 22 13:20:53 UTC 2021, elapsed time 0 seconds\r\n",
      "# ivector-extract-online2 --config=exp/nnet3_cleaned_out/ivectors_test-clean_hires/conf/ivector_extractor.conf ark:data/test-clean_hires/split87/74/spk2utt scp:data/test-clean_hires/split87/74/feats.scp ark:- | copy-feats --compress=true ark:- ark,scp:/kaggle/working/exp/nnet3_cleaned_out/ivectors_test-clean_hires/ivector_online.74.ark,/kaggle/working/exp/nnet3_cleaned_out/ivectors_test-clean_hires/ivector_online.74.scp \r\n",
      "# Started at Tue Jun 22 13:20:53 UTC 2021\r\n",
      "#\r\n",
      "ivector-extract-online2: error while loading shared libraries: libcudart.so.10.0: cannot open shared object file: No such file or directory\r\n",
      "copy-feats --compress=true ark:- ark,scp:/kaggle/working/exp/nnet3_cleaned_out/ivectors_test-clean_hires/ivector_online.74.ark,/kaggle/working/exp/nnet3_cleaned_out/ivectors_test-clean_hires/ivector_online.74.scp \r\n",
      "LOG (copy-feats[5.5.0~1-2b62]:main():copy-feats.cc:143) Copied 0 feature matrices.\r\n",
      "# Accounting: time=0 threads=1\r\n",
      "# Ended (code 1) at Tue Jun 22 13:20:53 UTC 2021, elapsed time 0 seconds\r\n",
      "# ivector-extract-online2 --config=exp/nnet3_cleaned_out/ivectors_test-clean_hires/conf/ivector_extractor.conf ark:data/test-clean_hires/split87/75/spk2utt scp:data/test-clean_hires/split87/75/feats.scp ark:- | copy-feats --compress=true ark:- ark,scp:/kaggle/working/exp/nnet3_cleaned_out/ivectors_test-clean_hires/ivector_online.75.ark,/kaggle/working/exp/nnet3_cleaned_out/ivectors_test-clean_hires/ivector_online.75.scp \r\n",
      "# Started at Tue Jun 22 13:20:53 UTC 2021\r\n",
      "#\r\n",
      "ivector-extract-online2: error while loading shared libraries: libcudart.so.10.0: cannot open shared object file: No such file or directory\r\n",
      "copy-feats --compress=true ark:- ark,scp:/kaggle/working/exp/nnet3_cleaned_out/ivectors_test-clean_hires/ivector_online.75.ark,/kaggle/working/exp/nnet3_cleaned_out/ivectors_test-clean_hires/ivector_online.75.scp \r\n",
      "LOG (copy-feats[5.5.0~1-2b62]:main():copy-feats.cc:143) Copied 0 feature matrices.\r\n",
      "# Accounting: time=0 threads=1\r\n",
      "# Ended (code 1) at Tue Jun 22 13:20:53 UTC 2021, elapsed time 0 seconds\r\n",
      "# ivector-extract-online2 --config=exp/nnet3_cleaned_out/ivectors_test-clean_hires/conf/ivector_extractor.conf ark:data/test-clean_hires/split87/76/spk2utt scp:data/test-clean_hires/split87/76/feats.scp ark:- | copy-feats --compress=true ark:- ark,scp:/kaggle/working/exp/nnet3_cleaned_out/ivectors_test-clean_hires/ivector_online.76.ark,/kaggle/working/exp/nnet3_cleaned_out/ivectors_test-clean_hires/ivector_online.76.scp \r\n",
      "# Started at Tue Jun 22 13:20:53 UTC 2021\r\n",
      "#\r\n",
      "ivector-extract-online2: error while loading shared libraries: libcudart.so.10.0: cannot open shared object file: No such file or directory\r\n",
      "copy-feats --compress=true ark:- ark,scp:/kaggle/working/exp/nnet3_cleaned_out/ivectors_test-clean_hires/ivector_online.76.ark,/kaggle/working/exp/nnet3_cleaned_out/ivectors_test-clean_hires/ivector_online.76.scp \r\n",
      "LOG (copy-feats[5.5.0~1-2b62]:main():copy-feats.cc:143) Copied 0 feature matrices.\r\n",
      "# Accounting: time=0 threads=1\r\n",
      "# Ended (code 1) at Tue Jun 22 13:20:53 UTC 2021, elapsed time 0 seconds\r\n",
      "# ivector-extract-online2 --config=exp/nnet3_cleaned_out/ivectors_test-clean_hires/conf/ivector_extractor.conf ark:data/test-clean_hires/split87/77/spk2utt scp:data/test-clean_hires/split87/77/feats.scp ark:- | copy-feats --compress=true ark:- ark,scp:/kaggle/working/exp/nnet3_cleaned_out/ivectors_test-clean_hires/ivector_online.77.ark,/kaggle/working/exp/nnet3_cleaned_out/ivectors_test-clean_hires/ivector_online.77.scp \r\n",
      "# Started at Tue Jun 22 13:20:53 UTC 2021\r\n",
      "#\r\n",
      "ivector-extract-online2: error while loading shared libraries: libcudart.so.10.0: cannot open shared object file: No such file or directory\r\n",
      "copy-feats --compress=true ark:- ark,scp:/kaggle/working/exp/nnet3_cleaned_out/ivectors_test-clean_hires/ivector_online.77.ark,/kaggle/working/exp/nnet3_cleaned_out/ivectors_test-clean_hires/ivector_online.77.scp \r\n",
      "LOG (copy-feats[5.5.0~1-2b62]:main():copy-feats.cc:143) Copied 0 feature matrices.\r\n",
      "# Accounting: time=0 threads=1\r\n",
      "# Ended (code 1) at Tue Jun 22 13:20:53 UTC 2021, elapsed time 0 seconds\r\n",
      "# ivector-extract-online2 --config=exp/nnet3_cleaned_out/ivectors_test-clean_hires/conf/ivector_extractor.conf ark:data/test-clean_hires/split87/78/spk2utt scp:data/test-clean_hires/split87/78/feats.scp ark:- | copy-feats --compress=true ark:- ark,scp:/kaggle/working/exp/nnet3_cleaned_out/ivectors_test-clean_hires/ivector_online.78.ark,/kaggle/working/exp/nnet3_cleaned_out/ivectors_test-clean_hires/ivector_online.78.scp \r\n",
      "# Started at Tue Jun 22 13:20:53 UTC 2021\r\n",
      "#\r\n",
      "ivector-extract-online2: error while loading shared libraries: libcudart.so.10.0: cannot open shared object file: No such file or directory\r\n",
      "copy-feats --compress=true ark:- ark,scp:/kaggle/working/exp/nnet3_cleaned_out/ivectors_test-clean_hires/ivector_online.78.ark,/kaggle/working/exp/nnet3_cleaned_out/ivectors_test-clean_hires/ivector_online.78.scp \r\n",
      "LOG (copy-feats[5.5.0~1-2b62]:main():copy-feats.cc:143) Copied 0 feature matrices.\r\n",
      "# Accounting: time=0 threads=1\r\n",
      "# Ended (code 1) at Tue Jun 22 13:20:53 UTC 2021, elapsed time 0 seconds\r\n",
      "# ivector-extract-online2 --config=exp/nnet3_cleaned_out/ivectors_test-clean_hires/conf/ivector_extractor.conf ark:data/test-clean_hires/split87/79/spk2utt scp:data/test-clean_hires/split87/79/feats.scp ark:- | copy-feats --compress=true ark:- ark,scp:/kaggle/working/exp/nnet3_cleaned_out/ivectors_test-clean_hires/ivector_online.79.ark,/kaggle/working/exp/nnet3_cleaned_out/ivectors_test-clean_hires/ivector_online.79.scp \r\n",
      "# Started at Tue Jun 22 13:20:53 UTC 2021\r\n",
      "#\r\n",
      "ivector-extract-online2: error while loading shared libraries: libcudart.so.10.0: cannot open shared object file: No such file or directory\r\n",
      "copy-feats --compress=true ark:- ark,scp:/kaggle/working/exp/nnet3_cleaned_out/ivectors_test-clean_hires/ivector_online.79.ark,/kaggle/working/exp/nnet3_cleaned_out/ivectors_test-clean_hires/ivector_online.79.scp \r\n",
      "LOG (copy-feats[5.5.0~1-2b62]:main():copy-feats.cc:143) Copied 0 feature matrices.\r\n",
      "# Accounting: time=0 threads=1\r\n",
      "# Ended (code 1) at Tue Jun 22 13:20:53 UTC 2021, elapsed time 0 seconds\r\n",
      "# ivector-extract-online2 --config=exp/nnet3_cleaned_out/ivectors_test-clean_hires/conf/ivector_extractor.conf ark:data/test-clean_hires/split87/8/spk2utt scp:data/test-clean_hires/split87/8/feats.scp ark:- | copy-feats --compress=true ark:- ark,scp:/kaggle/working/exp/nnet3_cleaned_out/ivectors_test-clean_hires/ivector_online.8.ark,/kaggle/working/exp/nnet3_cleaned_out/ivectors_test-clean_hires/ivector_online.8.scp \r\n",
      "# Started at Tue Jun 22 13:20:52 UTC 2021\r\n",
      "#\r\n",
      "ivector-extract-online2: error while loading shared libraries: libcudart.so.10.0: cannot open shared object file: No such file or directory\r\n",
      "copy-feats --compress=true ark:- ark,scp:/kaggle/working/exp/nnet3_cleaned_out/ivectors_test-clean_hires/ivector_online.8.ark,/kaggle/working/exp/nnet3_cleaned_out/ivectors_test-clean_hires/ivector_online.8.scp \r\n",
      "LOG (copy-feats[5.5.0~1-2b62]:main():copy-feats.cc:143) Copied 0 feature matrices.\r\n",
      "# Accounting: time=0 threads=1\r\n",
      "# Ended (code 1) at Tue Jun 22 13:20:52 UTC 2021, elapsed time 0 seconds\r\n",
      "# ivector-extract-online2 --config=exp/nnet3_cleaned_out/ivectors_test-clean_hires/conf/ivector_extractor.conf ark:data/test-clean_hires/split87/80/spk2utt scp:data/test-clean_hires/split87/80/feats.scp ark:- | copy-feats --compress=true ark:- ark,scp:/kaggle/working/exp/nnet3_cleaned_out/ivectors_test-clean_hires/ivector_online.80.ark,/kaggle/working/exp/nnet3_cleaned_out/ivectors_test-clean_hires/ivector_online.80.scp \r\n",
      "# Started at Tue Jun 22 13:20:53 UTC 2021\r\n",
      "#\r\n",
      "ivector-extract-online2: error while loading shared libraries: libcudart.so.10.0: cannot open shared object file: No such file or directory\r\n",
      "copy-feats --compress=true ark:- ark,scp:/kaggle/working/exp/nnet3_cleaned_out/ivectors_test-clean_hires/ivector_online.80.ark,/kaggle/working/exp/nnet3_cleaned_out/ivectors_test-clean_hires/ivector_online.80.scp \r\n",
      "LOG (copy-feats[5.5.0~1-2b62]:main():copy-feats.cc:143) Copied 0 feature matrices.\r\n",
      "# Accounting: time=0 threads=1\r\n",
      "# Ended (code 1) at Tue Jun 22 13:20:53 UTC 2021, elapsed time 0 seconds\r\n",
      "# ivector-extract-online2 --config=exp/nnet3_cleaned_out/ivectors_test-clean_hires/conf/ivector_extractor.conf ark:data/test-clean_hires/split87/81/spk2utt scp:data/test-clean_hires/split87/81/feats.scp ark:- | copy-feats --compress=true ark:- ark,scp:/kaggle/working/exp/nnet3_cleaned_out/ivectors_test-clean_hires/ivector_online.81.ark,/kaggle/working/exp/nnet3_cleaned_out/ivectors_test-clean_hires/ivector_online.81.scp \r\n",
      "# Started at Tue Jun 22 13:20:53 UTC 2021\r\n",
      "#\r\n",
      "ivector-extract-online2: error while loading shared libraries: libcudart.so.10.0: cannot open shared object file: No such file or directory\r\n",
      "copy-feats --compress=true ark:- ark,scp:/kaggle/working/exp/nnet3_cleaned_out/ivectors_test-clean_hires/ivector_online.81.ark,/kaggle/working/exp/nnet3_cleaned_out/ivectors_test-clean_hires/ivector_online.81.scp \r\n",
      "LOG (copy-feats[5.5.0~1-2b62]:main():copy-feats.cc:143) Copied 0 feature matrices.\r\n",
      "# Accounting: time=0 threads=1\r\n",
      "# Ended (code 1) at Tue Jun 22 13:20:53 UTC 2021, elapsed time 0 seconds\r\n",
      "# ivector-extract-online2 --config=exp/nnet3_cleaned_out/ivectors_test-clean_hires/conf/ivector_extractor.conf ark:data/test-clean_hires/split87/82/spk2utt scp:data/test-clean_hires/split87/82/feats.scp ark:- | copy-feats --compress=true ark:- ark,scp:/kaggle/working/exp/nnet3_cleaned_out/ivectors_test-clean_hires/ivector_online.82.ark,/kaggle/working/exp/nnet3_cleaned_out/ivectors_test-clean_hires/ivector_online.82.scp \r\n",
      "# Started at Tue Jun 22 13:20:53 UTC 2021\r\n",
      "#\r\n",
      "ivector-extract-online2: error while loading shared libraries: libcudart.so.10.0: cannot open shared object file: No such file or directory\r\n",
      "copy-feats --compress=true ark:- ark,scp:/kaggle/working/exp/nnet3_cleaned_out/ivectors_test-clean_hires/ivector_online.82.ark,/kaggle/working/exp/nnet3_cleaned_out/ivectors_test-clean_hires/ivector_online.82.scp \r\n",
      "LOG (copy-feats[5.5.0~1-2b62]:main():copy-feats.cc:143) Copied 0 feature matrices.\r\n",
      "# Accounting: time=0 threads=1\r\n",
      "# Ended (code 1) at Tue Jun 22 13:20:53 UTC 2021, elapsed time 0 seconds\r\n",
      "# ivector-extract-online2 --config=exp/nnet3_cleaned_out/ivectors_test-clean_hires/conf/ivector_extractor.conf ark:data/test-clean_hires/split87/83/spk2utt scp:data/test-clean_hires/split87/83/feats.scp ark:- | copy-feats --compress=true ark:- ark,scp:/kaggle/working/exp/nnet3_cleaned_out/ivectors_test-clean_hires/ivector_online.83.ark,/kaggle/working/exp/nnet3_cleaned_out/ivectors_test-clean_hires/ivector_online.83.scp \r\n",
      "# Started at Tue Jun 22 13:20:53 UTC 2021\r\n",
      "#\r\n",
      "ivector-extract-online2: error while loading shared libraries: libcudart.so.10.0: cannot open shared object file: No such file or directory\r\n",
      "copy-feats --compress=true ark:- ark,scp:/kaggle/working/exp/nnet3_cleaned_out/ivectors_test-clean_hires/ivector_online.83.ark,/kaggle/working/exp/nnet3_cleaned_out/ivectors_test-clean_hires/ivector_online.83.scp \r\n",
      "LOG (copy-feats[5.5.0~1-2b62]:main():copy-feats.cc:143) Copied 0 feature matrices.\r\n",
      "# Accounting: time=0 threads=1\r\n",
      "# Ended (code 1) at Tue Jun 22 13:20:53 UTC 2021, elapsed time 0 seconds\r\n",
      "# ivector-extract-online2 --config=exp/nnet3_cleaned_out/ivectors_test-clean_hires/conf/ivector_extractor.conf ark:data/test-clean_hires/split87/84/spk2utt scp:data/test-clean_hires/split87/84/feats.scp ark:- | copy-feats --compress=true ark:- ark,scp:/kaggle/working/exp/nnet3_cleaned_out/ivectors_test-clean_hires/ivector_online.84.ark,/kaggle/working/exp/nnet3_cleaned_out/ivectors_test-clean_hires/ivector_online.84.scp \r\n",
      "# Started at Tue Jun 22 13:20:53 UTC 2021\r\n",
      "#\r\n",
      "ivector-extract-online2: error while loading shared libraries: libcudart.so.10.0: cannot open shared object file: No such file or directory\r\n",
      "copy-feats --compress=true ark:- ark,scp:/kaggle/working/exp/nnet3_cleaned_out/ivectors_test-clean_hires/ivector_online.84.ark,/kaggle/working/exp/nnet3_cleaned_out/ivectors_test-clean_hires/ivector_online.84.scp \r\n",
      "LOG (copy-feats[5.5.0~1-2b62]:main():copy-feats.cc:143) Copied 0 feature matrices.\r\n",
      "# Accounting: time=0 threads=1\r\n",
      "# Ended (code 1) at Tue Jun 22 13:20:53 UTC 2021, elapsed time 0 seconds\r\n",
      "# ivector-extract-online2 --config=exp/nnet3_cleaned_out/ivectors_test-clean_hires/conf/ivector_extractor.conf ark:data/test-clean_hires/split87/85/spk2utt scp:data/test-clean_hires/split87/85/feats.scp ark:- | copy-feats --compress=true ark:- ark,scp:/kaggle/working/exp/nnet3_cleaned_out/ivectors_test-clean_hires/ivector_online.85.ark,/kaggle/working/exp/nnet3_cleaned_out/ivectors_test-clean_hires/ivector_online.85.scp \r\n",
      "# Started at Tue Jun 22 13:20:53 UTC 2021\r\n",
      "#\r\n",
      "ivector-extract-online2: error while loading shared libraries: libcudart.so.10.0: cannot open shared object file: No such file or directory\r\n",
      "copy-feats --compress=true ark:- ark,scp:/kaggle/working/exp/nnet3_cleaned_out/ivectors_test-clean_hires/ivector_online.85.ark,/kaggle/working/exp/nnet3_cleaned_out/ivectors_test-clean_hires/ivector_online.85.scp \r\n",
      "LOG (copy-feats[5.5.0~1-2b62]:main():copy-feats.cc:143) Copied 0 feature matrices.\r\n",
      "# Accounting: time=0 threads=1\r\n",
      "# Ended (code 1) at Tue Jun 22 13:20:53 UTC 2021, elapsed time 0 seconds\r\n",
      "# ivector-extract-online2 --config=exp/nnet3_cleaned_out/ivectors_test-clean_hires/conf/ivector_extractor.conf ark:data/test-clean_hires/split87/86/spk2utt scp:data/test-clean_hires/split87/86/feats.scp ark:- | copy-feats --compress=true ark:- ark,scp:/kaggle/working/exp/nnet3_cleaned_out/ivectors_test-clean_hires/ivector_online.86.ark,/kaggle/working/exp/nnet3_cleaned_out/ivectors_test-clean_hires/ivector_online.86.scp \r\n",
      "# Started at Tue Jun 22 13:20:53 UTC 2021\r\n",
      "#\r\n",
      "ivector-extract-online2: error while loading shared libraries: libcudart.so.10.0: cannot open shared object file: No such file or directory\r\n",
      "copy-feats --compress=true ark:- ark,scp:/kaggle/working/exp/nnet3_cleaned_out/ivectors_test-clean_hires/ivector_online.86.ark,/kaggle/working/exp/nnet3_cleaned_out/ivectors_test-clean_hires/ivector_online.86.scp \r\n",
      "LOG (copy-feats[5.5.0~1-2b62]:main():copy-feats.cc:143) Copied 0 feature matrices.\r\n",
      "# Accounting: time=0 threads=1\r\n",
      "# Ended (code 1) at Tue Jun 22 13:20:53 UTC 2021, elapsed time 0 seconds\r\n",
      "# ivector-extract-online2 --config=exp/nnet3_cleaned_out/ivectors_test-clean_hires/conf/ivector_extractor.conf ark:data/test-clean_hires/split87/87/spk2utt scp:data/test-clean_hires/split87/87/feats.scp ark:- | copy-feats --compress=true ark:- ark,scp:/kaggle/working/exp/nnet3_cleaned_out/ivectors_test-clean_hires/ivector_online.87.ark,/kaggle/working/exp/nnet3_cleaned_out/ivectors_test-clean_hires/ivector_online.87.scp \r\n",
      "# Started at Tue Jun 22 13:20:53 UTC 2021\r\n",
      "#\r\n",
      "ivector-extract-online2: error while loading shared libraries: libcudart.so.10.0: cannot open shared object file: No such file or directory\r\n",
      "copy-feats --compress=true ark:- ark,scp:/kaggle/working/exp/nnet3_cleaned_out/ivectors_test-clean_hires/ivector_online.87.ark,/kaggle/working/exp/nnet3_cleaned_out/ivectors_test-clean_hires/ivector_online.87.scp \r\n",
      "LOG (copy-feats[5.5.0~1-2b62]:main():copy-feats.cc:143) Copied 0 feature matrices.\r\n",
      "# Accounting: time=0 threads=1\r\n",
      "# Ended (code 1) at Tue Jun 22 13:20:53 UTC 2021, elapsed time 0 seconds\r\n",
      "# ivector-extract-online2 --config=exp/nnet3_cleaned_out/ivectors_test-clean_hires/conf/ivector_extractor.conf ark:data/test-clean_hires/split87/9/spk2utt scp:data/test-clean_hires/split87/9/feats.scp ark:- | copy-feats --compress=true ark:- ark,scp:/kaggle/working/exp/nnet3_cleaned_out/ivectors_test-clean_hires/ivector_online.9.ark,/kaggle/working/exp/nnet3_cleaned_out/ivectors_test-clean_hires/ivector_online.9.scp \r\n",
      "# Started at Tue Jun 22 13:20:52 UTC 2021\r\n",
      "#\r\n",
      "ivector-extract-online2: error while loading shared libraries: libcudart.so.10.0: cannot open shared object file: No such file or directory\r\n",
      "copy-feats --compress=true ark:- ark,scp:/kaggle/working/exp/nnet3_cleaned_out/ivectors_test-clean_hires/ivector_online.9.ark,/kaggle/working/exp/nnet3_cleaned_out/ivectors_test-clean_hires/ivector_online.9.scp \r\n",
      "LOG (copy-feats[5.5.0~1-2b62]:main():copy-feats.cc:143) Copied 0 feature matrices.\r\n",
      "# Accounting: time=0 threads=1\r\n",
      "# Ended (code 1) at Tue Jun 22 13:20:52 UTC 2021, elapsed time 0 seconds\r\n"
     ]
    }
   ],
   "source": [
    "!cat exp/nnet3_cleaned_out/ivectors_test-clean_hires/log/extract_ivectors.*.log"
   ]
  }
 ],
 "metadata": {
  "kernelspec": {
   "display_name": "Python 3",
   "language": "python",
   "name": "python3"
  },
  "language_info": {
   "codemirror_mode": {
    "name": "ipython",
    "version": 3
   },
   "file_extension": ".py",
   "mimetype": "text/x-python",
   "name": "python",
   "nbconvert_exporter": "python",
   "pygments_lexer": "ipython3",
   "version": "3.7.10"
  },
  "papermill": {
   "default_parameters": {},
   "duration": 228.532668,
   "end_time": "2021-06-22T13:20:59.824780",
   "environment_variables": {},
   "exception": null,
   "input_path": "__notebook__.ipynb",
   "output_path": "__notebook__.ipynb",
   "parameters": {},
   "start_time": "2021-06-22T13:17:11.292112",
   "version": "2.3.3"
  }
 },
 "nbformat": 4,
 "nbformat_minor": 5
}
