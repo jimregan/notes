{
 "cells": [
  {
   "cell_type": "markdown",
   "id": "buried-label",
   "metadata": {
    "papermill": {
     "duration": 0.027797,
     "end_time": "2021-06-22T22:10:05.339329",
     "exception": false,
     "start_time": "2021-06-22T22:10:05.311532",
     "status": "completed"
    },
    "tags": []
   },
   "source": [
    "## Unpack Kaldi"
   ]
  },
  {
   "cell_type": "code",
   "execution_count": 1,
   "id": "acquired-albert",
   "metadata": {
    "_cell_guid": "b1076dfc-b9ad-4769-8c92-a6c4dae69d19",
    "_uuid": "8f2839f25d086af736a60e9eeb907d3b93b6e0e5",
    "execution": {
     "iopub.execute_input": "2021-06-22T22:10:05.396280Z",
     "iopub.status.busy": "2021-06-22T22:10:05.395224Z",
     "iopub.status.idle": "2021-06-22T22:10:05.405253Z",
     "shell.execute_reply": "2021-06-22T22:10:05.405661Z",
     "shell.execute_reply.started": "2021-06-22T11:54:50.153353Z"
    },
    "papermill": {
     "duration": 0.03967,
     "end_time": "2021-06-22T22:10:05.405928",
     "exception": false,
     "start_time": "2021-06-22T22:10:05.366258",
     "status": "completed"
    },
    "tags": []
   },
   "outputs": [
    {
     "name": "stdout",
     "output_type": "stream",
     "text": [
      "/opt\n"
     ]
    }
   ],
   "source": [
    "%cd /opt"
   ]
  },
  {
   "cell_type": "code",
   "execution_count": 2,
   "id": "bottom-mount",
   "metadata": {
    "execution": {
     "iopub.execute_input": "2021-06-22T22:10:05.475372Z",
     "iopub.status.busy": "2021-06-22T22:10:05.463721Z",
     "iopub.status.idle": "2021-06-22T22:10:46.498843Z",
     "shell.execute_reply": "2021-06-22T22:10:46.499292Z",
     "shell.execute_reply.started": "2021-06-22T11:54:53.255442Z"
    },
    "papermill": {
     "duration": 41.06713,
     "end_time": "2021-06-22T22:10:46.499508",
     "exception": false,
     "start_time": "2021-06-22T22:10:05.432378",
     "status": "completed"
    },
    "tags": []
   },
   "outputs": [],
   "source": [
    "%%capture\n",
    "!tar xvf /kaggle/input/extract-prebuilt-kaldi-from-docker/kaldi.tar"
   ]
  },
  {
   "cell_type": "code",
   "execution_count": 3,
   "id": "elegant-factor",
   "metadata": {
    "execution": {
     "iopub.execute_input": "2021-06-22T22:10:46.557662Z",
     "iopub.status.busy": "2021-06-22T22:10:46.557082Z",
     "iopub.status.idle": "2021-06-22T22:10:46.559625Z",
     "shell.execute_reply": "2021-06-22T22:10:46.560043Z",
     "shell.execute_reply.started": "2021-06-22T11:55:40.60018Z"
    },
    "papermill": {
     "duration": 0.033683,
     "end_time": "2021-06-22T22:10:46.560206",
     "exception": false,
     "start_time": "2021-06-22T22:10:46.526523",
     "status": "completed"
    },
    "tags": []
   },
   "outputs": [],
   "source": [
    "import os\n",
    "os.environ['LD_LIBRARY_PATH'] = '/opt/conda/lib:/opt/kaldi/tools/openfst-1.6.7/lib:/opt/kaldi/src/lib:'\n",
    "EXISTING_PATH = os.environ['PATH']"
   ]
  },
  {
   "cell_type": "code",
   "execution_count": 4,
   "id": "selective-decimal",
   "metadata": {
    "execution": {
     "iopub.execute_input": "2021-06-22T22:10:46.618004Z",
     "iopub.status.busy": "2021-06-22T22:10:46.616547Z",
     "iopub.status.idle": "2021-06-22T22:10:46.622886Z",
     "shell.execute_reply": "2021-06-22T22:10:46.623791Z"
    },
    "papermill": {
     "duration": 0.038073,
     "end_time": "2021-06-22T22:10:46.624040",
     "exception": false,
     "start_time": "2021-06-22T22:10:46.585967",
     "status": "completed"
    },
    "tags": []
   },
   "outputs": [
    {
     "name": "stdout",
     "output_type": "stream",
     "text": [
      "/\n"
     ]
    }
   ],
   "source": [
    "%cd /\n"
   ]
  },
  {
   "cell_type": "code",
   "execution_count": 5,
   "id": "still-effort",
   "metadata": {
    "execution": {
     "iopub.execute_input": "2021-06-22T22:10:46.689354Z",
     "iopub.status.busy": "2021-06-22T22:10:46.683813Z",
     "iopub.status.idle": "2021-06-22T22:11:21.014231Z",
     "shell.execute_reply": "2021-06-22T22:11:21.014716Z"
    },
    "papermill": {
     "duration": 34.363129,
     "end_time": "2021-06-22T22:11:21.014873",
     "exception": false,
     "start_time": "2021-06-22T22:10:46.651744",
     "status": "completed"
    },
    "tags": []
   },
   "outputs": [],
   "source": [
    "%%capture\n",
    "!tar xvf /kaggle/input/extract-cuda-from-kaldi-docker/cuda.tar"
   ]
  },
  {
   "cell_type": "code",
   "execution_count": 6,
   "id": "immune-advancement",
   "metadata": {
    "execution": {
     "iopub.execute_input": "2021-06-22T22:11:21.072903Z",
     "iopub.status.busy": "2021-06-22T22:11:21.072297Z",
     "iopub.status.idle": "2021-06-22T22:11:21.075908Z",
     "shell.execute_reply": "2021-06-22T22:11:21.076359Z",
     "shell.execute_reply.started": "2021-06-22T13:29:47.085695Z"
    },
    "papermill": {
     "duration": 0.034211,
     "end_time": "2021-06-22T22:11:21.076529",
     "exception": false,
     "start_time": "2021-06-22T22:11:21.042318",
     "status": "completed"
    },
    "tags": []
   },
   "outputs": [],
   "source": [
    "import os\n",
    "os.environ['LD_LIBRARY_PATH'] = f'{os.environ[\"LD_LIBRARY_PATH\"]}:/usr/local/cuda-10.0/targets/x86_64-linux/lib/'"
   ]
  },
  {
   "cell_type": "code",
   "execution_count": 7,
   "id": "fatty-processor",
   "metadata": {
    "execution": {
     "iopub.execute_input": "2021-06-22T22:11:21.134089Z",
     "iopub.status.busy": "2021-06-22T22:11:21.133142Z",
     "iopub.status.idle": "2021-06-22T22:11:21.140620Z",
     "shell.execute_reply": "2021-06-22T22:11:21.141232Z",
     "shell.execute_reply.started": "2021-06-22T11:55:40.610869Z"
    },
    "papermill": {
     "duration": 0.037653,
     "end_time": "2021-06-22T22:11:21.141451",
     "exception": false,
     "start_time": "2021-06-22T22:11:21.103798",
     "status": "completed"
    },
    "tags": []
   },
   "outputs": [
    {
     "name": "stdout",
     "output_type": "stream",
     "text": [
      "/opt/kaldi/egs\n"
     ]
    }
   ],
   "source": [
    "%cd /opt/kaldi/egs"
   ]
  },
  {
   "cell_type": "markdown",
   "id": "explicit-garden",
   "metadata": {
    "papermill": {
     "duration": 0.030781,
     "end_time": "2021-06-22T22:11:21.200791",
     "exception": false,
     "start_time": "2021-06-22T22:11:21.170010",
     "status": "completed"
    },
    "tags": []
   },
   "source": [
    "## Install flac"
   ]
  },
  {
   "cell_type": "code",
   "execution_count": 8,
   "id": "random-milwaukee",
   "metadata": {
    "execution": {
     "iopub.execute_input": "2021-06-22T22:11:21.259444Z",
     "iopub.status.busy": "2021-06-22T22:11:21.258797Z",
     "iopub.status.idle": "2021-06-22T22:11:26.768109Z",
     "shell.execute_reply": "2021-06-22T22:11:26.767470Z",
     "shell.execute_reply.started": "2021-06-22T12:06:36.222984Z"
    },
    "papermill": {
     "duration": 5.540951,
     "end_time": "2021-06-22T22:11:26.768251",
     "exception": false,
     "start_time": "2021-06-22T22:11:21.227300",
     "status": "completed"
    },
    "tags": []
   },
   "outputs": [],
   "source": [
    "%%capture\n",
    "!apt install -y flac"
   ]
  },
  {
   "cell_type": "markdown",
   "id": "destroyed-planner",
   "metadata": {
    "papermill": {
     "duration": 0.026167,
     "end_time": "2021-06-22T22:11:26.821442",
     "exception": false,
     "start_time": "2021-06-22T22:11:26.795275",
     "status": "completed"
    },
    "tags": []
   },
   "source": [
    "## Create a work directory"
   ]
  },
  {
   "cell_type": "code",
   "execution_count": 9,
   "id": "better-cable",
   "metadata": {
    "execution": {
     "iopub.execute_input": "2021-06-22T22:11:26.883842Z",
     "iopub.status.busy": "2021-06-22T22:11:26.879317Z",
     "iopub.status.idle": "2021-06-22T22:11:27.626501Z",
     "shell.execute_reply": "2021-06-22T22:11:27.627409Z",
     "shell.execute_reply.started": "2021-06-22T11:55:40.659251Z"
    },
    "papermill": {
     "duration": 0.77937,
     "end_time": "2021-06-22T22:11:27.627598",
     "exception": false,
     "start_time": "2021-06-22T22:11:26.848228",
     "status": "completed"
    },
    "tags": []
   },
   "outputs": [
    {
     "name": "stdout",
     "output_type": "stream",
     "text": [
      "/opt/kaldi/egs/usels/s5\n"
     ]
    }
   ],
   "source": [
    "!mkdir -p usels/s5\n",
    "%cd usels/s5"
   ]
  },
  {
   "cell_type": "code",
   "execution_count": 10,
   "id": "isolated-paragraph",
   "metadata": {
    "execution": {
     "iopub.execute_input": "2021-06-22T22:11:27.712629Z",
     "iopub.status.busy": "2021-06-22T22:11:27.711735Z",
     "iopub.status.idle": "2021-06-22T22:11:30.877093Z",
     "shell.execute_reply": "2021-06-22T22:11:30.876535Z",
     "shell.execute_reply.started": "2021-06-22T12:08:43.066673Z"
    },
    "papermill": {
     "duration": 3.207838,
     "end_time": "2021-06-22T22:11:30.877245",
     "exception": false,
     "start_time": "2021-06-22T22:11:27.669407",
     "status": "completed"
    },
    "tags": []
   },
   "outputs": [],
   "source": [
    "!mkdir /kaggle/working/data\n",
    "!mkdir /kaggle/working/exp\n",
    "!ln -s /kaggle/working/data\n",
    "!ln -s /kaggle/working/exp"
   ]
  },
  {
   "cell_type": "code",
   "execution_count": 11,
   "id": "instrumental-cemetery",
   "metadata": {
    "execution": {
     "iopub.execute_input": "2021-06-22T22:11:30.935855Z",
     "iopub.status.busy": "2021-06-22T22:11:30.935236Z",
     "iopub.status.idle": "2021-06-22T22:11:33.124676Z",
     "shell.execute_reply": "2021-06-22T22:11:33.124106Z",
     "shell.execute_reply.started": "2021-06-22T11:55:41.459018Z"
    },
    "papermill": {
     "duration": 2.219368,
     "end_time": "2021-06-22T22:11:33.124818",
     "exception": false,
     "start_time": "2021-06-22T22:11:30.905450",
     "status": "completed"
    },
    "tags": []
   },
   "outputs": [],
   "source": [
    "!ln -s ../../wsj/s5/steps\n",
    "!ln -s ../../wsj/s5/utils\n",
    "!ln -s ../../librispeech/s5/local"
   ]
  },
  {
   "cell_type": "code",
   "execution_count": 12,
   "id": "reduced-percentage",
   "metadata": {
    "execution": {
     "iopub.execute_input": "2021-06-22T22:11:33.245702Z",
     "iopub.status.busy": "2021-06-22T22:11:33.239139Z",
     "iopub.status.idle": "2021-06-22T22:11:34.009820Z",
     "shell.execute_reply": "2021-06-22T22:11:34.009150Z",
     "shell.execute_reply.started": "2021-06-22T11:55:43.77028Z"
    },
    "papermill": {
     "duration": 0.854289,
     "end_time": "2021-06-22T22:11:34.009960",
     "exception": false,
     "start_time": "2021-06-22T22:11:33.155671",
     "status": "completed"
    },
    "tags": []
   },
   "outputs": [],
   "source": [
    "!mkdir conf"
   ]
  },
  {
   "cell_type": "code",
   "execution_count": 13,
   "id": "composite-vatican",
   "metadata": {
    "execution": {
     "iopub.execute_input": "2021-06-22T22:11:34.079717Z",
     "iopub.status.busy": "2021-06-22T22:11:34.078837Z",
     "iopub.status.idle": "2021-06-22T22:11:34.084514Z",
     "shell.execute_reply": "2021-06-22T22:11:34.083641Z",
     "shell.execute_reply.started": "2021-06-22T11:55:44.555875Z"
    },
    "papermill": {
     "duration": 0.043392,
     "end_time": "2021-06-22T22:11:34.084716",
     "exception": false,
     "start_time": "2021-06-22T22:11:34.041324",
     "status": "completed"
    },
    "tags": []
   },
   "outputs": [
    {
     "name": "stdout",
     "output_type": "stream",
     "text": [
      "Writing conf/mfcc_hires.conf\n"
     ]
    }
   ],
   "source": [
    "%%writefile conf/mfcc_hires.conf\n",
    "# config for high-resolution MFCC features, intended for neural network training\n",
    "# Note: we keep all cepstra, so it has the same info as filterbank features,\n",
    "# but MFCC is more easily compressible (because less correlated) which is why \n",
    "# we prefer this method.\n",
    "--use-energy=false   # use average of log energy, not energy.\n",
    "--num-mel-bins=40     # similar to Google's setup.\n",
    "--num-ceps=40     # there is no dimensionality reduction.\n",
    "--low-freq=20     # low cutoff frequency for mel bins... this is high-bandwidth data, so\n",
    "                  # there might be some information at the low end.\n",
    "--high-freq=-400 # high cutoff frequently, relative to Nyquist of 8000 (=7600)"
   ]
  },
  {
   "cell_type": "markdown",
   "id": "alive-traffic",
   "metadata": {
    "papermill": {
     "duration": 0.031061,
     "end_time": "2021-06-22T22:11:34.145158",
     "exception": false,
     "start_time": "2021-06-22T22:11:34.114097",
     "status": "completed"
    },
    "tags": []
   },
   "source": [
    "## Setting up paths\n",
    "\n",
    "(In the scripts, you just source `path.sh`)"
   ]
  },
  {
   "cell_type": "code",
   "execution_count": 14,
   "id": "legal-clearing",
   "metadata": {
    "execution": {
     "iopub.execute_input": "2021-06-22T22:11:34.208004Z",
     "iopub.status.busy": "2021-06-22T22:11:34.207256Z",
     "iopub.status.idle": "2021-06-22T22:11:34.211781Z",
     "shell.execute_reply": "2021-06-22T22:11:34.211202Z",
     "shell.execute_reply.started": "2021-06-22T11:55:44.565547Z"
    },
    "papermill": {
     "duration": 0.038077,
     "end_time": "2021-06-22T22:11:34.211912",
     "exception": false,
     "start_time": "2021-06-22T22:11:34.173835",
     "status": "completed"
    },
    "tags": []
   },
   "outputs": [
    {
     "name": "stdout",
     "output_type": "stream",
     "text": [
      "env: KALDI_ROOT=/opt/kaldi\n"
     ]
    }
   ],
   "source": [
    "%env KALDI_ROOT=/opt/kaldi"
   ]
  },
  {
   "cell_type": "code",
   "execution_count": 15,
   "id": "cloudy-limit",
   "metadata": {
    "execution": {
     "iopub.execute_input": "2021-06-22T22:11:34.279212Z",
     "iopub.status.busy": "2021-06-22T22:11:34.278594Z",
     "iopub.status.idle": "2021-06-22T22:11:35.020545Z",
     "shell.execute_reply": "2021-06-22T22:11:35.019803Z",
     "shell.execute_reply.started": "2021-06-22T11:55:44.577705Z"
    },
    "papermill": {
     "duration": 0.778498,
     "end_time": "2021-06-22T22:11:35.020703",
     "exception": false,
     "start_time": "2021-06-22T22:11:34.242205",
     "status": "completed"
    },
    "tags": []
   },
   "outputs": [
    {
     "name": "stdout",
     "output_type": "stream",
     "text": [
      "export KALDI_ROOT=`pwd`/../../..\r\n",
      "[ -f $KALDI_ROOT/tools/env.sh ] && . $KALDI_ROOT/tools/env.sh\r\n",
      "export PATH=$PWD/utils/:$KALDI_ROOT/tools/openfst/bin:$PWD:$PATH\r\n",
      "[ ! -f $KALDI_ROOT/tools/config/common_path.sh ] && echo >&2 \"The standard file $KALDI_ROOT/tools/config/common_path.sh is not present -> Exit!\" && exit 1\r\n",
      ". $KALDI_ROOT/tools/config/common_path.sh\r\n",
      "export LC_ALL=C\r\n"
     ]
    }
   ],
   "source": [
    "!cat ../../wsj/s5/path.sh"
   ]
  },
  {
   "cell_type": "code",
   "execution_count": 16,
   "id": "valid-tuning",
   "metadata": {
    "execution": {
     "iopub.execute_input": "2021-06-22T22:11:35.088606Z",
     "iopub.status.busy": "2021-06-22T22:11:35.087706Z",
     "iopub.status.idle": "2021-06-22T22:11:35.093339Z",
     "shell.execute_reply": "2021-06-22T22:11:35.092101Z",
     "shell.execute_reply.started": "2021-06-22T12:00:36.247262Z"
    },
    "papermill": {
     "duration": 0.040182,
     "end_time": "2021-06-22T22:11:35.093558",
     "exception": false,
     "start_time": "2021-06-22T22:11:35.053376",
     "status": "completed"
    },
    "tags": []
   },
   "outputs": [
    {
     "name": "stdout",
     "output_type": "stream",
     "text": [
      "env: LC_ALL=C\n"
     ]
    }
   ],
   "source": [
    "%env LC_ALL=C\n",
    "#PWD = !pwd\n",
    "PWD = '/opt/kaldi/egs/usels/s5'\n",
    "KALDI_ROOT = '/opt/kaldi'\n",
    "WSJ_PATH = f'{PWD}/utils/:{KALDI_ROOT}/tools/openfst/bin:{PWD}:{EXISTING_PATH}'"
   ]
  },
  {
   "cell_type": "code",
   "execution_count": 17,
   "id": "assigned-warrior",
   "metadata": {
    "execution": {
     "iopub.execute_input": "2021-06-22T22:11:35.162055Z",
     "iopub.status.busy": "2021-06-22T22:11:35.161327Z",
     "iopub.status.idle": "2021-06-22T22:11:35.903273Z",
     "shell.execute_reply": "2021-06-22T22:11:35.902635Z",
     "shell.execute_reply.started": "2021-06-22T11:57:02.231388Z"
    },
    "papermill": {
     "duration": 0.779079,
     "end_time": "2021-06-22T22:11:35.903416",
     "exception": false,
     "start_time": "2021-06-22T22:11:35.124337",
     "status": "completed"
    },
    "tags": []
   },
   "outputs": [
    {
     "name": "stdout",
     "output_type": "stream",
     "text": [
      "# we assume KALDI_ROOT is already defined\r\n",
      "[ -z \"$KALDI_ROOT\" ] && echo >&2 \"The variable KALDI_ROOT must be already defined\" && exit 1\r\n",
      "# The formatting of the path export command is intentionally weird, because\r\n",
      "# this allows for easy diff'ing\r\n",
      "export PATH=\\\r\n",
      "${KALDI_ROOT}/src/bin:\\\r\n",
      "${KALDI_ROOT}/src/chainbin:\\\r\n",
      "${KALDI_ROOT}/src/featbin:\\\r\n",
      "${KALDI_ROOT}/src/fgmmbin:\\\r\n",
      "${KALDI_ROOT}/src/fstbin:\\\r\n",
      "${KALDI_ROOT}/src/gmmbin:\\\r\n",
      "${KALDI_ROOT}/src/ivectorbin:\\\r\n",
      "${KALDI_ROOT}/src/kwsbin:\\\r\n",
      "${KALDI_ROOT}/src/latbin:\\\r\n",
      "${KALDI_ROOT}/src/lmbin:\\\r\n",
      "${KALDI_ROOT}/src/nnet2bin:\\\r\n",
      "${KALDI_ROOT}/src/nnet3bin:\\\r\n",
      "${KALDI_ROOT}/src/nnetbin:\\\r\n",
      "${KALDI_ROOT}/src/online2bin:\\\r\n",
      "${KALDI_ROOT}/src/onlinebin:\\\r\n",
      "${KALDI_ROOT}/src/rnnlmbin:\\\r\n",
      "${KALDI_ROOT}/src/sgmm2bin:\\\r\n",
      "${KALDI_ROOT}/src/sgmmbin:\\\r\n",
      "${KALDI_ROOT}/src/tfrnnlmbin:\\\r\n",
      "${KALDI_ROOT}/src/cudadecoderbin:\\\r\n",
      "$PATH\r\n"
     ]
    }
   ],
   "source": [
    "!cat $KALDI_ROOT/tools/config/common_path.sh"
   ]
  },
  {
   "cell_type": "code",
   "execution_count": 18,
   "id": "pointed-simulation",
   "metadata": {
    "execution": {
     "iopub.execute_input": "2021-06-22T22:11:35.968402Z",
     "iopub.status.busy": "2021-06-22T22:11:35.967518Z",
     "iopub.status.idle": "2021-06-22T22:11:35.995252Z",
     "shell.execute_reply": "2021-06-22T22:11:35.995689Z",
     "shell.execute_reply.started": "2021-06-22T11:56:52.862746Z"
    },
    "papermill": {
     "duration": 0.062595,
     "end_time": "2021-06-22T22:11:35.995861",
     "exception": false,
     "start_time": "2021-06-22T22:11:35.933266",
     "status": "completed"
    },
    "tags": []
   },
   "outputs": [],
   "source": [
    "#kaldi_paths=!cat $KALDI_ROOT/tools/config/common_path.sh|grep '/src/'|awk -F':' '{print $1}'|awk -F'/' '{print $NF}'|tr '\\n' ':'\n",
    "raw_kaldi_paths=!cat $KALDI_ROOT/tools/config/common_path.sh|grep '/src/'|awk -F':' '{print $1}'|awk -F'/' '{print \"/opt/kaldi/src/\"$NF}'"
   ]
  },
  {
   "cell_type": "code",
   "execution_count": 19,
   "id": "controlling-limitation",
   "metadata": {
    "execution": {
     "iopub.execute_input": "2021-06-22T22:11:36.060236Z",
     "iopub.status.busy": "2021-06-22T22:11:36.059412Z",
     "iopub.status.idle": "2021-06-22T22:11:36.062360Z",
     "shell.execute_reply": "2021-06-22T22:11:36.061868Z",
     "shell.execute_reply.started": "2021-06-22T12:02:21.567242Z"
    },
    "papermill": {
     "duration": 0.036191,
     "end_time": "2021-06-22T22:11:36.062491",
     "exception": false,
     "start_time": "2021-06-22T22:11:36.026300",
     "status": "completed"
    },
    "tags": []
   },
   "outputs": [],
   "source": [
    "KALDI_PATHS=raw_kaldi_paths.nlstr.replace('\\n',':')"
   ]
  },
  {
   "cell_type": "code",
   "execution_count": 20,
   "id": "fluid-thread",
   "metadata": {
    "execution": {
     "iopub.execute_input": "2021-06-22T22:11:36.135616Z",
     "iopub.status.busy": "2021-06-22T22:11:36.129972Z",
     "iopub.status.idle": "2021-06-22T22:11:36.865631Z",
     "shell.execute_reply": "2021-06-22T22:11:36.865105Z",
     "shell.execute_reply.started": "2021-06-22T11:56:58.4537Z"
    },
    "papermill": {
     "duration": 0.773294,
     "end_time": "2021-06-22T22:11:36.865778",
     "exception": false,
     "start_time": "2021-06-22T22:11:36.092484",
     "status": "completed"
    },
    "tags": []
   },
   "outputs": [
    {
     "name": "stdout",
     "output_type": "stream",
     "text": [
      "export PATH=/opt/kaldi/tools/python:${PATH}\r\n",
      "export PHONETISAURUS=\"/tmp/output/opt/kaldi/tools/phonetisaurus-g2p\"\r\n",
      "export PATH=\"$PATH:${PHONETISAURUS}:${PHONETISAURUS}/src/scripts\"\r\n"
     ]
    }
   ],
   "source": [
    "!cat $KALDI_ROOT/tools/env.sh"
   ]
  },
  {
   "cell_type": "code",
   "execution_count": 21,
   "id": "alike-signature",
   "metadata": {
    "execution": {
     "iopub.execute_input": "2021-06-22T22:11:36.930330Z",
     "iopub.status.busy": "2021-06-22T22:11:36.929704Z",
     "iopub.status.idle": "2021-06-22T22:11:36.932616Z",
     "shell.execute_reply": "2021-06-22T22:11:36.932069Z",
     "shell.execute_reply.started": "2021-06-22T12:02:09.80754Z"
    },
    "papermill": {
     "duration": 0.037806,
     "end_time": "2021-06-22T22:11:36.932755",
     "exception": false,
     "start_time": "2021-06-22T22:11:36.894949",
     "status": "completed"
    },
    "tags": []
   },
   "outputs": [],
   "source": [
    "PHONETISAURUS = \"/tmp/output/opt/kaldi/tools/phonetisaurus-g2p\"\n",
    "TOOLS_PATH = f'/opt/kaldi/tools/python:{PHONETISAURUS}:{PHONETISAURUS}/src/scripts'"
   ]
  },
  {
   "cell_type": "code",
   "execution_count": 22,
   "id": "sunrise-traffic",
   "metadata": {
    "execution": {
     "iopub.execute_input": "2021-06-22T22:11:36.996144Z",
     "iopub.status.busy": "2021-06-22T22:11:36.995455Z",
     "iopub.status.idle": "2021-06-22T22:11:36.999809Z",
     "shell.execute_reply": "2021-06-22T22:11:36.999132Z",
     "shell.execute_reply.started": "2021-06-22T12:03:04.119662Z"
    },
    "papermill": {
     "duration": 0.037894,
     "end_time": "2021-06-22T22:11:37.000002",
     "exception": false,
     "start_time": "2021-06-22T22:11:36.962108",
     "status": "completed"
    },
    "tags": []
   },
   "outputs": [
    {
     "name": "stdout",
     "output_type": "stream",
     "text": [
      "env: PATH=f\"/opt/kaldi/egs/usels/s5/utils/:/opt/kaldi/tools/openfst/bin:/opt/kaldi/egs/usels/s5:/opt/conda/bin:/usr/local/sbin:/usr/local/bin:/usr/sbin:/usr/bin:/sbin:/bin:/opt/kaldi/src/bin:/opt/kaldi/src/chainbin:/opt/kaldi/src/featbin:/opt/kaldi/src/fgmmbin:/opt/kaldi/src/fstbin:/opt/kaldi/src/gmmbin:/opt/kaldi/src/ivectorbin:/opt/kaldi/src/kwsbin:/opt/kaldi/src/latbin:/opt/kaldi/src/lmbin:/opt/kaldi/src/nnet2bin:/opt/kaldi/src/nnet3bin:/opt/kaldi/src/nnetbin:/opt/kaldi/src/online2bin:/opt/kaldi/src/onlinebin:/opt/kaldi/src/rnnlmbin:/opt/kaldi/src/sgmm2bin:/opt/kaldi/src/sgmmbin:/opt/kaldi/src/tfrnnlmbin:/opt/kaldi/src/cudadecoderbin:/opt/kaldi/tools/python:/tmp/output/opt/kaldi/tools/phonetisaurus-g2p:/tmp/output/opt/kaldi/tools/phonetisaurus-g2p/src/scripts\"\n"
     ]
    }
   ],
   "source": [
    "%env PATH = f\"{WSJ_PATH}:{KALDI_PATHS}:{TOOLS_PATH}\""
   ]
  },
  {
   "cell_type": "code",
   "execution_count": 23,
   "id": "stylish-astrology",
   "metadata": {
    "execution": {
     "iopub.execute_input": "2021-06-22T22:11:37.071454Z",
     "iopub.status.busy": "2021-06-22T22:11:37.067269Z",
     "iopub.status.idle": "2021-06-22T22:11:37.820410Z",
     "shell.execute_reply": "2021-06-22T22:11:37.819794Z",
     "shell.execute_reply.started": "2021-06-22T12:16:15.76424Z"
    },
    "papermill": {
     "duration": 0.787298,
     "end_time": "2021-06-22T22:11:37.820544",
     "exception": false,
     "start_time": "2021-06-22T22:11:37.033246",
     "status": "completed"
    },
    "tags": []
   },
   "outputs": [
    {
     "name": "stdout",
     "output_type": "stream",
     "text": [
      "# you can change cmd.sh depending on what type of queue you are using.\r\n",
      "# If you have no queueing system and want to run on a local machine, you\r\n",
      "# can change all instances 'queue.pl' to run.pl (but be careful and run\r\n",
      "# commands one by one: most recipes will exhaust the memory on your\r\n",
      "# machine).  queue.pl works with GridEngine (qsub).  slurm.pl works\r\n",
      "# with slurm.  Different queues are configured differently, with different\r\n",
      "# queue names and different ways of specifying things like memory;\r\n",
      "# to account for these differences you can create and edit the file\r\n",
      "# conf/queue.conf to match your queue's configuration.  Search for\r\n",
      "# conf/queue.conf in http://kaldi-asr.org/doc/queue.html for more information,\r\n",
      "# or search for the string 'default_config' in utils/queue.pl or utils/slurm.pl.\r\n",
      "\r\n",
      "export train_cmd=queue.pl\r\n",
      "export decode_cmd=\"queue.pl --mem 2G\"\r\n",
      "# the use of cuda_cmd is deprecated, used only in 'nnet1',\r\n",
      "export cuda_cmd=\"queue.pl --gpu 1\"\r\n",
      "\r\n",
      "if [ \"$(hostname -d)\" == \"fit.vutbr.cz\" ]; then\r\n",
      "  queue_conf=$HOME/queue_conf/default.conf # see example /homes/kazi/iveselyk/queue_conf/default.conf,\r\n",
      "  export train_cmd=\"queue.pl --config $queue_conf --mem 2G --matylda 0.2\"\r\n",
      "  export decode_cmd=\"queue.pl --config $queue_conf --mem 3G --matylda 0.1\"\r\n",
      "  export cuda_cmd=\"queue.pl --config $queue_conf --gpu 1 --mem 10G --tmp 40G\"\r\n",
      "fi\r\n"
     ]
    }
   ],
   "source": [
    "!cat ../../wsj/s5/cmd.sh"
   ]
  },
  {
   "cell_type": "code",
   "execution_count": 24,
   "id": "peripheral-productivity",
   "metadata": {
    "execution": {
     "iopub.execute_input": "2021-06-22T22:11:37.884600Z",
     "iopub.status.busy": "2021-06-22T22:11:37.884015Z",
     "iopub.status.idle": "2021-06-22T22:11:37.886824Z",
     "shell.execute_reply": "2021-06-22T22:11:37.887259Z",
     "shell.execute_reply.started": "2021-06-22T12:25:36.054695Z"
    },
    "papermill": {
     "duration": 0.037552,
     "end_time": "2021-06-22T22:11:37.887420",
     "exception": false,
     "start_time": "2021-06-22T22:11:37.849868",
     "status": "completed"
    },
    "tags": []
   },
   "outputs": [
    {
     "name": "stdout",
     "output_type": "stream",
     "text": [
      "env: train_cmd=run.pl\n",
      "env: decode_cmd=run.pl\n"
     ]
    }
   ],
   "source": [
    "%env train_cmd=run.pl\n",
    "%env decode_cmd=run.pl"
   ]
  },
  {
   "cell_type": "code",
   "execution_count": 25,
   "id": "focal-switzerland",
   "metadata": {
    "execution": {
     "iopub.execute_input": "2021-06-22T22:11:37.956681Z",
     "iopub.status.busy": "2021-06-22T22:11:37.952910Z",
     "iopub.status.idle": "2021-06-22T22:11:40.870782Z",
     "shell.execute_reply": "2021-06-22T22:11:40.870157Z",
     "shell.execute_reply.started": "2021-06-22T12:25:39.332426Z"
    },
    "papermill": {
     "duration": 2.953789,
     "end_time": "2021-06-22T22:11:40.870913",
     "exception": false,
     "start_time": "2021-06-22T22:11:37.917124",
     "status": "completed"
    },
    "tags": []
   },
   "outputs": [],
   "source": [
    "!ln -s ../../wsj/s5/cmd.sh\n",
    "!ln -s ../../wsj/s5/path.sh\n",
    "!ln -s utils/queue.pl\n",
    "!ln -s utils/run.pl"
   ]
  },
  {
   "cell_type": "code",
   "execution_count": 26,
   "id": "nearby-marshall",
   "metadata": {
    "execution": {
     "iopub.execute_input": "2021-06-22T22:11:40.941742Z",
     "iopub.status.busy": "2021-06-22T22:11:40.941095Z",
     "iopub.status.idle": "2021-06-22T22:11:41.684215Z",
     "shell.execute_reply": "2021-06-22T22:11:41.684679Z",
     "shell.execute_reply.started": "2021-06-22T12:25:11.355403Z"
    },
    "papermill": {
     "duration": 0.784711,
     "end_time": "2021-06-22T22:11:41.684841",
     "exception": false,
     "start_time": "2021-06-22T22:11:40.900130",
     "status": "completed"
    },
    "tags": []
   },
   "outputs": [],
   "source": [
    "!rm *.pl"
   ]
  },
  {
   "cell_type": "markdown",
   "id": "massive-yellow",
   "metadata": {
    "papermill": {
     "duration": 0.03167,
     "end_time": "2021-06-22T22:11:41.745774",
     "exception": false,
     "start_time": "2021-06-22T22:11:41.714104",
     "status": "completed"
    },
    "tags": []
   },
   "source": [
    "## Data prep"
   ]
  },
  {
   "cell_type": "code",
   "execution_count": 27,
   "id": "objective-listening",
   "metadata": {
    "execution": {
     "iopub.execute_input": "2021-06-22T22:11:41.819627Z",
     "iopub.status.busy": "2021-06-22T22:11:41.815558Z",
     "iopub.status.idle": "2021-06-22T22:11:54.262366Z",
     "shell.execute_reply": "2021-06-22T22:11:54.261735Z",
     "shell.execute_reply.started": "2021-06-22T12:10:48.153674Z"
    },
    "papermill": {
     "duration": 12.484166,
     "end_time": "2021-06-22T22:11:54.262496",
     "exception": false,
     "start_time": "2021-06-22T22:11:41.778330",
     "status": "completed"
    },
    "tags": []
   },
   "outputs": [
    {
     "name": "stdout",
     "output_type": "stream",
     "text": [
      "utils/validate_data_dir.sh: Successfully validated data-directory data/test-other\r\n",
      "local/data_prep.sh: successfully prepared data in data/test-other\r\n",
      "utils/validate_data_dir.sh: Successfully validated data-directory data/test-clean\r\n",
      "local/data_prep.sh: successfully prepared data in data/test-clean\r\n"
     ]
    }
   ],
   "source": [
    "!local/data_prep.sh /kaggle/input/librispeech-test-clean-and-other/LibriSpeech/test-other data/test-other\n",
    "!local/data_prep.sh /kaggle/input/librispeech-test-clean-and-other/LibriSpeech/test-clean data/test-clean"
   ]
  },
  {
   "cell_type": "code",
   "execution_count": 28,
   "id": "finite-investment",
   "metadata": {
    "execution": {
     "iopub.execute_input": "2021-06-22T22:11:54.331478Z",
     "iopub.status.busy": "2021-06-22T22:11:54.327366Z",
     "iopub.status.idle": "2021-06-22T22:11:56.269194Z",
     "shell.execute_reply": "2021-06-22T22:11:56.268587Z",
     "shell.execute_reply.started": "2021-06-22T12:12:48.716774Z"
    },
    "papermill": {
     "duration": 1.97616,
     "end_time": "2021-06-22T22:11:56.269338",
     "exception": false,
     "start_time": "2021-06-22T22:11:54.293178",
     "status": "completed"
    },
    "tags": []
   },
   "outputs": [
    {
     "name": "stdout",
     "output_type": "stream",
     "text": [
      "utils/copy_data_dir.sh: copied data from data/test-clean to data/test-clean_hires\r\n",
      "utils/validate_data_dir.sh: Successfully validated data-directory data/test-clean_hires\r\n",
      "utils/copy_data_dir.sh: copied data from data/test-other to data/test-other_hires\r\n",
      "utils/validate_data_dir.sh: Successfully validated data-directory data/test-other_hires\r\n"
     ]
    }
   ],
   "source": [
    "!utils/copy_data_dir.sh data/test-clean data/test-clean_hires\n",
    "!utils/copy_data_dir.sh data/test-other data/test-other_hires"
   ]
  },
  {
   "cell_type": "code",
   "execution_count": 29,
   "id": "billion-anaheim",
   "metadata": {
    "execution": {
     "iopub.execute_input": "2021-06-22T22:11:56.339841Z",
     "iopub.status.busy": "2021-06-22T22:11:56.338935Z",
     "iopub.status.idle": "2021-06-22T22:11:57.064018Z",
     "shell.execute_reply": "2021-06-22T22:11:57.063463Z",
     "shell.execute_reply.started": "2021-06-22T12:20:32.826362Z"
    },
    "papermill": {
     "duration": 0.76212,
     "end_time": "2021-06-22T22:11:57.064159",
     "exception": false,
     "start_time": "2021-06-22T22:11:56.302039",
     "status": "completed"
    },
    "tags": []
   },
   "outputs": [],
   "source": [
    "!ln -s utils/parse_options.sh"
   ]
  },
  {
   "cell_type": "code",
   "execution_count": 30,
   "id": "expanded-behavior",
   "metadata": {
    "execution": {
     "iopub.execute_input": "2021-06-22T22:11:57.135443Z",
     "iopub.status.busy": "2021-06-22T22:11:57.133498Z",
     "iopub.status.idle": "2021-06-22T22:13:18.425551Z",
     "shell.execute_reply": "2021-06-22T22:13:18.426044Z",
     "shell.execute_reply.started": "2021-06-22T12:25:44.313451Z"
    },
    "papermill": {
     "duration": 81.331895,
     "end_time": "2021-06-22T22:13:18.426224",
     "exception": false,
     "start_time": "2021-06-22T22:11:57.094329",
     "status": "completed"
    },
    "tags": []
   },
   "outputs": [
    {
     "name": "stdout",
     "output_type": "stream",
     "text": [
      "steps/make_mfcc.sh --nj 20 --mfcc-config conf/mfcc_hires.conf --cmd run.pl data/test-clean_hires\r\n",
      "utils/validate_data_dir.sh: Successfully validated data-directory data/test-clean_hires\r\n",
      "steps/make_mfcc.sh: [info]: no segments file exists: assuming wav.scp indexed by utterance.\r\n",
      "steps/make_mfcc.sh: Succeeded creating MFCC features for test-clean_hires\r\n",
      "steps/compute_cmvn_stats.sh data/test-clean_hires\r\n",
      "Succeeded creating CMVN stats for test-clean_hires\r\n",
      "fix_data_dir.sh: kept all 2620 utterances.\r\n",
      "fix_data_dir.sh: old files are kept in data/test-clean_hires/.backup\r\n",
      "steps/make_mfcc.sh --nj 20 --mfcc-config conf/mfcc_hires.conf --cmd run.pl data/test-other_hires\r\n",
      "utils/validate_data_dir.sh: Successfully validated data-directory data/test-other_hires\r\n",
      "steps/make_mfcc.sh: [info]: no segments file exists: assuming wav.scp indexed by utterance.\r\n",
      "steps/make_mfcc.sh: Succeeded creating MFCC features for test-other_hires\r\n",
      "steps/compute_cmvn_stats.sh data/test-other_hires\r\n",
      "Succeeded creating CMVN stats for test-other_hires\r\n",
      "fix_data_dir.sh: kept all 2939 utterances.\r\n",
      "fix_data_dir.sh: old files are kept in data/test-other_hires/.backup\r\n"
     ]
    }
   ],
   "source": [
    "!steps/make_mfcc.sh --nj 20 --mfcc-config conf/mfcc_hires.conf --cmd \"$train_cmd\" data/test-clean_hires\n",
    "!steps/compute_cmvn_stats.sh data/test-clean_hires\n",
    "!utils/fix_data_dir.sh data/test-clean_hires\n",
    "!steps/make_mfcc.sh --nj 20 --mfcc-config conf/mfcc_hires.conf --cmd \"$train_cmd\" data/test-other_hires\n",
    "!steps/compute_cmvn_stats.sh data/test-other_hires\n",
    "!utils/fix_data_dir.sh data/test-other_hires\n"
   ]
  },
  {
   "cell_type": "markdown",
   "id": "determined-coverage",
   "metadata": {
    "papermill": {
     "duration": 0.034277,
     "end_time": "2021-06-22T22:13:18.494417",
     "exception": false,
     "start_time": "2021-06-22T22:13:18.460140",
     "status": "completed"
    },
    "tags": []
   },
   "source": [
    "## Extract i-vectors"
   ]
  },
  {
   "cell_type": "code",
   "execution_count": 31,
   "id": "noble-reset",
   "metadata": {
    "execution": {
     "iopub.execute_input": "2021-06-22T22:13:18.571836Z",
     "iopub.status.busy": "2021-06-22T22:13:18.571053Z",
     "iopub.status.idle": "2021-06-22T22:13:20.016386Z",
     "shell.execute_reply": "2021-06-22T22:13:20.015842Z",
     "shell.execute_reply.started": "2021-06-22T12:38:42.072847Z"
    },
    "papermill": {
     "duration": 1.488372,
     "end_time": "2021-06-22T22:13:20.016522",
     "exception": false,
     "start_time": "2021-06-22T22:13:18.528150",
     "status": "completed"
    },
    "tags": []
   },
   "outputs": [],
   "source": [
    "!ln -s /kaggle/input/kaldi-librispeech-model/exp/nnet3_cleaned/ exp/nnet3_cleaned\n",
    "!ln -s /kaggle/input/kaldi-librispeech-model/exp/chain_cleaned/ exp/chain_cleaned"
   ]
  },
  {
   "cell_type": "code",
   "execution_count": 32,
   "id": "temporal-yesterday",
   "metadata": {
    "execution": {
     "iopub.execute_input": "2021-06-22T22:13:20.098599Z",
     "iopub.status.busy": "2021-06-22T22:13:20.095158Z",
     "iopub.status.idle": "2021-06-22T22:14:25.750882Z",
     "shell.execute_reply": "2021-06-22T22:14:25.750375Z",
     "shell.execute_reply.started": "2021-06-22T12:44:16.329652Z"
    },
    "papermill": {
     "duration": 65.700389,
     "end_time": "2021-06-22T22:14:25.751061",
     "exception": false,
     "start_time": "2021-06-22T22:13:20.050672",
     "status": "completed"
    },
    "tags": []
   },
   "outputs": [
    {
     "name": "stdout",
     "output_type": "stream",
     "text": [
      "env: nspk=$(wc -l <data/test-clean_hires/spk2utt)\n",
      "steps/online/nnet2/extract_ivectors_online.sh --cmd run.pl --nj $(wc -l <data/test-clean_hires/spk2utt) data/test-clean_hires exp/nnet3_cleaned/extractor exp/nnet3_cleaned_out/ivectors_test-clean_hires\r\n",
      "steps/online/nnet2/extract_ivectors_online.sh: extracting iVectors\r\n",
      "steps/online/nnet2/extract_ivectors_online.sh: combining iVectors across jobs\r\n",
      "steps/online/nnet2/extract_ivectors_online.sh: done extracting (online) iVectors to exp/nnet3_cleaned_out/ivectors_test-clean_hires using the extractor in exp/nnet3_cleaned/extractor.\r\n",
      "env: nspk=$(wc -l <data/test-other_hires/spk2utt)\n",
      "steps/online/nnet2/extract_ivectors_online.sh --cmd run.pl --nj $(wc -l <data/test-other_hires/spk2utt) data/test-other_hires exp/nnet3_cleaned/extractor exp/nnet3_cleaned_out/ivectors_test-other_hires\r\n",
      "steps/online/nnet2/extract_ivectors_online.sh: extracting iVectors\r\n",
      "steps/online/nnet2/extract_ivectors_online.sh: combining iVectors across jobs\r\n",
      "steps/online/nnet2/extract_ivectors_online.sh: done extracting (online) iVectors to exp/nnet3_cleaned_out/ivectors_test-other_hires using the extractor in exp/nnet3_cleaned/extractor.\r\n"
     ]
    }
   ],
   "source": [
    "%env nspk=$(wc -l <data/test-clean_hires/spk2utt)\n",
    "!steps/online/nnet2/extract_ivectors_online.sh --cmd \"$train_cmd\" --nj \"${nspk}\" data/test-clean_hires exp/nnet3_cleaned/extractor exp/nnet3_cleaned_out/ivectors_test-clean_hires\n",
    "%env nspk=$(wc -l <data/test-other_hires/spk2utt)\n",
    "!steps/online/nnet2/extract_ivectors_online.sh --cmd \"$train_cmd\" --nj \"${nspk}\" data/test-other_hires exp/nnet3_cleaned/extractor exp/nnet3_cleaned_out/ivectors_test-other_hires"
   ]
  },
  {
   "cell_type": "markdown",
   "id": "brown-cliff",
   "metadata": {
    "papermill": {
     "duration": 0.035765,
     "end_time": "2021-06-22T22:14:25.823056",
     "exception": false,
     "start_time": "2021-06-22T22:14:25.787291",
     "status": "completed"
    },
    "tags": []
   },
   "source": [
    "## Build decoding graph"
   ]
  },
  {
   "cell_type": "markdown",
   "id": "running-triumph",
   "metadata": {
    "papermill": {
     "duration": 0.036485,
     "end_time": "2021-06-22T22:14:25.896705",
     "exception": false,
     "start_time": "2021-06-22T22:14:25.860220",
     "status": "completed"
    },
    "tags": []
   },
   "source": [
    "Just linking this directory won't work, as it expects to be able to write to it (Kaldi scripts, smh)"
   ]
  },
  {
   "cell_type": "code",
   "execution_count": 33,
   "id": "respiratory-opening",
   "metadata": {
    "execution": {
     "iopub.execute_input": "2021-06-22T22:14:25.981433Z",
     "iopub.status.busy": "2021-06-22T22:14:25.977665Z",
     "iopub.status.idle": "2021-06-22T22:14:28.372432Z",
     "shell.execute_reply": "2021-06-22T22:14:28.371900Z"
    },
    "papermill": {
     "duration": 2.438789,
     "end_time": "2021-06-22T22:14:28.372567",
     "exception": false,
     "start_time": "2021-06-22T22:14:25.933778",
     "status": "completed"
    },
    "tags": []
   },
   "outputs": [],
   "source": [
    "!cp -r /kaggle/input/kaldi-librispeech-model/data/lang_test_tgsmall data"
   ]
  },
  {
   "cell_type": "code",
   "execution_count": 34,
   "id": "mature-frost",
   "metadata": {
    "execution": {
     "iopub.execute_input": "2021-06-22T22:14:28.456616Z",
     "iopub.status.busy": "2021-06-22T22:14:28.452416Z",
     "iopub.status.idle": "2021-06-22T22:17:17.805776Z",
     "shell.execute_reply": "2021-06-22T22:17:17.807094Z"
    },
    "papermill": {
     "duration": 169.39947,
     "end_time": "2021-06-22T22:17:17.808042",
     "exception": false,
     "start_time": "2021-06-22T22:14:28.408572",
     "status": "completed"
    },
    "tags": []
   },
   "outputs": [
    {
     "name": "stdout",
     "output_type": "stream",
     "text": [
      "env: tdnndir=exp/chain_cleaned/tdnn_1d_sp\n",
      "env: graph_dir=exp/chain_cleaned_out/graph_tgsmall\n",
      "tree-info exp/chain_cleaned/tdnn_1d_sp/tree \r\n",
      "tree-info exp/chain_cleaned/tdnn_1d_sp/tree \r\n",
      "fstpushspecial \r\n",
      "fsttablecompose data/lang_test_tgsmall/L_disambig.fst data/lang_test_tgsmall/G.fst \r\n",
      "fstdeterminizestar --use-log=true \r\n",
      "fstminimizeencoded \r\n",
      "fstisstochastic data/lang_test_tgsmall/tmp/LG.fst \r\n",
      "-0.0459745 -0.0466771\r\n",
      "[info]: LG not stochastic.\r\n",
      "fstcomposecontext --context-size=2 --central-position=1 --read-disambig-syms=data/lang_test_tgsmall/phones/disambig.int --write-disambig-syms=data/lang_test_tgsmall/tmp/disambig_ilabels_2_1.int data/lang_test_tgsmall/tmp/ilabels_2_1.113734 data/lang_test_tgsmall/tmp/LG.fst \r\n",
      "fstisstochastic data/lang_test_tgsmall/tmp/CLG_2_1.fst \r\n",
      "-0.0459745 -0.0466771\r\n",
      "[info]: CLG not stochastic.\r\n",
      "make-h-transducer --disambig-syms-out=exp/chain_cleaned_out/graph_tgsmall/disambig_tid.int --transition-scale=1.0 data/lang_test_tgsmall/tmp/ilabels_2_1 exp/chain_cleaned/tdnn_1d_sp/tree exp/chain_cleaned/tdnn_1d_sp/final.mdl \r\n",
      "fstdeterminizestar --use-log=true \r\n",
      "fstminimizeencoded \r\n",
      "fsttablecompose exp/chain_cleaned_out/graph_tgsmall/Ha.fst 'fstrmsymbols --remove-arcs=true --apply-to-output=true data/lang_test_tgsmall/oov.int data/lang_test_tgsmall/tmp/CLG_2_1.fst|' \r\n",
      "fstrmsymbols exp/chain_cleaned_out/graph_tgsmall/disambig_tid.int \r\n",
      "fstrmepslocal \r\n",
      "fstrmsymbols --remove-arcs=true --apply-to-output=true data/lang_test_tgsmall/oov.int data/lang_test_tgsmall/tmp/CLG_2_1.fst \r\n",
      "fstisstochastic exp/chain_cleaned_out/graph_tgsmall/HCLGa.fst \r\n",
      "3.39453 -0.209239\r\n",
      "HCLGa is not stochastic\r\n",
      "add-self-loops --self-loop-scale=1.0 --reorder=true exp/chain_cleaned/tdnn_1d_sp/final.mdl exp/chain_cleaned_out/graph_tgsmall/HCLGa.fst \r\n",
      "fstisstochastic exp/chain_cleaned_out/graph_tgsmall/HCLG.fst \r\n",
      "3.05078 -0.127788\r\n",
      "[info]: final HCLG is not stochastic.\r\n"
     ]
    }
   ],
   "source": [
    "%env tdnndir=exp/chain_cleaned/tdnn_1d_sp\n",
    "%env graph_dir=exp/chain_cleaned_out/graph_tgsmall\n",
    "!utils/mkgraph.sh --self-loop-scale 1.0 --remove-oov data/lang_test_tgsmall $tdnndir $graph_dir"
   ]
  },
  {
   "cell_type": "markdown",
   "id": "raising-charity",
   "metadata": {
    "papermill": {
     "duration": 0.040913,
     "end_time": "2021-06-22T22:17:17.888941",
     "exception": false,
     "start_time": "2021-06-22T22:17:17.848028",
     "status": "completed"
    },
    "tags": []
   },
   "source": [
    "## Decode"
   ]
  },
  {
   "cell_type": "code",
   "execution_count": 35,
   "id": "smoking-telling",
   "metadata": {
    "execution": {
     "iopub.execute_input": "2021-06-22T22:17:17.977799Z",
     "iopub.status.busy": "2021-06-22T22:17:17.977182Z",
     "iopub.status.idle": "2021-06-22T22:17:19.477109Z",
     "shell.execute_reply": "2021-06-22T22:17:19.476568Z"
    },
    "papermill": {
     "duration": 1.548532,
     "end_time": "2021-06-22T22:17:19.477246",
     "exception": false,
     "start_time": "2021-06-22T22:17:17.928714",
     "status": "completed"
    },
    "tags": []
   },
   "outputs": [
    {
     "name": "stdout",
     "output_type": "stream",
     "text": [
      "/kaggle/working/exp/tdnn_1d_sp\n",
      "/opt/kaldi/egs/usels/s5\n",
      "popd -> /opt/kaldi/egs/usels/s5\n"
     ]
    }
   ],
   "source": [
    "!mkdir exp/tdnn_1d_sp\n",
    "%pushd exp/tdnn_1d_sp\n",
    "!for i in /kaggle/input/kaldi-librispeech-model/exp/chain_cleaned/tdnn_1d_sp/*;do ln -s $i;done\n",
    "%popd"
   ]
  },
  {
   "cell_type": "code",
   "execution_count": 36,
   "id": "maritime-marker",
   "metadata": {
    "execution": {
     "iopub.execute_input": "2021-06-22T22:17:19.577402Z",
     "iopub.status.busy": "2021-06-22T22:17:19.576544Z",
     "iopub.status.idle": "2021-06-22T23:19:44.253340Z",
     "shell.execute_reply": "2021-06-22T23:19:44.254196Z"
    },
    "papermill": {
     "duration": 3744.737098,
     "end_time": "2021-06-22T23:19:44.254653",
     "exception": false,
     "start_time": "2021-06-22T22:17:19.517555",
     "status": "completed"
    },
    "tags": []
   },
   "outputs": [
    {
     "name": "stdout",
     "output_type": "stream",
     "text": [
      "env: tdnndir=exp/tdnn_1d_sp\n",
      "steps/nnet3/decode.sh --acwt 1.0 --post-decode-acwt 10.0 --nj 8 --cmd run.pl --online-ivector-dir exp/nnet3_cleaned_out/ivectors_test-clean_hires exp/chain_cleaned_out/graph_tgsmall data/test-clean_hires exp/tdnn_1d_sp/decode_test-other_tgsmall\r\n",
      "steps/nnet3/decode.sh: feature type is raw\r\n",
      "steps/diagnostic/analyze_lats.sh --cmd run.pl --iter final exp/chain_cleaned_out/graph_tgsmall exp/tdnn_1d_sp/decode_test-other_tgsmall\r\n",
      "steps/diagnostic/analyze_lats.sh: see stats in exp/tdnn_1d_sp/decode_test-other_tgsmall/log/analyze_alignments.log\r\n",
      "Overall, lattice depth (10,50,90-percentile)=(1,2,5) and mean=2.8\r\n",
      "steps/diagnostic/analyze_lats.sh: see stats in exp/tdnn_1d_sp/decode_test-other_tgsmall/log/analyze_lattice_depth_stats.log\r\n",
      "score best paths\r\n",
      "score confidence and timing with sclite\r\n",
      "Decoding done.\r\n",
      "steps/nnet3/decode.sh --acwt 1.0 --post-decode-acwt 10.0 --nj 8 --cmd run.pl --online-ivector-dir exp/nnet3_cleaned_out/ivectors_test-other_hires exp/chain_cleaned_out/graph_tgsmall data/test-other_hires exp/tdnn_1d_sp/decode_test-other_tgsmall\r\n",
      "steps/nnet3/decode.sh: feature type is raw\r\n",
      "steps/diagnostic/analyze_lats.sh --cmd run.pl --iter final exp/chain_cleaned_out/graph_tgsmall exp/tdnn_1d_sp/decode_test-other_tgsmall\r\n",
      "steps/diagnostic/analyze_lats.sh: see stats in exp/tdnn_1d_sp/decode_test-other_tgsmall/log/analyze_alignments.log\r\n",
      "Overall, lattice depth (10,50,90-percentile)=(1,3,13) and mean=6.3\r\n",
      "steps/diagnostic/analyze_lats.sh: see stats in exp/tdnn_1d_sp/decode_test-other_tgsmall/log/analyze_lattice_depth_stats.log\r\n",
      "score best paths\r\n",
      "score confidence and timing with sclite\r\n",
      "Decoding done.\r\n"
     ]
    }
   ],
   "source": [
    "%env tdnndir=exp/tdnn_1d_sp\n",
    "!steps/nnet3/decode.sh --acwt 1.0 --post-decode-acwt 10.0 --nj 8 --cmd \"$decode_cmd\" --online-ivector-dir exp/nnet3_cleaned_out/ivectors_test-clean_hires $graph_dir data/test-clean_hires $tdnndir/decode_test-other_tgsmall\n",
    "!steps/nnet3/decode.sh --acwt 1.0 --post-decode-acwt 10.0 --nj 8 --cmd \"$decode_cmd\" --online-ivector-dir exp/nnet3_cleaned_out/ivectors_test-other_hires $graph_dir data/test-other_hires $tdnndir/decode_test-other_tgsmall"
   ]
  },
  {
   "cell_type": "markdown",
   "id": "cooperative-wells",
   "metadata": {
    "papermill": {
     "duration": 0.060558,
     "end_time": "2021-06-22T23:19:44.376814",
     "exception": false,
     "start_time": "2021-06-22T23:19:44.316256",
     "status": "completed"
    },
    "tags": []
   },
   "source": [
    "## Score"
   ]
  },
  {
   "cell_type": "code",
   "execution_count": 37,
   "id": "better-terrorist",
   "metadata": {
    "execution": {
     "iopub.execute_input": "2021-06-22T23:19:44.514244Z",
     "iopub.status.busy": "2021-06-22T23:19:44.513516Z",
     "iopub.status.idle": "2021-06-22T23:21:11.753068Z",
     "shell.execute_reply": "2021-06-22T23:21:11.753562Z"
    },
    "papermill": {
     "duration": 87.316049,
     "end_time": "2021-06-22T23:21:11.753769",
     "exception": false,
     "start_time": "2021-06-22T23:19:44.437720",
     "status": "completed"
    },
    "tags": []
   },
   "outputs": [
    {
     "name": "stdout",
     "output_type": "stream",
     "text": [
      "steps/score_kaldi.sh --cmd run.pl data/test-clean_hires exp/chain_cleaned_out/graph_tgsmall exp/tdnn_1d_sp/decode_test-clean_tgsmall\r\n",
      "score.sh: no such file exp/tdnn_1d_sp/decode_test-clean_tgsmall/lat.1.gz\r\n",
      "steps/score_kaldi.sh --cmd run.pl data/test-other_hires exp/chain_cleaned_out/graph_tgsmall exp/tdnn_1d_sp/decode_test-other_tgsmall\r\n",
      "steps/score_kaldi.sh: scoring with word insertion penalty=0.0,0.5,1.0\r\n"
     ]
    }
   ],
   "source": [
    "!steps/score_kaldi.sh --cmd \"run.pl\" data/test-clean_hires $graph_dir $tdnndir/decode_test-clean_tgsmall\n",
    "!steps/score_kaldi.sh --cmd \"run.pl\" data/test-other_hires $graph_dir $tdnndir/decode_test-other_tgsmall"
   ]
  },
  {
   "cell_type": "code",
   "execution_count": 38,
   "id": "brown-wyoming",
   "metadata": {
    "execution": {
     "iopub.execute_input": "2021-06-22T23:21:11.891222Z",
     "iopub.status.busy": "2021-06-22T23:21:11.890400Z",
     "iopub.status.idle": "2021-06-22T23:21:13.335539Z",
     "shell.execute_reply": "2021-06-22T23:21:13.336094Z"
    },
    "papermill": {
     "duration": 1.520046,
     "end_time": "2021-06-22T23:21:13.336272",
     "exception": false,
     "start_time": "2021-06-22T23:21:11.816226",
     "status": "completed"
    },
    "tags": []
   },
   "outputs": [
    {
     "name": "stdout",
     "output_type": "stream",
     "text": [
      "cat: exp/tdnn_1d_sp/decode_test-clean_tgsmall/scoring_kaldi/best_wer: No such file or directory\r\n",
      "%WER 17.92 [ 9378 / 52343, 1384 ins, 723 del, 7271 sub ] exp/tdnn_1d_sp/decode_test-other_tgsmall/wer_17_1.0\r\n"
     ]
    }
   ],
   "source": [
    "!cat exp/tdnn_1d_sp/decode_test-clean_tgsmall/scoring_kaldi/best_wer\n",
    "!cat exp/tdnn_1d_sp/decode_test-other_tgsmall/scoring_kaldi/best_wer"
   ]
  },
  {
   "cell_type": "markdown",
   "id": "covered-venture",
   "metadata": {
    "papermill": {
     "duration": 0.062603,
     "end_time": "2021-06-22T23:21:13.572204",
     "exception": false,
     "start_time": "2021-06-22T23:21:13.509601",
     "status": "completed"
    },
    "tags": []
   },
   "source": [
    "## Rescoring"
   ]
  },
  {
   "cell_type": "code",
   "execution_count": 39,
   "id": "efficient-moral",
   "metadata": {
    "execution": {
     "iopub.execute_input": "2021-06-22T23:21:13.712127Z",
     "iopub.status.busy": "2021-06-22T23:21:13.707278Z",
     "iopub.status.idle": "2021-06-22T23:21:15.161495Z",
     "shell.execute_reply": "2021-06-22T23:21:15.160680Z"
    },
    "papermill": {
     "duration": 1.526594,
     "end_time": "2021-06-22T23:21:15.161715",
     "exception": false,
     "start_time": "2021-06-22T23:21:13.635121",
     "status": "completed"
    },
    "tags": []
   },
   "outputs": [
    {
     "name": "stdout",
     "output_type": "stream",
     "text": [
      "/kaggle/working/exp/rnnlm_lstm_1a\n",
      "/opt/kaldi/egs/usels/s5\n",
      "popd -> /opt/kaldi/egs/usels/s5\n"
     ]
    }
   ],
   "source": [
    "!mkdir exp/rnnlm_lstm_1a\n",
    "%pushd exp/rnnlm_lstm_1a\n",
    "!for i in /kaldi/input/kaldi-librispeech-model/exp/rnnlm_lstm_1a/*; do ln -s $i;done\n",
    "%popd"
   ]
  },
  {
   "cell_type": "code",
   "execution_count": 40,
   "id": "hundred-tourist",
   "metadata": {
    "execution": {
     "iopub.execute_input": "2021-06-22T23:21:15.298605Z",
     "iopub.status.busy": "2021-06-22T23:21:15.297696Z",
     "iopub.status.idle": "2021-06-22T23:21:16.018732Z",
     "shell.execute_reply": "2021-06-22T23:21:16.018126Z"
    },
    "papermill": {
     "duration": 0.790609,
     "end_time": "2021-06-22T23:21:16.018886",
     "exception": false,
     "start_time": "2021-06-22T23:21:15.228277",
     "status": "completed"
    },
    "tags": []
   },
   "outputs": [],
   "source": [
    "!ln -s /opt/kaldi/scripts/rnnlm"
   ]
  },
  {
   "cell_type": "code",
   "execution_count": 41,
   "id": "lasting-honolulu",
   "metadata": {
    "execution": {
     "iopub.execute_input": "2021-06-22T23:21:16.160187Z",
     "iopub.status.busy": "2021-06-22T23:21:16.156091Z",
     "iopub.status.idle": "2021-06-22T23:21:17.628506Z",
     "shell.execute_reply": "2021-06-22T23:21:17.627631Z"
    },
    "papermill": {
     "duration": 1.544974,
     "end_time": "2021-06-22T23:21:17.628673",
     "exception": false,
     "start_time": "2021-06-22T23:21:16.083699",
     "status": "completed"
    },
    "tags": []
   },
   "outputs": [
    {
     "name": "stdout",
     "output_type": "stream",
     "text": [
      "env: decode_dir=$tdnndir/decode_test-clean_tgsmall\n",
      "rnnlm/lmrescore_pruned.sh --cmd run.pl --weight 0.45 --max-ngram-order 4 data/lang_test_tgsmall exp/rnnlm_lstm_1a data/test-clean_hires $tdnndir/decode_test-clean_tgsmall exp/tdnn_1d_sp/decode_test-clean_rescore\r\n",
      "rnnlm/lmrescore_pruned.sh: Missing file exp/rnnlm_lstm_1a/final.raw\r\n",
      "env: decode_dir=$tdnndir/decode_test-other_tgsmall\n",
      "rnnlm/lmrescore_pruned.sh --cmd run.pl --weight 0.45 --max-ngram-order 4 data/lang_test_tgsmall exp/rnnlm_lstm_1a data/test-other_hires $tdnndir/decode_test-other_tgsmall exp/tdnn_1d_sp/decode_test-other_rescore\r\n",
      "rnnlm/lmrescore_pruned.sh: Missing file exp/rnnlm_lstm_1a/final.raw\r\n"
     ]
    }
   ],
   "source": [
    "%env decode_dir=$tdnndir/decode_test-clean_tgsmall\n",
    "!rnnlm/lmrescore_pruned.sh --cmd \"$decode_cmd\" --weight 0.45 --max-ngram-order 4 data/lang_test_tgsmall exp/rnnlm_lstm_1a data/test-clean_hires ${decode_dir} $tdnndir/decode_test-clean_rescore\n",
    "%env decode_dir=$tdnndir/decode_test-other_tgsmall\n",
    "!rnnlm/lmrescore_pruned.sh --cmd \"$decode_cmd\" --weight 0.45 --max-ngram-order 4 data/lang_test_tgsmall exp/rnnlm_lstm_1a data/test-other_hires ${decode_dir} $tdnndir/decode_test-other_rescore"
   ]
  },
  {
   "cell_type": "code",
   "execution_count": 42,
   "id": "rural-ghana",
   "metadata": {
    "execution": {
     "iopub.execute_input": "2021-06-22T23:21:17.772193Z",
     "iopub.status.busy": "2021-06-22T23:21:17.771471Z",
     "iopub.status.idle": "2021-06-22T23:21:19.212929Z",
     "shell.execute_reply": "2021-06-22T23:21:19.212216Z"
    },
    "papermill": {
     "duration": 1.518631,
     "end_time": "2021-06-22T23:21:19.213124",
     "exception": false,
     "start_time": "2021-06-22T23:21:17.694493",
     "status": "completed"
    },
    "tags": []
   },
   "outputs": [
    {
     "name": "stdout",
     "output_type": "stream",
     "text": [
      "cat: exp/tdnn_1d_sp/decode_test-clean_rescore/scoring_kaldi/best_wer: No such file or directory\r\n",
      "cat: exp/tdnn_1d_sp/decode_test-other_rescore/scoring_kaldi/best_wer: No such file or directory\r\n"
     ]
    }
   ],
   "source": [
    "!cat $tdnndir/decode_test-clean_rescore/scoring_kaldi/best_wer\n",
    "!cat $tdnndir/decode_test-other_rescore/scoring_kaldi/best_wer"
   ]
  },
  {
   "cell_type": "markdown",
   "id": "anticipated-edmonton",
   "metadata": {
    "papermill": {
     "duration": 0.065532,
     "end_time": "2021-06-22T23:21:19.344911",
     "exception": false,
     "start_time": "2021-06-22T23:21:19.279379",
     "status": "completed"
    },
    "tags": []
   },
   "source": [
    "## "
   ]
  }
 ],
 "metadata": {
  "kernelspec": {
   "display_name": "Python 3",
   "language": "python",
   "name": "python3"
  },
  "language_info": {
   "codemirror_mode": {
    "name": "ipython",
    "version": 3
   },
   "file_extension": ".py",
   "mimetype": "text/x-python",
   "name": "python",
   "nbconvert_exporter": "python",
   "pygments_lexer": "ipython3",
   "version": "3.7.10"
  },
  "papermill": {
   "default_parameters": {},
   "duration": 4284.442306,
   "end_time": "2021-06-22T23:21:21.214190",
   "environment_variables": {},
   "exception": null,
   "input_path": "__notebook__.ipynb",
   "output_path": "__notebook__.ipynb",
   "parameters": {},
   "start_time": "2021-06-22T22:09:56.771884",
   "version": "2.3.3"
  }
 },
 "nbformat": 4,
 "nbformat_minor": 5
}
