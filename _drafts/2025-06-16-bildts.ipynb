{
 "cells": [
  {
   "cell_type": "markdown",
   "id": "99658a59",
   "metadata": {},
   "source": [
    "# Bildts (Blizzard Challenge 2025)\n",
    "\n",
    "> \"More interested in the normalisations than the speech\"\n",
    "\n",
    "- categories: [bildts, blizzard]\n",
    "- branch: master\n",
    "- hidden: true"
   ]
  },
  {
   "cell_type": "markdown",
   "id": "e73da34e",
   "metadata": {},
   "source": [
    "- [Blizzard Challenge 2025](https://blogs.helsinki.fi/ssw13-2025/the-blizzard-challenge-2025/)\n",
    "- [Data](https://zenodo.org/records/14995211)\n",
    "- [Language resources](https://wiki.mercator-research.eu/languages:bildts_in_the_netherlands)\n",
    "- [Grammar](https://www.debildtseboekerij.nl/product/grammatica/)\n"
   ]
  },
  {
   "cell_type": "code",
   "execution_count": null,
   "id": "9e994a53",
   "metadata": {
    "vscode": {
     "languageId": "plaintext"
    }
   },
   "outputs": [],
   "source": [
    "!pip install praatio"
   ]
  },
  {
   "cell_type": "code",
   "execution_count": null,
   "id": "7d0e710d",
   "metadata": {
    "vscode": {
     "languageId": "plaintext"
    }
   },
   "outputs": [],
   "source": [
    "!wget https://zenodo.org/records/14995211/files/bc_2025.tar.gz?download=1 -O bc_2025.tar.gz"
   ]
  },
  {
   "cell_type": "code",
   "execution_count": null,
   "id": "62c536cd",
   "metadata": {
    "vscode": {
     "languageId": "plaintext"
    }
   },
   "outputs": [],
   "source": [
    "!tar zxvf bc_2025.tar.gz"
   ]
  },
  {
   "cell_type": "code",
   "execution_count": null,
   "id": "a1d033e6",
   "metadata": {
    "vscode": {
     "languageId": "plaintext"
    }
   },
   "outputs": [],
   "source": [
    "from praatio import textgrid\n",
    "from pathlib import Path"
   ]
  },
  {
   "cell_type": "code",
   "execution_count": null,
   "id": "f1b630bd",
   "metadata": {
    "vscode": {
     "languageId": "plaintext"
    }
   },
   "outputs": [],
   "source": [
    "for tgfile in Path(\"bc_2025_training_material\").glob(\"**/*.TextGrid\"):\n",
    "    print(tgfile.stem)"
   ]
  }
 ],
 "metadata": {
  "language_info": {
   "name": "python"
  }
 },
 "nbformat": 4,
 "nbformat_minor": 5
}
