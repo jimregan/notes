{
 "cells": [
  {
   "cell_type": "code",
   "execution_count": 3,
   "metadata": {},
   "outputs": [],
   "source": [
    "from pathlib import Path\n",
    "from datetime import datetime"
   ]
  },
  {
   "cell_type": "code",
   "execution_count": 4,
   "metadata": {},
   "outputs": [],
   "source": [
    "_BASE = \"/tmp/instaloader\""
   ]
  },
  {
   "cell_type": "code",
   "execution_count": 5,
   "metadata": {},
   "outputs": [],
   "source": [
    "def get_date(filename):\n",
    "    date_part = str(filename).replace(\"_UTC.json\", \"\")\n",
    "    return datetime.strptime(date_part, '%Y-%m-%d_%H-%M-%S')"
   ]
  },
  {
   "cell_type": "code",
   "execution_count": 13,
   "metadata": {},
   "outputs": [
    {
     "name": "stdout",
     "output_type": "stream",
     "text": [
      "Woo 2022-08-31_16-04-02 2022-08-31_16-04-02\n",
      "Woo 2022-11-17_10-40-11 2022-11-17_10-40-11\n"
     ]
    }
   ],
   "source": [
    "for dir in Path(_BASE).glob(\"*\"):\n",
    "    if not dir.is_dir():\n",
    "        continue\n",
    "    xz_files = [(get_date(x.stem), x.stem) for x in dir.glob(\"2*.xz\")]\n",
    "    if not xz_files:\n",
    "        continue\n",
    "    if len(xz_files) == 1:\n",
    "        continue\n",
    "    newest = sorted(xz_files, reverse=True)[0][1]\n",
    "    newest = newest.replace(\"_UTC.json\", \"\")\n",
    "    for ckfile in dir.glob(\"2*.xz\"):\n",
    "        fstem = ckfile.stem.replace(\"_UTC.json\", \"\")\n",
    "        if fstem == newest:\n",
    "            continue\n",
    "        else:\n",
    "            for file_in_set in dir.glob(f\"{fstem}*\"):\n",
    "                file_in_set.unlink()"
   ]
  }
 ],
 "metadata": {
  "kernelspec": {
   "display_name": "ctcseg",
   "language": "python",
   "name": "python3"
  },
  "language_info": {
   "codemirror_mode": {
    "name": "ipython",
    "version": 3
   },
   "file_extension": ".py",
   "mimetype": "text/x-python",
   "name": "python",
   "nbconvert_exporter": "python",
   "pygments_lexer": "ipython3",
   "version": "3.10.4"
  },
  "orig_nbformat": 4,
  "vscode": {
   "interpreter": {
    "hash": "04f1aebeda7ca92f6170d2806fa3f3c0cbb14da723fd908a9af630117dfe1004"
   }
  }
 },
 "nbformat": 4,
 "nbformat_minor": 2
}
