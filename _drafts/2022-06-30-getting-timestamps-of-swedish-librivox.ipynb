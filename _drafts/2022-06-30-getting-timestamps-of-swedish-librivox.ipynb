{
  "cells": [
    {
      "cell_type": "markdown",
      "metadata": {
        "id": "Wm2nXAnR3HXm"
      },
      "source": [
        "# Getting timestamps of Swedish Librivox\n",
        "\n",
        "> \"With wav2vec2 and HuggingFace transformers\"\n",
        "\n",
        "- tok: false\n",
        "- branch: master\n",
        "- comments: true\n",
        "- categories: [long audio, wav2vec2, huggingface, timestamps, librivox, swedish]\n"
      ]
    },
    {
      "cell_type": "code",
      "execution_count": 2,
      "metadata": {
        "id": "wKSZXGoJiVhj"
      },
      "outputs": [],
      "source": [
        "DATA = \"\"\"\n",
        "#avskedssang\thttps://www.archive.org/download/multilingual_poetry_018_1112_lv/swedish_avskedssang_andersson_e.mp3\thttp://runeberg.org/daefter/12.html\tElin\thttps://librivox.org/reader/6686\tf\n",
        "efter_torgdagen\thttps://www.archive.org/download/mshortworks_001_1202_librivox/msw001_19_eftertorsdagen_benedictsson_at.mp3\thttps://litteraturbanken.se/f%C3%B6rfattare/BenedictssonV/titlar/Ber%C3%A4ttelserOchUtkast/sida/126/etext\towly\thttps://librivox.org/reader/2857\tf\n",
        "en_saga_om_vreden\thttps://ia800801.us.archive.org/0/items/mshortworks_001_1202_librivox/msw001_12_en_saga_om_vreden_runeberg_jb.mp3\thttp://web.archive.org/web/20190814032041/http://freetexthost.com:80/bcp31m60i4\tJohan Borg\thttps://librivox.org/reader/5958\tm\n",
        "elin_i_hagen\thttps://www.archive.org/download/multilingual_poetry_014_1002/swedish_elinihagen_froding_ear.mp3\thttp://runeberg.org/dragharm/elinhage.html\tElina Riuttanen\thttps://librivox.org/reader/4498\tf\n",
        "djaeknarne_01\thttps://www.archive.org/download/vandrande_draeknarne_0907_librivox/djaeknarne_01_rydberg.mp3\thttps://www.gutenberg.org/cache/epub/9827/pg9827.txt\tLars Rolander (1942-2016)\thttps://librivox.org/reader/2234\tm\n",
        "djaeknarne_02\thttps://www.archive.org/download/vandrande_draeknarne_0907_librivox/djaeknarne_02_rydberg.mp3\thttps://www.gutenberg.org/cache/epub/9827/pg9827.txt\tLars Rolander (1942-2016)\thttps://librivox.org/reader/2234\tm\n",
        "djaeknarne_03\thttps://www.archive.org/download/vandrande_draeknarne_0907_librivox/djaeknarne_03_rydberg.mp3\thttps://www.gutenberg.org/cache/epub/9827/pg9827.txt\tLars Rolander (1942-2016)\thttps://librivox.org/reader/2234\tm\n",
        "djaeknarne_04\thttps://www.archive.org/download/vandrande_draeknarne_0907_librivox/djaeknarne_04_rydberg.mp3\thttps://www.gutenberg.org/cache/epub/9827/pg9827.txt\tLars Rolander (1942-2016)\thttps://librivox.org/reader/2234\tm\n",
        "djaeknarne_05\thttps://www.archive.org/download/vandrande_draeknarne_0907_librivox/djaeknarne_05_rydberg.mp3\thttps://www.gutenberg.org/cache/epub/9827/pg9827.txt\tLars Rolander (1942-2016)\thttps://librivox.org/reader/2234\tm\n",
        "djaeknarne_06\thttps://www.archive.org/download/vandrande_draeknarne_0907_librivox/djaeknarne_06_rydberg.mp3\thttps://www.gutenberg.org/cache/epub/9827/pg9827.txt\tLars Rolander (1942-2016)\thttps://librivox.org/reader/2234\tm\n",
        "djaeknarne_07\thttps://www.archive.org/download/vandrande_draeknarne_0907_librivox/djaeknarne_07_rydberg.mp3\thttps://www.gutenberg.org/cache/epub/9827/pg9827.txt\tLars Rolander (1942-2016)\thttps://librivox.org/reader/2234\tm\n",
        "djaeknarne_08\thttps://www.archive.org/download/vandrande_draeknarne_0907_librivox/djaeknarne_08_rydberg.mp3\thttps://www.gutenberg.org/cache/epub/9827/pg9827.txt\tLars Rolander (1942-2016)\thttps://librivox.org/reader/2234\tm\n",
        "djaeknarne_09\thttps://www.archive.org/download/vandrande_draeknarne_0907_librivox/djaeknarne_09_rydberg.mp3\thttps://www.gutenberg.org/cache/epub/9827/pg9827.txt\tLars Rolander (1942-2016)\thttps://librivox.org/reader/2234\tm\n",
        "djaeknarne_10\thttps://www.archive.org/download/vandrande_draeknarne_0907_librivox/djaeknarne_10_rydberg.mp3\thttps://www.gutenberg.org/cache/epub/9827/pg9827.txt\tLars Rolander (1942-2016)\thttps://librivox.org/reader/2234\tm\n",
        "djaeknarne_11\thttps://www.archive.org/download/vandrande_draeknarne_0907_librivox/djaeknarne_11_rydberg.mp3\thttps://www.gutenberg.org/cache/epub/9827/pg9827.txt\tLars Rolander (1942-2016)\thttps://librivox.org/reader/2234\tm\n",
        "djaeknarne_12\thttps://www.archive.org/download/vandrande_draeknarne_0907_librivox/djaeknarne_12_rydberg.mp3\thttps://www.gutenberg.org/cache/epub/9827/pg9827.txt\tLars Rolander (1942-2016)\thttps://librivox.org/reader/2234\tm\n",
        "elddonet\thttps://ia903002.us.archive.org/29/items/skandinaviskaaventyr_1907_librivox/skandinaviskaeventyr_01_various_64kb.mp3\thttp://runeberg.org/hcasob/1/0003.html\tRikard Peterson\thttps://librivox.org/reader/10462\tm\n",
        "for_morgonbris\thttps://www.archive.org/download/multilingual_poetry_collection_007_librivox/swedish_for_morgonbris_tavaststjerna_ck.mp3\thttps://web.archive.org/web/20100413161537/http://www.omnibus.se:80/cgi-bin/ebokinfo.pl?eB=395-1\tCecilia\thttps://librivox.org/reader/919\tf\n",
        "goteborgsflickor_01\thttps://www.archive.org/download/goteborgsflickor_1005_librivox/goteborgsflickor_01_stroemberg.mp3\thttps://www.gutenberg.org/files/18043/18043-0.txt\t  Lars Rolander (1942-2016) https://librivox.org/reader/2234  m\n",
        "goteborgsflickor_02\thttps://www.archive.org/download/goteborgsflickor_1005_librivox/goteborgsflickor_02_stroemberg.mp3\thttps://www.gutenberg.org/files/18043/18043-0.txt\t  Lars Rolander (1942-2016) https://librivox.org/reader/2234  m\n",
        "goteborgsflickor_03\thttps://www.archive.org/download/goteborgsflickor_1005_librivox/goteborgsflickor_03_stroemberg.mp3\thttps://www.gutenberg.org/files/18043/18043-0.txt\t  Lars Rolander (1942-2016) https://librivox.org/reader/2234  m\n",
        "goteborgsflickor_04\thttps://www.archive.org/download/goteborgsflickor_1005_librivox/goteborgsflickor_04_stroemberg.mp3\thttps://www.gutenberg.org/files/18043/18043-0.txt\t  Lars Rolander (1942-2016) https://librivox.org/reader/2234  m\n",
        "goteborgsflickor_05\thttps://www.archive.org/download/goteborgsflickor_1005_librivox/goteborgsflickor_05_stroemberg.mp3\thttps://www.gutenberg.org/files/18043/18043-0.txt\t  Lars Rolander (1942-2016) https://librivox.org/reader/2234  m\n",
        "goteborgsflickor_06\thttps://www.archive.org/download/goteborgsflickor_1005_librivox/goteborgsflickor_06_stroemberg.mp3\thttps://www.gutenberg.org/files/18043/18043-0.txt\t  Lars Rolander (1942-2016) https://librivox.org/reader/2234  m\n",
        "goteborgsflickor_07\thttps://www.archive.org/download/goteborgsflickor_1005_librivox/goteborgsflickor_07_stroemberg.mp3\thttps://www.gutenberg.org/files/18043/18043-0.txt\t  Lars Rolander (1942-2016) https://librivox.org/reader/2234  m\n",
        "goteborgsflickor_08\thttps://www.archive.org/download/goteborgsflickor_1005_librivox/goteborgsflickor_08_stroemberg.mp3\thttps://www.gutenberg.org/files/18043/18043-0.txt\t  Lars Rolander (1942-2016) https://librivox.org/reader/2234  m\n",
        "goteborgsflickor_09\thttps://www.archive.org/download/goteborgsflickor_1005_librivox/goteborgsflickor_09_stroemberg.mp3\thttps://www.gutenberg.org/files/18043/18043-0.txt\t  Lars Rolander (1942-2016) https://librivox.org/reader/2234  m\n",
        "goteborgsflickor_10\thttps://www.archive.org/download/goteborgsflickor_1005_librivox/goteborgsflickor_10_stroemberg.mp3\thttps://www.gutenberg.org/files/18043/18043-0.txt\t  Lars Rolander (1942-2016) https://librivox.org/reader/2234  m\n",
        "goteborgsflickor_11\thttps://www.archive.org/download/goteborgsflickor_1005_librivox/goteborgsflickor_11_stroemberg.mp3\thttps://www.gutenberg.org/files/18043/18043-0.txt\t  Lars Rolander (1942-2016) https://librivox.org/reader/2234  m\n",
        "goteborgsflickor_12\thttps://www.archive.org/download/goteborgsflickor_1005_librivox/goteborgsflickor_12_stroemberg.mp3\thttps://www.gutenberg.org/files/18043/18043-0.txt\t  Lars Rolander (1942-2016) https://librivox.org/reader/2234  m\n",
        "goteborgsflickor_13\thttps://www.archive.org/download/goteborgsflickor_1005_librivox/goteborgsflickor_13_stroemberg.mp3\thttps://www.gutenberg.org/files/18043/18043-0.txt\t  Lars Rolander (1942-2016) https://librivox.org/reader/2234  m\n",
        "goteborgsflickor_14\thttps://www.archive.org/download/goteborgsflickor_1005_librivox/goteborgsflickor_14_stroemberg.mp3\thttps://www.gutenberg.org/files/18043/18043-0.txt\t  Lars Rolander (1942-2016) https://librivox.org/reader/2234  m\n",
        "goteborgsflickor_15\thttps://www.archive.org/download/goteborgsflickor_1005_librivox/goteborgsflickor_15_stroemberg.mp3\thttps://www.gutenberg.org/files/18043/18043-0.txt\t  Lars Rolander (1942-2016) https://librivox.org/reader/2234  m\n",
        "goteborgsflickor_16\thttps://www.archive.org/download/goteborgsflickor_1005_librivox/goteborgsflickor_16_stroemberg.mp3\thttps://www.gutenberg.org/files/18043/18043-0.txt\t  Lars Rolander (1942-2016) https://librivox.org/reader/2234  m\n",
        "goteborgsflickor_17\thttps://www.archive.org/download/goteborgsflickor_1005_librivox/goteborgsflickor_17_stroemberg.mp3\thttps://www.gutenberg.org/files/18043/18043-0.txt\t  Lars Rolander (1942-2016) https://librivox.org/reader/2234  m\n",
        "goteborgsflickor_18\thttps://www.archive.org/download/goteborgsflickor_1005_librivox/goteborgsflickor_18_stroemberg.mp3\thttps://www.gutenberg.org/files/18043/18043-0.txt\t  Lars Rolander (1942-2016) https://librivox.org/reader/2234  m\n",
        "goteborgsflickor_19\thttps://www.archive.org/download/goteborgsflickor_1005_librivox/goteborgsflickor_19_stroemberg.mp3\thttps://www.gutenberg.org/files/18043/18043-0.txt\t  Lars Rolander (1942-2016) https://librivox.org/reader/2234  m\n",
        "jaochnej_01\thttps://www.archive.org/download/ja_och_nej_0903_librivox/jaochnej_01_nyblom.mp3\thttp://runeberg.org/download.pl?mode=txtzip&work=jaochnej\thttps://www.gutenberg.org/files/18043/18043-0.txt    Lars Rolander (1942-2016) https://librivox.org/reader/2234  m\n",
        "jaochnej_02\thttps://www.archive.org/download/ja_och_nej_0903_librivox/jaochnej_02_nyblom.mp3\thttp://runeberg.org/download.pl?mode=txtzip&work=jaochnej\thttps://www.gutenberg.org/files/18043/18043-0.txt    Lars Rolander (1942-2016) https://librivox.org/reader/2234  m\n",
        "jaochnej_03\thttps://www.archive.org/download/ja_och_nej_0903_librivox/jaochnej_03_nyblom.mp3\thttp://runeberg.org/download.pl?mode=txtzip&work=jaochnej\thttps://www.gutenberg.org/files/18043/18043-0.txt    Lars Rolander (1942-2016) https://librivox.org/reader/2234  m\n",
        "jaochnej_04\thttps://www.archive.org/download/ja_och_nej_0903_librivox/jaochnej_04_nyblom.mp3\thttp://runeberg.org/download.pl?mode=txtzip&work=jaochnej\thttps://www.gutenberg.org/files/18043/18043-0.txt    Lars Rolander (1942-2016) https://librivox.org/reader/2234  m\n",
        "jaochnej_05\thttps://www.archive.org/download/ja_och_nej_0903_librivox/jaochnej_05_nyblom.mp3\thttp://runeberg.org/download.pl?mode=txtzip&work=jaochnej\thttps://www.gutenberg.org/files/18043/18043-0.txt    Lars Rolander (1942-2016) https://librivox.org/reader/2234  m\n",
        "jaochnej_06\thttps://www.archive.org/download/ja_och_nej_0903_librivox/jaochnej_06_nyblom.mp3\thttp://runeberg.org/download.pl?mode=txtzip&work=jaochnej\thttps://www.gutenberg.org/files/18043/18043-0.txt    Lars Rolander (1942-2016) https://librivox.org/reader/2234  m\n",
        "jaochnej_07\thttps://www.archive.org/download/ja_och_nej_0903_librivox/jaochnej_07_nyblom.mp3\thttp://runeberg.org/download.pl?mode=txtzip&work=jaochnej\thttps://www.gutenberg.org/files/18043/18043-0.txt    Lars Rolander (1942-2016) https://librivox.org/reader/2234  m\n",
        "jaochnej_08\thttps://www.archive.org/download/ja_och_nej_0903_librivox/jaochnej_08_nyblom.mp3\thttp://runeberg.org/download.pl?mode=txtzip&work=jaochnej\thttps://www.gutenberg.org/files/18043/18043-0.txt    Lars Rolander (1942-2016) https://librivox.org/reader/2234  m\n",
        "ennyckfullkvinna2_01\thttps://www.archive.org/download/nyckfull_kvinna_del2_lr_librivox/ennyckfullkvinna2_01_flygare-carlen.mp3\thttps://books.google.com/books?id=whQNAAAAYAAJ    Lars Rolander (1942-2016) https://librivox.org/reader/2234  m\n",
        "ennyckfullkvinna2_02\thttps://www.archive.org/download/nyckfull_kvinna_del2_lr_librivox/ennyckfullkvinna2_02_flygare-carlen.mp3\thttps://books.google.com/books?id=whQNAAAAYAAJ    Lars Rolander (1942-2016) https://librivox.org/reader/2234  m\n",
        "ennyckfullkvinna2_03\thttps://www.archive.org/download/nyckfull_kvinna_del2_lr_librivox/ennyckfullkvinna2_03_flygare-carlen.mp3\thttps://books.google.com/books?id=whQNAAAAYAAJ    Lars Rolander (1942-2016) https://librivox.org/reader/2234  m\n",
        "ennyckfullkvinna2_04\thttps://www.archive.org/download/nyckfull_kvinna_del2_lr_librivox/ennyckfullkvinna2_04_flygare-carlen.mp3\thttps://books.google.com/books?id=whQNAAAAYAAJ    Lars Rolander (1942-2016) https://librivox.org/reader/2234  m\n",
        "ennyckfullkvinna2_05\thttps://www.archive.org/download/nyckfull_kvinna_del2_lr_librivox/ennyckfullkvinna2_05_flygare-carlen.mp3\thttps://books.google.com/books?id=whQNAAAAYAAJ    Lars Rolander (1942-2016) https://librivox.org/reader/2234  m\n",
        "ennyckfullkvinna2_06\thttps://www.archive.org/download/nyckfull_kvinna_del2_lr_librivox/ennyckfullkvinna2_06_flygare-carlen.mp3\thttps://books.google.com/books?id=whQNAAAAYAAJ    Lars Rolander (1942-2016) https://librivox.org/reader/2234  m\n",
        "ennyckfullkvinna2_07\thttps://www.archive.org/download/nyckfull_kvinna_del2_lr_librivox/ennyckfullkvinna2_07_flygare-carlen.mp3\thttps://books.google.com/books?id=whQNAAAAYAAJ    Lars Rolander (1942-2016) https://librivox.org/reader/2234  m\n",
        "ennyckfullkvinna2_08\thttps://www.archive.org/download/nyckfull_kvinna_del2_lr_librivox/ennyckfullkvinna2_08_flygare-carlen.mp3\thttps://books.google.com/books?id=whQNAAAAYAAJ    Lars Rolander (1942-2016) https://librivox.org/reader/2234  m\n",
        "ennyckfullkvinna2_09\thttps://www.archive.org/download/nyckfull_kvinna_del2_lr_librivox/ennyckfullkvinna2_09_flygare-carlen.mp3\thttps://books.google.com/books?id=whQNAAAAYAAJ    Lars Rolander (1942-2016) https://librivox.org/reader/2234  m\n",
        "ennyckfullkvinna2_10\thttps://www.archive.org/download/nyckfull_kvinna_del2_lr_librivox/ennyckfullkvinna2_10_flygare-carlen.mp3\thttps://books.google.com/books?id=whQNAAAAYAAJ    Lars Rolander (1942-2016) https://librivox.org/reader/2234  m\n",
        "ennyckfullkvinna2_11\thttps://www.archive.org/download/nyckfull_kvinna_del2_lr_librivox/ennyckfullkvinna2_11_flygare-carlen.mp3\thttps://books.google.com/books?id=whQNAAAAYAAJ    Lars Rolander (1942-2016) https://librivox.org/reader/2234  m\n",
        "ennyckfullkvinna2_12\thttps://www.archive.org/download/nyckfull_kvinna_del2_lr_librivox/ennyckfullkvinna2_12_flygare-carlen.mp3\thttps://books.google.com/books?id=whQNAAAAYAAJ    Lars Rolander (1942-2016) https://librivox.org/reader/2234  m\n",
        "ennyckfullkvinna2_13\thttps://www.archive.org/download/nyckfull_kvinna_del2_lr_librivox/ennyckfullkvinna2_13_flygare-carlen.mp3\thttps://books.google.com/books?id=whQNAAAAYAAJ    Lars Rolander (1942-2016) https://librivox.org/reader/2234  m\n",
        "jenny\thttps://www.archive.org/download/multilingual_1204_librivox/swedish_jenny_runeberg_pa.mp3\thttps://www.gutenberg.org/cache/epub/13100/pg13100.txt\tPetra\thttps://librivox.org/reader/2909\tf\n",
        "jordensinre_01\thttps://www.archive.org/download/jordens_inre_p_librivox/jordensinre_01_witt.mp3\thttp://runeberg.org/jordinre/k1.html\t\tPetra\thttps://librivox.org/reader/2909\tf\n",
        "jordensinre_02\thttps://www.archive.org/download/jordens_inre_p_librivox/jordensinre_02_witt.mp3\thttp://runeberg.org/jordinre/k2.html\t\tPetra\thttps://librivox.org/reader/2909\tf\n",
        "jordensinre_03\thttps://www.archive.org/download/jordens_inre_p_librivox/jordensinre_03_witt.mp3\thttp://runeberg.org/jordinre/k3.html\t\tPetra\thttps://librivox.org/reader/2909\tf\n",
        "jordensinre_04\thttps://www.archive.org/download/jordens_inre_p_librivox/jordensinre_04_witt.mp3\thttp://runeberg.org/jordinre/k4.html\t\tPetra\thttps://librivox.org/reader/2909\tf\n",
        "jordensinre_05\thttps://www.archive.org/download/jordens_inre_p_librivox/jordensinre_05_witt.mp3\thttp://runeberg.org/jordinre/k5.html\t\tPetra\thttps://librivox.org/reader/2909\tf\n",
        "jordensinre_06\thttps://www.archive.org/download/jordens_inre_p_librivox/jordensinre_06_witt.mp3\thttp://runeberg.org/jordinre/k6.html\t\tPetra\thttps://librivox.org/reader/2909\tf\n",
        "jordensinre_07\thttps://www.archive.org/download/jordens_inre_p_librivox/jordensinre_07_witt.mp3\thttp://runeberg.org/jordinre/k7.html\t\tPetra\thttps://librivox.org/reader/2909\tf\n",
        "jordensinre_08\thttps://www.archive.org/download/jordens_inre_p_librivox/jordensinre_08_witt.mp3\thttp://runeberg.org/jordinre/k8.html\t\tPetra\thttps://librivox.org/reader/2909\tf\n",
        "jordensinre_09\thttps://www.archive.org/download/jordens_inre_p_librivox/jordensinre_09_witt.mp3\thttp://runeberg.org/jordinre/k9.html\t\tPetra\thttps://librivox.org/reader/2909\tf\n",
        "jordensinre_10\thttps://www.archive.org/download/jordens_inre_p_librivox/jordensinre_10_witt.mp3\thttp://runeberg.org/jordinre/k10.html\t\tPetra\thttps://librivox.org/reader/2909\tf\n",
        "jordensinre_11\thttps://www.archive.org/download/jordens_inre_p_librivox/jordensinre_11_witt.mp3\thttp://runeberg.org/jordinre/k11.html\t\tPetra\thttps://librivox.org/reader/2909\tf\n",
        "jordensinre_12\thttps://www.archive.org/download/jordens_inre_p_librivox/jordensinre_12_witt.mp3\thttp://runeberg.org/jordinre/k12.html\t\tPetra\thttps://librivox.org/reader/2909\tf\n",
        "jordensinre_13\thttps://www.archive.org/download/jordens_inre_p_librivox/jordensinre_13_witt.mp3\thttp://runeberg.org/jordinre/k13.html\t\tPetra\thttps://librivox.org/reader/2909\tf\n",
        "jordensinre_14\thttps://www.archive.org/download/jordens_inre_p_librivox/jordensinre_14_witt.mp3\thttp://runeberg.org/jordinre/k14.html\t\tPetra\thttps://librivox.org/reader/2909\tf\n",
        "landshovdingen\thttps://www.archive.org/download/multilingual_poetry_017_1103/swedish_landshovdingen_runeberg_pirv.mp3\thttp://runeberg.org/fstal/2p.html\tPentti Hirvonen\thttps://librivox.org/reader/5979\tf?\n",
        "nocturne\thttps://www.archive.org/download/multilingual_poetry_017_1103/swedish_nocturne_sodergran_jb.mp3\thttp://web.archive.org/web/20180815020322/http://www.svensklyrik.se/poeter/edith-sodergran/nocturne-2\tJohan Borg\thttps://librivox.org/reader/5958\tm\n",
        "sockerpullor_01\thttps://www.archive.org/download/sockerpullor_pepparkorn_petra_librivox/sockerpullor_01_wraner.mp3\thttps://www.gutenberg.org/ebooks/31533.txt.utf-8\tPetra  https://librivox.org/reader/2909  f\n",
        "sockerpullor_02\thttps://www.archive.org/download/sockerpullor_pepparkorn_petra_librivox/sockerpullor_02_wraner.mp3\thttps://www.gutenberg.org/ebooks/31533.txt.utf-8\tPetra  https://librivox.org/reader/2909  f\n",
        "sockerpullor_03\thttps://www.archive.org/download/sockerpullor_pepparkorn_petra_librivox/sockerpullor_03_wraner.mp3\thttps://www.gutenberg.org/ebooks/31533.txt.utf-8\tPetra  https://librivox.org/reader/2909  f\n",
        "sockerpullor_04\thttps://www.archive.org/download/sockerpullor_pepparkorn_petra_librivox/sockerpullor_04_wraner.mp3\thttps://www.gutenberg.org/ebooks/31533.txt.utf-8\tPetra  https://librivox.org/reader/2909  f\n",
        "sockerpullor_05\thttps://www.archive.org/download/sockerpullor_pepparkorn_petra_librivox/sockerpullor_05_wraner.mp3\thttps://www.gutenberg.org/ebooks/31533.txt.utf-8\tPetra  https://librivox.org/reader/2909  f\n",
        "sockerpullor_06\thttps://www.archive.org/download/sockerpullor_pepparkorn_petra_librivox/sockerpullor_06_wraner.mp3\thttps://www.gutenberg.org/ebooks/31533.txt.utf-8\tPetra  https://librivox.org/reader/2909  f\n",
        "sockerpullor_07\thttps://www.archive.org/download/sockerpullor_pepparkorn_petra_librivox/sockerpullor_07_wraner.mp3\thttps://www.gutenberg.org/ebooks/31533.txt.utf-8\tPetra  https://librivox.org/reader/2909  f\n",
        "tomten\thttps://www.archive.org/download/christmasshortworks_2014_1412_librivox/csw14_08_tomten_128kb.mp3\thttps://www.gutenberg.org/cache/epub/15753/pg15753.txt\tJ Korth\thttps://librivox.org/reader/9337\tm\n",
        "\"\"\""
      ]
    },
    {
      "cell_type": "code",
      "source": [
        "items = {}\n",
        "for line in DATA.split(\"\\n\"):\n",
        "    if line.strip() == \"\":\n",
        "        continue\n",
        "    if line.startswith(\"#\"):\n",
        "        continue\n",
        "    parts = line.split(\"\\t\")\n",
        "    items[parts[0]] = parts[1:]"
      ],
      "metadata": {
        "id": "tkZqcM1GB6N-"
      },
      "execution_count": 5,
      "outputs": []
    },
    {
      "cell_type": "code",
      "source": [
        "for item in items.keys():\n",
        "    !wget {items[item][0]}\n",
        "    mp3name = items[item][0].split(\"/\")[-1]\n",
        "    !ffmpeg -i {mp3name} -acodec pcm_s16le -ac 1 -ar 16000 {item}.wav"
      ],
      "metadata": {
        "id": "fJzlcJNDCWSa"
      },
      "execution_count": null,
      "outputs": []
    },
    {
      "cell_type": "markdown",
      "metadata": {
        "id": "24HKZajJy06C"
      },
      "source": [
        "Here starts the actual ASR stuff."
      ]
    },
    {
      "cell_type": "code",
      "execution_count": null,
      "metadata": {
        "id": "CSMuf1IzkgE0"
      },
      "outputs": [],
      "source": [
        "!pip install transformers"
      ]
    },
    {
      "cell_type": "code",
      "execution_count": null,
      "metadata": {
        "id": "Xz-XdAEUgWhb"
      },
      "outputs": [],
      "source": [
        "_SWE_MODEL = \"KBLab/wav2vec2-large-voxrex-swedish\""
      ]
    },
    {
      "cell_type": "code",
      "execution_count": null,
      "metadata": {
        "id": "jlDRjS16kaqF"
      },
      "outputs": [],
      "source": [
        "from transformers import pipeline"
      ]
    },
    {
      "cell_type": "code",
      "execution_count": null,
      "metadata": {
        "id": "p5LFs7rRk8ek"
      },
      "outputs": [],
      "source": [
        "pipe = pipeline(model=_SWE_MODEL)"
      ]
    },
    {
      "cell_type": "code",
      "execution_count": null,
      "metadata": {
        "id": "WJ5spXO7kmuF"
      },
      "outputs": [],
      "source": [
        "import glob\n",
        "import json\n",
        "\n",
        "for file in glob.glob(\"*.wav\"):\n",
        "    json = file.replace(\".wav\", \".json\")\n",
        "    output = pipe(file, chunk_length_s=10, return_timestamps=\"word\")\n",
        "    with open(json, \"w\") as f:\n",
        "        json.dump(output, f)"
      ]
    }
  ],
  "metadata": {
    "colab": {
      "collapsed_sections": [],
      "name": "2022-06-30-getting-timestamps-of-swedish-librivox.ipynb",
      "provenance": []
    },
    "kernelspec": {
      "display_name": "Python 3",
      "name": "python3"
    },
    "language_info": {
      "name": "python"
    }
  },
  "nbformat": 4,
  "nbformat_minor": 0
}