{
  "cells": [
    {
      "cell_type": "markdown",
      "metadata": {
        "id": "Wm2nXAnR3HXm"
      },
      "source": [
        "# Getting timestamps of Swedish Librivox\n",
        "\n",
        "> \"With wav2vec2 and HuggingFace transformers\"\n",
        "\n",
        "- tok: false\n",
        "- branch: master\n",
        "- comments: true\n",
        "- categories: [long audio, wav2vec2, huggingface, timestamps, librivox, swedish]\n"
      ]
    },
    {
      "cell_type": "code",
      "execution_count": 2,
      "metadata": {
        "id": "wKSZXGoJiVhj"
      },
      "outputs": [],
      "source": [
        "DATA = \"\"\"\n",
        "#avskedssang\thttps://www.archive.org/download/multilingual_poetry_018_1112_lv/swedish_avskedssang_andersson_e.mp3\thttp://runeberg.org/daefter/12.html\tElin\thttps://librivox.org/reader/6686\tf\n",
        "efter_torgdagen\thttps://www.archive.org/download/mshortworks_001_1202_librivox/msw001_19_eftertorsdagen_benedictsson_at.mp3\thttps://litteraturbanken.se/f%C3%B6rfattare/BenedictssonV/titlar/Ber%C3%A4ttelserOchUtkast/sida/126/etext\towly\thttps://librivox.org/reader/2857\tf\n",
        "en_saga_om_vreden\thttps://ia800801.us.archive.org/0/items/mshortworks_001_1202_librivox/msw001_12_en_saga_om_vreden_runeberg_jb.mp3\thttp://web.archive.org/web/20190814032041/http://freetexthost.com:80/bcp31m60i4\tJohan Borg\thttps://librivox.org/reader/5958\tm\n",
        "elin_i_hagen\thttps://www.archive.org/download/multilingual_poetry_014_1002/swedish_elinihagen_froding_ear.mp3\thttp://runeberg.org/dragharm/elinhage.html\tElina Riuttanen\thttps://librivox.org/reader/4498\tf\n",
        "djaeknarne_01\thttps://www.archive.org/download/vandrande_draeknarne_0907_librivox/djaeknarne_01_rydberg.mp3\thttps://www.gutenberg.org/cache/epub/9827/pg9827.txt\tLars Rolander (1942-2016)\thttps://librivox.org/reader/2234\tm\n",
        "djaeknarne_02\thttps://www.archive.org/download/vandrande_draeknarne_0907_librivox/djaeknarne_02_rydberg.mp3\thttps://www.gutenberg.org/cache/epub/9827/pg9827.txt\tLars Rolander (1942-2016)\thttps://librivox.org/reader/2234\tm\n",
        "djaeknarne_03\thttps://www.archive.org/download/vandrande_draeknarne_0907_librivox/djaeknarne_03_rydberg.mp3\thttps://www.gutenberg.org/cache/epub/9827/pg9827.txt\tLars Rolander (1942-2016)\thttps://librivox.org/reader/2234\tm\n",
        "djaeknarne_04\thttps://www.archive.org/download/vandrande_draeknarne_0907_librivox/djaeknarne_04_rydberg.mp3\thttps://www.gutenberg.org/cache/epub/9827/pg9827.txt\tLars Rolander (1942-2016)\thttps://librivox.org/reader/2234\tm\n",
        "djaeknarne_05\thttps://www.archive.org/download/vandrande_draeknarne_0907_librivox/djaeknarne_05_rydberg.mp3\thttps://www.gutenberg.org/cache/epub/9827/pg9827.txt\tLars Rolander (1942-2016)\thttps://librivox.org/reader/2234\tm\n",
        "djaeknarne_06\thttps://www.archive.org/download/vandrande_draeknarne_0907_librivox/djaeknarne_06_rydberg.mp3\thttps://www.gutenberg.org/cache/epub/9827/pg9827.txt\tLars Rolander (1942-2016)\thttps://librivox.org/reader/2234\tm\n",
        "djaeknarne_07\thttps://www.archive.org/download/vandrande_draeknarne_0907_librivox/djaeknarne_07_rydberg.mp3\thttps://www.gutenberg.org/cache/epub/9827/pg9827.txt\tLars Rolander (1942-2016)\thttps://librivox.org/reader/2234\tm\n",
        "djaeknarne_08\thttps://www.archive.org/download/vandrande_draeknarne_0907_librivox/djaeknarne_08_rydberg.mp3\thttps://www.gutenberg.org/cache/epub/9827/pg9827.txt\tLars Rolander (1942-2016)\thttps://librivox.org/reader/2234\tm\n",
        "djaeknarne_09\thttps://www.archive.org/download/vandrande_draeknarne_0907_librivox/djaeknarne_09_rydberg.mp3\thttps://www.gutenberg.org/cache/epub/9827/pg9827.txt\tLars Rolander (1942-2016)\thttps://librivox.org/reader/2234\tm\n",
        "djaeknarne_10\thttps://www.archive.org/download/vandrande_draeknarne_0907_librivox/djaeknarne_10_rydberg.mp3\thttps://www.gutenberg.org/cache/epub/9827/pg9827.txt\tLars Rolander (1942-2016)\thttps://librivox.org/reader/2234\tm\n",
        "djaeknarne_11\thttps://www.archive.org/download/vandrande_draeknarne_0907_librivox/djaeknarne_11_rydberg.mp3\thttps://www.gutenberg.org/cache/epub/9827/pg9827.txt\tLars Rolander (1942-2016)\thttps://librivox.org/reader/2234\tm\n",
        "djaeknarne_12\thttps://www.archive.org/download/vandrande_draeknarne_0907_librivox/djaeknarne_12_rydberg.mp3\thttps://www.gutenberg.org/cache/epub/9827/pg9827.txt\tLars Rolander (1942-2016)\thttps://librivox.org/reader/2234\tm\n",
        "\"\"\""
      ]
    },
    {
      "cell_type": "code",
      "source": [
        "items = {}\n",
        "for line in DATA.split(\"\\n\"):\n",
        "    if line.strip() == \"\":\n",
        "        continue\n",
        "    if line.startswith(\"#\"):\n",
        "        continue\n",
        "    parts = line.split(\"\\t\")\n",
        "    items[parts[0]] = parts[1:]"
      ],
      "metadata": {
        "id": "tkZqcM1GB6N-"
      },
      "execution_count": 5,
      "outputs": []
    },
    {
      "cell_type": "code",
      "source": [
        "for item in items.keys():\n",
        "    !wget {items[item][0]}\n",
        "    mp3name = items[item][0].split(\"/\")[-1]\n",
        "    !ffmpeg -i {mp3name} -acodec pcm_s16le -ac 1 -ar 16000 {item}.wav"
      ],
      "metadata": {
        "id": "fJzlcJNDCWSa"
      },
      "execution_count": null,
      "outputs": []
    },
    {
      "cell_type": "markdown",
      "metadata": {
        "id": "24HKZajJy06C"
      },
      "source": [
        "Here starts the actual ASR stuff."
      ]
    },
    {
      "cell_type": "code",
      "execution_count": null,
      "metadata": {
        "id": "CSMuf1IzkgE0"
      },
      "outputs": [],
      "source": [
        "!pip install transformers"
      ]
    },
    {
      "cell_type": "code",
      "execution_count": null,
      "metadata": {
        "id": "Xz-XdAEUgWhb"
      },
      "outputs": [],
      "source": [
        "_SWE_MODEL = \"KBLab/wav2vec2-large-voxrex-swedish\""
      ]
    },
    {
      "cell_type": "code",
      "execution_count": null,
      "metadata": {
        "id": "jlDRjS16kaqF"
      },
      "outputs": [],
      "source": [
        "from transformers import pipeline"
      ]
    },
    {
      "cell_type": "code",
      "execution_count": null,
      "metadata": {
        "id": "p5LFs7rRk8ek"
      },
      "outputs": [],
      "source": [
        "pipe = pipeline(model=_SWE_MODEL)"
      ]
    },
    {
      "cell_type": "code",
      "execution_count": null,
      "metadata": {
        "id": "WJ5spXO7kmuF"
      },
      "outputs": [],
      "source": [
        "import glob\n",
        "import json\n",
        "\n",
        "for file in glob.glob(\"*.wav\"):\n",
        "    json = file.replace(\".wav\", \".json\")\n",
        "    output = pipe(file, chunk_length_s=10, return_timestamps=\"word\")\n",
        "    with open(json, \"w\") as f:\n",
        "        json.dump(output, f)"
      ]
    }
  ],
  "metadata": {
    "colab": {
      "collapsed_sections": [],
      "name": "2022-06-30-getting-timestamps-of-swedish-librivox.ipynb",
      "provenance": []
    },
    "kernelspec": {
      "display_name": "Python 3",
      "name": "python3"
    },
    "language_info": {
      "name": "python"
    }
  },
  "nbformat": 4,
  "nbformat_minor": 0
}