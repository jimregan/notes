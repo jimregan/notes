{
  "cells": [
    {
      "cell_type": "markdown",
      "metadata": {
        "id": "Wm2nXAnR3HXm"
      },
      "source": [
        "# Getting timestamps of Swedish Librivox\n",
        "\n",
        "> \"With wav2vec2 and HuggingFace transformers\"\n",
        "\n",
        "- tok: false\n",
        "- branch: master\n",
        "- comments: true\n",
        "- categories: [long audio, wav2vec2, huggingface, timestamps, librivox, swedish]\n"
      ]
    },
    {
      "cell_type": "markdown",
      "metadata": {
        "id": "vyI_j8hTymK2"
      },
      "source": [
        "First, an audio sample. Using [this video](https://www.youtube.com/watch?v=Kw5jkyLGFGc) from youtube. Youtube says it's 11 minutes, 51 seconds, so that should be enough to check that striding works."
      ]
    },
    {
      "cell_type": "code",
      "execution_count": 2,
      "metadata": {
        "id": "wKSZXGoJiVhj"
      },
      "outputs": [],
      "source": [
        "DATA = \"\"\"\n",
        "#avskedssang\thttps://www.archive.org/download/multilingual_poetry_018_1112_lv/swedish_avskedssang_andersson_e.mp3\thttp://runeberg.org/daefter/12.html\tElin\thttps://librivox.org/reader/6686\tf\n",
        "efter_torgdagen\thttps://www.archive.org/download/mshortworks_001_1202_librivox/msw001_19_eftertorsdagen_benedictsson_at.mp3\thttps://litteraturbanken.se/f%C3%B6rfattare/BenedictssonV/titlar/Ber%C3%A4ttelserOchUtkast/sida/126/etext\towly\thttps://librivox.org/reader/2857\tf\n",
        "en_saga_om_vreden\thttps://ia800801.us.archive.org/0/items/mshortworks_001_1202_librivox/msw001_12_en_saga_om_vreden_runeberg_jb.mp3\thttp://web.archive.org/web/20190814032041/http://freetexthost.com:80/bcp31m60i4\tJohan Borg\thttps://librivox.org/reader/5958\n",
        "elin_i_hagen\thttps://www.archive.org/download/multilingual_poetry_014_1002/swedish_elinihagen_froding_ear.mp3\thttp://runeberg.org/dragharm/elinhage.html\tElina Riuttanen\thttps://librivox.org/reader/4498\tf\n",
        "\"\"\""
      ]
    },
    {
      "cell_type": "code",
      "source": [
        "items = {}\n",
        "for line in DATA.split(\"\\n\"):\n",
        "    if line.strip() == \"\":\n",
        "        continue\n",
        "    if line.startswith(\"#\"):\n",
        "        continue\n",
        "    parts = line.split(\"\\t\")\n",
        "    items[parts[0]] = parts[1:]"
      ],
      "metadata": {
        "id": "tkZqcM1GB6N-"
      },
      "execution_count": 5,
      "outputs": []
    },
    {
      "cell_type": "code",
      "source": [
        "for item in items.keys():\n",
        "    !wget {items[item][0]}\n",
        "    mp3name = items[item][0].split(\"/\")[-1]\n",
        "    !ffmpeg -i {mp3name} -acodec pcm_s16le -ac 1 -ar 16000 {item}.wav"
      ],
      "metadata": {
        "colab": {
          "base_uri": "https://localhost:8080/"
        },
        "id": "fJzlcJNDCWSa",
        "outputId": "a591a54c-77f2-44e1-9a3f-f67af91fa452"
      },
      "execution_count": 7,
      "outputs": [
        {
          "output_type": "stream",
          "name": "stdout",
          "text": [
            "--2022-06-30 14:37:14--  https://www.archive.org/download/mshortworks_001_1202_librivox/msw001_19_eftertorsdagen_benedictsson_at.mp3\n",
            "Resolving www.archive.org (www.archive.org)... 207.241.224.2\n",
            "Connecting to www.archive.org (www.archive.org)|207.241.224.2|:443... connected.\n",
            "HTTP request sent, awaiting response... 302 Moved Temporarily\n",
            "Location: https://archive.org/download/mshortworks_001_1202_librivox/msw001_19_eftertorsdagen_benedictsson_at.mp3 [following]\n",
            "--2022-06-30 14:37:14--  https://archive.org/download/mshortworks_001_1202_librivox/msw001_19_eftertorsdagen_benedictsson_at.mp3\n",
            "Resolving archive.org (archive.org)... 207.241.224.2\n",
            "Connecting to archive.org (archive.org)|207.241.224.2|:443... connected.\n",
            "HTTP request sent, awaiting response... 302 Found\n",
            "Location: https://ia800801.us.archive.org/0/items/mshortworks_001_1202_librivox/msw001_19_eftertorsdagen_benedictsson_at.mp3 [following]\n",
            "--2022-06-30 14:37:14--  https://ia800801.us.archive.org/0/items/mshortworks_001_1202_librivox/msw001_19_eftertorsdagen_benedictsson_at.mp3\n",
            "Resolving ia800801.us.archive.org (ia800801.us.archive.org)... 207.241.230.81\n",
            "Connecting to ia800801.us.archive.org (ia800801.us.archive.org)|207.241.230.81|:443... connected.\n",
            "HTTP request sent, awaiting response... 200 OK\n",
            "Length: 9009326 (8.6M) [audio/mpeg]\n",
            "Saving to: ‘msw001_19_eftertorsdagen_benedictsson_at.mp3’\n",
            "\n",
            "msw001_19_eftertors 100%[===================>]   8.59M  8.37MB/s    in 1.0s    \n",
            "\n",
            "2022-06-30 14:37:15 (8.37 MB/s) - ‘msw001_19_eftertorsdagen_benedictsson_at.mp3’ saved [9009326/9009326]\n",
            "\n",
            "ffmpeg version 3.4.11-0ubuntu0.1 Copyright (c) 2000-2022 the FFmpeg developers\n",
            "  built with gcc 7 (Ubuntu 7.5.0-3ubuntu1~18.04)\n",
            "  configuration: --prefix=/usr --extra-version=0ubuntu0.1 --toolchain=hardened --libdir=/usr/lib/x86_64-linux-gnu --incdir=/usr/include/x86_64-linux-gnu --enable-gpl --disable-stripping --enable-avresample --enable-avisynth --enable-gnutls --enable-ladspa --enable-libass --enable-libbluray --enable-libbs2b --enable-libcaca --enable-libcdio --enable-libflite --enable-libfontconfig --enable-libfreetype --enable-libfribidi --enable-libgme --enable-libgsm --enable-libmp3lame --enable-libmysofa --enable-libopenjpeg --enable-libopenmpt --enable-libopus --enable-libpulse --enable-librubberband --enable-librsvg --enable-libshine --enable-libsnappy --enable-libsoxr --enable-libspeex --enable-libssh --enable-libtheora --enable-libtwolame --enable-libvorbis --enable-libvpx --enable-libwavpack --enable-libwebp --enable-libx265 --enable-libxml2 --enable-libxvid --enable-libzmq --enable-libzvbi --enable-omx --enable-openal --enable-opengl --enable-sdl2 --enable-libdc1394 --enable-libdrm --enable-libiec61883 --enable-chromaprint --enable-frei0r --enable-libopencv --enable-libx264 --enable-shared\n",
            "  libavutil      55. 78.100 / 55. 78.100\n",
            "  libavcodec     57.107.100 / 57.107.100\n",
            "  libavformat    57. 83.100 / 57. 83.100\n",
            "  libavdevice    57. 10.100 / 57. 10.100\n",
            "  libavfilter     6.107.100 /  6.107.100\n",
            "  libavresample   3.  7.  0 /  3.  7.  0\n",
            "  libswscale      4.  8.100 /  4.  8.100\n",
            "  libswresample   2.  9.100 /  2.  9.100\n",
            "  libpostproc    54.  7.100 / 54.  7.100\n",
            "Input #0, mp3, from 'msw001_19_eftertorsdagen_benedictsson_at.mp3':\n",
            "  Metadata:\n",
            "    track           : 19\n",
            "    album           : Multilingual Short Works Collection 001\n",
            "    genre           : Speech\n",
            "    artist          : Victoria Benedictsson\n",
            "    title           : 19 - Swedish: Efter Torsdagen\n",
            "  Duration: 00:09:22.94, start: 0.025057, bitrate: 128 kb/s\n",
            "    Stream #0:0: Audio: mp3, 44100 Hz, mono, s16p, 128 kb/s\n",
            "    Metadata:\n",
            "      encoder         : LAME3.98r\n",
            "Stream mapping:\n",
            "  Stream #0:0 -> #0:0 (mp3 (native) -> pcm_s16le (native))\n",
            "Press [q] to stop, [?] for help\n",
            "Output #0, wav, to 'efter_torgdagen.wav':\n",
            "  Metadata:\n",
            "    IPRT            : 19\n",
            "    IPRD            : Multilingual Short Works Collection 001\n",
            "    IGNR            : Speech\n",
            "    IART            : Victoria Benedictsson\n",
            "    INAM            : 19 - Swedish: Efter Torsdagen\n",
            "    ISFT            : Lavf57.83.100\n",
            "    Stream #0:0: Audio: pcm_s16le ([1][0][0][0] / 0x0001), 16000 Hz, mono, s16, 256 kb/s\n",
            "    Metadata:\n",
            "      encoder         : Lavc57.107.100 pcm_s16le\n",
            "\u001b[0;36m[mp3 @ 0x555953376a00] \u001b[0m\u001b[1;31mHeader missing\n",
            "\u001b[0m\u001b[1;31mError while decoding stream #0:0: Invalid data found when processing input\n",
            "\u001b[0msize=   17591kB time=00:09:22.90 bitrate= 256.0kbits/s speed= 577x    \n",
            "video:0kB audio:17591kB subtitle:0kB other streams:0kB global headers:0kB muxing overhead: 0.001232%\n",
            "--2022-06-30 14:37:17--  https://ia800801.us.archive.org/0/items/mshortworks_001_1202_librivox/msw001_12_en_saga_om_vreden_runeberg_jb.mp3\n",
            "Resolving ia800801.us.archive.org (ia800801.us.archive.org)... 207.241.230.81\n",
            "Connecting to ia800801.us.archive.org (ia800801.us.archive.org)|207.241.230.81|:443... connected.\n",
            "HTTP request sent, awaiting response... 200 OK\n",
            "Length: 3623246 (3.5M) [audio/mpeg]\n",
            "Saving to: ‘msw001_12_en_saga_om_vreden_runeberg_jb.mp3’\n",
            "\n",
            "msw001_12_en_saga_o 100%[===================>]   3.46M  2.96MB/s    in 1.2s    \n",
            "\n",
            "2022-06-30 14:37:18 (2.96 MB/s) - ‘msw001_12_en_saga_om_vreden_runeberg_jb.mp3’ saved [3623246/3623246]\n",
            "\n",
            "ffmpeg version 3.4.11-0ubuntu0.1 Copyright (c) 2000-2022 the FFmpeg developers\n",
            "  built with gcc 7 (Ubuntu 7.5.0-3ubuntu1~18.04)\n",
            "  configuration: --prefix=/usr --extra-version=0ubuntu0.1 --toolchain=hardened --libdir=/usr/lib/x86_64-linux-gnu --incdir=/usr/include/x86_64-linux-gnu --enable-gpl --disable-stripping --enable-avresample --enable-avisynth --enable-gnutls --enable-ladspa --enable-libass --enable-libbluray --enable-libbs2b --enable-libcaca --enable-libcdio --enable-libflite --enable-libfontconfig --enable-libfreetype --enable-libfribidi --enable-libgme --enable-libgsm --enable-libmp3lame --enable-libmysofa --enable-libopenjpeg --enable-libopenmpt --enable-libopus --enable-libpulse --enable-librubberband --enable-librsvg --enable-libshine --enable-libsnappy --enable-libsoxr --enable-libspeex --enable-libssh --enable-libtheora --enable-libtwolame --enable-libvorbis --enable-libvpx --enable-libwavpack --enable-libwebp --enable-libx265 --enable-libxml2 --enable-libxvid --enable-libzmq --enable-libzvbi --enable-omx --enable-openal --enable-opengl --enable-sdl2 --enable-libdc1394 --enable-libdrm --enable-libiec61883 --enable-chromaprint --enable-frei0r --enable-libopencv --enable-libx264 --enable-shared\n",
            "  libavutil      55. 78.100 / 55. 78.100\n",
            "  libavcodec     57.107.100 / 57.107.100\n",
            "  libavformat    57. 83.100 / 57. 83.100\n",
            "  libavdevice    57. 10.100 / 57. 10.100\n",
            "  libavfilter     6.107.100 /  6.107.100\n",
            "  libavresample   3.  7.  0 /  3.  7.  0\n",
            "  libswscale      4.  8.100 /  4.  8.100\n",
            "  libswresample   2.  9.100 /  2.  9.100\n",
            "  libpostproc    54.  7.100 / 54.  7.100\n",
            "Input #0, mp3, from 'msw001_12_en_saga_om_vreden_runeberg_jb.mp3':\n",
            "  Metadata:\n",
            "    genre           : Speech\n",
            "    album           : Multilingual Short Works Collection 001\n",
            "    artist          : Fredrika Runeberg\n",
            "    comment         : Recorded by Johan Borg\n",
            "    track           : 12\n",
            "    ID3v1 Comment   : Recorded by Johan Borg\n",
            "    title           : 12 - Swedish: En saga om Vreden\n",
            "  Duration: 00:03:46.27, start: 0.025057, bitrate: 128 kb/s\n",
            "    Stream #0:0: Audio: mp3, 44100 Hz, mono, s16p, 128 kb/s\n",
            "    Metadata:\n",
            "      encoder         : LAME3.98r\n",
            "Stream mapping:\n",
            "  Stream #0:0 -> #0:0 (mp3 (native) -> pcm_s16le (native))\n",
            "Press [q] to stop, [?] for help\n",
            "Output #0, wav, to 'en_saga_om_vreden.wav':\n",
            "  Metadata:\n",
            "    IGNR            : Speech\n",
            "    IPRD            : Multilingual Short Works Collection 001\n",
            "    IART            : Fredrika Runeberg\n",
            "    ICMT            : Recorded by Johan Borg\n",
            "    IPRT            : 12\n",
            "    ID3v1 Comment   : Recorded by Johan Borg\n",
            "    INAM            : 12 - Swedish: En saga om Vreden\n",
            "    ISFT            : Lavf57.83.100\n",
            "    Stream #0:0: Audio: pcm_s16le ([1][0][0][0] / 0x0001), 16000 Hz, mono, s16, 256 kb/s\n",
            "    Metadata:\n",
            "      encoder         : Lavc57.107.100 pcm_s16le\n",
            "\u001b[0;36m[mp3 @ 0x558e30942a00] \u001b[0m\u001b[1;31mHeader missing\n",
            "\u001b[0m\u001b[1;31mError while decoding stream #0:0: Invalid data found when processing input\n",
            "\u001b[0msize=    7069kB time=00:03:46.20 bitrate= 256.0kbits/s speed= 587x    \n",
            "video:0kB audio:7069kB subtitle:0kB other streams:0kB global headers:0kB muxing overhead: 0.003481%\n",
            "--2022-06-30 14:37:19--  https://www.archive.org/download/multilingual_poetry_014_1002/swedish_elinihagen_froding_ear.mp3\n",
            "Resolving www.archive.org (www.archive.org)... 207.241.224.2\n",
            "Connecting to www.archive.org (www.archive.org)|207.241.224.2|:443... connected.\n",
            "HTTP request sent, awaiting response... 302 Moved Temporarily\n",
            "Location: https://archive.org/download/multilingual_poetry_014_1002/swedish_elinihagen_froding_ear.mp3 [following]\n",
            "--2022-06-30 14:37:19--  https://archive.org/download/multilingual_poetry_014_1002/swedish_elinihagen_froding_ear.mp3\n",
            "Resolving archive.org (archive.org)... 207.241.224.2\n",
            "Connecting to archive.org (archive.org)|207.241.224.2|:443... connected.\n",
            "HTTP request sent, awaiting response... 302 Found\n",
            "Location: https://ia802608.us.archive.org/27/items/multilingual_poetry_014_1002/swedish_elinihagen_froding_ear.mp3 [following]\n",
            "--2022-06-30 14:37:19--  https://ia802608.us.archive.org/27/items/multilingual_poetry_014_1002/swedish_elinihagen_froding_ear.mp3\n",
            "Resolving ia802608.us.archive.org (ia802608.us.archive.org)... 207.241.228.228\n",
            "Connecting to ia802608.us.archive.org (ia802608.us.archive.org)|207.241.228.228|:443... connected.\n",
            "HTTP request sent, awaiting response... 200 OK\n",
            "Length: 1613952 (1.5M) [audio/mpeg]\n",
            "Saving to: ‘swedish_elinihagen_froding_ear.mp3’\n",
            "\n",
            "swedish_elinihagen_ 100%[===================>]   1.54M  --.-KB/s    in 0.1s    \n",
            "\n",
            "2022-06-30 14:37:19 (13.0 MB/s) - ‘swedish_elinihagen_froding_ear.mp3’ saved [1613952/1613952]\n",
            "\n",
            "ffmpeg version 3.4.11-0ubuntu0.1 Copyright (c) 2000-2022 the FFmpeg developers\n",
            "  built with gcc 7 (Ubuntu 7.5.0-3ubuntu1~18.04)\n",
            "  configuration: --prefix=/usr --extra-version=0ubuntu0.1 --toolchain=hardened --libdir=/usr/lib/x86_64-linux-gnu --incdir=/usr/include/x86_64-linux-gnu --enable-gpl --disable-stripping --enable-avresample --enable-avisynth --enable-gnutls --enable-ladspa --enable-libass --enable-libbluray --enable-libbs2b --enable-libcaca --enable-libcdio --enable-libflite --enable-libfontconfig --enable-libfreetype --enable-libfribidi --enable-libgme --enable-libgsm --enable-libmp3lame --enable-libmysofa --enable-libopenjpeg --enable-libopenmpt --enable-libopus --enable-libpulse --enable-librubberband --enable-librsvg --enable-libshine --enable-libsnappy --enable-libsoxr --enable-libspeex --enable-libssh --enable-libtheora --enable-libtwolame --enable-libvorbis --enable-libvpx --enable-libwavpack --enable-libwebp --enable-libx265 --enable-libxml2 --enable-libxvid --enable-libzmq --enable-libzvbi --enable-omx --enable-openal --enable-opengl --enable-sdl2 --enable-libdc1394 --enable-libdrm --enable-libiec61883 --enable-chromaprint --enable-frei0r --enable-libopencv --enable-libx264 --enable-shared\n",
            "  libavutil      55. 78.100 / 55. 78.100\n",
            "  libavcodec     57.107.100 / 57.107.100\n",
            "  libavformat    57. 83.100 / 57. 83.100\n",
            "  libavdevice    57. 10.100 / 57. 10.100\n",
            "  libavfilter     6.107.100 /  6.107.100\n",
            "  libavresample   3.  7.  0 /  3.  7.  0\n",
            "  libswscale      4.  8.100 /  4.  8.100\n",
            "  libswresample   2.  9.100 /  2.  9.100\n",
            "  libpostproc    54.  7.100 / 54.  7.100\n",
            "Input #0, mp3, from 'swedish_elinihagen_froding_ear.mp3':\n",
            "  Metadata:\n",
            "    genre           : Speech\n",
            "    album           : LibriVox Multilingual Poetry 014\n",
            "    title           : Swedish - Elin i Hagen\n",
            "    track           : 20/20\n",
            "    artist          : Gustaf Froding\n",
            "  Duration: 00:01:40.78, start: 0.025057, bitrate: 128 kb/s\n",
            "    Stream #0:0: Audio: mp3, 44100 Hz, mono, s16p, 128 kb/s\n",
            "    Metadata:\n",
            "      encoder         : LAME3.98r\n",
            "Stream mapping:\n",
            "  Stream #0:0 -> #0:0 (mp3 (native) -> pcm_s16le (native))\n",
            "Press [q] to stop, [?] for help\n",
            "Output #0, wav, to 'elin_i_hagen.wav':\n",
            "  Metadata:\n",
            "    IGNR            : Speech\n",
            "    IPRD            : LibriVox Multilingual Poetry 014\n",
            "    INAM            : Swedish - Elin i Hagen\n",
            "    IPRT            : 20/20\n",
            "    IART            : Gustaf Froding\n",
            "    ISFT            : Lavf57.83.100\n",
            "    Stream #0:0: Audio: pcm_s16le ([1][0][0][0] / 0x0001), 16000 Hz, mono, s16, 256 kb/s\n",
            "    Metadata:\n",
            "      encoder         : Lavc57.107.100 pcm_s16le\n",
            "\u001b[0;36m[mp3 @ 0x561a527a2a00] \u001b[0m\u001b[1;31mHeader missing\n",
            "\u001b[0m\u001b[1;31mError while decoding stream #0:0: Invalid data found when processing input\n",
            "\u001b[0msize=    3148kB time=00:01:40.72 bitrate= 256.0kbits/s speed= 564x    \n",
            "video:0kB audio:3148kB subtitle:0kB other streams:0kB global headers:0kB muxing overhead: 0.006391%\n"
          ]
        }
      ]
    },
    {
      "cell_type": "code",
      "execution_count": null,
      "metadata": {
        "id": "ODqMU5f5j8oq"
      },
      "outputs": [],
      "source": [
        "!ffmpeg -i Kw5jkyLGFGc.m4a -acodec pcm_s16le -ac 1 -ar 16000 Kw5jkyLGFGc.wav"
      ]
    },
    {
      "cell_type": "markdown",
      "metadata": {
        "id": "24HKZajJy06C"
      },
      "source": [
        "Here starts the actual ASR stuff."
      ]
    },
    {
      "cell_type": "code",
      "execution_count": null,
      "metadata": {
        "id": "CSMuf1IzkgE0"
      },
      "outputs": [],
      "source": [
        "!pip install transformers"
      ]
    },
    {
      "cell_type": "code",
      "execution_count": null,
      "metadata": {
        "id": "Xz-XdAEUgWhb"
      },
      "outputs": [],
      "source": [
        "_SWE_MODEL = \"KBLab/wav2vec2-large-voxrex-swedish\""
      ]
    },
    {
      "cell_type": "code",
      "execution_count": null,
      "metadata": {
        "id": "jlDRjS16kaqF"
      },
      "outputs": [],
      "source": [
        "from transformers import pipeline"
      ]
    },
    {
      "cell_type": "code",
      "execution_count": null,
      "metadata": {
        "id": "p5LFs7rRk8ek"
      },
      "outputs": [],
      "source": [
        "pipe = pipeline(model=_SWE_MODEL)"
      ]
    },
    {
      "cell_type": "markdown",
      "metadata": {
        "id": "IZEqRNZfyOHA"
      },
      "source": [
        "For working with strides, there's information in a [blog post](https://huggingface.co/blog/asr-chunking).\n",
        "\n",
        "There isn't much information on getting timestamps from a pipeline, but the detail is in the [pull request](https://github.com/huggingface/transformers/pull/15792)."
      ]
    },
    {
      "cell_type": "code",
      "execution_count": null,
      "metadata": {
        "id": "o9AUM4Po2i7p"
      },
      "outputs": [],
      "source": [
        "output = pipe(\"/content/Kw5jkyLGFGc.wav\", chunk_length_s=10)"
      ]
    },
    {
      "cell_type": "code",
      "execution_count": null,
      "metadata": {
        "id": "WJ5spXO7kmuF"
      },
      "outputs": [],
      "source": [
        "output = pipe(\"/content/Kw5jkyLGFGc.wav\", chunk_length_s=10, return_timestamps=\"word\")"
      ]
    },
    {
      "cell_type": "code",
      "execution_count": null,
      "metadata": {
        "id": "GwgL6OowvTXj"
      },
      "outputs": [],
      "source": [
        "import json\n",
        "with open(\"/content/Kw5jkyLGFGc.json\", \"w\") as f:\n",
        "    json.dump(output, f)"
      ]
    }
  ],
  "metadata": {
    "colab": {
      "collapsed_sections": [],
      "name": "2022-06-30-getting-timestamps-of-swedish-librivox.ipynb",
      "provenance": []
    },
    "kernelspec": {
      "display_name": "Python 3",
      "name": "python3"
    },
    "language_info": {
      "name": "python"
    }
  },
  "nbformat": 4,
  "nbformat_minor": 0
}