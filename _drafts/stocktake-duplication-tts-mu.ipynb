{
 "cells": [
  {
   "cell_type": "markdown",
   "metadata": {},
   "source": [
    "First thing: check that this is running on the right computer:"
   ]
  },
  {
   "cell_type": "code",
   "execution_count": 2,
   "metadata": {},
   "outputs": [],
   "source": [
    "import socket\n",
    "assert socket.gethostname() == \"lcs098116\""
   ]
  },
  {
   "cell_type": "code",
   "execution_count": 3,
   "metadata": {},
   "outputs": [],
   "source": [
    "from pathlib import Path\n",
    "base_path = Path('/media/storage/jim/speech-syn/Corpora')"
   ]
  },
  {
   "cell_type": "markdown",
   "metadata": {},
   "source": [
    "Some imports for later:"
   ]
  },
  {
   "cell_type": "code",
   "execution_count": 4,
   "metadata": {},
   "outputs": [],
   "source": [
    "from pydub import AudioSegment\n",
    "import numpy as np\n",
    "import datetime\n",
    "import pandas as pd"
   ]
  },
  {
   "cell_type": "code",
   "execution_count": 5,
   "metadata": {},
   "outputs": [],
   "source": [
    "df = pd.DataFrame(columns=[\"name\", \"seconds\", \"hms\"])\n",
    "df_cnt = 0"
   ]
  },
  {
   "cell_type": "code",
   "execution_count": 6,
   "metadata": {},
   "outputs": [],
   "source": [
    "def sum_path_by_type(path, pattern):\n",
    "    acc = []\n",
    "    for audio in path.glob(pattern):\n",
    "        audio = AudioSegment.from_file(str(audio))\n",
    "        acc.append(audio.duration_seconds)\n",
    "    return np.sum(acc)"
   ]
  },
  {
   "cell_type": "code",
   "execution_count": 8,
   "metadata": {},
   "outputs": [],
   "source": [
    "MU = base_path / \"ga_MU\"\n",
    "UL = base_path / \"ga_UL\""
   ]
  },
  {
   "cell_type": "code",
   "execution_count": 9,
   "metadata": {},
   "outputs": [],
   "source": [
    "paths = [\n",
    "    MU / \"scealaiocht_amhlaoibh\" / \"orig_mp3\",\n",
    "    MU / \"peig\" / \"text_0001\" / \"wav\",\n",
    "    MU / \"mo_sgeal_fein_CORK\" / \"mp3\",\n",
    "    MU / \"mo_sgeal_fein_CORK\" / \"wav\",\n",
    "    MU / \"cmg\" / \"CMGCorpusBeag\" / \"wav16_trimmed\",\n",
    "    MU / \"cmg\" / \"CMGOther\" / \"wav16_trimmed\",\n",
    "    MU / \"nnc\" / \"CDAlphabet\" / \"ogg\",\n",
    "    MU / \"nnc\" / \"CDAn_tOileanach_part1_newLTS\" / \"ogg\",\n",
    "    MU / \"nnc\" / \"CDAn_tOileanach_part2_newLTS\" / \"ogg\",\n",
    "    MU / \"nnc\" / \"CDAn_tOileanach_part3_newLTS\" / \"ogg\",\n",
    "    MU / \"nnc\" / \"CDAn_tOileanach_part4_newLTS\" / \"ogg\",\n",
    "    MU / \"nnc\" / \"CDNamedEntities01\" / \"ogg\",\n",
    "    MU / \"nnc\" / \"CDNamedEntities02\" / \"ogg\",\n",
    "    MU / \"nnc\" / \"CDSaytime\" / \"ogg\",\n",
    "    MU / \"nnc\" / \"corpas_beag_newLTS\" / \"ogg\",\n",
    "]\n",
    "short_paths = [\n",
    "    \"scealaiocht_amhlaoibh\",\n",
    "    \"peig\",\n",
    "    \"mo_sgeal_fein MP3\",\n",
    "    \"mo_sgeal_fein wav\",\n",
    "    \"CMGCorpusBeag\",\n",
    "    \"CMGOther\",\n",
    "    \"CDAlphabet\",\n",
    "    \"CDAn_tOileanach_part1_newLTS\",\n",
    "    \"CDAn_tOileanach_part2_newLTS\",\n",
    "    \"CDAn_tOileanach_part3_newLTS\",\n",
    "    \"CDAn_tOileanach_part4_newLTS\",\n",
    "    \"CDNamedEntities01\",\n",
    "    \"CDNamedEntities02\",\n",
    "    \"CDSaytime\",\n",
    "    \"corpas_beag_newLTS\",    \n",
    "]\n",
    "globs = [\n",
    "    \"*.mp3\",\n",
    "    \"bbc*.wav\",\n",
    "    \"*.mp3\",\n",
    "    \"*.wav\",\n",
    "    \"*.wav\",\n",
    "    \"*.wav\",\n",
    "    \"*.ogg\",\n",
    "    \"*.ogg\",\n",
    "    \"*.ogg\",\n",
    "    \"*.ogg\",\n",
    "    \"*.ogg\",\n",
    "    \"*.ogg\",\n",
    "    \"*.ogg\",\n",
    "    \"*.ogg\",\n",
    "    \"*.ogg\",\n",
    "]"
   ]
  },
  {
   "cell_type": "code",
   "execution_count": 10,
   "metadata": {},
   "outputs": [],
   "source": [
    "totals = [sum_path_by_type(p, e) for (p, e) in zip(paths, globs)]"
   ]
  },
  {
   "cell_type": "code",
   "execution_count": 12,
   "metadata": {},
   "outputs": [
    {
     "data": {
      "text/plain": [
       "[17184.90658106576,\n",
       " 207.79999999999998,\n",
       " 23484.18612244898,\n",
       " 3713.3583673469384,\n",
       " 4876.356687500001,\n",
       " 1728.5821875000001,\n",
       " 133.71200000000002,\n",
       " 8800.344000000001,\n",
       " 8588.216,\n",
       " 9636.352,\n",
       " 6902.088,\n",
       " 542.9680000000001,\n",
       " 1024.6,\n",
       " 230.73599999999996,\n",
       " 4648.536]"
      ]
     },
     "execution_count": 12,
     "metadata": {},
     "output_type": "execute_result"
    }
   ],
   "source": [
    "totals"
   ]
  },
  {
   "cell_type": "code",
   "execution_count": null,
   "metadata": {},
   "outputs": [],
   "source": [
    "totals = {}\n",
    "for subdir in paths:\n",
    "    dirname = relevant_paths[str(subdir)]\n",
    "    totals[dirname] = sum_path_by_type(subdir, \"*.ogg\")"
   ]
  },
  {
   "cell_type": "code",
   "execution_count": 14,
   "metadata": {},
   "outputs": [],
   "source": [
    "totals_disp = {a: b for (a, b) in zip(short_paths, totals)}"
   ]
  },
  {
   "cell_type": "code",
   "execution_count": 15,
   "metadata": {},
   "outputs": [],
   "source": [
    "totals_hms = {a: str(datetime.timedelta(seconds=b)) for (a, b) in totals_disp.items()}"
   ]
  },
  {
   "cell_type": "code",
   "execution_count": 16,
   "metadata": {},
   "outputs": [
    {
     "name": "stdout",
     "output_type": "stream",
     "text": [
      "scealaiocht_amhlaoibh: 17184.90658106576 seconds (4:46:24.906581)\n",
      "peig: 207.79999999999998 seconds (0:03:27.800000)\n",
      "mo_sgeal_fein MP3: 23484.18612244898 seconds (6:31:24.186122)\n",
      "mo_sgeal_fein wav: 3713.3583673469384 seconds (1:01:53.358367)\n",
      "CMGCorpusBeag: 4876.356687500001 seconds (1:21:16.356688)\n",
      "CMGOther: 1728.5821875000001 seconds (0:28:48.582188)\n",
      "CDAlphabet: 133.71200000000002 seconds (0:02:13.712000)\n",
      "CDAn_tOileanach_part1_newLTS: 8800.344000000001 seconds (2:26:40.344000)\n",
      "CDAn_tOileanach_part2_newLTS: 8588.216 seconds (2:23:08.216000)\n",
      "CDAn_tOileanach_part3_newLTS: 9636.352 seconds (2:40:36.352000)\n",
      "CDAn_tOileanach_part4_newLTS: 6902.088 seconds (1:55:02.088000)\n",
      "CDNamedEntities01: 542.9680000000001 seconds (0:09:02.968000)\n",
      "CDNamedEntities02: 1024.6 seconds (0:17:04.600000)\n",
      "CDSaytime: 230.73599999999996 seconds (0:03:50.736000)\n",
      "corpas_beag_newLTS: 4648.536 seconds (1:17:28.536000)\n"
     ]
    }
   ],
   "source": [
    "for dir in totals_hms.keys():\n",
    "    print(f\"{dir}: {totals_disp[dir]} seconds ({totals_hms[dir]})\")"
   ]
  },
  {
   "cell_type": "code",
   "execution_count": 18,
   "metadata": {},
   "outputs": [],
   "source": [
    "for scdir in totals_hms.keys():\n",
    "    df.loc[df_cnt] = [f\"{scdir}\", totals_disp[scdir], totals_hms[scdir]]\n",
    "    df_cnt += 1"
   ]
  },
  {
   "cell_type": "code",
   "execution_count": 19,
   "metadata": {},
   "outputs": [],
   "source": [
    "df.to_csv(\"mu_tts.csv\")"
   ]
  },
  {
   "cell_type": "code",
   "execution_count": 20,
   "metadata": {},
   "outputs": [
    {
     "data": {
      "text/html": [
       "<table border=\"1\" class=\"dataframe\">\n",
       "  <thead>\n",
       "    <tr style=\"text-align: right;\">\n",
       "      <th></th>\n",
       "      <th>name</th>\n",
       "      <th>seconds</th>\n",
       "      <th>hms</th>\n",
       "    </tr>\n",
       "  </thead>\n",
       "  <tbody>\n",
       "    <tr>\n",
       "      <th>0</th>\n",
       "      <td>scealaiocht_amhlaoibh</td>\n",
       "      <td>17184.906581</td>\n",
       "      <td>4:46:24.906581</td>\n",
       "    </tr>\n",
       "    <tr>\n",
       "      <th>1</th>\n",
       "      <td>peig</td>\n",
       "      <td>207.800000</td>\n",
       "      <td>0:03:27.800000</td>\n",
       "    </tr>\n",
       "    <tr>\n",
       "      <th>2</th>\n",
       "      <td>mo_sgeal_fein MP3</td>\n",
       "      <td>23484.186122</td>\n",
       "      <td>6:31:24.186122</td>\n",
       "    </tr>\n",
       "    <tr>\n",
       "      <th>3</th>\n",
       "      <td>mo_sgeal_fein wav</td>\n",
       "      <td>3713.358367</td>\n",
       "      <td>1:01:53.358367</td>\n",
       "    </tr>\n",
       "    <tr>\n",
       "      <th>4</th>\n",
       "      <td>CMGCorpusBeag</td>\n",
       "      <td>4876.356688</td>\n",
       "      <td>1:21:16.356688</td>\n",
       "    </tr>\n",
       "    <tr>\n",
       "      <th>5</th>\n",
       "      <td>CMGOther</td>\n",
       "      <td>1728.582188</td>\n",
       "      <td>0:28:48.582188</td>\n",
       "    </tr>\n",
       "    <tr>\n",
       "      <th>6</th>\n",
       "      <td>CDAlphabet</td>\n",
       "      <td>133.712000</td>\n",
       "      <td>0:02:13.712000</td>\n",
       "    </tr>\n",
       "    <tr>\n",
       "      <th>7</th>\n",
       "      <td>CDAn_tOileanach_part1_newLTS</td>\n",
       "      <td>8800.344000</td>\n",
       "      <td>2:26:40.344000</td>\n",
       "    </tr>\n",
       "    <tr>\n",
       "      <th>8</th>\n",
       "      <td>CDAn_tOileanach_part2_newLTS</td>\n",
       "      <td>8588.216000</td>\n",
       "      <td>2:23:08.216000</td>\n",
       "    </tr>\n",
       "    <tr>\n",
       "      <th>9</th>\n",
       "      <td>CDAn_tOileanach_part3_newLTS</td>\n",
       "      <td>9636.352000</td>\n",
       "      <td>2:40:36.352000</td>\n",
       "    </tr>\n",
       "    <tr>\n",
       "      <th>10</th>\n",
       "      <td>CDAn_tOileanach_part4_newLTS</td>\n",
       "      <td>6902.088000</td>\n",
       "      <td>1:55:02.088000</td>\n",
       "    </tr>\n",
       "    <tr>\n",
       "      <th>11</th>\n",
       "      <td>CDNamedEntities01</td>\n",
       "      <td>542.968000</td>\n",
       "      <td>0:09:02.968000</td>\n",
       "    </tr>\n",
       "    <tr>\n",
       "      <th>12</th>\n",
       "      <td>CDNamedEntities02</td>\n",
       "      <td>1024.600000</td>\n",
       "      <td>0:17:04.600000</td>\n",
       "    </tr>\n",
       "    <tr>\n",
       "      <th>13</th>\n",
       "      <td>CDSaytime</td>\n",
       "      <td>230.736000</td>\n",
       "      <td>0:03:50.736000</td>\n",
       "    </tr>\n",
       "    <tr>\n",
       "      <th>14</th>\n",
       "      <td>corpas_beag_newLTS</td>\n",
       "      <td>4648.536000</td>\n",
       "      <td>1:17:28.536000</td>\n",
       "    </tr>\n",
       "  </tbody>\n",
       "</table>"
      ],
      "text/plain": [
       "<IPython.core.display.HTML object>"
      ]
     },
     "metadata": {},
     "output_type": "display_data"
    }
   ],
   "source": [
    "from IPython.display import display, HTML\n",
    "display(HTML(df.to_html()))"
   ]
  },
  {
   "cell_type": "code",
   "execution_count": 21,
   "metadata": {},
   "outputs": [
    {
     "name": "stdout",
     "output_type": "stream",
     "text": [
      "Total: 91702.7419458617 (1 day, 1:28:22.741946)\n"
     ]
    }
   ],
   "source": [
    "total_all = np.sum(df['seconds'])\n",
    "total_all_hms = str(datetime.timedelta(seconds=total_all))\n",
    "print(f'Total: {total_all} ({total_all_hms})')"
   ]
  }
 ],
 "metadata": {
  "kernelspec": {
   "display_name": "Python 3",
   "language": "python",
   "name": "python3"
  },
  "language_info": {
   "codemirror_mode": {
    "name": "ipython",
    "version": 3
   },
   "file_extension": ".py",
   "mimetype": "text/x-python",
   "name": "python",
   "nbconvert_exporter": "python",
   "pygments_lexer": "ipython3",
   "version": "3.6.9"
  }
 },
 "nbformat": 4,
 "nbformat_minor": 2
}
