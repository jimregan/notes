{
 "cells": [
  {
   "cell_type": "markdown",
   "id": "fd88a345",
   "metadata": {
    "jupyter": {
     "source_hidden": false
    }
   },
   "source": [
    "# SpeechTokenizer\n",
    "\n",
    "> \"Used in SpeechGPT\"\n",
    "\n",
    "- hidden: true\n",
    "- branch: master\n",
    "- categories: [speechtokenizer, speech_representations]"
   ]
  },
  {
   "cell_type": "markdown",
   "id": "795080d5",
   "metadata": {
    "jupyter": {
     "source_hidden": false
    }
   },
   "source": [
    "```bibtex\n",
    "@misc{zhang2023speechtokenizer,\n",
    "      title={SpeechTokenizer: Unified Speech Tokenizer for Speech Language Models}, \n",
    "      author={Xin Zhang and Dong Zhang and Shimin Li and Yaqian Zhou and Xipeng Qiu},\n",
    "      year={2023},\n",
    "      eprint={2308.16692},\n",
    "      archivePrefix={arXiv},\n",
    "      primaryClass={cs.CL}\n",
    "}\n",
    "```\n",
    "\n",
    "[code](https://github.com/ZhangXInFD/SpeechTokenizer),\n",
    "[model](https://huggingface.co/fnlp/SpeechTokenizer)"
   ]
  },
  {
   "cell_type": "code",
   "execution_count": null,
   "id": "eed33588",
   "metadata": {
    "jupyter": {
     "source_hidden": false
    }
   },
   "outputs": [],
   "source": [
    "%pip install -U speechtokenizer"
   ]
  },
  {
   "cell_type": "code",
   "execution_count": null,
   "id": "edf1f5fa",
   "metadata": {},
   "outputs": [],
   "source": [
    "!git clone https://huggingface.co/fnlp/SpeechTokenizer"
   ]
  },
  {
   "cell_type": "code",
   "execution_count": null,
   "id": "58e14478",
   "metadata": {},
   "outputs": [],
   "source": [
    "from pathlib import Path\n",
    "\n",
    "MODEL_BASE = Path(SpeechTokenizer) / \"speechtokenizer_hubert_avg\"\n",
    "MODEL_PATH = MODEL_BASE / \"SpeechTokenizer.pt\"\n",
    "CONFIG_PATH = MODEL_BASE / \"config.json\""
   ]
  },
  {
   "cell_type": "code",
   "execution_count": null,
   "id": "fee5f6be",
   "metadata": {
    "jupyter": {
     "source_hidden": false
    }
   },
   "outputs": [],
   "source": [
    "model = SpeechTokenizer.load_from_checkpoint(str(CONFIG_PATH), str(MODEL_PATH))\n",
    "model.eval()"
   ]
  }
 ],
 "metadata": {
  "kernelspec": {
   "display_name": "Python 3 (ipykernel)",
   "language": "python",
   "name": "python3"
  },
  "language_info": {
   "codemirror_mode": {
    "name": "ipython",
    "version": 3
   },
   "file_extension": ".py",
   "mimetype": "text/x-python",
   "name": "python",
   "nbconvert_exporter": "python",
   "pygments_lexer": "ipython3",
   "version": "3.11.9"
  },
  "widgets": {
   "application/vnd.jupyter.widget-state+json": {
    "state": {},
    "version_major": 2,
    "version_minor": 0
   }
  }
 },
 "nbformat": 4,
 "nbformat_minor": 5
}
