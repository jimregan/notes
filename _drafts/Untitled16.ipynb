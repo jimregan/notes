{
  "nbformat": 4,
  "nbformat_minor": 0,
  "metadata": {
    "colab": {
      "name": "Untitled16.ipynb",
      "provenance": []
    },
    "kernelspec": {
      "display_name": "Python 3",
      "name": "python3"
    },
    "language_info": {
      "name": "python"
    }
  },
  "cells": [
    {
      "cell_type": "code",
      "metadata": {
        "colab": {
          "base_uri": "https://localhost:8080/"
        },
        "id": "UPTqQv7yC9Un",
        "outputId": "5f405aa3-0d93-40a2-f186-07180dc24283"
      },
      "source": [
        "!pip install pyannote.audio==1.1"
      ],
      "execution_count": null,
      "outputs": [
        {
          "output_type": "stream",
          "text": [
            "Requirement already satisfied: pyannote.audio==1.1 in /usr/local/lib/python3.7/dist-packages (1.1)\n",
            "Requirement already satisfied: pyannote.metrics>=2.3 in /usr/local/lib/python3.7/dist-packages (from pyannote.audio==1.1) (3.0.1)\n",
            "Requirement already satisfied: pyYAML>=3.12 in /usr/local/lib/python3.7/dist-packages (from pyannote.audio==1.1) (3.13)\n",
            "Requirement already satisfied: typing-extensions>=3.7.4; python_version < \"3.8\" in /usr/local/lib/python3.7/dist-packages (from pyannote.audio==1.1) (3.7.4.3)\n",
            "Requirement already satisfied: soundfile>=0.10.2 in /usr/local/lib/python3.7/dist-packages (from pyannote.audio==1.1) (0.10.3.post1)\n",
            "Requirement already satisfied: librosa>=0.8.0 in /usr/local/lib/python3.7/dist-packages (from pyannote.audio==1.1) (0.8.1)\n",
            "Requirement already satisfied: cachetools>=2.0.0 in /usr/local/lib/python3.7/dist-packages (from pyannote.audio==1.1) (4.2.2)\n",
            "Requirement already satisfied: tensorboard>=2.0.0 in /usr/local/lib/python3.7/dist-packages (from pyannote.audio==1.1) (2.5.0)\n",
            "Requirement already satisfied: pyannote.pipeline>=1.5.2 in /usr/local/lib/python3.7/dist-packages (from pyannote.audio==1.1) (2.0)\n",
            "Requirement already satisfied: pescador>=2.1.0 in /usr/local/lib/python3.7/dist-packages (from pyannote.audio==1.1) (2.1.0)\n",
            "Requirement already satisfied: sortedcollections>=1.0.1 in /usr/local/lib/python3.7/dist-packages (from pyannote.audio==1.1) (2.1.0)\n",
            "Requirement already satisfied: sortedcontainers>=2.0.4 in /usr/local/lib/python3.7/dist-packages (from pyannote.audio==1.1) (2.4.0)\n",
            "Requirement already satisfied: tqdm>=4.29.1 in /usr/local/lib/python3.7/dist-packages (from pyannote.audio==1.1) (4.41.1)\n",
            "Requirement already satisfied: pandas>=0.18.0 in /usr/local/lib/python3.7/dist-packages (from pyannote.audio==1.1) (1.1.5)\n",
            "Requirement already satisfied: pyannote.database>=4.0 in /usr/local/lib/python3.7/dist-packages (from pyannote.audio==1.1) (4.1)\n",
            "Requirement already satisfied: Pillow>=6.2.1 in /usr/local/lib/python3.7/dist-packages (from pyannote.audio==1.1) (7.1.2)\n",
            "Requirement already satisfied: pyannote.core>=4.1 in /usr/local/lib/python3.7/dist-packages (from pyannote.audio==1.1) (4.1)\n",
            "Requirement already satisfied: scikit-learn>=0.20.2 in /usr/local/lib/python3.7/dist-packages (from pyannote.audio==1.1) (0.22.2.post1)\n",
            "Requirement already satisfied: scipy>=1.1.0 in /usr/local/lib/python3.7/dist-packages (from pyannote.metrics>=2.3->pyannote.audio==1.1) (1.4.1)\n",
            "Requirement already satisfied: tabulate>=0.7.7 in /usr/local/lib/python3.7/dist-packages (from pyannote.metrics>=2.3->pyannote.audio==1.1) (0.8.9)\n",
            "Requirement already satisfied: sympy>=1.1 in /usr/local/lib/python3.7/dist-packages (from pyannote.metrics>=2.3->pyannote.audio==1.1) (1.7.1)\n",
            "Requirement already satisfied: matplotlib>=2.0.0 in /usr/local/lib/python3.7/dist-packages (from pyannote.metrics>=2.3->pyannote.audio==1.1) (3.2.2)\n",
            "Requirement already satisfied: docopt>=0.6.2 in /usr/local/lib/python3.7/dist-packages (from pyannote.metrics>=2.3->pyannote.audio==1.1) (0.6.2)\n",
            "Requirement already satisfied: cffi>=1.0 in /usr/local/lib/python3.7/dist-packages (from soundfile>=0.10.2->pyannote.audio==1.1) (1.14.5)\n",
            "Requirement already satisfied: numpy>=1.15.0 in /usr/local/lib/python3.7/dist-packages (from librosa>=0.8.0->pyannote.audio==1.1) (1.19.5)\n",
            "Requirement already satisfied: numba>=0.43.0 in /usr/local/lib/python3.7/dist-packages (from librosa>=0.8.0->pyannote.audio==1.1) (0.51.2)\n",
            "Requirement already satisfied: joblib>=0.14 in /usr/local/lib/python3.7/dist-packages (from librosa>=0.8.0->pyannote.audio==1.1) (1.0.1)\n",
            "Requirement already satisfied: audioread>=2.0.0 in /usr/local/lib/python3.7/dist-packages (from librosa>=0.8.0->pyannote.audio==1.1) (2.1.9)\n",
            "Requirement already satisfied: decorator>=3.0.0 in /usr/local/lib/python3.7/dist-packages (from librosa>=0.8.0->pyannote.audio==1.1) (4.4.2)\n",
            "Requirement already satisfied: pooch>=1.0 in /usr/local/lib/python3.7/dist-packages (from librosa>=0.8.0->pyannote.audio==1.1) (1.4.0)\n",
            "Requirement already satisfied: packaging>=20.0 in /usr/local/lib/python3.7/dist-packages (from librosa>=0.8.0->pyannote.audio==1.1) (20.9)\n",
            "Requirement already satisfied: resampy>=0.2.2 in /usr/local/lib/python3.7/dist-packages (from librosa>=0.8.0->pyannote.audio==1.1) (0.2.2)\n",
            "Requirement already satisfied: google-auth<2,>=1.6.3 in /usr/local/lib/python3.7/dist-packages (from tensorboard>=2.0.0->pyannote.audio==1.1) (1.31.0)\n",
            "Requirement already satisfied: werkzeug>=0.11.15 in /usr/local/lib/python3.7/dist-packages (from tensorboard>=2.0.0->pyannote.audio==1.1) (1.0.1)\n",
            "Requirement already satisfied: requests<3,>=2.21.0 in /usr/local/lib/python3.7/dist-packages (from tensorboard>=2.0.0->pyannote.audio==1.1) (2.23.0)\n",
            "Requirement already satisfied: grpcio>=1.24.3 in /usr/local/lib/python3.7/dist-packages (from tensorboard>=2.0.0->pyannote.audio==1.1) (1.34.1)\n",
            "Requirement already satisfied: setuptools>=41.0.0 in /usr/local/lib/python3.7/dist-packages (from tensorboard>=2.0.0->pyannote.audio==1.1) (57.0.0)\n",
            "Requirement already satisfied: tensorboard-plugin-wit>=1.6.0 in /usr/local/lib/python3.7/dist-packages (from tensorboard>=2.0.0->pyannote.audio==1.1) (1.8.0)\n",
            "Requirement already satisfied: wheel>=0.26; python_version >= \"3\" in /usr/local/lib/python3.7/dist-packages (from tensorboard>=2.0.0->pyannote.audio==1.1) (0.36.2)\n",
            "Requirement already satisfied: protobuf>=3.6.0 in /usr/local/lib/python3.7/dist-packages (from tensorboard>=2.0.0->pyannote.audio==1.1) (3.12.4)\n",
            "Requirement already satisfied: google-auth-oauthlib<0.5,>=0.4.1 in /usr/local/lib/python3.7/dist-packages (from tensorboard>=2.0.0->pyannote.audio==1.1) (0.4.4)\n",
            "Requirement already satisfied: tensorboard-data-server<0.7.0,>=0.6.0 in /usr/local/lib/python3.7/dist-packages (from tensorboard>=2.0.0->pyannote.audio==1.1) (0.6.1)\n",
            "Requirement already satisfied: markdown>=2.6.8 in /usr/local/lib/python3.7/dist-packages (from tensorboard>=2.0.0->pyannote.audio==1.1) (3.3.4)\n",
            "Requirement already satisfied: absl-py>=0.4 in /usr/local/lib/python3.7/dist-packages (from tensorboard>=2.0.0->pyannote.audio==1.1) (0.12.0)\n",
            "Requirement already satisfied: optuna>=1.4 in /usr/local/lib/python3.7/dist-packages (from pyannote.pipeline>=1.5.2->pyannote.audio==1.1) (2.8.0)\n",
            "Requirement already satisfied: filelock>=3.0.10 in /usr/local/lib/python3.7/dist-packages (from pyannote.pipeline>=1.5.2->pyannote.audio==1.1) (3.0.12)\n",
            "Requirement already satisfied: pyzmq>=15.0 in /usr/local/lib/python3.7/dist-packages (from pescador>=2.1.0->pyannote.audio==1.1) (22.1.0)\n",
            "Requirement already satisfied: six>=1.8 in /usr/local/lib/python3.7/dist-packages (from pescador>=2.1.0->pyannote.audio==1.1) (1.15.0)\n",
            "Requirement already satisfied: python-dateutil>=2.7.3 in /usr/local/lib/python3.7/dist-packages (from pandas>=0.18.0->pyannote.audio==1.1) (2.8.1)\n",
            "Requirement already satisfied: pytz>=2017.2 in /usr/local/lib/python3.7/dist-packages (from pandas>=0.18.0->pyannote.audio==1.1) (2018.9)\n",
            "Requirement already satisfied: typer[all]>=0.2.1 in /usr/local/lib/python3.7/dist-packages (from pyannote.database>=4.0->pyannote.audio==1.1) (0.3.2)\n",
            "Requirement already satisfied: simplejson>=3.8.1 in /usr/local/lib/python3.7/dist-packages (from pyannote.core>=4.1->pyannote.audio==1.1) (3.17.2)\n",
            "Requirement already satisfied: mpmath>=0.19 in /usr/local/lib/python3.7/dist-packages (from sympy>=1.1->pyannote.metrics>=2.3->pyannote.audio==1.1) (1.2.1)\n",
            "Requirement already satisfied: pyparsing!=2.0.4,!=2.1.2,!=2.1.6,>=2.0.1 in /usr/local/lib/python3.7/dist-packages (from matplotlib>=2.0.0->pyannote.metrics>=2.3->pyannote.audio==1.1) (2.4.7)\n",
            "Requirement already satisfied: kiwisolver>=1.0.1 in /usr/local/lib/python3.7/dist-packages (from matplotlib>=2.0.0->pyannote.metrics>=2.3->pyannote.audio==1.1) (1.3.1)\n",
            "Requirement already satisfied: cycler>=0.10 in /usr/local/lib/python3.7/dist-packages (from matplotlib>=2.0.0->pyannote.metrics>=2.3->pyannote.audio==1.1) (0.10.0)\n",
            "Requirement already satisfied: pycparser in /usr/local/lib/python3.7/dist-packages (from cffi>=1.0->soundfile>=0.10.2->pyannote.audio==1.1) (2.20)\n",
            "Requirement already satisfied: llvmlite<0.35,>=0.34.0.dev0 in /usr/local/lib/python3.7/dist-packages (from numba>=0.43.0->librosa>=0.8.0->pyannote.audio==1.1) (0.34.0)\n",
            "Requirement already satisfied: appdirs in /usr/local/lib/python3.7/dist-packages (from pooch>=1.0->librosa>=0.8.0->pyannote.audio==1.1) (1.4.4)\n",
            "Requirement already satisfied: pyasn1-modules>=0.2.1 in /usr/local/lib/python3.7/dist-packages (from google-auth<2,>=1.6.3->tensorboard>=2.0.0->pyannote.audio==1.1) (0.2.8)\n",
            "Requirement already satisfied: rsa<5,>=3.1.4; python_version >= \"3.6\" in /usr/local/lib/python3.7/dist-packages (from google-auth<2,>=1.6.3->tensorboard>=2.0.0->pyannote.audio==1.1) (4.7.2)\n",
            "Requirement already satisfied: urllib3!=1.25.0,!=1.25.1,<1.26,>=1.21.1 in /usr/local/lib/python3.7/dist-packages (from requests<3,>=2.21.0->tensorboard>=2.0.0->pyannote.audio==1.1) (1.24.3)\n",
            "Requirement already satisfied: chardet<4,>=3.0.2 in /usr/local/lib/python3.7/dist-packages (from requests<3,>=2.21.0->tensorboard>=2.0.0->pyannote.audio==1.1) (3.0.4)\n",
            "Requirement already satisfied: certifi>=2017.4.17 in /usr/local/lib/python3.7/dist-packages (from requests<3,>=2.21.0->tensorboard>=2.0.0->pyannote.audio==1.1) (2021.5.30)\n",
            "Requirement already satisfied: idna<3,>=2.5 in /usr/local/lib/python3.7/dist-packages (from requests<3,>=2.21.0->tensorboard>=2.0.0->pyannote.audio==1.1) (2.10)\n",
            "Requirement already satisfied: requests-oauthlib>=0.7.0 in /usr/local/lib/python3.7/dist-packages (from google-auth-oauthlib<0.5,>=0.4.1->tensorboard>=2.0.0->pyannote.audio==1.1) (1.3.0)\n",
            "Requirement already satisfied: importlib-metadata; python_version < \"3.8\" in /usr/local/lib/python3.7/dist-packages (from markdown>=2.6.8->tensorboard>=2.0.0->pyannote.audio==1.1) (4.5.0)\n",
            "Requirement already satisfied: cliff in /usr/local/lib/python3.7/dist-packages (from optuna>=1.4->pyannote.pipeline>=1.5.2->pyannote.audio==1.1) (3.8.0)\n",
            "Requirement already satisfied: alembic in /usr/local/lib/python3.7/dist-packages (from optuna>=1.4->pyannote.pipeline>=1.5.2->pyannote.audio==1.1) (1.6.5)\n",
            "Requirement already satisfied: cmaes>=0.8.2 in /usr/local/lib/python3.7/dist-packages (from optuna>=1.4->pyannote.pipeline>=1.5.2->pyannote.audio==1.1) (0.8.2)\n",
            "Requirement already satisfied: colorlog in /usr/local/lib/python3.7/dist-packages (from optuna>=1.4->pyannote.pipeline>=1.5.2->pyannote.audio==1.1) (5.0.1)\n",
            "Requirement already satisfied: sqlalchemy>=1.1.0 in /usr/local/lib/python3.7/dist-packages (from optuna>=1.4->pyannote.pipeline>=1.5.2->pyannote.audio==1.1) (1.4.18)\n",
            "Requirement already satisfied: click<7.2.0,>=7.1.1 in /usr/local/lib/python3.7/dist-packages (from typer[all]>=0.2.1->pyannote.database>=4.0->pyannote.audio==1.1) (7.1.2)\n",
            "Requirement already satisfied: shellingham<2.0.0,>=1.3.0; extra == \"all\" in /usr/local/lib/python3.7/dist-packages (from typer[all]>=0.2.1->pyannote.database>=4.0->pyannote.audio==1.1) (1.4.0)\n",
            "Requirement already satisfied: colorama<0.5.0,>=0.4.3; extra == \"all\" in /usr/local/lib/python3.7/dist-packages (from typer[all]>=0.2.1->pyannote.database>=4.0->pyannote.audio==1.1) (0.4.4)\n",
            "Requirement already satisfied: pyasn1<0.5.0,>=0.4.6 in /usr/local/lib/python3.7/dist-packages (from pyasn1-modules>=0.2.1->google-auth<2,>=1.6.3->tensorboard>=2.0.0->pyannote.audio==1.1) (0.4.8)\n",
            "Requirement already satisfied: oauthlib>=3.0.0 in /usr/local/lib/python3.7/dist-packages (from requests-oauthlib>=0.7.0->google-auth-oauthlib<0.5,>=0.4.1->tensorboard>=2.0.0->pyannote.audio==1.1) (3.1.1)\n",
            "Requirement already satisfied: zipp>=0.5 in /usr/local/lib/python3.7/dist-packages (from importlib-metadata; python_version < \"3.8\"->markdown>=2.6.8->tensorboard>=2.0.0->pyannote.audio==1.1) (3.4.1)\n",
            "Requirement already satisfied: PrettyTable>=0.7.2 in /usr/local/lib/python3.7/dist-packages (from cliff->optuna>=1.4->pyannote.pipeline>=1.5.2->pyannote.audio==1.1) (2.1.0)\n",
            "Requirement already satisfied: pbr!=2.1.0,>=2.0.0 in /usr/local/lib/python3.7/dist-packages (from cliff->optuna>=1.4->pyannote.pipeline>=1.5.2->pyannote.audio==1.1) (5.6.0)\n",
            "Requirement already satisfied: stevedore>=2.0.1 in /usr/local/lib/python3.7/dist-packages (from cliff->optuna>=1.4->pyannote.pipeline>=1.5.2->pyannote.audio==1.1) (3.3.0)\n",
            "Requirement already satisfied: cmd2>=1.0.0 in /usr/local/lib/python3.7/dist-packages (from cliff->optuna>=1.4->pyannote.pipeline>=1.5.2->pyannote.audio==1.1) (2.1.1)\n",
            "Requirement already satisfied: python-editor>=0.3 in /usr/local/lib/python3.7/dist-packages (from alembic->optuna>=1.4->pyannote.pipeline>=1.5.2->pyannote.audio==1.1) (1.0.4)\n",
            "Requirement already satisfied: Mako in /usr/local/lib/python3.7/dist-packages (from alembic->optuna>=1.4->pyannote.pipeline>=1.5.2->pyannote.audio==1.1) (1.1.4)\n",
            "Requirement already satisfied: greenlet!=0.4.17; python_version >= \"3\" in /usr/local/lib/python3.7/dist-packages (from sqlalchemy>=1.1.0->optuna>=1.4->pyannote.pipeline>=1.5.2->pyannote.audio==1.1) (1.1.0)\n",
            "Requirement already satisfied: wcwidth in /usr/local/lib/python3.7/dist-packages (from PrettyTable>=0.7.2->cliff->optuna>=1.4->pyannote.pipeline>=1.5.2->pyannote.audio==1.1) (0.2.5)\n",
            "Requirement already satisfied: pyperclip>=1.6 in /usr/local/lib/python3.7/dist-packages (from cmd2>=1.0.0->cliff->optuna>=1.4->pyannote.pipeline>=1.5.2->pyannote.audio==1.1) (1.8.2)\n",
            "Requirement already satisfied: attrs>=16.3.0 in /usr/local/lib/python3.7/dist-packages (from cmd2>=1.0.0->cliff->optuna>=1.4->pyannote.pipeline>=1.5.2->pyannote.audio==1.1) (21.2.0)\n",
            "Requirement already satisfied: MarkupSafe>=0.9.2 in /usr/local/lib/python3.7/dist-packages (from Mako->alembic->optuna>=1.4->pyannote.pipeline>=1.5.2->pyannote.audio==1.1) (2.0.1)\n"
          ],
          "name": "stdout"
        }
      ]
    },
    {
      "cell_type": "code",
      "metadata": {
        "colab": {
          "base_uri": "https://localhost:8080/"
        },
        "id": "ASPU8t4cDaQ2",
        "outputId": "e810e396-297c-43c7-a1f0-d23907d838c0"
      },
      "source": [
        "!wget http://www.bealoideasbeo.ie/bealoideas/httpdocs/fuaim/iomlan/teip/010T0013.mp3 "
      ],
      "execution_count": null,
      "outputs": [
        {
          "output_type": "stream",
          "text": [
            "--2021-06-17 22:28:32--  http://www.bealoideasbeo.ie/bealoideas/httpdocs/fuaim/iomlan/teip/010T0013.mp3\n",
            "Resolving www.bealoideasbeo.ie (www.bealoideasbeo.ie)... 193.1.204.215, 2001:770:1c:29::c101:ccd7\n",
            "Connecting to www.bealoideasbeo.ie (www.bealoideasbeo.ie)|193.1.204.215|:80... connected.\n",
            "HTTP request sent, awaiting response... 200 OK\n",
            "Length: 44676212 (43M) [audio/mpeg]\n",
            "Saving to: ‘010T0013.mp3.1’\n",
            "\n",
            "010T0013.mp3.1      100%[===================>]  42.61M  17.7MB/s    in 2.4s    \n",
            "\n",
            "2021-06-17 22:28:35 (17.7 MB/s) - ‘010T0013.mp3.1’ saved [44676212/44676212]\n",
            "\n"
          ],
          "name": "stdout"
        }
      ]
    },
    {
      "cell_type": "code",
      "metadata": {
        "colab": {
          "base_uri": "https://localhost:8080/"
        },
        "id": "KGO4hsXtDcl7",
        "outputId": "05e9d4a5-a1f5-4aa0-db1e-b971e9fe9e48"
      },
      "source": [
        "!ffmpeg -i 010T0013.mp3 -acodec pcm_s16le -ac 1 -ar 16000 010T0013.wav"
      ],
      "execution_count": null,
      "outputs": [
        {
          "output_type": "stream",
          "text": [
            "ffmpeg version 3.4.8-0ubuntu0.2 Copyright (c) 2000-2020 the FFmpeg developers\n",
            "  built with gcc 7 (Ubuntu 7.5.0-3ubuntu1~18.04)\n",
            "  configuration: --prefix=/usr --extra-version=0ubuntu0.2 --toolchain=hardened --libdir=/usr/lib/x86_64-linux-gnu --incdir=/usr/include/x86_64-linux-gnu --enable-gpl --disable-stripping --enable-avresample --enable-avisynth --enable-gnutls --enable-ladspa --enable-libass --enable-libbluray --enable-libbs2b --enable-libcaca --enable-libcdio --enable-libflite --enable-libfontconfig --enable-libfreetype --enable-libfribidi --enable-libgme --enable-libgsm --enable-libmp3lame --enable-libmysofa --enable-libopenjpeg --enable-libopenmpt --enable-libopus --enable-libpulse --enable-librubberband --enable-librsvg --enable-libshine --enable-libsnappy --enable-libsoxr --enable-libspeex --enable-libssh --enable-libtheora --enable-libtwolame --enable-libvorbis --enable-libvpx --enable-libwavpack --enable-libwebp --enable-libx265 --enable-libxml2 --enable-libxvid --enable-libzmq --enable-libzvbi --enable-omx --enable-openal --enable-opengl --enable-sdl2 --enable-libdc1394 --enable-libdrm --enable-libiec61883 --enable-chromaprint --enable-frei0r --enable-libopencv --enable-libx264 --enable-shared\n",
            "  libavutil      55. 78.100 / 55. 78.100\n",
            "  libavcodec     57.107.100 / 57.107.100\n",
            "  libavformat    57. 83.100 / 57. 83.100\n",
            "  libavdevice    57. 10.100 / 57. 10.100\n",
            "  libavfilter     6.107.100 /  6.107.100\n",
            "  libavresample   3.  7.  0 /  3.  7.  0\n",
            "  libswscale      4.  8.100 /  4.  8.100\n",
            "  libswresample   2.  9.100 /  2.  9.100\n",
            "  libpostproc    54.  7.100 / 54.  7.100\n",
            "\u001b[0;35m[mp3 @ 0x558a2265e000] \u001b[0m\u001b[0;33mEstimating duration from bitrate, this may be inaccurate\n",
            "\u001b[0mInput #0, mp3, from '010T0013.mp3':\n",
            "  Metadata:\n",
            "    title           : Bridie Joe Mc Kechnie\n",
            "    artist          : Bridie Joe Mc Kechnie\n",
            "    album           : Seanachas/Béaloideas\n",
            "    date            : 2006\n",
            "    genre           : Speech\n",
            "  Duration: 00:46:32.25, start: 0.000000, bitrate: 128 kb/s\n",
            "    Stream #0:0: Audio: mp3, 44100 Hz, mono, s16p, 128 kb/s\n",
            "File '010T0013.wav' already exists. Overwrite ? [y/N] y\n",
            "Stream mapping:\n",
            "  Stream #0:0 -> #0:0 (mp3 (native) -> pcm_s16le (native))\n",
            "Press [q] to stop, [?] for help\n",
            "Output #0, wav, to '010T0013.wav':\n",
            "  Metadata:\n",
            "    INAM            : Bridie Joe Mc Kechnie\n",
            "    IART            : Bridie Joe Mc Kechnie\n",
            "    IPRD            : Seanachas/Béaloideas\n",
            "    ICRD            : 2006\n",
            "    IGNR            : Speech\n",
            "    ISFT            : Lavf57.83.100\n",
            "    Stream #0:0: Audio: pcm_s16le ([1][0][0][0] / 0x0001), 16000 Hz, mono, s16, 256 kb/s\n",
            "    Metadata:\n",
            "      encoder         : Lavc57.107.100 pcm_s16le\n",
            "size=   87258kB time=00:46:32.25 bitrate= 256.0kbits/s speed= 505x    \n",
            "video:0kB audio:87258kB subtitle:0kB other streams:0kB global headers:0kB muxing overhead: 0.000222%\n"
          ],
          "name": "stdout"
        }
      ]
    },
    {
      "cell_type": "code",
      "metadata": {
        "id": "N5f7Bfc1Enve"
      },
      "source": [
        "import pyannote.core"
      ],
      "execution_count": null,
      "outputs": []
    },
    {
      "cell_type": "code",
      "metadata": {
        "colab": {
          "base_uri": "https://localhost:8080/"
        },
        "id": "7wTIDNjzDqFZ",
        "outputId": "eba495c9-376e-498e-d6e3-cacc3638585e"
      },
      "source": [
        "import torch\n",
        "import pyannote.core\n",
        "pipeline = torch.hub.load('pyannote/pyannote-audio', 'dia')\n",
        "diarization = pipeline({'audio': '010T0013.wav'})"
      ],
      "execution_count": 6,
      "outputs": [
        {
          "output_type": "stream",
          "text": [
            "Using cache found in /root/.cache/torch/hub/pyannote_pyannote-audio_master\n",
            "Using cache found in /root/.cache/torch/hub/pyannote_pyannote-audio_master\n",
            "Using cache found in /root/.cache/torch/hub/pyannote_pyannote-audio_master\n",
            "Using cache found in /root/.cache/torch/hub/pyannote_pyannote-audio_master\n",
            "/usr/local/lib/python3.7/dist-packages/pyannote/audio/embedding/approaches/arcface_loss.py:170: FutureWarning:\n",
            "\n",
            "The 's' parameter is deprecated in favor of 'scale', and will be removed in a future release\n",
            "\n",
            "/usr/local/lib/python3.7/dist-packages/pyannote/audio/features/pretrained.py:156: UserWarning:\n",
            "\n",
            "Model was trained with 4s chunks and is applied on 2s chunks. This might lead to sub-optimal results.\n",
            "\n",
            "Using cache found in /root/.cache/torch/hub/pyannote_pyannote-audio_master\n"
          ],
          "name": "stderr"
        }
      ]
    },
    {
      "cell_type": "code",
      "metadata": {
        "id": "IIIpDKG0NW8Q"
      },
      "source": [
        "diarization"
      ],
      "execution_count": null,
      "outputs": []
    },
    {
      "cell_type": "code",
      "metadata": {
        "colab": {
          "base_uri": "https://localhost:8080/"
        },
        "id": "uSfnG2DUNfh4",
        "outputId": "efebd613-e960-42d4-df83-f881a2fec2c8"
      },
      "source": [
        "from pyannote.core import Segment, Timeline, Annotation\n",
        "\n",
        "import pyannote.core.json\n",
        "\n",
        "pyannote.core.json.dumps(Segment(0, 1))\n",
        "\n",
        "timeline = Timeline([Segment(0, 1), Segment(1, 3)], uri='my_file')\n",
        "\n",
        "serialized = pyannote.core.json.dumps(timeline)\n",
        "\n",
        "deserialized = pyannote.core.json.loads(serialized)\n",
        "\n",
        "deserialized == timeline"
      ],
      "execution_count": 7,
      "outputs": [
        {
          "output_type": "execute_result",
          "data": {
            "text/plain": [
              "True"
            ]
          },
          "metadata": {
            "tags": []
          },
          "execution_count": 7
        }
      ]
    },
    {
      "cell_type": "code",
      "metadata": {
        "id": "jYWam1mnXZE5"
      },
      "source": [
        "json = pyannote.core.json.dumps(diarization)"
      ],
      "execution_count": 9,
      "outputs": []
    },
    {
      "cell_type": "code",
      "metadata": {
        "id": "xMZNULgMXfNM"
      },
      "source": [
        "with open('010T0013.json', 'w') as f:  \n",
        "  f.write(json)"
      ],
      "execution_count": 12,
      "outputs": []
    }
  ]
}