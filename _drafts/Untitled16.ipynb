{
  "nbformat": 4,
  "nbformat_minor": 0,
  "metadata": {
    "colab": {
      "name": "syllabify-phonetisaurus-output.ipynb",
      "provenance": [],
      "collapsed_sections": []
    },
    "kernelspec": {
      "name": "python3",
      "display_name": "Python 3"
    },
    "language_info": {
      "name": "python"
    }
  },
  "cells": [
    {
      "cell_type": "code",
      "metadata": {
        "id": "0azNZqbS0Gir"
      },
      "source": [
        "def is_schwa(phone, is_timit=True):\n",
        "  if is_timit:\n",
        "    return phone in [\"ax\", \"axr\", \"ix\"]\n",
        "  else:\n",
        "    return phone == \"AH0\"\n",
        "\n",
        "# CMUdict doesn't have syllabic consonants\n",
        "def is_syllabic_consonant(phone, is_timit=True):\n",
        "  SYLLC = [\"el\", \"em\", \"en\", \"er\", \"er1\", \"er2\"]\n",
        "  if is_timit and phone in SYLLC:\n",
        "    return True\n",
        "  else:\n",
        "    return False\n",
        "\n",
        "def is_vowel(phone):\n",
        "  VOWELS = [\"aa\", \"ae\", \"ah\", \"ao\", \"aw\", \"ax\", \"axr\", \"ay\", \"eh\", \"ey\", \"ih\", \"ix\", \"iy\", \"ow\", \"oy\", \"uh\", \"uw\"]\n",
        "  if phone[-1] in \"012\":\n",
        "    return phone[:-1].lower() in VOWELS\n",
        "  else:\n",
        "    return phone.lower() in VOWELS\n",
        "\n",
        "def is_vocalic(phone):\n",
        "  return is_vowel(phone) or is_syllabic_consonant(phone)\n",
        "\n",
        "# http://web.archive.org/web/20100614180508/http://semarch.linguistics.fas.nyu.edu/barker/Syllables/syllabify.pl\n",
        "def sonority(phone):\n",
        "  STOPS = [\"p\", \"b\", \"t\", \"d\", \"k\", \"g\"]\n",
        "  AFFRICATES = [\"ch\", \"jh\"]\n",
        "  FRICATIVES = [\"th\", \"dh\", \"f\", \"v\", \"s\", \"z\", \"sh\", \"zh\"]\n",
        "  NASALS = [\"m\", \"n\", \"ng\"]\n",
        "  LIQUIDS = [\"l\", \"r\"]\n",
        "  GLIDES = [\"w\", \"y\"]\n",
        "\n",
        "  # 's' is special\n",
        "  if phone == \"s\":\n",
        "    return 1\n",
        "  elif phone in STOPS:\n",
        "    return 1\n",
        "  elif phone in AFFRICATES:\n",
        "    return 2\n",
        "  elif phone in FRICATIVES:\n",
        "    return 3\n",
        "  elif phone in NASALS:\n",
        "    return 4\n",
        "  elif phone in LIQUIDS:\n",
        "    return 5\n",
        "  elif phone == \"hh\":\n",
        "    return 6\n",
        "  elif phone in GLIDES:\n",
        "    return 6\n",
        "  else:\n",
        "    return 7"
      ],
      "execution_count": null,
      "outputs": []
    },
    {
      "cell_type": "code",
      "metadata": {
        "id": "bRXWVrlz-55a"
      },
      "source": [
        "def last_phoneme(graphone):\n",
        "  grapheme, phoneme = graphone.split('}')\n",
        "  return phoneme.split('|')[-1]\n",
        "def first_phoneme(graphone):\n",
        "  grapheme, phoneme = graphone.split('}')\n",
        "  return phoneme.split('|')[0]"
      ],
      "execution_count": null,
      "outputs": []
    },
    {
      "cell_type": "code",
      "metadata": {
        "id": "tnsR3m_v_Pcn"
      },
      "source": [
        "assert last_phoneme('x}e|k|s') == 's'\n",
        "assert first_phoneme('x}e|k|s') == 'e'"
      ],
      "execution_count": null,
      "outputs": []
    },
    {
      "cell_type": "code",
      "metadata": {
        "id": "WpG4dzJW_JR2"
      },
      "source": [
        "def voicing_mismatch(phone1, phone2):\n",
        "  VOICED   = [\"b\", \"d\", \"g\", \"jh\", \"dh\", \"v\", \"z\", \"zh\"]\n",
        "  DEVOICED = [\"p\", \"t\", \"k\", \"ch\", \"th\", \"f\", \"s\", \"sh\"]\n",
        "  if phone1 in VOICED and phone2 in DEVOICED:\n",
        "    return True\n",
        "  elif phone2 in VOICED and phone1 in DEVOICED:\n",
        "    return True\n",
        "  else:\n",
        "    return False"
      ],
      "execution_count": null,
      "outputs": []
    },
    {
      "cell_type": "code",
      "metadata": {
        "id": "VyS9LkeFAe3E"
      },
      "source": [
        "def merge_graphones(graphones):\n",
        "  graphemes = []\n",
        "  phonemes = []\n",
        "  for graphone in graphones:\n",
        "    graphemes_string, phonemes_string = graphone.split('}')\n",
        "    cur_graphemes = graphemes_string.split('|')\n",
        "    cur_phonemes = phonemes_string.split('|')\n",
        "    graphemes += cur_graphemes\n",
        "    phonemes += cur_phonemes\n",
        "  if len(graphemes) > 1:\n",
        "    pruned_graphemes = [a for a in graphemes if a != '_']\n",
        "    if len(pruned_graphemes) == 0:\n",
        "      pruned_graphemes = ['_']\n",
        "  else:\n",
        "    pruned_graphemes = graphemes\n",
        "  if len(phonemes) > 1:\n",
        "    pruned_phonemes = [a for a in phonemes if a != '_']\n",
        "    if len(pruned_phonemes) == 0:\n",
        "      pruned_phonemes = ['_']\n",
        "  else:\n",
        "    pruned_phonemes = phonemes\n",
        "  return '}'.join(('|'.join(pruned_graphemes), '|'.join(pruned_phonemes)))\n"
      ],
      "execution_count": null,
      "outputs": []
    },
    {
      "cell_type": "code",
      "metadata": {
        "id": "h5h_JMZWMAuP"
      },
      "source": [
        "assert merge_graphones(\"a}a t|h}th x}k|s\".split(' ')) == 'a|t|h|x}a|th|k|s'\n",
        "assert merge_graphones(\"a}a t|h}th x}k|s e}_\".split(' ')) == 'a|t|h|x|e}a|th|k|s'\n",
        "assert merge_graphones(\"a}_ t|h}_ x}_ e}_\".split(' ')) == 'a|t|h|x|e}_'\n",
        "assert merge_graphones(\"_}a _}th _}k|s\".split(' ')) == '_}a|th|k|s'"
      ],
      "execution_count": null,
      "outputs": []
    },
    {
      "cell_type": "code",
      "metadata": {
        "id": "EkyIgSQq1lLP"
      },
      "source": [
        "def syllabify(graphones):\n",
        "    sonority_up = True\n",
        "    last_sonority_up = True\n",
        "    last_sonority = 0\n",
        "    isvowel = False\n",
        "    last_isvowel = False\n",
        "    saw_vowel = False\n",
        "    stack = []\n",
        "    output = []\n",
        "    last_phoneme = \"\"\n",
        "    labials = [\"p\", \"b\", \"m\", \"f\", \"v\"]\n",
        "    s_sh = [\"s\", \"sh\"]\n",
        "    for graphone in graphones[::-1]:\n",
        "        phoneme = first_phoneme(graphone)\n",
        "        phone_sonority = sonority(phoneme)\n",
        "  \n",
        "        isvowel = is_vocalic(phoneme)\n",
        "\n",
        "        sonority_up = last_sonority < phone_sonority \n",
        "\n",
        "        # For timit\n",
        "        if graphone == '_':\n",
        "            stack.append(graphone)\n",
        "            continue\n",
        "\n",
        "        if last_sonority == 3 and phone_sonority == 1:\n",
        "            sonority_up = True\n",
        "\n",
        "        if last_phoneme == 'w' and phoneme in labials:\n",
        "            last_sonority_up = False\n",
        "            sonority_up = True\n",
        "\n",
        "        if last_phoneme == \"m\" and not sonority_up and not phoneme in s_sh:\n",
        "            last_sonority_up = False\n",
        "            sonority_up = True\n",
        "\n",
        "        if phoneme == \"m\" and not sonority_up and last_sonority < 7:\n",
        "            last_sonority_up = False\n",
        "            sonority_up = True\n",
        "\n",
        "        if phoneme == \"n\" and not sonority_up and last_sonority < 6:\n",
        "            last_sonority_up = False\n",
        "            sonority_up = True\n",
        "\n",
        "        if last_phoneme == \"m\" and not sonority_up and not phoneme in s_sh:\n",
        "            last_sonority_up = False\n",
        "            sonority_up = True\n",
        "\n",
        "        if not sonority_up and phoneme == \"ng\":\n",
        "            last_sonority_up = False\n",
        "            sonority_up = True\n",
        "\n",
        "        if last_sonority == 7 and phone_sonority == 7:\n",
        "            last_sonority_up = True\n",
        "            sonority_up = True \n",
        "\n",
        "        if sonority_up and last_sonority == 1 and sonority == 1 and phoneme != \"s\":\n",
        "            sonority_up = True\n",
        "\n",
        "        # avoid bs/ps onsets\n",
        "        if last_phoneme in [\"s\", \"sh\", \"z\", \"zh\"] and phoneme in \"bp\": \n",
        "            last_sonority_up = False\n",
        "            sonority_up = True\n",
        "\n",
        "        if last_phoneme == 'l' and phoneme in ['d', 't', 'dh', 'th']: \n",
        "            last_sonority_up = False\n",
        "            sonority_up = True\n",
        "\n",
        "        def splitsyll():\n",
        "            if not saw_vowel:\n",
        "                return False\n",
        "            if isvowel and saw_vowel:\n",
        "                return True\n",
        "            if last_isvowel and isvowel:\n",
        "                return True\n",
        "            if voicing_mismatch(phoneme, last_phoneme):\n",
        "                return True\n",
        "            if not last_sonority_up and sonority_up:\n",
        "                return True\n",
        "            return False\n",
        "\n",
        "        if splitsyll():\n",
        "            output.append(merge_graphones(stack[::-1]))\n",
        "            stack = []\n",
        "            saw_vowel = False\n",
        "\n",
        "        stack.append(graphone)\n",
        "        last_sonority_up = sonority_up\n",
        "        last_phoneme = phoneme\n",
        "        last_sonority = phone_sonority\n",
        "        last_isvowel = isvowel\n",
        "        saw_vowel = saw_vowel or isvowel\n",
        "\n",
        "    output.append(merge_graphones(stack[::-1]))\n",
        "    return output[::-1]\n"
      ],
      "execution_count": null,
      "outputs": []
    },
    {
      "cell_type": "code",
      "metadata": {
        "id": "1cZe6s__NRqQ"
      },
      "source": [
        "assert syllabify('a}ax b}b o|u}aw1 t}t'.split(' ')) == ['a}ax', 'b|o|u|t}b|aw1|t']\n"
      ],
      "execution_count": null,
      "outputs": []
    },
    {
      "cell_type": "code",
      "metadata": {
        "id": "as4idufH_xFN"
      },
      "source": [
        "with open('TIMIT.clean.corpus', 'r') as f, open('TIMIT.syllable.corpus', 'w') as of:\n",
        "  for line in f.readlines():\n",
        "    graphones = line.split(' ')\n",
        "    syll = syllabify(graphones)\n",
        "    print(' '.join(syll), file=of)"
      ],
      "execution_count": null,
      "outputs": []
    }
  ]
}