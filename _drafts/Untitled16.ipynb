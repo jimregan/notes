{
  "nbformat": 4,
  "nbformat_minor": 0,
  "metadata": {
    "colab": {
      "name": "Untitled16.ipynb",
      "provenance": []
    },
    "kernelspec": {
      "display_name": "Python 3",
      "name": "python3"
    },
    "language_info": {
      "name": "python"
    }
  },
  "cells": [
    {
      "cell_type": "code",
      "metadata": {
        "id": "UPTqQv7yC9Un"
      },
      "source": [
        "!pip install pyannote.audio==1.1"
      ],
      "execution_count": null,
      "outputs": []
    },
    {
      "cell_type": "code",
      "metadata": {
        "id": "ASPU8t4cDaQ2"
      },
      "source": [
        "!wget http://www.bealoideasbeo.ie/bealoideas/httpdocs/fuaim/iomlan/teip/010T0013.mp3 "
      ],
      "execution_count": null,
      "outputs": []
    },
    {
      "cell_type": "code",
      "metadata": {
        "id": "KGO4hsXtDcl7"
      },
      "source": [
        "!ffmpeg -i 010T0013.mp3 -acodec pcm_s16le -ac 1 -ar 16000 010T0013.wav"
      ],
      "execution_count": null,
      "outputs": []
    },
    {
      "cell_type": "code",
      "metadata": {
        "id": "N5f7Bfc1Enve"
      },
      "source": [
        "import pyannote.core"
      ],
      "execution_count": null,
      "outputs": []
    },
    {
      "cell_type": "code",
      "metadata": {
        "id": "7wTIDNjzDqFZ"
      },
      "source": [
        "import torch\n",
        "import pyannote.core\n",
        "pipeline = torch.hub.load('pyannote/pyannote-audio', 'dia')\n",
        "diarization = pipeline({'audio': '010T0013.wav'})"
      ],
      "execution_count": null,
      "outputs": []
    },
    {
      "cell_type": "code",
      "metadata": {
        "id": "jYWam1mnXZE5"
      },
      "source": [
        "json = pyannote.core.json.dumps(diarization)"
      ],
      "execution_count": 9,
      "outputs": []
    },
    {
      "cell_type": "code",
      "metadata": {
        "id": "xMZNULgMXfNM"
      },
      "source": [
        "with open('010T0013.json', 'w') as f:  \n",
        "  f.write(json)"
      ],
      "execution_count": 12,
      "outputs": []
    }
  ]
}