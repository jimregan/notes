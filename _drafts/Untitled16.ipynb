{
  "nbformat": 4,
  "nbformat_minor": 0,
  "metadata": {
    "colab": {
      "name": "Untitled16.ipynb",
      "provenance": []
    },
    "kernelspec": {
      "name": "python3",
      "display_name": "Python 3"
    },
    "language_info": {
      "name": "python"
    },
    "widgets": {
      "application/vnd.jupyter.widget-state+json": {
        "eae4557fea35445e9d5ac69fc71c713a": {
          "model_module": "jupyter-leaflet",
          "model_name": "LeafletMapModel",
          "state": {
            "_view_name": "LeafletMapView",
            "keyboard_pan_offset": 80,
            "right": 0,
            "tap": true,
            "_view_module": "jupyter-leaflet",
            "max_zoom": 18,
            "_model_module_version": "^0.14.0",
            "_view_count": null,
            "zoom_snap": 1,
            "min_zoom": 1,
            "bounce_at_zoom_limits": true,
            "keyboard": true,
            "north": 0,
            "scroll_wheel_zoom": false,
            "dragging": true,
            "_model_module": "jupyter-leaflet",
            "zoom_delta": 1,
            "close_popup_on_click": true,
            "fullscreen": false,
            "style": "IPY_MODEL_0e4ee31931b74567a866e77edacaae40",
            "layout": "IPY_MODEL_2c90a9e0ec5141a69eaf368b3e7edda8",
            "bottom": 0,
            "inertia_max_speed": 1500,
            "top": 9007199254740991,
            "box_zoom": true,
            "controls": [
              "IPY_MODEL_98ede9ea3eb3480ab2f5a6429d5221fc",
              "IPY_MODEL_1d084ddc000948d78ff26a940c0be48e"
            ],
            "default_style": "IPY_MODEL_447b7d3dc11043d79e18acc07c585663",
            "east": 0,
            "double_click_zoom": true,
            "interpolation": "bilinear",
            "layers": [
              "IPY_MODEL_fee7970f89894ff6a46bbef4e6fa38da"
            ],
            "dragging_style": "IPY_MODEL_9b4e0dbe8db548ccbcf4c7ec7e11991e",
            "_dom_classes": [],
            "zoom_animation_threshold": 4,
            "_model_name": "LeafletMapModel",
            "zoom_start": 12,
            "modisdate": "yesterday",
            "keyboard_zoom_offset": 1,
            "inertia_deceleration": 3000,
            "inertia": true,
            "crs": {
              "name": "EPSG3857",
              "custom": false
            },
            "center": [
              53,
              7
            ],
            "zoom": 8,
            "world_copy_jump": false,
            "_view_module_version": "^0.14.0",
            "window_url": "",
            "tap_tolerance": 15,
            "west": 0,
            "touch_zoom": true,
            "options": [
              "bounce_at_zoom_limits",
              "box_zoom",
              "center",
              "close_popup_on_click",
              "double_click_zoom",
              "dragging",
              "fullscreen",
              "inertia",
              "inertia_deceleration",
              "inertia_max_speed",
              "interpolation",
              "keyboard",
              "keyboard_pan_offset",
              "keyboard_zoom_offset",
              "max_zoom",
              "min_zoom",
              "scroll_wheel_zoom",
              "tap",
              "tap_tolerance",
              "touch_zoom",
              "world_copy_jump",
              "zoom",
              "zoom_animation_threshold",
              "zoom_delta",
              "zoom_snap",
              "zoom_start"
            ],
            "south": 0,
            "left": 9007199254740991
          }
        }
      }
    }
  },
  "cells": [
    {
      "cell_type": "code",
      "metadata": {
        "id": "T2qz5bJMZvNn"
      },
      "source": [
        "%%capture\n",
        "!pip install ipyleaflet"
      ],
      "execution_count": 2,
      "outputs": []
    },
    {
      "cell_type": "code",
      "metadata": {
        "colab": {
          "base_uri": "https://localhost:8080/",
          "height": 17,
          "referenced_widgets": [
            "eae4557fea35445e9d5ac69fc71c713a"
          ]
        },
        "id": "MCd2YHCDd2BZ",
        "outputId": "b31e0682-439c-4d30-f77c-a2f1186c3a00"
      },
      "source": [
        "from ipyleaflet import *\n",
        "m = Map(center=(53, 7), zoom=8, basemap=basemaps.Esri.DeLorme)"
      ],
      "execution_count": 5,
      "outputs": [
        {
          "output_type": "display_data",
          "data": {
            "application/vnd.jupyter.widget-view+json": {
              "model_id": "eae4557fea35445e9d5ac69fc71c713a",
              "version_minor": 0,
              "version_major": 2
            },
            "text/plain": [
              "Map(center=[53, 7], controls=(ZoomControl(options=['position', 'zoom_in_text', 'zoom_in_title', 'zoom_out_text…"
            ]
          },
          "metadata": {
            "tags": []
          }
        }
      ]
    },
    {
      "cell_type": "code",
      "metadata": {
        "id": "-Z9JbgyielFM",
        "outputId": "dccef9bb-5655-4e8b-9483-fe26434fa604",
        "colab": {
          "base_uri": "https://localhost:8080/",
          "height": 17,
          "referenced_widgets": [
            "eae4557fea35445e9d5ac69fc71c713a"
          ]
        }
      },
      "source": [
        "m"
      ],
      "execution_count": 7,
      "outputs": [
        {
          "output_type": "display_data",
          "data": {
            "application/vnd.jupyter.widget-view+json": {
              "model_id": "eae4557fea35445e9d5ac69fc71c713a",
              "version_minor": 0,
              "version_major": 2
            },
            "text/plain": [
              "Map(center=[53, 7], controls=(ZoomControl(options=['position', 'zoom_in_text', 'zoom_in_title', 'zoom_out_text…"
            ]
          },
          "metadata": {
            "tags": []
          }
        }
      ]
    },
    {
      "cell_type": "markdown",
      "metadata": {
        "id": "BMUbZCeybqaO"
      },
      "source": [
        "# Syllables as a Unit for Automatic Speech Recognition\n",
        "\n",
        "### Jim O’Regan"
      ]
    },
    {
      "cell_type": "markdown",
      "metadata": {
        "id": "h_7fUOwfZwDK"
      },
      "source": [
        "> I have a policy of never answering questions about TIMIT because the real answer for any such question is, \"Don't use TIMIT, and don't base your recipes on TIMIT\".\n",
        ">\n",
        "> [Dan Povey, June 2019, `kaldi-help` mailing list](https://groups.google.com/g/kaldi-help/c/9buFi8v6Btg/m/3SKFgJI0AwAJ)"
      ]
    },
    {
      "cell_type": "markdown",
      "metadata": {
        "id": "0w-ohIqNaxf2"
      },
      "source": [
        "> The TIMIT testing protocol pretty much dictates that you are supposed to use the bigram phone LM, which is an extremely poor LM for that task.  That's one of the reasons why almost no results using TIMIT are meaningful-- because the use of a good LM is \"not allowed\", certain methods, like recurrent acoustic models and CTC, which *implicitly* do language modeling, appear to be doing well\n",
        ">\n",
        "> [Dan Povey, March 2017, `kaldi-help` mailing list](https://groups.google.com/g/kaldi-help/c/i17cx9SEVVo/m/w0uxwLE0BgAJ)"
      ]
    }
  ]
}