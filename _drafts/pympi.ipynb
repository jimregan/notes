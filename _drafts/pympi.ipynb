{
 "cells": [
  {
   "cell_type": "code",
   "execution_count": 2,
   "metadata": {},
   "outputs": [
    {
     "name": "stdout",
     "output_type": "stream",
     "text": [
      "Collecting pympi-ling\n",
      "  Using cached pympi_ling-1.70.2-py2.py3-none-any.whl (24 kB)\n",
      "Installing collected packages: pympi-ling\n",
      "Successfully installed pympi-ling-1.70.2\n"
     ]
    }
   ],
   "source": [
    "!pip install pympi-ling"
   ]
  },
  {
   "cell_type": "code",
   "execution_count": 3,
   "metadata": {},
   "outputs": [],
   "source": [
    "_EG = \"/Users/joregan/egeaf/R_RD_M4_VP427_18.eaf\""
   ]
  },
  {
   "cell_type": "code",
   "execution_count": 4,
   "metadata": {},
   "outputs": [],
   "source": [
    "import pympi"
   ]
  },
  {
   "cell_type": "code",
   "execution_count": 5,
   "metadata": {},
   "outputs": [],
   "source": [
    "eaf = pympi.Elan.Eaf(_EG)"
   ]
  },
  {
   "cell_type": "code",
   "execution_count": 23,
   "metadata": {},
   "outputs": [
    {
     "name": "stdout",
     "output_type": "stream",
     "text": [
      "a1\t1097\t4418\tdu taškas keturiasdešimtas straipsnis\n",
      "a2\t5167\t8406\tJuridinio asmens pavadinimo sudarymas\n",
      "a3\t9152\t10675\tvienas taškas\n",
      "a4\t11390\t13524\tJuridinio asmens pavadinimas \n",
      "a5\t13923\t17531\tyra sudaromas iš žodžių ar žodžių junginių\n",
      "a6\t18018\t20623\tvartojamų perkeltine reikšme \n",
      "a7\t21048\t21693\tarba \n",
      "a8\t21934\t24330\tturinčių tiesioginę reikšmę\n",
      "a9\t25161\t25709\tdu \n",
      "a10\t25788\t26592\ttaškas\n",
      "a11\t27298\t29764\tJuridinio asmens pavadinimas \n",
      "a12\t30272\t32112\tturi būti sudarytas \n",
      "a13\t32223\t35662\tlaikantis lietuvių bendrinės kalbos normų \n",
      "a14\t36142\t38316\tir negali būti sudarytas \n",
      "a15\t38852\t41623\ttik iš tiesioginę veiklos daiktų \n",
      "a16\t42152\t46404\tar paslaugų rūšį nurodančio bendrinio žodžio\n",
      "a17\t46815\t47709\tžodžių\n",
      "a18\t48257\t50440\tarba tik iš vietovardžio\n",
      "a19\t51046\t53392\tarba tik iš kitokio žodžio\n",
      "a20\t53815\t56915\tneturinčio skiriamojo požymio\n",
      "a21\t57705\t59192\ttrys taškas\n",
      "a22\t60024\t62258\tJuridinio asmens pavadinimas \n",
      "a23\t62659\t65344\tgali būti sudarytas iš raidžių\n",
      "a24\t65759\t68957\tkurios negali būti suprantamos kaip žodžiai\n",
      "a25\t69397\t70909\tir skaitmenų \n",
      "a26\t71010\t72652\tarba jų derinių \n",
      "a27\t73195\t74157\ttik tada\n",
      "a28\t74669\t76727\tjeigu toks pavadinimas \n",
      "a29\t76899\t79587\tyra nusistovėjęs visuomenėje\n",
      "a30\t80372\t81866\tJuridinio asmens\n",
      "a31\t82198\t88168\tsusijusio su užsienio juridiniu asmeniu ar kirta organizacija\n",
      "a32\t88690\t91729\tpavadinimas gali būti sudaromas taip\n",
      "a33\t92144\t97538\tkad jis būtų tapatus ar panašus į užsienio juridinio asmens \n",
      "a34\t97984\t101112\tar kitos organizacijos pavadinimą\n",
      "a35\t101758\t105823\tjei yra šių sutikimas naudoti pavadinimą\n",
      "a36\t106682\t110020\tdu taškas keturiasdešim pirmas straipsnis\n",
      "a37\t111459\t114583\tSteigiamo juridinio asmens pavadinimas\n",
      "a38\t117255\t118721\tvienas taškas\n",
      "a39\t119378\t125721\tJuridinio asmens steigėjai gali kreiptis į juridinių asmenų registrą \n",
      "a40\t126124\t129543\tdėl steigiamo juridinio asmens pavadinimo \n",
      "a41\t129859\t134050\tlaikino įtraukimo į juridinių asmenų registrą\n",
      "a42\t134969\t136275\tdu taškas\n",
      "a43\t136974\t139897\tSteigiamo juridinio asmens pavadinimui \n",
      "a44\t140242\t142788\ttaikomos tokios pačios taisyklės \n",
      "a45\t143125\t145844\tkaip ir juridinio asmens pavadinimui\n",
      "a46\t146140\t150397\tišskyrus šio kodekso du taškas trisdešim devyni \n",
      "a47\t150668\t153449\tstraipsnio ketvirtą dalį ir \n",
      "a48\t153764\t156983\tdu taškas keturiasdešim du straipsnį\n",
      "a49\t157912\t159341\ttrys taškas\n",
      "a50\t159973\t162890\tSteigiamo juridinio asmens pavadinimas \n",
      "a51\t163170\t166364\tįtraukiamas į juridinių asmenų registrą \n",
      "a52\t167220\t171022\tšešiems mėnesiams ir šiam terminui pasibaigus \n",
      "a53\t171326\t176701\tišbraukiamas nepranešus apie tai juridinio asmens steigėjams\n"
     ]
    }
   ],
   "source": [
    "for tier in eaf.tiers['speech'][0].keys():\n",
    "    data = eaf.tiers['speech'][0][tier]\n",
    "    start = eaf.timeslots[data[0]]\n",
    "    end = eaf.timeslots[data[1]]\n",
    "    text = data[2]\n",
    "    print(f\"{tier}\\t{start}\\t{end}\\t{text}\")"
   ]
  }
 ],
 "metadata": {
  "interpreter": {
   "hash": "dd927b719e572b496e2474453a2ada7f45c90bda9f6c95960374c767a23741c2"
  },
  "kernelspec": {
   "display_name": "Python 3.8.12 64-bit ('psst')",
   "language": "python",
   "name": "python3"
  },
  "language_info": {
   "codemirror_mode": {
    "name": "ipython",
    "version": 3
   },
   "file_extension": ".py",
   "mimetype": "text/x-python",
   "name": "python",
   "nbconvert_exporter": "python",
   "pygments_lexer": "ipython3",
   "version": "3.8.12"
  },
  "orig_nbformat": 4
 },
 "nbformat": 4,
 "nbformat_minor": 2
}
