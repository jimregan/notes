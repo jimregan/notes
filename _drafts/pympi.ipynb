{
 "cells": [
  {
   "cell_type": "code",
   "execution_count": 9,
   "metadata": {},
   "outputs": [],
   "source": [
    "DATAPATH = \"/mnt/cloud/lithuanian-asr/data\""
   ]
  },
  {
   "cell_type": "code",
   "execution_count": 1,
   "metadata": {},
   "outputs": [
    {
     "name": "stdout",
     "output_type": "stream",
     "text": [
      "Collecting pympi-ling\n",
      "  Downloading pympi_ling-1.70.2-py2.py3-none-any.whl (24 kB)\n",
      "Installing collected packages: pympi-ling\n",
      "Successfully installed pympi-ling-1.70.2\n"
     ]
    }
   ],
   "source": [
    "!pip install pympi-ling"
   ]
  },
  {
   "cell_type": "code",
   "execution_count": 2,
   "metadata": {},
   "outputs": [],
   "source": [
    "import pympi\n",
    "from pathlib import Path\n",
    "from pydub import AudioSegment"
   ]
  },
  {
   "cell_type": "code",
   "execution_count": 5,
   "metadata": {},
   "outputs": [],
   "source": [
    "def get_eaf_data(filename):\n",
    "    filepath = Path(filename)\n",
    "    base = filepath.stem\n",
    "    eaf = pympi.Elan.Eaf(filename)\n",
    "    tiers = []\n",
    "\n",
    "    if not 'speech' in eaf.tiers:\n",
    "        print(\"Error reading file\", filename)\n",
    "        return []\n",
    "\n",
    "    for tier in eaf.tiers['speech'][0].keys():\n",
    "        current = {}\n",
    "        id = f\"{base}_{tier}\"\n",
    "        current[\"id\"] = id\n",
    "        data = eaf.tiers['speech'][0][tier]\n",
    "        current[\"start\"] = eaf.timeslots[data[0]]\n",
    "        current[\"end\"] = eaf.timeslots[data[1]]\n",
    "        current[\"text\"] = data[2]\n",
    "        tiers.append(current)\n",
    "\n",
    "    return tiers"
   ]
  },
  {
   "cell_type": "code",
   "execution_count": 3,
   "metadata": {},
   "outputs": [],
   "source": [
    "def write_split_wavs(outdir, filename, data):\n",
    "    outpath = Path(outdir)\n",
    "    original = AudioSegment.from_wav(filename)\n",
    "    for piece in data:\n",
    "        outfile = outpath / f\"{piece['id']}.wav\"\n",
    "        audio = original[piece[\"start\"]:piece[\"end\"]]\n",
    "        audio.export(str(outfile), format=\"wav\")\n"
   ]
  },
  {
   "cell_type": "code",
   "execution_count": 13,
   "metadata": {},
   "outputs": [],
   "source": [
    "def append_to_tsv(tsv_file, data):\n",
    "    with open(tsv_file, \"a\") as f:\n",
    "        for item in data:\n",
    "            f.write(f\"{item['id']}\\t{item['text']}\\n\")"
   ]
  },
  {
   "cell_type": "code",
   "execution_count": 6,
   "metadata": {},
   "outputs": [],
   "source": [
    "SAMPLE = \"/mnt/cloud/lithuanian-asr/data/R_RS_F3_AS113_01.eaf\"\n",
    "SAMPLE_WAV = SAMPLE.replace(\".eaf\", \".wav\")\n",
    "data = get_eaf_data(SAMPLE)\n",
    "write_split_wavs(\"/tmp/foo\", SAMPLE_WAV, data)"
   ]
  },
  {
   "cell_type": "code",
   "execution_count": 14,
   "metadata": {},
   "outputs": [
    {
     "ename": "KeyError",
     "evalue": "'speech'",
     "output_type": "error",
     "traceback": [
      "\u001b[0;31m---------------------------------------------------------------------------\u001b[0m",
      "\u001b[0;31mKeyError\u001b[0m                                  Traceback (most recent call last)",
      "\u001b[1;32m/home/joregan/pympi.ipynb Cell 8'\u001b[0m in \u001b[0;36m<cell line: 1>\u001b[0;34m()\u001b[0m\n\u001b[1;32m      <a href='vscode-notebook-cell://ssh-remote%2Bb-tower/home/joregan/pympi.ipynb#ch0000005vscode-remote?line=0'>1</a>\u001b[0m \u001b[39mfor\u001b[39;00m eaf_file \u001b[39min\u001b[39;00m Path(DATAPATH)\u001b[39m.\u001b[39mglob(\u001b[39m\"\u001b[39m\u001b[39m*.eaf\u001b[39m\u001b[39m\"\u001b[39m):\n\u001b[0;32m----> <a href='vscode-notebook-cell://ssh-remote%2Bb-tower/home/joregan/pympi.ipynb#ch0000005vscode-remote?line=1'>2</a>\u001b[0m     data \u001b[39m=\u001b[39m get_eaf_data(eaf_file)\n\u001b[1;32m      <a href='vscode-notebook-cell://ssh-remote%2Bb-tower/home/joregan/pympi.ipynb#ch0000005vscode-remote?line=2'>3</a>\u001b[0m     wav_file \u001b[39m=\u001b[39m \u001b[39mstr\u001b[39m(eaf_file)\u001b[39m.\u001b[39mreplace(\u001b[39m\"\u001b[39m\u001b[39m.eaf\u001b[39m\u001b[39m\"\u001b[39m, \u001b[39m\"\u001b[39m\u001b[39m.wav\u001b[39m\u001b[39m\"\u001b[39m)\n\u001b[1;32m      <a href='vscode-notebook-cell://ssh-remote%2Bb-tower/home/joregan/pympi.ipynb#ch0000005vscode-remote?line=3'>4</a>\u001b[0m     write_split_wavs(\u001b[39m\"\u001b[39m\u001b[39m/mnt/cloud/liepa-split\u001b[39m\u001b[39m\"\u001b[39m, wav_file, data)\n",
      "\u001b[1;32m/home/joregan/pympi.ipynb Cell 4'\u001b[0m in \u001b[0;36mget_eaf_data\u001b[0;34m(filename)\u001b[0m\n\u001b[1;32m      <a href='vscode-notebook-cell://ssh-remote%2Bb-tower/home/joregan/pympi.ipynb#ch0000003vscode-remote?line=3'>4</a>\u001b[0m eaf \u001b[39m=\u001b[39m pympi\u001b[39m.\u001b[39mElan\u001b[39m.\u001b[39mEaf(filename)\n\u001b[1;32m      <a href='vscode-notebook-cell://ssh-remote%2Bb-tower/home/joregan/pympi.ipynb#ch0000003vscode-remote?line=4'>5</a>\u001b[0m tiers \u001b[39m=\u001b[39m []\n\u001b[0;32m----> <a href='vscode-notebook-cell://ssh-remote%2Bb-tower/home/joregan/pympi.ipynb#ch0000003vscode-remote?line=6'>7</a>\u001b[0m \u001b[39mfor\u001b[39;00m tier \u001b[39min\u001b[39;00m eaf\u001b[39m.\u001b[39;49mtiers[\u001b[39m'\u001b[39;49m\u001b[39mspeech\u001b[39;49m\u001b[39m'\u001b[39;49m][\u001b[39m0\u001b[39m]\u001b[39m.\u001b[39mkeys():\n\u001b[1;32m      <a href='vscode-notebook-cell://ssh-remote%2Bb-tower/home/joregan/pympi.ipynb#ch0000003vscode-remote?line=7'>8</a>\u001b[0m     current \u001b[39m=\u001b[39m {}\n\u001b[1;32m      <a href='vscode-notebook-cell://ssh-remote%2Bb-tower/home/joregan/pympi.ipynb#ch0000003vscode-remote?line=8'>9</a>\u001b[0m     \u001b[39mid\u001b[39m \u001b[39m=\u001b[39m \u001b[39mf\u001b[39m\u001b[39m\"\u001b[39m\u001b[39m{\u001b[39;00mbase\u001b[39m}\u001b[39;00m\u001b[39m_\u001b[39m\u001b[39m{\u001b[39;00mtier\u001b[39m}\u001b[39;00m\u001b[39m\"\u001b[39m\n",
      "\u001b[0;31mKeyError\u001b[0m: 'speech'"
     ]
    }
   ],
   "source": [
    "for eaf_file in Path(DATAPATH).glob(\"*.eaf\"):\n",
    "    data = get_eaf_data(eaf_file)\n",
    "    wav_file = str(eaf_file).replace(\".eaf\", \".wav\")\n",
    "    write_split_wavs(\"/mnt/cloud/liepa-split\", wav_file, data)\n",
    "    append_to_tsv(\"/mnt/cloud/liepa-split/text.tsv\", data)"
   ]
  }
 ],
 "metadata": {
  "interpreter": {
   "hash": "dd927b719e572b496e2474453a2ada7f45c90bda9f6c95960374c767a23741c2"
  },
  "kernelspec": {
   "display_name": "Python 3.8.12 64-bit ('psst')",
   "language": "python",
   "name": "python3"
  },
  "language_info": {
   "codemirror_mode": {
    "name": "ipython",
    "version": 3
   },
   "file_extension": ".py",
   "mimetype": "text/x-python",
   "name": "python",
   "nbconvert_exporter": "python",
   "pygments_lexer": "ipython3",
   "version": "3.8.10"
  },
  "orig_nbformat": 4
 },
 "nbformat": 4,
 "nbformat_minor": 2
}
