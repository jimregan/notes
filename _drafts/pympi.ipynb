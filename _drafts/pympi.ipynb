{
 "cells": [
  {
   "cell_type": "code",
   "execution_count": 5,
   "metadata": {},
   "outputs": [],
   "source": [
    "DATAPATH = \"/mnt/cloud/lithuanian-asr/data\""
   ]
  },
  {
   "cell_type": "code",
   "execution_count": 1,
   "metadata": {},
   "outputs": [
    {
     "name": "stdout",
     "output_type": "stream",
     "text": [
      "Collecting pympi-ling\n",
      "  Downloading pympi_ling-1.70.2-py2.py3-none-any.whl (24 kB)\n",
      "Installing collected packages: pympi-ling\n",
      "Successfully installed pympi-ling-1.70.2\n"
     ]
    }
   ],
   "source": [
    "!pip install pympi-ling"
   ]
  },
  {
   "cell_type": "code",
   "execution_count": 2,
   "metadata": {},
   "outputs": [],
   "source": [
    "import pympi\n",
    "from pathlib import Path\n",
    "from pydub import AudioSegment"
   ]
  },
  {
   "cell_type": "code",
   "execution_count": 5,
   "metadata": {},
   "outputs": [],
   "source": [
    "def get_eaf_data(filename):\n",
    "    filepath = Path(filename)\n",
    "    base = filepath.stem\n",
    "    eaf = pympi.Elan.Eaf(filename)\n",
    "    tiers = []\n",
    "\n",
    "    for tier in eaf.tiers['speech'][0].keys():\n",
    "        current = {}\n",
    "        id = f\"{base}_{tier}\"\n",
    "        current[\"id\"] = id\n",
    "        data = eaf.tiers['speech'][0][tier]\n",
    "        current[\"start\"] = eaf.timeslots[data[0]]\n",
    "        current[\"end\"] = eaf.timeslots[data[1]]\n",
    "        current[\"text\"] = data[2]\n",
    "        tiers.append(current)\n",
    "\n",
    "    return tiers"
   ]
  },
  {
   "cell_type": "code",
   "execution_count": 3,
   "metadata": {},
   "outputs": [],
   "source": [
    "def write_split_wavs(outdir, filename, data):\n",
    "    outpath = Path(outdir)\n",
    "    original = AudioSegment.from_wav(filename)\n",
    "    for piece in data:\n",
    "        outfile = outpath / f\"{piece['id']}.wav\"\n",
    "        audio = original[piece[\"start\"]:piece[\"end\"]]\n",
    "        audio.export(str(outfile), format=\"wav\")\n"
   ]
  },
  {
   "cell_type": "code",
   "execution_count": 6,
   "metadata": {},
   "outputs": [],
   "source": [
    "SAMPLE = \"/mnt/cloud/lithuanian-asr/data/R_RS_F3_AS113_01.eaf\"\n",
    "SAMPLE_WAV = SAMPLE.replace(\".eaf\", \".wav\")\n",
    "data = get_eaf_data(SAMPLE)\n",
    "write_split_wavs(\"/tmp/foo\", SAMPLE_WAV, data)"
   ]
  },
  {
   "cell_type": "code",
   "execution_count": null,
   "metadata": {},
   "outputs": [],
   "source": [
    "for eaf_file in Path(DATAPATH).glob(\"*.eaf\"):\n",
    "    print(eaf_file)"
   ]
  }
 ],
 "metadata": {
  "interpreter": {
   "hash": "dd927b719e572b496e2474453a2ada7f45c90bda9f6c95960374c767a23741c2"
  },
  "kernelspec": {
   "display_name": "Python 3.8.12 64-bit ('psst')",
   "language": "python",
   "name": "python3"
  },
  "language_info": {
   "codemirror_mode": {
    "name": "ipython",
    "version": 3
   },
   "file_extension": ".py",
   "mimetype": "text/x-python",
   "name": "python",
   "nbconvert_exporter": "python",
   "pygments_lexer": "ipython3",
   "version": "3.8.10"
  },
  "orig_nbformat": 4
 },
 "nbformat": 4,
 "nbformat_minor": 2
}
