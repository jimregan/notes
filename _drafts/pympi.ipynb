{
 "cells": [
  {
   "cell_type": "code",
   "execution_count": 9,
   "metadata": {},
   "outputs": [],
   "source": [
    "DATAPATH = \"/mnt/cloud/lithuanian-asr/data\""
   ]
  },
  {
   "cell_type": "code",
   "execution_count": 1,
   "metadata": {},
   "outputs": [
    {
     "name": "stdout",
     "output_type": "stream",
     "text": [
      "Collecting pympi-ling\n",
      "  Downloading pympi_ling-1.70.2-py2.py3-none-any.whl (24 kB)\n",
      "Installing collected packages: pympi-ling\n",
      "Successfully installed pympi-ling-1.70.2\n"
     ]
    }
   ],
   "source": [
    "!pip install pympi-ling"
   ]
  },
  {
   "cell_type": "code",
   "execution_count": 2,
   "metadata": {},
   "outputs": [],
   "source": [
    "import pympi\n",
    "from pathlib import Path\n",
    "from pydub import AudioSegment"
   ]
  },
  {
   "cell_type": "code",
   "execution_count": 15,
   "metadata": {},
   "outputs": [],
   "source": [
    "def get_eaf_data(filename):\n",
    "    filepath = Path(filename)\n",
    "    base = filepath.stem\n",
    "    eaf = pympi.Elan.Eaf(filename)\n",
    "    tiers = []\n",
    "\n",
    "    def is_simple_layout(tiers):\n",
    "        if len(tiers) == 1 and 'speech' in tiers:\n",
    "            return True\n",
    "        elif len(tiers) == 2 and 'speech' in tiers and 'noise' in tiers:\n",
    "            return True\n",
    "        elif len(tiers) == 3 and 'speech' in tiers and 'noise' in tiers and 'ss' in tiers:\n",
    "            return True\n",
    "        else:\n",
    "            return False\n",
    "    if is_simple_layout(eaf.tiers):\n",
    "        tiernames = ['speech']\n",
    "        simple = True\n",
    "    else:\n",
    "        skip = ['noise', 'ss']\n",
    "        tiernames = [a for a in eaf.tiers.key() if a not in skip]\n",
    "        simple = False\n",
    "\n",
    "    for tiername in tiernames:\n",
    "        for tier in eaf.tiers[tiername][0].keys():\n",
    "            current = {}\n",
    "            id = f\"{base}_{tier}\"\n",
    "            if not simple:\n",
    "                id = f\"{base}_{tiername}_{tier}\"\n",
    "            current[\"id\"] = id\n",
    "            data = eaf.tiers['speech'][0][tier]\n",
    "            current[\"start\"] = eaf.timeslots[data[0]]\n",
    "            current[\"end\"] = eaf.timeslots[data[1]]\n",
    "            current[\"text\"] = data[2]\n",
    "            tiers.append(current)\n",
    "\n",
    "    return tiers"
   ]
  },
  {
   "cell_type": "code",
   "execution_count": 3,
   "metadata": {},
   "outputs": [],
   "source": [
    "def write_split_wavs(outdir, filename, data):\n",
    "    outpath = Path(outdir)\n",
    "    original = AudioSegment.from_wav(filename)\n",
    "    for piece in data:\n",
    "        outfile = outpath / f\"{piece['id']}.wav\"\n",
    "        audio = original[piece[\"start\"]:piece[\"end\"]]\n",
    "        audio.export(str(outfile), format=\"wav\")\n"
   ]
  },
  {
   "cell_type": "code",
   "execution_count": 13,
   "metadata": {},
   "outputs": [],
   "source": [
    "def append_to_tsv(tsv_file, data):\n",
    "    with open(tsv_file, \"a\") as f:\n",
    "        for item in data:\n",
    "            f.write(f\"{item['id']}\\t{item['text']}\\n\")"
   ]
  },
  {
   "cell_type": "code",
   "execution_count": null,
   "metadata": {},
   "outputs": [],
   "source": [
    "def is_simple_layout(tiers):\n",
    "    if len(tiers) == 1 and 'speech' in tiers:\n",
    "        return True\n",
    "    elif len(tiers) == 2 and 'speech' in tiers and 'noise' in tiers:\n",
    "        return True\n",
    "    else:\n",
    "        return False"
   ]
  },
  {
   "cell_type": "code",
   "execution_count": 6,
   "metadata": {},
   "outputs": [],
   "source": [
    "SAMPLE = \"/mnt/cloud/lithuanian-asr/data/R_RS_F3_AS113_01.eaf\"\n",
    "SAMPLE_WAV = SAMPLE.replace(\".eaf\", \".wav\")\n",
    "data = get_eaf_data(SAMPLE)\n",
    "write_split_wavs(\"/tmp/foo\", SAMPLE_WAV, data)"
   ]
  },
  {
   "cell_type": "code",
   "execution_count": 16,
   "metadata": {},
   "outputs": [
    {
     "name": "stdout",
     "output_type": "stream",
     "text": [
      "Error reading file /mnt/cloud/lithuanian-asr/data/X_MS001_01.eaf\n",
      "Error reading file /mnt/cloud/lithuanian-asr/data/X_IS007_01.eaf\n",
      "Error reading file /mnt/cloud/lithuanian-asr/data/X_VP018_01.eaf\n",
      "Error reading file /mnt/cloud/lithuanian-asr/data/X_IS004_01.eaf\n",
      "Error reading file /mnt/cloud/lithuanian-asr/data/X_IS041_01.eaf\n",
      "Error reading file /mnt/cloud/lithuanian-asr/data/X_VP013_01.eaf\n",
      "Error reading file /mnt/cloud/lithuanian-asr/data/X_IM010_02.eaf\n",
      "Error reading file /mnt/cloud/lithuanian-asr/data/X_IM009_01.eaf\n",
      "Error reading file /mnt/cloud/lithuanian-asr/data/X_VP009_01.eaf\n",
      "Error reading file /mnt/cloud/lithuanian-asr/data/X_VP020_01.eaf\n",
      "Error reading file /mnt/cloud/lithuanian-asr/data/X_IS023_01.eaf\n",
      "Error reading file /mnt/cloud/lithuanian-asr/data/X_IM013_02.eaf\n",
      "Error reading file /mnt/cloud/lithuanian-asr/data/X_IM005_01.eaf\n",
      "Error reading file /mnt/cloud/lithuanian-asr/data/X_MS011_01.eaf\n",
      "Error reading file /mnt/cloud/lithuanian-asr/data/X_VP012_01.eaf\n",
      "Error reading file /mnt/cloud/lithuanian-asr/data/X_IS013_01.eaf\n",
      "Error reading file /mnt/cloud/lithuanian-asr/data/X_VP021_01.eaf\n",
      "Error reading file /mnt/cloud/lithuanian-asr/data/X_VP028_01.eaf\n",
      "Error reading file /mnt/cloud/lithuanian-asr/data/X_VP001_05.eaf\n",
      "Error reading file /mnt/cloud/lithuanian-asr/data/X_IS030_01.eaf\n",
      "Error reading file /mnt/cloud/lithuanian-asr/data/X_VP014_01.eaf\n",
      "Error reading file /mnt/cloud/lithuanian-asr/data/X_VP004_01.eaf\n",
      "Error reading file /mnt/cloud/lithuanian-asr/data/X_IS010_01.eaf\n",
      "Error reading file /mnt/cloud/lithuanian-asr/data/X_VP017_01.eaf\n",
      "Error reading file /mnt/cloud/lithuanian-asr/data/X_IS003_01.eaf\n",
      "Error reading file /mnt/cloud/lithuanian-asr/data/X_IS050_01.eaf\n",
      "Error reading file /mnt/cloud/lithuanian-asr/data/X_VP026_01.eaf\n",
      "Error reading file /mnt/cloud/lithuanian-asr/data/X_VP001_04.eaf\n",
      "Error reading file /mnt/cloud/lithuanian-asr/data/X_IS001_01.eaf\n",
      "Error reading file /mnt/cloud/lithuanian-asr/data/X_VP024_01.eaf\n",
      "Error reading file /mnt/cloud/lithuanian-asr/data/X_IS038_01.eaf\n",
      "Error reading file /mnt/cloud/lithuanian-asr/data/X_IS015_01.eaf\n",
      "Error reading file /mnt/cloud/lithuanian-asr/data/X_IM007_01.eaf\n",
      "Error reading file /mnt/cloud/lithuanian-asr/data/X_IS028_01.eaf\n",
      "Error reading file /mnt/cloud/lithuanian-asr/data/X_IS034_01.eaf\n",
      "Error reading file /mnt/cloud/lithuanian-asr/data/X_IS020_01.eaf\n",
      "Error reading file /mnt/cloud/lithuanian-asr/data/X_VP025_01.eaf\n",
      "Error reading file /mnt/cloud/lithuanian-asr/data/X_IS029_01.eaf\n",
      "Error reading file /mnt/cloud/lithuanian-asr/data/X_IM012_01.eaf\n",
      "Error reading file /mnt/cloud/lithuanian-asr/data/X_VP008_01.eaf\n",
      "Error reading file /mnt/cloud/lithuanian-asr/data/X_VP029_01.eaf\n",
      "Error reading file /mnt/cloud/lithuanian-asr/data/X_IS014_01.eaf\n",
      "Error reading file /mnt/cloud/lithuanian-asr/data/X_VP016_02.eaf\n",
      "Error reading file /mnt/cloud/lithuanian-asr/data/X_VP002_01.eaf\n",
      "Error reading file /mnt/cloud/lithuanian-asr/data/X_MS005_01.eaf\n",
      "Error reading file /mnt/cloud/lithuanian-asr/data/X_IS037_01.eaf\n",
      "Error reading file /mnt/cloud/lithuanian-asr/data/X_IS016_01.eaf\n",
      "Error reading file /mnt/cloud/lithuanian-asr/data/X_IS006_01.eaf\n",
      "Error reading file /mnt/cloud/lithuanian-asr/data/X_IS005_01.eaf\n",
      "Error reading file /mnt/cloud/lithuanian-asr/data/X_IS039_01.eaf\n",
      "Error reading file /mnt/cloud/lithuanian-asr/data/X_VP001_02.eaf\n",
      "Error reading file /mnt/cloud/lithuanian-asr/data/X_IM014_01.eaf\n",
      "Error reading file /mnt/cloud/lithuanian-asr/data/X_IM004_01.eaf\n",
      "Error reading file /mnt/cloud/lithuanian-asr/data/X_VP003_01.eaf\n",
      "Error reading file /mnt/cloud/lithuanian-asr/data/X_MS007_01.eaf\n",
      "Error reading file /mnt/cloud/lithuanian-asr/data/X_IS046_01.eaf\n",
      "Error reading file /mnt/cloud/lithuanian-asr/data/X_IM002_01.eaf\n",
      "Error reading file /mnt/cloud/lithuanian-asr/data/X_IM010_01.eaf\n",
      "Error reading file /mnt/cloud/lithuanian-asr/data/X_VP019_01.eaf\n",
      "Error reading file /mnt/cloud/lithuanian-asr/data/X_VP016_01.eaf\n",
      "Error reading file /mnt/cloud/lithuanian-asr/data/X_IS008_01.eaf\n",
      "Error reading file /mnt/cloud/lithuanian-asr/data/X_MS004_01.eaf\n",
      "Error reading file /mnt/cloud/lithuanian-asr/data/X_VP023_01.eaf\n",
      "Error reading file /mnt/cloud/lithuanian-asr/data/X_VP011_01.eaf\n",
      "Error reading file /mnt/cloud/lithuanian-asr/data/X_IS009_01.eaf\n",
      "Error reading file /mnt/cloud/lithuanian-asr/data/X_IS026_01.eaf\n",
      "Error reading file /mnt/cloud/lithuanian-asr/data/X_IS021_01.eaf\n",
      "Error reading file /mnt/cloud/lithuanian-asr/data/X_VP001_03.eaf\n",
      "Error reading file /mnt/cloud/lithuanian-asr/data/X_IS044_01.eaf\n",
      "Error reading file /mnt/cloud/lithuanian-asr/data/X_VP015_01.eaf\n",
      "Error reading file /mnt/cloud/lithuanian-asr/data/X_MS010_01.eaf\n",
      "Error reading file /mnt/cloud/lithuanian-asr/data/X_MS002_01.eaf\n",
      "Error reading file /mnt/cloud/lithuanian-asr/data/X_IM006_01.eaf\n",
      "Error reading file /mnt/cloud/lithuanian-asr/data/X_MS003_01.eaf\n",
      "Error reading file /mnt/cloud/lithuanian-asr/data/X_IM011_01.eaf\n",
      "Error reading file /mnt/cloud/lithuanian-asr/data/X_IS051_01.eaf\n",
      "Error reading file /mnt/cloud/lithuanian-asr/data/X_IM005_02.eaf\n",
      "Error reading file /mnt/cloud/lithuanian-asr/data/X_IM008_01.eaf\n",
      "Error reading file /mnt/cloud/lithuanian-asr/data/X_IS043_01.eaf\n",
      "Error reading file /mnt/cloud/lithuanian-asr/data/X_VP001_01.eaf\n",
      "Error reading file /mnt/cloud/lithuanian-asr/data/X_MS006_01.eaf\n",
      "Error reading file /mnt/cloud/lithuanian-asr/data/X_VP027_01.eaf\n",
      "Error reading file /mnt/cloud/lithuanian-asr/data/X_IS002_01.eaf\n",
      "Error reading file /mnt/cloud/lithuanian-asr/data/X_IM001_01.eaf\n",
      "Error reading file /mnt/cloud/lithuanian-asr/data/X_IS019_01.eaf\n",
      "Error reading file /mnt/cloud/lithuanian-asr/data/X_IS052_01.eaf\n",
      "Error reading file /mnt/cloud/lithuanian-asr/data/X_MS012_01.eaf\n",
      "Error reading file /mnt/cloud/lithuanian-asr/data/X_IS040_01.eaf\n",
      "Error reading file /mnt/cloud/lithuanian-asr/data/X_IS011_01.eaf\n",
      "Error reading file /mnt/cloud/lithuanian-asr/data/X_IS027_01.eaf\n",
      "Error reading file /mnt/cloud/lithuanian-asr/data/X_IS031_01.eaf\n",
      "Error reading file /mnt/cloud/lithuanian-asr/data/X_IS048_01.eaf\n",
      "Error reading file /mnt/cloud/lithuanian-asr/data/X_MS008_01.eaf\n",
      "Error reading file /mnt/cloud/lithuanian-asr/data/X_IS053_01.eaf\n",
      "Error reading file /mnt/cloud/lithuanian-asr/data/X_IS017_01.eaf\n",
      "Error reading file /mnt/cloud/lithuanian-asr/data/X_VP005_01.eaf\n",
      "Error reading file /mnt/cloud/lithuanian-asr/data/X_IM007_02.eaf\n",
      "Error reading file /mnt/cloud/lithuanian-asr/data/X_IM006_02.eaf\n",
      "Error reading file /mnt/cloud/lithuanian-asr/data/X_VP006_01.eaf\n",
      "Error reading file /mnt/cloud/lithuanian-asr/data/X_VP010_01.eaf\n",
      "Error reading file /mnt/cloud/lithuanian-asr/data/X_IS012_01.eaf\n",
      "Error reading file /mnt/cloud/lithuanian-asr/data/X_IS045_01.eaf\n",
      "Error reading file /mnt/cloud/lithuanian-asr/data/X_IS036_01.eaf\n",
      "Error reading file /mnt/cloud/lithuanian-asr/data/X_IS032_01.eaf\n",
      "Error reading file /mnt/cloud/lithuanian-asr/data/X_IM003_02.eaf\n",
      "Error reading file /mnt/cloud/lithuanian-asr/data/X_IS024_01.eaf\n",
      "Error reading file /mnt/cloud/lithuanian-asr/data/X_MS009_01.eaf\n",
      "Error reading file /mnt/cloud/lithuanian-asr/data/X_VP001_06.eaf\n",
      "Error reading file /mnt/cloud/lithuanian-asr/data/X_IS042_01.eaf\n",
      "Error reading file /mnt/cloud/lithuanian-asr/data/X_IS054_01.eaf\n",
      "Error reading file /mnt/cloud/lithuanian-asr/data/X_VP007_01.eaf\n",
      "Error reading file /mnt/cloud/lithuanian-asr/data/X_IS033_01.eaf\n",
      "Error reading file /mnt/cloud/lithuanian-asr/data/X_IS022_01.eaf\n",
      "Error reading file /mnt/cloud/lithuanian-asr/data/X_IS049_01.eaf\n",
      "Error reading file /mnt/cloud/lithuanian-asr/data/X_IS035_01.eaf\n",
      "Error reading file /mnt/cloud/lithuanian-asr/data/X_IS018_01.eaf\n",
      "Error reading file /mnt/cloud/lithuanian-asr/data/X_IS025_01.eaf\n",
      "Error reading file /mnt/cloud/lithuanian-asr/data/X_IS047_01.eaf\n",
      "Error reading file /mnt/cloud/lithuanian-asr/data/X_VP022_01.eaf\n",
      "Error reading file /mnt/cloud/lithuanian-asr/data/X_IM003_01.eaf\n",
      "Error reading file /mnt/cloud/lithuanian-asr/data/X_IM013_01.eaf\n"
     ]
    }
   ],
   "source": [
    "for eaf_file in Path(DATAPATH).glob(\"*.eaf\"):\n",
    "    data = get_eaf_data(eaf_file)\n",
    "    wav_file = str(eaf_file).replace(\".eaf\", \".wav\")\n",
    "    write_split_wavs(\"/mnt/cloud/liepa-split\", wav_file, data)\n",
    "    append_to_tsv(\"/mnt/cloud/liepa-split/text.tsv\", data)"
   ]
  }
 ],
 "metadata": {
  "interpreter": {
   "hash": "dd927b719e572b496e2474453a2ada7f45c90bda9f6c95960374c767a23741c2"
  },
  "kernelspec": {
   "display_name": "Python 3.8.12 64-bit ('psst')",
   "language": "python",
   "name": "python3"
  },
  "language_info": {
   "codemirror_mode": {
    "name": "ipython",
    "version": 3
   },
   "file_extension": ".py",
   "mimetype": "text/x-python",
   "name": "python",
   "nbconvert_exporter": "python",
   "pygments_lexer": "ipython3",
   "version": "3.8.10"
  },
  "orig_nbformat": 4
 },
 "nbformat": 4,
 "nbformat_minor": 2
}
