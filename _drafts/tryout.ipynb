{
 "cells": [
  {
   "cell_type": "code",
   "execution_count": 1,
   "id": "45d5e909",
   "metadata": {},
   "outputs": [],
   "source": [
    "import pynini\n",
    "from nemo_text_processing.text_normalization.en.graph_utils import (\n",
    "    NEMO_DIGIT,\n",
    "    NEMO_SIGMA,\n",
    "    NEMO_SPACE,\n",
    "    NEMO_WHITE_SPACE,\n",
    "    GraphFst,\n",
    "    delete_space,\n",
    "    insert_space,\n",
    ")\n",
    "from nemo_text_processing.text_normalization.pl.graph_utils import PL_ALPHA\n",
    "from nemo_text_processing.text_normalization.pl.utils import get_abs_path, load_labels\n",
    "from nemo_text_processing.text_normalization.pl.taggers.ordinal import adjective_inflection, complete_paradigm\n",
    "from pynini.lib import pynutil\n"
   ]
  },
  {
   "cell_type": "code",
   "execution_count": 2,
   "id": "537eaa3e",
   "metadata": {},
   "outputs": [],
   "source": [
    "def make_million(number: str, non_zero_pl: 'pynini.FstLike', non_zero_quant: 'pynini.FstLike', case: str = None, deterministic: bool = True) -> 'pynini.FstLike':\n",
    "    \"\"\"\n",
    "    Helper function for thousands/millions/milliards and higher\n",
    "    Args:\n",
    "        number: the string of the number\n",
    "        non_zero_pl: An fst of digits excluding 0, 1, 5-9, to prefix to plural forms (nom/acc)\n",
    "        non_zero_quant: An fst of digits excluding 0 and 1-4, to prefix to the quantity forms (nom/acc)\n",
    "        case: the string of the case (if None, nominative/accusative is presumed)\n",
    "        deterministic: if True, generate a deterministic fst\n",
    "\n",
    "    Returns:\n",
    "        graph: A pynini.FstLike object\n",
    "    \"\"\"\n",
    "    if case is None:\n",
    "        sg_end = \"\"\n",
    "        pl_end = \"y\"\n",
    "        quant_end = \"ów\"\n",
    "        one = \"jeden\"\n",
    "    else:\n",
    "        SG = {\n",
    "            \"loc\": \"ie\",\n",
    "            \"ins\": \"em\",\n",
    "            \"dat\": \"owi\",\n",
    "            \"gen\": \"a\",\n",
    "        }\n",
    "        PL = {\n",
    "            \"loc\": \"ach\",\n",
    "            \"ins\": \"ami\",\n",
    "            \"dat\": \"om\",\n",
    "            \"gen\": \"ów\",\n",
    "        }\n",
    "        ONE = {\n",
    "            \"loc\": \"jednym\",\n",
    "            \"ins\": \"jednym\",\n",
    "            \"dat\": \"jednemu\",\n",
    "            \"gen\": \"jednego\",\n",
    "        }\n",
    "        sg_end = SG[case]\n",
    "        pl_end = PL[case]\n",
    "        one = ONE[case]\n",
    "        quant_end = pl_end\n",
    "        if case == \"loc\" and number.endswith(\"ard\"):\n",
    "            sg_end = \"zie\"\n",
    "    graph = pynutil.add_weight(pynini.cross(\"001\", f\"{number}{sg_end}\"), -0.001)\n",
    "    if not deterministic:\n",
    "        graph |= pynutil.add_weight(pynini.cross(\"001\", f\"{one} {number}{sg_end}\"), -0.001)\n",
    "    graph |= non_zero_pl + pynutil.insert(f\" {number}{pl_end}\")\n",
    "    # hack for the stem change in tysiąc (1000)\n",
    "    if number == \"tysiąc\":\n",
    "        number = \"tysięc\"\n",
    "    graph |= non_zero_quant + pynutil.insert(f\" {number}{quant_end}\")\n",
    "    graph |= pynutil.delete(\"000\")\n",
    "    graph += insert_space\n",
    "    return graph"
   ]
  },
  {
   "cell_type": "code",
   "execution_count": 3,
   "id": "bbdd5e33",
   "metadata": {},
   "outputs": [],
   "source": [
    "def make_inflected_graph_dict(file_path: str, cross: str, deterministic=False) -> dict:\n",
    "    graph_dict = {}\n",
    "    for line in load_labels(get_abs_path(file_path)):\n",
    "        key, value = line[0], line[1]\n",
    "        if key not in graph_dict:\n",
    "            graph_dict[key] = pynini.cross(cross, value)\n",
    "        else:\n",
    "            if not deterministic:\n",
    "                graph_dict[key] |= pynini.cross(cross, value)\n",
    "    return graph_dict\n",
    "\n",
    "\n",
    "def get_nominal_inflections(inflection_file, noun_file):\n",
    "    output = {}\n",
    "    inflections = {a[0]: a[1] for a in load_labels(get_abs_path(inflection_file))}\n",
    "    digit_noun_tsv = load_labels(get_abs_path(noun_file))\n",
    "    for digit_noun in digit_noun_tsv:\n",
    "        word = digit_noun[0]\n",
    "        digit = digit_noun[1]\n",
    "        lemma_ending = inflections[\"sg_nom\"]\n",
    "        assert word.endswith(lemma_ending), f\"Word {word} does not end with {lemma_ending}\"\n",
    "        stem = word[:-len(lemma_ending)]\n",
    "        wordforms = {k: stem + v for k, v in inflections.items()}\n",
    "        output[digit] = wordforms\n",
    "    return output"
   ]
  },
  {
   "cell_type": "code",
   "execution_count": 4,
   "id": "b38dbfc8",
   "metadata": {},
   "outputs": [],
   "source": [
    "def get_nominal_graph(inflection_file, noun_file):\n",
    "    output = {}\n",
    "    input = get_nominal_inflections(inflection_file, noun_file)\n",
    "    for item in input:\n",
    "        for key in input[item]:\n",
    "            if not key in output:\n",
    "                output[key] = pynini.cross(item, input[item][key])\n",
    "            else:\n",
    "                output[key] |= pynini.cross(item, input[item][key])\n",
    "    return output"
   ]
  },
  {
   "cell_type": "code",
   "execution_count": 5,
   "id": "c0a57e64",
   "metadata": {},
   "outputs": [],
   "source": [
    "deterministic = True  # Set to False for non-deterministic graphs\n",
    "\n",
    "jeden_all = adjective_inflection(\"jeden\")\n",
    "jeden_graph = pynini.cross(\"1\", jeden_all[\"mi_sg_nom\"])\n",
    "# in compound numbers, jeden does not inflect\n",
    "jeden_only = pynini.cross(\"1\", jeden_all[\"mi_sg_nom\"])\n",
    "if not deterministic:\n",
    "    for key in jeden_all:\n",
    "        if key == \"mi_sg_nom\":\n",
    "            continue\n",
    "        jeden_graph |= pynini.cross(\"1\", jeden_all[key])\n",
    "complete_paradigm(jeden_all)\n",
    "self_jeden_all = {a[0]: pynini.cross(\"1\", a[1]) for a in jeden_all.items()}\n",
    "self_zero_all = get_nominal_graph(\"data/grammar/noun_nt_ro.tsv\", \"data/numbers/zero.tsv\")\n",
    "\n",
    "cases = [\"nom\", \"gen\", \"dat\", \"acc\", \"ins\", \"loc\", \"voc\"]\n",
    "jeden_filt = {}\n",
    "for case in cases:\n",
    "    jeden_filt[case] = self_jeden_all[f'mi_sg_{case}']"
   ]
  },
  {
   "cell_type": "code",
   "execution_count": 11,
   "id": "0b2b8579",
   "metadata": {},
   "outputs": [
    {
     "data": {
      "text/plain": [
       "'zera'"
      ]
     },
     "execution_count": 11,
     "metadata": {},
     "output_type": "execute_result"
    }
   ],
   "source": [
    "(\"0\" @ self_zero_all[\"sg_gen\"]).string()"
   ]
  },
  {
   "cell_type": "code",
   "execution_count": 12,
   "id": "ff6a977e",
   "metadata": {},
   "outputs": [],
   "source": [
    "digit_noun_tsv = load_labels(get_abs_path(\"data/grammar/noun_nt_ro.tsv\"))"
   ]
  },
  {
   "cell_type": "code",
   "execution_count": 18,
   "id": "5616d342",
   "metadata": {},
   "outputs": [],
   "source": [
    "noun_labels = [x[0] for x in digit_noun_tsv]"
   ]
  },
  {
   "cell_type": "code",
   "execution_count": null,
   "id": "ca03986f",
   "metadata": {},
   "outputs": [],
   "source": [
    "TYS = \"\"\"\n",
    "nominative\tmiliard\tmiliardy\n",
    "genitive\tmiliarda\tmiliardów\n",
    "dative\tmiliardowi\tmiliardom\n",
    "accusative\tmiliard\tmiliardy\n",
    "instrumental\tmiliardem\tmiliardami\n",
    "locative\tmiliardzie\tmiliardach\n",
    "vocative\tmiliardzie\tmiliardy\n",
    "\"\"\"\n",
    "sg = []\n",
    "pl = []\n",
    "for line in TYS.strip().split(\"\\n\"):\n",
    "    if not \"\\t\" in line:\n",
    "        continue\n",
    "    line = line.replace(\"miliard\", \"\")\n",
    "    parts = line.split(\"\\t\")\n",
    "    if len(parts) != 3:\n",
    "        continue\n",
    "    sg.append(parts[1])\n",
    "    pl.append(parts[2])\n",
    "forms = sg + pl\n"
   ]
  },
  {
   "cell_type": "code",
   "execution_count": 21,
   "id": "6b2cb2a6",
   "metadata": {},
   "outputs": [
    {
     "data": {
      "text/plain": [
       "['', 'u', 'owi', '', 'em', 'ie', 'ie', 'y', 'ów', 'om', 'y', 'ami', 'ach', 'y']"
      ]
     },
     "execution_count": 21,
     "metadata": {},
     "output_type": "execute_result"
    }
   ],
   "source": [
    "forms"
   ]
  },
  {
   "cell_type": "code",
   "execution_count": 22,
   "id": "d9e68c0d",
   "metadata": {},
   "outputs": [],
   "source": [
    "with open(get_abs_path(\"data/grammar/noun_mi_n.tsv\"), \"w\") as f:\n",
    "    for i in zip(noun_labels, forms):\n",
    "        f.write(f\"{i[0]}\\t{i[1]}\\n\")"
   ]
  }
 ],
 "metadata": {
  "kernelspec": {
   "display_name": "nemo_tn",
   "language": "python",
   "name": "python3"
  },
  "language_info": {
   "codemirror_mode": {
    "name": "ipython",
    "version": 3
   },
   "file_extension": ".py",
   "mimetype": "text/x-python",
   "name": "python",
   "nbconvert_exporter": "python",
   "pygments_lexer": "ipython3",
   "version": "3.8.0"
  }
 },
 "nbformat": 4,
 "nbformat_minor": 5
}
