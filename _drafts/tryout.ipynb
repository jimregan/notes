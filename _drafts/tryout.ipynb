{
 "cells": [
  {
   "cell_type": "code",
   "execution_count": 10,
   "id": "45d5e909",
   "metadata": {},
   "outputs": [],
   "source": [
    "import pynini\n",
    "from nemo_text_processing.text_normalization.en.graph_utils import (\n",
    "    NEMO_DIGIT,\n",
    "    NEMO_SIGMA,\n",
    "    NEMO_SPACE,\n",
    "    NEMO_WHITE_SPACE,\n",
    "    GraphFst,\n",
    "    delete_space,\n",
    "    insert_space,\n",
    ")\n",
    "from nemo_text_processing.text_normalization.pl.graph_utils import PL_ALPHA\n",
    "from nemo_text_processing.text_normalization.pl.utils import adjective_inflection, get_abs_path, load_labels\n",
    "from nemo_text_processing.text_normalization.pl.taggers.ordinal import complete_paradigm\n",
    "from pynini.lib import pynutil\n"
   ]
  },
  {
   "cell_type": "code",
   "execution_count": 3,
   "id": "537eaa3e",
   "metadata": {},
   "outputs": [],
   "source": [
    "def make_million(number: str, non_zero_pl: 'pynini.FstLike', non_zero_quant: 'pynini.FstLike', case: str = None, deterministic: bool = True) -> 'pynini.FstLike':\n",
    "    \"\"\"\n",
    "    Helper function for thousands/millions/milliards and higher\n",
    "    Args:\n",
    "        number: the string of the number\n",
    "        non_zero_pl: An fst of digits excluding 0, 1, 5-9, to prefix to plural forms (nom/acc)\n",
    "        non_zero_quant: An fst of digits excluding 0 and 1-4, to prefix to the quantity forms (nom/acc)\n",
    "        case: the string of the case (if None, nominative/accusative is presumed)\n",
    "        deterministic: if True, generate a deterministic fst\n",
    "\n",
    "    Returns:\n",
    "        graph: A pynini.FstLike object\n",
    "    \"\"\"\n",
    "    if case is None:\n",
    "        sg_end = \"\"\n",
    "        pl_end = \"y\"\n",
    "        quant_end = \"ów\"\n",
    "        one = \"jeden\"\n",
    "    else:\n",
    "        SG = {\n",
    "            \"loc\": \"ie\",\n",
    "            \"ins\": \"em\",\n",
    "            \"dat\": \"owi\",\n",
    "            \"gen\": \"a\",\n",
    "        }\n",
    "        PL = {\n",
    "            \"loc\": \"ach\",\n",
    "            \"ins\": \"ami\",\n",
    "            \"dat\": \"om\",\n",
    "            \"gen\": \"ów\",\n",
    "        }\n",
    "        ONE = {\n",
    "            \"loc\": \"jednym\",\n",
    "            \"ins\": \"jednym\",\n",
    "            \"dat\": \"jednemu\",\n",
    "            \"gen\": \"jednego\",\n",
    "        }\n",
    "        sg_end = SG[case]\n",
    "        pl_end = PL[case]\n",
    "        one = ONE[case]\n",
    "        quant_end = pl_end\n",
    "        if case == \"loc\" and number.endswith(\"ard\"):\n",
    "            sg_end = \"zie\"\n",
    "    graph = pynutil.add_weight(pynini.cross(\"001\", f\"{number}{sg_end}\"), -0.001)\n",
    "    if not deterministic:\n",
    "        graph |= pynutil.add_weight(pynini.cross(\"001\", f\"{one} {number}{sg_end}\"), -0.001)\n",
    "    graph |= non_zero_pl + pynutil.insert(f\" {number}{pl_end}\")\n",
    "    # hack for the stem change in tysiąc (1000)\n",
    "    if number == \"tysiąc\":\n",
    "        number = \"tysięc\"\n",
    "    graph |= non_zero_quant + pynutil.insert(f\" {number}{quant_end}\")\n",
    "    graph |= pynutil.delete(\"000\")\n",
    "    graph += insert_space\n",
    "    return graph"
   ]
  },
  {
   "cell_type": "code",
   "execution_count": 4,
   "id": "bbdd5e33",
   "metadata": {},
   "outputs": [],
   "source": [
    "def make_inflected_graph_dict(file_path: str, cross: str, deterministic=False) -> dict:\n",
    "    graph_dict = {}\n",
    "    for line in load_labels(get_abs_path(file_path)):\n",
    "        key, value = line[0], line[1]\n",
    "        if key not in graph_dict:\n",
    "            graph_dict[key] = pynini.cross(cross, value)\n",
    "        else:\n",
    "            if not deterministic:\n",
    "                graph_dict[key] |= pynini.cross(cross, value)\n",
    "    return graph_dict\n",
    "\n",
    "\n",
    "def get_nominal_inflections(inflection_file, noun_file):\n",
    "    output = {}\n",
    "    inflections = {a[0]: a[1] for a in load_labels(get_abs_path(inflection_file))}\n",
    "    digit_noun_tsv = load_labels(get_abs_path(noun_file))\n",
    "    for digit_noun in digit_noun_tsv:\n",
    "        word = digit_noun[0]\n",
    "        digit = digit_noun[1]\n",
    "        lemma_ending = inflections[\"sg_nom\"]\n",
    "        assert word.endswith(lemma_ending), f\"Word {word} does not end with {lemma_ending}\"\n",
    "        stem = word[:-len(lemma_ending)]\n",
    "        wordforms = {k: stem + v for k, v in inflections.items()}\n",
    "        output[digit] = wordforms\n",
    "    return output"
   ]
  },
  {
   "cell_type": "code",
   "execution_count": 5,
   "id": "b38dbfc8",
   "metadata": {},
   "outputs": [],
   "source": [
    "def get_nominal_graph(inflection_file, noun_file):\n",
    "    output = {}\n",
    "    input = get_nominal_inflections(inflection_file, noun_file)\n",
    "    for item in input:\n",
    "        for key in input[item]:\n",
    "            if not key in output:\n",
    "                output[key] = pynini.cross(item, input[item][key])\n",
    "            else:\n",
    "                output[key] |= pynini.cross(item, input[item][key])\n",
    "    return output"
   ]
  },
  {
   "cell_type": "code",
   "execution_count": 6,
   "id": "c0a57e64",
   "metadata": {},
   "outputs": [],
   "source": [
    "deterministic = True  # Set to False for non-deterministic graphs\n",
    "\n",
    "jeden_all = adjective_inflection(\"jeden\")\n",
    "jeden_graph = pynini.cross(\"1\", jeden_all[\"mi_sg_nom\"])\n",
    "# in compound numbers, jeden does not inflect\n",
    "jeden_only = pynini.cross(\"1\", jeden_all[\"mi_sg_nom\"])\n",
    "if not deterministic:\n",
    "    for key in jeden_all:\n",
    "        if key == \"mi_sg_nom\":\n",
    "            continue\n",
    "        jeden_graph |= pynini.cross(\"1\", jeden_all[key])\n",
    "complete_paradigm(jeden_all)\n",
    "self_jeden_all = {a[0]: pynini.cross(\"1\", a[1]) for a in jeden_all.items()}\n",
    "self_zero_all = get_nominal_graph(\"data/grammar/noun_nt_ro.tsv\", \"data/numbers/zero.tsv\")\n",
    "self_zero_all = get_nominal_graph(\"data/grammar/noun_nt_ro.tsv\", \"data/numbers/zero.tsv\")\n",
    "\n",
    "cases = [\"nom\", \"gen\", \"dat\", \"acc\", \"ins\", \"loc\", \"voc\"]\n",
    "jeden_filt = {}\n",
    "for case in cases:\n",
    "    jeden_filt[case] = jeden_all[f'mi_sg_{case}']\n",
    "tysiac_forms = {a[0]: a[1] for a in load_labels(get_abs_path(\"data/numbers/tysiac.tsv\"))}"
   ]
  },
  {
   "cell_type": "markdown",
   "id": "6ee79e43",
   "metadata": {},
   "source": [
    "- jeden_filt"
   ]
  },
  {
   "cell_type": "code",
   "execution_count": 16,
   "id": "36cecf4a",
   "metadata": {},
   "outputs": [],
   "source": [
    "zero_sg = {x.replace(\"sg_\", \"\"): y for x, y in self_zero_all.items() if x.startswith(\"sg_\")}"
   ]
  },
  {
   "cell_type": "code",
   "execution_count": 17,
   "id": "7db2eaa6",
   "metadata": {},
   "outputs": [
    {
     "data": {
      "text/plain": [
       "{'nom': <vector Fst at 0x799b5b4f6ab0>,\n",
       " 'gen': <vector Fst at 0x799b5b4f64f0>,\n",
       " 'dat': <vector Fst at 0x799b5b4f65b0>,\n",
       " 'acc': <vector Fst at 0x799b5b4f6f30>,\n",
       " 'ins': <vector Fst at 0x799b5b4f6f70>,\n",
       " 'loc': <vector Fst at 0x799b5b4f6fb0>,\n",
       " 'voc': <vector Fst at 0x799b5b4fe030>}"
      ]
     },
     "execution_count": 17,
     "metadata": {},
     "output_type": "execute_result"
    }
   ],
   "source": [
    "zero_sg"
   ]
  },
  {
   "cell_type": "code",
   "execution_count": 8,
   "id": "0b2b8579",
   "metadata": {},
   "outputs": [
    {
     "data": {
      "text/plain": [
       "'zera'"
      ]
     },
     "execution_count": 8,
     "metadata": {},
     "output_type": "execute_result"
    }
   ],
   "source": [
    "(\"0\" @ self_zero_all[\"sg_gen\"]).string()"
   ]
  },
  {
   "cell_type": "code",
   "execution_count": 43,
   "id": "ef4f97eb",
   "metadata": {},
   "outputs": [],
   "source": [
    "def get_digit_forms(filename):\n",
    "    \"\"\"\n",
    "    Returns a dictionary of digit forms for Polish numbers.\n",
    "    \"\"\"\n",
    "    output = {}\n",
    "    for line in load_labels(get_abs_path(filename)):\n",
    "        digit, grammar, form = line[0], line[1], line[2]\n",
    "        if not digit in output:\n",
    "            output[digit] = {}\n",
    "        if grammar not in output[digit]:\n",
    "            output[digit][grammar] = form\n",
    "        else:\n",
    "            if type(output[digit][grammar]) is list:\n",
    "                output[digit][grammar].append(form)\n",
    "            else:\n",
    "                output[digit][grammar] = [output[digit][grammar], form]\n",
    "    return output\n"
   ]
  },
  {
   "cell_type": "code",
   "execution_count": 29,
   "id": "a4b49921",
   "metadata": {},
   "outputs": [],
   "source": [
    "dd = get_digit_forms()"
   ]
  },
  {
   "cell_type": "code",
   "execution_count": 88,
   "id": "78cbecd9",
   "metadata": {},
   "outputs": [],
   "source": [
    "def dict_to_graph(input_dict: dict, deterministic: bool = True) -> dict:\n",
    "    \"\"\"\n",
    "    Converts a nested dictionary of forms to a dict of pynini.FSTs.\n",
    "    Example input:\n",
    "        {'2': {'mi_pl_ins': ['form1', 'form2'], 'mi_sg_nom': 'form3'}}\n",
    "    Output:\n",
    "        {'2': {'mi_pl_ins': FST, 'mi_sg_nom': FST}}\n",
    "    \"\"\"\n",
    "    graph_dict = {}\n",
    "    for key, value in input_dict.items():\n",
    "        graph_dict[key] = {}\n",
    "        for subkey, subvalue in value.items():\n",
    "            if isinstance(subvalue, list):\n",
    "                graph = pynini.cross(key, subvalue[0])\n",
    "                if not deterministic:\n",
    "                    for alt in subvalue[1:]:\n",
    "                        graph |= pynini.cross(key, alt)\n",
    "            else:\n",
    "                graph = pynini.cross(key, subvalue)\n",
    "            graph_dict[key][subkey] = graph\n",
    "    return graph_dict"
   ]
  },
  {
   "cell_type": "code",
   "execution_count": 39,
   "id": "aafd7284",
   "metadata": {},
   "outputs": [],
   "source": [
    "d2 = dict_to_graph(dd, deterministic=True)"
   ]
  },
  {
   "cell_type": "code",
   "execution_count": 89,
   "id": "ee57478c",
   "metadata": {},
   "outputs": [],
   "source": [
    "cases = [\"nom\", \"gen\", \"dat\", \"acc\", \"ins\", \"loc\", \"voc\"]\n",
    "dwa_cases = [\"mi_pl_nom\", \"pl_gen\", \"pl_dat\", \"mi_pl_nom\", \"mi_pl_ins\", \"pl_gen\", \"mi_pl_nom\"]\n",
    "pl_cases = [\"mi_pl_nom\", \"pl_gen\", \"pl_dat\", \"mi_pl_nom\", \"pl_ins\", \"pl_gen\", \"mi_pl_nom\"]\n",
    "qnt_cases = [\"mi_pl_nom\", \"pl_gen\", \"pl_gen\", \"mi_pl_nom\", \"pl_ins\", \"pl_gen\", \"mi_pl_nom\"]\n",
    "jeden_filt = {}\n",
    "for case in cases:\n",
    "    jeden_filt[case] = self_jeden_all[f'mi_sg_{case}']\n",
    "# something similar for dwa\n",
    "digit_forms_all = get_digit_forms(\"data/numbers/digit_forms.tsv\")\n",
    "digit_graph = dict_to_graph(digit_forms_all, deterministic=True)\n",
    "digit_pl = {}\n",
    "for idx in range(len(cases)):\n",
    "    digit_pl[cases[idx]] = pynini.union(\n",
    "        digit_graph[\"2\"][dwa_cases[idx]],\n",
    "        digit_graph[\"3\"][pl_cases[idx]],\n",
    "        digit_graph[\"4\"][pl_cases[idx]],\n",
    "    ).optimize()\n"
   ]
  },
  {
   "cell_type": "code",
   "execution_count": 94,
   "id": "b30bb9c7",
   "metadata": {},
   "outputs": [
    {
     "data": {
      "text/plain": [
       "'dwóch'"
      ]
     },
     "execution_count": 94,
     "metadata": {},
     "output_type": "execute_result"
    }
   ],
   "source": [
    "(\"2\" @ digit_pl[\"gen\"]).string()\n",
    "# (\"2\" @ digit_graph[\"2\"][\"pl_dat\"]).string()"
   ]
  },
  {
   "cell_type": "code",
   "execution_count": 84,
   "id": "c3a422b4",
   "metadata": {},
   "outputs": [
    {
     "data": {
      "text/plain": [
       "'dwaj'"
      ]
     },
     "execution_count": 84,
     "metadata": {},
     "output_type": "execute_result"
    }
   ],
   "source": [
    "(\"2\" @ d2[\"2\"][\"mp_pl_nom\"]).string()"
   ]
  },
  {
   "cell_type": "code",
   "execution_count": 23,
   "id": "a72f727e",
   "metadata": {},
   "outputs": [
    {
     "name": "stdout",
     "output_type": "stream",
     "text": [
      "['2', 'mi_pl_nom', 'dwa']\n",
      "['2', 'mp_pl_nom', 'dwaj']\n",
      "['2', 'f_pl_nom', 'dwie']\n",
      "['2', 'pl_gen', 'dwóch']\n",
      "['2', 'pl_gen', 'dwu']\n",
      "['2', 'f_pl_ins', 'dwiema']\n",
      "['2', 'f_pl_ins', 'dwoma']\n",
      "['2', 'f_pl_ins', 'dwu']\n",
      "['2', 'mi_pl_ins', 'dwoma']\n",
      "['2', 'mi_pl_ins', 'dwu']\n",
      "['2', 'pl_dat', 'dwóm']\n",
      "['2', 'pl_dat', 'dwom']\n",
      "['2', 'pl_dat', 'dwu']\n",
      "['2', 'compound', 'dwu']\n",
      "['3', 'mi_pl_nom', 'trzy']\n",
      "['3', 'mp_pl_nom', 'trzej']\n",
      "['3', 'pl_gen', 'trzech']\n",
      "['3', 'mi_pl_ins', 'trzema']\n",
      "['3', 'pl_dat', 'trzem']\n",
      "['3', 'compound', 'trzy']\n",
      "['4', 'mi_pl_nom', 'cztery']\n",
      "['4', 'mp_pl_nom', 'czterej']\n",
      "['4', 'pl_gen', 'czterech']\n",
      "['4', 'mi_pl_ins', 'czterema']\n",
      "['4', 'pl_dat', 'czterem']\n",
      "['4', 'compound', 'cztero']\n",
      "['5', 'mi_pl_nom', 'pięć']\n",
      "['5', 'mp_pl_nom', 'pięciu']\n",
      "['5', 'pl_gen', 'pięciu']\n",
      "['5', 'mi_pl_ins', 'pięcioma']\n",
      "['5', 'pl_dat', 'pięciu']\n",
      "['5', 'compound', 'pięcio']\n"
     ]
    },
    {
     "data": {
      "text/plain": [
       "['5', 'compound', 'pięcio']"
      ]
     },
     "execution_count": 23,
     "metadata": {},
     "output_type": "execute_result"
    }
   ],
   "source": [
    "for a in load_labels(get_abs_path(\"data/numbers/digit_forms.tsv\")):\n",
    "    print(a)\n",
    "a"
   ]
  },
  {
   "cell_type": "code",
   "execution_count": 9,
   "id": "ff6a977e",
   "metadata": {},
   "outputs": [],
   "source": [
    "digit_noun_tsv = load_labels(get_abs_path(\"data/grammar/noun_nt_ro.tsv\"))"
   ]
  },
  {
   "cell_type": "code",
   "execution_count": 10,
   "id": "5616d342",
   "metadata": {},
   "outputs": [],
   "source": [
    "noun_labels = [x[0] for x in digit_noun_tsv]"
   ]
  },
  {
   "cell_type": "code",
   "execution_count": 11,
   "id": "ca03986f",
   "metadata": {},
   "outputs": [],
   "source": [
    "TYS = \"\"\"\n",
    "nominative\tmiliard\tmiliardy\n",
    "genitive\tmiliarda\tmiliardów\n",
    "dative\tmiliardowi\tmiliardom\n",
    "accusative\tmiliard\tmiliardy\n",
    "instrumental\tmiliardem\tmiliardami\n",
    "locative\tmiliardzie\tmiliardach\n",
    "vocative\tmiliardzie\tmiliardy\n",
    "\"\"\"\n",
    "sg = []\n",
    "pl = []\n",
    "for line in TYS.strip().split(\"\\n\"):\n",
    "    if not \"\\t\" in line:\n",
    "        continue\n",
    "    line = line.replace(\"miliard\", \"\")\n",
    "    parts = line.split(\"\\t\")\n",
    "    if len(parts) != 3:\n",
    "        continue\n",
    "    sg.append(parts[1])\n",
    "    pl.append(parts[2])\n",
    "forms = sg + pl\n"
   ]
  },
  {
   "cell_type": "code",
   "execution_count": 12,
   "id": "6b2cb2a6",
   "metadata": {},
   "outputs": [
    {
     "data": {
      "text/plain": [
       "['',\n",
       " 'a',\n",
       " 'owi',\n",
       " '',\n",
       " 'em',\n",
       " 'zie',\n",
       " 'zie',\n",
       " 'y',\n",
       " 'ów',\n",
       " 'om',\n",
       " 'y',\n",
       " 'ami',\n",
       " 'ach',\n",
       " 'y']"
      ]
     },
     "execution_count": 12,
     "metadata": {},
     "output_type": "execute_result"
    }
   ],
   "source": [
    "forms"
   ]
  },
  {
   "cell_type": "code",
   "execution_count": 13,
   "id": "d9e68c0d",
   "metadata": {},
   "outputs": [],
   "source": [
    "with open(get_abs_path(\"data/grammar/noun_mi_d.tsv\"), \"w\") as f:\n",
    "    for i in zip(noun_labels, forms):\n",
    "        f.write(f\"{i[0]}\\t{i[1]}\\n\")"
   ]
  },
  {
   "cell_type": "code",
   "execution_count": 1,
   "id": "b3e718e7",
   "metadata": {},
   "outputs": [],
   "source": [
    "from nemo_text_processing.text_normalization.pl.taggers.cardinal import CardinalFst"
   ]
  },
  {
   "cell_type": "code",
   "execution_count": 2,
   "id": "40079d58",
   "metadata": {},
   "outputs": [],
   "source": [
    "cfst = CardinalFst(deterministic=True)"
   ]
  },
  {
   "cell_type": "code",
   "execution_count": 3,
   "id": "4c24f783",
   "metadata": {},
   "outputs": [
    {
     "data": {
      "text/plain": [
       "'jedne'"
      ]
     },
     "execution_count": 3,
     "metadata": {},
     "output_type": "execute_result"
    }
   ],
   "source": [
    "(\"1\" @ cfst.jeden_all[\"nt_sg_voc\"]).string()"
   ]
  },
  {
   "cell_type": "code",
   "execution_count": 4,
   "id": "e7156451",
   "metadata": {},
   "outputs": [],
   "source": [
    "dgt = cfst.get_digits_all(deterministic=False)"
   ]
  },
  {
   "cell_type": "code",
   "execution_count": 42,
   "id": "792ec50b",
   "metadata": {},
   "outputs": [
    {
     "name": "stdout",
     "output_type": "stream",
     "text": [
      "jeden\n",
      "jednego\n",
      "jednemu\n",
      "jednym\n",
      "jeden\n"
     ]
    }
   ],
   "source": [
    "for s in (\"1\" @ dgt[\"sg_only\"][\"nom\"]).paths().ostrings():\n",
    "    print(s)"
   ]
  },
  {
   "cell_type": "code",
   "execution_count": 35,
   "id": "7955a662",
   "metadata": {},
   "outputs": [
    {
     "data": {
      "text/plain": [
       "'jedne'"
      ]
     },
     "execution_count": 35,
     "metadata": {},
     "output_type": "execute_result"
    }
   ],
   "source": [
    "(\"1\" @ cfst.jeden_all[\"nt_sg_nom\"]).string()"
   ]
  }
 ],
 "metadata": {
  "kernelspec": {
   "display_name": "nemo_tn",
   "language": "python",
   "name": "python3"
  },
  "language_info": {
   "codemirror_mode": {
    "name": "ipython",
    "version": 3
   },
   "file_extension": ".py",
   "mimetype": "text/x-python",
   "name": "python",
   "nbconvert_exporter": "python",
   "pygments_lexer": "ipython3",
   "version": "3.8.0"
  }
 },
 "nbformat": 4,
 "nbformat_minor": 5
}
