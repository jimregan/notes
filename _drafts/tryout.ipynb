{
 "cells": [
  {
   "cell_type": "code",
   "execution_count": null,
   "id": "45d5e909",
   "metadata": {},
   "outputs": [],
   "source": [
    "import pynini\n",
    "from nemo_text_processing.text_normalization.en.graph_utils import (\n",
    "    NEMO_DIGIT,\n",
    "    NEMO_SIGMA,\n",
    "    NEMO_SPACE,\n",
    "    NEMO_WHITE_SPACE,\n",
    "    GraphFst,\n",
    "    delete_space,\n",
    "    insert_space,\n",
    ")\n",
    "from nemo_text_processing.text_normalization.pl.graph_utils import PL_ALPHA\n",
    "from nemo_text_processing.text_normalization.pl.utils import adjective_inflection, get_abs_path, load_labels\n",
    "from nemo_text_processing.text_normalization.pl.taggers.ordinal import complete_paradigm\n",
    "from pynini.lib import pynutil\n"
   ]
  },
  {
   "cell_type": "code",
   "execution_count": 3,
   "id": "537eaa3e",
   "metadata": {},
   "outputs": [],
   "source": [
    "def make_million(number: str, non_zero_pl: 'pynini.FstLike', non_zero_quant: 'pynini.FstLike', case: str = None, deterministic: bool = True) -> 'pynini.FstLike':\n",
    "    \"\"\"\n",
    "    Helper function for thousands/millions/milliards and higher\n",
    "    Args:\n",
    "        number: the string of the number\n",
    "        non_zero_pl: An fst of digits excluding 0, 1, 5-9, to prefix to plural forms (nom/acc)\n",
    "        non_zero_quant: An fst of digits excluding 0 and 1-4, to prefix to the quantity forms (nom/acc)\n",
    "        case: the string of the case (if None, nominative/accusative is presumed)\n",
    "        deterministic: if True, generate a deterministic fst\n",
    "\n",
    "    Returns:\n",
    "        graph: A pynini.FstLike object\n",
    "    \"\"\"\n",
    "    if case is None:\n",
    "        sg_end = \"\"\n",
    "        pl_end = \"y\"\n",
    "        quant_end = \"ów\"\n",
    "        one = \"jeden\"\n",
    "    else:\n",
    "        SG = {\n",
    "            \"loc\": \"ie\",\n",
    "            \"ins\": \"em\",\n",
    "            \"dat\": \"owi\",\n",
    "            \"gen\": \"a\",\n",
    "        }\n",
    "        PL = {\n",
    "            \"loc\": \"ach\",\n",
    "            \"ins\": \"ami\",\n",
    "            \"dat\": \"om\",\n",
    "            \"gen\": \"ów\",\n",
    "        }\n",
    "        ONE = {\n",
    "            \"loc\": \"jednym\",\n",
    "            \"ins\": \"jednym\",\n",
    "            \"dat\": \"jednemu\",\n",
    "            \"gen\": \"jednego\",\n",
    "        }\n",
    "        sg_end = SG[case]\n",
    "        pl_end = PL[case]\n",
    "        one = ONE[case]\n",
    "        quant_end = pl_end\n",
    "        if case == \"loc\" and number.endswith(\"ard\"):\n",
    "            sg_end = \"zie\"\n",
    "    graph = pynutil.add_weight(pynini.cross(\"001\", f\"{number}{sg_end}\"), -0.001)\n",
    "    if not deterministic:\n",
    "        graph |= pynutil.add_weight(pynini.cross(\"001\", f\"{one} {number}{sg_end}\"), -0.001)\n",
    "    graph |= non_zero_pl + pynutil.insert(f\" {number}{pl_end}\")\n",
    "    # hack for the stem change in tysiąc (1000)\n",
    "    if number == \"tysiąc\":\n",
    "        number = \"tysięc\"\n",
    "    graph |= non_zero_quant + pynutil.insert(f\" {number}{quant_end}\")\n",
    "    graph |= pynutil.delete(\"000\")\n",
    "    graph += insert_space\n",
    "    return graph"
   ]
  },
  {
   "cell_type": "code",
   "execution_count": 4,
   "id": "bbdd5e33",
   "metadata": {},
   "outputs": [],
   "source": [
    "def make_inflected_graph_dict(file_path: str, cross: str, deterministic=False) -> dict:\n",
    "    graph_dict = {}\n",
    "    for line in load_labels(get_abs_path(file_path)):\n",
    "        key, value = line[0], line[1]\n",
    "        if key not in graph_dict:\n",
    "            graph_dict[key] = pynini.cross(cross, value)\n",
    "        else:\n",
    "            if not deterministic:\n",
    "                graph_dict[key] |= pynini.cross(cross, value)\n",
    "    return graph_dict\n",
    "\n",
    "\n",
    "def get_nominal_inflections(inflection_file, noun_file):\n",
    "    output = {}\n",
    "    inflections = {a[0]: a[1] for a in load_labels(get_abs_path(inflection_file))}\n",
    "    digit_noun_tsv = load_labels(get_abs_path(noun_file))\n",
    "    for digit_noun in digit_noun_tsv:\n",
    "        word = digit_noun[0]\n",
    "        digit = digit_noun[1]\n",
    "        lemma_ending = inflections[\"sg_nom\"]\n",
    "        assert word.endswith(lemma_ending), f\"Word {word} does not end with {lemma_ending}\"\n",
    "        stem = word[:-len(lemma_ending)]\n",
    "        wordforms = {k: stem + v for k, v in inflections.items()}\n",
    "        output[digit] = wordforms\n",
    "    return output"
   ]
  },
  {
   "cell_type": "code",
   "execution_count": 5,
   "id": "b38dbfc8",
   "metadata": {},
   "outputs": [],
   "source": [
    "def get_nominal_graph(inflection_file, noun_file):\n",
    "    output = {}\n",
    "    input = get_nominal_inflections(inflection_file, noun_file)\n",
    "    for item in input:\n",
    "        for key in input[item]:\n",
    "            if not key in output:\n",
    "                output[key] = pynini.cross(item, input[item][key])\n",
    "            else:\n",
    "                output[key] |= pynini.cross(item, input[item][key])\n",
    "    return output"
   ]
  },
  {
   "cell_type": "code",
   "execution_count": 6,
   "id": "c0a57e64",
   "metadata": {},
   "outputs": [],
   "source": [
    "deterministic = True  # Set to False for non-deterministic graphs\n",
    "\n",
    "jeden_all = adjective_inflection(\"jeden\")\n",
    "jeden_graph = pynini.cross(\"1\", jeden_all[\"mi_sg_nom\"])\n",
    "# in compound numbers, jeden does not inflect\n",
    "jeden_only = pynini.cross(\"1\", jeden_all[\"mi_sg_nom\"])\n",
    "if not deterministic:\n",
    "    for key in jeden_all:\n",
    "        if key == \"mi_sg_nom\":\n",
    "            continue\n",
    "        jeden_graph |= pynini.cross(\"1\", jeden_all[key])\n",
    "complete_paradigm(jeden_all)\n",
    "self_jeden_all = {a[0]: pynini.cross(\"1\", a[1]) for a in jeden_all.items()}\n",
    "self_zero_all = get_nominal_graph(\"data/grammar/noun_nt_ro.tsv\", \"data/numbers/zero.tsv\")\n",
    "self_zero_all = get_nominal_graph(\"data/grammar/noun_nt_ro.tsv\", \"data/numbers/zero.tsv\")\n",
    "\n",
    "cases = [\"nom\", \"gen\", \"dat\", \"acc\", \"ins\", \"loc\", \"voc\"]\n",
    "jeden_filt = {}\n",
    "for case in cases:\n",
    "    jeden_filt[case] = jeden_all[f'mi_sg_{case}']\n",
    "tysiac_forms = {a[0]: a[1] for a in load_labels(get_abs_path(\"data/numbers/tysiac.tsv\"))}"
   ]
  },
  {
   "cell_type": "markdown",
   "id": "6ee79e43",
   "metadata": {},
   "source": [
    "- jeden_filt"
   ]
  },
  {
   "cell_type": "code",
   "execution_count": 16,
   "id": "36cecf4a",
   "metadata": {},
   "outputs": [],
   "source": [
    "zero_sg = {x.replace(\"sg_\", \"\"): y for x, y in self_zero_all.items() if x.startswith(\"sg_\")}"
   ]
  },
  {
   "cell_type": "code",
   "execution_count": 17,
   "id": "7db2eaa6",
   "metadata": {},
   "outputs": [
    {
     "data": {
      "text/plain": [
       "{'nom': <vector Fst at 0x799b5b4f6ab0>,\n",
       " 'gen': <vector Fst at 0x799b5b4f64f0>,\n",
       " 'dat': <vector Fst at 0x799b5b4f65b0>,\n",
       " 'acc': <vector Fst at 0x799b5b4f6f30>,\n",
       " 'ins': <vector Fst at 0x799b5b4f6f70>,\n",
       " 'loc': <vector Fst at 0x799b5b4f6fb0>,\n",
       " 'voc': <vector Fst at 0x799b5b4fe030>}"
      ]
     },
     "execution_count": 17,
     "metadata": {},
     "output_type": "execute_result"
    }
   ],
   "source": [
    "zero_sg"
   ]
  },
  {
   "cell_type": "code",
   "execution_count": 8,
   "id": "0b2b8579",
   "metadata": {},
   "outputs": [
    {
     "data": {
      "text/plain": [
       "'zera'"
      ]
     },
     "execution_count": 8,
     "metadata": {},
     "output_type": "execute_result"
    }
   ],
   "source": [
    "(\"0\" @ self_zero_all[\"sg_gen\"]).string()"
   ]
  },
  {
   "cell_type": "code",
   "execution_count": 43,
   "id": "ef4f97eb",
   "metadata": {},
   "outputs": [],
   "source": [
    "def get_digit_forms(filename):\n",
    "    \"\"\"\n",
    "    Returns a dictionary of digit forms for Polish numbers.\n",
    "    \"\"\"\n",
    "    output = {}\n",
    "    for line in load_labels(get_abs_path(filename)):\n",
    "        digit, grammar, form = line[0], line[1], line[2]\n",
    "        if not digit in output:\n",
    "            output[digit] = {}\n",
    "        if grammar not in output[digit]:\n",
    "            output[digit][grammar] = form\n",
    "        else:\n",
    "            if type(output[digit][grammar]) is list:\n",
    "                output[digit][grammar].append(form)\n",
    "            else:\n",
    "                output[digit][grammar] = [output[digit][grammar], form]\n",
    "    return output\n"
   ]
  },
  {
   "cell_type": "code",
   "execution_count": 29,
   "id": "a4b49921",
   "metadata": {},
   "outputs": [],
   "source": [
    "dd = get_digit_forms()"
   ]
  },
  {
   "cell_type": "code",
   "execution_count": 88,
   "id": "78cbecd9",
   "metadata": {},
   "outputs": [],
   "source": [
    "def dict_to_graph(input_dict: dict, deterministic: bool = True) -> dict:\n",
    "    \"\"\"\n",
    "    Converts a nested dictionary of forms to a dict of pynini.FSTs.\n",
    "    Example input:\n",
    "        {'2': {'mi_pl_ins': ['form1', 'form2'], 'mi_sg_nom': 'form3'}}\n",
    "    Output:\n",
    "        {'2': {'mi_pl_ins': FST, 'mi_sg_nom': FST}}\n",
    "    \"\"\"\n",
    "    graph_dict = {}\n",
    "    for key, value in input_dict.items():\n",
    "        graph_dict[key] = {}\n",
    "        for subkey, subvalue in value.items():\n",
    "            if isinstance(subvalue, list):\n",
    "                graph = pynini.cross(key, subvalue[0])\n",
    "                if not deterministic:\n",
    "                    for alt in subvalue[1:]:\n",
    "                        graph |= pynini.cross(key, alt)\n",
    "            else:\n",
    "                graph = pynini.cross(key, subvalue)\n",
    "            graph_dict[key][subkey] = graph\n",
    "    return graph_dict"
   ]
  },
  {
   "cell_type": "code",
   "execution_count": 39,
   "id": "aafd7284",
   "metadata": {},
   "outputs": [],
   "source": [
    "d2 = dict_to_graph(dd, deterministic=True)"
   ]
  },
  {
   "cell_type": "code",
   "execution_count": 89,
   "id": "ee57478c",
   "metadata": {},
   "outputs": [],
   "source": [
    "cases = [\"nom\", \"gen\", \"dat\", \"acc\", \"ins\", \"loc\", \"voc\"]\n",
    "dwa_cases = [\"mi_pl_nom\", \"pl_gen\", \"pl_dat\", \"mi_pl_nom\", \"mi_pl_ins\", \"pl_gen\", \"mi_pl_nom\"]\n",
    "pl_cases = [\"mi_pl_nom\", \"pl_gen\", \"pl_dat\", \"mi_pl_nom\", \"pl_ins\", \"pl_gen\", \"mi_pl_nom\"]\n",
    "qnt_cases = [\"mi_pl_nom\", \"pl_gen\", \"pl_gen\", \"mi_pl_nom\", \"pl_ins\", \"pl_gen\", \"mi_pl_nom\"]\n",
    "jeden_filt = {}\n",
    "for case in cases:\n",
    "    jeden_filt[case] = self_jeden_all[f'mi_sg_{case}']\n",
    "# something similar for dwa\n",
    "digit_forms_all = get_digit_forms(\"data/numbers/digit_forms.tsv\")\n",
    "digit_graph = dict_to_graph(digit_forms_all, deterministic=True)\n",
    "digit_pl = {}\n",
    "for idx in range(len(cases)):\n",
    "    digit_pl[cases[idx]] = pynini.union(\n",
    "        digit_graph[\"2\"][dwa_cases[idx]],\n",
    "        digit_graph[\"3\"][pl_cases[idx]],\n",
    "        digit_graph[\"4\"][pl_cases[idx]],\n",
    "    ).optimize()\n"
   ]
  },
  {
   "cell_type": "code",
   "execution_count": 94,
   "id": "b30bb9c7",
   "metadata": {},
   "outputs": [
    {
     "data": {
      "text/plain": [
       "'dwóch'"
      ]
     },
     "execution_count": 94,
     "metadata": {},
     "output_type": "execute_result"
    }
   ],
   "source": [
    "(\"2\" @ digit_pl[\"gen\"]).string()\n",
    "# (\"2\" @ digit_graph[\"2\"][\"pl_dat\"]).string()"
   ]
  },
  {
   "cell_type": "code",
   "execution_count": 84,
   "id": "c3a422b4",
   "metadata": {},
   "outputs": [
    {
     "data": {
      "text/plain": [
       "'dwaj'"
      ]
     },
     "execution_count": 84,
     "metadata": {},
     "output_type": "execute_result"
    }
   ],
   "source": [
    "(\"2\" @ d2[\"2\"][\"mp_pl_nom\"]).string()"
   ]
  },
  {
   "cell_type": "code",
   "execution_count": 23,
   "id": "a72f727e",
   "metadata": {},
   "outputs": [
    {
     "name": "stdout",
     "output_type": "stream",
     "text": [
      "['2', 'mi_pl_nom', 'dwa']\n",
      "['2', 'mp_pl_nom', 'dwaj']\n",
      "['2', 'f_pl_nom', 'dwie']\n",
      "['2', 'pl_gen', 'dwóch']\n",
      "['2', 'pl_gen', 'dwu']\n",
      "['2', 'f_pl_ins', 'dwiema']\n",
      "['2', 'f_pl_ins', 'dwoma']\n",
      "['2', 'f_pl_ins', 'dwu']\n",
      "['2', 'mi_pl_ins', 'dwoma']\n",
      "['2', 'mi_pl_ins', 'dwu']\n",
      "['2', 'pl_dat', 'dwóm']\n",
      "['2', 'pl_dat', 'dwom']\n",
      "['2', 'pl_dat', 'dwu']\n",
      "['2', 'compound', 'dwu']\n",
      "['3', 'mi_pl_nom', 'trzy']\n",
      "['3', 'mp_pl_nom', 'trzej']\n",
      "['3', 'pl_gen', 'trzech']\n",
      "['3', 'mi_pl_ins', 'trzema']\n",
      "['3', 'pl_dat', 'trzem']\n",
      "['3', 'compound', 'trzy']\n",
      "['4', 'mi_pl_nom', 'cztery']\n",
      "['4', 'mp_pl_nom', 'czterej']\n",
      "['4', 'pl_gen', 'czterech']\n",
      "['4', 'mi_pl_ins', 'czterema']\n",
      "['4', 'pl_dat', 'czterem']\n",
      "['4', 'compound', 'cztero']\n",
      "['5', 'mi_pl_nom', 'pięć']\n",
      "['5', 'mp_pl_nom', 'pięciu']\n",
      "['5', 'pl_gen', 'pięciu']\n",
      "['5', 'mi_pl_ins', 'pięcioma']\n",
      "['5', 'pl_dat', 'pięciu']\n",
      "['5', 'compound', 'pięcio']\n"
     ]
    },
    {
     "data": {
      "text/plain": [
       "['5', 'compound', 'pięcio']"
      ]
     },
     "execution_count": 23,
     "metadata": {},
     "output_type": "execute_result"
    }
   ],
   "source": [
    "for a in load_labels(get_abs_path(\"data/numbers/digit_forms.tsv\")):\n",
    "    print(a)\n",
    "a"
   ]
  },
  {
   "cell_type": "code",
   "execution_count": 9,
   "id": "ff6a977e",
   "metadata": {},
   "outputs": [],
   "source": [
    "digit_noun_tsv = load_labels(get_abs_path(\"data/grammar/noun_nt_ro.tsv\"))"
   ]
  },
  {
   "cell_type": "code",
   "execution_count": 10,
   "id": "5616d342",
   "metadata": {},
   "outputs": [],
   "source": [
    "noun_labels = [x[0] for x in digit_noun_tsv]"
   ]
  },
  {
   "cell_type": "code",
   "execution_count": 11,
   "id": "ca03986f",
   "metadata": {},
   "outputs": [],
   "source": [
    "TYS = \"\"\"\n",
    "nominative\tmiliard\tmiliardy\n",
    "genitive\tmiliarda\tmiliardów\n",
    "dative\tmiliardowi\tmiliardom\n",
    "accusative\tmiliard\tmiliardy\n",
    "instrumental\tmiliardem\tmiliardami\n",
    "locative\tmiliardzie\tmiliardach\n",
    "vocative\tmiliardzie\tmiliardy\n",
    "\"\"\"\n",
    "sg = []\n",
    "pl = []\n",
    "for line in TYS.strip().split(\"\\n\"):\n",
    "    if not \"\\t\" in line:\n",
    "        continue\n",
    "    line = line.replace(\"miliard\", \"\")\n",
    "    parts = line.split(\"\\t\")\n",
    "    if len(parts) != 3:\n",
    "        continue\n",
    "    sg.append(parts[1])\n",
    "    pl.append(parts[2])\n",
    "forms = sg + pl\n"
   ]
  },
  {
   "cell_type": "code",
   "execution_count": 12,
   "id": "6b2cb2a6",
   "metadata": {},
   "outputs": [
    {
     "data": {
      "text/plain": [
       "['',\n",
       " 'a',\n",
       " 'owi',\n",
       " '',\n",
       " 'em',\n",
       " 'zie',\n",
       " 'zie',\n",
       " 'y',\n",
       " 'ów',\n",
       " 'om',\n",
       " 'y',\n",
       " 'ami',\n",
       " 'ach',\n",
       " 'y']"
      ]
     },
     "execution_count": 12,
     "metadata": {},
     "output_type": "execute_result"
    }
   ],
   "source": [
    "forms"
   ]
  },
  {
   "cell_type": "code",
   "execution_count": 13,
   "id": "d9e68c0d",
   "metadata": {},
   "outputs": [],
   "source": [
    "with open(get_abs_path(\"data/grammar/noun_mi_d.tsv\"), \"w\") as f:\n",
    "    for i in zip(noun_labels, forms):\n",
    "        f.write(f\"{i[0]}\\t{i[1]}\\n\")"
   ]
  },
  {
   "cell_type": "code",
   "execution_count": 1,
   "id": "b3e718e7",
   "metadata": {},
   "outputs": [],
   "source": [
    "from nemo_text_processing.text_normalization.pl.taggers.cardinal import CardinalFst"
   ]
  },
  {
   "cell_type": "code",
   "execution_count": 2,
   "id": "40079d58",
   "metadata": {},
   "outputs": [],
   "source": [
    "cfst = CardinalFst(deterministic=True)"
   ]
  },
  {
   "cell_type": "code",
   "execution_count": 10,
   "id": "4c24f783",
   "metadata": {},
   "outputs": [
    {
     "data": {
      "text/plain": [
       "'jedne'"
      ]
     },
     "execution_count": 10,
     "metadata": {},
     "output_type": "execute_result"
    }
   ],
   "source": [
    "(\"1\" @ cfst.jeden_all[\"nt_sg_voc\"]).string()"
   ]
  },
  {
   "cell_type": "code",
   "execution_count": 11,
   "id": "e7156451",
   "metadata": {},
   "outputs": [],
   "source": [
    "dgt = cfst.get_digits_all(deterministic=False)"
   ]
  },
  {
   "cell_type": "code",
   "execution_count": 13,
   "id": "792ec50b",
   "metadata": {},
   "outputs": [
    {
     "data": {
      "image/svg+xml": [
       "<?xml version=\"1.0\" encoding=\"UTF-8\"?>\n",
       "<svg xmlns=\"http://www.w3.org/2000/svg\" xmlns:xlink=\"http://www.w3.org/1999/xlink\" width=\"612pt\" height=\"134pt\" viewBox=\"0 0 612 134\" version=\"1.1\">\n",
       "<defs>\n",
       "<g>\n",
       "<symbol overflow=\"visible\" id=\"glyph0-0\">\n",
       "<path style=\"stroke:none;\" d=\"M 0.5 2 L 0.5 -7 L 5.5 -7 L 5.5 2 Z M 1.0625 1 L 4.9375 1 L 4.9375 -6 L 1.0625 -6 Z M 1.0625 1 \"/>\n",
       "</symbol>\n",
       "<symbol overflow=\"visible\" id=\"glyph0-1\">\n",
       "<path style=\"stroke:none;\" d=\"M 3.171875 -1 C 3.671875 -1 4.046875 -1.207031 4.296875 -1.625 C 4.546875 -2.039062 4.671875 -2.664062 4.671875 -3.5 C 4.671875 -4.332031 4.546875 -4.957031 4.296875 -5.375 C 4.046875 -5.789062 3.671875 -6 3.171875 -6 C 2.679688 -6 2.3125 -5.789062 2.0625 -5.375 C 1.8125 -4.957031 1.6875 -4.332031 1.6875 -3.5 C 1.6875 -2.664062 1.8125 -2.039062 2.0625 -1.625 C 2.3125 -1.207031 2.679688 -1 3.171875 -1 Z M 3.1875 0 C 2.382812 0 1.757812 -0.304688 1.3125 -0.921875 C 0.875 -1.535156 0.65625 -2.394531 0.65625 -3.5 C 0.65625 -4.601562 0.875 -5.460938 1.3125 -6.078125 C 1.757812 -6.691406 2.382812 -7 3.1875 -7 C 3.976562 -7 4.59375 -6.691406 5.03125 -6.078125 C 5.476562 -5.460938 5.703125 -4.601562 5.703125 -3.5 C 5.703125 -2.394531 5.476562 -1.535156 5.03125 -0.921875 C 4.59375 -0.304688 3.976562 0 3.1875 0 Z M 3.1875 0 \"/>\n",
       "</symbol>\n",
       "<symbol overflow=\"visible\" id=\"glyph0-2\">\n",
       "<path style=\"stroke:none;\" d=\"M 1.421875 0 L 1.421875 -1 L 2.6875 -1 L 2.6875 -6.265625 L 1.21875 -5.4375 L 1.21875 -6 L 3 -7 L 3.671875 -7 L 3.671875 -1 L 4.9375 -1 L 4.9375 0 Z M 1.421875 0 \"/>\n",
       "</symbol>\n",
       "<symbol overflow=\"visible\" id=\"glyph0-3\">\n",
       "<path style=\"stroke:none;\" d=\"M 3.484375 -3 L 3.484375 -6.125 L 1 -3 Z M 5.640625 0 L 2.3125 0 L 2.3125 -1 L 3.484375 -1 L 3.484375 -2 L 0.3125 -2 L 0.3125 -2.484375 L 3.5 -7 L 4.46875 -7 L 4.46875 -3 L 5.859375 -3 L 5.859375 -2 L 4.46875 -2 L 4.46875 -1 L 5.640625 -1 Z M 5.640625 0 \"/>\n",
       "</symbol>\n",
       "<symbol overflow=\"visible\" id=\"glyph0-4\">\n",
       "<path style=\"stroke:none;\" d=\"M 4.671875 -3.1875 C 4.453125 -2.789062 4.203125 -2.492188 3.921875 -2.296875 C 3.640625 -2.097656 3.320312 -2 2.96875 -2 C 2.238281 -2 1.664062 -2.222656 1.25 -2.671875 C 0.832031 -3.117188 0.625 -3.726562 0.625 -4.5 C 0.625 -5.257812 0.847656 -5.863281 1.296875 -6.3125 C 1.753906 -6.769531 2.363281 -7 3.125 -7 C 3.945312 -7 4.578125 -6.710938 5.015625 -6.140625 C 5.460938 -5.578125 5.6875 -4.769531 5.6875 -3.71875 C 5.6875 -2.53125 5.421875 -1.613281 4.890625 -0.96875 C 4.367188 -0.320312 3.632812 0 2.6875 0 C 2.4375 0 2.164062 -0.0820312 1.875 -0.25 C 1.59375 -0.414062 1.304688 -0.664062 1.015625 -1 L 1.015625 -2 L 1.5625 -2 C 1.601562 -1.675781 1.726562 -1.425781 1.9375 -1.25 C 2.15625 -1.082031 2.4375 -1 2.78125 -1 C 3.414062 -1 3.882812 -1.175781 4.1875 -1.53125 C 4.5 -1.882812 4.660156 -2.4375 4.671875 -3.1875 Z M 3.078125 -6 C 2.617188 -6 2.265625 -5.867188 2.015625 -5.609375 C 1.773438 -5.359375 1.65625 -4.988281 1.65625 -4.5 C 1.65625 -4.019531 1.773438 -3.648438 2.015625 -3.390625 C 2.265625 -3.128906 2.617188 -3 3.078125 -3 C 3.546875 -3 3.898438 -3.125 4.140625 -3.375 C 4.390625 -3.625 4.515625 -3.984375 4.515625 -4.453125 C 4.515625 -4.953125 4.390625 -5.332031 4.140625 -5.59375 C 3.898438 -5.863281 3.546875 -6 3.078125 -6 Z M 3.078125 -6 \"/>\n",
       "</symbol>\n",
       "<symbol overflow=\"visible\" id=\"glyph0-5\">\n",
       "<path style=\"stroke:none;\" d=\"M 1.046875 -0.5 C 1.046875 -0.632812 1.109375 -0.75 1.234375 -0.84375 C 1.359375 -0.945312 1.507812 -1 1.6875 -1 C 1.875 -1 2.03125 -0.945312 2.15625 -0.84375 C 2.28125 -0.75 2.34375 -0.632812 2.34375 -0.5 C 2.34375 -0.351562 2.28125 -0.234375 2.15625 -0.140625 C 2.03125 -0.046875 1.875 0 1.6875 0 C 1.507812 0 1.359375 -0.046875 1.234375 -0.140625 C 1.109375 -0.234375 1.046875 -0.351562 1.046875 -0.5 Z M 1.046875 -3.5 C 1.046875 -3.632812 1.109375 -3.75 1.234375 -3.84375 C 1.359375 -3.945312 1.507812 -4 1.6875 -4 C 1.875 -4 2.03125 -3.953125 2.15625 -3.859375 C 2.28125 -3.765625 2.34375 -3.644531 2.34375 -3.5 C 2.34375 -3.351562 2.28125 -3.234375 2.15625 -3.140625 C 2.03125 -3.046875 1.875 -3 1.6875 -3 C 1.507812 -3 1.359375 -3.046875 1.234375 -3.140625 C 1.109375 -3.242188 1.046875 -3.363281 1.046875 -3.5 Z M 1.046875 -3.5 \"/>\n",
       "</symbol>\n",
       "<symbol overflow=\"visible\" id=\"glyph0-6\">\n",
       "<path style=\"stroke:none;\" d=\"M 3.265625 -1 C 3.734375 -1 4.085938 -1.128906 4.328125 -1.390625 C 4.578125 -1.648438 4.703125 -2.019531 4.703125 -2.5 C 4.703125 -2.976562 4.578125 -3.347656 4.328125 -3.609375 C 4.085938 -3.867188 3.734375 -4 3.265625 -4 C 2.804688 -4 2.453125 -3.875 2.203125 -3.625 C 1.960938 -3.375 1.84375 -3.015625 1.84375 -2.546875 C 1.84375 -2.046875 1.960938 -1.660156 2.203125 -1.390625 C 2.453125 -1.128906 2.804688 -1 3.265625 -1 Z M 1.6875 -3.8125 C 1.90625 -4.207031 2.15625 -4.503906 2.4375 -4.703125 C 2.71875 -4.898438 3.035156 -5 3.390625 -5 C 4.109375 -5 4.675781 -4.773438 5.09375 -4.328125 C 5.519531 -3.878906 5.734375 -3.269531 5.734375 -2.5 C 5.734375 -1.738281 5.503906 -1.128906 5.046875 -0.671875 C 4.597656 -0.222656 3.992188 0 3.234375 0 C 2.410156 0 1.773438 -0.28125 1.328125 -0.84375 C 0.890625 -1.414062 0.671875 -2.226562 0.671875 -3.28125 C 0.671875 -4.46875 0.929688 -5.382812 1.453125 -6.03125 C 1.984375 -6.675781 2.722656 -7 3.671875 -7 C 3.929688 -7 4.203125 -6.914062 4.484375 -6.75 C 4.773438 -6.582031 5.066406 -6.332031 5.359375 -6 L 5.359375 -5 L 4.796875 -5 C 4.753906 -5.320312 4.628906 -5.566406 4.421875 -5.734375 C 4.210938 -5.910156 3.929688 -6 3.578125 -6 C 2.941406 -6 2.46875 -5.816406 2.15625 -5.453125 C 1.84375 -5.097656 1.6875 -4.550781 1.6875 -3.8125 Z M 1.6875 -3.8125 \"/>\n",
       "</symbol>\n",
       "<symbol overflow=\"visible\" id=\"glyph0-7\">\n",
       "<path style=\"stroke:none;\" d=\"M 1.28125 -5 L 0.734375 -5 L 0.734375 -6 C 1.078125 -6.320312 1.425781 -6.566406 1.78125 -6.734375 C 2.132812 -6.910156 2.484375 -7 2.828125 -7 C 3.585938 -7 4.1875 -6.832031 4.625 -6.5 C 5.0625 -6.175781 5.28125 -5.734375 5.28125 -5.171875 C 5.28125 -4.535156 4.78125 -3.773438 3.78125 -2.890625 C 3.707031 -2.816406 3.648438 -2.765625 3.609375 -2.734375 L 1.765625 -1 L 4.8125 -1 L 4.8125 -2 L 5.375 -2 L 5.375 0 L 0.671875 0 L 0.671875 -0.546875 L 2.890625 -2.8125 C 3.378906 -3.1875 3.726562 -3.523438 3.9375 -3.828125 C 4.144531 -4.140625 4.25 -4.46875 4.25 -4.8125 C 4.25 -5.1875 4.117188 -5.476562 3.859375 -5.6875 C 3.609375 -5.894531 3.257812 -6 2.8125 -6 C 2.34375 -6 1.976562 -5.914062 1.71875 -5.75 C 1.46875 -5.582031 1.320312 -5.332031 1.28125 -5 Z M 1.28125 -5 \"/>\n",
       "</symbol>\n",
       "<symbol overflow=\"visible\" id=\"glyph0-8\">\n",
       "<path style=\"stroke:none;\" d=\"M 0.96875 -6 C 1.351562 -6.320312 1.71875 -6.566406 2.0625 -6.734375 C 2.414062 -6.910156 2.742188 -7 3.046875 -7 C 3.765625 -7 4.320312 -6.84375 4.71875 -6.53125 C 5.125 -6.226562 5.328125 -5.804688 5.328125 -5.265625 C 5.328125 -4.816406 5.1875 -4.445312 4.90625 -4.15625 C 4.632812 -3.863281 4.242188 -3.664062 3.734375 -3.5625 C 4.335938 -3.488281 4.800781 -3.300781 5.125 -3 C 5.457031 -2.695312 5.625 -2.304688 5.625 -1.828125 C 5.625 -1.234375 5.394531 -0.78125 4.9375 -0.46875 C 4.476562 -0.15625 3.820312 0 2.96875 0 C 2.582031 0 2.207031 -0.0820312 1.84375 -0.25 C 1.476562 -0.414062 1.117188 -0.664062 0.765625 -1 L 0.765625 -2 L 1.3125 -2 C 1.34375 -1.664062 1.5 -1.414062 1.78125 -1.25 C 2.070312 -1.082031 2.472656 -1 2.984375 -1 C 3.484375 -1 3.875 -1.082031 4.15625 -1.25 C 4.445312 -1.425781 4.59375 -1.664062 4.59375 -1.96875 C 4.59375 -2.300781 4.441406 -2.554688 4.140625 -2.734375 C 3.847656 -2.910156 3.414062 -3 2.84375 -3 L 2.375 -3 L 2.375 -4 L 2.625 -4 C 3.195312 -4 3.625 -4.082031 3.90625 -4.25 C 4.1875 -4.425781 4.328125 -4.6875 4.328125 -5.03125 C 4.328125 -5.34375 4.207031 -5.582031 3.96875 -5.75 C 3.738281 -5.914062 3.40625 -6 2.96875 -6 C 2.53125 -6 2.1875 -5.914062 1.9375 -5.75 C 1.695312 -5.582031 1.554688 -5.332031 1.515625 -5 L 0.96875 -5 Z M 0.96875 -6 \"/>\n",
       "</symbol>\n",
       "<symbol overflow=\"visible\" id=\"glyph0-9\">\n",
       "<path style=\"stroke:none;\" d=\"M 5.03125 -7 L 5.03125 -6 L 1.6875 -6 L 1.6875 -4.265625 C 1.851562 -4.503906 2.050781 -4.6875 2.28125 -4.8125 C 2.507812 -4.9375 2.765625 -5 3.046875 -5 C 3.828125 -5 4.445312 -4.773438 4.90625 -4.328125 C 5.363281 -3.878906 5.59375 -3.269531 5.59375 -2.5 C 5.59375 -1.71875 5.359375 -1.101562 4.890625 -0.65625 C 4.429688 -0.21875 3.785156 0 2.953125 0 C 2.617188 0 2.273438 -0.0820312 1.921875 -0.25 C 1.566406 -0.414062 1.207031 -0.664062 0.84375 -1 L 0.84375 -2 L 1.40625 -2 C 1.4375 -1.675781 1.582031 -1.425781 1.84375 -1.25 C 2.113281 -1.082031 2.488281 -1 2.96875 -1 C 3.476562 -1 3.867188 -1.128906 4.140625 -1.390625 C 4.421875 -1.648438 4.5625 -2.019531 4.5625 -2.5 C 4.5625 -2.988281 4.421875 -3.359375 4.140625 -3.609375 C 3.867188 -3.867188 3.476562 -4 2.96875 -4 C 2.664062 -4 2.40625 -4 2.1875 -4 C 1.96875 -4 1.769531 -4 1.59375 -4 L 1.171875 -4 L 1.171875 -7 Z M 5.03125 -7 \"/>\n",
       "</symbol>\n",
       "<symbol overflow=\"visible\" id=\"glyph0-10\">\n",
       "<path style=\"stroke:none;\" d=\"M 5.640625 -6.515625 L 2.78125 0 L 2.0625 0 L 4.78125 -6 L 1.40625 -6 L 1.40625 -5.171875 L 0.84375 -5.171875 L 0.84375 -7 L 5.640625 -7 Z M 5.640625 -6.515625 \"/>\n",
       "</symbol>\n",
       "<symbol overflow=\"visible\" id=\"glyph0-11\">\n",
       "<path style=\"stroke:none;\" d=\"M 4.65625 -2 C 4.65625 -2.3125 4.523438 -2.554688 4.265625 -2.734375 C 4.003906 -2.910156 3.640625 -3 3.171875 -3 C 2.710938 -3 2.351562 -2.910156 2.09375 -2.734375 C 1.832031 -2.554688 1.703125 -2.3125 1.703125 -2 C 1.703125 -1.6875 1.832031 -1.441406 2.09375 -1.265625 C 2.351562 -1.085938 2.710938 -1 3.171875 -1 C 3.640625 -1 4.003906 -1.085938 4.265625 -1.265625 C 4.523438 -1.441406 4.65625 -1.6875 4.65625 -2 Z M 4.453125 -5 C 4.453125 -5.3125 4.335938 -5.554688 4.109375 -5.734375 C 3.890625 -5.910156 3.578125 -6 3.171875 -6 C 2.773438 -6 2.460938 -5.910156 2.234375 -5.734375 C 2.015625 -5.554688 1.90625 -5.3125 1.90625 -5 C 1.90625 -4.6875 2.015625 -4.441406 2.234375 -4.265625 C 2.460938 -4.085938 2.773438 -4 3.171875 -4 C 3.578125 -4 3.890625 -4.085938 4.109375 -4.265625 C 4.335938 -4.441406 4.453125 -4.6875 4.453125 -5 Z M 3.9375 -3.5 C 4.488281 -3.4375 4.914062 -3.257812 5.21875 -2.96875 C 5.53125 -2.675781 5.6875 -2.304688 5.6875 -1.859375 C 5.6875 -1.265625 5.46875 -0.804688 5.03125 -0.484375 C 4.601562 -0.160156 3.984375 0 3.171875 0 C 2.367188 0 1.75 -0.160156 1.3125 -0.484375 C 0.882812 -0.804688 0.671875 -1.265625 0.671875 -1.859375 C 0.671875 -2.304688 0.820312 -2.675781 1.125 -2.96875 C 1.4375 -3.257812 1.875 -3.4375 2.4375 -3.5 C 1.945312 -3.582031 1.566406 -3.765625 1.296875 -4.046875 C 1.035156 -4.328125 0.90625 -4.6875 0.90625 -5.125 C 0.90625 -5.707031 1.109375 -6.164062 1.515625 -6.5 C 1.921875 -6.832031 2.472656 -7 3.171875 -7 C 3.878906 -7 4.4375 -6.832031 4.84375 -6.5 C 5.25 -6.164062 5.453125 -5.707031 5.453125 -5.125 C 5.453125 -4.6875 5.320312 -4.328125 5.0625 -4.046875 C 4.800781 -3.765625 4.425781 -3.582031 3.9375 -3.5 Z M 3.9375 -3.5 \"/>\n",
       "</symbol>\n",
       "</g>\n",
       "</defs>\n",
       "<g id=\"surface1\">\n",
       "<rect x=\"0\" y=\"0\" width=\"612\" height=\"134\" style=\"fill:rgb(100%,100%,100%);fill-opacity:1;stroke:none;\"/>\n",
       "<path style=\"fill:none;stroke-width:2;stroke-linecap:butt;stroke-linejoin:miter;stroke:rgb(0%,0%,0%);stroke-opacity:1;stroke-miterlimit:10;\" d=\"M 36.000726 -129.000181 C 36.000726 -119.059203 27.943746 -111.002222 17.997505 -111.002222 C 8.056527 -111.002222 -0.00045361 -119.059203 -0.00045361 -129.000181 C -0.00045361 -138.941159 8.056527 -146.99814 17.997505 -146.99814 C 27.943746 -146.99814 36.000726 -138.941159 36.000726 -129.000181 \" transform=\"matrix(0.742272,0,0,0.742272,2.969087,131.382087)\"/>\n",
       "<g style=\"fill:rgb(0%,0%,0%);fill-opacity:1;\">\n",
       "  <use xlink:href=\"#glyph0-1\" x=\"12.617187\" y=\"38.376136\"/>\n",
       "</g>\n",
       "<path style=\"fill:none;stroke-width:1;stroke-linecap:butt;stroke-linejoin:miter;stroke:rgb(0%,0%,0%);stroke-opacity:1;stroke-miterlimit:10;\" d=\"M 151.998097 -129.000181 C 151.998097 -119.059203 143.941116 -111.002222 134.000138 -111.002222 C 124.05916 -111.002222 116.002179 -119.059203 116.002179 -129.000181 C 116.002179 -138.941159 124.05916 -146.99814 134.000138 -146.99814 C 143.941116 -146.99814 151.998097 -138.941159 151.998097 -129.000181 \" transform=\"matrix(0.742272,0,0,0.742272,2.969087,131.382087)\"/>\n",
       "<g style=\"fill:rgb(0%,0%,0%);fill-opacity:1;\">\n",
       "  <use xlink:href=\"#glyph0-2\" x=\"98.722656\" y=\"38.376136\"/>\n",
       "</g>\n",
       "<path style=\"fill:none;stroke-width:1;stroke-linecap:butt;stroke-linejoin:miter;stroke:rgb(0%,0%,0%);stroke-opacity:1;stroke-miterlimit:10;\" d=\"M 36.127028 -129.000181 C 54.656505 -129.000181 83.72163 -129.000181 105.366544 -129.000181 \" transform=\"matrix(0.742272,0,0,0.742272,2.969087,131.382087)\"/>\n",
       "<path style=\"fill-rule:nonzero;fill:rgb(0%,0%,0%);fill-opacity:1;stroke-width:1;stroke-linecap:butt;stroke-linejoin:miter;stroke:rgb(0%,0%,0%);stroke-opacity:1;stroke-miterlimit:10;\" d=\"M 105.619146 -132.499784 L 115.618012 -129.000181 L 105.619146 -125.500578 Z M 105.619146 -132.499784 \" transform=\"matrix(0.742272,0,0,0.742272,2.969087,131.382087)\"/>\n",
       "<g style=\"fill:rgb(0%,0%,0%);fill-opacity:1;\">\n",
       "  <use xlink:href=\"#glyph0-3\" x=\"40.824219\" y=\"32.80973\"/>\n",
       "  <use xlink:href=\"#glyph0-4\" x=\"47.504664\" y=\"32.80973\"/>\n",
       "  <use xlink:href=\"#glyph0-5\" x=\"54.185109\" y=\"32.80973\"/>\n",
       "  <use xlink:href=\"#glyph0-2\" x=\"57.525331\" y=\"32.80973\"/>\n",
       "  <use xlink:href=\"#glyph0-1\" x=\"64.205777\" y=\"32.80973\"/>\n",
       "  <use xlink:href=\"#glyph0-6\" x=\"70.886222\" y=\"32.80973\"/>\n",
       "</g>\n",
       "<path style=\"fill:none;stroke-width:1;stroke-linecap:butt;stroke-linejoin:miter;stroke:rgb(0%,0%,0%);stroke-opacity:1;stroke-miterlimit:10;\" d=\"M 259.00175 -129.000181 C 259.00175 -119.059203 250.939507 -111.002222 240.998529 -111.002222 C 231.057551 -111.002222 223.00057 -119.059203 223.00057 -129.000181 C 223.00057 -138.941159 231.057551 -146.99814 240.998529 -146.99814 C 250.939507 -146.99814 259.00175 -138.941159 259.00175 -129.000181 \" transform=\"matrix(0.742272,0,0,0.742272,2.969087,131.382087)\"/>\n",
       "<g style=\"fill:rgb(0%,0%,0%);fill-opacity:1;\">\n",
       "  <use xlink:href=\"#glyph0-7\" x=\"178.144531\" y=\"38.376136\"/>\n",
       "</g>\n",
       "<path style=\"fill:none;stroke-width:1;stroke-linecap:butt;stroke-linejoin:miter;stroke:rgb(0%,0%,0%);stroke-opacity:1;stroke-miterlimit:10;\" d=\"M 152.150711 -129.000181 C 168.675153 -129.000181 193.346039 -129.000181 212.496499 -129.000181 \" transform=\"matrix(0.742272,0,0,0.742272,2.969087,131.382087)\"/>\n",
       "<path style=\"fill-rule:nonzero;fill:rgb(0%,0%,0%);fill-opacity:1;stroke-width:1;stroke-linecap:butt;stroke-linejoin:miter;stroke:rgb(0%,0%,0%);stroke-opacity:1;stroke-miterlimit:10;\" d=\"M 212.759627 -132.499784 L 222.758493 -129.000181 L 212.759627 -125.500578 Z M 212.759627 -132.499784 \" transform=\"matrix(0.742272,0,0,0.742272,2.969087,131.382087)\"/>\n",
       "<g style=\"fill:rgb(0%,0%,0%);fill-opacity:1;\">\n",
       "  <use xlink:href=\"#glyph0-1\" x=\"126.929688\" y=\"32.80973\"/>\n",
       "  <use xlink:href=\"#glyph0-5\" x=\"133.610133\" y=\"32.80973\"/>\n",
       "  <use xlink:href=\"#glyph0-2\" x=\"136.950355\" y=\"32.80973\"/>\n",
       "  <use xlink:href=\"#glyph0-1\" x=\"143.6308\" y=\"32.80973\"/>\n",
       "  <use xlink:href=\"#glyph0-2\" x=\"150.311245\" y=\"32.80973\"/>\n",
       "</g>\n",
       "<path style=\"fill:none;stroke-width:1;stroke-linecap:butt;stroke-linejoin:miter;stroke:rgb(0%,0%,0%);stroke-opacity:1;stroke-miterlimit:10;\" d=\"M 366.000142 -129.000181 C 366.000142 -119.059203 357.943161 -111.002222 348.002183 -111.002222 C 338.061205 -111.002222 329.998961 -119.059203 329.998961 -129.000181 C 329.998961 -138.941159 338.061205 -146.99814 348.002183 -146.99814 C 357.943161 -146.99814 366.000142 -138.941159 366.000142 -129.000181 \" transform=\"matrix(0.742272,0,0,0.742272,2.969087,131.382087)\"/>\n",
       "<g style=\"fill:rgb(0%,0%,0%);fill-opacity:1;\">\n",
       "  <use xlink:href=\"#glyph0-8\" x=\"257.566406\" y=\"38.376136\"/>\n",
       "</g>\n",
       "<path style=\"fill:none;stroke-width:1;stroke-linecap:butt;stroke-linejoin:miter;stroke:rgb(0%,0%,0%);stroke-opacity:1;stroke-miterlimit:10;\" d=\"M 259.149102 -129.000181 C 275.673544 -129.000181 300.34443 -129.000181 319.500152 -129.000181 \" transform=\"matrix(0.742272,0,0,0.742272,2.969087,131.382087)\"/>\n",
       "<path style=\"fill-rule:nonzero;fill:rgb(0%,0%,0%);fill-opacity:1;stroke-width:1;stroke-linecap:butt;stroke-linejoin:miter;stroke:rgb(0%,0%,0%);stroke-opacity:1;stroke-miterlimit:10;\" d=\"M 319.758018 -132.499784 L 329.762146 -129.000181 L 319.758018 -125.500578 Z M 319.758018 -132.499784 \" transform=\"matrix(0.742272,0,0,0.742272,2.969087,131.382087)\"/>\n",
       "<g style=\"fill:rgb(0%,0%,0%);fill-opacity:1;\">\n",
       "  <use xlink:href=\"#glyph0-1\" x=\"206.351562\" y=\"32.80973\"/>\n",
       "  <use xlink:href=\"#glyph0-5\" x=\"213.032008\" y=\"32.80973\"/>\n",
       "  <use xlink:href=\"#glyph0-2\" x=\"216.37223\" y=\"32.80973\"/>\n",
       "  <use xlink:href=\"#glyph0-1\" x=\"223.052675\" y=\"32.80973\"/>\n",
       "  <use xlink:href=\"#glyph0-1\" x=\"229.73312\" y=\"32.80973\"/>\n",
       "</g>\n",
       "<path style=\"fill:none;stroke-width:1;stroke-linecap:butt;stroke-linejoin:miter;stroke:rgb(0%,0%,0%);stroke-opacity:1;stroke-miterlimit:10;\" d=\"M 526.497728 -151.997573 C 526.497728 -142.056595 518.440747 -133.999614 508.499769 -133.999614 C 498.558792 -133.999614 490.501811 -142.056595 490.501811 -151.997573 C 490.501811 -161.93855 498.558792 -170.000794 508.499769 -170.000794 C 518.440747 -170.000794 526.497728 -161.93855 526.497728 -151.997573 \" transform=\"matrix(0.742272,0,0,0.742272,2.969087,131.382087)\"/>\n",
       "<g style=\"fill:rgb(0%,0%,0%);fill-opacity:1;\">\n",
       "  <use xlink:href=\"#glyph0-3\" x=\"376.703125\" y=\"21.301918\"/>\n",
       "</g>\n",
       "<path style=\"fill:none;stroke-width:1;stroke-linecap:butt;stroke-linejoin:miter;stroke:rgb(0%,0%,0%);stroke-opacity:1;stroke-miterlimit:10;\" d=\"M 366.10013 -131.594623 C 393.912765 -135.578382 447.396173 -143.245933 480.313492 -147.961188 \" transform=\"matrix(0.742272,0,0,0.742272,2.969087,131.382087)\"/>\n",
       "<path style=\"fill-rule:nonzero;fill:rgb(0%,0%,0%);fill-opacity:1;stroke-width:1;stroke-linecap:butt;stroke-linejoin:miter;stroke:rgb(0%,0%,0%);stroke-opacity:1;stroke-miterlimit:10;\" d=\"M 479.824074 -151.423953 L 490.222895 -149.38208 L 480.818698 -144.498423 Z M 479.824074 -151.423953 \" transform=\"matrix(0.742272,0,0,0.742272,2.969087,131.382087)\"/>\n",
       "<g style=\"fill:rgb(0%,0%,0%);fill-opacity:1;\">\n",
       "  <use xlink:href=\"#glyph0-1\" x=\"285.773437\" y=\"25.383949\"/>\n",
       "  <use xlink:href=\"#glyph0-5\" x=\"292.453883\" y=\"25.383949\"/>\n",
       "  <use xlink:href=\"#glyph0-2\" x=\"295.794105\" y=\"25.383949\"/>\n",
       "  <use xlink:href=\"#glyph0-1\" x=\"302.47455\" y=\"25.383949\"/>\n",
       "  <use xlink:href=\"#glyph0-2\" x=\"309.154995\" y=\"25.383949\"/>\n",
       "</g>\n",
       "<path style=\"fill:none;stroke-width:1;stroke-linecap:butt;stroke-linejoin:miter;stroke:rgb(0%,0%,0%);stroke-opacity:1;stroke-miterlimit:10;\" d=\"M 472.998533 -92.999001 C 472.998533 -83.058023 464.941552 -75.001042 455.000574 -75.001042 C 445.059596 -75.001042 437.002615 -83.058023 437.002615 -92.999001 C 437.002615 -102.939978 445.059596 -111.002222 455.000574 -111.002222 C 464.941552 -111.002222 472.998533 -102.939978 472.998533 -92.999001 \" transform=\"matrix(0.742272,0,0,0.742272,2.969087,131.382087)\"/>\n",
       "<g style=\"fill:rgb(0%,0%,0%);fill-opacity:1;\">\n",
       "  <use xlink:href=\"#glyph0-9\" x=\"336.992187\" y=\"65.098793\"/>\n",
       "</g>\n",
       "<path style=\"fill:none;stroke-width:1;stroke-linecap:butt;stroke-linejoin:miter;stroke:rgb(0%,0%,0%);stroke-opacity:1;stroke-miterlimit:10;\" d=\"M 364.642401 -121.511556 C 369.836549 -119.290756 375.609578 -116.938391 380.99844 -115.001768 C 396.175667 -109.544493 413.436867 -104.355607 427.466854 -100.392899 \" transform=\"matrix(0.742272,0,0,0.742272,2.969087,131.382087)\"/>\n",
       "<path style=\"fill-rule:nonzero;fill:rgb(0%,0%,0%);fill-opacity:1;stroke-width:1;stroke-linecap:butt;stroke-linejoin:miter;stroke:rgb(0%,0%,0%);stroke-opacity:1;stroke-miterlimit:10;\" d=\"M 428.777232 -103.660949 L 437.476246 -97.614267 L 426.90376 -96.914346 Z M 428.777232 -103.660949 \" transform=\"matrix(0.742272,0,0,0.742272,2.969087,131.382087)\"/>\n",
       "<g style=\"fill:rgb(0%,0%,0%);fill-opacity:1;\">\n",
       "  <use xlink:href=\"#glyph0-1\" x=\"285.773437\" y=\"43.200355\"/>\n",
       "  <use xlink:href=\"#glyph0-5\" x=\"292.453883\" y=\"43.200355\"/>\n",
       "  <use xlink:href=\"#glyph0-2\" x=\"295.794105\" y=\"43.200355\"/>\n",
       "  <use xlink:href=\"#glyph0-2\" x=\"302.47455\" y=\"43.200355\"/>\n",
       "  <use xlink:href=\"#glyph0-1\" x=\"309.154995\" y=\"43.200355\"/>\n",
       "</g>\n",
       "<path style=\"fill:none;stroke-width:1;stroke-linecap:butt;stroke-linejoin:miter;stroke:rgb(0%,0%,0%);stroke-opacity:1;stroke-miterlimit:10;\" d=\"M 812.707373 -99.998207 C 812.707373 -87.320697 802.429591 -77.037653 789.746819 -77.037653 C 777.069309 -77.037653 766.786265 -87.320697 766.786265 -99.998207 C 766.786265 -112.680979 777.069309 -122.958761 789.746819 -122.958761 C 802.429591 -122.958761 812.707373 -112.680979 812.707373 -99.998207 \" transform=\"matrix(0.742272,0,0,0.742272,2.969087,131.382087)\"/>\n",
       "<path style=\"fill:none;stroke-width:1;stroke-linecap:butt;stroke-linejoin:miter;stroke:rgb(0%,0%,0%);stroke-opacity:1;stroke-miterlimit:10;\" d=\"M 816.743757 -99.998207 C 816.743757 -85.089371 804.660917 -73.001269 789.746819 -73.001269 C 774.837984 -73.001269 762.749881 -85.089371 762.749881 -99.998207 C 762.749881 -114.912305 774.837984 -127.000408 789.746819 -127.000408 C 804.660917 -127.000408 816.743757 -114.912305 816.743757 -99.998207 \" transform=\"matrix(0.742272,0,0,0.742272,2.969087,131.382087)\"/>\n",
       "<g style=\"fill:rgb(0%,0%,0%);fill-opacity:1;\">\n",
       "  <use xlink:href=\"#glyph0-2\" x=\"582.125\" y=\"59.899574\"/>\n",
       "  <use xlink:href=\"#glyph0-1\" x=\"588.805445\" y=\"59.899574\"/>\n",
       "</g>\n",
       "<path style=\"fill:none;stroke-width:1;stroke-linecap:butt;stroke-linejoin:miter;stroke:rgb(0%,0%,0%);stroke-opacity:1;stroke-miterlimit:10;\" d=\"M 526.455628 -154.565702 C 567.898296 -159.633549 672.465384 -167.50634 747.998922 -130.999954 C 752.345798 -128.900192 756.692673 -126.3268 760.855359 -123.569218 \" transform=\"matrix(0.742272,0,0,0.742272,2.969087,131.382087)\"/>\n",
       "<path style=\"fill-rule:nonzero;fill:rgb(0%,0%,0%);fill-opacity:1;stroke-width:1;stroke-linecap:butt;stroke-linejoin:miter;stroke:rgb(0%,0%,0%);stroke-opacity:1;stroke-miterlimit:10;\" d=\"M 762.944596 -126.379425 L 769.080742 -117.7383 L 758.897686 -120.669547 Z M 762.944596 -126.379425 \" transform=\"matrix(0.742272,0,0,0.742272,2.969087,131.382087)\"/>\n",
       "<g style=\"fill:rgb(0%,0%,0%);fill-opacity:1;\">\n",
       "  <use xlink:href=\"#glyph0-1\" x=\"444.621094\" y=\"11.282386\"/>\n",
       "  <use xlink:href=\"#glyph0-5\" x=\"451.301539\" y=\"11.282386\"/>\n",
       "  <use xlink:href=\"#glyph0-2\" x=\"454.641761\" y=\"11.282386\"/>\n",
       "  <use xlink:href=\"#glyph0-2\" x=\"461.322206\" y=\"11.282386\"/>\n",
       "  <use xlink:href=\"#glyph0-1\" x=\"468.002652\" y=\"11.282386\"/>\n",
       "</g>\n",
       "<path style=\"fill:none;stroke-width:1;stroke-linecap:butt;stroke-linejoin:miter;stroke:rgb(0%,0%,0%);stroke-opacity:1;stroke-miterlimit:10;\" d=\"M 580.002186 -92.999001 C 580.002186 -83.058023 571.939943 -75.001042 561.998965 -75.001042 C 552.057987 -75.001042 544.001006 -83.058023 544.001006 -92.999001 C 544.001006 -102.939978 552.057987 -111.002222 561.998965 -111.002222 C 571.939943 -111.002222 580.002186 -102.939978 580.002186 -92.999001 \" transform=\"matrix(0.742272,0,0,0.742272,2.969087,131.382087)\"/>\n",
       "<g style=\"fill:rgb(0%,0%,0%);fill-opacity:1;\">\n",
       "  <use xlink:href=\"#glyph0-6\" x=\"416.414062\" y=\"65.098793\"/>\n",
       "</g>\n",
       "<path style=\"fill:none;stroke-width:1;stroke-linecap:butt;stroke-linejoin:miter;stroke:rgb(0%,0%,0%);stroke-opacity:1;stroke-miterlimit:10;\" d=\"M 473.151147 -92.999001 C 489.675589 -92.999001 514.346475 -92.999001 533.496934 -92.999001 \" transform=\"matrix(0.742272,0,0,0.742272,2.969087,131.382087)\"/>\n",
       "<path style=\"fill-rule:nonzero;fill:rgb(0%,0%,0%);fill-opacity:1;stroke-width:1;stroke-linecap:butt;stroke-linejoin:miter;stroke:rgb(0%,0%,0%);stroke-opacity:1;stroke-miterlimit:10;\" d=\"M 533.760062 -96.498604 L 543.758928 -92.999001 L 533.760062 -89.499398 Z M 533.760062 -96.498604 \" transform=\"matrix(0.742272,0,0,0.742272,2.969087,131.382087)\"/>\n",
       "<g style=\"fill:rgb(0%,0%,0%);fill-opacity:1;\">\n",
       "  <use xlink:href=\"#glyph0-1\" x=\"365.199219\" y=\"59.52848\"/>\n",
       "  <use xlink:href=\"#glyph0-5\" x=\"371.879664\" y=\"59.52848\"/>\n",
       "  <use xlink:href=\"#glyph0-2\" x=\"375.219886\" y=\"59.52848\"/>\n",
       "  <use xlink:href=\"#glyph0-1\" x=\"381.900331\" y=\"59.52848\"/>\n",
       "  <use xlink:href=\"#glyph0-2\" x=\"388.580777\" y=\"59.52848\"/>\n",
       "</g>\n",
       "<path style=\"fill:none;stroke-width:1;stroke-linecap:butt;stroke-linejoin:miter;stroke:rgb(0%,0%,0%);stroke-opacity:1;stroke-miterlimit:10;\" d=\"M 633.501382 -18.002243 C 633.501382 -8.061266 625.439138 0.000977988 615.49816 0.000977988 C 605.557183 0.000977988 597.500202 -8.061266 597.500202 -18.002243 C 597.500202 -27.943221 605.557183 -36.000202 615.49816 -36.000202 C 625.439138 -36.000202 633.501382 -27.943221 633.501382 -18.002243 \" transform=\"matrix(0.742272,0,0,0.742272,2.969087,131.382087)\"/>\n",
       "<g style=\"fill:rgb(0%,0%,0%);fill-opacity:1;\">\n",
       "  <use xlink:href=\"#glyph0-10\" x=\"456.125\" y=\"120.766761\"/>\n",
       "</g>\n",
       "<path style=\"fill:none;stroke-width:1;stroke-linecap:butt;stroke-linejoin:miter;stroke:rgb(0%,0%,0%);stroke-opacity:1;stroke-miterlimit:10;\" d=\"M 470.58828 -83.563229 C 476.029768 -80.395167 482.21854 -76.921877 488.002094 -74.001155 C 522.282417 -56.666279 563.130415 -39.273515 589.185355 -28.574728 \" transform=\"matrix(0.742272,0,0,0.742272,2.969087,131.382087)\"/>\n",
       "<path style=\"fill-rule:nonzero;fill:rgb(0%,0%,0%);fill-opacity:1;stroke-width:1;stroke-linecap:butt;stroke-linejoin:miter;stroke:rgb(0%,0%,0%);stroke-opacity:1;stroke-miterlimit:10;\" d=\"M 590.790436 -31.70069 L 598.726378 -24.685696 L 588.148631 -25.217215 Z M 590.790436 -31.70069 \" transform=\"matrix(0.742272,0,0,0.742272,2.969087,131.382087)\"/>\n",
       "<g style=\"fill:rgb(0%,0%,0%);fill-opacity:1;\">\n",
       "  <use xlink:href=\"#glyph0-1\" x=\"365.199219\" y=\"73.633949\"/>\n",
       "  <use xlink:href=\"#glyph0-5\" x=\"371.879664\" y=\"73.633949\"/>\n",
       "  <use xlink:href=\"#glyph0-2\" x=\"375.219886\" y=\"73.633949\"/>\n",
       "  <use xlink:href=\"#glyph0-7\" x=\"381.900331\" y=\"73.633949\"/>\n",
       "  <use xlink:href=\"#glyph0-2\" x=\"388.580777\" y=\"73.633949\"/>\n",
       "</g>\n",
       "<path style=\"fill:none;stroke-width:1;stroke-linecap:butt;stroke-linejoin:miter;stroke:rgb(0%,0%,0%);stroke-opacity:1;stroke-miterlimit:10;\" d=\"M 689.500294 -119.001315 C 689.500294 -109.060337 681.443313 -100.998093 671.502335 -100.998093 C 661.561357 -100.998093 653.499114 -109.060337 653.499114 -119.001315 C 653.499114 -128.942293 661.561357 -136.999274 671.502335 -136.999274 C 681.443313 -136.999274 689.500294 -128.942293 689.500294 -119.001315 \" transform=\"matrix(0.742272,0,0,0.742272,2.969087,131.382087)\"/>\n",
       "<g style=\"fill:rgb(0%,0%,0%);fill-opacity:1;\">\n",
       "  <use xlink:href=\"#glyph0-11\" x=\"497.691406\" y=\"45.798011\"/>\n",
       "</g>\n",
       "<path style=\"fill:none;stroke-width:1;stroke-linecap:butt;stroke-linejoin:miter;stroke:rgb(0%,0%,0%);stroke-opacity:1;stroke-miterlimit:10;\" d=\"M 579.591706 -97.177474 C 596.994996 -101.308585 623.876158 -107.692071 644.079129 -112.491527 \" transform=\"matrix(0.742272,0,0,0.742272,2.969087,131.382087)\"/>\n",
       "<path style=\"fill-rule:nonzero;fill:rgb(0%,0%,0%);fill-opacity:1;stroke-width:1;stroke-linecap:butt;stroke-linejoin:miter;stroke:rgb(0%,0%,0%);stroke-opacity:1;stroke-miterlimit:10;\" d=\"M 643.410784 -115.927979 L 653.951694 -114.833366 L 645.031653 -109.118225 Z M 643.410784 -115.927979 \" transform=\"matrix(0.742272,0,0,0.742272,2.969087,131.382087)\"/>\n",
       "<g style=\"fill:rgb(0%,0%,0%);fill-opacity:1;\">\n",
       "  <use xlink:href=\"#glyph0-1\" x=\"444.621094\" y=\"47.65348\"/>\n",
       "  <use xlink:href=\"#glyph0-5\" x=\"451.301539\" y=\"47.65348\"/>\n",
       "  <use xlink:href=\"#glyph0-2\" x=\"454.641761\" y=\"47.65348\"/>\n",
       "  <use xlink:href=\"#glyph0-1\" x=\"461.322206\" y=\"47.65348\"/>\n",
       "  <use xlink:href=\"#glyph0-8\" x=\"468.002652\" y=\"47.65348\"/>\n",
       "</g>\n",
       "<path style=\"fill:none;stroke-width:1;stroke-linecap:butt;stroke-linejoin:miter;stroke:rgb(0%,0%,0%);stroke-opacity:1;stroke-miterlimit:10;\" d=\"M 689.500294 -65.002176 C 689.500294 -55.061198 681.443313 -46.998955 671.502335 -46.998955 C 661.561357 -46.998955 653.499114 -55.061198 653.499114 -65.002176 C 653.499114 -74.943154 661.561357 -83.000135 671.502335 -83.000135 C 681.443313 -83.000135 689.500294 -74.943154 689.500294 -65.002176 \" transform=\"matrix(0.742272,0,0,0.742272,2.969087,131.382087)\"/>\n",
       "<g style=\"fill:rgb(0%,0%,0%);fill-opacity:1;\">\n",
       "  <use xlink:href=\"#glyph0-4\" x=\"497.691406\" y=\"85.880043\"/>\n",
       "</g>\n",
       "<path style=\"fill:none;stroke-width:1;stroke-linecap:butt;stroke-linejoin:miter;stroke:rgb(0%,0%,0%);stroke-opacity:1;stroke-miterlimit:10;\" d=\"M 579.02335 -86.952318 C 584.128034 -85.241986 589.764237 -83.452715 595.000485 -82.000248 C 611.035509 -77.558647 629.212394 -73.480162 643.821264 -70.433139 \" transform=\"matrix(0.742272,0,0,0.742272,2.969087,131.382087)\"/>\n",
       "<path style=\"fill-rule:nonzero;fill:rgb(0%,0%,0%);fill-opacity:1;stroke-width:1;stroke-linecap:butt;stroke-linejoin:miter;stroke:rgb(0%,0%,0%);stroke-opacity:1;stroke-miterlimit:10;\" d=\"M 644.652749 -73.832753 L 653.751717 -68.40179 L 643.252907 -66.975636 Z M 644.652749 -73.832753 \" transform=\"matrix(0.742272,0,0,0.742272,2.969087,131.382087)\"/>\n",
       "<g style=\"fill:rgb(0%,0%,0%);fill-opacity:1;\">\n",
       "  <use xlink:href=\"#glyph0-1\" x=\"444.621094\" y=\"67.696449\"/>\n",
       "  <use xlink:href=\"#glyph0-5\" x=\"451.301539\" y=\"67.696449\"/>\n",
       "  <use xlink:href=\"#glyph0-2\" x=\"454.641761\" y=\"67.696449\"/>\n",
       "  <use xlink:href=\"#glyph0-1\" x=\"461.322206\" y=\"67.696449\"/>\n",
       "  <use xlink:href=\"#glyph0-4\" x=\"468.002652\" y=\"67.696449\"/>\n",
       "</g>\n",
       "<path style=\"fill:none;stroke-width:1;stroke-linecap:butt;stroke-linejoin:miter;stroke:rgb(0%,0%,0%);stroke-opacity:1;stroke-miterlimit:10;\" d=\"M 633.454019 -16.234023 C 649.373266 -15.34465 672.986377 -15.707767 692.00001 -23.001676 C 719.886321 -33.6952 746.162288 -55.292751 764.428638 -72.90128 \" transform=\"matrix(0.742272,0,0,0.742272,2.969087,131.382087)\"/>\n",
       "<path style=\"fill-rule:nonzero;fill:rgb(0%,0%,0%);fill-opacity:1;stroke-width:1;stroke-linecap:butt;stroke-linejoin:miter;stroke:rgb(0%,0%,0%);stroke-opacity:1;stroke-miterlimit:10;\" d=\"M 762.186787 -75.606236 L 771.754123 -80.163614 L 767.112544 -70.633116 Z M 762.186787 -75.606236 \" transform=\"matrix(0.742272,0,0,0.742272,2.969087,131.382087)\"/>\n",
       "<g style=\"fill:rgb(0%,0%,0%);fill-opacity:1;\">\n",
       "  <use xlink:href=\"#glyph0-1\" x=\"486.1875\" y=\"111.489418\"/>\n",
       "  <use xlink:href=\"#glyph0-5\" x=\"492.867945\" y=\"111.489418\"/>\n",
       "  <use xlink:href=\"#glyph0-2\" x=\"496.208168\" y=\"111.489418\"/>\n",
       "  <use xlink:href=\"#glyph0-1\" x=\"502.888613\" y=\"111.489418\"/>\n",
       "  <use xlink:href=\"#glyph0-4\" x=\"509.569058\" y=\"111.489418\"/>\n",
       "</g>\n",
       "<path style=\"fill:none;stroke-width:1;stroke-linecap:butt;stroke-linejoin:miter;stroke:rgb(0%,0%,0%);stroke-opacity:1;stroke-miterlimit:10;\" d=\"M 689.458193 -116.112169 C 706.340489 -113.40195 732.100725 -109.260314 753.293059 -105.855437 \" transform=\"matrix(0.742272,0,0,0.742272,2.969087,131.382087)\"/>\n",
       "<path style=\"fill-rule:nonzero;fill:rgb(0%,0%,0%);fill-opacity:1;stroke-width:1;stroke-linecap:butt;stroke-linejoin:miter;stroke:rgb(0%,0%,0%);stroke-opacity:1;stroke-miterlimit:10;\" d=\"M 753.945616 -109.297152 L 763.265612 -104.255619 L 752.835216 -102.38741 Z M 753.945616 -109.297152 \" transform=\"matrix(0.742272,0,0,0.742272,2.969087,131.382087)\"/>\n",
       "<g style=\"fill:rgb(0%,0%,0%);fill-opacity:1;\">\n",
       "  <use xlink:href=\"#glyph0-1\" x=\"527.753906\" y=\"45.426918\"/>\n",
       "  <use xlink:href=\"#glyph0-5\" x=\"534.434351\" y=\"45.426918\"/>\n",
       "  <use xlink:href=\"#glyph0-2\" x=\"537.774574\" y=\"45.426918\"/>\n",
       "  <use xlink:href=\"#glyph0-2\" x=\"544.455019\" y=\"45.426918\"/>\n",
       "  <use xlink:href=\"#glyph0-2\" x=\"551.135464\" y=\"45.426918\"/>\n",
       "</g>\n",
       "<path style=\"fill:none;stroke-width:1;stroke-linecap:butt;stroke-linejoin:miter;stroke:rgb(0%,0%,0%);stroke-opacity:1;stroke-miterlimit:10;\" d=\"M 688.947725 -70.164748 C 706.029998 -75.22207 732.553306 -83.073811 754.108756 -89.452035 \" transform=\"matrix(0.742272,0,0,0.742272,2.969087,131.382087)\"/>\n",
       "<path style=\"fill-rule:nonzero;fill:rgb(0%,0%,0%);fill-opacity:1;stroke-width:1;stroke-linecap:butt;stroke-linejoin:miter;stroke:rgb(0%,0%,0%);stroke-opacity:1;stroke-miterlimit:10;\" d=\"M 753.335159 -92.872699 L 763.918169 -92.351706 L 755.319145 -86.157671 Z M 753.335159 -92.872699 \" transform=\"matrix(0.742272,0,0,0.742272,2.969087,131.382087)\"/>\n",
       "<g style=\"fill:rgb(0%,0%,0%);fill-opacity:1;\">\n",
       "  <use xlink:href=\"#glyph0-1\" x=\"527.753906\" y=\"63.985511\"/>\n",
       "  <use xlink:href=\"#glyph0-5\" x=\"534.434351\" y=\"63.985511\"/>\n",
       "  <use xlink:href=\"#glyph0-2\" x=\"537.774574\" y=\"63.985511\"/>\n",
       "  <use xlink:href=\"#glyph0-2\" x=\"544.455019\" y=\"63.985511\"/>\n",
       "  <use xlink:href=\"#glyph0-10\" x=\"551.135464\" y=\"63.985511\"/>\n",
       "</g>\n",
       "</g>\n",
       "</svg>\n"
      ],
      "text/plain": [
       "<vector Fst at 0x7ea6512b67f0>"
      ]
     },
     "execution_count": 13,
     "metadata": {},
     "output_type": "execute_result"
    }
   ],
   "source": [
    "(\"1\" @ dgt[\"sg\"][\"gen\"]).optimize()"
   ]
  }
 ],
 "metadata": {
  "kernelspec": {
   "display_name": "nemo_tn",
   "language": "python",
   "name": "python3"
  },
  "language_info": {
   "codemirror_mode": {
    "name": "ipython",
    "version": 3
   },
   "file_extension": ".py",
   "mimetype": "text/x-python",
   "name": "python",
   "nbconvert_exporter": "python",
   "pygments_lexer": "ipython3",
   "version": "3.8.0"
  }
 },
 "nbformat": 4,
 "nbformat_minor": 5
}
