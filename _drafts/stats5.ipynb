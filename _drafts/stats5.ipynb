{
 "cells": [
  {
   "attachments": {},
   "cell_type": "markdown",
   "metadata": {},
   "source": [
    "$\\chi^2$ - test of _absolute_ frequencies (number of objects) in classifications"
   ]
  },
  {
   "attachments": {},
   "cell_type": "markdown",
   "metadata": {},
   "source": [
    "$\\chi^2 = \\Sigma\\frac{(O-E)^2}{E}$\n",
    "\n",
    "O = observed, E = expected"
   ]
  },
  {
   "attachments": {},
   "cell_type": "markdown",
   "metadata": {},
   "source": [
    "One frequency distribution\n",
    "\n",
    "- Goodness-of-fit test\n",
    "\n",
    "Two-way frequency distributions\n",
    "\n",
    "- Cross tabulation"
   ]
  },
  {
   "attachments": {},
   "cell_type": "markdown",
   "metadata": {},
   "source": [
    "Fixed marginals\n",
    "\n",
    "Homogeneity test\n",
    "\n",
    "\"No difference between A and B\""
   ]
  },
  {
   "attachments": {},
   "cell_type": "markdown",
   "metadata": {},
   "source": [
    "Random marginals\n",
    "\n",
    "Independent Test\n",
    "\n",
    "\"The row classification is independent of the column classification\""
   ]
  },
  {
   "attachments": {},
   "cell_type": "markdown",
   "metadata": {},
   "source": [
    "Test of 3 hamburger brands\n",
    "\n",
    "$H_0$: No difference in taste\n",
    "\n",
    "$P(A) = \\frac{1}{3}, P(B) = \\frac{1}{3}, P(C) = \\frac{1}{3}$\n",
    "\n",
    "$H_1$: Difference in taste"
   ]
  },
  {
   "cell_type": "code",
   "execution_count": 10,
   "metadata": {},
   "outputs": [],
   "source": [
    "def chi_square(obs, e):\n",
    "    total = 0\n",
    "    for o in obs:\n",
    "        o_e = (o - e) * (o - e)\n",
    "        total += (o_e / e)\n",
    "    return total"
   ]
  },
  {
   "attachments": {},
   "cell_type": "markdown",
   "metadata": {},
   "source": [
    "Since the observed value of $\\chi^2$ (8.4) is greater than the critical value (5.99) $H_0$ is rejected.\n",
    "\n",
    "There is a difference between the hamburgers"
   ]
  },
  {
   "attachments": {},
   "cell_type": "markdown",
   "metadata": {},
   "source": [
    "$H_0$: equal frequency in the five age categories\n",
    "\n",
    "$H_1$: Not $H_0$\n",
    "\n",
    "$\\alpha : 0.05$"
   ]
  },
  {
   "attachments": {},
   "cell_type": "markdown",
   "metadata": {},
   "source": [
    "$df = (K-1) = (5-1) = 4$"
   ]
  },
  {
   "attachments": {},
   "cell_type": "markdown",
   "metadata": {},
   "source": [
    "$\\chi^2_{Table} = 9.49$"
   ]
  },
  {
   "cell_type": "code",
   "execution_count": 12,
   "metadata": {},
   "outputs": [
    {
     "data": {
      "text/plain": [
       "38.2"
      ]
     },
     "execution_count": 12,
     "metadata": {},
     "output_type": "execute_result"
    }
   ],
   "source": [
    "chi_square([6, 20, 35, 41, 48], 30)"
   ]
  },
  {
   "cell_type": "code",
   "execution_count": 13,
   "metadata": {},
   "outputs": [],
   "source": [
    "def chi_square_more(l):\n",
    "    sum = 0\n",
    "    for i in l:\n",
    "        sum += i\n",
    "    exp = sum / len(l)\n",
    "    return chi_square(l, exp)"
   ]
  },
  {
   "cell_type": "code",
   "execution_count": 16,
   "metadata": {},
   "outputs": [],
   "source": [
    "freq = [152, 114, 106, 51, 43, 43]\n",
    "pct = [30, 20, 20, 10, 10, 10]\n",
    "\n",
    "total = 0\n",
    "for f in freq:\n",
    "    total += f\n",
    "\n",
    "exp = [(total / 100 * x) for x in pct]"
   ]
  },
  {
   "cell_type": "code",
   "execution_count": 17,
   "metadata": {},
   "outputs": [
    {
     "data": {
      "text/plain": [
       "[152.7, 101.8, 101.8, 50.9, 50.9, 50.9]"
      ]
     },
     "execution_count": 17,
     "metadata": {},
     "output_type": "execute_result"
    }
   ],
   "source": [
    "exp"
   ]
  },
  {
   "cell_type": "code",
   "execution_count": 18,
   "metadata": {},
   "outputs": [],
   "source": [
    "def chi_square_l(obs, exps):\n",
    "    total = 0\n",
    "    for o in zip(obs, exps):\n",
    "        o_e = (o[0] - o[1]) * (o[0] - o[1])\n",
    "        total += (o_e / o[1])\n",
    "    return total"
   ]
  },
  {
   "cell_type": "code",
   "execution_count": 19,
   "metadata": {},
   "outputs": [
    {
     "data": {
      "text/plain": [
       "4.091028159790438"
      ]
     },
     "execution_count": 19,
     "metadata": {},
     "output_type": "execute_result"
    }
   ],
   "source": [
    "chi_square_l(freq, exp)"
   ]
  },
  {
   "attachments": {},
   "cell_type": "markdown",
   "metadata": {},
   "source": [
    "Since the observed value (4.09) is less than the critical value (11.)"
   ]
  }
 ],
 "metadata": {
  "kernelspec": {
   "display_name": "nst-tts",
   "language": "python",
   "name": "python3"
  },
  "language_info": {
   "codemirror_mode": {
    "name": "ipython",
    "version": 3
   },
   "file_extension": ".py",
   "mimetype": "text/x-python",
   "name": "python",
   "nbconvert_exporter": "python",
   "pygments_lexer": "ipython3",
   "version": "3.10.9"
  },
  "orig_nbformat": 4,
  "vscode": {
   "interpreter": {
    "hash": "1d37170a772792180ed27ad87dcb2b141dc22d8f7d1c01dacbd80117f91150d8"
   }
  }
 },
 "nbformat": 4,
 "nbformat_minor": 2
}
