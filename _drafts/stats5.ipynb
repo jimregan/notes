{
 "cells": [
  {
   "attachments": {},
   "cell_type": "markdown",
   "metadata": {},
   "source": [
    "$\\chi^2$ - test of _absolute_ frequencies (number of objects) in classifications"
   ]
  },
  {
   "attachments": {},
   "cell_type": "markdown",
   "metadata": {},
   "source": [
    "$\\chi^2 = \\Sigma\\frac{(O-E)^2}{E}$\n",
    "\n",
    "O = observed, E = expected"
   ]
  },
  {
   "attachments": {},
   "cell_type": "markdown",
   "metadata": {},
   "source": [
    "One frequency distribution\n",
    "\n",
    "- Goodness-of-fit test\n",
    "\n",
    "Two-way frequency distributions\n",
    "\n",
    "- Cross tabulation"
   ]
  }
 ],
 "metadata": {
  "kernelspec": {
   "display_name": "nst-tts",
   "language": "python",
   "name": "python3"
  },
  "language_info": {
   "codemirror_mode": {
    "name": "ipython",
    "version": 3
   },
   "file_extension": ".py",
   "mimetype": "text/x-python",
   "name": "python",
   "nbconvert_exporter": "python",
   "pygments_lexer": "ipython3",
   "version": "3.10.9"
  },
  "orig_nbformat": 4,
  "vscode": {
   "interpreter": {
    "hash": "1d37170a772792180ed27ad87dcb2b141dc22d8f7d1c01dacbd80117f91150d8"
   }
  }
 },
 "nbformat": 4,
 "nbformat_minor": 2
}
