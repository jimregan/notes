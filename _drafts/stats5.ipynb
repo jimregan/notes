{
 "cells": [
  {
   "attachments": {},
   "cell_type": "markdown",
   "metadata": {},
   "source": [
    "$\\chi^2$ - test of _absolute_ frequencies (number of objects) in classifications"
   ]
  },
  {
   "attachments": {},
   "cell_type": "markdown",
   "metadata": {},
   "source": [
    "$\\chi^2 = \\Sigma\\frac{(O-E)^2}{E}$\n",
    "\n",
    "O = observed, E = expected"
   ]
  },
  {
   "attachments": {},
   "cell_type": "markdown",
   "metadata": {},
   "source": [
    "One frequency distribution\n",
    "\n",
    "- Goodness-of-fit test\n",
    "\n",
    "Two-way frequency distributions\n",
    "\n",
    "- Cross tabulation"
   ]
  },
  {
   "attachments": {},
   "cell_type": "markdown",
   "metadata": {},
   "source": [
    "Fixed marginals\n",
    "\n",
    "Homogeneity test\n",
    "\n",
    "\"No difference between A and B\""
   ]
  },
  {
   "attachments": {},
   "cell_type": "markdown",
   "metadata": {},
   "source": [
    "Random marginals\n",
    "\n",
    "Independent Test\n",
    "\n",
    "\"The row classification is independent of the column classification\""
   ]
  },
  {
   "attachments": {},
   "cell_type": "markdown",
   "metadata": {},
   "source": [
    "Test of 3 hamburger brands\n",
    "\n",
    "$H_0$: No difference in taste\n",
    "\n",
    "$P(A) = \\frac{1}{3}, P(B) = \\frac{1}{3}, P(C) = \\frac{1}{3}$\n",
    "\n",
    "$H_1$: Difference in taste"
   ]
  },
  {
   "cell_type": "code",
   "execution_count": 5,
   "metadata": {},
   "outputs": [],
   "source": [
    "def square(a):\n",
    "    return a * a\n",
    "\n",
    "def chi_square_inner(o, e):\n",
    "    return square(o - e) / e\n"
   ]
  },
  {
   "cell_type": "code",
   "execution_count": 6,
   "metadata": {},
   "outputs": [],
   "source": [
    "def chi_square(items, e):\n",
    "    total = 0\n",
    "    for item in items:\n",
    "        total += chi_square_inner(item, e)\n",
    "    return total"
   ]
  },
  {
   "cell_type": "code",
   "execution_count": 7,
   "metadata": {},
   "outputs": [
    {
     "data": {
      "text/plain": [
       "5.2"
      ]
     },
     "execution_count": 7,
     "metadata": {},
     "output_type": "execute_result"
    }
   ],
   "source": [
    "chi_square([20, 10, 22], 20)"
   ]
  }
 ],
 "metadata": {
  "kernelspec": {
   "display_name": "nst-tts",
   "language": "python",
   "name": "python3"
  },
  "language_info": {
   "codemirror_mode": {
    "name": "ipython",
    "version": 3
   },
   "file_extension": ".py",
   "mimetype": "text/x-python",
   "name": "python",
   "nbconvert_exporter": "python",
   "pygments_lexer": "ipython3",
   "version": "3.10.9"
  },
  "orig_nbformat": 4,
  "vscode": {
   "interpreter": {
    "hash": "1d37170a772792180ed27ad87dcb2b141dc22d8f7d1c01dacbd80117f91150d8"
   }
  }
 },
 "nbformat": 4,
 "nbformat_minor": 2
}
