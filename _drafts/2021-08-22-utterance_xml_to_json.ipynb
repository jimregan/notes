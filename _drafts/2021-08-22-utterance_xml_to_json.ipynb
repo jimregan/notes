{
  "nbformat": 4,
  "nbformat_minor": 0,
  "metadata": {
    "colab": {
      "name": "utterance-xml-to-json.ipynb",
      "provenance": []
    },
    "kernelspec": {
      "name": "python3",
      "display_name": "Python 3"
    },
    "language_info": {
      "name": "python"
    }
  },
  "cells": [
    {
      "cell_type": "code",
      "metadata": {
        "id": "jjpTXXpDt-v-"
      },
      "source": [
        "sample = \"\"\"\n",
        "<?xml version=\"1.0\" encoding=\"utf-8\"?>\n",
        "<utterance input_string=\"\">\n",
        "<sentence input_string=\"\">\n",
        "<token input_string=\"SILENCE_TOKEN\">\n",
        "<word input_string=\"SILENCE_TOKEN\" trans_source=\"src\" trans_output_format=\"final\">\n",
        "<syllable >\n",
        "<phoneme symbol=\"sil\" end=\"1.19\"/>\n",
        "</syllable>\n",
        "</word>\n",
        "</token>\n",
        "</sentence>\n",
        "</utterance>\n",
        "\"\"\""
      ],
      "execution_count": 61,
      "outputs": []
    },
    {
      "cell_type": "code",
      "metadata": {
        "id": "9dlZZHaDuCIw"
      },
      "source": [
        "import xml.etree.ElementTree as ET"
      ],
      "execution_count": 27,
      "outputs": []
    },
    {
      "cell_type": "code",
      "metadata": {
        "id": "wcB6QUIEuaYM"
      },
      "source": [
        "class Utterance:\n",
        "  def __init__(self, input, sentences):\n",
        "    self.input = input\n",
        "    self.sentences = sentences"
      ],
      "execution_count": 28,
      "outputs": []
    },
    {
      "cell_type": "code",
      "metadata": {
        "id": "KP-hde8puoqV"
      },
      "source": [
        "class Sentence:\n",
        "  def __init__(self, input, tokens):\n",
        "    self.input = input\n",
        "    self.tokens = tokens"
      ],
      "execution_count": 29,
      "outputs": []
    },
    {
      "cell_type": "code",
      "metadata": {
        "id": "nGLSIO4MuxDV"
      },
      "source": [
        "class Token:\n",
        "  def __init__(self, input, words):\n",
        "    self.input = input\n",
        "    self.words = words"
      ],
      "execution_count": 30,
      "outputs": []
    },
    {
      "cell_type": "code",
      "metadata": {
        "id": "LfZdwq3eu2US"
      },
      "source": [
        "class Word:\n",
        "  def __init__(self, input, source, syllables):\n",
        "    self.input = input\n",
        "    self.source = source\n",
        "    self.syllables = syllables\n",
        "    if self.syllables is None:\n",
        "      self.syllables = []"
      ],
      "execution_count": 31,
      "outputs": []
    },
    {
      "cell_type": "code",
      "metadata": {
        "id": "s9cELSRmu_Nf"
      },
      "source": [
        "class Syllable:\n",
        "  def __init__(self, stress: int = 0, phonemes = None):\n",
        "    self.stress = stress\n",
        "    self.phonemes = phonemes\n",
        "    if self.phonemes is None:\n",
        "      self.phonemes = []"
      ],
      "execution_count": 32,
      "outputs": []
    },
    {
      "cell_type": "code",
      "metadata": {
        "id": "zc3dFZmGvFHW"
      },
      "source": [
        "class Phoneme:\n",
        "  def __init__(self, symbol: str = \"\", end: float = 0.0):\n",
        "    self.symbol = symbol\n",
        "    self.end = end"
      ],
      "execution_count": 33,
      "outputs": []
    },
    {
      "cell_type": "code",
      "metadata": {
        "id": "AgUr7UDCvVFf"
      },
      "source": [
        "import io\n",
        "sio = io.StringIO(sample.strip())"
      ],
      "execution_count": 62,
      "outputs": []
    },
    {
      "cell_type": "code",
      "metadata": {
        "id": "O_F_IbXuvYEA"
      },
      "source": [
        "def from_xml(source):\n",
        "  tree = ET.parse(source)\n",
        "  root = tree.getroot()\n",
        "  if 'input_string' in root.attrib:\n",
        "    input = root.attrib['input_string']\n",
        "  else:\n",
        "    input = ''\n",
        "  sentences = []\n",
        "  for sentence in root.findall('./sentence'):\n",
        "    if 'input_string' in sentence.attrib:\n",
        "      input = sentence.attrib['input_string']\n",
        "    else:\n",
        "      input = ''\n",
        "    tokens = []\n",
        "    for token in sentence.findall('./token'):\n",
        "      if 'input_string' in token.attrib:\n",
        "        input = token.attrib['input_string']\n",
        "      else:\n",
        "        input = ''\n",
        "      words = []\n",
        "      for word in token.findall('./word'):\n",
        "        if 'input_string' in word.attrib:\n",
        "          input = word.attrib['input_string']\n",
        "        else:\n",
        "          input = \"\"\n",
        "        if 'trans_source' in word.attrib:\n",
        "          source = word.attrib['trans_source']\n",
        "        else:\n",
        "          source = \"\"\n",
        "        syllables = []\n",
        "        for syllable in word.findall('./syllable'):\n",
        "          phonemes = []\n",
        "          if 'stress' in syllable.attrib:\n",
        "            stress = int(syllable.attrib['stress'])\n",
        "          else:\n",
        "            stress = 0\n",
        "          for phoneme in syllable.findall('./phoneme'):\n",
        "            if 'symbol' in phoneme.attrib:\n",
        "              symbol = phoneme.attrib['symbol']\n",
        "            else:\n",
        "              symbol = ''\n",
        "            if 'end' in phoneme.attrib:\n",
        "              end = float(phoneme.attrib['end'])\n",
        "            else:\n",
        "              symbol = 0.0\n",
        "            phonemes.append(Phoneme(symbol, end))\n",
        "          syllables.append(Syllable(stress, phonemes))\n",
        "        words.append(Word(input, source, syllables))\n",
        "      tokens.append(Token(input, words))\n",
        "    sentences.append(Sentence(input, tokens))\n",
        "  return Utterance(input, sentences)"
      ],
      "execution_count": 57,
      "outputs": []
    },
    {
      "cell_type": "code",
      "metadata": {
        "id": "efC60Efq7eDY"
      },
      "source": [
        "utt = from_xml(sio)"
      ],
      "execution_count": 63,
      "outputs": []
    },
    {
      "cell_type": "code",
      "metadata": {
        "colab": {
          "base_uri": "https://localhost:8080/",
          "height": 52
        },
        "id": "tLH-kimU9P7y",
        "outputId": "128cf053-4942-4661-c9c6-b47ba9f252e7"
      },
      "source": [
        "import json\n",
        "json.dumps(utt, default=lambda o: o.__dict__)"
      ],
      "execution_count": 64,
      "outputs": [
        {
          "output_type": "execute_result",
          "data": {
            "application/vnd.google.colaboratory.intrinsic+json": {
              "type": "string"
            },
            "text/plain": [
              "'{\"input\": \"SILENCE_TOKEN\", \"sentences\": [{\"input\": \"SILENCE_TOKEN\", \"tokens\": [{\"input\": \"SILENCE_TOKEN\", \"words\": [{\"input\": \"SILENCE_TOKEN\", \"source\": \"src\", \"syllables\": [{\"stress\": 0, \"phonemes\": [{\"symbol\": \"sil\", \"end\": 1.19}]}]}]}]}]}'"
            ]
          },
          "metadata": {},
          "execution_count": 64
        }
      ]
    }
  ]
}