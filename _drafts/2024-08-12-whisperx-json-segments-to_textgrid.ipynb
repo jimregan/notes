{
 "cells": [
  {
   "cell_type": "markdown",
   "id": "cd0b06be",
   "metadata": {
    "papermill": {
     "duration": 0.007361,
     "end_time": "2024-08-12T16:43:38.732862",
     "exception": false,
     "start_time": "2024-08-12T16:43:38.725501",
     "status": "completed"
    },
    "tags": []
   },
   "source": [
    "# WhisperX JSON segemnts to textgrid\n",
    "\n",
    "> \"For HSI project\"\n",
    "\n",
    "- comments: false\n",
    "- branch: master\n",
    "- hidden: true\n",
    "- categories: [praat, textgrid, whisperx, json]"
   ]
  },
  {
   "cell_type": "code",
   "execution_count": 6,
   "id": "4f6b1ed2",
   "metadata": {
    "execution": {
     "iopub.execute_input": "2024-08-12T16:43:38.743833Z",
     "iopub.status.busy": "2024-08-12T16:43:38.743260Z",
     "iopub.status.idle": "2024-08-12T16:43:39.620838Z",
     "shell.execute_reply": "2024-08-12T16:43:39.619678Z"
    },
    "papermill": {
     "duration": 0.886111,
     "end_time": "2024-08-12T16:43:39.623642",
     "exception": false,
     "start_time": "2024-08-12T16:43:38.737531",
     "status": "completed"
    },
    "tags": []
   },
   "outputs": [],
   "source": [
    "#%%capture\n",
    "#%pip install praatio"
   ]
  },
  {
   "cell_type": "code",
   "execution_count": 7,
   "id": "878a3190",
   "metadata": {
    "execution": {
     "iopub.execute_input": "2024-08-12T16:43:39.629935Z",
     "iopub.status.busy": "2024-08-12T16:43:39.629635Z",
     "iopub.status.idle": "2024-08-12T16:43:40.382378Z",
     "shell.execute_reply": "2024-08-12T16:43:40.381957Z"
    },
    "papermill": {
     "duration": 0.757413,
     "end_time": "2024-08-12T16:43:40.383855",
     "exception": false,
     "start_time": "2024-08-12T16:43:39.626442",
     "status": "completed"
    },
    "tags": []
   },
   "outputs": [],
   "source": [
    "from praatio import textgrid\n",
    "from praatio.utilities.constants import Interval"
   ]
  },
  {
   "cell_type": "code",
   "execution_count": 8,
   "id": "02bd1873",
   "metadata": {
    "execution": {
     "iopub.execute_input": "2024-08-12T16:43:40.386975Z",
     "iopub.status.busy": "2024-08-12T16:43:40.386823Z",
     "iopub.status.idle": "2024-08-12T16:43:40.388902Z",
     "shell.execute_reply": "2024-08-12T16:43:40.388527Z"
    },
    "papermill": {
     "duration": 0.004818,
     "end_time": "2024-08-12T16:43:40.390016",
     "exception": false,
     "start_time": "2024-08-12T16:43:40.385198",
     "status": "completed"
    },
    "tags": [
     "parameters"
    ]
   },
   "outputs": [],
   "source": [
    "input = \"/Users/joregan/Playing/hsi/audio/whisperx-json/\"\n",
    "output = '/tmp/whisperx-textgrids'"
   ]
  },
  {
   "cell_type": "code",
   "execution_count": 18,
   "id": "b4e7f5b3",
   "metadata": {},
   "outputs": [],
   "source": [
    "from pathlib import Path\n",
    "import json\n",
    "\n",
    "IS_DIR = False\n",
    "input_path = Path(input)\n",
    "output_path = Path(output)\n",
    "\n",
    "if input_path.is_dir():\n",
    "    IS_DIR = True\n",
    "    assert not output_path.exists(), \"f{output} exists, refusing to overwrite\"\n",
    "    output_path.mkdir()"
   ]
  },
  {
   "cell_type": "code",
   "execution_count": 19,
   "id": "90d1a66b",
   "metadata": {},
   "outputs": [],
   "source": [
    "def pad_silences(segments):\n",
    "    start = 0.0\n",
    "    out = []\n",
    "    for segment in segments:\n",
    "        out.append((start, segment[0], \" \"))\n",
    "        out.append(segment)\n",
    "        start = segment[1]\n",
    "    return out"
   ]
  },
  {
   "cell_type": "code",
   "execution_count": 24,
   "id": "81e388c8",
   "metadata": {
    "execution": {
     "iopub.execute_input": "2024-08-12T16:43:40.399422Z",
     "iopub.status.busy": "2024-08-12T16:43:40.399255Z",
     "iopub.status.idle": "2024-08-12T16:43:40.404455Z",
     "shell.execute_reply": "2024-08-12T16:43:40.404094Z"
    },
    "papermill": {
     "duration": 0.008307,
     "end_time": "2024-08-12T16:43:40.405752",
     "exception": false,
     "start_time": "2024-08-12T16:43:40.397445",
     "status": "completed"
    },
    "tags": []
   },
   "outputs": [],
   "source": [
    "def write_converted(infile, outfile, verbose=True):\n",
    "    if type(infile) == Path:\n",
    "        infile = str(infile)\n",
    "    if type(outfile) == Path:\n",
    "        outfile = str(outfile)\n",
    "\n",
    "    with open(infile) as inf:\n",
    "        data = json.load(inf)\n",
    "\n",
    "    out = []\n",
    "    if not \"segments\" in data:\n",
    "        if verbose:\n",
    "            print(\"File\", infile, \"possibly incorrect JSON\")\n",
    "        return\n",
    "    if len(data[\"segments\"]) == 0:\n",
    "        if verbose:\n",
    "            print(\"File\", infile, \"contains no segments\")\n",
    "        return\n",
    "    for segment in data[\"segments\"]:\n",
    "        if segment[\"start\"] > segment[\"end\"]:\n",
    "            if verbose:\n",
    "                print(\"File\", infile, \"has start time after end time\")\n",
    "            return\n",
    "        out.append(Interval(segment[\"start\"], segment[\"end\"], segment[\"text\"]))\n",
    "\n",
    "    tier_start = out[0][0]\n",
    "    tier_end = out[-1][1]\n",
    "\n",
    "    tg = textgrid.Textgrid()\n",
    "    word_tier = textgrid.IntervalTier('words', pad_silences(out), tier_start, tier_end)\n",
    "    tg.addTier(word_tier)\n",
    "    tg.save(outfile, format=\"long_textgrid\", includeBlankSpaces=False)"
   ]
  },
  {
   "cell_type": "code",
   "execution_count": 25,
   "id": "b4b133b3",
   "metadata": {},
   "outputs": [
    {
     "name": "stdout",
     "output_type": "stream",
     "text": [
      "File /Users/joregan/Playing/hsi/audio/whisperx-json/hsi_6_0718_222_002_inter.json contains no segments\n"
     ]
    },
    {
     "ename": "TextgridStateError",
     "evalue": "The start time of an interval (233.622) cannot occur after its end time (232.44)",
     "output_type": "error",
     "traceback": [
      "\u001b[0;31m---------------------------------------------------------------------------\u001b[0m",
      "\u001b[0;31mTextgridStateError\u001b[0m                        Traceback (most recent call last)",
      "Cell \u001b[0;32mIn [25], line 6\u001b[0m\n\u001b[1;32m      4\u001b[0m \u001b[38;5;28;01mfor\u001b[39;00m file \u001b[38;5;129;01min\u001b[39;00m input_path\u001b[38;5;241m.\u001b[39mglob(\u001b[38;5;124m\"\u001b[39m\u001b[38;5;124m*.json\u001b[39m\u001b[38;5;124m\"\u001b[39m):\n\u001b[1;32m      5\u001b[0m     tgpath \u001b[38;5;241m=\u001b[39m output_path \u001b[38;5;241m/\u001b[39m \u001b[38;5;124mf\u001b[39m\u001b[38;5;124m\"\u001b[39m\u001b[38;5;132;01m{\u001b[39;00mfile\u001b[38;5;241m.\u001b[39mstem\u001b[38;5;132;01m}\u001b[39;00m\u001b[38;5;124m.TextGrid\u001b[39m\u001b[38;5;124m\"\u001b[39m\n\u001b[0;32m----> 6\u001b[0m     \u001b[43mwrite_converted\u001b[49m\u001b[43m(\u001b[49m\u001b[43mfile\u001b[49m\u001b[43m,\u001b[49m\u001b[43m \u001b[49m\u001b[43mtgpath\u001b[49m\u001b[43m)\u001b[49m\n",
      "Cell \u001b[0;32mIn [24], line 30\u001b[0m, in \u001b[0;36mwrite_converted\u001b[0;34m(infile, outfile, verbose)\u001b[0m\n\u001b[1;32m     27\u001b[0m tier_end \u001b[38;5;241m=\u001b[39m out[\u001b[38;5;241m-\u001b[39m\u001b[38;5;241m1\u001b[39m][\u001b[38;5;241m1\u001b[39m]\n\u001b[1;32m     29\u001b[0m tg \u001b[38;5;241m=\u001b[39m textgrid\u001b[38;5;241m.\u001b[39mTextgrid()\n\u001b[0;32m---> 30\u001b[0m word_tier \u001b[38;5;241m=\u001b[39m \u001b[43mtextgrid\u001b[49m\u001b[38;5;241;43m.\u001b[39;49m\u001b[43mIntervalTier\u001b[49m\u001b[43m(\u001b[49m\u001b[38;5;124;43m'\u001b[39;49m\u001b[38;5;124;43mwords\u001b[39;49m\u001b[38;5;124;43m'\u001b[39;49m\u001b[43m,\u001b[49m\u001b[43m \u001b[49m\u001b[43mpad_silences\u001b[49m\u001b[43m(\u001b[49m\u001b[43mout\u001b[49m\u001b[43m)\u001b[49m\u001b[43m,\u001b[49m\u001b[43m \u001b[49m\u001b[43mtier_start\u001b[49m\u001b[43m,\u001b[49m\u001b[43m \u001b[49m\u001b[43mtier_end\u001b[49m\u001b[43m)\u001b[49m\n\u001b[1;32m     31\u001b[0m tg\u001b[38;5;241m.\u001b[39maddTier(word_tier)\n\u001b[1;32m     32\u001b[0m tg\u001b[38;5;241m.\u001b[39msave(outfile, \u001b[38;5;28mformat\u001b[39m\u001b[38;5;241m=\u001b[39m\u001b[38;5;124m\"\u001b[39m\u001b[38;5;124mlong_textgrid\u001b[39m\u001b[38;5;124m\"\u001b[39m, includeBlankSpaces\u001b[38;5;241m=\u001b[39m\u001b[38;5;28;01mFalse\u001b[39;00m)\n",
      "File \u001b[0;32m~/opt/anaconda3/envs/hf/lib/python3.9/site-packages/praatio/data_classes/interval_tier.py:84\u001b[0m, in \u001b[0;36mIntervalTier.__init__\u001b[0;34m(self, name, entries, minT, maxT)\u001b[0m\n\u001b[1;32m     79\u001b[0m calculatedMinT, calculatedMaxT \u001b[38;5;241m=\u001b[39m _calculateMinAndMaxTime(entries, minT, maxT)\n\u001b[1;32m     81\u001b[0m \u001b[38;5;28msuper\u001b[39m(IntervalTier, \u001b[38;5;28mself\u001b[39m)\u001b[38;5;241m.\u001b[39m\u001b[38;5;21m__init__\u001b[39m(\n\u001b[1;32m     82\u001b[0m     name, entries, calculatedMinT, calculatedMaxT\n\u001b[1;32m     83\u001b[0m )\n\u001b[0;32m---> 84\u001b[0m \u001b[38;5;28;43mself\u001b[39;49m\u001b[38;5;241;43m.\u001b[39;49m\u001b[43m_validate\u001b[49m\u001b[43m(\u001b[49m\u001b[43m)\u001b[49m\n",
      "File \u001b[0;32m~/opt/anaconda3/envs/hf/lib/python3.9/site-packages/praatio/data_classes/interval_tier.py:90\u001b[0m, in \u001b[0;36mIntervalTier._validate\u001b[0;34m(self)\u001b[0m\n\u001b[1;32m     88\u001b[0m \u001b[38;5;28;01mfor\u001b[39;00m entry \u001b[38;5;129;01min\u001b[39;00m \u001b[38;5;28mself\u001b[39m\u001b[38;5;241m.\u001b[39mentries:\n\u001b[1;32m     89\u001b[0m     \u001b[38;5;28;01mif\u001b[39;00m entry\u001b[38;5;241m.\u001b[39mstart \u001b[38;5;241m>\u001b[39m\u001b[38;5;241m=\u001b[39m entry\u001b[38;5;241m.\u001b[39mend:\n\u001b[0;32m---> 90\u001b[0m         \u001b[38;5;28;01mraise\u001b[39;00m errors\u001b[38;5;241m.\u001b[39mTextgridStateError(\n\u001b[1;32m     91\u001b[0m             \u001b[38;5;124mf\u001b[39m\u001b[38;5;124m\"\u001b[39m\u001b[38;5;124mThe start time of an interval (\u001b[39m\u001b[38;5;132;01m{\u001b[39;00mentry\u001b[38;5;241m.\u001b[39mstart\u001b[38;5;132;01m}\u001b[39;00m\u001b[38;5;124m) \u001b[39m\u001b[38;5;124m\"\u001b[39m\n\u001b[1;32m     92\u001b[0m             \u001b[38;5;124mf\u001b[39m\u001b[38;5;124m\"\u001b[39m\u001b[38;5;124mcannot occur after its end time (\u001b[39m\u001b[38;5;132;01m{\u001b[39;00mentry\u001b[38;5;241m.\u001b[39mend\u001b[38;5;132;01m}\u001b[39;00m\u001b[38;5;124m)\u001b[39m\u001b[38;5;124m\"\u001b[39m\n\u001b[1;32m     93\u001b[0m         )\n\u001b[1;32m     95\u001b[0m \u001b[38;5;28;01mfor\u001b[39;00m entry, nextEntry \u001b[38;5;129;01min\u001b[39;00m \u001b[38;5;28mzip\u001b[39m(\u001b[38;5;28mself\u001b[39m\u001b[38;5;241m.\u001b[39mentries[\u001b[38;5;241m0\u001b[39m::], \u001b[38;5;28mself\u001b[39m\u001b[38;5;241m.\u001b[39mentries[\u001b[38;5;241m1\u001b[39m::]):\n\u001b[1;32m     96\u001b[0m     \u001b[38;5;28;01mif\u001b[39;00m entry\u001b[38;5;241m.\u001b[39mend \u001b[38;5;241m>\u001b[39m nextEntry\u001b[38;5;241m.\u001b[39mstart:\n",
      "\u001b[0;31mTextgridStateError\u001b[0m: The start time of an interval (233.622) cannot occur after its end time (232.44)"
     ]
    }
   ],
   "source": [
    "if not IS_DIR:\n",
    "    write_converted(input, output)\n",
    "else:\n",
    "    for file in input_path.glob(\"*.json\"):\n",
    "        tgpath = output_path / f\"{file.stem}.TextGrid\"\n",
    "        write_converted(file, tgpath)"
   ]
  }
 ],
 "metadata": {
  "kernelspec": {
   "display_name": "hf",
   "language": "python",
   "name": "python3"
  },
  "language_info": {
   "codemirror_mode": {
    "name": "ipython",
    "version": 3
   },
   "file_extension": ".py",
   "mimetype": "text/x-python",
   "name": "python",
   "nbconvert_exporter": "python",
   "pygments_lexer": "ipython3",
   "version": "3.9.15"
  },
  "papermill": {
   "default_parameters": {},
   "duration": 3.095506,
   "end_time": "2024-08-12T16:43:40.523397",
   "environment_variables": {},
   "exception": null,
   "input_path": "../_notebooks/2024-07-31-audacity_tsv_to_textgrid.ipynb",
   "output_path": "/tmp/foo",
   "parameters": {
    "input_file": "/Users/joregan/Playing/irish-asr-data/audacity/MSF_chapter_1.aud",
    "output_file": "/tmp/out.textgrid"
   },
   "start_time": "2024-08-12T16:43:37.427891",
   "version": "2.6.0"
  }
 },
 "nbformat": 4,
 "nbformat_minor": 5
}
