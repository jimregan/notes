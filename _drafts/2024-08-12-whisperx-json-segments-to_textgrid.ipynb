{
 "cells": [
  {
   "cell_type": "markdown",
   "id": "cd0b06be",
   "metadata": {
    "papermill": {
     "duration": 0.009254,
     "end_time": "2024-08-21T09:38:01.620709",
     "exception": false,
     "start_time": "2024-08-21T09:38:01.611455",
     "status": "completed"
    },
    "tags": []
   },
   "source": [
    "# WhisperX JSON segemnts to textgrid\n",
    "\n",
    "> \"For HSI project\"\n",
    "\n",
    "- comments: false\n",
    "- branch: master\n",
    "- hidden: true\n",
    "- categories: [praat, textgrid, whisperx, json]"
   ]
  },
  {
   "cell_type": "code",
   "execution_count": 1,
   "id": "4f6b1ed2",
   "metadata": {
    "execution": {
     "iopub.execute_input": "2024-08-21T09:38:01.634185Z",
     "iopub.status.busy": "2024-08-21T09:38:01.633212Z",
     "iopub.status.idle": "2024-08-21T09:38:01.640727Z",
     "shell.execute_reply": "2024-08-21T09:38:01.639234Z"
    },
    "papermill": {
     "duration": 0.018454,
     "end_time": "2024-08-21T09:38:01.644068",
     "exception": false,
     "start_time": "2024-08-21T09:38:01.625614",
     "status": "completed"
    },
    "tags": []
   },
   "outputs": [],
   "source": [
    "#%%capture\n",
    "#%pip install praatio"
   ]
  },
  {
   "cell_type": "code",
   "execution_count": 2,
   "id": "878a3190",
   "metadata": {
    "execution": {
     "iopub.execute_input": "2024-08-21T09:38:01.651514Z",
     "iopub.status.busy": "2024-08-21T09:38:01.651164Z",
     "iopub.status.idle": "2024-08-21T09:38:01.693342Z",
     "shell.execute_reply": "2024-08-21T09:38:01.692882Z"
    },
    "papermill": {
     "duration": 0.047808,
     "end_time": "2024-08-21T09:38:01.695009",
     "exception": false,
     "start_time": "2024-08-21T09:38:01.647201",
     "status": "completed"
    },
    "tags": []
   },
   "outputs": [],
   "source": [
    "from praatio import textgrid\n",
    "from praatio.utilities.constants import Interval"
   ]
  },
  {
   "cell_type": "code",
   "execution_count": 3,
   "id": "02bd1873",
   "metadata": {
    "execution": {
     "iopub.execute_input": "2024-08-21T09:38:01.699151Z",
     "iopub.status.busy": "2024-08-21T09:38:01.698968Z",
     "iopub.status.idle": "2024-08-21T09:38:01.701427Z",
     "shell.execute_reply": "2024-08-21T09:38:01.701039Z"
    },
    "papermill": {
     "duration": 0.00581,
     "end_time": "2024-08-21T09:38:01.702667",
     "exception": false,
     "start_time": "2024-08-21T09:38:01.696857",
     "status": "completed"
    },
    "tags": [
     "parameters"
    ]
   },
   "outputs": [],
   "source": [
    "input = \"/Users/joregan/Playing/hsi/audio/whisperx-json/\"\n",
    "output = '/tmp/whisperx-textgrids'"
   ]
  },
  {
   "cell_type": "code",
   "execution_count": 4,
   "id": "0367f249",
   "metadata": {
    "execution": {
     "iopub.execute_input": "2024-08-21T09:38:01.706722Z",
     "iopub.status.busy": "2024-08-21T09:38:01.706511Z",
     "iopub.status.idle": "2024-08-21T09:38:01.709120Z",
     "shell.execute_reply": "2024-08-21T09:38:01.708550Z"
    },
    "papermill": {
     "duration": 0.006164,
     "end_time": "2024-08-21T09:38:01.710426",
     "exception": false,
     "start_time": "2024-08-21T09:38:01.704262",
     "status": "completed"
    },
    "tags": [
     "injected-parameters"
    ]
   },
   "outputs": [],
   "source": [
    "# Parameters\n",
    "input = \"/tmp/arctic.json\"\n",
    "output = \"/tmp/arctic.textgrid\"\n"
   ]
  },
  {
   "cell_type": "code",
   "execution_count": 5,
   "id": "b4e7f5b3",
   "metadata": {
    "execution": {
     "iopub.execute_input": "2024-08-21T09:38:01.714500Z",
     "iopub.status.busy": "2024-08-21T09:38:01.714340Z",
     "iopub.status.idle": "2024-08-21T09:38:01.717183Z",
     "shell.execute_reply": "2024-08-21T09:38:01.716883Z"
    },
    "papermill": {
     "duration": 0.006317,
     "end_time": "2024-08-21T09:38:01.718322",
     "exception": false,
     "start_time": "2024-08-21T09:38:01.712005",
     "status": "completed"
    },
    "tags": []
   },
   "outputs": [],
   "source": [
    "from pathlib import Path\n",
    "import json\n",
    "\n",
    "IS_DIR = False\n",
    "input_path = Path(input)\n",
    "output_path = Path(output)\n",
    "\n",
    "if input_path.is_dir():\n",
    "    IS_DIR = True\n",
    "    assert not output_path.exists(), \"f{output} exists, refusing to overwrite\"\n",
    "    output_path.mkdir()"
   ]
  },
  {
   "cell_type": "code",
   "execution_count": 6,
   "id": "90d1a66b",
   "metadata": {
    "execution": {
     "iopub.execute_input": "2024-08-21T09:38:01.721720Z",
     "iopub.status.busy": "2024-08-21T09:38:01.721559Z",
     "iopub.status.idle": "2024-08-21T09:38:01.724183Z",
     "shell.execute_reply": "2024-08-21T09:38:01.723770Z"
    },
    "papermill": {
     "duration": 0.005643,
     "end_time": "2024-08-21T09:38:01.725357",
     "exception": false,
     "start_time": "2024-08-21T09:38:01.719714",
     "status": "completed"
    },
    "tags": []
   },
   "outputs": [],
   "source": [
    "def pad_silences(segments):\n",
    "    start = 0.0\n",
    "    out = []\n",
    "    for segment in segments:\n",
    "        out.append((start, segment[0], \" \"))\n",
    "        out.append(segment)\n",
    "        start = segment[1]\n",
    "    return out"
   ]
  },
  {
   "cell_type": "code",
   "execution_count": 7,
   "id": "81e388c8",
   "metadata": {
    "execution": {
     "iopub.execute_input": "2024-08-21T09:38:01.728918Z",
     "iopub.status.busy": "2024-08-21T09:38:01.728770Z",
     "iopub.status.idle": "2024-08-21T09:38:01.733256Z",
     "shell.execute_reply": "2024-08-21T09:38:01.732829Z"
    },
    "papermill": {
     "duration": 0.007501,
     "end_time": "2024-08-21T09:38:01.734428",
     "exception": false,
     "start_time": "2024-08-21T09:38:01.726927",
     "status": "completed"
    },
    "tags": []
   },
   "outputs": [],
   "source": [
    "def write_converted(infile, outfile, verbose=True):\n",
    "    if type(infile) == Path:\n",
    "        infile = str(infile)\n",
    "    if type(outfile) == Path:\n",
    "        outfile = str(outfile)\n",
    "\n",
    "    with open(infile) as inf:\n",
    "        data = json.load(inf)\n",
    "\n",
    "    out = []\n",
    "    if not \"segments\" in data:\n",
    "        if verbose:\n",
    "            print(\"File\", infile, \"possibly incorrect JSON\")\n",
    "        return\n",
    "    if len(data[\"segments\"]) == 0:\n",
    "        if verbose:\n",
    "            print(\"File\", infile, \"contains no segments\")\n",
    "        return\n",
    "    for segment in data[\"segments\"]:\n",
    "        if segment[\"start\"] > segment[\"end\"]:\n",
    "            if verbose:\n",
    "                print(\"File\", infile, \"has start time after end time\")\n",
    "            return\n",
    "        out.append(Interval(segment[\"start\"], segment[\"end\"], segment[\"text\"]))\n",
    "\n",
    "    tier_start = out[0][0]\n",
    "    tier_end = out[-1][1]\n",
    "\n",
    "    tg = textgrid.Textgrid()\n",
    "    word_tier = textgrid.IntervalTier('words', pad_silences(out), tier_start, tier_end)\n",
    "    tg.addTier(word_tier)\n",
    "    tg.save(outfile, format=\"long_textgrid\", includeBlankSpaces=False)"
   ]
  },
  {
   "cell_type": "code",
   "execution_count": 8,
   "id": "b4b133b3",
   "metadata": {
    "execution": {
     "iopub.execute_input": "2024-08-21T09:38:01.737813Z",
     "iopub.status.busy": "2024-08-21T09:38:01.737668Z",
     "iopub.status.idle": "2024-08-21T09:38:01.795257Z",
     "shell.execute_reply": "2024-08-21T09:38:01.794809Z"
    },
    "papermill": {
     "duration": 0.060816,
     "end_time": "2024-08-21T09:38:01.796696",
     "exception": false,
     "start_time": "2024-08-21T09:38:01.735880",
     "status": "completed"
    },
    "tags": []
   },
   "outputs": [],
   "source": [
    "if not IS_DIR:\n",
    "    write_converted(input, output)\n",
    "else:\n",
    "    for file in input_path.glob(\"*.json\"):\n",
    "        tgpath = output_path / f\"{file.stem}.TextGrid\"\n",
    "        print(\"Processing\", file)\n",
    "        write_converted(file, tgpath)"
   ]
  }
 ],
 "metadata": {
  "kernelspec": {
   "display_name": "hf",
   "language": "python",
   "name": "python3"
  },
  "language_info": {
   "codemirror_mode": {
    "name": "ipython",
    "version": 3
   },
   "file_extension": ".py",
   "mimetype": "text/x-python",
   "name": "python",
   "nbconvert_exporter": "python",
   "pygments_lexer": "ipython3",
   "version": "3.10.9"
  },
  "papermill": {
   "default_parameters": {},
   "duration": 1.55431,
   "end_time": "2024-08-21T09:38:02.015853",
   "environment_variables": {},
   "exception": null,
   "input_path": "2024-08-12-whisperx-json-segments-to_textgrid.ipynb",
   "output_path": "tmp.ipynb",
   "parameters": {
    "input": "/tmp/arctic.json",
    "output": "/tmp/arctic.textgrid"
   },
   "start_time": "2024-08-21T09:38:00.461543",
   "version": "2.6.0"
  }
 },
 "nbformat": 4,
 "nbformat_minor": 5
}