{
 "cells": [
  {
   "cell_type": "markdown",
   "id": "cd0b06be",
   "metadata": {
    "papermill": {
     "duration": 0.007615,
     "end_time": "2024-08-26T19:59:49.584458",
     "exception": false,
     "start_time": "2024-08-26T19:59:49.576843",
     "status": "completed"
    },
    "tags": []
   },
   "source": [
    "# WhisperX JSON segemnts to textgrid\n",
    "\n",
    "> \"For HSI project\"\n",
    "\n",
    "- comments: false\n",
    "- branch: master\n",
    "- hidden: true\n",
    "- categories: [praat, textgrid, whisperx, json]"
   ]
  },
  {
   "cell_type": "code",
   "execution_count": 33,
   "id": "4f6b1ed2",
   "metadata": {
    "execution": {
     "iopub.execute_input": "2024-08-26T19:59:49.596001Z",
     "iopub.status.busy": "2024-08-26T19:59:49.595559Z",
     "iopub.status.idle": "2024-08-26T19:59:49.602189Z",
     "shell.execute_reply": "2024-08-26T19:59:49.601302Z"
    },
    "papermill": {
     "duration": 0.015222,
     "end_time": "2024-08-26T19:59:49.605133",
     "exception": false,
     "start_time": "2024-08-26T19:59:49.589911",
     "status": "completed"
    },
    "tags": []
   },
   "outputs": [],
   "source": [
    "#%%capture\n",
    "#%pip install praatio"
   ]
  },
  {
   "cell_type": "code",
   "execution_count": 34,
   "id": "878a3190",
   "metadata": {
    "execution": {
     "iopub.execute_input": "2024-08-26T19:59:49.632946Z",
     "iopub.status.busy": "2024-08-26T19:59:49.632340Z",
     "iopub.status.idle": "2024-08-26T19:59:49.670980Z",
     "shell.execute_reply": "2024-08-26T19:59:49.670057Z"
    },
    "papermill": {
     "duration": 0.064855,
     "end_time": "2024-08-26T19:59:49.674160",
     "exception": false,
     "start_time": "2024-08-26T19:59:49.609305",
     "status": "completed"
    },
    "tags": []
   },
   "outputs": [],
   "source": [
    "from praatio import textgrid\n",
    "from praatio.utilities.constants import Interval"
   ]
  },
  {
   "cell_type": "code",
   "execution_count": 35,
   "id": "02bd1873",
   "metadata": {
    "execution": {
     "iopub.execute_input": "2024-08-26T19:59:49.683415Z",
     "iopub.status.busy": "2024-08-26T19:59:49.682464Z",
     "iopub.status.idle": "2024-08-26T19:59:49.689832Z",
     "shell.execute_reply": "2024-08-26T19:59:49.688193Z"
    },
    "papermill": {
     "duration": 0.017497,
     "end_time": "2024-08-26T19:59:49.694537",
     "exception": false,
     "start_time": "2024-08-26T19:59:49.677040",
     "status": "completed"
    },
    "tags": [
     "parameters"
    ]
   },
   "outputs": [],
   "source": [
    "input = \"/Users/joregan/Playing/hsi/audio/whisperx-json/\"\n",
    "output = '/tmp/whisperx-textgrids'"
   ]
  },
  {
   "cell_type": "code",
   "execution_count": 36,
   "id": "6b1496f4",
   "metadata": {
    "execution": {
     "iopub.execute_input": "2024-08-26T19:59:49.704975Z",
     "iopub.status.busy": "2024-08-26T19:59:49.704246Z",
     "iopub.status.idle": "2024-08-26T19:59:49.709117Z",
     "shell.execute_reply": "2024-08-26T19:59:49.708223Z"
    },
    "papermill": {
     "duration": 0.014213,
     "end_time": "2024-08-26T19:59:49.712360",
     "exception": false,
     "start_time": "2024-08-26T19:59:49.698147",
     "status": "completed"
    },
    "tags": [
     "injected-parameters"
    ]
   },
   "outputs": [],
   "source": [
    "# Parameters\n",
    "input = \"/Users/joregan/Playing/hsi/audio/whisperx-json/hsi_7_0719_222_002_main.json\"\n",
    "output = \"/Users/joregan/Playing/hsi/audio/whisperx-textgrids/hsi_7_0719_222_002_main.TextGrid\"\n"
   ]
  },
  {
   "cell_type": "code",
   "execution_count": 37,
   "id": "b4e7f5b3",
   "metadata": {
    "execution": {
     "iopub.execute_input": "2024-08-26T19:59:49.721139Z",
     "iopub.status.busy": "2024-08-26T19:59:49.720565Z",
     "iopub.status.idle": "2024-08-26T19:59:49.726437Z",
     "shell.execute_reply": "2024-08-26T19:59:49.724945Z"
    },
    "papermill": {
     "duration": 0.015675,
     "end_time": "2024-08-26T19:59:49.730174",
     "exception": false,
     "start_time": "2024-08-26T19:59:49.714499",
     "status": "completed"
    },
    "tags": []
   },
   "outputs": [],
   "source": [
    "from pathlib import Path\n",
    "import json\n",
    "\n",
    "IS_DIR = False\n",
    "input_path = Path(input)\n",
    "output_path = Path(output)\n",
    "\n",
    "if input_path.is_dir():\n",
    "    IS_DIR = True\n",
    "    assert not output_path.exists(), \"f{output} exists, refusing to overwrite\"\n",
    "    output_path.mkdir()"
   ]
  },
  {
   "cell_type": "code",
   "execution_count": 38,
   "id": "90d1a66b",
   "metadata": {
    "execution": {
     "iopub.execute_input": "2024-08-26T19:59:49.734311Z",
     "iopub.status.busy": "2024-08-26T19:59:49.734029Z",
     "iopub.status.idle": "2024-08-26T19:59:49.737734Z",
     "shell.execute_reply": "2024-08-26T19:59:49.737135Z"
    },
    "papermill": {
     "duration": 0.008095,
     "end_time": "2024-08-26T19:59:49.739710",
     "exception": false,
     "start_time": "2024-08-26T19:59:49.731615",
     "status": "completed"
    },
    "tags": []
   },
   "outputs": [],
   "source": [
    "def pad_silences(segments):\n",
    "    start = 0.0\n",
    "    out = []\n",
    "    for segment in segments:\n",
    "        out.append((start, segment[0], \" \"))\n",
    "        out.append(segment)\n",
    "        start = segment[1]\n",
    "    return out"
   ]
  },
  {
   "cell_type": "code",
   "execution_count": 39,
   "id": "81e388c8",
   "metadata": {
    "execution": {
     "iopub.execute_input": "2024-08-26T19:59:49.745087Z",
     "iopub.status.busy": "2024-08-26T19:59:49.744854Z",
     "iopub.status.idle": "2024-08-26T19:59:49.752262Z",
     "shell.execute_reply": "2024-08-26T19:59:49.751363Z"
    },
    "papermill": {
     "duration": 0.016163,
     "end_time": "2024-08-26T19:59:49.757553",
     "exception": false,
     "start_time": "2024-08-26T19:59:49.741390",
     "status": "completed"
    },
    "tags": []
   },
   "outputs": [],
   "source": [
    "def write_converted(infile, outfile, verbose=True):\n",
    "    if type(infile) == Path:\n",
    "        infile = str(infile)\n",
    "    if type(outfile) == Path:\n",
    "        outfile = str(outfile)\n",
    "\n",
    "    with open(infile) as inf:\n",
    "        data = json.load(inf)\n",
    "\n",
    "    out = []\n",
    "    if not \"segments\" in data:\n",
    "        if verbose:\n",
    "            print(\"File\", infile, \"possibly incorrect JSON\")\n",
    "        return\n",
    "    if len(data[\"segments\"]) == 0:\n",
    "        if verbose:\n",
    "            print(\"File\", infile, \"contains no segments\")\n",
    "        return\n",
    "    for segment in data[\"segments\"]:\n",
    "        if segment[\"start\"] > segment[\"end\"]:\n",
    "            if verbose:\n",
    "                print(\"File\", infile, \"has start time after end time\")\n",
    "                print(segment)\n",
    "            return\n",
    "        out.append(Interval(segment[\"start\"], segment[\"end\"], segment[\"text\"]))\n",
    "\n",
    "    tier_start = out[0][0]\n",
    "    tier_end = out[-1][1]\n",
    "\n",
    "    tg = textgrid.Textgrid()\n",
    "    word_tier = textgrid.IntervalTier('words', pad_silences(out), tier_start, tier_end)\n",
    "    tg.addTier(word_tier)\n",
    "    tg.save(outfile, format=\"long_textgrid\", includeBlankSpaces=False)"
   ]
  },
  {
   "cell_type": "code",
   "execution_count": 42,
   "id": "b4b133b3",
   "metadata": {
    "execution": {
     "iopub.execute_input": "2024-08-26T19:59:49.767011Z",
     "iopub.status.busy": "2024-08-26T19:59:49.765411Z",
     "iopub.status.idle": "2024-08-26T19:59:49.779167Z",
     "shell.execute_reply": "2024-08-26T19:59:49.777618Z"
    },
    "papermill": {
     "duration": 0.023545,
     "end_time": "2024-08-26T19:59:49.785182",
     "exception": false,
     "start_time": "2024-08-26T19:59:49.761637",
     "status": "completed"
    },
    "tags": []
   },
   "outputs": [],
   "source": [
    "if not IS_DIR:\n",
    "    write_converted(input, output)\n",
    "else:\n",
    "    for file in input_path.glob(\"*.json\"):\n",
    "        tgpath = output_path / f\"{file.stem}.TextGrid\"\n",
    "        write_converted(file, tgpath)"
   ]
  }
 ],
 "metadata": {
  "kernelspec": {
   "display_name": "hf",
   "language": "python",
   "name": "python3"
  },
  "language_info": {
   "codemirror_mode": {
    "name": "ipython",
    "version": 3
   },
   "file_extension": ".py",
   "mimetype": "text/x-python",
   "name": "python",
   "nbconvert_exporter": "python",
   "pygments_lexer": "ipython3",
   "version": "3.11.9"
  },
  "papermill": {
   "default_parameters": {},
   "duration": 1.398833,
   "end_time": "2024-08-26T19:59:50.012948",
   "environment_variables": {},
   "exception": null,
   "input_path": "2024-08-12-whisperx-json-segments-to_textgrid.ipynb",
   "output_path": "tmpmp",
   "parameters": {
    "input": "/Users/joregan/Playing/hsi/audio/whisperx-json/hsi_7_0719_222_002_main.json",
    "output": "/Users/joregan/Playing/hsi/audio/whisperx-textgrids/hsi_7_0719_222_002_main.TextGrid"
   },
   "start_time": "2024-08-26T19:59:48.614115",
   "version": "2.6.0"
  }
 },
 "nbformat": 4,
 "nbformat_minor": 5
}
