{
 "cells": [
  {
   "cell_type": "markdown",
   "id": "cd0b06be",
   "metadata": {
    "papermill": {
     "duration": 0.007361,
     "end_time": "2024-08-12T16:43:38.732862",
     "exception": false,
     "start_time": "2024-08-12T16:43:38.725501",
     "status": "completed"
    },
    "tags": []
   },
   "source": [
    "# WhisperX JSON segemnts to textgrid\n",
    "\n",
    "> \"For HSI project\"\n",
    "\n",
    "- comments: false\n",
    "- branch: master\n",
    "- hidden: true\n",
    "- categories: [praat, textgrid, whisperx, json]"
   ]
  },
  {
   "cell_type": "code",
   "execution_count": 1,
   "id": "4f6b1ed2",
   "metadata": {
    "execution": {
     "iopub.execute_input": "2024-08-12T16:43:38.743833Z",
     "iopub.status.busy": "2024-08-12T16:43:38.743260Z",
     "iopub.status.idle": "2024-08-12T16:43:39.620838Z",
     "shell.execute_reply": "2024-08-12T16:43:39.619678Z"
    },
    "papermill": {
     "duration": 0.886111,
     "end_time": "2024-08-12T16:43:39.623642",
     "exception": false,
     "start_time": "2024-08-12T16:43:38.737531",
     "status": "completed"
    },
    "tags": []
   },
   "outputs": [],
   "source": [
    "#%%capture\n",
    "#%pip install praatio"
   ]
  },
  {
   "cell_type": "code",
   "execution_count": 2,
   "id": "878a3190",
   "metadata": {
    "execution": {
     "iopub.execute_input": "2024-08-12T16:43:39.629935Z",
     "iopub.status.busy": "2024-08-12T16:43:39.629635Z",
     "iopub.status.idle": "2024-08-12T16:43:40.382378Z",
     "shell.execute_reply": "2024-08-12T16:43:40.381957Z"
    },
    "papermill": {
     "duration": 0.757413,
     "end_time": "2024-08-12T16:43:40.383855",
     "exception": false,
     "start_time": "2024-08-12T16:43:39.626442",
     "status": "completed"
    },
    "tags": []
   },
   "outputs": [],
   "source": [
    "from praatio import textgrid\n",
    "from praatio.utilities.constants import Interval"
   ]
  },
  {
   "cell_type": "code",
   "execution_count": 2,
   "id": "02bd1873",
   "metadata": {
    "execution": {
     "iopub.execute_input": "2024-08-12T16:43:40.386975Z",
     "iopub.status.busy": "2024-08-12T16:43:40.386823Z",
     "iopub.status.idle": "2024-08-12T16:43:40.388902Z",
     "shell.execute_reply": "2024-08-12T16:43:40.388527Z"
    },
    "papermill": {
     "duration": 0.004818,
     "end_time": "2024-08-12T16:43:40.390016",
     "exception": false,
     "start_time": "2024-08-12T16:43:40.385198",
     "status": "completed"
    },
    "tags": [
     "parameters"
    ]
   },
   "outputs": [],
   "source": [
    "input = \"/Users/joregan/Playing/hsi/audio/whisperx-json/\"\n",
    "output = '/tmp/whisperx-textgrids'"
   ]
  },
  {
   "cell_type": "code",
   "execution_count": 3,
   "id": "b4e7f5b3",
   "metadata": {},
   "outputs": [],
   "source": [
    "from pathlib import Path\n",
    "import json\n",
    "\n",
    "IS_DIR = False\n",
    "input_path = Path(input)\n",
    "output_path = Path(output)\n",
    "\n",
    "if input_path.is_dir():\n",
    "    IS_DIR = True\n",
    "    assert not output_path.exists(), \"f{output} exists, refusing to overwrite\"\n",
    "    output_path.mkdir()"
   ]
  },
  {
   "cell_type": "code",
   "execution_count": 5,
   "id": "90d1a66b",
   "metadata": {},
   "outputs": [],
   "source": [
    "def pad_silences(segments):\n",
    "    start = 0.0\n",
    "    out = []\n",
    "    for segment in segments:\n",
    "        out.append(start, segment[0], \" \")\n",
    "        out.append(segment)\n",
    "        start = segment[1]\n",
    "    return out"
   ]
  },
  {
   "cell_type": "code",
   "execution_count": 4,
   "id": "81e388c8",
   "metadata": {
    "execution": {
     "iopub.execute_input": "2024-08-12T16:43:40.399422Z",
     "iopub.status.busy": "2024-08-12T16:43:40.399255Z",
     "iopub.status.idle": "2024-08-12T16:43:40.404455Z",
     "shell.execute_reply": "2024-08-12T16:43:40.404094Z"
    },
    "papermill": {
     "duration": 0.008307,
     "end_time": "2024-08-12T16:43:40.405752",
     "exception": false,
     "start_time": "2024-08-12T16:43:40.397445",
     "status": "completed"
    },
    "tags": []
   },
   "outputs": [],
   "source": [
    "def write_converted(infile, outfile):\n",
    "    if type(infile) == Path:\n",
    "        infile = str(infile)\n",
    "    if type(outfile) == Path:\n",
    "        outfile = str(outfile)\n",
    "\n",
    "    with open(infile) as inf:\n",
    "        data = json.load(inf)\n",
    "\n",
    "    out = []\n",
    "    for segment in data[\"segments\"]:\n",
    "        out.append(Interval(segment[\"start\"], segment[\"end\"], segment[\"text\"]))\n",
    "\n",
    "    tier_start = out[0][0]\n",
    "    tier_end = out[-1][1]\n",
    "\n",
    "    tg = textgrid.Textgrid()\n",
    "    word_tier = textgrid.IntervalTier('words', pad_silences(out), tier_start, tier_end)\n",
    "    tg.addTier(word_tier)\n",
    "    tg.save(outfile, format=\"long_textgrid\", includeBlankSpaces=False)"
   ]
  },
  {
   "cell_type": "code",
   "execution_count": null,
   "id": "b4b133b3",
   "metadata": {},
   "outputs": [],
   "source": [
    "if not IS_DIR:\n",
    "    write_converted(input, output)\n",
    "else:\n",
    "    for file in input_path.glob(\"*.json\"):\n",
    "        tgpath = output_path / f\"{input_path.stem}.TextGrid\"\n",
    "        write_converted(file, tgpath)"
   ]
  }
 ],
 "metadata": {
  "kernelspec": {
   "display_name": "hf",
   "language": "python",
   "name": "python3"
  },
  "language_info": {
   "codemirror_mode": {
    "name": "ipython",
    "version": 3
   },
   "file_extension": ".py",
   "mimetype": "text/x-python",
   "name": "python",
   "nbconvert_exporter": "python",
   "pygments_lexer": "ipython3",
   "version": "3.9.15"
  },
  "papermill": {
   "default_parameters": {},
   "duration": 3.095506,
   "end_time": "2024-08-12T16:43:40.523397",
   "environment_variables": {},
   "exception": null,
   "input_path": "../_notebooks/2024-07-31-audacity_tsv_to_textgrid.ipynb",
   "output_path": "/tmp/foo",
   "parameters": {
    "input_file": "/Users/joregan/Playing/irish-asr-data/audacity/MSF_chapter_1.aud",
    "output_file": "/tmp/out.textgrid"
   },
   "start_time": "2024-08-12T16:43:37.427891",
   "version": "2.6.0"
  }
 },
 "nbformat": 4,
 "nbformat_minor": 5
}
