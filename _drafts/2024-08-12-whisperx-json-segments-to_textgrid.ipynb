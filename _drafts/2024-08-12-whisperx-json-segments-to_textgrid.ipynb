{
 "cells": [
  {
   "cell_type": "markdown",
   "id": "cd0b06be",
   "metadata": {
    "papermill": {
     "duration": 0.007431,
     "end_time": "2024-08-26T19:58:16.607171",
     "exception": false,
     "start_time": "2024-08-26T19:58:16.599740",
     "status": "completed"
    },
    "tags": []
   },
   "source": [
    "# WhisperX JSON segemnts to textgrid\n",
    "\n",
    "> \"For HSI project\"\n",
    "\n",
    "- comments: false\n",
    "- branch: master\n",
    "- hidden: true\n",
    "- categories: [praat, textgrid, whisperx, json]"
   ]
  },
  {
   "cell_type": "code",
   "execution_count": 1,
   "id": "4f6b1ed2",
   "metadata": {
    "execution": {
     "iopub.execute_input": "2024-08-26T19:58:16.619198Z",
     "iopub.status.busy": "2024-08-26T19:58:16.618237Z",
     "iopub.status.idle": "2024-08-26T19:58:16.624169Z",
     "shell.execute_reply": "2024-08-26T19:58:16.623368Z"
    },
    "papermill": {
     "duration": 0.014394,
     "end_time": "2024-08-26T19:58:16.626724",
     "exception": false,
     "start_time": "2024-08-26T19:58:16.612330",
     "status": "completed"
    },
    "tags": []
   },
   "outputs": [],
   "source": [
    "#%%capture\n",
    "#%pip install praatio"
   ]
  },
  {
   "cell_type": "code",
   "execution_count": 2,
   "id": "878a3190",
   "metadata": {
    "execution": {
     "iopub.execute_input": "2024-08-26T19:58:16.634390Z",
     "iopub.status.busy": "2024-08-26T19:58:16.634030Z",
     "iopub.status.idle": "2024-08-26T19:58:17.007946Z",
     "shell.execute_reply": "2024-08-26T19:58:17.007578Z"
    },
    "papermill": {
     "duration": 0.379502,
     "end_time": "2024-08-26T19:58:17.009242",
     "exception": false,
     "start_time": "2024-08-26T19:58:16.629740",
     "status": "completed"
    },
    "tags": []
   },
   "outputs": [],
   "source": [
    "from praatio import textgrid\n",
    "from praatio.utilities.constants import Interval"
   ]
  },
  {
   "cell_type": "code",
   "execution_count": 3,
   "id": "02bd1873",
   "metadata": {
    "execution": {
     "iopub.execute_input": "2024-08-26T19:58:17.012371Z",
     "iopub.status.busy": "2024-08-26T19:58:17.012223Z",
     "iopub.status.idle": "2024-08-26T19:58:17.014449Z",
     "shell.execute_reply": "2024-08-26T19:58:17.014122Z"
    },
    "papermill": {
     "duration": 0.004957,
     "end_time": "2024-08-26T19:58:17.015529",
     "exception": false,
     "start_time": "2024-08-26T19:58:17.010572",
     "status": "completed"
    },
    "tags": [
     "parameters"
    ]
   },
   "outputs": [],
   "source": [
    "input = \"/Users/joregan/Playing/hsi/audio/whisperx-json/\"\n",
    "output = '/tmp/whisperx-textgrids'"
   ]
  },
  {
   "cell_type": "code",
   "execution_count": 4,
   "id": "0227d31a",
   "metadata": {
    "execution": {
     "iopub.execute_input": "2024-08-26T19:58:17.018919Z",
     "iopub.status.busy": "2024-08-26T19:58:17.018755Z",
     "iopub.status.idle": "2024-08-26T19:58:17.020743Z",
     "shell.execute_reply": "2024-08-26T19:58:17.020470Z"
    },
    "papermill": {
     "duration": 0.004764,
     "end_time": "2024-08-26T19:58:17.021729",
     "exception": false,
     "start_time": "2024-08-26T19:58:17.016965",
     "status": "completed"
    },
    "tags": [
     "injected-parameters"
    ]
   },
   "outputs": [],
   "source": [
    "# Parameters\n",
    "input = \"/Users/joregan/Playing/hsi/audio/whisperx-json/hsi_7_0719_222_002_main.json\"\n",
    "output = \"/Users/joregan/Playing/hsi/audio/whisperx-textgrids/hsi_7_0719_222_002_main.TextGrid\"\n"
   ]
  },
  {
   "cell_type": "code",
   "execution_count": 5,
   "id": "b4e7f5b3",
   "metadata": {
    "execution": {
     "iopub.execute_input": "2024-08-26T19:58:17.026163Z",
     "iopub.status.busy": "2024-08-26T19:58:17.026005Z",
     "iopub.status.idle": "2024-08-26T19:58:17.028574Z",
     "shell.execute_reply": "2024-08-26T19:58:17.028267Z"
    },
    "papermill": {
     "duration": 0.005334,
     "end_time": "2024-08-26T19:58:17.029627",
     "exception": false,
     "start_time": "2024-08-26T19:58:17.024293",
     "status": "completed"
    },
    "tags": []
   },
   "outputs": [],
   "source": [
    "from pathlib import Path\n",
    "import json\n",
    "\n",
    "IS_DIR = False\n",
    "input_path = Path(input)\n",
    "output_path = Path(output)\n",
    "\n",
    "if input_path.is_dir():\n",
    "    IS_DIR = True\n",
    "    assert not output_path.exists(), \"f{output} exists, refusing to overwrite\"\n",
    "    output_path.mkdir()"
   ]
  },
  {
   "cell_type": "code",
   "execution_count": 6,
   "id": "90d1a66b",
   "metadata": {
    "execution": {
     "iopub.execute_input": "2024-08-26T19:58:17.033130Z",
     "iopub.status.busy": "2024-08-26T19:58:17.032956Z",
     "iopub.status.idle": "2024-08-26T19:58:17.035420Z",
     "shell.execute_reply": "2024-08-26T19:58:17.035103Z"
    },
    "papermill": {
     "duration": 0.0054,
     "end_time": "2024-08-26T19:58:17.036371",
     "exception": false,
     "start_time": "2024-08-26T19:58:17.030971",
     "status": "completed"
    },
    "tags": []
   },
   "outputs": [],
   "source": [
    "def pad_silences(segments):\n",
    "    start = 0.0\n",
    "    out = []\n",
    "    for segment in segments:\n",
    "        out.append((start, segment[0], \" \"))\n",
    "        out.append(segment)\n",
    "        start = segment[1]\n",
    "    return out"
   ]
  },
  {
   "cell_type": "code",
   "execution_count": 7,
   "id": "81e388c8",
   "metadata": {
    "execution": {
     "iopub.execute_input": "2024-08-26T19:58:17.039935Z",
     "iopub.status.busy": "2024-08-26T19:58:17.039750Z",
     "iopub.status.idle": "2024-08-26T19:58:17.043943Z",
     "shell.execute_reply": "2024-08-26T19:58:17.043571Z"
    },
    "papermill": {
     "duration": 0.007336,
     "end_time": "2024-08-26T19:58:17.044969",
     "exception": false,
     "start_time": "2024-08-26T19:58:17.037633",
     "status": "completed"
    },
    "tags": []
   },
   "outputs": [],
   "source": [
    "def write_converted(infile, outfile, verbose=True):\n",
    "    if type(infile) == Path:\n",
    "        infile = str(infile)\n",
    "    if type(outfile) == Path:\n",
    "        outfile = str(outfile)\n",
    "\n",
    "    with open(infile) as inf:\n",
    "        data = json.load(inf)\n",
    "\n",
    "    out = []\n",
    "    if not \"segments\" in data:\n",
    "        if verbose:\n",
    "            print(\"File\", infile, \"possibly incorrect JSON\")\n",
    "        return\n",
    "    if len(data[\"segments\"]) == 0:\n",
    "        if verbose:\n",
    "            print(\"File\", infile, \"contains no segments\")\n",
    "        return\n",
    "    for segment in data[\"segments\"]:\n",
    "        if segment[\"start\"] > segment[\"end\"]:\n",
    "            if verbose:\n",
    "                print(\"File\", infile, \"has start time after end time\")\n",
    "            return\n",
    "        out.append(Interval(segment[\"start\"], segment[\"end\"], segment[\"text\"]))\n",
    "\n",
    "    tier_start = out[0][0]\n",
    "    tier_end = out[-1][1]\n",
    "\n",
    "    tg = textgrid.Textgrid()\n",
    "    word_tier = textgrid.IntervalTier('words', pad_silences(out), tier_start, tier_end)\n",
    "    tg.addTier(word_tier)\n",
    "    tg.save(outfile, format=\"long_textgrid\", includeBlankSpaces=False)"
   ]
  },
  {
   "cell_type": "code",
   "execution_count": 8,
   "id": "b4b133b3",
   "metadata": {
    "execution": {
     "iopub.execute_input": "2024-08-26T19:58:17.048181Z",
     "iopub.status.busy": "2024-08-26T19:58:17.048041Z",
     "iopub.status.idle": "2024-08-26T19:58:17.054487Z",
     "shell.execute_reply": "2024-08-26T19:58:17.054184Z"
    },
    "papermill": {
     "duration": 0.009248,
     "end_time": "2024-08-26T19:58:17.055479",
     "exception": false,
     "start_time": "2024-08-26T19:58:17.046231",
     "status": "completed"
    },
    "tags": []
   },
   "outputs": [
    {
     "name": "stdout",
     "output_type": "stream",
     "text": [
      "File /Users/joregan/Playing/hsi/audio/whisperx-json/hsi_7_0719_222_002_main.json has start time after end time\n"
     ]
    }
   ],
   "source": [
    "if not IS_DIR:\n",
    "    write_converted(input, output)\n",
    "else:\n",
    "    for file in input_path.glob(\"*.json\"):\n",
    "        tgpath = output_path / f\"{file.stem}.TextGrid\"\n",
    "        write_converted(file, tgpath)"
   ]
  }
 ],
 "metadata": {
  "kernelspec": {
   "display_name": "hf",
   "language": "python",
   "name": "python3"
  },
  "language_info": {
   "codemirror_mode": {
    "name": "ipython",
    "version": 3
   },
   "file_extension": ".py",
   "mimetype": "text/x-python",
   "name": "python",
   "nbconvert_exporter": "python",
   "pygments_lexer": "ipython3",
   "version": "3.11.9"
  },
  "papermill": {
   "default_parameters": {},
   "duration": 1.513586,
   "end_time": "2024-08-26T19:58:17.173477",
   "environment_variables": {},
   "exception": null,
   "input_path": "2024-08-12-whisperx-json-segments-to_textgrid.ipynb",
   "output_path": "tmpmp",
   "parameters": {
    "input": "/Users/joregan/Playing/hsi/audio/whisperx-json/hsi_7_0719_222_002_main.json",
    "output": "/Users/joregan/Playing/hsi/audio/whisperx-textgrids/hsi_7_0719_222_002_main.TextGrid"
   },
   "start_time": "2024-08-26T19:58:15.659891",
   "version": "2.6.0"
  }
 },
 "nbformat": 4,
 "nbformat_minor": 5
}