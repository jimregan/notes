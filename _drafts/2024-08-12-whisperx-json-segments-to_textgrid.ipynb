{
 "cells": [
  {
   "cell_type": "markdown",
   "id": "cd0b06be",
   "metadata": {
    "papermill": {
     "duration": 0.008145,
     "end_time": "2024-08-12T17:07:53.748325",
     "exception": false,
     "start_time": "2024-08-12T17:07:53.740180",
     "status": "completed"
    },
    "tags": []
   },
   "source": [
    "# WhisperX JSON segemnts to textgrid\n",
    "\n",
    "> \"For HSI project\"\n",
    "\n",
    "- comments: false\n",
    "- branch: master\n",
    "- hidden: true\n",
    "- categories: [praat, textgrid, whisperx, json]"
   ]
  },
  {
   "cell_type": "code",
   "execution_count": 1,
   "id": "4f6b1ed2",
   "metadata": {
    "execution": {
     "iopub.execute_input": "2024-08-12T17:07:53.759395Z",
     "iopub.status.busy": "2024-08-12T17:07:53.758302Z",
     "iopub.status.idle": "2024-08-12T17:07:53.764132Z",
     "shell.execute_reply": "2024-08-12T17:07:53.763344Z"
    },
    "papermill": {
     "duration": 0.014,
     "end_time": "2024-08-12T17:07:53.766929",
     "exception": false,
     "start_time": "2024-08-12T17:07:53.752929",
     "status": "completed"
    },
    "tags": []
   },
   "outputs": [],
   "source": [
    "#%%capture\n",
    "#%pip install praatio"
   ]
  },
  {
   "cell_type": "code",
   "execution_count": 2,
   "id": "878a3190",
   "metadata": {
    "execution": {
     "iopub.execute_input": "2024-08-12T17:07:53.773971Z",
     "iopub.status.busy": "2024-08-12T17:07:53.773623Z",
     "iopub.status.idle": "2024-08-12T17:07:53.797685Z",
     "shell.execute_reply": "2024-08-12T17:07:53.797186Z"
    },
    "papermill": {
     "duration": 0.029533,
     "end_time": "2024-08-12T17:07:53.799584",
     "exception": false,
     "start_time": "2024-08-12T17:07:53.770051",
     "status": "completed"
    },
    "tags": []
   },
   "outputs": [],
   "source": [
    "from praatio import textgrid\n",
    "from praatio.utilities.constants import Interval"
   ]
  },
  {
   "cell_type": "code",
   "execution_count": 3,
   "id": "02bd1873",
   "metadata": {
    "execution": {
     "iopub.execute_input": "2024-08-12T17:07:53.804266Z",
     "iopub.status.busy": "2024-08-12T17:07:53.804055Z",
     "iopub.status.idle": "2024-08-12T17:07:53.806597Z",
     "shell.execute_reply": "2024-08-12T17:07:53.806179Z"
    },
    "papermill": {
     "duration": 0.006414,
     "end_time": "2024-08-12T17:07:53.808047",
     "exception": false,
     "start_time": "2024-08-12T17:07:53.801633",
     "status": "completed"
    },
    "tags": [
     "parameters"
    ]
   },
   "outputs": [],
   "source": [
    "input = \"/Users/joregan/Playing/hsi/audio/whisperx-json/\"\n",
    "output = '/tmp/whisperx-textgrids'"
   ]
  },
  {
   "cell_type": "code",
   "execution_count": 4,
   "id": "80508566",
   "metadata": {
    "execution": {
     "iopub.execute_input": "2024-08-12T17:07:53.811955Z",
     "iopub.status.busy": "2024-08-12T17:07:53.811767Z",
     "iopub.status.idle": "2024-08-12T17:07:53.814128Z",
     "shell.execute_reply": "2024-08-12T17:07:53.813654Z"
    },
    "papermill": {
     "duration": 0.005817,
     "end_time": "2024-08-12T17:07:53.815463",
     "exception": false,
     "start_time": "2024-08-12T17:07:53.809646",
     "status": "completed"
    },
    "tags": [
     "injected-parameters"
    ]
   },
   "outputs": [],
   "source": [
    "# Parameters\n",
    "input = \"/tmp/alcott-male-kobietki_001_rozdzial-i-pielgrzymki.json\"\n",
    "output = \"/tmp/alcott-male-kobietki_001_rozdzial-i-pielgrzymki.textgrid\"\n"
   ]
  },
  {
   "cell_type": "code",
   "execution_count": 5,
   "id": "b4e7f5b3",
   "metadata": {
    "execution": {
     "iopub.execute_input": "2024-08-12T17:07:53.819118Z",
     "iopub.status.busy": "2024-08-12T17:07:53.818954Z",
     "iopub.status.idle": "2024-08-12T17:07:53.821931Z",
     "shell.execute_reply": "2024-08-12T17:07:53.821604Z"
    },
    "papermill": {
     "duration": 0.006041,
     "end_time": "2024-08-12T17:07:53.823109",
     "exception": false,
     "start_time": "2024-08-12T17:07:53.817068",
     "status": "completed"
    },
    "tags": []
   },
   "outputs": [],
   "source": [
    "from pathlib import Path\n",
    "import json\n",
    "\n",
    "IS_DIR = False\n",
    "input_path = Path(input)\n",
    "output_path = Path(output)\n",
    "\n",
    "if input_path.is_dir():\n",
    "    IS_DIR = True\n",
    "    assert not output_path.exists(), \"f{output} exists, refusing to overwrite\"\n",
    "    output_path.mkdir()"
   ]
  },
  {
   "cell_type": "code",
   "execution_count": 6,
   "id": "81e388c8",
   "metadata": {
    "execution": {
     "iopub.execute_input": "2024-08-12T17:07:53.826582Z",
     "iopub.status.busy": "2024-08-12T17:07:53.826330Z",
     "iopub.status.idle": "2024-08-12T17:07:53.829940Z",
     "shell.execute_reply": "2024-08-12T17:07:53.829609Z"
    },
    "papermill": {
     "duration": 0.006513,
     "end_time": "2024-08-12T17:07:53.831024",
     "exception": false,
     "start_time": "2024-08-12T17:07:53.824511",
     "status": "completed"
    },
    "tags": []
   },
   "outputs": [],
   "source": [
    "def write_converted(infile, outfile):\n",
    "    if type(infile) == Path:\n",
    "        infile = str(infile)\n",
    "    if type(outfile) == Path:\n",
    "        outfile = str(outfile)\n",
    "\n",
    "    with open(infile) as inf:\n",
    "        data = json.load(inf)\n",
    "\n",
    "    out = []\n",
    "    for segment in data[\"segments\"]:\n",
    "        out.append(Interval(segment[\"start\"], segment[\"end\"], segment[\"text\"]))\n",
    "\n",
    "    tier_start = out[0][0]\n",
    "    tier_end = out[-1][1]\n",
    "\n",
    "    tg = textgrid.Textgrid()\n",
    "    word_tier = textgrid.IntervalTier('words', out, tier_start, tier_end)\n",
    "    tg.addTier(word_tier)\n",
    "    tg.save(outfile, format=\"long_textgrid\", includeBlankSpaces=False)"
   ]
  },
  {
   "cell_type": "code",
   "execution_count": 7,
   "id": "b4b133b3",
   "metadata": {
    "execution": {
     "iopub.execute_input": "2024-08-12T17:07:53.834360Z",
     "iopub.status.busy": "2024-08-12T17:07:53.834216Z",
     "iopub.status.idle": "2024-08-12T17:07:53.864143Z",
     "shell.execute_reply": "2024-08-12T17:07:53.863747Z"
    },
    "papermill": {
     "duration": 0.03303,
     "end_time": "2024-08-12T17:07:53.865421",
     "exception": false,
     "start_time": "2024-08-12T17:07:53.832391",
     "status": "completed"
    },
    "tags": []
   },
   "outputs": [],
   "source": [
    "if not IS_DIR:\n",
    "    write_converted(input, output)\n",
    "else:\n",
    "    for file in input_path.glob(\"*.json\"):\n",
    "        tgpath = output_path / f\"{input_path.stem}.TextGrid\"\n",
    "        write_converted(file, tgpath)"
   ]
  }
 ],
 "metadata": {
  "kernelspec": {
   "display_name": "hf",
   "language": "python",
   "name": "python3"
  },
  "language_info": {
   "codemirror_mode": {
    "name": "ipython",
    "version": 3
   },
   "file_extension": ".py",
   "mimetype": "text/x-python",
   "name": "python",
   "nbconvert_exporter": "python",
   "pygments_lexer": "ipython3",
   "version": "3.10.9"
  },
  "papermill": {
   "default_parameters": {},
   "duration": 1.291268,
   "end_time": "2024-08-12T17:07:53.983091",
   "environment_variables": {},
   "exception": null,
   "input_path": "2024-08-12-whisperx-json-segments-to_textgrid.ipynb",
   "output_path": "pmillout.ipynb",
   "parameters": {
    "input": "/tmp/alcott-male-kobietki_001_rozdzial-i-pielgrzymki.json",
    "output": "/tmp/alcott-male-kobietki_001_rozdzial-i-pielgrzymki.textgrid"
   },
   "start_time": "2024-08-12T17:07:52.691823",
   "version": "2.6.0"
  }
 },
 "nbformat": 4,
 "nbformat_minor": 5
}