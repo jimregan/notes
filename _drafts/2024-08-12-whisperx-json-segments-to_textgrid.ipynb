{
 "cells": [
  {
   "cell_type": "markdown",
   "id": "cd0b06be",
   "metadata": {
    "papermill": {
     "duration": 0.010762,
     "end_time": "2024-08-12T17:21:01.775423",
     "exception": false,
     "start_time": "2024-08-12T17:21:01.764661",
     "status": "completed"
    },
    "tags": []
   },
   "source": [
    "# WhisperX JSON segemnts to textgrid\n",
    "\n",
    "> \"For HSI project\"\n",
    "\n",
    "- comments: false\n",
    "- branch: master\n",
    "- hidden: true\n",
    "- categories: [praat, textgrid, whisperx, json]"
   ]
  },
  {
   "cell_type": "code",
   "execution_count": 1,
   "id": "4f6b1ed2",
   "metadata": {
    "execution": {
     "iopub.execute_input": "2024-08-12T17:21:01.784085Z",
     "iopub.status.busy": "2024-08-12T17:21:01.783788Z",
     "iopub.status.idle": "2024-08-12T17:21:01.788566Z",
     "shell.execute_reply": "2024-08-12T17:21:01.787835Z"
    },
    "papermill": {
     "duration": 0.010892,
     "end_time": "2024-08-12T17:21:01.791191",
     "exception": false,
     "start_time": "2024-08-12T17:21:01.780299",
     "status": "completed"
    },
    "tags": []
   },
   "outputs": [],
   "source": [
    "#%%capture\n",
    "#%pip install praatio"
   ]
  },
  {
   "cell_type": "code",
   "execution_count": 2,
   "id": "878a3190",
   "metadata": {
    "execution": {
     "iopub.execute_input": "2024-08-12T17:21:01.797837Z",
     "iopub.status.busy": "2024-08-12T17:21:01.797527Z",
     "iopub.status.idle": "2024-08-12T17:21:01.821492Z",
     "shell.execute_reply": "2024-08-12T17:21:01.820959Z"
    },
    "papermill": {
     "duration": 0.028809,
     "end_time": "2024-08-12T17:21:01.823300",
     "exception": false,
     "start_time": "2024-08-12T17:21:01.794491",
     "status": "completed"
    },
    "tags": []
   },
   "outputs": [],
   "source": [
    "from praatio import textgrid\n",
    "from praatio.utilities.constants import Interval"
   ]
  },
  {
   "cell_type": "code",
   "execution_count": 3,
   "id": "02bd1873",
   "metadata": {
    "execution": {
     "iopub.execute_input": "2024-08-12T17:21:01.828440Z",
     "iopub.status.busy": "2024-08-12T17:21:01.828225Z",
     "iopub.status.idle": "2024-08-12T17:21:01.830856Z",
     "shell.execute_reply": "2024-08-12T17:21:01.830352Z"
    },
    "papermill": {
     "duration": 0.006705,
     "end_time": "2024-08-12T17:21:01.832322",
     "exception": false,
     "start_time": "2024-08-12T17:21:01.825617",
     "status": "completed"
    },
    "tags": [
     "parameters"
    ]
   },
   "outputs": [],
   "source": [
    "input = \"/Users/joregan/Playing/hsi/audio/whisperx-json/\"\n",
    "output = '/tmp/whisperx-textgrids'"
   ]
  },
  {
   "cell_type": "code",
   "execution_count": 4,
   "id": "7b2f2e2d",
   "metadata": {
    "execution": {
     "iopub.execute_input": "2024-08-12T17:21:01.836995Z",
     "iopub.status.busy": "2024-08-12T17:21:01.836777Z",
     "iopub.status.idle": "2024-08-12T17:21:01.839150Z",
     "shell.execute_reply": "2024-08-12T17:21:01.838762Z"
    },
    "papermill": {
     "duration": 0.006225,
     "end_time": "2024-08-12T17:21:01.840517",
     "exception": false,
     "start_time": "2024-08-12T17:21:01.834292",
     "status": "completed"
    },
    "tags": [
     "injected-parameters"
    ]
   },
   "outputs": [],
   "source": [
    "# Parameters\n",
    "input = \"/tmp/alcott-male-kobietki_001_rozdzial-i-pielgrzymki.json\"\n",
    "output = \"/tmp/alcott-male-kobietki_001_rozdzial-i-pielgrzymki.textgrid\"\n"
   ]
  },
  {
   "cell_type": "code",
   "execution_count": 5,
   "id": "b4e7f5b3",
   "metadata": {
    "execution": {
     "iopub.execute_input": "2024-08-12T17:21:01.844490Z",
     "iopub.status.busy": "2024-08-12T17:21:01.844313Z",
     "iopub.status.idle": "2024-08-12T17:21:01.847464Z",
     "shell.execute_reply": "2024-08-12T17:21:01.847099Z"
    },
    "papermill": {
     "duration": 0.006382,
     "end_time": "2024-08-12T17:21:01.848634",
     "exception": false,
     "start_time": "2024-08-12T17:21:01.842252",
     "status": "completed"
    },
    "tags": []
   },
   "outputs": [],
   "source": [
    "from pathlib import Path\n",
    "import json\n",
    "\n",
    "IS_DIR = False\n",
    "input_path = Path(input)\n",
    "output_path = Path(output)\n",
    "\n",
    "if input_path.is_dir():\n",
    "    IS_DIR = True\n",
    "    assert not output_path.exists(), \"f{output} exists, refusing to overwrite\"\n",
    "    output_path.mkdir()"
   ]
  },
  {
   "cell_type": "code",
   "execution_count": 6,
   "id": "90d1a66b",
   "metadata": {
    "execution": {
     "iopub.execute_input": "2024-08-12T17:21:01.852286Z",
     "iopub.status.busy": "2024-08-12T17:21:01.852130Z",
     "iopub.status.idle": "2024-08-12T17:21:01.854765Z",
     "shell.execute_reply": "2024-08-12T17:21:01.854394Z"
    },
    "papermill": {
     "duration": 0.005752,
     "end_time": "2024-08-12T17:21:01.855977",
     "exception": false,
     "start_time": "2024-08-12T17:21:01.850225",
     "status": "completed"
    },
    "tags": []
   },
   "outputs": [],
   "source": [
    "def pad_silences(segments):\n",
    "    start = 0.0\n",
    "    out = []\n",
    "    for segment in segments:\n",
    "        out.append((start, segment[0], \" \"))\n",
    "        out.append(segment)\n",
    "        start = segment[1]\n",
    "    return out"
   ]
  },
  {
   "cell_type": "code",
   "execution_count": 7,
   "id": "81e388c8",
   "metadata": {
    "execution": {
     "iopub.execute_input": "2024-08-12T17:21:01.859662Z",
     "iopub.status.busy": "2024-08-12T17:21:01.859491Z",
     "iopub.status.idle": "2024-08-12T17:21:01.863015Z",
     "shell.execute_reply": "2024-08-12T17:21:01.862663Z"
    },
    "papermill": {
     "duration": 0.00661,
     "end_time": "2024-08-12T17:21:01.864145",
     "exception": false,
     "start_time": "2024-08-12T17:21:01.857535",
     "status": "completed"
    },
    "tags": []
   },
   "outputs": [],
   "source": [
    "def write_converted(infile, outfile):\n",
    "    if type(infile) == Path:\n",
    "        infile = str(infile)\n",
    "    if type(outfile) == Path:\n",
    "        outfile = str(outfile)\n",
    "\n",
    "    with open(infile) as inf:\n",
    "        data = json.load(inf)\n",
    "\n",
    "    out = []\n",
    "    for segment in data[\"segments\"]:\n",
    "        out.append(Interval(segment[\"start\"], segment[\"end\"], segment[\"text\"]))\n",
    "\n",
    "    tier_start = out[0][0]\n",
    "    tier_end = out[-1][1]\n",
    "\n",
    "    tg = textgrid.Textgrid()\n",
    "    word_tier = textgrid.IntervalTier('words', pad_silences(out), tier_start, tier_end)\n",
    "    tg.addTier(word_tier)\n",
    "    tg.save(outfile, format=\"long_textgrid\", includeBlankSpaces=False)"
   ]
  },
  {
   "cell_type": "code",
   "execution_count": 8,
   "id": "b4b133b3",
   "metadata": {
    "execution": {
     "iopub.execute_input": "2024-08-12T17:21:01.867514Z",
     "iopub.status.busy": "2024-08-12T17:21:01.867366Z",
     "iopub.status.idle": "2024-08-12T17:21:01.898077Z",
     "shell.execute_reply": "2024-08-12T17:21:01.897706Z"
    },
    "papermill": {
     "duration": 0.033754,
     "end_time": "2024-08-12T17:21:01.899334",
     "exception": false,
     "start_time": "2024-08-12T17:21:01.865580",
     "status": "completed"
    },
    "tags": []
   },
   "outputs": [],
   "source": [
    "if not IS_DIR:\n",
    "    write_converted(input, output)\n",
    "else:\n",
    "    for file in input_path.glob(\"*.json\"):\n",
    "        tgpath = output_path / f\"{input_path.stem}.TextGrid\"\n",
    "        write_converted(file, tgpath)"
   ]
  }
 ],
 "metadata": {
  "kernelspec": {
   "display_name": "hf",
   "language": "python",
   "name": "python3"
  },
  "language_info": {
   "codemirror_mode": {
    "name": "ipython",
    "version": 3
   },
   "file_extension": ".py",
   "mimetype": "text/x-python",
   "name": "python",
   "nbconvert_exporter": "python",
   "pygments_lexer": "ipython3",
   "version": "3.10.9"
  },
  "papermill": {
   "default_parameters": {},
   "duration": 1.316845,
   "end_time": "2024-08-12T17:21:02.016905",
   "environment_variables": {},
   "exception": null,
   "input_path": "2024-08-12-whisperx-json-segments-to_textgrid.ipynb",
   "output_path": "pmillout.ipynb",
   "parameters": {
    "input": "/tmp/alcott-male-kobietki_001_rozdzial-i-pielgrzymki.json",
    "output": "/tmp/alcott-male-kobietki_001_rozdzial-i-pielgrzymki.textgrid"
   },
   "start_time": "2024-08-12T17:21:00.700060",
   "version": "2.6.0"
  }
 },
 "nbformat": 4,
 "nbformat_minor": 5
}