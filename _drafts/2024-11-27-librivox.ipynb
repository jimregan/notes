{
 "cells": [
  {
   "cell_type": "markdown",
   "metadata": {},
   "source": [
    "# Get multi-reader poetry list from LibriVox\n",
    "\n",
    "> \"For future use\"\n",
    "\n",
    "- branch: master\n",
    "- categories: [librivox, poetry, multi-reader]"
   ]
  },
  {
   "cell_type": "code",
   "execution_count": 1,
   "metadata": {},
   "outputs": [],
   "source": [
    "API_URL = \"https://librivox.org/search/get_results?primary_key=71&search_category=genre&sub_category=&search_page={page}&search_order=alpha&project_type=either\"\n",
    "HEADERS = {\n",
    "    \"X-Requested-With\": \"XMLHttpRequest\",\n",
    "}"
   ]
  },
  {
   "cell_type": "code",
   "execution_count": 2,
   "metadata": {},
   "outputs": [],
   "source": [
    "import requests\n",
    "import json\n",
    "from bs4 import BeautifulSoup"
   ]
  },
  {
   "cell_type": "code",
   "execution_count": 3,
   "metadata": {},
   "outputs": [],
   "source": [
    "def process_search_page(page=1):\n",
    "    url = API_URL.format(page=page)\n",
    "    req = requests.get(url, headers=HEADERS)\n",
    "    assert req.status_code == 200\n",
    "    res = json.loads(req.text)\n",
    "    assert \"results\" in res\n",
    "    soup = BeautifulSoup(res[\"results\"], \"html.parser\")\n",
    "    links = []\n",
    "    for li in soup.find_all(\"li\", {\"class\": \"catalog-result\"}):\n",
    "        for resdata in li.find_all(\"div\", {\"class\": \"result-data\"}):\n",
    "            a = [x for x in resdata.find_all(\"a\")]\n",
    "            filtered = []\n",
    "            for link in a:\n",
    "                # if not \"href\" in link:\n",
    "                #     continue\n",
    "                if not \"/author/\" in link[\"href\"]:\n",
    "                    filtered.append(link[\"href\"])\n",
    "            if len(filtered) != 1:\n",
    "                print(\"Error\", filtered)\n",
    "            links += filtered\n",
    "    return links\n"
   ]
  },
  {
   "cell_type": "code",
   "execution_count": 4,
   "metadata": {},
   "outputs": [],
   "source": [
    "def do_searches(links=[], search_page=1):\n",
    "    current = process_search_page(search_page)\n",
    "    stack = links + current\n",
    "    if len(current) != 25:\n",
    "        return stack\n",
    "    else:\n",
    "        return do_searches(stack, search_page+1)"
   ]
  },
  {
   "cell_type": "code",
   "execution_count": 51,
   "metadata": {},
   "outputs": [],
   "source": [
    "pages = do_searches([], 1)"
   ]
  },
  {
   "cell_type": "code",
   "execution_count": 54,
   "metadata": {},
   "outputs": [],
   "source": [
    "with open(\"pages.txt\", \"w\") as outf:\n",
    "    for page in pages:\n",
    "        outf.write(page + \"\\n\")"
   ]
  }
 ],
 "metadata": {
  "kernelspec": {
   "display_name": "nst-tts",
   "language": "python",
   "name": "python3"
  },
  "language_info": {
   "codemirror_mode": {
    "name": "ipython",
    "version": 3
   },
   "file_extension": ".py",
   "mimetype": "text/x-python",
   "name": "python",
   "nbconvert_exporter": "python",
   "pygments_lexer": "ipython3",
   "version": "3.10.9"
  }
 },
 "nbformat": 4,
 "nbformat_minor": 2
}
