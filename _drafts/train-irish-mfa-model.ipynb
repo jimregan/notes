{
 "cells": [
  {
   "cell_type": "code",
   "execution_count": 1,
   "id": "hawaiian-entrance",
   "metadata": {
    "_cell_guid": "b1076dfc-b9ad-4769-8c92-a6c4dae69d19",
    "_uuid": "8f2839f25d086af736a60e9eeb907d3b93b6e0e5",
    "execution": {
     "iopub.execute_input": "2021-04-21T23:03:09.197912Z",
     "iopub.status.busy": "2021-04-21T23:03:09.196438Z",
     "iopub.status.idle": "2021-04-21T23:03:20.282145Z",
     "shell.execute_reply": "2021-04-21T23:03:20.281450Z"
    },
    "papermill": {
     "duration": 11.098982,
     "end_time": "2021-04-21T23:03:20.282317",
     "exception": false,
     "start_time": "2021-04-21T23:03:09.183335",
     "status": "completed"
    },
    "tags": []
   },
   "outputs": [],
   "source": [
    "%%capture\n",
    "import os\n",
    "os.chdir('/tmp')\n",
    "!wget https://github.com/MontrealCorpusTools/Montreal-Forced-Aligner/releases/download/v1.0.1/montreal-forced-aligner_linux.tar.gz\n",
    "!tar zxvf montreal-forced-aligner_linux.tar.gz\n",
    "!ln -s /tmp/montreal-forced-aligner/lib/libpython3.6m.so.1.0 /tmp/montreal-forced-aligner/lib/libpython3.6m.so"
   ]
  },
  {
   "cell_type": "code",
   "execution_count": 2,
   "id": "subtle-closure",
   "metadata": {
    "execution": {
     "iopub.execute_input": "2021-04-21T23:03:20.304195Z",
     "iopub.status.busy": "2021-04-21T23:03:20.303579Z",
     "iopub.status.idle": "2021-04-21T23:03:20.306148Z",
     "shell.execute_reply": "2021-04-21T23:03:20.306629Z"
    },
    "papermill": {
     "duration": 0.016092,
     "end_time": "2021-04-21T23:03:20.306822",
     "exception": false,
     "start_time": "2021-04-21T23:03:20.290730",
     "status": "completed"
    },
    "tags": []
   },
   "outputs": [],
   "source": [
    "os.chdir('/kaggle/working')\n",
    "os.environ['LD_LIBRARY_PATH'] = f'{os.environ[\"LD_LIBRARY_PATH\"]}:/tmp/montreal-forced-aligner/lib/'\n",
    "os.environ['PATH'] = f'{os.environ[\"PATH\"]}:/tmp/montreal-forced-aligner/bin/'"
   ]
  },
  {
   "cell_type": "code",
   "execution_count": 3,
   "id": "spectacular-europe",
   "metadata": {
    "execution": {
     "iopub.execute_input": "2021-04-21T23:03:20.333994Z",
     "iopub.status.busy": "2021-04-21T23:03:20.332821Z",
     "iopub.status.idle": "2021-04-21T23:03:26.491806Z",
     "shell.execute_reply": "2021-04-21T23:03:26.490782Z"
    },
    "papermill": {
     "duration": 6.176842,
     "end_time": "2021-04-21T23:03:26.491960",
     "exception": false,
     "start_time": "2021-04-21T23:03:20.315118",
     "status": "completed"
    },
    "tags": []
   },
   "outputs": [],
   "source": [
    "%%capture\n",
    "!yes|apt install libgfortran3"
   ]
  },
  {
   "cell_type": "code",
   "execution_count": 4,
   "id": "equivalent-faith",
   "metadata": {
    "execution": {
     "iopub.execute_input": "2021-04-21T23:03:26.514259Z",
     "iopub.status.busy": "2021-04-21T23:03:26.513539Z",
     "iopub.status.idle": "2021-04-21T23:03:27.235746Z",
     "shell.execute_reply": "2021-04-21T23:03:27.235185Z"
    },
    "papermill": {
     "duration": 0.735566,
     "end_time": "2021-04-21T23:03:27.235908",
     "exception": false,
     "start_time": "2021-04-21T23:03:26.500342",
     "status": "completed"
    },
    "tags": []
   },
   "outputs": [],
   "source": [
    "!mkdir /tmp/mfa-temp"
   ]
  },
  {
   "cell_type": "code",
   "execution_count": 5,
   "id": "continuous-knight",
   "metadata": {
    "execution": {
     "iopub.execute_input": "2021-04-21T23:03:27.256751Z",
     "iopub.status.busy": "2021-04-21T23:03:27.256118Z",
     "iopub.status.idle": "2021-04-21T23:03:27.280190Z",
     "shell.execute_reply": "2021-04-21T23:03:27.280770Z"
    },
    "papermill": {
     "duration": 0.036295,
     "end_time": "2021-04-21T23:03:27.280986",
     "exception": false,
     "start_time": "2021-04-21T23:03:27.244691",
     "status": "completed"
    },
    "tags": []
   },
   "outputs": [],
   "source": [
    "import json\n",
    "datapath = '../input/living-audio-irish-speech-corpus/living-audio.json'\n",
    "with open(datapath) as jsonf:\n",
    "    data = json.load(jsonf)"
   ]
  },
  {
   "cell_type": "code",
   "execution_count": 6,
   "id": "novel-aggregate",
   "metadata": {
    "execution": {
     "iopub.execute_input": "2021-04-21T23:03:27.301906Z",
     "iopub.status.busy": "2021-04-21T23:03:27.301266Z",
     "iopub.status.idle": "2021-04-21T23:03:28.019247Z",
     "shell.execute_reply": "2021-04-21T23:03:28.018532Z"
    },
    "papermill": {
     "duration": 0.729678,
     "end_time": "2021-04-21T23:03:28.019406",
     "exception": false,
     "start_time": "2021-04-21T23:03:27.289728",
     "status": "completed"
    },
    "tags": []
   },
   "outputs": [],
   "source": [
    "!mkdir /tmp/data"
   ]
  },
  {
   "cell_type": "code",
   "execution_count": 7,
   "id": "proved-aruba",
   "metadata": {
    "execution": {
     "iopub.execute_input": "2021-04-21T23:03:28.043313Z",
     "iopub.status.busy": "2021-04-21T23:03:28.042523Z",
     "iopub.status.idle": "2021-04-21T23:03:28.062667Z",
     "shell.execute_reply": "2021-04-21T23:03:28.062007Z"
    },
    "papermill": {
     "duration": 0.034426,
     "end_time": "2021-04-21T23:03:28.062821",
     "exception": false,
     "start_time": "2021-04-21T23:03:28.028395",
     "status": "completed"
    },
    "tags": []
   },
   "outputs": [],
   "source": [
    "lexicon_words = set()\n",
    "with open('../input/living-audio-irish-speech-corpus/lexicon.txt') as lexicon_file:\n",
    "    for line in lexicon_file.readlines():\n",
    "        words = line.split(' ')\n",
    "        lexicon_words.add(words[0])"
   ]
  },
  {
   "cell_type": "code",
   "execution_count": 8,
   "id": "working-model",
   "metadata": {
    "execution": {
     "iopub.execute_input": "2021-04-21T23:03:28.085144Z",
     "iopub.status.busy": "2021-04-21T23:03:28.084372Z",
     "iopub.status.idle": "2021-04-21T23:03:38.312546Z",
     "shell.execute_reply": "2021-04-21T23:03:38.311575Z"
    },
    "papermill": {
     "duration": 10.24051,
     "end_time": "2021-04-21T23:03:38.312722",
     "exception": false,
     "start_time": "2021-04-21T23:03:28.072212",
     "status": "completed"
    },
    "tags": []
   },
   "outputs": [],
   "source": [
    "import shutil\n",
    "missing_words = set()\n",
    "for utt in data:\n",
    "    shutil.copyfile(utt['path'], f\"/tmp/data/{utt['id']}.wav\")\n",
    "    with open(f\"/tmp/data/{utt['id']}.txt\", 'w') as text:\n",
    "        sentence = utt['sentence']\n",
    "        sentence = sentence.replace('(', '').replace(')', '') \n",
    "        words = []\n",
    "        for word in sentence.split(' '):\n",
    "            if not word in lexicon_words:\n",
    "                missing_words.add(word)\n",
    "            if '-' in word:\n",
    "                if word.startswith('n-') or word.startswith('t-'):\n",
    "                    workword = word[2:]\n",
    "                    workword.replace('-', ' ')\n",
    "                    word = word[0:2] + workword\n",
    "                else:\n",
    "                    word = word.replace('-', ' ')\n",
    "            words.append(word)\n",
    "        text.write(' '.join(words))"
   ]
  },
  {
   "cell_type": "code",
   "execution_count": 9,
   "id": "addressed-rebel",
   "metadata": {
    "execution": {
     "iopub.execute_input": "2021-04-21T23:03:38.339478Z",
     "iopub.status.busy": "2021-04-21T23:03:38.336068Z",
     "iopub.status.idle": "2021-04-22T00:05:46.842615Z",
     "shell.execute_reply": "2021-04-22T00:05:46.841730Z"
    },
    "papermill": {
     "duration": 3728.521216,
     "end_time": "2021-04-22T00:05:46.842942",
     "exception": false,
     "start_time": "2021-04-21T23:03:38.321726",
     "status": "completed"
    },
    "tags": []
   },
   "outputs": [
    {
     "name": "stdout",
     "output_type": "stream",
     "text": [
      "Setting up corpus information...\r\n",
      "Creating dictionary information...\r\n",
      "Setting up training data...\r\n",
      "Calculating MFCCs...\r\n",
      "Calculating CMVN...\r\n",
      "Number of speakers in corpus: 1, average number of utterances per speaker: 1121.0\r\n",
      "b'number of phones 215\\nnumber of pdfs 165\\nnumber of transition-ids 1470\\nnumber of transition-states 675\\nfeature dimension 39\\nnumber of gaussians 165\\n'\r\n",
      "None\r\n",
      "b'number of phones 215\\nnumber of pdfs 165\\nnumber of transition-ids 1470\\nnumber of transition-states 675\\nfeature dimension 39\\nnumber of gaussians 165\\n'\r\n",
      "None\r\n",
      "Beginning monophone training...\r\n",
      "100%|███████████████████████████████████████████| 39/39 [25:47<00:00, 21.47s/it]\r\n",
      "Initializing triphone training...\r\n",
      "Beginning triphone training...\r\n",
      "100%|███████████████████████████████████████████| 34/34 [19:18<00:00, 16.36s/it]\r\n",
      "Initializing speaker-adapted triphone training...\r\n",
      "Beginning speaker-adapted triphone training...\r\n",
      "100%|███████████████████████████████████████████| 34/34 [09:00<00:00,  8.52s/it]\r\n"
     ]
    }
   ],
   "source": [
    "!mfa_train_and_align -t /tmp/mfa-temp /tmp/data ../input/living-audio-irish-speech-corpus/lexicon.txt ./irish-model"
   ]
  },
  {
   "cell_type": "code",
   "execution_count": 10,
   "id": "existing-tumor",
   "metadata": {
    "execution": {
     "iopub.execute_input": "2021-04-22T00:05:46.945857Z",
     "iopub.status.busy": "2021-04-22T00:05:46.941436Z",
     "iopub.status.idle": "2021-04-22T00:05:47.683378Z",
     "shell.execute_reply": "2021-04-22T00:05:47.682789Z"
    },
    "papermill": {
     "duration": 0.794838,
     "end_time": "2021-04-22T00:05:47.683537",
     "exception": false,
     "start_time": "2021-04-22T00:05:46.888699",
     "status": "completed"
    },
    "tags": []
   },
   "outputs": [
    {
     "name": "stdout",
     "output_type": "stream",
     "text": [
      "ls: cannot access '/tmp/montreal-forced-aligner/lib/*for*': No such file or directory\r\n"
     ]
    }
   ],
   "source": [
    "#!ls -al /tmp/montreal-forced-aligner/lib/thirdparty/bin/*\n",
    "!ls -al /tmp/montreal-forced-aligner/lib/*for*"
   ]
  }
 ],
 "metadata": {
  "kernelspec": {
   "display_name": "Python 3",
   "language": "python",
   "name": "python3"
  },
  "language_info": {
   "codemirror_mode": {
    "name": "ipython",
    "version": 3
   },
   "file_extension": ".py",
   "mimetype": "text/x-python",
   "name": "python",
   "nbconvert_exporter": "python",
   "pygments_lexer": "ipython3",
   "version": "3.7.9"
  },
  "papermill": {
   "default_parameters": {},
   "duration": 3765.428504,
   "end_time": "2021-04-22T00:05:48.451846",
   "environment_variables": {},
   "exception": null,
   "input_path": "__notebook__.ipynb",
   "output_path": "__notebook__.ipynb",
   "parameters": {},
   "start_time": "2021-04-21T23:03:03.023342",
   "version": "2.3.2"
  }
 },
 "nbformat": 4,
 "nbformat_minor": 5
}
