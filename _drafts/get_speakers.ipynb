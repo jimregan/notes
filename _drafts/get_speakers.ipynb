{
 "cells": [
  {
   "cell_type": "code",
   "execution_count": 23,
   "metadata": {},
   "outputs": [],
   "source": [
    "input = \"/Users/joregan/Downloads/intersection.tsv\""
   ]
  },
  {
   "cell_type": "code",
   "execution_count": 24,
   "metadata": {},
   "outputs": [],
   "source": [
    "speakers = []\n",
    "with open(input) as inf:\n",
    "    for line in inf.readlines():\n",
    "        line = line.strip()\n",
    "        if line == \"\":\n",
    "            continue\n",
    "        if line.startswith(\"Name\"):\n",
    "            continue\n",
    "        parts = line.split(\"\\t\")\n",
    "        speaker = {}\n",
    "        speaker[\"name\"] = parts[0]\n",
    "        speaker[\"gender\"] = parts[1]\n",
    "        speaker[\"party\"] = parts[2]\n",
    "        speaker[\"terms\"] = parts[3]\n",
    "        speaker[\"duration\"] = float(parts[4])\n",
    "        speakers.append(speaker)"
   ]
  },
  {
   "cell_type": "code",
   "execution_count": 25,
   "metadata": {},
   "outputs": [
    {
     "name": "stdout",
     "output_type": "stream",
     "text": [
      "Total (s): 15963145.0\n",
      "Num. speakers 722\n",
      "Mean: 22109.619113573408\n"
     ]
    }
   ],
   "source": [
    "total = 0.0\n",
    "num_speakers = len(speakers)\n",
    "for speaker in speakers:\n",
    "    total += speaker[\"duration\"]\n",
    "mean = total / num_speakers\n",
    "\n",
    "print(f\"Total (s): {total}\")\n",
    "print(f\"Num. speakers {num_speakers}\")\n",
    "print(f\"Mean: {mean}\")"
   ]
  },
  {
   "cell_type": "code",
   "execution_count": 26,
   "metadata": {},
   "outputs": [],
   "source": [
    "refined = []\n",
    "req_duration = (60.0 * 4)\n",
    "for speaker in speakers:\n",
    "    cur_duration = speaker[\"duration\"]\n",
    "    if (cur_duration <= req_duration) or (cur_duration >= (mean + req_duration)):\n",
    "        continue\n",
    "    else:\n",
    "        refined.append(speaker)"
   ]
  },
  {
   "cell_type": "code",
   "execution_count": 27,
   "metadata": {},
   "outputs": [],
   "source": [
    "male = [x for x in refined if x[\"gender\"] == \"M\"]\n",
    "female = [x for x in refined if x[\"gender\"] == \"F\"]"
   ]
  },
  {
   "cell_type": "code",
   "execution_count": 13,
   "metadata": {},
   "outputs": [
    {
     "data": {
      "text/plain": [
       "248"
      ]
     },
     "execution_count": 13,
     "metadata": {},
     "output_type": "execute_result"
    }
   ],
   "source": [
    "len(male)"
   ]
  },
  {
   "cell_type": "code",
   "execution_count": 14,
   "metadata": {},
   "outputs": [
    {
     "data": {
      "text/plain": [
       "230"
      ]
     },
     "execution_count": 14,
     "metadata": {},
     "output_type": "execute_result"
    }
   ],
   "source": [
    "len(female)"
   ]
  },
  {
   "cell_type": "code",
   "execution_count": 28,
   "metadata": {},
   "outputs": [],
   "source": [
    "from random import sample\n",
    "test_m = sample(male, 2)\n",
    "val_m = sample(male, 1)\n"
   ]
  },
  {
   "cell_type": "code",
   "execution_count": 29,
   "metadata": {},
   "outputs": [
    {
     "data": {
      "text/plain": [
       "['Daniel Andersson', 'David Josefsson']"
      ]
     },
     "execution_count": 29,
     "metadata": {},
     "output_type": "execute_result"
    }
   ],
   "source": [
    "[x[\"name\"] for x in test_m]"
   ]
  },
  {
   "cell_type": "code",
   "execution_count": 30,
   "metadata": {},
   "outputs": [
    {
     "data": {
      "text/plain": [
       "['Arin Karapet']"
      ]
     },
     "execution_count": 30,
     "metadata": {},
     "output_type": "execute_result"
    }
   ],
   "source": [
    "[x[\"name\"] for x in val_m]"
   ]
  },
  {
   "cell_type": "code",
   "execution_count": 22,
   "metadata": {},
   "outputs": [
    {
     "data": {
      "text/plain": [
       "['Yasmine Bladelius',\n",
       " 'Karin Granbom Ellison',\n",
       " 'Carina Ståhl Herrstedt',\n",
       " 'Ann-Britt Åsebol',\n",
       " 'Linda Wemmert',\n",
       " 'Ulrika Jörgensen',\n",
       " 'Teresa Carvalho',\n",
       " 'Karin Nilsson']"
      ]
     },
     "execution_count": 22,
     "metadata": {},
     "output_type": "execute_result"
    }
   ],
   "source": [
    "[x[\"name\"] for x in test_f]"
   ]
  },
  {
   "cell_type": "code",
   "execution_count": 20,
   "metadata": {},
   "outputs": [
    {
     "data": {
      "text/plain": [
       "['Åsa Karlsson',\n",
       " 'Eva Lohman',\n",
       " 'Désirée Liljevall',\n",
       " 'Cecilie Tenfjord Toftby',\n",
       " 'Aylin Fazelian',\n",
       " 'Agneta Gille',\n",
       " 'Kerstin Nilsson',\n",
       " 'Vasiliki Tsouplaki']"
      ]
     },
     "execution_count": 20,
     "metadata": {},
     "output_type": "execute_result"
    }
   ],
   "source": [
    "[x[\"name\"] for x in val_f]"
   ]
  }
 ],
 "metadata": {
  "kernelspec": {
   "display_name": "ctcseg",
   "language": "python",
   "name": "python3"
  },
  "language_info": {
   "codemirror_mode": {
    "name": "ipython",
    "version": 3
   },
   "file_extension": ".py",
   "mimetype": "text/x-python",
   "name": "python",
   "nbconvert_exporter": "python",
   "pygments_lexer": "ipython3",
   "version": "3.10.4"
  },
  "orig_nbformat": 4,
  "vscode": {
   "interpreter": {
    "hash": "04f1aebeda7ca92f6170d2806fa3f3c0cbb14da723fd908a9af630117dfe1004"
   }
  }
 },
 "nbformat": 4,
 "nbformat_minor": 2
}
