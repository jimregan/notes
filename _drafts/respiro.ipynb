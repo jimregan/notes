{
 "cells": [
  {
   "cell_type": "markdown",
   "id": "2aa65968",
   "metadata": {
    "jupyter": {
     "source_hidden": false
    }
   },
   "source": [
    "\n",
    "```bibtex\n",
    "@inproceedings{yang24c_interspeech,\n",
    "  title     = {Frame-Wise Breath Detection with Self-Training: An Exploration of Enhancing Breath Naturalness in Text-to-Speech},\n",
    "  author    = {Dong Yang and Tomoki Koriyama and Yuki Saito},\n",
    "  year      = {2024},\n",
    "  booktitle = {Interspeech 2024},\n",
    "  pages     = {4928--4932},\n",
    "  doi       = {10.21437/Interspeech.2024-168},\n",
    "}\n",
    "```\n",
    "\n",
    "[code](https://github.com/ydqmkkx/Respiro-en)"
   ]
  },
  {
   "cell_type": "code",
   "execution_count": null,
   "id": "bb0ed551",
   "metadata": {
    "collapsed": false,
    "jupyter": {
     "outputs_hidden": false,
     "source_hidden": false
    }
   },
   "outputs": [],
   "source": [
    "import torch\n",
    "from modules import DetectionNet, BreathDetector\n",
    "\n",
    "device = torch.device(\"cuda\" if torch.cuda.is_available() else \"cpu\")\n",
    "model = DetectionNet().to(device)\n",
    "checkpoint = torch.load(\"respiro-en.pt\")\n",
    "model.load_state_dict(checkpoint[\"model\"])\n",
    "model.eval()\n",
    "\n",
    "detector = BreathDetector(model)"
   ]
  },
  {
   "cell_type": "code",
   "execution_count": null,
   "id": "85f470a6",
   "metadata": {
    "collapsed": false,
    "jupyter": {
     "outputs_hidden": false,
     "source_hidden": false
    }
   },
   "outputs": [],
   "source": [
    "sample = \"/home/joregan/hsi/audio/hsi_1_0515_209_001_inter.wav\""
   ]
  },
  {
   "cell_type": "code",
   "execution_count": null,
   "id": "e5565ca9",
   "metadata": {
    "jupyter": {
     "source_hidden": false
    }
   },
   "outputs": [],
   "source": [
    "tree = detector(sample)"
   ]
  },
  {
   "cell_type": "code",
   "execution_count": null,
   "id": "3984370f",
   "metadata": {
    "collapsed": false,
    "jupyter": {
     "outputs_hidden": false,
     "source_hidden": false
    }
   },
   "outputs": [],
   "source": [
    "from intervaltree import Interval, IntervalTree\n",
    "from praatio import textgrid\n",
    "from praatio.utilities.constants import Interval\n",
    "\n",
    "last = 0.0\n",
    "tier = []\n",
    "for interval in sorted(tree):\n",
    "    if interval.begin > last:\n",
    "        tier.append((last, interval.begin, \"sil\"))\n",
    "    tier.append((interval.begin, interval.end, \"b\"))\n",
    "    last = interval.end\n",
    "\n",
    "tg = textgrid.Textgrid()\n",
    "a = [Interval(x[0], x[1], x[2]) for x in tier]\n",
    "breath_tier = textgrid.IntervalTier('respiro', a, tier[0][0], tier[-1][1])\n",
    "tg.addTier(breath_tier)\n",
    "tg.save(\"/tmp/hsi_1_0515_209_001_inter.TextGrid\", format=\"long_textgrid\", includeBlankSpaces=False)"
   ]
  }
 ],
 "metadata": {
  "kernelspec": {
   "display_name": "Python 3 (ipykernel)",
   "language": "python",
   "name": "python3"
  },
  "language_info": {
   "name": "python",
   "version": "3.9.15"
  },
  "widgets": {
   "application/vnd.jupyter.widget-state+json": {
    "state": {},
    "version_major": 2,
    "version_minor": 0
   }
  }
 },
 "nbformat": 4,
 "nbformat_minor": 5
}
