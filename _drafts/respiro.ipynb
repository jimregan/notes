{
 "cells": [
  {
   "cell_type": "code",
   "execution_count": null,
   "id": "bb0ed551",
   "metadata": {
    "collapsed": false,
    "jupyter": {
     "outputs_hidden": false,
     "source_hidden": false
    }
   },
   "outputs": [],
   "source": [
    "import torch\n",
    "from modules import DetectionNet, BreathDetector\n",
    "\n",
    "device = torch.device(\"cuda\" if torch.cuda.is_available() else \"cpu\")\n",
    "model = DetectionNet().to(device)\n",
    "checkpoint = torch.load(\"respiro-en.pt\")\n",
    "model.load_state_dict(checkpoint[\"model\"])\n",
    "model.eval()\n",
    "\n",
    "detector = BreathDetector(model)"
   ]
  },
  {
   "cell_type": "code",
   "execution_count": null,
   "id": "85f470a6",
   "metadata": {
    "collapsed": false,
    "jupyter": {
     "outputs_hidden": false,
     "source_hidden": false
    }
   },
   "outputs": [],
   "source": [
    "sample = \"/home/joregan/hsi/audio/hsi_1_0515_209_001_inter.wav\""
   ]
  },
  {
   "cell_type": "code",
   "execution_count": null,
   "id": "e5565ca9",
   "metadata": {
    "jupyter": {
     "source_hidden": false
    }
   },
   "outputs": [],
   "source": [
    "tree = detector(sample)"
   ]
  },
  {
   "cell_type": "code",
   "execution_count": null,
   "id": "3984370f",
   "metadata": {
    "collapsed": false,
    "jupyter": {
     "outputs_hidden": false,
     "source_hidden": false
    }
   },
   "outputs": [],
   "source": [
    "from intervaltree import Interval, IntervalTree\n",
    "from praatio import textgrid\n",
    "from praatio.utilities.constants import Interval\n",
    "\n",
    "for interval in sorted(tree):\n",
    "    # "
   ]
  }
 ],
 "metadata": {
  "kernelspec": {
   "display_name": "Python 3 (ipykernel)",
   "language": "python",
   "name": "python3"
  },
  "widgets": {
   "application/vnd.jupyter.widget-state+json": {
    "state": {},
    "version_major": 2,
    "version_minor": 0
   }
  }
 },
 "nbformat": 4,
 "nbformat_minor": 5
}
