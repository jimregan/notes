{
 "cells": [
  {
   "cell_type": "code",
   "execution_count": 1,
   "id": "explicit-singles",
   "metadata": {
    "execution": {
     "iopub.execute_input": "2021-06-09T11:50:26.762452Z",
     "iopub.status.busy": "2021-06-09T11:50:26.761776Z",
     "iopub.status.idle": "2021-06-09T11:50:29.284526Z",
     "shell.execute_reply": "2021-06-09T11:50:29.285020Z"
    },
    "papermill": {
     "duration": 2.550212,
     "end_time": "2021-06-09T11:50:29.285347",
     "exception": false,
     "start_time": "2021-06-09T11:50:26.735135",
     "status": "completed"
    },
    "tags": []
   },
   "outputs": [],
   "source": [
    "!cp ../input/w2vu-cvsv-checkpoints-cpu13/checkpoint_best.pt .\n",
    "!cp ../input/w2vu-cvsv-checkpoints-cpu13/checkpoint_last.pt ."
   ]
  },
  {
   "cell_type": "code",
   "execution_count": 2,
   "id": "altered-minneapolis",
   "metadata": {
    "_cell_guid": "b1076dfc-b9ad-4769-8c92-a6c4dae69d19",
    "_uuid": "8f2839f25d086af736a60e9eeb907d3b93b6e0e5",
    "execution": {
     "iopub.execute_input": "2021-06-09T11:50:29.328863Z",
     "iopub.status.busy": "2021-06-09T11:50:29.327635Z",
     "iopub.status.idle": "2021-06-09T11:55:56.835183Z",
     "shell.execute_reply": "2021-06-09T11:55:56.835948Z",
     "shell.execute_reply.started": "2021-05-31T11:43:46.770364Z"
    },
    "papermill": {
     "duration": 327.53648,
     "end_time": "2021-06-09T11:55:56.836176",
     "exception": false,
     "start_time": "2021-06-09T11:50:29.299696",
     "status": "completed"
    },
    "tags": []
   },
   "outputs": [],
   "source": [
    "%%capture\n",
    "!conda install -c pykaldi pykaldi -y"
   ]
  },
  {
   "cell_type": "code",
   "execution_count": 3,
   "id": "opened-elizabeth",
   "metadata": {
    "execution": {
     "iopub.execute_input": "2021-06-09T11:55:56.868429Z",
     "iopub.status.busy": "2021-06-09T11:55:56.867695Z",
     "iopub.status.idle": "2021-06-09T11:55:56.876848Z",
     "shell.execute_reply": "2021-06-09T11:55:56.877472Z",
     "shell.execute_reply.started": "2021-05-31T13:58:07.987793Z"
    },
    "papermill": {
     "duration": 0.027072,
     "end_time": "2021-06-09T11:55:56.877657",
     "exception": false,
     "start_time": "2021-06-09T11:55:56.850585",
     "status": "completed"
    },
    "tags": []
   },
   "outputs": [
    {
     "name": "stdout",
     "output_type": "stream",
     "text": [
      "/tmp\n"
     ]
    }
   ],
   "source": [
    "%cd /tmp"
   ]
  },
  {
   "cell_type": "code",
   "execution_count": 4,
   "id": "spanish-eugene",
   "metadata": {
    "execution": {
     "iopub.execute_input": "2021-06-09T11:55:56.920049Z",
     "iopub.status.busy": "2021-06-09T11:55:56.915662Z",
     "iopub.status.idle": "2021-06-09T11:56:02.146503Z",
     "shell.execute_reply": "2021-06-09T11:56:02.145888Z",
     "shell.execute_reply.started": "2021-05-31T11:47:48.174342Z"
    },
    "papermill": {
     "duration": 5.25339,
     "end_time": "2021-06-09T11:56:02.146659",
     "exception": false,
     "start_time": "2021-06-09T11:55:56.893269",
     "status": "completed"
    },
    "tags": []
   },
   "outputs": [
    {
     "name": "stdout",
     "output_type": "stream",
     "text": [
      "Cloning into 'fairseq'...\r\n"
     ]
    },
    {
     "name": "stdout",
     "output_type": "stream",
     "text": [
      "remote: Enumerating objects: 28296, done.\u001b[K\r\n",
      "Receiving objects:   0% (1/28296)   \r"
     ]
    },
    {
     "name": "stdout",
     "output_type": "stream",
     "text": [
      "Receiving objects:   1% (283/28296), 84.00 KiB | 151.00 KiB/s   \r"
     ]
    },
    {
     "name": "stdout",
     "output_type": "stream",
     "text": [
      "Receiving objects:   2% (566/28296), 84.00 KiB | 151.00 KiB/s   \r"
     ]
    },
    {
     "name": "stdout",
     "output_type": "stream",
     "text": [
      "Receiving objects:   3% (849/28296), 84.00 KiB | 151.00 KiB/s   \r",
      "Receiving objects:   4% (1132/28296), 84.00 KiB | 151.00 KiB/s   \r"
     ]
    },
    {
     "name": "stdout",
     "output_type": "stream",
     "text": [
      "Receiving objects:   4% (1318/28296), 652.00 KiB | 592.00 KiB/s   \r",
      "Receiving objects:   5% (1415/28296), 652.00 KiB | 592.00 KiB/s   \r",
      "Receiving objects:   6% (1698/28296), 652.00 KiB | 592.00 KiB/s   \r",
      "Receiving objects:   7% (1981/28296), 652.00 KiB | 592.00 KiB/s   \r",
      "Receiving objects:   8% (2264/28296), 652.00 KiB | 592.00 KiB/s   \r"
     ]
    },
    {
     "name": "stdout",
     "output_type": "stream",
     "text": [
      "Receiving objects:   9% (2547/28296), 652.00 KiB | 592.00 KiB/s   \r"
     ]
    },
    {
     "name": "stdout",
     "output_type": "stream",
     "text": [
      "Receiving objects:  10% (2830/28296), 652.00 KiB | 592.00 KiB/s   \r",
      "Receiving objects:  11% (3113/28296), 652.00 KiB | 592.00 KiB/s   \r"
     ]
    },
    {
     "name": "stdout",
     "output_type": "stream",
     "text": [
      "Receiving objects:  12% (3396/28296), 652.00 KiB | 592.00 KiB/s   \r",
      "Receiving objects:  13% (3679/28296), 652.00 KiB | 592.00 KiB/s   \r",
      "Receiving objects:  14% (3962/28296), 652.00 KiB | 592.00 KiB/s   \r",
      "Receiving objects:  15% (4245/28296), 652.00 KiB | 592.00 KiB/s   \r",
      "Receiving objects:  16% (4528/28296), 652.00 KiB | 592.00 KiB/s   \r"
     ]
    },
    {
     "name": "stdout",
     "output_type": "stream",
     "text": [
      "Receiving objects:  17% (4811/28296), 652.00 KiB | 592.00 KiB/s   \r",
      "Receiving objects:  18% (5094/28296), 652.00 KiB | 592.00 KiB/s   \r",
      "Receiving objects:  19% (5377/28296), 652.00 KiB | 592.00 KiB/s   \r"
     ]
    },
    {
     "name": "stdout",
     "output_type": "stream",
     "text": [
      "Receiving objects:  20% (5660/28296), 4.52 MiB | 2.73 MiB/s   \r",
      "Receiving objects:  21% (5943/28296), 4.52 MiB | 2.73 MiB/s   \r",
      "Receiving objects:  22% (6226/28296), 4.52 MiB | 2.73 MiB/s   \r",
      "Receiving objects:  23% (6509/28296), 4.52 MiB | 2.73 MiB/s   \r",
      "Receiving objects:  24% (6792/28296), 4.52 MiB | 2.73 MiB/s   \r"
     ]
    },
    {
     "name": "stdout",
     "output_type": "stream",
     "text": [
      "Receiving objects:  25% (7074/28296), 4.52 MiB | 2.73 MiB/s   \r",
      "Receiving objects:  26% (7357/28296), 4.52 MiB | 2.73 MiB/s   \r",
      "Receiving objects:  27% (7640/28296), 4.52 MiB | 2.73 MiB/s   \r",
      "Receiving objects:  28% (7923/28296), 4.52 MiB | 2.73 MiB/s   \r",
      "Receiving objects:  29% (8206/28296), 4.52 MiB | 2.73 MiB/s   \r",
      "Receiving objects:  30% (8489/28296), 4.52 MiB | 2.73 MiB/s   \r",
      "Receiving objects:  31% (8772/28296), 4.52 MiB | 2.73 MiB/s   \r",
      "Receiving objects:  32% (9055/28296), 4.52 MiB | 2.73 MiB/s   \r",
      "Receiving objects:  33% (9338/28296), 4.52 MiB | 2.73 MiB/s   \r"
     ]
    },
    {
     "name": "stdout",
     "output_type": "stream",
     "text": [
      "Receiving objects:  34% (9621/28296), 4.52 MiB | 2.73 MiB/s   \r",
      "Receiving objects:  35% (9904/28296), 4.52 MiB | 2.73 MiB/s   \r",
      "Receiving objects:  36% (10187/28296), 4.52 MiB | 2.73 MiB/s   \r",
      "Receiving objects:  37% (10470/28296), 4.52 MiB | 2.73 MiB/s   \r",
      "Receiving objects:  38% (10753/28296), 4.52 MiB | 2.73 MiB/s   \r"
     ]
    },
    {
     "name": "stdout",
     "output_type": "stream",
     "text": [
      "Receiving objects:  39% (11036/28296), 4.52 MiB | 2.73 MiB/s   \r",
      "Receiving objects:  40% (11319/28296), 4.52 MiB | 2.73 MiB/s   \r",
      "Receiving objects:  41% (11602/28296), 4.52 MiB | 2.73 MiB/s   \r",
      "Receiving objects:  42% (11885/28296), 4.52 MiB | 2.73 MiB/s   \r",
      "Receiving objects:  43% (12168/28296), 4.52 MiB | 2.73 MiB/s   \r",
      "Receiving objects:  44% (12451/28296), 4.52 MiB | 2.73 MiB/s   \r"
     ]
    },
    {
     "name": "stdout",
     "output_type": "stream",
     "text": [
      "Receiving objects:  45% (12734/28296), 4.52 MiB | 2.73 MiB/s   \r",
      "Receiving objects:  46% (13017/28296), 4.52 MiB | 2.73 MiB/s   \r",
      "Receiving objects:  47% (13300/28296), 4.52 MiB | 2.73 MiB/s   \r",
      "Receiving objects:  48% (13583/28296), 4.52 MiB | 2.73 MiB/s   \r",
      "Receiving objects:  49% (13866/28296), 4.52 MiB | 2.73 MiB/s   \r",
      "Receiving objects:  50% (14148/28296), 4.52 MiB | 2.73 MiB/s   \r",
      "Receiving objects:  51% (14431/28296), 4.52 MiB | 2.73 MiB/s   \r",
      "Receiving objects:  52% (14714/28296), 4.52 MiB | 2.73 MiB/s   \r",
      "Receiving objects:  53% (14997/28296), 4.52 MiB | 2.73 MiB/s   \r",
      "Receiving objects:  54% (15280/28296), 4.52 MiB | 2.73 MiB/s   \r",
      "Receiving objects:  55% (15563/28296), 4.52 MiB | 2.73 MiB/s   \r"
     ]
    },
    {
     "name": "stdout",
     "output_type": "stream",
     "text": [
      "Receiving objects:  56% (15846/28296), 4.52 MiB | 2.73 MiB/s   \r",
      "Receiving objects:  57% (16129/28296), 4.52 MiB | 2.73 MiB/s   \r",
      "Receiving objects:  58% (16412/28296), 4.52 MiB | 2.73 MiB/s   \r",
      "Receiving objects:  59% (16695/28296), 4.52 MiB | 2.73 MiB/s   \r",
      "Receiving objects:  60% (16978/28296), 4.52 MiB | 2.73 MiB/s   \r",
      "Receiving objects:  61% (17261/28296), 4.52 MiB | 2.73 MiB/s   \r",
      "Receiving objects:  62% (17544/28296), 4.52 MiB | 2.73 MiB/s   \r",
      "Receiving objects:  63% (17827/28296), 4.52 MiB | 2.73 MiB/s   \r",
      "Receiving objects:  64% (18110/28296), 4.52 MiB | 2.73 MiB/s   \r",
      "Receiving objects:  65% (18393/28296), 4.52 MiB | 2.73 MiB/s   \r",
      "Receiving objects:  66% (18676/28296), 4.52 MiB | 2.73 MiB/s   \r"
     ]
    },
    {
     "name": "stdout",
     "output_type": "stream",
     "text": [
      "Receiving objects:  66% (18727/28296), 4.52 MiB | 2.73 MiB/s   \r",
      "Receiving objects:  67% (18959/28296), 4.52 MiB | 2.73 MiB/s   \r",
      "Receiving objects:  68% (19242/28296), 4.52 MiB | 2.73 MiB/s   \r",
      "Receiving objects:  69% (19525/28296), 4.52 MiB | 2.73 MiB/s   \r",
      "Receiving objects:  70% (19808/28296), 4.52 MiB | 2.73 MiB/s   \r",
      "Receiving objects:  71% (20091/28296), 4.52 MiB | 2.73 MiB/s   \r",
      "Receiving objects:  72% (20374/28296), 4.52 MiB | 2.73 MiB/s   \r",
      "Receiving objects:  73% (20657/28296), 4.52 MiB | 2.73 MiB/s   \r",
      "Receiving objects:  74% (20940/28296), 4.52 MiB | 2.73 MiB/s   \r",
      "Receiving objects:  75% (21222/28296), 4.52 MiB | 2.73 MiB/s   \r",
      "Receiving objects:  76% (21505/28296), 4.52 MiB | 2.73 MiB/s   \r"
     ]
    },
    {
     "name": "stdout",
     "output_type": "stream",
     "text": [
      "Receiving objects:  77% (21788/28296), 4.52 MiB | 2.73 MiB/s   \r",
      "Receiving objects:  78% (22071/28296), 4.52 MiB | 2.73 MiB/s   \r",
      "Receiving objects:  79% (22354/28296), 4.52 MiB | 2.73 MiB/s   \r",
      "Receiving objects:  80% (22637/28296), 4.52 MiB | 2.73 MiB/s   \r",
      "Receiving objects:  81% (22920/28296), 4.52 MiB | 2.73 MiB/s   \r",
      "Receiving objects:  82% (23203/28296), 4.52 MiB | 2.73 MiB/s   \r",
      "Receiving objects:  83% (23486/28296), 4.52 MiB | 2.73 MiB/s   \r",
      "Receiving objects:  84% (23769/28296), 4.52 MiB | 2.73 MiB/s   \r",
      "Receiving objects:  85% (24052/28296), 4.52 MiB | 2.73 MiB/s   \r",
      "Receiving objects:  86% (24335/28296), 4.52 MiB | 2.73 MiB/s   \r",
      "Receiving objects:  87% (24618/28296), 4.52 MiB | 2.73 MiB/s   \r",
      "Receiving objects:  88% (24901/28296), 4.52 MiB | 2.73 MiB/s   \r",
      "Receiving objects:  89% (25184/28296), 4.52 MiB | 2.73 MiB/s   \r",
      "Receiving objects:  90% (25467/28296), 4.52 MiB | 2.73 MiB/s   \r",
      "Receiving objects:  91% (25750/28296), 4.52 MiB | 2.73 MiB/s   \r",
      "Receiving objects:  92% (26033/28296), 4.52 MiB | 2.73 MiB/s   \r",
      "Receiving objects:  93% (26316/28296), 4.52 MiB | 2.73 MiB/s   \r",
      "Receiving objects:  94% (26599/28296), 4.52 MiB | 2.73 MiB/s   \r",
      "Receiving objects:  95% (26882/28296), 4.52 MiB | 2.73 MiB/s   \r",
      "Receiving objects:  96% (27165/28296), 4.52 MiB | 2.73 MiB/s   \r",
      "Receiving objects:  97% (27448/28296), 4.52 MiB | 2.73 MiB/s   \r"
     ]
    },
    {
     "name": "stdout",
     "output_type": "stream",
     "text": [
      "Receiving objects:  98% (27731/28296), 4.52 MiB | 2.73 MiB/s   \r",
      "remote: Total 28296 (delta 0), reused 0 (delta 0), pack-reused 28296\u001b[K\r\n",
      "Receiving objects:  99% (28014/28296), 4.52 MiB | 2.73 MiB/s   \r",
      "Receiving objects: 100% (28296/28296), 4.52 MiB | 2.73 MiB/s   \r",
      "Receiving objects: 100% (28296/28296), 11.79 MiB | 5.56 MiB/s, done.\r\n",
      "Resolving deltas:   0% (0/21294)   \r",
      "Resolving deltas:   1% (213/21294)   \r",
      "Resolving deltas:   2% (426/21294)   \r",
      "Resolving deltas:   3% (679/21294)   \r",
      "Resolving deltas:   4% (852/21294)   \r",
      "Resolving deltas:   5% (1065/21294)   \r",
      "Resolving deltas:   6% (1282/21294)   \r",
      "Resolving deltas:   7% (1493/21294)   \r"
     ]
    },
    {
     "name": "stdout",
     "output_type": "stream",
     "text": [
      "Resolving deltas:   8% (1705/21294)   \r",
      "Resolving deltas:   9% (1921/21294)   \r",
      "Resolving deltas:  10% (2130/21294)   \r",
      "Resolving deltas:  11% (2354/21294)   \r",
      "Resolving deltas:  12% (2560/21294)   \r",
      "Resolving deltas:  13% (2771/21294)   \r",
      "Resolving deltas:  14% (2988/21294)   \r"
     ]
    },
    {
     "name": "stdout",
     "output_type": "stream",
     "text": [
      "Resolving deltas:  15% (3209/21294)   \r",
      "Resolving deltas:  16% (3414/21294)   \r",
      "Resolving deltas:  17% (3652/21294)   \r",
      "Resolving deltas:  18% (3848/21294)   \r",
      "Resolving deltas:  19% (4046/21294)   \r",
      "Resolving deltas:  20% (4267/21294)   \r",
      "Resolving deltas:  21% (4480/21294)   \r",
      "Resolving deltas:  22% (4714/21294)   \r",
      "Resolving deltas:  23% (5004/21294)   \r",
      "Resolving deltas:  24% (5111/21294)   \r"
     ]
    },
    {
     "name": "stdout",
     "output_type": "stream",
     "text": [
      "Resolving deltas:  25% (5324/21294)   \r",
      "Resolving deltas:  26% (5542/21294)   \r",
      "Resolving deltas:  27% (5771/21294)   \r",
      "Resolving deltas:  28% (5969/21294)   \r",
      "Resolving deltas:  29% (6208/21294)   \r",
      "Resolving deltas:  30% (6389/21294)   \r",
      "Resolving deltas:  31% (6619/21294)   \r",
      "Resolving deltas:  32% (6827/21294)   \r",
      "Resolving deltas:  33% (7037/21294)   \r",
      "Resolving deltas:  34% (7241/21294)   \r",
      "Resolving deltas:  35% (7498/21294)   \r",
      "Resolving deltas:  36% (7666/21294)   \r"
     ]
    },
    {
     "name": "stdout",
     "output_type": "stream",
     "text": [
      "Resolving deltas:  37% (7925/21294)   \r",
      "Resolving deltas:  38% (8224/21294)   \r",
      "Resolving deltas:  39% (8316/21294)   \r",
      "Resolving deltas:  40% (8520/21294)   \r",
      "Resolving deltas:  41% (8735/21294)   \r",
      "Resolving deltas:  42% (8965/21294)   \r",
      "Resolving deltas:  43% (9161/21294)   \r",
      "Resolving deltas:  44% (9391/21294)   \r",
      "Resolving deltas:  45% (9589/21294)   \r",
      "Resolving deltas:  46% (9814/21294)   \r",
      "Resolving deltas:  47% (10015/21294)   \r",
      "Resolving deltas:  48% (10223/21294)   \r",
      "Resolving deltas:  49% (10449/21294)   \r"
     ]
    },
    {
     "name": "stdout",
     "output_type": "stream",
     "text": [
      "Resolving deltas:  50% (10702/21294)   \r",
      "Resolving deltas:  51% (10868/21294)   \r",
      "Resolving deltas:  52% (11118/21294)   \r",
      "Resolving deltas:  53% (11288/21294)   \r",
      "Resolving deltas:  54% (11515/21294)   \r",
      "Resolving deltas:  55% (11713/21294)   \r",
      "Resolving deltas:  56% (11929/21294)   \r",
      "Resolving deltas:  57% (12187/21294)   \r",
      "Resolving deltas:  58% (12358/21294)   \r",
      "Resolving deltas:  59% (12572/21294)   \r",
      "Resolving deltas:  60% (12808/21294)   \r",
      "Resolving deltas:  61% (12993/21294)   \r",
      "Resolving deltas:  62% (13213/21294)   \r",
      "Resolving deltas:  63% (13447/21294)   \r",
      "Resolving deltas:  64% (13639/21294)   \r"
     ]
    },
    {
     "name": "stdout",
     "output_type": "stream",
     "text": [
      "Resolving deltas:  65% (13875/21294)   \r",
      "Resolving deltas:  66% (14081/21294)   \r",
      "Resolving deltas:  67% (14285/21294)   \r",
      "Resolving deltas:  68% (14521/21294)   \r",
      "Resolving deltas:  69% (14697/21294)   \r",
      "Resolving deltas:  70% (14913/21294)   \r",
      "Resolving deltas:  71% (15137/21294)   \r",
      "Resolving deltas:  72% (15347/21294)   \r",
      "Resolving deltas:  73% (15547/21294)   \r",
      "Resolving deltas:  74% (15758/21294)   \r",
      "Resolving deltas:  75% (16012/21294)   \r",
      "Resolving deltas:  76% (16185/21294)   \r",
      "Resolving deltas:  77% (16397/21294)   \r",
      "Resolving deltas:  78% (16676/21294)   \r",
      "Resolving deltas:  79% (16829/21294)   \r",
      "Resolving deltas:  80% (17063/21294)   \r",
      "Resolving deltas:  81% (17340/21294)   \r",
      "Resolving deltas:  82% (17469/21294)   \r"
     ]
    },
    {
     "name": "stdout",
     "output_type": "stream",
     "text": [
      "Resolving deltas:  83% (17735/21294)   \r",
      "Resolving deltas:  84% (17910/21294)   \r",
      "Resolving deltas:  85% (18133/21294)   \r",
      "Resolving deltas:  86% (18361/21294)   \r",
      "Resolving deltas:  87% (18529/21294)   \r",
      "Resolving deltas:  88% (18761/21294)   \r",
      "Resolving deltas:  89% (19029/21294)   \r",
      "Resolving deltas:  90% (19199/21294)   \r",
      "Resolving deltas:  91% (19378/21294)   \r",
      "Resolving deltas:  92% (19591/21294)   \r",
      "Resolving deltas:  93% (19805/21294)   \r",
      "Resolving deltas:  94% (20035/21294)   \r",
      "Resolving deltas:  95% (20237/21294)   \r",
      "Resolving deltas:  96% (20476/21294)   \r",
      "Resolving deltas:  97% (20792/21294)   \r",
      "Resolving deltas:  98% (20884/21294)   \r",
      "Resolving deltas:  99% (21087/21294)   \r"
     ]
    },
    {
     "name": "stdout",
     "output_type": "stream",
     "text": [
      "Resolving deltas: 100% (21294/21294)   \r",
      "Resolving deltas: 100% (21294/21294), done.\r\n"
     ]
    }
   ],
   "source": [
    "!git clone https://github.com/jimregan/fairseq/ --branch issue3581"
   ]
  },
  {
   "cell_type": "code",
   "execution_count": 5,
   "id": "finite-needle",
   "metadata": {
    "execution": {
     "iopub.execute_input": "2021-06-09T11:56:02.201160Z",
     "iopub.status.busy": "2021-06-09T11:56:02.200517Z",
     "iopub.status.idle": "2021-06-09T11:56:10.102858Z",
     "shell.execute_reply": "2021-06-09T11:56:10.102130Z",
     "shell.execute_reply.started": "2021-05-31T13:58:08.002832Z"
    },
    "papermill": {
     "duration": 7.93262,
     "end_time": "2021-06-09T11:56:10.103024",
     "exception": false,
     "start_time": "2021-06-09T11:56:02.170404",
     "status": "completed"
    },
    "tags": []
   },
   "outputs": [
    {
     "name": "stdout",
     "output_type": "stream",
     "text": [
      "Cloning into 'kenlm'...\r\n"
     ]
    },
    {
     "name": "stdout",
     "output_type": "stream",
     "text": [
      "remote: Enumerating objects: 14047, done.\u001b[K\r\n",
      "remote: Counting objects:   0% (1/360)\u001b[K\r",
      "remote: Counting objects:   1% (4/360)\u001b[K\r",
      "remote: Counting objects:   2% (8/360)\u001b[K\r",
      "remote: Counting objects:   3% (11/360)\u001b[K\r",
      "remote: Counting objects:   4% (15/360)\u001b[K\r",
      "remote: Counting objects:   5% (18/360)\u001b[K\r",
      "remote: Counting objects:   6% (22/360)\u001b[K\r",
      "remote: Counting objects:   7% (26/360)\u001b[K\r",
      "remote: Counting objects:   8% (29/360)\u001b[K\r",
      "remote: Counting objects:   9% (33/360)\u001b[K\r",
      "remote: Counting objects:  10% (36/360)\u001b[K\r",
      "remote: Counting objects:  11% (40/360)\u001b[K\r",
      "remote: Counting objects:  12% (44/360)\u001b[K\r",
      "remote: Counting objects:  13% (47/360)\u001b[K\r",
      "remote: Counting objects:  14% (51/360)\u001b[K\r",
      "remote: Counting objects:  15% (54/360)\u001b[K\r",
      "remote: Counting objects:  16% (58/360)\u001b[K\r",
      "remote: Counting objects:  17% (62/360)\u001b[K\r",
      "remote: Counting objects:  18% (65/360)\u001b[K\r",
      "remote: Counting objects:  19% (69/360)\u001b[K\r",
      "remote: Counting objects:  20% (72/360)\u001b[K\r",
      "remote: Counting objects:  21% (76/360)\u001b[K\r",
      "remote: Counting objects:  22% (80/360)\u001b[K\r",
      "remote: Counting objects:  23% (83/360)\u001b[K\r",
      "remote: Counting objects:  24% (87/360)\u001b[K\r",
      "remote: Counting objects:  25% (90/360)\u001b[K\r",
      "remote: Counting objects:  26% (94/360)\u001b[K\r",
      "remote: Counting objects:  27% (98/360)\u001b[K\r",
      "remote: Counting objects:  28% (101/360)\u001b[K\r",
      "remote: Counting objects:  29% (105/360)\u001b[K\r",
      "remote: Counting objects:  30% (108/360)\u001b[K\r",
      "remote: Counting objects:  31% (112/360)\u001b[K\r",
      "remote: Counting objects:  32% (116/360)\u001b[K\r",
      "remote: Counting objects:  33% (119/360)\u001b[K\r",
      "remote: Counting objects:  34% (123/360)\u001b[K\r",
      "remote: Counting objects:  35% (126/360)\u001b[K\r",
      "remote: Counting objects:  36% (130/360)\u001b[K\r",
      "remote: Counting objects:  37% (134/360)\u001b[K\r",
      "remote: Counting objects:  38% (137/360)\u001b[K\r",
      "remote: Counting objects:  39% (141/360)\u001b[K\r",
      "remote: Counting objects:  40% (144/360)\u001b[K\r",
      "remote: Counting objects:  41% (148/360)\u001b[K\r",
      "remote: Counting objects:  42% (152/360)\u001b[K\r",
      "remote: Counting objects:  43% (155/360)\u001b[K\r",
      "remote: Counting objects:  44% (159/360)\u001b[K\r",
      "remote: Counting objects:  45% (162/360)\u001b[K\r",
      "remote: Counting objects:  46% (166/360)\u001b[K\r",
      "remote: Counting objects:  47% (170/360)\u001b[K\r",
      "remote: Counting objects:  48% (173/360)\u001b[K\r",
      "remote: Counting objects:  49% (177/360)\u001b[K\r",
      "remote: Counting objects:  50% (180/360)\u001b[K\r",
      "remote: Counting objects:  51% (184/360)\u001b[K\r",
      "remote: Counting objects:  52% (188/360)\u001b[K\r",
      "remote: Counting objects:  53% (191/360)\u001b[K\r",
      "remote: Counting objects:  54% (195/360)\u001b[K\r",
      "remote: Counting objects:  55% (198/360)\u001b[K\r",
      "remote: Counting objects:  56% (202/360)\u001b[K\r",
      "remote: Counting objects:  57% (206/360)\u001b[K\r",
      "remote: Counting objects:  58% (209/360)\u001b[K\r",
      "remote: Counting objects:  59% (213/360)\u001b[K\r",
      "remote: Counting objects:  60% (216/360)\u001b[K\r",
      "remote: Counting objects:  61% (220/360)\u001b[K\r",
      "remote: Counting objects:  62% (224/360)\u001b[K\r",
      "remote: Counting objects:  63% (227/360)\u001b[K\r",
      "remote: Counting objects:  64% (231/360)\u001b[K\r",
      "remote: Counting objects:  65% (234/360)\u001b[K\r",
      "remote: Counting objects:  66% (238/360)\u001b[K\r",
      "remote: Counting objects:  67% (242/360)\u001b[K\r",
      "remote: Counting objects:  68% (245/360)\u001b[K\r",
      "remote: Counting objects:  69% (249/360)\u001b[K\r",
      "remote: Counting objects:  70% (252/360)\u001b[K\r",
      "remote: Counting objects:  71% (256/360)\u001b[K\r",
      "remote: Counting objects:  72% (260/360)\u001b[K\r",
      "remote: Counting objects:  73% (263/360)\u001b[K\r",
      "remote: Counting objects:  74% (267/360)\u001b[K\r",
      "remote: Counting objects:  75% (270/360)\u001b[K\r",
      "remote: Counting objects:  76% (274/360)\u001b[K\r",
      "remote: Counting objects:  77% (278/360)\u001b[K\r",
      "remote: Counting objects:  78% (281/360)\u001b[K\r",
      "remote: Counting objects:  79% (285/360)\u001b[K\r",
      "remote: Counting objects:  80% (288/360)\u001b[K\r",
      "remote: Counting objects:  81% (292/360)\u001b[K\r",
      "remote: Counting objects:  82% (296/360)\u001b[K\r",
      "remote: Counting objects:  83% (299/360)\u001b[K\r",
      "remote: Counting objects:  84% (303/360)\u001b[K\r",
      "remote: Counting objects:  85% (306/360)\u001b[K\r",
      "remote: Counting objects:  86% (310/360)\u001b[K\r",
      "remote: Counting objects:  87% (314/360)\u001b[K\r",
      "remote: Counting objects:  88% (317/360)\u001b[K\r",
      "remote: Counting objects:  89% (321/360)\u001b[K\r",
      "remote: Counting objects:  90% (324/360)\u001b[K\r",
      "remote: Counting objects:  91% (328/360)\u001b[K\r",
      "remote: Counting objects:  92% (332/360)\u001b[K\r",
      "remote: Counting objects:  93% (335/360)\u001b[K\r",
      "remote: Counting objects:  94% (339/360)\u001b[K\r",
      "remote: Counting objects:  95% (342/360)\u001b[K\r",
      "remote: Counting objects:  96% (346/360)\u001b[K\r",
      "remote: Counting objects:  97% (350/360)\u001b[K\r",
      "remote: Counting objects:  98% (353/360)\u001b[K\r",
      "remote: Counting objects:  99% (357/360)\u001b[K\r",
      "remote: Counting objects: 100% (360/360)\u001b[K\r",
      "remote: Counting objects: 100% (360/360), done.\u001b[K\r\n",
      "remote: Compressing objects:   0% (1/292)\u001b[K\r",
      "remote: Compressing objects:   1% (3/292)\u001b[K\r",
      "remote: Compressing objects:   2% (6/292)\u001b[K\r",
      "remote: Compressing objects:   3% (9/292)\u001b[K\r",
      "remote: Compressing objects:   4% (12/292)\u001b[K\r",
      "remote: Compressing objects:   5% (15/292)\u001b[K\r",
      "remote: Compressing objects:   6% (18/292)\u001b[K\r",
      "remote: Compressing objects:   7% (21/292)\u001b[K\r",
      "remote: Compressing objects:   8% (24/292)\u001b[K\r",
      "remote: Compressing objects:   9% (27/292)\u001b[K\r"
     ]
    },
    {
     "name": "stdout",
     "output_type": "stream",
     "text": [
      "remote: Compressing objects:  10% (30/292)\u001b[K\r",
      "remote: Compressing objects:  11% (33/292)\u001b[K\r",
      "remote: Compressing objects:  12% (36/292)\u001b[K\r",
      "remote: Compressing objects:  13% (38/292)\u001b[K\r",
      "remote: Compressing objects:  14% (41/292)\u001b[K\r",
      "remote: Compressing objects:  15% (44/292)\u001b[K\r"
     ]
    },
    {
     "name": "stdout",
     "output_type": "stream",
     "text": [
      "remote: Compressing objects:  16% (47/292)\u001b[K\r",
      "remote: Compressing objects:  17% (50/292)\u001b[K\r",
      "remote: Compressing objects:  18% (53/292)\u001b[K\r",
      "remote: Compressing objects:  19% (56/292)\u001b[K\r",
      "remote: Compressing objects:  20% (59/292)\u001b[K\r",
      "remote: Compressing objects:  21% (62/292)\u001b[K\r",
      "remote: Compressing objects:  22% (65/292)\u001b[K\r",
      "remote: Compressing objects:  23% (68/292)\u001b[K\r",
      "remote: Compressing objects:  24% (71/292)\u001b[K\r",
      "remote: Compressing objects:  25% (73/292)\u001b[K\r",
      "remote: Compressing objects:  26% (76/292)\u001b[K\r",
      "remote: Compressing objects:  27% (79/292)\u001b[K\r",
      "remote: Compressing objects:  28% (82/292)\u001b[K\r",
      "remote: Compressing objects:  29% (85/292)\u001b[K\r",
      "remote: Compressing objects:  30% (88/292)\u001b[K\r",
      "remote: Compressing objects:  31% (91/292)\u001b[K\r",
      "remote: Compressing objects:  32% (94/292)\u001b[K\r",
      "remote: Compressing objects:  33% (97/292)\u001b[K\r",
      "remote: Compressing objects:  34% (100/292)\u001b[K\r",
      "remote: Compressing objects:  35% (103/292)\u001b[K\r",
      "remote: Compressing objects:  36% (106/292)\u001b[K\r",
      "remote: Compressing objects:  37% (109/292)\u001b[K\r",
      "remote: Compressing objects:  38% (111/292)\u001b[K\r",
      "remote: Compressing objects:  39% (114/292)\u001b[K\r",
      "remote: Compressing objects:  40% (117/292)\u001b[K\r",
      "remote: Compressing objects:  41% (120/292)\u001b[K\r",
      "remote: Compressing objects:  42% (123/292)\u001b[K\r",
      "remote: Compressing objects:  43% (126/292)\u001b[K\r",
      "remote: Compressing objects:  44% (129/292)\u001b[K\r",
      "remote: Compressing objects:  45% (132/292)\u001b[K\r",
      "remote: Compressing objects:  46% (135/292)\u001b[K\r",
      "remote: Compressing objects:  47% (138/292)\u001b[K\r",
      "remote: Compressing objects:  48% (141/292)\u001b[K\r",
      "remote: Compressing objects:  49% (144/292)\u001b[K\r",
      "remote: Compressing objects:  50% (146/292)\u001b[K\r",
      "remote: Compressing objects:  51% (149/292)\u001b[K\r",
      "remote: Compressing objects:  52% (152/292)\u001b[K\r",
      "remote: Compressing objects:  53% (155/292)\u001b[K\r",
      "remote: Compressing objects:  54% (158/292)\u001b[K\r",
      "remote: Compressing objects:  55% (161/292)\u001b[K\r",
      "remote: Compressing objects:  56% (164/292)\u001b[K\r",
      "remote: Compressing objects:  57% (167/292)\u001b[K\r",
      "remote: Compressing objects:  58% (170/292)\u001b[K\r",
      "remote: Compressing objects:  59% (173/292)\u001b[K\r",
      "remote: Compressing objects:  60% (176/292)\u001b[K\r",
      "remote: Compressing objects:  61% (179/292)\u001b[K\r",
      "remote: Compressing objects:  62% (182/292)\u001b[K\r",
      "remote: Compressing objects:  63% (184/292)\u001b[K\r",
      "remote: Compressing objects:  64% (187/292)\u001b[K\r",
      "remote: Compressing objects:  65% (190/292)\u001b[K\r",
      "remote: Compressing objects:  66% (193/292)\u001b[K\r",
      "remote: Compressing objects:  67% (196/292)\u001b[K\r",
      "remote: Compressing objects:  68% (199/292)\u001b[K\r",
      "remote: Compressing objects:  69% (202/292)\u001b[K\r",
      "remote: Compressing objects:  70% (205/292)\u001b[K\r",
      "remote: Compressing objects:  71% (208/292)\u001b[K\r",
      "remote: Compressing objects:  72% (211/292)\u001b[K\r",
      "remote: Compressing objects:  73% (214/292)\u001b[K\r",
      "remote: Compressing objects:  74% (217/292)\u001b[K\r",
      "remote: Compressing objects:  75% (219/292)\u001b[K\r",
      "remote: Compressing objects:  76% (222/292)\u001b[K\r",
      "remote: Compressing objects:  77% (225/292)\u001b[K\r",
      "remote: Compressing objects:  78% (228/292)\u001b[K\r",
      "remote: Compressing objects:  79% (231/292)\u001b[K\r",
      "remote: Compressing objects:  80% (234/292)\u001b[K\r",
      "remote: Compressing objects:  81% (237/292)\u001b[K\r",
      "remote: Compressing objects:  82% (240/292)\u001b[K\r",
      "remote: Compressing objects:  83% (243/292)\u001b[K\r",
      "remote: Compressing objects:  84% (246/292)\u001b[K\r",
      "remote: Compressing objects:  85% (249/292)\u001b[K\r",
      "remote: Compressing objects:  86% (252/292)\u001b[K\r",
      "remote: Compressing objects:  87% (255/292)\u001b[K\r",
      "remote: Compressing objects:  88% (257/292)\u001b[K\r",
      "remote: Compressing objects:  89% (260/292)\u001b[K\r",
      "remote: Compressing objects:  90% (263/292)\u001b[K\r",
      "remote: Compressing objects:  91% (266/292)\u001b[K\r",
      "remote: Compressing objects:  92% (269/292)\u001b[K\r",
      "remote: Compressing objects:  93% (272/292)\u001b[K\r",
      "remote: Compressing objects:  94% (275/292)\u001b[K\r",
      "remote: Compressing objects:  95% (278/292)\u001b[K\r",
      "remote: Compressing objects:  96% (281/292)\u001b[K\r",
      "remote: Compressing objects:  97% (284/292)\u001b[K\r",
      "remote: Compressing objects:  98% (287/292)\u001b[K\r",
      "remote: Compressing objects:  99% (290/292)\u001b[K\r",
      "remote: Compressing objects: 100% (292/292)\u001b[K\r",
      "remote: Compressing objects: 100% (292/292), done.\u001b[K\r\n",
      "Receiving objects:   0% (1/14047)   \r",
      "Receiving objects:   1% (141/14047)   \r"
     ]
    },
    {
     "name": "stdout",
     "output_type": "stream",
     "text": [
      "Receiving objects:   2% (281/14047)   \r",
      "Receiving objects:   3% (422/14047)   \r"
     ]
    },
    {
     "name": "stdout",
     "output_type": "stream",
     "text": [
      "Receiving objects:   4% (562/14047)   \r",
      "Receiving objects:   5% (703/14047)   \r"
     ]
    },
    {
     "name": "stdout",
     "output_type": "stream",
     "text": [
      "Receiving objects:   6% (843/14047)   \r",
      "Receiving objects:   7% (984/14047)   \r",
      "Receiving objects:   8% (1124/14047)   \r",
      "Receiving objects:   9% (1265/14047)   \r"
     ]
    },
    {
     "name": "stdout",
     "output_type": "stream",
     "text": [
      "Receiving objects:  10% (1405/14047), 252.01 KiB | 447.00 KiB/s   \r",
      "Receiving objects:  11% (1546/14047), 252.01 KiB | 447.00 KiB/s   \r",
      "Receiving objects:  12% (1686/14047), 252.01 KiB | 447.00 KiB/s   \r",
      "Receiving objects:  13% (1827/14047), 252.01 KiB | 447.00 KiB/s   \r",
      "Receiving objects:  14% (1967/14047), 252.01 KiB | 447.00 KiB/s   \r",
      "Receiving objects:  15% (2108/14047), 252.01 KiB | 447.00 KiB/s   \r",
      "Receiving objects:  16% (2248/14047), 252.01 KiB | 447.00 KiB/s   \r",
      "Receiving objects:  17% (2388/14047), 252.01 KiB | 447.00 KiB/s   \r"
     ]
    },
    {
     "name": "stdout",
     "output_type": "stream",
     "text": [
      "Receiving objects:  18% (2529/14047), 252.01 KiB | 447.00 KiB/s   \r",
      "Receiving objects:  19% (2669/14047), 252.01 KiB | 447.00 KiB/s   \r",
      "Receiving objects:  20% (2810/14047), 252.01 KiB | 447.00 KiB/s   \r",
      "Receiving objects:  21% (2950/14047), 252.01 KiB | 447.00 KiB/s   \r"
     ]
    },
    {
     "name": "stdout",
     "output_type": "stream",
     "text": [
      "Receiving objects:  22% (3091/14047), 252.01 KiB | 447.00 KiB/s   \r"
     ]
    },
    {
     "name": "stdout",
     "output_type": "stream",
     "text": [
      "Receiving objects:  23% (3231/14047), 252.01 KiB | 447.00 KiB/s   \r"
     ]
    },
    {
     "name": "stdout",
     "output_type": "stream",
     "text": [
      "Receiving objects:  24% (3372/14047), 252.01 KiB | 447.00 KiB/s   \r",
      "Receiving objects:  25% (3512/14047), 252.01 KiB | 447.00 KiB/s   \r",
      "Receiving objects:  26% (3653/14047), 252.01 KiB | 447.00 KiB/s   \r",
      "Receiving objects:  27% (3793/14047), 252.01 KiB | 447.00 KiB/s   \r",
      "Receiving objects:  28% (3934/14047), 252.01 KiB | 447.00 KiB/s   \r",
      "Receiving objects:  29% (4074/14047), 252.01 KiB | 447.00 KiB/s   \r",
      "Receiving objects:  30% (4215/14047), 252.01 KiB | 447.00 KiB/s   \r",
      "Receiving objects:  31% (4355/14047), 252.01 KiB | 447.00 KiB/s   \r",
      "Receiving objects:  32% (4496/14047), 252.01 KiB | 447.00 KiB/s   \r"
     ]
    },
    {
     "name": "stdout",
     "output_type": "stream",
     "text": [
      "Receiving objects:  33% (4636/14047), 252.01 KiB | 447.00 KiB/s   \r",
      "Receiving objects:  34% (4776/14047), 252.01 KiB | 447.00 KiB/s   \r"
     ]
    },
    {
     "name": "stdout",
     "output_type": "stream",
     "text": [
      "Receiving objects:  34% (4801/14047), 2.36 MiB | 2.11 MiB/s   \r",
      "Receiving objects:  35% (4917/14047), 2.36 MiB | 2.11 MiB/s   \r",
      "Receiving objects:  36% (5057/14047), 2.36 MiB | 2.11 MiB/s   \r",
      "Receiving objects:  37% (5198/14047), 2.36 MiB | 2.11 MiB/s   \r",
      "Receiving objects:  38% (5338/14047), 2.36 MiB | 2.11 MiB/s   \r",
      "Receiving objects:  39% (5479/14047), 2.36 MiB | 2.11 MiB/s   \r",
      "Receiving objects:  40% (5619/14047), 2.36 MiB | 2.11 MiB/s   \r",
      "Receiving objects:  41% (5760/14047), 2.36 MiB | 2.11 MiB/s   \r",
      "Receiving objects:  42% (5900/14047), 2.36 MiB | 2.11 MiB/s   \r",
      "Receiving objects:  43% (6041/14047), 2.36 MiB | 2.11 MiB/s   \r",
      "Receiving objects:  44% (6181/14047), 2.36 MiB | 2.11 MiB/s   \r",
      "Receiving objects:  45% (6322/14047), 2.36 MiB | 2.11 MiB/s   \r",
      "Receiving objects:  46% (6462/14047), 2.36 MiB | 2.11 MiB/s   \r",
      "Receiving objects:  47% (6603/14047), 2.36 MiB | 2.11 MiB/s   \r",
      "Receiving objects:  48% (6743/14047), 2.36 MiB | 2.11 MiB/s   \r",
      "Receiving objects:  49% (6884/14047), 2.36 MiB | 2.11 MiB/s   \r",
      "Receiving objects:  50% (7024/14047), 2.36 MiB | 2.11 MiB/s   \r",
      "Receiving objects:  51% (7164/14047), 2.36 MiB | 2.11 MiB/s   \r",
      "Receiving objects:  52% (7305/14047), 2.36 MiB | 2.11 MiB/s   \r",
      "Receiving objects:  53% (7445/14047), 2.36 MiB | 2.11 MiB/s   \r",
      "Receiving objects:  54% (7586/14047), 2.36 MiB | 2.11 MiB/s   \r",
      "Receiving objects:  55% (7726/14047), 2.36 MiB | 2.11 MiB/s   \r",
      "Receiving objects:  56% (7867/14047), 2.36 MiB | 2.11 MiB/s   \r",
      "Receiving objects:  57% (8007/14047), 2.36 MiB | 2.11 MiB/s   \r",
      "Receiving objects:  58% (8148/14047), 2.36 MiB | 2.11 MiB/s   \r",
      "Receiving objects:  59% (8288/14047), 2.36 MiB | 2.11 MiB/s   \r",
      "Receiving objects:  60% (8429/14047), 2.36 MiB | 2.11 MiB/s   \r"
     ]
    },
    {
     "name": "stdout",
     "output_type": "stream",
     "text": [
      "Receiving objects:  61% (8569/14047), 2.36 MiB | 2.11 MiB/s   \r",
      "Receiving objects:  62% (8710/14047), 2.36 MiB | 2.11 MiB/s   \r",
      "Receiving objects:  63% (8850/14047), 2.36 MiB | 2.11 MiB/s   \r",
      "Receiving objects:  64% (8991/14047), 2.36 MiB | 2.11 MiB/s   \r",
      "Receiving objects:  65% (9131/14047), 2.36 MiB | 2.11 MiB/s   \r",
      "Receiving objects:  66% (9272/14047), 2.36 MiB | 2.11 MiB/s   \r",
      "Receiving objects:  67% (9412/14047), 2.36 MiB | 2.11 MiB/s   \r",
      "Receiving objects:  68% (9552/14047), 2.36 MiB | 2.11 MiB/s   \r",
      "Receiving objects:  69% (9693/14047), 2.36 MiB | 2.11 MiB/s   \r",
      "Receiving objects:  70% (9833/14047), 2.36 MiB | 2.11 MiB/s   \r",
      "Receiving objects:  71% (9974/14047), 2.36 MiB | 2.11 MiB/s   \r",
      "Receiving objects:  72% (10114/14047), 2.36 MiB | 2.11 MiB/s   \r",
      "Receiving objects:  73% (10255/14047), 2.36 MiB | 2.11 MiB/s   \r",
      "Receiving objects:  74% (10395/14047), 2.36 MiB | 2.11 MiB/s   \r",
      "Receiving objects:  75% (10536/14047), 2.36 MiB | 2.11 MiB/s   \r",
      "Receiving objects:  76% (10676/14047), 2.36 MiB | 2.11 MiB/s   \r",
      "Receiving objects:  77% (10817/14047), 2.36 MiB | 2.11 MiB/s   \r",
      "Receiving objects:  78% (10957/14047), 2.36 MiB | 2.11 MiB/s   \r",
      "Receiving objects:  79% (11098/14047), 2.36 MiB | 2.11 MiB/s   \r",
      "Receiving objects:  80% (11238/14047), 2.36 MiB | 2.11 MiB/s   \r",
      "Receiving objects:  81% (11379/14047), 2.36 MiB | 2.11 MiB/s   \r",
      "Receiving objects:  82% (11519/14047), 2.36 MiB | 2.11 MiB/s   \r",
      "Receiving objects:  83% (11660/14047), 2.36 MiB | 2.11 MiB/s   \r",
      "Receiving objects:  84% (11800/14047), 2.36 MiB | 2.11 MiB/s   \r"
     ]
    },
    {
     "name": "stdout",
     "output_type": "stream",
     "text": [
      "Receiving objects:  85% (11940/14047), 2.36 MiB | 2.11 MiB/s   \r",
      "Receiving objects:  86% (12081/14047), 2.36 MiB | 2.11 MiB/s   \r",
      "Receiving objects:  87% (12221/14047), 2.36 MiB | 2.11 MiB/s   \r",
      "Receiving objects:  88% (12362/14047), 2.36 MiB | 2.11 MiB/s   \r"
     ]
    },
    {
     "name": "stdout",
     "output_type": "stream",
     "text": [
      "Receiving objects:  89% (12502/14047), 2.36 MiB | 2.11 MiB/s   \r",
      "Receiving objects:  90% (12643/14047), 2.36 MiB | 2.11 MiB/s   \r",
      "Receiving objects:  91% (12783/14047), 2.36 MiB | 2.11 MiB/s   \r",
      "Receiving objects:  92% (12924/14047), 2.36 MiB | 2.11 MiB/s   \r",
      "Receiving objects:  93% (13064/14047), 2.36 MiB | 2.11 MiB/s   \r",
      "Receiving objects:  94% (13205/14047), 2.36 MiB | 2.11 MiB/s   \r",
      "Receiving objects:  95% (13345/14047), 2.36 MiB | 2.11 MiB/s   \r",
      "Receiving objects:  96% (13486/14047), 2.36 MiB | 2.11 MiB/s   \r",
      "Receiving objects:  97% (13626/14047), 2.36 MiB | 2.11 MiB/s   \r",
      "Receiving objects:  98% (13767/14047), 2.36 MiB | 2.11 MiB/s   \r"
     ]
    },
    {
     "name": "stdout",
     "output_type": "stream",
     "text": [
      "remote: Total 14047 (delta 107), reused 121 (delta 55), pack-reused 13687\u001b[K\r\n",
      "Receiving objects:  99% (13907/14047), 2.36 MiB | 2.11 MiB/s   \r",
      "Receiving objects: 100% (14047/14047), 2.36 MiB | 2.11 MiB/s   \r",
      "Receiving objects: 100% (14047/14047), 5.76 MiB | 4.22 MiB/s, done.\r\n",
      "Resolving deltas:   0% (0/7987)   \r",
      "Resolving deltas:   1% (101/7987)   \r",
      "Resolving deltas:   2% (183/7987)   \r",
      "Resolving deltas:   3% (248/7987)   \r",
      "Resolving deltas:   4% (333/7987)   \r",
      "Resolving deltas:   5% (402/7987)   \r",
      "Resolving deltas:   6% (481/7987)   \r",
      "Resolving deltas:   7% (562/7987)   \r",
      "Resolving deltas:   8% (641/7987)   \r",
      "Resolving deltas:   9% (727/7987)   \r",
      "Resolving deltas:  10% (803/7987)   \r",
      "Resolving deltas:  11% (881/7987)   \r",
      "Resolving deltas:  12% (960/7987)   \r",
      "Resolving deltas:  13% (1040/7987)   \r",
      "Resolving deltas:  14% (1124/7987)   \r",
      "Resolving deltas:  15% (1205/7987)   \r",
      "Resolving deltas:  16% (1278/7987)   \r",
      "Resolving deltas:  17% (1363/7987)   \r",
      "Resolving deltas:  18% (1447/7987)   \r",
      "Resolving deltas:  19% (1518/7987)   \r",
      "Resolving deltas:  20% (1611/7987)   \r",
      "Resolving deltas:  21% (1680/7987)   \r",
      "Resolving deltas:  22% (1773/7987)   \r",
      "Resolving deltas:  23% (1848/7987)   \r",
      "Resolving deltas:  24% (1919/7987)   \r",
      "Resolving deltas:  25% (2016/7987)   \r"
     ]
    },
    {
     "name": "stdout",
     "output_type": "stream",
     "text": [
      "Resolving deltas:  26% (2119/7987)   \r",
      "Resolving deltas:  28% (2316/7987)   \r",
      "Resolving deltas:  29% (2362/7987)   \r",
      "Resolving deltas:  31% (2527/7987)   \r",
      "Resolving deltas:  32% (2566/7987)   \r",
      "Resolving deltas:  33% (2639/7987)   \r",
      "Resolving deltas:  34% (2716/7987)   \r",
      "Resolving deltas:  35% (2799/7987)   \r",
      "Resolving deltas:  36% (2881/7987)   \r",
      "Resolving deltas:  37% (2981/7987)   \r",
      "Resolving deltas:  38% (3091/7987)   \r",
      "Resolving deltas:  40% (3263/7987)   \r",
      "Resolving deltas:  41% (3283/7987)   \r",
      "Resolving deltas:  43% (3485/7987)   \r",
      "Resolving deltas:  44% (3540/7987)   \r",
      "Resolving deltas:  45% (3627/7987)   \r",
      "Resolving deltas:  46% (3692/7987)   \r",
      "Resolving deltas:  47% (3789/7987)   \r",
      "Resolving deltas:  48% (3838/7987)   \r",
      "Resolving deltas:  49% (3924/7987)   \r",
      "Resolving deltas:  54% (4392/7987)   \r",
      "Resolving deltas:  55% (4427/7987)   \r",
      "Resolving deltas:  57% (4582/7987)   \r",
      "Resolving deltas:  58% (4637/7987)   \r",
      "Resolving deltas:  59% (4718/7987)   \r",
      "Resolving deltas:  60% (4822/7987)   \r",
      "Resolving deltas:  61% (4878/7987)   \r",
      "Resolving deltas:  62% (4959/7987)   \r",
      "Resolving deltas:  63% (5050/7987)   \r",
      "Resolving deltas:  64% (5165/7987)   \r",
      "Resolving deltas:  65% (5250/7987)   \r",
      "Resolving deltas:  66% (5274/7987)   \r",
      "Resolving deltas:  67% (5396/7987)   \r",
      "Resolving deltas:  68% (5438/7987)   \r"
     ]
    },
    {
     "name": "stdout",
     "output_type": "stream",
     "text": [
      "Resolving deltas:  69% (5520/7987)   \r",
      "Resolving deltas:  70% (5597/7987)   \r",
      "Resolving deltas:  71% (5675/7987)   \r",
      "Resolving deltas:  72% (5754/7987)   \r",
      "Resolving deltas:  73% (5835/7987)   \r",
      "Resolving deltas:  74% (5913/7987)   \r",
      "Resolving deltas:  75% (5994/7987)   \r",
      "Resolving deltas:  76% (6075/7987)   \r",
      "Resolving deltas:  77% (6151/7987)   \r",
      "Resolving deltas:  78% (6230/7987)   \r",
      "Resolving deltas:  79% (6311/7987)   \r",
      "Resolving deltas:  80% (6395/7987)   \r",
      "Resolving deltas:  81% (6471/7987)   \r",
      "Resolving deltas:  82% (6550/7987)   \r",
      "Resolving deltas:  83% (6631/7987)   \r",
      "Resolving deltas:  84% (6712/7987)   \r",
      "Resolving deltas:  85% (6796/7987)   \r",
      "Resolving deltas:  86% (6871/7987)   \r",
      "Resolving deltas:  87% (6963/7987)   \r",
      "Resolving deltas:  88% (7031/7987)   \r",
      "Resolving deltas:  89% (7109/7987)   \r",
      "Resolving deltas:  90% (7189/7987)   \r",
      "Resolving deltas:  91% (7270/7987)   \r",
      "Resolving deltas:  92% (7354/7987)   \r",
      "Resolving deltas:  93% (7430/7987)   \r",
      "Resolving deltas:  94% (7509/7987)   \r",
      "Resolving deltas:  95% (7589/7987)   \r",
      "Resolving deltas:  96% (7671/7987)   \r",
      "Resolving deltas:  97% (7748/7987)   \r",
      "Resolving deltas:  98% (7828/7987)   \r",
      "Resolving deltas:  99% (7908/7987)   \r",
      "Resolving deltas: 100% (7987/7987)   \r",
      "Resolving deltas: 100% (7987/7987), done.\r\n"
     ]
    }
   ],
   "source": [
    "!git clone https://github.com/kpu/kenlm"
   ]
  },
  {
   "cell_type": "code",
   "execution_count": 6,
   "id": "competent-recycling",
   "metadata": {
    "execution": {
     "iopub.execute_input": "2021-06-09T11:56:10.174116Z",
     "iopub.status.busy": "2021-06-09T11:56:10.173440Z",
     "iopub.status.idle": "2021-06-09T11:56:17.820568Z",
     "shell.execute_reply": "2021-06-09T11:56:17.819750Z",
     "shell.execute_reply.started": "2021-05-31T13:58:12.001162Z"
    },
    "papermill": {
     "duration": 7.68841,
     "end_time": "2021-06-09T11:56:17.820725",
     "exception": false,
     "start_time": "2021-06-09T11:56:10.132315",
     "status": "completed"
    },
    "tags": []
   },
   "outputs": [],
   "source": [
    "%%capture\n",
    "!apt-get -y install libeigen3-dev liblzma-dev zlib1g-dev libbz2-dev"
   ]
  },
  {
   "cell_type": "code",
   "execution_count": 7,
   "id": "intended-powder",
   "metadata": {
    "execution": {
     "iopub.execute_input": "2021-06-09T11:56:17.891595Z",
     "iopub.status.busy": "2021-06-09T11:56:17.890685Z",
     "iopub.status.idle": "2021-06-09T11:57:34.057766Z",
     "shell.execute_reply": "2021-06-09T11:57:34.056512Z"
    },
    "papermill": {
     "duration": 76.206492,
     "end_time": "2021-06-09T11:57:34.057943",
     "exception": false,
     "start_time": "2021-06-09T11:56:17.851451",
     "status": "completed"
    },
    "tags": []
   },
   "outputs": [],
   "source": [
    "\n",
    "%%capture\n",
    "%cd kenlm\n",
    "!mkdir build\n",
    "%cd build\n",
    "!cmake ..\n",
    "!make -j 4\n",
    "%cd /tmp"
   ]
  },
  {
   "cell_type": "code",
   "execution_count": 8,
   "id": "forbidden-batman",
   "metadata": {
    "execution": {
     "iopub.execute_input": "2021-06-09T11:57:34.124715Z",
     "iopub.status.busy": "2021-06-09T11:57:34.123837Z",
     "iopub.status.idle": "2021-06-09T11:58:17.270799Z",
     "shell.execute_reply": "2021-06-09T11:58:17.270163Z",
     "shell.execute_reply.started": "2021-05-31T14:00:27.915818Z"
    },
    "papermill": {
     "duration": 43.183697,
     "end_time": "2021-06-09T11:58:17.270991",
     "exception": false,
     "start_time": "2021-06-09T11:57:34.087294",
     "status": "completed"
    },
    "tags": []
   },
   "outputs": [],
   "source": [
    "%%capture\n",
    "%cd /tmp/kenlm\n",
    "!python setup.py install\n",
    "%cd /tmp"
   ]
  },
  {
   "cell_type": "code",
   "execution_count": 9,
   "id": "juvenile-happiness",
   "metadata": {
    "execution": {
     "iopub.execute_input": "2021-06-09T11:58:17.337098Z",
     "iopub.status.busy": "2021-06-09T11:58:17.336072Z",
     "iopub.status.idle": "2021-06-09T11:58:17.338300Z",
     "shell.execute_reply": "2021-06-09T11:58:17.338897Z",
     "shell.execute_reply.started": "2021-05-25T22:58:58.397816Z"
    },
    "papermill": {
     "duration": 0.038023,
     "end_time": "2021-06-09T11:58:17.339083",
     "exception": false,
     "start_time": "2021-06-09T11:58:17.301060",
     "status": "completed"
    },
    "tags": []
   },
   "outputs": [],
   "source": [
    "import os\n",
    "os.environ['PATH'] = f\"{os.environ['PATH']}:/tmp/kenlm/build/bin/\"\n",
    "os.environ['FAIRSEQ_ROOT'] = '/tmp/fairseq'"
   ]
  },
  {
   "cell_type": "code",
   "execution_count": 10,
   "id": "responsible-milton",
   "metadata": {
    "execution": {
     "iopub.execute_input": "2021-06-09T11:58:17.401370Z",
     "iopub.status.busy": "2021-06-09T11:58:17.400422Z",
     "iopub.status.idle": "2021-06-09T11:58:17.407747Z",
     "shell.execute_reply": "2021-06-09T11:58:17.407198Z",
     "shell.execute_reply.started": "2021-05-31T11:51:49.832574Z"
    },
    "papermill": {
     "duration": 0.039894,
     "end_time": "2021-06-09T11:58:17.407912",
     "exception": false,
     "start_time": "2021-06-09T11:58:17.368018",
     "status": "completed"
    },
    "tags": []
   },
   "outputs": [
    {
     "name": "stdout",
     "output_type": "stream",
     "text": [
      "/tmp/fairseq\n"
     ]
    }
   ],
   "source": [
    "%cd /tmp/fairseq/"
   ]
  },
  {
   "cell_type": "code",
   "execution_count": 11,
   "id": "ultimate-philadelphia",
   "metadata": {
    "execution": {
     "iopub.execute_input": "2021-06-09T11:58:17.478886Z",
     "iopub.status.busy": "2021-06-09T11:58:17.473356Z",
     "iopub.status.idle": "2021-06-09T11:59:43.412989Z",
     "shell.execute_reply": "2021-06-09T11:59:43.413677Z"
    },
    "papermill": {
     "duration": 85.976743,
     "end_time": "2021-06-09T11:59:43.413889",
     "exception": false,
     "start_time": "2021-06-09T11:58:17.437146",
     "status": "completed"
    },
    "tags": []
   },
   "outputs": [],
   "source": [
    "%%capture\n",
    "!python setup.py install"
   ]
  },
  {
   "cell_type": "code",
   "execution_count": 12,
   "id": "peripheral-lindsay",
   "metadata": {
    "execution": {
     "iopub.execute_input": "2021-06-09T11:59:43.481704Z",
     "iopub.status.busy": "2021-06-09T11:59:43.480718Z",
     "iopub.status.idle": "2021-06-09T11:59:43.488576Z",
     "shell.execute_reply": "2021-06-09T11:59:43.487905Z"
    },
    "papermill": {
     "duration": 0.042018,
     "end_time": "2021-06-09T11:59:43.488718",
     "exception": false,
     "start_time": "2021-06-09T11:59:43.446700",
     "status": "completed"
    },
    "tags": []
   },
   "outputs": [
    {
     "name": "stdout",
     "output_type": "stream",
     "text": [
      "/tmp/fairseq\n"
     ]
    }
   ],
   "source": [
    "%cd /tmp/fairseq/"
   ]
  },
  {
   "cell_type": "code",
   "execution_count": 13,
   "id": "hispanic-harvey",
   "metadata": {
    "execution": {
     "iopub.execute_input": "2021-06-09T11:59:43.554328Z",
     "iopub.status.busy": "2021-06-09T11:59:43.553019Z",
     "iopub.status.idle": "2021-06-09T11:59:43.557663Z",
     "shell.execute_reply": "2021-06-09T11:59:43.556657Z"
    },
    "papermill": {
     "duration": 0.039644,
     "end_time": "2021-06-09T11:59:43.557906",
     "exception": false,
     "start_time": "2021-06-09T11:59:43.518262",
     "status": "completed"
    },
    "tags": []
   },
   "outputs": [],
   "source": [
    "os.environ['HYDRA_FULL_ERROR'] = '1'"
   ]
  },
  {
   "cell_type": "code",
   "execution_count": 14,
   "id": "worst-access",
   "metadata": {
    "execution": {
     "iopub.execute_input": "2021-06-09T11:59:43.631083Z",
     "iopub.status.busy": "2021-06-09T11:59:43.630412Z",
     "iopub.status.idle": "2021-06-09T11:59:54.319278Z",
     "shell.execute_reply": "2021-06-09T11:59:54.319915Z"
    },
    "papermill": {
     "duration": 10.72958,
     "end_time": "2021-06-09T11:59:54.320181",
     "exception": false,
     "start_time": "2021-06-09T11:59:43.590601",
     "status": "completed"
    },
    "tags": []
   },
   "outputs": [],
   "source": [
    "%%capture\n",
    "!pip install editdistance"
   ]
  },
  {
   "cell_type": "markdown",
   "id": "realistic-token",
   "metadata": {
    "papermill": {
     "duration": 0.02968,
     "end_time": "2021-06-09T11:59:54.381497",
     "exception": false,
     "start_time": "2021-06-09T11:59:54.351817",
     "status": "completed"
    },
    "tags": []
   },
   "source": [
    "## GAN"
   ]
  },
  {
   "cell_type": "code",
   "execution_count": 15,
   "id": "acute-livestock",
   "metadata": {
    "execution": {
     "iopub.execute_input": "2021-06-09T11:59:54.445168Z",
     "iopub.status.busy": "2021-06-09T11:59:54.444557Z",
     "iopub.status.idle": "2021-06-09T11:59:54.451811Z",
     "shell.execute_reply": "2021-06-09T11:59:54.452340Z"
    },
    "papermill": {
     "duration": 0.040975,
     "end_time": "2021-06-09T11:59:54.452540",
     "exception": false,
     "start_time": "2021-06-09T11:59:54.411565",
     "status": "completed"
    },
    "tags": []
   },
   "outputs": [
    {
     "name": "stdout",
     "output_type": "stream",
     "text": [
      "Writing rungan.sh\n"
     ]
    }
   ],
   "source": [
    "%%writefile rungan.sh\n",
    "PREFIX=w2v_unsup_gan_xp\n",
    "#TASK_DATA=/path/to/features/unfiltered/precompute_unfiltered_pca512_cls128_mean_pooled\n",
    "TASK_DATA=/kaggle/input/wav2vec-u-cv-swedish-audio/precompute_pca512_cls128_mean_pooled/\n",
    "#TEXT_DATA=/path/to/data  # path to fairseq-preprocessed GAN data\n",
    "TEXT_DATA=/kaggle/input/wav2vec-u-cv-swedish-text-prep/preppedtext/phones/\n",
    "#KENLM_PATH=/path/to/data/kenlm.phn.o4.bin  # KenLM 4-gram phoneme language model (LM data = GAN data here)\n",
    "KENLM_PATH=/kaggle/input/wav2vec-u-cv-swedish-text-prep/preppedtext/phones/lm.phones.filtered.04.bin\n",
    "\n",
    "PREFIX=$PREFIX fairseq-hydra-train \\\n",
    "\t-m --config-dir fairseq/config/model/wav2vecu/gan \\\n",
    "\t--config-name w2vu \\\n",
    "\ttask.data=${TASK_DATA} \\\n",
    "\ttask.text_data=${TEXT_DATA} \\\n",
    "\ttask.kenlm_path=${KENLM_PATH} \\\n",
    "\tcheckpoint.no_epoch_checkpoints=true \\\n",
    "\tcheckpoint.save_dir=/kaggle/working \\\n",
    "\t'common.seed=range(0,5)'"
   ]
  },
  {
   "cell_type": "code",
   "execution_count": 16,
   "id": "skilled-senator",
   "metadata": {
    "execution": {
     "iopub.execute_input": "2021-06-09T11:59:54.517646Z",
     "iopub.status.busy": "2021-06-09T11:59:54.516968Z"
    },
    "papermill": {
     "duration": null,
     "end_time": null,
     "exception": false,
     "start_time": "2021-06-09T11:59:54.483404",
     "status": "running"
    },
    "tags": []
   },
   "outputs": [
    {
     "name": "stdout",
     "output_type": "stream",
     "text": [
      "[2021-06-09 12:00:10,864][HYDRA] Launching 5 jobs locally\r\n",
      "[2021-06-09 12:00:10,864][HYDRA] \t#0 : task.data=/kaggle/input/wav2vec-u-cv-swedish-audio/precompute_pca512_cls128_mean_pooled/ task.text_data=/kaggle/input/wav2vec-u-cv-swedish-text-prep/preppedtext/phones/ task.kenlm_path=/kaggle/input/wav2vec-u-cv-swedish-text-prep/preppedtext/phones/lm.phones.filtered.04.bin checkpoint.no_epoch_checkpoints=True checkpoint.save_dir=/kaggle/working common.seed=0\r\n"
     ]
    },
    {
     "name": "stdout",
     "output_type": "stream",
     "text": [
      "[2021-06-09 12:00:13,402][fairseq_cli.train][INFO] - {'_name': None, 'common': {'_name': None, 'no_progress_bar': False, 'log_interval': 100, 'log_format': 'json', 'log_file': None, 'tensorboard_logdir': 'tb', 'wandb_project': None, 'azureml_logging': False, 'seed': 0, 'cpu': False, 'tpu': False, 'bf16': False, 'memory_efficient_bf16': False, 'fp16': False, 'memory_efficient_fp16': False, 'fp16_no_flatten_grads': True, 'fp16_init_scale': 128, 'fp16_scale_window': None, 'fp16_scale_tolerance': 0.0, 'min_loss_scale': 0.0001, 'threshold_loss_scale': None, 'amp': False, 'amp_batch_retries': 2, 'amp_init_scale': 128, 'amp_scale_window': None, 'user_dir': None, 'empty_cache_freq': 0, 'all_gather_list_size': 16384, 'model_parallel_size': 1, 'quantization_config_path': None, 'profile': False, 'reset_logging': False, 'suppress_crashes': False, 'use_plasma_view': False, 'plasma_path': '/tmp/plasma'}, 'common_eval': {'_name': None, 'path': None, 'post_process': None, 'quiet': False, 'model_overrides': '{}', 'results_path': None}, 'distributed_training': {'_name': None, 'distributed_world_size': 1, 'distributed_rank': 0, 'distributed_backend': 'nccl', 'distributed_init_method': None, 'distributed_port': -1, 'device_id': 0, 'distributed_no_spawn': False, 'ddp_backend': 'pytorch_ddp', 'ddp_comm_hook': 'none', 'bucket_cap_mb': 25, 'fix_batches_to_gpus': False, 'find_unused_parameters': False, 'fast_stat_sync': False, 'heartbeat_timeout': -1, 'broadcast_buffers': False, 'slowmo_momentum': None, 'slowmo_algorithm': 'LocalSGD', 'localsgd_frequency': 3, 'nprocs_per_node': 1, 'pipeline_model_parallel': False, 'pipeline_balance': None, 'pipeline_devices': None, 'pipeline_chunks': 0, 'pipeline_encoder_balance': None, 'pipeline_encoder_devices': None, 'pipeline_decoder_balance': None, 'pipeline_decoder_devices': None, 'pipeline_checkpoint': 'never', 'zero_sharding': 'none', 'fp16': False, 'memory_efficient_fp16': False, 'tpu': False, 'no_reshard_after_forward': False, 'fp32_reduce_scatter': False, 'cpu_offload': False, 'use_sharded_state': False, 'distributed_num_procs': 0}, 'dataset': {'_name': None, 'num_workers': 6, 'skip_invalid_size_inputs_valid_test': True, 'max_tokens': None, 'batch_size': 160, 'required_batch_size_multiple': 8, 'required_seq_len_multiple': 1, 'dataset_impl': None, 'data_buffer_size': 10, 'train_subset': 'train', 'valid_subset': 'valid', 'combine_valid_subsets': None, 'ignore_unused_valid_subsets': False, 'validate_interval': 1, 'validate_interval_updates': 0, 'validate_after_updates': 0, 'fixed_validation_seed': None, 'disable_validation': False, 'max_tokens_valid': None, 'batch_size_valid': 160, 'max_valid_steps': None, 'curriculum': 0, 'gen_subset': 'test', 'num_shards': 1, 'shard_id': 0}, 'optimization': {'_name': None, 'max_epoch': 0, 'max_update': 150000, 'stop_time_hours': 0.0, 'clip_norm': 5.0, 'sentence_avg': False, 'update_freq': [1], 'lr': [0.0], 'stop_min_lr': -1.0, 'use_bmuf': False}, 'checkpoint': {'_name': None, 'save_dir': '/kaggle/working', 'restore_file': 'checkpoint_last.pt', 'finetune_from_model': None, 'reset_dataloader': False, 'reset_lr_scheduler': False, 'reset_meters': False, 'reset_optimizer': False, 'optimizer_overrides': '{}', 'save_interval': 1, 'save_interval_updates': 0, 'keep_interval_updates': -1, 'keep_interval_updates_pattern': -1, 'keep_last_epochs': -1, 'keep_best_checkpoints': -1, 'no_save': False, 'no_epoch_checkpoints': True, 'no_last_checkpoints': False, 'no_save_optimizer_state': False, 'best_checkpoint_metric': 'weighted_lm_ppl', 'maximize_best_checkpoint_metric': False, 'patience': -1, 'checkpoint_suffix': '', 'checkpoint_shard_count': 1, 'load_checkpoint_on_all_dp_ranks': False, 'write_checkpoints_asynchronously': False, 'model_parallel_size': 1}, 'bmuf': {'_name': None, 'block_lr': 1.0, 'block_momentum': 0.875, 'global_sync_iter': 50, 'warmup_iterations': 500, 'use_nbm': False, 'average_sync': False, 'distributed_world_size': 1}, 'generation': {'_name': None, 'beam': 5, 'nbest': 1, 'max_len_a': 0.0, 'max_len_b': 200, 'min_len': 1, 'match_source_len': False, 'unnormalized': False, 'no_early_stop': False, 'no_beamable_mm': False, 'lenpen': 1.0, 'unkpen': 0.0, 'replace_unk': None, 'sacrebleu': False, 'score_reference': False, 'prefix_size': 0, 'no_repeat_ngram_size': 0, 'sampling': False, 'sampling_topk': -1, 'sampling_topp': -1.0, 'constraints': None, 'temperature': 1.0, 'diverse_beam_groups': -1, 'diverse_beam_strength': 0.5, 'diversity_rate': -1.0, 'print_alignment': None, 'print_step': False, 'lm_path': None, 'lm_weight': 0.0, 'iter_decode_eos_penalty': 0.0, 'iter_decode_max_iter': 10, 'iter_decode_force_max_iter': False, 'iter_decode_with_beam': 1, 'iter_decode_with_external_reranker': False, 'retain_iter_history': False, 'retain_dropout': False, 'retain_dropout_modules': None, 'decoding_format': None, 'no_seed_provided': False}, 'eval_lm': {'_name': None, 'output_word_probs': False, 'output_word_stats': False, 'context_window': 0, 'softmax_batch': 9223372036854775807}, 'interactive': {'_name': None, 'buffer_size': 0, 'input': '-'}, 'model': {'_name': 'wav2vec_u', 'discriminator_kernel': 6, 'discriminator_dilation': 1, 'discriminator_dim': 384, 'discriminator_causal': True, 'discriminator_linear_emb': False, 'discriminator_depth': 2, 'discriminator_max_pool': False, 'discriminator_act_after_linear': False, 'discriminator_dropout': 0.0, 'discriminator_spectral_norm': False, 'discriminator_weight_norm': False, 'generator_kernel': 4, 'generator_dilation': 1, 'generator_stride': 1, 'generator_bias': False, 'generator_dropout': 0.1, 'blank_weight': 0.0, 'blank_mode': 'add', 'blank_is_sil': False, 'no_softmax': False, 'smoothness_weight': 0.5, 'smoothing': 0.0, 'smoothing_one_sided': False, 'gradient_penalty': 1.5, 'probabilistic_grad_penalty_slicing': False, 'code_penalty': 4.0, 'gumbel': False, 'hard_gumbel': False, 'temp': [2.0, 0.1, 0.99995], 'input_dim': 512, 'wgan_loss': False, 'segmentation': {'_name': None, 'type': 'JOIN', 'subsample_rate': 0.25, 'mean_pool': True, 'mean_pool_join': False, 'remove_zeros': False}}, 'task': {'_name': 'gan_audio_pretraining_feats', 'data': '/kaggle/input/wav2vec-u-cv-swedish-audio/precompute_pca512_cls128_mean_pooled/', 'text_data': '/kaggle/input/wav2vec-u-cv-swedish-text-prep/preppedtext/phones/', 'max_length': None, 'labels': 'phn', 'unfiltered': False, 'ctc_eval': False, 'sort_by_length': False, 'shuffle': True, 'append_eos': False, 'uppercase': False, 'skipwords': '', 'kenlm_path': '/kaggle/input/wav2vec-u-cv-swedish-text-prep/preppedtext/phones/lm.phones.filtered.04.bin', 'vocab_usage_power': 2.0, 'word_decoder_config': None, 'word_kenlm_path': None, 'decoding_config': {'_name': None, 'kenlm_path': None, 'lm_weight': 0.0, 'blank_weight': 0.0}}, 'criterion': {'_name': 'model', 'loss_weights': {}, 'log_keys': ['accuracy_dense', 'accuracy_token', 'temp', 'code_ppl']}, 'optimizer': {'_name': 'composite', 'groups': {'generator': {'lr': [0.0004], 'lr_float': None, 'optimizer': {'_name': 'adam', 'adam_betas': [0.5, 0.98], 'adam_eps': 1e-06, 'weight_decay': 0, 'amsgrad': False}, 'lr_scheduler': {'_name': 'fixed', 'warmup_updates': 0}}, 'discriminator': {'lr': [0.0005], 'lr_float': None, 'optimizer': {'_name': 'adam', 'adam_betas': [0.5, 0.98], 'adam_eps': 1e-06, 'weight_decay': 0.0001, 'amsgrad': False}, 'lr_scheduler': {'_name': 'fixed', 'warmup_updates': 0}}}}, 'lr_scheduler': {'_name': 'pass_through'}, 'scoring': None, 'bpe': None, 'tokenizer': None, 'job_logging_cfg': {'version': 1, 'formatters': {'simple': {'format': '[%(asctime)s][%(name)s][%(levelname)s] - %(message)s'}}, 'handlers': {'console': {'class': 'logging.StreamHandler', 'formatter': 'simple', 'stream': 'ext://sys.stdout'}, 'file': {'class': 'logging.FileHandler', 'formatter': 'simple', 'filename': 'hydra_train.log'}}, 'root': {'level': 'INFO', 'handlers': ['console', 'file']}, 'disable_existing_loggers': False}}\r\n"
     ]
    },
    {
     "name": "stdout",
     "output_type": "stream",
     "text": [
      "[2021-06-09 12:00:13,534][fairseq_cli.train][INFO] - Wav2vec_U(\r\n",
      "  (discriminator): Discriminator(\r\n",
      "    (net): Sequential(\r\n",
      "      (0): Conv1d(45, 384, kernel_size=(6,), stride=(1,), padding=(5,))\r\n",
      "      (1): SamePad()\r\n",
      "      (2): Dropout(p=0.0, inplace=False)\r\n",
      "      (3): Sequential(\r\n",
      "        (0): Conv1d(384, 384, kernel_size=(6,), stride=(1,), padding=(5,))\r\n",
      "        (1): SamePad()\r\n",
      "        (2): Dropout(p=0.0, inplace=False)\r\n",
      "        (3): GELU()\r\n",
      "      )\r\n",
      "      (4): Conv1d(384, 1, kernel_size=(6,), stride=(1,), padding=(5,))\r\n",
      "      (5): SamePad()\r\n",
      "    )\r\n",
      "  )\r\n",
      "  (segmenter): JoinSegmenter()\r\n",
      "  (generator): Generator(\r\n",
      "    (dropout): Dropout(p=0.1, inplace=False)\r\n",
      "    (proj): Sequential(\r\n",
      "      (0): TransposeLast()\r\n",
      "      (1): Conv1d(512, 45, kernel_size=(4,), stride=(1,), padding=(2,), bias=False)\r\n",
      "      (2): TransposeLast()\r\n",
      "    )\r\n",
      "  )\r\n",
      ")\r\n",
      "[2021-06-09 12:00:13,535][fairseq_cli.train][INFO] - task: UnpairedAudioText\r\n",
      "[2021-06-09 12:00:13,535][fairseq_cli.train][INFO] - model: Wav2vec_U\r\n",
      "[2021-06-09 12:00:13,535][fairseq_cli.train][INFO] - criterion: ModelCriterion\r\n",
      "[2021-06-09 12:00:13,536][fairseq_cli.train][INFO] - num. shared model params: 1,083,649 (num. trained: 1,083,649)\r\n",
      "[2021-06-09 12:00:13,536][fairseq_cli.train][INFO] - num. expert model params: 0 (num. trained: 0)\r\n"
     ]
    },
    {
     "name": "stdout",
     "output_type": "stream",
     "text": [
      "[2021-06-09 12:00:13,651][fairseq.data.extracted_features_dataset][INFO] - loaded 2019, skipped 0 samples\r\n",
      "[2021-06-09 12:00:13,651][fairseq.tasks.unpaired_audio_text][INFO] - split valid has unpaired text? False\r\n",
      "[2021-06-09 12:00:13,662][fairseq_cli.train][INFO] - training on 1 devices (GPUs/TPUs)\r\n",
      "[2021-06-09 12:00:13,662][fairseq_cli.train][INFO] - max tokens per device = None and max sentences per device = 160\r\n",
      "[2021-06-09 12:00:13,664][fairseq.trainer][INFO] - Preparing to load checkpoint /kaggle/working/checkpoint_last.pt\r\n"
     ]
    },
    {
     "name": "stdout",
     "output_type": "stream",
     "text": [
      "[2021-06-09 12:00:14,000][fairseq.trainer][INFO] - Loaded checkpoint /kaggle/working/checkpoint_last.pt (epoch 5337 @ 85376 updates)\r\n",
      "[2021-06-09 12:00:14,000][fairseq.trainer][INFO] - loading train data for epoch 5337\r\n"
     ]
    },
    {
     "name": "stdout",
     "output_type": "stream",
     "text": [
      "[2021-06-09 12:00:14,074][fairseq.data.extracted_features_dataset][INFO] - loaded 2331, skipped 0 samples\r\n",
      "[2021-06-09 12:00:14,074][fairseq.tasks.unpaired_audio_text][INFO] - split train has unpaired text? True\r\n"
     ]
    },
    {
     "name": "stdout",
     "output_type": "stream",
     "text": [
      "[2021-06-09 12:00:14,104][fairseq.data.data_utils][INFO] - loaded 2,328 examples from: /kaggle/input/wav2vec-u-cv-swedish-text-prep/preppedtext/phones/train\r\n"
     ]
    },
    {
     "name": "stdout",
     "output_type": "stream",
     "text": [
      "[2021-06-09 12:00:15,832][fairseq.trainer][INFO] - begin training epoch 5337\r\n",
      "[2021-06-09 12:00:15,834][fairseq_cli.train][INFO] - Start iterating over samples\r\n"
     ]
    },
    {
     "name": "stdout",
     "output_type": "stream",
     "text": [
      "[2021-06-09 12:04:44,452][fairseq_cli.train][INFO] - begin validation on \"valid\" subset\r\n"
     ]
    },
    {
     "name": "stdout",
     "output_type": "stream",
     "text": [
      "[2021-06-09 12:04:48,348][fairseq.tasks.unpaired_audio_text][INFO] - REF: ɛ n f œ ʂ ə n a d ɵ ʂ ə k t f øː r d eː t s ɔ m h ɛ n d ə p oː ɕ œ r k ɔ n s ɛ t ə n\r\n",
      "[2021-06-09 12:04:48,351][fairseq.tasks.unpaired_audio_text][INFO] - HYP: n ɪ n s j œ r œ j ʃ j uː œ yː k ə uː f œ v j m ə m œ k ə uː s eː r n v oː s ɪ ŋ k ɪ l s uː t a n t a\r\n",
      "[2021-06-09 12:04:48,355][fairseq.tasks.unpaired_audio_text][INFO] - LM [REF]: -53.44462585449219, 0.05339602260269112\r\n",
      "[2021-06-09 12:04:48,355][fairseq.tasks.unpaired_audio_text][INFO] - LM [HYP]: -86.93559265136719, 0.015446917241104275\r\n"
     ]
    },
    {
     "name": "stdout",
     "output_type": "stream",
     "text": [
      "[2021-06-09 12:04:55,406][valid][INFO] - {\"epoch\": 5337, \"valid_loss\": \"1.001\", \"valid_ntokens\": \"3039.79\", \"valid_nsentences\": \"144.214\", \"valid_lm_score_sum\": \"-89582.2\", \"valid_num_pred_chars\": \"48386\", \"valid_vocab_seen_pct\": \"0.885017\", \"valid_uer\": \"100.078\", \"valid_weighted_lm_ppl\": \"76.4444\", \"valid_lm_ppl\": \"59.8755\", \"valid_wps\": \"15884.2\", \"valid_wpb\": \"3039.8\", \"valid_bsz\": \"144.2\", \"valid_num_updates\": \"85392\", \"valid_best_weighted_lm_ppl\": \"73.0296\"}\r\n",
      "[2021-06-09 12:04:55,412][fairseq.checkpoint_utils][INFO] - Preparing to save checkpoint for epoch 5337 @ 85392 updates\r\n",
      "[2021-06-09 12:04:55,414][fairseq.trainer][INFO] - Saving checkpoint to /kaggle/working/checkpoint_last.pt\r\n"
     ]
    },
    {
     "name": "stdout",
     "output_type": "stream",
     "text": [
      "[2021-06-09 12:04:55,464][fairseq.trainer][INFO] - Finished saving checkpoint to /kaggle/working/checkpoint_last.pt\r\n",
      "[2021-06-09 12:04:55,464][fairseq.checkpoint_utils][INFO] - Saved checkpoint /kaggle/working/checkpoint_last.pt (epoch 5337 @ 85392 updates, score 76.44437178252171) (writing took 0.052071291000174824 seconds)\r\n",
      "[2021-06-09 12:04:55,465][fairseq_cli.train][INFO] - end of epoch 5337 (average epoch stats below)\r\n",
      "[2021-06-09 12:04:55,471][train][INFO] - {\"epoch\": 5337, \"train_loss\": \"3.072\", \"train_ntokens\": \"145.688\", \"train_nsentences\": \"145.688\", \"train_temp\": \"0.1\", \"train_code_ppl\": \"8.629\", \"train_loss_code_pen\": \"0.322\", \"train_loss_smoothness\": \"2.053\", \"train_loss_dense_g\": \"4.291\", \"train_lm_score_sum\": 0.0, \"train_num_pred_chars\": 0.0, \"train_loss_grad_pen\": \"0.074\", \"train_loss_dense_d\": \"0.025\", \"train_loss_token_d\": \"0.023\", \"train_wps\": \"7.9\", \"train_ups\": \"0.05\", \"train_wpb\": \"145.7\", \"train_bsz\": \"145.7\", \"train_num_updates\": \"85392\", \"train_lr_discriminator\": \"0.0005\", \"train_lr_generator\": \"0.0004\", \"train_gnorm\": \"30.253\", \"train_clip\": \"81.2\", \"train_train_wall\": \"268\", \"train_wall\": \"282\"}\r\n"
     ]
    },
    {
     "name": "stdout",
     "output_type": "stream",
     "text": [
      "[2021-06-09 12:04:55,524][fairseq.trainer][INFO] - begin training epoch 5338\r\n",
      "[2021-06-09 12:04:55,526][fairseq_cli.train][INFO] - Start iterating over samples\r\n"
     ]
    },
    {
     "name": "stdout",
     "output_type": "stream",
     "text": [
      "[2021-06-09 12:07:07,403][train_inner][INFO] - {\"epoch\": 5338, \"update\": 5337.5, \"loss\": \"3.001\", \"ntokens\": \"143.917\", \"nsentences\": \"143.917\", \"temp\": \"0.1\", \"code_ppl\": \"8.754\", \"loss_code_pen\": \"0.328\", \"loss_smoothness\": \"2.077\", \"loss_dense_g\": \"4.202\", \"lm_score_sum\": 0.0, \"num_pred_chars\": 0.0, \"loss_grad_pen\": \"0.073\", \"loss_dense_d\": \"0.024\", \"loss_token_d\": \"0.023\", \"wps\": \"8.1\", \"ups\": \"0.06\", \"wpb\": \"143.9\", \"bsz\": \"143.9\", \"num_updates\": \"85400\", \"lr_discriminator\": \"0.0005\", \"lr_generator\": \"0.0004\", \"gnorm\": \"30.432\", \"clip\": \"83.3\", \"train_wall\": \"399\", \"wall\": \"414\"}\r\n"
     ]
    },
    {
     "name": "stdout",
     "output_type": "stream",
     "text": [
      "[2021-06-09 12:09:16,597][fairseq_cli.train][INFO] - begin validation on \"valid\" subset\r\n"
     ]
    },
    {
     "name": "stdout",
     "output_type": "stream",
     "text": [
      "[2021-06-09 12:09:19,183][fairseq.tasks.unpaired_audio_text][INFO] - REF: ɛ n f œ ʂ ə n a d ɵ ʂ ə k t f øː r d eː t s ɔ m h ɛ n d ə p oː ɕ œ r k ɔ n s ɛ t ə n\r\n",
      "[2021-06-09 12:09:19,186][fairseq.tasks.unpaired_audio_text][INFO] - HYP: n ɪ s j œ r œ j ɕ j uː yː k j ə f œ øː j m ə m œ k ə uː s eː r n v oː s ɪ ŋ k ɪ l s uː t a n t a\r\n",
      "[2021-06-09 12:09:19,190][fairseq.tasks.unpaired_audio_text][INFO] - LM [REF]: -53.44462585449219, 0.05339602260269112\r\n",
      "[2021-06-09 12:09:19,190][fairseq.tasks.unpaired_audio_text][INFO] - LM [HYP]: -82.64067077636719, 0.015975839131959147\r\n"
     ]
    },
    {
     "name": "stdout",
     "output_type": "stream",
     "text": [
      "[2021-06-09 12:09:19,765][valid][INFO] - {\"epoch\": 5338, \"valid_loss\": \"1.001\", \"valid_ntokens\": \"3039.79\", \"valid_nsentences\": \"144.214\", \"valid_lm_score_sum\": \"-89585.7\", \"valid_num_pred_chars\": \"48401\", \"valid_vocab_seen_pct\": \"0.891986\", \"valid_uer\": \"100.117\", \"valid_weighted_lm_ppl\": \"75.1749\", \"valid_lm_ppl\": \"59.8121\", \"valid_wps\": \"16889.9\", \"valid_wpb\": \"3039.8\", \"valid_bsz\": \"144.2\", \"valid_num_updates\": \"85408\", \"valid_best_weighted_lm_ppl\": \"73.0296\"}\r\n",
      "[2021-06-09 12:09:19,769][fairseq.checkpoint_utils][INFO] - Preparing to save checkpoint for epoch 5338 @ 85408 updates\r\n",
      "[2021-06-09 12:09:19,770][fairseq.trainer][INFO] - Saving checkpoint to /kaggle/working/checkpoint_last.pt\r\n"
     ]
    },
    {
     "name": "stdout",
     "output_type": "stream",
     "text": [
      "[2021-06-09 12:09:19,815][fairseq.trainer][INFO] - Finished saving checkpoint to /kaggle/working/checkpoint_last.pt\r\n",
      "[2021-06-09 12:09:19,815][fairseq.checkpoint_utils][INFO] - Saved checkpoint /kaggle/working/checkpoint_last.pt (epoch 5338 @ 85408 updates, score 75.17489018370705) (writing took 0.04656146500019531 seconds)\r\n",
      "[2021-06-09 12:09:19,815][fairseq_cli.train][INFO] - end of epoch 5338 (average epoch stats below)\r\n",
      "[2021-06-09 12:09:19,819][train][INFO] - {\"epoch\": 5338, \"train_loss\": \"2.994\", \"train_ntokens\": \"145.688\", \"train_nsentences\": \"145.688\", \"train_temp\": \"0.1\", \"train_code_ppl\": \"8.685\", \"train_loss_code_pen\": \"0.324\", \"train_loss_smoothness\": \"2.048\", \"train_loss_dense_g\": \"4.109\", \"train_lm_score_sum\": 0.0, \"train_num_pred_chars\": 0.0, \"train_loss_grad_pen\": \"0.088\", \"train_loss_dense_d\": \"0.021\", \"train_loss_token_d\": \"0.023\", \"train_wps\": \"8.8\", \"train_ups\": \"0.06\", \"train_wpb\": \"145.7\", \"train_bsz\": \"145.7\", \"train_num_updates\": \"85408\", \"train_lr_discriminator\": \"0.0005\", \"train_lr_generator\": \"0.0004\", \"train_gnorm\": \"30.329\", \"train_clip\": \"81.2\", \"train_train_wall\": \"261\", \"train_wall\": \"546\"}\r\n"
     ]
    },
    {
     "name": "stdout",
     "output_type": "stream",
     "text": [
      "[2021-06-09 12:09:19,880][fairseq.trainer][INFO] - begin training epoch 5339\r\n",
      "[2021-06-09 12:09:19,881][fairseq_cli.train][INFO] - Start iterating over samples\r\n"
     ]
    },
    {
     "name": "stdout",
     "output_type": "stream",
     "text": [
      "[2021-06-09 12:13:34,041][fairseq_cli.train][INFO] - begin validation on \"valid\" subset\r\n"
     ]
    },
    {
     "name": "stdout",
     "output_type": "stream",
     "text": [
      "[2021-06-09 12:13:36,620][fairseq.tasks.unpaired_audio_text][INFO] - REF: ɛ n f œ ʂ ə n a d ɵ ʂ ə k t f øː r d eː t s ɔ m h ɛ n d ə p oː ɕ œ r k ɔ n s ɛ t ə n\r\n",
      "[2021-06-09 12:13:36,622][fairseq.tasks.unpaired_audio_text][INFO] - HYP: n ɪ s j œ r œ j ɕ j uː yː k j ə f œ j m ə m ɔ k b ə uː s eː r n v oː s ɪ ŋ k ɪ l s uː t a n t a\r\n",
      "[2021-06-09 12:13:36,626][fairseq.tasks.unpaired_audio_text][INFO] - LM [REF]: -53.44462585449219, 0.05339602260269112\r\n",
      "[2021-06-09 12:13:36,626][fairseq.tasks.unpaired_audio_text][INFO] - LM [HYP]: -80.210693359375, 0.01804219094670553\r\n"
     ]
    },
    {
     "name": "stdout",
     "output_type": "stream",
     "text": [
      "[2021-06-09 12:13:37,148][valid][INFO] - {\"epoch\": 5339, \"valid_loss\": \"1.002\", \"valid_ntokens\": \"3039.79\", \"valid_nsentences\": \"144.214\", \"valid_lm_score_sum\": \"-89603.8\", \"valid_num_pred_chars\": \"48486\", \"valid_vocab_seen_pct\": \"0.890244\", \"valid_uer\": \"100.195\", \"valid_weighted_lm_ppl\": \"75.0134\", \"valid_lm_ppl\": \"59.4507\", \"valid_wps\": \"17494.6\", \"valid_wpb\": \"3039.8\", \"valid_bsz\": \"144.2\", \"valid_num_updates\": \"85424\", \"valid_best_weighted_lm_ppl\": \"73.0296\"}\r\n",
      "[2021-06-09 12:13:37,151][fairseq.checkpoint_utils][INFO] - Preparing to save checkpoint for epoch 5339 @ 85424 updates\r\n",
      "[2021-06-09 12:13:37,152][fairseq.trainer][INFO] - Saving checkpoint to /kaggle/working/checkpoint_last.pt\r\n"
     ]
    },
    {
     "name": "stdout",
     "output_type": "stream",
     "text": [
      "[2021-06-09 12:13:37,197][fairseq.trainer][INFO] - Finished saving checkpoint to /kaggle/working/checkpoint_last.pt\r\n",
      "[2021-06-09 12:13:37,197][fairseq.checkpoint_utils][INFO] - Saved checkpoint /kaggle/working/checkpoint_last.pt (epoch 5339 @ 85424 updates, score 75.01335712278643) (writing took 0.04611718899968764 seconds)\r\n",
      "[2021-06-09 12:13:37,198][fairseq_cli.train][INFO] - end of epoch 5339 (average epoch stats below)\r\n",
      "[2021-06-09 12:13:37,201][train][INFO] - {\"epoch\": 5339, \"train_loss\": \"3.185\", \"train_ntokens\": \"145.688\", \"train_nsentences\": \"145.688\", \"train_temp\": \"0.1\", \"train_code_ppl\": \"8.715\", \"train_loss_code_pen\": \"0.329\", \"train_loss_smoothness\": \"2.064\", \"train_loss_dense_g\": \"4.101\", \"train_lm_score_sum\": 0.0, \"train_num_pred_chars\": 0.0, \"train_loss_grad_pen\": \"0.064\", \"train_loss_dense_d\": \"0.023\", \"train_loss_token_d\": \"0.022\", \"train_wps\": \"9.1\", \"train_ups\": \"0.06\", \"train_wpb\": \"145.7\", \"train_bsz\": \"145.7\", \"train_num_updates\": \"85424\", \"train_lr_discriminator\": \"0.0005\", \"train_lr_generator\": \"0.0004\", \"train_gnorm\": \"29.624\", \"train_clip\": \"68.8\", \"train_train_wall\": \"254\", \"train_wall\": \"804\"}\r\n"
     ]
    },
    {
     "name": "stdout",
     "output_type": "stream",
     "text": [
      "[2021-06-09 12:13:37,258][fairseq.trainer][INFO] - begin training epoch 5340\r\n",
      "[2021-06-09 12:13:37,259][fairseq_cli.train][INFO] - Start iterating over samples\r\n"
     ]
    },
    {
     "name": "stdout",
     "output_type": "stream",
     "text": [
      "[2021-06-09 12:18:06,866][fairseq_cli.train][INFO] - begin validation on \"valid\" subset\r\n"
     ]
    },
    {
     "name": "stdout",
     "output_type": "stream",
     "text": [
      "[2021-06-09 12:18:09,604][fairseq.tasks.unpaired_audio_text][INFO] - REF: ɛ n f œ ʂ ə n a d ɵ ʂ ə k t f øː r d eː t s ɔ m h ɛ n d ə p oː ɕ œ r k ɔ n s ɛ t ə n\r\n",
      "[2021-06-09 12:18:09,607][fairseq.tasks.unpaired_audio_text][INFO] - HYP: n ɪ n s j œ r œ ɕ j uː yː k j uː f œ j m ə m ɔ b ə uː s eː r n v oː s ɪ ŋ k ɪ l s uː t a n t a\r\n",
      "[2021-06-09 12:18:09,611][fairseq.tasks.unpaired_audio_text][INFO] - LM [REF]: -53.44462585449219, 0.05339602260269112\r\n",
      "[2021-06-09 12:18:09,611][fairseq.tasks.unpaired_audio_text][INFO] - LM [HYP]: -79.32984924316406, 0.017262928082443122\r\n"
     ]
    },
    {
     "name": "stdout",
     "output_type": "stream",
     "text": [
      "[2021-06-09 12:18:10,147][valid][INFO] - {\"epoch\": 5340, \"valid_loss\": \"1.001\", \"valid_ntokens\": \"3039.79\", \"valid_nsentences\": \"144.214\", \"valid_lm_score_sum\": \"-89493.8\", \"valid_num_pred_chars\": \"48339\", \"valid_vocab_seen_pct\": \"0.893728\", \"valid_uer\": \"100.073\", \"valid_weighted_lm_ppl\": \"74.9447\", \"valid_lm_ppl\": \"59.8621\", \"valid_wps\": \"17497.2\", \"valid_wpb\": \"3039.8\", \"valid_bsz\": \"144.2\", \"valid_num_updates\": \"85440\", \"valid_best_weighted_lm_ppl\": \"73.0296\"}\r\n"
     ]
    },
    {
     "name": "stdout",
     "output_type": "stream",
     "text": [
      "[2021-06-09 12:18:10,152][fairseq.checkpoint_utils][INFO] - Preparing to save checkpoint for epoch 5340 @ 85440 updates\r\n",
      "[2021-06-09 12:18:10,153][fairseq.trainer][INFO] - Saving checkpoint to /kaggle/working/checkpoint_last.pt\r\n",
      "[2021-06-09 12:18:10,201][fairseq.trainer][INFO] - Finished saving checkpoint to /kaggle/working/checkpoint_last.pt\r\n",
      "[2021-06-09 12:18:10,201][fairseq.checkpoint_utils][INFO] - Saved checkpoint /kaggle/working/checkpoint_last.pt (epoch 5340 @ 85440 updates, score 74.94467097981742) (writing took 0.04941678300019703 seconds)\r\n",
      "[2021-06-09 12:18:10,202][fairseq_cli.train][INFO] - end of epoch 5340 (average epoch stats below)\r\n"
     ]
    },
    {
     "name": "stdout",
     "output_type": "stream",
     "text": [
      "[2021-06-09 12:18:10,206][train][INFO] - {\"epoch\": 5340, \"train_loss\": \"3.063\", \"train_ntokens\": \"145.688\", \"train_nsentences\": \"145.688\", \"train_temp\": \"0.1\", \"train_code_ppl\": \"8.762\", \"train_loss_code_pen\": \"0.324\", \"train_loss_smoothness\": \"2.046\", \"train_loss_dense_g\": \"4.296\", \"train_lm_score_sum\": 0.0, \"train_num_pred_chars\": 0.0, \"train_loss_grad_pen\": \"0.057\", \"train_loss_dense_d\": \"0.024\", \"train_loss_token_d\": \"0.023\", \"train_wps\": \"8.5\", \"train_ups\": \"0.06\", \"train_wpb\": \"145.7\", \"train_bsz\": \"145.7\", \"train_num_updates\": \"85440\", \"train_lr_discriminator\": \"0.0005\", \"train_lr_generator\": \"0.0004\", \"train_gnorm\": \"30.094\", \"train_clip\": \"75\", \"train_train_wall\": \"269\", \"train_wall\": \"1077\"}\r\n"
     ]
    },
    {
     "name": "stdout",
     "output_type": "stream",
     "text": [
      "[2021-06-09 12:18:10,265][fairseq.trainer][INFO] - begin training epoch 5341\r\n",
      "[2021-06-09 12:18:10,266][fairseq_cli.train][INFO] - Start iterating over samples\r\n"
     ]
    },
    {
     "name": "stdout",
     "output_type": "stream",
     "text": [
      "[2021-06-09 12:22:36,344][fairseq_cli.train][INFO] - begin validation on \"valid\" subset\r\n"
     ]
    },
    {
     "name": "stdout",
     "output_type": "stream",
     "text": [
      "[2021-06-09 12:22:38,853][fairseq.tasks.unpaired_audio_text][INFO] - REF: ɛ n f œ ʂ ə n a d ɵ ʂ ə k t f øː r d eː t s ɔ m h ɛ n d ə p oː ɕ œ r k ɔ n s ɛ t ə n\r\n",
      "[2021-06-09 12:22:38,855][fairseq.tasks.unpaired_audio_text][INFO] - HYP: n ɪ n s j œ r œ j ɕ j uː œ yː k ə f œ øː j m ə m ɔ k b ə uː s eː r n v oː s ɪ ŋ k ɪ l s uː t a n t a\r\n"
     ]
    },
    {
     "name": "stdout",
     "output_type": "stream",
     "text": [
      "[2021-06-09 12:22:38,859][fairseq.tasks.unpaired_audio_text][INFO] - LM [REF]: -53.44462585449219, 0.05339602260269112\r\n",
      "[2021-06-09 12:22:38,860][fairseq.tasks.unpaired_audio_text][INFO] - LM [HYP]: -83.99412536621094, 0.017787806162517336\r\n"
     ]
    },
    {
     "name": "stdout",
     "output_type": "stream",
     "text": [
      "[2021-06-09 12:22:39,408][valid][INFO] - {\"epoch\": 5341, \"valid_loss\": \"1\", \"valid_ntokens\": \"3039.79\", \"valid_nsentences\": \"144.214\", \"valid_lm_score_sum\": \"-89609.2\", \"valid_num_pred_chars\": \"48390\", \"valid_vocab_seen_pct\": \"0.891986\", \"valid_uer\": \"99.9953\", \"valid_weighted_lm_ppl\": \"75.323\", \"valid_lm_ppl\": \"59.9299\", \"valid_wps\": \"17469.4\", \"valid_wpb\": \"3039.8\", \"valid_bsz\": \"144.2\", \"valid_num_updates\": \"85456\", \"valid_best_weighted_lm_ppl\": \"73.0296\"}\r\n",
      "[2021-06-09 12:22:39,411][fairseq.checkpoint_utils][INFO] - Preparing to save checkpoint for epoch 5341 @ 85456 updates\r\n",
      "[2021-06-09 12:22:39,412][fairseq.trainer][INFO] - Saving checkpoint to /kaggle/working/checkpoint_last.pt\r\n"
     ]
    },
    {
     "name": "stdout",
     "output_type": "stream",
     "text": [
      "[2021-06-09 12:22:39,462][fairseq.trainer][INFO] - Finished saving checkpoint to /kaggle/working/checkpoint_last.pt\r\n",
      "[2021-06-09 12:22:39,463][fairseq.checkpoint_utils][INFO] - Saved checkpoint /kaggle/working/checkpoint_last.pt (epoch 5341 @ 85456 updates, score 75.32299321529257) (writing took 0.05223920799971893 seconds)\r\n",
      "[2021-06-09 12:22:39,464][fairseq_cli.train][INFO] - end of epoch 5341 (average epoch stats below)\r\n",
      "[2021-06-09 12:22:39,467][train][INFO] - {\"epoch\": 5341, \"train_loss\": \"2.977\", \"train_ntokens\": \"145.688\", \"train_nsentences\": \"145.688\", \"train_temp\": \"0.1\", \"train_code_ppl\": \"8.631\", \"train_loss_code_pen\": \"0.329\", \"train_loss_smoothness\": \"2.05\", \"train_loss_dense_g\": \"4.082\", \"train_lm_score_sum\": 0.0, \"train_num_pred_chars\": 0.0, \"train_loss_grad_pen\": \"0.071\", \"train_loss_dense_d\": \"0.025\", \"train_loss_token_d\": \"0.02\", \"train_wps\": \"8.7\", \"train_ups\": \"0.06\", \"train_wpb\": \"145.7\", \"train_bsz\": \"145.7\", \"train_num_updates\": \"85456\", \"train_lr_discriminator\": \"0.0005\", \"train_lr_generator\": \"0.0004\", \"train_gnorm\": \"30.481\", \"train_clip\": \"75\", \"train_train_wall\": \"266\", \"train_wall\": \"1346\"}\r\n"
     ]
    },
    {
     "name": "stdout",
     "output_type": "stream",
     "text": [
      "[2021-06-09 12:22:39,528][fairseq.trainer][INFO] - begin training epoch 5342\r\n",
      "[2021-06-09 12:22:39,529][fairseq_cli.train][INFO] - Start iterating over samples\r\n"
     ]
    },
    {
     "name": "stdout",
     "output_type": "stream",
     "text": [
      "[2021-06-09 12:26:58,636][fairseq_cli.train][INFO] - begin validation on \"valid\" subset\r\n"
     ]
    },
    {
     "name": "stdout",
     "output_type": "stream",
     "text": [
      "[2021-06-09 12:27:01,238][fairseq.tasks.unpaired_audio_text][INFO] - REF: ɛ n f œ ʂ ə n a d ɵ ʂ ə k t f øː r d eː t s ɔ m h ɛ n d ə p oː ɕ œ r k ɔ n s ɛ t ə n\r\n",
      "[2021-06-09 12:27:01,240][fairseq.tasks.unpaired_audio_text][INFO] - HYP: n ɪ s j œ r œ j yː j uː œ yː k ə f œ øː j m ə m œ k b ə uː s eː r n v oː s ɪ ŋ k ɪ l s uː t a n t a\r\n",
      "[2021-06-09 12:27:01,244][fairseq.tasks.unpaired_audio_text][INFO] - LM [REF]: -53.44462585449219, 0.05339602260269112\r\n",
      "[2021-06-09 12:27:01,244][fairseq.tasks.unpaired_audio_text][INFO] - LM [HYP]: -85.01145935058594, 0.015532649621298812\r\n"
     ]
    },
    {
     "name": "stdout",
     "output_type": "stream",
     "text": [
      "[2021-06-09 12:27:01,806][valid][INFO] - {\"epoch\": 5342, \"valid_loss\": \"1.001\", \"valid_ntokens\": \"3039.79\", \"valid_nsentences\": \"144.214\", \"valid_lm_score_sum\": \"-89489.4\", \"valid_num_pred_chars\": \"48428\", \"valid_vocab_seen_pct\": \"0.883275\", \"valid_uer\": \"100.052\", \"valid_weighted_lm_ppl\": \"76.1617\", \"valid_lm_ppl\": \"59.4195\", \"valid_wps\": \"16914.1\", \"valid_wpb\": \"3039.8\", \"valid_bsz\": \"144.2\", \"valid_num_updates\": \"85472\", \"valid_best_weighted_lm_ppl\": \"73.0296\"}\r\n",
      "[2021-06-09 12:27:01,810][fairseq.checkpoint_utils][INFO] - Preparing to save checkpoint for epoch 5342 @ 85472 updates\r\n",
      "[2021-06-09 12:27:01,811][fairseq.trainer][INFO] - Saving checkpoint to /kaggle/working/checkpoint_last.pt\r\n"
     ]
    },
    {
     "name": "stdout",
     "output_type": "stream",
     "text": [
      "[2021-06-09 12:27:01,861][fairseq.trainer][INFO] - Finished saving checkpoint to /kaggle/working/checkpoint_last.pt\r\n",
      "[2021-06-09 12:27:01,862][fairseq.checkpoint_utils][INFO] - Saved checkpoint /kaggle/working/checkpoint_last.pt (epoch 5342 @ 85472 updates, score 76.16171115787225) (writing took 0.05211238299989418 seconds)\r\n",
      "[2021-06-09 12:27:01,862][fairseq_cli.train][INFO] - end of epoch 5342 (average epoch stats below)\r\n",
      "[2021-06-09 12:27:01,866][train][INFO] - {\"epoch\": 5342, \"train_loss\": \"3.097\", \"train_ntokens\": \"145.688\", \"train_nsentences\": \"145.688\", \"train_temp\": \"0.1\", \"train_code_ppl\": \"8.977\", \"train_loss_code_pen\": \"0.328\", \"train_loss_smoothness\": \"2.048\", \"train_loss_dense_g\": \"4.347\", \"train_lm_score_sum\": 0.0, \"train_num_pred_chars\": 0.0, \"train_loss_grad_pen\": \"0.079\", \"train_loss_dense_d\": \"0.02\", \"train_loss_token_d\": \"0.022\", \"train_wps\": \"8.9\", \"train_ups\": \"0.06\", \"train_wpb\": \"145.7\", \"train_bsz\": \"145.7\", \"train_num_updates\": \"85472\", \"train_lr_discriminator\": \"0.0005\", \"train_lr_generator\": \"0.0004\", \"train_gnorm\": \"30.744\", \"train_clip\": \"68.8\", \"train_train_wall\": \"259\", \"train_wall\": \"1608\"}\r\n"
     ]
    },
    {
     "name": "stdout",
     "output_type": "stream",
     "text": [
      "[2021-06-09 12:27:01,932][fairseq.trainer][INFO] - begin training epoch 5343\r\n",
      "[2021-06-09 12:27:01,933][fairseq_cli.train][INFO] - Start iterating over samples\r\n"
     ]
    },
    {
     "name": "stdout",
     "output_type": "stream",
     "text": [
      "[2021-06-09 12:30:47,566][fairseq_cli.train][INFO] - begin validation on \"valid\" subset\r\n"
     ]
    },
    {
     "name": "stdout",
     "output_type": "stream",
     "text": [
      "[2021-06-09 12:30:50,180][fairseq.tasks.unpaired_audio_text][INFO] - REF: ɛ n f œ ʂ ə n a d ɵ ʂ ə k t f øː r d eː t s ɔ m h ɛ n d ə p oː ɕ œ r k ɔ n s ɛ t ə n\r\n",
      "[2021-06-09 12:30:50,183][fairseq.tasks.unpaired_audio_text][INFO] - HYP: n ɪ s j œ r œ j yː j uː œ yː k ə ɡ f œ øː j m ə m ɔ k b ə uː s eː r n v oː s ɪ ŋ k ɪ l s uː t a n t a\r\n",
      "[2021-06-09 12:30:50,187][fairseq.tasks.unpaired_audio_text][INFO] - LM [REF]: -53.44462585449219, 0.05339602260269112\r\n",
      "[2021-06-09 12:30:50,188][fairseq.tasks.unpaired_audio_text][INFO] - LM [HYP]: -85.03450012207031, 0.016921852848250644\r\n"
     ]
    },
    {
     "name": "stdout",
     "output_type": "stream",
     "text": [
      "[2021-06-09 12:30:50,752][valid][INFO] - {\"epoch\": 5343, \"valid_loss\": \"0.999\", \"valid_ntokens\": \"3039.79\", \"valid_nsentences\": \"144.214\", \"valid_lm_score_sum\": \"-89457.4\", \"valid_num_pred_chars\": \"48409\", \"valid_vocab_seen_pct\": \"0.881533\", \"valid_uer\": \"99.9178\", \"valid_weighted_lm_ppl\": \"76.469\", \"valid_lm_ppl\": \"59.4241\", \"valid_wps\": \"16800.3\", \"valid_wpb\": \"3039.8\", \"valid_bsz\": \"144.2\", \"valid_num_updates\": \"85488\", \"valid_best_weighted_lm_ppl\": \"73.0296\"}\r\n",
      "[2021-06-09 12:30:50,756][fairseq.checkpoint_utils][INFO] - Preparing to save checkpoint for epoch 5343 @ 85488 updates\r\n",
      "[2021-06-09 12:30:50,757][fairseq.trainer][INFO] - Saving checkpoint to /kaggle/working/checkpoint_last.pt\r\n"
     ]
    },
    {
     "name": "stdout",
     "output_type": "stream",
     "text": [
      "[2021-06-09 12:30:50,807][fairseq.trainer][INFO] - Finished saving checkpoint to /kaggle/working/checkpoint_last.pt\r\n",
      "[2021-06-09 12:30:50,807][fairseq.checkpoint_utils][INFO] - Saved checkpoint /kaggle/working/checkpoint_last.pt (epoch 5343 @ 85488 updates, score 76.4689536528158) (writing took 0.051229207000233146 seconds)\r\n",
      "[2021-06-09 12:30:50,808][fairseq_cli.train][INFO] - end of epoch 5343 (average epoch stats below)\r\n",
      "[2021-06-09 12:30:50,812][train][INFO] - {\"epoch\": 5343, \"train_loss\": \"3.818\", \"train_ntokens\": \"145.688\", \"train_nsentences\": \"145.688\", \"train_temp\": \"0.1\", \"train_code_ppl\": \"8.718\", \"train_loss_code_pen\": \"0.33\", \"train_loss_smoothness\": \"2.091\", \"train_loss_dense_g\": \"4.424\", \"train_lm_score_sum\": 0.0, \"train_num_pred_chars\": 0.0, \"train_loss_grad_pen\": \"0.08\", \"train_loss_dense_d\": \"0.021\", \"train_loss_token_d\": \"0.03\", \"train_wps\": \"10.2\", \"train_ups\": \"0.07\", \"train_wpb\": \"145.7\", \"train_bsz\": \"145.7\", \"train_num_updates\": \"85488\", \"train_lr_discriminator\": \"0.0005\", \"train_lr_generator\": \"0.0004\", \"train_gnorm\": \"33.411\", \"train_clip\": \"68.8\", \"train_train_wall\": \"225\", \"train_wall\": \"1837\"}\r\n"
     ]
    },
    {
     "name": "stdout",
     "output_type": "stream",
     "text": [
      "[2021-06-09 12:30:50,875][fairseq.trainer][INFO] - begin training epoch 5344\r\n",
      "[2021-06-09 12:30:50,877][fairseq_cli.train][INFO] - Start iterating over samples\r\n"
     ]
    },
    {
     "name": "stdout",
     "output_type": "stream",
     "text": [
      "[2021-06-09 12:33:41,828][train_inner][INFO] - {\"epoch\": 5344, \"update\": 5343.75, \"loss\": \"3.24\", \"ntokens\": \"145.54\", \"nsentences\": \"145.54\", \"temp\": \"0.1\", \"code_ppl\": \"8.729\", \"loss_code_pen\": \"0.328\", \"loss_smoothness\": \"2.055\", \"loss_dense_g\": \"4.212\", \"lm_score_sum\": 0.0, \"num_pred_chars\": 0.0, \"loss_grad_pen\": \"0.074\", \"loss_dense_d\": \"0.023\", \"loss_token_d\": \"0.023\", \"wps\": \"9.1\", \"ups\": \"0.06\", \"wpb\": \"145.5\", \"bsz\": \"145.5\", \"num_updates\": \"85500\", \"lr_discriminator\": \"0.0005\", \"lr_generator\": \"0.0004\", \"gnorm\": \"31.445\", \"clip\": \"72\", \"train_wall\": \"1572\", \"wall\": \"2008\"}\r\n"
     ]
    },
    {
     "name": "stdout",
     "output_type": "stream",
     "text": [
      "[2021-06-09 12:34:53,322][fairseq_cli.train][INFO] - begin validation on \"valid\" subset\r\n"
     ]
    },
    {
     "name": "stdout",
     "output_type": "stream",
     "text": [
      "[2021-06-09 12:34:55,864][fairseq.tasks.unpaired_audio_text][INFO] - REF: ɛ n f œ ʂ ə n a d ɵ ʂ ə k t f øː r d eː t s ɔ m h ɛ n d ə p oː ɕ œ r k ɔ n s ɛ t ə n\r\n",
      "[2021-06-09 12:34:55,867][fairseq.tasks.unpaired_audio_text][INFO] - HYP: n ɪ n s j œ r œ j ɕ j uː œ yː k ə ɡ f œ øː j m ə m œ k b ə uː s eː r n v oː s ɪ ŋ k ɪ l s uː m a n t a\r\n",
      "[2021-06-09 12:34:55,871][fairseq.tasks.unpaired_audio_text][INFO] - LM [REF]: -53.44462585449219, 0.05339602260269112\r\n",
      "[2021-06-09 12:34:55,871][fairseq.tasks.unpaired_audio_text][INFO] - LM [HYP]: -87.984619140625, 0.016010154677193206\r\n"
     ]
    },
    {
     "name": "stdout",
     "output_type": "stream",
     "text": [
      "[2021-06-09 12:34:56,406][valid][INFO] - {\"epoch\": 5344, \"valid_loss\": \"1\", \"valid_ntokens\": \"3039.79\", \"valid_nsentences\": \"144.214\", \"valid_lm_score_sum\": \"-89682.8\", \"valid_num_pred_chars\": \"48365\", \"valid_vocab_seen_pct\": \"0.890244\", \"valid_uer\": \"99.9859\", \"valid_weighted_lm_ppl\": \"76.0269\", \"valid_lm_ppl\": \"60.2539\", \"valid_wps\": \"17319.7\", \"valid_wpb\": \"3039.8\", \"valid_bsz\": \"144.2\", \"valid_num_updates\": \"85504\", \"valid_best_weighted_lm_ppl\": \"73.0296\"}\r\n",
      "[2021-06-09 12:34:56,410][fairseq.checkpoint_utils][INFO] - Preparing to save checkpoint for epoch 5344 @ 85504 updates\r\n",
      "[2021-06-09 12:34:56,411][fairseq.trainer][INFO] - Saving checkpoint to /kaggle/working/checkpoint_last.pt\r\n"
     ]
    },
    {
     "name": "stdout",
     "output_type": "stream",
     "text": [
      "[2021-06-09 12:34:56,459][fairseq.trainer][INFO] - Finished saving checkpoint to /kaggle/working/checkpoint_last.pt\r\n",
      "[2021-06-09 12:34:56,460][fairseq.checkpoint_utils][INFO] - Saved checkpoint /kaggle/working/checkpoint_last.pt (epoch 5344 @ 85504 updates, score 76.02692604886398) (writing took 0.050233081999977 seconds)\r\n",
      "[2021-06-09 12:34:56,460][fairseq_cli.train][INFO] - end of epoch 5344 (average epoch stats below)\r\n",
      "[2021-06-09 12:34:56,465][train][INFO] - {\"epoch\": 5344, \"train_loss\": \"3.471\", \"train_ntokens\": \"145.688\", \"train_nsentences\": \"145.688\", \"train_temp\": \"0.1\", \"train_code_ppl\": \"8.716\", \"train_loss_code_pen\": \"0.335\", \"train_loss_smoothness\": \"2.071\", \"train_loss_dense_g\": \"4.163\", \"train_lm_score_sum\": 0.0, \"train_num_pred_chars\": 0.0, \"train_loss_grad_pen\": \"0.087\", \"train_loss_dense_d\": \"0.025\", \"train_loss_token_d\": \"0.026\", \"train_wps\": \"9.5\", \"train_ups\": \"0.07\", \"train_wpb\": \"145.7\", \"train_bsz\": \"145.7\", \"train_num_updates\": \"85504\", \"train_lr_discriminator\": \"0.0005\", \"train_lr_generator\": \"0.0004\", \"train_gnorm\": \"34.909\", \"train_clip\": \"81.2\", \"train_train_wall\": \"242\", \"train_wall\": \"2083\"}\r\n"
     ]
    },
    {
     "name": "stdout",
     "output_type": "stream",
     "text": [
      "[2021-06-09 12:34:56,525][fairseq.trainer][INFO] - begin training epoch 5345\r\n",
      "[2021-06-09 12:34:56,527][fairseq_cli.train][INFO] - Start iterating over samples\r\n"
     ]
    },
    {
     "name": "stdout",
     "output_type": "stream",
     "text": [
      "[2021-06-09 12:39:03,343][fairseq_cli.train][INFO] - begin validation on \"valid\" subset\r\n"
     ]
    },
    {
     "name": "stdout",
     "output_type": "stream",
     "text": [
      "[2021-06-09 12:39:05,712][fairseq.tasks.unpaired_audio_text][INFO] - REF: ɛ n f œ ʂ ə n a d ɵ ʂ ə k t f øː r d eː t s ɔ m h ɛ n d ə p oː ɕ œ r k ɔ n s ɛ t ə n\r\n",
      "[2021-06-09 12:39:05,714][fairseq.tasks.unpaired_audio_text][INFO] - HYP: n ɪ s j œ r œ j yː j uː œ yː k ə ɡ f œ j m ə m œ k b ə uː s eː r n v oː s ɪ ŋ k l ɪ l s uː t a n t a\r\n"
     ]
    },
    {
     "name": "stdout",
     "output_type": "stream",
     "text": [
      "[2021-06-09 12:39:05,720][fairseq.tasks.unpaired_audio_text][INFO] - LM [REF]: -53.44462585449219, 0.05339602260269112\r\n",
      "[2021-06-09 12:39:05,720][fairseq.tasks.unpaired_audio_text][INFO] - LM [HYP]: -86.83544921875, 0.015521301719691292\r\n"
     ]
    },
    {
     "name": "stdout",
     "output_type": "stream",
     "text": [
      "[2021-06-09 12:39:06,209][valid][INFO] - {\"epoch\": 5345, \"valid_loss\": \"1.002\", \"valid_ntokens\": \"3039.79\", \"valid_nsentences\": \"144.214\", \"valid_lm_score_sum\": \"-89696.6\", \"valid_num_pred_chars\": \"48480\", \"valid_vocab_seen_pct\": \"0.883275\", \"valid_uer\": \"100.244\", \"valid_weighted_lm_ppl\": \"76.5619\", \"valid_lm_ppl\": \"59.7317\", \"valid_wps\": \"18847.4\", \"valid_wpb\": \"3039.8\", \"valid_bsz\": \"144.2\", \"valid_num_updates\": \"85520\", \"valid_best_weighted_lm_ppl\": \"73.0296\"}\r\n",
      "[2021-06-09 12:39:06,212][fairseq.checkpoint_utils][INFO] - Preparing to save checkpoint for epoch 5345 @ 85520 updates\r\n",
      "[2021-06-09 12:39:06,213][fairseq.trainer][INFO] - Saving checkpoint to /kaggle/working/checkpoint_last.pt\r\n"
     ]
    },
    {
     "name": "stdout",
     "output_type": "stream",
     "text": [
      "[2021-06-09 12:39:06,259][fairseq.trainer][INFO] - Finished saving checkpoint to /kaggle/working/checkpoint_last.pt\r\n",
      "[2021-06-09 12:39:06,259][fairseq.checkpoint_utils][INFO] - Saved checkpoint /kaggle/working/checkpoint_last.pt (epoch 5345 @ 85520 updates, score 76.56191307436718) (writing took 0.047079476000362774 seconds)\r\n",
      "[2021-06-09 12:39:06,259][fairseq_cli.train][INFO] - end of epoch 5345 (average epoch stats below)\r\n",
      "[2021-06-09 12:39:06,262][train][INFO] - {\"epoch\": 5345, \"train_loss\": \"3.514\", \"train_ntokens\": \"145.688\", \"train_nsentences\": \"145.688\", \"train_temp\": \"0.1\", \"train_code_ppl\": \"8.664\", \"train_loss_code_pen\": \"0.323\", \"train_loss_smoothness\": \"2.052\", \"train_loss_dense_g\": \"4.273\", \"train_lm_score_sum\": 0.0, \"train_num_pred_chars\": 0.0, \"train_loss_grad_pen\": \"0.088\", \"train_loss_dense_d\": \"0.024\", \"train_loss_token_d\": \"0.031\", \"train_wps\": \"9.3\", \"train_ups\": \"0.06\", \"train_wpb\": \"145.7\", \"train_bsz\": \"145.7\", \"train_num_updates\": \"85520\", \"train_lr_discriminator\": \"0.0005\", \"train_lr_generator\": \"0.0004\", \"train_gnorm\": \"31.519\", \"train_clip\": \"87.5\", \"train_train_wall\": \"246\", \"train_wall\": \"2333\"}\r\n"
     ]
    },
    {
     "name": "stdout",
     "output_type": "stream",
     "text": [
      "[2021-06-09 12:39:06,317][fairseq.trainer][INFO] - begin training epoch 5346\r\n",
      "[2021-06-09 12:39:06,318][fairseq_cli.train][INFO] - Start iterating over samples\r\n"
     ]
    },
    {
     "name": "stdout",
     "output_type": "stream",
     "text": [
      "[2021-06-09 12:43:34,940][fairseq_cli.train][INFO] - begin validation on \"valid\" subset\r\n"
     ]
    },
    {
     "name": "stdout",
     "output_type": "stream",
     "text": [
      "[2021-06-09 12:43:37,399][fairseq.tasks.unpaired_audio_text][INFO] - REF: ɛ n f œ ʂ ə n a d ɵ ʂ ə k t f øː r d eː t s ɔ m h ɛ n d ə p oː ɕ œ r k ɔ n s ɛ t ə n\r\n",
      "[2021-06-09 12:43:37,401][fairseq.tasks.unpaired_audio_text][INFO] - HYP: n ɪ s j œ r œ j ʃ j uː œ yː k ə ɡ f œ j m ə h œ k b ə uː s eː r n v oː s ɪ ŋ k l ɪ l s uː t a n t a\r\n"
     ]
    },
    {
     "name": "stdout",
     "output_type": "stream",
     "text": [
      "[2021-06-09 12:43:37,406][fairseq.tasks.unpaired_audio_text][INFO] - LM [REF]: -53.44462585449219, 0.05339602260269112\r\n",
      "[2021-06-09 12:43:37,406][fairseq.tasks.unpaired_audio_text][INFO] - LM [HYP]: -86.82858276367188, 0.015526415083617925\r\n"
     ]
    },
    {
     "name": "stdout",
     "output_type": "stream",
     "text": [
      "[2021-06-09 12:43:37,923][valid][INFO] - {\"epoch\": 5346, \"valid_loss\": \"1\", \"valid_ntokens\": \"3039.79\", \"valid_nsentences\": \"144.214\", \"valid_lm_score_sum\": \"-89598\", \"valid_num_pred_chars\": \"48419\", \"valid_vocab_seen_pct\": \"0.88676\", \"valid_uer\": \"100.038\", \"valid_weighted_lm_ppl\": \"75.9952\", \"valid_lm_ppl\": \"59.7583\", \"valid_wps\": \"18023.7\", \"valid_wpb\": \"3039.8\", \"valid_bsz\": \"144.2\", \"valid_num_updates\": \"85536\", \"valid_best_weighted_lm_ppl\": \"73.0296\"}\r\n",
      "[2021-06-09 12:43:37,926][fairseq.checkpoint_utils][INFO] - Preparing to save checkpoint for epoch 5346 @ 85536 updates\r\n",
      "[2021-06-09 12:43:37,927][fairseq.trainer][INFO] - Saving checkpoint to /kaggle/working/checkpoint_last.pt\r\n"
     ]
    },
    {
     "name": "stdout",
     "output_type": "stream",
     "text": [
      "[2021-06-09 12:43:37,972][fairseq.trainer][INFO] - Finished saving checkpoint to /kaggle/working/checkpoint_last.pt\r\n",
      "[2021-06-09 12:43:37,972][fairseq.checkpoint_utils][INFO] - Saved checkpoint /kaggle/working/checkpoint_last.pt (epoch 5346 @ 85536 updates, score 75.99522474444079) (writing took 0.04594503699991037 seconds)\r\n",
      "[2021-06-09 12:43:37,972][fairseq_cli.train][INFO] - end of epoch 5346 (average epoch stats below)\r\n",
      "[2021-06-09 12:43:37,975][train][INFO] - {\"epoch\": 5346, \"train_loss\": \"2.999\", \"train_ntokens\": \"145.688\", \"train_nsentences\": \"145.688\", \"train_temp\": \"0.1\", \"train_code_ppl\": \"8.71\", \"train_loss_code_pen\": \"0.322\", \"train_loss_smoothness\": \"2.056\", \"train_loss_dense_g\": \"4.131\", \"train_lm_score_sum\": 0.0, \"train_num_pred_chars\": 0.0, \"train_loss_grad_pen\": \"0.064\", \"train_loss_dense_d\": \"0.029\", \"train_loss_token_d\": \"0.024\", \"train_wps\": \"8.6\", \"train_ups\": \"0.06\", \"train_wpb\": \"145.7\", \"train_bsz\": \"145.7\", \"train_num_updates\": \"85536\", \"train_lr_discriminator\": \"0.0005\", \"train_lr_generator\": \"0.0004\", \"train_gnorm\": \"29.46\", \"train_clip\": \"56.2\", \"train_train_wall\": \"268\", \"train_wall\": \"2604\"}\r\n"
     ]
    },
    {
     "name": "stdout",
     "output_type": "stream",
     "text": [
      "[2021-06-09 12:43:38,036][fairseq.trainer][INFO] - begin training epoch 5347\r\n",
      "[2021-06-09 12:43:38,038][fairseq_cli.train][INFO] - Start iterating over samples\r\n"
     ]
    },
    {
     "name": "stdout",
     "output_type": "stream",
     "text": [
      "[2021-06-09 12:47:57,525][fairseq_cli.train][INFO] - begin validation on \"valid\" subset\r\n"
     ]
    },
    {
     "name": "stdout",
     "output_type": "stream",
     "text": [
      "[2021-06-09 12:47:59,959][fairseq.tasks.unpaired_audio_text][INFO] - REF: ɛ n f œ ʂ ə n a d ɵ ʂ ə k t f øː r d eː t s ɔ m h ɛ n d ə p oː ɕ œ r k ɔ n s ɛ t ə n\r\n",
      "[2021-06-09 12:47:59,962][fairseq.tasks.unpaired_audio_text][INFO] - HYP: n ɪ n s j œ r œ j j uː œ yː k ə ɡ f œ øː j m ə m ɔ k b ə uː s eː r n v oː s ɪ ŋ k l ɪ l s uː t a n t a\r\n",
      "[2021-06-09 12:47:59,966][fairseq.tasks.unpaired_audio_text][INFO] - LM [REF]: -53.44462585449219, 0.05339602260269112\r\n",
      "[2021-06-09 12:47:59,966][fairseq.tasks.unpaired_audio_text][INFO] - LM [HYP]: -85.58561706542969, 0.01792069109292429\r\n"
     ]
    },
    {
     "name": "stdout",
     "output_type": "stream",
     "text": [
      "[2021-06-09 12:48:00,508][valid][INFO] - {\"epoch\": 5347, \"valid_loss\": \"0.998\", \"valid_ntokens\": \"3039.79\", \"valid_nsentences\": \"144.214\", \"valid_lm_score_sum\": \"-89434.7\", \"valid_num_pred_chars\": \"48328\", \"valid_vocab_seen_pct\": \"0.893728\", \"valid_uer\": \"99.8214\", \"valid_weighted_lm_ppl\": \"74.8094\", \"valid_lm_ppl\": \"59.754\", \"valid_wps\": \"18222.5\", \"valid_wpb\": \"3039.8\", \"valid_bsz\": \"144.2\", \"valid_num_updates\": \"85552\", \"valid_best_weighted_lm_ppl\": \"73.0296\"}\r\n",
      "[2021-06-09 12:48:00,511][fairseq.checkpoint_utils][INFO] - Preparing to save checkpoint for epoch 5347 @ 85552 updates\r\n",
      "[2021-06-09 12:48:00,513][fairseq.trainer][INFO] - Saving checkpoint to /kaggle/working/checkpoint_last.pt\r\n"
     ]
    },
    {
     "name": "stdout",
     "output_type": "stream",
     "text": [
      "[2021-06-09 12:48:00,559][fairseq.trainer][INFO] - Finished saving checkpoint to /kaggle/working/checkpoint_last.pt\r\n",
      "[2021-06-09 12:48:00,559][fairseq.checkpoint_utils][INFO] - Saved checkpoint /kaggle/working/checkpoint_last.pt (epoch 5347 @ 85552 updates, score 74.80936518232356) (writing took 0.04795593099970574 seconds)\r\n",
      "[2021-06-09 12:48:00,560][fairseq_cli.train][INFO] - end of epoch 5347 (average epoch stats below)\r\n",
      "[2021-06-09 12:48:00,562][train][INFO] - {\"epoch\": 5347, \"train_loss\": \"2.958\", \"train_ntokens\": \"145.688\", \"train_nsentences\": \"145.688\", \"train_temp\": \"0.1\", \"train_code_ppl\": \"8.714\", \"train_loss_code_pen\": \"0.318\", \"train_loss_smoothness\": \"2.022\", \"train_loss_dense_g\": \"4.068\", \"train_lm_score_sum\": 0.0, \"train_num_pred_chars\": 0.0, \"train_loss_grad_pen\": \"0.079\", \"train_loss_dense_d\": \"0.025\", \"train_loss_token_d\": \"0.022\", \"train_wps\": \"8.9\", \"train_ups\": \"0.06\", \"train_wpb\": \"145.7\", \"train_bsz\": \"145.7\", \"train_num_updates\": \"85552\", \"train_lr_discriminator\": \"0.0005\", \"train_lr_generator\": \"0.0004\", \"train_gnorm\": \"30.312\", \"train_clip\": \"68.8\", \"train_train_wall\": \"259\", \"train_wall\": \"2867\"}\r\n"
     ]
    },
    {
     "name": "stdout",
     "output_type": "stream",
     "text": [
      "[2021-06-09 12:48:00,616][fairseq.trainer][INFO] - begin training epoch 5348\r\n",
      "[2021-06-09 12:48:00,618][fairseq_cli.train][INFO] - Start iterating over samples\r\n"
     ]
    },
    {
     "name": "stdout",
     "output_type": "stream",
     "text": [
      "[2021-06-09 12:52:14,552][fairseq_cli.train][INFO] - begin validation on \"valid\" subset\r\n"
     ]
    },
    {
     "name": "stdout",
     "output_type": "stream",
     "text": [
      "[2021-06-09 12:52:16,916][fairseq.tasks.unpaired_audio_text][INFO] - REF: ɛ n f œ ʂ ə n a d ɵ ʂ ə k t f øː r d eː t s ɔ m h ɛ n d ə p oː ɕ œ r k ɔ n s ɛ t ə n\r\n"
     ]
    },
    {
     "name": "stdout",
     "output_type": "stream",
     "text": [
      "[2021-06-09 12:52:16,919][fairseq.tasks.unpaired_audio_text][INFO] - HYP: n ɪ n s j œ r œ j yː j uː œ yː k j ə ɡ f œ j m ə m œ k b ə uː s eː r n v oː s ɪ ŋ k ɪ l s uː t a n t a\r\n",
      "[2021-06-09 12:52:16,923][fairseq.tasks.unpaired_audio_text][INFO] - LM [REF]: -53.44462585449219, 0.05339602260269112\r\n",
      "[2021-06-09 12:52:16,924][fairseq.tasks.unpaired_audio_text][INFO] - LM [HYP]: -88.61720275878906, 0.015541239669810898\r\n"
     ]
    },
    {
     "name": "stdout",
     "output_type": "stream",
     "text": [
      "[2021-06-09 12:52:17,426][valid][INFO] - {\"epoch\": 5348, \"valid_loss\": \"0.999\", \"valid_ntokens\": \"3039.79\", \"valid_nsentences\": \"144.214\", \"valid_lm_score_sum\": \"-89303.6\", \"valid_num_pred_chars\": \"48338\", \"valid_vocab_seen_pct\": \"0.888502\", \"valid_uer\": \"99.9248\", \"valid_weighted_lm_ppl\": \"75.1784\", \"valid_lm_ppl\": \"59.3485\", \"valid_wps\": \"18857.7\", \"valid_wpb\": \"3039.8\", \"valid_bsz\": \"144.2\", \"valid_num_updates\": \"85568\", \"valid_best_weighted_lm_ppl\": \"73.0296\"}\r\n"
     ]
    },
    {
     "name": "stdout",
     "output_type": "stream",
     "text": [
      "[2021-06-09 12:52:17,429][fairseq.checkpoint_utils][INFO] - Preparing to save checkpoint for epoch 5348 @ 85568 updates\r\n",
      "[2021-06-09 12:52:17,431][fairseq.trainer][INFO] - Saving checkpoint to /kaggle/working/checkpoint_last.pt\r\n",
      "[2021-06-09 12:52:17,475][fairseq.trainer][INFO] - Finished saving checkpoint to /kaggle/working/checkpoint_last.pt\r\n",
      "[2021-06-09 12:52:17,476][fairseq.checkpoint_utils][INFO] - Saved checkpoint /kaggle/working/checkpoint_last.pt (epoch 5348 @ 85568 updates, score 75.17837224359576) (writing took 0.04630682100014383 seconds)\r\n",
      "[2021-06-09 12:52:17,476][fairseq_cli.train][INFO] - end of epoch 5348 (average epoch stats below)\r\n"
     ]
    },
    {
     "name": "stdout",
     "output_type": "stream",
     "text": [
      "[2021-06-09 12:52:17,479][train][INFO] - {\"epoch\": 5348, \"train_loss\": \"3.343\", \"train_ntokens\": \"145.688\", \"train_nsentences\": \"145.688\", \"train_temp\": \"0.1\", \"train_code_ppl\": \"8.754\", \"train_loss_code_pen\": \"0.325\", \"train_loss_smoothness\": \"2.064\", \"train_loss_dense_g\": \"4.428\", \"train_lm_score_sum\": 0.0, \"train_num_pred_chars\": 0.0, \"train_loss_grad_pen\": \"0.058\", \"train_loss_dense_d\": \"0.023\", \"train_loss_token_d\": \"0.033\", \"train_wps\": \"9.1\", \"train_ups\": \"0.06\", \"train_wpb\": \"145.7\", \"train_bsz\": \"145.7\", \"train_num_updates\": \"85568\", \"train_lr_discriminator\": \"0.0005\", \"train_lr_generator\": \"0.0004\", \"train_gnorm\": \"30.193\", \"train_clip\": \"75\", \"train_train_wall\": \"253\", \"train_wall\": \"3124\"}\r\n"
     ]
    },
    {
     "name": "stdout",
     "output_type": "stream",
     "text": [
      "[2021-06-09 12:52:17,540][fairseq.trainer][INFO] - begin training epoch 5349\r\n",
      "[2021-06-09 12:52:17,541][fairseq_cli.train][INFO] - Start iterating over samples\r\n"
     ]
    },
    {
     "name": "stdout",
     "output_type": "stream",
     "text": [
      "[2021-06-09 12:56:15,175][fairseq_cli.train][INFO] - begin validation on \"valid\" subset\r\n"
     ]
    },
    {
     "name": "stdout",
     "output_type": "stream",
     "text": [
      "[2021-06-09 12:56:17,613][fairseq.tasks.unpaired_audio_text][INFO] - REF: ɛ n f œ ʂ ə n a d ɵ ʂ ə k t f øː r d eː t s ɔ m h ɛ n d ə p oː ɕ œ r k ɔ n s ɛ t ə n\r\n",
      "[2021-06-09 12:56:17,616][fairseq.tasks.unpaired_audio_text][INFO] - HYP: n ɪ s j œ r œ j yː j uː œ yː k j ə ɡ f œ j m ə m œ ə uː s eː r n v oː s ɪ ŋ k ɪ l s uː t a n t a\r\n",
      "[2021-06-09 12:56:17,620][fairseq.tasks.unpaired_audio_text][INFO] - LM [REF]: -53.44462585449219, 0.05339602260269112\r\n"
     ]
    },
    {
     "name": "stdout",
     "output_type": "stream",
     "text": [
      "[2021-06-09 12:56:17,620][fairseq.tasks.unpaired_audio_text][INFO] - LM [HYP]: -83.6507568359375, 0.01518816428752967\r\n"
     ]
    },
    {
     "name": "stdout",
     "output_type": "stream",
     "text": [
      "[2021-06-09 12:56:18,120][valid][INFO] - {\"epoch\": 5349, \"valid_loss\": \"0.999\", \"valid_ntokens\": \"3039.79\", \"valid_nsentences\": \"144.214\", \"valid_lm_score_sum\": \"-89283.3\", \"valid_num_pred_chars\": \"48326\", \"valid_vocab_seen_pct\": \"0.883275\", \"valid_uer\": \"99.8825\", \"valid_weighted_lm_ppl\": \"76.0743\", \"valid_lm_ppl\": \"59.3513\", \"valid_wps\": \"18637\", \"valid_wpb\": \"3039.8\", \"valid_bsz\": \"144.2\", \"valid_num_updates\": \"85584\", \"valid_best_weighted_lm_ppl\": \"73.0296\"}\r\n",
      "[2021-06-09 12:56:18,123][fairseq.checkpoint_utils][INFO] - Preparing to save checkpoint for epoch 5349 @ 85584 updates\r\n",
      "[2021-06-09 12:56:18,124][fairseq.trainer][INFO] - Saving checkpoint to /kaggle/working/checkpoint_last.pt\r\n"
     ]
    },
    {
     "name": "stdout",
     "output_type": "stream",
     "text": [
      "[2021-06-09 12:56:18,171][fairseq.trainer][INFO] - Finished saving checkpoint to /kaggle/working/checkpoint_last.pt\r\n",
      "[2021-06-09 12:56:18,171][fairseq.checkpoint_utils][INFO] - Saved checkpoint /kaggle/working/checkpoint_last.pt (epoch 5349 @ 85584 updates, score 76.07430421528633) (writing took 0.04834507800023857 seconds)\r\n",
      "[2021-06-09 12:56:18,171][fairseq_cli.train][INFO] - end of epoch 5349 (average epoch stats below)\r\n",
      "[2021-06-09 12:56:18,175][train][INFO] - {\"epoch\": 5349, \"train_loss\": \"3.504\", \"train_ntokens\": \"145.688\", \"train_nsentences\": \"145.688\", \"train_temp\": \"0.1\", \"train_code_ppl\": \"8.814\", \"train_loss_code_pen\": \"0.315\", \"train_loss_smoothness\": \"2.035\", \"train_loss_dense_g\": \"4.21\", \"train_lm_score_sum\": 0.0, \"train_num_pred_chars\": 0.0, \"train_loss_grad_pen\": \"0.133\", \"train_loss_dense_d\": \"0.041\", \"train_loss_token_d\": \"0.044\", \"train_wps\": \"9.7\", \"train_ups\": \"0.07\", \"train_wpb\": \"145.7\", \"train_bsz\": \"145.7\", \"train_num_updates\": \"85584\", \"train_lr_discriminator\": \"0.0005\", \"train_lr_generator\": \"0.0004\", \"train_gnorm\": \"34.973\", \"train_clip\": \"87.5\", \"train_train_wall\": \"237\", \"train_wall\": \"3365\"}\r\n"
     ]
    },
    {
     "name": "stdout",
     "output_type": "stream",
     "text": [
      "[2021-06-09 12:56:18,230][fairseq.trainer][INFO] - begin training epoch 5350\r\n"
     ]
    },
    {
     "name": "stdout",
     "output_type": "stream",
     "text": [
      "[2021-06-09 12:56:18,232][fairseq_cli.train][INFO] - Start iterating over samples\r\n"
     ]
    },
    {
     "name": "stdout",
     "output_type": "stream",
     "text": [
      "[2021-06-09 13:00:35,595][train_inner][INFO] - {\"epoch\": 5350, \"update\": 5350.0, \"loss\": \"3.251\", \"ntokens\": \"146.26\", \"nsentences\": \"146.26\", \"temp\": \"0.1\", \"code_ppl\": \"8.737\", \"loss_code_pen\": \"0.322\", \"loss_smoothness\": \"2.049\", \"loss_dense_g\": \"4.26\", \"lm_score_sum\": 0.0, \"num_pred_chars\": 0.0, \"loss_grad_pen\": \"0.081\", \"loss_dense_d\": \"0.027\", \"loss_token_d\": \"0.03\", \"wps\": \"9.1\", \"ups\": \"0.06\", \"wpb\": \"146.3\", \"bsz\": \"146.3\", \"num_updates\": \"85600\", \"lr_discriminator\": \"0.0005\", \"lr_generator\": \"0.0004\", \"gnorm\": \"31.099\", \"clip\": \"76\", \"train_wall\": \"1593\", \"wall\": \"3622\"}\r\n"
     ]
    },
    {
     "name": "stdout",
     "output_type": "stream",
     "text": [
      "[2021-06-09 13:00:35,599][fairseq_cli.train][INFO] - begin validation on \"valid\" subset\r\n"
     ]
    },
    {
     "name": "stdout",
     "output_type": "stream",
     "text": [
      "[2021-06-09 13:00:38,105][fairseq.tasks.unpaired_audio_text][INFO] - REF: ɛ n f œ ʂ ə n a d ɵ ʂ ə k t f øː r d eː t s ɔ m h ɛ n d ə p oː ɕ œ r k ɔ n s ɛ t ə n\r\n",
      "[2021-06-09 13:00:38,108][fairseq.tasks.unpaired_audio_text][INFO] - HYP: n ɪ n s j œ r œ j uː œ m yː k j ə ɡ f œ j m ə h œ k b ə uː s eː r n v oː s ɪ ŋ k ɪ l s uː t a n t a\r\n",
      "[2021-06-09 13:00:38,112][fairseq.tasks.unpaired_audio_text][INFO] - LM [REF]: -53.44462585449219, 0.05339602260269112\r\n",
      "[2021-06-09 13:00:38,113][fairseq.tasks.unpaired_audio_text][INFO] - LM [HYP]: -85.52873229980469, 0.016525378309613627\r\n"
     ]
    },
    {
     "name": "stdout",
     "output_type": "stream",
     "text": [
      "[2021-06-09 13:00:38,627][valid][INFO] - {\"epoch\": 5350, \"valid_loss\": \"1.002\", \"valid_ntokens\": \"3039.79\", \"valid_nsentences\": \"144.214\", \"valid_lm_score_sum\": \"-89807.3\", \"valid_num_pred_chars\": \"48512\", \"valid_vocab_seen_pct\": \"0.891986\", \"valid_uer\": \"100.214\", \"valid_weighted_lm_ppl\": \"75.2584\", \"valid_lm_ppl\": \"59.8785\", \"valid_wps\": \"18098.3\", \"valid_wpb\": \"3039.8\", \"valid_bsz\": \"144.2\", \"valid_num_updates\": \"85600\", \"valid_best_weighted_lm_ppl\": \"73.0296\"}\r\n",
      "[2021-06-09 13:00:38,631][fairseq.checkpoint_utils][INFO] - Preparing to save checkpoint for epoch 5350 @ 85600 updates\r\n",
      "[2021-06-09 13:00:38,632][fairseq.trainer][INFO] - Saving checkpoint to /kaggle/working/checkpoint_last.pt\r\n"
     ]
    },
    {
     "name": "stdout",
     "output_type": "stream",
     "text": [
      "[2021-06-09 13:00:38,679][fairseq.trainer][INFO] - Finished saving checkpoint to /kaggle/working/checkpoint_last.pt\r\n",
      "[2021-06-09 13:00:38,679][fairseq.checkpoint_utils][INFO] - Saved checkpoint /kaggle/working/checkpoint_last.pt (epoch 5350 @ 85600 updates, score 75.25835526086566) (writing took 0.048430177999762236 seconds)\r\n",
      "[2021-06-09 13:00:38,679][fairseq_cli.train][INFO] - end of epoch 5350 (average epoch stats below)\r\n",
      "[2021-06-09 13:00:38,682][train][INFO] - {\"epoch\": 5350, \"train_loss\": \"3.079\", \"train_ntokens\": \"145.688\", \"train_nsentences\": \"145.688\", \"train_temp\": \"0.1\", \"train_code_ppl\": \"8.802\", \"train_loss_code_pen\": \"0.326\", \"train_loss_smoothness\": \"2.059\", \"train_loss_dense_g\": \"4.301\", \"train_lm_score_sum\": 0.0, \"train_num_pred_chars\": 0.0, \"train_loss_grad_pen\": \"0.067\", \"train_loss_dense_d\": \"0.022\", \"train_loss_token_d\": \"0.028\", \"train_wps\": \"8.9\", \"train_ups\": \"0.06\", \"train_wpb\": \"145.7\", \"train_bsz\": \"145.7\", \"train_num_updates\": \"85600\", \"train_lr_discriminator\": \"0.0005\", \"train_lr_generator\": \"0.0004\", \"train_gnorm\": \"30.246\", \"train_clip\": \"75\", \"train_train_wall\": \"257\", \"train_wall\": \"3625\"}\r\n"
     ]
    },
    {
     "name": "stdout",
     "output_type": "stream",
     "text": [
      "[2021-06-09 13:00:38,739][fairseq.trainer][INFO] - begin training epoch 5351\r\n",
      "[2021-06-09 13:00:38,740][fairseq_cli.train][INFO] - Start iterating over samples\r\n"
     ]
    },
    {
     "name": "stdout",
     "output_type": "stream",
     "text": [
      "[2021-06-09 13:04:22,312][fairseq_cli.train][INFO] - begin validation on \"valid\" subset\r\n"
     ]
    },
    {
     "name": "stdout",
     "output_type": "stream",
     "text": [
      "[2021-06-09 13:04:24,714][fairseq.tasks.unpaired_audio_text][INFO] - REF: ɛ n f œ ʂ ə n a d ɵ ʂ ə k t f øː r d eː t s ɔ m h ɛ n d ə p oː ɕ œ r k ɔ n s ɛ t ə n\r\n",
      "[2021-06-09 13:04:24,717][fairseq.tasks.unpaired_audio_text][INFO] - HYP: n ɪ n s j œ r œ j yː j uː œ yː k j ə ɡ f œ øː j m b ə m ɔ k b ə uː s eː r n v oː s ɪ ŋ k ɪ l s uː t a n t a\r\n",
      "[2021-06-09 13:04:24,721][fairseq.tasks.unpaired_audio_text][INFO] - LM [REF]: -53.44462585449219, 0.05339602260269112\r\n",
      "[2021-06-09 13:04:24,721][fairseq.tasks.unpaired_audio_text][INFO] - LM [HYP]: -90.70709228515625, 0.016650587548287497\r\n"
     ]
    },
    {
     "name": "stdout",
     "output_type": "stream",
     "text": [
      "[2021-06-09 13:04:25,220][valid][INFO] - {\"epoch\": 5351, \"valid_loss\": \"1.002\", \"valid_ntokens\": \"3039.79\", \"valid_nsentences\": \"144.214\", \"valid_lm_score_sum\": \"-89722.1\", \"valid_num_pred_chars\": \"48526\", \"valid_vocab_seen_pct\": \"0.88676\", \"valid_uer\": \"100.183\", \"valid_weighted_lm_ppl\": \"75.7674\", \"valid_lm_ppl\": \"59.5791\", \"valid_wps\": \"18669\", \"valid_wpb\": \"3039.8\", \"valid_bsz\": \"144.2\", \"valid_num_updates\": \"85616\", \"valid_best_weighted_lm_ppl\": \"73.0296\"}\r\n",
      "[2021-06-09 13:04:25,223][fairseq.checkpoint_utils][INFO] - Preparing to save checkpoint for epoch 5351 @ 85616 updates\r\n",
      "[2021-06-09 13:04:25,224][fairseq.trainer][INFO] - Saving checkpoint to /kaggle/working/checkpoint_last.pt\r\n"
     ]
    },
    {
     "name": "stdout",
     "output_type": "stream",
     "text": [
      "[2021-06-09 13:04:25,271][fairseq.trainer][INFO] - Finished saving checkpoint to /kaggle/working/checkpoint_last.pt\r\n",
      "[2021-06-09 13:04:25,271][fairseq.checkpoint_utils][INFO] - Saved checkpoint /kaggle/working/checkpoint_last.pt (epoch 5351 @ 85616 updates, score 75.76740892966929) (writing took 0.04816112600019551 seconds)\r\n",
      "[2021-06-09 13:04:25,272][fairseq_cli.train][INFO] - end of epoch 5351 (average epoch stats below)\r\n",
      "[2021-06-09 13:04:25,274][train][INFO] - {\"epoch\": 5351, \"train_loss\": \"3.837\", \"train_ntokens\": \"145.688\", \"train_nsentences\": \"145.688\", \"train_temp\": \"0.1\", \"train_code_ppl\": \"8.789\", \"train_loss_code_pen\": \"0.332\", \"train_loss_smoothness\": \"2.085\", \"train_loss_dense_g\": \"4.425\", \"train_lm_score_sum\": 0.0, \"train_num_pred_chars\": 0.0, \"train_loss_grad_pen\": \"0.109\", \"train_loss_dense_d\": \"0.032\", \"train_loss_token_d\": \"0.036\", \"train_wps\": \"10.3\", \"train_ups\": \"0.07\", \"train_wpb\": \"145.7\", \"train_bsz\": \"145.7\", \"train_num_updates\": \"85616\", \"train_lr_discriminator\": \"0.0005\", \"train_lr_generator\": \"0.0004\", \"train_gnorm\": \"33.169\", \"train_clip\": \"93.8\", \"train_train_wall\": \"223\", \"train_wall\": \"3852\"}\r\n"
     ]
    },
    {
     "name": "stdout",
     "output_type": "stream",
     "text": [
      "[2021-06-09 13:04:25,334][fairseq.trainer][INFO] - begin training epoch 5352\r\n",
      "[2021-06-09 13:04:25,335][fairseq_cli.train][INFO] - Start iterating over samples\r\n"
     ]
    },
    {
     "name": "stdout",
     "output_type": "stream",
     "text": [
      "[2021-06-09 13:08:29,309][fairseq_cli.train][INFO] - begin validation on \"valid\" subset\r\n"
     ]
    },
    {
     "name": "stdout",
     "output_type": "stream",
     "text": [
      "[2021-06-09 13:08:31,719][fairseq.tasks.unpaired_audio_text][INFO] - REF: ɛ n f œ ʂ ə n a d ɵ ʂ ə k t f øː r d eː t s ɔ m h ɛ n d ə p oː ɕ œ r k ɔ n s ɛ t ə n\r\n",
      "[2021-06-09 13:08:31,722][fairseq.tasks.unpaired_audio_text][INFO] - HYP: n ɪ n s j œ r œ j ɕ j uː œ yː k j ə ɡ f œ øː j m ə h œ k b ə uː s eː r n v oː s ɪ ŋ k ɪ l s uː t a n t a\r\n",
      "[2021-06-09 13:08:31,726][fairseq.tasks.unpaired_audio_text][INFO] - LM [REF]: -53.44462585449219, 0.05339602260269112\r\n",
      "[2021-06-09 13:08:31,726][fairseq.tasks.unpaired_audio_text][INFO] - LM [HYP]: -90.68490600585938, 0.015356840722098065\r\n"
     ]
    },
    {
     "name": "stdout",
     "output_type": "stream",
     "text": [
      "[2021-06-09 13:08:32,236][valid][INFO] - {\"epoch\": 5352, \"valid_loss\": \"1\", \"valid_ntokens\": \"3039.79\", \"valid_nsentences\": \"144.214\", \"valid_lm_score_sum\": \"-89452.2\", \"valid_num_pred_chars\": \"48308\", \"valid_vocab_seen_pct\": \"0.885017\", \"valid_uer\": \"99.9507\", \"valid_weighted_lm_ppl\": \"76.4743\", \"valid_lm_ppl\": \"59.899\", \"valid_wps\": \"18457\", \"valid_wpb\": \"3039.8\", \"valid_bsz\": \"144.2\", \"valid_num_updates\": \"85632\", \"valid_best_weighted_lm_ppl\": \"73.0296\"}\r\n",
      "[2021-06-09 13:08:32,239][fairseq.checkpoint_utils][INFO] - Preparing to save checkpoint for epoch 5352 @ 85632 updates\r\n",
      "[2021-06-09 13:08:32,240][fairseq.trainer][INFO] - Saving checkpoint to /kaggle/working/checkpoint_last.pt\r\n"
     ]
    },
    {
     "name": "stdout",
     "output_type": "stream",
     "text": [
      "[2021-06-09 13:08:32,286][fairseq.trainer][INFO] - Finished saving checkpoint to /kaggle/working/checkpoint_last.pt\r\n",
      "[2021-06-09 13:08:32,287][fairseq.checkpoint_utils][INFO] - Saved checkpoint /kaggle/working/checkpoint_last.pt (epoch 5352 @ 85632 updates, score 76.4743124655237) (writing took 0.04777733700029785 seconds)\r\n",
      "[2021-06-09 13:08:32,287][fairseq_cli.train][INFO] - end of epoch 5352 (average epoch stats below)\r\n",
      "[2021-06-09 13:08:32,290][train][INFO] - {\"epoch\": 5352, \"train_loss\": \"3.515\", \"train_ntokens\": \"145.688\", \"train_nsentences\": \"145.688\", \"train_temp\": \"0.1\", \"train_code_ppl\": \"8.703\", \"train_loss_code_pen\": \"0.321\", \"train_loss_smoothness\": \"2.056\", \"train_loss_dense_g\": \"4.272\", \"train_lm_score_sum\": 0.0, \"train_num_pred_chars\": 0.0, \"train_loss_grad_pen\": \"0.07\", \"train_loss_dense_d\": \"0.027\", \"train_loss_token_d\": \"0.047\", \"train_wps\": \"9.4\", \"train_ups\": \"0.06\", \"train_wpb\": \"145.7\", \"train_bsz\": \"145.7\", \"train_num_updates\": \"85632\", \"train_lr_discriminator\": \"0.0005\", \"train_lr_generator\": \"0.0004\", \"train_gnorm\": \"31.324\", \"train_clip\": \"75\", \"train_train_wall\": \"244\", \"train_wall\": \"4099\"}\r\n"
     ]
    },
    {
     "name": "stdout",
     "output_type": "stream",
     "text": [
      "[2021-06-09 13:08:32,359][fairseq.trainer][INFO] - begin training epoch 5353\r\n",
      "[2021-06-09 13:08:32,361][fairseq_cli.train][INFO] - Start iterating over samples\r\n"
     ]
    },
    {
     "name": "stdout",
     "output_type": "stream",
     "text": [
      "[2021-06-09 13:12:33,919][fairseq_cli.train][INFO] - begin validation on \"valid\" subset\r\n"
     ]
    },
    {
     "name": "stdout",
     "output_type": "stream",
     "text": [
      "[2021-06-09 13:12:36,509][fairseq.tasks.unpaired_audio_text][INFO] - REF: ɛ n f œ ʂ ə n a d ɵ ʂ ə k t f øː r d eː t s ɔ m h ɛ n d ə p oː ɕ œ r k ɔ n s ɛ t ə n\r\n",
      "[2021-06-09 13:12:36,512][fairseq.tasks.unpaired_audio_text][INFO] - HYP: n ɪ n s j œ r œ j uː œ yː k j ə ɡ f œ j m ə h œ k b ə uː s eː r n v oː s ɪ ŋ k ɪ l s d uː t a n t a\r\n",
      "[2021-06-09 13:12:36,517][fairseq.tasks.unpaired_audio_text][INFO] - LM [REF]: -53.44462585449219, 0.05339602260269112\r\n",
      "[2021-06-09 13:12:36,518][fairseq.tasks.unpaired_audio_text][INFO] - LM [HYP]: -85.12630462646484, 0.016847494384286687\r\n"
     ]
    },
    {
     "name": "stdout",
     "output_type": "stream",
     "text": [
      "[2021-06-09 13:12:37,107][valid][INFO] - {\"epoch\": 5353, \"valid_loss\": \"1.001\", \"valid_ntokens\": \"3039.79\", \"valid_nsentences\": \"144.214\", \"valid_lm_score_sum\": \"-89452.5\", \"valid_num_pred_chars\": \"48399\", \"valid_vocab_seen_pct\": \"0.890244\", \"valid_uer\": \"100.07\", \"valid_weighted_lm_ppl\": \"75.024\", \"valid_lm_ppl\": \"59.4591\", \"valid_wps\": \"16914.9\", \"valid_wpb\": \"3039.8\", \"valid_bsz\": \"144.2\", \"valid_num_updates\": \"85648\", \"valid_best_weighted_lm_ppl\": \"73.0296\"}\r\n",
      "[2021-06-09 13:12:37,110][fairseq.checkpoint_utils][INFO] - Preparing to save checkpoint for epoch 5353 @ 85648 updates\r\n",
      "[2021-06-09 13:12:37,111][fairseq.trainer][INFO] - Saving checkpoint to /kaggle/working/checkpoint_last.pt\r\n"
     ]
    },
    {
     "name": "stdout",
     "output_type": "stream",
     "text": [
      "[2021-06-09 13:12:37,160][fairseq.trainer][INFO] - Finished saving checkpoint to /kaggle/working/checkpoint_last.pt\r\n",
      "[2021-06-09 13:12:37,160][fairseq.checkpoint_utils][INFO] - Saved checkpoint /kaggle/working/checkpoint_last.pt (epoch 5353 @ 85648 updates, score 75.02395642769963) (writing took 0.04979255500074942 seconds)\r\n",
      "[2021-06-09 13:12:37,160][fairseq_cli.train][INFO] - end of epoch 5353 (average epoch stats below)\r\n",
      "[2021-06-09 13:12:37,163][train][INFO] - {\"epoch\": 5353, \"train_loss\": \"3.713\", \"train_ntokens\": \"145.688\", \"train_nsentences\": \"145.688\", \"train_temp\": \"0.1\", \"train_code_ppl\": \"8.726\", \"train_loss_code_pen\": \"0.344\", \"train_loss_smoothness\": \"2.127\", \"train_loss_dense_g\": \"4.163\", \"train_lm_score_sum\": 0.0, \"train_num_pred_chars\": 0.0, \"train_loss_grad_pen\": \"0.106\", \"train_loss_dense_d\": \"0.023\", \"train_loss_token_d\": \"0.027\", \"train_wps\": \"9.5\", \"train_ups\": \"0.07\", \"train_wpb\": \"145.7\", \"train_bsz\": \"145.7\", \"train_num_updates\": \"85648\", \"train_lr_discriminator\": \"0.0005\", \"train_lr_generator\": \"0.0004\", \"train_gnorm\": \"30.819\", \"train_clip\": \"81.2\", \"train_train_wall\": \"241\", \"train_wall\": \"4343\"}\r\n"
     ]
    },
    {
     "name": "stdout",
     "output_type": "stream",
     "text": [
      "[2021-06-09 13:12:37,223][fairseq.trainer][INFO] - begin training epoch 5354\r\n",
      "[2021-06-09 13:12:37,225][fairseq_cli.train][INFO] - Start iterating over samples\r\n"
     ]
    },
    {
     "name": "stdout",
     "output_type": "stream",
     "text": [
      "[2021-06-09 13:16:48,716][fairseq_cli.train][INFO] - begin validation on \"valid\" subset\r\n"
     ]
    },
    {
     "name": "stdout",
     "output_type": "stream",
     "text": [
      "[2021-06-09 13:16:51,145][fairseq.tasks.unpaired_audio_text][INFO] - REF: ɛ n f œ ʂ ə n a d ɵ ʂ ə k t f øː r d eː t s ɔ m h ɛ n d ə p oː ɕ œ r k ɔ n s ɛ t ə n\r\n",
      "[2021-06-09 13:16:51,147][fairseq.tasks.unpaired_audio_text][INFO] - HYP: n ɪ n s j œ r œ j j uː œ yː k j ə ɡ f œ øː j m ə h œ k ə uː s eː r n v oː s ɪ ŋ k ɪ l s uː t a n t a\r\n",
      "[2021-06-09 13:16:51,151][fairseq.tasks.unpaired_audio_text][INFO] - LM [REF]: -53.44462585449219, 0.05339602260269112\r\n",
      "[2021-06-09 13:16:51,151][fairseq.tasks.unpaired_audio_text][INFO] - LM [HYP]: -86.17926025390625, 0.01601764797160115\r\n"
     ]
    },
    {
     "name": "stdout",
     "output_type": "stream",
     "text": [
      "[2021-06-09 13:16:51,658][valid][INFO] - {\"epoch\": 5354, \"valid_loss\": \"1.001\", \"valid_ntokens\": \"3039.79\", \"valid_nsentences\": \"144.214\", \"valid_lm_score_sum\": \"-89564.8\", \"valid_num_pred_chars\": \"48444\", \"valid_vocab_seen_pct\": \"0.888502\", \"valid_uer\": \"100.11\", \"valid_weighted_lm_ppl\": \"75.4301\", \"valid_lm_ppl\": \"59.5472\", \"valid_wps\": \"18347.2\", \"valid_wpb\": \"3039.8\", \"valid_bsz\": \"144.2\", \"valid_num_updates\": \"85664\", \"valid_best_weighted_lm_ppl\": \"73.0296\"}\r\n",
      "[2021-06-09 13:16:51,661][fairseq.checkpoint_utils][INFO] - Preparing to save checkpoint for epoch 5354 @ 85664 updates\r\n",
      "[2021-06-09 13:16:51,662][fairseq.trainer][INFO] - Saving checkpoint to /kaggle/working/checkpoint_last.pt\r\n"
     ]
    },
    {
     "name": "stdout",
     "output_type": "stream",
     "text": [
      "[2021-06-09 13:16:51,707][fairseq.trainer][INFO] - Finished saving checkpoint to /kaggle/working/checkpoint_last.pt\r\n",
      "[2021-06-09 13:16:51,707][fairseq.checkpoint_utils][INFO] - Saved checkpoint /kaggle/working/checkpoint_last.pt (epoch 5354 @ 85664 updates, score 75.43011521836812) (writing took 0.0468035490002876 seconds)\r\n",
      "[2021-06-09 13:16:51,708][fairseq_cli.train][INFO] - end of epoch 5354 (average epoch stats below)\r\n",
      "[2021-06-09 13:16:51,711][train][INFO] - {\"epoch\": 5354, \"train_loss\": \"3.324\", \"train_ntokens\": \"145.688\", \"train_nsentences\": \"145.688\", \"train_temp\": \"0.1\", \"train_code_ppl\": \"8.788\", \"train_loss_code_pen\": \"0.328\", \"train_loss_smoothness\": \"2.066\", \"train_loss_dense_g\": \"4.325\", \"train_lm_score_sum\": 0.0, \"train_num_pred_chars\": 0.0, \"train_loss_grad_pen\": \"0.113\", \"train_loss_dense_d\": \"0.024\", \"train_loss_token_d\": \"0.031\", \"train_wps\": \"9.2\", \"train_ups\": \"0.06\", \"train_wpb\": \"145.7\", \"train_bsz\": \"145.7\", \"train_num_updates\": \"85664\", \"train_lr_discriminator\": \"0.0005\", \"train_lr_generator\": \"0.0004\", \"train_gnorm\": \"31.142\", \"train_clip\": \"93.8\", \"train_train_wall\": \"251\", \"train_wall\": \"4598\"}\r\n"
     ]
    },
    {
     "name": "stdout",
     "output_type": "stream",
     "text": [
      "[2021-06-09 13:16:51,765][fairseq.trainer][INFO] - begin training epoch 5355\r\n",
      "[2021-06-09 13:16:51,767][fairseq_cli.train][INFO] - Start iterating over samples\r\n"
     ]
    },
    {
     "name": "stdout",
     "output_type": "stream",
     "text": [
      "[2021-06-09 13:21:04,065][fairseq_cli.train][INFO] - begin validation on \"valid\" subset\r\n"
     ]
    },
    {
     "name": "stdout",
     "output_type": "stream",
     "text": [
      "[2021-06-09 13:21:06,536][fairseq.tasks.unpaired_audio_text][INFO] - REF: ɛ n f œ ʂ ə n a d ɵ ʂ ə k t f øː r d eː t s ɔ m h ɛ n d ə p oː ɕ œ r k ɔ n s ɛ t ə n\r\n"
     ]
    },
    {
     "name": "stdout",
     "output_type": "stream",
     "text": [
      "[2021-06-09 13:21:06,539][fairseq.tasks.unpaired_audio_text][INFO] - HYP: n ɪ s j œ r œ j ɕ j uː œ yː k j ə ɡ f œ j m uː ə m œ k b ə uː s eː r n v oː s ɪ ŋ k ɪ l s uː t a n t a\r\n",
      "[2021-06-09 13:21:06,546][fairseq.tasks.unpaired_audio_text][INFO] - LM [REF]: -53.44462585449219, 0.05339602260269112\r\n",
      "[2021-06-09 13:21:06,546][fairseq.tasks.unpaired_audio_text][INFO] - LM [HYP]: -89.29692077636719, 0.015052681126508838\r\n"
     ]
    },
    {
     "name": "stdout",
     "output_type": "stream",
     "text": [
      "[2021-06-09 13:21:07,056][valid][INFO] - {\"epoch\": 5355, \"valid_loss\": \"1\", \"valid_ntokens\": \"3039.79\", \"valid_nsentences\": \"144.214\", \"valid_lm_score_sum\": \"-89581.7\", \"valid_num_pred_chars\": \"48435\", \"valid_vocab_seen_pct\": \"0.885017\", \"valid_uer\": \"100.026\", \"valid_weighted_lm_ppl\": \"76.1393\", \"valid_lm_ppl\": \"59.6365\", \"valid_wps\": \"18148.1\", \"valid_wpb\": \"3039.8\", \"valid_bsz\": \"144.2\", \"valid_num_updates\": \"85680\", \"valid_best_weighted_lm_ppl\": \"73.0296\"}\r\n",
      "[2021-06-09 13:21:07,059][fairseq.checkpoint_utils][INFO] - Preparing to save checkpoint for epoch 5355 @ 85680 updates\r\n",
      "[2021-06-09 13:21:07,061][fairseq.trainer][INFO] - Saving checkpoint to /kaggle/working/checkpoint_last.pt\r\n"
     ]
    },
    {
     "name": "stdout",
     "output_type": "stream",
     "text": [
      "[2021-06-09 13:21:07,106][fairseq.trainer][INFO] - Finished saving checkpoint to /kaggle/working/checkpoint_last.pt\r\n",
      "[2021-06-09 13:21:07,106][fairseq.checkpoint_utils][INFO] - Saved checkpoint /kaggle/working/checkpoint_last.pt (epoch 5355 @ 85680 updates, score 76.13926137745541) (writing took 0.04697259599925019 seconds)\r\n",
      "[2021-06-09 13:21:07,107][fairseq_cli.train][INFO] - end of epoch 5355 (average epoch stats below)\r\n",
      "[2021-06-09 13:21:07,111][train][INFO] - {\"epoch\": 5355, \"train_loss\": \"3.205\", \"train_ntokens\": \"145.688\", \"train_nsentences\": \"145.688\", \"train_temp\": \"0.1\", \"train_code_ppl\": \"8.643\", \"train_loss_code_pen\": \"0.327\", \"train_loss_smoothness\": \"2.074\", \"train_loss_dense_g\": \"4.108\", \"train_lm_score_sum\": 0.0, \"train_num_pred_chars\": 0.0, \"train_loss_grad_pen\": \"0.085\", \"train_loss_dense_d\": \"0.026\", \"train_loss_token_d\": \"0.022\", \"train_wps\": \"9.1\", \"train_ups\": \"0.06\", \"train_wpb\": \"145.7\", \"train_bsz\": \"145.7\", \"train_num_updates\": \"85680\", \"train_lr_discriminator\": \"0.0005\", \"train_lr_generator\": \"0.0004\", \"train_gnorm\": \"29.972\", \"train_clip\": \"81.2\", \"train_train_wall\": \"252\", \"train_wall\": \"4853\"}\r\n"
     ]
    },
    {
     "name": "stdout",
     "output_type": "stream",
     "text": [
      "[2021-06-09 13:21:07,170][fairseq.trainer][INFO] - begin training epoch 5356\r\n",
      "[2021-06-09 13:21:07,171][fairseq_cli.train][INFO] - Start iterating over samples\r\n"
     ]
    },
    {
     "name": "stdout",
     "output_type": "stream",
     "text": [
      "[2021-06-09 13:25:05,413][fairseq_cli.train][INFO] - begin validation on \"valid\" subset\r\n"
     ]
    },
    {
     "name": "stdout",
     "output_type": "stream",
     "text": [
      "[2021-06-09 13:25:07,797][fairseq.tasks.unpaired_audio_text][INFO] - REF: ɛ n f œ ʂ ə n a d ɵ ʂ ə k t f øː r d eː t s ɔ m h ɛ n d ə p oː ɕ œ r k ɔ n s ɛ t ə n\r\n",
      "[2021-06-09 13:25:07,800][fairseq.tasks.unpaired_audio_text][INFO] - HYP: n ɪ s j œ r œ j ɕ j uː œ yː k j ə ɡ f œ j m uː ə h œ k b ə uː s eː r n v oː s ɪ ŋ k ɪ l s uː t a n t a\r\n",
      "[2021-06-09 13:25:07,804][fairseq.tasks.unpaired_audio_text][INFO] - LM [REF]: -53.44462585449219, 0.05339602260269112\r\n",
      "[2021-06-09 13:25:07,804][fairseq.tasks.unpaired_audio_text][INFO] - LM [HYP]: -89.08799743652344, 0.015201190561290873\r\n"
     ]
    },
    {
     "name": "stdout",
     "output_type": "stream",
     "text": [
      "[2021-06-09 13:25:08,296][valid][INFO] - {\"epoch\": 5356, \"valid_loss\": \"1.001\", \"valid_ntokens\": \"3039.79\", \"valid_nsentences\": \"144.214\", \"valid_lm_score_sum\": \"-89643\", \"valid_num_pred_chars\": \"48489\", \"valid_vocab_seen_pct\": \"0.891986\", \"valid_uer\": \"100.059\", \"valid_weighted_lm_ppl\": \"74.8362\", \"valid_lm_ppl\": \"59.5426\", \"valid_wps\": \"18817.9\", \"valid_wpb\": \"3039.8\", \"valid_bsz\": \"144.2\", \"valid_num_updates\": \"85696\", \"valid_best_weighted_lm_ppl\": \"73.0296\"}\r\n",
      "[2021-06-09 13:25:08,299][fairseq.checkpoint_utils][INFO] - Preparing to save checkpoint for epoch 5356 @ 85696 updates\r\n",
      "[2021-06-09 13:25:08,300][fairseq.trainer][INFO] - Saving checkpoint to /kaggle/working/checkpoint_last.pt\r\n"
     ]
    },
    {
     "name": "stdout",
     "output_type": "stream",
     "text": [
      "[2021-06-09 13:25:08,346][fairseq.trainer][INFO] - Finished saving checkpoint to /kaggle/working/checkpoint_last.pt\r\n",
      "[2021-06-09 13:25:08,346][fairseq.checkpoint_utils][INFO] - Saved checkpoint /kaggle/working/checkpoint_last.pt (epoch 5356 @ 85696 updates, score 74.83622003840134) (writing took 0.04704652399959741 seconds)\r\n",
      "[2021-06-09 13:25:08,347][fairseq_cli.train][INFO] - end of epoch 5356 (average epoch stats below)\r\n",
      "[2021-06-09 13:25:08,350][train][INFO] - {\"epoch\": 5356, \"train_loss\": \"3.551\", \"train_ntokens\": \"145.688\", \"train_nsentences\": \"145.688\", \"train_temp\": \"0.1\", \"train_code_ppl\": \"8.569\", \"train_loss_code_pen\": \"0.31\", \"train_loss_smoothness\": \"2.031\", \"train_loss_dense_g\": \"4.4\", \"train_lm_score_sum\": 0.0, \"train_num_pred_chars\": 0.0, \"train_loss_grad_pen\": \"0.069\", \"train_loss_dense_d\": \"0.024\", \"train_loss_token_d\": \"0.027\", \"train_wps\": \"9.7\", \"train_ups\": \"0.07\", \"train_wpb\": \"145.7\", \"train_bsz\": \"145.7\", \"train_num_updates\": \"85696\", \"train_lr_discriminator\": \"0.0005\", \"train_lr_generator\": \"0.0004\", \"train_gnorm\": \"30.333\", \"train_clip\": \"75\", \"train_train_wall\": \"238\", \"train_wall\": \"5095\"}\r\n"
     ]
    },
    {
     "name": "stdout",
     "output_type": "stream",
     "text": [
      "[2021-06-09 13:25:08,410][fairseq.trainer][INFO] - begin training epoch 5357\r\n",
      "[2021-06-09 13:25:08,411][fairseq_cli.train][INFO] - Start iterating over samples\r\n"
     ]
    },
    {
     "name": "stdout",
     "output_type": "stream",
     "text": [
      "[2021-06-09 13:26:18,517][train_inner][INFO] - {\"epoch\": 5357, \"update\": 5356.25, \"loss\": \"3.518\", \"ntokens\": \"146.26\", \"nsentences\": \"146.26\", \"temp\": \"0.1\", \"code_ppl\": \"8.699\", \"loss_code_pen\": \"0.328\", \"loss_smoothness\": \"2.077\", \"loss_dense_g\": \"4.279\", \"lm_score_sum\": 0.0, \"num_pred_chars\": 0.0, \"loss_grad_pen\": \"0.092\", \"loss_dense_d\": \"0.026\", \"loss_token_d\": \"0.031\", \"wps\": \"9.5\", \"ups\": \"0.06\", \"wpb\": \"146.3\", \"bsz\": \"146.3\", \"num_updates\": \"85700\", \"lr_discriminator\": \"0.0005\", \"lr_generator\": \"0.0004\", \"gnorm\": \"31.061\", \"clip\": \"83\", \"train_wall\": \"1519\", \"wall\": \"5165\"}\r\n"
     ]
    },
    {
     "name": "stdout",
     "output_type": "stream",
     "text": [
      "[2021-06-09 13:29:03,864][fairseq_cli.train][INFO] - begin validation on \"valid\" subset\r\n"
     ]
    },
    {
     "name": "stdout",
     "output_type": "stream",
     "text": [
      "[2021-06-09 13:29:06,280][fairseq.tasks.unpaired_audio_text][INFO] - REF: ɛ n f œ ʂ ə n a d ɵ ʂ ə k t f øː r d eː t s ɔ m h ɛ n d ə p oː ɕ œ r k ɔ n s ɛ t ə n\r\n",
      "[2021-06-09 13:29:06,283][fairseq.tasks.unpaired_audio_text][INFO] - HYP: n ɪ s j œ r œ j ʃ j uː œ yː k j ə ɡ f œ j m ə h ɔ k b ə uː s eː r n v oː s ɪ ŋ k ɪ l s uː t a n t a\r\n",
      "[2021-06-09 13:29:06,287][fairseq.tasks.unpaired_audio_text][INFO] - LM [REF]: -53.44462585449219, 0.05339602260269112\r\n",
      "[2021-06-09 13:29:06,287][fairseq.tasks.unpaired_audio_text][INFO] - LM [HYP]: -85.57740783691406, 0.01648683671527744\r\n"
     ]
    },
    {
     "name": "stdout",
     "output_type": "stream",
     "text": [
      "[2021-06-09 13:29:06,799][valid][INFO] - {\"epoch\": 5357, \"valid_loss\": \"1\", \"valid_ntokens\": \"3039.79\", \"valid_nsentences\": \"144.214\", \"valid_lm_score_sum\": \"-89427.8\", \"valid_num_pred_chars\": \"48385\", \"valid_vocab_seen_pct\": \"0.89547\", \"valid_uer\": \"99.9624\", \"valid_weighted_lm_ppl\": \"74.1512\", \"valid_lm_ppl\": \"59.4594\", \"valid_wps\": \"18761.4\", \"valid_wpb\": \"3039.8\", \"valid_bsz\": \"144.2\", \"valid_num_updates\": \"85712\", \"valid_best_weighted_lm_ppl\": \"73.0296\"}\r\n",
      "[2021-06-09 13:29:06,802][fairseq.checkpoint_utils][INFO] - Preparing to save checkpoint for epoch 5357 @ 85712 updates\r\n",
      "[2021-06-09 13:29:06,803][fairseq.trainer][INFO] - Saving checkpoint to /kaggle/working/checkpoint_last.pt\r\n"
     ]
    },
    {
     "name": "stdout",
     "output_type": "stream",
     "text": [
      "[2021-06-09 13:29:06,850][fairseq.trainer][INFO] - Finished saving checkpoint to /kaggle/working/checkpoint_last.pt\r\n",
      "[2021-06-09 13:29:06,851][fairseq.checkpoint_utils][INFO] - Saved checkpoint /kaggle/working/checkpoint_last.pt (epoch 5357 @ 85712 updates, score 74.15115845461636) (writing took 0.048916413000370085 seconds)\r\n",
      "[2021-06-09 13:29:06,851][fairseq_cli.train][INFO] - end of epoch 5357 (average epoch stats below)\r\n",
      "[2021-06-09 13:29:06,854][train][INFO] - {\"epoch\": 5357, \"train_loss\": \"3.749\", \"train_ntokens\": \"145.688\", \"train_nsentences\": \"145.688\", \"train_temp\": \"0.1\", \"train_code_ppl\": \"8.566\", \"train_loss_code_pen\": \"0.333\", \"train_loss_smoothness\": \"2.106\", \"train_loss_dense_g\": \"4.281\", \"train_lm_score_sum\": 0.0, \"train_num_pred_chars\": 0.0, \"train_loss_grad_pen\": \"0.082\", \"train_loss_dense_d\": \"0.026\", \"train_loss_token_d\": \"0.023\", \"train_wps\": \"9.8\", \"train_ups\": \"0.07\", \"train_wpb\": \"145.7\", \"train_bsz\": \"145.7\", \"train_num_updates\": \"85712\", \"train_lr_discriminator\": \"0.0005\", \"train_lr_generator\": \"0.0004\", \"train_gnorm\": \"33.409\", \"train_clip\": \"81.2\", \"train_train_wall\": \"235\", \"train_wall\": \"5333\"}\r\n"
     ]
    },
    {
     "name": "stdout",
     "output_type": "stream",
     "text": [
      "[2021-06-09 13:29:06,930][fairseq.trainer][INFO] - begin training epoch 5358\r\n",
      "[2021-06-09 13:29:06,931][fairseq_cli.train][INFO] - Start iterating over samples\r\n"
     ]
    },
    {
     "name": "stdout",
     "output_type": "stream",
     "text": [
      "[2021-06-09 13:33:15,908][fairseq_cli.train][INFO] - begin validation on \"valid\" subset\r\n"
     ]
    },
    {
     "name": "stdout",
     "output_type": "stream",
     "text": [
      "[2021-06-09 13:33:18,321][fairseq.tasks.unpaired_audio_text][INFO] - REF: ɛ n f œ ʂ ə n a d ɵ ʂ ə k t f øː r d eː t s ɔ m h ɛ n d ə p oː ɕ œ r k ɔ n s ɛ t ə n\r\n",
      "[2021-06-09 13:33:18,324][fairseq.tasks.unpaired_audio_text][INFO] - HYP: n ɪ s j œ r œ j ɕ j uː œ yː k j ə ɡ f œ j m ə h ɔ b ə uː s eː r n v oː s ɪ ŋ k l ɪ l s uː t a n t a\r\n"
     ]
    },
    {
     "name": "stdout",
     "output_type": "stream",
     "text": [
      "[2021-06-09 13:33:18,329][fairseq.tasks.unpaired_audio_text][INFO] - LM [REF]: -53.44462585449219, 0.05339602260269112\r\n",
      "[2021-06-09 13:33:18,329][fairseq.tasks.unpaired_audio_text][INFO] - LM [HYP]: -87.37290954589844, 0.01512624223928836\r\n"
     ]
    },
    {
     "name": "stdout",
     "output_type": "stream",
     "text": [
      "[2021-06-09 13:33:18,826][valid][INFO] - {\"epoch\": 5358, \"valid_loss\": \"1.003\", \"valid_ntokens\": \"3039.79\", \"valid_nsentences\": \"144.214\", \"valid_lm_score_sum\": \"-89581.3\", \"valid_num_pred_chars\": \"48491\", \"valid_vocab_seen_pct\": \"0.885017\", \"valid_uer\": \"100.256\", \"valid_weighted_lm_ppl\": \"75.7936\", \"valid_lm_ppl\": \"59.3658\", \"valid_wps\": \"18629.6\", \"valid_wpb\": \"3039.8\", \"valid_bsz\": \"144.2\", \"valid_num_updates\": \"85728\", \"valid_best_weighted_lm_ppl\": \"73.0296\"}\r\n",
      "[2021-06-09 13:33:18,829][fairseq.checkpoint_utils][INFO] - Preparing to save checkpoint for epoch 5358 @ 85728 updates\r\n",
      "[2021-06-09 13:33:18,830][fairseq.trainer][INFO] - Saving checkpoint to /kaggle/working/checkpoint_last.pt\r\n"
     ]
    },
    {
     "name": "stdout",
     "output_type": "stream",
     "text": [
      "[2021-06-09 13:33:18,876][fairseq.trainer][INFO] - Finished saving checkpoint to /kaggle/working/checkpoint_last.pt\r\n",
      "[2021-06-09 13:33:18,876][fairseq.checkpoint_utils][INFO] - Saved checkpoint /kaggle/working/checkpoint_last.pt (epoch 5358 @ 85728 updates, score 75.79358408842428) (writing took 0.04734419799933676 seconds)\r\n",
      "[2021-06-09 13:33:18,877][fairseq_cli.train][INFO] - end of epoch 5358 (average epoch stats below)\r\n",
      "[2021-06-09 13:33:18,880][train][INFO] - {\"epoch\": 5358, \"train_loss\": \"3.29\", \"train_ntokens\": \"145.688\", \"train_nsentences\": \"145.688\", \"train_temp\": \"0.1\", \"train_code_ppl\": \"8.814\", \"train_loss_code_pen\": \"0.34\", \"train_loss_smoothness\": \"2.118\", \"train_loss_dense_g\": \"4.26\", \"train_lm_score_sum\": 0.0, \"train_num_pred_chars\": 0.0, \"train_loss_grad_pen\": \"0.059\", \"train_loss_dense_d\": \"0.021\", \"train_loss_token_d\": \"0.023\", \"train_wps\": \"9.2\", \"train_ups\": \"0.06\", \"train_wpb\": \"145.7\", \"train_bsz\": \"145.7\", \"train_num_updates\": \"85728\", \"train_lr_discriminator\": \"0.0005\", \"train_lr_generator\": \"0.0004\", \"train_gnorm\": \"29.598\", \"train_clip\": \"56.2\", \"train_train_wall\": \"248\", \"train_wall\": \"5585\"}\r\n"
     ]
    },
    {
     "name": "stdout",
     "output_type": "stream",
     "text": [
      "[2021-06-09 13:33:18,936][fairseq.trainer][INFO] - begin training epoch 5359\r\n",
      "[2021-06-09 13:33:18,938][fairseq_cli.train][INFO] - Start iterating over samples\r\n"
     ]
    },
    {
     "name": "stdout",
     "output_type": "stream",
     "text": [
      "[2021-06-09 13:37:37,452][fairseq_cli.train][INFO] - begin validation on \"valid\" subset\r\n"
     ]
    },
    {
     "name": "stdout",
     "output_type": "stream",
     "text": [
      "[2021-06-09 13:37:39,845][fairseq.tasks.unpaired_audio_text][INFO] - REF: ɛ n f œ ʂ ə n a d ɵ ʂ ə k t f øː r d eː t s ɔ m h ɛ n d ə p oː ɕ œ r k ɔ n s ɛ t ə n\r\n",
      "[2021-06-09 13:37:39,847][fairseq.tasks.unpaired_audio_text][INFO] - HYP: n ɪ s j œ r œ j j uː œ yː k j uː ɡ f œ j m ə h œ k b ə uː s eː r n v oː s ɪ ŋ k l ɪ l s œ uː t a n t a\r\n",
      "[2021-06-09 13:37:39,851][fairseq.tasks.unpaired_audio_text][INFO] - LM [REF]: -53.44462585449219, 0.05339602260269112\r\n",
      "[2021-06-09 13:37:39,852][fairseq.tasks.unpaired_audio_text][INFO] - LM [HYP]: -87.95116424560547, 0.016035343984746306\r\n"
     ]
    },
    {
     "name": "stdout",
     "output_type": "stream",
     "text": [
      "[2021-06-09 13:37:40,362][valid][INFO] - {\"epoch\": 5359, \"valid_loss\": \"1.003\", \"valid_ntokens\": \"3039.79\", \"valid_nsentences\": \"144.214\", \"valid_lm_score_sum\": \"-89781.3\", \"valid_num_pred_chars\": \"48510\", \"valid_vocab_seen_pct\": \"0.881533\", \"valid_uer\": \"100.277\", \"valid_weighted_lm_ppl\": \"76.9751\", \"valid_lm_ppl\": \"59.8174\", \"valid_wps\": \"18667.2\", \"valid_wpb\": \"3039.8\", \"valid_bsz\": \"144.2\", \"valid_num_updates\": \"85744\", \"valid_best_weighted_lm_ppl\": \"73.0296\"}\r\n",
      "[2021-06-09 13:37:40,365][fairseq.checkpoint_utils][INFO] - Preparing to save checkpoint for epoch 5359 @ 85744 updates\r\n",
      "[2021-06-09 13:37:40,366][fairseq.trainer][INFO] - Saving checkpoint to /kaggle/working/checkpoint_last.pt\r\n"
     ]
    },
    {
     "name": "stdout",
     "output_type": "stream",
     "text": [
      "[2021-06-09 13:37:40,412][fairseq.trainer][INFO] - Finished saving checkpoint to /kaggle/working/checkpoint_last.pt\r\n",
      "[2021-06-09 13:37:40,412][fairseq.checkpoint_utils][INFO] - Saved checkpoint /kaggle/working/checkpoint_last.pt (epoch 5359 @ 85744 updates, score 76.97514095674563) (writing took 0.04750826899999083 seconds)\r\n",
      "[2021-06-09 13:37:40,413][fairseq_cli.train][INFO] - end of epoch 5359 (average epoch stats below)\r\n",
      "[2021-06-09 13:37:40,416][train][INFO] - {\"epoch\": 5359, \"train_loss\": \"3.04\", \"train_ntokens\": \"145.688\", \"train_nsentences\": \"145.688\", \"train_temp\": \"0.1\", \"train_code_ppl\": \"8.769\", \"train_loss_code_pen\": \"0.327\", \"train_loss_smoothness\": \"2.05\", \"train_loss_dense_g\": \"4.188\", \"train_lm_score_sum\": 0.0, \"train_num_pred_chars\": 0.0, \"train_loss_grad_pen\": \"0.103\", \"train_loss_dense_d\": \"0.023\", \"train_loss_token_d\": \"0.021\", \"train_wps\": \"8.9\", \"train_ups\": \"0.06\", \"train_wpb\": \"145.7\", \"train_bsz\": \"145.7\", \"train_num_updates\": \"85744\", \"train_lr_discriminator\": \"0.0005\", \"train_lr_generator\": \"0.0004\", \"train_gnorm\": \"31.133\", \"train_clip\": \"68.8\", \"train_train_wall\": \"258\", \"train_wall\": \"5847\"}\r\n"
     ]
    },
    {
     "name": "stdout",
     "output_type": "stream",
     "text": [
      "[2021-06-09 13:37:40,473][fairseq.trainer][INFO] - begin training epoch 5360\r\n",
      "[2021-06-09 13:37:40,475][fairseq_cli.train][INFO] - Start iterating over samples\r\n"
     ]
    },
    {
     "name": "stdout",
     "output_type": "stream",
     "text": [
      "[2021-06-09 13:41:28,920][fairseq_cli.train][INFO] - begin validation on \"valid\" subset\r\n"
     ]
    },
    {
     "name": "stdout",
     "output_type": "stream",
     "text": [
      "[2021-06-09 13:41:31,961][fairseq.tasks.unpaired_audio_text][INFO] - REF: ɛ n f œ ʂ ə n a d ɵ ʂ ə k t f øː r d eː t s ɔ m h ɛ n d ə p oː ɕ œ r k ɔ n s ɛ t ə n\r\n",
      "[2021-06-09 13:41:31,964][fairseq.tasks.unpaired_audio_text][INFO] - HYP: n ɪ n s j œ r œ j ɕ j uː œ yː k j ə ɡ f œ j m uː ə h œ k b ə uː s eː r n v oː s ɪ ŋ k l ɪ l s uː t a n t a\r\n"
     ]
    },
    {
     "name": "stdout",
     "output_type": "stream",
     "text": [
      "[2021-06-09 13:41:31,969][fairseq.tasks.unpaired_audio_text][INFO] - LM [REF]: -53.44462585449219, 0.05339602260269112\r\n",
      "[2021-06-09 13:41:31,969][fairseq.tasks.unpaired_audio_text][INFO] - LM [HYP]: -92.03065490722656, 0.015684741112432586\r\n"
     ]
    },
    {
     "name": "stdout",
     "output_type": "stream",
     "text": [
      "[2021-06-09 13:41:32,503][valid][INFO] - {\"epoch\": 5360, \"valid_loss\": \"1.002\", \"valid_ntokens\": \"3039.79\", \"valid_nsentences\": \"144.214\", \"valid_lm_score_sum\": \"-89756.6\", \"valid_num_pred_chars\": \"48491\", \"valid_vocab_seen_pct\": \"0.883275\", \"valid_uer\": \"100.226\", \"valid_weighted_lm_ppl\": \"76.7032\", \"valid_lm_ppl\": \"59.842\", \"valid_wps\": \"18453.2\", \"valid_wpb\": \"3039.8\", \"valid_bsz\": \"144.2\", \"valid_num_updates\": \"85760\", \"valid_best_weighted_lm_ppl\": \"73.0296\"}\r\n",
      "[2021-06-09 13:41:32,506][fairseq.checkpoint_utils][INFO] - Preparing to save checkpoint for epoch 5360 @ 85760 updates\r\n",
      "[2021-06-09 13:41:32,507][fairseq.trainer][INFO] - Saving checkpoint to /kaggle/working/checkpoint_last.pt\r\n"
     ]
    },
    {
     "name": "stdout",
     "output_type": "stream",
     "text": [
      "[2021-06-09 13:41:32,553][fairseq.trainer][INFO] - Finished saving checkpoint to /kaggle/working/checkpoint_last.pt\r\n",
      "[2021-06-09 13:41:32,553][fairseq.checkpoint_utils][INFO] - Saved checkpoint /kaggle/working/checkpoint_last.pt (epoch 5360 @ 85760 updates, score 76.70324536231675) (writing took 0.04704403599862417 seconds)\r\n",
      "[2021-06-09 13:41:32,553][fairseq_cli.train][INFO] - end of epoch 5360 (average epoch stats below)\r\n",
      "[2021-06-09 13:41:32,556][train][INFO] - {\"epoch\": 5360, \"train_loss\": \"3.474\", \"train_ntokens\": \"145.688\", \"train_nsentences\": \"145.688\", \"train_temp\": \"0.1\", \"train_code_ppl\": \"8.718\", \"train_loss_code_pen\": \"0.304\", \"train_loss_smoothness\": \"2.003\", \"train_loss_dense_g\": \"4.252\", \"train_lm_score_sum\": 0.0, \"train_num_pred_chars\": 0.0, \"train_loss_grad_pen\": \"0.096\", \"train_loss_dense_d\": \"0.024\", \"train_loss_token_d\": \"0.034\", \"train_wps\": \"10\", \"train_ups\": \"0.07\", \"train_wpb\": \"145.7\", \"train_bsz\": \"145.7\", \"train_num_updates\": \"85760\", \"train_lr_discriminator\": \"0.0005\", \"train_lr_generator\": \"0.0004\", \"train_gnorm\": \"31.9\", \"train_clip\": \"81.2\", \"train_train_wall\": \"228\", \"train_wall\": \"6079\"}\r\n"
     ]
    },
    {
     "name": "stdout",
     "output_type": "stream",
     "text": [
      "[2021-06-09 13:41:32,612][fairseq.trainer][INFO] - begin training epoch 5361\r\n",
      "[2021-06-09 13:41:32,613][fairseq_cli.train][INFO] - Start iterating over samples\r\n"
     ]
    },
    {
     "name": "stdout",
     "output_type": "stream",
     "text": [
      "[2021-06-09 13:45:44,314][fairseq_cli.train][INFO] - begin validation on \"valid\" subset\r\n"
     ]
    },
    {
     "name": "stdout",
     "output_type": "stream",
     "text": [
      "[2021-06-09 13:45:46,764][fairseq.tasks.unpaired_audio_text][INFO] - REF: ɛ n f œ ʂ ə n a d ɵ ʂ ə k t f øː r d eː t s ɔ m h ɛ n d ə p oː ɕ œ r k ɔ n s ɛ t ə n\r\n",
      "[2021-06-09 13:45:46,766][fairseq.tasks.unpaired_audio_text][INFO] - HYP: n ɪ n s j œ r œ ɕ j uː œ yː k j ə ɡ f œ j m ə h œ k b ə uː s eː r n v oː s ɪ ŋ k ɪ l s uː t a n t a\r\n",
      "[2021-06-09 13:45:46,770][fairseq.tasks.unpaired_audio_text][INFO] - LM [REF]: -53.44462585449219, 0.05339602260269112\r\n",
      "[2021-06-09 13:45:46,771][fairseq.tasks.unpaired_audio_text][INFO] - LM [HYP]: -86.5205078125, 0.015757576367713556\r\n"
     ]
    },
    {
     "name": "stdout",
     "output_type": "stream",
     "text": [
      "[2021-06-09 13:45:47,270][valid][INFO] - {\"epoch\": 5361, \"valid_loss\": \"1\", \"valid_ntokens\": \"3039.79\", \"valid_nsentences\": \"144.214\", \"valid_lm_score_sum\": \"-89461.9\", \"valid_num_pred_chars\": \"48318\", \"valid_vocab_seen_pct\": \"0.89547\", \"valid_uer\": \"100.026\", \"valid_weighted_lm_ppl\": \"74.672\", \"valid_lm_ppl\": \"59.877\", \"valid_wps\": \"18680.8\", \"valid_wpb\": \"3039.8\", \"valid_bsz\": \"144.2\", \"valid_num_updates\": \"85776\", \"valid_best_weighted_lm_ppl\": \"73.0296\"}\r\n"
     ]
    },
    {
     "name": "stdout",
     "output_type": "stream",
     "text": [
      "[2021-06-09 13:45:47,274][fairseq.checkpoint_utils][INFO] - Preparing to save checkpoint for epoch 5361 @ 85776 updates\r\n",
      "[2021-06-09 13:45:47,275][fairseq.trainer][INFO] - Saving checkpoint to /kaggle/working/checkpoint_last.pt\r\n",
      "[2021-06-09 13:45:47,319][fairseq.trainer][INFO] - Finished saving checkpoint to /kaggle/working/checkpoint_last.pt\r\n",
      "[2021-06-09 13:45:47,319][fairseq.checkpoint_utils][INFO] - Saved checkpoint /kaggle/working/checkpoint_last.pt (epoch 5361 @ 85776 updates, score 74.67196579391245) (writing took 0.0459007700010261 seconds)\r\n",
      "[2021-06-09 13:45:47,320][fairseq_cli.train][INFO] - end of epoch 5361 (average epoch stats below)\r\n"
     ]
    },
    {
     "name": "stdout",
     "output_type": "stream",
     "text": [
      "[2021-06-09 13:45:47,323][train][INFO] - {\"epoch\": 5361, \"train_loss\": \"3.253\", \"train_ntokens\": \"145.688\", \"train_nsentences\": \"145.688\", \"train_temp\": \"0.1\", \"train_code_ppl\": \"8.818\", \"train_loss_code_pen\": \"0.323\", \"train_loss_smoothness\": \"2.079\", \"train_loss_dense_g\": \"4.249\", \"train_lm_score_sum\": 0.0, \"train_num_pred_chars\": 0.0, \"train_loss_grad_pen\": \"0.044\", \"train_loss_dense_d\": \"0.025\", \"train_loss_token_d\": \"0.025\", \"train_wps\": \"9.1\", \"train_ups\": \"0.06\", \"train_wpb\": \"145.7\", \"train_bsz\": \"145.7\", \"train_num_updates\": \"85776\", \"train_lr_discriminator\": \"0.0005\", \"train_lr_generator\": \"0.0004\", \"train_gnorm\": \"29.247\", \"train_clip\": \"56.2\", \"train_train_wall\": \"251\", \"train_wall\": \"6334\"}\r\n"
     ]
    },
    {
     "name": "stdout",
     "output_type": "stream",
     "text": [
      "[2021-06-09 13:45:47,380][fairseq.trainer][INFO] - begin training epoch 5362\r\n",
      "[2021-06-09 13:45:47,382][fairseq_cli.train][INFO] - Start iterating over samples\r\n"
     ]
    },
    {
     "name": "stdout",
     "output_type": "stream",
     "text": [
      "[2021-06-09 13:49:51,023][fairseq_cli.train][INFO] - begin validation on \"valid\" subset\r\n"
     ]
    },
    {
     "name": "stdout",
     "output_type": "stream",
     "text": [
      "[2021-06-09 13:49:53,454][fairseq.tasks.unpaired_audio_text][INFO] - REF: ɛ n f œ ʂ ə n a d ɵ ʂ ə k t f øː r d eː t s ɔ m h ɛ n d ə p oː ɕ œ r k ɔ n s ɛ t ə n\r\n",
      "[2021-06-09 13:49:53,457][fairseq.tasks.unpaired_audio_text][INFO] - HYP: n ɪ n s j œ r œ j ɕ j uː œ yː k j ə f œ j m ə h œ k b ə uː s eː r n v oː s ɪ ŋ k ɪ l s uː t a n t a\r\n",
      "[2021-06-09 13:49:53,461][fairseq.tasks.unpaired_audio_text][INFO] - LM [REF]: -53.44462585449219, 0.05339602260269112\r\n",
      "[2021-06-09 13:49:53,461][fairseq.tasks.unpaired_audio_text][INFO] - LM [HYP]: -85.89035034179688, 0.016241184546464563\r\n"
     ]
    },
    {
     "name": "stdout",
     "output_type": "stream",
     "text": [
      "[2021-06-09 13:49:53,959][valid][INFO] - {\"epoch\": 5362, \"valid_loss\": \"0.999\", \"valid_ntokens\": \"3039.79\", \"valid_nsentences\": \"144.214\", \"valid_lm_score_sum\": \"-89374.9\", \"valid_num_pred_chars\": \"48285\", \"valid_vocab_seen_pct\": \"0.891986\", \"valid_uer\": \"99.9248\", \"valid_weighted_lm_ppl\": \"75.1588\", \"valid_lm_ppl\": \"59.7993\", \"valid_wps\": \"18541.1\", \"valid_wpb\": \"3039.8\", \"valid_bsz\": \"144.2\", \"valid_num_updates\": \"85792\", \"valid_best_weighted_lm_ppl\": \"73.0296\"}\r\n",
      "[2021-06-09 13:49:53,962][fairseq.checkpoint_utils][INFO] - Preparing to save checkpoint for epoch 5362 @ 85792 updates\r\n",
      "[2021-06-09 13:49:53,963][fairseq.trainer][INFO] - Saving checkpoint to /kaggle/working/checkpoint_last.pt\r\n"
     ]
    },
    {
     "name": "stdout",
     "output_type": "stream",
     "text": [
      "[2021-06-09 13:49:54,010][fairseq.trainer][INFO] - Finished saving checkpoint to /kaggle/working/checkpoint_last.pt\r\n",
      "[2021-06-09 13:49:54,010][fairseq.checkpoint_utils][INFO] - Saved checkpoint /kaggle/working/checkpoint_last.pt (epoch 5362 @ 85792 updates, score 75.15883272987516) (writing took 0.04815669800154865 seconds)\r\n",
      "[2021-06-09 13:49:54,011][fairseq_cli.train][INFO] - end of epoch 5362 (average epoch stats below)\r\n",
      "[2021-06-09 13:49:54,014][train][INFO] - {\"epoch\": 5362, \"train_loss\": \"3.562\", \"train_ntokens\": \"145.688\", \"train_nsentences\": \"145.688\", \"train_temp\": \"0.1\", \"train_code_ppl\": \"8.831\", \"train_loss_code_pen\": \"0.331\", \"train_loss_smoothness\": \"2.11\", \"train_loss_dense_g\": \"4.298\", \"train_lm_score_sum\": 0.0, \"train_num_pred_chars\": 0.0, \"train_loss_grad_pen\": \"0.094\", \"train_loss_dense_d\": \"0.022\", \"train_loss_token_d\": \"0.029\", \"train_wps\": \"9.4\", \"train_ups\": \"0.06\", \"train_wpb\": \"145.7\", \"train_bsz\": \"145.7\", \"train_num_updates\": \"85792\", \"train_lr_discriminator\": \"0.0005\", \"train_lr_generator\": \"0.0004\", \"train_gnorm\": \"41.258\", \"train_clip\": \"75\", \"train_train_wall\": \"243\", \"train_wall\": \"6580\"}\r\n"
     ]
    },
    {
     "name": "stdout",
     "output_type": "stream",
     "text": [
      "[2021-06-09 13:49:54,072][fairseq.trainer][INFO] - begin training epoch 5363\r\n",
      "[2021-06-09 13:49:54,073][fairseq_cli.train][INFO] - Start iterating over samples\r\n"
     ]
    },
    {
     "name": "stdout",
     "output_type": "stream",
     "text": [
      "[2021-06-09 13:52:11,725][train_inner][INFO] - {\"epoch\": 5363, \"update\": 5362.5, \"loss\": \"3.38\", \"ntokens\": \"146.26\", \"nsentences\": \"146.26\", \"temp\": \"0.1\", \"code_ppl\": \"8.744\", \"loss_code_pen\": \"0.325\", \"loss_smoothness\": \"2.075\", \"loss_dense_g\": \"4.231\", \"lm_score_sum\": 0.0, \"num_pred_chars\": 0.0, \"loss_grad_pen\": \"0.078\", \"loss_dense_d\": \"0.025\", \"loss_token_d\": \"0.025\", \"wps\": \"9.4\", \"ups\": \"0.06\", \"wpb\": \"146.3\", \"bsz\": \"146.3\", \"num_updates\": \"85800\", \"lr_discriminator\": \"0.0005\", \"lr_generator\": \"0.0004\", \"gnorm\": \"32.658\", \"clip\": \"70\", \"train_wall\": \"1531\", \"wall\": \"6718\"}\r\n"
     ]
    },
    {
     "name": "stdout",
     "output_type": "stream",
     "text": [
      "[2021-06-09 13:54:07,562][fairseq_cli.train][INFO] - begin validation on \"valid\" subset\r\n"
     ]
    },
    {
     "name": "stdout",
     "output_type": "stream",
     "text": [
      "[2021-06-09 13:54:09,966][fairseq.tasks.unpaired_audio_text][INFO] - REF: ɛ n f œ ʂ ə n a d ɵ ʂ ə k t f øː r d eː t s ɔ m h ɛ n d ə p oː ɕ œ r k ɔ n s ɛ t ə n\r\n",
      "[2021-06-09 13:54:09,969][fairseq.tasks.unpaired_audio_text][INFO] - HYP: n ɪ n s j œ r œ j ɕ j uː œ yː k j ə f œ v j m ə h œ k b ə uː s eː r n v oː s ɪ ŋ k ɪ l s uː t n t a\r\n",
      "[2021-06-09 13:54:09,973][fairseq.tasks.unpaired_audio_text][INFO] - LM [REF]: -53.44462585449219, 0.05339602260269112\r\n",
      "[2021-06-09 13:54:09,973][fairseq.tasks.unpaired_audio_text][INFO] - LM [HYP]: -89.06945037841797, 0.013943970344099072\r\n"
     ]
    },
    {
     "name": "stdout",
     "output_type": "stream",
     "text": [
      "[2021-06-09 13:54:10,469][valid][INFO] - {\"epoch\": 5363, \"valid_loss\": \"1\", \"valid_ntokens\": \"3039.79\", \"valid_nsentences\": \"144.214\", \"valid_lm_score_sum\": \"-89506.8\", \"valid_num_pred_chars\": \"48311\", \"valid_vocab_seen_pct\": \"0.88676\", \"valid_uer\": \"100.016\", \"valid_weighted_lm_ppl\": \"76.3461\", \"valid_lm_ppl\": \"60.0342\", \"valid_wps\": \"18844.5\", \"valid_wpb\": \"3039.8\", \"valid_bsz\": \"144.2\", \"valid_num_updates\": \"85808\", \"valid_best_weighted_lm_ppl\": \"73.0296\"}\r\n",
      "[2021-06-09 13:54:10,472][fairseq.checkpoint_utils][INFO] - Preparing to save checkpoint for epoch 5363 @ 85808 updates\r\n",
      "[2021-06-09 13:54:10,473][fairseq.trainer][INFO] - Saving checkpoint to /kaggle/working/checkpoint_last.pt\r\n"
     ]
    },
    {
     "name": "stdout",
     "output_type": "stream",
     "text": [
      "[2021-06-09 13:54:10,518][fairseq.trainer][INFO] - Finished saving checkpoint to /kaggle/working/checkpoint_last.pt\r\n",
      "[2021-06-09 13:54:10,518][fairseq.checkpoint_utils][INFO] - Saved checkpoint /kaggle/working/checkpoint_last.pt (epoch 5363 @ 85808 updates, score 76.34605871392661) (writing took 0.04616777400042338 seconds)\r\n",
      "[2021-06-09 13:54:10,519][fairseq_cli.train][INFO] - end of epoch 5363 (average epoch stats below)\r\n",
      "[2021-06-09 13:54:10,522][train][INFO] - {\"epoch\": 5363, \"train_loss\": \"3.145\", \"train_ntokens\": \"145.688\", \"train_nsentences\": \"145.688\", \"train_temp\": \"0.1\", \"train_code_ppl\": \"8.855\", \"train_loss_code_pen\": \"0.326\", \"train_loss_smoothness\": \"2.096\", \"train_loss_dense_g\": \"3.98\", \"train_lm_score_sum\": 0.0, \"train_num_pred_chars\": 0.0, \"train_loss_grad_pen\": \"0.063\", \"train_loss_dense_d\": \"0.032\", \"train_loss_token_d\": \"0.022\", \"train_wps\": \"9.1\", \"train_ups\": \"0.06\", \"train_wpb\": \"145.7\", \"train_bsz\": \"145.7\", \"train_num_updates\": \"85808\", \"train_lr_discriminator\": \"0.0005\", \"train_lr_generator\": \"0.0004\", \"train_gnorm\": \"30.154\", \"train_clip\": \"81.2\", \"train_train_wall\": \"253\", \"train_wall\": \"6837\"}\r\n"
     ]
    },
    {
     "name": "stdout",
     "output_type": "stream",
     "text": [
      "[2021-06-09 13:54:10,582][fairseq.trainer][INFO] - begin training epoch 5364\r\n",
      "[2021-06-09 13:54:10,583][fairseq_cli.train][INFO] - Start iterating over samples\r\n"
     ]
    },
    {
     "name": "stdout",
     "output_type": "stream",
     "text": [
      "[2021-06-09 13:57:57,711][fairseq_cli.train][INFO] - begin validation on \"valid\" subset\r\n"
     ]
    },
    {
     "name": "stdout",
     "output_type": "stream",
     "text": [
      "[2021-06-09 13:58:00,148][fairseq.tasks.unpaired_audio_text][INFO] - REF: ɛ n f œ ʂ ə n a d ɵ ʂ ə k t f øː r d eː t s ɔ m h ɛ n d ə p oː ɕ œ r k ɔ n s ɛ t ə n\r\n",
      "[2021-06-09 13:58:00,150][fairseq.tasks.unpaired_audio_text][INFO] - HYP: n ɪ n s j œ r œ j ɕ j uː œ yː k j ə f œ v j m ə h œ k b ə uː s eː r n v oː s ɪ ŋ k ɪ l s uː m a n t a\r\n"
     ]
    },
    {
     "name": "stdout",
     "output_type": "stream",
     "text": [
      "[2021-06-09 13:58:00,156][fairseq.tasks.unpaired_audio_text][INFO] - LM [REF]: -53.44462585449219, 0.05339602260269112\r\n",
      "[2021-06-09 13:58:00,156][fairseq.tasks.unpaired_audio_text][INFO] - LM [HYP]: -87.78309631347656, 0.016162488858121316\r\n"
     ]
    },
    {
     "name": "stdout",
     "output_type": "stream",
     "text": [
      "[2021-06-09 13:58:00,668][valid][INFO] - {\"epoch\": 5364, \"valid_loss\": \"1\", \"valid_ntokens\": \"3039.79\", \"valid_nsentences\": \"144.214\", \"valid_lm_score_sum\": \"-89592.6\", \"valid_num_pred_chars\": \"48394\", \"valid_vocab_seen_pct\": \"0.888502\", \"valid_uer\": \"99.9859\", \"valid_weighted_lm_ppl\": \"75.8326\", \"valid_lm_ppl\": \"59.865\", \"valid_wps\": \"18488.4\", \"valid_wpb\": \"3039.8\", \"valid_bsz\": \"144.2\", \"valid_num_updates\": \"85824\", \"valid_best_weighted_lm_ppl\": \"73.0296\"}\r\n",
      "[2021-06-09 13:58:00,671][fairseq.checkpoint_utils][INFO] - Preparing to save checkpoint for epoch 5364 @ 85824 updates\r\n",
      "[2021-06-09 13:58:00,672][fairseq.trainer][INFO] - Saving checkpoint to /kaggle/working/checkpoint_last.pt\r\n"
     ]
    },
    {
     "name": "stdout",
     "output_type": "stream",
     "text": [
      "[2021-06-09 13:58:00,717][fairseq.trainer][INFO] - Finished saving checkpoint to /kaggle/working/checkpoint_last.pt\r\n",
      "[2021-06-09 13:58:00,718][fairseq.checkpoint_utils][INFO] - Saved checkpoint /kaggle/working/checkpoint_last.pt (epoch 5364 @ 85824 updates, score 75.83264238613694) (writing took 0.04704389899961825 seconds)\r\n",
      "[2021-06-09 13:58:00,718][fairseq_cli.train][INFO] - end of epoch 5364 (average epoch stats below)\r\n",
      "[2021-06-09 13:58:00,721][train][INFO] - {\"epoch\": 5364, \"train_loss\": \"3.723\", \"train_ntokens\": \"145.688\", \"train_nsentences\": \"145.688\", \"train_temp\": \"0.1\", \"train_code_ppl\": \"8.703\", \"train_loss_code_pen\": \"0.338\", \"train_loss_smoothness\": \"2.121\", \"train_loss_dense_g\": \"4.229\", \"train_lm_score_sum\": 0.0, \"train_num_pred_chars\": 0.0, \"train_loss_grad_pen\": \"0.066\", \"train_loss_dense_d\": \"0.02\", \"train_loss_token_d\": \"0.027\", \"train_wps\": \"10.1\", \"train_ups\": \"0.07\", \"train_wpb\": \"145.7\", \"train_bsz\": \"145.7\", \"train_num_updates\": \"85824\", \"train_lr_discriminator\": \"0.0005\", \"train_lr_generator\": \"0.0004\", \"train_gnorm\": \"30.248\", \"train_clip\": \"68.8\", \"train_train_wall\": \"227\", \"train_wall\": \"7067\"}\r\n"
     ]
    },
    {
     "name": "stdout",
     "output_type": "stream",
     "text": [
      "[2021-06-09 13:58:00,777][fairseq.trainer][INFO] - begin training epoch 5365\r\n",
      "[2021-06-09 13:58:00,778][fairseq_cli.train][INFO] - Start iterating over samples\r\n"
     ]
    },
    {
     "name": "stdout",
     "output_type": "stream",
     "text": [
      "[2021-06-09 14:02:01,143][fairseq_cli.train][INFO] - begin validation on \"valid\" subset\r\n"
     ]
    },
    {
     "name": "stdout",
     "output_type": "stream",
     "text": [
      "[2021-06-09 14:02:03,541][fairseq.tasks.unpaired_audio_text][INFO] - REF: ɛ n f œ ʂ ə n a d ɵ ʂ ə k t f øː r d eː t s ɔ m h ɛ n d ə p oː ɕ œ r k ɔ n s ɛ t ə n\r\n",
      "[2021-06-09 14:02:03,544][fairseq.tasks.unpaired_audio_text][INFO] - HYP: n ɪ n s j œ r œ j j uː œ yː k j uː f œ j m ə h œ k b ə uː s eː r n v oː s ɪ ŋ k ɪ l s uː m k n t a\r\n",
      "[2021-06-09 14:02:03,548][fairseq.tasks.unpaired_audio_text][INFO] - LM [REF]: -53.44462585449219, 0.05339602260269112\r\n",
      "[2021-06-09 14:02:03,548][fairseq.tasks.unpaired_audio_text][INFO] - LM [HYP]: -86.31891632080078, 0.014568918449756869\r\n"
     ]
    },
    {
     "name": "stdout",
     "output_type": "stream",
     "text": [
      "[2021-06-09 14:02:04,069][valid][INFO] - {\"epoch\": 5365, \"valid_loss\": \"0.998\", \"valid_ntokens\": \"3039.79\", \"valid_nsentences\": \"144.214\", \"valid_lm_score_sum\": \"-89380.1\", \"valid_num_pred_chars\": \"48253\", \"valid_vocab_seen_pct\": \"0.888502\", \"valid_uer\": \"99.8144\", \"valid_weighted_lm_ppl\": \"75.965\", \"valid_lm_ppl\": \"59.9694\", \"valid_wps\": \"18558.1\", \"valid_wpb\": \"3039.8\", \"valid_bsz\": \"144.2\", \"valid_num_updates\": \"85840\", \"valid_best_weighted_lm_ppl\": \"73.0296\"}\r\n",
      "[2021-06-09 14:02:04,072][fairseq.checkpoint_utils][INFO] - Preparing to save checkpoint for epoch 5365 @ 85840 updates\r\n",
      "[2021-06-09 14:02:04,073][fairseq.trainer][INFO] - Saving checkpoint to /kaggle/working/checkpoint_last.pt\r\n"
     ]
    },
    {
     "name": "stdout",
     "output_type": "stream",
     "text": [
      "[2021-06-09 14:02:04,119][fairseq.trainer][INFO] - Finished saving checkpoint to /kaggle/working/checkpoint_last.pt\r\n",
      "[2021-06-09 14:02:04,119][fairseq.checkpoint_utils][INFO] - Saved checkpoint /kaggle/working/checkpoint_last.pt (epoch 5365 @ 85840 updates, score 75.96498112578159) (writing took 0.047429139998712344 seconds)\r\n",
      "[2021-06-09 14:02:04,120][fairseq_cli.train][INFO] - end of epoch 5365 (average epoch stats below)\r\n",
      "[2021-06-09 14:02:04,123][train][INFO] - {\"epoch\": 5365, \"train_loss\": \"3.512\", \"train_ntokens\": \"145.688\", \"train_nsentences\": \"145.688\", \"train_temp\": \"0.1\", \"train_code_ppl\": \"8.57\", \"train_loss_code_pen\": \"0.32\", \"train_loss_smoothness\": \"2.05\", \"train_loss_dense_g\": \"4.308\", \"train_lm_score_sum\": 0.0, \"train_num_pred_chars\": 0.0, \"train_loss_grad_pen\": \"0.057\", \"train_loss_dense_d\": \"0.026\", \"train_loss_token_d\": \"0.024\", \"train_wps\": \"9.6\", \"train_ups\": \"0.07\", \"train_wpb\": \"145.7\", \"train_bsz\": \"145.7\", \"train_num_updates\": \"85840\", \"train_lr_discriminator\": \"0.0005\", \"train_lr_generator\": \"0.0004\", \"train_gnorm\": \"30.006\", \"train_clip\": \"68.8\", \"train_train_wall\": \"240\", \"train_wall\": \"7310\"}\r\n"
     ]
    },
    {
     "name": "stdout",
     "output_type": "stream",
     "text": [
      "[2021-06-09 14:02:04,182][fairseq.trainer][INFO] - begin training epoch 5366\r\n"
     ]
    },
    {
     "name": "stdout",
     "output_type": "stream",
     "text": [
      "[2021-06-09 14:02:04,184][fairseq_cli.train][INFO] - Start iterating over samples\r\n"
     ]
    },
    {
     "name": "stdout",
     "output_type": "stream",
     "text": [
      "[2021-06-09 14:06:07,257][fairseq_cli.train][INFO] - begin validation on \"valid\" subset\r\n"
     ]
    },
    {
     "name": "stdout",
     "output_type": "stream",
     "text": [
      "[2021-06-09 14:06:09,626][fairseq.tasks.unpaired_audio_text][INFO] - REF: ɛ n f œ ʂ ə n a d ɵ ʂ ə k t f øː r d eː t s ɔ m h ɛ n d ə p oː ɕ œ r k ɔ n s ɛ t ə n\r\n",
      "[2021-06-09 14:06:09,628][fairseq.tasks.unpaired_audio_text][INFO] - HYP: n ɪ n s j œ r œ j uː œ yː k j uː ɡ f œ j m ə h ɔ k b ə uː s eː r n v oː s ɪ ŋ k ɪ l s œ uː t k n t a\r\n",
      "[2021-06-09 14:06:09,632][fairseq.tasks.unpaired_audio_text][INFO] - LM [REF]: -53.44462585449219, 0.05339602260269112\r\n",
      "[2021-06-09 14:06:09,632][fairseq.tasks.unpaired_audio_text][INFO] - LM [HYP]: -85.80778503417969, 0.01630563857915395\r\n"
     ]
    },
    {
     "name": "stdout",
     "output_type": "stream",
     "text": [
      "[2021-06-09 14:06:10,128][valid][INFO] - {\"epoch\": 5366, \"valid_loss\": \"0.997\", \"valid_ntokens\": \"3039.79\", \"valid_nsentences\": \"144.214\", \"valid_lm_score_sum\": \"-89339.4\", \"valid_num_pred_chars\": \"48235\", \"valid_vocab_seen_pct\": \"0.874564\", \"valid_uer\": \"99.7462\", \"valid_weighted_lm_ppl\": \"78.3741\", \"valid_lm_ppl\": \"59.9454\", \"valid_wps\": \"18974\", \"valid_wpb\": \"3039.8\", \"valid_bsz\": \"144.2\", \"valid_num_updates\": \"85856\", \"valid_best_weighted_lm_ppl\": \"73.0296\"}\r\n",
      "[2021-06-09 14:06:10,131][fairseq.checkpoint_utils][INFO] - Preparing to save checkpoint for epoch 5366 @ 85856 updates\r\n",
      "[2021-06-09 14:06:10,132][fairseq.trainer][INFO] - Saving checkpoint to /kaggle/working/checkpoint_last.pt\r\n"
     ]
    },
    {
     "name": "stdout",
     "output_type": "stream",
     "text": [
      "[2021-06-09 14:06:10,178][fairseq.trainer][INFO] - Finished saving checkpoint to /kaggle/working/checkpoint_last.pt\r\n",
      "[2021-06-09 14:06:10,178][fairseq.checkpoint_utils][INFO] - Saved checkpoint /kaggle/working/checkpoint_last.pt (epoch 5366 @ 85856 updates, score 78.37406479120438) (writing took 0.047390341000209446 seconds)\r\n",
      "[2021-06-09 14:06:10,179][fairseq_cli.train][INFO] - end of epoch 5366 (average epoch stats below)\r\n",
      "[2021-06-09 14:06:10,181][train][INFO] - {\"epoch\": 5366, \"train_loss\": \"3.402\", \"train_ntokens\": \"145.688\", \"train_nsentences\": \"145.688\", \"train_temp\": \"0.1\", \"train_code_ppl\": \"8.721\", \"train_loss_code_pen\": \"0.328\", \"train_loss_smoothness\": \"2.095\", \"train_loss_dense_g\": \"3.987\", \"train_lm_score_sum\": 0.0, \"train_num_pred_chars\": 0.0, \"train_loss_grad_pen\": \"0.123\", \"train_loss_dense_d\": \"0.022\", \"train_loss_token_d\": \"0.021\", \"train_wps\": \"9.5\", \"train_ups\": \"0.07\", \"train_wpb\": \"145.7\", \"train_bsz\": \"145.7\", \"train_num_updates\": \"85856\", \"train_lr_discriminator\": \"0.0005\", \"train_lr_generator\": \"0.0004\", \"train_gnorm\": \"37.978\", \"train_clip\": \"81.2\", \"train_train_wall\": \"243\", \"train_wall\": \"7557\"}\r\n"
     ]
    },
    {
     "name": "stdout",
     "output_type": "stream",
     "text": [
      "[2021-06-09 14:06:10,233][fairseq.trainer][INFO] - begin training epoch 5367\r\n",
      "[2021-06-09 14:06:10,235][fairseq_cli.train][INFO] - Start iterating over samples\r\n"
     ]
    },
    {
     "name": "stdout",
     "output_type": "stream",
     "text": [
      "[2021-06-09 14:10:14,723][fairseq_cli.train][INFO] - begin validation on \"valid\" subset\r\n"
     ]
    },
    {
     "name": "stdout",
     "output_type": "stream",
     "text": [
      "[2021-06-09 14:10:17,110][fairseq.tasks.unpaired_audio_text][INFO] - REF: ɛ n f œ ʂ ə n a d ɵ ʂ ə k t f øː r d eː t s ɔ m h ɛ n d ə p oː ɕ œ r k ɔ n s ɛ t ə n\r\n",
      "[2021-06-09 14:10:17,112][fairseq.tasks.unpaired_audio_text][INFO] - HYP: n ɪ n s j œ r œ j uː œ yː k j ə ɡ f œ j m ə h ɔ k b ə uː s eː r n v oː s ɪ ŋ k ɪ l s uː t k n t a\r\n",
      "[2021-06-09 14:10:17,116][fairseq.tasks.unpaired_audio_text][INFO] - LM [REF]: -53.44462585449219, 0.05339602260269112\r\n",
      "[2021-06-09 14:10:17,117][fairseq.tasks.unpaired_audio_text][INFO] - LM [HYP]: -84.43334197998047, 0.0159788645496503\r\n"
     ]
    },
    {
     "name": "stdout",
     "output_type": "stream",
     "text": [
      "[2021-06-09 14:10:17,619][valid][INFO] - {\"epoch\": 5367, \"valid_loss\": \"0.997\", \"valid_ntokens\": \"3039.79\", \"valid_nsentences\": \"144.214\", \"valid_lm_score_sum\": \"-89323.4\", \"valid_num_pred_chars\": \"48192\", \"valid_vocab_seen_pct\": \"0.879791\", \"valid_uer\": \"99.7321\", \"valid_weighted_lm_ppl\": \"77.6608\", \"valid_lm_ppl\": \"60.112\", \"valid_wps\": \"18817.9\", \"valid_wpb\": \"3039.8\", \"valid_bsz\": \"144.2\", \"valid_num_updates\": \"85872\", \"valid_best_weighted_lm_ppl\": \"73.0296\"}\r\n",
      "[2021-06-09 14:10:17,622][fairseq.checkpoint_utils][INFO] - Preparing to save checkpoint for epoch 5367 @ 85872 updates\r\n",
      "[2021-06-09 14:10:17,623][fairseq.trainer][INFO] - Saving checkpoint to /kaggle/working/checkpoint_last.pt\r\n"
     ]
    },
    {
     "name": "stdout",
     "output_type": "stream",
     "text": [
      "[2021-06-09 14:10:17,668][fairseq.trainer][INFO] - Finished saving checkpoint to /kaggle/working/checkpoint_last.pt\r\n",
      "[2021-06-09 14:10:17,668][fairseq.checkpoint_utils][INFO] - Saved checkpoint /kaggle/working/checkpoint_last.pt (epoch 5367 @ 85872 updates, score 77.66081281293454) (writing took 0.04615331800050626 seconds)\r\n",
      "[2021-06-09 14:10:17,668][fairseq_cli.train][INFO] - end of epoch 5367 (average epoch stats below)\r\n",
      "[2021-06-09 14:10:17,672][train][INFO] - {\"epoch\": 5367, \"train_loss\": \"3.47\", \"train_ntokens\": \"145.688\", \"train_nsentences\": \"145.688\", \"train_temp\": \"0.1\", \"train_code_ppl\": \"8.709\", \"train_loss_code_pen\": \"0.33\", \"train_loss_smoothness\": \"2.087\", \"train_loss_dense_g\": \"4.096\", \"train_lm_score_sum\": 0.0, \"train_num_pred_chars\": 0.0, \"train_loss_grad_pen\": \"0.137\", \"train_loss_dense_d\": \"0.029\", \"train_loss_token_d\": \"0.031\", \"train_wps\": \"9.4\", \"train_ups\": \"0.06\", \"train_wpb\": \"145.7\", \"train_bsz\": \"145.7\", \"train_num_updates\": \"85872\", \"train_lr_discriminator\": \"0.0005\", \"train_lr_generator\": \"0.0004\", \"train_gnorm\": \"32.767\", \"train_clip\": \"93.8\", \"train_train_wall\": \"244\", \"train_wall\": \"7804\"}\r\n"
     ]
    },
    {
     "name": "stdout",
     "output_type": "stream",
     "text": [
      "[2021-06-09 14:10:17,728][fairseq.trainer][INFO] - begin training epoch 5368\r\n",
      "[2021-06-09 14:10:17,730][fairseq_cli.train][INFO] - Start iterating over samples\r\n"
     ]
    },
    {
     "name": "stdout",
     "output_type": "stream",
     "text": [
      "[2021-06-09 14:14:52,599][fairseq_cli.train][INFO] - begin validation on \"valid\" subset\r\n"
     ]
    },
    {
     "name": "stdout",
     "output_type": "stream",
     "text": [
      "[2021-06-09 14:14:55,041][fairseq.tasks.unpaired_audio_text][INFO] - REF: ɛ n f œ ʂ ə n a d ɵ ʂ ə k t f øː r d eː t s ɔ m h ɛ n d ə p oː ɕ œ r k ɔ n s ɛ t ə n\r\n",
      "[2021-06-09 14:14:55,043][fairseq.tasks.unpaired_audio_text][INFO] - HYP: n ɪ n s j œ r œ j uː œ yː k j ə ɡ f œ øː j m ə m ɔ k b ə uː s eː r n v oː s ɪ ŋ k ɪ l s uː t k n t a\r\n",
      "[2021-06-09 14:14:55,047][fairseq.tasks.unpaired_audio_text][INFO] - LM [REF]: -53.44462585449219, 0.05339602260269112\r\n",
      "[2021-06-09 14:14:55,048][fairseq.tasks.unpaired_audio_text][INFO] - LM [HYP]: -86.43421173095703, 0.01582294270877249\r\n"
     ]
    },
    {
     "name": "stdout",
     "output_type": "stream",
     "text": [
      "[2021-06-09 14:14:55,555][valid][INFO] - {\"epoch\": 5368, \"valid_loss\": \"0.998\", \"valid_ntokens\": \"3039.79\", \"valid_nsentences\": \"144.214\", \"valid_lm_score_sum\": \"-89322\", \"valid_num_pred_chars\": \"48245\", \"valid_vocab_seen_pct\": \"0.883275\", \"valid_uer\": \"99.7956\", \"valid_weighted_lm_ppl\": \"76.7123\", \"valid_lm_ppl\": \"59.849\", \"valid_wps\": \"18214.3\", \"valid_wpb\": \"3039.8\", \"valid_bsz\": \"144.2\", \"valid_num_updates\": \"85888\", \"valid_best_weighted_lm_ppl\": \"73.0296\"}\r\n",
      "[2021-06-09 14:14:55,558][fairseq.checkpoint_utils][INFO] - Preparing to save checkpoint for epoch 5368 @ 85888 updates\r\n",
      "[2021-06-09 14:14:55,559][fairseq.trainer][INFO] - Saving checkpoint to /kaggle/working/checkpoint_last.pt\r\n"
     ]
    },
    {
     "name": "stdout",
     "output_type": "stream",
     "text": [
      "[2021-06-09 14:14:55,603][fairseq.trainer][INFO] - Finished saving checkpoint to /kaggle/working/checkpoint_last.pt\r\n",
      "[2021-06-09 14:14:55,603][fairseq.checkpoint_utils][INFO] - Saved checkpoint /kaggle/working/checkpoint_last.pt (epoch 5368 @ 85888 updates, score 76.7123079890385) (writing took 0.0454800499992416 seconds)\r\n",
      "[2021-06-09 14:14:55,604][fairseq_cli.train][INFO] - end of epoch 5368 (average epoch stats below)\r\n",
      "[2021-06-09 14:14:55,607][train][INFO] - {\"epoch\": 5368, \"train_loss\": \"2.88\", \"train_ntokens\": \"145.688\", \"train_nsentences\": \"145.688\", \"train_temp\": \"0.1\", \"train_code_ppl\": \"8.797\", \"train_loss_code_pen\": \"0.331\", \"train_loss_smoothness\": \"2.078\", \"train_loss_dense_g\": \"3.814\", \"train_lm_score_sum\": 0.0, \"train_num_pred_chars\": 0.0, \"train_loss_grad_pen\": \"0.083\", \"train_loss_dense_d\": \"0.029\", \"train_loss_token_d\": \"0.024\", \"train_wps\": \"8.4\", \"train_ups\": \"0.06\", \"train_wpb\": \"145.7\", \"train_bsz\": \"145.7\", \"train_num_updates\": \"85888\", \"train_lr_discriminator\": \"0.0005\", \"train_lr_generator\": \"0.0004\", \"train_gnorm\": \"30.405\", \"train_clip\": \"75\", \"train_train_wall\": \"274\", \"train_wall\": \"8082\"}\r\n"
     ]
    },
    {
     "name": "stdout",
     "output_type": "stream",
     "text": [
      "[2021-06-09 14:14:55,663][fairseq.trainer][INFO] - begin training epoch 5369\r\n",
      "[2021-06-09 14:14:55,664][fairseq_cli.train][INFO] - Start iterating over samples\r\n"
     ]
    },
    {
     "name": "stdout",
     "output_type": "stream",
     "text": [
      "[2021-06-09 14:18:17,336][train_inner][INFO] - {\"epoch\": 5369, \"update\": 5368.75, \"loss\": \"3.285\", \"ntokens\": \"143.97\", \"nsentences\": \"143.97\", \"temp\": \"0.1\", \"code_ppl\": \"8.735\", \"loss_code_pen\": \"0.329\", \"loss_smoothness\": \"2.083\", \"loss_dense_g\": \"4.046\", \"lm_score_sum\": 0.0, \"num_pred_chars\": 0.0, \"loss_grad_pen\": \"0.088\", \"loss_dense_d\": \"0.025\", \"loss_token_d\": \"0.025\", \"wps\": \"9.2\", \"ups\": \"0.06\", \"wpb\": \"144\", \"bsz\": \"144\", \"num_updates\": \"85900\", \"lr_discriminator\": \"0.0005\", \"lr_generator\": \"0.0004\", \"gnorm\": \"31.988\", \"clip\": \"79\", \"train_wall\": \"1545\", \"wall\": \"8284\"}\r\n"
     ]
    },
    {
     "name": "stdout",
     "output_type": "stream",
     "text": [
      "[2021-06-09 14:19:26,890][fairseq_cli.train][INFO] - begin validation on \"valid\" subset\r\n"
     ]
    },
    {
     "name": "stdout",
     "output_type": "stream",
     "text": [
      "[2021-06-09 14:19:29,284][fairseq.tasks.unpaired_audio_text][INFO] - REF: ɛ n f œ ʂ ə n a d ɵ ʂ ə k t f øː r d eː t s ɔ m h ɛ n d ə p oː ɕ œ r k ɔ n s ɛ t ə n\r\n",
      "[2021-06-09 14:19:29,286][fairseq.tasks.unpaired_audio_text][INFO] - HYP: n ɪ s j œ r œ j j uː œ yː k j ə ɡ f œ j m ə m ɔ k b uː s eː r n v oː s ɪ ŋ k ɪ l s uː t k n t a\r\n",
      "[2021-06-09 14:19:29,290][fairseq.tasks.unpaired_audio_text][INFO] - LM [REF]: -53.44462585449219, 0.05339602260269112\r\n",
      "[2021-06-09 14:19:29,290][fairseq.tasks.unpaired_audio_text][INFO] - LM [HYP]: -83.57451629638672, 0.015246237796663106\r\n"
     ]
    },
    {
     "name": "stdout",
     "output_type": "stream",
     "text": [
      "[2021-06-09 14:19:29,833][valid][INFO] - {\"epoch\": 5369, \"valid_loss\": \"1\", \"valid_ntokens\": \"3039.79\", \"valid_nsentences\": \"144.214\", \"valid_lm_score_sum\": \"-89461.9\", \"valid_num_pred_chars\": \"48298\", \"valid_vocab_seen_pct\": \"0.88676\", \"valid_uer\": \"99.9977\", \"valid_weighted_lm_ppl\": \"76.27\", \"valid_lm_ppl\": \"59.9744\", \"valid_wps\": \"18383.4\", \"valid_wpb\": \"3039.8\", \"valid_bsz\": \"144.2\", \"valid_num_updates\": \"85904\", \"valid_best_weighted_lm_ppl\": \"73.0296\"}\r\n",
      "[2021-06-09 14:19:29,836][fairseq.checkpoint_utils][INFO] - Preparing to save checkpoint for epoch 5369 @ 85904 updates\r\n",
      "[2021-06-09 14:19:29,837][fairseq.trainer][INFO] - Saving checkpoint to /kaggle/working/checkpoint_last.pt\r\n"
     ]
    },
    {
     "name": "stdout",
     "output_type": "stream",
     "text": [
      "[2021-06-09 14:19:29,884][fairseq.trainer][INFO] - Finished saving checkpoint to /kaggle/working/checkpoint_last.pt\r\n",
      "[2021-06-09 14:19:29,885][fairseq.checkpoint_utils][INFO] - Saved checkpoint /kaggle/working/checkpoint_last.pt (epoch 5369 @ 85904 updates, score 76.27003971935265) (writing took 0.04842380199988838 seconds)\r\n",
      "[2021-06-09 14:19:29,885][fairseq_cli.train][INFO] - end of epoch 5369 (average epoch stats below)\r\n",
      "[2021-06-09 14:19:29,888][train][INFO] - {\"epoch\": 5369, \"train_loss\": \"2.877\", \"train_ntokens\": \"145.688\", \"train_nsentences\": \"145.688\", \"train_temp\": \"0.1\", \"train_code_ppl\": \"8.705\", \"train_loss_code_pen\": \"0.327\", \"train_loss_smoothness\": \"2.05\", \"train_loss_dense_g\": \"3.861\", \"train_lm_score_sum\": 0.0, \"train_num_pred_chars\": 0.0, \"train_loss_grad_pen\": \"0.069\", \"train_loss_dense_d\": \"0.026\", \"train_loss_token_d\": \"0.023\", \"train_wps\": \"8.5\", \"train_ups\": \"0.06\", \"train_wpb\": \"145.7\", \"train_bsz\": \"145.7\", \"train_num_updates\": \"85904\", \"train_lr_discriminator\": \"0.0005\", \"train_lr_generator\": \"0.0004\", \"train_gnorm\": \"30.687\", \"train_clip\": \"75\", \"train_train_wall\": \"271\", \"train_wall\": \"8356\"}\r\n"
     ]
    },
    {
     "name": "stdout",
     "output_type": "stream",
     "text": [
      "[2021-06-09 14:19:29,945][fairseq.trainer][INFO] - begin training epoch 5370\r\n",
      "[2021-06-09 14:19:29,947][fairseq_cli.train][INFO] - Start iterating over samples\r\n"
     ]
    },
    {
     "name": "stdout",
     "output_type": "stream",
     "text": [
      "[2021-06-09 14:24:01,104][fairseq_cli.train][INFO] - begin validation on \"valid\" subset\r\n"
     ]
    },
    {
     "name": "stdout",
     "output_type": "stream",
     "text": [
      "[2021-06-09 14:24:03,533][fairseq.tasks.unpaired_audio_text][INFO] - REF: ɛ n f œ ʂ ə n a d ɵ ʂ ə k t f øː r d eː t s ɔ m h ɛ n d ə p oː ɕ œ r k ɔ n s ɛ t ə n\r\n",
      "[2021-06-09 14:24:03,536][fairseq.tasks.unpaired_audio_text][INFO] - HYP: n ɪ n s j œ r œ j j uː œ yː k j ə ɡ f œ øː j m b ə h ɔ k b uː s eː r n v oː s ɪ ŋ k ɪ l s uː t k n t a\r\n",
      "[2021-06-09 14:24:03,540][fairseq.tasks.unpaired_audio_text][INFO] - LM [REF]: -53.44462585449219, 0.05339602260269112\r\n",
      "[2021-06-09 14:24:03,540][fairseq.tasks.unpaired_audio_text][INFO] - LM [HYP]: -88.92586517333984, 0.015317448366084972\r\n"
     ]
    },
    {
     "name": "stdout",
     "output_type": "stream",
     "text": [
      "[2021-06-09 14:24:04,046][valid][INFO] - {\"epoch\": 5370, \"valid_loss\": \"1.001\", \"valid_ntokens\": \"3039.79\", \"valid_nsentences\": \"144.214\", \"valid_lm_score_sum\": \"-89611.5\", \"valid_num_pred_chars\": \"48412\", \"valid_vocab_seen_pct\": \"0.890244\", \"valid_uer\": \"100.059\", \"valid_weighted_lm_ppl\": \"75.4911\", \"valid_lm_ppl\": \"59.8293\", \"valid_wps\": \"18604.5\", \"valid_wpb\": \"3039.8\", \"valid_bsz\": \"144.2\", \"valid_num_updates\": \"85920\", \"valid_best_weighted_lm_ppl\": \"73.0296\"}\r\n",
      "[2021-06-09 14:24:04,049][fairseq.checkpoint_utils][INFO] - Preparing to save checkpoint for epoch 5370 @ 85920 updates\r\n",
      "[2021-06-09 14:24:04,050][fairseq.trainer][INFO] - Saving checkpoint to /kaggle/working/checkpoint_last.pt\r\n"
     ]
    },
    {
     "name": "stdout",
     "output_type": "stream",
     "text": [
      "[2021-06-09 14:24:04,095][fairseq.trainer][INFO] - Finished saving checkpoint to /kaggle/working/checkpoint_last.pt\r\n",
      "[2021-06-09 14:24:04,095][fairseq.checkpoint_utils][INFO] - Saved checkpoint /kaggle/working/checkpoint_last.pt (epoch 5370 @ 85920 updates, score 75.49108045562872) (writing took 0.0461984579997079 seconds)\r\n",
      "[2021-06-09 14:24:04,095][fairseq_cli.train][INFO] - end of epoch 5370 (average epoch stats below)\r\n",
      "[2021-06-09 14:24:04,098][train][INFO] - {\"epoch\": 5370, \"train_loss\": \"3.07\", \"train_ntokens\": \"145.688\", \"train_nsentences\": \"145.688\", \"train_temp\": \"0.1\", \"train_code_ppl\": \"8.566\", \"train_loss_code_pen\": \"0.313\", \"train_loss_smoothness\": \"1.982\", \"train_loss_dense_g\": \"4.36\", \"train_lm_score_sum\": 0.0, \"train_num_pred_chars\": 0.0, \"train_loss_grad_pen\": \"0.077\", \"train_loss_dense_d\": \"0.025\", \"train_loss_token_d\": \"0.024\", \"train_wps\": \"8.5\", \"train_ups\": \"0.06\", \"train_wpb\": \"145.7\", \"train_bsz\": \"145.7\", \"train_num_updates\": \"85920\", \"train_lr_discriminator\": \"0.0005\", \"train_lr_generator\": \"0.0004\", \"train_gnorm\": \"31.153\", \"train_clip\": \"87.5\", \"train_train_wall\": \"271\", \"train_wall\": \"8630\"}\r\n"
     ]
    },
    {
     "name": "stdout",
     "output_type": "stream",
     "text": [
      "[2021-06-09 14:24:04,157][fairseq.trainer][INFO] - begin training epoch 5371\r\n",
      "[2021-06-09 14:24:04,159][fairseq_cli.train][INFO] - Start iterating over samples\r\n"
     ]
    },
    {
     "name": "stdout",
     "output_type": "stream",
     "text": [
      "[2021-06-09 14:28:20,038][fairseq_cli.train][INFO] - begin validation on \"valid\" subset\r\n"
     ]
    },
    {
     "name": "stdout",
     "output_type": "stream",
     "text": [
      "[2021-06-09 14:28:22,399][fairseq.tasks.unpaired_audio_text][INFO] - REF: ɛ n f œ ʂ ə n a d ɵ ʂ ə k t f øː r d eː t s ɔ m h ɛ n d ə p oː ɕ œ r k ɔ n s ɛ t ə n\r\n",
      "[2021-06-09 14:28:22,402][fairseq.tasks.unpaired_audio_text][INFO] - HYP: n ɪ n s j œ r œ j ɕ j uː œ yː k j uː ɡ f œ j m b ə h ɔ k b ə uː s eː r n v oː s ɪ ŋ k ɪ l s uː t k t a\r\n",
      "[2021-06-09 14:28:22,406][fairseq.tasks.unpaired_audio_text][INFO] - LM [REF]: -53.44462585449219, 0.05339602260269112\r\n",
      "[2021-06-09 14:28:22,407][fairseq.tasks.unpaired_audio_text][INFO] - LM [HYP]: -88.02313232421875, 0.015981205806662242\r\n"
     ]
    },
    {
     "name": "stdout",
     "output_type": "stream",
     "text": [
      "[2021-06-09 14:28:22,913][valid][INFO] - {\"epoch\": 5371, \"valid_loss\": \"0.998\", \"valid_ntokens\": \"3039.79\", \"valid_nsentences\": \"144.214\", \"valid_lm_score_sum\": \"-89502.5\", \"valid_num_pred_chars\": \"48308\", \"valid_vocab_seen_pct\": \"0.89547\", \"valid_uer\": \"99.8026\", \"valid_weighted_lm_ppl\": \"74.8714\", \"valid_lm_ppl\": \"60.037\", \"valid_wps\": \"18891.4\", \"valid_wpb\": \"3039.8\", \"valid_bsz\": \"144.2\", \"valid_num_updates\": \"85936\", \"valid_best_weighted_lm_ppl\": \"73.0296\"}\r\n",
      "[2021-06-09 14:28:22,916][fairseq.checkpoint_utils][INFO] - Preparing to save checkpoint for epoch 5371 @ 85936 updates\r\n",
      "[2021-06-09 14:28:22,917][fairseq.trainer][INFO] - Saving checkpoint to /kaggle/working/checkpoint_last.pt\r\n"
     ]
    },
    {
     "name": "stdout",
     "output_type": "stream",
     "text": [
      "[2021-06-09 14:28:22,962][fairseq.trainer][INFO] - Finished saving checkpoint to /kaggle/working/checkpoint_last.pt\r\n",
      "[2021-06-09 14:28:22,963][fairseq.checkpoint_utils][INFO] - Saved checkpoint /kaggle/working/checkpoint_last.pt (epoch 5371 @ 85936 updates, score 74.87144782006933) (writing took 0.046747550999498344 seconds)\r\n",
      "[2021-06-09 14:28:22,963][fairseq_cli.train][INFO] - end of epoch 5371 (average epoch stats below)\r\n",
      "[2021-06-09 14:28:22,966][train][INFO] - {\"epoch\": 5371, \"train_loss\": \"3.241\", \"train_ntokens\": \"145.688\", \"train_nsentences\": \"145.688\", \"train_temp\": \"0.1\", \"train_code_ppl\": \"8.622\", \"train_loss_code_pen\": \"0.333\", \"train_loss_smoothness\": \"2.079\", \"train_loss_dense_g\": \"4.203\", \"train_lm_score_sum\": 0.0, \"train_num_pred_chars\": 0.0, \"train_loss_grad_pen\": \"0.054\", \"train_loss_dense_d\": \"0.026\", \"train_loss_token_d\": \"0.024\", \"train_wps\": \"9\", \"train_ups\": \"0.06\", \"train_wpb\": \"145.7\", \"train_bsz\": \"145.7\", \"train_num_updates\": \"85936\", \"train_lr_discriminator\": \"0.0005\", \"train_lr_generator\": \"0.0004\", \"train_gnorm\": \"30.452\", \"train_clip\": \"56.2\", \"train_train_wall\": \"255\", \"train_wall\": \"8889\"}\r\n"
     ]
    },
    {
     "name": "stdout",
     "output_type": "stream",
     "text": [
      "[2021-06-09 14:28:23,025][fairseq.trainer][INFO] - begin training epoch 5372\r\n",
      "[2021-06-09 14:28:23,027][fairseq_cli.train][INFO] - Start iterating over samples\r\n"
     ]
    },
    {
     "name": "stdout",
     "output_type": "stream",
     "text": [
      "[2021-06-09 14:32:53,141][fairseq_cli.train][INFO] - begin validation on \"valid\" subset\r\n"
     ]
    },
    {
     "name": "stdout",
     "output_type": "stream",
     "text": [
      "[2021-06-09 14:32:55,556][fairseq.tasks.unpaired_audio_text][INFO] - REF: ɛ n f œ ʂ ə n a d ɵ ʂ ə k t f øː r d eː t s ɔ m h ɛ n d ə p oː ɕ œ r k ɔ n s ɛ t ə n\r\n",
      "[2021-06-09 14:32:55,558][fairseq.tasks.unpaired_audio_text][INFO] - HYP: n ɪ n s j œ r œ j ɕ j uː œ yː k ə ɡ f œ j m ə h ɔ k b uː s eː r n v oː s ɪ ŋ k l ɪ l s uː t k n t a\r\n",
      "[2021-06-09 14:32:55,563][fairseq.tasks.unpaired_audio_text][INFO] - LM [REF]: -53.44462585449219, 0.05339602260269112\r\n",
      "[2021-06-09 14:32:55,563][fairseq.tasks.unpaired_audio_text][INFO] - LM [HYP]: -86.84272003173828, 0.015515889071106506\r\n"
     ]
    },
    {
     "name": "stdout",
     "output_type": "stream",
     "text": [
      "[2021-06-09 14:32:56,063][valid][INFO] - {\"epoch\": 5372, \"valid_loss\": \"1.001\", \"valid_ntokens\": \"3039.79\", \"valid_nsentences\": \"144.214\", \"valid_lm_score_sum\": \"-89814.2\", \"valid_num_pred_chars\": \"48516\", \"valid_vocab_seen_pct\": \"0.888502\", \"valid_uer\": \"100.11\", \"valid_weighted_lm_ppl\": \"75.8493\", \"valid_lm_ppl\": \"59.8781\", \"valid_wps\": \"18727.9\", \"valid_wpb\": \"3039.8\", \"valid_bsz\": \"144.2\", \"valid_num_updates\": \"85952\", \"valid_best_weighted_lm_ppl\": \"73.0296\"}\r\n",
      "[2021-06-09 14:32:56,066][fairseq.checkpoint_utils][INFO] - Preparing to save checkpoint for epoch 5372 @ 85952 updates\r\n",
      "[2021-06-09 14:32:56,067][fairseq.trainer][INFO] - Saving checkpoint to /kaggle/working/checkpoint_last.pt\r\n"
     ]
    },
    {
     "name": "stdout",
     "output_type": "stream",
     "text": [
      "[2021-06-09 14:32:56,113][fairseq.trainer][INFO] - Finished saving checkpoint to /kaggle/working/checkpoint_last.pt\r\n",
      "[2021-06-09 14:32:56,113][fairseq.checkpoint_utils][INFO] - Saved checkpoint /kaggle/working/checkpoint_last.pt (epoch 5372 @ 85952 updates, score 75.84926784098938) (writing took 0.046946768001362216 seconds)\r\n",
      "[2021-06-09 14:32:56,113][fairseq_cli.train][INFO] - end of epoch 5372 (average epoch stats below)\r\n",
      "[2021-06-09 14:32:56,116][train][INFO] - {\"epoch\": 5372, \"train_loss\": \"3.038\", \"train_ntokens\": \"145.688\", \"train_nsentences\": \"145.688\", \"train_temp\": \"0.1\", \"train_code_ppl\": \"8.797\", \"train_loss_code_pen\": \"0.327\", \"train_loss_smoothness\": \"2.052\", \"train_loss_dense_g\": \"4.228\", \"train_lm_score_sum\": 0.0, \"train_num_pred_chars\": 0.0, \"train_loss_grad_pen\": \"0.058\", \"train_loss_dense_d\": \"0.024\", \"train_loss_token_d\": \"0.025\", \"train_wps\": \"8.5\", \"train_ups\": \"0.06\", \"train_wpb\": \"145.7\", \"train_bsz\": \"145.7\", \"train_num_updates\": \"85952\", \"train_lr_discriminator\": \"0.0005\", \"train_lr_generator\": \"0.0004\", \"train_gnorm\": \"30.496\", \"train_clip\": \"68.8\", \"train_train_wall\": \"270\", \"train_wall\": \"9162\"}\r\n"
     ]
    },
    {
     "name": "stdout",
     "output_type": "stream",
     "text": [
      "[2021-06-09 14:32:56,177][fairseq.trainer][INFO] - begin training epoch 5373\r\n",
      "[2021-06-09 14:32:56,178][fairseq_cli.train][INFO] - Start iterating over samples\r\n"
     ]
    },
    {
     "name": "stdout",
     "output_type": "stream",
     "text": [
      "[2021-06-09 14:36:58,635][fairseq_cli.train][INFO] - begin validation on \"valid\" subset\r\n"
     ]
    },
    {
     "name": "stdout",
     "output_type": "stream",
     "text": [
      "[2021-06-09 14:37:01,003][fairseq.tasks.unpaired_audio_text][INFO] - REF: ɛ n f œ ʂ ə n a d ɵ ʂ ə k t f øː r d eː t s ɔ m h ɛ n d ə p oː ɕ œ r k ɔ n s ɛ t ə n\r\n",
      "[2021-06-09 14:37:01,005][fairseq.tasks.unpaired_audio_text][INFO] - HYP: n ɪ s j œ r œ j ɕ j uː œ yː k uː ɡ f œ j m ə h œ k b uː s eː r n v oː s ɪ ŋ k ɪ l s uː t n t a\r\n"
     ]
    },
    {
     "name": "stdout",
     "output_type": "stream",
     "text": [
      "[2021-06-09 14:37:01,011][fairseq.tasks.unpaired_audio_text][INFO] - LM [REF]: -53.44462585449219, 0.05339602260269112\r\n",
      "[2021-06-09 14:37:01,011][fairseq.tasks.unpaired_audio_text][INFO] - LM [HYP]: -82.28125762939453, 0.014843202357657985\r\n"
     ]
    },
    {
     "name": "stdout",
     "output_type": "stream",
     "text": [
      "[2021-06-09 14:37:01,524][valid][INFO] - {\"epoch\": 5373, \"valid_loss\": \"1.001\", \"valid_ntokens\": \"3039.79\", \"valid_nsentences\": \"144.214\", \"valid_lm_score_sum\": \"-89706.5\", \"valid_num_pred_chars\": \"48501\", \"valid_vocab_seen_pct\": \"0.885017\", \"valid_uer\": \"100.068\", \"valid_weighted_lm_ppl\": \"76.1656\", \"valid_lm_ppl\": \"59.6571\", \"valid_wps\": \"18723.5\", \"valid_wpb\": \"3039.8\", \"valid_bsz\": \"144.2\", \"valid_num_updates\": \"85968\", \"valid_best_weighted_lm_ppl\": \"73.0296\"}\r\n",
      "[2021-06-09 14:37:01,527][fairseq.checkpoint_utils][INFO] - Preparing to save checkpoint for epoch 5373 @ 85968 updates\r\n",
      "[2021-06-09 14:37:01,528][fairseq.trainer][INFO] - Saving checkpoint to /kaggle/working/checkpoint_last.pt\r\n"
     ]
    },
    {
     "name": "stdout",
     "output_type": "stream",
     "text": [
      "[2021-06-09 14:37:01,574][fairseq.trainer][INFO] - Finished saving checkpoint to /kaggle/working/checkpoint_last.pt\r\n",
      "[2021-06-09 14:37:01,574][fairseq.checkpoint_utils][INFO] - Saved checkpoint /kaggle/working/checkpoint_last.pt (epoch 5373 @ 85968 updates, score 76.16558040758777) (writing took 0.04715436900005443 seconds)\r\n",
      "[2021-06-09 14:37:01,575][fairseq_cli.train][INFO] - end of epoch 5373 (average epoch stats below)\r\n",
      "[2021-06-09 14:37:01,578][train][INFO] - {\"epoch\": 5373, \"train_loss\": \"3.548\", \"train_ntokens\": \"145.688\", \"train_nsentences\": \"145.688\", \"train_temp\": \"0.1\", \"train_code_ppl\": \"8.595\", \"train_loss_code_pen\": \"0.312\", \"train_loss_smoothness\": \"2.024\", \"train_loss_dense_g\": \"4.376\", \"train_lm_score_sum\": 0.0, \"train_num_pred_chars\": 0.0, \"train_loss_grad_pen\": \"0.086\", \"train_loss_dense_d\": \"0.026\", \"train_loss_token_d\": \"0.033\", \"train_wps\": \"9.5\", \"train_ups\": \"0.07\", \"train_wpb\": \"145.7\", \"train_bsz\": \"145.7\", \"train_num_updates\": \"85968\", \"train_lr_discriminator\": \"0.0005\", \"train_lr_generator\": \"0.0004\", \"train_gnorm\": \"34.037\", \"train_clip\": \"75\", \"train_train_wall\": \"242\", \"train_wall\": \"9408\"}\r\n"
     ]
    },
    {
     "name": "stdout",
     "output_type": "stream",
     "text": [
      "[2021-06-09 14:37:01,634][fairseq.trainer][INFO] - begin training epoch 5374\r\n",
      "[2021-06-09 14:37:01,636][fairseq_cli.train][INFO] - Start iterating over samples\r\n"
     ]
    },
    {
     "name": "stdout",
     "output_type": "stream",
     "text": [
      "[2021-06-09 14:40:51,515][fairseq_cli.train][INFO] - begin validation on \"valid\" subset\r\n"
     ]
    },
    {
     "name": "stdout",
     "output_type": "stream",
     "text": [
      "[2021-06-09 14:40:53,923][fairseq.tasks.unpaired_audio_text][INFO] - REF: ɛ n f œ ʂ ə n a d ɵ ʂ ə k t f øː r d eː t s ɔ m h ɛ n d ə p oː ɕ œ r k ɔ n s ɛ t ə n\r\n",
      "[2021-06-09 14:40:53,925][fairseq.tasks.unpaired_audio_text][INFO] - HYP: n ɪ s j œ r œ j ɕ j uː œ yː k uː ɡ f œ j m ə h ɔ k b uː s eː r n v oː s ɪ ŋ k ɪ l s uː t k n t a\r\n",
      "[2021-06-09 14:40:53,929][fairseq.tasks.unpaired_audio_text][INFO] - LM [REF]: -53.44462585449219, 0.05339602260269112\r\n",
      "[2021-06-09 14:40:53,929][fairseq.tasks.unpaired_audio_text][INFO] - LM [HYP]: -82.54639434814453, 0.016051409198210142\r\n"
     ]
    },
    {
     "name": "stdout",
     "output_type": "stream",
     "text": [
      "[2021-06-09 14:40:54,442][valid][INFO] - {\"epoch\": 5374, \"valid_loss\": \"1.001\", \"valid_ntokens\": \"3039.79\", \"valid_nsentences\": \"144.214\", \"valid_lm_score_sum\": \"-89495.3\", \"valid_num_pred_chars\": \"48437\", \"valid_vocab_seen_pct\": \"0.885017\", \"valid_uer\": \"100.106\", \"valid_weighted_lm_ppl\": \"75.8273\", \"valid_lm_ppl\": \"59.3922\", \"valid_wps\": \"18598.9\", \"valid_wpb\": \"3039.8\", \"valid_bsz\": \"144.2\", \"valid_num_updates\": \"85984\", \"valid_best_weighted_lm_ppl\": \"73.0296\"}\r\n",
      "[2021-06-09 14:40:54,445][fairseq.checkpoint_utils][INFO] - Preparing to save checkpoint for epoch 5374 @ 85984 updates\r\n",
      "[2021-06-09 14:40:54,446][fairseq.trainer][INFO] - Saving checkpoint to /kaggle/working/checkpoint_last.pt\r\n"
     ]
    },
    {
     "name": "stdout",
     "output_type": "stream",
     "text": [
      "[2021-06-09 14:40:54,491][fairseq.trainer][INFO] - Finished saving checkpoint to /kaggle/working/checkpoint_last.pt\r\n",
      "[2021-06-09 14:40:54,491][fairseq.checkpoint_utils][INFO] - Saved checkpoint /kaggle/working/checkpoint_last.pt (epoch 5374 @ 85984 updates, score 75.82731702492727) (writing took 0.04636281700004474 seconds)\r\n",
      "[2021-06-09 14:40:54,492][fairseq_cli.train][INFO] - end of epoch 5374 (average epoch stats below)\r\n",
      "[2021-06-09 14:40:54,494][train][INFO] - {\"epoch\": 5374, \"train_loss\": \"3.774\", \"train_ntokens\": \"145.688\", \"train_nsentences\": \"145.688\", \"train_temp\": \"0.1\", \"train_code_ppl\": \"8.841\", \"train_loss_code_pen\": \"0.35\", \"train_loss_smoothness\": \"2.164\", \"train_loss_dense_g\": \"4.268\", \"train_lm_score_sum\": 0.0, \"train_num_pred_chars\": 0.0, \"train_loss_grad_pen\": \"0.062\", \"train_loss_dense_d\": \"0.024\", \"train_loss_token_d\": \"0.026\", \"train_wps\": \"10\", \"train_ups\": \"0.07\", \"train_wpb\": \"145.7\", \"train_bsz\": \"145.7\", \"train_num_updates\": \"85984\", \"train_lr_discriminator\": \"0.0005\", \"train_lr_generator\": \"0.0004\", \"train_gnorm\": \"30.933\", \"train_clip\": \"68.8\", \"train_train_wall\": \"229\", \"train_wall\": \"9641\"}\r\n"
     ]
    },
    {
     "name": "stdout",
     "output_type": "stream",
     "text": [
      "[2021-06-09 14:40:54,551][fairseq.trainer][INFO] - begin training epoch 5375\r\n",
      "[2021-06-09 14:40:54,552][fairseq_cli.train][INFO] - Start iterating over samples\r\n"
     ]
    },
    {
     "name": "stdout",
     "output_type": "stream",
     "text": [
      "[2021-06-09 14:45:18,462][train_inner][INFO] - {\"epoch\": 5375, \"update\": 5375.0, \"loss\": \"3.283\", \"ntokens\": \"146.26\", \"nsentences\": \"146.26\", \"temp\": \"0.1\", \"code_ppl\": \"8.696\", \"loss_code_pen\": \"0.328\", \"loss_smoothness\": \"2.067\", \"loss_dense_g\": \"4.256\", \"lm_score_sum\": 0.0, \"num_pred_chars\": 0.0, \"loss_grad_pen\": \"0.07\", \"loss_dense_d\": \"0.025\", \"loss_token_d\": \"0.025\", \"wps\": \"9\", \"ups\": \"0.06\", \"wpb\": \"146.3\", \"bsz\": \"146.3\", \"num_updates\": \"86000\", \"lr_discriminator\": \"0.0005\", \"lr_generator\": \"0.0004\", \"gnorm\": \"31.369\", \"clip\": \"72\", \"train_wall\": \"1600\", \"wall\": \"9905\"}\r\n",
      "[2021-06-09 14:45:18,465][fairseq_cli.train][INFO] - begin validation on \"valid\" subset\r\n"
     ]
    },
    {
     "name": "stdout",
     "output_type": "stream",
     "text": [
      "[2021-06-09 14:45:20,904][fairseq.tasks.unpaired_audio_text][INFO] - REF: ɛ n f œ ʂ ə n a d ɵ ʂ ə k t f øː r d eː t s ɔ m h ɛ n d ə p oː ɕ œ r k ɔ n s ɛ t ə n\r\n",
      "[2021-06-09 14:45:20,906][fairseq.tasks.unpaired_audio_text][INFO] - HYP: n ɪ n s j œ r œ j ɕ j uː œ yː k uː ɡ f œ j m uː ə h ɔ k b uː s eː r n v oː s ɪ ŋ k ɪ l s uː t k n t a\r\n",
      "[2021-06-09 14:45:20,910][fairseq.tasks.unpaired_audio_text][INFO] - LM [REF]: -53.44462585449219, 0.05339602260269112\r\n",
      "[2021-06-09 14:45:20,911][fairseq.tasks.unpaired_audio_text][INFO] - LM [HYP]: -85.5500259399414, 0.01650850679851058\r\n"
     ]
    },
    {
     "name": "stdout",
     "output_type": "stream",
     "text": [
      "[2021-06-09 14:45:21,408][valid][INFO] - {\"epoch\": 5375, \"valid_loss\": \"1.001\", \"valid_ntokens\": \"3039.79\", \"valid_nsentences\": \"144.214\", \"valid_lm_score_sum\": \"-89677.5\", \"valid_num_pred_chars\": \"48573\", \"valid_vocab_seen_pct\": \"0.888502\", \"valid_uer\": \"100.073\", \"valid_weighted_lm_ppl\": \"75.0321\", \"valid_lm_ppl\": \"59.233\", \"valid_wps\": \"18424.5\", \"valid_wpb\": \"3039.8\", \"valid_bsz\": \"144.2\", \"valid_num_updates\": \"86000\", \"valid_best_weighted_lm_ppl\": \"73.0296\"}\r\n",
      "[2021-06-09 14:45:21,412][fairseq.checkpoint_utils][INFO] - Preparing to save checkpoint for epoch 5375 @ 86000 updates\r\n",
      "[2021-06-09 14:45:21,413][fairseq.trainer][INFO] - Saving checkpoint to /kaggle/working/checkpoint_last.pt\r\n"
     ]
    },
    {
     "name": "stdout",
     "output_type": "stream",
     "text": [
      "[2021-06-09 14:45:21,457][fairseq.trainer][INFO] - Finished saving checkpoint to /kaggle/working/checkpoint_last.pt\r\n",
      "[2021-06-09 14:45:21,457][fairseq.checkpoint_utils][INFO] - Saved checkpoint /kaggle/working/checkpoint_last.pt (epoch 5375 @ 86000 updates, score 75.03209137644276) (writing took 0.04528291500173509 seconds)\r\n",
      "[2021-06-09 14:45:21,457][fairseq_cli.train][INFO] - end of epoch 5375 (average epoch stats below)\r\n",
      "[2021-06-09 14:45:21,460][train][INFO] - {\"epoch\": 5375, \"train_loss\": \"2.983\", \"train_ntokens\": \"145.688\", \"train_nsentences\": \"145.688\", \"train_temp\": \"0.1\", \"train_code_ppl\": \"8.752\", \"train_loss_code_pen\": \"0.329\", \"train_loss_smoothness\": \"2.075\", \"train_loss_dense_g\": \"4.053\", \"train_lm_score_sum\": 0.0, \"train_num_pred_chars\": 0.0, \"train_loss_grad_pen\": \"0.086\", \"train_loss_dense_d\": \"0.023\", \"train_loss_token_d\": \"0.022\", \"train_wps\": \"8.7\", \"train_ups\": \"0.06\", \"train_wpb\": \"145.7\", \"train_bsz\": \"145.7\", \"train_num_updates\": \"86000\", \"train_lr_discriminator\": \"0.0005\", \"train_lr_generator\": \"0.0004\", \"train_gnorm\": \"31.596\", \"train_clip\": \"81.2\", \"train_train_wall\": \"263\", \"train_wall\": \"9908\"}\r\n"
     ]
    },
    {
     "name": "stdout",
     "output_type": "stream",
     "text": [
      "[2021-06-09 14:45:21,517][fairseq.trainer][INFO] - begin training epoch 5376\r\n",
      "[2021-06-09 14:45:21,518][fairseq_cli.train][INFO] - Start iterating over samples\r\n"
     ]
    },
    {
     "name": "stdout",
     "output_type": "stream",
     "text": [
      "[2021-06-09 14:49:42,238][fairseq_cli.train][INFO] - begin validation on \"valid\" subset\r\n"
     ]
    },
    {
     "name": "stdout",
     "output_type": "stream",
     "text": [
      "[2021-06-09 14:49:44,632][fairseq.tasks.unpaired_audio_text][INFO] - REF: ɛ n f œ ʂ ə n a d ɵ ʂ ə k t f øː r d eː t s ɔ m h ɛ n d ə p oː ɕ œ r k ɔ n s ɛ t ə n\r\n",
      "[2021-06-09 14:49:44,634][fairseq.tasks.unpaired_audio_text][INFO] - HYP: n ɪ n s j œ r œ j ɕ j uː œ yː k ə uː ɡ f œ j m ə h ɔ k ə uː s eː r n v oː s ɪ ŋ k ɪ l s uː t a n t a\r\n",
      "[2021-06-09 14:49:44,638][fairseq.tasks.unpaired_audio_text][INFO] - LM [REF]: -53.44462585449219, 0.05339602260269112\r\n",
      "[2021-06-09 14:49:44,638][fairseq.tasks.unpaired_audio_text][INFO] - LM [HYP]: -84.80180358886719, 0.017111802479806287\r\n"
     ]
    },
    {
     "name": "stdout",
     "output_type": "stream",
     "text": [
      "[2021-06-09 14:49:45,132][valid][INFO] - {\"epoch\": 5376, \"valid_loss\": \"0.998\", \"valid_ntokens\": \"3039.79\", \"valid_nsentences\": \"144.214\", \"valid_lm_score_sum\": \"-89480.6\", \"valid_num_pred_chars\": \"48316\", \"valid_vocab_seen_pct\": \"0.893728\", \"valid_uer\": \"99.7979\", \"valid_weighted_lm_ppl\": \"75.0395\", \"valid_lm_ppl\": \"59.9378\", \"valid_wps\": \"18800.7\", \"valid_wpb\": \"3039.8\", \"valid_bsz\": \"144.2\", \"valid_num_updates\": \"86016\", \"valid_best_weighted_lm_ppl\": \"73.0296\"}\r\n",
      "[2021-06-09 14:49:45,135][fairseq.checkpoint_utils][INFO] - Preparing to save checkpoint for epoch 5376 @ 86016 updates\r\n",
      "[2021-06-09 14:49:45,136][fairseq.trainer][INFO] - Saving checkpoint to /kaggle/working/checkpoint_last.pt\r\n",
      "[2021-06-09 14:49:45,179][fairseq.trainer][INFO] - Finished saving checkpoint to /kaggle/working/checkpoint_last.pt\r\n",
      "[2021-06-09 14:49:45,180][fairseq.checkpoint_utils][INFO] - Saved checkpoint /kaggle/working/checkpoint_last.pt (epoch 5376 @ 86016 updates, score 75.03952092203802) (writing took 0.0444703950015537 seconds)\r\n",
      "[2021-06-09 14:49:45,180][fairseq_cli.train][INFO] - end of epoch 5376 (average epoch stats below)\r\n"
     ]
    },
    {
     "name": "stdout",
     "output_type": "stream",
     "text": [
      "[2021-06-09 14:49:45,184][train][INFO] - {\"epoch\": 5376, \"train_loss\": \"3.383\", \"train_ntokens\": \"145.688\", \"train_nsentences\": \"145.688\", \"train_temp\": \"0.1\", \"train_code_ppl\": \"8.48\", \"train_loss_code_pen\": \"0.327\", \"train_loss_smoothness\": \"2.071\", \"train_loss_dense_g\": \"4.462\", \"train_lm_score_sum\": 0.0, \"train_num_pred_chars\": 0.0, \"train_loss_grad_pen\": \"0.103\", \"train_loss_dense_d\": \"0.022\", \"train_loss_token_d\": \"0.025\", \"train_wps\": \"8.8\", \"train_ups\": \"0.06\", \"train_wpb\": \"145.7\", \"train_bsz\": \"145.7\", \"train_num_updates\": \"86016\", \"train_lr_discriminator\": \"0.0005\", \"train_lr_generator\": \"0.0004\", \"train_gnorm\": \"32.148\", \"train_clip\": \"81.2\", \"train_train_wall\": \"260\", \"train_wall\": \"10172\"}\r\n"
     ]
    },
    {
     "name": "stdout",
     "output_type": "stream",
     "text": [
      "[2021-06-09 14:49:45,241][fairseq.trainer][INFO] - begin training epoch 5377\r\n",
      "[2021-06-09 14:49:45,242][fairseq_cli.train][INFO] - Start iterating over samples\r\n"
     ]
    },
    {
     "name": "stdout",
     "output_type": "stream",
     "text": [
      "[2021-06-09 14:53:58,308][fairseq_cli.train][INFO] - begin validation on \"valid\" subset\r\n"
     ]
    },
    {
     "name": "stdout",
     "output_type": "stream",
     "text": [
      "[2021-06-09 14:54:00,942][fairseq.tasks.unpaired_audio_text][INFO] - REF: ɛ n f œ ʂ ə n a d ɵ ʂ ə k t f øː r d eː t s ɔ m h ɛ n d ə p oː ɕ œ r k ɔ n s ɛ t ə n\r\n",
      "[2021-06-09 14:54:00,944][fairseq.tasks.unpaired_audio_text][INFO] - HYP: n ɪ n s j œ r œ j ɕ j uː œ yː k ə ɡ f œ v j m ə h ɔ k b uː s eː r n v oː s ɪ ŋ k ɪ l s uː t a n t a\r\n",
      "[2021-06-09 14:54:00,949][fairseq.tasks.unpaired_audio_text][INFO] - LM [REF]: -53.44462585449219, 0.05339602260269112\r\n",
      "[2021-06-09 14:54:00,949][fairseq.tasks.unpaired_audio_text][INFO] - LM [HYP]: -85.08193969726562, 0.016883387551404932\r\n"
     ]
    },
    {
     "name": "stdout",
     "output_type": "stream",
     "text": [
      "[2021-06-09 14:54:01,485][valid][INFO] - {\"epoch\": 5377, \"valid_loss\": \"0.999\", \"valid_ntokens\": \"3039.79\", \"valid_nsentences\": \"144.214\", \"valid_lm_score_sum\": \"-89580.5\", \"valid_num_pred_chars\": \"48389\", \"valid_vocab_seen_pct\": \"0.897213\", \"valid_uer\": \"99.9483\", \"valid_weighted_lm_ppl\": \"74.3564\", \"valid_lm_ppl\": \"59.8562\", \"valid_wps\": \"16751\", \"valid_wpb\": \"3039.8\", \"valid_bsz\": \"144.2\", \"valid_num_updates\": \"86032\", \"valid_best_weighted_lm_ppl\": \"73.0296\"}\r\n",
      "[2021-06-09 14:54:01,488][fairseq.checkpoint_utils][INFO] - Preparing to save checkpoint for epoch 5377 @ 86032 updates\r\n",
      "[2021-06-09 14:54:01,490][fairseq.trainer][INFO] - Saving checkpoint to /kaggle/working/checkpoint_last.pt\r\n"
     ]
    },
    {
     "name": "stdout",
     "output_type": "stream",
     "text": [
      "[2021-06-09 14:54:01,537][fairseq.trainer][INFO] - Finished saving checkpoint to /kaggle/working/checkpoint_last.pt\r\n",
      "[2021-06-09 14:54:01,537][fairseq.checkpoint_utils][INFO] - Saved checkpoint /kaggle/working/checkpoint_last.pt (epoch 5377 @ 86032 updates, score 74.35642804542695) (writing took 0.0491442710008414 seconds)\r\n",
      "[2021-06-09 14:54:01,538][fairseq_cli.train][INFO] - end of epoch 5377 (average epoch stats below)\r\n",
      "[2021-06-09 14:54:01,541][train][INFO] - {\"epoch\": 5377, \"train_loss\": \"3.265\", \"train_ntokens\": \"145.688\", \"train_nsentences\": \"145.688\", \"train_temp\": \"0.1\", \"train_code_ppl\": \"8.696\", \"train_loss_code_pen\": \"0.337\", \"train_loss_smoothness\": \"2.114\", \"train_loss_dense_g\": \"4.2\", \"train_lm_score_sum\": 0.0, \"train_num_pred_chars\": 0.0, \"train_loss_grad_pen\": \"0.075\", \"train_loss_dense_d\": \"0.023\", \"train_loss_token_d\": \"0.021\", \"train_wps\": \"9.1\", \"train_ups\": \"0.06\", \"train_wpb\": \"145.7\", \"train_bsz\": \"145.7\", \"train_num_updates\": \"86032\", \"train_lr_discriminator\": \"0.0005\", \"train_lr_generator\": \"0.0004\", \"train_gnorm\": \"30.663\", \"train_clip\": \"75\", \"train_train_wall\": \"253\", \"train_wall\": \"10428\"}\r\n"
     ]
    },
    {
     "name": "stdout",
     "output_type": "stream",
     "text": [
      "[2021-06-09 14:54:01,600][fairseq.trainer][INFO] - begin training epoch 5378\r\n",
      "[2021-06-09 14:54:01,601][fairseq_cli.train][INFO] - Start iterating over samples\r\n"
     ]
    },
    {
     "name": "stdout",
     "output_type": "stream",
     "text": [
      "[2021-06-09 14:58:04,649][fairseq_cli.train][INFO] - begin validation on \"valid\" subset\r\n"
     ]
    },
    {
     "name": "stdout",
     "output_type": "stream",
     "text": [
      "[2021-06-09 14:58:07,034][fairseq.tasks.unpaired_audio_text][INFO] - REF: ɛ n f œ ʂ ə n a d ɵ ʂ ə k t f øː r d eː t s ɔ m h ɛ n d ə p oː ɕ œ r k ɔ n s ɛ t ə n\r\n",
      "[2021-06-09 14:58:07,037][fairseq.tasks.unpaired_audio_text][INFO] - HYP: n ɪ n s j œ r œ j ɕ j uː œ yː k ə uː ɡ f œ j m ə h œ k b uː s eː r n v oː s ɪ ŋ k ɪ l s uː t a n t a\r\n",
      "[2021-06-09 14:58:07,041][fairseq.tasks.unpaired_audio_text][INFO] - LM [REF]: -53.44462585449219, 0.05339602260269112\r\n",
      "[2021-06-09 14:58:07,041][fairseq.tasks.unpaired_audio_text][INFO] - LM [HYP]: -85.29911804199219, 0.01670840681120956\r\n"
     ]
    },
    {
     "name": "stdout",
     "output_type": "stream",
     "text": [
      "[2021-06-09 14:58:07,560][valid][INFO] - {\"epoch\": 5378, \"valid_loss\": \"1.001\", \"valid_ntokens\": \"3039.79\", \"valid_nsentences\": \"144.214\", \"valid_lm_score_sum\": \"-89686.6\", \"valid_num_pred_chars\": \"48476\", \"valid_vocab_seen_pct\": \"0.897213\", \"valid_uer\": \"100.092\", \"valid_weighted_lm_ppl\": \"74.1921\", \"valid_lm_ppl\": \"59.7239\", \"valid_wps\": \"18637.7\", \"valid_wpb\": \"3039.8\", \"valid_bsz\": \"144.2\", \"valid_num_updates\": \"86048\", \"valid_best_weighted_lm_ppl\": \"73.0296\"}\r\n",
      "[2021-06-09 14:58:07,563][fairseq.checkpoint_utils][INFO] - Preparing to save checkpoint for epoch 5378 @ 86048 updates\r\n",
      "[2021-06-09 14:58:07,564][fairseq.trainer][INFO] - Saving checkpoint to /kaggle/working/checkpoint_last.pt\r\n"
     ]
    },
    {
     "name": "stdout",
     "output_type": "stream",
     "text": [
      "[2021-06-09 14:58:07,612][fairseq.trainer][INFO] - Finished saving checkpoint to /kaggle/working/checkpoint_last.pt\r\n",
      "[2021-06-09 14:58:07,612][fairseq.checkpoint_utils][INFO] - Saved checkpoint /kaggle/working/checkpoint_last.pt (epoch 5378 @ 86048 updates, score 74.19212636529635) (writing took 0.049046480999095365 seconds)\r\n",
      "[2021-06-09 14:58:07,613][fairseq_cli.train][INFO] - end of epoch 5378 (average epoch stats below)\r\n"
     ]
    },
    {
     "name": "stdout",
     "output_type": "stream",
     "text": [
      "[2021-06-09 14:58:07,616][train][INFO] - {\"epoch\": 5378, \"train_loss\": \"3.58\", \"train_ntokens\": \"145.688\", \"train_nsentences\": \"145.688\", \"train_temp\": \"0.1\", \"train_code_ppl\": \"8.647\", \"train_loss_code_pen\": \"0.319\", \"train_loss_smoothness\": \"2.064\", \"train_loss_dense_g\": \"4.316\", \"train_lm_score_sum\": 0.0, \"train_num_pred_chars\": 0.0, \"train_loss_grad_pen\": \"0.172\", \"train_loss_dense_d\": \"0.027\", \"train_loss_token_d\": \"0.025\", \"train_wps\": \"9.5\", \"train_ups\": \"0.07\", \"train_wpb\": \"145.7\", \"train_bsz\": \"145.7\", \"train_num_updates\": \"86048\", \"train_lr_discriminator\": \"0.0005\", \"train_lr_generator\": \"0.0004\", \"train_gnorm\": \"51.764\", \"train_clip\": \"68.8\", \"train_train_wall\": \"243\", \"train_wall\": \"10674\"}\r\n"
     ]
    },
    {
     "name": "stdout",
     "output_type": "stream",
     "text": [
      "[2021-06-09 14:58:07,675][fairseq.trainer][INFO] - begin training epoch 5379\r\n",
      "[2021-06-09 14:58:07,677][fairseq_cli.train][INFO] - Start iterating over samples\r\n"
     ]
    },
    {
     "name": "stdout",
     "output_type": "stream",
     "text": [
      "[2021-06-09 15:02:14,084][fairseq_cli.train][INFO] - begin validation on \"valid\" subset\r\n"
     ]
    },
    {
     "name": "stdout",
     "output_type": "stream",
     "text": [
      "[2021-06-09 15:02:16,473][fairseq.tasks.unpaired_audio_text][INFO] - REF: ɛ n f œ ʂ ə n a d ɵ ʂ ə k t f øː r d eː t s ɔ m h ɛ n d ə p oː ɕ œ r k ɔ n s ɛ t ə n\r\n",
      "[2021-06-09 15:02:16,475][fairseq.tasks.unpaired_audio_text][INFO] - HYP: n ɪ n s j œ r œ j ɕ j uː œ yː k ə ɡ f œ j m ə h ɔ k b uː s eː r n v oː s ɪ ŋ k ɪ l s uː t n t a\r\n",
      "[2021-06-09 15:02:16,479][fairseq.tasks.unpaired_audio_text][INFO] - LM [REF]: -53.44462585449219, 0.05339602260269112\r\n",
      "[2021-06-09 15:02:16,479][fairseq.tasks.unpaired_audio_text][INFO] - LM [HYP]: -83.34056854248047, 0.015425828899804926\r\n"
     ]
    },
    {
     "name": "stdout",
     "output_type": "stream",
     "text": [
      "[2021-06-09 15:02:16,980][valid][INFO] - {\"epoch\": 5379, \"valid_loss\": \"1.001\", \"valid_ntokens\": \"3039.79\", \"valid_nsentences\": \"144.214\", \"valid_lm_score_sum\": \"-89758.7\", \"valid_num_pred_chars\": \"48577\", \"valid_vocab_seen_pct\": \"0.891986\", \"valid_uer\": \"100.134\", \"valid_weighted_lm_ppl\": \"74.6985\", \"valid_lm_ppl\": \"59.4331\", \"valid_wps\": \"18955.6\", \"valid_wpb\": \"3039.8\", \"valid_bsz\": \"144.2\", \"valid_num_updates\": \"86064\", \"valid_best_weighted_lm_ppl\": \"73.0296\"}\r\n",
      "[2021-06-09 15:02:16,983][fairseq.checkpoint_utils][INFO] - Preparing to save checkpoint for epoch 5379 @ 86064 updates\r\n",
      "[2021-06-09 15:02:16,984][fairseq.trainer][INFO] - Saving checkpoint to /kaggle/working/checkpoint_last.pt\r\n"
     ]
    },
    {
     "name": "stdout",
     "output_type": "stream",
     "text": [
      "[2021-06-09 15:02:17,029][fairseq.trainer][INFO] - Finished saving checkpoint to /kaggle/working/checkpoint_last.pt\r\n",
      "[2021-06-09 15:02:17,029][fairseq.checkpoint_utils][INFO] - Saved checkpoint /kaggle/working/checkpoint_last.pt (epoch 5379 @ 86064 updates, score 74.6985364432423) (writing took 0.046339414999238215 seconds)\r\n",
      "[2021-06-09 15:02:17,030][fairseq_cli.train][INFO] - end of epoch 5379 (average epoch stats below)\r\n",
      "[2021-06-09 15:02:17,034][train][INFO] - {\"epoch\": 5379, \"train_loss\": \"3.475\", \"train_ntokens\": \"145.688\", \"train_nsentences\": \"145.688\", \"train_temp\": \"0.1\", \"train_code_ppl\": \"8.583\", \"train_loss_code_pen\": \"0.318\", \"train_loss_smoothness\": \"2.05\", \"train_loss_dense_g\": \"4.219\", \"train_lm_score_sum\": 0.0, \"train_num_pred_chars\": 0.0, \"train_loss_grad_pen\": \"0.077\", \"train_loss_dense_d\": \"0.021\", \"train_loss_token_d\": \"0.029\", \"train_wps\": \"9.3\", \"train_ups\": \"0.06\", \"train_wpb\": \"145.7\", \"train_bsz\": \"145.7\", \"train_num_updates\": \"86064\", \"train_lr_discriminator\": \"0.0005\", \"train_lr_generator\": \"0.0004\", \"train_gnorm\": \"31.834\", \"train_clip\": \"75\", \"train_train_wall\": \"246\", \"train_wall\": \"10923\"}\r\n"
     ]
    },
    {
     "name": "stdout",
     "output_type": "stream",
     "text": [
      "[2021-06-09 15:02:17,092][fairseq.trainer][INFO] - begin training epoch 5380\r\n",
      "[2021-06-09 15:02:17,093][fairseq_cli.train][INFO] - Start iterating over samples\r\n"
     ]
    },
    {
     "name": "stdout",
     "output_type": "stream",
     "text": [
      "[2021-06-09 15:06:27,105][fairseq_cli.train][INFO] - begin validation on \"valid\" subset\r\n"
     ]
    },
    {
     "name": "stdout",
     "output_type": "stream",
     "text": [
      "[2021-06-09 15:06:29,509][fairseq.tasks.unpaired_audio_text][INFO] - REF: ɛ n f œ ʂ ə n a d ɵ ʂ ə k t f øː r d eː t s ɔ m h ɛ n d ə p oː ɕ œ r k ɔ n s ɛ t ə n\r\n",
      "[2021-06-09 15:06:29,511][fairseq.tasks.unpaired_audio_text][INFO] - HYP: n ɪ n s j œ r œ j ɕ j uː œ yː k j uː ɡ f œ j m ə h ɔ k b ə uː s eː r n v oː s ɪ ŋ k ɪ l s uː t a n t a\r\n",
      "[2021-06-09 15:06:29,515][fairseq.tasks.unpaired_audio_text][INFO] - LM [REF]: -53.44462585449219, 0.05339602260269112\r\n",
      "[2021-06-09 15:06:29,515][fairseq.tasks.unpaired_audio_text][INFO] - LM [HYP]: -85.61001586914062, 0.017900156128634083\r\n"
     ]
    },
    {
     "name": "stdout",
     "output_type": "stream",
     "text": [
      "[2021-06-09 15:06:30,023][valid][INFO] - {\"epoch\": 5380, \"valid_loss\": \"1.003\", \"valid_ntokens\": \"3039.79\", \"valid_nsentences\": \"144.214\", \"valid_lm_score_sum\": \"-89953.2\", \"valid_num_pred_chars\": \"48636\", \"valid_vocab_seen_pct\": \"0.89547\", \"valid_uer\": \"100.303\", \"valid_weighted_lm_ppl\": \"74.4216\", \"valid_lm_ppl\": \"59.6762\", \"valid_wps\": \"18794\", \"valid_wpb\": \"3039.8\", \"valid_bsz\": \"144.2\", \"valid_num_updates\": \"86080\", \"valid_best_weighted_lm_ppl\": \"73.0296\"}\r\n",
      "[2021-06-09 15:06:30,027][fairseq.checkpoint_utils][INFO] - Preparing to save checkpoint for epoch 5380 @ 86080 updates\r\n",
      "[2021-06-09 15:06:30,028][fairseq.trainer][INFO] - Saving checkpoint to /kaggle/working/checkpoint_last.pt\r\n"
     ]
    },
    {
     "name": "stdout",
     "output_type": "stream",
     "text": [
      "[2021-06-09 15:06:30,072][fairseq.trainer][INFO] - Finished saving checkpoint to /kaggle/working/checkpoint_last.pt\r\n",
      "[2021-06-09 15:06:30,073][fairseq.checkpoint_utils][INFO] - Saved checkpoint /kaggle/working/checkpoint_last.pt (epoch 5380 @ 86080 updates, score 74.42155670827495) (writing took 0.046125746999678086 seconds)\r\n",
      "[2021-06-09 15:06:30,073][fairseq_cli.train][INFO] - end of epoch 5380 (average epoch stats below)\r\n",
      "[2021-06-09 15:06:30,076][train][INFO] - {\"epoch\": 5380, \"train_loss\": \"3.53\", \"train_ntokens\": \"145.688\", \"train_nsentences\": \"145.688\", \"train_temp\": \"0.1\", \"train_code_ppl\": \"8.584\", \"train_loss_code_pen\": \"0.329\", \"train_loss_smoothness\": \"2.084\", \"train_loss_dense_g\": \"4.101\", \"train_lm_score_sum\": 0.0, \"train_num_pred_chars\": 0.0, \"train_loss_grad_pen\": \"0.272\", \"train_loss_dense_d\": \"0.025\", \"train_loss_token_d\": \"0.023\", \"train_wps\": \"9.2\", \"train_ups\": \"0.06\", \"train_wpb\": \"145.7\", \"train_bsz\": \"145.7\", \"train_num_updates\": \"86080\", \"train_lr_discriminator\": \"0.0005\", \"train_lr_generator\": \"0.0004\", \"train_gnorm\": \"45.088\", \"train_clip\": \"81.2\", \"train_train_wall\": \"249\", \"train_wall\": \"11176\"}\r\n"
     ]
    },
    {
     "name": "stdout",
     "output_type": "stream",
     "text": [
      "[2021-06-09 15:06:30,131][fairseq.trainer][INFO] - begin training epoch 5381\r\n",
      "[2021-06-09 15:06:30,132][fairseq_cli.train][INFO] - Start iterating over samples\r\n"
     ]
    },
    {
     "name": "stdout",
     "output_type": "stream",
     "text": [
      "[2021-06-09 15:10:51,221][fairseq_cli.train][INFO] - begin validation on \"valid\" subset\r\n"
     ]
    },
    {
     "name": "stdout",
     "output_type": "stream",
     "text": [
      "[2021-06-09 15:10:53,679][fairseq.tasks.unpaired_audio_text][INFO] - REF: ɛ n f œ ʂ ə n a d ɵ ʂ ə k t f øː r d eː t s ɔ m h ɛ n d ə p oː ɕ œ r k ɔ n s ɛ t ə n\r\n",
      "[2021-06-09 15:10:53,681][fairseq.tasks.unpaired_audio_text][INFO] - HYP: n ɪ n s j œ r œ j ɕ j uː œ yː k j uː ɡ f œ j m ə h œ k b ə uː s eː r n v oː s ɪ ŋ k ɪ l s uː t a n t a\r\n",
      "[2021-06-09 15:10:53,685][fairseq.tasks.unpaired_audio_text][INFO] - LM [REF]: -53.44462585449219, 0.05339602260269112\r\n"
     ]
    },
    {
     "name": "stdout",
     "output_type": "stream",
     "text": [
      "[2021-06-09 15:10:53,685][fairseq.tasks.unpaired_audio_text][INFO] - LM [HYP]: -87.45161437988281, 0.016416220465115133\r\n"
     ]
    },
    {
     "name": "stdout",
     "output_type": "stream",
     "text": [
      "[2021-06-09 15:10:54,222][valid][INFO] - {\"epoch\": 5381, \"valid_loss\": \"1.002\", \"valid_ntokens\": \"3039.79\", \"valid_nsentences\": \"144.214\", \"valid_lm_score_sum\": \"-89888.1\", \"valid_num_pred_chars\": \"48503\", \"valid_vocab_seen_pct\": \"0.897213\", \"valid_uer\": \"100.169\", \"valid_weighted_lm_ppl\": \"74.7131\", \"valid_lm_ppl\": \"60.1433\", \"valid_wps\": \"18181.3\", \"valid_wpb\": \"3039.8\", \"valid_bsz\": \"144.2\", \"valid_num_updates\": \"86096\", \"valid_best_weighted_lm_ppl\": \"73.0296\"}\r\n",
      "[2021-06-09 15:10:54,226][fairseq.checkpoint_utils][INFO] - Preparing to save checkpoint for epoch 5381 @ 86096 updates\r\n",
      "[2021-06-09 15:10:54,227][fairseq.trainer][INFO] - Saving checkpoint to /kaggle/working/checkpoint_last.pt\r\n"
     ]
    },
    {
     "name": "stdout",
     "output_type": "stream",
     "text": [
      "[2021-06-09 15:10:54,277][fairseq.trainer][INFO] - Finished saving checkpoint to /kaggle/working/checkpoint_last.pt\r\n",
      "[2021-06-09 15:10:54,277][fairseq.checkpoint_utils][INFO] - Saved checkpoint /kaggle/working/checkpoint_last.pt (epoch 5381 @ 86096 updates, score 74.71307662530002) (writing took 0.05159809999895515 seconds)\r\n",
      "[2021-06-09 15:10:54,278][fairseq_cli.train][INFO] - end of epoch 5381 (average epoch stats below)\r\n",
      "[2021-06-09 15:10:54,282][train][INFO] - {\"epoch\": 5381, \"train_loss\": \"3.148\", \"train_ntokens\": \"145.688\", \"train_nsentences\": \"145.688\", \"train_temp\": \"0.1\", \"train_code_ppl\": \"8.59\", \"train_loss_code_pen\": \"0.315\", \"train_loss_smoothness\": \"2.034\", \"train_loss_dense_g\": \"4.066\", \"train_lm_score_sum\": 0.0, \"train_num_pred_chars\": 0.0, \"train_loss_grad_pen\": \"0.052\", \"train_loss_dense_d\": \"0.028\", \"train_loss_token_d\": \"0.03\", \"train_wps\": \"8.8\", \"train_ups\": \"0.06\", \"train_wpb\": \"145.7\", \"train_bsz\": \"145.7\", \"train_num_updates\": \"86096\", \"train_lr_discriminator\": \"0.0005\", \"train_lr_generator\": \"0.0004\", \"train_gnorm\": \"29.587\", \"train_clip\": \"62.5\", \"train_train_wall\": \"261\", \"train_wall\": \"11441\"}\r\n"
     ]
    },
    {
     "name": "stdout",
     "output_type": "stream",
     "text": [
      "[2021-06-09 15:10:54,345][fairseq.trainer][INFO] - begin training epoch 5382\r\n",
      "[2021-06-09 15:10:54,346][fairseq_cli.train][INFO] - Start iterating over samples\r\n"
     ]
    },
    {
     "name": "stdout",
     "output_type": "stream",
     "text": [
      "[2021-06-09 15:12:07,295][train_inner][INFO] - {\"epoch\": 5382, \"update\": 5381.25, \"loss\": \"3.384\", \"ntokens\": \"146.26\", \"nsentences\": \"146.26\", \"temp\": \"0.1\", \"code_ppl\": \"8.565\", \"loss_code_pen\": \"0.323\", \"loss_smoothness\": \"2.065\", \"loss_dense_g\": \"4.208\", \"lm_score_sum\": 0.0, \"num_pred_chars\": 0.0, \"loss_grad_pen\": \"0.12\", \"loss_dense_d\": \"0.025\", \"loss_token_d\": \"0.025\", \"wps\": \"9.1\", \"ups\": \"0.06\", \"wpb\": \"146.3\", \"bsz\": \"146.3\", \"num_updates\": \"86100\", \"lr_discriminator\": \"0.0005\", \"lr_generator\": \"0.0004\", \"gnorm\": \"36.545\", \"clip\": \"75\", \"train_wall\": \"1584\", \"wall\": \"11514\"}\r\n"
     ]
    },
    {
     "name": "stdout",
     "output_type": "stream",
     "text": [
      "[2021-06-09 15:14:58,669][fairseq_cli.train][INFO] - begin validation on \"valid\" subset\r\n"
     ]
    },
    {
     "name": "stdout",
     "output_type": "stream",
     "text": [
      "[2021-06-09 15:15:01,024][fairseq.tasks.unpaired_audio_text][INFO] - REF: ɛ n f œ ʂ ə n a d ɵ ʂ ə k t f øː r d eː t s ɔ m h ɛ n d ə p oː ɕ œ r k ɔ n s ɛ t ə n\r\n",
      "[2021-06-09 15:15:01,026][fairseq.tasks.unpaired_audio_text][INFO] - HYP: n ɪ n s j œ r œ yː ɕ j uː œ yː k ə ɡ f œ j m ə h œ k b ə uː s eː r n v oː s ɪ ŋ k ɪ l s uː t a n t a\r\n",
      "[2021-06-09 15:15:01,030][fairseq.tasks.unpaired_audio_text][INFO] - LM [REF]: -53.44462585449219, 0.05339602260269112\r\n",
      "[2021-06-09 15:15:01,030][fairseq.tasks.unpaired_audio_text][INFO] - LM [HYP]: -86.74530029296875, 0.015588568793891483\r\n"
     ]
    },
    {
     "name": "stdout",
     "output_type": "stream",
     "text": [
      "[2021-06-09 15:15:01,533][valid][INFO] - {\"epoch\": 5382, \"valid_loss\": \"1\", \"valid_ntokens\": \"3039.79\", \"valid_nsentences\": \"144.214\", \"valid_lm_score_sum\": \"-89471.3\", \"valid_num_pred_chars\": \"48350\", \"valid_vocab_seen_pct\": \"0.885017\", \"valid_uer\": \"99.9883\", \"valid_weighted_lm_ppl\": \"76.2805\", \"valid_lm_ppl\": \"59.7471\", \"valid_wps\": \"19135.3\", \"valid_wpb\": \"3039.8\", \"valid_bsz\": \"144.2\", \"valid_num_updates\": \"86112\", \"valid_best_weighted_lm_ppl\": \"73.0296\"}\r\n",
      "[2021-06-09 15:15:01,536][fairseq.checkpoint_utils][INFO] - Preparing to save checkpoint for epoch 5382 @ 86112 updates\r\n",
      "[2021-06-09 15:15:01,537][fairseq.trainer][INFO] - Saving checkpoint to /kaggle/working/checkpoint_last.pt\r\n"
     ]
    },
    {
     "name": "stdout",
     "output_type": "stream",
     "text": [
      "[2021-06-09 15:15:01,581][fairseq.trainer][INFO] - Finished saving checkpoint to /kaggle/working/checkpoint_last.pt\r\n",
      "[2021-06-09 15:15:01,581][fairseq.checkpoint_utils][INFO] - Saved checkpoint /kaggle/working/checkpoint_last.pt (epoch 5382 @ 86112 updates, score 76.28046647046335) (writing took 0.045745446001092205 seconds)\r\n",
      "[2021-06-09 15:15:01,582][fairseq_cli.train][INFO] - end of epoch 5382 (average epoch stats below)\r\n",
      "[2021-06-09 15:15:01,585][train][INFO] - {\"epoch\": 5382, \"train_loss\": \"3.474\", \"train_ntokens\": \"145.688\", \"train_nsentences\": \"145.688\", \"train_temp\": \"0.1\", \"train_code_ppl\": \"8.565\", \"train_loss_code_pen\": \"0.324\", \"train_loss_smoothness\": \"2.051\", \"train_loss_dense_g\": \"4.153\", \"train_lm_score_sum\": 0.0, \"train_num_pred_chars\": 0.0, \"train_loss_grad_pen\": \"0.12\", \"train_loss_dense_d\": \"0.029\", \"train_loss_token_d\": \"0.04\", \"train_wps\": \"9.4\", \"train_ups\": \"0.06\", \"train_wpb\": \"145.7\", \"train_bsz\": \"145.7\", \"train_num_updates\": \"86112\", \"train_lr_discriminator\": \"0.0005\", \"train_lr_generator\": \"0.0004\", \"train_gnorm\": \"33.343\", \"train_clip\": \"87.5\", \"train_train_wall\": \"244\", \"train_wall\": \"11688\"}\r\n"
     ]
    },
    {
     "name": "stdout",
     "output_type": "stream",
     "text": [
      "[2021-06-09 15:15:01,643][fairseq.trainer][INFO] - begin training epoch 5383\r\n",
      "[2021-06-09 15:15:01,644][fairseq_cli.train][INFO] - Start iterating over samples\r\n"
     ]
    },
    {
     "name": "stdout",
     "output_type": "stream",
     "text": [
      "[2021-06-09 15:19:03,168][fairseq_cli.train][INFO] - begin validation on \"valid\" subset\r\n"
     ]
    },
    {
     "name": "stdout",
     "output_type": "stream",
     "text": [
      "[2021-06-09 15:19:05,613][fairseq.tasks.unpaired_audio_text][INFO] - REF: ɛ n f œ ʂ ə n a d ɵ ʂ ə k t f øː r d eː t s ɔ m h ɛ n d ə p oː ɕ œ r k ɔ n s ɛ t ə n\r\n",
      "[2021-06-09 15:19:05,615][fairseq.tasks.unpaired_audio_text][INFO] - HYP: n ɪ n s j œ r œ yː ɕ j uː œ yː k ə uː ɡ f œ v j m ə h ɔ k b ə uː s eː r n v oː s ɪ ŋ k ɪ l s uː t a n t a\r\n",
      "[2021-06-09 15:19:05,619][fairseq.tasks.unpaired_audio_text][INFO] - LM [REF]: -53.44462585449219, 0.05339602260269112\r\n",
      "[2021-06-09 15:19:05,620][fairseq.tasks.unpaired_audio_text][INFO] - LM [HYP]: -88.55561828613281, 0.016938994783593165\r\n"
     ]
    },
    {
     "name": "stdout",
     "output_type": "stream",
     "text": [
      "[2021-06-09 15:19:06,133][valid][INFO] - {\"epoch\": 5383, \"valid_loss\": \"1.001\", \"valid_ntokens\": \"3039.79\", \"valid_nsentences\": \"144.214\", \"valid_lm_score_sum\": \"-89785.7\", \"valid_num_pred_chars\": \"48415\", \"valid_vocab_seen_pct\": \"0.885017\", \"valid_uer\": \"100.103\", \"valid_weighted_lm_ppl\": \"76.9765\", \"valid_lm_ppl\": \"60.2923\", \"valid_wps\": \"18281\", \"valid_wpb\": \"3039.8\", \"valid_bsz\": \"144.2\", \"valid_num_updates\": \"86128\", \"valid_best_weighted_lm_ppl\": \"73.0296\"}\r\n",
      "[2021-06-09 15:19:06,137][fairseq.checkpoint_utils][INFO] - Preparing to save checkpoint for epoch 5383 @ 86128 updates\r\n",
      "[2021-06-09 15:19:06,138][fairseq.trainer][INFO] - Saving checkpoint to /kaggle/working/checkpoint_last.pt\r\n"
     ]
    },
    {
     "name": "stdout",
     "output_type": "stream",
     "text": [
      "[2021-06-09 15:19:06,182][fairseq.trainer][INFO] - Finished saving checkpoint to /kaggle/working/checkpoint_last.pt\r\n",
      "[2021-06-09 15:19:06,183][fairseq.checkpoint_utils][INFO] - Saved checkpoint /kaggle/working/checkpoint_last.pt (epoch 5383 @ 86128 updates, score 76.97645020414845) (writing took 0.045907785000963486 seconds)\r\n",
      "[2021-06-09 15:19:06,183][fairseq_cli.train][INFO] - end of epoch 5383 (average epoch stats below)\r\n",
      "[2021-06-09 15:19:06,186][train][INFO] - {\"epoch\": 5383, \"train_loss\": \"3.367\", \"train_ntokens\": \"145.688\", \"train_nsentences\": \"145.688\", \"train_temp\": \"0.1\", \"train_code_ppl\": \"8.591\", \"train_loss_code_pen\": \"0.313\", \"train_loss_smoothness\": \"2.043\", \"train_loss_dense_g\": \"3.987\", \"train_lm_score_sum\": 0.0, \"train_num_pred_chars\": 0.0, \"train_loss_grad_pen\": \"0.105\", \"train_loss_dense_d\": \"0.03\", \"train_loss_token_d\": \"0.032\", \"train_wps\": \"9.5\", \"train_ups\": \"0.07\", \"train_wpb\": \"145.7\", \"train_bsz\": \"145.7\", \"train_num_updates\": \"86128\", \"train_lr_discriminator\": \"0.0005\", \"train_lr_generator\": \"0.0004\", \"train_gnorm\": \"32.368\", \"train_clip\": \"81.2\", \"train_train_wall\": \"241\", \"train_wall\": \"11933\"}\r\n"
     ]
    },
    {
     "name": "stdout",
     "output_type": "stream",
     "text": [
      "[2021-06-09 15:19:06,243][fairseq.trainer][INFO] - begin training epoch 5384\r\n",
      "[2021-06-09 15:19:06,245][fairseq_cli.train][INFO] - Start iterating over samples\r\n"
     ]
    },
    {
     "name": "stdout",
     "output_type": "stream",
     "text": [
      "[2021-06-09 15:23:24,553][fairseq_cli.train][INFO] - begin validation on \"valid\" subset\r\n"
     ]
    },
    {
     "name": "stdout",
     "output_type": "stream",
     "text": [
      "[2021-06-09 15:23:27,025][fairseq.tasks.unpaired_audio_text][INFO] - REF: ɛ n f œ ʂ ə n a d ɵ ʂ ə k t f øː r d eː t s ɔ m h ɛ n d ə p oː ɕ œ r k ɔ n s ɛ t ə n\r\n",
      "[2021-06-09 15:23:27,027][fairseq.tasks.unpaired_audio_text][INFO] - HYP: n ɪ n s j œ r œ j ɕ j uː œ yː k ə uː ɡ f œ v j ə h ɔ k b ə uː s eː r n v oː s ɪ ŋ k ɪ l s uː t a n t a\r\n"
     ]
    },
    {
     "name": "stdout",
     "output_type": "stream",
     "text": [
      "[2021-06-09 15:23:27,032][fairseq.tasks.unpaired_audio_text][INFO] - LM [REF]: -53.44462585449219, 0.05339602260269112\r\n",
      "[2021-06-09 15:23:27,032][fairseq.tasks.unpaired_audio_text][INFO] - LM [HYP]: -85.44419860839844, 0.018040179095571474\r\n"
     ]
    },
    {
     "name": "stdout",
     "output_type": "stream",
     "text": [
      "[2021-06-09 15:23:27,551][valid][INFO] - {\"epoch\": 5384, \"valid_loss\": \"1\", \"valid_ntokens\": \"3039.79\", \"valid_nsentences\": \"144.214\", \"valid_lm_score_sum\": \"-89700.1\", \"valid_num_pred_chars\": \"48443\", \"valid_vocab_seen_pct\": \"0.893728\", \"valid_uer\": \"99.9765\", \"valid_weighted_lm_ppl\": \"75.0181\", \"valid_lm_ppl\": \"59.9207\", \"valid_wps\": \"18470.4\", \"valid_wpb\": \"3039.8\", \"valid_bsz\": \"144.2\", \"valid_num_updates\": \"86144\", \"valid_best_weighted_lm_ppl\": \"73.0296\"}\r\n",
      "[2021-06-09 15:23:27,554][fairseq.checkpoint_utils][INFO] - Preparing to save checkpoint for epoch 5384 @ 86144 updates\r\n",
      "[2021-06-09 15:23:27,556][fairseq.trainer][INFO] - Saving checkpoint to /kaggle/working/checkpoint_last.pt\r\n"
     ]
    },
    {
     "name": "stdout",
     "output_type": "stream",
     "text": [
      "[2021-06-09 15:23:27,603][fairseq.trainer][INFO] - Finished saving checkpoint to /kaggle/working/checkpoint_last.pt\r\n",
      "[2021-06-09 15:23:27,603][fairseq.checkpoint_utils][INFO] - Saved checkpoint /kaggle/working/checkpoint_last.pt (epoch 5384 @ 86144 updates, score 75.01811273024892) (writing took 0.049030930998924305 seconds)\r\n",
      "[2021-06-09 15:23:27,604][fairseq_cli.train][INFO] - end of epoch 5384 (average epoch stats below)\r\n",
      "[2021-06-09 15:23:27,608][train][INFO] - {\"epoch\": 5384, \"train_loss\": \"3.08\", \"train_ntokens\": \"145.688\", \"train_nsentences\": \"145.688\", \"train_temp\": \"0.1\", \"train_code_ppl\": \"8.618\", \"train_loss_code_pen\": \"0.328\", \"train_loss_smoothness\": \"2.076\", \"train_loss_dense_g\": \"3.858\", \"train_lm_score_sum\": 0.0, \"train_num_pred_chars\": 0.0, \"train_loss_grad_pen\": \"0.068\", \"train_loss_dense_d\": \"0.03\", \"train_loss_token_d\": \"0.024\", \"train_wps\": \"8.9\", \"train_ups\": \"0.06\", \"train_wpb\": \"145.7\", \"train_bsz\": \"145.7\", \"train_num_updates\": \"86144\", \"train_lr_discriminator\": \"0.0005\", \"train_lr_generator\": \"0.0004\", \"train_gnorm\": \"30.401\", \"train_clip\": \"81.2\", \"train_train_wall\": \"258\", \"train_wall\": \"12194\"}\r\n"
     ]
    },
    {
     "name": "stdout",
     "output_type": "stream",
     "text": [
      "[2021-06-09 15:23:27,667][fairseq.trainer][INFO] - begin training epoch 5385\r\n",
      "[2021-06-09 15:23:27,669][fairseq_cli.train][INFO] - Start iterating over samples\r\n"
     ]
    },
    {
     "name": "stdout",
     "output_type": "stream",
     "text": [
      "[2021-06-09 15:27:15,643][fairseq_cli.train][INFO] - begin validation on \"valid\" subset\r\n"
     ]
    },
    {
     "name": "stdout",
     "output_type": "stream",
     "text": [
      "[2021-06-09 15:27:18,032][fairseq.tasks.unpaired_audio_text][INFO] - REF: ɛ n f œ ʂ ə n a d ɵ ʂ ə k t f øː r d eː t s ɔ m h ɛ n d ə p oː ɕ œ r k ɔ n s ɛ t ə n\r\n",
      "[2021-06-09 15:27:18,035][fairseq.tasks.unpaired_audio_text][INFO] - HYP: n ɪ n s j œ r œ yː j uː œ yː k ə ɡ f œ v j ə h œ k b ə uː s eː r n v oː s ɪ ŋ k ɪ l s uː t n t a\r\n",
      "[2021-06-09 15:27:18,039][fairseq.tasks.unpaired_audio_text][INFO] - LM [REF]: -53.44462585449219, 0.05339602260269112\r\n",
      "[2021-06-09 15:27:18,039][fairseq.tasks.unpaired_audio_text][INFO] - LM [HYP]: -85.00713348388672, 0.014191190739370871\r\n"
     ]
    },
    {
     "name": "stdout",
     "output_type": "stream",
     "text": [
      "[2021-06-09 15:27:18,542][valid][INFO] - {\"epoch\": 5385, \"valid_loss\": \"1.001\", \"valid_ntokens\": \"3039.79\", \"valid_nsentences\": \"144.214\", \"valid_lm_score_sum\": \"-89679.6\", \"valid_num_pred_chars\": \"48414\", \"valid_vocab_seen_pct\": \"0.89547\", \"valid_uer\": \"100.108\", \"valid_weighted_lm_ppl\": \"74.8327\", \"valid_lm_ppl\": \"60.0059\", \"valid_wps\": \"18905.3\", \"valid_wpb\": \"3039.8\", \"valid_bsz\": \"144.2\", \"valid_num_updates\": \"86160\", \"valid_best_weighted_lm_ppl\": \"73.0296\"}\r\n",
      "[2021-06-09 15:27:18,545][fairseq.checkpoint_utils][INFO] - Preparing to save checkpoint for epoch 5385 @ 86160 updates\r\n",
      "[2021-06-09 15:27:18,546][fairseq.trainer][INFO] - Saving checkpoint to /kaggle/working/checkpoint_last.pt\r\n",
      "[2021-06-09 15:27:18,591][fairseq.trainer][INFO] - Finished saving checkpoint to /kaggle/working/checkpoint_last.pt\r\n",
      "[2021-06-09 15:27:18,592][fairseq.checkpoint_utils][INFO] - Saved checkpoint /kaggle/working/checkpoint_last.pt (epoch 5385 @ 86160 updates, score 74.8326559018237) (writing took 0.046643670999401365 seconds)\r\n",
      "[2021-06-09 15:27:18,592][fairseq_cli.train][INFO] - end of epoch 5385 (average epoch stats below)\r\n"
     ]
    },
    {
     "name": "stdout",
     "output_type": "stream",
     "text": [
      "[2021-06-09 15:27:18,596][train][INFO] - {\"epoch\": 5385, \"train_loss\": \"3.719\", \"train_ntokens\": \"145.688\", \"train_nsentences\": \"145.688\", \"train_temp\": \"0.1\", \"train_code_ppl\": \"8.456\", \"train_loss_code_pen\": \"0.309\", \"train_loss_smoothness\": \"2.019\", \"train_loss_dense_g\": \"4.334\", \"train_lm_score_sum\": 0.0, \"train_num_pred_chars\": 0.0, \"train_loss_grad_pen\": \"0.083\", \"train_loss_dense_d\": \"0.026\", \"train_loss_token_d\": \"0.026\", \"train_wps\": \"10.1\", \"train_ups\": \"0.07\", \"train_wpb\": \"145.7\", \"train_bsz\": \"145.7\", \"train_num_updates\": \"86160\", \"train_lr_discriminator\": \"0.0005\", \"train_lr_generator\": \"0.0004\", \"train_gnorm\": \"40.668\", \"train_clip\": \"75\", \"train_train_wall\": \"228\", \"train_wall\": \"12425\"}\r\n"
     ]
    },
    {
     "name": "stdout",
     "output_type": "stream",
     "text": [
      "[2021-06-09 15:27:18,652][fairseq.trainer][INFO] - begin training epoch 5386\r\n",
      "[2021-06-09 15:27:18,654][fairseq_cli.train][INFO] - Start iterating over samples\r\n"
     ]
    },
    {
     "name": "stdout",
     "output_type": "stream",
     "text": [
      "[2021-06-09 15:31:41,502][fairseq_cli.train][INFO] - begin validation on \"valid\" subset\r\n"
     ]
    },
    {
     "name": "stdout",
     "output_type": "stream",
     "text": [
      "[2021-06-09 15:31:43,993][fairseq.tasks.unpaired_audio_text][INFO] - REF: ɛ n f œ ʂ ə n a d ɵ ʂ ə k t f øː r d eː t s ɔ m h ɛ n d ə p oː ɕ œ r k ɔ n s ɛ t ə n\r\n",
      "[2021-06-09 15:31:43,995][fairseq.tasks.unpaired_audio_text][INFO] - HYP: n ɪ n s j œ r œ j ɕ j uː ʃ œ yː k j ə ɡ f œ v j m ə h ɔ k b ə uː s eː r n v oː s ɪ ŋ k ɪ l s uː t a n t a\r\n",
      "[2021-06-09 15:31:43,999][fairseq.tasks.unpaired_audio_text][INFO] - LM [REF]: -53.44462585449219, 0.05339602260269112\r\n",
      "[2021-06-09 15:31:44,000][fairseq.tasks.unpaired_audio_text][INFO] - LM [HYP]: -91.6014404296875, 0.01599165179862535\r\n"
     ]
    },
    {
     "name": "stdout",
     "output_type": "stream",
     "text": [
      "[2021-06-09 15:31:44,511][valid][INFO] - {\"epoch\": 5386, \"valid_loss\": \"0.999\", \"valid_ntokens\": \"3039.79\", \"valid_nsentences\": \"144.214\", \"valid_lm_score_sum\": \"-89544.6\", \"valid_num_pred_chars\": \"48317\", \"valid_vocab_seen_pct\": \"0.891986\", \"valid_uer\": \"99.9319\", \"valid_weighted_lm_ppl\": \"75.5476\", \"valid_lm_ppl\": \"60.1086\", \"valid_wps\": \"18125.4\", \"valid_wpb\": \"3039.8\", \"valid_bsz\": \"144.2\", \"valid_num_updates\": \"86176\", \"valid_best_weighted_lm_ppl\": \"73.0296\"}\r\n",
      "[2021-06-09 15:31:44,514][fairseq.checkpoint_utils][INFO] - Preparing to save checkpoint for epoch 5386 @ 86176 updates\r\n",
      "[2021-06-09 15:31:44,515][fairseq.trainer][INFO] - Saving checkpoint to /kaggle/working/checkpoint_last.pt\r\n"
     ]
    },
    {
     "name": "stdout",
     "output_type": "stream",
     "text": [
      "[2021-06-09 15:31:44,561][fairseq.trainer][INFO] - Finished saving checkpoint to /kaggle/working/checkpoint_last.pt\r\n",
      "[2021-06-09 15:31:44,561][fairseq.checkpoint_utils][INFO] - Saved checkpoint /kaggle/working/checkpoint_last.pt (epoch 5386 @ 86176 updates, score 75.54755691850727) (writing took 0.04664038700138917 seconds)\r\n",
      "[2021-06-09 15:31:44,561][fairseq_cli.train][INFO] - end of epoch 5386 (average epoch stats below)\r\n",
      "[2021-06-09 15:31:44,564][train][INFO] - {\"epoch\": 5386, \"train_loss\": \"3.265\", \"train_ntokens\": \"145.688\", \"train_nsentences\": \"145.688\", \"train_temp\": \"0.1\", \"train_code_ppl\": \"8.717\", \"train_loss_code_pen\": \"0.354\", \"train_loss_smoothness\": \"2.162\", \"train_loss_dense_g\": \"4.149\", \"train_lm_score_sum\": 0.0, \"train_num_pred_chars\": 0.0, \"train_loss_grad_pen\": \"0.055\", \"train_loss_dense_d\": \"0.027\", \"train_loss_token_d\": \"0.023\", \"train_wps\": \"8.8\", \"train_ups\": \"0.06\", \"train_wpb\": \"145.7\", \"train_bsz\": \"145.7\", \"train_num_updates\": \"86176\", \"train_lr_discriminator\": \"0.0005\", \"train_lr_generator\": \"0.0004\", \"train_gnorm\": \"29.446\", \"train_clip\": \"62.5\", \"train_train_wall\": \"262\", \"train_wall\": \"12691\"}\r\n"
     ]
    },
    {
     "name": "stdout",
     "output_type": "stream",
     "text": [
      "[2021-06-09 15:31:44,620][fairseq.trainer][INFO] - begin training epoch 5387\r\n",
      "[2021-06-09 15:31:44,622][fairseq_cli.train][INFO] - Start iterating over samples\r\n"
     ]
    },
    {
     "name": "stdout",
     "output_type": "stream",
     "text": [
      "[2021-06-09 15:35:59,281][fairseq_cli.train][INFO] - begin validation on \"valid\" subset\r\n"
     ]
    },
    {
     "name": "stdout",
     "output_type": "stream",
     "text": [
      "[2021-06-09 15:36:01,663][fairseq.tasks.unpaired_audio_text][INFO] - REF: ɛ n f œ ʂ ə n a d ɵ ʂ ə k t f øː r d eː t s ɔ m h ɛ n d ə p oː ɕ œ r k ɔ n s ɛ t ə n\r\n",
      "[2021-06-09 15:36:01,666][fairseq.tasks.unpaired_audio_text][INFO] - HYP: t ɪ n s j œ r œ j j uː œ yː k j ə ɡ f œ v j m ə h ɔ k b ə uː s eː r n v oː s ɪ ŋ k ɪ l s uː t a n t a\r\n",
      "[2021-06-09 15:36:01,670][fairseq.tasks.unpaired_audio_text][INFO] - LM [REF]: -53.44462585449219, 0.05339602260269112\r\n",
      "[2021-06-09 15:36:01,671][fairseq.tasks.unpaired_audio_text][INFO] - LM [HYP]: -86.71224975585938, 0.01699660767402992\r\n"
     ]
    },
    {
     "name": "stdout",
     "output_type": "stream",
     "text": [
      "[2021-06-09 15:36:02,185][valid][INFO] - {\"epoch\": 5387, \"valid_loss\": \"0.999\", \"valid_ntokens\": \"3039.79\", \"valid_nsentences\": \"144.214\", \"valid_lm_score_sum\": \"-89656.9\", \"valid_num_pred_chars\": \"48467\", \"valid_vocab_seen_pct\": \"0.893728\", \"valid_uer\": \"99.9342\", \"valid_weighted_lm_ppl\": \"74.7251\", \"valid_lm_ppl\": \"59.6867\", \"valid_wps\": \"18714.6\", \"valid_wpb\": \"3039.8\", \"valid_bsz\": \"144.2\", \"valid_num_updates\": \"86192\", \"valid_best_weighted_lm_ppl\": \"73.0296\"}\r\n",
      "[2021-06-09 15:36:02,188][fairseq.checkpoint_utils][INFO] - Preparing to save checkpoint for epoch 5387 @ 86192 updates\r\n",
      "[2021-06-09 15:36:02,189][fairseq.trainer][INFO] - Saving checkpoint to /kaggle/working/checkpoint_last.pt\r\n"
     ]
    },
    {
     "name": "stdout",
     "output_type": "stream",
     "text": [
      "[2021-06-09 15:36:02,236][fairseq.trainer][INFO] - Finished saving checkpoint to /kaggle/working/checkpoint_last.pt\r\n",
      "[2021-06-09 15:36:02,237][fairseq.checkpoint_utils][INFO] - Saved checkpoint /kaggle/working/checkpoint_last.pt (epoch 5387 @ 86192 updates, score 74.725092645239) (writing took 0.04861946699929831 seconds)\r\n",
      "[2021-06-09 15:36:02,237][fairseq_cli.train][INFO] - end of epoch 5387 (average epoch stats below)\r\n",
      "[2021-06-09 15:36:02,240][train][INFO] - {\"epoch\": 5387, \"train_loss\": \"3.29\", \"train_ntokens\": \"145.688\", \"train_nsentences\": \"145.688\", \"train_temp\": \"0.1\", \"train_code_ppl\": \"8.516\", \"train_loss_code_pen\": \"0.325\", \"train_loss_smoothness\": \"2.05\", \"train_loss_dense_g\": \"4.306\", \"train_lm_score_sum\": 0.0, \"train_num_pred_chars\": 0.0, \"train_loss_grad_pen\": \"0.091\", \"train_loss_dense_d\": \"0.023\", \"train_loss_token_d\": \"0.024\", \"train_wps\": \"9\", \"train_ups\": \"0.06\", \"train_wpb\": \"145.7\", \"train_bsz\": \"145.7\", \"train_num_updates\": \"86192\", \"train_lr_discriminator\": \"0.0005\", \"train_lr_generator\": \"0.0004\", \"train_gnorm\": \"31.563\", \"train_clip\": \"81.2\", \"train_train_wall\": \"254\", \"train_wall\": \"12949\"}\r\n"
     ]
    },
    {
     "name": "stdout",
     "output_type": "stream",
     "text": [
      "[2021-06-09 15:36:02,295][fairseq.trainer][INFO] - begin training epoch 5388\r\n",
      "[2021-06-09 15:36:02,297][fairseq_cli.train][INFO] - Start iterating over samples\r\n"
     ]
    },
    {
     "name": "stdout",
     "output_type": "stream",
     "text": [
      "[2021-06-09 15:38:16,640][train_inner][INFO] - {\"epoch\": 5388, \"update\": 5387.5, \"loss\": \"3.372\", \"ntokens\": \"146.26\", \"nsentences\": \"146.26\", \"temp\": \"0.1\", \"code_ppl\": \"8.595\", \"loss_code_pen\": \"0.327\", \"loss_smoothness\": \"2.072\", \"loss_dense_g\": \"4.133\", \"lm_score_sum\": 0.0, \"num_pred_chars\": 0.0, \"loss_grad_pen\": \"0.094\", \"loss_dense_d\": \"0.026\", \"loss_token_d\": \"0.028\", \"wps\": \"9.3\", \"ups\": \"0.06\", \"wpb\": \"146.3\", \"bsz\": \"146.3\", \"num_updates\": \"86200\", \"lr_discriminator\": \"0.0005\", \"lr_generator\": \"0.0004\", \"gnorm\": \"33.044\", \"clip\": \"78\", \"train_wall\": \"1548\", \"wall\": \"13083\"}\r\n"
     ]
    },
    {
     "name": "stdout",
     "output_type": "stream",
     "text": [
      "[2021-06-09 15:40:14,415][fairseq_cli.train][INFO] - begin validation on \"valid\" subset\r\n"
     ]
    },
    {
     "name": "stdout",
     "output_type": "stream",
     "text": [
      "[2021-06-09 15:40:16,927][fairseq.tasks.unpaired_audio_text][INFO] - REF: ɛ n f œ ʂ ə n a d ɵ ʂ ə k t f øː r d eː t s ɔ m h ɛ n d ə p oː ɕ œ r k ɔ n s ɛ t ə n\r\n",
      "[2021-06-09 15:40:16,930][fairseq.tasks.unpaired_audio_text][INFO] - HYP: n ɪ n s j œ r œ j j uː œ yː k j ə ɡ f œ v j m ə h œ k b ə uː s eː r n v oː s ɪ ŋ k ɪ l s uː t a n t a\r\n",
      "[2021-06-09 15:40:16,934][fairseq.tasks.unpaired_audio_text][INFO] - LM [REF]: -53.44462585449219, 0.05339602260269112\r\n",
      "[2021-06-09 15:40:16,934][fairseq.tasks.unpaired_audio_text][INFO] - LM [HYP]: -88.47698974609375, 0.01564397625306841\r\n"
     ]
    },
    {
     "name": "stdout",
     "output_type": "stream",
     "text": [
      "[2021-06-09 15:40:17,441][valid][INFO] - {\"epoch\": 5388, \"valid_loss\": \"1\", \"valid_ntokens\": \"3039.79\", \"valid_nsentences\": \"144.214\", \"valid_lm_score_sum\": \"-89548.7\", \"valid_num_pred_chars\": \"48403\", \"valid_vocab_seen_pct\": \"0.89547\", \"valid_uer\": \"99.9648\", \"valid_weighted_lm_ppl\": \"74.4529\", \"valid_lm_ppl\": \"59.7013\", \"valid_wps\": \"18849.2\", \"valid_wpb\": \"3039.8\", \"valid_bsz\": \"144.2\", \"valid_num_updates\": \"86208\", \"valid_best_weighted_lm_ppl\": \"73.0296\"}\r\n",
      "[2021-06-09 15:40:17,444][fairseq.checkpoint_utils][INFO] - Preparing to save checkpoint for epoch 5388 @ 86208 updates\r\n",
      "[2021-06-09 15:40:17,445][fairseq.trainer][INFO] - Saving checkpoint to /kaggle/working/checkpoint_last.pt\r\n"
     ]
    },
    {
     "name": "stdout",
     "output_type": "stream",
     "text": [
      "[2021-06-09 15:40:17,491][fairseq.trainer][INFO] - Finished saving checkpoint to /kaggle/working/checkpoint_last.pt\r\n",
      "[2021-06-09 15:40:17,491][fairseq.checkpoint_utils][INFO] - Saved checkpoint /kaggle/working/checkpoint_last.pt (epoch 5388 @ 86208 updates, score 74.45288102329914) (writing took 0.04703708700071729 seconds)\r\n",
      "[2021-06-09 15:40:17,492][fairseq_cli.train][INFO] - end of epoch 5388 (average epoch stats below)\r\n",
      "[2021-06-09 15:40:17,494][train][INFO] - {\"epoch\": 5388, \"train_loss\": \"3.169\", \"train_ntokens\": \"145.688\", \"train_nsentences\": \"145.688\", \"train_temp\": \"0.1\", \"train_code_ppl\": \"8.571\", \"train_loss_code_pen\": \"0.323\", \"train_loss_smoothness\": \"2.058\", \"train_loss_dense_g\": \"4.034\", \"train_lm_score_sum\": 0.0, \"train_num_pred_chars\": 0.0, \"train_loss_grad_pen\": \"0.109\", \"train_loss_dense_d\": \"0.023\", \"train_loss_token_d\": \"0.022\", \"train_wps\": \"9.1\", \"train_ups\": \"0.06\", \"train_wpb\": \"145.7\", \"train_bsz\": \"145.7\", \"train_num_updates\": \"86208\", \"train_lr_discriminator\": \"0.0005\", \"train_lr_generator\": \"0.0004\", \"train_gnorm\": \"31.258\", \"train_clip\": \"75\", \"train_train_wall\": \"252\", \"train_wall\": \"13204\"}\r\n"
     ]
    },
    {
     "name": "stdout",
     "output_type": "stream",
     "text": [
      "[2021-06-09 15:40:17,548][fairseq.trainer][INFO] - begin training epoch 5389\r\n",
      "[2021-06-09 15:40:17,549][fairseq_cli.train][INFO] - Start iterating over samples\r\n"
     ]
    },
    {
     "name": "stdout",
     "output_type": "stream",
     "text": [
      "[2021-06-09 15:44:20,467][fairseq_cli.train][INFO] - begin validation on \"valid\" subset\r\n"
     ]
    },
    {
     "name": "stdout",
     "output_type": "stream",
     "text": [
      "[2021-06-09 15:44:22,887][fairseq.tasks.unpaired_audio_text][INFO] - REF: ɛ n f œ ʂ ə n a d ɵ ʂ ə k t f øː r d eː t s ɔ m h ɛ n d ə p oː ɕ œ r k ɔ n s ɛ t ə n\r\n",
      "[2021-06-09 15:44:22,889][fairseq.tasks.unpaired_audio_text][INFO] - HYP: n ɪ n s j œ r œ j ɕ j uː œ yː k ə ɡ f œ j uː ə h œ k b ə uː s eː r n v oː s ɪ ŋ k ɪ l s uː t a n t a\r\n"
     ]
    },
    {
     "name": "stdout",
     "output_type": "stream",
     "text": [
      "[2021-06-09 15:44:22,893][fairseq.tasks.unpaired_audio_text][INFO] - LM [REF]: -53.44462585449219, 0.05339602260269112\r\n",
      "[2021-06-09 15:44:22,894][fairseq.tasks.unpaired_audio_text][INFO] - LM [HYP]: -85.97747802734375, 0.016173445190038778\r\n"
     ]
    },
    {
     "name": "stdout",
     "output_type": "stream",
     "text": [
      "[2021-06-09 15:44:23,395][valid][INFO] - {\"epoch\": 5389, \"valid_loss\": \"0.999\", \"valid_ntokens\": \"3039.79\", \"valid_nsentences\": \"144.214\", \"valid_lm_score_sum\": \"-89428.7\", \"valid_num_pred_chars\": \"48331\", \"valid_vocab_seen_pct\": \"0.890244\", \"valid_uer\": \"99.906\", \"valid_weighted_lm_ppl\": \"75.357\", \"valid_lm_ppl\": \"59.723\", \"valid_wps\": \"18814\", \"valid_wpb\": \"3039.8\", \"valid_bsz\": \"144.2\", \"valid_num_updates\": \"86224\", \"valid_best_weighted_lm_ppl\": \"73.0296\"}\r\n",
      "[2021-06-09 15:44:23,398][fairseq.checkpoint_utils][INFO] - Preparing to save checkpoint for epoch 5389 @ 86224 updates\r\n",
      "[2021-06-09 15:44:23,399][fairseq.trainer][INFO] - Saving checkpoint to /kaggle/working/checkpoint_last.pt\r\n"
     ]
    },
    {
     "name": "stdout",
     "output_type": "stream",
     "text": [
      "[2021-06-09 15:44:23,444][fairseq.trainer][INFO] - Finished saving checkpoint to /kaggle/working/checkpoint_last.pt\r\n",
      "[2021-06-09 15:44:23,444][fairseq.checkpoint_utils][INFO] - Saved checkpoint /kaggle/working/checkpoint_last.pt (epoch 5389 @ 86224 updates, score 75.35703182288017) (writing took 0.04616246499972476 seconds)\r\n",
      "[2021-06-09 15:44:23,444][fairseq_cli.train][INFO] - end of epoch 5389 (average epoch stats below)\r\n",
      "[2021-06-09 15:44:23,447][train][INFO] - {\"epoch\": 5389, \"train_loss\": \"3.437\", \"train_ntokens\": \"145.688\", \"train_nsentences\": \"145.688\", \"train_temp\": \"0.1\", \"train_code_ppl\": \"8.534\", \"train_loss_code_pen\": \"0.329\", \"train_loss_smoothness\": \"2.061\", \"train_loss_dense_g\": \"4.132\", \"train_lm_score_sum\": 0.0, \"train_num_pred_chars\": 0.0, \"train_loss_grad_pen\": \"0.066\", \"train_loss_dense_d\": \"0.026\", \"train_loss_token_d\": \"0.027\", \"train_wps\": \"9.5\", \"train_ups\": \"0.07\", \"train_wpb\": \"145.7\", \"train_bsz\": \"145.7\", \"train_num_updates\": \"86224\", \"train_lr_discriminator\": \"0.0005\", \"train_lr_generator\": \"0.0004\", \"train_gnorm\": \"31.964\", \"train_clip\": \"81.2\", \"train_train_wall\": \"242\", \"train_wall\": \"13450\"}\r\n"
     ]
    },
    {
     "name": "stdout",
     "output_type": "stream",
     "text": [
      "[2021-06-09 15:44:23,509][fairseq.trainer][INFO] - begin training epoch 5390\r\n",
      "[2021-06-09 15:44:23,510][fairseq_cli.train][INFO] - Start iterating over samples\r\n"
     ]
    },
    {
     "name": "stdout",
     "output_type": "stream",
     "text": [
      "[2021-06-09 15:48:44,706][fairseq_cli.train][INFO] - begin validation on \"valid\" subset\r\n"
     ]
    },
    {
     "name": "stdout",
     "output_type": "stream",
     "text": [
      "[2021-06-09 15:48:47,169][fairseq.tasks.unpaired_audio_text][INFO] - REF: ɛ n f œ ʂ ə n a d ɵ ʂ ə k t f øː r d eː t s ɔ m h ɛ n d ə p oː ɕ œ r k ɔ n s ɛ t ə n\r\n",
      "[2021-06-09 15:48:47,171][fairseq.tasks.unpaired_audio_text][INFO] - HYP: n ɪ n s j œ r œ j ɕ j uː œ yː k ə ɡ f œ v j uː ə h ɔ k b ə uː s eː r n v oː s ɪ ŋ k ɪ l s uː t n t a\r\n",
      "[2021-06-09 15:48:47,175][fairseq.tasks.unpaired_audio_text][INFO] - LM [REF]: -53.44462585449219, 0.05339602260269112\r\n",
      "[2021-06-09 15:48:47,176][fairseq.tasks.unpaired_audio_text][INFO] - LM [HYP]: -87.31497955322266, 0.0151683354984469\r\n"
     ]
    },
    {
     "name": "stdout",
     "output_type": "stream",
     "text": [
      "[2021-06-09 15:48:47,676][valid][INFO] - {\"epoch\": 5390, \"valid_loss\": \"1\", \"valid_ntokens\": \"3039.79\", \"valid_nsentences\": \"144.214\", \"valid_lm_score_sum\": \"-89465.1\", \"valid_num_pred_chars\": \"48377\", \"valid_vocab_seen_pct\": \"0.885017\", \"valid_uer\": \"99.9906\", \"valid_weighted_lm_ppl\": \"76.0918\", \"valid_lm_ppl\": \"59.5993\", \"valid_wps\": \"18371.9\", \"valid_wpb\": \"3039.8\", \"valid_bsz\": \"144.2\", \"valid_num_updates\": \"86240\", \"valid_best_weighted_lm_ppl\": \"73.0296\"}\r\n",
      "[2021-06-09 15:48:47,679][fairseq.checkpoint_utils][INFO] - Preparing to save checkpoint for epoch 5390 @ 86240 updates\r\n",
      "[2021-06-09 15:48:47,680][fairseq.trainer][INFO] - Saving checkpoint to /kaggle/working/checkpoint_last.pt\r\n"
     ]
    },
    {
     "name": "stdout",
     "output_type": "stream",
     "text": [
      "[2021-06-09 15:48:47,726][fairseq.trainer][INFO] - Finished saving checkpoint to /kaggle/working/checkpoint_last.pt\r\n",
      "[2021-06-09 15:48:47,726][fairseq.checkpoint_utils][INFO] - Saved checkpoint /kaggle/working/checkpoint_last.pt (epoch 5390 @ 86240 updates, score 76.09176640221003) (writing took 0.04754762799893797 seconds)\r\n",
      "[2021-06-09 15:48:47,727][fairseq_cli.train][INFO] - end of epoch 5390 (average epoch stats below)\r\n",
      "[2021-06-09 15:48:47,730][train][INFO] - {\"epoch\": 5390, \"train_loss\": \"3.029\", \"train_ntokens\": \"145.688\", \"train_nsentences\": \"145.688\", \"train_temp\": \"0.1\", \"train_code_ppl\": \"8.518\", \"train_loss_code_pen\": \"0.328\", \"train_loss_smoothness\": \"2.052\", \"train_loss_dense_g\": \"4.194\", \"train_lm_score_sum\": 0.0, \"train_num_pred_chars\": 0.0, \"train_loss_grad_pen\": \"0.072\", \"train_loss_dense_d\": \"0.023\", \"train_loss_token_d\": \"0.023\", \"train_wps\": \"8.8\", \"train_ups\": \"0.06\", \"train_wpb\": \"145.7\", \"train_bsz\": \"145.7\", \"train_num_updates\": \"86240\", \"train_lr_discriminator\": \"0.0005\", \"train_lr_generator\": \"0.0004\", \"train_gnorm\": \"30.6\", \"train_clip\": \"68.8\", \"train_train_wall\": \"261\", \"train_wall\": \"13714\"}\r\n"
     ]
    },
    {
     "name": "stdout",
     "output_type": "stream",
     "text": [
      "[2021-06-09 15:48:47,785][fairseq.trainer][INFO] - begin training epoch 5391\r\n",
      "[2021-06-09 15:48:47,786][fairseq_cli.train][INFO] - Start iterating over samples\r\n"
     ]
    },
    {
     "name": "stdout",
     "output_type": "stream",
     "text": [
      "[2021-06-09 15:52:48,043][fairseq_cli.train][INFO] - begin validation on \"valid\" subset\r\n"
     ]
    },
    {
     "name": "stdout",
     "output_type": "stream",
     "text": [
      "[2021-06-09 15:52:50,659][fairseq.tasks.unpaired_audio_text][INFO] - REF: ɛ n f œ ʂ ə n a d ɵ ʂ ə k t f øː r d eː t s ɔ m h ɛ n d ə p oː ɕ œ r k ɔ n s ɛ t ə n\r\n",
      "[2021-06-09 15:52:50,662][fairseq.tasks.unpaired_audio_text][INFO] - HYP: n ɪ n s j œ r œ j ɕ j uː œ yː k ə ɡ f œ v j m ə h œ k b ə uː s eː r n v oː s ɪ ŋ k ɪ l s uː t a n t a\r\n",
      "[2021-06-09 15:52:50,666][fairseq.tasks.unpaired_audio_text][INFO] - LM [REF]: -53.44462585449219, 0.05339602260269112\r\n",
      "[2021-06-09 15:52:50,667][fairseq.tasks.unpaired_audio_text][INFO] - LM [HYP]: -88.5855712890625, 0.015564357520168383\r\n"
     ]
    },
    {
     "name": "stdout",
     "output_type": "stream",
     "text": [
      "[2021-06-09 15:52:51,204][valid][INFO] - {\"epoch\": 5391, \"valid_loss\": \"1.002\", \"valid_ntokens\": \"3039.79\", \"valid_nsentences\": \"144.214\", \"valid_lm_score_sum\": \"-89759.1\", \"valid_num_pred_chars\": \"48523\", \"valid_vocab_seen_pct\": \"0.893728\", \"valid_uer\": \"100.221\", \"valid_weighted_lm_ppl\": \"74.7343\", \"valid_lm_ppl\": \"59.694\", \"valid_wps\": \"17441\", \"valid_wpb\": \"3039.8\", \"valid_bsz\": \"144.2\", \"valid_num_updates\": \"86256\", \"valid_best_weighted_lm_ppl\": \"73.0296\"}\r\n"
     ]
    },
    {
     "name": "stdout",
     "output_type": "stream",
     "text": [
      "[2021-06-09 15:52:51,208][fairseq.checkpoint_utils][INFO] - Preparing to save checkpoint for epoch 5391 @ 86256 updates\r\n",
      "[2021-06-09 15:52:51,209][fairseq.trainer][INFO] - Saving checkpoint to /kaggle/working/checkpoint_last.pt\r\n",
      "[2021-06-09 15:52:51,255][fairseq.trainer][INFO] - Finished saving checkpoint to /kaggle/working/checkpoint_last.pt\r\n",
      "[2021-06-09 15:52:51,255][fairseq.checkpoint_utils][INFO] - Saved checkpoint /kaggle/working/checkpoint_last.pt (epoch 5391 @ 86256 updates, score 74.7343110830368) (writing took 0.047776524001164944 seconds)\r\n"
     ]
    },
    {
     "name": "stdout",
     "output_type": "stream",
     "text": [
      "[2021-06-09 15:52:51,256][fairseq_cli.train][INFO] - end of epoch 5391 (average epoch stats below)\r\n",
      "[2021-06-09 15:52:51,259][train][INFO] - {\"epoch\": 5391, \"train_loss\": \"3.71\", \"train_ntokens\": \"145.688\", \"train_nsentences\": \"145.688\", \"train_temp\": \"0.1\", \"train_code_ppl\": \"8.625\", \"train_loss_code_pen\": \"0.317\", \"train_loss_smoothness\": \"2.055\", \"train_loss_dense_g\": \"4.555\", \"train_lm_score_sum\": 0.0, \"train_num_pred_chars\": 0.0, \"train_loss_grad_pen\": \"0.18\", \"train_loss_dense_d\": \"0.022\", \"train_loss_token_d\": \"0.046\", \"train_wps\": \"9.6\", \"train_ups\": \"0.07\", \"train_wpb\": \"145.7\", \"train_bsz\": \"145.7\", \"train_num_updates\": \"86256\", \"train_lr_discriminator\": \"0.0005\", \"train_lr_generator\": \"0.0004\", \"train_gnorm\": \"38.999\", \"train_clip\": \"75\", \"train_train_wall\": \"240\", \"train_wall\": \"13958\"}\r\n"
     ]
    },
    {
     "name": "stdout",
     "output_type": "stream",
     "text": [
      "[2021-06-09 15:52:51,319][fairseq.trainer][INFO] - begin training epoch 5392\r\n",
      "[2021-06-09 15:52:51,320][fairseq_cli.train][INFO] - Start iterating over samples\r\n"
     ]
    },
    {
     "name": "stdout",
     "output_type": "stream",
     "text": [
      "[2021-06-09 15:57:16,158][fairseq_cli.train][INFO] - begin validation on \"valid\" subset\r\n"
     ]
    },
    {
     "name": "stdout",
     "output_type": "stream",
     "text": [
      "[2021-06-09 15:57:18,548][fairseq.tasks.unpaired_audio_text][INFO] - REF: ɛ n f œ ʂ ə n a d ɵ ʂ ə k t f øː r d eː t s ɔ m h ɛ n d ə p oː ɕ œ r k ɔ n s ɛ t ə n\r\n",
      "[2021-06-09 15:57:18,551][fairseq.tasks.unpaired_audio_text][INFO] - HYP: n ɪ n s j œ r œ j oː j uː œ yː k ə ɡ f œ v j m ə h œ k b ə uː s eː r n v oː s ɪ ŋ k ɪ l s uː t a n t a\r\n"
     ]
    },
    {
     "name": "stdout",
     "output_type": "stream",
     "text": [
      "[2021-06-09 15:57:18,556][fairseq.tasks.unpaired_audio_text][INFO] - LM [REF]: -53.44462585449219, 0.05339602260269112\r\n",
      "[2021-06-09 15:57:18,556][fairseq.tasks.unpaired_audio_text][INFO] - LM [HYP]: -87.936767578125, 0.01604619590956404\r\n"
     ]
    },
    {
     "name": "stdout",
     "output_type": "stream",
     "text": [
      "[2021-06-09 15:57:19,058][valid][INFO] - {\"epoch\": 5392, \"valid_loss\": \"1.001\", \"valid_ntokens\": \"3039.79\", \"valid_nsentences\": \"144.214\", \"valid_lm_score_sum\": \"-89789.4\", \"valid_num_pred_chars\": \"48442\", \"valid_vocab_seen_pct\": \"0.891986\", \"valid_uer\": \"100.122\", \"valid_weighted_lm_ppl\": \"75.625\", \"valid_lm_ppl\": \"60.1702\", \"valid_wps\": \"18700.1\", \"valid_wpb\": \"3039.8\", \"valid_bsz\": \"144.2\", \"valid_num_updates\": \"86272\", \"valid_best_weighted_lm_ppl\": \"73.0296\"}\r\n",
      "[2021-06-09 15:57:19,061][fairseq.checkpoint_utils][INFO] - Preparing to save checkpoint for epoch 5392 @ 86272 updates\r\n",
      "[2021-06-09 15:57:19,062][fairseq.trainer][INFO] - Saving checkpoint to /kaggle/working/checkpoint_last.pt\r\n"
     ]
    },
    {
     "name": "stdout",
     "output_type": "stream",
     "text": [
      "[2021-06-09 15:57:19,109][fairseq.trainer][INFO] - Finished saving checkpoint to /kaggle/working/checkpoint_last.pt\r\n",
      "[2021-06-09 15:57:19,109][fairseq.checkpoint_utils][INFO] - Saved checkpoint /kaggle/working/checkpoint_last.pt (epoch 5392 @ 86272 updates, score 75.6250275407081) (writing took 0.04828719299985096 seconds)\r\n",
      "[2021-06-09 15:57:19,110][fairseq_cli.train][INFO] - end of epoch 5392 (average epoch stats below)\r\n",
      "[2021-06-09 15:57:19,113][train][INFO] - {\"epoch\": 5392, \"train_loss\": \"2.993\", \"train_ntokens\": \"145.688\", \"train_nsentences\": \"145.688\", \"train_temp\": \"0.1\", \"train_code_ppl\": \"8.772\", \"train_loss_code_pen\": \"0.33\", \"train_loss_smoothness\": \"2.089\", \"train_loss_dense_g\": \"4.087\", \"train_lm_score_sum\": 0.0, \"train_num_pred_chars\": 0.0, \"train_loss_grad_pen\": \"0.053\", \"train_loss_dense_d\": \"0.03\", \"train_loss_token_d\": \"0.026\", \"train_wps\": \"8.7\", \"train_ups\": \"0.06\", \"train_wpb\": \"145.7\", \"train_bsz\": \"145.7\", \"train_num_updates\": \"86272\", \"train_lr_discriminator\": \"0.0005\", \"train_lr_generator\": \"0.0004\", \"train_gnorm\": \"29.21\", \"train_clip\": \"56.2\", \"train_train_wall\": \"264\", \"train_wall\": \"14225\"}\r\n"
     ]
    },
    {
     "name": "stdout",
     "output_type": "stream",
     "text": [
      "[2021-06-09 15:57:19,170][fairseq.trainer][INFO] - begin training epoch 5393\r\n",
      "[2021-06-09 15:57:19,171][fairseq_cli.train][INFO] - Start iterating over samples\r\n"
     ]
    },
    {
     "name": "stdout",
     "output_type": "stream",
     "text": [
      "[2021-06-09 16:01:06,006][fairseq_cli.train][INFO] - begin validation on \"valid\" subset\r\n"
     ]
    },
    {
     "name": "stdout",
     "output_type": "stream",
     "text": [
      "[2021-06-09 16:01:08,408][fairseq.tasks.unpaired_audio_text][INFO] - REF: ɛ n f œ ʂ ə n a d ɵ ʂ ə k t f øː r d eː t s ɔ m h ɛ n d ə p oː ɕ œ r k ɔ n s ɛ t ə n\r\n",
      "[2021-06-09 16:01:08,410][fairseq.tasks.unpaired_audio_text][INFO] - HYP: n ɪ n s j œ r œ j uː œ yː k ə ɡ f œ v j m ə h œ k b ə uː s eː r n v oː s ɪ ŋ k ɪ l s uː t a n t a\r\n",
      "[2021-06-09 16:01:08,414][fairseq.tasks.unpaired_audio_text][INFO] - LM [REF]: -53.44462585449219, 0.05339602260269112\r\n",
      "[2021-06-09 16:01:08,415][fairseq.tasks.unpaired_audio_text][INFO] - LM [HYP]: -83.92373657226562, 0.016382817130527375\r\n"
     ]
    },
    {
     "name": "stdout",
     "output_type": "stream",
     "text": [
      "[2021-06-09 16:01:08,926][valid][INFO] - {\"epoch\": 5393, \"valid_loss\": \"1\", \"valid_ntokens\": \"3039.79\", \"valid_nsentences\": \"144.214\", \"valid_lm_score_sum\": \"-89563\", \"valid_num_pred_chars\": \"48379\", \"valid_vocab_seen_pct\": \"0.893728\", \"valid_uer\": \"99.9695\", \"valid_weighted_lm_ppl\": \"74.9382\", \"valid_lm_ppl\": \"59.8569\", \"valid_wps\": \"18722.5\", \"valid_wpb\": \"3039.8\", \"valid_bsz\": \"144.2\", \"valid_num_updates\": \"86288\", \"valid_best_weighted_lm_ppl\": \"73.0296\"}\r\n",
      "[2021-06-09 16:01:08,929][fairseq.checkpoint_utils][INFO] - Preparing to save checkpoint for epoch 5393 @ 86288 updates\r\n",
      "[2021-06-09 16:01:08,930][fairseq.trainer][INFO] - Saving checkpoint to /kaggle/working/checkpoint_last.pt\r\n"
     ]
    },
    {
     "name": "stdout",
     "output_type": "stream",
     "text": [
      "[2021-06-09 16:01:08,980][fairseq.trainer][INFO] - Finished saving checkpoint to /kaggle/working/checkpoint_last.pt\r\n",
      "[2021-06-09 16:01:08,980][fairseq.checkpoint_utils][INFO] - Saved checkpoint /kaggle/working/checkpoint_last.pt (epoch 5393 @ 86288 updates, score 74.93815191052553) (writing took 0.051029546000791015 seconds)\r\n",
      "[2021-06-09 16:01:08,981][fairseq_cli.train][INFO] - end of epoch 5393 (average epoch stats below)\r\n",
      "[2021-06-09 16:01:08,984][train][INFO] - {\"epoch\": 5393, \"train_loss\": \"3.772\", \"train_ntokens\": \"145.688\", \"train_nsentences\": \"145.688\", \"train_temp\": \"0.1\", \"train_code_ppl\": \"8.65\", \"train_loss_code_pen\": \"0.328\", \"train_loss_smoothness\": \"2.078\", \"train_loss_dense_g\": \"4.322\", \"train_lm_score_sum\": 0.0, \"train_num_pred_chars\": 0.0, \"train_loss_grad_pen\": \"0.118\", \"train_loss_dense_d\": \"0.024\", \"train_loss_token_d\": \"0.028\", \"train_wps\": \"10.1\", \"train_ups\": \"0.07\", \"train_wpb\": \"145.7\", \"train_bsz\": \"145.7\", \"train_num_updates\": \"86288\", \"train_lr_discriminator\": \"0.0005\", \"train_lr_generator\": \"0.0004\", \"train_gnorm\": \"32.874\", \"train_clip\": \"81.2\", \"train_train_wall\": \"226\", \"train_wall\": \"14455\"}\r\n"
     ]
    },
    {
     "name": "stdout",
     "output_type": "stream",
     "text": [
      "[2021-06-09 16:01:09,037][fairseq.trainer][INFO] - begin training epoch 5394\r\n",
      "[2021-06-09 16:01:09,038][fairseq_cli.train][INFO] - Start iterating over samples\r\n"
     ]
    },
    {
     "name": "stdout",
     "output_type": "stream",
     "text": [
      "[2021-06-09 16:03:49,664][train_inner][INFO] - {\"epoch\": 5394, \"update\": 5393.75, \"loss\": \"3.486\", \"ntokens\": \"143.97\", \"nsentences\": \"143.97\", \"temp\": \"0.1\", \"code_ppl\": \"8.639\", \"loss_code_pen\": \"0.325\", \"loss_smoothness\": \"2.066\", \"loss_dense_g\": \"4.363\", \"lm_score_sum\": 0.0, \"num_pred_chars\": 0.0, \"loss_grad_pen\": \"0.108\", \"loss_dense_d\": \"0.025\", \"loss_token_d\": \"0.046\", \"wps\": \"9.4\", \"ups\": \"0.07\", \"wpb\": \"144\", \"bsz\": \"144\", \"num_updates\": \"86300\", \"lr_discriminator\": \"0.0005\", \"lr_generator\": \"0.0004\", \"gnorm\": \"34.076\", \"clip\": \"75\", \"train_wall\": \"1512\", \"wall\": \"14616\"}\r\n"
     ]
    },
    {
     "name": "stdout",
     "output_type": "stream",
     "text": [
      "[2021-06-09 16:04:58,738][fairseq_cli.train][INFO] - begin validation on \"valid\" subset\r\n"
     ]
    },
    {
     "name": "stdout",
     "output_type": "stream",
     "text": [
      "[2021-06-09 16:05:01,326][fairseq.tasks.unpaired_audio_text][INFO] - REF: ɛ n f œ ʂ ə n a d ɵ ʂ ə k t f øː r d eː t s ɔ m h ɛ n d ə p oː ɕ œ r k ɔ n s ɛ t ə n\r\n",
      "[2021-06-09 16:05:01,328][fairseq.tasks.unpaired_audio_text][INFO] - HYP: n ɪ n s j œ r œ j j uː œ yː ə k ə ɡ f œ v j m ə h ɔ k b ə uː s eː r n v oː s ɪ ŋ k ɪ l s uː t a n t a\r\n",
      "[2021-06-09 16:05:01,332][fairseq.tasks.unpaired_audio_text][INFO] - LM [REF]: -53.44462585449219, 0.05339602260269112\r\n",
      "[2021-06-09 16:05:01,333][fairseq.tasks.unpaired_audio_text][INFO] - LM [HYP]: -86.78367614746094, 0.016939655286879327\r\n"
     ]
    },
    {
     "name": "stdout",
     "output_type": "stream",
     "text": [
      "[2021-06-09 16:05:01,837][valid][INFO] - {\"epoch\": 5394, \"valid_loss\": \"1.002\", \"valid_ntokens\": \"3039.79\", \"valid_nsentences\": \"144.214\", \"valid_lm_score_sum\": \"-89868.9\", \"valid_num_pred_chars\": \"48526\", \"valid_vocab_seen_pct\": \"0.891986\", \"valid_uer\": \"100.19\", \"valid_weighted_lm_ppl\": \"75.3843\", \"valid_lm_ppl\": \"59.9787\", \"valid_wps\": \"18814.1\", \"valid_wpb\": \"3039.8\", \"valid_bsz\": \"144.2\", \"valid_num_updates\": \"86304\", \"valid_best_weighted_lm_ppl\": \"73.0296\"}\r\n",
      "[2021-06-09 16:05:01,840][fairseq.checkpoint_utils][INFO] - Preparing to save checkpoint for epoch 5394 @ 86304 updates\r\n",
      "[2021-06-09 16:05:01,841][fairseq.trainer][INFO] - Saving checkpoint to /kaggle/working/checkpoint_last.pt\r\n"
     ]
    },
    {
     "name": "stdout",
     "output_type": "stream",
     "text": [
      "[2021-06-09 16:05:01,886][fairseq.trainer][INFO] - Finished saving checkpoint to /kaggle/working/checkpoint_last.pt\r\n",
      "[2021-06-09 16:05:01,887][fairseq.checkpoint_utils][INFO] - Saved checkpoint /kaggle/working/checkpoint_last.pt (epoch 5394 @ 86304 updates, score 75.38428417399861) (writing took 0.04692900000009104 seconds)\r\n",
      "[2021-06-09 16:05:01,887][fairseq_cli.train][INFO] - end of epoch 5394 (average epoch stats below)\r\n",
      "[2021-06-09 16:05:01,890][train][INFO] - {\"epoch\": 5394, \"train_loss\": \"4.023\", \"train_ntokens\": \"145.688\", \"train_nsentences\": \"145.688\", \"train_temp\": \"0.1\", \"train_code_ppl\": \"8.672\", \"train_loss_code_pen\": \"0.337\", \"train_loss_smoothness\": \"2.113\", \"train_loss_dense_g\": \"4.57\", \"train_lm_score_sum\": 0.0, \"train_num_pred_chars\": 0.0, \"train_loss_grad_pen\": \"0.193\", \"train_loss_dense_d\": \"0.038\", \"train_loss_token_d\": \"0.141\", \"train_wps\": \"10\", \"train_ups\": \"0.07\", \"train_wpb\": \"145.7\", \"train_bsz\": \"145.7\", \"train_num_updates\": \"86304\", \"train_lr_discriminator\": \"0.0005\", \"train_lr_generator\": \"0.0004\", \"train_gnorm\": \"40.912\", \"train_clip\": \"93.8\", \"train_train_wall\": \"229\", \"train_wall\": \"14688\"}\r\n"
     ]
    },
    {
     "name": "stdout",
     "output_type": "stream",
     "text": [
      "[2021-06-09 16:05:01,947][fairseq.trainer][INFO] - begin training epoch 5395\r\n",
      "[2021-06-09 16:05:01,949][fairseq_cli.train][INFO] - Start iterating over samples\r\n"
     ]
    },
    {
     "name": "stdout",
     "output_type": "stream",
     "text": [
      "[2021-06-09 16:08:52,105][fairseq_cli.train][INFO] - begin validation on \"valid\" subset\r\n"
     ]
    },
    {
     "name": "stdout",
     "output_type": "stream",
     "text": [
      "[2021-06-09 16:08:54,522][fairseq.tasks.unpaired_audio_text][INFO] - REF: ɛ n f œ ʂ ə n a d ɵ ʂ ə k t f øː r d eː t s ɔ m h ɛ n d ə p oː ɕ œ r k ɔ n s ɛ t ə n\r\n",
      "[2021-06-09 16:08:54,524][fairseq.tasks.unpaired_audio_text][INFO] - HYP: t ɪ s j œ r œ yː j uː œ yː k ə ɡ f œ v j ə h ɔ k b ə uː s eː r n v oː s ɪ ŋ k ɪ l s œ uː t a n t a\r\n"
     ]
    },
    {
     "name": "stdout",
     "output_type": "stream",
     "text": [
      "[2021-06-09 16:08:54,528][fairseq.tasks.unpaired_audio_text][INFO] - LM [REF]: -53.44462585449219, 0.05339602260269112\r\n",
      "[2021-06-09 16:08:54,529][fairseq.tasks.unpaired_audio_text][INFO] - LM [HYP]: -83.66864776611328, 0.01658883948799923\r\n"
     ]
    },
    {
     "name": "stdout",
     "output_type": "stream",
     "text": [
      "[2021-06-09 16:08:55,037][valid][INFO] - {\"epoch\": 5395, \"valid_loss\": \"0.999\", \"valid_ntokens\": \"3039.79\", \"valid_nsentences\": \"144.214\", \"valid_lm_score_sum\": \"-89401.6\", \"valid_num_pred_chars\": \"48293\", \"valid_vocab_seen_pct\": \"0.891986\", \"valid_uer\": \"99.9131\", \"valid_weighted_lm_ppl\": \"75.2016\", \"valid_lm_ppl\": \"59.8333\", \"valid_wps\": \"18391.7\", \"valid_wpb\": \"3039.8\", \"valid_bsz\": \"144.2\", \"valid_num_updates\": \"86320\", \"valid_best_weighted_lm_ppl\": \"73.0296\"}\r\n"
     ]
    },
    {
     "name": "stdout",
     "output_type": "stream",
     "text": [
      "[2021-06-09 16:08:55,040][fairseq.checkpoint_utils][INFO] - Preparing to save checkpoint for epoch 5395 @ 86320 updates\r\n",
      "[2021-06-09 16:08:55,042][fairseq.trainer][INFO] - Saving checkpoint to /kaggle/working/checkpoint_last.pt\r\n",
      "[2021-06-09 16:08:55,087][fairseq.trainer][INFO] - Finished saving checkpoint to /kaggle/working/checkpoint_last.pt\r\n",
      "[2021-06-09 16:08:55,087][fairseq.checkpoint_utils][INFO] - Saved checkpoint /kaggle/working/checkpoint_last.pt (epoch 5395 @ 86320 updates, score 75.20160149247748) (writing took 0.04686989900073968 seconds)\r\n",
      "[2021-06-09 16:08:55,088][fairseq_cli.train][INFO] - end of epoch 5395 (average epoch stats below)\r\n"
     ]
    },
    {
     "name": "stdout",
     "output_type": "stream",
     "text": [
      "[2021-06-09 16:08:55,091][train][INFO] - {\"epoch\": 5395, \"train_loss\": \"3.795\", \"train_ntokens\": \"145.688\", \"train_nsentences\": \"145.688\", \"train_temp\": \"0.1\", \"train_code_ppl\": \"8.574\", \"train_loss_code_pen\": \"0.327\", \"train_loss_smoothness\": \"2.06\", \"train_loss_dense_g\": \"4.345\", \"train_lm_score_sum\": 0.0, \"train_num_pred_chars\": 0.0, \"train_loss_grad_pen\": \"0.131\", \"train_loss_dense_d\": \"0.03\", \"train_loss_token_d\": \"0.056\", \"train_wps\": \"10\", \"train_ups\": \"0.07\", \"train_wpb\": \"145.7\", \"train_bsz\": \"145.7\", \"train_num_updates\": \"86320\", \"train_lr_discriminator\": \"0.0005\", \"train_lr_generator\": \"0.0004\", \"train_gnorm\": \"38.118\", \"train_clip\": \"75\", \"train_train_wall\": \"230\", \"train_wall\": \"14921\"}\r\n"
     ]
    },
    {
     "name": "stdout",
     "output_type": "stream",
     "text": [
      "[2021-06-09 16:08:55,149][fairseq.trainer][INFO] - begin training epoch 5396\r\n",
      "[2021-06-09 16:08:55,151][fairseq_cli.train][INFO] - Start iterating over samples\r\n"
     ]
    },
    {
     "name": "stdout",
     "output_type": "stream",
     "text": [
      "[2021-06-09 16:13:20,979][fairseq_cli.train][INFO] - begin validation on \"valid\" subset\r\n"
     ]
    },
    {
     "name": "stdout",
     "output_type": "stream",
     "text": [
      "[2021-06-09 16:13:23,408][fairseq.tasks.unpaired_audio_text][INFO] - REF: ɛ n f œ ʂ ə n a d ɵ ʂ ə k t f øː r d eː t s ɔ m h ɛ n d ə p oː ɕ œ r k ɔ n s ɛ t ə n\r\n",
      "[2021-06-09 16:13:23,410][fairseq.tasks.unpaired_audio_text][INFO] - HYP: n ɪ s j œ r œ j j uː œ yː k ə ɡ f œ v j ə h ɔ k b ə uː s eː r n v oː s ɪ ŋ k ɪ l s uː t a n t a\r\n",
      "[2021-06-09 16:13:23,414][fairseq.tasks.unpaired_audio_text][INFO] - LM [REF]: -53.44462585449219, 0.05339602260269112\r\n",
      "[2021-06-09 16:13:23,415][fairseq.tasks.unpaired_audio_text][INFO] - LM [HYP]: -80.61083984375, 0.01768440442266731\r\n"
     ]
    },
    {
     "name": "stdout",
     "output_type": "stream",
     "text": [
      "[2021-06-09 16:13:23,917][valid][INFO] - {\"epoch\": 5396, \"valid_loss\": \"0.998\", \"valid_ntokens\": \"3039.79\", \"valid_nsentences\": \"144.214\", \"valid_lm_score_sum\": \"-89516.7\", \"valid_num_pred_chars\": \"48341\", \"valid_vocab_seen_pct\": \"0.893728\", \"valid_uer\": \"99.8144\", \"valid_weighted_lm_ppl\": \"75.0111\", \"valid_lm_ppl\": \"59.9151\", \"valid_wps\": \"18527.4\", \"valid_wpb\": \"3039.8\", \"valid_bsz\": \"144.2\", \"valid_num_updates\": \"86336\", \"valid_best_weighted_lm_ppl\": \"73.0296\"}\r\n",
      "[2021-06-09 16:13:23,920][fairseq.checkpoint_utils][INFO] - Preparing to save checkpoint for epoch 5396 @ 86336 updates\r\n",
      "[2021-06-09 16:13:23,921][fairseq.trainer][INFO] - Saving checkpoint to /kaggle/working/checkpoint_last.pt\r\n"
     ]
    },
    {
     "name": "stdout",
     "output_type": "stream",
     "text": [
      "[2021-06-09 16:13:23,967][fairseq.trainer][INFO] - Finished saving checkpoint to /kaggle/working/checkpoint_last.pt\r\n",
      "[2021-06-09 16:13:23,967][fairseq.checkpoint_utils][INFO] - Saved checkpoint /kaggle/working/checkpoint_last.pt (epoch 5396 @ 86336 updates, score 75.01105376018184) (writing took 0.04749172200172325 seconds)\r\n",
      "[2021-06-09 16:13:23,968][fairseq_cli.train][INFO] - end of epoch 5396 (average epoch stats below)\r\n",
      "[2021-06-09 16:13:23,971][train][INFO] - {\"epoch\": 5396, \"train_loss\": \"2.881\", \"train_ntokens\": \"145.688\", \"train_nsentences\": \"145.688\", \"train_temp\": \"0.1\", \"train_code_ppl\": \"8.631\", \"train_loss_code_pen\": \"0.337\", \"train_loss_smoothness\": \"2.057\", \"train_loss_dense_g\": \"3.864\", \"train_lm_score_sum\": 0.0, \"train_num_pred_chars\": 0.0, \"train_loss_grad_pen\": \"0.053\", \"train_loss_dense_d\": \"0.028\", \"train_loss_token_d\": \"0.027\", \"train_wps\": \"8.7\", \"train_ups\": \"0.06\", \"train_wpb\": \"145.7\", \"train_bsz\": \"145.7\", \"train_num_updates\": \"86336\", \"train_lr_discriminator\": \"0.0005\", \"train_lr_generator\": \"0.0004\", \"train_gnorm\": \"28.997\", \"train_clip\": \"62.5\", \"train_train_wall\": \"265\", \"train_wall\": \"15190\"}\r\n"
     ]
    },
    {
     "name": "stdout",
     "output_type": "stream",
     "text": [
      "[2021-06-09 16:13:24,028][fairseq.trainer][INFO] - begin training epoch 5397\r\n",
      "[2021-06-09 16:13:24,029][fairseq_cli.train][INFO] - Start iterating over samples\r\n"
     ]
    },
    {
     "name": "stdout",
     "output_type": "stream",
     "text": [
      "[2021-06-09 16:17:17,632][fairseq_cli.train][INFO] - begin validation on \"valid\" subset\r\n"
     ]
    },
    {
     "name": "stdout",
     "output_type": "stream",
     "text": [
      "[2021-06-09 16:17:20,116][fairseq.tasks.unpaired_audio_text][INFO] - REF: ɛ n f œ ʂ ə n a d ɵ ʂ ə k t f øː r d eː t s ɔ m h ɛ n d ə p oː ɕ œ r k ɔ n s ɛ t ə n\r\n",
      "[2021-06-09 16:17:20,118][fairseq.tasks.unpaired_audio_text][INFO] - HYP: t ɪ s j œ r œ j uː œ yː k ə ɡ f œ v j ə h ɔ k b ə uː s eː r n v oː s ɪ ŋ k ɪ l s uː t a n t a\r\n",
      "[2021-06-09 16:17:20,122][fairseq.tasks.unpaired_audio_text][INFO] - LM [REF]: -53.44462585449219, 0.05339602260269112\r\n",
      "[2021-06-09 16:17:20,122][fairseq.tasks.unpaired_audio_text][INFO] - LM [HYP]: -78.4227294921875, 0.018083091422033393\r\n"
     ]
    },
    {
     "name": "stdout",
     "output_type": "stream",
     "text": [
      "[2021-06-09 16:17:20,622][valid][INFO] - {\"epoch\": 5397, \"valid_loss\": \"1\", \"valid_ntokens\": \"3039.79\", \"valid_nsentences\": \"144.214\", \"valid_lm_score_sum\": \"-89452.3\", \"valid_num_pred_chars\": \"48356\", \"valid_vocab_seen_pct\": \"0.890244\", \"valid_uer\": \"99.993\", \"valid_weighted_lm_ppl\": \"75.2854\", \"valid_lm_ppl\": \"59.6662\", \"valid_wps\": \"18416.5\", \"valid_wpb\": \"3039.8\", \"valid_bsz\": \"144.2\", \"valid_num_updates\": \"86352\", \"valid_best_weighted_lm_ppl\": \"73.0296\"}\r\n",
      "[2021-06-09 16:17:20,625][fairseq.checkpoint_utils][INFO] - Preparing to save checkpoint for epoch 5397 @ 86352 updates\r\n",
      "[2021-06-09 16:17:20,627][fairseq.trainer][INFO] - Saving checkpoint to /kaggle/working/checkpoint_last.pt\r\n"
     ]
    },
    {
     "name": "stdout",
     "output_type": "stream",
     "text": [
      "[2021-06-09 16:17:20,674][fairseq.trainer][INFO] - Finished saving checkpoint to /kaggle/working/checkpoint_last.pt\r\n",
      "[2021-06-09 16:17:20,674][fairseq.checkpoint_utils][INFO] - Saved checkpoint /kaggle/working/checkpoint_last.pt (epoch 5397 @ 86352 updates, score 75.28539036480272) (writing took 0.04869772500023828 seconds)\r\n",
      "[2021-06-09 16:17:20,674][fairseq_cli.train][INFO] - end of epoch 5397 (average epoch stats below)\r\n",
      "[2021-06-09 16:17:20,677][train][INFO] - {\"epoch\": 5397, \"train_loss\": \"3.469\", \"train_ntokens\": \"145.688\", \"train_nsentences\": \"145.688\", \"train_temp\": \"0.1\", \"train_code_ppl\": \"8.327\", \"train_loss_code_pen\": \"0.31\", \"train_loss_smoothness\": \"1.997\", \"train_loss_dense_g\": \"3.895\", \"train_lm_score_sum\": 0.0, \"train_num_pred_chars\": 0.0, \"train_loss_grad_pen\": \"0.084\", \"train_loss_dense_d\": \"0.027\", \"train_loss_token_d\": \"0.028\", \"train_wps\": \"9.8\", \"train_ups\": \"0.07\", \"train_wpb\": \"145.7\", \"train_bsz\": \"145.7\", \"train_num_updates\": \"86352\", \"train_lr_discriminator\": \"0.0005\", \"train_lr_generator\": \"0.0004\", \"train_gnorm\": \"31.275\", \"train_clip\": \"81.2\", \"train_train_wall\": \"233\", \"train_wall\": \"15427\"}\r\n"
     ]
    },
    {
     "name": "stdout",
     "output_type": "stream",
     "text": [
      "[2021-06-09 16:17:20,737][fairseq.trainer][INFO] - begin training epoch 5398\r\n",
      "[2021-06-09 16:17:20,738][fairseq_cli.train][INFO] - Start iterating over samples\r\n"
     ]
    },
    {
     "name": "stdout",
     "output_type": "stream",
     "text": [
      "[2021-06-09 16:21:24,091][fairseq_cli.train][INFO] - begin validation on \"valid\" subset\r\n"
     ]
    },
    {
     "name": "stdout",
     "output_type": "stream",
     "text": [
      "[2021-06-09 16:21:26,553][fairseq.tasks.unpaired_audio_text][INFO] - REF: ɛ n f œ ʂ ə n a d ɵ ʂ ə k t f øː r d eː t s ɔ m h ɛ n d ə p oː ɕ œ r k ɔ n s ɛ t ə n\r\n",
      "[2021-06-09 16:21:26,555][fairseq.tasks.unpaired_audio_text][INFO] - HYP: n ɪ n s j œ r œ j uː œ yː k ə f œ v j ə h œ k b ə uː s eː r n v oː s ɪ ŋ k ɪ l s uː t a n t a\r\n",
      "[2021-06-09 16:21:26,559][fairseq.tasks.unpaired_audio_text][INFO] - LM [REF]: -53.44462585449219, 0.05339602260269112\r\n",
      "[2021-06-09 16:21:26,560][fairseq.tasks.unpaired_audio_text][INFO] - LM [HYP]: -79.14173889160156, 0.01742989180645013\r\n"
     ]
    },
    {
     "name": "stdout",
     "output_type": "stream",
     "text": [
      "[2021-06-09 16:21:27,067][valid][INFO] - {\"epoch\": 5398, \"valid_loss\": \"0.999\", \"valid_ntokens\": \"3039.79\", \"valid_nsentences\": \"144.214\", \"valid_lm_score_sum\": \"-89487.7\", \"valid_num_pred_chars\": \"48304\", \"valid_vocab_seen_pct\": \"0.88676\", \"valid_uer\": \"99.9084\", \"valid_weighted_lm_ppl\": \"76.323\", \"valid_lm_ppl\": \"60.016\", \"valid_wps\": \"18457.6\", \"valid_wpb\": \"3039.8\", \"valid_bsz\": \"144.2\", \"valid_num_updates\": \"86368\", \"valid_best_weighted_lm_ppl\": \"73.0296\"}\r\n",
      "[2021-06-09 16:21:27,070][fairseq.checkpoint_utils][INFO] - Preparing to save checkpoint for epoch 5398 @ 86368 updates\r\n",
      "[2021-06-09 16:21:27,072][fairseq.trainer][INFO] - Saving checkpoint to /kaggle/working/checkpoint_last.pt\r\n"
     ]
    },
    {
     "name": "stdout",
     "output_type": "stream",
     "text": [
      "[2021-06-09 16:21:27,117][fairseq.trainer][INFO] - Finished saving checkpoint to /kaggle/working/checkpoint_last.pt\r\n",
      "[2021-06-09 16:21:27,118][fairseq.checkpoint_utils][INFO] - Saved checkpoint /kaggle/working/checkpoint_last.pt (epoch 5398 @ 86368 updates, score 76.32301460890059) (writing took 0.04714868999872124 seconds)\r\n",
      "[2021-06-09 16:21:27,118][fairseq_cli.train][INFO] - end of epoch 5398 (average epoch stats below)\r\n",
      "[2021-06-09 16:21:27,121][train][INFO] - {\"epoch\": 5398, \"train_loss\": \"3.363\", \"train_ntokens\": \"145.688\", \"train_nsentences\": \"145.688\", \"train_temp\": \"0.1\", \"train_code_ppl\": \"8.599\", \"train_loss_code_pen\": \"0.334\", \"train_loss_smoothness\": \"2.038\", \"train_loss_dense_g\": \"3.981\", \"train_lm_score_sum\": 0.0, \"train_num_pred_chars\": 0.0, \"train_loss_grad_pen\": \"0.093\", \"train_loss_dense_d\": \"0.029\", \"train_loss_token_d\": \"0.026\", \"train_wps\": \"9.5\", \"train_ups\": \"0.06\", \"train_wpb\": \"145.7\", \"train_bsz\": \"145.7\", \"train_num_updates\": \"86368\", \"train_lr_discriminator\": \"0.0005\", \"train_lr_generator\": \"0.0004\", \"train_gnorm\": \"30.377\", \"train_clip\": \"75\", \"train_train_wall\": \"243\", \"train_wall\": \"15673\"}\r\n"
     ]
    },
    {
     "name": "stdout",
     "output_type": "stream",
     "text": [
      "[2021-06-09 16:21:27,177][fairseq.trainer][INFO] - begin training epoch 5399\r\n",
      "[2021-06-09 16:21:27,178][fairseq_cli.train][INFO] - Start iterating over samples\r\n"
     ]
    },
    {
     "name": "stdout",
     "output_type": "stream",
     "text": [
      "[2021-06-09 16:25:25,302][fairseq_cli.train][INFO] - begin validation on \"valid\" subset\r\n"
     ]
    },
    {
     "name": "stdout",
     "output_type": "stream",
     "text": [
      "[2021-06-09 16:25:27,784][fairseq.tasks.unpaired_audio_text][INFO] - REF: ɛ n f œ ʂ ə n a d ɵ ʂ ə k t f øː r d eː t s ɔ m h ɛ n d ə p oː ɕ œ r k ɔ n s ɛ t ə n\r\n",
      "[2021-06-09 16:25:27,786][fairseq.tasks.unpaired_audio_text][INFO] - HYP: n ɪ n s j œ r œ j uː œ yː ə k ə f œ v j m uː ə h ɔ k ə uː s eː r n v oː s ɪ ŋ k ɪ l s uː t a n t a\r\n",
      "[2021-06-09 16:25:27,790][fairseq.tasks.unpaired_audio_text][INFO] - LM [REF]: -53.44462585449219, 0.05339602260269112\r\n",
      "[2021-06-09 16:25:27,790][fairseq.tasks.unpaired_audio_text][INFO] - LM [HYP]: -83.42027282714844, 0.016791928569310013\r\n"
     ]
    },
    {
     "name": "stdout",
     "output_type": "stream",
     "text": [
      "[2021-06-09 16:25:28,287][valid][INFO] - {\"epoch\": 5399, \"valid_loss\": \"0.998\", \"valid_ntokens\": \"3039.79\", \"valid_nsentences\": \"144.214\", \"valid_lm_score_sum\": \"-89413\", \"valid_num_pred_chars\": \"48271\", \"valid_vocab_seen_pct\": \"0.88676\", \"valid_uer\": \"99.805\", \"valid_weighted_lm_ppl\": \"76.2669\", \"valid_lm_ppl\": \"59.9719\", \"valid_wps\": \"18118.4\", \"valid_wpb\": \"3039.8\", \"valid_bsz\": \"144.2\", \"valid_num_updates\": \"86384\", \"valid_best_weighted_lm_ppl\": \"73.0296\"}\r\n",
      "[2021-06-09 16:25:28,290][fairseq.checkpoint_utils][INFO] - Preparing to save checkpoint for epoch 5399 @ 86384 updates\r\n",
      "[2021-06-09 16:25:28,292][fairseq.trainer][INFO] - Saving checkpoint to /kaggle/working/checkpoint_last.pt\r\n"
     ]
    },
    {
     "name": "stdout",
     "output_type": "stream",
     "text": [
      "[2021-06-09 16:25:28,336][fairseq.trainer][INFO] - Finished saving checkpoint to /kaggle/working/checkpoint_last.pt\r\n",
      "[2021-06-09 16:25:28,336][fairseq.checkpoint_utils][INFO] - Saved checkpoint /kaggle/working/checkpoint_last.pt (epoch 5399 @ 86384 updates, score 76.26692375986848) (writing took 0.0454640930001915 seconds)\r\n",
      "[2021-06-09 16:25:28,336][fairseq_cli.train][INFO] - end of epoch 5399 (average epoch stats below)\r\n",
      "[2021-06-09 16:25:28,339][train][INFO] - {\"epoch\": 5399, \"train_loss\": \"3.469\", \"train_ntokens\": \"145.688\", \"train_nsentences\": \"145.688\", \"train_temp\": \"0.1\", \"train_code_ppl\": \"8.606\", \"train_loss_code_pen\": \"0.31\", \"train_loss_smoothness\": \"1.988\", \"train_loss_dense_g\": \"4.285\", \"train_lm_score_sum\": 0.0, \"train_num_pred_chars\": 0.0, \"train_loss_grad_pen\": \"0.061\", \"train_loss_dense_d\": \"0.027\", \"train_loss_token_d\": \"0.033\", \"train_wps\": \"9.7\", \"train_ups\": \"0.07\", \"train_wpb\": \"145.7\", \"train_bsz\": \"145.7\", \"train_num_updates\": \"86384\", \"train_lr_discriminator\": \"0.0005\", \"train_lr_generator\": \"0.0004\", \"train_gnorm\": \"35.288\", \"train_clip\": \"68.8\", \"train_train_wall\": \"238\", \"train_wall\": \"15915\"}\r\n"
     ]
    },
    {
     "name": "stdout",
     "output_type": "stream",
     "text": [
      "[2021-06-09 16:25:28,395][fairseq.trainer][INFO] - begin training epoch 5400\r\n",
      "[2021-06-09 16:25:28,396][fairseq_cli.train][INFO] - Start iterating over samples\r\n"
     ]
    },
    {
     "name": "stdout",
     "output_type": "stream",
     "text": [
      "[2021-06-09 16:29:39,563][train_inner][INFO] - {\"epoch\": 5400, \"update\": 5400.0, \"loss\": \"3.344\", \"ntokens\": \"146.26\", \"nsentences\": \"146.26\", \"temp\": \"0.1\", \"code_ppl\": \"8.57\", \"loss_code_pen\": \"0.324\", \"loss_smoothness\": \"2.033\", \"loss_dense_g\": \"4.059\", \"lm_score_sum\": 0.0, \"num_pred_chars\": 0.0, \"loss_grad_pen\": \"0.076\", \"loss_dense_d\": \"0.03\", \"loss_token_d\": \"0.032\", \"wps\": \"9.4\", \"ups\": \"0.06\", \"wpb\": \"146.3\", \"bsz\": \"146.3\", \"num_updates\": \"86400\", \"lr_discriminator\": \"0.0005\", \"lr_generator\": \"0.0004\", \"gnorm\": \"31.967\", \"clip\": \"70\", \"train_wall\": \"1528\", \"wall\": \"16166\"}\r\n",
      "[2021-06-09 16:29:39,565][fairseq_cli.train][INFO] - begin validation on \"valid\" subset\r\n"
     ]
    },
    {
     "name": "stdout",
     "output_type": "stream",
     "text": [
      "[2021-06-09 16:29:42,261][fairseq.tasks.unpaired_audio_text][INFO] - REF: ɛ n f œ ʂ ə n a d ɵ ʂ ə k t f øː r d eː t s ɔ m h ɛ n d ə p oː ɕ œ r k ɔ n s ɛ t ə n\r\n",
      "[2021-06-09 16:29:42,263][fairseq.tasks.unpaired_audio_text][INFO] - HYP: n ɪ n s j œ r œ j uː œ yː k ə ɡ f œ v j m uː ə h ɔ b ə uː s eː r n v oː s ɪ ŋ k ɪ l s uː t a n t a\r\n",
      "[2021-06-09 16:29:42,267][fairseq.tasks.unpaired_audio_text][INFO] - LM [REF]: -53.44462585449219, 0.05339602260269112\r\n",
      "[2021-06-09 16:29:42,267][fairseq.tasks.unpaired_audio_text][INFO] - LM [HYP]: -84.08189392089844, 0.016256368435547043\r\n"
     ]
    },
    {
     "name": "stdout",
     "output_type": "stream",
     "text": [
      "[2021-06-09 16:29:42,771][valid][INFO] - {\"epoch\": 5400, \"valid_loss\": \"0.998\", \"valid_ntokens\": \"3039.79\", \"valid_nsentences\": \"144.214\", \"valid_lm_score_sum\": \"-89560.4\", \"valid_num_pred_chars\": \"48242\", \"valid_vocab_seen_pct\": \"0.890244\", \"valid_uer\": \"99.8026\", \"valid_weighted_lm_ppl\": \"76.364\", \"valid_lm_ppl\": \"60.521\", \"valid_wps\": \"16581.9\", \"valid_wpb\": \"3039.8\", \"valid_bsz\": \"144.2\", \"valid_num_updates\": \"86400\", \"valid_best_weighted_lm_ppl\": \"73.0296\"}\r\n",
      "[2021-06-09 16:29:42,774][fairseq.checkpoint_utils][INFO] - Preparing to save checkpoint for epoch 5400 @ 86400 updates\r\n",
      "[2021-06-09 16:29:42,775][fairseq.trainer][INFO] - Saving checkpoint to /kaggle/working/checkpoint_last.pt\r\n"
     ]
    },
    {
     "name": "stdout",
     "output_type": "stream",
     "text": [
      "[2021-06-09 16:29:42,821][fairseq.trainer][INFO] - Finished saving checkpoint to /kaggle/working/checkpoint_last.pt\r\n",
      "[2021-06-09 16:29:42,822][fairseq.checkpoint_utils][INFO] - Saved checkpoint /kaggle/working/checkpoint_last.pt (epoch 5400 @ 86400 updates, score 76.3639562685171) (writing took 0.04719603299963637 seconds)\r\n",
      "[2021-06-09 16:29:42,822][fairseq_cli.train][INFO] - end of epoch 5400 (average epoch stats below)\r\n",
      "[2021-06-09 16:29:42,825][train][INFO] - {\"epoch\": 5400, \"train_loss\": \"3.215\", \"train_ntokens\": \"145.688\", \"train_nsentences\": \"145.688\", \"train_temp\": \"0.1\", \"train_code_ppl\": \"8.682\", \"train_loss_code_pen\": \"0.317\", \"train_loss_smoothness\": \"2.026\", \"train_loss_dense_g\": \"4.215\", \"train_lm_score_sum\": 0.0, \"train_num_pred_chars\": 0.0, \"train_loss_grad_pen\": \"0.051\", \"train_loss_dense_d\": \"0.027\", \"train_loss_token_d\": \"0.029\", \"train_wps\": \"9.2\", \"train_ups\": \"0.06\", \"train_wpb\": \"145.7\", \"train_bsz\": \"145.7\", \"train_num_updates\": \"86400\", \"train_lr_discriminator\": \"0.0005\", \"train_lr_generator\": \"0.0004\", \"train_gnorm\": \"28.964\", \"train_clip\": \"56.2\", \"train_train_wall\": \"251\", \"train_wall\": \"16169\"}\r\n"
     ]
    },
    {
     "name": "stdout",
     "output_type": "stream",
     "text": [
      "[2021-06-09 16:29:42,882][fairseq.trainer][INFO] - begin training epoch 5401\r\n",
      "[2021-06-09 16:29:42,884][fairseq_cli.train][INFO] - Start iterating over samples\r\n"
     ]
    },
    {
     "name": "stdout",
     "output_type": "stream",
     "text": [
      "[2021-06-09 16:33:59,728][fairseq_cli.train][INFO] - begin validation on \"valid\" subset\r\n"
     ]
    },
    {
     "name": "stdout",
     "output_type": "stream",
     "text": [
      "[2021-06-09 16:34:02,195][fairseq.tasks.unpaired_audio_text][INFO] - REF: ɛ n f œ ʂ ə n a d ɵ ʂ ə k t f øː r d eː t s ɔ m h ɛ n d ə p oː ɕ œ r k ɔ n s ɛ t ə n\r\n",
      "[2021-06-09 16:34:02,197][fairseq.tasks.unpaired_audio_text][INFO] - HYP: n ɪ n s j œ r œ j uː œ yː k j ə ɡ f œ v j m b uː ə h œ k b ə uː s eː r n v oː s ɪ ŋ k ɪ l s uː t a n t a\r\n",
      "[2021-06-09 16:34:02,201][fairseq.tasks.unpaired_audio_text][INFO] - LM [REF]: -53.44462585449219, 0.05339602260269112\r\n",
      "[2021-06-09 16:34:02,202][fairseq.tasks.unpaired_audio_text][INFO] - LM [HYP]: -90.27139282226562, 0.015652083048273563\r\n"
     ]
    },
    {
     "name": "stdout",
     "output_type": "stream",
     "text": [
      "[2021-06-09 16:34:02,710][valid][INFO] - {\"epoch\": 5401, \"valid_loss\": \"0.997\", \"valid_ntokens\": \"3039.79\", \"valid_nsentences\": \"144.214\", \"valid_lm_score_sum\": \"-89421\", \"valid_num_pred_chars\": \"48272\", \"valid_vocab_seen_pct\": \"0.891986\", \"valid_uer\": \"99.7298\", \"valid_weighted_lm_ppl\": \"75.3972\", \"valid_lm_ppl\": \"59.9889\", \"valid_wps\": \"18325.2\", \"valid_wpb\": \"3039.8\", \"valid_bsz\": \"144.2\", \"valid_num_updates\": \"86416\", \"valid_best_weighted_lm_ppl\": \"73.0296\"}\r\n",
      "[2021-06-09 16:34:02,713][fairseq.checkpoint_utils][INFO] - Preparing to save checkpoint for epoch 5401 @ 86416 updates\r\n",
      "[2021-06-09 16:34:02,714][fairseq.trainer][INFO] - Saving checkpoint to /kaggle/working/checkpoint_last.pt\r\n"
     ]
    },
    {
     "name": "stdout",
     "output_type": "stream",
     "text": [
      "[2021-06-09 16:34:02,760][fairseq.trainer][INFO] - Finished saving checkpoint to /kaggle/working/checkpoint_last.pt\r\n",
      "[2021-06-09 16:34:02,761][fairseq.checkpoint_utils][INFO] - Saved checkpoint /kaggle/working/checkpoint_last.pt (epoch 5401 @ 86416 updates, score 75.39717224244978) (writing took 0.04783451699768193 seconds)\r\n",
      "[2021-06-09 16:34:02,761][fairseq_cli.train][INFO] - end of epoch 5401 (average epoch stats below)\r\n",
      "[2021-06-09 16:34:02,764][train][INFO] - {\"epoch\": 5401, \"train_loss\": \"3.22\", \"train_ntokens\": \"145.688\", \"train_nsentences\": \"145.688\", \"train_temp\": \"0.1\", \"train_code_ppl\": \"8.672\", \"train_loss_code_pen\": \"0.322\", \"train_loss_smoothness\": \"2.03\", \"train_loss_dense_g\": \"4.216\", \"train_lm_score_sum\": 0.0, \"train_num_pred_chars\": 0.0, \"train_loss_grad_pen\": \"0.057\", \"train_loss_dense_d\": \"0.027\", \"train_loss_token_d\": \"0.023\", \"train_wps\": \"9\", \"train_ups\": \"0.06\", \"train_wpb\": \"145.7\", \"train_bsz\": \"145.7\", \"train_num_updates\": \"86416\", \"train_lr_discriminator\": \"0.0005\", \"train_lr_generator\": \"0.0004\", \"train_gnorm\": \"29.42\", \"train_clip\": \"68.8\", \"train_train_wall\": \"257\", \"train_wall\": \"16429\"}\r\n"
     ]
    },
    {
     "name": "stdout",
     "output_type": "stream",
     "text": [
      "[2021-06-09 16:34:02,821][fairseq.trainer][INFO] - begin training epoch 5402\r\n",
      "[2021-06-09 16:34:02,822][fairseq_cli.train][INFO] - Start iterating over samples\r\n"
     ]
    },
    {
     "name": "stdout",
     "output_type": "stream",
     "text": [
      "[2021-06-09 16:38:32,835][fairseq_cli.train][INFO] - begin validation on \"valid\" subset\r\n"
     ]
    },
    {
     "name": "stdout",
     "output_type": "stream",
     "text": [
      "[2021-06-09 16:38:35,351][fairseq.tasks.unpaired_audio_text][INFO] - REF: ɛ n f œ ʂ ə n a d ɵ ʂ ə k t f øː r d eː t s ɔ m h ɛ n d ə p oː ɕ œ r k ɔ n s ɛ t ə n\r\n",
      "[2021-06-09 16:38:35,353][fairseq.tasks.unpaired_audio_text][INFO] - HYP: n ɪ n s j œ r œ j uː œ j k j ə ɡ f œ v j m ə h ɔ k b ə uː s eː r n v oː s ɪ ŋ k ɪ l s uː t n t a\r\n",
      "[2021-06-09 16:38:35,357][fairseq.tasks.unpaired_audio_text][INFO] - LM [REF]: -53.44462585449219, 0.05339602260269112\r\n",
      "[2021-06-09 16:38:35,358][fairseq.tasks.unpaired_audio_text][INFO] - LM [HYP]: -85.0029525756836, 0.015539124308892016\r\n"
     ]
    },
    {
     "name": "stdout",
     "output_type": "stream",
     "text": [
      "[2021-06-09 16:38:35,870][valid][INFO] - {\"epoch\": 5402, \"valid_loss\": \"1\", \"valid_ntokens\": \"3039.79\", \"valid_nsentences\": \"144.214\", \"valid_lm_score_sum\": \"-89708.7\", \"valid_num_pred_chars\": \"48440\", \"valid_vocab_seen_pct\": \"0.890244\", \"valid_uer\": \"100.009\", \"valid_weighted_lm_ppl\": \"75.6546\", \"valid_lm_ppl\": \"59.9588\", \"valid_wps\": \"17864.6\", \"valid_wpb\": \"3039.8\", \"valid_bsz\": \"144.2\", \"valid_num_updates\": \"86432\", \"valid_best_weighted_lm_ppl\": \"73.0296\"}\r\n",
      "[2021-06-09 16:38:35,873][fairseq.checkpoint_utils][INFO] - Preparing to save checkpoint for epoch 5402 @ 86432 updates\r\n",
      "[2021-06-09 16:38:35,875][fairseq.trainer][INFO] - Saving checkpoint to /kaggle/working/checkpoint_last.pt\r\n"
     ]
    },
    {
     "name": "stdout",
     "output_type": "stream",
     "text": [
      "[2021-06-09 16:38:35,920][fairseq.trainer][INFO] - Finished saving checkpoint to /kaggle/working/checkpoint_last.pt\r\n",
      "[2021-06-09 16:38:35,921][fairseq.checkpoint_utils][INFO] - Saved checkpoint /kaggle/working/checkpoint_last.pt (epoch 5402 @ 86432 updates, score 75.65456784694976) (writing took 0.04727737400025944 seconds)\r\n",
      "[2021-06-09 16:38:35,921][fairseq_cli.train][INFO] - end of epoch 5402 (average epoch stats below)\r\n",
      "[2021-06-09 16:38:35,924][train][INFO] - {\"epoch\": 5402, \"train_loss\": \"3.032\", \"train_ntokens\": \"145.688\", \"train_nsentences\": \"145.688\", \"train_temp\": \"0.1\", \"train_code_ppl\": \"8.653\", \"train_loss_code_pen\": \"0.342\", \"train_loss_smoothness\": \"2.084\", \"train_loss_dense_g\": \"4.167\", \"train_lm_score_sum\": 0.0, \"train_num_pred_chars\": 0.0, \"train_loss_grad_pen\": \"0.06\", \"train_loss_dense_d\": \"0.024\", \"train_loss_token_d\": \"0.023\", \"train_wps\": \"8.5\", \"train_ups\": \"0.06\", \"train_wpb\": \"145.7\", \"train_bsz\": \"145.7\", \"train_num_updates\": \"86432\", \"train_lr_discriminator\": \"0.0005\", \"train_lr_generator\": \"0.0004\", \"train_gnorm\": \"30.276\", \"train_clip\": \"81.2\", \"train_train_wall\": \"269\", \"train_wall\": \"16702\"}\r\n"
     ]
    },
    {
     "name": "stdout",
     "output_type": "stream",
     "text": [
      "[2021-06-09 16:38:35,980][fairseq.trainer][INFO] - begin training epoch 5403\r\n",
      "[2021-06-09 16:38:35,981][fairseq_cli.train][INFO] - Start iterating over samples\r\n"
     ]
    },
    {
     "name": "stdout",
     "output_type": "stream",
     "text": [
      "[2021-06-09 16:42:21,221][fairseq_cli.train][INFO] - begin validation on \"valid\" subset\r\n"
     ]
    },
    {
     "name": "stdout",
     "output_type": "stream",
     "text": [
      "[2021-06-09 16:42:23,646][fairseq.tasks.unpaired_audio_text][INFO] - REF: ɛ n f œ ʂ ə n a d ɵ ʂ ə k t f øː r d eː t s ɔ m h ɛ n d ə p oː ɕ œ r k ɔ n s ɛ t ə n\r\n",
      "[2021-06-09 16:42:23,648][fairseq.tasks.unpaired_audio_text][INFO] - HYP: n ɪ s j œ r œ j j uː œ yː k j ə ɡ f œ v j m ə h ɔ k b ə uː s eː r n v oː s ɪ ŋ k ɪ l s uː t a n t a\r\n",
      "[2021-06-09 16:42:23,652][fairseq.tasks.unpaired_audio_text][INFO] - LM [REF]: -53.44462585449219, 0.05339602260269112\r\n",
      "[2021-06-09 16:42:23,653][fairseq.tasks.unpaired_audio_text][INFO] - LM [HYP]: -85.44404602050781, 0.016592648299381813\r\n"
     ]
    },
    {
     "name": "stdout",
     "output_type": "stream",
     "text": [
      "[2021-06-09 16:42:24,148][valid][INFO] - {\"epoch\": 5403, \"valid_loss\": \"1\", \"valid_ntokens\": \"3039.79\", \"valid_nsentences\": \"144.214\", \"valid_lm_score_sum\": \"-89494.5\", \"valid_num_pred_chars\": \"48468\", \"valid_vocab_seen_pct\": \"0.885017\", \"valid_uer\": \"100.04\", \"valid_weighted_lm_ppl\": \"75.6347\", \"valid_lm_ppl\": \"59.2413\", \"valid_wps\": \"18432.6\", \"valid_wpb\": \"3039.8\", \"valid_bsz\": \"144.2\", \"valid_num_updates\": \"86448\", \"valid_best_weighted_lm_ppl\": \"73.0296\"}\r\n",
      "[2021-06-09 16:42:24,151][fairseq.checkpoint_utils][INFO] - Preparing to save checkpoint for epoch 5403 @ 86448 updates\r\n",
      "[2021-06-09 16:42:24,152][fairseq.trainer][INFO] - Saving checkpoint to /kaggle/working/checkpoint_last.pt\r\n"
     ]
    },
    {
     "name": "stdout",
     "output_type": "stream",
     "text": [
      "[2021-06-09 16:42:24,197][fairseq.trainer][INFO] - Finished saving checkpoint to /kaggle/working/checkpoint_last.pt\r\n",
      "[2021-06-09 16:42:24,198][fairseq.checkpoint_utils][INFO] - Saved checkpoint /kaggle/working/checkpoint_last.pt (epoch 5403 @ 86448 updates, score 75.63472039063836) (writing took 0.04692346800220548 seconds)\r\n",
      "[2021-06-09 16:42:24,198][fairseq_cli.train][INFO] - end of epoch 5403 (average epoch stats below)\r\n",
      "[2021-06-09 16:42:24,201][train][INFO] - {\"epoch\": 5403, \"train_loss\": \"3.668\", \"train_ntokens\": \"145.688\", \"train_nsentences\": \"145.688\", \"train_temp\": \"0.1\", \"train_code_ppl\": \"8.498\", \"train_loss_code_pen\": \"0.323\", \"train_loss_smoothness\": \"2.041\", \"train_loss_dense_g\": \"4.184\", \"train_lm_score_sum\": 0.0, \"train_num_pred_chars\": 0.0, \"train_loss_grad_pen\": \"0.117\", \"train_loss_dense_d\": \"0.022\", \"train_loss_token_d\": \"0.023\", \"train_wps\": \"10.2\", \"train_ups\": \"0.07\", \"train_wpb\": \"145.7\", \"train_bsz\": \"145.7\", \"train_num_updates\": \"86448\", \"train_lr_discriminator\": \"0.0005\", \"train_lr_generator\": \"0.0004\", \"train_gnorm\": \"31.244\", \"train_clip\": \"75\", \"train_train_wall\": \"225\", \"train_wall\": \"16931\"}\r\n"
     ]
    },
    {
     "name": "stdout",
     "output_type": "stream",
     "text": [
      "[2021-06-09 16:42:24,258][fairseq.trainer][INFO] - begin training epoch 5404\r\n",
      "[2021-06-09 16:42:24,259][fairseq_cli.train][INFO] - Start iterating over samples\r\n"
     ]
    },
    {
     "name": "stdout",
     "output_type": "stream",
     "text": [
      "[2021-06-09 16:46:40,817][fairseq_cli.train][INFO] - begin validation on \"valid\" subset\r\n"
     ]
    },
    {
     "name": "stdout",
     "output_type": "stream",
     "text": [
      "[2021-06-09 16:46:43,243][fairseq.tasks.unpaired_audio_text][INFO] - REF: ɛ n f œ ʂ ə n a d ɵ ʂ ə k t f øː r d eː t s ɔ m h ɛ n d ə p oː ɕ œ r k ɔ n s ɛ t ə n\r\n",
      "[2021-06-09 16:46:43,245][fairseq.tasks.unpaired_audio_text][INFO] - HYP: n ɪ s j œ r œ j j uː œ yː k j ə ɡ f œ v j m ə h ɔ k b ə uː s eː r n v oː s ɪ ŋ k ɪ l s uː t n t a\r\n",
      "[2021-06-09 16:46:43,249][fairseq.tasks.unpaired_audio_text][INFO] - LM [REF]: -53.44462585449219, 0.05339602260269112\r\n",
      "[2021-06-09 16:46:43,249][fairseq.tasks.unpaired_audio_text][INFO] - LM [HYP]: -86.16291046142578, 0.014680693982150779\r\n"
     ]
    },
    {
     "name": "stdout",
     "output_type": "stream",
     "text": [
      "[2021-06-09 16:46:43,747][valid][INFO] - {\"epoch\": 5404, \"valid_loss\": \"1\", \"valid_ntokens\": \"3039.79\", \"valid_nsentences\": \"144.214\", \"valid_lm_score_sum\": \"-89578.2\", \"valid_num_pred_chars\": \"48407\", \"valid_vocab_seen_pct\": \"0.88676\", \"valid_uer\": \"100.047\", \"valid_weighted_lm_ppl\": \"76.0007\", \"valid_lm_ppl\": \"59.7626\", \"valid_wps\": \"18450.7\", \"valid_wpb\": \"3039.8\", \"valid_bsz\": \"144.2\", \"valid_num_updates\": \"86464\", \"valid_best_weighted_lm_ppl\": \"73.0296\"}\r\n",
      "[2021-06-09 16:46:43,750][fairseq.checkpoint_utils][INFO] - Preparing to save checkpoint for epoch 5404 @ 86464 updates\r\n",
      "[2021-06-09 16:46:43,752][fairseq.trainer][INFO] - Saving checkpoint to /kaggle/working/checkpoint_last.pt\r\n"
     ]
    },
    {
     "name": "stdout",
     "output_type": "stream",
     "text": [
      "[2021-06-09 16:46:43,795][fairseq.trainer][INFO] - Finished saving checkpoint to /kaggle/working/checkpoint_last.pt\r\n",
      "[2021-06-09 16:46:43,796][fairseq.checkpoint_utils][INFO] - Saved checkpoint /kaggle/working/checkpoint_last.pt (epoch 5404 @ 86464 updates, score 76.00070493204638) (writing took 0.045083886998327216 seconds)\r\n",
      "[2021-06-09 16:46:43,796][fairseq_cli.train][INFO] - end of epoch 5404 (average epoch stats below)\r\n",
      "[2021-06-09 16:46:43,799][train][INFO] - {\"epoch\": 5404, \"train_loss\": \"3.266\", \"train_ntokens\": \"145.688\", \"train_nsentences\": \"145.688\", \"train_temp\": \"0.1\", \"train_code_ppl\": \"8.616\", \"train_loss_code_pen\": \"0.328\", \"train_loss_smoothness\": \"2.07\", \"train_loss_dense_g\": \"4.263\", \"train_lm_score_sum\": 0.0, \"train_num_pred_chars\": 0.0, \"train_loss_grad_pen\": \"0.064\", \"train_loss_dense_d\": \"0.024\", \"train_loss_token_d\": \"0.022\", \"train_wps\": \"9\", \"train_ups\": \"0.06\", \"train_wpb\": \"145.7\", \"train_bsz\": \"145.7\", \"train_num_updates\": \"86464\", \"train_lr_discriminator\": \"0.0005\", \"train_lr_generator\": \"0.0004\", \"train_gnorm\": \"30.266\", \"train_clip\": \"75\", \"train_train_wall\": \"256\", \"train_wall\": \"17190\"}\r\n"
     ]
    },
    {
     "name": "stdout",
     "output_type": "stream",
     "text": [
      "[2021-06-09 16:46:43,852][fairseq.trainer][INFO] - begin training epoch 5405\r\n",
      "[2021-06-09 16:46:43,854][fairseq_cli.train][INFO] - Start iterating over samples\r\n"
     ]
    },
    {
     "name": "stdout",
     "output_type": "stream",
     "text": [
      "[2021-06-09 16:50:34,487][fairseq_cli.train][INFO] - begin validation on \"valid\" subset\r\n"
     ]
    },
    {
     "name": "stdout",
     "output_type": "stream",
     "text": [
      "[2021-06-09 16:50:36,999][fairseq.tasks.unpaired_audio_text][INFO] - REF: ɛ n f œ ʂ ə n a d ɵ ʂ ə k t f øː r d eː t s ɔ m h ɛ n d ə p oː ɕ œ r k ɔ n s ɛ t ə n\r\n",
      "[2021-06-09 16:50:37,001][fairseq.tasks.unpaired_audio_text][INFO] - HYP: n ɪ n s j œ r œ j j uː œ j k j ə ɡ f œ v j m ə h œ k b ə uː s eː r n v oː s ɪ ŋ k ɪ l s uː t n t a\r\n"
     ]
    },
    {
     "name": "stdout",
     "output_type": "stream",
     "text": [
      "[2021-06-09 16:50:37,007][fairseq.tasks.unpaired_audio_text][INFO] - LM [REF]: -53.44462585449219, 0.05339602260269112\r\n",
      "[2021-06-09 16:50:37,008][fairseq.tasks.unpaired_audio_text][INFO] - LM [HYP]: -89.05606842041016, 0.013952924403421997\r\n"
     ]
    },
    {
     "name": "stdout",
     "output_type": "stream",
     "text": [
      "[2021-06-09 16:50:37,539][valid][INFO] - {\"epoch\": 5405, \"valid_loss\": \"0.998\", \"valid_ntokens\": \"3039.79\", \"valid_nsentences\": \"144.214\", \"valid_lm_score_sum\": \"-89366.7\", \"valid_num_pred_chars\": \"48392\", \"valid_vocab_seen_pct\": \"0.885017\", \"valid_uer\": \"99.8496\", \"valid_weighted_lm_ppl\": \"75.6587\", \"valid_lm_ppl\": \"59.2601\", \"valid_wps\": \"17769.9\", \"valid_wpb\": \"3039.8\", \"valid_bsz\": \"144.2\", \"valid_num_updates\": \"86480\", \"valid_best_weighted_lm_ppl\": \"73.0296\"}\r\n",
      "[2021-06-09 16:50:37,542][fairseq.checkpoint_utils][INFO] - Preparing to save checkpoint for epoch 5405 @ 86480 updates\r\n",
      "[2021-06-09 16:50:37,544][fairseq.trainer][INFO] - Saving checkpoint to /kaggle/working/checkpoint_last.pt\r\n"
     ]
    },
    {
     "name": "stdout",
     "output_type": "stream",
     "text": [
      "[2021-06-09 16:50:37,591][fairseq.trainer][INFO] - Finished saving checkpoint to /kaggle/working/checkpoint_last.pt\r\n",
      "[2021-06-09 16:50:37,591][fairseq.checkpoint_utils][INFO] - Saved checkpoint /kaggle/working/checkpoint_last.pt (epoch 5405 @ 86480 updates, score 75.65871795358844) (writing took 0.048858018999453634 seconds)\r\n",
      "[2021-06-09 16:50:37,591][fairseq_cli.train][INFO] - end of epoch 5405 (average epoch stats below)\r\n",
      "[2021-06-09 16:50:37,595][train][INFO] - {\"epoch\": 5405, \"train_loss\": \"3.473\", \"train_ntokens\": \"145.688\", \"train_nsentences\": \"145.688\", \"train_temp\": \"0.1\", \"train_code_ppl\": \"8.626\", \"train_loss_code_pen\": \"0.313\", \"train_loss_smoothness\": \"1.998\", \"train_loss_dense_g\": \"4.287\", \"train_lm_score_sum\": 0.0, \"train_num_pred_chars\": 0.0, \"train_loss_grad_pen\": \"0.063\", \"train_loss_dense_d\": \"0.023\", \"train_loss_token_d\": \"0.025\", \"train_wps\": \"10\", \"train_ups\": \"0.07\", \"train_wpb\": \"145.7\", \"train_bsz\": \"145.7\", \"train_num_updates\": \"86480\", \"train_lr_discriminator\": \"0.0005\", \"train_lr_generator\": \"0.0004\", \"train_gnorm\": \"33.765\", \"train_clip\": \"75\", \"train_train_wall\": \"230\", \"train_wall\": \"17424\"}\r\n"
     ]
    },
    {
     "name": "stdout",
     "output_type": "stream",
     "text": [
      "[2021-06-09 16:50:37,652][fairseq.trainer][INFO] - begin training epoch 5406\r\n",
      "[2021-06-09 16:50:37,653][fairseq_cli.train][INFO] - Start iterating over samples\r\n"
     ]
    },
    {
     "name": "stdout",
     "output_type": "stream",
     "text": [
      "[2021-06-09 16:54:35,749][fairseq_cli.train][INFO] - begin validation on \"valid\" subset\r\n"
     ]
    },
    {
     "name": "stdout",
     "output_type": "stream",
     "text": [
      "[2021-06-09 16:54:38,181][fairseq.tasks.unpaired_audio_text][INFO] - REF: ɛ n f œ ʂ ə n a d ɵ ʂ ə k t f øː r d eː t s ɔ m h ɛ n d ə p oː ɕ œ r k ɔ n s ɛ t ə n\r\n",
      "[2021-06-09 16:54:38,183][fairseq.tasks.unpaired_audio_text][INFO] - HYP: n ɪ n s j œ r œ j j uː œ j k j ə ɡ f œ v j m uː ə h ɔ k b ə uː s eː r n v oː s ɪ ŋ k ɪ l s uː t a n t a\r\n",
      "[2021-06-09 16:54:38,187][fairseq.tasks.unpaired_audio_text][INFO] - LM [REF]: -53.44462585449219, 0.05339602260269112\r\n",
      "[2021-06-09 16:54:38,188][fairseq.tasks.unpaired_audio_text][INFO] - LM [HYP]: -88.30789184570312, 0.01713334512169092\r\n"
     ]
    },
    {
     "name": "stdout",
     "output_type": "stream",
     "text": [
      "[2021-06-09 16:54:38,693][valid][INFO] - {\"epoch\": 5406, \"valid_loss\": \"1\", \"valid_ntokens\": \"3039.79\", \"valid_nsentences\": \"144.214\", \"valid_lm_score_sum\": \"-89482.3\", \"valid_num_pred_chars\": \"48426\", \"valid_vocab_seen_pct\": \"0.885017\", \"valid_uer\": \"99.9883\", \"valid_weighted_lm_ppl\": \"75.85\", \"valid_lm_ppl\": \"59.4099\", \"valid_wps\": \"18563.2\", \"valid_wpb\": \"3039.8\", \"valid_bsz\": \"144.2\", \"valid_num_updates\": \"86496\", \"valid_best_weighted_lm_ppl\": \"73.0296\"}\r\n",
      "[2021-06-09 16:54:38,697][fairseq.checkpoint_utils][INFO] - Preparing to save checkpoint for epoch 5406 @ 86496 updates\r\n",
      "[2021-06-09 16:54:38,698][fairseq.trainer][INFO] - Saving checkpoint to /kaggle/working/checkpoint_last.pt\r\n"
     ]
    },
    {
     "name": "stdout",
     "output_type": "stream",
     "text": [
      "[2021-06-09 16:54:38,744][fairseq.trainer][INFO] - Finished saving checkpoint to /kaggle/working/checkpoint_last.pt\r\n",
      "[2021-06-09 16:54:38,744][fairseq.checkpoint_utils][INFO] - Saved checkpoint /kaggle/working/checkpoint_last.pt (epoch 5406 @ 86496 updates, score 75.84997921216599) (writing took 0.047334950999356806 seconds)\r\n",
      "[2021-06-09 16:54:38,744][fairseq_cli.train][INFO] - end of epoch 5406 (average epoch stats below)\r\n",
      "[2021-06-09 16:54:38,747][train][INFO] - {\"epoch\": 5406, \"train_loss\": \"3.493\", \"train_ntokens\": \"145.688\", \"train_nsentences\": \"145.688\", \"train_temp\": \"0.1\", \"train_code_ppl\": \"8.477\", \"train_loss_code_pen\": \"0.303\", \"train_loss_smoothness\": \"1.969\", \"train_loss_dense_g\": \"4.321\", \"train_lm_score_sum\": 0.0, \"train_num_pred_chars\": 0.0, \"train_loss_grad_pen\": \"0.109\", \"train_loss_dense_d\": \"0.02\", \"train_loss_token_d\": \"0.03\", \"train_wps\": \"9.7\", \"train_ups\": \"0.07\", \"train_wpb\": \"145.7\", \"train_bsz\": \"145.7\", \"train_num_updates\": \"86496\", \"train_lr_discriminator\": \"0.0005\", \"train_lr_generator\": \"0.0004\", \"train_gnorm\": \"32.277\", \"train_clip\": \"81.2\", \"train_train_wall\": \"238\", \"train_wall\": \"17665\"}\r\n"
     ]
    },
    {
     "name": "stdout",
     "output_type": "stream",
     "text": [
      "[2021-06-09 16:54:38,804][fairseq.trainer][INFO] - begin training epoch 5407\r\n",
      "[2021-06-09 16:54:38,805][fairseq_cli.train][INFO] - Start iterating over samples\r\n"
     ]
    },
    {
     "name": "stdout",
     "output_type": "stream",
     "text": [
      "[2021-06-09 16:55:45,900][train_inner][INFO] - {\"epoch\": 5407, \"update\": 5406.25, \"loss\": \"3.345\", \"ntokens\": \"146.26\", \"nsentences\": \"146.26\", \"temp\": \"0.1\", \"code_ppl\": \"8.605\", \"loss_code_pen\": \"0.322\", \"loss_smoothness\": \"2.034\", \"loss_dense_g\": \"4.207\", \"lm_score_sum\": 0.0, \"num_pred_chars\": 0.0, \"loss_grad_pen\": \"0.079\", \"loss_dense_d\": \"0.024\", \"loss_token_d\": \"0.024\", \"wps\": \"9.3\", \"ups\": \"0.06\", \"wpb\": \"146.3\", \"bsz\": \"146.3\", \"num_updates\": \"86500\", \"lr_discriminator\": \"0.0005\", \"lr_generator\": \"0.0004\", \"gnorm\": \"31.182\", \"clip\": \"76\", \"train_wall\": \"1541\", \"wall\": \"17732\"}\r\n"
     ]
    },
    {
     "name": "stdout",
     "output_type": "stream",
     "text": [
      "[2021-06-09 16:58:26,778][fairseq_cli.train][INFO] - begin validation on \"valid\" subset\r\n"
     ]
    },
    {
     "name": "stdout",
     "output_type": "stream",
     "text": [
      "[2021-06-09 16:58:29,283][fairseq.tasks.unpaired_audio_text][INFO] - REF: ɛ n f œ ʂ ə n a d ɵ ʂ ə k t f øː r d eː t s ɔ m h ɛ n d ə p oː ɕ œ r k ɔ n s ɛ t ə n\r\n",
      "[2021-06-09 16:58:29,286][fairseq.tasks.unpaired_audio_text][INFO] - HYP: n ɪ s j œ r œ ʂ j uː œ yː k j ə ɡ f œ v j ə h ɔ k b ə uː s eː r n v oː s ɪ ŋ k ɪ l s uː t a n t a\r\n",
      "[2021-06-09 16:58:29,290][fairseq.tasks.unpaired_audio_text][INFO] - LM [REF]: -53.44462585449219, 0.05339602260269112\r\n",
      "[2021-06-09 16:58:29,290][fairseq.tasks.unpaired_audio_text][INFO] - LM [HYP]: -83.04557800292969, 0.017103020191673708\r\n"
     ]
    },
    {
     "name": "stdout",
     "output_type": "stream",
     "text": [
      "[2021-06-09 16:58:29,796][valid][INFO] - {\"epoch\": 5407, \"valid_loss\": \"0.999\", \"valid_ntokens\": \"3039.79\", \"valid_nsentences\": \"144.214\", \"valid_lm_score_sum\": \"-89349.4\", \"valid_num_pred_chars\": \"48351\", \"valid_vocab_seen_pct\": \"0.890244\", \"valid_uer\": \"99.859\", \"valid_weighted_lm_ppl\": \"74.9624\", \"valid_lm_ppl\": \"59.4103\", \"valid_wps\": \"18473.9\", \"valid_wpb\": \"3039.8\", \"valid_bsz\": \"144.2\", \"valid_num_updates\": \"86512\", \"valid_best_weighted_lm_ppl\": \"73.0296\"}\r\n",
      "[2021-06-09 16:58:29,800][fairseq.checkpoint_utils][INFO] - Preparing to save checkpoint for epoch 5407 @ 86512 updates\r\n",
      "[2021-06-09 16:58:29,801][fairseq.trainer][INFO] - Saving checkpoint to /kaggle/working/checkpoint_last.pt\r\n"
     ]
    },
    {
     "name": "stdout",
     "output_type": "stream",
     "text": [
      "[2021-06-09 16:58:29,847][fairseq.trainer][INFO] - Finished saving checkpoint to /kaggle/working/checkpoint_last.pt\r\n",
      "[2021-06-09 16:58:29,847][fairseq.checkpoint_utils][INFO] - Saved checkpoint /kaggle/working/checkpoint_last.pt (epoch 5407 @ 86512 updates, score 74.96238234415065) (writing took 0.04734670499965432 seconds)\r\n",
      "[2021-06-09 16:58:29,848][fairseq_cli.train][INFO] - end of epoch 5407 (average epoch stats below)\r\n",
      "[2021-06-09 16:58:29,851][train][INFO] - {\"epoch\": 5407, \"train_loss\": \"3.59\", \"train_ntokens\": \"145.688\", \"train_nsentences\": \"145.688\", \"train_temp\": \"0.1\", \"train_code_ppl\": \"8.581\", \"train_loss_code_pen\": \"0.309\", \"train_loss_smoothness\": \"2.022\", \"train_loss_dense_g\": \"4.075\", \"train_lm_score_sum\": 0.0, \"train_num_pred_chars\": 0.0, \"train_loss_grad_pen\": \"0.104\", \"train_loss_dense_d\": \"0.026\", \"train_loss_token_d\": \"0.03\", \"train_wps\": \"10.1\", \"train_ups\": \"0.07\", \"train_wpb\": \"145.7\", \"train_bsz\": \"145.7\", \"train_num_updates\": \"86512\", \"train_lr_discriminator\": \"0.0005\", \"train_lr_generator\": \"0.0004\", \"train_gnorm\": \"31.973\", \"train_clip\": \"81.2\", \"train_train_wall\": \"227\", \"train_wall\": \"17896\"}\r\n"
     ]
    },
    {
     "name": "stdout",
     "output_type": "stream",
     "text": [
      "[2021-06-09 16:58:29,911][fairseq.trainer][INFO] - begin training epoch 5408\r\n",
      "[2021-06-09 16:58:29,913][fairseq_cli.train][INFO] - Start iterating over samples\r\n"
     ]
    },
    {
     "name": "stdout",
     "output_type": "stream",
     "text": [
      "[2021-06-09 17:02:19,382][fairseq_cli.train][INFO] - begin validation on \"valid\" subset\r\n"
     ]
    },
    {
     "name": "stdout",
     "output_type": "stream",
     "text": [
      "[2021-06-09 17:02:21,813][fairseq.tasks.unpaired_audio_text][INFO] - REF: ɛ n f œ ʂ ə n a d ɵ ʂ ə k t f øː r d eː t s ɔ m h ɛ n d ə p oː ɕ œ r k ɔ n s ɛ t ə n\r\n",
      "[2021-06-09 17:02:21,815][fairseq.tasks.unpaired_audio_text][INFO] - HYP: n ɪ s j œ r œ ɕ j uː œ yː k j ə ɡ f œ v j m ə h ɔ k ə uː s eː r n v oː s ɪ ŋ k ɪ l s uː t a n t a\r\n",
      "[2021-06-09 17:02:21,820][fairseq.tasks.unpaired_audio_text][INFO] - LM [REF]: -53.44462585449219, 0.05339602260269112\r\n",
      "[2021-06-09 17:02:21,820][fairseq.tasks.unpaired_audio_text][INFO] - LM [HYP]: -85.27415466308594, 0.01533402912348442\r\n"
     ]
    },
    {
     "name": "stdout",
     "output_type": "stream",
     "text": [
      "[2021-06-09 17:02:22,327][valid][INFO] - {\"epoch\": 5408, \"valid_loss\": \"0.998\", \"valid_ntokens\": \"3039.79\", \"valid_nsentences\": \"144.214\", \"valid_lm_score_sum\": \"-89320.5\", \"valid_num_pred_chars\": \"48322\", \"valid_vocab_seen_pct\": \"0.891986\", \"valid_uer\": \"99.8285\", \"valid_weighted_lm_ppl\": \"74.7468\", \"valid_lm_ppl\": \"59.4714\", \"valid_wps\": \"18822.1\", \"valid_wpb\": \"3039.8\", \"valid_bsz\": \"144.2\", \"valid_num_updates\": \"86528\", \"valid_best_weighted_lm_ppl\": \"73.0296\"}\r\n",
      "[2021-06-09 17:02:22,330][fairseq.checkpoint_utils][INFO] - Preparing to save checkpoint for epoch 5408 @ 86528 updates\r\n",
      "[2021-06-09 17:02:22,331][fairseq.trainer][INFO] - Saving checkpoint to /kaggle/working/checkpoint_last.pt\r\n"
     ]
    },
    {
     "name": "stdout",
     "output_type": "stream",
     "text": [
      "[2021-06-09 17:02:22,376][fairseq.trainer][INFO] - Finished saving checkpoint to /kaggle/working/checkpoint_last.pt\r\n",
      "[2021-06-09 17:02:22,376][fairseq.checkpoint_utils][INFO] - Saved checkpoint /kaggle/working/checkpoint_last.pt (epoch 5408 @ 86528 updates, score 74.74675659746144) (writing took 0.04625862000102643 seconds)\r\n",
      "[2021-06-09 17:02:22,376][fairseq_cli.train][INFO] - end of epoch 5408 (average epoch stats below)\r\n",
      "[2021-06-09 17:02:22,380][train][INFO] - {\"epoch\": 5408, \"train_loss\": \"3.585\", \"train_ntokens\": \"145.688\", \"train_nsentences\": \"145.688\", \"train_temp\": \"0.1\", \"train_code_ppl\": \"8.721\", \"train_loss_code_pen\": \"0.324\", \"train_loss_smoothness\": \"2.083\", \"train_loss_dense_g\": \"4.004\", \"train_lm_score_sum\": 0.0, \"train_num_pred_chars\": 0.0, \"train_loss_grad_pen\": \"0.091\", \"train_loss_dense_d\": \"0.029\", \"train_loss_token_d\": \"0.023\", \"train_wps\": \"10\", \"train_ups\": \"0.07\", \"train_wpb\": \"145.7\", \"train_bsz\": \"145.7\", \"train_num_updates\": \"86528\", \"train_lr_discriminator\": \"0.0005\", \"train_lr_generator\": \"0.0004\", \"train_gnorm\": \"30.346\", \"train_clip\": \"81.2\", \"train_train_wall\": \"229\", \"train_wall\": \"18129\"}\r\n"
     ]
    },
    {
     "name": "stdout",
     "output_type": "stream",
     "text": [
      "[2021-06-09 17:02:22,437][fairseq.trainer][INFO] - begin training epoch 5409\r\n",
      "[2021-06-09 17:02:22,438][fairseq_cli.train][INFO] - Start iterating over samples\r\n"
     ]
    },
    {
     "name": "stdout",
     "output_type": "stream",
     "text": [
      "[2021-06-09 17:06:31,852][fairseq_cli.train][INFO] - begin validation on \"valid\" subset\r\n"
     ]
    },
    {
     "name": "stdout",
     "output_type": "stream",
     "text": [
      "[2021-06-09 17:06:34,212][fairseq.tasks.unpaired_audio_text][INFO] - REF: ɛ n f œ ʂ ə n a d ɵ ʂ ə k t f øː r d eː t s ɔ m h ɛ n d ə p oː ɕ œ r k ɔ n s ɛ t ə n\r\n",
      "[2021-06-09 17:06:34,215][fairseq.tasks.unpaired_audio_text][INFO] - HYP: n ɪ s j œ r œ ɕ j uː œ yː k ə ɡ f œ v j m ə h œ k b ə uː s eː r n v oː s ɪ ŋ k ɪ l s uː t a n t a\r\n",
      "[2021-06-09 17:06:34,219][fairseq.tasks.unpaired_audio_text][INFO] - LM [REF]: -53.44462585449219, 0.05339602260269112\r\n",
      "[2021-06-09 17:06:34,219][fairseq.tasks.unpaired_audio_text][INFO] - LM [HYP]: -85.44766235351562, 0.015204237003998216\r\n"
     ]
    },
    {
     "name": "stdout",
     "output_type": "stream",
     "text": [
      "[2021-06-09 17:06:34,726][valid][INFO] - {\"epoch\": 5409, \"valid_loss\": \"1\", \"valid_ntokens\": \"3039.79\", \"valid_nsentences\": \"144.214\", \"valid_lm_score_sum\": \"-89642.6\", \"valid_num_pred_chars\": \"48540\", \"valid_vocab_seen_pct\": \"0.88676\", \"valid_uer\": \"100.009\", \"valid_weighted_lm_ppl\": \"75.4082\", \"valid_lm_ppl\": \"59.2966\", \"valid_wps\": \"18983.3\", \"valid_wpb\": \"3039.8\", \"valid_bsz\": \"144.2\", \"valid_num_updates\": \"86544\", \"valid_best_weighted_lm_ppl\": \"73.0296\"}\r\n",
      "[2021-06-09 17:06:34,730][fairseq.checkpoint_utils][INFO] - Preparing to save checkpoint for epoch 5409 @ 86544 updates\r\n",
      "[2021-06-09 17:06:34,731][fairseq.trainer][INFO] - Saving checkpoint to /kaggle/working/checkpoint_last.pt\r\n"
     ]
    },
    {
     "name": "stdout",
     "output_type": "stream",
     "text": [
      "[2021-06-09 17:06:34,776][fairseq.trainer][INFO] - Finished saving checkpoint to /kaggle/working/checkpoint_last.pt\r\n",
      "[2021-06-09 17:06:34,776][fairseq.checkpoint_utils][INFO] - Saved checkpoint /kaggle/working/checkpoint_last.pt (epoch 5409 @ 86544 updates, score 75.40815528329598) (writing took 0.04680083899802412 seconds)\r\n",
      "[2021-06-09 17:06:34,777][fairseq_cli.train][INFO] - end of epoch 5409 (average epoch stats below)\r\n",
      "[2021-06-09 17:06:34,780][train][INFO] - {\"epoch\": 5409, \"train_loss\": \"3.258\", \"train_ntokens\": \"145.688\", \"train_nsentences\": \"145.688\", \"train_temp\": \"0.1\", \"train_code_ppl\": \"8.566\", \"train_loss_code_pen\": \"0.315\", \"train_loss_smoothness\": \"2.031\", \"train_loss_dense_g\": \"4.302\", \"train_lm_score_sum\": 0.0, \"train_num_pred_chars\": 0.0, \"train_loss_grad_pen\": \"0.058\", \"train_loss_dense_d\": \"0.026\", \"train_loss_token_d\": \"0.024\", \"train_wps\": \"9.2\", \"train_ups\": \"0.06\", \"train_wpb\": \"145.7\", \"train_bsz\": \"145.7\", \"train_num_updates\": \"86544\", \"train_lr_discriminator\": \"0.0005\", \"train_lr_generator\": \"0.0004\", \"train_gnorm\": \"30.057\", \"train_clip\": \"68.8\", \"train_train_wall\": \"249\", \"train_wall\": \"18381\"}\r\n"
     ]
    },
    {
     "name": "stdout",
     "output_type": "stream",
     "text": [
      "[2021-06-09 17:06:34,834][fairseq.trainer][INFO] - begin training epoch 5410\r\n",
      "[2021-06-09 17:06:34,835][fairseq_cli.train][INFO] - Start iterating over samples\r\n"
     ]
    },
    {
     "name": "stdout",
     "output_type": "stream",
     "text": [
      "[2021-06-09 17:10:27,463][fairseq_cli.train][INFO] - begin validation on \"valid\" subset\r\n"
     ]
    },
    {
     "name": "stdout",
     "output_type": "stream",
     "text": [
      "[2021-06-09 17:10:29,822][fairseq.tasks.unpaired_audio_text][INFO] - REF: ɛ n f œ ʂ ə n a d ɵ ʂ ə k t f øː r d eː t s ɔ m h ɛ n d ə p oː ɕ œ r k ɔ n s ɛ t ə n\r\n",
      "[2021-06-09 17:10:29,824][fairseq.tasks.unpaired_audio_text][INFO] - HYP: n ɪ s j œ r œ j uː œ yː k j ə ɡ f œ j m ə h œ k ə uː s eː r n v oː s ɪ ŋ k ɪ l s uː t a n t a\r\n",
      "[2021-06-09 17:10:29,828][fairseq.tasks.unpaired_audio_text][INFO] - LM [REF]: -53.44462585449219, 0.05339602260269112\r\n",
      "[2021-06-09 17:10:29,828][fairseq.tasks.unpaired_audio_text][INFO] - LM [HYP]: -80.55853271484375, 0.016211021587428247\r\n"
     ]
    },
    {
     "name": "stdout",
     "output_type": "stream",
     "text": [
      "[2021-06-09 17:10:30,319][valid][INFO] - {\"epoch\": 5410, \"valid_loss\": \"1\", \"valid_ntokens\": \"3039.79\", \"valid_nsentences\": \"144.214\", \"valid_lm_score_sum\": \"-89415.2\", \"valid_num_pred_chars\": \"48387\", \"valid_vocab_seen_pct\": \"0.891986\", \"valid_uer\": \"100.009\", \"valid_weighted_lm_ppl\": \"74.6764\", \"valid_lm_ppl\": \"59.4155\", \"valid_wps\": \"19349.7\", \"valid_wpb\": \"3039.8\", \"valid_bsz\": \"144.2\", \"valid_num_updates\": \"86560\", \"valid_best_weighted_lm_ppl\": \"73.0296\"}\r\n",
      "[2021-06-09 17:10:30,322][fairseq.checkpoint_utils][INFO] - Preparing to save checkpoint for epoch 5410 @ 86560 updates\r\n",
      "[2021-06-09 17:10:30,323][fairseq.trainer][INFO] - Saving checkpoint to /kaggle/working/checkpoint_last.pt\r\n"
     ]
    },
    {
     "name": "stdout",
     "output_type": "stream",
     "text": [
      "[2021-06-09 17:10:30,367][fairseq.trainer][INFO] - Finished saving checkpoint to /kaggle/working/checkpoint_last.pt\r\n",
      "[2021-06-09 17:10:30,368][fairseq.checkpoint_utils][INFO] - Saved checkpoint /kaggle/working/checkpoint_last.pt (epoch 5410 @ 86560 updates, score 74.67641092310485) (writing took 0.04543269400164718 seconds)\r\n",
      "[2021-06-09 17:10:30,368][fairseq_cli.train][INFO] - end of epoch 5410 (average epoch stats below)\r\n",
      "[2021-06-09 17:10:30,371][train][INFO] - {\"epoch\": 5410, \"train_loss\": \"3.516\", \"train_ntokens\": \"145.688\", \"train_nsentences\": \"145.688\", \"train_temp\": \"0.1\", \"train_code_ppl\": \"8.562\", \"train_loss_code_pen\": \"0.326\", \"train_loss_smoothness\": \"2.063\", \"train_loss_dense_g\": \"4.25\", \"train_lm_score_sum\": 0.0, \"train_num_pred_chars\": 0.0, \"train_loss_grad_pen\": \"0.106\", \"train_loss_dense_d\": \"0.025\", \"train_loss_token_d\": \"0.024\", \"train_wps\": \"9.9\", \"train_ups\": \"0.07\", \"train_wpb\": \"145.7\", \"train_bsz\": \"145.7\", \"train_num_updates\": \"86560\", \"train_lr_discriminator\": \"0.0005\", \"train_lr_generator\": \"0.0004\", \"train_gnorm\": \"33.451\", \"train_clip\": \"87.5\", \"train_train_wall\": \"232\", \"train_wall\": \"18617\"}\r\n"
     ]
    },
    {
     "name": "stdout",
     "output_type": "stream",
     "text": [
      "[2021-06-09 17:10:30,427][fairseq.trainer][INFO] - begin training epoch 5411\r\n",
      "[2021-06-09 17:10:30,428][fairseq_cli.train][INFO] - Start iterating over samples\r\n"
     ]
    },
    {
     "name": "stdout",
     "output_type": "stream",
     "text": [
      "[2021-06-09 17:14:48,344][fairseq_cli.train][INFO] - begin validation on \"valid\" subset\r\n"
     ]
    },
    {
     "name": "stdout",
     "output_type": "stream",
     "text": [
      "[2021-06-09 17:14:50,761][fairseq.tasks.unpaired_audio_text][INFO] - REF: ɛ n f œ ʂ ə n a d ɵ ʂ ə k t f øː r d eː t s ɔ m h ɛ n d ə p oː ɕ œ r k ɔ n s ɛ t ə n\r\n",
      "[2021-06-09 17:14:50,763][fairseq.tasks.unpaired_audio_text][INFO] - HYP: n ɪ s j œ r œ j uː œ yː k ə ɡ f œ v j m ə h œ k b ə uː s eː r n v oː s ɪ ŋ k ɪ l s uː t a n t a\r\n",
      "[2021-06-09 17:14:50,767][fairseq.tasks.unpaired_audio_text][INFO] - LM [REF]: -53.44462585449219, 0.05339602260269112\r\n",
      "[2021-06-09 17:14:50,768][fairseq.tasks.unpaired_audio_text][INFO] - LM [HYP]: -82.73239135742188, 0.015902659242061423\r\n"
     ]
    },
    {
     "name": "stdout",
     "output_type": "stream",
     "text": [
      "[2021-06-09 17:14:51,270][valid][INFO] - {\"epoch\": 5411, \"valid_loss\": \"1.001\", \"valid_ntokens\": \"3039.79\", \"valid_nsentences\": \"144.214\", \"valid_lm_score_sum\": \"-89743\", \"valid_num_pred_chars\": \"48510\", \"valid_vocab_seen_pct\": \"0.888502\", \"valid_uer\": \"100.073\", \"valid_weighted_lm_ppl\": \"75.6403\", \"valid_lm_ppl\": \"59.7131\", \"valid_wps\": \"18825.2\", \"valid_wpb\": \"3039.8\", \"valid_bsz\": \"144.2\", \"valid_num_updates\": \"86576\", \"valid_best_weighted_lm_ppl\": \"73.0296\"}\r\n",
      "[2021-06-09 17:14:51,273][fairseq.checkpoint_utils][INFO] - Preparing to save checkpoint for epoch 5411 @ 86576 updates\r\n",
      "[2021-06-09 17:14:51,274][fairseq.trainer][INFO] - Saving checkpoint to /kaggle/working/checkpoint_last.pt\r\n"
     ]
    },
    {
     "name": "stdout",
     "output_type": "stream",
     "text": [
      "[2021-06-09 17:14:51,318][fairseq.trainer][INFO] - Finished saving checkpoint to /kaggle/working/checkpoint_last.pt\r\n",
      "[2021-06-09 17:14:51,318][fairseq.checkpoint_utils][INFO] - Saved checkpoint /kaggle/working/checkpoint_last.pt (epoch 5411 @ 86576 updates, score 75.64026052447639) (writing took 0.04528128099991591 seconds)\r\n",
      "[2021-06-09 17:14:51,319][fairseq_cli.train][INFO] - end of epoch 5411 (average epoch stats below)\r\n",
      "[2021-06-09 17:14:51,322][train][INFO] - {\"epoch\": 5411, \"train_loss\": \"3.258\", \"train_ntokens\": \"145.688\", \"train_nsentences\": \"145.688\", \"train_temp\": \"0.1\", \"train_code_ppl\": \"8.557\", \"train_loss_code_pen\": \"0.33\", \"train_loss_smoothness\": \"2.065\", \"train_loss_dense_g\": \"4.25\", \"train_lm_score_sum\": 0.0, \"train_num_pred_chars\": 0.0, \"train_loss_grad_pen\": \"0.061\", \"train_loss_dense_d\": \"0.026\", \"train_loss_token_d\": \"0.023\", \"train_wps\": \"8.9\", \"train_ups\": \"0.06\", \"train_wpb\": \"145.7\", \"train_bsz\": \"145.7\", \"train_num_updates\": \"86576\", \"train_lr_discriminator\": \"0.0005\", \"train_lr_generator\": \"0.0004\", \"train_gnorm\": \"30.192\", \"train_clip\": \"75\", \"train_train_wall\": \"257\", \"train_wall\": \"18878\"}\r\n"
     ]
    },
    {
     "name": "stdout",
     "output_type": "stream",
     "text": [
      "[2021-06-09 17:14:51,378][fairseq.trainer][INFO] - begin training epoch 5412\r\n",
      "[2021-06-09 17:14:51,379][fairseq_cli.train][INFO] - Start iterating over samples\r\n"
     ]
    },
    {
     "name": "stdout",
     "output_type": "stream",
     "text": [
      "[2021-06-09 17:19:00,696][fairseq_cli.train][INFO] - begin validation on \"valid\" subset\r\n"
     ]
    },
    {
     "name": "stdout",
     "output_type": "stream",
     "text": [
      "[2021-06-09 17:19:03,099][fairseq.tasks.unpaired_audio_text][INFO] - REF: ɛ n f œ ʂ ə n a d ɵ ʂ ə k t f øː r d eː t s ɔ m h ɛ n d ə p oː ɕ œ r k ɔ n s ɛ t ə n\r\n",
      "[2021-06-09 17:19:03,102][fairseq.tasks.unpaired_audio_text][INFO] - HYP: n ɪ n s j œ r œ j uː œ yː k ə ɡ f œ v j m uː ə h œ k b ə uː s eː r n v oː s ɪ ŋ k ɪ l s uː t a n t a\r\n",
      "[2021-06-09 17:19:03,106][fairseq.tasks.unpaired_audio_text][INFO] - LM [REF]: -53.44462585449219, 0.05339602260269112\r\n",
      "[2021-06-09 17:19:03,106][fairseq.tasks.unpaired_audio_text][INFO] - LM [HYP]: -85.73602294921875, 0.016361866891336795\r\n"
     ]
    },
    {
     "name": "stdout",
     "output_type": "stream",
     "text": [
      "[2021-06-09 17:19:03,612][valid][INFO] - {\"epoch\": 5412, \"valid_loss\": \"0.999\", \"valid_ntokens\": \"3039.79\", \"valid_nsentences\": \"144.214\", \"valid_lm_score_sum\": \"-89438.5\", \"valid_num_pred_chars\": \"48262\", \"valid_vocab_seen_pct\": \"0.888502\", \"valid_uer\": \"99.9131\", \"valid_weighted_lm_ppl\": \"76.1128\", \"valid_lm_ppl\": \"60.0861\", \"valid_wps\": \"18835.8\", \"valid_wpb\": \"3039.8\", \"valid_bsz\": \"144.2\", \"valid_num_updates\": \"86592\", \"valid_best_weighted_lm_ppl\": \"73.0296\"}\r\n",
      "[2021-06-09 17:19:03,615][fairseq.checkpoint_utils][INFO] - Preparing to save checkpoint for epoch 5412 @ 86592 updates\r\n",
      "[2021-06-09 17:19:03,616][fairseq.trainer][INFO] - Saving checkpoint to /kaggle/working/checkpoint_last.pt\r\n"
     ]
    },
    {
     "name": "stdout",
     "output_type": "stream",
     "text": [
      "[2021-06-09 17:19:03,660][fairseq.trainer][INFO] - Finished saving checkpoint to /kaggle/working/checkpoint_last.pt\r\n",
      "[2021-06-09 17:19:03,660][fairseq.checkpoint_utils][INFO] - Saved checkpoint /kaggle/working/checkpoint_last.pt (epoch 5412 @ 86592 updates, score 76.1127873966706) (writing took 0.04515006699875812 seconds)\r\n",
      "[2021-06-09 17:19:03,661][fairseq_cli.train][INFO] - end of epoch 5412 (average epoch stats below)\r\n",
      "[2021-06-09 17:19:03,664][train][INFO] - {\"epoch\": 5412, \"train_loss\": \"3.276\", \"train_ntokens\": \"145.688\", \"train_nsentences\": \"145.688\", \"train_temp\": \"0.1\", \"train_code_ppl\": \"8.56\", \"train_loss_code_pen\": \"0.323\", \"train_loss_smoothness\": \"2.06\", \"train_loss_dense_g\": \"4.275\", \"train_lm_score_sum\": 0.0, \"train_num_pred_chars\": 0.0, \"train_loss_grad_pen\": \"0.084\", \"train_loss_dense_d\": \"0.023\", \"train_loss_token_d\": \"0.024\", \"train_wps\": \"9.2\", \"train_ups\": \"0.06\", \"train_wpb\": \"145.7\", \"train_bsz\": \"145.7\", \"train_num_updates\": \"86592\", \"train_lr_discriminator\": \"0.0005\", \"train_lr_generator\": \"0.0004\", \"train_gnorm\": \"30.544\", \"train_clip\": \"68.8\", \"train_train_wall\": \"249\", \"train_wall\": \"19130\"}\r\n"
     ]
    },
    {
     "name": "stdout",
     "output_type": "stream",
     "text": [
      "[2021-06-09 17:19:03,718][fairseq.trainer][INFO] - begin training epoch 5413\r\n",
      "[2021-06-09 17:19:03,719][fairseq_cli.train][INFO] - Start iterating over samples\r\n"
     ]
    },
    {
     "name": "stdout",
     "output_type": "stream",
     "text": [
      "[2021-06-09 17:21:05,940][train_inner][INFO] - {\"epoch\": 5413, \"update\": 5412.5, \"loss\": \"3.444\", \"ntokens\": \"145.54\", \"nsentences\": \"145.54\", \"temp\": \"0.1\", \"code_ppl\": \"8.566\", \"loss_code_pen\": \"0.32\", \"loss_smoothness\": \"2.052\", \"loss_dense_g\": \"4.227\", \"lm_score_sum\": 0.0, \"num_pred_chars\": 0.0, \"loss_grad_pen\": \"0.079\", \"loss_dense_d\": \"0.025\", \"loss_token_d\": \"0.025\", \"wps\": \"9.6\", \"ups\": \"0.07\", \"wpb\": \"145.5\", \"bsz\": \"145.5\", \"num_updates\": \"86600\", \"lr_discriminator\": \"0.0005\", \"lr_generator\": \"0.0004\", \"gnorm\": \"31.006\", \"clip\": \"76\", \"train_wall\": \"1499\", \"wall\": \"19252\"}\r\n"
     ]
    },
    {
     "name": "stdout",
     "output_type": "stream",
     "text": [
      "[2021-06-09 17:23:10,540][fairseq_cli.train][INFO] - begin validation on \"valid\" subset\r\n"
     ]
    },
    {
     "name": "stdout",
     "output_type": "stream",
     "text": [
      "[2021-06-09 17:23:13,002][fairseq.tasks.unpaired_audio_text][INFO] - REF: ɛ n f œ ʂ ə n a d ɵ ʂ ə k t f øː r d eː t s ɔ m h ɛ n d ə p oː ɕ œ r k ɔ n s ɛ t ə n\r\n",
      "[2021-06-09 17:23:13,004][fairseq.tasks.unpaired_audio_text][INFO] - HYP: n ɪ n s j œ r œ ʂ j uː œ yː k j ə ɡ f œ v j m uː ə h œ k b ə uː s eː r n v oː s ɪ ŋ k ɪ l s uː t a n t a\r\n",
      "[2021-06-09 17:23:13,008][fairseq.tasks.unpaired_audio_text][INFO] - LM [REF]: -53.44462585449219, 0.05339602260269112\r\n",
      "[2021-06-09 17:23:13,008][fairseq.tasks.unpaired_audio_text][INFO] - LM [HYP]: -90.38227844238281, 0.015572359857328005\r\n"
     ]
    },
    {
     "name": "stdout",
     "output_type": "stream",
     "text": [
      "[2021-06-09 17:23:13,511][valid][INFO] - {\"epoch\": 5413, \"valid_loss\": \"1.001\", \"valid_ntokens\": \"3039.79\", \"valid_nsentences\": \"144.214\", \"valid_lm_score_sum\": \"-89705.7\", \"valid_num_pred_chars\": \"48436\", \"valid_vocab_seen_pct\": \"0.893728\", \"valid_uer\": \"100.089\", \"valid_weighted_lm_ppl\": \"75.0798\", \"valid_lm_ppl\": \"59.97\", \"valid_wps\": \"18595.5\", \"valid_wpb\": \"3039.8\", \"valid_bsz\": \"144.2\", \"valid_num_updates\": \"86608\", \"valid_best_weighted_lm_ppl\": \"73.0296\"}\r\n",
      "[2021-06-09 17:23:13,514][fairseq.checkpoint_utils][INFO] - Preparing to save checkpoint for epoch 5413 @ 86608 updates\r\n",
      "[2021-06-09 17:23:13,515][fairseq.trainer][INFO] - Saving checkpoint to /kaggle/working/checkpoint_last.pt\r\n"
     ]
    },
    {
     "name": "stdout",
     "output_type": "stream",
     "text": [
      "[2021-06-09 17:23:13,560][fairseq.trainer][INFO] - Finished saving checkpoint to /kaggle/working/checkpoint_last.pt\r\n",
      "[2021-06-09 17:23:13,560][fairseq.checkpoint_utils][INFO] - Saved checkpoint /kaggle/working/checkpoint_last.pt (epoch 5413 @ 86608 updates, score 75.07978191758754) (writing took 0.046498862000589725 seconds)\r\n",
      "[2021-06-09 17:23:13,561][fairseq_cli.train][INFO] - end of epoch 5413 (average epoch stats below)\r\n",
      "[2021-06-09 17:23:13,563][train][INFO] - {\"epoch\": 5413, \"train_loss\": \"3.268\", \"train_ntokens\": \"145.688\", \"train_nsentences\": \"145.688\", \"train_temp\": \"0.1\", \"train_code_ppl\": \"8.716\", \"train_loss_code_pen\": \"0.322\", \"train_loss_smoothness\": \"2.067\", \"train_loss_dense_g\": \"4.277\", \"train_lm_score_sum\": 0.0, \"train_num_pred_chars\": 0.0, \"train_loss_grad_pen\": \"0.066\", \"train_loss_dense_d\": \"0.023\", \"train_loss_token_d\": \"0.022\", \"train_wps\": \"9.3\", \"train_ups\": \"0.06\", \"train_wpb\": \"145.7\", \"train_bsz\": \"145.7\", \"train_num_updates\": \"86608\", \"train_lr_discriminator\": \"0.0005\", \"train_lr_generator\": \"0.0004\", \"train_gnorm\": \"30.35\", \"train_clip\": \"68.8\", \"train_train_wall\": \"246\", \"train_wall\": \"19380\"}\r\n"
     ]
    },
    {
     "name": "stdout",
     "output_type": "stream",
     "text": [
      "[2021-06-09 17:23:13,618][fairseq.trainer][INFO] - begin training epoch 5414\r\n",
      "[2021-06-09 17:23:13,620][fairseq_cli.train][INFO] - Start iterating over samples\r\n"
     ]
    },
    {
     "name": "stdout",
     "output_type": "stream",
     "text": [
      "[2021-06-09 17:26:57,155][fairseq_cli.train][INFO] - begin validation on \"valid\" subset\r\n"
     ]
    },
    {
     "name": "stdout",
     "output_type": "stream",
     "text": [
      "[2021-06-09 17:26:59,572][fairseq.tasks.unpaired_audio_text][INFO] - REF: ɛ n f œ ʂ ə n a d ɵ ʂ ə k t f øː r d eː t s ɔ m h ɛ n d ə p oː ɕ œ r k ɔ n s ɛ t ə n\r\n",
      "[2021-06-09 17:26:59,574][fairseq.tasks.unpaired_audio_text][INFO] - HYP: n ɪ n s j œ r œ j uː œ yː k j ə ɡ f œ v j m ə h ɔ k b ə uː s eː r n v oː s ɪ ŋ k ɪ l s uː t a n t a\r\n",
      "[2021-06-09 17:26:59,578][fairseq.tasks.unpaired_audio_text][INFO] - LM [REF]: -53.44462585449219, 0.05339602260269112\r\n",
      "[2021-06-09 17:26:59,578][fairseq.tasks.unpaired_audio_text][INFO] - LM [HYP]: -84.42387390136719, 0.017424859850565917\r\n"
     ]
    },
    {
     "name": "stdout",
     "output_type": "stream",
     "text": [
      "[2021-06-09 17:27:00,075][valid][INFO] - {\"epoch\": 5414, \"valid_loss\": \"0.998\", \"valid_ntokens\": \"3039.79\", \"valid_nsentences\": \"144.214\", \"valid_lm_score_sum\": \"-89112.2\", \"valid_num_pred_chars\": \"48083\", \"valid_vocab_seen_pct\": \"0.888502\", \"valid_uer\": \"99.7697\", \"valid_weighted_lm_ppl\": \"76.0851\", \"valid_lm_ppl\": \"60.0643\", \"valid_wps\": \"18917.9\", \"valid_wpb\": \"3039.8\", \"valid_bsz\": \"144.2\", \"valid_num_updates\": \"86624\", \"valid_best_weighted_lm_ppl\": \"73.0296\"}\r\n",
      "[2021-06-09 17:27:00,078][fairseq.checkpoint_utils][INFO] - Preparing to save checkpoint for epoch 5414 @ 86624 updates\r\n",
      "[2021-06-09 17:27:00,079][fairseq.trainer][INFO] - Saving checkpoint to /kaggle/working/checkpoint_last.pt\r\n"
     ]
    },
    {
     "name": "stdout",
     "output_type": "stream",
     "text": [
      "[2021-06-09 17:27:00,125][fairseq.trainer][INFO] - Finished saving checkpoint to /kaggle/working/checkpoint_last.pt\r\n",
      "[2021-06-09 17:27:00,125][fairseq.checkpoint_utils][INFO] - Saved checkpoint /kaggle/working/checkpoint_last.pt (epoch 5414 @ 86624 updates, score 76.08511059737694) (writing took 0.04680510700200102 seconds)\r\n",
      "[2021-06-09 17:27:00,126][fairseq_cli.train][INFO] - end of epoch 5414 (average epoch stats below)\r\n",
      "[2021-06-09 17:27:00,128][train][INFO] - {\"epoch\": 5414, \"train_loss\": \"3.74\", \"train_ntokens\": \"145.688\", \"train_nsentences\": \"145.688\", \"train_temp\": \"0.1\", \"train_code_ppl\": \"8.697\", \"train_loss_code_pen\": \"0.334\", \"train_loss_smoothness\": \"2.081\", \"train_loss_dense_g\": \"4.177\", \"train_lm_score_sum\": 0.0, \"train_num_pred_chars\": 0.0, \"train_loss_grad_pen\": \"0.192\", \"train_loss_dense_d\": \"0.029\", \"train_loss_token_d\": \"0.046\", \"train_wps\": \"10.3\", \"train_ups\": \"0.07\", \"train_wpb\": \"145.7\", \"train_bsz\": \"145.7\", \"train_num_updates\": \"86624\", \"train_lr_discriminator\": \"0.0005\", \"train_lr_generator\": \"0.0004\", \"train_gnorm\": \"38.821\", \"train_clip\": \"87.5\", \"train_train_wall\": \"223\", \"train_wall\": \"19606\"}\r\n"
     ]
    },
    {
     "name": "stdout",
     "output_type": "stream",
     "text": [
      "[2021-06-09 17:27:00,185][fairseq.trainer][INFO] - begin training epoch 5415\r\n",
      "[2021-06-09 17:27:00,186][fairseq_cli.train][INFO] - Start iterating over samples\r\n"
     ]
    },
    {
     "name": "stdout",
     "output_type": "stream",
     "text": [
      "[2021-06-09 17:30:54,536][fairseq_cli.train][INFO] - begin validation on \"valid\" subset\r\n"
     ]
    },
    {
     "name": "stdout",
     "output_type": "stream",
     "text": [
      "[2021-06-09 17:30:56,934][fairseq.tasks.unpaired_audio_text][INFO] - REF: ɛ n f œ ʂ ə n a d ɵ ʂ ə k t f øː r d eː t s ɔ m h ɛ n d ə p oː ɕ œ r k ɔ n s ɛ t ə n\r\n",
      "[2021-06-09 17:30:56,937][fairseq.tasks.unpaired_audio_text][INFO] - HYP: n ɪ n s j œ r œ j uː œ yː k j ə ɡ f œ v j m ə h œ k b ə uː s eː r n v oː s oː ɪ ŋ k ɪ l s uː t a n t a\r\n",
      "[2021-06-09 17:30:56,941][fairseq.tasks.unpaired_audio_text][INFO] - LM [REF]: -53.44462585449219, 0.05339602260269112\r\n",
      "[2021-06-09 17:30:56,941][fairseq.tasks.unpaired_audio_text][INFO] - LM [HYP]: -88.92431640625, 0.015318563194293564\r\n"
     ]
    },
    {
     "name": "stdout",
     "output_type": "stream",
     "text": [
      "[2021-06-09 17:30:57,436][valid][INFO] - {\"epoch\": 5415, \"valid_loss\": \"0.999\", \"valid_ntokens\": \"3039.79\", \"valid_nsentences\": \"144.214\", \"valid_lm_score_sum\": \"-89354.1\", \"valid_num_pred_chars\": \"48276\", \"valid_vocab_seen_pct\": \"0.888502\", \"valid_uer\": \"99.9131\", \"valid_weighted_lm_ppl\": \"75.7327\", \"valid_lm_ppl\": \"59.7861\", \"valid_wps\": \"18918.1\", \"valid_wpb\": \"3039.8\", \"valid_bsz\": \"144.2\", \"valid_num_updates\": \"86640\", \"valid_best_weighted_lm_ppl\": \"73.0296\"}\r\n",
      "[2021-06-09 17:30:57,439][fairseq.checkpoint_utils][INFO] - Preparing to save checkpoint for epoch 5415 @ 86640 updates\r\n",
      "[2021-06-09 17:30:57,440][fairseq.trainer][INFO] - Saving checkpoint to /kaggle/working/checkpoint_last.pt\r\n"
     ]
    },
    {
     "name": "stdout",
     "output_type": "stream",
     "text": [
      "[2021-06-09 17:30:57,486][fairseq.trainer][INFO] - Finished saving checkpoint to /kaggle/working/checkpoint_last.pt\r\n",
      "[2021-06-09 17:30:57,486][fairseq.checkpoint_utils][INFO] - Saved checkpoint /kaggle/working/checkpoint_last.pt (epoch 5415 @ 86640 updates, score 75.73269663612452) (writing took 0.047447075998206856 seconds)\r\n",
      "[2021-06-09 17:30:57,487][fairseq_cli.train][INFO] - end of epoch 5415 (average epoch stats below)\r\n",
      "[2021-06-09 17:30:57,491][train][INFO] - {\"epoch\": 5415, \"train_loss\": \"3.386\", \"train_ntokens\": \"145.688\", \"train_nsentences\": \"145.688\", \"train_temp\": \"0.1\", \"train_code_ppl\": \"8.856\", \"train_loss_code_pen\": \"0.315\", \"train_loss_smoothness\": \"2.008\", \"train_loss_dense_g\": \"4.06\", \"train_lm_score_sum\": 0.0, \"train_num_pred_chars\": 0.0, \"train_loss_grad_pen\": \"0.091\", \"train_loss_dense_d\": \"0.036\", \"train_loss_token_d\": \"0.034\", \"train_wps\": \"9.8\", \"train_ups\": \"0.07\", \"train_wpb\": \"145.7\", \"train_bsz\": \"145.7\", \"train_num_updates\": \"86640\", \"train_lr_discriminator\": \"0.0005\", \"train_lr_generator\": \"0.0004\", \"train_gnorm\": \"31.635\", \"train_clip\": \"81.2\", \"train_train_wall\": \"234\", \"train_wall\": \"19844\"}\r\n"
     ]
    },
    {
     "name": "stdout",
     "output_type": "stream",
     "text": [
      "[2021-06-09 17:30:57,547][fairseq.trainer][INFO] - begin training epoch 5416\r\n",
      "[2021-06-09 17:30:57,548][fairseq_cli.train][INFO] - Start iterating over samples\r\n"
     ]
    },
    {
     "name": "stdout",
     "output_type": "stream",
     "text": [
      "[2021-06-09 17:34:45,286][fairseq_cli.train][INFO] - begin validation on \"valid\" subset\r\n"
     ]
    },
    {
     "name": "stdout",
     "output_type": "stream",
     "text": [
      "[2021-06-09 17:34:47,710][fairseq.tasks.unpaired_audio_text][INFO] - REF: ɛ n f œ ʂ ə n a d ɵ ʂ ə k t f øː r d eː t s ɔ m h ɛ n d ə p oː ɕ œ r k ɔ n s ɛ t ə n\r\n",
      "[2021-06-09 17:34:47,712][fairseq.tasks.unpaired_audio_text][INFO] - HYP: n ɪ n s j œ r œ j uː œ k j ə ɡ f œ v j m ə h ɔ k b ə uː s eː r n v oː s ɪ ŋ k ɪ l s uː t a n t a\r\n",
      "[2021-06-09 17:34:47,716][fairseq.tasks.unpaired_audio_text][INFO] - LM [REF]: -53.44462585449219, 0.05339602260269112\r\n",
      "[2021-06-09 17:34:47,716][fairseq.tasks.unpaired_audio_text][INFO] - LM [HYP]: -82.37248229980469, 0.017676407039376427\r\n"
     ]
    },
    {
     "name": "stdout",
     "output_type": "stream",
     "text": [
      "[2021-06-09 17:34:48,215][valid][INFO] - {\"epoch\": 5416, \"valid_loss\": \"0.999\", \"valid_ntokens\": \"3039.79\", \"valid_nsentences\": \"144.214\", \"valid_lm_score_sum\": \"-89412.5\", \"valid_num_pred_chars\": \"48323\", \"valid_vocab_seen_pct\": \"0.893728\", \"valid_uer\": \"99.9342\", \"valid_weighted_lm_ppl\": \"74.7635\", \"valid_lm_ppl\": \"59.7174\", \"valid_wps\": \"18749.8\", \"valid_wpb\": \"3039.8\", \"valid_bsz\": \"144.2\", \"valid_num_updates\": \"86656\", \"valid_best_weighted_lm_ppl\": \"73.0296\"}\r\n",
      "[2021-06-09 17:34:48,218][fairseq.checkpoint_utils][INFO] - Preparing to save checkpoint for epoch 5416 @ 86656 updates\r\n",
      "[2021-06-09 17:34:48,219][fairseq.trainer][INFO] - Saving checkpoint to /kaggle/working/checkpoint_last.pt\r\n"
     ]
    },
    {
     "name": "stdout",
     "output_type": "stream",
     "text": [
      "[2021-06-09 17:34:48,264][fairseq.trainer][INFO] - Finished saving checkpoint to /kaggle/working/checkpoint_last.pt\r\n",
      "[2021-06-09 17:34:48,264][fairseq.checkpoint_utils][INFO] - Saved checkpoint /kaggle/working/checkpoint_last.pt (epoch 5416 @ 86656 updates, score 74.76354790607485) (writing took 0.045971294999617385 seconds)\r\n",
      "[2021-06-09 17:34:48,265][fairseq_cli.train][INFO] - end of epoch 5416 (average epoch stats below)\r\n",
      "[2021-06-09 17:34:48,268][train][INFO] - {\"epoch\": 5416, \"train_loss\": \"3.678\", \"train_ntokens\": \"145.688\", \"train_nsentences\": \"145.688\", \"train_temp\": \"0.1\", \"train_code_ppl\": \"8.691\", \"train_loss_code_pen\": \"0.322\", \"train_loss_smoothness\": \"2.047\", \"train_loss_dense_g\": \"4.178\", \"train_lm_score_sum\": 0.0, \"train_num_pred_chars\": 0.0, \"train_loss_grad_pen\": \"0.13\", \"train_loss_dense_d\": \"0.026\", \"train_loss_token_d\": \"0.028\", \"train_wps\": \"10.1\", \"train_ups\": \"0.07\", \"train_wpb\": \"145.7\", \"train_bsz\": \"145.7\", \"train_num_updates\": \"86656\", \"train_lr_discriminator\": \"0.0005\", \"train_lr_generator\": \"0.0004\", \"train_gnorm\": \"31.075\", \"train_clip\": \"81.2\", \"train_train_wall\": \"227\", \"train_wall\": \"20075\"}\r\n"
     ]
    },
    {
     "name": "stdout",
     "output_type": "stream",
     "text": [
      "[2021-06-09 17:34:48,322][fairseq.trainer][INFO] - begin training epoch 5417\r\n",
      "[2021-06-09 17:34:48,324][fairseq_cli.train][INFO] - Start iterating over samples\r\n"
     ]
    },
    {
     "name": "stdout",
     "output_type": "stream",
     "text": [
      "[2021-06-09 17:38:44,350][fairseq_cli.train][INFO] - begin validation on \"valid\" subset\r\n"
     ]
    },
    {
     "name": "stdout",
     "output_type": "stream",
     "text": [
      "[2021-06-09 17:38:46,773][fairseq.tasks.unpaired_audio_text][INFO] - REF: ɛ n f œ ʂ ə n a d ɵ ʂ ə k t f øː r d eː t s ɔ m h ɛ n d ə p oː ɕ œ r k ɔ n s ɛ t ə n\r\n",
      "[2021-06-09 17:38:46,775][fairseq.tasks.unpaired_audio_text][INFO] - HYP: n ɪ n s j œ r œ j uː œ k ə ɡ f œ v j ə h ɔ k b ə uː s eː r n v oː s ɪ ŋ k ɪ l s uː t a n t a\r\n",
      "[2021-06-09 17:38:46,779][fairseq.tasks.unpaired_audio_text][INFO] - LM [REF]: -53.44462585449219, 0.05339602260269112\r\n",
      "[2021-06-09 17:38:46,779][fairseq.tasks.unpaired_audio_text][INFO] - LM [HYP]: -77.89979553222656, 0.018573486420928858\r\n"
     ]
    },
    {
     "name": "stdout",
     "output_type": "stream",
     "text": [
      "[2021-06-09 17:38:47,278][valid][INFO] - {\"epoch\": 5417, \"valid_loss\": \"1.001\", \"valid_ntokens\": \"3039.79\", \"valid_nsentences\": \"144.214\", \"valid_lm_score_sum\": \"-89489\", \"valid_num_pred_chars\": \"48402\", \"valid_vocab_seen_pct\": \"0.893728\", \"valid_uer\": \"100.063\", \"valid_weighted_lm_ppl\": \"74.546\", \"valid_lm_ppl\": \"59.5437\", \"valid_wps\": \"18727.9\", \"valid_wpb\": \"3039.8\", \"valid_bsz\": \"144.2\", \"valid_num_updates\": \"86672\", \"valid_best_weighted_lm_ppl\": \"73.0296\"}\r\n",
      "[2021-06-09 17:38:47,281][fairseq.checkpoint_utils][INFO] - Preparing to save checkpoint for epoch 5417 @ 86672 updates\r\n",
      "[2021-06-09 17:38:47,282][fairseq.trainer][INFO] - Saving checkpoint to /kaggle/working/checkpoint_last.pt\r\n"
     ]
    },
    {
     "name": "stdout",
     "output_type": "stream",
     "text": [
      "[2021-06-09 17:38:47,327][fairseq.trainer][INFO] - Finished saving checkpoint to /kaggle/working/checkpoint_last.pt\r\n",
      "[2021-06-09 17:38:47,327][fairseq.checkpoint_utils][INFO] - Saved checkpoint /kaggle/working/checkpoint_last.pt (epoch 5417 @ 86672 updates, score 74.54603556355083) (writing took 0.046647436000057496 seconds)\r\n",
      "[2021-06-09 17:38:47,328][fairseq_cli.train][INFO] - end of epoch 5417 (average epoch stats below)\r\n",
      "[2021-06-09 17:38:47,331][train][INFO] - {\"epoch\": 5417, \"train_loss\": \"3.668\", \"train_ntokens\": \"145.688\", \"train_nsentences\": \"145.688\", \"train_temp\": \"0.1\", \"train_code_ppl\": \"8.648\", \"train_loss_code_pen\": \"0.319\", \"train_loss_smoothness\": \"2.054\", \"train_loss_dense_g\": \"4.188\", \"train_lm_score_sum\": 0.0, \"train_num_pred_chars\": 0.0, \"train_loss_grad_pen\": \"0.082\", \"train_loss_dense_d\": \"0.029\", \"train_loss_token_d\": \"0.034\", \"train_wps\": \"9.8\", \"train_ups\": \"0.07\", \"train_wpb\": \"145.7\", \"train_bsz\": \"145.7\", \"train_num_updates\": \"86672\", \"train_lr_discriminator\": \"0.0005\", \"train_lr_generator\": \"0.0004\", \"train_gnorm\": \"32.144\", \"train_clip\": \"81.2\", \"train_train_wall\": \"236\", \"train_wall\": \"20314\"}\r\n"
     ]
    },
    {
     "name": "stdout",
     "output_type": "stream",
     "text": [
      "[2021-06-09 17:38:47,386][fairseq.trainer][INFO] - begin training epoch 5418\r\n",
      "[2021-06-09 17:38:47,388][fairseq_cli.train][INFO] - Start iterating over samples\r\n"
     ]
    },
    {
     "name": "stdout",
     "output_type": "stream",
     "text": [
      "[2021-06-09 17:43:05,002][fairseq_cli.train][INFO] - begin validation on \"valid\" subset\r\n"
     ]
    },
    {
     "name": "stdout",
     "output_type": "stream",
     "text": [
      "[2021-06-09 17:43:07,399][fairseq.tasks.unpaired_audio_text][INFO] - REF: ɛ n f œ ʂ ə n a d ɵ ʂ ə k t f øː r d eː t s ɔ m h ɛ n d ə p oː ɕ œ r k ɔ n s ɛ t ə n\r\n"
     ]
    },
    {
     "name": "stdout",
     "output_type": "stream",
     "text": [
      "[2021-06-09 17:43:07,402][fairseq.tasks.unpaired_audio_text][INFO] - HYP: n ɪ n s j œ r œ j uː œ yː k ə ɡ f œ v j ə h ɔ b ə uː s eː r n v oː s ɪ ŋ k ɪ l s uː t a n t a\r\n",
      "[2021-06-09 17:43:07,407][fairseq.tasks.unpaired_audio_text][INFO] - LM [REF]: -53.44462585449219, 0.05339602260269112\r\n",
      "[2021-06-09 17:43:07,408][fairseq.tasks.unpaired_audio_text][INFO] - LM [HYP]: -79.77813720703125, 0.016871453780283163\r\n"
     ]
    },
    {
     "name": "stdout",
     "output_type": "stream",
     "text": [
      "[2021-06-09 17:43:08,058][valid][INFO] - {\"epoch\": 5418, \"valid_loss\": \"0.997\", \"valid_ntokens\": \"3039.79\", \"valid_nsentences\": \"144.214\", \"valid_lm_score_sum\": \"-89051.4\", \"valid_num_pred_chars\": \"48145\", \"valid_vocab_seen_pct\": \"0.883275\", \"valid_uer\": \"99.7392\", \"valid_weighted_lm_ppl\": \"76.386\", \"valid_lm_ppl\": \"59.5944\", \"valid_wps\": \"17488\", \"valid_wpb\": \"3039.8\", \"valid_bsz\": \"144.2\", \"valid_num_updates\": \"86688\", \"valid_best_weighted_lm_ppl\": \"73.0296\"}\r\n",
      "[2021-06-09 17:43:08,063][fairseq.checkpoint_utils][INFO] - Preparing to save checkpoint for epoch 5418 @ 86688 updates\r\n",
      "[2021-06-09 17:43:08,064][fairseq.trainer][INFO] - Saving checkpoint to /kaggle/working/checkpoint_last.pt\r\n"
     ]
    },
    {
     "name": "stdout",
     "output_type": "stream",
     "text": [
      "[2021-06-09 17:43:08,112][fairseq.trainer][INFO] - Finished saving checkpoint to /kaggle/working/checkpoint_last.pt\r\n",
      "[2021-06-09 17:43:08,112][fairseq.checkpoint_utils][INFO] - Saved checkpoint /kaggle/working/checkpoint_last.pt (epoch 5418 @ 86688 updates, score 76.38598321618686) (writing took 0.049593204999837326 seconds)\r\n",
      "[2021-06-09 17:43:08,113][fairseq_cli.train][INFO] - end of epoch 5418 (average epoch stats below)\r\n",
      "[2021-06-09 17:43:08,116][train][INFO] - {\"epoch\": 5418, \"train_loss\": \"3.195\", \"train_ntokens\": \"145.688\", \"train_nsentences\": \"145.688\", \"train_temp\": \"0.1\", \"train_code_ppl\": \"8.667\", \"train_loss_code_pen\": \"0.33\", \"train_loss_smoothness\": \"2.079\", \"train_loss_dense_g\": \"4.095\", \"train_lm_score_sum\": 0.0, \"train_num_pred_chars\": 0.0, \"train_loss_grad_pen\": \"0.069\", \"train_loss_dense_d\": \"0.024\", \"train_loss_token_d\": \"0.025\", \"train_wps\": \"8.9\", \"train_ups\": \"0.06\", \"train_wpb\": \"145.7\", \"train_bsz\": \"145.7\", \"train_num_updates\": \"86688\", \"train_lr_discriminator\": \"0.0005\", \"train_lr_generator\": \"0.0004\", \"train_gnorm\": \"29.695\", \"train_clip\": \"68.8\", \"train_train_wall\": \"257\", \"train_wall\": \"20574\"}\r\n"
     ]
    },
    {
     "name": "stdout",
     "output_type": "stream",
     "text": [
      "[2021-06-09 17:43:08,179][fairseq.trainer][INFO] - begin training epoch 5419\r\n",
      "[2021-06-09 17:43:08,180][fairseq_cli.train][INFO] - Start iterating over samples\r\n"
     ]
    },
    {
     "name": "stdout",
     "output_type": "stream",
     "text": [
      "[2021-06-09 17:46:13,791][train_inner][INFO] - {\"epoch\": 5419, \"update\": 5418.75, \"loss\": \"3.436\", \"ntokens\": \"144.69\", \"nsentences\": \"144.69\", \"temp\": \"0.1\", \"code_ppl\": \"8.773\", \"loss_code_pen\": \"0.326\", \"loss_smoothness\": \"2.061\", \"loss_dense_g\": \"4.128\", \"lm_score_sum\": 0.0, \"num_pred_chars\": 0.0, \"loss_grad_pen\": \"0.104\", \"loss_dense_d\": \"0.028\", \"loss_token_d\": \"0.03\", \"wps\": \"9.6\", \"ups\": \"0.07\", \"wpb\": \"144.7\", \"bsz\": \"144.7\", \"num_updates\": \"86700\", \"lr_discriminator\": \"0.0005\", \"lr_generator\": \"0.0004\", \"gnorm\": \"32.23\", \"clip\": \"78\", \"train_wall\": \"1487\", \"wall\": \"20760\"}\r\n"
     ]
    },
    {
     "name": "stdout",
     "output_type": "stream",
     "text": [
      "[2021-06-09 17:47:20,126][fairseq_cli.train][INFO] - begin validation on \"valid\" subset\r\n"
     ]
    },
    {
     "name": "stdout",
     "output_type": "stream",
     "text": [
      "[2021-06-09 17:47:22,517][fairseq.tasks.unpaired_audio_text][INFO] - REF: ɛ n f œ ʂ ə n a d ɵ ʂ ə k t f øː r d eː t s ɔ m h ɛ n d ə p oː ɕ œ r k ɔ n s ɛ t ə n\r\n",
      "[2021-06-09 17:47:22,520][fairseq.tasks.unpaired_audio_text][INFO] - HYP: n ɪ n s j œ r œ j uː œ yː k ə ɡ f œ v j ə h ɔ k b ə uː s eː r n v oː s ɪ ŋ k ɪ l s uː k t a n t a\r\n",
      "[2021-06-09 17:47:22,524][fairseq.tasks.unpaired_audio_text][INFO] - LM [REF]: -53.44462585449219, 0.05339602260269112\r\n",
      "[2021-06-09 17:47:22,524][fairseq.tasks.unpaired_audio_text][INFO] - LM [HYP]: -82.00409698486328, 0.017998320413826204\r\n"
     ]
    },
    {
     "name": "stdout",
     "output_type": "stream",
     "text": [
      "[2021-06-09 17:47:23,027][valid][INFO] - {\"epoch\": 5419, \"valid_loss\": \"1\", \"valid_ntokens\": \"3039.79\", \"valid_nsentences\": \"144.214\", \"valid_lm_score_sum\": \"-89537\", \"valid_num_pred_chars\": \"48374\", \"valid_vocab_seen_pct\": \"0.890244\", \"valid_uer\": \"100.042\", \"valid_weighted_lm_ppl\": \"75.467\", \"valid_lm_ppl\": \"59.8102\", \"valid_wps\": \"18920\", \"valid_wpb\": \"3039.8\", \"valid_bsz\": \"144.2\", \"valid_num_updates\": \"86704\", \"valid_best_weighted_lm_ppl\": \"73.0296\"}\r\n",
      "[2021-06-09 17:47:23,029][fairseq.checkpoint_utils][INFO] - Preparing to save checkpoint for epoch 5419 @ 86704 updates\r\n",
      "[2021-06-09 17:47:23,031][fairseq.trainer][INFO] - Saving checkpoint to /kaggle/working/checkpoint_last.pt\r\n"
     ]
    },
    {
     "name": "stdout",
     "output_type": "stream",
     "text": [
      "[2021-06-09 17:47:23,075][fairseq.trainer][INFO] - Finished saving checkpoint to /kaggle/working/checkpoint_last.pt\r\n",
      "[2021-06-09 17:47:23,076][fairseq.checkpoint_utils][INFO] - Saved checkpoint /kaggle/working/checkpoint_last.pt (epoch 5419 @ 86704 updates, score 75.46699475013098) (writing took 0.0461271910025971 seconds)\r\n",
      "[2021-06-09 17:47:23,076][fairseq_cli.train][INFO] - end of epoch 5419 (average epoch stats below)\r\n",
      "[2021-06-09 17:47:23,078][train][INFO] - {\"epoch\": 5419, \"train_loss\": \"3.164\", \"train_ntokens\": \"145.688\", \"train_nsentences\": \"145.688\", \"train_temp\": \"0.1\", \"train_code_ppl\": \"8.771\", \"train_loss_code_pen\": \"0.341\", \"train_loss_smoothness\": \"2.098\", \"train_loss_dense_g\": \"4.004\", \"train_lm_score_sum\": 0.0, \"train_num_pred_chars\": 0.0, \"train_loss_grad_pen\": \"0.07\", \"train_loss_dense_d\": \"0.024\", \"train_loss_token_d\": \"0.022\", \"train_wps\": \"9.1\", \"train_ups\": \"0.06\", \"train_wpb\": \"145.7\", \"train_bsz\": \"145.7\", \"train_num_updates\": \"86704\", \"train_lr_discriminator\": \"0.0005\", \"train_lr_generator\": \"0.0004\", \"train_gnorm\": \"29.749\", \"train_clip\": \"68.8\", \"train_train_wall\": \"252\", \"train_wall\": \"20829\"}\r\n"
     ]
    },
    {
     "name": "stdout",
     "output_type": "stream",
     "text": [
      "[2021-06-09 17:47:23,135][fairseq.trainer][INFO] - begin training epoch 5420\r\n",
      "[2021-06-09 17:47:23,136][fairseq_cli.train][INFO] - Start iterating over samples\r\n"
     ]
    },
    {
     "name": "stdout",
     "output_type": "stream",
     "text": [
      "[2021-06-09 17:51:20,008][fairseq_cli.train][INFO] - begin validation on \"valid\" subset\r\n"
     ]
    },
    {
     "name": "stdout",
     "output_type": "stream",
     "text": [
      "[2021-06-09 17:51:22,468][fairseq.tasks.unpaired_audio_text][INFO] - REF: ɛ n f œ ʂ ə n a d ɵ ʂ ə k t f øː r d eː t s ɔ m h ɛ n d ə p oː ɕ œ r k ɔ n s ɛ t ə n\r\n",
      "[2021-06-09 17:51:22,471][fairseq.tasks.unpaired_audio_text][INFO] - HYP: n ɪ n s j œ r œ j uː œ k j ə ɡ f œ v j ə h ɔ k b ə uː s eː r n v oː s ɪ ŋ k ɪ l s uː k t a n t a\r\n",
      "[2021-06-09 17:51:22,475][fairseq.tasks.unpaired_audio_text][INFO] - LM [REF]: -53.44462585449219, 0.05339602260269112\r\n",
      "[2021-06-09 17:51:22,475][fairseq.tasks.unpaired_audio_text][INFO] - LM [HYP]: -82.29444122314453, 0.017744119027489725\r\n"
     ]
    },
    {
     "name": "stdout",
     "output_type": "stream",
     "text": [
      "[2021-06-09 17:51:22,967][valid][INFO] - {\"epoch\": 5420, \"valid_loss\": \"1\", \"valid_ntokens\": \"3039.79\", \"valid_nsentences\": \"144.214\", \"valid_lm_score_sum\": \"-89362.5\", \"valid_num_pred_chars\": \"48342\", \"valid_vocab_seen_pct\": \"0.883275\", \"valid_uer\": \"100.014\", \"valid_weighted_lm_ppl\": \"76.251\", \"valid_lm_ppl\": \"59.4891\", \"valid_wps\": \"18560.7\", \"valid_wpb\": \"3039.8\", \"valid_bsz\": \"144.2\", \"valid_num_updates\": \"86720\", \"valid_best_weighted_lm_ppl\": \"73.0296\"}\r\n",
      "[2021-06-09 17:51:22,970][fairseq.checkpoint_utils][INFO] - Preparing to save checkpoint for epoch 5420 @ 86720 updates\r\n",
      "[2021-06-09 17:51:22,971][fairseq.trainer][INFO] - Saving checkpoint to /kaggle/working/checkpoint_last.pt\r\n"
     ]
    },
    {
     "name": "stdout",
     "output_type": "stream",
     "text": [
      "[2021-06-09 17:51:23,015][fairseq.trainer][INFO] - Finished saving checkpoint to /kaggle/working/checkpoint_last.pt\r\n",
      "[2021-06-09 17:51:23,016][fairseq.checkpoint_utils][INFO] - Saved checkpoint /kaggle/working/checkpoint_last.pt (epoch 5420 @ 86720 updates, score 76.25100133602815) (writing took 0.045444528997904854 seconds)\r\n",
      "[2021-06-09 17:51:23,016][fairseq_cli.train][INFO] - end of epoch 5420 (average epoch stats below)\r\n",
      "[2021-06-09 17:51:23,019][train][INFO] - {\"epoch\": 5420, \"train_loss\": \"3.466\", \"train_ntokens\": \"145.688\", \"train_nsentences\": \"145.688\", \"train_temp\": \"0.1\", \"train_code_ppl\": \"8.827\", \"train_loss_code_pen\": \"0.323\", \"train_loss_smoothness\": \"2.049\", \"train_loss_dense_g\": \"4.218\", \"train_lm_score_sum\": 0.0, \"train_num_pred_chars\": 0.0, \"train_loss_grad_pen\": \"0.057\", \"train_loss_dense_d\": \"0.024\", \"train_loss_token_d\": \"0.024\", \"train_wps\": \"9.7\", \"train_ups\": \"0.07\", \"train_wpb\": \"145.7\", \"train_bsz\": \"145.7\", \"train_num_updates\": \"86720\", \"train_lr_discriminator\": \"0.0005\", \"train_lr_generator\": \"0.0004\", \"train_gnorm\": \"29.778\", \"train_clip\": \"68.8\", \"train_train_wall\": \"236\", \"train_wall\": \"21069\"}\r\n"
     ]
    },
    {
     "name": "stdout",
     "output_type": "stream",
     "text": [
      "[2021-06-09 17:51:23,074][fairseq.trainer][INFO] - begin training epoch 5421\r\n"
     ]
    },
    {
     "name": "stdout",
     "output_type": "stream",
     "text": [
      "[2021-06-09 17:51:23,075][fairseq_cli.train][INFO] - Start iterating over samples\r\n"
     ]
    },
    {
     "name": "stdout",
     "output_type": "stream",
     "text": [
      "[2021-06-09 17:55:52,131][fairseq_cli.train][INFO] - begin validation on \"valid\" subset\r\n"
     ]
    },
    {
     "name": "stdout",
     "output_type": "stream",
     "text": [
      "[2021-06-09 17:55:54,530][fairseq.tasks.unpaired_audio_text][INFO] - REF: ɛ n f œ ʂ ə n a d ɵ ʂ ə k t f øː r d eː t s ɔ m h ɛ n d ə p oː ɕ œ r k ɔ n s ɛ t ə n\r\n",
      "[2021-06-09 17:55:54,532][fairseq.tasks.unpaired_audio_text][INFO] - HYP: n ɪ s j œ f œ j uː œ yː k j ə ɡ f œ v j ə h ɔ k b ə uː s eː r n v oː s ɪ ŋ k ɪ l s uː k t a n t a\r\n",
      "[2021-06-09 17:55:54,536][fairseq.tasks.unpaired_audio_text][INFO] - LM [REF]: -53.44462585449219, 0.05339602260269112\r\n",
      "[2021-06-09 17:55:54,536][fairseq.tasks.unpaired_audio_text][INFO] - LM [HYP]: -83.8282241821289, 0.016459656291306732\r\n"
     ]
    },
    {
     "name": "stdout",
     "output_type": "stream",
     "text": [
      "[2021-06-09 17:55:55,030][valid][INFO] - {\"epoch\": 5421, \"valid_loss\": \"1\", \"valid_ntokens\": \"3039.79\", \"valid_nsentences\": \"144.214\", \"valid_lm_score_sum\": \"-89507.5\", \"valid_num_pred_chars\": \"48344\", \"valid_vocab_seen_pct\": \"0.890244\", \"valid_uer\": \"100.035\", \"valid_weighted_lm_ppl\": \"75.549\", \"valid_lm_ppl\": \"59.8751\", \"valid_wps\": \"19007.4\", \"valid_wpb\": \"3039.8\", \"valid_bsz\": \"144.2\", \"valid_num_updates\": \"86736\", \"valid_best_weighted_lm_ppl\": \"73.0296\"}\r\n"
     ]
    },
    {
     "name": "stdout",
     "output_type": "stream",
     "text": [
      "[2021-06-09 17:55:55,034][fairseq.checkpoint_utils][INFO] - Preparing to save checkpoint for epoch 5421 @ 86736 updates\r\n",
      "[2021-06-09 17:55:55,035][fairseq.trainer][INFO] - Saving checkpoint to /kaggle/working/checkpoint_last.pt\r\n",
      "[2021-06-09 17:55:55,079][fairseq.trainer][INFO] - Finished saving checkpoint to /kaggle/working/checkpoint_last.pt\r\n",
      "[2021-06-09 17:55:55,079][fairseq.checkpoint_utils][INFO] - Saved checkpoint /kaggle/working/checkpoint_last.pt (epoch 5421 @ 86736 updates, score 75.54895061409587) (writing took 0.04537312299726182 seconds)\r\n",
      "[2021-06-09 17:55:55,079][fairseq_cli.train][INFO] - end of epoch 5421 (average epoch stats below)\r\n",
      "[2021-06-09 17:55:55,082][train][INFO] - {\"epoch\": 5421, \"train_loss\": \"2.986\", \"train_ntokens\": \"145.688\", \"train_nsentences\": \"145.688\", \"train_temp\": \"0.1\", \"train_code_ppl\": \"8.582\", \"train_loss_code_pen\": \"0.323\", \"train_loss_smoothness\": \"2.014\", \"train_loss_dense_g\": \"4.142\", \"train_lm_score_sum\": 0.0, \"train_num_pred_chars\": 0.0, \"train_loss_grad_pen\": \"0.071\", \"train_loss_dense_d\": \"0.025\", \"train_loss_token_d\": \"0.022\", \"train_wps\": \"8.6\", \"train_ups\": \"0.06\", \"train_wpb\": \"145.7\", \"train_bsz\": \"145.7\", \"train_num_updates\": \"86736\", \"train_lr_discriminator\": \"0.0005\", \"train_lr_generator\": \"0.0004\", \"train_gnorm\": \"30.227\", \"train_clip\": \"68.8\", \"train_train_wall\": \"269\", \"train_wall\": \"21341\"}\r\n"
     ]
    },
    {
     "name": "stdout",
     "output_type": "stream",
     "text": [
      "[2021-06-09 17:55:55,138][fairseq.trainer][INFO] - begin training epoch 5422\r\n",
      "[2021-06-09 17:55:55,140][fairseq_cli.train][INFO] - Start iterating over samples\r\n"
     ]
    },
    {
     "name": "stdout",
     "output_type": "stream",
     "text": [
      "[2021-06-09 18:00:15,381][fairseq_cli.train][INFO] - begin validation on \"valid\" subset\r\n"
     ]
    },
    {
     "name": "stdout",
     "output_type": "stream",
     "text": [
      "[2021-06-09 18:00:17,796][fairseq.tasks.unpaired_audio_text][INFO] - REF: ɛ n f œ ʂ ə n a d ɵ ʂ ə k t f øː r d eː t s ɔ m h ɛ n d ə p oː ɕ œ r k ɔ n s ɛ t ə n\r\n",
      "[2021-06-09 18:00:17,798][fairseq.tasks.unpaired_audio_text][INFO] - HYP: n ɪ s j œ f œ j uː œ k j ə ɡ f œ v j m ə h ɔ k b ə uː s eː r n v oː s ɪ ŋ k ɪ l s uː k t a n t a\r\n"
     ]
    },
    {
     "name": "stdout",
     "output_type": "stream",
     "text": [
      "[2021-06-09 18:00:17,804][fairseq.tasks.unpaired_audio_text][INFO] - LM [REF]: -53.44462585449219, 0.05339602260269112\r\n",
      "[2021-06-09 18:00:17,804][fairseq.tasks.unpaired_audio_text][INFO] - LM [HYP]: -84.26831817626953, 0.01610857264865692\r\n"
     ]
    },
    {
     "name": "stdout",
     "output_type": "stream",
     "text": [
      "[2021-06-09 18:00:18,304][valid][INFO] - {\"epoch\": 5422, \"valid_loss\": \"1\", \"valid_ntokens\": \"3039.79\", \"valid_nsentences\": \"144.214\", \"valid_lm_score_sum\": \"-89669.6\", \"valid_num_pred_chars\": \"48410\", \"valid_vocab_seen_pct\": \"0.888502\", \"valid_uer\": \"100.035\", \"valid_weighted_lm_ppl\": \"76.0009\", \"valid_lm_ppl\": \"59.9978\", \"valid_wps\": \"18893\", \"valid_wpb\": \"3039.8\", \"valid_bsz\": \"144.2\", \"valid_num_updates\": \"86752\", \"valid_best_weighted_lm_ppl\": \"73.0296\"}\r\n",
      "[2021-06-09 18:00:18,307][fairseq.checkpoint_utils][INFO] - Preparing to save checkpoint for epoch 5422 @ 86752 updates\r\n",
      "[2021-06-09 18:00:18,308][fairseq.trainer][INFO] - Saving checkpoint to /kaggle/working/checkpoint_last.pt\r\n"
     ]
    },
    {
     "name": "stdout",
     "output_type": "stream",
     "text": [
      "[2021-06-09 18:00:18,352][fairseq.trainer][INFO] - Finished saving checkpoint to /kaggle/working/checkpoint_last.pt\r\n",
      "[2021-06-09 18:00:18,353][fairseq.checkpoint_utils][INFO] - Saved checkpoint /kaggle/working/checkpoint_last.pt (epoch 5422 @ 86752 updates, score 76.00089320618437) (writing took 0.04605766399981803 seconds)\r\n",
      "[2021-06-09 18:00:18,353][fairseq_cli.train][INFO] - end of epoch 5422 (average epoch stats below)\r\n",
      "[2021-06-09 18:00:18,356][train][INFO] - {\"epoch\": 5422, \"train_loss\": \"3.049\", \"train_ntokens\": \"145.688\", \"train_nsentences\": \"145.688\", \"train_temp\": \"0.1\", \"train_code_ppl\": \"8.451\", \"train_loss_code_pen\": \"0.313\", \"train_loss_smoothness\": \"2.008\", \"train_loss_dense_g\": \"4.215\", \"train_lm_score_sum\": 0.0, \"train_num_pred_chars\": 0.0, \"train_loss_grad_pen\": \"0.141\", \"train_loss_dense_d\": \"0.024\", \"train_loss_token_d\": \"0.021\", \"train_wps\": \"8.9\", \"train_ups\": \"0.06\", \"train_wpb\": \"145.7\", \"train_bsz\": \"145.7\", \"train_num_updates\": \"86752\", \"train_lr_discriminator\": \"0.0005\", \"train_lr_generator\": \"0.0004\", \"train_gnorm\": \"31.477\", \"train_clip\": \"75\", \"train_train_wall\": \"260\", \"train_wall\": \"21605\"}\r\n"
     ]
    },
    {
     "name": "stdout",
     "output_type": "stream",
     "text": [
      "[2021-06-09 18:00:18,412][fairseq.trainer][INFO] - begin training epoch 5423\r\n",
      "[2021-06-09 18:00:18,413][fairseq_cli.train][INFO] - Start iterating over samples\r\n"
     ]
    },
    {
     "name": "stdout",
     "output_type": "stream",
     "text": [
      "[2021-06-09 18:04:44,620][fairseq_cli.train][INFO] - begin validation on \"valid\" subset\r\n"
     ]
    },
    {
     "name": "stdout",
     "output_type": "stream",
     "text": [
      "[2021-06-09 18:04:47,006][fairseq.tasks.unpaired_audio_text][INFO] - REF: ɛ n f œ ʂ ə n a d ɵ ʂ ə k t f øː r d eː t s ɔ m h ɛ n d ə p oː ɕ œ r k ɔ n s ɛ t ə n\r\n",
      "[2021-06-09 18:04:47,008][fairseq.tasks.unpaired_audio_text][INFO] - HYP: n ɪ s j œ f œ j j uː œ yː k j ə ɡ f œ v j m ə h ɔ k b ə uː s eː r n v oː s ɪ ŋ k ɪ l s uː k t a t a\r\n",
      "[2021-06-09 18:04:47,012][fairseq.tasks.unpaired_audio_text][INFO] - LM [REF]: -53.44462585449219, 0.05339602260269112\r\n",
      "[2021-06-09 18:04:47,012][fairseq.tasks.unpaired_audio_text][INFO] - LM [HYP]: -87.00099182128906, 0.015398532608921477\r\n"
     ]
    },
    {
     "name": "stdout",
     "output_type": "stream",
     "text": [
      "[2021-06-09 18:04:47,506][valid][INFO] - {\"epoch\": 5423, \"valid_loss\": \"1\", \"valid_ntokens\": \"3039.79\", \"valid_nsentences\": \"144.214\", \"valid_lm_score_sum\": \"-89558.5\", \"valid_num_pred_chars\": \"48269\", \"valid_vocab_seen_pct\": \"0.890244\", \"valid_uer\": \"99.9859\", \"valid_weighted_lm_ppl\": \"76.1894\", \"valid_lm_ppl\": \"60.3827\", \"valid_wps\": \"19052.9\", \"valid_wpb\": \"3039.8\", \"valid_bsz\": \"144.2\", \"valid_num_updates\": \"86768\", \"valid_best_weighted_lm_ppl\": \"73.0296\"}\r\n",
      "[2021-06-09 18:04:47,510][fairseq.checkpoint_utils][INFO] - Preparing to save checkpoint for epoch 5423 @ 86768 updates\r\n",
      "[2021-06-09 18:04:47,511][fairseq.trainer][INFO] - Saving checkpoint to /kaggle/working/checkpoint_last.pt\r\n"
     ]
    },
    {
     "name": "stdout",
     "output_type": "stream",
     "text": [
      "[2021-06-09 18:04:47,554][fairseq.trainer][INFO] - Finished saving checkpoint to /kaggle/working/checkpoint_last.pt\r\n",
      "[2021-06-09 18:04:47,555][fairseq.checkpoint_utils][INFO] - Saved checkpoint /kaggle/working/checkpoint_last.pt (epoch 5423 @ 86768 updates, score 76.18944247245517) (writing took 0.04517279300125665 seconds)\r\n",
      "[2021-06-09 18:04:47,555][fairseq_cli.train][INFO] - end of epoch 5423 (average epoch stats below)\r\n",
      "[2021-06-09 18:04:47,559][train][INFO] - {\"epoch\": 5423, \"train_loss\": \"3.032\", \"train_ntokens\": \"145.688\", \"train_nsentences\": \"145.688\", \"train_temp\": \"0.1\", \"train_code_ppl\": \"8.613\", \"train_loss_code_pen\": \"0.317\", \"train_loss_smoothness\": \"2.002\", \"train_loss_dense_g\": \"4.252\", \"train_lm_score_sum\": 0.0, \"train_num_pred_chars\": 0.0, \"train_loss_grad_pen\": \"0.079\", \"train_loss_dense_d\": \"0.025\", \"train_loss_token_d\": \"0.024\", \"train_wps\": \"8.7\", \"train_ups\": \"0.06\", \"train_wpb\": \"145.7\", \"train_bsz\": \"145.7\", \"train_num_updates\": \"86768\", \"train_lr_discriminator\": \"0.0005\", \"train_lr_generator\": \"0.0004\", \"train_gnorm\": \"31.434\", \"train_clip\": \"68.8\", \"train_train_wall\": \"266\", \"train_wall\": \"21874\"}\r\n"
     ]
    },
    {
     "name": "stdout",
     "output_type": "stream",
     "text": [
      "[2021-06-09 18:04:47,615][fairseq.trainer][INFO] - begin training epoch 5424\r\n",
      "[2021-06-09 18:04:47,616][fairseq_cli.train][INFO] - Start iterating over samples\r\n"
     ]
    },
    {
     "name": "stdout",
     "output_type": "stream",
     "text": [
      "[2021-06-09 18:08:42,834][fairseq_cli.train][INFO] - begin validation on \"valid\" subset\r\n"
     ]
    },
    {
     "name": "stdout",
     "output_type": "stream",
     "text": [
      "[2021-06-09 18:08:45,243][fairseq.tasks.unpaired_audio_text][INFO] - REF: ɛ n f œ ʂ ə n a d ɵ ʂ ə k t f øː r d eː t s ɔ m h ɛ n d ə p oː ɕ œ r k ɔ n s ɛ t ə n\r\n",
      "[2021-06-09 18:08:45,245][fairseq.tasks.unpaired_audio_text][INFO] - HYP: n ɪ s j œ f œ j j uː œ yː k ə ɡ f œ v j ə h ɔ k b ə uː s eː r n v oː s ɪ ŋ k ɪ l s uː k t a n t a\r\n",
      "[2021-06-09 18:08:45,249][fairseq.tasks.unpaired_audio_text][INFO] - LM [REF]: -53.44462585449219, 0.05339602260269112\r\n",
      "[2021-06-09 18:08:45,250][fairseq.tasks.unpaired_audio_text][INFO] - LM [HYP]: -83.6980209350586, 0.016564984884850975\r\n"
     ]
    },
    {
     "name": "stdout",
     "output_type": "stream",
     "text": [
      "[2021-06-09 18:08:45,743][valid][INFO] - {\"epoch\": 5424, \"valid_loss\": \"1.001\", \"valid_ntokens\": \"3039.79\", \"valid_nsentences\": \"144.214\", \"valid_lm_score_sum\": \"-89679\", \"valid_num_pred_chars\": \"48450\", \"valid_vocab_seen_pct\": \"0.890244\", \"valid_uer\": \"100.117\", \"valid_weighted_lm_ppl\": \"75.4908\", \"valid_lm_ppl\": \"59.829\", \"valid_wps\": \"18820.5\", \"valid_wpb\": \"3039.8\", \"valid_bsz\": \"144.2\", \"valid_num_updates\": \"86784\", \"valid_best_weighted_lm_ppl\": \"73.0296\"}\r\n"
     ]
    },
    {
     "name": "stdout",
     "output_type": "stream",
     "text": [
      "[2021-06-09 18:08:45,747][fairseq.checkpoint_utils][INFO] - Preparing to save checkpoint for epoch 5424 @ 86784 updates\r\n",
      "[2021-06-09 18:08:45,748][fairseq.trainer][INFO] - Saving checkpoint to /kaggle/working/checkpoint_last.pt\r\n",
      "[2021-06-09 18:08:45,792][fairseq.trainer][INFO] - Finished saving checkpoint to /kaggle/working/checkpoint_last.pt\r\n",
      "[2021-06-09 18:08:45,792][fairseq.checkpoint_utils][INFO] - Saved checkpoint /kaggle/working/checkpoint_last.pt (epoch 5424 @ 86784 updates, score 75.49080080734493) (writing took 0.04523660300037591 seconds)\r\n",
      "[2021-06-09 18:08:45,792][fairseq_cli.train][INFO] - end of epoch 5424 (average epoch stats below)\r\n",
      "[2021-06-09 18:08:45,795][train][INFO] - {\"epoch\": 5424, \"train_loss\": \"3.535\", \"train_ntokens\": \"145.688\", \"train_nsentences\": \"145.688\", \"train_temp\": \"0.1\", \"train_code_ppl\": \"8.755\", \"train_loss_code_pen\": \"0.32\", \"train_loss_smoothness\": \"2.043\", \"train_loss_dense_g\": \"4.364\", \"train_lm_score_sum\": 0.0, \"train_num_pred_chars\": 0.0, \"train_loss_grad_pen\": \"0.054\", \"train_loss_dense_d\": \"0.024\", \"train_loss_token_d\": \"0.024\", \"train_wps\": \"9.8\", \"train_ups\": \"0.07\", \"train_wpb\": \"145.7\", \"train_bsz\": \"145.7\", \"train_num_updates\": \"86784\", \"train_lr_discriminator\": \"0.0005\", \"train_lr_generator\": \"0.0004\", \"train_gnorm\": \"30.572\", \"train_clip\": \"68.8\", \"train_train_wall\": \"235\", \"train_wall\": \"22112\"}\r\n"
     ]
    },
    {
     "name": "stdout",
     "output_type": "stream",
     "text": [
      "[2021-06-09 18:08:45,852][fairseq.trainer][INFO] - begin training epoch 5425\r\n",
      "[2021-06-09 18:08:45,854][fairseq_cli.train][INFO] - Start iterating over samples\r\n"
     ]
    },
    {
     "name": "stdout",
     "output_type": "stream",
     "text": [
      "[2021-06-09 18:12:25,900][train_inner][INFO] - {\"epoch\": 5425, \"update\": 5425.0, \"loss\": \"3.296\", \"ntokens\": \"146.26\", \"nsentences\": \"146.26\", \"temp\": \"0.1\", \"code_ppl\": \"8.637\", \"loss_code_pen\": \"0.319\", \"loss_smoothness\": \"2.033\", \"loss_dense_g\": \"4.235\", \"lm_score_sum\": 0.0, \"num_pred_chars\": 0.0, \"loss_grad_pen\": \"0.083\", \"loss_dense_d\": \"0.025\", \"loss_token_d\": \"0.024\", \"wps\": \"9.3\", \"ups\": \"0.06\", \"wpb\": \"146.3\", \"bsz\": \"146.3\", \"num_updates\": \"86800\", \"lr_discriminator\": \"0.0005\", \"lr_generator\": \"0.0004\", \"gnorm\": \"31.56\", \"clip\": \"72\", \"train_wall\": \"1551\", \"wall\": \"22332\"}\r\n",
      "[2021-06-09 18:12:25,902][fairseq_cli.train][INFO] - begin validation on \"valid\" subset\r\n"
     ]
    },
    {
     "name": "stdout",
     "output_type": "stream",
     "text": [
      "[2021-06-09 18:12:28,342][fairseq.tasks.unpaired_audio_text][INFO] - REF: ɛ n f œ ʂ ə n a d ɵ ʂ ə k t f øː r d eː t s ɔ m h ɛ n d ə p oː ɕ œ r k ɔ n s ɛ t ə n\r\n",
      "[2021-06-09 18:12:28,345][fairseq.tasks.unpaired_audio_text][INFO] - HYP: n ɪ s j œ r œ j uː œ yː k ə ɡ f œ v j m ə h ɔ k b ə uː s eː r n v oː s ɪ ŋ k ɪ l s uː k t a n t a\r\n",
      "[2021-06-09 18:12:28,349][fairseq.tasks.unpaired_audio_text][INFO] - LM [REF]: -53.44462585449219, 0.05339602260269112\r\n",
      "[2021-06-09 18:12:28,349][fairseq.tasks.unpaired_audio_text][INFO] - LM [HYP]: -83.30423736572266, 0.016887657707045606\r\n"
     ]
    },
    {
     "name": "stdout",
     "output_type": "stream",
     "text": [
      "[2021-06-09 18:12:28,848][valid][INFO] - {\"epoch\": 5425, \"valid_loss\": \"1.002\", \"valid_ntokens\": \"3039.79\", \"valid_nsentences\": \"144.214\", \"valid_lm_score_sum\": \"-89721.4\", \"valid_num_pred_chars\": \"48477\", \"valid_vocab_seen_pct\": \"0.88676\", \"valid_uer\": \"100.172\", \"valid_weighted_lm_ppl\": \"76.0658\", \"valid_lm_ppl\": \"59.8138\", \"valid_wps\": \"18614.9\", \"valid_wpb\": \"3039.8\", \"valid_bsz\": \"144.2\", \"valid_num_updates\": \"86800\", \"valid_best_weighted_lm_ppl\": \"73.0296\"}\r\n",
      "[2021-06-09 18:12:28,852][fairseq.checkpoint_utils][INFO] - Preparing to save checkpoint for epoch 5425 @ 86800 updates\r\n",
      "[2021-06-09 18:12:28,853][fairseq.trainer][INFO] - Saving checkpoint to /kaggle/working/checkpoint_last.pt\r\n"
     ]
    },
    {
     "name": "stdout",
     "output_type": "stream",
     "text": [
      "[2021-06-09 18:12:28,898][fairseq.trainer][INFO] - Finished saving checkpoint to /kaggle/working/checkpoint_last.pt\r\n",
      "[2021-06-09 18:12:28,898][fairseq.checkpoint_utils][INFO] - Saved checkpoint /kaggle/working/checkpoint_last.pt (epoch 5425 @ 86800 updates, score 76.06582328197307) (writing took 0.04629140999895753 seconds)\r\n",
      "[2021-06-09 18:12:28,898][fairseq_cli.train][INFO] - end of epoch 5425 (average epoch stats below)\r\n",
      "[2021-06-09 18:12:28,901][train][INFO] - {\"epoch\": 5425, \"train_loss\": \"3.706\", \"train_ntokens\": \"145.688\", \"train_nsentences\": \"145.688\", \"train_temp\": \"0.1\", \"train_code_ppl\": \"8.761\", \"train_loss_code_pen\": \"0.317\", \"train_loss_smoothness\": \"2.065\", \"train_loss_dense_g\": \"4.235\", \"train_lm_score_sum\": 0.0, \"train_num_pred_chars\": 0.0, \"train_loss_grad_pen\": \"0.104\", \"train_loss_dense_d\": \"0.027\", \"train_loss_token_d\": \"0.029\", \"train_wps\": \"10.4\", \"train_ups\": \"0.07\", \"train_wpb\": \"145.7\", \"train_bsz\": \"145.7\", \"train_num_updates\": \"86800\", \"train_lr_discriminator\": \"0.0005\", \"train_lr_generator\": \"0.0004\", \"train_gnorm\": \"36.595\", \"train_clip\": \"81.2\", \"train_train_wall\": \"220\", \"train_wall\": \"22335\"}\r\n"
     ]
    },
    {
     "name": "stdout",
     "output_type": "stream",
     "text": [
      "[2021-06-09 18:12:28,957][fairseq.trainer][INFO] - begin training epoch 5426\r\n",
      "[2021-06-09 18:12:28,958][fairseq_cli.train][INFO] - Start iterating over samples\r\n"
     ]
    },
    {
     "name": "stdout",
     "output_type": "stream",
     "text": [
      "[2021-06-09 18:16:35,003][fairseq_cli.train][INFO] - begin validation on \"valid\" subset\r\n"
     ]
    },
    {
     "name": "stdout",
     "output_type": "stream",
     "text": [
      "[2021-06-09 18:16:37,464][fairseq.tasks.unpaired_audio_text][INFO] - REF: ɛ n f œ ʂ ə n a d ɵ ʂ ə k t f øː r d eː t s ɔ m h ɛ n d ə p oː ɕ œ r k ɔ n s ɛ t ə n\r\n",
      "[2021-06-09 18:16:37,467][fairseq.tasks.unpaired_audio_text][INFO] - HYP: t ɪ n s j œ r œ j uː œ yː k ə ɡ f œ v j ə h ɔ k b ə uː s eː r n v oː s ɪ ŋ k ɪ l s uː k t a n t a\r\n"
     ]
    },
    {
     "name": "stdout",
     "output_type": "stream",
     "text": [
      "[2021-06-09 18:16:37,471][fairseq.tasks.unpaired_audio_text][INFO] - LM [REF]: -53.44462585449219, 0.05339602260269112\r\n",
      "[2021-06-09 18:16:37,471][fairseq.tasks.unpaired_audio_text][INFO] - LM [HYP]: -82.0809555053711, 0.017930677167385053\r\n"
     ]
    },
    {
     "name": "stdout",
     "output_type": "stream",
     "text": [
      "[2021-06-09 18:16:37,973][valid][INFO] - {\"epoch\": 5426, \"valid_loss\": \"1.002\", \"valid_ntokens\": \"3039.79\", \"valid_nsentences\": \"144.214\", \"valid_lm_score_sum\": \"-89656.3\", \"valid_num_pred_chars\": \"48441\", \"valid_vocab_seen_pct\": \"0.885017\", \"valid_uer\": \"100.172\", \"valid_weighted_lm_ppl\": \"76.3618\", \"valid_lm_ppl\": \"59.8108\", \"valid_wps\": \"18642.1\", \"valid_wpb\": \"3039.8\", \"valid_bsz\": \"144.2\", \"valid_num_updates\": \"86816\", \"valid_best_weighted_lm_ppl\": \"73.0296\"}\r\n",
      "[2021-06-09 18:16:37,977][fairseq.checkpoint_utils][INFO] - Preparing to save checkpoint for epoch 5426 @ 86816 updates\r\n",
      "[2021-06-09 18:16:37,978][fairseq.trainer][INFO] - Saving checkpoint to /kaggle/working/checkpoint_last.pt\r\n"
     ]
    },
    {
     "name": "stdout",
     "output_type": "stream",
     "text": [
      "[2021-06-09 18:16:38,024][fairseq.trainer][INFO] - Finished saving checkpoint to /kaggle/working/checkpoint_last.pt\r\n",
      "[2021-06-09 18:16:38,025][fairseq.checkpoint_utils][INFO] - Saved checkpoint /kaggle/working/checkpoint_last.pt (epoch 5426 @ 86816 updates, score 76.3617682424589) (writing took 0.04811463499936508 seconds)\r\n",
      "[2021-06-09 18:16:38,025][fairseq_cli.train][INFO] - end of epoch 5426 (average epoch stats below)\r\n",
      "[2021-06-09 18:16:38,028][train][INFO] - {\"epoch\": 5426, \"train_loss\": \"3.223\", \"train_ntokens\": \"145.688\", \"train_nsentences\": \"145.688\", \"train_temp\": \"0.1\", \"train_code_ppl\": \"8.766\", \"train_loss_code_pen\": \"0.322\", \"train_loss_smoothness\": \"2.072\", \"train_loss_dense_g\": \"4.196\", \"train_lm_score_sum\": 0.0, \"train_num_pred_chars\": 0.0, \"train_loss_grad_pen\": \"0.044\", \"train_loss_dense_d\": \"0.024\", \"train_loss_token_d\": \"0.025\", \"train_wps\": \"9.4\", \"train_ups\": \"0.06\", \"train_wpb\": \"145.7\", \"train_bsz\": \"145.7\", \"train_num_updates\": \"86816\", \"train_lr_discriminator\": \"0.0005\", \"train_lr_generator\": \"0.0004\", \"train_gnorm\": \"29.151\", \"train_clip\": \"56.2\", \"train_train_wall\": \"246\", \"train_wall\": \"22584\"}\r\n"
     ]
    },
    {
     "name": "stdout",
     "output_type": "stream",
     "text": [
      "[2021-06-09 18:16:38,087][fairseq.trainer][INFO] - begin training epoch 5427\r\n",
      "[2021-06-09 18:16:38,088][fairseq_cli.train][INFO] - Start iterating over samples\r\n"
     ]
    },
    {
     "name": "stdout",
     "output_type": "stream",
     "text": [
      "[2021-06-09 18:20:18,866][fairseq_cli.train][INFO] - begin validation on \"valid\" subset\r\n"
     ]
    },
    {
     "name": "stdout",
     "output_type": "stream",
     "text": [
      "[2021-06-09 18:20:21,438][fairseq.tasks.unpaired_audio_text][INFO] - REF: ɛ n f œ ʂ ə n a d ɵ ʂ ə k t f øː r d eː t s ɔ m h ɛ n d ə p oː ɕ œ r k ɔ n s ɛ t ə n\r\n",
      "[2021-06-09 18:20:21,440][fairseq.tasks.unpaired_audio_text][INFO] - HYP: t ɪ n s j œ r œ ʂ j uː œ yː k ə ɡ f œ v j ə h ɔ k b ə uː s eː r n v oː s ɪ ŋ k ɪ l s uː t a n t a\r\n"
     ]
    },
    {
     "name": "stdout",
     "output_type": "stream",
     "text": [
      "[2021-06-09 18:20:21,446][fairseq.tasks.unpaired_audio_text][INFO] - LM [REF]: -53.44462585449219, 0.05339602260269112\r\n",
      "[2021-06-09 18:20:21,446][fairseq.tasks.unpaired_audio_text][INFO] - LM [HYP]: -81.9720458984375, 0.018026603941671417\r\n"
     ]
    },
    {
     "name": "stdout",
     "output_type": "stream",
     "text": [
      "[2021-06-09 18:20:21,932][valid][INFO] - {\"epoch\": 5427, \"valid_loss\": \"1.002\", \"valid_ntokens\": \"3039.79\", \"valid_nsentences\": \"144.214\", \"valid_lm_score_sum\": \"-89721.8\", \"valid_num_pred_chars\": \"48506\", \"valid_vocab_seen_pct\": \"0.89547\", \"valid_uer\": \"100.204\", \"valid_weighted_lm_ppl\": \"74.4198\", \"valid_lm_ppl\": \"59.6748\", \"valid_wps\": \"17907.8\", \"valid_wpb\": \"3039.8\", \"valid_bsz\": \"144.2\", \"valid_num_updates\": \"86832\", \"valid_best_weighted_lm_ppl\": \"73.0296\"}\r\n",
      "[2021-06-09 18:20:21,935][fairseq.checkpoint_utils][INFO] - Preparing to save checkpoint for epoch 5427 @ 86832 updates\r\n",
      "[2021-06-09 18:20:21,936][fairseq.trainer][INFO] - Saving checkpoint to /kaggle/working/checkpoint_last.pt\r\n"
     ]
    },
    {
     "name": "stdout",
     "output_type": "stream",
     "text": [
      "[2021-06-09 18:20:21,981][fairseq.trainer][INFO] - Finished saving checkpoint to /kaggle/working/checkpoint_last.pt\r\n",
      "[2021-06-09 18:20:21,981][fairseq.checkpoint_utils][INFO] - Saved checkpoint /kaggle/working/checkpoint_last.pt (epoch 5427 @ 86832 updates, score 74.4198144672892) (writing took 0.04640361500059953 seconds)\r\n",
      "[2021-06-09 18:20:21,981][fairseq_cli.train][INFO] - end of epoch 5427 (average epoch stats below)\r\n",
      "[2021-06-09 18:20:21,984][train][INFO] - {\"epoch\": 5427, \"train_loss\": \"3.632\", \"train_ntokens\": \"145.688\", \"train_nsentences\": \"145.688\", \"train_temp\": \"0.1\", \"train_code_ppl\": \"8.699\", \"train_loss_code_pen\": \"0.32\", \"train_loss_smoothness\": \"2.068\", \"train_loss_dense_g\": \"4.123\", \"train_lm_score_sum\": 0.0, \"train_num_pred_chars\": 0.0, \"train_loss_grad_pen\": \"0.071\", \"train_loss_dense_d\": \"0.025\", \"train_loss_token_d\": \"0.029\", \"train_wps\": \"10.4\", \"train_ups\": \"0.07\", \"train_wpb\": \"145.7\", \"train_bsz\": \"145.7\", \"train_num_updates\": \"86832\", \"train_lr_discriminator\": \"0.0005\", \"train_lr_generator\": \"0.0004\", \"train_gnorm\": \"30.71\", \"train_clip\": \"81.2\", \"train_train_wall\": \"220\", \"train_wall\": \"22808\"}\r\n"
     ]
    },
    {
     "name": "stdout",
     "output_type": "stream",
     "text": [
      "[2021-06-09 18:20:22,041][fairseq.trainer][INFO] - begin training epoch 5428\r\n",
      "[2021-06-09 18:20:22,042][fairseq_cli.train][INFO] - Start iterating over samples\r\n"
     ]
    },
    {
     "name": "stdout",
     "output_type": "stream",
     "text": [
      "[2021-06-09 18:24:18,046][fairseq_cli.train][INFO] - begin validation on \"valid\" subset\r\n"
     ]
    },
    {
     "name": "stdout",
     "output_type": "stream",
     "text": [
      "[2021-06-09 18:24:20,446][fairseq.tasks.unpaired_audio_text][INFO] - REF: ɛ n f œ ʂ ə n a d ɵ ʂ ə k t f øː r d eː t s ɔ m h ɛ n d ə p oː ɕ œ r k ɔ n s ɛ t ə n\r\n",
      "[2021-06-09 18:24:20,448][fairseq.tasks.unpaired_audio_text][INFO] - HYP: t ɪ n s j œ r œ j uː œ yː k j ə ɡ f œ v j uː ə h ɔ k ə uː s eː r n v oː s ɪ ŋ k ɪ l s uː k t a n t a\r\n",
      "[2021-06-09 18:24:20,452][fairseq.tasks.unpaired_audio_text][INFO] - LM [REF]: -53.44462585449219, 0.05339602260269112\r\n",
      "[2021-06-09 18:24:20,452][fairseq.tasks.unpaired_audio_text][INFO] - LM [HYP]: -86.09265899658203, 0.016084328618145096\r\n"
     ]
    },
    {
     "name": "stdout",
     "output_type": "stream",
     "text": [
      "[2021-06-09 18:24:20,938][valid][INFO] - {\"epoch\": 5428, \"valid_loss\": \"1.001\", \"valid_ntokens\": \"3039.79\", \"valid_nsentences\": \"144.214\", \"valid_lm_score_sum\": \"-89444.8\", \"valid_num_pred_chars\": \"48388\", \"valid_vocab_seen_pct\": \"0.888502\", \"valid_uer\": \"100.063\", \"valid_weighted_lm_ppl\": \"75.359\", \"valid_lm_ppl\": \"59.4911\", \"valid_wps\": \"18968.6\", \"valid_wpb\": \"3039.8\", \"valid_bsz\": \"144.2\", \"valid_num_updates\": \"86848\", \"valid_best_weighted_lm_ppl\": \"73.0296\"}\r\n"
     ]
    },
    {
     "name": "stdout",
     "output_type": "stream",
     "text": [
      "[2021-06-09 18:24:20,941][fairseq.checkpoint_utils][INFO] - Preparing to save checkpoint for epoch 5428 @ 86848 updates\r\n",
      "[2021-06-09 18:24:20,942][fairseq.trainer][INFO] - Saving checkpoint to /kaggle/working/checkpoint_last.pt\r\n",
      "[2021-06-09 18:24:20,986][fairseq.trainer][INFO] - Finished saving checkpoint to /kaggle/working/checkpoint_last.pt\r\n",
      "[2021-06-09 18:24:20,987][fairseq.checkpoint_utils][INFO] - Saved checkpoint /kaggle/working/checkpoint_last.pt (epoch 5428 @ 86848 updates, score 75.35903472741047) (writing took 0.045446687003277475 seconds)\r\n",
      "[2021-06-09 18:24:20,987][fairseq_cli.train][INFO] - end of epoch 5428 (average epoch stats below)\r\n",
      "[2021-06-09 18:24:20,990][train][INFO] - {\"epoch\": 5428, \"train_loss\": \"3.402\", \"train_ntokens\": \"145.688\", \"train_nsentences\": \"145.688\", \"train_temp\": \"0.1\", \"train_code_ppl\": \"8.678\", \"train_loss_code_pen\": \"0.318\", \"train_loss_smoothness\": \"2.051\", \"train_loss_dense_g\": \"4.112\", \"train_lm_score_sum\": 0.0, \"train_num_pred_chars\": 0.0, \"train_loss_grad_pen\": \"0.046\", \"train_loss_dense_d\": \"0.024\", \"train_loss_token_d\": \"0.021\", \"train_wps\": \"9.8\", \"train_ups\": \"0.07\", \"train_wpb\": \"145.7\", \"train_bsz\": \"145.7\", \"train_num_updates\": \"86848\", \"train_lr_discriminator\": \"0.0005\", \"train_lr_generator\": \"0.0004\", \"train_gnorm\": \"29.169\", \"train_clip\": \"56.2\", \"train_train_wall\": \"236\", \"train_wall\": \"23047\"}\r\n"
     ]
    },
    {
     "name": "stdout",
     "output_type": "stream",
     "text": [
      "[2021-06-09 18:24:21,041][fairseq.trainer][INFO] - begin training epoch 5429\r\n"
     ]
    },
    {
     "name": "stdout",
     "output_type": "stream",
     "text": [
      "[2021-06-09 18:24:21,044][fairseq_cli.train][INFO] - Start iterating over samples\r\n"
     ]
    },
    {
     "name": "stdout",
     "output_type": "stream",
     "text": [
      "[2021-06-09 18:28:38,158][fairseq_cli.train][INFO] - begin validation on \"valid\" subset\r\n"
     ]
    },
    {
     "name": "stdout",
     "output_type": "stream",
     "text": [
      "[2021-06-09 18:28:40,624][fairseq.tasks.unpaired_audio_text][INFO] - REF: ɛ n f œ ʂ ə n a d ɵ ʂ ə k t f øː r d eː t s ɔ m h ɛ n d ə p oː ɕ œ r k ɔ n s ɛ t ə n\r\n",
      "[2021-06-09 18:28:40,626][fairseq.tasks.unpaired_audio_text][INFO] - HYP: t ɪ n s j œ r œ j uː œ yː k j ə ɡ f œ v j ə h ɔ k ə uː s eː r n v oː s ɪ ŋ k ɪ l s uː k t a n t a\r\n",
      "[2021-06-09 18:28:40,630][fairseq.tasks.unpaired_audio_text][INFO] - LM [REF]: -53.44462585449219, 0.05339602260269112\r\n",
      "[2021-06-09 18:28:40,630][fairseq.tasks.unpaired_audio_text][INFO] - LM [HYP]: -83.7490463256836, 0.01652362755395866\r\n"
     ]
    },
    {
     "name": "stdout",
     "output_type": "stream",
     "text": [
      "[2021-06-09 18:28:41,114][valid][INFO] - {\"epoch\": 5429, \"valid_loss\": \"0.998\", \"valid_ntokens\": \"3039.79\", \"valid_nsentences\": \"144.214\", \"valid_lm_score_sum\": \"-89295.3\", \"valid_num_pred_chars\": \"48116\", \"valid_vocab_seen_pct\": \"0.897213\", \"valid_uer\": \"99.805\", \"valid_weighted_lm_ppl\": \"75.0422\", \"valid_lm_ppl\": \"60.4083\", \"valid_wps\": \"18841.1\", \"valid_wpb\": \"3039.8\", \"valid_bsz\": \"144.2\", \"valid_num_updates\": \"86864\", \"valid_best_weighted_lm_ppl\": \"73.0296\"}\r\n"
     ]
    },
    {
     "name": "stdout",
     "output_type": "stream",
     "text": [
      "[2021-06-09 18:28:41,117][fairseq.checkpoint_utils][INFO] - Preparing to save checkpoint for epoch 5429 @ 86864 updates\r\n",
      "[2021-06-09 18:28:41,119][fairseq.trainer][INFO] - Saving checkpoint to /kaggle/working/checkpoint_last.pt\r\n",
      "[2021-06-09 18:28:41,163][fairseq.trainer][INFO] - Finished saving checkpoint to /kaggle/working/checkpoint_last.pt\r\n",
      "[2021-06-09 18:28:41,163][fairseq.checkpoint_utils][INFO] - Saved checkpoint /kaggle/working/checkpoint_last.pt (epoch 5429 @ 86864 updates, score 75.0422372207777) (writing took 0.04544557799817994 seconds)\r\n",
      "[2021-06-09 18:28:41,163][fairseq_cli.train][INFO] - end of epoch 5429 (average epoch stats below)\r\n",
      "[2021-06-09 18:28:41,166][train][INFO] - {\"epoch\": 5429, \"train_loss\": \"2.995\", \"train_ntokens\": \"145.688\", \"train_nsentences\": \"145.688\", \"train_temp\": \"0.1\", \"train_code_ppl\": \"8.756\", \"train_loss_code_pen\": \"0.34\", \"train_loss_smoothness\": \"2.103\", \"train_loss_dense_g\": \"4.064\", \"train_lm_score_sum\": 0.0, \"train_num_pred_chars\": 0.0, \"train_loss_grad_pen\": \"0.062\", \"train_loss_dense_d\": \"0.024\", \"train_loss_token_d\": \"0.024\", \"train_wps\": \"9\", \"train_ups\": \"0.06\", \"train_wpb\": \"145.7\", \"train_bsz\": \"145.7\", \"train_num_updates\": \"86864\", \"train_lr_discriminator\": \"0.0005\", \"train_lr_generator\": \"0.0004\", \"train_gnorm\": \"29.273\", \"train_clip\": \"62.5\", \"train_train_wall\": \"257\", \"train_wall\": \"23308\"}\r\n"
     ]
    },
    {
     "name": "stdout",
     "output_type": "stream",
     "text": [
      "[2021-06-09 18:28:41,222][fairseq.trainer][INFO] - begin training epoch 5430\r\n",
      "[2021-06-09 18:28:41,223][fairseq_cli.train][INFO] - Start iterating over samples\r\n"
     ]
    },
    {
     "name": "stdout",
     "output_type": "stream",
     "text": [
      "[2021-06-09 18:32:30,989][fairseq_cli.train][INFO] - begin validation on \"valid\" subset\r\n"
     ]
    },
    {
     "name": "stdout",
     "output_type": "stream",
     "text": [
      "[2021-06-09 18:32:33,374][fairseq.tasks.unpaired_audio_text][INFO] - REF: ɛ n f œ ʂ ə n a d ɵ ʂ ə k t f øː r d eː t s ɔ m h ɛ n d ə p oː ɕ œ r k ɔ n s ɛ t ə n\r\n",
      "[2021-06-09 18:32:33,377][fairseq.tasks.unpaired_audio_text][INFO] - HYP: t ɪ n s j œ r œ j uː œ k j ə ɡ f œ v j m uː ə h ɔ k b ə uː s eː r n v oː s ɪ ŋ k ɪ l s uː k t a n t a\r\n",
      "[2021-06-09 18:32:33,381][fairseq.tasks.unpaired_audio_text][INFO] - LM [REF]: -53.44462585449219, 0.05339602260269112\r\n",
      "[2021-06-09 18:32:33,381][fairseq.tasks.unpaired_audio_text][INFO] - LM [HYP]: -86.67505645751953, 0.017026339811423288\r\n"
     ]
    },
    {
     "name": "stdout",
     "output_type": "stream",
     "text": [
      "[2021-06-09 18:32:33,879][valid][INFO] - {\"epoch\": 5430, \"valid_loss\": \"1\", \"valid_ntokens\": \"3039.79\", \"valid_nsentences\": \"144.214\", \"valid_lm_score_sum\": \"-89446.6\", \"valid_num_pred_chars\": \"48354\", \"valid_vocab_seen_pct\": \"0.890244\", \"valid_uer\": \"100.035\", \"valid_weighted_lm_ppl\": \"75.2778\", \"valid_lm_ppl\": \"59.6602\", \"valid_wps\": \"18967.2\", \"valid_wpb\": \"3039.8\", \"valid_bsz\": \"144.2\", \"valid_num_updates\": \"86880\", \"valid_best_weighted_lm_ppl\": \"73.0296\"}\r\n",
      "[2021-06-09 18:32:33,882][fairseq.checkpoint_utils][INFO] - Preparing to save checkpoint for epoch 5430 @ 86880 updates\r\n",
      "[2021-06-09 18:32:33,883][fairseq.trainer][INFO] - Saving checkpoint to /kaggle/working/checkpoint_last.pt\r\n"
     ]
    },
    {
     "name": "stdout",
     "output_type": "stream",
     "text": [
      "[2021-06-09 18:32:33,928][fairseq.trainer][INFO] - Finished saving checkpoint to /kaggle/working/checkpoint_last.pt\r\n",
      "[2021-06-09 18:32:33,928][fairseq.checkpoint_utils][INFO] - Saved checkpoint /kaggle/working/checkpoint_last.pt (epoch 5430 @ 86880 updates, score 75.27777468522473) (writing took 0.046009671001229435 seconds)\r\n",
      "[2021-06-09 18:32:33,929][fairseq_cli.train][INFO] - end of epoch 5430 (average epoch stats below)\r\n",
      "[2021-06-09 18:32:33,931][train][INFO] - {\"epoch\": 5430, \"train_loss\": \"3.806\", \"train_ntokens\": \"145.688\", \"train_nsentences\": \"145.688\", \"train_temp\": \"0.1\", \"train_code_ppl\": \"8.852\", \"train_loss_code_pen\": \"0.328\", \"train_loss_smoothness\": \"2.099\", \"train_loss_dense_g\": \"4.404\", \"train_lm_score_sum\": 0.0, \"train_num_pred_chars\": 0.0, \"train_loss_grad_pen\": \"0.072\", \"train_loss_dense_d\": \"0.023\", \"train_loss_token_d\": \"0.027\", \"train_wps\": \"10\", \"train_ups\": \"0.07\", \"train_wpb\": \"145.7\", \"train_bsz\": \"145.7\", \"train_num_updates\": \"86880\", \"train_lr_discriminator\": \"0.0005\", \"train_lr_generator\": \"0.0004\", \"train_gnorm\": \"30.088\", \"train_clip\": \"75\", \"train_train_wall\": \"229\", \"train_wall\": \"23540\"}\r\n"
     ]
    },
    {
     "name": "stdout",
     "output_type": "stream",
     "text": [
      "[2021-06-09 18:32:33,984][fairseq.trainer][INFO] - begin training epoch 5431\r\n",
      "[2021-06-09 18:32:33,985][fairseq_cli.train][INFO] - Start iterating over samples\r\n"
     ]
    },
    {
     "name": "stdout",
     "output_type": "stream",
     "text": [
      "[2021-06-09 18:36:57,061][fairseq_cli.train][INFO] - begin validation on \"valid\" subset\r\n"
     ]
    },
    {
     "name": "stdout",
     "output_type": "stream",
     "text": [
      "[2021-06-09 18:36:59,461][fairseq.tasks.unpaired_audio_text][INFO] - REF: ɛ n f œ ʂ ə n a d ɵ ʂ ə k t f øː r d eː t s ɔ m h ɛ n d ə p oː ɕ œ r k ɔ n s ɛ t ə n\r\n",
      "[2021-06-09 18:36:59,464][fairseq.tasks.unpaired_audio_text][INFO] - HYP: t ɪ n s j œ r œ ʂ j uː œ yː k j ə ɡ f œ v j uː ə h ɔ k ə uː s eː r n v oː s ɪ ŋ k ɪ l s uː k t a n t a\r\n",
      "[2021-06-09 18:36:59,468][fairseq.tasks.unpaired_audio_text][INFO] - LM [REF]: -53.44462585449219, 0.05339602260269112\r\n",
      "[2021-06-09 18:36:59,468][fairseq.tasks.unpaired_audio_text][INFO] - LM [HYP]: -88.3971939086914, 0.0157027470379976\r\n"
     ]
    },
    {
     "name": "stdout",
     "output_type": "stream",
     "text": [
      "[2021-06-09 18:36:59,961][valid][INFO] - {\"epoch\": 5431, \"valid_loss\": \"1\", \"valid_ntokens\": \"3039.79\", \"valid_nsentences\": \"144.214\", \"valid_lm_score_sum\": \"-89367.7\", \"valid_num_pred_chars\": \"48311\", \"valid_vocab_seen_pct\": \"0.891986\", \"valid_uer\": \"99.9859\", \"valid_weighted_lm_ppl\": \"74.9753\", \"valid_lm_ppl\": \"59.6533\", \"valid_wps\": \"19083\", \"valid_wpb\": \"3039.8\", \"valid_bsz\": \"144.2\", \"valid_num_updates\": \"86896\", \"valid_best_weighted_lm_ppl\": \"73.0296\"}\r\n",
      "[2021-06-09 18:36:59,964][fairseq.checkpoint_utils][INFO] - Preparing to save checkpoint for epoch 5431 @ 86896 updates\r\n",
      "[2021-06-09 18:36:59,965][fairseq.trainer][INFO] - Saving checkpoint to /kaggle/working/checkpoint_last.pt\r\n"
     ]
    },
    {
     "name": "stdout",
     "output_type": "stream",
     "text": [
      "[2021-06-09 18:37:00,010][fairseq.trainer][INFO] - Finished saving checkpoint to /kaggle/working/checkpoint_last.pt\r\n",
      "[2021-06-09 18:37:00,011][fairseq.checkpoint_utils][INFO] - Saved checkpoint /kaggle/working/checkpoint_last.pt (epoch 5431 @ 86896 updates, score 74.975301816557) (writing took 0.0466684120001446 seconds)\r\n",
      "[2021-06-09 18:37:00,011][fairseq_cli.train][INFO] - end of epoch 5431 (average epoch stats below)\r\n",
      "[2021-06-09 18:37:00,014][train][INFO] - {\"epoch\": 5431, \"train_loss\": \"3.083\", \"train_ntokens\": \"145.688\", \"train_nsentences\": \"145.688\", \"train_temp\": \"0.1\", \"train_code_ppl\": \"8.59\", \"train_loss_code_pen\": \"0.318\", \"train_loss_smoothness\": \"2.037\", \"train_loss_dense_g\": \"4.315\", \"train_lm_score_sum\": 0.0, \"train_num_pred_chars\": 0.0, \"train_loss_grad_pen\": \"0.093\", \"train_loss_dense_d\": \"0.023\", \"train_loss_token_d\": \"0.022\", \"train_wps\": \"8.8\", \"train_ups\": \"0.06\", \"train_wpb\": \"145.7\", \"train_bsz\": \"145.7\", \"train_num_updates\": \"86896\", \"train_lr_discriminator\": \"0.0005\", \"train_lr_generator\": \"0.0004\", \"train_gnorm\": \"30.891\", \"train_clip\": \"68.8\", \"train_train_wall\": \"263\", \"train_wall\": \"23806\"}\r\n"
     ]
    },
    {
     "name": "stdout",
     "output_type": "stream",
     "text": [
      "[2021-06-09 18:37:00,070][fairseq.trainer][INFO] - begin training epoch 5432\r\n",
      "[2021-06-09 18:37:00,072][fairseq_cli.train][INFO] - Start iterating over samples\r\n"
     ]
    },
    {
     "name": "stdout",
     "output_type": "stream",
     "text": [
      "[2021-06-09 18:38:05,194][train_inner][INFO] - {\"epoch\": 5432, \"update\": 5431.25, \"loss\": \"3.328\", \"ntokens\": \"144.69\", \"nsentences\": \"144.69\", \"temp\": \"0.1\", \"code_ppl\": \"8.753\", \"loss_code_pen\": \"0.325\", \"loss_smoothness\": \"2.073\", \"loss_dense_g\": \"4.217\", \"lm_score_sum\": 0.0, \"num_pred_chars\": 0.0, \"loss_grad_pen\": \"0.064\", \"loss_dense_d\": \"0.024\", \"loss_token_d\": \"0.024\", \"wps\": \"9.4\", \"ups\": \"0.06\", \"wpb\": \"144.7\", \"bsz\": \"144.7\", \"num_updates\": \"86900\", \"lr_discriminator\": \"0.0005\", \"lr_generator\": \"0.0004\", \"gnorm\": \"29.93\", \"clip\": \"66\", \"train_wall\": \"1515\", \"wall\": \"23872\"}\r\n"
     ]
    },
    {
     "name": "stdout",
     "output_type": "stream",
     "text": [
      "[2021-06-09 18:41:21,391][fairseq_cli.train][INFO] - begin validation on \"valid\" subset\r\n"
     ]
    },
    {
     "name": "stdout",
     "output_type": "stream",
     "text": [
      "[2021-06-09 18:41:23,789][fairseq.tasks.unpaired_audio_text][INFO] - REF: ɛ n f œ ʂ ə n a d ɵ ʂ ə k t f øː r d eː t s ɔ m h ɛ n d ə p oː ɕ œ r k ɔ n s ɛ t ə n\r\n"
     ]
    },
    {
     "name": "stdout",
     "output_type": "stream",
     "text": [
      "[2021-06-09 18:41:23,792][fairseq.tasks.unpaired_audio_text][INFO] - HYP: t ɪ n s j œ r œ j uː œ k j ə ɡ f œ v j ə h ɔ k ə uː s eː r n v oː s ɪ ŋ k ɪ l s uː k t a n t a\r\n",
      "[2021-06-09 18:41:23,797][fairseq.tasks.unpaired_audio_text][INFO] - LM [REF]: -53.44462585449219, 0.05339602260269112\r\n",
      "[2021-06-09 18:41:23,797][fairseq.tasks.unpaired_audio_text][INFO] - LM [HYP]: -81.6976547241211, 0.01674804147597283\r\n"
     ]
    },
    {
     "name": "stdout",
     "output_type": "stream",
     "text": [
      "[2021-06-09 18:41:24,290][valid][INFO] - {\"epoch\": 5432, \"valid_loss\": \"0.999\", \"valid_ntokens\": \"3039.79\", \"valid_nsentences\": \"144.214\", \"valid_lm_score_sum\": \"-89331.9\", \"valid_num_pred_chars\": \"48208\", \"valid_vocab_seen_pct\": \"0.890244\", \"valid_uer\": \"99.9389\", \"valid_weighted_lm_ppl\": \"75.7783\", \"valid_lm_ppl\": \"60.0569\", \"valid_wps\": \"19031.9\", \"valid_wpb\": \"3039.8\", \"valid_bsz\": \"144.2\", \"valid_num_updates\": \"86912\", \"valid_best_weighted_lm_ppl\": \"73.0296\"}\r\n",
      "[2021-06-09 18:41:24,293][fairseq.checkpoint_utils][INFO] - Preparing to save checkpoint for epoch 5432 @ 86912 updates\r\n",
      "[2021-06-09 18:41:24,294][fairseq.trainer][INFO] - Saving checkpoint to /kaggle/working/checkpoint_last.pt\r\n"
     ]
    },
    {
     "name": "stdout",
     "output_type": "stream",
     "text": [
      "[2021-06-09 18:41:24,342][fairseq.trainer][INFO] - Finished saving checkpoint to /kaggle/working/checkpoint_last.pt\r\n",
      "[2021-06-09 18:41:24,342][fairseq.checkpoint_utils][INFO] - Saved checkpoint /kaggle/working/checkpoint_last.pt (epoch 5432 @ 86912 updates, score 75.77833709775143) (writing took 0.04949146100261714 seconds)\r\n",
      "[2021-06-09 18:41:24,343][fairseq_cli.train][INFO] - end of epoch 5432 (average epoch stats below)\r\n",
      "[2021-06-09 18:41:24,345][train][INFO] - {\"epoch\": 5432, \"train_loss\": \"3.127\", \"train_ntokens\": \"145.688\", \"train_nsentences\": \"145.688\", \"train_temp\": \"0.1\", \"train_code_ppl\": \"8.662\", \"train_loss_code_pen\": \"0.329\", \"train_loss_smoothness\": \"2.071\", \"train_loss_dense_g\": \"4.418\", \"train_lm_score_sum\": 0.0, \"train_num_pred_chars\": 0.0, \"train_loss_grad_pen\": \"0.053\", \"train_loss_dense_d\": \"0.023\", \"train_loss_token_d\": \"0.021\", \"train_wps\": \"8.8\", \"train_ups\": \"0.06\", \"train_wpb\": \"145.7\", \"train_bsz\": \"145.7\", \"train_num_updates\": \"86912\", \"train_lr_discriminator\": \"0.0005\", \"train_lr_generator\": \"0.0004\", \"train_gnorm\": \"29.86\", \"train_clip\": \"56.2\", \"train_train_wall\": \"261\", \"train_wall\": \"24071\"}\r\n"
     ]
    },
    {
     "name": "stdout",
     "output_type": "stream",
     "text": [
      "[2021-06-09 18:41:24,400][fairseq.trainer][INFO] - begin training epoch 5433\r\n",
      "[2021-06-09 18:41:24,401][fairseq_cli.train][INFO] - Start iterating over samples\r\n"
     ]
    },
    {
     "name": "stdout",
     "output_type": "stream",
     "text": [
      "[2021-06-09 18:45:21,068][fairseq_cli.train][INFO] - begin validation on \"valid\" subset\r\n"
     ]
    },
    {
     "name": "stdout",
     "output_type": "stream",
     "text": [
      "[2021-06-09 18:45:23,445][fairseq.tasks.unpaired_audio_text][INFO] - REF: ɛ n f œ ʂ ə n a d ɵ ʂ ə k t f øː r d eː t s ɔ m h ɛ n d ə p oː ɕ œ r k ɔ n s ɛ t ə n\r\n",
      "[2021-06-09 18:45:23,447][fairseq.tasks.unpaired_audio_text][INFO] - HYP: t ɪ n s j œ r œ j uː œ k j ə ɡ f œ v j m ə h ɔ k ə uː s eː r n v oː s ɪ ŋ k ɪ l s uː k t a n t a\r\n",
      "[2021-06-09 18:45:23,451][fairseq.tasks.unpaired_audio_text][INFO] - LM [REF]: -53.44462585449219, 0.05339602260269112\r\n",
      "[2021-06-09 18:45:23,452][fairseq.tasks.unpaired_audio_text][INFO] - LM [HYP]: -84.18914031982422, 0.016171179407486934\r\n"
     ]
    },
    {
     "name": "stdout",
     "output_type": "stream",
     "text": [
      "[2021-06-09 18:45:23,943][valid][INFO] - {\"epoch\": 5433, \"valid_loss\": \"0.999\", \"valid_ntokens\": \"3039.79\", \"valid_nsentences\": \"144.214\", \"valid_lm_score_sum\": \"-89241.1\", \"valid_num_pred_chars\": \"48239\", \"valid_vocab_seen_pct\": \"0.885017\", \"valid_uer\": \"99.9154\", \"valid_weighted_lm_ppl\": \"76.1652\", \"valid_lm_ppl\": \"59.6568\", \"valid_wps\": \"19149.2\", \"valid_wpb\": \"3039.8\", \"valid_bsz\": \"144.2\", \"valid_num_updates\": \"86928\", \"valid_best_weighted_lm_ppl\": \"73.0296\"}\r\n",
      "[2021-06-09 18:45:23,946][fairseq.checkpoint_utils][INFO] - Preparing to save checkpoint for epoch 5433 @ 86928 updates\r\n",
      "[2021-06-09 18:45:23,947][fairseq.trainer][INFO] - Saving checkpoint to /kaggle/working/checkpoint_last.pt\r\n"
     ]
    },
    {
     "name": "stdout",
     "output_type": "stream",
     "text": [
      "[2021-06-09 18:45:23,991][fairseq.trainer][INFO] - Finished saving checkpoint to /kaggle/working/checkpoint_last.pt\r\n",
      "[2021-06-09 18:45:23,991][fairseq.checkpoint_utils][INFO] - Saved checkpoint /kaggle/working/checkpoint_last.pt (epoch 5433 @ 86928 updates, score 76.16517624512616) (writing took 0.04460018899771967 seconds)\r\n",
      "[2021-06-09 18:45:23,991][fairseq_cli.train][INFO] - end of epoch 5433 (average epoch stats below)\r\n",
      "[2021-06-09 18:45:23,994][train][INFO] - {\"epoch\": 5433, \"train_loss\": \"3.473\", \"train_ntokens\": \"145.688\", \"train_nsentences\": \"145.688\", \"train_temp\": \"0.1\", \"train_code_ppl\": \"8.729\", \"train_loss_code_pen\": \"0.332\", \"train_loss_smoothness\": \"2.092\", \"train_loss_dense_g\": \"4.153\", \"train_lm_score_sum\": 0.0, \"train_num_pred_chars\": 0.0, \"train_loss_grad_pen\": \"0.086\", \"train_loss_dense_d\": \"0.024\", \"train_loss_token_d\": \"0.022\", \"train_wps\": \"9.7\", \"train_ups\": \"0.07\", \"train_wpb\": \"145.7\", \"train_bsz\": \"145.7\", \"train_num_updates\": \"86928\", \"train_lr_discriminator\": \"0.0005\", \"train_lr_generator\": \"0.0004\", \"train_gnorm\": \"35.171\", \"train_clip\": \"87.5\", \"train_train_wall\": \"236\", \"train_wall\": \"24310\"}\r\n"
     ]
    },
    {
     "name": "stdout",
     "output_type": "stream",
     "text": [
      "[2021-06-09 18:45:24,050][fairseq.trainer][INFO] - begin training epoch 5434\r\n",
      "[2021-06-09 18:45:24,051][fairseq_cli.train][INFO] - Start iterating over samples\r\n"
     ]
    },
    {
     "name": "stdout",
     "output_type": "stream",
     "text": [
      "[2021-06-09 18:49:08,599][fairseq_cli.train][INFO] - begin validation on \"valid\" subset\r\n"
     ]
    },
    {
     "name": "stdout",
     "output_type": "stream",
     "text": [
      "[2021-06-09 18:49:11,036][fairseq.tasks.unpaired_audio_text][INFO] - REF: ɛ n f œ ʂ ə n a d ɵ ʂ ə k t f øː r d eː t s ɔ m h ɛ n d ə p oː ɕ œ r k ɔ n s ɛ t ə n\r\n",
      "[2021-06-09 18:49:11,038][fairseq.tasks.unpaired_audio_text][INFO] - HYP: t ɪ n s j œ r œ j uː œ yː k j ə ɡ f œ v j m ə h ɔ k ə uː s eː r n v oː s ɪ ŋ k ɪ l s uː k t a n t a\r\n",
      "[2021-06-09 18:49:11,042][fairseq.tasks.unpaired_audio_text][INFO] - LM [REF]: -53.44462585449219, 0.05339602260269112\r\n",
      "[2021-06-09 18:49:11,042][fairseq.tasks.unpaired_audio_text][INFO] - LM [HYP]: -86.24053192138672, 0.015970637478625045\r\n"
     ]
    },
    {
     "name": "stdout",
     "output_type": "stream",
     "text": [
      "[2021-06-09 18:49:11,536][valid][INFO] - {\"epoch\": 5434, \"valid_loss\": \"1.001\", \"valid_ntokens\": \"3039.79\", \"valid_nsentences\": \"144.214\", \"valid_lm_score_sum\": \"-89484.8\", \"valid_num_pred_chars\": \"48447\", \"valid_vocab_seen_pct\": \"0.890244\", \"valid_uer\": \"100.148\", \"valid_weighted_lm_ppl\": \"74.8432\", \"valid_lm_ppl\": \"59.3158\", \"valid_wps\": \"18490.6\", \"valid_wpb\": \"3039.8\", \"valid_bsz\": \"144.2\", \"valid_num_updates\": \"86944\", \"valid_best_weighted_lm_ppl\": \"73.0296\"}\r\n",
      "[2021-06-09 18:49:11,539][fairseq.checkpoint_utils][INFO] - Preparing to save checkpoint for epoch 5434 @ 86944 updates\r\n",
      "[2021-06-09 18:49:11,540][fairseq.trainer][INFO] - Saving checkpoint to /kaggle/working/checkpoint_last.pt\r\n"
     ]
    },
    {
     "name": "stdout",
     "output_type": "stream",
     "text": [
      "[2021-06-09 18:49:11,585][fairseq.trainer][INFO] - Finished saving checkpoint to /kaggle/working/checkpoint_last.pt\r\n",
      "[2021-06-09 18:49:11,585][fairseq.checkpoint_utils][INFO] - Saved checkpoint /kaggle/working/checkpoint_last.pt (epoch 5434 @ 86944 updates, score 74.84316260447423) (writing took 0.04643139500331017 seconds)\r\n",
      "[2021-06-09 18:49:11,586][fairseq_cli.train][INFO] - end of epoch 5434 (average epoch stats below)\r\n",
      "[2021-06-09 18:49:11,589][train][INFO] - {\"epoch\": 5434, \"train_loss\": \"3.817\", \"train_ntokens\": \"145.688\", \"train_nsentences\": \"145.688\", \"train_temp\": \"0.1\", \"train_code_ppl\": \"8.817\", \"train_loss_code_pen\": \"0.319\", \"train_loss_smoothness\": \"2.066\", \"train_loss_dense_g\": \"4.436\", \"train_lm_score_sum\": 0.0, \"train_num_pred_chars\": 0.0, \"train_loss_grad_pen\": \"0.112\", \"train_loss_dense_d\": \"0.018\", \"train_loss_token_d\": \"0.028\", \"train_wps\": \"10.2\", \"train_ups\": \"0.07\", \"train_wpb\": \"145.7\", \"train_bsz\": \"145.7\", \"train_num_updates\": \"86944\", \"train_lr_discriminator\": \"0.0005\", \"train_lr_generator\": \"0.0004\", \"train_gnorm\": \"31.636\", \"train_clip\": \"81.2\", \"train_train_wall\": \"224\", \"train_wall\": \"24538\"}\r\n"
     ]
    },
    {
     "name": "stdout",
     "output_type": "stream",
     "text": [
      "[2021-06-09 18:49:11,644][fairseq.trainer][INFO] - begin training epoch 5435\r\n",
      "[2021-06-09 18:49:11,645][fairseq_cli.train][INFO] - Start iterating over samples\r\n"
     ]
    },
    {
     "name": "stdout",
     "output_type": "stream",
     "text": [
      "[2021-06-09 18:53:17,961][fairseq_cli.train][INFO] - begin validation on \"valid\" subset\r\n"
     ]
    },
    {
     "name": "stdout",
     "output_type": "stream",
     "text": [
      "[2021-06-09 18:53:20,382][fairseq.tasks.unpaired_audio_text][INFO] - REF: ɛ n f œ ʂ ə n a d ɵ ʂ ə k t f øː r d eː t s ɔ m h ɛ n d ə p oː ɕ œ r k ɔ n s ɛ t ə n\r\n",
      "[2021-06-09 18:53:20,384][fairseq.tasks.unpaired_audio_text][INFO] - HYP: t ɪ n s j œ r œ j uː œ k j ə ɡ f œ v j ə h ɔ k ə uː s eː r n v oː s ɪ ŋ k ɪ l s uː k t a n t a\r\n",
      "[2021-06-09 18:53:20,388][fairseq.tasks.unpaired_audio_text][INFO] - LM [REF]: -53.44462585449219, 0.05339602260269112\r\n",
      "[2021-06-09 18:53:20,388][fairseq.tasks.unpaired_audio_text][INFO] - LM [HYP]: -81.6976547241211, 0.01674804147597283\r\n"
     ]
    },
    {
     "name": "stdout",
     "output_type": "stream",
     "text": [
      "[2021-06-09 18:53:20,880][valid][INFO] - {\"epoch\": 5435, \"valid_loss\": \"1\", \"valid_ntokens\": \"3039.79\", \"valid_nsentences\": \"144.214\", \"valid_lm_score_sum\": \"-89456.7\", \"valid_num_pred_chars\": \"48457\", \"valid_vocab_seen_pct\": \"0.893728\", \"valid_uer\": \"100.035\", \"valid_weighted_lm_ppl\": \"74.1055\", \"valid_lm_ppl\": \"59.1918\", \"valid_wps\": \"18894\", \"valid_wpb\": \"3039.8\", \"valid_bsz\": \"144.2\", \"valid_num_updates\": \"86960\", \"valid_best_weighted_lm_ppl\": \"73.0296\"}\r\n",
      "[2021-06-09 18:53:20,883][fairseq.checkpoint_utils][INFO] - Preparing to save checkpoint for epoch 5435 @ 86960 updates\r\n",
      "[2021-06-09 18:53:20,884][fairseq.trainer][INFO] - Saving checkpoint to /kaggle/working/checkpoint_last.pt\r\n"
     ]
    },
    {
     "name": "stdout",
     "output_type": "stream",
     "text": [
      "[2021-06-09 18:53:20,930][fairseq.trainer][INFO] - Finished saving checkpoint to /kaggle/working/checkpoint_last.pt\r\n",
      "[2021-06-09 18:53:20,931][fairseq.checkpoint_utils][INFO] - Saved checkpoint /kaggle/working/checkpoint_last.pt (epoch 5435 @ 86960 updates, score 74.10551264988584) (writing took 0.04734434599959059 seconds)\r\n",
      "[2021-06-09 18:53:20,931][fairseq_cli.train][INFO] - end of epoch 5435 (average epoch stats below)\r\n",
      "[2021-06-09 18:53:20,933][train][INFO] - {\"epoch\": 5435, \"train_loss\": \"3.546\", \"train_ntokens\": \"145.688\", \"train_nsentences\": \"145.688\", \"train_temp\": \"0.1\", \"train_code_ppl\": \"8.496\", \"train_loss_code_pen\": \"0.318\", \"train_loss_smoothness\": \"2.052\", \"train_loss_dense_g\": \"4.326\", \"train_lm_score_sum\": 0.0, \"train_num_pred_chars\": 0.0, \"train_loss_grad_pen\": \"0.092\", \"train_loss_dense_d\": \"0.027\", \"train_loss_token_d\": \"0.04\", \"train_wps\": \"9.3\", \"train_ups\": \"0.06\", \"train_wpb\": \"145.7\", \"train_bsz\": \"145.7\", \"train_num_updates\": \"86960\", \"train_lr_discriminator\": \"0.0005\", \"train_lr_generator\": \"0.0004\", \"train_gnorm\": \"31.627\", \"train_clip\": \"81.2\", \"train_train_wall\": \"246\", \"train_wall\": \"24787\"}\r\n"
     ]
    },
    {
     "name": "stdout",
     "output_type": "stream",
     "text": [
      "[2021-06-09 18:53:20,989][fairseq.trainer][INFO] - begin training epoch 5436\r\n",
      "[2021-06-09 18:53:20,990][fairseq_cli.train][INFO] - Start iterating over samples\r\n"
     ]
    },
    {
     "name": "stdout",
     "output_type": "stream",
     "text": [
      "[2021-06-09 18:57:24,494][fairseq_cli.train][INFO] - begin validation on \"valid\" subset\r\n"
     ]
    },
    {
     "name": "stdout",
     "output_type": "stream",
     "text": [
      "[2021-06-09 18:57:26,930][fairseq.tasks.unpaired_audio_text][INFO] - REF: ɛ n f œ ʂ ə n a d ɵ ʂ ə k t f øː r d eː t s ɔ m h ɛ n d ə p oː ɕ œ r k ɔ n s ɛ t ə n\r\n",
      "[2021-06-09 18:57:26,933][fairseq.tasks.unpaired_audio_text][INFO] - HYP: t ɪ n s j œ r œ ʃ j uː œ k ə ɡ f œ v j m ə h ɔ k ə uː s eː r n v oː s ɪ ŋ k ɪ l s uː k t a n t a\r\n",
      "[2021-06-09 18:57:26,937][fairseq.tasks.unpaired_audio_text][INFO] - LM [REF]: -53.44462585449219, 0.05339602260269112\r\n",
      "[2021-06-09 18:57:26,937][fairseq.tasks.unpaired_audio_text][INFO] - LM [HYP]: -85.2660140991211, 0.015340145795762476\r\n"
     ]
    },
    {
     "name": "stdout",
     "output_type": "stream",
     "text": [
      "[2021-06-09 18:57:27,427][valid][INFO] - {\"epoch\": 5436, \"valid_loss\": \"0.998\", \"valid_ntokens\": \"3039.79\", \"valid_nsentences\": \"144.214\", \"valid_lm_score_sum\": \"-89247.4\", \"valid_num_pred_chars\": \"48185\", \"valid_vocab_seen_pct\": \"0.890244\", \"valid_uer\": \"99.8144\", \"valid_weighted_lm_ppl\": \"75.627\", \"valid_lm_ppl\": \"59.9369\", \"valid_wps\": \"18685.2\", \"valid_wpb\": \"3039.8\", \"valid_bsz\": \"144.2\", \"valid_num_updates\": \"86976\", \"valid_best_weighted_lm_ppl\": \"73.0296\"}\r\n",
      "[2021-06-09 18:57:27,430][fairseq.checkpoint_utils][INFO] - Preparing to save checkpoint for epoch 5436 @ 86976 updates\r\n",
      "[2021-06-09 18:57:27,431][fairseq.trainer][INFO] - Saving checkpoint to /kaggle/working/checkpoint_last.pt\r\n"
     ]
    },
    {
     "name": "stdout",
     "output_type": "stream",
     "text": [
      "[2021-06-09 18:57:27,474][fairseq.trainer][INFO] - Finished saving checkpoint to /kaggle/working/checkpoint_last.pt\r\n",
      "[2021-06-09 18:57:27,475][fairseq.checkpoint_utils][INFO] - Saved checkpoint /kaggle/working/checkpoint_last.pt (epoch 5436 @ 86976 updates, score 75.62695398117299) (writing took 0.044448169002862414 seconds)\r\n",
      "[2021-06-09 18:57:27,475][fairseq_cli.train][INFO] - end of epoch 5436 (average epoch stats below)\r\n",
      "[2021-06-09 18:57:27,477][train][INFO] - {\"epoch\": 5436, \"train_loss\": \"3.391\", \"train_ntokens\": \"145.688\", \"train_nsentences\": \"145.688\", \"train_temp\": \"0.1\", \"train_code_ppl\": \"8.713\", \"train_loss_code_pen\": \"0.323\", \"train_loss_smoothness\": \"2.065\", \"train_loss_dense_g\": \"4.046\", \"train_lm_score_sum\": 0.0, \"train_num_pred_chars\": 0.0, \"train_loss_grad_pen\": \"0.072\", \"train_loss_dense_d\": \"0.024\", \"train_loss_token_d\": \"0.022\", \"train_wps\": \"9.5\", \"train_ups\": \"0.06\", \"train_wpb\": \"145.7\", \"train_bsz\": \"145.7\", \"train_num_updates\": \"86976\", \"train_lr_discriminator\": \"0.0005\", \"train_lr_generator\": \"0.0004\", \"train_gnorm\": \"29.709\", \"train_clip\": \"81.2\", \"train_train_wall\": \"243\", \"train_wall\": \"25034\"}\r\n"
     ]
    },
    {
     "name": "stdout",
     "output_type": "stream",
     "text": [
      "[2021-06-09 18:57:27,531][fairseq.trainer][INFO] - begin training epoch 5437\r\n",
      "[2021-06-09 18:57:27,533][fairseq_cli.train][INFO] - Start iterating over samples\r\n"
     ]
    },
    {
     "name": "stdout",
     "output_type": "stream",
     "text": [
      "[2021-06-09 19:01:56,383][fairseq_cli.train][INFO] - begin validation on \"valid\" subset\r\n"
     ]
    },
    {
     "name": "stdout",
     "output_type": "stream",
     "text": [
      "[2021-06-09 19:01:58,915][fairseq.tasks.unpaired_audio_text][INFO] - REF: ɛ n f œ ʂ ə n a d ɵ ʂ ə k t f øː r d eː t s ɔ m h ɛ n d ə p oː ɕ œ r k ɔ n s ɛ t ə n\r\n",
      "[2021-06-09 19:01:58,918][fairseq.tasks.unpaired_audio_text][INFO] - HYP: t ɪ n s j œ r œ j uː œ k ə ɡ f œ v j uː ə h ɔ k ə uː s eː r n v oː s ɪ ŋ k ɪ l s uː t a n t a\r\n",
      "[2021-06-09 19:01:58,922][fairseq.tasks.unpaired_audio_text][INFO] - LM [REF]: -53.44462585449219, 0.05339602260269112\r\n",
      "[2021-06-09 19:01:58,922][fairseq.tasks.unpaired_audio_text][INFO] - LM [HYP]: -79.64662170410156, 0.016985372405277088\r\n"
     ]
    },
    {
     "name": "stdout",
     "output_type": "stream",
     "text": [
      "[2021-06-09 19:01:59,547][valid][INFO] - {\"epoch\": 5437, \"valid_loss\": \"0.998\", \"valid_ntokens\": \"3039.79\", \"valid_nsentences\": \"144.214\", \"valid_lm_score_sum\": \"-89409.2\", \"valid_num_pred_chars\": \"48206\", \"valid_vocab_seen_pct\": \"0.890244\", \"valid_uer\": \"99.8261\", \"valid_weighted_lm_ppl\": \"76.0599\", \"valid_lm_ppl\": \"60.2801\", \"valid_wps\": \"17124.7\", \"valid_wpb\": \"3039.8\", \"valid_bsz\": \"144.2\", \"valid_num_updates\": \"86992\", \"valid_best_weighted_lm_ppl\": \"73.0296\"}\r\n",
      "[2021-06-09 19:01:59,551][fairseq.checkpoint_utils][INFO] - Preparing to save checkpoint for epoch 5437 @ 86992 updates\r\n",
      "[2021-06-09 19:01:59,553][fairseq.trainer][INFO] - Saving checkpoint to /kaggle/working/checkpoint_last.pt\r\n"
     ]
    },
    {
     "name": "stdout",
     "output_type": "stream",
     "text": [
      "[2021-06-09 19:01:59,606][fairseq.trainer][INFO] - Finished saving checkpoint to /kaggle/working/checkpoint_last.pt\r\n",
      "[2021-06-09 19:01:59,606][fairseq.checkpoint_utils][INFO] - Saved checkpoint /kaggle/working/checkpoint_last.pt (epoch 5437 @ 86992 updates, score 76.05994425456618) (writing took 0.055000135998852784 seconds)\r\n",
      "[2021-06-09 19:01:59,607][fairseq_cli.train][INFO] - end of epoch 5437 (average epoch stats below)\r\n"
     ]
    },
    {
     "name": "stdout",
     "output_type": "stream",
     "text": [
      "[2021-06-09 19:01:59,611][train][INFO] - {\"epoch\": 5437, \"train_loss\": \"3.057\", \"train_ntokens\": \"145.688\", \"train_nsentences\": \"145.688\", \"train_temp\": \"0.1\", \"train_code_ppl\": \"8.918\", \"train_loss_code_pen\": \"0.336\", \"train_loss_smoothness\": \"2.066\", \"train_loss_dense_g\": \"4.264\", \"train_lm_score_sum\": 0.0, \"train_num_pred_chars\": 0.0, \"train_loss_grad_pen\": \"0.047\", \"train_loss_dense_d\": \"0.023\", \"train_loss_token_d\": \"0.022\", \"train_wps\": \"8.6\", \"train_ups\": \"0.06\", \"train_wpb\": \"145.7\", \"train_bsz\": \"145.7\", \"train_num_updates\": \"86992\", \"train_lr_discriminator\": \"0.0005\", \"train_lr_generator\": \"0.0004\", \"train_gnorm\": \"29.383\", \"train_clip\": \"56.2\", \"train_train_wall\": \"269\", \"train_wall\": \"25306\"}\r\n"
     ]
    },
    {
     "name": "stdout",
     "output_type": "stream",
     "text": [
      "[2021-06-09 19:01:59,674][fairseq.trainer][INFO] - begin training epoch 5438\r\n",
      "[2021-06-09 19:01:59,677][fairseq_cli.train][INFO] - Start iterating over samples\r\n"
     ]
    },
    {
     "name": "stdout",
     "output_type": "stream",
     "text": [
      "[2021-06-09 19:03:59,112][train_inner][INFO] - {\"epoch\": 5438, \"update\": 5437.5, \"loss\": \"3.443\", \"ntokens\": \"147.11\", \"nsentences\": \"147.11\", \"temp\": \"0.1\", \"code_ppl\": \"8.655\", \"loss_code_pen\": \"0.322\", \"loss_smoothness\": \"2.062\", \"loss_dense_g\": \"4.263\", \"lm_score_sum\": 0.0, \"num_pred_chars\": 0.0, \"loss_grad_pen\": \"0.077\", \"loss_dense_d\": \"0.023\", \"loss_token_d\": \"0.026\", \"wps\": \"9.5\", \"ups\": \"0.06\", \"wpb\": \"147.1\", \"bsz\": \"147.1\", \"num_updates\": \"87000\", \"lr_discriminator\": \"0.0005\", \"lr_generator\": \"0.0004\", \"gnorm\": \"31.156\", \"clip\": \"75\", \"train_wall\": \"1533\", \"wall\": \"25425\"}\r\n"
     ]
    },
    {
     "name": "stdout",
     "output_type": "stream",
     "text": [
      "[2021-06-09 19:06:10,366][fairseq_cli.train][INFO] - begin validation on \"valid\" subset\r\n"
     ]
    },
    {
     "name": "stdout",
     "output_type": "stream",
     "text": [
      "[2021-06-09 19:06:12,858][fairseq.tasks.unpaired_audio_text][INFO] - REF: ɛ n f œ ʂ ə n a d ɵ ʂ ə k t f øː r d eː t s ɔ m h ɛ n d ə p oː ɕ œ r k ɔ n s ɛ t ə n\r\n",
      "[2021-06-09 19:06:12,860][fairseq.tasks.unpaired_audio_text][INFO] - HYP: t ɪ n s j œ r œ j uː œ yː k ə ɡ f œ v j m uː ə h ɔ k ə uː s eː r n v oː s ɪ ŋ k ɪ l s uː t a n t a\r\n",
      "[2021-06-09 19:06:12,865][fairseq.tasks.unpaired_audio_text][INFO] - LM [REF]: -53.44462585449219, 0.05339602260269112\r\n",
      "[2021-06-09 19:06:12,865][fairseq.tasks.unpaired_audio_text][INFO] - LM [HYP]: -83.29763793945312, 0.01689311859968264\r\n"
     ]
    },
    {
     "name": "stdout",
     "output_type": "stream",
     "text": [
      "[2021-06-09 19:06:13,389][valid][INFO] - {\"epoch\": 5438, \"valid_loss\": \"1.001\", \"valid_ntokens\": \"3039.79\", \"valid_nsentences\": \"144.214\", \"valid_lm_score_sum\": \"-89585.6\", \"valid_num_pred_chars\": \"48335\", \"valid_vocab_seen_pct\": \"0.890244\", \"valid_uer\": \"100.059\", \"valid_weighted_lm_ppl\": \"75.8748\", \"valid_lm_ppl\": \"60.1334\", \"valid_wps\": \"18181.3\", \"valid_wpb\": \"3039.8\", \"valid_bsz\": \"144.2\", \"valid_num_updates\": \"87008\", \"valid_best_weighted_lm_ppl\": \"73.0296\"}\r\n",
      "[2021-06-09 19:06:13,393][fairseq.checkpoint_utils][INFO] - Preparing to save checkpoint for epoch 5438 @ 87008 updates\r\n",
      "[2021-06-09 19:06:13,394][fairseq.trainer][INFO] - Saving checkpoint to /kaggle/working/checkpoint_last.pt\r\n"
     ]
    },
    {
     "name": "stdout",
     "output_type": "stream",
     "text": [
      "[2021-06-09 19:06:13,443][fairseq.trainer][INFO] - Finished saving checkpoint to /kaggle/working/checkpoint_last.pt\r\n",
      "[2021-06-09 19:06:13,443][fairseq.checkpoint_utils][INFO] - Saved checkpoint /kaggle/working/checkpoint_last.pt (epoch 5438 @ 87008 updates, score 75.8748499845194) (writing took 0.05017143899749499 seconds)\r\n",
      "[2021-06-09 19:06:13,444][fairseq_cli.train][INFO] - end of epoch 5438 (average epoch stats below)\r\n",
      "[2021-06-09 19:06:13,447][train][INFO] - {\"epoch\": 5438, \"train_loss\": \"3.208\", \"train_ntokens\": \"145.688\", \"train_nsentences\": \"145.688\", \"train_temp\": \"0.1\", \"train_code_ppl\": \"8.762\", \"train_loss_code_pen\": \"0.313\", \"train_loss_smoothness\": \"2.047\", \"train_loss_dense_g\": \"4.165\", \"train_lm_score_sum\": 0.0, \"train_num_pred_chars\": 0.0, \"train_loss_grad_pen\": \"0.074\", \"train_loss_dense_d\": \"0.027\", \"train_loss_token_d\": \"0.024\", \"train_wps\": \"9.2\", \"train_ups\": \"0.06\", \"train_wpb\": \"145.7\", \"train_bsz\": \"145.7\", \"train_num_updates\": \"87008\", \"train_lr_discriminator\": \"0.0005\", \"train_lr_generator\": \"0.0004\", \"train_gnorm\": \"30.537\", \"train_clip\": \"81.2\", \"train_train_wall\": \"250\", \"train_wall\": \"25560\"}\r\n"
     ]
    },
    {
     "name": "stdout",
     "output_type": "stream",
     "text": [
      "[2021-06-09 19:06:13,503][fairseq.trainer][INFO] - begin training epoch 5439\r\n",
      "[2021-06-09 19:06:13,505][fairseq_cli.train][INFO] - Start iterating over samples\r\n"
     ]
    },
    {
     "name": "stdout",
     "output_type": "stream",
     "text": [
      "[2021-06-09 19:10:21,393][fairseq_cli.train][INFO] - begin validation on \"valid\" subset\r\n"
     ]
    },
    {
     "name": "stdout",
     "output_type": "stream",
     "text": [
      "[2021-06-09 19:10:23,800][fairseq.tasks.unpaired_audio_text][INFO] - REF: ɛ n f œ ʂ ə n a d ɵ ʂ ə k t f øː r d eː t s ɔ m h ɛ n d ə p oː ɕ œ r k ɔ n s ɛ t ə n\r\n",
      "[2021-06-09 19:10:23,802][fairseq.tasks.unpaired_audio_text][INFO] - HYP: t ɪ n s j œ r œ j uː œ yː k ə ɡ f œ v j uː ə h ɔ k ə uː s eː r n v oː s ɪ ŋ k ɪ l s uː t a n t a\r\n",
      "[2021-06-09 19:10:23,806][fairseq.tasks.unpaired_audio_text][INFO] - LM [REF]: -53.44462585449219, 0.05339602260269112\r\n",
      "[2021-06-09 19:10:23,806][fairseq.tasks.unpaired_audio_text][INFO] - LM [HYP]: -81.33747863769531, 0.01705273105372809\r\n"
     ]
    },
    {
     "name": "stdout",
     "output_type": "stream",
     "text": [
      "[2021-06-09 19:10:24,303][valid][INFO] - {\"epoch\": 5439, \"valid_loss\": \"1\", \"valid_ntokens\": \"3039.79\", \"valid_nsentences\": \"144.214\", \"valid_lm_score_sum\": \"-89467.5\", \"valid_num_pred_chars\": \"48268\", \"valid_vocab_seen_pct\": \"0.891986\", \"valid_uer\": \"100.014\", \"valid_weighted_lm_ppl\": \"75.5826\", \"valid_lm_ppl\": \"60.1365\", \"valid_wps\": \"19002.5\", \"valid_wpb\": \"3039.8\", \"valid_bsz\": \"144.2\", \"valid_num_updates\": \"87024\", \"valid_best_weighted_lm_ppl\": \"73.0296\"}\r\n",
      "[2021-06-09 19:10:24,306][fairseq.checkpoint_utils][INFO] - Preparing to save checkpoint for epoch 5439 @ 87024 updates\r\n",
      "[2021-06-09 19:10:24,307][fairseq.trainer][INFO] - Saving checkpoint to /kaggle/working/checkpoint_last.pt\r\n"
     ]
    },
    {
     "name": "stdout",
     "output_type": "stream",
     "text": [
      "[2021-06-09 19:10:24,356][fairseq.trainer][INFO] - Finished saving checkpoint to /kaggle/working/checkpoint_last.pt\r\n",
      "[2021-06-09 19:10:24,356][fairseq.checkpoint_utils][INFO] - Saved checkpoint /kaggle/working/checkpoint_last.pt (epoch 5439 @ 87024 updates, score 75.58259878642946) (writing took 0.05042553599923849 seconds)\r\n",
      "[2021-06-09 19:10:24,357][fairseq_cli.train][INFO] - end of epoch 5439 (average epoch stats below)\r\n",
      "[2021-06-09 19:10:24,359][train][INFO] - {\"epoch\": 5439, \"train_loss\": \"3.542\", \"train_ntokens\": \"145.688\", \"train_nsentences\": \"145.688\", \"train_temp\": \"0.1\", \"train_code_ppl\": \"8.908\", \"train_loss_code_pen\": \"0.338\", \"train_loss_smoothness\": \"2.125\", \"train_loss_dense_g\": \"4.22\", \"train_lm_score_sum\": 0.0, \"train_num_pred_chars\": 0.0, \"train_loss_grad_pen\": \"0.107\", \"train_loss_dense_d\": \"0.023\", \"train_loss_token_d\": \"0.035\", \"train_wps\": \"9.3\", \"train_ups\": \"0.06\", \"train_wpb\": \"145.7\", \"train_bsz\": \"145.7\", \"train_num_updates\": \"87024\", \"train_lr_discriminator\": \"0.0005\", \"train_lr_generator\": \"0.0004\", \"train_gnorm\": \"31.612\", \"train_clip\": \"81.2\", \"train_train_wall\": \"247\", \"train_wall\": \"25811\"}\r\n"
     ]
    },
    {
     "name": "stdout",
     "output_type": "stream",
     "text": [
      "[2021-06-09 19:10:24,413][fairseq.trainer][INFO] - begin training epoch 5440\r\n",
      "[2021-06-09 19:10:24,415][fairseq_cli.train][INFO] - Start iterating over samples\r\n"
     ]
    },
    {
     "name": "stdout",
     "output_type": "stream",
     "text": [
      "[2021-06-09 19:14:49,437][fairseq_cli.train][INFO] - begin validation on \"valid\" subset\r\n"
     ]
    },
    {
     "name": "stdout",
     "output_type": "stream",
     "text": [
      "[2021-06-09 19:14:51,959][fairseq.tasks.unpaired_audio_text][INFO] - REF: ɛ n f œ ʂ ə n a d ɵ ʂ ə k t f øː r d eː t s ɔ m h ɛ n d ə p oː ɕ œ r k ɔ n s ɛ t ə n\r\n",
      "[2021-06-09 19:14:51,962][fairseq.tasks.unpaired_audio_text][INFO] - HYP: t ɪ n s j œ r œ j uː œ yː k j ə ɡ f œ v j ə h ɔ k b ə uː s eː r n v oː s ɪ ŋ k ɪ l s uː k t a n t a\r\n",
      "[2021-06-09 19:14:51,966][fairseq.tasks.unpaired_audio_text][INFO] - LM [REF]: -53.44462585449219, 0.05339602260269112\r\n",
      "[2021-06-09 19:14:51,966][fairseq.tasks.unpaired_audio_text][INFO] - LM [HYP]: -84.42269134521484, 0.01742584835320992\r\n"
     ]
    },
    {
     "name": "stdout",
     "output_type": "stream",
     "text": [
      "[2021-06-09 19:14:52,484][valid][INFO] - {\"epoch\": 5440, \"valid_loss\": \"1\", \"valid_ntokens\": \"3039.79\", \"valid_nsentences\": \"144.214\", \"valid_lm_score_sum\": \"-89438.1\", \"valid_num_pred_chars\": \"48219\", \"valid_vocab_seen_pct\": \"0.891986\", \"valid_uer\": \"99.9577\", \"valid_weighted_lm_ppl\": \"75.7829\", \"valid_lm_ppl\": \"60.2959\", \"valid_wps\": \"17886.9\", \"valid_wpb\": \"3039.8\", \"valid_bsz\": \"144.2\", \"valid_num_updates\": \"87040\", \"valid_best_weighted_lm_ppl\": \"73.0296\"}\r\n",
      "[2021-06-09 19:14:52,487][fairseq.checkpoint_utils][INFO] - Preparing to save checkpoint for epoch 5440 @ 87040 updates\r\n",
      "[2021-06-09 19:14:52,488][fairseq.trainer][INFO] - Saving checkpoint to /kaggle/working/checkpoint_last.pt\r\n"
     ]
    },
    {
     "name": "stdout",
     "output_type": "stream",
     "text": [
      "[2021-06-09 19:14:52,535][fairseq.trainer][INFO] - Finished saving checkpoint to /kaggle/working/checkpoint_last.pt\r\n",
      "[2021-06-09 19:14:52,535][fairseq.checkpoint_utils][INFO] - Saved checkpoint /kaggle/working/checkpoint_last.pt (epoch 5440 @ 87040 updates, score 75.78291645418066) (writing took 0.04797828700247919 seconds)\r\n",
      "[2021-06-09 19:14:52,536][fairseq_cli.train][INFO] - end of epoch 5440 (average epoch stats below)\r\n",
      "[2021-06-09 19:14:52,539][train][INFO] - {\"epoch\": 5440, \"train_loss\": \"3.043\", \"train_ntokens\": \"145.688\", \"train_nsentences\": \"145.688\", \"train_temp\": \"0.1\", \"train_code_ppl\": \"9.001\", \"train_loss_code_pen\": \"0.318\", \"train_loss_smoothness\": \"2.041\", \"train_loss_dense_g\": \"4.23\", \"train_lm_score_sum\": 0.0, \"train_num_pred_chars\": 0.0, \"train_loss_grad_pen\": \"0.079\", \"train_loss_dense_d\": \"0.026\", \"train_loss_token_d\": \"0.025\", \"train_wps\": \"8.7\", \"train_ups\": \"0.06\", \"train_wpb\": \"145.7\", \"train_bsz\": \"145.7\", \"train_num_updates\": \"87040\", \"train_lr_discriminator\": \"0.0005\", \"train_lr_generator\": \"0.0004\", \"train_gnorm\": \"29.55\", \"train_clip\": \"68.8\", \"train_train_wall\": \"265\", \"train_wall\": \"26079\"}\r\n"
     ]
    },
    {
     "name": "stdout",
     "output_type": "stream",
     "text": [
      "[2021-06-09 19:14:52,596][fairseq.trainer][INFO] - begin training epoch 5441\r\n",
      "[2021-06-09 19:14:52,598][fairseq_cli.train][INFO] - Start iterating over samples\r\n"
     ]
    },
    {
     "name": "stdout",
     "output_type": "stream",
     "text": [
      "[2021-06-09 19:18:56,882][fairseq_cli.train][INFO] - begin validation on \"valid\" subset\r\n"
     ]
    },
    {
     "name": "stdout",
     "output_type": "stream",
     "text": [
      "[2021-06-09 19:18:59,376][fairseq.tasks.unpaired_audio_text][INFO] - REF: ɛ n f œ ʂ ə n a d ɵ ʂ ə k t f øː r d eː t s ɔ m h ɛ n d ə p oː ɕ œ r k ɔ n s ɛ t ə n\r\n",
      "[2021-06-09 19:18:59,379][fairseq.tasks.unpaired_audio_text][INFO] - HYP: t ɪ n s j œ r œ j uː œ yː k ə ɡ f œ v j m uː ə h ɔ k b ə uː s eː r n v oː s ɪ ŋ k ɪ l s uː k t a n t a\r\n",
      "[2021-06-09 19:18:59,383][fairseq.tasks.unpaired_audio_text][INFO] - LM [REF]: -53.44462585449219, 0.05339602260269112\r\n",
      "[2021-06-09 19:18:59,383][fairseq.tasks.unpaired_audio_text][INFO] - LM [HYP]: -86.38471221923828, 0.017260234404514983\r\n"
     ]
    },
    {
     "name": "stdout",
     "output_type": "stream",
     "text": [
      "[2021-06-09 19:18:59,891][valid][INFO] - {\"epoch\": 5441, \"valid_loss\": \"1\", \"valid_ntokens\": \"3039.79\", \"valid_nsentences\": \"144.214\", \"valid_lm_score_sum\": \"-89644.6\", \"valid_num_pred_chars\": \"48317\", \"valid_vocab_seen_pct\": \"0.888502\", \"valid_uer\": \"100.045\", \"valid_weighted_lm_ppl\": \"76.4905\", \"valid_lm_ppl\": \"60.3843\", \"valid_wps\": \"18228.7\", \"valid_wpb\": \"3039.8\", \"valid_bsz\": \"144.2\", \"valid_num_updates\": \"87056\", \"valid_best_weighted_lm_ppl\": \"73.0296\"}\r\n",
      "[2021-06-09 19:18:59,894][fairseq.checkpoint_utils][INFO] - Preparing to save checkpoint for epoch 5441 @ 87056 updates\r\n",
      "[2021-06-09 19:18:59,895][fairseq.trainer][INFO] - Saving checkpoint to /kaggle/working/checkpoint_last.pt\r\n"
     ]
    },
    {
     "name": "stdout",
     "output_type": "stream",
     "text": [
      "[2021-06-09 19:18:59,943][fairseq.trainer][INFO] - Finished saving checkpoint to /kaggle/working/checkpoint_last.pt\r\n",
      "[2021-06-09 19:18:59,943][fairseq.checkpoint_utils][INFO] - Saved checkpoint /kaggle/working/checkpoint_last.pt (epoch 5441 @ 87056 updates, score 76.49049472834292) (writing took 0.049056120002205716 seconds)\r\n",
      "[2021-06-09 19:18:59,943][fairseq_cli.train][INFO] - end of epoch 5441 (average epoch stats below)\r\n",
      "[2021-06-09 19:18:59,946][train][INFO] - {\"epoch\": 5441, \"train_loss\": \"3.482\", \"train_ntokens\": \"145.688\", \"train_nsentences\": \"145.688\", \"train_temp\": \"0.1\", \"train_code_ppl\": \"8.782\", \"train_loss_code_pen\": \"0.316\", \"train_loss_smoothness\": \"2.06\", \"train_loss_dense_g\": \"4.216\", \"train_lm_score_sum\": 0.0, \"train_num_pred_chars\": 0.0, \"train_loss_grad_pen\": \"0.085\", \"train_loss_dense_d\": \"0.023\", \"train_loss_token_d\": \"0.028\", \"train_wps\": \"9.4\", \"train_ups\": \"0.06\", \"train_wpb\": \"145.7\", \"train_bsz\": \"145.7\", \"train_num_updates\": \"87056\", \"train_lr_discriminator\": \"0.0005\", \"train_lr_generator\": \"0.0004\", \"train_gnorm\": \"29.934\", \"train_clip\": \"68.8\", \"train_train_wall\": \"244\", \"train_wall\": \"26326\"}\r\n"
     ]
    },
    {
     "name": "stdout",
     "output_type": "stream",
     "text": [
      "[2021-06-09 19:19:00,007][fairseq.trainer][INFO] - begin training epoch 5442\r\n",
      "[2021-06-09 19:19:00,009][fairseq_cli.train][INFO] - Start iterating over samples\r\n"
     ]
    },
    {
     "name": "stdout",
     "output_type": "stream",
     "text": [
      "[2021-06-09 19:23:06,355][fairseq_cli.train][INFO] - begin validation on \"valid\" subset\r\n"
     ]
    },
    {
     "name": "stdout",
     "output_type": "stream",
     "text": [
      "[2021-06-09 19:23:08,889][fairseq.tasks.unpaired_audio_text][INFO] - REF: ɛ n f œ ʂ ə n a d ɵ ʂ ə k t f øː r d eː t s ɔ m h ɛ n d ə p oː ɕ œ r k ɔ n s ɛ t ə n\r\n",
      "[2021-06-09 19:23:08,892][fairseq.tasks.unpaired_audio_text][INFO] - HYP: t ɪ n s j œ r œ j uː œ yː k ə ɡ f œ v j m ə h ɔ k b ə uː s eː r n v oː s ɪ ŋ k ɪ l s uː k t a n t a\r\n",
      "[2021-06-09 19:23:08,896][fairseq.tasks.unpaired_audio_text][INFO] - LM [REF]: -53.44462585449219, 0.05339602260269112\r\n",
      "[2021-06-09 19:23:08,897][fairseq.tasks.unpaired_audio_text][INFO] - LM [HYP]: -84.57244110107422, 0.01730111702552243\r\n"
     ]
    },
    {
     "name": "stdout",
     "output_type": "stream",
     "text": [
      "[2021-06-09 19:23:09,411][valid][INFO] - {\"epoch\": 5442, \"valid_loss\": \"0.998\", \"valid_ntokens\": \"3039.79\", \"valid_nsentences\": \"144.214\", \"valid_lm_score_sum\": \"-89343.3\", \"valid_num_pred_chars\": \"48157\", \"valid_vocab_seen_pct\": \"0.893728\", \"valid_uer\": \"99.8332\", \"valid_weighted_lm_ppl\": \"75.5417\", \"valid_lm_ppl\": \"60.339\", \"valid_wps\": \"18122.6\", \"valid_wpb\": \"3039.8\", \"valid_bsz\": \"144.2\", \"valid_num_updates\": \"87072\", \"valid_best_weighted_lm_ppl\": \"73.0296\"}\r\n",
      "[2021-06-09 19:23:09,414][fairseq.checkpoint_utils][INFO] - Preparing to save checkpoint for epoch 5442 @ 87072 updates\r\n",
      "[2021-06-09 19:23:09,415][fairseq.trainer][INFO] - Saving checkpoint to /kaggle/working/checkpoint_last.pt\r\n"
     ]
    },
    {
     "name": "stdout",
     "output_type": "stream",
     "text": [
      "[2021-06-09 19:23:09,460][fairseq.trainer][INFO] - Finished saving checkpoint to /kaggle/working/checkpoint_last.pt\r\n",
      "[2021-06-09 19:23:09,460][fairseq.checkpoint_utils][INFO] - Saved checkpoint /kaggle/working/checkpoint_last.pt (epoch 5442 @ 87072 updates, score 75.54170953748867) (writing took 0.04666759499741602 seconds)\r\n",
      "[2021-06-09 19:23:09,461][fairseq_cli.train][INFO] - end of epoch 5442 (average epoch stats below)\r\n",
      "[2021-06-09 19:23:09,464][train][INFO] - {\"epoch\": 5442, \"train_loss\": \"3.401\", \"train_ntokens\": \"145.688\", \"train_nsentences\": \"145.688\", \"train_temp\": \"0.1\", \"train_code_ppl\": \"8.888\", \"train_loss_code_pen\": \"0.334\", \"train_loss_smoothness\": \"2.103\", \"train_loss_dense_g\": \"3.991\", \"train_lm_score_sum\": 0.0, \"train_num_pred_chars\": 0.0, \"train_loss_grad_pen\": \"0.1\", \"train_loss_dense_d\": \"0.022\", \"train_loss_token_d\": \"0.022\", \"train_wps\": \"9.3\", \"train_ups\": \"0.06\", \"train_wpb\": \"145.7\", \"train_bsz\": \"145.7\", \"train_num_updates\": \"87072\", \"train_lr_discriminator\": \"0.0005\", \"train_lr_generator\": \"0.0004\", \"train_gnorm\": \"30.385\", \"train_clip\": \"93.8\", \"train_train_wall\": \"246\", \"train_wall\": \"26576\"}\r\n"
     ]
    },
    {
     "name": "stdout",
     "output_type": "stream",
     "text": [
      "[2021-06-09 19:23:09,521][fairseq.trainer][INFO] - begin training epoch 5443\r\n",
      "[2021-06-09 19:23:09,522][fairseq_cli.train][INFO] - Start iterating over samples\r\n"
     ]
    },
    {
     "name": "stdout",
     "output_type": "stream",
     "text": [
      "[2021-06-09 19:27:20,940][fairseq_cli.train][INFO] - begin validation on \"valid\" subset\r\n"
     ]
    },
    {
     "name": "stdout",
     "output_type": "stream",
     "text": [
      "[2021-06-09 19:27:23,429][fairseq.tasks.unpaired_audio_text][INFO] - REF: ɛ n f œ ʂ ə n a d ɵ ʂ ə k t f øː r d eː t s ɔ m h ɛ n d ə p oː ɕ œ r k ɔ n s ɛ t ə n\r\n",
      "[2021-06-09 19:27:23,431][fairseq.tasks.unpaired_audio_text][INFO] - HYP: t ɪ n s j œ r œ j uː œ yː k ə ɡ f œ v j m ə h ɔ k ə uː s eː r n v oː s ɪ ŋ k ɪ l s uː k t a n t a\r\n",
      "[2021-06-09 19:27:23,435][fairseq.tasks.unpaired_audio_text][INFO] - LM [REF]: -53.44462585449219, 0.05339602260269112\r\n",
      "[2021-06-09 19:27:23,435][fairseq.tasks.unpaired_audio_text][INFO] - LM [HYP]: -83.89879608154297, 0.016402846937315307\r\n"
     ]
    },
    {
     "name": "stdout",
     "output_type": "stream",
     "text": [
      "[2021-06-09 19:27:23,943][valid][INFO] - {\"epoch\": 5443, \"valid_loss\": \"0.999\", \"valid_ntokens\": \"3039.79\", \"valid_nsentences\": \"144.214\", \"valid_lm_score_sum\": \"-89607.4\", \"valid_num_pred_chars\": \"48261\", \"valid_vocab_seen_pct\": \"0.891986\", \"valid_uer\": \"99.9201\", \"valid_weighted_lm_ppl\": \"76.1118\", \"valid_lm_ppl\": \"60.5575\", \"valid_wps\": \"18387.5\", \"valid_wpb\": \"3039.8\", \"valid_bsz\": \"144.2\", \"valid_num_updates\": \"87088\", \"valid_best_weighted_lm_ppl\": \"73.0296\"}\r\n",
      "[2021-06-09 19:27:23,946][fairseq.checkpoint_utils][INFO] - Preparing to save checkpoint for epoch 5443 @ 87088 updates\r\n",
      "[2021-06-09 19:27:23,947][fairseq.trainer][INFO] - Saving checkpoint to /kaggle/working/checkpoint_last.pt\r\n"
     ]
    },
    {
     "name": "stdout",
     "output_type": "stream",
     "text": [
      "[2021-06-09 19:27:23,994][fairseq.trainer][INFO] - Finished saving checkpoint to /kaggle/working/checkpoint_last.pt\r\n",
      "[2021-06-09 19:27:23,995][fairseq.checkpoint_utils][INFO] - Saved checkpoint /kaggle/working/checkpoint_last.pt (epoch 5443 @ 87088 updates, score 76.11176174656288) (writing took 0.04834738399949856 seconds)\r\n",
      "[2021-06-09 19:27:23,995][fairseq_cli.train][INFO] - end of epoch 5443 (average epoch stats below)\r\n",
      "[2021-06-09 19:27:23,998][train][INFO] - {\"epoch\": 5443, \"train_loss\": \"3.514\", \"train_ntokens\": \"145.688\", \"train_nsentences\": \"145.688\", \"train_temp\": \"0.1\", \"train_code_ppl\": \"8.901\", \"train_loss_code_pen\": \"0.333\", \"train_loss_smoothness\": \"2.126\", \"train_loss_dense_g\": \"4.197\", \"train_lm_score_sum\": 0.0, \"train_num_pred_chars\": 0.0, \"train_loss_grad_pen\": \"0.083\", \"train_loss_dense_d\": \"0.027\", \"train_loss_token_d\": \"0.024\", \"train_wps\": \"9.2\", \"train_ups\": \"0.06\", \"train_wpb\": \"145.7\", \"train_bsz\": \"145.7\", \"train_num_updates\": \"87088\", \"train_lr_discriminator\": \"0.0005\", \"train_lr_generator\": \"0.0004\", \"train_gnorm\": \"30.551\", \"train_clip\": \"87.5\", \"train_train_wall\": \"251\", \"train_wall\": \"26830\"}\r\n"
     ]
    },
    {
     "name": "stdout",
     "output_type": "stream",
     "text": [
      "[2021-06-09 19:27:24,052][fairseq.trainer][INFO] - begin training epoch 5444\r\n",
      "[2021-06-09 19:27:24,053][fairseq_cli.train][INFO] - Start iterating over samples\r\n"
     ]
    },
    {
     "name": "stdout",
     "output_type": "stream",
     "text": [
      "[2021-06-09 19:30:23,393][train_inner][INFO] - {\"epoch\": 5444, \"update\": 5443.75, \"loss\": \"3.372\", \"ntokens\": \"144.69\", \"nsentences\": \"144.69\", \"temp\": \"0.1\", \"code_ppl\": \"8.939\", \"loss_code_pen\": \"0.333\", \"loss_smoothness\": \"2.102\", \"loss_dense_g\": \"4.152\", \"lm_score_sum\": 0.0, \"num_pred_chars\": 0.0, \"loss_grad_pen\": \"0.09\", \"loss_dense_d\": \"0.024\", \"loss_token_d\": \"0.026\", \"wps\": \"9.1\", \"ups\": \"0.06\", \"wpb\": \"144.7\", \"bsz\": \"144.7\", \"num_updates\": \"87100\", \"lr_discriminator\": \"0.0005\", \"lr_generator\": \"0.0004\", \"gnorm\": \"30.617\", \"clip\": \"83\", \"train_wall\": \"1563\", \"wall\": \"27010\"}\r\n"
     ]
    },
    {
     "name": "stdout",
     "output_type": "stream",
     "text": [
      "[2021-06-09 19:31:34,202][fairseq_cli.train][INFO] - begin validation on \"valid\" subset\r\n"
     ]
    },
    {
     "name": "stdout",
     "output_type": "stream",
     "text": [
      "[2021-06-09 19:31:36,939][fairseq.tasks.unpaired_audio_text][INFO] - REF: ɛ n f œ ʂ ə n a d ɵ ʂ ə k t f øː r d eː t s ɔ m h ɛ n d ə p oː ɕ œ r k ɔ n s ɛ t ə n\r\n",
      "[2021-06-09 19:31:36,942][fairseq.tasks.unpaired_audio_text][INFO] - HYP: t ɪ n s j œ r œ ʂ j uː œ k ə f œ v j m ə h ɔ k b ə uː s eː r n v oː s ɪ ŋ k ɪ l s uː k t a n t a\r\n"
     ]
    },
    {
     "name": "stdout",
     "output_type": "stream",
     "text": [
      "[2021-06-09 19:31:36,947][fairseq.tasks.unpaired_audio_text][INFO] - LM [REF]: -53.44462585449219, 0.05339602260269112\r\n",
      "[2021-06-09 19:31:36,948][fairseq.tasks.unpaired_audio_text][INFO] - LM [HYP]: -82.8956069946289, 0.017229143212358643\r\n"
     ]
    },
    {
     "name": "stdout",
     "output_type": "stream",
     "text": [
      "[2021-06-09 19:31:37,454][valid][INFO] - {\"epoch\": 5444, \"valid_loss\": \"1\", \"valid_ntokens\": \"3039.79\", \"valid_nsentences\": \"144.214\", \"valid_lm_score_sum\": \"-89574.1\", \"valid_num_pred_chars\": \"48255\", \"valid_vocab_seen_pct\": \"0.890244\", \"valid_uer\": \"100.002\", \"valid_weighted_lm_ppl\": \"76.331\", \"valid_lm_ppl\": \"60.4949\", \"valid_wps\": \"17962.7\", \"valid_wpb\": \"3039.8\", \"valid_bsz\": \"144.2\", \"valid_num_updates\": \"87104\", \"valid_best_weighted_lm_ppl\": \"73.0296\"}\r\n"
     ]
    },
    {
     "name": "stdout",
     "output_type": "stream",
     "text": [
      "[2021-06-09 19:31:37,457][fairseq.checkpoint_utils][INFO] - Preparing to save checkpoint for epoch 5444 @ 87104 updates\r\n",
      "[2021-06-09 19:31:37,459][fairseq.trainer][INFO] - Saving checkpoint to /kaggle/working/checkpoint_last.pt\r\n",
      "[2021-06-09 19:31:37,504][fairseq.trainer][INFO] - Finished saving checkpoint to /kaggle/working/checkpoint_last.pt\r\n",
      "[2021-06-09 19:31:37,504][fairseq.checkpoint_utils][INFO] - Saved checkpoint /kaggle/working/checkpoint_last.pt (epoch 5444 @ 87104 updates, score 76.33100082367208) (writing took 0.04733157400187338 seconds)\r\n",
      "[2021-06-09 19:31:37,505][fairseq_cli.train][INFO] - end of epoch 5444 (average epoch stats below)\r\n"
     ]
    },
    {
     "name": "stdout",
     "output_type": "stream",
     "text": [
      "[2021-06-09 19:31:37,508][train][INFO] - {\"epoch\": 5444, \"train_loss\": \"3.506\", \"train_ntokens\": \"145.688\", \"train_nsentences\": \"145.688\", \"train_temp\": \"0.1\", \"train_code_ppl\": \"8.9\", \"train_loss_code_pen\": \"0.357\", \"train_loss_smoothness\": \"2.153\", \"train_loss_dense_g\": \"4.125\", \"train_lm_score_sum\": 0.0, \"train_num_pred_chars\": 0.0, \"train_loss_grad_pen\": \"0.089\", \"train_loss_dense_d\": \"0.024\", \"train_loss_token_d\": \"0.027\", \"train_wps\": \"9.2\", \"train_ups\": \"0.06\", \"train_wpb\": \"145.7\", \"train_bsz\": \"145.7\", \"train_num_updates\": \"87104\", \"train_lr_discriminator\": \"0.0005\", \"train_lr_generator\": \"0.0004\", \"train_gnorm\": \"30.895\", \"train_clip\": \"87.5\", \"train_train_wall\": \"250\", \"train_wall\": \"27084\"}\r\n"
     ]
    },
    {
     "name": "stdout",
     "output_type": "stream",
     "text": [
      "[2021-06-09 19:31:37,571][fairseq.trainer][INFO] - begin training epoch 5445\r\n",
      "[2021-06-09 19:31:37,573][fairseq_cli.train][INFO] - Start iterating over samples\r\n"
     ]
    },
    {
     "name": "stdout",
     "output_type": "stream",
     "text": [
      "[2021-06-09 19:36:03,316][fairseq_cli.train][INFO] - begin validation on \"valid\" subset\r\n"
     ]
    },
    {
     "name": "stdout",
     "output_type": "stream",
     "text": [
      "[2021-06-09 19:36:05,806][fairseq.tasks.unpaired_audio_text][INFO] - REF: ɛ n f œ ʂ ə n a d ɵ ʂ ə k t f øː r d eː t s ɔ m h ɛ n d ə p oː ɕ œ r k ɔ n s ɛ t ə n\r\n",
      "[2021-06-09 19:36:05,808][fairseq.tasks.unpaired_audio_text][INFO] - HYP: t ɪ n s j œ r œ j uː œ k ə ɡ f œ v j m b ə h ɔ k b ə uː s eː r n v oː s ɪ ŋ k ɪ l s uː k t a n t a\r\n",
      "[2021-06-09 19:36:05,812][fairseq.tasks.unpaired_audio_text][INFO] - LM [REF]: -53.44462585449219, 0.05339602260269112\r\n",
      "[2021-06-09 19:36:05,812][fairseq.tasks.unpaired_audio_text][INFO] - LM [HYP]: -84.6067886352539, 0.017272633980146255\r\n"
     ]
    },
    {
     "name": "stdout",
     "output_type": "stream",
     "text": [
      "[2021-06-09 19:36:06,312][valid][INFO] - {\"epoch\": 5445, \"valid_loss\": \"1.003\", \"valid_ntokens\": \"3039.79\", \"valid_nsentences\": \"144.214\", \"valid_lm_score_sum\": \"-89785.1\", \"valid_num_pred_chars\": \"48457\", \"valid_vocab_seen_pct\": \"0.890244\", \"valid_uer\": \"100.305\", \"valid_weighted_lm_ppl\": \"75.8141\", \"valid_lm_ppl\": \"60.0852\", \"valid_wps\": \"18518.1\", \"valid_wpb\": \"3039.8\", \"valid_bsz\": \"144.2\", \"valid_num_updates\": \"87120\", \"valid_best_weighted_lm_ppl\": \"73.0296\"}\r\n",
      "[2021-06-09 19:36:06,317][fairseq.checkpoint_utils][INFO] - Preparing to save checkpoint for epoch 5445 @ 87120 updates\r\n",
      "[2021-06-09 19:36:06,318][fairseq.trainer][INFO] - Saving checkpoint to /kaggle/working/checkpoint_last.pt\r\n"
     ]
    },
    {
     "name": "stdout",
     "output_type": "stream",
     "text": [
      "[2021-06-09 19:36:06,374][fairseq.trainer][INFO] - Finished saving checkpoint to /kaggle/working/checkpoint_last.pt\r\n",
      "[2021-06-09 19:36:06,374][fairseq.checkpoint_utils][INFO] - Saved checkpoint /kaggle/working/checkpoint_last.pt (epoch 5445 @ 87120 updates, score 75.81407065557013) (writing took 0.05739959999846178 seconds)\r\n",
      "[2021-06-09 19:36:06,374][fairseq_cli.train][INFO] - end of epoch 5445 (average epoch stats below)\r\n",
      "[2021-06-09 19:36:06,378][train][INFO] - {\"epoch\": 5445, \"train_loss\": \"3.349\", \"train_ntokens\": \"145.688\", \"train_nsentences\": \"145.688\", \"train_temp\": \"0.1\", \"train_code_ppl\": \"8.825\", \"train_loss_code_pen\": \"0.324\", \"train_loss_smoothness\": \"2.069\", \"train_loss_dense_g\": \"4.426\", \"train_lm_score_sum\": 0.0, \"train_num_pred_chars\": 0.0, \"train_loss_grad_pen\": \"0.068\", \"train_loss_dense_d\": \"0.025\", \"train_loss_token_d\": \"0.029\", \"train_wps\": \"8.7\", \"train_ups\": \"0.06\", \"train_wpb\": \"145.7\", \"train_bsz\": \"145.7\", \"train_num_updates\": \"87120\", \"train_lr_discriminator\": \"0.0005\", \"train_lr_generator\": \"0.0004\", \"train_gnorm\": \"30.12\", \"train_clip\": \"68.8\", \"train_train_wall\": \"265\", \"train_wall\": \"27353\"}\r\n"
     ]
    },
    {
     "name": "stdout",
     "output_type": "stream",
     "text": [
      "[2021-06-09 19:36:06,442][fairseq.trainer][INFO] - begin training epoch 5446\r\n",
      "[2021-06-09 19:36:06,443][fairseq_cli.train][INFO] - Start iterating over samples\r\n"
     ]
    },
    {
     "name": "stdout",
     "output_type": "stream",
     "text": [
      "[2021-06-09 19:40:37,944][fairseq_cli.train][INFO] - begin validation on \"valid\" subset\r\n"
     ]
    },
    {
     "name": "stdout",
     "output_type": "stream",
     "text": [
      "[2021-06-09 19:40:40,433][fairseq.tasks.unpaired_audio_text][INFO] - REF: ɛ n f œ ʂ ə n a d ɵ ʂ ə k t f øː r d eː t s ɔ m h ɛ n d ə p oː ɕ œ r k ɔ n s ɛ t ə n\r\n",
      "[2021-06-09 19:40:40,435][fairseq.tasks.unpaired_audio_text][INFO] - HYP: t ɪ n s j œ r œ ɕ j uː œ k ə f œ v j m ə h ɔ k b ə uː s eː r n v oː s ɪ ŋ k ɪ l s uː k t a n t a\r\n",
      "[2021-06-09 19:40:40,439][fairseq.tasks.unpaired_audio_text][INFO] - LM [REF]: -53.44462585449219, 0.05339602260269112\r\n",
      "[2021-06-09 19:40:40,440][fairseq.tasks.unpaired_audio_text][INFO] - LM [HYP]: -83.30632781982422, 0.016885928266460758\r\n"
     ]
    },
    {
     "name": "stdout",
     "output_type": "stream",
     "text": [
      "[2021-06-09 19:40:40,948][valid][INFO] - {\"epoch\": 5446, \"valid_loss\": \"0.998\", \"valid_ntokens\": \"3039.79\", \"valid_nsentences\": \"144.214\", \"valid_lm_score_sum\": \"-89278.7\", \"valid_num_pred_chars\": \"48103\", \"valid_vocab_seen_pct\": \"0.88676\", \"valid_uer\": \"99.7603\", \"valid_weighted_lm_ppl\": \"76.845\", \"valid_lm_ppl\": \"60.4265\", \"valid_wps\": \"18344\", \"valid_wpb\": \"3039.8\", \"valid_bsz\": \"144.2\", \"valid_num_updates\": \"87136\", \"valid_best_weighted_lm_ppl\": \"73.0296\"}\r\n",
      "[2021-06-09 19:40:40,951][fairseq.checkpoint_utils][INFO] - Preparing to save checkpoint for epoch 5446 @ 87136 updates\r\n",
      "[2021-06-09 19:40:40,952][fairseq.trainer][INFO] - Saving checkpoint to /kaggle/working/checkpoint_last.pt\r\n"
     ]
    },
    {
     "name": "stdout",
     "output_type": "stream",
     "text": [
      "[2021-06-09 19:40:40,999][fairseq.trainer][INFO] - Finished saving checkpoint to /kaggle/working/checkpoint_last.pt\r\n",
      "[2021-06-09 19:40:40,999][fairseq.checkpoint_utils][INFO] - Saved checkpoint /kaggle/working/checkpoint_last.pt (epoch 5446 @ 87136 updates, score 76.84496906957648) (writing took 0.04801645199768245 seconds)\r\n",
      "[2021-06-09 19:40:41,000][fairseq_cli.train][INFO] - end of epoch 5446 (average epoch stats below)\r\n",
      "[2021-06-09 19:40:41,003][train][INFO] - {\"epoch\": 5446, \"train_loss\": \"3.013\", \"train_ntokens\": \"145.688\", \"train_nsentences\": \"145.688\", \"train_temp\": \"0.1\", \"train_code_ppl\": \"8.851\", \"train_loss_code_pen\": \"0.326\", \"train_loss_smoothness\": \"2.05\", \"train_loss_dense_g\": \"4.184\", \"train_lm_score_sum\": 0.0, \"train_num_pred_chars\": 0.0, \"train_loss_grad_pen\": \"0.056\", \"train_loss_dense_d\": \"0.025\", \"train_loss_token_d\": \"0.021\", \"train_wps\": \"8.5\", \"train_ups\": \"0.06\", \"train_wpb\": \"145.7\", \"train_bsz\": \"145.7\", \"train_num_updates\": \"87136\", \"train_lr_discriminator\": \"0.0005\", \"train_lr_generator\": \"0.0004\", \"train_gnorm\": \"29.687\", \"train_clip\": \"56.2\", \"train_train_wall\": \"271\", \"train_wall\": \"27627\"}\r\n"
     ]
    },
    {
     "name": "stdout",
     "output_type": "stream",
     "text": [
      "[2021-06-09 19:40:41,061][fairseq.trainer][INFO] - begin training epoch 5447\r\n",
      "[2021-06-09 19:40:41,063][fairseq_cli.train][INFO] - Start iterating over samples\r\n"
     ]
    },
    {
     "name": "stdout",
     "output_type": "stream",
     "text": [
      "[2021-06-09 19:44:49,338][fairseq_cli.train][INFO] - begin validation on \"valid\" subset\r\n"
     ]
    },
    {
     "name": "stdout",
     "output_type": "stream",
     "text": [
      "[2021-06-09 19:44:51,827][fairseq.tasks.unpaired_audio_text][INFO] - REF: ɛ n f œ ʂ ə n a d ɵ ʂ ə k t f øː r d eː t s ɔ m h ɛ n d ə p oː ɕ œ r k ɔ n s ɛ t ə n\r\n",
      "[2021-06-09 19:44:51,830][fairseq.tasks.unpaired_audio_text][INFO] - HYP: t ɪ n s j œ r œ j uː œ yː k ə ɡ f œ v j m ə h ɔ k b ə uː s eː r n v oː s oː ɪ ŋ k ɪ l s uː k t a n t a\r\n",
      "[2021-06-09 19:44:51,834][fairseq.tasks.unpaired_audio_text][INFO] - LM [REF]: -53.44462585449219, 0.05339602260269112\r\n",
      "[2021-06-09 19:44:51,834][fairseq.tasks.unpaired_audio_text][INFO] - LM [HYP]: -87.23128509521484, 0.016587070553123116\r\n"
     ]
    },
    {
     "name": "stdout",
     "output_type": "stream",
     "text": [
      "[2021-06-09 19:44:52,337][valid][INFO] - {\"epoch\": 5447, \"valid_loss\": \"1\", \"valid_ntokens\": \"3039.79\", \"valid_nsentences\": \"144.214\", \"valid_lm_score_sum\": \"-89381.7\", \"valid_num_pred_chars\": \"48297\", \"valid_vocab_seen_pct\": \"0.88676\", \"valid_uer\": \"99.9624\", \"valid_weighted_lm_ppl\": \"75.9968\", \"valid_lm_ppl\": \"59.7596\", \"valid_wps\": \"18508.5\", \"valid_wpb\": \"3039.8\", \"valid_bsz\": \"144.2\", \"valid_num_updates\": \"87152\", \"valid_best_weighted_lm_ppl\": \"73.0296\"}\r\n",
      "[2021-06-09 19:44:52,340][fairseq.checkpoint_utils][INFO] - Preparing to save checkpoint for epoch 5447 @ 87152 updates\r\n",
      "[2021-06-09 19:44:52,341][fairseq.trainer][INFO] - Saving checkpoint to /kaggle/working/checkpoint_last.pt\r\n"
     ]
    },
    {
     "name": "stdout",
     "output_type": "stream",
     "text": [
      "[2021-06-09 19:44:52,387][fairseq.trainer][INFO] - Finished saving checkpoint to /kaggle/working/checkpoint_last.pt\r\n",
      "[2021-06-09 19:44:52,388][fairseq.checkpoint_utils][INFO] - Saved checkpoint /kaggle/working/checkpoint_last.pt (epoch 5447 @ 87152 updates, score 75.9968493573944) (writing took 0.04746645599880139 seconds)\r\n",
      "[2021-06-09 19:44:52,388][fairseq_cli.train][INFO] - end of epoch 5447 (average epoch stats below)\r\n",
      "[2021-06-09 19:44:52,392][train][INFO] - {\"epoch\": 5447, \"train_loss\": \"3.58\", \"train_ntokens\": \"145.688\", \"train_nsentences\": \"145.688\", \"train_temp\": \"0.1\", \"train_code_ppl\": \"8.803\", \"train_loss_code_pen\": \"0.315\", \"train_loss_smoothness\": \"2.038\", \"train_loss_dense_g\": \"4.451\", \"train_lm_score_sum\": 0.0, \"train_num_pred_chars\": 0.0, \"train_loss_grad_pen\": \"0.06\", \"train_loss_dense_d\": \"0.021\", \"train_loss_token_d\": \"0.033\", \"train_wps\": \"9.3\", \"train_ups\": \"0.06\", \"train_wpb\": \"145.7\", \"train_bsz\": \"145.7\", \"train_num_updates\": \"87152\", \"train_lr_discriminator\": \"0.0005\", \"train_lr_generator\": \"0.0004\", \"train_gnorm\": \"31.386\", \"train_clip\": \"68.8\", \"train_train_wall\": \"248\", \"train_wall\": \"27879\"}\r\n"
     ]
    },
    {
     "name": "stdout",
     "output_type": "stream",
     "text": [
      "[2021-06-09 19:44:52,449][fairseq.trainer][INFO] - begin training epoch 5448\r\n",
      "[2021-06-09 19:44:52,451][fairseq_cli.train][INFO] - Start iterating over samples\r\n"
     ]
    },
    {
     "name": "stdout",
     "output_type": "stream",
     "text": [
      "[2021-06-09 19:49:12,289][fairseq_cli.train][INFO] - begin validation on \"valid\" subset\r\n"
     ]
    },
    {
     "name": "stdout",
     "output_type": "stream",
     "text": [
      "[2021-06-09 19:49:14,748][fairseq.tasks.unpaired_audio_text][INFO] - REF: ɛ n f œ ʂ ə n a d ɵ ʂ ə k t f øː r d eː t s ɔ m h ɛ n d ə p oː ɕ œ r k ɔ n s ɛ t ə n\r\n"
     ]
    },
    {
     "name": "stdout",
     "output_type": "stream",
     "text": [
      "[2021-06-09 19:49:14,752][fairseq.tasks.unpaired_audio_text][INFO] - HYP: t ɪ n s j œ r œ ɕ j uː œ yː k ə f œ v j m b ə h ɔ b ə uː s eː r n v oː s ɪ ŋ k ɪ l s uː k t k n t a\r\n",
      "[2021-06-09 19:49:14,756][fairseq.tasks.unpaired_audio_text][INFO] - LM [REF]: -53.44462585449219, 0.05339602260269112\r\n",
      "[2021-06-09 19:49:14,756][fairseq.tasks.unpaired_audio_text][INFO] - LM [HYP]: -88.94644165039062, 0.014026494064786451\r\n"
     ]
    },
    {
     "name": "stdout",
     "output_type": "stream",
     "text": [
      "[2021-06-09 19:49:15,302][valid][INFO] - {\"epoch\": 5448, \"valid_loss\": \"0.999\", \"valid_ntokens\": \"3039.79\", \"valid_nsentences\": \"144.214\", \"valid_lm_score_sum\": \"-89612.2\", \"valid_num_pred_chars\": \"48281\", \"valid_vocab_seen_pct\": \"0.891986\", \"valid_uer\": \"99.8755\", \"valid_weighted_lm_ppl\": \"76.0042\", \"valid_lm_ppl\": \"60.4719\", \"valid_wps\": \"18154.8\", \"valid_wpb\": \"3039.8\", \"valid_bsz\": \"144.2\", \"valid_num_updates\": \"87168\", \"valid_best_weighted_lm_ppl\": \"73.0296\"}\r\n",
      "[2021-06-09 19:49:15,306][fairseq.checkpoint_utils][INFO] - Preparing to save checkpoint for epoch 5448 @ 87168 updates\r\n",
      "[2021-06-09 19:49:15,307][fairseq.trainer][INFO] - Saving checkpoint to /kaggle/working/checkpoint_last.pt\r\n"
     ]
    },
    {
     "name": "stdout",
     "output_type": "stream",
     "text": [
      "[2021-06-09 19:49:15,355][fairseq.trainer][INFO] - Finished saving checkpoint to /kaggle/working/checkpoint_last.pt\r\n",
      "[2021-06-09 19:49:15,356][fairseq.checkpoint_utils][INFO] - Saved checkpoint /kaggle/working/checkpoint_last.pt (epoch 5448 @ 87168 updates, score 76.00420382414427) (writing took 0.04961903499861364 seconds)\r\n",
      "[2021-06-09 19:49:15,356][fairseq_cli.train][INFO] - end of epoch 5448 (average epoch stats below)\r\n",
      "[2021-06-09 19:49:15,360][train][INFO] - {\"epoch\": 5448, \"train_loss\": \"3.118\", \"train_ntokens\": \"145.688\", \"train_nsentences\": \"145.688\", \"train_temp\": \"0.1\", \"train_code_ppl\": \"9.046\", \"train_loss_code_pen\": \"0.353\", \"train_loss_smoothness\": \"2.176\", \"train_loss_dense_g\": \"3.818\", \"train_lm_score_sum\": 0.0, \"train_num_pred_chars\": 0.0, \"train_loss_grad_pen\": \"0.054\", \"train_loss_dense_d\": \"0.031\", \"train_loss_token_d\": \"0.033\", \"train_wps\": \"8.9\", \"train_ups\": \"0.06\", \"train_wpb\": \"145.7\", \"train_bsz\": \"145.7\", \"train_num_updates\": \"87168\", \"train_lr_discriminator\": \"0.0005\", \"train_lr_generator\": \"0.0004\", \"train_gnorm\": \"29.715\", \"train_clip\": \"68.8\", \"train_train_wall\": \"259\", \"train_wall\": \"28142\"}\r\n"
     ]
    },
    {
     "name": "stdout",
     "output_type": "stream",
     "text": [
      "[2021-06-09 19:49:15,435][fairseq.trainer][INFO] - begin training epoch 5449\r\n",
      "[2021-06-09 19:49:15,437][fairseq_cli.train][INFO] - Start iterating over samples\r\n"
     ]
    },
    {
     "name": "stdout",
     "output_type": "stream",
     "text": [
      "[2021-06-09 19:53:07,795][fairseq_cli.train][INFO] - begin validation on \"valid\" subset\r\n"
     ]
    },
    {
     "name": "stdout",
     "output_type": "stream",
     "text": [
      "[2021-06-09 19:53:10,453][fairseq.tasks.unpaired_audio_text][INFO] - REF: ɛ n f œ ʂ ə n a d ɵ ʂ ə k t f øː r d eː t s ɔ m h ɛ n d ə p oː ɕ œ r k ɔ n s ɛ t ə n\r\n",
      "[2021-06-09 19:53:10,455][fairseq.tasks.unpaired_audio_text][INFO] - HYP: t ɪ n s j œ r œ j uː œ k ə ɡ f œ v j m b ə h œ k b ə uː s eː r n v oː s ɪ ŋ k ɪ l s uː k t a n t a\r\n"
     ]
    },
    {
     "name": "stdout",
     "output_type": "stream",
     "text": [
      "[2021-06-09 19:53:10,461][fairseq.tasks.unpaired_audio_text][INFO] - LM [REF]: -53.44462585449219, 0.05339602260269112\r\n",
      "[2021-06-09 19:53:10,461][fairseq.tasks.unpaired_audio_text][INFO] - LM [HYP]: -85.95825958251953, 0.01618836266924502\r\n"
     ]
    },
    {
     "name": "stdout",
     "output_type": "stream",
     "text": [
      "[2021-06-09 19:53:10,984][valid][INFO] - {\"epoch\": 5449, \"valid_loss\": \"0.999\", \"valid_ntokens\": \"3039.79\", \"valid_nsentences\": \"144.214\", \"valid_lm_score_sum\": \"-89445.9\", \"valid_num_pred_chars\": \"48260\", \"valid_vocab_seen_pct\": \"0.893728\", \"valid_uer\": \"99.8872\", \"valid_weighted_lm_ppl\": \"75.2629\", \"valid_lm_ppl\": \"60.1163\", \"valid_wps\": \"17011.7\", \"valid_wpb\": \"3039.8\", \"valid_bsz\": \"144.2\", \"valid_num_updates\": \"87184\", \"valid_best_weighted_lm_ppl\": \"73.0296\"}\r\n",
      "[2021-06-09 19:53:10,988][fairseq.checkpoint_utils][INFO] - Preparing to save checkpoint for epoch 5449 @ 87184 updates\r\n",
      "[2021-06-09 19:53:10,989][fairseq.trainer][INFO] - Saving checkpoint to /kaggle/working/checkpoint_last.pt\r\n"
     ]
    },
    {
     "name": "stdout",
     "output_type": "stream",
     "text": [
      "[2021-06-09 19:53:11,038][fairseq.trainer][INFO] - Finished saving checkpoint to /kaggle/working/checkpoint_last.pt\r\n",
      "[2021-06-09 19:53:11,038][fairseq.checkpoint_utils][INFO] - Saved checkpoint /kaggle/working/checkpoint_last.pt (epoch 5449 @ 87184 updates, score 75.26290104415303) (writing took 0.050528196999948705 seconds)\r\n",
      "[2021-06-09 19:53:11,039][fairseq_cli.train][INFO] - end of epoch 5449 (average epoch stats below)\r\n",
      "[2021-06-09 19:53:11,042][train][INFO] - {\"epoch\": 5449, \"train_loss\": \"3.688\", \"train_ntokens\": \"145.688\", \"train_nsentences\": \"145.688\", \"train_temp\": \"0.1\", \"train_code_ppl\": \"8.826\", \"train_loss_code_pen\": \"0.321\", \"train_loss_smoothness\": \"2.068\", \"train_loss_dense_g\": \"4.224\", \"train_lm_score_sum\": 0.0, \"train_num_pred_chars\": 0.0, \"train_loss_grad_pen\": \"0.083\", \"train_loss_dense_d\": \"0.019\", \"train_loss_token_d\": \"0.024\", \"train_wps\": \"9.9\", \"train_ups\": \"0.07\", \"train_wpb\": \"145.7\", \"train_bsz\": \"145.7\", \"train_num_updates\": \"87184\", \"train_lr_discriminator\": \"0.0005\", \"train_lr_generator\": \"0.0004\", \"train_gnorm\": \"35.835\", \"train_clip\": \"68.8\", \"train_train_wall\": \"232\", \"train_wall\": \"28377\"}\r\n"
     ]
    },
    {
     "name": "stdout",
     "output_type": "stream",
     "text": [
      "[2021-06-09 19:53:11,106][fairseq.trainer][INFO] - begin training epoch 5450\r\n",
      "[2021-06-09 19:53:11,108][fairseq_cli.train][INFO] - Start iterating over samples\r\n"
     ]
    },
    {
     "name": "stdout",
     "output_type": "stream",
     "text": [
      "[2021-06-09 19:57:28,728][train_inner][INFO] - {\"epoch\": 5450, \"update\": 5450.0, \"loss\": \"3.341\", \"ntokens\": \"146.26\", \"nsentences\": \"146.26\", \"temp\": \"0.1\", \"code_ppl\": \"8.872\", \"loss_code_pen\": \"0.33\", \"loss_smoothness\": \"2.089\", \"loss_dense_g\": \"4.224\", \"lm_score_sum\": 0.0, \"num_pred_chars\": 0.0, \"loss_grad_pen\": \"0.062\", \"loss_dense_d\": \"0.025\", \"loss_token_d\": \"0.026\", \"wps\": \"9\", \"ups\": \"0.06\", \"wpb\": \"146.3\", \"bsz\": \"146.3\", \"num_updates\": \"87200\", \"lr_discriminator\": \"0.0005\", \"lr_generator\": \"0.0004\", \"gnorm\": \"31.027\", \"clip\": \"66\", \"train_wall\": \"1604\", \"wall\": \"28635\"}\r\n",
      "[2021-06-09 19:57:28,730][fairseq_cli.train][INFO] - begin validation on \"valid\" subset\r\n"
     ]
    },
    {
     "name": "stdout",
     "output_type": "stream",
     "text": [
      "[2021-06-09 19:57:31,414][fairseq.tasks.unpaired_audio_text][INFO] - REF: ɛ n f œ ʂ ə n a d ɵ ʂ ə k t f øː r d eː t s ɔ m h ɛ n d ə p oː ɕ œ r k ɔ n s ɛ t ə n\r\n",
      "[2021-06-09 19:57:31,417][fairseq.tasks.unpaired_audio_text][INFO] - HYP: t ɪ n s j œ r œ j uː œ k ə ɡ f œ v j m b ə h œ k b ə uː s eː r n v oː s oː ɪ ŋ k ɪ l s uː k t a n t a\r\n",
      "[2021-06-09 19:57:31,421][fairseq.tasks.unpaired_audio_text][INFO] - LM [REF]: -53.44462585449219, 0.05339602260269112\r\n",
      "[2021-06-09 19:57:31,422][fairseq.tasks.unpaired_audio_text][INFO] - LM [HYP]: -88.61710357666016, 0.0155413121033499\r\n"
     ]
    },
    {
     "name": "stdout",
     "output_type": "stream",
     "text": [
      "[2021-06-09 19:57:31,939][valid][INFO] - {\"epoch\": 5450, \"valid_loss\": \"0.998\", \"valid_ntokens\": \"3039.79\", \"valid_nsentences\": \"144.214\", \"valid_lm_score_sum\": \"-89224.9\", \"valid_num_pred_chars\": \"48162\", \"valid_vocab_seen_pct\": \"0.893728\", \"valid_uer\": \"99.8426\", \"valid_weighted_lm_ppl\": \"75.1018\", \"valid_lm_ppl\": \"59.9876\", \"valid_wps\": \"16799.4\", \"valid_wpb\": \"3039.8\", \"valid_bsz\": \"144.2\", \"valid_num_updates\": \"87200\", \"valid_best_weighted_lm_ppl\": \"73.0296\"}\r\n",
      "[2021-06-09 19:57:31,942][fairseq.checkpoint_utils][INFO] - Preparing to save checkpoint for epoch 5450 @ 87200 updates\r\n",
      "[2021-06-09 19:57:31,943][fairseq.trainer][INFO] - Saving checkpoint to /kaggle/working/checkpoint_last.pt\r\n"
     ]
    },
    {
     "name": "stdout",
     "output_type": "stream",
     "text": [
      "[2021-06-09 19:57:31,989][fairseq.trainer][INFO] - Finished saving checkpoint to /kaggle/working/checkpoint_last.pt\r\n",
      "[2021-06-09 19:57:31,989][fairseq.checkpoint_utils][INFO] - Saved checkpoint /kaggle/working/checkpoint_last.pt (epoch 5450 @ 87200 updates, score 75.10180948011532) (writing took 0.04690463100268971 seconds)\r\n",
      "[2021-06-09 19:57:31,989][fairseq_cli.train][INFO] - end of epoch 5450 (average epoch stats below)\r\n",
      "[2021-06-09 19:57:31,993][train][INFO] - {\"epoch\": 5450, \"train_loss\": \"3.286\", \"train_ntokens\": \"145.688\", \"train_nsentences\": \"145.688\", \"train_temp\": \"0.1\", \"train_code_ppl\": \"8.95\", \"train_loss_code_pen\": \"0.337\", \"train_loss_smoothness\": \"2.13\", \"train_loss_dense_g\": \"4.242\", \"train_lm_score_sum\": 0.0, \"train_num_pred_chars\": 0.0, \"train_loss_grad_pen\": \"0.056\", \"train_loss_dense_d\": \"0.026\", \"train_loss_token_d\": \"0.022\", \"train_wps\": \"8.9\", \"train_ups\": \"0.06\", \"train_wpb\": \"145.7\", \"train_bsz\": \"145.7\", \"train_num_updates\": \"87200\", \"train_lr_discriminator\": \"0.0005\", \"train_lr_generator\": \"0.0004\", \"train_gnorm\": \"30.186\", \"train_clip\": \"68.8\", \"train_train_wall\": \"257\", \"train_wall\": \"28638\"}\r\n"
     ]
    },
    {
     "name": "stdout",
     "output_type": "stream",
     "text": [
      "[2021-06-09 19:57:32,048][fairseq.trainer][INFO] - begin training epoch 5451\r\n",
      "[2021-06-09 19:57:32,050][fairseq_cli.train][INFO] - Start iterating over samples\r\n"
     ]
    },
    {
     "name": "stdout",
     "output_type": "stream",
     "text": [
      "[2021-06-09 20:01:34,858][fairseq_cli.train][INFO] - begin validation on \"valid\" subset\r\n"
     ]
    },
    {
     "name": "stdout",
     "output_type": "stream",
     "text": [
      "[2021-06-09 20:01:37,391][fairseq.tasks.unpaired_audio_text][INFO] - REF: ɛ n f œ ʂ ə n a d ɵ ʂ ə k t f øː r d eː t s ɔ m h ɛ n d ə p oː ɕ œ r k ɔ n s ɛ t ə n\r\n"
     ]
    },
    {
     "name": "stdout",
     "output_type": "stream",
     "text": [
      "[2021-06-09 20:01:37,394][fairseq.tasks.unpaired_audio_text][INFO] - HYP: t ɪ n s j œ r œ ɕ j uː œ k ə ɡ f œ v j m ə h ɔ k b ə uː s eː r n v oː s oː ɪ ŋ k ɪ l s uː t a n t a\r\n",
      "[2021-06-09 20:01:37,400][fairseq.tasks.unpaired_audio_text][INFO] - LM [REF]: -53.44462585449219, 0.05339602260269112\r\n",
      "[2021-06-09 20:01:37,400][fairseq.tasks.unpaired_audio_text][INFO] - LM [HYP]: -85.84225463867188, 0.016278699077690365\r\n"
     ]
    },
    {
     "name": "stdout",
     "output_type": "stream",
     "text": [
      "[2021-06-09 20:01:37,909][valid][INFO] - {\"epoch\": 5451, \"valid_loss\": \"1.001\", \"valid_ntokens\": \"3039.79\", \"valid_nsentences\": \"144.214\", \"valid_lm_score_sum\": \"-89414.4\", \"valid_num_pred_chars\": \"48423\", \"valid_vocab_seen_pct\": \"0.890244\", \"valid_uer\": \"100.11\", \"valid_weighted_lm_ppl\": \"74.7482\", \"valid_lm_ppl\": \"59.2405\", \"valid_wps\": \"18222.2\", \"valid_wpb\": \"3039.8\", \"valid_bsz\": \"144.2\", \"valid_num_updates\": \"87216\", \"valid_best_weighted_lm_ppl\": \"73.0296\"}\r\n",
      "[2021-06-09 20:01:37,912][fairseq.checkpoint_utils][INFO] - Preparing to save checkpoint for epoch 5451 @ 87216 updates\r\n",
      "[2021-06-09 20:01:37,913][fairseq.trainer][INFO] - Saving checkpoint to /kaggle/working/checkpoint_last.pt\r\n"
     ]
    },
    {
     "name": "stdout",
     "output_type": "stream",
     "text": [
      "[2021-06-09 20:01:37,959][fairseq.trainer][INFO] - Finished saving checkpoint to /kaggle/working/checkpoint_last.pt\r\n",
      "[2021-06-09 20:01:37,959][fairseq.checkpoint_utils][INFO] - Saved checkpoint /kaggle/working/checkpoint_last.pt (epoch 5451 @ 87216 updates, score 74.74815203836998) (writing took 0.04707195399896591 seconds)\r\n",
      "[2021-06-09 20:01:37,959][fairseq_cli.train][INFO] - end of epoch 5451 (average epoch stats below)\r\n",
      "[2021-06-09 20:01:37,962][train][INFO] - {\"epoch\": 5451, \"train_loss\": \"3.755\", \"train_ntokens\": \"145.688\", \"train_nsentences\": \"145.688\", \"train_temp\": \"0.1\", \"train_code_ppl\": \"8.699\", \"train_loss_code_pen\": \"0.323\", \"train_loss_smoothness\": \"2.081\", \"train_loss_dense_g\": \"4.298\", \"train_lm_score_sum\": 0.0, \"train_num_pred_chars\": 0.0, \"train_loss_grad_pen\": \"0.12\", \"train_loss_dense_d\": \"0.02\", \"train_loss_token_d\": \"0.026\", \"train_wps\": \"9.5\", \"train_ups\": \"0.07\", \"train_wpb\": \"145.7\", \"train_bsz\": \"145.7\", \"train_num_updates\": \"87216\", \"train_lr_discriminator\": \"0.0005\", \"train_lr_generator\": \"0.0004\", \"train_gnorm\": \"32.73\", \"train_clip\": \"93.8\", \"train_train_wall\": \"242\", \"train_wall\": \"28884\"}\r\n"
     ]
    },
    {
     "name": "stdout",
     "output_type": "stream",
     "text": [
      "[2021-06-09 20:01:38,018][fairseq.trainer][INFO] - begin training epoch 5452\r\n",
      "[2021-06-09 20:01:38,019][fairseq_cli.train][INFO] - Start iterating over samples\r\n"
     ]
    },
    {
     "name": "stdout",
     "output_type": "stream",
     "text": [
      "[2021-06-09 20:05:42,530][fairseq_cli.train][INFO] - begin validation on \"valid\" subset\r\n"
     ]
    },
    {
     "name": "stdout",
     "output_type": "stream",
     "text": [
      "[2021-06-09 20:05:45,190][fairseq.tasks.unpaired_audio_text][INFO] - REF: ɛ n f œ ʂ ə n a d ɵ ʂ ə k t f øː r d eː t s ɔ m h ɛ n d ə p oː ɕ œ r k ɔ n s ɛ t ə n\r\n",
      "[2021-06-09 20:05:45,193][fairseq.tasks.unpaired_audio_text][INFO] - HYP: t ɪ n s j œ r œ ɕ j uː œ k j ə ɡ f œ v j m b ə h ɔ k b ə uː s eː r n v oː s oː ɪ ŋ k ɪ l s uː k t a n t a\r\n",
      "[2021-06-09 20:05:45,197][fairseq.tasks.unpaired_audio_text][INFO] - LM [REF]: -53.44462585449219, 0.05339602260269112\r\n",
      "[2021-06-09 20:05:45,198][fairseq.tasks.unpaired_audio_text][INFO] - LM [HYP]: -91.96208953857422, 0.015733370641704703\r\n"
     ]
    },
    {
     "name": "stdout",
     "output_type": "stream",
     "text": [
      "[2021-06-09 20:05:45,697][valid][INFO] - {\"epoch\": 5452, \"valid_loss\": \"1\", \"valid_ntokens\": \"3039.79\", \"valid_nsentences\": \"144.214\", \"valid_lm_score_sum\": \"-89364.6\", \"valid_num_pred_chars\": \"48312\", \"valid_vocab_seen_pct\": \"0.891986\", \"valid_uer\": \"99.9906\", \"valid_weighted_lm_ppl\": \"74.9588\", \"valid_lm_ppl\": \"59.6401\", \"valid_wps\": \"17702\", \"valid_wpb\": \"3039.8\", \"valid_bsz\": \"144.2\", \"valid_num_updates\": \"87232\", \"valid_best_weighted_lm_ppl\": \"73.0296\"}\r\n",
      "[2021-06-09 20:05:45,701][fairseq.checkpoint_utils][INFO] - Preparing to save checkpoint for epoch 5452 @ 87232 updates\r\n",
      "[2021-06-09 20:05:45,702][fairseq.trainer][INFO] - Saving checkpoint to /kaggle/working/checkpoint_last.pt\r\n"
     ]
    },
    {
     "name": "stdout",
     "output_type": "stream",
     "text": [
      "[2021-06-09 20:05:45,748][fairseq.trainer][INFO] - Finished saving checkpoint to /kaggle/working/checkpoint_last.pt\r\n",
      "[2021-06-09 20:05:45,748][fairseq.checkpoint_utils][INFO] - Saved checkpoint /kaggle/working/checkpoint_last.pt (epoch 5452 @ 87232 updates, score 74.95875412951185) (writing took 0.0474883349997981 seconds)\r\n",
      "[2021-06-09 20:05:45,749][fairseq_cli.train][INFO] - end of epoch 5452 (average epoch stats below)\r\n",
      "[2021-06-09 20:05:45,752][train][INFO] - {\"epoch\": 5452, \"train_loss\": \"3.726\", \"train_ntokens\": \"145.688\", \"train_nsentences\": \"145.688\", \"train_temp\": \"0.1\", \"train_code_ppl\": \"8.835\", \"train_loss_code_pen\": \"0.327\", \"train_loss_smoothness\": \"2.101\", \"train_loss_dense_g\": \"4.229\", \"train_lm_score_sum\": 0.0, \"train_num_pred_chars\": 0.0, \"train_loss_grad_pen\": \"0.094\", \"train_loss_dense_d\": \"0.028\", \"train_loss_token_d\": \"0.036\", \"train_wps\": \"9.4\", \"train_ups\": \"0.06\", \"train_wpb\": \"145.7\", \"train_bsz\": \"145.7\", \"train_num_updates\": \"87232\", \"train_lr_discriminator\": \"0.0005\", \"train_lr_generator\": \"0.0004\", \"train_gnorm\": \"34.066\", \"train_clip\": \"87.5\", \"train_train_wall\": \"244\", \"train_wall\": \"29132\"}\r\n"
     ]
    },
    {
     "name": "stdout",
     "output_type": "stream",
     "text": [
      "[2021-06-09 20:05:45,810][fairseq.trainer][INFO] - begin training epoch 5453\r\n",
      "[2021-06-09 20:05:45,812][fairseq_cli.train][INFO] - Start iterating over samples\r\n"
     ]
    },
    {
     "name": "stdout",
     "output_type": "stream",
     "text": [
      "[2021-06-09 20:09:58,863][fairseq_cli.train][INFO] - begin validation on \"valid\" subset\r\n"
     ]
    },
    {
     "name": "stdout",
     "output_type": "stream",
     "text": [
      "[2021-06-09 20:10:01,365][fairseq.tasks.unpaired_audio_text][INFO] - REF: ɛ n f œ ʂ ə n a d ɵ ʂ ə k t f øː r d eː t s ɔ m h ɛ n d ə p oː ɕ œ r k ɔ n s ɛ t ə n\r\n",
      "[2021-06-09 20:10:01,368][fairseq.tasks.unpaired_audio_text][INFO] - HYP: t ɪ n s j œ r œ ɕ j uː œ yː k j ə ɡ f œ v j m b ə h ɔ k b ə uː s eː r n v oː s oː ɪ ŋ k ɪ l s uː k t a n t a\r\n",
      "[2021-06-09 20:10:01,376][fairseq.tasks.unpaired_audio_text][INFO] - LM [REF]: -53.44462585449219, 0.05339602260269112\r\n",
      "[2021-06-09 20:10:01,376][fairseq.tasks.unpaired_audio_text][INFO] - LM [HYP]: -94.01348114013672, 0.015561391879803451\r\n"
     ]
    },
    {
     "name": "stdout",
     "output_type": "stream",
     "text": [
      "[2021-06-09 20:10:01,898][valid][INFO] - {\"epoch\": 5453, \"valid_loss\": \"1\", \"valid_ntokens\": \"3039.79\", \"valid_nsentences\": \"144.214\", \"valid_lm_score_sum\": \"-89492.3\", \"valid_num_pred_chars\": \"48311\", \"valid_vocab_seen_pct\": \"0.890244\", \"valid_uer\": \"100.021\", \"valid_weighted_lm_ppl\": \"75.6993\", \"valid_lm_ppl\": \"59.9943\", \"valid_wps\": \"18063.8\", \"valid_wpb\": \"3039.8\", \"valid_bsz\": \"144.2\", \"valid_num_updates\": \"87248\", \"valid_best_weighted_lm_ppl\": \"73.0296\"}\r\n",
      "[2021-06-09 20:10:01,901][fairseq.checkpoint_utils][INFO] - Preparing to save checkpoint for epoch 5453 @ 87248 updates\r\n",
      "[2021-06-09 20:10:01,902][fairseq.trainer][INFO] - Saving checkpoint to /kaggle/working/checkpoint_last.pt\r\n"
     ]
    },
    {
     "name": "stdout",
     "output_type": "stream",
     "text": [
      "[2021-06-09 20:10:01,951][fairseq.trainer][INFO] - Finished saving checkpoint to /kaggle/working/checkpoint_last.pt\r\n",
      "[2021-06-09 20:10:01,951][fairseq.checkpoint_utils][INFO] - Saved checkpoint /kaggle/working/checkpoint_last.pt (epoch 5453 @ 87248 updates, score 75.6992752655955) (writing took 0.04994424100004835 seconds)\r\n",
      "[2021-06-09 20:10:01,952][fairseq_cli.train][INFO] - end of epoch 5453 (average epoch stats below)\r\n",
      "[2021-06-09 20:10:01,955][train][INFO] - {\"epoch\": 5453, \"train_loss\": \"3.623\", \"train_ntokens\": \"145.688\", \"train_nsentences\": \"145.688\", \"train_temp\": \"0.1\", \"train_code_ppl\": \"8.895\", \"train_loss_code_pen\": \"0.327\", \"train_loss_smoothness\": \"2.098\", \"train_loss_dense_g\": \"4.317\", \"train_lm_score_sum\": 0.0, \"train_num_pred_chars\": 0.0, \"train_loss_grad_pen\": \"0.214\", \"train_loss_dense_d\": \"0.024\", \"train_loss_token_d\": \"0.029\", \"train_wps\": \"9.1\", \"train_ups\": \"0.06\", \"train_wpb\": \"145.7\", \"train_bsz\": \"145.7\", \"train_num_updates\": \"87248\", \"train_lr_discriminator\": \"0.0005\", \"train_lr_generator\": \"0.0004\", \"train_gnorm\": \"85.372\", \"train_clip\": \"75\", \"train_train_wall\": \"253\", \"train_wall\": \"29388\"}\r\n"
     ]
    },
    {
     "name": "stdout",
     "output_type": "stream",
     "text": [
      "[2021-06-09 20:10:02,012][fairseq.trainer][INFO] - begin training epoch 5454\r\n",
      "[2021-06-09 20:10:02,013][fairseq_cli.train][INFO] - Start iterating over samples\r\n"
     ]
    },
    {
     "name": "stdout",
     "output_type": "stream",
     "text": [
      "[2021-06-09 20:14:10,415][fairseq_cli.train][INFO] - begin validation on \"valid\" subset\r\n"
     ]
    },
    {
     "name": "stdout",
     "output_type": "stream",
     "text": [
      "[2021-06-09 20:14:12,880][fairseq.tasks.unpaired_audio_text][INFO] - REF: ɛ n f œ ʂ ə n a d ɵ ʂ ə k t f øː r d eː t s ɔ m h ɛ n d ə p oː ɕ œ r k ɔ n s ɛ t ə n\r\n",
      "[2021-06-09 20:14:12,882][fairseq.tasks.unpaired_audio_text][INFO] - HYP: t ɪ n s j œ r œ j uː œ yː k j ə ɡ œ v j m b ə h ɔ k b ə s eː r n v oː s ɪ ŋ k ɪ l s uː k t a n t a\r\n",
      "[2021-06-09 20:14:12,886][fairseq.tasks.unpaired_audio_text][INFO] - LM [REF]: -53.44462585449219, 0.05339602260269112\r\n",
      "[2021-06-09 20:14:12,886][fairseq.tasks.unpaired_audio_text][INFO] - LM [HYP]: -84.36717987060547, 0.017472313735923492\r\n"
     ]
    },
    {
     "name": "stdout",
     "output_type": "stream",
     "text": [
      "[2021-06-09 20:14:13,395][valid][INFO] - {\"epoch\": 5454, \"valid_loss\": \"1.001\", \"valid_ntokens\": \"3039.79\", \"valid_nsentences\": \"144.214\", \"valid_lm_score_sum\": \"-89490.4\", \"valid_num_pred_chars\": \"48307\", \"valid_vocab_seen_pct\": \"0.891986\", \"valid_uer\": \"100.087\", \"valid_weighted_lm_ppl\": \"75.4219\", \"valid_lm_ppl\": \"60.0086\", \"valid_wps\": \"18409.7\", \"valid_wpb\": \"3039.8\", \"valid_bsz\": \"144.2\", \"valid_num_updates\": \"87264\", \"valid_best_weighted_lm_ppl\": \"73.0296\"}\r\n",
      "[2021-06-09 20:14:13,398][fairseq.checkpoint_utils][INFO] - Preparing to save checkpoint for epoch 5454 @ 87264 updates\r\n",
      "[2021-06-09 20:14:13,400][fairseq.trainer][INFO] - Saving checkpoint to /kaggle/working/checkpoint_last.pt\r\n"
     ]
    },
    {
     "name": "stdout",
     "output_type": "stream",
     "text": [
      "[2021-06-09 20:14:13,448][fairseq.trainer][INFO] - Finished saving checkpoint to /kaggle/working/checkpoint_last.pt\r\n",
      "[2021-06-09 20:14:13,448][fairseq.checkpoint_utils][INFO] - Saved checkpoint /kaggle/working/checkpoint_last.pt (epoch 5454 @ 87264 updates, score 75.42187677486707) (writing took 0.049668887000734685 seconds)\r\n",
      "[2021-06-09 20:14:13,449][fairseq_cli.train][INFO] - end of epoch 5454 (average epoch stats below)\r\n",
      "[2021-06-09 20:14:13,451][train][INFO] - {\"epoch\": 5454, \"train_loss\": \"3.701\", \"train_ntokens\": \"145.688\", \"train_nsentences\": \"145.688\", \"train_temp\": \"0.1\", \"train_code_ppl\": \"9.038\", \"train_loss_code_pen\": \"0.331\", \"train_loss_smoothness\": \"2.119\", \"train_loss_dense_g\": \"4.167\", \"train_lm_score_sum\": 0.0, \"train_num_pred_chars\": 0.0, \"train_loss_grad_pen\": \"0.089\", \"train_loss_dense_d\": \"0.028\", \"train_loss_token_d\": \"0.03\", \"train_wps\": \"9.3\", \"train_ups\": \"0.06\", \"train_wpb\": \"145.7\", \"train_bsz\": \"145.7\", \"train_num_updates\": \"87264\", \"train_lr_discriminator\": \"0.0005\", \"train_lr_generator\": \"0.0004\", \"train_gnorm\": \"30.744\", \"train_clip\": \"75\", \"train_train_wall\": \"248\", \"train_wall\": \"29640\"}\r\n"
     ]
    },
    {
     "name": "stdout",
     "output_type": "stream",
     "text": [
      "[2021-06-09 20:14:13,509][fairseq.trainer][INFO] - begin training epoch 5455\r\n",
      "[2021-06-09 20:14:13,510][fairseq_cli.train][INFO] - Start iterating over samples\r\n"
     ]
    },
    {
     "name": "stdout",
     "output_type": "stream",
     "text": [
      "[2021-06-09 20:18:24,741][fairseq_cli.train][INFO] - begin validation on \"valid\" subset\r\n"
     ]
    },
    {
     "name": "stdout",
     "output_type": "stream",
     "text": [
      "[2021-06-09 20:18:27,235][fairseq.tasks.unpaired_audio_text][INFO] - REF: ɛ n f œ ʂ ə n a d ɵ ʂ ə k t f øː r d eː t s ɔ m h ɛ n d ə p oː ɕ œ r k ɔ n s ɛ t ə n\r\n",
      "[2021-06-09 20:18:27,238][fairseq.tasks.unpaired_audio_text][INFO] - HYP: t ɪ n s j œ r œ j uː œ yː k j ə œ v j m b ə h œ k b ə uː s eː r n v oː s ɪ ŋ k ɪ l s uː k t a n t a\r\n"
     ]
    },
    {
     "name": "stdout",
     "output_type": "stream",
     "text": [
      "[2021-06-09 20:18:27,242][fairseq.tasks.unpaired_audio_text][INFO] - LM [REF]: -53.44462585449219, 0.05339602260269112\r\n",
      "[2021-06-09 20:18:27,242][fairseq.tasks.unpaired_audio_text][INFO] - LM [HYP]: -86.90575408935547, 0.015469043348507178\r\n"
     ]
    },
    {
     "name": "stdout",
     "output_type": "stream",
     "text": [
      "[2021-06-09 20:18:27,792][valid][INFO] - {\"epoch\": 5455, \"valid_loss\": \"1.001\", \"valid_ntokens\": \"3039.79\", \"valid_nsentences\": \"144.214\", \"valid_lm_score_sum\": \"-89642.1\", \"valid_num_pred_chars\": \"48293\", \"valid_vocab_seen_pct\": \"0.88676\", \"valid_uer\": \"100.052\", \"valid_weighted_lm_ppl\": \"76.933\", \"valid_lm_ppl\": \"60.4957\", \"valid_wps\": \"17732.6\", \"valid_wpb\": \"3039.8\", \"valid_bsz\": \"144.2\", \"valid_num_updates\": \"87280\", \"valid_best_weighted_lm_ppl\": \"73.0296\"}\r\n",
      "[2021-06-09 20:18:27,795][fairseq.checkpoint_utils][INFO] - Preparing to save checkpoint for epoch 5455 @ 87280 updates\r\n",
      "[2021-06-09 20:18:27,796][fairseq.trainer][INFO] - Saving checkpoint to /kaggle/working/checkpoint_last.pt\r\n"
     ]
    },
    {
     "name": "stdout",
     "output_type": "stream",
     "text": [
      "[2021-06-09 20:18:27,843][fairseq.trainer][INFO] - Finished saving checkpoint to /kaggle/working/checkpoint_last.pt\r\n",
      "[2021-06-09 20:18:27,843][fairseq.checkpoint_utils][INFO] - Saved checkpoint /kaggle/working/checkpoint_last.pt (epoch 5455 @ 87280 updates, score 76.93303863903674) (writing took 0.04794835600114311 seconds)\r\n",
      "[2021-06-09 20:18:27,844][fairseq_cli.train][INFO] - end of epoch 5455 (average epoch stats below)\r\n",
      "[2021-06-09 20:18:27,846][train][INFO] - {\"epoch\": 5455, \"train_loss\": \"3.452\", \"train_ntokens\": \"145.688\", \"train_nsentences\": \"145.688\", \"train_temp\": \"0.1\", \"train_code_ppl\": \"9.007\", \"train_loss_code_pen\": \"0.316\", \"train_loss_smoothness\": \"2.053\", \"train_loss_dense_g\": \"4.18\", \"train_lm_score_sum\": 0.0, \"train_num_pred_chars\": 0.0, \"train_loss_grad_pen\": \"0.063\", \"train_loss_dense_d\": \"0.029\", \"train_loss_token_d\": \"0.028\", \"train_wps\": \"9.2\", \"train_ups\": \"0.06\", \"train_wpb\": \"145.7\", \"train_bsz\": \"145.7\", \"train_num_updates\": \"87280\", \"train_lr_discriminator\": \"0.0005\", \"train_lr_generator\": \"0.0004\", \"train_gnorm\": \"30.635\", \"train_clip\": \"68.8\", \"train_train_wall\": \"251\", \"train_wall\": \"29894\"}\r\n"
     ]
    },
    {
     "name": "stdout",
     "output_type": "stream",
     "text": [
      "[2021-06-09 20:18:27,904][fairseq.trainer][INFO] - begin training epoch 5456\r\n",
      "[2021-06-09 20:18:27,906][fairseq_cli.train][INFO] - Start iterating over samples\r\n"
     ]
    },
    {
     "name": "stdout",
     "output_type": "stream",
     "text": [
      "[2021-06-09 20:23:01,584][fairseq_cli.train][INFO] - begin validation on \"valid\" subset\r\n"
     ]
    },
    {
     "name": "stdout",
     "output_type": "stream",
     "text": [
      "[2021-06-09 20:23:04,154][fairseq.tasks.unpaired_audio_text][INFO] - REF: ɛ n f œ ʂ ə n a d ɵ ʂ ə k t f øː r d eː t s ɔ m h ɛ n d ə p oː ɕ œ r k ɔ n s ɛ t ə n\r\n",
      "[2021-06-09 20:23:04,157][fairseq.tasks.unpaired_audio_text][INFO] - HYP: t ɪ n s j œ r œ ɕ j uː œ yː k ə ɡ œ v j m b ə h ɔ b ə uː s eː r n v oː s ɪ ŋ k ɪ l s uː k t a n t a\r\n",
      "[2021-06-09 20:23:04,161][fairseq.tasks.unpaired_audio_text][INFO] - LM [REF]: -53.44462585449219, 0.05339602260269112\r\n",
      "[2021-06-09 20:23:04,161][fairseq.tasks.unpaired_audio_text][INFO] - LM [HYP]: -88.10504913330078, 0.014604212482812962\r\n"
     ]
    },
    {
     "name": "stdout",
     "output_type": "stream",
     "text": [
      "[2021-06-09 20:23:04,702][valid][INFO] - {\"epoch\": 5456, \"valid_loss\": \"0.998\", \"valid_ntokens\": \"3039.79\", \"valid_nsentences\": \"144.214\", \"valid_lm_score_sum\": \"-89439.3\", \"valid_num_pred_chars\": \"48168\", \"valid_vocab_seen_pct\": \"0.890244\", \"valid_uer\": \"99.7956\", \"valid_weighted_lm_ppl\": \"76.4015\", \"valid_lm_ppl\": \"60.5508\", \"valid_wps\": \"17652.6\", \"valid_wpb\": \"3039.8\", \"valid_bsz\": \"144.2\", \"valid_num_updates\": \"87296\", \"valid_best_weighted_lm_ppl\": \"73.0296\"}\r\n",
      "[2021-06-09 20:23:04,706][fairseq.checkpoint_utils][INFO] - Preparing to save checkpoint for epoch 5456 @ 87296 updates\r\n",
      "[2021-06-09 20:23:04,707][fairseq.trainer][INFO] - Saving checkpoint to /kaggle/working/checkpoint_last.pt\r\n"
     ]
    },
    {
     "name": "stdout",
     "output_type": "stream",
     "text": [
      "[2021-06-09 20:23:04,759][fairseq.trainer][INFO] - Finished saving checkpoint to /kaggle/working/checkpoint_last.pt\r\n",
      "[2021-06-09 20:23:04,760][fairseq.checkpoint_utils][INFO] - Saved checkpoint /kaggle/working/checkpoint_last.pt (epoch 5456 @ 87296 updates, score 76.40152944236736) (writing took 0.05369218299892964 seconds)\r\n",
      "[2021-06-09 20:23:04,760][fairseq_cli.train][INFO] - end of epoch 5456 (average epoch stats below)\r\n",
      "[2021-06-09 20:23:04,763][train][INFO] - {\"epoch\": 5456, \"train_loss\": \"2.913\", \"train_ntokens\": \"145.688\", \"train_nsentences\": \"145.688\", \"train_temp\": \"0.1\", \"train_code_ppl\": \"8.979\", \"train_loss_code_pen\": \"0.323\", \"train_loss_smoothness\": \"2.045\", \"train_loss_dense_g\": \"3.969\", \"train_lm_score_sum\": 0.0, \"train_num_pred_chars\": 0.0, \"train_loss_grad_pen\": \"0.056\", \"train_loss_dense_d\": \"0.023\", \"train_loss_token_d\": \"0.021\", \"train_wps\": \"8.4\", \"train_ups\": \"0.06\", \"train_wpb\": \"145.7\", \"train_bsz\": \"145.7\", \"train_num_updates\": \"87296\", \"train_lr_discriminator\": \"0.0005\", \"train_lr_generator\": \"0.0004\", \"train_gnorm\": \"29.605\", \"train_clip\": \"62.5\", \"train_train_wall\": \"273\", \"train_wall\": \"30171\"}\r\n"
     ]
    },
    {
     "name": "stdout",
     "output_type": "stream",
     "text": [
      "[2021-06-09 20:23:04,825][fairseq.trainer][INFO] - begin training epoch 5457\r\n",
      "[2021-06-09 20:23:04,827][fairseq_cli.train][INFO] - Start iterating over samples\r\n"
     ]
    },
    {
     "name": "stdout",
     "output_type": "stream",
     "text": [
      "[2021-06-09 20:24:13,826][train_inner][INFO] - {\"epoch\": 5457, \"update\": 5456.25, \"loss\": \"3.524\", \"ntokens\": \"146.26\", \"nsentences\": \"146.26\", \"temp\": \"0.1\", \"code_ppl\": \"8.904\", \"loss_code_pen\": \"0.324\", \"loss_smoothness\": \"2.081\", \"loss_dense_g\": \"4.21\", \"lm_score_sum\": 0.0, \"num_pred_chars\": 0.0, \"loss_grad_pen\": \"0.103\", \"loss_dense_d\": \"0.025\", \"loss_token_d\": \"0.028\", \"wps\": \"9.1\", \"ups\": \"0.06\", \"wpb\": \"146.3\", \"bsz\": \"146.3\", \"num_updates\": \"87300\", \"lr_discriminator\": \"0.0005\", \"lr_generator\": \"0.0004\", \"gnorm\": \"40.07\", \"clip\": \"77\", \"train_wall\": \"1580\", \"wall\": \"30240\"}\r\n"
     ]
    },
    {
     "name": "stdout",
     "output_type": "stream",
     "text": [
      "[2021-06-09 20:27:12,814][fairseq_cli.train][INFO] - begin validation on \"valid\" subset\r\n"
     ]
    },
    {
     "name": "stdout",
     "output_type": "stream",
     "text": [
      "[2021-06-09 20:27:15,282][fairseq.tasks.unpaired_audio_text][INFO] - REF: ɛ n f œ ʂ ə n a d ɵ ʂ ə k t f øː r d eː t s ɔ m h ɛ n d ə p oː ɕ œ r k ɔ n s ɛ t ə n\r\n",
      "[2021-06-09 20:27:15,284][fairseq.tasks.unpaired_audio_text][INFO] - HYP: t ɪ n s j œ r œ j uː œ yː k ə ɡ f œ v j m b ə h ɔ b ə uː s eː r n v oː s ɪ ŋ k ɪ l s uː k t a n t a\r\n",
      "[2021-06-09 20:27:15,288][fairseq.tasks.unpaired_audio_text][INFO] - LM [REF]: -53.44462585449219, 0.05339602260269112\r\n",
      "[2021-06-09 20:27:15,289][fairseq.tasks.unpaired_audio_text][INFO] - LM [HYP]: -86.48511505126953, 0.015784352450671373\r\n"
     ]
    },
    {
     "name": "stdout",
     "output_type": "stream",
     "text": [
      "[2021-06-09 20:27:15,817][valid][INFO] - {\"epoch\": 5457, \"valid_loss\": \"0.998\", \"valid_ntokens\": \"3039.79\", \"valid_nsentences\": \"144.214\", \"valid_lm_score_sum\": \"-89442.2\", \"valid_num_pred_chars\": \"48201\", \"valid_vocab_seen_pct\": \"0.891986\", \"valid_uer\": \"99.8332\", \"valid_weighted_lm_ppl\": \"75.9085\", \"valid_lm_ppl\": \"60.3958\", \"valid_wps\": \"18270.7\", \"valid_wpb\": \"3039.8\", \"valid_bsz\": \"144.2\", \"valid_num_updates\": \"87312\", \"valid_best_weighted_lm_ppl\": \"73.0296\"}\r\n"
     ]
    },
    {
     "name": "stdout",
     "output_type": "stream",
     "text": [
      "[2021-06-09 20:27:15,821][fairseq.checkpoint_utils][INFO] - Preparing to save checkpoint for epoch 5457 @ 87312 updates\r\n",
      "[2021-06-09 20:27:15,823][fairseq.trainer][INFO] - Saving checkpoint to /kaggle/working/checkpoint_last.pt\r\n",
      "[2021-06-09 20:27:15,868][fairseq.trainer][INFO] - Finished saving checkpoint to /kaggle/working/checkpoint_last.pt\r\n",
      "[2021-06-09 20:27:15,869][fairseq.checkpoint_utils][INFO] - Saved checkpoint /kaggle/working/checkpoint_last.pt (epoch 5457 @ 87312 updates, score 75.9085049525658) (writing took 0.04736005400263821 seconds)\r\n",
      "[2021-06-09 20:27:15,869][fairseq_cli.train][INFO] - end of epoch 5457 (average epoch stats below)\r\n"
     ]
    },
    {
     "name": "stdout",
     "output_type": "stream",
     "text": [
      "[2021-06-09 20:27:15,873][train][INFO] - {\"epoch\": 5457, \"train_loss\": \"3.542\", \"train_ntokens\": \"145.688\", \"train_nsentences\": \"145.688\", \"train_temp\": \"0.1\", \"train_code_ppl\": \"8.707\", \"train_loss_code_pen\": \"0.32\", \"train_loss_smoothness\": \"2.069\", \"train_loss_dense_g\": \"4.332\", \"train_lm_score_sum\": 0.0, \"train_num_pred_chars\": 0.0, \"train_loss_grad_pen\": \"0.076\", \"train_loss_dense_d\": \"0.022\", \"train_loss_token_d\": \"0.025\", \"train_wps\": \"9.3\", \"train_ups\": \"0.06\", \"train_wpb\": \"145.7\", \"train_bsz\": \"145.7\", \"train_num_updates\": \"87312\", \"train_lr_discriminator\": \"0.0005\", \"train_lr_generator\": \"0.0004\", \"train_gnorm\": \"43.435\", \"train_clip\": \"75\", \"train_train_wall\": \"247\", \"train_wall\": \"30422\"}\r\n"
     ]
    },
    {
     "name": "stdout",
     "output_type": "stream",
     "text": [
      "[2021-06-09 20:27:15,931][fairseq.trainer][INFO] - begin training epoch 5458\r\n",
      "[2021-06-09 20:27:15,933][fairseq_cli.train][INFO] - Start iterating over samples\r\n"
     ]
    },
    {
     "name": "stdout",
     "output_type": "stream",
     "text": [
      "[2021-06-09 20:31:56,643][fairseq_cli.train][INFO] - begin validation on \"valid\" subset\r\n"
     ]
    },
    {
     "name": "stdout",
     "output_type": "stream",
     "text": [
      "[2021-06-09 20:31:59,131][fairseq.tasks.unpaired_audio_text][INFO] - REF: ɛ n f œ ʂ ə n a d ɵ ʂ ə k t f øː r d eː t s ɔ m h ɛ n d ə p oː ɕ œ r k ɔ n s ɛ t ə n\r\n",
      "[2021-06-09 20:31:59,134][fairseq.tasks.unpaired_audio_text][INFO] - HYP: t ɪ n s j œ r œ j uː œ k ə f œ v j m ə t ɔ k b ə uː s eː r n v oː s ɪ ŋ k ɪ l s uː k t a n t a\r\n",
      "[2021-06-09 20:31:59,138][fairseq.tasks.unpaired_audio_text][INFO] - LM [REF]: -53.44462585449219, 0.05339602260269112\r\n",
      "[2021-06-09 20:31:59,139][fairseq.tasks.unpaired_audio_text][INFO] - LM [HYP]: -78.37562561035156, 0.019777985399413566\r\n"
     ]
    },
    {
     "name": "stdout",
     "output_type": "stream",
     "text": [
      "[2021-06-09 20:31:59,633][valid][INFO] - {\"epoch\": 5458, \"valid_loss\": \"0.998\", \"valid_ntokens\": \"3039.79\", \"valid_nsentences\": \"144.214\", \"valid_lm_score_sum\": \"-89315.5\", \"valid_num_pred_chars\": \"48204\", \"valid_vocab_seen_pct\": \"0.888502\", \"valid_uer\": \"99.8238\", \"valid_weighted_lm_ppl\": \"76.0435\", \"valid_lm_ppl\": \"60.0315\", \"valid_wps\": \"18652.7\", \"valid_wpb\": \"3039.8\", \"valid_bsz\": \"144.2\", \"valid_num_updates\": \"87328\", \"valid_best_weighted_lm_ppl\": \"73.0296\"}\r\n",
      "[2021-06-09 20:31:59,636][fairseq.checkpoint_utils][INFO] - Preparing to save checkpoint for epoch 5458 @ 87328 updates\r\n",
      "[2021-06-09 20:31:59,637][fairseq.trainer][INFO] - Saving checkpoint to /kaggle/working/checkpoint_last.pt\r\n"
     ]
    },
    {
     "name": "stdout",
     "output_type": "stream",
     "text": [
      "[2021-06-09 20:31:59,682][fairseq.trainer][INFO] - Finished saving checkpoint to /kaggle/working/checkpoint_last.pt\r\n",
      "[2021-06-09 20:31:59,682][fairseq.checkpoint_utils][INFO] - Saved checkpoint /kaggle/working/checkpoint_last.pt (epoch 5458 @ 87328 updates, score 76.04354508162896) (writing took 0.04640636000112863 seconds)\r\n",
      "[2021-06-09 20:31:59,683][fairseq_cli.train][INFO] - end of epoch 5458 (average epoch stats below)\r\n",
      "[2021-06-09 20:31:59,685][train][INFO] - {\"epoch\": 5458, \"train_loss\": \"2.986\", \"train_ntokens\": \"145.688\", \"train_nsentences\": \"145.688\", \"train_temp\": \"0.1\", \"train_code_ppl\": \"8.707\", \"train_loss_code_pen\": \"0.336\", \"train_loss_smoothness\": \"2.097\", \"train_loss_dense_g\": \"4.068\", \"train_lm_score_sum\": 0.0, \"train_num_pred_chars\": 0.0, \"train_loss_grad_pen\": \"0.055\", \"train_loss_dense_d\": \"0.026\", \"train_loss_token_d\": \"0.02\", \"train_wps\": \"8.2\", \"train_ups\": \"0.06\", \"train_wpb\": \"145.7\", \"train_bsz\": \"145.7\", \"train_num_updates\": \"87328\", \"train_lr_discriminator\": \"0.0005\", \"train_lr_generator\": \"0.0004\", \"train_gnorm\": \"30.247\", \"train_clip\": \"62.5\", \"train_train_wall\": \"280\", \"train_wall\": \"30706\"}\r\n"
     ]
    },
    {
     "name": "stdout",
     "output_type": "stream",
     "text": [
      "[2021-06-09 20:31:59,742][fairseq.trainer][INFO] - begin training epoch 5459\r\n",
      "[2021-06-09 20:31:59,744][fairseq_cli.train][INFO] - Start iterating over samples\r\n"
     ]
    },
    {
     "name": "stdout",
     "output_type": "stream",
     "text": [
      "[2021-06-09 20:35:53,871][fairseq_cli.train][INFO] - begin validation on \"valid\" subset\r\n"
     ]
    },
    {
     "name": "stdout",
     "output_type": "stream",
     "text": [
      "[2021-06-09 20:35:56,398][fairseq.tasks.unpaired_audio_text][INFO] - REF: ɛ n f œ ʂ ə n a d ɵ ʂ ə k t f øː r d eː t s ɔ m h ɛ n d ə p oː ɕ œ r k ɔ n s ɛ t ə n\r\n",
      "[2021-06-09 20:35:56,400][fairseq.tasks.unpaired_audio_text][INFO] - HYP: t ɪ n s j œ r œ j uː œ k ə ɡ f œ v j m b ə t ɔ k b ə uː s eː r n v oː s ɪ ŋ k ɪ l s uː k t a n t a\r\n",
      "[2021-06-09 20:35:56,404][fairseq.tasks.unpaired_audio_text][INFO] - LM [REF]: -53.44462585449219, 0.05339602260269112\r\n",
      "[2021-06-09 20:35:56,405][fairseq.tasks.unpaired_audio_text][INFO] - LM [HYP]: -83.27906036376953, 0.018408549758446035\r\n"
     ]
    },
    {
     "name": "stdout",
     "output_type": "stream",
     "text": [
      "[2021-06-09 20:35:56,924][valid][INFO] - {\"epoch\": 5459, \"valid_loss\": \"1\", \"valid_ntokens\": \"3039.79\", \"valid_nsentences\": \"144.214\", \"valid_lm_score_sum\": \"-89621.1\", \"valid_num_pred_chars\": \"48331\", \"valid_vocab_seen_pct\": \"0.891986\", \"valid_uer\": \"99.9953\", \"valid_weighted_lm_ppl\": \"75.7263\", \"valid_lm_ppl\": \"60.2508\", \"valid_wps\": \"18016\", \"valid_wpb\": \"3039.8\", \"valid_bsz\": \"144.2\", \"valid_num_updates\": \"87344\", \"valid_best_weighted_lm_ppl\": \"73.0296\"}\r\n",
      "[2021-06-09 20:35:56,928][fairseq.checkpoint_utils][INFO] - Preparing to save checkpoint for epoch 5459 @ 87344 updates\r\n",
      "[2021-06-09 20:35:56,929][fairseq.trainer][INFO] - Saving checkpoint to /kaggle/working/checkpoint_last.pt\r\n"
     ]
    },
    {
     "name": "stdout",
     "output_type": "stream",
     "text": [
      "[2021-06-09 20:35:56,974][fairseq.trainer][INFO] - Finished saving checkpoint to /kaggle/working/checkpoint_last.pt\r\n",
      "[2021-06-09 20:35:56,975][fairseq.checkpoint_utils][INFO] - Saved checkpoint /kaggle/working/checkpoint_last.pt (epoch 5459 @ 87344 updates, score 75.72626624989714) (writing took 0.04696921000140719 seconds)\r\n",
      "[2021-06-09 20:35:56,975][fairseq_cli.train][INFO] - end of epoch 5459 (average epoch stats below)\r\n",
      "[2021-06-09 20:35:56,978][train][INFO] - {\"epoch\": 5459, \"train_loss\": \"3.96\", \"train_ntokens\": \"145.688\", \"train_nsentences\": \"145.688\", \"train_temp\": \"0.1\", \"train_code_ppl\": \"8.705\", \"train_loss_code_pen\": \"0.317\", \"train_loss_smoothness\": \"2.05\", \"train_loss_dense_g\": \"4.662\", \"train_lm_score_sum\": 0.0, \"train_num_pred_chars\": 0.0, \"train_loss_grad_pen\": \"0.162\", \"train_loss_dense_d\": \"0.023\", \"train_loss_token_d\": \"0.037\", \"train_wps\": \"9.8\", \"train_ups\": \"0.07\", \"train_wpb\": \"145.7\", \"train_bsz\": \"145.7\", \"train_num_updates\": \"87344\", \"train_lr_discriminator\": \"0.0005\", \"train_lr_generator\": \"0.0004\", \"train_gnorm\": \"36.106\", \"train_clip\": \"93.8\", \"train_train_wall\": \"234\", \"train_wall\": \"30943\"}\r\n"
     ]
    },
    {
     "name": "stdout",
     "output_type": "stream",
     "text": [
      "[2021-06-09 20:35:57,037][fairseq.trainer][INFO] - begin training epoch 5460\r\n",
      "[2021-06-09 20:35:57,039][fairseq_cli.train][INFO] - Start iterating over samples\r\n"
     ]
    },
    {
     "name": "stdout",
     "output_type": "stream",
     "text": [
      "[2021-06-09 20:40:09,253][fairseq_cli.train][INFO] - begin validation on \"valid\" subset\r\n"
     ]
    },
    {
     "name": "stdout",
     "output_type": "stream",
     "text": [
      "[2021-06-09 20:40:11,824][fairseq.tasks.unpaired_audio_text][INFO] - REF: ɛ n f œ ʂ ə n a d ɵ ʂ ə k t f øː r d eː t s ɔ m h ɛ n d ə p oː ɕ œ r k ɔ n s ɛ t ə n\r\n",
      "[2021-06-09 20:40:11,826][fairseq.tasks.unpaired_audio_text][INFO] - HYP: t ɪ n s j œ r œ j uː œ k ə ɡ œ v j b ə h ɔ k b ə uː s eː r n v oː s ɪ ŋ k ɪ l s uː œ t a n t a\r\n",
      "[2021-06-09 20:40:11,830][fairseq.tasks.unpaired_audio_text][INFO] - LM [REF]: -53.44462585449219, 0.05339602260269112\r\n",
      "[2021-06-09 20:40:11,831][fairseq.tasks.unpaired_audio_text][INFO] - LM [HYP]: -81.82502746582031, 0.016641599082607386\r\n"
     ]
    },
    {
     "name": "stdout",
     "output_type": "stream",
     "text": [
      "[2021-06-09 20:40:12,343][valid][INFO] - {\"epoch\": 5460, \"valid_loss\": \"1.002\", \"valid_ntokens\": \"3039.79\", \"valid_nsentences\": \"144.214\", \"valid_lm_score_sum\": \"-89786.9\", \"valid_num_pred_chars\": \"48408\", \"valid_vocab_seen_pct\": \"0.893728\", \"valid_uer\": \"100.221\", \"valid_weighted_lm_ppl\": \"75.5303\", \"valid_lm_ppl\": \"60.3298\", \"valid_wps\": \"18185\", \"valid_wpb\": \"3039.8\", \"valid_bsz\": \"144.2\", \"valid_num_updates\": \"87360\", \"valid_best_weighted_lm_ppl\": \"73.0296\"}\r\n",
      "[2021-06-09 20:40:12,346][fairseq.checkpoint_utils][INFO] - Preparing to save checkpoint for epoch 5460 @ 87360 updates\r\n",
      "[2021-06-09 20:40:12,347][fairseq.trainer][INFO] - Saving checkpoint to /kaggle/working/checkpoint_last.pt\r\n"
     ]
    },
    {
     "name": "stdout",
     "output_type": "stream",
     "text": [
      "[2021-06-09 20:40:12,392][fairseq.trainer][INFO] - Finished saving checkpoint to /kaggle/working/checkpoint_last.pt\r\n",
      "[2021-06-09 20:40:12,392][fairseq.checkpoint_utils][INFO] - Saved checkpoint /kaggle/working/checkpoint_last.pt (epoch 5460 @ 87360 updates, score 75.53030466874667) (writing took 0.04656234899448464 seconds)\r\n",
      "[2021-06-09 20:40:12,393][fairseq_cli.train][INFO] - end of epoch 5460 (average epoch stats below)\r\n",
      "[2021-06-09 20:40:12,396][train][INFO] - {\"epoch\": 5460, \"train_loss\": \"3.401\", \"train_ntokens\": \"145.688\", \"train_nsentences\": \"145.688\", \"train_temp\": \"0.1\", \"train_code_ppl\": \"8.83\", \"train_loss_code_pen\": \"0.318\", \"train_loss_smoothness\": \"2.056\", \"train_loss_dense_g\": \"4.054\", \"train_lm_score_sum\": 0.0, \"train_num_pred_chars\": 0.0, \"train_loss_grad_pen\": \"0.09\", \"train_loss_dense_d\": \"0.028\", \"train_loss_token_d\": \"0.027\", \"train_wps\": \"9.1\", \"train_ups\": \"0.06\", \"train_wpb\": \"145.7\", \"train_bsz\": \"145.7\", \"train_num_updates\": \"87360\", \"train_lr_discriminator\": \"0.0005\", \"train_lr_generator\": \"0.0004\", \"train_gnorm\": \"37.783\", \"train_clip\": \"68.8\", \"train_train_wall\": \"252\", \"train_wall\": \"31199\"}\r\n"
     ]
    },
    {
     "name": "stdout",
     "output_type": "stream",
     "text": [
      "[2021-06-09 20:40:12,453][fairseq.trainer][INFO] - begin training epoch 5461\r\n",
      "[2021-06-09 20:40:12,455][fairseq_cli.train][INFO] - Start iterating over samples\r\n"
     ]
    },
    {
     "name": "stdout",
     "output_type": "stream",
     "text": [
      "[2021-06-09 20:44:09,693][fairseq_cli.train][INFO] - begin validation on \"valid\" subset\r\n"
     ]
    },
    {
     "name": "stdout",
     "output_type": "stream",
     "text": [
      "[2021-06-09 20:44:12,148][fairseq.tasks.unpaired_audio_text][INFO] - REF: ɛ n f œ ʂ ə n a d ɵ ʂ ə k t f øː r d eː t s ɔ m h ɛ n d ə p oː ɕ œ r k ɔ n s ɛ t ə n\r\n",
      "[2021-06-09 20:44:12,150][fairseq.tasks.unpaired_audio_text][INFO] - HYP: t ɪ n s j œ r œ j uː œ k ə ɡ f œ v j m b ə t ɔ k b uː s eː r n v oː s ɪ ŋ k ɪ l s uː t a n t a\r\n",
      "[2021-06-09 20:44:12,155][fairseq.tasks.unpaired_audio_text][INFO] - LM [REF]: -53.44462585449219, 0.05339602260269112\r\n",
      "[2021-06-09 20:44:12,155][fairseq.tasks.unpaired_audio_text][INFO] - LM [HYP]: -79.20358276367188, 0.01897505237885592\r\n"
     ]
    },
    {
     "name": "stdout",
     "output_type": "stream",
     "text": [
      "[2021-06-09 20:44:12,650][valid][INFO] - {\"epoch\": 5461, \"valid_loss\": \"0.998\", \"valid_ntokens\": \"3039.79\", \"valid_nsentences\": \"144.214\", \"valid_lm_score_sum\": \"-89334.7\", \"valid_num_pred_chars\": \"48226\", \"valid_vocab_seen_pct\": \"0.888502\", \"valid_uer\": \"99.8379\", \"valid_weighted_lm_ppl\": \"75.9739\", \"valid_lm_ppl\": \"59.9765\", \"valid_wps\": \"18743.7\", \"valid_wpb\": \"3039.8\", \"valid_bsz\": \"144.2\", \"valid_num_updates\": \"87376\", \"valid_best_weighted_lm_ppl\": \"73.0296\"}\r\n",
      "[2021-06-09 20:44:12,653][fairseq.checkpoint_utils][INFO] - Preparing to save checkpoint for epoch 5461 @ 87376 updates\r\n",
      "[2021-06-09 20:44:12,654][fairseq.trainer][INFO] - Saving checkpoint to /kaggle/working/checkpoint_last.pt\r\n"
     ]
    },
    {
     "name": "stdout",
     "output_type": "stream",
     "text": [
      "[2021-06-09 20:44:12,699][fairseq.trainer][INFO] - Finished saving checkpoint to /kaggle/working/checkpoint_last.pt\r\n",
      "[2021-06-09 20:44:12,699][fairseq.checkpoint_utils][INFO] - Saved checkpoint /kaggle/working/checkpoint_last.pt (epoch 5461 @ 87376 updates, score 75.97392426140021) (writing took 0.04571426299662562 seconds)\r\n",
      "[2021-06-09 20:44:12,699][fairseq_cli.train][INFO] - end of epoch 5461 (average epoch stats below)\r\n",
      "[2021-06-09 20:44:12,702][train][INFO] - {\"epoch\": 5461, \"train_loss\": \"3.67\", \"train_ntokens\": \"145.688\", \"train_nsentences\": \"145.688\", \"train_temp\": \"0.1\", \"train_code_ppl\": \"8.976\", \"train_loss_code_pen\": \"0.323\", \"train_loss_smoothness\": \"2.096\", \"train_loss_dense_g\": \"4.136\", \"train_lm_score_sum\": 0.0, \"train_num_pred_chars\": 0.0, \"train_loss_grad_pen\": \"0.1\", \"train_loss_dense_d\": \"0.028\", \"train_loss_token_d\": \"0.028\", \"train_wps\": \"9.7\", \"train_ups\": \"0.07\", \"train_wpb\": \"145.7\", \"train_bsz\": \"145.7\", \"train_num_updates\": \"87376\", \"train_lr_discriminator\": \"0.0005\", \"train_lr_generator\": \"0.0004\", \"train_gnorm\": \"34.935\", \"train_clip\": \"75\", \"train_train_wall\": \"237\", \"train_wall\": \"31439\"}\r\n"
     ]
    },
    {
     "name": "stdout",
     "output_type": "stream",
     "text": [
      "[2021-06-09 20:44:12,761][fairseq.trainer][INFO] - begin training epoch 5462\r\n",
      "[2021-06-09 20:44:12,763][fairseq_cli.train][INFO] - Start iterating over samples\r\n"
     ]
    },
    {
     "name": "stdout",
     "output_type": "stream",
     "text": [
      "[2021-06-09 20:48:26,510][fairseq_cli.train][INFO] - begin validation on \"valid\" subset\r\n"
     ]
    }
   ],
   "source": [
    "!bash rungan.sh"
   ]
  }
 ],
 "metadata": {
  "kernelspec": {
   "display_name": "Python 3",
   "language": "python",
   "name": "python3"
  },
  "language_info": {
   "codemirror_mode": {
    "name": "ipython",
    "version": 3
   },
   "file_extension": ".py",
   "mimetype": "text/x-python",
   "name": "python",
   "nbconvert_exporter": "python",
   "pygments_lexer": "ipython3",
   "version": "3.6.4"
  },
  "papermill": {
   "default_parameters": {},
   "duration": null,
   "end_time": null,
   "environment_variables": {},
   "exception": null,
   "input_path": "__notebook__.ipynb",
   "output_path": "__notebook__.ipynb",
   "parameters": {},
   "start_time": "2021-06-09T11:50:16.871519",
   "version": "2.3.3"
  }
 },
 "nbformat": 4,
 "nbformat_minor": 5
}