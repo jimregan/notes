{
 "cells": [
  {
   "cell_type": "code",
   "execution_count": null,
   "metadata": {},
   "outputs": [],
   "source": [
    "!cp ../input/download-w2vu-sv-model-trained-on-colab/checkpoint_best.pt .\n",
    "!cp ../input/download-w2vu-sv-model-trained-on-colab/checkpoint_last.pt ."
   ]
  },
  {
   "cell_type": "code",
   "execution_count": null,
   "metadata": {
    "_cell_guid": "b1076dfc-b9ad-4769-8c92-a6c4dae69d19",
    "_uuid": "8f2839f25d086af736a60e9eeb907d3b93b6e0e5",
    "execution": {
     "iopub.execute_input": "2021-05-31T11:43:46.770458Z",
     "iopub.status.busy": "2021-05-31T11:43:46.769866Z",
     "iopub.status.idle": "2021-05-31T11:47:48.14979Z",
     "shell.execute_reply": "2021-05-31T11:47:48.146909Z",
     "shell.execute_reply.started": "2021-05-31T11:43:46.770364Z"
    }
   },
   "outputs": [],
   "source": [
    "%%capture\n",
    "!conda install -c pykaldi pykaldi -y"
   ]
  },
  {
   "cell_type": "code",
   "execution_count": null,
   "metadata": {
    "execution": {
     "iopub.execute_input": "2021-05-31T13:58:07.987897Z",
     "iopub.status.busy": "2021-05-31T13:58:07.987453Z",
     "iopub.status.idle": "2021-05-31T13:58:08.000102Z",
     "shell.execute_reply": "2021-05-31T13:58:07.998923Z",
     "shell.execute_reply.started": "2021-05-31T13:58:07.987793Z"
    }
   },
   "outputs": [],
   "source": [
    "%cd /tmp"
   ]
  },
  {
   "cell_type": "code",
   "execution_count": null,
   "metadata": {
    "execution": {
     "iopub.execute_input": "2021-05-31T11:47:48.174373Z",
     "iopub.status.busy": "2021-05-31T11:47:48.173826Z",
     "iopub.status.idle": "2021-05-31T11:47:52.615118Z",
     "shell.execute_reply": "2021-05-31T11:47:52.614079Z",
     "shell.execute_reply.started": "2021-05-31T11:47:48.174342Z"
    }
   },
   "outputs": [],
   "source": [
    "!git clone https://github.com/jimregan/fairseq/ --branch issue3581"
   ]
  },
  {
   "cell_type": "code",
   "execution_count": null,
   "metadata": {
    "execution": {
     "iopub.execute_input": "2021-05-31T13:58:08.002862Z",
     "iopub.status.busy": "2021-05-31T13:58:08.002544Z",
     "iopub.status.idle": "2021-05-31T13:58:11.998803Z",
     "shell.execute_reply": "2021-05-31T13:58:11.997716Z",
     "shell.execute_reply.started": "2021-05-31T13:58:08.002832Z"
    }
   },
   "outputs": [],
   "source": [
    "!git clone https://github.com/kpu/kenlm"
   ]
  },
  {
   "cell_type": "code",
   "execution_count": null,
   "metadata": {
    "execution": {
     "iopub.execute_input": "2021-05-31T13:58:12.001211Z",
     "iopub.status.busy": "2021-05-31T13:58:12.000794Z",
     "iopub.status.idle": "2021-05-31T13:58:18.971548Z",
     "shell.execute_reply": "2021-05-31T13:58:18.970508Z",
     "shell.execute_reply.started": "2021-05-31T13:58:12.001162Z"
    }
   },
   "outputs": [],
   "source": [
    "%%capture\n",
    "!apt-get -y install libeigen3-dev liblzma-dev zlib1g-dev libbz2-dev"
   ]
  },
  {
   "cell_type": "code",
   "execution_count": null,
   "metadata": {},
   "outputs": [],
   "source": [
    "\n",
    "%%capture\n",
    "%cd kenlm\n",
    "!mkdir build\n",
    "%cd build\n",
    "!cmake ..\n",
    "!make -j 4\n",
    "%cd /tmp"
   ]
  },
  {
   "cell_type": "code",
   "execution_count": null,
   "metadata": {
    "execution": {
     "iopub.execute_input": "2021-05-31T14:00:27.91585Z",
     "iopub.status.busy": "2021-05-31T14:00:27.915496Z",
     "iopub.status.idle": "2021-05-31T14:01:06.394568Z",
     "shell.execute_reply": "2021-05-31T14:01:06.393198Z",
     "shell.execute_reply.started": "2021-05-31T14:00:27.915818Z"
    }
   },
   "outputs": [],
   "source": [
    "%%capture\n",
    "%cd /tmp/kenlm\n",
    "!python setup.py install\n",
    "%cd /tmp"
   ]
  },
  {
   "cell_type": "code",
   "execution_count": null,
   "metadata": {
    "execution": {
     "iopub.execute_input": "2021-05-25T22:58:58.397847Z",
     "iopub.status.busy": "2021-05-25T22:58:58.397461Z",
     "iopub.status.idle": "2021-05-25T22:58:58.402393Z",
     "shell.execute_reply": "2021-05-25T22:58:58.401536Z",
     "shell.execute_reply.started": "2021-05-25T22:58:58.397816Z"
    }
   },
   "outputs": [],
   "source": [
    "import os\n",
    "os.environ['PATH'] = f\"{os.environ['PATH']}:/tmp/kenlm/build/bin/\"\n",
    "os.environ['FAIRSEQ_ROOT'] = '/tmp/fairseq'"
   ]
  },
  {
   "cell_type": "code",
   "execution_count": null,
   "metadata": {
    "execution": {
     "iopub.execute_input": "2021-05-31T11:51:49.832611Z",
     "iopub.status.busy": "2021-05-31T11:51:49.832055Z",
     "iopub.status.idle": "2021-05-31T11:51:49.83965Z",
     "shell.execute_reply": "2021-05-31T11:51:49.838625Z",
     "shell.execute_reply.started": "2021-05-31T11:51:49.832574Z"
    }
   },
   "outputs": [],
   "source": [
    "%cd /tmp/fairseq/"
   ]
  },
  {
   "cell_type": "code",
   "execution_count": null,
   "metadata": {},
   "outputs": [],
   "source": [
    "%%capture\n",
    "!python setup.py install"
   ]
  },
  {
   "cell_type": "code",
   "execution_count": null,
   "metadata": {},
   "outputs": [],
   "source": [
    "%cd /tmp/fairseq/"
   ]
  },
  {
   "cell_type": "code",
   "execution_count": null,
   "metadata": {},
   "outputs": [],
   "source": [
    "os.environ['HYDRA_FULL_ERROR'] = '1'"
   ]
  },
  {
   "cell_type": "code",
   "execution_count": null,
   "metadata": {},
   "outputs": [],
   "source": [
    "%%capture\n",
    "!pip install editdistance"
   ]
  },
  {
   "cell_type": "markdown",
   "metadata": {},
   "source": [
    "## GAN"
   ]
  },
  {
   "cell_type": "code",
   "execution_count": null,
   "metadata": {},
   "outputs": [],
   "source": [
    "!python w2vu_generate.py --config-dir config/generate --config-name viterbi \\\n",
    "fairseq.task.data=/path/to/dir/with/tsvs fairseq.common_eval.path=/path/to/gan/checkpoint \\ \n",
    "fairseq.dataset.gen_subset=valid results_path=/where/to/save/transcriptions"
   ]
  }
 ],
 "metadata": {
  "kernelspec": {
   "display_name": "Python 3",
   "language": "python",
   "name": "python3"
  },
  "language_info": {
   "codemirror_mode": {
    "name": "ipython",
    "version": 3
   },
   "file_extension": ".py",
   "mimetype": "text/x-python",
   "name": "python",
   "nbconvert_exporter": "python",
   "pygments_lexer": "ipython3",
   "version": "3.8.2"
  }
 },
 "nbformat": 4,
 "nbformat_minor": 4
}
