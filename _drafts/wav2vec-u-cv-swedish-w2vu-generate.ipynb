{
  "nbformat": 4,
  "nbformat_minor": 0,
  "metadata": {
    "accelerator": "GPU",
    "colab": {
      "name": "2021-05-30-wav2vec-u-cv-swedish-gan.ipynb",
      "provenance": []
    },
    "kernelspec": {
      "display_name": "Python 3",
      "language": "python",
      "name": "python3"
    },
    "language_info": {
      "codemirror_mode": {
        "name": "ipython",
        "version": 3
      },
      "file_extension": ".py",
      "mimetype": "text/x-python",
      "name": "python",
      "nbconvert_exporter": "python",
      "pygments_lexer": "ipython3",
      "version": "3.6.4"
    }
  },
  "cells": [
    {
      "cell_type": "markdown",
      "metadata": {
        "id": "Dqhs8jEp12Tz"
      },
      "source": [
        "# wav2vec-u CV-sv - w2vu_generate\n",
        "> \"w2vu_generate on Common Voice Swedish\"\n",
        "\n",
        "- toc: false\n",
        "- branch: master\n",
        "- badges: true\n",
        "- comments: true\n",
        "- categories: [colab, wav2vec-u]"
      ]
    },
    {
      "cell_type": "markdown",
      "metadata": {
        "id": "kF9Tj_9P2arI"
      },
      "source": [
        "The original attempt on [Kaggle](https://www.kaggle.com/jimregan/wav2vec-u-cv-swedish-gan) won't run because of an issue with CuDNN, but this notebook runs fine on Colab."
      ]
    },
    {
      "cell_type": "markdown",
      "metadata": {
        "id": "mL3fwRLmbvoD"
      },
      "source": [
        "## Preparation"
      ]
    },
    {
      "cell_type": "code",
      "metadata": {
        "colab": {
          "base_uri": "https://localhost:8080/"
        },
        "id": "QVVTn1chb1vy",
        "outputId": "2524b3f0-58a1-404e-aaf0-7248ab310cbe"
      },
      "source": [
        "!pip install condacolab"
      ],
      "execution_count": 1,
      "outputs": [
        {
          "output_type": "stream",
          "text": [
            "Collecting condacolab\n",
            "  Using cached condacolab-0.1.2-py3-none-any.whl (6.0 kB)\n",
            "Installing collected packages: condacolab\n",
            "Successfully installed condacolab-0.1.2\n"
          ],
          "name": "stdout"
        }
      ]
    },
    {
      "cell_type": "code",
      "metadata": {
        "colab": {
          "base_uri": "https://localhost:8080/"
        },
        "id": "ZOYIs1bRcBPW",
        "outputId": "b223e2de-d52c-45ec-905a-56b423a3c773"
      },
      "source": [
        "import condacolab\n",
        "condacolab.install()"
      ],
      "execution_count": 2,
      "outputs": [
        {
          "output_type": "stream",
          "text": [
            "✨🍰✨ Everything looks OK!\n"
          ],
          "name": "stdout"
        }
      ]
    },
    {
      "cell_type": "code",
      "metadata": {
        "id": "FZCun_MTbvoI"
      },
      "source": [
        "%%capture\n",
        "!conda install -c pykaldi pykaldi -y"
      ],
      "execution_count": 3,
      "outputs": []
    },
    {
      "cell_type": "code",
      "metadata": {
        "colab": {
          "base_uri": "https://localhost:8080/"
        },
        "id": "xlKl6b8abvoL",
        "outputId": "bb9126a6-48cd-471d-a935-c0e788ecc0e8"
      },
      "source": [
        "!git clone https://github.com/pytorch/fairseq/"
      ],
      "execution_count": 4,
      "outputs": [
        {
          "output_type": "stream",
          "text": [
            "fatal: destination path 'fairseq' already exists and is not an empty directory.\n"
          ],
          "name": "stdout"
        }
      ]
    },
    {
      "cell_type": "code",
      "metadata": {
        "colab": {
          "base_uri": "https://localhost:8080/"
        },
        "id": "BwUcTOjRbvoM",
        "outputId": "d5419c85-d154-4fb1-b12a-8be215599855"
      },
      "source": [
        "!git clone https://github.com/kpu/kenlm"
      ],
      "execution_count": 5,
      "outputs": [
        {
          "output_type": "stream",
          "text": [
            "fatal: destination path 'kenlm' already exists and is not an empty directory.\n"
          ],
          "name": "stdout"
        }
      ]
    },
    {
      "cell_type": "code",
      "metadata": {
        "id": "xfsJ-BmLbvoM"
      },
      "source": [
        "%%capture\n",
        "!apt-get -y install libeigen3-dev liblzma-dev zlib1g-dev libbz2-dev"
      ],
      "execution_count": 6,
      "outputs": []
    },
    {
      "cell_type": "markdown",
      "metadata": {
        "id": "xKaqtqtjtVtO"
      },
      "source": [
        "The python build doesn't build utils, so this is (probably) necessary"
      ]
    },
    {
      "cell_type": "code",
      "metadata": {
        "colab": {
          "base_uri": "https://localhost:8080/"
        },
        "id": "wHa6DxGWtEE5",
        "outputId": "678e90a8-7afd-41b6-c4d3-4075d893a688"
      },
      "source": [
        "%cd /content/kenlm\n",
        "!mkdir build\n",
        "%cd build\n",
        "!cmake ..\n",
        "!make -j 4"
      ],
      "execution_count": 67,
      "outputs": [
        {
          "output_type": "stream",
          "text": [
            "/content/kenlm\n",
            "mkdir: cannot create directory ‘build’: File exists\n",
            "/content/kenlm/build\n",
            "-- The C compiler identification is GNU 7.5.0\n",
            "-- The CXX compiler identification is GNU 7.5.0\n",
            "-- Check for working C compiler: /usr/bin/cc\n",
            "-- Check for working C compiler: /usr/bin/cc -- works\n",
            "-- Detecting C compiler ABI info\n",
            "-- Detecting C compiler ABI info - done\n",
            "-- Detecting C compile features\n",
            "-- Detecting C compile features - done\n",
            "-- Check for working CXX compiler: /usr/bin/c++\n",
            "-- Check for working CXX compiler: /usr/bin/c++ -- works\n",
            "-- Detecting CXX compiler ABI info\n",
            "-- Detecting CXX compiler ABI info - done\n",
            "-- Detecting CXX compile features\n",
            "-- Detecting CXX compile features - done\n",
            "-- Looking for pthread.h\n",
            "-- Looking for pthread.h - found\n",
            "-- Looking for pthread_create\n",
            "-- Looking for pthread_create - not found\n",
            "-- Looking for pthread_create in pthreads\n",
            "-- Looking for pthread_create in pthreads - not found\n",
            "-- Looking for pthread_create in pthread\n",
            "-- Looking for pthread_create in pthread - found\n",
            "-- Found Threads: TRUE  \n",
            "-- Boost version: 1.65.1\n",
            "-- Found the following Boost libraries:\n",
            "--   program_options\n",
            "--   system\n",
            "--   thread\n",
            "--   unit_test_framework\n",
            "--   chrono\n",
            "--   date_time\n",
            "--   atomic\n",
            "-- Check if compiler accepts -pthread\n",
            "-- Check if compiler accepts -pthread - yes\n",
            "-- Found ZLIB: /usr/local/lib/libz.so (found version \"1.2.11\") \n",
            "-- Found BZip2: /usr/local/lib/libbz2.so (found version \"1.0.8\") \n",
            "-- Looking for BZ2_bzCompressInit\n",
            "-- Looking for BZ2_bzCompressInit - found\n",
            "-- Looking for lzma_auto_decoder in /usr/local/lib/liblzma.so\n",
            "-- Looking for lzma_auto_decoder in /usr/local/lib/liblzma.so - found\n",
            "-- Looking for lzma_easy_encoder in /usr/local/lib/liblzma.so\n",
            "-- Looking for lzma_easy_encoder in /usr/local/lib/liblzma.so - found\n",
            "-- Looking for lzma_lzma_preset in /usr/local/lib/liblzma.so\n",
            "-- Looking for lzma_lzma_preset in /usr/local/lib/liblzma.so - found\n",
            "-- Found LibLZMA: /usr/local/include (found version \"5.2.5\") \n",
            "-- Looking for clock_gettime in rt\n",
            "-- Looking for clock_gettime in rt - found\n",
            "-- Found OpenMP_C: -fopenmp (found version \"4.5\") \n",
            "-- Found OpenMP_CXX: -fopenmp (found version \"4.5\") \n",
            "-- Found OpenMP: TRUE (found version \"4.5\")  \n",
            "-- Configuring done\n",
            "CMake Warning at cmake/KenLMFunctions.cmake:15 (add_executable):\n",
            "  Cannot generate a safe runtime search path for target streaming_example\n",
            "  because files in some directories may conflict with libraries in implicit\n",
            "  directories:\n",
            "\n",
            "    runtime library [libgomp.so.1] in /usr/lib/gcc/x86_64-linux-gnu/7 may be hidden by files in:\n",
            "      /usr/local/lib\n",
            "\n",
            "  Some of these libraries may not be found correctly.\n",
            "Call Stack (most recent call first):\n",
            "  lm/interpolate/CMakeLists.txt:39 (AddExes)\n",
            "\n",
            "\n",
            "CMake Warning at cmake/KenLMFunctions.cmake:15 (add_executable):\n",
            "  Cannot generate a safe runtime search path for target interpolate because\n",
            "  files in some directories may conflict with libraries in implicit\n",
            "  directories:\n",
            "\n",
            "    runtime library [libgomp.so.1] in /usr/lib/gcc/x86_64-linux-gnu/7 may be hidden by files in:\n",
            "      /usr/local/lib\n",
            "\n",
            "  Some of these libraries may not be found correctly.\n",
            "Call Stack (most recent call first):\n",
            "  lm/interpolate/CMakeLists.txt:39 (AddExes)\n",
            "\n",
            "\n",
            "-- Generating done\n",
            "-- Build files have been written to: /content/kenlm/build\n",
            "\u001b[35m\u001b[1mScanning dependencies of target kenlm_util\u001b[0m\n",
            "[  1%] \u001b[32mBuilding CXX object util/CMakeFiles/kenlm_util.dir/double-conversion/bignum-dtoa.cc.o\u001b[0m\n",
            "[  2%] \u001b[32mBuilding CXX object util/CMakeFiles/kenlm_util.dir/double-conversion/diy-fp.cc.o\u001b[0m\n",
            "[  3%] \u001b[32mBuilding CXX object util/CMakeFiles/kenlm_util.dir/double-conversion/bignum.cc.o\u001b[0m\n",
            "[  4%] \u001b[32mBuilding CXX object util/CMakeFiles/kenlm_util.dir/double-conversion/cached-powers.cc.o\u001b[0m\n",
            "[  5%] \u001b[32mBuilding CXX object util/CMakeFiles/kenlm_util.dir/double-conversion/double-conversion.cc.o\u001b[0m\n",
            "[  6%] \u001b[32mBuilding CXX object util/CMakeFiles/kenlm_util.dir/double-conversion/fast-dtoa.cc.o\u001b[0m\n",
            "[  7%] \u001b[32mBuilding CXX object util/CMakeFiles/kenlm_util.dir/double-conversion/fixed-dtoa.cc.o\u001b[0m\n",
            "[  8%] \u001b[32mBuilding CXX object util/CMakeFiles/kenlm_util.dir/double-conversion/strtod.cc.o\u001b[0m\n",
            "[  9%] \u001b[32mBuilding CXX object util/CMakeFiles/kenlm_util.dir/stream/chain.cc.o\u001b[0m\n",
            "[ 10%] \u001b[32mBuilding CXX object util/CMakeFiles/kenlm_util.dir/stream/count_records.cc.o\u001b[0m\n",
            "[ 11%] \u001b[32mBuilding CXX object util/CMakeFiles/kenlm_util.dir/stream/io.cc.o\u001b[0m\n",
            "[ 12%] \u001b[32mBuilding CXX object util/CMakeFiles/kenlm_util.dir/stream/line_input.cc.o\u001b[0m\n",
            "[ 13%] \u001b[32mBuilding CXX object util/CMakeFiles/kenlm_util.dir/stream/multi_progress.cc.o\u001b[0m\n",
            "[ 14%] \u001b[32mBuilding CXX object util/CMakeFiles/kenlm_util.dir/stream/rewindable_stream.cc.o\u001b[0m\n",
            "[ 15%] \u001b[32mBuilding CXX object util/CMakeFiles/kenlm_util.dir/bit_packing.cc.o\u001b[0m\n",
            "[ 16%] \u001b[32mBuilding CXX object util/CMakeFiles/kenlm_util.dir/ersatz_progress.cc.o\u001b[0m\n",
            "[ 17%] \u001b[32mBuilding CXX object util/CMakeFiles/kenlm_util.dir/exception.cc.o\u001b[0m\n",
            "[ 18%] \u001b[32mBuilding CXX object util/CMakeFiles/kenlm_util.dir/file.cc.o\u001b[0m\n",
            "[ 19%] \u001b[32mBuilding CXX object util/CMakeFiles/kenlm_util.dir/file_piece.cc.o\u001b[0m\n",
            "[ 20%] \u001b[32mBuilding CXX object util/CMakeFiles/kenlm_util.dir/float_to_string.cc.o\u001b[0m\n",
            "[ 21%] \u001b[32mBuilding CXX object util/CMakeFiles/kenlm_util.dir/integer_to_string.cc.o\u001b[0m\n",
            "[ 22%] \u001b[32mBuilding CXX object util/CMakeFiles/kenlm_util.dir/mmap.cc.o\u001b[0m\n",
            "[ 23%] \u001b[32mBuilding CXX object util/CMakeFiles/kenlm_util.dir/murmur_hash.cc.o\u001b[0m\n",
            "[ 25%] \u001b[32mBuilding CXX object util/CMakeFiles/kenlm_util.dir/parallel_read.cc.o\u001b[0m\n",
            "[ 26%] \u001b[32mBuilding CXX object util/CMakeFiles/kenlm_util.dir/pool.cc.o\u001b[0m\n",
            "[ 27%] \u001b[32mBuilding CXX object util/CMakeFiles/kenlm_util.dir/read_compressed.cc.o\u001b[0m\n",
            "[ 28%] \u001b[32mBuilding CXX object util/CMakeFiles/kenlm_util.dir/scoped.cc.o\u001b[0m\n",
            "[ 29%] \u001b[32mBuilding CXX object util/CMakeFiles/kenlm_util.dir/spaces.cc.o\u001b[0m\n",
            "[ 30%] \u001b[32mBuilding CXX object util/CMakeFiles/kenlm_util.dir/string_piece.cc.o\u001b[0m\n",
            "[ 31%] \u001b[32mBuilding CXX object util/CMakeFiles/kenlm_util.dir/usage.cc.o\u001b[0m\n",
            "[ 32%] \u001b[32m\u001b[1mLinking CXX static library ../lib/libkenlm_util.a\u001b[0m\n",
            "[ 32%] Built target kenlm_util\n",
            "\u001b[35m\u001b[1mScanning dependencies of target probing_hash_table_benchmark\u001b[0m\n",
            "\u001b[35m\u001b[1mScanning dependencies of target kenlm\u001b[0m\n",
            "\u001b[35m\u001b[1mScanning dependencies of target kenlm_filter\u001b[0m\n",
            "[ 33%] \u001b[32mBuilding CXX object util/CMakeFiles/probing_hash_table_benchmark.dir/probing_hash_table_benchmark_main.cc.o\u001b[0m\n",
            "[ 34%] \u001b[32mBuilding CXX object lm/filter/CMakeFiles/kenlm_filter.dir/phrase.cc.o\u001b[0m\n",
            "[ 35%] \u001b[32mBuilding CXX object lm/filter/CMakeFiles/kenlm_filter.dir/arpa_io.cc.o\u001b[0m\n",
            "[ 36%] \u001b[32mBuilding CXX object lm/CMakeFiles/kenlm.dir/bhiksha.cc.o\u001b[0m\n",
            "[ 37%] \u001b[32mBuilding CXX object lm/CMakeFiles/kenlm.dir/binary_format.cc.o\u001b[0m\n",
            "[ 38%] \u001b[32mBuilding CXX object lm/filter/CMakeFiles/kenlm_filter.dir/vocab.cc.o\u001b[0m\n",
            "[ 39%] \u001b[32mBuilding CXX object lm/CMakeFiles/kenlm.dir/config.cc.o\u001b[0m\n",
            "[ 40%] \u001b[32mBuilding CXX object lm/CMakeFiles/kenlm.dir/lm_exception.cc.o\u001b[0m\n",
            "[ 41%] \u001b[32mBuilding CXX object lm/CMakeFiles/kenlm.dir/model.cc.o\u001b[0m\n",
            "[ 42%] \u001b[32mBuilding CXX object lm/CMakeFiles/kenlm.dir/quantize.cc.o\u001b[0m\n",
            "[ 43%] \u001b[32m\u001b[1mLinking CXX static library ../../lib/libkenlm_filter.a\u001b[0m\n",
            "[ 43%] Built target kenlm_filter\n",
            "[ 44%] \u001b[32mBuilding CXX object lm/CMakeFiles/kenlm.dir/read_arpa.cc.o\u001b[0m\n",
            "[ 45%] \u001b[32mBuilding CXX object lm/CMakeFiles/kenlm.dir/search_hashed.cc.o\u001b[0m\n",
            "[ 46%] \u001b[32mBuilding CXX object lm/CMakeFiles/kenlm.dir/search_trie.cc.o\u001b[0m\n",
            "[ 47%] \u001b[32mBuilding CXX object lm/CMakeFiles/kenlm.dir/sizes.cc.o\u001b[0m\n",
            "[ 48%] \u001b[32mBuilding CXX object lm/CMakeFiles/kenlm.dir/trie.cc.o\u001b[0m\n",
            "[ 50%] \u001b[32mBuilding CXX object lm/CMakeFiles/kenlm.dir/trie_sort.cc.o\u001b[0m\n",
            "[ 51%] \u001b[32mBuilding CXX object lm/CMakeFiles/kenlm.dir/value_build.cc.o\u001b[0m\n",
            "[ 52%] \u001b[32m\u001b[1mLinking CXX executable ../bin/probing_hash_table_benchmark\u001b[0m\n",
            "[ 52%] Built target probing_hash_table_benchmark\n",
            "[ 53%] \u001b[32mBuilding CXX object lm/CMakeFiles/kenlm.dir/virtual_interface.cc.o\u001b[0m\n",
            "[ 54%] \u001b[32mBuilding CXX object lm/CMakeFiles/kenlm.dir/vocab.cc.o\u001b[0m\n",
            "[ 55%] \u001b[32mBuilding CXX object lm/CMakeFiles/kenlm.dir/common/model_buffer.cc.o\u001b[0m\n",
            "[ 56%] \u001b[32mBuilding CXX object lm/CMakeFiles/kenlm.dir/common/print.cc.o\u001b[0m\n",
            "[ 57%] \u001b[32mBuilding CXX object lm/CMakeFiles/kenlm.dir/common/renumber.cc.o\u001b[0m\n",
            "[ 58%] \u001b[32mBuilding CXX object lm/CMakeFiles/kenlm.dir/common/size_option.cc.o\u001b[0m\n",
            "[ 59%] \u001b[32m\u001b[1mLinking CXX static library ../lib/libkenlm.a\u001b[0m\n",
            "[ 59%] Built target kenlm\n",
            "\u001b[35m\u001b[1mScanning dependencies of target build_binary\u001b[0m\n",
            "\u001b[35m\u001b[1mScanning dependencies of target query\u001b[0m\n",
            "\u001b[35m\u001b[1mScanning dependencies of target kenlm_benchmark\u001b[0m\n",
            "\u001b[35m\u001b[1mScanning dependencies of target fragment\u001b[0m\n",
            "[ 60%] \u001b[32mBuilding CXX object lm/CMakeFiles/kenlm_benchmark.dir/kenlm_benchmark_main.cc.o\u001b[0m\n",
            "[ 61%] \u001b[32mBuilding CXX object lm/CMakeFiles/build_binary.dir/build_binary_main.cc.o\u001b[0m\n",
            "[ 62%] \u001b[32mBuilding CXX object lm/CMakeFiles/query.dir/query_main.cc.o\u001b[0m\n",
            "[ 63%] \u001b[32mBuilding CXX object lm/CMakeFiles/fragment.dir/fragment_main.cc.o\u001b[0m\n",
            "[ 64%] \u001b[32m\u001b[1mLinking CXX executable ../bin/fragment\u001b[0m\n",
            "[ 65%] \u001b[32m\u001b[1mLinking CXX executable ../bin/build_binary\u001b[0m\n",
            "[ 65%] Built target fragment\n",
            "\u001b[35m\u001b[1mScanning dependencies of target kenlm_builder\u001b[0m\n",
            "[ 66%] \u001b[32mBuilding CXX object lm/builder/CMakeFiles/kenlm_builder.dir/adjust_counts.cc.o\u001b[0m\n",
            "[ 66%] Built target build_binary\n",
            "[ 67%] \u001b[32mBuilding CXX object lm/builder/CMakeFiles/kenlm_builder.dir/corpus_count.cc.o\u001b[0m\n",
            "[ 68%] \u001b[32m\u001b[1mLinking CXX executable ../bin/query\u001b[0m\n",
            "[ 68%] Built target query\n",
            "[ 69%] \u001b[32mBuilding CXX object lm/builder/CMakeFiles/kenlm_builder.dir/initial_probabilities.cc.o\u001b[0m\n",
            "[ 70%] \u001b[32mBuilding CXX object lm/builder/CMakeFiles/kenlm_builder.dir/interpolate.cc.o\u001b[0m\n",
            "[ 71%] \u001b[32mBuilding CXX object lm/builder/CMakeFiles/kenlm_builder.dir/output.cc.o\u001b[0m\n",
            "[ 72%] \u001b[32mBuilding CXX object lm/builder/CMakeFiles/kenlm_builder.dir/pipeline.cc.o\u001b[0m\n",
            "\u001b[35m\u001b[1mScanning dependencies of target phrase_table_vocab\u001b[0m\n",
            "[ 73%] \u001b[32mBuilding CXX object lm/filter/CMakeFiles/phrase_table_vocab.dir/phrase_table_vocab_main.cc.o\u001b[0m\n",
            "\u001b[35m\u001b[1mScanning dependencies of target filter\u001b[0m\n",
            "[ 75%] \u001b[32mBuilding CXX object lm/filter/CMakeFiles/filter.dir/filter_main.cc.o\u001b[0m\n",
            "[ 76%] \u001b[32m\u001b[1mLinking CXX executable ../../bin/phrase_table_vocab\u001b[0m\n",
            "[ 76%] Built target phrase_table_vocab\n",
            "\u001b[35m\u001b[1mScanning dependencies of target kenlm_interpolate\u001b[0m\n",
            "[ 77%] \u001b[32mBuilding CXX object lm/interpolate/CMakeFiles/kenlm_interpolate.dir/backoff_reunification.cc.o\u001b[0m\n",
            "[ 78%] \u001b[32mBuilding CXX object lm/interpolate/CMakeFiles/kenlm_interpolate.dir/bounded_sequence_encoding.cc.o\u001b[0m\n",
            "[ 79%] \u001b[32mBuilding CXX object lm/interpolate/CMakeFiles/kenlm_interpolate.dir/merge_probabilities.cc.o\u001b[0m\n",
            "[ 80%] \u001b[32m\u001b[1mLinking CXX executable ../bin/kenlm_benchmark\u001b[0m\n",
            "[ 80%] Built target kenlm_benchmark\n",
            "[ 81%] \u001b[32mBuilding CXX object lm/interpolate/CMakeFiles/kenlm_interpolate.dir/merge_vocab.cc.o\u001b[0m\n",
            "[ 82%] \u001b[32mBuilding CXX object lm/interpolate/CMakeFiles/kenlm_interpolate.dir/normalize.cc.o\u001b[0m\n",
            "[ 83%] \u001b[32m\u001b[1mLinking CXX static library ../../lib/libkenlm_builder.a\u001b[0m\n",
            "[ 83%] Built target kenlm_builder\n",
            "\u001b[35m\u001b[1mScanning dependencies of target count_ngrams\u001b[0m\n",
            "[ 84%] \u001b[32mBuilding CXX object lm/builder/CMakeFiles/count_ngrams.dir/count_ngrams_main.cc.o\u001b[0m\n",
            "[ 85%] \u001b[32mBuilding CXX object lm/interpolate/CMakeFiles/kenlm_interpolate.dir/pipeline.cc.o\u001b[0m\n",
            "[ 86%] \u001b[32mBuilding CXX object lm/interpolate/CMakeFiles/kenlm_interpolate.dir/split_worker.cc.o\u001b[0m\n",
            "[ 87%] \u001b[32m\u001b[1mLinking CXX executable ../../bin/filter\u001b[0m\n",
            "[ 87%] Built target filter\n",
            "\u001b[35m\u001b[1mScanning dependencies of target lmplz\u001b[0m\n",
            "[ 88%] \u001b[32mBuilding CXX object lm/interpolate/CMakeFiles/kenlm_interpolate.dir/tune_derivatives.cc.o\u001b[0m\n",
            "[ 89%] \u001b[32mBuilding CXX object lm/builder/CMakeFiles/lmplz.dir/lmplz_main.cc.o\u001b[0m\n",
            "[ 90%] \u001b[32m\u001b[1mLinking CXX executable ../../bin/count_ngrams\u001b[0m\n",
            "[ 90%] Built target count_ngrams\n",
            "[ 91%] \u001b[32mBuilding CXX object lm/interpolate/CMakeFiles/kenlm_interpolate.dir/tune_instances.cc.o\u001b[0m\n",
            "[ 92%] \u001b[32mBuilding CXX object lm/interpolate/CMakeFiles/kenlm_interpolate.dir/tune_weights.cc.o\u001b[0m\n",
            "[ 93%] \u001b[32m\u001b[1mLinking CXX executable ../../bin/lmplz\u001b[0m\n",
            "[ 93%] Built target lmplz\n",
            "[ 94%] \u001b[32mBuilding CXX object lm/interpolate/CMakeFiles/kenlm_interpolate.dir/universal_vocab.cc.o\u001b[0m\n",
            "[ 95%] \u001b[32m\u001b[1mLinking CXX static library ../../lib/libkenlm_interpolate.a\u001b[0m\n",
            "[ 95%] Built target kenlm_interpolate\n",
            "\u001b[35m\u001b[1mScanning dependencies of target interpolate\u001b[0m\n",
            "\u001b[35m\u001b[1mScanning dependencies of target streaming_example\u001b[0m\n",
            "[ 96%] \u001b[32mBuilding CXX object lm/interpolate/CMakeFiles/streaming_example.dir/streaming_example_main.cc.o\u001b[0m\n",
            "[ 97%] \u001b[32mBuilding CXX object lm/interpolate/CMakeFiles/interpolate.dir/interpolate_main.cc.o\u001b[0m\n",
            "[ 98%] \u001b[32m\u001b[1mLinking CXX executable ../../bin/interpolate\u001b[0m\n",
            "[ 98%] Built target interpolate\n",
            "[100%] \u001b[32m\u001b[1mLinking CXX executable ../../bin/streaming_example\u001b[0m\n",
            "[100%] Built target streaming_example\n"
          ],
          "name": "stdout"
        }
      ]
    },
    {
      "cell_type": "code",
      "metadata": {
        "id": "9w7eg96HbvoO"
      },
      "source": [
        "%%capture\n",
        "%cd /content/kenlm\n",
        "!python setup.py install\n",
        "%cd /tmp"
      ],
      "execution_count": 7,
      "outputs": []
    },
    {
      "cell_type": "code",
      "metadata": {
        "id": "m734pIlgbvoO"
      },
      "source": [
        "import os\n",
        "os.environ['PATH'] = f\"{os.environ['PATH']}:/content/kenlm/build/bin/\"\n",
        "os.environ['FAIRSEQ_ROOT'] = '/content/fairseq'"
      ],
      "execution_count": 8,
      "outputs": []
    },
    {
      "cell_type": "code",
      "metadata": {
        "colab": {
          "base_uri": "https://localhost:8080/"
        },
        "id": "x7iGrPGCbvoP",
        "outputId": "b026fc7a-0314-4277-c281-1aa498fd4c7a"
      },
      "source": [
        "%cd /content/fairseq/"
      ],
      "execution_count": 31,
      "outputs": [
        {
          "output_type": "stream",
          "text": [
            "/content/fairseq\n"
          ],
          "name": "stdout"
        }
      ]
    },
    {
      "cell_type": "markdown",
      "metadata": {
        "id": "NlwsFWJ2omhO"
      },
      "source": [
        "For next cell, see [here](https://github.com/pytorch/fairseq/issues/3087)"
      ]
    },
    {
      "cell_type": "code",
      "metadata": {
        "id": "X1ACsk1ZbvoP"
      },
      "source": [
        "%%capture\n",
        "!pip install --editable ./\n",
        "!python setup.py build develop"
      ],
      "execution_count": 32,
      "outputs": []
    },
    {
      "cell_type": "code",
      "metadata": {
        "id": "QA-J_mFqbvoR"
      },
      "source": [
        "os.environ['HYDRA_FULL_ERROR'] = '1'"
      ],
      "execution_count": 11,
      "outputs": []
    },
    {
      "cell_type": "code",
      "metadata": {
        "id": "s8h11qZXbvoS"
      },
      "source": [
        "%%capture\n",
        "!pip install editdistance"
      ],
      "execution_count": 12,
      "outputs": []
    },
    {
      "cell_type": "markdown",
      "metadata": {
        "id": "S02ROj2_cl_i"
      },
      "source": [
        "https://colab.research.google.com/github/corrieann/kaggle/blob/master/kaggle_api_in_colab.ipynb"
      ]
    },
    {
      "cell_type": "code",
      "metadata": {
        "id": "BvR8jKnzc1E9"
      },
      "source": [
        "%%capture\n",
        "!pip install kaggle"
      ],
      "execution_count": 13,
      "outputs": []
    },
    {
      "cell_type": "code",
      "metadata": {
        "id": "A8SXwyPDcolN",
        "colab": {
          "resources": {
            "http://localhost:8080/nbextensions/google.colab/files.js": {
              "data": "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",
              "ok": true,
              "headers": [
                [
                  "content-type",
                  "application/javascript"
                ]
              ],
              "status": 200,
              "status_text": ""
            }
          },
          "base_uri": "https://localhost:8080/",
          "height": 89
        },
        "outputId": "cd7242ee-35c4-4600-fcbd-d89740ef1585"
      },
      "source": [
        "from google.colab import files\n",
        "\n",
        "uploaded = files.upload()\n",
        "\n",
        "for fn in uploaded.keys():\n",
        "  print('User uploaded file \"{name}\" with length {length} bytes'.format(\n",
        "      name=fn, length=len(uploaded[fn])))\n",
        "  \n",
        "# Then move kaggle.json into the folder where the API expects to find it.\n",
        "!mkdir -p ~/.kaggle/ && mv kaggle.json ~/.kaggle/ && chmod 600 ~/.kaggle/kaggle.json"
      ],
      "execution_count": 14,
      "outputs": [
        {
          "output_type": "display_data",
          "data": {
            "text/html": [
              "\n",
              "     <input type=\"file\" id=\"files-5a377664-3c2b-45db-a36d-da7b86c716a2\" name=\"files[]\" multiple disabled\n",
              "        style=\"border:none\" />\n",
              "     <output id=\"result-5a377664-3c2b-45db-a36d-da7b86c716a2\">\n",
              "      Upload widget is only available when the cell has been executed in the\n",
              "      current browser session. Please rerun this cell to enable.\n",
              "      </output>\n",
              "      <script src=\"/nbextensions/google.colab/files.js\"></script> "
            ],
            "text/plain": [
              "<IPython.core.display.HTML object>"
            ]
          },
          "metadata": {
            "tags": []
          }
        },
        {
          "output_type": "stream",
          "text": [
            "Saving kaggle.json to kaggle.json\n",
            "User uploaded file \"kaggle.json\" with length 64 bytes\n"
          ],
          "name": "stdout"
        }
      ]
    },
    {
      "cell_type": "code",
      "metadata": {
        "colab": {
          "base_uri": "https://localhost:8080/"
        },
        "id": "6kPXJ6VPeya6",
        "outputId": "c65e38fd-b8c5-4589-e897-cf36057c50f6"
      },
      "source": [
        "%cd /content"
      ],
      "execution_count": 15,
      "outputs": [
        {
          "output_type": "stream",
          "text": [
            "/content\n"
          ],
          "name": "stdout"
        }
      ]
    },
    {
      "cell_type": "code",
      "metadata": {
        "colab": {
          "base_uri": "https://localhost:8080/"
        },
        "id": "i1KhhOtHfQzW",
        "outputId": "873a2a34-64c3-41a9-d9f1-a2519281f612"
      },
      "source": [
        "!kaggle datasets download \"jimregan/w2vu-cvsv-audio-processed\""
      ],
      "execution_count": 18,
      "outputs": [
        {
          "output_type": "stream",
          "text": [
            "Downloading w2vu-cvsv-audio-processed.zip to /content\n",
            "100% 4.31G/4.31G [01:24<00:00, 102MB/s] \n",
            "100% 4.31G/4.31G [01:24<00:00, 54.7MB/s]\n"
          ],
          "name": "stdout"
        }
      ]
    },
    {
      "cell_type": "code",
      "metadata": {
        "id": "IiA4aXvCfW9d"
      },
      "source": [
        "%%capture\n",
        "!unzip /content/w2vu-cvsv-audio-processed.zip"
      ],
      "execution_count": 19,
      "outputs": []
    },
    {
      "cell_type": "code",
      "metadata": {
        "colab": {
          "base_uri": "https://localhost:8080/"
        },
        "id": "1GyS6aemerz7",
        "outputId": "b33e800d-c85d-4da6-dfe4-4bfe638d5062"
      },
      "source": [
        "!kaggle datasets download -d jimregan/w2vu-cvsv-prepared-text"
      ],
      "execution_count": 20,
      "outputs": [
        {
          "output_type": "stream",
          "text": [
            "Downloading w2vu-cvsv-prepared-text.zip to /content\n",
            " 80% 14.0M/17.4M [00:00<00:00, 33.7MB/s]\n",
            "100% 17.4M/17.4M [00:00<00:00, 44.2MB/s]\n"
          ],
          "name": "stdout"
        }
      ]
    },
    {
      "cell_type": "code",
      "metadata": {
        "id": "3RyBEIhahPzB"
      },
      "source": [
        "%%capture\n",
        "!unzip w2vu-cvsv-prepared-text.zip"
      ],
      "execution_count": 21,
      "outputs": []
    },
    {
      "cell_type": "code",
      "metadata": {
        "id": "F9ZmDpv5hVyM"
      },
      "source": [
        "!rm *.zip"
      ],
      "execution_count": 22,
      "outputs": []
    },
    {
      "cell_type": "code",
      "metadata": {
        "id": "7V1D_RA8ncFd"
      },
      "source": [
        "!cp /content/preppedtext/phones/dict* /content/precompute_pca512_cls128_mean"
      ],
      "execution_count": 43,
      "outputs": []
    },
    {
      "cell_type": "code",
      "metadata": {
        "colab": {
          "base_uri": "https://localhost:8080/"
        },
        "id": "2k26uw8gqGmw",
        "outputId": "24c2f40e-b9df-4f44-97f2-2678e113a077"
      },
      "source": [
        "%cd /content"
      ],
      "execution_count": 68,
      "outputs": [
        {
          "output_type": "stream",
          "text": [
            "/content\n"
          ],
          "name": "stdout"
        }
      ]
    },
    {
      "cell_type": "code",
      "metadata": {
        "colab": {
          "base_uri": "https://localhost:8080/"
        },
        "id": "vOwuJp1oqIMx",
        "outputId": "0744f666-620d-4b5a-b4d3-604177bfcf2e"
      },
      "source": [
        "!git clone https://github.com/flashlight/flashlight"
      ],
      "execution_count": 51,
      "outputs": [
        {
          "output_type": "stream",
          "text": [
            "Cloning into 'flashlight'...\n",
            "remote: Enumerating objects: 17649, done.\u001b[K\n",
            "remote: Counting objects: 100% (1523/1523), done.\u001b[K\n",
            "remote: Compressing objects: 100% (718/718), done.\u001b[K\n",
            "remote: Total 17649 (delta 827), reused 1336 (delta 761), pack-reused 16126\u001b[K\n",
            "Receiving objects: 100% (17649/17649), 14.23 MiB | 24.82 MiB/s, done.\n",
            "Resolving deltas: 100% (12298/12298), done.\n"
          ],
          "name": "stdout"
        }
      ]
    },
    {
      "cell_type": "code",
      "metadata": {
        "colab": {
          "base_uri": "https://localhost:8080/"
        },
        "id": "HQji7SD4qR2O",
        "outputId": "db9e5da9-4f86-4db5-f12a-00d031d92212"
      },
      "source": [
        "%%capture\n",
        "!apt install -q libfftw3-dev"
      ],
      "execution_count": 54,
      "outputs": [
        {
          "output_type": "stream",
          "text": [
            "Reading package lists...\n",
            "Building dependency tree...\n",
            "Reading state information...\n",
            "libfftw3-dev is already the newest version (3.3.7-1).\n",
            "cmake is already the newest version (3.10.2-1ubuntu2.18.04.1).\n",
            "0 upgraded, 0 newly installed, 0 to remove and 39 not upgraded.\n"
          ],
          "name": "stdout"
        }
      ]
    },
    {
      "cell_type": "code",
      "metadata": {
        "colab": {
          "base_uri": "https://localhost:8080/"
        },
        "id": "yI04_0fMqeKr",
        "outputId": "9b3ddeca-933b-4aa2-980b-2aeb1f6eae62"
      },
      "source": [
        "%cd flashlight/bindings/python"
      ],
      "execution_count": 69,
      "outputs": [
        {
          "output_type": "stream",
          "text": [
            "/content/flashlight/bindings/python\n"
          ],
          "name": "stdout"
        }
      ]
    },
    {
      "cell_type": "code",
      "metadata": {
        "colab": {
          "base_uri": "https://localhost:8080/",
          "height": 238
        },
        "id": "iqeuqKQ4qr-W",
        "outputId": "0246b9e1-9d53-4167-dbb5-c8b3cac01d7f"
      },
      "source": [
        "%%capture\n",
        "!pip install packaging"
      ],
      "execution_count": 57,
      "outputs": [
        {
          "output_type": "stream",
          "text": [
            "Collecting packaging\n",
            "  Downloading packaging-20.9-py2.py3-none-any.whl (40 kB)\n",
            "\u001b[?25l\r\u001b[K     |████████                        | 10 kB 20.4 MB/s eta 0:00:01\r\u001b[K     |████████████████                | 20 kB 27.2 MB/s eta 0:00:01\r\u001b[K     |████████████████████████        | 30 kB 32.9 MB/s eta 0:00:01\r\u001b[K     |████████████████████████████████| 40 kB 5.6 MB/s \n",
            "\u001b[?25hCollecting pyparsing>=2.0.2\n",
            "  Downloading pyparsing-2.4.7-py2.py3-none-any.whl (67 kB)\n",
            "\u001b[?25l\r\u001b[K     |████▉                           | 10 kB 24.5 MB/s eta 0:00:01\r\u001b[K     |█████████▋                      | 20 kB 31.1 MB/s eta 0:00:01\r\u001b[K     |██████████████▌                 | 30 kB 36.4 MB/s eta 0:00:01\r\u001b[K     |███████████████████▎            | 40 kB 40.6 MB/s eta 0:00:01\r\u001b[K     |████████████████████████▏       | 51 kB 41.9 MB/s eta 0:00:01\r\u001b[K     |█████████████████████████████   | 61 kB 43.9 MB/s eta 0:00:01\r\u001b[K     |████████████████████████████████| 67 kB 5.6 MB/s \n",
            "\u001b[?25hInstalling collected packages: pyparsing, packaging\n",
            "Successfully installed packaging-20.9 pyparsing-2.4.7\n"
          ],
          "name": "stdout"
        },
        {
          "output_type": "display_data",
          "data": {
            "application/vnd.colab-display-data+json": {
              "pip_warning": {
                "packages": [
                  "packaging",
                  "pyparsing"
                ]
              }
            }
          },
          "metadata": {
            "tags": []
          }
        }
      ]
    },
    {
      "cell_type": "code",
      "metadata": {
        "colab": {
          "base_uri": "https://localhost:8080/"
        },
        "id": "CpO8lOT2qnSz",
        "outputId": "13912057-de33-4b62-ce69-c8aeb11dc353"
      },
      "source": [
        "!USE_MKL=0 KENLM_ROOT=/content/kenlm python setup.py install"
      ],
      "execution_count": 70,
      "outputs": [
        {
          "output_type": "stream",
          "text": [
            "running install\n",
            "running bdist_egg\n",
            "running egg_info\n",
            "writing flashlight.egg-info/PKG-INFO\n",
            "writing dependency_links to flashlight.egg-info/dependency_links.txt\n",
            "writing top-level names to flashlight.egg-info/top_level.txt\n",
            "package init file 'flashlight/__init__.py' not found (or not a regular file)\n",
            "package init file 'flashlight/lib/audio/__init__.py' not found (or not a regular file)\n",
            "package init file 'flashlight/lib/sequence/__init__.py' not found (or not a regular file)\n",
            "package init file 'flashlight/lib/text/__init__.py' not found (or not a regular file)\n",
            "reading manifest file 'flashlight.egg-info/SOURCES.txt'\n",
            "reading manifest template 'MANIFEST.in'\n",
            "writing manifest file 'flashlight.egg-info/SOURCES.txt'\n",
            "installing library code to build/bdist.linux-x86_64/egg\n",
            "running install_lib\n",
            "running build_py\n",
            "running build_ext\n",
            "-- -rdynamic supported.\n",
            "-- CUDA found (library: /usr/local/cuda/lib64/libcudart_static.a;-lpthread;dl;/usr/lib/x86_64-linux-gnu/librt.so include: /usr/local/cuda/include)\n",
            "-- CUDA architecture flags: -gencodearch=compute_35,code=sm_35-gencodearch=compute_50,code=sm_50-gencodearch=compute_52,code=sm_52-gencodearch=compute_60,code=sm_60-gencodearch=compute_61,code=sm_61-gencodearch=compute_70,code=sm_70-gencodearch=compute_75,code=sm_75-gencodearch=compute_80,code=sm_80\n",
            "-- Will build flashlight libraries.\n",
            "-- Checking for module 'cblas'\n",
            "--   No package 'cblas' found\n",
            "-- Checking for [Accelerate]\n",
            "-- Checking for [vecLib]\n",
            "-- Checking for [cblas - atlas]\n",
            "-- Includes found\n",
            "-- CBLAS Symbols FOUND\n",
            "-- CBLAS library found\n",
            "-- CBLAS found (include: /usr/local/include, library: /usr/local/lib/libcblas.so;/usr/lib/x86_64-linux-gnu/libatlas.so)\n",
            "-- Could NOT find FFTW3 (missing: FFTW3_DIR)\n",
            "-- FindFFTW using pkgconfig: FOUND=1 LIBRARIES=fftw3 LIBRARY_DIRS= LIBDIR=/usr/lib/x86_64-linux-gnu LINK_LIBRARIES=/usr/lib/x86_64-linux-gnu/libfftw3.so\n",
            "-- FindFTTW using pkgconfig: INCLUDE_DIRS= INCLUDEDIR=/usr/include\n",
            "-- FFTW found\n",
            "-- Looking for KenLM\n",
            "-- Using kenlm library found in /content/kenlm/build/lib/libkenlm.a\n",
            "-- Using kenlm utils library found in /content/kenlm/build/lib/libkenlm_util.a\n",
            "-- kenlm model.hh found in /content/kenlm/lm\n",
            "-- Found kenlm: /content  \n",
            "-- Found kenlm (include: /content, library: /content/kenlm/build/lib/libkenlm.a;/content/kenlm/build/lib/libkenlm_util.a;/usr/local/lib/liblzma.so;/usr/local/lib/libbz2.so;/usr/local/lib/libz.so)\n",
            "-- Configuring done\n",
            "CMake Warning at flashlight/lib/CMakeLists.txt:5 (add_library):\n",
            "  Cannot generate a safe runtime search path for target fl-libraries because\n",
            "  files in some directories may conflict with libraries in implicit\n",
            "  directories:\n",
            "\n",
            "    runtime library [libgomp.so.1] in /usr/lib/gcc/x86_64-linux-gnu/7 may be hidden by files in:\n",
            "      /usr/local/lib\n",
            "\n",
            "  Some of these libraries may not be found correctly.\n",
            "Call Stack (most recent call first):\n",
            "  CMakeLists.txt:133 (include)\n",
            "\n",
            "\n",
            "-- Generating done\n",
            "-- Build files have been written to: /content/flashlight/bindings/python/build/temp.linux-x86_64-3.7\n",
            "\u001b[35m\u001b[1mScanning dependencies of target pybind11\u001b[0m\n",
            "\u001b[35m\u001b[1mScanning dependencies of target fl-libraries\u001b[0m\n",
            "[  1%] \u001b[34m\u001b[1mCreating directories for 'pybind11'\u001b[0m\n",
            "[  3%] \u001b[34m\u001b[1mPerforming download step (git clone) for 'pybind11'\u001b[0m\n",
            "Cloning into 'pybind11'...\n",
            "[  5%] \u001b[32mBuilding CXX object CMakeFiles/fl-libraries.dir/flashlight/lib/set/Hungarian.cpp.o\u001b[0m\n",
            "[  7%] \u001b[32mBuilding CXX object CMakeFiles/fl-libraries.dir/flashlight/lib/sequence/criterion/cpu/CriterionUtils.cpp.o\u001b[0m\n",
            "[  9%] \u001b[32mBuilding CXX object CMakeFiles/fl-libraries.dir/flashlight/lib/sequence/criterion/cpu/ForceAlignmentCriterion.cpp.o\u001b[0m\n",
            "[ 11%] \u001b[32mBuilding CXX object CMakeFiles/fl-libraries.dir/flashlight/lib/sequence/criterion/cpu/ConnectionistTemporalClassificationCriterion.cpp.o\u001b[0m\n",
            "[ 12%] \u001b[32mBuilding CXX object CMakeFiles/fl-libraries.dir/flashlight/lib/sequence/criterion/cpu/FullConnectionCriterion.cpp.o\u001b[0m\n",
            "[ 14%] \u001b[32mBuilding CXX object CMakeFiles/fl-libraries.dir/flashlight/lib/sequence/criterion/cpu/ViterbiPath.cpp.o\u001b[0m\n",
            "[ 16%] \u001b[32mBuilding CXX object CMakeFiles/fl-libraries.dir/flashlight/lib/audio/feature/Ceplifter.cpp.o\u001b[0m\n",
            "[ 18%] \u001b[32mBuilding CXX object CMakeFiles/fl-libraries.dir/flashlight/lib/audio/feature/Dct.cpp.o\u001b[0m\n",
            "Note: checking out '9a19306fbf30642ca331d0ec88e7da54a96860f9'.\n",
            "\n",
            "You are in 'detached HEAD' state. You can look around, make experimental\n",
            "changes and commit them, and you can discard any commits you make in this\n",
            "state without impacting any branches by performing another checkout.\n",
            "\n",
            "If you want to create a new branch to retain commits you create, you may\n",
            "do so (now or later) by using -b with the checkout command again. Example:\n",
            "\n",
            "  git checkout -b <new-branch-name>\n",
            "\n",
            "HEAD is now at 9a19306 bump version to 2.2.4\n",
            "Submodule 'tools/clang' (https://github.com/wjakob/clang-cindex-python3) registered for path 'tools/clang'\n",
            "[ 20%] \u001b[32mBuilding CXX object CMakeFiles/fl-libraries.dir/flashlight/lib/audio/feature/Derivatives.cpp.o\u001b[0m\n",
            "[ 22%] \u001b[32mBuilding CXX object CMakeFiles/fl-libraries.dir/flashlight/lib/audio/feature/Dither.cpp.o\u001b[0m\n",
            "Cloning into '/content/flashlight/bindings/python/build/temp.linux-x86_64-3.7/pybind11/src/pybind11/tools/clang'...\n",
            "[ 24%] \u001b[32mBuilding CXX object CMakeFiles/fl-libraries.dir/flashlight/lib/audio/feature/Mfcc.cpp.o\u001b[0m\n",
            "[ 25%] \u001b[32mBuilding CXX object CMakeFiles/fl-libraries.dir/flashlight/lib/audio/feature/Mfsc.cpp.o\u001b[0m\n",
            "Submodule path 'tools/clang': checked out '6a00cbc4a9b8e68b71caf7f774b3f9c753ae84d5'\n",
            "[ 27%] \u001b[34m\u001b[1mNo patch step for 'pybind11'\u001b[0m\n",
            "[ 29%] \u001b[34m\u001b[1mPerforming update step for 'pybind11'\u001b[0m\n",
            "[ 31%] \u001b[34m\u001b[1mNo configure step for 'pybind11'\u001b[0m\n",
            "[ 33%] \u001b[34m\u001b[1mNo build step for 'pybind11'\u001b[0m\n",
            "[ 35%] \u001b[34m\u001b[1mNo install step for 'pybind11'\u001b[0m\n",
            "[ 37%] \u001b[34m\u001b[1mCompleted 'pybind11'\u001b[0m\n",
            "[ 38%] \u001b[32mBuilding CXX object CMakeFiles/fl-libraries.dir/flashlight/lib/audio/feature/PowerSpectrum.cpp.o\u001b[0m\n",
            "[ 38%] Built target pybind11\n",
            "[ 40%] \u001b[32mBuilding CXX object CMakeFiles/fl-libraries.dir/flashlight/lib/audio/feature/PreEmphasis.cpp.o\u001b[0m\n",
            "[ 42%] \u001b[32mBuilding CXX object CMakeFiles/fl-libraries.dir/flashlight/lib/audio/feature/SpeechUtils.cpp.o\u001b[0m\n",
            "[ 44%] \u001b[32mBuilding CXX object CMakeFiles/fl-libraries.dir/flashlight/lib/audio/feature/TriFilterbank.cpp.o\u001b[0m\n",
            "[ 46%] \u001b[32mBuilding CXX object CMakeFiles/fl-libraries.dir/flashlight/lib/audio/feature/Windowing.cpp.o\u001b[0m\n",
            "[ 48%] \u001b[32mBuilding CXX object CMakeFiles/fl-libraries.dir/flashlight/lib/common/String.cpp.o\u001b[0m\n",
            "[ 50%] \u001b[32mBuilding CXX object CMakeFiles/fl-libraries.dir/flashlight/lib/common/System.cpp.o\u001b[0m\n",
            "[ 51%] \u001b[32mBuilding CXX object CMakeFiles/fl-libraries.dir/flashlight/lib/text/decoder/lm/ConvLM.cpp.o\u001b[0m\n",
            "[ 53%] \u001b[32mBuilding CXX object CMakeFiles/fl-libraries.dir/flashlight/lib/text/decoder/lm/ZeroLM.cpp.o\u001b[0m\n",
            "[ 55%] \u001b[32mBuilding CXX object CMakeFiles/fl-libraries.dir/flashlight/lib/text/decoder/lm/KenLM.cpp.o\u001b[0m\n",
            "[ 57%] \u001b[32mBuilding CXX object CMakeFiles/fl-libraries.dir/flashlight/lib/text/decoder/LexiconDecoder.cpp.o\u001b[0m\n",
            "[ 59%] \u001b[32mBuilding CXX object CMakeFiles/fl-libraries.dir/flashlight/lib/text/decoder/LexiconFreeDecoder.cpp.o\u001b[0m\n",
            "[ 61%] \u001b[32mBuilding CXX object CMakeFiles/fl-libraries.dir/flashlight/lib/text/decoder/LexiconSeq2SeqDecoder.cpp.o\u001b[0m\n",
            "[ 62%] \u001b[32mBuilding CXX object CMakeFiles/fl-libraries.dir/flashlight/lib/text/decoder/LexiconFreeSeq2SeqDecoder.cpp.o\u001b[0m\n",
            "[ 64%] \u001b[32mBuilding CXX object CMakeFiles/fl-libraries.dir/flashlight/lib/text/decoder/Trie.cpp.o\u001b[0m\n",
            "[ 66%] \u001b[32mBuilding CXX object CMakeFiles/fl-libraries.dir/flashlight/lib/text/decoder/Utils.cpp.o\u001b[0m\n",
            "[ 68%] \u001b[32mBuilding CXX object CMakeFiles/fl-libraries.dir/flashlight/lib/text/dictionary/Dictionary.cpp.o\u001b[0m\n",
            "[ 70%] \u001b[32mBuilding CXX object CMakeFiles/fl-libraries.dir/flashlight/lib/text/dictionary/Utils.cpp.o\u001b[0m\n",
            "[ 72%] \u001b[32mBuilding CXX object CMakeFiles/fl-libraries.dir/flashlight/lib/text/tokenizer/PartialFileReader.cpp.o\u001b[0m\n",
            "[ 74%] \u001b[32mBuilding CXX object CMakeFiles/fl-libraries.dir/flashlight/lib/text/tokenizer/Tokenizer.cpp.o\u001b[0m\n",
            "[ 75%] \u001b[32mBuilding CUDA object CMakeFiles/fl-libraries.dir/flashlight/lib/sequence/criterion/cuda/CriterionUtils.cu.o\u001b[0m\n",
            "[ 77%] \u001b[32mBuilding CUDA object CMakeFiles/fl-libraries.dir/flashlight/lib/sequence/criterion/cuda/ForceAlignmentCriterion.cu.o\u001b[0m\n",
            "[ 79%] \u001b[32mBuilding CUDA object CMakeFiles/fl-libraries.dir/flashlight/lib/sequence/criterion/cuda/FullConnectionCriterion.cu.o\u001b[0m\n",
            "[ 81%] \u001b[32mBuilding CUDA object CMakeFiles/fl-libraries.dir/flashlight/lib/sequence/criterion/cuda/ViterbiPath.cu.o\u001b[0m\n",
            "[ 83%] \u001b[32m\u001b[1mLinking CUDA device code CMakeFiles/fl-libraries.dir/cmake_device_link.o\u001b[0m\n",
            "[ 85%] \u001b[32m\u001b[1mLinking CXX shared library ../lib.linux-x86_64-3.7/libfl-libraries.so\u001b[0m\n",
            "[ 85%] Built target fl-libraries\n",
            "\u001b[35m\u001b[1mScanning dependencies of target flashlight_lib_audio_feature\u001b[0m\n",
            "\u001b[35m\u001b[1mScanning dependencies of target flashlight_lib_text_dictionary\u001b[0m\n",
            "\u001b[35m\u001b[1mScanning dependencies of target flashlight_lib_sequence_criterion\u001b[0m\n",
            "\u001b[35m\u001b[1mScanning dependencies of target flashlight_lib_text_decoder\u001b[0m\n",
            "[ 87%] \u001b[32mBuilding CXX object CMakeFiles/flashlight_lib_audio_feature.dir/bindings/python/flashlight/lib/audio/_feature.cpp.o\u001b[0m\n",
            "[ 88%] \u001b[32mBuilding CXX object CMakeFiles/flashlight_lib_text_dictionary.dir/bindings/python/flashlight/lib/text/_dictionary.cpp.o\u001b[0m\n",
            "[ 90%] \u001b[32mBuilding CXX object CMakeFiles/flashlight_lib_text_decoder.dir/bindings/python/flashlight/lib/text/_decoder.cpp.o\u001b[0m\n",
            "[ 92%] \u001b[32mBuilding CXX object CMakeFiles/flashlight_lib_sequence_criterion.dir/bindings/python/flashlight/lib/sequence/_criterion.cpp.o\u001b[0m\n",
            "[ 94%] \u001b[32m\u001b[1mLinking CXX shared module ../lib.linux-x86_64-3.7/flashlight/lib/text/flashlight_lib_text_dictionary.cpython-37m-x86_64-linux-gnu.so\u001b[0m\n",
            "[ 96%] \u001b[32m\u001b[1mLinking CXX shared module ../lib.linux-x86_64-3.7/flashlight/lib/sequence/flashlight_lib_sequence_criterion.cpython-37m-x86_64-linux-gnu.so\u001b[0m\n",
            "[ 98%] \u001b[32m\u001b[1mLinking CXX shared module ../lib.linux-x86_64-3.7/flashlight/lib/audio/flashlight_lib_audio_feature.cpython-37m-x86_64-linux-gnu.so\u001b[0m\n",
            "[ 98%] Built target flashlight_lib_text_dictionary\n",
            "[100%] \u001b[32m\u001b[1mLinking CXX shared module ../lib.linux-x86_64-3.7/flashlight/lib/text/flashlight_lib_text_decoder.cpython-37m-x86_64-linux-gnu.so\u001b[0m\n",
            "[100%] Built target flashlight_lib_sequence_criterion\n",
            "[100%] Built target flashlight_lib_audio_feature\n",
            "[100%] Built target flashlight_lib_text_decoder\n",
            "-- -rdynamic supported.\n",
            "-- CUDA found (library: /usr/local/cuda/lib64/libcudart_static.a;-lpthread;dl;/usr/lib/x86_64-linux-gnu/librt.so include: /usr/local/cuda/include)\n",
            "-- CUDA architecture flags: -gencodearch=compute_35,code=sm_35-gencodearch=compute_50,code=sm_50-gencodearch=compute_52,code=sm_52-gencodearch=compute_60,code=sm_60-gencodearch=compute_61,code=sm_61-gencodearch=compute_70,code=sm_70-gencodearch=compute_75,code=sm_75-gencodearch=compute_80,code=sm_80\n",
            "-- Will build flashlight libraries.\n",
            "-- Checking for module 'cblas'\n",
            "--   No package 'cblas' found\n",
            "-- Checking for [Accelerate]\n",
            "-- Checking for [vecLib]\n",
            "-- Checking for [cblas - atlas]\n",
            "-- Includes found\n",
            "-- CBLAS Symbols FOUND\n",
            "-- CBLAS library found\n",
            "-- CBLAS found (include: /usr/local/include, library: /usr/local/lib/libcblas.so;/usr/lib/x86_64-linux-gnu/libatlas.so)\n",
            "-- Could NOT find FFTW3 (missing: FFTW3_DIR)\n",
            "-- FindFFTW using pkgconfig: FOUND=1 LIBRARIES=fftw3 LIBRARY_DIRS= LIBDIR=/usr/lib/x86_64-linux-gnu LINK_LIBRARIES=/usr/lib/x86_64-linux-gnu/libfftw3.so\n",
            "-- FindFTTW using pkgconfig: INCLUDE_DIRS= INCLUDEDIR=/usr/include\n",
            "-- FFTW found\n",
            "-- Looking for KenLM\n",
            "-- Using kenlm library found in /content/kenlm/build/lib/libkenlm.a\n",
            "-- Using kenlm utils library found in /content/kenlm/build/lib/libkenlm_util.a\n",
            "-- kenlm model.hh found in /content/kenlm/lm\n",
            "-- Found kenlm (include: /content, library: /content/kenlm/build/lib/libkenlm.a;/content/kenlm/build/lib/libkenlm_util.a;/usr/local/lib/liblzma.so;/usr/local/lib/libbz2.so;/usr/local/lib/libz.so)\n",
            "-- Configuring done\n",
            "CMake Warning at flashlight/lib/CMakeLists.txt:5 (add_library):\n",
            "  Cannot generate a safe runtime search path for target fl-libraries because\n",
            "  files in some directories may conflict with libraries in implicit\n",
            "  directories:\n",
            "\n",
            "    runtime library [libgomp.so.1] in /usr/lib/gcc/x86_64-linux-gnu/7 may be hidden by files in:\n",
            "      /usr/local/lib\n",
            "\n",
            "  Some of these libraries may not be found correctly.\n",
            "Call Stack (most recent call first):\n",
            "  CMakeLists.txt:133 (include)\n",
            "\n",
            "\n",
            "-- Generating done\n",
            "-- Build files have been written to: /content/flashlight/bindings/python/build/temp.linux-x86_64-3.7\n",
            "[  1%] \u001b[34m\u001b[1mPerforming update step for 'pybind11'\u001b[0m\n",
            "[ 72%] Built target fl-libraries\n",
            "[ 74%] \u001b[34m\u001b[1mNo configure step for 'pybind11'\u001b[0m\n",
            "[ 75%] \u001b[34m\u001b[1mNo build step for 'pybind11'\u001b[0m\n",
            "[ 77%] \u001b[34m\u001b[1mNo install step for 'pybind11'\u001b[0m\n",
            "[ 79%] \u001b[34m\u001b[1mCompleted 'pybind11'\u001b[0m\n",
            "[ 85%] Built target pybind11\n",
            "[ 88%] Built target flashlight_lib_sequence_criterion\n",
            "[ 96%] Built target flashlight_lib_text_dictionary\n",
            "[ 96%] Built target flashlight_lib_text_decoder\n",
            "[100%] Built target flashlight_lib_audio_feature\n",
            "-- -rdynamic supported.\n",
            "-- CUDA found (library: /usr/local/cuda/lib64/libcudart_static.a;-lpthread;dl;/usr/lib/x86_64-linux-gnu/librt.so include: /usr/local/cuda/include)\n",
            "-- CUDA architecture flags: -gencodearch=compute_35,code=sm_35-gencodearch=compute_50,code=sm_50-gencodearch=compute_52,code=sm_52-gencodearch=compute_60,code=sm_60-gencodearch=compute_61,code=sm_61-gencodearch=compute_70,code=sm_70-gencodearch=compute_75,code=sm_75-gencodearch=compute_80,code=sm_80\n",
            "-- Will build flashlight libraries.\n",
            "-- Checking for module 'cblas'\n",
            "--   No package 'cblas' found\n",
            "-- Checking for [Accelerate]\n",
            "-- Checking for [vecLib]\n",
            "-- Checking for [cblas - atlas]\n",
            "-- Includes found\n",
            "-- CBLAS Symbols FOUND\n",
            "-- CBLAS library found\n",
            "-- CBLAS found (include: /usr/local/include, library: /usr/local/lib/libcblas.so;/usr/lib/x86_64-linux-gnu/libatlas.so)\n",
            "-- Could NOT find FFTW3 (missing: FFTW3_DIR)\n",
            "-- FindFFTW using pkgconfig: FOUND=1 LIBRARIES=fftw3 LIBRARY_DIRS= LIBDIR=/usr/lib/x86_64-linux-gnu LINK_LIBRARIES=/usr/lib/x86_64-linux-gnu/libfftw3.so\n",
            "-- FindFTTW using pkgconfig: INCLUDE_DIRS= INCLUDEDIR=/usr/include\n",
            "-- FFTW found\n",
            "-- Looking for KenLM\n",
            "-- Using kenlm library found in /content/kenlm/build/lib/libkenlm.a\n",
            "-- Using kenlm utils library found in /content/kenlm/build/lib/libkenlm_util.a\n",
            "-- kenlm model.hh found in /content/kenlm/lm\n",
            "-- Found kenlm (include: /content, library: /content/kenlm/build/lib/libkenlm.a;/content/kenlm/build/lib/libkenlm_util.a;/usr/local/lib/liblzma.so;/usr/local/lib/libbz2.so;/usr/local/lib/libz.so)\n",
            "-- Configuring done\n",
            "CMake Warning at flashlight/lib/CMakeLists.txt:5 (add_library):\n",
            "  Cannot generate a safe runtime search path for target fl-libraries because\n",
            "  files in some directories may conflict with libraries in implicit\n",
            "  directories:\n",
            "\n",
            "    runtime library [libgomp.so.1] in /usr/lib/gcc/x86_64-linux-gnu/7 may be hidden by files in:\n",
            "      /usr/local/lib\n",
            "\n",
            "  Some of these libraries may not be found correctly.\n",
            "Call Stack (most recent call first):\n",
            "  CMakeLists.txt:133 (include)\n",
            "\n",
            "\n",
            "-- Generating done\n",
            "-- Build files have been written to: /content/flashlight/bindings/python/build/temp.linux-x86_64-3.7\n",
            "[  1%] \u001b[34m\u001b[1mPerforming update step for 'pybind11'\u001b[0m\n",
            "[ 72%] Built target fl-libraries\n",
            "[ 74%] \u001b[34m\u001b[1mNo configure step for 'pybind11'\u001b[0m\n",
            "[ 75%] \u001b[34m\u001b[1mNo build step for 'pybind11'\u001b[0m\n",
            "[ 77%] \u001b[34m\u001b[1mNo install step for 'pybind11'\u001b[0m\n",
            "[ 79%] \u001b[34m\u001b[1mCompleted 'pybind11'\u001b[0m\n",
            "[ 85%] Built target pybind11\n",
            "[ 88%] Built target flashlight_lib_text_dictionary\n",
            "[ 92%] Built target flashlight_lib_audio_feature\n",
            "[ 96%] Built target flashlight_lib_text_decoder\n",
            "[100%] Built target flashlight_lib_sequence_criterion\n",
            "-- -rdynamic supported.\n",
            "-- CUDA found (library: /usr/local/cuda/lib64/libcudart_static.a;-lpthread;dl;/usr/lib/x86_64-linux-gnu/librt.so include: /usr/local/cuda/include)\n",
            "-- CUDA architecture flags: -gencodearch=compute_35,code=sm_35-gencodearch=compute_50,code=sm_50-gencodearch=compute_52,code=sm_52-gencodearch=compute_60,code=sm_60-gencodearch=compute_61,code=sm_61-gencodearch=compute_70,code=sm_70-gencodearch=compute_75,code=sm_75-gencodearch=compute_80,code=sm_80\n",
            "-- Will build flashlight libraries.\n",
            "-- Checking for module 'cblas'\n",
            "--   No package 'cblas' found\n",
            "-- Checking for [Accelerate]\n",
            "-- Checking for [vecLib]\n",
            "-- Checking for [cblas - atlas]\n",
            "-- Includes found\n",
            "-- CBLAS Symbols FOUND\n",
            "-- CBLAS library found\n",
            "-- CBLAS found (include: /usr/local/include, library: /usr/local/lib/libcblas.so;/usr/lib/x86_64-linux-gnu/libatlas.so)\n",
            "-- Could NOT find FFTW3 (missing: FFTW3_DIR)\n",
            "-- FindFFTW using pkgconfig: FOUND=1 LIBRARIES=fftw3 LIBRARY_DIRS= LIBDIR=/usr/lib/x86_64-linux-gnu LINK_LIBRARIES=/usr/lib/x86_64-linux-gnu/libfftw3.so\n",
            "-- FindFTTW using pkgconfig: INCLUDE_DIRS= INCLUDEDIR=/usr/include\n",
            "-- FFTW found\n",
            "-- Looking for KenLM\n",
            "-- Using kenlm library found in /content/kenlm/build/lib/libkenlm.a\n",
            "-- Using kenlm utils library found in /content/kenlm/build/lib/libkenlm_util.a\n",
            "-- kenlm model.hh found in /content/kenlm/lm\n",
            "-- Found kenlm (include: /content, library: /content/kenlm/build/lib/libkenlm.a;/content/kenlm/build/lib/libkenlm_util.a;/usr/local/lib/liblzma.so;/usr/local/lib/libbz2.so;/usr/local/lib/libz.so)\n",
            "-- Configuring done\n",
            "CMake Warning at flashlight/lib/CMakeLists.txt:5 (add_library):\n",
            "  Cannot generate a safe runtime search path for target fl-libraries because\n",
            "  files in some directories may conflict with libraries in implicit\n",
            "  directories:\n",
            "\n",
            "    runtime library [libgomp.so.1] in /usr/lib/gcc/x86_64-linux-gnu/7 may be hidden by files in:\n",
            "      /usr/local/lib\n",
            "\n",
            "  Some of these libraries may not be found correctly.\n",
            "Call Stack (most recent call first):\n",
            "  CMakeLists.txt:133 (include)\n",
            "\n",
            "\n",
            "-- Generating done\n",
            "-- Build files have been written to: /content/flashlight/bindings/python/build/temp.linux-x86_64-3.7\n",
            "[  1%] \u001b[34m\u001b[1mPerforming update step for 'pybind11'\u001b[0m\n",
            "[ 72%] Built target fl-libraries\n",
            "[ 74%] \u001b[34m\u001b[1mNo configure step for 'pybind11'\u001b[0m\n",
            "[ 75%] \u001b[34m\u001b[1mNo build step for 'pybind11'\u001b[0m\n",
            "[ 77%] \u001b[34m\u001b[1mNo install step for 'pybind11'\u001b[0m\n",
            "[ 79%] \u001b[34m\u001b[1mCompleted 'pybind11'\u001b[0m\n",
            "[ 85%] Built target pybind11\n",
            "[ 88%] Built target flashlight_lib_text_decoder\n",
            "[ 92%] Built target flashlight_lib_sequence_criterion\n",
            "[ 96%] Built target flashlight_lib_text_dictionary\n",
            "[100%] Built target flashlight_lib_audio_feature\n",
            "creating build/bdist.linux-x86_64\n",
            "creating build/bdist.linux-x86_64/egg\n",
            "copying build/lib.linux-x86_64-3.7/libfl-libraries.so.0 -> build/bdist.linux-x86_64/egg\n",
            "copying build/lib.linux-x86_64-3.7/libfl-libraries.so.0.3 -> build/bdist.linux-x86_64/egg\n",
            "creating build/bdist.linux-x86_64/egg/flashlight\n",
            "creating build/bdist.linux-x86_64/egg/flashlight/lib\n",
            "creating build/bdist.linux-x86_64/egg/flashlight/lib/audio\n",
            "copying build/lib.linux-x86_64-3.7/flashlight/lib/audio/feature.py -> build/bdist.linux-x86_64/egg/flashlight/lib/audio\n",
            "copying build/lib.linux-x86_64-3.7/flashlight/lib/audio/flashlight_lib_audio_feature.cpython-37m-x86_64-linux-gnu.so -> build/bdist.linux-x86_64/egg/flashlight/lib/audio\n",
            "copying build/lib.linux-x86_64-3.7/flashlight/lib/__init__.py -> build/bdist.linux-x86_64/egg/flashlight/lib\n",
            "creating build/bdist.linux-x86_64/egg/flashlight/lib/sequence\n",
            "copying build/lib.linux-x86_64-3.7/flashlight/lib/sequence/flashlight_lib_sequence_criterion.cpython-37m-x86_64-linux-gnu.so -> build/bdist.linux-x86_64/egg/flashlight/lib/sequence\n",
            "copying build/lib.linux-x86_64-3.7/flashlight/lib/sequence/criterion.py -> build/bdist.linux-x86_64/egg/flashlight/lib/sequence\n",
            "copying build/lib.linux-x86_64-3.7/flashlight/lib/sequence/criterion_torch.py -> build/bdist.linux-x86_64/egg/flashlight/lib/sequence\n",
            "creating build/bdist.linux-x86_64/egg/flashlight/lib/text\n",
            "copying build/lib.linux-x86_64-3.7/flashlight/lib/text/dictionary.py -> build/bdist.linux-x86_64/egg/flashlight/lib/text\n",
            "copying build/lib.linux-x86_64-3.7/flashlight/lib/text/flashlight_lib_text_decoder.cpython-37m-x86_64-linux-gnu.so -> build/bdist.linux-x86_64/egg/flashlight/lib/text\n",
            "copying build/lib.linux-x86_64-3.7/flashlight/lib/text/flashlight_lib_text_dictionary.cpython-37m-x86_64-linux-gnu.so -> build/bdist.linux-x86_64/egg/flashlight/lib/text\n",
            "copying build/lib.linux-x86_64-3.7/flashlight/lib/text/decoder.py -> build/bdist.linux-x86_64/egg/flashlight/lib/text\n",
            "copying build/lib.linux-x86_64-3.7/libfl-libraries.so -> build/bdist.linux-x86_64/egg\n",
            "byte-compiling build/bdist.linux-x86_64/egg/flashlight/lib/audio/feature.py to feature.cpython-37.pyc\n",
            "byte-compiling build/bdist.linux-x86_64/egg/flashlight/lib/__init__.py to __init__.cpython-37.pyc\n",
            "byte-compiling build/bdist.linux-x86_64/egg/flashlight/lib/sequence/criterion.py to criterion.cpython-37.pyc\n",
            "byte-compiling build/bdist.linux-x86_64/egg/flashlight/lib/sequence/criterion_torch.py to criterion_torch.cpython-37.pyc\n",
            "byte-compiling build/bdist.linux-x86_64/egg/flashlight/lib/text/dictionary.py to dictionary.cpython-37.pyc\n",
            "byte-compiling build/bdist.linux-x86_64/egg/flashlight/lib/text/decoder.py to decoder.cpython-37.pyc\n",
            "creating build/bdist.linux-x86_64/egg/EGG-INFO\n",
            "copying flashlight.egg-info/PKG-INFO -> build/bdist.linux-x86_64/egg/EGG-INFO\n",
            "copying flashlight.egg-info/SOURCES.txt -> build/bdist.linux-x86_64/egg/EGG-INFO\n",
            "copying flashlight.egg-info/dependency_links.txt -> build/bdist.linux-x86_64/egg/EGG-INFO\n",
            "copying flashlight.egg-info/not-zip-safe -> build/bdist.linux-x86_64/egg/EGG-INFO\n",
            "copying flashlight.egg-info/top_level.txt -> build/bdist.linux-x86_64/egg/EGG-INFO\n",
            "writing build/bdist.linux-x86_64/egg/EGG-INFO/native_libs.txt\n",
            "creating dist\n",
            "creating 'dist/flashlight-1.0.0-py3.7-linux-x86_64.egg' and adding 'build/bdist.linux-x86_64/egg' to it\n",
            "removing 'build/bdist.linux-x86_64/egg' (and everything under it)\n",
            "Processing flashlight-1.0.0-py3.7-linux-x86_64.egg\n",
            "creating /usr/local/lib/python3.7/site-packages/flashlight-1.0.0-py3.7-linux-x86_64.egg\n",
            "Extracting flashlight-1.0.0-py3.7-linux-x86_64.egg to /usr/local/lib/python3.7/site-packages\n",
            "Adding flashlight 1.0.0 to easy-install.pth file\n",
            "\n",
            "Installed /usr/local/lib/python3.7/site-packages/flashlight-1.0.0-py3.7-linux-x86_64.egg\n",
            "Processing dependencies for flashlight==1.0.0\n",
            "Finished processing dependencies for flashlight==1.0.0\n"
          ],
          "name": "stdout"
        }
      ]
    },
    {
      "cell_type": "code",
      "metadata": {
        "colab": {
          "base_uri": "https://localhost:8080/"
        },
        "id": "Z1wuh8tNq5XW",
        "outputId": "63de05ad-7dc7-4416-f2bf-b3f6ceb39034"
      },
      "source": [
        "!cat /content/flashlight/bindings/python/build/temp.linux-x86_64-3.7/CMakeFiles/CMakeError.log"
      ],
      "execution_count": 59,
      "outputs": [
        {
          "output_type": "stream",
          "text": [
            "Determining if the pthread_create exist failed with the following output:\n",
            "Change Dir: /content/flashlight/bindings/python/build/temp.linux-x86_64-3.7/CMakeFiles/CMakeTmp\n",
            "\n",
            "Run Build Command:\"/usr/bin/make\" \"cmTC_64926/fast\"\n",
            "/usr/bin/make -f CMakeFiles/cmTC_64926.dir/build.make CMakeFiles/cmTC_64926.dir/build\n",
            "make[1]: Entering directory '/content/flashlight/bindings/python/build/temp.linux-x86_64-3.7/CMakeFiles/CMakeTmp'\n",
            "Building C object CMakeFiles/cmTC_64926.dir/CheckSymbolExists.c.o\n",
            "/usr/bin/cc   -fPIC    -o CMakeFiles/cmTC_64926.dir/CheckSymbolExists.c.o   -c /content/flashlight/bindings/python/build/temp.linux-x86_64-3.7/CMakeFiles/CMakeTmp/CheckSymbolExists.c\n",
            "Linking C executable cmTC_64926\n",
            "/usr/local/lib/python2.7/dist-packages/cmake/data/bin/cmake -E cmake_link_script CMakeFiles/cmTC_64926.dir/link.txt --verbose=1\n",
            "/usr/bin/cc -fPIC    -rdynamic  CMakeFiles/cmTC_64926.dir/CheckSymbolExists.c.o  -o cmTC_64926 \n",
            "CMakeFiles/cmTC_64926.dir/CheckSymbolExists.c.o: In function `main':\n",
            "CheckSymbolExists.c:(.text+0x1b): undefined reference to `pthread_create'\n",
            "collect2: error: ld returned 1 exit status\n",
            "CMakeFiles/cmTC_64926.dir/build.make:86: recipe for target 'cmTC_64926' failed\n",
            "make[1]: *** [cmTC_64926] Error 1\n",
            "make[1]: Leaving directory '/content/flashlight/bindings/python/build/temp.linux-x86_64-3.7/CMakeFiles/CMakeTmp'\n",
            "Makefile:121: recipe for target 'cmTC_64926/fast' failed\n",
            "make: *** [cmTC_64926/fast] Error 2\n",
            "\n",
            "File /content/flashlight/bindings/python/build/temp.linux-x86_64-3.7/CMakeFiles/CMakeTmp/CheckSymbolExists.c:\n",
            "/* */\n",
            "#include <pthread.h>\n",
            "\n",
            "int main(int argc, char** argv)\n",
            "{\n",
            "  (void)argv;\n",
            "#ifndef pthread_create\n",
            "  return ((int*)(&pthread_create))[argc];\n",
            "#else\n",
            "  (void)argc;\n",
            "  return 0;\n",
            "#endif\n",
            "}\n",
            "\n",
            "Determining if the function pthread_create exists in the pthreads failed with the following output:\n",
            "Change Dir: /content/flashlight/bindings/python/build/temp.linux-x86_64-3.7/CMakeFiles/CMakeTmp\n",
            "\n",
            "Run Build Command:\"/usr/bin/make\" \"cmTC_0db21/fast\"\n",
            "/usr/bin/make -f CMakeFiles/cmTC_0db21.dir/build.make CMakeFiles/cmTC_0db21.dir/build\n",
            "make[1]: Entering directory '/content/flashlight/bindings/python/build/temp.linux-x86_64-3.7/CMakeFiles/CMakeTmp'\n",
            "Building C object CMakeFiles/cmTC_0db21.dir/CheckFunctionExists.c.o\n",
            "/usr/bin/cc   -fPIC -DCHECK_FUNCTION_EXISTS=pthread_create   -o CMakeFiles/cmTC_0db21.dir/CheckFunctionExists.c.o   -c /usr/local/lib/python2.7/dist-packages/cmake/data/share/cmake-3.12/Modules/CheckFunctionExists.c\n",
            "Linking C executable cmTC_0db21\n",
            "/usr/local/lib/python2.7/dist-packages/cmake/data/bin/cmake -E cmake_link_script CMakeFiles/cmTC_0db21.dir/link.txt --verbose=1\n",
            "/usr/bin/cc -fPIC -DCHECK_FUNCTION_EXISTS=pthread_create   -rdynamic  CMakeFiles/cmTC_0db21.dir/CheckFunctionExists.c.o  -o cmTC_0db21 -lpthreads \n",
            "/usr/bin/ld: cannot find -lpthreads\n",
            "collect2: error: ld returned 1 exit status\n",
            "CMakeFiles/cmTC_0db21.dir/build.make:86: recipe for target 'cmTC_0db21' failed\n",
            "make[1]: *** [cmTC_0db21] Error 1\n",
            "make[1]: Leaving directory '/content/flashlight/bindings/python/build/temp.linux-x86_64-3.7/CMakeFiles/CMakeTmp'\n",
            "Makefile:121: recipe for target 'cmTC_0db21/fast' failed\n",
            "make: *** [cmTC_0db21/fast] Error 2\n",
            "\n",
            "\n"
          ],
          "name": "stdout"
        }
      ]
    },
    {
      "cell_type": "markdown",
      "metadata": {
        "id": "g11AbGGWbvoT"
      },
      "source": [
        "## GAN"
      ]
    },
    {
      "cell_type": "code",
      "metadata": {
        "id": "ISP36CLKbvoU",
        "colab": {
          "base_uri": "https://localhost:8080/",
          "height": 35
        },
        "outputId": "4f0e786d-f5bd-42c1-edc6-a54af060d099"
      },
      "source": [
        "import torch\n",
        "torch.version.cuda"
      ],
      "execution_count": 23,
      "outputs": [
        {
          "output_type": "execute_result",
          "data": {
            "application/vnd.google.colaboratory.intrinsic+json": {
              "type": "string"
            },
            "text/plain": [
              "'10.2'"
            ]
          },
          "metadata": {
            "tags": []
          },
          "execution_count": 23
        }
      ]
    },
    {
      "cell_type": "code",
      "metadata": {
        "id": "3yRc89tWbvoV",
        "colab": {
          "base_uri": "https://localhost:8080/"
        },
        "outputId": "67f5fd42-2960-4152-945a-be299d67db17"
      },
      "source": [
        "torch.backends.cudnn.version()"
      ],
      "execution_count": 24,
      "outputs": [
        {
          "output_type": "execute_result",
          "data": {
            "text/plain": [
              "7605"
            ]
          },
          "metadata": {
            "tags": []
          },
          "execution_count": 24
        }
      ]
    },
    {
      "cell_type": "code",
      "metadata": {
        "colab": {
          "base_uri": "https://localhost:8080/"
        },
        "id": "YnBUjXAph1lZ",
        "outputId": "ca7a64cf-9d15-493c-8859-d8f4f1f561f3"
      },
      "source": [
        "%cd /content/fairseq"
      ],
      "execution_count": 25,
      "outputs": [
        {
          "output_type": "stream",
          "text": [
            "/content/fairseq\n"
          ],
          "name": "stdout"
        }
      ]
    },
    {
      "cell_type": "code",
      "metadata": {
        "id": "Vad9lptrSYry",
        "colab": {
          "base_uri": "https://localhost:8080/"
        },
        "outputId": "35b4cd83-9ffc-46d3-9f52-29c181afb8c2"
      },
      "source": [
        "from google.colab import drive\n",
        "drive.mount('/content/drive')"
      ],
      "execution_count": 26,
      "outputs": [
        {
          "output_type": "stream",
          "text": [
            "Mounted at /content/drive\n"
          ],
          "name": "stdout"
        }
      ]
    },
    {
      "cell_type": "code",
      "metadata": {
        "colab": {
          "base_uri": "https://localhost:8080/"
        },
        "id": "fkIz1Zlclco8",
        "outputId": "8c129d83-34ea-450b-c200-aeba3dc0f2f6"
      },
      "source": [
        "%cd /content/fairseq/examples/wav2vec/unsupervised"
      ],
      "execution_count": 72,
      "outputs": [
        {
          "output_type": "stream",
          "text": [
            "/content/fairseq/examples/wav2vec/unsupervised\n"
          ],
          "name": "stdout"
        }
      ]
    },
    {
      "cell_type": "code",
      "metadata": {
        "id": "cMA3E3lVbvoV",
        "colab": {
          "base_uri": "https://localhost:8080/"
        },
        "outputId": "e50e75b5-749e-47a8-9120-1dc069f40187"
      },
      "source": [
        "%%writefile rungan.sh\n",
        "python w2vu_generate.py --config-dir config/generate --config-name viterbi \\\n",
        "fairseq.common.user_dir=/content/fairseq/examples/wav2vec/unsupervised \\\n",
        "fairseq.task.data=/content/precompute_pca512_cls128_mean \\\n",
        "fairseq.common_eval.path=/content/drive/MyDrive/w2vu/checkpoint_best.pt \\\n",
        "fairseq.dataset.gen_subset=valid results_path=/content/drive/MyDrive/w2vures"
      ],
      "execution_count": 47,
      "outputs": [
        {
          "output_type": "stream",
          "text": [
            "Overwriting rungan.sh\n"
          ],
          "name": "stdout"
        }
      ]
    },
    {
      "cell_type": "code",
      "metadata": {
        "colab": {
          "base_uri": "https://localhost:8080/"
        },
        "id": "Hrk6cJk9oUzN",
        "outputId": "4bb4e98c-9cb3-4276-a63e-16ea59e0185c"
      },
      "source": [
        ""
      ],
      "execution_count": 49,
      "outputs": [
        {
          "output_type": "stream",
          "text": [
            "\u001b[31mERROR: Could not find a version that satisfies the requirement pyflashlight\u001b[0m\n",
            "\u001b[31mERROR: No matching distribution found for pyflashlight\u001b[0m\n"
          ],
          "name": "stdout"
        }
      ]
    },
    {
      "cell_type": "code",
      "metadata": {
        "id": "nOAq9uxybvoW",
        "colab": {
          "base_uri": "https://localhost:8080/"
        },
        "outputId": "07ffea93-4bb5-460f-84e1-a36418878f87"
      },
      "source": [
        "!bash rungan.sh"
      ],
      "execution_count": 73,
      "outputs": [
        {
          "output_type": "stream",
          "text": [
            "[2021-06-19 19:24:18,601][__main__][INFO] - {'_name': None, 'fairseq': {'_name': None, 'common': {'_name': None, 'no_progress_bar': False, 'log_interval': 100, 'log_format': None, 'log_file': None, 'tensorboard_logdir': None, 'wandb_project': None, 'azureml_logging': False, 'seed': 1, 'cpu': False, 'tpu': False, 'bf16': False, 'memory_efficient_bf16': False, 'fp16': False, 'memory_efficient_fp16': False, 'fp16_no_flatten_grads': False, 'fp16_init_scale': 128, 'fp16_scale_window': None, 'fp16_scale_tolerance': 0.0, 'on_cpu_convert_precision': False, 'min_loss_scale': 0.0001, 'threshold_loss_scale': None, 'amp': False, 'amp_batch_retries': 2, 'amp_init_scale': 128, 'amp_scale_window': None, 'user_dir': '/content/fairseq/examples/wav2vec/unsupervised', 'empty_cache_freq': 0, 'all_gather_list_size': 16384, 'model_parallel_size': 1, 'quantization_config_path': None, 'profile': False, 'reset_logging': False, 'suppress_crashes': False, 'use_plasma_view': False, 'plasma_path': '/tmp/plasma'}, 'common_eval': {'_name': None, 'path': '/content/drive/MyDrive/w2vu/checkpoint_best.pt', 'post_process': None, 'quiet': True, 'model_overrides': '{}', 'results_path': None}, 'distributed_training': {'_name': None, 'distributed_world_size': 1, 'distributed_num_procs': 1, 'distributed_rank': 0, 'distributed_backend': 'nccl', 'distributed_init_method': None, 'distributed_port': -1, 'device_id': 0, 'distributed_no_spawn': False, 'ddp_backend': pytorch_ddp, 'ddp_comm_hook': none, 'bucket_cap_mb': 25, 'fix_batches_to_gpus': False, 'find_unused_parameters': False, 'fast_stat_sync': False, 'heartbeat_timeout': -1, 'broadcast_buffers': False, 'slowmo_momentum': None, 'slowmo_algorithm': 'LocalSGD', 'localsgd_frequency': 3, 'nprocs_per_node': 1, 'pipeline_model_parallel': False, 'pipeline_balance': None, 'pipeline_devices': None, 'pipeline_chunks': 0, 'pipeline_encoder_balance': None, 'pipeline_encoder_devices': None, 'pipeline_decoder_balance': None, 'pipeline_decoder_devices': None, 'pipeline_checkpoint': never, 'zero_sharding': none, 'fp16': '${common.fp16}', 'memory_efficient_fp16': '${common.memory_efficient_fp16}', 'tpu': '${common.tpu}', 'no_reshard_after_forward': False, 'fp32_reduce_scatter': False, 'cpu_offload': False, 'use_sharded_state': False}, 'dataset': {'_name': None, 'num_workers': 1, 'skip_invalid_size_inputs_valid_test': False, 'max_tokens': None, 'batch_size': 1, 'required_batch_size_multiple': 8, 'required_seq_len_multiple': 1, 'dataset_impl': None, 'data_buffer_size': 10, 'train_subset': 'train', 'valid_subset': 'valid', 'combine_valid_subsets': None, 'ignore_unused_valid_subsets': False, 'validate_interval': 1, 'validate_interval_updates': 0, 'validate_after_updates': 0, 'fixed_validation_seed': None, 'disable_validation': False, 'max_tokens_valid': '${dataset.max_tokens}', 'batch_size_valid': '${dataset.batch_size}', 'max_valid_steps': None, 'curriculum': 0, 'gen_subset': 'valid', 'num_shards': 1, 'shard_id': 0}, 'optimization': {'_name': None, 'max_epoch': 0, 'max_update': 0, 'stop_time_hours': 0.0, 'clip_norm': 0.0, 'sentence_avg': False, 'update_freq': [1], 'lr': [0.25], 'stop_min_lr': -1.0, 'use_bmuf': False}, 'checkpoint': {'_name': None, 'save_dir': 'checkpoints', 'restore_file': 'checkpoint_last.pt', 'finetune_from_model': None, 'reset_dataloader': False, 'reset_lr_scheduler': False, 'reset_meters': False, 'reset_optimizer': False, 'optimizer_overrides': '{}', 'save_interval': 1, 'save_interval_updates': 0, 'keep_interval_updates': -1, 'keep_interval_updates_pattern': -1, 'keep_last_epochs': -1, 'keep_best_checkpoints': -1, 'no_save': False, 'no_epoch_checkpoints': False, 'no_last_checkpoints': False, 'no_save_optimizer_state': False, 'best_checkpoint_metric': 'loss', 'maximize_best_checkpoint_metric': False, 'patience': -1, 'checkpoint_suffix': '', 'checkpoint_shard_count': 1, 'load_checkpoint_on_all_dp_ranks': False, 'write_checkpoints_asynchronously': False, 'model_parallel_size': '${common.model_parallel_size}'}, 'bmuf': {'_name': None, 'block_lr': 1.0, 'block_momentum': 0.875, 'global_sync_iter': 50, 'warmup_iterations': 500, 'use_nbm': False, 'average_sync': False, 'distributed_world_size': '${distributed_training.distributed_world_size}'}, 'generation': {'_name': None, 'beam': 5, 'nbest': 1, 'max_len_a': 0.0, 'max_len_b': 200, 'min_len': 1, 'match_source_len': False, 'unnormalized': False, 'no_early_stop': False, 'no_beamable_mm': False, 'lenpen': 1.0, 'unkpen': 0.0, 'replace_unk': None, 'sacrebleu': False, 'score_reference': False, 'prefix_size': 0, 'no_repeat_ngram_size': 0, 'sampling': False, 'sampling_topk': -1, 'sampling_topp': -1.0, 'constraints': None, 'temperature': 1.0, 'diverse_beam_groups': -1, 'diverse_beam_strength': 0.5, 'diversity_rate': -1.0, 'print_alignment': None, 'print_step': False, 'lm_path': None, 'lm_weight': 0.0, 'iter_decode_eos_penalty': 0.0, 'iter_decode_max_iter': 10, 'iter_decode_force_max_iter': False, 'iter_decode_with_beam': 1, 'iter_decode_with_external_reranker': False, 'retain_iter_history': False, 'retain_dropout': False, 'retain_dropout_modules': None, 'decoding_format': None, 'no_seed_provided': False}, 'eval_lm': {'_name': None, 'output_word_probs': False, 'output_word_stats': False, 'context_window': 0, 'softmax_batch': 9223372036854775807}, 'interactive': {'_name': None, 'buffer_size': 0, 'input': '-'}, 'model': '???', 'task': {'_name': 'unpaired_audio_text', 'labels': 'phn', 'data': '/content/precompute_pca512_cls128_mean', 'sort_by_length': False, 'shuffle': False, 'text_data': ''}, 'criterion': None, 'optimizer': None, 'lr_scheduler': None, 'scoring': None, 'bpe': None, 'tokenizer': None}, 'lm_weight': 2.0, 'w2l_decoder': <DecoderType.VITERBI: 1>, 'kaldi_decoder_config': None, 'lexicon': None, 'lm_model': None, 'unit_lm': False, 'beam_threshold': 50.0, 'beam_size_token': 100.0, 'beam': 5, 'nbest': 1, 'word_score': 1.0, 'unk_weight': -inf, 'sil_weight': 0.0, 'targets': None, 'results_path': '/content/drive/MyDrive/w2vures', 'post_process': 'silence', 'vocab_usage_power': 2.0, 'viterbi_transcript': None, 'min_lm_ppl': 0.0, 'min_vt_uer': 0.0, 'blank_weight': 0.0, 'blank_mode': 'set', 'sil_is_blank': False, 'unsupervised_tuning': False, 'is_ax': False, 'job_logging_cfg': {'version': 1, 'formatters': {'simple': {'format': '[%(asctime)s][%(name)s][%(levelname)s] - %(message)s'}}, 'handlers': {'console': {'class': 'logging.StreamHandler', 'formatter': 'simple', 'stream': 'ext://sys.stdout'}, 'file': {'class': 'logging.FileHandler', 'formatter': 'simple', 'filename': 'w2vu_generate.log'}}, 'root': {'level': 'INFO', 'handlers': ['console', 'file']}, 'disable_existing_loggers': False}}\n",
            "[2021-06-19 19:24:18,629][__main__][INFO] - | loading model(s) from /content/drive/MyDrive/w2vu/checkpoint_best.pt\n",
            "[2021-06-19 19:24:22,829][unsupervised.data.extracted_features_dataset][INFO] - loaded 2019, skipped 0 samples\n",
            "[2021-06-19 19:24:22,829][unsupervised.tasks.unpaired_audio_text][INFO] - split valid has unpaired text? False\n",
            "[2021-06-19 19:24:22,833][__main__][INFO] - | /content/precompute_pca512_cls128_mean valid 2019 examples\n",
            "[2021-06-19 19:24:41,807][__main__][INFO] - WER: 158.79173813943652\n",
            "[2021-06-19 19:24:41,808][__main__][INFO] - | Processed 2019 sentences (80270 tokens) in 18.9s (106.61 sentences/s, 4238.35 tokens/s)\n",
            "[2021-06-19 19:24:41,809][__main__][INFO] - | Generate valid with beam=5, lm_weight=2.0, word_score=1.0, sil_weight=0.0, blank_weight=0.0, WER: 158.79173813943652, LM_PPL: inf, num feats: 130753, length: 80270, UER to viterbi: 0, score: inf\n"
          ],
          "name": "stdout"
        }
      ]
    }
  ]
}