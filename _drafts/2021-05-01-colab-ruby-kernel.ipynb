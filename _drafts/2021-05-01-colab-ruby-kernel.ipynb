{
  "nbformat": 4,
  "nbformat_minor": 0,
  "metadata": {
    "colab": {
      "name": "Untitled4.ipynb",
      "provenance": []
    },
    "kernelspec": {
      "name": "python3",
      "display_name": "Python 3"
    },
    "language_info": {
      "name": "python"
    }
  },
  "cells": [
    {
      "cell_type": "markdown",
      "metadata": {
        "id": "wqLNDzD0g6CJ"
      },
      "source": [
        "# Ruby kernel on Colab\n",
        "\n",
        "> \"Didn't work; no longer installs\"\n",
        "\n",
        "- toc: false\n",
        "- branch: master\n",
        "- hidden: true\n",
        "- categories: [colab, misc]"
      ]
    },
    {
      "cell_type": "code",
      "metadata": {
        "id": "AmTy3s578EqP"
      },
      "source": [
        "!apt-get install ruby-dev\n",
        "!sudo apt install libtool libffi-dev ruby ruby-dev make\n",
        "!sudo apt install libzmq3-dev libczmq-dev\n",
        "!gem install ffi-rzmq\n",
        "!gem install specific_install\n",
        "!gem specific_install https://github.com/SciRuby/iruby\n",
        "!iruby register"
      ],
      "execution_count": null,
      "outputs": []
    },
    {
      "cell_type": "code",
      "metadata": {
        "colab": {
          "base_uri": "https://localhost:8080/"
        },
        "id": "afM1QkAj75Ha",
        "outputId": "5e98dc99-2d1e-4056-e148-ea06750fdf8f"
      },
      "source": [
        "!jupyter kernelspec list\n"
      ],
      "execution_count": null,
      "outputs": [
        {
          "output_type": "stream",
          "text": [
            "Available kernels:\n",
            "  ruby       /root/.local/share/jupyter/kernels/ruby\n",
            "  ir         /usr/local/share/jupyter/kernels/ir\n",
            "  python2    /usr/local/share/jupyter/kernels/python2\n",
            "  python3    /usr/local/share/jupyter/kernels/python3\n"
          ],
          "name": "stdout"
        }
      ]
    }
  ]
}