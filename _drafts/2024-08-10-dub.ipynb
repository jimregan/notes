{
 "cells": [
  {
   "cell_type": "markdown",
   "id": "9ea5d20d",
   "metadata": {
    "jupyter": {
     "source_hidden": false
    }
   },
   "source": [
    "# DUB: Discrete Unit Back-translation for Speech Translation\n",
    "\n",
    "> \"DUB migrates the useful back-translation and pre-training technique from machine translation to speech translation by discretizing the speech signals into unit sequences\"\n",
    "\n",
    "- branch: master\n",
    "- hidden: true\n",
    "- categories: [speech_translation, speech_representations]"
   ]
  },
  {
   "cell_type": "markdown",
   "id": "5385dd1f",
   "metadata": {
    "jupyter": {
     "source_hidden": false
    }
   },
   "source": [
    "```bibtex\n",
    "@inproceedings{zhang2023dub,\n",
    "\ttitle = {DUB: Discrete Unit Back-translation for Speech Translation},\n",
    "\tauthor = {Dong Zhang and Rong Ye and Tom Ko and Mingxuan Wang and Yaqian Zhou},\n",
    "\tbooktitle = {Findings of ACL},\n",
    "\tyear = {2023},\n",
    "}\n",
    "```\n",
    "\n",
    "[code](https://github.com/0nutation/DUB) (MIT)\n",
    "\n",
    "Models on [huggingface](https://huggingface.co/nutation/DUB)"
   ]
  }
 ],
 "metadata": {
  "kernelspec": {
   "display_name": "Python 3 (ipykernel)",
   "language": "python",
   "name": "python3"
  },
  "language_info": {
   "codemirror_mode": {
    "name": "ipython",
    "version": 3
   },
   "file_extension": ".py",
   "mimetype": "text/x-python",
   "name": "python",
   "nbconvert_exporter": "python",
   "pygments_lexer": "ipython3",
   "version": "3.11.9"
  },
  "widgets": {
   "application/vnd.jupyter.widget-state+json": {
    "state": {},
    "version_major": 2,
    "version_minor": 0
   }
  }
 },
 "nbformat": 4,
 "nbformat_minor": 5
}
