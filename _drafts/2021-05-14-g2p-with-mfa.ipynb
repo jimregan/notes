{
 "cells": [
  {
   "cell_type": "code",
   "execution_count": 1,
   "id": "daily-stock",
   "metadata": {
    "_cell_guid": "b1076dfc-b9ad-4769-8c92-a6c4dae69d19",
    "_uuid": "8f2839f25d086af736a60e9eeb907d3b93b6e0e5",
    "execution": {
     "iopub.execute_input": "2021-05-14T21:38:39.033669Z",
     "iopub.status.busy": "2021-05-14T21:38:39.020489Z",
     "iopub.status.idle": "2021-05-14T21:38:49.706459Z",
     "shell.execute_reply": "2021-05-14T21:38:49.705757Z"
    },
    "papermill": {
     "duration": 10.711369,
     "end_time": "2021-05-14T21:38:49.706638",
     "exception": false,
     "start_time": "2021-05-14T21:38:38.995269",
     "status": "completed"
    },
    "tags": []
   },
   "outputs": [],
   "source": [
    "%%capture\n",
    "import os\n",
    "os.chdir('/tmp')\n",
    "!wget https://github.com/MontrealCorpusTools/Montreal-Forced-Aligner/releases/download/v1.0.1/montreal-forced-aligner_linux.tar.gz\n",
    "!tar zxvf montreal-forced-aligner_linux.tar.gz\n",
    "!ln -s /tmp/montreal-forced-aligner/lib/libpython3.6m.so.1.0 /tmp/montreal-forced-aligner/lib/libpython3.6m.so\n"
   ]
  },
  {
   "cell_type": "code",
   "execution_count": 2,
   "id": "radio-seminar",
   "metadata": {
    "execution": {
     "iopub.execute_input": "2021-05-14T21:38:49.733039Z",
     "iopub.status.busy": "2021-05-14T21:38:49.732066Z",
     "iopub.status.idle": "2021-05-14T21:38:49.735054Z",
     "shell.execute_reply": "2021-05-14T21:38:49.734544Z"
    },
    "papermill": {
     "duration": 0.018162,
     "end_time": "2021-05-14T21:38:49.735194",
     "exception": false,
     "start_time": "2021-05-14T21:38:49.717032",
     "status": "completed"
    },
    "tags": []
   },
   "outputs": [],
   "source": [
    "os.chdir('/kaggle/working')\n",
    "os.environ['LD_LIBRARY_PATH'] = f'{os.environ[\"LD_LIBRARY_PATH\"]}:/tmp/montreal-forced-aligner/lib/'\n",
    "os.environ['PATH'] = f'{os.environ[\"PATH\"]}:/tmp/montreal-forced-aligner/bin/'"
   ]
  },
  {
   "cell_type": "code",
   "execution_count": 3,
   "id": "supposed-matrix",
   "metadata": {
    "execution": {
     "iopub.execute_input": "2021-05-14T21:38:49.759050Z",
     "iopub.status.busy": "2021-05-14T21:38:49.758372Z",
     "iopub.status.idle": "2021-05-14T21:38:56.072613Z",
     "shell.execute_reply": "2021-05-14T21:38:56.071912Z"
    },
    "papermill": {
     "duration": 6.327498,
     "end_time": "2021-05-14T21:38:56.072753",
     "exception": false,
     "start_time": "2021-05-14T21:38:49.745255",
     "status": "completed"
    },
    "tags": []
   },
   "outputs": [],
   "source": [
    "%%capture\n",
    "!apt-get -y install libgfortran3"
   ]
  },
  {
   "cell_type": "code",
   "execution_count": 4,
   "id": "standard-occasions",
   "metadata": {
    "execution": {
     "iopub.execute_input": "2021-05-14T21:38:56.102281Z",
     "iopub.status.busy": "2021-05-14T21:38:56.098014Z",
     "iopub.status.idle": "2021-05-14T21:38:56.813018Z",
     "shell.execute_reply": "2021-05-14T21:38:56.812371Z"
    },
    "papermill": {
     "duration": 0.730164,
     "end_time": "2021-05-14T21:38:56.813153",
     "exception": false,
     "start_time": "2021-05-14T21:38:56.082989",
     "status": "completed"
    },
    "tags": []
   },
   "outputs": [],
   "source": [
    "!mkdir /tmp/example"
   ]
  },
  {
   "cell_type": "markdown",
   "id": "beautiful-context",
   "metadata": {
    "papermill": {
     "duration": 0.00979,
     "end_time": "2021-05-14T21:38:56.833229",
     "exception": false,
     "start_time": "2021-05-14T21:38:56.823439",
     "status": "completed"
    },
    "tags": []
   },
   "source": [
    "The example below is from section 488 (p. 239) of [_Gaeilge Chorca Dhuibhne_](https://shop.dias.ie/product/gaeilge-chorca-dhuibhne/) by Diarmuid Ó Sé.\n",
    "\n",
    "The provided transcription is:\n",
    "əs kiːn′ l′əm nə ˈheːn′ɪ v′eh ə bɪn′t′ vuːn er′"
   ]
  },
  {
   "cell_type": "code",
   "execution_count": 5,
   "id": "square-orleans",
   "metadata": {
    "execution": {
     "iopub.execute_input": "2021-05-14T21:38:56.860212Z",
     "iopub.status.busy": "2021-05-14T21:38:56.859187Z",
     "iopub.status.idle": "2021-05-14T21:38:56.863539Z",
     "shell.execute_reply": "2021-05-14T21:38:56.864002Z"
    },
    "papermill": {
     "duration": 0.020865,
     "end_time": "2021-05-14T21:38:56.864167",
     "exception": false,
     "start_time": "2021-05-14T21:38:56.843302",
     "status": "completed"
    },
    "tags": []
   },
   "outputs": [
    {
     "name": "stdout",
     "output_type": "stream",
     "text": [
      "Writing /tmp/example/test1.lab\n"
     ]
    }
   ],
   "source": [
    "%%writefile /tmp/example/test1.lab\n",
    "is cuimhin liom na haoinne a bheith ag baint mhóna air"
   ]
  },
  {
   "cell_type": "markdown",
   "id": "processed-theme",
   "metadata": {
    "papermill": {
     "duration": 0.010432,
     "end_time": "2021-05-14T21:38:56.885434",
     "exception": false,
     "start_time": "2021-05-14T21:38:56.875002",
     "status": "completed"
    },
    "tags": []
   },
   "source": [
    "Ibid, Section 488, p. 238\n",
    "\n",
    "xuːərˈdiːs ˈgax ɑːt′"
   ]
  },
  {
   "cell_type": "code",
   "execution_count": 6,
   "id": "worst-basket",
   "metadata": {
    "execution": {
     "iopub.execute_input": "2021-05-14T21:38:56.912675Z",
     "iopub.status.busy": "2021-05-14T21:38:56.911674Z",
     "iopub.status.idle": "2021-05-14T21:38:56.918232Z",
     "shell.execute_reply": "2021-05-14T21:38:56.916914Z"
    },
    "papermill": {
     "duration": 0.02242,
     "end_time": "2021-05-14T21:38:56.918433",
     "exception": false,
     "start_time": "2021-05-14T21:38:56.896013",
     "status": "completed"
    },
    "tags": []
   },
   "outputs": [
    {
     "name": "stdout",
     "output_type": "stream",
     "text": [
      "Writing /tmp/example/test2.lab\n"
     ]
    }
   ],
   "source": [
    "%%writefile /tmp/example/test2.lab\n",
    "chuardaíos gach áit"
   ]
  },
  {
   "cell_type": "markdown",
   "id": "exterior-philadelphia",
   "metadata": {
    "papermill": {
     "duration": 0.010921,
     "end_time": "2021-05-14T21:38:56.941119",
     "exception": false,
     "start_time": "2021-05-14T21:38:56.930198",
     "status": "completed"
    },
    "tags": []
   },
   "source": [
    "MFA insists on having `.wav` files, which it reads, even though it makes no use of them for G2P"
   ]
  },
  {
   "cell_type": "code",
   "execution_count": 7,
   "id": "indian-cabinet",
   "metadata": {
    "execution": {
     "iopub.execute_input": "2021-05-14T21:38:56.973770Z",
     "iopub.status.busy": "2021-05-14T21:38:56.973101Z",
     "iopub.status.idle": "2021-05-14T21:39:02.662408Z",
     "shell.execute_reply": "2021-05-14T21:39:02.661778Z"
    },
    "papermill": {
     "duration": 5.710333,
     "end_time": "2021-05-14T21:39:02.662547",
     "exception": false,
     "start_time": "2021-05-14T21:38:56.952214",
     "status": "completed"
    },
    "tags": []
   },
   "outputs": [],
   "source": [
    "%%capture\n",
    "!apt-get -y install sox"
   ]
  },
  {
   "cell_type": "code",
   "execution_count": 8,
   "id": "compliant-thesis",
   "metadata": {
    "execution": {
     "iopub.execute_input": "2021-05-14T21:39:02.689361Z",
     "iopub.status.busy": "2021-05-14T21:39:02.688386Z",
     "iopub.status.idle": "2021-05-14T21:39:04.158709Z",
     "shell.execute_reply": "2021-05-14T21:39:04.158015Z"
    },
    "papermill": {
     "duration": 1.484903,
     "end_time": "2021-05-14T21:39:04.158875",
     "exception": false,
     "start_time": "2021-05-14T21:39:02.673972",
     "status": "completed"
    },
    "tags": []
   },
   "outputs": [],
   "source": [
    "!sox -n -r 16000 -b 16 -c 1 -L /tmp/example/test1.wav trim 0.0 6.000\n",
    "!sox -n -r 16000 -b 16 -c 1 -L /tmp/example/test2.wav trim 0.0 6.000"
   ]
  },
  {
   "cell_type": "code",
   "execution_count": 9,
   "id": "empty-earth",
   "metadata": {
    "execution": {
     "iopub.execute_input": "2021-05-14T21:39:04.190873Z",
     "iopub.status.busy": "2021-05-14T21:39:04.187444Z",
     "iopub.status.idle": "2021-05-14T21:39:05.189187Z",
     "shell.execute_reply": "2021-05-14T21:39:05.188529Z"
    },
    "papermill": {
     "duration": 1.018899,
     "end_time": "2021-05-14T21:39:05.189342",
     "exception": false,
     "start_time": "2021-05-14T21:39:04.170443",
     "status": "completed"
    },
    "tags": []
   },
   "outputs": [
    {
     "name": "stdout",
     "output_type": "stream",
     "text": [
      "Setting up corpus information...\r\n"
     ]
    }
   ],
   "source": [
    "!mfa_generate_dictionary -t tmp ../input/train-irish-mfa-model-fuaimeanna/g2p-munster.zip /tmp/example/ output"
   ]
  },
  {
   "cell_type": "code",
   "execution_count": 10,
   "id": "rational-ceramic",
   "metadata": {
    "execution": {
     "iopub.execute_input": "2021-05-14T21:39:05.223049Z",
     "iopub.status.busy": "2021-05-14T21:39:05.221903Z",
     "iopub.status.idle": "2021-05-14T21:39:05.940229Z",
     "shell.execute_reply": "2021-05-14T21:39:05.939671Z"
    },
    "papermill": {
     "duration": 0.739145,
     "end_time": "2021-05-14T21:39:05.940376",
     "exception": false,
     "start_time": "2021-05-14T21:39:05.201231",
     "status": "completed"
    },
    "tags": []
   },
   "outputs": [
    {
     "name": "stdout",
     "output_type": "stream",
     "text": [
      "gach\tɡ ə x\r\n",
      "bheith\tvʲ ɛ\r\n",
      "chuardaíos\tx uə ɾˠ d̪ˠ iː ʌ sˠ\r\n",
      "liom\tlʲ ʌ mˠ\r\n",
      "ag\ta ɡ\r\n",
      "áit\tɑː tʲ\r\n",
      "cuimhin\tk ɪ vˠ nʲ\r\n",
      "a\tə\r\n",
      "baint\tbˠ ɪ nʲ tʲ\r\n",
      "is\tɪ ʃ\r\n",
      "air\ta ɾʲ\r\n",
      "na\tn̪ˠ ə\r\n",
      "mhóna\tvˠ oː n̪ˠ ə\r\n",
      "haoinne\tɪ nʲ ɛ\r\n"
     ]
    }
   ],
   "source": [
    "!cat output"
   ]
  },
  {
   "cell_type": "markdown",
   "id": "skilled-front",
   "metadata": {
    "papermill": {
     "duration": 0.012198,
     "end_time": "2021-05-14T21:39:05.964860",
     "exception": false,
     "start_time": "2021-05-14T21:39:05.952662",
     "status": "completed"
    },
    "tags": []
   },
   "source": [
    "\n",
    "\n",
    "| Word | Pronunciation | Alt. Transcript | Generated | Correct? | In context? | Rule/Reason |\n",
    "| -- | -- | -- | -- | -- | -- | -- |\n",
    "| is | əs | əsˠ (~ ɪʃ) | ɪ ʃ | ✔️ | ❌ | Exception: `ios` **but** correct before a slender consonant |\n",
    "| cuimhin | kiːn′ | kiːnʲ | k ɪ vˠ nʲ | ❌ | ❌ | Missing grapheme: `uimhi` |\n",
    "| liom | l′əm | lʲəmˠ (~ lʲʌmˠ) | lʲ ʌ mˠ | ✔️ | ✔️ | (See, e.g., section 291: l′um) |\n",
    "| na | nə | n̪ˠə | n̪ˠ ə | ✔️ | ✔️ | |\n",
    "| haoinne | ˈheːn′ɪ | heːnʲɪ | ɪ nʲ ɛ | ❌ | ❌ | |\n",
    "| a | ə | | ə | ✔️ | ✔️ | |\n",
    "| bheith | v′eh | vʲɛh | vʲ ɛ | ✔️ | ❌ | Section 9: h  → ∅ / `_` # C |\n",
    "| ag | ə | ə (~ ɪɟ) | a ɡ | ❌ | ❌ | ɪg′, section 60|\n",
    "| baint | bɪn′t′ | bˠɪnʲtʲ | bˠ ɪ nʲ tʲ | ✔️ | ✔️ | |\n",
    "| mhóna | vuːn | vˠuːn̪ˠ(ə) | vˠ oː n̪ˠ ə | ✔️ | ❌ | ó → oː ~ uː / `_` [+nasal], ə  → ∅ / `_` # |\n",
    "| air | er′ | eɾʲ | a ɾʲ | ❌ | ❌ | Exception: `eir` |\n",
    "| chuardaíos | xuːərˈdiːs | xuəɾˠd̪ˠiːsˠ | x uə ɾˠ d̪ˠ iː ʌ sˠ | ❌ | ❌ | Missing grapheme `uío`\n",
    "| gach | ˈgax | ɡax (~ ɡəx) | ɡ ə x | ✔️ | ✔️ | See section 810 |\n",
    "| áit | ɑːt′ | ɑːtʲ | ɑː tʲ | ✔️ | ✔️ | |\n",
    "\n"
   ]
  }
 ],
 "metadata": {
  "kernelspec": {
   "display_name": "Python 3",
   "language": "python",
   "name": "python3"
  },
  "language_info": {
   "codemirror_mode": {
    "name": "ipython",
    "version": 3
   },
   "file_extension": ".py",
   "mimetype": "text/x-python",
   "name": "python",
   "nbconvert_exporter": "python",
   "pygments_lexer": "ipython3",
   "version": "3.7.10"
  },
  "papermill": {
   "default_parameters": {},
   "duration": 36.842695,
   "end_time": "2021-05-14T21:39:07.377666",
   "environment_variables": {},
   "exception": null,
   "input_path": "__notebook__.ipynb",
   "output_path": "__notebook__.ipynb",
   "parameters": {},
   "start_time": "2021-05-14T21:38:30.534971",
   "version": "2.3.3"
  }
 },
 "nbformat": 4,
 "nbformat_minor": 5
}
