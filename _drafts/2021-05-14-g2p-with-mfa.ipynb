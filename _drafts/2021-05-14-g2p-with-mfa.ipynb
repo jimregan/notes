{
 "cells": [
  {
   "cell_type": "code",
   "execution_count": 1,
   "id": "special-interface",
   "metadata": {
    "_cell_guid": "b1076dfc-b9ad-4769-8c92-a6c4dae69d19",
    "_uuid": "8f2839f25d086af736a60e9eeb907d3b93b6e0e5",
    "execution": {
     "iopub.execute_input": "2021-05-14T20:02:36.481161Z",
     "iopub.status.busy": "2021-05-14T20:02:36.479926Z",
     "iopub.status.idle": "2021-05-14T20:02:47.039391Z",
     "shell.execute_reply": "2021-05-14T20:02:47.040041Z"
    },
    "papermill": {
     "duration": 10.574646,
     "end_time": "2021-05-14T20:02:47.040363",
     "exception": false,
     "start_time": "2021-05-14T20:02:36.465717",
     "status": "completed"
    },
    "tags": []
   },
   "outputs": [],
   "source": [
    "%%capture\n",
    "import os\n",
    "os.chdir('/tmp')\n",
    "!wget https://github.com/MontrealCorpusTools/Montreal-Forced-Aligner/releases/download/v1.0.1/montreal-forced-aligner_linux.tar.gz\n",
    "!tar zxvf montreal-forced-aligner_linux.tar.gz\n",
    "!ln -s /tmp/montreal-forced-aligner/lib/libpython3.6m.so.1.0 /tmp/montreal-forced-aligner/lib/libpython3.6m.so\n"
   ]
  },
  {
   "cell_type": "code",
   "execution_count": 2,
   "id": "hired-korean",
   "metadata": {
    "execution": {
     "iopub.execute_input": "2021-05-14T20:02:47.062754Z",
     "iopub.status.busy": "2021-05-14T20:02:47.062146Z",
     "iopub.status.idle": "2021-05-14T20:02:47.066514Z",
     "shell.execute_reply": "2021-05-14T20:02:47.067117Z"
    },
    "papermill": {
     "duration": 0.016707,
     "end_time": "2021-05-14T20:02:47.067284",
     "exception": false,
     "start_time": "2021-05-14T20:02:47.050577",
     "status": "completed"
    },
    "tags": []
   },
   "outputs": [],
   "source": [
    "os.chdir('/kaggle/working')\n",
    "os.environ['LD_LIBRARY_PATH'] = f'{os.environ[\"LD_LIBRARY_PATH\"]}:/tmp/montreal-forced-aligner/lib/'\n",
    "os.environ['PATH'] = f'{os.environ[\"PATH\"]}:/tmp/montreal-forced-aligner/bin/'"
   ]
  },
  {
   "cell_type": "code",
   "execution_count": 3,
   "id": "alpha-analysis",
   "metadata": {
    "execution": {
     "iopub.execute_input": "2021-05-14T20:02:47.089268Z",
     "iopub.status.busy": "2021-05-14T20:02:47.088678Z",
     "iopub.status.idle": "2021-05-14T20:02:54.551187Z",
     "shell.execute_reply": "2021-05-14T20:02:54.550492Z"
    },
    "papermill": {
     "duration": 7.47459,
     "end_time": "2021-05-14T20:02:54.551328",
     "exception": false,
     "start_time": "2021-05-14T20:02:47.076738",
     "status": "completed"
    },
    "tags": []
   },
   "outputs": [],
   "source": [
    "%%capture\n",
    "!apt-get -y install libgfortran3"
   ]
  },
  {
   "cell_type": "code",
   "execution_count": 4,
   "id": "executed-peeing",
   "metadata": {
    "execution": {
     "iopub.execute_input": "2021-05-14T20:02:54.572662Z",
     "iopub.status.busy": "2021-05-14T20:02:54.572056Z",
     "iopub.status.idle": "2021-05-14T20:02:55.300899Z",
     "shell.execute_reply": "2021-05-14T20:02:55.300331Z"
    },
    "papermill": {
     "duration": 0.740463,
     "end_time": "2021-05-14T20:02:55.301074",
     "exception": false,
     "start_time": "2021-05-14T20:02:54.560611",
     "status": "completed"
    },
    "tags": []
   },
   "outputs": [],
   "source": [
    "!mkdir example"
   ]
  },
  {
   "cell_type": "markdown",
   "id": "daily-stick",
   "metadata": {
    "papermill": {
     "duration": 0.009392,
     "end_time": "2021-05-14T20:02:55.320108",
     "exception": false,
     "start_time": "2021-05-14T20:02:55.310716",
     "status": "completed"
    },
    "tags": []
   },
   "source": [
    "The example below is from section 488 (p. 239) of [_Gaeilge Chorca Dhuibhne_](https://shop.dias.ie/product/gaeilge-chorca-dhuibhne/) by Diarmuid Ó Sé.\n",
    "\n",
    "The provided transcription is:\n",
    "əs kiːn′ l′əm nə ˈheːn′ɪ v′eh ə bɪn′t′ vuːn er′"
   ]
  },
  {
   "cell_type": "code",
   "execution_count": 5,
   "id": "great-orlando",
   "metadata": {
    "execution": {
     "iopub.execute_input": "2021-05-14T20:02:55.344480Z",
     "iopub.status.busy": "2021-05-14T20:02:55.343520Z",
     "iopub.status.idle": "2021-05-14T20:02:55.348341Z",
     "shell.execute_reply": "2021-05-14T20:02:55.347838Z"
    },
    "papermill": {
     "duration": 0.019172,
     "end_time": "2021-05-14T20:02:55.348482",
     "exception": false,
     "start_time": "2021-05-14T20:02:55.329310",
     "status": "completed"
    },
    "tags": []
   },
   "outputs": [
    {
     "name": "stdout",
     "output_type": "stream",
     "text": [
      "Writing example/test1.lab\n"
     ]
    }
   ],
   "source": [
    "%%writefile example/test1.lab\n",
    "is cuimhin liom na haoinne a bheith ag baint mhóna air"
   ]
  },
  {
   "cell_type": "markdown",
   "id": "inclusive-subdivision",
   "metadata": {
    "papermill": {
     "duration": 0.009208,
     "end_time": "2021-05-14T20:02:55.367450",
     "exception": false,
     "start_time": "2021-05-14T20:02:55.358242",
     "status": "completed"
    },
    "tags": []
   },
   "source": [
    "Ibid, Section 488, p. 238\n",
    "\n",
    "xuːər′diːs ˈgax ɑːt′"
   ]
  },
  {
   "cell_type": "code",
   "execution_count": 6,
   "id": "olive-bennett",
   "metadata": {
    "execution": {
     "iopub.execute_input": "2021-05-14T20:02:55.391780Z",
     "iopub.status.busy": "2021-05-14T20:02:55.391101Z",
     "iopub.status.idle": "2021-05-14T20:02:55.394338Z",
     "shell.execute_reply": "2021-05-14T20:02:55.394911Z"
    },
    "papermill": {
     "duration": 0.018033,
     "end_time": "2021-05-14T20:02:55.395108",
     "exception": false,
     "start_time": "2021-05-14T20:02:55.377075",
     "status": "completed"
    },
    "tags": []
   },
   "outputs": [
    {
     "name": "stdout",
     "output_type": "stream",
     "text": [
      "Writing example/test2.lab\n"
     ]
    }
   ],
   "source": [
    "%%writefile example/test2.lab\n",
    "chuardaíos gach áit"
   ]
  },
  {
   "cell_type": "markdown",
   "id": "acoustic-minimum",
   "metadata": {
    "papermill": {
     "duration": 0.009972,
     "end_time": "2021-05-14T20:02:55.415425",
     "exception": false,
     "start_time": "2021-05-14T20:02:55.405453",
     "status": "completed"
    },
    "tags": []
   },
   "source": [
    "MFA insists on having `.wav` files, which it reads, even though it makes no use of them for G2P"
   ]
  },
  {
   "cell_type": "code",
   "execution_count": 7,
   "id": "destroyed-browse",
   "metadata": {
    "execution": {
     "iopub.execute_input": "2021-05-14T20:02:55.438732Z",
     "iopub.status.busy": "2021-05-14T20:02:55.438151Z",
     "iopub.status.idle": "2021-05-14T20:03:00.685246Z",
     "shell.execute_reply": "2021-05-14T20:03:00.684492Z"
    },
    "papermill": {
     "duration": 5.259641,
     "end_time": "2021-05-14T20:03:00.685389",
     "exception": false,
     "start_time": "2021-05-14T20:02:55.425748",
     "status": "completed"
    },
    "tags": []
   },
   "outputs": [],
   "source": [
    "%%capture\n",
    "!apt-get -y install sox"
   ]
  },
  {
   "cell_type": "code",
   "execution_count": 8,
   "id": "intended-canyon",
   "metadata": {
    "execution": {
     "iopub.execute_input": "2021-05-14T20:03:00.709575Z",
     "iopub.status.busy": "2021-05-14T20:03:00.708982Z",
     "iopub.status.idle": "2021-05-14T20:03:02.144779Z",
     "shell.execute_reply": "2021-05-14T20:03:02.145259Z"
    },
    "papermill": {
     "duration": 1.449295,
     "end_time": "2021-05-14T20:03:02.145435",
     "exception": false,
     "start_time": "2021-05-14T20:03:00.696140",
     "status": "completed"
    },
    "tags": []
   },
   "outputs": [],
   "source": [
    "!sox -n -r 16000 -b 16 -c 1 -L example/test1.wav trim 0.0 6.000\n",
    "!sox -n -r 16000 -b 16 -c 1 -L example/test2.wav trim 0.0 6.000"
   ]
  },
  {
   "cell_type": "code",
   "execution_count": 9,
   "id": "amino-photograph",
   "metadata": {
    "execution": {
     "iopub.execute_input": "2021-05-14T20:03:02.175413Z",
     "iopub.status.busy": "2021-05-14T20:03:02.174310Z",
     "iopub.status.idle": "2021-05-14T20:03:03.156640Z",
     "shell.execute_reply": "2021-05-14T20:03:03.155787Z"
    },
    "papermill": {
     "duration": 1.001203,
     "end_time": "2021-05-14T20:03:03.156804",
     "exception": false,
     "start_time": "2021-05-14T20:03:02.155601",
     "status": "completed"
    },
    "tags": []
   },
   "outputs": [
    {
     "name": "stdout",
     "output_type": "stream",
     "text": [
      "Setting up corpus information...\r\n"
     ]
    }
   ],
   "source": [
    "!mfa_generate_dictionary -t tmp ../input/train-irish-mfa-model-fuaimeanna/g2p-munster.zip example/ output"
   ]
  },
  {
   "cell_type": "code",
   "execution_count": 10,
   "id": "exclusive-filename",
   "metadata": {
    "execution": {
     "iopub.execute_input": "2021-05-14T20:03:03.186156Z",
     "iopub.status.busy": "2021-05-14T20:03:03.182894Z",
     "iopub.status.idle": "2021-05-14T20:03:03.878663Z",
     "shell.execute_reply": "2021-05-14T20:03:03.878177Z"
    },
    "papermill": {
     "duration": 0.710843,
     "end_time": "2021-05-14T20:03:03.878792",
     "exception": false,
     "start_time": "2021-05-14T20:03:03.167949",
     "status": "completed"
    },
    "tags": []
   },
   "outputs": [
    {
     "name": "stdout",
     "output_type": "stream",
     "text": [
      "bheith\tvʲ ɛ\r\n",
      "áit\tɑː tʲ\r\n",
      "a\tə\r\n",
      "baint\tbˠ ɪ nʲ tʲ\r\n",
      "ag\ta ɡ\r\n",
      "liom\tlʲ ʌ mˠ\r\n",
      "mhóna\tvˠ oː n̪ˠ ə\r\n",
      "chuardaíos\tx uə ɾˠ d̪ˠ iː ʌ sˠ\r\n",
      "is\tɪ ʃ\r\n",
      "haoinne\tɪ nʲ ɛ\r\n",
      "na\tn̪ˠ ə\r\n",
      "air\ta ɾʲ\r\n",
      "cuimhin\tk ɪ vˠ nʲ\r\n",
      "gach\tɡ ə x\r\n"
     ]
    }
   ],
   "source": [
    "!cat output"
   ]
  }
 ],
 "metadata": {
  "kernelspec": {
   "display_name": "Python 3",
   "language": "python",
   "name": "python3"
  },
  "language_info": {
   "codemirror_mode": {
    "name": "ipython",
    "version": 3
   },
   "file_extension": ".py",
   "mimetype": "text/x-python",
   "name": "python",
   "nbconvert_exporter": "python",
   "pygments_lexer": "ipython3",
   "version": "3.7.10"
  },
  "papermill": {
   "default_parameters": {},
   "duration": 36.841757,
   "end_time": "2021-05-14T20:03:05.313894",
   "environment_variables": {},
   "exception": null,
   "input_path": "__notebook__.ipynb",
   "output_path": "__notebook__.ipynb",
   "parameters": {},
   "start_time": "2021-05-14T20:02:28.472137",
   "version": "2.3.3"
  }
 },
 "nbformat": 4,
 "nbformat_minor": 5
}
