{
 "cells": [
  {
   "cell_type": "code",
   "execution_count": 1,
   "id": "lined-fever",
   "metadata": {
    "_cell_guid": "b1076dfc-b9ad-4769-8c92-a6c4dae69d19",
    "_uuid": "8f2839f25d086af736a60e9eeb907d3b93b6e0e5",
    "execution": {
     "iopub.execute_input": "2021-05-14T21:11:40.727793Z",
     "iopub.status.busy": "2021-05-14T21:11:40.726608Z",
     "iopub.status.idle": "2021-05-14T21:11:50.167388Z",
     "shell.execute_reply": "2021-05-14T21:11:50.166672Z"
    },
    "papermill": {
     "duration": 9.457726,
     "end_time": "2021-05-14T21:11:50.167565",
     "exception": false,
     "start_time": "2021-05-14T21:11:40.709839",
     "status": "completed"
    },
    "tags": []
   },
   "outputs": [],
   "source": [
    "%%capture\n",
    "import os\n",
    "os.chdir('/tmp')\n",
    "!wget https://github.com/MontrealCorpusTools/Montreal-Forced-Aligner/releases/download/v1.0.1/montreal-forced-aligner_linux.tar.gz\n",
    "!tar zxvf montreal-forced-aligner_linux.tar.gz\n",
    "!ln -s /tmp/montreal-forced-aligner/lib/libpython3.6m.so.1.0 /tmp/montreal-forced-aligner/lib/libpython3.6m.so\n"
   ]
  },
  {
   "cell_type": "code",
   "execution_count": 2,
   "id": "southwest-stable",
   "metadata": {
    "execution": {
     "iopub.execute_input": "2021-05-14T21:11:50.197790Z",
     "iopub.status.busy": "2021-05-14T21:11:50.197221Z",
     "iopub.status.idle": "2021-05-14T21:11:50.200558Z",
     "shell.execute_reply": "2021-05-14T21:11:50.200931Z"
    },
    "papermill": {
     "duration": 0.021033,
     "end_time": "2021-05-14T21:11:50.201080",
     "exception": false,
     "start_time": "2021-05-14T21:11:50.180047",
     "status": "completed"
    },
    "tags": []
   },
   "outputs": [],
   "source": [
    "os.chdir('/kaggle/working')\n",
    "os.environ['LD_LIBRARY_PATH'] = f'{os.environ[\"LD_LIBRARY_PATH\"]}:/tmp/montreal-forced-aligner/lib/'\n",
    "os.environ['PATH'] = f'{os.environ[\"PATH\"]}:/tmp/montreal-forced-aligner/bin/'"
   ]
  },
  {
   "cell_type": "code",
   "execution_count": 3,
   "id": "coastal-selection",
   "metadata": {
    "execution": {
     "iopub.execute_input": "2021-05-14T21:11:50.225144Z",
     "iopub.status.busy": "2021-05-14T21:11:50.224461Z",
     "iopub.status.idle": "2021-05-14T21:11:57.592582Z",
     "shell.execute_reply": "2021-05-14T21:11:57.592134Z"
    },
    "papermill": {
     "duration": 7.38277,
     "end_time": "2021-05-14T21:11:57.592711",
     "exception": false,
     "start_time": "2021-05-14T21:11:50.209941",
     "status": "completed"
    },
    "tags": []
   },
   "outputs": [],
   "source": [
    "%%capture\n",
    "!apt-get -y install libgfortran3"
   ]
  },
  {
   "cell_type": "code",
   "execution_count": 4,
   "id": "eleven-amateur",
   "metadata": {
    "execution": {
     "iopub.execute_input": "2021-05-14T21:11:57.619231Z",
     "iopub.status.busy": "2021-05-14T21:11:57.618740Z",
     "iopub.status.idle": "2021-05-14T21:11:57.890357Z",
     "shell.execute_reply": "2021-05-14T21:11:57.889761Z"
    },
    "papermill": {
     "duration": 0.288619,
     "end_time": "2021-05-14T21:11:57.890512",
     "exception": false,
     "start_time": "2021-05-14T21:11:57.601893",
     "status": "completed"
    },
    "tags": []
   },
   "outputs": [],
   "source": [
    "!mkdir example"
   ]
  },
  {
   "cell_type": "markdown",
   "id": "nearby-conference",
   "metadata": {
    "papermill": {
     "duration": 0.012891,
     "end_time": "2021-05-14T21:11:57.916249",
     "exception": false,
     "start_time": "2021-05-14T21:11:57.903358",
     "status": "completed"
    },
    "tags": []
   },
   "source": [
    "The example below is from section 488 (p. 239) of [_Gaeilge Chorca Dhuibhne_](https://shop.dias.ie/product/gaeilge-chorca-dhuibhne/) by Diarmuid Ó Sé.\n",
    "\n",
    "The provided transcription is:\n",
    "əs kiːn′ l′əm nə ˈheːn′ɪ v′eh ə bɪn′t′ vuːn er′"
   ]
  },
  {
   "cell_type": "code",
   "execution_count": 5,
   "id": "entertaining-overall",
   "metadata": {
    "execution": {
     "iopub.execute_input": "2021-05-14T21:11:57.949572Z",
     "iopub.status.busy": "2021-05-14T21:11:57.948399Z",
     "iopub.status.idle": "2021-05-14T21:11:57.952203Z",
     "shell.execute_reply": "2021-05-14T21:11:57.952750Z"
    },
    "papermill": {
     "duration": 0.022892,
     "end_time": "2021-05-14T21:11:57.952927",
     "exception": false,
     "start_time": "2021-05-14T21:11:57.930035",
     "status": "completed"
    },
    "tags": []
   },
   "outputs": [
    {
     "name": "stdout",
     "output_type": "stream",
     "text": [
      "Writing example/test1.lab\n"
     ]
    }
   ],
   "source": [
    "%%writefile example/test1.lab\n",
    "is cuimhin liom na haoinne a bheith ag baint mhóna air"
   ]
  },
  {
   "cell_type": "markdown",
   "id": "demographic-business",
   "metadata": {
    "papermill": {
     "duration": 0.012934,
     "end_time": "2021-05-14T21:11:57.979208",
     "exception": false,
     "start_time": "2021-05-14T21:11:57.966274",
     "status": "completed"
    },
    "tags": []
   },
   "source": [
    "Ibid, Section 488, p. 238\n",
    "\n",
    "xuːərˈdiːs ˈgax ɑːt′"
   ]
  },
  {
   "cell_type": "code",
   "execution_count": 6,
   "id": "happy-butler",
   "metadata": {
    "execution": {
     "iopub.execute_input": "2021-05-14T21:11:58.012105Z",
     "iopub.status.busy": "2021-05-14T21:11:58.009684Z",
     "iopub.status.idle": "2021-05-14T21:11:58.016792Z",
     "shell.execute_reply": "2021-05-14T21:11:58.016380Z"
    },
    "papermill": {
     "duration": 0.024822,
     "end_time": "2021-05-14T21:11:58.016922",
     "exception": false,
     "start_time": "2021-05-14T21:11:57.992100",
     "status": "completed"
    },
    "tags": []
   },
   "outputs": [
    {
     "name": "stdout",
     "output_type": "stream",
     "text": [
      "Writing example/test2.lab\n"
     ]
    }
   ],
   "source": [
    "%%writefile example/test2.lab\n",
    "chuardaíos gach áit"
   ]
  },
  {
   "cell_type": "markdown",
   "id": "plastic-productivity",
   "metadata": {
    "papermill": {
     "duration": 0.00909,
     "end_time": "2021-05-14T21:11:58.035588",
     "exception": false,
     "start_time": "2021-05-14T21:11:58.026498",
     "status": "completed"
    },
    "tags": []
   },
   "source": [
    "MFA insists on having `.wav` files, which it reads, even though it makes no use of them for G2P"
   ]
  },
  {
   "cell_type": "code",
   "execution_count": 7,
   "id": "classical-russia",
   "metadata": {
    "execution": {
     "iopub.execute_input": "2021-05-14T21:11:58.062886Z",
     "iopub.status.busy": "2021-05-14T21:11:58.061886Z",
     "iopub.status.idle": "2021-05-14T21:12:05.835016Z",
     "shell.execute_reply": "2021-05-14T21:12:05.834329Z"
    },
    "papermill": {
     "duration": 7.790055,
     "end_time": "2021-05-14T21:12:05.835146",
     "exception": false,
     "start_time": "2021-05-14T21:11:58.045091",
     "status": "completed"
    },
    "tags": []
   },
   "outputs": [],
   "source": [
    "%%capture\n",
    "!apt-get -y install sox"
   ]
  },
  {
   "cell_type": "code",
   "execution_count": 8,
   "id": "widespread-retro",
   "metadata": {
    "execution": {
     "iopub.execute_input": "2021-05-14T21:12:05.864380Z",
     "iopub.status.busy": "2021-05-14T21:12:05.863832Z",
     "iopub.status.idle": "2021-05-14T21:12:06.448403Z",
     "shell.execute_reply": "2021-05-14T21:12:06.446408Z"
    },
    "papermill": {
     "duration": 0.603683,
     "end_time": "2021-05-14T21:12:06.448562",
     "exception": false,
     "start_time": "2021-05-14T21:12:05.844879",
     "status": "completed"
    },
    "tags": []
   },
   "outputs": [],
   "source": [
    "!sox -n -r 16000 -b 16 -c 1 -L example/test1.wav trim 0.0 6.000\n",
    "!sox -n -r 16000 -b 16 -c 1 -L example/test2.wav trim 0.0 6.000"
   ]
  },
  {
   "cell_type": "code",
   "execution_count": 9,
   "id": "breathing-supplement",
   "metadata": {
    "execution": {
     "iopub.execute_input": "2021-05-14T21:12:06.476151Z",
     "iopub.status.busy": "2021-05-14T21:12:06.475660Z",
     "iopub.status.idle": "2021-05-14T21:12:07.053367Z",
     "shell.execute_reply": "2021-05-14T21:12:07.052636Z"
    },
    "papermill": {
     "duration": 0.595273,
     "end_time": "2021-05-14T21:12:07.053519",
     "exception": false,
     "start_time": "2021-05-14T21:12:06.458246",
     "status": "completed"
    },
    "tags": []
   },
   "outputs": [
    {
     "name": "stdout",
     "output_type": "stream",
     "text": [
      "Setting up corpus information...\r\n"
     ]
    }
   ],
   "source": [
    "!mfa_generate_dictionary -t tmp ../input/train-irish-mfa-model-fuaimeanna/g2p-munster.zip example/ output"
   ]
  },
  {
   "cell_type": "code",
   "execution_count": 10,
   "id": "tutorial-tackle",
   "metadata": {
    "execution": {
     "iopub.execute_input": "2021-05-14T21:12:07.092751Z",
     "iopub.status.busy": "2021-05-14T21:12:07.089060Z",
     "iopub.status.idle": "2021-05-14T21:12:07.369596Z",
     "shell.execute_reply": "2021-05-14T21:12:07.369113Z"
    },
    "papermill": {
     "duration": 0.301018,
     "end_time": "2021-05-14T21:12:07.369716",
     "exception": false,
     "start_time": "2021-05-14T21:12:07.068698",
     "status": "completed"
    },
    "tags": []
   },
   "outputs": [
    {
     "name": "stdout",
     "output_type": "stream",
     "text": [
      "bheith\tvʲ ɛ\r\n",
      "is\tɪ ʃ\r\n",
      "liom\tlʲ ʌ mˠ\r\n",
      "na\tn̪ˠ ə\r\n",
      "mhóna\tvˠ oː n̪ˠ ə\r\n",
      "baint\tbˠ ɪ nʲ tʲ\r\n",
      "gach\tɡ ə x\r\n",
      "áit\tɑː tʲ\r\n",
      "chuardaíos\tx uə ɾˠ d̪ˠ iː ʌ sˠ\r\n",
      "haoinne\tɪ nʲ ɛ\r\n",
      "a\tə\r\n",
      "ag\ta ɡ\r\n",
      "cuimhin\tk ɪ vˠ nʲ\r\n",
      "air\ta ɾʲ\r\n"
     ]
    }
   ],
   "source": [
    "!cat output"
   ]
  },
  {
   "cell_type": "markdown",
   "id": "plastic-binding",
   "metadata": {
    "papermill": {
     "duration": 0.010429,
     "end_time": "2021-05-14T21:12:07.390692",
     "exception": false,
     "start_time": "2021-05-14T21:12:07.380263",
     "status": "completed"
    },
    "tags": []
   },
   "source": [
    "| Word | Pronunciation | Alt. Transcript | Generated | Correct? | Rule/Reason |\n",
    "| -- | -- | -- | -- | -- | -- |\n",
    "| is | əs | əsˠ | ɪ ʃ | ❌ | Exception: `ios` |\n",
    "| cuimhin | kiːn′ | kiːnʲ | k ɪ vˠ nʲ | ❌ | Missing grapheme: `uimhi` |\n",
    "| liom | l′əm | lʲəmˠ (~ lʲʌmˠ) | lʲ ʌ mˠ | ✔️ | (See, e.g., section 291: l′um) |\n",
    "| na | nə | n̪ˠə | n̪ˠ ə | ✔️ | |\n",
    "| haoinne | ˈheːn′ɪ | heːnʲɪ | ɪ nʲ ɛ | ❌ | |\n",
    "| a | ə | | ə | ✔️ | |\n",
    "| bheith | v′eh | vʲɛh | vʲ ɛ | ✔️ | Section 9: h  → ∅ / _ # C |\n",
    "| ag | ə | ə (~ ɪɟ) | a ɡ | ❌ | ɪɟ, section 60|\n",
    "| baint | bɪn′t′ | bˠɪnʲtʲ | bˠ ɪ nʲ tʲ | ✔️ | |\n",
    "| mhóna | vuːn | vˠuːn̪ˠ(ə) | vˠ oː n̪ˠ ə | ✔️ | ó → oː ~ uː / _ [+nasal], ə  → ∅ / _ # |\n",
    "| air | er′ | eɾʲ | a ɾʲ | ❌ | Exception: `eir` |\n",
    "| chuardaíos | xuːərˈdiːs | xuəɾˠd̪ˠiːsˠ | x uə ɾˠ d̪ˠ iː ʌ sˠ | ❌ | Missing grapheme `uío`\n",
    "| gach | ˈgax | ɡax (~ ɡəx) | ɡ ə x | ✔️ | See section 810 |\n",
    "| áit | ɑːt′ | ɑːtʲ | ɑː tʲ | ✔️ | |\n",
    "\n"
   ]
  }
 ],
 "metadata": {
  "kernelspec": {
   "display_name": "Python 3",
   "language": "python",
   "name": "python3"
  },
  "language_info": {
   "codemirror_mode": {
    "name": "ipython",
    "version": 3
   },
   "file_extension": ".py",
   "mimetype": "text/x-python",
   "name": "python",
   "nbconvert_exporter": "python",
   "pygments_lexer": "ipython3",
   "version": "3.7.10"
  },
  "papermill": {
   "default_parameters": {},
   "duration": 40.469593,
   "end_time": "2021-05-14T21:12:08.920586",
   "environment_variables": {},
   "exception": null,
   "input_path": "__notebook__.ipynb",
   "output_path": "__notebook__.ipynb",
   "parameters": {},
   "start_time": "2021-05-14T21:11:28.450993",
   "version": "2.3.3"
  }
 },
 "nbformat": 4,
 "nbformat_minor": 5
}
