{
 "cells": [
  {
   "cell_type": "code",
   "execution_count": 1,
   "id": "psychological-climb",
   "metadata": {
    "_cell_guid": "b1076dfc-b9ad-4769-8c92-a6c4dae69d19",
    "_uuid": "8f2839f25d086af736a60e9eeb907d3b93b6e0e5",
    "execution": {
     "iopub.execute_input": "2021-05-14T21:15:24.114729Z",
     "iopub.status.busy": "2021-05-14T21:15:24.113578Z",
     "iopub.status.idle": "2021-05-14T21:15:35.263022Z",
     "shell.execute_reply": "2021-05-14T21:15:35.263834Z"
    },
    "papermill": {
     "duration": 11.18792,
     "end_time": "2021-05-14T21:15:35.264236",
     "exception": false,
     "start_time": "2021-05-14T21:15:24.076316",
     "status": "completed"
    },
    "tags": []
   },
   "outputs": [],
   "source": [
    "%%capture\n",
    "import os\n",
    "os.chdir('/tmp')\n",
    "!wget https://github.com/MontrealCorpusTools/Montreal-Forced-Aligner/releases/download/v1.0.1/montreal-forced-aligner_linux.tar.gz\n",
    "!tar zxvf montreal-forced-aligner_linux.tar.gz\n",
    "!ln -s /tmp/montreal-forced-aligner/lib/libpython3.6m.so.1.0 /tmp/montreal-forced-aligner/lib/libpython3.6m.so\n"
   ]
  },
  {
   "cell_type": "code",
   "execution_count": 2,
   "id": "latin-layout",
   "metadata": {
    "execution": {
     "iopub.execute_input": "2021-05-14T21:15:35.303640Z",
     "iopub.status.busy": "2021-05-14T21:15:35.302652Z",
     "iopub.status.idle": "2021-05-14T21:15:35.306395Z",
     "shell.execute_reply": "2021-05-14T21:15:35.305580Z"
    },
    "papermill": {
     "duration": 0.026854,
     "end_time": "2021-05-14T21:15:35.306653",
     "exception": false,
     "start_time": "2021-05-14T21:15:35.279799",
     "status": "completed"
    },
    "tags": []
   },
   "outputs": [],
   "source": [
    "os.chdir('/kaggle/working')\n",
    "os.environ['LD_LIBRARY_PATH'] = f'{os.environ[\"LD_LIBRARY_PATH\"]}:/tmp/montreal-forced-aligner/lib/'\n",
    "os.environ['PATH'] = f'{os.environ[\"PATH\"]}:/tmp/montreal-forced-aligner/bin/'"
   ]
  },
  {
   "cell_type": "code",
   "execution_count": 3,
   "id": "therapeutic-philippines",
   "metadata": {
    "execution": {
     "iopub.execute_input": "2021-05-14T21:15:35.345405Z",
     "iopub.status.busy": "2021-05-14T21:15:35.343618Z",
     "iopub.status.idle": "2021-05-14T21:15:42.163761Z",
     "shell.execute_reply": "2021-05-14T21:15:42.163196Z"
    },
    "papermill": {
     "duration": 6.842875,
     "end_time": "2021-05-14T21:15:42.163926",
     "exception": false,
     "start_time": "2021-05-14T21:15:35.321051",
     "status": "completed"
    },
    "tags": []
   },
   "outputs": [],
   "source": [
    "%%capture\n",
    "!apt-get -y install libgfortran3"
   ]
  },
  {
   "cell_type": "code",
   "execution_count": 4,
   "id": "committed-socket",
   "metadata": {
    "execution": {
     "iopub.execute_input": "2021-05-14T21:15:42.193606Z",
     "iopub.status.busy": "2021-05-14T21:15:42.188954Z",
     "iopub.status.idle": "2021-05-14T21:15:42.932811Z",
     "shell.execute_reply": "2021-05-14T21:15:42.932050Z"
    },
    "papermill": {
     "duration": 0.758921,
     "end_time": "2021-05-14T21:15:42.932968",
     "exception": false,
     "start_time": "2021-05-14T21:15:42.174047",
     "status": "completed"
    },
    "tags": []
   },
   "outputs": [],
   "source": [
    "!mkdir example"
   ]
  },
  {
   "cell_type": "markdown",
   "id": "floral-perfume",
   "metadata": {
    "papermill": {
     "duration": 0.010709,
     "end_time": "2021-05-14T21:15:42.954338",
     "exception": false,
     "start_time": "2021-05-14T21:15:42.943629",
     "status": "completed"
    },
    "tags": []
   },
   "source": [
    "The example below is from section 488 (p. 239) of [_Gaeilge Chorca Dhuibhne_](https://shop.dias.ie/product/gaeilge-chorca-dhuibhne/) by Diarmuid Ó Sé.\n",
    "\n",
    "The provided transcription is:\n",
    "əs kiːn′ l′əm nə ˈheːn′ɪ v′eh ə bɪn′t′ vuːn er′"
   ]
  },
  {
   "cell_type": "code",
   "execution_count": 5,
   "id": "identical-sixth",
   "metadata": {
    "execution": {
     "iopub.execute_input": "2021-05-14T21:15:42.982541Z",
     "iopub.status.busy": "2021-05-14T21:15:42.981643Z",
     "iopub.status.idle": "2021-05-14T21:15:42.986391Z",
     "shell.execute_reply": "2021-05-14T21:15:42.987009Z"
    },
    "papermill": {
     "duration": 0.022165,
     "end_time": "2021-05-14T21:15:42.987191",
     "exception": false,
     "start_time": "2021-05-14T21:15:42.965026",
     "status": "completed"
    },
    "tags": []
   },
   "outputs": [
    {
     "name": "stdout",
     "output_type": "stream",
     "text": [
      "Writing example/test1.lab\n"
     ]
    }
   ],
   "source": [
    "%%writefile example/test1.lab\n",
    "is cuimhin liom na haoinne a bheith ag baint mhóna air"
   ]
  },
  {
   "cell_type": "markdown",
   "id": "statewide-bracket",
   "metadata": {
    "papermill": {
     "duration": 0.0106,
     "end_time": "2021-05-14T21:15:43.009234",
     "exception": false,
     "start_time": "2021-05-14T21:15:42.998634",
     "status": "completed"
    },
    "tags": []
   },
   "source": [
    "Ibid, Section 488, p. 238\n",
    "\n",
    "xuːərˈdiːs ˈgax ɑːt′"
   ]
  },
  {
   "cell_type": "code",
   "execution_count": 6,
   "id": "institutional-malaysia",
   "metadata": {
    "execution": {
     "iopub.execute_input": "2021-05-14T21:15:43.034358Z",
     "iopub.status.busy": "2021-05-14T21:15:43.033735Z",
     "iopub.status.idle": "2021-05-14T21:15:43.040953Z",
     "shell.execute_reply": "2021-05-14T21:15:43.040300Z"
    },
    "papermill": {
     "duration": 0.021002,
     "end_time": "2021-05-14T21:15:43.041106",
     "exception": false,
     "start_time": "2021-05-14T21:15:43.020104",
     "status": "completed"
    },
    "tags": []
   },
   "outputs": [
    {
     "name": "stdout",
     "output_type": "stream",
     "text": [
      "Writing example/test2.lab\n"
     ]
    }
   ],
   "source": [
    "%%writefile example/test2.lab\n",
    "chuardaíos gach áit"
   ]
  },
  {
   "cell_type": "markdown",
   "id": "complimentary-philip",
   "metadata": {
    "papermill": {
     "duration": 0.010818,
     "end_time": "2021-05-14T21:15:43.063472",
     "exception": false,
     "start_time": "2021-05-14T21:15:43.052654",
     "status": "completed"
    },
    "tags": []
   },
   "source": [
    "MFA insists on having `.wav` files, which it reads, even though it makes no use of them for G2P"
   ]
  },
  {
   "cell_type": "code",
   "execution_count": 7,
   "id": "lined-above",
   "metadata": {
    "execution": {
     "iopub.execute_input": "2021-05-14T21:15:43.089351Z",
     "iopub.status.busy": "2021-05-14T21:15:43.088673Z",
     "iopub.status.idle": "2021-05-14T21:15:51.013623Z",
     "shell.execute_reply": "2021-05-14T21:15:51.012914Z"
    },
    "papermill": {
     "duration": 7.939273,
     "end_time": "2021-05-14T21:15:51.013770",
     "exception": false,
     "start_time": "2021-05-14T21:15:43.074497",
     "status": "completed"
    },
    "tags": []
   },
   "outputs": [],
   "source": [
    "%%capture\n",
    "!apt-get -y install sox"
   ]
  },
  {
   "cell_type": "code",
   "execution_count": 8,
   "id": "awful-pencil",
   "metadata": {
    "execution": {
     "iopub.execute_input": "2021-05-14T21:15:51.048510Z",
     "iopub.status.busy": "2021-05-14T21:15:51.047814Z",
     "iopub.status.idle": "2021-05-14T21:15:52.496501Z",
     "shell.execute_reply": "2021-05-14T21:15:52.495920Z"
    },
    "papermill": {
     "duration": 1.47142,
     "end_time": "2021-05-14T21:15:52.496641",
     "exception": false,
     "start_time": "2021-05-14T21:15:51.025221",
     "status": "completed"
    },
    "tags": []
   },
   "outputs": [],
   "source": [
    "!sox -n -r 16000 -b 16 -c 1 -L example/test1.wav trim 0.0 6.000\n",
    "!sox -n -r 16000 -b 16 -c 1 -L example/test2.wav trim 0.0 6.000"
   ]
  },
  {
   "cell_type": "code",
   "execution_count": 9,
   "id": "designing-luxury",
   "metadata": {
    "execution": {
     "iopub.execute_input": "2021-05-14T21:15:52.528829Z",
     "iopub.status.busy": "2021-05-14T21:15:52.525034Z",
     "iopub.status.idle": "2021-05-14T21:15:53.540928Z",
     "shell.execute_reply": "2021-05-14T21:15:53.540307Z"
    },
    "papermill": {
     "duration": 1.032835,
     "end_time": "2021-05-14T21:15:53.541093",
     "exception": false,
     "start_time": "2021-05-14T21:15:52.508258",
     "status": "completed"
    },
    "tags": []
   },
   "outputs": [
    {
     "name": "stdout",
     "output_type": "stream",
     "text": [
      "Setting up corpus information...\r\n"
     ]
    }
   ],
   "source": [
    "!mfa_generate_dictionary -t tmp ../input/train-irish-mfa-model-fuaimeanna/g2p-munster.zip example/ output"
   ]
  },
  {
   "cell_type": "code",
   "execution_count": 10,
   "id": "fundamental-orange",
   "metadata": {
    "execution": {
     "iopub.execute_input": "2021-05-14T21:15:53.573855Z",
     "iopub.status.busy": "2021-05-14T21:15:53.569885Z",
     "iopub.status.idle": "2021-05-14T21:15:54.294832Z",
     "shell.execute_reply": "2021-05-14T21:15:54.294253Z"
    },
    "papermill": {
     "duration": 0.742016,
     "end_time": "2021-05-14T21:15:54.294988",
     "exception": false,
     "start_time": "2021-05-14T21:15:53.552972",
     "status": "completed"
    },
    "tags": []
   },
   "outputs": [
    {
     "name": "stdout",
     "output_type": "stream",
     "text": [
      "ag\ta ɡ\r\n",
      "gach\tɡ ə x\r\n",
      "a\tə\r\n",
      "is\tɪ ʃ\r\n",
      "cuimhin\tk ɪ vˠ nʲ\r\n",
      "na\tn̪ˠ ə\r\n",
      "bheith\tvʲ ɛ\r\n",
      "haoinne\tɪ nʲ ɛ\r\n",
      "mhóna\tvˠ oː n̪ˠ ə\r\n",
      "liom\tlʲ ʌ mˠ\r\n",
      "áit\tɑː tʲ\r\n",
      "baint\tbˠ ɪ nʲ tʲ\r\n",
      "air\ta ɾʲ\r\n",
      "chuardaíos\tx uə ɾˠ d̪ˠ iː ʌ sˠ\r\n"
     ]
    }
   ],
   "source": [
    "!cat output"
   ]
  },
  {
   "cell_type": "markdown",
   "id": "earlier-remark",
   "metadata": {
    "papermill": {
     "duration": 0.011862,
     "end_time": "2021-05-14T21:15:54.319253",
     "exception": false,
     "start_time": "2021-05-14T21:15:54.307391",
     "status": "completed"
    },
    "tags": []
   },
   "source": [
    "| Word | Pronunciation | Alt. Transcript | Generated | Correct? | Rule/Reason |\n",
    "| -- | -- | -- | -- | -- | -- |\n",
    "| is | əs | əsˠ | ɪ ʃ | ❌ | Exception: `ios` |\n",
    "| cuimhin | kiːn′ | kiːnʲ | k ɪ vˠ nʲ | ❌ | Missing grapheme: `uimhi` |\n",
    "| liom | l′əm | lʲəmˠ (~ lʲʌmˠ) | lʲ ʌ mˠ | ✔️ | (See, e.g., section 291: l′um) |\n",
    "| na | nə | n̪ˠə | n̪ˠ ə | ✔️ | |\n",
    "| haoinne | ˈheːn′ɪ | heːnʲɪ | ɪ nʲ ɛ | ❌ | |\n",
    "| a | ə | | ə | ✔️ | |\n",
    "| bheith | v′eh | vʲɛh | vʲ ɛ | ✔️ | Section 9: h  → ∅ / `_` # C |\n",
    "| ag | ə | ə (~ ɪɟ) | a ɡ | ❌ | ɪɟ, section 60|\n",
    "| baint | bɪn′t′ | bˠɪnʲtʲ | bˠ ɪ nʲ tʲ | ✔️ | |\n",
    "| mhóna | vuːn | vˠuːn̪ˠ(ə) | vˠ oː n̪ˠ ə | ✔️ | ó → oː ~ uː / `_` [+nasal], ə  → ∅ / `_` # |\n",
    "| air | er′ | eɾʲ | a ɾʲ | ❌ | Exception: `eir` |\n",
    "| chuardaíos | xuːərˈdiːs | xuəɾˠd̪ˠiːsˠ | x uə ɾˠ d̪ˠ iː ʌ sˠ | ❌ | Missing grapheme `uío`\n",
    "| gach | ˈgax | ɡax (~ ɡəx) | ɡ ə x | ✔️ | See section 810 |\n",
    "| áit | ɑːt′ | ɑːtʲ | ɑː tʲ | ✔️ | |\n",
    "\n"
   ]
  }
 ],
 "metadata": {
  "kernelspec": {
   "display_name": "Python 3",
   "language": "python",
   "name": "python3"
  },
  "language_info": {
   "codemirror_mode": {
    "name": "ipython",
    "version": 3
   },
   "file_extension": ".py",
   "mimetype": "text/x-python",
   "name": "python",
   "nbconvert_exporter": "python",
   "pygments_lexer": "ipython3",
   "version": "3.7.10"
  },
  "papermill": {
   "default_parameters": {},
   "duration": 39.90112,
   "end_time": "2021-05-14T21:15:55.590052",
   "environment_variables": {},
   "exception": null,
   "input_path": "__notebook__.ipynb",
   "output_path": "__notebook__.ipynb",
   "parameters": {},
   "start_time": "2021-05-14T21:15:15.688932",
   "version": "2.3.3"
  }
 },
 "nbformat": 4,
 "nbformat_minor": 5
}
