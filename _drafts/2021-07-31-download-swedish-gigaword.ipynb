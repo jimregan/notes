{
 "cells": [
  {
   "cell_type": "code",
   "execution_count": null,
   "id": "004e06df",
   "metadata": {
    "_cell_guid": "b1076dfc-b9ad-4769-8c92-a6c4dae69d19",
    "_uuid": "8f2839f25d086af736a60e9eeb907d3b93b6e0e5",
    "execution": {
     "iopub.execute_input": "2021-07-31T18:59:43.124023Z",
     "iopub.status.busy": "2021-07-31T18:59:43.122849Z",
     "iopub.status.idle": "2021-07-31T19:10:52.535445Z",
     "shell.execute_reply": "2021-07-31T19:10:52.536040Z"
    },
    "papermill": {
     "duration": 669.435366,
     "end_time": "2021-07-31T19:10:52.536721",
     "exception": false,
     "start_time": "2021-07-31T18:59:43.101355",
     "status": "completed"
    },
    "tags": []
   },
   "outputs": [],
   "source": [
    "!wget http://spraakbanken.gu.se/lb/resurser/meningsmangder/gigaword-1950-59.tar\n",
    "!wget http://spraakbanken.gu.se/lb/resurser/meningsmangder/gigaword-1960-69.tar\n",
    "!wget http://spraakbanken.gu.se/lb/resurser/meningsmangder/gigaword-1970-79.tar\n",
    "!wget http://spraakbanken.gu.se/lb/resurser/meningsmangder/gigaword-1980-89.tar\n",
    "!wget http://spraakbanken.gu.se/lb/resurser/meningsmangder/gigaword-1990-99.tar\n",
    "!wget http://spraakbanken.gu.se/lb/resurser/meningsmangder/gigaword-2000-09.tar\n",
    "!wget http://spraakbanken.gu.se/lb/resurser/meningsmangder/gigaword-2010-15.tar"
   ]
  }
 ],
 "metadata": {
  "kernelspec": {
   "display_name": "Python 3",
   "language": "python",
   "name": "python3"
  },
  "language_info": {
   "codemirror_mode": {
    "name": "ipython",
    "version": 3
   },
   "file_extension": ".py",
   "mimetype": "text/x-python",
   "name": "python",
   "nbconvert_exporter": "python",
   "pygments_lexer": "ipython3",
   "version": "3.8.2"
  },
  "papermill": {
   "default_parameters": {},
   "duration": 680.277311,
   "end_time": "2021-07-31T19:10:54.800501",
   "environment_variables": {},
   "exception": null,
   "input_path": "__notebook__.ipynb",
   "output_path": "__notebook__.ipynb",
   "parameters": {},
   "start_time": "2021-07-31T18:59:34.523190",
   "version": "2.3.3"
  }
 },
 "nbformat": 4,
 "nbformat_minor": 5
}
