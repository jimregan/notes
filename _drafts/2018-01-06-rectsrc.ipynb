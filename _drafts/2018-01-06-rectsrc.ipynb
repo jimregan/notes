{
 "cells": [
  {
   "cell_type": "markdown",
   "id": "9ba9bea1",
   "metadata": {},
   "source": [
    "```perl\n",
    "rect2mag () { \n",
    "\tl=$(echo $1|cut -d , -f 1); \n",
    "\tb=$(echo $1|cut -d , -f 3); \n",
    "\tt=$(echo $1|cut -d ' ' -f 1|cut -d , -f 2);\n",
    "\tr=$(echo $1|cut -d ' ' -f 2|cut -d , -f 1);\n",
    "\tra=$(($r - $l)); \n",
    "\tba=$(($b - $t)); \n",
    "\techo \"${ra}x${ba}+${l}+${t}\";\n",
    "}\n",
    "\n",
    "rect2magawk () { \n",
    "\tl=$(echo $1|awk -F, '{print $1}'); \n",
    "\tb=$(echo $1|awk -F, '{print $3}'); \n",
    "\tt=$(echo $1|awk -F' ' '{print $1}'|awk -F',' '{print $2}');\n",
    "\tr=$(echo $1|awk -F' ' '{print $2}'|awk -F',' '{print $1}'); \n",
    "\tra=$(($r - $l)); \n",
    "\tba=$(($b - $t)); \n",
    "\techo \"${ra}x${ba}+${l}+${t}\"; \n",
    "}\n",
    "\n",
    "mag2rect () { \n",
    "\tl=$(echo $1|cut -d '+' -f 2); \n",
    "\tt=$(echo $1|cut -d '+' -f 3); \n",
    "\tb=$(echo $1|cut -d 'x' -f 2|cut -d '+' -f 1);\n",
    "\tr=$(echo $1|cut -d 'x' -f 1);\n",
    "\tra=$(($r + $l)); \n",
    "\tba=$(($b + $t)); \n",
    "\techo \"${l},${t} ${ra},${ba}\"\n",
    "}\n",
    "```"
   ]
  },
  {
   "cell_type": "markdown",
   "id": "11ce574f",
   "metadata": {},
   "source": []
  }
 ],
 "metadata": {
  "language_info": {
   "name": "python"
  }
 },
 "nbformat": 4,
 "nbformat_minor": 5
}
