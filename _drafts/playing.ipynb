{
 "cells": [
  {
   "cell_type": "code",
   "execution_count": 1,
   "metadata": {},
   "outputs": [],
   "source": [
    "from nemo_text_processing.text_normalization.sv.taggers.cardinal import CardinalFst as tnCard\n",
    "from nemo_text_processing.inverse_text_normalization.sv.taggers.cardinal import CardinalFst as Card\n",
    "from nemo_text_processing.text_normalization.sv.taggers.decimal import DecimalFst as tnDec\n",
    "from nemo_text_processing.inverse_text_normalization.sv.taggers.decimal import DecimalFst as Dec"
   ]
  },
  {
   "cell_type": "code",
   "execution_count": 2,
   "metadata": {},
   "outputs": [],
   "source": [
    "tn_card = tnCard(False)\n",
    "card = Card(tn_card)\n",
    "tn_dec = tnDec(tn_card, False)\n",
    "dec = Dec(card, tn_dec)"
   ]
  },
  {
   "cell_type": "code",
   "execution_count": 3,
   "metadata": {},
   "outputs": [
    {
     "data": {
      "text/plain": [
       "'decimal { integer_part: \"1\" quantity: \"miljon\" preserve_order: true }'"
      ]
     },
     "execution_count": 3,
     "metadata": {},
     "output_type": "execute_result"
    }
   ],
   "source": [
    "(\"en miljon\" @ dec.fst).string()"
   ]
  },
  {
   "cell_type": "code",
   "execution_count": 4,
   "metadata": {},
   "outputs": [
    {
     "data": {
      "text/plain": [
       "'decimal { integer_part: \"1\" quantity: \"miljon\" preserve_order: true }'"
      ]
     },
     "execution_count": 4,
     "metadata": {},
     "output_type": "execute_result"
    }
   ],
   "source": [
    "(\"ett miljon\" @ dec.fst).string()"
   ]
  }
 ],
 "metadata": {
  "kernelspec": {
   "display_name": "nemo_tn",
   "language": "python",
   "name": "python3"
  },
  "language_info": {
   "codemirror_mode": {
    "name": "ipython",
    "version": 3
   },
   "file_extension": ".py",
   "mimetype": "text/x-python",
   "name": "python",
   "nbconvert_exporter": "python",
   "pygments_lexer": "ipython3",
   "version": "3.8.0"
  },
  "orig_nbformat": 4,
  "vscode": {
   "interpreter": {
    "hash": "96c035648930bea69d9b07400b9579b46f611ac79813b1ca90c1f721b4f39cb5"
   }
  }
 },
 "nbformat": 4,
 "nbformat_minor": 2
}
