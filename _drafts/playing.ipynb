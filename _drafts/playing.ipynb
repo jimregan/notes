{
 "cells": [
  {
   "cell_type": "code",
   "execution_count": 1,
   "metadata": {},
   "outputs": [],
   "source": [
    "from nemo_text_processing.text_normalization.sv.taggers.cardinal import CardinalFst as tnCard\n",
    "from nemo_text_processing.inverse_text_normalization.sv.taggers.cardinal import CardinalFst as Card\n",
    "from nemo_text_processing.text_normalization.sv.taggers.decimal import DecimalFst as tnDec\n",
    "from nemo_text_processing.inverse_text_normalization.sv.taggers.decimal import DecimalFst as Dec"
   ]
  },
  {
   "cell_type": "code",
   "execution_count": 2,
   "metadata": {},
   "outputs": [],
   "source": [
    "tn_card = tnCard(False)\n",
    "card = Card(tn_card)\n",
    "tn_dec = tnDec(tn_card, False)\n",
    "dec = Dec(card, tn_dec)"
   ]
  },
  {
   "cell_type": "code",
   "execution_count": 3,
   "metadata": {},
   "outputs": [
    {
     "data": {
      "text/plain": [
       "'decimal { integer_part: \"1\" quantity: \"miljon\" preserve_order: true }'"
      ]
     },
     "execution_count": 3,
     "metadata": {},
     "output_type": "execute_result"
    }
   ],
   "source": [
    "(\"en miljon\" @ dec.fst).string()"
   ]
  },
  {
   "cell_type": "code",
   "execution_count": 4,
   "metadata": {},
   "outputs": [
    {
     "data": {
      "text/plain": [
       "'decimal { integer_part: \"1\" quantity: \"miljon\" preserve_order: true }'"
      ]
     },
     "execution_count": 4,
     "metadata": {},
     "output_type": "execute_result"
    }
   ],
   "source": [
    "(\"ett miljon\" @ dec.fst).string()"
   ]
  },
  {
   "cell_type": "code",
   "execution_count": 5,
   "metadata": {},
   "outputs": [],
   "source": [
    "from nemo_text_processing.inverse_text_normalization.sv.verbalizers.decimal import DecimalFst as vDec"
   ]
  },
  {
   "cell_type": "code",
   "execution_count": 6,
   "metadata": {},
   "outputs": [],
   "source": [
    "v_dec = vDec()"
   ]
  },
  {
   "cell_type": "code",
   "execution_count": 8,
   "metadata": {},
   "outputs": [
    {
     "name": "stderr",
     "output_type": "stream",
     "text": [
      "ERROR: StringFstToOutputLabels: Invalid start state\n"
     ]
    },
    {
     "ename": "FstOpError",
     "evalue": "Operation failed",
     "output_type": "error",
     "traceback": [
      "\u001b[0;31m---------------------------------------------------------------------------\u001b[0m",
      "\u001b[0;31mFstOpError\u001b[0m                                Traceback (most recent call last)",
      "Cell \u001b[0;32mIn[8], line 1\u001b[0m\n\u001b[0;32m----> 1\u001b[0m (\u001b[39m'\u001b[39;49m\u001b[39mdecimal \u001b[39;49m\u001b[39m{\u001b[39;49m\u001b[39m integer_part: \u001b[39;49m\u001b[39m\"\u001b[39;49m\u001b[39m2\u001b[39;49m\u001b[39m\"\u001b[39;49m\u001b[39m quantity: \u001b[39;49m\u001b[39m\"\u001b[39;49m\u001b[39mmiljon\u001b[39;49m\u001b[39m\"\u001b[39;49m\u001b[39m preserve_order: true }\u001b[39;49m\u001b[39m'\u001b[39;49m \u001b[39m@\u001b[39;49m v_dec\u001b[39m.\u001b[39;49mfst)\u001b[39m.\u001b[39;49mstring()\n",
      "File \u001b[0;32mextensions/_pynini.pyx:462\u001b[0m, in \u001b[0;36m_pynini.Fst.string\u001b[0;34m()\u001b[0m\n",
      "File \u001b[0;32mextensions/_pynini.pyx:507\u001b[0m, in \u001b[0;36m_pynini.Fst.string\u001b[0;34m()\u001b[0m\n",
      "\u001b[0;31mFstOpError\u001b[0m: Operation failed"
     ]
    }
   ],
   "source": [
    "('decimal { integer_part: \"2\" quantity: \"miljon\" preserve_order: true }' @ v_dec.fst).string()"
   ]
  },
  {
   "cell_type": "code",
   "execution_count": 9,
   "metadata": {},
   "outputs": [
    {
     "name": "stderr",
     "output_type": "stream",
     "text": [
      "ERROR: StringFstToOutputLabels: Invalid start state\n"
     ]
    },
    {
     "ename": "FstOpError",
     "evalue": "Operation failed",
     "output_type": "error",
     "traceback": [
      "\u001b[0;31m---------------------------------------------------------------------------\u001b[0m",
      "\u001b[0;31mFstOpError\u001b[0m                                Traceback (most recent call last)",
      "Cell \u001b[0;32mIn[9], line 1\u001b[0m\n\u001b[0;32m----> 1\u001b[0m (\u001b[39m'\u001b[39;49m\u001b[39mdecimal \u001b[39;49m\u001b[39m{\u001b[39;49m\u001b[39m integer_part: \u001b[39;49m\u001b[39m\"\u001b[39;49m\u001b[39m2\u001b[39;49m\u001b[39m\"\u001b[39;49m\u001b[39m preserve_order: true }\u001b[39;49m\u001b[39m'\u001b[39;49m \u001b[39m@\u001b[39;49m v_dec\u001b[39m.\u001b[39;49mfst)\u001b[39m.\u001b[39;49mstring()\n",
      "File \u001b[0;32mextensions/_pynini.pyx:462\u001b[0m, in \u001b[0;36m_pynini.Fst.string\u001b[0;34m()\u001b[0m\n",
      "File \u001b[0;32mextensions/_pynini.pyx:507\u001b[0m, in \u001b[0;36m_pynini.Fst.string\u001b[0;34m()\u001b[0m\n",
      "\u001b[0;31mFstOpError\u001b[0m: Operation failed"
     ]
    }
   ],
   "source": [
    "('decimal { integer_part: \"2\" preserve_order: true }' @ v_dec.fst).string()"
   ]
  },
  {
   "cell_type": "code",
   "execution_count": 10,
   "metadata": {},
   "outputs": [
    {
     "data": {
      "text/plain": [
       "'decimal { integer_part: \"1\" fractional_part: \"3\" preserve_order: true }'"
      ]
     },
     "execution_count": 10,
     "metadata": {},
     "output_type": "execute_result"
    }
   ],
   "source": [
    "(\"ett komma tre\" @ dec.fst).string()"
   ]
  },
  {
   "cell_type": "code",
   "execution_count": 11,
   "metadata": {},
   "outputs": [
    {
     "data": {
      "text/plain": [
       "'1,3'"
      ]
     },
     "execution_count": 11,
     "metadata": {},
     "output_type": "execute_result"
    }
   ],
   "source": [
    "('decimal { integer_part: \"1\" fractional_part: \"3\" preserve_order: true }' @ v_dec.fst).string()"
   ]
  },
  {
   "cell_type": "code",
   "execution_count": 14,
   "metadata": {},
   "outputs": [
    {
     "data": {
      "text/plain": [
       "'1,5 miljoner'"
      ]
     },
     "execution_count": 14,
     "metadata": {},
     "output_type": "execute_result"
    }
   ],
   "source": [
    "('decimal { integer_part: \"1\" fractional_part: \"5\" quantity: \"miljoner\" preserve_order: true }' @ v_dec.fst).string()"
   ]
  },
  {
   "cell_type": "code",
   "execution_count": 16,
   "metadata": {},
   "outputs": [
    {
     "name": "stderr",
     "output_type": "stream",
     "text": [
      "ERROR: StringFstToOutputLabels: Invalid start state\n"
     ]
    },
    {
     "ename": "FstOpError",
     "evalue": "Operation failed",
     "output_type": "error",
     "traceback": [
      "\u001b[0;31m---------------------------------------------------------------------------\u001b[0m",
      "\u001b[0;31mFstOpError\u001b[0m                                Traceback (most recent call last)",
      "Cell \u001b[0;32mIn[16], line 1\u001b[0m\n\u001b[0;32m----> 1\u001b[0m (\u001b[39m\"\u001b[39;49m\u001b[39mett komma tre miljon\u001b[39;49m\u001b[39m\"\u001b[39;49m \u001b[39m@\u001b[39;49m dec\u001b[39m.\u001b[39;49mfst)\u001b[39m.\u001b[39;49mstring()\n",
      "File \u001b[0;32mextensions/_pynini.pyx:462\u001b[0m, in \u001b[0;36m_pynini.Fst.string\u001b[0;34m()\u001b[0m\n",
      "File \u001b[0;32mextensions/_pynini.pyx:507\u001b[0m, in \u001b[0;36m_pynini.Fst.string\u001b[0;34m()\u001b[0m\n",
      "\u001b[0;31mFstOpError\u001b[0m: Operation failed"
     ]
    }
   ],
   "source": [
    "(\"ett komma tre miljoner\" @ dec.fst).string()"
   ]
  }
 ],
 "metadata": {
  "kernelspec": {
   "display_name": "nemo_tn",
   "language": "python",
   "name": "python3"
  },
  "language_info": {
   "codemirror_mode": {
    "name": "ipython",
    "version": 3
   },
   "file_extension": ".py",
   "mimetype": "text/x-python",
   "name": "python",
   "nbconvert_exporter": "python",
   "pygments_lexer": "ipython3",
   "version": "3.8.0"
  },
  "orig_nbformat": 4,
  "vscode": {
   "interpreter": {
    "hash": "96c035648930bea69d9b07400b9579b46f611ac79813b1ca90c1f721b4f39cb5"
   }
  }
 },
 "nbformat": 4,
 "nbformat_minor": 2
}
