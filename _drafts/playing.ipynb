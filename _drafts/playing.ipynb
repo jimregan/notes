{
 "cells": [
  {
   "cell_type": "code",
   "execution_count": 1,
   "metadata": {},
   "outputs": [],
   "source": [
    "from nemo_text_processing.text_normalization.sv.taggers.cardinal import CardinalFst as tnCard\n",
    "from nemo_text_processing.inverse_text_normalization.sv.taggers.cardinal import CardinalFst as Card\n",
    "from nemo_text_processing.text_normalization.sv.taggers.decimal import DecimalFst as tnDec\n",
    "from nemo_text_processing.inverse_text_normalization.sv.taggers.decimal import DecimalFst as Dec"
   ]
  },
  {
   "cell_type": "code",
   "execution_count": 2,
   "metadata": {},
   "outputs": [],
   "source": [
    "tn_card = tnCard(False)\n",
    "card = Card(tn_card)\n",
    "tn_dec = tnDec(tn_card, False)\n",
    "dec = Dec(card, tn_dec)"
   ]
  },
  {
   "cell_type": "code",
   "execution_count": 3,
   "metadata": {},
   "outputs": [
    {
     "name": "stderr",
     "output_type": "stream",
     "text": [
      "ERROR: StringFstToOutputLabels: State 56 has multiple outgoing arcs\n"
     ]
    },
    {
     "ename": "FstOpError",
     "evalue": "Operation failed",
     "output_type": "error",
     "traceback": [
      "\u001b[0;31m---------------------------------------------------------------------------\u001b[0m",
      "\u001b[0;31mFstOpError\u001b[0m                                Traceback (most recent call last)",
      "Cell \u001b[0;32mIn[3], line 1\u001b[0m\n\u001b[0;32m----> 1\u001b[0m (\u001b[39m\"\u001b[39;49m\u001b[39men triljon\u001b[39;49m\u001b[39m\"\u001b[39;49m \u001b[39m@\u001b[39;49m dec\u001b[39m.\u001b[39;49mfst)\u001b[39m.\u001b[39;49mstring()\n",
      "File \u001b[0;32mextensions/_pynini.pyx:462\u001b[0m, in \u001b[0;36m_pynini.Fst.string\u001b[0;34m()\u001b[0m\n",
      "File \u001b[0;32mextensions/_pynini.pyx:507\u001b[0m, in \u001b[0;36m_pynini.Fst.string\u001b[0;34m()\u001b[0m\n",
      "\u001b[0;31mFstOpError\u001b[0m: Operation failed"
     ]
    }
   ],
   "source": [
    "(\"en triljon\" @ dec.fst).string()"
   ]
  },
  {
   "cell_type": "code",
   "execution_count": 4,
   "metadata": {},
   "outputs": [
    {
     "data": {
      "text/plain": [
       "'1'"
      ]
     },
     "execution_count": 4,
     "metadata": {},
     "output_type": "execute_result"
    }
   ],
   "source": [
    "(\"en\" @ card.graph_hundred_component_at_least_one_non_zero_digit).string()"
   ]
  },
  {
   "cell_type": "code",
   "execution_count": 5,
   "metadata": {},
   "outputs": [],
   "source": [
    "from nemo_text_processing.inverse_text_normalization.sv.verbalizers.decimal import DecimalFst as vDec"
   ]
  },
  {
   "cell_type": "code",
   "execution_count": 6,
   "metadata": {},
   "outputs": [],
   "source": [
    "v_dec = vDec()"
   ]
  },
  {
   "cell_type": "code",
   "execution_count": 7,
   "metadata": {},
   "outputs": [
    {
     "data": {
      "text/plain": [
       "'2 miljon'"
      ]
     },
     "execution_count": 7,
     "metadata": {},
     "output_type": "execute_result"
    }
   ],
   "source": [
    "('decimal { integer_part: \"2\" quantity: \"miljon\" preserve_order: true }' @ v_dec.fst).string()"
   ]
  },
  {
   "cell_type": "code",
   "execution_count": 8,
   "metadata": {},
   "outputs": [
    {
     "data": {
      "text/plain": [
       "'2'"
      ]
     },
     "execution_count": 8,
     "metadata": {},
     "output_type": "execute_result"
    }
   ],
   "source": [
    "('decimal { integer_part: \"2\" preserve_order: true }' @ v_dec.fst).string()"
   ]
  },
  {
   "cell_type": "code",
   "execution_count": 7,
   "metadata": {},
   "outputs": [
    {
     "data": {
      "text/plain": [
       "'integer_part: \"1\" fractional_part: \"5\"'"
      ]
     },
     "execution_count": 7,
     "metadata": {},
     "output_type": "execute_result"
    }
   ],
   "source": [
    "(\"ett komma fem\" @ dec.final_graph_wo_sign).string()"
   ]
  },
  {
   "cell_type": "code",
   "execution_count": 10,
   "metadata": {},
   "outputs": [
    {
     "data": {
      "text/plain": [
       "'1,3 miljoner'"
      ]
     },
     "execution_count": 10,
     "metadata": {},
     "output_type": "execute_result"
    }
   ],
   "source": [
    "('decimal { integer_part: \"1\" fractional_part: \"3\" quantity: \"miljoner\" preserve_order: true }' @ v_dec.fst).string()"
   ]
  },
  {
   "cell_type": "code",
   "execution_count": 11,
   "metadata": {},
   "outputs": [
    {
     "data": {
      "text/plain": [
       "'1,5 miljoner'"
      ]
     },
     "execution_count": 11,
     "metadata": {},
     "output_type": "execute_result"
    }
   ],
   "source": [
    "('decimal { integer_part: \"1\" fractional_part: \"5\" quantity: \"miljoner\" preserve_order: true }' @ v_dec.fst).string()"
   ]
  },
  {
   "cell_type": "code",
   "execution_count": 31,
   "metadata": {},
   "outputs": [],
   "source": [
    "fail = (\"en komma fem biljoner\" @ dec.fst)"
   ]
  },
  {
   "cell_type": "code",
   "execution_count": 32,
   "metadata": {},
   "outputs": [
    {
     "name": "stdout",
     "output_type": "stream",
     "text": [
      "0\t1\tEPS\td\n",
      "1\t2\tEPS\te\n",
      "2\t3\tEPS\tc\n",
      "3\t4\tEPS\ti\n",
      "4\t5\tEPS\tm\n",
      "5\t6\tEPS\ta\n",
      "6\t7\tEPS\tl\n",
      "7\t8\tEPS\t \n",
      "8\t9\tEPS\t{\n",
      "9\t10\tEPS\t \n",
      "10\t11\tEPS\ti\n",
      "11\t12\tEPS\tn\n",
      "12\t13\tEPS\tt\n",
      "13\t14\tEPS\te\n",
      "14\t15\tEPS\tg\n",
      "15\t16\tEPS\te\n",
      "16\t17\tEPS\tr\n",
      "17\t18\tEPS\t_\n",
      "18\t19\tEPS\tp\n",
      "19\t20\tEPS\ta\n",
      "20\t21\tEPS\tr\n",
      "21\t22\tEPS\tt\n",
      "22\t23\tEPS\t:\n",
      "23\t24\tEPS\t \n",
      "24\t25\tEPS\t\"\n",
      "25\t26\te\t1\n",
      "26\t27\tn\tEPS\n",
      "27\t28\tEPS\t\"\n",
      "28\t29\t \tEPS\n",
      "29\t30\tk\tEPS\n",
      "30\t31\to\tEPS\n",
      "31\t32\tm\tEPS\n",
      "32\t33\tm\tEPS\n",
      "33\t34\ta\tEPS\n",
      "34\t35\t \t \n",
      "35\t36\tEPS\tf\n",
      "36\t37\tEPS\tr\n",
      "37\t38\tEPS\ta\n",
      "38\t39\tEPS\tc\n",
      "39\t40\tEPS\tt\n",
      "40\t41\tEPS\ti\n",
      "41\t42\tEPS\to\n",
      "42\t43\tEPS\tn\n",
      "43\t44\tEPS\ta\n",
      "44\t45\tEPS\tl\n",
      "45\t46\tEPS\t_\n",
      "46\t47\tEPS\tp\n",
      "47\t48\tEPS\ta\n",
      "48\t49\tEPS\tr\n",
      "49\t50\tEPS\tt\n",
      "50\t51\tEPS\t:\n",
      "51\t52\tEPS\t \n",
      "52\t53\tEPS\t\"\n",
      "53\t54\tf\tEPS\n",
      "54\t55\te\tEPS\n",
      "55\t56\tm\tEPS\n",
      "56\t57\tEPS\t5\n",
      "57\t58\tEPS\t\"\n",
      "57\t59\t \tEPS\n",
      "58\t60\t \tEPS\n",
      "59\t61\tb\tEPS\n",
      "60\t62\tEPS\t \n",
      "61\t63\ti\tEPS\n",
      "62\t64\tEPS\tq\n",
      "63\t65\tl\tEPS\n",
      "64\t66\tEPS\tu\n",
      "65\t67\tj\tEPS\n",
      "66\t68\tEPS\ta\n",
      "67\t69\to\tEPS\n",
      "68\t70\tEPS\tn\n",
      "69\t71\tn\tEPS\n",
      "70\t72\tEPS\tt\n",
      "71\t73\te\tEPS\n",
      "72\t74\tEPS\ti\n",
      "73\t75\tr\tEPS\n",
      "74\t76\tEPS\tt\n",
      "75\t77\tEPS\t0\n",
      "76\t78\tEPS\ty\n",
      "77\t79\tEPS\t0\n",
      "78\t80\tEPS\t:\n",
      "79\t81\tEPS\t0\n",
      "80\t82\tEPS\t \n",
      "81\t83\tEPS\t0\n",
      "82\t84\tEPS\t\"\n",
      "83\t85\tEPS\t0\n",
      "84\t86\tb\tEPS\n",
      "85\t87\tEPS\t0\n",
      "86\t88\ti\tEPS\n",
      "87\t89\tEPS\t0\n",
      "88\t90\tl\tEPS\n",
      "89\t91\tEPS\t0\n",
      "90\t92\tj\tEPS\n",
      "91\t93\tEPS\t0\n",
      "92\t94\to\tEPS\n",
      "93\t95\tEPS\t0\n",
      "94\t96\tn\tEPS\n",
      "95\t97\tEPS\t0\n",
      "96\t98\tEPS\tb\n",
      "97\t99\tEPS\t0\n",
      "98\t100\tEPS\ti\n",
      "99\t101\tEPS\t\"\n",
      "100\t102\tEPS\tl\n",
      "101\t103\tEPS\t \n",
      "102\t104\tEPS\tj\n",
      "103\t105\tEPS\tp\n",
      "104\t106\tEPS\to\n",
      "105\t107\tEPS\tr\n",
      "106\t108\tEPS\tn\n",
      "107\t109\tEPS\te\n",
      "108\t110\te\te\n",
      "109\t111\tEPS\ts\n",
      "110\t112\tr\tr\n",
      "111\t113\tEPS\te\n",
      "112\t114\tEPS\t\"\n",
      "113\t115\tEPS\tr\n",
      "114\t116\tEPS\t \n",
      "115\t117\tEPS\tv\n",
      "116\t105\tEPS\tp\n",
      "117\t118\tEPS\te\n",
      "118\t119\tEPS\t_\n",
      "119\t120\tEPS\to\n",
      "120\t121\tEPS\tr\n",
      "121\t122\tEPS\td\n",
      "122\t123\tEPS\te\n",
      "123\t124\tEPS\tr\n",
      "124\t125\tEPS\t:\n",
      "125\t126\tEPS\t \n",
      "126\t127\tEPS\tt\n",
      "127\t128\tEPS\tr\n",
      "128\t129\tEPS\tu\n",
      "129\t130\tEPS\te\n",
      "130\t131\tEPS\t \n",
      "131\t132\tEPS\t}\n"
     ]
    },
    {
     "ename": "IndexError",
     "evalue": "list index out of range",
     "output_type": "error",
     "traceback": [
      "\u001b[0;31m---------------------------------------------------------------------------\u001b[0m",
      "\u001b[0;31mIndexError\u001b[0m                                Traceback (most recent call last)",
      "Cell \u001b[0;32mIn[32], line 3\u001b[0m\n\u001b[1;32m      1\u001b[0m \u001b[39mfor\u001b[39;00m line \u001b[39min\u001b[39;00m fail\u001b[39m.\u001b[39mprint()\u001b[39m.\u001b[39msplit(\u001b[39m\"\u001b[39m\u001b[39m\\n\u001b[39;00m\u001b[39m\"\u001b[39m):\n\u001b[1;32m      2\u001b[0m     parts \u001b[39m=\u001b[39m line\u001b[39m.\u001b[39msplit(\u001b[39m\"\u001b[39m\u001b[39m\\t\u001b[39;00m\u001b[39m\"\u001b[39m)\n\u001b[0;32m----> 3\u001b[0m     parts[\u001b[39m2\u001b[39m] \u001b[39m=\u001b[39m \u001b[39mchr\u001b[39m(\u001b[39mint\u001b[39m(parts[\u001b[39m2\u001b[39m])) \u001b[39mif\u001b[39;00m parts[\u001b[39m2\u001b[39;49m] \u001b[39m!=\u001b[39m \u001b[39m\"\u001b[39m\u001b[39m0\u001b[39m\u001b[39m\"\u001b[39m \u001b[39melse\u001b[39;00m \u001b[39m\"\u001b[39m\u001b[39mEPS\u001b[39m\u001b[39m\"\u001b[39m\n\u001b[1;32m      4\u001b[0m     parts[\u001b[39m3\u001b[39m] \u001b[39m=\u001b[39m \u001b[39mchr\u001b[39m(\u001b[39mint\u001b[39m(parts[\u001b[39m3\u001b[39m])) \u001b[39mif\u001b[39;00m parts[\u001b[39m3\u001b[39m] \u001b[39m!=\u001b[39m \u001b[39m\"\u001b[39m\u001b[39m0\u001b[39m\u001b[39m\"\u001b[39m \u001b[39melse\u001b[39;00m \u001b[39m\"\u001b[39m\u001b[39mEPS\u001b[39m\u001b[39m\"\u001b[39m\n\u001b[1;32m      5\u001b[0m     \u001b[39mprint\u001b[39m(\u001b[39m\"\u001b[39m\u001b[39m\\t\u001b[39;00m\u001b[39m\"\u001b[39m\u001b[39m.\u001b[39mjoin(parts))\n",
      "\u001b[0;31mIndexError\u001b[0m: list index out of range"
     ]
    }
   ],
   "source": [
    "for line in fail.print().split(\"\\n\"):\n",
    "    parts = line.split(\"\\t\")\n",
    "    parts[2] = chr(int(parts[2])) if parts[2] != \"0\" else \"EPS\"\n",
    "    parts[3] = chr(int(parts[3])) if parts[3] != \"0\" else \"EPS\"\n",
    "    print(\"\\t\".join(parts))"
   ]
  },
  {
   "cell_type": "code",
   "execution_count": 27,
   "metadata": {},
   "outputs": [
    {
     "name": "stdout",
     "output_type": "stream",
     "text": [
      "0\t1\t0\t100\n",
      "1\t2\t0\t101\n",
      "2\t3\t0\t99\n",
      "3\t4\t0\t105\n",
      "4\t5\t0\t109\n",
      "5\t6\t0\t97\n",
      "6\t7\t0\t108\n",
      "7\t8\t0\t32\n",
      "8\t9\t0\t123\n",
      "9\t10\t0\t32\n",
      "10\t11\t0\t105\n",
      "11\t12\t0\t110\n",
      "12\t13\t0\t116\n",
      "13\t14\t0\t101\n",
      "14\t15\t0\t103\n",
      "15\t16\t0\t101\n",
      "16\t17\t0\t114\n",
      "17\t18\t0\t95\n",
      "18\t19\t0\t112\n",
      "19\t20\t0\t97\n",
      "20\t21\t0\t114\n",
      "21\t22\t0\t116\n",
      "22\t23\t0\t58\n",
      "23\t24\t0\t32\n",
      "24\t25\t0\t34\n",
      "25\t26\t101\t49\n",
      "26\t27\t110\t0\n",
      "27\t28\t0\t34\n",
      "28\t29\t32\t0\n",
      "29\t30\t107\t0\n",
      "30\t31\t111\t0\n",
      "31\t32\t109\t0\n",
      "32\t33\t109\t0\n",
      "33\t34\t97\t0\n",
      "34\t35\t32\t32\n",
      "35\t36\t0\t102\n",
      "36\t37\t0\t114\n",
      "37\t38\t0\t97\n",
      "38\t39\t0\t99\n",
      "39\t40\t0\t116\n",
      "40\t41\t0\t105\n",
      "41\t42\t0\t111\n",
      "42\t43\t0\t110\n",
      "43\t44\t0\t97\n",
      "44\t45\t0\t108\n",
      "45\t46\t0\t95\n",
      "46\t47\t0\t112\n",
      "47\t48\t0\t97\n",
      "48\t49\t0\t114\n",
      "49\t50\t0\t116\n",
      "50\t51\t0\t58\n",
      "51\t52\t0\t32\n",
      "52\t53\t0\t34\n",
      "53\t54\t102\t0\n",
      "53\t55\t102\t0\t-0.001\n",
      "54\t56\t101\t0\n",
      "55\t57\t101\t0\n",
      "56\t58\t109\t0\n",
      "57\t59\t109\t0\n",
      "58\t60\t0\t53\n",
      "59\t61\t0\t53\n",
      "60\t62\t0\t34\n",
      "61\t63\t32\t0\n",
      "62\t64\t32\t0\n",
      "63\t65\t109\t0\n",
      "64\t66\t0\t32\n",
      "65\t67\t105\t0\n",
      "66\t68\t0\t113\n",
      "67\t69\t108\t0\n",
      "68\t70\t0\t117\n",
      "69\t71\t108\t0\n",
      "70\t72\t0\t97\n",
      "71\t73\t105\t0\n",
      "72\t74\t0\t110\n",
      "73\t75\t111\t0\n",
      "74\t76\t0\t116\n",
      "75\t77\t110\t0\n",
      "76\t78\t0\t105\n",
      "77\t79\t101\t0\n",
      "78\t80\t0\t116\n",
      "79\t81\t114\t0\n",
      "80\t82\t0\t121\n",
      "81\t83\t0\t48\n",
      "82\t84\t0\t58\n",
      "83\t85\t0\t48\n",
      "84\t86\t0\t32\n",
      "85\t87\t0\t48\n",
      "86\t88\t0\t34\n",
      "87\t89\t0\t48\n",
      "88\t90\t109\t0\n",
      "89\t91\t0\t48\n",
      "90\t92\t105\t0\n",
      "91\t93\t0\t48\n",
      "92\t94\t108\t0\n",
      "93\t95\t0\t34\n",
      "94\t96\t108\t0\n",
      "95\t97\t0\t32\n",
      "96\t98\t105\t0\n",
      "97\t99\t0\t112\n",
      "98\t100\t111\t0\n",
      "99\t101\t0\t114\n",
      "100\t102\t110\t0\n",
      "101\t103\t0\t101\n",
      "102\t104\t0\t109\n",
      "103\t105\t0\t115\n",
      "104\t106\t0\t105\n",
      "105\t107\t0\t101\n",
      "106\t108\t0\t108\n",
      "107\t109\t0\t114\n",
      "108\t110\t0\t106\n",
      "109\t111\t0\t118\n",
      "110\t112\t0\t111\n",
      "111\t113\t0\t101\n",
      "112\t114\t0\t110\n",
      "113\t115\t0\t95\n",
      "114\t116\t101\t101\n",
      "115\t117\t0\t111\n",
      "116\t118\t114\t114\n",
      "117\t119\t0\t114\n",
      "118\t120\t0\t34\n",
      "119\t121\t0\t100\n",
      "120\t122\t0\t32\n",
      "121\t123\t0\t101\n",
      "122\t99\t0\t112\n",
      "123\t124\t0\t114\n",
      "124\t125\t0\t58\n",
      "125\t126\t0\t32\n",
      "126\t127\t0\t116\n",
      "127\t128\t0\t114\n",
      "128\t129\t0\t117\n",
      "129\t130\t0\t101\n",
      "130\t131\t0\t32\n",
      "131\t132\t0\t125\n",
      "132\n",
      "\n"
     ]
    }
   ],
   "source": [
    "print(f\"{fail.print()}\")"
   ]
  },
  {
   "cell_type": "code",
   "execution_count": 9,
   "metadata": {},
   "outputs": [
    {
     "data": {
      "text/plain": [
       "'decimal { integer_part: \"21\" fractional_part: \"3\" quantity: \"unvigintiljoner\" preserve_order: true }'"
      ]
     },
     "execution_count": 9,
     "metadata": {},
     "output_type": "execute_result"
    }
   ],
   "source": [
    "(\"tjuett komma tre unvigintillion\" @ dec.fst).string()"
   ]
  },
  {
   "cell_type": "code",
   "execution_count": 47,
   "metadata": {},
   "outputs": [
    {
     "data": {
      "text/plain": [
       "'21'"
      ]
     },
     "execution_count": 47,
     "metadata": {},
     "output_type": "execute_result"
    }
   ],
   "source": [
    "(\"tjuen\" @ card.graph_hundred_component_at_least_one_non_zero_digit).string()"
   ]
  },
  {
   "cell_type": "code",
   "execution_count": 15,
   "metadata": {},
   "outputs": [],
   "source": [
    "from nemo_text_processing.text_normalization.sv.utils import get_abs_path\n",
    "from nemo_text_processing.text_normalization.en.graph_utils import NEMO_SIGMA\n",
    "import pynini\n",
    "quantities = pynini.string_file(get_abs_path(\"data/numbers/millions.tsv\"))\n",
    "quantities_pl = quantities + \"er\"\n",
    "quantities_pl |= quantities @ pynini.cdrewrite(pynini.cross(\"\", \"er\"), \"\", \"[EOS]\", NEMO_SIGMA)\n"
   ]
  },
  {
   "cell_type": "code",
   "execution_count": 20,
   "metadata": {},
   "outputs": [
    {
     "data": {
      "image/svg+xml": [
       "<?xml version=\"1.0\" encoding=\"UTF-8\"?>\n",
       "<svg xmlns=\"http://www.w3.org/2000/svg\" xmlns:xlink=\"http://www.w3.org/1999/xlink\" width=\"612pt\" height=\"28pt\" viewBox=\"0 0 612 28\" version=\"1.1\">\n",
       "<defs>\n",
       "<g>\n",
       "<symbol overflow=\"visible\" id=\"glyph0-0\">\n",
       "<path style=\"stroke:none;\" d=\"M 0.296875 1 L 0.296875 -4 L 3.296875 -4 L 3.296875 1 Z M 0.640625 0 L 2.96875 0 L 2.96875 -3 L 0.640625 -3 Z M 0.640625 0 \"/>\n",
       "</symbol>\n",
       "<symbol overflow=\"visible\" id=\"glyph0-1\">\n",
       "<path style=\"stroke:none;\" d=\"M 1.90625 -1 C 2.207031 -1 2.429688 -1.082031 2.578125 -1.25 C 2.722656 -1.414062 2.796875 -1.664062 2.796875 -2 C 2.796875 -2.332031 2.722656 -2.582031 2.578125 -2.75 C 2.429688 -2.914062 2.207031 -3 1.90625 -3 C 1.601562 -3 1.378906 -2.914062 1.234375 -2.75 C 1.085938 -2.582031 1.015625 -2.332031 1.015625 -2 C 1.015625 -1.664062 1.085938 -1.414062 1.234375 -1.25 C 1.378906 -1.082031 1.601562 -1 1.90625 -1 Z M 1.90625 0 C 1.425781 0 1.050781 -0.171875 0.78125 -0.515625 C 0.519531 -0.867188 0.390625 -1.363281 0.390625 -2 C 0.390625 -2.632812 0.519531 -3.125 0.78125 -3.46875 C 1.050781 -3.820312 1.425781 -4 1.90625 -4 C 2.382812 -4 2.753906 -3.820312 3.015625 -3.46875 C 3.285156 -3.125 3.421875 -2.632812 3.421875 -2 C 3.421875 -1.363281 3.285156 -0.867188 3.015625 -0.515625 C 2.753906 -0.171875 2.382812 0 1.90625 0 Z M 1.90625 0 \"/>\n",
       "</symbol>\n",
       "<symbol overflow=\"visible\" id=\"glyph0-2\">\n",
       "<path style=\"stroke:none;\" d=\"M 0.859375 0 L 0.859375 -1 L 1.609375 -1 L 1.609375 -3.265625 L 0.734375 -2.78125 L 0.734375 -3 L 1.796875 -4 L 2.203125 -4 L 2.203125 -1 L 2.96875 -1 L 2.96875 0 Z M 0.859375 0 \"/>\n",
       "</symbol>\n",
       "<symbol overflow=\"visible\" id=\"glyph0-3\">\n",
       "<path style=\"stroke:none;\" d=\"M 2.8125 -2.0625 C 2.675781 -1.707031 2.523438 -1.441406 2.359375 -1.265625 C 2.191406 -1.085938 2 -1 1.78125 -1 C 1.34375 -1 1 -1.128906 0.75 -1.390625 C 0.5 -1.660156 0.375 -2.03125 0.375 -2.5 C 0.375 -2.957031 0.507812 -3.320312 0.78125 -3.59375 C 1.050781 -3.863281 1.414062 -4 1.875 -4 C 2.363281 -4 2.738281 -3.835938 3 -3.515625 C 3.269531 -3.191406 3.40625 -2.726562 3.40625 -2.125 C 3.40625 -1.445312 3.25 -0.921875 2.9375 -0.546875 C 2.625 -0.179688 2.179688 0 1.609375 0 C 1.460938 0 1.300781 -0.0820312 1.125 -0.25 C 0.957031 -0.414062 0.785156 -0.664062 0.609375 -1 L 0.609375 -2 L 0.9375 -2 C 0.957031 -1.675781 1.03125 -1.425781 1.15625 -1.25 C 1.289062 -1.082031 1.460938 -1 1.671875 -1 C 2.054688 -1 2.335938 -1.082031 2.515625 -1.25 C 2.703125 -1.425781 2.800781 -1.695312 2.8125 -2.0625 Z M 1.859375 -3 C 1.578125 -3 1.363281 -2.953125 1.21875 -2.859375 C 1.070312 -2.773438 1 -2.65625 1 -2.5 C 1 -2.34375 1.070312 -2.21875 1.21875 -2.125 C 1.363281 -2.039062 1.578125 -2 1.859375 -2 C 2.140625 -2 2.351562 -2.039062 2.5 -2.125 C 2.644531 -2.207031 2.71875 -2.328125 2.71875 -2.484375 C 2.71875 -2.648438 2.640625 -2.773438 2.484375 -2.859375 C 2.335938 -2.953125 2.128906 -3 1.859375 -3 Z M 1.859375 -3 \"/>\n",
       "</symbol>\n",
       "<symbol overflow=\"visible\" id=\"glyph0-4\">\n",
       "<path style=\"stroke:none;\" d=\"M 0.625 -0.5 C 0.625 -0.632812 0.660156 -0.75 0.734375 -0.84375 C 0.804688 -0.945312 0.898438 -1 1.015625 -1 C 1.128906 -1 1.222656 -0.945312 1.296875 -0.84375 C 1.367188 -0.75 1.40625 -0.632812 1.40625 -0.5 C 1.40625 -0.351562 1.367188 -0.234375 1.296875 -0.140625 C 1.222656 -0.046875 1.128906 0 1.015625 0 C 0.898438 0 0.804688 -0.046875 0.734375 -0.140625 C 0.660156 -0.234375 0.625 -0.351562 0.625 -0.5 Z M 0.625 -2.5 C 0.625 -2.632812 0.660156 -2.75 0.734375 -2.84375 C 0.804688 -2.945312 0.898438 -3 1.015625 -3 C 1.128906 -3 1.222656 -2.953125 1.296875 -2.859375 C 1.367188 -2.765625 1.40625 -2.644531 1.40625 -2.5 C 1.40625 -2.351562 1.367188 -2.234375 1.296875 -2.140625 C 1.222656 -2.046875 1.128906 -2 1.015625 -2 C 0.898438 -2 0.804688 -2.046875 0.734375 -2.140625 C 0.660156 -2.242188 0.625 -2.363281 0.625 -2.5 Z M 0.625 -2.5 \"/>\n",
       "</symbol>\n",
       "<symbol overflow=\"visible\" id=\"glyph0-5\">\n",
       "<path style=\"stroke:none;\" d=\"M 0.765625 -2 L 0.4375 -2 L 0.4375 -3 C 0.644531 -3.320312 0.851562 -3.566406 1.0625 -3.734375 C 1.28125 -3.910156 1.488281 -4 1.6875 -4 C 2.144531 -4 2.503906 -3.921875 2.765625 -3.765625 C 3.035156 -3.609375 3.171875 -3.398438 3.171875 -3.140625 C 3.171875 -2.835938 2.875 -2.484375 2.28125 -2.078125 C 2.226562 -2.046875 2.191406 -2.019531 2.171875 -2 L 1.0625 -1 L 2.890625 -1 L 2.890625 -2 L 3.234375 -2 L 3.234375 0 L 0.40625 0 L 0.40625 -0.390625 L 1.734375 -2 C 2.023438 -2.113281 2.234375 -2.21875 2.359375 -2.3125 C 2.484375 -2.414062 2.546875 -2.519531 2.546875 -2.625 C 2.546875 -2.738281 2.46875 -2.828125 2.3125 -2.890625 C 2.164062 -2.960938 1.957031 -3 1.6875 -3 C 1.40625 -3 1.1875 -2.914062 1.03125 -2.75 C 0.882812 -2.582031 0.796875 -2.332031 0.765625 -2 Z M 0.765625 -2 \"/>\n",
       "</symbol>\n",
       "<symbol overflow=\"visible\" id=\"glyph0-6\">\n",
       "<path style=\"stroke:none;\" d=\"M 3.015625 -4 L 3.015625 -3 L 1.015625 -3 L 1.015625 -2.265625 C 1.117188 -2.503906 1.238281 -2.6875 1.375 -2.8125 C 1.507812 -2.9375 1.660156 -3 1.828125 -3 C 2.296875 -3 2.664062 -2.863281 2.9375 -2.59375 C 3.21875 -2.332031 3.359375 -1.96875 3.359375 -1.5 C 3.359375 -1.03125 3.21875 -0.660156 2.9375 -0.390625 C 2.664062 -0.128906 2.28125 0 1.78125 0 C 1.582031 0 1.375 -0.0820312 1.15625 -0.25 C 0.945312 -0.414062 0.734375 -0.664062 0.515625 -1 L 0.515625 -2 L 0.84375 -2 C 0.863281 -1.675781 0.953125 -1.425781 1.109375 -1.25 C 1.265625 -1.082031 1.488281 -1 1.78125 -1 C 2.082031 -1 2.316406 -1.039062 2.484375 -1.125 C 2.648438 -1.21875 2.734375 -1.34375 2.734375 -1.5 C 2.734375 -1.664062 2.648438 -1.789062 2.484375 -1.875 C 2.316406 -1.957031 2.082031 -2 1.78125 -2 C 1.601562 -2 1.445312 -2 1.3125 -2 C 1.175781 -2 1.054688 -2 0.953125 -2 L 0.703125 -2 L 0.703125 -4 Z M 3.015625 -4 \"/>\n",
       "</symbol>\n",
       "<symbol overflow=\"visible\" id=\"glyph0-7\">\n",
       "<path style=\"stroke:none;\" d=\"M 0.578125 -3 C 0.804688 -3.320312 1.023438 -3.566406 1.234375 -3.734375 C 1.441406 -3.910156 1.640625 -4 1.828125 -4 C 2.253906 -4 2.585938 -3.929688 2.828125 -3.796875 C 3.066406 -3.671875 3.1875 -3.492188 3.1875 -3.265625 C 3.1875 -3.085938 3.101562 -2.9375 2.9375 -2.8125 C 2.769531 -2.6875 2.535156 -2.601562 2.234375 -2.5625 C 2.597656 -2.507812 2.878906 -2.375 3.078125 -2.15625 C 3.273438 -1.9375 3.375 -1.65625 3.375 -1.3125 C 3.375 -0.882812 3.234375 -0.554688 2.953125 -0.328125 C 2.679688 -0.109375 2.289062 0 1.78125 0 C 1.550781 0 1.328125 -0.0820312 1.109375 -0.25 C 0.890625 -0.414062 0.671875 -0.664062 0.453125 -1 L 0.453125 -2 L 0.78125 -2 C 0.800781 -1.664062 0.894531 -1.414062 1.0625 -1.25 C 1.238281 -1.082031 1.476562 -1 1.78125 -1 C 2.082031 -1 2.316406 -1.039062 2.484375 -1.125 C 2.660156 -1.207031 2.75 -1.328125 2.75 -1.484375 C 2.75 -1.648438 2.660156 -1.773438 2.484375 -1.859375 C 2.304688 -1.953125 2.046875 -2 1.703125 -2 L 1.421875 -2 L 1.421875 -3 L 1.578125 -3 C 1.921875 -3 2.175781 -3 2.34375 -3 C 2.507812 -3 2.59375 -3 2.59375 -3 C 2.59375 -3 2.519531 -3 2.375 -3 C 2.238281 -3 2.039062 -3 1.78125 -3 C 1.507812 -3 1.300781 -2.914062 1.15625 -2.75 C 1.007812 -2.582031 0.925781 -2.332031 0.90625 -2 L 0.578125 -2 Z M 0.578125 -3 \"/>\n",
       "</symbol>\n",
       "<symbol overflow=\"visible\" id=\"glyph0-8\">\n",
       "<path style=\"stroke:none;\" d=\"M 2.796875 -1.5 C 2.796875 -1.65625 2.71875 -1.773438 2.5625 -1.859375 C 2.40625 -1.953125 2.1875 -2 1.90625 -2 C 1.625 -2 1.40625 -1.953125 1.25 -1.859375 C 1.09375 -1.773438 1.015625 -1.65625 1.015625 -1.5 C 1.015625 -1.34375 1.09375 -1.21875 1.25 -1.125 C 1.40625 -1.039062 1.625 -1 1.90625 -1 C 2.1875 -1 2.40625 -1.039062 2.5625 -1.125 C 2.71875 -1.21875 2.796875 -1.34375 2.796875 -1.5 Z M 2.671875 -3 C 2.671875 -3 2.601562 -3 2.46875 -3 C 2.332031 -3 2.144531 -3 1.90625 -3 C 1.664062 -3 1.476562 -3 1.34375 -3 C 1.207031 -3 1.140625 -3 1.140625 -3 C 1.140625 -3 1.207031 -3 1.34375 -3 C 1.476562 -3 1.664062 -3 1.90625 -3 C 2.144531 -3 2.332031 -3 2.46875 -3 C 2.601562 -3 2.671875 -3 2.671875 -3 Z M 2.359375 -2.5 C 2.691406 -2.457031 2.945312 -2.332031 3.125 -2.125 C 3.3125 -1.914062 3.40625 -1.648438 3.40625 -1.328125 C 3.40625 -0.898438 3.273438 -0.570312 3.015625 -0.34375 C 2.753906 -0.113281 2.382812 0 1.90625 0 C 1.425781 0 1.054688 -0.113281 0.796875 -0.34375 C 0.535156 -0.570312 0.40625 -0.898438 0.40625 -1.328125 C 0.40625 -1.648438 0.492188 -1.914062 0.671875 -2.125 C 0.859375 -2.332031 1.117188 -2.457031 1.453125 -2.5 C 1.160156 -2.539062 0.9375 -2.617188 0.78125 -2.734375 C 0.625 -2.859375 0.546875 -3.015625 0.546875 -3.203125 C 0.546875 -3.453125 0.664062 -3.644531 0.90625 -3.78125 C 1.144531 -3.925781 1.476562 -4 1.90625 -4 C 2.332031 -4 2.664062 -3.925781 2.90625 -3.78125 C 3.144531 -3.644531 3.265625 -3.453125 3.265625 -3.203125 C 3.265625 -3.015625 3.1875 -2.859375 3.03125 -2.734375 C 2.875 -2.617188 2.648438 -2.539062 2.359375 -2.5 Z M 2.359375 -2.5 \"/>\n",
       "</symbol>\n",
       "<symbol overflow=\"visible\" id=\"glyph0-9\">\n",
       "<path style=\"stroke:none;\" d=\"M 2.09375 -3 L 2.09375 -3.78125 L 0.59375 -3 Z M 3.390625 0 L 1.390625 0 L 1.390625 -1 L 2.09375 -1 L 2.09375 -2 L 0.1875 -2 L 0.1875 -2.1875 L 2.109375 -4 L 2.6875 -4 L 2.6875 -3 L 3.515625 -3 L 3.515625 -2 L 2.6875 -2 L 2.6875 -1 L 3.390625 -1 Z M 3.390625 0 \"/>\n",
       "</symbol>\n",
       "<symbol overflow=\"visible\" id=\"glyph0-10\">\n",
       "<path style=\"stroke:none;\" d=\"M 1.96875 -1 C 2.238281 -1 2.445312 -1.039062 2.59375 -1.125 C 2.75 -1.21875 2.828125 -1.34375 2.828125 -1.5 C 2.828125 -1.65625 2.75 -1.773438 2.59375 -1.859375 C 2.445312 -1.953125 2.238281 -2 1.96875 -2 C 1.6875 -2 1.472656 -1.957031 1.328125 -1.875 C 1.179688 -1.789062 1.109375 -1.671875 1.109375 -1.515625 C 1.109375 -1.347656 1.179688 -1.21875 1.328125 -1.125 C 1.484375 -1.039062 1.695312 -1 1.96875 -1 Z M 1.015625 -1.9375 C 1.148438 -2.289062 1.300781 -2.554688 1.46875 -2.734375 C 1.632812 -2.910156 1.820312 -3 2.03125 -3 C 2.46875 -3 2.8125 -2.863281 3.0625 -2.59375 C 3.3125 -2.332031 3.4375 -1.96875 3.4375 -1.5 C 3.4375 -1.039062 3.300781 -0.675781 3.03125 -0.40625 C 2.757812 -0.132812 2.394531 0 1.9375 0 C 1.445312 0 1.066406 -0.160156 0.796875 -0.484375 C 0.535156 -0.804688 0.40625 -1.269531 0.40625 -1.875 C 0.40625 -2.550781 0.5625 -3.070312 0.875 -3.4375 C 1.1875 -3.8125 1.628906 -4 2.203125 -4 C 2.359375 -4 2.519531 -3.914062 2.6875 -3.75 C 2.863281 -3.582031 3.039062 -3.332031 3.21875 -3 L 3.21875 -2 L 2.875 -2 C 2.851562 -2.320312 2.78125 -2.566406 2.65625 -2.734375 C 2.53125 -2.910156 2.359375 -3 2.140625 -3 C 1.765625 -3 1.484375 -2.910156 1.296875 -2.734375 C 1.109375 -2.566406 1.015625 -2.300781 1.015625 -1.9375 Z M 1.015625 -1.9375 \"/>\n",
       "</symbol>\n",
       "<symbol overflow=\"visible\" id=\"glyph0-11\">\n",
       "<path style=\"stroke:none;\" d=\"M 3.390625 -3.734375 L 1.671875 0 L 1.234375 0 L 2.875 -3 L 0.84375 -3 L 0.84375 -2.578125 L 0.5 -2.578125 L 0.5 -4 L 3.390625 -4 Z M 3.390625 -3.734375 \"/>\n",
       "</symbol>\n",
       "</g>\n",
       "<clipPath id=\"clip1\">\n",
       "  <path d=\"M 0 0 L 612 0 L 612 27.582031 L 0 27.582031 Z M 0 0 \"/>\n",
       "</clipPath>\n",
       "<clipPath id=\"clip2\">\n",
       "  <path d=\"M 0 0 L 31 0 L 31 27.582031 L 0 27.582031 Z M 0 0 \"/>\n",
       "</clipPath>\n",
       "<clipPath id=\"clip3\">\n",
       "  <path d=\"M 43 0 L 73 0 L 73 27.582031 L 43 27.582031 Z M 43 0 \"/>\n",
       "</clipPath>\n",
       "<clipPath id=\"clip4\">\n",
       "  <path d=\"M 91 0 L 121 0 L 121 27.582031 L 91 27.582031 Z M 91 0 \"/>\n",
       "</clipPath>\n",
       "<clipPath id=\"clip5\">\n",
       "  <path d=\"M 139 0 L 169 0 L 169 27.582031 L 139 27.582031 Z M 139 0 \"/>\n",
       "</clipPath>\n",
       "<clipPath id=\"clip6\">\n",
       "  <path d=\"M 187 0 L 217 0 L 217 27.582031 L 187 27.582031 Z M 187 0 \"/>\n",
       "</clipPath>\n",
       "<clipPath id=\"clip7\">\n",
       "  <path d=\"M 235 0 L 265 0 L 265 27.582031 L 235 27.582031 Z M 235 0 \"/>\n",
       "</clipPath>\n",
       "<clipPath id=\"clip8\">\n",
       "  <path d=\"M 283 0 L 313 0 L 313 27.582031 L 283 27.582031 Z M 283 0 \"/>\n",
       "</clipPath>\n",
       "<clipPath id=\"clip9\">\n",
       "  <path d=\"M 331 0 L 361 0 L 361 27.582031 L 331 27.582031 Z M 331 0 \"/>\n",
       "</clipPath>\n",
       "<clipPath id=\"clip10\">\n",
       "  <path d=\"M 379 0 L 409 0 L 409 27.582031 L 379 27.582031 Z M 379 0 \"/>\n",
       "</clipPath>\n",
       "<clipPath id=\"clip11\">\n",
       "  <path d=\"M 427 0 L 457 0 L 457 27.582031 L 427 27.582031 Z M 427 0 \"/>\n",
       "</clipPath>\n",
       "<clipPath id=\"clip12\">\n",
       "  <path d=\"M 475 0 L 509 0 L 509 27.582031 L 475 27.582031 Z M 475 0 \"/>\n",
       "</clipPath>\n",
       "<clipPath id=\"clip13\">\n",
       "  <path d=\"M 527 0 L 561 0 L 561 27.582031 L 527 27.582031 Z M 527 0 \"/>\n",
       "</clipPath>\n",
       "<clipPath id=\"clip14\">\n",
       "  <path d=\"M 581 0 L 612 0 L 612 27.582031 L 581 27.582031 Z M 581 0 \"/>\n",
       "</clipPath>\n",
       "<clipPath id=\"clip15\">\n",
       "  <path d=\"M 579 0 L 612 0 L 612 27.582031 L 579 27.582031 Z M 579 0 \"/>\n",
       "</clipPath>\n",
       "</defs>\n",
       "<g id=\"surface1\">\n",
       "<g clip-path=\"url(#clip1)\" clip-rule=\"nonzero\">\n",
       "<path style=\" stroke:none;fill-rule:nonzero;fill:rgb(100%,100%,100%);fill-opacity:1;\" d=\"M 0 27.582031 L 0 0 L 612 0 L 612 27.582031 Z M 0 27.582031 \"/>\n",
       "</g>\n",
       "<g clip-path=\"url(#clip2)\" clip-rule=\"nonzero\">\n",
       "<path style=\"fill:none;stroke-width:2;stroke-linecap:butt;stroke-linejoin:miter;stroke:rgb(0%,0%,0%);stroke-opacity:1;stroke-miterlimit:10;\" d=\"M 36.001359 -26.743776 C 36.001359 -16.806578 27.945348 -8.750567 17.999441 -8.750567 C 8.062243 -8.750567 -0.00247689 -16.806578 -0.00247689 -26.743776 C -0.00247689 -36.689683 8.062243 -44.745693 17.999441 -44.745693 C 27.945348 -44.745693 36.001359 -36.689683 36.001359 -26.743776 \" transform=\"matrix(0.44852,0,0,0.44852,1.79408,25.788085)\"/>\n",
       "</g>\n",
       "<g style=\"fill:rgb(0%,0%,0%);fill-opacity:1;\">\n",
       "  <use xlink:href=\"#glyph0-1\" x=\"7.625\" y=\"15.44955\"/>\n",
       "</g>\n",
       "<g clip-path=\"url(#clip3)\" clip-rule=\"nonzero\">\n",
       "<path style=\"fill:none;stroke-width:1;stroke-linecap:butt;stroke-linejoin:miter;stroke:rgb(0%,0%,0%);stroke-opacity:1;stroke-miterlimit:10;\" d=\"M 143.002598 -26.743776 C 143.002598 -16.806578 134.937878 -8.750567 125.000681 -8.750567 C 115.054773 -8.750567 106.998763 -16.806578 106.998763 -26.743776 C 106.998763 -36.689683 115.054773 -44.745693 125.000681 -44.745693 C 134.937878 -44.745693 143.002598 -36.689683 143.002598 -26.743776 \" transform=\"matrix(0.44852,0,0,0.44852,1.79408,25.788085)\"/>\n",
       "</g>\n",
       "<g style=\"fill:rgb(0%,0%,0%);fill-opacity:1;\">\n",
       "  <use xlink:href=\"#glyph0-2\" x=\"55.617187\" y=\"15.44955\"/>\n",
       "</g>\n",
       "<path style=\"fill:none;stroke-width:1;stroke-linecap:butt;stroke-linejoin:miter;stroke:rgb(0%,0%,0%);stroke-opacity:1;stroke-miterlimit:10;\" d=\"M 36.149415 -26.743776 C 52.679478 -26.743776 77.343934 -26.743776 96.495467 -26.743776 \" transform=\"matrix(0.44852,0,0,0.44852,1.79408,25.788085)\"/>\n",
       "<path style=\"fill-rule:nonzero;fill:rgb(0%,0%,0%);fill-opacity:1;stroke-width:1;stroke-linecap:butt;stroke-linejoin:miter;stroke:rgb(0%,0%,0%);stroke-opacity:1;stroke-miterlimit:10;\" d=\"M 96.756743 -30.244874 L 106.763614 -26.743776 L 96.756743 -23.251386 Z M 96.756743 -30.244874 \" transform=\"matrix(0.44852,0,0,0.44852,1.79408,25.788085)\"/>\n",
       "<g style=\"fill:rgb(0%,0%,0%);fill-opacity:1;\">\n",
       "  <use xlink:href=\"#glyph0-2\" x=\"24.667969\" y=\"12.086269\"/>\n",
       "  <use xlink:href=\"#glyph0-1\" x=\"28.704648\" y=\"12.086269\"/>\n",
       "  <use xlink:href=\"#glyph0-3\" x=\"32.741327\" y=\"12.086269\"/>\n",
       "  <use xlink:href=\"#glyph0-4\" x=\"36.778007\" y=\"12.086269\"/>\n",
       "  <use xlink:href=\"#glyph0-1\" x=\"38.796346\" y=\"12.086269\"/>\n",
       "</g>\n",
       "<g clip-path=\"url(#clip4)\" clip-rule=\"nonzero\">\n",
       "<path style=\"fill:none;stroke-width:1;stroke-linecap:butt;stroke-linejoin:miter;stroke:rgb(0%,0%,0%);stroke-opacity:1;stroke-miterlimit:10;\" d=\"M 250.003838 -26.743776 C 250.003838 -16.806578 241.939118 -8.750567 232.00192 -8.750567 C 222.056013 -8.750567 214.000002 -16.806578 214.000002 -26.743776 C 214.000002 -36.689683 222.056013 -44.745693 232.00192 -44.745693 C 241.939118 -44.745693 250.003838 -36.689683 250.003838 -26.743776 \" transform=\"matrix(0.44852,0,0,0.44852,1.79408,25.788085)\"/>\n",
       "</g>\n",
       "<g style=\"fill:rgb(0%,0%,0%);fill-opacity:1;\">\n",
       "  <use xlink:href=\"#glyph0-5\" x=\"103.609375\" y=\"15.44955\"/>\n",
       "</g>\n",
       "<path style=\"fill:none;stroke-width:1;stroke-linecap:butt;stroke-linejoin:miter;stroke:rgb(0%,0%,0%);stroke-opacity:1;stroke-miterlimit:10;\" d=\"M 143.150655 -26.743776 C 159.672008 -26.743776 184.345174 -26.743776 203.496706 -26.743776 \" transform=\"matrix(0.44852,0,0,0.44852,1.79408,25.788085)\"/>\n",
       "<path style=\"fill-rule:nonzero;fill:rgb(0%,0%,0%);fill-opacity:1;stroke-width:1;stroke-linecap:butt;stroke-linejoin:miter;stroke:rgb(0%,0%,0%);stroke-opacity:1;stroke-miterlimit:10;\" d=\"M 203.757982 -30.244874 L 213.756145 -26.743776 L 203.757982 -23.251386 Z M 203.757982 -30.244874 \" transform=\"matrix(0.44852,0,0,0.44852,1.79408,25.788085)\"/>\n",
       "<g style=\"fill:rgb(0%,0%,0%);fill-opacity:1;\">\n",
       "  <use xlink:href=\"#glyph0-2\" x=\"72.660156\" y=\"12.086269\"/>\n",
       "  <use xlink:href=\"#glyph0-1\" x=\"76.696836\" y=\"12.086269\"/>\n",
       "  <use xlink:href=\"#glyph0-6\" x=\"80.733515\" y=\"12.086269\"/>\n",
       "  <use xlink:href=\"#glyph0-4\" x=\"84.770194\" y=\"12.086269\"/>\n",
       "  <use xlink:href=\"#glyph0-1\" x=\"86.788534\" y=\"12.086269\"/>\n",
       "</g>\n",
       "<g clip-path=\"url(#clip5)\" clip-rule=\"nonzero\">\n",
       "<path style=\"fill:none;stroke-width:1;stroke-linecap:butt;stroke-linejoin:miter;stroke:rgb(0%,0%,0%);stroke-opacity:1;stroke-miterlimit:10;\" d=\"M 356.996368 -26.743776 C 356.996368 -16.806578 348.940358 -8.750567 339.00316 -8.750567 C 329.057253 -8.750567 321.001242 -16.806578 321.001242 -26.743776 C 321.001242 -36.689683 329.057253 -44.745693 339.00316 -44.745693 C 348.940358 -44.745693 356.996368 -36.689683 356.996368 -26.743776 \" transform=\"matrix(0.44852,0,0,0.44852,1.79408,25.788085)\"/>\n",
       "</g>\n",
       "<g style=\"fill:rgb(0%,0%,0%);fill-opacity:1;\">\n",
       "  <use xlink:href=\"#glyph0-7\" x=\"151.601562\" y=\"15.44955\"/>\n",
       "</g>\n",
       "<path style=\"fill:none;stroke-width:1;stroke-linecap:butt;stroke-linejoin:miter;stroke:rgb(0%,0%,0%);stroke-opacity:1;stroke-miterlimit:10;\" d=\"M 250.151894 -26.743776 C 266.673248 -26.743776 291.346414 -26.743776 310.497946 -26.743776 \" transform=\"matrix(0.44852,0,0,0.44852,1.79408,25.788085)\"/>\n",
       "<path style=\"fill-rule:nonzero;fill:rgb(0%,0%,0%);fill-opacity:1;stroke-width:1;stroke-linecap:butt;stroke-linejoin:miter;stroke:rgb(0%,0%,0%);stroke-opacity:1;stroke-miterlimit:10;\" d=\"M 310.759222 -30.244874 L 320.757384 -26.743776 L 310.759222 -23.251386 Z M 310.759222 -30.244874 \" transform=\"matrix(0.44852,0,0,0.44852,1.79408,25.788085)\"/>\n",
       "<g style=\"fill:rgb(0%,0%,0%);fill-opacity:1;\">\n",
       "  <use xlink:href=\"#glyph0-2\" x=\"120.652344\" y=\"12.086269\"/>\n",
       "  <use xlink:href=\"#glyph0-1\" x=\"124.689023\" y=\"12.086269\"/>\n",
       "  <use xlink:href=\"#glyph0-8\" x=\"128.725702\" y=\"12.086269\"/>\n",
       "  <use xlink:href=\"#glyph0-4\" x=\"132.762382\" y=\"12.086269\"/>\n",
       "  <use xlink:href=\"#glyph0-1\" x=\"134.780721\" y=\"12.086269\"/>\n",
       "</g>\n",
       "<g clip-path=\"url(#clip6)\" clip-rule=\"nonzero\">\n",
       "<path style=\"fill:none;stroke-width:1;stroke-linecap:butt;stroke-linejoin:miter;stroke:rgb(0%,0%,0%);stroke-opacity:1;stroke-miterlimit:10;\" d=\"M 463.997608 -26.743776 C 463.997608 -16.806578 455.941597 -8.750567 445.99569 -8.750567 C 436.058492 -8.750567 428.002481 -16.806578 428.002481 -26.743776 C 428.002481 -36.689683 436.058492 -44.745693 445.99569 -44.745693 C 455.941597 -44.745693 463.997608 -36.689683 463.997608 -26.743776 \" transform=\"matrix(0.44852,0,0,0.44852,1.79408,25.788085)\"/>\n",
       "</g>\n",
       "<g style=\"fill:rgb(0%,0%,0%);fill-opacity:1;\">\n",
       "  <use xlink:href=\"#glyph0-9\" x=\"199.589844\" y=\"15.44955\"/>\n",
       "</g>\n",
       "<path style=\"fill:none;stroke-width:1;stroke-linecap:butt;stroke-linejoin:miter;stroke:rgb(0%,0%,0%);stroke-opacity:1;stroke-miterlimit:10;\" d=\"M 357.153134 -26.743776 C 373.674488 -26.743776 398.347653 -26.743776 417.499185 -26.743776 \" transform=\"matrix(0.44852,0,0,0.44852,1.79408,25.788085)\"/>\n",
       "<path style=\"fill-rule:nonzero;fill:rgb(0%,0%,0%);fill-opacity:1;stroke-width:1;stroke-linecap:butt;stroke-linejoin:miter;stroke:rgb(0%,0%,0%);stroke-opacity:1;stroke-miterlimit:10;\" d=\"M 417.760461 -30.244874 L 427.758624 -26.743776 L 417.760461 -23.251386 Z M 417.760461 -30.244874 \" transform=\"matrix(0.44852,0,0,0.44852,1.79408,25.788085)\"/>\n",
       "<g style=\"fill:rgb(0%,0%,0%);fill-opacity:1;\">\n",
       "  <use xlink:href=\"#glyph0-2\" x=\"168.644531\" y=\"12.086269\"/>\n",
       "  <use xlink:href=\"#glyph0-1\" x=\"172.681211\" y=\"12.086269\"/>\n",
       "  <use xlink:href=\"#glyph0-10\" x=\"176.71789\" y=\"12.086269\"/>\n",
       "  <use xlink:href=\"#glyph0-4\" x=\"180.754569\" y=\"12.086269\"/>\n",
       "  <use xlink:href=\"#glyph0-1\" x=\"182.772909\" y=\"12.086269\"/>\n",
       "</g>\n",
       "<g clip-path=\"url(#clip7)\" clip-rule=\"nonzero\">\n",
       "<path style=\"fill:none;stroke-width:1;stroke-linecap:butt;stroke-linejoin:miter;stroke:rgb(0%,0%,0%);stroke-opacity:1;stroke-miterlimit:10;\" d=\"M 570.998847 -26.743776 C 570.998847 -16.806578 562.942837 -8.750567 552.99693 -8.750567 C 543.059732 -8.750567 535.003721 -16.806578 535.003721 -26.743776 C 535.003721 -36.689683 543.059732 -44.745693 552.99693 -44.745693 C 562.942837 -44.745693 570.998847 -36.689683 570.998847 -26.743776 \" transform=\"matrix(0.44852,0,0,0.44852,1.79408,25.788085)\"/>\n",
       "</g>\n",
       "<g style=\"fill:rgb(0%,0%,0%);fill-opacity:1;\">\n",
       "  <use xlink:href=\"#glyph0-6\" x=\"247.582031\" y=\"15.44955\"/>\n",
       "</g>\n",
       "<path style=\"fill:none;stroke-width:1;stroke-linecap:butt;stroke-linejoin:miter;stroke:rgb(0%,0%,0%);stroke-opacity:1;stroke-miterlimit:10;\" d=\"M 464.154373 -26.743776 C 480.675727 -26.743776 505.340184 -26.743776 524.500425 -26.743776 \" transform=\"matrix(0.44852,0,0,0.44852,1.79408,25.788085)\"/>\n",
       "<path style=\"fill-rule:nonzero;fill:rgb(0%,0%,0%);fill-opacity:1;stroke-width:1;stroke-linecap:butt;stroke-linejoin:miter;stroke:rgb(0%,0%,0%);stroke-opacity:1;stroke-miterlimit:10;\" d=\"M 524.761701 -30.244874 L 534.759863 -26.743776 L 524.761701 -23.251386 Z M 524.761701 -30.244874 \" transform=\"matrix(0.44852,0,0,0.44852,1.79408,25.788085)\"/>\n",
       "<g style=\"fill:rgb(0%,0%,0%);fill-opacity:1;\">\n",
       "  <use xlink:href=\"#glyph0-2\" x=\"216.636719\" y=\"12.086269\"/>\n",
       "  <use xlink:href=\"#glyph0-2\" x=\"220.673398\" y=\"12.086269\"/>\n",
       "  <use xlink:href=\"#glyph0-2\" x=\"224.710077\" y=\"12.086269\"/>\n",
       "  <use xlink:href=\"#glyph0-4\" x=\"228.746757\" y=\"12.086269\"/>\n",
       "  <use xlink:href=\"#glyph0-1\" x=\"230.765096\" y=\"12.086269\"/>\n",
       "</g>\n",
       "<g clip-path=\"url(#clip8)\" clip-rule=\"nonzero\">\n",
       "<path style=\"fill:none;stroke-width:1;stroke-linecap:butt;stroke-linejoin:miter;stroke:rgb(0%,0%,0%);stroke-opacity:1;stroke-miterlimit:10;\" d=\"M 678.000087 -26.743776 C 678.000087 -16.806578 669.944076 -8.750567 659.998169 -8.750567 C 650.060971 -8.750567 641.996251 -16.806578 641.996251 -26.743776 C 641.996251 -36.689683 650.060971 -44.745693 659.998169 -44.745693 C 669.944076 -44.745693 678.000087 -36.689683 678.000087 -26.743776 \" transform=\"matrix(0.44852,0,0,0.44852,1.79408,25.788085)\"/>\n",
       "</g>\n",
       "<g style=\"fill:rgb(0%,0%,0%);fill-opacity:1;\">\n",
       "  <use xlink:href=\"#glyph0-10\" x=\"295.574219\" y=\"15.44955\"/>\n",
       "</g>\n",
       "<path style=\"fill:none;stroke-width:1;stroke-linecap:butt;stroke-linejoin:miter;stroke:rgb(0%,0%,0%);stroke-opacity:1;stroke-miterlimit:10;\" d=\"M 571.146904 -26.743776 C 587.676967 -26.743776 612.341423 -26.743776 631.501665 -26.743776 \" transform=\"matrix(0.44852,0,0,0.44852,1.79408,25.788085)\"/>\n",
       "<path style=\"fill-rule:nonzero;fill:rgb(0%,0%,0%);fill-opacity:1;stroke-width:1;stroke-linecap:butt;stroke-linejoin:miter;stroke:rgb(0%,0%,0%);stroke-opacity:1;stroke-miterlimit:10;\" d=\"M 631.762941 -30.244874 L 641.761103 -26.743776 L 631.762941 -23.251386 Z M 631.762941 -30.244874 \" transform=\"matrix(0.44852,0,0,0.44852,1.79408,25.788085)\"/>\n",
       "<g style=\"fill:rgb(0%,0%,0%);fill-opacity:1;\">\n",
       "  <use xlink:href=\"#glyph0-2\" x=\"264.625\" y=\"12.086269\"/>\n",
       "  <use xlink:href=\"#glyph0-2\" x=\"268.661679\" y=\"12.086269\"/>\n",
       "  <use xlink:href=\"#glyph0-1\" x=\"272.698359\" y=\"12.086269\"/>\n",
       "  <use xlink:href=\"#glyph0-4\" x=\"276.735038\" y=\"12.086269\"/>\n",
       "  <use xlink:href=\"#glyph0-1\" x=\"278.753378\" y=\"12.086269\"/>\n",
       "</g>\n",
       "<g clip-path=\"url(#clip9)\" clip-rule=\"nonzero\">\n",
       "<path style=\"fill:none;stroke-width:1;stroke-linecap:butt;stroke-linejoin:miter;stroke:rgb(0%,0%,0%);stroke-opacity:1;stroke-miterlimit:10;\" d=\"M 785.001327 -26.743776 C 785.001327 -16.806578 776.945316 -8.750567 766.999409 -8.750567 C 757.062211 -8.750567 748.997491 -16.806578 748.997491 -26.743776 C 748.997491 -36.689683 757.062211 -44.745693 766.999409 -44.745693 C 776.945316 -44.745693 785.001327 -36.689683 785.001327 -26.743776 \" transform=\"matrix(0.44852,0,0,0.44852,1.79408,25.788085)\"/>\n",
       "</g>\n",
       "<g style=\"fill:rgb(0%,0%,0%);fill-opacity:1;\">\n",
       "  <use xlink:href=\"#glyph0-11\" x=\"343.566406\" y=\"15.44955\"/>\n",
       "</g>\n",
       "<path style=\"fill:none;stroke-width:1;stroke-linecap:butt;stroke-linejoin:miter;stroke:rgb(0%,0%,0%);stroke-opacity:1;stroke-miterlimit:10;\" d=\"M 678.148143 -26.743776 C 694.678206 -26.743776 719.342663 -26.743776 738.494195 -26.743776 \" transform=\"matrix(0.44852,0,0,0.44852,1.79408,25.788085)\"/>\n",
       "<path style=\"fill-rule:nonzero;fill:rgb(0%,0%,0%);fill-opacity:1;stroke-width:1;stroke-linecap:butt;stroke-linejoin:miter;stroke:rgb(0%,0%,0%);stroke-opacity:1;stroke-miterlimit:10;\" d=\"M 738.76418 -30.244874 L 748.762343 -26.743776 L 738.76418 -23.251386 Z M 738.76418 -30.244874 \" transform=\"matrix(0.44852,0,0,0.44852,1.79408,25.788085)\"/>\n",
       "<g style=\"fill:rgb(0%,0%,0%);fill-opacity:1;\">\n",
       "  <use xlink:href=\"#glyph0-1\" x=\"312.617187\" y=\"12.086269\"/>\n",
       "  <use xlink:href=\"#glyph0-4\" x=\"316.653867\" y=\"12.086269\"/>\n",
       "  <use xlink:href=\"#glyph0-2\" x=\"318.672206\" y=\"12.086269\"/>\n",
       "  <use xlink:href=\"#glyph0-1\" x=\"322.708886\" y=\"12.086269\"/>\n",
       "  <use xlink:href=\"#glyph0-3\" x=\"326.745565\" y=\"12.086269\"/>\n",
       "</g>\n",
       "<g clip-path=\"url(#clip10)\" clip-rule=\"nonzero\">\n",
       "<path style=\"fill:none;stroke-width:1;stroke-linecap:butt;stroke-linejoin:miter;stroke:rgb(0%,0%,0%);stroke-opacity:1;stroke-miterlimit:10;\" d=\"M 892.002566 -26.743776 C 892.002566 -16.806578 883.937846 -8.750567 874.000648 -8.750567 C 864.054741 -8.750567 855.998731 -16.806578 855.998731 -26.743776 C 855.998731 -36.689683 864.054741 -44.745693 874.000648 -44.745693 C 883.937846 -44.745693 892.002566 -36.689683 892.002566 -26.743776 \" transform=\"matrix(0.44852,0,0,0.44852,1.79408,25.788085)\"/>\n",
       "</g>\n",
       "<g style=\"fill:rgb(0%,0%,0%);fill-opacity:1;\">\n",
       "  <use xlink:href=\"#glyph0-8\" x=\"391.558594\" y=\"15.44955\"/>\n",
       "</g>\n",
       "<path style=\"fill:none;stroke-width:1;stroke-linecap:butt;stroke-linejoin:miter;stroke:rgb(0%,0%,0%);stroke-opacity:1;stroke-miterlimit:10;\" d=\"M 785.149383 -26.743776 C 801.679446 -26.743776 826.343902 -26.743776 845.495435 -26.743776 \" transform=\"matrix(0.44852,0,0,0.44852,1.79408,25.788085)\"/>\n",
       "<path style=\"fill-rule:nonzero;fill:rgb(0%,0%,0%);fill-opacity:1;stroke-width:1;stroke-linecap:butt;stroke-linejoin:miter;stroke:rgb(0%,0%,0%);stroke-opacity:1;stroke-miterlimit:10;\" d=\"M 845.756711 -30.244874 L 855.763582 -26.743776 L 845.756711 -23.251386 Z M 845.756711 -30.244874 \" transform=\"matrix(0.44852,0,0,0.44852,1.79408,25.788085)\"/>\n",
       "<g style=\"fill:rgb(0%,0%,0%);fill-opacity:1;\">\n",
       "  <use xlink:href=\"#glyph0-1\" x=\"360.609375\" y=\"12.086269\"/>\n",
       "  <use xlink:href=\"#glyph0-4\" x=\"364.646054\" y=\"12.086269\"/>\n",
       "  <use xlink:href=\"#glyph0-2\" x=\"366.664394\" y=\"12.086269\"/>\n",
       "  <use xlink:href=\"#glyph0-1\" x=\"370.701073\" y=\"12.086269\"/>\n",
       "  <use xlink:href=\"#glyph0-6\" x=\"374.737753\" y=\"12.086269\"/>\n",
       "</g>\n",
       "<g clip-path=\"url(#clip11)\" clip-rule=\"nonzero\">\n",
       "<path style=\"fill:none;stroke-width:1;stroke-linecap:butt;stroke-linejoin:miter;stroke:rgb(0%,0%,0%);stroke-opacity:1;stroke-miterlimit:10;\" d=\"M 999.003806 -26.743776 C 999.003806 -16.806578 990.939086 -8.750567 981.001888 -8.750567 C 971.055981 -8.750567 962.99997 -16.806578 962.99997 -26.743776 C 962.99997 -36.689683 971.055981 -44.745693 981.001888 -44.745693 C 990.939086 -44.745693 999.003806 -36.689683 999.003806 -26.743776 \" transform=\"matrix(0.44852,0,0,0.44852,1.79408,25.788085)\"/>\n",
       "</g>\n",
       "<g style=\"fill:rgb(0%,0%,0%);fill-opacity:1;\">\n",
       "  <use xlink:href=\"#glyph0-3\" x=\"439.550781\" y=\"15.44955\"/>\n",
       "</g>\n",
       "<path style=\"fill:none;stroke-width:1;stroke-linecap:butt;stroke-linejoin:miter;stroke:rgb(0%,0%,0%);stroke-opacity:1;stroke-miterlimit:10;\" d=\"M 892.150623 -26.743776 C 908.671976 -26.743776 933.345142 -26.743776 952.496674 -26.743776 \" transform=\"matrix(0.44852,0,0,0.44852,1.79408,25.788085)\"/>\n",
       "<path style=\"fill-rule:nonzero;fill:rgb(0%,0%,0%);fill-opacity:1;stroke-width:1;stroke-linecap:butt;stroke-linejoin:miter;stroke:rgb(0%,0%,0%);stroke-opacity:1;stroke-miterlimit:10;\" d=\"M 952.75795 -30.244874 L 962.756113 -26.743776 L 952.75795 -23.251386 Z M 952.75795 -30.244874 \" transform=\"matrix(0.44852,0,0,0.44852,1.79408,25.788085)\"/>\n",
       "<g style=\"fill:rgb(0%,0%,0%);fill-opacity:1;\">\n",
       "  <use xlink:href=\"#glyph0-1\" x=\"408.601562\" y=\"12.086269\"/>\n",
       "  <use xlink:href=\"#glyph0-4\" x=\"412.638242\" y=\"12.086269\"/>\n",
       "  <use xlink:href=\"#glyph0-2\" x=\"414.656581\" y=\"12.086269\"/>\n",
       "  <use xlink:href=\"#glyph0-1\" x=\"418.693261\" y=\"12.086269\"/>\n",
       "  <use xlink:href=\"#glyph0-8\" x=\"422.72994\" y=\"12.086269\"/>\n",
       "</g>\n",
       "<g clip-path=\"url(#clip12)\" clip-rule=\"nonzero\">\n",
       "<path style=\"fill:none;stroke-width:1;stroke-linecap:butt;stroke-linejoin:miter;stroke:rgb(0%,0%,0%);stroke-opacity:1;stroke-miterlimit:10;\" d=\"M 1115.750641 -26.743776 C 1115.750641 -14.045761 1105.447657 -3.751486 1092.749642 -3.751486 C 1080.042918 -3.751486 1069.748643 -14.045761 1069.748643 -26.743776 C 1069.748643 -39.450499 1080.042918 -49.744775 1092.749642 -49.744775 C 1105.447657 -49.744775 1115.750641 -39.450499 1115.750641 -26.743776 \" transform=\"matrix(0.44852,0,0,0.44852,1.79408,25.788085)\"/>\n",
       "</g>\n",
       "<g style=\"fill:rgb(0%,0%,0%);fill-opacity:1;\">\n",
       "  <use xlink:href=\"#glyph0-2\" x=\"487.652344\" y=\"15.44955\"/>\n",
       "  <use xlink:href=\"#glyph0-1\" x=\"491.689023\" y=\"15.44955\"/>\n",
       "</g>\n",
       "<path style=\"fill:none;stroke-width:1;stroke-linecap:butt;stroke-linejoin:miter;stroke:rgb(0%,0%,0%);stroke-opacity:1;stroke-miterlimit:10;\" d=\"M 999.456684 -26.743776 C 1015.74289 -26.743776 1039.884794 -26.743776 1059.532751 -26.743776 \" transform=\"matrix(0.44852,0,0,0.44852,1.79408,25.788085)\"/>\n",
       "<path style=\"fill-rule:nonzero;fill:rgb(0%,0%,0%);fill-opacity:1;stroke-width:1;stroke-linecap:butt;stroke-linejoin:miter;stroke:rgb(0%,0%,0%);stroke-opacity:1;stroke-miterlimit:10;\" d=\"M 1059.611133 -30.244874 L 1069.618005 -26.743776 L 1059.611133 -23.251386 Z M 1059.611133 -30.244874 \" transform=\"matrix(0.44852,0,0,0.44852,1.79408,25.788085)\"/>\n",
       "<g style=\"fill:rgb(0%,0%,0%);fill-opacity:1;\">\n",
       "  <use xlink:href=\"#glyph0-1\" x=\"456.59375\" y=\"12.086269\"/>\n",
       "  <use xlink:href=\"#glyph0-4\" x=\"460.630429\" y=\"12.086269\"/>\n",
       "  <use xlink:href=\"#glyph0-2\" x=\"462.648769\" y=\"12.086269\"/>\n",
       "  <use xlink:href=\"#glyph0-1\" x=\"466.685448\" y=\"12.086269\"/>\n",
       "  <use xlink:href=\"#glyph0-10\" x=\"470.722128\" y=\"12.086269\"/>\n",
       "</g>\n",
       "<g clip-path=\"url(#clip13)\" clip-rule=\"nonzero\">\n",
       "<path style=\"fill:none;stroke-width:1;stroke-linecap:butt;stroke-linejoin:miter;stroke:rgb(0%,0%,0%);stroke-opacity:1;stroke-miterlimit:10;\" d=\"M 1232.244909 -26.743776 C 1232.244909 -14.045761 1221.941925 -3.751486 1209.24391 -3.751486 C 1196.545896 -3.751486 1186.242911 -14.045761 1186.242911 -26.743776 C 1186.242911 -39.450499 1196.545896 -49.744775 1209.24391 -49.744775 C 1221.941925 -49.744775 1232.244909 -39.450499 1232.244909 -26.743776 \" transform=\"matrix(0.44852,0,0,0.44852,1.79408,25.788085)\"/>\n",
       "</g>\n",
       "<g style=\"fill:rgb(0%,0%,0%);fill-opacity:1;\">\n",
       "  <use xlink:href=\"#glyph0-2\" x=\"539.902344\" y=\"15.44955\"/>\n",
       "  <use xlink:href=\"#glyph0-2\" x=\"543.939023\" y=\"15.44955\"/>\n",
       "</g>\n",
       "<path style=\"fill:none;stroke-width:1;stroke-linecap:butt;stroke-linejoin:miter;stroke:rgb(0%,0%,0%);stroke-opacity:1;stroke-miterlimit:10;\" d=\"M 1115.768059 -26.743776 C 1132.994858 -26.743776 1156.814522 -26.743776 1176.096692 -26.743776 \" transform=\"matrix(0.44852,0,0,0.44852,1.79408,25.788085)\"/>\n",
       "<path style=\"fill-rule:nonzero;fill:rgb(0%,0%,0%);fill-opacity:1;stroke-width:1;stroke-linecap:butt;stroke-linejoin:miter;stroke:rgb(0%,0%,0%);stroke-opacity:1;stroke-miterlimit:10;\" d=\"M 1176.279586 -30.244874 L 1186.277748 -26.743776 L 1176.279586 -23.251386 Z M 1176.279586 -30.244874 \" transform=\"matrix(0.44852,0,0,0.44852,1.79408,25.788085)\"/>\n",
       "<g style=\"fill:rgb(0%,0%,0%);fill-opacity:1;\">\n",
       "  <use xlink:href=\"#glyph0-1\" x=\"508.84375\" y=\"12.086269\"/>\n",
       "  <use xlink:href=\"#glyph0-4\" x=\"512.880429\" y=\"12.086269\"/>\n",
       "  <use xlink:href=\"#glyph0-2\" x=\"514.898769\" y=\"12.086269\"/>\n",
       "  <use xlink:href=\"#glyph0-2\" x=\"518.935448\" y=\"12.086269\"/>\n",
       "  <use xlink:href=\"#glyph0-2\" x=\"522.972128\" y=\"12.086269\"/>\n",
       "</g>\n",
       "<g clip-path=\"url(#clip14)\" clip-rule=\"nonzero\">\n",
       "<path style=\"fill:none;stroke-width:1;stroke-linecap:butt;stroke-linejoin:miter;stroke:rgb(0%,0%,0%);stroke-opacity:1;stroke-miterlimit:10;\" d=\"M 1352.701864 -26.743776 C 1352.701864 -14.063179 1342.425007 -3.786323 1329.735702 -3.786323 C 1317.055106 -3.786323 1306.778249 -14.063179 1306.778249 -26.743776 C 1306.778249 -39.433081 1317.055106 -49.709938 1329.735702 -49.709938 C 1342.425007 -49.709938 1352.701864 -39.433081 1352.701864 -26.743776 \" transform=\"matrix(0.44852,0,0,0.44852,1.79408,25.788085)\"/>\n",
       "</g>\n",
       "<g clip-path=\"url(#clip15)\" clip-rule=\"nonzero\">\n",
       "<path style=\"fill:none;stroke-width:1;stroke-linecap:butt;stroke-linejoin:miter;stroke:rgb(0%,0%,0%);stroke-opacity:1;stroke-miterlimit:10;\" d=\"M 1356.734224 -26.743776 C 1356.734224 -11.833624 1344.654563 0.246037 1329.735702 0.246037 C 1314.82555 0.246037 1302.745889 -11.833624 1302.745889 -26.743776 C 1302.745889 -41.662636 1314.82555 -53.742298 1329.735702 -53.742298 C 1344.654563 -53.742298 1356.734224 -41.662636 1356.734224 -26.743776 \" transform=\"matrix(0.44852,0,0,0.44852,1.79408,25.788085)\"/>\n",
       "</g>\n",
       "<g style=\"fill:rgb(0%,0%,0%);fill-opacity:1;\">\n",
       "  <use xlink:href=\"#glyph0-2\" x=\"593.949219\" y=\"15.44955\"/>\n",
       "  <use xlink:href=\"#glyph0-5\" x=\"597.985898\" y=\"15.44955\"/>\n",
       "</g>\n",
       "<path style=\"fill:none;stroke-width:1;stroke-linecap:butt;stroke-linejoin:miter;stroke:rgb(0%,0%,0%);stroke-opacity:1;stroke-miterlimit:10;\" d=\"M 1232.192654 -26.743776 C 1249.210432 -26.743776 1272.76882 -26.743776 1292.477741 -26.743776 \" transform=\"matrix(0.44852,0,0,0.44852,1.79408,25.788085)\"/>\n",
       "<path style=\"fill-rule:nonzero;fill:rgb(0%,0%,0%);fill-opacity:1;stroke-width:1;stroke-linecap:butt;stroke-linejoin:miter;stroke:rgb(0%,0%,0%);stroke-opacity:1;stroke-miterlimit:10;\" d=\"M 1292.660634 -30.244874 L 1302.667506 -26.743776 L 1292.660634 -23.251386 Z M 1292.660634 -30.244874 \" transform=\"matrix(0.44852,0,0,0.44852,1.79408,25.788085)\"/>\n",
       "<g style=\"fill:rgb(0%,0%,0%);fill-opacity:1;\">\n",
       "  <use xlink:href=\"#glyph0-1\" x=\"561.09375\" y=\"12.086269\"/>\n",
       "  <use xlink:href=\"#glyph0-4\" x=\"565.130429\" y=\"12.086269\"/>\n",
       "  <use xlink:href=\"#glyph0-2\" x=\"567.148769\" y=\"12.086269\"/>\n",
       "  <use xlink:href=\"#glyph0-2\" x=\"571.185448\" y=\"12.086269\"/>\n",
       "  <use xlink:href=\"#glyph0-1\" x=\"575.222128\" y=\"12.086269\"/>\n",
       "</g>\n",
       "</g>\n",
       "</svg>\n"
      ],
      "text/plain": [
       "<vector Fst at 0x7f5c2f03c3f0>"
      ]
     },
     "execution_count": 20,
     "metadata": {},
     "output_type": "execute_result"
    }
   ],
   "source": [
    "(\"miljon\" @ quantities.optimize())"
   ]
  },
  {
   "cell_type": "code",
   "execution_count": 21,
   "metadata": {},
   "outputs": [
    {
     "name": "stdout",
     "output_type": "stream",
     "text": [
      "\u001b[0;31mType:\u001b[0m        Fst\n",
      "\u001b[0;31mString form:\u001b[0m\n",
      "0\t1\t118\t0\n",
      "           0\t2\t117\t0\n",
      "           0\t3\t116\t0\n",
      "           0\t4\t115\t0\n",
      "           0\t5\t113\t0\n",
      "           0\t6\t111\t0\n",
      "           0\t7\t110\t0\n",
      "           0\t8\t109\t0\n",
      "           0\t9\t107\t0\n",
      "           0\t10\t10 <...> \t391\t0\t99\n",
      "           391\t392\t0\t105\n",
      "           392\t393\t0\t108\n",
      "           393\t394\t0\t106\n",
      "           394\t395\t0\t97\n",
      "           395\t396\t0\t114\n",
      "           396\t397\t0\t100\n",
      "           397\n",
      "           \n",
      "\u001b[0;31mFile:\u001b[0m        ~/miniconda3/envs/nemo_tn/lib/python3.8/site-packages/_pynini.cpython-38-x86_64-linux-gnu.so\n",
      "\u001b[0;31mDocstring:\u001b[0m  \n",
      "Fst(arc_type=\"standard\")\n",
      "\n",
      "This class wraps a mutable FST and exposes all destructive methods.\n",
      "\n",
      "Args:\n",
      "  arc_type: An optional string indicating the arc type for the FST."
     ]
    }
   ],
   "source": [
    "quantities?"
   ]
  }
 ],
 "metadata": {
  "kernelspec": {
   "display_name": "nemo_tn",
   "language": "python",
   "name": "python3"
  },
  "language_info": {
   "codemirror_mode": {
    "name": "ipython",
    "version": 3
   },
   "file_extension": ".py",
   "mimetype": "text/x-python",
   "name": "python",
   "nbconvert_exporter": "python",
   "pygments_lexer": "ipython3",
   "version": "3.8.0"
  },
  "orig_nbformat": 4,
  "vscode": {
   "interpreter": {
    "hash": "96c035648930bea69d9b07400b9579b46f611ac79813b1ca90c1f721b4f39cb5"
   }
  }
 },
 "nbformat": 4,
 "nbformat_minor": 2
}
