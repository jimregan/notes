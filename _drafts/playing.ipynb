{
 "cells": [
  {
   "cell_type": "code",
   "execution_count": null,
   "metadata": {},
   "outputs": [],
   "source": []
  },
  {
   "cell_type": "code",
   "execution_count": 1,
   "metadata": {},
   "outputs": [],
   "source": [
    "from nemo_text_processing.text_normalization.hu.taggers.cardinal import CardinalFst\n",
    "from nemo_text_processing.text_normalization.hu.taggers.ordinal import OrdinalFst\n"
   ]
  },
  {
   "cell_type": "code",
   "execution_count": 2,
   "metadata": {},
   "outputs": [],
   "source": [
    "card = CardinalFst()\n",
    "ord = OrdinalFst(card, True)"
   ]
  },
  {
   "cell_type": "code",
   "execution_count": 5,
   "metadata": {},
   "outputs": [
    {
     "data": {
      "image/svg+xml": "",
      "text/plain": [
       "<vector Fst at 0x7fd414936470>"
      ]
     },
     "execution_count": 5,
     "metadata": {},
     "output_type": "execute_result"
    }
   ],
   "source": [
    "(\"6\" @ ord.bare_ordinals)"
   ]
  },
  {
   "cell_type": "code",
   "execution_count": 9,
   "metadata": {},
   "outputs": [],
   "source": [
    "from nemo_text_processing.inverse_text_normalization.sv.taggers.ordinal import OrdinalFst\n",
    "from nemo_text_processing.text_normalization.sv.taggers.ordinal import OrdinalFst as tOrd\n",
    "from nemo_text_processing.text_normalization.sv.taggers.cardinal import CardinalFst as tnCard\n",
    "card = tnCard()\n",
    "tn_ord = tOrd(card)\n",
    "ord = OrdinalFst(tn_ord)\n"
   ]
  },
  {
   "cell_type": "code",
   "execution_count": 8,
   "metadata": {},
   "outputs": [
    {
     "name": "stderr",
     "output_type": "stream",
     "text": [
      "ERROR: StringFstToOutputLabels: Invalid start state\n"
     ]
    },
    {
     "ename": "FstOpError",
     "evalue": "Operation failed",
     "output_type": "error",
     "traceback": [
      "\u001b[0;31m---------------------------------------------------------------------------\u001b[0m",
      "\u001b[0;31mFstOpError\u001b[0m                                Traceback (most recent call last)",
      "Cell \u001b[0;32mIn[8], line 1\u001b[0m\n\u001b[0;32m----> 1\u001b[0m (\u001b[39m\"\u001b[39;49m\u001b[39mandra\u001b[39;49m\u001b[39m\"\u001b[39;49m \u001b[39m@\u001b[39;49m tn_ord\u001b[39m.\u001b[39;49mgraph)\u001b[39m.\u001b[39;49mstring()\n",
      "File \u001b[0;32mextensions/_pynini.pyx:462\u001b[0m, in \u001b[0;36m_pynini.Fst.string\u001b[0;34m()\u001b[0m\n",
      "File \u001b[0;32mextensions/_pynini.pyx:507\u001b[0m, in \u001b[0;36m_pynini.Fst.string\u001b[0;34m()\u001b[0m\n",
      "\u001b[0;31mFstOpError\u001b[0m: Operation failed"
     ]
    }
   ],
   "source": [
    "(\"andra\" @ tn_ord.graph).string()"
   ]
  },
  {
   "cell_type": "code",
   "execution_count": 64,
   "metadata": {},
   "outputs": [],
   "source": [
    "from nemo_text_processing.text_normalization.hu.taggers.cardinal import CardinalFst\n"
   ]
  },
  {
   "cell_type": "code",
   "execution_count": 65,
   "metadata": {},
   "outputs": [],
   "source": [
    "card = CardinalFst()"
   ]
  },
  {
   "cell_type": "code",
   "execution_count": 13,
   "metadata": {},
   "outputs": [],
   "source": [
    "import pynini\n",
    "from pynini.lib import pynutil"
   ]
  },
  {
   "cell_type": "code",
   "execution_count": 49,
   "metadata": {},
   "outputs": [],
   "source": [
    "minutes_to = pynini.string_map([(str(i), str(60-i)) for i in range(1, 60)])"
   ]
  },
  {
   "cell_type": "code",
   "execution_count": 50,
   "metadata": {},
   "outputs": [],
   "source": [
    "minutes = pynini.string_map([str(i) for i in range(1, 60)])"
   ]
  },
  {
   "cell_type": "code",
   "execution_count": 24,
   "metadata": {},
   "outputs": [],
   "source": [
    "minutes_to_words = minutes @ minutes_to @ card.graph\n",
    "minutes_inverse = pynini.invert(minutes @ card.graph)\n",
    "minute_words_to_words = minutes_inverse @ minutes_to @ card.graph"
   ]
  },
  {
   "cell_type": "code",
   "execution_count": 26,
   "metadata": {},
   "outputs": [
    {
     "data": {
      "text/plain": [
       "'en'"
      ]
     },
     "execution_count": 26,
     "metadata": {},
     "output_type": "execute_result"
    }
   ],
   "source": [
    "(\"femtionio\" @ minute_words_to_words).string()"
   ]
  },
  {
   "cell_type": "code",
   "execution_count": 32,
   "metadata": {},
   "outputs": [],
   "source": [
    "def hours_to():\n",
    "    for x in range(1, 12):\n",
    "        if x == 12:\n",
    "            y = 1\n",
    "        else:\n",
    "            y = x + 1\n",
    "        yield x, y"
   ]
  },
  {
   "cell_type": "code",
   "execution_count": 39,
   "metadata": {},
   "outputs": [],
   "source": [
    "def hours_to_pairs():\n",
    "    for x in range(1, 13):\n",
    "        if x == 12:\n",
    "            y = 1\n",
    "        else:\n",
    "            y = x + 1\n",
    "        yield x, y\n",
    "hours_to = pynini.string_map([(str(x[0]), str(x[1])) for x in hours_to_pairs()])\n"
   ]
  },
  {
   "cell_type": "code",
   "execution_count": 41,
   "metadata": {},
   "outputs": [
    {
     "data": {
      "text/plain": [
       "'3'"
      ]
     },
     "execution_count": 41,
     "metadata": {},
     "output_type": "execute_result"
    }
   ],
   "source": [
    "(\"2\" @ hours_to).string()"
   ]
  },
  {
   "cell_type": "code",
   "execution_count": 51,
   "metadata": {},
   "outputs": [],
   "source": [
    "minutes_to = pynini.string_map([(str(i), str(60-i)) for i in range(1, 60)])\n",
    "minutes_inverse = pynini.invert(\n",
    "    pynini.project(minutes_to, \"input\")\n",
    "    @ card.graph\n",
    ")\n",
    "minute_words_to_words = minutes_inverse @ minutes_to @ card.graph\n"
   ]
  },
  {
   "cell_type": "code",
   "execution_count": 52,
   "metadata": {},
   "outputs": [
    {
     "data": {
      "text/plain": [
       "'ötvenkilenc'"
      ]
     },
     "execution_count": 52,
     "metadata": {},
     "output_type": "execute_result"
    }
   ],
   "source": [
    "(\"egy\" @ minute_words_to_words).string()"
   ]
  },
  {
   "cell_type": "code",
   "execution_count": null,
   "metadata": {},
   "outputs": [],
   "source": [
    "def get_likely_to_or_from():\n",
    "    past = [(str(i), str(i)) for i in range(1, 6)]\n",
    "    to = [(str(i), str(60-i)) for i in range(6, 10)]"
   ]
  },
  {
   "cell_type": "code",
   "execution_count": 62,
   "metadata": {},
   "outputs": [],
   "source": [
    "def get_all_to_or_from_numbers():\n",
    "    quarters = {\n",
    "        15: \"negyed\",\n",
    "        30: \"fél\",\n",
    "        45: \"háromnegyed\"\n",
    "    }\n",
    "    output = {}\n",
    "    for num, word in quarters.items():\n",
    "        current_past = []\n",
    "        current_to = []\n",
    "        for i in range(1, 60):\n",
    "            if i == num:\n",
    "                continue\n",
    "            elif i < num:\n",
    "                current_to.append((str(i), str(num-i)))\n",
    "            else:\n",
    "                current_past.append((str(i), str(i-num)))\n",
    "        output[word] = {}\n",
    "        output[word][\"past\"] = current_past\n",
    "        output[word][\"to\"] = current_to\n",
    "    return output\n"
   ]
  },
  {
   "cell_type": "code",
   "execution_count": 63,
   "metadata": {},
   "outputs": [],
   "source": [
    "from nemo_text_processing.text_normalization.en.graph_utils import GraphFst\n",
    "def get_all_to_or_from_fst(cardinal: GraphFst):\n",
    "    numbers = get_all_to_or_from_numbers()\n",
    "    output = {}\n",
    "    for key in numbers:\n",
    "        for when in [\"past\", \"to\"]:\n",
    "            output[key] = {}\n",
    "            map = pynini.string_map(numbers[key][when])\n",
    "            output[key][when] = pynini.project(map, \"input\") @ map @ cardinal.graph\n",
    "    return output"
   ]
  },
  {
   "cell_type": "code",
   "execution_count": 66,
   "metadata": {},
   "outputs": [],
   "source": [
    "maps = get_all_to_or_from_fst(card)"
   ]
  },
  {
   "cell_type": "code",
   "execution_count": 68,
   "metadata": {},
   "outputs": [
    {
     "data": {
      "text/plain": [
       "'negyvenhárom'"
      ]
     },
     "execution_count": 68,
     "metadata": {},
     "output_type": "execute_result"
    }
   ],
   "source": [
    "(\"2\" @ maps[\"háromnegyed\"][\"to\"]).string()"
   ]
  },
  {
   "cell_type": "code",
   "execution_count": 69,
   "metadata": {},
   "outputs": [
    {
     "data": {
      "text/plain": [
       "'43'"
      ]
     },
     "execution_count": 69,
     "metadata": {},
     "output_type": "execute_result"
    }
   ],
   "source": [
    "(\"negyvenhárom\" @ pynini.invert(card.graph)).string()"
   ]
  },
  {
   "cell_type": "code",
   "execution_count": 104,
   "metadata": {},
   "outputs": [],
   "source": [
    "def hours_to_pairs():\n",
    "    for x in range(1, 13):\n",
    "        if x == 12:\n",
    "            y = 1\n",
    "        else:\n",
    "            y = x + 1\n",
    "        yield y, x\n",
    "hours_next = pynini.string_map([(str(x[0]), str(x[1])) for x in hours_to_pairs()])\n",
    "self_hour_words_to_words = hours_next @ card.graph\n",
    "hour_words_to_words = pynutil.insert(\"hours: \\\"\") + self_hour_words_to_words + pynutil.insert(\"\\\"\")\n"
   ]
  },
  {
   "cell_type": "code",
   "execution_count": 71,
   "metadata": {},
   "outputs": [],
   "source": [
    "from nemo_text_processing.text_normalization.en.graph_utils import NEMO_SPACE\n",
    "QUARTERS = {\n",
    "    15: \"negyed\",\n",
    "    30: \"fél\",\n",
    "    45: \"háromnegyed\"\n",
    "}\n"
   ]
  },
  {
   "cell_type": "code",
   "execution_count": 98,
   "metadata": {},
   "outputs": [],
   "source": [
    "quarter_map = pynini.string_map([(p[1], str(p[0])) for p in QUARTERS.items()])\n",
    "quarter_map_graph = pynutil.insert(\"minutes: \\\"\") + (quarter_map @ card.graph) + pynutil.insert(\"\\\"\")\n",
    "quarter_words = pynini.string_map(QUARTERS.values())\n",
    "quarter_words_graph = pynutil.insert(\"minutes: \\\"\") + quarter_words + pynutil.insert(\"\\\"\")\n",
    "simple_prefixed = quarter_map_graph + NEMO_SPACE + hour_words_to_words\n",
    "# quarter_prefixed_hours = quarter_words_graph + NEMO_SPACE + hour_words_to_words"
   ]
  },
  {
   "cell_type": "code",
   "execution_count": 109,
   "metadata": {},
   "outputs": [
    {
     "data": {
      "text/plain": [
       "'minutes: \"tizenöt\" hours: \"egy\"'"
      ]
     },
     "execution_count": 109,
     "metadata": {},
     "output_type": "execute_result"
    }
   ],
   "source": [
    "# (\"15 egy\" @ quarter_map_graph).string()\n",
    "# (\"negyed\" @ quarter_map @ card.graph).string()\n",
    "# (\"1\" @ hour_words_to_words).string()\n",
    "(\"negyed 2\" @ simple_prefixed).string()"
   ]
  },
  {
   "cell_type": "code",
   "execution_count": 110,
   "metadata": {},
   "outputs": [],
   "source": [
    "hours_next_inverse = pynini.invert(\n",
    "    pynini.project(hours_next, \"input\")\n",
    "    @ card.graph\n",
    ")\n",
    "self_hour_numbers_to_words = hours_next @ card.graph\n",
    "self_hour_words_to_words = hours_next_inverse @ self_hour_numbers_to_words\n",
    "hour_numbers_to_words = pynutil.insert(\"hours: \\\"\") + self_hour_numbers_to_words + pynutil.insert(\"\\\"\")\n",
    "hour_words_to_words = pynutil.insert(\"hours: \\\"\") + self_hour_words_to_words + pynutil.insert(\"\\\"\")\n"
   ]
  },
  {
   "cell_type": "code",
   "execution_count": 112,
   "metadata": {},
   "outputs": [
    {
     "data": {
      "text/plain": [
       "'hours: \"tizenegy\"'"
      ]
     },
     "execution_count": 112,
     "metadata": {},
     "output_type": "execute_result"
    }
   ],
   "source": [
    "(\"tizenkettő\" @ hour_words_to_words).string()"
   ]
  },
  {
   "cell_type": "code",
   "execution_count": 113,
   "metadata": {},
   "outputs": [],
   "source": [
    "quarter_prefixed_next_to_current_words = quarter_map_graph + NEMO_SPACE + hour_words_to_words"
   ]
  },
  {
   "cell_type": "code",
   "execution_count": 115,
   "metadata": {},
   "outputs": [
    {
     "data": {
      "text/plain": [
       "'minutes: \"tizenöt\" hours: \"tizenegy\"'"
      ]
     },
     "execution_count": 115,
     "metadata": {},
     "output_type": "execute_result"
    }
   ],
   "source": [
    "(\"negyed tizenkettő\" @ quarter_prefixed_next_to_current_words).string()"
   ]
  },
  {
   "cell_type": "code",
   "execution_count": 5,
   "metadata": {},
   "outputs": [],
   "source": [
    "from nemo_text_processing.text_normalization.hu.taggers.cardinal import CardinalFst\n",
    "from nemo_text_processing.text_normalization.hu.taggers.time import TimeFst\n",
    "card = CardinalFst()\n",
    "time = TimeFst(card)\n"
   ]
  },
  {
   "cell_type": "code",
   "execution_count": 7,
   "metadata": {},
   "outputs": [
    {
     "data": {
      "text/plain": [
       "'time { hours: \"nyolc\" }'"
      ]
     },
     "execution_count": 7,
     "metadata": {},
     "output_type": "execute_result"
    }
   ],
   "source": [
    "(\"08:00\" @ time.fst).string()"
   ]
  },
  {
   "cell_type": "code",
   "execution_count": 4,
   "metadata": {},
   "outputs": [],
   "source": [
    "from nemo_text_processing.text_normalization.hu.verbalizers.time import TimeFst as vTime"
   ]
  },
  {
   "cell_type": "code",
   "execution_count": 5,
   "metadata": {},
   "outputs": [],
   "source": [
    "v_time = vTime()"
   ]
  },
  {
   "cell_type": "code",
   "execution_count": 6,
   "metadata": {},
   "outputs": [],
   "source": [
    "a = 'time { hours: \"nyolc\" minutes: \"öt\" suffix: \"perccel\" preserve_order: true }'\n",
    "b = 'time { hours: \"nyolc\" preserve_order: true }'"
   ]
  },
  {
   "cell_type": "code",
   "execution_count": 7,
   "metadata": {},
   "outputs": [
    {
     "data": {
      "text/plain": [
       "'nyolc óra'"
      ]
     },
     "execution_count": 7,
     "metadata": {},
     "output_type": "execute_result"
    }
   ],
   "source": [
    "(b @ v_time.fst).string()"
   ]
  }
 ],
 "metadata": {
  "kernelspec": {
   "display_name": "nemo_tn",
   "language": "python",
   "name": "python3"
  },
  "language_info": {
   "codemirror_mode": {
    "name": "ipython",
    "version": 3
   },
   "file_extension": ".py",
   "mimetype": "text/x-python",
   "name": "python",
   "nbconvert_exporter": "python",
   "pygments_lexer": "ipython3",
   "version": "3.8.0"
  },
  "orig_nbformat": 4,
  "vscode": {
   "interpreter": {
    "hash": "96c035648930bea69d9b07400b9579b46f611ac79813b1ca90c1f721b4f39cb5"
   }
  }
 },
 "nbformat": 4,
 "nbformat_minor": 2
}
