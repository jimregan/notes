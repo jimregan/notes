{
 "cells": [
  {
   "cell_type": "code",
   "execution_count": 10,
   "metadata": {},
   "outputs": [],
   "source": [
    "UL = \"\"\"\n",
    "tcd_gd_text02_003_013\n",
    "tcd_gd_text02_003_052\n",
    "tcd_gd_text02_003_084\n",
    "tcd_gd_text02_003_160\n",
    "tcd_gd_text02_003_458\n",
    "tcd_gd_text02_004_378\n",
    "text01-004_086\n",
    "\"\"\""
   ]
  },
  {
   "cell_type": "code",
   "execution_count": 11,
   "metadata": {
    "scrolled": true
   },
   "outputs": [
    {
     "name": "stdout",
     "output_type": "stream",
     "text": [
      "tcd_gd_text02_003_013\n",
      "bhí éamonn tráth dá shaol fleiscíní an seal ráscánta sin eadar ocht mbliana déag agus ceithre bliana fichead fleiscíní agus bhí sé ina réice dhéanta\n",
      "tcd_gd_text02_003_052\n",
      "shuigh sí os|coinne na tineadh agus chuir sí suas drandán ceoil fleiscíní amhrán a bhíodh ag séamas na ceárta\n",
      "tcd_gd_text02_003_084\n",
      "tá an bád ina cláraí agus an fhoireann ar an leic fleiscín mura bhfuil cuid acu báite cumhdach dé orainn fleiscín agus tá an lán mara ag éirí agus na tonna ag gabháil tharstu\n",
      "tcd_gd_text02_003_160\n",
      "an dóigh ar shuigh sé a chomhrá i|ndiaidh éadach tirim a chur air fleiscíní a chomhrá le fear an tí ar iascaireacht agus ar bhádaí seoltóireachta ar gach aon rud ach an éachta mhór a bhí sé i|ndiaidh a dhéanamh\n",
      "tcd_gd_text02_003_458\n",
      "choisric sí í féin agus dúirt sí cúig paidreacha agus cúig áibhe máiria agus cré fleiscín níor dhúirt sí riamh ní ba lú fleiscín os a gcionn\n",
      "tcd_gd_text02_004_378\n",
      "tháinig bád amach as an chaslaigh agus gan inti ach beirt fleiscín conall agus sábha\n",
      "text01-004_086\n",
      "ba dual don chogadh dheireanach a bheadh ar an domhan fleiscíní sin cogadh an dá ghall fleiscíní ba dual dó a theacht san fhómar eadar speal is corrán\n"
     ]
    }
   ],
   "source": [
    "import IPython\n",
    "_BASE = \"/media/storage/jim/Playing/mfa-corp/anb/\"\n",
    "for fname in UL.split(\"\\n\"):\n",
    "    if fname == \"\":\n",
    "        continue\n",
    "    print(fname)\n",
    "    !cat {_BASE}{fname}.txt\n",
    "    !echo\n",
    "    #IPython.display.display(IPython.display.Audio(f\"{_BASE}{fname}.wav\"))"
   ]
  }
 ],
 "metadata": {
  "kernelspec": {
   "display_name": "Python 3",
   "language": "python",
   "name": "python3"
  },
  "language_info": {
   "codemirror_mode": {
    "name": "ipython",
    "version": 3
   },
   "file_extension": ".py",
   "mimetype": "text/x-python",
   "name": "python",
   "nbconvert_exporter": "python",
   "pygments_lexer": "ipython3",
   "version": "3.6.9"
  }
 },
 "nbformat": 4,
 "nbformat_minor": 2
}
