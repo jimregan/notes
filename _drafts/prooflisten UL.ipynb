{
 "cells": [
  {
   "cell_type": "code",
   "execution_count": 5,
   "metadata": {},
   "outputs": [],
   "source": [
    "UL = \"\"\"\n",
    "tcd_gd_text02-003_160\n",
    "tcd_gd_text02-004_378\n",
    "tcd_gd_text02-007_333\n",
    "\"\"\""
   ]
  },
  {
   "cell_type": "code",
   "execution_count": 6,
   "metadata": {
    "scrolled": true
   },
   "outputs": [
    {
     "name": "stdout",
     "output_type": "stream",
     "text": [
      "tcd_gd_text02-003_160\n",
      "an dóigh ar shuigh sé a chomhrá i|ndiaidh éadach tirim a chur air fleiscíní a chomhrá le fear an tí ar iascaireacht agus ar bhádaí seoltóireachta ar gach aon rud ach an éachta mhór a bhí sé i|ndiaidh a dhéanamh\n",
      "tcd_gd_text02-004_378\n",
      "tháinig bád amach as an chaslaigh agus gan inti ach beirt fleiscín conall agus sábha\n",
      "tcd_gd_text02-007_333\n",
      "ach ar ndóigh sin an rud a thaobh a máthair léi fleiscín aire a thabhairt dó go dtigeadh sise ar ais\n"
     ]
    }
   ],
   "source": [
    "import IPython\n",
    "_BASE = \"/media/storage/jim/Playing/mfa-corp/anb/\"\n",
    "for fname in UL.split(\"\\n\"):\n",
    "    if fname == \"\":\n",
    "        continue\n",
    "    print(fname)\n",
    "    !cat {_BASE}{fname}.txt\n",
    "    !echo\n",
    "    #IPython.display.display(IPython.display.Audio(f\"{_BASE}{fname}.wav\"))"
   ]
  }
 ],
 "metadata": {
  "kernelspec": {
   "display_name": "Python 3",
   "language": "python",
   "name": "python3"
  },
  "language_info": {
   "codemirror_mode": {
    "name": "ipython",
    "version": 3
   },
   "file_extension": ".py",
   "mimetype": "text/x-python",
   "name": "python",
   "nbconvert_exporter": "python",
   "pygments_lexer": "ipython3",
   "version": "3.6.9"
  }
 },
 "nbformat": 4,
 "nbformat_minor": 2
}
