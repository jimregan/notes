{
 "cells": [
  {
   "cell_type": "code",
   "execution_count": 8,
   "metadata": {},
   "outputs": [],
   "source": [
    "CO = \"\"\"\n",
    "anb-named-entities-112\n",
    "anb-tcd-gd-text02-003-013\n",
    "anb-tcd-gd-text02-003-018\n",
    "anb-tcd-gd-text02-003-052\n",
    "anb-tcd-gd-text02-003-084\n",
    "anb-tcd-gd-text02-003-458\n",
    "anb-text01-001-044\n",
    "anb-text01-004-000\n",
    "anb-text01-004-004\n",
    "\"\"\""
   ]
  },
  {
   "cell_type": "code",
   "execution_count": null,
   "metadata": {
    "scrolled": true
   },
   "outputs": [],
   "source": [
    "import IPython\n",
    "_BASE = \"/media/storage/jim/Playing/mfa-corp/anb/\"\n",
    "for fname in CO.split(\"\\n\"):\n",
    "    if fname == \"\":\n",
    "        continue\n",
    "    print(fname)\n",
    "    !cat {_BASE}{fname}.txt\n",
    "    !echo\n",
    "    IPython.display.display(IPython.display.Audio(f\"{_BASE}{fname}.wav\"))"
   ]
  }
 ],
 "metadata": {
  "kernelspec": {
   "display_name": "Python 3",
   "language": "python",
   "name": "python3"
  },
  "language_info": {
   "codemirror_mode": {
    "name": "ipython",
    "version": 3
   },
   "file_extension": ".py",
   "mimetype": "text/x-python",
   "name": "python",
   "nbconvert_exporter": "python",
   "pygments_lexer": "ipython3",
   "version": "3.6.9"
  }
 },
 "nbformat": 4,
 "nbformat_minor": 2
}
