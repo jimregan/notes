{
  "nbformat": 4,
  "nbformat_minor": 5,
  "metadata": {
    "kernelspec": {
      "display_name": "Python 3",
      "language": "python",
      "name": "python3"
    },
    "language_info": {
      "codemirror_mode": {
        "name": "ipython",
        "version": 3
      },
      "file_extension": ".py",
      "mimetype": "text/x-python",
      "name": "python",
      "nbconvert_exporter": "python",
      "pygments_lexer": "ipython3",
      "version": "3.8.2"
    },
    "colab": {
      "name": "2021-05-24-tuairisc-question-page-scraper.ipynb",
      "provenance": []
    }
  },
  "cells": [
    {
      "cell_type": "code",
      "metadata": {
        "id": "092e98ea"
      },
      "source": [
        "import requests\n",
        "from bs4 import BeautifulSoup"
      ],
      "id": "092e98ea",
      "execution_count": null,
      "outputs": []
    },
    {
      "cell_type": "code",
      "metadata": {
        "id": "0bba4500"
      },
      "source": [
        "url1 = 'https://tuairisc.ie/leamhthuiscint-faoiseamh-agus-saoirse-sa-snamh/'"
      ],
      "id": "0bba4500",
      "execution_count": null,
      "outputs": []
    },
    {
      "cell_type": "code",
      "metadata": {
        "id": "41587f87"
      },
      "source": [
        "def _get_url(url):\n",
        "    r = requests.get(url)\n",
        "    if r.status_code != 200:\n",
        "        raise Exception(\"Failed to open landing page\")\n",
        "    return r.content"
      ],
      "id": "41587f87",
      "execution_count": null,
      "outputs": []
    },
    {
      "cell_type": "code",
      "metadata": {
        "id": "c12194b0"
      },
      "source": [
        "def _stop_reading(elem):\n",
        "    from bs4.element import NavigableString\n",
        "    if isinstance(elem, NavigableString):\n",
        "        return False\n",
        "    elems = [c for c in elem.children]\n",
        "    return len(elems) == 1 and elems[0].name == 'h2' and ' '.join(elems[0]['class']) == 'heading-banner education__banner'"
      ],
      "id": "c12194b0",
      "execution_count": null,
      "outputs": []
    },
    {
      "cell_type": "code",
      "metadata": {
        "id": "f97ba20d"
      },
      "source": [
        "t1 = _get_url(url1)"
      ],
      "id": "f97ba20d",
      "execution_count": null,
      "outputs": []
    },
    {
      "cell_type": "code",
      "metadata": {
        "id": "80fa2bd1"
      },
      "source": [
        "soup = BeautifulSoup(t1, 'html.parser')"
      ],
      "id": "80fa2bd1",
      "execution_count": null,
      "outputs": []
    },
    {
      "cell_type": "code",
      "metadata": {
        "id": "94d6ef03"
      },
      "source": [
        "desc = soup.find('meta', {'property': 'og:description'})['content']\n",
        "title = soup.find('meta', {'property': 'og:title'})['content']"
      ],
      "id": "94d6ef03",
      "execution_count": null,
      "outputs": []
    },
    {
      "cell_type": "code",
      "metadata": {
        "id": "c3d308bf"
      },
      "source": [
        "article_outer = soup.find('article')"
      ],
      "id": "c3d308bf",
      "execution_count": null,
      "outputs": []
    },
    {
      "cell_type": "code",
      "metadata": {
        "id": "9fb1db0a"
      },
      "source": [
        "article = article_outer.find('div', {'itemprop': 'articleBody'})"
      ],
      "id": "9fb1db0a",
      "execution_count": null,
      "outputs": []
    },
    {
      "cell_type": "code",
      "metadata": {
        "id": "1ed2fb4e"
      },
      "source": [
        "def _extract_text(article):\n",
        "    from bs4.element import NavigableString\n",
        "    paragraphs = []\n",
        "    for i in article.children:\n",
        "        if isinstance(i, NavigableString):\n",
        "            continue\n",
        "        if _stop_reading(i):\n",
        "            return paragraphs\n",
        "        paragraphs.append(i.text.replace('\\xa0', ' '))"
      ],
      "id": "1ed2fb4e",
      "execution_count": null,
      "outputs": []
    },
    {
      "cell_type": "code",
      "metadata": {
        "id": "7dfb52a6"
      },
      "source": [
        "def _extract_questions(article):\n",
        "    out = []\n",
        "    for p in article.find('ol').findAll('li'):\n",
        "        out.append(p.text)\n",
        "    return out"
      ],
      "id": "7dfb52a6",
      "execution_count": null,
      "outputs": []
    },
    {
      "cell_type": "code",
      "metadata": {
        "id": "e678d59b"
      },
      "source": [
        "qs = _extract_questions(article)"
      ],
      "id": "e678d59b",
      "execution_count": null,
      "outputs": []
    },
    {
      "cell_type": "code",
      "metadata": {
        "id": "6b92e7dd"
      },
      "source": [
        "qs"
      ],
      "id": "6b92e7dd",
      "execution_count": null,
      "outputs": []
    },
    {
      "cell_type": "code",
      "metadata": {
        "id": "5defa44f"
      },
      "source": [
        "x.findAll('li')"
      ],
      "id": "5defa44f",
      "execution_count": null,
      "outputs": []
    }
  ]
}