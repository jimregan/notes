{
 "cells": [
  {
   "cell_type": "code",
   "execution_count": 1,
   "id": "092e98ea",
   "metadata": {},
   "outputs": [],
   "source": [
    "import requests\n",
    "from bs4 import BeautifulSoup"
   ]
  },
  {
   "cell_type": "code",
   "execution_count": 3,
   "id": "0bba4500",
   "metadata": {},
   "outputs": [],
   "source": [
    "url1 = 'https://tuairisc.ie/leamhthuiscint-faoiseamh-agus-saoirse-sa-snamh/'"
   ]
  },
  {
   "cell_type": "code",
   "execution_count": 4,
   "id": "41587f87",
   "metadata": {},
   "outputs": [],
   "source": [
    "def _get_url(url):\n",
    "    r = requests.get(url)\n",
    "    if r.status_code != 200:\n",
    "        raise Exception(\"Failed to open landing page\")\n",
    "    return r.content"
   ]
  },
  {
   "cell_type": "code",
   "execution_count": 60,
   "id": "c12194b0",
   "metadata": {},
   "outputs": [],
   "source": [
    "def _stop_reading(elem):\n",
    "    from bs4.element import NavigableString\n",
    "    if isinstance(elem, NavigableString):\n",
    "        return False\n",
    "    elems = [c for c in elem.children]\n",
    "    return len(elems) == 1 and elems[0].name == 'h2' and ' '.join(elems[0]['class']) == 'heading-banner education__banner'"
   ]
  },
  {
   "cell_type": "code",
   "execution_count": 5,
   "id": "f97ba20d",
   "metadata": {},
   "outputs": [],
   "source": [
    "t1 = _get_url(url1)"
   ]
  },
  {
   "cell_type": "code",
   "execution_count": 7,
   "id": "80fa2bd1",
   "metadata": {},
   "outputs": [],
   "source": [
    "soup = BeautifulSoup(t1, 'html.parser')"
   ]
  },
  {
   "cell_type": "code",
   "execution_count": 12,
   "id": "94d6ef03",
   "metadata": {},
   "outputs": [],
   "source": [
    "desc = soup.find('meta', {'property': 'og:description'})['content']\n",
    "title = soup.find('meta', {'property': 'og:title'})['content']"
   ]
  },
  {
   "cell_type": "code",
   "execution_count": 16,
   "id": "c3d308bf",
   "metadata": {},
   "outputs": [],
   "source": [
    "article_outer = soup.find('article')"
   ]
  },
  {
   "cell_type": "code",
   "execution_count": 17,
   "id": "9fb1db0a",
   "metadata": {},
   "outputs": [],
   "source": [
    "article = article_outer.find('div', {'itemprop': 'articleBody'})"
   ]
  },
  {
   "cell_type": "code",
   "execution_count": 74,
   "id": "1ed2fb4e",
   "metadata": {},
   "outputs": [],
   "source": [
    "def _extract_text(article):\n",
    "    from bs4.element import NavigableString\n",
    "    paragraphs = []\n",
    "    for i in article.children:\n",
    "        if isinstance(i, NavigableString):\n",
    "            continue\n",
    "        if _stop_reading(i):\n",
    "            return paragraphs\n",
    "        paragraphs.append(i.text.replace('\\xa0', ' '))"
   ]
  },
  {
   "cell_type": "code",
   "execution_count": 90,
   "id": "7dfb52a6",
   "metadata": {},
   "outputs": [],
   "source": [
    "def _extract_questions(article):\n",
    "    out = []\n",
    "    for p in article.find('ol').findAll('li'):\n",
    "        out.append(p.text)\n",
    "    return out"
   ]
  },
  {
   "cell_type": "code",
   "execution_count": 91,
   "id": "e678d59b",
   "metadata": {},
   "outputs": [],
   "source": [
    "qs = _extract_questions(article)"
   ]
  },
  {
   "cell_type": "code",
   "execution_count": 93,
   "id": "6b92e7dd",
   "metadata": {},
   "outputs": [
    {
     "data": {
      "text/plain": [
       "['An mbeifeá beagán neirbhíseach dá gcasfá féin ar an ‘guarda municipal’? Cén fáth?',\n",
       " 'Tá an bheirt chairde seo tinn tuirseach de rud éigin. Céard atá ag cur as dóibh?',\n",
       " 'Tá an t-údar beagán searbhasach faoi rialacha agus polasaí an rialtais? Conas a chuireann sé é sin in iúl dúinn? ',\n",
       " 'Cén sórt áit é Barra?',\n",
       " 'Is beag riail nach mbíonn bealach glic lena seachaint. Conas a d’éirigh leo dul ag snámh agus na tránna dúnta?',\n",
       " '‘Rinne muid dearmad ar feadh tamaill ar an gcoróinvíreas.’ Conas a d’éirigh leo sin a dhéanamh?',\n",
       " 'Creideann an t-údar go bhfuil leigheas agus suaimhneas le fáil ón bhfarraige? Conas a chuidíonn sí lena spiorad?',\n",
       " 'Cén chosúlacht a fheiceann an t-údar idir an snámh agus an codladh? An dóigh leat gur maith an tsamhail é? Mínigh do fhreagra.',\n",
       " 'Chuir na srianta atá i bhfeidhm sa tír seo ó mhí an Mhárta isteach go mór ar dhaoine. Cén rud is mó a chuir as duit féin agus conas a fuair tú faoiseamh ón mbrú sin?',\n",
       " 'Mínigh in abairtí: lúb ar lár, diamhair, barróg, cinniúint.']"
      ]
     },
     "execution_count": 93,
     "metadata": {},
     "output_type": "execute_result"
    }
   ],
   "source": [
    "qs"
   ]
  },
  {
   "cell_type": "code",
   "execution_count": 89,
   "id": "5defa44f",
   "metadata": {},
   "outputs": [
    {
     "data": {
      "text/plain": [
       "[<li class=\"li5\"><span class=\"s1\">An mbeifeá beagán neirbhíseach dá gcasfá féin ar an ‘guarda municipal’? Cén fáth?</span></li>,\n",
       " <li class=\"li5\"><span class=\"s1\">Tá an bheirt chairde seo tinn tuirseach de rud éigin. Céard atá ag cur as dóibh?</span></li>,\n",
       " <li class=\"li5\"><span class=\"s1\">Tá an t-údar beagán searbhasach faoi rialacha agus polasaí an rialtais? Conas a chuireann sé é sin in iúl dúinn? </span></li>,\n",
       " <li class=\"li5\"><span class=\"s1\">Cén sórt áit é Barra?</span></li>,\n",
       " <li class=\"li5\"><span class=\"s1\">Is beag riail nach mbíonn bealach glic lena seachaint. Conas a d’éirigh leo dul ag snámh agus na tránna dúnta?</span></li>,\n",
       " <li class=\"li5\"><span class=\"s1\">‘Rinne muid dearmad ar feadh tamaill ar an gcoróinvíreas.’ Conas a d’éirigh leo sin a dhéanamh?</span></li>,\n",
       " <li class=\"li5\"><span class=\"s1\">Creideann an t-údar go bhfuil leigheas agus suaimhneas le fáil ón bhfarraige? Conas a chuidíonn sí lena spiorad?</span></li>,\n",
       " <li class=\"li5\"><span class=\"s1\">Cén chosúlacht a fheiceann an t-údar idir an snámh agus an codladh? An dóigh leat gur maith an tsamhail é? Mínigh do fhreagra.</span></li>,\n",
       " <li class=\"li5\"><span class=\"s1\">Chuir na srianta atá i bhfeidhm sa tír seo ó mhí an Mhárta isteach go mór ar dhaoine. Cén rud is mó a chuir as duit féin agus conas a fuair tú faoiseamh ón mbrú sin?</span></li>,\n",
       " <li class=\"li5\"><span class=\"s1\">Mínigh in abairtí: lúb ar lár, diamhair, barróg, cinniúint.</span></li>]"
      ]
     },
     "execution_count": 89,
     "metadata": {},
     "output_type": "execute_result"
    }
   ],
   "source": [
    "x.findAll('li')"
   ]
  }
 ],
 "metadata": {
  "kernelspec": {
   "display_name": "Python 3",
   "language": "python",
   "name": "python3"
  },
  "language_info": {
   "codemirror_mode": {
    "name": "ipython",
    "version": 3
   },
   "file_extension": ".py",
   "mimetype": "text/x-python",
   "name": "python",
   "nbconvert_exporter": "python",
   "pygments_lexer": "ipython3",
   "version": "3.8.2"
  }
 },
 "nbformat": 4,
 "nbformat_minor": 5
}
