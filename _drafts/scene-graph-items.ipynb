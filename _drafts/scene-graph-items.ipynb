{
 "cells": [
  {
   "cell_type": "code",
   "execution_count": 2,
   "metadata": {},
   "outputs": [],
   "source": [
    "import json"
   ]
  },
  {
   "cell_type": "code",
   "execution_count": null,
   "metadata": {},
   "outputs": [],
   "source": [
    "from pathlib import Path\n",
    "\n",
    "items = {}\n",
    "\n",
    "for sg in Path(\"/tmp\").glob(\"SceneGraph_*.json\"):\n",
    "    room = sg.stem.split(\"_\")[1]\n",
    "    items[room] = []\n",
    "    with open(sg, \"r\") as f:\n",
    "        data = json.load(f)\n",
    "        for item in data[\"origin\"][\"children\"]:\n",
    "            items[room].append(item[\"name\"])"
   ]
  },
  {
   "cell_type": "code",
   "execution_count": 15,
   "metadata": {},
   "outputs": [],
   "source": [
    "with open(\"/tmp/items.tsv\", \"w\") as f:\n",
    "    f.write(\"room\\titem\\n\")\n",
    "    for room in items:\n",
    "        for item in items[room]:\n",
    "            if item.startswith(\"Window_\"):\n",
    "                continue\n",
    "            elif item.startswith(\"Door_\") or item == \"Door\":\n",
    "                continue\n",
    "            elif item.startswith(\"Wall_\") or item in [\"Wall1\", \"Wall2\", \"Wall3\", \"Wall4\", \"Wall5\"]:\n",
    "                continue\n",
    "            f.write(f\"{room}\\t{item}\\n\")"
   ]
  }
 ],
 "metadata": {
  "kernelspec": {
   "display_name": "nst-tts",
   "language": "python",
   "name": "python3"
  },
  "language_info": {
   "codemirror_mode": {
    "name": "ipython",
    "version": 3
   },
   "file_extension": ".py",
   "mimetype": "text/x-python",
   "name": "python",
   "nbconvert_exporter": "python",
   "pygments_lexer": "ipython3",
   "version": "3.10.9"
  }
 },
 "nbformat": 4,
 "nbformat_minor": 2
}
