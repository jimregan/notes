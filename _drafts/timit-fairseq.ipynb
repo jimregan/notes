{
 "cells": [
  {
   "cell_type": "code",
   "execution_count": 1,
   "metadata": {},
   "outputs": [],
   "source": [
    "PAD = \"<pad>\"\n",
    "UNK = \"<unk>\"\n",
    "SIL = \"<sil>\"\n",
    "SPN = \"<spn>\""
   ]
  },
  {
   "cell_type": "code",
   "execution_count": 16,
   "metadata": {},
   "outputs": [],
   "source": [
    "VOCAB_ITEMS =\"\"\"\n",
    "AA\n",
    "AE\n",
    "AH\n",
    "AO\n",
    "AW\n",
    "AX\n",
    "AY\n",
    "EH\n",
    "ER\n",
    "EY\n",
    "IH\n",
    "IY\n",
    "OW\n",
    "OY\n",
    "UH\n",
    "UW\n",
    "UX\n",
    "B\n",
    "CH\n",
    "D\n",
    "DH\n",
    "DX\n",
    "EL\n",
    "EM\n",
    "EN\n",
    "F\n",
    "G\n",
    "HH\n",
    "JH\n",
    "K\n",
    "L\n",
    "M\n",
    "N\n",
    "NG\n",
    "NX\n",
    "P\n",
    "Q\n",
    "R\n",
    "S\n",
    "SH\n",
    "T\n",
    "TH\n",
    "V\n",
    "W\n",
    "WH\n",
    "Y\n",
    "Z\n",
    "ZH\n",
    " \n",
    ".\n",
    ",\n",
    "?\n",
    "!\n",
    "\"\"\""
   ]
  },
  {
   "cell_type": "code",
   "execution_count": 17,
   "metadata": {},
   "outputs": [],
   "source": [
    "_VOCAB_SPLIT = VOCAB_ITEMS.split(\"\\n\")[1:-1]"
   ]
  },
  {
   "cell_type": "code",
   "execution_count": 18,
   "metadata": {},
   "outputs": [],
   "source": [
    "VOCAB = {e[1]:e[0] for e in enumerate(_VOCAB_SPLIT)}"
   ]
  },
  {
   "cell_type": "code",
   "execution_count": 21,
   "metadata": {},
   "outputs": [],
   "source": [
    "TIMIT_MAPPING = {\n",
    "    'ax': 'AH',\n",
    "    'axr': 'ER',\n",
    "    'dx': 'T',\n",
    "    'el': ['AH', 'L'],\n",
    "    'em': ['AH', 'M'],\n",
    "    'en': ['AH', 'N'],\n",
    "    'eng': ['IH', 'NG'],\n",
    "    'hv': 'HH',\n",
    "    'ix': 'IH',\n",
    "    'nx': ['N', 'T'],\n",
    "    'pau': '<sil>',\n",
    "    'epi': '<sil>',\n",
    "    'ux': 'UW'\n",
    "}\n",
    "TIMIT_IGNORE = ['bcl', 'dcl', 'gcl', 'kcl', 'pcl', 'tcl']\n",
    "TIMIT_DISCARD = ['dx', 'nx', 'q']"
   ]
  },
  {
   "cell_type": "code",
   "execution_count": 22,
   "metadata": {},
   "outputs": [],
   "source": [
    "def map_timit_to_cmudict(timit):\n",
    "    output = []\n",
    "\n",
    "    start = 1 if timit[0] == \"h#\" else 0\n",
    "    end = -1 if timit[-1] == \"h#\" else None\n",
    "    timit = timit[start:end]\n",
    "\n",
    "    for phone in timit:\n",
    "        if phone in TIMIT_MAPPING:\n",
    "            if type(TIMIT_MAPPING[phone]) == list:\n",
    "                output += TIMIT_MAPPING[phone]\n",
    "            else:\n",
    "                output.append(TIMIT_MAPPING[phone])\n",
    "        elif phone in TIMIT_IGNORE:\n",
    "            pass\n",
    "        else:\n",
    "            output.append(phone.upper())\n",
    "    return output"
   ]
  },
  {
   "cell_type": "code",
   "execution_count": 27,
   "metadata": {},
   "outputs": [
    {
     "name": "stderr",
     "output_type": "stream",
     "text": [
      "Reusing dataset timit_asr (/Users/joregan/.cache/huggingface/datasets/timit_asr/clean/2.0.1/bce749dca50ede2d9692e53bf7eede501996e25b8aa318280ec9041a9f4c3057)\n",
      "100%|██████████| 2/2 [00:00<00:00, 395.26it/s]\n"
     ]
    }
   ],
   "source": [
    "from datasets import load_dataset\n",
    "timit = load_dataset('timit_asr')"
   ]
  },
  {
   "cell_type": "code",
   "execution_count": 33,
   "metadata": {},
   "outputs": [
    {
     "data": {
      "text/plain": [
       "Dataset({\n",
       "    features: ['file', 'text', 'phonetic_detail', 'word_detail', 'dialect_region', 'sentence_type', 'speaker_id', 'id'],\n",
       "    num_rows: 4620\n",
       "})"
      ]
     },
     "execution_count": 33,
     "metadata": {},
     "output_type": "execute_result"
    }
   ],
   "source": [
    "timit[\"train\"]"
   ]
  },
  {
   "cell_type": "code",
   "execution_count": 44,
   "metadata": {},
   "outputs": [],
   "source": [
    "def is_discardable(batch):\n",
    "    for phoneme in batch[\"phonetic_detail\"][\"utterance\"]:\n",
    "        if phoneme in TIMIT_DISCARD:\n",
    "#            print(f\"{phoneme} in {batch['phonetic_detail']['utterance']}\")\n",
    "            return False\n",
    "#        else:\n",
    "#            print(f\"{phoneme} in {batch['phonetic_detail']['utterance']}\")\n",
    "    return True"
   ]
  },
  {
   "cell_type": "code",
   "execution_count": 47,
   "metadata": {},
   "outputs": [
    {
     "name": "stderr",
     "output_type": "stream",
     "text": [
      "Loading cached processed dataset at /Users/joregan/.cache/huggingface/datasets/timit_asr/clean/2.0.1/bce749dca50ede2d9692e53bf7eede501996e25b8aa318280ec9041a9f4c3057/cache-85cb9a8128f1bd3a.arrow\n"
     ]
    }
   ],
   "source": [
    "timit_filt = timit[\"train\"].filter(lambda eg: is_discardable(eg))"
   ]
  },
  {
   "cell_type": "code",
   "execution_count": 49,
   "metadata": {},
   "outputs": [
    {
     "data": {
      "text/plain": [
       "{'file': '/Users/joregan/.cache/huggingface/datasets/downloads/extracted/c2db0843eed0da33c4a4d3300ff4c656d2f5ef99c5e799b839cae769be371c17/data/TRAIN/DR4/MMDM0/SI681.WAV',\n",
       " 'text': 'Would such an act of refusal be useful?',\n",
       " 'phonetic_detail': {'start': [0,\n",
       "   1960,\n",
       "   2466,\n",
       "   3480,\n",
       "   4000,\n",
       "   5960,\n",
       "   7480,\n",
       "   7880,\n",
       "   9400,\n",
       "   9960,\n",
       "   10680,\n",
       "   13480,\n",
       "   15680,\n",
       "   15880,\n",
       "   16920,\n",
       "   18297,\n",
       "   18882,\n",
       "   19480,\n",
       "   21723,\n",
       "   22516,\n",
       "   24040,\n",
       "   25190,\n",
       "   27080,\n",
       "   28160,\n",
       "   28560,\n",
       "   30120,\n",
       "   31832,\n",
       "   33240,\n",
       "   34640,\n",
       "   35968,\n",
       "   37720],\n",
       "  'stop': [1960,\n",
       "   2466,\n",
       "   3480,\n",
       "   4000,\n",
       "   5960,\n",
       "   7480,\n",
       "   7880,\n",
       "   9400,\n",
       "   9960,\n",
       "   10680,\n",
       "   13480,\n",
       "   15680,\n",
       "   15880,\n",
       "   16920,\n",
       "   18297,\n",
       "   18882,\n",
       "   19480,\n",
       "   21723,\n",
       "   22516,\n",
       "   24040,\n",
       "   25190,\n",
       "   27080,\n",
       "   28160,\n",
       "   28560,\n",
       "   30120,\n",
       "   31832,\n",
       "   33240,\n",
       "   34640,\n",
       "   35968,\n",
       "   37720,\n",
       "   39920],\n",
       "  'utterance': ['h#',\n",
       "   'w',\n",
       "   'ix',\n",
       "   'dcl',\n",
       "   's',\n",
       "   'ah',\n",
       "   'tcl',\n",
       "   'ch',\n",
       "   'ix',\n",
       "   'n',\n",
       "   'ae',\n",
       "   'kcl',\n",
       "   't',\n",
       "   'ix',\n",
       "   'v',\n",
       "   'r',\n",
       "   'ix',\n",
       "   'f',\n",
       "   'y',\n",
       "   'ux',\n",
       "   'zh',\n",
       "   'el',\n",
       "   'bcl',\n",
       "   'b',\n",
       "   'iy',\n",
       "   'y',\n",
       "   'ux',\n",
       "   's',\n",
       "   'f',\n",
       "   'el',\n",
       "   'h#']},\n",
       " 'word_detail': {'start': [1960,\n",
       "   4000,\n",
       "   9400,\n",
       "   10680,\n",
       "   15880,\n",
       "   18297,\n",
       "   27080,\n",
       "   30120],\n",
       "  'stop': [4000, 9400, 10680, 15880, 18297, 27080, 30120, 37720],\n",
       "  'utterance': ['would',\n",
       "   'such',\n",
       "   'an',\n",
       "   'act',\n",
       "   'of',\n",
       "   'refusal',\n",
       "   'be',\n",
       "   'useful']},\n",
       " 'dialect_region': 'DR4',\n",
       " 'sentence_type': 'SI',\n",
       " 'speaker_id': 'MMDM0',\n",
       " 'id': 'SI681'}"
      ]
     },
     "execution_count": 49,
     "metadata": {},
     "output_type": "execute_result"
    }
   ],
   "source": [
    "timit_filt[0]"
   ]
  }
 ],
 "metadata": {
  "interpreter": {
   "hash": "279d017b1d681737e71f35b98eaa9087df824225149f0ac59acfe151b4fa281b"
  },
  "kernelspec": {
   "display_name": "Python 3.8.12 ('psst')",
   "language": "python",
   "name": "python3"
  },
  "language_info": {
   "codemirror_mode": {
    "name": "ipython",
    "version": 3
   },
   "file_extension": ".py",
   "mimetype": "text/x-python",
   "name": "python",
   "nbconvert_exporter": "python",
   "pygments_lexer": "ipython3",
   "version": "3.8.12"
  },
  "orig_nbformat": 4
 },
 "nbformat": 4,
 "nbformat_minor": 2
}
