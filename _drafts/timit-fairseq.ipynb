{
 "cells": [
  {
   "cell_type": "code",
   "execution_count": 1,
   "metadata": {},
   "outputs": [],
   "source": [
    "PAD = \"<pad>\"\n",
    "UNK = \"<unk>\"\n",
    "SIL = \"<sil>\"\n",
    "SPN = \"<spn>\""
   ]
  },
  {
   "cell_type": "code",
   "execution_count": 16,
   "metadata": {},
   "outputs": [],
   "source": [
    "VOCAB_ITEMS =\"\"\"\n",
    "AA\n",
    "AE\n",
    "AH\n",
    "AO\n",
    "AW\n",
    "AX\n",
    "AY\n",
    "EH\n",
    "ER\n",
    "EY\n",
    "IH\n",
    "IY\n",
    "OW\n",
    "OY\n",
    "UH\n",
    "UW\n",
    "UX\n",
    "B\n",
    "CH\n",
    "D\n",
    "DH\n",
    "DX\n",
    "EL\n",
    "EM\n",
    "EN\n",
    "F\n",
    "G\n",
    "HH\n",
    "JH\n",
    "K\n",
    "L\n",
    "M\n",
    "N\n",
    "NG\n",
    "NX\n",
    "P\n",
    "Q\n",
    "R\n",
    "S\n",
    "SH\n",
    "T\n",
    "TH\n",
    "V\n",
    "W\n",
    "WH\n",
    "Y\n",
    "Z\n",
    "ZH\n",
    " \n",
    ".\n",
    ",\n",
    "?\n",
    "!\n",
    "\"\"\""
   ]
  },
  {
   "cell_type": "code",
   "execution_count": 17,
   "metadata": {},
   "outputs": [],
   "source": [
    "_VOCAB_SPLIT = VOCAB_ITEMS.split(\"\\n\")[1:-1]"
   ]
  },
  {
   "cell_type": "code",
   "execution_count": 18,
   "metadata": {},
   "outputs": [],
   "source": [
    "VOCAB = {e[1]:e[0] for e in enumerate(_VOCAB_SPLIT)}"
   ]
  },
  {
   "cell_type": "code",
   "execution_count": 21,
   "metadata": {},
   "outputs": [],
   "source": [
    "TIMIT_MAPPING = {\n",
    "    'ax': 'AH',\n",
    "    'axr': 'ER',\n",
    "    'dx': 'T',\n",
    "    'el': ['AH', 'L'],\n",
    "    'em': ['AH', 'M'],\n",
    "    'en': ['AH', 'N'],\n",
    "    'eng': ['IH', 'NG'],\n",
    "    'hv': 'HH',\n",
    "    'ix': 'IH',\n",
    "    'nx': ['N', 'T'],\n",
    "    'pau': '<sil>',\n",
    "    'epi': '<sil>',\n",
    "    'ux': 'UW'\n",
    "}\n",
    "TIMIT_IGNORE = ['bcl', 'dcl', 'gcl', 'kcl', 'pcl', 'tcl']\n",
    "TIMIT_DISCARD = ['dx', 'nx', 'q']"
   ]
  },
  {
   "cell_type": "code",
   "execution_count": null,
   "metadata": {},
   "outputs": [],
   "source": []
  }
 ],
 "metadata": {
  "interpreter": {
   "hash": "279d017b1d681737e71f35b98eaa9087df824225149f0ac59acfe151b4fa281b"
  },
  "kernelspec": {
   "display_name": "Python 3.8.12 ('psst')",
   "language": "python",
   "name": "python3"
  },
  "language_info": {
   "codemirror_mode": {
    "name": "ipython",
    "version": 3
   },
   "file_extension": ".py",
   "mimetype": "text/x-python",
   "name": "python",
   "nbconvert_exporter": "python",
   "pygments_lexer": "ipython3",
   "version": "3.8.12"
  },
  "orig_nbformat": 4
 },
 "nbformat": 4,
 "nbformat_minor": 2
}
