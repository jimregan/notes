{
  "nbformat": 4,
  "nbformat_minor": 0,
  "metadata": {
    "colab": {
      "name": "2021-09-05-playing-with-inaspeechsegmenter.ipynb",
      "provenance": [],
      "collapsed_sections": []
    },
    "kernelspec": {
      "name": "python3",
      "display_name": "Python 3"
    },
    "accelerator": "GPU"
  },
  "cells": [
    {
      "cell_type": "code",
      "metadata": {
        "id": "vJGyKTQJqdzq"
      },
      "source": [
        "%%capture\n",
        "!pip install inaSpeechSegmenter"
      ],
      "execution_count": 1,
      "outputs": []
    },
    {
      "cell_type": "code",
      "metadata": {
        "id": "HKCqEQgeW38-"
      },
      "source": [
        "from inaSpeechSegmenter import Segmenter"
      ],
      "execution_count": 2,
      "outputs": []
    },
    {
      "cell_type": "code",
      "metadata": {
        "id": "f5u8wRm3GYFr"
      },
      "source": [
        "%%capture\n",
        "!wget https://podcast.rasset.ie/podcasts/audio/2021/0626/20210626_rteraidion-bailiuchanbhairbre-bailichnbh_c21974765_21975131_232_.mp3"
      ],
      "execution_count": 3,
      "outputs": []
    },
    {
      "cell_type": "code",
      "metadata": {
        "id": "_1FfyTTCePSR"
      },
      "source": [
        "seg = Segmenter()"
      ],
      "execution_count": 4,
      "outputs": []
    },
    {
      "cell_type": "code",
      "metadata": {
        "id": "go1wJBYJnsIx",
        "colab": {
          "base_uri": "https://localhost:8080/"
        },
        "outputId": "cf3420e3-2cbf-488b-da70-f20d1a735e7b"
      },
      "source": [
        "segmentation = seg('20210626_rteraidion-bailiuchanbhairbre-bailichnbh_c21974765_21975131_232_.mp3')"
      ],
      "execution_count": 5,
      "outputs": [
        {
          "output_type": "stream",
          "name": "stderr",
          "text": [
            "/usr/local/lib/python3.7/dist-packages/pyannote/algorithms/utils/viterbi.py:88: FutureWarning: arrays to stack must be passed as a \"sequence\" type such as list or tuple. Support for non-sequence iterables such as generators is deprecated as of NumPy 1.16 and will raise an error in the future.\n",
            "  for e, c in six.moves.zip(emission.T, consecutive)\n",
            "/usr/local/lib/python3.7/dist-packages/pyannote/algorithms/utils/viterbi.py:97: FutureWarning: arrays to stack must be passed as a \"sequence\" type such as list or tuple. Support for non-sequence iterables such as generators is deprecated as of NumPy 1.16 and will raise an error in the future.\n",
            "  for e, c in six.moves.zip(constraint.T, consecutive)\n"
          ]
        }
      ]
    },
    {
      "cell_type": "code",
      "metadata": {
        "colab": {
          "base_uri": "https://localhost:8080/"
        },
        "id": "1P8Q0jfYfZMa",
        "outputId": "3a593723-f447-449c-9b7f-1b2e2151ebd0"
      },
      "source": [
        "segmentation[0:6]"
      ],
      "execution_count": 6,
      "outputs": [
        {
          "output_type": "execute_result",
          "data": {
            "text/plain": [
              "[('noEnergy', 0.0, 0.88),\n",
              " ('music', 0.88, 4.72),\n",
              " ('female', 4.72, 6.82),\n",
              " ('male', 6.82, 11.34),\n",
              " ('music', 11.34, 15.38),\n",
              " ('male', 15.38, 26.68)]"
            ]
          },
          "metadata": {},
          "execution_count": 6
        }
      ]
    },
    {
      "cell_type": "code",
      "metadata": {
        "colab": {
          "base_uri": "https://localhost:8080/"
        },
        "id": "5L2ZGIlEfhvl",
        "outputId": "c1ca0c01-58fa-43e7-a1d5-316b0a4f36bb"
      },
      "source": [
        "!pip install pydub"
      ],
      "execution_count": null,
      "outputs": [
        {
          "output_type": "stream",
          "name": "stdout",
          "text": [
            "Collecting pydub\n",
            "  Downloading pydub-0.25.1-py2.py3-none-any.whl (32 kB)\n",
            "Installing collected packages: pydub\n",
            "Successfully installed pydub-0.25.1\n"
          ]
        }
      ]
    },
    {
      "cell_type": "code",
      "metadata": {
        "id": "we0uPYWEflCd"
      },
      "source": [
        "from pydub import AudioSegment\n",
        "audio = AudioSegment.from_mp3('20210626_rteraidion-bailiuchanbhairbre-bailichnbh_c21974765_21975131_232_.mp3')"
      ],
      "execution_count": null,
      "outputs": []
    },
    {
      "cell_type": "code",
      "metadata": {
        "id": "veZgki1MgXyM"
      },
      "source": [
        "clip1 = audio[int(0.88 * 1000):int(4.72 * 1000)]"
      ],
      "execution_count": null,
      "outputs": []
    },
    {
      "cell_type": "code",
      "metadata": {
        "colab": {
          "base_uri": "https://localhost:8080/"
        },
        "id": "hrUUOPuqhNoR",
        "outputId": "09270e51-014d-40b1-d1b3-ea99b40f68ba"
      },
      "source": [
        "clip1.export(\"clip1.ogg\", format=\"ogg\")"
      ],
      "execution_count": null,
      "outputs": [
        {
          "output_type": "execute_result",
          "data": {
            "text/plain": [
              "<_io.BufferedRandom name='clip1.ogg'>"
            ]
          },
          "metadata": {},
          "execution_count": 18
        }
      ]
    },
    {
      "cell_type": "code",
      "metadata": {
        "id": "VV42yQoag0Eo"
      },
      "source": [
        "import IPython\n",
        "IPython.display.Audio(\"clip1.ogg\")"
      ],
      "execution_count": null,
      "outputs": []
    },
    {
      "cell_type": "code",
      "metadata": {
        "id": "r-hg_pDFhqrx"
      },
      "source": [
        "clip2 = audio[int(4.72 * 1000):int(11.34 * 1000)]\n",
        "clip2.export(\"clip2.ogg\", format=\"ogg\")\n",
        "IPython.display.Audio(\"clip2.ogg\")"
      ],
      "execution_count": null,
      "outputs": []
    },
    {
      "cell_type": "code",
      "metadata": {
        "id": "rFm3mblnia9s"
      },
      "source": [
        "clip3 = audio[int(981.08 * 1000):int(992.74 * 1000)]\n",
        "clip3.export(\"clip3.ogg\", format=\"ogg\")\n",
        "IPython.display.Audio(\"clip3.ogg\")"
      ],
      "execution_count": null,
      "outputs": []
    }
  ]
}