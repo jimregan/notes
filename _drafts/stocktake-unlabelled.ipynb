{
 "cells": [
  {
   "cell_type": "markdown",
   "metadata": {},
   "source": [
    "First thing: check that this is running on the right computer:"
   ]
  },
  {
   "cell_type": "code",
   "execution_count": 4,
   "metadata": {},
   "outputs": [],
   "source": [
    "import socket\n",
    "assert socket.gethostname() == \"lcs098116\""
   ]
  },
  {
   "cell_type": "code",
   "execution_count": 6,
   "metadata": {},
   "outputs": [],
   "source": [
    "from pathlib import Path\n",
    "base_path = Path(\"/media/storage/jim/Playing/unlabelled/\")"
   ]
  },
  {
   "cell_type": "markdown",
   "metadata": {},
   "source": [
    "Some imports for later:"
   ]
  },
  {
   "cell_type": "code",
   "execution_count": 17,
   "metadata": {},
   "outputs": [],
   "source": [
    "from pydub import AudioSegment\n",
    "import numpy as np\n",
    "import datetime"
   ]
  },
  {
   "cell_type": "markdown",
   "metadata": {},
   "source": [
    "# BBC clips"
   ]
  },
  {
   "cell_type": "code",
   "execution_count": 12,
   "metadata": {},
   "outputs": [],
   "source": [
    "bbc = base_path / \"bbc\"\n",
    "acc = []\n",
    "for audio in bbc.glob(\"*.m4a\"):    \n",
    "    audio = AudioSegment.from_file(str(audio))\n",
    "    acc.append(audio.duration_seconds)"
   ]
  },
  {
   "cell_type": "code",
   "execution_count": 15,
   "metadata": {},
   "outputs": [],
   "source": [
    "bbc_audio_total = np.sum(acc)"
   ]
  },
  {
   "cell_type": "code",
   "execution_count": 19,
   "metadata": {},
   "outputs": [],
   "source": [
    "bbc_audio_hms = str(datetime.timedelta(seconds=bbc_audio_total))"
   ]
  },
  {
   "cell_type": "code",
   "execution_count": 20,
   "metadata": {},
   "outputs": [],
   "source": [
    "acc = []\n",
    "for audio in bbc.glob(\"*.mp4\"):\n",
    "    audio = AudioSegment.from_file(str(audio))\n",
    "    acc.append(audio.duration_seconds)"
   ]
  },
  {
   "cell_type": "code",
   "execution_count": 21,
   "metadata": {},
   "outputs": [],
   "source": [
    "bbc_video_total = np.sum(acc)\n",
    "bbc_video_hms = str(datetime.timedelta(seconds=bbc_video_total))"
   ]
  },
  {
   "cell_type": "code",
   "execution_count": 22,
   "metadata": {},
   "outputs": [],
   "source": [
    "bbc_combined_total = bbc_audio_total + bbc_video_total\n",
    "bbc_combined_hms = str(datetime.timedelta(seconds=bbc_combined_total))"
   ]
  },
  {
   "cell_type": "code",
   "execution_count": 23,
   "metadata": {},
   "outputs": [
    {
     "name": "stdout",
     "output_type": "stream",
     "text": [
      "BBC audio: 41793.49333333334 seconds (11:36:33.493333)\n",
      "BBC video: 70314.97941043084 seconds (19:31:54.979410)\n",
      "BBC combined: 112108.47274376417 seconds (1 day, 7:08:28.472744)\n"
     ]
    }
   ],
   "source": [
    "print(f\"BBC audio: {bbc_audio_total} seconds ({bbc_audio_hms})\")\n",
    "print(f\"BBC video: {bbc_video_total} seconds ({bbc_video_hms})\")\n",
    "print(f\"BBC combined: {bbc_combined_total} seconds ({bbc_combined_hms})\")"
   ]
  }
 ],
 "metadata": {
  "kernelspec": {
   "display_name": "Python 3",
   "language": "python",
   "name": "python3"
  },
  "language_info": {
   "codemirror_mode": {
    "name": "ipython",
    "version": 3
   },
   "file_extension": ".py",
   "mimetype": "text/x-python",
   "name": "python",
   "nbconvert_exporter": "python",
   "pygments_lexer": "ipython3",
   "version": "3.6.9"
  }
 },
 "nbformat": 4,
 "nbformat_minor": 2
}
