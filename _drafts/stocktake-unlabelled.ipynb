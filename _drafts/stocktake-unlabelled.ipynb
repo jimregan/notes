{
 "cells": [
  {
   "cell_type": "markdown",
   "metadata": {},
   "source": [
    "First thing: check that this is running on the right computer:"
   ]
  },
  {
   "cell_type": "code",
   "execution_count": 4,
   "metadata": {},
   "outputs": [],
   "source": [
    "import socket\n",
    "assert socket.gethostname() == \"lcs098116\""
   ]
  },
  {
   "cell_type": "code",
   "execution_count": 6,
   "metadata": {},
   "outputs": [],
   "source": [
    "from pathlib import Path\n",
    "base_path = Path(\"/media/storage/jim/Playing/unlabelled/\")"
   ]
  },
  {
   "cell_type": "markdown",
   "metadata": {},
   "source": [
    "Some imports for later:"
   ]
  },
  {
   "cell_type": "code",
   "execution_count": 24,
   "metadata": {},
   "outputs": [],
   "source": [
    "from pydub import AudioSegment\n",
    "import numpy as np\n",
    "import datetime\n",
    "import pandas as pd"
   ]
  },
  {
   "cell_type": "code",
   "execution_count": 25,
   "metadata": {},
   "outputs": [],
   "source": [
    "df = pd.DataFrame(columns=[\"name\", \"seconds\", \"hms\"])\n",
    "df_cnt = 0"
   ]
  },
  {
   "cell_type": "code",
   "execution_count": 32,
   "metadata": {},
   "outputs": [],
   "source": [
    "def sum_path_by_type(path, pattern):\n",
    "    acc = []\n",
    "    for audio in path.glob(pattern):\n",
    "        audio = AudioSegment.from_file(str(audio))\n",
    "        acc.append(audio.duration_seconds)\n",
    "    return np.sum(acc)"
   ]
  },
  {
   "cell_type": "markdown",
   "metadata": {},
   "source": [
    "# BBC clips"
   ]
  },
  {
   "cell_type": "code",
   "execution_count": 12,
   "metadata": {},
   "outputs": [],
   "source": [
    "bbc = base_path / \"bbc\""
   ]
  },
  {
   "cell_type": "code",
   "execution_count": 15,
   "metadata": {},
   "outputs": [],
   "source": [
    "bbc_audio_total = sum_path_by_type(bbc, \"*.m4a\")"
   ]
  },
  {
   "cell_type": "code",
   "execution_count": 19,
   "metadata": {},
   "outputs": [],
   "source": [
    "bbc_audio_hms = str(datetime.timedelta(seconds=bbc_audio_total))"
   ]
  },
  {
   "cell_type": "code",
   "execution_count": 21,
   "metadata": {},
   "outputs": [],
   "source": [
    "bbc_video_total =  = sum_path_by_type(bbc, \"*.mp4\")\n",
    "bbc_video_hms = str(datetime.timedelta(seconds=bbc_video_total))"
   ]
  },
  {
   "cell_type": "code",
   "execution_count": 22,
   "metadata": {},
   "outputs": [],
   "source": [
    "bbc_combined_total = bbc_audio_total + bbc_video_total\n",
    "bbc_combined_hms = str(datetime.timedelta(seconds=bbc_combined_total))"
   ]
  },
  {
   "cell_type": "code",
   "execution_count": 23,
   "metadata": {},
   "outputs": [
    {
     "name": "stdout",
     "output_type": "stream",
     "text": [
      "BBC audio: 41793.49333333334 seconds (11:36:33.493333)\n",
      "BBC video: 70314.97941043084 seconds (19:31:54.979410)\n",
      "BBC combined: 112108.47274376417 seconds (1 day, 7:08:28.472744)\n"
     ]
    }
   ],
   "source": [
    "print(f\"BBC audio: {bbc_audio_total} seconds ({bbc_audio_hms})\")\n",
    "print(f\"BBC video: {bbc_video_total} seconds ({bbc_video_hms})\")\n",
    "print(f\"BBC combined: {bbc_combined_total} seconds ({bbc_combined_hms})\")"
   ]
  },
  {
   "cell_type": "code",
   "execution_count": 26,
   "metadata": {},
   "outputs": [],
   "source": [
    "df.loc[df_cnt] = ['BBC audio', bbc_audio_total, bbc_audio_hms]\n",
    "df_cnt += 1\n",
    "df.loc[df_cnt] = ['BBC video', bbc_video_total, bbc_video_hms]\n",
    "df_cnt += 1"
   ]
  },
  {
   "cell_type": "markdown",
   "metadata": {},
   "source": [
    "# RnaG"
   ]
  },
  {
   "cell_type": "code",
   "execution_count": 28,
   "metadata": {},
   "outputs": [],
   "source": [
    "rnag = base_path / \"podcasts\" / \"rnag\"\n",
    "rnag_total = sum_path_by_type(rnag, \"*.mp3\")\n",
    "rnag_hms = str(datetime.timedelta(seconds=rnag_total))"
   ]
  },
  {
   "cell_type": "code",
   "execution_count": 30,
   "metadata": {},
   "outputs": [
    {
     "name": "stdout",
     "output_type": "stream",
     "text": [
      "RnaG podcasts: 629406.0146938775 seconds (7 days, 6:50:06.014694)\n"
     ]
    }
   ],
   "source": [
    "print(f\"RnaG podcasts: {rnag_total} seconds ({rnag_hms})\")\n",
    "df.loc[df_cnt] = ['RnaG podcasts', rnag_total, rnag_hms]\n",
    "df_cnt += 1"
   ]
  },
  {
   "cell_type": "markdown",
   "metadata": {},
   "source": [
    "# Soundcloud"
   ]
  },
  {
   "cell_type": "code",
   "execution_count": 33,
   "metadata": {},
   "outputs": [],
   "source": [
    "def sum_path_by_type_l(path, patterns):\n",
    "    acc = []\n",
    "    for pattern in patterns:\n",
    "        for audio in path.glob(pattern):\n",
    "            audio = AudioSegment.from_file(str(audio))\n",
    "            acc.append(audio.duration_seconds)\n",
    "    return np.sum(acc)"
   ]
  },
  {
   "cell_type": "code",
   "execution_count": null,
   "metadata": {},
   "outputs": [],
   "source": [
    "pats = [\"*.mp3\", \"*.MP3\", \"*.wav\", \"*.m4a\"]\n",
    "scdirs = [\"clubleabhar\", \"coislife\", \"forasnagaeilge\", \"nos\", \"raidiofailte\", \"rnag\", \"rnl\", \"tuairisc\"]\n",
    "\n",
    "soundcloud_totals = {}\n",
    "sc_path = base_path / \"soundcloud\"\n",
    "for scdir in scdirs:\n",
    "    cur_path = sc_path / scdir\n",
    "    aud_total = sum_path_by_type_l(cur_path, pats)\n",
    "    soundcloud_totals[scdir] = aud_total"
   ]
  },
  {
   "cell_type": "code",
   "execution_count": null,
   "metadata": {},
   "outputs": [],
   "source": [
    "soundcloud_hms = {}\n",
    "for scdir in soundcloud_totals.keys():\n",
    "    soundcloud_hms[scdir] = str(datetime.timedelta(seconds=soundcloud_totals[scdir]))\n",
    "    print(f\"{scdir} soundcloud: {soundcloud_totals[scdir]} seconds ({soundcloud_hms[scdir]})\")"
   ]
  },
  {
   "cell_type": "code",
   "execution_count": null,
   "metadata": {},
   "outputs": [],
   "source": [
    "for scdir in soundcloud_totals.keys():\n",
    "    df.loc[df_cnt] = [f\"{scdir} soundcloud\", soundcloud_totals[scdir], soundcloud_hms[scdir]]\n",
    "    df_cnt += 1"
   ]
  },
  {
   "cell_type": "code",
   "execution_count": null,
   "metadata": {},
   "outputs": [],
   "source": [
    "df.to_csv(\"unlabelled.csv\")"
   ]
  },
  {
   "cell_type": "code",
   "execution_count": null,
   "metadata": {},
   "outputs": [],
   "source": [
    "%load_ext google.colab.data_table\n",
    "df"
   ]
  }
 ],
 "metadata": {
  "kernelspec": {
   "display_name": "Python 3",
   "language": "python",
   "name": "python3"
  },
  "language_info": {
   "codemirror_mode": {
    "name": "ipython",
    "version": 3
   },
   "file_extension": ".py",
   "mimetype": "text/x-python",
   "name": "python",
   "nbconvert_exporter": "python",
   "pygments_lexer": "ipython3",
   "version": "3.6.9"
  }
 },
 "nbformat": 4,
 "nbformat_minor": 2
}
