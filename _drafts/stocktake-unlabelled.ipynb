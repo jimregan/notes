{
 "cells": [
  {
   "cell_type": "markdown",
   "metadata": {},
   "source": [
    "First thing: check that this is running on the right computer:"
   ]
  },
  {
   "cell_type": "code",
   "execution_count": 1,
   "metadata": {},
   "outputs": [],
   "source": [
    "import socket\n",
    "assert socket.gethostname() == \"lcs098116\""
   ]
  },
  {
   "cell_type": "code",
   "execution_count": 2,
   "metadata": {},
   "outputs": [],
   "source": [
    "from pathlib import Path\n",
    "base_path = Path(\"/media/storage/jim/Playing/unlabelled/\")"
   ]
  },
  {
   "cell_type": "markdown",
   "metadata": {},
   "source": [
    "Some imports for later:"
   ]
  },
  {
   "cell_type": "code",
   "execution_count": 3,
   "metadata": {},
   "outputs": [],
   "source": [
    "from pydub import AudioSegment\n",
    "import numpy as np\n",
    "import datetime\n",
    "import pandas as pd"
   ]
  },
  {
   "cell_type": "code",
   "execution_count": 4,
   "metadata": {},
   "outputs": [],
   "source": [
    "df = pd.DataFrame(columns=[\"name\", \"seconds\", \"hms\"])\n",
    "df_cnt = 0"
   ]
  },
  {
   "cell_type": "code",
   "execution_count": 5,
   "metadata": {},
   "outputs": [],
   "source": [
    "def sum_path_by_type(path, pattern):\n",
    "    acc = []\n",
    "    for audio in path.glob(pattern):\n",
    "        audio = AudioSegment.from_file(str(audio))\n",
    "        acc.append(audio.duration_seconds)\n",
    "    return np.sum(acc)"
   ]
  },
  {
   "cell_type": "markdown",
   "metadata": {},
   "source": [
    "# BBC clips"
   ]
  },
  {
   "cell_type": "code",
   "execution_count": 6,
   "metadata": {},
   "outputs": [],
   "source": [
    "bbc = base_path / \"bbc\""
   ]
  },
  {
   "cell_type": "code",
   "execution_count": 7,
   "metadata": {},
   "outputs": [],
   "source": [
    "bbc_audio_total = sum_path_by_type(bbc, \"*.m4a\")"
   ]
  },
  {
   "cell_type": "code",
   "execution_count": 8,
   "metadata": {},
   "outputs": [],
   "source": [
    "bbc_audio_hms = str(datetime.timedelta(seconds=bbc_audio_total))"
   ]
  },
  {
   "cell_type": "code",
   "execution_count": 9,
   "metadata": {},
   "outputs": [],
   "source": [
    "bbc_video_total = sum_path_by_type(bbc, \"*.mp4\")\n",
    "bbc_video_hms = str(datetime.timedelta(seconds=bbc_video_total))"
   ]
  },
  {
   "cell_type": "code",
   "execution_count": 10,
   "metadata": {},
   "outputs": [],
   "source": [
    "bbc_combined_total = bbc_audio_total + bbc_video_total\n",
    "bbc_combined_hms = str(datetime.timedelta(seconds=bbc_combined_total))"
   ]
  },
  {
   "cell_type": "code",
   "execution_count": 11,
   "metadata": {},
   "outputs": [
    {
     "name": "stdout",
     "output_type": "stream",
     "text": [
      "BBC audio: 41793.49333333334 seconds (11:36:33.493333)\n",
      "BBC video: 70314.97941043084 seconds (19:31:54.979410)\n",
      "BBC combined: 112108.47274376417 seconds (1 day, 7:08:28.472744)\n"
     ]
    }
   ],
   "source": [
    "print(f\"BBC audio: {bbc_audio_total} seconds ({bbc_audio_hms})\")\n",
    "print(f\"BBC video: {bbc_video_total} seconds ({bbc_video_hms})\")\n",
    "print(f\"BBC combined: {bbc_combined_total} seconds ({bbc_combined_hms})\")"
   ]
  },
  {
   "cell_type": "code",
   "execution_count": 12,
   "metadata": {},
   "outputs": [],
   "source": [
    "df.loc[df_cnt] = ['BBC audio', bbc_audio_total, bbc_audio_hms]\n",
    "df_cnt += 1\n",
    "df.loc[df_cnt] = ['BBC video', bbc_video_total, bbc_video_hms]\n",
    "df_cnt += 1"
   ]
  },
  {
   "cell_type": "markdown",
   "metadata": {},
   "source": [
    "# RnaG"
   ]
  },
  {
   "cell_type": "code",
   "execution_count": 13,
   "metadata": {},
   "outputs": [],
   "source": [
    "rnag = base_path / \"podcasts\" / \"rnag\"\n",
    "rnag_total = sum_path_by_type(rnag, \"*.mp3\")\n",
    "rnag_hms = str(datetime.timedelta(seconds=rnag_total))"
   ]
  },
  {
   "cell_type": "code",
   "execution_count": 14,
   "metadata": {},
   "outputs": [
    {
     "name": "stdout",
     "output_type": "stream",
     "text": [
      "RnaG podcasts: 629406.0146938775 seconds (7 days, 6:50:06.014694)\n"
     ]
    }
   ],
   "source": [
    "print(f\"RnaG podcasts: {rnag_total} seconds ({rnag_hms})\")\n",
    "df.loc[df_cnt] = ['RnaG podcasts', rnag_total, rnag_hms]\n",
    "df_cnt += 1"
   ]
  },
  {
   "cell_type": "markdown",
   "metadata": {},
   "source": [
    "# Soundcloud"
   ]
  },
  {
   "cell_type": "code",
   "execution_count": 15,
   "metadata": {},
   "outputs": [],
   "source": [
    "def sum_path_by_type_l(path, patterns):\n",
    "    acc = []\n",
    "    for pattern in patterns:\n",
    "        for audio in path.glob(pattern):\n",
    "            audio = AudioSegment.from_file(str(audio))\n",
    "            acc.append(audio.duration_seconds)\n",
    "    return np.sum(acc)"
   ]
  },
  {
   "cell_type": "code",
   "execution_count": 16,
   "metadata": {},
   "outputs": [],
   "source": [
    "pats = [\"*.mp3\", \"*.MP3\", \"*.wav\", \"*.m4a\"]\n",
    "scdirs = [\"clubleabhar\", \"coislife\", \"forasnagaeilge\", \"nos\", \"raidiofailte\", \"rnag\", \"rnl\", \"tuairisc\"]\n",
    "\n",
    "soundcloud_totals = {}\n",
    "sc_path = base_path / \"soundcloud\"\n",
    "for scdir in scdirs:\n",
    "    cur_path = sc_path / scdir\n",
    "    aud_total = sum_path_by_type_l(cur_path, pats)\n",
    "    soundcloud_totals[scdir] = aud_total"
   ]
  },
  {
   "cell_type": "code",
   "execution_count": 17,
   "metadata": {},
   "outputs": [
    {
     "name": "stdout",
     "output_type": "stream",
     "text": [
      "clubleabhar soundcloud: 90873.72494125566 seconds (1 day, 1:14:33.724941)\n",
      "coislife soundcloud: 249077.49430839 seconds (2 days, 21:11:17.494308)\n",
      "forasnagaeilge soundcloud: 54686.50995464853 seconds (15:11:26.509955)\n",
      "nos soundcloud: 71400.43099773242 seconds (19:50:00.430998)\n",
      "raidiofailte soundcloud: 964028.171941043 seconds (11 days, 3:47:08.171941)\n",
      "rnag soundcloud: 8012.71469387755 seconds (2:13:32.714694)\n",
      "rnl soundcloud: 2468330.290506661 seconds (28 days, 13:38:50.290507)\n",
      "tuairisc soundcloud: 43831.89979591836 seconds (12:10:31.899796)\n"
     ]
    }
   ],
   "source": [
    "soundcloud_hms = {}\n",
    "for scdir in soundcloud_totals.keys():\n",
    "    soundcloud_hms[scdir] = str(datetime.timedelta(seconds=soundcloud_totals[scdir]))\n",
    "    print(f\"{scdir} soundcloud: {soundcloud_totals[scdir]} seconds ({soundcloud_hms[scdir]})\")"
   ]
  },
  {
   "cell_type": "code",
   "execution_count": 18,
   "metadata": {},
   "outputs": [],
   "source": [
    "for scdir in soundcloud_totals.keys():\n",
    "    df.loc[df_cnt] = [f\"{scdir} soundcloud\", soundcloud_totals[scdir], soundcloud_hms[scdir]]\n",
    "    df_cnt += 1"
   ]
  },
  {
   "cell_type": "code",
   "execution_count": 19,
   "metadata": {},
   "outputs": [],
   "source": [
    "df.to_csv(\"unlabelled.csv\")"
   ]
  },
  {
   "cell_type": "code",
   "execution_count": 21,
   "metadata": {},
   "outputs": [
    {
     "data": {
      "text/html": [
       "<table border=\"1\" class=\"dataframe\">\n",
       "  <thead>\n",
       "    <tr style=\"text-align: right;\">\n",
       "      <th></th>\n",
       "      <th>name</th>\n",
       "      <th>seconds</th>\n",
       "      <th>hms</th>\n",
       "    </tr>\n",
       "  </thead>\n",
       "  <tbody>\n",
       "    <tr>\n",
       "      <th>0</th>\n",
       "      <td>BBC audio</td>\n",
       "      <td>4.179349e+04</td>\n",
       "      <td>11:36:33.493333</td>\n",
       "    </tr>\n",
       "    <tr>\n",
       "      <th>1</th>\n",
       "      <td>BBC video</td>\n",
       "      <td>7.031498e+04</td>\n",
       "      <td>19:31:54.979410</td>\n",
       "    </tr>\n",
       "    <tr>\n",
       "      <th>2</th>\n",
       "      <td>RnaG podcasts</td>\n",
       "      <td>6.294060e+05</td>\n",
       "      <td>7 days, 6:50:06.014694</td>\n",
       "    </tr>\n",
       "    <tr>\n",
       "      <th>3</th>\n",
       "      <td>clubleabhar soundcloud</td>\n",
       "      <td>9.087372e+04</td>\n",
       "      <td>1 day, 1:14:33.724941</td>\n",
       "    </tr>\n",
       "    <tr>\n",
       "      <th>4</th>\n",
       "      <td>coislife soundcloud</td>\n",
       "      <td>2.490775e+05</td>\n",
       "      <td>2 days, 21:11:17.494308</td>\n",
       "    </tr>\n",
       "    <tr>\n",
       "      <th>5</th>\n",
       "      <td>forasnagaeilge soundcloud</td>\n",
       "      <td>5.468651e+04</td>\n",
       "      <td>15:11:26.509955</td>\n",
       "    </tr>\n",
       "    <tr>\n",
       "      <th>6</th>\n",
       "      <td>nos soundcloud</td>\n",
       "      <td>7.140043e+04</td>\n",
       "      <td>19:50:00.430998</td>\n",
       "    </tr>\n",
       "    <tr>\n",
       "      <th>7</th>\n",
       "      <td>raidiofailte soundcloud</td>\n",
       "      <td>9.640282e+05</td>\n",
       "      <td>11 days, 3:47:08.171941</td>\n",
       "    </tr>\n",
       "    <tr>\n",
       "      <th>8</th>\n",
       "      <td>rnag soundcloud</td>\n",
       "      <td>8.012715e+03</td>\n",
       "      <td>2:13:32.714694</td>\n",
       "    </tr>\n",
       "    <tr>\n",
       "      <th>9</th>\n",
       "      <td>rnl soundcloud</td>\n",
       "      <td>2.468330e+06</td>\n",
       "      <td>28 days, 13:38:50.290507</td>\n",
       "    </tr>\n",
       "    <tr>\n",
       "      <th>10</th>\n",
       "      <td>tuairisc soundcloud</td>\n",
       "      <td>4.383190e+04</td>\n",
       "      <td>12:10:31.899796</td>\n",
       "    </tr>\n",
       "  </tbody>\n",
       "</table>"
      ],
      "text/plain": [
       "<IPython.core.display.HTML object>"
      ]
     },
     "metadata": {},
     "output_type": "display_data"
    }
   ],
   "source": [
    "from IPython.display import display, HTML\n",
    "display(HTML(df.to_html()))"
   ]
  },
  {
   "cell_type": "markdown",
   "metadata": {},
   "source": [
    "# Corpora/TG4\n",
    "\n",
    "Location: `/media/storage/jim/speech-syn/Corpora/TG4`"
   ]
  },
  {
   "cell_type": "code",
   "execution_count": 22,
   "metadata": {},
   "outputs": [],
   "source": [
    "base2 = Path('/media/storage/jim/speech-syn/Corpora/TG4')"
   ]
  },
  {
   "cell_type": "code",
   "execution_count": 23,
   "metadata": {},
   "outputs": [],
   "source": [
    "kids_speech = base2 / \"no-subtitles-kids\""
   ]
  },
  {
   "cell_type": "code",
   "execution_count": 24,
   "metadata": {},
   "outputs": [],
   "source": [
    "ks_dirs = []\n",
    "for dir in kids_speech.glob(\"*\"):\n",
    "    if dir.is_dir():\n",
    "        ks_dirs.append(dir.stem)"
   ]
  },
  {
   "cell_type": "code",
   "execution_count": 28,
   "metadata": {},
   "outputs": [],
   "source": [
    "totals = {}\n",
    "totals_hms = {}\n",
    "for dir in ks_dirs:\n",
    "    totals[dir] = sum_path_by_type(kids_speech / dir, \"*.wav\")\n",
    "    totals_hms[dir] = str(datetime.timedelta(seconds=totals[dir]))"
   ]
  },
  {
   "cell_type": "code",
   "execution_count": 29,
   "metadata": {},
   "outputs": [
    {
     "name": "stdout",
     "output_type": "stream",
     "text": [
      "TG4 kids leirmheasnanog: 813.0347499999999 seconds (0:13:33.034750)\n",
      "TG4 kids bialinn: 6166.8481875 seconds (1:42:46.848187)\n",
      "TG4 kids culaclab: 1698.32575 seconds (0:28:18.325750)\n",
      "TG4 kids cluichicula: 15772.39525 seconds (4:22:52.395250)\n"
     ]
    }
   ],
   "source": [
    "for dir in ks_dirs:\n",
    "    print(f\"TG4 kids {dir}: {totals[dir]} seconds ({totals_hms[dir]})\")"
   ]
  },
  {
   "cell_type": "code",
   "execution_count": 30,
   "metadata": {},
   "outputs": [],
   "source": [
    "for scdir in totals.keys():\n",
    "    df.loc[df_cnt] = [f\"TG4 kids {scdir}\", totals[scdir], totals_hms[scdir]]\n",
    "    df_cnt += 1"
   ]
  },
  {
   "cell_type": "code",
   "execution_count": 32,
   "metadata": {},
   "outputs": [],
   "source": [
    "cic = base2 / \"CloIarChonnacht\""
   ]
  },
  {
   "cell_type": "code",
   "execution_count": 33,
   "metadata": {},
   "outputs": [],
   "source": [
    "cic_totals = sum_path_by_type(cic, \"*.mp3\")\n",
    "cic_hms = str(datetime.timedelta(seconds=cic_totals))"
   ]
  },
  {
   "cell_type": "code",
   "execution_count": 34,
   "metadata": {},
   "outputs": [
    {
     "name": "stdout",
     "output_type": "stream",
     "text": [
      "Cló Iar-Chonnacht: 41162.515396825394 seconds (11:26:02.515397)\n"
     ]
    }
   ],
   "source": [
    "print(f\"Cló Iar-Chonnacht: {cic_totals} seconds ({cic_hms})\")"
   ]
  },
  {
   "cell_type": "code",
   "execution_count": 35,
   "metadata": {},
   "outputs": [],
   "source": [
    "df.loc[df_cnt] = [f\"Cló Iar-Chonnacht\", cic_totals, cic_hms]\n",
    "df_cnt += 1"
   ]
  },
  {
   "cell_type": "code",
   "execution_count": 36,
   "metadata": {},
   "outputs": [],
   "source": [
    "df.to_csv(\"unlabelled.csv\")"
   ]
  },
  {
   "cell_type": "code",
   "execution_count": 37,
   "metadata": {},
   "outputs": [
    {
     "data": {
      "text/html": [
       "<table border=\"1\" class=\"dataframe\">\n",
       "  <thead>\n",
       "    <tr style=\"text-align: right;\">\n",
       "      <th></th>\n",
       "      <th>name</th>\n",
       "      <th>seconds</th>\n",
       "      <th>hms</th>\n",
       "    </tr>\n",
       "  </thead>\n",
       "  <tbody>\n",
       "    <tr>\n",
       "      <th>0</th>\n",
       "      <td>BBC audio</td>\n",
       "      <td>4.179349e+04</td>\n",
       "      <td>11:36:33.493333</td>\n",
       "    </tr>\n",
       "    <tr>\n",
       "      <th>1</th>\n",
       "      <td>BBC video</td>\n",
       "      <td>7.031498e+04</td>\n",
       "      <td>19:31:54.979410</td>\n",
       "    </tr>\n",
       "    <tr>\n",
       "      <th>2</th>\n",
       "      <td>RnaG podcasts</td>\n",
       "      <td>6.294060e+05</td>\n",
       "      <td>7 days, 6:50:06.014694</td>\n",
       "    </tr>\n",
       "    <tr>\n",
       "      <th>3</th>\n",
       "      <td>clubleabhar soundcloud</td>\n",
       "      <td>9.087372e+04</td>\n",
       "      <td>1 day, 1:14:33.724941</td>\n",
       "    </tr>\n",
       "    <tr>\n",
       "      <th>4</th>\n",
       "      <td>coislife soundcloud</td>\n",
       "      <td>2.490775e+05</td>\n",
       "      <td>2 days, 21:11:17.494308</td>\n",
       "    </tr>\n",
       "    <tr>\n",
       "      <th>5</th>\n",
       "      <td>forasnagaeilge soundcloud</td>\n",
       "      <td>5.468651e+04</td>\n",
       "      <td>15:11:26.509955</td>\n",
       "    </tr>\n",
       "    <tr>\n",
       "      <th>6</th>\n",
       "      <td>nos soundcloud</td>\n",
       "      <td>7.140043e+04</td>\n",
       "      <td>19:50:00.430998</td>\n",
       "    </tr>\n",
       "    <tr>\n",
       "      <th>7</th>\n",
       "      <td>raidiofailte soundcloud</td>\n",
       "      <td>9.640282e+05</td>\n",
       "      <td>11 days, 3:47:08.171941</td>\n",
       "    </tr>\n",
       "    <tr>\n",
       "      <th>8</th>\n",
       "      <td>rnag soundcloud</td>\n",
       "      <td>8.012715e+03</td>\n",
       "      <td>2:13:32.714694</td>\n",
       "    </tr>\n",
       "    <tr>\n",
       "      <th>9</th>\n",
       "      <td>rnl soundcloud</td>\n",
       "      <td>2.468330e+06</td>\n",
       "      <td>28 days, 13:38:50.290507</td>\n",
       "    </tr>\n",
       "    <tr>\n",
       "      <th>10</th>\n",
       "      <td>tuairisc soundcloud</td>\n",
       "      <td>4.383190e+04</td>\n",
       "      <td>12:10:31.899796</td>\n",
       "    </tr>\n",
       "    <tr>\n",
       "      <th>11</th>\n",
       "      <td>TG4 kids leirmheasnanog</td>\n",
       "      <td>8.130347e+02</td>\n",
       "      <td>0:13:33.034750</td>\n",
       "    </tr>\n",
       "    <tr>\n",
       "      <th>12</th>\n",
       "      <td>TG4 kids bialinn</td>\n",
       "      <td>6.166848e+03</td>\n",
       "      <td>1:42:46.848187</td>\n",
       "    </tr>\n",
       "    <tr>\n",
       "      <th>13</th>\n",
       "      <td>TG4 kids culaclab</td>\n",
       "      <td>1.698326e+03</td>\n",
       "      <td>0:28:18.325750</td>\n",
       "    </tr>\n",
       "    <tr>\n",
       "      <th>14</th>\n",
       "      <td>TG4 kids cluichicula</td>\n",
       "      <td>1.577240e+04</td>\n",
       "      <td>4:22:52.395250</td>\n",
       "    </tr>\n",
       "    <tr>\n",
       "      <th>15</th>\n",
       "      <td>Cló Iar-Chonnacht</td>\n",
       "      <td>4.116252e+04</td>\n",
       "      <td>11:26:02.515397</td>\n",
       "    </tr>\n",
       "  </tbody>\n",
       "</table>"
      ],
      "text/plain": [
       "<IPython.core.display.HTML object>"
      ]
     },
     "metadata": {},
     "output_type": "display_data"
    }
   ],
   "source": [
    "from IPython.display import display, HTML\n",
    "display(HTML(df.to_html()))"
   ]
  },
  {
   "cell_type": "code",
   "execution_count": 42,
   "metadata": {},
   "outputs": [],
   "source": [
    "pats = [\"*.mkv\", \"*.mp4\"]\n",
    "\n",
    "rosnarun_totals = {}\n",
    "sc_path = base_path / \"rosnarun\"\n",
    "for curdir in sc_path.glob('*'):\n",
    "    if not curdir.is_dir():\n",
    "        continue\n",
    "    aud_total = sum_path_by_type_l(curdir, pats)\n",
    "    rosnarun_totals[curdir.stem] = aud_total"
   ]
  },
  {
   "cell_type": "code",
   "execution_count": 43,
   "metadata": {},
   "outputs": [
    {
     "data": {
      "text/plain": [
       "{'sraith1': 95472.04789115647,\n",
       " 'sraith3': 99081.07900226758,\n",
       " 'sraith2': 103359.47174603175}"
      ]
     },
     "execution_count": 43,
     "metadata": {},
     "output_type": "execute_result"
    }
   ],
   "source": [
    "rosnarun_totals"
   ]
  },
  {
   "cell_type": "code",
   "execution_count": 39,
   "metadata": {},
   "outputs": [
    {
     "name": "stdout",
     "output_type": "stream",
     "text": [
      "Total\" 4757368.843911493 (55 days, 1:29:28.843911)\n"
     ]
    }
   ],
   "source": [
    "total_all = np.sum(df['seconds'])\n",
    "total_all_hms = str(datetime.timedelta(seconds=total_all))\n",
    "print(f'Total: {total_all} ({total_all_hms})')"
   ]
  },
  {
   "cell_type": "code",
   "execution_count": 40,
   "metadata": {},
   "outputs": [
    {
     "name": "stdout",
     "output_type": "stream",
     "text": [
      "1320\n"
     ]
    }
   ],
   "source": [
    "print(55*24)"
   ]
  }
 ],
 "metadata": {
  "kernelspec": {
   "display_name": "Python 3",
   "language": "python",
   "name": "python3"
  },
  "language_info": {
   "codemirror_mode": {
    "name": "ipython",
    "version": 3
   },
   "file_extension": ".py",
   "mimetype": "text/x-python",
   "name": "python",
   "nbconvert_exporter": "python",
   "pygments_lexer": "ipython3",
   "version": "3.6.9"
  }
 },
 "nbformat": 4,
 "nbformat_minor": 2
}
