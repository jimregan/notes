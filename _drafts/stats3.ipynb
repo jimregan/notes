{
 "cells": [
  {
   "attachments": {},
   "cell_type": "markdown",
   "metadata": {},
   "source": [
    "Large sample: Z distribution\n",
    "Small sample: T distribution\n",
    "\n",
    "$\\chi^2$ test...\n",
    "\n"
   ]
  },
  {
   "attachments": {},
   "cell_type": "markdown",
   "metadata": {},
   "source": [
    "Differences\n",
    "\n",
    "$\\mu_1, \\sigma_1^1, \\sigma_1^2 \\\\ \\mu_2, \\sigma_2^1, \\sigma_2^2$\n",
    "\n",
    "$H1: \\mu_1 - \\mu_2 = 0 \\\\$\n",
    "$H2: \\mu_1 - \\mu_2 \\ne 0 \\\\ \\alpha~0.05$\n",
    "\n",
    "Sample: \n",
    "\n",
    "$n_1, \\bar{X_1}, \\sigma_1^2 \\\\ n_2, \\bar{X_2}, \\sigma_2^2$\n",
    "\n",
    "$\\mu_1 - \\mu_2$ is estimated by $\\bar{X_1} - \\bar{X_2}$\n",
    "\n",
    "If the hypothesis is true, 0 will be in the centre of the distribution. Boundaries are needed: ouside the boundaries, the hypothesis is rejected; within the boundaries, it cannot be rejected. (Per does not like to say \"accepting the hypothesis\", because reasons.) This depends on the size (large: normal distribution, small (at least one): t-distribution)"
   ]
  },
  {
   "attachments": {},
   "cell_type": "markdown",
   "metadata": {},
   "source": [
    "Dependent observation; pair-wise observation; matched observation: synonyms (Per says \"repeated observation\")\n",
    "\n",
    "It's been 15 minutes and nobody has died; what's happening?"
   ]
  },
  {
   "attachments": {},
   "cell_type": "markdown",
   "metadata": {},
   "source": [
    "If we have independent observations:\n",
    "$\\bar{X_1} - \\bar{X_2}$ (point estimator)\n",
    "\n",
    "What is the variance $V(\\bar{X_1} - \\bar{X_2})$?\n",
    "\n",
    "$ = V(\\bar{X_1}) + V(\\bar{X_2})$\n",
    "\n",
    "$(a - b)^2 = a^2 + b^2 - 2ab$\n",
    "\n",
    "$ab$, covariance/correlation, is $0$\n",
    "\n",
    "$ V(\\bar{X_1}) + V(\\bar{X_2}) \\\\= \\frac{\\sigma_1^2}{n_1} - \\frac{\\sigma_2^2}{n_2}$\n",
    "\n",
    "$\\bar{X_1} - \\bar{X_2} \\pm Z \\sqrt{\\frac{\\sigma_1^2}{n_1} - \\frac{\\sigma_2^2}{n_2}}$\n",
    "\n",
    "Point estimator: $\\bar{X_1} - \\bar{X_2}$\n",
    "\n",
    "Table value: $Z$\n",
    "\n",
    ": $\\sqrt{\\frac{\\sigma_1^2}{n_1} - \\frac{\\sigma_2^2}{n_2}}$\n"
   ]
  },
  {
   "attachments": {},
   "cell_type": "markdown",
   "metadata": {},
   "source": [
    "Degrees of freedom: $n_1 - 1; n_2 - 1$\n",
    "\n",
    "$\\delta f = (n_1 - 1) + (n_2 - 1)$\n",
    "\n",
    "$ = n_1 + n_2 - 2$\n",
    "\n",
    "$\\bar{X} - \\bar{X_2} \\pm Z \\sqrt{\\frac{}{n_1} + \\frac{}{n_2}}$\n",
    "\n",
    "$\\sigma^2_p = \\frac{(n_1 -1)\\sigma_1^2 + (n_2 -1) \\sigma_2^2}{n_1 + n_2 - 2}$\n",
    "\n",
    "$\\sigma^2 = \\frac{\\sum(X-\\bar{X})^2}{n-1}$\n",
    "\n",
    "$(n-1)\\sigma^2 = \\sum(X - \\bar{X})^2$"
   ]
  },
  {
   "attachments": {},
   "cell_type": "markdown",
   "metadata": {},
   "source": [
    "Ex. 4\n",
    "\n",
    "Two independent groups; large samples ($\\gt 30$): Z distribution\n",
    "\n",
    "$\\mu_1 - \\mu_2$ estimated by $\\bar{X_1} - \\bar{X_2}$\n",
    "\n",
    "CI for $\\mu_1 - \\mu_2$ is given by $\\bar{X_1} - \\bar{X_2} \\pm Z \\sqrt{\\frac{\\sigma_1^2}{n_1} - \\frac{\\sigma_2^2}{n_2}}$\n",
    "\n",
    "$\\bar{X_1} = 95\\\\\\bar{X_2} = 125$\n",
    "\n",
    "$95 - 125 \\pm 1.96 \\sqrt{\\frac{25^2}{35} - \\frac{30^2}{35}}$"
   ]
  },
  {
   "cell_type": "markdown",
   "metadata": {},
   "source": []
  },
  {
   "cell_type": "markdown",
   "metadata": {},
   "source": []
  }
 ],
 "metadata": {
  "kernelspec": {
   "display_name": "nst-tts",
   "language": "python",
   "name": "python3"
  },
  "language_info": {
   "name": "python",
   "version": "3.10.9 (main, Jan 11 2023, 09:18:20) [Clang 14.0.6 ]"
  },
  "orig_nbformat": 4,
  "vscode": {
   "interpreter": {
    "hash": "1d37170a772792180ed27ad87dcb2b141dc22d8f7d1c01dacbd80117f91150d8"
   }
  }
 },
 "nbformat": 4,
 "nbformat_minor": 2
}
