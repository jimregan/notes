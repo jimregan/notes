{
 "cells": [
  {
   "cell_type": "code",
   "execution_count": 2,
   "metadata": {},
   "outputs": [],
   "source": [
    "EGTEXT = \"And then you would just take the couch like that and have the chair there.\"\n",
    "EGSTART = 78.268\n",
    "EGEND = 82.492\n",
    "EGSTEM = \"hsi_4_0717_209_003_main\""
   ]
  },
  {
   "cell_type": "code",
   "execution_count": 3,
   "metadata": {},
   "outputs": [],
   "source": [
    "EGREVERB = \"\"\"\n",
    "hsi_4_0717_209_003_main.wav 0 78.12 0.10 and 0.70\n",
    "hsi_4_0717_209_003_main.wav 0 78.56 0.10 then 0.67\n",
    "hsi_4_0717_209_003_main.wav 0 78.84 0.10 you 0.80\n",
    "hsi_4_0717_209_003_main.wav 0 79.00 0.10 would 0.65\n",
    "hsi_4_0717_209_003_main.wav 0 79.92 0.10 just 0.84\n",
    "hsi_4_0717_209_003_main.wav 0 80.20 0.10 take 0.85\n",
    "hsi_4_0717_209_003_main.wav 0 80.40 0.10 the 0.86\n",
    "hsi_4_0717_209_003_main.wav 0 80.60 0.10 couch 0.59\n",
    "hsi_4_0717_209_003_main.wav 0 80.88 0.10 like 0.13\n",
    "hsi_4_0717_209_003_main.wav 0 81.00 0.10 that 0.77\n",
    "hsi_4_0717_209_003_main.wav 0 81.40 0.10 and 0.16\n",
    "hsi_4_0717_209_003_main.wav 0 81.56 0.10 have 0.00\n",
    "hsi_4_0717_209_003_main.wav 0 82.11 0.10 are 0.00\n",
    "hsi_4_0717_209_003_main.wav 0 82.27 0.10 there 0.60\n",
    "\"\"\""
   ]
  },
  {
   "cell_type": "code",
   "execution_count": 4,
   "metadata": {},
   "outputs": [],
   "source": [
    "REVERB_DIR = \"/Users/joregan/Playing/hsi/reverb/output/attention_rescoring/\"\n",
    "PHONE_DIR = \"/Users/joregan/Playing/hsi_phone_json/\""
   ]
  },
  {
   "cell_type": "code",
   "execution_count": 5,
   "metadata": {},
   "outputs": [],
   "source": [
    "from pathlib import Path\n",
    "PHONE_PATH = Path(PHONE_DIR)\n",
    "REVERB_PATH = Path(REVERB_DIR)"
   ]
  },
  {
   "cell_type": "code",
   "execution_count": 6,
   "metadata": {},
   "outputs": [],
   "source": [
    "def read_ctm(filename):\n",
    "    ctmlines = []\n",
    "    with open(filename) as inf:\n",
    "        for line in inf.readlines():\n",
    "            line = line.strip()\n",
    "            parts = line.split(\" \")\n",
    "            ctmlines.append(parts)\n",
    "    return ctmlines"
   ]
  },
  {
   "cell_type": "code",
   "execution_count": null,
   "metadata": {},
   "outputs": [],
   "source": []
  }
 ],
 "metadata": {
  "kernelspec": {
   "display_name": "nst-tts",
   "language": "python",
   "name": "python3"
  },
  "language_info": {
   "codemirror_mode": {
    "name": "ipython",
    "version": 3
   },
   "file_extension": ".py",
   "mimetype": "text/x-python",
   "name": "python",
   "nbconvert_exporter": "python",
   "pygments_lexer": "ipython3",
   "version": "3.10.9"
  }
 },
 "nbformat": 4,
 "nbformat_minor": 2
}
