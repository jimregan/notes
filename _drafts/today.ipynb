{
 "cells": [
  {
   "cell_type": "code",
   "execution_count": null,
   "metadata": {
    "vscode": {
     "languageId": "plaintext"
    }
   },
   "outputs": [],
   "source": [
    "EGTEXT = \"And then you would just take the couch like that and have the chair there.\"\n",
    "EGSTART = 78.268\n",
    "EGEND = 82.492\n"
   ]
  },
  {
   "cell_type": "code",
   "execution_count": null,
   "metadata": {
    "vscode": {
     "languageId": "plaintext"
    }
   },
   "outputs": [],
   "source": [
    "EGREVERB = \"\"\"\n",
    "hsi_4_0717_209_003_main.wav 0 78.12 0.10 and 0.70\n",
    "hsi_4_0717_209_003_main.wav 0 78.56 0.10 then 0.67\n",
    "hsi_4_0717_209_003_main.wav 0 78.84 0.10 you 0.80\n",
    "hsi_4_0717_209_003_main.wav 0 79.00 0.10 would 0.65\n",
    "hsi_4_0717_209_003_main.wav 0 79.92 0.10 just 0.84\n",
    "hsi_4_0717_209_003_main.wav 0 80.20 0.10 take 0.85\n",
    "hsi_4_0717_209_003_main.wav 0 80.40 0.10 the 0.86\n",
    "hsi_4_0717_209_003_main.wav 0 80.60 0.10 couch 0.59\n",
    "hsi_4_0717_209_003_main.wav 0 80.88 0.10 like 0.13\n",
    "hsi_4_0717_209_003_main.wav 0 81.00 0.10 that 0.77\n",
    "hsi_4_0717_209_003_main.wav 0 81.40 0.10 and 0.16\n",
    "hsi_4_0717_209_003_main.wav 0 81.56 0.10 have 0.00\n",
    "hsi_4_0717_209_003_main.wav 0 82.11 0.10 are 0.00\n",
    "hsi_4_0717_209_003_main.wav 0 82.27 0.10 there 0.60\n",
    "\"\"\""
   ]
  }
 ],
 "metadata": {
  "language_info": {
   "name": "python"
  }
 },
 "nbformat": 4,
 "nbformat_minor": 2
}
