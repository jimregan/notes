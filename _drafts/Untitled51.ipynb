{
  "nbformat": 4,
  "nbformat_minor": 0,
  "metadata": {
    "colab": {
      "provenance": []
    },
    "kernelspec": {
      "name": "python3",
      "display_name": "Python 3"
    },
    "language_info": {
      "name": "python"
    }
  },
  "cells": [
    {
      "cell_type": "code",
      "execution_count": 2,
      "metadata": {
        "id": "U3LaQ19SV0Gf"
      },
      "outputs": [],
      "source": [
        "import requests\n",
        "from bs4 import BeautifulSoup"
      ]
    },
    {
      "cell_type": "code",
      "source": [
        "def get_dialect_links(LANDING = \"https://swedia.ling.gu.se/snabbmeny.html\"):\n",
        "    req = requests.get(LANDING)\n",
        "    if req.status_code != 200:\n",
        "        return []\n",
        "    soup = BeautifulSoup(req.text, \"html.parser\")\n",
        "    layer = soup.find(\"div\", {\"id\": \"Layer1\"})\n",
        "    links = []\n",
        "    for anchor in layer.find_all(\"a\"):\n",
        "        link = anchor[\"href\"]\n",
        "        parts = link.replace(\"/index.html\", \"\").split(\"/\")\n",
        "        if len(parts) == 3:\n",
        "            links.append(link)\n",
        "    return [f\"https://swedia.ling.gu.se/{l}\" for l in links]"
      ],
      "metadata": {
        "id": "U9NnI0GDV5bH"
      },
      "execution_count": 13,
      "outputs": []
    },
    {
      "cell_type": "code",
      "source": [
        "links = get_dialect_links()"
      ],
      "metadata": {
        "id": "afxMI9x3WDC8"
      },
      "execution_count": 14,
      "outputs": []
    },
    {
      "cell_type": "code",
      "source": [
        "def get_dialect_speaker_links(dialect_link):\n",
        "    req = requests.get(dialect_link)\n",
        "    base = dialect_link.replace(\"index.html\", \"\")\n",
        "    out = []\n",
        "    if req.status_code != 200:\n",
        "        return []\n",
        "    soup = BeautifulSoup(req.text, \"html.parser\")\n",
        "    audio = soup.find(\"div\", {\"id\": \"Lyssna\"})\n",
        "    links = []\n",
        "    for anchor in audio.find_all(\"a\"):\n",
        "        link = anchor[\"href\"]\n",
        "        out.append(f\"{base}{link}\")\n",
        "    return out"
      ],
      "metadata": {
        "id": "XyDDI_LOWOq1"
      },
      "execution_count": 16,
      "outputs": []
    },
    {
      "cell_type": "code",
      "source": [
        "get_dialect_speaker_links(\"https://swedia.ling.gu.se/Gotaland/Bohuslan/Karna/index.html\")"
      ],
      "metadata": {
        "colab": {
          "base_uri": "https://localhost:8080/"
        },
        "id": "CnKS8Eq_WR2S",
        "outputId": "9191d121-6791-4e63-b09c-ba6e1a40ae1c"
      },
      "execution_count": 17,
      "outputs": [
        {
          "output_type": "execute_result",
          "data": {
            "text/plain": [
              "['https://swedia.ling.gu.se/Gotaland/Bohuslan/Karna/ow.html',\n",
              " 'https://swedia.ling.gu.se/Gotaland/Bohuslan/Karna/om.html',\n",
              " 'https://swedia.ling.gu.se/Gotaland/Bohuslan/Karna/yw.html',\n",
              " 'https://swedia.ling.gu.se/Gotaland/Bohuslan/Karna/ym.html']"
            ]
          },
          "metadata": {},
          "execution_count": 17
        }
      ]
    },
    {
      "cell_type": "code",
      "source": [],
      "metadata": {
        "id": "B9sRtPZ7Wcc5"
      },
      "execution_count": 10,
      "outputs": []
    }
  ]
}