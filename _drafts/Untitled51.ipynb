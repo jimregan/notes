{
  "nbformat": 4,
  "nbformat_minor": 0,
  "metadata": {
    "colab": {
      "provenance": []
    },
    "kernelspec": {
      "name": "python3",
      "display_name": "Python 3"
    },
    "language_info": {
      "name": "python"
    }
  },
  "cells": [
    {
      "cell_type": "code",
      "execution_count": 2,
      "metadata": {
        "id": "U3LaQ19SV0Gf"
      },
      "outputs": [],
      "source": [
        "import requests\n",
        "from bs4 import BeautifulSoup"
      ]
    },
    {
      "cell_type": "code",
      "source": [
        "LANDING = \"https://swedia.ling.gu.se/snabbmeny.html\""
      ],
      "metadata": {
        "id": "U9NnI0GDV5bH"
      },
      "execution_count": 3,
      "outputs": []
    },
    {
      "cell_type": "code",
      "source": [
        "req = requests.get(LANDING)\n",
        "assert req.status_code == 200"
      ],
      "metadata": {
        "id": "afxMI9x3WDC8"
      },
      "execution_count": 4,
      "outputs": []
    },
    {
      "cell_type": "code",
      "source": [
        "soup = BeautifulSoup(req.text, \"html.parser\")"
      ],
      "metadata": {
        "id": "XyDDI_LOWOq1"
      },
      "execution_count": 5,
      "outputs": []
    },
    {
      "cell_type": "code",
      "source": [
        "layer = soup.find(\"div\", {\"id\": \"Layer1\"})"
      ],
      "metadata": {
        "id": "CnKS8Eq_WR2S"
      },
      "execution_count": 6,
      "outputs": []
    },
    {
      "cell_type": "code",
      "source": [
        "links = []\n",
        "for anchor in layer.find_all(\"a\"):\n",
        "    link = anchor[\"href\"]\n",
        "    parts = link.replace(\"/index.html\", \"\").split(\"/\")\n",
        "    if len(parts) == 3:\n",
        "        links.append(link)"
      ],
      "metadata": {
        "id": "B9sRtPZ7Wcc5"
      },
      "execution_count": 10,
      "outputs": []
    },
    {
      "cell_type": "code",
      "source": [
        "links"
      ],
      "metadata": {
        "colab": {
          "base_uri": "https://localhost:8080/"
        },
        "id": "bTqdTPPpW_DB",
        "outputId": "b956556d-f265-4fcf-e9bc-8722907dd6e4"
      },
      "execution_count": 11,
      "outputs": [
        {
          "output_type": "execute_result",
          "data": {
            "text/plain": [
              "['Gotaland/Blekinge/Hallevik/index.html',\n",
              " 'Gotaland/Blekinge/Jamshog/index.html',\n",
              " 'Gotaland/Blekinge/Torhamn/index.html',\n",
              " 'Gotaland/Bohuslan/Karna/index.html',\n",
              " 'Gotaland/Bohuslan/Orust/index.html',\n",
              " 'Gotaland/Bohuslan/Skee/index.html',\n",
              " 'Gotaland/Dalsland/Bengtsfors/index.html',\n",
              " 'Gotaland/Dalsland/Frandefors/index.html',\n",
              " 'Gotaland/Gotland/Fole/index.html',\n",
              " 'Gotaland/Gotland/Faro/index.html',\n",
              " 'Gotaland/Gotland/Sproge/index.html',\n",
              " 'Gotaland/Halland/Frillesas/index.html',\n",
              " 'Gotaland/Halland/Vaxtorp/index.html',\n",
              " 'Gotaland/Halland/Arstad/index.html',\n",
              " 'Gotaland/Skane/Bara/index.html',\n",
              " 'Gotaland/Skane/Bjuv/index.html',\n",
              " 'Gotaland/Skane/Broby/index.html',\n",
              " 'Gotaland/Skane/Loderup/index.html',\n",
              " 'Gotaland/Skane/N_Rorum/index.html',\n",
              " 'Gotaland/Skane/Ossjo/index.html',\n",
              " 'Gotaland/Smaland/Ankarsrum/index.html',\n",
              " 'Gotaland/Smaland/Burseryd/index.html',\n",
              " 'Gotaland/Smaland/Hamneda/index.html',\n",
              " 'Gotaland/Smaland/Jarsnas/index.html',\n",
              " 'Gotaland/Smaland/Stenberga/index.html',\n",
              " 'Gotaland/Smaland/Torsas/index.html',\n",
              " 'Gotaland/Smaland/Vackelsang/index.html',\n",
              " 'Gotaland/Vastergotland/Floby/index.html',\n",
              " 'Gotaland/Vastergotland/Korsberga/index.html',\n",
              " 'Gotaland/Vastergotland/Torso/index.html',\n",
              " 'Gotaland/Vastergotland/Ostad/index.html',\n",
              " 'Gotaland/Vastergotland/Oxaback/index.html',\n",
              " 'Gotaland/Oland/Bredsatra/index.html',\n",
              " 'Gotaland/Oland/Boda/index.html',\n",
              " 'Gotaland/Oland/Segerstad/index.html',\n",
              " 'Gotaland/Ostergotland/Asby/index.html',\n",
              " 'Gotaland/Ostergotland/Rimforsa/index.html',\n",
              " 'Gotaland/Ostergotland/St_Anna/index.html',\n",
              " 'Gotaland/Ostergotland/Tjallmo/index.html',\n",
              " 'Svealand/Dalarna/Grangarde/index.html',\n",
              " 'Svealand/Dalarna/Husby/index.html',\n",
              " 'Svealand/Dalarna/Leksand/index.html',\n",
              " 'Svealand/Dalarna/Malung/index.html',\n",
              " 'Svealand/Dalarna/Orsa/index.html',\n",
              " 'Svealand/Dalarna/Sarna/index.html',\n",
              " 'Svealand/Dalarna/Alvdalen/index.html',\n",
              " 'Svealand/Narke/S_Mellosa/index.html',\n",
              " 'Svealand/Narke/Viby/index.html',\n",
              " 'Svealand/Sodermanland/Lanna/index.html',\n",
              " 'Svealand/Sodermanland/Sorunda/index.html',\n",
              " 'Svealand/Sodermanland/V_Vingaker/index.html',\n",
              " 'Svealand/Uppland/Graso/index.html',\n",
              " 'Svealand/Uppland/Karsta/index.html',\n",
              " 'Svealand/Uppland/Nora/index.html',\n",
              " 'Svealand/Uppland/Skuttunge/index.html',\n",
              " 'Svealand/Uppland/Villberga/index.html',\n",
              " 'Svealand/Varmland/Dalby/index.html',\n",
              " 'Svealand/Varmland/Grasmark/index.html',\n",
              " 'Svealand/Varmland/Gasborn/index.html',\n",
              " 'Svealand/Varmland/Hammaro/index.html',\n",
              " 'Svealand/Varmland/Kola/index.html',\n",
              " 'Svealand/Varmland/Skillingmark/index.html',\n",
              " 'Svealand/Varmland/S_Finnskoga/index.html',\n",
              " 'Svealand/Vastmanland/Haraker/index.html',\n",
              " 'Svealand/Vastmanland/Jarnboas/index.html',\n",
              " 'Svealand/Vastmanland/Skinnskatteberg/index.html',\n",
              " 'Norrland/Gastrikland/Ockelbo/index.html',\n",
              " 'Norrland/Gastrikland/Arsunda/index.html',\n",
              " 'Norrland/Halsingland/Delsbo/index.html',\n",
              " 'Norrland/Halsingland/Farila/index.html',\n",
              " 'Norrland/Halsingland/Ovanaker/index.html',\n",
              " 'Norrland/Halsingland/Skog/index.html',\n",
              " 'Norrland/Harjedalen/Lillhardal/index.html',\n",
              " 'Norrland/Harjedalen/Storsjo/index.html',\n",
              " 'Norrland/Harjedalen/Vemdalen/index.html',\n",
              " 'Norrland/Jamtland/Aspas/index.html',\n",
              " 'Norrland/Jamtland/Berg/index.html',\n",
              " 'Norrland/Jamtland/Frostviken/index.html',\n",
              " 'Norrland/Jamtland/Ragunda/index.html',\n",
              " 'Norrland/Jamtland/Stromsund/index.html',\n",
              " 'Norrland/Jamtland/Are/index.html',\n",
              " 'Norrland/Lappland/Arjeplog/index.html',\n",
              " 'Norrland/Lappland/Sorsele/index.html',\n",
              " 'Norrland/Lappland/Vilhelmina/index.html',\n",
              " 'Norrland/Medelpad/Indal/index.html',\n",
              " 'Norrland/Medelpad/Torp/index.html',\n",
              " 'Norrland/Norrbotten/Nederlulea/index.html',\n",
              " 'Norrland/Norrbotten/Kalix/index.html',\n",
              " 'Norrland/Norrbotten/Pitea/index.html',\n",
              " 'Norrland/Norrbotten/Overkalix/index.html',\n",
              " 'Norrland/Vasterbotten/Burtrask/index.html',\n",
              " 'Norrland/Vasterbotten/Vindeln/index.html',\n",
              " 'Norrland/Vasterbotten/Anaset/index.html',\n",
              " 'Norrland/Angermanland/Anundsjo/index.html',\n",
              " 'Norrland/Angermanland/Bjurholm/index.html',\n",
              " 'Norrland/Angermanland/Fjallsjo/index.html',\n",
              " 'Norrland/Angermanland/Kramfors/index.html',\n",
              " 'Finland/Nyland/Borga/index.html',\n",
              " 'Finland/Nyland/Kyrkslatt/index.html',\n",
              " 'Finland/Nyland/Snappertuna/index.html',\n",
              " 'Finland/Aboland/Houtskar/index.html',\n",
              " 'Finland/Aboland/Dragsfjard/index.html',\n",
              " 'Finland/Aland/Brando/index.html',\n",
              " 'Finland/Aland/Saltvik/index.html',\n",
              " 'Finland/Osterbotten/Munsala/index.html',\n",
              " 'Finland/Osterbotten/Narpes/index.html',\n",
              " 'Finland/Osterbotten/Vora/index.html']"
            ]
          },
          "metadata": {},
          "execution_count": 11
        }
      ]
    }
  ]
}