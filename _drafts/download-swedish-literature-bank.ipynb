{
 "cells": [
  {
   "cell_type": "code",
   "execution_count": 1,
   "id": "extra-finding",
   "metadata": {
    "_cell_guid": "b1076dfc-b9ad-4769-8c92-a6c4dae69d19",
    "_uuid": "8f2839f25d086af736a60e9eeb907d3b93b6e0e5",
    "execution": {
     "iopub.execute_input": "2021-06-18T09:02:37.484313Z",
     "iopub.status.busy": "2021-06-18T09:02:37.483397Z",
     "iopub.status.idle": "2021-06-18T09:05:44.997361Z",
     "shell.execute_reply": "2021-06-18T09:05:44.997797Z"
    },
    "papermill": {
     "duration": 187.520651,
     "end_time": "2021-06-18T09:05:44.998099",
     "exception": false,
     "start_time": "2021-06-18T09:02:37.477448",
     "status": "completed"
    },
    "tags": []
   },
   "outputs": [
    {
     "name": "stdout",
     "output_type": "stream",
     "text": [
      "--2021-06-18 09:02:38--  http://spraakbanken.gu.se/lb/resurser/meningsmangder/lb.xml.bz2\r\n",
      "Resolving spraakbanken.gu.se (spraakbanken.gu.se)... 130.241.42.13\r\n",
      "Connecting to spraakbanken.gu.se (spraakbanken.gu.se)|130.241.42.13|:80... connected.\r\n",
      "HTTP request sent, awaiting response... 301 Moved Permanently\r\n",
      "Location: https://spraakbanken.gu.se/lb/resurser/meningsmangder/lb.xml.bz2 [following]\r\n",
      "--2021-06-18 09:02:38--  https://spraakbanken.gu.se/lb/resurser/meningsmangder/lb.xml.bz2\r\n",
      "Connecting to spraakbanken.gu.se (spraakbanken.gu.se)|130.241.42.13|:443... connected.\r\n",
      "HTTP request sent, awaiting response... 200 OK\r\n",
      "Length: 3500203701 (3.3G) [application/x-bzip2]\r\n",
      "Saving to: ‘lb.xml.bz2’\r\n",
      "\r\n",
      "lb.xml.bz2          100%[===================>]   3.26G  18.1MB/s    in 3m 6s   \r\n",
      "\r\n",
      "2021-06-18 09:05:44 (18.0 MB/s) - ‘lb.xml.bz2’ saved [3500203701/3500203701]\r\n",
      "\r\n"
     ]
    }
   ],
   "source": [
    "!wget http://spraakbanken.gu.se/lb/resurser/meningsmangder/lb.xml.bz2"
   ]
  },
  {
   "cell_type": "code",
   "execution_count": 2,
   "id": "deluxe-polymer",
   "metadata": {
    "execution": {
     "iopub.execute_input": "2021-06-18T09:05:45.383272Z",
     "iopub.status.busy": "2021-06-18T09:05:45.382746Z",
     "iopub.status.idle": "2021-06-18T09:06:19.931493Z",
     "shell.execute_reply": "2021-06-18T09:06:19.930866Z"
    },
    "papermill": {
     "duration": 34.741116,
     "end_time": "2021-06-18T09:06:19.931643",
     "exception": false,
     "start_time": "2021-06-18T09:05:45.190527",
     "status": "completed"
    },
    "tags": []
   },
   "outputs": [
    {
     "name": "stdout",
     "output_type": "stream",
     "text": [
      "--2021-06-18 09:05:46--  https://svn.spraakdata.gu.se/sb-arkiv/pub/frekvens/stats_LB.txt\r\n",
      "Resolving svn.spraakdata.gu.se (svn.spraakdata.gu.se)... 130.241.135.158\r\n",
      "Connecting to svn.spraakdata.gu.se (svn.spraakdata.gu.se)|130.241.135.158|:443... connected.\r\n",
      "HTTP request sent, awaiting response... 200 OK\r\n",
      "Length: 229435245 (219M) [text/plain]\r\n",
      "Saving to: ‘stats_LB.txt’\r\n",
      "\r\n",
      "stats_LB.txt        100%[===================>] 218.81M  8.12MB/s    in 33s     \r\n",
      "\r\n",
      "2021-06-18 09:06:19 (6.70 MB/s) - ‘stats_LB.txt’ saved [229435245/229435245]\r\n",
      "\r\n"
     ]
    }
   ],
   "source": [
    "!wget https://svn.spraakdata.gu.se/sb-arkiv/pub/frekvens/stats_LB.txt\n"
   ]
  }
 ],
 "metadata": {
  "kernelspec": {
   "display_name": "Python 3",
   "language": "python",
   "name": "python3"
  },
  "language_info": {
   "codemirror_mode": {
    "name": "ipython",
    "version": 3
   },
   "file_extension": ".py",
   "mimetype": "text/x-python",
   "name": "python",
   "nbconvert_exporter": "python",
   "pygments_lexer": "ipython3",
   "version": "3.7.9"
  },
  "papermill": {
   "default_parameters": {},
   "duration": 228.539974,
   "end_time": "2021-06-18T09:06:20.774398",
   "environment_variables": {},
   "exception": null,
   "input_path": "__notebook__.ipynb",
   "output_path": "__notebook__.ipynb",
   "parameters": {},
   "start_time": "2021-06-18T09:02:32.234424",
   "version": "2.3.2"
  }
 },
 "nbformat": 4,
 "nbformat_minor": 5
}
