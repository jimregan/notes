{
 "cells": [
  {
   "cell_type": "code",
   "execution_count": 1,
   "metadata": {
    "tags": [
     "parameters"
    ]
   },
   "outputs": [],
   "source": [
    "host = \"http://130.237.3.107:8080/api/\"\n",
    "api_token = \"413fe8094fa7475ce22856a94643da1db85cb46e\""
   ]
  },
  {
   "cell_type": "code",
   "execution_count": 35,
   "metadata": {},
   "outputs": [],
   "source": [
    "import requests\n",
    "import json\n",
    "from pathlib import Path\n",
    "\n",
    "headers = {\n",
    "    \"Authorization\": f\"Token {api_token}\"\n",
    "}"
   ]
  },
  {
   "cell_type": "code",
   "execution_count": 11,
   "metadata": {},
   "outputs": [],
   "source": [
    "def get_projects():\n",
    "    req = requests.get(f\"{host}projects\", headers=headers)\n",
    "    assert req.status_code == 200\n",
    "    data = json.loads(req.text)\n",
    "    return data"
   ]
  },
  {
   "cell_type": "code",
   "execution_count": 21,
   "metadata": {},
   "outputs": [],
   "source": [
    "def get_project_id_from_name(name):\n",
    "    projects = get_projects()\n",
    "    for res in projects[\"results\"]:\n",
    "        if res[\"title\"].strip() == name.strip():\n",
    "            return res[\"id\"]"
   ]
  },
  {
   "cell_type": "code",
   "execution_count": 31,
   "metadata": {},
   "outputs": [],
   "source": [
    "def get_tasks(projectid):\n",
    "    req = requests.get(f\"{host}tasks\", headers=headers, params={\"project\": projectid})\n",
    "    assert req.status_code == 200\n",
    "    data = json.loads(req.text)\n",
    "    return data"
   ]
  },
  {
   "cell_type": "code",
   "execution_count": 45,
   "metadata": {},
   "outputs": [],
   "source": [
    "def index_task_filestem_to_id(tasks_data):\n",
    "    tasks = tasks_data[\"tasks\"]\n",
    "    mapping = {}\n",
    "    for task in tasks:\n",
    "        task_id = task[\"id\"]\n",
    "        if \"storage_filename\" in task:\n",
    "            task_raw_path = task[\"storage_filename\"]\n",
    "        else:\n",
    "            task_raw_path = task[\"data\"][\"audio\"]\n",
    "        if not task_raw_path:\n",
    "            continue\n",
    "        task_stem = task_raw_path.split(\"/\")[-1]\n",
    "        mapping[task_stem] = task_id\n",
    "    return mapping"
   ]
  },
  {
   "cell_type": "code",
   "execution_count": 22,
   "metadata": {},
   "outputs": [
    {
     "data": {
      "text/plain": [
       "1"
      ]
     },
     "execution_count": 22,
     "metadata": {},
     "output_type": "execute_result"
    }
   ],
   "source": [
    "get_project_id_from_name(\"Speaker 3\")"
   ]
  },
  {
   "cell_type": "code",
   "execution_count": 39,
   "metadata": {},
   "outputs": [],
   "source": [
    "tasks = get_tasks(1)"
   ]
  },
  {
   "cell_type": "code",
   "execution_count": 48,
   "metadata": {},
   "outputs": [],
   "source": [
    "mapping = index_task_filestem_to_id(tasks)"
   ]
  },
  {
   "cell_type": "code",
   "execution_count": null,
   "metadata": {},
   "outputs": [],
   "source": []
  }
 ],
 "metadata": {
  "kernelspec": {
   "display_name": "nst-tts",
   "language": "python",
   "name": "python3"
  },
  "language_info": {
   "codemirror_mode": {
    "name": "ipython",
    "version": 3
   },
   "file_extension": ".py",
   "mimetype": "text/x-python",
   "name": "python",
   "nbconvert_exporter": "python",
   "pygments_lexer": "ipython3",
   "version": "3.10.9"
  }
 },
 "nbformat": 4,
 "nbformat_minor": 2
}
