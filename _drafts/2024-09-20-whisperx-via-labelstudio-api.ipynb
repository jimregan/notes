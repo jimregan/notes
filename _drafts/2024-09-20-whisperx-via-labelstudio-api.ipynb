{
 "cells": [
  {
   "cell_type": "code",
   "execution_count": 1,
   "metadata": {
    "tags": [
     "parameters"
    ]
   },
   "outputs": [],
   "source": [
    "host = \"http://130.237.3.107:8080/api/\"\n",
    "api_token = \"413fe8094fa7475ce22856a94643da1db85cb46e\""
   ]
  },
  {
   "cell_type": "code",
   "execution_count": 9,
   "metadata": {},
   "outputs": [],
   "source": [
    "import requests\n",
    "import json\n",
    "\n",
    "headers = {\n",
    "    \"Authorization\": f\"Token {api_token}\"\n",
    "}"
   ]
  },
  {
   "cell_type": "code",
   "execution_count": 11,
   "metadata": {},
   "outputs": [],
   "source": [
    "def get_projects():\n",
    "    req = requests.get(f\"{host}projects\", headers=headers)\n",
    "    assert req.status_code == 200\n",
    "    data = json.loads(req.text)\n",
    "    return data"
   ]
  },
  {
   "cell_type": "code",
   "execution_count": 21,
   "metadata": {},
   "outputs": [],
   "source": [
    "def get_project_id_from_name(name):\n",
    "    projects = get_projects()\n",
    "    for res in projects[\"results\"]:\n",
    "        if res[\"title\"].strip() == name.strip():\n",
    "            return res[\"id\"]"
   ]
  },
  {
   "cell_type": "code",
   "execution_count": 23,
   "metadata": {},
   "outputs": [],
   "source": [
    "def get_tasks():\n",
    "    req = requests.get(f\"{host}tasks/\", headers=headers)\n",
    "    assert req.status_code == 200\n",
    "    data = json.loads(req.text)\n",
    "    return data"
   ]
  },
  {
   "cell_type": "code",
   "execution_count": 22,
   "metadata": {},
   "outputs": [
    {
     "data": {
      "text/plain": [
       "1"
      ]
     },
     "execution_count": 22,
     "metadata": {},
     "output_type": "execute_result"
    }
   ],
   "source": [
    "get_project_id_from_name(\"Speaker 3\")"
   ]
  },
  {
   "cell_type": "code",
   "execution_count": 16,
   "metadata": {},
   "outputs": [
    {
     "data": {
      "text/plain": [
       "{'count': 2,\n",
       " 'next': None,\n",
       " 'previous': None,\n",
       " 'results': [{'id': 2,\n",
       "   'title': 'New Project #2',\n",
       "   'description': '',\n",
       "   'label_config': '<View>\\n  <Audio name=\"audio\" value=\"$audio\" zoom=\"true\" hotkey=\"ctrl+enter\" />\\n  <Header value=\"Provide Transcription\" />\\n  <TextArea name=\"transcription\" toName=\"audio\"\\n            rows=\"4\" editable=\"true\" maxSubmissions=\"1\" />\\n</View>',\n",
       "   'expert_instruction': '',\n",
       "   'show_instruction': False,\n",
       "   'show_skip_button': True,\n",
       "   'enable_empty_annotation': True,\n",
       "   'show_annotation_history': False,\n",
       "   'organization': 1,\n",
       "   'color': '#FFFFFF',\n",
       "   'maximum_annotations': 1,\n",
       "   'is_published': False,\n",
       "   'model_version': 'large-v2',\n",
       "   'is_draft': False,\n",
       "   'created_by': {'id': 1,\n",
       "    'first_name': 'Jim',\n",
       "    'last_name': '',\n",
       "    'email': 'jaoregan@tcd.ie',\n",
       "    'avatar': None},\n",
       "   'created_at': '2024-09-19T19:47:32.258738Z',\n",
       "   'min_annotations_to_start_training': 0,\n",
       "   'start_training_on_annotation_update': False,\n",
       "   'show_collab_predictions': True,\n",
       "   'num_tasks_with_annotations': 0,\n",
       "   'task_number': 3,\n",
       "   'useful_annotation_number': 0,\n",
       "   'ground_truth_number': 0,\n",
       "   'skipped_annotations_number': 0,\n",
       "   'total_annotations_number': 0,\n",
       "   'total_predictions_number': 128,\n",
       "   'sampling': 'Sequential sampling',\n",
       "   'show_ground_truth_first': False,\n",
       "   'show_overlap_first': False,\n",
       "   'overlap_cohort_percentage': 100,\n",
       "   'task_data_login': None,\n",
       "   'task_data_password': None,\n",
       "   'control_weights': {'transcription': {'overall': 1.0,\n",
       "     'type': 'TextArea',\n",
       "     'labels': {}}},\n",
       "   'parsed_label_config': {'transcription': {'type': 'TextArea',\n",
       "     'to_name': ['audio'],\n",
       "     'inputs': [{'type': 'Audio', 'value': 'audio', 'valueType': None}],\n",
       "     'labels': [],\n",
       "     'labels_attrs': {}}},\n",
       "   'evaluate_predictions_automatically': False,\n",
       "   'config_has_control_tags': True,\n",
       "   'skip_queue': 'REQUEUE_FOR_OTHERS',\n",
       "   'reveal_preannotations_interactively': False,\n",
       "   'pinned_at': None,\n",
       "   'finished_task_number': 0,\n",
       "   'queue_total': 3,\n",
       "   'queue_done': 0},\n",
       "  {'id': 1,\n",
       "   'title': 'Speaker 3',\n",
       "   'description': '',\n",
       "   'label_config': '<View>\\n  <Labels name=\"labels\" toName=\"audio\">\\n    <Label value=\"Speech\"/>\\n    <Label value=\"Noise\"/>\\n  <Label value=\"Breath\" background=\"#FFA39E\"/><Label value=\"Laughter\" background=\"#D4380D\"/><Label value=\"Cross-talk\" background=\"#FFC069\"/></Labels>\\n\\n  <Audio name=\"audio\" value=\"$audio\"/>\\n\\n  <TextArea name=\"transcription\" toName=\"audio\" rows=\"2\" editable=\"true\" perRegion=\"true\" required=\"true\"/>\\n</View>',\n",
       "   'expert_instruction': '',\n",
       "   'show_instruction': False,\n",
       "   'show_skip_button': True,\n",
       "   'enable_empty_annotation': True,\n",
       "   'show_annotation_history': False,\n",
       "   'organization': 1,\n",
       "   'color': '#FFFFFF',\n",
       "   'maximum_annotations': 1,\n",
       "   'is_published': False,\n",
       "   'model_version': 'whisperx-large-v2',\n",
       "   'is_draft': False,\n",
       "   'created_by': {'id': 1,\n",
       "    'first_name': 'Jim',\n",
       "    'last_name': '',\n",
       "    'email': 'jaoregan@tcd.ie',\n",
       "    'avatar': None},\n",
       "   'created_at': '2024-09-19T18:21:49.256486Z',\n",
       "   'min_annotations_to_start_training': 0,\n",
       "   'start_training_on_annotation_update': False,\n",
       "   'show_collab_predictions': True,\n",
       "   'num_tasks_with_annotations': 2,\n",
       "   'task_number': 8,\n",
       "   'useful_annotation_number': 2,\n",
       "   'ground_truth_number': 0,\n",
       "   'skipped_annotations_number': 0,\n",
       "   'total_annotations_number': 2,\n",
       "   'total_predictions_number': 64,\n",
       "   'sampling': 'Sequential sampling',\n",
       "   'show_ground_truth_first': False,\n",
       "   'show_overlap_first': False,\n",
       "   'overlap_cohort_percentage': 100,\n",
       "   'task_data_login': None,\n",
       "   'task_data_password': None,\n",
       "   'control_weights': {'labels': {'overall': 1.0,\n",
       "     'type': 'Labels',\n",
       "     'labels': {'Speech': 1.0,\n",
       "      'Noise': 1.0,\n",
       "      'Breath': 1.0,\n",
       "      'Laughter': 1.0,\n",
       "      'Cross-talk': 1.0}},\n",
       "    'transcription': {'overall': 1.0, 'type': 'TextArea', 'labels': {}}},\n",
       "   'parsed_label_config': {'labels': {'type': 'Labels',\n",
       "     'to_name': ['audio'],\n",
       "     'inputs': [{'type': 'Audio', 'value': 'audio', 'valueType': None}],\n",
       "     'labels': ['Speech', 'Noise', 'Breath', 'Laughter', 'Cross-talk'],\n",
       "     'labels_attrs': {'Speech': {'value': 'Speech'},\n",
       "      'Noise': {'value': 'Noise'},\n",
       "      'Breath': {'value': 'Breath', 'background': '#FFA39E'},\n",
       "      'Laughter': {'value': 'Laughter', 'background': '#D4380D'},\n",
       "      'Cross-talk': {'value': 'Cross-talk', 'background': '#FFC069'}}},\n",
       "    'transcription': {'type': 'TextArea',\n",
       "     'to_name': ['audio'],\n",
       "     'inputs': [{'type': 'Audio', 'value': 'audio', 'valueType': None}],\n",
       "     'labels': [],\n",
       "     'labels_attrs': {}}},\n",
       "   'evaluate_predictions_automatically': False,\n",
       "   'config_has_control_tags': True,\n",
       "   'skip_queue': 'REQUEUE_FOR_OTHERS',\n",
       "   'reveal_preannotations_interactively': False,\n",
       "   'pinned_at': None,\n",
       "   'finished_task_number': 2,\n",
       "   'queue_total': 8,\n",
       "   'queue_done': 2}]}"
      ]
     },
     "execution_count": 16,
     "metadata": {},
     "output_type": "execute_result"
    }
   ],
   "source": [
    "req"
   ]
  }
 ],
 "metadata": {
  "kernelspec": {
   "display_name": "nst-tts",
   "language": "python",
   "name": "python3"
  },
  "language_info": {
   "codemirror_mode": {
    "name": "ipython",
    "version": 3
   },
   "file_extension": ".py",
   "mimetype": "text/x-python",
   "name": "python",
   "nbconvert_exporter": "python",
   "pygments_lexer": "ipython3",
   "version": "3.10.9"
  }
 },
 "nbformat": 4,
 "nbformat_minor": 2
}
