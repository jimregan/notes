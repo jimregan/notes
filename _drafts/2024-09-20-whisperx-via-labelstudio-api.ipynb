{
 "cells": [
  {
   "cell_type": "code",
   "execution_count": 52,
   "metadata": {
    "tags": [
     "parameters"
    ]
   },
   "outputs": [],
   "source": [
    "host = \"http://130.237.3.107:8080/api/\"\n",
    "api_token = \"39cd216c44fc16542a706820c4d0bd4377f1a416\"\n",
    "input_dir = \"/Users/joregan/Playing/hsi/audio/whisperx-json/\""
   ]
  },
  {
   "cell_type": "code",
   "execution_count": 35,
   "metadata": {},
   "outputs": [],
   "source": [
    "import requests\n",
    "import json\n",
    "from pathlib import Path\n",
    "\n",
    "headers = {\n",
    "    \"Authorization\": f\"Token {api_token}\"\n",
    "}"
   ]
  },
  {
   "cell_type": "code",
   "execution_count": 11,
   "metadata": {},
   "outputs": [],
   "source": [
    "def get_projects():\n",
    "    req = requests.get(f\"{host}projects\", headers=headers)\n",
    "    assert req.status_code == 200\n",
    "    data = json.loads(req.text)\n",
    "    return data"
   ]
  },
  {
   "cell_type": "code",
   "execution_count": 21,
   "metadata": {},
   "outputs": [],
   "source": [
    "def get_project_id_from_name(name):\n",
    "    projects = get_projects()\n",
    "    for res in projects[\"results\"]:\n",
    "        if res[\"title\"].strip() == name.strip():\n",
    "            return res[\"id\"]"
   ]
  },
  {
   "cell_type": "code",
   "execution_count": 131,
   "metadata": {},
   "outputs": [
    {
     "data": {
      "text/plain": [
       "4"
      ]
     },
     "execution_count": 131,
     "metadata": {},
     "output_type": "execute_result"
    }
   ],
   "source": [
    "get_project_id_from_name(\"Inter rest\")"
   ]
  },
  {
   "cell_type": "code",
   "execution_count": 31,
   "metadata": {},
   "outputs": [],
   "source": [
    "def get_tasks(projectid):\n",
    "    req = requests.get(f\"{host}tasks\", headers=headers, params={\"project\": projectid})\n",
    "    assert req.status_code == 200\n",
    "    data = json.loads(req.text)\n",
    "    return data"
   ]
  },
  {
   "cell_type": "code",
   "execution_count": 45,
   "metadata": {},
   "outputs": [],
   "source": [
    "def index_task_filestem_to_id(tasks_data):\n",
    "    tasks = tasks_data[\"tasks\"]\n",
    "    mapping = {}\n",
    "    for task in tasks:\n",
    "        task_id = task[\"id\"]\n",
    "        if \"storage_filename\" in task:\n",
    "            task_raw_path = task[\"storage_filename\"]\n",
    "        else:\n",
    "            task_raw_path = task[\"data\"][\"audio\"]\n",
    "        if not task_raw_path:\n",
    "            continue\n",
    "        task_stem = task_raw_path.split(\"/\")[-1]\n",
    "        mapping[task_stem] = task_id\n",
    "    return mapping"
   ]
  },
  {
   "cell_type": "code",
   "execution_count": 22,
   "metadata": {},
   "outputs": [
    {
     "data": {
      "text/plain": [
       "1"
      ]
     },
     "execution_count": 22,
     "metadata": {},
     "output_type": "execute_result"
    }
   ],
   "source": [
    "get_project_id_from_name(\"Speaker 3\")"
   ]
  },
  {
   "cell_type": "code",
   "execution_count": 132,
   "metadata": {},
   "outputs": [],
   "source": [
    "tasks = get_tasks(4)"
   ]
  },
  {
   "cell_type": "code",
   "execution_count": 133,
   "metadata": {},
   "outputs": [],
   "source": [
    "mapping = index_task_filestem_to_id(tasks)"
   ]
  },
  {
   "cell_type": "code",
   "execution_count": 134,
   "metadata": {},
   "outputs": [
    {
     "data": {
      "text/plain": [
       "{'hsi_4_0717_209_001_inter.wav': 23,\n",
       " 'hsi_4_0717_209_002_inter.wav': 24,\n",
       " 'hsi_4_0717_209_003_inter.wav': 25,\n",
       " 'hsi_4_0717_210_001_inter.wav': 26,\n",
       " 'hsi_4_0717_210_003_inter.wav': 27,\n",
       " 'hsi_4_0717_211_001_inter.wav': 28,\n",
       " 'hsi_4_0717_211_002_inter.wav': 29,\n",
       " 'hsi_4_0717_211_003_inter.wav': 30,\n",
       " 'hsi_4_0717_222_002_inter.wav': 31,\n",
       " 'hsi_4_0717_222_003_inter.wav': 32,\n",
       " 'hsi_4_0717_227_002_inter.wav': 33,\n",
       " 'hsi_4_0717_227_003_inter.wav': 34,\n",
       " 'hsi_4_0717_227_004_inter.wav': 35,\n",
       " 'hsi_5_0718_210_001_inter.wav': 36,\n",
       " 'hsi_5_0718_210_002_inter.wav': 37,\n",
       " 'hsi_5_0718_210_003_inter.wav': 38,\n",
       " 'hsi_5_0718_211_002_inter.wav': 39,\n",
       " 'hsi_5_0718_211_003_inter.wav': 40,\n",
       " 'hsi_5_0718_222_002_inter.wav': 41,\n",
       " 'hsi_5_0718_222_003_inter.wav': 42,\n",
       " 'hsi_5_0718_227_001_inter.wav': 43,\n",
       " 'hsi_5_0718_227_002_inter.wav': 44,\n",
       " 'hsi_6_0718_209_002_inter.wav': 45,\n",
       " 'hsi_6_0718_209_003_inter.wav': 46,\n",
       " 'hsi_6_0718_210_001_inter.wav': 47,\n",
       " 'hsi_6_0718_210_002_inter.wav': 48,\n",
       " 'hsi_6_0718_211_001_inter.wav': 49,\n",
       " 'hsi_6_0718_211_002_inter.wav': 50,\n",
       " 'hsi_6_0718_222_001_inter.wav': 51,\n",
       " 'hsi_6_0718_222_003_inter.wav': 52,\n",
       " 'hsi_6_0718_227_001_inter.wav': 53,\n",
       " 'hsi_6_0718_227_002_inter.wav': 54,\n",
       " 'hsi_7_0719_209_002_inter.wav': 55,\n",
       " 'hsi_5_0718_209_001_inter.wav': 56,\n",
       " 'hsi_5_0718_209_002_inter.wav': 57,\n",
       " 'hsi_5_0718_209_003_inter.wav': 58,\n",
       " 'hsi_6_0718_209_001_inter.wav': 59,\n",
       " 'hsi_7_0719_209_001_inter.wav': 60,\n",
       " 'hsi_7_0719_209_003_inter.wav': 61,\n",
       " 'hsi_7_0719_210_001_inter.wav': 62,\n",
       " 'hsi_7_0719_210_002_inter.wav': 63,\n",
       " 'hsi_7_0719_210_003_inter.wav': 64,\n",
       " 'hsi_7_0719_211_002_inter.wav': 65,\n",
       " 'hsi_7_0719_211_004_inter.wav': 66,\n",
       " 'hsi_7_0719_222_002_inter.wav': 67,\n",
       " 'hsi_7_0719_222_004_inter.wav': 68,\n",
       " 'hsi_7_0719_227_002_inter.wav': 69,\n",
       " 'hsi_7_0719_227_003_inter.wav': 70}"
      ]
     },
     "execution_count": 134,
     "metadata": {},
     "output_type": "execute_result"
    }
   ],
   "source": [
    "mapping"
   ]
  },
  {
   "cell_type": "markdown",
   "metadata": {},
   "source": [
    "ID: 71"
   ]
  },
  {
   "cell_type": "code",
   "execution_count": 97,
   "metadata": {},
   "outputs": [],
   "source": [
    "import json\n",
    "\n",
    "def convert_json(filename):\n",
    "    with open(filename) as inf:\n",
    "        data = json.load(inf)\n",
    "\n",
    "    outputs = []\n",
    "    for segment in data[\"segments\"]:\n",
    "        start = segment[\"start\"]\n",
    "        end = segment[\"end\"]\n",
    "        text = segment[\"text\"]\n",
    "\n",
    "        segment = {\n",
    "            \"value\": {\n",
    "                \"start\": start,\n",
    "                \"end\": end,\n",
    "                \"channel\": 0,\n",
    "                \"labels\": [\"Speech\"]\n",
    "            },\n",
    "            \"from_name\": \"labels\",\n",
    "            \"to_name\": \"audio\",\n",
    "            \"type\": \"labels\",\n",
    "        }\n",
    "        rec = {\n",
    "            \"value\": {\n",
    "                \"start\": start,\n",
    "                \"end\": end,\n",
    "                \"channel\": 0,\n",
    "                \"text\": [text.strip()]\n",
    "            },\n",
    "            \"from_name\": \"transcription\",\n",
    "            \"to_name\": \"audio\",\n",
    "            \"type\": \"textarea\",\n",
    "        }\n",
    "        outputs.append(segment)\n",
    "        outputs.append(rec)\n",
    "\n",
    "    return outputs"
   ]
  },
  {
   "cell_type": "code",
   "execution_count": 96,
   "metadata": {},
   "outputs": [],
   "source": [
    "def post_results(id, task, project, results):\n",
    "    ep = f\"{host}annotations/{id}/?taskID={task}&project={project}\"\n",
    "\n",
    "    cur_headers = {i: headers[i] for i in headers}\n",
    "    cur_headers[\"Content-type\"] = \"application/json\"\n",
    "\n",
    "    content = {\n",
    "        \"was_cancelled\": False,\n",
    "        \"ground_truth\": False,\n",
    "        \"project\": project,\n",
    "        \"draft_id\": 0,\n",
    "        \"parent_prediction\": None,\n",
    "        \"parent_annotation\": None,\n",
    "        \"result\": results\n",
    "    }\n",
    "    r = requests.patch(ep, data=json.dumps(content), headers=cur_headers)\n",
    "    return r"
   ]
  },
  {
   "cell_type": "code",
   "execution_count": 129,
   "metadata": {},
   "outputs": [],
   "source": [
    "file = f\"{input_dir}hsi_3_0715_209_006_main.json\"\n",
    "data = convert_json(file)"
   ]
  },
  {
   "cell_type": "code",
   "execution_count": 130,
   "metadata": {},
   "outputs": [
    {
     "name": "stdout",
     "output_type": "stream",
     "text": [
      "{\"id\":98,\"result\":[{\"value\":{\"start\":9.994,\"end\":10.839,\"channel\":0,\"labels\":[\"Speech\"]},\"from_name\":\"labels\",\"to_name\":\"audio\",\"type\":\"labels\"},{\"value\":{\"start\":9.994,\"end\":10.839,\"channel\":0,\"text\":[\"Comprehensible.\"]},\"from_name\":\"transcription\",\"to_name\":\"audio\",\"type\":\"textarea\"},{\"value\":{\"start\":57.443,\"end\":58.064,\"channel\":0,\"labels\":[\"Speech\"]},\"from_name\":\"labels\",\"to_name\":\"audio\",\"type\":\"labels\"},{\"value\":{\"start\":57.443,\"end\":58.064,\"channel\":0,\"text\":[\"Yeah, further.\"]},\"from_name\":\"transcription\",\"to_name\":\"audio\",\"type\":\"textarea\"},{\"value\":{\"start\":58.264,\"end\":58.444,\"channel\":0,\"labels\":[\"Speech\"]},\"from_name\":\"labels\",\"to_name\":\"audio\",\"type\":\"labels\"},{\"value\":{\"start\":58.264,\"end\":58.444,\"channel\":0,\"text\":[\"Yeah.\"]},\"from_name\":\"transcription\",\"to_name\":\"audio\",\"type\":\"textarea\"},{\"value\":{\"start\":73.675,\"end\":74.576,\"channel\":0,\"labels\":[\"Speech\"]},\"from_name\":\"labels\",\"to_name\":\"audio\",\"type\":\"labels\"},{\"value\":{\"start\":73.675,\"end\":74.576,\"channel\":0,\"text\":[\"Oh, I'm good.\"]},\"from_name\":\"transcription\",\"to_name\":\"audio\",\"type\":\"textarea\"},{\"value\":{\"start\":74.636,\"end\":75.757,\"channel\":0,\"labels\":[\"Speech\"]},\"from_name\":\"labels\",\"to_name\":\"audio\",\"type\":\"labels\"},{\"value\":{\"start\":74.636,\"end\":75.757,\"channel\":0,\"text\":[\"You're so welcome.\"]},\"from_name\":\"transcription\",\"to_name\":\"audio\",\"type\":\"textarea\"},{\"value\":{\"start\":78.359,\"end\":79.619,\"channel\":0,\"labels\":[\"Speech\"]},\"from_name\":\"labels\",\"to_name\":\"audio\",\"type\":\"labels\"},{\"value\":{\"start\":78.359,\"end\":79.619,\"channel\":0,\"text\":[\"I'm so glad you're here.\"]},\"from_name\":\"transcription\",\"to_name\":\"audio\",\"type\":\"textarea\"},{\"value\":{\"start\":83.042,\"end\":84.403,\"channel\":0,\"labels\":[\"Speech\"]},\"from_name\":\"labels\",\"to_name\":\"audio\",\"type\":\"labels\"},{\"value\":{\"start\":83.042,\"end\":84.403,\"channel\":0,\"text\":[\"Yeah, thank you.\"]},\"from_name\":\"transcription\",\"to_name\":\"audio\",\"type\":\"textarea\"},{\"value\":{\"start\":84.563,\"end\":85.224,\"channel\":0,\"labels\":[\"Speech\"]},\"from_name\":\"labels\",\"to_name\":\"audio\",\"type\":\"labels\"},{\"value\":{\"start\":84.563,\"end\":85.224,\"channel\":0,\"text\":[\"Thank you.\"]},\"from_name\":\"transcription\",\"to_name\":\"audio\",\"type\":\"textarea\"},{\"value\":{\"start\":86.444,\"end\":86.945,\"channel\":0,\"labels\":[\"Speech\"]},\"from_name\":\"labels\",\"to_name\":\"audio\",\"type\":\"labels\"},{\"value\":{\"start\":86.444,\"end\":86.945,\"channel\":0,\"text\":[\"Yeah.\"]},\"from_name\":\"transcription\",\"to_name\":\"audio\",\"type\":\"textarea\"},{\"value\":{\"start\":90.029,\"end\":97.773,\"channel\":0,\"labels\":[\"Speech\"]},\"from_name\":\"labels\",\"to_name\":\"audio\",\"type\":\"labels\"},{\"value\":{\"start\":90.029,\"end\":97.773,\"channel\":0,\"text\":[\"Yeah, yeah, with the stove and... But I did... Yeah, yeah, yeah, yeah, yeah, yeah.\"]},\"from_name\":\"transcription\",\"to_name\":\"audio\",\"type\":\"textarea\"},{\"value\":{\"start\":98.234,\"end\":106.538,\"channel\":0,\"labels\":[\"Speech\"]},\"from_name\":\"labels\",\"to_name\":\"audio\",\"type\":\"labels\"},{\"value\":{\"start\":98.234,\"end\":106.538,\"channel\":0,\"text\":[\"Now in the summer we don't need it, but in the winter it's... It changes everything, it does, it's really great.\"]},\"from_name\":\"transcription\",\"to_name\":\"audio\",\"type\":\"textarea\"},{\"value\":{\"start\":107.859,\"end\":118.365,\"channel\":0,\"labels\":[\"Speech\"]},\"from_name\":\"labels\",\"to_name\":\"audio\",\"type\":\"labels\"},{\"value\":{\"start\":107.859,\"end\":118.365,\"channel\":0,\"text\":[\"Yeah, yeah, I'm really happy about... And also it's the view, it's so nice, and the sun comes in in the afternoon, and so...\"]},\"from_name\":\"transcription\",\"to_name\":\"audio\",\"type\":\"textarea\"},{\"value\":{\"start\":120.16,\"end\":146.813,\"channel\":0,\"labels\":[\"Speech\"]},\"from_name\":\"labels\",\"to_name\":\"audio\",\"type\":\"labels\"},{\"value\":{\"start\":120.16,\"end\":146.813,\"channel\":0,\"text\":[\"yeah yeah yeah it's nice but I also feel a little bit like prison feeling sometimes you know when it's dark and you have this I don't know but it's still it's beautiful yeah it is yeah and I do some yoga here in front of the window\"]},\"from_name\":\"transcription\",\"to_name\":\"audio\",\"type\":\"textarea\"},{\"value\":{\"start\":148.476,\"end\":149.217,\"channel\":0,\"labels\":[\"Speech\"]},\"from_name\":\"labels\",\"to_name\":\"audio\",\"type\":\"labels\"},{\"value\":{\"start\":148.476,\"end\":149.217,\"channel\":0,\"text\":[\"Yeah, I have.\"]},\"from_name\":\"transcription\",\"to_name\":\"audio\",\"type\":\"textarea\"},{\"value\":{\"start\":149.637,\"end\":151.218,\"channel\":0,\"labels\":[\"Speech\"]},\"from_name\":\"labels\",\"to_name\":\"audio\",\"type\":\"labels\"},{\"value\":{\"start\":149.637,\"end\":151.218,\"channel\":0,\"text\":[\"It's great in the mornings.\"]},\"from_name\":\"transcription\",\"to_name\":\"audio\",\"type\":\"textarea\"},{\"value\":{\"start\":154.24,\"end\":157.082,\"channel\":0,\"labels\":[\"Speech\"]},\"from_name\":\"labels\",\"to_name\":\"audio\",\"type\":\"labels\"},{\"value\":{\"start\":154.24,\"end\":157.082,\"channel\":0,\"text\":[\"I really love the pictures I have on the wall.\"]},\"from_name\":\"transcription\",\"to_name\":\"audio\",\"type\":\"textarea\"},{\"value\":{\"start\":157.222,\"end\":161.025,\"channel\":0,\"labels\":[\"Speech\"]},\"from_name\":\"labels\",\"to_name\":\"audio\",\"type\":\"labels\"},{\"value\":{\"start\":157.222,\"end\":161.025,\"channel\":0,\"text\":[\"You know, it's my father who has been traveling a lot.\"]},\"from_name\":\"transcription\",\"to_name\":\"audio\",\"type\":\"textarea\"},{\"value\":{\"start\":161.605,\"end\":168.71,\"channel\":0,\"labels\":[\"Speech\"]},\"from_name\":\"labels\",\"to_name\":\"audio\",\"type\":\"labels\"},{\"value\":{\"start\":161.605,\"end\":168.71,\"channel\":0,\"text\":[\"So in each place he went, he took photos and he ordered these paintings for me.\"]},\"from_name\":\"transcription\",\"to_name\":\"audio\",\"type\":\"textarea\"},{\"value\":{\"start\":169.311,\"end\":172.653,\"channel\":0,\"labels\":[\"Speech\"]},\"from_name\":\"labels\",\"to_name\":\"audio\",\"type\":\"labels\"},{\"value\":{\"start\":169.311,\"end\":172.653,\"channel\":0,\"text\":[\"So this is from the desert in Sinai.\"]},\"from_name\":\"transcription\",\"to_name\":\"audio\",\"type\":\"textarea\"},{\"value\":{\"start\":174.054,\"end\":182.619,\"channel\":0,\"labels\":[\"Speech\"]},\"from_name\":\"labels\",\"to_name\":\"audio\",\"type\":\"labels\"},{\"value\":{\"start\":174.054,\"end\":182.619,\"channel\":0,\"text\":[\"And what you can see, the little black thing up there, it's a piece of the helicopter he was in.\"]},\"from_name\":\"transcription\",\"to_name\":\"audio\",\"type\":\"textarea\"},{\"value\":{\"start\":184.78,\"end\":194.526,\"channel\":0,\"labels\":[\"Speech\"]},\"from_name\":\"labels\",\"to_name\":\"audio\",\"type\":\"labels\"},{\"value\":{\"start\":184.78,\"end\":194.526,\"channel\":0,\"text\":[\"So, yeah, it's funny because, yeah, and also see the sun is coming up a bit because of the wind from the helicopter.\"]},\"from_name\":\"transcription\",\"to_name\":\"audio\",\"type\":\"textarea\"},{\"value\":{\"start\":195.326,\"end\":195.787,\"channel\":0,\"labels\":[\"Speech\"]},\"from_name\":\"labels\",\"to_name\":\"audio\",\"type\":\"labels\"},{\"value\":{\"start\":195.326,\"end\":195.787,\"channel\":0,\"text\":[\"Yeah.\"]},\"from_name\":\"transcription\",\"to_name\":\"audio\",\"type\":\"textarea\"},{\"value\":{\"start\":196.527,\"end\":202.531,\"channel\":0,\"labels\":[\"Speech\"]},\"from_name\":\"labels\",\"to_name\":\"audio\",\"type\":\"labels\"},{\"value\":{\"start\":196.527,\"end\":202.531,\"channel\":0,\"text\":[\"And the other painting is from South America, actually.\"]},\"from_name\":\"transcription\",\"to_name\":\"audio\",\"type\":\"textarea\"},{\"value\":{\"start\":203.291,\"end\":203.911,\"channel\":0,\"labels\":[\"Speech\"]},\"from_name\":\"labels\",\"to_name\":\"audio\",\"type\":\"labels\"},{\"value\":{\"start\":203.291,\"end\":203.911,\"channel\":0,\"text\":[\"Yeah, yeah.\"]},\"from_name\":\"transcription\",\"to_name\":\"audio\",\"type\":\"textarea\"},{\"value\":{\"start\":204.671,\"end\":211.153,\"channel\":0,\"labels\":[\"Speech\"]},\"from_name\":\"labels\",\"to_name\":\"audio\",\"type\":\"labels\"},{\"value\":{\"start\":204.671,\"end\":211.153,\"channel\":0,\"text\":[\"He was there when he was 20 and he went back several times in Chile.\"]},\"from_name\":\"transcription\",\"to_name\":\"audio\",\"type\":\"textarea\"},{\"value\":{\"start\":211.373,\"end\":213.053,\"channel\":0,\"labels\":[\"Speech\"]},\"from_name\":\"labels\",\"to_name\":\"audio\",\"type\":\"labels\"},{\"value\":{\"start\":211.373,\"end\":213.053,\"channel\":0,\"text\":[\"He loves, yeah, in Chile.\"]},\"from_name\":\"transcription\",\"to_name\":\"audio\",\"type\":\"textarea\"},{\"value\":{\"start\":213.834,\"end\":215.594,\"channel\":0,\"labels\":[\"Speech\"]},\"from_name\":\"labels\",\"to_name\":\"audio\",\"type\":\"labels\"},{\"value\":{\"start\":213.834,\"end\":215.594,\"channel\":0,\"text\":[\"He loves Chile, yeah.\"]},\"from_name\":\"transcription\",\"to_name\":\"audio\",\"type\":\"textarea\"},{\"value\":{\"start\":216.034,\"end\":222.816,\"channel\":0,\"labels\":[\"Speech\"]},\"from_name\":\"labels\",\"to_name\":\"audio\",\"type\":\"labels\"},{\"value\":{\"start\":216.034,\"end\":222.816,\"channel\":0,\"text\":[\"And he went to, you know, he had some friends, they had a farm with horses.\"]},\"from_name\":\"transcription\",\"to_name\":\"audio\",\"type\":\"textarea\"},{\"value\":{\"start\":224.356,\"end\":225.957,\"channel\":0,\"labels\":[\"Speech\"]},\"from_name\":\"labels\",\"to_name\":\"audio\",\"type\":\"labels\"},{\"value\":{\"start\":224.356,\"end\":225.957,\"channel\":0,\"text\":[\"And have this old style.\"]},\"from_name\":\"transcription\",\"to_name\":\"audio\",\"type\":\"textarea\"},{\"value\":{\"start\":226.918,\"end\":230.441,\"channel\":0,\"labels\":[\"Speech\"]},\"from_name\":\"labels\",\"to_name\":\"audio\",\"type\":\"labels\"},{\"value\":{\"start\":226.918,\"end\":230.441,\"channel\":0,\"text\":[\"They were like a little bit Western, you know?\"]},\"from_name\":\"transcription\",\"to_name\":\"audio\",\"type\":\"textarea\"},{\"value\":{\"start\":231.862,\"end\":232.782,\"channel\":0,\"labels\":[\"Speech\"]},\"from_name\":\"labels\",\"to_name\":\"audio\",\"type\":\"labels\"},{\"value\":{\"start\":231.862,\"end\":232.782,\"channel\":0,\"text\":[\"Western feeling.\"]},\"from_name\":\"transcription\",\"to_name\":\"audio\",\"type\":\"textarea\"},{\"value\":{\"start\":232.822,\"end\":239.007,\"channel\":0,\"labels\":[\"Speech\"]},\"from_name\":\"labels\",\"to_name\":\"audio\",\"type\":\"labels\"},{\"value\":{\"start\":232.822,\"end\":239.007,\"channel\":0,\"text\":[\"Yeah, and they... Yeah, yeah it does.\"]},\"from_name\":\"transcription\",\"to_name\":\"audio\",\"type\":\"textarea\"},{\"value\":{\"start\":240.268,\"end\":241.669,\"channel\":0,\"labels\":[\"Speech\"]},\"from_name\":\"labels\",\"to_name\":\"audio\",\"type\":\"labels\"},{\"value\":{\"start\":240.268,\"end\":241.669,\"channel\":0,\"text\":[\"And with the cows and everything.\"]},\"from_name\":\"transcription\",\"to_name\":\"audio\",\"type\":\"textarea\"},{\"value\":{\"start\":241.709,\"end\":245.812,\"channel\":0,\"labels\":[\"Speech\"]},\"from_name\":\"labels\",\"to_name\":\"audio\",\"type\":\"labels\"},{\"value\":{\"start\":241.709,\"end\":245.812,\"channel\":0,\"text\":[\"Yeah, they have really good meat in South America, so...\"]},\"from_name\":\"transcription\",\"to_name\":\"audio\",\"type\":\"textarea\"},{\"value\":{\"start\":249.375,\"end\":269.194,\"channel\":0,\"labels\":[\"Speech\"]},\"from_name\":\"labels\",\"to_name\":\"audio\",\"type\":\"labels\"},{\"value\":{\"start\":249.375,\"end\":269.194,\"channel\":0,\"text\":[\"yeah i think he ate some and this other painting is from egypt yeah it's like one of the pyramids they had this beautiful entrance like gold covered entrance so yeah that's really really fun to have\"]},\"from_name\":\"transcription\",\"to_name\":\"audio\",\"type\":\"textarea\"},{\"value\":{\"start\":275.692,\"end\":291.259,\"channel\":0,\"labels\":[\"Speech\"]},\"from_name\":\"labels\",\"to_name\":\"audio\",\"type\":\"labels\"},{\"value\":{\"start\":275.692,\"end\":291.259,\"channel\":0,\"text\":[\"Yeah, he had a company, pretty high tech, and he was selling his products all over the world.\"]},\"from_name\":\"transcription\",\"to_name\":\"audio\",\"type\":\"textarea\"},{\"value\":{\"start\":291.479,\"end\":294.861,\"channel\":0,\"labels\":[\"Speech\"]},\"from_name\":\"labels\",\"to_name\":\"audio\",\"type\":\"labels\"},{\"value\":{\"start\":291.479,\"end\":294.861,\"channel\":0,\"text\":[\"And here he was in Japan.\"]},\"from_name\":\"transcription\",\"to_name\":\"audio\",\"type\":\"textarea\"},{\"value\":{\"start\":296.161,\"end\":298.022,\"channel\":0,\"labels\":[\"Speech\"]},\"from_name\":\"labels\",\"to_name\":\"audio\",\"type\":\"labels\"},{\"value\":{\"start\":296.161,\"end\":298.022,\"channel\":0,\"text\":[\"Can you see these clouds?\"]},\"from_name\":\"transcription\",\"to_name\":\"audio\",\"type\":\"textarea\"},{\"value\":{\"start\":298.082,\"end\":304.327,\"channel\":0,\"labels\":[\"Speech\"]},\"from_name\":\"labels\",\"to_name\":\"audio\",\"type\":\"labels\"},{\"value\":{\"start\":298.082,\"end\":304.327,\"channel\":0,\"text\":[\"It looks like a person looking down, like a face looking down.\"]},\"from_name\":\"transcription\",\"to_name\":\"audio\",\"type\":\"textarea\"},{\"value\":{\"start\":304.347,\"end\":308.67,\"channel\":0,\"labels\":[\"Speech\"]},\"from_name\":\"labels\",\"to_name\":\"audio\",\"type\":\"labels\"},{\"value\":{\"start\":304.347,\"end\":308.67,\"channel\":0,\"text\":[\"It's really interesting, the weather coming to catch you.\"]},\"from_name\":\"transcription\",\"to_name\":\"audio\",\"type\":\"textarea\"},{\"value\":{\"start\":309.65,\"end\":313.513,\"channel\":0,\"labels\":[\"Speech\"]},\"from_name\":\"labels\",\"to_name\":\"audio\",\"type\":\"labels\"},{\"value\":{\"start\":309.65,\"end\":313.513,\"channel\":0,\"text\":[\"Yeah, it's really beautiful.\"]},\"from_name\":\"transcription\",\"to_name\":\"audio\",\"type\":\"textarea\"},{\"value\":{\"start\":313.573,\"end\":314.634,\"channel\":0,\"labels\":[\"Speech\"]},\"from_name\":\"labels\",\"to_name\":\"audio\",\"type\":\"labels\"},{\"value\":{\"start\":313.573,\"end\":314.634,\"channel\":0,\"text\":[\"He's really good at that.\"]},\"from_name\":\"transcription\",\"to_name\":\"audio\",\"type\":\"textarea\"},{\"value\":{\"start\":315.774,\"end\":316.235,\"channel\":0,\"labels\":[\"Speech\"]},\"from_name\":\"labels\",\"to_name\":\"audio\",\"type\":\"labels\"},{\"value\":{\"start\":315.774,\"end\":316.235,\"channel\":0,\"text\":[\"Yeah.\"]},\"from_name\":\"transcription\",\"to_name\":\"audio\",\"type\":\"textarea\"},{\"value\":{\"start\":322.304,\"end\":322.825,\"channel\":0,\"labels\":[\"Speech\"]},\"from_name\":\"labels\",\"to_name\":\"audio\",\"type\":\"labels\"},{\"value\":{\"start\":322.304,\"end\":322.825,\"channel\":0,\"text\":[\"He was what?\"]},\"from_name\":\"transcription\",\"to_name\":\"audio\",\"type\":\"textarea\"},{\"value\":{\"start\":324.186,\"end\":334.135,\"channel\":0,\"labels\":[\"Speech\"]},\"from_name\":\"labels\",\"to_name\":\"audio\",\"type\":\"labels\"},{\"value\":{\"start\":324.186,\"end\":334.135,\"channel\":0,\"text\":[\"Ah, yeah, but he sells some, because yeah, it's beautiful, but it's not his main job, you know.\"]},\"from_name\":\"transcription\",\"to_name\":\"audio\",\"type\":\"textarea\"},{\"value\":{\"start\":341.097,\"end\":351.106,\"channel\":0,\"labels\":[\"Speech\"]},\"from_name\":\"labels\",\"to_name\":\"audio\",\"type\":\"labels\"},{\"value\":{\"start\":341.097,\"end\":351.106,\"channel\":0,\"text\":[\"A little bit, you know, because I also travel so I got some of my, you know, these statues from my own travels.\"]},\"from_name\":\"transcription\",\"to_name\":\"audio\",\"type\":\"textarea\"},{\"value\":{\"start\":351.687,\"end\":359.073,\"channel\":0,\"labels\":[\"Speech\"]},\"from_name\":\"labels\",\"to_name\":\"audio\",\"type\":\"labels\"},{\"value\":{\"start\":351.687,\"end\":359.073,\"channel\":0,\"text\":[\"Because yeah, I got really interested in traveling because I went with him when I was small also a couple of times.\"]},\"from_name\":\"transcription\",\"to_name\":\"audio\",\"type\":\"textarea\"},{\"value\":{\"start\":360.214,\"end\":361.395,\"channel\":0,\"labels\":[\"Speech\"]},\"from_name\":\"labels\",\"to_name\":\"audio\",\"type\":\"labels\"},{\"value\":{\"start\":360.214,\"end\":361.395,\"channel\":0,\"text\":[\"So I got those.\"]},\"from_name\":\"transcription\",\"to_name\":\"audio\",\"type\":\"textarea\"},{\"value\":{\"start\":364.158,\"end\":364.518,\"channel\":0,\"labels\":[\"Speech\"]},\"from_name\":\"labels\",\"to_name\":\"audio\",\"type\":\"labels\"},{\"value\":{\"start\":364.158,\"end\":364.518,\"channel\":0,\"text\":[\"Yeah.\"]},\"from_name\":\"transcription\",\"to_name\":\"audio\",\"type\":\"textarea\"},{\"value\":{\"start\":368.586,\"end\":369.617,\"channel\":0,\"labels\":[\"Speech\"]},\"from_name\":\"labels\",\"to_name\":\"audio\",\"type\":\"labels\"},{\"value\":{\"start\":368.586,\"end\":369.617,\"channel\":0,\"text\":[\"Yeah, thank you.\"]},\"from_name\":\"transcription\",\"to_name\":\"audio\",\"type\":\"textarea\"},{\"value\":{\"start\":373.382,\"end\":375.264,\"channel\":0,\"labels\":[\"Speech\"]},\"from_name\":\"labels\",\"to_name\":\"audio\",\"type\":\"labels\"},{\"value\":{\"start\":373.382,\"end\":375.264,\"channel\":0,\"text\":[\"The statues, yes, of course.\"]},\"from_name\":\"transcription\",\"to_name\":\"audio\",\"type\":\"textarea\"},{\"value\":{\"start\":376.685,\"end\":383.87,\"channel\":0,\"labels\":[\"Speech\"]},\"from_name\":\"labels\",\"to_name\":\"audio\",\"type\":\"labels\"},{\"value\":{\"start\":376.685,\"end\":383.87,\"channel\":0,\"text\":[\"Those two women, they are from two different parts of the world.\"]},\"from_name\":\"transcription\",\"to_name\":\"audio\",\"type\":\"textarea\"},{\"value\":{\"start\":384.811,\"end\":395.28,\"channel\":0,\"labels\":[\"Speech\"]},\"from_name\":\"labels\",\"to_name\":\"audio\",\"type\":\"labels\"},{\"value\":{\"start\":384.811,\"end\":395.28,\"channel\":0,\"text\":[\"The black one, she's from Tromsø in the south of Norway, really, really high up in the north.\"]},\"from_name\":\"transcription\",\"to_name\":\"audio\",\"type\":\"textarea\"},{\"value\":{\"start\":396.26,\"end\":400.984,\"channel\":0,\"labels\":[\"Speech\"]},\"from_name\":\"labels\",\"to_name\":\"audio\",\"type\":\"labels\"},{\"value\":{\"start\":396.26,\"end\":400.984,\"channel\":0,\"text\":[\"And we went there together once with a camping car.\"]},\"from_name\":\"transcription\",\"to_name\":\"audio\",\"type\":\"textarea\"},{\"value\":{\"start\":402.285,\"end\":402.945,\"channel\":0,\"labels\":[\"Speech\"]},\"from_name\":\"labels\",\"to_name\":\"audio\",\"type\":\"labels\"},{\"value\":{\"start\":402.285,\"end\":402.945,\"channel\":0,\"text\":[\"In the summer.\"]},\"from_name\":\"transcription\",\"to_name\":\"audio\",\"type\":\"textarea\"},{\"value\":{\"start\":403.865,\"end\":405.646,\"channel\":0,\"labels\":[\"Speech\"]},\"from_name\":\"labels\",\"to_name\":\"audio\",\"type\":\"labels\"},{\"value\":{\"start\":403.865,\"end\":405.646,\"channel\":0,\"text\":[\"And we found that in a little village.\"]},\"from_name\":\"transcription\",\"to_name\":\"audio\",\"type\":\"textarea\"},{\"value\":{\"start\":406.626,\"end\":408.327,\"channel\":0,\"labels\":[\"Speech\"]},\"from_name\":\"labels\",\"to_name\":\"audio\",\"type\":\"labels\"},{\"value\":{\"start\":406.626,\"end\":408.327,\"channel\":0,\"text\":[\"And I think it's so beautiful.\"]},\"from_name\":\"transcription\",\"to_name\":\"audio\",\"type\":\"textarea\"},{\"value\":{\"start\":408.467,\"end\":412.248,\"channel\":0,\"labels\":[\"Speech\"]},\"from_name\":\"labels\",\"to_name\":\"audio\",\"type\":\"labels\"},{\"value\":{\"start\":408.467,\"end\":412.248,\"channel\":0,\"text\":[\"She's standing like, I don't know, something noble with her.\"]},\"from_name\":\"transcription\",\"to_name\":\"audio\",\"type\":\"textarea\"},{\"value\":{\"start\":412.788,\"end\":415.949,\"channel\":0,\"labels\":[\"Speech\"]},\"from_name\":\"labels\",\"to_name\":\"audio\",\"type\":\"labels\"},{\"value\":{\"start\":412.788,\"end\":415.949,\"channel\":0,\"text\":[\"Something, yeah, I don't know how to say it.\"]},\"from_name\":\"transcription\",\"to_name\":\"audio\",\"type\":\"textarea\"},{\"value\":{\"start\":416.089,\"end\":418.85,\"channel\":0,\"labels\":[\"Speech\"]},\"from_name\":\"labels\",\"to_name\":\"audio\",\"type\":\"labels\"},{\"value\":{\"start\":416.089,\"end\":418.85,\"channel\":0,\"text\":[\"Something fragile, but still strong.\"]},\"from_name\":\"transcription\",\"to_name\":\"audio\",\"type\":\"textarea\"},{\"value\":{\"start\":419.95,\"end\":430.333,\"channel\":0,\"labels\":[\"Speech\"]},\"from_name\":\"labels\",\"to_name\":\"audio\",\"type\":\"labels\"},{\"value\":{\"start\":419.95,\"end\":430.333,\"channel\":0,\"text\":[\"Yeah, and the other woman, we found her in California, actually.\"]},\"from_name\":\"transcription\",\"to_name\":\"audio\",\"type\":\"textarea\"},{\"value\":{\"start\":431.694,\"end\":438.341,\"channel\":0,\"labels\":[\"Speech\"]},\"from_name\":\"labels\",\"to_name\":\"audio\",\"type\":\"labels\"},{\"value\":{\"start\":431.694,\"end\":438.341,\"channel\":0,\"text\":[\"Yeah, we went to an old Indian village and found her there.\"]},\"from_name\":\"transcription\",\"to_name\":\"audio\",\"type\":\"textarea\"},{\"value\":{\"start\":442.446,\"end\":443.767,\"channel\":0,\"labels\":[\"Speech\"]},\"from_name\":\"labels\",\"to_name\":\"audio\",\"type\":\"labels\"},{\"value\":{\"start\":442.446,\"end\":443.767,\"channel\":0,\"text\":[\"Yeah, they do, they do.\"]},\"from_name\":\"transcription\",\"to_name\":\"audio\",\"type\":\"textarea\"},{\"value\":{\"start\":445.509,\"end\":450.835,\"channel\":0,\"labels\":[\"Speech\"]},\"from_name\":\"labels\",\"to_name\":\"audio\",\"type\":\"labels\"},{\"value\":{\"start\":445.509,\"end\":450.835,\"channel\":0,\"text\":[\"The only thing, you know what the only thing I'm really not satisfied with in this room is?\"]},\"from_name\":\"transcription\",\"to_name\":\"audio\",\"type\":\"textarea\"},{\"value\":{\"start\":454.668,\"end\":455.409,\"channel\":0,\"labels\":[\"Speech\"]},\"from_name\":\"labels\",\"to_name\":\"audio\",\"type\":\"labels\"},{\"value\":{\"start\":454.668,\"end\":455.409,\"channel\":0,\"text\":[\"It's the garbage.\"]},\"from_name\":\"transcription\",\"to_name\":\"audio\",\"type\":\"textarea\"},{\"value\":{\"start\":456.87,\"end\":464.194,\"channel\":0,\"labels\":[\"Speech\"]},\"from_name\":\"labels\",\"to_name\":\"audio\",\"type\":\"labels\"},{\"value\":{\"start\":456.87,\"end\":464.194,\"channel\":0,\"text\":[\"I just, I had this really nice garbage holder, but it fell.\"]},\"from_name\":\"transcription\",\"to_name\":\"audio\",\"type\":\"textarea\"},{\"value\":{\"start\":465.135,\"end\":468.237,\"channel\":0,\"labels\":[\"Speech\"]},\"from_name\":\"labels\",\"to_name\":\"audio\",\"type\":\"labels\"},{\"value\":{\"start\":465.135,\"end\":468.237,\"channel\":0,\"text\":[\"And yeah, I just had this for, yeah, it broke.\"]},\"from_name\":\"transcription\",\"to_name\":\"audio\",\"type\":\"textarea\"},{\"value\":{\"start\":468.317,\"end\":471.119,\"channel\":0,\"labels\":[\"Speech\"]},\"from_name\":\"labels\",\"to_name\":\"audio\",\"type\":\"labels\"},{\"value\":{\"start\":468.317,\"end\":471.119,\"channel\":0,\"text\":[\"So I have this just now.\"]},\"from_name\":\"transcription\",\"to_name\":\"audio\",\"type\":\"textarea\"},{\"value\":{\"start\":475.382,\"end\":477.644,\"channel\":0,\"labels\":[\"Speech\"]},\"from_name\":\"labels\",\"to_name\":\"audio\",\"type\":\"labels\"},{\"value\":{\"start\":475.382,\"end\":477.644,\"channel\":0,\"text\":[\"Yeah, but I, yeah, but I don't know.\"]},\"from_name\":\"transcription\",\"to_name\":\"audio\",\"type\":\"textarea\"},{\"value\":{\"start\":477.864,\"end\":479.845,\"channel\":0,\"labels\":[\"Speech\"]},\"from_name\":\"labels\",\"to_name\":\"audio\",\"type\":\"labels\"},{\"value\":{\"start\":477.864,\"end\":479.845,\"channel\":0,\"text\":[\"I don't want to take anything random.\"]},\"from_name\":\"transcription\",\"to_name\":\"audio\",\"type\":\"textarea\"},{\"value\":{\"start\":480.045,\"end\":482.647,\"channel\":0,\"labels\":[\"Speech\"]},\"from_name\":\"labels\",\"to_name\":\"audio\",\"type\":\"labels\"},{\"value\":{\"start\":480.045,\"end\":482.647,\"channel\":0,\"text\":[\"I want to take something that fits with the rest.\"]},\"from_name\":\"transcription\",\"to_name\":\"audio\",\"type\":\"textarea\"},{\"value\":{\"start\":484.517,\"end\":484.937,\"channel\":0,\"labels\":[\"Speech\"]},\"from_name\":\"labels\",\"to_name\":\"audio\",\"type\":\"labels\"},{\"value\":{\"start\":484.517,\"end\":484.937,\"channel\":0,\"text\":[\"Yeah.\"]},\"from_name\":\"transcription\",\"to_name\":\"audio\",\"type\":\"textarea\"},{\"value\":{\"start\":488.019,\"end\":488.76,\"channel\":0,\"labels\":[\"Speech\"]},\"from_name\":\"labels\",\"to_name\":\"audio\",\"type\":\"labels\"},{\"value\":{\"start\":488.019,\"end\":488.76,\"channel\":0,\"text\":[\"Oh, thank you.\"]},\"from_name\":\"transcription\",\"to_name\":\"audio\",\"type\":\"textarea\"},{\"value\":{\"start\":492.282,\"end\":493.203,\"channel\":0,\"labels\":[\"Speech\"]},\"from_name\":\"labels\",\"to_name\":\"audio\",\"type\":\"labels\"},{\"value\":{\"start\":492.282,\"end\":493.203,\"channel\":0,\"text\":[\"Yeah, but it's not.\"]},\"from_name\":\"transcription\",\"to_name\":\"audio\",\"type\":\"textarea\"},{\"value\":{\"start\":493.983,\"end\":494.404,\"channel\":0,\"labels\":[\"Speech\"]},\"from_name\":\"labels\",\"to_name\":\"audio\",\"type\":\"labels\"},{\"value\":{\"start\":493.983,\"end\":494.404,\"channel\":0,\"text\":[\"It's only.\"]},\"from_name\":\"transcription\",\"to_name\":\"audio\",\"type\":\"textarea\"},{\"value\":{\"start\":494.424,\"end\":496.105,\"channel\":0,\"labels\":[\"Speech\"]},\"from_name\":\"labels\",\"to_name\":\"audio\",\"type\":\"labels\"},{\"value\":{\"start\":494.424,\"end\":496.105,\"channel\":0,\"text\":[\"Yeah, exactly.\"]},\"from_name\":\"transcription\",\"to_name\":\"audio\",\"type\":\"textarea\"},{\"value\":{\"start\":496.885,\"end\":498.627,\"channel\":0,\"labels\":[\"Speech\"]},\"from_name\":\"labels\",\"to_name\":\"audio\",\"type\":\"labels\"},{\"value\":{\"start\":496.885,\"end\":498.627,\"channel\":0,\"text\":[\"Yeah.\"]},\"from_name\":\"transcription\",\"to_name\":\"audio\",\"type\":\"textarea\"},{\"value\":{\"start\":498.687,\"end\":499.207,\"channel\":0,\"labels\":[\"Speech\"]},\"from_name\":\"labels\",\"to_name\":\"audio\",\"type\":\"labels\"},{\"value\":{\"start\":498.687,\"end\":499.207,\"channel\":0,\"text\":[\"Thank you.\"]},\"from_name\":\"transcription\",\"to_name\":\"audio\",\"type\":\"textarea\"},{\"value\":{\"start\":500.408,\"end\":501.809,\"channel\":0,\"labels\":[\"Speech\"]},\"from_name\":\"labels\",\"to_name\":\"audio\",\"type\":\"labels\"},{\"value\":{\"start\":500.408,\"end\":501.809,\"channel\":0,\"text\":[\"I hope you come back.\"]},\"from_name\":\"transcription\",\"to_name\":\"audio\",\"type\":\"textarea\"}],\"created_username\":\"Whisper large-v2@whisper.fake, 2\",\"created_ago\":\"0 minutes\",\"completed_by\":2,\"was_cancelled\":false,\"ground_truth\":false,\"created_at\":\"2024-09-20T12:19:24.848145Z\",\"updated_at\":\"2024-09-20T12:19:51.486116Z\",\"draft_created_at\":null,\"lead_time\":1.949,\"import_id\":null,\"last_action\":null,\"task\":22,\"project\":1,\"updated_by\":1,\"parent_prediction\":null,\"parent_annotation\":null,\"last_created_by\":null}\n"
     ]
    }
   ],
   "source": [
    "r = post_results(98, 22, 1, data)\n",
    "print(r.text)"
   ]
  },
  {
   "cell_type": "code",
   "execution_count": null,
   "metadata": {},
   "outputs": [],
   "source": [
    "count = 99\n",
    "for task in mapping:\n",
    "    jsonfile = task.replace(\".wav\", \".json\")\n",
    "    file = f\"{input_dir}{jsonfile}\"\n",
    "    data = convert_json(file)\n",
    "    r = post_results(count, mapping[task], 4, data)\n",
    "    count += 1\n",
    "    print(r.text)"
   ]
  },
  {
   "cell_type": "code",
   "execution_count": 136,
   "metadata": {},
   "outputs": [],
   "source": [
    "tmap = {}\n",
    "count = 99\n",
    "for task in mapping:\n",
    "    tmap[task] = count\n",
    "    count += 1\n"
   ]
  },
  {
   "cell_type": "code",
   "execution_count": 140,
   "metadata": {},
   "outputs": [
    {
     "name": "stdout",
     "output_type": "stream",
     "text": [
      "hsi_7_0719_227_002_inter.wav 69\n",
      "hsi_7_0719_209_003_inter.wav 61\n",
      "hsi_7_0719_227_003_inter.wav 70\n",
      "hsi_7_0719_211_004_inter.wav 66\n",
      "hsi_6_0718_209_001_inter.wav 59\n",
      "hsi_7_0719_222_002_inter.wav 67\n",
      "hsi_7_0719_209_001_inter.wav 60\n",
      "hsi_7_0719_222_004_inter.wav 68\n",
      "hsi_7_0719_211_002_inter.wav 65\n",
      "hsi_7_0719_210_002_inter.wav 63\n",
      "hsi_7_0719_210_003_inter.wav 64\n",
      "hsi_5_0718_209_001_inter.wav 56\n",
      "hsi_5_0718_209_003_inter.wav 58\n",
      "hsi_7_0719_210_001_inter.wav 62\n",
      "hsi_5_0718_209_002_inter.wav 57\n"
     ]
    }
   ],
   "source": [
    "from pathlib import Path\n",
    "\n",
    "for file in Path(\"/Users/joregan/Playing/hsi_ctmedit/textgrid\").glob(\"*.TextGrid\"):\n",
    "    wavfile = file.stem + \".wav\"\n",
    "    if wavfile in mapping:\n",
    "        print(wavfile, mapping[wavfile])"
   ]
  }
 ],
 "metadata": {
  "kernelspec": {
   "display_name": "nst-tts",
   "language": "python",
   "name": "python3"
  },
  "language_info": {
   "codemirror_mode": {
    "name": "ipython",
    "version": 3
   },
   "file_extension": ".py",
   "mimetype": "text/x-python",
   "name": "python",
   "nbconvert_exporter": "python",
   "pygments_lexer": "ipython3",
   "version": "3.10.9"
  }
 },
 "nbformat": 4,
 "nbformat_minor": 2
}
