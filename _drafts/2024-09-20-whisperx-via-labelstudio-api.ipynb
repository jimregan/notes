{
 "cells": [
  {
   "cell_type": "code",
   "execution_count": 52,
   "metadata": {
    "tags": [
     "parameters"
    ]
   },
   "outputs": [],
   "source": [
    "host = \"http://130.237.3.107:8080/api/\"\n",
    "api_token = \"39cd216c44fc16542a706820c4d0bd4377f1a416\"\n",
    "input_dir = \"/Users/joregan/Playing/hsi/audio/whisperx-json/\""
   ]
  },
  {
   "cell_type": "code",
   "execution_count": 35,
   "metadata": {},
   "outputs": [],
   "source": [
    "import requests\n",
    "import json\n",
    "from pathlib import Path\n",
    "\n",
    "headers = {\n",
    "    \"Authorization\": f\"Token {api_token}\"\n",
    "}"
   ]
  },
  {
   "cell_type": "code",
   "execution_count": 11,
   "metadata": {},
   "outputs": [],
   "source": [
    "def get_projects():\n",
    "    req = requests.get(f\"{host}projects\", headers=headers)\n",
    "    assert req.status_code == 200\n",
    "    data = json.loads(req.text)\n",
    "    return data"
   ]
  },
  {
   "cell_type": "code",
   "execution_count": 21,
   "metadata": {},
   "outputs": [],
   "source": [
    "def get_project_id_from_name(name):\n",
    "    projects = get_projects()\n",
    "    for res in projects[\"results\"]:\n",
    "        if res[\"title\"].strip() == name.strip():\n",
    "            return res[\"id\"]"
   ]
  },
  {
   "cell_type": "code",
   "execution_count": 31,
   "metadata": {},
   "outputs": [],
   "source": [
    "def get_tasks(projectid):\n",
    "    req = requests.get(f\"{host}tasks\", headers=headers, params={\"project\": projectid})\n",
    "    assert req.status_code == 200\n",
    "    data = json.loads(req.text)\n",
    "    return data"
   ]
  },
  {
   "cell_type": "code",
   "execution_count": 45,
   "metadata": {},
   "outputs": [],
   "source": [
    "def index_task_filestem_to_id(tasks_data):\n",
    "    tasks = tasks_data[\"tasks\"]\n",
    "    mapping = {}\n",
    "    for task in tasks:\n",
    "        task_id = task[\"id\"]\n",
    "        if \"storage_filename\" in task:\n",
    "            task_raw_path = task[\"storage_filename\"]\n",
    "        else:\n",
    "            task_raw_path = task[\"data\"][\"audio\"]\n",
    "        if not task_raw_path:\n",
    "            continue\n",
    "        task_stem = task_raw_path.split(\"/\")[-1]\n",
    "        mapping[task_stem] = task_id\n",
    "    return mapping"
   ]
  },
  {
   "cell_type": "code",
   "execution_count": 22,
   "metadata": {},
   "outputs": [
    {
     "data": {
      "text/plain": [
       "1"
      ]
     },
     "execution_count": 22,
     "metadata": {},
     "output_type": "execute_result"
    }
   ],
   "source": [
    "get_project_id_from_name(\"Speaker 3\")"
   ]
  },
  {
   "cell_type": "code",
   "execution_count": 39,
   "metadata": {},
   "outputs": [],
   "source": [
    "tasks = get_tasks(1)"
   ]
  },
  {
   "cell_type": "code",
   "execution_count": 48,
   "metadata": {},
   "outputs": [],
   "source": [
    "mapping = index_task_filestem_to_id(tasks)"
   ]
  },
  {
   "cell_type": "code",
   "execution_count": 49,
   "metadata": {},
   "outputs": [
    {
     "data": {
      "text/plain": [
       "{'hsi_3_0715_209_008_main.wav': 1,\n",
       " 'hsi_3_0715_210_010_main.wav': 2,\n",
       " 'hsi_3_0715_210_011_main.wav': 3,\n",
       " 'hsi_3_0715_227_001_main.wav': 4,\n",
       " 'hsi_3_0715_227_002_main.wav': 5,\n",
       " 'hsi_3_0715_227_003_main.wav': 6,\n",
       " 'hsi_3_0715_227_004_main.wav': 7}"
      ]
     },
     "execution_count": 49,
     "metadata": {},
     "output_type": "execute_result"
    }
   ],
   "source": [
    "mapping"
   ]
  },
  {
   "cell_type": "markdown",
   "metadata": {},
   "source": [
    "ID: 71"
   ]
  },
  {
   "cell_type": "code",
   "execution_count": 93,
   "metadata": {},
   "outputs": [],
   "source": [
    "import json\n",
    "\n",
    "def convert_json(filename):\n",
    "    with open(filename) as inf:\n",
    "        data = json.load(inf)\n",
    "\n",
    "    outputs = []\n",
    "    for segment in data[\"segments\"]:\n",
    "        start = segment[\"start\"]\n",
    "        end = segment[\"end\"]\n",
    "        text = segment[\"text\"]\n",
    "\n",
    "        segment = {\n",
    "            \"value\": {\n",
    "                \"start\": start,\n",
    "                \"end\": end,\n",
    "                \"channel\": 0,\n",
    "                \"labels\": [\"Speech\"]\n",
    "            },\n",
    "            \"from_name\": \"labels\",\n",
    "            \"to_name\": \"audio\",\n",
    "            \"type\": \"labels\",\n",
    "        }\n",
    "        rec = {\n",
    "            \"value\": {\n",
    "                \"start\": start,\n",
    "                \"end\": end,\n",
    "                \"channel\": 0,\n",
    "                \"text\": [text.strip()]\n",
    "            },\n",
    "            \"from_name\": \"transcription\",\n",
    "            \"to_name\": \"audio\",\n",
    "            \"type\": \"textarea\",\n",
    "        }\n",
    "        outputs.append(segment)\n",
    "        outputs.append(rec)\n",
    "\n",
    "    return outputs"
   ]
  },
  {
   "cell_type": "code",
   "execution_count": 94,
   "metadata": {},
   "outputs": [],
   "source": [
    "def post_results(id, task, project, results):\n",
    "    ep = f\"{host}annotations/{id}/?taskID={task}&project={project}\"\n",
    "\n",
    "    cur_headers = {i: headers[i] for i in headers}\n",
    "    cur_headers[\"Content-type\"] = \"application/json\"\n",
    "\n",
    "    content = {\n",
    "        \"was_cancelled\": False,\n",
    "        \"ground_truth\": False,\n",
    "        \"project\": project,\n",
    "        \"draft_id\": 0,\n",
    "        \"parent_prediction\": None,\n",
    "        \"parent_annotation\": None,\n",
    "        \"result\": results\n",
    "    }\n",
    "    r = requests.patch(ep, data=json.dumps(content), headers=cur_headers)\n",
    "    return r"
   ]
  },
  {
   "cell_type": "code",
   "execution_count": 83,
   "metadata": {},
   "outputs": [],
   "source": [
    "file = f\"{input_dir}hsi_3_0715_209_008_main.json\"\n",
    "data = convert_json(file)"
   ]
  },
  {
   "cell_type": "code",
   "execution_count": 92,
   "metadata": {},
   "outputs": [
    {
     "name": "stdout",
     "output_type": "stream",
     "text": [
      "{\"id\":80,\"result\":[{\"value\":{\"start\":20.919,\"end\":21.179,\"channel\":0,\"labels\":[\"Speech\"]},\"from_name\":\"labels\",\"to_name\":\"audio\",\"type\":\"labels\"},{\"value\":{\"start\":20.919,\"end\":21.179,\"channel\":0,\"text\":[\"Yes.\"]},\"from_name\":\"transcription\",\"to_name\":\"audio\",\"type\":\"textarea\"}],\"created_username\":\"Whisper large-v2@whisper.fake, 2\",\"created_ago\":\"0 minutes\",\"completed_by\":2,\"was_cancelled\":false,\"ground_truth\":false,\"created_at\":\"2024-09-20T11:14:19.738760Z\",\"updated_at\":\"2024-09-20T11:14:25.140077Z\",\"draft_created_at\":null,\"lead_time\":1.758,\"import_id\":null,\"last_action\":null,\"task\":1,\"project\":1,\"updated_by\":1,\"parent_prediction\":null,\"parent_annotation\":null,\"last_created_by\":null}\n",
      "{\"id\":80,\"result\":[{\"value\":{\"start\":26.941,\"end\":28.382,\"channel\":0,\"labels\":[\"Speech\"]},\"from_name\":\"labels\",\"to_name\":\"audio\",\"type\":\"labels\"},{\"value\":{\"start\":26.941,\"end\":28.382,\"channel\":0,\"text\":[\"Yeah, disappeared.\"]},\"from_name\":\"transcription\",\"to_name\":\"audio\",\"type\":\"textarea\"}],\"created_username\":\"Whisper large-v2@whisper.fake, 2\",\"created_ago\":\"0 minutes\",\"completed_by\":2,\"was_cancelled\":false,\"ground_truth\":false,\"created_at\":\"2024-09-20T11:14:19.738760Z\",\"updated_at\":\"2024-09-20T11:14:25.246310Z\",\"draft_created_at\":null,\"lead_time\":1.758,\"import_id\":null,\"last_action\":null,\"task\":1,\"project\":1,\"updated_by\":1,\"parent_prediction\":null,\"parent_annotation\":null,\"last_created_by\":null}\n",
      "{\"id\":80,\"result\":[{\"value\":{\"start\":47.209,\"end\":47.409,\"channel\":0,\"labels\":[\"Speech\"]},\"from_name\":\"labels\",\"to_name\":\"audio\",\"type\":\"labels\"},{\"value\":{\"start\":47.209,\"end\":47.409,\"channel\":0,\"text\":[\"Yeah.\"]},\"from_name\":\"transcription\",\"to_name\":\"audio\",\"type\":\"textarea\"}],\"created_username\":\"Whisper large-v2@whisper.fake, 2\",\"created_ago\":\"0 minutes\",\"completed_by\":2,\"was_cancelled\":false,\"ground_truth\":false,\"created_at\":\"2024-09-20T11:14:19.738760Z\",\"updated_at\":\"2024-09-20T11:14:25.514617Z\",\"draft_created_at\":null,\"lead_time\":1.758,\"import_id\":null,\"last_action\":null,\"task\":1,\"project\":1,\"updated_by\":1,\"parent_prediction\":null,\"parent_annotation\":null,\"last_created_by\":null}\n",
      "{\"id\":80,\"result\":[{\"value\":{\"start\":49.025,\"end\":50.026,\"channel\":0,\"labels\":[\"Speech\"]},\"from_name\":\"labels\",\"to_name\":\"audio\",\"type\":\"labels\"},{\"value\":{\"start\":49.025,\"end\":50.026,\"channel\":0,\"text\":[\"Thank you, thank you.\"]},\"from_name\":\"transcription\",\"to_name\":\"audio\",\"type\":\"textarea\"}],\"created_username\":\"Whisper large-v2@whisper.fake, 2\",\"created_ago\":\"0 minutes\",\"completed_by\":2,\"was_cancelled\":false,\"ground_truth\":false,\"created_at\":\"2024-09-20T11:14:19.738760Z\",\"updated_at\":\"2024-09-20T11:14:25.667990Z\",\"draft_created_at\":null,\"lead_time\":1.758,\"import_id\":null,\"last_action\":null,\"task\":1,\"project\":1,\"updated_by\":1,\"parent_prediction\":null,\"parent_annotation\":null,\"last_created_by\":null}\n",
      "{\"id\":80,\"result\":[{\"value\":{\"start\":50.086,\"end\":51.267,\"channel\":0,\"labels\":[\"Speech\"]},\"from_name\":\"labels\",\"to_name\":\"audio\",\"type\":\"labels\"},{\"value\":{\"start\":50.086,\"end\":51.267,\"channel\":0,\"text\":[\"It was a long time ago now.\"]},\"from_name\":\"transcription\",\"to_name\":\"audio\",\"type\":\"textarea\"}],\"created_username\":\"Whisper large-v2@whisper.fake, 2\",\"created_ago\":\"0 minutes\",\"completed_by\":2,\"was_cancelled\":false,\"ground_truth\":false,\"created_at\":\"2024-09-20T11:14:19.738760Z\",\"updated_at\":\"2024-09-20T11:14:25.768865Z\",\"draft_created_at\":null,\"lead_time\":1.758,\"import_id\":null,\"last_action\":null,\"task\":1,\"project\":1,\"updated_by\":1,\"parent_prediction\":null,\"parent_annotation\":null,\"last_created_by\":null}\n",
      "{\"id\":80,\"result\":[{\"value\":{\"start\":52.968,\"end\":59.092,\"channel\":0,\"labels\":[\"Speech\"]},\"from_name\":\"labels\",\"to_name\":\"audio\",\"type\":\"labels\"},{\"value\":{\"start\":52.968,\"end\":59.092,\"channel\":0,\"text\":[\"Yeah, you did well, I think, because you didn't disturb me with anything.\"]},\"from_name\":\"transcription\",\"to_name\":\"audio\",\"type\":\"textarea\"}],\"created_username\":\"Whisper large-v2@whisper.fake, 2\",\"created_ago\":\"0 minutes\",\"completed_by\":2,\"was_cancelled\":false,\"ground_truth\":false,\"created_at\":\"2024-09-20T11:14:19.738760Z\",\"updated_at\":\"2024-09-20T11:14:25.883695Z\",\"draft_created_at\":null,\"lead_time\":1.758,\"import_id\":null,\"last_action\":null,\"task\":1,\"project\":1,\"updated_by\":1,\"parent_prediction\":null,\"parent_annotation\":null,\"last_created_by\":null}\n",
      "{\"id\":80,\"result\":[{\"value\":{\"start\":64.536,\"end\":65.676,\"channel\":0,\"labels\":[\"Speech\"]},\"from_name\":\"labels\",\"to_name\":\"audio\",\"type\":\"labels\"},{\"value\":{\"start\":64.536,\"end\":65.676,\"channel\":0,\"text\":[\"Yeah, yeah, yeah, yeah.\"]},\"from_name\":\"transcription\",\"to_name\":\"audio\",\"type\":\"textarea\"}],\"created_username\":\"Whisper large-v2@whisper.fake, 2\",\"created_ago\":\"0 minutes\",\"completed_by\":2,\"was_cancelled\":false,\"ground_truth\":false,\"created_at\":\"2024-09-20T11:14:19.738760Z\",\"updated_at\":\"2024-09-20T11:14:25.991372Z\",\"draft_created_at\":null,\"lead_time\":1.758,\"import_id\":null,\"last_action\":null,\"task\":1,\"project\":1,\"updated_by\":1,\"parent_prediction\":null,\"parent_annotation\":null,\"last_created_by\":null}\n",
      "{\"id\":80,\"result\":[{\"value\":{\"start\":65.837,\"end\":66.657,\"channel\":0,\"labels\":[\"Speech\"]},\"from_name\":\"labels\",\"to_name\":\"audio\",\"type\":\"labels\"},{\"value\":{\"start\":65.837,\"end\":66.657,\"channel\":0,\"text\":[\"But that's normal.\"]},\"from_name\":\"transcription\",\"to_name\":\"audio\",\"type\":\"textarea\"}],\"created_username\":\"Whisper large-v2@whisper.fake, 2\",\"created_ago\":\"0 minutes\",\"completed_by\":2,\"was_cancelled\":false,\"ground_truth\":false,\"created_at\":\"2024-09-20T11:14:19.738760Z\",\"updated_at\":\"2024-09-20T11:14:26.102006Z\",\"draft_created_at\":null,\"lead_time\":1.758,\"import_id\":null,\"last_action\":null,\"task\":1,\"project\":1,\"updated_by\":1,\"parent_prediction\":null,\"parent_annotation\":null,\"last_created_by\":null}\n",
      "{\"id\":80,\"result\":[{\"value\":{\"start\":67.198,\"end\":67.678,\"channel\":0,\"labels\":[\"Speech\"]},\"from_name\":\"labels\",\"to_name\":\"audio\",\"type\":\"labels\"},{\"value\":{\"start\":67.198,\"end\":67.678,\"channel\":0,\"text\":[\"It's normal.\"]},\"from_name\":\"transcription\",\"to_name\":\"audio\",\"type\":\"textarea\"}],\"created_username\":\"Whisper large-v2@whisper.fake, 2\",\"created_ago\":\"0 minutes\",\"completed_by\":2,\"was_cancelled\":false,\"ground_truth\":false,\"created_at\":\"2024-09-20T11:14:19.738760Z\",\"updated_at\":\"2024-09-20T11:14:26.190747Z\",\"draft_created_at\":null,\"lead_time\":1.758,\"import_id\":null,\"last_action\":null,\"task\":1,\"project\":1,\"updated_by\":1,\"parent_prediction\":null,\"parent_annotation\":null,\"last_created_by\":null}\n",
      "{\"id\":80,\"result\":[{\"value\":{\"start\":72.549,\"end\":74.41,\"channel\":0,\"labels\":[\"Speech\"]},\"from_name\":\"labels\",\"to_name\":\"audio\",\"type\":\"labels\"},{\"value\":{\"start\":72.549,\"end\":74.41,\"channel\":0,\"text\":[\"Yes, yes, yes.\"]},\"from_name\":\"transcription\",\"to_name\":\"audio\",\"type\":\"textarea\"}],\"created_username\":\"Whisper large-v2@whisper.fake, 2\",\"created_ago\":\"0 minutes\",\"completed_by\":2,\"was_cancelled\":false,\"ground_truth\":false,\"created_at\":\"2024-09-20T11:14:19.738760Z\",\"updated_at\":\"2024-09-20T11:14:26.278088Z\",\"draft_created_at\":null,\"lead_time\":1.758,\"import_id\":null,\"last_action\":null,\"task\":1,\"project\":1,\"updated_by\":1,\"parent_prediction\":null,\"parent_annotation\":null,\"last_created_by\":null}\n",
      "{\"id\":80,\"result\":[{\"value\":{\"start\":77.732,\"end\":80.533,\"channel\":0,\"labels\":[\"Speech\"]},\"from_name\":\"labels\",\"to_name\":\"audio\",\"type\":\"labels\"},{\"value\":{\"start\":77.732,\"end\":80.533,\"channel\":0,\"text\":[\"I see it's still in the stove.\"]},\"from_name\":\"transcription\",\"to_name\":\"audio\",\"type\":\"textarea\"}],\"created_username\":\"Whisper large-v2@whisper.fake, 2\",\"created_ago\":\"0 minutes\",\"completed_by\":2,\"was_cancelled\":false,\"ground_truth\":false,\"created_at\":\"2024-09-20T11:14:19.738760Z\",\"updated_at\":\"2024-09-20T11:14:26.375906Z\",\"draft_created_at\":null,\"lead_time\":1.758,\"import_id\":null,\"last_action\":null,\"task\":1,\"project\":1,\"updated_by\":1,\"parent_prediction\":null,\"parent_annotation\":null,\"last_created_by\":null}\n",
      "{\"id\":80,\"result\":[{\"value\":{\"start\":80.613,\"end\":82.174,\"channel\":0,\"labels\":[\"Speech\"]},\"from_name\":\"labels\",\"to_name\":\"audio\",\"type\":\"labels\"},{\"value\":{\"start\":80.613,\"end\":82.174,\"channel\":0,\"text\":[\"It's a little bit dirty still.\"]},\"from_name\":\"transcription\",\"to_name\":\"audio\",\"type\":\"textarea\"}],\"created_username\":\"Whisper large-v2@whisper.fake, 2\",\"created_ago\":\"0 minutes\",\"completed_by\":2,\"was_cancelled\":false,\"ground_truth\":false,\"created_at\":\"2024-09-20T11:14:19.738760Z\",\"updated_at\":\"2024-09-20T11:14:26.476734Z\",\"draft_created_at\":null,\"lead_time\":1.758,\"import_id\":null,\"last_action\":null,\"task\":1,\"project\":1,\"updated_by\":1,\"parent_prediction\":null,\"parent_annotation\":null,\"last_created_by\":null}\n",
      "{\"id\":80,\"result\":[{\"value\":{\"start\":84.215,\"end\":85.256,\"channel\":0,\"labels\":[\"Speech\"]},\"from_name\":\"labels\",\"to_name\":\"audio\",\"type\":\"labels\"},{\"value\":{\"start\":84.215,\"end\":85.256,\"channel\":0,\"text\":[\"Yeah, if you could clean up.\"]},\"from_name\":\"transcription\",\"to_name\":\"audio\",\"type\":\"textarea\"}],\"created_username\":\"Whisper large-v2@whisper.fake, 2\",\"created_ago\":\"0 minutes\",\"completed_by\":2,\"was_cancelled\":false,\"ground_truth\":false,\"created_at\":\"2024-09-20T11:14:19.738760Z\",\"updated_at\":\"2024-09-20T11:14:26.570851Z\",\"draft_created_at\":null,\"lead_time\":1.758,\"import_id\":null,\"last_action\":null,\"task\":1,\"project\":1,\"updated_by\":1,\"parent_prediction\":null,\"parent_annotation\":null,\"last_created_by\":null}\n",
      "{\"id\":80,\"result\":[{\"value\":{\"start\":85.336,\"end\":92.459,\"channel\":0,\"labels\":[\"Speech\"]},\"from_name\":\"labels\",\"to_name\":\"audio\",\"type\":\"labels\"},{\"value\":{\"start\":85.336,\"end\":92.459,\"channel\":0,\"text\":[\"I know it's hard to clean up because it's with the carbon from winter and everything.\"]},\"from_name\":\"transcription\",\"to_name\":\"audio\",\"type\":\"textarea\"}],\"created_username\":\"Whisper large-v2@whisper.fake, 2\",\"created_ago\":\"0 minutes\",\"completed_by\":2,\"was_cancelled\":false,\"ground_truth\":false,\"created_at\":\"2024-09-20T11:14:19.738760Z\",\"updated_at\":\"2024-09-20T11:14:26.663489Z\",\"draft_created_at\":null,\"lead_time\":1.758,\"import_id\":null,\"last_action\":null,\"task\":1,\"project\":1,\"updated_by\":1,\"parent_prediction\":null,\"parent_annotation\":null,\"last_created_by\":null}\n",
      "{\"id\":80,\"result\":[{\"value\":{\"start\":93.18,\"end\":97.482,\"channel\":0,\"labels\":[\"Speech\"]},\"from_name\":\"labels\",\"to_name\":\"audio\",\"type\":\"labels\"},{\"value\":{\"start\":93.18,\"end\":97.482,\"channel\":0,\"text\":[\"But yeah, I would like to really clean it up a bit more.\"]},\"from_name\":\"transcription\",\"to_name\":\"audio\",\"type\":\"textarea\"}],\"created_username\":\"Whisper large-v2@whisper.fake, 2\",\"created_ago\":\"0 minutes\",\"completed_by\":2,\"was_cancelled\":false,\"ground_truth\":false,\"created_at\":\"2024-09-20T11:14:19.738760Z\",\"updated_at\":\"2024-09-20T11:14:26.766136Z\",\"draft_created_at\":null,\"lead_time\":1.758,\"import_id\":null,\"last_action\":null,\"task\":1,\"project\":1,\"updated_by\":1,\"parent_prediction\":null,\"parent_annotation\":null,\"last_created_by\":null}\n",
      "{\"id\":80,\"result\":[{\"value\":{\"start\":99.281,\"end\":100.122,\"channel\":0,\"labels\":[\"Speech\"]},\"from_name\":\"labels\",\"to_name\":\"audio\",\"type\":\"labels\"},{\"value\":{\"start\":99.281,\"end\":100.122,\"channel\":0,\"text\":[\"Ah, that's super cool.\"]},\"from_name\":\"transcription\",\"to_name\":\"audio\",\"type\":\"textarea\"}],\"created_username\":\"Whisper large-v2@whisper.fake, 2\",\"created_ago\":\"0 minutes\",\"completed_by\":2,\"was_cancelled\":false,\"ground_truth\":false,\"created_at\":\"2024-09-20T11:14:19.738760Z\",\"updated_at\":\"2024-09-20T11:14:26.878039Z\",\"draft_created_at\":null,\"lead_time\":1.758,\"import_id\":null,\"last_action\":null,\"task\":1,\"project\":1,\"updated_by\":1,\"parent_prediction\":null,\"parent_annotation\":null,\"last_created_by\":null}\n",
      "{\"id\":80,\"result\":[{\"value\":{\"start\":100.142,\"end\":106.225,\"channel\":0,\"labels\":[\"Speech\"]},\"from_name\":\"labels\",\"to_name\":\"audio\",\"type\":\"labels\"},{\"value\":{\"start\":100.142,\"end\":106.225,\"channel\":0,\"text\":[\"Otherwise... Did you change the chair in front of the desk?\"]},\"from_name\":\"transcription\",\"to_name\":\"audio\",\"type\":\"textarea\"}],\"created_username\":\"Whisper large-v2@whisper.fake, 2\",\"created_ago\":\"0 minutes\",\"completed_by\":2,\"was_cancelled\":false,\"ground_truth\":false,\"created_at\":\"2024-09-20T11:14:19.738760Z\",\"updated_at\":\"2024-09-20T11:14:26.970486Z\",\"draft_created_at\":null,\"lead_time\":1.758,\"import_id\":null,\"last_action\":null,\"task\":1,\"project\":1,\"updated_by\":1,\"parent_prediction\":null,\"parent_annotation\":null,\"last_created_by\":null}\n",
      "{\"id\":80,\"result\":[{\"value\":{\"start\":106.265,\"end\":107.045,\"channel\":0,\"labels\":[\"Speech\"]},\"from_name\":\"labels\",\"to_name\":\"audio\",\"type\":\"labels\"},{\"value\":{\"start\":106.265,\"end\":107.045,\"channel\":0,\"text\":[\"Yes, I changed that one.\"]},\"from_name\":\"transcription\",\"to_name\":\"audio\",\"type\":\"textarea\"}],\"created_username\":\"Whisper large-v2@whisper.fake, 2\",\"created_ago\":\"0 minutes\",\"completed_by\":2,\"was_cancelled\":false,\"ground_truth\":false,\"created_at\":\"2024-09-20T11:14:19.738760Z\",\"updated_at\":\"2024-09-20T11:14:27.063225Z\",\"draft_created_at\":null,\"lead_time\":1.758,\"import_id\":null,\"last_action\":null,\"task\":1,\"project\":1,\"updated_by\":1,\"parent_prediction\":null,\"parent_annotation\":null,\"last_created_by\":null}\n",
      "{\"id\":80,\"result\":[{\"value\":{\"start\":107.065,\"end\":107.846,\"channel\":0,\"labels\":[\"Speech\"]},\"from_name\":\"labels\",\"to_name\":\"audio\",\"type\":\"labels\"},{\"value\":{\"start\":107.065,\"end\":107.846,\"channel\":0,\"text\":[\"That one is mine.\"]},\"from_name\":\"transcription\",\"to_name\":\"audio\",\"type\":\"textarea\"}],\"created_username\":\"Whisper large-v2@whisper.fake, 2\",\"created_ago\":\"0 minutes\",\"completed_by\":2,\"was_cancelled\":false,\"ground_truth\":false,\"created_at\":\"2024-09-20T11:14:19.738760Z\",\"updated_at\":\"2024-09-20T11:14:27.150974Z\",\"draft_created_at\":null,\"lead_time\":1.758,\"import_id\":null,\"last_action\":null,\"task\":1,\"project\":1,\"updated_by\":1,\"parent_prediction\":null,\"parent_annotation\":null,\"last_created_by\":null}\n",
      "{\"id\":80,\"result\":[{\"value\":{\"start\":107.866,\"end\":109.566,\"channel\":0,\"labels\":[\"Speech\"]},\"from_name\":\"labels\",\"to_name\":\"audio\",\"type\":\"labels\"},{\"value\":{\"start\":107.866,\"end\":109.566,\"channel\":0,\"text\":[\"So I will just take it whenever I leave.\"]},\"from_name\":\"transcription\",\"to_name\":\"audio\",\"type\":\"textarea\"}],\"created_username\":\"Whisper large-v2@whisper.fake, 2\",\"created_ago\":\"0 minutes\",\"completed_by\":2,\"was_cancelled\":false,\"ground_truth\":false,\"created_at\":\"2024-09-20T11:14:19.738760Z\",\"updated_at\":\"2024-09-20T11:14:27.248004Z\",\"draft_created_at\":null,\"lead_time\":1.758,\"import_id\":null,\"last_action\":null,\"task\":1,\"project\":1,\"updated_by\":1,\"parent_prediction\":null,\"parent_annotation\":null,\"last_created_by\":null}\n",
      "{\"id\":80,\"result\":[{\"value\":{\"start\":109.827,\"end\":121.853,\"channel\":0,\"labels\":[\"Speech\"]},\"from_name\":\"labels\",\"to_name\":\"audio\",\"type\":\"labels\"},{\"value\":{\"start\":109.827,\"end\":121.853,\"channel\":0,\"text\":[\"But we saved the one that was there in the basement.\"]},\"from_name\":\"transcription\",\"to_name\":\"audio\",\"type\":\"textarea\"}],\"created_username\":\"Whisper large-v2@whisper.fake, 2\",\"created_ago\":\"0 minutes\",\"completed_by\":2,\"was_cancelled\":false,\"ground_truth\":false,\"created_at\":\"2024-09-20T11:14:19.738760Z\",\"updated_at\":\"2024-09-20T11:14:27.356300Z\",\"draft_created_at\":null,\"lead_time\":1.758,\"import_id\":null,\"last_action\":null,\"task\":1,\"project\":1,\"updated_by\":1,\"parent_prediction\":null,\"parent_annotation\":null,\"last_created_by\":null}\n",
      "{\"id\":80,\"result\":[{\"value\":{\"start\":123.459,\"end\":123.819,\"channel\":0,\"labels\":[\"Speech\"]},\"from_name\":\"labels\",\"to_name\":\"audio\",\"type\":\"labels\"},{\"value\":{\"start\":123.459,\"end\":123.819,\"channel\":0,\"text\":[\"Okay.\"]},\"from_name\":\"transcription\",\"to_name\":\"audio\",\"type\":\"textarea\"}],\"created_username\":\"Whisper large-v2@whisper.fake, 2\",\"created_ago\":\"0 minutes\",\"completed_by\":2,\"was_cancelled\":false,\"ground_truth\":false,\"created_at\":\"2024-09-20T11:14:19.738760Z\",\"updated_at\":\"2024-09-20T11:14:27.459872Z\",\"draft_created_at\":null,\"lead_time\":1.758,\"import_id\":null,\"last_action\":null,\"task\":1,\"project\":1,\"updated_by\":1,\"parent_prediction\":null,\"parent_annotation\":null,\"last_created_by\":null}\n",
      "{\"id\":80,\"result\":[{\"value\":{\"start\":125.881,\"end\":128.783,\"channel\":0,\"labels\":[\"Speech\"]},\"from_name\":\"labels\",\"to_name\":\"audio\",\"type\":\"labels\"},{\"value\":{\"start\":125.881,\"end\":128.783,\"channel\":0,\"text\":[\"This one was even more nice.\"]},\"from_name\":\"transcription\",\"to_name\":\"audio\",\"type\":\"textarea\"}],\"created_username\":\"Whisper large-v2@whisper.fake, 2\",\"created_ago\":\"0 minutes\",\"completed_by\":2,\"was_cancelled\":false,\"ground_truth\":false,\"created_at\":\"2024-09-20T11:14:19.738760Z\",\"updated_at\":\"2024-09-20T11:14:27.558621Z\",\"draft_created_at\":null,\"lead_time\":1.758,\"import_id\":null,\"last_action\":null,\"task\":1,\"project\":1,\"updated_by\":1,\"parent_prediction\":null,\"parent_annotation\":null,\"last_created_by\":null}\n",
      "{\"id\":80,\"result\":[{\"value\":{\"start\":129.063,\"end\":129.964,\"channel\":0,\"labels\":[\"Speech\"]},\"from_name\":\"labels\",\"to_name\":\"audio\",\"type\":\"labels\"},{\"value\":{\"start\":129.063,\"end\":129.964,\"channel\":0,\"text\":[\"It was even nicer.\"]},\"from_name\":\"transcription\",\"to_name\":\"audio\",\"type\":\"textarea\"}],\"created_username\":\"Whisper large-v2@whisper.fake, 2\",\"created_ago\":\"0 minutes\",\"completed_by\":2,\"was_cancelled\":false,\"ground_truth\":false,\"created_at\":\"2024-09-20T11:14:19.738760Z\",\"updated_at\":\"2024-09-20T11:14:27.659655Z\",\"draft_created_at\":null,\"lead_time\":1.758,\"import_id\":null,\"last_action\":null,\"task\":1,\"project\":1,\"updated_by\":1,\"parent_prediction\":null,\"parent_annotation\":null,\"last_created_by\":null}\n",
      "{\"id\":80,\"result\":[{\"value\":{\"start\":130.384,\"end\":130.705,\"channel\":0,\"labels\":[\"Speech\"]},\"from_name\":\"labels\",\"to_name\":\"audio\",\"type\":\"labels\"},{\"value\":{\"start\":130.384,\"end\":130.705,\"channel\":0,\"text\":[\"Yours.\"]},\"from_name\":\"transcription\",\"to_name\":\"audio\",\"type\":\"textarea\"}],\"created_username\":\"Whisper large-v2@whisper.fake, 2\",\"created_ago\":\"0 minutes\",\"completed_by\":2,\"was_cancelled\":false,\"ground_truth\":false,\"created_at\":\"2024-09-20T11:14:19.738760Z\",\"updated_at\":\"2024-09-20T11:14:27.757421Z\",\"draft_created_at\":null,\"lead_time\":1.758,\"import_id\":null,\"last_action\":null,\"task\":1,\"project\":1,\"updated_by\":1,\"parent_prediction\":null,\"parent_annotation\":null,\"last_created_by\":null}\n",
      "{\"id\":80,\"result\":[{\"value\":{\"start\":135.088,\"end\":138.11,\"channel\":0,\"labels\":[\"Speech\"]},\"from_name\":\"labels\",\"to_name\":\"audio\",\"type\":\"labels\"},{\"value\":{\"start\":135.088,\"end\":138.11,\"channel\":0,\"text\":[\"Yeah, it seems very comfortable.\"]},\"from_name\":\"transcription\",\"to_name\":\"audio\",\"type\":\"textarea\"}],\"created_username\":\"Whisper large-v2@whisper.fake, 2\",\"created_ago\":\"0 minutes\",\"completed_by\":2,\"was_cancelled\":false,\"ground_truth\":false,\"created_at\":\"2024-09-20T11:14:19.738760Z\",\"updated_at\":\"2024-09-20T11:14:27.866387Z\",\"draft_created_at\":null,\"lead_time\":1.758,\"import_id\":null,\"last_action\":null,\"task\":1,\"project\":1,\"updated_by\":1,\"parent_prediction\":null,\"parent_annotation\":null,\"last_created_by\":null}\n",
      "{\"id\":80,\"result\":[{\"value\":{\"start\":138.891,\"end\":139.851,\"channel\":0,\"labels\":[\"Speech\"]},\"from_name\":\"labels\",\"to_name\":\"audio\",\"type\":\"labels\"},{\"value\":{\"start\":138.891,\"end\":139.851,\"channel\":0,\"text\":[\"Is it like flexible?\"]},\"from_name\":\"transcription\",\"to_name\":\"audio\",\"type\":\"textarea\"}],\"created_username\":\"Whisper large-v2@whisper.fake, 2\",\"created_ago\":\"0 minutes\",\"completed_by\":2,\"was_cancelled\":false,\"ground_truth\":false,\"created_at\":\"2024-09-20T11:14:19.738760Z\",\"updated_at\":\"2024-09-20T11:14:27.980264Z\",\"draft_created_at\":null,\"lead_time\":1.758,\"import_id\":null,\"last_action\":null,\"task\":1,\"project\":1,\"updated_by\":1,\"parent_prediction\":null,\"parent_annotation\":null,\"last_created_by\":null}\n",
      "{\"id\":80,\"result\":[{\"value\":{\"start\":140.412,\"end\":141.333,\"channel\":0,\"labels\":[\"Speech\"]},\"from_name\":\"labels\",\"to_name\":\"audio\",\"type\":\"labels\"},{\"value\":{\"start\":140.412,\"end\":141.333,\"channel\":0,\"text\":[\"Yes, it is.\"]},\"from_name\":\"transcription\",\"to_name\":\"audio\",\"type\":\"textarea\"}],\"created_username\":\"Whisper large-v2@whisper.fake, 2\",\"created_ago\":\"0 minutes\",\"completed_by\":2,\"was_cancelled\":false,\"ground_truth\":false,\"created_at\":\"2024-09-20T11:14:19.738760Z\",\"updated_at\":\"2024-09-20T11:14:28.087358Z\",\"draft_created_at\":null,\"lead_time\":1.758,\"import_id\":null,\"last_action\":null,\"task\":1,\"project\":1,\"updated_by\":1,\"parent_prediction\":null,\"parent_annotation\":null,\"last_created_by\":null}\n",
      "{\"id\":80,\"result\":[{\"value\":{\"start\":141.353,\"end\":141.733,\"channel\":0,\"labels\":[\"Speech\"]},\"from_name\":\"labels\",\"to_name\":\"audio\",\"type\":\"labels\"},{\"value\":{\"start\":141.353,\"end\":141.733,\"channel\":0,\"text\":[\"Okay.\"]},\"from_name\":\"transcription\",\"to_name\":\"audio\",\"type\":\"textarea\"}],\"created_username\":\"Whisper large-v2@whisper.fake, 2\",\"created_ago\":\"0 minutes\",\"completed_by\":2,\"was_cancelled\":false,\"ground_truth\":false,\"created_at\":\"2024-09-20T11:14:19.738760Z\",\"updated_at\":\"2024-09-20T11:14:28.190667Z\",\"draft_created_at\":null,\"lead_time\":1.758,\"import_id\":null,\"last_action\":null,\"task\":1,\"project\":1,\"updated_by\":1,\"parent_prediction\":null,\"parent_annotation\":null,\"last_created_by\":null}\n",
      "{\"id\":80,\"result\":[{\"value\":{\"start\":142.734,\"end\":147.998,\"channel\":0,\"labels\":[\"Speech\"]},\"from_name\":\"labels\",\"to_name\":\"audio\",\"type\":\"labels\"},{\"value\":{\"start\":142.734,\"end\":147.998,\"channel\":0,\"text\":[\"Yeah, this black color is really... I like the style.\"]},\"from_name\":\"transcription\",\"to_name\":\"audio\",\"type\":\"textarea\"}],\"created_username\":\"Whisper large-v2@whisper.fake, 2\",\"created_ago\":\"0 minutes\",\"completed_by\":2,\"was_cancelled\":false,\"ground_truth\":false,\"created_at\":\"2024-09-20T11:14:19.738760Z\",\"updated_at\":\"2024-09-20T11:14:28.297857Z\",\"draft_created_at\":null,\"lead_time\":1.758,\"import_id\":null,\"last_action\":null,\"task\":1,\"project\":1,\"updated_by\":1,\"parent_prediction\":null,\"parent_annotation\":null,\"last_created_by\":null}\n",
      "{\"id\":80,\"result\":[{\"value\":{\"start\":148.498,\"end\":149.319,\"channel\":0,\"labels\":[\"Speech\"]},\"from_name\":\"labels\",\"to_name\":\"audio\",\"type\":\"labels\"},{\"value\":{\"start\":148.498,\"end\":149.319,\"channel\":0,\"text\":[\"Where did you buy that?\"]},\"from_name\":\"transcription\",\"to_name\":\"audio\",\"type\":\"textarea\"}],\"created_username\":\"Whisper large-v2@whisper.fake, 2\",\"created_ago\":\"0 minutes\",\"completed_by\":2,\"was_cancelled\":false,\"ground_truth\":false,\"created_at\":\"2024-09-20T11:14:19.738760Z\",\"updated_at\":\"2024-09-20T11:14:28.464041Z\",\"draft_created_at\":null,\"lead_time\":1.758,\"import_id\":null,\"last_action\":null,\"task\":1,\"project\":1,\"updated_by\":1,\"parent_prediction\":null,\"parent_annotation\":null,\"last_created_by\":null}\n",
      "{\"id\":80,\"result\":[{\"value\":{\"start\":150.78,\"end\":151.16,\"channel\":0,\"labels\":[\"Speech\"]},\"from_name\":\"labels\",\"to_name\":\"audio\",\"type\":\"labels\"},{\"value\":{\"start\":150.78,\"end\":151.16,\"channel\":0,\"text\":[\"In Ikea.\"]},\"from_name\":\"transcription\",\"to_name\":\"audio\",\"type\":\"textarea\"}],\"created_username\":\"Whisper large-v2@whisper.fake, 2\",\"created_ago\":\"0 minutes\",\"completed_by\":2,\"was_cancelled\":false,\"ground_truth\":false,\"created_at\":\"2024-09-20T11:14:19.738760Z\",\"updated_at\":\"2024-09-20T11:14:28.550513Z\",\"draft_created_at\":null,\"lead_time\":1.758,\"import_id\":null,\"last_action\":null,\"task\":1,\"project\":1,\"updated_by\":1,\"parent_prediction\":null,\"parent_annotation\":null,\"last_created_by\":null}\n",
      "{\"id\":80,\"result\":[{\"value\":{\"start\":152.978,\"end\":154.219,\"channel\":0,\"labels\":[\"Speech\"]},\"from_name\":\"labels\",\"to_name\":\"audio\",\"type\":\"labels\"},{\"value\":{\"start\":152.978,\"end\":154.219,\"channel\":0,\"text\":[\"Oh yeah, I would love to.\"]},\"from_name\":\"transcription\",\"to_name\":\"audio\",\"type\":\"textarea\"}],\"created_username\":\"Whisper large-v2@whisper.fake, 2\",\"created_ago\":\"0 minutes\",\"completed_by\":2,\"was_cancelled\":false,\"ground_truth\":false,\"created_at\":\"2024-09-20T11:14:19.738760Z\",\"updated_at\":\"2024-09-20T11:14:28.637824Z\",\"draft_created_at\":null,\"lead_time\":1.758,\"import_id\":null,\"last_action\":null,\"task\":1,\"project\":1,\"updated_by\":1,\"parent_prediction\":null,\"parent_annotation\":null,\"last_created_by\":null}\n",
      "{\"id\":80,\"result\":[{\"value\":{\"start\":154.599,\"end\":156.06,\"channel\":0,\"labels\":[\"Speech\"]},\"from_name\":\"labels\",\"to_name\":\"audio\",\"type\":\"labels\"},{\"value\":{\"start\":154.599,\"end\":156.06,\"channel\":0,\"text\":[\"I think I would like to have the same.\"]},\"from_name\":\"transcription\",\"to_name\":\"audio\",\"type\":\"textarea\"}],\"created_username\":\"Whisper large-v2@whisper.fake, 2\",\"created_ago\":\"0 minutes\",\"completed_by\":2,\"was_cancelled\":false,\"ground_truth\":false,\"created_at\":\"2024-09-20T11:14:19.738760Z\",\"updated_at\":\"2024-09-20T11:14:28.725348Z\",\"draft_created_at\":null,\"lead_time\":1.758,\"import_id\":null,\"last_action\":null,\"task\":1,\"project\":1,\"updated_by\":1,\"parent_prediction\":null,\"parent_annotation\":null,\"last_created_by\":null}\n",
      "{\"id\":80,\"result\":[{\"value\":{\"start\":156.1,\"end\":162.863,\"channel\":0,\"labels\":[\"Speech\"]},\"from_name\":\"labels\",\"to_name\":\"audio\",\"type\":\"labels\"},{\"value\":{\"start\":156.1,\"end\":162.863,\"channel\":0,\"text\":[\"It fits very well at the table with the computer and the painting just next to it.\"]},\"from_name\":\"transcription\",\"to_name\":\"audio\",\"type\":\"textarea\"}],\"created_username\":\"Whisper large-v2@whisper.fake, 2\",\"created_ago\":\"0 minutes\",\"completed_by\":2,\"was_cancelled\":false,\"ground_truth\":false,\"created_at\":\"2024-09-20T11:14:19.738760Z\",\"updated_at\":\"2024-09-20T11:14:28.826789Z\",\"draft_created_at\":null,\"lead_time\":1.758,\"import_id\":null,\"last_action\":null,\"task\":1,\"project\":1,\"updated_by\":1,\"parent_prediction\":null,\"parent_annotation\":null,\"last_created_by\":null}\n",
      "{\"id\":80,\"result\":[{\"value\":{\"start\":162.883,\"end\":164.063,\"channel\":0,\"labels\":[\"Speech\"]},\"from_name\":\"labels\",\"to_name\":\"audio\",\"type\":\"labels\"},{\"value\":{\"start\":162.883,\"end\":164.063,\"channel\":0,\"text\":[\"Yeah, it fits very well there.\"]},\"from_name\":\"transcription\",\"to_name\":\"audio\",\"type\":\"textarea\"}],\"created_username\":\"Whisper large-v2@whisper.fake, 2\",\"created_ago\":\"0 minutes\",\"completed_by\":2,\"was_cancelled\":false,\"ground_truth\":false,\"created_at\":\"2024-09-20T11:14:19.738760Z\",\"updated_at\":\"2024-09-20T11:14:28.930081Z\",\"draft_created_at\":null,\"lead_time\":1.758,\"import_id\":null,\"last_action\":null,\"task\":1,\"project\":1,\"updated_by\":1,\"parent_prediction\":null,\"parent_annotation\":null,\"last_created_by\":null}\n",
      "{\"id\":80,\"result\":[{\"value\":{\"start\":164.684,\"end\":164.984,\"channel\":0,\"labels\":[\"Speech\"]},\"from_name\":\"labels\",\"to_name\":\"audio\",\"type\":\"labels\"},{\"value\":{\"start\":164.684,\"end\":164.984,\"channel\":0,\"text\":[\"Yeah.\"]},\"from_name\":\"transcription\",\"to_name\":\"audio\",\"type\":\"textarea\"}],\"created_username\":\"Whisper large-v2@whisper.fake, 2\",\"created_ago\":\"0 minutes\",\"completed_by\":2,\"was_cancelled\":false,\"ground_truth\":false,\"created_at\":\"2024-09-20T11:14:19.738760Z\",\"updated_at\":\"2024-09-20T11:14:29.032394Z\",\"draft_created_at\":null,\"lead_time\":1.758,\"import_id\":null,\"last_action\":null,\"task\":1,\"project\":1,\"updated_by\":1,\"parent_prediction\":null,\"parent_annotation\":null,\"last_created_by\":null}\n",
      "{\"id\":80,\"result\":[{\"value\":{\"start\":165.744,\"end\":166.785,\"channel\":0,\"labels\":[\"Speech\"]},\"from_name\":\"labels\",\"to_name\":\"audio\",\"type\":\"labels\"},{\"value\":{\"start\":165.744,\"end\":166.785,\"channel\":0,\"text\":[\"So that would be great.\"]},\"from_name\":\"transcription\",\"to_name\":\"audio\",\"type\":\"textarea\"}],\"created_username\":\"Whisper large-v2@whisper.fake, 2\",\"created_ago\":\"0 minutes\",\"completed_by\":2,\"was_cancelled\":false,\"ground_truth\":false,\"created_at\":\"2024-09-20T11:14:19.738760Z\",\"updated_at\":\"2024-09-20T11:14:29.137852Z\",\"draft_created_at\":null,\"lead_time\":1.758,\"import_id\":null,\"last_action\":null,\"task\":1,\"project\":1,\"updated_by\":1,\"parent_prediction\":null,\"parent_annotation\":null,\"last_created_by\":null}\n",
      "{\"id\":80,\"result\":[{\"value\":{\"start\":168.366,\"end\":169.386,\"channel\":0,\"labels\":[\"Speech\"]},\"from_name\":\"labels\",\"to_name\":\"audio\",\"type\":\"labels\"},{\"value\":{\"start\":168.366,\"end\":169.386,\"channel\":0,\"text\":[\"What else?\"]},\"from_name\":\"transcription\",\"to_name\":\"audio\",\"type\":\"textarea\"}],\"created_username\":\"Whisper large-v2@whisper.fake, 2\",\"created_ago\":\"0 minutes\",\"completed_by\":2,\"was_cancelled\":false,\"ground_truth\":false,\"created_at\":\"2024-09-20T11:14:19.738760Z\",\"updated_at\":\"2024-09-20T11:14:29.243974Z\",\"draft_created_at\":null,\"lead_time\":1.758,\"import_id\":null,\"last_action\":null,\"task\":1,\"project\":1,\"updated_by\":1,\"parent_prediction\":null,\"parent_annotation\":null,\"last_created_by\":null}\n",
      "{\"id\":80,\"result\":[{\"value\":{\"start\":170.186,\"end\":170.607,\"channel\":0,\"labels\":[\"Speech\"]},\"from_name\":\"labels\",\"to_name\":\"audio\",\"type\":\"labels\"},{\"value\":{\"start\":170.186,\"end\":170.607,\"channel\":0,\"text\":[\"What else?\"]},\"from_name\":\"transcription\",\"to_name\":\"audio\",\"type\":\"textarea\"}],\"created_username\":\"Whisper large-v2@whisper.fake, 2\",\"created_ago\":\"0 minutes\",\"completed_by\":2,\"was_cancelled\":false,\"ground_truth\":false,\"created_at\":\"2024-09-20T11:14:19.738760Z\",\"updated_at\":\"2024-09-20T11:14:29.349408Z\",\"draft_created_at\":null,\"lead_time\":1.758,\"import_id\":null,\"last_action\":null,\"task\":1,\"project\":1,\"updated_by\":1,\"parent_prediction\":null,\"parent_annotation\":null,\"last_created_by\":null}\n",
      "{\"id\":80,\"result\":[{\"value\":{\"start\":170.647,\"end\":171.087,\"channel\":0,\"labels\":[\"Speech\"]},\"from_name\":\"labels\",\"to_name\":\"audio\",\"type\":\"labels\"},{\"value\":{\"start\":170.647,\"end\":171.087,\"channel\":0,\"text\":[\"What else?\"]},\"from_name\":\"transcription\",\"to_name\":\"audio\",\"type\":\"textarea\"}],\"created_username\":\"Whisper large-v2@whisper.fake, 2\",\"created_ago\":\"0 minutes\",\"completed_by\":2,\"was_cancelled\":false,\"ground_truth\":false,\"created_at\":\"2024-09-20T11:14:19.738760Z\",\"updated_at\":\"2024-09-20T11:14:29.464890Z\",\"draft_created_at\":null,\"lead_time\":1.758,\"import_id\":null,\"last_action\":null,\"task\":1,\"project\":1,\"updated_by\":1,\"parent_prediction\":null,\"parent_annotation\":null,\"last_created_by\":null}\n",
      "{\"id\":80,\"result\":[{\"value\":{\"start\":173.348,\"end\":173.968,\"channel\":0,\"labels\":[\"Speech\"]},\"from_name\":\"labels\",\"to_name\":\"audio\",\"type\":\"labels\"},{\"value\":{\"start\":173.348,\"end\":173.968,\"channel\":0,\"text\":[\"Yes.\"]},\"from_name\":\"transcription\",\"to_name\":\"audio\",\"type\":\"textarea\"}],\"created_username\":\"Whisper large-v2@whisper.fake, 2\",\"created_ago\":\"0 minutes\",\"completed_by\":2,\"was_cancelled\":false,\"ground_truth\":false,\"created_at\":\"2024-09-20T11:14:19.738760Z\",\"updated_at\":\"2024-09-20T11:14:29.568461Z\",\"draft_created_at\":null,\"lead_time\":1.758,\"import_id\":null,\"last_action\":null,\"task\":1,\"project\":1,\"updated_by\":1,\"parent_prediction\":null,\"parent_annotation\":null,\"last_created_by\":null}\n",
      "{\"id\":80,\"result\":[{\"value\":{\"start\":174.589,\"end\":176.93,\"channel\":0,\"labels\":[\"Speech\"]},\"from_name\":\"labels\",\"to_name\":\"audio\",\"type\":\"labels\"},{\"value\":{\"start\":174.589,\"end\":176.93,\"channel\":0,\"text\":[\"Oh, this pillow.\"]},\"from_name\":\"transcription\",\"to_name\":\"audio\",\"type\":\"textarea\"}],\"created_username\":\"Whisper large-v2@whisper.fake, 2\",\"created_ago\":\"0 minutes\",\"completed_by\":2,\"was_cancelled\":false,\"ground_truth\":false,\"created_at\":\"2024-09-20T11:14:19.738760Z\",\"updated_at\":\"2024-09-20T11:14:29.670325Z\",\"draft_created_at\":null,\"lead_time\":1.758,\"import_id\":null,\"last_action\":null,\"task\":1,\"project\":1,\"updated_by\":1,\"parent_prediction\":null,\"parent_annotation\":null,\"last_created_by\":null}\n",
      "{\"id\":80,\"result\":[{\"value\":{\"start\":179.771,\"end\":181.472,\"channel\":0,\"labels\":[\"Speech\"]},\"from_name\":\"labels\",\"to_name\":\"audio\",\"type\":\"labels\"},{\"value\":{\"start\":179.771,\"end\":181.472,\"channel\":0,\"text\":[\"It's a bit dirty now, isn't it?\"]},\"from_name\":\"transcription\",\"to_name\":\"audio\",\"type\":\"textarea\"}],\"created_username\":\"Whisper large-v2@whisper.fake, 2\",\"created_ago\":\"0 minutes\",\"completed_by\":2,\"was_cancelled\":false,\"ground_truth\":false,\"created_at\":\"2024-09-20T11:14:19.738760Z\",\"updated_at\":\"2024-09-20T11:14:29.760510Z\",\"draft_created_at\":null,\"lead_time\":1.758,\"import_id\":null,\"last_action\":null,\"task\":1,\"project\":1,\"updated_by\":1,\"parent_prediction\":null,\"parent_annotation\":null,\"last_created_by\":null}\n",
      "{\"id\":80,\"result\":[{\"value\":{\"start\":184.648,\"end\":186.649,\"channel\":0,\"labels\":[\"Speech\"]},\"from_name\":\"labels\",\"to_name\":\"audio\",\"type\":\"labels\"},{\"value\":{\"start\":184.648,\"end\":186.649,\"channel\":0,\"text\":[\"The red pillow in the couch.\"]},\"from_name\":\"transcription\",\"to_name\":\"audio\",\"type\":\"textarea\"}],\"created_username\":\"Whisper large-v2@whisper.fake, 2\",\"created_ago\":\"0 minutes\",\"completed_by\":2,\"was_cancelled\":false,\"ground_truth\":false,\"created_at\":\"2024-09-20T11:14:19.738760Z\",\"updated_at\":\"2024-09-20T11:14:29.851526Z\",\"draft_created_at\":null,\"lead_time\":1.758,\"import_id\":null,\"last_action\":null,\"task\":1,\"project\":1,\"updated_by\":1,\"parent_prediction\":null,\"parent_annotation\":null,\"last_created_by\":null}\n",
      "{\"id\":80,\"result\":[{\"value\":{\"start\":191.072,\"end\":203.919,\"channel\":0,\"labels\":[\"Speech\"]},\"from_name\":\"labels\",\"to_name\":\"audio\",\"type\":\"labels\"},{\"value\":{\"start\":191.072,\"end\":203.919,\"channel\":0,\"text\":[\"Okay, I see.\"]},\"from_name\":\"transcription\",\"to_name\":\"audio\",\"type\":\"textarea\"}],\"created_username\":\"Whisper large-v2@whisper.fake, 2\",\"created_ago\":\"0 minutes\",\"completed_by\":2,\"was_cancelled\":false,\"ground_truth\":false,\"created_at\":\"2024-09-20T11:14:19.738760Z\",\"updated_at\":\"2024-09-20T11:14:29.941523Z\",\"draft_created_at\":null,\"lead_time\":1.758,\"import_id\":null,\"last_action\":null,\"task\":1,\"project\":1,\"updated_by\":1,\"parent_prediction\":null,\"parent_annotation\":null,\"last_created_by\":null}\n",
      "{\"id\":80,\"result\":[{\"value\":{\"start\":216.499,\"end\":243.639,\"channel\":0,\"labels\":[\"Speech\"]},\"from_name\":\"labels\",\"to_name\":\"audio\",\"type\":\"labels\"},{\"value\":{\"start\":216.499,\"end\":243.639,\"channel\":0,\"text\":[\"yeah okay so yeah that's really nice that you cleaned some and you tried yeah yeah okay okay I see I see did you it's it seems like did you did you move the carpet like in front of the\"]},\"from_name\":\"transcription\",\"to_name\":\"audio\",\"type\":\"textarea\"}],\"created_username\":\"Whisper large-v2@whisper.fake, 2\",\"created_ago\":\"0 minutes\",\"completed_by\":2,\"was_cancelled\":false,\"ground_truth\":false,\"created_at\":\"2024-09-20T11:14:19.738760Z\",\"updated_at\":\"2024-09-20T11:14:30.038909Z\",\"draft_created_at\":null,\"lead_time\":1.758,\"import_id\":null,\"last_action\":null,\"task\":1,\"project\":1,\"updated_by\":1,\"parent_prediction\":null,\"parent_annotation\":null,\"last_created_by\":null}\n",
      "{\"id\":80,\"result\":[{\"value\":{\"start\":261.28,\"end\":275.407,\"channel\":0,\"labels\":[\"Speech\"]},\"from_name\":\"labels\",\"to_name\":\"audio\",\"type\":\"labels\"},{\"value\":{\"start\":261.28,\"end\":275.407,\"channel\":0,\"text\":[\"Okay, I Understand but I see that the Carpet changed a bit color and I think it's because of the Sun It has come it has changed the color of the carpet.\"]},\"from_name\":\"transcription\",\"to_name\":\"audio\",\"type\":\"textarea\"}],\"created_username\":\"Whisper large-v2@whisper.fake, 2\",\"created_ago\":\"0 minutes\",\"completed_by\":2,\"was_cancelled\":false,\"ground_truth\":false,\"created_at\":\"2024-09-20T11:14:19.738760Z\",\"updated_at\":\"2024-09-20T11:14:30.130934Z\",\"draft_created_at\":null,\"lead_time\":1.758,\"import_id\":null,\"last_action\":null,\"task\":1,\"project\":1,\"updated_by\":1,\"parent_prediction\":null,\"parent_annotation\":null,\"last_created_by\":null}\n",
      "{\"id\":80,\"result\":[{\"value\":{\"start\":276.007,\"end\":276.827,\"channel\":0,\"labels\":[\"Speech\"]},\"from_name\":\"labels\",\"to_name\":\"audio\",\"type\":\"labels\"},{\"value\":{\"start\":276.007,\"end\":276.827,\"channel\":0,\"text\":[\"So do you see there?\"]},\"from_name\":\"transcription\",\"to_name\":\"audio\",\"type\":\"textarea\"}],\"created_username\":\"Whisper large-v2@whisper.fake, 2\",\"created_ago\":\"0 minutes\",\"completed_by\":2,\"was_cancelled\":false,\"ground_truth\":false,\"created_at\":\"2024-09-20T11:14:19.738760Z\",\"updated_at\":\"2024-09-20T11:14:30.216960Z\",\"draft_created_at\":null,\"lead_time\":1.758,\"import_id\":null,\"last_action\":null,\"task\":1,\"project\":1,\"updated_by\":1,\"parent_prediction\":null,\"parent_annotation\":null,\"last_created_by\":null}\n",
      "{\"id\":80,\"result\":[{\"value\":{\"start\":277.288,\"end\":283.27,\"channel\":0,\"labels\":[\"Speech\"]},\"from_name\":\"labels\",\"to_name\":\"audio\",\"type\":\"labels\"},{\"value\":{\"start\":277.288,\"end\":283.27,\"channel\":0,\"text\":[\"It's lighter here in the the sides and darker over there so this is I\"]},\"from_name\":\"transcription\",\"to_name\":\"audio\",\"type\":\"textarea\"}],\"created_username\":\"Whisper large-v2@whisper.fake, 2\",\"created_ago\":\"0 minutes\",\"completed_by\":2,\"was_cancelled\":false,\"ground_truth\":false,\"created_at\":\"2024-09-20T11:14:19.738760Z\",\"updated_at\":\"2024-09-20T11:14:30.310562Z\",\"draft_created_at\":null,\"lead_time\":1.758,\"import_id\":null,\"last_action\":null,\"task\":1,\"project\":1,\"updated_by\":1,\"parent_prediction\":null,\"parent_annotation\":null,\"last_created_by\":null}\n",
      "{\"id\":80,\"result\":[{\"value\":{\"start\":293.258,\"end\":301.909,\"channel\":0,\"labels\":[\"Speech\"]},\"from_name\":\"labels\",\"to_name\":\"audio\",\"type\":\"labels\"},{\"value\":{\"start\":293.258,\"end\":301.909,\"channel\":0,\"text\":[\"Yeah, I know you didn't do anything wrong, but still it's not the same color.\"]},\"from_name\":\"transcription\",\"to_name\":\"audio\",\"type\":\"textarea\"}],\"created_username\":\"Whisper large-v2@whisper.fake, 2\",\"created_ago\":\"0 minutes\",\"completed_by\":2,\"was_cancelled\":false,\"ground_truth\":false,\"created_at\":\"2024-09-20T11:14:19.738760Z\",\"updated_at\":\"2024-09-20T11:14:30.407153Z\",\"draft_created_at\":null,\"lead_time\":1.758,\"import_id\":null,\"last_action\":null,\"task\":1,\"project\":1,\"updated_by\":1,\"parent_prediction\":null,\"parent_annotation\":null,\"last_created_by\":null}\n",
      "{\"id\":80,\"result\":[{\"value\":{\"start\":301.989,\"end\":304.993,\"channel\":0,\"labels\":[\"Speech\"]},\"from_name\":\"labels\",\"to_name\":\"audio\",\"type\":\"labels\"},{\"value\":{\"start\":301.989,\"end\":304.993,\"channel\":0,\"text\":[\"I can't, for me, I can't use...\"]},\"from_name\":\"transcription\",\"to_name\":\"audio\",\"type\":\"textarea\"}],\"created_username\":\"Whisper large-v2@whisper.fake, 2\",\"created_ago\":\"0 minutes\",\"completed_by\":2,\"was_cancelled\":false,\"ground_truth\":false,\"created_at\":\"2024-09-20T11:14:19.738760Z\",\"updated_at\":\"2024-09-20T11:14:30.499287Z\",\"draft_created_at\":null,\"lead_time\":1.758,\"import_id\":null,\"last_action\":null,\"task\":1,\"project\":1,\"updated_by\":1,\"parent_prediction\":null,\"parent_annotation\":null,\"last_created_by\":null}\n",
      "{\"id\":80,\"result\":[{\"value\":{\"start\":311.147,\"end\":317.993,\"channel\":0,\"labels\":[\"Speech\"]},\"from_name\":\"labels\",\"to_name\":\"audio\",\"type\":\"labels\"},{\"value\":{\"start\":311.147,\"end\":317.993,\"channel\":0,\"text\":[\"No, no, I mean that now that the carpet was here, you put it over here and the sun changed the color of it.\"]},\"from_name\":\"transcription\",\"to_name\":\"audio\",\"type\":\"textarea\"}],\"created_username\":\"Whisper large-v2@whisper.fake, 2\",\"created_ago\":\"0 minutes\",\"completed_by\":2,\"was_cancelled\":false,\"ground_truth\":false,\"created_at\":\"2024-09-20T11:14:19.738760Z\",\"updated_at\":\"2024-09-20T11:14:30.588531Z\",\"draft_created_at\":null,\"lead_time\":1.758,\"import_id\":null,\"last_action\":null,\"task\":1,\"project\":1,\"updated_by\":1,\"parent_prediction\":null,\"parent_annotation\":null,\"last_created_by\":null}\n",
      "{\"id\":80,\"result\":[{\"value\":{\"start\":318.133,\"end\":327.081,\"channel\":0,\"labels\":[\"Speech\"]},\"from_name\":\"labels\",\"to_name\":\"audio\",\"type\":\"labels\"},{\"value\":{\"start\":318.133,\"end\":327.081,\"channel\":0,\"text\":[\"So now we will be, I can't use this carpet for my new, the new persons that are renting.\"]},\"from_name\":\"transcription\",\"to_name\":\"audio\",\"type\":\"textarea\"}],\"created_username\":\"Whisper large-v2@whisper.fake, 2\",\"created_ago\":\"0 minutes\",\"completed_by\":2,\"was_cancelled\":false,\"ground_truth\":false,\"created_at\":\"2024-09-20T11:14:19.738760Z\",\"updated_at\":\"2024-09-20T11:14:30.675292Z\",\"draft_created_at\":null,\"lead_time\":1.758,\"import_id\":null,\"last_action\":null,\"task\":1,\"project\":1,\"updated_by\":1,\"parent_prediction\":null,\"parent_annotation\":null,\"last_created_by\":null}\n",
      "{\"id\":80,\"result\":[{\"value\":{\"start\":330.464,\"end\":330.884,\"channel\":0,\"labels\":[\"Speech\"]},\"from_name\":\"labels\",\"to_name\":\"audio\",\"type\":\"labels\"},{\"value\":{\"start\":330.464,\"end\":330.884,\"channel\":0,\"text\":[\"Yeah.\"]},\"from_name\":\"transcription\",\"to_name\":\"audio\",\"type\":\"textarea\"}],\"created_username\":\"Whisper large-v2@whisper.fake, 2\",\"created_ago\":\"0 minutes\",\"completed_by\":2,\"was_cancelled\":false,\"ground_truth\":false,\"created_at\":\"2024-09-20T11:14:19.738760Z\",\"updated_at\":\"2024-09-20T11:14:30.758577Z\",\"draft_created_at\":null,\"lead_time\":1.758,\"import_id\":null,\"last_action\":null,\"task\":1,\"project\":1,\"updated_by\":1,\"parent_prediction\":null,\"parent_annotation\":null,\"last_created_by\":null}\n",
      "{\"id\":80,\"result\":[{\"value\":{\"start\":332.686,\"end\":332.766,\"channel\":0,\"labels\":[\"Speech\"]},\"from_name\":\"labels\",\"to_name\":\"audio\",\"type\":\"labels\"},{\"value\":{\"start\":332.686,\"end\":332.766,\"channel\":0,\"text\":[\"Uh,\"]},\"from_name\":\"transcription\",\"to_name\":\"audio\",\"type\":\"textarea\"}],\"created_username\":\"Whisper large-v2@whisper.fake, 2\",\"created_ago\":\"0 minutes\",\"completed_by\":2,\"was_cancelled\":false,\"ground_truth\":false,\"created_at\":\"2024-09-20T11:14:19.738760Z\",\"updated_at\":\"2024-09-20T11:14:30.846179Z\",\"draft_created_at\":null,\"lead_time\":1.758,\"import_id\":null,\"last_action\":null,\"task\":1,\"project\":1,\"updated_by\":1,\"parent_prediction\":null,\"parent_annotation\":null,\"last_created_by\":null}\n",
      "{\"id\":80,\"result\":[{\"value\":{\"start\":337.731,\"end\":362.274,\"channel\":0,\"labels\":[\"Speech\"]},\"from_name\":\"labels\",\"to_name\":\"audio\",\"type\":\"labels\"},{\"value\":{\"start\":337.731,\"end\":362.274,\"channel\":0,\"text\":[\"clean I don't think cleaning because it was the Sun taking away the color so but for example if you if you leave your your share for example then I can we can I can leave your deposit as it was if you if you agree with that yeah I'm helping you finding solutions\"]},\"from_name\":\"transcription\",\"to_name\":\"audio\",\"type\":\"textarea\"}],\"created_username\":\"Whisper large-v2@whisper.fake, 2\",\"created_ago\":\"0 minutes\",\"completed_by\":2,\"was_cancelled\":false,\"ground_truth\":false,\"created_at\":\"2024-09-20T11:14:19.738760Z\",\"updated_at\":\"2024-09-20T11:14:30.938530Z\",\"draft_created_at\":null,\"lead_time\":1.758,\"import_id\":null,\"last_action\":null,\"task\":1,\"project\":1,\"updated_by\":1,\"parent_prediction\":null,\"parent_annotation\":null,\"last_created_by\":null}\n",
      "{\"id\":80,\"result\":[{\"value\":{\"start\":371.128,\"end\":388.736,\"channel\":0,\"labels\":[\"Speech\"]},\"from_name\":\"labels\",\"to_name\":\"audio\",\"type\":\"labels\"},{\"value\":{\"start\":371.128,\"end\":388.736,\"channel\":0,\"text\":[\"Okay, then I want to see it cleaned for tonight Because the people that are renting are coming tomorrow, so Okay, yeah 12 yeah, yeah, yeah\"]},\"from_name\":\"transcription\",\"to_name\":\"audio\",\"type\":\"textarea\"}],\"created_username\":\"Whisper large-v2@whisper.fake, 2\",\"created_ago\":\"0 minutes\",\"completed_by\":2,\"was_cancelled\":false,\"ground_truth\":false,\"created_at\":\"2024-09-20T11:14:19.738760Z\",\"updated_at\":\"2024-09-20T11:14:31.032123Z\",\"draft_created_at\":null,\"lead_time\":1.758,\"import_id\":null,\"last_action\":null,\"task\":1,\"project\":1,\"updated_by\":1,\"parent_prediction\":null,\"parent_annotation\":null,\"last_created_by\":null}\n",
      "{\"id\":80,\"result\":[{\"value\":{\"start\":391.687,\"end\":391.887,\"channel\":0,\"labels\":[\"Speech\"]},\"from_name\":\"labels\",\"to_name\":\"audio\",\"type\":\"labels\"},{\"value\":{\"start\":391.687,\"end\":391.887,\"channel\":0,\"text\":[\"Yeah.\"]},\"from_name\":\"transcription\",\"to_name\":\"audio\",\"type\":\"textarea\"}],\"created_username\":\"Whisper large-v2@whisper.fake, 2\",\"created_ago\":\"0 minutes\",\"completed_by\":2,\"was_cancelled\":false,\"ground_truth\":false,\"created_at\":\"2024-09-20T11:14:19.738760Z\",\"updated_at\":\"2024-09-20T11:14:31.142143Z\",\"draft_created_at\":null,\"lead_time\":1.758,\"import_id\":null,\"last_action\":null,\"task\":1,\"project\":1,\"updated_by\":1,\"parent_prediction\":null,\"parent_annotation\":null,\"last_created_by\":null}\n",
      "{\"id\":80,\"result\":[{\"value\":{\"start\":392.167,\"end\":402.072,\"channel\":0,\"labels\":[\"Speech\"]},\"from_name\":\"labels\",\"to_name\":\"audio\",\"type\":\"labels\"},{\"value\":{\"start\":392.167,\"end\":402.072,\"channel\":0,\"text\":[\"Otherwise, if it doesn't work, I mean, this is a solution that I give you because otherwise we have to, I can't give you back the whole deposit, you know, for that.\"]},\"from_name\":\"transcription\",\"to_name\":\"audio\",\"type\":\"textarea\"}],\"created_username\":\"Whisper large-v2@whisper.fake, 2\",\"created_ago\":\"0 minutes\",\"completed_by\":2,\"was_cancelled\":false,\"ground_truth\":false,\"created_at\":\"2024-09-20T11:14:19.738760Z\",\"updated_at\":\"2024-09-20T11:14:31.254189Z\",\"draft_created_at\":null,\"lead_time\":1.758,\"import_id\":null,\"last_action\":null,\"task\":1,\"project\":1,\"updated_by\":1,\"parent_prediction\":null,\"parent_annotation\":null,\"last_created_by\":null}\n",
      "{\"id\":80,\"result\":[{\"value\":{\"start\":403.413,\"end\":403.613,\"channel\":0,\"labels\":[\"Speech\"]},\"from_name\":\"labels\",\"to_name\":\"audio\",\"type\":\"labels\"},{\"value\":{\"start\":403.413,\"end\":403.613,\"channel\":0,\"text\":[\"Yes.\"]},\"from_name\":\"transcription\",\"to_name\":\"audio\",\"type\":\"textarea\"}],\"created_username\":\"Whisper large-v2@whisper.fake, 2\",\"created_ago\":\"0 minutes\",\"completed_by\":2,\"was_cancelled\":false,\"ground_truth\":false,\"created_at\":\"2024-09-20T11:14:19.738760Z\",\"updated_at\":\"2024-09-20T11:14:31.347352Z\",\"draft_created_at\":null,\"lead_time\":1.758,\"import_id\":null,\"last_action\":null,\"task\":1,\"project\":1,\"updated_by\":1,\"parent_prediction\":null,\"parent_annotation\":null,\"last_created_by\":null}\n",
      "{\"id\":80,\"result\":[{\"value\":{\"start\":403.713,\"end\":411.456,\"channel\":0,\"labels\":[\"Speech\"]},\"from_name\":\"labels\",\"to_name\":\"audio\",\"type\":\"labels\"},{\"value\":{\"start\":403.713,\"end\":411.456,\"channel\":0,\"text\":[\"I just, yeah, of course.\"]},\"from_name\":\"transcription\",\"to_name\":\"audio\",\"type\":\"textarea\"}],\"created_username\":\"Whisper large-v2@whisper.fake, 2\",\"created_ago\":\"0 minutes\",\"completed_by\":2,\"was_cancelled\":false,\"ground_truth\":false,\"created_at\":\"2024-09-20T11:14:19.738760Z\",\"updated_at\":\"2024-09-20T11:14:31.435435Z\",\"draft_created_at\":null,\"lead_time\":1.758,\"import_id\":null,\"last_action\":null,\"task\":1,\"project\":1,\"updated_by\":1,\"parent_prediction\":null,\"parent_annotation\":null,\"last_created_by\":null}\n",
      "{\"id\":80,\"result\":[{\"value\":{\"start\":412.017,\"end\":412.557,\"channel\":0,\"labels\":[\"Speech\"]},\"from_name\":\"labels\",\"to_name\":\"audio\",\"type\":\"labels\"},{\"value\":{\"start\":412.017,\"end\":412.557,\"channel\":0,\"text\":[\"Let's do that.\"]},\"from_name\":\"transcription\",\"to_name\":\"audio\",\"type\":\"textarea\"}],\"created_username\":\"Whisper large-v2@whisper.fake, 2\",\"created_ago\":\"0 minutes\",\"completed_by\":2,\"was_cancelled\":false,\"ground_truth\":false,\"created_at\":\"2024-09-20T11:14:19.738760Z\",\"updated_at\":\"2024-09-20T11:14:31.532451Z\",\"draft_created_at\":null,\"lead_time\":1.758,\"import_id\":null,\"last_action\":null,\"task\":1,\"project\":1,\"updated_by\":1,\"parent_prediction\":null,\"parent_annotation\":null,\"last_created_by\":null}\n",
      "{\"id\":80,\"result\":[{\"value\":{\"start\":413.878,\"end\":414.378,\"channel\":0,\"labels\":[\"Speech\"]},\"from_name\":\"labels\",\"to_name\":\"audio\",\"type\":\"labels\"},{\"value\":{\"start\":413.878,\"end\":414.378,\"channel\":0,\"text\":[\"Thank you.\"]},\"from_name\":\"transcription\",\"to_name\":\"audio\",\"type\":\"textarea\"}],\"created_username\":\"Whisper large-v2@whisper.fake, 2\",\"created_ago\":\"0 minutes\",\"completed_by\":2,\"was_cancelled\":false,\"ground_truth\":false,\"created_at\":\"2024-09-20T11:14:19.738760Z\",\"updated_at\":\"2024-09-20T11:14:31.629907Z\",\"draft_created_at\":null,\"lead_time\":1.758,\"import_id\":null,\"last_action\":null,\"task\":1,\"project\":1,\"updated_by\":1,\"parent_prediction\":null,\"parent_annotation\":null,\"last_created_by\":null}\n"
     ]
    },
    {
     "ename": "AttributeError",
     "evalue": "'NoneType' object has no attribute 'text'",
     "output_type": "error",
     "traceback": [
      "\u001b[0;31m---------------------------------------------------------------------------\u001b[0m",
      "\u001b[0;31mAttributeError\u001b[0m                            Traceback (most recent call last)",
      "Cell \u001b[0;32mIn[92], line 2\u001b[0m\n\u001b[1;32m      1\u001b[0m r \u001b[38;5;241m=\u001b[39m post_results(\u001b[38;5;241m80\u001b[39m, \u001b[38;5;241m1\u001b[39m, \u001b[38;5;241m1\u001b[39m, data)\n\u001b[0;32m----> 2\u001b[0m \u001b[38;5;28mprint\u001b[39m(\u001b[43mr\u001b[49m\u001b[38;5;241;43m.\u001b[39;49m\u001b[43mtext\u001b[49m)\n",
      "\u001b[0;31mAttributeError\u001b[0m: 'NoneType' object has no attribute 'text'"
     ]
    }
   ],
   "source": [
    "r = post_results(80, 1, 1, data)\n",
    "print(r.text)"
   ]
  },
  {
   "cell_type": "markdown",
   "metadata": {},
   "source": [
    "```bash\n",
    "curl 'http://130.237.3.107:8080/api/tasks/1/annotations?project=1' \\\n",
    "  -H 'Accept: */*' \\\n",
    "  -H 'Accept-Language: en-IE,en-GB;q=0.9,en-US;q=0.8,en;q=0.7,sv;q=0.6' \\\n",
    "  -H 'Connection: keep-alive' \\\n",
    "  -H 'Cookie: _ga=GA1.1.1126904498.1726770084; _gid=GA1.1.93403364.1726770084; csrftoken=JAWCZxAnDQSWZOT9YT9x8wpWt2zZ4wioJut7Z5TWR2xirWWN1mkCyhWqbQ2zOKYU; _ga_Z4KXEBY4VP=GS1.1.1726770083.1.1.1726770105.38.0.0; sessionid=.eJxVj89ugzAMh98l5xI5_zDj2PueATmJgawoqQhIa6e9-2DqpSfL_n36bP-IPUXRC6eYHOq2aT3rxpo4Nj5i12i0ll3UxnsWF7FQ3YalTCmLXh04IihwsjOuU3gRA-3bPOyV1-HfqsTbzFO4cT6D-EV5KjKUvK3JyxORr7TKzxJ5ub7YN8FMdT6PjR8jA2pmrbyh1uAYj4JW29EF7dTYaoqtCwo9UBcAIzJQAIXArjOHtKwT5fSkLZU83G_HN8eiyrWePX_f0_oQvTUaAH7_AEQQWz4:1sraph:nhEL_JTHKWeUGzYSYvY6T1EZ-g2He69XvxryZx86rs4' \\\n",
    "  -H 'DNT: 1' \\\n",
    "  -H 'Origin: http://130.237.3.107:8080' \\\n",
    "  -H 'Referer: http://130.237.3.107:8080/projects/1/data?tab=1&task=1' \\\n",
    "  -H 'User-Agent: Mozilla/5.0 (Macintosh; Intel Mac OS X 10_15_7) AppleWebKit/537.36 (KHTML, like Gecko) Chrome/128.0.0.0 Safari/537.36' \\\n",
    "  -H 'content-type: application/json' \\\n",
    "  --data-raw '{\"lead_time\":47.697,\"result\":[{\"original_length\":416.533333,\"value\":{\"start\":95.91228062500001,\"end\":171.54596477500002,\"channel\":0,\"labels\":[\"Speech\"]},\"id\":\"FTGdc\",\"from_name\":\"labels\",\"to_name\":\"audio\",\"type\":\"labels\",\"origin\":\"manual\"},{\"original_length\":416.533333,\"value\":{\"start\":95.91228062500001,\"end\":171.54596477500002,\"channel\":0,\"text\":[\"blah\"]},\"id\":\"FTGdc\",\"from_name\":\"transcription\",\"to_name\":\"audio\",\"type\":\"textarea\",\"origin\":\"manual\"}],\"draft_id\":5,\"parent_prediction\":null,\"parent_annotation\":null,\"project\":\"1\"}' \\\n",
    "  --insecure\n",
    "  ```"
   ]
  },
  {
   "cell_type": "markdown",
   "metadata": {},
   "source": [
    "```bash\n",
    "curl 'http://130.237.3.107:8080/api/annotations/75?taskID=1&project=1' \\\n",
    "  -X 'PATCH' \\\n",
    "  -H 'Accept: */*' \\\n",
    "  -H 'Accept-Language: en-IE,en-GB;q=0.9,en-US;q=0.8,en;q=0.7,sv;q=0.6' \\\n",
    "  -H 'Connection: keep-alive' \\\n",
    "  -H 'Cookie: _ga=GA1.1.1126904498.1726770084; _gid=GA1.1.93403364.1726770084; csrftoken=JAWCZxAnDQSWZOT9YT9x8wpWt2zZ4wioJut7Z5TWR2xirWWN1mkCyhWqbQ2zOKYU; _ga_Z4KXEBY4VP=GS1.1.1726770083.1.1.1726770105.38.0.0; sessionid=.eJxVj89ugzAMh98l5xI5_zDj2PueATmJgawoqQhIa6e9-2DqpSfL_n36bP-IPUXRC6eYHOq2aT3rxpo4Nj5i12i0ll3UxnsWF7FQ3YalTCmLXh04IihwsjOuU3gRA-3bPOyV1-HfqsTbzFO4cT6D-EV5KjKUvK3JyxORr7TKzxJ5ub7YN8FMdT6PjR8jA2pmrbyh1uAYj4JW29EF7dTYaoqtCwo9UBcAIzJQAIXArjOHtKwT5fSkLZU83G_HN8eiyrWePX_f0_oQvTUaAH7_AEQQWz4:1srapj:F8VGgSAO2IxWQ5urkK4N0WdNRHXNwyrRA7nO_2bum6Y' \\\n",
    "  -H 'DNT: 1' \\\n",
    "  -H 'Origin: http://130.237.3.107:8080' \\\n",
    "  -H 'Referer: http://130.237.3.107:8080/projects/1/data?tab=1&task=1' \\\n",
    "  -H 'User-Agent: Mozilla/5.0 (Macintosh; Intel Mac OS X 10_15_7) AppleWebKit/537.36 (KHTML, like Gecko) Chrome/128.0.0.0 Safari/537.36' \\\n",
    "  -H 'content-type: application/json' \\\n",
    "  --data-raw '{\"lead_time\":345.69,\"result\":[{\"original_length\":416.533333,\"value\":{\"start\":95.91228062500001,\"end\":171.54596477500002,\"channel\":0,\"labels\":[\"Speech\"]},\"id\":\"FTGdc\",\"from_name\":\"labels\",\"to_name\":\"audio\",\"type\":\"labels\",\"origin\":\"manual\"},{\"original_length\":416.533333,\"value\":{\"start\":95.91228062500001,\"end\":171.54596477500002,\"channel\":0,\"text\":[\"blah\"]},\"id\":\"FTGdc\",\"from_name\":\"transcription\",\"to_name\":\"audio\",\"type\":\"textarea\",\"origin\":\"manual\"}],\"draft_id\":0,\"parent_prediction\":null,\"parent_annotation\":null,\"project\":\"1\"}' \\\n",
    "  --insecure\n",
    "  ```\n"
   ]
  }
 ],
 "metadata": {
  "kernelspec": {
   "display_name": "nst-tts",
   "language": "python",
   "name": "python3"
  },
  "language_info": {
   "codemirror_mode": {
    "name": "ipython",
    "version": 3
   },
   "file_extension": ".py",
   "mimetype": "text/x-python",
   "name": "python",
   "nbconvert_exporter": "python",
   "pygments_lexer": "ipython3",
   "version": "3.10.9"
  }
 },
 "nbformat": 4,
 "nbformat_minor": 2
}
