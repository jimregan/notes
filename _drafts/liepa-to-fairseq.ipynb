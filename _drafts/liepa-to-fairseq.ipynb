{
 "cells": [
  {
   "cell_type": "code",
   "execution_count": 2,
   "metadata": {},
   "outputs": [],
   "source": [
    "BASE = \"/mnt/cloud/liepa-split2/\"\n",
    "RAW = f\"{BASE}/text.tsv\""
   ]
  },
  {
   "cell_type": "code",
   "execution_count": 7,
   "metadata": {},
   "outputs": [],
   "source": [
    "import soundfile as sf"
   ]
  },
  {
   "cell_type": "code",
   "execution_count": 8,
   "metadata": {},
   "outputs": [],
   "source": [
    "text = {}\n",
    "frames = {}\n",
    "with open(RAW) as inf:\n",
    "    for line in inf.readlines():\n",
    "        if not \"\\t\" in line:\n",
    "            print(line)\n",
    "            pass\n",
    "        parts = line.split(\"\\t\")\n",
    "        if len(parts) != 2:\n",
    "            print(line)\n",
    "            pass\n",
    "        id = parts[0]\n",
    "        text[id] = parts[1]\n",
    "        data, sr = sf.read(f\"{BASE}/{id}.wav\")\n",
    "        if sr != 16000:\n",
    "            print(line)\n",
    "            pass\n",
    "        frames[id] = len(data)"
   ]
  },
  {
   "cell_type": "code",
   "execution_count": 9,
   "metadata": {},
   "outputs": [],
   "source": [
    "import re\n",
    "def cleantext(text):\n",
    "    ALPHA = \"aąbcčdeęėfghiįyjklmnoprsštuųūvzžqx\"\n",
    "    text = text.lower().replace(\"-\", \" \")\n",
    "    chars = []\n",
    "    for ch in text:\n",
    "        if ch in ALPHA or ch == \" \":\n",
    "            chars.append(ch)\n",
    "    text = \"\".join(chars)\n",
    "    text = re.sub(\"  *\", \" \", text)\n",
    "    return text.strip()"
   ]
  },
  {
   "cell_type": "code",
   "execution_count": 10,
   "metadata": {},
   "outputs": [],
   "source": [
    "with open(f\"{BASE}/frames-normtext.tsv\", \"w\") as outf:\n",
    "    for id in text.keys():\n",
    "        norm = cleantext(text[id])\n",
    "        outf.write(f\"{id}\\t{frames[id]}\\t{norm}\\n\")"
   ]
  },
  {
   "cell_type": "code",
   "execution_count": 11,
   "metadata": {},
   "outputs": [],
   "source": [
    "import IPython\n",
    "def playwav(id):\n",
    "    return IPython.display.Audio(f\"{BASE}/{id}.wav\")"
   ]
  },
  {
   "cell_type": "markdown",
   "metadata": {},
   "source": [
    "Makes splits; only want 100 hours of train"
   ]
  },
  {
   "cell_type": "code",
   "execution_count": 8,
   "metadata": {},
   "outputs": [],
   "source": [
    "TRAIN = 16000 * 60 * 60 * 100\n",
    "TEST = 16000 * 60 * 60 * 5\n",
    "VALID = 16000 * 60 * 60 * 5"
   ]
  },
  {
   "cell_type": "markdown",
   "metadata": {},
   "source": [
    "Not entirely sure about the speaker IDs; worst case scenario, there are 10: F1-5, and M1-5."
   ]
  },
  {
   "cell_type": "code",
   "execution_count": 9,
   "metadata": {},
   "outputs": [],
   "source": [
    "BASE = \"/tmp/outp\"\n",
    "OBASE = \"/mnt/cloud/liepa-split2/\"\n",
    "with open(f\"{BASE}/train.tsv\", \"w\") as traintsv,\\\n",
    "     open(f\"{BASE}/train.ltr\", \"w\") as trainltr,\\\n",
    "     open(f\"{BASE}/valid.tsv\", \"w\") as validtsv,\\\n",
    "     open(f\"{BASE}/valid.ltr\", \"w\") as validltr,\\\n",
    "     open(f\"{BASE}/test.tsv\", \"w\") as testtsv,\\\n",
    "     open(f\"{BASE}/test.ltr\", \"w\") as testltr,\\\n",
    "     open(f\"{OBASE}/frames-normtext.tsv\") as inf:\n",
    "        for line in inf.readlines():\n",
    "            parts = line.strip().split(\"\\t\")\n",
    "            if len(parts) != 3:\n",
    "                print(line)\n",
    "                continue\n",
    "            id = parts[0]\n",
    "            frames = int(parts[1])\n",
    "            text = parts[2]\n",
    "            if \"_M4_\" in id: \n",
    "                if (TEST - frames > 0):\n",
    "                    testtsv.write(f\"{id}\\t{frames}\\n\")\n",
    "                    testltr.write(f\"{text}\\n\")\n",
    "                    TEST = TEST - frames\n",
    "                else:\n",
    "                    continue\n",
    "            elif \"_M5_\" in id: \n",
    "                if (VALID - frames > 0):\n",
    "                    validtsv.write(f\"{id}\\t{frames}\\n\")\n",
    "                    validltr.write(f\"{text}\\n\")\n",
    "                    VALID = VALID - frames\n",
    "                else:\n",
    "                    continue\n",
    "            else:\n",
    "                if (TRAIN - frames > 0):\n",
    "                    traintsv.write(f\"{id}\\t{frames}\\n\")\n",
    "                    trainltr.write(f\"{text}\\n\")\n",
    "                    TRAIN = TRAIN - frames\n",
    "                else:\n",
    "                    continue"
   ]
  }
 ],
 "metadata": {
  "interpreter": {
   "hash": "31f2aee4e71d21fbe5cf8b01ff0e069b9275f58929596ceb00d14d90e3e16cd6"
  },
  "kernelspec": {
   "display_name": "Python 3.8.9 64-bit",
   "language": "python",
   "name": "python3"
  },
  "language_info": {
   "codemirror_mode": {
    "name": "ipython",
    "version": 3
   },
   "file_extension": ".py",
   "mimetype": "text/x-python",
   "name": "python",
   "nbconvert_exporter": "python",
   "pygments_lexer": "ipython3",
   "version": "3.8.10"
  },
  "orig_nbformat": 4
 },
 "nbformat": 4,
 "nbformat_minor": 2
}
