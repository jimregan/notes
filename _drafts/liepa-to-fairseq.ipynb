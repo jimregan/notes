{
 "cells": [
  {
   "cell_type": "code",
   "execution_count": 6,
   "metadata": {},
   "outputs": [],
   "source": [
    "BASE = \"/mnt/cloud/liepa-split2/\"\n",
    "RAW = f\"{BASE}/text.tsv\""
   ]
  },
  {
   "cell_type": "code",
   "execution_count": 7,
   "metadata": {},
   "outputs": [],
   "source": [
    "import soundfile as sf"
   ]
  },
  {
   "cell_type": "code",
   "execution_count": 8,
   "metadata": {},
   "outputs": [],
   "source": [
    "text = {}\n",
    "frames = {}\n",
    "with open(RAW) as inf:\n",
    "    for line in inf.readlines():\n",
    "        if not \"\\t\" in line:\n",
    "            print(line)\n",
    "            pass\n",
    "        parts = line.split(\"\\t\")\n",
    "        if len(parts) != 2:\n",
    "            print(line)\n",
    "            pass\n",
    "        id = parts[0]\n",
    "        text[id] = parts[1]\n",
    "        data, sr = sf.read(f\"{BASE}/{id}.wav\")\n",
    "        if sr != 16000:\n",
    "            print(line)\n",
    "            pass\n",
    "        frames[id] = len(data)"
   ]
  },
  {
   "cell_type": "code",
   "execution_count": 9,
   "metadata": {},
   "outputs": [],
   "source": [
    "import re\n",
    "def cleantext(text):\n",
    "    ALPHA = \"aąbcčdeęėfghiįyjklmnoprsštuųūvzžqx\"\n",
    "    text = text.lower().replace(\"-\", \" \")\n",
    "    chars = []\n",
    "    for ch in text:\n",
    "        if ch in ALPHA or ch == \" \":\n",
    "            chars.append(ch)\n",
    "    text = \"\".join(chars)\n",
    "    text = re.sub(\"  *\", \" \", text)\n",
    "    return text.strip()"
   ]
  },
  {
   "cell_type": "code",
   "execution_count": 10,
   "metadata": {},
   "outputs": [],
   "source": [
    "with open(f\"{BASE}/frames-normtext.tsv\", \"w\") as outf:\n",
    "    for id in text.keys():\n",
    "        norm = cleantext(text[id])\n",
    "        outf.write(f\"{id}\\t{frames[id]}\\t{norm}\\n\")"
   ]
  },
  {
   "cell_type": "code",
   "execution_count": 11,
   "metadata": {},
   "outputs": [],
   "source": [
    "import IPython\n",
    "def playwav(id):\n",
    "    return IPython.display.Audio(f\"{BASE}/{id}.wav\")"
   ]
  },
  {
   "cell_type": "code",
   "execution_count": null,
   "metadata": {},
   "outputs": [],
   "source": [
    "playwav(\"R_RT_M3_VK208_01_a551\")"
   ]
  }
 ],
 "metadata": {
  "interpreter": {
   "hash": "31f2aee4e71d21fbe5cf8b01ff0e069b9275f58929596ceb00d14d90e3e16cd6"
  },
  "kernelspec": {
   "display_name": "Python 3.8.9 64-bit",
   "language": "python",
   "name": "python3"
  },
  "language_info": {
   "codemirror_mode": {
    "name": "ipython",
    "version": 3
   },
   "file_extension": ".py",
   "mimetype": "text/x-python",
   "name": "python",
   "nbconvert_exporter": "python",
   "pygments_lexer": "ipython3",
   "version": "3.8.10"
  },
  "orig_nbformat": 4
 },
 "nbformat": 4,
 "nbformat_minor": 2
}
