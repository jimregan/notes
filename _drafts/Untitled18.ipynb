{
  "nbformat": 4,
  "nbformat_minor": 0,
  "metadata": {
    "colab": {
      "name": "Untitled18.ipynb",
      "provenance": []
    },
    "kernelspec": {
      "name": "python3",
      "display_name": "Python 3"
    },
    "language_info": {
      "name": "python"
    }
  },
  "cells": [
    {
      "cell_type": "code",
      "execution_count": 2,
      "metadata": {
        "id": "_LZO41PoaeMw"
      },
      "outputs": [],
      "source": [
        "%%capture\n",
        "!pip install pyicu"
      ]
    },
    {
      "cell_type": "code",
      "source": [
        "import icu\n",
        "def transliterator_from_rules(name, rules):\n",
        "    fromrules = icu.Transliterator.createFromRules(name, rules)\n",
        "    icu.Transliterator.registerInstance(fromrules)\n",
        "    return icu.Transliterator.createInstance(name)"
      ],
      "metadata": {
        "id": "uTAGhqwRaz6w"
      },
      "execution_count": 3,
      "outputs": []
    },
    {
      "cell_type": "code",
      "source": [
        "TRANSLIT = \"\"\"\n",
        "n\\` → ɳ ;\n",
        "s\\` → ʂ ;\n",
        "l\\` → ɭ ;\n",
        "t\\` → ʈ ;\n",
        "d\\` → ɖ ;\n",
        "A → ɑ ;\n",
        "O → ɔ ;\n",
        "I → ɪ ;\n",
        "E → ɛ ;\n",
        "U → ʊ ;\n",
        "Y → ʏ ;\n",
        "9 → œ ;\n",
        "N → ŋ ;\n",
        "#'\"\"' → ˈ ;\n",
        "'\"\"' → ² ;\n",
        "'\"' → ˈ ;\n",
        "\\% → ˌ ;\n",
        "\\: → ː ;\n",
        "\\$ → \\. ;\n",
        "g → ɡ ;\n",
        "s \\\\\\' → ɕ ;\n",
        "x \\\\\\\\ → ɧ ;\n",
        "\"\"\""
      ],
      "metadata": {
        "id": "OEws-lZiaxV5"
      },
      "execution_count": 40,
      "outputs": []
    },
    {
      "cell_type": "code",
      "source": [
        "swelex_trans = transliterator_from_rules('swelex', TRANSLIT.strip())"
      ],
      "metadata": {
        "id": "z3lcCQsLa3EC"
      },
      "execution_count": 41,
      "outputs": []
    },
    {
      "cell_type": "code",
      "source": [
        "assert swelex_trans.transliterate('\"\"bA:n`s`$%ma$man') == \"²bɑːɳʂ.ˌma.man\"\n",
        "assert swelex_trans.transliterate('\"b9r$mIN$ham') == \"ˈbœr.mɪŋ.ham\"\n",
        "assert swelex_trans.transliterate('\"bI$rU') == \"ˈbɪ.rʊ\"\n",
        "assert swelex_trans.transliterate('\"\"bIsp$%go:$d`en') == \"²bɪsp.ˌɡoː.ɖen\"\n",
        "assert swelex_trans.transliterate('\"x\\A:l') == \"ˈɧɑːl\"\n",
        "assert swelex_trans.transliterate(\"\\\"s'u:$lens\") == \"ˈɕuː.lens\""
      ],
      "metadata": {
        "id": "PpqWzcykc0K_"
      },
      "execution_count": 42,
      "outputs": []
    }
  ]
}