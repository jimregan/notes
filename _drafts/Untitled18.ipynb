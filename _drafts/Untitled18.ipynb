{
  "nbformat": 4,
  "nbformat_minor": 0,
  "metadata": {
    "colab": {
      "name": "Untitled18.ipynb",
      "provenance": []
    },
    "kernelspec": {
      "name": "python3",
      "display_name": "Python 3"
    },
    "language_info": {
      "name": "python"
    }
  },
  "cells": [
    {
      "cell_type": "code",
      "execution_count": 1,
      "metadata": {
        "colab": {
          "base_uri": "https://localhost:8080/"
        },
        "id": "_LZO41PoaeMw",
        "outputId": "30129a4a-70a1-43eb-ab2c-973666dde9e1"
      },
      "outputs": [
        {
          "output_type": "stream",
          "name": "stdout",
          "text": [
            "Collecting pyicu\n",
            "  Downloading PyICU-2.8.tar.gz (299 kB)\n",
            "\u001b[?25l\r\u001b[K     |█                               | 10 kB 29.4 MB/s eta 0:00:01\r\u001b[K     |██▏                             | 20 kB 25.3 MB/s eta 0:00:01\r\u001b[K     |███▎                            | 30 kB 17.6 MB/s eta 0:00:01\r\u001b[K     |████▍                           | 40 kB 15.0 MB/s eta 0:00:01\r\u001b[K     |█████▌                          | 51 kB 8.5 MB/s eta 0:00:01\r\u001b[K     |██████▋                         | 61 kB 9.0 MB/s eta 0:00:01\r\u001b[K     |███████▋                        | 71 kB 9.1 MB/s eta 0:00:01\r\u001b[K     |████████▊                       | 81 kB 10.0 MB/s eta 0:00:01\r\u001b[K     |█████████▉                      | 92 kB 9.9 MB/s eta 0:00:01\r\u001b[K     |███████████                     | 102 kB 8.1 MB/s eta 0:00:01\r\u001b[K     |████████████                    | 112 kB 8.1 MB/s eta 0:00:01\r\u001b[K     |█████████████▏                  | 122 kB 8.1 MB/s eta 0:00:01\r\u001b[K     |██████████████▎                 | 133 kB 8.1 MB/s eta 0:00:01\r\u001b[K     |███████████████▎                | 143 kB 8.1 MB/s eta 0:00:01\r\u001b[K     |████████████████▍               | 153 kB 8.1 MB/s eta 0:00:01\r\u001b[K     |█████████████████▌              | 163 kB 8.1 MB/s eta 0:00:01\r\u001b[K     |██████████████████▋             | 174 kB 8.1 MB/s eta 0:00:01\r\u001b[K     |███████████████████▊            | 184 kB 8.1 MB/s eta 0:00:01\r\u001b[K     |████████████████████▉           | 194 kB 8.1 MB/s eta 0:00:01\r\u001b[K     |██████████████████████          | 204 kB 8.1 MB/s eta 0:00:01\r\u001b[K     |███████████████████████         | 215 kB 8.1 MB/s eta 0:00:01\r\u001b[K     |████████████████████████        | 225 kB 8.1 MB/s eta 0:00:01\r\u001b[K     |█████████████████████████▏      | 235 kB 8.1 MB/s eta 0:00:01\r\u001b[K     |██████████████████████████▎     | 245 kB 8.1 MB/s eta 0:00:01\r\u001b[K     |███████████████████████████▍    | 256 kB 8.1 MB/s eta 0:00:01\r\u001b[K     |████████████████████████████▌   | 266 kB 8.1 MB/s eta 0:00:01\r\u001b[K     |█████████████████████████████▋  | 276 kB 8.1 MB/s eta 0:00:01\r\u001b[K     |██████████████████████████████▋ | 286 kB 8.1 MB/s eta 0:00:01\r\u001b[K     |███████████████████████████████▊| 296 kB 8.1 MB/s eta 0:00:01\r\u001b[K     |████████████████████████████████| 299 kB 8.1 MB/s \n",
            "\u001b[?25h  Installing build dependencies ... \u001b[?25l\u001b[?25hdone\n",
            "  Getting requirements to build wheel ... \u001b[?25l\u001b[?25hdone\n",
            "    Preparing wheel metadata ... \u001b[?25l\u001b[?25hdone\n",
            "Building wheels for collected packages: pyicu\n",
            "  Building wheel for pyicu (PEP 517) ... \u001b[?25l\u001b[?25hdone\n",
            "  Created wheel for pyicu: filename=PyICU-2.8-cp37-cp37m-linux_x86_64.whl size=1376604 sha256=a34cd422e48b9127d39470ff2f08c6ea3d3f0c9ff30c30d675761bb51a121fc9\n",
            "  Stored in directory: /root/.cache/pip/wheels/14/bd/45/aeddc643bd0637c14fa27bffaee5b411cdc323f8bec76ad15e\n",
            "Successfully built pyicu\n",
            "Installing collected packages: pyicu\n",
            "Successfully installed pyicu-2.8\n"
          ]
        }
      ],
      "source": [
        "!pip install pyicu"
      ]
    },
    {
      "cell_type": "code",
      "source": [
        "import icu\n",
        "def transliterator_from_rules(name, rules):\n",
        "    fromrules = icu.Transliterator.createFromRules(name, rules)\n",
        "    icu.Transliterator.registerInstance(fromrules)\n",
        "    return icu.Transliterator.createInstance(name)"
      ],
      "metadata": {
        "id": "uTAGhqwRaz6w"
      },
      "execution_count": 3,
      "outputs": []
    },
    {
      "cell_type": "code",
      "source": [
        "TRANSLIT = \"\"\"\n",
        "n\\` → ɳ ;\n",
        "s\\` → ʂ ;\n",
        "l\\` → ɭ ;\n",
        "t\\` → ʈ ;\n",
        "A → ɑ ;\n",
        "O → ɔ ;\n",
        "I → ɪ ;\n",
        "E → ɛ ;\n",
        "U → ʊ ;\n",
        "9 → œ ;\n",
        "N → ŋ ;\n",
        "'\"\"' → ˈ ;\n",
        "'\"' → ˈ ;\n",
        "\\% → ˌ ;\n",
        "\\: → ː ;\n",
        "\\$ → \\. ;\n",
        "\"\"\""
      ],
      "metadata": {
        "id": "OEws-lZiaxV5"
      },
      "execution_count": 60,
      "outputs": []
    },
    {
      "cell_type": "code",
      "source": [
        "swelex_trans = transliterator_from_rules('swelex', TRANSLIT.strip())\n"
      ],
      "metadata": {
        "id": "z3lcCQsLa3EC"
      },
      "execution_count": 61,
      "outputs": []
    },
    {
      "cell_type": "code",
      "source": [
        "assert swelex_trans.transliterate('\"\"bA:n`s`$%ma$man') == \"ˈbɑːɳʂ.ˌma.man\"\n",
        "assert swelex_trans.transliterate('\"b9r$mIN$ham') == \"ˈbœr.mɪŋ.ham\"\n",
        "assert swelex_trans.transliterate('\"bI$rU') == \"ˈbɪ.rʊ\"\n"
      ],
      "metadata": {
        "id": "PpqWzcykc0K_"
      },
      "execution_count": 62,
      "outputs": []
    }
  ]
}