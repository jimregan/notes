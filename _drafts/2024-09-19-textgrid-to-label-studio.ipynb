{
 "cells": [
  {
   "cell_type": "markdown",
   "metadata": {},
   "source": [
    "```json\n",
    "          {\n",
    "            \"original_length\": 237.397333,\n",
    "            \"value\": {\n",
    "              \"start\": 5.973729569200484,\n",
    "              \"end\": 6.61517721867165,\n",
    "              \"channel\": 0,\n",
    "              \"labels\": [\n",
    "                \"Speech\"\n",
    "              ]\n",
    "            },\n",
    "            \"id\": \"XWQB6\",\n",
    "            \"from_name\": \"labels\",\n",
    "            \"to_name\": \"audio\",\n",
    "            \"type\": \"labels\",\n",
    "            \"origin\": \"manual\"\n",
    "          },\n",
    "          {\n",
    "            \"original_length\": 237.397333,\n",
    "            \"value\": {\n",
    "              \"start\": 5.973729569200484,\n",
    "              \"end\": 6.61517721867165,\n",
    "              \"channel\": 0,\n",
    "              \"text\": [\n",
    "                \"Was it lost?\"\n",
    "              ]\n",
    "            },\n",
    "            \"id\": \"XWQB6\",\n",
    "            \"from_name\": \"transcription\",\n",
    "            \"to_name\": \"audio\",\n",
    "            \"type\": \"textarea\",\n",
    "            \"origin\": \"manual\"\n",
    "          },\n",
    "```"
   ]
  },
  {
   "cell_type": "code",
   "execution_count": null,
   "metadata": {},
   "outputs": [],
   "source": []
  },
  {
   "cell_type": "markdown",
   "metadata": {},
   "source": []
  }
 ],
 "metadata": {
  "language_info": {
   "name": "python"
  }
 },
 "nbformat": 4,
 "nbformat_minor": 2
}
