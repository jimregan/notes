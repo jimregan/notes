{
 "cells": [
  {
   "cell_type": "code",
   "execution_count": null,
   "metadata": {},
   "outputs": [],
   "source": [
    "a1 = \"https://statistics-event-api-fe.sr.se/v1/listenduration?audioid=8570876&start=0&stop=10&app=spelare&platform=site\""
   ]
  },
  {
   "cell_type": "code",
   "execution_count": 11,
   "metadata": {},
   "outputs": [],
   "source": [
    "page_url = \"https://sverigesradio.se/artikel/tornionlaaksossa-mitathiin-maapallon-muotoa\"\n",
    "json_url = \"https://sverigesradio.se/playerajax/audio?id=8184676&type=publication&publicationid=8184676&quality=medium\""
   ]
  },
  {
   "cell_type": "code",
   "execution_count": 2,
   "metadata": {},
   "outputs": [],
   "source": [
    "from bs4 import BeautifulSoup\n",
    "import requests"
   ]
  },
  {
   "cell_type": "code",
   "execution_count": 3,
   "metadata": {},
   "outputs": [],
   "source": [
    "json_req = requests.get(json_url)"
   ]
  },
  {
   "cell_type": "code",
   "execution_count": 4,
   "metadata": {},
   "outputs": [
    {
     "data": {
      "text/plain": [
       "200"
      ]
     },
     "execution_count": 4,
     "metadata": {},
     "output_type": "execute_result"
    }
   ],
   "source": [
    "json_req.status_code"
   ]
  },
  {
   "cell_type": "code",
   "execution_count": 5,
   "metadata": {},
   "outputs": [
    {
     "data": {
      "text/plain": [
       "'{\\r\\n  \"audioUrl\": \"https://lyssna-cdn.sr.se/isidor/2022/11/program_struve_webb_20221110_1452531110_a96.m4a?_h_publicationId=8184676\",\\r\\n  \"duration\": 273,\\r\\n  \"codingFormat\": 13,\\r\\n  \"state\": 0,\\r\\n  \"isGeoblockEnabled\": false,\\r\\n  \"metadata\": {\\r\\n    \"id\": 8184676,\\r\\n    \"audioId\": 8570876,\\r\\n    \"audiotype\": \"publication\",\\r\\n    \"channelTheme\": null,\\r\\n    \"statkey\": \"/webbradio/klipp/meänraatio[k(1017)]/meänraatio[p(1017)]/struve webb[l(8570876)]\",\\r\\n    \"items\": [\\r\\n      {\\r\\n        \"duration\": 273,\\r\\n        \"displayDate\": \"Igår kl. 15.27\",\\r\\n        \"channelid\": 1017,\\r\\n        \"title\": \"Meänraatio\",\\r\\n        \"subtitle\": \"Museolehtori: Hauska kertoa ette Tornionlaaksossa mitathiin maapallon muotoa\",\\r\\n        \"statkey\": \"/webbradio/klipp/meänraatio[k(1017)]/meänraatio[p(1017)]/struve webb[l(8570876)]\",\\r\\n        \"shareurl\": \"/share/article/8184676\",\\r\\n        \"isshareable\": true,\\r\\n        \"displayimageurl\": \"https://static-cdn.sr.se/images/1017/21bc8065-104b-4c9f-8ab2-0270a0f1907e.jpg?preset=768x432\",\\r\\n        \"thumbnailimageurl\": \"https://static-cdn.sr.se/images/1017/21bc8065-104b-4c9f-8ab2-0270a0f1907e.jpg?preset=256x144\",\\r\\n        \"description\": \"Tornionlaakson Museossa oon menossa näyttely \\\\\"Sinun mailmanperintösi - Maapallon mittaajien jalanjäljissä\\\\\". Näyttely kertoo astronoomin Struven maapallo-mittauksista 1800-luvula, missä tarkotus oli...\",\\r\\n        \"readmoreurl\": \"/artikel/tornionlaaksossa-mitathiin-maapallon-muotoa\",\\r\\n        \"channelname\": \"meanraatio\",\\r\\n        \"statisticsaudio\": {\\r\\n          \"episodeName\": \"\",\\r\\n          \"clipName\": \"Museolehtori: Hauska kertoa ette Tornionlaaksossa mitathiin maapallon muotoa\",\\r\\n          \"publishDate\": \"2022-11-10\",\\r\\n          \"daysSincePublish\": \"1\",\\r\\n          \"category\": \"News in other languages\"\\r\\n        },\\r\\n        \"programid\": 1017\\r\\n      }\\r\\n    ],\\r\\n    \"delay\": 70,\\r\\n    \"currentSongs\": []\\r\\n  }\\r\\n}'"
      ]
     },
     "execution_count": 5,
     "metadata": {},
     "output_type": "execute_result"
    }
   ],
   "source": [
    "json_req.text"
   ]
  },
  {
   "cell_type": "code",
   "execution_count": 7,
   "metadata": {},
   "outputs": [],
   "source": [
    "import json\n",
    "json_data = json.loads(json_req.text)"
   ]
  },
  {
   "cell_type": "code",
   "execution_count": 9,
   "metadata": {},
   "outputs": [],
   "source": [
    "audio_url = json_data[\"audioUrl\"]"
   ]
  },
  {
   "cell_type": "code",
   "execution_count": 10,
   "metadata": {},
   "outputs": [
    {
     "data": {
      "text/plain": [
       "'https://lyssna-cdn.sr.se/isidor/2022/11/program_struve_webb_20221110_1452531110_a96.m4a?_h_publicationId=8184676'"
      ]
     },
     "execution_count": 10,
     "metadata": {},
     "output_type": "execute_result"
    }
   ],
   "source": [
    "audio_url"
   ]
  },
  {
   "cell_type": "code",
   "execution_count": 12,
   "metadata": {},
   "outputs": [],
   "source": [
    "html_req = requests.get(page_url)"
   ]
  },
  {
   "cell_type": "code",
   "execution_count": 13,
   "metadata": {},
   "outputs": [],
   "source": [
    "soup = BeautifulSoup(html_req.text)"
   ]
  },
  {
   "cell_type": "code",
   "execution_count": 16,
   "metadata": {},
   "outputs": [],
   "source": [
    "for script_tag in soup.find_all(\"script\", {\"id\": \"gtm-metadata\"}):\n",
    "    data = json.loads(script_tag.text)\n",
    "    if \"channelName\" in data and data[\"channelName\"] != \"Meänraatio\":\n",
    "            continue\n",
    "    if \"pageId\" in data:\n",
    "        # return data[\"pageId\"]"
   ]
  },
  {
   "cell_type": "code",
   "execution_count": 17,
   "metadata": {},
   "outputs": [
    {
     "data": {
      "text/plain": [
       "{'channelId': '1017',\n",
       " 'channelName': 'Meänraatio',\n",
       " 'programId': '1017',\n",
       " 'programName': 'Meänraatio',\n",
       " 'pageTitle': 'Museolehtori: Hauska kertoa ette Tornionlaaksossa mitathiin maapallon muotoa - Meänraatio',\n",
       " 'pageId': '8184676',\n",
       " 'pageType': 'artikel',\n",
       " 'programCategory': 'News in other languages'}"
      ]
     },
     "execution_count": 17,
     "metadata": {},
     "output_type": "execute_result"
    }
   ],
   "source": [
    "data"
   ]
  }
 ],
 "metadata": {
  "kernelspec": {
   "display_name": "Python 3.10.4 ('ctcseg')",
   "language": "python",
   "name": "python3"
  },
  "language_info": {
   "codemirror_mode": {
    "name": "ipython",
    "version": 3
   },
   "file_extension": ".py",
   "mimetype": "text/x-python",
   "name": "python",
   "nbconvert_exporter": "python",
   "pygments_lexer": "ipython3",
   "version": "3.10.4"
  },
  "orig_nbformat": 4,
  "vscode": {
   "interpreter": {
    "hash": "04f1aebeda7ca92f6170d2806fa3f3c0cbb14da723fd908a9af630117dfe1004"
   }
  }
 },
 "nbformat": 4,
 "nbformat_minor": 2
}
