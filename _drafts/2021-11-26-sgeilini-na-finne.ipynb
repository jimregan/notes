{
 "cells": [
  {
   "cell_type": "code",
   "execution_count": null,
   "metadata": {},
   "outputs": [],
   "source": [
    "# https://web.archive.org/web/20160711080007/http://www.smo.uhi.ac.uk/~oduibhin/sf/\n",
    "URLS = \"\"\"\n",
    "http://web.archive.org/web/20160720003620/http://www.smo.uhi.ac.uk/~oduibhin/sf/sceal01.html\n",
    "\"\"\""
   ]
  },
  {
   "cell_type": "code",
   "execution_count": 1,
   "metadata": {},
   "outputs": [],
   "source": [
    "MODERN = \"\"\"\n",
    "ruadh\trua\n",
    "ruaidh\truaí\n",
    "chomhnuidhe\tchónaí\n",
    "cheann-tuigheadh\tcheann tuíadh\n",
    "rabh\traibh\n",
    "da\tdá\n",
    "muinteardha\tmuinteartha\n",
    "chroidhe\tchroí\n",
    "saoghal\tsaol\n",
    "éirghe\téirí\n",
    "leath-mheasardha\tleathmheasartha\n",
    "brúighte\tbrúite\n",
    "cráidhte\tcráite\n",
    "báidhte\tbáite\n",
    "\"\"\""
   ]
  },
  {
   "attachments": {},
   "cell_type": "markdown",
   "metadata": {},
   "source": [
    "For the most part, the modernised forms are the standard forms. Others, such as 'ruaí', exist as dialectal forms, while 'ceann tuíadh' does not, but this matches what was spoken."
   ]
  },
  {
   "cell_type": "code",
   "execution_count": null,
   "metadata": {},
   "outputs": [],
   "source": [
    "UNATTESTED = \"\"\"\n",
    "cheann-tuigheadh\n",
    "\"\"\""
   ]
  },
  {
   "cell_type": "code",
   "execution_count": 2,
   "metadata": {},
   "outputs": [],
   "source": [
    "STANDARD = \"\"\"\n",
    "ruaidh\trua\n",
    "caidé\tcad é\n",
    "cheann-tuigheadh\tcheann tuí\n",
    "\"\"\""
   ]
  },
  {
   "cell_type": "code",
   "execution_count": 3,
   "metadata": {},
   "outputs": [],
   "source": [
    "_tmp_mod = [a.split(\"\\t\") for a in MODERN.split(\"\\n\") if \"\\t\" in a]"
   ]
  },
  {
   "cell_type": "code",
   "execution_count": 4,
   "metadata": {},
   "outputs": [],
   "source": [
    "modern = {a[0]: a[1] for a in _tmp_mod}"
   ]
  },
  {
   "cell_type": "code",
   "execution_count": 5,
   "metadata": {},
   "outputs": [
    {
     "data": {
      "text/plain": [
       "{'ruadh': 'rua',\n",
       " 'ruaidh': 'ruaí',\n",
       " 'chomhnuidhe': 'chónaí',\n",
       " 'cheann-tuigheadh': 'cheann tuí',\n",
       " 'rabh': 'raibh',\n",
       " 'da': 'dá',\n",
       " 'muinteardha': 'muinteartha',\n",
       " 'chroidhe': 'chroí',\n",
       " 'saoghal': 'saol',\n",
       " 'éirghe': 'éirí',\n",
       " 'leath-mheasardha': 'leathmheasartha',\n",
       " 'brúighte': 'brúite',\n",
       " 'cráidhte': 'cráite',\n",
       " 'báidhte': 'báite'}"
      ]
     },
     "execution_count": 5,
     "metadata": {},
     "output_type": "execute_result"
    }
   ],
   "source": [
    "modern"
   ]
  }
 ],
 "metadata": {
  "kernelspec": {
   "display_name": "Python 3.10.4 ('ctcseg')",
   "language": "python",
   "name": "python3"
  },
  "language_info": {
   "file_extension": ".py",
   "mimetype": "text/x-python",
   "name": "python",
   "version": "3.10.4"
  },
  "vscode": {
   "interpreter": {
    "hash": "04f1aebeda7ca92f6170d2806fa3f3c0cbb14da723fd908a9af630117dfe1004"
   }
  }
 },
 "nbformat": 4,
 "nbformat_minor": 4
}
