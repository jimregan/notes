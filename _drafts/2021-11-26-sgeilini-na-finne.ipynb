{
 "cells": [
  {
   "cell_type": "markdown",
   "metadata": {},
   "source": [
    "The original site is mirrored [here](http://web.archive.org/web/20160713223546/http://www.smo.uhi.ac.uk/~oduibhin/sf/index.html)"
   ]
  },
  {
   "cell_type": "code",
   "execution_count": null,
   "metadata": {},
   "outputs": [],
   "source": [
    "URLS = \"\"\"\n",
    "http://web.archive.org/web/20160720003620/http://www.smo.uhi.ac.uk/~oduibhin/sf/sceal01.html\n",
    "http://web.archive.org/web/20160612133120/http://www.smo.uhi.ac.uk/~oduibhin/sf/sceal02.html\n",
    "http://web.archive.org/web/20160612133013/http://www.smo.uhi.ac.uk/~oduibhin/sf/sceal03.html\n",
    "http://web.archive.org/web/20160612133127/http://www.smo.uhi.ac.uk/~oduibhin/sf/sceal04.html\n",
    "http://web.archive.org/web/20160612132904/http://www.smo.uhi.ac.uk/~oduibhin/sf/sceal05.html\n",
    "http://web.archive.org/web/20160612133018/http://www.smo.uhi.ac.uk/~oduibhin/sf/sceal06.html\n",
    "http://web.archive.org/web/20160612133132/http://www.smo.uhi.ac.uk/~oduibhin/sf/sceal07.html\n",
    "http://web.archive.org/web/20160612133302/http://www.smo.uhi.ac.uk/~oduibhin/sf/sceal08.html\n",
    "http://web.archive.org/web/20160612132911/http://www.smo.uhi.ac.uk/~oduibhin/sf/sceal09.html\n",
    "http://web.archive.org/web/20160612133023/http://www.smo.uhi.ac.uk/~oduibhin/sf/sceal10.html\n",
    "http://web.archive.org/web/20160612133308/http://www.smo.uhi.ac.uk/~oduibhin/sf/sceal11.html\n",
    "http://web.archive.org/web/20160612133028/http://www.smo.uhi.ac.uk/~oduibhin/sf/sceal12.html\n",
    "http://web.archive.org/web/20160612133137/http://www.smo.uhi.ac.uk/~oduibhin/sf/sceal13.html\n",
    "http://web.archive.org/web/20160612133033/http://www.smo.uhi.ac.uk/~oduibhin/sf/sceal14.html\n",
    "http://web.archive.org/web/20160612133313/http://www.smo.uhi.ac.uk/~oduibhin/sf/sceal15.html\n",
    "http://web.archive.org/web/20160612132916/http://www.smo.uhi.ac.uk/~oduibhin/sf/sceal16.html\n",
    "http://web.archive.org/web/20160612133144/http://www.smo.uhi.ac.uk/~oduibhin/sf/sceal17.html\n",
    "http://web.archive.org/web/20160612133149/http://www.smo.uhi.ac.uk/~oduibhin/sf/sceal18.html\n",
    "http://web.archive.org/web/20160612133154/http://www.smo.uhi.ac.uk/~oduibhin/sf/sceal19.html\n",
    "http://web.archive.org/web/20160612132921/http://www.smo.uhi.ac.uk/~oduibhin/sf/sceal20.html\n",
    "http://web.archive.org/web/20160612133039/http://www.smo.uhi.ac.uk/~oduibhin/sf/sceal21.html\n",
    "http://web.archive.org/web/20160612133159/http://www.smo.uhi.ac.uk/~oduibhin/sf/sceal22.html\n",
    "http://web.archive.org/web/20160612132926/http://www.smo.uhi.ac.uk/~oduibhin/sf/sceal23.html\n",
    "http://web.archive.org/web/20160612133204/http://www.smo.uhi.ac.uk/~oduibhin/sf/sceal24.html\n",
    "http://web.archive.org/web/20160612133044/http://www.smo.uhi.ac.uk/~oduibhin/sf/sceal25.html\n",
    "http://web.archive.org/web/20160612133059/http://www.smo.uhi.ac.uk/~oduibhin/sf/sceal26.html\n",
    "http://web.archive.org/web/20160612132931/http://www.smo.uhi.ac.uk/~oduibhin/sf/sceal27.html\n",
    "http://web.archive.org/web/20160612133318/http://www.smo.uhi.ac.uk/~oduibhin/sf/sceal28.html\n",
    "http://web.archive.org/web/20160612133323/http://www.smo.uhi.ac.uk/~oduibhin/sf/sceal29.html\n",
    "http://web.archive.org/web/20160612132936/http://www.smo.uhi.ac.uk/~oduibhin/sf/sceal30.html\n",
    "http://web.archive.org/web/20160612132941/http://www.smo.uhi.ac.uk/~oduibhin/sf/sceal31.html\n",
    "http://web.archive.org/web/20160612132946/http://www.smo.uhi.ac.uk/~oduibhin/sf/sceal32.html\n",
    "http://web.archive.org/web/20160612133328/http://www.smo.uhi.ac.uk/~oduibhin/sf/sceal33.html\n",
    "http://web.archive.org/web/20160612132951/http://www.smo.uhi.ac.uk/~oduibhin/sf/sceal34.html\n",
    "http://web.archive.org/web/20160612133209/http://www.smo.uhi.ac.uk/~oduibhin/sf/sceal35.html\n",
    "http://web.archive.org/web/20160612133218/http://www.smo.uhi.ac.uk/~oduibhin/sf/sceal36.html\n",
    "http://web.archive.org/web/20160608213843/http://www.smo.uhi.ac.uk/~oduibhin/sf/sceal37.html\n",
    "\"\"\""
   ]
  },
  {
   "cell_type": "code",
   "execution_count": 1,
   "metadata": {},
   "outputs": [],
   "source": [
    "MODERN = \"\"\"\n",
    "ruadh\trua\n",
    "ruaidh\truaí\n",
    "chomhnuidhe\tchónaí\n",
    "cheann-tuigheadh\tcheann tuíadh\n",
    "rabh\traibh\n",
    "da\tdá\n",
    "muinteardha\tmuinteartha\n",
    "chroidhe\tchroí\n",
    "saoghal\tsaol\n",
    "éirghe\téirí\n",
    "leath-mheasardha\tleathmheasartha\n",
    "brúighte\tbrúite\n",
    "cráidhte\tcráite\n",
    "báidhte\tbáite\n",
    "de'n\tden\n",
    "\"\"\""
   ]
  },
  {
   "cell_type": "markdown",
   "metadata": {},
   "source": [
    "For the most part, the modernised forms are the standard forms. Others, such as 'ruaí', exist as dialectal forms, while 'ceann tuíadh' does not, but this matches what was spoken."
   ]
  },
  {
   "cell_type": "code",
   "execution_count": null,
   "metadata": {},
   "outputs": [],
   "source": [
    "UNATTESTED = \"\"\"\n",
    "cheann-tuigheadh\n",
    "\"\"\""
   ]
  },
  {
   "cell_type": "code",
   "execution_count": 2,
   "metadata": {},
   "outputs": [],
   "source": [
    "STANDARD = \"\"\"\n",
    "ruaidh\trua\n",
    "caidé\tcad é\n",
    "cheann-tuigheadh\tcheann tuí\n",
    "\"\"\""
   ]
  },
  {
   "cell_type": "code",
   "execution_count": null,
   "metadata": {},
   "outputs": [],
   "source": [
    "PREPEND_SCEAL = \"02 03\"\n",
    "PREPEND_CEACHT = \"04 05\"\n",
    "PREPEND_UIMHIR = \"06 07 08 09 10 11 12 13 14 15 16 18 23\""
   ]
  },
  {
   "cell_type": "code",
   "execution_count": 3,
   "metadata": {},
   "outputs": [],
   "source": [
    "_tmp_mod = [a.split(\"\\t\") for a in MODERN.split(\"\\n\") if \"\\t\" in a]"
   ]
  },
  {
   "cell_type": "code",
   "execution_count": 4,
   "metadata": {},
   "outputs": [],
   "source": [
    "modern = {a[0]: a[1] for a in _tmp_mod}"
   ]
  },
  {
   "cell_type": "code",
   "execution_count": 7,
   "metadata": {},
   "outputs": [],
   "source": [
    "_END_TB = \"<!-- END WAYBACK TOOLBAR INSERT -->\""
   ]
  },
  {
   "cell_type": "code",
   "execution_count": 1,
   "metadata": {},
   "outputs": [],
   "source": [
    "import requests\n",
    "from bs4 import BeautifulSoup"
   ]
  },
  {
   "cell_type": "code",
   "execution_count": 2,
   "metadata": {},
   "outputs": [],
   "source": [
    "test = \"http://web.archive.org/web/20160612132931/http://www.smo.uhi.ac.uk/~oduibhin/sf/sceal27.html\"\n",
    "req = requests.get(test)"
   ]
  },
  {
   "cell_type": "code",
   "execution_count": 3,
   "metadata": {},
   "outputs": [
    {
     "data": {
      "text/plain": [
       "200"
      ]
     },
     "execution_count": 3,
     "metadata": {},
     "output_type": "execute_result"
    }
   ],
   "source": [
    "req.status_code"
   ]
  },
  {
   "cell_type": "code",
   "execution_count": 10,
   "metadata": {},
   "outputs": [],
   "source": [
    "text = req.text\n",
    "if _END_TB in text:\n",
    "    text = text.split(_END_TB)[1]\n",
    "if \"<hr>\" in text:\n",
    "    text = text.split(\"<hr>\")[0].strip()"
   ]
  },
  {
   "cell_type": "code",
   "execution_count": 11,
   "metadata": {},
   "outputs": [
    {
     "data": {
      "text/plain": [
       "'<font size=\"5\">\\n<p><b>Críonnacht Madaidh.</b>&nbsp;&nbsp;&nbsp;&nbsp;&nbsp;&nbsp;&nbsp;\\n<a href=\"sceal27.mp3\"><img src=\"/web/20160612132931im_/http://www.smo.uhi.ac.uk/~oduibhin/mp3icon.gif\" width=\"32\" height=\"32\"></a></p>\\n</font>\\n\\n<p>Chuaidh fear isteach i dteach itheacháin ins an<br>\\nchathair lá amháin, agus madadh leis.   D\\'orduigh<br>\\nsé cé bith tráth a bhí a dhith air, agus bhain sé de<br>\\na mhiotóga agus d\\'fhág ar chathaoir iad.  Bhí an<br>\\nmadadh in a shuidhe go múinte ag taoibh an dorais<br>\\nagus é ag coimhead go cineálta ar a mhaighistir.<br>\\nNuair a bhí an fear réidh ag ithe, dhíol sé an sgór<br>\\nagus chuaidh amach.  Shiubhail sé anonn go dtí an<br>\\ntaobh eile de\\'n tsráid, agus chuaidh sé isteach i<br>\\nsiopa a cheannacht toitíní.  Lean an madadh a<br>\\nfhad le doras an tsiopa é; annsin sheas sé tamall<br>\\nmar bhéadh sé ag smaointiughadh air féin, agus an<br>\\ndara bumaite bhí sé ar theann rása ag dul bealach<br>\\nan tighe itheacháin arís.  Nuair a bhí a mhaighistir<br>\\nag teacht amach ar doras an tsiopa, chonnaic sé an<br>\\nmadadh ag tarraingt air agus a mhiotóga in a bhéal<br>\\nleis.  Chuimnigh sé annsin gur fhág sé in a dhiaidh<br>\\n\\'sa tigh itheacháin iad.</p>'"
      ]
     },
     "execution_count": 11,
     "metadata": {},
     "output_type": "execute_result"
    }
   ],
   "source": [
    "text"
   ]
  },
  {
   "cell_type": "code",
   "execution_count": 12,
   "metadata": {},
   "outputs": [],
   "source": [
    "extt = BeautifulSoup(text, \"lxml\")"
   ]
  },
  {
   "cell_type": "code",
   "execution_count": 14,
   "metadata": {},
   "outputs": [
    {
     "data": {
      "text/plain": [
       "\"\\nCríonnacht Madaidh.\\xa0\\xa0\\xa0\\xa0\\xa0\\xa0\\xa0\\n\\n\\nChuaidh fear isteach i dteach itheacháin ins an\\nchathair lá amháin, agus madadh leis.   D'orduigh\\nsé cé bith tráth a bhí a dhith air, agus bhain sé de\\na mhiotóga agus d'fhág ar chathaoir iad.  Bhí an\\nmadadh in a shuidhe go múinte ag taoibh an dorais\\nagus é ag coimhead go cineálta ar a mhaighistir.\\nNuair a bhí an fear réidh ag ithe, dhíol sé an sgór\\nagus chuaidh amach.  Shiubhail sé anonn go dtí an\\ntaobh eile de'n tsráid, agus chuaidh sé isteach i\\nsiopa a cheannacht toitíní.  Lean an madadh a\\nfhad le doras an tsiopa é; annsin sheas sé tamall\\nmar bhéadh sé ag smaointiughadh air féin, agus an\\ndara bumaite bhí sé ar theann rása ag dul bealach\\nan tighe itheacháin arís.  Nuair a bhí a mhaighistir\\nag teacht amach ar doras an tsiopa, chonnaic sé an\\nmadadh ag tarraingt air agus a mhiotóga in a bhéal\\nleis.  Chuimnigh sé annsin gur fhág sé in a dhiaidh\\n'sa tigh itheacháin iad.\""
      ]
     },
     "execution_count": 14,
     "metadata": {},
     "output_type": "execute_result"
    }
   ],
   "source": [
    "extt.text"
   ]
  },
  {
   "cell_type": "code",
   "execution_count": 17,
   "metadata": {},
   "outputs": [],
   "source": [
    "header = extt.find(\"font\", {\"size\": 5})"
   ]
  },
  {
   "cell_type": "code",
   "execution_count": 19,
   "metadata": {},
   "outputs": [],
   "source": [
    "titles = header.find_all(\"b\")"
   ]
  },
  {
   "cell_type": "code",
   "execution_count": 22,
   "metadata": {},
   "outputs": [],
   "source": [
    "if len(titles) == 1:\n",
    "    title = titles[0].text"
   ]
  },
  {
   "cell_type": "code",
   "execution_count": 23,
   "metadata": {},
   "outputs": [
    {
     "data": {
      "text/plain": [
       "'Críonnacht Madaidh.'"
      ]
     },
     "execution_count": 23,
     "metadata": {},
     "output_type": "execute_result"
    }
   ],
   "source": [
    "title"
   ]
  },
  {
   "cell_type": "code",
   "execution_count": 25,
   "metadata": {},
   "outputs": [],
   "source": [
    "for i in extt.find_all(\"font\", {\"size\": 5}):\n",
    "    i.decompose()"
   ]
  },
  {
   "cell_type": "code",
   "execution_count": 26,
   "metadata": {},
   "outputs": [
    {
     "data": {
      "text/plain": [
       "<html><body>\n",
       "<p>Chuaidh fear isteach i dteach itheacháin ins an<br/>\n",
       "chathair lá amháin, agus madadh leis.   D'orduigh<br/>\n",
       "sé cé bith tráth a bhí a dhith air, agus bhain sé de<br/>\n",
       "a mhiotóga agus d'fhág ar chathaoir iad.  Bhí an<br/>\n",
       "madadh in a shuidhe go múinte ag taoibh an dorais<br/>\n",
       "agus é ag coimhead go cineálta ar a mhaighistir.<br/>\n",
       "Nuair a bhí an fear réidh ag ithe, dhíol sé an sgór<br/>\n",
       "agus chuaidh amach.  Shiubhail sé anonn go dtí an<br/>\n",
       "taobh eile de'n tsráid, agus chuaidh sé isteach i<br/>\n",
       "siopa a cheannacht toitíní.  Lean an madadh a<br/>\n",
       "fhad le doras an tsiopa é; annsin sheas sé tamall<br/>\n",
       "mar bhéadh sé ag smaointiughadh air féin, agus an<br/>\n",
       "dara bumaite bhí sé ar theann rása ag dul bealach<br/>\n",
       "an tighe itheacháin arís.  Nuair a bhí a mhaighistir<br/>\n",
       "ag teacht amach ar doras an tsiopa, chonnaic sé an<br/>\n",
       "madadh ag tarraingt air agus a mhiotóga in a bhéal<br/>\n",
       "leis.  Chuimnigh sé annsin gur fhág sé in a dhiaidh<br/>\n",
       "'sa tigh itheacháin iad.</p></body></html>"
      ]
     },
     "execution_count": 26,
     "metadata": {},
     "output_type": "execute_result"
    }
   ],
   "source": [
    "extt"
   ]
  }
 ],
 "metadata": {
  "kernelspec": {
   "display_name": "Python 3",
   "language": "python",
   "name": "python3"
  },
  "language_info": {
   "codemirror_mode": {
    "name": "ipython",
    "version": 3
   },
   "file_extension": ".py",
   "mimetype": "text/x-python",
   "name": "python",
   "nbconvert_exporter": "python",
   "pygments_lexer": "ipython3",
   "version": "3.6.9"
  }
 },
 "nbformat": 4,
 "nbformat_minor": 4
}
