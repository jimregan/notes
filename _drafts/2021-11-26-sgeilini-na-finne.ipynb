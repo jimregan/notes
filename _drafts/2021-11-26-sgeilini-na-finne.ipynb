{
 "cells": [
  {
   "cell_type": "code",
   "execution_count": 1,
   "metadata": {},
   "source": [
    "MODERN = \"\"\"\n",
    "ruadh\trua\n",
    "ruaidh\trua\u00ed\n",
    "chomhnuidhe\tch\u00f3na\u00ed\n",
    "cheann-tuigheadh\tcheann tu\u00ed\n",
    "rabh\traibh\n",
    "da\td\u00e1\n",
    "muinteardha\tmuinteartha\n",
    "chroidhe\tchro\u00ed\n",
    "saoghal\tsaol\n",
    "\u00e9irghe\t\u00e9ir\u00ed\n",
    "leath-mheasardha\tleathmheasartha\n",
    "br\u00faighte\tbr\u00faite\n",
    "cr\u00e1idhte\tcr\u00e1ite\n",
    "b\u00e1idhte\tb\u00e1ite\n",
    "\"\"\""
   ],
   "outputs": []
  },
  {
   "cell_type": "code",
   "execution_count": 2,
   "metadata": {},
   "source": [
    "STANDARD = \"\"\"\n",
    "ruaidh\trua\n",
    "caid\u00e9\tcad \u00e9\n",
    "\"\"\""
   ],
   "outputs": []
  },
  {
   "cell_type": "code",
   "execution_count": 3,
   "metadata": {},
   "source": [
    "_tmp_mod = [a.split(\"\\t\") for a in MODERN.split(\"\\n\") if \"\\t\" in a]"
   ],
   "outputs": []
  },
  {
   "cell_type": "code",
   "metadata": {},
   "source": [
    "modern = {a[0]: a[1] for a in _tmp_mod}"
   ],
   "outputs": [],
   "execution_count": 4
  },
  {
   "cell_type": "code",
   "metadata": {},
   "source": [
    "modern"
   ],
   "outputs": [
    {
     "data": {
      "text/plain": [
       "{'ruadh': 'rua',\n 'ruaidh': 'rua\u00ed',\n 'chomhnuidhe': 'ch\u00f3na\u00ed',\n 'cheann-tuigheadh': 'cheann tu\u00ed',\n 'rabh': 'raibh',\n 'da': 'd\u00e1',\n 'muinteardha': 'muinteartha',\n 'chroidhe': 'chro\u00ed',\n 'saoghal': 'saol',\n '\u00e9irghe': '\u00e9ir\u00ed',\n 'leath-mheasardha': 'leathmheasartha',\n 'br\u00faighte': 'br\u00faite',\n 'cr\u00e1idhte': 'cr\u00e1ite',\n 'b\u00e1idhte': 'b\u00e1ite'}"
      ]
     },
     "execution_count": 5,
     "metadata": {},
     "output_type": "execute_result"
    }
   ],
   "execution_count": 5
  }
 ],
 "metadata": {
  "kernelspec": {
   "display_name": "Python 3",
   "language": "python",
   "name": "python3"
  },
  "language_info": {
   "file_extension": ".py",
   "mimetype": "text/x-python",
   "name": "python",
   "version": "3.9.2"
  }
 },
 "nbformat": 4,
 "nbformat_minor": 4
}
