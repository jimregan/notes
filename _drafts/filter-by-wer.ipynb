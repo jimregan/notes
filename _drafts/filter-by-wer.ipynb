{
 "cells": [
  {
   "cell_type": "code",
   "execution_count": 21,
   "metadata": {},
   "outputs": [],
   "source": [
    "PATHS = (\n",
    "    (\"/tmp/numered_all.json\", \"/tmp/gpt4o-generated-speech\"),\n",
    "    (\"/tmp/ggpt_numbered.json\", \"/tmp/groundinggpt-generated-speech\"),\n",
    "    (\"/tmp/ggpt_numbered2.json\", \"/tmp/groundinggpt-generated-speech2\")\n",
    ")"
   ]
  },
  {
   "cell_type": "code",
   "execution_count": 1,
   "metadata": {},
   "outputs": [],
   "source": [
    "import json\n",
    "\n",
    "with open(\"/tmp/numered_all.json\") as inf:\n",
    "    data = json.load(inf)"
   ]
  },
  {
   "cell_type": "code",
   "execution_count": 9,
   "metadata": {},
   "outputs": [],
   "source": [
    "from string import punctuation\n",
    "\n",
    "punct = set(punctuation)"
   ]
  },
  {
   "cell_type": "code",
   "execution_count": null,
   "metadata": {},
   "outputs": [],
   "source": [
    "def gather_phrase(text):\n",
    "    words = text.split(\" \")\n",
    "    phrase = []\n",
    "    inphrase = False\n",
    "    start = 0\n",
    "    for idx, word in enumerate(words):\n",
    "        if inphrase:\n",
    "            if word.endswith(\"*\") or (word[-1] in punct and word[-2] == \"*\"):\n",
    "                word = word.replace(\"*\", \"\")\n",
    "                phrase.append(word)\n",
    "                inphrase = False\n",
    "            else:\n",
    "                phrase.append(word)\n",
    "        else:\n",
    "            if word.startswith(\"*\"):\n",
    "                if word.endswith(\"*\") or (word[-1] in punct and word[-2] == \"*\"):\n",
    "                    return idx, word.replace(\"*\", \"\")\n",
    "                else:\n",
    "                    phrase.append(word.strip(\"*\"))\n",
    "                    start = idx\n",
    "                inphrase = True\n",
    "            else:\n",
    "                continue\n",
    "    return start, (\" \".join(phrase)).strip(\"*\")"
   ]
  },
  {
   "cell_type": "code",
   "execution_count": null,
   "metadata": {},
   "outputs": [],
   "source": [
    "def index_of_determiner(phrase):\n",
    "    dp = gather_phrase(phrase)\n",
    "    words = phrase.split(\" \")\n",
    "    for i, word in enumerate(words):\n",
    "        if word in [\"this\", \"that\", \"these\", \"those\"]:\n",
    "            return i\n",
    "    return -1"
   ]
  },
  {
   "cell_type": "code",
   "execution_count": null,
   "metadata": {},
   "outputs": [],
   "source": [
    "def clean_text(text):\n",
    "    text = text.replace(\"’\", \"'\")\n",
    "    text = text.replace(\"—\", \" \")\n",
    "    words = text.split(\" \")\n",
    "    cleaned = [w.lower().strip(punctuation) for w in words]\n",
    "    return \" \".join(cleaned)"
   ]
  },
  {
   "cell_type": "code",
   "execution_count": null,
   "metadata": {},
   "outputs": [],
   "source": [
    "!pip install jiwer"
   ]
  },
  {
   "cell_type": "code",
   "execution_count": 24,
   "metadata": {},
   "outputs": [],
   "source": [
    "from jiwer import wer"
   ]
  },
  {
   "cell_type": "code",
   "execution_count": 22,
   "metadata": {},
   "outputs": [],
   "source": [
    "def prune_fillers(text):\n",
    "    FILLERS = [\"uh\", \"um\"]\n",
    "    words = [x for x in text.split(\" \") if x not in FILLERS]\n",
    "    return \" \".join(words)"
   ]
  },
  {
   "cell_type": "code",
   "execution_count": null,
   "metadata": {},
   "outputs": [],
   "source": [
    "FIXES = {\n",
    "    \"hsi_4_0717_222_002__0__8\": (\"racket\", \"racquet\")\n",
    "}"
   ]
  },
  {
   "cell_type": "code",
   "execution_count": 49,
   "metadata": {},
   "outputs": [],
   "source": [
    "def read_tsv(tsvfile):\n",
    "    tsvdata = []\n",
    "    with open(tsvfile) as inf:\n",
    "        for line in inf:\n",
    "            line = line.strip()\n",
    "            if not line:\n",
    "                continue\n",
    "            tsvdata.append(line.split(\"\\t\"))\n",
    "    return tsvdata"
   ]
  },
  {
   "cell_type": "code",
   "execution_count": 50,
   "metadata": {},
   "outputs": [],
   "source": [
    "from pathlib import Path\n",
    "\n",
    "THRESHOLD = 0.3\n",
    "\n",
    "def process_data(data, tsvfile, gatherable_phrase = True):\n",
    "    for item in data:\n",
    "        person = item[\"person\"]\n",
    "        fileid = item[\"id\"]\n",
    "        text = item[\"snippet\"]\n",
    "\n",
    "        # tsvfile = Path(\"/tmp\") / f\"gpt4o-generated-speech\" / f\"{fileid}.tsv\"\n",
    "        tsvdata = read_tsv(tsvfile)\n",
    "        \n",
    "        tsvwords = [x[2] for x in tsvdata]\n",
    "        tsvtext = \" \".join(tsvwords)\n",
    "\n",
    "        cleaned_text = clean_text(text.strip())\n",
    "        cleaned_tsv = clean_text(tsvtext)\n",
    "\n",
    "        if gather_phrase:\n",
    "            phrase = gather_phrase(text)\n",
    "            phrase_parts = phrase.split(\" \")\n",
    "            if phrase_parts[0] in [\"a\", \"the\"]:\n",
    "                discard_ids.append(fileid)\n",
    "                continue\n",
    "\n",
    "        if cleaned_text != cleaned_tsv:\n",
    "            if cleaned_tsv.replace(\"-\", \" \") == cleaned_text:\n",
    "                cleaned_tsv = cleaned_tsv.replace(\"-\", \" \")\n",
    "\n",
    "        discard_ids = set()\n",
    "\n",
    "        if cleaned_text != cleaned_tsv:\n",
    "            if gather_phrase and not phrase in cleaned_tsv:\n",
    "                print(\"Phrase not in tsv\", phrase)\n",
    "                discard_ids.append(fileid)\n",
    "            print(\"Mismatch\", fileid, person)\n",
    "            print(cleaned_text)\n",
    "            print(cleaned_tsv)\n",
    "            cur_wer = wer(cleaned_text, cleaned_tsv)\n",
    "            print(cur_wer)\n",
    "            if cur_wer > THRESHOLD:\n",
    "                discard_ids.append(fileid)\n",
    "                print(\"WER above threshold, discarding\")\n",
    "            print()\n",
    "\n",
    "        # print(gather_phrase(text), \"\\t\", text)\n"
   ]
  },
  {
   "cell_type": "code",
   "execution_count": 47,
   "metadata": {},
   "outputs": [
    {
     "data": {
      "text/plain": [
       "['hsi_5_0718_211_003__50__41',\n",
       " 'hsi_5_0718_211_003__50__42',\n",
       " 'hsi_5_0718_211_003__50__43']"
      ]
     },
     "execution_count": 47,
     "metadata": {},
     "output_type": "execute_result"
    }
   ],
   "source": [
    "discard_ids"
   ]
  }
 ],
 "metadata": {
  "kernelspec": {
   "display_name": "nst-tts",
   "language": "python",
   "name": "python3"
  },
  "language_info": {
   "codemirror_mode": {
    "name": "ipython",
    "version": 3
   },
   "file_extension": ".py",
   "mimetype": "text/x-python",
   "name": "python",
   "nbconvert_exporter": "python",
   "pygments_lexer": "ipython3",
   "version": "3.10.9"
  }
 },
 "nbformat": 4,
 "nbformat_minor": 2
}
