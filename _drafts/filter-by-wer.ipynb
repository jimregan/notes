{
 "cells": [
  {
   "cell_type": "code",
   "execution_count": 21,
   "metadata": {},
   "outputs": [],
   "source": [
    "PATHS = (\n",
    "    (\"/tmp/numered_all.json\", \"/tmp/gpt4o-generated-speech\"),\n",
    "    (\"/tmp/ggpt_numbered.json\", \"/tmp/groundinggpt-generated-speech\"),\n",
    "    (\"/tmp/ggpt_numbered2.json\", \"/tmp/groundinggpt-generated-speech2\")\n",
    ")"
   ]
  },
  {
   "cell_type": "code",
   "execution_count": 1,
   "metadata": {},
   "outputs": [],
   "source": [
    "import json\n",
    "\n",
    "with open(\"/tmp/numered_all.json\") as inf:\n",
    "    data = json.load(inf)"
   ]
  },
  {
   "cell_type": "code",
   "execution_count": 9,
   "metadata": {},
   "outputs": [],
   "source": [
    "from string import punctuation\n",
    "\n",
    "punct = set(punctuation)"
   ]
  },
  {
   "cell_type": "code",
   "execution_count": null,
   "metadata": {},
   "outputs": [],
   "source": [
    "def gather_phrase(text):\n",
    "    words = text.split(\" \")\n",
    "    phrase = []\n",
    "    inphrase = False\n",
    "    start = 0\n",
    "    for idx, word in enumerate(words):\n",
    "        if inphrase:\n",
    "            if word.endswith(\"*\") or (word[-1] in punct and word[-2] == \"*\"):\n",
    "                word = word.replace(\"*\", \"\")\n",
    "                phrase.append(word)\n",
    "                inphrase = False\n",
    "            else:\n",
    "                phrase.append(word)\n",
    "        else:\n",
    "            if word.startswith(\"*\"):\n",
    "                if word.endswith(\"*\") or (word[-1] in punct and word[-2] == \"*\"):\n",
    "                    return idx, word.replace(\"*\", \"\")\n",
    "                else:\n",
    "                    phrase.append(word.strip(\"*\"))\n",
    "                    start = idx\n",
    "                inphrase = True\n",
    "            else:\n",
    "                continue\n",
    "    return start, (\" \".join(phrase)).strip(\"*\")"
   ]
  },
  {
   "cell_type": "code",
   "execution_count": null,
   "metadata": {},
   "outputs": [],
   "source": [
    "def index_of_determiner(phrase):\n",
    "    dp = gather_phrase(phrase)\n",
    "    words = phrase.split(\" \")\n",
    "    for i, word in enumerate(words):\n",
    "        if word in [\"this\", \"that\", \"these\", \"those\"]:\n",
    "            return i\n",
    "    return -1"
   ]
  },
  {
   "cell_type": "code",
   "execution_count": null,
   "metadata": {},
   "outputs": [],
   "source": [
    "def clean_text(text):\n",
    "    text = text.replace(\"’\", \"'\")\n",
    "    text = text.replace(\"—\", \" \")\n",
    "    words = text.split(\" \")\n",
    "    cleaned = [w.lower().strip(punctuation) for w in words]\n",
    "    return \" \".join(cleaned)"
   ]
  },
  {
   "cell_type": "code",
   "execution_count": null,
   "metadata": {},
   "outputs": [],
   "source": [
    "!pip install jiwer"
   ]
  },
  {
   "cell_type": "code",
   "execution_count": 24,
   "metadata": {},
   "outputs": [],
   "source": [
    "from jiwer import wer"
   ]
  },
  {
   "cell_type": "code",
   "execution_count": 22,
   "metadata": {},
   "outputs": [],
   "source": [
    "def prune_fillers(text):\n",
    "    FILLERS = [\"uh\", \"um\"]\n",
    "    words = [x for x in text.split(\" \") if x not in FILLERS]\n",
    "    return \" \".join(words)"
   ]
  },
  {
   "cell_type": "code",
   "execution_count": null,
   "metadata": {},
   "outputs": [],
   "source": [
    "FIXES = {\n",
    "    \"hsi_4_0717_222_002__0__8\": (\"racket\", \"racquet\")\n",
    "}"
   ]
  },
  {
   "cell_type": "code",
   "execution_count": 49,
   "metadata": {},
   "outputs": [],
   "source": [
    "def read_tsv(tsvfile):\n",
    "    tsvdata = []\n",
    "    with open(tsvfile) as inf:\n",
    "        for line in inf:\n",
    "            line = line.strip()\n",
    "            if not line:\n",
    "                continue\n",
    "            tsvdata.append(line.split(\"\\t\"))\n",
    "    return tsvdata"
   ]
  },
  {
   "cell_type": "code",
   "execution_count": 77,
   "metadata": {},
   "outputs": [],
   "source": [
    "def get_phrase_in_tsv(tsvdata, phrase):\n",
    "    phrase_parts = clean_text(phrase).split(\" \")\n",
    "    tsvwords = [clean_text(x[2]) for x in tsvdata]\n",
    "    for i in range(len(tsvwords) - len(phrase_parts) + 1):\n",
    "        if tsvwords[i:i + len(phrase_parts)] == phrase_parts:\n",
    "            return i\n",
    "    return -1"
   ]
  },
  {
   "cell_type": "code",
   "execution_count": 130,
   "metadata": {},
   "outputs": [],
   "source": [
    "from pathlib import Path\n",
    "try:\n",
    "    import librosa\n",
    "    LIBROSA_AVAILABLE = True\n",
    "except ImportError:\n",
    "    LIBROSA_AVAILABLE = False\n",
    "\n",
    "def process_data(data, tsvpath, gatherable_phrase = True, THRESHOLD = 0.3):\n",
    "    discard_ids = []\n",
    "    collected_data = []\n",
    "\n",
    "    for item in data:\n",
    "        person = item[\"person\"]\n",
    "        fileid = item[\"id\"]\n",
    "        text = item[\"snippet\"]\n",
    "\n",
    "        tsvfile = Path(tsvpath) / f\"{fileid}.tsv\"\n",
    "        tsvdata = read_tsv(tsvfile)\n",
    "        \n",
    "        tsvwords = [x[2] for x in tsvdata]\n",
    "        tsvtext = \" \".join(tsvwords)\n",
    "\n",
    "        cleaned_text = clean_text(text.strip())\n",
    "        cleaned_tsv = clean_text(tsvtext)\n",
    "\n",
    "        if gatherable_phrase:\n",
    "            phrase = gather_phrase(text)\n",
    "            phrase_parts = phrase.split(\" \")\n",
    "            if phrase_parts[0] in [\"a\", \"the\"]:\n",
    "                discard_ids.append(fileid)\n",
    "                continue\n",
    "\n",
    "        if cleaned_text != cleaned_tsv:\n",
    "            if cleaned_tsv.replace(\"-\", \" \") == cleaned_text:\n",
    "                cleaned_tsv = cleaned_tsv.replace(\"-\", \" \")\n",
    "\n",
    "        current = {\n",
    "            \"person\": person,\n",
    "            \"fileid\": fileid,\n",
    "            \"text\": text,\n",
    "            \"tsv_text\": tsvtext,\n",
    "            \"room\": item[\"room\"],\n",
    "            \"topic\": item[\"topic\"],\n",
    "            \"filename\": item[\"filename\"],\n",
    "        }\n",
    "\n",
    "        if LIBROSA_AVAILABLE:\n",
    "            wavfile = Path(tsvpath) / f\"{fileid}.wav\"\n",
    "            if wavfile.exists():\n",
    "                y, sr = librosa.load(wavfile, sr=None)\n",
    "                current[\"duration\"] = librosa.get_duration(y=y, sr=sr)\n",
    "            else:\n",
    "                print(\"Wav file not found\", wavfile)\n",
    "\n",
    "        if gatherable_phrase:\n",
    "            phrase_index = get_phrase_in_tsv(tsvdata, phrase)\n",
    "            if phrase_index == -1 and not \"determiner_index\" in current:\n",
    "                discard_ids.append(fileid)\n",
    "                current[\"discarded\"] = True\n",
    "                current[\"disard_reason\"] = \"Phrase not in tsv\"\n",
    "                continue\n",
    "            else:\n",
    "                current[\"determiner_index\"] = phrase_index\n",
    "                current[\"determiner_start\"] = tsvdata[phrase_index][0]\n",
    "                current[\"determiner_end\"] = tsvdata[phrase_index][1]\n",
    "                current[\"determiner_duration\"] = float(tsvdata[phrase_index][1]) - float(tsvdata[phrase_index][0])\n",
    "        else:\n",
    "            for idx, word in enumerate(tsvwords):\n",
    "                word = clean_text(word)\n",
    "                if word in ['this','that','one','those','these','there','here']:\n",
    "                    current[\"determiner_index\"] = idx\n",
    "                    current[\"determiner_start\"] = tsvdata[idx][0]\n",
    "                    current[\"determiner_end\"] = tsvdata[idx][1]\n",
    "                    current[\"determiner_duration\"] = float(tsvdata[phrase_index][1]) - float(tsvdata[phrase_index][0])\n",
    "                    break\n",
    "\n",
    "        if cleaned_text != cleaned_tsv:\n",
    "            if gatherable_phrase:\n",
    "                if not phrase in cleaned_tsv and not \"determiner_index\" in current:\n",
    "                    discard_ids.append(fileid)\n",
    "                    current[\"discarded\"] = True\n",
    "                    current[\"disard_reason\"] = \"Phrase not in tsv\"\n",
    "            cur_wer = wer(cleaned_text, cleaned_tsv)\n",
    "            current[\"wer\"] = cur_wer\n",
    "            if cur_wer > THRESHOLD:\n",
    "                discard_ids.append(fileid)\n",
    "                current[\"discarded\"] = True\n",
    "                current[\"discard_reason\"] = \"wer\"\n",
    "        else:\n",
    "            current[\"wer\"] = 0.0\n",
    "        collected_data.append(current)\n",
    "\n",
    "    return collected_data, discard_ids\n"
   ]
  },
  {
   "cell_type": "code",
   "execution_count": 131,
   "metadata": {},
   "outputs": [],
   "source": [
    "a, b = process_data(data, \"/tmp/gpt4o-generated-speech\")"
   ]
  },
  {
   "cell_type": "code",
   "execution_count": 132,
   "metadata": {},
   "outputs": [],
   "source": [
    "import json\n",
    "\n",
    "with open(\"/tmp/procced.json\", \"w\") as outf:\n",
    "    json.dump(a, outf, indent=4)"
   ]
  },
  {
   "cell_type": "code",
   "execution_count": 134,
   "metadata": {},
   "outputs": [],
   "source": [
    "with open(\"/tmp/discarded.txt\", \"w\") as outf:\n",
    "    outf.write(\"\\n\".join(set(b)))\n"
   ]
  }
 ],
 "metadata": {
  "kernelspec": {
   "display_name": "nst-tts",
   "language": "python",
   "name": "python3"
  },
  "language_info": {
   "codemirror_mode": {
    "name": "ipython",
    "version": 3
   },
   "file_extension": ".py",
   "mimetype": "text/x-python",
   "name": "python",
   "nbconvert_exporter": "python",
   "pygments_lexer": "ipython3",
   "version": "3.10.9"
  }
 },
 "nbformat": 4,
 "nbformat_minor": 2
}
