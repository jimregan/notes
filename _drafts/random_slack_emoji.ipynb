{
  "nbformat": 4,
  "nbformat_minor": 0,
  "metadata": {
    "colab": {
      "provenance": []
    },
    "kernelspec": {
      "name": "python3",
      "display_name": "Python 3"
    },
    "language_info": {
      "name": "python"
    }
  },
  "cells": [
    {
      "cell_type": "code",
      "execution_count": 3,
      "metadata": {
        "id": "3bdL-t-A9yPx"
      },
      "outputs": [],
      "source": [
        "%%capture\n",
        "%pip install beautifulsoup4\n",
        "%pip install appdirs"
      ]
    },
    {
      "cell_type": "code",
      "source": [
        "import requests\n",
        "from bs4 import BeautifulSoup\n",
        "\n",
        "def get_emojis(url):\n",
        "    request = requests.get(url)\n",
        "    out = []\n",
        "    if request.status_code != 200:\n",
        "        return []\n",
        "    soup = BeautifulSoup(request.text, 'html.parser')\n",
        "    container = soup.find('ul', {'class': 'emojis'})\n",
        "    if not container:\n",
        "        return []\n",
        "    for emoji in container.find_all('li', {'class': 'emoji'}):\n",
        "        item = {}\n",
        "        item['title'] = emoji.text.strip()\n",
        "        item['url'] = emoji.find('img')['src']\n",
        "        out.append(item)\n",
        "    return out"
      ],
      "metadata": {
        "id": "9RmFrvea-qK2"
      },
      "execution_count": 30,
      "outputs": []
    },
    {
      "cell_type": "code",
      "source": [
        "def get_emoji_list(save_tsv = True):\n",
        "    counter = 0\n",
        "    emojis = []\n",
        "    BASE_URL = \"https://slackmojis.com/categories/19-random-emojis?page=\"\n",
        "\n",
        "    while True:\n",
        "        tmp = get_emojis(BASE_URL + str(counter))\n",
        "        if tmp == []:\n",
        "            break\n",
        "        emojis += tmp\n",
        "        counter += 1\n",
        "\n",
        "    if save_tsv:\n",
        "        with open(\"emojis.tsv\", \"w\") as output:\n",
        "            for emoji in emojis:\n",
        "                output.write(f\"{emoji['title']}\\t{emoji['url']}\\n\")\n",
        "\n",
        "    return emojis"
      ],
      "metadata": {
        "id": "SMYLah0FBqHc"
      },
      "execution_count": 32,
      "outputs": []
    },
    {
      "cell_type": "code",
      "source": [
        "emojis = get_emoji_list()"
      ],
      "metadata": {
        "id": "MlqvyQ46C2Qr"
      },
      "execution_count": 33,
      "outputs": []
    },
    {
      "cell_type": "code",
      "source": [
        "import random\n",
        "from IPython.display import Markdown, display\n",
        "\n",
        "emoji = random.choice(emojis)\n",
        "display(Markdown(f\"![{emoji['title']}]({emoji['url']})\\n\\n{emoji['title']}\"))"
      ],
      "metadata": {
        "colab": {
          "base_uri": "https://localhost:8080/",
          "height": 176
        },
        "id": "OSK3zSVMDQ5I",
        "outputId": "f76acad0-61c3-4ea8-ceb6-91de511fcb1c"
      },
      "execution_count": 41,
      "outputs": [
        {
          "output_type": "display_data",
          "data": {
            "text/plain": [
              "<IPython.core.display.Markdown object>"
            ],
            "text/markdown": "![:all-coming-together:](https://emojis.slackmojis.com/emojis/images/1643514635/6393/all-coming-together.png?1643514635)\n\n:all-coming-together:"
          },
          "metadata": {}
        }
      ]
    }
  ]
}