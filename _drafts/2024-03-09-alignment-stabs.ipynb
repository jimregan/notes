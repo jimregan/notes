{
 "cells": [
  {
   "cell_type": "markdown",
   "metadata": {},
   "source": [
    "# First attempts at alignment (take 2)\n",
    "\n",
    "> \"Wish I could find the first version\"\n",
    "\n",
    "- toc: false\n",
    "- hidden: true\n",
    "- branch: master\n",
    "- categories: [riksdag, wav2vec, alignment]"
   ]
  },
  {
   "cell_type": "code",
   "execution_count": 22,
   "metadata": {},
   "outputs": [],
   "source": [
    "TEST_A = \"/Users/joregan/Playing/rd_ctm_edit/H5C120171011va\""
   ]
  },
  {
   "cell_type": "code",
   "execution_count": 23,
   "metadata": {},
   "outputs": [],
   "source": [
    "lines = []\n",
    "with open(TEST_A) as f:\n",
    "    for line in f.readlines():\n",
    "        lines.append(line.strip())"
   ]
  },
  {
   "cell_type": "code",
   "execution_count": 24,
   "metadata": {},
   "outputs": [],
   "source": [
    "def accept_all(lines):\n",
    "    outlines = []\n",
    "    for line in lines:\n",
    "        parts = line.split(\" \")\n",
    "        if parts[-1] == \"cor\":\n",
    "            outlines.append(line)\n",
    "        elif parts[-1] == \"sub\":\n",
    "            parts[4] = parts[6]\n",
    "            parts[-1] = \"cor\"\n",
    "            outlines.append(\" \".join(parts))\n",
    "    return outlines"
   ]
  },
  {
   "cell_type": "code",
   "execution_count": 25,
   "metadata": {},
   "outputs": [
    {
     "data": {
      "text/plain": [
       "['2442205210012872721 1 27.86 0.06 Herr 1.0 Herr cor',\n",
       " '2442205210012872721 1 28.0 0.48 talman! 1.0 talman! cor',\n",
       " '2442205210012872721 1 28.72 0.96 Riksdagsledamöter! 1.0 Riksdagsledamöter! cor',\n",
       " '2442205210012872721 1 30.16 0.82 Allianspartierna 1.0 Allianspartierna cor',\n",
       " '2442205210012872721 1 31.08 0.56 Moderaterna, 1.0 Moderaterna, cor',\n",
       " '2442205210012872721 1 32.08 0.74 Centerpartiet, 1.0 Centerpartiet, cor',\n",
       " '2442205210012872721 1 33.02 0.579 Liberalerna 1.0 Liberalerna cor',\n",
       " '2442205210012872721 1 33.74 0.079 och 1.0 och cor',\n",
       " '2442205210012872721 1 33.88 0.759 Kristdemokraterna 1.0 Kristdemokraterna cor',\n",
       " '2442205210012872721 1 34.76 0.399 föreslår 1.0 föreslår cor',\n",
       " '2442205210012872721 1 35.22 0.079 som 1.0 som cor',\n",
       " '2442205210012872721 1 35.36 0.579 riksdagens 1.0 riksdagens cor',\n",
       " '2442205210012872721 1 36.02 0.239 förste 1.0 förste cor',\n",
       " '2442205210012872721 1 36.32 0.179 vice 1.0 vice cor',\n",
       " '2442205210012872721 1 36.58 0.34 talman 1.0 talman cor',\n",
       " '2442205210012872721 1 37.32 0.14 Ewa 1.0 Ewa cor',\n",
       " '2442205210012872721 1 37.56 0.28 Thalén 1.0 Thalén cor',\n",
       " '2442205210012872721 1 38.14 0.32 Finné. 1.0 Finné. cor']"
      ]
     },
     "execution_count": 25,
     "metadata": {},
     "output_type": "execute_result"
    }
   ],
   "source": [
    "accept_all(lines)"
   ]
  },
  {
   "cell_type": "code",
   "execution_count": 26,
   "metadata": {},
   "outputs": [],
   "source": [
    "def ctm_to_timed(lines):\n",
    "    output = []\n",
    "    for line in lines:\n",
    "        parts = line.split(\" \")\n",
    "        start = float(parts[2])\n",
    "        dur = float(parts[3])\n",
    "        output.append({\n",
    "            \"start\": start,\n",
    "            \"end\": start + dur,\n",
    "            \"text\": parts[6]\n",
    "        })\n",
    "    return output"
   ]
  },
  {
   "cell_type": "code",
   "execution_count": 27,
   "metadata": {},
   "outputs": [],
   "source": [
    "side_a = ctm_to_timed(accept_all(lines))"
   ]
  },
  {
   "cell_type": "code",
   "execution_count": 28,
   "metadata": {},
   "outputs": [],
   "source": [
    "phonfile = \"/Users/joregan/Playing/rd_phonetic/2442205210012872721_480p.json\""
   ]
  },
  {
   "cell_type": "code",
   "execution_count": 29,
   "metadata": {},
   "outputs": [],
   "source": [
    "import json\n",
    "with open(phonfile) as f:\n",
    "    pieces = json.load(f)"
   ]
  },
  {
   "cell_type": "code",
   "execution_count": 30,
   "metadata": {},
   "outputs": [],
   "source": [
    "def hf_json_to_timed(data):\n",
    "    output = []\n",
    "    for chunk in data[\"chunks\"]:\n",
    "        output.append({\n",
    "            \"start\": chunk[\"timestamp\"][0],\n",
    "            \"end\": chunk[\"timestamp\"][1],\n",
    "            \"text\": chunk[\"text\"]\n",
    "        })\n",
    "    return output"
   ]
  },
  {
   "cell_type": "code",
   "execution_count": 31,
   "metadata": {},
   "outputs": [],
   "source": [
    "side_b = hf_json_to_timed(pieces)"
   ]
  },
  {
   "cell_type": "code",
   "execution_count": 32,
   "metadata": {},
   "outputs": [],
   "source": [
    "def prune_to_other(left, right, fudge=0.5):\n",
    "    output = []\n",
    "    for item in right:\n",
    "        if item[\"start\"] < left[0][\"start\"] - fudge:\n",
    "            continue\n",
    "        elif item[\"end\"] > left[-1][\"end\"] + fudge:\n",
    "            continue\n",
    "        else:\n",
    "            output.append(item)\n",
    "\n",
    "    return left, output"
   ]
  },
  {
   "cell_type": "code",
   "execution_count": 33,
   "metadata": {},
   "outputs": [],
   "source": [
    "new_a, new_b = prune_to_other(side_a, side_b)"
   ]
  },
  {
   "cell_type": "code",
   "execution_count": 34,
   "metadata": {},
   "outputs": [],
   "source": [
    "def cost(a, b):\n",
    "    starts = abs(a[\"start\"] - b[\"start\"])\n",
    "    ends = abs(a[\"end\"] - b[\"end\"])\n",
    "    return starts + ends"
   ]
  },
  {
   "cell_type": "code",
   "execution_count": 35,
   "metadata": {},
   "outputs": [],
   "source": [
    "def in_start_range(a, b, range=0.2):\n",
    "    return abs(a[\"start\"] - b[\"start\"]) <= range\n",
    "\n",
    "def in_end_range(a, b, range=0.2):\n",
    "    return abs(a[\"end\"] - b[\"end\"]) <= range\n",
    "\n",
    "def in_range(a, b, range=0.2):\n",
    "    r_start = in_start_range(a, b, range)\n",
    "    r_end = in_end_range(a, b, range)\n",
    "    return r_start or r_end\n"
   ]
  },
  {
   "cell_type": "code",
   "execution_count": 36,
   "metadata": {},
   "outputs": [],
   "source": [
    "def falls_between(a1, a2, b):\n",
    "    if b[\"end\"] <= a2[\"start\"] and b[\"start\"] >= a1[\"end\"]:\n",
    "        return True\n",
    "    return False"
   ]
  },
  {
   "cell_type": "code",
   "execution_count": 38,
   "metadata": {},
   "outputs": [],
   "source": [
    "import numpy as np"
   ]
  },
  {
   "cell_type": "code",
   "execution_count": 57,
   "metadata": {},
   "outputs": [],
   "source": [
    "def approx_eq(start1, start2, factor=0.04):\n",
    "    return start1 == start2 or abs(start1 - start2) < factor"
   ]
  },
  {
   "cell_type": "code",
   "execution_count": 74,
   "metadata": {},
   "outputs": [],
   "source": [
    "def align_times(new_a, new_b):\n",
    "    s1 = len(new_a)\n",
    "    s2 = len(new_b)\n",
    "\n",
    "    additionals = []\n",
    "    merges = {}\n",
    "\n",
    "    dist_matrix = np.matrix(np.ones((s1, s2)))\n",
    "    DEBUG = True\n",
    "    pair_cost = 0.0\n",
    "\n",
    "    for i in range(s1):\n",
    "        for j in range(s2):\n",
    "            if not in_range(new_a[i], new_b[j]):\n",
    "                continue\n",
    "            if DEBUG and new_b[j][\"text\"] == \"<pa>\":\n",
    "                print(new_a[i], new_a[i + 1], new_b[j])\n",
    "            if i == 0 and new_b[j][\"end\"] < new_a[0][\"start\"]:\n",
    "                additionals.append(({}, new_a[i], new_b[j]))\n",
    "                pair_cost = 1.\n",
    "            elif i < (s1 - 1) and falls_between(new_a[i], new_a[i + 1], new_b[j]):\n",
    "                additionals.append((new_a[i], new_a[i + 1], new_b[j]))\n",
    "                pair_cost = 1.\n",
    "            elif i == s1 and new_b[j][\"start\"] >= new_a[i][\"end\"]:\n",
    "                additionals.append((new_a[i], {}, new_b[j]))\n",
    "                pair_cost = 1.\n",
    "            if approx_eq(new_a[i][\"start\"], new_b[j][\"start\"]):\n",
    "                tmp_j = j\n",
    "                fwd = []\n",
    "                while tmp_j < (s2 - 1) and in_end_range(new_a[i], new_b[tmp_j], 0.06):\n",
    "                    fwd.append((cost(new_a[i], new_b[tmp_j]), tmp_j))\n",
    "                    tmp_j += 1\n",
    "                if fwd != []:\n",
    "                    sfwd = sorted(fwd)\n",
    "                    print(sfwd)\n",
    "                    new_j = sfwd[0][1]\n",
    "                    pair_cost = sfwd[0][0]\n",
    "                    merges[i] = [x for x in range(j, new_j + 1)]\n",
    "                    j = new_j\n",
    "            if pair_cost != 1.:\n",
    "                pair_cost = cost(new_a[i], new_b[j])\n",
    "            dist_matrix[i, j] = pair_cost\n",
    "    return dist_matrix, additionals, merges"
   ]
  },
  {
   "cell_type": "code",
   "execution_count": 75,
   "metadata": {},
   "outputs": [
    {
     "name": "stdout",
     "output_type": "stream",
     "text": [
      "[(0.019999999999999574, 0)]\n",
      "{'start': 30.16, 'end': 30.98, 'text': 'Allianspartierna'} {'start': 31.08, 'end': 31.639999999999997, 'text': 'Moderaterna,'} {'start': 30.0, 'end': 30.04, 'text': '<pa>'}\n",
      "[(0.020000000000003126, 7)]\n",
      "{'start': 31.08, 'end': 31.639999999999997, 'text': 'Moderaterna,'} {'start': 32.08, 'end': 32.82, 'text': 'Centerpartiet,'} {'start': 31.78, 'end': 31.82, 'text': '<pa>'}\n",
      "[(0.02099999999999369, 11)]\n",
      "[(0.03900000000000148, 12)]\n",
      "[(0.0589999999999975, 15)]\n",
      "[(0.04099999999999682, 16)]\n",
      "[(0.0009999999999976694, 17)]\n",
      "[(0.01899999999999835, 18)]\n",
      "[(0.021000000000000796, 19)]\n",
      "[(0.03999999999999915, 20)]\n",
      "{'start': 36.58, 'end': 36.92, 'text': 'talman'} {'start': 37.32, 'end': 37.46, 'text': 'Ewa'} {'start': 37.08, 'end': 37.12, 'text': '<pa>'}\n",
      "[(0.020000000000003126, 22)]\n",
      "[(0.01999999999999602, 23)]\n"
     ]
    }
   ],
   "source": [
    "dist_matrix, adds, mrg = align_times(new_a, new_b)"
   ]
  },
  {
   "cell_type": "code",
   "execution_count": 73,
   "metadata": {},
   "outputs": [
    {
     "data": {
      "text/plain": [
       "{0: [0],\n",
       " 4: [7],\n",
       " 6: [11],\n",
       " 7: [12],\n",
       " 9: [15],\n",
       " 10: [16],\n",
       " 11: [17],\n",
       " 12: [18],\n",
       " 13: [19],\n",
       " 14: [20],\n",
       " 15: [22],\n",
       " 16: [23]}"
      ]
     },
     "execution_count": 73,
     "metadata": {},
     "output_type": "execute_result"
    }
   ],
   "source": [
    "mrg"
   ]
  },
  {
   "cell_type": "code",
   "execution_count": 72,
   "metadata": {},
   "outputs": [
    {
     "name": "stdout",
     "output_type": "stream",
     "text": [
      "{'start': 27.86, 'end': 27.919999999999998, 'text': 'Herr'} {'start': 27.86, 'end': 27.9, 'text': 'ɑː'}\n",
      "{'start': 31.08, 'end': 31.639999999999997, 'text': 'Moderaterna,'} {'start': 31.06, 'end': 31.64, 'text': 'mʊdɑːtœ̞ɔɳa'}\n",
      "{'start': 33.02, 'end': 33.599000000000004, 'text': 'Liberalerna'} {'start': 33.02, 'end': 33.62, 'text': 'lɪbɑːlɔɳa'}\n",
      "{'start': 33.74, 'end': 33.819, 'text': 'och'} {'start': 33.74, 'end': 33.78, 'text': 'oː'}\n",
      "{'start': 34.76, 'end': 35.159, 'text': 'föreslår'} {'start': 34.76, 'end': 35.1, 'text': 'fœ̞ːesoː'}\n",
      "{'start': 35.22, 'end': 35.299, 'text': 'som'} {'start': 35.2, 'end': 35.32, 'text': 'sɔm'}\n",
      "{'start': 35.36, 'end': 35.939, 'text': 'riksdagens'} {'start': 35.36, 'end': 35.94, 'text': 'rɪksdɑːɡəns'}\n",
      "{'start': 36.02, 'end': 36.259, 'text': 'förste'} {'start': 36.02, 'end': 36.24, 'text': 'fœ̞st'}\n",
      "{'start': 36.32, 'end': 36.499, 'text': 'vice'} {'start': 36.3, 'end': 36.5, 'text': 'viːsə'}\n",
      "{'start': 36.58, 'end': 36.92, 'text': 'talman'} {'start': 36.58, 'end': 36.96, 'text': 'tɑːlman'}\n",
      "{'start': 37.32, 'end': 37.46, 'text': 'Ewa'} {'start': 37.3, 'end': 37.46, 'text': 'eva'}\n",
      "{'start': 37.56, 'end': 37.84, 'text': 'Thalén'} {'start': 37.56, 'end': 37.86, 'text': 'tareːn'}\n"
     ]
    }
   ],
   "source": [
    "for aa in mrg:\n",
    "    for bb in mrg[aa]:\n",
    "        print(new_a[aa], new_b[bb])"
   ]
  },
  {
   "cell_type": "code",
   "execution_count": null,
   "metadata": {},
   "outputs": [
    {
     "ename": "ModuleNotFoundError",
     "evalue": "No module named 'pandas'",
     "output_type": "error",
     "traceback": [
      "\u001b[0;31m---------------------------------------------------------------------------\u001b[0m",
      "\u001b[0;31mModuleNotFoundError\u001b[0m                       Traceback (most recent call last)",
      "Cell \u001b[0;32mIn[21], line 1\u001b[0m\n\u001b[0;32m----> 1\u001b[0m \u001b[38;5;28;01mimport\u001b[39;00m \u001b[38;5;21;01mpandas\u001b[39;00m \u001b[38;5;28;01mas\u001b[39;00m \u001b[38;5;21;01mpd\u001b[39;00m\n\u001b[1;32m      2\u001b[0m df \u001b[38;5;241m=\u001b[39m pd\u001b[38;5;241m.\u001b[39mDataFrame(data\u001b[38;5;241m=\u001b[39mdist_matrix,index\u001b[38;5;241m=\u001b[39m[x[\u001b[38;5;124m\"\u001b[39m\u001b[38;5;124mtext\u001b[39m\u001b[38;5;124m\"\u001b[39m] \u001b[38;5;28;01mfor\u001b[39;00m x \u001b[38;5;129;01min\u001b[39;00m new_a], columns\u001b[38;5;241m=\u001b[39m[x[\u001b[38;5;124m\"\u001b[39m\u001b[38;5;124mtext\u001b[39m\u001b[38;5;124m\"\u001b[39m] \u001b[38;5;28;01mfor\u001b[39;00m x \u001b[38;5;129;01min\u001b[39;00m new_b])\n",
      "\u001b[0;31mModuleNotFoundError\u001b[0m: No module named 'pandas'"
     ]
    }
   ],
   "source": [
    "import pandas as pd\n",
    "df = pd.DataFrame(data=dist_matrix,index=[x[\"text\"] for x in new_a], columns=[x[\"text\"] for x in new_b])"
   ]
  },
  {
   "cell_type": "code",
   "execution_count": null,
   "metadata": {},
   "outputs": [],
   "source": [
    "from phonemizer import phonemize"
   ]
  },
  {
   "cell_type": "code",
   "execution_count": 41,
   "metadata": {},
   "outputs": [
    {
     "name": "stdout",
     "output_type": "stream",
     "text": [
      "Herr hɛr \n",
      "talman! tɑːlman \n",
      "Riksdagsledamöter! rɪksdɑːɡsleːdamøːtər \n",
      "Allianspartierna aliːanspatiːərna \n",
      "Moderaterna, muːdeːratərna \n",
      "Centerpartiet, sɛntərpatiːət \n",
      "Liberalerna liːbəralərna \n",
      "och ɔk \n",
      "Kristdemokraterna kriːstdəmɔkrɑːtɛrna \n",
      "föreslår føːrəsloːr \n",
      "som sɔm \n",
      "riksdagens rɪksdɑːɡɛns \n",
      "förste fœʂtə \n",
      "vice viːsə \n",
      "talman tɑːlman \n",
      "Ewa eːva \n",
      "Thalén thɑːleːn \n",
      "Finné. fɪneː \n"
     ]
    }
   ],
   "source": [
    "for it_a in new_a:\n",
    "    print(it_a[\"text\"], phonemize(it_a[\"text\"], language='sv'))"
   ]
  },
  {
   "cell_type": "code",
   "execution_count": null,
   "metadata": {},
   "outputs": [
    {
     "ename": "NameError",
     "evalue": "name 'df' is not defined",
     "output_type": "error",
     "traceback": [
      "\u001b[0;31m---------------------------------------------------------------------------\u001b[0m",
      "\u001b[0;31mNameError\u001b[0m                                 Traceback (most recent call last)",
      "Cell \u001b[0;32mIn[20], line 1\u001b[0m\n\u001b[0;32m----> 1\u001b[0m \u001b[43mdf\u001b[49m\n",
      "\u001b[0;31mNameError\u001b[0m: name 'df' is not defined"
     ]
    }
   ],
   "source": [
    "df"
   ]
  }
 ],
 "metadata": {
  "kernelspec": {
   "display_name": "ctcseg",
   "language": "python",
   "name": "python3"
  },
  "language_info": {
   "codemirror_mode": {
    "name": "ipython",
    "version": 3
   },
   "file_extension": ".py",
   "mimetype": "text/x-python",
   "name": "python",
   "nbconvert_exporter": "python",
   "pygments_lexer": "ipython3",
   "version": "3.11.7"
  }
 },
 "nbformat": 4,
 "nbformat_minor": 2
}
