{
 "cells": [
  {
   "cell_type": "markdown",
   "metadata": {},
   "source": [
    "# First attempts at alignment (take 2)\n",
    "\n",
    "> \"Wish I could find the first version\"\n",
    "\n",
    "- toc: false\n",
    "- hidden: true\n",
    "- branch: master\n",
    "- categories: [riksdag, wav2vec, alignment]"
   ]
  },
  {
   "cell_type": "code",
   "execution_count": 22,
   "metadata": {},
   "outputs": [],
   "source": [
    "TEST_A = \"/Users/joregan/Playing/rd_ctm_edit/H5C120171011va\""
   ]
  },
  {
   "cell_type": "code",
   "execution_count": 23,
   "metadata": {},
   "outputs": [],
   "source": [
    "lines = []\n",
    "with open(TEST_A) as f:\n",
    "    for line in f.readlines():\n",
    "        lines.append(line.strip())"
   ]
  },
  {
   "cell_type": "code",
   "execution_count": 24,
   "metadata": {},
   "outputs": [],
   "source": [
    "def accept_all(lines):\n",
    "    outlines = []\n",
    "    for line in lines:\n",
    "        parts = line.split(\" \")\n",
    "        if parts[-1] == \"cor\":\n",
    "            outlines.append(line)\n",
    "        elif parts[-1] == \"sub\":\n",
    "            parts[4] = parts[6]\n",
    "            parts[-1] = \"cor\"\n",
    "            outlines.append(\" \".join(parts))\n",
    "    return outlines"
   ]
  },
  {
   "cell_type": "code",
   "execution_count": 25,
   "metadata": {},
   "outputs": [
    {
     "data": {
      "text/plain": [
       "['2442205210012872721 1 27.86 0.06 Herr 1.0 Herr cor',\n",
       " '2442205210012872721 1 28.0 0.48 talman! 1.0 talman! cor',\n",
       " '2442205210012872721 1 28.72 0.96 Riksdagsledamöter! 1.0 Riksdagsledamöter! cor',\n",
       " '2442205210012872721 1 30.16 0.82 Allianspartierna 1.0 Allianspartierna cor',\n",
       " '2442205210012872721 1 31.08 0.56 Moderaterna, 1.0 Moderaterna, cor',\n",
       " '2442205210012872721 1 32.08 0.74 Centerpartiet, 1.0 Centerpartiet, cor',\n",
       " '2442205210012872721 1 33.02 0.579 Liberalerna 1.0 Liberalerna cor',\n",
       " '2442205210012872721 1 33.74 0.079 och 1.0 och cor',\n",
       " '2442205210012872721 1 33.88 0.759 Kristdemokraterna 1.0 Kristdemokraterna cor',\n",
       " '2442205210012872721 1 34.76 0.399 föreslår 1.0 föreslår cor',\n",
       " '2442205210012872721 1 35.22 0.079 som 1.0 som cor',\n",
       " '2442205210012872721 1 35.36 0.579 riksdagens 1.0 riksdagens cor',\n",
       " '2442205210012872721 1 36.02 0.239 förste 1.0 förste cor',\n",
       " '2442205210012872721 1 36.32 0.179 vice 1.0 vice cor',\n",
       " '2442205210012872721 1 36.58 0.34 talman 1.0 talman cor',\n",
       " '2442205210012872721 1 37.32 0.14 Ewa 1.0 Ewa cor',\n",
       " '2442205210012872721 1 37.56 0.28 Thalén 1.0 Thalén cor',\n",
       " '2442205210012872721 1 38.14 0.32 Finné. 1.0 Finné. cor']"
      ]
     },
     "execution_count": 25,
     "metadata": {},
     "output_type": "execute_result"
    }
   ],
   "source": [
    "accept_all(lines)"
   ]
  },
  {
   "cell_type": "code",
   "execution_count": 26,
   "metadata": {},
   "outputs": [],
   "source": [
    "def ctm_to_timed(lines):\n",
    "    output = []\n",
    "    for line in lines:\n",
    "        parts = line.split(\" \")\n",
    "        start = float(parts[2])\n",
    "        dur = float(parts[3])\n",
    "        output.append({\n",
    "            \"start\": start,\n",
    "            \"end\": start + dur,\n",
    "            \"text\": parts[6]\n",
    "        })\n",
    "    return output"
   ]
  },
  {
   "cell_type": "code",
   "execution_count": 27,
   "metadata": {},
   "outputs": [],
   "source": [
    "side_a = ctm_to_timed(accept_all(lines))"
   ]
  },
  {
   "cell_type": "code",
   "execution_count": 28,
   "metadata": {},
   "outputs": [],
   "source": [
    "phonfile = \"/Users/joregan/Playing/rd_phonetic/2442205210012872721_480p.json\""
   ]
  },
  {
   "cell_type": "code",
   "execution_count": 29,
   "metadata": {},
   "outputs": [],
   "source": [
    "import json\n",
    "with open(phonfile) as f:\n",
    "    pieces = json.load(f)"
   ]
  },
  {
   "cell_type": "code",
   "execution_count": 30,
   "metadata": {},
   "outputs": [],
   "source": [
    "def hf_json_to_timed(data):\n",
    "    output = []\n",
    "    for chunk in data[\"chunks\"]:\n",
    "        output.append({\n",
    "            \"start\": chunk[\"timestamp\"][0],\n",
    "            \"end\": chunk[\"timestamp\"][1],\n",
    "            \"text\": chunk[\"text\"]\n",
    "        })\n",
    "    return output"
   ]
  },
  {
   "cell_type": "code",
   "execution_count": 31,
   "metadata": {},
   "outputs": [],
   "source": [
    "side_b = hf_json_to_timed(pieces)"
   ]
  },
  {
   "cell_type": "code",
   "execution_count": 32,
   "metadata": {},
   "outputs": [],
   "source": [
    "def prune_to_other(left, right, fudge=0.5):\n",
    "    output = []\n",
    "    for item in right:\n",
    "        if item[\"start\"] < left[0][\"start\"] - fudge:\n",
    "            continue\n",
    "        elif item[\"end\"] > left[-1][\"end\"] + fudge:\n",
    "            continue\n",
    "        else:\n",
    "            output.append(item)\n",
    "\n",
    "    return left, output"
   ]
  },
  {
   "cell_type": "code",
   "execution_count": 33,
   "metadata": {},
   "outputs": [],
   "source": [
    "new_a, new_b = prune_to_other(side_a, side_b)"
   ]
  },
  {
   "cell_type": "code",
   "execution_count": 86,
   "metadata": {},
   "outputs": [],
   "source": [
    "def end_cost(a, b):\n",
    "    return abs(a[\"end\"] - b[\"end\"])\n",
    "\n",
    "def start_cost(a, b):\n",
    "    return abs(a[\"start\"] - b[\"start\"])\n",
    "\n",
    "def cost(a, b):\n",
    "    starts = start_cost(a, b)\n",
    "    ends = end_cost(a, b)\n",
    "    return starts + ends"
   ]
  },
  {
   "cell_type": "code",
   "execution_count": 35,
   "metadata": {},
   "outputs": [],
   "source": [
    "def in_start_range(a, b, range=0.2):\n",
    "    return abs(a[\"start\"] - b[\"start\"]) <= range\n",
    "\n",
    "def in_end_range(a, b, range=0.2):\n",
    "    return abs(a[\"end\"] - b[\"end\"]) <= range\n",
    "\n",
    "def in_range(a, b, range=0.2):\n",
    "    r_start = in_start_range(a, b, range)\n",
    "    r_end = in_end_range(a, b, range)\n",
    "    return r_start or r_end\n"
   ]
  },
  {
   "cell_type": "code",
   "execution_count": 36,
   "metadata": {},
   "outputs": [],
   "source": [
    "def falls_between(a1, a2, b):\n",
    "    if b[\"end\"] <= a2[\"start\"] and b[\"start\"] >= a1[\"end\"]:\n",
    "        return True\n",
    "    return False"
   ]
  },
  {
   "cell_type": "code",
   "execution_count": 38,
   "metadata": {},
   "outputs": [],
   "source": [
    "import numpy as np"
   ]
  },
  {
   "cell_type": "code",
   "execution_count": 57,
   "metadata": {},
   "outputs": [],
   "source": [
    "def approx_eq(start1, start2, factor=0.04):\n",
    "    return start1 == start2 or abs(start1 - start2) < factor"
   ]
  },
  {
   "cell_type": "code",
   "execution_count": 139,
   "metadata": {},
   "outputs": [],
   "source": [
    "def align_times(new_a, new_b, merge_end_flexibility=0.06):\n",
    "    s1 = len(new_a)\n",
    "    s2 = len(new_b)\n",
    "\n",
    "    additionals = []\n",
    "    merges = {}\n",
    "\n",
    "    dist_matrix = np.matrix(np.ones((s1, s2)))\n",
    "    DEBUG = True\n",
    "    pair_cost = 0.0\n",
    "\n",
    "    for i in range(s1):\n",
    "        for j in range(s2):\n",
    "            if not in_range(new_a[i], new_b[j]):\n",
    "                continue\n",
    "            if i == 0 and new_b[j][\"end\"] < new_a[0][\"start\"]:\n",
    "                additionals.append(({}, new_a[i], new_b[j]))\n",
    "                pair_cost = 1.\n",
    "            elif i < (s1 - 1) and falls_between(new_a[i], new_a[i + 1], new_b[j]):\n",
    "                additionals.append((new_a[i], new_a[i + 1], new_b[j]))\n",
    "                pair_cost = 1.\n",
    "            elif i == s1 and new_b[j][\"start\"] >= new_a[i][\"end\"]:\n",
    "                additionals.append((new_a[i], {}, new_b[j]))\n",
    "                pair_cost = 1.\n",
    "            if approx_eq(new_a[i][\"start\"], new_b[j][\"start\"]):\n",
    "                tmp_j = j\n",
    "                fwd = []\n",
    "                extent = new_b[tmp_j]\n",
    "                if i < (s1 - 2) and new_b[tmp_j][\"end\"] < new_a[i + 1][\"end\"]:\n",
    "                    extent = new_a[i + 1]\n",
    "                while tmp_j < (s2 - 1) and not in_end_range(new_a[i], extent, merge_end_flexibility):\n",
    "                    fwd.append((end_cost(new_a[i], new_b[tmp_j]), tmp_j))\n",
    "                    tmp_j += 1\n",
    "                if len(fwd) > 1:\n",
    "                    sfwd = sorted(fwd)\n",
    "                    print(sfwd)\n",
    "                    new_j = sfwd[0][1]\n",
    "                    if new_j != j:\n",
    "                        pair_cost = sfwd[0][0]\n",
    "                        merges[i] = [x for x in range(j, new_j + 1)]\n",
    "                        j = new_j\n",
    "            if pair_cost != 1.:\n",
    "                pair_cost = cost(new_a[i], new_b[j])\n",
    "            dist_matrix[i, j] = pair_cost\n",
    "    return dist_matrix, additionals, merges"
   ]
  },
  {
   "cell_type": "code",
   "execution_count": null,
   "metadata": {},
   "outputs": [],
   "source": [
    "dist_matrix, adds, mrg = align_times(new_a, new_b)"
   ]
  },
  {
   "cell_type": "code",
   "execution_count": 141,
   "metadata": {},
   "outputs": [
    {
     "data": {
      "text/plain": [
       "{2: [2, 3], 3: [5, 6], 5: [9, 10], 8: [13, 14]}"
      ]
     },
     "execution_count": 141,
     "metadata": {},
     "output_type": "execute_result"
    }
   ],
   "source": [
    "mrg"
   ]
  },
  {
   "cell_type": "code",
   "execution_count": 142,
   "metadata": {},
   "outputs": [
    {
     "name": "stdout",
     "output_type": "stream",
     "text": [
      "{'start': 28.72, 'end': 29.68, 'text': 'Riksdagsledamöter!'} {'start': 28.7, 'end': 29.18, 'text': 'rɪksasleːda'}\n",
      "{'start': 28.72, 'end': 29.68, 'text': 'Riksdagsledamöter!'} {'start': 29.24, 'end': 29.58, 'text': 'møːtœ̞'}\n",
      "{'start': 30.16, 'end': 30.98, 'text': 'Allianspartierna'} {'start': 30.16, 'end': 30.26, 'text': 'al'}\n",
      "{'start': 30.16, 'end': 30.98, 'text': 'Allianspartierna'} {'start': 30.32, 'end': 30.98, 'text': 'aspatiːæɳa'}\n",
      "{'start': 32.08, 'end': 32.82, 'text': 'Centerpartiet,'} {'start': 32.06, 'end': 32.3, 'text': 'sentə'}\n",
      "{'start': 32.08, 'end': 32.82, 'text': 'Centerpartiet,'} {'start': 32.36, 'end': 32.86, 'text': 'patiːət'}\n",
      "{'start': 33.88, 'end': 34.639, 'text': 'Kristdemokraterna'} {'start': 33.84, 'end': 34.04, 'text': 'kɪs'}\n",
      "{'start': 33.88, 'end': 34.639, 'text': 'Kristdemokraterna'} {'start': 34.08, 'end': 34.64, 'text': 'demɔkɑːtɔɳa'}\n"
     ]
    }
   ],
   "source": [
    "for aa in mrg:\n",
    "    for bb in mrg[aa]:\n",
    "        print(new_a[aa], new_b[bb])"
   ]
  },
  {
   "cell_type": "code",
   "execution_count": 99,
   "metadata": {},
   "outputs": [],
   "source": [
    "import pandas as pd\n",
    "df = pd.DataFrame(data=dist_matrix,index=[x[\"text\"] for x in new_a], columns=[x[\"text\"] for x in new_b])"
   ]
  },
  {
   "cell_type": "code",
   "execution_count": 79,
   "metadata": {},
   "outputs": [],
   "source": [
    "from phonemizer import phonemize"
   ]
  },
  {
   "cell_type": "code",
   "execution_count": 41,
   "metadata": {},
   "outputs": [
    {
     "name": "stdout",
     "output_type": "stream",
     "text": [
      "Herr hɛr \n",
      "talman! tɑːlman \n",
      "Riksdagsledamöter! rɪksdɑːɡsleːdamøːtər \n",
      "Allianspartierna aliːanspatiːərna \n",
      "Moderaterna, muːdeːratərna \n",
      "Centerpartiet, sɛntərpatiːət \n",
      "Liberalerna liːbəralərna \n",
      "och ɔk \n",
      "Kristdemokraterna kriːstdəmɔkrɑːtɛrna \n",
      "föreslår føːrəsloːr \n",
      "som sɔm \n",
      "riksdagens rɪksdɑːɡɛns \n",
      "förste fœʂtə \n",
      "vice viːsə \n",
      "talman tɑːlman \n",
      "Ewa eːva \n",
      "Thalén thɑːleːn \n",
      "Finné. fɪneː \n"
     ]
    }
   ],
   "source": [
    "for it_a in new_a:\n",
    "    print(it_a[\"text\"], phonemize(it_a[\"text\"], language='sv'))"
   ]
  }
 ],
 "metadata": {
  "kernelspec": {
   "display_name": "ctcseg",
   "language": "python",
   "name": "python3"
  },
  "language_info": {
   "codemirror_mode": {
    "name": "ipython",
    "version": 3
   },
   "file_extension": ".py",
   "mimetype": "text/x-python",
   "name": "python",
   "nbconvert_exporter": "python",
   "pygments_lexer": "ipython3",
   "version": "3.11.7"
  }
 },
 "nbformat": 4,
 "nbformat_minor": 2
}
