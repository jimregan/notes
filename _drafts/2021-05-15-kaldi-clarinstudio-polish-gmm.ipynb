{
 "cells": [
  {
   "cell_type": "code",
   "execution_count": 1,
   "id": "protected-right",
   "metadata": {
    "execution": {
     "iopub.execute_input": "2021-05-15T17:36:24.937971Z",
     "iopub.status.busy": "2021-05-15T17:36:24.936813Z",
     "iopub.status.idle": "2021-05-15T17:36:24.948617Z",
     "shell.execute_reply": "2021-05-15T17:36:24.947734Z"
    },
    "papermill": {
     "duration": 0.025057,
     "end_time": "2021-05-15T17:36:24.948828",
     "exception": false,
     "start_time": "2021-05-15T17:36:24.923771",
     "status": "completed"
    },
    "tags": []
   },
   "outputs": [
    {
     "name": "stdout",
     "output_type": "stream",
     "text": [
      "/opt\n"
     ]
    }
   ],
   "source": [
    "%cd /opt"
   ]
  },
  {
   "cell_type": "code",
   "execution_count": 2,
   "id": "gorgeous-breach",
   "metadata": {
    "_cell_guid": "b1076dfc-b9ad-4769-8c92-a6c4dae69d19",
    "_uuid": "8f2839f25d086af736a60e9eeb907d3b93b6e0e5",
    "execution": {
     "iopub.execute_input": "2021-05-15T17:36:24.973330Z",
     "iopub.status.busy": "2021-05-15T17:36:24.972686Z",
     "iopub.status.idle": "2021-05-15T17:37:00.668982Z",
     "shell.execute_reply": "2021-05-15T17:37:00.668378Z"
    },
    "papermill": {
     "duration": 35.710848,
     "end_time": "2021-05-15T17:37:00.669154",
     "exception": false,
     "start_time": "2021-05-15T17:36:24.958306",
     "status": "completed"
    },
    "tags": []
   },
   "outputs": [],
   "source": [
    "%%capture\n",
    "!tar xvf /kaggle/input/extract-prebuilt-kaldi-from-docker/kaldi.tar"
   ]
  },
  {
   "cell_type": "code",
   "execution_count": 3,
   "id": "bizarre-strike",
   "metadata": {
    "execution": {
     "iopub.execute_input": "2021-05-15T17:37:00.692394Z",
     "iopub.status.busy": "2021-05-15T17:37:00.691633Z",
     "iopub.status.idle": "2021-05-15T17:37:00.696694Z",
     "shell.execute_reply": "2021-05-15T17:37:00.695639Z"
    },
    "papermill": {
     "duration": 0.018746,
     "end_time": "2021-05-15T17:37:00.696919",
     "exception": false,
     "start_time": "2021-05-15T17:37:00.678173",
     "status": "completed"
    },
    "tags": []
   },
   "outputs": [
    {
     "name": "stdout",
     "output_type": "stream",
     "text": [
      "/opt/kaldi/egs\n"
     ]
    }
   ],
   "source": [
    "%cd kaldi/egs"
   ]
  },
  {
   "cell_type": "code",
   "execution_count": null,
   "id": "featured-status",
   "metadata": {
    "execution": {
     "iopub.execute_input": "2021-05-15T17:37:00.718802Z",
     "iopub.status.busy": "2021-05-15T17:37:00.718182Z",
     "iopub.status.idle": "2021-05-15T17:37:07.180823Z",
     "shell.execute_reply": "2021-05-15T17:37:07.180129Z"
    },
    "papermill": {
     "duration": 6.474042,
     "end_time": "2021-05-15T17:37:07.180966",
     "exception": false,
     "start_time": "2021-05-15T17:37:00.706924",
     "status": "completed"
    },
    "tags": []
   },
   "outputs": [],
   "source": [
    "!git clone https://github.com/danijel3/ClarinStudioKaldi"
   ]
  },
  {
   "cell_type": "code",
   "execution_count": 5,
   "id": "infectious-builder",
   "metadata": {
    "execution": {
     "iopub.execute_input": "2021-05-15T17:37:07.213262Z",
     "iopub.status.busy": "2021-05-15T17:37:07.212599Z",
     "iopub.status.idle": "2021-05-15T17:37:07.218527Z",
     "shell.execute_reply": "2021-05-15T17:37:07.219394Z"
    },
    "papermill": {
     "duration": 0.025084,
     "end_time": "2021-05-15T17:37:07.219629",
     "exception": false,
     "start_time": "2021-05-15T17:37:07.194545",
     "status": "completed"
    },
    "tags": []
   },
   "outputs": [
    {
     "name": "stdout",
     "output_type": "stream",
     "text": [
      "/opt/kaldi/egs/ClarinStudioKaldi\n"
     ]
    }
   ],
   "source": [
    "%cd ClarinStudioKaldi"
   ]
  },
  {
   "cell_type": "code",
   "execution_count": null,
   "id": "native-medicare",
   "metadata": {
    "execution": {
     "iopub.execute_input": "2021-05-15T17:37:07.255343Z",
     "iopub.status.busy": "2021-05-15T17:37:07.251829Z",
     "iopub.status.idle": "2021-05-15T17:39:36.841578Z",
     "shell.execute_reply": "2021-05-15T17:39:36.842169Z"
    },
    "papermill": {
     "duration": 149.60829,
     "end_time": "2021-05-15T17:39:36.842514",
     "exception": false,
     "start_time": "2021-05-15T17:37:07.234224",
     "status": "completed"
    },
    "tags": []
   },
   "outputs": [],
   "source": [
    "#apt-get -y install libperlio-gzip-perl\n",
    "!conda install -c bioconda perl-perlio-gzip -y"
   ]
  },
  {
   "cell_type": "code",
   "execution_count": 7,
   "id": "offshore-transfer",
   "metadata": {
    "execution": {
     "iopub.execute_input": "2021-05-15T17:39:37.416917Z",
     "iopub.status.busy": "2021-05-15T17:39:37.416243Z",
     "iopub.status.idle": "2021-05-15T17:39:37.419489Z",
     "shell.execute_reply": "2021-05-15T17:39:37.418835Z"
    },
    "papermill": {
     "duration": 0.291293,
     "end_time": "2021-05-15T17:39:37.419631",
     "exception": false,
     "start_time": "2021-05-15T17:39:37.128338",
     "status": "completed"
    },
    "tags": []
   },
   "outputs": [],
   "source": [
    "import os\n",
    "#os.environ['LD_LIBRARY_PATH'] = f'{os.environ[\"LD_LIBRARY_PATH\"]}:/opt/kaldi/tools/openfst-1.6.7/lib:/opt/kaldi/src/lib'\n",
    "os.environ['LD_LIBRARY_PATH'] = '/opt/conda/lib:/opt/kaldi/tools/openfst-1.6.7/lib:/opt/kaldi/src/lib'"
   ]
  },
  {
   "cell_type": "code",
   "execution_count": 8,
   "id": "broke-subject",
   "metadata": {
    "execution": {
     "iopub.execute_input": "2021-05-15T17:39:37.997732Z",
     "iopub.status.busy": "2021-05-15T17:39:37.997051Z",
     "iopub.status.idle": "2021-05-15T17:39:39.451375Z",
     "shell.execute_reply": "2021-05-15T17:39:39.450731Z"
    },
    "papermill": {
     "duration": 1.747622,
     "end_time": "2021-05-15T17:39:39.451531",
     "exception": false,
     "start_time": "2021-05-15T17:39:37.703909",
     "status": "completed"
    },
    "tags": []
   },
   "outputs": [],
   "source": [
    "!cat path.sh|sed -e 's/~\\/apps/\\/opt/' > tmp\n",
    "!mv tmp path.sh"
   ]
  },
  {
   "cell_type": "code",
   "execution_count": 9,
   "id": "optional-claim",
   "metadata": {
    "execution": {
     "iopub.execute_input": "2021-05-15T17:39:40.029267Z",
     "iopub.status.busy": "2021-05-15T17:39:40.025595Z",
     "iopub.status.idle": "2021-05-15T17:39:40.733748Z",
     "shell.execute_reply": "2021-05-15T17:39:40.733151Z"
    },
    "papermill": {
     "duration": 0.999251,
     "end_time": "2021-05-15T17:39:40.733892",
     "exception": false,
     "start_time": "2021-05-15T17:39:39.734641",
     "status": "completed"
    },
    "tags": []
   },
   "outputs": [],
   "source": [
    "!echo > local_clarin/clarin_pl_clean.sh"
   ]
  },
  {
   "cell_type": "code",
   "execution_count": null,
   "id": "spectacular-minnesota",
   "metadata": {
    "execution": {
     "iopub.execute_input": "2021-05-15T17:39:41.307660Z",
     "iopub.status.busy": "2021-05-15T17:39:41.307051Z"
    },
    "papermill": {
     "duration": null,
     "end_time": null,
     "exception": false,
     "start_time": "2021-05-15T17:39:41.016708",
     "status": "running"
    },
    "tags": []
   },
   "outputs": [],
   "source": [
    "!sh run.sh"
   ]
  },
  {
   "cell_type": "code",
   "execution_count": null,
   "id": "still-venezuela",
   "metadata": {
    "papermill": {
     "duration": null,
     "end_time": null,
     "exception": null,
     "start_time": null,
     "status": "pending"
    },
    "tags": []
   },
   "outputs": [],
   "source": [
    "!mv exp /kaggle/working/"
   ]
  }
 ],
 "metadata": {
  "kernelspec": {
   "display_name": "Python 3",
   "language": "python",
   "name": "python3"
  },
  "language_info": {
   "codemirror_mode": {
    "name": "ipython",
    "version": 3
   },
   "file_extension": ".py",
   "mimetype": "text/x-python",
   "name": "python",
   "nbconvert_exporter": "python",
   "pygments_lexer": "ipython3",
   "version": "3.8.2"
  },
  "papermill": {
   "default_parameters": {},
   "duration": null,
   "end_time": null,
   "environment_variables": {},
   "exception": null,
   "input_path": "__notebook__.ipynb",
   "output_path": "__notebook__.ipynb",
   "parameters": {},
   "start_time": "2021-05-15T17:36:17.065536",
   "version": "2.3.3"
  }
 },
 "nbformat": 4,
 "nbformat_minor": 5
}
