{
 "cells": [
  {
   "cell_type": "code",
   "execution_count": 1,
   "id": "protected-right",
   "metadata": {
    "execution": {
     "iopub.execute_input": "2021-05-15T17:36:24.937971Z",
     "iopub.status.busy": "2021-05-15T17:36:24.936813Z",
     "iopub.status.idle": "2021-05-15T17:36:24.948617Z",
     "shell.execute_reply": "2021-05-15T17:36:24.947734Z"
    },
    "papermill": {
     "duration": 0.025057,
     "end_time": "2021-05-15T17:36:24.948828",
     "exception": false,
     "start_time": "2021-05-15T17:36:24.923771",
     "status": "completed"
    },
    "tags": []
   },
   "outputs": [
    {
     "name": "stdout",
     "output_type": "stream",
     "text": [
      "/opt\n"
     ]
    }
   ],
   "source": [
    "%cd /opt"
   ]
  },
  {
   "cell_type": "code",
   "execution_count": 2,
   "id": "gorgeous-breach",
   "metadata": {
    "_cell_guid": "b1076dfc-b9ad-4769-8c92-a6c4dae69d19",
    "_uuid": "8f2839f25d086af736a60e9eeb907d3b93b6e0e5",
    "execution": {
     "iopub.execute_input": "2021-05-15T17:36:24.973330Z",
     "iopub.status.busy": "2021-05-15T17:36:24.972686Z",
     "iopub.status.idle": "2021-05-15T17:37:00.668982Z",
     "shell.execute_reply": "2021-05-15T17:37:00.668378Z"
    },
    "papermill": {
     "duration": 35.710848,
     "end_time": "2021-05-15T17:37:00.669154",
     "exception": false,
     "start_time": "2021-05-15T17:36:24.958306",
     "status": "completed"
    },
    "tags": []
   },
   "outputs": [],
   "source": [
    "%%capture\n",
    "!tar xvf /kaggle/input/extract-prebuilt-kaldi-from-docker/kaldi.tar"
   ]
  },
  {
   "cell_type": "code",
   "execution_count": 3,
   "id": "bizarre-strike",
   "metadata": {
    "execution": {
     "iopub.execute_input": "2021-05-15T17:37:00.692394Z",
     "iopub.status.busy": "2021-05-15T17:37:00.691633Z",
     "iopub.status.idle": "2021-05-15T17:37:00.696694Z",
     "shell.execute_reply": "2021-05-15T17:37:00.695639Z"
    },
    "papermill": {
     "duration": 0.018746,
     "end_time": "2021-05-15T17:37:00.696919",
     "exception": false,
     "start_time": "2021-05-15T17:37:00.678173",
     "status": "completed"
    },
    "tags": []
   },
   "outputs": [
    {
     "name": "stdout",
     "output_type": "stream",
     "text": [
      "/opt/kaldi/egs\n"
     ]
    }
   ],
   "source": [
    "%cd kaldi/egs"
   ]
  },
  {
   "cell_type": "code",
   "execution_count": 4,
   "id": "featured-status",
   "metadata": {
    "execution": {
     "iopub.execute_input": "2021-05-15T17:37:00.718802Z",
     "iopub.status.busy": "2021-05-15T17:37:00.718182Z",
     "iopub.status.idle": "2021-05-15T17:37:07.180823Z",
     "shell.execute_reply": "2021-05-15T17:37:07.180129Z"
    },
    "papermill": {
     "duration": 6.474042,
     "end_time": "2021-05-15T17:37:07.180966",
     "exception": false,
     "start_time": "2021-05-15T17:37:00.706924",
     "status": "completed"
    },
    "tags": []
   },
   "outputs": [
    {
     "name": "stdout",
     "output_type": "stream",
     "text": [
      "Cloning into 'ClarinStudioKaldi'...\r\n"
     ]
    },
    {
     "name": "stdout",
     "output_type": "stream",
     "text": [
      "remote: Enumerating objects: 778, done.\u001b[K\r\n",
      "remote: Counting objects:  33% (1/3)\u001b[K\r",
      "remote: Counting objects:  66% (2/3)\u001b[K\r",
      "remote: Counting objects: 100% (3/3)\u001b[K\r",
      "remote: Counting objects: 100% (3/3), done.\u001b[K\r\n",
      "remote: Compressing objects:  33% (1/3)\u001b[K\r",
      "remote: Compressing objects:  66% (2/3)\u001b[K\r",
      "remote: Compressing objects: 100% (3/3)\u001b[K\r",
      "remote: Compressing objects: 100% (3/3), done.\u001b[K\r\n",
      "Receiving objects:   0% (1/778)   \r",
      "Receiving objects:   1% (8/778)   \r",
      "Receiving objects:   2% (16/778)   \r",
      "Receiving objects:   3% (24/778)   \r",
      "Receiving objects:   4% (32/778)   \r"
     ]
    },
    {
     "name": "stdout",
     "output_type": "stream",
     "text": [
      "Receiving objects:   5% (39/778)   \r",
      "Receiving objects:   6% (47/778)   \r",
      "Receiving objects:   7% (55/778)   \r",
      "Receiving objects:   8% (63/778)   \r"
     ]
    },
    {
     "name": "stdout",
     "output_type": "stream",
     "text": [
      "Receiving objects:   8% (67/778), 684.01 KiB | 641.00 KiB/s   \r"
     ]
    },
    {
     "name": "stdout",
     "output_type": "stream",
     "text": [
      "Receiving objects:   9% (71/778), 5.41 MiB | 3.40 MiB/s   \r",
      "Receiving objects:  10% (78/778), 5.41 MiB | 3.40 MiB/s   \r",
      "Receiving objects:  11% (86/778), 5.41 MiB | 3.40 MiB/s   \r"
     ]
    },
    {
     "name": "stdout",
     "output_type": "stream",
     "text": [
      "Receiving objects:  11% (91/778), 12.79 MiB | 6.01 MiB/s   \r"
     ]
    },
    {
     "name": "stdout",
     "output_type": "stream",
     "text": [
      "Receiving objects:  11% (91/778), 26.94 MiB | 8.44 MiB/s   \r"
     ]
    },
    {
     "name": "stdout",
     "output_type": "stream",
     "text": [
      "Receiving objects:  12% (94/778), 26.94 MiB | 8.44 MiB/s   \r",
      "Receiving objects:  13% (102/778), 26.94 MiB | 8.44 MiB/s   \r",
      "Receiving objects:  14% (109/778), 26.94 MiB | 8.44 MiB/s   \r",
      "Receiving objects:  15% (117/778), 26.94 MiB | 8.44 MiB/s   \r",
      "Receiving objects:  16% (125/778), 26.94 MiB | 8.44 MiB/s   \r",
      "Receiving objects:  17% (133/778), 26.94 MiB | 8.44 MiB/s   \r",
      "Receiving objects:  18% (141/778), 26.94 MiB | 8.44 MiB/s   \r",
      "Receiving objects:  19% (148/778), 26.94 MiB | 8.44 MiB/s   \r",
      "Receiving objects:  20% (156/778), 26.94 MiB | 8.44 MiB/s   \r",
      "Receiving objects:  21% (164/778), 26.94 MiB | 8.44 MiB/s   \r",
      "Receiving objects:  22% (172/778), 26.94 MiB | 8.44 MiB/s   \r",
      "Receiving objects:  23% (179/778), 26.94 MiB | 8.44 MiB/s   \r",
      "Receiving objects:  24% (187/778), 26.94 MiB | 8.44 MiB/s   \r",
      "Receiving objects:  25% (195/778), 26.94 MiB | 8.44 MiB/s   \r",
      "Receiving objects:  26% (203/778), 26.94 MiB | 8.44 MiB/s   \r",
      "Receiving objects:  27% (211/778), 26.94 MiB | 8.44 MiB/s   \r",
      "Receiving objects:  28% (218/778), 26.94 MiB | 8.44 MiB/s   \r",
      "Receiving objects:  29% (226/778), 26.94 MiB | 8.44 MiB/s   \r",
      "Receiving objects:  30% (234/778), 26.94 MiB | 8.44 MiB/s   \r",
      "Receiving objects:  31% (242/778), 26.94 MiB | 8.44 MiB/s   \r",
      "Receiving objects:  32% (249/778), 26.94 MiB | 8.44 MiB/s   \r",
      "Receiving objects:  33% (257/778), 26.94 MiB | 8.44 MiB/s   \r",
      "Receiving objects:  34% (265/778), 26.94 MiB | 8.44 MiB/s   \r",
      "Receiving objects:  35% (273/778), 26.94 MiB | 8.44 MiB/s   \r",
      "Receiving objects:  36% (281/778), 26.94 MiB | 8.44 MiB/s   \r",
      "Receiving objects:  37% (288/778), 26.94 MiB | 8.44 MiB/s   \r",
      "Receiving objects:  38% (296/778), 26.94 MiB | 8.44 MiB/s   \r",
      "Receiving objects:  39% (304/778), 26.94 MiB | 8.44 MiB/s   \r",
      "Receiving objects:  40% (312/778), 26.94 MiB | 8.44 MiB/s   \r",
      "Receiving objects:  41% (319/778), 26.94 MiB | 8.44 MiB/s   \r",
      "Receiving objects:  42% (327/778), 26.94 MiB | 8.44 MiB/s   \r",
      "Receiving objects:  43% (335/778), 26.94 MiB | 8.44 MiB/s   \r",
      "Receiving objects:  44% (343/778), 26.94 MiB | 8.44 MiB/s   \r",
      "Receiving objects:  45% (351/778), 26.94 MiB | 8.44 MiB/s   \r",
      "Receiving objects:  46% (358/778), 26.94 MiB | 8.44 MiB/s   \r",
      "Receiving objects:  47% (366/778), 26.94 MiB | 8.44 MiB/s   \r",
      "Receiving objects:  48% (374/778), 26.94 MiB | 8.44 MiB/s   \r",
      "Receiving objects:  49% (382/778), 26.94 MiB | 8.44 MiB/s   \r",
      "Receiving objects:  50% (389/778), 26.94 MiB | 8.44 MiB/s   \r",
      "Receiving objects:  51% (397/778), 26.94 MiB | 8.44 MiB/s   \r",
      "Receiving objects:  52% (405/778), 26.94 MiB | 8.44 MiB/s   \r",
      "Receiving objects:  53% (413/778), 26.94 MiB | 8.44 MiB/s   \r",
      "Receiving objects:  54% (421/778), 26.94 MiB | 8.44 MiB/s   \r",
      "Receiving objects:  55% (428/778), 26.94 MiB | 8.44 MiB/s   \r",
      "Receiving objects:  56% (436/778), 26.94 MiB | 8.44 MiB/s   \r",
      "Receiving objects:  57% (444/778), 26.94 MiB | 8.44 MiB/s   \r",
      "Receiving objects:  58% (452/778), 26.94 MiB | 8.44 MiB/s   \r",
      "Receiving objects:  59% (460/778), 26.94 MiB | 8.44 MiB/s   \r",
      "Receiving objects:  60% (467/778), 26.94 MiB | 8.44 MiB/s   \r",
      "Receiving objects:  61% (475/778), 26.94 MiB | 8.44 MiB/s   \r",
      "Receiving objects:  62% (483/778), 26.94 MiB | 8.44 MiB/s   \r",
      "Receiving objects:  63% (491/778), 26.94 MiB | 8.44 MiB/s   \r",
      "Receiving objects:  64% (498/778), 26.94 MiB | 8.44 MiB/s   \r",
      "Receiving objects:  65% (506/778), 26.94 MiB | 8.44 MiB/s   \r"
     ]
    },
    {
     "name": "stdout",
     "output_type": "stream",
     "text": [
      "Receiving objects:  66% (514/778), 26.94 MiB | 8.44 MiB/s   \r",
      "Receiving objects:  67% (522/778), 26.94 MiB | 8.44 MiB/s   \r",
      "Receiving objects:  68% (530/778), 26.94 MiB | 8.44 MiB/s   \r",
      "Receiving objects:  69% (537/778), 26.94 MiB | 8.44 MiB/s   \r",
      "Receiving objects:  70% (545/778), 26.94 MiB | 8.44 MiB/s   \r",
      "Receiving objects:  71% (553/778), 26.94 MiB | 8.44 MiB/s   \r",
      "Receiving objects:  72% (561/778), 26.94 MiB | 8.44 MiB/s   \r",
      "Receiving objects:  73% (568/778), 26.94 MiB | 8.44 MiB/s   \r",
      "Receiving objects:  74% (576/778), 26.94 MiB | 8.44 MiB/s   \r",
      "Receiving objects:  75% (584/778), 26.94 MiB | 8.44 MiB/s   \r",
      "Receiving objects:  76% (592/778), 26.94 MiB | 8.44 MiB/s   \r",
      "Receiving objects:  77% (600/778), 26.94 MiB | 8.44 MiB/s   \r",
      "Receiving objects:  78% (607/778), 26.94 MiB | 8.44 MiB/s   \r",
      "Receiving objects:  79% (615/778), 26.94 MiB | 8.44 MiB/s   \r",
      "Receiving objects:  80% (623/778), 26.94 MiB | 8.44 MiB/s   \r",
      "Receiving objects:  81% (631/778), 26.94 MiB | 8.44 MiB/s   \r",
      "Receiving objects:  82% (638/778), 26.94 MiB | 8.44 MiB/s   \r",
      "Receiving objects:  83% (646/778), 26.94 MiB | 8.44 MiB/s   \r",
      "Receiving objects:  84% (654/778), 26.94 MiB | 8.44 MiB/s   \r"
     ]
    },
    {
     "name": "stdout",
     "output_type": "stream",
     "text": [
      "Receiving objects:  85% (662/778), 33.96 MiB | 9.11 MiB/s   \r",
      "Receiving objects:  86% (670/778), 33.96 MiB | 9.11 MiB/s   \r",
      "Receiving objects:  87% (677/778), 33.96 MiB | 9.11 MiB/s   \r",
      "Receiving objects:  88% (685/778), 33.96 MiB | 9.11 MiB/s   \r"
     ]
    },
    {
     "name": "stdout",
     "output_type": "stream",
     "text": [
      "remote: Total 778 (delta 0), reused 0 (delta 0), pack-reused 775\u001b[K\r\n",
      "Receiving objects:  89% (693/778), 33.96 MiB | 9.11 MiB/s   \r",
      "Receiving objects:  90% (701/778), 33.96 MiB | 9.11 MiB/s   \r",
      "Receiving objects:  91% (708/778), 33.96 MiB | 9.11 MiB/s   \r",
      "Receiving objects:  92% (716/778), 33.96 MiB | 9.11 MiB/s   \r",
      "Receiving objects:  93% (724/778), 33.96 MiB | 9.11 MiB/s   \r",
      "Receiving objects:  94% (732/778), 33.96 MiB | 9.11 MiB/s   \r",
      "Receiving objects:  95% (740/778), 33.96 MiB | 9.11 MiB/s   \r",
      "Receiving objects:  96% (747/778), 33.96 MiB | 9.11 MiB/s   \r",
      "Receiving objects:  97% (755/778), 33.96 MiB | 9.11 MiB/s   \r",
      "Receiving objects:  98% (763/778), 33.96 MiB | 9.11 MiB/s   \r",
      "Receiving objects:  99% (771/778), 33.96 MiB | 9.11 MiB/s   \r",
      "Receiving objects: 100% (778/778), 33.96 MiB | 9.11 MiB/s   \r",
      "Receiving objects: 100% (778/778), 35.26 MiB | 9.33 MiB/s, done.\r\n",
      "Resolving deltas:   0% (0/262)   \r",
      "Resolving deltas:   1% (3/262)   \r",
      "Resolving deltas:   2% (7/262)   \r",
      "Resolving deltas:   4% (12/262)   \r",
      "Resolving deltas:   6% (16/262)   \r",
      "Resolving deltas:   8% (21/262)   \r",
      "Resolving deltas:   9% (26/262)   \r",
      "Resolving deltas:  11% (29/262)   \r",
      "Resolving deltas:  12% (32/262)   \r",
      "Resolving deltas:  14% (39/262)   \r",
      "Resolving deltas:  21% (57/262)   \r",
      "Resolving deltas:  24% (64/262)   \r",
      "Resolving deltas:  29% (78/262)   \r",
      "Resolving deltas:  37% (97/262)   \r",
      "Resolving deltas:  38% (101/262)   \r",
      "Resolving deltas:  43% (114/262)   \r",
      "Resolving deltas:  45% (118/262)   \r",
      "Resolving deltas:  46% (122/262)   \r",
      "Resolving deltas:  47% (124/262)   \r",
      "Resolving deltas:  49% (129/262)   \r",
      "Resolving deltas:  50% (133/262)   \r",
      "Resolving deltas:  51% (134/262)   \r",
      "Resolving deltas:  52% (137/262)   \r",
      "Resolving deltas:  53% (140/262)   \r",
      "Resolving deltas:  54% (143/262)   \r",
      "Resolving deltas:  55% (145/262)   \r",
      "Resolving deltas:  56% (147/262)   \r",
      "Resolving deltas:  57% (150/262)   \r",
      "Resolving deltas:  58% (154/262)   \r",
      "Resolving deltas:  59% (157/262)   \r",
      "Resolving deltas:  60% (158/262)   \r",
      "Resolving deltas:  61% (160/262)   \r",
      "Resolving deltas:  62% (163/262)   \r",
      "Resolving deltas:  63% (166/262)   \r",
      "Resolving deltas:  64% (168/262)   \r",
      "Resolving deltas:  65% (171/262)   \r",
      "Resolving deltas:  66% (174/262)   \r",
      "Resolving deltas:  67% (176/262)   \r",
      "Resolving deltas:  68% (179/262)   \r",
      "Resolving deltas:  69% (181/262)   \r",
      "Resolving deltas:  70% (184/262)   \r",
      "Resolving deltas:  72% (190/262)   \r",
      "Resolving deltas:  73% (192/262)   \r",
      "Resolving deltas:  74% (195/262)   \r",
      "Resolving deltas:  75% (198/262)   \r",
      "Resolving deltas:  76% (200/262)   \r",
      "Resolving deltas:  77% (203/262)   \r",
      "Resolving deltas:  78% (205/262)   \r",
      "Resolving deltas:  79% (207/262)   \r",
      "Resolving deltas:  80% (210/262)   \r",
      "Resolving deltas:  81% (213/262)   \r",
      "Resolving deltas:  82% (215/262)   \r",
      "Resolving deltas:  83% (218/262)   \r",
      "Resolving deltas:  84% (221/262)   \r",
      "Resolving deltas:  85% (223/262)   \r",
      "Resolving deltas:  86% (226/262)   \r",
      "Resolving deltas:  87% (228/262)   \r",
      "Resolving deltas:  88% (231/262)   \r",
      "Resolving deltas:  89% (234/262)   \r",
      "Resolving deltas:  91% (240/262)   \r",
      "Resolving deltas:  93% (244/262)   \r"
     ]
    },
    {
     "name": "stdout",
     "output_type": "stream",
     "text": [
      "Resolving deltas:  94% (247/262)   \r",
      "Resolving deltas:  95% (250/262)   \r",
      "Resolving deltas:  97% (256/262)   \r",
      "Resolving deltas:  98% (258/262)   \r"
     ]
    },
    {
     "name": "stdout",
     "output_type": "stream",
     "text": [
      "Resolving deltas: 100% (262/262)   \r",
      "Resolving deltas: 100% (262/262), done.\r\n"
     ]
    }
   ],
   "source": [
    "!git clone https://github.com/danijel3/ClarinStudioKaldi"
   ]
  },
  {
   "cell_type": "code",
   "execution_count": 5,
   "id": "infectious-builder",
   "metadata": {
    "execution": {
     "iopub.execute_input": "2021-05-15T17:37:07.213262Z",
     "iopub.status.busy": "2021-05-15T17:37:07.212599Z",
     "iopub.status.idle": "2021-05-15T17:37:07.218527Z",
     "shell.execute_reply": "2021-05-15T17:37:07.219394Z"
    },
    "papermill": {
     "duration": 0.025084,
     "end_time": "2021-05-15T17:37:07.219629",
     "exception": false,
     "start_time": "2021-05-15T17:37:07.194545",
     "status": "completed"
    },
    "tags": []
   },
   "outputs": [
    {
     "name": "stdout",
     "output_type": "stream",
     "text": [
      "/opt/kaldi/egs/ClarinStudioKaldi\n"
     ]
    }
   ],
   "source": [
    "%cd ClarinStudioKaldi"
   ]
  },
  {
   "cell_type": "code",
   "execution_count": 6,
   "id": "native-medicare",
   "metadata": {
    "execution": {
     "iopub.execute_input": "2021-05-15T17:37:07.255343Z",
     "iopub.status.busy": "2021-05-15T17:37:07.251829Z",
     "iopub.status.idle": "2021-05-15T17:39:36.841578Z",
     "shell.execute_reply": "2021-05-15T17:39:36.842169Z"
    },
    "papermill": {
     "duration": 149.60829,
     "end_time": "2021-05-15T17:39:36.842514",
     "exception": false,
     "start_time": "2021-05-15T17:37:07.234224",
     "status": "completed"
    },
    "tags": []
   },
   "outputs": [
    {
     "name": "stdout",
     "output_type": "stream",
     "text": [
      "Collecting package metadata (current_repodata.json): - "
     ]
    },
    {
     "name": "stdout",
     "output_type": "stream",
     "text": [
      "\b\b\\ "
     ]
    },
    {
     "name": "stdout",
     "output_type": "stream",
     "text": [
      "\b\b| "
     ]
    },
    {
     "name": "stdout",
     "output_type": "stream",
     "text": [
      "\b\b/ "
     ]
    },
    {
     "name": "stdout",
     "output_type": "stream",
     "text": [
      "\b\b- "
     ]
    },
    {
     "name": "stdout",
     "output_type": "stream",
     "text": [
      "\b\b\\ "
     ]
    },
    {
     "name": "stdout",
     "output_type": "stream",
     "text": [
      "\b\b| "
     ]
    },
    {
     "name": "stdout",
     "output_type": "stream",
     "text": [
      "\b\b/ "
     ]
    },
    {
     "name": "stdout",
     "output_type": "stream",
     "text": [
      "\b\b- "
     ]
    },
    {
     "name": "stdout",
     "output_type": "stream",
     "text": [
      "\b\b\\ "
     ]
    },
    {
     "name": "stdout",
     "output_type": "stream",
     "text": [
      "\b\b| "
     ]
    },
    {
     "name": "stdout",
     "output_type": "stream",
     "text": [
      "\b\b/ "
     ]
    },
    {
     "name": "stdout",
     "output_type": "stream",
     "text": [
      "\b\b- "
     ]
    },
    {
     "name": "stdout",
     "output_type": "stream",
     "text": [
      "\b\b\\ "
     ]
    },
    {
     "name": "stdout",
     "output_type": "stream",
     "text": [
      "\b\b| "
     ]
    },
    {
     "name": "stdout",
     "output_type": "stream",
     "text": [
      "\b\b/ "
     ]
    },
    {
     "name": "stdout",
     "output_type": "stream",
     "text": [
      "\b\b- "
     ]
    },
    {
     "name": "stdout",
     "output_type": "stream",
     "text": [
      "\b\b\\ "
     ]
    },
    {
     "name": "stdout",
     "output_type": "stream",
     "text": [
      "\b\b| "
     ]
    },
    {
     "name": "stdout",
     "output_type": "stream",
     "text": [
      "\b\b/ "
     ]
    },
    {
     "name": "stdout",
     "output_type": "stream",
     "text": [
      "\b\b- "
     ]
    },
    {
     "name": "stdout",
     "output_type": "stream",
     "text": [
      "\b\b\\ "
     ]
    },
    {
     "name": "stdout",
     "output_type": "stream",
     "text": [
      "\b\b| "
     ]
    },
    {
     "name": "stdout",
     "output_type": "stream",
     "text": [
      "\b\b/ "
     ]
    },
    {
     "name": "stdout",
     "output_type": "stream",
     "text": [
      "\b\b- "
     ]
    },
    {
     "name": "stdout",
     "output_type": "stream",
     "text": [
      "\b\b\\ "
     ]
    },
    {
     "name": "stdout",
     "output_type": "stream",
     "text": [
      "\b\b| "
     ]
    },
    {
     "name": "stdout",
     "output_type": "stream",
     "text": [
      "\b\b/ "
     ]
    },
    {
     "name": "stdout",
     "output_type": "stream",
     "text": [
      "\b\b- "
     ]
    },
    {
     "name": "stdout",
     "output_type": "stream",
     "text": [
      "\b\b\\ "
     ]
    },
    {
     "name": "stdout",
     "output_type": "stream",
     "text": [
      "\b\b| "
     ]
    },
    {
     "name": "stdout",
     "output_type": "stream",
     "text": [
      "\b\b/ "
     ]
    },
    {
     "name": "stdout",
     "output_type": "stream",
     "text": [
      "\b\b- "
     ]
    },
    {
     "name": "stdout",
     "output_type": "stream",
     "text": [
      "\b\b\\ "
     ]
    },
    {
     "name": "stdout",
     "output_type": "stream",
     "text": [
      "\b\b| "
     ]
    },
    {
     "name": "stdout",
     "output_type": "stream",
     "text": [
      "\b\b/ "
     ]
    },
    {
     "name": "stdout",
     "output_type": "stream",
     "text": [
      "\b\b- "
     ]
    },
    {
     "name": "stdout",
     "output_type": "stream",
     "text": [
      "\b\b\\ "
     ]
    },
    {
     "name": "stdout",
     "output_type": "stream",
     "text": [
      "\b\b| "
     ]
    },
    {
     "name": "stdout",
     "output_type": "stream",
     "text": [
      "\b\b/ "
     ]
    },
    {
     "name": "stdout",
     "output_type": "stream",
     "text": [
      "\b\b- "
     ]
    },
    {
     "name": "stdout",
     "output_type": "stream",
     "text": [
      "\b\b\\ "
     ]
    },
    {
     "name": "stdout",
     "output_type": "stream",
     "text": [
      "\b\b| "
     ]
    },
    {
     "name": "stdout",
     "output_type": "stream",
     "text": [
      "\b\b/ "
     ]
    },
    {
     "name": "stdout",
     "output_type": "stream",
     "text": [
      "\b\b- "
     ]
    },
    {
     "name": "stdout",
     "output_type": "stream",
     "text": [
      "\b\b\\ "
     ]
    },
    {
     "name": "stdout",
     "output_type": "stream",
     "text": [
      "\b\b| "
     ]
    },
    {
     "name": "stdout",
     "output_type": "stream",
     "text": [
      "\b\b/ "
     ]
    },
    {
     "name": "stdout",
     "output_type": "stream",
     "text": [
      "\b\b- "
     ]
    },
    {
     "name": "stdout",
     "output_type": "stream",
     "text": [
      "\b\b\\ "
     ]
    },
    {
     "name": "stdout",
     "output_type": "stream",
     "text": [
      "\b\b| "
     ]
    },
    {
     "name": "stdout",
     "output_type": "stream",
     "text": [
      "\b\b/ "
     ]
    },
    {
     "name": "stdout",
     "output_type": "stream",
     "text": [
      "\b\b- "
     ]
    },
    {
     "name": "stdout",
     "output_type": "stream",
     "text": [
      "\b\b\\ "
     ]
    },
    {
     "name": "stdout",
     "output_type": "stream",
     "text": [
      "\b\b| "
     ]
    },
    {
     "name": "stdout",
     "output_type": "stream",
     "text": [
      "\b\b/ "
     ]
    },
    {
     "name": "stdout",
     "output_type": "stream",
     "text": [
      "\b\b- "
     ]
    },
    {
     "name": "stdout",
     "output_type": "stream",
     "text": [
      "\b\b\\ "
     ]
    },
    {
     "name": "stdout",
     "output_type": "stream",
     "text": [
      "\b\b| "
     ]
    },
    {
     "name": "stdout",
     "output_type": "stream",
     "text": [
      "\b\b/ "
     ]
    },
    {
     "name": "stdout",
     "output_type": "stream",
     "text": [
      "\b\b- "
     ]
    },
    {
     "name": "stdout",
     "output_type": "stream",
     "text": [
      "\b\b\\ "
     ]
    },
    {
     "name": "stdout",
     "output_type": "stream",
     "text": [
      "\b\b| "
     ]
    },
    {
     "name": "stdout",
     "output_type": "stream",
     "text": [
      "\b\b/ "
     ]
    },
    {
     "name": "stdout",
     "output_type": "stream",
     "text": [
      "\b\b- "
     ]
    },
    {
     "name": "stdout",
     "output_type": "stream",
     "text": [
      "\b\b\\ "
     ]
    },
    {
     "name": "stdout",
     "output_type": "stream",
     "text": [
      "\b\b| "
     ]
    },
    {
     "name": "stdout",
     "output_type": "stream",
     "text": [
      "\b\b/ "
     ]
    },
    {
     "name": "stdout",
     "output_type": "stream",
     "text": [
      "\b\b- "
     ]
    },
    {
     "name": "stdout",
     "output_type": "stream",
     "text": [
      "\b\b\\ "
     ]
    },
    {
     "name": "stdout",
     "output_type": "stream",
     "text": [
      "\b\b| "
     ]
    },
    {
     "name": "stdout",
     "output_type": "stream",
     "text": [
      "\b\b/ "
     ]
    },
    {
     "name": "stdout",
     "output_type": "stream",
     "text": [
      "\b\b- "
     ]
    },
    {
     "name": "stdout",
     "output_type": "stream",
     "text": [
      "\b\b\\ "
     ]
    },
    {
     "name": "stdout",
     "output_type": "stream",
     "text": [
      "\b\b| "
     ]
    },
    {
     "name": "stdout",
     "output_type": "stream",
     "text": [
      "\b\b/ "
     ]
    },
    {
     "name": "stdout",
     "output_type": "stream",
     "text": [
      "\b\b- "
     ]
    },
    {
     "name": "stdout",
     "output_type": "stream",
     "text": [
      "\b\b\\ "
     ]
    },
    {
     "name": "stdout",
     "output_type": "stream",
     "text": [
      "\b\b| "
     ]
    },
    {
     "name": "stdout",
     "output_type": "stream",
     "text": [
      "\b\b/ "
     ]
    },
    {
     "name": "stdout",
     "output_type": "stream",
     "text": [
      "\b\b- "
     ]
    },
    {
     "name": "stdout",
     "output_type": "stream",
     "text": [
      "\b\b\\ "
     ]
    },
    {
     "name": "stdout",
     "output_type": "stream",
     "text": [
      "\b\b| "
     ]
    },
    {
     "name": "stdout",
     "output_type": "stream",
     "text": [
      "\b\b/ "
     ]
    },
    {
     "name": "stdout",
     "output_type": "stream",
     "text": [
      "\b\b- "
     ]
    },
    {
     "name": "stdout",
     "output_type": "stream",
     "text": [
      "\b\b\\ "
     ]
    },
    {
     "name": "stdout",
     "output_type": "stream",
     "text": [
      "\b\b| "
     ]
    },
    {
     "name": "stdout",
     "output_type": "stream",
     "text": [
      "\b\b/ "
     ]
    },
    {
     "name": "stdout",
     "output_type": "stream",
     "text": [
      "\b\b- "
     ]
    },
    {
     "name": "stdout",
     "output_type": "stream",
     "text": [
      "\b\b\\ "
     ]
    },
    {
     "name": "stdout",
     "output_type": "stream",
     "text": [
      "\b\b| "
     ]
    },
    {
     "name": "stdout",
     "output_type": "stream",
     "text": [
      "\b\b/ "
     ]
    },
    {
     "name": "stdout",
     "output_type": "stream",
     "text": [
      "\b\b- "
     ]
    },
    {
     "name": "stdout",
     "output_type": "stream",
     "text": [
      "\b\b\\ "
     ]
    },
    {
     "name": "stdout",
     "output_type": "stream",
     "text": [
      "\b\b| "
     ]
    },
    {
     "name": "stdout",
     "output_type": "stream",
     "text": [
      "\b\b/ "
     ]
    },
    {
     "name": "stdout",
     "output_type": "stream",
     "text": [
      "\b\b- "
     ]
    },
    {
     "name": "stdout",
     "output_type": "stream",
     "text": [
      "\b\b\\ "
     ]
    },
    {
     "name": "stdout",
     "output_type": "stream",
     "text": [
      "\b\b| "
     ]
    },
    {
     "name": "stdout",
     "output_type": "stream",
     "text": [
      "\b\b/ "
     ]
    },
    {
     "name": "stdout",
     "output_type": "stream",
     "text": [
      "\b\b- "
     ]
    },
    {
     "name": "stdout",
     "output_type": "stream",
     "text": [
      "\b\b\\ "
     ]
    },
    {
     "name": "stdout",
     "output_type": "stream",
     "text": [
      "\b\b| "
     ]
    },
    {
     "name": "stdout",
     "output_type": "stream",
     "text": [
      "\b\b/ "
     ]
    },
    {
     "name": "stdout",
     "output_type": "stream",
     "text": [
      "\b\b- "
     ]
    },
    {
     "name": "stdout",
     "output_type": "stream",
     "text": [
      "\b\b\\ "
     ]
    },
    {
     "name": "stdout",
     "output_type": "stream",
     "text": [
      "\b\b| "
     ]
    },
    {
     "name": "stdout",
     "output_type": "stream",
     "text": [
      "\b\b/ "
     ]
    },
    {
     "name": "stdout",
     "output_type": "stream",
     "text": [
      "\b\b- "
     ]
    },
    {
     "name": "stdout",
     "output_type": "stream",
     "text": [
      "\b\b\\ "
     ]
    },
    {
     "name": "stdout",
     "output_type": "stream",
     "text": [
      "\b\b| "
     ]
    },
    {
     "name": "stdout",
     "output_type": "stream",
     "text": [
      "\b\b/ "
     ]
    },
    {
     "name": "stdout",
     "output_type": "stream",
     "text": [
      "\b\b- "
     ]
    },
    {
     "name": "stdout",
     "output_type": "stream",
     "text": [
      "\b\b\\ "
     ]
    },
    {
     "name": "stdout",
     "output_type": "stream",
     "text": [
      "\b\b| "
     ]
    },
    {
     "name": "stdout",
     "output_type": "stream",
     "text": [
      "\b\b/ "
     ]
    },
    {
     "name": "stdout",
     "output_type": "stream",
     "text": [
      "\b\b- "
     ]
    },
    {
     "name": "stdout",
     "output_type": "stream",
     "text": [
      "\b\b\\ "
     ]
    },
    {
     "name": "stdout",
     "output_type": "stream",
     "text": [
      "\b\b| "
     ]
    },
    {
     "name": "stdout",
     "output_type": "stream",
     "text": [
      "\b\b/ "
     ]
    },
    {
     "name": "stdout",
     "output_type": "stream",
     "text": [
      "\b\b- "
     ]
    },
    {
     "name": "stdout",
     "output_type": "stream",
     "text": [
      "\b\b\\ "
     ]
    },
    {
     "name": "stdout",
     "output_type": "stream",
     "text": [
      "\b\b| "
     ]
    },
    {
     "name": "stdout",
     "output_type": "stream",
     "text": [
      "\b\b/ "
     ]
    },
    {
     "name": "stdout",
     "output_type": "stream",
     "text": [
      "\b\b- "
     ]
    },
    {
     "name": "stdout",
     "output_type": "stream",
     "text": [
      "\b\b\\ "
     ]
    },
    {
     "name": "stdout",
     "output_type": "stream",
     "text": [
      "\b\b| "
     ]
    },
    {
     "name": "stdout",
     "output_type": "stream",
     "text": [
      "\b\b/ "
     ]
    },
    {
     "name": "stdout",
     "output_type": "stream",
     "text": [
      "\b\b- "
     ]
    },
    {
     "name": "stdout",
     "output_type": "stream",
     "text": [
      "\b\b\\ "
     ]
    },
    {
     "name": "stdout",
     "output_type": "stream",
     "text": [
      "\b\b| "
     ]
    },
    {
     "name": "stdout",
     "output_type": "stream",
     "text": [
      "\b\b/ "
     ]
    },
    {
     "name": "stdout",
     "output_type": "stream",
     "text": [
      "\b\b- "
     ]
    },
    {
     "name": "stdout",
     "output_type": "stream",
     "text": [
      "\b\b\\ "
     ]
    },
    {
     "name": "stdout",
     "output_type": "stream",
     "text": [
      "\b\b| "
     ]
    },
    {
     "name": "stdout",
     "output_type": "stream",
     "text": [
      "\b\b/ "
     ]
    },
    {
     "name": "stdout",
     "output_type": "stream",
     "text": [
      "\b\b- "
     ]
    },
    {
     "name": "stdout",
     "output_type": "stream",
     "text": [
      "\b\b\\ "
     ]
    },
    {
     "name": "stdout",
     "output_type": "stream",
     "text": [
      "\b\b| "
     ]
    },
    {
     "name": "stdout",
     "output_type": "stream",
     "text": [
      "\b\b/ "
     ]
    },
    {
     "name": "stdout",
     "output_type": "stream",
     "text": [
      "\b\b- "
     ]
    },
    {
     "name": "stdout",
     "output_type": "stream",
     "text": [
      "\b\b\\ "
     ]
    },
    {
     "name": "stdout",
     "output_type": "stream",
     "text": [
      "\b\b| "
     ]
    },
    {
     "name": "stdout",
     "output_type": "stream",
     "text": [
      "\b\b/ "
     ]
    },
    {
     "name": "stdout",
     "output_type": "stream",
     "text": [
      "\b\b- "
     ]
    },
    {
     "name": "stdout",
     "output_type": "stream",
     "text": [
      "\b\b\\ "
     ]
    },
    {
     "name": "stdout",
     "output_type": "stream",
     "text": [
      "\b\b| "
     ]
    },
    {
     "name": "stdout",
     "output_type": "stream",
     "text": [
      "\b\b/ "
     ]
    },
    {
     "name": "stdout",
     "output_type": "stream",
     "text": [
      "\b\b- "
     ]
    },
    {
     "name": "stdout",
     "output_type": "stream",
     "text": [
      "\b\b\\ "
     ]
    },
    {
     "name": "stdout",
     "output_type": "stream",
     "text": [
      "\b\b| "
     ]
    },
    {
     "name": "stdout",
     "output_type": "stream",
     "text": [
      "\b\b/ "
     ]
    },
    {
     "name": "stdout",
     "output_type": "stream",
     "text": [
      "\b\b- "
     ]
    },
    {
     "name": "stdout",
     "output_type": "stream",
     "text": [
      "\b\b\\ "
     ]
    },
    {
     "name": "stdout",
     "output_type": "stream",
     "text": [
      "\b\b| "
     ]
    },
    {
     "name": "stdout",
     "output_type": "stream",
     "text": [
      "\b\b/ "
     ]
    },
    {
     "name": "stdout",
     "output_type": "stream",
     "text": [
      "\b\b- "
     ]
    },
    {
     "name": "stdout",
     "output_type": "stream",
     "text": [
      "\b\b\\ "
     ]
    },
    {
     "name": "stdout",
     "output_type": "stream",
     "text": [
      "\b\b| "
     ]
    },
    {
     "name": "stdout",
     "output_type": "stream",
     "text": [
      "\b\b/ "
     ]
    },
    {
     "name": "stdout",
     "output_type": "stream",
     "text": [
      "\b\b- "
     ]
    },
    {
     "name": "stdout",
     "output_type": "stream",
     "text": [
      "\b\b\\ "
     ]
    },
    {
     "name": "stdout",
     "output_type": "stream",
     "text": [
      "\b\b| "
     ]
    },
    {
     "name": "stdout",
     "output_type": "stream",
     "text": [
      "\b\b/ "
     ]
    },
    {
     "name": "stdout",
     "output_type": "stream",
     "text": [
      "\b\b- "
     ]
    },
    {
     "name": "stdout",
     "output_type": "stream",
     "text": [
      "\b\b\\ "
     ]
    },
    {
     "name": "stdout",
     "output_type": "stream",
     "text": [
      "\b\b| "
     ]
    },
    {
     "name": "stdout",
     "output_type": "stream",
     "text": [
      "\b\b/ "
     ]
    },
    {
     "name": "stdout",
     "output_type": "stream",
     "text": [
      "\b\b- "
     ]
    },
    {
     "name": "stdout",
     "output_type": "stream",
     "text": [
      "\b\b\\ "
     ]
    },
    {
     "name": "stdout",
     "output_type": "stream",
     "text": [
      "\b\b| "
     ]
    },
    {
     "name": "stdout",
     "output_type": "stream",
     "text": [
      "\b\b/ "
     ]
    },
    {
     "name": "stdout",
     "output_type": "stream",
     "text": [
      "\b\b- "
     ]
    },
    {
     "name": "stdout",
     "output_type": "stream",
     "text": [
      "\b\b\\ "
     ]
    },
    {
     "name": "stdout",
     "output_type": "stream",
     "text": [
      "\b\b| "
     ]
    },
    {
     "name": "stdout",
     "output_type": "stream",
     "text": [
      "\b\bdone\r\n",
      "Solving environment: - "
     ]
    },
    {
     "name": "stdout",
     "output_type": "stream",
     "text": [
      "\b\b\\ "
     ]
    },
    {
     "name": "stdout",
     "output_type": "stream",
     "text": [
      "\b\b| "
     ]
    },
    {
     "name": "stdout",
     "output_type": "stream",
     "text": [
      "\b\b/ "
     ]
    },
    {
     "name": "stdout",
     "output_type": "stream",
     "text": [
      "\b\b- "
     ]
    },
    {
     "name": "stdout",
     "output_type": "stream",
     "text": [
      "\b\b\\ "
     ]
    },
    {
     "name": "stdout",
     "output_type": "stream",
     "text": [
      "\b\b| "
     ]
    },
    {
     "name": "stdout",
     "output_type": "stream",
     "text": [
      "\b\b/ "
     ]
    },
    {
     "name": "stdout",
     "output_type": "stream",
     "text": [
      "\b\b- "
     ]
    },
    {
     "name": "stdout",
     "output_type": "stream",
     "text": [
      "\b\b\\ "
     ]
    },
    {
     "name": "stdout",
     "output_type": "stream",
     "text": [
      "\b\b| "
     ]
    },
    {
     "name": "stdout",
     "output_type": "stream",
     "text": [
      "\b\b/ "
     ]
    },
    {
     "name": "stdout",
     "output_type": "stream",
     "text": [
      "\b\b- "
     ]
    },
    {
     "name": "stdout",
     "output_type": "stream",
     "text": [
      "\b\b\\ "
     ]
    },
    {
     "name": "stdout",
     "output_type": "stream",
     "text": [
      "\b\b| "
     ]
    },
    {
     "name": "stdout",
     "output_type": "stream",
     "text": [
      "\b\b/ "
     ]
    },
    {
     "name": "stdout",
     "output_type": "stream",
     "text": [
      "\b\b- "
     ]
    },
    {
     "name": "stdout",
     "output_type": "stream",
     "text": [
      "\b\b\\ "
     ]
    },
    {
     "name": "stdout",
     "output_type": "stream",
     "text": [
      "\b\b| "
     ]
    },
    {
     "name": "stdout",
     "output_type": "stream",
     "text": [
      "\b\b/ "
     ]
    },
    {
     "name": "stdout",
     "output_type": "stream",
     "text": [
      "\b\b- "
     ]
    },
    {
     "name": "stdout",
     "output_type": "stream",
     "text": [
      "\b\b\\ "
     ]
    },
    {
     "name": "stdout",
     "output_type": "stream",
     "text": [
      "\b\b| "
     ]
    },
    {
     "name": "stdout",
     "output_type": "stream",
     "text": [
      "\b\b/ "
     ]
    },
    {
     "name": "stdout",
     "output_type": "stream",
     "text": [
      "\b\b- "
     ]
    },
    {
     "name": "stdout",
     "output_type": "stream",
     "text": [
      "\b\b\\ "
     ]
    },
    {
     "name": "stdout",
     "output_type": "stream",
     "text": [
      "\b\b| "
     ]
    },
    {
     "name": "stdout",
     "output_type": "stream",
     "text": [
      "\b\b/ "
     ]
    },
    {
     "name": "stdout",
     "output_type": "stream",
     "text": [
      "\b\b- "
     ]
    },
    {
     "name": "stdout",
     "output_type": "stream",
     "text": [
      "\b\b\\ "
     ]
    },
    {
     "name": "stdout",
     "output_type": "stream",
     "text": [
      "\b\b| "
     ]
    },
    {
     "name": "stdout",
     "output_type": "stream",
     "text": [
      "\b\b/ "
     ]
    },
    {
     "name": "stdout",
     "output_type": "stream",
     "text": [
      "\b\b- "
     ]
    },
    {
     "name": "stdout",
     "output_type": "stream",
     "text": [
      "\b\b\\ "
     ]
    },
    {
     "name": "stdout",
     "output_type": "stream",
     "text": [
      "\b\b| "
     ]
    },
    {
     "name": "stdout",
     "output_type": "stream",
     "text": [
      "\b\b/ "
     ]
    },
    {
     "name": "stdout",
     "output_type": "stream",
     "text": [
      "\b\b- "
     ]
    },
    {
     "name": "stdout",
     "output_type": "stream",
     "text": [
      "\b\b\\ "
     ]
    },
    {
     "name": "stdout",
     "output_type": "stream",
     "text": [
      "\b\b| "
     ]
    },
    {
     "name": "stdout",
     "output_type": "stream",
     "text": [
      "\b\b/ "
     ]
    },
    {
     "name": "stdout",
     "output_type": "stream",
     "text": [
      "\b\b- "
     ]
    },
    {
     "name": "stdout",
     "output_type": "stream",
     "text": [
      "\b\b\\ "
     ]
    },
    {
     "name": "stdout",
     "output_type": "stream",
     "text": [
      "\b\b| "
     ]
    },
    {
     "name": "stdout",
     "output_type": "stream",
     "text": [
      "\b\b/ "
     ]
    },
    {
     "name": "stdout",
     "output_type": "stream",
     "text": [
      "\b\b- "
     ]
    },
    {
     "name": "stdout",
     "output_type": "stream",
     "text": [
      "\b\b\\ "
     ]
    },
    {
     "name": "stdout",
     "output_type": "stream",
     "text": [
      "\b\b| "
     ]
    },
    {
     "name": "stdout",
     "output_type": "stream",
     "text": [
      "\b\b/ "
     ]
    },
    {
     "name": "stdout",
     "output_type": "stream",
     "text": [
      "\b\b- "
     ]
    },
    {
     "name": "stdout",
     "output_type": "stream",
     "text": [
      "\b\b\\ "
     ]
    },
    {
     "name": "stdout",
     "output_type": "stream",
     "text": [
      "\b\b| "
     ]
    },
    {
     "name": "stdout",
     "output_type": "stream",
     "text": [
      "\b\b/ "
     ]
    },
    {
     "name": "stdout",
     "output_type": "stream",
     "text": [
      "\b\b- "
     ]
    },
    {
     "name": "stdout",
     "output_type": "stream",
     "text": [
      "\b\b\\ "
     ]
    },
    {
     "name": "stdout",
     "output_type": "stream",
     "text": [
      "\b\b| "
     ]
    },
    {
     "name": "stdout",
     "output_type": "stream",
     "text": [
      "\b\b/ "
     ]
    },
    {
     "name": "stdout",
     "output_type": "stream",
     "text": [
      "\b\b- "
     ]
    },
    {
     "name": "stdout",
     "output_type": "stream",
     "text": [
      "\b\b\\ "
     ]
    },
    {
     "name": "stdout",
     "output_type": "stream",
     "text": [
      "\b\b| "
     ]
    },
    {
     "name": "stdout",
     "output_type": "stream",
     "text": [
      "\b\b/ "
     ]
    },
    {
     "name": "stdout",
     "output_type": "stream",
     "text": [
      "\b\b- "
     ]
    },
    {
     "name": "stdout",
     "output_type": "stream",
     "text": [
      "\b\b\\ "
     ]
    },
    {
     "name": "stdout",
     "output_type": "stream",
     "text": [
      "\b\b| "
     ]
    },
    {
     "name": "stdout",
     "output_type": "stream",
     "text": [
      "\b\b/ "
     ]
    },
    {
     "name": "stdout",
     "output_type": "stream",
     "text": [
      "\b\b- "
     ]
    },
    {
     "name": "stdout",
     "output_type": "stream",
     "text": [
      "\b\b\\ "
     ]
    },
    {
     "name": "stdout",
     "output_type": "stream",
     "text": [
      "\b\b| "
     ]
    },
    {
     "name": "stdout",
     "output_type": "stream",
     "text": [
      "\b\b/ "
     ]
    },
    {
     "name": "stdout",
     "output_type": "stream",
     "text": [
      "\b\b- "
     ]
    },
    {
     "name": "stdout",
     "output_type": "stream",
     "text": [
      "\b\b\\ "
     ]
    },
    {
     "name": "stdout",
     "output_type": "stream",
     "text": [
      "\b\b| "
     ]
    },
    {
     "name": "stdout",
     "output_type": "stream",
     "text": [
      "\b\b/ "
     ]
    },
    {
     "name": "stdout",
     "output_type": "stream",
     "text": [
      "\b\b- "
     ]
    },
    {
     "name": "stdout",
     "output_type": "stream",
     "text": [
      "\b\b\\ "
     ]
    },
    {
     "name": "stdout",
     "output_type": "stream",
     "text": [
      "\b\b| "
     ]
    },
    {
     "name": "stdout",
     "output_type": "stream",
     "text": [
      "\b\b/ "
     ]
    },
    {
     "name": "stdout",
     "output_type": "stream",
     "text": [
      "\b\b- "
     ]
    },
    {
     "name": "stdout",
     "output_type": "stream",
     "text": [
      "\b\b\\ "
     ]
    },
    {
     "name": "stdout",
     "output_type": "stream",
     "text": [
      "\b\b| "
     ]
    },
    {
     "name": "stdout",
     "output_type": "stream",
     "text": [
      "\b\b/ "
     ]
    },
    {
     "name": "stdout",
     "output_type": "stream",
     "text": [
      "\b\b- "
     ]
    },
    {
     "name": "stdout",
     "output_type": "stream",
     "text": [
      "\b\b\\ "
     ]
    },
    {
     "name": "stdout",
     "output_type": "stream",
     "text": [
      "\b\b| "
     ]
    },
    {
     "name": "stdout",
     "output_type": "stream",
     "text": [
      "\b\b/ "
     ]
    },
    {
     "name": "stdout",
     "output_type": "stream",
     "text": [
      "\b\b- "
     ]
    },
    {
     "name": "stdout",
     "output_type": "stream",
     "text": [
      "\b\b\\ "
     ]
    },
    {
     "name": "stdout",
     "output_type": "stream",
     "text": [
      "\b\b| "
     ]
    },
    {
     "name": "stdout",
     "output_type": "stream",
     "text": [
      "\b\b/ "
     ]
    },
    {
     "name": "stdout",
     "output_type": "stream",
     "text": [
      "\b\b- "
     ]
    },
    {
     "name": "stdout",
     "output_type": "stream",
     "text": [
      "\b\b\\ "
     ]
    },
    {
     "name": "stdout",
     "output_type": "stream",
     "text": [
      "\b\b| "
     ]
    },
    {
     "name": "stdout",
     "output_type": "stream",
     "text": [
      "\b\b/ "
     ]
    },
    {
     "name": "stdout",
     "output_type": "stream",
     "text": [
      "\b\b- "
     ]
    },
    {
     "name": "stdout",
     "output_type": "stream",
     "text": [
      "\b\b\\ "
     ]
    },
    {
     "name": "stdout",
     "output_type": "stream",
     "text": [
      "\b\b| "
     ]
    },
    {
     "name": "stdout",
     "output_type": "stream",
     "text": [
      "\b\b/ "
     ]
    },
    {
     "name": "stdout",
     "output_type": "stream",
     "text": [
      "\b\b- "
     ]
    },
    {
     "name": "stdout",
     "output_type": "stream",
     "text": [
      "\b\b\\ "
     ]
    },
    {
     "name": "stdout",
     "output_type": "stream",
     "text": [
      "\b\b| "
     ]
    },
    {
     "name": "stdout",
     "output_type": "stream",
     "text": [
      "\b\b/ "
     ]
    },
    {
     "name": "stdout",
     "output_type": "stream",
     "text": [
      "\b\b- "
     ]
    },
    {
     "name": "stdout",
     "output_type": "stream",
     "text": [
      "\b\b\\ "
     ]
    },
    {
     "name": "stdout",
     "output_type": "stream",
     "text": [
      "\b\b| "
     ]
    },
    {
     "name": "stdout",
     "output_type": "stream",
     "text": [
      "\b\b/ "
     ]
    },
    {
     "name": "stdout",
     "output_type": "stream",
     "text": [
      "\b\b- "
     ]
    },
    {
     "name": "stdout",
     "output_type": "stream",
     "text": [
      "\b\b\\ "
     ]
    },
    {
     "name": "stdout",
     "output_type": "stream",
     "text": [
      "\b\b| "
     ]
    },
    {
     "name": "stdout",
     "output_type": "stream",
     "text": [
      "\b\b/ "
     ]
    },
    {
     "name": "stdout",
     "output_type": "stream",
     "text": [
      "\b\b- "
     ]
    },
    {
     "name": "stdout",
     "output_type": "stream",
     "text": [
      "\b\b\\ "
     ]
    },
    {
     "name": "stdout",
     "output_type": "stream",
     "text": [
      "\b\b| "
     ]
    },
    {
     "name": "stdout",
     "output_type": "stream",
     "text": [
      "\b\b/ "
     ]
    },
    {
     "name": "stdout",
     "output_type": "stream",
     "text": [
      "\b\b- "
     ]
    },
    {
     "name": "stdout",
     "output_type": "stream",
     "text": [
      "\b\b\\ "
     ]
    },
    {
     "name": "stdout",
     "output_type": "stream",
     "text": [
      "\b\b| "
     ]
    },
    {
     "name": "stdout",
     "output_type": "stream",
     "text": [
      "\b\b/ "
     ]
    },
    {
     "name": "stdout",
     "output_type": "stream",
     "text": [
      "\b\b- "
     ]
    },
    {
     "name": "stdout",
     "output_type": "stream",
     "text": [
      "\b\b\\ "
     ]
    },
    {
     "name": "stdout",
     "output_type": "stream",
     "text": [
      "\b\b| "
     ]
    },
    {
     "name": "stdout",
     "output_type": "stream",
     "text": [
      "\b\b/ "
     ]
    },
    {
     "name": "stdout",
     "output_type": "stream",
     "text": [
      "\b\b- "
     ]
    },
    {
     "name": "stdout",
     "output_type": "stream",
     "text": [
      "\b\b\\ "
     ]
    },
    {
     "name": "stdout",
     "output_type": "stream",
     "text": [
      "\b\b| "
     ]
    },
    {
     "name": "stdout",
     "output_type": "stream",
     "text": [
      "\b\b/ "
     ]
    },
    {
     "name": "stdout",
     "output_type": "stream",
     "text": [
      "\b\b- "
     ]
    },
    {
     "name": "stdout",
     "output_type": "stream",
     "text": [
      "\b\b\\ "
     ]
    },
    {
     "name": "stdout",
     "output_type": "stream",
     "text": [
      "\b\b| "
     ]
    },
    {
     "name": "stdout",
     "output_type": "stream",
     "text": [
      "\b\b/ "
     ]
    },
    {
     "name": "stdout",
     "output_type": "stream",
     "text": [
      "\b\b- "
     ]
    },
    {
     "name": "stdout",
     "output_type": "stream",
     "text": [
      "\b\b\\ "
     ]
    },
    {
     "name": "stdout",
     "output_type": "stream",
     "text": [
      "\b\b| "
     ]
    },
    {
     "name": "stdout",
     "output_type": "stream",
     "text": [
      "\b\b/ "
     ]
    },
    {
     "name": "stdout",
     "output_type": "stream",
     "text": [
      "\b\b- "
     ]
    },
    {
     "name": "stdout",
     "output_type": "stream",
     "text": [
      "\b\b\\ "
     ]
    },
    {
     "name": "stdout",
     "output_type": "stream",
     "text": [
      "\b\b| "
     ]
    },
    {
     "name": "stdout",
     "output_type": "stream",
     "text": [
      "\b\b/ "
     ]
    },
    {
     "name": "stdout",
     "output_type": "stream",
     "text": [
      "\b\b- "
     ]
    },
    {
     "name": "stdout",
     "output_type": "stream",
     "text": [
      "\b\b\\ "
     ]
    },
    {
     "name": "stdout",
     "output_type": "stream",
     "text": [
      "\b\b| "
     ]
    },
    {
     "name": "stdout",
     "output_type": "stream",
     "text": [
      "\b\b/ "
     ]
    },
    {
     "name": "stdout",
     "output_type": "stream",
     "text": [
      "\b\b- "
     ]
    },
    {
     "name": "stdout",
     "output_type": "stream",
     "text": [
      "\b\b\\ "
     ]
    },
    {
     "name": "stdout",
     "output_type": "stream",
     "text": [
      "\b\b| "
     ]
    },
    {
     "name": "stdout",
     "output_type": "stream",
     "text": [
      "\b\b/ "
     ]
    },
    {
     "name": "stdout",
     "output_type": "stream",
     "text": [
      "\b\b- "
     ]
    },
    {
     "name": "stdout",
     "output_type": "stream",
     "text": [
      "\b\b\\ "
     ]
    },
    {
     "name": "stdout",
     "output_type": "stream",
     "text": [
      "\b\b| "
     ]
    },
    {
     "name": "stdout",
     "output_type": "stream",
     "text": [
      "\b\b/ "
     ]
    },
    {
     "name": "stdout",
     "output_type": "stream",
     "text": [
      "\b\b- "
     ]
    },
    {
     "name": "stdout",
     "output_type": "stream",
     "text": [
      "\b\b\\ "
     ]
    },
    {
     "name": "stdout",
     "output_type": "stream",
     "text": [
      "\b\b| "
     ]
    },
    {
     "name": "stdout",
     "output_type": "stream",
     "text": [
      "\b\b/ "
     ]
    },
    {
     "name": "stdout",
     "output_type": "stream",
     "text": [
      "\b\b- "
     ]
    },
    {
     "name": "stdout",
     "output_type": "stream",
     "text": [
      "\b\b\\ "
     ]
    },
    {
     "name": "stdout",
     "output_type": "stream",
     "text": [
      "\b\b| "
     ]
    },
    {
     "name": "stdout",
     "output_type": "stream",
     "text": [
      "\b\b/ "
     ]
    },
    {
     "name": "stdout",
     "output_type": "stream",
     "text": [
      "\b\b- "
     ]
    },
    {
     "name": "stdout",
     "output_type": "stream",
     "text": [
      "\b\b\\ "
     ]
    },
    {
     "name": "stdout",
     "output_type": "stream",
     "text": [
      "\b\b| "
     ]
    },
    {
     "name": "stdout",
     "output_type": "stream",
     "text": [
      "\b\b/ "
     ]
    },
    {
     "name": "stdout",
     "output_type": "stream",
     "text": [
      "\b\b- "
     ]
    },
    {
     "name": "stdout",
     "output_type": "stream",
     "text": [
      "\b\b\\ "
     ]
    },
    {
     "name": "stdout",
     "output_type": "stream",
     "text": [
      "\b\b| "
     ]
    },
    {
     "name": "stdout",
     "output_type": "stream",
     "text": [
      "\b\b/ "
     ]
    },
    {
     "name": "stdout",
     "output_type": "stream",
     "text": [
      "\b\b- "
     ]
    },
    {
     "name": "stdout",
     "output_type": "stream",
     "text": [
      "\b\b\\ "
     ]
    },
    {
     "name": "stdout",
     "output_type": "stream",
     "text": [
      "\b\b| "
     ]
    },
    {
     "name": "stdout",
     "output_type": "stream",
     "text": [
      "\b\b/ "
     ]
    },
    {
     "name": "stdout",
     "output_type": "stream",
     "text": [
      "\b\b- "
     ]
    },
    {
     "name": "stdout",
     "output_type": "stream",
     "text": [
      "\b\b\\ "
     ]
    },
    {
     "name": "stdout",
     "output_type": "stream",
     "text": [
      "\b\b| "
     ]
    },
    {
     "name": "stdout",
     "output_type": "stream",
     "text": [
      "\b\b/ "
     ]
    },
    {
     "name": "stdout",
     "output_type": "stream",
     "text": [
      "\b\b- "
     ]
    },
    {
     "name": "stdout",
     "output_type": "stream",
     "text": [
      "\b\b\\ "
     ]
    },
    {
     "name": "stdout",
     "output_type": "stream",
     "text": [
      "\b\b| "
     ]
    },
    {
     "name": "stdout",
     "output_type": "stream",
     "text": [
      "\b\b/ "
     ]
    },
    {
     "name": "stdout",
     "output_type": "stream",
     "text": [
      "\b\b- "
     ]
    },
    {
     "name": "stdout",
     "output_type": "stream",
     "text": [
      "\b\b\\ "
     ]
    },
    {
     "name": "stdout",
     "output_type": "stream",
     "text": [
      "\b\b| "
     ]
    },
    {
     "name": "stdout",
     "output_type": "stream",
     "text": [
      "\b\b/ "
     ]
    },
    {
     "name": "stdout",
     "output_type": "stream",
     "text": [
      "\b\b- "
     ]
    },
    {
     "name": "stdout",
     "output_type": "stream",
     "text": [
      "\b\b\\ "
     ]
    },
    {
     "name": "stdout",
     "output_type": "stream",
     "text": [
      "\b\b| "
     ]
    },
    {
     "name": "stdout",
     "output_type": "stream",
     "text": [
      "\b\b/ "
     ]
    },
    {
     "name": "stdout",
     "output_type": "stream",
     "text": [
      "\b\b- "
     ]
    },
    {
     "name": "stdout",
     "output_type": "stream",
     "text": [
      "\b\b\\ "
     ]
    },
    {
     "name": "stdout",
     "output_type": "stream",
     "text": [
      "\b\b| "
     ]
    },
    {
     "name": "stdout",
     "output_type": "stream",
     "text": [
      "\b\b/ "
     ]
    },
    {
     "name": "stdout",
     "output_type": "stream",
     "text": [
      "\b\b- "
     ]
    },
    {
     "name": "stdout",
     "output_type": "stream",
     "text": [
      "\b\b\\ "
     ]
    },
    {
     "name": "stdout",
     "output_type": "stream",
     "text": [
      "\b\b| "
     ]
    },
    {
     "name": "stdout",
     "output_type": "stream",
     "text": [
      "\b\b/ "
     ]
    },
    {
     "name": "stdout",
     "output_type": "stream",
     "text": [
      "\b\b- "
     ]
    },
    {
     "name": "stdout",
     "output_type": "stream",
     "text": [
      "\b\b\\ "
     ]
    },
    {
     "name": "stdout",
     "output_type": "stream",
     "text": [
      "\b\b| "
     ]
    },
    {
     "name": "stdout",
     "output_type": "stream",
     "text": [
      "\b\b/ "
     ]
    },
    {
     "name": "stdout",
     "output_type": "stream",
     "text": [
      "\b\b- "
     ]
    },
    {
     "name": "stdout",
     "output_type": "stream",
     "text": [
      "\b\b\\ "
     ]
    },
    {
     "name": "stdout",
     "output_type": "stream",
     "text": [
      "\b\b| "
     ]
    },
    {
     "name": "stdout",
     "output_type": "stream",
     "text": [
      "\b\b/ "
     ]
    },
    {
     "name": "stdout",
     "output_type": "stream",
     "text": [
      "\b\b- "
     ]
    },
    {
     "name": "stdout",
     "output_type": "stream",
     "text": [
      "\b\b\\ "
     ]
    },
    {
     "name": "stdout",
     "output_type": "stream",
     "text": [
      "\b\b| "
     ]
    },
    {
     "name": "stdout",
     "output_type": "stream",
     "text": [
      "\b\b/ "
     ]
    },
    {
     "name": "stdout",
     "output_type": "stream",
     "text": [
      "\b\b- "
     ]
    },
    {
     "name": "stdout",
     "output_type": "stream",
     "text": [
      "\b\b\\ "
     ]
    },
    {
     "name": "stdout",
     "output_type": "stream",
     "text": [
      "\b\b| "
     ]
    },
    {
     "name": "stdout",
     "output_type": "stream",
     "text": [
      "\b\b/ "
     ]
    },
    {
     "name": "stdout",
     "output_type": "stream",
     "text": [
      "\b\b- "
     ]
    },
    {
     "name": "stdout",
     "output_type": "stream",
     "text": [
      "\b\b\\ "
     ]
    },
    {
     "name": "stdout",
     "output_type": "stream",
     "text": [
      "\b\b| "
     ]
    },
    {
     "name": "stdout",
     "output_type": "stream",
     "text": [
      "\b\b/ "
     ]
    },
    {
     "name": "stdout",
     "output_type": "stream",
     "text": [
      "\b\b- "
     ]
    },
    {
     "name": "stdout",
     "output_type": "stream",
     "text": [
      "\b\b\\ "
     ]
    },
    {
     "name": "stdout",
     "output_type": "stream",
     "text": [
      "\b\b| "
     ]
    },
    {
     "name": "stdout",
     "output_type": "stream",
     "text": [
      "\b\b/ "
     ]
    },
    {
     "name": "stdout",
     "output_type": "stream",
     "text": [
      "\b\b- "
     ]
    },
    {
     "name": "stdout",
     "output_type": "stream",
     "text": [
      "\b\b\\ "
     ]
    },
    {
     "name": "stdout",
     "output_type": "stream",
     "text": [
      "\b\b| "
     ]
    },
    {
     "name": "stdout",
     "output_type": "stream",
     "text": [
      "\b\b/ "
     ]
    },
    {
     "name": "stdout",
     "output_type": "stream",
     "text": [
      "\b\b- "
     ]
    },
    {
     "name": "stdout",
     "output_type": "stream",
     "text": [
      "\b\b\\ "
     ]
    },
    {
     "name": "stdout",
     "output_type": "stream",
     "text": [
      "\b\b| "
     ]
    },
    {
     "name": "stdout",
     "output_type": "stream",
     "text": [
      "\b\b/ "
     ]
    },
    {
     "name": "stdout",
     "output_type": "stream",
     "text": [
      "\b\b- "
     ]
    },
    {
     "name": "stdout",
     "output_type": "stream",
     "text": [
      "\b\b\\ "
     ]
    },
    {
     "name": "stdout",
     "output_type": "stream",
     "text": [
      "\b\b| "
     ]
    },
    {
     "name": "stdout",
     "output_type": "stream",
     "text": [
      "\b\b/ "
     ]
    },
    {
     "name": "stdout",
     "output_type": "stream",
     "text": [
      "\b\b- "
     ]
    },
    {
     "name": "stdout",
     "output_type": "stream",
     "text": [
      "\b\b\\ "
     ]
    },
    {
     "name": "stdout",
     "output_type": "stream",
     "text": [
      "\b\b| "
     ]
    },
    {
     "name": "stdout",
     "output_type": "stream",
     "text": [
      "\b\b/ "
     ]
    },
    {
     "name": "stdout",
     "output_type": "stream",
     "text": [
      "\b\b- "
     ]
    },
    {
     "name": "stdout",
     "output_type": "stream",
     "text": [
      "\b\b\\ "
     ]
    },
    {
     "name": "stdout",
     "output_type": "stream",
     "text": [
      "\b\b| "
     ]
    },
    {
     "name": "stdout",
     "output_type": "stream",
     "text": [
      "\b\b/ "
     ]
    },
    {
     "name": "stdout",
     "output_type": "stream",
     "text": [
      "\b\b- "
     ]
    },
    {
     "name": "stdout",
     "output_type": "stream",
     "text": [
      "\b\b\\ "
     ]
    },
    {
     "name": "stdout",
     "output_type": "stream",
     "text": [
      "\b\b| "
     ]
    },
    {
     "name": "stdout",
     "output_type": "stream",
     "text": [
      "\b\b/ "
     ]
    },
    {
     "name": "stdout",
     "output_type": "stream",
     "text": [
      "\b\b- "
     ]
    },
    {
     "name": "stdout",
     "output_type": "stream",
     "text": [
      "\b\b\\ "
     ]
    },
    {
     "name": "stdout",
     "output_type": "stream",
     "text": [
      "\b\b| "
     ]
    },
    {
     "name": "stdout",
     "output_type": "stream",
     "text": [
      "\b\b/ "
     ]
    },
    {
     "name": "stdout",
     "output_type": "stream",
     "text": [
      "\b\b- "
     ]
    },
    {
     "name": "stdout",
     "output_type": "stream",
     "text": [
      "\b\b\\ "
     ]
    },
    {
     "name": "stdout",
     "output_type": "stream",
     "text": [
      "\b\b| "
     ]
    },
    {
     "name": "stdout",
     "output_type": "stream",
     "text": [
      "\b\b/ "
     ]
    },
    {
     "name": "stdout",
     "output_type": "stream",
     "text": [
      "\b\b- "
     ]
    },
    {
     "name": "stdout",
     "output_type": "stream",
     "text": [
      "\b\b\\ "
     ]
    },
    {
     "name": "stdout",
     "output_type": "stream",
     "text": [
      "\b\b| "
     ]
    },
    {
     "name": "stdout",
     "output_type": "stream",
     "text": [
      "\b\b/ "
     ]
    },
    {
     "name": "stdout",
     "output_type": "stream",
     "text": [
      "\b\b- "
     ]
    },
    {
     "name": "stdout",
     "output_type": "stream",
     "text": [
      "\b\b\\ "
     ]
    },
    {
     "name": "stdout",
     "output_type": "stream",
     "text": [
      "\b\b| "
     ]
    },
    {
     "name": "stdout",
     "output_type": "stream",
     "text": [
      "\b\b/ "
     ]
    },
    {
     "name": "stdout",
     "output_type": "stream",
     "text": [
      "\b\b- "
     ]
    },
    {
     "name": "stdout",
     "output_type": "stream",
     "text": [
      "\b\b\\ "
     ]
    },
    {
     "name": "stdout",
     "output_type": "stream",
     "text": [
      "\b\b| "
     ]
    },
    {
     "name": "stdout",
     "output_type": "stream",
     "text": [
      "\b\b/ "
     ]
    },
    {
     "name": "stdout",
     "output_type": "stream",
     "text": [
      "\b\b- "
     ]
    },
    {
     "name": "stdout",
     "output_type": "stream",
     "text": [
      "\b\b\\ "
     ]
    },
    {
     "name": "stdout",
     "output_type": "stream",
     "text": [
      "\b\b| "
     ]
    },
    {
     "name": "stdout",
     "output_type": "stream",
     "text": [
      "\b\b/ "
     ]
    },
    {
     "name": "stdout",
     "output_type": "stream",
     "text": [
      "\b\b- "
     ]
    },
    {
     "name": "stdout",
     "output_type": "stream",
     "text": [
      "\b\b\\ "
     ]
    },
    {
     "name": "stdout",
     "output_type": "stream",
     "text": [
      "\b\b| "
     ]
    },
    {
     "name": "stdout",
     "output_type": "stream",
     "text": [
      "\b\b/ "
     ]
    },
    {
     "name": "stdout",
     "output_type": "stream",
     "text": [
      "\b\b- "
     ]
    },
    {
     "name": "stdout",
     "output_type": "stream",
     "text": [
      "\b\b\\ "
     ]
    },
    {
     "name": "stdout",
     "output_type": "stream",
     "text": [
      "\b\b| "
     ]
    },
    {
     "name": "stdout",
     "output_type": "stream",
     "text": [
      "\b\b/ "
     ]
    },
    {
     "name": "stdout",
     "output_type": "stream",
     "text": [
      "\b\b- "
     ]
    },
    {
     "name": "stdout",
     "output_type": "stream",
     "text": [
      "\b\b\\ "
     ]
    },
    {
     "name": "stdout",
     "output_type": "stream",
     "text": [
      "\b\b| "
     ]
    },
    {
     "name": "stdout",
     "output_type": "stream",
     "text": [
      "\b\b/ "
     ]
    },
    {
     "name": "stdout",
     "output_type": "stream",
     "text": [
      "\b\b- "
     ]
    },
    {
     "name": "stdout",
     "output_type": "stream",
     "text": [
      "\b\b\\ "
     ]
    },
    {
     "name": "stdout",
     "output_type": "stream",
     "text": [
      "\b\b| "
     ]
    },
    {
     "name": "stdout",
     "output_type": "stream",
     "text": [
      "\b\b/ "
     ]
    },
    {
     "name": "stdout",
     "output_type": "stream",
     "text": [
      "\b\b- "
     ]
    },
    {
     "name": "stdout",
     "output_type": "stream",
     "text": [
      "\b\b\\ "
     ]
    },
    {
     "name": "stdout",
     "output_type": "stream",
     "text": [
      "\b\b| "
     ]
    },
    {
     "name": "stdout",
     "output_type": "stream",
     "text": [
      "\b\b/ "
     ]
    },
    {
     "name": "stdout",
     "output_type": "stream",
     "text": [
      "\b\b- "
     ]
    },
    {
     "name": "stdout",
     "output_type": "stream",
     "text": [
      "\b\b\\ "
     ]
    },
    {
     "name": "stdout",
     "output_type": "stream",
     "text": [
      "\b\b| "
     ]
    },
    {
     "name": "stdout",
     "output_type": "stream",
     "text": [
      "\b\b/ "
     ]
    },
    {
     "name": "stdout",
     "output_type": "stream",
     "text": [
      "\b\b- "
     ]
    },
    {
     "name": "stdout",
     "output_type": "stream",
     "text": [
      "\b\b\\ "
     ]
    },
    {
     "name": "stdout",
     "output_type": "stream",
     "text": [
      "\b\b| "
     ]
    },
    {
     "name": "stdout",
     "output_type": "stream",
     "text": [
      "\b\b/ "
     ]
    },
    {
     "name": "stdout",
     "output_type": "stream",
     "text": [
      "\b\b- "
     ]
    },
    {
     "name": "stdout",
     "output_type": "stream",
     "text": [
      "\b\b\\ "
     ]
    },
    {
     "name": "stdout",
     "output_type": "stream",
     "text": [
      "\b\b| "
     ]
    },
    {
     "name": "stdout",
     "output_type": "stream",
     "text": [
      "\b\b/ "
     ]
    },
    {
     "name": "stdout",
     "output_type": "stream",
     "text": [
      "\b\b- "
     ]
    },
    {
     "name": "stdout",
     "output_type": "stream",
     "text": [
      "\b\b\\ "
     ]
    },
    {
     "name": "stdout",
     "output_type": "stream",
     "text": [
      "\b\b| "
     ]
    },
    {
     "name": "stdout",
     "output_type": "stream",
     "text": [
      "\b\b/ "
     ]
    },
    {
     "name": "stdout",
     "output_type": "stream",
     "text": [
      "\b\b- "
     ]
    },
    {
     "name": "stdout",
     "output_type": "stream",
     "text": [
      "\b\b\\ "
     ]
    },
    {
     "name": "stdout",
     "output_type": "stream",
     "text": [
      "\b\b| "
     ]
    },
    {
     "name": "stdout",
     "output_type": "stream",
     "text": [
      "\b\b/ "
     ]
    },
    {
     "name": "stdout",
     "output_type": "stream",
     "text": [
      "\b\b- "
     ]
    },
    {
     "name": "stdout",
     "output_type": "stream",
     "text": [
      "\b\b\\ "
     ]
    },
    {
     "name": "stdout",
     "output_type": "stream",
     "text": [
      "\b\b| "
     ]
    },
    {
     "name": "stdout",
     "output_type": "stream",
     "text": [
      "\b\b/ "
     ]
    },
    {
     "name": "stdout",
     "output_type": "stream",
     "text": [
      "\b\b- "
     ]
    },
    {
     "name": "stdout",
     "output_type": "stream",
     "text": [
      "\b\b\\ "
     ]
    },
    {
     "name": "stdout",
     "output_type": "stream",
     "text": [
      "\b\b| "
     ]
    },
    {
     "name": "stdout",
     "output_type": "stream",
     "text": [
      "\b\b/ "
     ]
    },
    {
     "name": "stdout",
     "output_type": "stream",
     "text": [
      "\b\b- "
     ]
    },
    {
     "name": "stdout",
     "output_type": "stream",
     "text": [
      "\b\b\\ "
     ]
    },
    {
     "name": "stdout",
     "output_type": "stream",
     "text": [
      "\b\b| "
     ]
    },
    {
     "name": "stdout",
     "output_type": "stream",
     "text": [
      "\b\b/ "
     ]
    },
    {
     "name": "stdout",
     "output_type": "stream",
     "text": [
      "\b\b- "
     ]
    },
    {
     "name": "stdout",
     "output_type": "stream",
     "text": [
      "\b\b\\ "
     ]
    },
    {
     "name": "stdout",
     "output_type": "stream",
     "text": [
      "\b\b| "
     ]
    },
    {
     "name": "stdout",
     "output_type": "stream",
     "text": [
      "\b\b/ "
     ]
    },
    {
     "name": "stdout",
     "output_type": "stream",
     "text": [
      "\b\b- "
     ]
    },
    {
     "name": "stdout",
     "output_type": "stream",
     "text": [
      "\b\b\\ "
     ]
    },
    {
     "name": "stdout",
     "output_type": "stream",
     "text": [
      "\b\b| "
     ]
    },
    {
     "name": "stdout",
     "output_type": "stream",
     "text": [
      "\b\b/ "
     ]
    },
    {
     "name": "stdout",
     "output_type": "stream",
     "text": [
      "\b\b- "
     ]
    },
    {
     "name": "stdout",
     "output_type": "stream",
     "text": [
      "\b\b\\ "
     ]
    },
    {
     "name": "stdout",
     "output_type": "stream",
     "text": [
      "\b\b| "
     ]
    },
    {
     "name": "stdout",
     "output_type": "stream",
     "text": [
      "\b\b/ "
     ]
    },
    {
     "name": "stdout",
     "output_type": "stream",
     "text": [
      "\b\b- "
     ]
    },
    {
     "name": "stdout",
     "output_type": "stream",
     "text": [
      "\b\b\\ "
     ]
    },
    {
     "name": "stdout",
     "output_type": "stream",
     "text": [
      "\b\b| "
     ]
    },
    {
     "name": "stdout",
     "output_type": "stream",
     "text": [
      "\b\b/ "
     ]
    },
    {
     "name": "stdout",
     "output_type": "stream",
     "text": [
      "\b\b- "
     ]
    },
    {
     "name": "stdout",
     "output_type": "stream",
     "text": [
      "\b\b\\ "
     ]
    },
    {
     "name": "stdout",
     "output_type": "stream",
     "text": [
      "\b\b| "
     ]
    },
    {
     "name": "stdout",
     "output_type": "stream",
     "text": [
      "\b\b/ "
     ]
    },
    {
     "name": "stdout",
     "output_type": "stream",
     "text": [
      "\b\b- "
     ]
    },
    {
     "name": "stdout",
     "output_type": "stream",
     "text": [
      "\b\b\\ "
     ]
    },
    {
     "name": "stdout",
     "output_type": "stream",
     "text": [
      "\b\b| "
     ]
    },
    {
     "name": "stdout",
     "output_type": "stream",
     "text": [
      "\b\b/ "
     ]
    },
    {
     "name": "stdout",
     "output_type": "stream",
     "text": [
      "\b\b- "
     ]
    },
    {
     "name": "stdout",
     "output_type": "stream",
     "text": [
      "\b\b\\ "
     ]
    },
    {
     "name": "stdout",
     "output_type": "stream",
     "text": [
      "\b\b| "
     ]
    },
    {
     "name": "stdout",
     "output_type": "stream",
     "text": [
      "\b\b/ "
     ]
    },
    {
     "name": "stdout",
     "output_type": "stream",
     "text": [
      "\b\b- "
     ]
    },
    {
     "name": "stdout",
     "output_type": "stream",
     "text": [
      "\b\b\\ "
     ]
    },
    {
     "name": "stdout",
     "output_type": "stream",
     "text": [
      "\b\b| "
     ]
    },
    {
     "name": "stdout",
     "output_type": "stream",
     "text": [
      "\b\b/ "
     ]
    },
    {
     "name": "stdout",
     "output_type": "stream",
     "text": [
      "\b\b- "
     ]
    },
    {
     "name": "stdout",
     "output_type": "stream",
     "text": [
      "\b\b\\ "
     ]
    },
    {
     "name": "stdout",
     "output_type": "stream",
     "text": [
      "\b\b| "
     ]
    },
    {
     "name": "stdout",
     "output_type": "stream",
     "text": [
      "\b\b/ "
     ]
    },
    {
     "name": "stdout",
     "output_type": "stream",
     "text": [
      "\b\b- "
     ]
    },
    {
     "name": "stdout",
     "output_type": "stream",
     "text": [
      "\b\b\\ "
     ]
    },
    {
     "name": "stdout",
     "output_type": "stream",
     "text": [
      "\b\b| "
     ]
    },
    {
     "name": "stdout",
     "output_type": "stream",
     "text": [
      "\b\b/ "
     ]
    },
    {
     "name": "stdout",
     "output_type": "stream",
     "text": [
      "\b\b- "
     ]
    },
    {
     "name": "stdout",
     "output_type": "stream",
     "text": [
      "\b\b\\ "
     ]
    },
    {
     "name": "stdout",
     "output_type": "stream",
     "text": [
      "\b\b| "
     ]
    },
    {
     "name": "stdout",
     "output_type": "stream",
     "text": [
      "\b\b/ "
     ]
    },
    {
     "name": "stdout",
     "output_type": "stream",
     "text": [
      "\b\b- "
     ]
    },
    {
     "name": "stdout",
     "output_type": "stream",
     "text": [
      "\b\b\\ "
     ]
    },
    {
     "name": "stdout",
     "output_type": "stream",
     "text": [
      "\b\b| "
     ]
    },
    {
     "name": "stdout",
     "output_type": "stream",
     "text": [
      "\b\b/ "
     ]
    },
    {
     "name": "stdout",
     "output_type": "stream",
     "text": [
      "\b\b- "
     ]
    },
    {
     "name": "stdout",
     "output_type": "stream",
     "text": [
      "\b\b\\ "
     ]
    },
    {
     "name": "stdout",
     "output_type": "stream",
     "text": [
      "\b\b| "
     ]
    },
    {
     "name": "stdout",
     "output_type": "stream",
     "text": [
      "\b\b/ "
     ]
    },
    {
     "name": "stdout",
     "output_type": "stream",
     "text": [
      "\b\b- "
     ]
    },
    {
     "name": "stdout",
     "output_type": "stream",
     "text": [
      "\b\b\\ "
     ]
    },
    {
     "name": "stdout",
     "output_type": "stream",
     "text": [
      "\b\b| "
     ]
    },
    {
     "name": "stdout",
     "output_type": "stream",
     "text": [
      "\b\b/ "
     ]
    },
    {
     "name": "stdout",
     "output_type": "stream",
     "text": [
      "\b\b- "
     ]
    },
    {
     "name": "stdout",
     "output_type": "stream",
     "text": [
      "\b\b\\ "
     ]
    },
    {
     "name": "stdout",
     "output_type": "stream",
     "text": [
      "\b\b| "
     ]
    },
    {
     "name": "stdout",
     "output_type": "stream",
     "text": [
      "\b\b/ "
     ]
    },
    {
     "name": "stdout",
     "output_type": "stream",
     "text": [
      "\b\b- "
     ]
    },
    {
     "name": "stdout",
     "output_type": "stream",
     "text": [
      "\b\b\\ "
     ]
    },
    {
     "name": "stdout",
     "output_type": "stream",
     "text": [
      "\b\b| "
     ]
    },
    {
     "name": "stdout",
     "output_type": "stream",
     "text": [
      "\b\b/ "
     ]
    },
    {
     "name": "stdout",
     "output_type": "stream",
     "text": [
      "\b\b- "
     ]
    },
    {
     "name": "stdout",
     "output_type": "stream",
     "text": [
      "\b\b\\ "
     ]
    },
    {
     "name": "stdout",
     "output_type": "stream",
     "text": [
      "\b\b| "
     ]
    },
    {
     "name": "stdout",
     "output_type": "stream",
     "text": [
      "\b\b/ "
     ]
    },
    {
     "name": "stdout",
     "output_type": "stream",
     "text": [
      "\b\b- "
     ]
    },
    {
     "name": "stdout",
     "output_type": "stream",
     "text": [
      "\b\b\\ "
     ]
    },
    {
     "name": "stdout",
     "output_type": "stream",
     "text": [
      "\b\b| "
     ]
    },
    {
     "name": "stdout",
     "output_type": "stream",
     "text": [
      "\b\b/ "
     ]
    },
    {
     "name": "stdout",
     "output_type": "stream",
     "text": [
      "\b\b- "
     ]
    },
    {
     "name": "stdout",
     "output_type": "stream",
     "text": [
      "\b\b\\ "
     ]
    },
    {
     "name": "stdout",
     "output_type": "stream",
     "text": [
      "\b\b| "
     ]
    },
    {
     "name": "stdout",
     "output_type": "stream",
     "text": [
      "\b\b/ "
     ]
    },
    {
     "name": "stdout",
     "output_type": "stream",
     "text": [
      "\b\b- "
     ]
    },
    {
     "name": "stdout",
     "output_type": "stream",
     "text": [
      "\b\b\\ "
     ]
    },
    {
     "name": "stdout",
     "output_type": "stream",
     "text": [
      "\b\b| "
     ]
    },
    {
     "name": "stdout",
     "output_type": "stream",
     "text": [
      "\b\b/ "
     ]
    },
    {
     "name": "stdout",
     "output_type": "stream",
     "text": [
      "\b\b- "
     ]
    },
    {
     "name": "stdout",
     "output_type": "stream",
     "text": [
      "\b\b\\ "
     ]
    },
    {
     "name": "stdout",
     "output_type": "stream",
     "text": [
      "\b\b| "
     ]
    },
    {
     "name": "stdout",
     "output_type": "stream",
     "text": [
      "\b\b/ "
     ]
    },
    {
     "name": "stdout",
     "output_type": "stream",
     "text": [
      "\b\b- "
     ]
    },
    {
     "name": "stdout",
     "output_type": "stream",
     "text": [
      "\b\b\\ "
     ]
    },
    {
     "name": "stdout",
     "output_type": "stream",
     "text": [
      "\b\b| "
     ]
    },
    {
     "name": "stdout",
     "output_type": "stream",
     "text": [
      "\b\b/ "
     ]
    },
    {
     "name": "stdout",
     "output_type": "stream",
     "text": [
      "\b\b- "
     ]
    },
    {
     "name": "stdout",
     "output_type": "stream",
     "text": [
      "\b\b\\ "
     ]
    },
    {
     "name": "stdout",
     "output_type": "stream",
     "text": [
      "\b\b| "
     ]
    },
    {
     "name": "stdout",
     "output_type": "stream",
     "text": [
      "\b\b/ "
     ]
    },
    {
     "name": "stdout",
     "output_type": "stream",
     "text": [
      "\b\b- "
     ]
    },
    {
     "name": "stdout",
     "output_type": "stream",
     "text": [
      "\b\b\\ "
     ]
    },
    {
     "name": "stdout",
     "output_type": "stream",
     "text": [
      "\b\b| "
     ]
    },
    {
     "name": "stdout",
     "output_type": "stream",
     "text": [
      "\b\b/ "
     ]
    },
    {
     "name": "stdout",
     "output_type": "stream",
     "text": [
      "\b\b- "
     ]
    },
    {
     "name": "stdout",
     "output_type": "stream",
     "text": [
      "\b\b\\ "
     ]
    },
    {
     "name": "stdout",
     "output_type": "stream",
     "text": [
      "\b\b| "
     ]
    },
    {
     "name": "stdout",
     "output_type": "stream",
     "text": [
      "\b\b/ "
     ]
    },
    {
     "name": "stdout",
     "output_type": "stream",
     "text": [
      "\b\b- "
     ]
    },
    {
     "name": "stdout",
     "output_type": "stream",
     "text": [
      "\b\b\\ "
     ]
    },
    {
     "name": "stdout",
     "output_type": "stream",
     "text": [
      "\b\b| "
     ]
    },
    {
     "name": "stdout",
     "output_type": "stream",
     "text": [
      "\b\b/ "
     ]
    },
    {
     "name": "stdout",
     "output_type": "stream",
     "text": [
      "\b\b- "
     ]
    },
    {
     "name": "stdout",
     "output_type": "stream",
     "text": [
      "\b\b\\ "
     ]
    },
    {
     "name": "stdout",
     "output_type": "stream",
     "text": [
      "\b\b| "
     ]
    },
    {
     "name": "stdout",
     "output_type": "stream",
     "text": [
      "\b\b/ "
     ]
    },
    {
     "name": "stdout",
     "output_type": "stream",
     "text": [
      "\b\b- "
     ]
    },
    {
     "name": "stdout",
     "output_type": "stream",
     "text": [
      "\b\b\\ "
     ]
    },
    {
     "name": "stdout",
     "output_type": "stream",
     "text": [
      "\b\b| "
     ]
    },
    {
     "name": "stdout",
     "output_type": "stream",
     "text": [
      "\b\b/ "
     ]
    },
    {
     "name": "stdout",
     "output_type": "stream",
     "text": [
      "\b\b- "
     ]
    },
    {
     "name": "stdout",
     "output_type": "stream",
     "text": [
      "\b\b\\ "
     ]
    },
    {
     "name": "stdout",
     "output_type": "stream",
     "text": [
      "\b\b| "
     ]
    },
    {
     "name": "stdout",
     "output_type": "stream",
     "text": [
      "\b\b/ "
     ]
    },
    {
     "name": "stdout",
     "output_type": "stream",
     "text": [
      "\b\b- "
     ]
    },
    {
     "name": "stdout",
     "output_type": "stream",
     "text": [
      "\b\b\\ "
     ]
    },
    {
     "name": "stdout",
     "output_type": "stream",
     "text": [
      "\b\b| "
     ]
    },
    {
     "name": "stdout",
     "output_type": "stream",
     "text": [
      "\b\b/ "
     ]
    },
    {
     "name": "stdout",
     "output_type": "stream",
     "text": [
      "\b\b- "
     ]
    },
    {
     "name": "stdout",
     "output_type": "stream",
     "text": [
      "\b\b\\ "
     ]
    },
    {
     "name": "stdout",
     "output_type": "stream",
     "text": [
      "\b\b| "
     ]
    },
    {
     "name": "stdout",
     "output_type": "stream",
     "text": [
      "\b\b/ "
     ]
    },
    {
     "name": "stdout",
     "output_type": "stream",
     "text": [
      "\b\b- "
     ]
    },
    {
     "name": "stdout",
     "output_type": "stream",
     "text": [
      "\b\b\\ "
     ]
    },
    {
     "name": "stdout",
     "output_type": "stream",
     "text": [
      "\b\b| "
     ]
    },
    {
     "name": "stdout",
     "output_type": "stream",
     "text": [
      "\b\b/ "
     ]
    },
    {
     "name": "stdout",
     "output_type": "stream",
     "text": [
      "\b\b- "
     ]
    },
    {
     "name": "stdout",
     "output_type": "stream",
     "text": [
      "\b\b\\ "
     ]
    },
    {
     "name": "stdout",
     "output_type": "stream",
     "text": [
      "\b\b| "
     ]
    },
    {
     "name": "stdout",
     "output_type": "stream",
     "text": [
      "\b\b/ "
     ]
    },
    {
     "name": "stdout",
     "output_type": "stream",
     "text": [
      "\b\b- "
     ]
    },
    {
     "name": "stdout",
     "output_type": "stream",
     "text": [
      "\b\b\\ "
     ]
    },
    {
     "name": "stdout",
     "output_type": "stream",
     "text": [
      "\b\b| "
     ]
    },
    {
     "name": "stdout",
     "output_type": "stream",
     "text": [
      "\b\b/ "
     ]
    },
    {
     "name": "stdout",
     "output_type": "stream",
     "text": [
      "\b\b- "
     ]
    },
    {
     "name": "stdout",
     "output_type": "stream",
     "text": [
      "\b\b\\ "
     ]
    },
    {
     "name": "stdout",
     "output_type": "stream",
     "text": [
      "\b\b| "
     ]
    },
    {
     "name": "stdout",
     "output_type": "stream",
     "text": [
      "\b\b/ "
     ]
    },
    {
     "name": "stdout",
     "output_type": "stream",
     "text": [
      "\b\b- "
     ]
    },
    {
     "name": "stdout",
     "output_type": "stream",
     "text": [
      "\b\b\\ "
     ]
    },
    {
     "name": "stdout",
     "output_type": "stream",
     "text": [
      "\b\b| "
     ]
    },
    {
     "name": "stdout",
     "output_type": "stream",
     "text": [
      "\b\b/ "
     ]
    },
    {
     "name": "stdout",
     "output_type": "stream",
     "text": [
      "\b\b- "
     ]
    },
    {
     "name": "stdout",
     "output_type": "stream",
     "text": [
      "\b\b\\ "
     ]
    },
    {
     "name": "stdout",
     "output_type": "stream",
     "text": [
      "\b\b| "
     ]
    },
    {
     "name": "stdout",
     "output_type": "stream",
     "text": [
      "\b\b/ "
     ]
    },
    {
     "name": "stdout",
     "output_type": "stream",
     "text": [
      "\b\b- "
     ]
    },
    {
     "name": "stdout",
     "output_type": "stream",
     "text": [
      "\b\b\\ "
     ]
    },
    {
     "name": "stdout",
     "output_type": "stream",
     "text": [
      "\b\b| "
     ]
    },
    {
     "name": "stdout",
     "output_type": "stream",
     "text": [
      "\b\b/ "
     ]
    },
    {
     "name": "stdout",
     "output_type": "stream",
     "text": [
      "\b\b- "
     ]
    },
    {
     "name": "stdout",
     "output_type": "stream",
     "text": [
      "\b\b\\ "
     ]
    },
    {
     "name": "stdout",
     "output_type": "stream",
     "text": [
      "\b\b| "
     ]
    },
    {
     "name": "stdout",
     "output_type": "stream",
     "text": [
      "\b\b/ "
     ]
    },
    {
     "name": "stdout",
     "output_type": "stream",
     "text": [
      "\b\b- "
     ]
    },
    {
     "name": "stdout",
     "output_type": "stream",
     "text": [
      "\b\b\\ "
     ]
    },
    {
     "name": "stdout",
     "output_type": "stream",
     "text": [
      "\b\b| "
     ]
    },
    {
     "name": "stdout",
     "output_type": "stream",
     "text": [
      "\b\b/ "
     ]
    },
    {
     "name": "stdout",
     "output_type": "stream",
     "text": [
      "\b\b- "
     ]
    },
    {
     "name": "stdout",
     "output_type": "stream",
     "text": [
      "\b\b\\ "
     ]
    },
    {
     "name": "stdout",
     "output_type": "stream",
     "text": [
      "\b\b| "
     ]
    },
    {
     "name": "stdout",
     "output_type": "stream",
     "text": [
      "\b\b/ "
     ]
    },
    {
     "name": "stdout",
     "output_type": "stream",
     "text": [
      "\b\b- "
     ]
    },
    {
     "name": "stdout",
     "output_type": "stream",
     "text": [
      "\b\b\\ "
     ]
    },
    {
     "name": "stdout",
     "output_type": "stream",
     "text": [
      "\b\b| "
     ]
    },
    {
     "name": "stdout",
     "output_type": "stream",
     "text": [
      "\b\b/ "
     ]
    },
    {
     "name": "stdout",
     "output_type": "stream",
     "text": [
      "\b\b- "
     ]
    },
    {
     "name": "stdout",
     "output_type": "stream",
     "text": [
      "\b\b\\ "
     ]
    },
    {
     "name": "stdout",
     "output_type": "stream",
     "text": [
      "\b\b| "
     ]
    },
    {
     "name": "stdout",
     "output_type": "stream",
     "text": [
      "\b\b/ "
     ]
    },
    {
     "name": "stdout",
     "output_type": "stream",
     "text": [
      "\b\b- "
     ]
    },
    {
     "name": "stdout",
     "output_type": "stream",
     "text": [
      "\b\b\\ "
     ]
    },
    {
     "name": "stdout",
     "output_type": "stream",
     "text": [
      "\b\b| "
     ]
    },
    {
     "name": "stdout",
     "output_type": "stream",
     "text": [
      "\b\b/ "
     ]
    },
    {
     "name": "stdout",
     "output_type": "stream",
     "text": [
      "\b\b- "
     ]
    },
    {
     "name": "stdout",
     "output_type": "stream",
     "text": [
      "\b\b\\ "
     ]
    },
    {
     "name": "stdout",
     "output_type": "stream",
     "text": [
      "\b\b| "
     ]
    },
    {
     "name": "stdout",
     "output_type": "stream",
     "text": [
      "\b\b/ "
     ]
    },
    {
     "name": "stdout",
     "output_type": "stream",
     "text": [
      "\b\b- "
     ]
    },
    {
     "name": "stdout",
     "output_type": "stream",
     "text": [
      "\b\b\\ "
     ]
    },
    {
     "name": "stdout",
     "output_type": "stream",
     "text": [
      "\b\b| "
     ]
    },
    {
     "name": "stdout",
     "output_type": "stream",
     "text": [
      "\b\b/ "
     ]
    },
    {
     "name": "stdout",
     "output_type": "stream",
     "text": [
      "\b\b- "
     ]
    },
    {
     "name": "stdout",
     "output_type": "stream",
     "text": [
      "\b\b\\ "
     ]
    },
    {
     "name": "stdout",
     "output_type": "stream",
     "text": [
      "\b\b| "
     ]
    },
    {
     "name": "stdout",
     "output_type": "stream",
     "text": [
      "\b\b/ "
     ]
    },
    {
     "name": "stdout",
     "output_type": "stream",
     "text": [
      "\b\b- "
     ]
    },
    {
     "name": "stdout",
     "output_type": "stream",
     "text": [
      "\b\b\\ "
     ]
    },
    {
     "name": "stdout",
     "output_type": "stream",
     "text": [
      "\b\b| "
     ]
    },
    {
     "name": "stdout",
     "output_type": "stream",
     "text": [
      "\b\b/ "
     ]
    },
    {
     "name": "stdout",
     "output_type": "stream",
     "text": [
      "\b\b- "
     ]
    },
    {
     "name": "stdout",
     "output_type": "stream",
     "text": [
      "\b\b\\ "
     ]
    },
    {
     "name": "stdout",
     "output_type": "stream",
     "text": [
      "\b\b| "
     ]
    },
    {
     "name": "stdout",
     "output_type": "stream",
     "text": [
      "\b\b/ "
     ]
    },
    {
     "name": "stdout",
     "output_type": "stream",
     "text": [
      "\b\b- "
     ]
    },
    {
     "name": "stdout",
     "output_type": "stream",
     "text": [
      "\b\b\\ "
     ]
    },
    {
     "name": "stdout",
     "output_type": "stream",
     "text": [
      "\b\b| "
     ]
    },
    {
     "name": "stdout",
     "output_type": "stream",
     "text": [
      "\b\b/ "
     ]
    },
    {
     "name": "stdout",
     "output_type": "stream",
     "text": [
      "\b\b- "
     ]
    },
    {
     "name": "stdout",
     "output_type": "stream",
     "text": [
      "\b\b\\ "
     ]
    },
    {
     "name": "stdout",
     "output_type": "stream",
     "text": [
      "\b\b| "
     ]
    },
    {
     "name": "stdout",
     "output_type": "stream",
     "text": [
      "\b\b/ "
     ]
    },
    {
     "name": "stdout",
     "output_type": "stream",
     "text": [
      "\b\b- "
     ]
    },
    {
     "name": "stdout",
     "output_type": "stream",
     "text": [
      "\b\b\\ "
     ]
    },
    {
     "name": "stdout",
     "output_type": "stream",
     "text": [
      "\b\b| "
     ]
    },
    {
     "name": "stdout",
     "output_type": "stream",
     "text": [
      "\b\b/ "
     ]
    },
    {
     "name": "stdout",
     "output_type": "stream",
     "text": [
      "\b\b- "
     ]
    },
    {
     "name": "stdout",
     "output_type": "stream",
     "text": [
      "\b\b\\ "
     ]
    },
    {
     "name": "stdout",
     "output_type": "stream",
     "text": [
      "\b\b| "
     ]
    },
    {
     "name": "stdout",
     "output_type": "stream",
     "text": [
      "\b\b/ "
     ]
    },
    {
     "name": "stdout",
     "output_type": "stream",
     "text": [
      "\b\b- "
     ]
    },
    {
     "name": "stdout",
     "output_type": "stream",
     "text": [
      "\b\b\\ "
     ]
    },
    {
     "name": "stdout",
     "output_type": "stream",
     "text": [
      "\b\b| "
     ]
    },
    {
     "name": "stdout",
     "output_type": "stream",
     "text": [
      "\b\b/ "
     ]
    },
    {
     "name": "stdout",
     "output_type": "stream",
     "text": [
      "\b\b- "
     ]
    },
    {
     "name": "stdout",
     "output_type": "stream",
     "text": [
      "\b\b\\ "
     ]
    },
    {
     "name": "stdout",
     "output_type": "stream",
     "text": [
      "\b\b| "
     ]
    },
    {
     "name": "stdout",
     "output_type": "stream",
     "text": [
      "\b\b/ "
     ]
    },
    {
     "name": "stdout",
     "output_type": "stream",
     "text": [
      "\b\b- "
     ]
    },
    {
     "name": "stdout",
     "output_type": "stream",
     "text": [
      "\b\b\\ "
     ]
    },
    {
     "name": "stdout",
     "output_type": "stream",
     "text": [
      "\b\b| "
     ]
    },
    {
     "name": "stdout",
     "output_type": "stream",
     "text": [
      "\b\b/ "
     ]
    },
    {
     "name": "stdout",
     "output_type": "stream",
     "text": [
      "\b\b- "
     ]
    },
    {
     "name": "stdout",
     "output_type": "stream",
     "text": [
      "\b\b\\ "
     ]
    },
    {
     "name": "stdout",
     "output_type": "stream",
     "text": [
      "\b\b| "
     ]
    },
    {
     "name": "stdout",
     "output_type": "stream",
     "text": [
      "\b\b/ "
     ]
    },
    {
     "name": "stdout",
     "output_type": "stream",
     "text": [
      "\b\b- "
     ]
    },
    {
     "name": "stdout",
     "output_type": "stream",
     "text": [
      "\b\b\\ "
     ]
    },
    {
     "name": "stdout",
     "output_type": "stream",
     "text": [
      "\b\b| "
     ]
    },
    {
     "name": "stdout",
     "output_type": "stream",
     "text": [
      "\b\b/ "
     ]
    },
    {
     "name": "stdout",
     "output_type": "stream",
     "text": [
      "\b\b- "
     ]
    },
    {
     "name": "stdout",
     "output_type": "stream",
     "text": [
      "\b\b\\ "
     ]
    },
    {
     "name": "stdout",
     "output_type": "stream",
     "text": [
      "\b\b| "
     ]
    },
    {
     "name": "stdout",
     "output_type": "stream",
     "text": [
      "\b\b/ "
     ]
    },
    {
     "name": "stdout",
     "output_type": "stream",
     "text": [
      "\b\b- "
     ]
    },
    {
     "name": "stdout",
     "output_type": "stream",
     "text": [
      "\b\b\\ "
     ]
    },
    {
     "name": "stdout",
     "output_type": "stream",
     "text": [
      "\b\b| "
     ]
    },
    {
     "name": "stdout",
     "output_type": "stream",
     "text": [
      "\b\b/ "
     ]
    },
    {
     "name": "stdout",
     "output_type": "stream",
     "text": [
      "\b\b- "
     ]
    },
    {
     "name": "stdout",
     "output_type": "stream",
     "text": [
      "\b\b\\ "
     ]
    },
    {
     "name": "stdout",
     "output_type": "stream",
     "text": [
      "\b\b| "
     ]
    },
    {
     "name": "stdout",
     "output_type": "stream",
     "text": [
      "\b\b/ "
     ]
    },
    {
     "name": "stdout",
     "output_type": "stream",
     "text": [
      "\b\b- "
     ]
    },
    {
     "name": "stdout",
     "output_type": "stream",
     "text": [
      "\b\b\\ "
     ]
    },
    {
     "name": "stdout",
     "output_type": "stream",
     "text": [
      "\b\b| "
     ]
    },
    {
     "name": "stdout",
     "output_type": "stream",
     "text": [
      "\b\b/ "
     ]
    },
    {
     "name": "stdout",
     "output_type": "stream",
     "text": [
      "\b\b- "
     ]
    },
    {
     "name": "stdout",
     "output_type": "stream",
     "text": [
      "\b\b\\ "
     ]
    },
    {
     "name": "stdout",
     "output_type": "stream",
     "text": [
      "\b\b| "
     ]
    },
    {
     "name": "stdout",
     "output_type": "stream",
     "text": [
      "\b\b/ "
     ]
    },
    {
     "name": "stdout",
     "output_type": "stream",
     "text": [
      "\b\bdone\r\n"
     ]
    },
    {
     "name": "stdout",
     "output_type": "stream",
     "text": [
      "\r\n",
      "## Package Plan ##\r\n",
      "\r\n",
      "  environment location: /opt/conda\r\n",
      "\r\n",
      "  added / updated specs:\r\n",
      "    - perl-perlio-gzip\r\n",
      "\r\n",
      "\r\n",
      "The following packages will be downloaded:\r\n",
      "\r\n",
      "    package                    |            build\r\n",
      "    ---------------------------|-----------------\r\n",
      "    perl-5.26.2                |    h36c2ea0_1008        15.4 MB  conda-forge\r\n",
      "    perl-perlio-gzip-0.20      |  pl526h84994c4_1          17 KB  bioconda\r\n",
      "    ------------------------------------------------------------\r\n",
      "                                           Total:        15.4 MB\r\n",
      "\r\n",
      "The following NEW packages will be INSTALLED:\r\n",
      "\r\n",
      "  perl-perlio-gzip   bioconda/linux-64::perl-perlio-gzip-0.20-pl526h84994c4_1\r\n",
      "\r\n",
      "The following packages will be DOWNGRADED:\r\n",
      "\r\n",
      "  perl                                    5.32.0-h36c2ea0_0 --> 5.26.2-h36c2ea0_1008\r\n",
      "\r\n",
      "\r\n",
      "\r\n",
      "Downloading and Extracting Packages\r\n",
      "\r",
      "perl-perlio-gzip-0.2 | 17 KB     |                                       |   0% "
     ]
    },
    {
     "name": "stdout",
     "output_type": "stream",
     "text": [
      "\r",
      "perl-perlio-gzip-0.2 | 17 KB     | ###################################1  |  95% \r",
      "perl-perlio-gzip-0.2 | 17 KB     | ##################################### | 100% \r\n",
      "\r",
      "perl-5.26.2          | 15.4 MB   |                                       |   0% "
     ]
    },
    {
     "name": "stdout",
     "output_type": "stream",
     "text": [
      "\r",
      "perl-5.26.2          | 15.4 MB   | ###########3                          |  31% "
     ]
    },
    {
     "name": "stdout",
     "output_type": "stream",
     "text": [
      "\r",
      "perl-5.26.2          | 15.4 MB   | ###############################3      |  85% "
     ]
    },
    {
     "name": "stdout",
     "output_type": "stream",
     "text": [
      "\r",
      "perl-5.26.2          | 15.4 MB   | ##################################### | 100% \r\n",
      "Preparing transaction: \\ "
     ]
    },
    {
     "name": "stdout",
     "output_type": "stream",
     "text": [
      "\b\b| "
     ]
    },
    {
     "name": "stdout",
     "output_type": "stream",
     "text": [
      "\b\bdone\r\n",
      "Verifying transaction: - "
     ]
    },
    {
     "name": "stdout",
     "output_type": "stream",
     "text": [
      "\b\b\\ "
     ]
    },
    {
     "name": "stdout",
     "output_type": "stream",
     "text": [
      "\b\b| "
     ]
    },
    {
     "name": "stdout",
     "output_type": "stream",
     "text": [
      "\b\b/ "
     ]
    },
    {
     "name": "stdout",
     "output_type": "stream",
     "text": [
      "\b\b- "
     ]
    },
    {
     "name": "stdout",
     "output_type": "stream",
     "text": [
      "\b\b\\ "
     ]
    },
    {
     "name": "stdout",
     "output_type": "stream",
     "text": [
      "\b\bdone\r\n",
      "Executing transaction: / "
     ]
    },
    {
     "name": "stdout",
     "output_type": "stream",
     "text": [
      "\b\b- "
     ]
    },
    {
     "name": "stdout",
     "output_type": "stream",
     "text": [
      "\b\b\\ "
     ]
    },
    {
     "name": "stdout",
     "output_type": "stream",
     "text": [
      "\b\b| "
     ]
    },
    {
     "name": "stdout",
     "output_type": "stream",
     "text": [
      "\b\b/ "
     ]
    },
    {
     "name": "stdout",
     "output_type": "stream",
     "text": [
      "\b\b- "
     ]
    },
    {
     "name": "stdout",
     "output_type": "stream",
     "text": [
      "\b\b\\ "
     ]
    },
    {
     "name": "stdout",
     "output_type": "stream",
     "text": [
      "\b\b| "
     ]
    },
    {
     "name": "stdout",
     "output_type": "stream",
     "text": [
      "\b\b/ "
     ]
    },
    {
     "name": "stdout",
     "output_type": "stream",
     "text": [
      "\b\b- "
     ]
    },
    {
     "name": "stdout",
     "output_type": "stream",
     "text": [
      "\b\b\\ "
     ]
    },
    {
     "name": "stdout",
     "output_type": "stream",
     "text": [
      "\b\b| "
     ]
    },
    {
     "name": "stdout",
     "output_type": "stream",
     "text": [
      "\b\b/ "
     ]
    },
    {
     "name": "stdout",
     "output_type": "stream",
     "text": [
      "\b\b- "
     ]
    },
    {
     "name": "stdout",
     "output_type": "stream",
     "text": [
      "\b\b\\ "
     ]
    },
    {
     "name": "stdout",
     "output_type": "stream",
     "text": [
      "\b\b| "
     ]
    },
    {
     "name": "stdout",
     "output_type": "stream",
     "text": [
      "\b\b/ "
     ]
    },
    {
     "name": "stdout",
     "output_type": "stream",
     "text": [
      "\b\b- "
     ]
    },
    {
     "name": "stdout",
     "output_type": "stream",
     "text": [
      "\b\b\\ "
     ]
    },
    {
     "name": "stdout",
     "output_type": "stream",
     "text": [
      "\b\b| "
     ]
    },
    {
     "name": "stdout",
     "output_type": "stream",
     "text": [
      "\b\b/ "
     ]
    },
    {
     "name": "stdout",
     "output_type": "stream",
     "text": [
      "\b\b- "
     ]
    },
    {
     "name": "stdout",
     "output_type": "stream",
     "text": [
      "\b\b\\ "
     ]
    },
    {
     "name": "stdout",
     "output_type": "stream",
     "text": [
      "\b\b| "
     ]
    },
    {
     "name": "stdout",
     "output_type": "stream",
     "text": [
      "\b\b/ "
     ]
    },
    {
     "name": "stdout",
     "output_type": "stream",
     "text": [
      "\b\b- "
     ]
    },
    {
     "name": "stdout",
     "output_type": "stream",
     "text": [
      "\b\b\\ "
     ]
    },
    {
     "name": "stdout",
     "output_type": "stream",
     "text": [
      "\b\b| "
     ]
    },
    {
     "name": "stdout",
     "output_type": "stream",
     "text": [
      "\b\b/ "
     ]
    },
    {
     "name": "stdout",
     "output_type": "stream",
     "text": [
      "\b\b- "
     ]
    },
    {
     "name": "stdout",
     "output_type": "stream",
     "text": [
      "\b\b\\ "
     ]
    },
    {
     "name": "stdout",
     "output_type": "stream",
     "text": [
      "\b\b| "
     ]
    },
    {
     "name": "stdout",
     "output_type": "stream",
     "text": [
      "\b\b/ "
     ]
    },
    {
     "name": "stdout",
     "output_type": "stream",
     "text": [
      "\b\b- "
     ]
    },
    {
     "name": "stdout",
     "output_type": "stream",
     "text": [
      "\b\b\\ "
     ]
    },
    {
     "name": "stdout",
     "output_type": "stream",
     "text": [
      "\b\b| "
     ]
    },
    {
     "name": "stdout",
     "output_type": "stream",
     "text": [
      "\b\b/ "
     ]
    },
    {
     "name": "stdout",
     "output_type": "stream",
     "text": [
      "\b\b- "
     ]
    },
    {
     "name": "stdout",
     "output_type": "stream",
     "text": [
      "\b\b\\ "
     ]
    },
    {
     "name": "stdout",
     "output_type": "stream",
     "text": [
      "\b\b| "
     ]
    },
    {
     "name": "stdout",
     "output_type": "stream",
     "text": [
      "\b\b/ "
     ]
    },
    {
     "name": "stdout",
     "output_type": "stream",
     "text": [
      "\b\b- "
     ]
    },
    {
     "name": "stdout",
     "output_type": "stream",
     "text": [
      "\b\b\\ "
     ]
    },
    {
     "name": "stdout",
     "output_type": "stream",
     "text": [
      "\b\b| "
     ]
    },
    {
     "name": "stdout",
     "output_type": "stream",
     "text": [
      "\b\b/ "
     ]
    },
    {
     "name": "stdout",
     "output_type": "stream",
     "text": [
      "\b\b- "
     ]
    },
    {
     "name": "stdout",
     "output_type": "stream",
     "text": [
      "\b\b\\ "
     ]
    },
    {
     "name": "stdout",
     "output_type": "stream",
     "text": [
      "\b\b| "
     ]
    },
    {
     "name": "stdout",
     "output_type": "stream",
     "text": [
      "\b\b/ "
     ]
    },
    {
     "name": "stdout",
     "output_type": "stream",
     "text": [
      "\b\b- "
     ]
    },
    {
     "name": "stdout",
     "output_type": "stream",
     "text": [
      "\b\b\\ "
     ]
    },
    {
     "name": "stdout",
     "output_type": "stream",
     "text": [
      "\b\b| "
     ]
    },
    {
     "name": "stdout",
     "output_type": "stream",
     "text": [
      "\b\b/ "
     ]
    },
    {
     "name": "stdout",
     "output_type": "stream",
     "text": [
      "\b\b- "
     ]
    },
    {
     "name": "stdout",
     "output_type": "stream",
     "text": [
      "\b\b\\ "
     ]
    },
    {
     "name": "stdout",
     "output_type": "stream",
     "text": [
      "\b\b| "
     ]
    },
    {
     "name": "stdout",
     "output_type": "stream",
     "text": [
      "\b\b/ "
     ]
    },
    {
     "name": "stdout",
     "output_type": "stream",
     "text": [
      "\b\b- "
     ]
    },
    {
     "name": "stdout",
     "output_type": "stream",
     "text": [
      "\b\b\\ "
     ]
    },
    {
     "name": "stdout",
     "output_type": "stream",
     "text": [
      "\b\b| "
     ]
    },
    {
     "name": "stdout",
     "output_type": "stream",
     "text": [
      "\b\b/ "
     ]
    },
    {
     "name": "stdout",
     "output_type": "stream",
     "text": [
      "\b\b- "
     ]
    },
    {
     "name": "stdout",
     "output_type": "stream",
     "text": [
      "\b\b\\ "
     ]
    },
    {
     "name": "stdout",
     "output_type": "stream",
     "text": [
      "\b\b| "
     ]
    },
    {
     "name": "stdout",
     "output_type": "stream",
     "text": [
      "\b\b/ "
     ]
    },
    {
     "name": "stdout",
     "output_type": "stream",
     "text": [
      "\b\b- "
     ]
    },
    {
     "name": "stdout",
     "output_type": "stream",
     "text": [
      "\b\b\\ "
     ]
    },
    {
     "name": "stdout",
     "output_type": "stream",
     "text": [
      "\b\b| "
     ]
    },
    {
     "name": "stdout",
     "output_type": "stream",
     "text": [
      "\b\b/ "
     ]
    },
    {
     "name": "stdout",
     "output_type": "stream",
     "text": [
      "\b\b- "
     ]
    },
    {
     "name": "stdout",
     "output_type": "stream",
     "text": [
      "\b\b\\ "
     ]
    },
    {
     "name": "stdout",
     "output_type": "stream",
     "text": [
      "\b\b| "
     ]
    },
    {
     "name": "stdout",
     "output_type": "stream",
     "text": [
      "\b\b/ "
     ]
    },
    {
     "name": "stdout",
     "output_type": "stream",
     "text": [
      "\b\b- "
     ]
    },
    {
     "name": "stdout",
     "output_type": "stream",
     "text": [
      "\b\b\\ "
     ]
    },
    {
     "name": "stdout",
     "output_type": "stream",
     "text": [
      "\b\b| "
     ]
    },
    {
     "name": "stdout",
     "output_type": "stream",
     "text": [
      "\b\b/ "
     ]
    },
    {
     "name": "stdout",
     "output_type": "stream",
     "text": [
      "\b\b- "
     ]
    },
    {
     "name": "stdout",
     "output_type": "stream",
     "text": [
      "\b\b\\ "
     ]
    },
    {
     "name": "stdout",
     "output_type": "stream",
     "text": [
      "\b\b| "
     ]
    },
    {
     "name": "stdout",
     "output_type": "stream",
     "text": [
      "\b\b/ "
     ]
    },
    {
     "name": "stdout",
     "output_type": "stream",
     "text": [
      "\b\b- "
     ]
    },
    {
     "name": "stdout",
     "output_type": "stream",
     "text": [
      "\b\b\\ "
     ]
    },
    {
     "name": "stdout",
     "output_type": "stream",
     "text": [
      "\b\b| "
     ]
    },
    {
     "name": "stdout",
     "output_type": "stream",
     "text": [
      "\b\b/ "
     ]
    },
    {
     "name": "stdout",
     "output_type": "stream",
     "text": [
      "\b\b- "
     ]
    },
    {
     "name": "stdout",
     "output_type": "stream",
     "text": [
      "\b\b\\ "
     ]
    },
    {
     "name": "stdout",
     "output_type": "stream",
     "text": [
      "\b\b| "
     ]
    },
    {
     "name": "stdout",
     "output_type": "stream",
     "text": [
      "\b\b/ "
     ]
    },
    {
     "name": "stdout",
     "output_type": "stream",
     "text": [
      "\b\b- "
     ]
    },
    {
     "name": "stdout",
     "output_type": "stream",
     "text": [
      "\b\b\\ "
     ]
    },
    {
     "name": "stdout",
     "output_type": "stream",
     "text": [
      "\b\b| "
     ]
    },
    {
     "name": "stdout",
     "output_type": "stream",
     "text": [
      "\b\b/ "
     ]
    },
    {
     "name": "stdout",
     "output_type": "stream",
     "text": [
      "\b\b- "
     ]
    },
    {
     "name": "stdout",
     "output_type": "stream",
     "text": [
      "\b\b\\ "
     ]
    },
    {
     "name": "stdout",
     "output_type": "stream",
     "text": [
      "\b\b| "
     ]
    },
    {
     "name": "stdout",
     "output_type": "stream",
     "text": [
      "\b\b/ "
     ]
    },
    {
     "name": "stdout",
     "output_type": "stream",
     "text": [
      "\b\b- "
     ]
    },
    {
     "name": "stdout",
     "output_type": "stream",
     "text": [
      "\b\b\\ "
     ]
    },
    {
     "name": "stdout",
     "output_type": "stream",
     "text": [
      "\b\b| "
     ]
    },
    {
     "name": "stdout",
     "output_type": "stream",
     "text": [
      "\b\b/ "
     ]
    },
    {
     "name": "stdout",
     "output_type": "stream",
     "text": [
      "\b\b- "
     ]
    },
    {
     "name": "stdout",
     "output_type": "stream",
     "text": [
      "\b\b\\ "
     ]
    },
    {
     "name": "stdout",
     "output_type": "stream",
     "text": [
      "\b\b| "
     ]
    },
    {
     "name": "stdout",
     "output_type": "stream",
     "text": [
      "\b\b/ "
     ]
    },
    {
     "name": "stdout",
     "output_type": "stream",
     "text": [
      "\b\b- "
     ]
    },
    {
     "name": "stdout",
     "output_type": "stream",
     "text": [
      "\b\b\\ "
     ]
    },
    {
     "name": "stdout",
     "output_type": "stream",
     "text": [
      "\b\b| "
     ]
    },
    {
     "name": "stdout",
     "output_type": "stream",
     "text": [
      "\b\b/ "
     ]
    },
    {
     "name": "stdout",
     "output_type": "stream",
     "text": [
      "\b\b- "
     ]
    },
    {
     "name": "stdout",
     "output_type": "stream",
     "text": [
      "\b\b\\ "
     ]
    },
    {
     "name": "stdout",
     "output_type": "stream",
     "text": [
      "\b\b| "
     ]
    },
    {
     "name": "stdout",
     "output_type": "stream",
     "text": [
      "\b\b/ "
     ]
    },
    {
     "name": "stdout",
     "output_type": "stream",
     "text": [
      "\b\b- "
     ]
    },
    {
     "name": "stdout",
     "output_type": "stream",
     "text": [
      "\b\b\\ "
     ]
    },
    {
     "name": "stdout",
     "output_type": "stream",
     "text": [
      "\b\b| "
     ]
    },
    {
     "name": "stdout",
     "output_type": "stream",
     "text": [
      "\b\b/ "
     ]
    },
    {
     "name": "stdout",
     "output_type": "stream",
     "text": [
      "\b\b- "
     ]
    },
    {
     "name": "stdout",
     "output_type": "stream",
     "text": [
      "\b\b\\ "
     ]
    },
    {
     "name": "stdout",
     "output_type": "stream",
     "text": [
      "\b\b| "
     ]
    },
    {
     "name": "stdout",
     "output_type": "stream",
     "text": [
      "\b\b/ "
     ]
    },
    {
     "name": "stdout",
     "output_type": "stream",
     "text": [
      "\b\b- "
     ]
    },
    {
     "name": "stdout",
     "output_type": "stream",
     "text": [
      "\b\b\\ "
     ]
    },
    {
     "name": "stdout",
     "output_type": "stream",
     "text": [
      "\b\b| "
     ]
    },
    {
     "name": "stdout",
     "output_type": "stream",
     "text": [
      "\b\b/ "
     ]
    },
    {
     "name": "stdout",
     "output_type": "stream",
     "text": [
      "\b\b- "
     ]
    },
    {
     "name": "stdout",
     "output_type": "stream",
     "text": [
      "\b\b\\ "
     ]
    },
    {
     "name": "stdout",
     "output_type": "stream",
     "text": [
      "\b\b| "
     ]
    },
    {
     "name": "stdout",
     "output_type": "stream",
     "text": [
      "\b\b/ "
     ]
    },
    {
     "name": "stdout",
     "output_type": "stream",
     "text": [
      "\b\b- "
     ]
    },
    {
     "name": "stdout",
     "output_type": "stream",
     "text": [
      "\b\b\\ "
     ]
    },
    {
     "name": "stdout",
     "output_type": "stream",
     "text": [
      "\b\b| "
     ]
    },
    {
     "name": "stdout",
     "output_type": "stream",
     "text": [
      "\b\b/ "
     ]
    },
    {
     "name": "stdout",
     "output_type": "stream",
     "text": [
      "\b\b- "
     ]
    },
    {
     "name": "stdout",
     "output_type": "stream",
     "text": [
      "\b\b\\ "
     ]
    },
    {
     "name": "stdout",
     "output_type": "stream",
     "text": [
      "\b\b| "
     ]
    },
    {
     "name": "stdout",
     "output_type": "stream",
     "text": [
      "\b\b/ "
     ]
    },
    {
     "name": "stdout",
     "output_type": "stream",
     "text": [
      "\b\b- "
     ]
    },
    {
     "name": "stdout",
     "output_type": "stream",
     "text": [
      "\b\b\\ "
     ]
    },
    {
     "name": "stdout",
     "output_type": "stream",
     "text": [
      "\b\b| "
     ]
    },
    {
     "name": "stdout",
     "output_type": "stream",
     "text": [
      "\b\b/ "
     ]
    },
    {
     "name": "stdout",
     "output_type": "stream",
     "text": [
      "\b\b- "
     ]
    },
    {
     "name": "stdout",
     "output_type": "stream",
     "text": [
      "\b\b\\ "
     ]
    },
    {
     "name": "stdout",
     "output_type": "stream",
     "text": [
      "\b\b| "
     ]
    },
    {
     "name": "stdout",
     "output_type": "stream",
     "text": [
      "\b\b/ "
     ]
    },
    {
     "name": "stdout",
     "output_type": "stream",
     "text": [
      "\b\b- "
     ]
    },
    {
     "name": "stdout",
     "output_type": "stream",
     "text": [
      "\b\b\\ "
     ]
    },
    {
     "name": "stdout",
     "output_type": "stream",
     "text": [
      "\b\b| "
     ]
    },
    {
     "name": "stdout",
     "output_type": "stream",
     "text": [
      "\b\b/ "
     ]
    },
    {
     "name": "stdout",
     "output_type": "stream",
     "text": [
      "\b\b- "
     ]
    },
    {
     "name": "stdout",
     "output_type": "stream",
     "text": [
      "\b\b\\ "
     ]
    },
    {
     "name": "stdout",
     "output_type": "stream",
     "text": [
      "\b\b| "
     ]
    },
    {
     "name": "stdout",
     "output_type": "stream",
     "text": [
      "\b\b/ "
     ]
    },
    {
     "name": "stdout",
     "output_type": "stream",
     "text": [
      "\b\b- "
     ]
    },
    {
     "name": "stdout",
     "output_type": "stream",
     "text": [
      "\b\b\\ "
     ]
    },
    {
     "name": "stdout",
     "output_type": "stream",
     "text": [
      "\b\b| "
     ]
    },
    {
     "name": "stdout",
     "output_type": "stream",
     "text": [
      "\b\b/ "
     ]
    },
    {
     "name": "stdout",
     "output_type": "stream",
     "text": [
      "\b\b- "
     ]
    },
    {
     "name": "stdout",
     "output_type": "stream",
     "text": [
      "\b\b\\ "
     ]
    },
    {
     "name": "stdout",
     "output_type": "stream",
     "text": [
      "\b\b| "
     ]
    },
    {
     "name": "stdout",
     "output_type": "stream",
     "text": [
      "\b\b/ "
     ]
    },
    {
     "name": "stdout",
     "output_type": "stream",
     "text": [
      "\b\b- "
     ]
    },
    {
     "name": "stdout",
     "output_type": "stream",
     "text": [
      "\b\b\\ "
     ]
    },
    {
     "name": "stdout",
     "output_type": "stream",
     "text": [
      "\b\b| "
     ]
    },
    {
     "name": "stdout",
     "output_type": "stream",
     "text": [
      "\b\b/ "
     ]
    },
    {
     "name": "stdout",
     "output_type": "stream",
     "text": [
      "\b\bdone\r\n"
     ]
    }
   ],
   "source": [
    "#apt-get -y install libperlio-gzip-perl\n",
    "!conda install -c bioconda perl-perlio-gzip -y"
   ]
  },
  {
   "cell_type": "code",
   "execution_count": 7,
   "id": "offshore-transfer",
   "metadata": {
    "execution": {
     "iopub.execute_input": "2021-05-15T17:39:37.416917Z",
     "iopub.status.busy": "2021-05-15T17:39:37.416243Z",
     "iopub.status.idle": "2021-05-15T17:39:37.419489Z",
     "shell.execute_reply": "2021-05-15T17:39:37.418835Z"
    },
    "papermill": {
     "duration": 0.291293,
     "end_time": "2021-05-15T17:39:37.419631",
     "exception": false,
     "start_time": "2021-05-15T17:39:37.128338",
     "status": "completed"
    },
    "tags": []
   },
   "outputs": [],
   "source": [
    "import os\n",
    "#os.environ['LD_LIBRARY_PATH'] = f'{os.environ[\"LD_LIBRARY_PATH\"]}:/opt/kaldi/tools/openfst-1.6.7/lib:/opt/kaldi/src/lib'\n",
    "os.environ['LD_LIBRARY_PATH'] = '/opt/conda/lib:/opt/kaldi/tools/openfst-1.6.7/lib:/opt/kaldi/src/lib'"
   ]
  },
  {
   "cell_type": "code",
   "execution_count": 8,
   "id": "broke-subject",
   "metadata": {
    "execution": {
     "iopub.execute_input": "2021-05-15T17:39:37.997732Z",
     "iopub.status.busy": "2021-05-15T17:39:37.997051Z",
     "iopub.status.idle": "2021-05-15T17:39:39.451375Z",
     "shell.execute_reply": "2021-05-15T17:39:39.450731Z"
    },
    "papermill": {
     "duration": 1.747622,
     "end_time": "2021-05-15T17:39:39.451531",
     "exception": false,
     "start_time": "2021-05-15T17:39:37.703909",
     "status": "completed"
    },
    "tags": []
   },
   "outputs": [],
   "source": [
    "!cat path.sh|sed -e 's/~\\/apps/\\/opt/' > tmp\n",
    "!mv tmp path.sh"
   ]
  },
  {
   "cell_type": "code",
   "execution_count": 9,
   "id": "optional-claim",
   "metadata": {
    "execution": {
     "iopub.execute_input": "2021-05-15T17:39:40.029267Z",
     "iopub.status.busy": "2021-05-15T17:39:40.025595Z",
     "iopub.status.idle": "2021-05-15T17:39:40.733748Z",
     "shell.execute_reply": "2021-05-15T17:39:40.733151Z"
    },
    "papermill": {
     "duration": 0.999251,
     "end_time": "2021-05-15T17:39:40.733892",
     "exception": false,
     "start_time": "2021-05-15T17:39:39.734641",
     "status": "completed"
    },
    "tags": []
   },
   "outputs": [],
   "source": [
    "!echo > local_clarin/clarin_pl_clean.sh"
   ]
  },
  {
   "cell_type": "code",
   "execution_count": 10,
   "id": "spectacular-minnesota",
   "metadata": {
    "execution": {
     "iopub.execute_input": "2021-05-15T17:39:41.307660Z",
     "iopub.status.busy": "2021-05-15T17:39:41.307051Z"
    },
    "papermill": {
     "duration": null,
     "end_time": null,
     "exception": false,
     "start_time": "2021-05-15T17:39:41.016708",
     "status": "running"
    },
    "tags": []
   },
   "outputs": [
    {
     "name": "stdout",
     "output_type": "stream",
     "text": [
      "/opt/kaldi/egs/ClarinStudioKaldi/audio /opt/kaldi/egs/ClarinStudioKaldi\r\n",
      "Downloading audio from the Clarin-pl website (~4.6GB)...\r\n"
     ]
    },
    {
     "name": "stdout",
     "output_type": "stream",
     "text": [
      "  % Total    % Received % Xferd  Average Speed   Time    Time     Time  Current\r\n",
      "                                 Dload  Upload   Total   Spent    Left  Speed\r\n",
      "\r",
      "  0     0    0     0    0     0      0      0 --:--:-- --:--:-- --:--:--     0"
     ]
    },
    {
     "name": "stdout",
     "output_type": "stream",
     "text": [
      "\r",
      "  0     0    0     0    0     0      0      0 --:--:-- --:--:-- --:--:--     0"
     ]
    },
    {
     "name": "stdout",
     "output_type": "stream",
     "text": [
      "\r",
      "  0 4704M    0 38053    0     0  32607      0 42:01:33  0:00:01 42:01:32 32579"
     ]
    },
    {
     "name": "stdout",
     "output_type": "stream",
     "text": [
      "\r",
      "  0 4704M    0  425k    0     0   185k      0  7:12:50  0:00:02  7:12:48  185k"
     ]
    },
    {
     "name": "stdout",
     "output_type": "stream",
     "text": [
      "\r",
      "  0 4704M    0 3744k    0     0  1182k      0  1:07:54  0:00:03  1:07:51 1181k"
     ]
    },
    {
     "name": "stdout",
     "output_type": "stream",
     "text": [
      "\r",
      "  0 4704M    0 13.5M    0     0  3343k      0  0:24:01  0:00:04  0:23:57 3342k"
     ]
    },
    {
     "name": "stdout",
     "output_type": "stream",
     "text": [
      "\r",
      "  0 4704M    0 23.3M    0     0  4630k      0  0:17:20  0:00:05  0:17:15 4810k"
     ]
    },
    {
     "name": "stdout",
     "output_type": "stream",
     "text": [
      "\r",
      "  0 4704M    0 31.9M    0     0  5305k      0  0:15:08  0:00:06  0:15:02 6536k"
     ]
    },
    {
     "name": "stdout",
     "output_type": "stream",
     "text": [
      "\r",
      "  0 4704M    0 41.7M    0     0  5964k      0  0:13:27  0:00:07  0:13:20 8688k"
     ]
    },
    {
     "name": "stdout",
     "output_type": "stream",
     "text": [
      "\r",
      "  1 4704M    1 51.0M    0     0  6369k      0  0:12:36  0:00:08  0:12:28 9625k"
     ]
    },
    {
     "name": "stdout",
     "output_type": "stream",
     "text": [
      "\r",
      "  1 4704M    1 60.3M    0     0  6741k      0  0:11:54  0:00:09  0:11:45 9569k"
     ]
    },
    {
     "name": "stdout",
     "output_type": "stream",
     "text": [
      "\r",
      "  1 4704M    1 70.1M    0     0  7067k      0  0:11:21  0:00:10  0:11:11 9582k"
     ]
    },
    {
     "name": "stdout",
     "output_type": "stream",
     "text": [
      "\r",
      "  1 4704M    1 78.9M    0     0  7238k      0  0:11:05  0:00:11  0:10:54 9626k"
     ]
    },
    {
     "name": "stdout",
     "output_type": "stream",
     "text": [
      "\r",
      "  1 4704M    1 89.3M    0     0  7454k      0  0:10:46  0:00:12  0:10:34 9541k"
     ]
    },
    {
     "name": "stdout",
     "output_type": "stream",
     "text": [
      "\r",
      "  2 4704M    2 98.6M    0     0  7671k      0  0:10:27  0:00:13  0:10:14 9829k"
     ]
    },
    {
     "name": "stdout",
     "output_type": "stream",
     "text": [
      "\r",
      "  2 4704M    2  108M    0     0  7774k      0  0:10:19  0:00:14  0:10:05 9634k"
     ]
    },
    {
     "name": "stdout",
     "output_type": "stream",
     "text": [
      "\r",
      "  2 4704M    2  117M    0     0  7920k      0  0:10:08  0:00:15  0:09:53 9633k"
     ]
    },
    {
     "name": "stdout",
     "output_type": "stream",
     "text": [
      "\r",
      "  2 4704M    2  127M    0     0  8016k      0  0:10:00  0:00:16  0:09:44 9730k"
     ]
    },
    {
     "name": "stdout",
     "output_type": "stream",
     "text": [
      "\r",
      "  2 4704M    2  136M    0     0  8133k      0  0:09:52  0:00:17  0:09:35 9825k"
     ]
    },
    {
     "name": "stdout",
     "output_type": "stream",
     "text": [
      "\r",
      "  3 4704M    3  146M    0     0  8206k      0  0:09:47  0:00:18  0:09:29 9600k"
     ]
    },
    {
     "name": "stdout",
     "output_type": "stream",
     "text": [
      "\r",
      "  3 4704M    3  155M    0     0  8299k      0  0:09:40  0:00:19  0:09:21 9820k"
     ]
    },
    {
     "name": "stdout",
     "output_type": "stream",
     "text": [
      "\r",
      "  3 4704M    3  165M    0     0  8361k      0  0:09:36  0:00:20  0:09:16 9705k"
     ]
    },
    {
     "name": "stdout",
     "output_type": "stream",
     "text": [
      "\r",
      "  3 4704M    3  174M    0     0  8437k      0  0:09:30  0:00:21  0:09:09 9823k"
     ]
    },
    {
     "name": "stdout",
     "output_type": "stream",
     "text": [
      "\r",
      "  3 4704M    3  183M    0     0  8485k      0  0:09:27  0:00:22  0:09:05 9699k"
     ]
    },
    {
     "name": "stdout",
     "output_type": "stream",
     "text": [
      "\r",
      "  4 4704M    4  193M    0     0  8559k      0  0:09:22  0:00:23  0:08:59 9859k"
     ]
    },
    {
     "name": "stdout",
     "output_type": "stream",
     "text": [
      "\r",
      "  4 4704M    4  202M    0     0  8590k      0  0:09:20  0:00:24  0:08:56 9704k"
     ]
    },
    {
     "name": "stdout",
     "output_type": "stream",
     "text": [
      "\r",
      "  4 4704M    4  213M    0     0  8674k      0  0:09:15  0:00:25  0:08:50 9947k"
     ]
    },
    {
     "name": "stdout",
     "output_type": "stream",
     "text": [
      "\r",
      "  4 4704M    4  221M    0     0  8683k      0  0:09:14  0:00:26  0:08:48 9724k"
     ]
    },
    {
     "name": "stdout",
     "output_type": "stream",
     "text": [
      "\r",
      "  4 4704M    4  232M    0     0  8723k      0  0:09:12  0:00:27  0:08:45 9763k"
     ]
    },
    {
     "name": "stdout",
     "output_type": "stream",
     "text": [
      "\r",
      "  5 4704M    5  241M    0     0  8773k      0  0:09:09  0:00:28  0:08:41 9766k"
     ]
    },
    {
     "name": "stdout",
     "output_type": "stream",
     "text": [
      "\r",
      "  5 4704M    5  251M    0     0  8793k      0  0:09:07  0:00:29  0:08:38 9757k"
     ]
    },
    {
     "name": "stdout",
     "output_type": "stream",
     "text": [
      "\r",
      "  5 4704M    5  260M    0     0  8847k      0  0:09:04  0:00:30  0:08:34 9718k"
     ]
    },
    {
     "name": "stdout",
     "output_type": "stream",
     "text": [
      "\r",
      "  5 4704M    5  270M    0     0  8854k      0  0:09:04  0:00:31  0:08:33 9736k"
     ]
    },
    {
     "name": "stdout",
     "output_type": "stream",
     "text": [
      "\r",
      "  5 4704M    5  279M    0     0  8891k      0  0:09:01  0:00:32  0:08:29 9818k"
     ]
    },
    {
     "name": "stdout",
     "output_type": "stream",
     "text": [
      "\r",
      "  6 4704M    6  289M    0     0  8907k      0  0:09:00  0:00:33  0:08:27 9650k"
     ]
    },
    {
     "name": "stdout",
     "output_type": "stream",
     "text": [
      "\r",
      "  6 4704M    6  298M    0     0  8940k      0  0:08:58  0:00:34  0:08:24 9815k"
     ]
    },
    {
     "name": "stdout",
     "output_type": "stream",
     "text": [
      "\r",
      "  6 4704M    6  308M    0     0  8955k      0  0:08:57  0:00:35  0:08:22 9597k"
     ]
    },
    {
     "name": "stdout",
     "output_type": "stream",
     "text": [
      "\r",
      "  6 4704M    6  317M    0     0  8985k      0  0:08:56  0:00:36  0:08:20 9810k"
     ]
    },
    {
     "name": "stdout",
     "output_type": "stream",
     "text": [
      "\r",
      "  6 4704M    6  327M    0     0  8999k      0  0:08:55  0:00:37  0:08:18 9697k"
     ]
    },
    {
     "name": "stdout",
     "output_type": "stream",
     "text": [
      "\r",
      "  7 4704M    7  336M    0     0  9027k      0  0:08:53  0:00:38  0:08:15 9832k"
     ]
    },
    {
     "name": "stdout",
     "output_type": "stream",
     "text": [
      "\r",
      "  7 4704M    7  346M    0     0  9038k      0  0:08:53  0:00:39  0:08:14 9708k"
     ]
    },
    {
     "name": "stdout",
     "output_type": "stream",
     "text": [
      "\r",
      "  7 4704M    7  355M    0     0  9063k      0  0:08:51  0:00:40  0:08:11 9835k"
     ]
    },
    {
     "name": "stdout",
     "output_type": "stream",
     "text": [
      "\r",
      "  7 4704M    7  364M    0     0  9072k      0  0:08:50  0:00:41  0:08:09 9706k"
     ]
    },
    {
     "name": "stdout",
     "output_type": "stream",
     "text": [
      "\r",
      "  7 4704M    7  374M    0     0  9105k      0  0:08:49  0:00:42  0:08:07 9897k"
     ]
    },
    {
     "name": "stdout",
     "output_type": "stream",
     "text": [
      "\r",
      "  8 4704M    8  383M    0     0  9104k      0  0:08:49  0:00:43  0:08:06 9695k"
     ]
    },
    {
     "name": "stdout",
     "output_type": "stream",
     "text": [
      "\r",
      "  8 4704M    8  394M    0     0  9143k      0  0:08:46  0:00:44  0:08:02 9970k"
     ]
    },
    {
     "name": "stdout",
     "output_type": "stream",
     "text": [
      "\r",
      "  8 4704M    8  403M    0     0  9140k      0  0:08:47  0:00:45  0:08:02 9763k"
     ]
    },
    {
     "name": "stdout",
     "output_type": "stream",
     "text": [
      "\r",
      "  8 4704M    8  413M    0     0  9148k      0  0:08:46  0:00:46  0:08:00 9763k"
     ]
    },
    {
     "name": "stdout",
     "output_type": "stream",
     "text": [
      "\r",
      "  8 4704M    8  422M    0     0  9174k      0  0:08:45  0:00:47  0:07:58 9761k"
     ]
    },
    {
     "name": "stdout",
     "output_type": "stream",
     "text": [
      "\r",
      "  9 4704M    9  432M    0     0  9174k      0  0:08:45  0:00:48  0:07:57 9765k"
     ]
    },
    {
     "name": "stdout",
     "output_type": "stream",
     "text": [
      "\r",
      "  9 4704M    9  441M    0     0  9191k      0  0:08:44  0:00:49  0:07:55 9614k"
     ]
    },
    {
     "name": "stdout",
     "output_type": "stream",
     "text": [
      "\r",
      "  9 4704M    9  451M    0     0  9197k      0  0:08:43  0:00:50  0:07:53 9701k"
     ]
    },
    {
     "name": "stdout",
     "output_type": "stream",
     "text": [
      "\r",
      "  9 4704M    9  460M    0     0  9212k      0  0:08:42  0:00:51  0:07:51 9813k"
     ]
    },
    {
     "name": "stdout",
     "output_type": "stream",
     "text": [
      "\r",
      "  9 4704M    9  470M    0     0  9218k      0  0:08:42  0:00:52  0:07:50 9633k"
     ]
    },
    {
     "name": "stdout",
     "output_type": "stream",
     "text": [
      "\r",
      " 10 4704M   10  480M    0     0  9238k      0  0:08:41  0:00:53  0:07:48 9858k"
     ]
    },
    {
     "name": "stdout",
     "output_type": "stream",
     "text": [
      "\r",
      " 10 4704M   10  489M    0     0  9243k      0  0:08:41  0:00:54  0:07:47 9760k"
     ]
    },
    {
     "name": "stdout",
     "output_type": "stream",
     "text": [
      "\r",
      " 10 4704M   10  499M    0     0  9257k      0  0:08:40  0:00:55  0:07:45 9871k"
     ]
    },
    {
     "name": "stdout",
     "output_type": "stream",
     "text": [
      "\r",
      " 10 4704M   10  508M    0     0  9261k      0  0:08:40  0:00:56  0:07:44 9760k"
     ]
    },
    {
     "name": "stdout",
     "output_type": "stream",
     "text": [
      "\r",
      " 11 4704M   11  517M    0     0  9274k      0  0:08:39  0:00:57  0:07:42 9864k"
     ]
    },
    {
     "name": "stdout",
     "output_type": "stream",
     "text": [
      "\r",
      " 11 4704M   11  527M    0     0  9278k      0  0:08:39  0:00:58  0:07:41 9709k"
     ]
    },
    {
     "name": "stdout",
     "output_type": "stream",
     "text": [
      "\r",
      " 11 4704M   11  536M    0     0  9291k      0  0:08:38  0:00:59  0:07:39 9806k"
     ]
    },
    {
     "name": "stdout",
     "output_type": "stream",
     "text": [
      "\r",
      " 11 4704M   11  546M    0     0  9296k      0  0:08:38  0:01:00  0:07:38 9730k"
     ]
    },
    {
     "name": "stdout",
     "output_type": "stream",
     "text": [
      "\r",
      " 11 4704M   11  556M    0     0  9309k      0  0:08:37  0:01:01  0:07:36 9855k"
     ]
    },
    {
     "name": "stdout",
     "output_type": "stream",
     "text": [
      "\r",
      " 12 4704M   12  565M    0     0  9311k      0  0:08:37  0:01:02  0:07:35 9734k"
     ]
    },
    {
     "name": "stdout",
     "output_type": "stream",
     "text": [
      "\r",
      " 12 4704M   12  575M    0     0  9328k      0  0:08:36  0:01:03  0:07:33 9919k"
     ]
    },
    {
     "name": "stdout",
     "output_type": "stream",
     "text": [
      "\r",
      " 12 4704M   12  584M    0     0  9328k      0  0:08:36  0:01:04  0:07:32 9770k"
     ]
    },
    {
     "name": "stdout",
     "output_type": "stream",
     "text": [
      "\r",
      " 12 4704M   12  594M    0     0  9346k      0  0:08:35  0:01:05  0:07:30 9946k"
     ]
    },
    {
     "name": "stdout",
     "output_type": "stream",
     "text": [
      "\r",
      " 12 4704M   12  603M    0     0  9341k      0  0:08:35  0:01:06  0:07:29 9737k"
     ]
    },
    {
     "name": "stdout",
     "output_type": "stream",
     "text": [
      "\r",
      " 13 4704M   13  614M    0     0  9363k      0  0:08:34  0:01:07  0:07:27  9.7M"
     ]
    },
    {
     "name": "stdout",
     "output_type": "stream",
     "text": [
      "\r",
      " 13 4704M   13  622M    0     0  9356k      0  0:08:34  0:01:08  0:07:26 9701k"
     ]
    },
    {
     "name": "stdout",
     "output_type": "stream",
     "text": [
      "\r",
      " 13 4704M   13  633M    0     0  9360k      0  0:08:34  0:01:09  0:07:25 9768k"
     ]
    },
    {
     "name": "stdout",
     "output_type": "stream",
     "text": [
      "\r",
      " 13 4704M   13  642M    0     0  9371k      0  0:08:34  0:01:10  0:07:24 9704k"
     ]
    },
    {
     "name": "stdout",
     "output_type": "stream",
     "text": [
      "\r",
      " 13 4704M   13  652M    0     0  9372k      0  0:08:34  0:01:11  0:07:23 9765k"
     ]
    },
    {
     "name": "stdout",
     "output_type": "stream",
     "text": [
      "\r",
      " 14 4704M   14  661M    0     0  9387k      0  0:08:33  0:01:12  0:07:21 9705k"
     ]
    },
    {
     "name": "stdout",
     "output_type": "stream",
     "text": [
      "\r",
      " 14 4704M   14  671M    0     0  9382k      0  0:08:33  0:01:13  0:07:20 9738k"
     ]
    },
    {
     "name": "stdout",
     "output_type": "stream",
     "text": [
      "\r",
      " 14 4704M   14  680M    0     0  9393k      0  0:08:32  0:01:14  0:07:18 9855k"
     ]
    },
    {
     "name": "stdout",
     "output_type": "stream",
     "text": [
      "\r",
      " 14 4704M   14  690M    0     0  9395k      0  0:08:32  0:01:15  0:07:17 9729k"
     ]
    },
    {
     "name": "stdout",
     "output_type": "stream",
     "text": [
      "\r",
      " 14 4704M   14  700M    0     0  9405k      0  0:08:32  0:01:16  0:"
     ]
    },
    {
     "name": "stdout",
     "output_type": "stream",
     "text": [
      "07:16 9881k"
     ]
    },
    {
     "name": "stdout",
     "output_type": "stream",
     "text": [
      "\r",
      " 15 4704M   15  709M    0     0  9405k      0  0:08:32  0:01:17  0:07:15 9654k"
     ]
    },
    {
     "name": "stdout",
     "output_type": "stream",
     "text": [
      "\r",
      " 15 4704M   15  718M    0     0  9413k      0  0:08:31  0:01:18  0:07:13 9875k"
     ]
    },
    {
     "name": "stdout",
     "output_type": "stream",
     "text": [
      "\r",
      " 15 4704M   15  728M    0     0  9413k      0  0:08:31  0:01:19  0:07:12 9712k"
     ]
    },
    {
     "name": "stdout",
     "output_type": "stream",
     "text": [
      "\r",
      " 15 4704M   15  737M    0     0  9422k      0  0:08:31  0:01:20  0:07:11 9824k"
     ]
    },
    {
     "name": "stdout",
     "output_type": "stream",
     "text": [
      "\r",
      " 15 4704M   15  747M    0     0  9422k      0  0:08:31  0:01:21  0:07:10 9678k"
     ]
    },
    {
     "name": "stdout",
     "output_type": "stream",
     "text": [
      "\r",
      " 16 4704M   16  756M    0     0  9430k      0  0:08:30  0:01:22  0:07:08 9826k"
     ]
    },
    {
     "name": "stdout",
     "output_type": "stream",
     "text": [
      "\r",
      " 16 4704M   16  766M    0     0  9429k      0  0:08:30  0:01:23  0:07:07 9676k"
     ]
    },
    {
     "name": "stdout",
     "output_type": "stream",
     "text": [
      "\r",
      " 16 4704M   16  776M    0     0  9442k      0  0:08:30  0:01:24  0:07:06 9898k"
     ]
    },
    {
     "name": "stdout",
     "output_type": "stream",
     "text": [
      "\r",
      " 16 4704M   16  785M    0     0  9437k      0  0:08:30  0:01:25  0:07:05 9680k"
     ]
    },
    {
     "name": "stdout",
     "output_type": "stream",
     "text": [
      "\r",
      " 16 4704M   16  795M    0     0  9453k      0  0:08:29  0:01:26  0:07:03 9965k"
     ]
    },
    {
     "name": "stdout",
     "output_type": "stream",
     "text": [
      "\r",
      " 17 4704M   17  804M    0     0  9444k      0  0:08:30  0:01:27  0:07:03 9685k"
     ]
    },
    {
     "name": "stdout",
     "output_type": "stream",
     "text": [
      "\r",
      " 17 4704M   17  814M    0     0  9448k      0  0:08:29  0:01:28  0:07:01 9757k"
     ]
    },
    {
     "name": "stdout",
     "output_type": "stream",
     "text": [
      "\r",
      " 17 4704M   17  823M    0     0  9454k      0  0:08:29  0:01:29  0:07:00 9659k"
     ]
    },
    {
     "name": "stdout",
     "output_type": "stream",
     "text": [
      "\r",
      " 17 4704M   17  833M    0     0  9455k      0  0:08:29  0:01:30  0:06:59 9761k"
     ]
    },
    {
     "name": "stdout",
     "output_type": "stream",
     "text": [
      "\r",
      " 17 4704M   17  842M    0     0  9465k      0  0:08:28  0:01:31  0:06:57 9670k"
     ]
    },
    {
     "name": "stdout",
     "output_type": "stream",
     "text": [
      "\r",
      " 18 4704M   18  852M    0     0  9462k      0  0:08:29  0:01:32  0:06:57 9765k"
     ]
    },
    {
     "name": "stdout",
     "output_type": "stream",
     "text": [
      "\r",
      " 18 4704M   18  862M    0     0  9469k      0  0:08:28  0:01:33  0:06:55 9840k"
     ]
    },
    {
     "name": "stdout",
     "output_type": "stream",
     "text": [
      "\r",
      " 18 4704M   18  871M    0     0  9468k      0  0:08:28  0:01:34  0:06:54 9713k"
     ]
    },
    {
     "name": "stdout",
     "output_type": "stream",
     "text": [
      "\r",
      " 18 4704M   18  880M    0     0  9475k      0  0:08:28  0:01:35  0:06:53 9837k"
     ]
    },
    {
     "name": "stdout",
     "output_type": "stream",
     "text": [
      "\r",
      " 18 4704M   18  890M    0     0  9474k      0  0:08:28  0:01:36  0:06:52 9641k"
     ]
    },
    {
     "name": "stdout",
     "output_type": "stream",
     "text": [
      "\r",
      " 19 4704M   19  900M    0     0  9482k      0  0:08:28  0:01:37  0:06:51 9855k"
     ]
    },
    {
     "name": "stdout",
     "output_type": "stream",
     "text": [
      "\r",
      " 19 4704M   19  909M    0     0  9481k      0  0:08:28  0:01:38  0:06:50 9707k"
     ]
    },
    {
     "name": "stdout",
     "output_type": "stream",
     "text": [
      "\r",
      " 19 4704M   19  918M    0     0  9488k      0  0:08:27  0:01:39  0:06:48 9857k"
     ]
    },
    {
     "name": "stdout",
     "output_type": "stream",
     "text": [
      "\r",
      " 19 4704M   19  928M    0     0  9487k      0  0:08:27  0:01:40  0:06:47 9712k"
     ]
    },
    {
     "name": "stdout",
     "output_type": "stream",
     "text": [
      "\r",
      " 19 4704M   19  938M    0     0  9494k      0  0:08:27  0:01:41  0:06:46 9894k"
     ]
    },
    {
     "name": "stdout",
     "output_type": "stream",
     "text": [
      "\r",
      " 20 4704M   20  947M    0     0  9492k      0  0:08:27  0:01:42  0:06:45 9690k"
     ]
    },
    {
     "name": "stdout",
     "output_type": "stream",
     "text": [
      "\r",
      " 20 4704M   20  957M    0     0  9504k      0  0:08:26  0:01:43  0:06:43 9954k"
     ]
    },
    {
     "name": "stdout",
     "output_type": "stream",
     "text": [
      "\r",
      " 20 4704M   20  966M    0     0  9498k      0  0:08:27  0:01:44  0:06:43 9694k"
     ]
    },
    {
     "name": "stdout",
     "output_type": "stream",
     "text": [
      "\r",
      " 20 4704M   20  977M    0     0  9500k      0  0:08:27  0:01:45  0:06:42 9763k"
     ]
    },
    {
     "name": "stdout",
     "output_type": "stream",
     "text": [
      "\r",
      " 20 4704M   20  985M    0     0  9502k      0  0:08:26  0:01:46  0:06:40 9663k"
     ]
    },
    {
     "name": "stdout",
     "output_type": "stream",
     "text": [
      "\r",
      " 21 4704M   21  996M    0     0  9505k      0  0:08:26  0:01:47  0:06:39 9762k"
     ]
    },
    {
     "name": "stdout",
     "output_type": "stream",
     "text": [
      "\r",
      " 21 4704M   21 1004M    0     0  9510k      0  0:08:26  0:01:48  0:06:38 9637k"
     ]
    },
    {
     "name": "stdout",
     "output_type": "stream",
     "text": [
      "\r",
      " 21 4704M   21 1014M    0     0  9509k      0  0:08:26  0:01:49  0:06:37 9751k"
     ]
    },
    {
     "name": "stdout",
     "output_type": "stream",
     "text": [
      "\r",
      " 21 4704M   21 1023M    0     0  9516k      0  0:08:26  0:01:50  0:06:36 9862k"
     ]
    },
    {
     "name": "stdout",
     "output_type": "stream",
     "text": [
      "\r",
      " 21 4704M   21 1033M    0     0  9515k      0  0:08:26  0:01:51  0:06:35 9770k"
     ]
    },
    {
     "name": "stdout",
     "output_type": "stream",
     "text": [
      "\r",
      " 22 4704M   22 1043M    0     0  9524k      0  0:08:25  0:01:52  0:06:33 9940k"
     ]
    },
    {
     "name": "stdout",
     "output_type": "stream",
     "text": [
      "\r",
      " 22 4704M   22 1052M    0     0  9519k      0  0:08:26  0:01:53  0:06:33 9713k"
     ]
    },
    {
     "name": "stdout",
     "output_type": "stream",
     "text": [
      "\r",
      " 22 4704M   22 1062M    0     0  9525k      0  0:08:25  0:01:54  0:06:31 9877k"
     ]
    },
    {
     "name": "stdout",
     "output_type": "stream",
     "text": [
      "\r",
      " 22 4704M   22 1072M    0     0  9524k      0  0:08:25  0:01:55  0:06:30 9690k"
     ]
    },
    {
     "name": "stdout",
     "output_type": "stream",
     "text": [
      "\r",
      " 22 4704M   22 1081M    0     0  9531k      0  0:08:25  0:01:56  0:06:29 9893k"
     ]
    },
    {
     "name": "stdout",
     "output_type": "stream",
     "text": [
      "\r",
      " 23 4704M   23 1090M    0     0  9528k      0  0:08:25  0:01:57  0:06:28 9615k"
     ]
    },
    {
     "name": "stdout",
     "output_type": "stream",
     "text": [
      "\r",
      " 23 4704M   23 1100M    0     0  9535k      0  0:08:25  0:01:58  0:06:27 9892k"
     ]
    },
    {
     "name": "stdout",
     "output_type": "stream",
     "text": [
      "\r",
      " 23 4704M   23 1110M    0     0  9533k      0  0:08:25  0:01:59  0:06:26 9699k"
     ]
    },
    {
     "name": "stdout",
     "output_type": "stream",
     "text": [
      "\r",
      " 23 4704M   23 1119M    0     0  9540k      0  0:08:24  0:02:00  0:06:24 9920k"
     ]
    },
    {
     "name": "stdout",
     "output_type": "stream",
     "text": [
      "\r",
      " 24 4704M   24 1129M    0     0  9538k      0  0:08:25  0:02:01  0:06:24 9714k"
     ]
    },
    {
     "name": "stdout",
     "output_type": "stream",
     "text": [
      "\r",
      " 24 4704M   24 1139M    0     0  9547k      0  0:08:24  0:02:02  0:06:22 9996k"
     ]
    },
    {
     "name": "stdout",
     "output_type": "stream",
     "text": [
      "\r",
      " 24 4704M   24 1148M    0     0  9543k      0  0:08:24  0:02:03  0:06:21 9736k"
     ]
    },
    {
     "name": "stdout",
     "output_type": "stream",
     "text": [
      "\r",
      " 24 4704M   24 1158M    0     0  9551k      0  0:08:24  0:02:04  0:06:20  9.7M"
     ]
    },
    {
     "name": "stdout",
     "output_type": "stream",
     "text": [
      "\r",
      " 24 4704M   24 1167M    0     0  9547k      0  0:08:24  0:02:05  0:06:19 9717k"
     ]
    },
    {
     "name": "stdout",
     "output_type": "stream",
     "text": [
      "\r",
      " 25 4704M   25 1177M    0     0  9557k      0  0:08:24  0:02:06  0:06:18  9.7M"
     ]
    },
    {
     "name": "stdout",
     "output_type": "stream",
     "text": [
      "\r",
      " 25 4704M   25 1186M    0     0  9551k      0  0:08:24  0:02:07  0:06:17 9665k"
     ]
    },
    {
     "name": "stdout",
     "output_type": "stream",
     "text": [
      "\r",
      " 25 4704M   25 1196M    0     0  9561k      0  0:08:23  0:02:08  0:06:15  9.7M"
     ]
    },
    {
     "name": "stdout",
     "output_type": "stream",
     "text": [
      "\r",
      " 25 4704M   25 1206M    0     0  9557k      0  0:08:24  0:02:09  0:06:15 9689k"
     ]
    },
    {
     "name": "stdout",
     "output_type": "stream",
     "text": [
      "\r",
      " 25 4704M   25 1216M    0     0  9567k      0  0:08:23  0:02:10  0:06:13  9.8M"
     ]
    },
    {
     "name": "stdout",
     "output_type": "stream",
     "text": [
      "\r",
      " 26 4704M   26 1225M    0     0  9560k      0  0:08:23  0:02:11  0:06:12 9648k"
     ]
    },
    {
     "name": "stdout",
     "output_type": "stream",
     "text": [
      "\r",
      " 26 4704M   26 1235M    0     0  9572k      0  0:08:23  0:02:12  0:06:11  9.8M"
     ]
    },
    {
     "name": "stdout",
     "output_type": "stream",
     "text": [
      "\r",
      " 26 4704M   26 1244M    0     0  9563k      0  0:08:23  0:02:13  0:06:10 9615k"
     ]
    },
    {
     "name": "stdout",
     "output_type": "stream",
     "text": [
      "\r",
      " 26 4704M   26 1254M    0     0  9565k      0  0:08:23  0:02:14  0:06:09 9769k"
     ]
    },
    {
     "name": "stdout",
     "output_type": "stream",
     "text": [
      "\r",
      " 26 4704M   26 1263M    0     0  9566k      0  0:08:23  0:02:15  0:06:08 9563k"
     ]
    },
    {
     "name": "stdout",
     "output_type": "stream",
     "text": [
      "\r",
      " 27 4704M   27 1274M    0     0  9570k      0  0:08:23  0:02:16  0:06:07 9818k"
     ]
    },
    {
     "name": "stdout",
     "output_type": "stream",
     "text": [
      "\r",
      " 27 4704M   27 1282M    0     0  9571k      0  0:08:23  0:02:17  0:06:06 9541k"
     ]
    },
    {
     "name": "stdout",
     "output_type": "stream",
     "text": [
      "\r",
      " 27 4704M   27 1293M    0     0  9572k      0  0:08:23  0:02:18  0:06:05 9807k"
     ]
    },
    {
     "name": "stdout",
     "output_type": "stream",
     "text": [
      "\r",
      " 27 4704M   27 1301M    0     0  9573k      0  0:08:23  0:02:19  0:06:04 9810k"
     ]
    },
    {
     "name": "stdout",
     "output_type": "stream",
     "text": [
      "\r",
      " 27 4704M   27 1312M    0     0  9576k      0  0:08:23  0:02:20  0:06:03 9829k"
     ]
    },
    {
     "name": "stdout",
     "output_type": "stream",
     "text": [
      "\r",
      " 28 4704M   28 1320M    0     0  9578k      0  0:08:22  0:02:21  0:06:01 9805k"
     ]
    },
    {
     "name": "stdout",
     "output_type": "stream",
     "text": [
      "\r",
      " 28 4704M   28 1331M    0     0  9578k      0  0:08:22  0:02:22  0:06:00 9787k"
     ]
    },
    {
     "name": "stdout",
     "output_type": "stream",
     "text": [
      "\r",
      " 28 4704M   28 1339M    0     0  9582k      0  0:08:22  0:02:23  0:05:59 9877k"
     ]
    },
    {
     "name": "stdout",
     "output_type": "stream",
     "text": [
      "\r",
      " 28 4704M   28 1349M    0     0  9581k      0  0:08:22  0:02:24  0:05:58 9789k"
     ]
    },
    {
     "name": "stdout",
     "output_type": "stream",
     "text": [
      "\r",
      " 28 4704M   28 1359M    0     0  9587k      0  0:08:22  0:02:25  0:05:57 9916k"
     ]
    },
    {
     "name": "stdout",
     "output_type": "stream",
     "text": [
      "\r",
      " 29 4704M   29 1368M    0     0  9583k      0  0:08:22  0:02:26  0:05:56 9740k"
     ]
    },
    {
     "name": "stdout",
     "output_type": "stream",
     "text": [
      "\r",
      " 29 4704M   29 1378M    0     0  9589k      0  0:08:22  0:02:27  0:05:55 9907k"
     ]
    },
    {
     "name": "stdout",
     "output_type": "stream",
     "text": [
      "\r",
      " 29 4704M   29 1387M    0     0  9586k      0  0:08:22  0:02:28  0:05:54 9684k"
     ]
    },
    {
     "name": "stdout",
     "output_type": "stream",
     "text": [
      "\r",
      " 29 4704M   29 1397M    0     0  9592k      0  0:08:22  0:02:29  0:05:53 9912k"
     ]
    },
    {
     "name": "stdout",
     "output_type": "stream",
     "text": [
      "\r",
      " 29 4704M   29 1406M    0     0  9589k      0  0:08:22  0:02:30  0:05:52 9636k"
     ]
    },
    {
     "name": "stdout",
     "output_type": "stream",
     "text": [
      "\r",
      " 30 4704M   30 1416M    0     0  9594k      0  0:08:22  0:02:31  0:05:51 9917k"
     ]
    },
    {
     "name": "stdout",
     "output_type": "stream",
     "text": [
      "\r",
      " 30 4704M   30 1425M    0     0  9591k      0  0:08:22  0:02:32  0:05:50 9649k"
     ]
    },
    {
     "name": "stdout",
     "output_type": "stream",
     "text": [
      "\r",
      " 30 4704M   30 1435M    0     0  9599k      0  0:08:21  0:02:33  0:05:48 9987k"
     ]
    },
    {
     "name": "stdout",
     "output_type": "stream",
     "text": [
      "\r",
      " 30 4704M   30 1444M    0     0  9594k      0  0:08:22  0:02:34  0:05:48 9656k"
     ]
    },
    {
     "name": "stdout",
     "output_type": "stream",
     "text": [
      "\r",
      " 30 4704M   30 1455M    0     0  9603k      0  0:08:21  0:02:35  0:05:46  9.7M"
     ]
    },
    {
     "name": "stdout",
     "output_type": "stream",
     "text": [
      "\r",
      " 31 4704M   31 1463M    0     0  9595k      0  0:08:22  0:02:36  0:05:46 9631k"
     ]
    },
    {
     "name": "stdout",
     "output_type": "stream",
     "text": [
      "\r",
      " 31 4704M   31 1474M    0     0  9607k      0  0:08:21  0:02:37  0:05:44  9.8M"
     ]
    },
    {
     "name": "stdout",
     "output_type": "stream",
     "text": [
      "\r",
      " 31 4704M   31 1483M    0     0  9600k      0  0:08:21  0:02:38  0:05:43 9644k"
     ]
    },
    {
     "name": "stdout",
     "output_type": "stream",
     "text": [
      "\r",
      " 31 4704M   31 1493M    0     0  9608k      0  0:08:21  0:02:39  0:05:42  9.8M"
     ]
    },
    {
     "name": "stdout",
     "output_type": "stream",
     "text": [
      "\r",
      " 31 4704M   31 1502M    0     0  9605k      0  0:08:21  0:02:40  0:05:41 9671k"
     ]
    },
    {
     "name": "stdout",
     "output_type": "stream",
     "text": [
      "\r",
      " 32 4704M   32 1512M    0     0  9611k      0  0:08:21  0:02:41  0:05:40  9.8M"
     ]
    },
    {
     "name": "stdout",
     "output_type": "stream",
     "text": [
      "\r",
      " 32 4704M   32 1521M    0     0  9608k      0  0:08:21  0:02:42  0:05:39 9639k"
     ]
    },
    {
     "name": "stdout",
     "output_type": "stream",
     "text": [
      "\r",
      " 32 4704M   32 1532M    0     0  9615k      0  0:08:21  0:02:43  0:05:38  9.8M"
     ]
    },
    {
     "name": "stdout",
     "output_type": "stream",
     "text": [
      "\r",
      " 32 4704M   32 1541M    0     0  9611k      0  0:08:21  0:02:44  0:05:37 9717k"
     ]
    },
    {
     "name": "stdout",
     "output_type": "stream",
     "text": [
      "\r",
      " 32 4704M   32 1551M    0     0  9619k      0  0:08:20  0:02:45  0:05:35  9.8M"
     ]
    },
    {
     "name": "stdout",
     "output_type": "stream",
     "text": [
      "\r",
      " 33 4704M   33 1560M    0     0  9613k      0  0:08:21  0:02:46  0:05:35 9658k"
     ]
    },
    {
     "name": "stdout",
     "output_type": "stream",
     "text": [
      "\r",
      " 33 4704M   33 1570M    0     0  9614k      0  0:08:21  0:02:47  0:05:34 9812k"
     ]
    },
    {
     "name": "stdout",
     "output_type": "stream",
     "text": [
      "\r",
      " 33 4704M   33 1579M    0     0  9614k      0  0:08:21  0:02:48  0:05:33 9595k"
     ]
    },
    {
     "name": "stdout",
     "output_type": "stream",
     "text": [
      "\r",
      " 33 4704M   33 1589M    0     0  9616k      0  0:08:20  0:02:49  0:05:31 9776k"
     ]
    },
    {
     "name": "stdout",
     "output_type": "stream",
     "text": [
      "\r",
      " 33 4704M   33 1598M    0     0  9618k      0  0:08:20  0:02:50  0:05:30 9572k"
     ]
    },
    {
     "name": "stdout",
     "output_type": "stream",
     "text": [
      "\r",
      " 34 4704M   34 1608M    0     0  9618k      0  0:08:20  0:02:51  0:05:29 9774k"
     ]
    },
    {
     "name": "stdout",
     "output_type": "stream",
     "text": [
      "\r",
      " 34 4704M   34 1617M    0     0  9622k      0  0:08:20  0:02:52  0:05:28 9891k"
     ]
    },
    {
     "name": "stdout",
     "output_type": "stream",
     "text": [
      "\r",
      " 34 4704M   34 1627M    0     0  9619k      0  0:08:20  0:02:53  0:05:27 9776k"
     ]
    },
    {
     "name": "stdout",
     "output_type": "stream",
     "text": [
      "\r",
      " 34 4704M   34 1637M    0     0  9625k      0  0:08:20  0:02:54  0:05:26 9953k"
     ]
    },
    {
     "name": "stdout",
     "output_type": "stream",
     "text": [
      "\r",
      " 34 4704M   34 1646M    0     0  9621k      0  0:08:20  0:02:55  0:05:25 9725k"
     ]
    },
    {
     "name": "stdout",
     "output_type": "stream",
     "text": [
      "\r",
      " 35 4704M   35 1656M    0     0  9624k      0  0:08:20  0:02:56  0:05:24 9861k"
     ]
    },
    {
     "name": "stdout",
     "output_type": "stream",
     "text": [
      "\r",
      " 35 4704M   35 1665M    0     0  9622k      0  0:08:20  0:02:57  0:05:23 9629k"
     ]
    },
    {
     "name": "stdout",
     "output_type": "stream",
     "text": [
      "\r",
      " 35 4704M   35 1674M    0     0  9626k      0  0:08:20  0:02:58  0:05:22 9856k"
     ]
    },
    {
     "name": "stdout",
     "output_type": "stream",
     "text": [
      "\r",
      " 35 4704M   35 1684M    0     0  9623k      0  0:08:20  0:02:59  0:05:21 9553k"
     ]
    },
    {
     "name": "stdout",
     "output_type": "stream",
     "text": [
      "\r",
      " 36 4704M   36 1694M    0     0  9628k      0  0:08:20  0:03:00  0:05:20 9890k"
     ]
    },
    {
     "name": "stdout",
     "output_type": "stream",
     "text": [
      "\r",
      " 36 4704M   36 1703M    0     0  9626k      0  0:08:20  0:03:01  0:05:19 9671k"
     ]
    },
    {
     "name": "stdout",
     "output_type": "stream",
     "text": [
      "\r",
      " 36 4704M   36 1713M    0     0  9631k      0  0:08:20  0:03:02  0:05:18 9940k"
     ]
    },
    {
     "name": "stdout",
     "output_type": "stream",
     "text": [
      "\r",
      " 36 4704M   36 1722M    0     0  9628k      0  0:08:20  0:03:03  0:05:17 9691k"
     ]
    },
    {
     "name": "stdout",
     "output_type": "stream",
     "text": [
      "\r",
      " 36 4704M   36 1732M    0     0  9634k      0  0:08:20  0:03:04  0:05:16  9.7M"
     ]
    },
    {
     "name": "stdout",
     "output_type": "stream",
     "text": [
      "\r",
      " 37 4704M   37 1741M    0     0  9629k      0  0:08:20  0:03:05  0:05:15 9673k"
     ]
    },
    {
     "name": "stdout",
     "output_type": "stream",
     "text": [
      "\r",
      " 37 4704M   37 1752M    0     0  9637k      0  0:08:19  0:03:06  0:05:13  9.8M"
     ]
    },
    {
     "name": "stdout",
     "output_type": "stream",
     "text": [
      "\r",
      " 37 4704M   37 1760M    0     0  9631k      0  0:08:20  0:03:07  0:05:13 9633k"
     ]
    },
    {
     "name": "stdout",
     "output_type": "stream",
     "text": [
      "\r",
      " 37 4704M   37 1771M    0     0  9631k      0  0:08:20  0:03:08  0:05:12 9769k"
     ]
    },
    {
     "name": "stdout",
     "output_type": "stream",
     "text": [
      "\r",
      " 37 4704M   37 1779M    0     0  9633k      0  0:08:20  0:03:09  0:05:11 9593k"
     ]
    },
    {
     "name": "stdout",
     "output_type": "stream",
     "text": [
      "\r",
      " 38 4704M   38 1790M    0     0  9633k      0  0:08:20  0:03:10  0:05:10 9776k"
     ]
    },
    {
     "name": "stdout",
     "output_type": "stream",
     "text": [
      "\r",
      " 38 4704M   38 1798M    0     0  9636k      0  0:08:19  0:03:11  0:05:08 9582k"
     ]
    },
    {
     "name": "stdout",
     "output_type": "stream",
     "text": [
      "\r",
      " 38 4704M   38 1809M    0     0  9634k      0  0:08:20  0:03:12  0:05:08 9771k"
     ]
    },
    {
     "name": "stdout",
     "output_type": "stream",
     "text": [
      "\r",
      " 38 4704M   38 "
     ]
    },
    {
     "name": "stdout",
     "output_type": "stream",
     "text": [
      "1818M    0     0  9639k      0  0:08:19  0:03:13  0:05:06 9929k"
     ]
    },
    {
     "name": "stdout",
     "output_type": "stream",
     "text": [
      "\r",
      " 38 4704M   38 1828M    0     0  9636k      0  0:08:19  0:03:14  0:05:05 9753k"
     ]
    },
    {
     "name": "stdout",
     "output_type": "stream",
     "text": [
      "\r",
      " 39 4704M   39 1837M    0     0  9639k      0  0:08:19  0:03:15  0:05:04 9879k"
     ]
    },
    {
     "name": "stdout",
     "output_type": "stream",
     "text": [
      "\r",
      " 39 4704M   39 1847M    0     0  9640k      0  0:08:19  0:03:16  0:05:03 9819k"
     ]
    },
    {
     "name": "stdout",
     "output_type": "stream",
     "text": [
      "\r",
      " 39 4704M   39 1857M    0     0  9645k      0  0:08:19  0:03:17  0:05:02  9.8M"
     ]
    },
    {
     "name": "stdout",
     "output_type": "stream",
     "text": [
      "\r",
      " 39 4704M   39 1866M    0     0  9642k      0  0:08:19  0:03:18  0:05:01 9754k"
     ]
    },
    {
     "name": "stdout",
     "output_type": "stream",
     "text": [
      "\r",
      " 39 4704M   39 1876M    0     0  9644k      0  0:08:19  0:03:19  0:05:00 9945k"
     ]
    },
    {
     "name": "stdout",
     "output_type": "stream",
     "text": [
      "\r",
      " 40 4704M   40 1885M    0     0  9643k      0  0:08:19  0:03:20  0:04:59 9782k"
     ]
    },
    {
     "name": "stdout",
     "output_type": "stream",
     "text": [
      "\r",
      " 40 4704M   40 1895M    0     0  9649k      0  0:08:19  0:03:21  0:04:58 9980k"
     ]
    },
    {
     "name": "stdout",
     "output_type": "stream",
     "text": [
      "\r",
      " 40 4704M   40 1905M    0     0  9645k      0  0:08:19  0:03:22  0:04:57 9668k"
     ]
    },
    {
     "name": "stdout",
     "output_type": "stream",
     "text": [
      "\r",
      " 40 4704M   40 1914M    0     0  9648k      0  0:08:19  0:03:23  0:04:56 9883k"
     ]
    },
    {
     "name": "stdout",
     "output_type": "stream",
     "text": [
      "\r",
      " 40 4704M   40 1924M    0     0  9646k      0  0:08:19  0:03:24  0:04:55 9757k"
     ]
    },
    {
     "name": "stdout",
     "output_type": "stream",
     "text": [
      "\r",
      " 41 4704M   41 1933M    0     0  9649k      0  0:08:19  0:03:25  0:04:54 9886k"
     ]
    },
    {
     "name": "stdout",
     "output_type": "stream",
     "text": [
      "\r",
      " 41 4704M   41 1943M    0     0  9648k      0  0:08:19  0:03:26  0:04:53 9644k"
     ]
    },
    {
     "name": "stdout",
     "output_type": "stream",
     "text": [
      "\r",
      " 41 4704M   41 1952M    0     0  9651k      0  0:08:19  0:03:27  0:04:52 9889k"
     ]
    },
    {
     "name": "stdout",
     "output_type": "stream",
     "text": [
      "\r",
      " 41 4704M   41 1962M    0     0  9650k      0  0:08:19  0:03:28  0:04:51 9733k"
     ]
    },
    {
     "name": "stdout",
     "output_type": "stream",
     "text": [
      "\r",
      " 41 4704M   41 1971M    0     0  9652k      0  0:08:19  0:03:29  0:04:50 9893k"
     ]
    },
    {
     "name": "stdout",
     "output_type": "stream",
     "text": [
      "\r",
      " 42 4704M   42 1981M    0     0  9651k      0  0:08:19  0:03:30  0:04:49 9744k"
     ]
    },
    {
     "name": "stdout",
     "output_type": "stream",
     "text": [
      "\r",
      " 42 4704M   42 1990M    0     0  9653k      0  0:08:19  0:03:31  0:04:48 9848k"
     ]
    },
    {
     "name": "stdout",
     "output_type": "stream",
     "text": [
      "\r",
      " 42 4704M   42 2000M    0     0  9652k      0  0:08:19  0:03:32  0:04:47 9692k"
     ]
    },
    {
     "name": "stdout",
     "output_type": "stream",
     "text": [
      "\r",
      " 42 4704M   42 2009M    0     0  9655k      0  0:08:18  0:03:33  0:04:45 9870k"
     ]
    },
    {
     "name": "stdout",
     "output_type": "stream",
     "text": [
      "\r",
      " 42 4704M   42 2019M    0     0  9653k      0  0:08:19  0:03:34  0:04:45 9702k"
     ]
    },
    {
     "name": "stdout",
     "output_type": "stream",
     "text": [
      "\r",
      " 43 4704M   43 2029M    0     0  9657k      0  0:08:18  0:03:35  0:04:43 9926k"
     ]
    },
    {
     "name": "stdout",
     "output_type": "stream",
     "text": [
      "\r",
      " 43 4704M   43 2038M    0     0  9654k      0  0:08:18  0:03:36  0:04:42 9701k"
     ]
    },
    {
     "name": "stdout",
     "output_type": "stream",
     "text": [
      "\r",
      " 43 4704M   43 2048M    0     0  9660k      0  0:08:18  0:03:37  0:04:41  9.7M"
     ]
    },
    {
     "name": "stdout",
     "output_type": "stream",
     "text": [
      "\r",
      " 43 4704M   43 2057M    0     0  9656k      0  0:08:18  0:03:38  0:04:40 9699k"
     ]
    },
    {
     "name": "stdout",
     "output_type": "stream",
     "text": [
      "\r",
      " 43 4704M   43 2068M    0     0  9662k      0  0:08:18  0:03:39  0:04:39  9.8M"
     ]
    },
    {
     "name": "stdout",
     "output_type": "stream",
     "text": [
      "\r",
      " 44 4704M   44 2076M    0     0  9658k      0  0:08:18  0:03:40  0:04:38 9698k"
     ]
    },
    {
     "name": "stdout",
     "output_type": "stream",
     "text": [
      "\r",
      " 44 4704M   44 2087M    0     0  9657k      0  0:08:18  0:03:41  0:04:37 9784k"
     ]
    },
    {
     "name": "stdout",
     "output_type": "stream",
     "text": [
      "\r",
      " 44 4704M   44 2096M    0     0  9661k      0  0:08:18  0:03:42  0:04:36 9681k"
     ]
    },
    {
     "name": "stdout",
     "output_type": "stream",
     "text": [
      "\r",
      " 44 4704M   44 2105M    0     0  9658k      0  0:08:18  0:03:43  0:04:35 9763k"
     ]
    },
    {
     "name": "stdout",
     "output_type": "stream",
     "text": [
      "\r",
      " 44 4704M   44 2115M    0     0  9660k      0  0:08:18  0:03:44  0:04:34 9569k"
     ]
    },
    {
     "name": "stdout",
     "output_type": "stream",
     "text": [
      "\r",
      " 45 4704M   45 2125M    0     0  9660k      0  0:08:18  0:03:45  0:04:33 9737k"
     ]
    },
    {
     "name": "stdout",
     "output_type": "stream",
     "text": [
      "\r",
      " 45 4704M   45 2134M    0     0  9663k      0  0:08:18  0:03:46  0:04:32 9895k"
     ]
    },
    {
     "name": "stdout",
     "output_type": "stream",
     "text": [
      "\r",
      " 45 4704M   45 2144M    0     0  9662k      0  0:08:18  0:03:47  0:04:31 9708k"
     ]
    },
    {
     "name": "stdout",
     "output_type": "stream",
     "text": [
      "\r",
      " 45 4704M   45 2153M    0     0  9663k      0  0:08:18  0:03:48  0:04:30 9882k"
     ]
    },
    {
     "name": "stdout",
     "output_type": "stream",
     "text": [
      "\r",
      " 45 4704M   45 2163M    0     0  9662k      0  0:08:18  0:03:49  0:04:29 9767k"
     ]
    },
    {
     "name": "stdout",
     "output_type": "stream",
     "text": [
      "\r",
      " 46 4704M   46 2172M    0     0  9664k      0  0:08:18  0:03:50  0:04:28 9841k"
     ]
    },
    {
     "name": "stdout",
     "output_type": "stream",
     "text": [
      "\r",
      " 46 4704M   46 2182M    0     0  9663k      0  0:08:18  0:03:51  0:04:27 9682k"
     ]
    },
    {
     "name": "stdout",
     "output_type": "stream",
     "text": [
      "\r",
      " 46 4704M   46 2191M    0     0  9665k      0  0:08:18  0:03:52  0:04:26 9807k"
     ]
    },
    {
     "name": "stdout",
     "output_type": "stream",
     "text": [
      "\r",
      " 46 4704M   46 2200M    0     0  9664k      0  0:08:18  0:03:53  0:04:25 9699k"
     ]
    },
    {
     "name": "stdout",
     "output_type": "stream",
     "text": [
      "\r",
      " 46 4704M   46 2210M    0     0  9665k      0  0:08:18  0:03:54  0:04:24 9805k"
     ]
    },
    {
     "name": "stdout",
     "output_type": "stream",
     "text": [
      "\r",
      " 47 4704M   47 2219M    0     0  9665k      0  0:08:18  0:03:55  0:04:23 9712k"
     ]
    },
    {
     "name": "stdout",
     "output_type": "stream",
     "text": [
      "\r",
      " 47 4704M   47 2229M    0     0  9667k      0  0:08:18  0:03:56  0:04:22 9868k"
     ]
    },
    {
     "name": "stdout",
     "output_type": "stream",
     "text": [
      "\r",
      " 47 4704M   47 2239M    0     0  9668k      0  0:08:18  0:03:57  0:04:21 9826k"
     ]
    },
    {
     "name": "stdout",
     "output_type": "stream",
     "text": [
      "\r",
      " 47 4704M   47 2249M    0     0  9670k      0  0:08:18  0:03:58  0:04:20 9962k"
     ]
    },
    {
     "name": "stdout",
     "output_type": "stream",
     "text": [
      "\r",
      " 48 4704M   48 2259M  "
     ]
    },
    {
     "name": "stdout",
     "output_type": "stream",
     "text": [
      "  0     0  9670k      0  0:08:18  0:03:59  0:04:19 9878k"
     ]
    },
    {
     "name": "stdout",
     "output_type": "stream",
     "text": [
      "\r",
      " 48 4704M   48 2268M    0     0  967"
     ]
    },
    {
     "name": "stdout",
     "output_type": "stream",
     "text": [
      "2k      0  0:08:18  0:04:00  0:04:18 9978k"
     ]
    },
    {
     "name": "stdout",
     "output_type": "stream",
     "text": [
      "\r",
      " 48 4704M   48 2278M    0     0  9671k      0  0:08:18  0:04:01  0:04:17 9829k"
     ]
    },
    {
     "name": "stdout",
     "output_type": "stream",
     "text": [
      "\r",
      " 48 4704M   48 22"
     ]
    },
    {
     "name": "stdout",
     "output_type": "stream",
     "text": [
      "87M    0     0  9672k      0  0:08:18  0:04:02  0:04:16 9871k"
     ]
    },
    {
     "name": "stdout",
     "output_type": "stream",
     "text": [
      "\r",
      " 48 4704M   48 2297M    0     0  9672k      0  0:08:18  0:04:03  0:04:15 9754k"
     ]
    },
    {
     "name": "stdout",
     "output_type": "stream",
     "text": [
      "\r",
      " 49 4704M   49 2306M    0     0  9674k      0  0:08:17  0:04:04  0:04:13 9873k"
     ]
    },
    {
     "name": "stdout",
     "output_type": "stream",
     "text": [
      "\r",
      " 49 4704M   49 2316M    0     0  9673k      0  0:08:18  0:04:05  0:04:13 9757k"
     ]
    },
    {
     "name": "stdout",
     "output_type": "stream",
     "text": [
      "\r",
      " 49 4704M   49 2326M    0     0  9676k      0  0:08:17  0:04:06  0:04:11 9924k"
     ]
    },
    {
     "name": "stdout",
     "output_type": "stream",
     "text": [
      "\r",
      " 49 4704M   49 2335M    0     0  9674k      0  0:08:17  0:04:07  0:04:10 9781k"
     ]
    },
    {
     "name": "stdout",
     "output_type": "stream",
     "text": [
      "\r",
      " 49 4704M   49 2345M    0     0  9678k      0  0:08:17  0:04:08  0:04:09 9961k"
     ]
    },
    {
     "name": "stdout",
     "output_type": "stream",
     "text": [
      "\r",
      " 50 4704M   50 2354M    0     0  9675k      0  0:08:17  0:04:09  0:04:08 9727k"
     ]
    },
    {
     "name": "stdout",
     "output_type": "stream",
     "text": [
      "\r",
      " 50 4704M   50 2364M    0     0  9680k      0  0:08:17  0:04:10  0:04:07  9.7M"
     ]
    },
    {
     "name": "stdout",
     "output_type": "stream",
     "text": [
      "\r",
      " 50 4704M   50 2373M    0     0  9676k      0  0:08:17  0:04:11  0:04:06 9695k"
     ]
    },
    {
     "name": "stdout",
     "output_type": "stream",
     "text": [
      "\r",
      " 50 4704M   50 2384M    0     0  9676k      0  0:08:17  0:04:12  0:04:05 9764k"
     ]
    },
    {
     "name": "stdout",
     "output_type": "stream",
     "text": [
      "\r",
      " 50 4704M   50 2392M    0     0  9678k      0  0:08:17  0:04:13  0:04:04 9710k"
     ]
    },
    {
     "name": "stdout",
     "output_type": "stream",
     "text": [
      "\r",
      " 51 4704M   51 2403M    0     0  9677k      0  0:08:17  0:04:14  0:04:03 9772k"
     ]
    },
    {
     "name": "stdout",
     "output_type": "stream",
     "text": [
      "\r",
      " 51 4704M   51 2412M    0     0  9681k      0  0:08:17  0:04:15  0:04:02 9742k"
     ]
    },
    {
     "name": "stdout",
     "output_type": "stream",
     "text": [
      "\r",
      " 51 4704M   51 2422M    0     0  9678k      0  0:08:17  0:04:16  0:04:01 9757k"
     ]
    },
    {
     "name": "stdout",
     "output_type": "stream",
     "text": [
      "\r",
      " 51 4704M   51 2431M    0     0  9679k      0  0:08:17  0:04:17  0:04:00 9840k"
     ]
    },
    {
     "name": "stdout",
     "output_type": "stream",
     "text": [
      "\r",
      " 51 4704M   51 2440M    0     0  9678k      0  0:08:17  0:04:18  0:03:59 9677k"
     ]
    },
    {
     "name": "stdout",
     "output_type": "stream",
     "text": [
      "\r",
      " 52 4704M   52 2450M    0     0  9680k      0  0:08:17  0:04:19  0:03:58 9836k"
     ]
    },
    {
     "name": "stdout",
     "output_type": "stream",
     "text": [
      "\r",
      " 52 4704M   52 2459M    0     0  9679k      0  0:08:17  0:04:20  0:03:57 9577k"
     ]
    },
    {
     "name": "stdout",
     "output_type": "stream",
     "text": [
      "\r",
      " 52 4704M   52 2469M    0     0  9681k      0  0:08:17  0:04:21  0:03:56 9820k"
     ]
    },
    {
     "name": "stdout",
     "output_type": "stream",
     "text": [
      "\r",
      " 52 4704M   52 2478M    0     0  9679k      0  0:08:17  0:04:22  0:03:55 9679k"
     ]
    },
    {
     "name": "stdout",
     "output_type": "stream",
     "text": [
      "\r",
      " 52 4704M   52 2488M    0     0  9681k      0  0:08:17  0:04:23  0:03:54 9823k"
     ]
    },
    {
     "name": "stdout",
     "output_type": "stream",
     "text": [
      "\r",
      " 53 4704M   53 2497M    0     0  9680k      0  0:08:17  0:04:24  0:03:53 9682k"
     ]
    },
    {
     "name": "stdout",
     "output_type": "stream",
     "text": [
      "\r",
      " 53 4704M   53 2507M    0     0  9683k      0  0:08:17  0:04:25  0:03:52 9900k"
     ]
    },
    {
     "name": "stdout",
     "output_type": "stream",
     "text": [
      "\r",
      " 53 4704M   53 2516M    0     0  9681k      0  0:08:17  0:04:26  0:03:51 9680k"
     ]
    },
    {
     "name": "stdout",
     "output_type": "stream",
     "text": [
      "\r",
      " 53 4704M   53 2526M    0     0  9685k      0  0:08"
     ]
    },
    {
     "name": "stdout",
     "output_type": "stream",
     "text": [
      ":17  0:04:27  0:03:50 9961k"
     ]
    },
    {
     "name": "stdout",
     "output_type": "stream",
     "text": [
      "\r",
      " 53 4704M   53 2535M    0     0  9681k      0  0:08:17  0:04:28  0:03:49 9697k"
     ]
    },
    {
     "name": "stdout",
     "output_type": "stream",
     "text": [
      "\r",
      " 54 4704M   54 2546M    0     0  9682k      0  0:08:17  0:04:29  0:03:48 9771k"
     ]
    },
    {
     "name": "stdout",
     "output_type": "stream",
     "text": [
      "\r",
      " 54 4704M   54 2554M    0     0  9683k      0  0:08:17  0:04:30  0:03:47 9675k"
     ]
    },
    {
     "name": "stdout",
     "output_type": "stream",
     "text": [
      "\r",
      " 54 4704M   54 2565M    0     0  9682k      0  0:08:17  0:04:31  0:03:46 9778k"
     ]
    },
    {
     "name": "stdout",
     "output_type": "stream",
     "text": [
      "\r",
      " 54 4704M   54 2574M    0     0  9685k      0  0:08:17  0:04:32  0:03:45 9682k"
     ]
    },
    {
     "name": "stdout",
     "output_type": "stream",
     "text": [
      "\r",
      " 54 4704M   54 2584M    0     0  9683k      0  0:08:17  0:04:33  0:03:44 9758k"
     ]
    },
    {
     "name": "stdout",
     "output_type": "stream",
     "text": [
      "\r",
      " 55 4704M   55 2593M    0     0  9685k      0  0:08:17  0:04:34  0:03:43 9844k"
     ]
    },
    {
     "name": "stdout",
     "output_type": "stream",
     "text": [
      "\r",
      " 55 4704M   55 2603M    0     0  9683k      0  0:08:17  0:04:35  0:03:42 9711k"
     ]
    },
    {
     "name": "stdout",
     "output_type": "stream",
     "text": [
      "\r",
      " 55 4704M   55 2612M    0     0  9685k      0  0:08:17  0:04:36  0:03:41 9843k"
     ]
    },
    {
     "name": "stdout",
     "output_type": "stream",
     "text": [
      "\r",
      " 55 4704M   55 2621M    0     0  9684k      0  "
     ]
    },
    {
     "name": "stdout",
     "output_type": "stream",
     "text": [
      "0:08:17  0:04:37  0:03:40 9664k"
     ]
    },
    {
     "name": "stdout",
     "output_type": "stream",
     "text": [
      "\r",
      " 55 4704M   55 2631M    0     0  9686k      0  0:08:17  0:04:38  0:03:39 9847k"
     ]
    },
    {
     "name": "stdout",
     "output_type": "stream",
     "text": [
      "\r",
      " 56 4704M   56 2640M    0     0  9685k      0  0:08:17  0:04:39  0:03:38 9677k"
     ]
    },
    {
     "name": "stdout",
     "output_type": "stream",
     "text": [
      "\r",
      " 56 4704M   56 2650M    0     0  9687k      0  0:08:17  0:04:40  0:03:37 9864k"
     ]
    },
    {
     "name": "stdout",
     "output_type": "stream",
     "text": [
      "\r",
      " 56 4704M   56 2659M    0     0  9685k      0  0:08:17  0:04:41  0:03:36 9696k"
     ]
    },
    {
     "name": "stdout",
     "output_type": "stream",
     "text": [
      "\r",
      " 56 4704M   56 2669M    0     0  9688k      0  0:08:17  0:04:42  0:03:35 9894k"
     ]
    },
    {
     "name": "stdout",
     "output_type": "stream",
     "text": [
      "\r",
      " 56 4704M   56 2678M    0     0  9686k      0  0:08:17  0:04:43  0:03:34 9697k"
     ]
    },
    {
     "name": "stdout",
     "output_type": "stream",
     "text": [
      "\r",
      " 57 4704M   57 2688M    0     0  9689k      0  0:08:17  0:04:44  0:03:33 9964k"
     ]
    },
    {
     "name": "stdout",
     "output_type": "stream",
     "text": [
      "\r",
      " 57 4704M   57 2697M    0     0  9686k      0  0:08:17  0:04:45  0:03:32 9672k"
     ]
    },
    {
     "name": "stdout",
     "output_type": "stream",
     "text": [
      "\r",
      " 57 4704M   57 2708M    0     0  9687k      0  0:08:17  0:04:46  0:03:31 9757k"
     ]
    },
    {
     "name": "stdout",
     "output_type": "stream",
     "text": [
      "\r",
      " 57 4704M   57 2716M    0     0  9687k      0  0:08:17  0:04:47  0:03:30 9666k"
     ]
    },
    {
     "name": "stdout",
     "output_type": "stream",
     "text": [
      "\r",
      " 57 4704M   57 2727M    0     0  9687k      0  0:08:17  0:04:48  0:03:29 9755k"
     ]
    },
    {
     "name": "stdout",
     "output_type": "stream",
     "text": [
      "\r",
      " 58 4704M   58 2736M    0     0  9689k      0  0:08:17  0:04:49  0:03:28 9673k"
     ]
    },
    {
     "name": "stdout",
     "output_type": "stream",
     "text": [
      "\r",
      " 58 4704M   58 2746M    0     0  9688k      0  0:08:17  0:04:50  0:03:27 9779k"
     ]
    },
    {
     "name": "stdout",
     "output_type": "stream",
     "text": [
      "\r",
      " 58 4704M   58 2755M    0     0  9691k      0  0:08:17  0:04:51  0:03:26 9934k"
     ]
    },
    {
     "name": "stdout",
     "output_type": "stream",
     "text": [
      "\r",
      " 58 4704M   58 2765M    0     0  9688k      0  0:08:17  0:04:52  0:03:25 9748k"
     ]
    },
    {
     "name": "stdout",
     "output_type": "stream",
     "text": [
      "\r",
      " 58 4704M   58 2774M    0     0  9690k      0  0:08:17  0:04:53  0:03:24 9878k"
     ]
    },
    {
     "name": "stdout",
     "output_type": "stream",
     "text": [
      "\r",
      " 59 4704M   59 2784M    0     0  9689k      0  0:08:17  0:04:54  0:03:23 9690k"
     ]
    },
    {
     "name": "stdout",
     "output_type": "stream",
     "text": [
      "\r",
      " 59 4704M   59 2793M    0     0  9691k      0  0:08:17  0:04:55  0:03:22 9865k"
     ]
    },
    {
     "name": "stdout",
     "output_type": "stream",
     "text": [
      "\r",
      " 59 4704M   59 2803M    0     0  9690k      0  0:08:17  0:04:56  0:03:21 9629k"
     ]
    },
    {
     "name": "stdout",
     "output_type": "stream",
     "text": [
      "\r",
      " 59 4704M   59 2813M    0     0  9692k      0  0:08:17  0:04:57  0:03:20 9904k"
     ]
    },
    {
     "name": "stdout",
     "output_type": "stream",
     "text": [
      "\r",
      " 59 4704M   59 2822M    0     0  9691k      0  0:08:17  0:04:58  0:03:19 9721k"
     ]
    },
    {
     "name": "stdout",
     "output_type": "stream",
     "text": [
      "\r",
      " 60 4704M   60 2831M    0     0  9693k      0  0:08:17  0:04:59  0:03:18 9895k"
     ]
    },
    {
     "name": "stdout",
     "output_type": "stream",
     "text": [
      "\r",
      " 60 4704M   60 2841M    0     0  9691k      0  0:08:17  0:05:00  0:03:17 9714k"
     ]
    },
    {
     "name": "stdout",
     "output_type": "stream",
     "text": [
      "\r",
      " 60 4704M   60 2850M    0     0  9693k      0  0:08:16  0:05:01  0:03:15 9888k"
     ]
    },
    {
     "name": "stdout",
     "output_type": "stream",
     "text": [
      "\r",
      " 60 4704M   60 2860M    0     0  9692k      0  0:08:17  0:05:02  0:03:15 9680k"
     ]
    },
    {
     "name": "stdout",
     "output_type": "stream",
     "text": [
      "\r",
      " 61 4704M   61 2870M    0     0  9694k      0  0:08:16  0:05:03  0:03:13 9899k"
     ]
    },
    {
     "name": "stdout",
     "output_type": "stream",
     "text": [
      "\r",
      " 61 4704M   61 2879M    0     0  9692k      0  0:08:17  0:05:04  0:03:13 9690k"
     ]
    },
    {
     "name": "stdout",
     "output_type": "stream",
     "text": [
      "\r",
      " 61 4704M   61 2889M    0     0  9696k      0  0:08:16  0:05:05  0:03:11 9963k"
     ]
    },
    {
     "name": "stdout",
     "output_type": "stream",
     "text": [
      "\r",
      " 61 4704M   61 2898M    0     0  9693k      0  0:08:16  0:05:06  0:03:10 9699k"
     ]
    },
    {
     "name": "stdout",
     "output_type": "stream",
     "text": [
      "\r",
      " 61 4704M   61 2908M    0     0  9697k      0  0:08:16  0:05:07  0:03:09  9.7M"
     ]
    },
    {
     "name": "stdout",
     "output_type": "stream",
     "text": [
      "\r",
      " 62 4704M   62 2917M    0     0  9694k      0  0:08:16  0:05:08  0:03:08 9662k"
     ]
    },
    {
     "name": "stdout",
     "output_type": "stream",
     "text": [
      "\r",
      " 62 4704M   62 2928M    0     0  9694k      0  0:08:16  0:05:09  0:03:07 9787k"
     ]
    },
    {
     "name": "stdout",
     "output_type": "stream",
     "text": [
      "\r",
      " 62 4704M   62 2936M    0     0  9695k      0  0:08:16  0:05:10  0:03:06 9656k"
     ]
    },
    {
     "name": "stdout",
     "output_type": "stream",
     "text": [
      "\r",
      " 62 4704M   62 2947M    0     0  9694k      0  0:08:16  0:05:11  0:03:05 9769k"
     ]
    },
    {
     "name": "stdout",
     "output_type": "stream",
     "text": [
      "\r",
      " 62 4704M   62 2956M    0     0  9697k      0  0:08:16  0:05:12  0:03:04 9671k"
     ]
    },
    {
     "name": "stdout",
     "output_type": "stream",
     "text": [
      "\r",
      " 63 4704M   63 2966M    0     0  9695k      0  0:08:16  0:05:13  0:03:03 9760k"
     ]
    },
    {
     "name": "stdout",
     "output_type": "stream",
     "text": [
      "\r",
      " 63 4704M   63 2975M    0     0  9696k      0  0:08:16  0:05:14  0:03:02 9825k"
     ]
    },
    {
     "name": "stdout",
     "output_type": "stream",
     "text": [
      "\r",
      " 63 4704M   63 2984M    0     0  9695k      0  0:08:16  0:05:15  0:03:01 9699k"
     ]
    },
    {
     "name": "stdout",
     "output_type": "stream",
     "text": [
      "\r",
      " 63 4704M   63 2994M    0     0  9697k      0  0:08:16  0:05:16  0:03:00 9842k"
     ]
    },
    {
     "name": "stdout",
     "output_type": "stream",
     "text": [
      "\r",
      " 63 4704M   63 3003M    0     0  9696k      0  0:08:16  0:05:17  0:02:59 9653k"
     ]
    },
    {
     "name": "stdout",
     "output_type": "stream",
     "text": [
      "\r",
      " 64 4704M   64 3013M    0     0  9697k      0  0:08:16  0:05:18  0:02:58 9835k"
     ]
    },
    {
     "name": "stdout",
     "output_type": "stream",
     "text": [
      "\r",
      " 64 4704M   64 3022M    0     0  9696k      0  0:08:16  0:05:19  0:02:57 9704k"
     ]
    },
    {
     "name": "stdout",
     "output_type": "stream",
     "text": [
      "\r",
      " 64 4704M   64 3032M    0     0  9697k      0  0:08:16  0:05:20  0:02:56 9839k"
     ]
    },
    {
     "name": "stdout",
     "output_type": "stream",
     "text": [
      "\r",
      " 64 4704M   64 3041M    0     0  9697k      0  0:08:16  0:05:21  0:02:55 9700k"
     ]
    },
    {
     "name": "stdout",
     "output_type": "stream",
     "text": [
      "\r",
      " 64 4704M   64 3051M    0     0  9698k      0  0:08:16  0:05:22  0:02:54 9820k"
     ]
    },
    {
     "name": "stdout",
     "output_type": "stream",
     "text": [
      "\r",
      " 65 4704M   65 3060M    0     0  9697k      0  0:08:16  0:05:23  0:02:53 9705k"
     ]
    },
    {
     "name": "stdout",
     "output_type": "stream",
     "text": [
      "\r",
      " 65 4704M   65 3070M    0     0  9699k      0  0:08:16  0:05:24  0:02:52 9889k"
     ]
    },
    {
     "name": "stdout",
     "output_type": "stream",
     "text": [
      "\r",
      " 65 4704M   65 3079M    0     0  9698k      0  0:08:16  0:05:25  0:02:51 9719k"
     ]
    },
    {
     "name": "stdout",
     "output_type": "stream",
     "text": [
      "\r",
      " 65 4704M   65 3090M    0     0  9701k      0  0:08:16  0:05:26  0:02:50 9965k"
     ]
    },
    {
     "name": "stdout",
     "output_type": "stream",
     "text": [
      "\r",
      " 65 4704M   65 3098M    0     0  9698k      0  0:08:16  0:05:27  0:02:49 9734k"
     ]
    },
    {
     "name": "stdout",
     "output_type": "stream",
     "text": [
      "\r",
      " 66 4704M   66 3109M    0     0  9698k      0  0:08:16  0:05:28  0:02:48 9778k"
     ]
    },
    {
     "name": "stdout",
     "output_type": "stream",
     "text": [
      "\r",
      " 66 4704M   66 3118M    0     0  9700k      0  0:08:16  0:05:29  0:02:47 9735k"
     ]
    },
    {
     "name": "stdout",
     "output_type": "stream",
     "text": [
      "\r",
      " 66 4704M   66 3128M    0     0  9699k      0  0:08:16  0:05:30  0:02:46 9759k"
     ]
    },
    {
     "name": "stdout",
     "output_type": "stream",
     "text": [
      "\r",
      " 66 4704M   66 3137M    0     0  9701k      0  0:08:16  0:05:31  0:02:45 9723k"
     ]
    },
    {
     "name": "stdout",
     "output_type": "stream",
     "text": [
      "\r",
      " 66 4704M   66 3147M    0     0  9699k      0  0:08:16  0:05:32  0:02:44 9750k"
     ]
    },
    {
     "name": "stdout",
     "output_type": "stream",
     "text": [
      "\r",
      " 67 4704M   67 3156M    0     0  9700k      0  0:08:16  0:05:33  0:02:43 9818k"
     ]
    },
    {
     "name": "stdout",
     "output_type": "stream",
     "text": [
      "\r",
      " 67 4704M   67 3166M    0     0  9700k      0  0:08:16  0:05:34  0:02:42 9690k"
     ]
    },
    {
     "name": "stdout",
     "output_type": "stream",
     "text": [
      "\r",
      " 67 4704M   67 3175M    0     0  9701k      0  0:08:16  0:05:35  0:02:41 9837k"
     ]
    },
    {
     "name": "stdout",
     "output_type": "stream",
     "text": [
      "\r",
      " 67 4704M   67 3185M    0     0  9700k      0  0:08:16  0:05:36  0:02:40 9626k"
     ]
    },
    {
     "name": "stdout",
     "output_type": "stream",
     "text": [
      "\r",
      " 67 4704M   67 3194M    0     0  9701k      0  0:08:16  0:05:37  0:02:39 9835k"
     ]
    },
    {
     "name": "stdout",
     "output_type": "stream",
     "text": [
      "\r",
      " 68 4704M   68 3204M    0     0  9700k      0  0:08:16  0:05:38  0:02:38 9711k"
     ]
    },
    {
     "name": "stdout",
     "output_type": "stream",
     "text": [
      "\r",
      " 68 4704M   68 3213M    0     0  9701k      0  0:08:16  0:05:39  0:02:37 9825k"
     ]
    },
    {
     "name": "stdout",
     "output_type": "stream",
     "text": [
      "\r",
      " 68 4704M   68 3223M    0     0  9701k      0  0:08:16  0:05:40  0:02:36 9692k"
     ]
    },
    {
     "name": "stdout",
     "output_type": "stream",
     "text": [
      "\r",
      " 68 4704M   68 3232M    0     0  9702k      0  0:08:16  0:05:41  0:02:35 9832k"
     ]
    },
    {
     "name": "stdout",
     "output_type": "stream",
     "text": [
      "\r",
      " 68 4704M   68 3242M    0     0  9701k      0  0:08:16  0:05:42  0:02:34 9701k"
     ]
    },
    {
     "name": "stdout",
     "output_type": "stream",
     "text": [
      "\r",
      " 69 4704M   69 3251M    0     0  9703k      0  0:08:16  0:05:43  0:02:33 9886k"
     ]
    },
    {
     "name": "stdout",
     "output_type": "stream",
     "text": [
      "\r",
      " 69 4704M   69 3260M    0     0  9701k      0  0:08:16  0:05:44  0:02:32 9701k"
     ]
    },
    {
     "name": "stdout",
     "output_type": "stream",
     "text": [
      "\r",
      " 69 4704M   69 3271M    0     0  9704k      0  0:08:16  0:05:45  0:02:31 9958k"
     ]
    },
    {
     "name": "stdout",
     "output_type": "stream",
     "text": [
      "\r",
      " 69 4704M   69 3279M    0     0  9702k      0  0:08:16  0:05:46  0:02:30 9688k"
     ]
    },
    {
     "name": "stdout",
     "output_type": "stream",
     "text": [
      "\r",
      " 69 4704M   69 3290M    0     0  9706k      0  0:08:16  0:05:47  0:02:29  9.7M"
     ]
    },
    {
     "name": "stdout",
     "output_type": "stream",
     "text": [
      "\r",
      " 70 4704M   70 3299M    0     0  9703k      0  0:08:16  0:05:48  0:02:28 9674k"
     ]
    },
    {
     "name": "stdout",
     "output_type": "stream",
     "text": [
      "\r",
      " 70 4704M   70 3309M    0     0  9703k      0  0:08:16  0:05:49  0:02:27 9794k"
     ]
    },
    {
     "name": "stdout",
     "output_type": "stream",
     "text": [
      "\r",
      " 70 4704M   70 3318M    0     0  9704k      0  0:08:16  0:05:50  0:02:26 9676k"
     ]
    },
    {
     "name": "stdout",
     "output_type": "stream",
     "text": [
      "\r",
      " 70 4704M   70 3328M    0     0  9703k      0  0:08:16  0:05:51  0:02:25 9799k"
     ]
    },
    {
     "name": "stdout",
     "output_type": "stream",
     "text": [
      "\r",
      " 70 4704M   70 3337M    0     0  9705k      0  0:08:16  0:05:52  0:02:24 9695k"
     ]
    },
    {
     "name": "stdout",
     "output_type": "stream",
     "text": [
      "\r",
      " 71 4704M   71 3347M    0     0  9703k      0  0:08:16  0:05:53  0:02:23 9758k"
     ]
    },
    {
     "name": "stdout",
     "output_type": "stream",
     "text": [
      "\r",
      " 71 4704M   71 3357M    0     0  9705k      0  0:08:16  0:05:54  0:02:22 9837k"
     ]
    },
    {
     "name": "stdout",
     "output_type": "stream",
     "text": [
      "\r",
      " 71 4704M   71 3366M    0     0  9704k      0  0:08:16  0:05:55  0:02:21 9677k"
     ]
    },
    {
     "name": "stdout",
     "output_type": "stream",
     "text": [
      "\r",
      " 71 4704M   71 3376M    0     0  9705k      0  0:08:16  0:05:56  0:02:20 9843k"
     ]
    },
    {
     "name": "stdout",
     "output_type": "stream",
     "text": [
      "\r",
      " 71 4704M   71 3385M    0     0  9705k      0  0:08:16  0:05:57  0:02:19 9667k"
     ]
    },
    {
     "name": "stdout",
     "output_type": "stream",
     "text": [
      "\r",
      " 72 4704M   72 3395M    0     0  9706k      0  0:08:16  0:05:58  0:02:18 9895k"
     ]
    },
    {
     "name": "stdout",
     "output_type": "stream",
     "text": [
      "\r",
      " 72 4704M   72 3404M    0     0  9705k      0  0:08:16  0:05:59  0:02:17 9744k"
     ]
    },
    {
     "name": "stdout",
     "output_type": "stream",
     "text": [
      "\r",
      " 72 4704M   72 3414M    0     0  9706k      0  0:08:16  0:06:00  0:02:16 9902k"
     ]
    },
    {
     "name": "stdout",
     "output_type": "stream",
     "text": [
      "\r",
      " 72 4704M   72 3423M    0     0  9705k      0  0:08:16  0:06:01  0:02:15 9709k"
     ]
    },
    {
     "name": "stdout",
     "output_type": "stream",
     "text": [
      "\r",
      " 72 4704M   72 3433M    0     0  9707k      0  0:08:16  0:06:02  0:02:14 9832k"
     ]
    },
    {
     "name": "stdout",
     "output_type": "stream",
     "text": [
      "\r",
      " 73 4704M   73 3442M    0     0  9705k      0  0:08:16  0:06:03  0:02:13 9665k"
     ]
    },
    {
     "name": "stdout",
     "output_type": "stream",
     "text": [
      "\r",
      " 73 4704M   73 3452M    0     0  9707k      0  0:08:16  0:06:04  0:02:12 9858k"
     ]
    },
    {
     "name": "stdout",
     "output_type": "stream",
     "text": [
      "\r",
      " 73 4704M   73 3461M    0     0  9706k      0  0:08:16  0:06:05  0:02:11 9674k"
     ]
    },
    {
     "name": "stdout",
     "output_type": "stream",
     "text": [
      "\r",
      " 73 4704M   73 3471M    0     0  9708k      0  0:08:16  0:06:06  0:02:10 9943k"
     ]
    },
    {
     "name": "stdout",
     "output_type": "stream",
     "text": [
      "\r",
      " 73 4704M   73 3480M    0     0  9706k      0  0:08:16  0:06:07  0:02:09 9685k"
     ]
    },
    {
     "name": "stdout",
     "output_type": "stream",
     "text": [
      "\r",
      " 74 4704M   74 3490M    0     0  9709k      0  0:08:16  0:06:08  0:02:08 9991k"
     ]
    },
    {
     "name": "stdout",
     "output_type": "stream",
     "text": [
      "\r",
      " 74 4704M   74 3499M    0     0  9707k      0  0:08:16  0:06:09  0:02:07 9660k"
     ]
    },
    {
     "name": "stdout",
     "output_type": "stream",
     "text": [
      "\r",
      " 74 4704M   74 3510M    0     0  9707k      0  0:08:16  0:06:10  0:02:06 9767k"
     ]
    },
    {
     "name": "stdout",
     "output_type": "stream",
     "text": [
      "\r",
      " 74 4704M   74 3518M    0     0  9708k      0  0:08:16  0:06:11  0:02:05 9661k"
     ]
    },
    {
     "name": "stdout",
     "output_type": "stream",
     "text": [
      "\r",
      " 75 4704M   75 3529M    0     0  9707k      0  0:08:16  0:06:12  0:02:04 9778k"
     ]
    },
    {
     "name": "stdout",
     "output_type": "stream",
     "text": [
      "\r",
      " 75 4704M   75 3538M    0     0  9709k      0  0:08:16  0:06:13  0:02:03 9672k"
     ]
    },
    {
     "name": "stdout",
     "output_type": "stream",
     "text": [
      "\r",
      " 75 4704M   75 3548M    0     0  9708k      0  0:08:16  0:06:14  0:02:02 9833k"
     ]
    },
    {
     "name": "stdout",
     "output_type": "stream",
     "text": [
      "\r",
      " 75 4704M   75 3557M    0     0  9710k      0  0:08:16  0:06:15  0:02:01 9946k"
     ]
    },
    {
     "name": "stdout",
     "output_type": "stream",
     "text": [
      "\r",
      " 75 4704M   75 3567M    0     0  9709k      0  0:08:16  0:06:16  0:02:00 9783k"
     ]
    },
    {
     "name": "stdout",
     "output_type": "stream",
     "text": [
      "\r",
      " 76 4704M   76 3577M    0     0  9711k      0  0:08:16  0:06:17  0:01:59  9.7M"
     ]
    },
    {
     "name": "stdout",
     "output_type": "stream",
     "text": [
      "\r",
      " 76 4704M   76 3586M    0     0  9709k      0  0:08:16  0:06:18  0:01:58 9734k"
     ]
    },
    {
     "name": "stdout",
     "output_type": "stream",
     "text": [
      "\r",
      " 76 4704M   76 3596M    0     0  9710k      0  0:08:16  0:06:19  0:01:57 9847k"
     ]
    },
    {
     "name": "stdout",
     "output_type": "stream",
     "text": [
      "\r",
      " 76 4704M   76 3605M    0     0  9710k      0  0:08:16  0:06:20  0:01:56 9689k"
     ]
    },
    {
     "name": "stdout",
     "output_type": "stream",
     "text": [
      "\r",
      " 76 4704M   76 3615M    0     0  9711k      0  0:08:16  0:06:21  0:01:55 9863k"
     ]
    },
    {
     "name": "stdout",
     "output_type": "stream",
     "text": [
      "\r",
      " 77 4704M   77 3624M    0     0  9710k      0  0:08:16  0:06:22  0:01:54 9627k"
     ]
    },
    {
     "name": "stdout",
     "output_type": "stream",
     "text": [
      "\r",
      " 77 4704M   77 3634M    0     0  9711k      0  0:08:16  0:06:23  0:01:53 9850k"
     ]
    },
    {
     "name": "stdout",
     "output_type": "stream",
     "text": [
      "\r",
      " 77 4704M   77 3643M    0     0  9710k      0  0:08:16  0:06:24  0:01:52 9725k"
     ]
    },
    {
     "name": "stdout",
     "output_type": "stream",
     "text": [
      "\r",
      " 77 4704M   77 3653M    0     0  9711k      0  0:08:16  0:06:25  0:01:51 9842k"
     ]
    },
    {
     "name": "stdout",
     "output_type": "stream",
     "text": [
      "\r",
      " 77 4704M   77 3662M    0     0  9711k      0  0:08:16  0:06:26  0:01:50 9727k"
     ]
    },
    {
     "name": "stdout",
     "output_type": "stream",
     "text": [
      "\r",
      " 78 4704M   78 3672M    0     0  9712k      0  0:08:16  0:06:27  0:01:49 9859k"
     ]
    },
    {
     "name": "stdout",
     "output_type": "stream",
     "text": [
      "\r",
      " 78 4704M   78 3681M    0     0  9711k      0  0:08:16  0:06:28  0:01:48 9729k"
     ]
    },
    {
     "name": "stdout",
     "output_type": "stream",
     "text": [
      "\r",
      " 78 4704M   78 3691M    0     0  9713k      0  0:08:15  0:06:29  0:01:46 9897k"
     ]
    },
    {
     "name": "stdout",
     "output_type": "stream",
     "text": [
      "\r",
      " 78 4704M   78 3700M    0     0  9711k      0  0:08:16  0:06:30  0:01:46 9716k"
     ]
    },
    {
     "name": "stdout",
     "output_type": "stream",
     "text": [
      "\r",
      " 78 4704M   78 3710M    0     0  9714k      0  0:08:15  0:06:31  0:01:44 9918k"
     ]
    },
    {
     "name": "stdout",
     "output_type": "stream",
     "text": [
      "\r",
      " 79 4704M   79 3720M    0     0  9712k      0  0:08:16  0:06:32  0:01:44 9758k"
     ]
    },
    {
     "name": "stdout",
     "output_type": "stream",
     "text": [
      "\r",
      " 79 4704M   79 3730M    0     0  9715k      0  0:08:15  0:06:33  0:01:42 9989k"
     ]
    },
    {
     "name": "stdout",
     "output_type": "stream",
     "text": [
      "\r",
      " 79 4704M   79 3738M    0     0  9713k      0  0:08:15  0:06:34  0:01:41 9713k"
     ]
    },
    {
     "name": "stdout",
     "output_type": "stream",
     "text": [
      "\r",
      " 79 4704M   79 3749M    0     0  9716k      0  0:08:15  0:06:35  0:01:40  9.8M"
     ]
    },
    {
     "name": "stdout",
     "output_type": "stream",
     "text": [
      "\r",
      " 79 4704M   79 3758M    0     0  9714k      0  0:08:15  0:06:36  0:01:39 9709k"
     ]
    },
    {
     "name": "stdout",
     "output_type": "stream",
     "text": [
      "\r",
      " 80 4704M   80 3768M    0     0  9713k      0  0:08:15  0:06:37  0:01:38 9779k"
     ]
    },
    {
     "name": "stdout",
     "output_type": "stream",
     "text": [
      "\r",
      " 80 4704M   80 3777M    0     0  9714k      0  0:08:15  0:06:38  0:01:37 9682k"
     ]
    },
    {
     "name": "stdout",
     "output_type": "stream",
     "text": [
      "\r",
      " 80 4704M   80 3787M    0     0  9713k      0  0:08:15  0:06:39  0:01:36 9767k"
     ]
    },
    {
     "name": "stdout",
     "output_type": "stream",
     "text": [
      "\r",
      " 80 4704M   80 3796M    0     0  9715k      0  0:08:15  0:06:40  0:01:35 9644k"
     ]
    },
    {
     "name": "stdout",
     "output_type": "stream",
     "text": [
      "\r",
      " 80 4704M   80 3806M    0     0  9714k      0  0:08:15  0:06:41  0:01:34 9719k"
     ]
    },
    {
     "name": "stdout",
     "output_type": "stream",
     "text": [
      "\r",
      " 81 4704M   81 3816M    0     0  9715k      0  0:08:15  0:06:42  0:01:33 9840k"
     ]
    },
    {
     "name": "stdout",
     "output_type": "stream",
     "text": [
      "\r",
      " 81 4704M   81 3825M    0     0  9714k      0  0:08:15  0:06:43  0:01:32 9685k"
     ]
    },
    {
     "name": "stdout",
     "output_type": "stream",
     "text": [
      "\r",
      " 81 4704M   81 3834M    0     0  9715k      0  0:08:15  0:06:44  0:01:31 9847k"
     ]
    },
    {
     "name": "stdout",
     "output_type": "stream",
     "text": [
      "\r",
      " 81 4704M   81 3844M    0     0  9714k      0  0:08:15  0:06:45  0:01:30 9634k"
     ]
    },
    {
     "name": "stdout",
     "output_type": "stream",
     "text": [
      "\r",
      " 81 4704M   81 3853M    0     0  9715k      0  0:08:15  0:06:46  0:01:29 9854k"
     ]
    },
    {
     "name": "stdout",
     "output_type": "stream",
     "text": [
      "\r",
      " 82 4704M   82 3863M    0     0  9715k      0  0:08:15  0:06:47  0:01:28 9691k"
     ]
    },
    {
     "name": "stdout",
     "output_type": "stream",
     "text": [
      "\r",
      " 82 4704M   82 3873M    0     0  9716k      0  0:08:15  0:06:48  0:01:27 9898k"
     ]
    },
    {
     "name": "stdout",
     "output_type": "stream",
     "text": [
      "\r",
      " 82 4704M   82 3882M    0     0  9715k      0  0:08:15  0:06:49  0:01:26 9704k"
     ]
    },
    {
     "name": "stdout",
     "output_type": "stream",
     "text": [
      "\r",
      " 82 4704M   82 3892M    0     0  9717k      0  0:08:15  0:06:50  0:01:25 9946k"
     ]
    },
    {
     "name": "stdout",
     "output_type": "stream",
     "text": [
      "\r",
      " 82 4704M   82 3902M    0     0  9716k      0  0:08:15  0:06:51  0:01:24 9810k"
     ]
    },
    {
     "name": "stdout",
     "output_type": "stream",
     "text": [
      "\r",
      " 83 4704M   83 3912M    0     0  9718k      0  0:08:15  0:06:52  0:01:23  9.7M"
     ]
    },
    {
     "name": "stdout",
     "output_type": "stream",
     "text": [
      "\r",
      " 83 4704M   83 3921M    0     0  9716k      0  0:08:15  0:06:53  0:01:22 9730k"
     ]
    },
    {
     "name": "stdout",
     "output_type": "stream",
     "text": [
      "\r",
      " 83 4704M   83 3931M    0     0  9719k      0  0:08:15  0:06:54  0:01:21  9.7M"
     ]
    },
    {
     "name": "stdout",
     "output_type": "stream",
     "text": [
      "\r",
      " 83 4704M   83 3940M    0     0  9717k      0  0:08:15  0:06:55  0:01:20 9744k"
     ]
    },
    {
     "name": "stdout",
     "output_type": "stream",
     "text": [
      "\r",
      " 83 4704M   83 3950M    0     0  9719k      0  0:08:15  0:06:56  0:01:19 9950k"
     ]
    },
    {
     "name": "stdout",
     "output_type": "stream",
     "text": [
      "\r",
      " 84 4704M   84 3959M    0     0  9717k      0  0:08:15  0:06:57  0:01:18 9641k"
     ]
    },
    {
     "name": "stdout",
     "output_type": "stream",
     "text": [
      "\r",
      " 84 4704M   84 3969M    0     0  9720k      0  0:08:15  0:06:58  0:01:17  9.8M"
     ]
    },
    {
     "name": "stdout",
     "output_type": "stream",
     "text": [
      "\r",
      " 84 4704M   84 3978M    0     0  9718k      0  0:08:15  0:06:59  0:01:16 9642k"
     ]
    },
    {
     "name": "stdout",
     "output_type": "stream",
     "text": [
      "\r",
      " 84 4704M   84 3988M    0     0  9721k      0  0:08:15  0:07:00  0:01:15  9.8M"
     ]
    },
    {
     "name": "stdout",
     "output_type": "stream",
     "text": [
      "\r",
      " 84 4704M   84 3997M    0     0  9718k      0  0:08:15  0:07:01  0:01:14 9607k"
     ]
    },
    {
     "name": "stdout",
     "output_type": "stream",
     "text": [
      "\r",
      " 85 4704M   85 4008M    0     0  9718k      0  0:08:15  0:07:02  0:01:13 9758k"
     ]
    },
    {
     "name": "stdout",
     "output_type": "stream",
     "text": [
      "\r",
      " 85 4704M   85 4016M    0     0  9718k      0  0:08:15  0:07:03  0:01:12 9540k"
     ]
    },
    {
     "name": "stdout",
     "output_type": "stream",
     "text": [
      "\r",
      " 85 4704M   85 4026M    0     0  9718k      0  0:08:15  0:07:04  0:01:11 9764k"
     ]
    },
    {
     "name": "stdout",
     "output_type": "stream",
     "text": [
      "\r",
      " 85 4704M   85 4035M    0     0  9719k      0  0:08:15  0:07:05  0:01:10 9544k"
     ]
    },
    {
     "name": "stdout",
     "output_type": "stream",
     "text": [
      "\r",
      " 85 4704M   85 4045M    0     0  9718k      0  0:08:15  0:07:06  0:01:09 9768k"
     ]
    },
    {
     "name": "stdout",
     "output_type": "stream",
     "text": [
      "\r",
      " 86 4704M   86 4054M    0     0  9720k      0  0:08:15  0:07:07  0:01:08 9891k"
     ]
    },
    {
     "name": "stdout",
     "output_type": "stream",
     "text": [
      "\r",
      " 86 4704M   86 4064M    0     0  9719k      0  0:08:15  0:07:08  0:01:07 9773k"
     ]
    },
    {
     "name": "stdout",
     "output_type": "stream",
     "text": [
      "\r",
      " 86 4704M   86 4074M    0     0  9721k      0  0:08:15  0:07:09  0:01:06 9933k"
     ]
    },
    {
     "name": "stdout",
     "output_type": "stream",
     "text": [
      "\r",
      " 86 4704M   86 4083M    0     0  9719k      0  0:08:15  0:07:10  0:01:05 9714k"
     ]
    },
    {
     "name": "stdout",
     "output_type": "stream",
     "text": [
      "\r",
      " 87 4704M   87 4093M    0     0  9722k      0  0:08:15  0:07:11  0:01:04  9.7M"
     ]
    },
    {
     "name": "stdout",
     "output_type": "stream",
     "text": [
      "\r",
      " 87 4704M   87 4103M    0     0  9720k      0  0:08:15  0:07:12  0:01:03 9705k"
     ]
    },
    {
     "name": "stdout",
     "output_type": "stream",
     "text": [
      "\r",
      " 87 4704M   87 4112M    0     0  9721k      0  0:08:15  0:07:13  0:01:02 9942k"
     ]
    },
    {
     "name": "stdout",
     "output_type": "stream",
     "text": [
      "\r",
      " 87 4704M   87 4122M    0     0  9720k      0  0:08:15  0:07:14  0:01:01 9670k"
     ]
    },
    {
     "name": "stdout",
     "output_type": "stream",
     "text": [
      "\r",
      " 87 4704M   87 4131M    0     0  9721k      0  0:08:15  0:07:15  0:01:00 9942k"
     ]
    },
    {
     "name": "stdout",
     "output_type": "stream",
     "text": [
      "\r",
      " 88 4704M   88 4141M    0     0  9720k      0  0:08:15  0:07:16  0:00:59 9588k"
     ]
    },
    {
     "name": "stdout",
     "output_type": "stream",
     "text": [
      "\r",
      " 88 4704M   88 4150M    0     0  9722k      0  0:08:15  0:07:17  0:00:58 9907k"
     ]
    },
    {
     "name": "stdout",
     "output_type": "stream",
     "text": [
      "\r",
      " 88 4704M   88 4160M    0     0  9720k      0  0:08:15  0:07:18  0:00:57 9656k"
     ]
    },
    {
     "name": "stdout",
     "output_type": "stream",
     "text": [
      "\r",
      " 88 4704M   88 4170M    0     0  9722k      0  0:08:15  0:07:19  0:00:56 9908k"
     ]
    },
    {
     "name": "stdout",
     "output_type": "stream",
     "text": [
      "\r",
      " 88 4704M   88 4179M    0     0  9722k      0  0:08:15  0:07:20  0:00:55 9728k"
     ]
    },
    {
     "name": "stdout",
     "output_type": "stream",
     "text": [
      "\r",
      " 89 4704M   89 4189M    0     0  9722k      0  0:08:15  0:07:21  0:00:54 9905k"
     ]
    },
    {
     "name": "stdout",
     "output_type": "stream",
     "text": [
      "\r",
      " 89 4704M   89 4198M    0     0  9722k      0  0:08:15  0:07:22  0:00:53 9722k"
     ]
    },
    {
     "name": "stdout",
     "output_type": "stream",
     "text": [
      "\r",
      " 89 4704M   89 4207M    0     0  9723k      0  0:08:15  0:07:23  0:00:52 9904k"
     ]
    },
    {
     "name": "stdout",
     "output_type": "stream",
     "text": [
      "\r",
      " 89 4704M   89 4218M    0     0  9724k      0  0:08:15  0:07:24  0:00:51 9841k"
     ]
    },
    {
     "name": "stdout",
     "output_type": "stream",
     "text": [
      "\r",
      " 89 4704M   89 4227M    0     0  9725k      0  0:08:15  0:07:25  0:00:50  9.7M"
     ]
    },
    {
     "name": "stdout",
     "output_type": "stream",
     "text": [
      "\r",
      " 90 4704M   90 4237M    0     0  9723k      0  0:08:15  0:07:26  0:00:49 9807k"
     ]
    },
    {
     "name": "stdout",
     "output_type": "stream",
     "text": [
      "\r",
      " 90 4704M   90 4247M    0     0  9725k      0  0:08:15  0:07:27  0:00:48  9.7M"
     ]
    },
    {
     "name": "stdout",
     "output_type": "stream",
     "text": [
      "\r",
      " 90 4704M   90 4256M    0     0  9724k      0  0:08:15  0:07:28  0:00:47 9810k"
     ]
    },
    {
     "name": "stdout",
     "output_type": "stream",
     "text": [
      "\r",
      " 90 4704M   90 4266M    0     0  9725k      0  0:08:15  0:07:29  0:00:46 9869k"
     ]
    },
    {
     "name": "stdout",
     "output_type": "stream",
     "text": [
      "\r",
      " 90 4704M   90 4275M    0     0  9724k      0  0:08:15  0:07:30  0:00:45 9638k"
     ]
    },
    {
     "name": "stdout",
     "output_type": "stream",
     "text": [
      "\r",
      " 91 4704M   91 4285M    0     0  9725k      0  0:08:15  0:07:31  0:00:44 9917k"
     ]
    },
    {
     "name": "stdout",
     "output_type": "stream",
     "text": [
      "\r",
      " 91 4704M   91 4294M    0     0  9724k      0  0:08:15  0:07:32  0:00:43 9642k"
     ]
    },
    {
     "name": "stdout",
     "output_type": "stream",
     "text": [
      "\r",
      " 91 4704M   91 4304M    0     0  9726k      0  0:08:15  0:07:33  0:00:42 9983k"
     ]
    },
    {
     "name": "stdout",
     "output_type": "stream",
     "text": [
      "\r",
      " 91 4704M   91 4313M    0     0  9724k      0  0:08:15  0:07:34  0:00:41 9659k"
     ]
    },
    {
     "name": "stdout",
     "output_type": "stream",
     "text": [
      "\r",
      " 91 4704M   91 4323M    0     0  9727k      0  0:08:15  0:07:35  0:00:40  9.8M"
     ]
    },
    {
     "name": "stdout",
     "output_type": "stream",
     "text": [
      "\r",
      " 92 4704M   92 4332M    0     0  9725k      0  0:08:15  0:07:36  0:00:39 9652k"
     ]
    },
    {
     "name": "stdout",
     "output_type": "stream",
     "text": [
      "\r",
      " 92 4704M   92 4343M    0     0  9725k      0  0:08:15  0:07:37  0:00:38 9779k"
     ]
    },
    {
     "name": "stdout",
     "output_type": "stream",
     "text": [
      "\r",
      " 92 4704M   92 4351M    0     0  9725k      0  0:08:15  0:07:38  0:00:37 9577k"
     ]
    },
    {
     "name": "stdout",
     "output_type": "stream",
     "text": [
      "\r",
      " 92 4704M   92 4362M    0     0  9725k      0  0:08:15  0:07:39  0:00:36 9754k"
     ]
    },
    {
     "name": "stdout",
     "output_type": "stream",
     "text": [
      "\r",
      " 92 4704M   92 4370M    0     0  9725k      0  0:08:15  0:07:40  0:00:35 9500k"
     ]
    },
    {
     "name": "stdout",
     "output_type": "stream",
     "text": [
      "\r",
      " 93 4704M   93 4381M    0     0  9725k      0  0:08:15  0:07:41  0:00:34 9771k"
     ]
    },
    {
     "name": "stdout",
     "output_type": "stream",
     "text": [
      "\r",
      " 93 4704M   93 4389M    0     0  9726k      0  0:08:15  0:07:42  0:00:33 9809k"
     ]
    },
    {
     "name": "stdout",
     "output_type": "stream",
     "text": [
      "\r",
      " 93 4704M   93 4400M    0     0  9725k      0  0:08:15  0:07:43  0:00:32 9776k"
     ]
    },
    {
     "name": "stdout",
     "output_type": "stream",
     "text": [
      "\r",
      " 93 4704M   93 4409M    0     0  9726k      0  0:08:15  0:07:44  0:00:31 9875k"
     ]
    },
    {
     "name": "stdout",
     "output_type": "stream",
     "text": [
      "\r",
      " 93 4704M   93 4419M    0     0  9725k      0  0:08:15  0:07:45  0:00:30 9779k"
     ]
    },
    {
     "name": "stdout",
     "output_type": "stream",
     "text": [
      "\r",
      " 94 4704M   94 4428M    0     0  9727k      0  0:08:15  0:07:46  0:00:29 9911k"
     ]
    },
    {
     "name": "stdout",
     "output_type": "stream",
     "text": [
      "\r",
      " 94 4704M   94 4438M    0     0  9726k      0  0:08:15  0:07:47  0:00:28 9741k"
     ]
    },
    {
     "name": "stdout",
     "output_type": "stream",
     "text": [
      "\r",
      " 94 4704M   94 4447M    0     0  9727k      0  0:08:15  0:07:48  0:00:27 9904k"
     ]
    },
    {
     "name": "stdout",
     "output_type": "stream",
     "text": [
      "\r",
      " 94 4704M   94 4457M    0     0  9726k      0  0:08:15  0:07:49  0:00:26 9710k"
     ]
    },
    {
     "name": "stdout",
     "output_type": "stream",
     "text": [
      "\r",
      " 94 4704M   94 4466M    0     0  9728k      0  0:08:15  0:07:50  0:00:25 9922k"
     ]
    },
    {
     "name": "stdout",
     "output_type": "stream",
     "text": [
      "\r",
      " 95 4704M   95 4476M    0     0  9726k      0  0:08:15  0:07:51  0:00:24 9659k"
     ]
    },
    {
     "name": "stdout",
     "output_type": "stream",
     "text": [
      "\r",
      " 95 4704M   95 4485M    0     0  9728k      0  0:08:15  0:07:52  0:00:23 9915k"
     ]
    },
    {
     "name": "stdout",
     "output_type": "stream",
     "text": [
      "\r",
      " 95 4704M   95 4495M    0     0  9726k      0  0:08:15  0:07:53  0:00:22 9652k"
     ]
    },
    {
     "name": "stdout",
     "output_type": "stream",
     "text": [
      "\r",
      " 95 4704M   95 4505M    0     0  9729k      0  0:08:15  0:07:54  0:00:21 9957k"
     ]
    },
    {
     "name": "stdout",
     "output_type": "stream",
     "text": [
      "\r",
      " 95 4704M   95 4514M    0     0  9727k      0  0:08:15  0:07:55  0:00:20 9641k"
     ]
    },
    {
     "name": "stdout",
     "output_type": "stream",
     "text": [
      "\r",
      " 96 4704M   96 4524M    0     0  9729k      0  0:08:15  0:07:56  0:00:19  9.7M"
     ]
    },
    {
     "name": "stdout",
     "output_type": "stream",
     "text": [
      "\r",
      " 96 4704M   96 4533M    0     0  9727k      0  0:08:15  0:07:57  0:00:18 9654k"
     ]
    },
    {
     "name": "stdout",
     "output_type": "stream",
     "text": [
      "\r",
      " 96 4704M   96 4543M    0     0  9727k      0  0:08:15  0:07:58  0:00:17 9783k"
     ]
    },
    {
     "name": "stdout",
     "output_type": "stream",
     "text": [
      "\r",
      " 96 4704M   96 4552M    0     0  9727k      0  0:08:15  0:07:59  0:00:16 9586k"
     ]
    },
    {
     "name": "stdout",
     "output_type": "stream",
     "text": [
      "\r",
      " 96 4704M   96 4562M    0     0  9727k      0  0:08:15  0:08:00  0:00:15 9770k"
     ]
    },
    {
     "name": "stdout",
     "output_type": "stream",
     "text": [
      "\r",
      " 97 4704M   97 4570M    0     0  9727k      0  0:08:15  0:08:01  0:00:14 9518k"
     ]
    },
    {
     "name": "stdout",
     "output_type": "stream",
     "text": [
      "\r",
      " 97 4704M   97 4581M    0     0  9727k      0  0:08:15  0:08:02  0:00:13 9754k"
     ]
    },
    {
     "name": "stdout",
     "output_type": "stream",
     "text": [
      "\r",
      " 97 4704M   97 4590M    0     0  9728k      0  0:08:15  0:08:03  0:00:12 9804k"
     ]
    },
    {
     "name": "stdout",
     "output_type": "stream",
     "text": [
      "\r",
      " 97 4704M   97 4600M    0     0  9727k      0  0:08:15  0:08:04  0:00:11 9764k"
     ]
    },
    {
     "name": "stdout",
     "output_type": "stream",
     "text": [
      "\r",
      " 97 4704M   97 4609M    0     0  9729k      0  0:08:15  0:08:05  0:00:10 9886k"
     ]
    },
    {
     "name": "stdout",
     "output_type": "stream",
     "text": [
      "\r",
      " 98 4704M   98 4619M    0     0  9728k      0  0:08:15  0:08:06  0:00:09 9767k"
     ]
    },
    {
     "name": "stdout",
     "output_type": "stream",
     "text": [
      "\r",
      " 98 4704M   98 4629M    0     0  9729k      0  0:08:15  0:08:07  0:00:08 9903k"
     ]
    },
    {
     "name": "stdout",
     "output_type": "stream",
     "text": [
      "\r",
      " 98 4704M   98 4638M    0     0  9728k      0  0:08:15  0:08:08  0:00:07 9724k"
     ]
    },
    {
     "name": "stdout",
     "output_type": "stream",
     "text": [
      "\r",
      " 98 4704M   98 4648M    0     0  9729k      0  0:08:15  0:08:09  0:00:06 9906k"
     ]
    },
    {
     "name": "stdout",
     "output_type": "stream",
     "text": [
      "\r",
      " 98 4704M   98 4657M    0     0  9728k      0  0:08:15  0:08:10  0:00:05 9659k"
     ]
    },
    {
     "name": "stdout",
     "output_type": "stream",
     "text": [
      "\r",
      " 99 4704M   99 4666M    0     0  9729k      0  0:08:15  0:08:11  0:00:04 9906k"
     ]
    },
    {
     "name": "stdout",
     "output_type": "stream",
     "text": [
      "\r",
      " 99 4704M   99 4676M    0     0  9728k      0  0:08:15  0:08:12  0:00:03 9653k"
     ]
    },
    {
     "name": "stdout",
     "output_type": "stream",
     "text": [
      "\r",
      " 99 4704M   99 4686M    0     0  9730k      0  0:08:15  0:08:13  0:00:02 9954k"
     ]
    },
    {
     "name": "stdout",
     "output_type": "stream",
     "text": [
      "\r",
      " 99 4704M   99 4695M    0     0  9728k      0  0:08:15  0:08:14  0:00:01 9653k"
     ]
    },
    {
     "name": "stdout",
     "output_type": "stream",
     "text": [
      "\r",
      "100 4704M  100 4704M    0     0  9730k      0  0:08:15  0:08:15 --:--:-- 9952k\r\n",
      "Extracting files...\r\n"
     ]
    },
    {
     "name": "stdout",
     "output_type": "stream",
     "text": [
      "/opt/kaldi/egs/ClarinStudioKaldi\r\n",
      "Generating file lists using proper paths...\r\n"
     ]
    },
    {
     "name": "stdout",
     "output_type": "stream",
     "text": [
      "Generating spk2utt...\r\n"
     ]
    },
    {
     "name": "stdout",
     "output_type": "stream",
     "text": [
      "Preparing dictionary...\r\n"
     ]
    },
    {
     "name": "stdout",
     "output_type": "stream",
     "text": [
      "local_clarin/clarin_prepare_dict.sh data/local/all.wlist data/local/dict_nosp\r\n",
      "local_clarin/clarin_prepare_dict.sh: line 72: phonetisaurus-apply: command not found\r\n",
      "Dictionary preparation succeeded\r\n",
      "utils/prepare_lang.sh data/local/dict_nosp <unk> data/local/tmp_nosp data/lang_nosp\r\n"
     ]
    },
    {
     "name": "stdout",
     "output_type": "stream",
     "text": [
      "Checking data/local/dict_nosp/silence_phones.txt ...\r\n",
      "--> reading data/local/dict_nosp/silence_phones.txt\r\n",
      "--> text seems to be UTF-8 or ASCII, checking whitespaces\r\n",
      "--> text contains only allowed whitespaces\r\n",
      "--> data/local/dict_nosp/silence_phones.txt is OK\r\n",
      "\r\n",
      "Checking data/local/dict_nosp/optional_silence.txt ...\r\n",
      "--> reading data/local/dict_nosp/optional_silence.txt\r\n",
      "--> text seems to be UTF-8 or ASCII, checking whitespaces\r\n",
      "--> text contains only allowed whitespaces\r\n",
      "--> data/local/dict_nosp/optional_silence.txt is OK\r\n",
      "\r\n",
      "Checking data/local/dict_nosp/nonsilence_phones.txt ...\r\n",
      "--> reading data/local/dict_nosp/nonsilence_phones.txt\r\n",
      "--> text seems to be UTF-8 or ASCII, checking whitespaces\r\n",
      "--> text contains only allowed whitespaces\r\n",
      "--> data/local/dict_nosp/nonsilence_phones.txt is OK\r\n",
      "\r\n",
      "Checking disjoint: silence_phones.txt, nonsilence_phones.txt\r\n",
      "--> disjoint property is OK.\r\n",
      "\r\n",
      "Checking data/local/dict_nosp/lexicon.txt\r\n",
      "--> reading data/local/dict_nosp/lexicon.txt\r\n",
      "--> text seems to be UTF-8 or ASCII, checking whitespaces\r\n",
      "--> text contains only allowed whitespaces\r\n",
      "--> data/local/dict_nosp/lexicon.txt is OK\r\n",
      "\r\n",
      "Checking data/local/dict_nosp/extra_questions.txt ...\r\n",
      "--> reading data/local/dict_nosp/extra_questions.txt\r\n",
      "--> text seems to be UTF-8 or ASCII, checking whitespaces\r\n",
      "--> text contains only allowed whitespaces\r\n",
      "--> data/local/dict_nosp/extra_questions.txt is OK\r\n",
      "--> SUCCESS [validating dictionary directory data/local/dict_nosp]\r\n",
      "\r\n",
      "**Creating data/local/dict_nosp/lexiconp.txt from data/local/dict_nosp/lexicon.txt\r\n"
     ]
    },
    {
     "name": "stdout",
     "output_type": "stream",
     "text": [
      "fstaddselfloops data/lang_nosp/phones/wdisambig_phones.int data/lang_nosp/phones/wdisambig_words.int \r\n",
      "prepare_lang.sh: validating output directory\r\n",
      "utils/validate_lang.pl data/lang_nosp\r\n",
      "Checking existence of separator file\r\n",
      "separator file data/lang_nosp/subword_separator.txt is empty or does not exist, deal in word case.\r\n",
      "Checking data/lang_nosp/phones.txt ...\r\n",
      "--> text seems to be UTF-8 or ASCII, checking whitespaces\r\n",
      "--> text contains only allowed whitespaces\r\n",
      "--> data/lang_nosp/phones.txt is OK\r\n",
      "\r\n",
      "Checking words.txt: #0 ...\r\n",
      "--> text seems to be UTF-8 or ASCII, checking whitespaces\r\n",
      "--> text contains only allowed whitespaces\r\n",
      "--> data/lang_nosp/words.txt is OK\r\n",
      "\r\n",
      "Checking disjoint: silence.txt, nonsilence.txt, disambig.txt ...\r\n",
      "--> silence.txt and nonsilence.txt are disjoint\r\n",
      "--> silence.txt and disambig.txt are disjoint\r\n",
      "--> disambig.txt and nonsilence.txt are disjoint\r\n",
      "--> disjoint property is OK\r\n",
      "\r\n",
      "Checking sumation: silence.txt, nonsilence.txt, disambig.txt ...\r\n",
      "--> found no unexplainable phones in phones.txt\r\n",
      "\r\n",
      "Checking data/lang_nosp/phones/context_indep.{txt, int, csl} ...\r\n",
      "--> text seems to be UTF-8 or ASCII, checking whitespaces\r\n",
      "--> text contains only allowed whitespaces\r\n",
      "--> 5 entry/entries in data/lang_nosp/phones/context_indep.txt\r\n",
      "--> data/lang_nosp/phones/context_indep.int corresponds to data/lang_nosp/phones/context_indep.txt\r\n",
      "--> data/lang_nosp/phones/context_indep.csl corresponds to data/lang_nosp/phones/context_indep.txt\r\n",
      "--> data/lang_nosp/phones/context_indep.{txt, int, csl} are OK\r\n",
      "\r\n",
      "Checking data/lang_nosp/phones/nonsilence.{txt, int, csl} ...\r\n"
     ]
    },
    {
     "name": "stdout",
     "output_type": "stream",
     "text": [
      "--> text seems to be UTF-8 or ASCII, checking whitespaces\r\n",
      "--> text contains only allowed whitespaces\r\n",
      "--> 144 entry/entries in data/lang_nosp/phones/nonsilence.txt\r\n",
      "--> data/lang_nosp/phones/nonsilence.int corresponds to data/lang_nosp/phones/nonsilence.txt\r\n",
      "--> data/lang_nosp/phones/nonsilence.csl corresponds to data/lang_nosp/phones/nonsilence.txt\r\n",
      "--> data/lang_nosp/phones/nonsilence.{txt, int, csl} are OK\r\n",
      "\r\n",
      "Checking data/lang_nosp/phones/silence.{txt, int, csl} ...\r\n",
      "--> text seems to be UTF-8 or ASCII, checking whitespaces\r\n",
      "--> text contains only allowed whitespaces\r\n",
      "--> 5 entry/entries in data/lang_nosp/phones/silence.txt\r\n",
      "--> data/lang_nosp/phones/silence.int corresponds to data/lang_nosp/phones/silence.txt\r\n",
      "--> data/lang_nosp/phones/silence.csl corresponds to data/lang_nosp/phones/silence.txt\r\n",
      "--> data/lang_nosp/phones/silence.{txt, int, csl} are OK\r\n",
      "\r\n",
      "Checking data/lang_nosp/phones/optional_silence.{txt, int, csl} ...\r\n",
      "--> text seems to be UTF-8 or ASCII, checking whitespaces\r\n",
      "--> text contains only allowed whitespaces\r\n",
      "--> 1 entry/entries in data/lang_nosp/phones/optional_silence.txt\r\n",
      "--> data/lang_nosp/phones/optional_silence.int corresponds to data/lang_nosp/phones/optional_silence.txt\r\n",
      "--> data/lang_nosp/phones/optional_silence.csl corresponds to data/lang_nosp/phones/optional_silence.txt\r\n",
      "--> data/lang_nosp/phones/optional_silence.{txt, int, csl} are OK\r\n",
      "\r\n",
      "Checking data/lang_nosp/phones/disambig.{txt, int, csl} ...\r\n",
      "--> text seems to be UTF-8 or ASCII, checking whitespaces\r\n",
      "--> text contains only allowed whitespaces\r\n",
      "--> 2 entry/entries in data/lang_nosp/phones/disambig.txt\r\n",
      "--> data/lang_nosp/phones/disambig.int corresponds to data/lang_nosp/phones/disambig.txt\r\n",
      "--> data/lang_nosp/phones/disambig.csl corresponds to data/lang_nosp/phones/disambig.txt\r\n",
      "--> data/lang_nosp/phones/disambig.{txt, int, csl} are OK\r\n",
      "\r\n",
      "Checking data/lang_nosp/phones/roots.{txt, int} ...\r\n",
      "--> text seems to be UTF-8 or ASCII, checking whitespaces\r\n",
      "--> text contains only allowed whitespaces\r\n",
      "--> 37 entry/entries in data/lang_nosp/phones/roots.txt\r\n",
      "--> data/lang_nosp/phones/roots.int corresponds to data/lang_nosp/phones/roots.txt\r\n",
      "--> data/lang_nosp/phones/roots.{txt, int} are OK\r\n",
      "\r\n",
      "Checking data/lang_nosp/phones/sets.{txt, int} ...\r\n",
      "--> text seems to be UTF-8 or ASCII, checking whitespaces\r\n",
      "--> text contains only allowed whitespaces\r\n",
      "--> 37 entry/entries in data/lang_nosp/phones/sets.txt\r\n",
      "--> data/lang_nosp/phones/sets.int corresponds to data/lang_nosp/phones/sets.txt\r\n",
      "--> data/lang_nosp/phones/sets.{txt, int} are OK\r\n",
      "\r\n",
      "Checking data/lang_nosp/phones/extra_questions.{txt, int} ...\r\n",
      "--> text seems to be UTF-8 or ASCII, checking whitespaces\r\n",
      "--> text contains only allowed whitespaces\r\n",
      "--> 11 entry/entries in data/lang_nosp/phones/extra_questions.txt\r\n",
      "--> data/lang_nosp/phones/extra_questions.int corresponds to data/lang_nosp/phones/extra_questions.txt\r\n",
      "--> data/lang_nosp/phones/extra_questions.{txt, int} are OK\r\n",
      "\r\n",
      "Checking data/lang_nosp/phones/word_boundary.{txt, int} ...\r\n",
      "--> text seems to be UTF-8 or ASCII, checking whitespaces\r\n",
      "--> text contains only allowed whitespaces\r\n",
      "--> 149 entry/entries in data/lang_nosp/phones/word_boundary.txt\r\n",
      "--> data/lang_nosp/phones/word_boundary.int corresponds to data/lang_nosp/phones/word_boundary.txt\r\n",
      "--> data/lang_nosp/phones/word_boundary.{txt, int} are OK\r\n",
      "\r\n",
      "Checking optional_silence.txt ...\r\n",
      "--> reading data/lang_nosp/phones/optional_silence.txt\r\n",
      "--> data/lang_nosp/phones/optional_silence.txt is OK\r\n",
      "\r\n",
      "Checking disambiguation symbols: #0 and #1\r\n",
      "--> data/lang_nosp/phones/disambig.txt has \"#0\" and \"#1\"\r\n",
      "--> data/lang_nosp/phones/disambig.txt is OK\r\n",
      "\r\n",
      "Checking topo ...\r\n",
      "\r\n",
      "Checking word_boundary.txt: silence.txt, nonsilence.txt, disambig.txt ...\r\n",
      "--> data/lang_nosp/phones/word_boundary.txt doesn't include disambiguation symbols\r\n",
      "--> data/lang_nosp/phones/word_boundary.txt is the union of nonsilence.txt and silence.txt\r\n",
      "--> data/lang_nosp/phones/word_boundary.txt is OK\r\n",
      "\r\n",
      "Checking word-level disambiguation symbols...\r\n",
      "--> data/lang_nosp/phones/wdisambig.txt exists (newer prepare_lang.sh)\r\n",
      "Checking word_boundary.int and disambig.int\r\n",
      "--> generating a 57 word/subword sequence\r\n",
      "--> resulting phone sequence from L.fst corresponds to the word sequence\r\n",
      "--> L.fst is OK\r\n",
      "--> generating a 82 word/subword sequence\r\n"
     ]
    },
    {
     "name": "stdout",
     "output_type": "stream",
     "text": [
      "--> resulting phone sequence from L_disambig.fst corresponds to the word sequence\r\n",
      "--> L_disambig.fst is OK\r\n",
      "\r\n",
      "Checking data/lang_nosp/oov.{txt, int} ...\r\n",
      "--> text seems to be UTF-8 or ASCII, checking whitespaces\r\n",
      "--> text contains only allowed whitespaces\r\n",
      "--> 1 entry/entries in data/lang_nosp/oov.txt\r\n",
      "--> data/lang_nosp/oov.int corresponds to data/lang_nosp/oov.txt\r\n",
      "--> data/lang_nosp/oov.{txt, int} are OK\r\n",
      "\r\n",
      "--> data/lang_nosp/L.fst is olabel sorted\r\n",
      "--> data/lang_nosp/L_disambig.fst is olabel sorted\r\n",
      "--> SUCCESS [validating lang directory data/lang_nosp]\r\n",
      "Converting 'local_clarin/arpa.lm.gz' to FST\r\n"
     ]
    },
    {
     "name": "stdout",
     "output_type": "stream",
     "text": [
      "arpa2fst --disambig-symbol=#0 --read-symbol-table=data/lang_nosp_test/words.txt - data/lang_nosp_test/G.fst \r\n",
      "LOG (arpa2fst[5.5.0~1-2b62]:Read():arpa-file-parser.cc:94) Reading \\data\\ section.\r\n",
      "LOG (arpa2fst[5.5.0~1-2b62]:Read():arpa-file-parser.cc:149) Reading \\1-grams: section.\r\n",
      "WARNING (arpa2fst[5.5.0~1-2b62]:Read():arpa-file-parser.cc:219) line 11 [-2.387844\ta\t-0.2394255] skipped: word 'a' not in symbol table\r\n",
      "WARNING (arpa2fst[5.5.0~1-2b62]:Read():arpa-file-parser.cc:219) line 12 [-5.252399\taare\t-0.05016758] skipped: word 'aare' not in symbol table\r\n",
      "WARNING (arpa2fst[5.5.0~1-2b62]:Read():arpa-file-parser.cc:219) line 13 [-4.800938\tab\t-0.01376556] skipped: word 'ab' not in symbol table\r\n",
      "WARNING (arpa2fst[5.5.0~1-2b62]:Read():arpa-file-parser.cc:219) line 14 [-5.23682\tabażurem\t-0.0302294] skipped: word 'abażurem' not in symbol table\r\n",
      "WARNING (arpa2fst[5.5.0~1-2b62]:Read():arpa-file-parser.cc:219) line 15 [-5.226714\tabchazję\t-0.06154328] skipped: word 'abchazję' not in symbol table\r\n",
      "WARNING (arpa2fst[5.5.0~1-2b62]:Read():arpa-file-parser.cc:219) line 16 [-5.245582\tabchazów\t-0.02685788] skipped: word 'abchazów' not in symbol table\r\n",
      "WARNING (arpa2fst[5.5.0~1-2b62]:Read():arpa-file-parser.cc:219) line 17 [-5.255419\taberon] skipped: word 'aberon' not in symbol table\r\n",
      "WARNING (arpa2fst[5.5.0~1-2b62]:Read():arpa-file-parser.cc:219) line 18 [-5.262231\taberonowi] skipped: word 'aberonowi' not in symbol table\r\n",
      "WARNING (arpa2fst[5.5.0~1-2b62]:Read():arpa-file-parser.cc:219) line 19 [-5.26215\taberracyjna] skipped: word 'aberracyjna' not in symbol table\r\n",
      "WARNING (arpa2fst[5.5.0~1-2b62]:Read():arpa-file-parser.cc:219) line 20 [-5.250469\tabgarowicz] skipped: word 'abgarowicz' not in symbol table\r\n",
      "WARNING (arpa2fst[5.5.0~1-2b62]:Read():arpa-file-parser.cc:219) line 21 [-4.881186\tabonament\t-0.1130914] skipped: word 'abonament' not in symbol table\r\n",
      "WARNING (arpa2fst[5.5.0~1-2b62]:Read():arpa-file-parser.cc:219) line 22 [-4.876382\tabonamentu\t-0.07834942] skipped: word 'abonamentu' not in symbol table\r\n",
      "WARNING (arpa2fst[5.5.0~1-2b62]:Read():arpa-file-parser.cc:219) line 23 [-5.163284\tabonamentów\t-0.06102198] skipped: word 'abonamentów' not in symbol table\r\n",
      "WARNING (arpa2fst[5.5.0~1-2b62]:Read():arpa-file-parser.cc:219) line 24 [-5.184859\tabonentom\t-0.03256992] skipped: word 'abonentom' not in symbol table\r\n",
      "WARNING (arpa2fst[5.5.0~1-2b62]:Read():arpa-file-parser.cc:219) line 25 [-5.010186\taborcja\t-0.1268652] skipped: word 'aborcja' not in symbol table\r\n",
      "WARNING (arpa2fst[5.5.0~1-2b62]:Read():arpa-file-parser.cc:219) line 26 [-4.724734\taborcji\t-0.1546028] skipped: word 'aborcji' not in symbol table\r\n",
      "WARNING (arpa2fst[5.5.0~1-2b62]:Read():arpa-file-parser.cc:219) line 27 [-5.047917\taborcję\t-0.1214982] skipped: word 'aborcję' not in symbol table\r\n",
      "WARNING (arpa2fst[5.5.0~1-2b62]:Read():arpa-file-parser.cc:219) line 28 [-5.229477\tabramsa\t-0.03953429] skipped: word 'abramsa' not in symbol table\r\n",
      "WARNING (arpa2fst[5.5.0~1-2b62]:Read():arpa-file-parser.cc:219) line 29 [-5.259943\tabramsy] skipped: word 'abramsy' not in symbol table\r\n",
      "WARNING (arpa2fst[5.5.0~1-2b62]:Read():arpa-file-parser.cc:219) line 30 [-5.241594\tabruzji\t-0.05095416] skipped: word 'abruzji' not in symbol table\r\n",
      "WARNING (arpa2fst[5.5.0~1-2b62]:Read():arpa-file-parser.cc:219) line 31 [-4.978928\tabsolutna\t-0.03940874] skipped: word 'absolutna' not in symbol table\r\n",
      "WARNING (arpa2fst[5.5.0~1-2b62]:Read():arpa-file-parser.cc:219) line 32 [-5.007071\tabsolutne\t-0.04487412] skipped: word 'absolutne' not in symbol table\r\n",
      "WARNING (arpa2fst[5.5.0~1-2b62]:Read():arpa-file-parser.cc:219) line 33 [-4.915956\tabsolutnej\t-0.08613706] skipped: word 'absolutnej' not in symbol table\r\n",
      "WARNING (arpa2fst[5.5.0~1-2b62]:Read():arpa-file-parser.cc:219) line 34 [-4.264698\tabsolutnie\t-0.1241204] skipped: word 'absolutnie' not in symbol table\r\n",
      "WARNING (arpa2fst[5.5.0~1-2b62]:Read():arpa-file-parser.cc:219) line 35 [-4.894648\tabsolutną\t-0.07766653] skipped: word 'absolutną' not in symbol table\r\n",
      "WARNING (arpa2fst[5.5.0~1-2b62]:Read():arpa-file-parser.cc:219) line 36 [-4.74231\tabsolutorium\t-0.1669805] skipped: word 'absolutorium' not in symbol table\r\n",
      "WARNING (arpa2fst[5.5.0~1-2b62]:Read():arpa-file-parser.cc:219) line 37 [-5.259502\tabsolutów] skipped: word 'absolutów' not in symbol table\r\n",
      "WARNING (arpa2fst[5.5.0~1-2b62]:Read():arpa-file-parser.cc:219) line 38 [-4.900764\tabsolwenci\t-0.06442387] skipped: word 'absolwenci' not in symbol table\r\n",
      "WARNING (arpa2fst[5.5.0~1-2b62]:Read():arpa-file-parser.cc:219) line 39 [-4.807225\tabsolwent\t-0.1084523] skipped: word 'absolwent' not in symbol table\r\n",
      "WARNING (arpa2fst[5.5.0~1-2b62]:Read():arpa-file-parser.cc:219) line 40 [-5.189535\tabsolwentami\t-0.03575665] skipped: word 'absolwentami' not in symbol table\r\n"
     ]
    },
    {
     "name": "stdout",
     "output_type": "stream",
     "text": [
      "LOG (arpa2fst[5.5.0~1-2b62]:Read():arpa-file-parser.cc:149) Reading \\2-grams: section.\r\n"
     ]
    },
    {
     "name": "stdout",
     "output_type": "stream",
     "text": [
      "LOG (arpa2fst[5.5.0~1-2b62]:Read():arpa-file-parser.cc:149) Reading \\3-grams: section.\r\n"
     ]
    },
    {
     "name": "stdout",
     "output_type": "stream",
     "text": [
      "WARNING (arpa2fst[5.5.0~1-2b62]:Read():arpa-file-parser.cc:259) Of 1043998 parse warnings, 30 were reported. Run program with --max_warnings=-1 to see all warnings\r\n",
      "LOG (arpa2fst[5.5.0~1-2b62]:RemoveRedundantStates():arpa-lm-compiler.cc:359) Reduced num-states from 3 to 2\r\n"
     ]
    },
    {
     "name": "stdout",
     "output_type": "stream",
     "text": [
      "fstisstochastic data/lang_nosp_test/G.fst \r\n",
      "2.50007 0.201763\r\n",
      "Succeeded in formatting LM: 'local_clarin/arpa.lm.gz'\r\n",
      "steps/make_mfcc.sh --nj 40 data/train\r\n"
     ]
    },
    {
     "name": "stdout",
     "output_type": "stream",
     "text": [
      "utils/validate_data_dir.sh: Successfully validated data-directory data/train\r\n"
     ]
    },
    {
     "name": "stdout",
     "output_type": "stream",
     "text": [
      "steps/make_mfcc.sh: [info]: no segments file exists: assuming wav.scp indexed by utterance.\r\n"
     ]
    },
    {
     "name": "stdout",
     "output_type": "stream",
     "text": [
      "steps/make_mfcc.sh: Succeeded creating MFCC features for train\r\n",
      "steps/compute_cmvn_stats.sh data/train\r\n"
     ]
    },
    {
     "name": "stdout",
     "output_type": "stream",
     "text": [
      "Succeeded creating CMVN stats for train\r\n",
      "steps/make_mfcc.sh --nj 40 data/test\r\n"
     ]
    },
    {
     "name": "stdout",
     "output_type": "stream",
     "text": [
      "utils/validate_data_dir.sh: Successfully validated data-directory data/test\r\n"
     ]
    },
    {
     "name": "stdout",
     "output_type": "stream",
     "text": [
      "steps/make_mfcc.sh: [info]: no segments file exists: assuming wav.scp indexed by utterance.\r\n"
     ]
    },
    {
     "name": "stdout",
     "output_type": "stream",
     "text": [
      "steps/make_mfcc.sh: Succeeded creating MFCC features for test\r\n",
      "steps/compute_cmvn_stats.sh data/test\r\n"
     ]
    },
    {
     "name": "stdout",
     "output_type": "stream",
     "text": [
      "Succeeded creating CMVN stats for test\r\n",
      "steps/train_mono.sh --nj 40 data/train data/lang_nosp exp/mono0\r\n"
     ]
    },
    {
     "name": "stdout",
     "output_type": "stream",
     "text": [
      "steps/train_mono.sh: Initializing monophone system.\r\n"
     ]
    },
    {
     "name": "stdout",
     "output_type": "stream",
     "text": [
      "steps/train_mono.sh: Compiling training graphs\r\n"
     ]
    },
    {
     "name": "stdout",
     "output_type": "stream",
     "text": [
      "steps/train_mono.sh: Aligning data equally (pass 0)\r\n"
     ]
    },
    {
     "name": "stdout",
     "output_type": "stream",
     "text": [
      "steps/train_mono.sh: Pass 1\r\n",
      "steps/train_mono.sh: Aligning data\r\n"
     ]
    },
    {
     "name": "stdout",
     "output_type": "stream",
     "text": [
      "steps/train_mono.sh: Pass 2\r\n",
      "steps/train_mono.sh: Aligning data\r\n"
     ]
    },
    {
     "name": "stdout",
     "output_type": "stream",
     "text": [
      "steps/train_mono.sh: Pass 3\r\n",
      "steps/train_mono.sh: Aligning data\r\n"
     ]
    },
    {
     "name": "stdout",
     "output_type": "stream",
     "text": [
      "steps/train_mono.sh: Pass 4\r\n",
      "steps/train_mono.sh: Aligning data\r\n"
     ]
    },
    {
     "name": "stdout",
     "output_type": "stream",
     "text": [
      "steps/train_mono.sh: Pass 5\r\n",
      "steps/train_mono.sh: Aligning data\r\n"
     ]
    },
    {
     "name": "stdout",
     "output_type": "stream",
     "text": [
      "steps/train_mono.sh: Pass 6\r\n",
      "steps/train_mono.sh: Aligning data\r\n"
     ]
    },
    {
     "name": "stdout",
     "output_type": "stream",
     "text": [
      "steps/train_mono.sh: Pass 7\r\n",
      "steps/train_mono.sh: Aligning data\r\n"
     ]
    },
    {
     "name": "stdout",
     "output_type": "stream",
     "text": [
      "steps/train_mono.sh: Pass 8\r\n",
      "steps/train_mono.sh: Aligning data\r\n"
     ]
    },
    {
     "name": "stdout",
     "output_type": "stream",
     "text": [
      "steps/train_mono.sh: Pass 9\r\n",
      "steps/train_mono.sh: Aligning data\r\n"
     ]
    },
    {
     "name": "stdout",
     "output_type": "stream",
     "text": [
      "steps/train_mono.sh: Pass 10\r\n",
      "steps/train_mono.sh: Aligning data\r\n"
     ]
    },
    {
     "name": "stdout",
     "output_type": "stream",
     "text": [
      "steps/train_mono.sh: Pass 11\r\n"
     ]
    },
    {
     "name": "stdout",
     "output_type": "stream",
     "text": [
      "steps/train_mono.sh: Pass 12\r\n",
      "steps/train_mono.sh: Aligning data\r\n"
     ]
    },
    {
     "name": "stdout",
     "output_type": "stream",
     "text": [
      "steps/train_mono.sh: Pass 13\r\n"
     ]
    },
    {
     "name": "stdout",
     "output_type": "stream",
     "text": [
      "steps/train_mono.sh: Pass 14\r\n",
      "steps/train_mono.sh: Aligning data\r\n"
     ]
    },
    {
     "name": "stdout",
     "output_type": "stream",
     "text": [
      "steps/train_mono.sh: Pass 15\r\n"
     ]
    },
    {
     "name": "stdout",
     "output_type": "stream",
     "text": [
      "steps/train_mono.sh: Pass 16\r\n",
      "steps/train_mono.sh: Aligning data\r\n"
     ]
    },
    {
     "name": "stdout",
     "output_type": "stream",
     "text": [
      "steps/train_mono.sh: Pass 17\r\n"
     ]
    },
    {
     "name": "stdout",
     "output_type": "stream",
     "text": [
      "steps/train_mono.sh: Pass 18\r\n",
      "steps/train_mono.sh: Aligning data\r\n"
     ]
    },
    {
     "name": "stdout",
     "output_type": "stream",
     "text": [
      "steps/train_mono.sh: Pass 19\r\n"
     ]
    },
    {
     "name": "stdout",
     "output_type": "stream",
     "text": [
      "steps/train_mono.sh: Pass 20\r\n",
      "steps/train_mono.sh: Aligning data\r\n"
     ]
    },
    {
     "name": "stdout",
     "output_type": "stream",
     "text": [
      "steps/train_mono.sh: Pass 21\r\n"
     ]
    },
    {
     "name": "stdout",
     "output_type": "stream",
     "text": [
      "steps/train_mono.sh: Pass 22\r\n"
     ]
    },
    {
     "name": "stdout",
     "output_type": "stream",
     "text": [
      "steps/train_mono.sh: Pass 23\r\n",
      "steps/train_mono.sh: Aligning data\r\n"
     ]
    },
    {
     "name": "stdout",
     "output_type": "stream",
     "text": [
      "steps/train_mono.sh: Pass 24\r\n"
     ]
    },
    {
     "name": "stdout",
     "output_type": "stream",
     "text": [
      "steps/train_mono.sh: Pass 25\r\n"
     ]
    },
    {
     "name": "stdout",
     "output_type": "stream",
     "text": [
      "steps/train_mono.sh: Pass 26\r\n",
      "steps/train_mono.sh: Aligning data\r\n"
     ]
    },
    {
     "name": "stdout",
     "output_type": "stream",
     "text": [
      "steps/train_mono.sh: Pass 27\r\n"
     ]
    },
    {
     "name": "stdout",
     "output_type": "stream",
     "text": [
      "steps/train_mono.sh: Pass 28\r\n"
     ]
    },
    {
     "name": "stdout",
     "output_type": "stream",
     "text": [
      "steps/train_mono.sh: Pass 29\r\n",
      "steps/train_mono.sh: Aligning data\r\n"
     ]
    },
    {
     "name": "stdout",
     "output_type": "stream",
     "text": [
      "steps/train_mono.sh: Pass 30\r\n"
     ]
    },
    {
     "name": "stdout",
     "output_type": "stream",
     "text": [
      "steps/train_mono.sh: Pass 31\r\n"
     ]
    },
    {
     "name": "stdout",
     "output_type": "stream",
     "text": [
      "steps/train_mono.sh: Pass 32\r\n",
      "steps/train_mono.sh: Aligning data\r\n"
     ]
    },
    {
     "name": "stdout",
     "output_type": "stream",
     "text": [
      "steps/train_mono.sh: Pass 33\r\n"
     ]
    },
    {
     "name": "stdout",
     "output_type": "stream",
     "text": [
      "steps/train_mono.sh: Pass 34\r\n"
     ]
    },
    {
     "name": "stdout",
     "output_type": "stream",
     "text": [
      "steps/train_mono.sh: Pass 35\r\n",
      "steps/train_mono.sh: Aligning data\r\n"
     ]
    },
    {
     "name": "stdout",
     "output_type": "stream",
     "text": [
      "steps/train_mono.sh: Pass 36\r\n"
     ]
    },
    {
     "name": "stdout",
     "output_type": "stream",
     "text": [
      "steps/train_mono.sh: Pass 37\r\n"
     ]
    },
    {
     "name": "stdout",
     "output_type": "stream",
     "text": [
      "steps/train_mono.sh: Pass 38\r\n",
      "steps/train_mono.sh: Aligning data\r\n"
     ]
    }
   ],
   "source": [
    "!sh run.sh"
   ]
  },
  {
   "cell_type": "code",
   "execution_count": null,
   "id": "still-venezuela",
   "metadata": {
    "papermill": {
     "duration": null,
     "end_time": null,
     "exception": null,
     "start_time": null,
     "status": "pending"
    },
    "tags": []
   },
   "outputs": [],
   "source": [
    "!mv exp /kaggle/working/"
   ]
  }
 ],
 "metadata": {
  "kernelspec": {
   "display_name": "Python 3",
   "language": "python",
   "name": "python3"
  },
  "language_info": {
   "codemirror_mode": {
    "name": "ipython",
    "version": 3
   },
   "file_extension": ".py",
   "mimetype": "text/x-python",
   "name": "python",
   "nbconvert_exporter": "python",
   "pygments_lexer": "ipython3",
   "version": "3.6.4"
  },
  "papermill": {
   "default_parameters": {},
   "duration": null,
   "end_time": null,
   "environment_variables": {},
   "exception": null,
   "input_path": "__notebook__.ipynb",
   "output_path": "__notebook__.ipynb",
   "parameters": {},
   "start_time": "2021-05-15T17:36:17.065536",
   "version": "2.3.3"
  }
 },
 "nbformat": 4,
 "nbformat_minor": 5
}