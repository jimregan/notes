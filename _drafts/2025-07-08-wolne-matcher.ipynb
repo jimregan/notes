{
 "cells": [
  {
   "cell_type": "code",
   "execution_count": 2,
   "id": "26a24c02",
   "metadata": {},
   "outputs": [],
   "source": [
    "from pathlib import Path\n",
    "import json\n",
    "\n",
    "TEXT = Path(\"/Users/joregan/Playing/wolne-match/text\")\n",
    "WHISPER = Path(\"/Users/joregan/Playing/wolne-match/whisperx\")"
   ]
  },
  {
   "cell_type": "code",
   "execution_count": null,
   "id": "cfc155a0",
   "metadata": {},
   "outputs": [],
   "source": [
    "!pip install mosestokenizer"
   ]
  },
  {
   "cell_type": "code",
   "execution_count": 7,
   "id": "21e669c9",
   "metadata": {},
   "outputs": [],
   "source": [
    "test = TEXT / \"zloczynca.txt\"\n",
    "\n",
    "textlines = []\n",
    "with open(test, \"r\") as f:\n",
    "    for line in f:\n",
    "        line = line.strip()\n",
    "        if line == \"\":\n",
    "            continue\n",
    "        textlines.append(line)"
   ]
  },
  {
   "cell_type": "code",
   "execution_count": 9,
   "id": "39a2a0be",
   "metadata": {},
   "outputs": [],
   "source": [
    "test2 = \"/Users/joregan/Playing/wolne-match/whisperx/zloczynca_000.json\"\n",
    "\n",
    "def read_whisperx_json(filename):\n",
    "    with open(filename) as f:\n",
    "        data = json.load(f)\n",
    "    return data"
   ]
  },
  {
   "cell_type": "code",
   "execution_count": 18,
   "id": "bed50001",
   "metadata": {},
   "outputs": [],
   "source": [
    "from mosestokenizer import MosesSentenceSplitter\n",
    "\n",
    "def get_sentences_poorly(text):\n",
    "    outputs = []\n",
    "    with MosesSentenceSplitter(\"pl\") as splitter:\n",
    "        for line in text:\n",
    "            sentences = splitter([line])\n",
    "            outputs.extend(sentences)\n",
    "    return outputs"
   ]
  },
  {
   "cell_type": "code",
   "execution_count": 28,
   "id": "dfd82fa8",
   "metadata": {},
   "outputs": [],
   "source": [
    "def rejoin_poorly_split_sentences(sentences):\n",
    "    outputs = []\n",
    "    i = 0\n",
    "    while i < len(sentences) - 1:\n",
    "        if sentences[i].endswith(\":\") and sentences[i + 1][0].islower():\n",
    "            outputs.append(sentences[i] + \" \" + sentences[i + 1])\n",
    "            i += 2\n",
    "        else:\n",
    "            outputs.append(sentences[i])\n",
    "            i += 1\n",
    "    return outputs"
   ]
  },
  {
   "cell_type": "code",
   "execution_count": null,
   "id": "18066607",
   "metadata": {},
   "outputs": [],
   "source": [
    "import re\n",
    "\n",
    "def continue_splitting(sentence):\n",
    "    pattern = r'(?<=[.?!]) — (?=[A-ZĄĆĘŁŃÓŚŹŻ])'\n",
    "    parts = re.split(pattern, sentence)\n",
    "    return parts"
   ]
  },
  {
   "cell_type": "code",
   "execution_count": 61,
   "id": "a74cbae8",
   "metadata": {},
   "outputs": [
    {
     "data": {
      "text/plain": [
       "[\"'— Nigdy nie kłamałem, a teraz od razu niby kłamię… — mruczy Denis, mrugając oczyma.\",\n",
       " \"Czyż można bez ciężarka, panie sędzio?'\"]"
      ]
     },
     "execution_count": 61,
     "metadata": {},
     "output_type": "execute_result"
    }
   ],
   "source": [
    "sentence = \"'— Nigdy nie kłamałem, a teraz od razu niby kłamię… — mruczy Denis, mrugając oczyma. — Czyż można bez ciężarka, panie sędzio?'\"\n",
    "continue_splitting(sentence)"
   ]
  },
  {
   "cell_type": "code",
   "execution_count": 83,
   "id": "5e62c5b4",
   "metadata": {},
   "outputs": [
    {
     "name": "stderr",
     "output_type": "stream",
     "text": [
      "stdbuf was not found; communication with perl may hang due to stdio buffering.\n"
     ]
    },
    {
     "data": {
      "text/plain": [
       "['Anton Czechow',\n",
       " 'Złoczyńca',\n",
       " 'Przed sędzią śledczym stoi mały, niezwykle chudy chłopek w zgrzebnej koszuli i łatanych portkach.',\n",
       " 'Jego zarośnięta, dziobata twarz i oczy, ledwo widoczne spoza gęstych, obwisłych brwi, mają wyraz posępnej surowości.',\n",
       " 'Gęsta, splątana, dawno nie czesana czupryna nadaje jeszcze więcej surowości jego twarzy.',\n",
       " '— Denis Grigoriew! — zaczyna sędzia — podejdź bliżej i odpowiadaj na moje pytania.',\n",
       " 'Siódmego lipca dróżnik kolejowy Akinfow, obchodząc rano tor, schwytał cię na odkręcaniu muterki, którą przymocowuje się szynę do podkładu.',\n",
       " 'Oto ta muterka.',\n",
       " 'Z nią cię zatrzymał.',\n",
       " 'Czy tak było?',\n",
       " '— Czego?',\n",
       " '— Czy tak było, jak mówi Akinfow?',\n",
       " '— Wiadoma rzecz, że było.',\n",
       " '— Dobrze, a po cóż odkręcał?',\n",
       " '— Czego?',\n",
       " '— Daj spokój z tym „czego”, a odpowiadaj na pytania: po coś odkręcał?',\n",
       " '— Gdyby nie była potrzebna, to bym nie odkręcał — odpowiada ochrypniętym głosem Denis, patrząc na sufit.',\n",
       " '— Na co ci była potrzebna muterka?',\n",
       " '— Muterka?',\n",
       " 'My z nich robimy ciężarki.',\n",
       " '— Kto to — *my*?',\n",
       " '— My, naród… To jest chłopi Klimowscy.',\n",
       " '— Słuchaj, nie udawaj idioty i mów do rzeczy.',\n",
       " 'Po co kłamać o jakichś ciężarkach?',\n",
       " '— Nigdy nie kłamałem, a teraz od razu niby kłamię… — mruczy Denis, mrugając oczyma. — Czyż można bez ciężarka, panie sędzio?',\n",
       " 'Jeżeli osadzi się na haczyku żywca, to czyż pójdzie na dno bez ciężarka?',\n",
       " 'Kłamię… — uśmiecha się Denis. — A po kiego diabła żywiec, jeżeli będzie na powierzchni pływał!',\n",
       " 'Okuń, szczupak, miętus zawsze się na dnie łowią, a na powierzchni to tylko wyrozub i to bardzo rzadko.',\n",
       " 'W naszej rzece go nie ma… Ta rybka wymaga dużej przestrzeni.',\n",
       " '— Ale co ty mi o jakimś wyrozubie opowiadasz.',\n",
       " '— Czego?',\n",
       " 'A przecież się pan sam pyta!',\n",
       " 'U nas i panowie tak łowią.',\n",
       " 'Najmniejszy dzieciak nie będzie łowił bez ciężarka.',\n",
       " 'Kto nie ma pojęcia — ten, rozumie się, i bez ciężarka łowi.',\n",
       " 'Na głupców nie ma rady.',\n",
       " '— Więc mówisz, że odkręciłeś tę mutrę, żeby zrobić z niej ciężarek?',\n",
       " '— A dla czego innego?',\n",
       " 'Nie dla zabawki przecież.',\n",
       " '— Ale na ciężarek mogłeś wziąć ołów, kulę… gwóźdź jakiś.',\n",
       " '— Ołowiu na drodze się nie znajdzie, trzeba kupić, a gwóźdź się nie nadaje.',\n",
       " 'Lepszego, jak mutra, nie ma… I ciężka, i dziurkę ma.',\n",
       " '— Udajesz głupca!',\n",
       " 'Jakbyś się wczoraj urodził albo z nieba spadł.',\n",
       " 'Czyż nie rozumiesz, ośla głowo, do czego prowadzi takie odkręcanie?',\n",
       " 'Gdyby dróżnik nie spostrzegł, pociąg by się wykoleił, ludzie by się pozabijali.',\n",
       " 'Ty byś ludzi zabił!',\n",
       " '— Niech Bóg broni, panie sędzio!',\n",
       " 'Po co ludzi zabijać!?',\n",
       " 'Czyż my — to nie chrzczeni albo zbóje jacyś!',\n",
       " 'Bogu dzięki, żyliśmy, panie dobry, dotychczas i nie tylko nie zabijaliśmy, ale ani nam to na myśl nie przychodziło.',\n",
       " 'Niech nas Matka Boska broni!… Co pan mówi!',\n",
       " '— A od czego, według ciebie, bywają katastrofy kolejowe?',\n",
       " 'Odkręć dwie-trzy mutry — i gotowa katastrofa!',\n",
       " 'Denis uśmiecha się i niedowierzająco mruży oczy.',\n",
       " '— Ho!',\n",
       " 'Od wielu lat już cała wieś odkręca mutry i chwała Bogu, nic się nie stało, a teraz od razu — katastrofa… zabójstwo… Gdybym szynę zabrał albo, dajmy na to, kłodę w poprzek położył — wtedy, ma się rozumieć, pociąg by się przewrócił, ale mutra — wielka rzecz!',\n",
       " '— Zrozumże nareszcie — mutrami szyna jest przymocowana do podkładów!',\n",
       " '— To my rozumiemy… Przecież nie wszystkie odkręcamy… Zostawiamy… Nie po głupiemu robimy… rozumiemy. — Denis ziewa i robi znak krzyża.',\n",
       " '— W zeszłym roku wykoleił się pociąg — mówi sędzia śledczy. — Teraz rozumiem, dlaczego…',\n",
       " '— Co takiego?',\n",
       " '— Teraz, powiadam, rozumiem, dlaczego w zeszłym roku pociąg się wykoleił… Rozumiem!',\n",
       " '— Na to wykształceni jesteście, dobrodzieje nasi, żeby rozumieć.',\n",
       " 'Bóg wiedział, komu dać rozum… Pan też rozpatrzył, co i jak, a ten dróżnik, prosty chłop, bez wszelkiego rozumu, łapie za halz i ciągnie.',\n",
       " 'Przedtem rozpatrz — a potem ciągnij.',\n",
       " 'Wiadoma rzecz — chłop i chłopski rozum… Niech pan, z łaski swojej, zapisze także, że mi dwa razy dał w zęby i w pierś uderzył.',\n",
       " '— Przy rewizji znaleziono u ciebie jeszcze jedną mutrę… Tę — kiedy i w jakim miejscu odkręciłeś?',\n",
       " '— To pan o tej mutrze, co leżała pod czerwoną skrzynką?',\n",
       " '— Nie wiem, gdzie leżała, tylko znaleźli ją u ciebie.',\n",
       " 'Kiedyś ją odkręcił?',\n",
       " '— Ja jej nie odkręcałem, tylko dostałem ją od Ignaca, syna Siemiona.',\n",
       " 'To ja o tej, co pod skrzynką, a tę, co była w sankach, na dworze, tośmy ją razem z Mitrofanem odkręcali.',\n",
       " '— Z jakim Mitrofanem?',\n",
       " '— Z Mitrofanem Pietrowem… Czyż pan o nim nie słyszał?',\n",
       " 'Sieci u nas robi i panom sprzedaje.',\n",
       " 'Tych muter potrzeba jemu niemało.',\n",
       " 'Na każdą sieć z dziesięć sztuk.',\n",
       " '— Posłuchaj, paragraf tysiąc osiemdziesiąty pierwszy ustawy karnej mówi:',\n",
       " '„Za każde świadome uszkodzenie kolei żelaznej, jeżeli ono naraża na niebezpieczeństwo idący po torze pociąg i jeżeli winowajca wiedział, że skutkiem tego może być nieszczęście… — Rozumiesz? *Wiedział*!',\n",
       " 'A ty nie mogłeś nie wiedzieć do czego prowadzi to odkręcanie… — zostaje skazany na zesłanie do katorgi.”',\n",
       " '— Rozumie się, pan lepiej wie… Myśmy ludzie ciemni… czy my co rozumiemy?',\n",
       " '— Wszystko rozumiesz!',\n",
       " 'Kłamiesz, udajesz!',\n",
       " '— Po co kłamać?',\n",
       " 'Niech się pan spyta we wsi, jeżeli pan nie wierzy… Bez ciężarka tylko ukleję się łowi;',\n",
       " 'nie ma marniejszej ryby od kiełbia, a i ten nie da się wziąć bez ciężarka.',\n",
       " '— Jeszcze o wyrozubie opowiadaj! — uśmiecha się sędzia.',\n",
       " '— Wyrozuba u nas nie ma.',\n",
       " 'Zarzucamy wędkę bez ciężarka na powierzchnię — na karpia, ale rzadko bierze.',\n",
       " '— No, cicho…',\n",
       " 'Następuje milczenie.',\n",
       " 'Denis przestępuje z nogi na nogę, patrzy na stół, pokryty zielonym suknem i gwałtownie mruga oczyma, jakby widział nie sukno, lecz słońce.',\n",
       " 'Sędzia śledczy coś prędko pisze.',\n",
       " '— Mogę odejść? — pyta Denis po krótkim milczeniu.',\n",
       " '— Nie.',\n",
       " 'Muszę cię zaaresztować i odesłać do więzienia.',\n",
       " 'Denis przestaje mrugać i podniósłszy swe gęste brwi, pytająco patrzy na urzędnika.',\n",
       " '— Jak to, do więzienia?',\n",
       " 'Wasza Wielmożności!',\n",
       " 'Ja nie mam czasu, muszę na jarmarku odebrać trzy ruble za sadło.',\n",
       " '— Milczeć, nie przeszkadzać!',\n",
       " '— Do więzienia… Gdyby było za co, to bym poszedł, a tak, ni stąd, ni zowąd… Za co?… Przecież nie kradłem, ani się nie biłem… A jeżeli wedle podatków, to niech pan nie wierzy wójtowi.',\n",
       " 'Sumienia nie ma ten wójt.',\n",
       " '— Milczeć!',\n",
       " '— Ja i tak milczę — mruczy Denis. — A wobec tego, co wójt nazmyślał w raporcie, to gotów jestem przysiąc.',\n",
       " 'Jest nas trzech braci:',\n",
       " 'Jegor, ja i…',\n",
       " '— Przeszkadzasz mi… Hej, Semionie! — krzyczy sędzia. — Wyprowadzić go!']"
      ]
     },
     "execution_count": 83,
     "metadata": {},
     "output_type": "execute_result"
    }
   ],
   "source": [
    "rejoin_poorly_split_sentences(get_sentences_poorly(textlines))"
   ]
  },
  {
   "cell_type": "code",
   "execution_count": null,
   "id": "a7945838",
   "metadata": {},
   "outputs": [],
   "source": [
    "def clean_word(word):\n",
    "    word = word.strip(\",;:!?—…„”\\\"“.«»*()[]‘/\\\\\")\n",
    "    if word:\n",
    "        return word.lower()\n",
    "    else:\n",
    "        return \"\"\n",
    "\n",
    "def clean_text(text):\n",
    "    words = text.split(\" \")\n",
    "    cleaned_words = []\n",
    "    for word in words:\n",
    "        word = word.strip(\",;:!?—…„”\\\"“.«»*()[]‘/\\\\\")\n",
    "        if word:\n",
    "            cleaned_words.append(word.lower())\n",
    "    return \" \".join(cleaned_words)"
   ]
  },
  {
   "cell_type": "code",
   "execution_count": 66,
   "id": "b4a8d706",
   "metadata": {},
   "outputs": [
    {
     "data": {
      "text/plain": [
       "'jego zarośnięta dziobata twarz i oczy ledwo widoczne spoza gęstych obwisłych brwi mają wyraz posępnej surowości'"
      ]
     },
     "execution_count": 66,
     "metadata": {},
     "output_type": "execute_result"
    }
   ],
   "source": [
    "clean_text(\"Jego zarośnięta, dziobata twarz i oczy, ledwo widoczne spoza gęstych, obwisłych brwi, mają wyraz posępnej surowości.\")"
   ]
  },
  {
   "cell_type": "code",
   "execution_count": null,
   "id": "86a0a1fe",
   "metadata": {},
   "outputs": [],
   "source": [
    "for segment in read_whisperx_json(test2)[\"segments\"]:\n",
    "    cleaned = clean_text(segment[\"text\"].strip(\" \"))\n",
    "    print(cleaned)"
   ]
  },
  {
   "cell_type": "code",
   "execution_count": 70,
   "id": "d06d2572",
   "metadata": {},
   "outputs": [],
   "source": [
    "def read_book(book: str):\n",
    "    paragraphs = []\n",
    "    with open(book) as f:\n",
    "        for line in f.readlines():\n",
    "            line = line.strip()\n",
    "            if line == \"\":\n",
    "                continue\n",
    "            if line == \"-----\":\n",
    "                break\n",
    "            paragraphs.append(line)\n",
    "    return paragraphs"
   ]
  },
  {
   "cell_type": "code",
   "execution_count": 72,
   "id": "c842c017",
   "metadata": {},
   "outputs": [],
   "source": [
    "def read_specific_norms(norm_file):\n",
    "    corrections = {}\n",
    "    normalisations = {}\n",
    "    with open(norm_file) as f:\n",
    "        for line in f.readlines():\n",
    "            line = line.strip()\n",
    "            if not \"\\t\" in line:\n",
    "                continue\n",
    "            parts = line.split(\"\\t\")\n",
    "            name = parts[0]\n",
    "            if len(parts) == 4 and parts[3] == \"C\":\n",
    "                if not name in corrections:\n",
    "                    corrections[name] = {}\n",
    "                corrections[name][parts[1]] = parts[2]\n",
    "            elif len(parts) == 3:\n",
    "                if not name in normalisations:\n",
    "                    normalisations[name] = {}\n",
    "                normalisations[name][parts[1]] = parts[2]\n",
    "    return corrections, normalisations"
   ]
  },
  {
   "cell_type": "code",
   "execution_count": 73,
   "id": "628d45c4",
   "metadata": {},
   "outputs": [],
   "source": [
    "cor, norm = read_specific_norms(\"/Users/joregan/Playing/wolnelektury-speech-corpus/specific-norms.tsv\")"
   ]
  },
  {
   "cell_type": "code",
   "execution_count": 82,
   "id": "ada837b5",
   "metadata": {},
   "outputs": [],
   "source": [
    "def read_lines(file: str):\n",
    "    return [x for x in enumerate(read_book(file), start=1)]"
   ]
  },
  {
   "cell_type": "code",
   "execution_count": null,
   "id": "99e43262",
   "metadata": {},
   "outputs": [],
   "source": [
    "def get_sentences(lines):\n",
    "    for para_id, para in lines:\n",
    "        sentences = get_sentences_poorly(para)\n",
    "        for sentence in sentences:\n",
    "            yield paraid, sentence"
   ]
  }
 ],
 "metadata": {
  "kernelspec": {
   "display_name": "nst-tts",
   "language": "python",
   "name": "python3"
  },
  "language_info": {
   "codemirror_mode": {
    "name": "ipython",
    "version": 3
   },
   "file_extension": ".py",
   "mimetype": "text/x-python",
   "name": "python",
   "nbconvert_exporter": "python",
   "pygments_lexer": "ipython3",
   "version": "3.10.9"
  }
 },
 "nbformat": 4,
 "nbformat_minor": 5
}
