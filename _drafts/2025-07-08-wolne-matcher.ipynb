{
 "cells": [
  {
   "cell_type": "code",
   "execution_count": 2,
   "id": "26a24c02",
   "metadata": {},
   "outputs": [],
   "source": [
    "from pathlib import Path\n",
    "import json\n",
    "\n",
    "TEXT = Path(\"/Users/joregan/Playing/wolne-match/text\")\n",
    "WHISPER = Path(\"/Users/joregan/Playing/wolne-match/whisperx\")"
   ]
  },
  {
   "cell_type": "code",
   "execution_count": null,
   "id": "cfc155a0",
   "metadata": {},
   "outputs": [],
   "source": [
    "!pip install mosestokenizer"
   ]
  },
  {
   "cell_type": "code",
   "execution_count": 7,
   "id": "21e669c9",
   "metadata": {},
   "outputs": [],
   "source": [
    "test = TEXT / \"zloczynca.txt\"\n",
    "\n",
    "textlines = []\n",
    "with open(test, \"r\") as f:\n",
    "    for line in f:\n",
    "        line = line.strip()\n",
    "        if line == \"\":\n",
    "            continue\n",
    "        textlines.append(line)"
   ]
  },
  {
   "cell_type": "code",
   "execution_count": 9,
   "id": "39a2a0be",
   "metadata": {},
   "outputs": [],
   "source": [
    "test2 = \"/Users/joregan/Playing/wolne-match/whisperx/zloczynca_000.json\"\n",
    "\n",
    "def read_whisperx_json(filename):\n",
    "    with open(filename) as f:\n",
    "        data = json.load(f)\n",
    "    return data"
   ]
  },
  {
   "cell_type": "code",
   "execution_count": 18,
   "id": "bed50001",
   "metadata": {},
   "outputs": [],
   "source": [
    "from mosestokenizer import MosesSentenceSplitter\n",
    "\n",
    "def get_sentences_poorly(text):\n",
    "    outputs = []\n",
    "    with MosesSentenceSplitter(\"pl\") as splitter:\n",
    "        for line in text:\n",
    "            sentences = splitter([line])\n",
    "            outputs.extend(sentences)\n",
    "    return outputs"
   ]
  },
  {
   "cell_type": "code",
   "execution_count": 28,
   "id": "dfd82fa8",
   "metadata": {},
   "outputs": [],
   "source": [
    "def rejoin_poorly_split_sentences(sentences):\n",
    "    outputs = []\n",
    "    i = 0\n",
    "    while i < len(sentences) - 1:\n",
    "        if sentences[i].endswith(\":\") and sentences[i + 1][0].islower():\n",
    "            outputs.append(sentences[i] + \" \" + sentences[i + 1])\n",
    "            i += 2\n",
    "        else:\n",
    "            outputs.append(sentences[i])\n",
    "            i += 1\n",
    "    return outputs"
   ]
  },
  {
   "cell_type": "code",
   "execution_count": null,
   "id": "18066607",
   "metadata": {},
   "outputs": [],
   "source": [
    "import re\n",
    "\n",
    "def continue_splitting(sentence):\n",
    "    pattern = r'(?<=[.?!]) — (?=[A-ZĄĆĘŁŃÓŚŹŻ])'\n",
    "    parts = re.split(pattern, sentence)\n",
    "    return parts"
   ]
  },
  {
   "cell_type": "code",
   "execution_count": 61,
   "id": "a74cbae8",
   "metadata": {},
   "outputs": [
    {
     "data": {
      "text/plain": [
       "[\"'— Nigdy nie kłamałem, a teraz od razu niby kłamię… — mruczy Denis, mrugając oczyma.\",\n",
       " \"Czyż można bez ciężarka, panie sędzio?'\"]"
      ]
     },
     "execution_count": 61,
     "metadata": {},
     "output_type": "execute_result"
    }
   ],
   "source": [
    "sentence = \"'— Nigdy nie kłamałem, a teraz od razu niby kłamię… — mruczy Denis, mrugając oczyma. — Czyż można bez ciężarka, panie sędzio?'\"\n",
    "continue_splitting(sentence)"
   ]
  },
  {
   "cell_type": "code",
   "execution_count": null,
   "id": "5e62c5b4",
   "metadata": {},
   "outputs": [],
   "source": [
    "rejoin_poorly_split_sentences(get_sentences_poorly(textlines))"
   ]
  },
  {
   "cell_type": "code",
   "execution_count": null,
   "id": "a7945838",
   "metadata": {},
   "outputs": [],
   "source": [
    "def clean_word(word):\n",
    "    word = word.strip(\",;:!?—…„”\\\"“.«»*()[]‘/\\\\\")\n",
    "    if word:\n",
    "        return word.lower()\n",
    "    else:\n",
    "        return \"\"\n",
    "\n",
    "def clean_text(text):\n",
    "    words = text.split(\" \")\n",
    "    cleaned_words = []\n",
    "    for word in words:\n",
    "        word = word.strip(\",;:!?—…„”\\\"“.«»*()[]‘/\\\\\")\n",
    "        if word:\n",
    "            cleaned_words.append(word.lower())\n",
    "    return \" \".join(cleaned_words)"
   ]
  },
  {
   "cell_type": "code",
   "execution_count": 66,
   "id": "b4a8d706",
   "metadata": {},
   "outputs": [
    {
     "data": {
      "text/plain": [
       "'jego zarośnięta dziobata twarz i oczy ledwo widoczne spoza gęstych obwisłych brwi mają wyraz posępnej surowości'"
      ]
     },
     "execution_count": 66,
     "metadata": {},
     "output_type": "execute_result"
    }
   ],
   "source": [
    "clean_text(\"Jego zarośnięta, dziobata twarz i oczy, ledwo widoczne spoza gęstych, obwisłych brwi, mają wyraz posępnej surowości.\")"
   ]
  },
  {
   "cell_type": "code",
   "execution_count": null,
   "id": "86a0a1fe",
   "metadata": {},
   "outputs": [],
   "source": [
    "for segment in read_whisperx_json(test2)[\"segments\"]:\n",
    "    cleaned = clean_text(segment[\"text\"].strip(\" \"))\n",
    "    print(cleaned)"
   ]
  }
 ],
 "metadata": {
  "kernelspec": {
   "display_name": "nst-tts",
   "language": "python",
   "name": "python3"
  },
  "language_info": {
   "codemirror_mode": {
    "name": "ipython",
    "version": 3
   },
   "file_extension": ".py",
   "mimetype": "text/x-python",
   "name": "python",
   "nbconvert_exporter": "python",
   "pygments_lexer": "ipython3",
   "version": "3.10.9"
  }
 },
 "nbformat": 4,
 "nbformat_minor": 5
}
