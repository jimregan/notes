{
 "cells": [
  {
   "cell_type": "code",
   "execution_count": 1,
   "id": "3b80855d",
   "metadata": {
    "_cell_guid": "b1076dfc-b9ad-4769-8c92-a6c4dae69d19",
    "_uuid": "8f2839f25d086af736a60e9eeb907d3b93b6e0e5",
    "execution": {
     "iopub.execute_input": "2022-05-04T23:50:09.056243Z",
     "iopub.status.busy": "2022-05-04T23:50:09.055802Z",
     "iopub.status.idle": "2022-05-04T23:51:26.432888Z",
     "shell.execute_reply": "2022-05-04T23:51:26.431968Z"
    },
    "papermill": {
     "duration": 77.388716,
     "end_time": "2022-05-04T23:51:26.435354",
     "exception": false,
     "start_time": "2022-05-04T23:50:09.046638",
     "status": "completed"
    },
    "tags": []
   },
   "outputs": [],
   "source": [
    "%%capture\n",
    "!pip install git+https://github.com/pytorch/fairseq"
   ]
  },
  {
   "cell_type": "code",
   "execution_count": 2,
   "id": "9fc3472d",
   "metadata": {
    "execution": {
     "iopub.execute_input": "2022-05-04T23:51:26.448766Z",
     "iopub.status.busy": "2022-05-04T23:51:26.448181Z",
     "iopub.status.idle": "2022-05-04T23:52:07.458222Z",
     "shell.execute_reply": "2022-05-04T23:52:07.457362Z"
    },
    "papermill": {
     "duration": 41.019039,
     "end_time": "2022-05-04T23:52:07.460542",
     "exception": false,
     "start_time": "2022-05-04T23:51:26.441503",
     "status": "completed"
    },
    "tags": []
   },
   "outputs": [
    {
     "name": "stdout",
     "output_type": "stream",
     "text": [
      "--2022-05-04 23:51:27--  https://dl.fbaipublicfiles.com/fairseq/wav2vec/wav2vec_small_960h.pt\r\n",
      "Resolving dl.fbaipublicfiles.com (dl.fbaipublicfiles.com)... 104.22.74.142, 172.67.9.4, 104.22.75.142, ...\r\n",
      "Connecting to dl.fbaipublicfiles.com (dl.fbaipublicfiles.com)|104.22.74.142|:443... connected.\r\n",
      "HTTP request sent, awaiting response... 200 OK\r\n",
      "Length: 944029831 (900M) [application/octet-stream]\r\n",
      "Saving to: ‘wav2vec_small_960h.pt’\r\n",
      "\r\n",
      "wav2vec_small_960h. 100%[===================>] 900.30M  24.4MB/s    in 39s     \r\n",
      "\r\n",
      "2022-05-04 23:52:07 (22.9 MB/s) - ‘wav2vec_small_960h.pt’ saved [944029831/944029831]\r\n",
      "\r\n"
     ]
    }
   ],
   "source": [
    "!wget https://dl.fbaipublicfiles.com/fairseq/wav2vec/wav2vec_small_960h.pt"
   ]
  },
  {
   "cell_type": "code",
   "execution_count": 3,
   "id": "e9523402",
   "metadata": {
    "execution": {
     "iopub.execute_input": "2022-05-04T23:52:07.569881Z",
     "iopub.status.busy": "2022-05-04T23:52:07.569076Z",
     "iopub.status.idle": "2022-05-04T23:52:07.574056Z",
     "shell.execute_reply": "2022-05-04T23:52:07.573348Z"
    },
    "papermill": {
     "duration": 0.060241,
     "end_time": "2022-05-04T23:52:07.575826",
     "exception": false,
     "start_time": "2022-05-04T23:52:07.515585",
     "status": "completed"
    },
    "tags": []
   },
   "outputs": [],
   "source": [
    "#!mkdir config\n",
    "#!wget https://raw.githubusercontent.com/pytorch/fairseq/main/examples/wav2vec/config/finetuning/base_960h.yaml -O config/base_960h.yaml "
   ]
  },
  {
   "cell_type": "code",
   "execution_count": 4,
   "id": "56e50ba1",
   "metadata": {
    "execution": {
     "iopub.execute_input": "2022-05-04T23:52:07.681676Z",
     "iopub.status.busy": "2022-05-04T23:52:07.680844Z",
     "iopub.status.idle": "2022-05-04T23:52:08.338477Z",
     "shell.execute_reply": "2022-05-04T23:52:08.337286Z"
    },
    "papermill": {
     "duration": 0.713073,
     "end_time": "2022-05-04T23:52:08.340710",
     "exception": false,
     "start_time": "2022-05-04T23:52:07.627637",
     "status": "completed"
    },
    "tags": []
   },
   "outputs": [],
   "source": [
    "!mkdir config"
   ]
  },
  {
   "cell_type": "code",
   "execution_count": 5,
   "id": "89d02fd0",
   "metadata": {
    "execution": {
     "iopub.execute_input": "2022-05-04T23:52:08.459883Z",
     "iopub.status.busy": "2022-05-04T23:52:08.459569Z",
     "iopub.status.idle": "2022-05-04T23:52:08.466667Z",
     "shell.execute_reply": "2022-05-04T23:52:08.465845Z"
    },
    "papermill": {
     "duration": 0.072981,
     "end_time": "2022-05-04T23:52:08.469310",
     "exception": false,
     "start_time": "2022-05-04T23:52:08.396329",
     "status": "completed"
    },
    "tags": []
   },
   "outputs": [
    {
     "name": "stdout",
     "output_type": "stream",
     "text": [
      "Writing config/base_960h.yaml\n"
     ]
    }
   ],
   "source": [
    "%%writefile config/base_960h.yaml\n",
    "common:\n",
    "  fp16: true\n",
    "  log_format: json\n",
    "  log_interval: 200\n",
    "\n",
    "checkpoint:\n",
    "  no_epoch_checkpoints: true\n",
    "  best_checkpoint_metric: wer\n",
    "  restore_file: wav2vec_small_960h.pt\n",
    "\n",
    "task:\n",
    "  _name: audio_finetuning\n",
    "  data: ???\n",
    "  normalize: false\n",
    "  labels: ltr\n",
    "\n",
    "dataset:\n",
    "  num_workers: 1\n",
    "  max_tokens: 3200000\n",
    "  skip_invalid_size_inputs_valid_test: true\n",
    "  valid_subset: dev_other\n",
    "\n",
    "distributed_training:\n",
    "  ddp_backend: legacy_ddp\n",
    "  distributed_world_size: 1\n",
    "\n",
    "criterion:\n",
    "  _name: ctc\n",
    "  zero_infinity: true\n",
    "\n",
    "optimization:\n",
    "  max_update: 360000\n",
    "  lr: [0.0001]\n",
    "  sentence_avg: true\n",
    "\n",
    "optimizer:\n",
    "  _name: adam\n",
    "  adam_betas: (0.9,0.98)\n",
    "  adam_eps: 1e-08\n",
    "\n",
    "lr_scheduler:\n",
    "  _name: tri_stage\n",
    "  phase_ratio: [0.1, 0.4, 0.5]\n",
    "  final_lr_scale: 0.05\n",
    "\n",
    "model:\n",
    "  _name: wav2vec_ctc\n",
    "  w2v_path: ???\n",
    "  apply_mask: true\n",
    "  mask_prob: 0.5\n",
    "  mask_channel_prob: 0.1\n",
    "  mask_channel_length: 64\n",
    "  layerdrop: 0.1\n",
    "  activation_dropout: 0.1\n",
    "  feature_grad_mult: 0.0\n",
    "  freeze_finetune_updates: 0"
   ]
  },
  {
   "cell_type": "code",
   "execution_count": 6,
   "id": "be07d89d",
   "metadata": {
    "execution": {
     "iopub.execute_input": "2022-05-04T23:52:08.577343Z",
     "iopub.status.busy": "2022-05-04T23:52:08.577072Z",
     "iopub.status.idle": "2022-05-04T23:52:12.019872Z",
     "shell.execute_reply": "2022-05-04T23:52:12.018722Z"
    },
    "papermill": {
     "duration": 3.498514,
     "end_time": "2022-05-04T23:52:12.022716",
     "exception": false,
     "start_time": "2022-05-04T23:52:08.524202",
     "status": "completed"
    },
    "tags": []
   },
   "outputs": [
    {
     "name": "stdout",
     "output_type": "stream",
     "text": [
      "Traceback (most recent call last):\r\n",
      "  File \"/opt/conda/bin/fairseq-hydra-train\", line 5, in <module>\r\n",
      "    from fairseq_cli.hydra_train import cli_main\r\n",
      "  File \"/opt/conda/lib/python3.7/site-packages/fairseq_cli/hydra_train.py\", line 15, in <module>\r\n",
      "    from fairseq import distributed_utils, metrics\r\n",
      "  File \"/opt/conda/lib/python3.7/site-packages/fairseq/__init__.py\", line 21, in <module>\r\n",
      "    from fairseq.logging import meters, metrics, progress_bar  # noqa\r\n",
      "  File \"/opt/conda/lib/python3.7/site-packages/fairseq/logging/progress_bar.py\", line 407, in <module>\r\n",
      "    from torch.utils.tensorboard import SummaryWriter\r\n",
      "  File \"/opt/conda/lib/python3.7/site-packages/torch/utils/tensorboard/__init__.py\", line 4, in <module>\r\n",
      "    LooseVersion = distutils.version.LooseVersion\r\n",
      "AttributeError: module 'distutils' has no attribute 'version'\r\n"
     ]
    }
   ],
   "source": [
    "!fairseq-hydra-train task.data=../input/create-ljspeech-splits/10mins/ model.w2v_path=wav2vec_small_960h.pt --config-dir config --config-name base_960h"
   ]
  }
 ],
 "metadata": {
  "kernelspec": {
   "display_name": "Python 3",
   "language": "python",
   "name": "python3"
  },
  "language_info": {
   "codemirror_mode": {
    "name": "ipython",
    "version": 3
   },
   "file_extension": ".py",
   "mimetype": "text/x-python",
   "name": "python",
   "nbconvert_exporter": "python",
   "pygments_lexer": "ipython3",
   "version": "3.7.12"
  },
  "papermill": {
   "default_parameters": {},
   "duration": 131.94194,
   "end_time": "2022-05-04T23:52:12.800127",
   "environment_variables": {},
   "exception": null,
   "input_path": "__notebook__.ipynb",
   "output_path": "__notebook__.ipynb",
   "parameters": {},
   "start_time": "2022-05-04T23:50:00.858187",
   "version": "2.3.4"
  }
 },
 "nbformat": 4,
 "nbformat_minor": 5
}
