{
 "cells": [
  {
   "cell_type": "code",
   "execution_count": 1,
   "id": "fcdfc2dc",
   "metadata": {
    "_cell_guid": "b1076dfc-b9ad-4769-8c92-a6c4dae69d19",
    "_uuid": "8f2839f25d086af736a60e9eeb907d3b93b6e0e5",
    "execution": {
     "iopub.execute_input": "2022-05-04T23:54:55.003431Z",
     "iopub.status.busy": "2022-05-04T23:54:55.002938Z",
     "iopub.status.idle": "2022-05-04T23:56:47.521866Z",
     "shell.execute_reply": "2022-05-04T23:56:47.520706Z"
    },
    "papermill": {
     "duration": 112.532094,
     "end_time": "2022-05-04T23:56:47.524837",
     "exception": false,
     "start_time": "2022-05-04T23:54:54.992743",
     "status": "completed"
    },
    "tags": []
   },
   "outputs": [],
   "source": [
    "%%capture\n",
    "!pip install setuptools==59.5.0\n",
    "!pip install git+https://github.com/pytorch/fairseq"
   ]
  },
  {
   "cell_type": "code",
   "execution_count": 2,
   "id": "87eddb74",
   "metadata": {
    "execution": {
     "iopub.execute_input": "2022-05-04T23:56:47.540765Z",
     "iopub.status.busy": "2022-05-04T23:56:47.540438Z",
     "iopub.status.idle": "2022-05-04T23:57:01.106799Z",
     "shell.execute_reply": "2022-05-04T23:57:01.105767Z"
    },
    "papermill": {
     "duration": 13.577284,
     "end_time": "2022-05-04T23:57:01.109345",
     "exception": false,
     "start_time": "2022-05-04T23:56:47.532061",
     "status": "completed"
    },
    "tags": []
   },
   "outputs": [
    {
     "name": "stdout",
     "output_type": "stream",
     "text": [
      "--2022-05-04 23:56:48--  https://dl.fbaipublicfiles.com/fairseq/wav2vec/wav2vec_small_960h.pt\r\n",
      "Resolving dl.fbaipublicfiles.com (dl.fbaipublicfiles.com)... 172.67.9.4, 104.22.75.142, 104.22.74.142, ...\r\n",
      "Connecting to dl.fbaipublicfiles.com (dl.fbaipublicfiles.com)|172.67.9.4|:443... connected.\r\n",
      "HTTP request sent, awaiting response... 200 OK\r\n",
      "Length: 944029831 (900M) [application/octet-stream]\r\n",
      "Saving to: ‘wav2vec_small_960h.pt’\r\n",
      "\r\n",
      "wav2vec_small_960h. 100%[===================>] 900.30M  78.0MB/s    in 12s     \r\n",
      "\r\n",
      "2022-05-04 23:57:00 (72.5 MB/s) - ‘wav2vec_small_960h.pt’ saved [944029831/944029831]\r\n",
      "\r\n"
     ]
    }
   ],
   "source": [
    "!wget https://dl.fbaipublicfiles.com/fairseq/wav2vec/wav2vec_small_960h.pt"
   ]
  },
  {
   "cell_type": "code",
   "execution_count": 3,
   "id": "7d88d6f1",
   "metadata": {
    "execution": {
     "iopub.execute_input": "2022-05-04T23:57:01.172406Z",
     "iopub.status.busy": "2022-05-04T23:57:01.171489Z",
     "iopub.status.idle": "2022-05-04T23:57:01.177504Z",
     "shell.execute_reply": "2022-05-04T23:57:01.176562Z"
    },
    "papermill": {
     "duration": 0.040176,
     "end_time": "2022-05-04T23:57:01.179687",
     "exception": false,
     "start_time": "2022-05-04T23:57:01.139511",
     "status": "completed"
    },
    "tags": []
   },
   "outputs": [],
   "source": [
    "#!mkdir config\n",
    "#!wget https://raw.githubusercontent.com/pytorch/fairseq/main/examples/wav2vec/config/finetuning/base_960h.yaml -O config/base_960h.yaml "
   ]
  },
  {
   "cell_type": "code",
   "execution_count": 4,
   "id": "31bc0118",
   "metadata": {
    "execution": {
     "iopub.execute_input": "2022-05-04T23:57:01.240910Z",
     "iopub.status.busy": "2022-05-04T23:57:01.240062Z",
     "iopub.status.idle": "2022-05-04T23:57:02.016973Z",
     "shell.execute_reply": "2022-05-04T23:57:02.015745Z"
    },
    "papermill": {
     "duration": 0.810289,
     "end_time": "2022-05-04T23:57:02.019670",
     "exception": false,
     "start_time": "2022-05-04T23:57:01.209381",
     "status": "completed"
    },
    "tags": []
   },
   "outputs": [],
   "source": [
    "!mkdir config"
   ]
  },
  {
   "cell_type": "code",
   "execution_count": 5,
   "id": "e04d3248",
   "metadata": {
    "execution": {
     "iopub.execute_input": "2022-05-04T23:57:02.085374Z",
     "iopub.status.busy": "2022-05-04T23:57:02.084973Z",
     "iopub.status.idle": "2022-05-04T23:57:02.093495Z",
     "shell.execute_reply": "2022-05-04T23:57:02.092583Z"
    },
    "papermill": {
     "duration": 0.043039,
     "end_time": "2022-05-04T23:57:02.096595",
     "exception": false,
     "start_time": "2022-05-04T23:57:02.053556",
     "status": "completed"
    },
    "tags": []
   },
   "outputs": [
    {
     "name": "stdout",
     "output_type": "stream",
     "text": [
      "Writing config/base_960h.yaml\n"
     ]
    }
   ],
   "source": [
    "%%writefile config/base_960h.yaml\n",
    "common:\n",
    "  fp16: true\n",
    "  log_format: json\n",
    "  log_interval: 200\n",
    "\n",
    "checkpoint:\n",
    "  no_epoch_checkpoints: true\n",
    "  best_checkpoint_metric: wer\n",
    "  restore_file: wav2vec_small_960h.pt\n",
    "\n",
    "task:\n",
    "  _name: audio_finetuning\n",
    "  data: ???\n",
    "  normalize: false\n",
    "  labels: ltr\n",
    "\n",
    "dataset:\n",
    "  num_workers: 1\n",
    "  max_tokens: 3200000\n",
    "  skip_invalid_size_inputs_valid_test: true\n",
    "  valid_subset: dev_other\n",
    "\n",
    "distributed_training:\n",
    "  ddp_backend: legacy_ddp\n",
    "  distributed_world_size: 1\n",
    "\n",
    "criterion:\n",
    "  _name: ctc\n",
    "  zero_infinity: true\n",
    "\n",
    "optimization:\n",
    "  max_update: 360000\n",
    "  lr: [0.0001]\n",
    "  sentence_avg: true\n",
    "\n",
    "optimizer:\n",
    "  _name: adam\n",
    "  adam_betas: (0.9,0.98)\n",
    "  adam_eps: 1e-08\n",
    "\n",
    "lr_scheduler:\n",
    "  _name: tri_stage\n",
    "  phase_ratio: [0.1, 0.4, 0.5]\n",
    "  final_lr_scale: 0.05\n",
    "\n",
    "model:\n",
    "  _name: wav2vec_ctc\n",
    "  w2v_path: ???\n",
    "  apply_mask: true\n",
    "  mask_prob: 0.5\n",
    "  mask_channel_prob: 0.1\n",
    "  mask_channel_length: 64\n",
    "  layerdrop: 0.1\n",
    "  activation_dropout: 0.1\n",
    "  feature_grad_mult: 0.0\n",
    "  freeze_finetune_updates: 0"
   ]
  },
  {
   "cell_type": "code",
   "execution_count": 6,
   "id": "19a65b27",
   "metadata": {
    "execution": {
     "iopub.execute_input": "2022-05-04T23:57:02.160295Z",
     "iopub.status.busy": "2022-05-04T23:57:02.159721Z",
     "iopub.status.idle": "2022-05-04T23:57:20.434106Z",
     "shell.execute_reply": "2022-05-04T23:57:20.433020Z"
    },
    "papermill": {
     "duration": 18.309185,
     "end_time": "2022-05-04T23:57:20.437061",
     "exception": false,
     "start_time": "2022-05-04T23:57:02.127876",
     "status": "completed"
    },
    "tags": []
   },
   "outputs": [
    {
     "name": "stdout",
     "output_type": "stream",
     "text": [
      "Traceback (most recent call last):\r\n",
      "  File \"/opt/conda/bin/fairseq-hydra-train\", line 5, in <module>\r\n",
      "    from fairseq_cli.hydra_train import cli_main\r\n",
      "  File \"/opt/conda/lib/python3.7/site-packages/fairseq_cli/hydra_train.py\", line 15, in <module>\r\n",
      "    from fairseq import distributed_utils, metrics\r\n",
      "  File \"/opt/conda/lib/python3.7/site-packages/fairseq/__init__.py\", line 33, in <module>\r\n",
      "    import fairseq.criterions  # noqa\r\n",
      "  File \"/opt/conda/lib/python3.7/site-packages/fairseq/criterions/__init__.py\", line 36, in <module>\r\n",
      "    importlib.import_module(\"fairseq.criterions.\" + file_name)\r\n",
      "  File \"/opt/conda/lib/python3.7/importlib/__init__.py\", line 127, in import_module\r\n",
      "    return _bootstrap._gcd_import(name[level:], package, level)\r\n",
      "  File \"/opt/conda/lib/python3.7/site-packages/fairseq/criterions/ctc.py\", line 19, in <module>\r\n",
      "    from fairseq.tasks import FairseqTask\r\n",
      "  File \"/opt/conda/lib/python3.7/site-packages/fairseq/tasks/__init__.py\", line 136, in <module>\r\n",
      "    import_tasks(tasks_dir, \"fairseq.tasks\")\r\n",
      "  File \"/opt/conda/lib/python3.7/site-packages/fairseq/tasks/__init__.py\", line 117, in import_tasks\r\n",
      "    importlib.import_module(namespace + \".\" + task_name)\r\n",
      "  File \"/opt/conda/lib/python3.7/importlib/__init__.py\", line 127, in import_module\r\n",
      "    return _bootstrap._gcd_import(name[level:], package, level)\r\n",
      "  File \"/opt/conda/lib/python3.7/site-packages/fairseq/tasks/multilingual_translation.py\", line 20, in <module>\r\n",
      "    from fairseq.models import FairseqMultiModel\r\n",
      "  File \"/opt/conda/lib/python3.7/site-packages/fairseq/models/__init__.py\", line 235, in <module>\r\n",
      "    import_models(models_dir, \"fairseq.models\")\r\n",
      "  File \"/opt/conda/lib/python3.7/site-packages/fairseq/models/__init__.py\", line 217, in import_models\r\n",
      "    importlib.import_module(namespace + \".\" + model_name)\r\n",
      "  File \"/opt/conda/lib/python3.7/importlib/__init__.py\", line 127, in import_module\r\n",
      "    return _bootstrap._gcd_import(name[level:], package, level)\r\n",
      "  File \"/opt/conda/lib/python3.7/site-packages/fairseq/models/transformer_ulm.py\", line 21, in <module>\r\n",
      "    from fairseq.models.transformer import Embedding, TransformerDecoder, Linear\r\n",
      "  File \"/opt/conda/lib/python3.7/site-packages/fairseq/models/transformer/__init__.py\", line 13, in <module>\r\n",
      "    from .transformer_decoder import TransformerDecoder, TransformerDecoderBase, Linear\r\n",
      "  File \"/opt/conda/lib/python3.7/site-packages/fairseq/models/transformer/transformer_decoder.py\", line 17, in <module>\r\n",
      "    from fairseq.modules import (\r\n",
      "  File \"/opt/conda/lib/python3.7/site-packages/fairseq/modules/__init__.py\", line 33, in <module>\r\n",
      "    from .multihead_attention import MultiheadAttention\r\n",
      "  File \"/opt/conda/lib/python3.7/site-packages/fairseq/modules/multihead_attention.py\", line 13, in <module>\r\n",
      "    from xformers.components.attention import build_attention\r\n",
      "ModuleNotFoundError: No module named 'xformers'\r\n"
     ]
    }
   ],
   "source": [
    "!fairseq-hydra-train task.data=../input/create-ljspeech-splits/10mins/ model.w2v_path=wav2vec_small_960h.pt --config-dir config --config-name base_960h"
   ]
  }
 ],
 "metadata": {
  "kernelspec": {
   "display_name": "Python 3",
   "language": "python",
   "name": "python3"
  },
  "language_info": {
   "codemirror_mode": {
    "name": "ipython",
    "version": 3
   },
   "file_extension": ".py",
   "mimetype": "text/x-python",
   "name": "python",
   "nbconvert_exporter": "python",
   "pygments_lexer": "ipython3",
   "version": "3.7.12"
  },
  "papermill": {
   "default_parameters": {},
   "duration": 157.194478,
   "end_time": "2022-05-04T23:57:21.191108",
   "environment_variables": {},
   "exception": null,
   "input_path": "__notebook__.ipynb",
   "output_path": "__notebook__.ipynb",
   "parameters": {},
   "start_time": "2022-05-04T23:54:43.996630",
   "version": "2.3.4"
  }
 },
 "nbformat": 4,
 "nbformat_minor": 5
}
