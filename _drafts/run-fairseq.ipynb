{
 "cells": [
  {
   "cell_type": "code",
   "execution_count": null,
   "id": "a2795fe5",
   "metadata": {
    "_cell_guid": "b1076dfc-b9ad-4769-8c92-a6c4dae69d19",
    "_uuid": "8f2839f25d086af736a60e9eeb907d3b93b6e0e5",
    "execution": {
     "iopub.execute_input": "2022-05-04T23:32:00.75855Z",
     "iopub.status.busy": "2022-05-04T23:32:00.757831Z",
     "iopub.status.idle": "2022-05-04T23:32:17.371065Z",
     "shell.execute_reply": "2022-05-04T23:32:17.370302Z",
     "shell.execute_reply.started": "2022-05-04T23:32:00.758443Z"
    },
    "papermill": {
     "duration": null,
     "end_time": null,
     "exception": false,
     "start_time": "2022-05-05T00:06:47.706229",
     "status": "running"
    },
    "tags": []
   },
   "outputs": [],
   "source": [
    "%%capture\n",
    "!pip install setuptools==59.5.0\n",
    "!pip install git+https://github.com/pytorch/fairseq\n",
    "!python -m pip install iopath transformers pyarrow\n",
    "!python -m pip install git+https://github.com/facebookresearch/fairscale.git@main\n",
    "!python -m pip install --progress-bar off git+https://github.com/facebookresearch/xformers.git@main"
   ]
  },
  {
   "cell_type": "code",
   "execution_count": null,
   "id": "5f11da74",
   "metadata": {
    "execution": {
     "iopub.execute_input": "2022-05-04T23:33:37.289908Z",
     "iopub.status.busy": "2022-05-04T23:33:37.289563Z",
     "iopub.status.idle": "2022-05-04T23:34:02.08497Z",
     "shell.execute_reply": "2022-05-04T23:34:02.083972Z",
     "shell.execute_reply.started": "2022-05-04T23:33:37.289858Z"
    },
    "papermill": {
     "duration": null,
     "end_time": null,
     "exception": null,
     "start_time": null,
     "status": "pending"
    },
    "tags": []
   },
   "outputs": [],
   "source": [
    "!wget https://dl.fbaipublicfiles.com/fairseq/wav2vec/wav2vec_small_960h.pt"
   ]
  },
  {
   "cell_type": "code",
   "execution_count": null,
   "id": "a9115437",
   "metadata": {
    "papermill": {
     "duration": null,
     "end_time": null,
     "exception": null,
     "start_time": null,
     "status": "pending"
    },
    "tags": []
   },
   "outputs": [],
   "source": [
    "#!mkdir config\n",
    "#!wget https://raw.githubusercontent.com/pytorch/fairseq/main/examples/wav2vec/config/finetuning/base_960h.yaml -O config/base_960h.yaml "
   ]
  },
  {
   "cell_type": "code",
   "execution_count": null,
   "id": "654f42f3",
   "metadata": {
    "papermill": {
     "duration": null,
     "end_time": null,
     "exception": null,
     "start_time": null,
     "status": "pending"
    },
    "tags": []
   },
   "outputs": [],
   "source": [
    "!mkdir config"
   ]
  },
  {
   "cell_type": "code",
   "execution_count": null,
   "id": "b0f2c669",
   "metadata": {
    "papermill": {
     "duration": null,
     "end_time": null,
     "exception": null,
     "start_time": null,
     "status": "pending"
    },
    "tags": []
   },
   "outputs": [],
   "source": [
    "%%writefile config/base_960h.yaml\n",
    "common:\n",
    "  fp16: true\n",
    "  log_format: json\n",
    "  log_interval: 200\n",
    "\n",
    "checkpoint:\n",
    "  no_epoch_checkpoints: true\n",
    "  best_checkpoint_metric: wer\n",
    "  restore_file: wav2vec_small_960h.pt\n",
    "\n",
    "task:\n",
    "  _name: audio_finetuning\n",
    "  data: ???\n",
    "  normalize: false\n",
    "  labels: ltr\n",
    "\n",
    "dataset:\n",
    "  num_workers: 1\n",
    "  max_tokens: 3200000\n",
    "  skip_invalid_size_inputs_valid_test: true\n",
    "  valid_subset: dev_other\n",
    "\n",
    "distributed_training:\n",
    "  ddp_backend: legacy_ddp\n",
    "  distributed_world_size: 1\n",
    "\n",
    "criterion:\n",
    "  _name: ctc\n",
    "  zero_infinity: true\n",
    "\n",
    "optimization:\n",
    "  max_update: 360000\n",
    "  lr: [0.0001]\n",
    "  sentence_avg: true\n",
    "\n",
    "optimizer:\n",
    "  _name: adam\n",
    "  adam_betas: (0.9,0.98)\n",
    "  adam_eps: 1e-08\n",
    "\n",
    "lr_scheduler:\n",
    "  _name: tri_stage\n",
    "  phase_ratio: [0.1, 0.4, 0.5]\n",
    "  final_lr_scale: 0.05\n",
    "\n",
    "model:\n",
    "  _name: wav2vec_ctc\n",
    "  w2v_path: ???\n",
    "  apply_mask: true\n",
    "  mask_prob: 0.5\n",
    "  mask_channel_prob: 0.1\n",
    "  mask_channel_length: 64\n",
    "  layerdrop: 0.1\n",
    "  activation_dropout: 0.1\n",
    "  feature_grad_mult: 0.0\n",
    "  freeze_finetune_updates: 0"
   ]
  },
  {
   "cell_type": "code",
   "execution_count": null,
   "id": "4a58b569",
   "metadata": {
    "papermill": {
     "duration": null,
     "end_time": null,
     "exception": null,
     "start_time": null,
     "status": "pending"
    },
    "tags": []
   },
   "outputs": [],
   "source": [
    "!fairseq-hydra-train task.data=../input/create-ljspeech-splits/10mins/ model.w2v_path=wav2vec_small_960h.pt --config-dir config --config-name base_960h"
   ]
  }
 ],
 "metadata": {
  "kernelspec": {
   "display_name": "Python 3",
   "language": "python",
   "name": "python3"
  },
  "language_info": {
   "codemirror_mode": {
    "name": "ipython",
    "version": 3
   },
   "file_extension": ".py",
   "mimetype": "text/x-python",
   "name": "python",
   "nbconvert_exporter": "python",
   "pygments_lexer": "ipython3",
   "version": "3.6.4"
  },
  "papermill": {
   "default_parameters": {},
   "duration": null,
   "end_time": null,
   "environment_variables": {},
   "exception": null,
   "input_path": "__notebook__.ipynb",
   "output_path": "__notebook__.ipynb",
   "parameters": {},
   "start_time": "2022-05-05T00:06:37.971932",
   "version": "2.3.4"
  }
 },
 "nbformat": 4,
 "nbformat_minor": 5
}