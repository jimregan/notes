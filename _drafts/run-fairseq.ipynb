{
 "cells": [
  {
   "cell_type": "code",
   "execution_count": 1,
   "id": "c4715263",
   "metadata": {
    "_cell_guid": "b1076dfc-b9ad-4769-8c92-a6c4dae69d19",
    "_uuid": "8f2839f25d086af736a60e9eeb907d3b93b6e0e5",
    "execution": {
     "iopub.execute_input": "2022-05-04T23:43:06.852777Z",
     "iopub.status.busy": "2022-05-04T23:43:06.852110Z",
     "iopub.status.idle": "2022-05-04T23:43:21.980574Z",
     "shell.execute_reply": "2022-05-04T23:43:21.979704Z"
    },
    "papermill": {
     "duration": 15.139853,
     "end_time": "2022-05-04T23:43:21.982927",
     "exception": false,
     "start_time": "2022-05-04T23:43:06.843074",
     "status": "completed"
    },
    "tags": []
   },
   "outputs": [],
   "source": [
    "%%capture\n",
    "!pip install fairseq"
   ]
  },
  {
   "cell_type": "code",
   "execution_count": 2,
   "id": "d8735586",
   "metadata": {
    "execution": {
     "iopub.execute_input": "2022-05-04T23:43:21.995403Z",
     "iopub.status.busy": "2022-05-04T23:43:21.995135Z",
     "iopub.status.idle": "2022-05-04T23:43:42.045415Z",
     "shell.execute_reply": "2022-05-04T23:43:42.044565Z"
    },
    "papermill": {
     "duration": 20.058706,
     "end_time": "2022-05-04T23:43:42.047818",
     "exception": false,
     "start_time": "2022-05-04T23:43:21.989112",
     "status": "completed"
    },
    "tags": []
   },
   "outputs": [
    {
     "name": "stdout",
     "output_type": "stream",
     "text": [
      "--2022-05-04 23:43:22--  https://dl.fbaipublicfiles.com/fairseq/wav2vec/wav2vec_small_960h.pt\r\n",
      "Resolving dl.fbaipublicfiles.com (dl.fbaipublicfiles.com)... 104.22.74.142, 172.67.9.4, 104.22.75.142, ...\r\n",
      "Connecting to dl.fbaipublicfiles.com (dl.fbaipublicfiles.com)|104.22.74.142|:443... connected.\r\n",
      "HTTP request sent, awaiting response... 200 OK\r\n",
      "Length: 944029831 (900M) [application/octet-stream]\r\n",
      "Saving to: ‘wav2vec_small_960h.pt’\r\n",
      "\r\n",
      "wav2vec_small_960h. 100%[===================>] 900.30M  45.9MB/s    in 19s     \r\n",
      "\r\n",
      "2022-05-04 23:43:41 (47.5 MB/s) - ‘wav2vec_small_960h.pt’ saved [944029831/944029831]\r\n",
      "\r\n"
     ]
    }
   ],
   "source": [
    "!wget https://dl.fbaipublicfiles.com/fairseq/wav2vec/wav2vec_small_960h.pt"
   ]
  },
  {
   "cell_type": "code",
   "execution_count": 3,
   "id": "593c4722",
   "metadata": {
    "execution": {
     "iopub.execute_input": "2022-05-04T23:43:42.105786Z",
     "iopub.status.busy": "2022-05-04T23:43:42.105536Z",
     "iopub.status.idle": "2022-05-04T23:43:42.109266Z",
     "shell.execute_reply": "2022-05-04T23:43:42.108462Z"
    },
    "papermill": {
     "duration": 0.034867,
     "end_time": "2022-05-04T23:43:42.111271",
     "exception": false,
     "start_time": "2022-05-04T23:43:42.076404",
     "status": "completed"
    },
    "tags": []
   },
   "outputs": [],
   "source": [
    "#!mkdir config\n",
    "#!wget https://raw.githubusercontent.com/pytorch/fairseq/main/examples/wav2vec/config/finetuning/base_960h.yaml -O config/base_960h.yaml "
   ]
  },
  {
   "cell_type": "code",
   "execution_count": 4,
   "id": "5abef67e",
   "metadata": {
    "execution": {
     "iopub.execute_input": "2022-05-04T23:43:42.169212Z",
     "iopub.status.busy": "2022-05-04T23:43:42.168959Z",
     "iopub.status.idle": "2022-05-04T23:43:42.184739Z",
     "shell.execute_reply": "2022-05-04T23:43:42.183715Z"
    },
    "papermill": {
     "duration": 0.046649,
     "end_time": "2022-05-04T23:43:42.185993",
     "exception": true,
     "start_time": "2022-05-04T23:43:42.139344",
     "status": "failed"
    },
    "tags": []
   },
   "outputs": [
    {
     "ename": "SyntaxError",
     "evalue": "invalid syntax (945188718.py, line 3)",
     "output_type": "error",
     "traceback": [
      "\u001b[0;36m  File \u001b[0;32m\"/tmp/ipykernel_23/945188718.py\"\u001b[0;36m, line \u001b[0;32m3\u001b[0m\n\u001b[0;31m    common:\u001b[0m\n\u001b[0m           ^\u001b[0m\n\u001b[0;31mSyntaxError\u001b[0m\u001b[0;31m:\u001b[0m invalid syntax\n"
     ]
    }
   ],
   "source": [
    "!mkdir config\n",
    "%%writefile config/base_960h.yaml\n",
    "common:\n",
    "  fp16: true\n",
    "  log_format: json\n",
    "  log_interval: 200\n",
    "\n",
    "checkpoint:\n",
    "  no_epoch_checkpoints: true\n",
    "  best_checkpoint_metric: wer\n",
    "  restore_file: wav2vec_small_960h.pt\n",
    "\n",
    "task:\n",
    "  _name: audio_finetuning\n",
    "  data: ???\n",
    "  normalize: false\n",
    "  labels: ltr\n",
    "\n",
    "dataset:\n",
    "  num_workers: 1\n",
    "  max_tokens: 3200000\n",
    "  skip_invalid_size_inputs_valid_test: true\n",
    "  valid_subset: dev_other\n",
    "\n",
    "distributed_training:\n",
    "  ddp_backend: legacy_ddp\n",
    "  distributed_world_size: 1\n",
    "\n",
    "criterion:\n",
    "  _name: ctc\n",
    "  zero_infinity: true\n",
    "\n",
    "optimization:\n",
    "  max_update: 360000\n",
    "  lr: [0.0001]\n",
    "  sentence_avg: true\n",
    "\n",
    "optimizer:\n",
    "  _name: adam\n",
    "  adam_betas: (0.9,0.98)\n",
    "  adam_eps: 1e-08\n",
    "\n",
    "lr_scheduler:\n",
    "  _name: tri_stage\n",
    "  phase_ratio: [0.1, 0.4, 0.5]\n",
    "  final_lr_scale: 0.05\n",
    "\n",
    "model:\n",
    "  _name: wav2vec_ctc\n",
    "  w2v_path: ???\n",
    "  apply_mask: true\n",
    "  mask_prob: 0.5\n",
    "  mask_channel_prob: 0.1\n",
    "  mask_channel_length: 64\n",
    "  layerdrop: 0.1\n",
    "  activation_dropout: 0.1\n",
    "  feature_grad_mult: 0.0\n",
    "  freeze_finetune_updates: 0"
   ]
  },
  {
   "cell_type": "code",
   "execution_count": null,
   "id": "a3faef94",
   "metadata": {
    "papermill": {
     "duration": null,
     "end_time": null,
     "exception": null,
     "start_time": null,
     "status": "pending"
    },
    "tags": []
   },
   "outputs": [],
   "source": [
    "!fairseq-hydra-train task.data=../input/create-ljspeech-splits/10mins/ model.w2v_path=wav2vec_small_960h.pt --config-dir config --config-name base_960h"
   ]
  }
 ],
 "metadata": {
  "kernelspec": {
   "display_name": "Python 3",
   "language": "python",
   "name": "python3"
  },
  "language_info": {
   "codemirror_mode": {
    "name": "ipython",
    "version": 3
   },
   "file_extension": ".py",
   "mimetype": "text/x-python",
   "name": "python",
   "nbconvert_exporter": "python",
   "pygments_lexer": "ipython3",
   "version": "3.7.12"
  },
  "papermill": {
   "default_parameters": {},
   "duration": 43.968905,
   "end_time": "2022-05-04T23:43:42.734007",
   "environment_variables": {},
   "exception": true,
   "input_path": "__notebook__.ipynb",
   "output_path": "__notebook__.ipynb",
   "parameters": {},
   "start_time": "2022-05-04T23:42:58.765102",
   "version": "2.3.4"
  }
 },
 "nbformat": 4,
 "nbformat_minor": 5
}
