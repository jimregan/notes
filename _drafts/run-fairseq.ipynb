{
 "cells": [
  {
   "cell_type": "code",
   "execution_count": 1,
   "id": "e32a852f",
   "metadata": {
    "_cell_guid": "b1076dfc-b9ad-4769-8c92-a6c4dae69d19",
    "_uuid": "8f2839f25d086af736a60e9eeb907d3b93b6e0e5",
    "execution": {
     "iopub.execute_input": "2022-05-04T23:46:10.013635Z",
     "iopub.status.busy": "2022-05-04T23:46:10.013271Z",
     "iopub.status.idle": "2022-05-04T23:46:25.233680Z",
     "shell.execute_reply": "2022-05-04T23:46:25.232752Z"
    },
    "papermill": {
     "duration": 15.23165,
     "end_time": "2022-05-04T23:46:25.235905",
     "exception": false,
     "start_time": "2022-05-04T23:46:10.004255",
     "status": "completed"
    },
    "tags": []
   },
   "outputs": [],
   "source": [
    "%%capture\n",
    "!pip install fairseq"
   ]
  },
  {
   "cell_type": "code",
   "execution_count": 2,
   "id": "7d54e93d",
   "metadata": {
    "execution": {
     "iopub.execute_input": "2022-05-04T23:46:25.248831Z",
     "iopub.status.busy": "2022-05-04T23:46:25.248604Z",
     "iopub.status.idle": "2022-05-04T23:46:43.515374Z",
     "shell.execute_reply": "2022-05-04T23:46:43.514478Z"
    },
    "papermill": {
     "duration": 18.275613,
     "end_time": "2022-05-04T23:46:43.517378",
     "exception": false,
     "start_time": "2022-05-04T23:46:25.241765",
     "status": "completed"
    },
    "tags": []
   },
   "outputs": [
    {
     "name": "stdout",
     "output_type": "stream",
     "text": [
      "--2022-05-04 23:46:25--  https://dl.fbaipublicfiles.com/fairseq/wav2vec/wav2vec_small_960h.pt\r\n",
      "Resolving dl.fbaipublicfiles.com (dl.fbaipublicfiles.com)... 104.22.74.142, 104.22.75.142, 172.67.9.4, ...\r\n",
      "Connecting to dl.fbaipublicfiles.com (dl.fbaipublicfiles.com)|104.22.74.142|:443... connected.\r\n",
      "HTTP request sent, awaiting response... 200 OK\r\n",
      "Length: 944029831 (900M) [application/octet-stream]\r\n",
      "Saving to: ‘wav2vec_small_960h.pt’\r\n",
      "\r\n",
      "wav2vec_small_960h. 100%[===================>] 900.30M  58.7MB/s    in 17s     \r\n",
      "\r\n",
      "2022-05-04 23:46:43 (52.2 MB/s) - ‘wav2vec_small_960h.pt’ saved [944029831/944029831]\r\n",
      "\r\n"
     ]
    }
   ],
   "source": [
    "!wget https://dl.fbaipublicfiles.com/fairseq/wav2vec/wav2vec_small_960h.pt"
   ]
  },
  {
   "cell_type": "code",
   "execution_count": 3,
   "id": "28a15da3",
   "metadata": {
    "execution": {
     "iopub.execute_input": "2022-05-04T23:46:43.584287Z",
     "iopub.status.busy": "2022-05-04T23:46:43.582830Z",
     "iopub.status.idle": "2022-05-04T23:46:43.587554Z",
     "shell.execute_reply": "2022-05-04T23:46:43.586917Z"
    },
    "papermill": {
     "duration": 0.040014,
     "end_time": "2022-05-04T23:46:43.589194",
     "exception": false,
     "start_time": "2022-05-04T23:46:43.549180",
     "status": "completed"
    },
    "tags": []
   },
   "outputs": [],
   "source": [
    "#!mkdir config\n",
    "#!wget https://raw.githubusercontent.com/pytorch/fairseq/main/examples/wav2vec/config/finetuning/base_960h.yaml -O config/base_960h.yaml "
   ]
  },
  {
   "cell_type": "code",
   "execution_count": 4,
   "id": "2da484ca",
   "metadata": {
    "execution": {
     "iopub.execute_input": "2022-05-04T23:46:43.653136Z",
     "iopub.status.busy": "2022-05-04T23:46:43.652609Z",
     "iopub.status.idle": "2022-05-04T23:46:44.310698Z",
     "shell.execute_reply": "2022-05-04T23:46:44.309800Z"
    },
    "papermill": {
     "duration": 0.69218,
     "end_time": "2022-05-04T23:46:44.313026",
     "exception": false,
     "start_time": "2022-05-04T23:46:43.620846",
     "status": "completed"
    },
    "tags": []
   },
   "outputs": [],
   "source": [
    "!mkdir config"
   ]
  },
  {
   "cell_type": "code",
   "execution_count": 5,
   "id": "6c81dda8",
   "metadata": {
    "execution": {
     "iopub.execute_input": "2022-05-04T23:46:44.377974Z",
     "iopub.status.busy": "2022-05-04T23:46:44.377696Z",
     "iopub.status.idle": "2022-05-04T23:46:44.383922Z",
     "shell.execute_reply": "2022-05-04T23:46:44.383171Z"
    },
    "papermill": {
     "duration": 0.041737,
     "end_time": "2022-05-04T23:46:44.386806",
     "exception": false,
     "start_time": "2022-05-04T23:46:44.345069",
     "status": "completed"
    },
    "tags": []
   },
   "outputs": [
    {
     "name": "stdout",
     "output_type": "stream",
     "text": [
      "Writing config/base_960h.yaml\n"
     ]
    }
   ],
   "source": [
    "%%writefile config/base_960h.yaml\n",
    "common:\n",
    "  fp16: true\n",
    "  log_format: json\n",
    "  log_interval: 200\n",
    "\n",
    "checkpoint:\n",
    "  no_epoch_checkpoints: true\n",
    "  best_checkpoint_metric: wer\n",
    "  restore_file: wav2vec_small_960h.pt\n",
    "\n",
    "task:\n",
    "  _name: audio_finetuning\n",
    "  data: ???\n",
    "  normalize: false\n",
    "  labels: ltr\n",
    "\n",
    "dataset:\n",
    "  num_workers: 1\n",
    "  max_tokens: 3200000\n",
    "  skip_invalid_size_inputs_valid_test: true\n",
    "  valid_subset: dev_other\n",
    "\n",
    "distributed_training:\n",
    "  ddp_backend: legacy_ddp\n",
    "  distributed_world_size: 1\n",
    "\n",
    "criterion:\n",
    "  _name: ctc\n",
    "  zero_infinity: true\n",
    "\n",
    "optimization:\n",
    "  max_update: 360000\n",
    "  lr: [0.0001]\n",
    "  sentence_avg: true\n",
    "\n",
    "optimizer:\n",
    "  _name: adam\n",
    "  adam_betas: (0.9,0.98)\n",
    "  adam_eps: 1e-08\n",
    "\n",
    "lr_scheduler:\n",
    "  _name: tri_stage\n",
    "  phase_ratio: [0.1, 0.4, 0.5]\n",
    "  final_lr_scale: 0.05\n",
    "\n",
    "model:\n",
    "  _name: wav2vec_ctc\n",
    "  w2v_path: ???\n",
    "  apply_mask: true\n",
    "  mask_prob: 0.5\n",
    "  mask_channel_prob: 0.1\n",
    "  mask_channel_length: 64\n",
    "  layerdrop: 0.1\n",
    "  activation_dropout: 0.1\n",
    "  feature_grad_mult: 0.0\n",
    "  freeze_finetune_updates: 0"
   ]
  },
  {
   "cell_type": "code",
   "execution_count": 6,
   "id": "d53479b0",
   "metadata": {
    "execution": {
     "iopub.execute_input": "2022-05-04T23:46:44.454248Z",
     "iopub.status.busy": "2022-05-04T23:46:44.454015Z",
     "iopub.status.idle": "2022-05-04T23:46:45.243929Z",
     "shell.execute_reply": "2022-05-04T23:46:45.242954Z"
    },
    "papermill": {
     "duration": 0.826583,
     "end_time": "2022-05-04T23:46:45.246365",
     "exception": false,
     "start_time": "2022-05-04T23:46:44.419782",
     "status": "completed"
    },
    "tags": []
   },
   "outputs": [
    {
     "name": "stdout",
     "output_type": "stream",
     "text": [
      "/bin/bash: fairseq-hydra-train: command not found\r\n"
     ]
    }
   ],
   "source": [
    "!fairseq-hydra-train task.data=../input/create-ljspeech-splits/10mins/ model.w2v_path=wav2vec_small_960h.pt --config-dir config --config-name base_960h"
   ]
  }
 ],
 "metadata": {
  "kernelspec": {
   "display_name": "Python 3",
   "language": "python",
   "name": "python3"
  },
  "language_info": {
   "codemirror_mode": {
    "name": "ipython",
    "version": 3
   },
   "file_extension": ".py",
   "mimetype": "text/x-python",
   "name": "python",
   "nbconvert_exporter": "python",
   "pygments_lexer": "ipython3",
   "version": "3.7.12"
  },
  "papermill": {
   "default_parameters": {},
   "duration": 43.812214,
   "end_time": "2022-05-04T23:46:45.800826",
   "environment_variables": {},
   "exception": null,
   "input_path": "__notebook__.ipynb",
   "output_path": "__notebook__.ipynb",
   "parameters": {},
   "start_time": "2022-05-04T23:46:01.988612",
   "version": "2.3.4"
  }
 },
 "nbformat": 4,
 "nbformat_minor": 5
}
