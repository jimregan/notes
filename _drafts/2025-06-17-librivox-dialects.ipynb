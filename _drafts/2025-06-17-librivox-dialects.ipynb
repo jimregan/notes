{
 "cells": [
  {
   "cell_type": "markdown",
   "id": "d3532b4f",
   "metadata": {},
   "source": [
    "- [Celebration of Dialects and Accents, Vol 1](https://librivox.org/celebration-of-dialects-and-accents-vol-1/)\n",
    "- [Celebration of Dialects and Accents, Vol 2.](https://librivox.org/celebration-of-dialects-and-accents-vol-2-by-aesop/)\n"
   ]
  }
 ],
 "metadata": {
  "language_info": {
   "name": "python"
  }
 },
 "nbformat": 4,
 "nbformat_minor": 5
}
