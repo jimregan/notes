{
 "cells": [
  {
   "cell_type": "code",
   "execution_count": 2,
   "metadata": {},
   "outputs": [],
   "source": [
    "SAMPLE = \"\"\"\n",
    "{\n",
    "  \"1\": {\n",
    "    \"snippet\": \"Yes, I will try. Let's see here. So we have couch.\",\n",
    "    \"references\": [\n",
    "      {\n",
    "        \"ref_id\": 0,\n",
    "        \"phrase\": \"couch\",\n",
    "        \"resolved_ref\": \"Sofa_b5c02446\",\n",
    "        \"plurality\": \"single\",\n",
    "        \"original_label\": \"exact\",\n",
    "        \"object_id\": \"Sofa_b5c02446\",\n",
    "        \"phrase_start\": 15.892,\n",
    "        \"phrase_end\": 17.032\n",
    "      }\n",
    "    ],\n",
    "    \"start\": 10.192,\n",
    "    \"end\": 17.092000000000002,\n",
    "    \"high_level\": {\n",
    "      \"current_topic\": \"Sofa_b5c02446\",\n",
    "      \"topic_duration_id\": 0\n",
    "    }\n",
    "  }\n",
    "}\n",
    "\"\"\""
   ]
  },
  {
   "cell_type": "code",
   "execution_count": 3,
   "metadata": {},
   "outputs": [],
   "source": [
    "import json\n",
    "\n",
    "sample = json.loads(SAMPLE)"
   ]
  },
  {
   "cell_type": "code",
   "execution_count": 4,
   "metadata": {},
   "outputs": [],
   "source": [
    "from pathlib import Path\n",
    "\n",
    "JSONDIR = Path(\"/tmp/resolved_references_with_timings\")\n",
    "WAVDIR = Path(\"/tmp/audio_prompt_clips\")"
   ]
  },
  {
   "cell_type": "code",
   "execution_count": 8,
   "metadata": {},
   "outputs": [],
   "source": [
    "for wavfile in WAVDIR.glob(\"*.wav\"):\n",
    "    wavstem = wavfile.stem\n",
    "    parts = wavstem.split(\"_\")\n",
    "    orig_stem = \"_\".join(parts[:5])\n",
    "    jsonfile = JSONDIR / f\"{orig_stem}_with_timings.json\"\n",
    "    with open(jsonfile, \"r\") as f:\n",
    "        data = json.load(f)\n",
    "    phrase_id = parts[5]\n",
    "    orig_start = float(parts[6])\n",
    "    orig_end = float(parts[7])\n",
    "    text = data[phrase_id][\"snippet\"]\n",
    "    with open(WAVDIR / f\"{wavstem}.txt\", \"w\") as f:\n",
    "        f.write(text)\n"
   ]
  },
  {
   "cell_type": "code",
   "execution_count": null,
   "metadata": {},
   "outputs": [],
   "source": []
  }
 ],
 "metadata": {
  "kernelspec": {
   "display_name": "nst-tts",
   "language": "python",
   "name": "python3"
  },
  "language_info": {
   "codemirror_mode": {
    "name": "ipython",
    "version": 3
   },
   "file_extension": ".py",
   "mimetype": "text/x-python",
   "name": "python",
   "nbconvert_exporter": "python",
   "pygments_lexer": "ipython3",
   "version": "3.10.9"
  }
 },
 "nbformat": 4,
 "nbformat_minor": 2
}
