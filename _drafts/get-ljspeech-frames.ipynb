{
 "cells": [
  {
   "cell_type": "code",
   "execution_count": 1,
   "metadata": {},
   "outputs": [],
   "source": [
    "PATH = \"/home/joregan/ljspeech/LJSpeech-1.1/wav16\""
   ]
  },
  {
   "cell_type": "code",
   "execution_count": 2,
   "metadata": {},
   "outputs": [],
   "source": [
    "from pathlib import Path"
   ]
  },
  {
   "cell_type": "code",
   "execution_count": 3,
   "metadata": {},
   "outputs": [],
   "source": [
    "WAVPATH = Path(PATH)"
   ]
  },
  {
   "cell_type": "code",
   "execution_count": 4,
   "metadata": {},
   "outputs": [],
   "source": [
    "import soundfile as sf"
   ]
  },
  {
   "cell_type": "code",
   "execution_count": 5,
   "metadata": {},
   "outputs": [],
   "source": [
    "times = {}\n",
    "for wavfile in WAVPATH.glob(\"*.wav\"):\n",
    "    data, sr = sf.read(str(wavfile))\n",
    "    times[wavfile.stem] = len(data)"
   ]
  },
  {
   "cell_type": "code",
   "execution_count": 8,
   "metadata": {},
   "outputs": [],
   "source": [
    "with open(\"frames.tsv\", \"w\") as framef:\n",
    "    for key in times.keys():\n",
    "        framef.write(f\"{key}\\t{times[key]}\\n\")"
   ]
  },
  {
   "cell_type": "code",
   "execution_count": 9,
   "metadata": {},
   "outputs": [],
   "source": [
    "FRAMES_PER_MINUTE = 60 * 16000"
   ]
  },
  {
   "cell_type": "code",
   "execution_count": 13,
   "metadata": {},
   "outputs": [],
   "source": [
    "times_sorted = sorted(times.items(), key=lambda x: x[1], reverse=True)"
   ]
  },
  {
   "cell_type": "code",
   "execution_count": 17,
   "metadata": {},
   "outputs": [],
   "source": [
    "by_time = {}\n",
    "for t_item in times.items():\n",
    "    if t_item[1] not in by_time:\n",
    "        by_time[t_item[1]] = []\n",
    "    by_time[t_item[1]].append(t_item[0])\n"
   ]
  },
  {
   "cell_type": "code",
   "execution_count": 21,
   "metadata": {},
   "outputs": [],
   "source": [
    "vals = [v for v in times.values()]"
   ]
  },
  {
   "cell_type": "code",
   "execution_count": 27,
   "metadata": {},
   "outputs": [
    {
     "data": {
      "text/plain": [
       "9600000"
      ]
     },
     "execution_count": 27,
     "metadata": {},
     "output_type": "execute_result"
    }
   ],
   "source": [
    "16000 * 60 * 10"
   ]
  },
  {
   "cell_type": "code",
   "execution_count": 26,
   "metadata": {},
   "outputs": [
    {
     "name": "stdout",
     "output_type": "stream",
     "text": [
      "9464570\n",
      "cat: write error: Broken pipe\n"
     ]
    }
   ],
   "source": [
    "!cat frames.tsv |awk '{print $2}'|head -n 92 |awk 'BEGIN{total=0}{total+=$0}END{print total}'"
   ]
  },
  {
   "cell_type": "code",
   "execution_count": 25,
   "metadata": {},
   "outputs": [
    {
     "name": "stdout",
     "output_type": "stream",
     "text": [
      "LJ045-0202\t135347\n"
     ]
    }
   ],
   "source": [
    "!head -n $(( $(wc -l frames.tsv |awk '{print $1}') - 92 )) frames.tsv |awk 'BEGIN{max=135430;highest=0;id=\"\"}{if($2<=max && $2 > highest){highest=$2;id=$1;}}END{print id \"\\t\" highest}'"
   ]
  },
  {
   "cell_type": "code",
   "execution_count": 28,
   "metadata": {},
   "outputs": [
    {
     "name": "stdout",
     "output_type": "stream",
     "text": [
      "LJ007-0082\n",
      "LJ037-0215\n",
      "LJ044-0072\n",
      "LJ042-0052\n",
      "LJ016-0112\n",
      "LJ028-0416\n",
      "LJ007-0089\n",
      "LJ004-0037\n",
      "LJ005-0138\n",
      "LJ046-0124\n",
      "LJ037-0185\n",
      "LJ050-0099\n",
      "LJ024-0044\n",
      "LJ010-0142\n",
      "LJ023-0074\n",
      "LJ044-0138\n",
      "LJ015-0257\n",
      "LJ005-0021\n",
      "LJ050-0230\n",
      "LJ019-0020\n",
      "LJ038-0156\n",
      "LJ050-0026\n",
      "LJ007-0033\n",
      "LJ014-0215\n",
      "LJ043-0096\n",
      "LJ032-0156\n",
      "LJ050-0274\n",
      "LJ040-0052\n",
      "LJ042-0041\n",
      "LJ039-0243\n",
      "LJ014-0103\n",
      "LJ009-0044\n",
      "LJ046-0063\n",
      "LJ040-0239\n",
      "LJ025-0091\n",
      "LJ042-0111\n",
      "LJ017-0231\n",
      "LJ007-0004\n",
      "LJ010-0034\n",
      "LJ022-0041\n",
      "LJ039-0046\n",
      "LJ044-0153\n",
      "LJ025-0020\n",
      "LJ010-0186\n",
      "LJ028-0100\n",
      "LJ009-0052\n",
      "LJ021-0023\n",
      "LJ008-0047\n",
      "LJ017-0079\n",
      "LJ033-0021\n",
      "LJ041-0009\n",
      "LJ044-0023\n",
      "LJ019-0372\n",
      "LJ007-0055\n",
      "LJ039-0029\n",
      "LJ032-0248\n",
      "LJ022-0061\n",
      "LJ037-0194\n",
      "LJ046-0194\n",
      "LJ019-0041\n",
      "LJ012-0145\n",
      "LJ002-0248\n",
      "LJ003-0259\n",
      "LJ016-0351\n",
      "LJ037-0028\n",
      "LJ014-0015\n",
      "LJ019-0052\n",
      "LJ014-0004\n",
      "LJ048-0235\n",
      "LJ006-0095\n",
      "LJ025-0015\n",
      "LJ005-0152\n",
      "LJ006-0045\n",
      "LJ021-0131\n",
      "LJ007-0074\n",
      "LJ043-0079\n",
      "LJ016-0434\n",
      "LJ034-0214\n",
      "LJ046-0020\n",
      "LJ001-0108\n",
      "LJ046-0110\n",
      "LJ026-0105\n",
      "LJ017-0094\n",
      "LJ049-0133\n",
      "LJ032-0235\n",
      "LJ038-0118\n",
      "LJ037-0104\n",
      "LJ034-0054\n",
      "LJ049-0044\n",
      "LJ049-0019\n",
      "LJ042-0197\n",
      "LJ022-0190\n",
      "LJ045-0202\n"
     ]
    }
   ],
   "source": [
    "!head -n 92 frames.tsv |awk '{print $1}' >> 10min.ids\n",
    "!head -n $(( $(wc -l frames.tsv |awk '{print $1}') - 92 )) frames.tsv |awk 'BEGIN{max=135430;highest=0;id=\"\"}{if($2<=max && $2 > highest){highest=$2;id=$1;}}END{print id}' >> 10min.ids\n",
    "!cat 10min.ids"
   ]
  },
  {
   "cell_type": "code",
   "execution_count": 29,
   "metadata": {},
   "outputs": [
    {
     "data": {
      "text/plain": [
       "19200000"
      ]
     },
     "execution_count": 29,
     "metadata": {},
     "output_type": "execute_result"
    }
   ],
   "source": [
    "16000 * 60 * 20"
   ]
  },
  {
   "cell_type": "code",
   "execution_count": 8,
   "metadata": {},
   "outputs": [
    {
     "data": {
      "text/plain": [
       "28800000"
      ]
     },
     "execution_count": 8,
     "metadata": {},
     "output_type": "execute_result"
    }
   ],
   "source": [
    "16000 * 60 * 30"
   ]
  },
  {
   "cell_type": "code",
   "execution_count": 31,
   "metadata": {},
   "outputs": [
    {
     "name": "stdout",
     "output_type": "stream",
     "text": [
      "19094930\n",
      "cat: write error: Broken pipe\n"
     ]
    }
   ],
   "source": [
    "!cat frames.tsv |awk '{print $2}'|head -n 188 |awk 'BEGIN{total=0}{total+=$0}END{print total}'"
   ]
  },
  {
   "cell_type": "code",
   "execution_count": 32,
   "metadata": {},
   "outputs": [
    {
     "data": {
      "text/plain": [
       "105070"
      ]
     },
     "execution_count": 32,
     "metadata": {},
     "output_type": "execute_result"
    }
   ],
   "source": [
    "19200000 - 19094930"
   ]
  },
  {
   "cell_type": "code",
   "execution_count": 34,
   "metadata": {},
   "outputs": [
    {
     "name": "stdout",
     "output_type": "stream",
     "text": [
      "LJ028-0034\t105069\n"
     ]
    }
   ],
   "source": [
    "!head -n $(( $(wc -l frames.tsv |awk '{print $1}') - 188 )) frames.tsv |awk 'BEGIN{max=105070;highest=0;id=\"\"}{if($2<=max && $2 > highest){highest=$2;id=$1;}}END{print id \"\\t\" highest}'"
   ]
  },
  {
   "cell_type": "code",
   "execution_count": 1,
   "metadata": {},
   "outputs": [
    {
     "name": "stdout",
     "output_type": "stream",
     "text": [
      "  13100   26200  230274\n"
     ]
    }
   ],
   "source": [
    "!cat frames.tsv|wc"
   ]
  },
  {
   "cell_type": "code",
   "execution_count": 2,
   "metadata": {},
   "outputs": [],
   "source": [
    "!cat frames.tsv | tail -n $((1310 * 2)) | tail -n 1310 > dev.tsv"
   ]
  },
  {
   "cell_type": "code",
   "execution_count": 3,
   "metadata": {},
   "outputs": [],
   "source": [
    "!cat frames.tsv | tail -n $((1310 * 2)) | head -n 1310 > test.tsv"
   ]
  },
  {
   "cell_type": "code",
   "execution_count": 5,
   "metadata": {},
   "outputs": [],
   "source": [
    "!cat frames.tsv | head -n $((13100 - 2620)) > train.tsv"
   ]
  },
  {
   "cell_type": "code",
   "execution_count": 6,
   "metadata": {},
   "outputs": [
    {
     "name": "stdout",
     "output_type": "stream",
     "text": [
      "  1310 dev.tsv\n",
      "  1310 test.tsv\n",
      " 10480 train.tsv\n",
      " 13100 total\n"
     ]
    }
   ],
   "source": [
    "!wc -l dev.tsv test.tsv train.tsv"
   ]
  },
  {
   "cell_type": "code",
   "execution_count": 16,
   "metadata": {},
   "outputs": [
    {
     "name": "stdout",
     "output_type": "stream",
     "text": [
      "28771705\n",
      "cat: write error: Broken pipe\n"
     ]
    }
   ],
   "source": [
    "!cat train.tsv |awk '{print $2}'|head -n 274 |awk 'BEGIN{total=0}{total+=$0}END{print total}'"
   ]
  },
  {
   "cell_type": "code",
   "execution_count": 17,
   "metadata": {},
   "outputs": [
    {
     "data": {
      "text/plain": [
       "28295"
      ]
     },
     "execution_count": 17,
     "metadata": {},
     "output_type": "execute_result"
    }
   ],
   "source": [
    "28800000 - 28771705"
   ]
  },
  {
   "cell_type": "code",
   "execution_count": 18,
   "metadata": {},
   "outputs": [
    {
     "name": "stdout",
     "output_type": "stream",
     "text": [
      "LJ013-0231\t28164\n"
     ]
    }
   ],
   "source": [
    "!head -n $(( $(wc -l train.tsv |awk '{print $1}') - 274 )) train.tsv |awk 'BEGIN{max=28295;highest=0;id=\"\"}{if($2<=max && $2 > highest){highest=$2;id=$1;}}END{print id \"\\t\" highest}'"
   ]
  },
  {
   "cell_type": "code",
   "execution_count": 19,
   "metadata": {},
   "outputs": [
    {
     "name": "stdout",
     "output_type": "stream",
     "text": [
      "cat: write error: Broken pipe\n"
     ]
    }
   ],
   "source": [
    "!cat train.tsv |awk '{print $2}'|head -n 274 |awk '{print $1}' > 30min.ids\n",
    "!echo LJ013-0231 >> 30min.ids"
   ]
  },
  {
   "cell_type": "code",
   "execution_count": 20,
   "metadata": {},
   "outputs": [
    {
     "name": "stdout",
     "output_type": "stream",
     "text": [
      "275 30min.ids\n"
     ]
    }
   ],
   "source": [
    "!wc -l 30min.ids"
   ]
  },
  {
   "cell_type": "code",
   "execution_count": 22,
   "metadata": {},
   "outputs": [
    {
     "data": {
      "text/plain": [
       "38400000"
      ]
     },
     "execution_count": 22,
     "metadata": {},
     "output_type": "execute_result"
    }
   ],
   "source": [
    "16000 * 60 * 40"
   ]
  },
  {
   "cell_type": "code",
   "execution_count": 27,
   "metadata": {},
   "outputs": [
    {
     "name": "stdout",
     "output_type": "stream",
     "text": [
      "38357073\n",
      "cat: write error: Broken pipe\n"
     ]
    }
   ],
   "source": [
    "!cat train.tsv |awk '{print $2}'|head -n 368 |awk 'BEGIN{total=0}{total+=$0}END{print total}'"
   ]
  },
  {
   "cell_type": "code",
   "execution_count": 28,
   "metadata": {},
   "outputs": [
    {
     "data": {
      "text/plain": [
       "42927"
      ]
     },
     "execution_count": 28,
     "metadata": {},
     "output_type": "execute_result"
    }
   ],
   "source": [
    "38400000 - 38357073"
   ]
  },
  {
   "cell_type": "code",
   "execution_count": 29,
   "metadata": {},
   "outputs": [
    {
     "name": "stdout",
     "output_type": "stream",
     "text": [
      "LJ014-0240\t42839\n"
     ]
    }
   ],
   "source": [
    "!head -n $(( $(wc -l train.tsv |awk '{print $1}') - 368 )) train.tsv |awk 'BEGIN{max=42927;highest=0;id=\"\"}{if($2<=max && $2 > highest){highest=$2;id=$1;}}END{print id \"\\t\" highest}'"
   ]
  },
  {
   "cell_type": "code",
   "execution_count": 30,
   "metadata": {},
   "outputs": [
    {
     "name": "stdout",
     "output_type": "stream",
     "text": [
      "cat: write error: Broken pipe\n"
     ]
    }
   ],
   "source": [
    "!cat train.tsv |awk '{print $2}'|head -n 368 |awk '{print $1}' > 40min.ids\n",
    "!echo LJ014-0240 >> 40min.ids"
   ]
  },
  {
   "cell_type": "code",
   "execution_count": 31,
   "metadata": {},
   "outputs": [
    {
     "data": {
      "text/plain": [
       "48000000"
      ]
     },
     "execution_count": 31,
     "metadata": {},
     "output_type": "execute_result"
    }
   ],
   "source": [
    "16000 * 60 * 50"
   ]
  },
  {
   "cell_type": "code",
   "execution_count": 35,
   "metadata": {},
   "outputs": [
    {
     "name": "stdout",
     "output_type": "stream",
     "text": [
      "47917529\n",
      "cat: write error: Broken pipe\n"
     ]
    }
   ],
   "source": [
    "!cat train.tsv |awk '{print $2}'|head -n 457 |awk 'BEGIN{total=0}{total+=$0}END{print total}'"
   ]
  },
  {
   "cell_type": "code",
   "execution_count": 36,
   "metadata": {},
   "outputs": [
    {
     "data": {
      "text/plain": [
       "82471"
      ]
     },
     "execution_count": 36,
     "metadata": {},
     "output_type": "execute_result"
    }
   ],
   "source": [
    "48000000 - 47917529"
   ]
  },
  {
   "cell_type": "code",
   "execution_count": 37,
   "metadata": {},
   "outputs": [
    {
     "name": "stdout",
     "output_type": "stream",
     "text": [
      "LJ030-0181\t82406\n"
     ]
    }
   ],
   "source": [
    "!head -n $(( $(wc -l train.tsv |awk '{print $1}') - 457 )) train.tsv |awk 'BEGIN{max=82471;highest=0;id=\"\"}{if($2<=max && $2 > highest){highest=$2;id=$1;}}END{print id \"\\t\" highest}'"
   ]
  },
  {
   "cell_type": "code",
   "execution_count": 38,
   "metadata": {},
   "outputs": [
    {
     "name": "stdout",
     "output_type": "stream",
     "text": [
      "cat: write error: Broken pipe\n"
     ]
    }
   ],
   "source": [
    "!cat train.tsv |awk '{print $2}'|head -n 457 |awk '{print $1}' > 50min.ids\n",
    "!echo LJ030-0181 >> 50min.ids"
   ]
  },
  {
   "cell_type": "code",
   "execution_count": 39,
   "metadata": {},
   "outputs": [
    {
     "data": {
      "text/plain": [
       "57600000"
      ]
     },
     "execution_count": 39,
     "metadata": {},
     "output_type": "execute_result"
    }
   ],
   "source": [
    "16000 * 60 * 60"
   ]
  }
 ],
 "metadata": {
  "interpreter": {
   "hash": "5aaff6959852088ba68e3b74670bab30a036b45e314ed2af36f9a8ccbd21216c"
  },
  "kernelspec": {
   "display_name": "Python 3.8.13 ('fs2')",
   "language": "python",
   "name": "python3"
  },
  "language_info": {
   "codemirror_mode": {
    "name": "ipython",
    "version": 3
   },
   "file_extension": ".py",
   "mimetype": "text/x-python",
   "name": "python",
   "nbconvert_exporter": "python",
   "pygments_lexer": "ipython3",
   "version": "3.8.13"
  },
  "orig_nbformat": 4
 },
 "nbformat": 4,
 "nbformat_minor": 2
}
