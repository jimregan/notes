{
 "cells": [
  {
   "cell_type": "code",
   "execution_count": 1,
   "metadata": {},
   "outputs": [],
   "source": [
    "%%capture\n",
    "%pip install praatio"
   ]
  },
  {
   "cell_type": "code",
   "execution_count": 2,
   "metadata": {},
   "outputs": [],
   "source": [
    "from praatio import textgrid\n",
    "from praatio.utilities.constants import Interval"
   ]
  },
  {
   "cell_type": "code",
   "execution_count": 4,
   "metadata": {},
   "outputs": [],
   "source": [
    "sample = \"/tmp/hsi_5_0718_209_002_inter.tsv\""
   ]
  },
  {
   "cell_type": "code",
   "execution_count": 11,
   "metadata": {},
   "outputs": [],
   "source": [
    "out = []\n",
    "with open(sample) as inf:\n",
    "    for line in inf.readlines():\n",
    "        line = line.strip()\n",
    "        if line == \"\":\n",
    "            continue\n",
    "        if line == \"0.0\\t0.1\\t[-]\":\n",
    "            continue\n",
    "        parts = line.split(\"\\t\")\n",
    "        out.append(Interval(float(parts[0]), float(parts[1]), parts[2]))\n",
    "\n",
    "tier_start = out[0][0]\n",
    "tier_end = out[-1][1]\n",
    "\n",
    "tg = textgrid.Textgrid()\n",
    "word_tier = textgrid.IntervalTier('words', out, tier_start, tier_end)\n",
    "tg.addTier(word_tier)\n",
    "tg.save('/tmp/out.TextGrid', format=\"long_textgrid\", includeBlankSpaces=False)"
   ]
  }
 ],
 "metadata": {
  "kernelspec": {
   "display_name": "hf",
   "language": "python",
   "name": "python3"
  },
  "language_info": {
   "codemirror_mode": {
    "name": "ipython",
    "version": 3
   },
   "file_extension": ".py",
   "mimetype": "text/x-python",
   "name": "python",
   "nbconvert_exporter": "python",
   "pygments_lexer": "ipython3",
   "version": "3.9.15"
  }
 },
 "nbformat": 4,
 "nbformat_minor": 2
}
