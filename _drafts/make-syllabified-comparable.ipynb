{
 "cells": [
  {
   "cell_type": "code",
   "execution_count": 9,
   "metadata": {},
   "outputs": [],
   "source": [
    "INPUT = \"/Users/joregan/Playing/syllable-as-unit/notebooks/TIMIT.syllable.corpus\"\n",
    "OUTPUT = \"/Users/joregan/Playing/syllable-as-unit/notebooks/TIMIT.check\""
   ]
  },
  {
   "cell_type": "code",
   "execution_count": 5,
   "metadata": {},
   "outputs": [],
   "source": [
    "def reformat(line):\n",
    "    parts = line.split(\" \")\n",
    "    word = \"\".join([p.split(\"}\")[0].replace(\"|\", \"\") for p in parts])\n",
    "    phones = [p.split(\"}\")[1].replace(\"|\", \" \") for p in parts]\n",
    "    return (word, phones)"
   ]
  },
  {
   "cell_type": "code",
   "execution_count": 8,
   "metadata": {},
   "outputs": [],
   "source": [
    "assert reformat(\"-|k|n|a|c|k|s}n|ae1|k|s\") == (\"-knacks\", [\"n ae1 k s\"])"
   ]
  },
  {
   "cell_type": "code",
   "execution_count": 7,
   "metadata": {},
   "outputs": [
    {
     "name": "stdout",
     "output_type": "stream",
     "text": [
      "('-knacks', ['n ae1 k s'])\n"
     ]
    }
   ],
   "source": [
    "print(reformat(\"-|k|n|a|c|k|s}n|ae1|k|s\"))"
   ]
  },
  {
   "cell_type": "code",
   "execution_count": 12,
   "metadata": {},
   "outputs": [],
   "source": [
    "def clean_phone_text(text):\n",
    "    text = text.replace(\" _ \", \" \")\n",
    "    if text.startswith(\"_ \"):\n",
    "        text = text[2:]\n",
    "    if text.endswith(\" _\"):\n",
    "        text = text[:-2]\n",
    "    text = text.replace(\"1\", \"\")\n",
    "    text = text.replace(\"2\", \"\")\n",
    "    return text"
   ]
  },
  {
   "cell_type": "code",
   "execution_count": 14,
   "metadata": {},
   "outputs": [],
   "source": [
    "with open(INPUT) as inf, open(OUTPUT, \"w\") as outf:\n",
    "    for line in inf.readlines():\n",
    "        if line.strip() != \"\":\n",
    "            (word, phones) = reformat(line.strip())\n",
    "            phonetxt = clean_phone_text(\"  -  \".join(phones))\n",
    "            outf.write(f'{word}   {phonetxt}\\n')"
   ]
  }
 ],
 "metadata": {
  "kernelspec": {
   "display_name": "Python 3.10.4 ('ctcseg')",
   "language": "python",
   "name": "python3"
  },
  "language_info": {
   "codemirror_mode": {
    "name": "ipython",
    "version": 3
   },
   "file_extension": ".py",
   "mimetype": "text/x-python",
   "name": "python",
   "nbconvert_exporter": "python",
   "pygments_lexer": "ipython3",
   "version": "3.10.4"
  },
  "orig_nbformat": 4,
  "vscode": {
   "interpreter": {
    "hash": "04f1aebeda7ca92f6170d2806fa3f3c0cbb14da723fd908a9af630117dfe1004"
   }
  }
 },
 "nbformat": 4,
 "nbformat_minor": 2
}
