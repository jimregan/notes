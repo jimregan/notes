{
 "cells": [
  {
   "cell_type": "code",
   "execution_count": 3,
   "metadata": {},
   "outputs": [],
   "source": [
    "from pathlib import Path"
   ]
  },
  {
   "cell_type": "code",
   "execution_count": 4,
   "metadata": {},
   "outputs": [],
   "source": [
    "BASE=\"/tmp/foobar\""
   ]
  },
  {
   "cell_type": "code",
   "execution_count": 16,
   "metadata": {},
   "outputs": [],
   "source": [
    "extension = \"pth\"\n",
    "best_name = \"best_model\"\n",
    "best_tpl = \"best_model_\"\n",
    "ckpt_tpl = \"checkpoint_\""
   ]
  },
  {
   "cell_type": "code",
   "execution_count": 30,
   "metadata": {},
   "outputs": [],
   "source": [
    "repo_id = \"jimregan/ckpt_test\""
   ]
  },
  {
   "cell_type": "code",
   "execution_count": 8,
   "metadata": {},
   "outputs": [],
   "source": [
    "BASE_PATH = Path(BASE)"
   ]
  },
  {
   "cell_type": "code",
   "execution_count": 1,
   "metadata": {},
   "outputs": [
    {
     "name": "stderr",
     "output_type": "stream",
     "text": [
      "/Users/joregan/opt/anaconda3/envs/hf/lib/python3.9/site-packages/tqdm/auto.py:22: TqdmWarning: IProgress not found. Please update jupyter and ipywidgets. See https://ipywidgets.readthedocs.io/en/stable/user_install.html\n",
      "  from .autonotebook import tqdm as notebook_tqdm\n"
     ]
    }
   ],
   "source": [
    "from huggingface_hub import HfApi"
   ]
  },
  {
   "cell_type": "code",
   "execution_count": 29,
   "metadata": {},
   "outputs": [],
   "source": [
    "api = HfApi()"
   ]
  },
  {
   "cell_type": "code",
   "execution_count": 38,
   "metadata": {},
   "outputs": [
    {
     "data": {
      "text/plain": [
       "'https://huggingface.co/jimregan/ckpt_test'"
      ]
     },
     "execution_count": 38,
     "metadata": {},
     "output_type": "execute_result"
    }
   ],
   "source": [
    "api.create_repo(repo_id=repo_id)\n",
    "#api.run_as_future(api.create_repo, repo_id)"
   ]
  },
  {
   "cell_type": "code",
   "execution_count": 18,
   "metadata": {},
   "outputs": [],
   "source": [
    "def get_ckpt_num(ckpt_path: Path, best=False):\n",
    "    if best:\n",
    "        tpl = best_tpl\n",
    "    else:\n",
    "        tpl = ckpt_tpl\n",
    "    stem = ckpt_path.stem\n",
    "    if not stem.startswith(tpl):\n",
    "        return None\n",
    "    return int(stem.replace(tpl, \"\"))"
   ]
  },
  {
   "cell_type": "code",
   "execution_count": 9,
   "metadata": {},
   "outputs": [],
   "source": [
    "ckpts_by_numbers = {get_ckpt_num(x): x for x in BASE_PATH.glob(f'{ckpt_tpl}*.{extension}')}"
   ]
  },
  {
   "cell_type": "code",
   "execution_count": 12,
   "metadata": {},
   "outputs": [],
   "source": [
    "ckpts_ordered = sorted(ckpts_by_numbers.keys())"
   ]
  },
  {
   "cell_type": "code",
   "execution_count": 19,
   "metadata": {},
   "outputs": [],
   "source": [
    "best_ordered = sorted([get_ckpt_num(x, True) for x in BASE_PATH.glob(f'{best_tpl}*.{extension}')])"
   ]
  },
  {
   "cell_type": "code",
   "execution_count": 20,
   "metadata": {},
   "outputs": [
    {
     "data": {
      "text/plain": [
       "[9800, 28852, 64434, 64867, 65300]"
      ]
     },
     "execution_count": 20,
     "metadata": {},
     "output_type": "execute_result"
    }
   ],
   "source": [
    "best_ordered"
   ]
  },
  {
   "cell_type": "code",
   "execution_count": 23,
   "metadata": {},
   "outputs": [],
   "source": [
    "def find_next_ckpt(best):\n",
    "    for ckpt in ckpts_ordered:\n",
    "        if ckpt < best:\n",
    "            continue\n",
    "        else:\n",
    "            return ckpt\n",
    "\n",
    "ckpt_to_best = {find_next_ckpt(b): b for b in best_ordered}"
   ]
  },
  {
   "cell_type": "code",
   "execution_count": 24,
   "metadata": {},
   "outputs": [
    {
     "data": {
      "text/plain": [
       "{10000: 9800, 29000: 28852, 64500: 64434, 65000: 64867, 65500: 65300}"
      ]
     },
     "execution_count": 24,
     "metadata": {},
     "output_type": "execute_result"
    }
   ],
   "source": [
    "ckpt_to_best"
   ]
  },
  {
   "cell_type": "code",
   "execution_count": 27,
   "metadata": {},
   "outputs": [],
   "source": [
    "from huggingface_hub import CommitOperationAdd"
   ]
  },
  {
   "cell_type": "code",
   "execution_count": null,
   "metadata": {},
   "outputs": [],
   "source": [
    "ops = []\n",
    "tfevents = []\n",
    "for filepath in BASE_PATH.glob(\"*\"):\n",
    "    if filepath.stem.startswith(ckpt_tpl) or filepath.stem.startswith(best_name):\n",
    "        continue\n",
    "    elif \"tfevents\" in filepath.name:\n",
    "        ops.append(CommitOperationAdd(path_in_repo=f\"runs/{filepath.name}\", path_or_fileobj=str(filepath)))\n",
    "    else:\n",
    "        ops.append(CommitOperationAdd(path_in_repo=filepath.name, path_or_fileobj=str(filepath)))\n",
    "\n",
    "api.create_commit(\n",
    "    repo_id=repo_id,\n",
    "    operations=ops,\n",
    "    commit_message=\"Initial commit of files other than checkpoints\"\n",
    ")\n",
    "if tfevents != []:\n",
    "    api.create_commit(\n",
    "        repo_id=repo_id,\n",
    "        operations=tfevents,\n",
    "        commit_message=\"Adding tfevents\"\n",
    "    )\n"
   ]
  },
  {
   "cell_type": "code",
   "execution_count": null,
   "metadata": {},
   "outputs": [],
   "source": [
    "for ckpt in ckpts_ordered:\n",
    "    if ckpt in ckpt_to_best:\n",
    "        filepath = BASE_PATH / f\"{best_tpl}{ckpt_to_best[ckpt]}.{extension}\"\n",
    "        api.create_commit(\n",
    "            repo_id=repo_id,\n",
    "            operations=[CommitOperationAdd(path_in_repo=f\"{best_name}.{extension}\", path_or_fileobj=str(filepath))],\n",
    "            commit_message=f\"Best model: {ckpt_to_best[ckpt]}\"\n",
    "        )\n",
    "\n",
    "    filepath = BASE_PATH / f\"{ckpt_tpl}{ckpt}.{extension}\"\n",
    "    api.create_commit(\n",
    "        repo_id=repo_id,\n",
    "        operations=[CommitOperationAdd(path_in_repo=f\"checkpoint.{extension}\", path_or_fileobj=str(filepath))],\n",
    "        commit_message=f\"Checkpoint: {ckpt}\"\n",
    "    )"
   ]
  }
 ],
 "metadata": {
  "kernelspec": {
   "display_name": "ctcseg",
   "language": "python",
   "name": "python3"
  },
  "language_info": {
   "codemirror_mode": {
    "name": "ipython",
    "version": 3
   },
   "file_extension": ".py",
   "mimetype": "text/x-python",
   "name": "python",
   "nbconvert_exporter": "python",
   "pygments_lexer": "ipython3",
   "version": "3.9.15"
  }
 },
 "nbformat": 4,
 "nbformat_minor": 2
}
