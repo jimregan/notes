{
 "cells": [
  {
   "cell_type": "code",
   "execution_count": 1,
   "metadata": {},
   "outputs": [],
   "source": [
    "from pathlib import Path"
   ]
  },
  {
   "cell_type": "code",
   "execution_count": 2,
   "metadata": {},
   "outputs": [],
   "source": [
    "BASE=\"/tmp/foobar\""
   ]
  },
  {
   "cell_type": "code",
   "execution_count": null,
   "metadata": {},
   "outputs": [],
   "source": [
    "class CheckpointHF():\n",
    "    def __init__(self, path, checkpoint_template = \"checkpoint_\", extension = \"pth\", best_name = \"best_model\", best_template = \"best_model_\") -> None:\n",
    "        self._set_path(path)\n",
    "        self.checkpoint_template = checkpoint_template\n",
    "        self.extension = extension\n",
    "        self.best_name = best_name\n",
    "        self.best_template = best_template\n",
    "\n",
    "    def _set_path(self, path):\n",
    "        if type(path) == str:\n",
    "            self.path = Path(path)\n",
    "        elif type(path) == Path:\n",
    "            self.path = path\n",
    "        else:\n",
    "            raise ValueError(\"parameter `path' should be a Path object or string\")\n",
    "\n",
    "    def _check_for_checkpoints(self, single=True):\n",
    "        if single:\n",
    "            search_tpl = f'*.{self.extension}'\n",
    "        else:\n",
    "            search_tpl = f'**/*.{self.extension}'\n",
    "        checkpoints = [f for f in self.base.glob(search_tpl)]\n",
    "        \n"
   ]
  },
  {
   "cell_type": "code",
   "execution_count": null,
   "metadata": {},
   "outputs": [],
   "source": []
  }
 ],
 "metadata": {
  "kernelspec": {
   "display_name": "ctcseg",
   "language": "python",
   "name": "python3"
  },
  "language_info": {
   "codemirror_mode": {
    "name": "ipython",
    "version": 3
   },
   "file_extension": ".py",
   "mimetype": "text/x-python",
   "name": "python",
   "nbconvert_exporter": "python",
   "pygments_lexer": "ipython3",
   "version": "3.10.4"
  }
 },
 "nbformat": 4,
 "nbformat_minor": 2
}
