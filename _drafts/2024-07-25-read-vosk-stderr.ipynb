{
 "cells": [
  {
   "cell_type": "code",
   "execution_count": 46,
   "metadata": {},
   "outputs": [],
   "source": [
    "EG = \"/Users/joregan/hsi-vosk/hsi_1_0515_209_001_inter.wav.vosk\"\n",
    "DIR = \"/Users/joregan/hsi-vosk/\"\n",
    "CTMDIR = \"/Users/joregan/hsi-vosk/ctm\""
   ]
  },
  {
   "cell_type": "code",
   "execution_count": 43,
   "metadata": {},
   "outputs": [],
   "source": [
    "from pathlib import Path"
   ]
  },
  {
   "cell_type": "code",
   "execution_count": 25,
   "metadata": {},
   "outputs": [],
   "source": [
    "def get_recognition(filename):\n",
    "    segments = []\n",
    "    with open(filename) as inf:\n",
    "        for line in inf.readlines():\n",
    "            if line.startswith(\"INFO:root:{'result':\"):\n",
    "                text = line.strip()[10:]\n",
    "                data = eval(text)\n",
    "                segments.append(data)\n",
    "    return segments"
   ]
  },
  {
   "cell_type": "code",
   "execution_count": 28,
   "metadata": {},
   "outputs": [],
   "source": [
    "recs = get_recognition(EG)"
   ]
  },
  {
   "cell_type": "code",
   "execution_count": 31,
   "metadata": {},
   "outputs": [
    {
     "name": "stdout",
     "output_type": "stream",
     "text": [
      "[{'conf': 1.0, 'end': 1.11, 'start': 0.9, 'word': 'for'}, {'conf': 1.0, 'end': 1.41, 'start': 1.17, 'word': 'sure'}]\n"
     ]
    }
   ],
   "source": [
    "print(recs[0]['result'])"
   ]
  },
  {
   "cell_type": "code",
   "execution_count": 51,
   "metadata": {},
   "outputs": [],
   "source": [
    "def clean_filename(filename):\n",
    "    if type(filename) == str:\n",
    "        filename = Path(filename).stem\n",
    "    elif type(filename) == Path:\n",
    "        filename = filename.stem\n",
    "    if filename.endswith(\".wav\"):\n",
    "        filename = filename[:-4]\n",
    "    return filename"
   ]
  },
  {
   "cell_type": "code",
   "execution_count": 52,
   "metadata": {},
   "outputs": [],
   "source": [
    "def kaldi_word_to_ctm_line(word, filename):\n",
    "    # AJJacobs_2007P-0001605-0003029 1 0 0.09 <eps> 1.0\n",
    "    filename = clean_filename(filename)\n",
    "    # channel is always 1\n",
    "    parts = [filename, \"1\"]\n",
    "    assert \"start\" in word\n",
    "    parts.append(str(word[\"start\"]))\n",
    "    assert \"end\" in word\n",
    "    parts.append(str(word[\"end\"]))\n",
    "    assert \"word\" in word\n",
    "    parts.append(word[\"word\"])\n",
    "    assert \"conf\" in word\n",
    "    parts.append(str(word[\"conf\"]))\n",
    "\n",
    "    return \" \".join(parts)"
   ]
  },
  {
   "cell_type": "code",
   "execution_count": 54,
   "metadata": {},
   "outputs": [],
   "source": [
    "CTMPATH = Path(CTMDIR)\n",
    "if not CTMPATH.is_dir():\n",
    "    CTMPATH.mkdir()\n",
    "\n",
    "for file in Path(DIR).glob(\"*.vosk\"):\n",
    "    recs = get_recognition(str(file))\n",
    "\n",
    "    ctmlines = []\n",
    "    for rec in recs:\n",
    "        res = rec[\"result\"]\n",
    "        ctmlines += [kaldi_word_to_ctm_line(x, EG) for x in res]\n",
    "    outfile = clean_filename(str(file)) + \".ctm\"\n",
    "    outpath = CTMPATH / outfile\n",
    "    with open(str(outpath), \"w\") as of:\n",
    "        of.write(\"\\n\".join(ctmlines))"
   ]
  }
 ],
 "metadata": {
  "kernelspec": {
   "display_name": "hf",
   "language": "python",
   "name": "python3"
  },
  "language_info": {
   "codemirror_mode": {
    "name": "ipython",
    "version": 3
   },
   "file_extension": ".py",
   "mimetype": "text/x-python",
   "name": "python",
   "nbconvert_exporter": "python",
   "pygments_lexer": "ipython3",
   "version": "3.9.15"
  }
 },
 "nbformat": 4,
 "nbformat_minor": 2
}
