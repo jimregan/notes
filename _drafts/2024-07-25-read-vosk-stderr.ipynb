{
 "cells": [
  {
   "cell_type": "markdown",
   "metadata": {},
   "source": [
    "# Vosk CLI stderr output to CTM\n",
    "\n",
    "> \"Because it was quicker than looking at the API examples\"\n",
    "\n",
    "- branch: master\n",
    "- comments: false\n",
    "- categories: [vosk, ctm, kludge]"
   ]
  },
  {
   "cell_type": "code",
   "execution_count": 23,
   "metadata": {
    "tags": [
     "parameters"
    ]
   },
   "outputs": [],
   "source": [
    "VOSKDIR = \"/Users/joregan/hsi-vosk/\"\n",
    "GOOGDIR = \"/Users/joregan/Playing/hsi_google/\""
   ]
  },
  {
   "cell_type": "code",
   "execution_count": 24,
   "metadata": {},
   "outputs": [],
   "source": [
    "from pathlib import Path\n",
    "\n",
    "vosk_path = Path(VOSKDIR)\n",
    "goog_path = Path(GOOGDIR)"
   ]
  },
  {
   "cell_type": "code",
   "execution_count": 5,
   "metadata": {},
   "outputs": [],
   "source": [
    "def get_recognition(filename):\n",
    "    segments = []\n",
    "    with open(filename) as inf:\n",
    "        for line in inf.readlines():\n",
    "            if line.startswith(\"INFO:root:{'result':\"):\n",
    "                text = line.strip()[10:]\n",
    "                data = eval(text)\n",
    "                segments.append(data)\n",
    "    return segments"
   ]
  },
  {
   "cell_type": "code",
   "execution_count": 1,
   "metadata": {},
   "outputs": [],
   "source": [
    "def clean_filename(filename):\n",
    "    if type(filename) == str:\n",
    "        filename = Path(filename).stem\n",
    "    elif type(filename) == Path:\n",
    "        filename = filename.stem\n",
    "    return filename"
   ]
  },
  {
   "cell_type": "code",
   "execution_count": 46,
   "metadata": {},
   "outputs": [],
   "source": [
    "from dataclasses import dataclass, field\n",
    "\n",
    "def times_ap_eq(a, b, fudge=0.2):\n",
    "    diff = a - b\n",
    "    return abs(diff) < fudge\n",
    "\n",
    "def norm_str_eq(a, b, punct=\"!.,;:?\"):\n",
    "    norm_a = a.strip(punct).lower()\n",
    "    norm_b = b.strip(punct).lower()\n",
    "    return norm_a == norm_b\n",
    "\n",
    "\n",
    "@dataclass(frozen=True)\n",
    "class TimedWord:\n",
    "    text: str = field(compare=True)\n",
    "    start: float = field(compare=True)\n",
    "    end: float = field(compare=True)\n",
    "\n",
    "    def __lt__(self, o):\n",
    "        return self.start < o.start\n",
    "    \n",
    "    def __gt__(self, o):\n",
    "        return self.end > o.end\n",
    "\n",
    "    def __eq__(self, o):\n",
    "        t = norm_str_eq(self.text, o.text)\n",
    "        s = times_ap_eq(self.start, o.start)\n",
    "        e = times_ap_eq(self.end, o.end)\n",
    "        return t and s and e\n"
   ]
  },
  {
   "cell_type": "code",
   "execution_count": 17,
   "metadata": {},
   "outputs": [],
   "source": [
    "def get_arrayrefs_from_vosk(rec):\n",
    "    pointers = {}\n",
    "    for c, data in enumerate(rec):\n",
    "        for w in data[\"result\"]:\n",
    "            tw = TimedWord(w[\"word\"], w[\"start\"], w[\"end\"])\n",
    "            pointers[tw] = c\n",
    "    return pointers"
   ]
  },
  {
   "cell_type": "code",
   "execution_count": 37,
   "metadata": {},
   "outputs": [],
   "source": [
    "def get_arrayrefs_from_google(data):\n",
    "    c = 0\n",
    "    pointers = {}\n",
    "    for result in data[\"results\"]:\n",
    "        if not \"alternatives\" in result:\n",
    "            continue\n",
    "        if not len(result[\"alternatives\"]) == 1:\n",
    "            continue\n",
    "        if not \"words\" in result[\"alternatives\"][0]:\n",
    "            continue\n",
    "        for w in result[\"alternatives\"][0][\"words\"]:\n",
    "            start = w[\"startTime\"]\n",
    "            end = w[\"endTime\"]\n",
    "            if start.endswith(\"s\"):\n",
    "                start = start[:-1]\n",
    "            start = float(start)\n",
    "            if end.endswith(\"s\"):\n",
    "                end = end[:-1]\n",
    "            end = float(end)\n",
    "            tw = TimedWord(w[\"word\"], start, end)\n",
    "            pointers[tw] = c\n",
    "        c += 1\n",
    "    return pointers"
   ]
  },
  {
   "cell_type": "code",
   "execution_count": 25,
   "metadata": {},
   "outputs": [],
   "source": [
    "import json\n",
    "\n",
    "for vosk_file in vosk_path.glob(\"*.vosk\"):\n",
    "    stem = clean_filename(vosk_file)\n",
    "    goog_file = goog_path / f\"{stem}.json\"\n",
    "    if not goog_file.exists():\n",
    "        continue\n",
    "    with open(str(goog_file)) as googf:\n",
    "        goog_data = json.load(googf)\n",
    "        goog_refs = get_arrayrefs_from_google(goog_data)\n",
    "        vosk_data = get_recognition(vosk_file)\n",
    "        vosk_refs = get_arrayrefs_from_vosk(vosk_data)"
   ]
  },
  {
   "cell_type": "code",
   "execution_count": 38,
   "metadata": {},
   "outputs": [],
   "source": [
    "vosk_sample = \"/Users/joregan/hsi-vosk/hsi_5_0718_210_002_main.wav.vosk\"\n",
    "goog_sample = \"/Users/joregan/Playing/hsi_google/hsi_5_0718_210_002_main.json\"\n",
    "with open(goog_sample) as googf:\n",
    "    goog_data = json.load(googf)\n",
    "goog_refs = get_arrayrefs_from_google(goog_data)\n",
    "vosk_data = get_recognition(vosk_sample)\n",
    "vosk_refs = get_arrayrefs_from_vosk(vosk_data)\n"
   ]
  },
  {
   "cell_type": "code",
   "execution_count": 47,
   "metadata": {},
   "outputs": [],
   "source": [
    "a = TimedWord(text='strange', start=4.17, end=4.89)\n",
    "b = TimedWord(text='Strange.', start=4.2, end=4.8)"
   ]
  },
  {
   "cell_type": "code",
   "execution_count": 49,
   "metadata": {},
   "outputs": [],
   "source": [
    "from difflib import SequenceMatcher\n",
    "\n",
    "s = SequenceMatcher(None, goog_refs, vosk_refs)"
   ]
  }
 ],
 "metadata": {
  "kernelspec": {
   "display_name": "hf",
   "language": "python",
   "name": "python3"
  },
  "language_info": {
   "codemirror_mode": {
    "name": "ipython",
    "version": 3
   },
   "file_extension": ".py",
   "mimetype": "text/x-python",
   "name": "python",
   "nbconvert_exporter": "python",
   "pygments_lexer": "ipython3",
   "version": "3.9.15"
  }
 },
 "nbformat": 4,
 "nbformat_minor": 2
}
