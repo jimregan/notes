{
  "nbformat": 4,
  "nbformat_minor": 0,
  "metadata": {
    "colab": {
      "name": "Train spacy IDT.ipynb",
      "provenance": []
    },
    "kernelspec": {
      "name": "python3",
      "display_name": "Python 3"
    },
    "accelerator": "GPU"
  },
  "cells": [
    {
      "cell_type": "markdown",
      "metadata": {
        "id": "HXyZmjveMocr"
      },
      "source": [
        "# \"Training spaCy 3 on IDT\"\n",
        "> \"Not going well so far\"\n",
        "\n",
        "- toc: false\n",
        "- branch: master\n",
        "- comments: true\n",
        "- categories: [spacy, idt]\n"
      ]
    },
    {
      "cell_type": "code",
      "metadata": {
        "id": "9blVYqNcObhq"
      },
      "source": [
        "%%capture\n",
        "!pip install -U pip setuptools wheel\n",
        "!pip install thinc --pre\n",
        "!pip install -U spacy-lookups-data\n",
        "!pip install -U datasets floret"
      ],
      "execution_count": 1,
      "outputs": []
    },
    {
      "cell_type": "code",
      "metadata": {
        "id": "pVXJ4JIiU7pD"
      },
      "source": [
        "%%capture\n",
        "!pip install -U spacy spacy-lookups-data"
      ],
      "execution_count": 2,
      "outputs": []
    },
    {
      "cell_type": "code",
      "metadata": {
        "colab": {
          "base_uri": "https://localhost:8080/"
        },
        "id": "-nt5uNR8Wsij",
        "outputId": "aaca838a-666c-4d26-a3df-b07ff9f8fd8b"
      },
      "source": [
        "!pip uninstall spacy\n"
      ],
      "execution_count": 3,
      "outputs": [
        {
          "output_type": "stream",
          "name": "stdout",
          "text": [
            "Found existing installation: spacy 3.2.0\n",
            "Uninstalling spacy-3.2.0:\n",
            "  Would remove:\n",
            "    /usr/local/bin/spacy\n",
            "    /usr/local/lib/python3.7/dist-packages/spacy-3.2.0.dist-info/*\n",
            "    /usr/local/lib/python3.7/dist-packages/spacy/*\n",
            "Proceed (Y/n)? Y\n",
            "  Successfully uninstalled spacy-3.2.0\n",
            "\u001b[33mWARNING: Running pip as the 'root' user can result in broken permissions and conflicting behaviour with the system package manager. It is recommended to use a virtual environment instead: https://pip.pypa.io/warnings/venv\u001b[0m\n"
          ]
        }
      ]
    },
    {
      "cell_type": "code",
      "metadata": {
        "id": "pQ47IeMfSMSo"
      },
      "source": [
        "#!pip install -U Cython numpy\n",
        "!pip install --verbose -U git+https://github.com/jimregan/spaCy@patch-2"
      ],
      "execution_count": null,
      "outputs": []
    },
    {
      "cell_type": "code",
      "metadata": {
        "colab": {
          "base_uri": "https://localhost:8080/"
        },
        "id": "tH27c_5MCuri",
        "outputId": "94b08963-d79f-4481-f590-df83651867c8"
      },
      "source": [
        "!python -m spacy project clone pipelines/tagger_parser_ud"
      ],
      "execution_count": 5,
      "outputs": [
        {
          "output_type": "stream",
          "name": "stdout",
          "text": [
            "\u001b[38;5;2m✔ Cloned 'pipelines/tagger_parser_ud' from explosion/projects\u001b[0m\n",
            "/content/tagger_parser_ud\n",
            "\u001b[38;5;2m✔ Your project is now ready!\u001b[0m\n",
            "To fetch the assets, run:\n",
            "python -m spacy project assets /content/tagger_parser_ud\n"
          ]
        }
      ]
    },
    {
      "cell_type": "code",
      "metadata": {
        "colab": {
          "base_uri": "https://localhost:8080/"
        },
        "id": "4ryAtsK5DZeP",
        "outputId": "57acfb0c-84e1-4ecb-d8dd-2d6d061e1af7"
      },
      "source": [
        "%%writefile tagger_parser_ud/project.yml\n",
        "title: \"Part-of-speech Tagging & Dependency Parsing (Universal Dependencies)\"\n",
        "description: \"This project template lets you train a part-of-speech tagger, morphologizer and dependency parser from a [Universal Dependencies](https://universaldependencies.org/) corpus. It takes care of downloading the treebank, converting it to spaCy's format and training and evaluating the model. The template uses the [`UD_English-EWT`](https://github.com/UniversalDependencies/UD_English-EWT) treebank by default, but you can swap it out for any other available treebank. Just make sure to adjust the `lang` and treebank settings in the variables below. Use `xx` for multi-language if no language-specific tokenizer is available in spaCy. Note that multi-word tokens will be merged together when the corpus is converted since spaCy does not support multi-word token expansion.\"\n",
        "\n",
        "# Variables can be referenced across the project.yml using ${vars.var_name}\n",
        "vars:\n",
        "  config: \"default\"\n",
        "  lang: \"ga\"\n",
        "  treebank: \"UD_Irish-IDT\"\n",
        "  train_name: \"ga_idt-ud-train\"\n",
        "  dev_name: \"ga_idt-ud-dev\"\n",
        "  test_name: \"ga_idt-ud-test\"\n",
        "  package_name: \"ud_ga_idt\"\n",
        "  package_version: \"0.0.0\"\n",
        "  gpu: -1\n",
        "\n",
        "# These are the directories that the project needs. The project CLI will make\n",
        "# sure that they always exist.\n",
        "directories: [\"assets\", \"corpus\", \"training\", \"metrics\", \"configs\", \"packages\"]\n",
        "\n",
        "assets:\n",
        "  - url: \"https://dl.fbaipublicfiles.com/fasttext/vectors-crawl/cc.ga.300.vec.gz\"\n",
        "    dest: \"assets/vectors.vec.gz\"\n",
        "    description: \"FastText vectors\"\n",
        "  - dest: \"assets/${vars.treebank}\"\n",
        "    git:\n",
        "      repo: \"https://github.com/UniversalDependencies/${vars.treebank}\"\n",
        "      branch: \"master\"\n",
        "      path: \"\"\n",
        "\n",
        "workflows:\n",
        "  all:\n",
        "    - preprocess\n",
        "    - vectors\n",
        "    - train\n",
        "    - evaluate\n",
        "    - package\n",
        "\n",
        "commands:\n",
        "  - name: preprocess\n",
        "    help: \"Convert the data to spaCy's format\"\n",
        "    script:\n",
        "      - \"mkdir -p corpus/${vars.treebank}\"\n",
        "      - \"python -m spacy convert assets/${vars.treebank}/${vars.train_name}.conllu corpus/${vars.treebank}/ --converter conllu --n-sents 10 --merge-subtokens --morphology\"\n",
        "      - \"python -m spacy convert assets/${vars.treebank}/${vars.dev_name}.conllu corpus/${vars.treebank}/ --converter conllu --n-sents 10 --merge-subtokens --morphology\"\n",
        "      - \"python -m spacy convert assets/${vars.treebank}/${vars.test_name}.conllu corpus/${vars.treebank}/ --converter conllu --n-sents 10 --merge-subtokens --morphology\"\n",
        "      - \"mv corpus/${vars.treebank}/${vars.train_name}.spacy corpus/${vars.treebank}/train.spacy\"\n",
        "      - \"mv corpus/${vars.treebank}/${vars.dev_name}.spacy corpus/${vars.treebank}/dev.spacy\"\n",
        "      - \"mv corpus/${vars.treebank}/${vars.test_name}.spacy corpus/${vars.treebank}/test.spacy\"\n",
        "    deps:\n",
        "      - \"assets/${vars.treebank}/${vars.train_name}.conllu\"\n",
        "      - \"assets/${vars.treebank}/${vars.dev_name}.conllu\"\n",
        "      - \"assets/${vars.treebank}/${vars.test_name}.conllu\"\n",
        "    outputs:\n",
        "      - \"corpus/${vars.treebank}/train.spacy\"\n",
        "      - \"corpus/${vars.treebank}/dev.spacy\"\n",
        "      - \"corpus/${vars.treebank}/test.spacy\"\n",
        "\n",
        "  - name: vectors\n",
        "    help: \"Convert, truncate and prune the vectors.\"\n",
        "    script:\n",
        "      - \"python -m spacy init vectors ga assets/vectors.vec.gz corpus/ga_vectors -n ga_fasttext_cc_vectors_md\"\n",
        "    deps:\n",
        "      - \"assets/vectors.vec.gz\"\n",
        "    outputs:\n",
        "      - \"corpus/ga_vectors\"\n",
        "\n",
        "  - name: train\n",
        "    help: \"Train ${vars.treebank}\"\n",
        "    script:\n",
        "      - \"python -m spacy train configs/${vars.config}.cfg --output training/${vars.treebank} --gpu-id ${vars.gpu} --paths.train corpus/${vars.treebank}/train.spacy --paths.dev corpus/${vars.treebank}/dev.spacy --paths.vectors corpus/ga_vectors --nlp.lang=${vars.lang}\"\n",
        "    deps:\n",
        "      - \"corpus/${vars.treebank}/train.spacy\"\n",
        "      - \"corpus/${vars.treebank}/dev.spacy\"\n",
        "      - \"configs/${vars.config}.cfg\"\n",
        "      - \"corpus/ga_vectors\"\n",
        "    outputs:\n",
        "      - \"training/${vars.treebank}/model-best\"\n",
        "\n",
        "  - name: evaluate\n",
        "    help: \"Evaluate on the test data and save the metrics\"\n",
        "    script:\n",
        "      - \"python -m spacy evaluate ./training/${vars.treebank}/model-best ./corpus/${vars.treebank}/test.spacy --output ./metrics/${vars.treebank}.json --gpu-id ${vars.gpu}\"\n",
        "    deps:\n",
        "      - \"training/${vars.treebank}/model-best\"\n",
        "      - \"corpus/${vars.treebank}/test.spacy\"\n",
        "    outputs:\n",
        "      - \"metrics/${vars.treebank}.json\"\n",
        "\n",
        "  - name: package\n",
        "    help: \"Package the trained model so it can be installed\"\n",
        "    script:\n",
        "      - \"python -m spacy package training/${vars.treebank}/model-best packages --name ${vars.package_name} --version ${vars.package_version} --force\"\n",
        "    deps:\n",
        "      - \"training/${vars.treebank}/model-best\"\n",
        "    outputs_no_cache:\n",
        "      - \"packages/${vars.lang}_${vars.package_name}-${vars.package_version}/dist/en_${vars.package_name}-${vars.package_version}.tar.gz\"\n",
        "\n",
        "  - name: clean\n",
        "    help: \"Remove intermediate files\"\n",
        "    script:\n",
        "      - \"rm -rf training/*\"\n",
        "      - \"rm -rf metrics/*\"\n",
        "      - \"rm -rf corpus/*\""
      ],
      "execution_count": 6,
      "outputs": [
        {
          "output_type": "stream",
          "name": "stdout",
          "text": [
            "Overwriting tagger_parser_ud/project.yml\n"
          ]
        }
      ]
    },
    {
      "cell_type": "code",
      "metadata": {
        "colab": {
          "base_uri": "https://localhost:8080/"
        },
        "id": "TP3p5fS3D1qF",
        "outputId": "3908846f-9588-4a21-8f00-bbf65dea4b2c"
      },
      "source": [
        "!python -m spacy project assets /content/tagger_parser_ud"
      ],
      "execution_count": 7,
      "outputs": [
        {
          "output_type": "stream",
          "name": "stdout",
          "text": [
            "\u001b[38;5;4mℹ Fetching 2 asset(s)\u001b[0m\n",
            "\u001b[38;5;2m✔ Downloaded asset /content/tagger_parser_ud/assets/vectors.vec.gz\u001b[0m\n",
            "\u001b[38;5;2m✔ Downloaded asset /content/tagger_parser_ud/assets/UD_Irish-IDT\u001b[0m\n"
          ]
        }
      ]
    },
    {
      "cell_type": "code",
      "metadata": {
        "colab": {
          "base_uri": "https://localhost:8080/"
        },
        "id": "meFJmpaRU6E8",
        "outputId": "8605cb40-c194-420c-a559-d06afa380be7"
      },
      "source": [
        "!python -m spacy project run vectors /content/tagger_parser_ud"
      ],
      "execution_count": 8,
      "outputs": [
        {
          "output_type": "stream",
          "name": "stdout",
          "text": [
            "\u001b[1m\n",
            "================================== vectors ==================================\u001b[0m\n",
            "Running command: /usr/bin/python3 -m spacy init vectors ga assets/vectors.vec.gz corpus/ga_vectors -n ga_fasttext_cc_vectors_md\n",
            "\u001b[38;5;4mℹ Creating blank nlp object for language 'ga'\u001b[0m\n",
            "[2021-12-05 21:34:09,293] [INFO] Reading vectors from assets/vectors.vec.gz\n",
            "316836it [00:28, 11302.98it/s]\n",
            "[2021-12-05 21:34:37,505] [INFO] Loaded vectors from assets/vectors.vec.gz\n",
            "\u001b[38;5;2m✔ Successfully converted 316836 vectors\u001b[0m\n",
            "\u001b[38;5;2m✔ Saved nlp object with vectors to output directory. You can now use\n",
            "the path to it in your config as the 'vectors' setting in [initialize].\u001b[0m\n",
            "/content/tagger_parser_ud/corpus/ga_vectors\n"
          ]
        }
      ]
    },
    {
      "cell_type": "code",
      "metadata": {
        "colab": {
          "base_uri": "https://localhost:8080/"
        },
        "id": "65yySCQfFVsx",
        "outputId": "a1d1f2e7-5adf-47ea-98c9-e0ff382c1153"
      },
      "source": [
        "!python -m spacy project run preprocess /content/tagger_parser_ud"
      ],
      "execution_count": 9,
      "outputs": [
        {
          "output_type": "stream",
          "name": "stdout",
          "text": [
            "\u001b[1m\n",
            "================================= preprocess =================================\u001b[0m\n",
            "Running command: mkdir -p corpus/UD_Irish-IDT\n",
            "Running command: /usr/bin/python3 -m spacy convert assets/UD_Irish-IDT/ga_idt-ud-train.conllu corpus/UD_Irish-IDT/ --converter conllu --n-sents 10 --merge-subtokens --morphology\n",
            "\u001b[38;5;4mℹ Grouping every 10 sentences into a document.\u001b[0m\n",
            "\u001b[38;5;2m✔ Generated output file (401 documents):\n",
            "corpus/UD_Irish-IDT/ga_idt-ud-train.spacy\u001b[0m\n",
            "Running command: /usr/bin/python3 -m spacy convert assets/UD_Irish-IDT/ga_idt-ud-dev.conllu corpus/UD_Irish-IDT/ --converter conllu --n-sents 10 --merge-subtokens --morphology\n",
            "\u001b[38;5;4mℹ Grouping every 10 sentences into a document.\u001b[0m\n",
            "\u001b[38;5;2m✔ Generated output file (46 documents):\n",
            "corpus/UD_Irish-IDT/ga_idt-ud-dev.spacy\u001b[0m\n",
            "Running command: /usr/bin/python3 -m spacy convert assets/UD_Irish-IDT/ga_idt-ud-test.conllu corpus/UD_Irish-IDT/ --converter conllu --n-sents 10 --merge-subtokens --morphology\n",
            "\u001b[38;5;4mℹ Grouping every 10 sentences into a document.\u001b[0m\n",
            "\u001b[38;5;2m✔ Generated output file (46 documents):\n",
            "corpus/UD_Irish-IDT/ga_idt-ud-test.spacy\u001b[0m\n",
            "Running command: mv corpus/UD_Irish-IDT/ga_idt-ud-train.spacy corpus/UD_Irish-IDT/train.spacy\n",
            "Running command: mv corpus/UD_Irish-IDT/ga_idt-ud-dev.spacy corpus/UD_Irish-IDT/dev.spacy\n",
            "Running command: mv corpus/UD_Irish-IDT/ga_idt-ud-test.spacy corpus/UD_Irish-IDT/test.spacy\n"
          ]
        }
      ]
    },
    {
      "cell_type": "code",
      "metadata": {
        "colab": {
          "base_uri": "https://localhost:8080/"
        },
        "id": "fi1Ny0PWWlWE",
        "outputId": "77ba9aa7-68f7-438b-a65c-b692d495d781"
      },
      "source": [
        "%%writefile /content/tagger_parser_ud/configs/base_default.cfg\n",
        "[paths]\n",
        "train = null\n",
        "dev = null\n",
        "vectors = null\n",
        "init_tok2vec = null\n",
        "\n",
        "[system]\n",
        "gpu_allocator = null\n",
        "seed = 0\n",
        "\n",
        "[nlp]\n",
        "lang = \"ga\"\n",
        "pipeline = [\"tok2vec\",\"tagger\",\"morphologizer\",\"parser\"]\n",
        "tokenizer = {\"@tokenizers\":\"spacy.Tokenizer.v1\"}\n",
        "disabled = []\n",
        "before_creation = null\n",
        "after_creation = null\n",
        "after_pipeline_creation = null\n",
        "batch_size = 1000\n",
        "\n",
        "[components]\n",
        "\n",
        "[components.morphologizer]\n",
        "factory = \"morphologizer\"\n",
        "\n",
        "[components.morphologizer.model]\n",
        "@architectures = \"spacy.Tagger.v1\"\n",
        "nO = null\n",
        "\n",
        "[components.morphologizer.model.tok2vec]\n",
        "@architectures = \"spacy.Tok2VecListener.v1\"\n",
        "width = ${components.tok2vec.model.encode.width}\n",
        "upstream = \"*\"\n",
        "\n",
        "[components.parser]\n",
        "factory = \"parser\"\n",
        "learn_tokens = false\n",
        "min_action_freq = 30\n",
        "moves = null\n",
        "update_with_oracle_cut_size = 100\n",
        "\n",
        "[components.parser.model]\n",
        "@architectures = \"spacy.TransitionBasedParser.v2\"\n",
        "state_type = \"parser\"\n",
        "extra_state_tokens = false\n",
        "hidden_width = 128\n",
        "maxout_pieces = 3\n",
        "use_upper = true\n",
        "nO = null\n",
        "\n",
        "[components.parser.model.tok2vec]\n",
        "@architectures = \"spacy.Tok2VecListener.v1\"\n",
        "width = ${components.tok2vec.model.encode.width}\n",
        "upstream = \"*\"\n",
        "\n",
        "[components.tagger]\n",
        "factory = \"tagger\"\n",
        "\n",
        "[components.tagger.model]\n",
        "@architectures = \"spacy.Tagger.v1\"\n",
        "nO = null\n",
        "\n",
        "[components.tagger.model.tok2vec]\n",
        "@architectures = \"spacy.Tok2VecListener.v1\"\n",
        "width = ${components.tok2vec.model.encode.width}\n",
        "upstream = \"*\"\n",
        "\n",
        "[components.tok2vec]\n",
        "factory = \"tok2vec\"\n",
        "\n",
        "[components.tok2vec.model]\n",
        "@architectures = \"spacy.Tok2Vec.v1\"\n",
        "\n",
        "[components.tok2vec.model.embed]\n",
        "@architectures = \"spacy.MultiHashEmbed.v1\"\n",
        "width = ${components.tok2vec.model.encode.width}\n",
        "attrs = [\"LOWER\",\"PREFIX\",\"SUFFIX\",\"SHAPE\"]\n",
        "rows = [5000,2500,2500,2500]\n",
        "include_static_vectors = false\n",
        "\n",
        "[components.tok2vec.model.encode]\n",
        "@architectures = \"spacy.MaxoutWindowEncoder.v1\"\n",
        "width = 96\n",
        "depth = 4\n",
        "window_size = 1\n",
        "maxout_pieces = 3\n",
        "\n",
        "[corpora]\n",
        "\n",
        "[corpora.dev]\n",
        "@readers = \"spacy.Corpus.v1\"\n",
        "path = ${paths.dev}\n",
        "max_length = 0\n",
        "gold_preproc = false\n",
        "limit = 0\n",
        "augmenter = null\n",
        "\n",
        "[corpora.train]\n",
        "@readers = \"spacy.Corpus.v1\"\n",
        "path = ${paths.train}\n",
        "max_length = 2000\n",
        "gold_preproc = false\n",
        "limit = 0\n",
        "augmenter = null\n",
        "\n",
        "[training]\n",
        "dev_corpus = \"corpora.dev\"\n",
        "train_corpus = \"corpora.train\"\n",
        "seed = ${system.seed}\n",
        "gpu_allocator = ${system.gpu_allocator}\n",
        "dropout = 0.1\n",
        "accumulate_gradient = 1\n",
        "patience = 1600\n",
        "max_epochs = 0\n",
        "max_steps = 20000\n",
        "eval_frequency = 200\n",
        "frozen_components = []\n",
        "before_to_disk = null\n",
        "\n",
        "[training.batcher]\n",
        "@batchers = \"spacy.batch_by_words.v1\"\n",
        "discard_oversize = false\n",
        "tolerance = 0.2\n",
        "get_length = null\n",
        "\n",
        "[training.batcher.size]\n",
        "@schedules = \"compounding.v1\"\n",
        "start = 100\n",
        "stop = 1000\n",
        "compound = 1.001\n",
        "t = 0.0\n",
        "\n",
        "[training.logger]\n",
        "@loggers = \"spacy.ConsoleLogger.v1\"\n",
        "progress_bar = false\n",
        "\n",
        "[training.optimizer]\n",
        "@optimizers = \"Adam.v1\"\n",
        "beta1 = 0.9\n",
        "beta2 = 0.999\n",
        "L2_is_weight_decay = true\n",
        "L2 = 0.01\n",
        "grad_clip = 1.0\n",
        "use_averages = false\n",
        "eps = 0.00000001\n",
        "learn_rate = 0.001\n",
        "\n",
        "[training.score_weights]\n",
        "morph_per_feat = null\n",
        "dep_las_per_type = null\n",
        "sents_p = null\n",
        "sents_r = null\n",
        "tag_acc = 0.33\n",
        "pos_acc = 0.17\n",
        "morph_acc = 0.17\n",
        "dep_uas = 0.17\n",
        "dep_las = 0.17\n",
        "sents_f = 0.0\n",
        "\n",
        "[pretraining]\n",
        "\n",
        "[initialize]\n",
        "vectors = ${paths.vectors}\n",
        "init_tok2vec = ${paths.init_tok2vec}\n",
        "vocab_data = null\n",
        "lookups = null\n",
        "before_init = null\n",
        "after_init = null\n",
        "\n",
        "[initialize.components]\n",
        "\n",
        "[initialize.tokenizer]\n"
      ],
      "execution_count": 10,
      "outputs": [
        {
          "output_type": "stream",
          "name": "stdout",
          "text": [
            "Writing /content/tagger_parser_ud/configs/base_default.cfg\n"
          ]
        }
      ]
    },
    {
      "cell_type": "code",
      "metadata": {
        "colab": {
          "base_uri": "https://localhost:8080/"
        },
        "id": "VTfokWSkZuOY",
        "outputId": "0f0888d1-b2e9-42cb-9b05-5eb2ee7a5564"
      },
      "source": [
        "!rm /content/tagger_parser_ud/configs/default.cfg\n",
        "!python -m spacy init fill-config /content/tagger_parser_ud/configs/base_default.cfg /content/tagger_parser_ud/configs/default.cfg"
      ],
      "execution_count": 11,
      "outputs": [
        {
          "output_type": "stream",
          "name": "stdout",
          "text": [
            "\u001b[38;5;2m✔ Auto-filled config with all values\u001b[0m\n",
            "\u001b[38;5;2m✔ Saved config\u001b[0m\n",
            "/content/tagger_parser_ud/configs/default.cfg\n",
            "You can now add your data and train your pipeline:\n",
            "python -m spacy train default.cfg --paths.train ./train.spacy --paths.dev ./dev.spacy\n"
          ]
        }
      ]
    },
    {
      "cell_type": "code",
      "metadata": {
        "colab": {
          "base_uri": "https://localhost:8080/"
        },
        "id": "wig6uL9M0oov",
        "outputId": "1bacd603-7def-40a6-d6e4-49b14dbce3ea"
      },
      "source": [
        "!apt install git-lfs"
      ],
      "execution_count": 12,
      "outputs": [
        {
          "output_type": "stream",
          "name": "stdout",
          "text": [
            "Reading package lists... Done\n",
            "Building dependency tree       \n",
            "Reading state information... Done\n",
            "The following NEW packages will be installed:\n",
            "  git-lfs\n",
            "0 upgraded, 1 newly installed, 0 to remove and 37 not upgraded.\n",
            "Need to get 2,129 kB of archives.\n",
            "After this operation, 7,662 kB of additional disk space will be used.\n",
            "Get:1 http://archive.ubuntu.com/ubuntu bionic/universe amd64 git-lfs amd64 2.3.4-1 [2,129 kB]\n",
            "Fetched 2,129 kB in 1s (2,010 kB/s)\n",
            "Selecting previously unselected package git-lfs.\n",
            "(Reading database ... 155222 files and directories currently installed.)\n",
            "Preparing to unpack .../git-lfs_2.3.4-1_amd64.deb ...\n",
            "Unpacking git-lfs (2.3.4-1) ...\n",
            "Setting up git-lfs (2.3.4-1) ...\n",
            "Processing triggers for man-db (2.8.3-2ubuntu0.1) ...\n"
          ]
        }
      ]
    },
    {
      "cell_type": "code",
      "metadata": {
        "colab": {
          "base_uri": "https://localhost:8080/"
        },
        "id": "Gulro7mTAVwC",
        "outputId": "663b54c1-c62d-481a-d89f-fba1f9c31abe"
      },
      "source": [
        "%%writefile tmp_config.cfg\n",
        "# This is an auto-generated partial config. To use it with 'spacy train'\n",
        "# you can run spacy init fill-config to auto-fill all default settings:\n",
        "# python -m spacy init fill-config ./base_config.cfg ./config.cfg\n",
        "[paths]\n",
        "train = null\n",
        "dev = null\n",
        "\n",
        "[system]\n",
        "gpu_allocator = null\n",
        "\n",
        "[nlp]\n",
        "lang = \"ga\"\n",
        "pipeline = [\"tok2vec\",\"tagger\",\"morphologizer\",\"parser\"]\n",
        "batch_size = 1000\n",
        "\n",
        "[components]\n",
        "\n",
        "[components.tok2vec]\n",
        "factory = \"tok2vec\"\n",
        "\n",
        "[components.tok2vec.model]\n",
        "@architectures = \"spacy.Tok2Vec.v2\"\n",
        "\n",
        "[components.tok2vec.model.embed]\n",
        "@architectures = \"spacy.MultiHashEmbed.v2\"\n",
        "width = ${components.tok2vec.model.encode.width}\n",
        "attrs = [\"ORTH\", \"SHAPE\"]\n",
        "rows = [5000, 2500]\n",
        "include_static_vectors = true\n",
        "\n",
        "[components.tok2vec.model.encode]\n",
        "@architectures = \"spacy.MaxoutWindowEncoder.v2\"\n",
        "width = 256\n",
        "depth = 8\n",
        "window_size = 1\n",
        "maxout_pieces = 3\n",
        "\n",
        "[components.morphologizer]\n",
        "factory = \"morphologizer\"\n",
        "\n",
        "[components.morphologizer.model]\n",
        "@architectures = \"spacy.Tagger.v1\"\n",
        "nO = null\n",
        "\n",
        "[components.morphologizer.model.tok2vec]\n",
        "@architectures = \"spacy.Tok2VecListener.v1\"\n",
        "width = ${components.tok2vec.model.encode.width}\n",
        "\n",
        "[components.tagger]\n",
        "factory = \"tagger\"\n",
        "\n",
        "[components.tagger.model]\n",
        "@architectures = \"spacy.Tagger.v1\"\n",
        "nO = null\n",
        "\n",
        "[components.tagger.model.tok2vec]\n",
        "@architectures = \"spacy.Tok2VecListener.v1\"\n",
        "width = ${components.tok2vec.model.encode.width}\n",
        "\n",
        "[components.parser]\n",
        "factory = \"parser\"\n",
        "\n",
        "[components.parser.model]\n",
        "@architectures = \"spacy.TransitionBasedParser.v2\"\n",
        "state_type = \"parser\"\n",
        "extra_state_tokens = false\n",
        "hidden_width = 128\n",
        "maxout_pieces = 3\n",
        "use_upper = true\n",
        "nO = null\n",
        "\n",
        "[components.parser.model.tok2vec]\n",
        "@architectures = \"spacy.Tok2VecListener.v1\"\n",
        "width = ${components.tok2vec.model.encode.width}\n",
        "\n",
        "[components.ner]\n",
        "factory = \"ner\"\n",
        "\n",
        "[components.ner.model]\n",
        "@architectures = \"spacy.TransitionBasedParser.v2\"\n",
        "state_type = \"ner\"\n",
        "extra_state_tokens = false\n",
        "hidden_width = 64\n",
        "maxout_pieces = 2\n",
        "use_upper = true\n",
        "nO = null\n",
        "\n",
        "[components.ner.model.tok2vec]\n",
        "@architectures = \"spacy.Tok2VecListener.v1\"\n",
        "width = ${components.tok2vec.model.encode.width}\n",
        "\n",
        "[corpora]\n",
        "\n",
        "[corpora.train]\n",
        "@readers = \"spacy.Corpus.v1\"\n",
        "path = ${paths.train}\n",
        "max_length = 0\n",
        "\n",
        "[corpora.dev]\n",
        "@readers = \"spacy.Corpus.v1\"\n",
        "path = ${paths.dev}\n",
        "max_length = 0\n",
        "\n",
        "[training]\n",
        "dev_corpus = \"corpora.dev\"\n",
        "train_corpus = \"corpora.train\"\n",
        "\n",
        "[training.optimizer]\n",
        "@optimizers = \"Adam.v1\"\n",
        "\n",
        "[training.batcher]\n",
        "@batchers = \"spacy.batch_by_words.v1\"\n",
        "discard_oversize = false\n",
        "tolerance = 0.2\n",
        "\n",
        "[training.batcher.size]\n",
        "@schedules = \"compounding.v1\"\n",
        "start = 100\n",
        "stop = 1000\n",
        "compound = 1.001\n",
        "\n",
        "[initialize]\n",
        "vectors = ${paths.vectors}"
      ],
      "execution_count": 13,
      "outputs": [
        {
          "output_type": "stream",
          "name": "stdout",
          "text": [
            "Writing tmp_config.cfg\n"
          ]
        }
      ]
    },
    {
      "cell_type": "code",
      "metadata": {
        "colab": {
          "base_uri": "https://localhost:8080/"
        },
        "id": "NkY425VzAntO",
        "outputId": "57cdf16d-4830-4dd5-e837-e0e8c074953f"
      },
      "source": [
        "!python -m spacy init fill-config tmp_config.cfg config.cfg"
      ],
      "execution_count": 14,
      "outputs": [
        {
          "output_type": "stream",
          "name": "stdout",
          "text": [
            "\u001b[38;5;2m✔ Auto-filled config with all values\u001b[0m\n",
            "\u001b[38;5;2m✔ Saved config\u001b[0m\n",
            "config.cfg\n",
            "You can now add your data and train your pipeline:\n",
            "python -m spacy train config.cfg --paths.train ./train.spacy --paths.dev ./dev.spacy\n"
          ]
        }
      ]
    },
    {
      "cell_type": "code",
      "metadata": {
        "id": "G3s4moISCiOH"
      },
      "source": [
        "#!rm -rf spacy_ud\n",
        "!mkdir spacy_ud"
      ],
      "execution_count": 15,
      "outputs": []
    },
    {
      "cell_type": "code",
      "metadata": {
        "colab": {
          "base_uri": "https://localhost:8080/"
        },
        "id": "43N2OX4sJkDW",
        "outputId": "08f054d6-365b-4ea1-bd99-438af5fa9f9f"
      },
      "source": [
        "!python -m spacy project clone pipelines/floret_vectors_demo"
      ],
      "execution_count": 16,
      "outputs": [
        {
          "output_type": "stream",
          "name": "stdout",
          "text": [
            "\u001b[38;5;2m✔ Cloned 'pipelines/floret_vectors_demo' from explosion/projects\u001b[0m\n",
            "/content/floret_vectors_demo\n",
            "\u001b[38;5;2m✔ Your project is now ready!\u001b[0m\n",
            "To fetch the assets, run:\n",
            "python -m spacy project assets /content/floret_vectors_demo\n"
          ]
        }
      ]
    },
    {
      "cell_type": "code",
      "metadata": {
        "colab": {
          "base_uri": "https://localhost:8080/"
        },
        "id": "1qh-jlrxJp7S",
        "outputId": "b032fcd3-58bc-4f5a-bab4-67f315b78290"
      },
      "source": [
        "%%writefile /content/floret_vectors_demo/project.yml\n",
        "title: \"Demo floret vectors\"\n",
        "description: \"Train floret vectors and load them into a spaCy vectors model.\"\n",
        "spacy_version: \">=3.2.0,<4.0.0\"\n",
        "# Variables can be referenced across the project.yml using ${vars.var_name}\n",
        "vars:\n",
        "  name: \"floret_vectors\"\n",
        "  lang: \"ga\"\n",
        "  oscar_dataset: \"unshuffled_deduplicated_ga\"\n",
        "  max_texts: 1000\n",
        "  # number of processes (tokenization) and threads (floret)\n",
        "  n_process: 8\n",
        "\n",
        "# These are the directories that the project needs. The project CLI will make\n",
        "# sure that they always exist.\n",
        "directories: [\"corpus\", \"scripts\", \"vectors\"]\n",
        "\n",
        "## Workflows are sequences of commands (see below) executed in order. You can\n",
        "## run them via \"spacy project run [workflow]\". If a commands's inputs/outputs\n",
        "## haven't changed, it won't be re-run.\n",
        "workflows:\n",
        "  all:\n",
        "    - tokenize-oscar\n",
        "    - train-floret\n",
        "    - init-floret-vectors\n",
        "    - floret-nn\n",
        "\n",
        "# Project commands, specified in a style similar to CI config files (e.g. Azure\n",
        "# pipelines). The name is the command name that lets you trigger the command\n",
        "# via \"spacy project run [command] [path]\". The help message is optional and\n",
        "# shown when executing \"spacy project run [optional command] [path] --help\".\n",
        "commands:\n",
        "  - name: \"tokenize-oscar\"\n",
        "    help: \"Download, tokenize, and sentencize data\"\n",
        "    script:\n",
        "      - \"python scripts/tokenize_dataset.py ${vars.lang} ${vars.oscar_dataset} ${vars.max_texts} corpus/${vars.oscar_dataset}.${vars.max_texts}.tok.txt --n-process=${vars.n_process}\"\n",
        "    deps:\n",
        "      - \"scripts/tokenize_dataset.py\"\n",
        "    outputs:\n",
        "      - \"corpus/${vars.oscar_dataset}.${vars.max_texts}.tok.txt\"\n",
        "\n",
        "  - name: \"train-floret\"\n",
        "    help: \"Train floret vectors\"\n",
        "    script:\n",
        "      - \"python scripts/train_floret.py --model cbow --dim 300 --mincount 10 --minn 3 --maxn 6 --neg 10 --mode floret --hashcount 2 --bucket 20000 --thread ${vars.n_process} corpus/${vars.oscar_dataset}.${vars.max_texts}.tok.txt vectors/${vars.oscar_dataset}.${vars.max_texts}.dim300.minCount10.n3-6.neg10.modeFloret.hashCount2.bucket20000\"\n",
        "    deps:\n",
        "      - \"scripts/train_floret.py\"\n",
        "      - \"corpus/${vars.oscar_dataset}.${vars.max_texts}.tok.txt\"\n",
        "    outputs:\n",
        "      - \"vectors/${vars.oscar_dataset}.${vars.max_texts}.dim300.minCount10.n3-6.neg10.modeFloret.hashCount2.bucket20000.floret\"\n",
        "      - \"vectors/${vars.oscar_dataset}.${vars.max_texts}.dim300.minCount10.n3-6.neg10.modeFloret.hashCount2.bucket20000.vec\"\n",
        "      - \"vectors/${vars.oscar_dataset}.${vars.max_texts}.dim300.minCount10.n3-6.neg10.modeFloret.hashCount2.bucket20000.bin\"\n",
        "\n",
        "  - name: \"init-floret-vectors\"\n",
        "    help: \"Create a floret vectors model\"\n",
        "    script:\n",
        "      - \"python -m spacy init vectors ${vars.lang} vectors/${vars.oscar_dataset}.${vars.max_texts}.dim300.minCount10.n3-6.neg10.modeFloret.hashCount2.bucket20000.floret vectors/${vars.oscar_dataset}.${vars.max_texts}_floret_model --mode floret\" \n",
        "    deps:\n",
        "      - \"vectors/${vars.oscar_dataset}.${vars.max_texts}.dim300.minCount10.n3-6.neg10.modeFloret.hashCount2.bucket20000.floret\"\n",
        "    outputs:\n",
        "      - \"vectors/${vars.oscar_dataset}.${vars.max_texts}_floret_model\"\n",
        "\n",
        "  - name: \"floret-nn\"\n",
        "    help: \"Demo nearest neighbors for intentional OOV misspelling 'outdooor'\"\n",
        "    script:\n",
        "      - \"python scripts/nn_floret.py vectors/${vars.oscar_dataset}.${vars.max_texts}.dim300.minCount10.n3-6.neg10.modeFloret.hashCount2.bucket20000.bin outdooor\"\n",
        "    deps:\n",
        "      - \"scripts/nn_floret.py\"\n",
        "      - \"vectors/${vars.oscar_dataset}.${vars.max_texts}.dim300.minCount10.n3-6.neg10.modeFloret.hashCount2.bucket20000.bin\"\n"
      ],
      "execution_count": 17,
      "outputs": [
        {
          "output_type": "stream",
          "name": "stdout",
          "text": [
            "Overwriting /content/floret_vectors_demo/project.yml\n"
          ]
        }
      ]
    },
    {
      "cell_type": "code",
      "metadata": {
        "colab": {
          "base_uri": "https://localhost:8080/"
        },
        "id": "UlO88B5GKH2p",
        "outputId": "fd5d119d-2604-46d2-930f-cc16f0c7d378"
      },
      "source": [
        "!python -m spacy project run tokenize-oscar /content/floret_vectors_demo"
      ],
      "execution_count": 18,
      "outputs": [
        {
          "output_type": "stream",
          "name": "stdout",
          "text": [
            "\u001b[1m\n",
            "=============================== tokenize-oscar ===============================\u001b[0m\n",
            "Running command: /usr/bin/python3 scripts/tokenize_dataset.py ga unshuffled_deduplicated_ga 1000 corpus/unshuffled_deduplicated_ga.1000.tok.txt --n-process=8\n",
            "Downloading: 14.8kB [00:00, 11.0MB/s]       \n",
            "Downloading: 3.07MB [00:00, 78.3MB/s]      \n"
          ]
        }
      ]
    },
    {
      "cell_type": "code",
      "metadata": {
        "colab": {
          "base_uri": "https://localhost:8080/"
        },
        "id": "mmT9cfw2Ki_d",
        "outputId": "18a04065-c9c0-4586-ef5c-b1dfc551d068"
      },
      "source": [
        "!tail /content/floret_vectors_demo/corpus/unshuffled_deduplicated_ga.1000.tok.txt"
      ],
      "execution_count": 19,
      "outputs": [
        {
          "output_type": "stream",
          "name": "stdout",
          "text": [
            "Tubaiste cheart a bhí i gcogadh na hIaráice .\n",
            "Maraíodh na céadta míle duine ; chuaigh an fhuath i dtaobh na Breataine sna tíortha Ioslamacha i méid ; rinneadh dochar don chomhaontas idir an Bhreatain agus an Eoraip ; Agus tarraingíodh míchliú ar oidhreacht Blair agus ar ghníomhréim a pháirtí .\n",
            "Is í Mairéad Ní Chuaig , craoltóir agus bean na haimsire ar TG4 , a bhí i mbun cainte le Sara Ní Chuirreáin an tseachtain seo … Ceist mhaith !\n",
            "Eicléicteach , banda agus boihéamach .\n",
            "Tá suim mhór agam i stíl na seascaidí .\n",
            "Bíonn an-tionchar ag ceol , scannáin agus taisteal ar mo stíl féin .\n",
            "Ní thugam suntas do na faisin is deireanaí .\n",
            "Bíonn mé ag bailiú éadaí ar fud na cruinne , agus is breá liom hataí .\n",
            "Fachtóir cosanta ar an ngrian ( Tá mé ag úsáid uachtar gréine le spf ard ó bhí mé 16 , comhairle mhaith a fuair mé ó mo mhama ! ) ,\n",
            "línitheoir súl agus maothóir .\n"
          ]
        }
      ]
    },
    {
      "cell_type": "code",
      "metadata": {
        "id": "XeKxXGb0K3Ra"
      },
      "source": [
        "!cat /content/tagger_parser_ud/assets/UD_Irish-IDT/ga_idt-ud-*.conllu |grep 'text =' |sed -e 's/^# text = //' > idt-sentences.txt"
      ],
      "execution_count": 20,
      "outputs": []
    },
    {
      "cell_type": "code",
      "metadata": {
        "id": "jcVMPoqmLRUC"
      },
      "source": [
        "import re\n",
        "import spacy\n",
        "import typer\n",
        "from itertools import islice\n",
        "from pathlib import Path\n",
        "\n",
        "\n",
        "lang = \"ga\"\n",
        "n_process = 8\n",
        "batch_size = 100\n",
        "nlp = spacy.blank(lang)\n",
        "input_file = \"idt-sentences.txt\"\n",
        "output_file = \"idt-split.txt\"\n",
        "\n",
        "nlp.add_pipe(\"sentencizer\")\n",
        "nlp.max_length = 10 ** 8\n",
        "\n",
        "idt_lines = []\n",
        "with open(input_file) as input_fileh:\n",
        "    for line in input_fileh.readlines():\n",
        "        idt_lines.append(line.strip())\n",
        "\n",
        "with open(output_file, \"w\") as output_fileh:\n",
        "    texts = (\n",
        "        re.sub(\"\\s+\", \" \", line.strip())\n",
        "        for line in idt_lines\n",
        "    )\n",
        "    for doc in nlp.pipe(texts, batch_size=batch_size):\n",
        "        for sent in doc.sents:\n",
        "            output_fileh.write(\" \".join([t.text for t in sent]) + \"\\n\")"
      ],
      "execution_count": 21,
      "outputs": []
    },
    {
      "cell_type": "code",
      "metadata": {
        "id": "oWoLi3uQM_Az"
      },
      "source": [
        "!cat idt-split.txt >> /content/floret_vectors_demo/corpus/unshuffled_deduplicated_ga.1000.tok.txt"
      ],
      "execution_count": 22,
      "outputs": []
    },
    {
      "cell_type": "code",
      "metadata": {
        "colab": {
          "base_uri": "https://localhost:8080/"
        },
        "id": "ixW07ykfNEz1",
        "outputId": "0b598d0a-149a-4a31-89b8-f2556990f2ab"
      },
      "source": [
        "!python -m spacy project run train-floret /content/floret_vectors_demo"
      ],
      "execution_count": 23,
      "outputs": [
        {
          "output_type": "stream",
          "name": "stdout",
          "text": [
            "\u001b[1m\n",
            "================================ train-floret ================================\u001b[0m\n",
            "Running command: /usr/bin/python3 scripts/train_floret.py --model cbow --dim 300 --mincount 10 --minn 3 --maxn 6 --neg 10 --mode floret --hashcount 2 --bucket 20000 --thread 8 corpus/unshuffled_deduplicated_ga.1000.tok.txt vectors/unshuffled_deduplicated_ga.1000.dim300.minCount10.n3-6.neg10.modeFloret.hashCount2.bucket20000\n",
            "Read 0M words\n",
            "Number of words:  3547\n",
            "Number of labels: 0\n",
            "Progress: 100.0% words/sec/thread:    7829 lr:  0.000000 avg.loss:  3.232815 ETA:   0h 0m 0s\n"
          ]
        }
      ]
    },
    {
      "cell_type": "code",
      "metadata": {
        "colab": {
          "base_uri": "https://localhost:8080/"
        },
        "id": "_kis5gHLNo4j",
        "outputId": "a7dd079a-87fa-433f-d923-ef3090285d81"
      },
      "source": [
        "!python -m spacy project run init-floret-vectors /content/floret_vectors_demo"
      ],
      "execution_count": 24,
      "outputs": [
        {
          "output_type": "stream",
          "name": "stdout",
          "text": [
            "\u001b[1m\n",
            "============================ init-floret-vectors ============================\u001b[0m\n",
            "Running command: /usr/bin/python3 -m spacy init vectors ga vectors/unshuffled_deduplicated_ga.1000.dim300.minCount10.n3-6.neg10.modeFloret.hashCount2.bucket20000.floret vectors/unshuffled_deduplicated_ga.1000_floret_model --mode floret\n",
            "\u001b[38;5;4mℹ Creating blank nlp object for language 'ga'\u001b[0m\n",
            "[2021-12-05 21:38:20,042] [INFO] Reading vectors from vectors/unshuffled_deduplicated_ga.1000.dim300.minCount10.n3-6.neg10.modeFloret.hashCount2.bucket20000.floret\n",
            "20000it [00:01, 14267.75it/s]\n",
            "[2021-12-05 21:38:21,458] [INFO] Loaded vectors from vectors/unshuffled_deduplicated_ga.1000.dim300.minCount10.n3-6.neg10.modeFloret.hashCount2.bucket20000.floret\n",
            "\u001b[38;5;2m✔ Successfully converted 20000 vectors\u001b[0m\n",
            "\u001b[38;5;2m✔ Saved nlp object with vectors to output directory. You can now use\n",
            "the path to it in your config as the 'vectors' setting in [initialize].\u001b[0m\n",
            "/content/floret_vectors_demo/vectors/unshuffled_deduplicated_ga.1000_floret_model\n"
          ]
        }
      ]
    },
    {
      "cell_type": "code",
      "metadata": {
        "id": "Irdz4cd_Br-V"
      },
      "source": [
        "!python -m spacy train config.cfg --paths.train /content/tagger_parser_ud/corpus/UD_Irish-IDT/train.spacy --paths.dev /content/tagger_parser_ud/corpus/UD_Irish-IDT/dev.spacy --paths.vectors /content/floret_vectors_demo/vectors/unshuffled_deduplicated_ga.1000_floret_model --output spacy_ud"
      ],
      "execution_count": null,
      "outputs": []
    },
    {
      "cell_type": "code",
      "metadata": {
        "colab": {
          "base_uri": "https://localhost:8080/"
        },
        "id": "DncGLkhRD7KH",
        "outputId": "c78bde35-149f-439c-fb2f-5d58f58e1a9a"
      },
      "source": [
        "!python -m spacy debug data /content/spacy_ud/model-best/config.cfg --no-format --verbose"
      ],
      "execution_count": 26,
      "outputs": [
        {
          "output_type": "stream",
          "name": "stdout",
          "text": [
            "Data file validation\n",
            "Pipeline can be initialized with data\n",
            "Corpus is loadable\n",
            "Training stats\n",
            "Language: ga\n",
            "Training pipeline: tok2vec, tagger, morphologizer, parser\n",
            "401 training docs\n",
            "46 evaluation docs\n",
            "No overlap between training and evaluation data\n",
            "Low number of examples to train a new pipeline (401)\n",
            "It's recommended to use at least 2000 examples (minimum 100)\n",
            "Vocab & Vectors\n",
            "95881 total word(s) in the data (14191 unique)\n",
            "661 misaligned tokens in the training data\n",
            "90 misaligned tokens in the dev data\n",
            "10 most common words: 'a' (3954), 'an' (3807), '.' (3805), ',' (3296), 'agus' (2704), 'ar' (2437), 'na' (2182), 'i' (1431), 'go' (1171), 'le' (1159)\n",
            "20000 vectors (0 unique keys, 300 dimensions)\n",
            "0 words in training data without vectors (0%)\n",
            "10 most common words without vectors: \n",
            "Part-of-speech Tagging\n",
            "1034 label(s) in train data\n",
            "Some model labels are not present in the train data. The model performance may be degraded for these labels after training: 'ADJ__Abbr=Yes|Case=Nom|Gender=Fem|Number=Sing', 'VI__Form=Len|Mood=Cnd|Number=Plur|Person=1', 'VT__Aspect=Imp|Form=Len|Number=Plur|Person=3|Tense=Past', 'Cop__Form=Ecl,VF|Tense=Past|VerbForm=Cop', 'VTI__Form=Len|Mood=Cnd|Number=Plur|Person=1', 'VT__Aspect=Imp|Form=Len|Tense=Past', 'VT__Aspect=Imp|Number=Sing|Person=1|Tense=Past', 'Cop__Form=VF|Mood=Cnd|VerbForm=Cop'.\n",
            "'Simp' (9902), 'Punct' (4955), '.' (3637), 'Noun__Case=Nom|Definite=Def|Gender=Masc|Number=Sing' (3355), 'Coord' (3241), 'Noun__Case=Nom|Gender=Masc|Number=Sing' (3208), 'Art__Definite=Def|Number=Sing|PronType=Art' (3180), 'Noun__Case=Nom|Gender=Fem|Number=Sing' (1964), 'Inf__PartType=Inf' (1684), 'Noun__Case=Nom|Definite=Def|Gender=Fem|Number=Sing' (1669), 'Noun__Case=Gen|Gender=Masc|Number=Sing' (1459), 'Noun__Form=Len|VerbForm=Inf' (1423), 'Art__Number=Sing|PronType=Art' (1420), 'Vb__Form=Direct|PartType=Vb|PronType=Rel' (1398), 'Subord' (1224), 'Noun__Case=Gen|Gender=Fem|Number=Sing' (1216), 'Adj__Degree=Pos' (1191), 'Adj__Case=Nom|Gender=Masc|Number=Sing' (1109), 'Noun__VerbForm=Inf' (1075), 'Det__PronType=Dem' (1055), 'Noun__Case=Nom|Definite=Def|Form=Len|Gender=Masc|Number=Sing' (1040), 'Pers__Gender=Masc|Number=Sing|Person=3' (1021), 'Noun__Case=Nom|Gender=Masc|Number=Plur' (983), 'Art__Definite=Def|Number=Plur|PronType=Art' (943), 'Noun__Case=Nom|Definite=Def|Form=Len|Gender=Fem|Number=Sing' (924), 'Noun__Case=Gen|Definite=Def|Gender=Fem|Number=Sing' (882), 'Num' (863), 'Art__Case=Gen|Definite=Def|Gender=Fem|Number=Sing|PronType=Art' (854), 'Noun__Case=Gen|Definite=Def|Gender=Masc|Number=Sing' (853), 'Cmpd__PrepForm=Cmpd' (823), 'Noun__Definite=Def|Gender=Masc|Number=Sing' (789), 'PresInd__Mood=Ind|Tense=Pres' (787), 'Noun__Case=Nom|Definite=Def|Gender=Masc|Number=Plur' (774), 'Adj__VerbForm=Part' (753), 'Prep__Gender=Masc|Number=Sing|Person=3' (741), 'Noun__Case=Nom|Form=Len|Gender=Masc|Number=Sing' (722), 'Art__Case=Gen|Definite=Def|Gender=Masc|Number=Sing|PronType=Art' (706), 'Cop__Tense=Pres|VerbForm=Cop' (630), 'Dir' (606), 'Vb__PartType=Cmpl' (569), 'Noun__VerbForm=Vnoun' (550), 'Noun__Case=Nom|Definite=Def|Form=Ecl|Gender=Masc|Number=Sing' (533), 'Foreign__Foreign=Yes' (533), 'Noun__Case=Nom|Gender=Fem|Number=Plur' (505), 'PastInd__Form=Len|Mood=Ind|Tense=Past' (466), 'Noun__Case=Gen|Definite=Def|Form=Len|Gender=Masc|Number=Sing' (453), 'Dem__PronType=Dem' (449), 'Gn' (447), 'Noun__Case=Nom|Form=Len|Gender=Fem|Number=Sing' (422), 'PresInd__Form=Direct|Mood=Ind|PronType=Rel|Tense=Pres' (411), 'Prep__Number=Plur|Person=3' (406), 'Art__Case=Gen|Definite=Def|Number=Plur|PronType=Art' (391), 'VTI__Form=Len|Mood=Ind|Tense=Past' (384), 'Noun__Case=Nom|Form=Len|Gender=Masc|Number=Plur' (364), 'Ad__PartType=Ad' (351), 'Pers__Number=Plur|Person=3' (349), 'Noun__Case=Nom|Definite=Def|Gender=Fem|Number=Plur' (348), 'Abr__Abbr=Yes' (347), 'Noun__Case=Nom|Definite=Def|Form=Ecl|Gender=Fem|Number=Sing' (339), 'Adj__Case=Nom|Gender=Fem|Number=Sing' (338), 'Noun__Case=Nom|Form=Ecl|Gender=Fem|Number=Sing' (326), 'Adj__Case=Nom|Form=Len|Gender=Fem|Number=Sing' (325), 'VTI__Mood=Ind|Tense=Pres' (312), 'Det__Gender=Masc|Number=Sing|Person=3|Poss=Yes' (310), 'Adj__Case=Nom|Gender=Masc|NounType=NotSlender|Number=Plur' (302), 'Noun__Case=Nom|Form=Ecl|Gender=Masc|Number=Sing' (297), 'Adj__Case=Nom|Gender=Fem|NounType=NotSlender|Number=Plur' (293), 'Poss__Gender=Masc|Number=Sing|Person=3|Poss=Yes' (279), 'Det__PronType=Ind' (279), 'PresInd__Form=Ecl|Mood=Ind|Tense=Pres' (277), 'Num__NumType=Card' (265), 'VTI__Mood=Ind|Tense=Fut' (246), 'Subst__Case=Nom|Number=Sing' (246), 'Noun__Case=Gen|Gender=Masc|NounType=Strong|Number=Plur' (244), 'Pers__Gender=Fem|Number=Sing|Person=3' (243), 'VTI__Mood=Ind|Person=0|Tense=Past' (231), 'Adj__Degree=Cmp,Sup' (223), 'Vb__Form=Indirect|PartType=Vb|PronType=Rel' (215), 'Noun__Case=Gen|Definite=Def|Gender=Fem|NounType=Weak|Number=Plur' (215), 'VTI__Form=Len|Mood=Ind|Tense=Pres' (211), 'CmpdNoGen' (202), 'Noun__Case=Gen|Definite=Def|Form=HPref|Gender=Fem|Number=Sing' (196), 'Noun__Definite=Def|Gender=Fem|Number=Sing' (188), 'Ref__Reflex=Yes' (183), 'PastInd__Mood=Ind|Tense=Past' (182), 'Prep__Number=Sing|Person=1' (179), 'Prep__Number=Sing|Person=2' (177), 'Vb__PartType=Vb|Polarity=Neg' (174), 'Det__Definite=Def' (174), 'Det__Number=Plur|Person=3|Poss=Yes' (171), 'Noun__Case=Gen|Gender=Fem|NounType=Strong|Number=Plur' (170), 'VTI__Mood=Ind|Person=0|Tense=Pres' (167), 'Cmpd__Case=Nom|Number=Sing|PrepForm=Cmpd' (164), 'Cmpd__Case=Nom|Gender=Fem|Number=Sing|PrepForm=Cmpd' (163), 'VTI__Mood=Ind|Tense=Past' (161), 'Cop__Tense=Past|VerbForm=Cop' (160), 'Cop__Polarity=Neg|Tense=Pres|VerbForm=Cop' (157), 'Noun__Case=Gen|Gender=Masc|NounType=Weak|Number=Plur' (155), 'Pat__PartType=Pat' (155), 'Poss__Number=Plur|Person=3|Poss=Yes' (155), 'Its' (153), 'Loc' (144), 'Noun__Case=Gen|Form=Len|Gender=Masc|Number=Sing' (143), 'Prep__Gender=Fem|Number=Sing|Person=3' (142), 'VTI__Mood=Ind|Person=0|Tense=Fut' (140), 'Cmpd__Case=Nom|Gender=Masc|Number=Sing|PrepForm=Cmpd' (137), 'Prep__Number=Plur|Person=1' (133), 'Adj__Case=Nom|Gender=Masc|NounType=Slender|Number=Plur' (133), '?' (132), 'Adj__Degree=Pos|Form=Len' (132), 'VI__Form=Len|Mood=Ind|Tense=Past' (131), 'Noun__Definite=Def|Form=Len|Gender=Masc|Number=Sing' (131), 'Noun__Definite=Def|VerbForm=Inf' (128), 'Noun__Case=Gen|Definite=Def|Form=Len|Gender=Fem|Number=Sing' (127), 'Item' (125), 'Noun__Case=Gen|Definite=Def|Form=Ecl|Gender=Masc|NounType=Weak|Number=Plur' (124), 'FutInd__Mood=Ind|Tense=Fut' (120), 'Vb__PartType=Cmpl|Polarity=Neg' (118), 'Rel__Form=Indirect|PronType=Rel' (116), 'Cmp__PartType=Comp' (115), 'Noun__Definite=Def|Form=Len|VerbForm=Inf' (115), 'Noun__Case=Gen|Form=Len|Gender=Fem|Number=Sing' (111), 'VT__Mood=Ind|Person=0|Tense=Past' (109), 'Art__Number=Plur|PronType=Art' (109), 'Num__Form=Len|NumType=Card' (108), 'Vb__PartType=Vb' (107), 'Poss__Gender=Masc|Number=Sing|Person=3|Poss=Yes|PronType=Prs' (105), 'Noun__Case=Gen|Definite=Def|Form=Ecl|Gender=Masc|NounType=Strong|Number=Plur' (105), 'Pers__Number=Sing|Person=1' (105), 'Adj__Degree=Pos|Form=HPref' (99), 'Det__Number=Sing|Person=2|Poss=Yes' (98), 'Noun__Case=Nom|Form=Len|Gender=Fem|Number=Plur' (96), 'Noun__Definite=Def|Form=Len|Gender=Fem|Number=Sing' (94), 'Pers__Number=Sing|Person=2' (92), 'VI__Mood=Ind|Tense=Pres' (90), 'Noun__Case=Nom|Definite=Def|Form=HPref|Gender=Masc|Number=Plur' (87), 'Q__PronType=Int' (86), 'Sup__PartType=Sup' (84), 'Vb__PartType=Vb|Tense=Past' (84), 'Noun__Case=Nom|Definite=Def|Form=Len|Gender=Masc|Number=Plur' (82), 'Noun__Case=Gen|Definite=Def|Form=Ecl|Gender=Fem|NounType=Strong|Number=Plur' (77), 'Cond__Form=Ecl|Mood=Cnd' (77), 'VT__Mood=Ind|Tense=Pres' (76), 'Noun__Definite=Def' (76), 'Noun__Case=Nom|Definite=Def|Form=HPref|Gender=Fem|Number=Plur' (76), 'PresInd__Mood=Ind|Polarity=Neg|Tense=Pres' (75), 'Num__NumType=Ord' (75), 'VTI__Form=Len|Mood=Ind|Person=0|Tense=Pres' (73), 'Cmpd__Form=Ecl|PrepForm=Cmpd' (72), 'Adj__Case=Gen|Gender=Masc|Number=Sing' (71), 'FutInd__Form=Ecl|Mood=Ind|Tense=Fut' (70), 'Det__Number=Sing|Person=1|Poss=Yes' (69), 'Adj__Case=Nom|Form=Len|Gender=Masc|NounType=Slender|Number=Plur' (69), 'Temp' (67), 'Poss__Gender=Fem|Number=Sing|Person=3|Poss=Yes' (66), 'Num__Form=Len|NumType=Ord' (65), 'Det__Gender=Fem|Number=Sing|Person=3|Poss=Yes' (64), 'Adj__Case=Gen|Gender=Fem|Number=Sing' (63), 'Noun__Case=Dat|Gender=Fem|Number=Sing' (62), 'PastInd__Mood=Ind|Polarity=Neg|Tense=Past' (62), 'Subst__Case=Nom|Gender=Masc|Number=Sing' (60), 'Adj__Case=Gen|Gender=Masc|NounType=Strong|Number=Plur' (60), 'VTI__Form=Ecl|Mood=Ind|Person=0|Tense=Pres' (59), 'PresImp__Aspect=Hab|Form=Len|Mood=Ind|Tense=Pres' (58), 'Noun__Case=Dat|Definite=Def|Gender=Fem|Number=Sing' (58), 'Subst__Number=Sing' (56), 'FutInd__Form=Len|Mood=Ind|Tense=Fut' (54), 'Noun__Case=Nom|Form=Ecl|Gender=Masc|Number=Plur' (53), 'Noun__Case=Nom|Definite=Def|Form=Ecl|Gender=Masc|Number=Plur' (53), '!' (53), 'VTI__Mood=Imp|Number=Sing|Person=2' (52), 'Subord__VerbForm=Cop' (51), 'PresImp__Aspect=Hab|Mood=Ind|Tense=Pres' (49), 'VTI__Form=Ecl|Mood=Ind|Tense=Pres' (49), 'Noun__Case=Gen|Definite=Def|Gender=Masc|NounType=Weak|Number=Plur' (48), 'VTI__Form=Len|Mood=Ind|Tense=Fut' (48), 'Noun__Case=Gen|Gender=Fem|NounType=Weak|Number=Plur' (48), 'Poss__Number=Plur|Person=3|Poss=Yes|PronType=Prs' (47), 'Adj__Case=Gen|Gender=Fem|NounType=Strong|Number=Plur' (46), 'Cond__Form=Len|Mood=Cnd' (45), 'VTI__Mood=Ind|PronType=Rel|Tense=Pres' (45), 'Vb__PartType=Vb|Polarity=Neg|Tense=Past' (44), 'Pers__Number=Plur|Person=1' (43), 'Noun__Case=Nom|Definite=Def|Form=Len|Gender=Fem|Number=Plur' (43), 'Adj__Case=Gen|Form=Len|Gender=Masc|Number=Sing' (42), 'Noun__Form=Len|Gender=Masc|Number=Sing' (42), 'VT__Mood=Ind|Tense=Past' (41), 'PresInd__Form=Ecl|Mood=Ind|Polarity=Neg|Tense=Pres' (41), 'Noun__Case=Nom|Form=Ecl|Gender=Fem|Number=Plur' (41), 'Noun__Definite=Def|Form=Ecl|VerbForm=Inf' (40), 'VTI__Form=Ecl|Mood=Ind|Tense=Fut' (40), 'VT__Form=Ecl|Mood=Ind|Person=0|Tense=Pres' (40), 'VTI__Form=Len|Mood=Ind|Polarity=Neg|Tense=Past' (39), 'Cmpd__Case=Nom|Form=HPref|Gender=Fem|Number=Sing|PrepForm=Cmpd' (39), 'Noun__Case=Dat|Form=Ecl|Gender=Fem|Number=Sing' (38), 'VT__Form=Len|Mood=Ind|Tense=Past' (38), 'Adj__Case=Gen|Gender=Masc|NounType=Weak|Number=Plur' (37), 'Cmpd__Case=Nom|Form=Ecl|Gender=Masc|Number=Sing|PrepForm=Cmpd' (37), 'VTI__Form=Len|Mood=Cnd' (35), 'PresInd__Mood=Ind|Person=0|Tense=Pres' (35), 'Cop__PronType=Rel|Tense=Pres|VerbForm=Cop' (35), 'VI__Form=Direct|Mood=Ind|PronType=Rel|Tense=Pres' (35), 'Vb__Form=Direct|PartType=Vb|Polarity=Neg|PronType=Rel' (34), 'Noun__Case=Nom|Definite=Def|Form=HPref|Gender=Fem|Number=Sing' (33), 'VTI__Form=Ecl|Mood=Ind|Person=0|Tense=Fut' (33), 'Det__Number=Plur|Person=1|Poss=Yes' (33), 'Q__Number=Sing|PronType=Int' (31), 'Noun__Case=Nom|Definite=Def|Form=Ecl|Gender=Fem|Number=Plur' (31), 'Noun__Case=Gen|Definite=Def|Form=Ecl|Gender=Masc|Number=Sing' (31), 'Poss__Number=Plur|Person=1|Poss=Yes' (30), 'Noun__Case=Nom|Definite=Def|Form=HPref|Gender=Masc|Number=Sing' (30), 'Voc__PartType=Voc' (30), 'Noun__Case=Nom|Form=HPref|Gender=Masc|Number=Sing' (29), 'VI__Form=Ecl|Mood=Ind|Tense=Pres' (29), 'VT__Mood=Ind|Person=0|Tense=Pres' (29), 'Cmpd__Case=Dat|Gender=Masc|Number=Sing|PrepForm=Cmpd' (29), 'Det__Definite=Def|Form=Ecl' (29), 'PresInd__Form=Len|Mood=Ind|Tense=Pres' (28), 'Cmpd__Case=Nom|Form=Ecl|Gender=Fem|Number=Sing|PrepForm=Cmpd' (28), 'Cmpd__Case=Nom|Definite=Def|Gender=Masc|Number=Sing|PrepForm=Cmpd' (28), 'Noun__Case=Nom|Form=HPref|Gender=Fem|Number=Sing' (27), 'VTI__Form=Ecl|Mood=Cnd' (27), 'Det__Dialect=Munster|PronType=Dem' (27), 'Vb__Form=Indirect|PartType=Vb|PronType=Rel|Tense=Past' (27), 'Adj__Degree=Cmp,Sup|Form=Len' (26), 'Vb__PartType=Cmpl|Polarity=Neg|Tense=Past' (25), 'PastImp__Aspect=Imp|Form=Len|Tense=Past' (25), 'Poss__Gender=Fem|Number=Sing|Person=3|Poss=Yes|PronType=Prs' (25), 'PresImp__Aspect=Hab|Form=Ecl|Mood=Ind|Tense=Pres' (25), 'Subst__Case=Nom|Definite=Def|Form=Len|Number=Sing' (25), 'Noun__Case=Nom|Number=Sing' (25), 'Noun__Case=Gen|Definite=Def|Gender=Fem|NounType=Strong|Number=Plur' (25), 'VTI__Mood=Ind|Number=Plur|Person=1|Tense=Pres' (25), 'VI__Mood=Ind|Tense=Fut' (24), 'Noun__Case=Gen|Form=Len|Gender=Masc|NounType=Strong|Number=Plur' (24), 'Poss__Poss=Yes' (24), 'VT__Mood=Ind|Tense=Fut' (24), 'Cmpd__Case=Nom|Form=Len|Gender=Masc|Number=Sing|PrepForm=Cmpd' (24), 'VTI__Form=Len|Mood=Ind|Person=0|Tense=Fut' (23), 'Cmpd__Case=Nom|Form=Ecl|Number=Sing|PrepForm=Cmpd' (23), 'Noun__Case=Gen|Definite=Def|Gender=Masc|NounType=Strong|Number=Plur' (23), 'Adj__Form=Len|VerbForm=Part' (23), 'VI__Mood=Ind|Tense=Past' (22), 'Subst' (22), 'VT__Form=Len|Mood=Ind|Tense=Pres' (22), 'Subst__Case=Nom|Definite=Def|Number=Sing' (21), 'Cop__Form=VF|Tense=Pres|VerbForm=Cop' (21), 'Noun__Case=Gen|VerbForm=Inf' (21), 'VTI__Form=Ecl|Mood=Cnd|Person=0' (21), 'Noun__Case=Gen|Definite=Def|Gender=Masc' (21), 'Noun__Case=Gen|Definite=Def|Form=Ecl|Gender=Fem|NounType=Weak|Number=Plur' (21), 'VTI__Mood=Ind|Number=Plur|Person=1|Tense=Fut' (21), 'FutInd__Form=Len|Mood=Ind|Polarity=Neg|Tense=Fut' (20), 'Cop__Polarity=Neg|PronType=Rel|Tense=Pres|VerbForm=Cop' (20), 'PRON__PronType=Rel' (20), 'Cop__Mood=Cnd|VerbForm=Cop' (20), 'Noun__Foreign=Yes' (19), 'Cmpd__Case=Dat|Gender=Fem|Number=Sing|PrepForm=Cmpd' (19), 'Adj__Case=Nom|Form=Len|Gender=Masc|Number=Sing' (19), 'VTI__Mood=Ind|Number=Sing|Person=1|Tense=Pres' (19), 'VI__Form=Ecl|Mood=Cnd' (19), 'PresInd__Mood=Ind|Number=Plur|Person=1|Tense=Pres' (19), 'DET__Gender=Masc|Number=Sing|Person=3|Poss=Yes' (19), 'Adj' (19), 'PresInd__Form=Ecl|Mood=Ind|Person=0|Tense=Pres' (18), 'Cop__PronType=Rel|Tense=Past|VerbForm=Cop' (18), 'Prep__Number=Sing|Person=1|PronType=Emp' (18), 'VT__Mood=Ind|Person=0|Tense=Fut' (17), 'Dem__Form=Len|PronType=Dem' (17), 'Noun__Case=Nom|Form=HPref|Gender=Fem|Number=Plur' (17), 'FutInd__Mood=Ind|Person=0|Tense=Fut' (17), 'Web' (17), 'Cop__Polarity=Neg|Tense=Past|VerbForm=Cop' (16), 'Nm__PartType=Num' (16), 'PastInd__Mood=Ind|Person=0|Tense=Past' (16), 'Vb__Form=Indirect|PartType=Vb|Polarity=Neg|PronType=Rel' (15), 'Noun__Case=Voc|Definite=Def|Form=Len|Gender=Masc|Number=Sing' (15), 'Pers__Gender=Masc|Number=Sing|Person=3|PronType=Emp' (15), 'VTI__Form=Len|Mood=Ind|Polarity=Neg|Tense=Fut' (15), 'Vb__Form=Direct|PartType=Vb|Polarity=Neg|PronType=Rel|Tense=Past' (15), 'Noun__Case=Gen|Definite=Ind|Gender=Masc|NounType=Strong|Number=Plur' (15), 'Pers__Number=Sing|Person=3' (14), 'Noun__Case=Nom|Definite=Def|Gender=Masc|Number=Sing|Typo=Yes' (14), 'Noun__Case=Nom|Form=HPref|Gender=Masc|Number=Plur' (14), 'Noun__Case=Nom|Gender=Masc|Number=Sing|Typo=Yes' (14), 'Subst__Case=Nom|Form=Len|Number=Sing' (14), 'Noun__Case=Nom|Definite=Def|Gender=Masc' (14), 'Rel__Form=Indirect|PronType=Rel|Tense=Past' (14), 'Num__Form=Ecl|NumType=Ord' (14), 'Cop__Mood=Int|Polarity=Neg|Tense=Pres|VerbForm=Cop' (13), 'VTI__Form=Ecl|Mood=Ind|Polarity=Neg|Tense=Pres' (13), 'Idf__PronType=Ind' (13), 'Noun__Foreign=Yes|Number=Sing' (13), 'VTI__Mood=Cnd' (13), 'Cop__Form=VF|Tense=Past|VerbForm=Cop' (13), 'Pers__Number=Sing|Person=1|PronType=Emp' (13), 'Noun__Form=HPref|VerbForm=Inf' (13), 'VI__Mood=Ind|Polarity=Neg|Tense=Pres' (13), 'X__Foreign=Yes' (13), 'Noun__Definite=Def|Gender=Masc|Number=Plur' (13), 'VT__Form=Ecl|Mood=Ind|Tense=Fut' (13), 'Det__Gender=Fem,Masc|Number=Sing|Person=3|Poss=Yes' (13), 'VI__Form=Len|Mood=Ind|Tense=Fut' (12), 'Subst__Definite=Def|Number=Sing' (12), 'Dem__Dialect=Munster|PronType=Dem' (12), 'Vb__Mood=Imp|PartType=Vb|Polarity=Neg' (12), 'VTI__Mood=Ind|Person=0|Polarity=Neg|Tense=Past' (12), 'Sup__PartType=Sup|Tense=Past|VerbForm=Cop' (12), 'Prep__Number=Plur|Person=2' (12), 'VTI__Form=Ecl|Mood=Ind|Tense=Past' (12), 'Cmpd__Case=Nom|Form=Len|Gender=Fem|Number=Sing|PrepForm=Cmpd' (12), 'Subst__Case=Nom|Form=Len|Gender=Masc|Number=Sing' (12), 'Abr__Abbr=Yes|Case=Nom|Gender=Masc|Number=Sing' (12), 'VTI__Form=Len|Mood=Ind|Polarity=Neg|Tense=Pres' (11), 'VD__Form=Len|Mood=Ind|Tense=Past' (11), 'VTI__Aspect=Imp|Form=Len|Tense=Past' (11), 'Noun__Case=Nom|Gender=Fem|Number=Sing|Typo=Yes' (11), 'VT__Form=Len|Mood=Ind|Person=0|Tense=Pres' (11), 'Det__Definite=Def|Form=Len' (11), 'Cop__Mood=Int|Tense=Pres|VerbForm=Cop' (11), 'Vb__PartType=Inf' (11), 'VI__Form=Len|Mood=Ind|Tense=Pres' (11), 'VT__Mood=Ind|Number=Plur|Person=1|Tense=Pres' (11), 'VI__Mood=Ind|Polarity=Neg|Tense=Past' (10), 'ADV' (10), 'Pers__Form=HPref|Gender=Masc|Number=Sing|Person=3' (10), 'Adj__Case=Nom|Gender=Masc|Number=Sing|Typo=Yes' (10), 'Cop__Form=VF|Polarity=Neg|Tense=Past|VerbForm=Cop' (10), 'Noun__Case=Gen|Definite=Def|Form=Len|Gender=Masc' (10), 'Noun__Case=Gen|Definite=Def|Gender=Fem' (10), 'Abr__Abbr=Yes|Definite=Def' (10), 'Adj__Gender=Masc|Number=Sing' (10), 'Itj' (10), 'Noun__Definite=Def|VerbForm=Vnoun' (10), 'Noun__Case=Gen|Form=Len|Gender=Masc|NounType=Weak|Number=Plur' (10), 'Cmpd__Case=Nom|Definite=Def|Form=HPref|Gender=Fem|Number=Sing|PrepForm=Cmpd' (9), 'FutInd__Form=Ecl|Mood=Ind|Polarity=Neg|Tense=Fut' (9), 'Cond__Form=Ecl|Mood=Cnd|Polarity=Neg' (9), 'VTI__Mood=Ind|Polarity=Neg|Tense=Past' (9), 'VT__Mood=Imp|Number=Sing|Person=2' (9), 'Simp__Dialect=Ulster|Gender=Masc|Number=Sing|Person=3' (9), '...' (9), 'Cmpd__Case=Nom|Definite=Def|Gender=Fem|Number=Sing|PrepForm=Cmpd' (9), 'PastImp__Aspect=Imp|Form=Ecl|Tense=Past' (9), 'Noun__Case=Gen|Gender=Masc|Number=Sing|Typo=Yes' (8), 'Comp__PartType=Comp' (8), 'Det__Form=HPref|PronType=Ind' (8), 'Noun__Case=Nom|Gender=Masc|Number=Plur|Typo=Yes' (8), 'Prep__Number=Plur|Person=1|PronType=Emp' (8), 'Num__Form=Ecl|NumType=Card' (8), 'Pers__Number=Plur|Person=3|PronType=Emp' (8), 'Pers__Number=Plur|Person=2' (8), 'VT__Form=Len|Mood=Ind|Tense=Fut' (8), 'Noun__Form=Len|VerbForm=Vnoun' (8), 'Poss__Gender=Fem,Masc|Number=Sing|Person=3|Poss=Yes' (8), 'Num__Form=HPref|NumType=Card' (7), 'Pers__Number=Sing|Person=2|PronType=Emp' (7), 'VI__Form=Ecl|Mood=Ind|Tense=Fut' (7), 'Noun__Definite=Def|Number=Sing' (7), 'VTI__Form=Ecl|Mood=Ind|Person=0|Polarity=Neg|Tense=Pres' (7), 'Art__Case=Gen|Definite=Def|Gender=Fem|Number=Plur|PronType=Art' (7), 'Noun__Case=Gen|Definite=Def|Form=Ecl|Gender=Fem|Number=Sing' (7), 'VI__Form=Len|Mood=Ind|Polarity=Neg|Tense=Past' (7), 'PresInd__Mood=Ind|Number=Sing|Person=1|Tense=Pres' (7), 'Coord__Typo=Yes' (7), 'VTI__Mood=Ind|Polarity=Neg|Tense=Pres' (7), 'Cmpd__Case=Dat|Definite=Def|Gender=Fem|Number=Sing|PrepForm=Cmpd' (7), 'Noun__Case=Dat|Definite=Def|Form=HPref|Gender=Fem|Number=Sing' (7), 'VERB__Mood=Ind|Number=Plur|Person=1|Tense=Pres' (7), 'Adj__Case=Gen|Gender=Fem|NounType=Weak|Number=Plur' (7), 'NUM' (7), 'VTI__Aspect=Imp|Form=Len|Person=0|Tense=Past' (6), 'Noun__Case=Gen|Definite=Def|Gender=Fem|Number=Sing|Typo=Yes' (6), 'VTI__Form=Len|Mood=Cnd|Person=0' (6), 'Noun__Case=Gen|Gender=Fem|Number=Sing|Typo=Yes' (6), 'VTI__Form=Len|Mood=Ind|Number=Sing|Person=1|Tense=Past' (6), 'Noun__Case=Gen|Definite=Ind|Gender=Fem|Number=Sing' (6), 'VTI__Form=Len|Mood=Ind|Person=0|Polarity=Neg|Tense=Fut' (6), 'Pers__Form=Len|Number=Sing|Person=2' (6), 'Cop__Gender=Masc|Number=Sing|Person=3|Tense=Pres|VerbForm=Cop' (6), 'Noun__Case=Gen|Definite=Def|VerbForm=Inf' (6), 'Subst__Case=Nom|Gender=Fem|Number=Sing' (6), 'ADP__PronType=Rel' (6), 'Noun__Form=Len|Typo=Yes|VerbForm=Inf' (6), 'Pat__Form=Len|PartType=Pat' (6), 'VTI__Form=Len|Mood=Ind|Number=Sing|Person=1|Tense=Pres' (6), 'AUX__Tense=Pres|VerbForm=Cop' (6), 'Noun__Case=Gen|Form=Len|Gender=Fem|NounType=Strong|Number=Plur' (6), 'Noun__Case=Voc|Definite=Def|Gender=Masc|Number=Sing' (6), 'Det__Number=Plur|Person=2|Poss=Yes' (6), 'Adj__Case=Nom|Gender=Masc|Number=Plur' (6), 'Foreign__Case=Nom|Foreign=Yes|Gender=Masc|Number=Sing' (6), 'DET__Number=Sing|Person=2|Poss=Yes' (6), 'VERB__Mood=Imp|Number=Sing|Person=2' (5), 'Noun__Case=Nom|Definite=Def|Form=Len|VerbForm=Inf' (5), 'Noun__Typo=Yes|VerbForm=Inf' (5), 'Cop__Polarity=Neg|PronType=Rel|Tense=Past|VerbForm=Cop' (5), 'VI__Form=Len|Mood=Cnd' (5), 'Noun' (5), 'VT__Form=Ecl|Mood=Ind|Tense=Past' (5), 'Noun__Form=Ecl|VerbForm=Inf' (5), 'Subst__Case=Nom|Form=Ecl|Number=Sing' (5), 'Noun__Foreign=Yes|Gender=Masc|Number=Sing' (5), 'VTI__Form=Ecl|Mood=Ind|Polarity=Neg|Tense=Past' (5), 'VI__Aspect=Hab|Mood=Ind|Tense=Pres' (5), 'Cop__Form=VF|PronType=Rel|Tense=Past|VerbForm=Cop' (5), 'Noun__Case=Nom|Definite=Def|Gender=Masc|Number=Sing|VerbForm=Inf' (5), 'ADP__Gender=Masc|Number=Sing|Person=3|Poss=Yes' (5), 'Art__PronType=Art' (5), 'PastInd__Form=Len|Mood=Ind|Number=Sing|Person=1|Tense=Past' (5), 'PresImp__Aspect=Hab|Form=Len|Mood=Ind|Polarity=Neg|Tense=Pres' (5), 'Prep__Form=Len|Number=Plur|Person=3' (5), 'Noun__Case=Gen|Definite=Def|Form=Len|VerbForm=Inf' (5), 'VTI__Aspect=Imp|Tense=Past' (5), 'Cmpd__Case=Nom|Definite=Def|Form=Len|Gender=Fem|Number=Sing|PrepForm=Cmpd' (5), 'VD__Form=Len|Mood=Ind|Polarity=Neg|Tense=Past' (5), 'Noun__Gender=Masc|Number=Sing' (5), 'Pers__Gender=Fem|Number=Sing|Person=3|PronType=Emp' (5), 'Q' (5), 'Noun__Case=Nom|Gender=Masc' (5), 'VTI__Form=Ecl|Mood=Cnd|Polarity=Neg' (5), 'Adj__Case=Nom|Number=Sing' (5), 'VI__Aspect=Imp|Form=Len|Tense=Past' (5), 'PART__PartType=Inf' (5), 'Imper__Mood=Imp|Number=Sing|Person=3' (5), 'PresInd__Mood=Ind|PronType=Rel|Tense=Pres' (5), 'ADP' (5), 'Prep__Number=Sing|Person=2|PronType=Emp' (5), 'Subord__Tense=Pres|VerbForm=Cop' (5), 'VTI__Mood=Ind|Person=0|Polarity=Neg|Tense=Pres' (5), 'FutInd__Form=Ecl|Mood=Ind|Person=0|Tense=Fut' (5), 'Subst__Case=Gen|Definite=Def|Form=Len|Gender=Masc|Number=Sing' (5), 'Noun__Abbr=Yes' (5), 'Noun__Case=Nom|Definite=Def|Gender=Fem|Number=Sing|Typo=Yes' (4), 'VTI__Form=Len|Mood=Ind|Number=Plur|Person=3|Tense=Past' (4), 'Noun__Case=Dat|Gender=Masc|Number=Sing' (4), 'Noun__Case=Dat|Definite=Def|Gender=Masc|Number=Sing' (4), 'VT__Form=Len|Mood=Cnd' (4), 'Det__Definite=Def|Dialect=Ulster' (4), 'PastInd__Form=Len|Mood=Ind|Polarity=Neg|Tense=Past' (4), 'Foreign__Definite=Def|Foreign=Yes' (4), 'Subord__Tense=Past|VerbForm=Cop' (4), 'Cop__Mood=Int|Polarity=Neg|Tense=Past|VerbForm=Cop' (4), 'Web__Abbr=Yes' (4), 'VTI__Form=Ecl|Mood=Cnd|Number=Sing|Person=1' (4), 'VTI__Mood=Cnd|Number=Sing|Person=1' (4), 'VT__Form=Len|Mood=Ind|Person=0|Tense=Fut' (4), 'Noun__Case=Nom|Definite=Def|Number=Sing' (4), 'Subst__Case=Nom|Definite=Def|Gender=Masc|Number=Sing' (4), 'VTI__Form=Len|Mood=Cnd|Number=Sing|Person=2' (4), 'PastInd__Form=Len|Mood=Ind|Number=Plur|Person=3|Tense=Past' (4), 'PastInd__Mood=Ind|Number=Plur|Person=1|Tense=Past' (4), 'Imper__Mood=Imp|Number=Sing|Person=2' (4), 'INTJ' (4), 'VI__Mood=Ind|Number=Sing|Person=1|Tense=Pres' (4), 'Cmpd__Case=Nom|Form=HPref|Number=Sing|PrepForm=Cmpd' (4), 'Ref__Form=Len|Reflex=Yes' (4), 'VTI__Form=Emp|Mood=Ind|Number=Sing|Person=1|Tense=Pres' (4), 'Noun__Case=Nom|Definite=Def|Form=Len|Gender=Masc|Number=Sing|Typo=Yes' (4), 'Noun__Case=Nom|Definite=Def' (4), 'Cop__Form=Ecl|Tense=Past|VerbForm=Cop' (4), 'Noun__Case=Nom|Definite=Def|Form=Ecl|Gender=Masc|Number=Sing|Typo=Yes' (4), 'VTI__Mood=Imp|Number=Sing|Person=2|Polarity=Neg' (4), 'Noun__Case=Nom|Definite=Def|Gender=Masc|Number=Plur|Typo=Yes' (4), 'Adj__Form=Len|Gender=Fem|Number=Sing' (4), 'Adj__Degree=Pos|Typo=Yes' (4), 'VI__Form=Ecl|Mood=Ind|Tense=Past' (4), 'Noun__Case=Dat|Definite=Def|Form=Len|Gender=Fem|Number=Sing' (4), 'VT__Mood=Ind|Person=0|Polarity=Neg|Tense=Past' (4), 'Noun__Definite=Def|Form=HPref|Gender=Masc|Number=Sing' (4), 'Subst__Case=Nom|Definite=Def|Form=Ecl|Gender=Fem|Number=Sing' (4), 'Noun__Case=Gen|Definite=Def|Form=Len|Gender=Masc|NounType=Strong|Number=Plur' (4), 'Cond__Form=Len|Mood=Cnd|Polarity=Neg' (4), 'VTI__Form=Ecl|Mood=Cnd|Number=Sing|Person=2' (4), 'FutInd__Form=Len|Mood=Ind|PronType=Rel|Tense=Fut' (4), 'DET__Number=Plur|Person=3|Poss=Yes' (4), 'VERB__Form=Len|Mood=Ind|Tense=Past' (4), 'PART__PartType=Cmpl' (4), 'VTI__Form=Ecl|Mood=Ind|Person=0|Tense=Past' (4), 'Subord__Form=VF|VerbForm=Cop' (4), 'Cmpd' (4), 'VTI__Form=Ecl|Mood=Ind|Person=0|Polarity=Neg|Tense=Fut' (4), 'Noun__Definite=Def|Form=Len|VerbForm=Vnoun' (4), 'VERB__Mood=Ind|Person=0|Tense=Past' (4), 'PastImp__Aspect=Imp|Form=Ecl|Number=Sing|Person=1|Tense=Past' (3), 'VTI__Aspect=Imp|Form=Len|Number=Plur|Person=3|Tense=Past' (3), 'Noun__Case=Nom|Foreign=Yes|Gender=Masc|Number=Sing' (3), 'PresInd__Form=Len|Mood=Ind|Person=0|Tense=Pres' (3), 'Adj__Case=Nom|Form=Len|Gender=Masc|NounType=NotSlender|Number=Plur' (3), 'Noun__Case=Nom|Definite=Def|Number=Plur' (3), 'Adj__Typo=Yes|VerbForm=Part' (3), 'VTI__Dialect=Munster|Mood=Ind|Person=0|Tense=Past' (3), 'Noun__Case=Nom|Gender=Fem|Number=Plur|Typo=Yes' (3), 'VTI__Form=Len|Mood=Cnd|Number=Sing|Person=1' (3), 'Noun__Case=Nom|Definite=Ind|Gender=Masc|Number=Plur' (3), 'VTI__Form=Len|Mood=Ind|Person=0|Tense=Past' (3), 'VTI__Form=Ecl|Mood=Ind|Number=Sing|Person=1|Tense=Pres' (3), 'Adj__Case=Nom|Gender=Masc|NounType=NotSlender|Number=Plur|Typo=Yes' (3), 'Noun__Case=Voc|Definite=Def|Form=Len|Gender=Masc|Number=Plur' (3), 'VTI__Dialect=Munster|Form=Len|Mood=Ind|Tense=Past' (3), 'VTI__Mood=Imp|Number=Plur|Person=1' (3), 'VTI__Form=Len|Mood=Ind|PronType=Rel|Tense=Pres' (3), 'Deg__PartType=Deg' (3), 'Pers__Number=Plur|Person=1|PronType=Emp' (3), 'FutInd__Mood=Ind|Tense=Fut|Typo=Yes' (3), 'Pers__Form=HPref|Number=Plur|Person=3' (3), 'Noun__Case=Nom|Definite=Def|VerbForm=Inf' (3), 'Cmpd__Case=Nom|Definite=Def|Number=Sing|PrepForm=Cmpd' (3), 'VTI__Form=Ecl|Mood=Cnd|Person=0|Polarity=Neg' (3), 'VTI__Mood=Ind|Person=0|Tense=Pres|Typo=Yes' (3), 'Its__Form=Len' (3), 'FutInd__Form=Len|Mood=Ind|Person=0|Tense=Fut' (3), 'Subst__Case=Nom|Definite=Def|Form=Ecl|Number=Sing' (3), 'Noun__Case=Dat|Definite=Def|Form=Len|Gender=Masc|Number=Sing' (3), 'Noun__Case=Nom|Definite=Def|Dialect=Munster|Gender=Masc|Number=Sing' (3), 'Noun__Case=Nom|Definite=Def|Form=Len|Gender=Fem|Number=Sing|Typo=Yes' (3), 'SCONJ' (3), 'VTI__Form=Len|Mood=Ind|Person=0|Polarity=Neg|Tense=Pres' (3), 'Simp__Form=Len' (3), 'Simp__Typo=Yes' (3), 'Sup__Number=Sing|PartType=Comp' (3), 'ADJ__Case=Nom|Form=Len|Gender=Masc|NounType=Slender|Number=Plur' (3), 'Noun__Definite=Def|Form=HPref|VerbForm=Inf' (3), 'Cond__Form=Ecl|Mood=Cnd,Int' (3), 'VTI__Form=Len|Mood=Ind|Number=Plur|Person=1|Tense=Pres' (3), 'Subord__Tense=Past' (3), 'Subst__Form=Ecl|Number=Sing' (3), 'VI__Form=Ecl|Mood=Ind|Polarity=Neg|Tense=Pres' (3), 'VT__Form=Len|Mood=Ind|PronType=Rel|Tense=Pres' (3), 'VT__Mood=Ind|Polarity=Neg|Tense=Pres' (3), 'VT__Form=Ecl|Mood=Cnd|Person=0' (3), 'VTI__Mood=Cnd|Number=Sing|Person=2' (3), 'Adj__Case=Nom|Gender=Fem|NounType=Slender|Number=Plur' (3), 'Noun__Definite=Def|Foreign=Yes|Gender=Masc|Number=Sing' (3), 'FutInd__Form=Ecl|Mood=Ind|Number=Plur|Person=1|Tense=Fut' (3), 'Noun__Typo=Yes|VerbForm=Vnoun' (3), 'VTI__Form=Len|Mood=Cnd|Polarity=Neg' (3), 'Noun__Definite=Def|Form=HPref|VerbForm=Vnoun' (3), 'Cop__Form=VF|Mood=Int|Tense=Past|VerbForm=Cop' (3), 'Cond__Mood=Cnd|Number=Sing|Person=2' (3), 'Prep__Form=Len|Gender=Masc|Number=Sing|Person=3' (3), 'Noun__Case=Nom|Form=Len|Gender=Masc|Number=Sing|Typo=Yes' (3), 'ADJ__Degree=Pos' (3), 'VTI__Form=Ecl|Mood=Ind|Polarity=Neg|Tense=Fut' (3), 'VT__Form=Len|Mood=Ind|Polarity=Neg|Tense=Pres' (3), 'Noun__Case=Nom|Definite=Def|Form=Ecl|Gender=Masc' (3), 'NUM__NumType=Ord' (3), 'PART__PartType=Deg' (3), 'VI__Mood=Ind|Person=0|Tense=Past' (3), 'VTI__Mood=Ind|Number=Plur|Person=1|Tense=Past' (3), 'Noun__Definite=Def|Form=Ecl|VerbForm=Vnoun' (3), 'Subst__Case=Nom|Gender=Masc|Number=Plur' (3), 'PresInd__Form=Len|Mood=Ind|Number=Sing|Person=1|Polarity=Neg|Tense=Pres' (2), 'Prep__Number=Plur|Person=3|PronType=Emp' (2), 'VTI__Form=Len|Mood=Ind|Tense=Pres|Typo=Yes' (2), 'Prep__Form=Len|Number=Plur|Person=1' (2), 'Imper__Form=Len|Mood=Ind|Person=0|Tense=Pres' (2), 'DET__PronType=Ind' (2), 'Cop__Form=VF|Polarity=Neg|PronType=Rel|Tense=Past|VerbForm=Cop' (2), 'Noun__Case=Nom|Definite=Def|Form=Emp|Gender=Masc|Number=Sing' (2), 'Noun__Case=Dat|Gender=Fem|Number=Plur' (2), 'VTI__Aspect=Imp|Form=Ecl|Tense=Past' (2), 'Noun__Definite=Def|Form=Len' (2), 'VI__Aspect=Imp|Form=Ecl|Tense=Past' (2), 'ADP__Gender=Fem|Number=Sing|Person=3' (2), 'VERB__Form=Len|Mood=Ind|Number=Sing|Person=1|Polarity=Neg|Tense=Pres' (2), 'ADJ__Case=Gen|Form=Len|Gender=Masc|Number=Sing' (2), 'PastInd__Mood=Ind|Number=Sing|Person=1|Tense=Past' (2), 'VD__Form=Ecl|Mood=Ind|Tense=Fut' (2), 'Noun__Case=Voc|Definite=Def|Form=Len|Gender=Fem' (2), 'Noun__Case=Nom|Dialect=Munster|Gender=Masc|Number=Sing' (2), 'Cond__Form=Len|Mood=Cnd|Number=Sing|Person=2' (2), 'PastInd__Mood=Ind|Person=0|Polarity=Neg|Tense=Past' (2), 'VI__Form=Len|Mood=Ind|Number=Plur|Person=3|Tense=Past' (2), 'Noun__Case=Nom|Definite=Def|Form=Len|Gender=Masc|Number=Plur|Typo=Yes' (2), 'Noun__Case=Nom|Definite=Def|Form=Emp,Len|Gender=Fem|Number=Sing' (2), 'Cond__Form=Ecl|Mood=Cnd|Person=0|Polarity=Neg' (2), 'Prep__Form=Len|Number=Sing|Person=1' (2), 'VTI__Dialect=Munster|Mood=Imp|Number=Sing|Person=2|Polarity=Neg' (2), 'PastInd__Form=Ecl|Mood=Ind|Polarity=Neg|Tense=Past' (2), 'FutInd__Mood=Ind|PronType=Rel|Tense=Fut|Typo=Yes' (2), 'VT__Form=Ecl|Mood=Ind|Tense=Pres' (2), 'VT__Mood=Ind|Number=Sing|Person=1|Tense=Pres' (2), 'Noun__Case=Gen|Definite=Def|Form=Len|Gender=Fem' (2), 'PresInd__Form=Ecl|Mood=Ind|Number=Plur|Person=1|Tense=Pres' (2), 'Vb__Form=Ecl,Indirect|PartType=Vb|PronType=Rel' (2), 'Noun__Case=Gen|Form=Len|VerbForm=Inf' (2), 'VI__Form=Len|Mood=Ind|Polarity=Neg|Tense=Fut' (2), 'VT__Mood=Cnd|Polarity=Neg' (2), 'Idf__Form=Len|PronType=Ind' (2), 'VTI__Aspect=Imp|Form=Len|Number=Sing|Person=1|Tense=Past' (2), 'VI__Form=Len|Mood=Cnd|Polarity=Neg' (2), 'Item__Case=Nom' (2), 'VI__Form=Len|Mood=Cnd|Number=Sing|Person=1' (2), 'VTI__Form=Len|Mood=Ind|Number=Sing|Person=1|Polarity=Neg|Tense=Pres' (2), 'Cmpd__Case=Nom|Definite=Def|Form=Ecl|Gender=Fem|Number=Sing|PrepForm=Cmpd' (2), 'Noun__Definite=Def|Form=HPref' (2), 'Noun__Case=Nom|Definite=Def|Gender=Fem|Number=Plur|Typo=Yes' (2), 'Cop__PronType=Dem|Tense=Pres|VerbForm=Cop' (2), 'Vb__Mood=Sub|PartType=Vb' (2), 'VTI__Form=Ecl|Mood=Sub|Tense=Pres' (2), 'Subst__Case=Nom|Definite=Def|Gender=Fem|Number=Sing' (2), 'CCONJ' (2), 'VT__Form=Len|Mood=Ind|Polarity=Neg|Tense=Past' (2), 'VTI__Mood=Ind|Number=Sing|Person=1|Tense=Fut' (2), 'Noun__Case=Gen|Typo=Yes|VerbForm=Inf' (2), 'Cond__Form=Len|Mood=Cnd|Person=0' (2), 'Noun__Definite=Def|Form=Ecl|Gender=Masc|Number=Sing' (2), 'VERB__Mood=Ind|Tense=Pres' (2), 'Noun__Definite=Def|Gender=Fem' (2), 'VTI__Form=Len|Mood=Ind|Number=Plur|Person=1|Tense=Past' (2), 'Adj__Case=Nom|Form=Len|Gender=Masc|NounType=Slender|Number=Plur|Typo=Yes' (2), 'Noun__Definite=Def|Gender=Fem|Number=Plur' (2), 'PastInd__Form=Len|Mood=Ind|Person=0|Tense=Past' (2), 'Cond__Mood=Cnd|Person=0' (2), 'FutInd__Mood=Ind|Number=Plur|Person=1|Tense=Fut' (2), 'Noun__Definite=Def|Foreign=Yes|Number=Sing' (2), 'VI__Form=Ecl|Mood=Cnd|Polarity=Neg' (2), 'Simp__PronType=Art' (2), 'PresInd__Form=Len|Mood=Ind|Person=0|Polarity=Neg|Tense=Pres' (2), 'Noun__Definite=Def|Gender=Masc|Number=Sing|Typo=Yes' (2), 'VT__Form=Ecl|Mood=Ind|Person=0|Tense=Fut' (2), 'Subst__Case=Nom|Definite=Def|Form=Len|Gender=Fem|Number=Sing' (2), 'VTI__Form=Ecl|Mood=Ind|Number=Sing|Tense=Pres' (2), 'Subst__Case=Nom|Definite=Def|Form=Ecl' (2), 'VI__Form=Ecl|Mood=Ind|Polarity=Neg|Tense=Fut' (2), 'VTI__Mood=Ind|Polarity=Neg|Tense=Fut' (2), 'Noun__Case=Voc|Definite=Def|Form=Len|Gender=Fem|Number=Sing' (2), 'VT__Form=Len|Mood=Ind|Number=Plur|Person=1|Tense=Past' (2), 'VTI__Form=Ecl|Mood=Ind|Person=0|Polarity=Neg|Tense=Past' (2), 'Imper__Mood=Imp|Number=Plur|Person=2' (2), 'Noun__Case=Nom|Definite=Def|Form=Ecl|Gender=Fem|Number=Sing|Typo=Yes' (2), 'Noun__Case=Voc|Definite=Def|Form=Len|Gender=Masc' (2), 'Noun__Case=Nom|Definite=Def|Form=Len|Gender=Masc|Number=Sing|VerbForm=Inf' (2), 'ADV__Typo=Yes' (2), 'Adj__Case=Nom|Form=Len|Gender=Masc|Number=Plur' (2), 'Noun__Definite=Def|Form=Len|Gender=Masc|Number=Plur' (2), 'PresImp__Aspect=Hab|Mood=Ind|Number=Sing|Person=1|Tense=Pres' (2), 'Sup__Form=VF|PartType=Sup' (2), 'VT__Mood=Imp|Number=Sing|Person=3' (2), 'Abr__Abbr=Yes|Definite=Def|Form=Ecl' (2), 'PART__Form=Indirect|PronType=Rel' (2), 'VTI__Form=Ecl|Mood=Cnd,Int|Number=Sing|Person=1' (2), 'PresInd__Form=Emp|Mood=Ind|Number=Sing|Person=1|Tense=Pres' (2), 'Ref__Definite=Def|Reflex=Yes' (2), 'PresInd__Form=Direct|Mood=Ind|Person=0|PronType=Rel|Tense=Pres' (2), 'Adj__Number=Sing' (2), 'VI__Form=Len|Mood=Ind|PronType=Rel|Tense=Fut' (2), 'FutInd__Form=Len|Mood=Ind|Person=0|Polarity=Neg|Tense=Fut' (2), 'PresImp__Aspect=Hab|Form=Len|Mood=Ind|Number=Plur|Person=1|Tense=Pres' (2), 'Adj__Gender=Fem|Number=Sing' (2), 'Noun__Case=Nom|VerbForm=Inf' (2), 'DET__PronType=Dem' (2), 'VERB__Form=Len|Mood=Ind|Number=Plur|Person=1|Tense=Pres' (2), 'Subst__Case=Nom|Definite=Def|Form=Len|Gender=Masc|Number=Sing' (2), 'Subst__Case=Nom|Form=Ecl|Gender=Masc|Number=Plur' (2), 'Web__Foreign=Yes' (2), 'Noun__Case=Nom|Definite=Def|Form=Len' (2), 'VI__Aspect=Hab|Mood=Ind|Number=Sing|Person=1|Tense=Pres' (2), 'Adj__Case=Nom|Form=Len|Gender=Fem|Number=Sing|Typo=Yes' (2), 'punct' (2), 'Cmp__Form=VF|PartType=Comp' (2), 'Vb__PartType=Deg' (2), 'ADP__Gender=Masc|Number=Sing|Person=3' (2), 'PROPN__Case=Gen|Definite=Def|Gender=Fem|Number=Sing|Typo=Yes' (2), 'VTI__Form=Len|Mood=Imp|Number=Sing|Person=2' (2), 'Subst__Case=Gen|Gender=Masc|Number=Sing' (2), 'VTI__Aspect=Hab|Mood=Ind|Number=Plur|Person=1|Tense=Pres' (2), 'Noun__Case=Nom|Form=Ecl|Gender=Fem|Number=Plur|Typo=Yes' (2), 'Noun__Abbr=Yes|Case=Nom|Gender=Masc|Number=Sing' (2), 'VT__Mood=Ind|Person=0|Polarity=Neg|Tense=Fut' (2), 'Subst__Case=Nom|Definite=Def|Form=Ecl|Gender=Masc|Number=Sing' (2), 'VI__Form=Direct,Emp|Mood=Ind|Number=Sing|Person=1|PronType=Rel|Tense=Pres' (1), 'Cmpd__Case=Nom|Gender=Fem|Number=Sing|PrepForm=Cmpd|Typo=Yes' (1), 'Noun__Case=Dat|Form=Ecl|Gender=Masc|Number=Sing' (1), 'Noun__Case=Gen|Definite=Def|Gender=Masc|NounType=Weak|Number=Plur|Typo=Yes' (1), 'Prep__Dialect=Munster' (1), 'Adj__Case=Nom|Form=Ecl|Gender=Masc|Number=Sing' (1), 'VI__Mood=Cnd|Polarity=Neg' (1), 'VI__Form=Ecl|Mood=Cnd|Number=Sing|Person=1' (1), 'VTI__Form=Len|Mood=Sub|Tense=Pres' (1), 'DET__PronType=Dem|Typo=Yes' (1), 'PART__PartType=Ad' (1), 'VTI__Aspect=Imp|Person=0|Tense=Past' (1), 'VT__Form=Ecl|Mood=Cnd' (1), 'Noun__Case=Gen|Definite=Def|Number=Plur' (1), 'Noun__Case=Gen|Definite=Def|Number=Sing' (1), 'VT__Form=HPref|Mood=Ind|Person=0|Tense=Past' (1), 'VTI__Form=HPref|Mood=Ind|Person=0|Tense=Pres' (1), 'VTI__Form=Emp|Mood=Ind|Number=Plur|Person=1|Tense=Pres' (1), 'VTI__Mood=Cnd|Number=Plur|Person=3' (1), 'VERB__Mood=Ind|Tense=Past' (1), 'Cmpd__Case=Nom|Definite=Def|Form=Ecl|Gender=Masc|Number=Sing|PrepForm=Cmpd' (1), 'Noun__Definite=Def|Typo=Yes|VerbForm=Inf' (1), 'VTI__Form=HPref|Mood=Imp|Number=Sing|Person=2|Polarity=Neg' (1), 'Noun__Case=Nom|Foreign=Yes|Number=Sing' (1), 'Poss__Form=Len|Number=Plur|Person=3|Poss=Yes|PronType=Prs' (1), 'FutInd__Form=Ecl|Mood=Ind|Person=0|Polarity=Neg|Tense=Fut' (1), 'VT__Aspect=Imp|Form=Ecl|Tense=Past' (1), 'CmpdNoGen__Number=Plur|Person=3|Poss=Yes' (1), 'Noun__Case=Gen|Definite=Def|Form=Ecl|Gender=Masc|NounType=Weak|Number=Plur|Typo=Yes' (1), 'VTI__Dialect=Munster|Form=Len|Mood=Ind|Number=Sing|Person=1|Tense=Past' (1), 'Cond__Form=Len|Mood=Cnd|Number=Sing|Person=1' (1), 'Imper__Form=HPref|Mood=Imp|Number=Plur|Person=2|Polarity=Neg' (1), 'Pers__Form=HPref|Gender=Fem|Number=Sing|Person=3' (1), 'VI__Mood=Ind|Number=Sing|Person=1|Polarity=Neg|Tense=Pres' (1), 'Q__Dialect=Ulster|VerbForm=Cop' (1), 'VT__Form=Ecl|Mood=Ind|Polarity=Neg|Tense=Past' (1), 'Adj__Gender=Masc|Number=Plur' (1), 'PastInd__Form=Emp,Len|Mood=Ind|Number=Sing|Person=1|Polarity=Neg|Tense=Pres' (1), 'Cond__Form=Len|Mood=Cnd|Number=Plur|Person=3' (1), 'Pron__Gender=Fem|Number=Sing|Person=3' (1), 'VTI__Mood=Imp|Number=Plur|Person=1|Polarity=Neg' (1), 'Vb__Form=Indirect|PartType=Vb|Polarity=Neg|PronType=Rel|Tense=Past' (1), 'NUM__Form=Ecl|NumType=Ord' (1), 'Adj__Case=Gen|Form=Len|Gender=Masc|Number=Sing|Typo=Yes' (1), 'VERB__Form=Emp|Mood=Ind|Number=Sing|Person=1|Tense=Fut' (1), 'VT__Form=Len|Mood=Ind|Person=0|Polarity=Neg|Tense=Pres' (1), 'Cp__PartType=Cop|PronType=Rel' (1), 'Noun__Case=Dat|Definite=Ind|Gender=Fem|Number=Sing' (1), 'VTI__Form=Ecl|Mood=Ind|Number=Sing|Person=1|Tense=Past' (1), 'Adj__Case=Voc|Form=Len|Gender=Masc|Number=Sing' (1), 'VTI__Form=Emp,Len|Mood=Cnd|Number=Sing|Person=1' (1), 'Noun__Case=Nom|Form=Ecl|Gender=Fem|Number=Sing|Typo=Yes' (1), 'Cond__Form=Ecl|Mood=Cnd|Number=Sing|Person=1' (1), 'Noun__Definite=Def|Reflex=Yes' (1), 'FutInd__Form=Len|Mood=Ind|Number=Plur|Person=1|Tense=Fut' (1), 'VTI__Form=HPref|Mood=Cnd|Polarity=Neg' (1), 'VI__Form=Len|Mood=Ind|Number=Plur|Person=1|Tense=Past' (1), 'VERB__Mood=Ind|Person=0|Tense=Fut' (1), 'Noun__Case=Nom|Foreign=Yes|Gender=Masc|Number=Plur' (1), 'PRON__Number=Sing|PronType=Int' (1), 'VI__Mood=Ind|Person=0|Polarity=Neg|Tense=Past' (1), 'Noun__Case=Nom|Definite=Def|Form=Len|Number=Sing' (1), 'PRON' (1), 'Noun__Case=Voc|Definite=Def|Gender=Fem|Number=Sing' (1), 'VT__Mood=Ind|Polarity=Neg|Tense=Past' (1), 'VI__Form=Ecl|Mood=Cnd|Person=0' (1), 'Prep__Form=Len|Gender=Masc|Number=Sing|Person=3|Poss=Yes' (1), 'VTI__Mood=Ind|Number=Sing|Person=1|Tense=Past' (1), 'VTI__Mood=Cnd|Person=0|Polarity=Neg' (1), 'PastImp__Aspect=Imp|Form=Ecl|Polarity=Neg|Tense=Past' (1), 'Subst__Case=Nom|Form=Ecl' (1), 'Noun__Case=Nom|Definite=Def|Form=Ecl|VerbForm=Inf' (1), 'Det__Form=Ecl|Gender=Fem|Number=Sing|Person=3|Poss=Yes' (1), 'VERB__Form=Len|Mood=Ind|Tense=Pres' (1), 'Subst__Definite=Def|Form=Ecl|Number=Sing' (1), 'VTI__Mood=Imp|Number=Plur|Person=2' (1), 'Noun__Case=Nom|Foreign=Yes|Gender=Fem|Number=Sing' (1), 'Noun__Case=Nom|Form=Ecl|Gender=Fem' (1), 'PresInd__Dialect=Munster|Form=Len|Mood=Ind|Tense=Pres' (1), 'Poss__Form=Len|Person=3|Poss=Yes|PronType=Prs' (1), 'Noun__Case=Gen|Dialect=Ulster|Gender=Fem|Number=Sing' (1), 'Prep__Gender=Masc|Number=Sing|Person=3|Typo=Yes' (1), 'Prep__Gender=Masc|Number=Sing|Person=3|PronType=Emp' (1), 'VTI__Form=Len|Mood=Ind|Polarity=Neg|Tense=Fut|Typo=Yes' (1), 'Cmpd__Case=Dat|Form=Len|Gender=Masc|Number=Plur|PrepForm=Cmpd' (1), 'Cond__Mood=Cnd|Person=0|Polarity=Neg' (1), 'Noun__Case=Gen|Definite=Def|Form=Len|Gender=Masc|Number=Sing|Typo=Yes' (1), 'PastImp__Aspect=Imp|Tense=Past' (1), 'VI__Form=Len|Mood=Ind|Tense=Past|Typo=Yes' (1), 'Cmpd__Case=Nom|Definite=Def|Form=Len|Gender=Masc|Number=Sing|PrepForm=Cmpd' (1), 'Pers__Number=Sing|Person=1|Typo=Yes' (1), 'PresInd__Form=Len|Mood=Ind|Tense=Pres|Typo=Yes' (1), 'PresInd__Form=Ecl|Mood=Ind|Number=Sing|Person=1|Tense=Pres' (1), 'VI__Aspect=Hab|Form=Ecl|Mood=Ind|Polarity=Neg|Tense=Pres' (1), 'Cmpd__Case=Nom|Gender=Masc|Number=Sing|PrepForm=Cmpd|Typo=Yes' (1), 'Adj__Degree=Cmp,Sup|Typo=Yes' (1), 'Unknown__Definite=Def' (1), 'Rel__Tense=Pres|VerbForm=Cop' (1), 'VI__Form=Len|Mood=Ind|Person=0|Tense=Past' (1), 'Noun__Case=Gen|Form=Len|Gender=Fem|NounType=Weak|Number=Plur' (1), 'PastImp__Aspect=Imp|Form=Ecl,Emp|Number=Sing|Person=1|Tense=Past' (1), 'Noun__Definite=Def|Dialect=Munster|Form=Len|Gender=Fem|Number=Sing' (1), 'Subst__Form=Len|Number=Sing' (1), 'Subst__Case=Nom|Form=Ecl|Gender=Fem|Number=Plur' (1), 'Prep__Form=HPref|Gender=Masc|Number=Sing|Person=3' (1), 'VT__Mood=Cnd|Number=Sing|Person=1' (1), 'VI__Mood=Cnd' (1), 'Temp__Typo=Yes' (1), 'Noun__Case=Nom|Definite=Def|Form=Ecl|Gender=Fem|Number=Sing|Typo=Yes|VerbForm=Inf' (1), 'Adj__Form=Len|Gender=Masc|Number=Sing' (1), 'PresSubj__Form=Ecl|Mood=Ind|Person=0|Tense=Pres' (1), 'PastInd__Mood=Ind|Number=Sing|Person=1|Polarity=Neg|Tense=Past' (1), 'Noun__Definite=Def|Gender=Masc' (1), 'Cond__Form=Ecl|Mood=Cnd|Number=Plur|Person=3|Polarity=Neg' (1), 'VTI__Form=Len|Mood=Cnd|Number=Plur|Person=3' (1), 'Noun__Foreign=Yes|Form=Ecl|Number=Sing' (1), 'VTI__Form=Ecl|Mood=Cnd,Int|Person=0' (1), 'PART__PartType=Pat' (1), 'Noun__Case=Nom|Definite=Def|Form=Ecl|Gender=Fem' (1), 'FutInd__Mood=Ind|Polarity=Neg|Tense=Fut|Typo=Yes' (1), 'Noun__Case=Nom|Dialect=Ulster|Gender=Masc|Number=Plur' (1), 'Cond__Form=Ecl|Mood=Cnd|Number=Plur|Person=3' (1), 'VD__Form=Len|Mood=Ind|Number=Plur|Person=1|Tense=Past' (1), 'Cmpd__PrepForm=Cmpd|Typo=Yes' (1), 'VERB__Form=Len|Mood=Ind|Person=0|Tense=Past|Typo=Yes' (1), 'Noun__Case=Nom|Definite=Def|Form=Ecl' (1), 'VI__Mood=Imp|Number=Sing|Person=2' (1), 'Vb__Mood=Sub|PartType=Cmpl' (1), 'Subord__Form=VF|Tense=Pres|VerbForm=Cop' (1), 'Cmpd__Case=Nom|Form=Ecl|Gender=Fem|Number=Sing' (1), 'VERB__Form=Len|Mood=Cnd|Number=Plur|Person=1' (1), 'ADJ__Case=Nom|Form=Len|Gender=Fem|Number=Sing' (1), 'Noun__Case=Gen|Definite=Def|Form=Ecl|VerbForm=Inf' (1), 'PROPN' (1), 'VD__Form=Ecl|Mood=Ind|Tense=Past' (1), 'VTI__Mood=Sub|Tense=Pres' (1), 'Cond__Form=Ecl|Mood=Cnd,Int|Number=Sing|Person=2' (1), 'Noun__Case=Dat|Form=Ecl|Gender=Fem|Number=Plur' (1), 'Noun__Form=Len' (1), 'Noun__Case=Dat|Gender=Masc|Number=Plur' (1), 'VTI__Form=Ecl,Emp|Mood=Ind|Number=Plur|Person=1|Polarity=Neg|Tense=Pres' (1), 'Subst__Case=Nom' (1), 'Cond__Mood=Cnd|Number=Sing|Person=1' (1), 'VTI__Form=Ecl,Emp|Mood=Ind|Number=Sing|Person=1|Tense=Pres' (1), 'Noun__Definite=Def|Foreign=Yes|Form=Len|Gender=Masc|Number=Sing' (1), 'PastImp__Aspect=Imp|Form=Len|Number=Plur|Person=3|Tense=Past' (1), 'PresInd__Form=Ecl|Mood=Ind|Number=Plur|Person=3|Tense=Pres' (1), '..' (1), 'CmpdNoGen__Gender=Fem|Number=Sing|Person=3|Poss=Yes' (1), 'VI__Aspect=Imp|Form=Len|Number=Plur|Person=3|Polarity=Neg|Tense=Past' (1), 'Vb__Mood=Sub|PartType=Vb|Polarity=Neg' (1), 'VTI__Mood=Sub|Polarity=Neg|Tense=Pres' (1), 'Q__Form=VF|PronType=Int|VerbForm=Cop' (1), 'Noun__Case=Nom|Definite=Def|Gender=Fem|Number=Sing|VerbForm=Inf' (1), 'Poss__Form=Len|Gender=Fem|Number=Sing|Person=3|Poss=Yes|PronType=Prs' (1), 'Subord__Form=Len' (1), 'VI__Form=Direct|Mood=Ind|Number=Sing|Person=1|PronType=Rel|Tense=Pres' (1), 'PresInd__Form=Ecl|Mood=Ind|Number=Plur|Person=1|Polarity=Neg|Tense=Pres' (1), 'Noun__Case=Gen|Dialect=Connaught|Gender=Fem|Number=Sing' (1), 'ADP__Number=Plur|Person=3' (1), 'SIMP__Dialect=Ulster|Gender=Masc|Number=Sing|Person=3' (1), 'Unknown' (1), 'Noun__Definite=Def|Form=Len|Number=Sing' (1), 'Noun__Case=Nom|Definite=Def|Form=Ecl|Number=Sing' (1), 'Noun__Case=Nom|Dialect=Ulster|Gender=Masc|Number=Sing' (1), 'Pers__Number=Plur|Person=3|Typo=Yes' (1), 'Noun__Foreign=Yes|Gender=Fem|Number=Plur' (1), 'VTI__Mood=Ind|Number=Plur|Person=3|Tense=Past' (1), 'VERB__Mood=Imp|Number=Plur|Person=1' (1), 'PresInd__Mood=Ind|Number=Plur|Person=3|Tense=Pres' (1), 'Noun__Definite=Def|Form=Len|Gender=Masc|Number=Sing|Typo=Yes' (1), 'Cond__Mood=Cnd|Polarity=Neg' (1), 'Noun__Case=Dat|Definite=Def|Form=Ecl|Gender=Masc|Number=Sing' (1), 'Cmpd__Case=Dat|Form=Ecl|Gender=Masc|Number=Sing|PrepForm=Cmpd' (1), 'VTI__Form=Len|Mood=Ind|PronType=Rel|Tense=Fut' (1), 'PresInd__Dialect=Munster|Form=Ecl|Mood=Ind|Number=Plur|Person=3|Tense=Pres' (1), 'VI__Aspect=Hab|Form=Ecl|Mood=Ind|Tense=Pres' (1), 'VT__Form=Ecl|Mood=Cnd|Number=Sing|Person=2' (1), 'VT__Form=HPref|Mood=Ind|Person=0|Polarity=Neg|Tense=Past' (1), 'DET__Definite=Def' (1), 'VI__Form=Ecl|Mood=Ind|Person=0|Polarity=Neg|Tense=Past' (1), 'Vb__Dialect=Munster|PartType=Cmpl|Polarity=Neg' (1), 'VT__Form=Ecl|Mood=Ind|Number=Plur|Person=1|Polarity=Neg|Tense=Past' (1), 'PastImp__Aspect=Imp|Form=Ecl|Number=Plur|Person=1|Tense=Past' (1), 'Noun__Definite=Def|Form=Ecl|Gender=Masc|Number=Plur' (1), 'Noun__Case=Gen|Definite=Def|Form=Emp,Len|Gender=Masc|Number=Sing' (1), 'Prep__Dialect=Connaught|Number=Plur|Person=3' (1), 'Prep__Number=Plur|Person=2|PronType=Emp' (1), 'Foreign__Case=Gen|Definite=Def|Foreign=Yes|Gender=Fem|Number=Sing|Typo=Yes' (1), 'Poss__Number=Sing|Person=1|Poss=Yes' (1), 'VTI__Mood=Imp|Person=0|Polarity=Neg' (1), 'Its__Degree=Pos' (1), 'Foreign__Foreign=Yes|Form=Ecl' (1), 'VTI__Mood=Cnd|Number=Sing|Person=2|Polarity=Neg' (1), 'VI__Dialect=Munster|Mood=Cnd|Number=Sing|Person=2' (1), 'Noun__Case=Nom|Form=Len|Number=Sing' (1), 'Imper__Mood=Imp|Number=Sing|Person=3|Polarity=Neg' (1), 'VERB__Form=Len|Mood=Ind|Polarity=Neg|Tense=Past' (1), 'VTI__Form=Ecl|Mood=Cnd|Number=Plur|Person=3' (1), 'VTI__Aspect=Imp|Polarity=Neg|Tense=Past' (1), 'Num__NumType=Ord|Typo=Yes' (1), 'VD__Mood=Imp|Number=Sing|Person=2' (1), 'VTI__Mood=Imp|Number=Sing|Person=3' (1), 'Simp__Number=Sing|PronType=Art' (1), 'Adj__Degree=Cmp,Sup|VerbForm=Part' (1), 'PresInd__Form=Direct|Mood=Ind|Number=Sing|Person=1|PronType=Rel|Tense=Pres' (1), 'Abr' (1), 'VT__Form=Ecl|Mood=Ind|Person=0|Polarity=Neg|Tense=Past' (1), 'VI__Aspect=Hab|Form=Len|Mood=Ind|Tense=Pres' (1), 'PastInd__Mood=Ind|Number=Plur|Person=3|Tense=Past' (1), 'Noun__Case=Gen|Definite=Def|Form=Len|Gender=Fem|NounType=Weak|Number=Plur' (1), 'Q__Dialect=Connaught' (1), 'Temp__Dialect=Connaught' (1), 'VI__Form=Len|Mood=Ind|Number=Plur|Tense=Past' (1), 'VI__Form=Ecl|Mood=Cnd,Int' (1), 'PastImp__Aspect=Imp|Form=Len|Polarity=Neg|Tense=Past' (1), 'Noun__Case=Gen|Definite=Def|Form=Len|Gender=Fem|NounType=Strong|Number=Plur' (1), 'Cmpd__Form=Len|PrepForm=Cmpd' (1), 'VTI__Mood=Ind|Number=Sing|Person=1|Polarity=Neg|Tense=Pres' (1), 'Noun__Case=Nom|Definite=Def|Dialect=Connaught|Gender=Masc|Number=Plur' (1), 'VTI__Form=Emp,Len|Mood=Ind|Number=Plur|Person=3|Polarity=Neg|Tense=Past' (1), 'Adj__Form=Len|Typo=Yes|VerbForm=Part' (1), 'Subst__Case=Nom|Definite=Def|Number=Plur' (1), 'PastImp__Aspect=Imp|Form=Len|PronType=Rel|Tense=Past' (1), 'Adj__Case=Gen|Form=Ecl|Gender=Fem|NounType=Weak|Number=Plur' (1), 'Subst__Definite=Def|Form=Len|Number=Sing' (1), 'VT__Form=Len|Mood=Ind|Polarity=Neg|PronType=Rel|Tense=Pres' (1), 'VI__Form=Len|Mood=Ind|Number=Sing|Person=1|Polarity=Neg|Tense=Pres' (1), 'VTI__Dialect=Munster|Form=Ecl|Mood=Ind|Number=Plur|Person=3|Tense=Fut' (1), 'VT__Form=Len|Mood=Ind|Number=Plur|Person=1|Tense=Fut' (1), 'Noun__Case=Nom' (1), 'VTI__Form=Ecl|Mood=Cnd,Int' (1), 'VT__Form=Ecl|Mood=Ind|Person=0|Polarity=Neg|Tense=Pres' (1), 'Noun__Case=Nom|Dialect=Ulster|Form=Len|Gender=Masc|Number=Sing' (1), 'Cond__Form=Ecl|Mood=Cnd|Number=Sing|Person=2|Polarity=Neg' (1), 'Q__PronType=Int|VerbForm=Cop' (1), 'VT__Mood=Cnd' (1), 'Noun__Case=Nom|Definite=Def|Gender=Masc|Number=Sing|Typo=Yes|VerbForm=Inf' (1), 'VTI__Form=Emp|Mood=Cnd|Number=Sing|Person=1' (1), 'Adj__Degree=Pos|Form=Ecl' (1), ''' (1), 'Foreign__Definite=Def|Foreign=Yes|Typo=Yes' (1), 'Noun__Case=Nom|Dialect=Munster|Form=Len|Gender=Masc|Number=Sing' (1), 'Abr__Abbr=Yes|Foreign=Yes' (1), 'Cop__Form=Len|Polarity=Neg|Tense=Pres|VerbForm=Cop' (1), 'VTI__Mood=Cnd,Int|Number=Sing|Person=1' (1), 'VTI__Form=Len|Mood=Cnd|Number=Sing|Person=2|Polarity=Neg' (1), 'Prep__Form=Len|Gender=Masc|Number=Sing|Person=3|Typo=Yes' (1), 'VI__Form=Len|Mood=Ind|Person=0|Tense=Pres' (1), 'Art__Definite=Def|Number=Sing|PronType=Art|Typo=Yes' (1), 'PresImp__Form=Len|Mood=Ind|Number=Plur|Person=1|Tense=Pres' (1), 'Foreign__Foreign=Yes|Form=Ecl|Number=Plur' (1), 'Noun__Case=Gen|Gender=Masc|Number=Plur' (1), 'Noun__Case=Nom|Form=Ecl|Gender=Masc' (1), 'Noun__Case=Nom|Form=Len|Gender=Fem|Number=Sing|Typo=Yes' (1), 'Abbr__Abbr=Yes' (1), 'VERB__Mood=Cnd|Person=0' (1), 'Noun__Case=Gen|Form=Len|Gender=Masc' (1), 'Noun__Case=Nom|Form=Len|Gender=Masc|Number=Plur|Typo=Yes' (1), 'VT__Aspect=Imp|Form=Ecl|Person=0|Tense=Past' (1), 'PresInd__Mood=Ind|Person=0|Polarity=Neg|Tense=Pres' (1), 'Pers__Gender=Masc|Number=Sing|Person=3|Typo=Yes' (1), 'Foreign__Foreign=Yes|Gender=Masc' (1), 'Adj__Abbr=Yes|Case=Nom|Gender=Fem|Number=Sing' (1), 'VERB__Mood=Ind|Person=0|Tense=Pres' (1), 'VT__Form=Len|Mood=Ind|Number=Plur|Person=1|Polarity=Neg|Tense=Pres' (1), 'ADP__Number=Plur|Person=3|Poss=Yes' (1), 'Adj__Case=Gen|Gender=Masc|Number=Sing|Typo=Yes' (1), 'PresImp__Aspect=Hab|Form=Ecl|Mood=Ind|Polarity=Neg|Tense=Pres' (1), 'Foreign__Foreign=Yes|Form=Len' (1), 'Adj__Case=Gen|Gender=Fem|Number=Plur' (1), 'VTI__Form=Len|Mood=Ind|Tense=Past|Typo=Yes' (1), 'VTI__Aspect=Hab|Mood=Ind|Person=0|Tense=Pres' (1), 'PART__Form=Indirect|PartType=Vb|PronType=Rel' (1), 'Noun__Gender=Fem|Number=Sing' (1), 'Sup__PartType=Sup|Polarity=Neg' (1), 'VTI__Mood=Cnd|Person=0' (1), 'Cmpd__Case=Nom|Definite=Def|Form=Ecl|Gender=Masc|Number=Sing' (1), 'Abbr=Yes__Definite=Def' (1), 'Noun__Case=Gen|Definite=Def|Form=HPref|Gender=Fem|NounType=Strong|Number=Plur' (1), 'Subst__Case=Nom|Form=Ecl|Gender=Fem|Number=Sing|Typo=Yes' (1), 'PRON__PronType=Dem' (1), 'Abr__Abbr=Yes|Form=Ecl' (1), 'Noun__Case=Nom|Definite=Def|Form=Emp|Gender=Fem|Number=Sing' (1), 'DET__Gender=Fem|Number=Sing|Person=3|Poss=Yes' (1), 'Noun__Case=Gen|Form=Ecl|Gender=Masc|NounType=Strong|Number=Plur' (1), 'Noun__Case=Nom|Form=Len|VerbForm=Inf' (1), 'Noun__Form=Len|Gender=Masc|Number=Plur' (1), 'Noun__Definite=Def|Form=HPref|Gender=Fem|Number=Sing' (1), 'Simp__Number=Plur|PronType=Art' (1), 'NounCase=Nom|__Case=Nom|Definite=Def|Gender=Fem|Number=Sing' (1), 'VTI__Form=Len|Mood=Ind|Number=Sing|Person=2|Tense=Pres' (1), 'VERB__Mood=Ind|Person=0|Polarity=Neg|Tense=Fut' (1), 'NounCase=Nom|__Case=Nom|Gender=Masc|Number=Sing' (1), 'Item__Abbr=Yes' (1), 'VTI__Form=Len|Mood=Cnd|Typo=Yes' (1), 'PresImp__Form=Ecl|Mood=Ind|Tense=Pres' (1), 'Noun__Case=Gen|Definite=Def|Form=Len|Gender=Masc|NounType=Weak|Number=Plur' (1), 'PresInd__Form=Len|Mood=Ind|Polarity=Neg|Tense=Pres' (1), 'Cmpd__Case=Nom|Form=Ecl|PrepForm=Cmpd' (1), 'Num__Form=Len' (1), 'PresInd__Mood=Ind|Number=Plur|Person=1|Tense=Pres|Typo=Yes' (1), 'ADP__Number=Plur|Person=2' (1), 'Noun__Case=Gen|Form=Len|VerbForm=Vnoun' (1), 'FutInd__Mood=Ind|Person=0|Tense=Fut|Typo=Yes' (1), 'Adj__Case=Nom|Form=Len|Gender=Fem|Number=Plur' (1), 'VT__Mood=Imp|Number=Sing|Person=2|Polarity=Neg' (1), 'Adj__Case=Nom|Gender=Fem|NounType=NotSlender|Number=Plur|Typo=Yes' (1), 'VTI__Form=Len|Mood=Cnd|Person=0|Polarity=Neg' (1), 'PART__PartType=Num' (1), 'Noun__Case=Gen' (1), 'Noun__Definite=Def|Form=Len|Gender=Masc' (1), 'PRON__Gender=Fem|Number=Sing|Person=3' (1), 'Noun__Case=Nom|Definite=Def|Form=HPref|Gender=Fem' (1), 'VTI__Form=Len|Mood=Ind|Number=Plur|Person=1|Polarity=Neg|Tense=Fut' (1), 'Nooun__Case=Gen|Gender=Masc|NounType=Strong|Number=Plur' (1), 'VERB__Form=Ecl|Mood=Ind|Person=0|Tense=Past' (1), 'Noun__Case=Gen|Definite=Def|Form=Len|Number=Sing' (1), 'Abr__Abbr=Yes|Case=Nom|Gender=Fem|Number=Sing' (1), 'Poss__Number=Sing|Person=2|Poss=Yes' (1), 'Noun__Case=Gen|Form=HPref|Gender=Fem|Number=Sing' (1), 'Abr__Abbr=Yes|Gender=Masc|Number=Sing' (1), 'VERB__Mood=Ind|Polarity=Neg|Tense=Pres' (1), 'Cmpd__Case=Nom|Number=Sing|PrepForm=Cmpd|Typo=Yes' (1), 'VI__Form=Direct|Mood=Ind|PronType=Rel|Tense=Pres|Typo=Yes' (1), 'Noun__Case=Gen|Definite=Def|NounType=Strong|Number=Plur' (1), 'DET__Number=Plur|Person=3|Poss=Yes|Typo=Yes' (1), 'PROPN__Abbr=Yes' (1), 'VTI__Form=Ecl|Mood=Ind|Number=Sing|Person=3|Tense=Pres' (1), 'Noun__Abbr=Yes|Case=Nom|Gender=Masc|Number=Plur' (1), 'Adj__Case=Nom|Gender=Masc|NounType=Slender|Number=Plur|Typo=Yes' (1), 'VTI__Aspect=Hab|Form=Ecl|Mood=Ind|Number=Plur|Person=1|Tense=Pres' (1), 'Verb__Form=Len|Mood=Ind|Tense=Past' (1), 'Item__Case=Nom|Gender=Masc|Number=Plur' (1), 'Noun__Case=Nom|Definite=Def|Form=Len|Gender=Masc' (1), 'Subst__Case=Nom|Form=Ecl|Gender=Masc|Number=Sing' (1), 'Adj__Case=Gen|NounType=Strong|Number=Plur' (1), 'Subst__Case=Nom|Form=Ecl|Gender=Fem|Number=Sing' (1), 'Ad__PartType=Cmpl' (1), 'PresImp__Form=Len|Mood=Ind|Tense=Pres' (1), 'Noun__Case=Nom|Definite=Def|Form=Ecl|Gender=Fem|Number=Sing|VerbForm=Inf' (1), 'Prep__Gender=Fem|Number=Sing|Person=3|Typo=Yes' (1), 'Noun__Case=Nom|Definite=Def|Typo=Yes' (1), 'NUM__NumType=Card' (1), 'Noun__Case=Nom|Typo=Yes' (1), 'SYM' (1), 'Subst__Case=Nom|Form=Len|Gender=Masc|Number=Plur' (1), 'Noun__Case=Nom|Definite=Def|Form=HPref|Gender=Fem|Number=Plur|Typo=Yes' (1), 'Prep' (1), 'Noun__Case=Nom|Definite=Def|Gender=Fem' (1), 'Rel__PronType=Rel' (1), 'VERB__Form=Len|Mood=Cnd|Person=0' (1), 'NUM__Form=Len|NumType=Card' (1), 'VTI__Form=Ecl|Mood=Ind|Number=Plur|Person=1|Tense=Fut' (1), 'Noun__Case=Nom|Definite=Def|Form=HPref|Gender=Masc|Number=Sing|VerbForm=Inf' (1), 'Subst__Case=Gen|Definite=Def|Form=Ecl|Gender=Masc|Number=Sing' (1), 'Simps' (1), 'Noun__Case=Nom|Form=Len|Gender=Masc' (1), 'Vb__PartType=Ad' (1), 'Noun__Case=Nom|Definite=Def|Form=Ecl|Gender=Masc|Number=Sing|VerbForm=Inf' (1), 'Noun__Case=Gen|Foreign=Yes|Gender=Fem|Number=Sing' (1), 'Abr__Case=Gen|Definite=Def|Gender=Masc|Number=Sing' (1)\n",
            "Morphologizer (POS+Morph)\n",
            "797 label(s) in train data\n",
            "Some model labels are not present in the train data. The model performance may be degraded for these labels after training: 'Foreign=Yes|POS=PRON', 'Form=Ecl,VF|POS=AUX|Tense=Past|VerbForm=Cop', 'Form=VF|Mood=Cnd|POS=AUX|VerbForm=Cop', 'Aspect=Imp|Number=Sing|POS=VERB|Person=1|Tense=Past'.\n",
            "'POS=ADP' (10116), 'POS=PUNCT' (8795), 'Case=Nom|Gender=Masc|Number=Sing|POS=NOUN' (3266), 'POS=CCONJ' (3239), 'Definite=Def|Number=Sing|POS=DET|PronType=Art' (3180), 'Case=Nom|Definite=Def|Gender=Masc|Number=Sing|POS=NOUN' (2864), 'Case=Nom|Gender=Fem|Number=Sing|POS=NOUN' (1969), 'POS=PART|PartType=Inf' (1700), 'Case=Gen|Gender=Masc|Number=Sing|POS=NOUN' (1460), 'Case=Nom|Definite=Def|Gender=Fem|Number=Sing|POS=NOUN' (1430), 'POS=ADV' (1428), 'Form=Len|POS=NOUN|VerbForm=Inf' (1423), 'Number=Sing|POS=ADP|PronType=Art' (1421), 'Form=Direct|POS=PART|PartType=Vb|PronType=Rel' (1398), 'Mood=Ind|POS=VERB|Tense=Pres' (1267), 'POS=SCONJ' (1231), 'Case=Gen|Gender=Fem|Number=Sing|POS=NOUN' (1215), 'Degree=Pos|POS=ADJ' (1195), 'Case=Nom|Gender=Masc|Number=Sing|POS=ADJ' (1111), 'POS=NOUN|VerbForm=Inf' (1075), 'POS=DET|PronType=Dem' (1057), 'Form=Len|Mood=Ind|POS=VERB|Tense=Past' (1035), 'Gender=Masc|Number=Sing|POS=PRON|Person=3' (1021), 'POS=NUM' (993), 'Case=Nom|Gender=Masc|Number=Plur|POS=NOUN' (987), 'Definite=Def|Number=Plur|POS=DET|PronType=Art' (943), 'Case=Nom|Definite=Def|Form=Len|Gender=Masc|Number=Sing|POS=NOUN' (857), 'Case=Gen|Definite=Def|Gender=Fem|Number=Sing|POS=DET|PronType=Art' (854), 'POS=ADP|PrepForm=Cmpd' (823), 'Definite=Def|Gender=Masc|Number=Sing|POS=PROPN' (785), 'Case=Nom|Definite=Def|Gender=Masc|Number=Plur|POS=NOUN' (764), 'POS=ADJ|VerbForm=Part' (753), 'Gender=Masc|Number=Sing|POS=ADP|Person=3' (743), 'Case=Nom|Form=Len|Gender=Masc|Number=Sing|POS=NOUN' (734), 'Case=Nom|Definite=Def|Form=Len|Gender=Fem|Number=Sing|POS=NOUN' (717), 'Case=Gen|Definite=Def|Gender=Masc|Number=Sing|POS=DET|PronType=Art' (706), 'POS=AUX|Tense=Pres|VerbForm=Cop' (637), 'POS=PART|PartType=Cmpl' (574), 'POS=NOUN|VerbForm=Vnoun' (550), 'Case=Nom|Gender=Fem|Number=Plur|POS=NOUN' (505), 'Case=Nom|Definite=Def|Gender=Masc|Number=Sing|POS=PROPN' (495), 'Case=Gen|Definite=Def|Gender=Fem|Number=Sing|POS=PROPN' (490), 'Case=Nom|Definite=Def|Form=Ecl|Gender=Masc|Number=Sing|POS=NOUN' (453), 'Case=Gen|Definite=Def|Gender=Masc|Number=Sing|POS=PROPN' (452), 'POS=PRON|PronType=Dem' (450), 'Form=Direct|Mood=Ind|POS=VERB|PronType=Rel|Tense=Pres' (446), 'Case=Nom|Form=Len|Gender=Fem|Number=Sing|POS=NOUN' (422), 'Mood=Ind|POS=VERB|Tense=Fut' (414), 'Mood=Ind|POS=VERB|Tense=Past' (407), 'Number=Plur|POS=ADP|Person=3' (407), 'Case=Gen|Definite=Def|Gender=Masc|Number=Sing|POS=NOUN' (402), 'Case=Gen|Definite=Def|Gender=Fem|Number=Sing|POS=NOUN' (392), 'Case=Gen|Definite=Def|Number=Plur|POS=DET|PronType=Art' (391), 'Case=Nom|Form=Len|Gender=Masc|Number=Plur|POS=NOUN' (365), 'Mood=Ind|POS=VERB|Person=0|Tense=Past' (363), 'Form=Ecl|Mood=Ind|POS=VERB|Tense=Pres' (358), 'POS=PART|PartType=Ad' (353), 'Number=Plur|POS=PRON|Person=3' (349), 'Case=Nom|Gender=Fem|Number=Sing|POS=ADJ' (338), 'Case=Nom|Definite=Def|Gender=Fem|Number=Plur|POS=NOUN' (338), 'Case=Nom|Form=Ecl|Gender=Fem|Number=Sing|POS=NOUN' (328), 'Gender=Masc|Number=Sing|POS=DET|Person=3|Poss=Yes' (328), 'Case=Nom|Form=Len|Gender=Fem|Number=Sing|POS=ADJ' (326), 'Case=Gen|Definite=Def|Form=Len|Gender=Masc|Number=Sing|POS=NOUN' (302), 'Case=Nom|Gender=Masc|NounType=NotSlender|Number=Plur|POS=ADJ' (302), 'Case=Nom|Form=Ecl|Gender=Masc|Number=Sing|POS=NOUN' (298), 'Case=Nom|Gender=Fem|NounType=NotSlender|Number=Plur|POS=ADJ' (293), 'Gender=Masc|Number=Sing|POS=ADP|Person=3|Poss=Yes' (285), 'POS=DET|PronType=Ind' (281), 'Case=Nom|Definite=Def|Form=Ecl|Gender=Fem|Number=Sing|POS=NOUN' (279), 'Foreign=Yes|POS=PROPN' (277), 'Form=Len|Mood=Ind|POS=VERB|Tense=Pres' (274), 'Case=Nom|Number=Sing|POS=NOUN' (271), 'NumType=Card|POS=NUM' (266), 'Abbr=Yes|POS=PROPN' (266), 'Foreign=Yes|POS=X' (252), 'Case=Gen|Gender=Masc|NounType=Strong|Number=Plur|POS=NOUN' (245), 'Gender=Fem|Number=Sing|POS=PRON|Person=3' (244), 'Case=Nom|Definite=Def|Gender=Fem|Number=Sing|POS=PROPN' (242), 'Mood=Ind|POS=VERB|Person=0|Tense=Pres' (232), 'Degree=Cmp,Sup|POS=ADJ' (223), 'Form=Indirect|POS=PART|PartType=Vb|PronType=Rel' (216), 'Case=Nom|Definite=Def|Form=Len|Gender=Fem|Number=Sing|POS=PROPN' (209), 'Case=Gen|Definite=Def|Gender=Fem|NounType=Weak|Number=Plur|POS=PROPN' (208), 'Definite=Def|Gender=Fem|Number=Sing|POS=PROPN' (187), 'Case=Nom|Definite=Def|Form=Len|Gender=Masc|Number=Sing|POS=PROPN' (185), 'POS=PRON|Reflex=Yes' (183), 'Number=Sing|POS=ADP|Person=1' (179), 'Number=Sing|POS=ADP|Person=2' (177), 'Number=Plur|POS=DET|Person=3|Poss=Yes' (175), 'Mood=Ind|POS=VERB|Person=0|Tense=Fut' (175), 'Definite=Def|POS=DET' (175), 'POS=PART|PartType=Vb|Polarity=Neg' (174), 'Case=Gen|Gender=Fem|NounType=Strong|Number=Plur|POS=NOUN' (169), 'Case=Nom|Number=Sing|POS=NOUN|PrepForm=Cmpd' (164), 'Case=Nom|Gender=Fem|Number=Sing|POS=NOUN|PrepForm=Cmpd' (163), 'POS=AUX|Tense=Past|VerbForm=Cop' (160), 'Number=Plur|POS=ADP|Person=3|Poss=Yes' (157), 'POS=AUX|Polarity=Neg|Tense=Pres|VerbForm=Cop' (157), 'POS=PART|PartType=Pat' (156), 'Case=Gen|Definite=Def|Form=Len|Gender=Masc|Number=Sing|POS=PROPN' (156), 'Case=Gen|Gender=Masc|NounType=Weak|Number=Plur|POS=NOUN' (155), 'Gender=Fem|Number=Sing|POS=ADP|Person=3' (145), 'Case=Gen|Form=Len|Gender=Masc|Number=Sing|POS=NOUN' (143), 'Case=Nom|Gender=Masc|Number=Sing|POS=NOUN|PrepForm=Cmpd' (137), 'Number=Plur|POS=ADP|Person=1' (133), 'Case=Nom|Gender=Masc|NounType=Slender|Number=Plur|POS=ADJ' (133), 'Form=Ecl|Mood=Ind|POS=VERB|Tense=Fut' (132), 'Degree=Pos|Form=Len|POS=ADJ' (132), 'Case=Gen|Definite=Def|Form=HPref|Gender=Fem|Number=Sing|POS=PROPN' (130), 'Definite=Def|POS=NOUN|VerbForm=Inf' (128), 'Form=Ecl|Mood=Cnd|POS=VERB' (124), 'POS=PART|PartType=Comp' (123), 'Form=Len|Mood=Ind|POS=VERB|Tense=Fut' (122), 'Form=Indirect|POS=PART|PronType=Rel' (118), 'Form=Ecl|Mood=Ind|POS=VERB|Person=0|Tense=Pres' (118), 'POS=PART|PartType=Cmpl|Polarity=Neg' (118), 'Definite=Def|Form=Len|POS=NOUN|VerbForm=Inf' (115), 'Case=Gen|Definite=Def|Form=Len|Gender=Fem|Number=Sing|POS=PROPN' (113), 'Case=Gen|Form=Len|Gender=Fem|Number=Sing|POS=NOUN' (111), 'Number=Plur|POS=ADP|PronType=Art' (110), 'Form=Len|NumType=Card|POS=NUM' (109), 'POS=PART|PartType=Vb' (107), 'Case=Gen|Definite=Def|Form=Ecl|Gender=Masc|NounType=Weak|Number=Plur|POS=NOUN' (106), 'Gender=Masc|Number=Sing|POS=ADP|Person=3|Poss=Yes|PronType=Prs' (105), 'Number=Sing|POS=PRON|Person=1' (105), 'Case=Gen|Definite=Def|Form=Ecl|Gender=Masc|NounType=Strong|Number=Plur|POS=NOUN' (102), 'Number=Sing|POS=DET|Person=2|Poss=Yes' (100), 'Mood=Ind|POS=VERB|Polarity=Neg|Tense=Pres' (99), 'Degree=Pos|Form=HPref|POS=ADJ' (99), 'Case=Nom|Form=Len|Gender=Fem|Number=Plur|POS=NOUN' (96), 'Definite=Def|Form=Len|Gender=Fem|Number=Sing|POS=PROPN' (94), 'Number=Sing|POS=PRON|Person=2' (92), 'Form=Len|Mood=Ind|POS=VERB|Person=0|Tense=Pres' (90), 'Form=Len|Mood=Cnd|POS=VERB' (89), 'Case=Nom|Definite=Def|Form=HPref|Gender=Masc|Number=Plur|POS=NOUN' (86), 'Definite=Def|Form=Len|Gender=Masc|Number=Sing|POS=PROPN' (85), 'POS=PART|PartType=Sup' (84), 'POS=PART|PartType=Vb|Tense=Past' (84), 'Case=Nom|Definite=Def|Form=Ecl|Gender=Masc|Number=Sing|POS=PROPN' (83), 'Mood=Ind|POS=VERB|Polarity=Neg|Tense=Past' (82), 'Case=Nom|Definite=Def|Form=Len|Gender=Masc|Number=Plur|POS=NOUN' (82), 'NumType=Ord|POS=NUM' (78), 'Definite=Def|POS=PROPN' (78), 'Case=Gen|Definite=Def|Form=Ecl|Gender=Fem|NounType=Strong|Number=Plur|POS=NOUN' (76), 'Case=Nom|Definite=Def|Form=HPref|Gender=Fem|Number=Plur|POS=NOUN' (76), 'Mood=Imp|Number=Sing|POS=VERB|Person=2' (72), 'Form=Ecl|POS=NOUN|PrepForm=Cmpd' (72), 'Case=Nom|Form=Len|Gender=Masc|NounType=Slender|Number=Plur|POS=ADJ' (72), 'Case=Gen|Gender=Masc|Number=Sing|POS=ADJ' (71), 'Gender=Fem|Number=Sing|POS=ADP|Person=3|Poss=Yes' (67), 'Case=Gen|Definite=Def|Form=HPref|Gender=Fem|Number=Sing|POS=NOUN' (66), 'Number=Sing|POS=DET|Person=1|Poss=Yes' (66), 'Form=Len|NumType=Ord|POS=NUM' (65), 'Gender=Fem|Number=Sing|POS=DET|Person=3|Poss=Yes' (65), 'Case=Nom|Definite=Def|Form=Ecl|Gender=Fem|Number=Sing|POS=PROPN' (64), 'Case=Gen|Gender=Fem|Number=Sing|POS=ADJ' (63), 'Abbr=Yes|POS=NOUN' (63), 'Case=Dat|Gender=Fem|Number=Sing|POS=NOUN' (62), 'Mood=Ind|Number=Plur|POS=VERB|Person=1|Tense=Pres' (62), 'Case=Gen|Gender=Masc|NounType=Strong|Number=Plur|POS=ADJ' (60), 'Aspect=Hab|Form=Len|Mood=Ind|POS=VERB|Tense=Pres' (59), 'POS=PRON|PronType=Int' (58), 'Form=Len|Mood=Ind|POS=VERB|Polarity=Neg|Tense=Past' (58), 'Form=Ecl|Mood=Ind|POS=VERB|Polarity=Neg|Tense=Pres' (57), 'Number=Sing|POS=NOUN' (56), 'Case=Nom|Form=Ecl|Gender=Masc|Number=Plur|POS=NOUN' (55), 'Aspect=Hab|Mood=Ind|POS=VERB|Tense=Pres' (54), 'Case=Nom|Definite=Def|Form=Ecl|Gender=Masc|Number=Plur|POS=NOUN' (52), 'POS=SCONJ|VerbForm=Cop' (51), 'Mood=Ind|POS=VERB|PronType=Rel|Tense=Pres' (50), 'Case=Gen|Gender=Fem|NounType=Weak|Number=Plur|POS=NOUN' (48), 'Case=Dat|Definite=Def|Gender=Fem|Number=Sing|POS=PROPN' (47), 'Number=Plur|POS=ADP|Person=3|Poss=Yes|PronType=Prs' (47), 'Case=Gen|Gender=Fem|NounType=Strong|Number=Plur|POS=ADJ' (46), 'Definite=Def|Form=Len|Gender=Masc|Number=Sing|POS=NOUN' (46), 'Case=Gen|Form=Len|Gender=Masc|Number=Sing|POS=ADJ' (44), 'POS=PART|PartType=Vb|Polarity=Neg|Tense=Past' (44), 'Number=Plur|POS=PRON|Person=1' (43), 'Case=Nom|Definite=Def|Form=Len|Gender=Fem|Number=Plur|POS=NOUN' (43), 'Case=Nom|Form=Ecl|Gender=Fem|Number=Plur|POS=NOUN' (42), 'Form=Len|Gender=Masc|Number=Sing|POS=NOUN' (42), 'Aspect=Imp|Form=Len|POS=VERB|Tense=Past' (41), 'Definite=Def|Form=Ecl|POS=NOUN|VerbForm=Inf' (40), 'Form=Ecl|Mood=Ind|POS=VERB|Person=0|Tense=Fut' (40), 'Case=Nom|Form=HPref|Gender=Fem|Number=Sing|POS=NOUN|PrepForm=Cmpd' (39), 'Case=Dat|Form=Ecl|Gender=Fem|Number=Sing|POS=NOUN' (38), 'Case=Gen|Definite=Def|Gender=Masc|NounType=Weak|Number=Plur|POS=NOUN' (38), 'Form=Len|Mood=Ind|POS=VERB|Polarity=Neg|Tense=Fut' (37), 'Case=Gen|Gender=Masc|NounType=Weak|Number=Plur|POS=ADJ' (37), 'Case=Nom|Form=Ecl|Gender=Masc|Number=Sing|POS=NOUN|PrepForm=Cmpd' (37), 'POS=NOUN' (36), 'POS=AUX|PronType=Rel|Tense=Pres|VerbForm=Cop' (35), 'Form=Direct|POS=PART|PartType=Vb|Polarity=Neg|PronType=Rel' (34), 'Number=Plur|POS=DET|Person=1|Poss=Yes' (33), 'Number=Sing|POS=PRON|PronType=Int' (32), 'Mood=Ind|Number=Sing|POS=VERB|Person=1|Tense=Pres' (32), 'Foreign=Yes|POS=NOUN' (31), 'Form=Len|Mood=Ind|POS=VERB|Person=0|Tense=Fut' (30), 'Number=Plur|POS=ADP|Person=1|Poss=Yes' (30), 'POS=PART|PartType=Voc' (30), 'Case=Nom|Form=HPref|Gender=Masc|Number=Sing|POS=NOUN' (29), 'Case=Nom|Definite=Def|Form=Ecl|Gender=Fem|Number=Plur|POS=NOUN' (29), 'Case=Dat|Gender=Masc|Number=Sing|POS=NOUN|PrepForm=Cmpd' (29), 'Definite=Def|Form=Ecl|POS=DET' (29), 'Case=Nom|Definite=Def|Form=HPref|Gender=Fem|Number=Sing|POS=NOUN' (28), 'Case=Nom|Definite=Def|Form=HPref|Gender=Masc|Number=Sing|POS=NOUN' (28), 'Case=Nom|Form=Ecl|Gender=Fem|Number=Sing|POS=NOUN|PrepForm=Cmpd' (28), 'POS=ADV|PronType=Int' (28), 'Case=Nom|Definite=Def|Gender=Masc|Number=Sing|POS=NOUN|PrepForm=Cmpd' (28), 'Case=Nom|Form=HPref|Gender=Fem|Number=Sing|POS=NOUN' (27), 'Dialect=Munster|POS=DET|PronType=Dem' (27), 'Form=Indirect|POS=PART|PartType=Vb|PronType=Rel|Tense=Past' (27), 'Degree=Cmp,Sup|Form=Len|POS=ADJ' (26), 'Aspect=Hab|Form=Ecl|Mood=Ind|POS=VERB|Tense=Pres' (26), 'Case=Nom|Definite=Def|Form=Len|Number=Sing|POS=NOUN' (26), 'POS=PART|PartType=Cmpl|Polarity=Neg|Tense=Past' (25), 'Gender=Fem|Number=Sing|POS=ADP|Person=3|Poss=Yes|PronType=Prs' (25), 'Form=Ecl|Mood=Cnd|POS=VERB|Person=0' (25), 'Case=Gen|Form=Len|Gender=Masc|NounType=Strong|Number=Plur|POS=NOUN' (24), 'POS=ADP|Poss=Yes' (24), 'Case=Nom|Form=Len|Gender=Masc|Number=Sing|POS=NOUN|PrepForm=Cmpd' (24), 'Case=Nom|Definite=Def|Number=Sing|POS=NOUN' (23), 'Case=Nom|Form=Ecl|Number=Sing|POS=NOUN|PrepForm=Cmpd' (23), 'Form=Len|POS=ADJ|VerbForm=Part' (23), 'Mood=Ind|Number=Plur|POS=VERB|Person=1|Tense=Fut' (23), 'Form=Ecl|Mood=Ind|POS=VERB|Tense=Past' (22), 'Form=VF|POS=AUX|Tense=Pres|VerbForm=Cop' (21), 'Case=Gen|POS=NOUN|VerbForm=Inf' (21), 'POS=AUX|Polarity=Neg|PronType=Rel|Tense=Pres|VerbForm=Cop' (20), 'POS=PRON|PronType=Rel' (20), 'Case=Gen|Definite=Def|Gender=Masc|POS=PROPN' (20), 'Case=Gen|Definite=Def|Gender=Fem|NounType=Strong|Number=Plur|POS=NOUN' (20), 'Mood=Cnd|POS=AUX|VerbForm=Cop' (20), 'Case=Gen|Definite=Def|Form=Ecl|Gender=Fem|NounType=Weak|Number=Plur|POS=NOUN' (20), 'Case=Dat|Gender=Fem|Number=Sing|POS=NOUN|PrepForm=Cmpd' (19), 'Case=Nom|Form=Len|Gender=Masc|Number=Sing|POS=ADJ' (19), 'Case=Gen|Definite=Def|Gender=Masc|NounType=Strong|Number=Plur|POS=NOUN' (19), 'Mood=Ind|POS=VERB|Person=0|Polarity=Neg|Tense=Past' (19), 'POS=ADJ' (19), 'Abbr=Yes|POS=ADV' (18), 'Definite=Def|Number=Sing|POS=PROPN' (18), 'POS=AUX|PronType=Rel|Tense=Past|VerbForm=Cop' (18), 'Number=Sing|POS=ADP|Person=1|PronType=Emp' (18), 'Case=Gen|Definite=Def|Form=Ecl|Gender=Masc|NounType=Weak|Number=Plur|POS=PROPN' (18), 'POS=SYM' (18), 'POS=PART|PartType=Num' (17), 'Form=Len|POS=PRON|PronType=Dem' (17), 'Case=Nom|Form=HPref|Gender=Fem|Number=Plur|POS=NOUN' (17), 'POS=AUX|Polarity=Neg|Tense=Past|VerbForm=Cop' (16), 'Case=Gen|Definite=Def|Form=Ecl|Gender=Masc|Number=Sing|POS=NOUN' (16), 'Form=Ecl|Mood=Cnd|POS=VERB|Polarity=Neg' (16), 'Case=Gen|Definite=Def|Form=Ecl|Gender=Masc|Number=Sing|POS=PROPN' (16), 'Form=Indirect|POS=PART|PartType=Vb|Polarity=Neg|PronType=Rel' (15), 'Form=Len|Mood=Ind|POS=VERB|Polarity=Neg|Tense=Pres' (15), 'Mood=Cnd|POS=VERB' (15), 'Case=Nom|Form=Len|Number=Sing|POS=NOUN' (15), 'Gender=Masc|Number=Sing|POS=PRON|Person=3|PronType=Emp' (15), 'Form=Ecl|NumType=Ord|POS=NUM' (15), 'Form=Direct|POS=PART|PartType=Vb|Polarity=Neg|PronType=Rel|Tense=Past' (15), 'Case=Gen|Definite=Ind|Gender=Masc|NounType=Strong|Number=Plur|POS=NOUN' (15), 'Number=Sing|POS=PRON|Person=3' (14), 'Case=Nom|Form=HPref|Gender=Masc|Number=Plur|POS=NOUN' (14), 'Form=Ecl|Mood=Ind|POS=VERB|Polarity=Neg|Tense=Fut' (14), 'Case=Nom|Gender=Masc|Number=Sing|POS=NOUN|Typo=Yes' (14), 'Case=Gen|Definite=Def|Form=Len|Gender=Fem|Number=Sing|POS=NOUN' (14), 'Aspect=Imp|Form=Ecl|POS=VERB|Tense=Past' (14), 'Form=Indirect|POS=PART|PronType=Rel|Tense=Past' (14), 'POS=INTJ' (14), 'Mood=Int|POS=AUX|Polarity=Neg|Tense=Pres|VerbForm=Cop' (13), 'POS=PRON|PronType=Ind' (13), 'Form=VF|POS=AUX|Tense=Past|VerbForm=Cop' (13), 'Number=Sing|POS=PRON|Person=1|PronType=Emp' (13), 'Form=HPref|POS=NOUN|VerbForm=Inf' (13), 'Number=Plur|POS=ADP|Person=2' (13), 'Definite=Def|Gender=Masc|Number=Plur|POS=PROPN' (13), 'Gender=Fem,Masc|Number=Sing|POS=DET|Person=3|Poss=Yes' (13), 'Case=Nom|Definite=Def|Gender=Masc|Number=Sing|POS=NOUN|Typo=Yes' (12), 'Dialect=Munster|POS=PRON|PronType=Dem' (12), 'Foreign=Yes|Number=Sing|POS=PROPN' (12), 'Mood=Imp|POS=PART|PartType=Vb|Polarity=Neg' (12), 'POS=PART|PartType=Sup|Tense=Past|VerbForm=Cop' (12), 'Case=Nom|Form=Len|Gender=Fem|Number=Sing|POS=NOUN|PrepForm=Cmpd' (12), 'Case=Dat|Definite=Def|Gender=Fem|Number=Sing|POS=NOUN' (11), 'Form=Len|Mood=Ind|Number=Sing|POS=VERB|Person=1|Tense=Past' (11), 'Case=Nom|Gender=Fem|Number=Sing|POS=NOUN|Typo=Yes' (11), 'Definite=Def|Form=Len|POS=DET' (11), 'Mood=Int|POS=AUX|Tense=Pres|VerbForm=Cop' (11), 'Form=Len|Mood=Ind|Number=Plur|POS=VERB|Person=3|Tense=Past' (10), 'Case=Nom|Definite=Def|Gender=Fem|Number=Plur|POS=PROPN' (10), 'Form=HPref|Gender=Masc|Number=Sing|POS=PRON|Person=3' (10), 'Case=Nom|Gender=Masc|Number=Sing|POS=ADJ|Typo=Yes' (10), 'Form=VF|POS=AUX|Polarity=Neg|Tense=Past|VerbForm=Cop' (10), 'Case=Nom|Definite=Def|Gender=Masc|Number=Plur|POS=PROPN' (10), 'Case=Gen|Definite=Def|Gender=Fem|POS=PROPN' (10), 'Dialect=Ulster|Gender=Masc|Number=Sing|POS=ADP|Person=3' (10), 'Case=Gen|Definite=Def|Gender=Masc|NounType=Weak|Number=Plur|POS=PROPN' (10), 'Gender=Masc|Number=Sing|POS=ADJ' (10), 'Definite=Def|POS=NOUN|VerbForm=Vnoun' (10), 'Case=Gen|Form=Len|Gender=Masc|NounType=Weak|Number=Plur|POS=NOUN' (10), 'Abbr=Yes|Case=Nom|Gender=Masc|Number=Sing|POS=ADJ' (10), 'Case=Nom|Definite=Def|Form=HPref|Gender=Fem|Number=Sing|POS=NOUN|PrepForm=Cmpd' (9), 'Form=Len|Mood=Cnd|POS=VERB|Person=0' (9), 'Case=Gen|Definite=Def|Form=Len|Gender=Masc|POS=PROPN' (9), 'Case=Nom|Definite=Def|Gender=Fem|Number=Sing|POS=NOUN|PrepForm=Cmpd' (9), 'Form=Len|Mood=Cnd|POS=VERB|Polarity=Neg' (9), 'Case=Gen|Gender=Masc|Number=Sing|POS=NOUN|Typo=Yes' (8), 'Form=HPref|POS=DET|PronType=Ind' (8), 'Case=Nom|Gender=Masc|Number=Plur|POS=NOUN|Typo=Yes' (8), 'Number=Plur|POS=ADP|Person=1|PronType=Emp' (8), 'Form=Ecl|NumType=Card|POS=NUM' (8), 'Number=Plur|POS=PRON|Person=3|PronType=Emp' (8), 'Form=Ecl|Mood=Ind|POS=VERB|Person=0|Polarity=Neg|Tense=Pres' (8), 'Form=Ecl|Mood=Ind|POS=VERB|Polarity=Neg|Tense=Past' (8), 'Form=Len|Mood=Ind|POS=VERB|Person=0|Polarity=Neg|Tense=Fut' (8), 'Case=Voc|Definite=Def|Form=Len|Gender=Masc|Number=Sing|POS=NOUN' (8), 'POS=PART|PartType=Deg' (8), 'Number=Plur|POS=PRON|Person=2' (8), 'Form=Len|POS=NOUN|VerbForm=Vnoun' (8), 'Mood=Imp|Number=Sing|POS=VERB|Person=3' (8), 'Gender=Fem,Masc|Number=Sing|POS=ADP|Person=3|Poss=Yes' (8), 'Form=Len|Mood=Ind|Number=Sing|POS=VERB|Person=1|Polarity=Neg|Tense=Pres' (7), 'Form=HPref|NumType=Card|POS=NUM' (7), 'Number=Sing|POS=PRON|Person=2|PronType=Emp' (7), 'Case=Gen|Definite=Def|Gender=Fem|NounType=Weak|Number=Plur|POS=NOUN' (7), 'Case=Nom|Foreign=Yes|Gender=Masc|Number=Sing|POS=NOUN' (7), 'Case=Voc|Definite=Def|Form=Len|Gender=Masc|Number=Sing|POS=PROPN' (7), 'Case=Gen|Definite=Def|Gender=Fem|Number=Plur|POS=DET|PronType=Art' (7), 'Case=Nom|Definite=Def|Gender=Masc|POS=PROPN' (7), 'Case=Gen|Definite=Def|Form=Ecl|Gender=Fem|Number=Sing|POS=NOUN' (7), 'POS=ADP|PronType=Art' (7), 'POS=CCONJ|Typo=Yes' (7), 'POS=ADP|PronType=Rel' (7), 'Mood=Ind|Number=Plur|POS=VERB|Person=1|Tense=Past' (7), 'Case=Dat|Definite=Def|Gender=Fem|Number=Sing|POS=NOUN|PrepForm=Cmpd' (7), 'Form=Len|Mood=Ind|POS=VERB|PronType=Rel|Tense=Fut' (7), 'Case=Nom|Definite=Def|Gender=Masc|POS=NOUN' (7), 'Case=Dat|Definite=Def|Form=HPref|Gender=Fem|Number=Sing|POS=PROPN' (7), 'Case=Gen|Gender=Fem|NounType=Weak|Number=Plur|POS=ADJ' (7), 'Form=Ecl|Mood=Cnd|Number=Sing|POS=VERB|Person=1' (6), 'Aspect=Imp|Form=Len|POS=VERB|Person=0|Tense=Past' (6), 'Form=Len|Mood=Cnd|Number=Sing|POS=VERB|Person=1' (6), 'Form=Len|Mood=Ind|POS=VERB|Person=0|Tense=Past' (6), 'Case=Gen|Gender=Fem|Number=Sing|POS=NOUN|Typo=Yes' (6), 'Case=Gen|Definite=Ind|Gender=Fem|Number=Sing|POS=NOUN' (6), 'Form=Len|Mood=Ind|POS=VERB|Person=0|Polarity=Neg|Tense=Pres' (6), 'Mood=Cnd|Number=Sing|POS=VERB|Person=1' (6), 'Form=Len|Number=Sing|POS=PRON|Person=2' (6), 'Form=Len|Mood=Ind|POS=VERB|PronType=Rel|Tense=Pres' (6), 'Gender=Masc|Number=Sing|POS=AUX|Person=3|Tense=Pres|VerbForm=Cop' (6), 'Form=Len|Mood=Ind|Number=Plur|POS=VERB|Person=1|Tense=Past' (6), 'Case=Gen|Definite=Def|POS=NOUN|VerbForm=Inf' (6), 'Form=Len|Mood=Cnd|Number=Sing|POS=VERB|Person=2' (6), 'POS=PRON' (6), 'Abbr=Yes|Definite=Def|POS=NOUN' (6), 'Form=Len|POS=NOUN|Typo=Yes|VerbForm=Inf' (6), 'Aspect=Imp|POS=VERB|Tense=Past' (6), 'Form=Emp|Mood=Ind|Number=Sing|POS=VERB|Person=1|Tense=Pres' (6), 'Form=Len|POS=PART|PartType=Pat' (6), 'Form=Len|Mood=Ind|Number=Sing|POS=VERB|Person=1|Tense=Pres' (6), 'Form=Len|Mood=Ind|Number=Plur|POS=VERB|Person=1|Tense=Pres' (6), 'Case=Gen|Form=Len|Gender=Fem|NounType=Strong|Number=Plur|POS=NOUN' (6), 'Mood=Cnd|Number=Sing|POS=VERB|Person=2' (6), 'Number=Plur|POS=DET|Person=2|Poss=Yes' (6), 'Case=Nom|Gender=Masc|Number=Plur|POS=ADJ' (6), 'Mood=Ind|POS=VERB|Person=0|Polarity=Neg|Tense=Pres' (6), 'Case=Nom|Definite=Def|Form=Len|POS=NOUN|VerbForm=Inf' (5), 'POS=NOUN|Typo=Yes|VerbForm=Inf' (5), 'POS=AUX|Polarity=Neg|PronType=Rel|Tense=Past|VerbForm=Cop' (5), 'Case=Gen|Definite=Def|Gender=Fem|Number=Sing|POS=PROPN|Typo=Yes' (5), 'Form=Ecl|Mood=Ind|POS=VERB|Person=0|Polarity=Neg|Tense=Fut' (5), 'Form=Ecl|POS=NOUN|VerbForm=Inf' (5), 'Case=Nom|Form=Ecl|Number=Sing|POS=NOUN' (5), 'Form=VF|POS=AUX|PronType=Rel|Tense=Past|VerbForm=Cop' (5), 'Case=Nom|Definite=Def|Gender=Masc|Number=Sing|POS=NOUN|VerbForm=Inf' (5), 'Case=Nom|Definite=Def|Form=HPref|Gender=Fem|Number=Sing|POS=PROPN' (5), 'Form=Ecl|Mood=Cnd|POS=VERB|Person=0|Polarity=Neg' (5), 'Aspect=Hab|Form=Len|Mood=Ind|POS=VERB|Polarity=Neg|Tense=Pres' (5), 'Form=Len|Number=Plur|POS=ADP|Person=3' (5), 'Case=Gen|Definite=Def|Form=Len|POS=NOUN|VerbForm=Inf' (5), 'Case=Nom|Definite=Def|Form=Len|Gender=Fem|Number=Sing|POS=NOUN|PrepForm=Cmpd' (5), 'Gender=Fem|Number=Sing|POS=PRON|Person=3|PronType=Emp' (5), 'Case=Nom|Gender=Masc|POS=NOUN' (5), 'Form=Ecl|Mood=Cnd,Int|POS=VERB' (5), 'Case=Nom|Number=Sing|POS=ADJ' (5), 'Mood=Imp|Number=Sing|POS=VERB|Person=2|Polarity=Neg' (5), 'Case=Voc|Definite=Def|Gender=Masc|Number=Sing|POS=PROPN' (5), 'Number=Sing|POS=ADP|Person=2|Poss=Yes' (5), 'Form=Ecl|Mood=Cnd|Number=Sing|POS=VERB|Person=2' (5), 'Case=Gen|Definite=Def|Gender=Fem|NounType=Strong|Number=Plur|POS=PROPN' (5), 'Form=Ecl|Mood=Ind|POS=VERB|Person=0|Tense=Past' (5), 'Number=Sing|POS=ADP|Person=2|PronType=Emp' (5), 'POS=SCONJ|Tense=Pres|VerbForm=Cop' (5), 'Aspect=Imp|Form=Len|Number=Plur|POS=VERB|Person=3|Tense=Past' (4), 'Case=Nom|Definite=Def|Gender=Fem|Number=Sing|POS=NOUN|Typo=Yes' (4), 'Case=Dat|Gender=Masc|Number=Sing|POS=NOUN' (4), 'Mood=Cnd|POS=VERB|Polarity=Neg' (4), 'Number=Sing|POS=ADP|Person=1|Poss=Yes' (4), 'Definite=Def|Dialect=Ulster|POS=DET' (4), 'Form=Ecl|Mood=Ind|Number=Sing|POS=VERB|Person=1|Tense=Pres' (4), 'POS=SCONJ|Tense=Past|VerbForm=Cop' (4), 'Mood=Int|POS=AUX|Polarity=Neg|Tense=Past|VerbForm=Cop' (4), 'Foreign=Yes|Gender=Masc|Number=Sing|POS=PROPN' (4), 'Abbr=Yes|POS=SYM' (4), 'Mood=Imp|Number=Plur|POS=VERB|Person=1' (4), 'Case=Nom|Form=HPref|Number=Sing|POS=NOUN|PrepForm=Cmpd' (4), 'Form=Len|POS=PRON|Reflex=Yes' (4), 'Case=Gen|Definite=Def|Gender=Masc|NounType=Strong|Number=Plur|POS=PROPN' (4), 'Case=Nom|POS=NOUN' (4), 'Gender=Masc|Number=Sing|POS=NOUN' (4), 'Case=Nom|Definite=Def|POS=NOUN' (4), 'Form=Ecl|POS=AUX|Tense=Past|VerbForm=Cop' (4), 'Case=Nom|Definite=Def|Gender=Masc|Number=Plur|POS=NOUN|Typo=Yes' (4), 'Form=Len|Gender=Fem|Number=Sing|POS=ADJ' (4), 'Degree=Pos|POS=ADJ|Typo=Yes' (4), 'Definite=Def|Gender=Masc|Number=Sing|POS=NOUN' (4), 'Case=Dat|Definite=Def|Form=Len|Gender=Fem|Number=Sing|POS=NOUN' (4), 'Mood=Cnd|POS=VERB|Person=0' (4), 'Form=Ecl|Mood=Ind|Number=Plur|POS=VERB|Person=1|Tense=Fut' (4), 'Definite=Def|Form=HPref|Gender=Masc|Number=Sing|POS=PROPN' (4), 'Case=Gen|Definite=Def|Form=Len|Gender=Masc|NounType=Strong|Number=Plur|POS=NOUN' (4), 'Form=Ecl|Mood=Ind|POS=VERB|Person=0|Polarity=Neg|Tense=Past' (4), 'Aspect=Hab|Mood=Ind|Number=Sing|POS=VERB|Person=1|Tense=Pres' (4), 'Form=VF|POS=SCONJ|VerbForm=Cop' (4), 'Abbr=Yes|Definite=Def|POS=PROPN' (4), 'Definite=Def|Form=Len|POS=NOUN|VerbForm=Vnoun' (4), 'Aspect=Imp|Form=Ecl|Number=Sing|POS=VERB|Person=1|Tense=Past' (3), 'Form=Len|Mood=Ind|POS=VERB|Tense=Pres|Typo=Yes' (3), 'Case=Dat|Definite=Def|Gender=Masc|Number=Sing|POS=NOUN' (3), 'Case=Nom|Form=Len|Gender=Masc|NounType=NotSlender|Number=Plur|POS=ADJ' (3), 'POS=ADJ|Typo=Yes|VerbForm=Part' (3), 'Dialect=Munster|Mood=Ind|POS=VERB|Person=0|Tense=Past' (3), 'Case=Nom|Gender=Fem|Number=Plur|POS=NOUN|Typo=Yes' (3), 'Case=Nom|Definite=Ind|Gender=Masc|Number=Plur|POS=NOUN' (3), 'Case=Nom|Gender=Masc|NounType=NotSlender|Number=Plur|POS=ADJ|Typo=Yes' (3), 'Case=Voc|Definite=Def|Form=Len|Gender=Masc|Number=Plur|POS=NOUN' (3), 'Dialect=Munster|Form=Len|Mood=Ind|POS=VERB|Tense=Past' (3), 'Mood=Ind|Number=Sing|POS=VERB|Person=1|Tense=Past' (3), 'Definite=Def|POS=PROPN|Reflex=Yes' (3), 'Number=Plur|POS=PRON|Person=1|PronType=Emp' (3), 'Mood=Ind|POS=VERB|Tense=Fut|Typo=Yes' (3), 'Form=HPref|Number=Plur|POS=PRON|Person=3' (3), 'Case=Nom|Definite=Def|POS=NOUN|VerbForm=Inf' (3), 'Case=Nom|Definite=Def|Number=Sing|POS=NOUN|PrepForm=Cmpd' (3), 'Abbr=Yes|POS=X' (3), 'Mood=Ind|POS=VERB|Person=0|Tense=Pres|Typo=Yes' (3), 'Form=Len|POS=ADV' (3), 'Case=Nom|Definite=Def|Form=Ecl|Number=Sing|POS=NOUN' (3), 'Mood=Imp|Number=Plur|POS=VERB|Person=2' (3), 'Case=Dat|Definite=Def|Form=Len|Gender=Masc|Number=Sing|POS=NOUN' (3), 'Case=Nom|Definite=Def|Dialect=Munster|Gender=Masc|Number=Sing|POS=NOUN' (3), 'Case=Nom|Definite=Def|Form=Len|Gender=Fem|Number=Sing|POS=NOUN|Typo=Yes' (3), 'Form=Len|POS=ADP' (3), 'POS=ADP|Typo=Yes' (3), 'Case=Nom|Definite=Def|Form=Len|Gender=Masc|Number=Sing|POS=NOUN|Typo=Yes' (3), 'Number=Sing|POS=PART|PartType=Comp' (3), 'Definite=Def|Form=HPref|POS=NOUN|VerbForm=Inf' (3), 'POS=SCONJ|Tense=Past' (3), 'Form=Ecl|Number=Sing|POS=NOUN' (3), 'POS=ADV|Typo=Yes' (3), 'Case=Nom|Gender=Fem|NounType=Slender|Number=Plur|POS=ADJ' (3), 'POS=NOUN|Typo=Yes|VerbForm=Vnoun' (3), 'Definite=Def|Form=HPref|POS=NOUN|VerbForm=Vnoun' (3), 'Form=VF|Mood=Int|POS=AUX|Tense=Past|VerbForm=Cop' (3), 'Form=Len|Gender=Masc|Number=Sing|POS=ADP|Person=3' (3), 'Case=Nom|Form=Len|Gender=Masc|Number=Sing|POS=NOUN|Typo=Yes' (3), 'Case=Gen|Definite=Def|Form=Ecl|Gender=Masc|NounType=Strong|Number=Plur|POS=PROPN' (3), 'Abbr=Yes|Case=Nom|Gender=Masc|Number=Sing|POS=NOUN' (3), 'Case=Gen|Definite=Def|Gender=Fem|Number=Sing|POS=NOUN|Typo=Yes' (3), 'Definite=Def|Foreign=Yes|POS=PROPN' (3), 'Case=Nom|Definite=Def|Form=Ecl|Gender=Masc|POS=NOUN' (3), 'Abbr=Yes|POS=ADJ' (3), 'Mood=Ind|POS=VERB|Person=0|Polarity=Neg|Tense=Fut' (3), 'Definite=Def|Form=Ecl|POS=NOUN|VerbForm=Vnoun' (3), 'Number=Plur|POS=ADP|Person=3|PronType=Emp' (2), 'Form=Len|Number=Plur|POS=ADP|Person=1' (2), 'Case=Nom|Definite=Def|Number=Plur|POS=PROPN' (2), 'Form=VF|POS=AUX|Polarity=Neg|PronType=Rel|Tense=Past|VerbForm=Cop' (2), 'Case=Nom|Definite=Def|Form=Emp|Gender=Masc|Number=Sing|POS=NOUN' (2), 'Case=Dat|Gender=Fem|Number=Plur|POS=NOUN' (2), 'Case=Nom|Definite=Def|Form=HPref|Gender=Masc|Number=Sing|POS=PROPN' (2), 'Abbr=Yes|POS=NUM' (2), 'Mood=Ind|Number=Sing|POS=VERB|Person=1|Polarity=Neg|Tense=Pres' (2), 'Definite=Def|Form=Len|POS=PROPN' (2), 'Form=Len|Mood=Cnd|Number=Plur|POS=VERB|Person=3' (2), 'Case=Nom|Foreign=Yes|Gender=Masc|Number=Sing|POS=PROPN' (2), 'Case=Voc|Definite=Def|Form=Len|Gender=Fem|POS=PROPN' (2), 'Case=Nom|Form=Ecl|Gender=Fem|Number=Sing|POS=NOUN|Typo=Yes' (2), 'Case=Nom|Definite=Def|Number=Sing|POS=PROPN' (2), 'Form=Len|Mood=Ind|Number=Plur|POS=VERB|Person=1|Tense=Fut' (2), 'Case=Nom|Dialect=Munster|Gender=Masc|Number=Sing|POS=NOUN' (2), 'Case=Nom|Definite=Def|Form=Len|Gender=Masc|Number=Plur|POS=NOUN|Typo=Yes' (2), 'Case=Nom|Definite=Def|Form=Emp,Len|Gender=Fem|Number=Sing|POS=NOUN' (2), 'Mood=Cnd|POS=VERB|Person=0|Polarity=Neg' (2), 'Form=Len|Number=Sing|POS=ADP|Person=1' (2), 'Dialect=Munster|Mood=Imp|Number=Sing|POS=VERB|Person=2|Polarity=Neg' (2), 'Mood=Ind|POS=VERB|PronType=Rel|Tense=Fut|Typo=Yes' (2), 'Case=Gen|Definite=Def|Form=Len|Gender=Fem|POS=PROPN' (2), 'Form=Ecl|Mood=Ind|Number=Plur|POS=VERB|Person=1|Tense=Pres' (2), 'Form=Ecl,Indirect|POS=PART|PartType=Vb|PronType=Rel' (2), 'Case=Gen|Form=Len|POS=NOUN|VerbForm=Inf' (2), 'Form=Len|POS=PRON|PronType=Ind' (2), 'Form=Len|Mood=Ind|POS=VERB|Tense=Past|Typo=Yes' (2), 'Aspect=Imp|Form=Len|Number=Sing|POS=VERB|Person=1|Tense=Past' (2), 'Aspect=Hab|Form=Ecl|Mood=Ind|POS=VERB|Polarity=Neg|Tense=Pres' (2), 'Case=Nom|Definite=Def|Form=Ecl|Gender=Fem|Number=Sing|POS=NOUN|PrepForm=Cmpd' (2), 'Definite=Def|Form=HPref|POS=PROPN' (2), 'Case=Nom|Definite=Def|Gender=Fem|Number=Plur|POS=NOUN|Typo=Yes' (2), 'POS=AUX|PronType=Dem|Tense=Pres|VerbForm=Cop' (2), 'Mood=Sub|POS=PART|PartType=Vb' (2), 'Form=Ecl|Mood=Sub|POS=VERB|Tense=Pres' (2), 'Case=Nom|Definite=Def|Gender=Masc|Number=Sing|POS=PROPN|Typo=Yes' (2), 'Case=Nom|Definite=Def|Form=Ecl|Gender=Masc|Number=Sing|POS=NOUN|Typo=Yes' (2), 'Mood=Ind|Number=Sing|POS=VERB|Person=1|Tense=Fut' (2), 'Case=Gen|POS=NOUN|Typo=Yes|VerbForm=Inf' (2), 'Definite=Def|Form=Ecl|Gender=Masc|Number=Sing|POS=PROPN' (2), 'Definite=Def|Gender=Fem|POS=PROPN' (2), 'Form=Ecl|Mood=Cnd|Number=Plur|POS=VERB|Person=3' (2), 'Case=Nom|Form=Len|Gender=Masc|NounType=Slender|Number=Plur|POS=ADJ|Typo=Yes' (2), 'Definite=Def|Gender=Fem|Number=Plur|POS=PROPN' (2), 'Definite=Def|Foreign=Yes|Gender=Masc|Number=Sing|POS=PROPN' (2), 'Case=Nom|Definite=Def|Form=Ecl|Gender=Fem|Number=Plur|POS=PROPN' (2), 'Form=Direct|Mood=Ind|Number=Sing|POS=VERB|Person=1|PronType=Rel|Tense=Pres' (2), 'Definite=Def|Gender=Masc|Number=Sing|POS=PROPN|Typo=Yes' (2), 'Mood=Ind|Number=Plur|POS=VERB|Person=3|Tense=Past' (2), 'Form=Ecl|Mood=Ind|Number=Sing|POS=VERB|Tense=Pres' (2), 'Case=Nom|Definite=Def|Form=Ecl|POS=NOUN' (2), 'Mood=Ind|POS=VERB|Polarity=Neg|Tense=Fut' (2), 'Case=Voc|Definite=Def|Form=Len|Gender=Fem|Number=Sing|POS=PROPN' (2), 'Case=Nom|Definite=Def|Number=Plur|POS=NOUN' (2), 'Case=Nom|Definite=Def|Form=Ecl|Gender=Fem|Number=Sing|POS=NOUN|Typo=Yes' (2), 'Case=Voc|Definite=Def|Form=Len|Gender=Masc|POS=PROPN' (2), 'Case=Nom|Definite=Def|Form=Len|Gender=Masc|Number=Sing|POS=NOUN|VerbForm=Inf' (2), 'Case=Nom|Form=Len|Gender=Masc|Number=Plur|POS=ADJ' (2), 'Definite=Def|Form=Len|Gender=Masc|Number=Plur|POS=PROPN' (2), 'Form=VF|POS=PART|PartType=Sup' (2), 'Abbr=Yes|Definite=Def|Form=Ecl|POS=NOUN' (2), 'Form=Ecl|Mood=Cnd,Int|Number=Sing|POS=VERB|Person=1' (2), 'Form=Direct|Mood=Ind|POS=VERB|Person=0|PronType=Rel|Tense=Pres' (2), 'Number=Sing|POS=ADJ' (2), 'Case=Nom|Definite=Def|Form=Ecl|Gender=Masc|Number=Sing|POS=PROPN|Typo=Yes' (2), 'Aspect=Hab|Form=Len|Mood=Ind|Number=Plur|POS=VERB|Person=1|Tense=Pres' (2), 'Gender=Fem|Number=Sing|POS=ADJ' (2), 'Case=Nom|POS=NOUN|VerbForm=Inf' (2), 'Abbr=Yes|Case=Nom|Gender=Fem|Number=Sing|POS=ADJ' (2), 'Foreign=Yes|POS=SYM' (2), 'Foreign=Yes|POS=DET' (2), 'Foreign=Yes|POS=ADP' (2), 'Case=Nom|Form=Len|Gender=Fem|Number=Sing|POS=ADJ|Typo=Yes' (2), 'Form=VF|POS=PART|PartType=Comp' (2), 'Form=Len|Mood=Imp|Number=Sing|POS=VERB|Person=2' (2), 'Aspect=Hab|Mood=Ind|Number=Plur|POS=VERB|Person=1|Tense=Pres' (2), 'Case=Nom|Form=Ecl|Gender=Fem|Number=Plur|POS=NOUN|Typo=Yes' (2), 'Form=Direct,Emp|Mood=Ind|Number=Sing|POS=VERB|Person=1|PronType=Rel|Tense=Pres' (1), 'Case=Nom|Gender=Fem|Number=Sing|POS=NOUN|PrepForm=Cmpd|Typo=Yes' (1), 'Case=Dat|Form=Ecl|Gender=Masc|Number=Sing|POS=NOUN' (1), 'Case=Gen|Definite=Def|Gender=Masc|NounType=Weak|Number=Plur|POS=NOUN|Typo=Yes' (1), 'Dialect=Munster|POS=ADP' (1), 'Case=Nom|Form=Ecl|Gender=Masc|Number=Sing|POS=ADJ' (1), 'Form=Len|Mood=Sub|POS=VERB|Tense=Pres' (1), 'POS=DET|PronType=Dem|Typo=Yes' (1), 'Aspect=Imp|POS=VERB|Person=0|Tense=Past' (1), 'Definite=Def|Number=Sing|POS=NOUN' (1), 'Case=Gen|Definite=Def|Number=Plur|POS=PROPN' (1), 'Case=Gen|Definite=Def|Number=Sing|POS=PROPN' (1), 'Form=HPref|Mood=Ind|POS=VERB|Person=0|Tense=Past' (1), 'Form=HPref|Mood=Ind|POS=VERB|Person=0|Tense=Pres' (1), 'Definite=Def|Foreign=Yes|POS=NOUN' (1), 'Form=Emp|Mood=Ind|Number=Plur|POS=VERB|Person=1|Tense=Pres' (1), 'Mood=Cnd|Number=Plur|POS=VERB|Person=3' (1), 'Case=Nom|Definite=Def|Form=Ecl|Gender=Masc|Number=Sing|POS=NOUN|PrepForm=Cmpd' (1), 'Definite=Def|POS=NOUN|Typo=Yes|VerbForm=Inf' (1), 'Form=HPref|Mood=Imp|Number=Sing|POS=VERB|Person=2|Polarity=Neg' (1), 'Case=Nom|Foreign=Yes|Number=Sing|POS=NOUN' (1), 'Form=Len|Number=Plur|POS=ADP|Person=3|Poss=Yes|PronType=Prs' (1), 'Case=Gen|Definite=Def|Form=Ecl|Gender=Masc|NounType=Weak|Number=Plur|POS=NOUN|Typo=Yes' (1), 'Dialect=Munster|Form=Len|Mood=Ind|Number=Sing|POS=VERB|Person=1|Tense=Past' (1), 'Form=HPref|Mood=Imp|Number=Plur|POS=VERB|Person=2|Polarity=Neg' (1), 'Form=HPref|Gender=Fem|Number=Sing|POS=PRON|Person=3' (1), 'Dialect=Ulster|POS=PRON|VerbForm=Cop' (1), 'Gender=Masc|Number=Plur|POS=ADJ' (1), 'Form=Emp,Len|Mood=Ind|Number=Sing|POS=VERB|Person=1|Polarity=Neg|Tense=Pres' (1), 'Case=Gen|Definite=Def|Form=Len|Gender=Masc|POS=NOUN' (1), 'Mood=Imp|Number=Plur|POS=VERB|Person=1|Polarity=Neg' (1), 'Form=Indirect|POS=PART|PartType=Vb|Polarity=Neg|PronType=Rel|Tense=Past' (1), 'Case=Gen|Form=Len|Gender=Masc|Number=Sing|POS=ADJ|Typo=Yes' (1), 'Form=Emp|Mood=Ind|Number=Sing|POS=VERB|Person=1|Tense=Fut' (1), 'POS=PART|PartType=Cop|PronType=Rel' (1), 'Case=Dat|Definite=Ind|Gender=Fem|Number=Sing|POS=NOUN' (1), 'Form=Ecl|Mood=Ind|Number=Sing|POS=VERB|Person=1|Tense=Past' (1), 'Case=Voc|Form=Len|Gender=Masc|Number=Sing|POS=ADJ' (1), 'Form=Emp,Len|Mood=Cnd|Number=Sing|POS=VERB|Person=1' (1), 'Form=HPref|Mood=Cnd|POS=VERB|Polarity=Neg' (1), 'Case=Nom|Foreign=Yes|Gender=Masc|Number=Plur|POS=NOUN' (1), 'Case=Voc|Definite=Def|Gender=Fem|Number=Sing|POS=NOUN' (1), 'Form=Len|Gender=Masc|Number=Sing|POS=ADP|Person=3|Poss=Yes' (1), 'Aspect=Imp|Form=Ecl|POS=VERB|Polarity=Neg|Tense=Past' (1), 'Case=Nom|Form=Ecl|POS=NOUN' (1), 'Case=Nom|Definite=Def|Form=Ecl|POS=NOUN|VerbForm=Inf' (1), 'Form=Ecl|Gender=Fem|Number=Sing|POS=DET|Person=3|Poss=Yes' (1), 'Definite=Def|Form=Ecl|Number=Sing|POS=NOUN' (1), 'Case=Nom|Foreign=Yes|Gender=Fem|Number=Sing|POS=NOUN' (1), 'Case=Nom|Form=Ecl|Gender=Fem|POS=NOUN' (1), 'Dialect=Munster|Form=Len|Mood=Ind|POS=VERB|Tense=Pres' (1), 'Form=Len|POS=ADP|Person=3|Poss=Yes|PronType=Prs' (1), 'Case=Gen|Dialect=Ulster|Gender=Fem|Number=Sing|POS=NOUN' (1), 'Gender=Masc|Number=Sing|POS=ADP|Person=3|Typo=Yes' (1), 'Case=Gen|Gender=Masc|Number=Sing|POS=PROPN' (1), 'Gender=Masc|Number=Sing|POS=ADP|Person=3|PronType=Emp' (1), 'Form=Len|Mood=Ind|POS=VERB|Polarity=Neg|Tense=Fut|Typo=Yes' (1), 'Case=Dat|Form=Len|Gender=Masc|Number=Plur|POS=NOUN|PrepForm=Cmpd' (1), 'Case=Gen|Definite=Def|Form=Len|Gender=Masc|Number=Sing|POS=NOUN|Typo=Yes' (1), 'Case=Nom|Definite=Def|Form=Len|Gender=Masc|Number=Sing|POS=NOUN|PrepForm=Cmpd' (1), 'Number=Sing|POS=PRON|Person=1|Typo=Yes' (1), 'Case=Nom|Gender=Masc|Number=Sing|POS=NOUN|PrepForm=Cmpd|Typo=Yes' (1), 'Degree=Cmp,Sup|POS=ADJ|Typo=Yes' (1), 'Foreign=Yes|Number=Sing|POS=NOUN' (1), 'Case=Gen|Form=Len|Gender=Fem|NounType=Weak|Number=Plur|POS=NOUN' (1), 'Aspect=Imp|Form=Ecl,Emp|Number=Sing|POS=VERB|Person=1|Tense=Past' (1), 'Definite=Def|Dialect=Munster|Form=Len|Gender=Fem|Number=Sing|POS=PROPN' (1), 'Form=Len|Number=Sing|POS=NOUN' (1), 'Form=HPref|Gender=Masc|Number=Sing|POS=ADP|Person=3' (1), 'Case=Nom|Definite=Def|Form=Ecl|Gender=Fem|Number=Sing|POS=NOUN|Typo=Yes|VerbForm=Inf' (1), 'Form=Len|Gender=Masc|Number=Sing|POS=ADJ' (1), 'Mood=Ind|Number=Sing|POS=VERB|Person=1|Polarity=Neg|Tense=Past' (1), 'Definite=Def|Gender=Masc|POS=PROPN' (1), 'Form=Ecl|Mood=Cnd|Number=Plur|POS=VERB|Person=3|Polarity=Neg' (1), 'Foreign=Yes|Form=Ecl|Number=Sing|POS=NOUN' (1), 'Form=Ecl|Mood=Cnd,Int|POS=VERB|Person=0' (1), 'Case=Nom|Definite=Def|Form=Ecl|Gender=Fem|POS=NOUN' (1), 'Mood=Ind|POS=VERB|Polarity=Neg|Tense=Fut|Typo=Yes' (1), 'Case=Nom|Dialect=Ulster|Gender=Masc|Number=Plur|POS=NOUN' (1), 'POS=ADP|PrepForm=Cmpd|Typo=Yes' (1), 'Form=Len|Mood=Ind|POS=VERB|Person=0|Tense=Past|Typo=Yes' (1), 'Case=Nom|Gender=Masc|Number=Sing|POS=PROPN' (1), 'Case=Nom|Definite=Def|Form=Ecl|POS=PROPN' (1), 'Mood=Sub|POS=PART|PartType=Cmpl' (1), 'Form=VF|POS=SCONJ|Tense=Pres|VerbForm=Cop' (1), 'Definite=Def|Foreign=Yes|Gender=Masc|Number=Sing|POS=NOUN' (1), 'Case=Nom|Definite=Def|Form=HPref|Gender=Masc|Number=Plur|POS=PROPN' (1), 'Form=Len|Mood=Cnd|Number=Plur|POS=VERB|Person=1' (1), 'Case=Gen|Definite=Def|Form=Ecl|Gender=Fem|NounType=Strong|Number=Plur|POS=PROPN' (1), 'Case=Gen|Definite=Def|Form=Ecl|POS=NOUN|VerbForm=Inf' (1), 'POS=PROPN' (1), 'Mood=Sub|POS=VERB|Tense=Pres' (1), 'Form=Ecl|Mood=Cnd,Int|Number=Sing|POS=VERB|Person=2' (1), 'Case=Dat|Form=Ecl|Gender=Fem|Number=Plur|POS=NOUN' (1), 'Form=Len|POS=PROPN' (1), 'Case=Dat|Gender=Masc|Number=Plur|POS=NOUN' (1), 'Form=Ecl,Emp|Mood=Ind|Number=Plur|POS=VERB|Person=1|Polarity=Neg|Tense=Pres' (1), 'Definite=Def|Foreign=Yes|Number=Sing|POS=NOUN' (1), 'Form=Ecl,Emp|Mood=Ind|Number=Sing|POS=VERB|Person=1|Tense=Pres' (1), 'Gender=Masc|Number=Sing|POS=PROPN' (1), 'Definite=Def|Foreign=Yes|Form=Len|Gender=Masc|Number=Sing|POS=PROPN' (1), 'Foreign=Yes|Gender=Masc|Number=Sing|POS=NOUN' (1), 'Form=Ecl|Mood=Ind|Number=Plur|POS=VERB|Person=3|Tense=Pres' (1), 'Aspect=Imp|Form=Len|Number=Plur|POS=VERB|Person=3|Polarity=Neg|Tense=Past' (1), 'Mood=Sub|POS=PART|PartType=Vb|Polarity=Neg' (1), 'Mood=Sub|POS=VERB|Polarity=Neg|Tense=Pres' (1), 'Form=VF|POS=PRON|PronType=Int|VerbForm=Cop' (1), 'Case=Nom|Definite=Def|Gender=Fem|Number=Sing|POS=NOUN|VerbForm=Inf' (1), 'Form=Len|Gender=Fem|Number=Sing|POS=ADP|Person=3|Poss=Yes|PronType=Prs' (1), 'Form=Len|POS=SCONJ' (1), 'Form=Ecl|Mood=Ind|Number=Plur|POS=VERB|Person=1|Polarity=Neg|Tense=Pres' (1), 'Case=Gen|Dialect=Connaught|Gender=Fem|Number=Sing|POS=NOUN' (1), 'Definite=Def|Form=Len|Number=Sing|POS=PROPN' (1), 'Case=Nom|Definite=Def|Form=Ecl|Number=Sing|POS=PROPN' (1), 'Case=Nom|Dialect=Ulster|Gender=Masc|Number=Sing|POS=NOUN' (1), 'Number=Plur|POS=PRON|Person=3|Typo=Yes' (1), 'Foreign=Yes|Gender=Fem|Number=Plur|POS=NOUN' (1), 'Foreign=Yes|POS=ADJ' (1), 'Mood=Ind|Number=Plur|POS=VERB|Person=3|Tense=Pres' (1), 'Definite=Def|Form=Len|Gender=Masc|Number=Sing|POS=PROPN|Typo=Yes' (1), 'Definite=Def|Gender=Fem|Number=Sing|POS=NOUN' (1), 'Case=Dat|Definite=Def|Form=Ecl|Gender=Masc|Number=Sing|POS=NOUN' (1), 'Case=Dat|Form=Ecl|Gender=Masc|Number=Sing|POS=NOUN|PrepForm=Cmpd' (1), 'Dialect=Munster|Form=Ecl|Mood=Ind|Number=Plur|POS=VERB|Person=3|Tense=Pres' (1), 'Case=Dat|Definite=Def|Gender=Masc|Number=Sing|POS=PROPN' (1), 'Form=HPref|Mood=Ind|POS=VERB|Person=0|Polarity=Neg|Tense=Past' (1), 'Dialect=Munster|POS=PART|PartType=Cmpl|Polarity=Neg' (1), 'Form=Ecl|Mood=Ind|Number=Plur|POS=VERB|Person=1|Polarity=Neg|Tense=Past' (1), 'Aspect=Imp|Form=Ecl|Number=Plur|POS=VERB|Person=1|Tense=Past' (1), 'Definite=Def|Form=Ecl|Gender=Masc|Number=Plur|POS=NOUN' (1), 'Case=Gen|Definite=Def|Form=Emp,Len|Gender=Masc|Number=Sing|POS=NOUN' (1), 'Dialect=Connaught|Number=Plur|POS=ADP|Person=3' (1), 'Number=Plur|POS=ADP|Person=2|PronType=Emp' (1), 'Case=Gen|Definite=Def|Foreign=Yes|Gender=Fem|Number=Sing|POS=PROPN|Typo=Yes' (1), 'Mood=Imp|POS=VERB|Person=0|Polarity=Neg' (1), 'Foreign=Yes|Form=Ecl|POS=X' (1), 'Mood=Cnd|Number=Sing|POS=VERB|Person=2|Polarity=Neg' (1), 'Dialect=Munster|Mood=Cnd|Number=Sing|POS=VERB|Person=2' (1), 'Mood=Imp|Number=Sing|POS=VERB|Person=3|Polarity=Neg' (1), 'Aspect=Imp|POS=VERB|Polarity=Neg|Tense=Past' (1), 'NumType=Ord|POS=NUM|Typo=Yes' (1), 'Case=Voc|Definite=Def|Gender=Masc|Number=Sing|POS=NOUN' (1), 'Degree=Cmp,Sup|POS=ADJ|VerbForm=Part' (1), 'Case=Gen|Definite=Def|Form=Len|Gender=Fem|NounType=Weak|Number=Plur|POS=PROPN' (1), 'Dialect=Connaught|POS=PRON' (1), 'Dialect=Connaught|POS=ADV' (1), 'Form=Len|Mood=Ind|Number=Plur|POS=VERB|Tense=Past' (1), 'Aspect=Imp|Form=Len|POS=VERB|Polarity=Neg|Tense=Past' (1), 'Case=Gen|Definite=Def|Form=Ecl|Gender=Fem|NounType=Weak|Number=Plur|POS=PROPN' (1), 'Case=Gen|Definite=Def|Form=Len|Gender=Fem|NounType=Strong|Number=Plur|POS=PROPN' (1), 'Form=Len|POS=ADP|PrepForm=Cmpd' (1), 'Case=Nom|Definite=Def|Dialect=Connaught|Gender=Masc|Number=Plur|POS=NOUN' (1), 'Form=Emp,Len|Mood=Ind|Number=Plur|POS=VERB|Person=3|Polarity=Neg|Tense=Past' (1), 'Form=Len|POS=ADJ|Typo=Yes|VerbForm=Part' (1), 'Aspect=Imp|Form=Len|POS=VERB|PronType=Rel|Tense=Past' (1), 'Case=Gen|Form=Ecl|Gender=Fem|NounType=Weak|Number=Plur|POS=ADJ' (1), 'Definite=Def|Form=Len|Number=Sing|POS=NOUN' (1), 'Form=Len|Mood=Ind|POS=VERB|Polarity=Neg|PronType=Rel|Tense=Pres' (1), 'Dialect=Munster|Form=Ecl|Mood=Ind|Number=Plur|POS=VERB|Person=3|Tense=Fut' (1), 'Case=Nom|Dialect=Ulster|Form=Len|Gender=Masc|Number=Sing|POS=NOUN' (1), 'Form=Ecl|Mood=Cnd|Number=Sing|POS=VERB|Person=2|Polarity=Neg' (1), 'POS=PRON|PronType=Int|VerbForm=Cop' (1), 'Case=Nom|Definite=Def|Gender=Masc|Number=Sing|POS=NOUN|Typo=Yes|VerbForm=Inf' (1), 'Form=Emp|Mood=Cnd|Number=Sing|POS=VERB|Person=1' (1), 'Degree=Pos|Form=Ecl|POS=ADJ' (1), 'Definite=Def|Foreign=Yes|POS=PROPN|Typo=Yes' (1), 'Case=Nom|Dialect=Munster|Form=Len|Gender=Masc|Number=Sing|POS=NOUN' (1), 'Abbr=Yes|Foreign=Yes|POS=ADJ' (1), 'Form=Len|POS=AUX|Polarity=Neg|Tense=Pres|VerbForm=Cop' (1), 'Mood=Cnd,Int|Number=Sing|POS=VERB|Person=1' (1), 'Form=Len|Mood=Cnd|Number=Sing|POS=VERB|Person=2|Polarity=Neg' (1), 'Form=Len|Gender=Masc|Number=Sing|POS=ADP|Person=3|Typo=Yes' (1), 'Definite=Def|Number=Sing|POS=DET|PronType=Art|Typo=Yes' (1), 'Foreign=Yes|Form=Ecl|Number=Plur|POS=NOUN' (1), 'Case=Gen|Gender=Masc|Number=Plur|POS=NOUN' (1), 'Case=Nom|Form=Ecl|Gender=Masc|POS=NOUN' (1), 'Case=Nom|Form=Len|Gender=Fem|Number=Sing|POS=NOUN|Typo=Yes' (1), 'Case=Gen|Form=Len|Gender=Masc|POS=NOUN' (1), 'Case=Nom|Form=Len|Gender=Masc|Number=Plur|POS=NOUN|Typo=Yes' (1), 'Aspect=Imp|Form=Ecl|POS=VERB|Person=0|Tense=Past' (1), 'Gender=Masc|Number=Sing|POS=PRON|Person=3|Typo=Yes' (1), 'Foreign=Yes|Gender=Masc|POS=NOUN' (1), 'Form=Len|Mood=Ind|Number=Plur|POS=VERB|Person=1|Polarity=Neg|Tense=Pres' (1), 'Case=Gen|Gender=Masc|Number=Sing|POS=ADJ|Typo=Yes' (1), 'Case=Nom|Definite=Def|Form=Len|POS=PROPN' (1), 'Foreign=Yes|Form=Len|POS=PROPN' (1), 'Case=Gen|Gender=Fem|Number=Plur|POS=ADJ' (1), 'Case=Nom|Definite=Def|Form=Len|Gender=Masc|Number=Sing|POS=PROPN|Typo=Yes' (1), 'Aspect=Hab|Mood=Ind|POS=VERB|Person=0|Tense=Pres' (1), 'Gender=Fem|Number=Sing|POS=NOUN' (1), 'POS=PART|PartType=Sup|Polarity=Neg' (1), 'Abbr=Yes|Case=Nom|Gender=Masc|Number=Sing|POS=PROPN' (1), 'Case=Gen|Definite=Def|Form=HPref|Gender=Fem|NounType=Strong|Number=Plur|POS=NOUN' (1), 'Abbr=Yes|Form=Ecl|POS=PROPN' (1), 'Case=Nom|Definite=Def|Form=Emp|Gender=Fem|Number=Sing|POS=NOUN' (1), 'Case=Gen|Form=Ecl|Gender=Masc|NounType=Strong|Number=Plur|POS=NOUN' (1), 'Case=Nom|Form=Len|POS=NOUN|VerbForm=Inf' (1), 'Form=Len|Gender=Masc|Number=Plur|POS=NOUN' (1), 'Definite=Def|Form=HPref|Gender=Fem|Number=Sing|POS=PROPN' (1), 'Form=Len|Mood=Ind|Number=Sing|POS=VERB|Person=2|Tense=Pres' (1), 'Form=Len|Mood=Cnd|POS=VERB|Typo=Yes' (1), 'Case=Gen|Gender=Fem|NounType=Strong|Number=Plur|POS=PROPN' (1), 'Case=Gen|Definite=Def|Form=Len|Gender=Masc|NounType=Weak|Number=Plur|POS=PROPN' (1), 'Case=Nom|Form=Ecl|POS=NOUN|PrepForm=Cmpd' (1), 'Form=Len|POS=NUM' (1), 'Case=Nom|Definite=Def|Form=Ecl|Gender=Masc|Number=Plur|POS=PROPN' (1), 'Mood=Ind|Number=Plur|POS=VERB|Person=1|Tense=Pres|Typo=Yes' (1), 'Case=Gen|Form=Len|POS=NOUN|VerbForm=Vnoun' (1), 'Mood=Ind|POS=VERB|Person=0|Tense=Fut|Typo=Yes' (1), 'Case=Nom|Form=Len|Gender=Fem|Number=Plur|POS=ADJ' (1), 'Case=Nom|Gender=Fem|NounType=NotSlender|Number=Plur|POS=ADJ|Typo=Yes' (1), 'Form=Len|Mood=Cnd|POS=VERB|Person=0|Polarity=Neg' (1), 'Case=Gen|POS=NOUN' (1), 'Definite=Def|Form=Len|Gender=Masc|POS=PROPN' (1), 'Case=Nom|Definite=Def|Form=HPref|Gender=Fem|POS=PROPN' (1), 'Form=Len|Mood=Ind|Number=Plur|POS=VERB|Person=1|Polarity=Neg|Tense=Fut' (1), 'Case=Nom|Definite=Def|Form=Len|POS=NOUN' (1), 'Case=Gen|Definite=Def|Form=Len|Number=Sing|POS=PROPN' (1), 'Definite=Def|Foreign=Yes|Number=Sing|POS=PROPN' (1), 'Case=Gen|Form=HPref|Gender=Fem|Number=Sing|POS=NOUN' (1), 'Abbr=Yes|Gender=Masc|Number=Sing|POS=ADJ' (1), 'Case=Nom|Number=Sing|POS=NOUN|PrepForm=Cmpd|Typo=Yes' (1), 'Form=Direct|Mood=Ind|POS=VERB|PronType=Rel|Tense=Pres|Typo=Yes' (1), 'Case=Gen|Definite=Def|NounType=Strong|Number=Plur|POS=PROPN' (1), 'Number=Plur|POS=DET|Person=3|Poss=Yes|Typo=Yes' (1), 'Form=Ecl|Mood=Ind|Number=Sing|POS=VERB|Person=3|Tense=Pres' (1), 'Abbr=Yes|Case=Nom|Gender=Masc|Number=Plur|POS=NOUN' (1), 'Case=Nom|Gender=Masc|NounType=Slender|Number=Plur|POS=ADJ|Typo=Yes' (1), 'Aspect=Hab|Form=Ecl|Mood=Ind|Number=Plur|POS=VERB|Person=1|Tense=Pres' (1), 'Case=Nom|Definite=Def|Form=Len|Gender=Masc|POS=NOUN' (1), 'Case=Gen|NounType=Strong|Number=Plur|POS=ADJ' (1), 'Case=Nom|Definite=Def|Form=Ecl|Gender=Fem|Number=Sing|POS=NOUN|VerbForm=Inf' (1), 'Gender=Fem|Number=Sing|POS=ADP|Person=3|Typo=Yes' (1), 'Case=Nom|Definite=Def|POS=NOUN|Typo=Yes' (1), 'Case=Gen|Definite=Def|Gender=Masc|POS=NOUN' (1), 'Case=Nom|POS=NOUN|Typo=Yes' (1), 'Case=Nom|Definite=Def|Form=HPref|Gender=Fem|Number=Plur|POS=NOUN|Typo=Yes' (1), 'Case=Nom|Gender=Fem|Number=Sing|POS=PROPN' (1), 'Case=Nom|Definite=Def|Gender=Fem|POS=NOUN' (1), 'Case=Nom|Definite=Def|Form=HPref|Gender=Masc|Number=Sing|POS=NOUN|VerbForm=Inf' (1), 'Case=Nom|Form=Len|Gender=Masc|POS=NOUN' (1), 'Case=Gen|Gender=Fem|Number=Sing|POS=PROPN' (1), 'Case=Nom|Definite=Def|Form=Ecl|Gender=Masc|Number=Sing|POS=NOUN|VerbForm=Inf' (1), 'Case=Gen|Foreign=Yes|Gender=Fem|Number=Sing|POS=NOUN' (1)\n",
            "Dependency Parsing\n",
            "Found 3887 sentence(s) with an average length of 24.7 words.\n",
            "Found 304 nonprojective train sentence(s)\n",
            "42 label(s) in train data\n",
            "230 label(s) in projectivized train data\n",
            "'case' (12938), 'nmod' (10583), 'punct' (8742), 'det' (7881), 'obl' (6924), 'nsubj' (5328), 'conj' (3896), 'ROOT' (3887), 'obj' (3811), 'amod' (3581), 'cc' (3123), 'mark' (2866), 'xcomp' (2490), 'mark:prt' (2411), 'advmod' (1971), 'acl:relcl' (1764), 'xcomp:pred' (1698), 'obl:prep' (1534), 'fixed' (1364), 'cop' (1150), 'advcl' (1064), 'nmod:poss' (775), 'ccomp' (683), 'obl:tmod' (579), 'nummod' (573), 'parataxis' (527), 'csubj:cop' (510), 'flat:name' (507), 'appos' (319), 'csubj:cleft' (258), 'flat:foreign' (205), 'flat' (172), 'compound' (119), 'list' (102), 'acl' (73), 'dislocated' (47), 'compound:prt' (45), 'case:voc' (30), 'vocative' (30), 'discourse' (19), 'orphan' (8), 'goeswith' (2)\n",
            "Low number of examples for label 'orphan' (8)\n",
            "Low number of examples for label 'discourse' (19)\n",
            "Low number of examples for label 'goeswith' (2)\n",
            "Low number of examples for 182 label(s) in the projectivized dependency trees used for training. You may want to projectivize labels such as punct before training in order to improve parser performance.\n",
            "Projectivized labels with low numbers of examples: \n",
            "cop||csubj:cleft: 1, advmod||xcomp: 5, cc||conj: 16, conj||mark: 5, conj||nmod:\n",
            "20, mark||acl:relcl: 2, conj||case: 9, advcl||acl:relcl: 1, nmod||obj: 19,\n",
            "advcl||csubj:cop: 1, nmod||nmod: 16, acl:relcl||nmod: 13, appos||nsubj: 10,\n",
            "mark||csubj:cop: 1, case||acl:relcl: 5, obl||obj: 2, nmod||nummod: 14,\n",
            "case||nmod: 19, acl||nsubj: 1, obj||xcomp: 11, case||flat:foreign: 3, mark||obl:\n",
            "1, appos||obj: 12, cc||case: 4, nmod||xcomp:pred: 3, cc||nmod: 9, appos||obl: 4,\n",
            "det||flat:foreign: 3, cc||acl:relcl: 4, case||flat:name: 1, obj||csubj:cop: 3,\n",
            "xcomp||acl:relcl: 4, nmod||conj: 12, obl||xcomp: 14, obl||xcomp:pred: 20,\n",
            "obl:prep||mark: 1, obl:tmod||obl:tmod: 1, case||flat: 4, nsubj||conj: 2,\n",
            "obl||parataxis: 2, obl:prep||acl:relcl: 4, cop||det: 1, xcomp||xcomp:pred: 3,\n",
            "obl:tmod||acl:relcl: 2, nmod||amod: 8, parataxis||obj: 2, mark:prt||xcomp: 1,\n",
            "advmod||mark:prt: 2, xcomp:pred||nsubj: 1, xcomp||xcomp: 7, cop||nmod:poss: 1,\n",
            "conj||cop: 1, obl||acl:relcl: 6, obl||nmod: 2, obj||nmod: 2, mark||xcomp: 5,\n",
            "obl:prep||xcomp: 1, advcl||nsubj: 1, nsubj||nmod: 3, parataxis||nsubj: 6,\n",
            "conj||parataxis: 1, advcl||obj: 3, mark:prt||conj: 1, conj||acl:relcl: 4,\n",
            "nsubj||acl:relcl: 1, case||parataxis: 1, flat:name||nsubj: 2, det||nmod: 6,\n",
            "nmod||obl: 11, xcomp||nmod: 1, advcl||nummod: 1, cop||amod: 1, mark||obl:prep:\n",
            "2, xcomp||advcl: 3, case||obl: 3, xcomp||ccomp: 2, amod||nsubj: 2, advcl||nmod:\n",
            "1, xcomp||amod: 1, conj||appos: 4, obj||acl:relcl: 2, det||nsubj: 1,\n",
            "advmod||parataxis: 1, det||obl: 1, conj||obl:tmod: 3, case||xcomp: 10,\n",
            "conj||xcomp: 8, cop||nsubj: 2, advmod||acl:relcl: 5, obl||mark:prt: 3,\n",
            "case||nsubj: 1, appos||nmod: 5, mark||flat: 1, cop||flat: 1, nmod||flat: 1,\n",
            "nmod||csubj:cop: 1, advcl||ccomp: 2, cc||xcomp: 2, appos||det: 2, nmod||det: 3,\n",
            "nmod||xcomp: 1, parataxis||det: 1, acl:relcl||appos: 1, cc||nsubj: 3, conj||det:\n",
            "2, cop||nmod: 1, ccomp||conj: 1, obl:prep||advcl: 1, amod||obj: 2,\n",
            "cc||csubj:cleft: 1, cc||parataxis: 2, conj||obl:prep: 1, acl:relcl||obl: 15,\n",
            "ccomp||csubj:cop: 3, conj||xcomp:pred: 4, advmod||ccomp: 1, conj||nummod: 4,\n",
            "conj||conj: 2, obl:tmod||ccomp: 2, cc||advcl: 1, advmod||xcomp:pred: 2,\n",
            "conj||amod: 5, nsubj||det: 1, cop||csubj:cop: 1, obl:tmod||parataxis: 1,\n",
            "csubj:cleft||ccomp: 1, conj||fixed: 3, det||obj: 2, xcomp||csubj:cop: 2,\n",
            "obl:prep||advmod: 1, obj||conj: 3, mark||conj: 1, obl||obl: 3,\n",
            "csubj:cleft||nmod: 1, obl||ccomp: 2, obl:prep||ccomp: 1, obl:prep||xcomp:pred:\n",
            "1, parataxis||advmod: 1, case||obj: 2, mark:prt||flat:foreign: 1, conj||acl: 1,\n",
            "acl:relcl||det: 2, cc||obj: 2, obl:tmod||xcomp: 3, amod||det: 1, obl||case: 1,\n",
            "amod||conj: 1, csubj:cleft||obj: 1, conj||csubj:cop: 1, acl:relcl||conj: 1,\n",
            "case||obl:prep: 1, cc||nummod: 2, cc||flat: 1, det||flat: 2, nmod||obl:tmod: 1,\n",
            "csubj:cop||acl:relcl: 1, obl||acl: 1, xcomp||conj: 2, xcomp||obl: 2, xcomp||obj:\n",
            "1, appos||conj: 1, obl||conj: 3, nmod||appos: 1, obl||mark: 1,\n",
            "dislocated||nsubj: 2, cc||mark:prt: 1, advmod||acl: 1, case||conj: 1,\n",
            "advmod||obj: 1, mark||advmod: 1, case||amod: 1, conj||mark:prt: 1, conj||advmod:\n",
            "1, mark||nsubj: 1, det||csubj:cop: 2, obj||advmod: 1, obl:prep||nmod: 1,\n",
            "obl:prep||det: 1, acl:relcl||acl:relcl: 1, obl||csubj:cop: 1, amod||nmod: 1,\n",
            "case||obl:tmod: 1\n",
            "The following labels were found only in the train data:\n",
            "conj||det, nmod||flat, obl:prep||advmod, cc||obj, advmod||parataxis,\n",
            "case||nsubj, flat:name||nsubj, acl:relcl||nmod, acl:relcl||acl:relcl,\n",
            "acl:relcl||obl, amod||conj, orphan, parataxis||advmod, mark:prt||flat:foreign,\n",
            "advcl||ccomp, obl:tmod||xcomp, goeswith, cc||csubj:cleft, cop||nsubj,\n",
            "appos||det, cop||flat, conj||mark, obj||advmod, appos||nmod, obl:prep||det,\n",
            "case||acl:relcl, mark:prt||conj, csubj:cleft||nmod, conj||csubj:cop, xcomp||obj,\n",
            "conj||obl, obj||acl:relcl, case||obl:tmod, obl:prep||acl:relcl, mark||obl:prep,\n",
            "xcomp||obl, advmod||ccomp, xcomp||xcomp:pred, xcomp||acl:relcl, case||obl,\n",
            "mark||csubj:cop, xcomp||advcl, cc||parataxis, cop||det, conj||acl,\n",
            "case||flat:foreign, obl:prep||xcomp:pred, nmod||obl:tmod, advcl||nummod,\n",
            "dislocated, conj||cop, parataxis||det, acl:relcl||appos, mark||advmod,\n",
            "case||conj, obl||csubj:cop, obl:prep||xcomp, obl||mark:prt, obl||case,\n",
            "cc||nummod, mark:prt||xcomp, nmod||appos, acl:relcl||det, conj||fixed, cc||flat,\n",
            "mark||obl, case||flat:name, dislocated||nsubj, xcomp||nmod, advcl||nsubj,\n",
            "mark||conj, conj||acl:relcl, advmod||acl:relcl, obj||conj, csubj:cleft||ccomp,\n",
            "det||csubj:cop, amod||nmod, xcomp||amod, det||obl, nmod||obj, xcomp||conj,\n",
            "mark||acl:relcl, parataxis||obj, cop||amod, cc||acl:relcl, obl:prep||mark,\n",
            "cc||advcl, obl||conj, advcl||nmod, nsubj||det, cop||csubj:cop, acl||nsubj,\n",
            "nmod||csubj:cop, cc||xcomp, xcomp:pred||nsubj, cop||csubj:cleft, conj||case,\n",
            "obl:prep||nmod, obl||acl, det||flat, nmod||det, amod||det, advmod||mark:prt,\n",
            "ccomp||csubj:cop, case||obl:prep, obj||nmod, advcl||csubj:cop, compound:prt,\n",
            "nmod||xcomp:pred, conj||obl:tmod, obj||xcomp, obl:tmod||ccomp, obl||mark,\n",
            "det||nmod, obl||obl, advmod||obj, nsubj||conj, csubj:cleft||obj,\n",
            "obl:tmod||obl:tmod, cc||mark:prt, advcl||obj, cc||nsubj, cop||nmod:poss,\n",
            "obl:tmod||parataxis, case||parataxis, obl||ccomp, advmod||acl, obl:prep||advcl,\n",
            "det||flat:foreign, nmod||xcomp, appos||obl, mark||flat, det||obj,\n",
            "conj||obl:prep, obl:prep||ccomp, case||amod, ccomp||conj, obl||parataxis,\n",
            "xcomp||ccomp, conj||advmod, csubj:cop||acl:relcl\n",
            "The following labels were found only in the dev data:\n",
            "parataxis||parataxis, conj||list, advcl||list, advcl||parataxis, obl:tmod||obj,\n",
            "cc||obl, obj||obj, xcomp||nsubj, cc||list, cc||det, nmod||vocative, amod||obl,\n",
            "csubj:cop||ccomp, mark||csubj:cleft, mark||advcl, obl:tmod||nsubj\n",
            "To train a parser, your data should include at least 20 instances of each label.\n",
            "Summary\n",
            "3 checks passed\n",
            "13 warnings\n"
          ]
        }
      ]
    },
    {
      "cell_type": "code",
      "metadata": {
        "colab": {
          "base_uri": "https://localhost:8080/"
        },
        "id": "yAwjA24LkFkF",
        "outputId": "8b9ccc5b-df2c-4b2b-b452-6e336d4d0160"
      },
      "source": [
        "!mkdir /content/convout\n",
        "!python -m spacy convert -t json /content/tagger_parser_ud/assets/UD_Irish-IDT/ga_idt-ud-dev.conllu /content/convout  --converter conllu --n-sents 10 --merge-subtokens --morphology\n",
        "!python -m spacy convert -t json /content/tagger_parser_ud/assets/UD_Irish-IDT/ga_idt-ud-train.conllu /content/convout --converter conllu --n-sents 10 --merge-subtokens --morphology\n",
        "!python -m spacy convert -t json /content/tagger_parser_ud/assets/UD_Irish-IDT/ga_idt-ud-test.conllu /content/convout --converter conllu --n-sents 10 --merge-subtokens --morphology"
      ],
      "execution_count": 32,
      "outputs": [
        {
          "output_type": "stream",
          "name": "stdout",
          "text": [
            "mkdir: cannot create directory ‘/content/convout’: File exists\n",
            "\u001b[38;5;4mℹ Grouping every 10 sentences into a document.\u001b[0m\n",
            "\u001b[38;5;2m✔ Generated output file (1 documents):\n",
            "/content/convout/ga_idt-ud-dev.json\u001b[0m\n",
            "\u001b[38;5;4mℹ Grouping every 10 sentences into a document.\u001b[0m\n",
            "\u001b[38;5;2m✔ Generated output file (1 documents):\n",
            "/content/convout/ga_idt-ud-train.json\u001b[0m\n",
            "\u001b[38;5;4mℹ Grouping every 10 sentences into a document.\u001b[0m\n",
            "\u001b[38;5;2m✔ Generated output file (1 documents):\n",
            "/content/convout/ga_idt-ud-test.json\u001b[0m\n"
          ]
        }
      ]
    },
    {
      "cell_type": "code",
      "metadata": {
        "colab": {
          "base_uri": "https://localhost:8080/"
        },
        "id": "f7nxHf1-mdR8",
        "outputId": "725670ae-4878-4a7f-b74e-b03783faa47c"
      },
      "source": [
        "!ls convout/*json | zip json.zip -@"
      ],
      "execution_count": 33,
      "outputs": [
        {
          "output_type": "stream",
          "name": "stdout",
          "text": [
            "  adding: convout/ga_idt-ud-dev.json (deflated 94%)\n",
            "  adding: convout/ga_idt-ud-test.json (deflated 94%)\n",
            "  adding: convout/ga_idt-ud-train.json (deflated 94%)\n"
          ]
        }
      ]
    },
    {
      "cell_type": "code",
      "metadata": {
        "id": "RRiKOZwxmqVl"
      },
      "source": [
        "import json"
      ],
      "execution_count": 34,
      "outputs": []
    },
    {
      "cell_type": "code",
      "metadata": {
        "id": "HwlNN8emmuKY"
      },
      "source": [
        "with open(\"/content/convout/ga_idt-ud-dev.json\") as devf:\n",
        "  file = devf.read()\n",
        "  dev = json.loads(file)"
      ],
      "execution_count": 36,
      "outputs": []
    },
    {
      "cell_type": "code",
      "metadata": {
        "id": "PsZDGpWQn1rg"
      },
      "source": [
        "import spacy\n",
        "nlp = spacy.blank(\"ga\")\n",
        "nlp.add_pipe(\"sentencizer\")\n",
        "\n",
        "texts = []\n",
        "for para in dev[0][\"paragraphs\"]:\n",
        "  sents = []\n",
        "  for sent in para[\"sentences\"]:\n",
        "    sentence = \" \".join([t[\"orth\"] for t in sent[\"tokens\"]])\n",
        "    sents.append(sentence)\n",
        "  texts.append(\" | \".join(sents))"
      ],
      "execution_count": 62,
      "outputs": []
    },
    {
      "cell_type": "code",
      "metadata": {
        "colab": {
          "base_uri": "https://localhost:8080/"
        },
        "id": "V1NScMwOvxR7",
        "outputId": "4a939a59-2d87-403d-988a-8608b86d9b2b"
      },
      "source": [
        "len(texts)"
      ],
      "execution_count": 64,
      "outputs": [
        {
          "output_type": "execute_result",
          "data": {
            "text/plain": [
              "46"
            ]
          },
          "metadata": {},
          "execution_count": 64
        }
      ]
    },
    {
      "cell_type": "code",
      "metadata": {
        "colab": {
          "base_uri": "https://localhost:8080/"
        },
        "id": "WM97lok7pR7K",
        "outputId": "305335d8-336e-4829-e10e-1e55e3948402"
      },
      "source": [
        ""
      ],
      "execution_count": 59,
      "outputs": [
        {
          "output_type": "execute_result",
          "data": {
            "text/plain": [
              "<generator object Language.pipe at 0x7fbc97122b50>"
            ]
          },
          "metadata": {},
          "execution_count": 59
        }
      ]
    }
  ]
}