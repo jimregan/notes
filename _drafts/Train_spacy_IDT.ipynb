{
  "nbformat": 4,
  "nbformat_minor": 0,
  "metadata": {
    "colab": {
      "name": "Train spacy IDT.ipynb",
      "provenance": []
    },
    "kernelspec": {
      "name": "python3",
      "display_name": "Python 3"
    },
    "accelerator": "GPU"
  },
  "cells": [
    {
      "cell_type": "markdown",
      "metadata": {
        "id": "HXyZmjveMocr"
      },
      "source": [
        "# \"Training spaCy on IDT\"\n",
        "> \"I've forgotten where I put the output model, though\"\n",
        "\n",
        "- toc: false\n",
        "- branch: master\n",
        "- comments: true\n",
        "- categories: [spacy, idt]\n"
      ]
    },
    {
      "cell_type": "code",
      "metadata": {
        "id": "_WCiGYDTNmW6",
        "colab": {
          "base_uri": "https://localhost:8080/"
        },
        "outputId": "5c7412cb-4806-4249-e394-d836d6d44ebe"
      },
      "source": [
        "!git clone -b dev https://github.com/UniversalDependencies/UD_Irish-IDT"
      ],
      "execution_count": 1,
      "outputs": [
        {
          "output_type": "stream",
          "name": "stdout",
          "text": [
            "Cloning into 'UD_Irish-IDT'...\n",
            "remote: Enumerating objects: 1119, done.\u001b[K\n",
            "remote: Counting objects: 100% (181/181), done.\u001b[K\n",
            "remote: Compressing objects: 100% (83/83), done.\u001b[K\n",
            "remote: Total 1119 (delta 131), reused 142 (delta 98), pack-reused 938\u001b[K\n",
            "Receiving objects: 100% (1119/1119), 12.62 MiB | 20.10 MiB/s, done.\n",
            "Resolving deltas: 100% (756/756), done.\n"
          ]
        }
      ]
    },
    {
      "cell_type": "code",
      "metadata": {
        "id": "bV60vIz8Notb"
      },
      "source": [
        "!mkdir idt-json"
      ],
      "execution_count": 2,
      "outputs": []
    },
    {
      "cell_type": "code",
      "metadata": {
        "id": "l_IFOkAtNx8o",
        "colab": {
          "base_uri": "https://localhost:8080/"
        },
        "outputId": "043ffb1f-71b6-44aa-94c1-dcfc1605c25b"
      },
      "source": [
        "!python -m spacy convert /content/UD_Irish-IDT/ga_idt-ud-train.conllu /content/idt-json"
      ],
      "execution_count": 3,
      "outputs": [
        {
          "output_type": "stream",
          "name": "stdout",
          "text": [
            "\u001b[38;5;2m✔ Generated output file (4005 documents):\n",
            "/content/idt-json/ga_idt-ud-train.json\u001b[0m\n"
          ]
        }
      ]
    },
    {
      "cell_type": "code",
      "metadata": {
        "id": "r6_83-lqOLMo",
        "colab": {
          "base_uri": "https://localhost:8080/"
        },
        "outputId": "b40cf94f-de6a-4f58-b619-8152024081ed"
      },
      "source": [
        "!python -m spacy convert /content/UD_Irish-IDT/ga_idt-ud-dev.conllu /content/idt-json"
      ],
      "execution_count": 4,
      "outputs": [
        {
          "output_type": "stream",
          "name": "stdout",
          "text": [
            "\u001b[38;5;2m✔ Generated output file (451 documents):\n",
            "/content/idt-json/ga_idt-ud-dev.json\u001b[0m\n"
          ]
        }
      ]
    },
    {
      "cell_type": "code",
      "metadata": {
        "id": "tX31G20TljWw",
        "colab": {
          "base_uri": "https://localhost:8080/"
        },
        "outputId": "175851ea-1a89-461b-e6db-7d17b33b4f26"
      },
      "source": [
        "!wget https://dl.fbaipublicfiles.com/fasttext/vectors-crawl/cc.ga.300.vec.gz\n",
        "!python -m spacy init-model ga /content/ga_vectors_cc --vectors-loc cc.ga.300.vec.gz\n"
      ],
      "execution_count": 5,
      "outputs": [
        {
          "output_type": "stream",
          "name": "stdout",
          "text": [
            "--2021-11-17 19:27:09--  https://dl.fbaipublicfiles.com/fasttext/vectors-crawl/cc.ga.300.vec.gz\n",
            "Resolving dl.fbaipublicfiles.com (dl.fbaipublicfiles.com)... 104.22.75.142, 104.22.74.142, 172.67.9.4, ...\n",
            "Connecting to dl.fbaipublicfiles.com (dl.fbaipublicfiles.com)|104.22.75.142|:443... connected.\n",
            "HTTP request sent, awaiting response... 200 OK\n",
            "Length: 184422000 (176M) [binary/octet-stream]\n",
            "Saving to: ‘cc.ga.300.vec.gz’\n",
            "\n",
            "cc.ga.300.vec.gz    100%[===================>] 175.88M  31.5MB/s    in 6.0s    \n",
            "\n",
            "2021-11-17 19:27:16 (29.2 MB/s) - ‘cc.ga.300.vec.gz’ saved [184422000/184422000]\n",
            "\n",
            "\u001b[2K\u001b[38;5;2m✔ Successfully created model\u001b[0m\n",
            "316836it [00:27, 11415.57it/s]\n",
            "\u001b[2K\u001b[38;5;2m✔ Loaded vectors from cc.ga.300.vec.gz\u001b[0m\n",
            "\u001b[38;5;2m✔ Sucessfully compiled vocab\u001b[0m\n",
            "317041 entries, 316836 vectors\n"
          ]
        }
      ]
    },
    {
      "cell_type": "markdown",
      "metadata": {
        "id": "XLqWH7dQABvX"
      },
      "source": [
        "WikiANN is currently only available through [Google Drive](https://drive.google.com/drive/folders/1Q-xdT99SeaCghihGa7nRkcXGwRGUIsKN?usp=sharing)"
      ]
    },
    {
      "cell_type": "code",
      "metadata": {
        "id": "6Rk0df9fAAaA",
        "colab": {
          "base_uri": "https://localhost:8080/"
        },
        "outputId": "183120ea-e7d7-4b1c-9063-0a48994568bd"
      },
      "source": [
        "from google.colab import drive\n",
        "drive.mount('/gdrive')"
      ],
      "execution_count": 6,
      "outputs": [
        {
          "output_type": "stream",
          "name": "stdout",
          "text": [
            "Mounted at /gdrive\n"
          ]
        }
      ]
    },
    {
      "cell_type": "code",
      "metadata": {
        "id": "ySKmawQAAcwM"
      },
      "source": [
        "!cp /gdrive/My\\ Drive/ga.tar.gz ."
      ],
      "execution_count": 7,
      "outputs": []
    },
    {
      "cell_type": "code",
      "metadata": {
        "id": "t12aUAqEBNHU",
        "colab": {
          "base_uri": "https://localhost:8080/"
        },
        "outputId": "6c0af532-d4bc-448f-9b62-390c2015f208"
      },
      "source": [
        "!tar zxvf ga.tar.gz"
      ],
      "execution_count": 8,
      "outputs": [
        {
          "output_type": "stream",
          "name": "stdout",
          "text": [
            "README.txt\n",
            "wikiann-ga.bio\n"
          ]
        }
      ]
    },
    {
      "cell_type": "code",
      "metadata": {
        "id": "96Lp-vdmnOyQ",
        "colab": {
          "base_uri": "https://localhost:8080/"
        },
        "outputId": "58fc5957-7919-4961-e0bc-108bd4495d1c"
      },
      "source": [
        "!wget http://downloads.dbpedia.org/links/resources/wikidatadump/2017-07-07/enwiki/20170701/enwiki-20170701-interlanguage-links_wikidataorg.ttl"
      ],
      "execution_count": 9,
      "outputs": [
        {
          "output_type": "stream",
          "name": "stdout",
          "text": [
            "--2021-11-17 19:30:46--  http://downloads.dbpedia.org/links/resources/wikidatadump/2017-07-07/enwiki/20170701/enwiki-20170701-interlanguage-links_wikidataorg.ttl\n",
            "Resolving downloads.dbpedia.org (downloads.dbpedia.org)... 139.18.16.66\n",
            "Connecting to downloads.dbpedia.org (downloads.dbpedia.org)|139.18.16.66|:80... connected.\n",
            "HTTP request sent, awaiting response... 200 OK\n",
            "Length: 1020894244 (974M) [text/turtle]\n",
            "Saving to: ‘enwiki-20170701-interlanguage-links_wikidataorg.ttl’\n",
            "\n",
            "enwiki-20170701-int 100%[===================>] 973.60M  22.4MB/s    in 43s     \n",
            "\n",
            "2021-11-17 19:31:30 (22.5 MB/s) - ‘enwiki-20170701-interlanguage-links_wikidataorg.ttl’ saved [1020894244/1020894244]\n",
            "\n"
          ]
        }
      ]
    },
    {
      "cell_type": "code",
      "metadata": {
        "id": "3PiBNxyvoSs8"
      },
      "source": [
        "!cat wikiann-ga.bio | awk '(NF == 7){print $6}'|sort|uniq|while read i;do grep \"/$i>\" enwiki-20170701-interlanguage-links_wikidataorg.ttl >> filtered;done"
      ],
      "execution_count": 10,
      "outputs": []
    },
    {
      "cell_type": "code",
      "metadata": {
        "id": "0HtAKMuNBjty",
        "colab": {
          "base_uri": "https://localhost:8080/"
        },
        "outputId": "6466b337-65b0-4271-cdd1-e001fc040190"
      },
      "source": [
        "!pip install danlp "
      ],
      "execution_count": 11,
      "outputs": [
        {
          "output_type": "stream",
          "name": "stdout",
          "text": [
            "Collecting danlp\n",
            "  Downloading danlp-0.1.1-py3-none-any.whl (80 kB)\n",
            "\u001b[?25l\r\u001b[K     |████                            | 10 kB 21.5 MB/s eta 0:00:01\r\u001b[K     |████████▏                       | 20 kB 23.6 MB/s eta 0:00:01\r\u001b[K     |████████████▎                   | 30 kB 11.9 MB/s eta 0:00:01\r\u001b[K     |████████████████▍               | 40 kB 9.2 MB/s eta 0:00:01\r\u001b[K     |████████████████████▌           | 51 kB 5.1 MB/s eta 0:00:01\r\u001b[K     |████████████████████████▋       | 61 kB 5.5 MB/s eta 0:00:01\r\u001b[K     |████████████████████████████▋   | 71 kB 5.9 MB/s eta 0:00:01\r\u001b[K     |████████████████████████████████| 80 kB 3.7 MB/s \n",
            "\u001b[?25hCollecting conllu\n",
            "  Downloading conllu-4.4.1-py2.py3-none-any.whl (15 kB)\n",
            "Collecting pyconll\n",
            "  Downloading pyconll-3.1.0-py3-none-any.whl (26 kB)\n",
            "Requirement already satisfied: tweepy in /usr/local/lib/python3.7/dist-packages (from danlp) (3.10.0)\n",
            "Collecting progressbar\n",
            "  Downloading progressbar-2.5.tar.gz (10 kB)\n",
            "Requirement already satisfied: pandas in /usr/local/lib/python3.7/dist-packages (from danlp) (1.1.5)\n",
            "Requirement already satisfied: tqdm in /usr/local/lib/python3.7/dist-packages (from danlp) (4.62.3)\n",
            "Requirement already satisfied: pytz>=2017.2 in /usr/local/lib/python3.7/dist-packages (from pandas->danlp) (2018.9)\n",
            "Requirement already satisfied: python-dateutil>=2.7.3 in /usr/local/lib/python3.7/dist-packages (from pandas->danlp) (2.8.2)\n",
            "Requirement already satisfied: numpy>=1.15.4 in /usr/local/lib/python3.7/dist-packages (from pandas->danlp) (1.19.5)\n",
            "Requirement already satisfied: six>=1.5 in /usr/local/lib/python3.7/dist-packages (from python-dateutil>=2.7.3->pandas->danlp) (1.15.0)\n",
            "Requirement already satisfied: requests[socks]>=2.11.1 in /usr/local/lib/python3.7/dist-packages (from tweepy->danlp) (2.23.0)\n",
            "Requirement already satisfied: requests-oauthlib>=0.7.0 in /usr/local/lib/python3.7/dist-packages (from tweepy->danlp) (1.3.0)\n",
            "Requirement already satisfied: oauthlib>=3.0.0 in /usr/local/lib/python3.7/dist-packages (from requests-oauthlib>=0.7.0->tweepy->danlp) (3.1.1)\n",
            "Requirement already satisfied: certifi>=2017.4.17 in /usr/local/lib/python3.7/dist-packages (from requests[socks]>=2.11.1->tweepy->danlp) (2021.10.8)\n",
            "Requirement already satisfied: idna<3,>=2.5 in /usr/local/lib/python3.7/dist-packages (from requests[socks]>=2.11.1->tweepy->danlp) (2.10)\n",
            "Requirement already satisfied: urllib3!=1.25.0,!=1.25.1,<1.26,>=1.21.1 in /usr/local/lib/python3.7/dist-packages (from requests[socks]>=2.11.1->tweepy->danlp) (1.24.3)\n",
            "Requirement already satisfied: chardet<4,>=3.0.2 in /usr/local/lib/python3.7/dist-packages (from requests[socks]>=2.11.1->tweepy->danlp) (3.0.4)\n",
            "Requirement already satisfied: PySocks!=1.5.7,>=1.5.6 in /usr/local/lib/python3.7/dist-packages (from requests[socks]>=2.11.1->tweepy->danlp) (1.7.1)\n",
            "Building wheels for collected packages: progressbar\n",
            "  Building wheel for progressbar (setup.py) ... \u001b[?25l\u001b[?25hdone\n",
            "  Created wheel for progressbar: filename=progressbar-2.5-py3-none-any.whl size=12082 sha256=46a02604461966b4d49078077fa757ae4992de9c9f0b5b2db2ea521888f4cacc\n",
            "  Stored in directory: /root/.cache/pip/wheels/f0/fd/1f/3e35ed57e94cd8ced38dd46771f1f0f94f65fec548659ed855\n",
            "Successfully built progressbar\n",
            "Installing collected packages: pyconll, progressbar, conllu, danlp\n",
            "Successfully installed conllu-4.4.1 danlp-0.1.1 progressbar-2.5 pyconll-3.1.0\n"
          ]
        }
      ]
    },
    {
      "cell_type": "code",
      "metadata": {
        "id": "PsfdZGXuBjsr"
      },
      "source": [
        "import danlp.datasets.wiki_ann\n",
        "wa = danlp.datasets.wiki_ann._convert_wikiann_to_iob('wikiann-ga.bio', 'wikiann-ga.ner')"
      ],
      "execution_count": 12,
      "outputs": []
    },
    {
      "cell_type": "code",
      "metadata": {
        "id": "wvn4FMNoGZQc",
        "colab": {
          "base_uri": "https://localhost:8080/"
        },
        "outputId": "8c325b63-de01-4c3c-e666-a393ae3a7047"
      },
      "source": [
        "!head wikiann-ga.ner"
      ],
      "execution_count": 14,
      "outputs": [
        {
          "output_type": "stream",
          "name": "stdout",
          "text": [
            "Colm _ _ B-PER\n",
            "Ó _ _ I-PER\n",
            "Ruairc _ _ I-PER\n",
            "\n",
            "Seosamh _ _ B-PER\n",
            "Ó _ _ I-PER\n",
            "Cainín _ _ I-PER\n",
            "\n",
            "Dónal _ _ B-PER\n",
            "Ó _ _ I-PER\n"
          ]
        }
      ]
    },
    {
      "cell_type": "code",
      "metadata": {
        "id": "K6OlX_y3BYZE",
        "colab": {
          "base_uri": "https://localhost:8080/"
        },
        "outputId": "c05cb66c-2b9c-4435-c531-e98b6fedfbc9"
      },
      "source": [
        "!python -m spacy convert -n 10 wikiann-ga.ner /content/idt-json/"
      ],
      "execution_count": 15,
      "outputs": [
        {
          "output_type": "stream",
          "name": "stdout",
          "text": [
            "\u001b[38;5;4mℹ Auto-detected token-per-line NER format\u001b[0m\n",
            "\u001b[38;5;4mℹ Grouping every 10 sentences into a document.\u001b[0m\n",
            "\u001b[38;5;2m✔ Generated output file (757 documents):\n",
            "/content/idt-json/wikiann-ga.json\u001b[0m\n"
          ]
        }
      ]
    },
    {
      "cell_type": "code",
      "metadata": {
        "id": "3jO9xy6IOT3k",
        "colab": {
          "base_uri": "https://localhost:8080/"
        },
        "outputId": "3ddb743c-2f9a-494f-cbca-0eb865e43e4c"
      },
      "source": [
        "!rm -rf models\n",
        "!mkdir models\n",
        "!python -m spacy train -v /content/ga_vectors_cc -p 'tagger,parser,ner' ga models idt-json/ga_idt-ud-train.json idt-json/ga_idt-ud-dev.json"
      ],
      "execution_count": 16,
      "outputs": [
        {
          "output_type": "stream",
          "name": "stdout",
          "text": [
            "Training pipeline: ['tagger', 'parser', 'ner']\n",
            "Starting with blank model 'ga'\n",
            "Loading vector from model '/content/ga_vectors_cc'\n",
            "Counting training words (limit=0)\n",
            "/usr/lib/python3.7/runpy.py:193: UserWarning: [W022] Training a new part-of-speech tagger using a model with no lemmatization rules or data. This means that the trained model may not be able to lemmatize correctly. If this is intentional or the language you're using doesn't have lemmatization data, you can ignore this warning by setting SPACY_WARNING_IGNORE=W022. If this is surprising, make sure you have the spacy-lookups-data package installed.\n",
            "  \"__main__\", mod_spec)\n",
            "\n",
            "Itn  Tag Loss    Tag %    Dep Loss    UAS     LAS    NER Loss   NER P   NER R   NER F   Token %  CPU WPS\n",
            "---  ---------  --------  ---------  ------  ------  ---------  ------  ------  ------  -------  -------\n",
            "  1  19631.641    92.600  72419.160  80.096  66.984      0.000   0.000   0.000   0.000  100.000     8019\n",
            "  2   8465.292    93.670  53795.326  82.373  72.750      0.000   0.000   0.000   0.000  100.000     8169\n",
            "  3   6471.069    94.050  47861.077  84.048  75.010      0.000   0.000   0.000   0.000  100.000     7878\n",
            "  4   5272.787    94.180  44611.668  84.297  75.820      0.000   0.000   0.000   0.000  100.000     7641\n",
            "  5   4474.646    94.270  42237.813  84.633  76.336      0.000   0.000   0.000   0.000  100.000     7795\n",
            "  6   3889.845    94.340  40940.705  84.994  76.877      0.000   0.000   0.000   0.000  100.000     7763\n",
            "  7   3469.561    94.370  38879.850  85.126  77.121      0.000   0.000   0.000   0.000  100.000     7900\n",
            "  8   3098.782    94.410  37094.137  85.082  77.311      0.000   0.000   0.000   0.000  100.000     7523\n",
            "  9   2783.424    94.430  35596.430  85.194  77.378      0.000   0.000   0.000   0.000  100.000     8210\n",
            " 10   2585.175    94.460  34887.800  85.351  77.378      0.000   0.000   0.000   0.000  100.000     7875\n",
            " 11   2314.053    94.270  33597.544  85.335  77.430      0.000   0.000   0.000   0.000  100.000     8264\n",
            " 12   2298.001    94.210  32601.369  85.546  77.585      0.000   0.000   0.000   0.000  100.000     7924\n",
            " 13   2168.616    94.190  31292.357  85.396  77.513      0.000   0.000   0.000   0.000  100.000     7733\n",
            " 14   2090.047    94.260  30669.191  85.445  77.641      0.000   0.000   0.000   0.000  100.000     8206\n",
            " 15   1903.562    94.280  29492.537  85.569  77.630      0.000   0.000   0.000   0.000  100.000     7915\n",
            " 16   1886.955    94.270  28565.108  85.482  77.676      0.000   0.000   0.000   0.000  100.000     7729\n",
            " 17   1773.046    94.280  28518.319  85.661  77.800      0.000   0.000   0.000   0.000  100.000     7794\n",
            " 18   1695.874    94.320  27325.451  85.684  77.811      0.000   0.000   0.000   0.000  100.000     7957\n",
            " 19   1694.098    94.330  25962.194  85.778  77.950      0.000   0.000   0.000   0.000  100.000     7969\n",
            " 20   1626.771    94.410  25954.060  85.823  78.017      0.000   0.000   0.000   0.000  100.000     7493\n",
            " 21   1585.999    94.380  25236.436  85.841  78.046      0.000   0.000   0.000   0.000  100.000     7908\n",
            " 22   1460.340    94.310  24954.327  85.708  78.026      0.000   0.000   0.000   0.000  100.000     7543\n",
            " 23   1455.692    94.360  24145.720  85.663  77.869      0.000   0.000   0.000   0.000  100.000     7461\n",
            " 24   1398.866    94.460  23539.190  85.674  77.825      0.000   0.000   0.000   0.000  100.000     7178\n",
            " 25   1330.045    94.400  23382.458  85.618  77.858      0.000   0.000   0.000   0.000  100.000     7162\n",
            " 26   1224.820    94.410  22647.263  85.735  77.896      0.000   0.000   0.000   0.000  100.000     6554\n",
            " 27   1341.323    94.360  22367.759  85.623  77.919      0.000   0.000   0.000   0.000  100.000     6615\n",
            " 28   1291.058    94.420  21496.839  85.764  78.015      0.000   0.000   0.000   0.000  100.000     6233\n",
            " 29   1218.609    94.380  21457.162  85.567  77.885      0.000   0.000   0.000   0.000  100.000     6008\n",
            " 30   1240.404    94.420  20859.337  85.601  77.863      0.000   0.000   0.000   0.000  100.000     5659\n",
            "\u001b[38;5;2m✔ Saved model to output directory\u001b[0m\n",
            "models/model-final\n",
            "\u001b[2K\u001b[38;5;2m✔ Created best model\u001b[0m\n",
            "models/model-best\n"
          ]
        }
      ]
    },
    {
      "cell_type": "code",
      "metadata": {
        "id": "v5nDjZxszhfp"
      },
      "source": [
        "!mkdir modelout"
      ],
      "execution_count": 41,
      "outputs": []
    },
    {
      "cell_type": "code",
      "metadata": {
        "colab": {
          "base_uri": "https://localhost:8080/"
        },
        "id": "i20NwdQO0xo3",
        "outputId": "e6f4552e-6c19-4db6-d8c1-2a3caa161532"
      },
      "source": [
        "%cd /content\n",
        "!rm -rf modelout\n",
        "!rm meta.json"
      ],
      "execution_count": 39,
      "outputs": [
        {
          "output_type": "stream",
          "name": "stdout",
          "text": [
            "/content\n"
          ]
        }
      ]
    },
    {
      "cell_type": "code",
      "metadata": {
        "id": "z2Vkd8m1vqG9",
        "colab": {
          "base_uri": "https://localhost:8080/"
        },
        "outputId": "7c846b73-66dc-4e0c-f91d-73cf5adb60d3"
      },
      "source": [
        "%%writefile meta.json\n",
        "{\n",
        "  \"name\": \"idt_sm\",\n",
        "  \"lang\": \"ga\",\n",
        "  \"version\": \"1.0.0\",\n",
        "  \"spacy_version\": \">=2.0.0,<3.0.0\",\n",
        "  \"description\": \"Irish model for spaCy trained on IDT\",\n",
        "  \"author\": \"Jim O'Regan\",\n",
        "  \"email\": \"jaoregan@tcd.ie\",\n",
        "  \"license\": \"CC BY-SA 3.0\",\n",
        "  \"url\": \"https://huggingface.co/jimregan\",\n",
        "  \"pipeline\": [\"tagger\", \"parser\", \"ner\"]\n",
        "}"
      ],
      "execution_count": 40,
      "outputs": [
        {
          "output_type": "stream",
          "name": "stdout",
          "text": [
            "Writing meta.json\n"
          ]
        }
      ]
    },
    {
      "cell_type": "code",
      "metadata": {
        "id": "v-mru_VeiXsG",
        "colab": {
          "base_uri": "https://localhost:8080/"
        },
        "outputId": "272c4be8-e7de-48a1-c045-e741378e819c"
      },
      "source": [
        "!python -m spacy package --meta meta.json /content/models/model-best modelout"
      ],
      "execution_count": 42,
      "outputs": [
        {
          "output_type": "stream",
          "name": "stdout",
          "text": [
            "\u001b[38;5;2m✔ Loaded meta.json from file\u001b[0m\n",
            "meta.json\n",
            "\u001b[38;5;2m✔ Successfully created package 'ga_idt_sm-1.0.0'\u001b[0m\n",
            "modelout/ga_idt_sm-1.0.0\n",
            "To build the package, run `python setup.py sdist` in this directory.\n"
          ]
        }
      ]
    },
    {
      "cell_type": "code",
      "metadata": {
        "colab": {
          "base_uri": "https://localhost:8080/"
        },
        "id": "HhtVB22czu05",
        "outputId": "4c7bbf48-a29c-4670-b139-7bb9ed72d322"
      },
      "source": [
        "!ls /content/modelout/"
      ],
      "execution_count": 25,
      "outputs": [
        {
          "output_type": "stream",
          "name": "stdout",
          "text": [
            "ga_ga_idt_sm-1.0.0  meta.json\n"
          ]
        }
      ]
    },
    {
      "cell_type": "code",
      "metadata": {
        "id": "TA059DygwqG8",
        "colab": {
          "base_uri": "https://localhost:8080/"
        },
        "outputId": "685c0651-ec43-42e4-afc7-b162b137ad23"
      },
      "source": [
        "%cd /content/modelout/ga_idt_sm-1.0.0\n",
        "!python setup.py sdist"
      ],
      "execution_count": 43,
      "outputs": [
        {
          "output_type": "stream",
          "name": "stdout",
          "text": [
            "/content/modelout/ga_idt_sm-1.0.0\n",
            "running sdist\n",
            "running egg_info\n",
            "creating ga_idt_sm.egg-info\n",
            "writing ga_idt_sm.egg-info/PKG-INFO\n",
            "writing dependency_links to ga_idt_sm.egg-info/dependency_links.txt\n",
            "writing requirements to ga_idt_sm.egg-info/requires.txt\n",
            "writing top-level names to ga_idt_sm.egg-info/top_level.txt\n",
            "writing manifest file 'ga_idt_sm.egg-info/SOURCES.txt'\n",
            "reading manifest file 'ga_idt_sm.egg-info/SOURCES.txt'\n",
            "reading manifest template 'MANIFEST.in'\n",
            "writing manifest file 'ga_idt_sm.egg-info/SOURCES.txt'\n",
            "warning: sdist: standard file not found: should have one of README, README.rst, README.txt, README.md\n",
            "\n",
            "running check\n",
            "creating ga_idt_sm-1.0.0\n",
            "creating ga_idt_sm-1.0.0/ga_idt_sm\n",
            "creating ga_idt_sm-1.0.0/ga_idt_sm.egg-info\n",
            "creating ga_idt_sm-1.0.0/ga_idt_sm/ga_idt_sm-1.0.0\n",
            "creating ga_idt_sm-1.0.0/ga_idt_sm/ga_idt_sm-1.0.0/ner\n",
            "creating ga_idt_sm-1.0.0/ga_idt_sm/ga_idt_sm-1.0.0/parser\n",
            "creating ga_idt_sm-1.0.0/ga_idt_sm/ga_idt_sm-1.0.0/tagger\n",
            "creating ga_idt_sm-1.0.0/ga_idt_sm/ga_idt_sm-1.0.0/vocab\n",
            "copying files to ga_idt_sm-1.0.0...\n",
            "copying MANIFEST.in -> ga_idt_sm-1.0.0\n",
            "copying meta.json -> ga_idt_sm-1.0.0\n",
            "copying setup.py -> ga_idt_sm-1.0.0\n",
            "copying ga_idt_sm/__init__.py -> ga_idt_sm-1.0.0/ga_idt_sm\n",
            "copying ga_idt_sm/meta.json -> ga_idt_sm-1.0.0/ga_idt_sm\n",
            "copying ga_idt_sm.egg-info/PKG-INFO -> ga_idt_sm-1.0.0/ga_idt_sm.egg-info\n",
            "copying ga_idt_sm.egg-info/SOURCES.txt -> ga_idt_sm-1.0.0/ga_idt_sm.egg-info\n",
            "copying ga_idt_sm.egg-info/dependency_links.txt -> ga_idt_sm-1.0.0/ga_idt_sm.egg-info\n",
            "copying ga_idt_sm.egg-info/not-zip-safe -> ga_idt_sm-1.0.0/ga_idt_sm.egg-info\n",
            "copying ga_idt_sm.egg-info/requires.txt -> ga_idt_sm-1.0.0/ga_idt_sm.egg-info\n",
            "copying ga_idt_sm.egg-info/top_level.txt -> ga_idt_sm-1.0.0/ga_idt_sm.egg-info\n",
            "copying ga_idt_sm/ga_idt_sm-1.0.0/meta.json -> ga_idt_sm-1.0.0/ga_idt_sm/ga_idt_sm-1.0.0\n",
            "copying ga_idt_sm/ga_idt_sm-1.0.0/tokenizer -> ga_idt_sm-1.0.0/ga_idt_sm/ga_idt_sm-1.0.0\n",
            "copying ga_idt_sm/ga_idt_sm-1.0.0/ner/cfg -> ga_idt_sm-1.0.0/ga_idt_sm/ga_idt_sm-1.0.0/ner\n",
            "copying ga_idt_sm/ga_idt_sm-1.0.0/ner/model -> ga_idt_sm-1.0.0/ga_idt_sm/ga_idt_sm-1.0.0/ner\n",
            "copying ga_idt_sm/ga_idt_sm-1.0.0/ner/moves -> ga_idt_sm-1.0.0/ga_idt_sm/ga_idt_sm-1.0.0/ner\n",
            "copying ga_idt_sm/ga_idt_sm-1.0.0/parser/cfg -> ga_idt_sm-1.0.0/ga_idt_sm/ga_idt_sm-1.0.0/parser\n",
            "copying ga_idt_sm/ga_idt_sm-1.0.0/parser/model -> ga_idt_sm-1.0.0/ga_idt_sm/ga_idt_sm-1.0.0/parser\n",
            "copying ga_idt_sm/ga_idt_sm-1.0.0/parser/moves -> ga_idt_sm-1.0.0/ga_idt_sm/ga_idt_sm-1.0.0/parser\n",
            "copying ga_idt_sm/ga_idt_sm-1.0.0/tagger/cfg -> ga_idt_sm-1.0.0/ga_idt_sm/ga_idt_sm-1.0.0/tagger\n",
            "copying ga_idt_sm/ga_idt_sm-1.0.0/tagger/model -> ga_idt_sm-1.0.0/ga_idt_sm/ga_idt_sm-1.0.0/tagger\n",
            "copying ga_idt_sm/ga_idt_sm-1.0.0/tagger/tag_map -> ga_idt_sm-1.0.0/ga_idt_sm/ga_idt_sm-1.0.0/tagger\n",
            "copying ga_idt_sm/ga_idt_sm-1.0.0/vocab/key2row -> ga_idt_sm-1.0.0/ga_idt_sm/ga_idt_sm-1.0.0/vocab\n",
            "copying ga_idt_sm/ga_idt_sm-1.0.0/vocab/lexemes.bin -> ga_idt_sm-1.0.0/ga_idt_sm/ga_idt_sm-1.0.0/vocab\n",
            "copying ga_idt_sm/ga_idt_sm-1.0.0/vocab/strings.json -> ga_idt_sm-1.0.0/ga_idt_sm/ga_idt_sm-1.0.0/vocab\n",
            "copying ga_idt_sm/ga_idt_sm-1.0.0/vocab/vectors -> ga_idt_sm-1.0.0/ga_idt_sm/ga_idt_sm-1.0.0/vocab\n",
            "Writing ga_idt_sm-1.0.0/setup.cfg\n",
            "creating dist\n",
            "Creating tar archive\n",
            "removing 'ga_idt_sm-1.0.0' (and everything under it)\n"
          ]
        }
      ]
    },
    {
      "cell_type": "code",
      "metadata": {
        "colab": {
          "base_uri": "https://localhost:8080/"
        },
        "id": "wig6uL9M0oov",
        "outputId": "fd3dbf6e-1add-4ea2-fb4b-c395d7edf071"
      },
      "source": [
        "!apt install git-lfs"
      ],
      "execution_count": 44,
      "outputs": [
        {
          "output_type": "stream",
          "name": "stdout",
          "text": [
            "Reading package lists... Done\n",
            "Building dependency tree       \n",
            "Reading state information... Done\n",
            "The following NEW packages will be installed:\n",
            "  git-lfs\n",
            "0 upgraded, 1 newly installed, 0 to remove and 37 not upgraded.\n",
            "Need to get 2,129 kB of archives.\n",
            "After this operation, 7,662 kB of additional disk space will be used.\n",
            "Get:1 http://archive.ubuntu.com/ubuntu bionic/universe amd64 git-lfs amd64 2.3.4-1 [2,129 kB]\n",
            "Fetched 2,129 kB in 1s (1,931 kB/s)\n",
            "Selecting previously unselected package git-lfs.\n",
            "(Reading database ... 155219 files and directories currently installed.)\n",
            "Preparing to unpack .../git-lfs_2.3.4-1_amd64.deb ...\n",
            "Unpacking git-lfs (2.3.4-1) ...\n",
            "Setting up git-lfs (2.3.4-1) ...\n",
            "Processing triggers for man-db (2.8.3-2ubuntu0.1) ...\n"
          ]
        }
      ]
    },
    {
      "cell_type": "code",
      "metadata": {
        "colab": {
          "base_uri": "https://localhost:8080/"
        },
        "id": "kMvOJDOY2CvP",
        "outputId": "388adc4f-db39-496e-dbaa-91c4bb9dfcd6"
      },
      "source": [
        "!pip install transformers"
      ],
      "execution_count": 46,
      "outputs": [
        {
          "output_type": "stream",
          "name": "stdout",
          "text": [
            "Collecting transformers\n",
            "  Downloading transformers-4.12.5-py3-none-any.whl (3.1 MB)\n",
            "\u001b[K     |████████████████████████████████| 3.1 MB 4.4 MB/s \n",
            "\u001b[?25hCollecting tokenizers<0.11,>=0.10.1\n",
            "  Downloading tokenizers-0.10.3-cp37-cp37m-manylinux_2_5_x86_64.manylinux1_x86_64.manylinux_2_12_x86_64.manylinux2010_x86_64.whl (3.3 MB)\n",
            "\u001b[K     |████████████████████████████████| 3.3 MB 9.8 MB/s \n",
            "\u001b[?25hCollecting huggingface-hub<1.0,>=0.1.0\n",
            "  Downloading huggingface_hub-0.1.2-py3-none-any.whl (59 kB)\n",
            "\u001b[K     |████████████████████████████████| 59 kB 5.0 MB/s \n",
            "\u001b[?25hRequirement already satisfied: regex!=2019.12.17 in /usr/local/lib/python3.7/dist-packages (from transformers) (2019.12.20)\n",
            "Collecting sacremoses\n",
            "  Downloading sacremoses-0.0.46-py3-none-any.whl (895 kB)\n",
            "\u001b[K     |████████████████████████████████| 895 kB 17.6 MB/s \n",
            "\u001b[?25hRequirement already satisfied: importlib-metadata in /usr/local/lib/python3.7/dist-packages (from transformers) (4.8.2)\n",
            "Collecting pyyaml>=5.1\n",
            "  Downloading PyYAML-6.0-cp37-cp37m-manylinux_2_5_x86_64.manylinux1_x86_64.manylinux_2_12_x86_64.manylinux2010_x86_64.whl (596 kB)\n",
            "\u001b[K     |████████████████████████████████| 596 kB 18.3 MB/s \n",
            "\u001b[?25hRequirement already satisfied: numpy>=1.17 in /usr/local/lib/python3.7/dist-packages (from transformers) (1.19.5)\n",
            "Requirement already satisfied: requests in /usr/local/lib/python3.7/dist-packages (from transformers) (2.23.0)\n",
            "Requirement already satisfied: packaging>=20.0 in /usr/local/lib/python3.7/dist-packages (from transformers) (21.2)\n",
            "Requirement already satisfied: filelock in /usr/local/lib/python3.7/dist-packages (from transformers) (3.3.2)\n",
            "Requirement already satisfied: tqdm>=4.27 in /usr/local/lib/python3.7/dist-packages (from transformers) (4.62.3)\n",
            "Requirement already satisfied: typing-extensions>=3.7.4.3 in /usr/local/lib/python3.7/dist-packages (from huggingface-hub<1.0,>=0.1.0->transformers) (3.10.0.2)\n",
            "Requirement already satisfied: pyparsing<3,>=2.0.2 in /usr/local/lib/python3.7/dist-packages (from packaging>=20.0->transformers) (2.4.7)\n",
            "Requirement already satisfied: zipp>=0.5 in /usr/local/lib/python3.7/dist-packages (from importlib-metadata->transformers) (3.6.0)\n",
            "Requirement already satisfied: chardet<4,>=3.0.2 in /usr/local/lib/python3.7/dist-packages (from requests->transformers) (3.0.4)\n",
            "Requirement already satisfied: idna<3,>=2.5 in /usr/local/lib/python3.7/dist-packages (from requests->transformers) (2.10)\n",
            "Requirement already satisfied: urllib3!=1.25.0,!=1.25.1,<1.26,>=1.21.1 in /usr/local/lib/python3.7/dist-packages (from requests->transformers) (1.24.3)\n",
            "Requirement already satisfied: certifi>=2017.4.17 in /usr/local/lib/python3.7/dist-packages (from requests->transformers) (2021.10.8)\n",
            "Requirement already satisfied: joblib in /usr/local/lib/python3.7/dist-packages (from sacremoses->transformers) (1.1.0)\n",
            "Requirement already satisfied: six in /usr/local/lib/python3.7/dist-packages (from sacremoses->transformers) (1.15.0)\n",
            "Requirement already satisfied: click in /usr/local/lib/python3.7/dist-packages (from sacremoses->transformers) (7.1.2)\n",
            "Installing collected packages: pyyaml, tokenizers, sacremoses, huggingface-hub, transformers\n",
            "  Attempting uninstall: pyyaml\n",
            "    Found existing installation: PyYAML 3.13\n",
            "    Uninstalling PyYAML-3.13:\n",
            "      Successfully uninstalled PyYAML-3.13\n",
            "Successfully installed huggingface-hub-0.1.2 pyyaml-6.0 sacremoses-0.0.46 tokenizers-0.10.3 transformers-4.12.5\n"
          ]
        }
      ]
    },
    {
      "cell_type": "code",
      "metadata": {
        "id": "CoEbpnA-61DJ",
        "colab": {
          "base_uri": "https://localhost:8080/"
        },
        "outputId": "7434ef6d-183f-4f4c-9905-1a703de77019"
      },
      "source": [
        "!transformers-cli login\n"
      ],
      "execution_count": 48,
      "outputs": [
        {
          "output_type": "stream",
          "name": "stdout",
          "text": [
            "\u001b[1m\u001b[31mWARNING! `transformers-cli login` is deprecated and will be removed in v5. Please use `huggingface-cli login` instead.\u001b[0m\n",
            "\n",
            "        _|    _|  _|    _|    _|_|_|    _|_|_|  _|_|_|  _|      _|    _|_|_|      _|_|_|_|    _|_|      _|_|_|  _|_|_|_|\n",
            "        _|    _|  _|    _|  _|        _|          _|    _|_|    _|  _|            _|        _|    _|  _|        _|\n",
            "        _|_|_|_|  _|    _|  _|  _|_|  _|  _|_|    _|    _|  _|  _|  _|  _|_|      _|_|_|    _|_|_|_|  _|        _|_|_|\n",
            "        _|    _|  _|    _|  _|    _|  _|    _|    _|    _|    _|_|  _|    _|      _|        _|    _|  _|        _|\n",
            "        _|    _|    _|_|      _|_|_|    _|_|_|  _|_|_|  _|      _|    _|_|_|      _|        _|    _|    _|_|_|  _|_|_|_|\n",
            "\n",
            "        \n",
            "Username: jimregan\n",
            "Password: \n",
            "Login successful\n",
            "Your token: QesBBGLTWurOVdTKllaNeKyzDraDHjNlgXgiCybgXPjIwxEOJwxFtecuxzHFNpHKaLqBYjYcurRZFQxDjGsJbjDUsyYDEzUddrFbVblmFXVzoDGfueJqGXmtPELecnRr \n",
            "\n",
            "Your token has been saved to /root/.huggingface/token\n"
          ]
        }
      ]
    },
    {
      "cell_type": "code",
      "metadata": {
        "colab": {
          "base_uri": "https://localhost:8080/"
        },
        "id": "oI0eBioo2r38",
        "outputId": "1a5ba6d1-1991-492e-887b-ba8d3e4232e9"
      },
      "source": [
        "!tar ztvf dist/ga_idt_sm-1.0.0.tar.gz\n",
        "\n"
      ],
      "execution_count": 54,
      "outputs": [
        {
          "output_type": "stream",
          "name": "stdout",
          "text": [
            "drwxr-xr-x root/root         0 2021-11-17 21:35 ga_idt_sm-1.0.0/\n",
            "-rw-r--r-- root/root        17 2021-11-17 21:35 ga_idt_sm-1.0.0/MANIFEST.in\n",
            "-rw-r--r-- root/root       242 2021-11-17 21:35 ga_idt_sm-1.0.0/PKG-INFO\n",
            "drwxr-xr-x root/root         0 2021-11-17 21:35 ga_idt_sm-1.0.0/ga_idt_sm/\n",
            "-rw-r--r-- root/root       291 2021-11-17 21:35 ga_idt_sm-1.0.0/ga_idt_sm/__init__.py\n",
            "drwxr-xr-x root/root         0 2021-11-17 21:35 ga_idt_sm-1.0.0/ga_idt_sm/ga_idt_sm-1.0.0/\n",
            "-rw-r--r-- root/root       333 2021-11-17 21:35 ga_idt_sm-1.0.0/ga_idt_sm/ga_idt_sm-1.0.0/meta.json\n",
            "drwxr-xr-x root/root         0 2021-11-17 21:35 ga_idt_sm-1.0.0/ga_idt_sm/ga_idt_sm-1.0.0/ner/\n",
            "-rw-r--r-- root/root       367 2021-11-17 20:59 ga_idt_sm-1.0.0/ga_idt_sm/ga_idt_sm-1.0.0/ner/cfg\n",
            "-rw-r--r-- root/root   4227498 2021-11-17 20:59 ga_idt_sm-1.0.0/ga_idt_sm/ga_idt_sm-1.0.0/ner/model\n",
            "-rw-r--r-- root/root        60 2021-11-17 20:59 ga_idt_sm-1.0.0/ga_idt_sm/ga_idt_sm-1.0.0/ner/moves\n",
            "drwxr-xr-x root/root         0 2021-11-17 21:35 ga_idt_sm-1.0.0/ga_idt_sm/ga_idt_sm-1.0.0/parser/\n",
            "-rw-r--r-- root/root       392 2021-11-17 21:11 ga_idt_sm-1.0.0/ga_idt_sm/ga_idt_sm-1.0.0/parser/cfg\n",
            "-rw-r--r-- root/root   4341496 2021-11-17 21:11 ga_idt_sm-1.0.0/ga_idt_sm/ga_idt_sm-1.0.0/parser/model\n",
            "-rw-r--r-- root/root       802 2021-11-17 21:11 ga_idt_sm-1.0.0/ga_idt_sm/ga_idt_sm-1.0.0/parser/moves\n",
            "drwxr-xr-x root/root         0 2021-11-17 21:35 ga_idt_sm-1.0.0/ga_idt_sm/ga_idt_sm-1.0.0/tagger/\n",
            "-rw-r--r-- root/root       115 2021-11-17 20:59 ga_idt_sm-1.0.0/ga_idt_sm/ga_idt_sm-1.0.0/tagger/cfg\n",
            "-rw-r--r-- root/root   3961599 2021-11-17 20:59 ga_idt_sm-1.0.0/ga_idt_sm/ga_idt_sm-1.0.0/tagger/model\n",
            "-rw-r--r-- root/root       678 2021-11-17 20:59 ga_idt_sm-1.0.0/ga_idt_sm/ga_idt_sm-1.0.0/tagger/tag_map\n",
            "-rw-r--r-- root/root     38550 2021-11-17 21:22 ga_idt_sm-1.0.0/ga_idt_sm/ga_idt_sm-1.0.0/tokenizer\n",
            "drwxr-xr-x root/root         0 2021-11-17 21:35 ga_idt_sm-1.0.0/ga_idt_sm/ga_idt_sm-1.0.0/vocab/\n",
            "-rw-r--r-- root/root   4304101 2021-11-17 21:22 ga_idt_sm-1.0.0/ga_idt_sm/ga_idt_sm-1.0.0/vocab/key2row\n",
            "-rw-r--r-- root/root  30436704 2021-11-17 21:22 ga_idt_sm-1.0.0/ga_idt_sm/ga_idt_sm-1.0.0/vocab/lexemes.bin\n",
            "-rw-r--r-- root/root   7579824 2021-11-17 21:22 ga_idt_sm-1.0.0/ga_idt_sm/ga_idt_sm-1.0.0/vocab/strings.json\n",
            "-rw-r--r-- root/root 380203328 2021-11-17 21:22 ga_idt_sm-1.0.0/ga_idt_sm/ga_idt_sm-1.0.0/vocab/vectors\n",
            "-rw-r--r-- root/root       333 2021-11-17 21:35 ga_idt_sm-1.0.0/ga_idt_sm/meta.json\n",
            "drwxr-xr-x root/root         0 2021-11-17 21:35 ga_idt_sm-1.0.0/ga_idt_sm.egg-info/\n",
            "-rw-r--r-- root/root       242 2021-11-17 21:35 ga_idt_sm-1.0.0/ga_idt_sm.egg-info/PKG-INFO\n",
            "-rw-r--r-- root/root       847 2021-11-17 21:35 ga_idt_sm-1.0.0/ga_idt_sm.egg-info/SOURCES.txt\n",
            "-rw-r--r-- root/root         1 2021-11-17 21:35 ga_idt_sm-1.0.0/ga_idt_sm.egg-info/dependency_links.txt\n",
            "-rw-r--r-- root/root         1 2021-11-17 21:35 ga_idt_sm-1.0.0/ga_idt_sm.egg-info/not-zip-safe\n",
            "-rw-r--r-- root/root        20 2021-11-17 21:35 ga_idt_sm-1.0.0/ga_idt_sm.egg-info/requires.txt\n",
            "-rw-r--r-- root/root        10 2021-11-17 21:35 ga_idt_sm-1.0.0/ga_idt_sm.egg-info/top_level.txt\n",
            "-rw-r--r-- root/root       333 2021-11-17 21:35 ga_idt_sm-1.0.0/meta.json\n",
            "-rw-r--r-- root/root        38 2021-11-17 21:35 ga_idt_sm-1.0.0/setup.cfg\n",
            "-rw-r--r-- root/root      1753 2021-11-17 21:35 ga_idt_sm-1.0.0/setup.py\n"
          ]
        }
      ]
    },
    {
      "cell_type": "code",
      "metadata": {
        "colab": {
          "base_uri": "https://localhost:8080/"
        },
        "id": "zvRfHUQ958FB",
        "outputId": "4f2edf5f-aee2-44fb-ebfa-67e1f4f1140f"
      },
      "source": [
        "%cd /content/modelout/ga_idt_sm-1.0.0"
      ],
      "execution_count": 67,
      "outputs": [
        {
          "output_type": "stream",
          "name": "stdout",
          "text": [
            "/content/modelout/ga_idt_sm-1.0.0\n"
          ]
        }
      ]
    },
    {
      "cell_type": "code",
      "metadata": {
        "colab": {
          "base_uri": "https://localhost:8080/"
        },
        "id": "7JhiMV-f59KA",
        "outputId": "33edf9b9-d43c-41a1-f5d4-09077c8a080b"
      },
      "source": [
        "!ls"
      ],
      "execution_count": 68,
      "outputs": [
        {
          "output_type": "stream",
          "name": "stdout",
          "text": [
            "dist  ga_idt_sm  ga_idt_sm.egg-info  MANIFEST.in  meta.json  setup.py\n"
          ]
        }
      ]
    },
    {
      "cell_type": "code",
      "metadata": {
        "colab": {
          "base_uri": "https://localhost:8080/"
        },
        "id": "d4g08G-X4kuP",
        "outputId": "77ddd9ce-dac5-4eed-92af-67f68da8fc0d"
      },
      "source": [
        "!transformers-cli repo create ga_idt_sm"
      ],
      "execution_count": 55,
      "outputs": [
        {
          "output_type": "stream",
          "name": "stdout",
          "text": [
            "\u001b[1m\u001b[31mWARNING! Managing repositories through transformers-cli is deprecated. Please use `huggingface-cli` instead.\u001b[0m\n",
            "\u001b[90mgit version 2.17.1\u001b[0m\n",
            "Error: unknown flag: --version\n",
            "\n",
            "\u001b[90mSorry, no usage text found for \"git-lfs\"\u001b[0m\n",
            "\n",
            "You are about to create \u001b[1mjimregan/ga_idt_sm\u001b[0m\n",
            "Proceed? [Y/n] Y\n",
            "\n",
            "Your repo now lives at:\n",
            "  \u001b[1mhttps://huggingface.co/jimregan/ga_idt_sm\u001b[0m\n",
            "\n",
            "You can clone it locally with the command below, and commit/push as usual.\n",
            "\n",
            "  git clone https://huggingface.co/jimregan/ga_idt_sm\n",
            "\n"
          ]
        }
      ]
    },
    {
      "cell_type": "code",
      "metadata": {
        "colab": {
          "base_uri": "https://localhost:8080/"
        },
        "id": "yhO26XvS4lB5",
        "outputId": "7e3114ef-8ecd-4be2-8294-e505c801bb04"
      },
      "source": [
        "!git clone https://huggingface.co/jimregan/ga_idt_sm hf"
      ],
      "execution_count": 69,
      "outputs": [
        {
          "output_type": "stream",
          "name": "stdout",
          "text": [
            "Cloning into 'hf'...\n",
            "remote: Enumerating objects: 3, done.\u001b[K\n",
            "remote: Counting objects: 100% (3/3), done.\u001b[K\n",
            "remote: Compressing objects: 100% (2/2), done.\u001b[K\n",
            "remote: Total 3 (delta 0), reused 0 (delta 0)\u001b[K\n",
            "Unpacking objects: 100% (3/3), done.\n"
          ]
        }
      ]
    },
    {
      "cell_type": "code",
      "metadata": {
        "colab": {
          "base_uri": "https://localhost:8080/"
        },
        "id": "Xvfk2ZTs42Sf",
        "outputId": "08bc408e-8e55-45e3-fd5f-8c157af82c2d"
      },
      "source": [
        "!python -m spacy package ./ga_idt_sm ./hf # --build wheel"
      ],
      "execution_count": 71,
      "outputs": [
        {
          "output_type": "stream",
          "name": "stdout",
          "text": [
            "\u001b[38;5;2m✔ Loaded meta.json from file\u001b[0m\n",
            "ga_idt_sm/meta.json\n",
            "\u001b[38;5;2m✔ Successfully created package 'ga_idt_sm-1.0.0'\u001b[0m\n",
            "hf/ga_idt_sm-1.0.0\n",
            "To build the package, run `python setup.py sdist` in this directory.\n"
          ]
        }
      ]
    },
    {
      "cell_type": "code",
      "metadata": {
        "colab": {
          "base_uri": "https://localhost:8080/"
        },
        "id": "7TDAnSv76OUL",
        "outputId": "0b634612-652a-46ef-852c-af48f8603183"
      },
      "source": [
        "!ls hf"
      ],
      "execution_count": 72,
      "outputs": [
        {
          "output_type": "stream",
          "name": "stdout",
          "text": [
            "ga_idt_sm-1.0.0\n"
          ]
        }
      ]
    },
    {
      "cell_type": "code",
      "metadata": {
        "colab": {
          "base_uri": "https://localhost:8080/"
        },
        "id": "4jZa1Ipb5oN4",
        "outputId": "b2910145-27f9-4d5d-8c9e-6cb5e7734f4d"
      },
      "source": [
        "!ls ga_idt_sm-1.0.0/"
      ],
      "execution_count": 66,
      "outputs": [
        {
          "output_type": "stream",
          "name": "stdout",
          "text": [
            "dist  ga_idt_sm  ga_idt_sm.egg-info  MANIFEST.in  meta.json  setup.py\n"
          ]
        }
      ]
    },
    {
      "cell_type": "code",
      "metadata": {
        "id": "yoIY4A4S5JKn"
      },
      "source": [
        "!rm -rf .git"
      ],
      "execution_count": 61,
      "outputs": []
    },
    {
      "cell_type": "code",
      "metadata": {
        "id": "yOc3X6Zs5LJb"
      },
      "source": [
        "!git add ."
      ],
      "execution_count": null,
      "outputs": []
    }
  ]
}