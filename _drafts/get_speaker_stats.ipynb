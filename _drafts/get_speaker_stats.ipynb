{
 "cells": [
  {
   "cell_type": "code",
   "execution_count": 1,
   "metadata": {},
   "outputs": [],
   "source": [
    "from pathlib import Path\n",
    "JSON_PATH = Path(\"/Users/joregan/Playing/hsi/annotations/final_resolved\")"
   ]
  },
  {
   "cell_type": "code",
   "execution_count": 2,
   "metadata": {},
   "outputs": [],
   "source": [
    "import json\n",
    "\n",
    "speakers = {}\n",
    "\n",
    "for file in JSON_PATH.glob(\"*.json\"):\n",
    "    parts = file.stem.split(\"_\")\n",
    "    speaker = parts[1]\n",
    "\n",
    "    if not speaker in speakers:\n",
    "        speakers[speaker] = []\n",
    "\n",
    "    with open(file) as f:\n",
    "        data = json.load(f)\n",
    "    \n",
    "    for seg in data:\n",
    "        start = data[seg][\"general\"][\"start\"]\n",
    "        end = data[seg][\"general\"][\"end\"]\n",
    "        dur = end - start\n",
    "        speakers[speaker].append(dur)\n"
   ]
  },
  {
   "cell_type": "code",
   "execution_count": 14,
   "metadata": {},
   "outputs": [],
   "source": [
    "import numpy as np\n",
    "\n",
    "longest = {k: np.max(speakers[k]) for k in speakers}\n",
    "shortest = {k: np.min(speakers[k]) for k in speakers}\n",
    "avg = {k: np.average(speakers[k]) for k in speakers}\n",
    "totals = {k: np.sum(speakers[k]) for k in speakers}\n",
    "\n",
    "median = {k: np.median(speakers[k]) for k in speakers}\n",
    "std_dev = {k: np.std(speakers[k], ddof=1) for k in speakers}  # sample std dev\n",
    "count = {k: len(speakers[k]) for k in speakers}\n",
    "s_range = {k: longest[k] - shortest[k] for k in speakers}"
   ]
  },
  {
   "cell_type": "code",
   "execution_count": 18,
   "metadata": {},
   "outputs": [
    {
     "name": "stdout",
     "output_type": "stream",
     "text": [
      "   count  mean  median  std_dev   min    max  range  total_duration\n",
      "4    902  2.59    1.89     2.24  0.16  16.60  16.44         2331.72\n",
      "7    759  4.71    3.26     5.02  0.16  67.23  67.08         3573.08\n",
      "6   1598  1.99    1.20     2.24  0.04  18.69  18.65         3186.45\n",
      "5    960  4.96    2.71     5.78  0.15  28.72  28.57         4759.96\n",
      "3    751  2.72    1.84     2.57  0.12  17.18  17.06         2045.76\n"
     ]
    }
   ],
   "source": [
    "import pandas as pd\n",
    "\n",
    "summary_df = pd.DataFrame({\n",
    "    'count': count,\n",
    "    'mean': avg,\n",
    "    'median': median,\n",
    "    'std_dev': std_dev,\n",
    "    'min': shortest,\n",
    "    'max': longest,\n",
    "    'range': s_range,\n",
    "    'total_duration': totals\n",
    "})\n",
    "\n",
    "# Optional: clean formatting\n",
    "summary_df = summary_df.round(2)\n",
    "\n",
    "print(summary_df)"
   ]
  },
  {
   "cell_type": "code",
   "execution_count": 19,
   "metadata": {},
   "outputs": [
    {
     "name": "stdout",
     "output_type": "stream",
     "text": [
      "\\begin{table}\n",
      "\\caption{Descriptive statistics of utterance durations by speaker}\n",
      "\\label{tab:speaker_stats}\n",
      "\\begin{tabular}{lrrrrrrr}\n",
      "\\toprule\n",
      " & count & mean & median & std_dev & min & max & range & total_duration \\\\\n",
      "\\midrule\n",
      "\\textbf{4} & 902 & 2.59 & 1.89 & 2.24 & 0.16 & 16.60 & 16.44 & 2331.72 \\\\\n",
      "\\textbf{7} & 759 & 4.71 & 3.26 & 5.02 & 0.16 & 67.23 & 67.08 & 3573.08 \\\\\n",
      "\\textbf{6} & 1598 & 1.99 & 1.20 & 2.24 & 0.04 & 18.69 & 18.65 & 3186.45 \\\\\n",
      "\\textbf{5} & 960 & 4.96 & 2.71 & 5.78 & 0.15 & 28.72 & 28.57 & 4759.96 \\\\\n",
      "\\textbf{3} & 751 & 2.72 & 1.84 & 2.57 & 0.12 & 17.18 & 17.06 & 2045.76 \\\\\n",
      "\\bottomrule\n",
      "\\end{tabular}\n",
      "\\end{table}\n",
      "\n"
     ]
    }
   ],
   "source": [
    "latex_table = summary_df.to_latex(\n",
    "    index=True,        # Keeps the speaker names as row labels\n",
    "    caption='Descriptive statistics of utterance durations by speaker',\n",
    "    label='tab:speaker_stats',\n",
    "    float_format=\"%.2f\",\n",
    "    column_format=\"lrrrrrrr\",  # Adjust based on column count\n",
    "    bold_rows=True\n",
    ")\n",
    "\n",
    "print(latex_table)\n"
   ]
  }
 ],
 "metadata": {
  "kernelspec": {
   "display_name": "nst-tts",
   "language": "python",
   "name": "python3"
  },
  "language_info": {
   "codemirror_mode": {
    "name": "ipython",
    "version": 3
   },
   "file_extension": ".py",
   "mimetype": "text/x-python",
   "name": "python",
   "nbconvert_exporter": "python",
   "pygments_lexer": "ipython3",
   "version": "3.10.9"
  }
 },
 "nbformat": 4,
 "nbformat_minor": 2
}
