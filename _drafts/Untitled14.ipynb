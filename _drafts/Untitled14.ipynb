{
  "nbformat": 4,
  "nbformat_minor": 0,
  "metadata": {
    "colab": {
      "name": "Untitled14.ipynb",
      "provenance": []
    },
    "kernelspec": {
      "name": "python3",
      "display_name": "Python 3"
    },
    "language_info": {
      "name": "python"
    }
  },
  "cells": [
    {
      "cell_type": "code",
      "metadata": {
        "id": "P89hfH4Pns-Y"
      },
      "source": [
        "_URL = \"https://www3.smo.uhi.ac.uk/oduibhin/oideasra/lasid/lasid.zip\""
      ],
      "execution_count": 1,
      "outputs": []
    },
    {
      "cell_type": "code",
      "metadata": {
        "colab": {
          "base_uri": "https://localhost:8080/"
        },
        "id": "pvVtuN95nys3",
        "outputId": "698dea6b-4050-446c-b81b-4575d39ef834"
      },
      "source": [
        "!wget {_URL}"
      ],
      "execution_count": 2,
      "outputs": [
        {
          "output_type": "stream",
          "name": "stdout",
          "text": [
            "--2021-09-28 18:16:30--  https://www3.smo.uhi.ac.uk/oduibhin/oideasra/lasid/lasid.zip\n",
            "Resolving www3.smo.uhi.ac.uk (www3.smo.uhi.ac.uk)... 206.189.246.215\n",
            "Connecting to www3.smo.uhi.ac.uk (www3.smo.uhi.ac.uk)|206.189.246.215|:443... connected.\n",
            "HTTP request sent, awaiting response... 200 OK\n",
            "Length: 1522054 (1.5M) [application/zip]\n",
            "Saving to: ‘lasid.zip’\n",
            "\n",
            "lasid.zip           100%[===================>]   1.45M  2.35MB/s    in 0.6s    \n",
            "\n",
            "2021-09-28 18:16:31 (2.35 MB/s) - ‘lasid.zip’ saved [1522054/1522054]\n",
            "\n"
          ]
        }
      ]
    },
    {
      "cell_type": "code",
      "metadata": {
        "colab": {
          "base_uri": "https://localhost:8080/"
        },
        "id": "KdLC7A4in2IW",
        "outputId": "69bc66b5-45e0-412b-d2d6-acf3c4eab142"
      },
      "source": [
        "!unzip lasid.zip"
      ],
      "execution_count": 3,
      "outputs": [
        {
          "output_type": "stream",
          "name": "stdout",
          "text": [
            "Archive:  lasid.zip\n",
            "  inflating: a1i.txt                 \n",
            "  inflating: dfload.exe              \n",
            " extracting: fontoff.bat             \n",
            " extracting: fonton.bat              \n",
            "  inflating: lasid.alp               \n",
            "  inflating: lasid.com               \n",
            "  inflating: lasid.con               \n",
            "  inflating: lasid.dic               \n",
            "  inflating: lasid.f16               \n",
            "  inflating: lasid.man               \n",
            "  inflating: lasid.tex               \n",
            "  inflating: mapdata.dat             \n",
            "  inflating: query.exe               \n",
            " extracting: runlasid.bat            \n",
            "  inflating: runlasid.PIF            \n",
            "  inflating: runlasidvista.bat       \n",
            "  inflating: doc/lasid.htm           \n",
            "  inflating: doc/screen01.jpg        \n",
            "  inflating: doc/screen02.jpg        \n",
            "  inflating: doc/screen03.jpg        \n",
            "  inflating: doc/screen04.jpg        \n",
            "  inflating: doc/screen05.jpg        \n",
            "  inflating: doc/screen06.jpg        \n",
            "  inflating: doc/screen07.jpg        \n",
            "  inflating: doc/screen08.jpg        \n",
            "  inflating: doc/screen09.jpg        \n",
            "  inflating: doc/screen10.jpg        \n",
            "  inflating: doc/screen11.jpg        \n",
            "  inflating: doc/screen12.jpg        \n",
            "  inflating: doc/screen13.jpg        \n",
            "  inflating: doc/screen14.jpg        \n",
            "  inflating: doc/screen15.jpg        \n",
            "  inflating: doc/screen16.jpg        \n",
            "  inflating: doc/screen17.jpg        \n",
            "  inflating: doc/screen18.jpg        \n",
            "  inflating: doc/screen19.jpg        \n",
            "  inflating: doc/screen20.jpg        \n",
            "  inflating: doc/screen21.jpg        \n",
            "  inflating: doc/screen22.jpg        \n",
            "  inflating: doc/screen23.jpg        \n",
            "  inflating: doc/screen24.jpg        \n",
            "  inflating: doc/screen25.jpg        \n",
            "  inflating: doc/screen26.jpg        \n",
            "  inflating: doc/screen27.jpg        \n",
            "  inflating: doc/screen28.jpg        \n",
            "  inflating: doc/screen29.jpg        \n",
            "  inflating: doc/screen30.jpg        \n",
            "  inflating: doc/screen31.jpg        \n"
          ]
        }
      ]
    },
    {
      "cell_type": "code",
      "metadata": {
        "id": "rH5yUX9in6zd"
      },
      "source": [
        "file = open(\"mapdata.dat\", \"rb\")"
      ],
      "execution_count": 45,
      "outputs": []
    },
    {
      "cell_type": "code",
      "metadata": {
        "id": "tHunbqNDoBrh"
      },
      "source": [
        "for line in lines:\n",
        "  if b'\\xf0' in line:\n",
        "    print(line)"
      ],
      "execution_count": null,
      "outputs": []
    },
    {
      "cell_type": "code",
      "metadata": {
        "id": "qPMKPmaVy1se"
      },
      "source": [
        "lines = file.readlines()"
      ],
      "execution_count": 46,
      "outputs": []
    },
    {
      "cell_type": "code",
      "metadata": {
        "colab": {
          "base_uri": "https://localhost:8080/"
        },
        "id": "hg6uGX2Oy5HC",
        "outputId": "f19ca998-c105-4343-c83d-9b26776e927d"
      },
      "source": [
        "lines[0]"
      ],
      "execution_count": 49,
      "outputs": [
        {
          "output_type": "execute_result",
          "data": {
            "text/plain": [
              "b'{M 001  I sold}\\r\\n'"
            ]
          },
          "metadata": {},
          "execution_count": 49
        }
      ]
    },
    {
      "cell_type": "code",
      "metadata": {
        "id": "KszqfPacocV7"
      },
      "source": [
        "lasid_icu = \"\"\"\n",
        "\\xb2 → ə ;\n",
        "\\xf9 → ʃ ;\n",
        "\\x97 → α̩ ;\n",
        "#\\x97 → ɑ̜ ;\n",
        "\\xaf → α ;\n",
        "#\\xaf → ɑ ;\n",
        "\\x9b → ø ;\n",
        "\\x94 → ö ;\n",
        "\\xef → ′ ;\n",
        "\\x8b → ï ;\n",
        "\\xce → ˈ ;\n",
        "\\x1f → ᵊ ;\n",
        "\\: → ː ;\n",
        "I → ɪ ;\n",
        "\\xfa → ɣ ;\n",
        "\\xb9 → ɛ ;\n",
        "\\x8a → è ;\n",
        "\"\"\""
      ],
      "execution_count": 32,
      "outputs": []
    },
    {
      "cell_type": "code",
      "metadata": {
        "colab": {
          "base_uri": "https://localhost:8080/"
        },
        "id": "6JczSqIQqpJp",
        "outputId": "a6e78417-1936-4c65-d875-d6e3e568482d"
      },
      "source": [
        "!pip install pyicu"
      ],
      "execution_count": 7,
      "outputs": [
        {
          "output_type": "stream",
          "name": "stdout",
          "text": [
            "Collecting pyicu\n",
            "  Downloading PyICU-2.7.4.tar.gz (298 kB)\n",
            "\u001b[?25l\r\u001b[K     |█                               | 10 kB 25.8 MB/s eta 0:00:01\r\u001b[K     |██▏                             | 20 kB 11.0 MB/s eta 0:00:01\r\u001b[K     |███▎                            | 30 kB 8.9 MB/s eta 0:00:01\r\u001b[K     |████▍                           | 40 kB 8.2 MB/s eta 0:00:01\r\u001b[K     |█████▌                          | 51 kB 5.0 MB/s eta 0:00:01\r\u001b[K     |██████▋                         | 61 kB 5.5 MB/s eta 0:00:01\r\u001b[K     |███████▊                        | 71 kB 5.6 MB/s eta 0:00:01\r\u001b[K     |████████▉                       | 81 kB 6.3 MB/s eta 0:00:01\r\u001b[K     |█████████▉                      | 92 kB 4.6 MB/s eta 0:00:01\r\u001b[K     |███████████                     | 102 kB 5.0 MB/s eta 0:00:01\r\u001b[K     |████████████                    | 112 kB 5.0 MB/s eta 0:00:01\r\u001b[K     |█████████████▏                  | 122 kB 5.0 MB/s eta 0:00:01\r\u001b[K     |██████████████▎                 | 133 kB 5.0 MB/s eta 0:00:01\r\u001b[K     |███████████████▍                | 143 kB 5.0 MB/s eta 0:00:01\r\u001b[K     |████████████████▌               | 153 kB 5.0 MB/s eta 0:00:01\r\u001b[K     |█████████████████▋              | 163 kB 5.0 MB/s eta 0:00:01\r\u001b[K     |██████████████████▋             | 174 kB 5.0 MB/s eta 0:00:01\r\u001b[K     |███████████████████▊            | 184 kB 5.0 MB/s eta 0:00:01\r\u001b[K     |████████████████████▉           | 194 kB 5.0 MB/s eta 0:00:01\r\u001b[K     |██████████████████████          | 204 kB 5.0 MB/s eta 0:00:01\r\u001b[K     |███████████████████████         | 215 kB 5.0 MB/s eta 0:00:01\r\u001b[K     |████████████████████████▏       | 225 kB 5.0 MB/s eta 0:00:01\r\u001b[K     |█████████████████████████▎      | 235 kB 5.0 MB/s eta 0:00:01\r\u001b[K     |██████████████████████████▍     | 245 kB 5.0 MB/s eta 0:00:01\r\u001b[K     |███████████████████████████▍    | 256 kB 5.0 MB/s eta 0:00:01\r\u001b[K     |████████████████████████████▌   | 266 kB 5.0 MB/s eta 0:00:01\r\u001b[K     |█████████████████████████████▋  | 276 kB 5.0 MB/s eta 0:00:01\r\u001b[K     |██████████████████████████████▊ | 286 kB 5.0 MB/s eta 0:00:01\r\u001b[K     |███████████████████████████████▉| 296 kB 5.0 MB/s eta 0:00:01\r\u001b[K     |████████████████████████████████| 298 kB 5.0 MB/s \n",
            "\u001b[?25hBuilding wheels for collected packages: pyicu\n",
            "  Building wheel for pyicu (setup.py) ... \u001b[?25l\u001b[?25hdone\n",
            "  Created wheel for pyicu: filename=PyICU-2.7.4-cp37-cp37m-linux_x86_64.whl size=1374625 sha256=20c8862efa962f9ee4139327264d9c7224646023ef840e4d4c31dca34c2b30ea\n",
            "  Stored in directory: /root/.cache/pip/wheels/c4/3a/c8/2d2397cd8f6cd04489ecac3d1e6821bb4938d73312d69b834f\n",
            "Successfully built pyicu\n",
            "Installing collected packages: pyicu\n",
            "Successfully installed pyicu-2.7.4\n"
          ]
        }
      ]
    },
    {
      "cell_type": "code",
      "metadata": {
        "id": "C0obF88iqkqf"
      },
      "source": [
        "import icu\n",
        "def transliterator_from_rules(name, rules):\n",
        "    fromrules = icu.Transliterator.createFromRules(name, rules)\n",
        "    icu.Transliterator.registerInstance(fromrules)\n",
        "    return icu.Transliterator.createInstance(name)"
      ],
      "execution_count": 18,
      "outputs": []
    },
    {
      "cell_type": "code",
      "metadata": {
        "id": "l56LHb_Cq3ms"
      },
      "source": [
        "lasid = transliterator_from_rules('lasid_icu', lasid_icu)\n"
      ],
      "execution_count": 24,
      "outputs": []
    },
    {
      "cell_type": "code",
      "metadata": {
        "id": "q9BvNEwPrBg6"
      },
      "source": [
        "test = b'001 t \\x8b r  \\x8b v\\xef     t \\xaf \\xce r i: \\xb2 n t \\xb2 *\\r\\n'"
      ],
      "execution_count": 29,
      "outputs": []
    },
    {
      "cell_type": "code",
      "metadata": {
        "colab": {
          "base_uri": "https://localhost:8080/",
          "height": 35
        },
        "id": "qHmQ9l4FrG_q",
        "outputId": "d4257301-1df6-4368-c4ac-6a596e81500e"
      },
      "source": [
        "lasid.transliterate(test.decode('ISO-8859-1').rstrip())"
      ],
      "execution_count": 30,
      "outputs": [
        {
          "output_type": "execute_result",
          "data": {
            "application/vnd.google.colaboratory.intrinsic+json": {
              "type": "string"
            },
            "text/plain": [
              "'001 t ï r  ï v′     t α ˈ r iː ə n t ə *'"
            ]
          },
          "metadata": {},
          "execution_count": 30
        }
      ]
    },
    {
      "cell_type": "code",
      "metadata": {
        "id": "Zo7cUxfytWy6"
      },
      "source": [
        "test = b'010 t \\xaf \\xce r i: \\x1f x \\xb2 *\\r\\n'"
      ],
      "execution_count": 22,
      "outputs": []
    },
    {
      "cell_type": "code",
      "metadata": {
        "id": "t9Icb6PjuCdc"
      },
      "source": [
        "test = b'022 t \\x8b r\\xef \\x8b v\\xef *\\r\\n'"
      ],
      "execution_count": 27,
      "outputs": []
    }
  ]
}