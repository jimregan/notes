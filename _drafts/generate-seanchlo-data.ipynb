{
  "nbformat": 4,
  "nbformat_minor": 0,
  "metadata": {
    "colab": {
      "provenance": []
    },
    "kernelspec": {
      "name": "python3",
      "display_name": "Python 3"
    },
    "language_info": {
      "name": "python"
    }
  },
  "cells": [
    {
      "cell_type": "code",
      "execution_count": 21,
      "metadata": {
        "id": "C5GlD_9OjJZj"
      },
      "outputs": [],
      "source": [
        "FONT_LINKS = \"\"\"\n",
        "https://web.archive.org/web/20130404225932/http://www.iol.ie/~sob/gadelica.zip\n",
        "http://web.archive.org/web/20120830224624/http://www.gaelchlo.com/bunardgc.zip\n",
        "http://web.archive.org/web/20220322030900/https://www.gaelchlo.com/bunargc.zip\n",
        "http://web.archive.org/web/20120830224559/http://www.gaelchlo.com/bunartgc.zip\n",
        "http://web.archive.org/web/20191216105737/http://www.gaelchlo.com/bundgc.zip\n",
        "http://web.archive.org/web/20120830224343/http://www.gaelchlo.com/bunnod.zip\n",
        "http://web.archive.org/web/20191218121436/http://www.gaelchlo.com/buntgc.zip\n",
        "http://web.archive.org/web/20160408212120/http://gaelchlo.com/seandgc.zip\n",
        "http://web.archive.org/web/20160408212013/http://gaelchlo.com/seantgc.zip\n",
        "http://web.archive.org/web/20220322030900/https://www.gaelchlo.com/bunargc.zip\n",
        "http://web.archive.org/web/20240119141814/https://www.gaelchlo.com/bungc.zip\n",
        "http://web.archive.org/web/20160408212120/http://gaelchlo.com/seandgc.zip\n",
        "http://web.archive.org/web/20240119143113/https://www.gaelchlo.com/seangc.zip\n",
        "http://web.archive.org/web/20160408212013/http://gaelchlo.com/seantgc.zip\n",
        "http://web.archive.org/web/20240619180031/http://www.gaelchlo.com/urgc.zip\n",
        "http://web.archive.org/web/20240119141944/https://www.gaelchlo.com/aongc.zip\n",
        "http://web.archive.org/web/20240619182847/https://www.gaelchlo.com/ardeorgc.zip\n",
        "http://web.archive.org/web/20240119142032/https://www.gaelchlo.com/ardgc.zip\n",
        "http://web.archive.org/web/20240119142040/https://www.gaelchlo.com/barrgc.zip\n",
        "http://web.archive.org/web/20240119142035/https://www.gaelchlo.com/casgc.zip\n",
        "http://web.archive.org/web/20240619182918/https://www.gaelchlo.com/corrgc.zip\n",
        "http://web.archive.org/web/20240119142042/https://www.gaelchlo.com/deasgc.zip\n",
        "http://web.archive.org/web/20240119142045/https://www.gaelchlo.com/dluthgc.zip\n",
        "http://web.archive.org/web/20240119142026/https://www.gaelchlo.com/dubhgc.zip\n",
        "http://web.archive.org/web/20240119142025/https://www.gaelchlo.com/fiorgc.zip\n",
        "http://web.archive.org/web/20240119142051/https://www.gaelchlo.com/geargc.zip\n",
        "http://web.archive.org/web/20240119142055/https://www.gaelchlo.com/glangc.zip\n",
        "http://web.archive.org/web/20240119143123/https://www.gaelchlo.com/langc.zip\n",
        "http://web.archive.org/web/20240619183031/https://www.gaelchlo.com/lomgc.zip\n",
        "http://web.archive.org/web/20240619183107/https://www.gaelchlo.com/meargc.zip\n",
        "http://web.archive.org/web/20240619183125/https://www.gaelchlo.com/mingc.zip\n",
        "\"\"\""
      ]
    },
    {
      "cell_type": "code",
      "source": [
        "FONTS = [x for x in FONT_LINKS.split(\"\\n\") if x != \"\"]"
      ],
      "metadata": {
        "id": "o43_7AS8jU5o"
      },
      "execution_count": 22,
      "outputs": []
    },
    {
      "cell_type": "code",
      "source": [
        "for font in FONTS:\n",
        "  !wget {font}\n",
        "  !unzip {font.split(\"/\")[-1]}"
      ],
      "metadata": {
        "id": "4qc5yu1ZkaoH"
      },
      "execution_count": null,
      "outputs": []
    },
    {
      "cell_type": "code",
      "source": [
        "!mkdir fonts\n",
        "!mv *.ttf fonts"
      ],
      "metadata": {
        "id": "kXbUV6wonveb"
      },
      "execution_count": 11,
      "outputs": []
    },
    {
      "cell_type": "code",
      "source": [
        "%%capture\n",
        "!apt install python3-fontforge"
      ],
      "metadata": {
        "id": "ujKxfdNjn9z5"
      },
      "execution_count": null,
      "outputs": []
    },
    {
      "cell_type": "code",
      "source": [
        "%%capture\n",
        "!apt install lynx"
      ],
      "metadata": {
        "id": "j1k-z0_WuObq"
      },
      "execution_count": null,
      "outputs": []
    },
    {
      "cell_type": "code",
      "source": [
        "!lynx -dump https://www.gaelchlo.com/clonna1.html|grep html|grep '[12][0-9]\\.'|awk '{print $2}'|while read i;do lynx -dump $i|grep zip;done|grep https|awk '{print $2}'|sort|uniq > fontlist"
      ],
      "metadata": {
        "id": "NeVE-dbPuL0-"
      },
      "execution_count": 40,
      "outputs": []
    },
    {
      "cell_type": "code",
      "source": [
        "!wget -i fontlist"
      ],
      "metadata": {
        "id": "AQ7Pt55Ou1Wh"
      },
      "execution_count": null,
      "outputs": []
    },
    {
      "cell_type": "code",
      "source": [
        "%%capture\n",
        "!for i in *zip;do unzip -o $i;done"
      ],
      "metadata": {
        "id": "sV_sYrEPvDQT"
      },
      "execution_count": null,
      "outputs": []
    },
    {
      "cell_type": "code",
      "source": [
        "!cat fontlist|sort|uniq|grep -v 'w.zip$'|awk '{print \"http://web.archive.org/web/\" $0}' > iafonts\n",
        "#!wget -i iafonts -o iafonts.log"
      ],
      "metadata": {
        "id": "5V9rk0fdwLsp"
      },
      "execution_count": 52,
      "outputs": []
    },
    {
      "cell_type": "code",
      "source": [
        "from pathlib import Path\n",
        "import fontforge\n",
        "\n",
        "for otf in Path(\".\").glob(\"**/*.otf\"):\n",
        "    font = fontforge.open(str(otf))\n",
        "    outname = \"fonts/\" + otf.stem + \".ttf\"\n",
        "    font.generate(outname)"
      ],
      "metadata": {
        "id": "CiQiAuATvvx_"
      },
      "execution_count": 76,
      "outputs": []
    },
    {
      "cell_type": "code",
      "source": [
        "!wget https://web.archive.org/web/20240619184509/https://www.gaelchlo.com/miongc.zip\n",
        "!wget http://web.archive.org/web/20240619184517/https://www.gaelchlo.com/morgc.zip\n",
        "!wget http://web.archive.org/web/https://inkwell.ie/font-packs/Macalla/Macalla-Regular-ttf.zip"
      ],
      "metadata": {
        "id": "xF7_XIQc0nsG"
      },
      "execution_count": null,
      "outputs": []
    },
    {
      "cell_type": "code",
      "source": [
        "%%capture\n",
        "!pip install trdg"
      ],
      "metadata": {
        "id": "2XvIoJMp5b82"
      },
      "execution_count": 68,
      "outputs": []
    },
    {
      "cell_type": "code",
      "source": [
        "%%capture\n",
        "!wget https://raw.githubusercontent.com/tesseract-ocr/langdata/main/gle_uncial/gle_uncial.training_text"
      ],
      "metadata": {
        "id": "P4pCxtVC6wBf"
      },
      "execution_count": null,
      "outputs": []
    },
    {
      "cell_type": "code",
      "source": [
        "with open(\"gle_uncial.training_text\", \"r\") as inf, open(\"training_text.txt\", \"w\") as outf:\n",
        "    for line in inf.readlines():\n",
        "        if len(line.strip()) < 195:\n",
        "            outf.write(line)"
      ],
      "metadata": {
        "id": "RMBaj4XC7IDx"
      },
      "execution_count": 80,
      "outputs": []
    },
    {
      "cell_type": "code",
      "source": [
        "!rm -rf out/"
      ],
      "metadata": {
        "id": "4pCdrfpZA9Lk"
      },
      "execution_count": 81,
      "outputs": []
    },
    {
      "cell_type": "code",
      "source": [
        "!trdg -c 1000 -i training_text.txt --font_dir fonts"
      ],
      "metadata": {
        "colab": {
          "base_uri": "https://localhost:8080/"
        },
        "id": "thw5dAwp6ZYz",
        "outputId": "20d08db7-2f84-4b1c-8349-460ea2c69538"
      },
      "execution_count": null,
      "outputs": [
        {
          "output_type": "stream",
          "name": "stdout",
          "text": [
            "2024-06-19 19:40:38.520020: E external/local_xla/xla/stream_executor/cuda/cuda_dnn.cc:9261] Unable to register cuDNN factory: Attempting to register factory for plugin cuDNN when one has already been registered\n",
            "2024-06-19 19:40:38.520083: E external/local_xla/xla/stream_executor/cuda/cuda_fft.cc:607] Unable to register cuFFT factory: Attempting to register factory for plugin cuFFT when one has already been registered\n",
            "2024-06-19 19:40:38.521953: E external/local_xla/xla/stream_executor/cuda/cuda_blas.cc:1515] Unable to register cuBLAS factory: Attempting to register factory for plugin cuBLAS when one has already been registered\n",
            "2024-06-19 19:40:38.532299: I tensorflow/core/platform/cpu_feature_guard.cc:182] This TensorFlow binary is optimized to use available CPU instructions in performance-critical operations.\n",
            "To enable the following instructions: AVX2 FMA, in other operations, rebuild TensorFlow with the appropriate compiler flags.\n",
            "2024-06-19 19:40:39.969070: W tensorflow/compiler/tf2tensorrt/utils/py_utils.cc:38] TF-TRT Warning: Could not find TensorRT\n",
            " 27% 266/1000 [00:10<00:14, 49.10it/s]"
          ]
        }
      ]
    },
    {
      "cell_type": "code",
      "source": [
        "len(\"Críost ġá ḋiúltú cóṁarṫa ó neaṁ a ṫaisḃeáint dos na Fairisíniġ Adṁáil Ṗeadair agus a ṫoraḋ ḋó a imḋeargaḋ mar ġeall ar ċur i n-aġaiḋ páise Ċríost Ní foláir do ċualaċt Ċríost uile iad féin do ṡéanaḋ\")"
      ],
      "metadata": {
        "colab": {
          "base_uri": "https://localhost:8080/"
        },
        "id": "n0UtQN_I9i9b",
        "outputId": "2b50f70c-926f-4cef-9187-1ddfac9a028b"
      },
      "execution_count": 79,
      "outputs": [
        {
          "output_type": "execute_result",
          "data": {
            "text/plain": [
              "197"
            ]
          },
          "metadata": {},
          "execution_count": 79
        }
      ]
    }
  ]
}