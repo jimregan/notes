{
 "cells": [
  {
   "cell_type": "code",
   "execution_count": 1,
   "id": "da5e927a",
   "metadata": {},
   "outputs": [],
   "source": [
    "urls = \"\"\"\n",
    "https://www.youtube.com/watch?v=2wRhuVqvSaM&list=PLbcLsUBW9b3DvFSKW94bXDkVT0rIIbDTk\n",
    "https://www.youtube.com/watch?v=xXHYMK6QXOw&list=PLbcLsUBW9b3ArxQoB-GhdSzGtYhhU-KGT\n",
    "https://www.youtube.com/watch?v=eruwpozulxg&list=PLbcLsUBW9b3CZJpM59kQ76Wxdfm3buABK\n",
    "https://www.youtube.com/watch?v=x_reXmDA5Io&list=PLbcLsUBW9b3ATOk7Kdzxb5KGM1wOFmwby\n",
    "https://www.youtube.com/watch?v=tEooqp6hca4&list=PLbcLsUBW9b3DknBLzIWl0tRC_jYpmYdc5\n",
    "https://www.youtube.com/watch?v=Ro8wbFTbdSE&list=PLbcLsUBW9b3B0D2MrdXYyxT9kgADvHfIJ\n",
    "https://www.youtube.com/watch?v=HCgtEv_cjr8&list=PLbcLsUBW9b3AgMxkiet3mnzspREWj6o54\n",
    "https://www.youtube.com/watch?v=7O04xzY4XRU&list=PLbcLsUBW9b3BWCOmTz3PNNsH2B71h2EeR\n",
    "https://www.youtube.com/watch?v=YGm0qiiY2_s&list=PLbcLsUBW9b3A-N-5701r8dhxstLqBQFKm\n",
    "https://www.youtube.com/watch?v=J6Ek46HChd0&list=PLbcLsUBW9b3CZAzppIH9EidEIIvNdZFsL\n",
    "https://www.youtube.com/playlist?list=PLbcLsUBW9b3B5DD8uXW0rJySgsqAeed1C\n",
    "https://www.youtube.com/playlist?list=PLbcLsUBW9b3DVprPwU4hHT73VdmmY45bc\n",
    "https://www.youtube.com/playlist?list=PLbcLsUBW9b3AcCrGgD04ryY6bnN8h7GSr\n",
    "https://www.youtube.com/playlist?list=PLbcLsUBW9b3COzIi5Rnl0F9yRZVR3tf_1\n",
    "https://www.youtube.com/playlist?list=PLbcLsUBW9b3BHkhYBvNIlQknE-wpBT5vp\n",
    "https://www.youtube.com/playlist?list=PLbcLsUBW9b3AJVck8CCw35QGPYHxPXi-F\n",
    "\"\"\""
   ]
  },
  {
   "cell_type": "code",
   "execution_count": null,
   "id": "231f626e",
   "metadata": {},
   "outputs": [
    {
     "name": "stdout",
     "output_type": "stream",
     "text": [
      "youtube-dl -i -o %(id)s.%(ext)s https://www.youtube.com/watch?v=2wRhuVqvSaM\n",
      "youtube-dl -i -o %(id)s.%(ext)s https://www.youtube.com/watch?v=xXHYMK6QXOw\n",
      "youtube-dl -i -o %(id)s.%(ext)s https://www.youtube.com/watch?v=eruwpozulxg\n",
      "youtube-dl -i -o %(id)s.%(ext)s https://www.youtube.com/watch?v=x_reXmDA5Io\n",
      "youtube-dl -i -o %(id)s.%(ext)s https://www.youtube.com/watch?v=tEooqp6hca4\n",
      "youtube-dl -i -o %(id)s.%(ext)s https://www.youtube.com/watch?v=Ro8wbFTbdSE\n",
      "youtube-dl -i -o %(id)s.%(ext)s https://www.youtube.com/watch?v=HCgtEv_cjr8\n",
      "youtube-dl -i -o %(id)s.%(ext)s https://www.youtube.com/watch?v=7O04xzY4XRU\n",
      "youtube-dl -i -o %(id)s.%(ext)s https://www.youtube.com/watch?v=YGm0qiiY2_s\n",
      "youtube-dl -i -o %(id)s.%(ext)s https://www.youtube.com/watch?v=J6Ek46HChd0\n"
     ]
    }
   ],
   "source": [
    "for url in urls.strip().split('\\n'):\n",
    "    !echo youtube-dl -i -o '%(id)s.%(ext)s' {url}"
   ]
  }
 ],
 "metadata": {
  "kernelspec": {
   "display_name": "Python 3",
   "language": "python",
   "name": "python3"
  },
  "language_info": {
   "codemirror_mode": {
    "name": "ipython",
    "version": 3
   },
   "file_extension": ".py",
   "mimetype": "text/x-python",
   "name": "python",
   "nbconvert_exporter": "python",
   "pygments_lexer": "ipython3",
   "version": "3.8.2"
  }
 },
 "nbformat": 4,
 "nbformat_minor": 5
}
