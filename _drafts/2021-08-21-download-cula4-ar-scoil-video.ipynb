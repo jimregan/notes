{
 "cells": [
  {
   "cell_type": "markdown",
   "id": "5382c6d8",
   "metadata": {},
   "source": []
  },
  {
   "cell_type": "code",
   "execution_count": null,
   "id": "21662e53",
   "metadata": {},
   "outputs": [],
   "source": [
    "urls = \"\"\"\n",
    "https://www.youtube.com/playlist?list=PLbcLsUBW9b3DvFSKW94bXDkVT0rIIbDTk\n",
    "https://www.youtube.com/playlist?list=PLbcLsUBW9b3ArxQoB-GhdSzGtYhhU-KGT\n",
    "https://www.youtube.com/playlist?list=PLbcLsUBW9b3CZJpM59kQ76Wxdfm3buABK\n",
    "https://www.youtube.com/playlist?list=PLbcLsUBW9b3ATOk7Kdzxb5KGM1wOFmwby\n",
    "https://www.youtube.com/playlist?list=PLbcLsUBW9b3DknBLzIWl0tRC_jYpmYdc5\n",
    "https://www.youtube.com/playlist?list=PLbcLsUBW9b3B0D2MrdXYyxT9kgADvHfIJ\n",
    "https://www.youtube.com/playlist?list=PLbcLsUBW9b3AgMxkiet3mnzspREWj6o54\n",
    "https://www.youtube.com/playlist?list=PLbcLsUBW9b3BWCOmTz3PNNsH2B71h2EeR\n",
    "https://www.youtube.com/playlist?list=PLbcLsUBW9b3A-N-5701r8dhxstLqBQFKm\n",
    "https://www.youtube.com/playlist?list=PLbcLsUBW9b3CZAzppIH9EidEIIvNdZFsL\n",
    "https://www.youtube.com/playlist?list=PLbcLsUBW9b3B5DD8uXW0rJySgsqAeed1C\n",
    "https://www.youtube.com/playlist?list=PLbcLsUBW9b3DVprPwU4hHT73VdmmY45bc\n",
    "https://www.youtube.com/playlist?list=PLbcLsUBW9b3AcCrGgD04ryY6bnN8h7GSr\n",
    "https://www.youtube.com/playlist?list=PLbcLsUBW9b3COzIi5Rnl0F9yRZVR3tf_1\n",
    "https://www.youtube.com/playlist?list=PLbcLsUBW9b3BHkhYBvNIlQknE-wpBT5vp\n",
    "https://www.youtube.com/playlist?list=PLbcLsUBW9b3AJVck8CCw35QGPYHxPXi-F\n",
    "\"\"\""
   ]
  },
  {
   "cell_type": "code",
   "execution_count": null,
   "id": "a01acce5",
   "metadata": {},
   "outputs": [],
   "source": [
    "for url in urls.strip().split('\\n'):\n",
    "    !youtube-dl -i -o '%(id)s.%(ext)s' {url}"
   ]
  }
 ],
 "metadata": {
  "kernelspec": {
   "display_name": "Python 3",
   "language": "python",
   "name": "python3"
  },
  "language_info": {
   "codemirror_mode": {
    "name": "ipython",
    "version": 3
   },
   "file_extension": ".py",
   "mimetype": "text/x-python",
   "name": "python",
   "nbconvert_exporter": "python",
   "pygments_lexer": "ipython3",
   "version": "3.8.2"
  }
 },
 "nbformat": 4,
 "nbformat_minor": 5
}
