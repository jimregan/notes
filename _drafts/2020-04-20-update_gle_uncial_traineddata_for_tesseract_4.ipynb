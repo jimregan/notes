{
  "nbformat": 4,
  "nbformat_minor": 0,
  "metadata": {
    "colab": {
      "name": "Update gle_uncial.traineddata for Tesseract 4.ipynb",
      "provenance": []
    },
    "kernelspec": {
      "display_name": "Python 3",
      "name": "python3"
    }
  },
  "cells": [
    {
      "cell_type": "markdown",
      "metadata": {
        "id": "iHUxzWctjFyV"
      },
      "source": [
        "Grab this for later"
      ]
    },
    {
      "cell_type": "code",
      "source": [
        "try:\n",
        "  import google.colab\n",
        "  IN_COLAB = True\n",
        "  WORKDIR = \"/content\"\n",
        "except:\n",
        "  IN_COLAB = False\n",
        "  WORKDIR = \"/home/jim/Playing/tessupd\""
      ],
      "metadata": {
        "id": "mVLwluDPVMR7"
      },
      "execution_count": null,
      "outputs": []
    },
    {
      "cell_type": "code",
      "metadata": {
        "id": "a236_7rmMEFw"
      },
      "source": [
        "if IN_COLAB:\n",
        "  !wget https://github.com/jimregan/tesseract-gle-uncial/releases/download/v0.1beta2/gle_uncial.traineddata"
      ],
      "execution_count": null,
      "outputs": []
    },
    {
      "cell_type": "markdown",
      "metadata": {
        "id": "NQIJlHDIjK6-"
      },
      "source": [
        "Install dependencies"
      ]
    },
    {
      "cell_type": "code",
      "metadata": {
        "id": "4eiDnu7MOk7m"
      },
      "source": [
        "if IN_COLAB:\n",
        "  !apt-get install libicu-dev libpango1.0-dev libcairo2-dev libleptonica-dev"
      ],
      "execution_count": null,
      "outputs": []
    },
    {
      "cell_type": "markdown",
      "metadata": {
        "id": "2aJLdU60jN7F"
      },
      "source": [
        "Clone, compile and set up Tesseract"
      ]
    },
    {
      "cell_type": "code",
      "metadata": {
        "id": "Ay9TBwa2OyS2"
      },
      "source": [
        "if IN_COLAB:\n",
        "  !git clone https://github.com/tesseract-ocr/tesseract"
      ],
      "execution_count": null,
      "outputs": []
    },
    {
      "cell_type": "code",
      "metadata": {
        "id": "wKWjma0dO2o6"
      },
      "source": [
        "import os\n",
        "os.chdir('tesseract')"
      ],
      "execution_count": null,
      "outputs": []
    },
    {
      "cell_type": "code",
      "metadata": {
        "id": "hPw7D97vO6L9"
      },
      "source": [
        "!sh autogen.sh"
      ],
      "execution_count": null,
      "outputs": []
    },
    {
      "cell_type": "code",
      "metadata": {
        "id": "YOvwWqHPPH0e"
      },
      "source": [
        "!./configure --disable-graphics\n"
      ],
      "execution_count": null,
      "outputs": []
    },
    {
      "cell_type": "code",
      "metadata": {
        "id": "yIBy1uMpPbFz"
      },
      "source": [
        "!make -j 8\n",
        "!make install\n",
        "!ldconfig\n",
        "!make training\n",
        "!make training-install"
      ],
      "execution_count": null,
      "outputs": []
    },
    {
      "cell_type": "markdown",
      "metadata": {
        "id": "0LxiYKLWjVjU"
      },
      "source": [
        "Grab some things to scrape the RIA corpus"
      ]
    },
    {
      "cell_type": "code",
      "metadata": {
        "colab": {
          "base_uri": "https://localhost:8080/"
        },
        "id": "jxMzngnITmb0",
        "outputId": "f5206fc4-c5ee-4016-c719-c515db7d84a0"
      },
      "source": [
        "import os\n",
        "os.chdir(WORKDIR)\n",
        "!git clone https://github.com/jimregan/tesseract-gle-uncial/"
      ],
      "execution_count": null,
      "outputs": [
        {
          "output_type": "stream",
          "text": [
            "Cloning into 'tesseract-gle-uncial'...\n",
            "remote: Enumerating objects: 1435, done.\u001b[K\n",
            "remote: Total 1435 (delta 0), reused 0 (delta 0), pack-reused 1435\u001b[K\n",
            "Receiving objects: 100% (1435/1435), 200.26 MiB | 29.17 MiB/s, done.\n",
            "Resolving deltas: 100% (656/656), done.\n",
            "Checking out files: 100% (632/632), done.\n"
          ],
          "name": "stdout"
        }
      ]
    },
    {
      "cell_type": "code",
      "metadata": {
        "id": "tVB4UgGzhMpC"
      },
      "source": [
        "!apt-get install lynx"
      ],
      "execution_count": null,
      "outputs": []
    },
    {
      "cell_type": "markdown",
      "metadata": {
        "id": "B-f-SM11jcZX"
      },
      "source": [
        "Scrape the RIA corpus"
      ]
    },
    {
      "cell_type": "code",
      "metadata": {
        "id": "mjstRngogwZ9"
      },
      "source": [
        "! for i in A B C D E F G H I J K L M N O P Q R S T U V W X Y Z;do lynx -dump \"http://corpas.ria.ie/index.php?fsg_function=1&fsg_page=$i\" |grep http://corpas.ria.ie|awk '{print $NF}' >> list;done"
      ],
      "execution_count": null,
      "outputs": []
    },
    {
      "cell_type": "code",
      "metadata": {
        "id": "kOlwWCHthbf2"
      },
      "source": [
        "!grep 'function=3' list |sort|uniq|grep corpas.ria|sed -e 's/function=3/function=5/' > input"
      ],
      "execution_count": null,
      "outputs": []
    },
    {
      "cell_type": "code",
      "metadata": {
        "id": "y9awrS5UhuQk"
      },
      "source": [
        "!wget -x -c -i input"
      ],
      "execution_count": null,
      "outputs": []
    },
    {
      "cell_type": "code",
      "metadata": {
        "id": "sbhsu7ulh39e"
      },
      "source": [
        "!mkdir text\n",
        "!for i in corpas.ria.ie/*;do id=$(echo $i|awk -F'=' '{print $NF}');cat $i | perl {WORKDIR}/tesseract-gle-uncial/scripts/extract-ria.pl > text/$id.txt;done"
      ],
      "execution_count": null,
      "outputs": []
    },
    {
      "cell_type": "markdown",
      "metadata": {
        "id": "r6pGaPM2peVa"
      },
      "source": [
        "Get the raw corpus in a single text file"
      ]
    },
    {
      "cell_type": "code",
      "metadata": {
        "id": "wfKt8NGjo6dB"
      },
      "source": [
        "!cat text/*.txt|tr -d '\\r'|grep -v '^$' > ria-raw.txt\n"
      ],
      "execution_count": null,
      "outputs": []
    },
    {
      "cell_type": "markdown",
      "metadata": {
        "id": "tYjMsLPvpj_0"
      },
      "source": [
        "Compress the raw text; this can be downloaded through the file browser on the left, so the scraping steps can be skipped in future"
      ]
    },
    {
      "cell_type": "code",
      "metadata": {
        "id": "GibldvZ9psaY"
      },
      "source": [
        "!gzip ria-raw.txt"
      ],
      "execution_count": null,
      "outputs": []
    },
    {
      "cell_type": "markdown",
      "metadata": {
        "id": "b6EcoZpNp6jV"
      },
      "source": [
        "...and can be re-added using the upload feature in the file browser"
      ]
    },
    {
      "cell_type": "code",
      "metadata": {
        "id": "IrNYEOk5qB5t"
      },
      "source": [
        "!gzip -d ria-raw.txt.gz"
      ],
      "execution_count": null,
      "outputs": []
    },
    {
      "cell_type": "markdown",
      "metadata": {
        "id": "NFM4Uo3VqRZV"
      },
      "source": [
        "This next part is so I can update the langdata files"
      ]
    },
    {
      "cell_type": "code",
      "metadata": {
        "colab": {
          "background_save": true
        },
        "id": "3oaQWq5foukg",
        "outputId": "b779f008-f6be-4610-c63f-1f56aff70e58"
      },
      "source": [
        "import os\n",
        "os.chdir(WORKDIR)\n",
        "!git clone https://github.com/tesseract-ocr/langdata"
      ],
      "execution_count": null,
      "outputs": [
        {
          "output_type": "stream",
          "text": [
            "Cloning into 'langdata'...\n",
            "remote: Enumerating objects: 2164, done.\u001b[K\n",
            "remote: Total 2164 (delta 0), reused 0 (delta 0), pack-reused 2164\u001b[K\n",
            "Receiving objects: 100% (2164/2164), 400.15 MiB | 21.02 MiB/s, done.\n",
            "Resolving deltas: 100% (382/382), done.\n",
            "Checking out files: 100% (1022/1022), done.\n"
          ],
          "name": "stdout"
        }
      ]
    },
    {
      "cell_type": "code",
      "metadata": {
        "colab": {
          "background_save": true
        },
        "id": "4sN2ZqGWvy25"
      },
      "source": [
        "!cat ria-raw.txt | perl {WORKDIR}/tesseract-gle-uncial/scripts/toponc.pl > ria-ponc.txt"
      ],
      "execution_count": null,
      "outputs": []
    },
    {
      "cell_type": "code",
      "metadata": {
        "colab": {
          "background_save": true
        },
        "id": "sk5irOI9v_oz"
      },
      "source": [
        "!mkdir genwlout"
      ],
      "execution_count": null,
      "outputs": []
    },
    {
      "cell_type": "code",
      "metadata": {
        "colab": {
          "background_save": true
        },
        "id": "Ba8tk80tsTQb"
      },
      "source": [
        "!perl {WORKDIR}/tesseract-gle-uncial/scripts/genlangdata.pl -i ria-ponc.txt -d genwlout -p gle_uncial"
      ],
      "execution_count": null,
      "outputs": []
    },
    {
      "cell_type": "code",
      "metadata": {
        "colab": {
          "background_save": true
        },
        "id": "KjXJZn8gt1J_",
        "outputId": "cbe40632-a20a-435f-8a95-ed76297e847e"
      },
      "source": [
        "import os\n",
        "os.chdir(f'{WORKDIR}/genwlout')\n",
        "!for i in gle_uncial.word.bigrams gle_uncial.wordlist gle_uncial.numbers gle_uncial.punc; do cat $i.unsorted | awk -F'\\t' '{print $1}' | sort | uniq > $i.sorted;done\n",
        "!for i in gle_uncial.word.bigrams gle_uncial.wordlist gle_uncial.numbers gle_uncial.punc; do cat $i.sorted {WORKDIR}/langdata/gle_uncial/$i | sort | uniq > $i;done"
      ],
      "execution_count": null,
      "outputs": [
        {
          "output_type": "stream",
          "text": [
            "cat: gle_uncial.word.bigrams.sorted: No such file or directory\n",
            "cat: gle_uncial.wordlist.sorted: No such file or directory\n",
            "cat: gle_uncial.numbers.sorted: No such file or directory\n",
            "cat: gle_uncial.punc.sorted: No such file or directory\n"
          ],
          "name": "stdout"
        }
      ]
    },
    {
      "cell_type": "code",
      "metadata": {
        "colab": {
          "background_save": true
        },
        "id": "yFnmk5pnysoc"
      },
      "source": [
        "!for i in gle_uncial.word.bigrams gle_uncial.wordlist gle_uncial.numbers gle_uncial.punc; do cp $i {WORKDIR}/langdata/gle_uncial/;done"
      ],
      "execution_count": null,
      "outputs": []
    },
    {
      "cell_type": "markdown",
      "source": [
        "Grab the fonts"
      ],
      "metadata": {
        "id": "C7JufJtPgE7y"
      }
    },
    {
      "cell_type": "code",
      "metadata": {
        "id": "TSECxvfFiCev"
      },
      "source": [
        "import os\n",
        "os.chdir(WORKDIR)\n",
        "!mkdir fonts\n",
        "os.chdir('fonts')\n",
        "!wget -i /content/tesseract-gle-uncial/fonts.txt"
      ],
      "execution_count": null,
      "outputs": []
    },
    {
      "cell_type": "code",
      "metadata": {
        "id": "VC_DFGpTqyqV"
      },
      "source": [
        "!for i in *.zip; do unzip $i;done"
      ],
      "execution_count": null,
      "outputs": []
    },
    {
      "cell_type": "code",
      "source": [
        "os.chdir(WORKDIR)\n",
        "!mv fonts $HOME/.fonts"
      ],
      "metadata": {
        "id": "qkQOcu4qvn5a"
      },
      "execution_count": null,
      "outputs": []
    },
    {
      "cell_type": "code",
      "source": [
        "!fc-cache -rv"
      ],
      "metadata": {
        "id": "736YjtmOxQwS"
      },
      "execution_count": null,
      "outputs": []
    },
    {
      "cell_type": "markdown",
      "metadata": {
        "id": "M81Z0RiM2v9A"
      },
      "source": [
        "Generate"
      ]
    },
    {
      "cell_type": "code",
      "metadata": {
        "id": "r8GW1jnI2yno"
      },
      "source": [
        "os.chdir(WORKDIR)\n",
        "!mkdir unpack\n",
        "!combine_tessdata -u {WORKDIR}/gle_uncial.traineddata unpack/gle_uncial."
      ],
      "execution_count": null,
      "outputs": []
    },
    {
      "cell_type": "code",
      "metadata": {
        "id": "ArIW_eg9B6JA"
      },
      "source": [
        "os.chdir('unpack')\n",
        "!for i in gle_uncial.word.bigrams gle_uncial.wordlist gle_uncial.numbers gle_uncial.punc; do cp {WORKDIR}/genwlout/$i .;done"
      ],
      "execution_count": null,
      "outputs": []
    },
    {
      "cell_type": "code",
      "metadata": {
        "colab": {
          "base_uri": "https://localhost:8080/"
        },
        "id": "rgCTjJdBCVcm",
        "outputId": "61c75249-d6a2-4072-b12b-7c352c4dedd4"
      },
      "source": [
        "!wordlist2dawg gle_uncial.numbers  gle_uncial.lstm-number-dawg gle_uncial.lstm-unicharset\n",
        "!wordlist2dawg gle_uncial.punc  gle_uncial.lstm-punc-dawg gle_uncial.lstm-unicharset\n",
        "!wordlist2dawg gle_uncial.wordlist  gle_uncial.lstm-word-dawg gle_uncial.lstm-unicharset"
      ],
      "execution_count": null,
      "outputs": [
        {
          "output_type": "stream",
          "text": [
            "Loading unicharset from 'gle_uncial.lstm-unicharset'\n",
            "Reading word list from 'gle_uncial.numbers'\n",
            "Reducing Trie to SquishedDawg\n",
            "Writing squished DAWG to 'gle_uncial.lstm-number-dawg'\n",
            "Loading unicharset from 'gle_uncial.lstm-unicharset'\n",
            "Reading word list from 'gle_uncial.punc'\n",
            "Reducing Trie to SquishedDawg\n",
            "Writing squished DAWG to 'gle_uncial.lstm-punc-dawg'\n",
            "Loading unicharset from 'gle_uncial.lstm-unicharset'\n",
            "Reading word list from 'gle_uncial.wordlist'\n",
            "Reducing Trie to SquishedDawg\n",
            "Writing squished DAWG to 'gle_uncial.lstm-word-dawg'\n"
          ],
          "name": "stdout"
        }
      ]
    },
    {
      "cell_type": "code",
      "metadata": {
        "id": "wXTpu7WyEVmJ"
      },
      "source": [
        "!rm gle_uncial.numbers gle_uncial.word.bigrams gle_uncial.punc gle_uncial.wordlist"
      ],
      "execution_count": null,
      "outputs": []
    },
    {
      "cell_type": "code",
      "metadata": {
        "colab": {
          "base_uri": "https://localhost:8080/"
        },
        "id": "4TGsyBAfEzc7",
        "outputId": "e2760c63-4c88-40f7-f470-cef5fc692768"
      },
      "source": [
        "os.chdir(WORKDIR)\n",
        "!mv gle_uncial.traineddata gle_uncial.traineddata.orig\n",
        "!combine_tessdata unpack/gle_uncial."
      ],
      "execution_count": null,
      "outputs": [
        {
          "output_type": "stream",
          "text": [
            "Combining tessdata files\n",
            "Output unpack/gle_uncial.traineddata created successfully.\n",
            "Version string:4.00.00alpha\n",
            "17:lstm:size=4291340, offset=192\n",
            "18:lstm-punc-dawg:size=890, offset=4291532\n",
            "19:lstm-word-dawg:size=5767506, offset=4292422\n",
            "20:lstm-number-dawg:size=226, offset=10059928\n",
            "21:lstm-unicharset:size=9938, offset=10060154\n",
            "22:lstm-recoder:size=1147, offset=10070092\n",
            "23:version:size=12, offset=10071239\n"
          ],
          "name": "stdout"
        }
      ]
    },
    {
      "cell_type": "markdown",
      "metadata": {
        "id": "ZdrcgsR1KxyY"
      },
      "source": [
        ""
      ]
    },
    {
      "cell_type": "code",
      "metadata": {
        "id": "62p1uKWwMsUC"
      },
      "source": [
        "!text2image --fonts_dir fonts --list_available_fonts"
      ],
      "execution_count": null,
      "outputs": []
    },
    {
      "cell_type": "code",
      "metadata": {
        "id": "Hff0WNbTUnQQ"
      },
      "source": [
        "!cat genwlout/gle_uncial.wordlist.unsorted|awk -F'\\t' '{print $2 \"\\t\" $1'}|sort -nr > freqlist"
      ],
      "execution_count": null,
      "outputs": []
    },
    {
      "cell_type": "code",
      "metadata": {
        "id": "OdHNE5mDVLvf"
      },
      "source": [
        "!cat freqlist|awk -F'\\t' '{print $2}'|grep -v '^$' > wordlist"
      ],
      "execution_count": null,
      "outputs": []
    },
    {
      "cell_type": "code",
      "metadata": {
        "id": "oFkOliGOVTzt"
      },
      "source": [
        "!cat ria-ponc.txt|sort|uniq|head -n 400000 > gle_uncial.training_text"
      ],
      "execution_count": null,
      "outputs": []
    },
    {
      "cell_type": "code",
      "metadata": {
        "id": "YztuEZRnXFbA"
      },
      "source": [
        "!mkdir datadir\n",
        "!cp unpack/gle_uncial.traineddata datadir/tessdata"
      ],
      "execution_count": null,
      "outputs": []
    },
    {
      "cell_type": "code",
      "metadata": {
        "id": "yfbMAyDTWoe_"
      },
      "source": [
        "!echo 'jK}' >> gle_uncial.training_text\n",
        "!cp gle_uncial.training_text langdata/gle_uncial/"
      ],
      "execution_count": null,
      "outputs": []
    },
    {
      "cell_type": "code",
      "metadata": {
        "id": "wMJZlczSXOYk"
      },
      "source": [
        "!mkdir output"
      ],
      "execution_count": null,
      "outputs": []
    },
    {
      "cell_type": "code",
      "metadata": {
        "id": "-WrB6FFX7UzN"
      },
      "source": [
        "!wget https://github.com/tesseract-ocr/tessdata/raw/main/eng.traineddata -O datadir/eng.traineddata"
      ],
      "execution_count": null,
      "outputs": []
    },
    {
      "cell_type": "code",
      "source": [
        "!wget https://raw.githubusercontent.com/tesseract-ocr/tesseract/4.1/src/training/tesstrain.sh\n",
        "!wget https://raw.githubusercontent.com/tesseract-ocr/tesseract/4.1/src/training/tesstrain_utils.sh\n",
        "!wget https://raw.githubusercontent.com/tesseract-ocr/tesseract/4.1/src/training/language-specific.sh"
      ],
      "metadata": {
        "id": "z9wagsPHtDGl"
      },
      "execution_count": null,
      "outputs": []
    },
    {
      "cell_type": "code",
      "metadata": {
        "id": "LqWdROBKWCrW"
      },
      "source": [
        "!bash tesstrain.sh --fonts_dir $HOME/.fonts --lang gle_uncial --linedata_only --noextract_font_properties --langdata_dir langdata --tessdata_dir datadir --output_dir output"
      ],
      "execution_count": null,
      "outputs": []
    },
    {
      "cell_type": "code",
      "metadata": {
        "id": "mLGoNeBb79E8"
      },
      "source": [
        "!mkdir -p /usr/share/tesseract-ocr/4.00/tessdata"
      ],
      "execution_count": null,
      "outputs": []
    }
  ]
}