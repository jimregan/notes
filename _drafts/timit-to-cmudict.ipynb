{
 "cells": [
  {
   "cell_type": "code",
   "execution_count": null,
   "metadata": {},
   "outputs": [],
   "source": [
    "ignore = [\"gcl\", \"dcl\", \"tcl\", \"kcl\", \"pcl\", \"bcl\"]\n",
    "replace = {\n",
    "    \"el\": \"\", \n",
    "    \"em\": \"\",\n",
    "    \"en\": \"\",\n",
    "    \"eng\": \"\",\n",
    "    \"ix\": \"ih\",\n",
    "    \"\": \"\",\n",
    "    }"
   ]
  }
 ],
 "metadata": {
  "language_info": {
   "name": "python"
  },
  "orig_nbformat": 4
 },
 "nbformat": 4,
 "nbformat_minor": 2
}
