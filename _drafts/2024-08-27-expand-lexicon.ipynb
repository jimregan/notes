{
 "cells": [
  {
   "cell_type": "code",
   "execution_count": null,
   "metadata": {},
   "outputs": [],
   "source": [
    "dictfile = \"/Users/joregan/Documents/MFA/pretrained_models/dictionary/hsi_english_us_arpa.dict\""
   ]
  },
  {
   "cell_type": "code",
   "execution_count": 4,
   "metadata": {},
   "outputs": [],
   "source": [
    "EXP = {\n",
    "    \"JH\": \"Y\",\n",
    "    \"W\": \"V\",\n",
    "    \"V\": \"B\",\n",
    "    \"B\": \"V\"\n",
    "}\n",
    "\n",
    "TRAP_BATH = [\"S\", \"F\", \"TH\", \"N\", \"V\", \"Z\", \"SH\", \"M\", \"L\", \"DH\"]\n",
    "\n",
    "def expand_inner(text):\n",
    "    phones = text.split(\" \")\n",
    "    outphones = []\n",
    "    if len(phones) >= 2 and phones[0] == \"S\" and phones[1] in [\"T\", \"P\", \"M\"]:\n",
    "        outphones.append([\"EH0\", \"\"])\n",
    "    i = 0\n",
    "    next_opt = False\n",
    "    for i in range(len(phones)):\n",
    "        cur = [phones[i]]\n",
    "        if next_opt:\n",
    "            cur.append(\"\")\n",
    "            next_opt = False\n",
    "        if phones[i] in EXP:\n",
    "            cur.append(EXP[phones[i]])\n",
    "        if i < len(phones) - 1 and phones[i] in [\"S\", \"N\"] and phones[i+1] == \"T\":\n",
    "            next_opt = True\n",
    "        if i < len(phones) - 1 and phones[i].startswith(\"AE\") and phones[i+1] in TRAP_BATH:\n",
    "            cur.append(\"AA\" + phones[i][-1])\n",
    "        if i < len(phones) - 1 and phones[i].startswith(\"AA\") and phones[i+1] == \"R\":\n",
    "            cur.append(\"AE\" + phones[i][-1])\n",
    "\n",
    "        outphones.append(cur)\n",
    "    return outphones            \n"
   ]
  },
  {
   "cell_type": "code",
   "execution_count": 10,
   "metadata": {},
   "outputs": [],
   "source": [
    "import itertools\n",
    "\n",
    "def expand(text):\n",
    "    return [list(x) for x in expand_inner(text)]\n"
   ]
  },
  {
   "cell_type": "code",
   "execution_count": null,
   "metadata": {},
   "outputs": [],
   "source": [
    "entries = {}\n",
    "with open(dictfile) as df:\n",
    "    for line in df.readlines():\n",
    "        parts = line.split(\"\\t\")\n",
    "        if not parts[0] in entries:\n",
    "            entries[parts[0]] = {}\n",
    "            if not parts[-1] in entries[parts[0]]:\n",
    "                entries[parts[0]][parts[-1]] = {}\n",
    "                # if len(parts) != 2:\n",
    "                #     entries[parts[0]][parts[-1]] = \"\\t\".join(parts[1:-1])\n",
    "                \n",
    "        \n"
   ]
  },
  {
   "cell_type": "code",
   "execution_count": 1,
   "metadata": {},
   "outputs": [
    {
     "data": {
      "text/plain": [
       "['2', '3']"
      ]
     },
     "execution_count": 1,
     "metadata": {},
     "output_type": "execute_result"
    }
   ],
   "source": [
    "test = \"1\\t2\\t3\\t4\"\n",
    "parts = test.split(\"\\t\")\n",
    "parts[1:-1]"
   ]
  }
 ],
 "metadata": {
  "kernelspec": {
   "display_name": "hf",
   "language": "python",
   "name": "python3"
  },
  "language_info": {
   "codemirror_mode": {
    "name": "ipython",
    "version": 3
   },
   "file_extension": ".py",
   "mimetype": "text/x-python",
   "name": "python",
   "nbconvert_exporter": "python",
   "pygments_lexer": "ipython3",
   "version": "3.9.15"
  }
 },
 "nbformat": 4,
 "nbformat_minor": 2
}
