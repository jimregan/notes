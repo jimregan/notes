{
 "cells": [
  {
   "cell_type": "code",
   "execution_count": null,
   "metadata": {},
   "outputs": [],
   "source": [
    "# use a less capable ASR model over n-grams from (Whisper, whatever)\n",
    "# maybe phoneme model too?\n",
    "# also, there was a(n advertised as) better phoneme model, maybe find that\n",
    "# also, check which labels are missing in my TIMIT model and run it again"
   ]
  }
 ],
 "metadata": {
  "language_info": {
   "name": "python"
  }
 },
 "nbformat": 4,
 "nbformat_minor": 2
}
