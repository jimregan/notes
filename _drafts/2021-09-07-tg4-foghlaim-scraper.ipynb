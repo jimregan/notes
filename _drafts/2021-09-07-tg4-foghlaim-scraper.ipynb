{
  "nbformat": 4,
  "nbformat_minor": 0,
  "metadata": {
    "colab": {
      "name": "2021-09-07-tg4-foghlaim-scraper.ipynb",
      "provenance": []
    },
    "kernelspec": {
      "name": "python3",
      "display_name": "Python 3"
    },
    "language_info": {
      "name": "python"
    }
  },
  "cells": [
    {
      "cell_type": "code",
      "metadata": {
        "id": "V7QQ6woKnogJ"
      },
      "source": [
        "import requests\n",
        "from bs4 import BeautifulSoup"
      ],
      "execution_count": 1,
      "outputs": []
    },
    {
      "cell_type": "code",
      "metadata": {
        "id": "wd1M031gnkS2"
      },
      "source": [
        "landing = \"https://www.tg4.ie/ga/brandai-eile/foghlaim/ceachtanna/\""
      ],
      "execution_count": 2,
      "outputs": []
    },
    {
      "cell_type": "code",
      "metadata": {
        "id": "qveoFCT8n58D"
      },
      "source": [
        "landing_page = requests.get(landing)\n",
        "assert landing_page.status_code == 200"
      ],
      "execution_count": 4,
      "outputs": []
    },
    {
      "cell_type": "code",
      "metadata": {
        "id": "3GdZMLydoNow"
      },
      "source": [
        "soup = BeautifulSoup(landing_page.text, \"lxml\")"
      ],
      "execution_count": 13,
      "outputs": []
    },
    {
      "cell_type": "code",
      "metadata": {
        "id": "uhByskilobjl"
      },
      "source": [
        "lessons = []\n",
        "for lesson_item in soup.find_all(\"a\", {\"class\": \"prog-panel\"}):\n",
        "    lessons.append(lesson_item.get(\"href\"))"
      ],
      "execution_count": 17,
      "outputs": []
    },
    {
      "cell_type": "code",
      "metadata": {
        "id": "55mfed1wpo0R"
      },
      "source": [
        "def _reamhobair_text(url):\n",
        "    out = []\n",
        "    page = requests.get(url)\n",
        "    assert page.status_code == 200\n",
        "    soup = BeautifulSoup(page.text, \"lxml\")\n",
        "    for part in soup.find(\"div\", {\"class\": \"arconix-toggle-content\"}):\n",
        "        #out.append(part.text)\n",
        "        print(part)\n",
        "    return out"
      ],
      "execution_count": 21,
      "outputs": []
    },
    {
      "cell_type": "code",
      "metadata": {
        "colab": {
          "base_uri": "https://localhost:8080/"
        },
        "id": "AHFlQcc6sAlu",
        "outputId": "9d50993e-1726-46df-d943-8854af095c62"
      },
      "source": [
        "_reamhobair_text(\"https://www.tg4.ie/ga/brandai-eile/foghlaim/ceachtanna/an-scoil/reamhobair/\")"
      ],
      "execution_count": 22,
      "outputs": [
        {
          "output_type": "stream",
          "name": "stdout",
          "text": [
            "\n",
            "\n",
            "<strong>Inis do do ph</strong>\n",
            "<strong>áirtí </strong>\n",
            "<strong>ranga faoi do ch</strong>\n",
            "<strong>é</strong>\n",
            "<strong>ad l</strong>\n",
            "<strong>á ar scoil.</strong>\n",
            "\n",
            "\n",
            "<ul>\n",
            "<li>An cuimhin leat do chéad lá ar scoil?</li>\n",
            "<li>An ndeachaigh duine ar bith leat?</li>\n",
            "<li>Ar thaitin sé leat nuair a thosaigh tú ar scoil?</li>\n",
            "</ul>\n",
            "\n",
            "\n"
          ]
        },
        {
          "output_type": "execute_result",
          "data": {
            "text/plain": [
              "[]"
            ]
          },
          "metadata": {},
          "execution_count": 22
        }
      ]
    },
    {
      "cell_type": "code",
      "metadata": {
        "colab": {
          "base_uri": "https://localhost:8080/"
        },
        "id": "AaJHA8_zu8GR",
        "outputId": "e01756b6-cbec-4be9-c9ca-1f23b6317e7d"
      },
      "source": [
        "def _reamhobair_questions(url):\n",
        "    import json\n",
        "    out = []\n",
        "    page = requests.get(url)\n",
        "    assert page.status_code == 200\n",
        "    soup = BeautifulSoup(page.text, \"lxml\")\n",
        "    for script_tag in soup.find_all(\"script\"):\n",
        "        if script_tag.text.startswith(\"H5PIntegration=\"):\n",
        "            if script_tag.text.endswith(\";\"):\n",
        "                json_inner = json.loads(script_tag.text[15:-1])\n",
        "            else:\n",
        "                json_inner = json.loads(script_tag.text[15:])\n",
        "            if \"contents\" in json_inner:\n",
        "                for k in json_inner[\"contents\"].keys():\n",
        "                    if \"library\" in json_inner[\"contents\"][k].keys():\n",
        "                        if \"jsonContent\" in json_inner[\"contents\"][k].keys():\n",
        "#                            if json_inner[\"contents\"][k][\"library\"].startswith(\"H5P.Blanks\"):\n",
        "                            jsc = json_inner[\"contents\"][k][\"jsonContent\"]\n",
        "                            if type(jsc) == str and \"questions\" in jsc:\n",
        "                                jsc_l = json.loads(jsc)\n",
        "                                #return json_inner[\"contents\"][k][\"library\"], jsc_l[\"questions\"]\n",
        "                                out.append((k, json_inner[\"contents\"][k][\"library\"], jsc_l[\"questions\"]))\n",
        "#                            elif json_inner[\"contents\"][k][\"library\"].startswith(\"H5P.QuestionSet\"):\n",
        "\n",
        "        else:\n",
        "            continue\n",
        "    return out\n",
        "\n",
        "_reamhobair_questions(\"https://www.tg4.ie/ga/brandai-eile/foghlaim/ceachtanna/an-scoil/reamhobair/\")"
      ],
      "execution_count": 109,
      "outputs": [
        {
          "output_type": "execute_result",
          "data": {
            "text/plain": [
              "[('cid-159',\n",
              "  'H5P.Blanks 1.7',\n",
              "  ['<p>Caithim a lán ama sa *halla staidéir* anois - tá sé níos éasca obair a dhéanamh ann.</p>\\n',\n",
              "   '<p>Táim ag freastal ar *scoil chuimsitheach* anois, ach bhí mé ag freastal ar bhunscoil aonghnéis roimh seo, rud nár thaitin chomh mór sin liom.</p>\\n',\n",
              "   '<p>Tá *foireann díospóireachta na scoile* ar cheann de na foirne is fearr sa tír - is breá liom páirt a ghlacadh i ndíospóireachtaí i mBéarla agus i nGaeilge.</p>\\n',\n",
              "   '<p>Tá go leor brú ar dhaltaí *pointí arda* a bhaint amach san Ardteist.</p>\\n',\n",
              "   '<p>Is é an mata *an t-ábhar is fearr liom*, ach is fuath liom an Béarla.</p>\\n',\n",
              "   '<p>Tá *múinteoirí den scoth* sa scoil seo agus réitíonn muid ar fad go maith le chéile.</p>\\n',\n",
              "   '<p>D’éirigh le *foireann peile na scoile* an cluiche ceannais a bhaint amach anuraidh agus bhí an scoil ar fad i láthair don chluiche, cé nár éirigh leo an corn a thabhairt abhaile.</p>\\n',\n",
              "   '<p>Tá scoil nua againn anseo ó bhí 2014 ann agus tá *go leor seomraí ranga ann*, chomh maith le h*áiseanna maithe spóirt* do na foirne éagsúla atá ag an scoil.</p>\\n',\n",
              "   '<p>Tugann na múinteoirí *an iomarca obair bhaile* dúinn sa scoil seo - bíonn *ualach trom oibre* orainn ó thús deireadh na bliana.</p>\\n'])]"
            ]
          },
          "metadata": {},
          "execution_count": 109
        }
      ]
    },
    {
      "cell_type": "code",
      "metadata": {
        "colab": {
          "base_uri": "https://localhost:8080/"
        },
        "id": "FY_BAnIOJR7h",
        "outputId": "10eeb36b-26c2-471c-de83-57e3e65c5cb5"
      },
      "source": [
        "_reamhobair_questions(\"https://www.tg4.ie/ga/brandai-eile/foghlaim/ceachtanna/ras-na-bpointi/mir-a-haon/\")"
      ],
      "execution_count": 110,
      "outputs": [
        {
          "output_type": "execute_result",
          "data": {
            "text/plain": [
              "[('cid-160',\n",
              "  'H5P.QuestionSet 1.10',\n",
              "  [{'library': 'H5P.MultiChoice 1.8',\n",
              "    'params': {'UI': {'almostText': 'Beagnach ann!',\n",
              "      'checkAnswerButton': 'Seiceáil',\n",
              "      'correctAnswer': 'Freagra ceart',\n",
              "      'correctText': 'Ceart!',\n",
              "      'feedback': 'Fuair tú @score as @total',\n",
              "      'feedbackAvailable': 'Aischothú',\n",
              "      'noInput': 'Tá ar a laghad freagra amháin ag teastáil',\n",
              "      'readFeedback': 'Léigh an t-aischothú',\n",
              "      'scoreBarLabel': 'Scór',\n",
              "      'shouldCheck': 'Le seiceáil',\n",
              "      'shouldNotCheck': 'Gan seiceáil',\n",
              "      'showSolutionButton': 'Taispeáin an freagra',\n",
              "      'tipAvailable': 'Leid',\n",
              "      'tipsLabel': 'Taispeáin leid',\n",
              "      'tryAgainButton': 'Arís',\n",
              "      'wrongAnswer': 'Freagra mícheart',\n",
              "      'wrongText': 'Mícheart'},\n",
              "     'answers': [{'correct': True,\n",
              "       'text': 'Mar gheall go gcaithfidh tú céim a bheith agat le post maith a fháil',\n",
              "       'tipsAndFeedback': {'chosenFeedback': '',\n",
              "        'notChosenFeedback': '',\n",
              "        'tip': ''}},\n",
              "      {'correct': True,\n",
              "       'text': 'Níl meas ar bith ar obair láimhe níos mó',\n",
              "       'tipsAndFeedback': {'chosenFeedback': '',\n",
              "        'notChosenFeedback': '',\n",
              "        'tip': ''}},\n",
              "      {'correct': False,\n",
              "       'text': 'Mar bíonn an iomarca ábhar ag daltaí ag leibhéal na hArdteistiméireachta',\n",
              "       'tipsAndFeedback': {'chosenFeedback': '',\n",
              "        'notChosenFeedback': '',\n",
              "        'tip': ''}}],\n",
              "     'behaviour': {'autoCheck': False,\n",
              "      'confirmCheckDialog': False,\n",
              "      'confirmRetryDialog': False,\n",
              "      'disableImageZooming': False,\n",
              "      'enableRetry': True,\n",
              "      'enableSolutionsButton': True,\n",
              "      'randomAnswers': True,\n",
              "      'showSolutionsRequiresInput': True,\n",
              "      'singlePoint': False,\n",
              "      'type': 'auto'},\n",
              "     'confirmCheck': {'body': 'An bhfuil tú ag iarraidh críochnú?',\n",
              "      'cancelLabel': 'Cuir ar ceal',\n",
              "      'confirmLabel': 'Críochnaigh',\n",
              "      'header': 'Críochnaigh?'},\n",
              "     'confirmRetry': {'body': 'An bhfuil tú cinnte?',\n",
              "      'cancelLabel': 'Cuir ar ceal',\n",
              "      'confirmLabel': 'Dearbhaigh',\n",
              "      'header': 'Arís?'},\n",
              "     'question': 'Cén fáth a bhfuil go leor brú acadúil ar dhéagóirí, dar leis na daltaí? (Níos mó ná freagra amháin.)'},\n",
              "    'subContentId': 'e0ea2118-0348-4d67-b833-79cacd7c65b5'},\n",
              "   {'library': 'H5P.MultiChoice 1.8',\n",
              "    'params': {'UI': {'almostText': 'Beagnach ann!',\n",
              "      'checkAnswerButton': 'Seiceáil',\n",
              "      'correctAnswer': 'Freagra ceart',\n",
              "      'correctText': 'Ceart!',\n",
              "      'feedback': 'Fuair tú @score as @total',\n",
              "      'feedbackAvailable': 'Aischothú',\n",
              "      'noInput': 'Tá ar a laghad freagra amháin ag teastáil',\n",
              "      'readFeedback': 'Léigh an t-aischothú',\n",
              "      'scoreBarLabel': 'Scór',\n",
              "      'shouldCheck': 'Le seiceáil',\n",
              "      'shouldNotCheck': 'Gan seiceáil',\n",
              "      'showSolutionButton': 'Taispeáin an freagra',\n",
              "      'tipAvailable': 'Leid',\n",
              "      'tipsLabel': 'Taispeáin leid',\n",
              "      'tryAgainButton': 'Arís',\n",
              "      'wrongAnswer': 'Freagra mícheart',\n",
              "      'wrongText': 'Mícheart'},\n",
              "     'answers': [{'correct': False,\n",
              "       'text': 'Mar bhí an córas céanna ann riamh',\n",
              "       'tipsAndFeedback': {'chosenFeedback': '',\n",
              "        'notChosenFeedback': '',\n",
              "        'tip': ''}},\n",
              "      {'correct': False,\n",
              "       'text': 'Mar déanann gach duine an scrúdú céanna',\n",
              "       'tipsAndFeedback': {'chosenFeedback': '',\n",
              "        'notChosenFeedback': '',\n",
              "        'tip': ''}},\n",
              "      {'correct': True,\n",
              "       'text': 'Mar tá nasc láidir idir obair chrua agus cúrsa a bhaint amach',\n",
              "       'tipsAndFeedback': {'chosenFeedback': '',\n",
              "        'notChosenFeedback': '',\n",
              "        'tip': ''}}],\n",
              "     'behaviour': {'autoCheck': False,\n",
              "      'confirmCheckDialog': False,\n",
              "      'confirmRetryDialog': False,\n",
              "      'disableImageZooming': False,\n",
              "      'enableRetry': True,\n",
              "      'enableSolutionsButton': True,\n",
              "      'randomAnswers': True,\n",
              "      'showSolutionsRequiresInput': True,\n",
              "      'singlePoint': False,\n",
              "      'type': 'auto'},\n",
              "     'confirmCheck': {'body': 'An bhfuil tú ag iarraidh críochnú?',\n",
              "      'cancelLabel': 'Cuir ar ceal',\n",
              "      'confirmLabel': 'Críochnaigh',\n",
              "      'header': 'Críochnaigh?'},\n",
              "     'confirmRetry': {'body': 'An bhfuil tú cinnte?',\n",
              "      'cancelLabel': 'Cuir ar ceal',\n",
              "      'confirmLabel': 'Dearbhaigh',\n",
              "      'header': 'Arís?'},\n",
              "     'question': 'Cén fáth a bhfuil an córas cothrom, dar le Cillian?'},\n",
              "    'subContentId': '841ae05c-8d82-4283-84cc-68d7254e4792'},\n",
              "   {'library': 'H5P.MultiChoice 1.8',\n",
              "    'params': {'UI': {'almostText': 'Beagnach ann!',\n",
              "      'checkAnswerButton': 'Seiceáil',\n",
              "      'correctAnswer': 'Freagra ceart',\n",
              "      'correctText': 'Ceart!',\n",
              "      'feedback': 'Fuair tú @score as @total',\n",
              "      'feedbackAvailable': 'Aischothú',\n",
              "      'noInput': 'Tá ar a laghad freagra amháin ag teastáil',\n",
              "      'readFeedback': 'Léigh an t-aischothú',\n",
              "      'scoreBarLabel': 'Scór',\n",
              "      'shouldCheck': 'Le seiceáil',\n",
              "      'shouldNotCheck': 'Gan seiceáil',\n",
              "      'showSolutionButton': 'Taispeáin an freagra',\n",
              "      'tipAvailable': 'Leid',\n",
              "      'tipsLabel': 'Taispeáin leid',\n",
              "      'tryAgainButton': 'Arís',\n",
              "      'wrongAnswer': 'Freagra mícheart',\n",
              "      'wrongText': 'Mícheart'},\n",
              "     'answers': [{'correct': True,\n",
              "       'text': 'Tá sé bunaithe ar phointí, seachas ar oiriúnacht an duine don chúrsa/phost',\n",
              "       'tipsAndFeedback': {'chosenFeedback': '',\n",
              "        'notChosenFeedback': '',\n",
              "        'tip': ''}},\n",
              "      {'correct': False,\n",
              "       'text': 'Tá pointí arda ag teastáil le haghaidh gach cúrsa',\n",
              "       'tipsAndFeedback': {'chosenFeedback': '',\n",
              "        'notChosenFeedback': '',\n",
              "        'tip': ''}},\n",
              "      {'correct': False,\n",
              "       'text': 'Tá an córas bunaithe ar phrionsabail sheanfhaiseanta',\n",
              "       'tipsAndFeedback': {'chosenFeedback': '',\n",
              "        'notChosenFeedback': '',\n",
              "        'tip': ''}}],\n",
              "     'behaviour': {'autoCheck': False,\n",
              "      'confirmCheckDialog': False,\n",
              "      'confirmRetryDialog': False,\n",
              "      'disableImageZooming': False,\n",
              "      'enableRetry': True,\n",
              "      'enableSolutionsButton': True,\n",
              "      'randomAnswers': True,\n",
              "      'showSolutionsRequiresInput': True,\n",
              "      'singlePoint': False,\n",
              "      'type': 'auto'},\n",
              "     'confirmCheck': {'body': 'An bhfuil tú ag iarraidh críochnú?',\n",
              "      'cancelLabel': 'Cuir ar ceal',\n",
              "      'confirmLabel': 'Críochnaigh',\n",
              "      'header': 'Críochnaigh?'},\n",
              "     'confirmRetry': {'body': 'An bhfuil tú cinnte?',\n",
              "      'cancelLabel': 'Cuir ar ceal',\n",
              "      'confirmLabel': 'Dearbhaigh',\n",
              "      'header': 'Arís?'},\n",
              "     'question': 'Cén locht atá ag Sarah, an cainteoir deiridh, ar an gcóras?'},\n",
              "    'subContentId': 'a30f49c0-f30d-45dc-af68-b1c1f65718c4'}]),\n",
              " ('cid-161',\n",
              "  'H5P.Blanks 1.7',\n",
              "  ['<p>brú (millteanach): *millteanach*</p>\\n\\n<p>fadhb (mór): *mhór*</p>\\n\\n<p>scoil (cuimsitheach): *chuimsitheach*</p>\\n\\n<p>bliain (fada): *fhada*</p>\\n\\n<p>scrúdú (ginearálta): *ginearálta*</p>\\n\\n<p>cur chuige (mí-oiriúnach): *mí-oiriúnach*</p>\\n\\n<p>duine (cúthaileach): *cúthaileach*</p>\\n\\n<p>forbairt (pearsanta): *phearsanta*</p>\\n\\n<p>córas (lochtach): *lochtach*</p>\\n\\n<p>deiseanna (iontach): *iontacha*</p>\\n\\n<p>ciorruithe (mór): *móra*</p>\\n\\n<p>ranganna (leadránach): *leadránacha*</p>\\n\\n<p>áiseanna (maith): *maithe*</p>\\n\\n<p>múinteoirí (tuisceanach): *tuisceanacha*</p>\\n\\n<p>fadhbanna (uafásach): *uafásacha*</p>\\n\\n<p>leabhair (daor): *dhaora*</p>\\n\\n<p>daoine (óg): *óga*</p>\\n\\n<p>ábhair (crua): *chrua*</p>\\n'])]"
            ]
          },
          "metadata": {},
          "execution_count": 110
        }
      ]
    },
    {
      "cell_type": "code",
      "metadata": {
        "colab": {
          "base_uri": "https://localhost:8080/"
        },
        "id": "_WQ80ou4v0dg",
        "outputId": "45725375-87b6-4637-ddd9-0209ee613b20"
      },
      "source": [
        ""
      ],
      "execution_count": 73,
      "outputs": [
        {
          "output_type": "execute_result",
          "data": {
            "text/plain": [
              "<function __main__._reamhobair_questions>"
            ]
          },
          "metadata": {},
          "execution_count": 73
        }
      ]
    }
  ]
}