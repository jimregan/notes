{
  "nbformat": 4,
  "nbformat_minor": 0,
  "metadata": {
    "colab": {
      "name": "2021-09-07-tg4-foghlaim-scraper.ipynb",
      "provenance": []
    },
    "kernelspec": {
      "name": "python3",
      "display_name": "Python 3"
    },
    "language_info": {
      "name": "python"
    }
  },
  "cells": [
    {
      "cell_type": "code",
      "metadata": {
        "id": "V7QQ6woKnogJ"
      },
      "source": [
        "import requests\n",
        "from bs4 import BeautifulSoup"
      ],
      "execution_count": null,
      "outputs": []
    },
    {
      "cell_type": "code",
      "metadata": {
        "id": "wd1M031gnkS2"
      },
      "source": [
        "landing = \"https://www.tg4.ie/ga/brandai-eile/foghlaim/ceachtanna/\""
      ],
      "execution_count": null,
      "outputs": []
    },
    {
      "cell_type": "code",
      "metadata": {
        "id": "qveoFCT8n58D"
      },
      "source": [
        "landing_page = requests.get(landing)\n",
        "assert landing_page.status_code == 200"
      ],
      "execution_count": null,
      "outputs": []
    },
    {
      "cell_type": "code",
      "metadata": {
        "id": "3GdZMLydoNow"
      },
      "source": [
        "soup = BeautifulSoup(landing_page.text, \"lxml\")"
      ],
      "execution_count": null,
      "outputs": []
    },
    {
      "cell_type": "code",
      "metadata": {
        "id": "uhByskilobjl"
      },
      "source": [
        "lessons = []\n",
        "for lesson_item in soup.find_all(\"a\", {\"class\": \"prog-panel\"}):\n",
        "    lessons.append(lesson_item.get(\"href\"))"
      ],
      "execution_count": null,
      "outputs": []
    },
    {
      "cell_type": "code",
      "metadata": {
        "id": "55mfed1wpo0R"
      },
      "source": [
        "def _reamhobair_text(url):\n",
        "    out = []\n",
        "    page = requests.get(url)\n",
        "    assert page.status_code == 200\n",
        "    soup = BeautifulSoup(page.text, \"lxml\")\n",
        "    for part in soup.find(\"div\", {\"class\": \"arconix-toggle-content\"}):\n",
        "        #out.append(part.text)\n",
        "        print(part)\n",
        "    return out"
      ],
      "execution_count": null,
      "outputs": []
    },
    {
      "cell_type": "code",
      "metadata": {
        "id": "AHFlQcc6sAlu"
      },
      "source": [
        "_reamhobair_text(\"https://www.tg4.ie/ga/brandai-eile/foghlaim/ceachtanna/an-scoil/reamhobair/\")"
      ],
      "execution_count": null,
      "outputs": []
    },
    {
      "cell_type": "code",
      "metadata": {
        "id": "AaJHA8_zu8GR"
      },
      "source": [
        "def _reamhobair_questions(url):\n",
        "    import json\n",
        "    out = []\n",
        "    page = requests.get(url)\n",
        "    assert page.status_code == 200\n",
        "    soup = BeautifulSoup(page.text, \"lxml\")\n",
        "    for script_tag in soup.find_all(\"script\"):\n",
        "        if script_tag.text.startswith(\"H5PIntegration=\"):\n",
        "            if script_tag.text.endswith(\";\"):\n",
        "                json_inner = json.loads(script_tag.text[15:-1])\n",
        "            else:\n",
        "                json_inner = json.loads(script_tag.text[15:])\n",
        "            if \"contents\" in json_inner:\n",
        "                for k in json_inner[\"contents\"].keys():\n",
        "                    if \"library\" in json_inner[\"contents\"][k].keys():\n",
        "                        if \"jsonContent\" in json_inner[\"contents\"][k].keys():\n",
        "                            jsc = json_inner[\"contents\"][k][\"jsonContent\"]\n",
        "                            if type(jsc) == str and \"questions\" in jsc:\n",
        "                                jsc_l = json.loads(jsc)\n",
        "                                out.append((k, json_inner[\"contents\"][k][\"library\"], jsc_l[\"questions\"]))\n",
        "        else:\n",
        "            continue\n",
        "    return out\n",
        "\n",
        "_reamhobair_questions(\"https://www.tg4.ie/ga/brandai-eile/foghlaim/ceachtanna/an-scoil/reamhobair/\")"
      ],
      "execution_count": null,
      "outputs": []
    },
    {
      "cell_type": "code",
      "metadata": {
        "id": "FY_BAnIOJR7h"
      },
      "source": [
        "_reamhobair_questions(\"https://www.tg4.ie/ga/brandai-eile/foghlaim/ceachtanna/ras-na-bpointi/mir-a-haon/\")"
      ],
      "execution_count": null,
      "outputs": []
    }
  ]
}