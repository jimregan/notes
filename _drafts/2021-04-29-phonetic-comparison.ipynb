{
  "nbformat": 4,
  "nbformat_minor": 5,
  "metadata": {
    "kernelspec": {
      "display_name": "Python 3",
      "language": "python",
      "name": "python3"
    },
    "language_info": {
      "codemirror_mode": {
        "name": "ipython",
        "version": 3
      },
      "file_extension": ".py",
      "mimetype": "text/x-python",
      "name": "python",
      "nbconvert_exporter": "python",
      "pygments_lexer": "ipython3",
      "version": "3.8.2"
    },
    "colab": {
      "name": "2021-04-29-phonetic-comparison.ipynb",
      "provenance": []
    }
  },
  "cells": [
    {
      "cell_type": "code",
      "metadata": {
        "id": "5b63fd98"
      },
      "source": [
        "from difflib import SequenceMatcher\n",
        "import icu"
      ],
      "id": "5b63fd98",
      "execution_count": null,
      "outputs": []
    },
    {
      "cell_type": "code",
      "metadata": {
        "id": "48e4002e"
      },
      "source": [
        "plipa = icu.Transliterator.createInstance('pl-pl_FONIPA')"
      ],
      "id": "48e4002e",
      "execution_count": null,
      "outputs": []
    },
    {
      "cell_type": "markdown",
      "metadata": {
        "id": "e328c04c"
      },
      "source": [
        "The errors in E2E models are quite often phonetic confusions, so we do the opposite of traditional ASR and generate the phonetic representation from the output as a basis for comparison."
      ],
      "id": "e328c04c"
    },
    {
      "cell_type": "code",
      "metadata": {
        "id": "57912346"
      },
      "source": [
        "def phonetic_check(word1, word2, ignore_spaces=False):\n",
        "    \"\"\"Uses ICU's IPA transliteration to check if words are the same\"\"\"\n",
        "    tl1 = plipa.transliterate(word1) if not ignore_spaces else plipa.transliterate(word1.replace(' ', ''))\n",
        "    tl2 = plipa.transliterate(word2) if not ignore_spaces else plipa.transliterate(word2.replace(' ', ''))\n",
        "    return tl1 == tl2"
      ],
      "id": "57912346",
      "execution_count": null,
      "outputs": []
    },
    {
      "cell_type": "code",
      "metadata": {
        "id": "2e6f13b7",
        "outputId": "f8296865-f78e-4caa-b3e7-51703ad15099"
      },
      "source": [
        "phonetic_check(\"jórz\", \"jusz\", False)"
      ],
      "id": "2e6f13b7",
      "execution_count": null,
      "outputs": [
        {
          "output_type": "execute_result",
          "data": {
            "text/plain": [
              "True"
            ]
          },
          "metadata": {
            "tags": []
          },
          "execution_count": 34
        }
      ]
    },
    {
      "cell_type": "markdown",
      "metadata": {
        "id": "72e2281e"
      },
      "source": [
        "The Polish `y` is phonetically a raised schwa; like the schwa in English, it's often deleted in fast speech. This function returns true if the only differences between the first word and the second is are deletions of `y`, except at the end of the word (which is typically the plural ending)."
      ],
      "id": "72e2281e"
    },
    {
      "cell_type": "code",
      "metadata": {
        "id": "1c402d90"
      },
      "source": [
        "def no_igrek(word1, word2):\n",
        "    \"\"\"Checks if a word-internal y has been deleted\"\"\"\n",
        "    sm = SequenceMatcher(None, word1, word2)\n",
        "    for oc in sm.get_opcodes():\n",
        "        if oc[0] == 'equal':\n",
        "            continue\n",
        "        elif oc[0] == 'delete' and word1[oc[1]:oc[2]] != 'y':\n",
        "            return False\n",
        "        elif oc[0] == 'delete' and word1[oc[1]:oc[2]] == 'y' and oc[2] == len(word1):\n",
        "            return False\n",
        "        elif oc[0] == 'insert' or oc[0] == 'replace':\n",
        "            return False\n",
        "    return True"
      ],
      "id": "1c402d90",
      "execution_count": null,
      "outputs": []
    },
    {
      "cell_type": "code",
      "metadata": {
        "id": "dece8c30",
        "outputId": "721c7cbd-19e4-4c84-ef34-45e36c2b306b"
      },
      "source": [
        "no_igrek('uniwersytet', 'uniwerstet')"
      ],
      "id": "dece8c30",
      "execution_count": null,
      "outputs": [
        {
          "output_type": "execute_result",
          "data": {
            "text/plain": [
              "True"
            ]
          },
          "metadata": {
            "tags": []
          },
          "execution_count": 20
        }
      ]
    },
    {
      "cell_type": "code",
      "metadata": {
        "id": "48c7e144",
        "outputId": "815c875b-0bdf-4f30-e688-507e24de0cee"
      },
      "source": [
        "no_igrek('uniwerstety', 'uniwerstet')"
      ],
      "id": "48c7e144",
      "execution_count": null,
      "outputs": [
        {
          "output_type": "execute_result",
          "data": {
            "text/plain": [
              "False"
            ]
          },
          "metadata": {
            "tags": []
          },
          "execution_count": 19
        }
      ]
    },
    {
      "cell_type": "code",
      "metadata": {
        "id": "4d7801cf"
      },
      "source": [
        "phonetic_alternatives = [ ['u', 'ó'], ['rz', 'ż'] ]\n",
        "def reverse_alts(phonlist):\n",
        "    return [ [i[1], i[0]] for i in phonlist ]\n"
      ],
      "id": "4d7801cf",
      "execution_count": null,
      "outputs": []
    },
    {
      "cell_type": "code",
      "metadata": {
        "id": "5584e9f5",
        "outputId": "1832b4af-c0ca-477d-def5-f7db496a6a32"
      },
      "source": [
        "sm = SequenceMatcher(None, \"już\", \"jurz\")\n",
        "for oc in sm.get_opcodes():\n",
        "    print(oc)"
      ],
      "id": "5584e9f5",
      "execution_count": null,
      "outputs": [
        {
          "output_type": "stream",
          "text": [
            "('equal', 0, 2, 0, 2)\n",
            "('replace', 2, 3, 2, 4)\n"
          ],
          "name": "stdout"
        }
      ]
    },
    {
      "cell_type": "markdown",
      "metadata": {
        "id": "084f430b"
      },
      "source": [
        "Reads a `CTM`-like file, returning a list of lists containing the filename, start time, end time, and word."
      ],
      "id": "084f430b"
    },
    {
      "cell_type": "code",
      "metadata": {
        "id": "4bd2e92b"
      },
      "source": [
        "def read_ctmish(filename):\n",
        "    output = []\n",
        "    with open(filename, 'r') as f:\n",
        "        for line in f.readlines():\n",
        "            pieces = line.strip().split(' ')\n",
        "            if len(pieces) <= 4:\n",
        "                continue\n",
        "            for piece in pieces[4:]:\n",
        "                output.append([pieces[0], pieces[2], pieces[3], piece])\n",
        "    return output"
      ],
      "id": "4bd2e92b",
      "execution_count": null,
      "outputs": []
    },
    {
      "cell_type": "markdown",
      "metadata": {
        "id": "8a2f52de"
      },
      "source": [
        "Returns the contents of a plain text file as a list of lists containing the line number and the word, for use in locating mismatches"
      ],
      "id": "8a2f52de"
    },
    {
      "cell_type": "code",
      "metadata": {
        "id": "a5038baf"
      },
      "source": [
        "def read_text(filename):\n",
        "    output = []\n",
        "    counter = 0\n",
        "    with open(filename, 'r') as f:\n",
        "        for line in f.readlines():\n",
        "            counter += 1\n",
        "            for word in line.strip().split(' ')\n",
        "                output.append([counter, word])\n",
        "    return output"
      ],
      "id": "a5038baf",
      "execution_count": null,
      "outputs": []
    },
    {
      "cell_type": "code",
      "metadata": {
        "id": "7c31d7e7"
      },
      "source": [
        "ctmish = read_ctmish(\"/mnt/c/Users/Jim O\\'Regan/git/notes/PlgU9JyTLPE.ctm\")"
      ],
      "id": "7c31d7e7",
      "execution_count": null,
      "outputs": []
    },
    {
      "cell_type": "code",
      "metadata": {
        "id": "e130cadc"
      },
      "source": [
        "rec_words = [i[3] for i in ctmish]"
      ],
      "id": "e130cadc",
      "execution_count": null,
      "outputs": []
    }
  ]
}