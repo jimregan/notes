{
 "cells": [
  {
   "cell_type": "code",
   "execution_count": 1,
   "metadata": {},
   "outputs": [],
   "source": [
    "JSON = \"http://sayitinsaami.yle.fi/js/fraasit.js?2019-02-15\""
   ]
  },
  {
   "cell_type": "code",
   "execution_count": 2,
   "metadata": {},
   "outputs": [],
   "source": [
    "import requests"
   ]
  },
  {
   "cell_type": "code",
   "execution_count": 3,
   "metadata": {},
   "outputs": [],
   "source": [
    "rawdata = requests.get(JSON)"
   ]
  },
  {
   "cell_type": "code",
   "execution_count": 9,
   "metadata": {},
   "outputs": [],
   "source": [
    "to_clean = rawdata.text\n",
    "to_clean = to_clean.replace(\" f:\", ' \"f\":').replace(\" fi:\", ' \"fi\":').replace(\" sv:\", ' \"sv\":').replace(\" en:\", ' \"en\":').replace(\" sme:\", ' \"sme\":').replace(\" smn:\", ' \"smn\":').replace(\" sms:\", ' \"sms\":').replace(\" cats:\", ' \"cats\":')"
   ]
  },
  {
   "cell_type": "code",
   "execution_count": 24,
   "metadata": {},
   "outputs": [],
   "source": [
    "if to_clean.startswith(\"FRAASIT = \"):\n",
    "    to_clean = to_clean[10:]\n",
    "to_clean = to_clean.strip()\n",
    "if to_clean.endswith(\"},\\n]\"):\n",
    "    to_clean = to_clean.replace(\"},\\n]\", \"}]\")\n"
   ]
  },
  {
   "cell_type": "code",
   "execution_count": 25,
   "metadata": {},
   "outputs": [],
   "source": [
    "import json\n",
    "data = json.loads(to_clean)"
   ]
  },
  {
   "cell_type": "code",
   "execution_count": null,
   "metadata": {},
   "outputs": [],
   "source": [
    "for item in data:\n",
    "    print(item[\"sme\"], f'http://sanosesaameksi.katrikoivula.com/audio/sme/{item[\"f\"]}.m4a')"
   ]
  }
 ],
 "metadata": {
  "kernelspec": {
   "display_name": "ctcseg",
   "language": "python",
   "name": "python3"
  },
  "language_info": {
   "codemirror_mode": {
    "name": "ipython",
    "version": 3
   },
   "file_extension": ".py",
   "mimetype": "text/x-python",
   "name": "python",
   "nbconvert_exporter": "python",
   "pygments_lexer": "ipython3",
   "version": "3.10.4"
  }
 },
 "nbformat": 4,
 "nbformat_minor": 2
}
