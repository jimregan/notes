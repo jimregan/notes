{
 "cells": [
  {
   "cell_type": "code",
   "execution_count": null,
   "id": "asian-stage",
   "metadata": {
    "execution": {
     "iopub.execute_input": "2021-05-23T02:14:34.970363Z",
     "iopub.status.busy": "2021-05-23T02:14:34.969758Z",
     "iopub.status.idle": "2021-05-23T03:00:46.023413Z",
     "shell.execute_reply": "2021-05-23T03:00:46.022813Z"
    },
    "papermill": {
     "duration": 2771.068051,
     "end_time": "2021-05-23T03:00:46.023576",
     "exception": false,
     "start_time": "2021-05-23T02:14:34.955525",
     "status": "completed"
    },
    "tags": []
   },
   "outputs": [],
   "source": [
    "!for i in ../input/wolne-lektury-audio-zip/*.zip; do unzip $i -d /tmp; for j in /tmp/*.mp3; do base=$(basename \"$j\" \".mp3\"); ffmpeg -i $j -af silencedetect=noise=-30dB:d=0.5 -f null - 2> $base.txt; done; rm /tmp/*.mp3; done"
   ]
  }
 ],
 "metadata": {
  "kernelspec": {
   "display_name": "Python 3",
   "language": "python",
   "name": "python3"
  },
  "language_info": {
   "codemirror_mode": {
    "name": "ipython",
    "version": 3
   },
   "file_extension": ".py",
   "mimetype": "text/x-python",
   "name": "python",
   "nbconvert_exporter": "python",
   "pygments_lexer": "ipython3",
   "version": "3.8.2"
  },
  "papermill": {
   "default_parameters": {},
   "duration": 2779.638412,
   "end_time": "2021-05-23T03:00:47.850442",
   "environment_variables": {},
   "exception": null,
   "input_path": "__notebook__.ipynb",
   "output_path": "__notebook__.ipynb",
   "parameters": {},
   "start_time": "2021-05-23T02:14:28.212030",
   "version": "2.3.3"
  }
 },
 "nbformat": 4,
 "nbformat_minor": 5
}
