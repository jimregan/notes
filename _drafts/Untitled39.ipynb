{
  "nbformat": 4,
  "nbformat_minor": 0,
  "metadata": {
    "colab": {
      "provenance": []
    },
    "kernelspec": {
      "name": "python3",
      "display_name": "Python 3"
    },
    "language_info": {
      "name": "python"
    }
  },
  "cells": [
    {
      "cell_type": "code",
      "execution_count": 21,
      "metadata": {
        "id": "C5GlD_9OjJZj"
      },
      "outputs": [],
      "source": [
        "FONT_LINKS = \"\"\"\n",
        "https://web.archive.org/web/20130404225932/http://www.iol.ie/~sob/gadelica.zip\n",
        "http://web.archive.org/web/20120830224624/http://www.gaelchlo.com/bunardgc.zip\n",
        "http://web.archive.org/web/20220322030900/https://www.gaelchlo.com/bunargc.zip\n",
        "http://web.archive.org/web/20120830224559/http://www.gaelchlo.com/bunartgc.zip\n",
        "http://web.archive.org/web/20191216105737/http://www.gaelchlo.com/bundgc.zip\n",
        "http://web.archive.org/web/20120830224343/http://www.gaelchlo.com/bunnod.zip\n",
        "http://web.archive.org/web/20191218121436/http://www.gaelchlo.com/buntgc.zip\n",
        "http://web.archive.org/web/20160408212120/http://gaelchlo.com/seandgc.zip\n",
        "http://web.archive.org/web/20160408212013/http://gaelchlo.com/seantgc.zip\n",
        "http://web.archive.org/web/20220322030900/https://www.gaelchlo.com/bunargc.zip\n",
        "http://web.archive.org/web/20240119141814/https://www.gaelchlo.com/bungc.zip\n",
        "http://web.archive.org/web/20160408212120/http://gaelchlo.com/seandgc.zip\n",
        "http://web.archive.org/web/20240119143113/https://www.gaelchlo.com/seangc.zip\n",
        "http://web.archive.org/web/20160408212013/http://gaelchlo.com/seantgc.zip\n",
        "http://web.archive.org/web/20240619180031/http://www.gaelchlo.com/urgc.zip\n",
        "\"\"\""
      ]
    },
    {
      "cell_type": "code",
      "source": [
        "FONTS = [x for x in FONT_LINKS.split(\"\\n\") if x != \"\"]"
      ],
      "metadata": {
        "id": "o43_7AS8jU5o"
      },
      "execution_count": 22,
      "outputs": []
    },
    {
      "cell_type": "code",
      "source": [
        "for font in FONTS:\n",
        "  !wget {font}\n",
        "  !unzip {font.split(\"/\")[-1]}"
      ],
      "metadata": {
        "id": "4qc5yu1ZkaoH"
      },
      "execution_count": null,
      "outputs": []
    },
    {
      "cell_type": "code",
      "source": [
        "!mkdir fonts\n",
        "!mv *.ttf fonts"
      ],
      "metadata": {
        "id": "kXbUV6wonveb"
      },
      "execution_count": 11,
      "outputs": []
    },
    {
      "cell_type": "code",
      "source": [
        "%%capture\n",
        "!apt install python3-fontforge"
      ],
      "metadata": {
        "id": "ujKxfdNjn9z5"
      },
      "execution_count": null,
      "outputs": []
    },
    {
      "cell_type": "code",
      "source": [
        "%%capture\n",
        "!apt install lynx"
      ],
      "metadata": {
        "id": "j1k-z0_WuObq"
      },
      "execution_count": null,
      "outputs": []
    },
    {
      "cell_type": "code",
      "source": [
        "!lynx -dump https://www.gaelchlo.com/clonna1.html|grep html|grep '[12][0-9]\\.'|awk '{print $2}'|while read i;do lynx -dump $i|grep zip;done|grep https|awk '{print $2}'|sort|uniq > fontlist"
      ],
      "metadata": {
        "id": "NeVE-dbPuL0-"
      },
      "execution_count": 40,
      "outputs": []
    },
    {
      "cell_type": "code",
      "source": [
        "!wget -i fontlist"
      ],
      "metadata": {
        "id": "AQ7Pt55Ou1Wh"
      },
      "execution_count": null,
      "outputs": []
    },
    {
      "cell_type": "code",
      "source": [
        "%%capture\n",
        "!for i in *zip;do unzip -o $i;done"
      ],
      "metadata": {
        "id": "sV_sYrEPvDQT"
      },
      "execution_count": null,
      "outputs": []
    },
    {
      "cell_type": "code",
      "source": [
        "!cat fontlist|sort|uniq|awk '{print \"http://web.archive.org/web/\" $0}' > iafonts\n",
        "!wget -i iafonts -o iafonts.log"
      ],
      "metadata": {
        "id": "5V9rk0fdwLsp"
      },
      "execution_count": null,
      "outputs": []
    },
    {
      "cell_type": "code",
      "source": [
        "from pathlib import Path\n",
        "import fontforge\n",
        "\n",
        "for otf in Path(\".\").glob(\"**/*.otf\"):\n",
        "    font = fontforge.open(str(otf))\n",
        "    outname = \"fonts/\" + otf.stem + \".ttf\"\n",
        "    font.save(outname)"
      ],
      "metadata": {
        "id": "CiQiAuATvvx_"
      },
      "execution_count": 45,
      "outputs": []
    }
  ]
}