{
  "nbformat": 4,
  "nbformat_minor": 0,
  "metadata": {
    "colab": {
      "provenance": []
    },
    "kernelspec": {
      "name": "python3",
      "display_name": "Python 3"
    },
    "language_info": {
      "name": "python"
    }
  },
  "cells": [
    {
      "cell_type": "code",
      "execution_count": 21,
      "metadata": {
        "id": "C5GlD_9OjJZj"
      },
      "outputs": [],
      "source": [
        "FONT_LINKS = \"\"\"\n",
        "https://web.archive.org/web/20130404225932/http://www.iol.ie/~sob/gadelica.zip\n",
        "http://web.archive.org/web/20120830224624/http://www.gaelchlo.com/bunardgc.zip\n",
        "http://web.archive.org/web/20220322030900/https://www.gaelchlo.com/bunargc.zip\n",
        "http://web.archive.org/web/20120830224559/http://www.gaelchlo.com/bunartgc.zip\n",
        "http://web.archive.org/web/20191216105737/http://www.gaelchlo.com/bundgc.zip\n",
        "http://web.archive.org/web/20120830224343/http://www.gaelchlo.com/bunnod.zip\n",
        "http://web.archive.org/web/20191218121436/http://www.gaelchlo.com/buntgc.zip\n",
        "http://web.archive.org/web/20160408212120/http://gaelchlo.com/seandgc.zip\n",
        "http://web.archive.org/web/20160408212013/http://gaelchlo.com/seantgc.zip\n",
        "http://web.archive.org/web/20220322030900/https://www.gaelchlo.com/bunargc.zip\n",
        "http://web.archive.org/web/20240119141814/https://www.gaelchlo.com/bungc.zip\n",
        "http://web.archive.org/web/20160408212120/http://gaelchlo.com/seandgc.zip\n",
        "http://web.archive.org/web/20240119143113/https://www.gaelchlo.com/seangc.zip\n",
        "http://web.archive.org/web/20160408212013/http://gaelchlo.com/seantgc.zip\n",
        "http://web.archive.org/web/20240619180031/http://www.gaelchlo.com/urgc.zip\n",
        "\"\"\""
      ]
    },
    {
      "cell_type": "code",
      "source": [
        "FONTS = [x for x in FONT_LINKS.split(\"\\n\") if x != \"\"]"
      ],
      "metadata": {
        "id": "o43_7AS8jU5o"
      },
      "execution_count": 22,
      "outputs": []
    },
    {
      "cell_type": "code",
      "source": [
        "for font in FONTS:\n",
        "  !wget {font}\n",
        "  !unzip {font.split(\"/\")[-1]}"
      ],
      "metadata": {
        "id": "4qc5yu1ZkaoH"
      },
      "execution_count": null,
      "outputs": []
    },
    {
      "cell_type": "code",
      "source": [
        "!mkdir fonts\n",
        "!mv *.ttf fonts"
      ],
      "metadata": {
        "id": "kXbUV6wonveb"
      },
      "execution_count": 11,
      "outputs": []
    },
    {
      "cell_type": "code",
      "source": [
        "!apt install python3-fontforge"
      ],
      "metadata": {
        "colab": {
          "base_uri": "https://localhost:8080/"
        },
        "id": "ujKxfdNjn9z5",
        "outputId": "f4854cd4-c201-41da-a645-e7f06088b53b"
      },
      "execution_count": 30,
      "outputs": [
        {
          "output_type": "stream",
          "name": "stdout",
          "text": [
            "Reading package lists... Done\n",
            "Building dependency tree... Done\n",
            "Reading state information... Done\n",
            "The following NEW packages will be installed:\n",
            "  python3-fontforge\n",
            "0 upgraded, 1 newly installed, 0 to remove and 45 not upgraded.\n",
            "Need to get 11.1 kB of archives.\n",
            "After this operation, 98.3 kB of additional disk space will be used.\n",
            "Get:1 http://archive.ubuntu.com/ubuntu jammy/universe amd64 python3-fontforge amd64 1:20201107~dfsg-4build1 [11.1 kB]\n",
            "Fetched 11.1 kB in 0s (71.1 kB/s)\n",
            "Selecting previously unselected package python3-fontforge:amd64.\n",
            "(Reading database ... 122376 files and directories currently installed.)\n",
            "Preparing to unpack .../python3-fontforge_1%3a20201107~dfsg-4build1_amd64.deb ...\n",
            "Unpacking python3-fontforge:amd64 (1:20201107~dfsg-4build1) ...\n",
            "Setting up python3-fontforge:amd64 (1:20201107~dfsg-4build1) ...\n"
          ]
        }
      ]
    },
    {
      "cell_type": "code",
      "source": [
        "import fontforge"
      ],
      "metadata": {
        "id": "0AOsBfIws9WM"
      },
      "execution_count": 31,
      "outputs": []
    },
    {
      "cell_type": "code",
      "source": [
        "from pathlib import Path\n",
        "\n",
        "for otf in Path(\".\").glob(\"**/*.otf\"):\n",
        "    font = fontforge.open(str(otf))\n",
        "    outname = \"fonts/\" + otf.stem + \".ttf\"\n",
        "    font.save(outname)"
      ],
      "metadata": {
        "colab": {
          "base_uri": "https://localhost:8080/"
        },
        "id": "30iHyUB7oIuM",
        "outputId": "eb11e0fd-a846-441b-fa11-014533abcb15"
      },
      "execution_count": 34,
      "outputs": [
        {
          "output_type": "stream",
          "name": "stdout",
          "text": [
            "fonts/Gadelica.ttf\n",
            "fonts/urigc.ttf\n",
            "fonts/urgc.ttf\n",
            "fonts/urtgc.ttf\n",
            "fonts/bungc.ttf\n",
            "fonts/buntgc.ttf\n",
            "fonts/bunigc.ttf\n",
            "fonts/bundgc.ttf\n",
            "fonts/seantgc.ttf\n",
            "fonts/seangc.ttf\n",
            "fonts/bunargc.ttf\n"
          ]
        }
      ]
    }
  ]
}