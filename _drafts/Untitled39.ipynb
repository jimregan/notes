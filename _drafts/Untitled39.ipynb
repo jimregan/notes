{
  "nbformat": 4,
  "nbformat_minor": 0,
  "metadata": {
    "colab": {
      "provenance": []
    },
    "kernelspec": {
      "name": "python3",
      "display_name": "Python 3"
    },
    "language_info": {
      "name": "python"
    }
  },
  "cells": [
    {
      "cell_type": "code",
      "execution_count": 21,
      "metadata": {
        "id": "C5GlD_9OjJZj"
      },
      "outputs": [],
      "source": [
        "FONT_LINKS = \"\"\"\n",
        "https://web.archive.org/web/20130404225932/http://www.iol.ie/~sob/gadelica.zip\n",
        "http://web.archive.org/web/20120830224624/http://www.gaelchlo.com/bunardgc.zip\n",
        "http://web.archive.org/web/20220322030900/https://www.gaelchlo.com/bunargc.zip\n",
        "http://web.archive.org/web/20120830224559/http://www.gaelchlo.com/bunartgc.zip\n",
        "http://web.archive.org/web/20191216105737/http://www.gaelchlo.com/bundgc.zip\n",
        "http://web.archive.org/web/20120830224343/http://www.gaelchlo.com/bunnod.zip\n",
        "http://web.archive.org/web/20191218121436/http://www.gaelchlo.com/buntgc.zip\n",
        "http://web.archive.org/web/20160408212120/http://gaelchlo.com/seandgc.zip\n",
        "http://web.archive.org/web/20160408212013/http://gaelchlo.com/seantgc.zip\n",
        "http://web.archive.org/web/20220322030900/https://www.gaelchlo.com/bunargc.zip\n",
        "http://web.archive.org/web/20240119141814/https://www.gaelchlo.com/bungc.zip\n",
        "http://web.archive.org/web/20160408212120/http://gaelchlo.com/seandgc.zip\n",
        "http://web.archive.org/web/20240119143113/https://www.gaelchlo.com/seangc.zip\n",
        "http://web.archive.org/web/20160408212013/http://gaelchlo.com/seantgc.zip\n",
        "http://web.archive.org/web/20240619180031/http://www.gaelchlo.com/urgc.zip\n",
        "http://web.archive.org/web/20240119141944/https://www.gaelchlo.com/aongc.zip\n",
        "http://web.archive.org/web/20240119141941/https://www.gaelchlo.com/aonw.zip\n",
        "http://web.archive.org/web/20240619182847/https://www.gaelchlo.com/ardeorgc.zip\n",
        "http://web.archive.org/web/20240119142022/https://www.gaelchlo.com/ardeorw.zip\n",
        "http://web.archive.org/web/20240119142032/https://www.gaelchlo.com/ardgc.zip\n",
        "http://web.archive.org/web/20240119142031/https://www.gaelchlo.com/ardw.zip\n",
        "http://web.archive.org/web/20240119142040/https://www.gaelchlo.com/barrgc.zip\n",
        "http://web.archive.org/web/20240119142038/https://www.gaelchlo.com/barrw.zip\n",
        "http://web.archive.org/web/20240119141814/https://www.gaelchlo.com/bungc.zip\n",
        "http://web.archive.org/web/20240119141805/https://www.gaelchlo.com/bunw.zip\n",
        "http://web.archive.org/web/20240119142035/https://www.gaelchlo.com/casgc.zip\n",
        "http://web.archive.org/web/20240119142033/https://www.gaelchlo.com/casw.zip\n",
        "http://web.archive.org/web/20240619182918/https://www.gaelchlo.com/corrgc.zip\n",
        "http://web.archive.org/web/20240619182955/https://www.gaelchlo.com/corrw.zip\n",
        "http://web.archive.org/web/20240119142042/https://www.gaelchlo.com/deasgc.zip\n",
        "http://web.archive.org/web/20240119142041/https://www.gaelchlo.com/deasw.zip\n",
        "http://web.archive.org/web/20240119142045/https://www.gaelchlo.com/dluthgc.zip\n",
        "http://web.archive.org/web/20240119142046/https://www.gaelchlo.com/dluthw.zip\n",
        "http://web.archive.org/web/20240119142026/https://www.gaelchlo.com/dubhgc.zip\n",
        "http://web.archive.org/web/20240119142027/https://www.gaelchlo.com/dubhw.zip\n",
        "http://web.archive.org/web/20240119142025/https://www.gaelchlo.com/fiorgc.zip\n",
        "http://web.archive.org/web/20240119142023/https://www.gaelchlo.com/fiorw.zip\n",
        "http://web.archive.org/web/20240119142051/https://www.gaelchlo.com/geargc.zip\n",
        "http://web.archive.org/web/20240119142050/https://www.gaelchlo.com/gearw.zip\n",
        "http://web.archive.org/web/20240119142055/https://www.gaelchlo.com/glangc.zip\n",
        "http://web.archive.org/web/20240119142053/https://www.gaelchlo.com/glanw.zip\n",
        "http://web.archive.org/web/20240119143123/https://www.gaelchlo.com/langc.zip\n",
        "http://web.archive.org/web/20240119143128/https://www.gaelchlo.com/lanw.zip\n",
        "http://web.archive.org/web/20240619183031/https://www.gaelchlo.com/lomgc.zip\n",
        "http://web.archive.org/web/20240619183107/https://www.gaelchlo.com/meargc.zip\n",
        "http://web.archive.org/web/20240619183116/https://www.gaelchlo.com/mearw.zip\n",
        "http://web.archive.org/web/20240619183125/https://www.gaelchlo.com/mingc.zip\n",
        "\"\"\""
      ]
    },
    {
      "cell_type": "code",
      "source": [
        "FONTS = [x for x in FONT_LINKS.split(\"\\n\") if x != \"\"]"
      ],
      "metadata": {
        "id": "o43_7AS8jU5o"
      },
      "execution_count": 22,
      "outputs": []
    },
    {
      "cell_type": "code",
      "source": [
        "for font in FONTS:\n",
        "  !wget {font}\n",
        "  !unzip {font.split(\"/\")[-1]}"
      ],
      "metadata": {
        "id": "4qc5yu1ZkaoH"
      },
      "execution_count": null,
      "outputs": []
    },
    {
      "cell_type": "code",
      "source": [
        "!mkdir fonts\n",
        "!mv *.ttf fonts"
      ],
      "metadata": {
        "id": "kXbUV6wonveb"
      },
      "execution_count": 11,
      "outputs": []
    },
    {
      "cell_type": "code",
      "source": [
        "%%capture\n",
        "!apt install python3-fontforge"
      ],
      "metadata": {
        "id": "ujKxfdNjn9z5"
      },
      "execution_count": null,
      "outputs": []
    },
    {
      "cell_type": "code",
      "source": [
        "%%capture\n",
        "!apt install lynx"
      ],
      "metadata": {
        "id": "j1k-z0_WuObq"
      },
      "execution_count": null,
      "outputs": []
    },
    {
      "cell_type": "code",
      "source": [
        "!lynx -dump https://www.gaelchlo.com/clonna1.html|grep html|grep '[12][0-9]\\.'|awk '{print $2}'|while read i;do lynx -dump $i|grep zip;done|grep https|awk '{print $2}'|sort|uniq > fontlist"
      ],
      "metadata": {
        "id": "NeVE-dbPuL0-"
      },
      "execution_count": 40,
      "outputs": []
    },
    {
      "cell_type": "code",
      "source": [
        "!wget -i fontlist"
      ],
      "metadata": {
        "id": "AQ7Pt55Ou1Wh"
      },
      "execution_count": null,
      "outputs": []
    },
    {
      "cell_type": "code",
      "source": [
        "%%capture\n",
        "!for i in *zip;do unzip -o $i;done"
      ],
      "metadata": {
        "id": "sV_sYrEPvDQT"
      },
      "execution_count": null,
      "outputs": []
    },
    {
      "cell_type": "code",
      "source": [
        "!cat fontlist|sort|uniq|awk '{print \"http://web.archive.org/web/\" $0}' > iafonts\n",
        "!wget -i iafonts -o iafonts.log"
      ],
      "metadata": {
        "id": "5V9rk0fdwLsp"
      },
      "execution_count": 46,
      "outputs": []
    },
    {
      "cell_type": "code",
      "source": [
        "from pathlib import Path\n",
        "import fontforge\n",
        "\n",
        "for otf in Path(\".\").glob(\"**/*.otf\"):\n",
        "    font = fontforge.open(str(otf))\n",
        "    outname = \"fonts/\" + otf.stem + \".ttf\"\n",
        "    font.save(outname)"
      ],
      "metadata": {
        "id": "CiQiAuATvvx_"
      },
      "execution_count": 45,
      "outputs": []
    },
    {
      "cell_type": "code",
      "source": [
        "!grep '^-' iafonts.log|grep 'web/2'|awk '{print $NF}' > iafonts-arc"
      ],
      "metadata": {
        "id": "zCDR1R00ykx9"
      },
      "execution_count": 50,
      "outputs": []
    },
    {
      "cell_type": "code",
      "source": [
        "!wc -l iafonts*"
      ],
      "metadata": {
        "colab": {
          "base_uri": "https://localhost:8080/"
        },
        "id": "-CsF0ox5y1Ld",
        "outputId": "bbe58ce1-8538-4e02-c405-d7cf07e86065"
      },
      "execution_count": 51,
      "outputs": [
        {
          "output_type": "stream",
          "name": "stdout",
          "text": [
            "   38 iafonts\n",
            "   33 iafonts-arc\n",
            "  545 iafonts.log\n",
            "  616 total\n"
          ]
        }
      ]
    }
  ]
}