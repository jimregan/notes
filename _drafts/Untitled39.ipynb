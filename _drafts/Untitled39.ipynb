{
  "nbformat": 4,
  "nbformat_minor": 0,
  "metadata": {
    "colab": {
      "provenance": []
    },
    "kernelspec": {
      "name": "python3",
      "display_name": "Python 3"
    },
    "language_info": {
      "name": "python"
    }
  },
  "cells": [
    {
      "cell_type": "code",
      "execution_count": 21,
      "metadata": {
        "id": "C5GlD_9OjJZj"
      },
      "outputs": [],
      "source": [
        "FONT_LINKS = \"\"\"\n",
        "https://web.archive.org/web/20130404225932/http://www.iol.ie/~sob/gadelica.zip\n",
        "http://web.archive.org/web/20120830224624/http://www.gaelchlo.com/bunardgc.zip\n",
        "http://web.archive.org/web/20220322030900/https://www.gaelchlo.com/bunargc.zip\n",
        "http://web.archive.org/web/20120830224559/http://www.gaelchlo.com/bunartgc.zip\n",
        "http://web.archive.org/web/20191216105737/http://www.gaelchlo.com/bundgc.zip\n",
        "http://web.archive.org/web/20120830224343/http://www.gaelchlo.com/bunnod.zip\n",
        "http://web.archive.org/web/20191218121436/http://www.gaelchlo.com/buntgc.zip\n",
        "http://web.archive.org/web/20160408212120/http://gaelchlo.com/seandgc.zip\n",
        "http://web.archive.org/web/20160408212013/http://gaelchlo.com/seantgc.zip\n",
        "http://web.archive.org/web/20220322030900/https://www.gaelchlo.com/bunargc.zip\n",
        "http://web.archive.org/web/20240119141814/https://www.gaelchlo.com/bungc.zip\n",
        "http://web.archive.org/web/20160408212120/http://gaelchlo.com/seandgc.zip\n",
        "http://web.archive.org/web/20240119143113/https://www.gaelchlo.com/seangc.zip\n",
        "http://web.archive.org/web/20160408212013/http://gaelchlo.com/seantgc.zip\n",
        "http://web.archive.org/web/20240619180031/http://www.gaelchlo.com/urgc.zip\n",
        "http://web.archive.org/web/20240119141944/https://www.gaelchlo.com/aongc.zip\n",
        "http://web.archive.org/web/20240619182847/https://www.gaelchlo.com/ardeorgc.zip\n",
        "http://web.archive.org/web/20240119142032/https://www.gaelchlo.com/ardgc.zip\n",
        "http://web.archive.org/web/20240119142040/https://www.gaelchlo.com/barrgc.zip\n",
        "http://web.archive.org/web/20240119142035/https://www.gaelchlo.com/casgc.zip\n",
        "http://web.archive.org/web/20240619182918/https://www.gaelchlo.com/corrgc.zip\n",
        "http://web.archive.org/web/20240119142042/https://www.gaelchlo.com/deasgc.zip\n",
        "http://web.archive.org/web/20240119142045/https://www.gaelchlo.com/dluthgc.zip\n",
        "http://web.archive.org/web/20240119142026/https://www.gaelchlo.com/dubhgc.zip\n",
        "http://web.archive.org/web/20240119142025/https://www.gaelchlo.com/fiorgc.zip\n",
        "http://web.archive.org/web/20240119142051/https://www.gaelchlo.com/geargc.zip\n",
        "http://web.archive.org/web/20240119142055/https://www.gaelchlo.com/glangc.zip\n",
        "http://web.archive.org/web/20240119143123/https://www.gaelchlo.com/langc.zip\n",
        "http://web.archive.org/web/20240619183031/https://www.gaelchlo.com/lomgc.zip\n",
        "http://web.archive.org/web/20240619183107/https://www.gaelchlo.com/meargc.zip\n",
        "http://web.archive.org/web/20240619183125/https://www.gaelchlo.com/mingc.zip\n",
        "\"\"\""
      ]
    },
    {
      "cell_type": "code",
      "source": [
        "FONTS = [x for x in FONT_LINKS.split(\"\\n\") if x != \"\"]"
      ],
      "metadata": {
        "id": "o43_7AS8jU5o"
      },
      "execution_count": 22,
      "outputs": []
    },
    {
      "cell_type": "code",
      "source": [
        "for font in FONTS:\n",
        "  !wget {font}\n",
        "  !unzip {font.split(\"/\")[-1]}"
      ],
      "metadata": {
        "id": "4qc5yu1ZkaoH"
      },
      "execution_count": null,
      "outputs": []
    },
    {
      "cell_type": "code",
      "source": [
        "!mkdir fonts\n",
        "!mv *.ttf fonts"
      ],
      "metadata": {
        "id": "kXbUV6wonveb"
      },
      "execution_count": 11,
      "outputs": []
    },
    {
      "cell_type": "code",
      "source": [
        "%%capture\n",
        "!apt install python3-fontforge"
      ],
      "metadata": {
        "id": "ujKxfdNjn9z5"
      },
      "execution_count": null,
      "outputs": []
    },
    {
      "cell_type": "code",
      "source": [
        "%%capture\n",
        "!apt install lynx"
      ],
      "metadata": {
        "id": "j1k-z0_WuObq"
      },
      "execution_count": null,
      "outputs": []
    },
    {
      "cell_type": "code",
      "source": [
        "!lynx -dump https://www.gaelchlo.com/clonna1.html|grep html|grep '[12][0-9]\\.'|awk '{print $2}'|while read i;do lynx -dump $i|grep zip;done|grep https|awk '{print $2}'|sort|uniq > fontlist"
      ],
      "metadata": {
        "id": "NeVE-dbPuL0-"
      },
      "execution_count": 40,
      "outputs": []
    },
    {
      "cell_type": "code",
      "source": [
        "!wget -i fontlist"
      ],
      "metadata": {
        "id": "AQ7Pt55Ou1Wh"
      },
      "execution_count": null,
      "outputs": []
    },
    {
      "cell_type": "code",
      "source": [
        "%%capture\n",
        "!for i in *zip;do unzip -o $i;done"
      ],
      "metadata": {
        "id": "sV_sYrEPvDQT"
      },
      "execution_count": null,
      "outputs": []
    },
    {
      "cell_type": "code",
      "source": [
        "!cat fontlist|sort|uniq|grep -v 'w.zip$'|awk '{print \"http://web.archive.org/web/\" $0}' > iafonts\n",
        "#!wget -i iafonts -o iafonts.log"
      ],
      "metadata": {
        "id": "5V9rk0fdwLsp"
      },
      "execution_count": 52,
      "outputs": []
    },
    {
      "cell_type": "code",
      "source": [
        "from pathlib import Path\n",
        "import fontforge\n",
        "\n",
        "for otf in Path(\".\").glob(\"**/*.otf\"):\n",
        "    font = fontforge.open(str(otf))\n",
        "    outname = \"fonts/\" + otf.stem + \".ttf\"\n",
        "    # save the output as ttf\n",
        "    font.save(outname, \"truetype\")"
      ],
      "metadata": {
        "colab": {
          "base_uri": "https://localhost:8080/",
          "height": 180
        },
        "id": "CiQiAuATvvx_",
        "outputId": "14075ca6-e89a-499d-ba33-d7c1a1d69cc0"
      },
      "execution_count": 75,
      "outputs": [
        {
          "output_type": "error",
          "ename": "TypeError",
          "evalue": "'str' object cannot be interpreted as an integer",
          "traceback": [
            "\u001b[0;31m---------------------------------------------------------------------------\u001b[0m",
            "\u001b[0;31mTypeError\u001b[0m                                 Traceback (most recent call last)",
            "\u001b[0;32m<ipython-input-75-72b180fc69f1>\u001b[0m in \u001b[0;36m<cell line: 4>\u001b[0;34m()\u001b[0m\n\u001b[1;32m      6\u001b[0m     \u001b[0moutname\u001b[0m \u001b[0;34m=\u001b[0m \u001b[0;34m\"fonts/\"\u001b[0m \u001b[0;34m+\u001b[0m \u001b[0motf\u001b[0m\u001b[0;34m.\u001b[0m\u001b[0mstem\u001b[0m \u001b[0;34m+\u001b[0m \u001b[0;34m\".ttf\"\u001b[0m\u001b[0;34m\u001b[0m\u001b[0;34m\u001b[0m\u001b[0m\n\u001b[1;32m      7\u001b[0m     \u001b[0;31m# save the output as ttf\u001b[0m\u001b[0;34m\u001b[0m\u001b[0;34m\u001b[0m\u001b[0m\n\u001b[0;32m----> 8\u001b[0;31m     \u001b[0mfont\u001b[0m\u001b[0;34m.\u001b[0m\u001b[0msave\u001b[0m\u001b[0;34m(\u001b[0m\u001b[0moutname\u001b[0m\u001b[0;34m,\u001b[0m \u001b[0;34m\"truetype\"\u001b[0m\u001b[0;34m)\u001b[0m\u001b[0;34m\u001b[0m\u001b[0;34m\u001b[0m\u001b[0m\n\u001b[0m",
            "\u001b[0;31mTypeError\u001b[0m: 'str' object cannot be interpreted as an integer"
          ]
        }
      ]
    },
    {
      "cell_type": "code",
      "source": [
        "!wget https://web.archive.org/web/20240619184509/https://www.gaelchlo.com/miongc.zip\n",
        "!wget http://web.archive.org/web/20240619184517/https://www.gaelchlo.com/morgc.zip\n",
        "!wget http://web.archive.org/web/https://inkwell.ie/font-packs/Macalla/Macalla-Regular-ttf.zip"
      ],
      "metadata": {
        "id": "xF7_XIQc0nsG"
      },
      "execution_count": null,
      "outputs": []
    },
    {
      "cell_type": "code",
      "source": [
        "%%capture\n",
        "!pip install trdg"
      ],
      "metadata": {
        "id": "2XvIoJMp5b82"
      },
      "execution_count": 68,
      "outputs": []
    },
    {
      "cell_type": "code",
      "source": [
        "!wget https://raw.githubusercontent.com/tesseract-ocr/langdata/main/gle_uncial/gle_uncial.training_text"
      ],
      "metadata": {
        "colab": {
          "base_uri": "https://localhost:8080/"
        },
        "id": "P4pCxtVC6wBf",
        "outputId": "50d4fd16-cefc-481f-a3e4-4df934dac5ff"
      },
      "execution_count": 71,
      "outputs": [
        {
          "output_type": "stream",
          "name": "stdout",
          "text": [
            "--2024-06-19 19:13:25--  https://raw.githubusercontent.com/tesseract-ocr/langdata/main/gle_uncial/gle_uncial.training_text\n",
            "Resolving raw.githubusercontent.com (raw.githubusercontent.com)... 185.199.108.133, 185.199.109.133, 185.199.110.133, ...\n",
            "Connecting to raw.githubusercontent.com (raw.githubusercontent.com)|185.199.108.133|:443... connected.\n",
            "HTTP request sent, awaiting response... 200 OK\n",
            "Length: 196139 (192K) [text/plain]\n",
            "Saving to: ‘gle_uncial.training_text’\n",
            "\n",
            "\rgle_uncial.training   0%[                    ]       0  --.-KB/s               \rgle_uncial.training 100%[===================>] 191.54K  --.-KB/s    in 0.03s   \n",
            "\n",
            "2024-06-19 19:13:25 (5.44 MB/s) - ‘gle_uncial.training_text’ saved [196139/196139]\n",
            "\n"
          ]
        }
      ]
    },
    {
      "cell_type": "code",
      "source": [
        "!file fonts/*ttf"
      ],
      "metadata": {
        "colab": {
          "base_uri": "https://localhost:8080/"
        },
        "id": "RMBaj4XC7IDx",
        "outputId": "fdc7158b-b97c-4a2f-8433-adfe895cb236"
      },
      "execution_count": 74,
      "outputs": [
        {
          "output_type": "stream",
          "name": "stdout",
          "text": [
            "fonts/aonchlo iodalach.ttf:   Spline Font Database version 3.2\n",
            "fonts/aonchlo trom.ttf:       Spline Font Database version 3.2\n",
            "fonts/aonchlo.ttf:            Spline Font Database version 3.2\n",
            "fonts/ardchlo eorpach.ttf:    Spline Font Database version 3.2\n",
            "fonts/ardchlo.ttf:            Spline Font Database version 3.2\n",
            "fonts/BarrchloGC-Regular.ttf: Spline Font Database version 3.2\n",
            "fonts/bunargc.ttf:            Spline Font Database version 3.2\n",
            "fonts/Bunchlo Arsa Dubh.ttf:  TrueType Font data, 19 tables, 1st \"GPOS\", 29 names, Macintosh, \\251 Vincent Morley 1996-2010.  'De bh\\341idh le hInis \\311ilge/ do dh\\341il Bunchl\\363 Gaeilge/\n",
            "fonts/Bunchlo Arsa Trom.ttf:  TrueType Font data, 19 tables, 1st \"GDEF\", 34 names, Macintosh, \\251 Vincent Morley 1996-2009.  'De bh\\341idh le hInis \\311ilge/ do dh\\341il Bunchl\\363 Gaeilge/\n",
            "fonts/Bunchlo Dubh.ttf:       TrueType Font data, 18 tables, 1st \"LTSH\", 29 names, Macintosh, \\251 Vincent Morley 1996-2016.Bunchlo Dubh GCRegularVincentMorley: Bunchlo Dubh GC: 1996Bunchlo \n",
            "fonts/Bunchlo Trom.ttf:       TrueType Font data, 18 tables, 1st \"LTSH\", 29 names, Macintosh, \\251 Vincent Morley 1996-2016.Bunchlo GCBoldVincentMorley: Bunchlo GC Bold: 1996Bunchlo GC BoldV\n",
            "fonts/bundgc.ttf:             Spline Font Database version 3.2\n",
            "fonts/bungc.ttf:              Spline Font Database version 3.2\n",
            "fonts/bunigc.ttf:             Spline Font Database version 3.2\n",
            "fonts/bunnod.ttf:             TrueType Font data, 20 tables, 1st \"GDEF\", 34 names, Macintosh, \\251 Vincent Morley 1996-2005.  'De bh\\341igh le hInis \\311ilge/ do dh\\341il Bunchl\\363 Gaeilge/\n",
            "fonts/buntgc.ttf:             Spline Font Database version 3.2\n",
            "fonts/caschlo.ttf:            Spline Font Database version 3.2\n",
            "fonts/CorrchloGC-Regular.ttf: Spline Font Database version 3.2\n",
            "fonts/DeaschloGC-Regular.ttf: Spline Font Database version 3.2\n",
            "fonts/dluthchlo.ttf:          Spline Font Database version 3.2\n",
            "fonts/DubhchloGC-Regular.ttf: Spline Font Database version 3.2\n",
            "fonts/fiorchlo.ttf:           Spline Font Database version 3.2\n",
            "fonts/Gadelica.ttf:           Spline Font Database version 3.2\n",
            "fonts/gear.ttf:               Spline Font Database version 3.2\n",
            "fonts/glangc.ttf:             Spline Font Database version 3.2\n",
            "fonts/glanigc.ttf:            Spline Font Database version 3.2\n",
            "fonts/glantgc.ttf:            Spline Font Database version 3.2\n",
            "fonts/langc.ttf:              Spline Font Database version 3.2\n",
            "fonts/lanigc.ttf:             Spline Font Database version 3.2\n",
            "fonts/lantgc.ttf:             Spline Font Database version 3.2\n",
            "fonts/lomchlo iodalach.ttf:   Spline Font Database version 3.2\n",
            "fonts/lomchlo trom.ttf:       Spline Font Database version 3.2\n",
            "fonts/lomchlo.ttf:            Spline Font Database version 3.2\n",
            "fonts/Macalla-Regular.ttf:    TrueType Font data, digitally signed, 18 tables, 1st \"DSIG\", 18 names, Macintosh, Copyright \\251 2018 by Matthew McDonagh. All rights reserved.MacallaRegular1.001;UKWN;Macalla-Re\n",
            "fonts/mearchlo.ttf:           Spline Font Database version 3.2\n",
            "fonts/mini.ttf:               Spline Font Database version 3.2\n",
            "fonts/min.ttf:                Spline Font Database version 3.2\n",
            "fonts/mint.ttf:               Spline Font Database version 3.2\n",
            "fonts/mionchlo.ttf:           Spline Font Database version 3.2\n",
            "fonts/morchlo.ttf:            Spline Font Database version 3.2\n",
            "fonts/Seanchlo Dubh.ttf:      TrueType Font data, 19 tables, 1st \"GDEF\", 34 names, Macintosh, 'De bh\\341igh le hInis \\311ilge/ Do dh\\341il Seanchl\\363 Gaeilge/ D'athbheo\\372 \\341r dteanga tr\n",
            "fonts/Seanchlo Trom.ttf:      TrueType Font data, 18 tables, 1st \"LTSH\", 34 names, Macintosh, \\251 Vincent Morley 1998-2004.  \"De bh\\341igh le hInis \\311ilge/ do dh\\341il Seanchl\\363 Gaeilge\n",
            "fonts/seangc.ttf:             Spline Font Database version 3.2\n",
            "fonts/seantgc.ttf:            Spline Font Database version 3.2\n",
            "fonts/urgc.ttf:               Spline Font Database version 3.2\n",
            "fonts/urigc.ttf:              Spline Font Database version 3.2\n",
            "fonts/urtgc.ttf:              Spline Font Database version 3.2\n"
          ]
        }
      ]
    },
    {
      "cell_type": "code",
      "source": [
        "!trdg -c 1000 -i gle_uncial.training_text --font_dir fonts"
      ],
      "metadata": {
        "colab": {
          "base_uri": "https://localhost:8080/"
        },
        "id": "thw5dAwp6ZYz",
        "outputId": "e59fc79f-651e-4d89-fbe5-90727891643a"
      },
      "execution_count": 73,
      "outputs": [
        {
          "output_type": "stream",
          "name": "stdout",
          "text": [
            "2024-06-19 19:14:05.003462: E external/local_xla/xla/stream_executor/cuda/cuda_dnn.cc:9261] Unable to register cuDNN factory: Attempting to register factory for plugin cuDNN when one has already been registered\n",
            "2024-06-19 19:14:05.003523: E external/local_xla/xla/stream_executor/cuda/cuda_fft.cc:607] Unable to register cuFFT factory: Attempting to register factory for plugin cuFFT when one has already been registered\n",
            "2024-06-19 19:14:05.005089: E external/local_xla/xla/stream_executor/cuda/cuda_blas.cc:1515] Unable to register cuBLAS factory: Attempting to register factory for plugin cuBLAS when one has already been registered\n",
            "2024-06-19 19:14:05.013826: I tensorflow/core/platform/cpu_feature_guard.cc:182] This TensorFlow binary is optimized to use available CPU instructions in performance-critical operations.\n",
            "To enable the following instructions: AVX2 FMA, in other operations, rebuild TensorFlow with the appropriate compiler flags.\n",
            "2024-06-19 19:14:06.374483: W tensorflow/compiler/tf2tensorrt/utils/py_utils.cc:38] TF-TRT Warning: Could not find TensorRT\n",
            "  0% 0/1000 [00:00<?, ?it/s]\n",
            "multiprocessing.pool.RemoteTraceback: \n",
            "\"\"\"\n",
            "Traceback (most recent call last):\n",
            "  File \"/usr/lib/python3.10/multiprocessing/pool.py\", line 125, in worker\n",
            "    result = (True, func(*args, **kwds))\n",
            "  File \"/usr/local/lib/python3.10/dist-packages/trdg/data_generator.py\", line 22, in generate_from_tuple\n",
            "    cls.generate(*t)\n",
            "  File \"/usr/local/lib/python3.10/dist-packages/trdg/data_generator.py\", line 72, in generate\n",
            "    image, mask = computer_text_generator.generate(\n",
            "  File \"/usr/local/lib/python3.10/dist-packages/trdg/computer_text_generator.py\", line 36, in generate\n",
            "    return _generate_horizontal_text(\n",
            "  File \"/usr/local/lib/python3.10/dist-packages/trdg/computer_text_generator.py\", line 86, in _generate_horizontal_text\n",
            "    image_font = ImageFont.truetype(font=font, size=font_size)\n",
            "  File \"/usr/local/lib/python3.10/dist-packages/PIL/ImageFont.py\", line 1008, in truetype\n",
            "    return freetype(font)\n",
            "  File \"/usr/local/lib/python3.10/dist-packages/PIL/ImageFont.py\", line 1005, in freetype\n",
            "    return FreeTypeFont(font, size, index, encoding, layout_engine)\n",
            "  File \"/usr/local/lib/python3.10/dist-packages/PIL/ImageFont.py\", line 255, in __init__\n",
            "    self.font = core.getfont(\n",
            "OSError: unknown file format\n",
            "\"\"\"\n",
            "\n",
            "The above exception was the direct cause of the following exception:\n",
            "\n",
            "Traceback (most recent call last):\n",
            "  File \"/usr/local/bin/trdg\", line 8, in <module>\n",
            "    sys.exit(main())\n",
            "  File \"/usr/local/lib/python3.10/dist-packages/trdg/run.py\", line 438, in main\n",
            "    for _ in tqdm(\n",
            "  File \"/usr/local/lib/python3.10/dist-packages/tqdm/std.py\", line 1181, in __iter__\n",
            "    for obj in iterable:\n",
            "  File \"/usr/lib/python3.10/multiprocessing/pool.py\", line 873, in next\n",
            "    raise value\n",
            "  File \"/usr/lib/python3.10/multiprocessing/pool.py\", line 125, in worker\n",
            "    result = (True, func(*args, **kwds))\n",
            "  File \"/usr/local/lib/python3.10/dist-packages/trdg/data_generator.py\", line 22, in generate_from_tuple\n",
            "    cls.generate(*t)\n",
            "  File \"/usr/local/lib/python3.10/dist-packages/trdg/data_generator.py\", line 72, in generate\n",
            "    image, mask = computer_text_generator.generate(\n",
            "  File \"/usr/local/lib/python3.10/dist-packages/trdg/computer_text_generator.py\", line 36, in generate\n",
            "    return _generate_horizontal_text(\n",
            "  File \"/usr/local/lib/python3.10/dist-packages/trdg/computer_text_generator.py\", line 86, in _generate_horizontal_text\n",
            "    image_font = ImageFont.truetype(font=font, size=font_size)\n",
            "  File \"/usr/local/lib/python3.10/dist-packages/PIL/ImageFont.py\", line 1008, in truetype\n",
            "    return freetype(font)\n",
            "  File \"/usr/local/lib/python3.10/dist-packages/PIL/ImageFont.py\", line 1005, in freetype\n",
            "    return FreeTypeFont(font, size, index, encoding, layout_engine)\n",
            "  File \"/usr/local/lib/python3.10/dist-packages/PIL/ImageFont.py\", line 255, in __init__\n",
            "    self.font = core.getfont(\n",
            "OSError: unknown file format\n"
          ]
        }
      ]
    }
  ]
}