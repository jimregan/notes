{
  "nbformat": 4,
  "nbformat_minor": 0,
  "metadata": {
    "colab": {
      "provenance": []
    },
    "kernelspec": {
      "name": "python3",
      "display_name": "Python 3"
    },
    "language_info": {
      "name": "python"
    }
  },
  "cells": [
    {
      "cell_type": "code",
      "execution_count": 21,
      "metadata": {
        "id": "C5GlD_9OjJZj"
      },
      "outputs": [],
      "source": [
        "FONT_LINKS = \"\"\"\n",
        "https://web.archive.org/web/20130404225932/http://www.iol.ie/~sob/gadelica.zip\n",
        "http://web.archive.org/web/20120830224624/http://www.gaelchlo.com/bunardgc.zip\n",
        "http://web.archive.org/web/20220322030900/https://www.gaelchlo.com/bunargc.zip\n",
        "http://web.archive.org/web/20120830224559/http://www.gaelchlo.com/bunartgc.zip\n",
        "http://web.archive.org/web/20191216105737/http://www.gaelchlo.com/bundgc.zip\n",
        "http://web.archive.org/web/20120830224343/http://www.gaelchlo.com/bunnod.zip\n",
        "http://web.archive.org/web/20191218121436/http://www.gaelchlo.com/buntgc.zip\n",
        "http://web.archive.org/web/20160408212120/http://gaelchlo.com/seandgc.zip\n",
        "http://web.archive.org/web/20160408212013/http://gaelchlo.com/seantgc.zip\n",
        "http://web.archive.org/web/20220322030900/https://www.gaelchlo.com/bunargc.zip\n",
        "http://web.archive.org/web/20240119141814/https://www.gaelchlo.com/bungc.zip\n",
        "http://web.archive.org/web/20160408212120/http://gaelchlo.com/seandgc.zip\n",
        "http://web.archive.org/web/20240119143113/https://www.gaelchlo.com/seangc.zip\n",
        "http://web.archive.org/web/20160408212013/http://gaelchlo.com/seantgc.zip\n",
        "http://web.archive.org/web/20240619180031/http://www.gaelchlo.com/urgc.zip\n",
        "http://web.archive.org/web/20240119141944/https://www.gaelchlo.com/aongc.zip\n",
        "http://web.archive.org/web/20240619182847/https://www.gaelchlo.com/ardeorgc.zip\n",
        "http://web.archive.org/web/20240119142032/https://www.gaelchlo.com/ardgc.zip\n",
        "http://web.archive.org/web/20240119142040/https://www.gaelchlo.com/barrgc.zip\n",
        "http://web.archive.org/web/20240119142035/https://www.gaelchlo.com/casgc.zip\n",
        "http://web.archive.org/web/20240619182918/https://www.gaelchlo.com/corrgc.zip\n",
        "http://web.archive.org/web/20240119142042/https://www.gaelchlo.com/deasgc.zip\n",
        "http://web.archive.org/web/20240119142045/https://www.gaelchlo.com/dluthgc.zip\n",
        "http://web.archive.org/web/20240119142026/https://www.gaelchlo.com/dubhgc.zip\n",
        "http://web.archive.org/web/20240119142025/https://www.gaelchlo.com/fiorgc.zip\n",
        "http://web.archive.org/web/20240119142051/https://www.gaelchlo.com/geargc.zip\n",
        "http://web.archive.org/web/20240119142055/https://www.gaelchlo.com/glangc.zip\n",
        "http://web.archive.org/web/20240119143123/https://www.gaelchlo.com/langc.zip\n",
        "http://web.archive.org/web/20240619183031/https://www.gaelchlo.com/lomgc.zip\n",
        "http://web.archive.org/web/20240619183107/https://www.gaelchlo.com/meargc.zip\n",
        "http://web.archive.org/web/20240619183125/https://www.gaelchlo.com/mingc.zip\n",
        "\"\"\""
      ]
    },
    {
      "cell_type": "code",
      "source": [
        "FONTS = [x for x in FONT_LINKS.split(\"\\n\") if x != \"\"]"
      ],
      "metadata": {
        "id": "o43_7AS8jU5o"
      },
      "execution_count": 22,
      "outputs": []
    },
    {
      "cell_type": "code",
      "source": [
        "for font in FONTS:\n",
        "  !wget {font}\n",
        "  !unzip {font.split(\"/\")[-1]}"
      ],
      "metadata": {
        "id": "4qc5yu1ZkaoH"
      },
      "execution_count": null,
      "outputs": []
    },
    {
      "cell_type": "code",
      "source": [
        "!mkdir fonts\n",
        "!mv *.ttf fonts"
      ],
      "metadata": {
        "id": "kXbUV6wonveb"
      },
      "execution_count": 11,
      "outputs": []
    },
    {
      "cell_type": "code",
      "source": [
        "%%capture\n",
        "!apt install python3-fontforge"
      ],
      "metadata": {
        "id": "ujKxfdNjn9z5"
      },
      "execution_count": null,
      "outputs": []
    },
    {
      "cell_type": "code",
      "source": [
        "%%capture\n",
        "!apt install lynx"
      ],
      "metadata": {
        "id": "j1k-z0_WuObq"
      },
      "execution_count": null,
      "outputs": []
    },
    {
      "cell_type": "code",
      "source": [
        "!lynx -dump https://www.gaelchlo.com/clonna1.html|grep html|grep '[12][0-9]\\.'|awk '{print $2}'|while read i;do lynx -dump $i|grep zip;done|grep https|awk '{print $2}'|sort|uniq > fontlist"
      ],
      "metadata": {
        "id": "NeVE-dbPuL0-"
      },
      "execution_count": 40,
      "outputs": []
    },
    {
      "cell_type": "code",
      "source": [
        "!wget -i fontlist"
      ],
      "metadata": {
        "id": "AQ7Pt55Ou1Wh"
      },
      "execution_count": null,
      "outputs": []
    },
    {
      "cell_type": "code",
      "source": [
        "%%capture\n",
        "!for i in *zip;do unzip -o $i;done"
      ],
      "metadata": {
        "id": "sV_sYrEPvDQT"
      },
      "execution_count": null,
      "outputs": []
    },
    {
      "cell_type": "code",
      "source": [
        "!cat fontlist|sort|uniq|grep -v 'w.zip$'|awk '{print \"http://web.archive.org/web/\" $0}' > iafonts\n",
        "#!wget -i iafonts -o iafonts.log"
      ],
      "metadata": {
        "id": "5V9rk0fdwLsp"
      },
      "execution_count": 52,
      "outputs": []
    },
    {
      "cell_type": "code",
      "source": [
        "from pathlib import Path\n",
        "import fontforge\n",
        "\n",
        "for otf in Path(\".\").glob(\"**/*.otf\"):\n",
        "    font = fontforge.open(str(otf))\n",
        "    outname = \"fonts/\" + otf.stem + \".ttf\"\n",
        "    font.generate(outname)"
      ],
      "metadata": {
        "id": "CiQiAuATvvx_"
      },
      "execution_count": 76,
      "outputs": []
    },
    {
      "cell_type": "code",
      "source": [
        "!wget https://web.archive.org/web/20240619184509/https://www.gaelchlo.com/miongc.zip\n",
        "!wget http://web.archive.org/web/20240619184517/https://www.gaelchlo.com/morgc.zip\n",
        "!wget http://web.archive.org/web/https://inkwell.ie/font-packs/Macalla/Macalla-Regular-ttf.zip"
      ],
      "metadata": {
        "id": "xF7_XIQc0nsG"
      },
      "execution_count": null,
      "outputs": []
    },
    {
      "cell_type": "code",
      "source": [
        "%%capture\n",
        "!pip install trdg"
      ],
      "metadata": {
        "id": "2XvIoJMp5b82"
      },
      "execution_count": 68,
      "outputs": []
    },
    {
      "cell_type": "code",
      "source": [
        "%%capture\n",
        "!wget https://raw.githubusercontent.com/tesseract-ocr/langdata/main/gle_uncial/gle_uncial.training_text"
      ],
      "metadata": {
        "id": "P4pCxtVC6wBf"
      },
      "execution_count": null,
      "outputs": []
    },
    {
      "cell_type": "code",
      "source": [
        "!file fonts/*ttf"
      ],
      "metadata": {
        "colab": {
          "base_uri": "https://localhost:8080/"
        },
        "id": "RMBaj4XC7IDx",
        "outputId": "3f928a0e-1dca-4b1a-83ee-9c3c4eb01111"
      },
      "execution_count": 77,
      "outputs": [
        {
          "output_type": "stream",
          "name": "stdout",
          "text": [
            "fonts/aonchlo iodalach.ttf:   TrueType Font data, 15 tables, 1st \"FFTM\", 30 names, Macintosh\n",
            "fonts/aonchlo trom.ttf:       TrueType Font data, 15 tables, 1st \"FFTM\", 28 names, Macintosh\n",
            "fonts/aonchlo.ttf:            TrueType Font data, 15 tables, 1st \"FFTM\", 30 names, Macintosh\n",
            "fonts/ardchlo eorpach.ttf:    TrueType Font data, 15 tables, 1st \"FFTM\", 30 names, Macintosh\n",
            "fonts/ardchlo.ttf:            TrueType Font data, 15 tables, 1st \"FFTM\", 30 names, Macintosh\n",
            "fonts/BarrchloGC-Regular.ttf: TrueType Font data, 15 tables, 1st \"FFTM\", 30 names, Macintosh\n",
            "fonts/bunargc.ttf:            TrueType Font data, 15 tables, 1st \"FFTM\", 28 names, Macintosh\n",
            "fonts/Bunchlo Arsa Dubh.ttf:  TrueType Font data, 19 tables, 1st \"GPOS\", 29 names, Macintosh, \\251 Vincent Morley 1996-2010.  'De bh\\341idh le hInis \\311ilge/ do dh\\341il Bunchl\\363 Gaeilge/\n",
            "fonts/Bunchlo Arsa Trom.ttf:  TrueType Font data, 19 tables, 1st \"GDEF\", 34 names, Macintosh, \\251 Vincent Morley 1996-2009.  'De bh\\341idh le hInis \\311ilge/ do dh\\341il Bunchl\\363 Gaeilge/\n",
            "fonts/Bunchlo Dubh.ttf:       TrueType Font data, 18 tables, 1st \"LTSH\", 29 names, Macintosh, \\251 Vincent Morley 1996-2016.Bunchlo Dubh GCRegularVincentMorley: Bunchlo Dubh GC: 1996Bunchlo \n",
            "fonts/Bunchlo Trom.ttf:       TrueType Font data, 18 tables, 1st \"LTSH\", 29 names, Macintosh, \\251 Vincent Morley 1996-2016.Bunchlo GCBoldVincentMorley: Bunchlo GC Bold: 1996Bunchlo GC BoldV\n",
            "fonts/bundgc.ttf:             TrueType Font data, 15 tables, 1st \"FFTM\", 28 names, Macintosh\n",
            "fonts/bungc.ttf:              TrueType Font data, 15 tables, 1st \"FFTM\", 28 names, Macintosh\n",
            "fonts/bunigc.ttf:             TrueType Font data, 15 tables, 1st \"FFTM\", 28 names, Macintosh\n",
            "fonts/bunnod.ttf:             TrueType Font data, 20 tables, 1st \"GDEF\", 34 names, Macintosh, \\251 Vincent Morley 1996-2005.  'De bh\\341igh le hInis \\311ilge/ do dh\\341il Bunchl\\363 Gaeilge/\n",
            "fonts/buntgc.ttf:             TrueType Font data, 15 tables, 1st \"FFTM\", 30 names, Macintosh\n",
            "fonts/caschlo.ttf:            TrueType Font data, 15 tables, 1st \"FFTM\", 32 names, Macintosh\n",
            "fonts/CorrchloGC-Regular.ttf: TrueType Font data, 15 tables, 1st \"FFTM\", 22 names, Macintosh, type 1 string\n",
            "fonts/DeaschloGC-Regular.ttf: TrueType Font data, 15 tables, 1st \"FFTM\", 28 names, Macintosh\n",
            "fonts/dluthchlo.ttf:          TrueType Font data, 15 tables, 1st \"FFTM\", 28 names, Macintosh\n",
            "fonts/DubhchloGC-Regular.ttf: TrueType Font data, 15 tables, 1st \"FFTM\", 28 names, Macintosh\n",
            "fonts/fiorchlo.ttf:           TrueType Font data, 15 tables, 1st \"FFTM\", 28 names, Macintosh\n",
            "fonts/Gadelica.ttf:           TrueType Font data, 15 tables, 1st \"FFTM\", 14 names, Macintosh\n",
            "fonts/gear.ttf:               TrueType Font data, 15 tables, 1st \"FFTM\", 32 names, Macintosh\n",
            "fonts/glangc.ttf:             TrueType Font data, 15 tables, 1st \"FFTM\", 32 names, Macintosh\n",
            "fonts/glanigc.ttf:            TrueType Font data, 15 tables, 1st \"FFTM\", 32 names, Macintosh\n",
            "fonts/glantgc.ttf:            TrueType Font data, 15 tables, 1st \"FFTM\", 30 names, Macintosh\n",
            "fonts/langc.ttf:              TrueType Font data, 15 tables, 1st \"FFTM\", 32 names, Macintosh\n",
            "fonts/lanigc.ttf:             TrueType Font data, 15 tables, 1st \"FFTM\", 30 names, Macintosh\n",
            "fonts/lantgc.ttf:             TrueType Font data, 15 tables, 1st \"FFTM\", 30 names, Macintosh\n",
            "fonts/lomchlo iodalach.ttf:   TrueType Font data, 15 tables, 1st \"FFTM\", 30 names, Macintosh\n",
            "fonts/lomchlo trom.ttf:       TrueType Font data, 15 tables, 1st \"FFTM\", 30 names, Macintosh\n",
            "fonts/lomchlo.ttf:            TrueType Font data, 15 tables, 1st \"FFTM\", 30 names, Macintosh\n",
            "fonts/Macalla-Regular.ttf:    TrueType Font data, digitally signed, 18 tables, 1st \"DSIG\", 18 names, Macintosh, Copyright \\251 2018 by Matthew McDonagh. All rights reserved.MacallaRegular1.001;UKWN;Macalla-Re\n",
            "fonts/mearchlo.ttf:           TrueType Font data, 15 tables, 1st \"FFTM\", 28 names, Macintosh\n",
            "fonts/mini.ttf:               TrueType Font data, 15 tables, 1st \"FFTM\", 28 names, Macintosh\n",
            "fonts/min.ttf:                TrueType Font data, 15 tables, 1st \"FFTM\", 28 names, Macintosh\n",
            "fonts/mint.ttf:               TrueType Font data, 15 tables, 1st \"FFTM\", 28 names, Macintosh\n",
            "fonts/mionchlo.ttf:           TrueType Font data, 15 tables, 1st \"FFTM\", 30 names, Macintosh\n",
            "fonts/morchlo.ttf:            TrueType Font data, 15 tables, 1st \"FFTM\", 30 names, Macintosh\n",
            "fonts/Seanchlo Dubh.ttf:      TrueType Font data, 19 tables, 1st \"GDEF\", 34 names, Macintosh, 'De bh\\341igh le hInis \\311ilge/ Do dh\\341il Seanchl\\363 Gaeilge/ D'athbheo\\372 \\341r dteanga tr\n",
            "fonts/Seanchlo Trom.ttf:      TrueType Font data, 18 tables, 1st \"LTSH\", 34 names, Macintosh, \\251 Vincent Morley 1998-2004.  \"De bh\\341igh le hInis \\311ilge/ do dh\\341il Seanchl\\363 Gaeilge\n",
            "fonts/seangc.ttf:             TrueType Font data, 15 tables, 1st \"FFTM\", 30 names, Macintosh\n",
            "fonts/seantgc.ttf:            TrueType Font data, 15 tables, 1st \"FFTM\", 30 names, Macintosh\n",
            "fonts/urgc.ttf:               TrueType Font data, 15 tables, 1st \"FFTM\", 30 names, Macintosh\n",
            "fonts/urigc.ttf:              TrueType Font data, 15 tables, 1st \"FFTM\", 30 names, Macintosh\n",
            "fonts/urtgc.ttf:              TrueType Font data, 15 tables, 1st \"FFTM\", 28 names, Macintosh\n"
          ]
        }
      ]
    },
    {
      "cell_type": "code",
      "source": [
        "!trdg -c 1000 -i gle_uncial.training_text --font_dir fonts"
      ],
      "metadata": {
        "colab": {
          "base_uri": "https://localhost:8080/"
        },
        "id": "thw5dAwp6ZYz",
        "outputId": "96452b3c-9b86-4db4-ed4e-bc941567ee23"
      },
      "execution_count": null,
      "outputs": [
        {
          "output_type": "stream",
          "name": "stdout",
          "text": [
            "2024-06-19 19:24:30.526432: E external/local_xla/xla/stream_executor/cuda/cuda_dnn.cc:9261] Unable to register cuDNN factory: Attempting to register factory for plugin cuDNN when one has already been registered\n",
            "2024-06-19 19:24:30.526499: E external/local_xla/xla/stream_executor/cuda/cuda_fft.cc:607] Unable to register cuFFT factory: Attempting to register factory for plugin cuFFT when one has already been registered\n",
            "2024-06-19 19:24:30.528778: E external/local_xla/xla/stream_executor/cuda/cuda_blas.cc:1515] Unable to register cuBLAS factory: Attempting to register factory for plugin cuBLAS when one has already been registered\n",
            "2024-06-19 19:24:30.541452: I tensorflow/core/platform/cpu_feature_guard.cc:182] This TensorFlow binary is optimized to use available CPU instructions in performance-critical operations.\n",
            "To enable the following instructions: AVX2 FMA, in other operations, rebuild TensorFlow with the appropriate compiler flags.\n",
            "2024-06-19 19:24:32.057051: W tensorflow/compiler/tf2tensorrt/utils/py_utils.cc:38] TF-TRT Warning: Could not find TensorRT\n",
            "  5% 49/1000 [00:03<01:41,  9.38it/s]"
          ]
        }
      ]
    }
  ]
}