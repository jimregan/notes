{
  "nbformat": 4,
  "nbformat_minor": 0,
  "metadata": {
    "colab": {
      "provenance": []
    },
    "kernelspec": {
      "name": "python3",
      "display_name": "Python 3"
    },
    "language_info": {
      "name": "python"
    }
  },
  "cells": [
    {
      "cell_type": "code",
      "execution_count": 21,
      "metadata": {
        "id": "C5GlD_9OjJZj"
      },
      "outputs": [],
      "source": [
        "FONT_LINKS = \"\"\"\n",
        "https://web.archive.org/web/20130404225932/http://www.iol.ie/~sob/gadelica.zip\n",
        "http://web.archive.org/web/20120830224624/http://www.gaelchlo.com/bunardgc.zip\n",
        "http://web.archive.org/web/20220322030900/https://www.gaelchlo.com/bunargc.zip\n",
        "http://web.archive.org/web/20120830224559/http://www.gaelchlo.com/bunartgc.zip\n",
        "http://web.archive.org/web/20191216105737/http://www.gaelchlo.com/bundgc.zip\n",
        "http://web.archive.org/web/20120830224343/http://www.gaelchlo.com/bunnod.zip\n",
        "http://web.archive.org/web/20191218121436/http://www.gaelchlo.com/buntgc.zip\n",
        "http://web.archive.org/web/20160408212120/http://gaelchlo.com/seandgc.zip\n",
        "http://web.archive.org/web/20160408212013/http://gaelchlo.com/seantgc.zip\n",
        "http://web.archive.org/web/20220322030900/https://www.gaelchlo.com/bunargc.zip\n",
        "http://web.archive.org/web/20240119141814/https://www.gaelchlo.com/bungc.zip\n",
        "http://web.archive.org/web/20160408212120/http://gaelchlo.com/seandgc.zip\n",
        "http://web.archive.org/web/20240119143113/https://www.gaelchlo.com/seangc.zip\n",
        "http://web.archive.org/web/20160408212013/http://gaelchlo.com/seantgc.zip\n",
        "http://web.archive.org/web/20240619180031/http://www.gaelchlo.com/urgc.zip\n",
        "\"\"\""
      ]
    },
    {
      "cell_type": "code",
      "source": [
        "FONTS = [x for x in FONT_LINKS.split(\"\\n\") if x != \"\"]"
      ],
      "metadata": {
        "id": "o43_7AS8jU5o"
      },
      "execution_count": 22,
      "outputs": []
    },
    {
      "cell_type": "code",
      "source": [
        "for font in FONTS:\n",
        "  !wget {font}\n",
        "  !unzip {font.split(\"/\")[-1]}"
      ],
      "metadata": {
        "id": "4qc5yu1ZkaoH"
      },
      "execution_count": null,
      "outputs": []
    },
    {
      "cell_type": "code",
      "source": [
        "!mkdir fonts\n",
        "!mv *.ttf fonts"
      ],
      "metadata": {
        "id": "kXbUV6wonveb"
      },
      "execution_count": 11,
      "outputs": []
    },
    {
      "cell_type": "code",
      "source": [
        "!apt install fontforge"
      ],
      "metadata": {
        "id": "ujKxfdNjn9z5"
      },
      "execution_count": null,
      "outputs": []
    },
    {
      "cell_type": "code",
      "source": [
        "!for i in */*otf;do ttf=$(basename \"$i\" .otf).ttf; echo fontforge -c 'Open(\"' \"$i\" '\"); Generate(\"' \"fonts/$ttf\" '\")';done"
      ],
      "metadata": {
        "colab": {
          "base_uri": "https://localhost:8080/"
        },
        "id": "30iHyUB7oIuM",
        "outputId": "4f89f377-2c0f-482d-9af6-40d816f9974f"
      },
      "execution_count": 26,
      "outputs": [
        {
          "output_type": "stream",
          "name": "stdout",
          "text": [
            "fontforge -c Open(\" bunargc/bunargc.otf \"); Generate(\" fonts/bunargc.ttf \")\n",
            "fontforge -c Open(\" bungc/bundgc.otf \"); Generate(\" fonts/bundgc.ttf \")\n",
            "fontforge -c Open(\" bungc/bungc.otf \"); Generate(\" fonts/bungc.ttf \")\n",
            "fontforge -c Open(\" bungc/bunigc.otf \"); Generate(\" fonts/bunigc.ttf \")\n",
            "fontforge -c Open(\" bungc/buntgc.otf \"); Generate(\" fonts/buntgc.ttf \")\n",
            "fontforge -c Open(\" gadelica/Gadelica.otf \"); Generate(\" fonts/Gadelica.ttf \")\n",
            "fontforge -c Open(\" seangc/seangc.otf \"); Generate(\" fonts/seangc.ttf \")\n",
            "fontforge -c Open(\" seangc/seantgc.otf \"); Generate(\" fonts/seantgc.ttf \")\n",
            "fontforge -c Open(\" urgc/urgc.otf \"); Generate(\" fonts/urgc.ttf \")\n",
            "fontforge -c Open(\" urgc/urigc.otf \"); Generate(\" fonts/urigc.ttf \")\n",
            "fontforge -c Open(\" urgc/urtgc.otf \"); Generate(\" fonts/urtgc.ttf \")\n"
          ]
        }
      ]
    },
    {
      "cell_type": "code",
      "source": [
        "'Open(\"my.ttf\"); Generate(\"my.otf\")'"
      ],
      "metadata": {
        "id": "0ZOafyNnrkCr"
      },
      "execution_count": null,
      "outputs": []
    }
  ]
}