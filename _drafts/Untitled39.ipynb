{
  "nbformat": 4,
  "nbformat_minor": 0,
  "metadata": {
    "colab": {
      "provenance": [],
      "gpuType": "T4"
    },
    "kernelspec": {
      "name": "python3",
      "display_name": "Python 3"
    },
    "language_info": {
      "name": "python"
    },
    "accelerator": "GPU"
  },
  "cells": [
    {
      "cell_type": "code",
      "source": [
        "import requests\n",
        "from bs4 import BeautifulSoup\n",
        "\n",
        "def get_page_text_and_audio(url, poetry=True):\n",
        "    req = requests.get(url)\n",
        "    if req.status_code != 200:\n",
        "        return None\n",
        "    soup = BeautifulSoup(req.text, 'html.parser')\n",
        "\n",
        "    page_text = soup.find(\"div\", {\"class\": \"page-text\"})\n",
        "\n",
        "    audio_file = \"\"\n",
        "    audio = page_text.find(\"audio\")\n",
        "    if audio is not None:\n",
        "        source = audio.find(\"source\")\n",
        "        if source is not None:\n",
        "            audio_file = \"https://www.leighleat.com\" + source[\"src\"]\n",
        "    audio.decompose()\n",
        "\n",
        "    if poetry:\n",
        "        out_text = page_text.text.strip()\n",
        "    else:\n",
        "        pass\n",
        "\n",
        "    return out_text, audio_file"
      ],
      "metadata": {
        "id": "uhy1tSr8Aqs8"
      },
      "execution_count": null,
      "outputs": []
    },
    {
      "cell_type": "code",
      "source": [
        "page_text, audio_url = get_page_text_and_audio(\"https://www.leighleat.com/poems/26\")"
      ],
      "metadata": {
        "id": "T4tqTE_zB2CY"
      },
      "execution_count": null,
      "outputs": []
    },
    {
      "cell_type": "code",
      "source": [
        "audio_file = audio_url.split(\"/\")[-1]\n",
        "!wget {audio_url} -O {audio_file}"
      ],
      "metadata": {
        "id": "HtNypDuhQysH"
      },
      "execution_count": null,
      "outputs": []
    },
    {
      "cell_type": "code",
      "source": [
        "wav_file = audio_file.replace(\".mp3\", \".wav\")\n",
        "!ffmpeg -i {audio_file} -acodec pcm_s16le -ac 1 -ar 16000 {wav_file}"
      ],
      "metadata": {
        "id": "bKaY6y6JQ9Lt"
      },
      "execution_count": null,
      "outputs": []
    },
    {
      "cell_type": "code",
      "source": [
        "%%capture\n",
        "%pip install git+https://github.com/pyf98/espnet@owsm-ctc\n",
        "%pip install espnet_model_zoo flash-attn"
      ],
      "metadata": {
        "id": "1bvk3BtURPub"
      },
      "execution_count": null,
      "outputs": []
    },
    {
      "cell_type": "code",
      "source": [
        "import soundfile as sf\n",
        "import numpy as np\n",
        "import librosa\n",
        "import kaldiio\n",
        "from espnet2.bin.s2t_inference_ctc import Speech2TextGreedySearch\n",
        "\n",
        "\n",
        "s2t = Speech2TextGreedySearch.from_pretrained(\n",
        "    \"pyf98/owsm_ctc_v3.1_1B\",\n",
        "    device=\"cuda\",\n",
        "    generate_interctc_outputs=False,\n",
        "    lang_sym='<gle>',\n",
        "    task_sym='<asr>',\n",
        ")\n",
        "\n",
        "speech, rate = sf.read(wav_file)\n",
        "\n",
        "speech = librosa.util.fix_length(speech, size=(16000 * 30))\n",
        "\n",
        "res = s2t(speech)[0]\n",
        "print(res)\n"
      ],
      "metadata": {
        "id": "q3mE2pQTRgza"
      },
      "execution_count": null,
      "outputs": []
    },
    {
      "cell_type": "code",
      "source": [
        "utt_text = [f\"utt{x} {y}\" for x, y in enumerate(page_text.split(\"\\n\"), start=1)]"
      ],
      "metadata": {
        "id": "ifzkIudMSH97"
      },
      "execution_count": null,
      "outputs": []
    },
    {
      "cell_type": "code",
      "source": [
        "!apt install git-lfs"
      ],
      "metadata": {
        "id": "LkuaB8jXWQr5"
      },
      "execution_count": null,
      "outputs": []
    },
    {
      "cell_type": "code",
      "source": [
        "!git lfs install"
      ],
      "metadata": {
        "colab": {
          "base_uri": "https://localhost:8080/"
        },
        "id": "oc5f_48pWcHU",
        "outputId": "54499528-b384-412e-d33c-08e3c75b48fe"
      },
      "execution_count": null,
      "outputs": [
        {
          "output_type": "stream",
          "name": "stdout",
          "text": [
            "Git LFS initialized.\n"
          ]
        }
      ]
    },
    {
      "cell_type": "code",
      "source": [
        "!git clone https://huggingface.co/pyf98/owsm_ctc_v3.1_1B"
      ],
      "metadata": {
        "id": "9Yic5oAMTNae"
      },
      "execution_count": null,
      "outputs": []
    },
    {
      "cell_type": "code",
      "source": [
        "import soundfile as sf\n",
        "from espnet2.bin.s2t_ctc_align import CTCSegmentation\n",
        "\n",
        "%cd owsm_ctc_v3.1_1B\n",
        "\n",
        "aligner = CTCSegmentation(\n",
        "    s2t_model_file=\"exp/s2t_train_s2t_multitask-ctc_ebf27_conv2d8_size1024_raw_bpe50000/valid.total_count.ave_5best.till45epoch.pth\",\n",
        "    fs=16000,\n",
        "    ngpu=1,\n",
        "    batch_size=16,    # batched parallel decoding; reduce it if your GPU memory is smaller\n",
        "    kaldi_style_text=True,\n",
        "    time_stamps=\"fixed\",\n",
        "    samples_to_frames_ratio=1280,   # 80ms time shift; don't change as it depends on the pre-trained model\n",
        "    lang_sym=\"<gle>\",\n",
        "    task_sym=\"<asr>\",\n",
        "    context_len_in_secs=2,  # left and right context in buffered decoding\n",
        "    frames_per_sec=12.5,    # 80ms time shift; don't change as it depends on the pre-trained model\n",
        ")\n",
        "\n",
        "speech, rate = sf.read(\"../\" + wav_file)\n",
        "print(f\"speech duration: {len(speech) / rate : .2f} seconds\")\n",
        "\n",
        "segments = aligner(speech, utt_text)\n",
        "print(segments)\n"
      ],
      "metadata": {
        "id": "akcUedLrR9Qi"
      },
      "execution_count": null,
      "outputs": []
    }
  ]
}