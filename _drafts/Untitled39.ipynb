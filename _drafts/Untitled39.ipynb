{
  "nbformat": 4,
  "nbformat_minor": 0,
  "metadata": {
    "colab": {
      "provenance": []
    },
    "kernelspec": {
      "name": "python3",
      "display_name": "Python 3"
    },
    "language_info": {
      "name": "python"
    }
  },
  "cells": [
    {
      "cell_type": "code",
      "execution_count": null,
      "metadata": {
        "id": "0uLVsWnrnHUF"
      },
      "outputs": [],
      "source": [
        "COUNT_DIGITS = {\n",
        "    1: \"a haon\",\n",
        "    2: \"a dó\",\n",
        "    3: \"a trí\",\n",
        "    4: \"a ceathair\",\n",
        "    5: \"a cúig\",\n",
        "    6: \"a sé\",\n",
        "    7: \"a seacht\",\n",
        "    8: \"a hocht\",\n",
        "    9: \"a naoi\"\n",
        "}"
      ]
    },
    {
      "cell_type": "code",
      "source": [
        "DIALECT_MU = {\n",
        "    \"anseo\": \"anso\",\n",
        "    \"ansin\": \"ansan\",\n",
        "    \"dtús\", \"dtúis\",\n",
        "    \"tosú\": \"tosnú\",\n",
        "    \"tosóidh\": \"tosnóidh\",\n",
        "    \"atá\": \"athá\",\n",
        "    \"atá tú\": \"athánn tú\",\n",
        "    \"léi\": \"léithe\",\n",
        "    \"arís\": \"aríst\"\n",
        "}"
      ],
      "metadata": {
        "id": "mifqpQlPnzMG"
      },
      "execution_count": null,
      "outputs": []
    },
    {
      "cell_type": "code",
      "source": [
        "PAGE_SPECIFIC = {\n",
        "    \"181\": {\n",
        "        \"Mar 'Tháinig\": \"Mar a Tháinig\",\n",
        "        \"Cabidil\": \"Caibidil\",\n",
        "        \"mar Chuir\": \"mar a Chuir\"\n",
        "    },\n",
        "    \"190\": {\n",
        "        \"nuair d'fhéach\": \"nuair a d'fhéach\"\n",
        "    },\n",
        "    \"191\": {\n",
        "        \"le mo\": \"lem\"\n",
        "    }\n",
        "}"
      ],
      "metadata": {
        "id": "eljta9kyoX4y"
      },
      "execution_count": null,
      "outputs": []
    },
    {
      "cell_type": "code",
      "source": [
        "def skip_if_colon(text):\n",
        "    if \":\" in text:\n",
        "        return \"\"\n",
        "    else:\n",
        "      return text\n",
        "\n",
        "def skip_art(text):\n",
        "    if text.startswith(\"(Ealaín:\"):\n",
        "        return \"\"\n",
        "    else:\n",
        "        return text"
      ],
      "metadata": {
        "id": "TtTn7nd3xXeD"
      },
      "execution_count": null,
      "outputs": []
    },
    {
      "cell_type": "code",
      "source": [
        "import requests\n",
        "from bs4 import BeautifulSoup\n",
        "\n",
        "def get_page_text_and_audio(url, poetry=True):\n",
        "    req = requests.get(url)\n",
        "    if req.status_code != 200:\n",
        "        return None\n",
        "    soup = BeautifulSoup(req.text, 'html.parser')\n",
        "\n",
        "    page_text = soup.find(\"div\", {\"class\": \"page-text\"})\n",
        "\n",
        "    audio_file = \"\"\n",
        "    audio = page_text.find(\"audio\")\n",
        "    if audio is not None:\n",
        "        source = audio.find(\"source\")\n",
        "        if source is not None:\n",
        "            audio_file = \"https://www.leighleat.com\" + source[\"src\"]\n",
        "    audio.decompose()\n",
        "\n",
        "    if poetry:\n",
        "        out_text = page_text.text.strip()\n",
        "    else:\n",
        "        pass\n",
        "\n",
        "    return out_text, audio_file"
      ],
      "metadata": {
        "id": "uhy1tSr8Aqs8"
      },
      "execution_count": 11,
      "outputs": []
    },
    {
      "cell_type": "code",
      "source": [
        "get_page_text_and_audio(\"https://www.leighleat.com/poems/26\")"
      ],
      "metadata": {
        "colab": {
          "base_uri": "https://localhost:8080/"
        },
        "id": "T4tqTE_zB2CY",
        "outputId": "441fa041-6016-4c74-e3c4-f988f6b1cec5"
      },
      "execution_count": 12,
      "outputs": [
        {
          "output_type": "execute_result",
          "data": {
            "text/plain": [
              "('Damhán Alla\\nDamhán alla\\nDamhán alla\\nAr an mballa\\nAr an mballa\\nTháinig éan\\nTháinig éan\\nÓ mo léan\\nÓ mo léan!',\n",
              " 'https://www.leighleat.com/rails/active_storage/blobs/redirect/eyJfcmFpbHMiOnsibWVzc2FnZSI6IkJBaHBBdmdNIiwiZXhwIjpudWxsLCJwdXIiOiJibG9iX2lkIn19--1e2441aa5cfdfdc2ed88fafc4a1ed354739f6af6/damhan%20alla.mp3')"
            ]
          },
          "metadata": {},
          "execution_count": 12
        }
      ]
    }
  ]
}