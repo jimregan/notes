{
  "cells": [
    {
      "cell_type": "markdown",
      "metadata": {},
      "source": [
        "# OWSM-CTC with CTCSegmentation for Irish\n",
        "\n",
        "> \"tl;dr: OWSM-CTC is good enough for alignment for Irish\"\n",
        "\n",
        "- branch: master\n",
        "- toc: false\n",
        "- categories: [owsm, ctc, alignment, irish]"
      ]
    },
    {
      "cell_type": "code",
      "execution_count": 4,
      "metadata": {
        "id": "uhy1tSr8Aqs8"
      },
      "outputs": [],
      "source": [
        "import requests\n",
        "from bs4 import BeautifulSoup\n",
        "\n",
        "def get_page_text_and_audio(url, poetry=True):\n",
        "    req = requests.get(url)\n",
        "    if req.status_code != 200:\n",
        "        return None\n",
        "    soup = BeautifulSoup(req.text, 'html.parser')\n",
        "\n",
        "    page_text = soup.find(\"div\", {\"class\": \"page-text\"})\n",
        "\n",
        "    audio_file = \"\"\n",
        "    audio = page_text.find(\"audio\")\n",
        "    if audio is not None:\n",
        "        source = audio.find(\"source\")\n",
        "        if source is not None:\n",
        "            audio_file = \"https://www.leighleat.com\" + source[\"src\"]\n",
        "    audio.decompose()\n",
        "\n",
        "    if poetry:\n",
        "        out_text = page_text.text.strip()\n",
        "    else:\n",
        "        pass\n",
        "\n",
        "    return out_text, audio_file"
      ]
    },
    {
      "cell_type": "code",
      "execution_count": 5,
      "metadata": {
        "id": "T4tqTE_zB2CY"
      },
      "outputs": [],
      "source": [
        "page_text, audio_url = get_page_text_and_audio(\"https://www.leighleat.com/poems/26\")"
      ]
    },
    {
      "cell_type": "code",
      "execution_count": null,
      "metadata": {
        "id": "HtNypDuhQysH"
      },
      "outputs": [],
      "source": [
        "audio_file = audio_url.split(\"/\")[-1]\n",
        "!wget {audio_url} -O {audio_file}"
      ]
    },
    {
      "cell_type": "code",
      "execution_count": null,
      "metadata": {
        "id": "bKaY6y6JQ9Lt"
      },
      "outputs": [],
      "source": [
        "%%capture\n",
        "wav_file = audio_file.replace(\".mp3\", \".wav\")\n",
        "!ffmpeg -i {audio_file} -acodec pcm_s16le -ac 1 -ar 16000 {wav_file}"
      ]
    },
    {
      "cell_type": "markdown",
      "metadata": {},
      "source": [
        "This was for Colab, but the free GPU doesn't have enough RAM for `CTCSegmentation`"
      ]
    },
    {
      "cell_type": "code",
      "execution_count": null,
      "metadata": {
        "id": "1bvk3BtURPub"
      },
      "outputs": [],
      "source": [
        "#%%capture\n",
        "#%pip install git+https://github.com/pyf98/espnet@owsm-ctc\n",
        "#%pip install espnet_model_zoo flash-attn"
      ]
    },
    {
      "cell_type": "markdown",
      "metadata": {},
      "source": [
        "Not a single word of this was correct"
      ]
    },
    {
      "cell_type": "code",
      "execution_count": null,
      "metadata": {
        "id": "q3mE2pQTRgza"
      },
      "outputs": [],
      "source": [
        "import soundfile as sf\n",
        "import numpy as np\n",
        "import librosa\n",
        "from espnet2.bin.s2t_inference_ctc import Speech2TextGreedySearch\n",
        "\n",
        "\n",
        "s2t = Speech2TextGreedySearch.from_pretrained(\n",
        "    \"pyf98/owsm_ctc_v3.1_1B\",\n",
        "    device=\"cuda\",\n",
        "    generate_interctc_outputs=False,\n",
        "    lang_sym='<gle>',\n",
        "    task_sym='<asr>',\n",
        ")\n",
        "\n",
        "speech, rate = sf.read(wav_file)\n",
        "\n",
        "speech = librosa.util.fix_length(speech, size=(16000 * 30))\n",
        "\n",
        "res = s2t(speech)[0]\n",
        "print(res)\n"
      ]
    },
    {
      "cell_type": "code",
      "execution_count": 8,
      "metadata": {
        "id": "ifzkIudMSH97"
      },
      "outputs": [],
      "source": [
        "utt_text = [f\"utt{x} {y}\" for x, y in enumerate(page_text.split(\"\\n\"), start=1)]"
      ]
    },
    {
      "cell_type": "code",
      "execution_count": null,
      "metadata": {
        "id": "LkuaB8jXWQr5"
      },
      "outputs": [],
      "source": [
        "#!apt install git-lfs"
      ]
    },
    {
      "cell_type": "code",
      "execution_count": null,
      "metadata": {
        "colab": {
          "base_uri": "https://localhost:8080/"
        },
        "id": "oc5f_48pWcHU",
        "outputId": "54499528-b384-412e-d33c-08e3c75b48fe"
      },
      "outputs": [
        {
          "name": "stdout",
          "output_type": "stream",
          "text": [
            "Git LFS initialized.\n"
          ]
        }
      ],
      "source": [
        "#!git lfs install"
      ]
    },
    {
      "cell_type": "code",
      "execution_count": null,
      "metadata": {
        "id": "9Yic5oAMTNae"
      },
      "outputs": [],
      "source": [
        "#!git clone https://huggingface.co/pyf98/owsm_ctc_v3.1_1B"
      ]
    },
    {
      "cell_type": "code",
      "execution_count": null,
      "metadata": {},
      "outputs": [],
      "source": [
        "#!ln -sd owsm_ctc_v3.1_1B/data/\n",
        "#!ln -sd owsm_ctc_v3.1_1B/exp/"
      ]
    },
    {
      "cell_type": "code",
      "execution_count": 20,
      "metadata": {},
      "outputs": [
        {
          "name": "stdout",
          "output_type": "stream",
          "text": [
            "/home/joregan/owsm-ctc\n",
            "damhan%20alla.wav\n"
          ]
        }
      ],
      "source": [
        "import soundfile as sf\n",
        "speech, rate = sf.read(wav_file)"
      ]
    },
    {
      "cell_type": "code",
      "execution_count": null,
      "metadata": {
        "id": "akcUedLrR9Qi"
      },
      "outputs": [],
      "source": [
        "from espnet2.bin.s2t_ctc_align import CTCSegmentation\n",
        "\n",
        "aligner = CTCSegmentation(\n",
        "    s2t_model_file=\"exp/s2t_train_s2t_multitask-ctc_ebf27_conv2d8_size1024_raw_bpe50000/valid.total_count.ave_5best.till45epoch.pth\",\n",
        "    fs=16000,\n",
        "    ngpu=1,\n",
        "    batch_size=16,    # batched parallel decoding; reduce it if your GPU memory is smaller\n",
        "    kaldi_style_text=True,\n",
        "    time_stamps=\"fixed\",\n",
        "    samples_to_frames_ratio=1280,   # 80ms time shift; don't change as it depends on the pre-trained model\n",
        "    lang_sym=\"<gle>\",\n",
        "    task_sym=\"<asr>\",\n",
        "    context_len_in_secs=2,  # left and right context in buffered decoding\n",
        "    frames_per_sec=12.5,    # 80ms time shift; don't change as it depends on the pre-trained model\n",
        ")\n",
        "\n",
        "print(f\"speech duration: {len(speech) / rate : .2f} seconds\")\n",
        "\n",
        "segments = aligner(speech, utt_text)\n"
      ]
    },
    {
      "cell_type": "code",
      "execution_count": 30,
      "metadata": {},
      "outputs": [
        {
          "name": "stdout",
          "output_type": "stream",
          "text": [
            "utt1 utt 0.28 1.24 -1.2300\n",
            "utt2 utt 3.18 4.04 -0.8518\n",
            "utt3 utt 4.14 5.00 -1.3033\n",
            "utt4 utt 5.18 6.12 -1.4109\n",
            "utt5 utt 6.14 7.16 -1.6551\n",
            "utt6 utt 7.50 8.68 -1.0598\n",
            "utt7 utt 8.94 10.12 -0.9344\n",
            "utt8 utt 10.46 11.96 -0.6786\n",
            "utt9 utt 12.54 14.68 -0.8216\n",
            "\n"
          ]
        }
      ],
      "source": [
        "for segment in str(segments).split(\"\\n\"):\n",
        "    parts = segment.split(\" \")\n",
        "    print(\" \".join(parts[0:5]))"
      ]
    },
    {
      "cell_type": "code",
      "execution_count": 45,
      "metadata": {},
      "outputs": [],
      "source": [
        "def segments_to_audacity(segments, filename):\n",
        "    txt_segments = str(segments).split(\"\\n\")\n",
        "    with open(filename, \"w\") as outf:\n",
        "        for segment in txt_segments:\n",
        "            if segment == \"\":\n",
        "                continue\n",
        "            parts = segment.split(\" \")\n",
        "            start = parts[2]\n",
        "            end = parts[3]\n",
        "            text = \" \".join(parts[5:])\n",
        "            outparts = \"\\t\".join([start, end, text])\n",
        "            outf.write(outparts + \"\\n\")"
      ]
    },
    {
      "cell_type": "code",
      "execution_count": 46,
      "metadata": {},
      "outputs": [],
      "source": [
        "segments_to_audacity(segments, wav_file.replace(\".wav\", \".tsv\"))"
      ]
    },
    {
      "cell_type": "markdown",
      "metadata": {},
      "source": [
        "Labels adjusted with audacity: the timings aren't perfect"
      ]
    },
    {
      "cell_type": "code",
      "execution_count": 47,
      "metadata": {},
      "outputs": [
        {
          "name": "stdout",
          "output_type": "stream",
          "text": [
            "0.280000\t1.240000\n",
            "3.398818\t4.258818\n",
            "4.324453\t5.184453\n",
            "5.264552\t6.204552\n",
            "6.140000\t7.160000\n",
            "7.694345\t8.874345\n",
            "9.068335\t10.248335\n",
            "10.630345\t12.130345\n",
            "12.540000\t14.680000\n"
          ]
        }
      ],
      "source": [
        "!cat 'damhan%20alla.txt' |awk -F'\\t' '{print $1 \"\\t\" $2}'"
      ]
    }
  ],
  "metadata": {
    "accelerator": "GPU",
    "colab": {
      "gpuType": "T4",
      "provenance": []
    },
    "kernelspec": {
      "display_name": "Python 3",
      "name": "python3"
    },
    "language_info": {
      "codemirror_mode": {
        "name": "ipython",
        "version": 3
      },
      "file_extension": ".py",
      "mimetype": "text/x-python",
      "name": "python",
      "nbconvert_exporter": "python",
      "pygments_lexer": "ipython3",
      "version": "3.10.14"
    }
  },
  "nbformat": 4,
  "nbformat_minor": 0
}
