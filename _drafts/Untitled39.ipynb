{
  "nbformat": 4,
  "nbformat_minor": 0,
  "metadata": {
    "colab": {
      "provenance": []
    },
    "kernelspec": {
      "name": "python3",
      "display_name": "Python 3"
    },
    "language_info": {
      "name": "python"
    }
  },
  "cells": [
    {
      "cell_type": "code",
      "execution_count": 21,
      "metadata": {
        "id": "C5GlD_9OjJZj"
      },
      "outputs": [],
      "source": [
        "FONT_LINKS = \"\"\"\n",
        "https://web.archive.org/web/20130404225932/http://www.iol.ie/~sob/gadelica.zip\n",
        "http://web.archive.org/web/20120830224624/http://www.gaelchlo.com/bunardgc.zip\n",
        "http://web.archive.org/web/20220322030900/https://www.gaelchlo.com/bunargc.zip\n",
        "http://web.archive.org/web/20120830224559/http://www.gaelchlo.com/bunartgc.zip\n",
        "http://web.archive.org/web/20191216105737/http://www.gaelchlo.com/bundgc.zip\n",
        "http://web.archive.org/web/20120830224343/http://www.gaelchlo.com/bunnod.zip\n",
        "http://web.archive.org/web/20191218121436/http://www.gaelchlo.com/buntgc.zip\n",
        "http://web.archive.org/web/20160408212120/http://gaelchlo.com/seandgc.zip\n",
        "http://web.archive.org/web/20160408212013/http://gaelchlo.com/seantgc.zip\n",
        "http://web.archive.org/web/20220322030900/https://www.gaelchlo.com/bunargc.zip\n",
        "http://web.archive.org/web/20240119141814/https://www.gaelchlo.com/bungc.zip\n",
        "http://web.archive.org/web/20160408212120/http://gaelchlo.com/seandgc.zip\n",
        "http://web.archive.org/web/20240119143113/https://www.gaelchlo.com/seangc.zip\n",
        "http://web.archive.org/web/20160408212013/http://gaelchlo.com/seantgc.zip\n",
        "http://web.archive.org/web/20240619180031/http://www.gaelchlo.com/urgc.zip\n",
        "http://web.archive.org/web/20240119141944/https://www.gaelchlo.com/aongc.zip\n",
        "http://web.archive.org/web/20240619182847/https://www.gaelchlo.com/ardeorgc.zip\n",
        "http://web.archive.org/web/20240119142032/https://www.gaelchlo.com/ardgc.zip\n",
        "http://web.archive.org/web/20240119142040/https://www.gaelchlo.com/barrgc.zip\n",
        "http://web.archive.org/web/20240119142035/https://www.gaelchlo.com/casgc.zip\n",
        "http://web.archive.org/web/20240619182918/https://www.gaelchlo.com/corrgc.zip\n",
        "http://web.archive.org/web/20240119142042/https://www.gaelchlo.com/deasgc.zip\n",
        "http://web.archive.org/web/20240119142045/https://www.gaelchlo.com/dluthgc.zip\n",
        "http://web.archive.org/web/20240119142026/https://www.gaelchlo.com/dubhgc.zip\n",
        "http://web.archive.org/web/20240119142025/https://www.gaelchlo.com/fiorgc.zip\n",
        "http://web.archive.org/web/20240119142051/https://www.gaelchlo.com/geargc.zip\n",
        "http://web.archive.org/web/20240119142055/https://www.gaelchlo.com/glangc.zip\n",
        "http://web.archive.org/web/20240119143123/https://www.gaelchlo.com/langc.zip\n",
        "http://web.archive.org/web/20240619183031/https://www.gaelchlo.com/lomgc.zip\n",
        "http://web.archive.org/web/20240619183107/https://www.gaelchlo.com/meargc.zip\n",
        "http://web.archive.org/web/20240619183125/https://www.gaelchlo.com/mingc.zip\n",
        "\"\"\""
      ]
    },
    {
      "cell_type": "code",
      "source": [
        "FONTS = [x for x in FONT_LINKS.split(\"\\n\") if x != \"\"]"
      ],
      "metadata": {
        "id": "o43_7AS8jU5o"
      },
      "execution_count": 22,
      "outputs": []
    },
    {
      "cell_type": "code",
      "source": [
        "for font in FONTS:\n",
        "  !wget {font}\n",
        "  !unzip {font.split(\"/\")[-1]}"
      ],
      "metadata": {
        "id": "4qc5yu1ZkaoH"
      },
      "execution_count": null,
      "outputs": []
    },
    {
      "cell_type": "code",
      "source": [
        "!mkdir fonts\n",
        "!mv *.ttf fonts"
      ],
      "metadata": {
        "id": "kXbUV6wonveb"
      },
      "execution_count": 11,
      "outputs": []
    },
    {
      "cell_type": "code",
      "source": [
        "%%capture\n",
        "!apt install python3-fontforge"
      ],
      "metadata": {
        "id": "ujKxfdNjn9z5"
      },
      "execution_count": null,
      "outputs": []
    },
    {
      "cell_type": "code",
      "source": [
        "%%capture\n",
        "!apt install lynx"
      ],
      "metadata": {
        "id": "j1k-z0_WuObq"
      },
      "execution_count": null,
      "outputs": []
    },
    {
      "cell_type": "code",
      "source": [
        "!lynx -dump https://www.gaelchlo.com/clonna1.html|grep html|grep '[12][0-9]\\.'|awk '{print $2}'|while read i;do lynx -dump $i|grep zip;done|grep https|awk '{print $2}'|sort|uniq > fontlist"
      ],
      "metadata": {
        "id": "NeVE-dbPuL0-"
      },
      "execution_count": 40,
      "outputs": []
    },
    {
      "cell_type": "code",
      "source": [
        "!wget -i fontlist"
      ],
      "metadata": {
        "id": "AQ7Pt55Ou1Wh"
      },
      "execution_count": null,
      "outputs": []
    },
    {
      "cell_type": "code",
      "source": [
        "%%capture\n",
        "!for i in *zip;do unzip -o $i;done"
      ],
      "metadata": {
        "id": "sV_sYrEPvDQT"
      },
      "execution_count": null,
      "outputs": []
    },
    {
      "cell_type": "code",
      "source": [
        "!cat fontlist|sort|uniq|grep -v 'w.zip$'|awk '{print \"http://web.archive.org/web/\" $0}' > iafonts\n",
        "#!wget -i iafonts -o iafonts.log"
      ],
      "metadata": {
        "id": "5V9rk0fdwLsp"
      },
      "execution_count": 52,
      "outputs": []
    },
    {
      "cell_type": "code",
      "source": [
        "from pathlib import Path\n",
        "import fontforge\n",
        "\n",
        "for otf in Path(\".\").glob(\"**/*.otf\"):\n",
        "    font = fontforge.open(str(otf))\n",
        "    outname = \"fonts/\" + otf.stem + \".ttf\"\n",
        "    font.save(outname)"
      ],
      "metadata": {
        "id": "CiQiAuATvvx_"
      },
      "execution_count": 70,
      "outputs": []
    },
    {
      "cell_type": "code",
      "source": [
        "!grep '^-' iafonts.log|grep 'web/2'|awk '{print $NF}' > iafonts-arc"
      ],
      "metadata": {
        "id": "zCDR1R00ykx9"
      },
      "execution_count": 50,
      "outputs": []
    },
    {
      "cell_type": "code",
      "source": [
        "!wc -l iafonts*"
      ],
      "metadata": {
        "colab": {
          "base_uri": "https://localhost:8080/"
        },
        "id": "-CsF0ox5y1Ld",
        "outputId": "bbe58ce1-8538-4e02-c405-d7cf07e86065"
      },
      "execution_count": 51,
      "outputs": [
        {
          "output_type": "stream",
          "name": "stdout",
          "text": [
            "   38 iafonts\n",
            "   33 iafonts-arc\n",
            "  545 iafonts.log\n",
            "  616 total\n"
          ]
        }
      ]
    },
    {
      "cell_type": "code",
      "source": [
        "!rm redo\n",
        "!cat iafonts|sed -e 's#http://web.archive.org/web/##'|while read i;do grep $i iafonts-arc || echo http://web.archive.org/web/$i >> redo;done"
      ],
      "metadata": {
        "colab": {
          "base_uri": "https://localhost:8080/"
        },
        "id": "RQDqnpGGzsgV",
        "outputId": "890161fd-0e12-4360-ee85-76291889b054"
      },
      "execution_count": 59,
      "outputs": [
        {
          "output_type": "stream",
          "name": "stdout",
          "text": [
            "http://web.archive.org/web/20240119141944/https://www.gaelchlo.com/aongc.zip\n",
            "http://web.archive.org/web/20240619182847/https://www.gaelchlo.com/ardeorgc.zip\n",
            "http://web.archive.org/web/20240119142032/https://www.gaelchlo.com/ardgc.zip\n",
            "http://web.archive.org/web/20240119142040/https://www.gaelchlo.com/barrgc.zip\n",
            "http://web.archive.org/web/20240119141814/https://www.gaelchlo.com/bungc.zip\n",
            "http://web.archive.org/web/20240119142035/https://www.gaelchlo.com/casgc.zip\n",
            "http://web.archive.org/web/20240619182918/https://www.gaelchlo.com/corrgc.zip\n",
            "http://web.archive.org/web/20240119142042/https://www.gaelchlo.com/deasgc.zip\n",
            "http://web.archive.org/web/20240119142045/https://www.gaelchlo.com/dluthgc.zip\n",
            "http://web.archive.org/web/20240119142026/https://www.gaelchlo.com/dubhgc.zip\n",
            "http://web.archive.org/web/20240119142025/https://www.gaelchlo.com/fiorgc.zip\n",
            "http://web.archive.org/web/20240119142051/https://www.gaelchlo.com/geargc.zip\n",
            "http://web.archive.org/web/20240119142055/https://www.gaelchlo.com/glangc.zip\n",
            "http://web.archive.org/web/20240119143123/https://www.gaelchlo.com/langc.zip\n",
            "http://web.archive.org/web/20240619183031/https://www.gaelchlo.com/lomgc.zip\n",
            "http://web.archive.org/web/20240619183107/https://www.gaelchlo.com/meargc.zip\n",
            "http://web.archive.org/web/20240619183125/https://www.gaelchlo.com/mingc.zip\n"
          ]
        }
      ]
    },
    {
      "cell_type": "code",
      "source": [
        "!wget -i redo"
      ],
      "metadata": {
        "colab": {
          "base_uri": "https://localhost:8080/"
        },
        "id": "yWCZ8sydz7Ow",
        "outputId": "d24726bd-3ab0-4cc6-83f0-db393cf9de13"
      },
      "execution_count": 61,
      "outputs": [
        {
          "output_type": "stream",
          "name": "stdout",
          "text": [
            "--2024-06-19 18:45:07--  http://web.archive.org/web/https://www.gaelchlo.com/miongc.zip\n",
            "Resolving web.archive.org (web.archive.org)... 207.241.237.3\n",
            "Connecting to web.archive.org (web.archive.org)|207.241.237.3|:80... connected.\n",
            "HTTP request sent, awaiting response... 302 FOUND\n",
            "Location: http://web.archive.org/save/_embed/https://www.gaelchlo.com/miongc.zip [following]\n",
            "--2024-06-19 18:45:07--  http://web.archive.org/save/_embed/https://www.gaelchlo.com/miongc.zip\n",
            "Reusing existing connection to web.archive.org:80.\n",
            "HTTP request sent, awaiting response... 302 FOUND\n",
            "Location: http://web.archive.org/web/20240619184509/https://www.gaelchlo.com/miongc.zip [following]\n",
            "--2024-06-19 18:45:14--  http://web.archive.org/web/20240619184509/https://www.gaelchlo.com/miongc.zip\n",
            "Reusing existing connection to web.archive.org:80.\n",
            "HTTP request sent, awaiting response... 302 FOUND\n",
            "Location: http://web.archive.org/save/_embed/https://www.gaelchlo.com/miongc.zip [following]\n",
            "--2024-06-19 18:45:14--  http://web.archive.org/save/_embed/https://www.gaelchlo.com/miongc.zip\n",
            "Reusing existing connection to web.archive.org:80.\n",
            "HTTP request sent, awaiting response... 429 TOO MANY REQUESTS\n",
            "2024-06-19 18:45:15 ERROR 429: TOO MANY REQUESTS.\n",
            "\n",
            "--2024-06-19 18:45:15--  http://web.archive.org/web/https://www.gaelchlo.com/morgc.zip\n",
            "Reusing existing connection to web.archive.org:80.\n",
            "HTTP request sent, awaiting response... 302 FOUND\n",
            "Location: http://web.archive.org/save/_embed/https://www.gaelchlo.com/morgc.zip [following]\n",
            "--2024-06-19 18:45:15--  http://web.archive.org/save/_embed/https://www.gaelchlo.com/morgc.zip\n",
            "Reusing existing connection to web.archive.org:80.\n",
            "HTTP request sent, awaiting response... 302 FOUND\n",
            "Location: http://web.archive.org/web/20240619184517/https://www.gaelchlo.com/morgc.zip [following]\n",
            "--2024-06-19 18:45:22--  http://web.archive.org/web/20240619184517/https://www.gaelchlo.com/morgc.zip\n",
            "Reusing existing connection to web.archive.org:80.\n",
            "HTTP request sent, awaiting response... 302 FOUND\n",
            "Location: http://web.archive.org/save/_embed/https://www.gaelchlo.com/morgc.zip [following]\n",
            "--2024-06-19 18:45:23--  http://web.archive.org/save/_embed/https://www.gaelchlo.com/morgc.zip\n",
            "Reusing existing connection to web.archive.org:80.\n",
            "HTTP request sent, awaiting response... 429 TOO MANY REQUESTS\n",
            "2024-06-19 18:45:24 ERROR 429: TOO MANY REQUESTS.\n",
            "\n"
          ]
        }
      ]
    },
    {
      "cell_type": "code",
      "source": [
        "!wget https://web.archive.org/web/20240619184509/https://www.gaelchlo.com/miongc.zip\n",
        "!wget http://web.archive.org/web/20240619184517/https://www.gaelchlo.com/morgc.zip\n",
        "!wget http://web.archive.org/web/https://inkwell.ie/font-packs/Macalla/Macalla-Regular-ttf.zip"
      ],
      "metadata": {
        "id": "xF7_XIQc0nsG"
      },
      "execution_count": null,
      "outputs": []
    },
    {
      "cell_type": "code",
      "source": [
        "%%capture\n",
        "!pip install trdg"
      ],
      "metadata": {
        "id": "2XvIoJMp5b82"
      },
      "execution_count": 68,
      "outputs": []
    },
    {
      "cell_type": "code",
      "source": [
        "!trdg -h"
      ],
      "metadata": {
        "colab": {
          "base_uri": "https://localhost:8080/"
        },
        "id": "TGAbznLj5mEe",
        "outputId": "a20e1cd5-3196-4773-8e30-44594bbea228"
      },
      "execution_count": 69,
      "outputs": [
        {
          "output_type": "stream",
          "name": "stdout",
          "text": [
            "2024-06-19 19:08:29.921778: E external/local_xla/xla/stream_executor/cuda/cuda_dnn.cc:9261] Unable to register cuDNN factory: Attempting to register factory for plugin cuDNN when one has already been registered\n",
            "2024-06-19 19:08:29.921953: E external/local_xla/xla/stream_executor/cuda/cuda_fft.cc:607] Unable to register cuFFT factory: Attempting to register factory for plugin cuFFT when one has already been registered\n",
            "2024-06-19 19:08:30.133667: E external/local_xla/xla/stream_executor/cuda/cuda_blas.cc:1515] Unable to register cuBLAS factory: Attempting to register factory for plugin cuBLAS when one has already been registered\n",
            "2024-06-19 19:08:30.571011: I tensorflow/core/platform/cpu_feature_guard.cc:182] This TensorFlow binary is optimized to use available CPU instructions in performance-critical operations.\n",
            "To enable the following instructions: AVX2 FMA, in other operations, rebuild TensorFlow with the appropriate compiler flags.\n",
            "2024-06-19 19:08:33.968024: W tensorflow/compiler/tf2tensorrt/utils/py_utils.cc:38] TF-TRT Warning: Could not find TensorRT\n",
            "usage: trdg [-h] [--output_dir [OUTPUT_DIR]] [-i [INPUT_FILE]] [-l [LANGUAGE]] -c [COUNT] [-rs]\n",
            "            [-let] [-num] [-sym] [-w [LENGTH]] [-r] [-f [FORMAT]] [-t [THREAD_COUNT]]\n",
            "            [-e [EXTENSION]] [-k [SKEW_ANGLE]] [-rk] [-wk] [-bl [BLUR]] [-rbl] [-b [BACKGROUND]]\n",
            "            [-hw] [-na NAME_FORMAT] [-om OUTPUT_MASK] [-obb OUTPUT_BBOXES] [-d [DISTORSION]]\n",
            "            [-do [DISTORSION_ORIENTATION]] [-wd [WIDTH]] [-al [ALIGNMENT]] [-or [ORIENTATION]]\n",
            "            [-tc [TEXT_COLOR]] [-sw [SPACE_WIDTH]] [-cs [CHARACTER_SPACING]] [-m [MARGINS]] [-fi]\n",
            "            [-ft [FONT]] [-fd [FONT_DIR]] [-id [IMAGE_DIR]] [-ca [CASE]] [-dt [DICT]] [-ws]\n",
            "            [-stw [STROKE_WIDTH]] [-stf [STROKE_FILL]] [-im [IMAGE_MODE]]\n",
            "\n",
            "Generate synthetic text data for text recognition.\n",
            "\n",
            "options:\n",
            "  -h, --help            show this help message and exit\n",
            "  --output_dir [OUTPUT_DIR]\n",
            "                        The output directory\n",
            "  -i [INPUT_FILE], --input_file [INPUT_FILE]\n",
            "                        When set, this argument uses a specified text file as source for the text\n",
            "  -l [LANGUAGE], --language [LANGUAGE]\n",
            "                        The language to use, should be fr (French), en (English), es (Spanish), de\n",
            "                        (German), ar (Arabic), cn (Chinese), ja (Japanese) or hi (Hindi)\n",
            "  -c [COUNT], --count [COUNT]\n",
            "                        The number of images to be created.\n",
            "  -rs, --random_sequences\n",
            "                        Use random sequences as the source text for the generation. Set\n",
            "                        '-let','-num','-sym' to use letters/numbers/symbols. If none specified,\n",
            "                        using all three.\n",
            "  -let, --include_letters\n",
            "                        Define if random sequences should contain letters. Only works with -rs\n",
            "  -num, --include_numbers\n",
            "                        Define if random sequences should contain numbers. Only works with -rs\n",
            "  -sym, --include_symbols\n",
            "                        Define if random sequences should contain symbols. Only works with -rs\n",
            "  -w [LENGTH], --length [LENGTH]\n",
            "                        Define how many words should be included in each generated sample. If the\n",
            "                        text source is Wikipedia, this is the MINIMUM length\n",
            "  -r, --random          Define if the produced string will have variable word count (with --length\n",
            "                        being the maximum)\n",
            "  -f [FORMAT], --format [FORMAT]\n",
            "                        Define the height of the produced images if horizontal, else the width\n",
            "  -t [THREAD_COUNT], --thread_count [THREAD_COUNT]\n",
            "                        Define the number of thread to use for image generation\n",
            "  -e [EXTENSION], --extension [EXTENSION]\n",
            "                        Define the extension to save the image with\n",
            "  -k [SKEW_ANGLE], --skew_angle [SKEW_ANGLE]\n",
            "                        Define skewing angle of the generated text. In positive degrees\n",
            "  -rk, --random_skew    When set, the skew angle will be randomized between the value set with -k\n",
            "                        and it's opposite\n",
            "  -wk, --use_wikipedia  Use Wikipedia as the source text for the generation, using this paremeter\n",
            "                        ignores -r, -n, -s\n",
            "  -bl [BLUR], --blur [BLUR]\n",
            "                        Apply gaussian blur to the resulting sample. Should be an integer defining\n",
            "                        the blur radius\n",
            "  -rbl, --random_blur   When set, the blur radius will be randomized between 0 and -bl.\n",
            "  -b [BACKGROUND], --background [BACKGROUND]\n",
            "                        Define what kind of background to use. 0: Gaussian Noise, 1: Plain white,\n",
            "                        2: Quasicrystal, 3: Image\n",
            "  -hw, --handwritten    Define if the data will be \"handwritten\" by an RNN\n",
            "  -na NAME_FORMAT, --name_format NAME_FORMAT\n",
            "                        Define how the produced files will be named. 0: [TEXT]_[ID].[EXT], 1:\n",
            "                        [ID]_[TEXT].[EXT] 2: [ID].[EXT] + one file labels.txt containing id-to-\n",
            "                        label mappings\n",
            "  -om OUTPUT_MASK, --output_mask OUTPUT_MASK\n",
            "                        Define if the generator will return masks for the text\n",
            "  -obb OUTPUT_BBOXES, --output_bboxes OUTPUT_BBOXES\n",
            "                        Define if the generator will return bounding boxes for the text, 1:\n",
            "                        Bounding box file, 2: Tesseract format\n",
            "  -d [DISTORSION], --distorsion [DISTORSION]\n",
            "                        Define a distorsion applied to the resulting image. 0: None (Default), 1:\n",
            "                        Sine wave, 2: Cosine wave, 3: Random\n",
            "  -do [DISTORSION_ORIENTATION], --distorsion_orientation [DISTORSION_ORIENTATION]\n",
            "                        Define the distorsion's orientation. Only used if -d is specified. 0:\n",
            "                        Vertical (Up and down), 1: Horizontal (Left and Right), 2: Both\n",
            "  -wd [WIDTH], --width [WIDTH]\n",
            "                        Define the width of the resulting image. If not set it will be the width\n",
            "                        of the text + 10. If the width of the generated text is bigger that number\n",
            "                        will be used\n",
            "  -al [ALIGNMENT], --alignment [ALIGNMENT]\n",
            "                        Define the alignment of the text in the image. Only used if the width\n",
            "                        parameter is set. 0: left, 1: center, 2: right\n",
            "  -or [ORIENTATION], --orientation [ORIENTATION]\n",
            "                        Define the orientation of the text. 0: Horizontal, 1: Vertical\n",
            "  -tc [TEXT_COLOR], --text_color [TEXT_COLOR]\n",
            "                        Define the text's color, should be either a single hex color or a range in\n",
            "                        the ?,? format.\n",
            "  -sw [SPACE_WIDTH], --space_width [SPACE_WIDTH]\n",
            "                        Define the width of the spaces between words. 2.0 means twice the normal\n",
            "                        space width\n",
            "  -cs [CHARACTER_SPACING], --character_spacing [CHARACTER_SPACING]\n",
            "                        Define the width of the spaces between characters. 2 means two pixels\n",
            "  -m [MARGINS], --margins [MARGINS]\n",
            "                        Define the margins around the text when rendered. In pixels\n",
            "  -fi, --fit            Apply a tight crop around the rendered text\n",
            "  -ft [FONT], --font [FONT]\n",
            "                        Define font to be used\n",
            "  -fd [FONT_DIR], --font_dir [FONT_DIR]\n",
            "                        Define a font directory to be used\n",
            "  -id [IMAGE_DIR], --image_dir [IMAGE_DIR]\n",
            "                        Define an image directory to use when background is set to image\n",
            "  -ca [CASE], --case [CASE]\n",
            "                        Generate upper or lowercase only. arguments: upper or lower. Example:\n",
            "                        --case upper\n",
            "  -dt [DICT], --dict [DICT]\n",
            "                        Define the dictionary to be used\n",
            "  -ws, --word_split     Split on words instead of on characters (preserves ligatures, no character\n",
            "                        spacing)\n",
            "  -stw [STROKE_WIDTH], --stroke_width [STROKE_WIDTH]\n",
            "                        Define the width of the strokes\n",
            "  -stf [STROKE_FILL], --stroke_fill [STROKE_FILL]\n",
            "                        Define the color of the contour of the strokes, if stroke_width is bigger\n",
            "                        than 0\n",
            "  -im [IMAGE_MODE], --image_mode [IMAGE_MODE]\n",
            "                        Define the image mode to be used. RGB is default, L means 8-bit grayscale\n",
            "                        images, 1 means 1-bit binary images stored with one pixel per byte, etc.\n"
          ]
        }
      ]
    }
  ]
}