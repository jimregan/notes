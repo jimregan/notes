{
  "cells": [
    {
      "cell_type": "code",
      "execution_count": 2,
      "metadata": {
        "id": "_LZO41PoaeMw"
      },
      "outputs": [],
      "source": [
        "%%capture\n",
        "!pip install pyicu"
      ]
    },
    {
      "cell_type": "code",
      "execution_count": 1,
      "metadata": {
        "id": "uTAGhqwRaz6w"
      },
      "outputs": [],
      "source": [
        "import icu\n",
        "def transliterator_from_rules(name, rules):\n",
        "    fromrules = icu.Transliterator.createFromRules(name, rules)\n",
        "    icu.Transliterator.registerInstance(fromrules)\n",
        "    return icu.Transliterator.createInstance(name)"
      ]
    },
    {
      "cell_type": "code",
      "execution_count": 28,
      "metadata": {
        "id": "OEws-lZiaxV5"
      },
      "outputs": [],
      "source": [
        "TRANSLIT = \"\"\"\n",
        "n\\` → ɳ ;\n",
        "s\\` → ʂ ;\n",
        "l\\` → ɭ ;\n",
        "t\\` → ʈ ;\n",
        "d\\` → ɖ ;\n",
        "A → ɑ ;\n",
        "O → ɔ ;\n",
        "I → ɪ ;\n",
        "E \\* U → e \\u2040 ʊ ;\n",
        "E → ɛ ;\n",
        "U → ʊ ;\n",
        "Y → ʏ ;\n",
        "2 → ø ;\n",
        "9 → ø ;\n",
        "u 0 → ɵ ;\n",
        "N → ŋ ;\n",
        "'\"\"' → ² ;\n",
        "'\"' → ˈ ;\n",
        "\\% → ˌ ;\n",
        "\\: → ː ;\n",
        "\\$ → \\. ;\n",
        "g → ɡ ;\n",
        "s \\\\\\' → ɕ ;\n",
        "x \\\\\\\\ → ɧ ;\n",
        "\\* → \\u2040 ;\n",
        "\"\"\""
      ]
    },
    {
      "cell_type": "code",
      "execution_count": 29,
      "metadata": {
        "id": "z3lcCQsLa3EC"
      },
      "outputs": [],
      "source": [
        "swelex_trans = transliterator_from_rules('swelex', TRANSLIT.strip())"
      ]
    },
    {
      "cell_type": "code",
      "execution_count": 33,
      "metadata": {
        "id": "PpqWzcykc0K_"
      },
      "outputs": [],
      "source": [
        "assert swelex_trans.transliterate('\"\"bA:n`s`$%ma$man') == \"²bɑːɳʂ.ˌma.man\"\n",
        "assert swelex_trans.transliterate('\"b9r$mIN$ham') == \"ˈbør.mɪŋ.ham\"\n",
        "assert swelex_trans.transliterate('\"bI$rU') == \"ˈbɪ.rʊ\"\n",
        "assert swelex_trans.transliterate('\"\"bIsp$%go:$d`en') == \"²bɪsp.ˌɡoː.ɖen\"\n",
        "assert swelex_trans.transliterate('\"x\\A:l') == \"ˈɧɑːl\"\n",
        "assert swelex_trans.transliterate(\"\\\"s'u:$lens\") == \"ˈɕuː.lens\"\n",
        "assert swelex_trans.transliterate('a$\"lE*U$te$n`a') == 'a.ˈle⁀ʊ.te.ɳa'\n",
        "assert swelex_trans.transliterate('\"fu0l') == 'ˈfɵl'"
      ]
    }
  ],
  "metadata": {
    "colab": {
      "name": "Untitled18.ipynb",
      "provenance": []
    },
    "kernelspec": {
      "display_name": "ctcseg",
      "language": "python",
      "name": "python3"
    },
    "language_info": {
      "codemirror_mode": {
        "name": "ipython",
        "version": 3
      },
      "file_extension": ".py",
      "mimetype": "text/x-python",
      "name": "python",
      "nbconvert_exporter": "python",
      "pygments_lexer": "ipython3",
      "version": "3.10.4"
    },
    "vscode": {
      "interpreter": {
        "hash": "04f1aebeda7ca92f6170d2806fa3f3c0cbb14da723fd908a9af630117dfe1004"
      }
    }
  },
  "nbformat": 4,
  "nbformat_minor": 0
}
