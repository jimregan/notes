{
 "cells": [
  {
   "cell_type": "code",
   "execution_count": 35,
   "metadata": {},
   "outputs": [],
   "source": [
    "import json"
   ]
  },
  {
   "cell_type": "code",
   "execution_count": 36,
   "metadata": {},
   "outputs": [],
   "source": [
    "with open(\"qpsr.json\") as f:\n",
    "    data = json.load(f)"
   ]
  },
  {
   "cell_type": "code",
   "execution_count": 37,
   "metadata": {},
   "outputs": [],
   "source": [
    "res = {}\n",
    "for item in data:\n",
    "    if not \"pages\" in item:\n",
    "        print(f\"Missing pages: {item['title']} ({item['year']})\")\n",
    "        pages = \"?-?\"\n",
    "    else:\n",
    "        pages = item[\"pages\"]\n",
    "    year = item[\"year\"]\n",
    "    if not \"volume\" in item:\n",
    "        print(f\"Missing volume: {item['title']} ({item['year']})\")\n",
    "        vol = \"??\"\n",
    "    else:\n",
    "        vol = item[\"volume\"]\n",
    "    if not \"edition\" in item:\n",
    "        print(f\"Missing edition: {item['title']} ({item['year']})\")\n",
    "        ed = \"??\"\n",
    "    else:\n",
    "        ed = item[\"edition\"]\n",
    "    if not \"-\" in pages:\n",
    "        if pages.isdigit():\n",
    "            start = end = pages\n",
    "        else:\n",
    "            raise IOError(f\"No '-' in pages: {pages} ({key})\")\n",
    "    else:\n",
    "        start, end = pages.split(\"-\")\n",
    "    if item[\"title\"] == \".\":\n",
    "        print(item[\"pdf\"])\n",
    "    key = f\"{year}_{vol}_{ed}\"\n",
    "    if not key in res:\n",
    "        res[key] = [{\"start\": start, \"end\": end}]\n",
    "    else:\n",
    "        res[key].append({\"start\": start, \"end\": end})"
   ]
  }
 ],
 "metadata": {
  "interpreter": {
   "hash": "2603f07046c437130ee32ef9381ac7221f7902403001eace09f7e749adb599f7"
  },
  "kernelspec": {
   "display_name": "Python 3.9.7 ('base')",
   "language": "python",
   "name": "python3"
  },
  "language_info": {
   "codemirror_mode": {
    "name": "ipython",
    "version": 3
   },
   "file_extension": ".py",
   "mimetype": "text/x-python",
   "name": "python",
   "nbconvert_exporter": "python",
   "pygments_lexer": "ipython3",
   "version": "3.9.7"
  },
  "orig_nbformat": 4
 },
 "nbformat": 4,
 "nbformat_minor": 2
}
