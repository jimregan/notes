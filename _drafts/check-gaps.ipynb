{
 "cells": [
  {
   "cell_type": "code",
   "execution_count": 62,
   "metadata": {},
   "outputs": [],
   "source": [
    "import json"
   ]
  },
  {
   "cell_type": "code",
   "execution_count": 63,
   "metadata": {},
   "outputs": [],
   "source": [
    "with open(\"qpsr.json\") as f:\n",
    "    data = json.load(f)"
   ]
  },
  {
   "cell_type": "code",
   "execution_count": 64,
   "metadata": {},
   "outputs": [],
   "source": [
    "res = {}\n",
    "for item in data:\n",
    "    if not \"pages\" in item:\n",
    "        print(f\"Missing pages: {item['title']} ({item['year']})\")\n",
    "        pages = \"?-?\"\n",
    "    else:\n",
    "        pages = item[\"pages\"]\n",
    "    year = item[\"year\"]\n",
    "    if not \"volume\" in item:\n",
    "        print(f\"Missing volume: {item['title']} ({item['year']})\")\n",
    "        vol = \"??\"\n",
    "    else:\n",
    "        vol = item[\"volume\"]\n",
    "    if not \"edition\" in item:\n",
    "        print(f\"Missing edition: {item['title']} ({item['year']})\")\n",
    "        ed = \"??\"\n",
    "    else:\n",
    "        ed = item[\"edition\"]\n",
    "    if not \"-\" in pages:\n",
    "        if pages.isdigit():\n",
    "            start = end = pages\n",
    "        else:\n",
    "            raise IOError(f\"No '-' in pages: {pages} ({key})\")\n",
    "    else:\n",
    "        start, end = pages.split(\"-\")\n",
    "    if item[\"title\"] == \".\":\n",
    "        print(item[\"pdf\"])\n",
    "    key = f\"{year}_{vol}_{ed}\"\n",
    "    if not key in res:\n",
    "        res[key] = [{\"start\": start, \"end\": end}]\n",
    "    else:\n",
    "        res[key].append({\"start\": start, \"end\": end})"
   ]
  },
  {
   "cell_type": "code",
   "execution_count": 65,
   "metadata": {},
   "outputs": [],
   "source": [
    "from functools import cmp_to_key\n",
    "\n",
    "def compare(item1, item2):\n",
    "    if item1[\"end\"] < item2[\"start\"]:\n",
    "        return -1\n",
    "    elif item1[\"start\"] > item2[\"end\"]:\n",
    "        return 1\n",
    "    else:\n",
    "        return 0\n",
    "\n",
    "def same_or_next(a, b):\n",
    "    return (a == b) or (a == b-1)\n",
    "\n",
    "output = {}\n",
    "last_pages = {}\n",
    "for item in res.keys():\n",
    "    for subitem in res[item]:\n",
    "        subitem[\"start\"] = int(subitem[\"start\"])\n",
    "        subitem[\"end\"] = int(subitem[\"end\"])\n",
    "    tmp = res[item]\n",
    "    tmp = sorted(tmp, key=cmp_to_key(compare))\n",
    "    last_pages[item] = tmp[-1][\"end\"]\n",
    "    cnt = 0\n",
    "    outtmp = []\n",
    "    if tmp[0]['start'] > 1:\n",
    "        outtmp.append({\"start\": 1, \"end\": tmp[0]['start']-1})\n",
    "    while cnt < len(tmp) - 1:\n",
    "        if not same_or_next(tmp[cnt][\"end\"], tmp[cnt+1][\"start\"]):\n",
    "            toadd = {\"start\": tmp[cnt][\"end\"]+1, \"end\": tmp[cnt+1][\"start\"]-1}\n",
    "            if toadd[\"start\"] == toadd[\"end\"]:\n",
    "                toadd = {\"page\": toadd[\"start\"]}\n",
    "            outtmp.append(toadd)\n",
    "        cnt += 1\n",
    "    output[item] = outtmp"
   ]
  },
  {
   "cell_type": "code",
   "execution_count": 73,
   "metadata": {},
   "outputs": [],
   "source": [
    "with open(\"pages.txt\", \"w\") as f:\n",
    "    for (ed, page) in last_pages.items():\n",
    "        f.write(f'{ed.replace(\"_\", \" \")}\\t{page}\\n')"
   ]
  },
  {
   "cell_type": "code",
   "execution_count": 69,
   "metadata": {},
   "outputs": [],
   "source": [
    "def _single_page(page):\n",
    "    if \"page\" in page:\n",
    "        return str(page[\"page\"])\n",
    "    else:\n",
    "        return f\"{page['start']}-{page['end']}\"\n",
    "\n",
    "def _join_pages(pagelist):\n",
    "    return \", \".join([_single_page(a) for a in pagelist])\n",
    "\n",
    "merged = {a: _join_pages(b) for (a, b) in output.items()}"
   ]
  },
  {
   "cell_type": "code",
   "execution_count": 74,
   "metadata": {},
   "outputs": [],
   "source": [
    "with open(\"missing-pages.txt\", \"w\") as f:\n",
    "    for (a, b) in merged.items():\n",
    "        if b and b != \"\":\n",
    "            f.write(f\"{a}\\t{b}\\n\")"
   ]
  },
  {
   "cell_type": "code",
   "execution_count": 76,
   "metadata": {},
   "outputs": [],
   "source": [
    "with open(\"number-of-articles.txt\", \"w\") as f:\n",
    "    for (a, b) in res.items():\n",
    "        f.write(f\"{a}\\t{len(b)}\\n\")"
   ]
  },
  {
   "cell_type": "code",
   "execution_count": 66,
   "metadata": {},
   "outputs": [],
   "source": [
    "import json\n",
    "with open(\"gaps.json\", \"w\") as out:\n",
    "    out.write(json.dumps(output, indent=4))"
   ]
  }
 ],
 "metadata": {
  "interpreter": {
   "hash": "2603f07046c437130ee32ef9381ac7221f7902403001eace09f7e749adb599f7"
  },
  "kernelspec": {
   "display_name": "Python 3.9.7 ('base')",
   "language": "python",
   "name": "python3"
  },
  "language_info": {
   "codemirror_mode": {
    "name": "ipython",
    "version": 3
   },
   "file_extension": ".py",
   "mimetype": "text/x-python",
   "name": "python",
   "nbconvert_exporter": "python",
   "pygments_lexer": "ipython3",
   "version": "3.9.7"
  },
  "orig_nbformat": 4
 },
 "nbformat": 4,
 "nbformat_minor": 2
}
