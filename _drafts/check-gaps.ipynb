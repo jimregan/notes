{
 "cells": [
  {
   "cell_type": "code",
   "execution_count": 32,
   "metadata": {},
   "outputs": [],
   "source": [
    "import json"
   ]
  },
  {
   "cell_type": "code",
   "execution_count": 33,
   "metadata": {},
   "outputs": [],
   "source": [
    "with open(\"qpsr.json\") as f:\n",
    "    data = json.load(f)"
   ]
  },
  {
   "cell_type": "code",
   "execution_count": 34,
   "metadata": {},
   "outputs": [
    {
     "name": "stdout",
     "output_type": "stream",
     "text": [
      "http://www.speech.kth.se/prod/publications/files/3605.pdf\n",
      "http://www.speech.kth.se/prod/publications/files/3607.pdf\n",
      "http://www.speech.kth.se/prod/publications/files/3579.pdf\n",
      "http://www.speech.kth.se/prod/publications/files/3586.pdf\n",
      "http://www.speech.kth.se/prod/publications/files/qpsr/2007/2007_50_1_121-124.pdf\n",
      "http://www.speech.kth.se/prod/publications/files/qpsr/2007/2007_50_1_033-036.pdf\n",
      "http://www.speech.kth.se/prod/publications/files/qpsr/2007/2007_50_1_049-052.pdf\n",
      "http://www.speech.kth.se/prod/publications/files/qpsr/2007/2007_50_1_053-056.pdf\n",
      "http://www.speech.kth.se/prod/publications/files/qpsr/2007/2007_50_1_061-064.pdf\n",
      "http://www.speech.kth.se/prod/publications/files/qpsr/2007/2007_50_1_077-080.pdf\n",
      "http://www.speech.kth.se/prod/publications/files/qpsr/2007/2007_50_1_093-096.pdf\n",
      "http://www.speech.kth.se/prod/publications/files/qpsr/2007/2007_50_1_097-100.pdf\n",
      "http://www.speech.kth.se/prod/publications/files/qpsr/2006/2006_48_1_035-043.pdf\n",
      "http://www.speech.kth.se/prod/publications/files/qpsr/2002/2002_44_1_085-088.pdf\n",
      "http://www.speech.kth.se/prod/publications/files/qpsr/2002/2002_44_1_145-148.pdf\n",
      "http://www.speech.kth.se/prod/publications/files/qpsr/1995/1995_36_2-3_063-070.pdf\n",
      "http://www.speech.kth.se/prod/publications/files/qpsr/1975/1975_16_4_027-035.pdf\n"
     ]
    }
   ],
   "source": [
    "res = {}\n",
    "for item in data:\n",
    "    if not \"pages\" in item:\n",
    "        print(f\"Missing pages: {item['title']} ({item['year']})\")\n",
    "        pages = \"?-?\"\n",
    "    else:\n",
    "        pages = item[\"pages\"]\n",
    "    year = item[\"year\"]\n",
    "    if not \"volume\" in item:\n",
    "        print(f\"Missing volume: {item['title']} ({item['year']})\")\n",
    "        vol = \"??\"\n",
    "    else:\n",
    "        vol = item[\"volume\"]\n",
    "    if not \"edition\" in item:\n",
    "        print(f\"Missing edition: {item['title']} ({item['year']})\")\n",
    "        ed = \"??\"\n",
    "    else:\n",
    "        ed = item[\"edition\"]\n",
    "    if not \"-\" in pages:\n",
    "        if pages.isdigit():\n",
    "            start = end = pages\n",
    "        else:\n",
    "            raise IOError(f\"No '-' in pages: {pages} ({key})\")\n",
    "    else:\n",
    "        start, end = pages.split(\"-\")\n",
    "    if item[\"title\"] == \".\":\n",
    "        print(item[\"pdf\"])\n",
    "    key = f\"{year}_{vol}_{ed}\"\n",
    "    if not key in res:\n",
    "        res[key] = [{\"start\": start, \"end\": end}]\n",
    "    else:\n",
    "        res[key].append({\"start\": start, \"end\": end})"
   ]
  }
 ],
 "metadata": {
  "interpreter": {
   "hash": "2603f07046c437130ee32ef9381ac7221f7902403001eace09f7e749adb599f7"
  },
  "kernelspec": {
   "display_name": "Python 3.9.7 ('base')",
   "language": "python",
   "name": "python3"
  },
  "language_info": {
   "codemirror_mode": {
    "name": "ipython",
    "version": 3
   },
   "file_extension": ".py",
   "mimetype": "text/x-python",
   "name": "python",
   "nbconvert_exporter": "python",
   "pygments_lexer": "ipython3",
   "version": "3.9.7"
  },
  "orig_nbformat": 4
 },
 "nbformat": 4,
 "nbformat_minor": 2
}
