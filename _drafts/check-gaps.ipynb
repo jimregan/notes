{
 "cells": [
  {
   "cell_type": "code",
   "execution_count": 2,
   "metadata": {},
   "outputs": [],
   "source": [
    "import json"
   ]
  },
  {
   "cell_type": "code",
   "execution_count": 11,
   "metadata": {},
   "outputs": [],
   "source": [
    "with open(\"qpsr.json\") as f:\n",
    "    data = json.load(f)"
   ]
  },
  {
   "cell_type": "code",
   "execution_count": 13,
   "metadata": {},
   "outputs": [
    {
     "name": "stdout",
     "output_type": "stream",
     "text": [
      "Missing edition: Model space size scaling for speaker adaptation. (2011)\n",
      "Missing edition: . (2007)\n",
      "Missing pages: . (2007)\n",
      "Missing edition: . (2007)\n"
     ]
    },
    {
     "ename": "OSError",
     "evalue": "No '-' in pages: ?? (2007_49_??)",
     "output_type": "error",
     "traceback": [
      "\u001b[0;31m---------------------------------------------------------------------------\u001b[0m",
      "\u001b[0;31mOSError\u001b[0m                                   Traceback (most recent call last)",
      "\u001b[0;32m/var/folders/d9/cbkhg23x349_t692zq6yhcv00000gn/T/ipykernel_76453/1422070075.py\u001b[0m in \u001b[0;36m<module>\u001b[0;34m\u001b[0m\n\u001b[1;32m     21\u001b[0m             \u001b[0mstart\u001b[0m \u001b[0;34m=\u001b[0m \u001b[0mend\u001b[0m \u001b[0;34m=\u001b[0m \u001b[0mpages\u001b[0m\u001b[0;34m\u001b[0m\u001b[0;34m\u001b[0m\u001b[0m\n\u001b[1;32m     22\u001b[0m         \u001b[0;32melse\u001b[0m\u001b[0;34m:\u001b[0m\u001b[0;34m\u001b[0m\u001b[0;34m\u001b[0m\u001b[0m\n\u001b[0;32m---> 23\u001b[0;31m             \u001b[0;32mraise\u001b[0m \u001b[0mIOError\u001b[0m\u001b[0;34m(\u001b[0m\u001b[0;34mf\"No '-' in pages: {pages} ({key})\"\u001b[0m\u001b[0;34m)\u001b[0m\u001b[0;34m\u001b[0m\u001b[0;34m\u001b[0m\u001b[0m\n\u001b[0m\u001b[1;32m     24\u001b[0m     \u001b[0;32melse\u001b[0m\u001b[0;34m:\u001b[0m\u001b[0;34m\u001b[0m\u001b[0;34m\u001b[0m\u001b[0m\n\u001b[1;32m     25\u001b[0m         \u001b[0mstart\u001b[0m\u001b[0;34m,\u001b[0m \u001b[0mend\u001b[0m \u001b[0;34m=\u001b[0m \u001b[0mpages\u001b[0m\u001b[0;34m.\u001b[0m\u001b[0msplit\u001b[0m\u001b[0;34m(\u001b[0m\u001b[0;34m\"-\"\u001b[0m\u001b[0;34m)\u001b[0m\u001b[0;34m\u001b[0m\u001b[0;34m\u001b[0m\u001b[0m\n",
      "\u001b[0;31mOSError\u001b[0m: No '-' in pages: ?? (2007_49_??)"
     ]
    }
   ],
   "source": [
    "res = {}\n",
    "for item in data:\n",
    "    if not \"pages\" in item:\n",
    "        print(f\"Missing pages: {item['title']} ({item['year']})\")\n",
    "        pages = \"?-?\"\n",
    "    else:\n",
    "        pages = item[\"pages\"]\n",
    "    year = item[\"year\"]\n",
    "    if not \"volume\" in item:\n",
    "        print(f\"Missing volume: {item['title']} ({item['year']})\")\n",
    "        vol = \"??\"\n",
    "    else:\n",
    "        vol = item[\"volume\"]\n",
    "    if not \"edition\" in item:\n",
    "        print(f\"Missing edition: {item['title']} ({item['year']})\")\n",
    "        ed = \"??\"\n",
    "    else:\n",
    "        ed = item[\"edition\"]\n",
    "    if not \"-\" in pages:\n",
    "        if pages.isdigit():\n",
    "            start = end = pages\n",
    "        else:\n",
    "            raise IOError(f\"No '-' in pages: {pages} ({key})\")\n",
    "    else:\n",
    "        start, end = pages.split(\"-\")\n",
    "    key = f\"{year}_{vol}_{ed}\"\n",
    "    if not key in res:\n",
    "        res[key] = [{\"start\": start, \"end\": end}]\n",
    "    else:\n",
    "        res[key].append({\"start\": start, \"end\": end})"
   ]
  },
  {
   "cell_type": "code",
   "execution_count": 4,
   "metadata": {},
   "outputs": [
    {
     "data": {
      "text/plain": [
       "{'year': '2012',\n",
       " 'author': 'Hansen, K. F., & Bresin, R.',\n",
       " 'publication_full': 'TMH-QPSR special issue: Proceedings of SMC Sweden 2012 Sound and Music Computing, Understanding and Practicing in Sweden, 52',\n",
       " 'volume': '52',\n",
       " 'publication': 'TMH-QPSR special issue: Proceedings of SMC Sweden 2012 Sound and Music Computing, Understanding and Practicing in Sweden',\n",
       " 'title': 'Sonification of distance between stations in train journeys.',\n",
       " 'pdf': 'http://www.speech.kth.se/prod/publications/files/3760.pdf',\n",
       " 'edition': '1',\n",
       " 'pages': '13-14'}"
      ]
     },
     "execution_count": 4,
     "metadata": {},
     "output_type": "execute_result"
    }
   ],
   "source": [
    "data[0]"
   ]
  }
 ],
 "metadata": {
  "interpreter": {
   "hash": "2603f07046c437130ee32ef9381ac7221f7902403001eace09f7e749adb599f7"
  },
  "kernelspec": {
   "display_name": "Python 3.9.7 ('base')",
   "language": "python",
   "name": "python3"
  },
  "language_info": {
   "codemirror_mode": {
    "name": "ipython",
    "version": 3
   },
   "file_extension": ".py",
   "mimetype": "text/x-python",
   "name": "python",
   "nbconvert_exporter": "python",
   "pygments_lexer": "ipython3",
   "version": "3.9.7"
  },
  "orig_nbformat": 4
 },
 "nbformat": 4,
 "nbformat_minor": 2
}
