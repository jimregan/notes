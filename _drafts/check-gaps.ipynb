{
 "cells": [
  {
   "cell_type": "code",
   "execution_count": 35,
   "metadata": {},
   "outputs": [],
   "source": [
    "import json"
   ]
  },
  {
   "cell_type": "code",
   "execution_count": 36,
   "metadata": {},
   "outputs": [],
   "source": [
    "with open(\"qpsr.json\") as f:\n",
    "    data = json.load(f)"
   ]
  },
  {
   "cell_type": "code",
   "execution_count": 37,
   "metadata": {},
   "outputs": [],
   "source": [
    "res = {}\n",
    "for item in data:\n",
    "    if not \"pages\" in item:\n",
    "        print(f\"Missing pages: {item['title']} ({item['year']})\")\n",
    "        pages = \"?-?\"\n",
    "    else:\n",
    "        pages = item[\"pages\"]\n",
    "    year = item[\"year\"]\n",
    "    if not \"volume\" in item:\n",
    "        print(f\"Missing volume: {item['title']} ({item['year']})\")\n",
    "        vol = \"??\"\n",
    "    else:\n",
    "        vol = item[\"volume\"]\n",
    "    if not \"edition\" in item:\n",
    "        print(f\"Missing edition: {item['title']} ({item['year']})\")\n",
    "        ed = \"??\"\n",
    "    else:\n",
    "        ed = item[\"edition\"]\n",
    "    if not \"-\" in pages:\n",
    "        if pages.isdigit():\n",
    "            start = end = pages\n",
    "        else:\n",
    "            raise IOError(f\"No '-' in pages: {pages} ({key})\")\n",
    "    else:\n",
    "        start, end = pages.split(\"-\")\n",
    "    if item[\"title\"] == \".\":\n",
    "        print(item[\"pdf\"])\n",
    "    key = f\"{year}_{vol}_{ed}\"\n",
    "    if not key in res:\n",
    "        res[key] = [{\"start\": start, \"end\": end}]\n",
    "    else:\n",
    "        res[key].append({\"start\": start, \"end\": end})"
   ]
  },
  {
   "cell_type": "code",
   "execution_count": 42,
   "metadata": {},
   "outputs": [],
   "source": [
    "def compare(item1, item2):\n",
    "    if item1[\"end\"] < item2[\"start\"]:\n",
    "        return -1\n",
    "    elif item1[\"start\"] > item2[\"end\"]:\n",
    "        return 1\n",
    "    else:\n",
    "        return 0"
   ]
  },
  {
   "cell_type": "code",
   "execution_count": 44,
   "metadata": {},
   "outputs": [
    {
     "ename": "TypeError",
     "evalue": "compare() missing 1 required positional argument: 'item2'",
     "output_type": "error",
     "traceback": [
      "\u001b[0;31m---------------------------------------------------------------------------\u001b[0m",
      "\u001b[0;31mTypeError\u001b[0m                                 Traceback (most recent call last)",
      "\u001b[0;32m/var/folders/d9/cbkhg23x349_t692zq6yhcv00000gn/T/ipykernel_76453/3320067433.py\u001b[0m in \u001b[0;36m<module>\u001b[0;34m\u001b[0m\n\u001b[1;32m      4\u001b[0m         \u001b[0msubitem\u001b[0m\u001b[0;34m[\u001b[0m\u001b[0;34m\"end\"\u001b[0m\u001b[0;34m]\u001b[0m \u001b[0;34m=\u001b[0m \u001b[0mint\u001b[0m\u001b[0;34m(\u001b[0m\u001b[0msubitem\u001b[0m\u001b[0;34m[\u001b[0m\u001b[0;34m\"end\"\u001b[0m\u001b[0;34m]\u001b[0m\u001b[0;34m)\u001b[0m\u001b[0;34m\u001b[0m\u001b[0;34m\u001b[0m\u001b[0m\n\u001b[1;32m      5\u001b[0m     \u001b[0mtmp\u001b[0m \u001b[0;34m=\u001b[0m \u001b[0mres\u001b[0m\u001b[0;34m[\u001b[0m\u001b[0mitem\u001b[0m\u001b[0;34m]\u001b[0m\u001b[0;34m\u001b[0m\u001b[0;34m\u001b[0m\u001b[0m\n\u001b[0;32m----> 6\u001b[0;31m     \u001b[0msorted\u001b[0m\u001b[0;34m(\u001b[0m\u001b[0mtmp\u001b[0m\u001b[0;34m,\u001b[0m \u001b[0mkey\u001b[0m\u001b[0;34m=\u001b[0m\u001b[0mcompare\u001b[0m\u001b[0;34m)\u001b[0m\u001b[0;34m\u001b[0m\u001b[0;34m\u001b[0m\u001b[0m\n\u001b[0m\u001b[1;32m      7\u001b[0m     \u001b[0mres\u001b[0m\u001b[0;34m[\u001b[0m\u001b[0mitem\u001b[0m\u001b[0;34m]\u001b[0m \u001b[0;34m=\u001b[0m \u001b[0mtmp\u001b[0m\u001b[0;34m\u001b[0m\u001b[0;34m\u001b[0m\u001b[0m\n",
      "\u001b[0;31mTypeError\u001b[0m: compare() missing 1 required positional argument: 'item2'"
     ]
    }
   ],
   "source": [
    "for item in res.keys():\n",
    "    for subitem in res[item]:\n",
    "        subitem[\"start\"] = int(subitem[\"start\"])\n",
    "        subitem[\"end\"] = int(subitem[\"end\"])\n",
    "    tmp = res[item]\n",
    "    sorted(tmp, key=compare)\n",
    "    res[item] = tmp\n"
   ]
  }
 ],
 "metadata": {
  "interpreter": {
   "hash": "2603f07046c437130ee32ef9381ac7221f7902403001eace09f7e749adb599f7"
  },
  "kernelspec": {
   "display_name": "Python 3.9.7 ('base')",
   "language": "python",
   "name": "python3"
  },
  "language_info": {
   "codemirror_mode": {
    "name": "ipython",
    "version": 3
   },
   "file_extension": ".py",
   "mimetype": "text/x-python",
   "name": "python",
   "nbconvert_exporter": "python",
   "pygments_lexer": "ipython3",
   "version": "3.9.7"
  },
  "orig_nbformat": 4
 },
 "nbformat": 4,
 "nbformat_minor": 2
}
