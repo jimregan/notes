{
 "cells": [
  {
   "cell_type": "markdown",
   "metadata": {},
   "source": [
    "# Breath detector textgrid to Label Studio\n",
    "\n",
    "> \"Because their import sucks\"\n",
    "\n",
    "- hidden: true\n",
    "- branch: master\n",
    "- categories: [labelstudio, breath-detector, textgrid, hsi]"
   ]
  },
  {
   "cell_type": "code",
   "execution_count": 1,
   "metadata": {},
   "outputs": [],
   "source": [
    "def slurpfile(filename) -> str:\n",
    "    with open(filename) as inf:\n",
    "        return inf.read().strip()"
   ]
  },
  {
   "cell_type": "code",
   "execution_count": 8,
   "metadata": {
    "tags": [
     "parameters"
    ]
   },
   "outputs": [],
   "source": [
    "host = \"http://130.237.3.107:8080/api/\"\n",
    "api_token: str = slurpfile(\"label_studio_mine\")\n",
    "input_dir = \"/Users/joregan/Desktop/breath_corrected/\""
   ]
  },
  {
   "cell_type": "code",
   "execution_count": 3,
   "metadata": {},
   "outputs": [],
   "source": [
    "import requests\n",
    "import json\n",
    "from pathlib import Path\n",
    "\n",
    "headers = {\n",
    "    \"Authorization\": f\"Token {api_token}\"\n",
    "}"
   ]
  },
  {
   "cell_type": "code",
   "execution_count": 4,
   "metadata": {},
   "outputs": [],
   "source": [
    "def get_projects():\n",
    "    req = requests.get(f\"{host}projects\", headers=headers)\n",
    "    assert req.status_code == 200\n",
    "    data = json.loads(req.text)\n",
    "    return data"
   ]
  },
  {
   "cell_type": "code",
   "execution_count": 5,
   "metadata": {},
   "outputs": [],
   "source": [
    "def get_project_id_from_name(name):\n",
    "    projects = get_projects()\n",
    "    for res in projects[\"results\"]:\n",
    "        if res[\"title\"].strip() == name.strip():\n",
    "            return res[\"id\"]"
   ]
  },
  {
   "cell_type": "code",
   "execution_count": 9,
   "metadata": {},
   "outputs": [
    {
     "data": {
      "text/plain": [
       "7"
      ]
     },
     "execution_count": 9,
     "metadata": {},
     "output_type": "execute_result"
    }
   ],
   "source": [
    "get_project_id_from_name(\"Main 6\")"
   ]
  },
  {
   "cell_type": "code",
   "execution_count": 10,
   "metadata": {},
   "outputs": [],
   "source": [
    "def get_tasks(projectid):\n",
    "    req = requests.get(f\"{host}tasks\", headers=headers, params={\"project\": projectid})\n",
    "    assert req.status_code == 200\n",
    "    data = json.loads(req.text)\n",
    "    return data"
   ]
  },
  {
   "cell_type": "code",
   "execution_count": 11,
   "metadata": {},
   "outputs": [],
   "source": [
    "def index_task_filestem_to_id(tasks_data):\n",
    "    tasks = tasks_data[\"tasks\"]\n",
    "    mapping = {}\n",
    "    for task in tasks:\n",
    "        task_id = task[\"id\"]\n",
    "        if \"storage_filename\" in task:\n",
    "            task_raw_path = task[\"storage_filename\"]\n",
    "        else:\n",
    "            task_raw_path = task[\"data\"][\"audio\"]\n",
    "        if not task_raw_path:\n",
    "            continue\n",
    "        task_stem = task_raw_path.split(\"/\")[-1]\n",
    "        mapping[task_stem] = task_id\n",
    "    return mapping"
   ]
  },
  {
   "cell_type": "code",
   "execution_count": 22,
   "metadata": {},
   "outputs": [
    {
     "data": {
      "text/plain": [
       "1"
      ]
     },
     "execution_count": 22,
     "metadata": {},
     "output_type": "execute_result"
    }
   ],
   "source": [
    "get_project_id_from_name(\"Speaker 3\")"
   ]
  },
  {
   "cell_type": "code",
   "execution_count": 43,
   "metadata": {},
   "outputs": [],
   "source": [
    "tasks = get_tasks(8)"
   ]
  },
  {
   "cell_type": "code",
   "execution_count": 44,
   "metadata": {},
   "outputs": [],
   "source": [
    "mapping = index_task_filestem_to_id(tasks)"
   ]
  },
  {
   "cell_type": "code",
   "execution_count": 45,
   "metadata": {},
   "outputs": [
    {
     "data": {
      "text/plain": [
       "{'hsi_7_0719_209_001_main.wav': 107,\n",
       " 'hsi_7_0719_209_002_main.wav': 108,\n",
       " 'hsi_7_0719_209_003_main.wav': 109,\n",
       " 'hsi_7_0719_210_001_main.wav': 110,\n",
       " 'hsi_7_0719_210_002_main.wav': 111,\n",
       " 'hsi_7_0719_210_003_main.wav': 112,\n",
       " 'hsi_7_0719_211_002_main.wav': 113,\n",
       " 'hsi_7_0719_211_004_main.wav': 114,\n",
       " 'hsi_7_0719_222_002_main.wav': 115,\n",
       " 'hsi_7_0719_222_004_main.wav': 116,\n",
       " 'hsi_7_0719_227_002_main.wav': 117,\n",
       " 'hsi_7_0719_227_003_main.wav': 118}"
      ]
     },
     "execution_count": 45,
     "metadata": {},
     "output_type": "execute_result"
    }
   ],
   "source": [
    "mapping"
   ]
  },
  {
   "cell_type": "code",
   "execution_count": 25,
   "metadata": {},
   "outputs": [],
   "source": [
    "import json\n",
    "import uuid\n",
    "from praatio import textgrid\n",
    "\n",
    "\n",
    "labels = {}\n",
    "labels[\"n\"] = \"Noise\"\n",
    "labels[\"spn\"] = \"Noise\"\n",
    "labels[\"b\"] = \"Breath\"\n",
    "labels[\"ct\"] = \"Cross-talk\"\n",
    "labels[\"sp\"] = \"Speech\"\n",
    "\n",
    "texts = {}\n",
    "texts[\"n\"] = \"noise\"\n",
    "texts[\"spn\"] = \"spn\"\n",
    "texts[\"b\"] = \"breath\"\n",
    "texts[\"ct\"] = \"crosstalk\"\n",
    "texts[\"sp\"] = \"\"\n",
    "\n",
    "def tg_to_result(tgfile):\n",
    "    outputs = []\n",
    "    tg = textgrid.openTextgrid(tgfile, False)\n",
    "    tiername = \"annot\"\n",
    "    if not tiername in tg.tierNames:\n",
    "        tiername = \"words\"\n",
    "\n",
    "    tier = tg.getTier(tiername)\n",
    "    for entry in tier.entries:\n",
    "        text = entry.label.strip()\n",
    "        if text == \"\":\n",
    "            continue\n",
    "\n",
    "        if not text in labels:\n",
    "            continue\n",
    "        label = labels[text]\n",
    "        text = texts[text]\n",
    "\n",
    "        gen_id = str(uuid.uuid4())[:6]\n",
    "        segment = {\n",
    "            \"value\": {\n",
    "                \"start\": entry.start,\n",
    "                \"end\": entry.end,\n",
    "                \"channel\": 0,\n",
    "                \"labels\": [label]\n",
    "            },\n",
    "            \"from_name\": \"labels\",\n",
    "            \"to_name\": \"audio\",\n",
    "            \"type\": \"labels\",\n",
    "            \"id\": gen_id\n",
    "        }\n",
    "        rec = {\n",
    "            \"value\": {\n",
    "                \"start\": entry.start,\n",
    "                \"end\": entry.end,\n",
    "                \"channel\": 0,\n",
    "                \"text\": [text]\n",
    "            },\n",
    "            \"from_name\": \"transcription\",\n",
    "            \"to_name\": \"audio\",\n",
    "            \"type\": \"textarea\",\n",
    "            \"id\": gen_id\n",
    "        }\n",
    "        outputs.append(segment)\n",
    "        outputs.append(rec)\n",
    "\n",
    "    return outputs"
   ]
  },
  {
   "cell_type": "code",
   "execution_count": 13,
   "metadata": {},
   "outputs": [],
   "source": [
    "def post_results(id, task, project, results):\n",
    "    ep = f\"{host}annotations/{id}/?taskID={task}&project={project}\"\n",
    "\n",
    "    cur_headers = {i: headers[i] for i in headers}\n",
    "    cur_headers[\"Content-type\"] = \"application/json\"\n",
    "\n",
    "    content = {\n",
    "        \"was_cancelled\": False,\n",
    "        \"ground_truth\": False,\n",
    "        \"project\": project,\n",
    "        \"draft_id\": 0,\n",
    "        \"parent_prediction\": None,\n",
    "        \"parent_annotation\": None,\n",
    "        \"result\": results\n",
    "    }\n",
    "    r = requests.patch(ep, data=json.dumps(content), headers=cur_headers)\n",
    "    return r"
   ]
  },
  {
   "cell_type": "code",
   "execution_count": 24,
   "metadata": {},
   "outputs": [],
   "source": [
    "file = f\"{input_dir}hsi_4_0717_211_002_main.TextGrid\"\n",
    "data = tg_to_result(file)"
   ]
  },
  {
   "cell_type": "code",
   "execution_count": null,
   "metadata": {},
   "outputs": [],
   "source": [
    "r = post_results(263, 77, 5, data)\n",
    "print(r.text)"
   ]
  },
  {
   "cell_type": "code",
   "execution_count": null,
   "metadata": {},
   "outputs": [],
   "source": [
    "from pathlib import Path\n",
    "\n",
    "for fn in mapping:\n",
    "    tgfile = fn.replace(\".wav\", \".TextGrid\")\n",
    "    if (Path(input_dir) / tgfile).exists():\n",
    "        print(mapping[fn], fn)\n"
   ]
  },
  {
   "cell_type": "code",
   "execution_count": null,
   "metadata": {},
   "outputs": [],
   "source": [
    "count = 230\n",
    "for task in mapping:\n",
    "    jsonfile = task.replace(\".wav\", \".TextGrid\")\n",
    "    file = f\"{input_dir}{jsonfile}\"\n",
    "    if not (Path(input_dir) / jsonfile).exists():\n",
    "        continue\n",
    "    data = tg_to_result(file)\n",
    "    r = post_results(count, mapping[task], 8, data)\n",
    "    count += 1\n",
    "    print(r.text)"
   ]
  },
  {
   "cell_type": "code",
   "execution_count": 136,
   "metadata": {},
   "outputs": [],
   "source": [
    "tmap = {}\n",
    "count = 99\n",
    "for task in mapping:\n",
    "    tmap[task] = count\n",
    "    count += 1\n"
   ]
  },
  {
   "cell_type": "code",
   "execution_count": null,
   "metadata": {},
   "outputs": [],
   "source": [
    "from pathlib import Path\n",
    "\n",
    "for file in Path(\"/Users/joregan/Playing/hsi_ctmedit/textgrid\").glob(\"*.TextGrid\"):\n",
    "    wavfile = file.stem + \".wav\"\n",
    "    if wavfile in mapping:\n",
    "        print(wavfile, mapping[wavfile])"
   ]
  }
 ],
 "metadata": {
  "kernelspec": {
   "display_name": "nst-tts",
   "language": "python",
   "name": "python3"
  },
  "language_info": {
   "codemirror_mode": {
    "name": "ipython",
    "version": 3
   },
   "file_extension": ".py",
   "mimetype": "text/x-python",
   "name": "python",
   "nbconvert_exporter": "python",
   "pygments_lexer": "ipython3",
   "version": "3.10.9"
  }
 },
 "nbformat": 4,
 "nbformat_minor": 2
}
