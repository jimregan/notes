{
 "cells": [
  {
   "cell_type": "code",
   "execution_count": 1,
   "metadata": {},
   "outputs": [],
   "source": [
    "def slurpfile(filename) -> str:\n",
    "    with open(filename) as inf:\n",
    "        return inf.read().strip()"
   ]
  },
  {
   "cell_type": "code",
   "execution_count": 8,
   "metadata": {
    "tags": [
     "parameters"
    ]
   },
   "outputs": [],
   "source": [
    "host = \"http://130.237.3.107:8080/api/\"\n",
    "api_token: str = slurpfile(\"label_studio_mine\")\n",
    "input_dir = \"/Users/joregan/Desktop/breath_corrected/\""
   ]
  },
  {
   "cell_type": "code",
   "execution_count": 3,
   "metadata": {},
   "outputs": [],
   "source": [
    "import requests\n",
    "import json\n",
    "from pathlib import Path\n",
    "\n",
    "headers = {\n",
    "    \"Authorization\": f\"Token {api_token}\"\n",
    "}"
   ]
  },
  {
   "cell_type": "code",
   "execution_count": 4,
   "metadata": {},
   "outputs": [],
   "source": [
    "def get_projects():\n",
    "    req = requests.get(f\"{host}projects\", headers=headers)\n",
    "    assert req.status_code == 200\n",
    "    data = json.loads(req.text)\n",
    "    return data"
   ]
  },
  {
   "cell_type": "code",
   "execution_count": 5,
   "metadata": {},
   "outputs": [],
   "source": [
    "def get_project_id_from_name(name):\n",
    "    projects = get_projects()\n",
    "    for res in projects[\"results\"]:\n",
    "        if res[\"title\"].strip() == name.strip():\n",
    "            return res[\"id\"]"
   ]
  },
  {
   "cell_type": "code",
   "execution_count": 9,
   "metadata": {},
   "outputs": [
    {
     "data": {
      "text/plain": [
       "7"
      ]
     },
     "execution_count": 9,
     "metadata": {},
     "output_type": "execute_result"
    }
   ],
   "source": [
    "get_project_id_from_name(\"Main 6\")"
   ]
  },
  {
   "cell_type": "code",
   "execution_count": 10,
   "metadata": {},
   "outputs": [],
   "source": [
    "def get_tasks(projectid):\n",
    "    req = requests.get(f\"{host}tasks\", headers=headers, params={\"project\": projectid})\n",
    "    assert req.status_code == 200\n",
    "    data = json.loads(req.text)\n",
    "    return data"
   ]
  },
  {
   "cell_type": "code",
   "execution_count": 11,
   "metadata": {},
   "outputs": [],
   "source": [
    "def index_task_filestem_to_id(tasks_data):\n",
    "    tasks = tasks_data[\"tasks\"]\n",
    "    mapping = {}\n",
    "    for task in tasks:\n",
    "        task_id = task[\"id\"]\n",
    "        if \"storage_filename\" in task:\n",
    "            task_raw_path = task[\"storage_filename\"]\n",
    "        else:\n",
    "            task_raw_path = task[\"data\"][\"audio\"]\n",
    "        if not task_raw_path:\n",
    "            continue\n",
    "        task_stem = task_raw_path.split(\"/\")[-1]\n",
    "        mapping[task_stem] = task_id\n",
    "    return mapping"
   ]
  },
  {
   "cell_type": "code",
   "execution_count": 22,
   "metadata": {},
   "outputs": [
    {
     "data": {
      "text/plain": [
       "1"
      ]
     },
     "execution_count": 22,
     "metadata": {},
     "output_type": "execute_result"
    }
   ],
   "source": [
    "get_project_id_from_name(\"Speaker 3\")"
   ]
  },
  {
   "cell_type": "code",
   "execution_count": 43,
   "metadata": {},
   "outputs": [],
   "source": [
    "tasks = get_tasks(8)"
   ]
  },
  {
   "cell_type": "code",
   "execution_count": 44,
   "metadata": {},
   "outputs": [],
   "source": [
    "mapping = index_task_filestem_to_id(tasks)"
   ]
  },
  {
   "cell_type": "code",
   "execution_count": 45,
   "metadata": {},
   "outputs": [
    {
     "data": {
      "text/plain": [
       "{'hsi_7_0719_209_001_main.wav': 107,\n",
       " 'hsi_7_0719_209_002_main.wav': 108,\n",
       " 'hsi_7_0719_209_003_main.wav': 109,\n",
       " 'hsi_7_0719_210_001_main.wav': 110,\n",
       " 'hsi_7_0719_210_002_main.wav': 111,\n",
       " 'hsi_7_0719_210_003_main.wav': 112,\n",
       " 'hsi_7_0719_211_002_main.wav': 113,\n",
       " 'hsi_7_0719_211_004_main.wav': 114,\n",
       " 'hsi_7_0719_222_002_main.wav': 115,\n",
       " 'hsi_7_0719_222_004_main.wav': 116,\n",
       " 'hsi_7_0719_227_002_main.wav': 117,\n",
       " 'hsi_7_0719_227_003_main.wav': 118}"
      ]
     },
     "execution_count": 45,
     "metadata": {},
     "output_type": "execute_result"
    }
   ],
   "source": [
    "mapping"
   ]
  },
  {
   "cell_type": "code",
   "execution_count": 25,
   "metadata": {},
   "outputs": [],
   "source": [
    "import json\n",
    "import uuid\n",
    "from praatio import textgrid\n",
    "\n",
    "\n",
    "labels = {}\n",
    "labels[\"n\"] = \"Noise\"\n",
    "labels[\"spn\"] = \"Noise\"\n",
    "labels[\"b\"] = \"Breath\"\n",
    "labels[\"ct\"] = \"Cross-talk\"\n",
    "labels[\"sp\"] = \"Speech\"\n",
    "\n",
    "texts = {}\n",
    "texts[\"n\"] = \"noise\"\n",
    "texts[\"spn\"] = \"spn\"\n",
    "texts[\"b\"] = \"breath\"\n",
    "texts[\"ct\"] = \"crosstalk\"\n",
    "texts[\"sp\"] = \"\"\n",
    "\n",
    "def tg_to_result(tgfile):\n",
    "    outputs = []\n",
    "    tg = textgrid.openTextgrid(tgfile, False)\n",
    "    tiername = \"annot\"\n",
    "    if not tiername in tg.tierNames:\n",
    "        tiername = \"words\"\n",
    "\n",
    "    tier = tg.getTier(tiername)\n",
    "    for entry in tier.entries:\n",
    "        text = entry.label.strip()\n",
    "        if text == \"\":\n",
    "            continue\n",
    "\n",
    "        if not text in labels:\n",
    "            continue\n",
    "        label = labels[text]\n",
    "        text = texts[text]\n",
    "\n",
    "        gen_id = str(uuid.uuid4())[:6]\n",
    "        segment = {\n",
    "            \"value\": {\n",
    "                \"start\": entry.start,\n",
    "                \"end\": entry.end,\n",
    "                \"channel\": 0,\n",
    "                \"labels\": [label]\n",
    "            },\n",
    "            \"from_name\": \"labels\",\n",
    "            \"to_name\": \"audio\",\n",
    "            \"type\": \"labels\",\n",
    "            \"id\": gen_id\n",
    "        }\n",
    "        rec = {\n",
    "            \"value\": {\n",
    "                \"start\": entry.start,\n",
    "                \"end\": entry.end,\n",
    "                \"channel\": 0,\n",
    "                \"text\": [text]\n",
    "            },\n",
    "            \"from_name\": \"transcription\",\n",
    "            \"to_name\": \"audio\",\n",
    "            \"type\": \"textarea\",\n",
    "            \"id\": gen_id\n",
    "        }\n",
    "        outputs.append(segment)\n",
    "        outputs.append(rec)\n",
    "\n",
    "    return outputs"
   ]
  },
  {
   "cell_type": "code",
   "execution_count": 13,
   "metadata": {},
   "outputs": [],
   "source": [
    "def post_results(id, task, project, results):\n",
    "    ep = f\"{host}annotations/{id}/?taskID={task}&project={project}\"\n",
    "\n",
    "    cur_headers = {i: headers[i] for i in headers}\n",
    "    cur_headers[\"Content-type\"] = \"application/json\"\n",
    "\n",
    "    content = {\n",
    "        \"was_cancelled\": False,\n",
    "        \"ground_truth\": False,\n",
    "        \"project\": project,\n",
    "        \"draft_id\": 0,\n",
    "        \"parent_prediction\": None,\n",
    "        \"parent_annotation\": None,\n",
    "        \"result\": results\n",
    "    }\n",
    "    r = requests.patch(ep, data=json.dumps(content), headers=cur_headers)\n",
    "    return r"
   ]
  },
  {
   "cell_type": "code",
   "execution_count": 24,
   "metadata": {},
   "outputs": [],
   "source": [
    "file = f\"{input_dir}hsi_4_0717_211_002_main.TextGrid\"\n",
    "data = tg_to_result(file)"
   ]
  },
  {
   "cell_type": "code",
   "execution_count": 26,
   "metadata": {},
   "outputs": [
    {
     "name": "stdout",
     "output_type": "stream",
     "text": [
      "{\"id\":263,\"result\":[{\"value\":{\"start\":2.9165205467865554,\"end\":3.3149967793985606,\"channel\":0,\"labels\":[\"Speech\"]},\"from_name\":\"labels\",\"to_name\":\"audio\",\"type\":\"labels\",\"id\":\"076fe1\"},{\"value\":{\"start\":2.9165205467865554,\"end\":3.3149967793985606,\"channel\":0,\"text\":[\"speech\"]},\"from_name\":\"transcription\",\"to_name\":\"audio\",\"type\":\"textarea\",\"id\":\"076fe1\"},{\"value\":{\"start\":9.3286217690192,\"end\":9.9,\"channel\":0,\"labels\":[\"Noise\"]},\"from_name\":\"labels\",\"to_name\":\"audio\",\"type\":\"labels\",\"id\":\"6187c3\"},{\"value\":{\"start\":9.3286217690192,\"end\":9.9,\"channel\":0,\"text\":[\"noise\"]},\"from_name\":\"transcription\",\"to_name\":\"audio\",\"type\":\"textarea\",\"id\":\"6187c3\"},{\"value\":{\"start\":9.9,\"end\":16.705529883479887,\"channel\":0,\"labels\":[\"Cross-talk\"]},\"from_name\":\"labels\",\"to_name\":\"audio\",\"type\":\"labels\",\"id\":\"efecf6\"},{\"value\":{\"start\":9.9,\"end\":16.705529883479887,\"channel\":0,\"text\":[\"crosstalk\"]},\"from_name\":\"transcription\",\"to_name\":\"audio\",\"type\":\"textarea\",\"id\":\"efecf6\"},{\"value\":{\"start\":16.705529883479887,\"end\":18.053707803817172,\"channel\":0,\"labels\":[\"Speech\"]},\"from_name\":\"labels\",\"to_name\":\"audio\",\"type\":\"labels\",\"id\":\"f43fc8\"},{\"value\":{\"start\":16.705529883479887,\"end\":18.053707803817172,\"channel\":0,\"text\":[\"speech\"]},\"from_name\":\"transcription\",\"to_name\":\"audio\",\"type\":\"textarea\",\"id\":\"f43fc8\"},{\"value\":{\"start\":18.053707803817172,\"end\":19.2,\"channel\":0,\"labels\":[\"Cross-talk\"]},\"from_name\":\"labels\",\"to_name\":\"audio\",\"type\":\"labels\",\"id\":\"c20bcc\"},{\"value\":{\"start\":18.053707803817172,\"end\":19.2,\"channel\":0,\"text\":[\"crosstalk\"]},\"from_name\":\"transcription\",\"to_name\":\"audio\",\"type\":\"textarea\",\"id\":\"c20bcc\"},{\"value\":{\"start\":19.2,\"end\":19.85,\"channel\":0,\"labels\":[\"Speech\"]},\"from_name\":\"labels\",\"to_name\":\"audio\",\"type\":\"labels\",\"id\":\"8f2f06\"},{\"value\":{\"start\":19.2,\"end\":19.85,\"channel\":0,\"text\":[\"speech\"]},\"from_name\":\"transcription\",\"to_name\":\"audio\",\"type\":\"textarea\",\"id\":\"8f2f06\"},{\"value\":{\"start\":25.55,\"end\":28.5,\"channel\":0,\"labels\":[\"Speech\"]},\"from_name\":\"labels\",\"to_name\":\"audio\",\"type\":\"labels\",\"id\":\"6feda4\"},{\"value\":{\"start\":25.55,\"end\":28.5,\"channel\":0,\"text\":[\"speech\"]},\"from_name\":\"transcription\",\"to_name\":\"audio\",\"type\":\"textarea\",\"id\":\"6feda4\"},{\"value\":{\"start\":37.106681659899856,\"end\":37.5,\"channel\":0,\"labels\":[\"Noise\"]},\"from_name\":\"labels\",\"to_name\":\"audio\",\"type\":\"labels\",\"id\":\"3db4bb\"},{\"value\":{\"start\":37.106681659899856,\"end\":37.5,\"channel\":0,\"text\":[\"noise\"]},\"from_name\":\"transcription\",\"to_name\":\"audio\",\"type\":\"textarea\",\"id\":\"3db4bb\"},{\"value\":{\"start\":37.5,\"end\":39.69677717187789,\"channel\":0,\"labels\":[\"Speech\"]},\"from_name\":\"labels\",\"to_name\":\"audio\",\"type\":\"labels\",\"id\":\"01641a\"},{\"value\":{\"start\":37.5,\"end\":39.69677717187789,\"channel\":0,\"text\":[\"speech\"]},\"from_name\":\"transcription\",\"to_name\":\"audio\",\"type\":\"textarea\",\"id\":\"01641a\"},{\"value\":{\"start\":39.69677717187789,\"end\":40.387469308405365,\"channel\":0,\"labels\":[\"Cross-talk\"]},\"from_name\":\"labels\",\"to_name\":\"audio\",\"type\":\"labels\",\"id\":\"9f3ca6\"},{\"value\":{\"start\":39.69677717187789,\"end\":40.387469308405365,\"channel\":0,\"text\":[\"crosstalk\"]},\"from_name\":\"transcription\",\"to_name\":\"audio\",\"type\":\"textarea\",\"id\":\"9f3ca6\"},{\"value\":{\"start\":40.387469308405365,\"end\":42.75,\"channel\":0,\"labels\":[\"Speech\"]},\"from_name\":\"labels\",\"to_name\":\"audio\",\"type\":\"labels\",\"id\":\"c45151\"},{\"value\":{\"start\":40.387469308405365,\"end\":42.75,\"channel\":0,\"text\":[\"speech\"]},\"from_name\":\"transcription\",\"to_name\":\"audio\",\"type\":\"textarea\",\"id\":\"c45151\"},{\"value\":{\"start\":42.75,\"end\":45.55,\"channel\":0,\"labels\":[\"Breath\"]},\"from_name\":\"labels\",\"to_name\":\"audio\",\"type\":\"labels\",\"id\":\"42bc30\"},{\"value\":{\"start\":42.75,\"end\":45.55,\"channel\":0,\"text\":[\"breath\"]},\"from_name\":\"transcription\",\"to_name\":\"audio\",\"type\":\"textarea\",\"id\":\"42bc30\"},{\"value\":{\"start\":45.55,\"end\":47.9,\"channel\":0,\"labels\":[\"Speech\"]},\"from_name\":\"labels\",\"to_name\":\"audio\",\"type\":\"labels\",\"id\":\"60284c\"},{\"value\":{\"start\":45.55,\"end\":47.9,\"channel\":0,\"text\":[\"speech\"]},\"from_name\":\"transcription\",\"to_name\":\"audio\",\"type\":\"textarea\",\"id\":\"60284c\"},{\"value\":{\"start\":48.231892125517085,\"end\":48.45105405345369,\"channel\":0,\"labels\":[\"Noise\"]},\"from_name\":\"labels\",\"to_name\":\"audio\",\"type\":\"labels\",\"id\":\"ce589a\"},{\"value\":{\"start\":48.231892125517085,\"end\":48.45105405345369,\"channel\":0,\"text\":[\"spn\"]},\"from_name\":\"transcription\",\"to_name\":\"audio\",\"type\":\"textarea\",\"id\":\"ce589a\"},{\"value\":{\"start\":48.45105405345369,\"end\":49.0,\"channel\":0,\"labels\":[\"Breath\"]},\"from_name\":\"labels\",\"to_name\":\"audio\",\"type\":\"labels\",\"id\":\"9d3e4b\"},{\"value\":{\"start\":48.45105405345369,\"end\":49.0,\"channel\":0,\"text\":[\"breath\"]},\"from_name\":\"transcription\",\"to_name\":\"audio\",\"type\":\"textarea\",\"id\":\"9d3e4b\"},{\"value\":{\"start\":49.4,\"end\":58.07212497148047,\"channel\":0,\"labels\":[\"Cross-talk\"]},\"from_name\":\"labels\",\"to_name\":\"audio\",\"type\":\"labels\",\"id\":\"319407\"},{\"value\":{\"start\":49.4,\"end\":58.07212497148047,\"channel\":0,\"text\":[\"crosstalk\"]},\"from_name\":\"transcription\",\"to_name\":\"audio\",\"type\":\"textarea\",\"id\":\"319407\"},{\"value\":{\"start\":58.07212497148047,\"end\":58.48388374517954,\"channel\":0,\"labels\":[\"Speech\"]},\"from_name\":\"labels\",\"to_name\":\"audio\",\"type\":\"labels\",\"id\":\"60ee9b\"},{\"value\":{\"start\":58.07212497148047,\"end\":58.48388374517954,\"channel\":0,\"text\":[\"speech\"]},\"from_name\":\"transcription\",\"to_name\":\"audio\",\"type\":\"textarea\",\"id\":\"60ee9b\"},{\"value\":{\"start\":61.27043789079121,\"end\":72.39787257041814,\"channel\":0,\"labels\":[\"Noise\"]},\"from_name\":\"labels\",\"to_name\":\"audio\",\"type\":\"labels\",\"id\":\"1007e7\"},{\"value\":{\"start\":61.27043789079121,\"end\":72.39787257041814,\"channel\":0,\"text\":[\"noise\"]},\"from_name\":\"transcription\",\"to_name\":\"audio\",\"type\":\"textarea\",\"id\":\"1007e7\"},{\"value\":{\"start\":75.33995542120346,\"end\":75.63217132511892,\"channel\":0,\"labels\":[\"Noise\"]},\"from_name\":\"labels\",\"to_name\":\"audio\",\"type\":\"labels\",\"id\":\"86471b\"},{\"value\":{\"start\":75.33995542120346,\"end\":75.63217132511892,\"channel\":0,\"text\":[\"noise\"]},\"from_name\":\"transcription\",\"to_name\":\"audio\",\"type\":\"textarea\",\"id\":\"86471b\"},{\"value\":{\"start\":76.5766842266079,\"end\":81.85470301678679,\"channel\":0,\"labels\":[\"Cross-talk\"]},\"from_name\":\"labels\",\"to_name\":\"audio\",\"type\":\"labels\",\"id\":\"4bf5cc\"},{\"value\":{\"start\":76.5766842266079,\"end\":81.85470301678679,\"channel\":0,\"text\":[\"crosstalk\"]},\"from_name\":\"transcription\",\"to_name\":\"audio\",\"type\":\"textarea\",\"id\":\"4bf5cc\"},{\"value\":{\"start\":81.85470301678679,\"end\":85.75,\"channel\":0,\"labels\":[\"Speech\"]},\"from_name\":\"labels\",\"to_name\":\"audio\",\"type\":\"labels\",\"id\":\"95d052\"},{\"value\":{\"start\":81.85470301678679,\"end\":85.75,\"channel\":0,\"text\":[\"speech\"]},\"from_name\":\"transcription\",\"to_name\":\"audio\",\"type\":\"textarea\",\"id\":\"95d052\"},{\"value\":{\"start\":85.75,\"end\":86.3090191700133,\"channel\":0,\"labels\":[\"Breath\"]},\"from_name\":\"labels\",\"to_name\":\"audio\",\"type\":\"labels\",\"id\":\"b627b1\"},{\"value\":{\"start\":85.75,\"end\":86.3090191700133,\"channel\":0,\"text\":[\"breath\"]},\"from_name\":\"transcription\",\"to_name\":\"audio\",\"type\":\"textarea\",\"id\":\"b627b1\"},{\"value\":{\"start\":86.3090191700133,\"end\":86.95,\"channel\":0,\"labels\":[\"Speech\"]},\"from_name\":\"labels\",\"to_name\":\"audio\",\"type\":\"labels\",\"id\":\"3ea768\"},{\"value\":{\"start\":86.3090191700133,\"end\":86.95,\"channel\":0,\"text\":[\"speech\"]},\"from_name\":\"transcription\",\"to_name\":\"audio\",\"type\":\"textarea\",\"id\":\"3ea768\"},{\"value\":{\"start\":86.95,\"end\":90.55,\"channel\":0,\"labels\":[\"Cross-talk\"]},\"from_name\":\"labels\",\"to_name\":\"audio\",\"type\":\"labels\",\"id\":\"2e6d31\"},{\"value\":{\"start\":86.95,\"end\":90.55,\"channel\":0,\"text\":[\"crosstalk\"]},\"from_name\":\"transcription\",\"to_name\":\"audio\",\"type\":\"textarea\",\"id\":\"2e6d31\"},{\"value\":{\"start\":90.55,\"end\":92.95,\"channel\":0,\"labels\":[\"Speech\"]},\"from_name\":\"labels\",\"to_name\":\"audio\",\"type\":\"labels\",\"id\":\"7d6ffa\"},{\"value\":{\"start\":90.55,\"end\":92.95,\"channel\":0,\"text\":[\"speech\"]},\"from_name\":\"transcription\",\"to_name\":\"audio\",\"type\":\"textarea\",\"id\":\"7d6ffa\"},{\"value\":{\"start\":92.95,\"end\":93.18520622910536,\"channel\":0,\"labels\":[\"Breath\"]},\"from_name\":\"labels\",\"to_name\":\"audio\",\"type\":\"labels\",\"id\":\"b9e7d6\"},{\"value\":{\"start\":92.95,\"end\":93.18520622910536,\"channel\":0,\"text\":[\"breath\"]},\"from_name\":\"transcription\",\"to_name\":\"audio\",\"type\":\"textarea\",\"id\":\"b9e7d6\"},{\"value\":{\"start\":96.33360138881972,\"end\":96.93437442442085,\"channel\":0,\"labels\":[\"Noise\"]},\"from_name\":\"labels\",\"to_name\":\"audio\",\"type\":\"labels\",\"id\":\"d0fbc9\"},{\"value\":{\"start\":96.33360138881972,\"end\":96.93437442442085,\"channel\":0,\"text\":[\"spn\"]},\"from_name\":\"transcription\",\"to_name\":\"audio\",\"type\":\"textarea\",\"id\":\"d0fbc9\"},{\"value\":{\"start\":97.9372062764944,\"end\":98.62789841302188,\"channel\":0,\"labels\":[\"Speech\"]},\"from_name\":\"labels\",\"to_name\":\"audio\",\"type\":\"labels\",\"id\":\"4eda71\"},{\"value\":{\"start\":97.9372062764944,\"end\":98.62789841302188,\"channel\":0,\"text\":[\"speech\"]},\"from_name\":\"transcription\",\"to_name\":\"audio\",\"type\":\"textarea\",\"id\":\"4eda71\"},{\"value\":{\"start\":98.62789841302188,\"end\":108.70539433513666,\"channel\":0,\"labels\":[\"Cross-talk\"]},\"from_name\":\"labels\",\"to_name\":\"audio\",\"type\":\"labels\",\"id\":\"0a7c28\"},{\"value\":{\"start\":98.62789841302188,\"end\":108.70539433513666,\"channel\":0,\"text\":[\"crosstalk\"]},\"from_name\":\"transcription\",\"to_name\":\"audio\",\"type\":\"textarea\",\"id\":\"0a7c28\"},{\"value\":{\"start\":108.70539433513666,\"end\":109.04409913285686,\"channel\":0,\"labels\":[\"Speech\"]},\"from_name\":\"labels\",\"to_name\":\"audio\",\"type\":\"labels\",\"id\":\"69b157\"},{\"value\":{\"start\":108.70539433513666,\"end\":109.04409913285686,\"channel\":0,\"text\":[\"speech\"]},\"from_name\":\"transcription\",\"to_name\":\"audio\",\"type\":\"textarea\",\"id\":\"69b157\"},{\"value\":{\"start\":109.04409913285686,\"end\":114.20742503186541,\"channel\":0,\"labels\":[\"Cross-talk\"]},\"from_name\":\"labels\",\"to_name\":\"audio\",\"type\":\"labels\",\"id\":\"7c5c5c\"},{\"value\":{\"start\":109.04409913285686,\"end\":114.20742503186541,\"channel\":0,\"text\":[\"crosstalk\"]},\"from_name\":\"transcription\",\"to_name\":\"audio\",\"type\":\"textarea\",\"id\":\"7c5c5c\"},{\"value\":{\"start\":114.20742503186541,\"end\":115.25,\"channel\":0,\"labels\":[\"Speech\"]},\"from_name\":\"labels\",\"to_name\":\"audio\",\"type\":\"labels\",\"id\":\"4b954a\"},{\"value\":{\"start\":114.20742503186541,\"end\":115.25,\"channel\":0,\"text\":[\"speech\"]},\"from_name\":\"transcription\",\"to_name\":\"audio\",\"type\":\"textarea\",\"id\":\"4b954a\"},{\"value\":{\"start\":115.25,\"end\":115.85,\"channel\":0,\"labels\":[\"Breath\"]},\"from_name\":\"labels\",\"to_name\":\"audio\",\"type\":\"labels\",\"id\":\"43d2d6\"},{\"value\":{\"start\":115.25,\"end\":115.85,\"channel\":0,\"text\":[\"breath\"]},\"from_name\":\"transcription\",\"to_name\":\"audio\",\"type\":\"textarea\",\"id\":\"43d2d6\"},{\"value\":{\"start\":115.85,\"end\":117.25,\"channel\":0,\"labels\":[\"Speech\"]},\"from_name\":\"labels\",\"to_name\":\"audio\",\"type\":\"labels\",\"id\":\"11a2b1\"},{\"value\":{\"start\":115.85,\"end\":117.25,\"channel\":0,\"text\":[\"speech\"]},\"from_name\":\"transcription\",\"to_name\":\"audio\",\"type\":\"textarea\",\"id\":\"11a2b1\"},{\"value\":{\"start\":117.25,\"end\":119.99119994558055,\"channel\":0,\"labels\":[\"Cross-talk\"]},\"from_name\":\"labels\",\"to_name\":\"audio\",\"type\":\"labels\",\"id\":\"ec4dd7\"},{\"value\":{\"start\":117.25,\"end\":119.99119994558055,\"channel\":0,\"text\":[\"crosstalk\"]},\"from_name\":\"transcription\",\"to_name\":\"audio\",\"type\":\"textarea\",\"id\":\"ec4dd7\"},{\"value\":{\"start\":119.99119994558055,\"end\":123.44049140420927,\"channel\":0,\"labels\":[\"Speech\"]},\"from_name\":\"labels\",\"to_name\":\"audio\",\"type\":\"labels\",\"id\":\"ee8ed4\"},{\"value\":{\"start\":119.99119994558055,\"end\":123.44049140420927,\"channel\":0,\"text\":[\"speech\"]},\"from_name\":\"transcription\",\"to_name\":\"audio\",\"type\":\"textarea\",\"id\":\"ee8ed4\"},{\"value\":{\"start\":123.44049140420927,\"end\":126.55524728912644,\"channel\":0,\"labels\":[\"Cross-talk\"]},\"from_name\":\"labels\",\"to_name\":\"audio\",\"type\":\"labels\",\"id\":\"a2ddc2\"},{\"value\":{\"start\":123.44049140420927,\"end\":126.55524728912644,\"channel\":0,\"text\":[\"crosstalk\"]},\"from_name\":\"transcription\",\"to_name\":\"audio\",\"type\":\"textarea\",\"id\":\"a2ddc2\"},{\"value\":{\"start\":126.55524728912644,\"end\":127.07169156063155,\"channel\":0,\"labels\":[\"Speech\"]},\"from_name\":\"labels\",\"to_name\":\"audio\",\"type\":\"labels\",\"id\":\"7b7b65\"},{\"value\":{\"start\":126.55524728912644,\"end\":127.07169156063155,\"channel\":0,\"text\":[\"speech\"]},\"from_name\":\"transcription\",\"to_name\":\"audio\",\"type\":\"textarea\",\"id\":\"7b7b65\"},{\"value\":{\"start\":127.8553614847685,\"end\":130.2,\"channel\":0,\"labels\":[\"Speech\"]},\"from_name\":\"labels\",\"to_name\":\"audio\",\"type\":\"labels\",\"id\":\"75a4fe\"},{\"value\":{\"start\":127.8553614847685,\"end\":130.2,\"channel\":0,\"text\":[\"speech\"]},\"from_name\":\"transcription\",\"to_name\":\"audio\",\"type\":\"textarea\",\"id\":\"75a4fe\"},{\"value\":{\"start\":130.2,\"end\":135.2,\"channel\":0,\"labels\":[\"Cross-talk\"]},\"from_name\":\"labels\",\"to_name\":\"audio\",\"type\":\"labels\",\"id\":\"523a8b\"},{\"value\":{\"start\":130.2,\"end\":135.2,\"channel\":0,\"text\":[\"crosstalk\"]},\"from_name\":\"transcription\",\"to_name\":\"audio\",\"type\":\"textarea\",\"id\":\"523a8b\"},{\"value\":{\"start\":135.2,\"end\":136.10369228864562,\"channel\":0,\"labels\":[\"Speech\"]},\"from_name\":\"labels\",\"to_name\":\"audio\",\"type\":\"labels\",\"id\":\"6f9812\"},{\"value\":{\"start\":135.2,\"end\":136.10369228864562,\"channel\":0,\"text\":[\"speech\"]},\"from_name\":\"transcription\",\"to_name\":\"audio\",\"type\":\"textarea\",\"id\":\"6f9812\"},{\"value\":{\"start\":136.10369228864562,\"end\":136.2033113467986,\"channel\":0,\"labels\":[\"Breath\"]},\"from_name\":\"labels\",\"to_name\":\"audio\",\"type\":\"labels\",\"id\":\"b6cdac\"},{\"value\":{\"start\":136.10369228864562,\"end\":136.2033113467986,\"channel\":0,\"text\":[\"breath\"]},\"from_name\":\"transcription\",\"to_name\":\"audio\",\"type\":\"textarea\",\"id\":\"b6cdac\"},{\"value\":{\"start\":136.2033113467986,\"end\":137.0,\"channel\":0,\"labels\":[\"Speech\"]},\"from_name\":\"labels\",\"to_name\":\"audio\",\"type\":\"labels\",\"id\":\"c063d6\"},{\"value\":{\"start\":136.2033113467986,\"end\":137.0,\"channel\":0,\"text\":[\"speech\"]},\"from_name\":\"transcription\",\"to_name\":\"audio\",\"type\":\"textarea\",\"id\":\"c063d6\"},{\"value\":{\"start\":137.0,\"end\":137.71351038939247,\"channel\":0,\"labels\":[\"Breath\"]},\"from_name\":\"labels\",\"to_name\":\"audio\",\"type\":\"labels\",\"id\":\"e880be\"},{\"value\":{\"start\":137.0,\"end\":137.71351038939247,\"channel\":0,\"text\":[\"breath\"]},\"from_name\":\"transcription\",\"to_name\":\"audio\",\"type\":\"textarea\",\"id\":\"e880be\"},{\"value\":{\"start\":137.71351038939247,\"end\":141.7552646677318,\"channel\":0,\"labels\":[\"Speech\"]},\"from_name\":\"labels\",\"to_name\":\"audio\",\"type\":\"labels\",\"id\":\"03464d\"},{\"value\":{\"start\":137.71351038939247,\"end\":141.7552646677318,\"channel\":0,\"text\":[\"speech\"]},\"from_name\":\"transcription\",\"to_name\":\"audio\",\"type\":\"textarea\",\"id\":\"03464d\"},{\"value\":{\"start\":141.7552646677318,\"end\":142.0,\"channel\":0,\"labels\":[\"Breath\"]},\"from_name\":\"labels\",\"to_name\":\"audio\",\"type\":\"labels\",\"id\":\"d6a24b\"},{\"value\":{\"start\":141.7552646677318,\"end\":142.0,\"channel\":0,\"text\":[\"breath\"]},\"from_name\":\"transcription\",\"to_name\":\"audio\",\"type\":\"textarea\",\"id\":\"d6a24b\"},{\"value\":{\"start\":142.0,\"end\":144.15,\"channel\":0,\"labels\":[\"Speech\"]},\"from_name\":\"labels\",\"to_name\":\"audio\",\"type\":\"labels\",\"id\":\"3883d9\"},{\"value\":{\"start\":142.0,\"end\":144.15,\"channel\":0,\"text\":[\"speech\"]},\"from_name\":\"transcription\",\"to_name\":\"audio\",\"type\":\"textarea\",\"id\":\"3883d9\"},{\"value\":{\"start\":144.15,\"end\":144.9,\"channel\":0,\"labels\":[\"Breath\"]},\"from_name\":\"labels\",\"to_name\":\"audio\",\"type\":\"labels\",\"id\":\"630231\"},{\"value\":{\"start\":144.15,\"end\":144.9,\"channel\":0,\"text\":[\"breath\"]},\"from_name\":\"transcription\",\"to_name\":\"audio\",\"type\":\"textarea\",\"id\":\"630231\"},{\"value\":{\"start\":144.9,\"end\":148.45,\"channel\":0,\"labels\":[\"Speech\"]},\"from_name\":\"labels\",\"to_name\":\"audio\",\"type\":\"labels\",\"id\":\"83faa8\"},{\"value\":{\"start\":144.9,\"end\":148.45,\"channel\":0,\"text\":[\"speech\"]},\"from_name\":\"transcription\",\"to_name\":\"audio\",\"type\":\"textarea\",\"id\":\"83faa8\"},{\"value\":{\"start\":148.45,\"end\":149.25,\"channel\":0,\"labels\":[\"Breath\"]},\"from_name\":\"labels\",\"to_name\":\"audio\",\"type\":\"labels\",\"id\":\"13ae7e\"},{\"value\":{\"start\":148.45,\"end\":149.25,\"channel\":0,\"text\":[\"breath\"]},\"from_name\":\"transcription\",\"to_name\":\"audio\",\"type\":\"textarea\",\"id\":\"13ae7e\"},{\"value\":{\"start\":149.25,\"end\":150.53811438445163,\"channel\":0,\"labels\":[\"Speech\"]},\"from_name\":\"labels\",\"to_name\":\"audio\",\"type\":\"labels\",\"id\":\"8e69ac\"},{\"value\":{\"start\":149.25,\"end\":150.53811438445163,\"channel\":0,\"text\":[\"speech\"]},\"from_name\":\"transcription\",\"to_name\":\"audio\",\"type\":\"textarea\",\"id\":\"8e69ac\"},{\"value\":{\"start\":150.53811438445163,\"end\":157.15,\"channel\":0,\"labels\":[\"Cross-talk\"]},\"from_name\":\"labels\",\"to_name\":\"audio\",\"type\":\"labels\",\"id\":\"09e38f\"},{\"value\":{\"start\":150.53811438445163,\"end\":157.15,\"channel\":0,\"text\":[\"crosstalk\"]},\"from_name\":\"transcription\",\"to_name\":\"audio\",\"type\":\"textarea\",\"id\":\"09e38f\"},{\"value\":{\"start\":157.15,\"end\":157.55,\"channel\":0,\"labels\":[\"Speech\"]},\"from_name\":\"labels\",\"to_name\":\"audio\",\"type\":\"labels\",\"id\":\"20a521\"},{\"value\":{\"start\":157.15,\"end\":157.55,\"channel\":0,\"text\":[\"speech\"]},\"from_name\":\"transcription\",\"to_name\":\"audio\",\"type\":\"textarea\",\"id\":\"20a521\"},{\"value\":{\"start\":157.55,\"end\":158.23055970876447,\"channel\":0,\"labels\":[\"Breath\"]},\"from_name\":\"labels\",\"to_name\":\"audio\",\"type\":\"labels\",\"id\":\"33a7c6\"},{\"value\":{\"start\":157.55,\"end\":158.23055970876447,\"channel\":0,\"text\":[\"breath\"]},\"from_name\":\"transcription\",\"to_name\":\"audio\",\"type\":\"textarea\",\"id\":\"33a7c6\"},{\"value\":{\"start\":158.23055970876447,\"end\":158.9,\"channel\":0,\"labels\":[\"Speech\"]},\"from_name\":\"labels\",\"to_name\":\"audio\",\"type\":\"labels\",\"id\":\"302430\"},{\"value\":{\"start\":158.23055970876447,\"end\":158.9,\"channel\":0,\"text\":[\"speech\"]},\"from_name\":\"transcription\",\"to_name\":\"audio\",\"type\":\"textarea\",\"id\":\"302430\"},{\"value\":{\"start\":158.9,\"end\":159.65,\"channel\":0,\"labels\":[\"Breath\"]},\"from_name\":\"labels\",\"to_name\":\"audio\",\"type\":\"labels\",\"id\":\"02c71e\"},{\"value\":{\"start\":158.9,\"end\":159.65,\"channel\":0,\"text\":[\"breath\"]},\"from_name\":\"transcription\",\"to_name\":\"audio\",\"type\":\"textarea\",\"id\":\"02c71e\"},{\"value\":{\"start\":159.65,\"end\":163.33454223035278,\"channel\":0,\"labels\":[\"Speech\"]},\"from_name\":\"labels\",\"to_name\":\"audio\",\"type\":\"labels\",\"id\":\"2badd2\"},{\"value\":{\"start\":159.65,\"end\":163.33454223035278,\"channel\":0,\"text\":[\"speech\"]},\"from_name\":\"transcription\",\"to_name\":\"audio\",\"type\":\"textarea\",\"id\":\"2badd2\"},{\"value\":{\"start\":163.33454223035278,\"end\":164.85,\"channel\":0,\"labels\":[\"Breath\"]},\"from_name\":\"labels\",\"to_name\":\"audio\",\"type\":\"labels\",\"id\":\"acb2e8\"},{\"value\":{\"start\":163.33454223035278,\"end\":164.85,\"channel\":0,\"text\":[\"breath\"]},\"from_name\":\"transcription\",\"to_name\":\"audio\",\"type\":\"textarea\",\"id\":\"acb2e8\"},{\"value\":{\"start\":164.85,\"end\":168.95,\"channel\":0,\"labels\":[\"Speech\"]},\"from_name\":\"labels\",\"to_name\":\"audio\",\"type\":\"labels\",\"id\":\"5bde5d\"},{\"value\":{\"start\":164.85,\"end\":168.95,\"channel\":0,\"text\":[\"speech\"]},\"from_name\":\"transcription\",\"to_name\":\"audio\",\"type\":\"textarea\",\"id\":\"5bde5d\"},{\"value\":{\"start\":168.95,\"end\":171.90307999774936,\"channel\":0,\"labels\":[\"Cross-talk\"]},\"from_name\":\"labels\",\"to_name\":\"audio\",\"type\":\"labels\",\"id\":\"736674\"},{\"value\":{\"start\":168.95,\"end\":171.90307999774936,\"channel\":0,\"text\":[\"crosstalk\"]},\"from_name\":\"transcription\",\"to_name\":\"audio\",\"type\":\"textarea\",\"id\":\"736674\"},{\"value\":{\"start\":171.90307999774936,\"end\":174.04821038331065,\"channel\":0,\"labels\":[\"Speech\"]},\"from_name\":\"labels\",\"to_name\":\"audio\",\"type\":\"labels\",\"id\":\"5c2291\"},{\"value\":{\"start\":171.90307999774936,\"end\":174.04821038331065,\"channel\":0,\"text\":[\"speech\"]},\"from_name\":\"transcription\",\"to_name\":\"audio\",\"type\":\"textarea\",\"id\":\"5c2291\"},{\"value\":{\"start\":174.04821038331065,\"end\":175.3,\"channel\":0,\"labels\":[\"Breath\"]},\"from_name\":\"labels\",\"to_name\":\"audio\",\"type\":\"labels\",\"id\":\"8d46a4\"},{\"value\":{\"start\":174.04821038331065,\"end\":175.3,\"channel\":0,\"text\":[\"breath\"]},\"from_name\":\"transcription\",\"to_name\":\"audio\",\"type\":\"textarea\",\"id\":\"8d46a4\"},{\"value\":{\"start\":175.3,\"end\":176.1351804009641,\"channel\":0,\"labels\":[\"Speech\"]},\"from_name\":\"labels\",\"to_name\":\"audio\",\"type\":\"labels\",\"id\":\"ec126d\"},{\"value\":{\"start\":175.3,\"end\":176.1351804009641,\"channel\":0,\"text\":[\"speech\"]},\"from_name\":\"transcription\",\"to_name\":\"audio\",\"type\":\"textarea\",\"id\":\"ec126d\"},{\"value\":{\"start\":176.1351804009641,\"end\":176.9,\"channel\":0,\"labels\":[\"Cross-talk\"]},\"from_name\":\"labels\",\"to_name\":\"audio\",\"type\":\"labels\",\"id\":\"30e0ca\"},{\"value\":{\"start\":176.1351804009641,\"end\":176.9,\"channel\":0,\"text\":[\"crosstalk\"]},\"from_name\":\"transcription\",\"to_name\":\"audio\",\"type\":\"textarea\",\"id\":\"30e0ca\"},{\"value\":{\"start\":176.9,\"end\":177.84745005629122,\"channel\":0,\"labels\":[\"Speech\"]},\"from_name\":\"labels\",\"to_name\":\"audio\",\"type\":\"labels\",\"id\":\"6a49d8\"},{\"value\":{\"start\":176.9,\"end\":177.84745005629122,\"channel\":0,\"text\":[\"speech\"]},\"from_name\":\"transcription\",\"to_name\":\"audio\",\"type\":\"textarea\",\"id\":\"6a49d8\"},{\"value\":{\"start\":177.84745005629122,\"end\":183.75,\"channel\":0,\"labels\":[\"Cross-talk\"]},\"from_name\":\"labels\",\"to_name\":\"audio\",\"type\":\"labels\",\"id\":\"0924cf\"},{\"value\":{\"start\":177.84745005629122,\"end\":183.75,\"channel\":0,\"text\":[\"crosstalk\"]},\"from_name\":\"transcription\",\"to_name\":\"audio\",\"type\":\"textarea\",\"id\":\"0924cf\"},{\"value\":{\"start\":183.75,\"end\":185.84218142085473,\"channel\":0,\"labels\":[\"Speech\"]},\"from_name\":\"labels\",\"to_name\":\"audio\",\"type\":\"labels\",\"id\":\"7475bf\"},{\"value\":{\"start\":183.75,\"end\":185.84218142085473,\"channel\":0,\"text\":[\"speech\"]},\"from_name\":\"transcription\",\"to_name\":\"audio\",\"type\":\"textarea\",\"id\":\"7475bf\"},{\"value\":{\"start\":185.84218142085473,\"end\":186.55,\"channel\":0,\"labels\":[\"Cross-talk\"]},\"from_name\":\"labels\",\"to_name\":\"audio\",\"type\":\"labels\",\"id\":\"80e37e\"},{\"value\":{\"start\":185.84218142085473,\"end\":186.55,\"channel\":0,\"text\":[\"crosstalk\"]},\"from_name\":\"transcription\",\"to_name\":\"audio\",\"type\":\"textarea\",\"id\":\"80e37e\"},{\"value\":{\"start\":186.55,\"end\":187.5270877574277,\"channel\":0,\"labels\":[\"Speech\"]},\"from_name\":\"labels\",\"to_name\":\"audio\",\"type\":\"labels\",\"id\":\"7b0cd6\"},{\"value\":{\"start\":186.55,\"end\":187.5270877574277,\"channel\":0,\"text\":[\"speech\"]},\"from_name\":\"transcription\",\"to_name\":\"audio\",\"type\":\"textarea\",\"id\":\"7b0cd6\"},{\"value\":{\"start\":187.5270877574277,\"end\":188.0,\"channel\":0,\"labels\":[\"Breath\"]},\"from_name\":\"labels\",\"to_name\":\"audio\",\"type\":\"labels\",\"id\":\"e9d540\"},{\"value\":{\"start\":187.5270877574277,\"end\":188.0,\"channel\":0,\"text\":[\"breath\"]},\"from_name\":\"transcription\",\"to_name\":\"audio\",\"type\":\"textarea\",\"id\":\"e9d540\"},{\"value\":{\"start\":188.0,\"end\":192.39739465133286,\"channel\":0,\"labels\":[\"Speech\"]},\"from_name\":\"labels\",\"to_name\":\"audio\",\"type\":\"labels\",\"id\":\"15c158\"},{\"value\":{\"start\":188.0,\"end\":192.39739465133286,\"channel\":0,\"text\":[\"speech\"]},\"from_name\":\"transcription\",\"to_name\":\"audio\",\"type\":\"textarea\",\"id\":\"15c158\"},{\"value\":{\"start\":192.39739465133286,\"end\":197.65,\"channel\":0,\"labels\":[\"Cross-talk\"]},\"from_name\":\"labels\",\"to_name\":\"audio\",\"type\":\"labels\",\"id\":\"904092\"},{\"value\":{\"start\":192.39739465133286,\"end\":197.65,\"channel\":0,\"text\":[\"crosstalk\"]},\"from_name\":\"transcription\",\"to_name\":\"audio\",\"type\":\"textarea\",\"id\":\"904092\"},{\"value\":{\"start\":197.65,\"end\":201.35,\"channel\":0,\"labels\":[\"Speech\"]},\"from_name\":\"labels\",\"to_name\":\"audio\",\"type\":\"labels\",\"id\":\"954eb4\"},{\"value\":{\"start\":197.65,\"end\":201.35,\"channel\":0,\"text\":[\"speech\"]},\"from_name\":\"transcription\",\"to_name\":\"audio\",\"type\":\"textarea\",\"id\":\"954eb4\"},{\"value\":{\"start\":201.35,\"end\":204.4,\"channel\":0,\"labels\":[\"Cross-talk\"]},\"from_name\":\"labels\",\"to_name\":\"audio\",\"type\":\"labels\",\"id\":\"8726a4\"},{\"value\":{\"start\":201.35,\"end\":204.4,\"channel\":0,\"text\":[\"crosstalk\"]},\"from_name\":\"transcription\",\"to_name\":\"audio\",\"type\":\"textarea\",\"id\":\"8726a4\"},{\"value\":{\"start\":204.4,\"end\":206.85,\"channel\":0,\"labels\":[\"Speech\"]},\"from_name\":\"labels\",\"to_name\":\"audio\",\"type\":\"labels\",\"id\":\"332b53\"},{\"value\":{\"start\":204.4,\"end\":206.85,\"channel\":0,\"text\":[\"speech\"]},\"from_name\":\"transcription\",\"to_name\":\"audio\",\"type\":\"textarea\",\"id\":\"332b53\"},{\"value\":{\"start\":206.85,\"end\":207.9334645561766,\"channel\":0,\"labels\":[\"Breath\"]},\"from_name\":\"labels\",\"to_name\":\"audio\",\"type\":\"labels\",\"id\":\"020afd\"},{\"value\":{\"start\":206.85,\"end\":207.9334645561766,\"channel\":0,\"text\":[\"breath\"]},\"from_name\":\"transcription\",\"to_name\":\"audio\",\"type\":\"textarea\",\"id\":\"020afd\"},{\"value\":{\"start\":207.9334645561766,\"end\":208.70183932164912,\"channel\":0,\"labels\":[\"Cross-talk\"]},\"from_name\":\"labels\",\"to_name\":\"audio\",\"type\":\"labels\",\"id\":\"63a5c0\"},{\"value\":{\"start\":207.9334645561766,\"end\":208.70183932164912,\"channel\":0,\"text\":[\"crosstalk\"]},\"from_name\":\"transcription\",\"to_name\":\"audio\",\"type\":\"textarea\",\"id\":\"63a5c0\"},{\"value\":{\"start\":208.70183932164912,\"end\":210.6,\"channel\":0,\"labels\":[\"Speech\"]},\"from_name\":\"labels\",\"to_name\":\"audio\",\"type\":\"labels\",\"id\":\"7e84cf\"},{\"value\":{\"start\":208.70183932164912,\"end\":210.6,\"channel\":0,\"text\":[\"speech\"]},\"from_name\":\"transcription\",\"to_name\":\"audio\",\"type\":\"textarea\",\"id\":\"7e84cf\"},{\"value\":{\"start\":210.6,\"end\":211.55,\"channel\":0,\"labels\":[\"Cross-talk\"]},\"from_name\":\"labels\",\"to_name\":\"audio\",\"type\":\"labels\",\"id\":\"062048\"},{\"value\":{\"start\":210.6,\"end\":211.55,\"channel\":0,\"text\":[\"crosstalk\"]},\"from_name\":\"transcription\",\"to_name\":\"audio\",\"type\":\"textarea\",\"id\":\"062048\"},{\"value\":{\"start\":211.55,\"end\":213.8,\"channel\":0,\"labels\":[\"Speech\"]},\"from_name\":\"labels\",\"to_name\":\"audio\",\"type\":\"labels\",\"id\":\"ad569d\"},{\"value\":{\"start\":211.55,\"end\":213.8,\"channel\":0,\"text\":[\"speech\"]},\"from_name\":\"transcription\",\"to_name\":\"audio\",\"type\":\"textarea\",\"id\":\"ad569d\"},{\"value\":{\"start\":213.8,\"end\":214.392054672214,\"channel\":0,\"labels\":[\"Breath\"]},\"from_name\":\"labels\",\"to_name\":\"audio\",\"type\":\"labels\",\"id\":\"be5a81\"},{\"value\":{\"start\":213.8,\"end\":214.392054672214,\"channel\":0,\"text\":[\"breath\"]},\"from_name\":\"transcription\",\"to_name\":\"audio\",\"type\":\"textarea\",\"id\":\"be5a81\"},{\"value\":{\"start\":215.02417516102406,\"end\":218.03835516853152,\"channel\":0,\"labels\":[\"Speech\"]},\"from_name\":\"labels\",\"to_name\":\"audio\",\"type\":\"labels\",\"id\":\"acd580\"},{\"value\":{\"start\":215.02417516102406,\"end\":218.03835516853152,\"channel\":0,\"text\":[\"speech\"]},\"from_name\":\"transcription\",\"to_name\":\"audio\",\"type\":\"textarea\",\"id\":\"acd580\"},{\"value\":{\"start\":218.85,\"end\":220.5,\"channel\":0,\"labels\":[\"Speech\"]},\"from_name\":\"labels\",\"to_name\":\"audio\",\"type\":\"labels\",\"id\":\"cd33f7\"},{\"value\":{\"start\":218.85,\"end\":220.5,\"channel\":0,\"text\":[\"speech\"]},\"from_name\":\"transcription\",\"to_name\":\"audio\",\"type\":\"textarea\",\"id\":\"cd33f7\"},{\"value\":{\"start\":220.5,\"end\":222.45,\"channel\":0,\"labels\":[\"Cross-talk\"]},\"from_name\":\"labels\",\"to_name\":\"audio\",\"type\":\"labels\",\"id\":\"e1f8a2\"},{\"value\":{\"start\":220.5,\"end\":222.45,\"channel\":0,\"text\":[\"crosstalk\"]},\"from_name\":\"transcription\",\"to_name\":\"audio\",\"type\":\"textarea\",\"id\":\"e1f8a2\"},{\"value\":{\"start\":222.45,\"end\":224.42608415111414,\"channel\":0,\"labels\":[\"Speech\"]},\"from_name\":\"labels\",\"to_name\":\"audio\",\"type\":\"labels\",\"id\":\"d6335c\"},{\"value\":{\"start\":222.45,\"end\":224.42608415111414,\"channel\":0,\"text\":[\"speech\"]},\"from_name\":\"transcription\",\"to_name\":\"audio\",\"type\":\"textarea\",\"id\":\"d6335c\"},{\"value\":{\"start\":224.42608415111414,\"end\":225.15,\"channel\":0,\"labels\":[\"Cross-talk\"]},\"from_name\":\"labels\",\"to_name\":\"audio\",\"type\":\"labels\",\"id\":\"42cfa2\"},{\"value\":{\"start\":224.42608415111414,\"end\":225.15,\"channel\":0,\"text\":[\"crosstalk\"]},\"from_name\":\"transcription\",\"to_name\":\"audio\",\"type\":\"textarea\",\"id\":\"42cfa2\"},{\"value\":{\"start\":225.15,\"end\":225.9322628231599,\"channel\":0,\"labels\":[\"Speech\"]},\"from_name\":\"labels\",\"to_name\":\"audio\",\"type\":\"labels\",\"id\":\"29a7ab\"},{\"value\":{\"start\":225.15,\"end\":225.9322628231599,\"channel\":0,\"text\":[\"speech\"]},\"from_name\":\"transcription\",\"to_name\":\"audio\",\"type\":\"textarea\",\"id\":\"29a7ab\"},{\"value\":{\"start\":226.54325971316499,\"end\":228.71035789941948,\"channel\":0,\"labels\":[\"Speech\"]},\"from_name\":\"labels\",\"to_name\":\"audio\",\"type\":\"labels\",\"id\":\"fc2ecc\"},{\"value\":{\"start\":226.54325971316499,\"end\":228.71035789941948,\"channel\":0,\"text\":[\"speech\"]},\"from_name\":\"transcription\",\"to_name\":\"audio\",\"type\":\"textarea\",\"id\":\"fc2ecc\"},{\"value\":{\"start\":228.71035789941948,\"end\":229.45,\"channel\":0,\"labels\":[\"Breath\"]},\"from_name\":\"labels\",\"to_name\":\"audio\",\"type\":\"labels\",\"id\":\"0a9d60\"},{\"value\":{\"start\":228.71035789941948,\"end\":229.45,\"channel\":0,\"text\":[\"breath\"]},\"from_name\":\"transcription\",\"to_name\":\"audio\",\"type\":\"textarea\",\"id\":\"0a9d60\"},{\"value\":{\"start\":229.45,\"end\":234.0,\"channel\":0,\"labels\":[\"Speech\"]},\"from_name\":\"labels\",\"to_name\":\"audio\",\"type\":\"labels\",\"id\":\"cbef21\"},{\"value\":{\"start\":229.45,\"end\":234.0,\"channel\":0,\"text\":[\"speech\"]},\"from_name\":\"transcription\",\"to_name\":\"audio\",\"type\":\"textarea\",\"id\":\"cbef21\"},{\"value\":{\"start\":234.0,\"end\":234.55,\"channel\":0,\"labels\":[\"Breath\"]},\"from_name\":\"labels\",\"to_name\":\"audio\",\"type\":\"labels\",\"id\":\"fa3664\"},{\"value\":{\"start\":234.0,\"end\":234.55,\"channel\":0,\"text\":[\"breath\"]},\"from_name\":\"transcription\",\"to_name\":\"audio\",\"type\":\"textarea\",\"id\":\"fa3664\"},{\"value\":{\"start\":234.55,\"end\":238.55,\"channel\":0,\"labels\":[\"Speech\"]},\"from_name\":\"labels\",\"to_name\":\"audio\",\"type\":\"labels\",\"id\":\"c3ee18\"},{\"value\":{\"start\":234.55,\"end\":238.55,\"channel\":0,\"text\":[\"speech\"]},\"from_name\":\"transcription\",\"to_name\":\"audio\",\"type\":\"textarea\",\"id\":\"c3ee18\"},{\"value\":{\"start\":238.55,\"end\":241.1068883998874,\"channel\":0,\"labels\":[\"Cross-talk\"]},\"from_name\":\"labels\",\"to_name\":\"audio\",\"type\":\"labels\",\"id\":\"b4598e\"},{\"value\":{\"start\":238.55,\"end\":241.1068883998874,\"channel\":0,\"text\":[\"crosstalk\"]},\"from_name\":\"transcription\",\"to_name\":\"audio\",\"type\":\"textarea\",\"id\":\"b4598e\"},{\"value\":{\"start\":241.1068883998874,\"end\":241.45223446815115,\"channel\":0,\"labels\":[\"Speech\"]},\"from_name\":\"labels\",\"to_name\":\"audio\",\"type\":\"labels\",\"id\":\"622b71\"},{\"value\":{\"start\":241.1068883998874,\"end\":241.45223446815115,\"channel\":0,\"text\":[\"speech\"]},\"from_name\":\"transcription\",\"to_name\":\"audio\",\"type\":\"textarea\",\"id\":\"622b71\"},{\"value\":{\"start\":241.45223446815115,\"end\":242.7140758714225,\"channel\":0,\"labels\":[\"Breath\"]},\"from_name\":\"labels\",\"to_name\":\"audio\",\"type\":\"labels\",\"id\":\"a59c50\"},{\"value\":{\"start\":241.45223446815115,\"end\":242.7140758714225,\"channel\":0,\"text\":[\"breath\"]},\"from_name\":\"transcription\",\"to_name\":\"audio\",\"type\":\"textarea\",\"id\":\"a59c50\"},{\"value\":{\"start\":242.7140758714225,\"end\":243.60400612425596,\"channel\":0,\"labels\":[\"Speech\"]},\"from_name\":\"labels\",\"to_name\":\"audio\",\"type\":\"labels\",\"id\":\"513902\"},{\"value\":{\"start\":242.7140758714225,\"end\":243.60400612425596,\"channel\":0,\"text\":[\"speech\"]},\"from_name\":\"transcription\",\"to_name\":\"audio\",\"type\":\"textarea\",\"id\":\"513902\"},{\"value\":{\"start\":243.60400612425596,\"end\":244.4883460402591,\"channel\":0,\"labels\":[\"Cross-talk\"]},\"from_name\":\"labels\",\"to_name\":\"audio\",\"type\":\"labels\",\"id\":\"6dafbc\"},{\"value\":{\"start\":243.60400612425596,\"end\":244.4883460402591,\"channel\":0,\"text\":[\"crosstalk\"]},\"from_name\":\"transcription\",\"to_name\":\"audio\",\"type\":\"textarea\",\"id\":\"6dafbc\"},{\"value\":{\"start\":244.4883460402591,\"end\":244.8071270263487,\"channel\":0,\"labels\":[\"Speech\"]},\"from_name\":\"labels\",\"to_name\":\"audio\",\"type\":\"labels\",\"id\":\"19a3d3\"},{\"value\":{\"start\":244.4883460402591,\"end\":244.8071270263487,\"channel\":0,\"text\":[\"speech\"]},\"from_name\":\"transcription\",\"to_name\":\"audio\",\"type\":\"textarea\",\"id\":\"19a3d3\"},{\"value\":{\"start\":245.4247651868973,\"end\":246.5,\"channel\":0,\"labels\":[\"Breath\"]},\"from_name\":\"labels\",\"to_name\":\"audio\",\"type\":\"labels\",\"id\":\"6bf78a\"},{\"value\":{\"start\":245.4247651868973,\"end\":246.5,\"channel\":0,\"text\":[\"breath\"]},\"from_name\":\"transcription\",\"to_name\":\"audio\",\"type\":\"textarea\",\"id\":\"6bf78a\"},{\"value\":{\"start\":246.5,\"end\":247.05,\"channel\":0,\"labels\":[\"Speech\"]},\"from_name\":\"labels\",\"to_name\":\"audio\",\"type\":\"labels\",\"id\":\"10d57d\"},{\"value\":{\"start\":246.5,\"end\":247.05,\"channel\":0,\"text\":[\"speech\"]},\"from_name\":\"transcription\",\"to_name\":\"audio\",\"type\":\"textarea\",\"id\":\"10d57d\"},{\"value\":{\"start\":247.05,\"end\":248.5,\"channel\":0,\"labels\":[\"Breath\"]},\"from_name\":\"labels\",\"to_name\":\"audio\",\"type\":\"labels\",\"id\":\"788cec\"},{\"value\":{\"start\":247.05,\"end\":248.5,\"channel\":0,\"text\":[\"breath\"]},\"from_name\":\"transcription\",\"to_name\":\"audio\",\"type\":\"textarea\",\"id\":\"788cec\"},{\"value\":{\"start\":248.5,\"end\":250.26788898699456,\"channel\":0,\"labels\":[\"Speech\"]},\"from_name\":\"labels\",\"to_name\":\"audio\",\"type\":\"labels\",\"id\":\"0b8c52\"},{\"value\":{\"start\":248.5,\"end\":250.26788898699456,\"channel\":0,\"text\":[\"speech\"]},\"from_name\":\"transcription\",\"to_name\":\"audio\",\"type\":\"textarea\",\"id\":\"0b8c52\"},{\"value\":{\"start\":250.26788898699456,\"end\":255.9,\"channel\":0,\"labels\":[\"Cross-talk\"]},\"from_name\":\"labels\",\"to_name\":\"audio\",\"type\":\"labels\",\"id\":\"a2629b\"},{\"value\":{\"start\":250.26788898699456,\"end\":255.9,\"channel\":0,\"text\":[\"crosstalk\"]},\"from_name\":\"transcription\",\"to_name\":\"audio\",\"type\":\"textarea\",\"id\":\"a2629b\"},{\"value\":{\"start\":255.9,\"end\":256.95,\"channel\":0,\"labels\":[\"Speech\"]},\"from_name\":\"labels\",\"to_name\":\"audio\",\"type\":\"labels\",\"id\":\"b0b1de\"},{\"value\":{\"start\":255.9,\"end\":256.95,\"channel\":0,\"text\":[\"speech\"]},\"from_name\":\"transcription\",\"to_name\":\"audio\",\"type\":\"textarea\",\"id\":\"b0b1de\"},{\"value\":{\"start\":256.95,\"end\":260.59877761659857,\"channel\":0,\"labels\":[\"Cross-talk\"]},\"from_name\":\"labels\",\"to_name\":\"audio\",\"type\":\"labels\",\"id\":\"639c32\"},{\"value\":{\"start\":256.95,\"end\":260.59877761659857,\"channel\":0,\"text\":[\"crosstalk\"]},\"from_name\":\"transcription\",\"to_name\":\"audio\",\"type\":\"textarea\",\"id\":\"639c32\"},{\"value\":{\"start\":260.59877761659857,\"end\":260.990612578667,\"channel\":0,\"labels\":[\"Breath\"]},\"from_name\":\"labels\",\"to_name\":\"audio\",\"type\":\"labels\",\"id\":\"742092\"},{\"value\":{\"start\":260.59877761659857,\"end\":260.990612578667,\"channel\":0,\"text\":[\"breath\"]},\"from_name\":\"transcription\",\"to_name\":\"audio\",\"type\":\"textarea\",\"id\":\"742092\"},{\"value\":{\"start\":261.45,\"end\":263.74009858368987,\"channel\":0,\"labels\":[\"Cross-talk\"]},\"from_name\":\"labels\",\"to_name\":\"audio\",\"type\":\"labels\",\"id\":\"d043f2\"},{\"value\":{\"start\":261.45,\"end\":263.74009858368987,\"channel\":0,\"text\":[\"crosstalk\"]},\"from_name\":\"transcription\",\"to_name\":\"audio\",\"type\":\"textarea\",\"id\":\"d043f2\"},{\"value\":{\"start\":263.74009858368987,\"end\":264.75,\"channel\":0,\"labels\":[\"Speech\"]},\"from_name\":\"labels\",\"to_name\":\"audio\",\"type\":\"labels\",\"id\":\"a280f9\"},{\"value\":{\"start\":263.74009858368987,\"end\":264.75,\"channel\":0,\"text\":[\"speech\"]},\"from_name\":\"transcription\",\"to_name\":\"audio\",\"type\":\"textarea\",\"id\":\"a280f9\"},{\"value\":{\"start\":264.75,\"end\":265.3,\"channel\":0,\"labels\":[\"Breath\"]},\"from_name\":\"labels\",\"to_name\":\"audio\",\"type\":\"labels\",\"id\":\"257ecf\"},{\"value\":{\"start\":264.75,\"end\":265.3,\"channel\":0,\"text\":[\"breath\"]},\"from_name\":\"transcription\",\"to_name\":\"audio\",\"type\":\"textarea\",\"id\":\"257ecf\"},{\"value\":{\"start\":265.3,\"end\":267.43693971584486,\"channel\":0,\"labels\":[\"Speech\"]},\"from_name\":\"labels\",\"to_name\":\"audio\",\"type\":\"labels\",\"id\":\"1d2f95\"},{\"value\":{\"start\":265.3,\"end\":267.43693971584486,\"channel\":0,\"text\":[\"speech\"]},\"from_name\":\"transcription\",\"to_name\":\"audio\",\"type\":\"textarea\",\"id\":\"1d2f95\"},{\"value\":{\"start\":267.43693971584486,\"end\":269.5,\"channel\":0,\"labels\":[\"Cross-talk\"]},\"from_name\":\"labels\",\"to_name\":\"audio\",\"type\":\"labels\",\"id\":\"cdce71\"},{\"value\":{\"start\":267.43693971584486,\"end\":269.5,\"channel\":0,\"text\":[\"crosstalk\"]},\"from_name\":\"transcription\",\"to_name\":\"audio\",\"type\":\"textarea\",\"id\":\"cdce71\"},{\"value\":{\"start\":269.5,\"end\":270.0,\"channel\":0,\"labels\":[\"Speech\"]},\"from_name\":\"labels\",\"to_name\":\"audio\",\"type\":\"labels\",\"id\":\"0a10e3\"},{\"value\":{\"start\":269.5,\"end\":270.0,\"channel\":0,\"text\":[\"speech\"]},\"from_name\":\"transcription\",\"to_name\":\"audio\",\"type\":\"textarea\",\"id\":\"0a10e3\"},{\"value\":{\"start\":270.0,\"end\":270.3,\"channel\":0,\"labels\":[\"Breath\"]},\"from_name\":\"labels\",\"to_name\":\"audio\",\"type\":\"labels\",\"id\":\"f2e02a\"},{\"value\":{\"start\":270.0,\"end\":270.3,\"channel\":0,\"text\":[\"breath\"]},\"from_name\":\"transcription\",\"to_name\":\"audio\",\"type\":\"textarea\",\"id\":\"f2e02a\"},{\"value\":{\"start\":270.3,\"end\":272.07498723028044,\"channel\":0,\"labels\":[\"Speech\"]},\"from_name\":\"labels\",\"to_name\":\"audio\",\"type\":\"labels\",\"id\":\"7d6b0a\"},{\"value\":{\"start\":270.3,\"end\":272.07498723028044,\"channel\":0,\"text\":[\"speech\"]},\"from_name\":\"transcription\",\"to_name\":\"audio\",\"type\":\"textarea\",\"id\":\"7d6b0a\"},{\"value\":{\"start\":272.07498723028044,\"end\":272.95,\"channel\":0,\"labels\":[\"Breath\"]},\"from_name\":\"labels\",\"to_name\":\"audio\",\"type\":\"labels\",\"id\":\"8d8bde\"},{\"value\":{\"start\":272.07498723028044,\"end\":272.95,\"channel\":0,\"text\":[\"breath\"]},\"from_name\":\"transcription\",\"to_name\":\"audio\",\"type\":\"textarea\",\"id\":\"8d8bde\"},{\"value\":{\"start\":272.95,\"end\":274.6791997560189,\"channel\":0,\"labels\":[\"Speech\"]},\"from_name\":\"labels\",\"to_name\":\"audio\",\"type\":\"labels\",\"id\":\"e4294f\"},{\"value\":{\"start\":272.95,\"end\":274.6791997560189,\"channel\":0,\"text\":[\"speech\"]},\"from_name\":\"transcription\",\"to_name\":\"audio\",\"type\":\"textarea\",\"id\":\"e4294f\"},{\"value\":{\"start\":274.6791997560189,\"end\":279.4539030977108,\"channel\":0,\"labels\":[\"Cross-talk\"]},\"from_name\":\"labels\",\"to_name\":\"audio\",\"type\":\"labels\",\"id\":\"e30e80\"},{\"value\":{\"start\":274.6791997560189,\"end\":279.4539030977108,\"channel\":0,\"text\":[\"crosstalk\"]},\"from_name\":\"transcription\",\"to_name\":\"audio\",\"type\":\"textarea\",\"id\":\"e30e80\"},{\"value\":{\"start\":279.4539030977108,\"end\":280.9,\"channel\":0,\"labels\":[\"Speech\"]},\"from_name\":\"labels\",\"to_name\":\"audio\",\"type\":\"labels\",\"id\":\"51cfbf\"},{\"value\":{\"start\":279.4539030977108,\"end\":280.9,\"channel\":0,\"text\":[\"speech\"]},\"from_name\":\"transcription\",\"to_name\":\"audio\",\"type\":\"textarea\",\"id\":\"51cfbf\"},{\"value\":{\"start\":280.9,\"end\":282.0,\"channel\":0,\"labels\":[\"Breath\"]},\"from_name\":\"labels\",\"to_name\":\"audio\",\"type\":\"labels\",\"id\":\"a524de\"},{\"value\":{\"start\":280.9,\"end\":282.0,\"channel\":0,\"text\":[\"breath\"]},\"from_name\":\"transcription\",\"to_name\":\"audio\",\"type\":\"textarea\",\"id\":\"a524de\"},{\"value\":{\"start\":282.0,\"end\":285.3620708598227,\"channel\":0,\"labels\":[\"Speech\"]},\"from_name\":\"labels\",\"to_name\":\"audio\",\"type\":\"labels\",\"id\":\"52b1ab\"},{\"value\":{\"start\":282.0,\"end\":285.3620708598227,\"channel\":0,\"text\":[\"speech\"]},\"from_name\":\"transcription\",\"to_name\":\"audio\",\"type\":\"textarea\",\"id\":\"52b1ab\"},{\"value\":{\"start\":285.3620708598227,\"end\":286.05,\"channel\":0,\"labels\":[\"Breath\"]},\"from_name\":\"labels\",\"to_name\":\"audio\",\"type\":\"labels\",\"id\":\"44d201\"},{\"value\":{\"start\":285.3620708598227,\"end\":286.05,\"channel\":0,\"text\":[\"breath\"]},\"from_name\":\"transcription\",\"to_name\":\"audio\",\"type\":\"textarea\",\"id\":\"44d201\"},{\"value\":{\"start\":286.05,\"end\":286.25,\"channel\":0,\"labels\":[\"Speech\"]},\"from_name\":\"labels\",\"to_name\":\"audio\",\"type\":\"labels\",\"id\":\"de9bee\"},{\"value\":{\"start\":286.05,\"end\":286.25,\"channel\":0,\"text\":[\"speech\"]},\"from_name\":\"transcription\",\"to_name\":\"audio\",\"type\":\"textarea\",\"id\":\"de9bee\"},{\"value\":{\"start\":286.25,\"end\":287.2216266120121,\"channel\":0,\"labels\":[\"Cross-talk\"]},\"from_name\":\"labels\",\"to_name\":\"audio\",\"type\":\"labels\",\"id\":\"df2180\"},{\"value\":{\"start\":286.25,\"end\":287.2216266120121,\"channel\":0,\"text\":[\"crosstalk\"]},\"from_name\":\"transcription\",\"to_name\":\"audio\",\"type\":\"textarea\",\"id\":\"df2180\"},{\"value\":{\"start\":287.2216266120121,\"end\":291.6,\"channel\":0,\"labels\":[\"Speech\"]},\"from_name\":\"labels\",\"to_name\":\"audio\",\"type\":\"labels\",\"id\":\"8d3457\"},{\"value\":{\"start\":287.2216266120121,\"end\":291.6,\"channel\":0,\"text\":[\"speech\"]},\"from_name\":\"transcription\",\"to_name\":\"audio\",\"type\":\"textarea\",\"id\":\"8d3457\"},{\"value\":{\"start\":291.6,\"end\":292.35,\"channel\":0,\"labels\":[\"Breath\"]},\"from_name\":\"labels\",\"to_name\":\"audio\",\"type\":\"labels\",\"id\":\"01feb2\"},{\"value\":{\"start\":291.6,\"end\":292.35,\"channel\":0,\"text\":[\"breath\"]},\"from_name\":\"transcription\",\"to_name\":\"audio\",\"type\":\"textarea\",\"id\":\"01feb2\"},{\"value\":{\"start\":292.35,\"end\":296.05,\"channel\":0,\"labels\":[\"Speech\"]},\"from_name\":\"labels\",\"to_name\":\"audio\",\"type\":\"labels\",\"id\":\"616221\"},{\"value\":{\"start\":292.35,\"end\":296.05,\"channel\":0,\"text\":[\"speech\"]},\"from_name\":\"transcription\",\"to_name\":\"audio\",\"type\":\"textarea\",\"id\":\"616221\"},{\"value\":{\"start\":296.05,\"end\":296.45,\"channel\":0,\"labels\":[\"Breath\"]},\"from_name\":\"labels\",\"to_name\":\"audio\",\"type\":\"labels\",\"id\":\"b8128d\"},{\"value\":{\"start\":296.05,\"end\":296.45,\"channel\":0,\"text\":[\"breath\"]},\"from_name\":\"transcription\",\"to_name\":\"audio\",\"type\":\"textarea\",\"id\":\"b8128d\"},{\"value\":{\"start\":296.45,\"end\":297.05,\"channel\":0,\"labels\":[\"Speech\"]},\"from_name\":\"labels\",\"to_name\":\"audio\",\"type\":\"labels\",\"id\":\"dda7ba\"},{\"value\":{\"start\":296.45,\"end\":297.05,\"channel\":0,\"text\":[\"speech\"]},\"from_name\":\"transcription\",\"to_name\":\"audio\",\"type\":\"textarea\",\"id\":\"dda7ba\"},{\"value\":{\"start\":297.05,\"end\":297.35,\"channel\":0,\"labels\":[\"Breath\"]},\"from_name\":\"labels\",\"to_name\":\"audio\",\"type\":\"labels\",\"id\":\"6ab748\"},{\"value\":{\"start\":297.05,\"end\":297.35,\"channel\":0,\"text\":[\"breath\"]},\"from_name\":\"transcription\",\"to_name\":\"audio\",\"type\":\"textarea\",\"id\":\"6ab748\"},{\"value\":{\"start\":297.35,\"end\":298.0,\"channel\":0,\"labels\":[\"Speech\"]},\"from_name\":\"labels\",\"to_name\":\"audio\",\"type\":\"labels\",\"id\":\"1f14e0\"},{\"value\":{\"start\":297.35,\"end\":298.0,\"channel\":0,\"text\":[\"speech\"]},\"from_name\":\"transcription\",\"to_name\":\"audio\",\"type\":\"textarea\",\"id\":\"1f14e0\"},{\"value\":{\"start\":298.0,\"end\":298.35,\"channel\":0,\"labels\":[\"Breath\"]},\"from_name\":\"labels\",\"to_name\":\"audio\",\"type\":\"labels\",\"id\":\"a911cd\"},{\"value\":{\"start\":298.0,\"end\":298.35,\"channel\":0,\"text\":[\"breath\"]},\"from_name\":\"transcription\",\"to_name\":\"audio\",\"type\":\"textarea\",\"id\":\"a911cd\"},{\"value\":{\"start\":298.35,\"end\":300.0752363642945,\"channel\":0,\"labels\":[\"Speech\"]},\"from_name\":\"labels\",\"to_name\":\"audio\",\"type\":\"labels\",\"id\":\"4cbcfb\"},{\"value\":{\"start\":298.35,\"end\":300.0752363642945,\"channel\":0,\"text\":[\"speech\"]},\"from_name\":\"transcription\",\"to_name\":\"audio\",\"type\":\"textarea\",\"id\":\"4cbcfb\"},{\"value\":{\"start\":301.35,\"end\":302.85,\"channel\":0,\"labels\":[\"Speech\"]},\"from_name\":\"labels\",\"to_name\":\"audio\",\"type\":\"labels\",\"id\":\"d741b4\"},{\"value\":{\"start\":301.35,\"end\":302.85,\"channel\":0,\"text\":[\"speech\"]},\"from_name\":\"transcription\",\"to_name\":\"audio\",\"type\":\"textarea\",\"id\":\"d741b4\"},{\"value\":{\"start\":304.0,\"end\":306.09488461282496,\"channel\":0,\"labels\":[\"Speech\"]},\"from_name\":\"labels\",\"to_name\":\"audio\",\"type\":\"labels\",\"id\":\"b1eedc\"},{\"value\":{\"start\":304.0,\"end\":306.09488461282496,\"channel\":0,\"text\":[\"speech\"]},\"from_name\":\"transcription\",\"to_name\":\"audio\",\"type\":\"textarea\",\"id\":\"b1eedc\"},{\"value\":{\"start\":306.09488461282496,\"end\":308.4259705736052,\"channel\":0,\"labels\":[\"Cross-talk\"]},\"from_name\":\"labels\",\"to_name\":\"audio\",\"type\":\"labels\",\"id\":\"cf71c2\"},{\"value\":{\"start\":306.09488461282496,\"end\":308.4259705736052,\"channel\":0,\"text\":[\"crosstalk\"]},\"from_name\":\"transcription\",\"to_name\":\"audio\",\"type\":\"textarea\",\"id\":\"cf71c2\"},{\"value\":{\"start\":308.4259705736052,\"end\":308.7713166418689,\"channel\":0,\"labels\":[\"Speech\"]},\"from_name\":\"labels\",\"to_name\":\"audio\",\"type\":\"labels\",\"id\":\"390dd0\"},{\"value\":{\"start\":308.4259705736052,\"end\":308.7713166418689,\"channel\":0,\"text\":[\"speech\"]},\"from_name\":\"transcription\",\"to_name\":\"audio\",\"type\":\"textarea\",\"id\":\"390dd0\"},{\"value\":{\"start\":308.7713166418689,\"end\":313.65,\"channel\":0,\"labels\":[\"Cross-talk\"]},\"from_name\":\"labels\",\"to_name\":\"audio\",\"type\":\"labels\",\"id\":\"88738c\"},{\"value\":{\"start\":308.7713166418689,\"end\":313.65,\"channel\":0,\"text\":[\"crosstalk\"]},\"from_name\":\"transcription\",\"to_name\":\"audio\",\"type\":\"textarea\",\"id\":\"88738c\"},{\"value\":{\"start\":313.65,\"end\":315.7,\"channel\":0,\"labels\":[\"Speech\"]},\"from_name\":\"labels\",\"to_name\":\"audio\",\"type\":\"labels\",\"id\":\"ac7cfd\"},{\"value\":{\"start\":313.65,\"end\":315.7,\"channel\":0,\"text\":[\"speech\"]},\"from_name\":\"transcription\",\"to_name\":\"audio\",\"type\":\"textarea\",\"id\":\"ac7cfd\"},{\"value\":{\"start\":316.5,\"end\":318.0,\"channel\":0,\"labels\":[\"Speech\"]},\"from_name\":\"labels\",\"to_name\":\"audio\",\"type\":\"labels\",\"id\":\"71579e\"},{\"value\":{\"start\":316.5,\"end\":318.0,\"channel\":0,\"text\":[\"speech\"]},\"from_name\":\"transcription\",\"to_name\":\"audio\",\"type\":\"textarea\",\"id\":\"71579e\"},{\"value\":{\"start\":318.0,\"end\":319.95,\"channel\":0,\"labels\":[\"Cross-talk\"]},\"from_name\":\"labels\",\"to_name\":\"audio\",\"type\":\"labels\",\"id\":\"eb69a6\"},{\"value\":{\"start\":318.0,\"end\":319.95,\"channel\":0,\"text\":[\"crosstalk\"]},\"from_name\":\"transcription\",\"to_name\":\"audio\",\"type\":\"textarea\",\"id\":\"eb69a6\"},{\"value\":{\"start\":319.95,\"end\":321.4,\"channel\":0,\"labels\":[\"Speech\"]},\"from_name\":\"labels\",\"to_name\":\"audio\",\"type\":\"labels\",\"id\":\"a15553\"},{\"value\":{\"start\":319.95,\"end\":321.4,\"channel\":0,\"text\":[\"speech\"]},\"from_name\":\"transcription\",\"to_name\":\"audio\",\"type\":\"textarea\",\"id\":\"a15553\"},{\"value\":{\"start\":321.4,\"end\":321.95417906717006,\"channel\":0,\"labels\":[\"Cross-talk\"]},\"from_name\":\"labels\",\"to_name\":\"audio\",\"type\":\"labels\",\"id\":\"9e2b6b\"},{\"value\":{\"start\":321.4,\"end\":321.95417906717006,\"channel\":0,\"text\":[\"crosstalk\"]},\"from_name\":\"transcription\",\"to_name\":\"audio\",\"type\":\"textarea\",\"id\":\"9e2b6b\"},{\"value\":{\"start\":321.95417906717006,\"end\":324.75701169758077,\"channel\":0,\"labels\":[\"Speech\"]},\"from_name\":\"labels\",\"to_name\":\"audio\",\"type\":\"labels\",\"id\":\"d43e3e\"},{\"value\":{\"start\":321.95417906717006,\"end\":324.75701169758077,\"channel\":0,\"text\":[\"speech\"]},\"from_name\":\"transcription\",\"to_name\":\"audio\",\"type\":\"textarea\",\"id\":\"d43e3e\"},{\"value\":{\"start\":324.75701169758077,\"end\":326.74275159009727,\"channel\":0,\"labels\":[\"Cross-talk\"]},\"from_name\":\"labels\",\"to_name\":\"audio\",\"type\":\"labels\",\"id\":\"b03180\"},{\"value\":{\"start\":324.75701169758077,\"end\":326.74275159009727,\"channel\":0,\"text\":[\"crosstalk\"]},\"from_name\":\"transcription\",\"to_name\":\"audio\",\"type\":\"textarea\",\"id\":\"b03180\"},{\"value\":{\"start\":326.74275159009727,\"end\":327.75,\"channel\":0,\"labels\":[\"Speech\"]},\"from_name\":\"labels\",\"to_name\":\"audio\",\"type\":\"labels\",\"id\":\"f29623\"},{\"value\":{\"start\":326.74275159009727,\"end\":327.75,\"channel\":0,\"text\":[\"speech\"]},\"from_name\":\"transcription\",\"to_name\":\"audio\",\"type\":\"textarea\",\"id\":\"f29623\"},{\"value\":{\"start\":327.75,\"end\":331.7,\"channel\":0,\"labels\":[\"Cross-talk\"]},\"from_name\":\"labels\",\"to_name\":\"audio\",\"type\":\"labels\",\"id\":\"02756d\"},{\"value\":{\"start\":327.75,\"end\":331.7,\"channel\":0,\"text\":[\"crosstalk\"]},\"from_name\":\"transcription\",\"to_name\":\"audio\",\"type\":\"textarea\",\"id\":\"02756d\"},{\"value\":{\"start\":331.7,\"end\":332.5553157999959,\"channel\":0,\"labels\":[\"Speech\"]},\"from_name\":\"labels\",\"to_name\":\"audio\",\"type\":\"labels\",\"id\":\"469ccb\"},{\"value\":{\"start\":331.7,\"end\":332.5553157999959,\"channel\":0,\"text\":[\"speech\"]},\"from_name\":\"transcription\",\"to_name\":\"audio\",\"type\":\"textarea\",\"id\":\"469ccb\"},{\"value\":{\"start\":333.55,\"end\":334.1037827703523,\"channel\":0,\"labels\":[\"Speech\"]},\"from_name\":\"labels\",\"to_name\":\"audio\",\"type\":\"labels\",\"id\":\"097305\"},{\"value\":{\"start\":333.55,\"end\":334.1037827703523,\"channel\":0,\"text\":[\"speech\"]},\"from_name\":\"transcription\",\"to_name\":\"audio\",\"type\":\"textarea\",\"id\":\"097305\"},{\"value\":{\"start\":334.1037827703523,\"end\":334.95,\"channel\":0,\"labels\":[\"Cross-talk\"]},\"from_name\":\"labels\",\"to_name\":\"audio\",\"type\":\"labels\",\"id\":\"01181c\"},{\"value\":{\"start\":334.1037827703523,\"end\":334.95,\"channel\":0,\"text\":[\"crosstalk\"]},\"from_name\":\"transcription\",\"to_name\":\"audio\",\"type\":\"textarea\",\"id\":\"01181c\"},{\"value\":{\"start\":334.95,\"end\":336.2223480737395,\"channel\":0,\"labels\":[\"Speech\"]},\"from_name\":\"labels\",\"to_name\":\"audio\",\"type\":\"labels\",\"id\":\"9ff200\"},{\"value\":{\"start\":334.95,\"end\":336.2223480737395,\"channel\":0,\"text\":[\"speech\"]},\"from_name\":\"transcription\",\"to_name\":\"audio\",\"type\":\"textarea\",\"id\":\"9ff200\"},{\"value\":{\"start\":336.2223480737395,\"end\":341.3760090702948,\"channel\":0,\"labels\":[\"Cross-talk\"]},\"from_name\":\"labels\",\"to_name\":\"audio\",\"type\":\"labels\",\"id\":\"7dffd2\"},{\"value\":{\"start\":336.2223480737395,\"end\":341.3760090702948,\"channel\":0,\"text\":[\"crosstalk\"]},\"from_name\":\"transcription\",\"to_name\":\"audio\",\"type\":\"textarea\",\"id\":\"7dffd2\"}],\"created_username\":\"Jim O'Regan jaoregan@tcd.ie, 1\",\"created_ago\":\"39 minutes\",\"completed_by\":1,\"was_cancelled\":false,\"ground_truth\":false,\"created_at\":\"2024-09-24T16:26:15.844383Z\",\"updated_at\":\"2024-09-24T17:06:15.475579Z\",\"draft_created_at\":null,\"lead_time\":967.364,\"import_id\":null,\"last_action\":null,\"task\":77,\"project\":5,\"updated_by\":1,\"parent_prediction\":null,\"parent_annotation\":null,\"last_created_by\":null}\n"
     ]
    }
   ],
   "source": [
    "r = post_results(263, 77, 5, data)\n",
    "print(r.text)"
   ]
  },
  {
   "cell_type": "code",
   "execution_count": 46,
   "metadata": {},
   "outputs": [
    {
     "name": "stdout",
     "output_type": "stream",
     "text": [
      "107 hsi_7_0719_209_001_main.wav\n",
      "108 hsi_7_0719_209_002_main.wav\n",
      "109 hsi_7_0719_209_003_main.wav\n",
      "110 hsi_7_0719_210_001_main.wav\n",
      "111 hsi_7_0719_210_002_main.wav\n",
      "112 hsi_7_0719_210_003_main.wav\n",
      "113 hsi_7_0719_211_002_main.wav\n",
      "114 hsi_7_0719_211_004_main.wav\n",
      "115 hsi_7_0719_222_002_main.wav\n",
      "116 hsi_7_0719_222_004_main.wav\n",
      "117 hsi_7_0719_227_002_main.wav\n",
      "118 hsi_7_0719_227_003_main.wav\n"
     ]
    }
   ],
   "source": [
    "from pathlib import Path\n",
    "\n",
    "for fn in mapping:\n",
    "    tgfile = fn.replace(\".wav\", \".TextGrid\")\n",
    "    if (Path(input_dir) / tgfile).exists():\n",
    "        print(mapping[fn], fn)\n"
   ]
  },
  {
   "cell_type": "code",
   "execution_count": null,
   "metadata": {},
   "outputs": [],
   "source": [
    "count = 230\n",
    "for task in mapping:\n",
    "    jsonfile = task.replace(\".wav\", \".TextGrid\")\n",
    "    file = f\"{input_dir}{jsonfile}\"\n",
    "    if not (Path(input_dir) / jsonfile).exists():\n",
    "        continue\n",
    "    data = tg_to_result(file)\n",
    "    r = post_results(count, mapping[task], 8, data)\n",
    "    count += 1\n",
    "    print(r.text)"
   ]
  },
  {
   "cell_type": "code",
   "execution_count": 136,
   "metadata": {},
   "outputs": [],
   "source": [
    "tmap = {}\n",
    "count = 99\n",
    "for task in mapping:\n",
    "    tmap[task] = count\n",
    "    count += 1\n"
   ]
  },
  {
   "cell_type": "code",
   "execution_count": 140,
   "metadata": {},
   "outputs": [
    {
     "name": "stdout",
     "output_type": "stream",
     "text": [
      "hsi_7_0719_227_002_inter.wav 69\n",
      "hsi_7_0719_209_003_inter.wav 61\n",
      "hsi_7_0719_227_003_inter.wav 70\n",
      "hsi_7_0719_211_004_inter.wav 66\n",
      "hsi_6_0718_209_001_inter.wav 59\n",
      "hsi_7_0719_222_002_inter.wav 67\n",
      "hsi_7_0719_209_001_inter.wav 60\n",
      "hsi_7_0719_222_004_inter.wav 68\n",
      "hsi_7_0719_211_002_inter.wav 65\n",
      "hsi_7_0719_210_002_inter.wav 63\n",
      "hsi_7_0719_210_003_inter.wav 64\n",
      "hsi_5_0718_209_001_inter.wav 56\n",
      "hsi_5_0718_209_003_inter.wav 58\n",
      "hsi_7_0719_210_001_inter.wav 62\n",
      "hsi_5_0718_209_002_inter.wav 57\n"
     ]
    }
   ],
   "source": [
    "from pathlib import Path\n",
    "\n",
    "for file in Path(\"/Users/joregan/Playing/hsi_ctmedit/textgrid\").glob(\"*.TextGrid\"):\n",
    "    wavfile = file.stem + \".wav\"\n",
    "    if wavfile in mapping:\n",
    "        print(wavfile, mapping[wavfile])"
   ]
  }
 ],
 "metadata": {
  "kernelspec": {
   "display_name": "nst-tts",
   "language": "python",
   "name": "python3"
  },
  "language_info": {
   "codemirror_mode": {
    "name": "ipython",
    "version": 3
   },
   "file_extension": ".py",
   "mimetype": "text/x-python",
   "name": "python",
   "nbconvert_exporter": "python",
   "pygments_lexer": "ipython3",
   "version": "3.10.9"
  }
 },
 "nbformat": 4,
 "nbformat_minor": 2
}
