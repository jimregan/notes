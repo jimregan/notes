{
 "cells": [
  {
   "cell_type": "code",
   "execution_count": 5,
   "metadata": {},
   "outputs": [],
   "source": [
    "PATH = \"/Users/joregan/Playing/hu-tts/hungarian-single-speaker-tts\""
   ]
  },
  {
   "cell_type": "code",
   "execution_count": null,
   "metadata": {},
   "outputs": [],
   "source": [
    "!pip install datasets librosa"
   ]
  },
  {
   "cell_type": "code",
   "execution_count": null,
   "metadata": {},
   "outputs": [],
   "source": [
    "from pathlib import Path\n",
    "import datasets"
   ]
  },
  {
   "cell_type": "code",
   "execution_count": 6,
   "metadata": {},
   "outputs": [],
   "source": [
    "path = Path(PATH)\n",
    "outdir = path / \"data\"\n",
    "transcript = path / \"transcript.txt\""
   ]
  },
  {
   "cell_type": "code",
   "execution_count": 40,
   "metadata": {},
   "outputs": [],
   "source": [
    "def clean_text(text, norm = False):\n",
    "    if text.endswith(\" -\"):\n",
    "        text = text[:-2]\n",
    "        text = text.replace(\".S \", \". S \")\n",
    "    if norm:\n",
    "        text = text.replace(\". \", \" \")\n",
    "        if len(text) > 1 and text[-1] in [\".\", \"!\", \"?\", \":\"]:\n",
    "            text = text[:-1]\n",
    "        text = text.replace(\" -, \", \" \")\n",
    "        text = text.replace(\" - \", \" \")\n",
    "        text = text.replace(\". \", \" \")\n",
    "        text = text.replace(\", \", \" \")\n",
    "        text = text.replace(\"? \", \" \")\n",
    "        text = text.replace(\": \", \" \")\n",
    "        text = text.replace(\"! \", \" \")\n",
    "        text = text.lower()\n",
    "    return text"
   ]
  },
  {
   "cell_type": "code",
   "execution_count": 46,
   "metadata": {},
   "outputs": [],
   "source": [
    "data = []\n",
    "with open(str(transcript)) as ts:\n",
    "    for line in ts.readlines():\n",
    "        data.append(line.strip().split(\"|\"))"
   ]
  },
  {
   "cell_type": "code",
   "execution_count": 49,
   "metadata": {},
   "outputs": [],
   "source": [
    "def data_gen():\n",
    "    for i in data:\n",
    "        filepath = i[0]\n",
    "        fileid = filepath.split(\"/\")[1].replace(\".wav\", \"\")\n",
    "        text = i[1]\n",
    "        lightly_cleaned = clean_text(text)\n",
    "        fully_cleaned = clean_text(text, True)\n",
    "        yield {\n",
    "            \"id\": fileid,\n",
    "            \"audio\": str(path / filepath),\n",
    "            \"original_text\": lightly_cleaned,\n",
    "            \"text\": fully_cleaned,\n",
    "            \"duration\": float(i[3])\n",
    "        }"
   ]
  },
  {
   "cell_type": "code",
   "execution_count": null,
   "metadata": {},
   "outputs": [],
   "source": [
    "from datasets import Dataset, Audio\n",
    "dataset = Dataset.from_generator(data_gen).cast_column(\"audio\", Audio())"
   ]
  },
  {
   "cell_type": "code",
   "execution_count": 52,
   "metadata": {},
   "outputs": [
    {
     "data": {
      "text/plain": [
       "1715550"
      ]
     },
     "execution_count": 52,
     "metadata": {},
     "output_type": "execute_result"
    }
   ],
   "source": [
    "dataset.to_parquet(outdir)"
   ]
  },
  {
   "cell_type": "code",
   "execution_count": null,
   "metadata": {},
   "outputs": [],
   "source": [
    "dataset[0]"
   ]
  }
 ],
 "metadata": {
  "kernelspec": {
   "display_name": "hf",
   "language": "python",
   "name": "python3"
  },
  "language_info": {
   "codemirror_mode": {
    "name": "ipython",
    "version": 3
   },
   "file_extension": ".py",
   "mimetype": "text/x-python",
   "name": "python",
   "nbconvert_exporter": "python",
   "pygments_lexer": "ipython3",
   "version": "3.9.15"
  },
  "orig_nbformat": 4,
  "vscode": {
   "interpreter": {
    "hash": "07bb6a9d2164abcdbb8286fc1e56d7ab9d62a92a750c8fe8e3bd5ac6fe973d15"
   }
  }
 },
 "nbformat": 4,
 "nbformat_minor": 2
}
