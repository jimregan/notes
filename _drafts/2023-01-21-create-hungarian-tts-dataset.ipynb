{
 "cells": [
  {
   "cell_type": "code",
   "execution_count": 5,
   "metadata": {},
   "outputs": [],
   "source": [
    "PATH = \"/Users/joregan/Playing/hu-tts/hungarian-single-speaker-tts\""
   ]
  },
  {
   "cell_type": "code",
   "execution_count": null,
   "metadata": {},
   "outputs": [],
   "source": [
    "!pip install datasets librosa"
   ]
  },
  {
   "cell_type": "code",
   "execution_count": null,
   "metadata": {},
   "outputs": [],
   "source": [
    "from pathlib import Path\n",
    "import datasets"
   ]
  },
  {
   "cell_type": "code",
   "execution_count": 6,
   "metadata": {},
   "outputs": [],
   "source": [
    "path = Path(PATH)\n",
    "outdir = path / \"data\"\n",
    "transcript = path / \"transcript.txt\""
   ]
  },
  {
   "cell_type": "code",
   "execution_count": 40,
   "metadata": {},
   "outputs": [],
   "source": [
    "def clean_text(text, norm = False):\n",
    "    if text.endswith(\" -\"):\n",
    "        text = text[:-2]\n",
    "        text = text.replace(\".S \", \". S \")\n",
    "    if norm:\n",
    "        text = text.replace(\". \", \" \")\n",
    "        if len(text) > 1 and text[-1] in [\".\", \"!\", \"?\", \":\"]:\n",
    "            text = text[:-1]\n",
    "        text = text.replace(\" -, \", \" \")\n",
    "        text = text.replace(\" - \", \" \")\n",
    "        text = text.replace(\". \", \" \")\n",
    "        text = text.replace(\", \", \" \")\n",
    "        text = text.replace(\"? \", \" \")\n",
    "        text = text.replace(\": \", \" \")\n",
    "        text = text.replace(\"! \", \" \")\n",
    "        text = text.lower()\n",
    "    return text"
   ]
  },
  {
   "cell_type": "code",
   "execution_count": 41,
   "metadata": {},
   "outputs": [],
   "source": [
    "data = []\n",
    "with open(str(transcript)) as ts:\n",
    "    for line in ts.readlines():\n",
    "        parts = line.strip().split(\"|\")\n",
    "        parts[1] = clean_text(parts[1])\n",
    "        parts[2] = clean_text(parts[2], True)\n",
    "        data.append(parts)"
   ]
  },
  {
   "cell_type": "code",
   "execution_count": 42,
   "metadata": {},
   "outputs": [],
   "source": [
    "def data_gen():\n",
    "    for i in data:\n",
    "        filepath = i[0]\n",
    "        fileid = filepath.split(\"/\")[1].replace(\".wav\", \"\")\n",
    "        text = i[1]\n",
    "        lightly_cleaned = clean_text(text)\n",
    "        fully_cleaned = clean_text(text, True)\n",
    "        yield {\n",
    "            \"id\": fileid,\n",
    "            \"audio\": str(path / filepath),\n",
    "            \"original_text\": lightly_cleaned,\n",
    "            \"text\": fully_cleaned,\n",
    "            \"duration\": float(i[3])\n",
    "        }"
   ]
  },
  {
   "cell_type": "code",
   "execution_count": 43,
   "metadata": {},
   "outputs": [
    {
     "name": "stderr",
     "output_type": "stream",
     "text": [
      "Using custom data configuration default-1c789ef65a8a4cf0\n",
      "/Users/joregan/opt/anaconda3/envs/hf/lib/python3.9/site-packages/datasets/builder.py:712: FutureWarning: 'use_auth_token' was deprecated in version 2.7.1 and will be removed in 3.0.0. Pass `use_auth_token` to the initializer/`load_dataset_builder` instead.\n",
      "  warnings.warn(\n"
     ]
    },
    {
     "name": "stdout",
     "output_type": "stream",
     "text": [
      "Downloading and preparing dataset generator/default to /Users/joregan/.cache/huggingface/datasets/generator/default-1c789ef65a8a4cf0/0.0.0...\n"
     ]
    },
    {
     "name": "stderr",
     "output_type": "stream",
     "text": [
      "\n",
      "\n",
      "\n",
      "\u001b[A\u001b[A\u001b[A\n",
      "\n",
      "\n",
      "\u001b[A\u001b[A\u001b[A"
     ]
    },
    {
     "name": "stdout",
     "output_type": "stream",
     "text": [
      "Dataset generator downloaded and prepared to /Users/joregan/.cache/huggingface/datasets/generator/default-1c789ef65a8a4cf0/0.0.0. Subsequent calls will reuse this data.\n"
     ]
    }
   ],
   "source": [
    "from datasets import Dataset, Audio\n",
    "dataset = Dataset.from_generator(data_gen).cast_column(\"audio\", Audio())"
   ]
  },
  {
   "cell_type": "code",
   "execution_count": 44,
   "metadata": {},
   "outputs": [
    {
     "data": {
      "text/plain": [
       "Dataset({\n",
       "    features: ['id', 'audio', 'original_text', 'text', 'duration'],\n",
       "    num_rows: 4515\n",
       "})"
      ]
     },
     "execution_count": 44,
     "metadata": {},
     "output_type": "execute_result"
    }
   ],
   "source": [
    "dataset"
   ]
  },
  {
   "cell_type": "code",
   "execution_count": 45,
   "metadata": {},
   "outputs": [
    {
     "data": {
      "text/plain": [
       "{'id': 'egri_csillagok_0000',\n",
       " 'audio': {'path': '/Users/joregan/Playing/hu-tts/hungarian-single-speaker-tts/egri_csillagok/egri_csillagok_0000.wav',\n",
       "  'array': array([-0.0022583 , -0.00192261, -0.00180054, ..., -0.00079346,\n",
       "         -0.00091553, -0.00082397], dtype=float32),\n",
       "  'sampling_rate': 22050},\n",
       " 'original_text': 'Az erdőben jártak, patakra találtak. A nap tüzesen sütött. A víz tetszett nekik.',\n",
       " 'text': 'az erdőben jártak patakra találtak a nap tüzesen sütött a víz tetszett nekik',\n",
       " 'duration': 6.75}"
      ]
     },
     "execution_count": 45,
     "metadata": {},
     "output_type": "execute_result"
    }
   ],
   "source": [
    "dataset[0]"
   ]
  }
 ],
 "metadata": {
  "kernelspec": {
   "display_name": "hf",
   "language": "python",
   "name": "python3"
  },
  "language_info": {
   "codemirror_mode": {
    "name": "ipython",
    "version": 3
   },
   "file_extension": ".py",
   "mimetype": "text/x-python",
   "name": "python",
   "nbconvert_exporter": "python",
   "pygments_lexer": "ipython3",
   "version": "3.9.15"
  },
  "orig_nbformat": 4,
  "vscode": {
   "interpreter": {
    "hash": "07bb6a9d2164abcdbb8286fc1e56d7ab9d62a92a750c8fe8e3bd5ac6fe973d15"
   }
  }
 },
 "nbformat": 4,
 "nbformat_minor": 2
}
