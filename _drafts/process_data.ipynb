{
 "cells": [
  {
   "cell_type": "code",
   "execution_count": 1,
   "metadata": {},
   "outputs": [],
   "source": [
    "from pathlib import Path\n",
    "from pydub import AudioSegment"
   ]
  },
  {
   "cell_type": "code",
   "execution_count": 7,
   "metadata": {},
   "outputs": [],
   "source": [
    "BASE = Path(\"/home/joregan\")\n",
    "TSV_PATH = BASE / \"train-valid-deliverable/round1/C1A1\"\n",
    "AUDIO_PATH = BASE / \"train-valid-deliverable\" / \"C1_audio\"\n",
    "OUT_PATH = BASE / \"train-valid-deliverable\" / \"split\""
   ]
  },
  {
   "cell_type": "code",
   "execution_count": 4,
   "metadata": {},
   "outputs": [],
   "source": [
    "parameters=[\"-ac\", \"1\", \"-acodec\", \"pcm_s16le\", \"-ar\", \"16000\"]"
   ]
  },
  {
   "cell_type": "code",
   "execution_count": 8,
   "metadata": {},
   "outputs": [],
   "source": [
    "OUT_DIR = BASE / \"train-valid-deliverable\" / \"split\"\n",
    "for tsvfile in TSV_PATH.glob(\"*.tsv\"):\n",
    "    stem = tsvfile.stem\n",
    "    in_wav = AUDIO_PATH / f\"{stem}.wav\"\n",
    "    wav_as = AudioSegment.from_wav(str(in_wav))\n",
    "    counter = 1\n",
    "    with open(str(tsvfile)) as tsv:\n",
    "            for line in tsv.readlines():\n",
    "                parts = line.strip().split(\"\\t\")\n",
    "                if line.startswith(\"Start\"):\n",
    "                    continue\n",
    "                start = int(parts[0])\n",
    "                end = int(parts[1])\n",
    "                current_wav = wav_as[start:end]\n",
    "                outname = OUT_PATH / f\"{stem}_{start}_{end}.wav\"\n",
    "                current_wav.export(str(outname), format=\"wav\", parameters=parameters)\n"
   ]
  }
 ],
 "metadata": {
  "kernelspec": {
   "display_name": "hf",
   "language": "python",
   "name": "python3"
  },
  "language_info": {
   "codemirror_mode": {
    "name": "ipython",
    "version": 3
   },
   "file_extension": ".py",
   "mimetype": "text/x-python",
   "name": "python",
   "nbconvert_exporter": "python",
   "pygments_lexer": "ipython3",
   "version": "3.9.16"
  },
  "orig_nbformat": 4,
  "vscode": {
   "interpreter": {
    "hash": "323572f3d7d63e949a9798ea1062be3bd23d8f1ad1664ecc50859e690c42d8f5"
   }
  }
 },
 "nbformat": 4,
 "nbformat_minor": 2
}
