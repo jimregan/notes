{
 "cells": [
  {
   "cell_type": "code",
   "execution_count": 1,
   "metadata": {},
   "outputs": [],
   "source": [
    "from pathlib import Path\n",
    "LINESFILE = Path(\"/home/joregan/third-shuffle\")"
   ]
  },
  {
   "cell_type": "code",
   "execution_count": 2,
   "metadata": {},
   "outputs": [],
   "source": [
    "from pydub import AudioSegment"
   ]
  },
  {
   "cell_type": "code",
   "execution_count": 3,
   "metadata": {},
   "outputs": [],
   "source": [
    "VIDBASE = \"/sbtal/riksdag-video/\"\n",
    "VIDSFX = \"_480p.mp4\""
   ]
  },
  {
   "cell_type": "code",
   "execution_count": 4,
   "metadata": {},
   "outputs": [],
   "source": [
    "parameters=[\"-ac\", \"1\", \"-acodec\", \"pcm_s16le\", \"-ar\", \"16000\"]"
   ]
  },
  {
   "cell_type": "code",
   "execution_count": 20,
   "metadata": {},
   "outputs": [
    {
     "name": "stdout",
     "output_type": "stream",
     "text": [
      "2303.74 2312.079\n",
      "1517.42 1529.1599999999999\n",
      "885.9 897.299\n",
      "2107.76 2119.38\n",
      "305.86 314.5\n",
      "1415.62 1426.819\n",
      "50.12 61.38\n",
      "992.76 1000.13\n",
      "766.86 771.799\n",
      "3596.66 3601.7799999999997\n"
     ]
    }
   ],
   "source": [
    "VIDBASEPATH = Path(VIDBASE)\n",
    "for tscr in LINESFILE.glob(\"TERROR_*\"):\n",
    "    with open(tscr) as tscf:\n",
    "        lines = []\n",
    "        for line in tscf.readlines():\n",
    "            line = line.strip()\n",
    "            if line == \"\":\n",
    "                continue\n",
    "            else:\n",
    "                lines.append(line)\n",
    "        parts_s = lines[0].split(\" \")\n",
    "        parts_e = lines[-1].split(\" \")\n",
    "        vidfile = VIDBASEPATH / f\"{vidid}{VIDSFX}\"\n",
    "        if not vidfile.exists():\n",
    "            print(\"Error\", vidfile)\n",
    "        vidid = parts_s[0]\n",
    "        fstart = float(parts_s[2])\n",
    "        fend = float(parts_e[2]) + float(parts_e[3])\n",
    "        print(fstart, fend)\n",
    "        start = int(fstart * 1000)\n",
    "        end = int(fend * 1000)\n",
    "        # audio = AudioSegment.from_file(str(vidfile), \"mp4\")\n",
    "        # tmpwav = audio.export(f\"/tmp/{vidid}.wav\", format=\"wav\", parameters=parameters)\n",
    "        wavaudio = AudioSegment.from_wav(f\"/tmp/{vidid}.wav\")\n",
    "        sect = wavaudio[start:end]\n",
    "        outname = str(LINESFILE / f\"{vidid}.wav\")\n",
    "        sect.export(outname, format=\"wav\", parameters=parameters)\n"
   ]
  }
 ],
 "metadata": {
  "kernelspec": {
   "display_name": "whisper-v3",
   "language": "python",
   "name": "python3"
  },
  "language_info": {
   "codemirror_mode": {
    "name": "ipython",
    "version": 3
   },
   "file_extension": ".py",
   "mimetype": "text/x-python",
   "name": "python",
   "nbconvert_exporter": "python",
   "pygments_lexer": "ipython3",
   "version": "3.1.0"
  }
 },
 "nbformat": 4,
 "nbformat_minor": 2
}
