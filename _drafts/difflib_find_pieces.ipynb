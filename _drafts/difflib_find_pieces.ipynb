{
  "nbformat": 4,
  "nbformat_minor": 0,
  "metadata": {
    "colab": {
      "name": "difflib-find-pieces.ipynb",
      "provenance": []
    },
    "kernelspec": {
      "name": "python3",
      "display_name": "Python 3"
    },
    "language_info": {
      "name": "python"
    }
  },
  "cells": [
    {
      "cell_type": "code",
      "source": [
        "texta = \"this is a small test\"\n",
        "textb = \"this isa small text\""
      ],
      "metadata": {
        "id": "p7luA7OKqN6R"
      },
      "execution_count": 4,
      "outputs": []
    },
    {
      "cell_type": "code",
      "execution_count": 3,
      "metadata": {
        "id": "VZVv2G6onnTw"
      },
      "outputs": [],
      "source": [
        "from difflib import SequenceMatcher\n",
        "def print_replacements(texta, textb):\n",
        "    sm = SequenceMatcher(a=texta, b=textb)\n",
        "    for op, a_start, a_end, b_start, b_end in sm.get_opcodes():\n",
        "        frag_a = texta[a_start:a_end]\n",
        "        frag_b = textb[b_start:b_end]\n",
        "        a_pre = a_start - 1 if a_start > 0 else 0\n",
        "        b_pre = b_start - 1 if b_start > 0 else 0\n",
        "        a_post = a_end + 1 if a_end < (len(texta) - 1) else a_end\n",
        "        b_post = b_end + 1 if b_end < (len(textb) - 1) else b_end\n",
        "        if op == \"equal\":\n",
        "            continue\n",
        "        elif op == \"delete\":\n",
        "            if frag_a == \" \":\n",
        "                continue\n",
        "            print(f\"del\\t{texta[a_pre:a_post]}\\t{textb[b_pre:b_post]}\")\n",
        "        elif op == \"insert\":\n",
        "            if frag_b == \" \":\n",
        "                continue\n",
        "            print(f\"ins\\t{texta[a_pre:a_post]}\\t{textb[b_pre:b_post]}\")\n",
        "        elif op == \"replace\":\n",
        "            print(f\"repl\\t{frag_a}\\t{frag_b}\")\n"
      ]
    },
    {
      "cell_type": "code",
      "source": [
        "print_replacements(texta, textb)"
      ],
      "metadata": {
        "colab": {
          "base_uri": "https://localhost:8080/"
        },
        "id": "SNHrporUqSuC",
        "outputId": "d57ab56b-4eb7-4734-aab1-379f64a50d74"
      },
      "execution_count": 5,
      "outputs": [
        {
          "output_type": "stream",
          "name": "stdout",
          "text": [
            "repl\ts\tx\n"
          ]
        }
      ]
    }
  ]
}