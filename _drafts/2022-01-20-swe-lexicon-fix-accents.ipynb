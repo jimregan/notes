{
  "nbformat": 4,
  "nbformat_minor": 0,
  "metadata": {
    "colab": {
      "name": "2022-01-20-swe-lexicon-fix-accents.ipynb",
      "provenance": [],
      "collapsed_sections": []
    },
    "kernelspec": {
      "name": "python3",
      "display_name": "Python 3"
    },
    "language_info": {
      "name": "python"
    }
  },
  "cells": [
    {
      "cell_type": "code",
      "execution_count": 1,
      "metadata": {
        "id": "lBu0REwwxJsp"
      },
      "outputs": [],
      "source": [
        "_VOWELS = [\n",
        "    \"}:\",\n",
        "    \"2:\",\n",
        "    \"9\",\n",
        "    \"a\",\n",
        "    \"a*U\",\n",
        "    \"A:\",\n",
        "    \"e\",\n",
        "    \"E\",\n",
        "    \"E*U\",\n",
        "    \"e:\",\n",
        "    \"E:\",\n",
        "    \"I\",\n",
        "    \"i:\",\n",
        "    \"O\",\n",
        "    \"o:\",\n",
        "    \"U\",\n",
        "    \"u:\",\n",
        "    \"u0\",\n",
        "    \"Y\",\n",
        "    \"y:\"\n",
        "]"
      ]
    },
    {
      "cell_type": "code",
      "source": [
        "_SAMPLE = \"\"\"\n",
        "AFTENPOSTEN\t\"a f t e n %p O s t e n\n",
        "AFTONBLADET\t\"a f t O n %b l A: d e t\n",
        "AFTONBLADETS\t\"a f t O n %b l A: d e t s\n",
        "AFTONBRISVÄGEN\t\"a f t O n b r i: s %v E: g e n\n",
        "AFTONGATAN\t\"a f t O N %g A: t a n\n",
        "AFTONVÄGEN\t\"a f t O n %v E: g e n\n",
        "AFZELIIVÄGEN\ta f \"s e: l I %v E: g e n\n",
        "AFZELIUS\ta f \"s e: l I u0 s\n",
        "AGADIR\ta g a \"d i: r\n",
        "AGAMEMNON\ta g a \"m E m n O n\n",
        "AGARD\t\"A: g a d`\n",
        "AGARDH\t\"A: g a d`\n",
        "AGARDHSGATAN\t\"A: g a d` s` %g A: t a n\n",
        "AGARDSSON\t\"A: g a d` s` O n\n",
        "AGASSI\ta \"g a s I\n",
        "AGASSIS\ta \"g a s I s\n",
        "AGATA\ta \"g A: t a\n",
        "AGATAS\ta \"g A: t a s\n",
        "\"\"\""
      ],
      "metadata": {
        "id": "uymsjEWvb7bL"
      },
      "execution_count": 10,
      "outputs": []
    },
    {
      "cell_type": "code",
      "source": [
        "def split_phone(inphone):\n",
        "    _STRESSMARKS = ['\"\"', '\"', '%']\n",
        "    outmark = ''\n",
        "    outphone = inphone\n",
        "    for sm in _STRESSMARKS:\n",
        "        if inphone.startswith(sm):\n",
        "            outmark = sm\n",
        "            outphone = inphone.replace(sm, '')\n",
        "    return (outmark, outphone)"
      ],
      "metadata": {
        "id": "8X6PD3k639_1"
      },
      "execution_count": 32,
      "outputs": []
    },
    {
      "cell_type": "code",
      "source": [
        "out_words = []\n",
        "for line in _SAMPLE.split('\\n'):\n",
        "    if line == '':\n",
        "        continue\n",
        "    phones_out = []\n",
        "    parts = line.split('\\t')\n",
        "    assert len(parts) == 2\n",
        "    current_mark = ''\n",
        "    for phone in parts[1].split(' '):\n",
        "        tmp_mark, actual_phone = split_phone(phone)\n",
        "        if tmp_mark != '':\n",
        "            current_mark = tmp_mark\n",
        "        if actual_phone in _VOWELS and current_mark != '':\n",
        "            phones_out.append(current_mark + actual_phone)\n",
        "            current_mark = ''\n",
        "        else:\n",
        "            phones_out.append(actual_phone)\n",
        "    new_phones = ' '.join(phones_out)\n",
        "    out_words.append(f\"{parts[0]}\\t{new_phones}\")"
      ],
      "metadata": {
        "id": "sotCJoV6cnwg"
      },
      "execution_count": 37,
      "outputs": []
    },
    {
      "cell_type": "code",
      "source": [
        "out_words"
      ],
      "metadata": {
        "colab": {
          "base_uri": "https://localhost:8080/"
        },
        "id": "ZNyP-sw4h_oa",
        "outputId": "77fe408c-6528-45a4-8b97-e7738358b49a"
      },
      "execution_count": 38,
      "outputs": [
        {
          "output_type": "execute_result",
          "data": {
            "text/plain": [
              "['AFTENPOSTEN\\t\"a f t e n p %O s t e n',\n",
              " 'AFTONBLADET\\t\"a f t O n b l %A: d e t',\n",
              " 'AFTONBLADETS\\t\"a f t O n b l %A: d e t s',\n",
              " 'AFTONBRISVÄGEN\\t\"a f t O n b r i: s v %E: g e n',\n",
              " 'AFTONGATAN\\t\"a f t O N g %A: t a n',\n",
              " 'AFTONVÄGEN\\t\"a f t O n v %E: g e n',\n",
              " 'AFZELIIVÄGEN\\ta f s \"e: l I v %E: g e n',\n",
              " 'AFZELIUS\\ta f s \"e: l I u0 s',\n",
              " 'AGADIR\\ta g a d \"i: r',\n",
              " 'AGAMEMNON\\ta g a m \"E m n O n',\n",
              " 'AGARD\\t\"A: g a d`',\n",
              " 'AGARDH\\t\"A: g a d`',\n",
              " 'AGARDHSGATAN\\t\"A: g a d` s` g %A: t a n',\n",
              " 'AGARDSSON\\t\"A: g a d` s` O n',\n",
              " 'AGASSI\\ta g \"a s I',\n",
              " 'AGASSIS\\ta g \"a s I s',\n",
              " 'AGATA\\ta g \"A: t a',\n",
              " 'AGATAS\\ta g \"A: t a s']"
            ]
          },
          "metadata": {},
          "execution_count": 38
        }
      ]
    }
  ]
}