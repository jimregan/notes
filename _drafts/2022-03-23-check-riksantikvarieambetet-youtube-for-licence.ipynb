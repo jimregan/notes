{
  "cells": [
    {
      "cell_type": "markdown",
      "metadata": {
        "id": "5b5IC0WYEiw4"
      },
      "source": [
        "# Check Riksantikvarieämbetet youtube for licence\n",
        "\n",
        "> \"Partial scraping of one youtube channel\"\n",
        "\n",
        "- toc: false\n",
        "- branch: master\n",
        "- hidden: true\n",
        "- categories: [swedish]"
      ],
      "id": "5b5IC0WYEiw4"
    },
    {
      "cell_type": "markdown",
      "metadata": {
        "id": "SvvFHjEMEiw6"
      },
      "source": [
        "Update of {% post_url 2021-09-21-check-riksantikvarieambetet-youtube-for-licence %}"
      ],
      "id": "SvvFHjEMEiw6"
    },
    {
      "cell_type": "code",
      "execution_count": 1,
      "metadata": {
        "_cell_guid": "b1076dfc-b9ad-4769-8c92-a6c4dae69d19",
        "_uuid": "8f2839f25d086af736a60e9eeb907d3b93b6e0e5",
        "execution": {
          "iopub.execute_input": "2021-09-27T09:05:06.392754Z",
          "iopub.status.busy": "2021-09-27T09:05:06.392167Z",
          "iopub.status.idle": "2021-09-27T09:05:16.014601Z",
          "shell.execute_reply": "2021-09-27T09:05:16.013821Z",
          "shell.execute_reply.started": "2021-09-21T10:06:08.19289Z"
        },
        "papermill": {
          "duration": 9.63957,
          "end_time": "2021-09-27T09:05:16.014759",
          "exception": false,
          "start_time": "2021-09-27T09:05:06.375189",
          "status": "completed"
        },
        "tags": [],
        "id": "snFXKdmPEiw6"
      },
      "outputs": [],
      "source": [
        "%%capture\n",
        "!pip install youtube-dl"
      ],
      "id": "snFXKdmPEiw6"
    },
    {
      "cell_type": "code",
      "execution_count": 2,
      "metadata": {
        "execution": {
          "iopub.execute_input": "2021-09-27T09:05:16.037849Z",
          "iopub.status.busy": "2021-09-27T09:05:16.034059Z",
          "iopub.status.idle": "2021-09-27T09:05:18.339994Z",
          "shell.execute_reply": "2021-09-27T09:05:18.340428Z",
          "shell.execute_reply.started": "2021-09-21T10:11:13.347854Z"
        },
        "papermill": {
          "duration": 2.3174,
          "end_time": "2021-09-27T09:05:18.340620",
          "exception": false,
          "start_time": "2021-09-27T09:05:16.023220",
          "status": "completed"
        },
        "tags": [],
        "id": "EiLna9J_Eiw7"
      },
      "outputs": [],
      "source": [
        "!youtube-dl -j --flat-playlist \"https://www.youtube.com/c/heritageboard/playlists?view=1&sort=dd&shelf_id=0\" > rplist.json"
      ],
      "id": "EiLna9J_Eiw7"
    },
    {
      "cell_type": "code",
      "source": [
        "!youtube-dl --skip-download --write-info-json -i -o '%(id)s.%(ext)s' \"https://www.youtube.com/c/heritageboard/playlists?view=1&sort=dd&shelf_id=0\" \"https://www.youtube.com/c/heritageboard/videos?view=0&sort=dd&shelf_id=0\""
      ],
      "metadata": {
        "id": "fBPrcfx-KOJL"
      },
      "id": "fBPrcfx-KOJL",
      "execution_count": null,
      "outputs": []
    },
    {
      "cell_type": "code",
      "execution_count": null,
      "metadata": {
        "execution": {
          "iopub.execute_input": "2021-09-27T09:05:18.355598Z",
          "iopub.status.busy": "2021-09-27T09:05:18.355040Z",
          "iopub.status.idle": "2021-09-27T09:06:04.835914Z",
          "shell.execute_reply": "2021-09-27T09:06:04.835418Z",
          "shell.execute_reply.started": "2021-09-21T10:14:02.137158Z"
        },
        "papermill": {
          "duration": 46.489537,
          "end_time": "2021-09-27T09:06:04.836092",
          "exception": false,
          "start_time": "2021-09-27T09:05:18.346555",
          "status": "completed"
        },
        "tags": [],
        "id": "LgVNcl6DEiw7"
      },
      "outputs": [],
      "source": [
        "!ls ./*.json|zip json.zip -@"
      ],
      "id": "LgVNcl6DEiw7"
    },
    {
      "cell_type": "code",
      "execution_count": 6,
      "metadata": {
        "execution": {
          "iopub.execute_input": "2021-09-27T09:06:09.822758Z",
          "iopub.status.busy": "2021-09-27T09:06:09.822104Z",
          "iopub.status.idle": "2021-09-27T09:06:09.824812Z",
          "shell.execute_reply": "2021-09-27T09:06:09.824362Z"
        },
        "papermill": {
          "duration": 0.0139,
          "end_time": "2021-09-27T09:06:09.824959",
          "exception": false,
          "start_time": "2021-09-27T09:06:09.811059",
          "status": "completed"
        },
        "tags": [],
        "id": "SZbJ9REHEiw8"
      },
      "outputs": [],
      "source": [
        "lic = 'Creative Commons Attribution licence (reuse allowed)'"
      ],
      "id": "SZbJ9REHEiw8"
    }
  ],
  "metadata": {
    "kernelspec": {
      "display_name": "Python 3",
      "language": "python",
      "name": "python3"
    },
    "language_info": {
      "codemirror_mode": {
        "name": "ipython",
        "version": 3
      },
      "file_extension": ".py",
      "mimetype": "text/x-python",
      "name": "python",
      "nbconvert_exporter": "python",
      "pygments_lexer": "ipython3",
      "version": "3.6.9"
    },
    "papermill": {
      "default_parameters": {},
      "duration": 280.72051,
      "end_time": "2021-09-27T09:09:40.276199",
      "environment_variables": {},
      "exception": null,
      "input_path": "__notebook__.ipynb",
      "output_path": "__notebook__.ipynb",
      "parameters": {},
      "start_time": "2021-09-27T09:04:59.555689",
      "version": "2.3.3"
    },
    "colab": {
      "name": "2021-09-21-check-riksantikvarieambetet-youtube-for-licence.ipynb",
      "provenance": []
    }
  },
  "nbformat": 4,
  "nbformat_minor": 5
}