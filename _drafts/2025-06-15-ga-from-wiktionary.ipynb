{
 "cells": [
  {
   "cell_type": "code",
   "execution_count": 1,
   "id": "97d1ca96",
   "metadata": {},
   "outputs": [],
   "source": [
    "test1 = \"* {{IPA|ga|/ˈhan̪ˠə/|/ˈhanˠə/|ref1={{R:ga:SjPh|50|section=90}}|ref2={{R:ga:Finck|II|137}}}}\""
   ]
  },
  {
   "cell_type": "code",
   "execution_count": 3,
   "id": "46402e07",
   "metadata": {},
   "outputs": [],
   "source": [
    "import mwparserfromhell\n",
    "code = mwparserfromhell.parse(test1)"
   ]
  },
  {
   "cell_type": "code",
   "execution_count": 8,
   "id": "d56b47f0",
   "metadata": {},
   "outputs": [],
   "source": [
    "a = code.filter_templates()"
   ]
  },
  {
   "cell_type": "code",
   "execution_count": 13,
   "id": "d8882c4b",
   "metadata": {},
   "outputs": [],
   "source": [
    "t = a[0].params[3]"
   ]
  },
  {
   "cell_type": "code",
   "execution_count": 15,
   "id": "5f1e17d7",
   "metadata": {},
   "outputs": [
    {
     "data": {
      "text/plain": [
       "'{{R:ga:SjPh|50|section=90}}'"
      ]
     },
     "execution_count": 15,
     "metadata": {},
     "output_type": "execute_result"
    }
   ],
   "source": [
    "t.value"
   ]
  }
 ],
 "metadata": {
  "kernelspec": {
   "display_name": "nst-tts",
   "language": "python",
   "name": "python3"
  },
  "language_info": {
   "codemirror_mode": {
    "name": "ipython",
    "version": 3
   },
   "file_extension": ".py",
   "mimetype": "text/x-python",
   "name": "python",
   "nbconvert_exporter": "python",
   "pygments_lexer": "ipython3",
   "version": "3.10.9"
  }
 },
 "nbformat": 4,
 "nbformat_minor": 5
}
