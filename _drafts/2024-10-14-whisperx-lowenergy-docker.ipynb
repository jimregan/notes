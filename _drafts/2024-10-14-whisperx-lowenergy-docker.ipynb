{
 "cells": [
  {
   "cell_type": "markdown",
   "metadata": {},
   "source": [
    "```docker\n",
    "FROM pytorch/pytorch\n",
    "RUN apt update\n",
    "RUN apt install -y git\n",
    "RUN pip install git+https://github.com/m-bain/whisperX\n",
    "#RUN python -c 'from whisperx.asr import load_model; load_model(\"large-v3\", \"cpu\")'\n",
    "RUN python -c 'from faster_whisper.utils import download_model; download_model(\"large-v3\")'\n",
    "```"
   ]
  },
  {
   "cell_type": "markdown",
   "metadata": {
    "vscode": {
     "languageId": "plaintext"
    }
   },
   "source": [
    "```bash\n",
    "docker run -it --entrypoint /bin/bash -v'/home/joregan/tmpf:/audio' --gpus all whisperx\n",
    "```"
   ]
  }
 ],
 "metadata": {
  "language_info": {
   "name": "python"
  }
 },
 "nbformat": 4,
 "nbformat_minor": 2
}
