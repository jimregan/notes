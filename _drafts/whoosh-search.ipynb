{
 "cells": [
  {
   "cell_type": "code",
   "execution_count": 1,
   "metadata": {},
   "outputs": [],
   "source": [
    "import webvtt"
   ]
  },
  {
   "cell_type": "code",
   "execution_count": 2,
   "metadata": {},
   "outputs": [],
   "source": [
    "import whoosh.index as index"
   ]
  },
  {
   "cell_type": "code",
   "execution_count": 3,
   "metadata": {},
   "outputs": [],
   "source": [
    "ix = index.open_dir(\"indexngram\")"
   ]
  },
  {
   "cell_type": "code",
   "execution_count": 4,
   "metadata": {},
   "outputs": [],
   "source": [
    "from whoosh.fields import Schema, TEXT, KEYWORD, ID, STORED, NUMERIC, BOOLEAN, NGRAMWORDS\n",
    "\n",
    "schema = Schema(videostatus=NUMERIC(stored=True),\n",
    "                committee=ID(stored=True),\n",
    "                type=ID(stored=True),\n",
    "                debatepreamble=ID(stored=True),\n",
    "                debatetexthtml=ID(stored=True),\n",
    "                livestreamurl=ID(stored=True),\n",
    "                activelivespeaker=ID(stored=True),\n",
    "                id=ID(stored=True),\n",
    "                dokid=ID(stored=True),\n",
    "                title=ID(stored=True),\n",
    "                debatename=ID(stored=True),\n",
    "                debatedate=ID(stored=True),\n",
    "                debatetype=ID(stored=True),\n",
    "                debateurl=ID(stored=True),\n",
    "                fromchamber=BOOLEAN(stored=True),\n",
    "                thumbnailurl=ID(stored=True),\n",
    "                debateseconds=NUMERIC(stored=True),\n",
    "                streamurl=ID(stored=True),\n",
    "                start=NUMERIC(stored=True),\n",
    "                duration=NUMERIC(stored=True),\n",
    "                speaker=ID(stored=True),\n",
    "                party=ID(stored=True),\n",
    "                subid=ID(stored=True),\n",
    "                active=BOOLEAN(stored=True),\n",
    "                number=NUMERIC(stored=True),\n",
    "                paragraph=NUMERIC(stored=True),\n",
    "                text=NGRAMWORDS(minsize=2, maxsize=5, stored=True))"
   ]
  },
  {
   "cell_type": "code",
   "execution_count": null,
   "metadata": {},
   "outputs": [],
   "source": [
    "from whoosh.qparser import QueryParser\n",
    "from whoosh import scoring\n",
    "\n",
    "qp = QueryParser(\"text\", schema=ix.schema)\n",
    "\n",
    "with ix.searcher(weighting=scoring.TF_IDF()) as searcher:\n",
    "    for caption in webvtt.read(\"/sbtal/riksdag-video/2442204290010759921_480p.mp4.vtt\"):\n",
    "        q = qp.parse(caption.text)\n",
    "\n",
    "        with ix.searcher() as s:\n",
    "            results = s.search(q)\n",
    "            print(results)"
   ]
  },
  {
   "cell_type": "code",
   "execution_count": null,
   "metadata": {},
   "outputs": [],
   "source": [
    "q = qp.parse(\"tack för\")\n",
    "\n",
    "with ix.searcher() as s:\n",
    "    results = s.search(q)\n",
    "    for res in results:\n",
    "        print(res)"
   ]
  },
  {
   "cell_type": "code",
   "execution_count": 8,
   "metadata": {},
   "outputs": [],
   "source": [
    "SENT = \"Europa svettas nu med höga elpriser som ju handlar både om sådana saker som utsläppsrätter och kol\"\n",
    "#SENT = \"Europa svettas utsläppsrätter\""
   ]
  },
  {
   "cell_type": "code",
   "execution_count": null,
   "metadata": {},
   "outputs": [],
   "source": [
    "from whoosh import qparser\n",
    "qp = QueryParser(\"text\", schema=ix.schema, group=qparser.OrGroup.factory(0.9))\n",
    "\n",
    "q = qp.parse(SENT)\n",
    "\n",
    "with ix.searcher() as s:\n",
    "    results = s.search(q, terms=True, limit=None)\n",
    "#    print(len(results))\n",
    "#    unique = set([r for r in results])\n",
    "#    print(len(unique))\n",
    "    for res in results:\n",
    "        print(res)"
   ]
  }
 ],
 "metadata": {
  "kernelspec": {
   "display_name": "hf",
   "language": "python",
   "name": "python3"
  },
  "language_info": {
   "codemirror_mode": {
    "name": "ipython",
    "version": 3
   },
   "file_extension": ".py",
   "mimetype": "text/x-python",
   "name": "python",
   "nbconvert_exporter": "python",
   "pygments_lexer": "ipython3",
   "version": "3.10.6"
  },
  "orig_nbformat": 4,
  "vscode": {
   "interpreter": {
    "hash": "323572f3d7d63e949a9798ea1062be3bd23d8f1ad1664ecc50859e690c42d8f5"
   }
  }
 },
 "nbformat": 4,
 "nbformat_minor": 2
}
