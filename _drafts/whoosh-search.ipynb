{
 "cells": [
  {
   "cell_type": "code",
   "execution_count": 1,
   "metadata": {},
   "outputs": [],
   "source": [
    "import webvtt"
   ]
  },
  {
   "cell_type": "code",
   "execution_count": 3,
   "metadata": {},
   "outputs": [],
   "source": [
    "import whoosh.index as index"
   ]
  },
  {
   "cell_type": "code",
   "execution_count": 4,
   "metadata": {},
   "outputs": [],
   "source": [
    "ix = index.open_dir(\"indexdir\")"
   ]
  },
  {
   "cell_type": "code",
   "execution_count": 5,
   "metadata": {},
   "outputs": [],
   "source": [
    "from whoosh.fields import Schema, TEXT, KEYWORD, ID, STORED, NUMERIC, BOOLEAN\n",
    "\n",
    "schema = Schema(videostatus=NUMERIC(stored=True),\n",
    "                committee=ID(stored=True),\n",
    "                type=ID(stored=True),\n",
    "                debatepreamble=ID(stored=True),\n",
    "                debatetexthtml=ID(stored=True),\n",
    "                livestreamurl=ID(stored=True),\n",
    "                activelivespeaker=ID(stored=True),\n",
    "                id=ID(stored=True),\n",
    "                dokid=ID(stored=True),\n",
    "                title=ID(stored=True),\n",
    "                debatename=ID(stored=True),\n",
    "                debatedate=ID(stored=True),\n",
    "                debatetype=ID(stored=True),\n",
    "                debateurl=ID(stored=True),\n",
    "                fromchamber=BOOLEAN(stored=True),\n",
    "                thumbnailurl=ID(stored=True),\n",
    "                debateseconds=NUMERIC(stored=True),\n",
    "                streamurl=ID(stored=True),\n",
    "                start=NUMERIC(stored=True),\n",
    "                duration=NUMERIC(stored=True),\n",
    "                speaker=ID(stored=True),\n",
    "                party=ID(stored=True),\n",
    "                subid=ID(stored=True),\n",
    "                active=BOOLEAN(stored=True),\n",
    "                number=NUMERIC(stored=True),\n",
    "                paragraph=NUMERIC(stored=True),\n",
    "                text=TEXT(stored=True))"
   ]
  },
  {
   "cell_type": "code",
   "execution_count": 8,
   "metadata": {},
   "outputs": [],
   "source": [
    "q = qp.parse(u\"hello world\")\n",
    "\n",
    "with ix.searcher() as s:\n",
    "    results = s.search(q)"
   ]
  },
  {
   "cell_type": "code",
   "execution_count": 9,
   "metadata": {},
   "outputs": [
    {
     "data": {
      "text/plain": [
       "<Top 0 Results for And([Term('content', 'hello'), Term('content', 'world')]) runtime=6.927689537405968e-05>"
      ]
     },
     "execution_count": 9,
     "metadata": {},
     "output_type": "execute_result"
    }
   ],
   "source": [
    "results"
   ]
  },
  {
   "cell_type": "code",
   "execution_count": null,
   "metadata": {},
   "outputs": [],
   "source": [
    "from whoosh.qparser import QueryParser\n",
    "\n",
    "qp = QueryParser(\"text\", schema=ix.schema)\n",
    "\n",
    "with ix.searcher() as searcher:\n",
    "    for caption in webvtt.read(\"/sbtal/riksdag-video/2442204290010759921_480p.mp4.vtt\"):\n",
    "        q = qp.parse(caption.text)\n",
    "\n",
    "        with ix.searcher() as s:\n",
    "            results = s.search(q)\n",
    "            print(results)"
   ]
  },
  {
   "cell_type": "code",
   "execution_count": null,
   "metadata": {},
   "outputs": [],
   "source": [
    "q = qp.parse(\"tack för\")\n",
    "\n",
    "with ix.searcher() as s:\n",
    "    results = s.search(q)\n",
    "    for res in results:\n",
    "        print(res)"
   ]
  },
  {
   "cell_type": "code",
   "execution_count": 20,
   "metadata": {},
   "outputs": [],
   "source": [
    "SENT = \"Europa svettas nu med höga elpriser som ju handlar både om sådana saker som utsläppsrätter och kol\""
   ]
  },
  {
   "cell_type": "code",
   "execution_count": 29,
   "metadata": {},
   "outputs": [
    {
     "name": "stdout",
     "output_type": "stream",
     "text": [
      "<Hit {'active': False, 'debatedate': '12 januari 2017', 'debatename': 'Interpellationsdebatt', 'debateseconds': 1193, 'debatetype': 'ip', 'debateurl': '/sv/webb-tv/video/interpellationsdebatt/sjomans-skattevillkor_H410186', 'dokid': 'H410186', 'duration': 184, 'fromchamber': True, 'id': '3ca981f4-5888-4ef5-ab00-1fc700c89966', 'number': 17, 'paragraph': 8, 'party': 'S', 'speaker': 'Finansminister Magdalena Andersson', 'start': 369, 'streamurl': 'VOD1/PAL169/2442205280013793021', 'subid': 'C59F3816-AD37-447C-8226-72ED463BFB20', 'text': 'Självklart finns det i denna grupp både personer som har höga löner, exempelvis befäl, och personer som har lägre löner. Det handlar alltså både om personer med högre löner och om personer med lägre löner.', 'thumbnailurl': 'https://mhdownload.riksdagen.se/posterframe/2442205280013793021.jpg', 'title': 'Sjömäns skattevillkor', 'videostatus': 2}>\n",
      "<Hit {'active': False, 'debatedate': '12 januari 2017', 'debatename': 'Interpellationsdebatt', 'debateseconds': 1193, 'debatetype': 'ip', 'debateurl': '/sv/webb-tv/video/interpellationsdebatt/sjomans-skattevillkor_H410186', 'dokid': 'H410186', 'duration': 184, 'fromchamber': True, 'id': '3ca981f4-5888-4ef5-ab00-1fc700c89966', 'number': 17, 'paragraph': 8, 'party': 'S', 'speaker': 'Finansminister Magdalena Andersson', 'start': 369, 'streamurl': 'VOD1/PAL169/2442205280013793021', 'subid': 'C59F3816-AD37-447C-8226-72ED463BFB20', 'text': 'Självklart finns det i denna grupp både personer som har höga löner, exempelvis befäl, och personer som har lägre löner. Det handlar alltså både om personer med högre löner och om personer med lägre löner.', 'thumbnailurl': 'https://mhdownload.riksdagen.se/posterframe/2442205280013793021.jpg', 'title': 'Sjömäns skattevillkor', 'videostatus': 2}>\n",
      "<Hit {'active': False, 'debatedate': '12 januari 2017', 'debatename': 'Interpellationsdebatt', 'debateseconds': 1193, 'debatetype': 'ip', 'debateurl': '/sv/webb-tv/video/interpellationsdebatt/sjomans-skattevillkor_H410186', 'dokid': 'H410186', 'duration': 184, 'fromchamber': True, 'id': '3ca981f4-5888-4ef5-ab00-1fc700c89966', 'number': 17, 'paragraph': 8, 'party': 'S', 'speaker': 'Finansminister Magdalena Andersson', 'start': 369, 'streamurl': 'VOD1/PAL169/2442205280013793021', 'subid': 'C59F3816-AD37-447C-8226-72ED463BFB20', 'text': 'Självklart finns det i denna grupp både personer som har höga löner, exempelvis befäl, och personer som har lägre löner. Det handlar alltså både om personer med högre löner och om personer med lägre löner.', 'thumbnailurl': 'https://mhdownload.riksdagen.se/posterframe/2442205280013793021.jpg', 'title': 'Sjömäns skattevillkor', 'videostatus': 2}>\n",
      "<Hit {'active': False, 'debatedate': '12 januari 2017', 'debatename': 'Interpellationsdebatt', 'debateseconds': 1193, 'debatetype': 'ip', 'debateurl': '/sv/webb-tv/video/interpellationsdebatt/sjomans-skattevillkor_H410186', 'dokid': 'H410186', 'duration': 184, 'fromchamber': True, 'id': '3ca981f4-5888-4ef5-ab00-1fc700c89966', 'number': 17, 'paragraph': 8, 'party': 'S', 'speaker': 'Finansminister Magdalena Andersson', 'start': 369, 'streamurl': 'VOD1/PAL169/2442205280013793021', 'subid': 'C59F3816-AD37-447C-8226-72ED463BFB20', 'text': 'Självklart finns det i denna grupp både personer som har höga löner, exempelvis befäl, och personer som har lägre löner. Det handlar alltså både om personer med högre löner och om personer med lägre löner.', 'thumbnailurl': 'https://mhdownload.riksdagen.se/posterframe/2442205280013793021.jpg', 'title': 'Sjömäns skattevillkor', 'videostatus': 2}>\n",
      "<Hit {'active': False, 'debatedate': '12 januari 2017', 'debatename': 'Interpellationsdebatt', 'debateseconds': 1193, 'debatetype': 'ip', 'debateurl': '/sv/webb-tv/video/interpellationsdebatt/sjomans-skattevillkor_H410186', 'dokid': 'H410186', 'duration': 184, 'fromchamber': True, 'id': '3ca981f4-5888-4ef5-ab00-1fc700c89966', 'number': 17, 'paragraph': 8, 'party': 'S', 'speaker': 'Finansminister Magdalena Andersson', 'start': 369, 'streamurl': 'VOD1/PAL169/2442205280013793021', 'subid': 'C59F3816-AD37-447C-8226-72ED463BFB20', 'text': 'Självklart finns det i denna grupp både personer som har höga löner, exempelvis befäl, och personer som har lägre löner. Det handlar alltså både om personer med högre löner och om personer med lägre löner.', 'thumbnailurl': 'https://mhdownload.riksdagen.se/posterframe/2442205280013793021.jpg', 'title': 'Sjömäns skattevillkor', 'videostatus': 2}>\n",
      "<Hit {'active': False, 'debatedate': '12 januari 2017', 'debatename': 'Interpellationsdebatt', 'debateseconds': 1193, 'debatetype': 'ip', 'debateurl': '/sv/webb-tv/video/interpellationsdebatt/sjomans-skattevillkor_H410186', 'dokid': 'H410186', 'duration': 184, 'fromchamber': True, 'id': '3ca981f4-5888-4ef5-ab00-1fc700c89966', 'number': 17, 'paragraph': 8, 'party': 'S', 'speaker': 'Finansminister Magdalena Andersson', 'start': 369, 'streamurl': 'VOD1/PAL169/2442205280013793021', 'subid': 'C59F3816-AD37-447C-8226-72ED463BFB20', 'text': 'Självklart finns det i denna grupp både personer som har höga löner, exempelvis befäl, och personer som har lägre löner. Det handlar alltså både om personer med högre löner och om personer med lägre löner.', 'thumbnailurl': 'https://mhdownload.riksdagen.se/posterframe/2442205280013793021.jpg', 'title': 'Sjömäns skattevillkor', 'videostatus': 2}>\n",
      "<Hit {'active': False, 'debatedate': '12 januari 2017', 'debatename': 'Interpellationsdebatt', 'debateseconds': 1193, 'debatetype': 'ip', 'debateurl': '/sv/webb-tv/video/interpellationsdebatt/sjomans-skattevillkor_H410186', 'dokid': 'H410186', 'duration': 184, 'fromchamber': True, 'id': '3ca981f4-5888-4ef5-ab00-1fc700c89966', 'number': 17, 'paragraph': 8, 'party': 'S', 'speaker': 'Finansminister Magdalena Andersson', 'start': 369, 'streamurl': 'VOD1/PAL169/2442205280013793021', 'subid': 'C59F3816-AD37-447C-8226-72ED463BFB20', 'text': 'Självklart finns det i denna grupp både personer som har höga löner, exempelvis befäl, och personer som har lägre löner. Det handlar alltså både om personer med högre löner och om personer med lägre löner.', 'thumbnailurl': 'https://mhdownload.riksdagen.se/posterframe/2442205280013793021.jpg', 'title': 'Sjömäns skattevillkor', 'videostatus': 2}>\n",
      "<Hit {'active': False, 'debatedate': '12 januari 2017', 'debatename': 'Interpellationsdebatt', 'debateseconds': 1193, 'debatetype': 'ip', 'debateurl': '/sv/webb-tv/video/interpellationsdebatt/sjomans-skattevillkor_H410186', 'dokid': 'H410186', 'duration': 184, 'fromchamber': True, 'id': '3ca981f4-5888-4ef5-ab00-1fc700c89966', 'number': 17, 'paragraph': 8, 'party': 'S', 'speaker': 'Finansminister Magdalena Andersson', 'start': 369, 'streamurl': 'VOD1/PAL169/2442205280013793021', 'subid': 'C59F3816-AD37-447C-8226-72ED463BFB20', 'text': 'Självklart finns det i denna grupp både personer som har höga löner, exempelvis befäl, och personer som har lägre löner. Det handlar alltså både om personer med högre löner och om personer med lägre löner.', 'thumbnailurl': 'https://mhdownload.riksdagen.se/posterframe/2442205280013793021.jpg', 'title': 'Sjömäns skattevillkor', 'videostatus': 2}>\n",
      "<Hit {'active': False, 'debatedate': '12 mars 2019', 'debatename': 'Interpellationsdebatt', 'debateseconds': 1262, 'debatetype': 'ip', 'debateurl': '/sv/webb-tv/video/interpellationsdebatt/mal-for-leveranssakerheten_H610116', 'dokid': 'H610116', 'duration': 143, 'fromchamber': True, 'id': 'ea195e10-6d04-4123-9328-9e6338c6b0bc', 'number': 84, 'paragraph': 6, 'party': 'S', 'speaker': 'Statsrådet Anders Ygeman', 'start': 443, 'streamurl': 'VOD1/PAL169/2442205090011601521', 'subid': '9428CF0C-2284-46C8-A740-77830410F9ED', 'text': 'I motsats till många andra länder har vi ju en enorm tillgång i den energiöverenskommelse som slöts och som 75 procent av riksdagens ledamöter står bakom, där vi kan klara både konkurrenskraftiga elpriser för svensk industri och höga mål när det gäller förnybar energi. Det är en utveckling som regeringen är positiv till och bejakar.', 'thumbnailurl': 'https://mhdownload.riksdagen.se/posterframe/2442205090011601521.jpg', 'title': 'Mål för leveranssäkerheten', 'videostatus': 2}>\n",
      "<Hit {'active': False, 'debatedate': '12 mars 2019', 'debatename': 'Interpellationsdebatt', 'debateseconds': 1262, 'debatetype': 'ip', 'debateurl': '/sv/webb-tv/video/interpellationsdebatt/mal-for-leveranssakerheten_H610116', 'dokid': 'H610116', 'duration': 143, 'fromchamber': True, 'id': 'ea195e10-6d04-4123-9328-9e6338c6b0bc', 'number': 84, 'paragraph': 6, 'party': 'S', 'speaker': 'Statsrådet Anders Ygeman', 'start': 443, 'streamurl': 'VOD1/PAL169/2442205090011601521', 'subid': '9428CF0C-2284-46C8-A740-77830410F9ED', 'text': 'I motsats till många andra länder har vi ju en enorm tillgång i den energiöverenskommelse som slöts och som 75 procent av riksdagens ledamöter står bakom, där vi kan klara både konkurrenskraftiga elpriser för svensk industri och höga mål när det gäller förnybar energi. Det är en utveckling som regeringen är positiv till och bejakar.', 'thumbnailurl': 'https://mhdownload.riksdagen.se/posterframe/2442205090011601521.jpg', 'title': 'Mål för leveranssäkerheten', 'videostatus': 2}>\n"
     ]
    }
   ],
   "source": [
    "from whoosh import qparser\n",
    "qp = QueryParser(\"text\", schema=ix.schema, group=qparser.OrGroup.factory(0.9))\n",
    "\n",
    "q = qp.parse(SENT)\n",
    "\n",
    "with ix.searcher() as s:\n",
    "    results = s.search(q, terms=True)\n",
    "    for res in results:\n",
    "        print(res)"
   ]
  }
 ],
 "metadata": {
  "kernelspec": {
   "display_name": "hf",
   "language": "python",
   "name": "python3"
  },
  "language_info": {
   "codemirror_mode": {
    "name": "ipython",
    "version": 3
   },
   "file_extension": ".py",
   "mimetype": "text/x-python",
   "name": "python",
   "nbconvert_exporter": "python",
   "pygments_lexer": "ipython3",
   "version": "3.10.6"
  },
  "orig_nbformat": 4,
  "vscode": {
   "interpreter": {
    "hash": "323572f3d7d63e949a9798ea1062be3bd23d8f1ad1664ecc50859e690c42d8f5"
   }
  }
 },
 "nbformat": 4,
 "nbformat_minor": 2
}
