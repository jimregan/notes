{
  "nbformat": 4,
  "nbformat_minor": 0,
  "metadata": {
    "colab": {
      "provenance": []
    },
    "kernelspec": {
      "name": "python3",
      "display_name": "Python 3"
    },
    "language_info": {
      "name": "python"
    }
  },
  "cells": [
    {
      "cell_type": "code",
      "execution_count": 4,
      "metadata": {
        "id": "_TUT3ZmAkUWD"
      },
      "outputs": [],
      "source": [
        "input_textgrid = \"/content/alcott-male-kobietki_001_rozdzial-i-pielgrzymki.textgrid\" # @param {\"type\":\"string\"}\n",
        "input_json = \"/content/alcott-male-kobietki_001_rozdzial-i-pielgrzymki.json\" # @param {\"type\":\"string\"}\n",
        "pronounce_as_tsv = \"/content/pronounce-as.tsv\" # @param {\"type\":\"string\"}"
      ]
    },
    {
      "cell_type": "code",
      "source": [
        "%%capture\n",
        "%pip install praatio"
      ],
      "metadata": {
        "id": "80w6mV8fkl0K"
      },
      "execution_count": 20,
      "outputs": []
    },
    {
      "cell_type": "code",
      "source": [
        "# read huggingface json\n",
        "import json\n",
        "\n",
        "def read_huggingface_json(input_json):\n",
        "    with open(input_json, 'r') as f:\n",
        "        data = json.load(f)\n",
        "    words = []\n",
        "    for chunk in data[\"chunks\"]:\n",
        "        words.append((chunk[\"timestamp\"][0], chunk[\"timestamp\"][1], chunk[\"text\"]))\n",
        "    return words"
      ],
      "metadata": {
        "id": "ue_gA9c2kqfV"
      },
      "execution_count": 19,
      "outputs": []
    },
    {
      "cell_type": "code",
      "source": [
        "# read pronounce-as data\n",
        "def read_pronounce_as(pronounce_as_tsv):\n",
        "    pronounce_as = {}\n",
        "    with open(pronounce_as_tsv, 'r') as f:\n",
        "        for line in f.readlines():\n",
        "            line = line.strip().split('\\t')\n",
        "            word = line[0].lower()\n",
        "            if not word in pronounce_as:\n",
        "                pronounce_as[word] = set()\n",
        "            pronounce_as[word].add(line[1])\n",
        "    if len(pronounce_as) == 0:\n",
        "        return None\n",
        "    return pronounce_as"
      ],
      "metadata": {
        "id": "3_3IXZjjn8kz"
      },
      "execution_count": 18,
      "outputs": []
    },
    {
      "cell_type": "code",
      "source": [
        "# read praat utterances\n",
        "from praatio import textgrid\n",
        "\n",
        "def read_praat_utterances(input_textgrid):\n",
        "    utterances = []\n",
        "    tg = textgrid.openTextgrid(input_textgrid, includeEmptyIntervals=False)\n",
        "\n",
        "    for tmp_tier in tg.tiers:\n",
        "        if tmp_tier.name == \"utterances\":\n",
        "            tier = tmp_tier\n",
        "            break\n",
        "\n",
        "    for interval in tier.entries:\n",
        "        if interval.label.strip() == \"\":\n",
        "            continue\n",
        "        utterances.append((interval.start, interval.end, interval.label))\n",
        "    return utterances"
      ],
      "metadata": {
        "id": "e6xXXl_eqL5c"
      },
      "execution_count": 17,
      "outputs": []
    },
    {
      "cell_type": "code",
      "source": [
        "utterances = read_praat_utterances(input_textgrid)\n",
        "words = read_huggingface_json(input_json)\n",
        "pronounce_as = read_pronounce_as(pronounce_as_tsv)"
      ],
      "metadata": {
        "id": "8WAcce3Arazh"
      },
      "execution_count": 23,
      "outputs": []
    },
    {
      "cell_type": "code",
      "source": [
        "words_by_start = {x[0]: x for x in words}\n",
        "words_by_end = {x[1]: x for x in words}"
      ],
      "metadata": {
        "id": "CpT3vu1SsZ0i"
      },
      "execution_count": 24,
      "outputs": []
    },
    {
      "cell_type": "code",
      "source": [
        "def group_words_by_utterances(words, utterances):\n",
        "\n",
        "    collected = []\n",
        "    new_utterances = []\n",
        "    for utterance in utterances:\n",
        "        start = utterance[0]\n",
        "        end = utterance[1]\n",
        "\n",
        "        ut_dict = {\n",
        "            \"start\": utterance[0],\n",
        "            \"end\": utterance[1],\n",
        "            \"text\": utterance[2],\n",
        "            \"words\": []\n",
        "        }\n",
        "        for word in words:\n",
        "            if word[0] < start:\n",
        "                if word[1] > start:\n",
        "                    ut_dict[\"maybe_start\"] = word\n",
        "                continue\n",
        "            elif word[1] > end:\n",
        "                if word[0] < end:\n",
        "                    ut_dict[\"maybe_end\"] = word\n",
        "                break\n",
        "            elif word[0] >= start and word[1] <= end:\n",
        "                ut_dict[\"words\"].append(word)\n",
        "                collected.append(word)\n",
        "            else:\n",
        "                print(word)\n",
        "        new_utterances.append(ut_dict)\n",
        "\n",
        "    not_collected = []\n",
        "    for word in words:\n",
        "        if word not in collected:\n",
        "            not_collected.append(word)\n",
        "\n",
        "    return new_utterances, not_collected"
      ],
      "metadata": {
        "id": "OeGjX1DEshAx"
      },
      "execution_count": 58,
      "outputs": []
    },
    {
      "cell_type": "code",
      "source": [
        "grouped, uncollected = group_words_by_utterances(words, utterances)"
      ],
      "metadata": {
        "id": "SrO-JcaPuSnl"
      },
      "execution_count": 123,
      "outputs": []
    },
    {
      "cell_type": "code",
      "source": [
        "def get_normalised_words(text):\n",
        "    text = text.lower()\n",
        "    words = [word.strip(\",;:!?—…„”\\\"“.«»*()[]‘/\\\\\") for word in text.split()]\n",
        "    words = [x for x in words if x != \"\"]\n",
        "    return words\n"
      ],
      "metadata": {
        "id": "3bk7KP98xhal"
      },
      "execution_count": 118,
      "outputs": []
    },
    {
      "cell_type": "code",
      "source": [
        "for item in grouped:\n",
        "    item[\"normalised_words\"] = get_normalised_words(item[\"text\"])"
      ],
      "metadata": {
        "id": "V_OeVNwfyscW"
      },
      "execution_count": 124,
      "outputs": []
    },
    {
      "cell_type": "code",
      "source": [
        "leftover = ''\n",
        "for item in grouped:\n",
        "    w2v_words = [x[2] for x in item[\"words\"]]\n",
        "    if leftover != \"\":\n",
        "        w2v_words = [leftover] + w2v_words\n",
        "        item[\"maybe_start_word\"] = leftover\n",
        "        leftover = ''\n",
        "    elif \"maybe_start\" in item:\n",
        "        if item[\"maybe_start\"][2].endswith(item[\"normalised_words\"][0]):\n",
        "            w2v_words = [item[\"normalised_words\"][0]] + w2v_words\n",
        "            item[\"maybe_start_word\"] = item[\"normalised_words\"][0]\n",
        "    if \"maybe_end\" in item:\n",
        "        if item[\"maybe_end\"][2].startswith(item[\"normalised_words\"][-1]):\n",
        "            item[\"maybe_end_word\"] = item[\"normalised_words\"][-1]\n",
        "            w2v_words = w2v_words + [item[\"normalised_words\"][-1]]\n",
        "            leftover = item[\"maybe_end\"][2][len(item[\"maybe_end_word\"]):]\n",
        "    if w2v_words == item[\"normalised_words\"]:\n",
        "        item[\"ok\"] = True"
      ],
      "metadata": {
        "id": "4IjgHGfF0PWP"
      },
      "execution_count": 126,
      "outputs": []
    },
    {
      "cell_type": "code",
      "source": [
        "from difflib import SequenceMatcher\n",
        "\n",
        "# run a sequence matcher, but filter for the common\n",
        "# case of a difference in spacing.\n",
        "# Also, extract the relevant pieces.\n",
        "def filter_smatcher(ref, hyp):\n",
        "    items = []\n",
        "\n",
        "    s = SequenceMatcher(None, ref, hyp)\n",
        "    for opcode in s.get_opcodes():\n",
        "        if opcode[0] == 'equal':\n",
        "            items.append((\"OK\", ref[opcode[1]:opcode[2]]))\n",
        "        elif opcode[0] == 'insert':\n",
        "            items.append((\"INSERT\", hyp[opcode[3]:opcode[4]]))\n",
        "        elif opcode[0] == 'delete':\n",
        "            items.append((\"DELETE\", ref[opcode[1]:opcode[2]]))\n",
        "        elif opcode[0] == 'replace':\n",
        "            left = ref[opcode[1]:opcode[2]]\n",
        "            right = hyp[opcode[3]:opcode[4]]\n",
        "            if \"\".join(left) == \"\".join(right):\n",
        "                items.append((\"OK\", left))\n",
        "            else:\n",
        "                items.append((\"REPLACE\", left, right))\n",
        "    return items"
      ],
      "metadata": {
        "id": "lWe8i1Vn9gpc"
      },
      "execution_count": 112,
      "outputs": []
    },
    {
      "cell_type": "code",
      "source": [
        "def run_filter_smatcher(item):\n",
        "    a = item[\"normalised_words\"]\n",
        "    b = [x[2] for x in item[\"words\"]]\n",
        "    if \"maybe_start_word\" in item:\n",
        "        b = [item[\"maybe_start_word\"]] + b\n",
        "    if \"maybe_end_word\" in item:\n",
        "        b = b + [item[\"maybe_end_word\"]]\n",
        "    return filter_smatcher(a, b)"
      ],
      "metadata": {
        "id": "yrvEa8GUAnzF"
      },
      "execution_count": 110,
      "outputs": []
    },
    {
      "cell_type": "code",
      "source": [
        "CHECKED_STARTS = [\n",
        "    1148.4643,\n",
        "    1165.464,\n",
        "    1089.572,\n",
        "    1050.643,\n",
        "    1009.3364,\n",
        "    1039.4474\n",
        "]"
      ],
      "metadata": {
        "id": "bN6Fv8qUMLuF"
      },
      "execution_count": null,
      "outputs": []
    },
    {
      "cell_type": "code",
      "source": [
        "for item in grouped:\n",
        "    item_printed = False\n",
        "    if \"ok\" in item and item[\"ok\"]:\n",
        "        continue\n",
        "    for diff in run_filter_smatcher(item):\n",
        "        if diff[0] == \"OK\":\n",
        "            continue\n",
        "        if diff[0] == \"REPLACE\":\n",
        "            if not item_printed:\n",
        "                print(item[\"start\"], item[\"text\"])\n",
        "                item_printed = True\n",
        "            print(diff[1], diff[2])"
      ],
      "metadata": {
        "colab": {
          "base_uri": "https://localhost:8080/"
        },
        "id": "OK5l34j-BIX5",
        "outputId": "74bee70c-7176-4d57-dcec-dc798fb71453"
      },
      "execution_count": 133,
      "outputs": [
        {
          "output_type": "stream",
          "name": "stdout",
          "text": [
            "5.4285 Wejdź na wolnelektury.pl i dorzuć się do biblioteki.\n",
            "['wolnelektury.pl'] ['wolne', 'lektury', 'kropka', 'pe', 'el']\n",
            "10.4302 Audiobooki Wolnych Lektur są udostępniane na wolnych licencjach, co oznacza, że możesz je swobodnie wykorzystywać, udostępniać, pobierać i publikować pod warunkiem zachowania warunków licencji i zgodnie z zasadami wykorzystania Wolnych Lektur, które znajdziesz na naszej stronie wolnelektury.pl.\n",
            "['audiobooki'] ['audiobuki']\n",
            "['lektur', 'które'] ['lektór', 'który']\n",
            "['wolnelektury.pl'] ['wolne', 'lektury', 'kropka']\n",
            "28.4102 Louisa May Alcott.\n",
            "['alcott'] ['alkot']\n",
            "58.7359 — Bardzo jest nieładnie, że niektóre dziewczęta mają mnóstwo pięknych rzeczy, a inne nie mają nic — dodała Amelka z gniewną minką.\n",
            "['inne'] ['inny']\n",
            "67.4604 — Mamy przecież ojca, mamę i siebie nawzajem — z zadowoleniem odezwała się Eliza ze swego kącika.\n",
            "['mamę'] ['mamy']\n",
            "156.831 — A mnie są potrzebne ołówki Fabera i muszę ich sobie kupić ładne pudełko — odezwała się Amelka stanowczo.\n",
            "['fabera'] ['fejbera']\n",
            "191.8702 — Moja praca dwa razy uciążliwsza od twojej; jakby ci było, gdybyś siedziała godzinami zamknięta z nerwową, kapryśną, starą jejmością, która się tobą posługuje, ze wszystkiego jest niezadowolona i tak cię męczy, że wyskoczyłabyś chętnie oknem albo dałabyś jej policzek.\n",
            "['wyskoczyłabyś'] ['wyskoczyła', 'być']\n",
            "['dałabyś'] ['dałaby']\n",
            "209.3544 — Przykro, kiedy nas ktoś drażni, ale zdaje mi się, że zmywanie talerzy i pilnowanie porządku jest najgorszą pracą na świecie.\n",
            "['drażni'] ['drażnie']\n",
            "['talerzy'] ['talerze']\n",
            "229.2161 — Nie wierzę, by któraś z was cierpiała tyle co ja! — zawołała Amelka.\n",
            "['wierzę'] ['wierze']\n",
            "233.9202 — Nie jesteście zmuszone chodzić do szkoły z niegrzecznymi dziewczętami, które was prześladują, gdy nie umiecie lekcji, wyśmiewają wasze ubranie, pogardzają waszym ojcem, jeżeli nie jest bogaty, i znieważają was za brzydki nos.\n",
            "['zmuszone'] ['zmuszony']\n",
            "260.7154 — Mówiłaś parę dni temu, żeśmy daleko szczęśliwsze od dzieci państwa King, bo one ciągle się biją i kłócą, chociaż mają pieniądze.\n",
            "['king'] ['kink']\n",
            "269.192 — Prawda Elżbietko, mówiłam to i sądzę, że tak jest, bo choć musimy pracować, obmyślamy sobie też rozrywki i stanowimy wesołą kupkę, jakby się wyraziła Ludka.\n",
            "['elżbietko'] ['leżbiedko']\n",
            "302.2812 — A ja nienawidzę przesadnych i wymuszonych dzieciaków.\n",
            "['ja', 'nienawidzę'] ['janie', 'na', 'widze']\n",
            "343.9231 — Nie jestem! I jeżeli upinanie włosów czyni mnie doroślejszą, to będę nosiła warkocze do dwudziestu lat! — zawołała, zrzucając siatkę i rozwieszając ciemnoblond grzywę.\n",
            "['mnie'] ['nie']\n",
            "['ciemnoblond', 'grzywę'] ['ciemno', 'bląd']\n",
            "356.1204 — Nie cierpię tej myśli, że dorosnę, zostanę panną March, będę nosić długie suknie i wyglądać tak sztywno jak aster chiński.\n",
            "['march'] ['marcz']\n",
            "['suknie'] ['sukni']\n",
            "368.8402 Nie mogę się uspokoić z żalu, żem nie chłopiec, a teraz gorzej mi niż kiedykolwiek, bo umieram z chęci walczenia przy boku papy, a muszę siedzieć w domu z robotą na drutach, jak zniedołężniała baba.\n",
            "['z', 'chęci'] ['schęci']\n",
            "391.3708 Lecz nie ma na to rady; staraj się więc poprzestać na odgrywaniu roli naszego brata — rzekła Eliza, głaszcząc szorstkie włosy na głowie wspartej o jej kolana, rączką przyjemną w dotknięciu, pomimo zmywania talerzy i okurzania sprzętów.\n",
            "['okurzania'] ['odkórzenia']\n",
            "420.096 Lubię twoje dobre maniery i wykwintne wysławianie się, gdy nie próbujesz być elegancka, ale twoje niedorzeczne wyrazy stawiam na równi z gminnymi słowami Ludki.\n",
            "['wykwintne'] ['wykwitne']\n",
            "['wyrazy'] ['wyraze']\n",
            "['równi'] ['równie']\n",
            "['gminnymi'] ['gmiennymi']\n",
            "451.755 Ponieważ młode czytelniczki lubią wiedzieć, „jak kto wygląda”, skorzystamy z tej chwili, żeby dać lekki szkic tych czterech dziewczynek, siedzących o szarej godzinie z robotą na drutach, podczas gdy śnieg grudniowy pada cicho na dworze, a ogień trzeszczy wesoło na kominku.\n",
            "['trzeszczy'] ['trzeszcz']\n",
            "469.3168 Był to miły pokój, pomimo spłowiałego dywanu i bardzo prostych mebli; wisiało bowiem na ścianach parę dobrych obrazów, na półkach było dużo książek, w oknach kwitły hiacynty i cierniki i napełniała go przyjemna atmosfera domowego spokoju.\n",
            "['półkach'] ['pułkach']\n",
            "['kwitły', 'hiacynty'] ['kwitłych', 'jacenty']\n",
            "494.0448 Oczy miała duże, włosy gęste, ciemnoblond, usta kształtne i rączki białe, którymi się trochę pyszniła.\n",
            "['ciemnoblond'] ['ciemno', 'bląd']\n",
            "501.9019 Piętnastoletnia Ludka była bardzo wysoka, szczupła i smagła; zawsze jej zawadzały długie kończyny i nie wiedziała, co z nimi robić.\n",
            "['nimi'] ['niemi']\n",
            "509.9198 Miała stanowcze usta, komiczny nos, bystre, szare oczy, które zdawały się wszystko widzieć i bywały to gwałtowne, to śmiejące się, to zamyślone.\n",
            "['stanowcze'] ['stanowczo']\n",
            "527.9309 Ramiona miała szerokie, ręce i nogi duże, ubrani wisiało na niej bez wdzięku i we wszystkim miała niezgrabną minę dziewczynki, która prędko wyrasta na kobietę i jest z tego niezadowolona.\n",
            "['ubrani'] ['ubranie']\n",
            "539.9961 Elżbietka była to trzynastoletnia dziewczynka, różowa, z główką zawsze ładnie uczesaną i z jasnymi oczkami.\n",
            "['elżbietka'] ['elsz', 'bietka']\n",
            "['trzynastoletnia'] ['trzynastoletnie']\n",
            "['różowa'] ['rużowa']\n",
            "574.551 Była ta dzieweczka kształtna, biała jak śnieg, z niebieskimi oczami i z główką w złocistych loczkach.\n",
            "['ta'] ['to']\n",
            "594.3203 Zegar wybił szóstą, a Elżbietka, wyczyściwszy kominek, postawiła pantofle, żeby się ogrzały.\n",
            "['elżbietka'] ['elszbietka']\n",
            "608.6451 Małgosia przestała gromić i zapaliła lampę; Amelka wstała z fotela, chociaż jej nikt o to nie prosił, a Ludka zapomniała o swym znużeniu, gdy usiadła bliżej ognia, żeby trzymać i wygrzewać pantofle.\n",
            "['swym'] ['swem']\n",
            "626.63 — Kupię jej za swojego dolara — rzekła Eliza.\n",
            "['kupię'] ['kupie']\n",
            "630.2735 — Nie, ja kupię! — wykrzyknęła Amelka.\n",
            "['ja', 'kupię'] ['jakupia', '-']\n",
            "638.6914 — Odkąd papa wyjechał, ja jestem jedynym mężczyzną w naszej rodzinie i sama zaopatrzę ją w pantofle, bo odjeżdżając, powierzył ją moim szczególnym staraniom.\n",
            "['zaopatrzę'] ['zaopatrzy']\n",
            "650.014 — Powiem wam, co zrobić — rzekła Eliza — niech każda podaruje jej coś na kolędę, a sobie za to nic już nie kupujmy.\n",
            "['kolędę'] ['kolendę']\n",
            "665.7862 — Ja dam parę ładnych rękawiczek — jak gdyby jej własne śliczne rączki nasunęły tę myśl.\n",
            "['tę'] ['te']\n",
            "672.479 — Ja najpiękniejsze pantofle, jakie tylko znajdę! — wykrzyknęła Ludka.\n",
            "['pantofle', 'jakie'] ['pantofleje', 'kie']\n",
            "681.7677 — Ja flaszeczkę wody kolońskiej, bo ją lubi; niedrogo będzie kosztować, więc jeszcze sobie coś kupię — dodała Amelka.\n",
            "['kupię'] ['kupia']\n",
            "760.1107 Nie mamy lepszej aktorki od ciebie i wszystko przepadnie, gdy zejdziesz ze sceny — rzekła Ludka i dodała: — Trzeba zrobić próbę dziś wieczorem; chodź, Amelko, odegrać scenę omdlenia, boś w niej sztywna jak pień.\n",
            "['chodź'] ['choć']\n",
            "['omdlenia', 'boś', 'w', 'niej', 'sztywna'] ['odlenia', 'boźwniej', 'sztywne']\n",
            "773.1373 — Nic na to nie poradzę; nigdy nie widziałam, jak się mdleje, a nie mam ochoty zsinieć, sczernieć i paść na wznak, jak ty.\n",
            "['mdleje'] ['dlaje']\n",
            "['zsinieć', 'sczernieć'] ['ssinieć', 'zczernieć']\n",
            "801.1269 — Zrób w ten sposób: załam tak ręce i przejdź przez pokój chwiejnym krokiem, wołając przeraźliwie: „Rodrygu, ratuj mnie! ratuj mnie!”.\n",
            "['przez', 'pokój'] ['przy', 'spokój']\n",
            "837.9379 — Nic nie pomaga. Odegraj to najlepiej jak zdołasz, ale jak cię publiczność wygwiżdże, to nie miej żalu do mnie!\n",
            "['wygwiżdże'] ['wygwiżdżę']\n",
            "846.2798 Odtąd szło gładziej, bo Don Pedro wyzywał świat jednym tchem w dwustronicowej mowie, czarownica Agara z olśniewającym efektem odśpiewała uroczyste zaklęcie nad patelnią smażących się grzanek, Rodryg zerwał swe więzy z prawdziwie męską siłą, a Hugo, dziko krzycząc „ha! ha!”, skończył życie w mękach trucizny i wyrzutów sumienia.\n",
            "['dwustronicowej'] ['dwu', 'stronnicowej']\n",
            "['smażących'] ['smarzących']\n",
            "['rodryg'] ['rodryk']\n",
            "['wyrzutów'] ['wyrzutw']\n",
            "870.2156 — Pierwszy raz tak się nam udało — rzekła Małgorzata, gdy zmarły złoczyńca usiadł i rozcierał sobie łokcie.\n",
            "['usiadł'] ['siadł']\n",
            "890.6886 — Niezupełnie — odparła skromnie Ludka — wprawdzie klątwa czarownicy i liryczna tragedia to ładne rzeczy, ale chciałabym spróbować Makbeta, gdybyśmy miały klapę w podłodze dla Banka.\n",
            "['makbeta'] ['macbeta']\n",
            "905.291 „Czy sztylet widzę przed sobą?” — wyrzekła, przewracając oczyma i dysząc jak pewna artystka, którą widziała na scenie.\n",
            "['czy', 'sztylet'] ['tylet']\n",
            "925.8849 — Cieszy mnie to, żeście tak wesołe! — odezwał się ożywiony głos we drzwiach, a publiczność i aktorzy obrócili się, by powitać wysoką panią z matczyną twarzą i z tak miłym wyrazem twarzy, jak gdyby każdego pytała: „Czy mogę ci być pomocna?”\n",
            "['we'] ['w']\n",
            "942.2354 Nie była to szczególnie piękna osoba, ale matki zawsze się podobają swoim dzieciom; dziewczętom zdawało się też, że jej szary płaszczyk i niemodny kapelusik okrywają najwspanialszą kobietę na świecie.\n",
            "['dziewczętom'] ['dziewczętą']\n",
            "967.5726 Ludwisiu, zdajesz się na śmierć zmęczona.\n",
            "['ludwisiu'] ['ludwisiuł']\n",
            "970.4827 Dziecię, chodź mnie pocałować.\n",
            "['chodź'] ['chód']\n",
            "973.7509 Zadając te matczyne pytania, pani March zdjęła z siebie przemokłe rzeczy, włożyła ogrzane pantofle i usiadłszy w fotelu, wzięła Amelkę na kolana, ciesząc się na najmilszą godzinę w swym pracowitym dniu.\n",
            "['te', 'matczyne'] ['tematyczyne']\n",
            "['march'] ['marcz']\n",
            "['ogrzane'] ['ograne']\n",
            "986.4572 Dziewczęta krzątały się; każda chciała jej oddać jakąś przysługę i zapewnić wygodę.\n",
            "['każda'] ['każde']\n",
            "992.128 Małgosia przygotowała stół do herbaty; Ludka przyniosła drewna i ustawiła krzesła, wylewając i przewracając z hałasem wszystko, czego tknęła; Eliza cicho i gorliwie kręciła się między pokojem a kuchnią, Amelka zaś wydawała im rozkazy, siedząc sama z założonymi rękami.\n",
            "['eliza'] ['liza']\n",
            "1009.3364 Gdy się zebrały wokoło stołu, pani March rzekła ze szczególnie uszczęśliwioną twarzą:\n",
            "['march'] ['marcz']\n",
            "1039.4474 Przesyła serdeczne życzenia na Boże Narodzenie i specjalną wiadomość dla was, dziewczęta — rzekła pani March, trzymając się za kieszeń, jak gdyby w niej miała skarb.\n",
            "['march'] ['marcz']\n",
            "1050.643 — Pośpieszmy się z jedzeniem. Nie obracaj tak delikatnie palcami i nie pieść się z talerzem, Amelko! — wykrzyknęła Ludka i z wielkiego pośpiechu do „przysmaku” zakrztusiła się herbatą i upuściła kromkę chleba na dywan, masłem do dołu.\n",
            "['i', 'nie'] ['innie']\n",
            "['talerzem', 'amelko'] ['talerza', 'mamelko']\n",
            "1064.1156 Eliza przestała jeść i usunęła się do swego kącika, z góry ciesząc się na rozkosz, jaka je miała spotkać, gdy wszystkie będą gotowe.\n",
            "['jeść'] ['jeźdź']\n",
            "['kącika'] ['końcika']\n",
            "1080.0939 — Jakżebym chciała pójść na dobosza, wivan, jakże się to nazywa? Albo na sanitariuszkę, żeby być razem i czuwać nad nim! — zawołała Ludka.\n",
            "['wivan'] ['wi', 'wan']\n",
            "['sanitariuszkę'] ['sanitariuszka']\n",
            "1089.572 — To musi być bardzo nieprzyjemne sypiać w namiocie, jadać różne niesmaczne rzeczy i pić z cynowego kubka — westchnęła Amelka.\n",
            "['niesmaczne'] ['niesmarne']\n",
            "['z', 'cynowego', 'kubka'] ['scenowego', 'kupka']\n",
            "1121.9926 Przysunęły się wszystkie do kominka, matka w fotelu z Elizą u nóg, Małgosia i Amelka uczepione na poręczach, a Ludka wsparta o jego grzbiet, żeby nikt nie widział jej wzruszenia, gdyby list był czuły.\n",
            "['przysunęły'] ['przesunęły']\n",
            "1141.727 Pan March niewiele wspominał o trudach i niebezpieczeństwach, ani nawet o tęsknocie do kraju, z którą musiał walczyć.\n",
            "['march'] ['marcz']\n",
            "1148.4643 List był wesoły, ufny, pełen żywych opisów obozowego życia, marszów i wojennych nowin; tylko przy końcu wyrwały się z serca słowa zdradzające miłość ojcowską i tęsknotę do córeczek i do domu:\n",
            "['tęsknotę'] ['tęsknot']\n",
            "1165.464 Powiedz, że o nich myślę co dzień i modlę się za nie co wieczór, a w każdej chwili czerpię największą pociechę z ich przywiązania.\n",
            "['czerpię'] ['czerpie']\n",
            "1183.215 Wiem, że wszystko, co piszę, utkwi im w pamięci, że będą dla ciebie kochającymi dziećmi, że będą wiernie pełnić obowiązki, mężnie walczyć z wewnętrznym nieprzyjacielem i pokonywać siebie tak pięknie, abym gdy powrócę, mógł jeszcze bardziej kochać moje małe kobietki i bardziej chlubić się nimi.\n",
            "['piszę'] ['pisze']\n",
            "1202.215 W tym miejscu wszystkie rozczuliły się; Ludka nie wstydziła się wielkiej łzy, która jej spadła na nos; Amelka zaś, nie zważając, że psuje sobie loki, ukryła twarzyczkę na ramieniu matki i z łkaniem rzekła:\n",
            "['wielkiej'] ['wielkie']\n",
            "1225.599 — Wszystkie się poprawimy! — wykrzyknęła Małgosia. — Ja za wiele myślę o mojej powierzchowności i nie cierpię pracy, ale już tak nie będzie, jeżeli mi się powiodą usiłowania.\n",
            "['myślę'] ['myślał']\n",
            "['cierpię'] ['cierpie']\n",
            "1252.0336 Eliza, nic nie mówiąc, obtarła oczy niebieską skarpetką i zaczęła czym prędzej obracać drutami, aby bez straty czasu pełnić obowiązek znajdujący się najbliżej.\n",
            "['eliza'] ['liza']\n",
            "1262.991 W głębi cichej duszy postanowiła przy tym, że będzie taka, jakiej ojciec spodziewa się zastać, gdy za rok wróci szczęśliwie do domu.\n",
            "['jakiej'] ['jak', 'jej']\n",
            "1272.0337 Pani March przerwała milczenie, panujące po słowach Ludwisi, mówiąc swym wesołym głosem:\n",
            "['march'] ['marcz']\n",
            "1282.7799 Nic was tak nie cieszyło, jak kiedy każdej uwiązałam na szyi worek na brzemiona, dałam kapelusz, kij i zwitek papieru i pozwoliłam wędrować po całym domu — od piwnicy, która była „Grodem zniszczenia” aż do dachu, gdzie składałyście wszystkie swe ładne rzeczy, aby stworzyć „Gród niebiański”.\n",
            "['gród'] ['grud']\n",
            "1300.3975 — Jakież to było zabawne, zwłaszcza kiedyśmy się wybierały na lwy, na walkę z Apollionem i z wilkołakami, które znajdowały się w dolinie — rzekła Ludka.\n",
            "['apollionem'] ['apolionem']\n",
            "1309.3591 — Lubiłam miejsce, gdzieśmy zdejmowały brzemiona i ciskały ze schodów — odezwała się Małgosia.\n",
            "['zdejmowały', 'brzemiona'] ['zajmowały', 'brzemione']\n",
            "1314.8694 — A dla mnie najlepsza chwila była, kiedyśmy wychodziły, śpiewając z radości wśród promieni słońca, na płaski dach, gdzie były kwiaty, krzewy i inne ładne rzeczy — powiedziała Eliza z uśmiechem, jak gdyby te lube czasy powróciły dla niej.\n",
            "['wychodziły'] ['wychodziłe']\n",
            "['lube'] ['luby']\n",
            "1349.428 — Nie jesteśmy na to nigdy za duże, moja droga, bo w ten czy w inny sposób zawsze się w to bawimy.\n",
            "['duże'] ['duża']\n",
            "1356.0282 Nasze brzemiona są tu, droga jest przed nami, a dążenia do doskonalenia się i do szczęścia to przewodnicy, którzy nas wiodą przez liczne troski i pomyłki do spokoju, stanowiącego prawdziwy „Gród Niebiański”.\n",
            "['a', 'dążenia'] ['adążenie']\n",
            "['nas', 'wiodą'] ['nazwiodą']\n",
            "['gród'] ['grut']\n",
            "1379.2916 — Mamo, ale gdzie są naprawdę nasze brzemiona? — spytała Amelka, biorąca rzeczy bardzo ściśle.\n",
            "['amelka'] ['ameryka']\n",
            "1401.72 Brzemię Elizy było tak zabawne, że wszystkim chciało się śmiać, ale się powstrzymały, żeby jej nie obrazić.\n",
            "['brzemię'] ['brzemie']\n",
            "['chciało'] ['chciał']\n",
            "1423.2975 — Byłyśmy dziś wieczorem w Otchłani Rozpaczy, ale mama przyszła i wydobyła nas.\n",
            "['otchłani'] ['otchłań']\n",
            "1428.4878 Więc co mamy teraz robić? — zapytała Ludka, uradowana myślą, że coś romantycznego osłodzi jej nudne obowiązki.\n",
            "['jej', 'nudne'] ['i', 'nudny']\n",
            "1458.4299 Było to niezajmujące szycie, ale żadna nie narzekała tego wieczora.\n",
            "['niezajmujące', 'szycie'] ['nie', 'zajmujące', 'życie']\n",
            "1462.4391 Przyjęły plan Ludki, żeby podzielić długie szwy na cztery części i nazwać je Europą, Azją, Afryką i Ameryką; w ten sposób poszło im doskonale, zwłaszcza gdy rozmawiały o różnych krajach, wyszywając sobie drogę po nich.\n",
            "['wyszywając'] ['wyżywając']\n",
            "1481.8289 Jedna tylko Eliza potrafiła wydobywać tony ze starego fortepianu, i delikatnie dotykając pożółkłych klawiszy, przyjemnie wtórowała ich prostym śpiewom.\n",
            "['tony'] ['tonę']\n",
            "['wtórowała'] ['wturowała']\n",
            "1491.5354 Głos Małgosi przypominał flet i ona wraz z matką kierowała tym małym chórem; Amelka odzywała się jak świerszczyk, a Ludka przeskakiwała z nuty na nutę według upodobania — to popisywała się wejściem głosu w niewłaściwym miejscu, to zrobiła tryl w najsmutniejszych tonach.\n",
            "['chórem'] ['churem']\n",
            "['wejściem'] ['wyjściem']\n",
            "1516.4357 Jak skowronek śpiewem zaczynała dzień i śpiewem go kończyła, bo dziewczęta nigdy nie uznawały się za zbyt duże na tę domową kołysankę.\n",
            "['tę'] ['te']\n"
          ]
        }
      ]
    }
  ]
}