{
 "cells": [
  {
   "cell_type": "code",
   "execution_count": 1,
   "metadata": {},
   "outputs": [],
   "source": [
    "from pathlib import Path"
   ]
  },
  {
   "cell_type": "code",
   "execution_count": 3,
   "metadata": {},
   "outputs": [
    {
     "name": "stdout",
     "output_type": "stream",
     "text": [
      "237.16626686591627\t237.93940299427976\n"
     ]
    }
   ],
   "source": [
    "segments = {}\n",
    "count = 0\n",
    "for tsvfile in Path(\"/tmp/textgrid_cut\").glob(\"*.csv\"):\n",
    "    current = []\n",
    "    filestem = tsvfile.stem\n",
    "    with open(str(tsvfile)) as tsvf:\n",
    "        for line in tsvf.readlines():\n",
    "            line = line.strip()\n",
    "            if line == \"\":\n",
    "                continue\n",
    "            parts = line.split(\"\\t\")\n",
    "            if len(parts) != 3:\n",
    "                print(line)\n",
    "                continue\n",
    "            start = float(parts[0])\n",
    "            end = float(parts[1])\n",
    "            text = parts[2]\n",
    "            duration = (end - start)\n",
    "            # if (duration >= 2.0) and (duration <= 30.0):\n",
    "            current.append((start, end, text))\n",
    "        segments[filestem] = current"
   ]
  },
  {
   "cell_type": "code",
   "execution_count": 4,
   "metadata": {},
   "outputs": [
    {
     "data": {
      "text/plain": [
       "70"
      ]
     },
     "execution_count": 4,
     "metadata": {},
     "output_type": "execute_result"
    }
   ],
   "source": [
    "len(segments)"
   ]
  },
  {
   "cell_type": "code",
   "execution_count": 6,
   "metadata": {},
   "outputs": [],
   "source": [
    "from pydub import AudioSegment\n",
    "\n",
    "parameters = [\"-ac\", \"1\", \"-acodec\", \"pcm_s16le\", \"-ar\", \"16000\"]\n",
    "matcha_data = {}\n",
    "\n",
    "outdir = Path(\"/tmp/audio_clips\")\n",
    "\n",
    "if not outdir.is_dir():\n",
    "    outdir.mkdir()\n",
    "\n",
    "for scene in segments:\n",
    "    parts = scene.split(\"_\")\n",
    "    if parts[-1] == \"main\":\n",
    "        speaker = int(parts[1]) - 2\n",
    "    else:\n",
    "        if parts[1] == \"3\":\n",
    "            speaker = 5\n",
    "        else:\n",
    "            speaker = 6\n",
    "    if speaker not in matcha_data:\n",
    "        matcha_data[speaker] = []\n",
    "    \n",
    "    orig_audio = AudioSegment.from_file(f\"/Users/joregan/Playing/hsi/audio/audio_cut/{scene}.wav\")\n",
    "\n",
    "    for seg in segments[scene]:\n",
    "        start = int(seg[0] * 1000)\n",
    "        end = int(seg[1] * 1000)\n",
    "        text = seg[2]\n",
    "\n",
    "        chunk = orig_audio[start:end]\n",
    "        chunk_basename = f\"{scene}_{start}_{end}.wav\"\n",
    "        chunk_name = str(outdir / chunk_basename)\n",
    "\n",
    "        chunk.export(chunk_name, format=\"wav\", parameters=parameters)\n",
    "        with open(str(outdir / chunk_basename.replace(\".wav\", \".txt\")), \"w\") as txtout:\n",
    "            txtout.write(text)\n",
    "        # matcha_data[speaker].append(f\"data/mm-conv/{chunk_basename}|{speaker}|{text}\")"
   ]
  },
  {
   "cell_type": "code",
   "execution_count": 30,
   "metadata": {},
   "outputs": [],
   "source": [
    "import random\n",
    "\n",
    "def decision():\n",
    "    return random.random() < 0.98\n",
    "\n",
    "with (\n",
    "    open(outdir / \"train.txt\", \"w\", encoding=\"utf-8\") as tf,\n",
    "    open(outdir / \"valid.txt\", \"w\", encoding=\"utf-8\") as vf,\n",
    "):\n",
    "    for spk in matcha_data:\n",
    "        for line in matcha_data[spk]:\n",
    "            if decision():\n",
    "                tf.write(line + \"\\n\")\n",
    "            else:\n",
    "                vf.write(line + \"\\n\")"
   ]
  }
 ],
 "metadata": {
  "kernelspec": {
   "display_name": "hf",
   "language": "python",
   "name": "python3"
  },
  "language_info": {
   "codemirror_mode": {
    "name": "ipython",
    "version": 3
   },
   "file_extension": ".py",
   "mimetype": "text/x-python",
   "name": "python",
   "nbconvert_exporter": "python",
   "pygments_lexer": "ipython3",
   "version": "3.9.15"
  }
 },
 "nbformat": 4,
 "nbformat_minor": 2
}
