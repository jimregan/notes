{
 "cells": [
  {
   "cell_type": "code",
   "execution_count": 1,
   "metadata": {},
   "outputs": [],
   "source": [
    "from pathlib import Path\n",
    "import xml.etree.ElementTree as ET"
   ]
  },
  {
   "cell_type": "code",
   "execution_count": 2,
   "metadata": {},
   "outputs": [],
   "source": [
    "_CORPORA = Path(\"/media/storage/jim/speech-syn/Corpora/\")"
   ]
  },
  {
   "cell_type": "code",
   "execution_count": 3,
   "metadata": {},
   "outputs": [],
   "source": [
    "_ANB = _CORPORA / \"ga_UL\" / \"anb\""
   ]
  },
  {
   "cell_type": "code",
   "execution_count": 4,
   "metadata": {},
   "outputs": [],
   "source": [
    "_ANB_DIRS_GLOBBED = _ANB.glob(\"*\")"
   ]
  },
  {
   "cell_type": "code",
   "execution_count": 8,
   "metadata": {},
   "outputs": [],
   "source": [
    "# text01-001 is a duplicate of text01 without corrections\n",
    "# new_text01 has no xml directory\n",
    "_SKIP = [\"text01-001\", \"new_text01\"]\n",
    "_ANB_DIRS = [a for a in _ANB_DIRS_GLOBBED if a.stem not in _SKIP]"
   ]
  },
  {
   "cell_type": "code",
   "execution_count": 9,
   "metadata": {},
   "outputs": [],
   "source": [
    "def get_words(file):\n",
    "    words = []\n",
    "    junk = [\"GLOTTAL_STOP\", \"SILENCE_TOKEN\"]\n",
    "    tree = ET.parse(file)\n",
    "    root = tree.getroot()\n",
    "    for wordtag in root.findall(\".//word\"):\n",
    "        if \"pos\" in wordtag.attrib and wordtag.attrib[\"pos\"] == \"punc\":\n",
    "            continue\n",
    "        if \"input_string\" in wordtag.attrib and wordtag.attrib[\"input_string\"] not in junk:\n",
    "            words.append(wordtag.attrib[\"input_string\"])\n",
    "    return words"
   ]
  },
  {
   "cell_type": "code",
   "execution_count": 10,
   "metadata": {},
   "outputs": [],
   "source": [
    "texts = {}\n",
    "for dir in _ANB_DIRS:\n",
    "    xmldir = dir / \"xml\"\n",
    "    for xmlfile in xmldir.glob(\"*.xml\"):\n",
    "        texts[xmlfile.stem] = get_words(xmlfile)"
   ]
  },
  {
   "cell_type": "code",
   "execution_count": 11,
   "metadata": {},
   "outputs": [],
   "source": [
    "_ANB_OUTDIR = \"/media/storage/jim/Playing/mfa-corp/anb/\""
   ]
  },
  {
   "cell_type": "code",
   "execution_count": 12,
   "metadata": {},
   "outputs": [],
   "source": [
    "for outname in texts.keys():\n",
    "    with open(f\"{_ANB_OUTDIR}{outname}.txt\", \"w\") as outf:\n",
    "        outf.write(\" \".join(texts[outname]))"
   ]
  },
  {
   "cell_type": "code",
   "execution_count": 13,
   "metadata": {},
   "outputs": [],
   "source": [
    "def make_dict(file):\n",
    "    words = []\n",
    "    junk = [\"GLOTTAL_STOP\", \"SILENCE_TOKEN\"]\n",
    "    tree = ET.parse(file)\n",
    "    root = tree.getroot()\n",
    "    for wordtag in root.findall(\".//word\"):\n",
    "        if \"pos\" in wordtag.attrib and wordtag.attrib[\"pos\"] == \"punc\":\n",
    "            continue\n",
    "        if \"input_string\" in wordtag.attrib and wordtag.attrib[\"input_string\"] not in junk:\n",
    "            word = wordtag.attrib[\"input_string\"]\n",
    "            phones = []\n",
    "            for phoneme in wordtag.findall(\".//phoneme\"):\n",
    "                if \"symbol\" in phoneme.attrib:\n",
    "                    phones.append(phoneme.attrib[\"symbol\"])\n",
    "            if len(phones) != 0:\n",
    "                words.append(\" \".join([word] + phones))\n",
    "    return words"
   ]
  },
  {
   "cell_type": "code",
   "execution_count": 14,
   "metadata": {},
   "outputs": [],
   "source": [
    "dictionary = set()\n",
    "for dir in _ANB_DIRS:\n",
    "    xmldir = dir / \"xml\"\n",
    "    for xmlfile in xmldir.glob(\"*.xml\"):\n",
    "        dictionary.update(make_dict(xmlfile))"
   ]
  },
  {
   "cell_type": "code",
   "execution_count": 15,
   "metadata": {},
   "outputs": [],
   "source": [
    "_ANB_DICT = \"/media/storage/jim/Playing/mfa-corp/anb.dict\"\n",
    "with open(_ANB_DICT, \"w\") as dictf:\n",
    "    for line in sorted(dictionary):\n",
    "        dictf.write(line + \"\\n\")"
   ]
  },
  {
   "cell_type": "code",
   "execution_count": null,
   "metadata": {},
   "outputs": [],
   "source": [
    "_MFA_OUT = \"/media/storage/jim/Playing/mfa_alignments/anb\"\n",
    "_MFA_MODEL = \"/media/storage/jim/Playing/mfa_models/ga_UL\""
   ]
  },
  {
   "cell_type": "code",
   "execution_count": null,
   "metadata": {},
   "outputs": [],
   "source": [
    "!mfa train -o {_MFA_MODEL} {_PMG_OUTDIR} {_PMG_DICT} {_MFA_OUT}"
   ]
  }
 ],
 "metadata": {
  "kernelspec": {
   "display_name": "Python 3",
   "language": "python",
   "name": "python3"
  },
  "language_info": {
   "codemirror_mode": {
    "name": "ipython",
    "version": 3
   },
   "file_extension": ".py",
   "mimetype": "text/x-python",
   "name": "python",
   "nbconvert_exporter": "python",
   "pygments_lexer": "ipython3",
   "version": "3.6.9"
  }
 },
 "nbformat": 4,
 "nbformat_minor": 2
}
