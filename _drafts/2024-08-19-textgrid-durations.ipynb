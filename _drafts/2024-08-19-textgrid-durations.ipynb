{
 "cells": [
  {
   "cell_type": "markdown",
   "metadata": {},
   "source": []
  },
  {
   "cell_type": "code",
   "execution_count": 7,
   "metadata": {},
   "outputs": [],
   "source": [
    "from praatio import textgrid"
   ]
  },
  {
   "cell_type": "code",
   "execution_count": 2,
   "metadata": {
    "tags": [
     "parameters"
    ]
   },
   "outputs": [],
   "source": [
    "input = \"/Users/joregan/Desktop/\""
   ]
  },
  {
   "cell_type": "code",
   "execution_count": 8,
   "metadata": {},
   "outputs": [],
   "source": [
    "from pathlib import Path\n",
    "\n",
    "input_path = Path(input)\n",
    "IS_DIR = False\n",
    "if input_path.is_dir():\n",
    "    IS_DIR = True\n",
    "assert input_path.exists()"
   ]
  },
  {
   "cell_type": "code",
   "execution_count": 29,
   "metadata": {},
   "outputs": [],
   "source": [
    "import re\n",
    "\n",
    "def get_durations(filename):\n",
    "    tg = textgrid.openTextgrid(filename, includeEmptyIntervals=False)\n",
    "\n",
    "    if len(tg.tierNames) == 1:\n",
    "        tier = tg.getTier(tg.tierNames[0])\n",
    "    elif \"whisperx\" in tg.tierNames:\n",
    "        tier = tg.getTier(\"whisperx\")\n",
    "    elif \"utterances\" in tg.tierNames:\n",
    "        tier = tg.getTier(\"utterances\")\n",
    "    elif \"words\" in tg.tierNames:\n",
    "        tier = tg.getTier(\"words\")\n",
    "    else:\n",
    "        print(\"Be careful: file\", filename, \"has none of the expected tier names\")\n",
    "\n",
    "    longest_utt = 0.0\n",
    "    longest_sil = 0.0\n",
    "    shortest_utt = 100.0\n",
    "    shortest_sil = 100.0\n",
    "\n",
    "    def silence_like(text):\n",
    "        text = text.strip()\n",
    "\n",
    "        if text == \"\":\n",
    "            return True\n",
    "        if text in [\"sp\", \"sil\", \"<eps>\"]:\n",
    "            return True\n",
    "        m = re.match(\"^\\[[^]]+\\]$\", text)\n",
    "        if m:\n",
    "            return True\n",
    "        return False        \n",
    "\n",
    "    silences = []\n",
    "    utterances = []\n",
    "\n",
    "    for interval in tier.entries:\n",
    "        start = interval[0]\n",
    "        end = interval[1]\n",
    "        text = interval[2]\n",
    "        duration = end - start\n",
    "\n",
    "        text = text.strip()\n",
    "        if silence_like(text):\n",
    "            silences.append(duration)\n",
    "            if duration > longest_sil:\n",
    "                longest_sil = duration\n",
    "            if duration < shortest_sil:\n",
    "                shortest_sil = duration\n",
    "        else:\n",
    "            utterances.append(duration)\n",
    "            if duration > longest_utt:\n",
    "                longest_utt = duration\n",
    "            if duration < shortest_utt:\n",
    "                shortest_utt = duration\n",
    "    \n",
    "    return {\n",
    "        \"longest_utt\": longest_utt,\n",
    "        \"longest_sil\": longest_sil,\n",
    "        \"shortest_utt\": shortest_utt,\n",
    "        \"shortest_sil\": shortest_sil,\n",
    "        \"utterances\": utterances,\n",
    "        \"silences\": silences\n",
    "    }\n",
    "            "
   ]
  },
  {
   "cell_type": "code",
   "execution_count": 31,
   "metadata": {},
   "outputs": [
    {
     "data": {
      "text/plain": [
       "{'longest_utt': 26.394918272118844,\n",
       " 'longest_sil': 1.3282541087066875,\n",
       " 'shortest_utt': 0.38482016812781694,\n",
       " 'shortest_sil': 0.12899471012678987,\n",
       " 'utterances': [0.6774095954404107,\n",
       "  0.803593735767544,\n",
       "  3.699003293778354,\n",
       "  1.0360382047912111,\n",
       "  4.205563005973971,\n",
       "  0.4449651264167471,\n",
       "  2.9529563320441525,\n",
       "  2.9952130151335865,\n",
       "  0.3984762326119977,\n",
       "  16.7262792675169,\n",
       "  23.191480298177567,\n",
       "  13.71676358035188,\n",
       "  0.624279431092134,\n",
       "  8.220721115012026,\n",
       "  0.5379429140262175,\n",
       "  3.2608638368749325,\n",
       "  4.316825853296734,\n",
       "  7.636137620243204,\n",
       "  25.035160050482403,\n",
       "  11.622581659972184,\n",
       "  23.111419406973027,\n",
       "  8.556231510282174,\n",
       "  4.1924508971039245,\n",
       "  3.566351070347423,\n",
       "  20.879634105461918,\n",
       "  0.7551734126418523,\n",
       "  1.4206518988779635,\n",
       "  0.8287480655735067,\n",
       "  6.621972040021376,\n",
       "  1.4831776361396578,\n",
       "  8.11214465244285,\n",
       "  6.2308245652138226,\n",
       "  9.577608920103842,\n",
       "  11.941110148946905,\n",
       "  2.2076525434702603,\n",
       "  17.931354553161555,\n",
       "  11.423448638176296,\n",
       "  8.493467332429987,\n",
       "  10.692646424165957,\n",
       "  22.876371660814925,\n",
       "  7.5769797869550075,\n",
       "  0.520809250097841,\n",
       "  20.388458200220725,\n",
       "  15.460022423078613,\n",
       "  21.254820267190382,\n",
       "  4.219810874668326,\n",
       "  2.476737322687427,\n",
       "  4.373430533592227,\n",
       "  1.5566409808479875,\n",
       "  26.394918272118844,\n",
       "  7.027125381405881,\n",
       "  0.9692838821265468,\n",
       "  1.6104865639415493,\n",
       "  0.6481181778995051,\n",
       "  0.38482016812781694,\n",
       "  0.5268662881604769,\n",
       "  2.4169460097546107,\n",
       "  9.188849432139364,\n",
       "  1.2951235431735313,\n",
       "  4.054617676853354,\n",
       "  10.966023583362244,\n",
       "  23.894000000000005],\n",
       " 'silences': [1.3282541087066875,\n",
       "  0.5850177167721,\n",
       "  0.12899471012678987,\n",
       "  0.5381695584344186,\n",
       "  0.5468497126027501,\n",
       "  0.347206166731894,\n",
       "  0.523543674426719,\n",
       "  0.33852601256359094]}"
      ]
     },
     "execution_count": 31,
     "metadata": {},
     "output_type": "execute_result"
    }
   ],
   "source": [
    "get_durations(\"/Users/joregan/Desktop/hsi_5_0718_227_001_main.TextGrid\")"
   ]
  },
  {
   "cell_type": "code",
   "execution_count": 24,
   "metadata": {},
   "outputs": [],
   "source": [
    "import re\n",
    "\n",
    "text1 = \"[yes]\"\n",
    "text2 = \"no\"\n",
    "text3 = \"[like]yes,but[no]\"\n",
    "\n",
    "m = re.match(\"^\\[[^]]+\\]$\", text3)\n",
    "m\n"
   ]
  }
 ],
 "metadata": {
  "kernelspec": {
   "display_name": "hf",
   "language": "python",
   "name": "python3"
  },
  "language_info": {
   "codemirror_mode": {
    "name": "ipython",
    "version": 3
   },
   "file_extension": ".py",
   "mimetype": "text/x-python",
   "name": "python",
   "nbconvert_exporter": "python",
   "pygments_lexer": "ipython3",
   "version": "3.9.15"
  }
 },
 "nbformat": 4,
 "nbformat_minor": 2
}
