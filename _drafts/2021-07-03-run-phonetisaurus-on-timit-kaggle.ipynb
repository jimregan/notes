{
 "cells": [
  {
   "cell_type": "markdown",
   "id": "royal-zoning",
   "metadata": {
    "id": "Hb-bcDt8iV3_",
    "papermill": {
     "duration": 0.010903,
     "end_time": "2021-07-03T14:24:48.162638",
     "exception": false,
     "start_time": "2021-07-03T14:24:48.151735",
     "status": "completed"
    },
    "tags": []
   },
   "source": [
    "The first few cells set up phonetisaurus; they are adapted from the instructions in the git README."
   ]
  },
  {
   "cell_type": "code",
   "execution_count": 1,
   "id": "brutal-butter",
   "metadata": {
    "execution": {
     "iopub.execute_input": "2021-07-03T14:24:48.200322Z",
     "iopub.status.busy": "2021-07-03T14:24:48.188802Z",
     "iopub.status.idle": "2021-07-03T14:25:11.819543Z",
     "shell.execute_reply": "2021-07-03T14:25:11.820028Z"
    },
    "id": "4oKjChPhZKoH",
    "papermill": {
     "duration": 23.648022,
     "end_time": "2021-07-03T14:25:11.820331",
     "exception": false,
     "start_time": "2021-07-03T14:24:48.172309",
     "status": "completed"
    },
    "tags": []
   },
   "outputs": [],
   "source": [
    "%%capture\n",
    "!apt-get -y install git g++ autoconf-archive make libtool\n",
    "# Python bindings\n",
    "!apt-get -y install python-setuptools python-dev\n",
    "!apt-get -y install gfortran"
   ]
  },
  {
   "cell_type": "code",
   "execution_count": 2,
   "id": "facial-stable",
   "metadata": {
    "execution": {
     "iopub.execute_input": "2021-07-03T14:25:11.845502Z",
     "iopub.status.busy": "2021-07-03T14:25:11.844467Z",
     "iopub.status.idle": "2021-07-03T14:31:09.953119Z",
     "shell.execute_reply": "2021-07-03T14:31:09.952238Z"
    },
    "id": "hJilOunEZc1C",
    "papermill": {
     "duration": 358.122535,
     "end_time": "2021-07-03T14:31:09.953290",
     "exception": false,
     "start_time": "2021-07-03T14:25:11.830755",
     "status": "completed"
    },
    "tags": []
   },
   "outputs": [],
   "source": [
    "%%capture\n",
    "%cd /tmp\n",
    "!wget http://www.openfst.org/twiki/pub/FST/FstDownload/openfst-1.6.2.tar.gz\n",
    "!tar -xvzf openfst-1.6.2.tar.gz\n",
    "%cd openfst-1.6.2\n",
    "!./configure --enable-static --enable-shared --enable-far --enable-ngram-fsts\n",
    "!make -j 4\n",
    "# Now wait a while...\n",
    "!make install"
   ]
  },
  {
   "cell_type": "code",
   "execution_count": 3,
   "id": "cardiovascular-dispatch",
   "metadata": {
    "execution": {
     "iopub.execute_input": "2021-07-03T14:31:09.983687Z",
     "iopub.status.busy": "2021-07-03T14:31:09.982297Z",
     "iopub.status.idle": "2021-07-03T14:31:09.986964Z",
     "shell.execute_reply": "2021-07-03T14:31:09.987498Z"
    },
    "id": "XcQVoprkc-nz",
    "outputId": "28af04b5-1e1d-423a-80cd-45e552a31c2d",
    "papermill": {
     "duration": 0.024519,
     "end_time": "2021-07-03T14:31:09.987672",
     "exception": false,
     "start_time": "2021-07-03T14:31:09.963153",
     "status": "completed"
    },
    "tags": []
   },
   "outputs": [
    {
     "data": {
      "text/plain": [
       "'/opt/conda/lib:/usr/local/lib:/usr/local/lib/fst'"
      ]
     },
     "execution_count": 3,
     "metadata": {},
     "output_type": "execute_result"
    }
   ],
   "source": [
    "import os\n",
    "ldlibpath = os.environ['LD_LIBRARY_PATH']\n",
    "newld = f'{ldlibpath}:/usr/local/lib:/usr/local/lib/fst'\n",
    "os.environ['LD_LIBRARY_PATH']=newld\n",
    "%env LD_LIBRARY_PATH"
   ]
  },
  {
   "cell_type": "code",
   "execution_count": 4,
   "id": "middle-region",
   "metadata": {
    "execution": {
     "iopub.execute_input": "2021-07-03T14:31:10.018346Z",
     "iopub.status.busy": "2021-07-03T14:31:10.017640Z",
     "iopub.status.idle": "2021-07-03T14:34:14.592593Z",
     "shell.execute_reply": "2021-07-03T14:34:14.591469Z"
    },
    "id": "ziFGLPG7evck",
    "papermill": {
     "duration": 184.594895,
     "end_time": "2021-07-03T14:34:14.593010",
     "exception": false,
     "start_time": "2021-07-03T14:31:09.998115",
     "status": "completed"
    },
    "tags": []
   },
   "outputs": [],
   "source": [
    "%%capture\n",
    "%cd /tmp\n",
    "!git clone https://github.com/AdolfVonKleist/Phonetisaurus.git\n",
    "%cd Phonetisaurus\n",
    "!./configure\n",
    "!make\n",
    "!make install"
   ]
  },
  {
   "cell_type": "code",
   "execution_count": 5,
   "id": "adaptive-circuit",
   "metadata": {
    "execution": {
     "iopub.execute_input": "2021-07-03T14:34:14.625659Z",
     "iopub.status.busy": "2021-07-03T14:34:14.624962Z",
     "iopub.status.idle": "2021-07-03T14:34:14.630641Z",
     "shell.execute_reply": "2021-07-03T14:34:14.631137Z"
    },
    "id": "kSJUHZsWgSTC",
    "outputId": "f328b345-2670-42f7-f49d-19ca1c1dc9db",
    "papermill": {
     "duration": 0.024507,
     "end_time": "2021-07-03T14:34:14.631329",
     "exception": false,
     "start_time": "2021-07-03T14:34:14.606822",
     "status": "completed"
    },
    "tags": []
   },
   "outputs": [
    {
     "name": "stdout",
     "output_type": "stream",
     "text": [
      "/tmp\n"
     ]
    }
   ],
   "source": [
    "%cd /tmp/"
   ]
  },
  {
   "cell_type": "markdown",
   "id": "severe-killer",
   "metadata": {
    "id": "buTTrQpojaD5",
    "papermill": {
     "duration": 0.010391,
     "end_time": "2021-07-03T14:34:14.652704",
     "exception": false,
     "start_time": "2021-07-03T14:34:14.642313",
     "status": "completed"
    },
    "tags": []
   },
   "source": [
    "We also need MITLM"
   ]
  },
  {
   "cell_type": "code",
   "execution_count": 6,
   "id": "ranging-aggregate",
   "metadata": {
    "execution": {
     "iopub.execute_input": "2021-07-03T14:34:14.688606Z",
     "iopub.status.busy": "2021-07-03T14:34:14.687680Z",
     "iopub.status.idle": "2021-07-03T14:35:30.885852Z",
     "shell.execute_reply": "2021-07-03T14:35:30.885176Z"
    },
    "id": "1kIjpv36jd_7",
    "papermill": {
     "duration": 76.222363,
     "end_time": "2021-07-03T14:35:30.886032",
     "exception": false,
     "start_time": "2021-07-03T14:34:14.663669",
     "status": "completed"
    },
    "tags": []
   },
   "outputs": [],
   "source": [
    "%%capture\n",
    "!git clone https://github.com/mitlm/mitlm\n",
    "%cd mitlm\n",
    "!autoreconf -i\n",
    "!./configure\n",
    "!make\n",
    "!make install"
   ]
  },
  {
   "cell_type": "code",
   "execution_count": 7,
   "id": "million-lexington",
   "metadata": {
    "execution": {
     "iopub.execute_input": "2021-07-03T14:35:30.915926Z",
     "iopub.status.busy": "2021-07-03T14:35:30.914862Z",
     "iopub.status.idle": "2021-07-03T14:35:30.920543Z",
     "shell.execute_reply": "2021-07-03T14:35:30.919761Z"
    },
    "id": "sWL_apGcmkiZ",
    "outputId": "09d5d21a-d78f-423b-fc7b-59ca188e6ce7",
    "papermill": {
     "duration": 0.022534,
     "end_time": "2021-07-03T14:35:30.920750",
     "exception": false,
     "start_time": "2021-07-03T14:35:30.898216",
     "status": "completed"
    },
    "tags": []
   },
   "outputs": [
    {
     "name": "stdout",
     "output_type": "stream",
     "text": [
      "/kaggle/working\n"
     ]
    }
   ],
   "source": [
    "%cd /kaggle/working"
   ]
  },
  {
   "cell_type": "markdown",
   "id": "voluntary-blocking",
   "metadata": {
    "id": "gVCcIZzbiMg2",
    "papermill": {
     "duration": 0.010896,
     "end_time": "2021-07-03T14:35:30.943623",
     "exception": false,
     "start_time": "2021-07-03T14:35:30.932727",
     "status": "completed"
    },
    "tags": []
   },
   "source": [
    "The TIMIT dictionary is relatively clean, so there are only a few small changes that are needed for phonetisaurus."
   ]
  },
  {
   "cell_type": "code",
   "execution_count": 8,
   "id": "general-accuracy",
   "metadata": {
    "execution": {
     "iopub.execute_input": "2021-07-03T14:35:30.974684Z",
     "iopub.status.busy": "2021-07-03T14:35:30.973701Z",
     "iopub.status.idle": "2021-07-03T14:35:32.539913Z",
     "shell.execute_reply": "2021-07-03T14:35:32.539216Z"
    },
    "id": "8jvRytTLiKTY",
    "papermill": {
     "duration": 1.585027,
     "end_time": "2021-07-03T14:35:32.540062",
     "exception": false,
     "start_time": "2021-07-03T14:35:30.955035",
     "status": "completed"
    },
    "tags": []
   },
   "outputs": [],
   "source": [
    "!cat ../input/darpa-timit-acousticphonetic-continuous-speech/TIMITDIC.TXT|grep -v '^;'|tr -d '/'|sed -e 's/  */ /g;s/~adj//;s/~v_past//;s/~v_pres//;s/~v//;s/~n//;' > /tmp/TIMIT.cleaned\n",
    "!cat /tmp/TIMIT.cleaned | perl -pe 's/\\s+/ /g; s/^\\s+//; s/\\s+$//; @_ = split (/\\s+/); $w = shift (@_); $_ = $w.\"\\t\".join (\" \", @_).\"\\n\";' > /tmp/TIMIT.clean"
   ]
  },
  {
   "cell_type": "code",
   "execution_count": 9,
   "id": "economic-tyler",
   "metadata": {
    "execution": {
     "iopub.execute_input": "2021-07-03T14:35:32.576082Z",
     "iopub.status.busy": "2021-07-03T14:35:32.574874Z",
     "iopub.status.idle": "2021-07-03T14:35:46.829554Z",
     "shell.execute_reply": "2021-07-03T14:35:46.828973Z"
    },
    "id": "SHoBNKGQiqE7",
    "outputId": "008a21ac-c933-408b-c460-066f4f075312",
    "papermill": {
     "duration": 14.278165,
     "end_time": "2021-07-03T14:35:46.829695",
     "exception": false,
     "start_time": "2021-07-03T14:35:32.551530",
     "status": "completed"
    },
    "tags": []
   },
   "outputs": [
    {
     "name": "stdout",
     "output_type": "stream",
     "text": [
      "GitRevision: 0.9.1\r\n",
      "Loading input file: /tmp/TIMIT.clean\r\n",
      "Alignment failed: x\r\n",
      "Starting EM...\r\n",
      "Finished first iter...\r\n",
      "Iteration: 1 Change: 2.70318\r\n",
      "Iteration: 2 Change: 0.0603504\r\n",
      "Iteration: 3 Change: 0.0425539\r\n",
      "Iteration: 4 Change: 0.0206814\r\n",
      "Iteration: 5 Change: 0.0114756\r\n",
      "Iteration: 6 Change: 0.00711536\r\n",
      "Iteration: 7 Change: 0.0042429\r\n",
      "Iteration: 8 Change: 0.00297546\r\n",
      "Iteration: 9 Change: 0.00223923\r\n",
      "Iteration: 10 Change: 0.00151825\r\n",
      "Iteration: 11 Change: 0.00115204\r\n",
      "Last iteration: \r\n",
      "0.001\tLoading corpus TIMIT.clean.corpus...\r\n",
      "0.035\tSmoothing[1] = ModKN\r\n",
      "0.035\tSmoothing[2] = ModKN\r\n",
      "0.035\tSmoothing[3] = ModKN\r\n",
      "0.035\tSmoothing[4] = ModKN\r\n",
      "0.035\tSmoothing[5] = ModKN\r\n",
      "0.035\tSmoothing[6] = ModKN\r\n",
      "0.035\tSmoothing[7] = ModKN\r\n",
      "0.035\tSmoothing[8] = ModKN\r\n",
      "0.035\tSet smoothing algorithms...\r\n",
      "0.035\tY 6.063492e-01\r\n",
      "0.035\tY 6.304450e-01\r\n",
      "0.035\tY 7.305669e-01\r\n",
      "0.035\tY 7.950124e-01\r\n",
      "0.036\tY 8.524463e-01\r\n",
      "0.036\tY 9.033717e-01\r\n",
      "0.036\tY 9.355036e-01\r\n",
      "0.037\tY 9.092702e-01\r\n",
      "0.037\tEstimating full n-gram model...\r\n",
      "0.039\tSaving LM to timit.arpa...\r\n",
      "GitRevision: 0.9.1\r\n",
      "Initializing...\r\n",
      "Converting...\r\n"
     ]
    }
   ],
   "source": [
    "!phonetisaurus-align --input=/tmp/TIMIT.clean --ofile=TIMIT.clean.corpus --seq1_del=false\n",
    "# Train an n-gram model (5s-10s):\n",
    "!estimate-ngram -o 8 -t TIMIT.clean.corpus -wl timit.arpa\n",
    "# Convert to OpenFst format (10s-20s):\n",
    "!phonetisaurus-arpa2wfst --lm=timit.arpa --ofile=timit.fst"
   ]
  },
  {
   "cell_type": "code",
   "execution_count": 10,
   "id": "finished-particular",
   "metadata": {
    "execution": {
     "iopub.execute_input": "2021-07-03T14:35:46.869180Z",
     "iopub.status.busy": "2021-07-03T14:35:46.868233Z",
     "iopub.status.idle": "2021-07-03T14:35:46.872245Z",
     "shell.execute_reply": "2021-07-03T14:35:46.871617Z"
    },
    "id": "2moIx62roJRi",
    "outputId": "538851f0-dba4-4c7a-d8b2-42ad341cccd2",
    "papermill": {
     "duration": 0.025609,
     "end_time": "2021-07-03T14:35:46.872419",
     "exception": false,
     "start_time": "2021-07-03T14:35:46.846810",
     "status": "completed"
    },
    "tags": []
   },
   "outputs": [],
   "source": [
    "#!phonetisaurus-apply --model timit.fst --word_list <wordlist>"
   ]
  }
 ],
 "metadata": {
  "kernelspec": {
   "display_name": "Python 3",
   "language": "python",
   "name": "python3"
  },
  "language_info": {
   "codemirror_mode": {
    "name": "ipython",
    "version": 3
   },
   "file_extension": ".py",
   "mimetype": "text/x-python",
   "name": "python",
   "nbconvert_exporter": "python",
   "pygments_lexer": "ipython3",
   "version": "3.7.9"
  },
  "papermill": {
   "default_parameters": {},
   "duration": 665.861038,
   "end_time": "2021-07-03T14:35:47.600330",
   "environment_variables": {},
   "exception": null,
   "input_path": "__notebook__.ipynb",
   "output_path": "__notebook__.ipynb",
   "parameters": {},
   "start_time": "2021-07-03T14:24:41.739292",
   "version": "2.3.2"
  }
 },
 "nbformat": 4,
 "nbformat_minor": 5
}
