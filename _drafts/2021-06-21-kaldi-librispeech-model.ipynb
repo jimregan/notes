{
  "nbformat": 4,
  "nbformat_minor": 5,
  "metadata": {
    "kernelspec": {
      "display_name": "Python 3",
      "language": "python",
      "name": "python3"
    },
    "language_info": {
      "codemirror_mode": {
        "name": "ipython",
        "version": 3
      },
      "file_extension": ".py",
      "mimetype": "text/x-python",
      "name": "python",
      "nbconvert_exporter": "python",
      "pygments_lexer": "ipython3",
      "version": "3.7.9"
    },
    "papermill": {
      "default_parameters": {},
      "duration": 37.369128,
      "end_time": "2021-06-21T20:05:17.622299",
      "environment_variables": {},
      "exception": null,
      "input_path": "__notebook__.ipynb",
      "output_path": "__notebook__.ipynb",
      "parameters": {},
      "start_time": "2021-06-21T20:04:40.253171",
      "version": "2.3.2"
    },
    "colab": {
      "name": "2021-06-21-kaldi-librispeech-model.ipynb",
      "provenance": []
    }
  },
  "cells": [
    {
      "cell_type": "markdown",
      "metadata": {
        "id": "m6PvPcUl5EpZ"
      },
      "source": [
        "# Kaldi LibriSpeech model on Kaggle\n",
        "\n",
        "> \"Download and unpack model for use on Kaggle\"\n",
        "\n",
        "- toc: false\n",
        "- branch: master\n",
        "- hidden: true\n",
        "- categories: [kaggle, kaldi, librispeech]"
      ],
      "id": "m6PvPcUl5EpZ"
    },
    {
      "cell_type": "markdown",
      "metadata": {
        "papermill": {
          "duration": 0.004585,
          "end_time": "2021-06-21T20:04:45.860885",
          "exception": false,
          "start_time": "2021-06-21T20:04:45.856300",
          "status": "completed"
        },
        "tags": [],
        "id": "encouraging-petroleum"
      },
      "source": [
        "Setting up the [LibriSpeech Kaldi model](http://kaldi-asr.org:80/models/m13) on Kaggle: see [here](https://desh2608.github.io/2020-05-18-using-librispeech/)"
      ],
      "id": "encouraging-petroleum"
    },
    {
      "cell_type": "code",
      "metadata": {
        "_cell_guid": "b1076dfc-b9ad-4769-8c92-a6c4dae69d19",
        "_uuid": "8f2839f25d086af736a60e9eeb907d3b93b6e0e5",
        "execution": {
          "iopub.execute_input": "2021-06-21T20:04:45.873489Z",
          "iopub.status.busy": "2021-06-21T20:04:45.871954Z",
          "iopub.status.idle": "2021-06-21T20:05:05.055281Z",
          "shell.execute_reply": "2021-06-21T20:05:05.054557Z"
        },
        "papermill": {
          "duration": 19.1908,
          "end_time": "2021-06-21T20:05:05.055425",
          "exception": false,
          "start_time": "2021-06-21T20:04:45.864625",
          "status": "completed"
        },
        "tags": [],
        "id": "computational-period"
      },
      "source": [
        "%%capture\n",
        "!wget http://kaldi-asr.org/models/13/0013_librispeech_v1_chain.tar.gz\n",
        "!wget http://kaldi-asr.org/models/13/0013_librispeech_v1_extractor.tar.gz\n",
        "!wget http://kaldi-asr.org/models/13/0013_librispeech_v1_lm.tar.gz"
      ],
      "id": "computational-period",
      "execution_count": null,
      "outputs": []
    },
    {
      "cell_type": "code",
      "metadata": {
        "execution": {
          "iopub.execute_input": "2021-06-21T20:05:05.073198Z",
          "iopub.status.busy": "2021-06-21T20:05:05.068660Z",
          "iopub.status.idle": "2021-06-21T20:05:12.567932Z",
          "shell.execute_reply": "2021-06-21T20:05:12.568346Z"
        },
        "papermill": {
          "duration": 7.509281,
          "end_time": "2021-06-21T20:05:12.568559",
          "exception": false,
          "start_time": "2021-06-21T20:05:05.059278",
          "status": "completed"
        },
        "tags": [],
        "id": "cardiac-institution"
      },
      "source": [
        "%%capture\n",
        "!for i in *.tar.gz;do tar zxvf $i;done"
      ],
      "id": "cardiac-institution",
      "execution_count": null,
      "outputs": []
    },
    {
      "cell_type": "code",
      "metadata": {
        "execution": {
          "iopub.execute_input": "2021-06-21T20:05:12.585702Z",
          "iopub.status.busy": "2021-06-21T20:05:12.581310Z",
          "iopub.status.idle": "2021-06-21T20:05:14.040107Z",
          "shell.execute_reply": "2021-06-21T20:05:14.039551Z",
          "shell.execute_reply.started": "2021-06-21T19:59:34.665903Z"
        },
        "papermill": {
          "duration": 1.467735,
          "end_time": "2021-06-21T20:05:14.040244",
          "exception": false,
          "start_time": "2021-06-21T20:05:12.572509",
          "status": "completed"
        },
        "tags": [],
        "id": "traditional-vintage",
        "outputId": "f8b667c8-b498-4a70-f460-d530ae6c0467"
      },
      "source": [
        "!find . -type l\n",
        "!find . -type l -exec ls -al {} \\;"
      ],
      "id": "traditional-vintage",
      "execution_count": null,
      "outputs": [
        {
          "output_type": "stream",
          "text": [
            "./exp/chain_cleaned/tdnn_1d_sp/configs/lda.mat\r\n",
            "./exp/nnet3_cleaned/extractor/final.ie\r\n",
            "lrwxrwxrwx 1 61208 fax 10 Feb  2  2020 ./exp/chain_cleaned/tdnn_1d_sp/configs/lda.mat -> ../lda.mat\r\n",
            "lrwxrwxrwx 1 61208 fax 5 Feb  2  2020 ./exp/nnet3_cleaned/extractor/final.ie -> 10.ie\r\n"
          ],
          "name": "stdout"
        }
      ]
    },
    {
      "cell_type": "code",
      "metadata": {
        "execution": {
          "iopub.execute_input": "2021-06-21T20:05:14.057181Z",
          "iopub.status.busy": "2021-06-21T20:05:14.056580Z",
          "iopub.status.idle": "2021-06-21T20:05:17.008414Z",
          "shell.execute_reply": "2021-06-21T20:05:17.007710Z",
          "shell.execute_reply.started": "2021-06-21T20:01:07.063492Z"
        },
        "papermill": {
          "duration": 2.96359,
          "end_time": "2021-06-21T20:05:17.008584",
          "exception": false,
          "start_time": "2021-06-21T20:05:14.044994",
          "status": "completed"
        },
        "tags": [],
        "id": "opened-zambia"
      },
      "source": [
        "!rm exp/chain_cleaned/tdnn_1d_sp/configs/lda.mat\n",
        "!rm exp/nnet3_cleaned/extractor/final.ie\n",
        "!cp exp/chain_cleaned/tdnn_1d_sp/lda.mat exp/chain_cleaned/tdnn_1d_sp/configs/lda.mat\n",
        "!cp exp/nnet3_cleaned/extractor/10.ie exp/nnet3_cleaned/extractor/final.ie"
      ],
      "id": "opened-zambia",
      "execution_count": null,
      "outputs": []
    }
  ]
}