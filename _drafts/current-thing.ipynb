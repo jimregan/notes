{
 "cells": [
  {
   "cell_type": "code",
   "execution_count": 2,
   "metadata": {},
   "outputs": [],
   "source": [
    "def run_espeak(text):\n",
    "    phon = !echo \"{text}\" | espeak -v en-us --ipa -q\n",
    "    return phon"
   ]
  },
  {
   "cell_type": "code",
   "execution_count": 3,
   "metadata": {},
   "outputs": [
    {
     "data": {
      "text/plain": [
       "[' oʊkˈeɪ', ' jˈɛh', ' ɪts ˈʌ vˈɛɹi nˈaɪs', ' ðə nˈuː plˈeɪs juː hæv hˈɪɹ', '']"
      ]
     },
     "execution_count": 3,
     "metadata": {},
     "output_type": "execute_result"
    }
   ],
   "source": [
    "run_espeak(\"Okay, yeah, it\\'s uh very nice, the new place you have here\")"
   ]
  },
  {
   "cell_type": "code",
   "execution_count": 4,
   "metadata": {},
   "outputs": [],
   "source": [
    "import json"
   ]
  },
  {
   "cell_type": "code",
   "execution_count": 5,
   "metadata": {},
   "outputs": [],
   "source": [
    "\n",
    "def get_phon_range(filename, start, end):\n",
    "    wanted = []\n",
    "    with open(filename) as inf:\n",
    "        data = json.load(inf)\n",
    "    if \"chunks\" in data:\n",
    "        for chunk in data[\"chunks\"]:\n",
    "            cstart, cend = chunk[\"timestamp\"]\n",
    "            if cstart >= start and cend <= end:\n",
    "                wanted.append(chunk[\"text\"])\n",
    "            elif cstart >= start and cend <= (end + 1.0):\n",
    "                wanted.append(\"*\" + chunk[\"text\"])\n",
    "            elif cend <= end and cstart >= (start + 1.0):\n",
    "                wanted.append(chunk[\"text\"] + \"*\")\n",
    "    return \" \".join(wanted)"
   ]
  },
  {
   "cell_type": "code",
   "execution_count": 11,
   "metadata": {},
   "outputs": [
    {
     "data": {
      "text/plain": [
       "'wənaɪi aɪ b ɹəðɪf ɹəm ʧaɪnəəhɑ ɪminðɪ zaɪ *dɪðɪnɪfɝʃɪ'"
      ]
     },
     "execution_count": 11,
     "metadata": {},
     "output_type": "execute_result"
    }
   ],
   "source": [
    "get_phon_range(\"/Users/joregan/Playing/hsi_phone_json/hsi_7_0719_211_002_inter.2.json\", 67., 71.)"
   ]
  },
  {
   "cell_type": "code",
   "execution_count": 13,
   "metadata": {},
   "outputs": [
    {
     "data": {
      "text/plain": [
       "' juː mˈiːn ðə '"
      ]
     },
     "execution_count": 13,
     "metadata": {},
     "output_type": "execute_result"
    }
   ],
   "source": [
    "\" \".join(run_espeak(\"You mean the\"))"
   ]
  },
  {
   "cell_type": "code",
   "execution_count": 17,
   "metadata": {},
   "outputs": [
    {
     "data": {
      "text/plain": [
       "[' dˈoːɹ', '']"
      ]
     },
     "execution_count": 17,
     "metadata": {},
     "output_type": "execute_result"
    }
   ],
   "source": [
    "run_espeak(\"door\")"
   ]
  },
  {
   "cell_type": "markdown",
   "metadata": {},
   "source": [
    "```\n",
    "əhˈɑ.\n",
    "jæ.\n",
    "əhˈæ.\n",
    "```"
   ]
  }
 ],
 "metadata": {
  "kernelspec": {
   "display_name": "ctcseg",
   "language": "python",
   "name": "python3"
  },
  "language_info": {
   "codemirror_mode": {
    "name": "ipython",
    "version": 3
   },
   "file_extension": ".py",
   "mimetype": "text/x-python",
   "name": "python",
   "nbconvert_exporter": "python",
   "pygments_lexer": "ipython3",
   "version": "3.10.4"
  }
 },
 "nbformat": 4,
 "nbformat_minor": 2
}
