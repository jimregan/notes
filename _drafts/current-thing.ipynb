{
 "cells": [
  {
   "cell_type": "code",
   "execution_count": 1,
   "metadata": {},
   "outputs": [],
   "source": [
    "TEST_A = \"/Users/joregan/Playing/rd_ctm_edit/H5C120171011va\""
   ]
  },
  {
   "cell_type": "code",
   "execution_count": 2,
   "metadata": {},
   "outputs": [],
   "source": [
    "lines = []\n",
    "with open(TEST_A) as f:\n",
    "    for line in f.readlines():\n",
    "        lines.append(line.strip())"
   ]
  },
  {
   "cell_type": "code",
   "execution_count": 4,
   "metadata": {},
   "outputs": [],
   "source": [
    "def accept_all(lines):\n",
    "    outlines = []\n",
    "    for line in lines:\n",
    "        parts = line.split(\" \")\n",
    "        if parts[-1] == \"cor\":\n",
    "            outlines.append(line)\n",
    "        elif parts[-1] == \"sub\":\n",
    "            parts[4] = parts[6]\n",
    "            parts[-1] = \"cor\"\n",
    "            outlines.append(\" \".join(parts))\n",
    "    return outlines"
   ]
  },
  {
   "cell_type": "code",
   "execution_count": null,
   "metadata": {},
   "outputs": [],
   "source": [
    "accept_all(lines)"
   ]
  },
  {
   "cell_type": "code",
   "execution_count": 12,
   "metadata": {},
   "outputs": [],
   "source": [
    "def ctm_to_timed(lines):\n",
    "    output = []\n",
    "    for line in lines:\n",
    "        parts = line.split(\" \")\n",
    "        start = float(parts[2])\n",
    "        dur = float(parts[3])\n",
    "        output.append({\n",
    "            \"start\": start,\n",
    "            \"end\": start + dur,\n",
    "            \"text\": parts[6]\n",
    "        })\n",
    "    return output"
   ]
  },
  {
   "cell_type": "code",
   "execution_count": 15,
   "metadata": {},
   "outputs": [],
   "source": [
    "side_a = ctm_to_timed(accept_all(lines))"
   ]
  },
  {
   "cell_type": "code",
   "execution_count": 16,
   "metadata": {},
   "outputs": [],
   "source": [
    "phonfile = \"/Users/joregan/Playing/rd_phonetic/2442205210012872721_480p.json\""
   ]
  },
  {
   "cell_type": "code",
   "execution_count": 17,
   "metadata": {},
   "outputs": [],
   "source": [
    "import json\n",
    "with open(phonfile) as f:\n",
    "    pieces = json.load(f)"
   ]
  },
  {
   "cell_type": "code",
   "execution_count": 21,
   "metadata": {},
   "outputs": [],
   "source": [
    "def hf_json_to_timed(data):\n",
    "    output = []\n",
    "    for chunk in data[\"chunks\"]:\n",
    "        output.append({\n",
    "            \"start\": chunk[\"timestamp\"][0],\n",
    "            \"end\": chunk[\"timestamp\"][1],\n",
    "            \"text\": chunk[\"text\"]\n",
    "        })\n",
    "    return output"
   ]
  },
  {
   "cell_type": "code",
   "execution_count": 23,
   "metadata": {},
   "outputs": [],
   "source": [
    "side_b = hf_json_to_timed(pieces)"
   ]
  },
  {
   "cell_type": "code",
   "execution_count": 27,
   "metadata": {},
   "outputs": [],
   "source": [
    "def prune_to_other(left, right, fudge=0.5):\n",
    "    safe = left\n",
    "    working = right\n",
    "    # if right[0][\"start\"] > (left[0][\"start\"] - fudge) and right[-1][\"end\"] < (left[-1][\"end\"] + fudge):\n",
    "    #     safe = right\n",
    "    #     working = left\n",
    "    output = []\n",
    "    for item in working:\n",
    "        if item[\"start\"] < safe[0][\"start\"] - fudge:\n",
    "            continue\n",
    "        elif item[\"end\"] > safe[-1][\"end\"] + fudge:\n",
    "            continue\n",
    "        else:\n",
    "            output.append(item)\n",
    "\n",
    "    return safe, output"
   ]
  },
  {
   "cell_type": "code",
   "execution_count": 28,
   "metadata": {},
   "outputs": [],
   "source": [
    "new_a, new_b = prune_to_other(side_a, side_b)"
   ]
  },
  {
   "cell_type": "code",
   "execution_count": null,
   "metadata": {},
   "outputs": [],
   "source": [
    "new_b"
   ]
  },
  {
   "cell_type": "code",
   "execution_count": null,
   "metadata": {},
   "outputs": [],
   "source": []
  }
 ],
 "metadata": {
  "kernelspec": {
   "display_name": "ctcseg",
   "language": "python",
   "name": "python3"
  },
  "language_info": {
   "codemirror_mode": {
    "name": "ipython",
    "version": 3
   },
   "file_extension": ".py",
   "mimetype": "text/x-python",
   "name": "python",
   "nbconvert_exporter": "python",
   "pygments_lexer": "ipython3",
   "version": "3.10.4"
  }
 },
 "nbformat": 4,
 "nbformat_minor": 2
}
