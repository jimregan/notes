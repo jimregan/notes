{
 "cells": [
  {
   "cell_type": "code",
   "execution_count": 2,
   "metadata": {},
   "outputs": [],
   "source": [
    "def run_espeak(text):\n",
    "    phon = !echo \"{text}\" | espeak -v en-us --ipa -q\n",
    "    return phon"
   ]
  },
  {
   "cell_type": "code",
   "execution_count": 3,
   "metadata": {},
   "outputs": [],
   "source": [
    "import json"
   ]
  },
  {
   "cell_type": "code",
   "execution_count": 4,
   "metadata": {},
   "outputs": [],
   "source": [
    "\n",
    "def get_phon_range(filename, start, end):\n",
    "    wanted = []\n",
    "    with open(filename) as inf:\n",
    "        data = json.load(inf)\n",
    "    if \"chunks\" in data:\n",
    "        for chunk in data[\"chunks\"]:\n",
    "            cstart, cend = chunk[\"timestamp\"]\n",
    "            if cstart >= start and cend <= end:\n",
    "                wanted.append(chunk[\"text\"])\n",
    "            elif cstart >= start and cend <= (end + 1.0):\n",
    "                wanted.append(\"*\" + chunk[\"text\"])\n",
    "            elif cend <= end and cstart >= (start + 1.0):\n",
    "                wanted.append(chunk[\"text\"] + \"*\")\n",
    "    return \" \".join(wanted)"
   ]
  },
  {
   "cell_type": "code",
   "execution_count": 21,
   "metadata": {},
   "outputs": [
    {
     "data": {
      "text/plain": [
       "'ðɪ bɹ dɪ b ɹəʃɪsɪ t wəz nnɛ s tuðɪveɪ kɪm k *linɝɪnoʊənoʊwən'"
      ]
     },
     "execution_count": 21,
     "metadata": {},
     "output_type": "execute_result"
    }
   ],
   "source": [
    "get_phon_range(\"/Users/joregan/Playing/hsi_phone_json/hsi_3_0715_227_003_main.2.json\", 260., 265.)"
   ]
  },
  {
   "cell_type": "code",
   "execution_count": 6,
   "metadata": {},
   "outputs": [],
   "source": [
    "def skippable(word):\n",
    "    if word.startswith(\"{\") and word.endswith(\"}\"):\n",
    "        return True\n",
    "    if word.startswith(\"[\") and word.endswith(\"]\"):\n",
    "        return True\n",
    "    return False\n",
    "\n",
    "def proc_words(text):\n",
    "    words = text.split(\" \")\n",
    "    words = [w for w in words if not skippable(w)]\n",
    "    return \" \".join(words)\n"
   ]
  },
  {
   "cell_type": "code",
   "execution_count": 25,
   "metadata": {},
   "outputs": [
    {
     "data": {
      "text/plain": [
       "' juː dˈɪdnt ɡɛt ðə bˌiːˈɑːɹ ðə bɹˈʌʃᵻz '"
      ]
     },
     "execution_count": 25,
     "metadata": {},
     "output_type": "execute_result"
    }
   ],
   "source": [
    "def runner(text):\n",
    "    text = proc_words(text)\n",
    "    return \" \".join(run_espeak(text))\n",
    "\n",
    "runner(\"you didn't get the br the brushes\")"
   ]
  },
  {
   "cell_type": "code",
   "execution_count": 24,
   "metadata": {},
   "outputs": [
    {
     "data": {
      "text/plain": [
       "[' tˈuː', '']"
      ]
     },
     "execution_count": 24,
     "metadata": {},
     "output_type": "execute_result"
    }
   ],
   "source": [
    "run_espeak(\"too\")"
   ]
  },
  {
   "cell_type": "markdown",
   "metadata": {},
   "source": [
    "```\n",
    "əhˈɑ.\n",
    "jæ.\n",
    "əhˈæ.\n",
    "ˈoʊkeɪ\n",
    "```"
   ]
  }
 ],
 "metadata": {
  "kernelspec": {
   "display_name": "ctcseg",
   "language": "python",
   "name": "python3"
  },
  "language_info": {
   "codemirror_mode": {
    "name": "ipython",
    "version": 3
   },
   "file_extension": ".py",
   "mimetype": "text/x-python",
   "name": "python",
   "nbconvert_exporter": "python",
   "pygments_lexer": "ipython3",
   "version": "3.10.4"
  }
 },
 "nbformat": 4,
 "nbformat_minor": 2
}
