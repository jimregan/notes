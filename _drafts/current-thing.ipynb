{
 "cells": [
  {
   "cell_type": "code",
   "execution_count": 10,
   "metadata": {},
   "outputs": [],
   "source": [
    "def run_espeak(text):\n",
    "    phon = !echo \"{text}\" | espeak -v en-us --ipa -q\n",
    "    return phon"
   ]
  },
  {
   "cell_type": "code",
   "execution_count": 12,
   "metadata": {},
   "outputs": [
    {
     "data": {
      "text/plain": [
       "[' oʊkˈeɪ', ' jˈɛh', ' ɪts ˈʌ vˈɛɹi nˈaɪs', ' ðə nˈuː plˈeɪs juː hæv hˈɪɹ', '']"
      ]
     },
     "execution_count": 12,
     "metadata": {},
     "output_type": "execute_result"
    }
   ],
   "source": [
    "run_espeak(\"Okay, yeah, it\\'s uh very nice, the new place you have here\")"
   ]
  },
  {
   "cell_type": "code",
   "execution_count": 13,
   "metadata": {},
   "outputs": [],
   "source": [
    "import json"
   ]
  },
  {
   "cell_type": "code",
   "execution_count": 18,
   "metadata": {},
   "outputs": [],
   "source": [
    "\n",
    "def get_phon_range(filename, start, end):\n",
    "    wanted = []\n",
    "    with open(filename) as inf:\n",
    "        data = json.load(inf)\n",
    "    if \"chunks\" in data:\n",
    "        for chunk in data[\"chunks\"]:\n",
    "            cstart, cend = chunk[\"timestamp\"]\n",
    "            if cstart >= start and cend <= end:\n",
    "                wanted.append(chunk[\"text\"])\n",
    "            elif cstart >= start and cend <= (end + 1.0):\n",
    "                wanted.append(\"*\" + chunk[\"text\"])\n",
    "            elif cend <= end and cstart >= (start + 1.0):\n",
    "                wanted.append(chunk[\"text\"] + \"*\")\n",
    "    return \" \".join(wanted)"
   ]
  },
  {
   "cell_type": "code",
   "execution_count": 29,
   "metadata": {},
   "outputs": [
    {
     "data": {
      "text/plain": [
       "'ɪɪjɑðə tsənaɪs tʊɹɪhɛnðɪz wən'"
      ]
     },
     "execution_count": 29,
     "metadata": {},
     "output_type": "execute_result"
    }
   ],
   "source": [
    "get_phon_range(\"/Users/joregan/Playing/hsi_phone_json/hsi_7_0719_211_002_inter.2.json\", 78., 84.)"
   ]
  },
  {
   "cell_type": "code",
   "execution_count": 30,
   "metadata": {},
   "outputs": [
    {
     "data": {
      "text/plain": [
       "' jˈɛh  ðæts ɐ nˈaɪs stˈoːɹi '"
      ]
     },
     "execution_count": 30,
     "metadata": {},
     "output_type": "execute_result"
    }
   ],
   "source": [
    "\" \".join(run_espeak(\"Yeah, that's a nice story.\"))"
   ]
  },
  {
   "cell_type": "code",
   "execution_count": 25,
   "metadata": {},
   "outputs": [
    {
     "data": {
      "text/plain": [
       "[' jˈɛh', '']"
      ]
     },
     "execution_count": 25,
     "metadata": {},
     "output_type": "execute_result"
    }
   ],
   "source": [
    "run_espeak(\"yeah\")"
   ]
  }
 ],
 "metadata": {
  "kernelspec": {
   "display_name": "ctcseg",
   "language": "python",
   "name": "python3"
  },
  "language_info": {
   "codemirror_mode": {
    "name": "ipython",
    "version": 3
   },
   "file_extension": ".py",
   "mimetype": "text/x-python",
   "name": "python",
   "nbconvert_exporter": "python",
   "pygments_lexer": "ipython3",
   "version": "3.10.4"
  }
 },
 "nbformat": 4,
 "nbformat_minor": 2
}
