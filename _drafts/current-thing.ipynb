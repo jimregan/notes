{
 "cells": [
  {
   "cell_type": "code",
   "execution_count": 1,
   "metadata": {},
   "outputs": [],
   "source": [
    "TEST_A = \"/Users/joregan/Playing/rd_ctm_edit/H5C120171011va\""
   ]
  },
  {
   "cell_type": "code",
   "execution_count": 2,
   "metadata": {},
   "outputs": [],
   "source": [
    "lines = []\n",
    "with open(TEST_A) as f:\n",
    "    for line in f.readlines():\n",
    "        lines.append(line.strip())"
   ]
  },
  {
   "cell_type": "code",
   "execution_count": 4,
   "metadata": {},
   "outputs": [],
   "source": [
    "def accept_all(lines):\n",
    "    outlines = []\n",
    "    for line in lines:\n",
    "        parts = line.split(\" \")\n",
    "        if parts[-1] == \"cor\":\n",
    "            outlines.append(line)\n",
    "        elif parts[-1] == \"sub\":\n",
    "            parts[4] = parts[6]\n",
    "            parts[-1] = \"cor\"\n",
    "            outlines.append(\" \".join(parts))\n",
    "    return outlines"
   ]
  },
  {
   "cell_type": "code",
   "execution_count": null,
   "metadata": {},
   "outputs": [],
   "source": [
    "accept_all(lines)"
   ]
  },
  {
   "cell_type": "code",
   "execution_count": 12,
   "metadata": {},
   "outputs": [],
   "source": [
    "def ctm_to_timed(lines):\n",
    "    output = []\n",
    "    for line in lines:\n",
    "        parts = line.split(\" \")\n",
    "        start = float(parts[2])\n",
    "        dur = float(parts[3])\n",
    "        output.append({\n",
    "            \"start\": start,\n",
    "            \"end\": start + dur,\n",
    "            \"text\": parts[6]\n",
    "        })\n",
    "    return output"
   ]
  },
  {
   "cell_type": "code",
   "execution_count": 15,
   "metadata": {},
   "outputs": [],
   "source": [
    "side_a = ctm_to_timed(accept_all(lines))"
   ]
  },
  {
   "cell_type": "code",
   "execution_count": 16,
   "metadata": {},
   "outputs": [],
   "source": [
    "phonfile = \"/Users/joregan/Playing/rd_phonetic/2442205210012872721_480p.json\""
   ]
  },
  {
   "cell_type": "code",
   "execution_count": 17,
   "metadata": {},
   "outputs": [],
   "source": [
    "import json\n",
    "with open(phonfile) as f:\n",
    "    pieces = json.load(f)"
   ]
  },
  {
   "cell_type": "code",
   "execution_count": 21,
   "metadata": {},
   "outputs": [],
   "source": [
    "def hf_json_to_timed(data):\n",
    "    output = []\n",
    "    for chunk in data[\"chunks\"]:\n",
    "        output.append({\n",
    "            \"start\": chunk[\"timestamp\"][0],\n",
    "            \"end\": chunk[\"timestamp\"][1],\n",
    "            \"text\": chunk[\"text\"]\n",
    "        })\n",
    "    return output"
   ]
  },
  {
   "cell_type": "code",
   "execution_count": 23,
   "metadata": {},
   "outputs": [],
   "source": [
    "side_b = hf_json_to_timed(pieces)"
   ]
  },
  {
   "cell_type": "code",
   "execution_count": 27,
   "metadata": {},
   "outputs": [],
   "source": [
    "def prune_to_other(left, right, fudge=0.5):\n",
    "    safe = left\n",
    "    working = right\n",
    "    # if right[0][\"start\"] > (left[0][\"start\"] - fudge) and right[-1][\"end\"] < (left[-1][\"end\"] + fudge):\n",
    "    #     safe = right\n",
    "    #     working = left\n",
    "    output = []\n",
    "    for item in working:\n",
    "        if item[\"start\"] < safe[0][\"start\"] - fudge:\n",
    "            continue\n",
    "        elif item[\"end\"] > safe[-1][\"end\"] + fudge:\n",
    "            continue\n",
    "        else:\n",
    "            output.append(item)\n",
    "\n",
    "    return safe, output"
   ]
  },
  {
   "cell_type": "code",
   "execution_count": 28,
   "metadata": {},
   "outputs": [],
   "source": [
    "new_a, new_b = prune_to_other(side_a, side_b)"
   ]
  },
  {
   "cell_type": "code",
   "execution_count": 34,
   "metadata": {},
   "outputs": [
    {
     "data": {
      "text/plain": [
       "{'start': 27.86, 'end': 27.9, 'text': 'ɑː'}"
      ]
     },
     "execution_count": 34,
     "metadata": {},
     "output_type": "execute_result"
    }
   ],
   "source": [
    "new_b[0]"
   ]
  },
  {
   "cell_type": "code",
   "execution_count": 35,
   "metadata": {},
   "outputs": [
    {
     "data": {
      "text/plain": [
       "{'start': 27.86, 'end': 27.919999999999998, 'text': 'Herr'}"
      ]
     },
     "execution_count": 35,
     "metadata": {},
     "output_type": "execute_result"
    }
   ],
   "source": [
    "new_a[0]"
   ]
  },
  {
   "cell_type": "code",
   "execution_count": 36,
   "metadata": {},
   "outputs": [],
   "source": [
    "def cost(a, b):\n",
    "    starts = abs(a[\"start\"] - b[\"start\"])\n",
    "    ends = abs(a[\"end\"] - b[\"end\"])\n",
    "    return starts + ends"
   ]
  },
  {
   "cell_type": "code",
   "execution_count": 54,
   "metadata": {},
   "outputs": [],
   "source": [
    "def in_start_range(a, b, range=0.2):\n",
    "    return abs(a[\"start\"] - b[\"start\"]) <= range\n",
    "\n",
    "def in_end_range(a, b, range=0.2):\n",
    "    return abs(a[\"end\"] - b[\"end\"]) <= range\n",
    "\n",
    "def in_range(a, b, range=0.2):\n",
    "    r_start = in_start_range(a, b, range)\n",
    "    r_end = in_end_range(a, b, range)\n",
    "    return r_start or r_end\n"
   ]
  },
  {
   "cell_type": "code",
   "execution_count": 42,
   "metadata": {},
   "outputs": [
    {
     "data": {
      "text/plain": [
       "False"
      ]
     },
     "execution_count": 42,
     "metadata": {},
     "output_type": "execute_result"
    }
   ],
   "source": [
    "in_range(new_a[0], new_b[-1])"
   ]
  },
  {
   "cell_type": "code",
   "execution_count": 43,
   "metadata": {},
   "outputs": [
    {
     "data": {
      "text/plain": [
       "True"
      ]
     },
     "execution_count": 43,
     "metadata": {},
     "output_type": "execute_result"
    }
   ],
   "source": [
    "in_range(new_a[0], new_b[0])"
   ]
  },
  {
   "cell_type": "code",
   "execution_count": 30,
   "metadata": {},
   "outputs": [],
   "source": [
    "import numpy as np"
   ]
  },
  {
   "cell_type": "code",
   "execution_count": 33,
   "metadata": {},
   "outputs": [],
   "source": [
    "dist_matrix = np.zeros((len(new_a) + 1, len(new_b) + 1))"
   ]
  },
  {
   "cell_type": "code",
   "execution_count": null,
   "metadata": {},
   "outputs": [],
   "source": [
    "for i in range(1, len(new_a) + 1):\n",
    "    for j in range(1, len(new_b) + 1):\n",
    "        if not in_range(new_a[i-1], new_b[j-1]):\n",
    "            continue\n",
    "        pair_cost = cost(new_a[i-1], new_b[j-1])\n",
    "        dist_matrix[i, j] = pair_cost\n",
    "        print(new_a[i-1], new_b[j-1], pair_cost)"
   ]
  },
  {
   "cell_type": "code",
   "execution_count": 58,
   "metadata": {},
   "outputs": [],
   "source": [
    "s1 = len(new_a) + 1\n",
    "s2 = len(new_b) + 1\n",
    "\n",
    "for i in range(s1):\n",
    "    dist_matrix[i, 0] = float(i)\n",
    "for j in range(s2):\n",
    "    dist_matrix[0, j] = float(j)\n",
    "\n",
    "for i in range(1, s1):\n",
    "    for j in range(1, s2):\n",
    "        if not in_range(new_a[i-1], new_b[j-1]):\n",
    "            continue\n",
    "        pair_cost = cost(new_a[i-1], new_b[j-1])\n",
    "        dist_matrix[i, j] += pair_cost\n"
   ]
  },
  {
   "cell_type": "code",
   "execution_count": 60,
   "metadata": {},
   "outputs": [
    {
     "ename": "ModuleNotFoundError",
     "evalue": "No module named 'pandas'",
     "output_type": "error",
     "traceback": [
      "\u001b[0;31m---------------------------------------------------------------------------\u001b[0m",
      "\u001b[0;31mModuleNotFoundError\u001b[0m                       Traceback (most recent call last)",
      "Input \u001b[0;32mIn [60]\u001b[0m, in \u001b[0;36m<cell line: 1>\u001b[0;34m()\u001b[0m\n\u001b[0;32m----> 1\u001b[0m \u001b[38;5;28;01mimport\u001b[39;00m \u001b[38;5;21;01mpandas\u001b[39;00m \u001b[38;5;28;01mas\u001b[39;00m \u001b[38;5;21;01mpd\u001b[39;00m\n\u001b[1;32m      2\u001b[0m df \u001b[38;5;241m=\u001b[39m pd\u001b[38;5;241m.\u001b[39mDataFrame(data\u001b[38;5;241m=\u001b[39mdist_matrix,index\u001b[38;5;241m=\u001b[39m[x[\u001b[38;5;124m\"\u001b[39m\u001b[38;5;124mtext\u001b[39m\u001b[38;5;124m\"\u001b[39m] \u001b[38;5;28;01mfor\u001b[39;00m x \u001b[38;5;129;01min\u001b[39;00m new_a], columns\u001b[38;5;241m=\u001b[39m[x[\u001b[38;5;124m\"\u001b[39m\u001b[38;5;124mtext\u001b[39m\u001b[38;5;124m\"\u001b[39m] \u001b[38;5;28;01mfor\u001b[39;00m x \u001b[38;5;129;01min\u001b[39;00m new_b])\n",
      "\u001b[0;31mModuleNotFoundError\u001b[0m: No module named 'pandas'"
     ]
    }
   ],
   "source": [
    "import pandas as pd\n",
    "df = pd.DataFrame(data=dist_matrix,index=[x[\"text\"] for x in new_a], columns=[x[\"text\"] for x in new_b])"
   ]
  }
 ],
 "metadata": {
  "kernelspec": {
   "display_name": "ctcseg",
   "language": "python",
   "name": "python3"
  },
  "language_info": {
   "codemirror_mode": {
    "name": "ipython",
    "version": 3
   },
   "file_extension": ".py",
   "mimetype": "text/x-python",
   "name": "python",
   "nbconvert_exporter": "python",
   "pygments_lexer": "ipython3",
   "version": "3.10.4"
  }
 },
 "nbformat": 4,
 "nbformat_minor": 2
}
