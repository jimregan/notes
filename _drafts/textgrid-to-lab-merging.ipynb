{
 "cells": [
  {
   "cell_type": "code",
   "execution_count": 8,
   "metadata": {},
   "outputs": [],
   "source": [
    "from praatio import textgrid"
   ]
  },
  {
   "cell_type": "code",
   "execution_count": 9,
   "metadata": {},
   "outputs": [],
   "source": [
    "from pathlib import Path"
   ]
  },
  {
   "cell_type": "code",
   "execution_count": 18,
   "metadata": {},
   "outputs": [],
   "source": [
    "def get_combined_words_and_phones(filename):\n",
    "    from praatio import textgrid\n",
    "\n",
    "    tg = textgrid.openTextgrid(filename, False)\n",
    "    if not tg.tierNameList:\n",
    "        return []\n",
    "    if tg.tierNameList == ['words', 'phones']:\n",
    "        word_tier = 'words'\n",
    "    elif tg.tierNameList == ['Word', 'phones']:\n",
    "        word_tier = 'Word'\n",
    "\n",
    "    word = tg.tierDict[word_tier]\n",
    "    phones = tg.tierDict['phones']\n",
    "    \n",
    "    i = 0\n",
    "    j = 0\n",
    "    out = []\n",
    "\n",
    "    def it_to_dict(it):\n",
    "        ret = {}\n",
    "        ret['start'] = it.start\n",
    "        ret['end'] = it.end\n",
    "        ret['label'] = it.label\n",
    "        return ret\n",
    "\n",
    "    while i < len(word.entryList) and j < len(phones.entryList):\n",
    "        cur_word = it_to_dict(word.entryList[i])\n",
    "        cur_word['phones'] = []\n",
    "        while j < len(phones.entryList) and phones.entryList[j].end <= cur_word['end']:\n",
    "            end_time = phones.entryList[j].end\n",
    "            tmp_phone = it_to_dict(phones.entryList[j])\n",
    "            cur_word['phones'].append(tmp_phone)\n",
    "            j += 1\n",
    "            if end_time == cur_word['end']:\n",
    "                i += 1\n",
    "                out.append(cur_word)\n",
    "                continue\n",
    "    return out"
   ]
  },
  {
   "cell_type": "code",
   "execution_count": 23,
   "metadata": {},
   "outputs": [],
   "source": [
    "o = get_combined_words_and_phones(\"/home/jim/Playing/mfa_alignments/snc-out/snc_Gearrscealta_an_Phiarsaigh_1931.TextGrid\")"
   ]
  },
  {
   "cell_type": "code",
   "execution_count": 29,
   "metadata": {},
   "outputs": [],
   "source": [
    "def merge_phones(word):\n",
    "    outphones = []\n",
    "    for i in range(0, len(word['phones'])):\n",
    "        if word['phones'][i]['label'] in [\"\", \"sil\", \"spn\"]:\n",
    "            outphones[-1]['end'] = word['phones'][i]['end']\n",
    "        else:\n",
    "            outphones.append(word['phones'][i])\n",
    "    return outphones"
   ]
  },
  {
   "cell_type": "code",
   "execution_count": 30,
   "metadata": {},
   "outputs": [],
   "source": [
    "def tg_to_lab(filename, target=\"phones\"):\n",
    "    combined = get_combined_words_and_phones(filename)\n",
    "    merged = [merge_phones(x) for x in combined]\n",
    "    flattened = [item for sublist in merged for item in sublist]\n",
    "    \n",
    "    out = []\n",
    "\n",
    "    def it_to_dict(it):\n",
    "        ret = {}\n",
    "        ret['start'] = it.start\n",
    "        ret['end'] = it.end\n",
    "        ret['label'] = it.label\n",
    "        return ret\n",
    "\n",
    "    for phone in flattened:\n",
    "        tmp_phone = it_to_dict(phone)\n",
    "        start = int(tmp_phone['start'] * 10000000)\n",
    "        end = int(tmp_phone['end'] * 10000000)\n",
    "        label = tmp_phone['label']\n",
    "        out.append(f\"{start} {end} {label}\")\n",
    "\n",
    "    return out"
   ]
  },
  {
   "cell_type": "code",
   "execution_count": 31,
   "metadata": {},
   "outputs": [
    {
     "ename": "AttributeError",
     "evalue": "'dict' object has no attribute 'start'",
     "output_type": "error",
     "traceback": [
      "\u001b[0;31m---------------------------------------------------------------------------\u001b[0m",
      "\u001b[0;31mAttributeError\u001b[0m                            Traceback (most recent call last)",
      "\u001b[0;32m<ipython-input-31-8016628c0b9f>\u001b[0m in \u001b[0;36m<module>\u001b[0;34m\u001b[0m\n\u001b[1;32m      4\u001b[0m \u001b[0;32mfor\u001b[0m \u001b[0mfilename\u001b[0m \u001b[0;32min\u001b[0m \u001b[0minpath\u001b[0m\u001b[0;34m.\u001b[0m\u001b[0mglob\u001b[0m\u001b[0;34m(\u001b[0m\u001b[0;34m\"*.TextGrid\"\u001b[0m\u001b[0;34m)\u001b[0m\u001b[0;34m:\u001b[0m\u001b[0;34m\u001b[0m\u001b[0;34m\u001b[0m\u001b[0m\n\u001b[1;32m      5\u001b[0m     \u001b[0mout\u001b[0m \u001b[0;34m=\u001b[0m \u001b[0moutpath\u001b[0m \u001b[0;34m/\u001b[0m \u001b[0;34mf\"{filename.stem}.lab\"\u001b[0m\u001b[0;34m\u001b[0m\u001b[0;34m\u001b[0m\u001b[0m\n\u001b[0;32m----> 6\u001b[0;31m     \u001b[0mlab\u001b[0m \u001b[0;34m=\u001b[0m \u001b[0mtg_to_lab\u001b[0m\u001b[0;34m(\u001b[0m\u001b[0mfilename\u001b[0m\u001b[0;34m)\u001b[0m\u001b[0;34m\u001b[0m\u001b[0;34m\u001b[0m\u001b[0m\n\u001b[0m\u001b[1;32m      7\u001b[0m \u001b[0;34m\u001b[0m\u001b[0m\n\u001b[1;32m      8\u001b[0m     \u001b[0;32mwith\u001b[0m \u001b[0mopen\u001b[0m\u001b[0;34m(\u001b[0m\u001b[0mout\u001b[0m\u001b[0;34m,\u001b[0m \u001b[0;34m\"w\"\u001b[0m\u001b[0;34m)\u001b[0m \u001b[0;32mas\u001b[0m \u001b[0moutf\u001b[0m\u001b[0;34m:\u001b[0m\u001b[0;34m\u001b[0m\u001b[0;34m\u001b[0m\u001b[0m\n",
      "\u001b[0;32m<ipython-input-30-44ff0068631d>\u001b[0m in \u001b[0;36mtg_to_lab\u001b[0;34m(filename, target)\u001b[0m\n\u001b[1;32m     14\u001b[0m \u001b[0;34m\u001b[0m\u001b[0m\n\u001b[1;32m     15\u001b[0m     \u001b[0;32mfor\u001b[0m \u001b[0mphone\u001b[0m \u001b[0;32min\u001b[0m \u001b[0mflattened\u001b[0m\u001b[0;34m:\u001b[0m\u001b[0;34m\u001b[0m\u001b[0;34m\u001b[0m\u001b[0m\n\u001b[0;32m---> 16\u001b[0;31m         \u001b[0mtmp_phone\u001b[0m \u001b[0;34m=\u001b[0m \u001b[0mit_to_dict\u001b[0m\u001b[0;34m(\u001b[0m\u001b[0mphone\u001b[0m\u001b[0;34m)\u001b[0m\u001b[0;34m\u001b[0m\u001b[0;34m\u001b[0m\u001b[0m\n\u001b[0m\u001b[1;32m     17\u001b[0m         \u001b[0mstart\u001b[0m \u001b[0;34m=\u001b[0m \u001b[0mint\u001b[0m\u001b[0;34m(\u001b[0m\u001b[0mtmp_phone\u001b[0m\u001b[0;34m[\u001b[0m\u001b[0;34m'start'\u001b[0m\u001b[0;34m]\u001b[0m \u001b[0;34m*\u001b[0m \u001b[0;36m10000000\u001b[0m\u001b[0;34m)\u001b[0m\u001b[0;34m\u001b[0m\u001b[0;34m\u001b[0m\u001b[0m\n\u001b[1;32m     18\u001b[0m         \u001b[0mend\u001b[0m \u001b[0;34m=\u001b[0m \u001b[0mint\u001b[0m\u001b[0;34m(\u001b[0m\u001b[0mtmp_phone\u001b[0m\u001b[0;34m[\u001b[0m\u001b[0;34m'end'\u001b[0m\u001b[0;34m]\u001b[0m \u001b[0;34m*\u001b[0m \u001b[0;36m10000000\u001b[0m\u001b[0;34m)\u001b[0m\u001b[0;34m\u001b[0m\u001b[0;34m\u001b[0m\u001b[0m\n",
      "\u001b[0;32m<ipython-input-30-44ff0068631d>\u001b[0m in \u001b[0;36mit_to_dict\u001b[0;34m(it)\u001b[0m\n\u001b[1;32m      8\u001b[0m     \u001b[0;32mdef\u001b[0m \u001b[0mit_to_dict\u001b[0m\u001b[0;34m(\u001b[0m\u001b[0mit\u001b[0m\u001b[0;34m)\u001b[0m\u001b[0;34m:\u001b[0m\u001b[0;34m\u001b[0m\u001b[0;34m\u001b[0m\u001b[0m\n\u001b[1;32m      9\u001b[0m         \u001b[0mret\u001b[0m \u001b[0;34m=\u001b[0m \u001b[0;34m{\u001b[0m\u001b[0;34m}\u001b[0m\u001b[0;34m\u001b[0m\u001b[0;34m\u001b[0m\u001b[0m\n\u001b[0;32m---> 10\u001b[0;31m         \u001b[0mret\u001b[0m\u001b[0;34m[\u001b[0m\u001b[0;34m'start'\u001b[0m\u001b[0;34m]\u001b[0m \u001b[0;34m=\u001b[0m \u001b[0mit\u001b[0m\u001b[0;34m.\u001b[0m\u001b[0mstart\u001b[0m\u001b[0;34m\u001b[0m\u001b[0;34m\u001b[0m\u001b[0m\n\u001b[0m\u001b[1;32m     11\u001b[0m         \u001b[0mret\u001b[0m\u001b[0;34m[\u001b[0m\u001b[0;34m'end'\u001b[0m\u001b[0;34m]\u001b[0m \u001b[0;34m=\u001b[0m \u001b[0mit\u001b[0m\u001b[0;34m.\u001b[0m\u001b[0mend\u001b[0m\u001b[0;34m\u001b[0m\u001b[0;34m\u001b[0m\u001b[0m\n\u001b[1;32m     12\u001b[0m         \u001b[0mret\u001b[0m\u001b[0;34m[\u001b[0m\u001b[0;34m'label'\u001b[0m\u001b[0;34m]\u001b[0m \u001b[0;34m=\u001b[0m \u001b[0mit\u001b[0m\u001b[0;34m.\u001b[0m\u001b[0mlabel\u001b[0m\u001b[0;34m\u001b[0m\u001b[0;34m\u001b[0m\u001b[0m\n",
      "\u001b[0;31mAttributeError\u001b[0m: 'dict' object has no attribute 'start'"
     ]
    }
   ],
   "source": [
    "inpath = Path(\"/home/jim/Playing/mfa_alignments/snc-out\")\n",
    "outpath = Path(\"/home/jim/Playing/mfa_alignments/snc-lab2\")\n",
    "\n",
    "for filename in inpath.glob(\"*.TextGrid\"):\n",
    "    out = outpath / f\"{filename.stem}.lab\"\n",
    "    lab = tg_to_lab(filename)\n",
    "\n",
    "    with open(out, \"w\") as outf:\n",
    "        for line in lab:\n",
    "            outf.write(line + \"\\n\")"
   ]
  }
 ],
 "metadata": {
  "kernelspec": {
   "display_name": "Python 3",
   "language": "python",
   "name": "python3"
  },
  "language_info": {
   "codemirror_mode": {
    "name": "ipython",
    "version": 3
   },
   "file_extension": ".py",
   "mimetype": "text/x-python",
   "name": "python",
   "nbconvert_exporter": "python",
   "pygments_lexer": "ipython3",
   "version": "3.6.9"
  }
 },
 "nbformat": 4,
 "nbformat_minor": 2
}
