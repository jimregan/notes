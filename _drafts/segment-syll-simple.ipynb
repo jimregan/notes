{
 "cells": [
  {
   "cell_type": "code",
   "execution_count": 4,
   "metadata": {},
   "outputs": [],
   "source": [
    "VOWELS = \"aeiouyåäöé\"\n",
    "CONS = \"bcdfghjklmnpqrstvwxz\"\n",
    "ALPHA = VOWELS + CONS\n",
    "PUNCT = \":-\""
   ]
  },
  {
   "cell_type": "code",
   "execution_count": 6,
   "metadata": {},
   "outputs": [],
   "source": [
    "def normalise(text: str) -> str:\n",
    "    out = []\n",
    "    i = 0\n",
    "    while i < len(text):\n",
    "        if text[i].lower() in ALPHA:\n",
    "            out.append(text[i].lower())\n",
    "        elif text[i] == \" \":\n",
    "            out.append(text[i])\n",
    "        elif text[i] in PUNCT and ((i+1) < len(text) and text[i+1].lower() in ALPHA):\n",
    "            out.append(text[i])\n",
    "        i += 1\n",
    "    return \"\".join(out)\n"
   ]
  },
  {
   "cell_type": "code",
   "execution_count": 7,
   "metadata": {},
   "outputs": [
    {
     "data": {
      "text/plain": [
       "'some text:s ok'"
      ]
     },
     "execution_count": 7,
     "metadata": {},
     "output_type": "execute_result"
    }
   ],
   "source": [
    "normalise(\"Some text:s ok\")"
   ]
  },
  {
   "cell_type": "code",
   "execution_count": 10,
   "metadata": {},
   "outputs": [],
   "source": [
    "def naive_syllables(text: str):\n",
    "    pieces = []\n",
    "    current = ''\n",
    "    tmp = []\n",
    "    for char in text:\n",
    "        if current == '':\n",
    "            tmp.append(char)\n",
    "            current = 'c' if char in CONS else 'v'\n",
    "        elif char == ' ':\n",
    "            pieces.append(\"\".join(tmp))\n",
    "            pieces.append(\" \")\n",
    "            tmp = []\n",
    "            current = ''\n",
    "        elif (current == 'c' and char in VOWELS) or (current == 'v' and char in CONS):\n",
    "            pieces.append(\"\".join(tmp))\n",
    "            tmp = []\n",
    "            tmp.append(char)\n",
    "            current = 'c' if char in CONS else 'v'\n",
    "        else:\n",
    "            tmp.append(char)\n",
    "    pieces.append(\"\".join(tmp))\n",
    "    return pieces"
   ]
  },
  {
   "cell_type": "code",
   "execution_count": 11,
   "metadata": {},
   "outputs": [
    {
     "data": {
      "text/plain": [
       "['s', 'o', 'm', 'e ', 'l', 'i', 'ttl', 'e ', 'th', 'i', 'ng']"
      ]
     },
     "execution_count": 11,
     "metadata": {},
     "output_type": "execute_result"
    }
   ],
   "source": [
    "naive_syllables(\"some little thing\")"
   ]
  }
 ],
 "metadata": {
  "interpreter": {
   "hash": "2603f07046c437130ee32ef9381ac7221f7902403001eace09f7e749adb599f7"
  },
  "kernelspec": {
   "display_name": "Python 3.9.7 ('base')",
   "language": "python",
   "name": "python3"
  },
  "language_info": {
   "codemirror_mode": {
    "name": "ipython",
    "version": 3
   },
   "file_extension": ".py",
   "mimetype": "text/x-python",
   "name": "python",
   "nbconvert_exporter": "python",
   "pygments_lexer": "ipython3",
   "version": "3.9.7"
  },
  "orig_nbformat": 4
 },
 "nbformat": 4,
 "nbformat_minor": 2
}
