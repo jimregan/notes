{
 "cells": [
  {
   "cell_type": "code",
   "execution_count": null,
   "metadata": {},
   "outputs": [],
   "source": [
    "from pathlib import Path"
   ]
  },
  {
   "cell_type": "code",
   "execution_count": null,
   "metadata": {},
   "outputs": [],
   "source": [
    "sentences = []\n",
    "with open(\"input_sentences.txt\") as f:\n",
    "    for line in f.readlines():\n",
    "        sentences.append(line.strip())"
   ]
  },
  {
   "cell_type": "code",
   "execution_count": null,
   "metadata": {},
   "outputs": [],
   "source": [
    "for tsvfile in Path(\"tsv\").glob(\"**/*.tsv\"):\n",
    "    ident = tsvfile.stem\n",
    "    if \".interloctr.\" in str(tsvfile):\n",
    "           continue\n",
    "    parts = []\n",
    "    with open(tsvfile) as inf:\n",
    "            for line in inf.readlines():\n",
    "                    parts.append(line.strip().split(\" \"))\n",
    "    items[ident] = {}\n",
    "    items[ident][\"rec\"] = \" \".join([x[2] for x in parts])\n",
    "    items[ident][\"original\"] = sentences[int(ident.split(\"_\")[-1])]"
   ]
  }
 ],
 "metadata": {
  "kernelspec": {
   "display_name": "ctcseg",
   "language": "python",
   "name": "python3"
  },
  "language_info": {
   "name": "python",
   "version": "3.10.4"
  }
 },
 "nbformat": 4,
 "nbformat_minor": 2
}
