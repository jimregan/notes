{
 "cells": [
  {
   "cell_type": "code",
   "execution_count": 4,
   "metadata": {},
   "outputs": [],
   "source": [
    "from pathlib import Path"
   ]
  },
  {
   "cell_type": "code",
   "execution_count": 1,
   "metadata": {},
   "outputs": [
    {
     "name": "stdout",
     "output_type": "stream",
     "text": [
      "/Users/joregan/Playing/cvpr-control\n"
     ]
    }
   ],
   "source": [
    "%cd /Users/joregan/Playing/cvpr-control"
   ]
  },
  {
   "cell_type": "code",
   "execution_count": 2,
   "metadata": {},
   "outputs": [],
   "source": [
    "sentences = []\n",
    "with open(\"input_sentences.txt\") as f:\n",
    "    for line in f.readlines():\n",
    "        sentences.append(line.strip())"
   ]
  },
  {
   "cell_type": "code",
   "execution_count": 8,
   "metadata": {},
   "outputs": [],
   "source": [
    "items = {}\n",
    "for tsvfile in Path(\"tsv\").glob(\"**/*.tsv\"):\n",
    "    ident = tsvfile.stem\n",
    "    if \".interloctr.\" in str(tsvfile):\n",
    "           continue\n",
    "    parts = []\n",
    "    with open(tsvfile) as inf:\n",
    "            for line in inf.readlines():\n",
    "                    parts.append(line.strip().split(\"\\t\"))\n",
    "    items[ident] = {}\n",
    "    items[ident][\"rec\"] = \" \".join([x[-1] for x in parts])\n",
    "    items[ident][\"original\"] = sentences[int(ident.split(\"_\")[-1])]"
   ]
  },
  {
   "cell_type": "code",
   "execution_count": 10,
   "metadata": {},
   "outputs": [],
   "source": [
    "from string import punctuation\n",
    "\n",
    "PUNCT = set(punctuation)\n",
    "\n",
    "def clean_sentence(text):\n",
    "    words = []\n",
    "    text = text.replace(\"—\", \" \")\n",
    "    for word in text.split(\" \"):\n",
    "        if word.startswith(\"[\") and word.endswith(\"]\"):\n",
    "            continue\n",
    "        while word[0:1] in PUNCT:\n",
    "            word = word[1:]\n",
    "        while word[-1:] in PUNCT:\n",
    "            word = word[:-1]\n",
    "        words.append(word.lower())\n",
    "    return \" \".join(words)"
   ]
  },
  {
   "cell_type": "code",
   "execution_count": 18,
   "metadata": {},
   "outputs": [],
   "source": [
    "def prune_fillers(text):\n",
    "    FILLERS = [\"uh\", \"um\"]\n",
    "    words = [x for x in text.split(\" \") if x not in FILLERS]\n",
    "    return \" \".join(words)"
   ]
  },
  {
   "cell_type": "code",
   "execution_count": 19,
   "metadata": {},
   "outputs": [],
   "source": [
    "rest = {}\n",
    "for item in items:\n",
    "    cleaned = clean_sentence(items[item][\"original\"])\n",
    "    if items[item][\"original\"] == items[item][\"rec\"]:\n",
    "        items[item][\"match\"] = \"exact\"\n",
    "    elif cleaned == items[item][\"rec\"]:\n",
    "        items[item][\"match\"] = \"clean\"\n",
    "\n",
    "    else:\n",
    "        rest[item] = items[item]"
   ]
  },
  {
   "cell_type": "code",
   "execution_count": 17,
   "metadata": {},
   "outputs": [
    {
     "data": {
      "text/plain": [
       "{'rec': \"i mean i laugh i talk but there's this this emptiness and it's like i'm just going through the motions but not real really feeling anything\",\n",
       " 'original': \"I mean, I laugh, I talk, but there's this, uh, this emptiness, and it's like, I'm just going through the motions, but not really... really feeling anything.\"}"
      ]
     },
     "execution_count": 17,
     "metadata": {},
     "output_type": "execute_result"
    }
   ],
   "source": [
    "collected[\"spkp264_243\"]"
   ]
  }
 ],
 "metadata": {
  "kernelspec": {
   "display_name": "ctcseg",
   "language": "python",
   "name": "python3"
  },
  "language_info": {
   "codemirror_mode": {
    "name": "ipython",
    "version": 3
   },
   "file_extension": ".py",
   "mimetype": "text/x-python",
   "name": "python",
   "nbconvert_exporter": "python",
   "pygments_lexer": "ipython3",
   "version": "3.10.4"
  }
 },
 "nbformat": 4,
 "nbformat_minor": 2
}
