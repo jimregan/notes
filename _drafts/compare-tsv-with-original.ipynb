{
 "cells": [
  {
   "cell_type": "code",
   "execution_count": 4,
   "metadata": {},
   "outputs": [],
   "source": [
    "from pathlib import Path"
   ]
  },
  {
   "cell_type": "code",
   "execution_count": 1,
   "metadata": {},
   "outputs": [
    {
     "name": "stdout",
     "output_type": "stream",
     "text": [
      "/Users/joregan/Playing/cvpr-control\n"
     ]
    }
   ],
   "source": [
    "%cd /Users/joregan/Playing/cvpr-control"
   ]
  },
  {
   "cell_type": "code",
   "execution_count": 2,
   "metadata": {},
   "outputs": [],
   "source": [
    "sentences = []\n",
    "with open(\"input_sentences.txt\") as f:\n",
    "    for line in f.readlines():\n",
    "        sentences.append(line.strip())"
   ]
  },
  {
   "cell_type": "code",
   "execution_count": 8,
   "metadata": {},
   "outputs": [],
   "source": [
    "items = {}\n",
    "for tsvfile in Path(\"tsv\").glob(\"**/*.tsv\"):\n",
    "    ident = tsvfile.stem\n",
    "    if \".interloctr.\" in str(tsvfile):\n",
    "           continue\n",
    "    parts = []\n",
    "    with open(tsvfile) as inf:\n",
    "            for line in inf.readlines():\n",
    "                    parts.append(line.strip().split(\"\\t\"))\n",
    "    items[ident] = {}\n",
    "    items[ident][\"rec\"] = \" \".join([x[-1] for x in parts])\n",
    "    items[ident][\"original\"] = sentences[int(ident.split(\"_\")[-1])]"
   ]
  },
  {
   "cell_type": "code",
   "execution_count": 10,
   "metadata": {},
   "outputs": [],
   "source": [
    "from string import punctuation\n",
    "\n",
    "PUNCT = set(punctuation)\n",
    "\n",
    "def clean_sentence(text):\n",
    "    words = []\n",
    "    text = text.replace(\"—\", \" \")\n",
    "    for word in text.split(\" \"):\n",
    "        if word.startswith(\"[\") and word.endswith(\"]\"):\n",
    "            continue\n",
    "        while word[0:1] in PUNCT:\n",
    "            word = word[1:]\n",
    "        while word[-1:] in PUNCT:\n",
    "            word = word[:-1]\n",
    "        words.append(word.lower())\n",
    "    return \" \".join(words)"
   ]
  },
  {
   "cell_type": "code",
   "execution_count": 18,
   "metadata": {},
   "outputs": [],
   "source": [
    "def prune_fillers(text):\n",
    "    FILLERS = [\"uh\", \"um\"]\n",
    "    words = [x for x in text.split(\" \") if x not in FILLERS]\n",
    "    return \" \".join(words)"
   ]
  },
  {
   "cell_type": "code",
   "execution_count": 24,
   "metadata": {},
   "outputs": [],
   "source": [
    "rest = {}\n",
    "for item in items:\n",
    "    cleaned = clean_sentence(items[item][\"original\"])\n",
    "    if items[item][\"original\"] == items[item][\"rec\"]:\n",
    "        items[item][\"match\"] = \"exact\"\n",
    "    elif cleaned == items[item][\"rec\"]:\n",
    "        items[item][\"match\"] = \"clean\"\n",
    "    elif prune_fillers(cleaned) == items[item][\"rec\"]:\n",
    "        items[item][\"match\"] = \"clean,fillers\"\n",
    "    elif prune_fillers(cleaned) == prune_fillers(items[item][\"rec\"]):\n",
    "        items[item][\"match\"] = \"clean,fillers_both\"\n",
    "    else:\n",
    "        rest[item] = items[item]"
   ]
  },
  {
   "cell_type": "code",
   "execution_count": null,
   "metadata": {},
   "outputs": [],
   "source": [
    "%pip install jiwer"
   ]
  },
  {
   "cell_type": "code",
   "execution_count": 30,
   "metadata": {},
   "outputs": [],
   "source": [
    "from jiwer import wer"
   ]
  },
  {
   "cell_type": "code",
   "execution_count": 32,
   "metadata": {},
   "outputs": [],
   "source": [
    "for item in items:\n",
    "    if not \"match\" in items[item]:\n",
    "        s_wer = wer(clean_sentence(items[item][\"original\"]), items[item][\"rec\"])\n",
    "        items[item][\"wer\"] = s_wer"
   ]
  },
  {
   "cell_type": "code",
   "execution_count": 41,
   "metadata": {},
   "outputs": [],
   "source": [
    "from difflib import SequenceMatcher\n",
    "\n",
    "insertions = {}\n",
    "deletions = {}\n",
    "replacements = {}\n",
    "\n",
    "for item in items:\n",
    "    if not \"match\" in items[item]:\n",
    "        sent_id = item.split(\"_\")[-1]\n",
    "        a = clean_sentence(items[item][\"original\"]).split(\" \")\n",
    "        b = items[item][\"rec\"].split(\" \")\n",
    "        s = SequenceMatcher(None, a, b)\n",
    "        for tag, i1, i2, j1, j2 in s.get_opcodes():\n",
    "            if tag == \"equal\":\n",
    "                continue\n",
    "            if tag == \"replace\":\n",
    "                pair = (sent_id, \" \".join(a[i1:i2]), \" \".join(b[j1:j2]))\n",
    "                if not pair in replacements:\n",
    "                    replacements[pair] = 1\n",
    "                else:\n",
    "                    replacements[pair] += 1\n",
    "            if tag == \"delete\":\n",
    "                pair = (sent_id, \" \".join(a[i1:i2]))\n",
    "                if not pair in deletions:\n",
    "                    deletions[pair] = 1\n",
    "                else:\n",
    "                    deletions[pair] += 1\n",
    "            if tag == \"insert\":\n",
    "                pair = (sent_id, \" \".join(b[j1:j2]))\n",
    "                if not pair in insertions:\n",
    "                    insertions[pair] = 1\n",
    "                else:\n",
    "                    insertions[pair] += 1\n"
   ]
  }
 ],
 "metadata": {
  "kernelspec": {
   "display_name": "ctcseg",
   "language": "python",
   "name": "python3"
  },
  "language_info": {
   "codemirror_mode": {
    "name": "ipython",
    "version": 3
   },
   "file_extension": ".py",
   "mimetype": "text/x-python",
   "name": "python",
   "nbconvert_exporter": "python",
   "pygments_lexer": "ipython3",
   "version": "3.10.4"
  }
 },
 "nbformat": 4,
 "nbformat_minor": 2
}
