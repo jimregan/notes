{
 "cells": [
  {
   "cell_type": "markdown",
   "id": "4acef078",
   "metadata": {},
   "source": [
    "# Soundcloud - Foras na Gaeilge\n",
    "\n",
    "> \"Dataset\"\n",
    "\n",
    "- toc: false\n",
    "- branch: master\n",
    "- badges: false\n",
    "- comments: true\n",
    "- hidden: true\n",
    "- categories: [kaggle, irish, soundcloud, dataset, unlabelled, forasnagaeilge]"
   ]
  },
  {
   "cell_type": "markdown",
   "id": "9adc12ec",
   "metadata": {},
   "source": [
    "Original on [Kaggle](https://www.kaggle.com/jimregan/notebook1ea765f2b2) (private)"
   ]
  },
  {
   "cell_type": "code",
   "execution_count": null,
   "id": "6dbc02c8",
   "metadata": {
    "_cell_guid": "b1076dfc-b9ad-4769-8c92-a6c4dae69d19",
    "_uuid": "8f2839f25d086af736a60e9eeb907d3b93b6e0e5",
    "execution": {
     "iopub.execute_input": "2021-07-31T22:47:21.287813Z",
     "iopub.status.busy": "2021-07-31T22:47:21.286743Z",
     "iopub.status.idle": "2021-07-31T23:19:17.426892Z",
     "shell.execute_reply": "2021-07-31T23:19:17.427417Z"
    },
    "papermill": {
     "duration": 1916.147625,
     "end_time": "2021-07-31T23:19:17.427870",
     "exception": false,
     "start_time": "2021-07-31T22:47:21.280245",
     "status": "completed"
    },
    "tags": []
   },
   "outputs": [],
   "source": [
    "!pip install youtube-dl\n",
    "!youtube-dl https://soundcloud.com/forasnagaeilge"
   ]
  }
 ],
 "metadata": {
  "kernelspec": {
   "display_name": "Python 3",
   "language": "python",
   "name": "python3"
  },
  "language_info": {
   "codemirror_mode": {
    "name": "ipython",
    "version": 3
   },
   "file_extension": ".py",
   "mimetype": "text/x-python",
   "name": "python",
   "nbconvert_exporter": "python",
   "pygments_lexer": "ipython3",
   "version": "3.8.2"
  },
  "papermill": {
   "default_parameters": {},
   "duration": 1925.444202,
   "end_time": "2021-07-31T23:19:18.953249",
   "environment_variables": {},
   "exception": null,
   "input_path": "__notebook__.ipynb",
   "output_path": "__notebook__.ipynb",
   "parameters": {},
   "start_time": "2021-07-31T22:47:13.509047",
   "version": "2.3.3"
  }
 },
 "nbformat": 4,
 "nbformat_minor": 5
}
