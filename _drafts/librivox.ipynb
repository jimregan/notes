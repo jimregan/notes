{
 "cells": [
  {
   "cell_type": "code",
   "execution_count": 19,
   "metadata": {},
   "outputs": [],
   "source": [
    "API_URL = \"https://librivox.org/search/get_results?primary_key=71&search_category=genre&sub_category=&search_page={page}&search_order=alpha&project_type=either\"\n",
    "HEADERS = {\n",
    "    \"X-Requested-With\": \"XMLHttpRequest\",\n",
    "}"
   ]
  },
  {
   "cell_type": "code",
   "execution_count": 28,
   "metadata": {},
   "outputs": [],
   "source": [
    "import requests\n",
    "import json\n",
    "from bs4 import BeautifulSoup"
   ]
  },
  {
   "cell_type": "code",
   "execution_count": null,
   "metadata": {},
   "outputs": [],
   "source": [
    "def process_search_page(page=1):\n",
    "    url = API_URL.format(page=page)\n",
    "    req = requests.get(url, headers=HEADERS)\n",
    "    assert req.status_code == 200\n",
    "    res = json.loads(req.text)\n",
    "    assert \"results\" in res\n",
    "    soup = BeautifulSoup(res[\"results\"], \"html.parser\")\n",
    "    raw = []\n",
    "    for li in soup.find_all(\"li\", {\"class\": \"catalog-result\"}):\n",
    "        raw.append(li)\n"
   ]
  }
 ],
 "metadata": {
  "kernelspec": {
   "display_name": "hf",
   "language": "python",
   "name": "python3"
  },
  "language_info": {
   "codemirror_mode": {
    "name": "ipython",
    "version": 3
   },
   "file_extension": ".py",
   "mimetype": "text/x-python",
   "name": "python",
   "nbconvert_exporter": "python",
   "pygments_lexer": "ipython3",
   "version": "3.9.15"
  }
 },
 "nbformat": 4,
 "nbformat_minor": 2
}
