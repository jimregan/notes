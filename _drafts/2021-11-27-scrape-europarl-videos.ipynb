{
 "cells": [
  {
   "cell_type": "code",
   "execution_count": 8,
   "metadata": {},
   "outputs": [],
   "source": [
    "import requests\n",
    "from bs4 import BeautifulSoup\n",
    "import json"
   ]
  },
  {
   "cell_type": "code",
   "execution_count": 13,
   "metadata": {},
   "outputs": [],
   "source": [
    "_URL = \"https://multimedia.europarl.europa.eu/ga/search?sn=true&st=EPV_EDITED_VIDEOS-WS_VIDEO&ut=EPV_REPLAY-EPV_VIDEO_FOOTAGE-EPV_PHOTO-EPV_AUDIO&ol=EPV_EDITED_VIDEOS&lg=ga_IE&at=1&p_p_id=advanced_search_portlet_AdvancedSearchPortlet&_advanced_search_portlet_AdvancedSearchPortlet_p=\""
   ]
  },
  {
   "cell_type": "code",
   "execution_count": 102,
   "metadata": {},
   "outputs": [],
   "source": [
    "def get_soup(num = \"1\"):\n",
    "    req = requests.get(_URL + num)\n",
    "    if req.status_code != 200:\n",
    "        raise Exception(\"Problem scraping page \" + num)\n",
    "    return BeautifulSoup(req.content, \"lxml\")"
   ]
  },
  {
   "cell_type": "code",
   "execution_count": 85,
   "metadata": {},
   "outputs": [],
   "source": [
    "def get_last_page_number(soup):\n",
    "    for last_candidate in soup.find_all(\"li\", {\"class\": \"last\"}):\n",
    "        anchors = last_candidate.find_all(\"a\")\n",
    "        for anchor in anchors:\n",
    "#            if \"href\" in anchor and \"AdvancedSearchPortlet_p\" in anchor[\"href\"]:\n",
    "            if \"AdvancedSearchPortlet_p\" in anchor[\"href\"]:\n",
    "                eq_pos = anchor[\"href\"].rfind(\"=\")\n",
    "                return anchor[\"href\"][eq_pos + 1:]"
   ]
  },
  {
   "cell_type": "code",
   "execution_count": 71,
   "metadata": {},
   "outputs": [],
   "source": [
    "def get_video_urls(videos):\n",
    "    video_urls = []\n",
    "    no_url = []\n",
    "    for video in videos:\n",
    "        if \"europarltv-link\" not in video.text:\n",
    "            no_url.append(video)\n",
    "        for url in video.find_all(\"a\", {\"class\", \"europarltv-link\"}):\n",
    "            video_urls.append(\"https://multimedia.europarl.europa.eu\" + url[\"href\"])\n",
    "    return video_urls"
   ]
  },
  {
   "cell_type": "code",
   "execution_count": 98,
   "metadata": {},
   "outputs": [],
   "source": [
    "def scrape_video_page(num = \"1\", soup = None):\n",
    "    if soup is None:\n",
    "        req = requests.get(_URL + num)\n",
    "        if req.status_code != 200:\n",
    "            raise Exception(\"Problem scraping page \" + num)\n",
    "        soup = BeautifulSoup(req.content, \"lxml\")\n",
    "    videos = soup.find_all(\"div\", {\"class\": \"media-preview\"})\n",
    "    return get_video_urls(videos)"
   ]
  },
  {
   "cell_type": "code",
   "execution_count": 108,
   "metadata": {},
   "outputs": [],
   "source": [
    "soup = get_soup()\n",
    "last = get_last_page_number(soup)\n",
    "videos = scrape_video_page(num = \"1\")\n",
    "for num in range(2, int(last) + 1):\n",
    "    videos += scrape_video_page(num = str(num))"
   ]
  },
  {
   "cell_type": "code",
   "execution_count": 34,
   "metadata": {},
   "outputs": [],
   "source": [
    "_JSON_REQUEST = \"\"\"\n",
    "{\n",
    "\"1\":{\"service\":\"session\",\"action\":\"startWidgetSession\",\"widgetId\":\"_102\"},\n",
    "\"2\":{\"service\":\"baseEntry\",\"action\":\"list\",\"ks\":\"{1:result:ks}\",\n",
    "\"filter\":{\"redirectFromEntryId\":\"DUMMY_ENTRY_ID\"},\n",
    "\"responseProfile\":{\"type\":1,\n",
    "\"fields\":\"id,referenceId,name,description,thumbnailUrl,dataUrl,duration,msDuration,flavorParamsIds,mediaType,type,tags,dvrStatus,externalSourceType,status\"}},\n",
    "\"3\":{\"service\":\"baseEntry\",\"action\":\"getPlaybackContext\",\n",
    "\"entryId\":\"{2:result:objects:0:id}\",\"ks\":\"{1:result:ks}\",\n",
    "\"contextDataParams\":{\"objectType\":\"KalturaContextDataParams\",\"flavorTags\":\"all\"}},\n",
    "\"4\":{\"service\":\"metadata_metadata\",\"action\":\"list\",\n",
    "\"filter\":{\"objectType\":\"KalturaMetadataFilter\",\n",
    "\"objectIdEqual\":\"DUMMY_ENTRY_ID\",\"metadataObjectTypeEqual\":\"1\"},\n",
    "\"ks\":\"{1:result:ks}\"},\"apiVersion\":\"3.3.0\",\"format\":1,\"ks\":\"\",\n",
    "\"clientTag\":\"html5:v0.53.7\",\"partnerId\":102\n",
    "}\n",
    "\"\"\""
   ]
  },
  {
   "cell_type": "code",
   "execution_count": 115,
   "metadata": {},
   "outputs": [],
   "source": [
    "_MULT_HEADERS = {\n",
    "    \"Content-Type\": \"application/json\",\n",
    "    \"Origin\": \"https://multimedia.europarl.europa.eu\",\n",
    "    \"Sec-Fetch-Site\": \"same-site\",\n",
    "    \"Sec-Fetch-Mode\": \"cors\",\n",
    "    \"Sec-Fetch-Dest\": \"empty\"    \n",
    "}"
   ]
  },
  {
   "cell_type": "code",
   "execution_count": 112,
   "metadata": {},
   "outputs": [],
   "source": [
    "def get_vid_id(url):\n",
    "    response = requests.get(url)\n",
    "    if response.status_code != 200:\n",
    "        raise Exception(\"Problem scraping page \" + num)\n",
    "    soup = BeautifulSoup(response.content, \"lxml\")\n",
    "    ogvid = soup.find(\"meta\", {\"property\": \"og:video\"})\n",
    "    cont = ogvid[\"content\"]\n",
    "    cont = cont.split(\"entryId/\")[1]\n",
    "    cont = cont.split(\"/v/\")[0]\n",
    "    return cont"
   ]
  },
  {
   "cell_type": "code",
   "execution_count": 109,
   "metadata": {},
   "outputs": [],
   "source": [
    "def get_json_body(vid_id):\n",
    "    actual_json = _JSON_REQUEST.replace(\"\\n\", \"\").replace(\"DUMMY_ENTRY_ID\", vid_id)\n",
    "    response = requests.post(\"https://kmc.europarltv.europa.eu/api_v3/service/multirequest\", headers=_MULT_HEADERS, data=actual_json)\n",
    "    body = json.loads(response.content)\n",
    "    return body"
   ]
  },
  {
   "cell_type": "code",
   "execution_count": 67,
   "metadata": {},
   "outputs": [],
   "source": [
    "def get_subtitles(body):\n",
    "    subtitles = {}\n",
    "    for part in body:\n",
    "        if 'playbackCaptions' in part:\n",
    "            for subtitle in part['playbackCaptions']:\n",
    "                if 'languageCode' in subtitle:\n",
    "                    lang_code = subtitle['languageCode']\n",
    "                else:\n",
    "                    lang_code = None\n",
    "                if 'webVttUrl' in subtitle:\n",
    "                    webvtt = subtitle['webVttUrl']\n",
    "                else:\n",
    "                    webvtt = None\n",
    "                if webvtt is not None and lang_code is not None:\n",
    "                    subtitles[lang_code] = webvtt\n",
    "            else:\n",
    "                continue\n",
    "    return subtitles"
   ]
  },
  {
   "cell_type": "code",
   "execution_count": 93,
   "metadata": {},
   "outputs": [],
   "source": [
    "def get_video(body):\n",
    "    for part in body:\n",
    "        if \"sources\" in part:\n",
    "            for source in part[\"sources\"]:\n",
    "                if source[\"url\"].endswith(\".mp4\"):\n",
    "                    return source[\"url\"]"
   ]
  },
  {
   "cell_type": "code",
   "execution_count": null,
   "metadata": {},
   "outputs": [],
   "source": [
    "data = []\n",
    "for vid in videos:\n",
    "    item = {}\n",
    "    item[\"url\"] = vid\n",
    "    item[\"id\"] = get_vid_id(vid)\n",
    "    body = get_json_body(item[\"id\"])\n",
    "    item[\"video\"] = get_video(body)\n",
    "    item[\"vtts\"] = get_subtitles(body)\n",
    "    data.append(item)"
   ]
  }
 ],
 "metadata": {
  "kernelspec": {
   "display_name": "Python 3",
   "language": "python",
   "name": "python3"
  },
  "language_info": {
   "codemirror_mode": {
    "name": "ipython",
    "version": 3
   },
   "file_extension": ".py",
   "mimetype": "text/x-python",
   "name": "python",
   "nbconvert_exporter": "python",
   "pygments_lexer": "ipython3",
   "version": "3.6.9"
  }
 },
 "nbformat": 4,
 "nbformat_minor": 2
}
