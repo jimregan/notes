{
 "cells": [
  {
   "cell_type": "code",
   "execution_count": 8,
   "metadata": {},
   "outputs": [],
   "source": [
    "import requests\n",
    "from bs4 import BeautifulSoup"
   ]
  },
  {
   "cell_type": "code",
   "execution_count": 13,
   "metadata": {},
   "outputs": [],
   "source": [
    "#_URL = \"https://multimedia.europarl.europa.eu/ga/search?sn=true&st=EPV_EDITED_VIDEOS-WS_VIDEO&ut=EPV_REPLAY-EPV_VIDEO_FOOTAGE-EPV_PHOTO-EPV_AUDIO&ol=EPV_EDITED_VIDEOS&lg=ga_IE&at=1\"\n",
    "_URL = \"https://multimedia.europarl.europa.eu/ga/search?sn=true&st=EPV_EDITED_VIDEOS-WS_VIDEO&ut=EPV_REPLAY-EPV_VIDEO_FOOTAGE-EPV_PHOTO-EPV_AUDIO&ol=EPV_EDITED_VIDEOS&lg=ga_IE&at=1&p_p_id=advanced_search_portlet_AdvancedSearchPortlet&_advanced_search_portlet_AdvancedSearchPortlet_p=\""
   ]
  },
  {
   "cell_type": "code",
   "execution_count": 15,
   "metadata": {},
   "outputs": [],
   "source": [
    "req = requests.get(_URL + \"1\")"
   ]
  },
  {
   "cell_type": "code",
   "execution_count": 16,
   "metadata": {},
   "outputs": [
    {
     "data": {
      "text/plain": [
       "200"
      ]
     },
     "execution_count": 16,
     "metadata": {},
     "output_type": "execute_result"
    }
   ],
   "source": [
    "req.status_code"
   ]
  },
  {
   "cell_type": "code",
   "execution_count": 17,
   "metadata": {},
   "outputs": [],
   "source": [
    "soup = BeautifulSoup(req.content, \"lxml\")"
   ]
  },
  {
   "cell_type": "code",
   "execution_count": 18,
   "metadata": {},
   "outputs": [],
   "source": [
    "videos = soup.find_all(\"div\", {\"class\": \"media-preview\"})\n"
   ]
  },
  {
   "cell_type": "code",
   "execution_count": 85,
   "metadata": {},
   "outputs": [],
   "source": [
    "def get_last_page_number(soup):\n",
    "    for last_candidate in soup.find_all(\"li\", {\"class\": \"last\"}):\n",
    "        anchors = last_candidate.find_all(\"a\")\n",
    "        for anchor in anchors:\n",
    "#            if \"href\" in anchor and \"AdvancedSearchPortlet_p\" in anchor[\"href\"]:\n",
    "            if \"AdvancedSearchPortlet_p\" in anchor[\"href\"]:\n",
    "                eq_pos = anchor[\"href\"].rfind(\"=\")\n",
    "                return anchor[\"href\"][eq_pos + 1:]"
   ]
  },
  {
   "cell_type": "code",
   "execution_count": 71,
   "metadata": {},
   "outputs": [],
   "source": [
    "def get_video_urls(videos):\n",
    "    video_urls = []\n",
    "    no_url = []\n",
    "    for video in videos:\n",
    "        if \"europarltv-link\" not in video.text:\n",
    "            no_url.append(video)\n",
    "        for url in video.find_all(\"a\", {\"class\", \"europarltv-link\"}):\n",
    "            video_urls.append(\"https://multimedia.europarl.europa.eu\" + url[\"href\"])\n",
    "    return video_urls"
   ]
  },
  {
   "cell_type": "code",
   "execution_count": 72,
   "metadata": {},
   "outputs": [
    {
     "data": {
      "text/plain": [
       "['https://multimedia.europarl.europa.eu/ga/plenary-highlights-cap-budget-and-a-social-security-pass_N01-AFPS-211125-5NUM_ev',\n",
       " 'https://multimedia.europarl.europa.eu/ga/marie-sandor-and-camille-debating-the-climate-and-health_N01-AFPS-211119-REP3_ev',\n",
       " 'https://multimedia.europarl.europa.eu/ga/coming-up-in-strasbourg-cap-2022-budget-and-a-stronger-pharmaceutical-strategy_N01-AFPS-211118-CMUP_ev',\n",
       " 'https://multimedia.europarl.europa.eu/ga/what-is-the-european-parliament-2_N01-AFPS-211110-EXEP_ev',\n",
       " 'https://multimedia.europarl.europa.eu/ga/ania-joshua-and-paloma-debating-the-economy-social-justice-and-digitalisation_N01-AFPS-211028-REP1_ev',\n",
       " 'https://multimedia.europarl.europa.eu/ga/it-s-gender-equality-week-2021_N01-AFPS-211013-GEQW_ev',\n",
       " 'https://multimedia.europarl.europa.eu/ga/building-the-future-4-weekends-of-eu-citizens-panels_N01-AFPS-211020-BOCP_ev',\n",
       " 'https://multimedia.europarl.europa.eu/ga/plenary-highlights-poland-climate-change-and-the-arts_N01-AFPS-211021-5NUM_ev',\n",
       " 'https://multimedia.europarl.europa.eu/ga/mobile-communications-keep-on-roaming_N01-AFPS-211005-ROAM_ev',\n",
       " 'https://multimedia.europarl.europa.eu/ga/coming-up-in-strasbourg-climate-change-farm-to-fork-and-rule-of-law-in-poland_N01-AFPS-211015-CMU2_ev',\n",
       " 'https://multimedia.europarl.europa.eu/ga/a-robust-eu-cybersecurity-strategy_N01-AFPS-211012-CYBE_ev',\n",
       " 'https://multimedia.europarl.europa.eu/ga/plenary-highlights-energy-crisis-pandora-papers-and-domestic-violence_N01-AFPS-211007-5NUM_ev']"
      ]
     },
     "execution_count": 72,
     "metadata": {},
     "output_type": "execute_result"
    }
   ],
   "source": [
    "get_video_urls(videos)"
   ]
  },
  {
   "cell_type": "code",
   "execution_count": 22,
   "metadata": {},
   "outputs": [],
   "source": [
    "# https://multimedia.europarl.europa.eu/en/c/portal/layout?p_l_id=39691&p_p_id=media_quick_actions_portlet_MediaQuickActionsPortlet&p_p_lifecycle=0&p_p_state=exclusive&_media_quick_actions_portlet_MediaQuickActionsPortlet_mvcPath=/html/media_quick_actions.jsp&_media_quick_actions_portlet_MediaQuickActionsPortlet_mediaId=684231\n",
    "# https://multimedia.europarl.europa.eu/ga/c/portal/layout?p_l_id=39691&p_p_id=media_quick_actions_portlet_MediaQuickActionsPortlet&p_p_lifecycle=0&p_p_state=exclusive&_media_quick_actions_portlet_MediaQuickActionsPortlet_mvcPath=/html/media_quick_actions.jsp&_media_quick_actions_portlet_MediaQuickActionsPortlet_mediaId=683486\n",
    "_BASE_MEDIA_URL = \"https://multimedia.europarl.europa.eu/en/c/portal/layout?p_l_id=39691&p_p_id=media_quick_actions_portlet_MediaQuickActionsPortlet&p_p_lifecycle=0&p_p_state=exclusive&_media_quick_actions_portlet_MediaQuickActionsPortlet_mvcPath=/html/media_quick_actions.jsp&_media_quick_actions_portlet_MediaQuickActionsPortlet_mediaId=\""
   ]
  },
  {
   "cell_type": "code",
   "execution_count": 23,
   "metadata": {},
   "outputs": [],
   "source": [
    "req2 = requests.get(_BASE_MEDIA_URL + \"693639\")"
   ]
  },
  {
   "cell_type": "code",
   "execution_count": 25,
   "metadata": {},
   "outputs": [],
   "source": [
    "req3 = requests.get(\"https://multimedia.europarl.europa.eu/ga/plenary-highlights-cap-budget-and-a-social-security-pass_N01-AFPS-211125-5NUM_ev\")"
   ]
  },
  {
   "cell_type": "code",
   "execution_count": 31,
   "metadata": {},
   "outputs": [],
   "source": [
    "req3 = requests.get(\"https://multimedia.europarl.europa.eu/c/document_library/get_file?uuid=03e10b6b-5242-dd2d-08c3-ca1bf3ae90d1&groupId=20143\")"
   ]
  },
  {
   "cell_type": "code",
   "execution_count": 34,
   "metadata": {},
   "outputs": [],
   "source": [
    "_JSON_REQUEST = \"\"\"\n",
    "{\n",
    "\"1\":{\"service\":\"session\",\"action\":\"startWidgetSession\",\"widgetId\":\"_102\"},\n",
    "\"2\":{\"service\":\"baseEntry\",\"action\":\"list\",\"ks\":\"{1:result:ks}\",\n",
    "\"filter\":{\"redirectFromEntryId\":\"DUMMY_ENTRY_ID\"},\n",
    "\"responseProfile\":{\"type\":1,\n",
    "\"fields\":\"id,referenceId,name,description,thumbnailUrl,dataUrl,duration,msDuration,flavorParamsIds,mediaType,type,tags,dvrStatus,externalSourceType,status\"}},\n",
    "\"3\":{\"service\":\"baseEntry\",\"action\":\"getPlaybackContext\",\n",
    "\"entryId\":\"{2:result:objects:0:id}\",\"ks\":\"{1:result:ks}\",\n",
    "\"contextDataParams\":{\"objectType\":\"KalturaContextDataParams\",\"flavorTags\":\"all\"}},\n",
    "\"4\":{\"service\":\"metadata_metadata\",\"action\":\"list\",\n",
    "\"filter\":{\"objectType\":\"KalturaMetadataFilter\",\n",
    "\"objectIdEqual\":\"DUMMY_ENTRY_ID\",\"metadataObjectTypeEqual\":\"1\"},\n",
    "\"ks\":\"{1:result:ks}\"},\"apiVersion\":\"3.3.0\",\"format\":1,\"ks\":\"\",\n",
    "\"clientTag\":\"html5:v0.53.7\",\"partnerId\":102\n",
    "}\n",
    "\"\"\""
   ]
  },
  {
   "cell_type": "code",
   "execution_count": 35,
   "metadata": {},
   "outputs": [],
   "source": [
    "actual_json = _JSON_REQUEST.replace(\"\\n\", \"\").replace(\"DUMMY_ENTRY_ID\", \"0_cn4txv2q\")"
   ]
  },
  {
   "cell_type": "code",
   "execution_count": 40,
   "metadata": {},
   "outputs": [],
   "source": [
    "mult_headers = {\n",
    "    \"Content-Type\": \"application/json\",\n",
    "    \"Origin\": \"https://multimedia.europarl.europa.eu\",\n",
    "    \"Sec-Fetch-Site\": \"same-site\",\n",
    "    \"Sec-Fetch-Mode\": \"cors\",\n",
    "    \"Sec-Fetch-Dest\": \"empty\"    \n",
    "}"
   ]
  },
  {
   "cell_type": "code",
   "execution_count": 41,
   "metadata": {},
   "outputs": [],
   "source": [
    "response = requests.post(\"https://kmc.europarltv.europa.eu/api_v3/service/multirequest\", headers=mult_headers, data=actual_json)"
   ]
  },
  {
   "cell_type": "code",
   "execution_count": 43,
   "metadata": {},
   "outputs": [],
   "source": [
    "import json\n",
    "body = json.loads(response.content)"
   ]
  },
  {
   "cell_type": "code",
   "execution_count": 96,
   "metadata": {},
   "outputs": [
    {
     "data": {
      "text/plain": [
       "{'partnerId': 102,\n",
       " 'ks': 'djJ8MTAyfLaROGG88AgrzBX6uiNNqpNd-dyz3pr4_AE44Bf8UZmNEu9Xu0AUM2VxYqSAo4NpV0XaaKUsFwLF5hOmRhIxg2247G_1AT4DKJ8y8cp6yLqt',\n",
       " 'userId': 0,\n",
       " 'objectType': 'KalturaStartWidgetSessionResponse'}"
      ]
     },
     "execution_count": 96,
     "metadata": {},
     "output_type": "execute_result"
    }
   ],
   "source": [
    "body[0]"
   ]
  },
  {
   "cell_type": "code",
   "execution_count": 67,
   "metadata": {},
   "outputs": [],
   "source": [
    "def get_subtitles(body):\n",
    "    subtitles = {}\n",
    "    for part in body:\n",
    "        if 'playbackCaptions' in part:\n",
    "            for subtitle in part['playbackCaptions']:\n",
    "                if 'languageCode' in subtitle:\n",
    "                    lang_code = subtitle['languageCode']\n",
    "                else:\n",
    "                    lang_code = None\n",
    "                if 'webVttUrl' in subtitle:\n",
    "                    webvtt = subtitle['webVttUrl']\n",
    "                else:\n",
    "                    webvtt = None\n",
    "                if webvtt is not None and lang_code is not None:\n",
    "                    subtitles[lang_code] = webvtt\n",
    "            else:\n",
    "                continue\n",
    "    return subtitles"
   ]
  },
  {
   "cell_type": "code",
   "execution_count": 93,
   "metadata": {},
   "outputs": [],
   "source": [
    "def get_video(body):\n",
    "    for part in body:\n",
    "        if \"sources\" in part:\n",
    "            for source in part[\"sources\"]:\n",
    "                if source[\"url\"].endswith(\".mp4\"):\n",
    "                    return source[\"url\"]"
   ]
  },
  {
   "cell_type": "code",
   "execution_count": 94,
   "metadata": {},
   "outputs": [
    {
     "data": {
      "text/plain": [
       "'https://kmc.europarltv.europa.eu/p/102/sp/102/playManifest/entryId/0_cn4txv2q/flavorIds/0_a0jl1fgs,0_0z2x12t9,0_7ppffsqe,0_farx35yp,0_o933mekl/deliveryProfileId/1007/protocol/https/format/url/name/a.mp4'"
      ]
     },
     "execution_count": 94,
     "metadata": {},
     "output_type": "execute_result"
    }
   ],
   "source": [
    "get_video(body)"
   ]
  }
 ],
 "metadata": {
  "kernelspec": {
   "display_name": "Python 3",
   "language": "python",
   "name": "python3"
  },
  "language_info": {
   "codemirror_mode": {
    "name": "ipython",
    "version": 3
   },
   "file_extension": ".py",
   "mimetype": "text/x-python",
   "name": "python",
   "nbconvert_exporter": "python",
   "pygments_lexer": "ipython3",
   "version": "3.6.9"
  }
 },
 "nbformat": 4,
 "nbformat_minor": 2
}
