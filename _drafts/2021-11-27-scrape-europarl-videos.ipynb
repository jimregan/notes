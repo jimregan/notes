{
 "cells": [
  {
   "cell_type": "code",
   "execution_count": 8,
   "metadata": {},
   "outputs": [],
   "source": [
    "import requests\n",
    "from bs4 import BeautifulSoup"
   ]
  },
  {
   "cell_type": "code",
   "execution_count": 13,
   "metadata": {},
   "outputs": [],
   "source": [
    "#_URL = \"https://multimedia.europarl.europa.eu/ga/search?sn=true&st=EPV_EDITED_VIDEOS-WS_VIDEO&ut=EPV_REPLAY-EPV_VIDEO_FOOTAGE-EPV_PHOTO-EPV_AUDIO&ol=EPV_EDITED_VIDEOS&lg=ga_IE&at=1\"\n",
    "_URL = \"https://multimedia.europarl.europa.eu/ga/search?sn=true&st=EPV_EDITED_VIDEOS-WS_VIDEO&ut=EPV_REPLAY-EPV_VIDEO_FOOTAGE-EPV_PHOTO-EPV_AUDIO&ol=EPV_EDITED_VIDEOS&lg=ga_IE&at=1&p_p_id=advanced_search_portlet_AdvancedSearchPortlet&_advanced_search_portlet_AdvancedSearchPortlet_p=\""
   ]
  },
  {
   "cell_type": "code",
   "execution_count": 15,
   "metadata": {},
   "outputs": [],
   "source": [
    "req = requests.get(_URL + \"1\")"
   ]
  },
  {
   "cell_type": "code",
   "execution_count": 16,
   "metadata": {},
   "outputs": [
    {
     "data": {
      "text/plain": [
       "200"
      ]
     },
     "execution_count": 16,
     "metadata": {},
     "output_type": "execute_result"
    }
   ],
   "source": [
    "req.status_code"
   ]
  },
  {
   "cell_type": "code",
   "execution_count": 17,
   "metadata": {},
   "outputs": [],
   "source": [
    "soup = BeautifulSoup(req.content, \"lxml\")"
   ]
  },
  {
   "cell_type": "code",
   "execution_count": 18,
   "metadata": {},
   "outputs": [],
   "source": [
    "videos = soup.find_all(\"div\", {\"class\": \"media-preview\"})"
   ]
  },
  {
   "cell_type": "code",
   "execution_count": 29,
   "metadata": {},
   "outputs": [],
   "source": [
    "video_urls = []\n",
    "no_url = []\n",
    "for video in videos:\n",
    "    if \"europarltv-link\" not in video.text:\n",
    "        no_url.append(video)\n",
    "    for url in video.find_all(\"a\", {\"class\", \"europarltv-link\"}):\n",
    "        video_urls.append(\"https://multimedia.europarl.europa.eu\" + url[\"href\"])"
   ]
  },
  {
   "cell_type": "code",
   "execution_count": 30,
   "metadata": {},
   "outputs": [
    {
     "data": {
      "text/plain": [
       "['https://multimedia.europarl.europa.eu/ga/plenary-highlights-cap-budget-and-a-social-security-pass_N01-AFPS-211125-5NUM_ev',\n",
       " 'https://multimedia.europarl.europa.eu/ga/marie-sandor-and-camille-debating-the-climate-and-health_N01-AFPS-211119-REP3_ev',\n",
       " 'https://multimedia.europarl.europa.eu/ga/coming-up-in-strasbourg-cap-2022-budget-and-a-stronger-pharmaceutical-strategy_N01-AFPS-211118-CMUP_ev',\n",
       " 'https://multimedia.europarl.europa.eu/ga/what-is-the-european-parliament-2_N01-AFPS-211110-EXEP_ev',\n",
       " 'https://multimedia.europarl.europa.eu/ga/ania-joshua-and-paloma-debating-the-economy-social-justice-and-digitalisation_N01-AFPS-211028-REP1_ev',\n",
       " 'https://multimedia.europarl.europa.eu/ga/it-s-gender-equality-week-2021_N01-AFPS-211013-GEQW_ev',\n",
       " 'https://multimedia.europarl.europa.eu/ga/building-the-future-4-weekends-of-eu-citizens-panels_N01-AFPS-211020-BOCP_ev',\n",
       " 'https://multimedia.europarl.europa.eu/ga/plenary-highlights-poland-climate-change-and-the-arts_N01-AFPS-211021-5NUM_ev',\n",
       " 'https://multimedia.europarl.europa.eu/ga/mobile-communications-keep-on-roaming_N01-AFPS-211005-ROAM_ev',\n",
       " 'https://multimedia.europarl.europa.eu/ga/coming-up-in-strasbourg-climate-change-farm-to-fork-and-rule-of-law-in-poland_N01-AFPS-211015-CMU2_ev',\n",
       " 'https://multimedia.europarl.europa.eu/ga/a-robust-eu-cybersecurity-strategy_N01-AFPS-211012-CYBE_ev',\n",
       " 'https://multimedia.europarl.europa.eu/ga/plenary-highlights-energy-crisis-pandora-papers-and-domestic-violence_N01-AFPS-211007-5NUM_ev']"
      ]
     },
     "execution_count": 30,
     "metadata": {},
     "output_type": "execute_result"
    }
   ],
   "source": [
    "video_urls"
   ]
  },
  {
   "cell_type": "code",
   "execution_count": 22,
   "metadata": {},
   "outputs": [],
   "source": [
    "# https://multimedia.europarl.europa.eu/en/c/portal/layout?p_l_id=39691&p_p_id=media_quick_actions_portlet_MediaQuickActionsPortlet&p_p_lifecycle=0&p_p_state=exclusive&_media_quick_actions_portlet_MediaQuickActionsPortlet_mvcPath=/html/media_quick_actions.jsp&_media_quick_actions_portlet_MediaQuickActionsPortlet_mediaId=684231\n",
    "# https://multimedia.europarl.europa.eu/ga/c/portal/layout?p_l_id=39691&p_p_id=media_quick_actions_portlet_MediaQuickActionsPortlet&p_p_lifecycle=0&p_p_state=exclusive&_media_quick_actions_portlet_MediaQuickActionsPortlet_mvcPath=/html/media_quick_actions.jsp&_media_quick_actions_portlet_MediaQuickActionsPortlet_mediaId=683486\n",
    "_BASE_MEDIA_URL = \"https://multimedia.europarl.europa.eu/en/c/portal/layout?p_l_id=39691&p_p_id=media_quick_actions_portlet_MediaQuickActionsPortlet&p_p_lifecycle=0&p_p_state=exclusive&_media_quick_actions_portlet_MediaQuickActionsPortlet_mvcPath=/html/media_quick_actions.jsp&_media_quick_actions_portlet_MediaQuickActionsPortlet_mediaId=\""
   ]
  },
  {
   "cell_type": "code",
   "execution_count": 23,
   "metadata": {},
   "outputs": [],
   "source": [
    "req2 = requests.get(_BASE_MEDIA_URL + \"693639\")"
   ]
  },
  {
   "cell_type": "code",
   "execution_count": 25,
   "metadata": {},
   "outputs": [],
   "source": [
    "req3 = requests.get(\"https://multimedia.europarl.europa.eu/ga/plenary-highlights-cap-budget-and-a-social-security-pass_N01-AFPS-211125-5NUM_ev\")"
   ]
  },
  {
   "cell_type": "code",
   "execution_count": 31,
   "metadata": {},
   "outputs": [],
   "source": [
    "req3 = requests.get(\"https://multimedia.europarl.europa.eu/c/document_library/get_file?uuid=03e10b6b-5242-dd2d-08c3-ca1bf3ae90d1&groupId=20143\")"
   ]
  },
  {
   "cell_type": "code",
   "execution_count": 33,
   "metadata": {
    "scrolled": true
   },
   "outputs": [
    {
     "data": {
      "text/plain": [
       "b\"1\\n00:00:02,720 --> 00:00:04,319\\nCheadaigh Feisir\\xc3\\xad an t-athch\\xc3\\xb3iri\\xc3\\xba\\n\\r\\n2\\n00:00:04,319 --> 00:00:06,000\\nar bheartas feirmeoireachta an Aontais Eorpaigh,\\n\\r\\n3\\n00:00:06,000 --> 00:00:08,920\\na thiocfaidh i bhfeidhm in 2023.\\n\\r\\n4\\n00:00:08,920 --> 00:00:11,400\\nN\\xc3\\xad m\\xc3\\xb3r 25% ar a laghad d\\xe2\\x80\\x99\\xc3\\xadoca\\xc3\\xadochta\\xc3\\xad d\\xc3\\xadreacha\\n\\r\\n5\\n00:00:11,400 --> 00:00:13,200\\nchuig t\\xc3\\xadortha an Aontais Eorpaigh dul\\n\\r\\n6\\n00:00:13,200 --> 00:00:16,239\\ni dtreo \\xc3\\xa9icichleachtas.\\n\\r\\n7\\n00:00:18,680 --> 00:00:21,720\\nD\\xc3\\xa9antar 40% de th\\xc3\\xa1irg\\xc3\\xad m\\xc3\\xadochaine a mharga\\xc3\\xadtear san Aontas\\n\\r\\n8\\n00:00:21,720 --> 00:00:24,200\\ni dt\\xc3\\xadortha nach den Aontas Eorpach iad.\\n\\r\\n9\\n00:00:24,200 --> 00:00:27,159\\nPhl\\xc3\\xa9igh an Pharlaimint conas rochtain ar leigheas a fheabhs\\xc3\\xba\\n\\r\\n10\\n00:00:27,159 --> 00:00:30,439\\nagus an tAontas Eorpach a dh\\xc3\\xa9anamh n\\xc3\\xados neamhsple\\xc3\\xa1iche ar thr\\xc3\\xad\\xc3\\xba t\\xc3\\xadortha.\\n\\r\\n11\\n00:00:33,079 --> 00:00:36,680\\nGhlac Feisir\\xc3\\xad buis\\xc3\\xa9ad an Aontais Eorpaigh do 2022.\\n\\r\\n12\\n00:00:36,680 --> 00:00:40,839\\nFuair siad \\xe2\\x82\\xac479.1m breise\\n\\r\\n13\\n00:00:40,839 --> 00:00:44,319\\nle haghaidh sl\\xc3\\xa1inte, na h\\xc3\\xb3ige agus gn\\xc3\\xadomha\\xc3\\xadochta ar son na haer\\xc3\\xa1ide.\\n\\r\\n14\\n00:00:46,200 --> 00:00:48,400\\nN\\xc3\\xador dhaingnigh 6 bhallst\\xc3\\xa1t go f\\xc3\\xb3ill\\n\\r\\n15\\n00:00:48,400 --> 00:00:51,079\\nCoinbhinsi\\xc3\\xban Iostanb\\xc3\\xbal, a chuireann ceangal ar th\\xc3\\xadortha\\n\\r\\n16\\n00:00:51,079 --> 00:00:54,639\\nfor\\xc3\\xa9igean in aghaidh na mban a chosc agus a throid.\\n\\r\\n17\\n00:00:54,639 --> 00:00:58,879\\nD\\xe2\\x80\\x99fhiafraigh Feisir\\xc3\\xad c\\xc3\\xa9n f\\xc3\\xa1th nach bhfuil dul chun cinn \\xc3\\xa1 dh\\xc3\\xa9anamh sna t\\xc3\\xadortha sin.\\n\\r\\n18\\n00:01:00,600 --> 00:01:03,200\\nD'aistrigh 17.9 milli\\xc3\\xban Eorpach\\n\\r\\n19\\n00:01:03,200 --> 00:01:06,200\\nchuig t\\xc3\\xadr eile san Aontas Eorpach in 2019.\\n\\r\\n20\\n00:01:06,200 --> 00:01:07,800\\nD'iarr an Pharlaimint ar an gCoimisi\\xc3\\xban\\n\\r\\n21\\n00:01:07,800 --> 00:01:09,200\\ngo nd\\xc3\\xa9anfa\\xc3\\xad Pas Eorpach Sl\\xc3\\xa1nd\\xc3\\xa1la S\\xc3\\xb3isialta\\n\\r\\n22\\n00:01:09,200 --> 00:01:12,600\\na sheoladh n\\xc3\\xados gaiste chun gluaiseacht\\n\\r\\n23\\n00:01:12,600 --> 00:01:15,959\\noibrithe idir t\\xc3\\xadortha a \\xc3\\xa9asc\\xc3\\xba.\\n\""
      ]
     },
     "execution_count": 33,
     "metadata": {},
     "output_type": "execute_result"
    }
   ],
   "source": [
    "req3.content"
   ]
  },
  {
   "cell_type": "code",
   "execution_count": 34,
   "metadata": {},
   "outputs": [],
   "source": [
    "_JSON_REQUEST = \"\"\"\n",
    "{\n",
    "\"1\":{\"service\":\"session\",\"action\":\"startWidgetSession\",\"widgetId\":\"_102\"},\n",
    "\"2\":{\"service\":\"baseEntry\",\"action\":\"list\",\"ks\":\"{1:result:ks}\",\n",
    "\"filter\":{\"redirectFromEntryId\":\"DUMMY_ENTRY_ID\"},\n",
    "\"responseProfile\":{\"type\":1,\n",
    "\"fields\":\"id,referenceId,name,description,thumbnailUrl,dataUrl,duration,msDuration,flavorParamsIds,mediaType,type,tags,dvrStatus,externalSourceType,status\"}},\n",
    "\"3\":{\"service\":\"baseEntry\",\"action\":\"getPlaybackContext\",\n",
    "\"entryId\":\"{2:result:objects:0:id}\",\"ks\":\"{1:result:ks}\",\n",
    "\"contextDataParams\":{\"objectType\":\"KalturaContextDataParams\",\"flavorTags\":\"all\"}},\n",
    "\"4\":{\"service\":\"metadata_metadata\",\"action\":\"list\",\n",
    "\"filter\":{\"objectType\":\"KalturaMetadataFilter\",\n",
    "\"objectIdEqual\":\"DUMMY_ENTRY_ID\",\"metadataObjectTypeEqual\":\"1\"},\n",
    "\"ks\":\"{1:result:ks}\"},\"apiVersion\":\"3.3.0\",\"format\":1,\"ks\":\"\",\n",
    "\"clientTag\":\"html5:v0.53.7\",\"partnerId\":102\n",
    "}\n",
    "\"\"\""
   ]
  },
  {
   "cell_type": "code",
   "execution_count": 35,
   "metadata": {},
   "outputs": [],
   "source": [
    "actual_json = _JSON_REQUEST.replace(\"\\n\", \"\").replace(\"DUMMY_ENTRY_ID\", \"0_cn4txv2q\")"
   ]
  },
  {
   "cell_type": "code",
   "execution_count": 40,
   "metadata": {},
   "outputs": [],
   "source": [
    "mult_headers = {\n",
    "    \"Content-Type\": \"application/json\",\n",
    "    \"Origin\": \"https://multimedia.europarl.europa.eu\",\n",
    "    \"Sec-Fetch-Site\": \"same-site\",\n",
    "    \"Sec-Fetch-Mode\": \"cors\",\n",
    "    \"Sec-Fetch-Dest\": \"empty\"    \n",
    "}"
   ]
  },
  {
   "cell_type": "code",
   "execution_count": 41,
   "metadata": {},
   "outputs": [],
   "source": [
    "response = requests.post(\"https://kmc.europarltv.europa.eu/api_v3/service/multirequest\", headers=mult_headers, data=actual_json)"
   ]
  },
  {
   "cell_type": "code",
   "execution_count": 42,
   "metadata": {},
   "outputs": [
    {
     "data": {
      "text/plain": [
       "b'[{\"partnerId\":102,\"ks\":\"djJ8MTAyfLaROGG88AgrzBX6uiNNqpNd-dyz3pr4_AE44Bf8UZmNEu9Xu0AUM2VxYqSAo4NpV0XaaKUsFwLF5hOmRhIxg2247G_1AT4DKJ8y8cp6yLqt\",\"userId\":0,\"objectType\":\"KalturaStartWidgetSessionResponse\"},{\"objects\":[{\"mediaType\":1,\"dataUrl\":\"https:\\\\/\\\\/kmc.europarltv.europa.eu\\\\/p\\\\/102\\\\/sp\\\\/10200\\\\/playManifest\\\\/entryId\\\\/0_cn4txv2q\\\\/format\\\\/url\\\\/protocol\\\\/https\",\"flavorParamsIds\":\"0,116,117,118,119,120\",\"duration\":80,\"msDuration\":80000,\"id\":\"0_cn4txv2q\",\"name\":\"Plenary highlights: CAP, budget and a social security pass\",\"description\":\"Parliament gave the green light to the reform of the EU\\\\u2019s common agricultural policy and next year\\\\u2019s budget. MEPs discussed updating the Union\\\\u2019s pharmaceutical strategy and the introduction of a European Social Security Pass. They also asked why six EU countries are yet to ratify an international treaty on preventing violence against women.\",\"tags\":\"dropfolder, initial upload, 6672_492531\",\"status\":2,\"type\":1,\"thumbnailUrl\":\"https:\\\\/\\\\/kmc.europarltv.europa.eu\\\\/p\\\\/102\\\\/sp\\\\/10200\\\\/thumbnail\\\\/entry_id\\\\/0_cn4txv2q\\\\/version\\\\/100022\",\"referenceId\":\"6672_492531\",\"objectType\":\"KalturaMediaEntry\"}],\"totalCount\":1,\"objectType\":\"KalturaBaseEntryListResponse\"},{\"sources\":[{\"deliveryProfileId\":1007,\"format\":\"url\",\"protocols\":\"http,https\",\"flavorIds\":\"0_a0jl1fgs,0_0z2x12t9,0_7ppffsqe,0_farx35yp,0_o933mekl\",\"url\":\"https:\\\\/\\\\/kmc.europarltv.europa.eu\\\\/p\\\\/102\\\\/sp\\\\/102\\\\/playManifest\\\\/entryId\\\\/0_cn4txv2q\\\\/flavorIds\\\\/0_a0jl1fgs,0_0z2x12t9,0_7ppffsqe,0_farx35yp,0_o933mekl\\\\/deliveryProfileId\\\\/1007\\\\/protocol\\\\/https\\\\/format\\\\/url\\\\/name\\\\/a.mp4\",\"drm\":[],\"objectType\":\"KalturaPlaybackSource\"},{\"deliveryProfileId\":1004,\"format\":\"applehttp\",\"protocols\":\"http,https\",\"flavorIds\":\"0_a0jl1fgs,0_0z2x12t9,0_7ppffsqe,0_farx35yp,0_o933mekl\",\"url\":\"https:\\\\/\\\\/kmc.europarltv.europa.eu\\\\/p\\\\/102\\\\/sp\\\\/102\\\\/playManifest\\\\/entryId\\\\/0_cn4txv2q\\\\/flavorIds\\\\/0_a0jl1fgs,0_0z2x12t9,0_7ppffsqe,0_farx35yp,0_o933mekl\\\\/deliveryProfileId\\\\/1004\\\\/protocol\\\\/https\\\\/format\\\\/applehttp\\\\/a.m3u8\",\"drm\":[],\"objectType\":\"KalturaPlaybackSource\"},{\"deliveryProfileId\":1006,\"format\":\"hds\",\"protocols\":\"http,https\",\"flavorIds\":\"0_a0jl1fgs,0_0z2x12t9,0_7ppffsqe,0_farx35yp,0_o933mekl\",\"url\":\"https:\\\\/\\\\/kmc.europarltv.europa.eu\\\\/p\\\\/102\\\\/sp\\\\/102\\\\/playManifest\\\\/entryId\\\\/0_cn4txv2q\\\\/flavorIds\\\\/0_a0jl1fgs,0_0z2x12t9,0_7ppffsqe,0_farx35yp,0_o933mekl\\\\/deliveryProfileId\\\\/1006\\\\/protocol\\\\/https\\\\/format\\\\/hds\\\\/a.f4m\",\"drm\":[],\"objectType\":\"KalturaPlaybackSource\"},{\"deliveryProfileId\":1005,\"format\":\"mpegdash\",\"protocols\":\"http,https\",\"flavorIds\":\"0_a0jl1fgs,0_0z2x12t9,0_7ppffsqe,0_farx35yp,0_o933mekl\",\"url\":\"https:\\\\/\\\\/kmc.europarltv.europa.eu\\\\/p\\\\/102\\\\/sp\\\\/102\\\\/playManifest\\\\/entryId\\\\/0_cn4txv2q\\\\/flavorIds\\\\/0_a0jl1fgs,0_0z2x12t9,0_7ppffsqe,0_farx35yp,0_o933mekl\\\\/deliveryProfileId\\\\/1005\\\\/protocol\\\\/https\\\\/format\\\\/mpegdash\\\\/manifest.mpd\",\"drm\":[],\"objectType\":\"KalturaPlaybackSource\"},{\"deliveryProfileId\":1002,\"format\":\"hdnetworkmanifest\",\"protocols\":\"http,https\",\"flavorIds\":\"0_a0jl1fgs,0_0z2x12t9,0_7ppffsqe,0_farx35yp,0_o933mekl\",\"url\":\"https:\\\\/\\\\/kmc.europarltv.europa.eu\\\\/p\\\\/102\\\\/sp\\\\/102\\\\/playManifest\\\\/entryId\\\\/0_cn4txv2q\\\\/flavorIds\\\\/0_a0jl1fgs,0_0z2x12t9,0_7ppffsqe,0_farx35yp,0_o933mekl\\\\/deliveryProfileId\\\\/1002\\\\/protocol\\\\/https\\\\/format\\\\/hdnetworkmanifest\\\\/manifest.f4m\",\"drm\":[],\"objectType\":\"KalturaPlaybackSource\"}],\"playbackCaptions\":[{\"format\":\"1\",\"language\":\"English\",\"webVttUrl\":\"https:\\\\/\\\\/kmc.europarltv.europa.eu\\\\/api_v3\\\\/index.php\\\\/service\\\\/caption_captionasset\\\\/action\\\\/serveWebVTT\\\\/captionAssetId\\\\/0_k0nepex6\\\\/segmentIndex\\\\/-1\\\\/version\\\\/2\\\\/captions.vtt\",\"url\":\"https:\\\\/\\\\/kmc.europarltv.europa.eu\\\\/api_v3\\\\/index.php\\\\/service\\\\/caption_captionAsset\\\\/action\\\\/serve\\\\/captionAssetId\\\\/0_k0nepex6\\\\/v\\\\/2\",\"isDefault\":true,\"languageCode\":\"en\",\"objectType\":\"KalturaCaptionPlaybackPluginData\"},{\"format\":\"1\",\"language\":\"German\",\"webVttUrl\":\"https:\\\\/\\\\/kmc.europarltv.europa.eu\\\\/api_v3\\\\/index.php\\\\/service\\\\/caption_captionasset\\\\/action\\\\/serveWebVTT\\\\/captionAssetId\\\\/0_0xqms43u\\\\/segmentIndex\\\\/-1\\\\/version\\\\/2\\\\/captions.vtt\",\"url\":\"https:\\\\/\\\\/kmc.europarltv.europa.eu\\\\/api_v3\\\\/index.php\\\\/service\\\\/caption_captionAsset\\\\/action\\\\/serve\\\\/captionAssetId\\\\/0_0xqms43u\\\\/v\\\\/2\",\"languageCode\":\"de\",\"objectType\":\"KalturaCaptionPlaybackPluginData\"},{\"format\":\"1\",\"language\":\"French\",\"webVttUrl\":\"https:\\\\/\\\\/kmc.europarltv.europa.eu\\\\/api_v3\\\\/index.php\\\\/service\\\\/caption_captionasset\\\\/action\\\\/serveWebVTT\\\\/captionAssetId\\\\/0_c4hon1qz\\\\/segmentIndex\\\\/-1\\\\/version\\\\/2\\\\/captions.vtt\",\"url\":\"https:\\\\/\\\\/kmc.europarltv.europa.eu\\\\/api_v3\\\\/index.php\\\\/service\\\\/caption_captionAsset\\\\/action\\\\/serve\\\\/captionAssetId\\\\/0_c4hon1qz\\\\/v\\\\/2\",\"languageCode\":\"fr\",\"objectType\":\"KalturaCaptionPlaybackPluginData\"},{\"format\":\"1\",\"language\":\"Italian\",\"webVttUrl\":\"https:\\\\/\\\\/kmc.europarltv.europa.eu\\\\/api_v3\\\\/index.php\\\\/service\\\\/caption_captionasset\\\\/action\\\\/serveWebVTT\\\\/captionAssetId\\\\/0_xnaslm5m\\\\/segmentIndex\\\\/-1\\\\/version\\\\/2\\\\/captions.vtt\",\"url\":\"https:\\\\/\\\\/kmc.europarltv.europa.eu\\\\/api_v3\\\\/index.php\\\\/service\\\\/caption_captionAsset\\\\/action\\\\/serve\\\\/captionAssetId\\\\/0_xnaslm5m\\\\/v\\\\/2\",\"languageCode\":\"it\",\"objectType\":\"KalturaCaptionPlaybackPluginData\"},{\"format\":\"1\",\"language\":\"Spanish\",\"webVttUrl\":\"https:\\\\/\\\\/kmc.europarltv.europa.eu\\\\/api_v3\\\\/index.php\\\\/service\\\\/caption_captionasset\\\\/action\\\\/serveWebVTT\\\\/captionAssetId\\\\/0_qecujyx3\\\\/segmentIndex\\\\/-1\\\\/version\\\\/2\\\\/captions.vtt\",\"url\":\"https:\\\\/\\\\/kmc.europarltv.europa.eu\\\\/api_v3\\\\/index.php\\\\/service\\\\/caption_captionAsset\\\\/action\\\\/serve\\\\/captionAssetId\\\\/0_qecujyx3\\\\/v\\\\/2\",\"languageCode\":\"es\",\"objectType\":\"KalturaCaptionPlaybackPluginData\"},{\"format\":\"1\",\"language\":\"Polish\",\"webVttUrl\":\"https:\\\\/\\\\/kmc.europarltv.europa.eu\\\\/api_v3\\\\/index.php\\\\/service\\\\/caption_captionasset\\\\/action\\\\/serveWebVTT\\\\/captionAssetId\\\\/0_l7p924km\\\\/segmentIndex\\\\/-1\\\\/version\\\\/2\\\\/captions.vtt\",\"url\":\"https:\\\\/\\\\/kmc.europarltv.europa.eu\\\\/api_v3\\\\/index.php\\\\/service\\\\/caption_captionAsset\\\\/action\\\\/serve\\\\/captionAssetId\\\\/0_l7p924km\\\\/v\\\\/2\",\"languageCode\":\"pl\",\"objectType\":\"KalturaCaptionPlaybackPluginData\"},{\"format\":\"1\",\"language\":\"Romanian\",\"webVttUrl\":\"https:\\\\/\\\\/kmc.europarltv.europa.eu\\\\/api_v3\\\\/index.php\\\\/service\\\\/caption_captionasset\\\\/action\\\\/serveWebVTT\\\\/captionAssetId\\\\/0_tyo0mgqq\\\\/segmentIndex\\\\/-1\\\\/version\\\\/2\\\\/captions.vtt\",\"url\":\"https:\\\\/\\\\/kmc.europarltv.europa.eu\\\\/api_v3\\\\/index.php\\\\/service\\\\/caption_captionAsset\\\\/action\\\\/serve\\\\/captionAssetId\\\\/0_tyo0mgqq\\\\/v\\\\/2\",\"languageCode\":\"ro\",\"objectType\":\"KalturaCaptionPlaybackPluginData\"},{\"format\":\"1\",\"language\":\"Dutch\",\"webVttUrl\":\"https:\\\\/\\\\/kmc.europarltv.europa.eu\\\\/api_v3\\\\/index.php\\\\/service\\\\/caption_captionasset\\\\/action\\\\/serveWebVTT\\\\/captionAssetId\\\\/0_2b0as7bm\\\\/segmentIndex\\\\/-1\\\\/version\\\\/2\\\\/captions.vtt\",\"url\":\"https:\\\\/\\\\/kmc.europarltv.europa.eu\\\\/api_v3\\\\/index.php\\\\/service\\\\/caption_captionAsset\\\\/action\\\\/serve\\\\/captionAssetId\\\\/0_2b0as7bm\\\\/v\\\\/2\",\"languageCode\":\"nl\",\"objectType\":\"KalturaCaptionPlaybackPluginData\"},{\"format\":\"1\",\"language\":\"Hungarian\",\"webVttUrl\":\"https:\\\\/\\\\/kmc.europarltv.europa.eu\\\\/api_v3\\\\/index.php\\\\/service\\\\/caption_captionasset\\\\/action\\\\/serveWebVTT\\\\/captionAssetId\\\\/0_tnqrlqq5\\\\/segmentIndex\\\\/-1\\\\/version\\\\/2\\\\/captions.vtt\",\"url\":\"https:\\\\/\\\\/kmc.europarltv.europa.eu\\\\/api_v3\\\\/index.php\\\\/service\\\\/caption_captionAsset\\\\/action\\\\/serve\\\\/captionAssetId\\\\/0_tnqrlqq5\\\\/v\\\\/2\",\"languageCode\":\"hu\",\"objectType\":\"KalturaCaptionPlaybackPluginData\"},{\"format\":\"1\",\"language\":\"Portuguese\",\"webVttUrl\":\"https:\\\\/\\\\/kmc.europarltv.europa.eu\\\\/api_v3\\\\/index.php\\\\/service\\\\/caption_captionasset\\\\/action\\\\/serveWebVTT\\\\/captionAssetId\\\\/0_iw23q8gg\\\\/segmentIndex\\\\/-1\\\\/version\\\\/2\\\\/captions.vtt\",\"url\":\"https:\\\\/\\\\/kmc.europarltv.europa.eu\\\\/api_v3\\\\/index.php\\\\/service\\\\/caption_captionAsset\\\\/action\\\\/serve\\\\/captionAssetId\\\\/0_iw23q8gg\\\\/v\\\\/2\",\"languageCode\":\"pt\",\"objectType\":\"KalturaCaptionPlaybackPluginData\"},{\"format\":\"1\",\"language\":\"Greek\",\"webVttUrl\":\"https:\\\\/\\\\/kmc.europarltv.europa.eu\\\\/api_v3\\\\/index.php\\\\/service\\\\/caption_captionasset\\\\/action\\\\/serveWebVTT\\\\/captionAssetId\\\\/0_9fhu07mw\\\\/segmentIndex\\\\/-1\\\\/version\\\\/2\\\\/captions.vtt\",\"url\":\"https:\\\\/\\\\/kmc.europarltv.europa.eu\\\\/api_v3\\\\/index.php\\\\/service\\\\/caption_captionAsset\\\\/action\\\\/serve\\\\/captionAssetId\\\\/0_9fhu07mw\\\\/v\\\\/2\",\"languageCode\":\"el\",\"objectType\":\"KalturaCaptionPlaybackPluginData\"},{\"format\":\"1\",\"language\":\"Swedish\",\"webVttUrl\":\"https:\\\\/\\\\/kmc.europarltv.europa.eu\\\\/api_v3\\\\/index.php\\\\/service\\\\/caption_captionasset\\\\/action\\\\/serveWebVTT\\\\/captionAssetId\\\\/0_6ct736lo\\\\/segmentIndex\\\\/-1\\\\/version\\\\/2\\\\/captions.vtt\",\"url\":\"https:\\\\/\\\\/kmc.europarltv.europa.eu\\\\/api_v3\\\\/index.php\\\\/service\\\\/caption_captionAsset\\\\/action\\\\/serve\\\\/captionAssetId\\\\/0_6ct736lo\\\\/v\\\\/2\",\"languageCode\":\"sv\",\"objectType\":\"KalturaCaptionPlaybackPluginData\"},{\"format\":\"1\",\"language\":\"Czech\",\"webVttUrl\":\"https:\\\\/\\\\/kmc.europarltv.europa.eu\\\\/api_v3\\\\/index.php\\\\/service\\\\/caption_captionasset\\\\/action\\\\/serveWebVTT\\\\/captionAssetId\\\\/0_kvt1fsm7\\\\/segmentIndex\\\\/-1\\\\/version\\\\/2\\\\/captions.vtt\",\"url\":\"https:\\\\/\\\\/kmc.europarltv.europa.eu\\\\/api_v3\\\\/index.php\\\\/service\\\\/caption_captionAsset\\\\/action\\\\/serve\\\\/captionAssetId\\\\/0_kvt1fsm7\\\\/v\\\\/2\",\"languageCode\":\"cs\",\"objectType\":\"KalturaCaptionPlaybackPluginData\"},{\"format\":\"1\",\"language\":\"Bulgarian\",\"webVttUrl\":\"https:\\\\/\\\\/kmc.europarltv.europa.eu\\\\/api_v3\\\\/index.php\\\\/service\\\\/caption_captionasset\\\\/action\\\\/serveWebVTT\\\\/captionAssetId\\\\/0_wwri3309\\\\/segmentIndex\\\\/-1\\\\/version\\\\/2\\\\/captions.vtt\",\"url\":\"https:\\\\/\\\\/kmc.europarltv.europa.eu\\\\/api_v3\\\\/index.php\\\\/service\\\\/caption_captionAsset\\\\/action\\\\/serve\\\\/captionAssetId\\\\/0_wwri3309\\\\/v\\\\/2\",\"languageCode\":\"bg\",\"objectType\":\"KalturaCaptionPlaybackPluginData\"},{\"format\":\"1\",\"language\":\"Slovak\",\"webVttUrl\":\"https:\\\\/\\\\/kmc.europarltv.europa.eu\\\\/api_v3\\\\/index.php\\\\/service\\\\/caption_captionasset\\\\/action\\\\/serveWebVTT\\\\/captionAssetId\\\\/0_vaq4vzvt\\\\/segmentIndex\\\\/-1\\\\/version\\\\/2\\\\/captions.vtt\",\"url\":\"https:\\\\/\\\\/kmc.europarltv.europa.eu\\\\/api_v3\\\\/index.php\\\\/service\\\\/caption_captionAsset\\\\/action\\\\/serve\\\\/captionAssetId\\\\/0_vaq4vzvt\\\\/v\\\\/2\",\"languageCode\":\"sk\",\"objectType\":\"KalturaCaptionPlaybackPluginData\"},{\"format\":\"1\",\"language\":\"Danish\",\"webVttUrl\":\"https:\\\\/\\\\/kmc.europarltv.europa.eu\\\\/api_v3\\\\/index.php\\\\/service\\\\/caption_captionasset\\\\/action\\\\/serveWebVTT\\\\/captionAssetId\\\\/0_onaubx0d\\\\/segmentIndex\\\\/-1\\\\/version\\\\/2\\\\/captions.vtt\",\"url\":\"https:\\\\/\\\\/kmc.europarltv.europa.eu\\\\/api_v3\\\\/index.php\\\\/service\\\\/caption_captionAsset\\\\/action\\\\/serve\\\\/captionAssetId\\\\/0_onaubx0d\\\\/v\\\\/2\",\"languageCode\":\"da\",\"objectType\":\"KalturaCaptionPlaybackPluginData\"},{\"format\":\"1\",\"language\":\"Finnish\",\"webVttUrl\":\"https:\\\\/\\\\/kmc.europarltv.europa.eu\\\\/api_v3\\\\/index.php\\\\/service\\\\/caption_captionasset\\\\/action\\\\/serveWebVTT\\\\/captionAssetId\\\\/0_npr2a65f\\\\/segmentIndex\\\\/-1\\\\/version\\\\/2\\\\/captions.vtt\",\"url\":\"https:\\\\/\\\\/kmc.europarltv.europa.eu\\\\/api_v3\\\\/index.php\\\\/service\\\\/caption_captionAsset\\\\/action\\\\/serve\\\\/captionAssetId\\\\/0_npr2a65f\\\\/v\\\\/2\",\"languageCode\":\"fi\",\"objectType\":\"KalturaCaptionPlaybackPluginData\"},{\"format\":\"1\",\"language\":\"Lithuanian\",\"webVttUrl\":\"https:\\\\/\\\\/kmc.europarltv.europa.eu\\\\/api_v3\\\\/index.php\\\\/service\\\\/caption_captionasset\\\\/action\\\\/serveWebVTT\\\\/captionAssetId\\\\/0_o0ncwn12\\\\/segmentIndex\\\\/-1\\\\/version\\\\/2\\\\/captions.vtt\",\"url\":\"https:\\\\/\\\\/kmc.europarltv.europa.eu\\\\/api_v3\\\\/index.php\\\\/service\\\\/caption_captionAsset\\\\/action\\\\/serve\\\\/captionAssetId\\\\/0_o0ncwn12\\\\/v\\\\/2\",\"languageCode\":\"lt\",\"objectType\":\"KalturaCaptionPlaybackPluginData\"},{\"format\":\"1\",\"language\":\"Slovenian\",\"webVttUrl\":\"https:\\\\/\\\\/kmc.europarltv.europa.eu\\\\/api_v3\\\\/index.php\\\\/service\\\\/caption_captionasset\\\\/action\\\\/serveWebVTT\\\\/captionAssetId\\\\/0_ydrzkvv4\\\\/segmentIndex\\\\/-1\\\\/version\\\\/2\\\\/captions.vtt\",\"url\":\"https:\\\\/\\\\/kmc.europarltv.europa.eu\\\\/api_v3\\\\/index.php\\\\/service\\\\/caption_captionAsset\\\\/action\\\\/serve\\\\/captionAssetId\\\\/0_ydrzkvv4\\\\/v\\\\/2\",\"languageCode\":\"sl\",\"objectType\":\"KalturaCaptionPlaybackPluginData\"},{\"format\":\"1\",\"language\":\"Estonian\",\"webVttUrl\":\"https:\\\\/\\\\/kmc.europarltv.europa.eu\\\\/api_v3\\\\/index.php\\\\/service\\\\/caption_captionasset\\\\/action\\\\/serveWebVTT\\\\/captionAssetId\\\\/0_w6j7jzlm\\\\/segmentIndex\\\\/-1\\\\/version\\\\/2\\\\/captions.vtt\",\"url\":\"https:\\\\/\\\\/kmc.europarltv.europa.eu\\\\/api_v3\\\\/index.php\\\\/service\\\\/caption_captionAsset\\\\/action\\\\/serve\\\\/captionAssetId\\\\/0_w6j7jzlm\\\\/v\\\\/2\",\"languageCode\":\"et\",\"objectType\":\"KalturaCaptionPlaybackPluginData\"},{\"format\":\"1\",\"language\":\"Croatian\",\"webVttUrl\":\"https:\\\\/\\\\/kmc.europarltv.europa.eu\\\\/api_v3\\\\/index.php\\\\/service\\\\/caption_captionasset\\\\/action\\\\/serveWebVTT\\\\/captionAssetId\\\\/0_hhy2f2m9\\\\/segmentIndex\\\\/-1\\\\/version\\\\/2\\\\/captions.vtt\",\"url\":\"https:\\\\/\\\\/kmc.europarltv.europa.eu\\\\/api_v3\\\\/index.php\\\\/service\\\\/caption_captionAsset\\\\/action\\\\/serve\\\\/captionAssetId\\\\/0_hhy2f2m9\\\\/v\\\\/2\",\"languageCode\":\"hr\",\"objectType\":\"KalturaCaptionPlaybackPluginData\"},{\"format\":\"1\",\"language\":\"Irish\",\"webVttUrl\":\"https:\\\\/\\\\/kmc.europarltv.europa.eu\\\\/api_v3\\\\/index.php\\\\/service\\\\/caption_captionasset\\\\/action\\\\/serveWebVTT\\\\/captionAssetId\\\\/0_fll1iin9\\\\/segmentIndex\\\\/-1\\\\/version\\\\/2\\\\/captions.vtt\",\"url\":\"https:\\\\/\\\\/kmc.europarltv.europa.eu\\\\/api_v3\\\\/index.php\\\\/service\\\\/caption_captionAsset\\\\/action\\\\/serve\\\\/captionAssetId\\\\/0_fll1iin9\\\\/v\\\\/2\",\"languageCode\":\"ga\",\"objectType\":\"KalturaCaptionPlaybackPluginData\"},{\"label\":\"Latvian\",\"format\":\"1\",\"language\":\"Latvian (Lettish)\",\"webVttUrl\":\"https:\\\\/\\\\/kmc.europarltv.europa.eu\\\\/api_v3\\\\/index.php\\\\/service\\\\/caption_captionasset\\\\/action\\\\/serveWebVTT\\\\/captionAssetId\\\\/0_ffqm35n6\\\\/segmentIndex\\\\/-1\\\\/version\\\\/2\\\\/captions.vtt\",\"url\":\"https:\\\\/\\\\/kmc.europarltv.europa.eu\\\\/api_v3\\\\/index.php\\\\/service\\\\/caption_captionAsset\\\\/action\\\\/serve\\\\/captionAssetId\\\\/0_ffqm35n6\\\\/v\\\\/2\",\"languageCode\":\"lv\",\"objectType\":\"KalturaCaptionPlaybackPluginData\"},{\"format\":\"1\",\"language\":\"Maltese\",\"webVttUrl\":\"https:\\\\/\\\\/kmc.europarltv.europa.eu\\\\/api_v3\\\\/index.php\\\\/service\\\\/caption_captionasset\\\\/action\\\\/serveWebVTT\\\\/captionAssetId\\\\/0_8b0itzsi\\\\/segmentIndex\\\\/-1\\\\/version\\\\/2\\\\/captions.vtt\",\"url\":\"https:\\\\/\\\\/kmc.europarltv.europa.eu\\\\/api_v3\\\\/index.php\\\\/service\\\\/caption_captionAsset\\\\/action\\\\/serve\\\\/captionAssetId\\\\/0_8b0itzsi\\\\/v\\\\/2\",\"languageCode\":\"mt\",\"objectType\":\"KalturaCaptionPlaybackPluginData\"}],\"flavorAssets\":[{\"flavorParamsId\":116,\"width\":640,\"height\":360,\"bitrate\":453,\"frameRate\":25,\"isOriginal\":false,\"isWeb\":true,\"containerFormat\":\"isom\",\"videoCodecId\":\"avc1\",\"status\":2,\"language\":\"Undefined\",\"isDefault\":false,\"id\":\"0_a0jl1fgs\",\"entryId\":\"0_cn4txv2q\",\"partnerId\":102,\"version\":\"2\",\"size\":4474,\"tags\":\"mobile,web,mbr,iphonenew,dash\",\"fileExt\":\"mp4\",\"createdAt\":1637853199,\"updatedAt\":1637853229,\"description\":\"\",\"objectType\":\"KalturaFlavorAsset\"},{\"flavorParamsId\":117,\"width\":640,\"height\":360,\"bitrate\":788,\"frameRate\":25,\"isOriginal\":false,\"isWeb\":true,\"containerFormat\":\"isom\",\"videoCodecId\":\"avc1\",\"status\":2,\"language\":\"Undefined\",\"isDefault\":false,\"id\":\"0_0z2x12t9\",\"entryId\":\"0_cn4txv2q\",\"partnerId\":102,\"version\":\"2\",\"size\":7782,\"tags\":\"mobile,web,mbr,iphonenew,dash\",\"fileExt\":\"mp4\",\"createdAt\":1637853199,\"updatedAt\":1637853228,\"description\":\"audio warnings: 2106,#Redundant bitrate.\\\\n\",\"objectType\":\"KalturaFlavorAsset\"},{\"flavorParamsId\":118,\"width\":1024,\"height\":576,\"bitrate\":1402,\"frameRate\":25,\"isOriginal\":false,\"isWeb\":true,\"containerFormat\":\"isom\",\"videoCodecId\":\"avc1\",\"status\":2,\"language\":\"Undefined\",\"isDefault\":false,\"id\":\"0_7ppffsqe\",\"entryId\":\"0_cn4txv2q\",\"partnerId\":102,\"version\":\"2\",\"size\":13824,\"tags\":\"mobile,web,mbr,iphonenew,dash\",\"fileExt\":\"mp4\",\"createdAt\":1637853199,\"updatedAt\":1637853243,\"description\":\"audio warnings: 2106,#Redundant bitrate.\\\\n\",\"objectType\":\"KalturaFlavorAsset\"},{\"flavorParamsId\":119,\"width\":1280,\"height\":720,\"bitrate\":2421,\"frameRate\":25,\"isOriginal\":false,\"isWeb\":true,\"containerFormat\":\"isom\",\"videoCodecId\":\"avc1\",\"status\":2,\"language\":\"Undefined\",\"isDefault\":false,\"id\":\"0_farx35yp\",\"entryId\":\"0_cn4txv2q\",\"partnerId\":102,\"version\":\"2\",\"size\":23961,\"tags\":\"mobile,web,mbr,iphonenew,dash\",\"fileExt\":\"mp4\",\"createdAt\":1637853199,\"updatedAt\":1637853292,\"description\":\"\",\"objectType\":\"KalturaFlavorAsset\"},{\"flavorParamsId\":120,\"width\":1920,\"height\":1080,\"bitrate\":3790,\"frameRate\":25,\"isOriginal\":false,\"isWeb\":true,\"containerFormat\":\"isom\",\"videoCodecId\":\"avc1\",\"status\":2,\"language\":\"Undefined\",\"isDefault\":false,\"id\":\"0_o933mekl\",\"entryId\":\"0_cn4txv2q\",\"partnerId\":102,\"version\":\"2\",\"size\":37478,\"tags\":\"mobile,web,mbr,iphonenew,dash\",\"fileExt\":\"mp4\",\"createdAt\":1637853199,\"updatedAt\":1637853340,\"description\":\"audio warnings: 2106,#Redundant bitrate.\\\\n\",\"objectType\":\"KalturaFlavorAsset\"}],\"actions\":[],\"messages\":[],\"objectType\":\"KalturaPlaybackContext\"},{\"objects\":[{\"id\":70719,\"partnerId\":102,\"metadataProfileId\":8,\"metadataProfileVersion\":2,\"metadataObjectType\":1,\"objectId\":\"0_cn4txv2q\",\"version\":32,\"createdAt\":1637853149,\"updatedAt\":1637853149,\"status\":1,\"xml\":\"<metadata><WatermarkImageEntry>0_ynf6zczg<\\\\/WatermarkImageEntry><\\\\/metadata>\",\"objectType\":\"KalturaMetadata\"},{\"id\":70720,\"partnerId\":102,\"metadataProfileId\":6,\"metadataProfileVersion\":2,\"metadataObjectType\":1,\"objectId\":\"0_cn4txv2q\",\"version\":12,\"createdAt\":1637853483,\"updatedAt\":1637872239,\"status\":1,\"xml\":\"<metadata> <Title_en>Plenary highlights: CAP, budget and a social security pass<\\\\/Title_en>  <Title_de>Highlights der Plenartagung: GAP, Haushalt und Sozialversicherungspass<\\\\/Title_de>  <Title_fr>Points importants de la session pl\\\\u00e9ni\\\\u00e8re\\\\u00a0: PAC, budget et \\\\u00ab\\\\u00a0passe\\\\u00a0\\\\u00bb de s\\\\u00e9curit\\\\u00e9 sociale<\\\\/Title_fr>  <Title_it>Plenaria, punti salienti: PAC, bilancio e tessera di sicurezza sociale<\\\\/Title_it>  <Title_es>Temas candentes en el Pleno: la PAC, el presupuesto de 2022 y la Tarjeta Sanitaria Europea<\\\\/Title_es>  <Title_pl>Najwa\\\\u017cniejsze wydarzenia z sesji plenarnej: WPR, bud\\\\u017cet i paszport ubezpiecze\\\\u0144 spo\\\\u0142ecznych<\\\\/Title_pl>  <Title_ro>Repere \\\\u00een plen: PAC, bugetul \\\\u0219i permisul de securitate social\\\\u0103<\\\\/Title_ro>  <Title_nl>Hoogtepunten plenaire zitting: GLB, begroting en socialezekerheidspas<\\\\/Title_nl>  <Title_hu>A plen\\\\u00e1ris \\\\u00fcl\\\\u00e9s f\\\\u0151 pillanatai: KAP, k\\\\u00f6lts\\\\u00e9gvet\\\\u00e9s \\\\u00e9s t\\\\u00e1rs.bizt. k\\\\u00e1rtya<\\\\/Title_hu>  <Title_pt>Destaques do plen\\\\u00e1rio: PAC, or\\\\u00e7amento e passe de seguran\\\\u00e7a social<\\\\/Title_pt>  <Title_el>\\\\u0392\\\\u03b1\\\\u03c3\\\\u03b9\\\\u03ba\\\\u03ac \\\\u03c3\\\\u03b7\\\\u03bc\\\\u03b5\\\\u03af\\\\u03b1 \\\\u03c4\\\\u03b7\\\\u03c2 \\\\u03bf\\\\u03bb\\\\u03bf\\\\u03bc\\\\u03ad\\\\u03bb\\\\u03b5\\\\u03b9\\\\u03b1\\\\u03c2: \\\\u039a\\\\u0393\\\\u03a0, \\\\u03c0\\\\u03c1\\\\u03bf\\\\u03cb\\\\u03c0\\\\u03bf\\\\u03bb\\\\u03bf\\\\u03b3\\\\u03b9\\\\u03c3\\\\u03bc\\\\u03cc\\\\u03c2 \\\\u03ba\\\\u03b1\\\\u03b9 \\\\u03b4\\\\u03b9\\\\u03b1\\\\u03b2\\\\u03b1\\\\u03c4\\\\u03ae\\\\u03c1\\\\u03b9\\\\u03bf \\\\u03ba\\\\u03bf\\\\u03b9\\\\u03bd\\\\u03c9\\\\u03bd\\\\u03b9\\\\u03ba\\\\u03ae\\\\u03c2 \\\\u03b1\\\\u03c3\\\\u03c6\\\\u03ac\\\\u03bb\\\\u03b9\\\\u03c3\\\\u03b7\\\\u03c2<\\\\/Title_el>  <Title_sv>H\\\\u00f6jdpunkter fr\\\\u00e5n plenarsammantr\\\\u00e4det: GJP, budgeten och ett europeiskt socialf\\\\u00f6rs\\\\u00e4kringskort<\\\\/Title_sv>  <Title_cs>Hlavn\\\\u00ed body plen\\\\u00e1rn\\\\u00edho zased\\\\u00e1n\\\\u00ed: SZP, rozpo\\\\u010det a pas soci\\\\u00e1ln\\\\u00edho zabezpe\\\\u010den\\\\u00ed<\\\\/Title_cs>  <Title_bg>\\\\u0410\\\\u043a\\\\u0446\\\\u0435\\\\u043d\\\\u0442\\\\u0438 \\\\u043e\\\\u0442 \\\\u043f\\\\u043b\\\\u0435\\\\u043d\\\\u0430\\\\u0440\\\\u043d\\\\u0430\\\\u0442\\\\u0430 \\\\u0441\\\\u0435\\\\u0441\\\\u0438\\\\u044f: \\\\u041e\\\\u0421\\\\u041f, \\\\u0431\\\\u044e\\\\u0434\\\\u0436\\\\u0435\\\\u0442 \\\\u0438 \\\\u0434\\\\u043e\\\\u043a\\\\u0443\\\\u043c\\\\u0435\\\\u043d\\\\u0442 \\\\u0437\\\\u0430 \\\\u0441\\\\u043e\\\\u0446\\\\u0438\\\\u0430\\\\u043b\\\\u043d\\\\u043e \\\\u043e\\\\u0441\\\\u0438\\\\u0433\\\\u0443\\\\u0440\\\\u044f\\\\u0432\\\\u0430\\\\u043d\\\\u0435<\\\\/Title_bg>  <Title_sk>Z\\\\u00e1sadn\\\\u00e9 body plen\\\\u00e1rneho zasadnutia: SPP, rozpo\\\\u010det a\\\\u00a0pas soci\\\\u00e1lneho zabezpe\\\\u010denia<\\\\/Title_sk>  <Title_da>H\\\\u00f8jdepunkter fra plenarm\\\\u00f8det: Den f\\\\u00e6lles landbrugspolitik, budget og et sygesikringspas<\\\\/Title_da>  <Title_fi>T\\\\u00e4ysistunnon kohokohdat: YMP, budjetti ja sosiaaliturvapassi<\\\\/Title_fi>  <Title_lt>Plenariniame pos\\\\u0117dyje: B\\\\u017d\\\\u016aP, biud\\\\u017eetas ir socialin\\\\u0117s apsaugos leidimas<\\\\/Title_lt>  <Title_sl>Poudarki s plenarne seje: SKP, prora\\\\u010dun in izkaznica za socialno varnost<\\\\/Title_sl>  <Title_et>Tipphetked t\\\\u00e4iskogult: \\\\u00dcPP, eelarve ja sotsiaalkindlustuspass<\\\\/Title_et>  <Title_hr>Plenarne vijesti: ZPP, prora\\\\u010dun i propusnica socijalne sigurnosti<\\\\/Title_hr>  <Title_ga>Pr\\\\u00edomhphoint\\\\u00ed an tseisi\\\\u00fain ioml\\\\u00e1naigh: CBT, buis\\\\u00e9ad agus pas sl\\\\u00e1nd\\\\u00e1la s\\\\u00f3isialta<\\\\/Title_ga>  <Title_lv>Plen\\\\u0101rsesijas noz\\\\u012bm\\\\u012bg\\\\u0101kie jaut\\\\u0101jumi: KLP, bud\\\\u017eets un soci\\\\u0101l\\\\u0101 nodro\\\\u0161in\\\\u0101juma karte<\\\\/Title_lv>  <Title_mt>Punti ewlenin mis-sessjoni plenarja: PAK, ba\\\\u0121it, u pass tas-sigurt\\\\u00e0 so\\\\u010bjali<\\\\/Title_mt> <\\\\/metadata>\",\"objectType\":\"KalturaMetadata\"}],\"totalCount\":2,\"objectType\":\"KalturaMetadataListResponse\"}]'"
      ]
     },
     "execution_count": 42,
     "metadata": {},
     "output_type": "execute_result"
    }
   ],
   "source": [
    "response.content"
   ]
  },
  {
   "cell_type": "code",
   "execution_count": 43,
   "metadata": {},
   "outputs": [],
   "source": [
    "import json\n",
    "body = json.loads(response.content)"
   ]
  },
  {
   "cell_type": "code",
   "execution_count": 45,
   "metadata": {},
   "outputs": [
    {
     "data": {
      "text/plain": [
       "[{'partnerId': 102,\n",
       "  'ks': 'djJ8MTAyfLaROGG88AgrzBX6uiNNqpNd-dyz3pr4_AE44Bf8UZmNEu9Xu0AUM2VxYqSAo4NpV0XaaKUsFwLF5hOmRhIxg2247G_1AT4DKJ8y8cp6yLqt',\n",
       "  'userId': 0,\n",
       "  'objectType': 'KalturaStartWidgetSessionResponse'},\n",
       " {'objects': [{'mediaType': 1,\n",
       "    'dataUrl': 'https://kmc.europarltv.europa.eu/p/102/sp/10200/playManifest/entryId/0_cn4txv2q/format/url/protocol/https',\n",
       "    'flavorParamsIds': '0,116,117,118,119,120',\n",
       "    'duration': 80,\n",
       "    'msDuration': 80000,\n",
       "    'id': '0_cn4txv2q',\n",
       "    'name': 'Plenary highlights: CAP, budget and a social security pass',\n",
       "    'description': 'Parliament gave the green light to the reform of the EU’s common agricultural policy and next year’s budget. MEPs discussed updating the Union’s pharmaceutical strategy and the introduction of a European Social Security Pass. They also asked why six EU countries are yet to ratify an international treaty on preventing violence against women.',\n",
       "    'tags': 'dropfolder, initial upload, 6672_492531',\n",
       "    'status': 2,\n",
       "    'type': 1,\n",
       "    'thumbnailUrl': 'https://kmc.europarltv.europa.eu/p/102/sp/10200/thumbnail/entry_id/0_cn4txv2q/version/100022',\n",
       "    'referenceId': '6672_492531',\n",
       "    'objectType': 'KalturaMediaEntry'}],\n",
       "  'totalCount': 1,\n",
       "  'objectType': 'KalturaBaseEntryListResponse'},\n",
       " {'sources': [{'deliveryProfileId': 1007,\n",
       "    'format': 'url',\n",
       "    'protocols': 'http,https',\n",
       "    'flavorIds': '0_a0jl1fgs,0_0z2x12t9,0_7ppffsqe,0_farx35yp,0_o933mekl',\n",
       "    'url': 'https://kmc.europarltv.europa.eu/p/102/sp/102/playManifest/entryId/0_cn4txv2q/flavorIds/0_a0jl1fgs,0_0z2x12t9,0_7ppffsqe,0_farx35yp,0_o933mekl/deliveryProfileId/1007/protocol/https/format/url/name/a.mp4',\n",
       "    'drm': [],\n",
       "    'objectType': 'KalturaPlaybackSource'},\n",
       "   {'deliveryProfileId': 1004,\n",
       "    'format': 'applehttp',\n",
       "    'protocols': 'http,https',\n",
       "    'flavorIds': '0_a0jl1fgs,0_0z2x12t9,0_7ppffsqe,0_farx35yp,0_o933mekl',\n",
       "    'url': 'https://kmc.europarltv.europa.eu/p/102/sp/102/playManifest/entryId/0_cn4txv2q/flavorIds/0_a0jl1fgs,0_0z2x12t9,0_7ppffsqe,0_farx35yp,0_o933mekl/deliveryProfileId/1004/protocol/https/format/applehttp/a.m3u8',\n",
       "    'drm': [],\n",
       "    'objectType': 'KalturaPlaybackSource'},\n",
       "   {'deliveryProfileId': 1006,\n",
       "    'format': 'hds',\n",
       "    'protocols': 'http,https',\n",
       "    'flavorIds': '0_a0jl1fgs,0_0z2x12t9,0_7ppffsqe,0_farx35yp,0_o933mekl',\n",
       "    'url': 'https://kmc.europarltv.europa.eu/p/102/sp/102/playManifest/entryId/0_cn4txv2q/flavorIds/0_a0jl1fgs,0_0z2x12t9,0_7ppffsqe,0_farx35yp,0_o933mekl/deliveryProfileId/1006/protocol/https/format/hds/a.f4m',\n",
       "    'drm': [],\n",
       "    'objectType': 'KalturaPlaybackSource'},\n",
       "   {'deliveryProfileId': 1005,\n",
       "    'format': 'mpegdash',\n",
       "    'protocols': 'http,https',\n",
       "    'flavorIds': '0_a0jl1fgs,0_0z2x12t9,0_7ppffsqe,0_farx35yp,0_o933mekl',\n",
       "    'url': 'https://kmc.europarltv.europa.eu/p/102/sp/102/playManifest/entryId/0_cn4txv2q/flavorIds/0_a0jl1fgs,0_0z2x12t9,0_7ppffsqe,0_farx35yp,0_o933mekl/deliveryProfileId/1005/protocol/https/format/mpegdash/manifest.mpd',\n",
       "    'drm': [],\n",
       "    'objectType': 'KalturaPlaybackSource'},\n",
       "   {'deliveryProfileId': 1002,\n",
       "    'format': 'hdnetworkmanifest',\n",
       "    'protocols': 'http,https',\n",
       "    'flavorIds': '0_a0jl1fgs,0_0z2x12t9,0_7ppffsqe,0_farx35yp,0_o933mekl',\n",
       "    'url': 'https://kmc.europarltv.europa.eu/p/102/sp/102/playManifest/entryId/0_cn4txv2q/flavorIds/0_a0jl1fgs,0_0z2x12t9,0_7ppffsqe,0_farx35yp,0_o933mekl/deliveryProfileId/1002/protocol/https/format/hdnetworkmanifest/manifest.f4m',\n",
       "    'drm': [],\n",
       "    'objectType': 'KalturaPlaybackSource'}],\n",
       "  'playbackCaptions': [{'format': '1',\n",
       "    'language': 'English',\n",
       "    'webVttUrl': 'https://kmc.europarltv.europa.eu/api_v3/index.php/service/caption_captionasset/action/serveWebVTT/captionAssetId/0_k0nepex6/segmentIndex/-1/version/2/captions.vtt',\n",
       "    'url': 'https://kmc.europarltv.europa.eu/api_v3/index.php/service/caption_captionAsset/action/serve/captionAssetId/0_k0nepex6/v/2',\n",
       "    'isDefault': True,\n",
       "    'languageCode': 'en',\n",
       "    'objectType': 'KalturaCaptionPlaybackPluginData'},\n",
       "   {'format': '1',\n",
       "    'language': 'German',\n",
       "    'webVttUrl': 'https://kmc.europarltv.europa.eu/api_v3/index.php/service/caption_captionasset/action/serveWebVTT/captionAssetId/0_0xqms43u/segmentIndex/-1/version/2/captions.vtt',\n",
       "    'url': 'https://kmc.europarltv.europa.eu/api_v3/index.php/service/caption_captionAsset/action/serve/captionAssetId/0_0xqms43u/v/2',\n",
       "    'languageCode': 'de',\n",
       "    'objectType': 'KalturaCaptionPlaybackPluginData'},\n",
       "   {'format': '1',\n",
       "    'language': 'French',\n",
       "    'webVttUrl': 'https://kmc.europarltv.europa.eu/api_v3/index.php/service/caption_captionasset/action/serveWebVTT/captionAssetId/0_c4hon1qz/segmentIndex/-1/version/2/captions.vtt',\n",
       "    'url': 'https://kmc.europarltv.europa.eu/api_v3/index.php/service/caption_captionAsset/action/serve/captionAssetId/0_c4hon1qz/v/2',\n",
       "    'languageCode': 'fr',\n",
       "    'objectType': 'KalturaCaptionPlaybackPluginData'},\n",
       "   {'format': '1',\n",
       "    'language': 'Italian',\n",
       "    'webVttUrl': 'https://kmc.europarltv.europa.eu/api_v3/index.php/service/caption_captionasset/action/serveWebVTT/captionAssetId/0_xnaslm5m/segmentIndex/-1/version/2/captions.vtt',\n",
       "    'url': 'https://kmc.europarltv.europa.eu/api_v3/index.php/service/caption_captionAsset/action/serve/captionAssetId/0_xnaslm5m/v/2',\n",
       "    'languageCode': 'it',\n",
       "    'objectType': 'KalturaCaptionPlaybackPluginData'},\n",
       "   {'format': '1',\n",
       "    'language': 'Spanish',\n",
       "    'webVttUrl': 'https://kmc.europarltv.europa.eu/api_v3/index.php/service/caption_captionasset/action/serveWebVTT/captionAssetId/0_qecujyx3/segmentIndex/-1/version/2/captions.vtt',\n",
       "    'url': 'https://kmc.europarltv.europa.eu/api_v3/index.php/service/caption_captionAsset/action/serve/captionAssetId/0_qecujyx3/v/2',\n",
       "    'languageCode': 'es',\n",
       "    'objectType': 'KalturaCaptionPlaybackPluginData'},\n",
       "   {'format': '1',\n",
       "    'language': 'Polish',\n",
       "    'webVttUrl': 'https://kmc.europarltv.europa.eu/api_v3/index.php/service/caption_captionasset/action/serveWebVTT/captionAssetId/0_l7p924km/segmentIndex/-1/version/2/captions.vtt',\n",
       "    'url': 'https://kmc.europarltv.europa.eu/api_v3/index.php/service/caption_captionAsset/action/serve/captionAssetId/0_l7p924km/v/2',\n",
       "    'languageCode': 'pl',\n",
       "    'objectType': 'KalturaCaptionPlaybackPluginData'},\n",
       "   {'format': '1',\n",
       "    'language': 'Romanian',\n",
       "    'webVttUrl': 'https://kmc.europarltv.europa.eu/api_v3/index.php/service/caption_captionasset/action/serveWebVTT/captionAssetId/0_tyo0mgqq/segmentIndex/-1/version/2/captions.vtt',\n",
       "    'url': 'https://kmc.europarltv.europa.eu/api_v3/index.php/service/caption_captionAsset/action/serve/captionAssetId/0_tyo0mgqq/v/2',\n",
       "    'languageCode': 'ro',\n",
       "    'objectType': 'KalturaCaptionPlaybackPluginData'},\n",
       "   {'format': '1',\n",
       "    'language': 'Dutch',\n",
       "    'webVttUrl': 'https://kmc.europarltv.europa.eu/api_v3/index.php/service/caption_captionasset/action/serveWebVTT/captionAssetId/0_2b0as7bm/segmentIndex/-1/version/2/captions.vtt',\n",
       "    'url': 'https://kmc.europarltv.europa.eu/api_v3/index.php/service/caption_captionAsset/action/serve/captionAssetId/0_2b0as7bm/v/2',\n",
       "    'languageCode': 'nl',\n",
       "    'objectType': 'KalturaCaptionPlaybackPluginData'},\n",
       "   {'format': '1',\n",
       "    'language': 'Hungarian',\n",
       "    'webVttUrl': 'https://kmc.europarltv.europa.eu/api_v3/index.php/service/caption_captionasset/action/serveWebVTT/captionAssetId/0_tnqrlqq5/segmentIndex/-1/version/2/captions.vtt',\n",
       "    'url': 'https://kmc.europarltv.europa.eu/api_v3/index.php/service/caption_captionAsset/action/serve/captionAssetId/0_tnqrlqq5/v/2',\n",
       "    'languageCode': 'hu',\n",
       "    'objectType': 'KalturaCaptionPlaybackPluginData'},\n",
       "   {'format': '1',\n",
       "    'language': 'Portuguese',\n",
       "    'webVttUrl': 'https://kmc.europarltv.europa.eu/api_v3/index.php/service/caption_captionasset/action/serveWebVTT/captionAssetId/0_iw23q8gg/segmentIndex/-1/version/2/captions.vtt',\n",
       "    'url': 'https://kmc.europarltv.europa.eu/api_v3/index.php/service/caption_captionAsset/action/serve/captionAssetId/0_iw23q8gg/v/2',\n",
       "    'languageCode': 'pt',\n",
       "    'objectType': 'KalturaCaptionPlaybackPluginData'},\n",
       "   {'format': '1',\n",
       "    'language': 'Greek',\n",
       "    'webVttUrl': 'https://kmc.europarltv.europa.eu/api_v3/index.php/service/caption_captionasset/action/serveWebVTT/captionAssetId/0_9fhu07mw/segmentIndex/-1/version/2/captions.vtt',\n",
       "    'url': 'https://kmc.europarltv.europa.eu/api_v3/index.php/service/caption_captionAsset/action/serve/captionAssetId/0_9fhu07mw/v/2',\n",
       "    'languageCode': 'el',\n",
       "    'objectType': 'KalturaCaptionPlaybackPluginData'},\n",
       "   {'format': '1',\n",
       "    'language': 'Swedish',\n",
       "    'webVttUrl': 'https://kmc.europarltv.europa.eu/api_v3/index.php/service/caption_captionasset/action/serveWebVTT/captionAssetId/0_6ct736lo/segmentIndex/-1/version/2/captions.vtt',\n",
       "    'url': 'https://kmc.europarltv.europa.eu/api_v3/index.php/service/caption_captionAsset/action/serve/captionAssetId/0_6ct736lo/v/2',\n",
       "    'languageCode': 'sv',\n",
       "    'objectType': 'KalturaCaptionPlaybackPluginData'},\n",
       "   {'format': '1',\n",
       "    'language': 'Czech',\n",
       "    'webVttUrl': 'https://kmc.europarltv.europa.eu/api_v3/index.php/service/caption_captionasset/action/serveWebVTT/captionAssetId/0_kvt1fsm7/segmentIndex/-1/version/2/captions.vtt',\n",
       "    'url': 'https://kmc.europarltv.europa.eu/api_v3/index.php/service/caption_captionAsset/action/serve/captionAssetId/0_kvt1fsm7/v/2',\n",
       "    'languageCode': 'cs',\n",
       "    'objectType': 'KalturaCaptionPlaybackPluginData'},\n",
       "   {'format': '1',\n",
       "    'language': 'Bulgarian',\n",
       "    'webVttUrl': 'https://kmc.europarltv.europa.eu/api_v3/index.php/service/caption_captionasset/action/serveWebVTT/captionAssetId/0_wwri3309/segmentIndex/-1/version/2/captions.vtt',\n",
       "    'url': 'https://kmc.europarltv.europa.eu/api_v3/index.php/service/caption_captionAsset/action/serve/captionAssetId/0_wwri3309/v/2',\n",
       "    'languageCode': 'bg',\n",
       "    'objectType': 'KalturaCaptionPlaybackPluginData'},\n",
       "   {'format': '1',\n",
       "    'language': 'Slovak',\n",
       "    'webVttUrl': 'https://kmc.europarltv.europa.eu/api_v3/index.php/service/caption_captionasset/action/serveWebVTT/captionAssetId/0_vaq4vzvt/segmentIndex/-1/version/2/captions.vtt',\n",
       "    'url': 'https://kmc.europarltv.europa.eu/api_v3/index.php/service/caption_captionAsset/action/serve/captionAssetId/0_vaq4vzvt/v/2',\n",
       "    'languageCode': 'sk',\n",
       "    'objectType': 'KalturaCaptionPlaybackPluginData'},\n",
       "   {'format': '1',\n",
       "    'language': 'Danish',\n",
       "    'webVttUrl': 'https://kmc.europarltv.europa.eu/api_v3/index.php/service/caption_captionasset/action/serveWebVTT/captionAssetId/0_onaubx0d/segmentIndex/-1/version/2/captions.vtt',\n",
       "    'url': 'https://kmc.europarltv.europa.eu/api_v3/index.php/service/caption_captionAsset/action/serve/captionAssetId/0_onaubx0d/v/2',\n",
       "    'languageCode': 'da',\n",
       "    'objectType': 'KalturaCaptionPlaybackPluginData'},\n",
       "   {'format': '1',\n",
       "    'language': 'Finnish',\n",
       "    'webVttUrl': 'https://kmc.europarltv.europa.eu/api_v3/index.php/service/caption_captionasset/action/serveWebVTT/captionAssetId/0_npr2a65f/segmentIndex/-1/version/2/captions.vtt',\n",
       "    'url': 'https://kmc.europarltv.europa.eu/api_v3/index.php/service/caption_captionAsset/action/serve/captionAssetId/0_npr2a65f/v/2',\n",
       "    'languageCode': 'fi',\n",
       "    'objectType': 'KalturaCaptionPlaybackPluginData'},\n",
       "   {'format': '1',\n",
       "    'language': 'Lithuanian',\n",
       "    'webVttUrl': 'https://kmc.europarltv.europa.eu/api_v3/index.php/service/caption_captionasset/action/serveWebVTT/captionAssetId/0_o0ncwn12/segmentIndex/-1/version/2/captions.vtt',\n",
       "    'url': 'https://kmc.europarltv.europa.eu/api_v3/index.php/service/caption_captionAsset/action/serve/captionAssetId/0_o0ncwn12/v/2',\n",
       "    'languageCode': 'lt',\n",
       "    'objectType': 'KalturaCaptionPlaybackPluginData'},\n",
       "   {'format': '1',\n",
       "    'language': 'Slovenian',\n",
       "    'webVttUrl': 'https://kmc.europarltv.europa.eu/api_v3/index.php/service/caption_captionasset/action/serveWebVTT/captionAssetId/0_ydrzkvv4/segmentIndex/-1/version/2/captions.vtt',\n",
       "    'url': 'https://kmc.europarltv.europa.eu/api_v3/index.php/service/caption_captionAsset/action/serve/captionAssetId/0_ydrzkvv4/v/2',\n",
       "    'languageCode': 'sl',\n",
       "    'objectType': 'KalturaCaptionPlaybackPluginData'},\n",
       "   {'format': '1',\n",
       "    'language': 'Estonian',\n",
       "    'webVttUrl': 'https://kmc.europarltv.europa.eu/api_v3/index.php/service/caption_captionasset/action/serveWebVTT/captionAssetId/0_w6j7jzlm/segmentIndex/-1/version/2/captions.vtt',\n",
       "    'url': 'https://kmc.europarltv.europa.eu/api_v3/index.php/service/caption_captionAsset/action/serve/captionAssetId/0_w6j7jzlm/v/2',\n",
       "    'languageCode': 'et',\n",
       "    'objectType': 'KalturaCaptionPlaybackPluginData'},\n",
       "   {'format': '1',\n",
       "    'language': 'Croatian',\n",
       "    'webVttUrl': 'https://kmc.europarltv.europa.eu/api_v3/index.php/service/caption_captionasset/action/serveWebVTT/captionAssetId/0_hhy2f2m9/segmentIndex/-1/version/2/captions.vtt',\n",
       "    'url': 'https://kmc.europarltv.europa.eu/api_v3/index.php/service/caption_captionAsset/action/serve/captionAssetId/0_hhy2f2m9/v/2',\n",
       "    'languageCode': 'hr',\n",
       "    'objectType': 'KalturaCaptionPlaybackPluginData'},\n",
       "   {'format': '1',\n",
       "    'language': 'Irish',\n",
       "    'webVttUrl': 'https://kmc.europarltv.europa.eu/api_v3/index.php/service/caption_captionasset/action/serveWebVTT/captionAssetId/0_fll1iin9/segmentIndex/-1/version/2/captions.vtt',\n",
       "    'url': 'https://kmc.europarltv.europa.eu/api_v3/index.php/service/caption_captionAsset/action/serve/captionAssetId/0_fll1iin9/v/2',\n",
       "    'languageCode': 'ga',\n",
       "    'objectType': 'KalturaCaptionPlaybackPluginData'},\n",
       "   {'label': 'Latvian',\n",
       "    'format': '1',\n",
       "    'language': 'Latvian (Lettish)',\n",
       "    'webVttUrl': 'https://kmc.europarltv.europa.eu/api_v3/index.php/service/caption_captionasset/action/serveWebVTT/captionAssetId/0_ffqm35n6/segmentIndex/-1/version/2/captions.vtt',\n",
       "    'url': 'https://kmc.europarltv.europa.eu/api_v3/index.php/service/caption_captionAsset/action/serve/captionAssetId/0_ffqm35n6/v/2',\n",
       "    'languageCode': 'lv',\n",
       "    'objectType': 'KalturaCaptionPlaybackPluginData'},\n",
       "   {'format': '1',\n",
       "    'language': 'Maltese',\n",
       "    'webVttUrl': 'https://kmc.europarltv.europa.eu/api_v3/index.php/service/caption_captionasset/action/serveWebVTT/captionAssetId/0_8b0itzsi/segmentIndex/-1/version/2/captions.vtt',\n",
       "    'url': 'https://kmc.europarltv.europa.eu/api_v3/index.php/service/caption_captionAsset/action/serve/captionAssetId/0_8b0itzsi/v/2',\n",
       "    'languageCode': 'mt',\n",
       "    'objectType': 'KalturaCaptionPlaybackPluginData'}],\n",
       "  'flavorAssets': [{'flavorParamsId': 116,\n",
       "    'width': 640,\n",
       "    'height': 360,\n",
       "    'bitrate': 453,\n",
       "    'frameRate': 25,\n",
       "    'isOriginal': False,\n",
       "    'isWeb': True,\n",
       "    'containerFormat': 'isom',\n",
       "    'videoCodecId': 'avc1',\n",
       "    'status': 2,\n",
       "    'language': 'Undefined',\n",
       "    'isDefault': False,\n",
       "    'id': '0_a0jl1fgs',\n",
       "    'entryId': '0_cn4txv2q',\n",
       "    'partnerId': 102,\n",
       "    'version': '2',\n",
       "    'size': 4474,\n",
       "    'tags': 'mobile,web,mbr,iphonenew,dash',\n",
       "    'fileExt': 'mp4',\n",
       "    'createdAt': 1637853199,\n",
       "    'updatedAt': 1637853229,\n",
       "    'description': '',\n",
       "    'objectType': 'KalturaFlavorAsset'},\n",
       "   {'flavorParamsId': 117,\n",
       "    'width': 640,\n",
       "    'height': 360,\n",
       "    'bitrate': 788,\n",
       "    'frameRate': 25,\n",
       "    'isOriginal': False,\n",
       "    'isWeb': True,\n",
       "    'containerFormat': 'isom',\n",
       "    'videoCodecId': 'avc1',\n",
       "    'status': 2,\n",
       "    'language': 'Undefined',\n",
       "    'isDefault': False,\n",
       "    'id': '0_0z2x12t9',\n",
       "    'entryId': '0_cn4txv2q',\n",
       "    'partnerId': 102,\n",
       "    'version': '2',\n",
       "    'size': 7782,\n",
       "    'tags': 'mobile,web,mbr,iphonenew,dash',\n",
       "    'fileExt': 'mp4',\n",
       "    'createdAt': 1637853199,\n",
       "    'updatedAt': 1637853228,\n",
       "    'description': 'audio warnings: 2106,#Redundant bitrate.\\n',\n",
       "    'objectType': 'KalturaFlavorAsset'},\n",
       "   {'flavorParamsId': 118,\n",
       "    'width': 1024,\n",
       "    'height': 576,\n",
       "    'bitrate': 1402,\n",
       "    'frameRate': 25,\n",
       "    'isOriginal': False,\n",
       "    'isWeb': True,\n",
       "    'containerFormat': 'isom',\n",
       "    'videoCodecId': 'avc1',\n",
       "    'status': 2,\n",
       "    'language': 'Undefined',\n",
       "    'isDefault': False,\n",
       "    'id': '0_7ppffsqe',\n",
       "    'entryId': '0_cn4txv2q',\n",
       "    'partnerId': 102,\n",
       "    'version': '2',\n",
       "    'size': 13824,\n",
       "    'tags': 'mobile,web,mbr,iphonenew,dash',\n",
       "    'fileExt': 'mp4',\n",
       "    'createdAt': 1637853199,\n",
       "    'updatedAt': 1637853243,\n",
       "    'description': 'audio warnings: 2106,#Redundant bitrate.\\n',\n",
       "    'objectType': 'KalturaFlavorAsset'},\n",
       "   {'flavorParamsId': 119,\n",
       "    'width': 1280,\n",
       "    'height': 720,\n",
       "    'bitrate': 2421,\n",
       "    'frameRate': 25,\n",
       "    'isOriginal': False,\n",
       "    'isWeb': True,\n",
       "    'containerFormat': 'isom',\n",
       "    'videoCodecId': 'avc1',\n",
       "    'status': 2,\n",
       "    'language': 'Undefined',\n",
       "    'isDefault': False,\n",
       "    'id': '0_farx35yp',\n",
       "    'entryId': '0_cn4txv2q',\n",
       "    'partnerId': 102,\n",
       "    'version': '2',\n",
       "    'size': 23961,\n",
       "    'tags': 'mobile,web,mbr,iphonenew,dash',\n",
       "    'fileExt': 'mp4',\n",
       "    'createdAt': 1637853199,\n",
       "    'updatedAt': 1637853292,\n",
       "    'description': '',\n",
       "    'objectType': 'KalturaFlavorAsset'},\n",
       "   {'flavorParamsId': 120,\n",
       "    'width': 1920,\n",
       "    'height': 1080,\n",
       "    'bitrate': 3790,\n",
       "    'frameRate': 25,\n",
       "    'isOriginal': False,\n",
       "    'isWeb': True,\n",
       "    'containerFormat': 'isom',\n",
       "    'videoCodecId': 'avc1',\n",
       "    'status': 2,\n",
       "    'language': 'Undefined',\n",
       "    'isDefault': False,\n",
       "    'id': '0_o933mekl',\n",
       "    'entryId': '0_cn4txv2q',\n",
       "    'partnerId': 102,\n",
       "    'version': '2',\n",
       "    'size': 37478,\n",
       "    'tags': 'mobile,web,mbr,iphonenew,dash',\n",
       "    'fileExt': 'mp4',\n",
       "    'createdAt': 1637853199,\n",
       "    'updatedAt': 1637853340,\n",
       "    'description': 'audio warnings: 2106,#Redundant bitrate.\\n',\n",
       "    'objectType': 'KalturaFlavorAsset'}],\n",
       "  'actions': [],\n",
       "  'messages': [],\n",
       "  'objectType': 'KalturaPlaybackContext'},\n",
       " {'objects': [{'id': 70719,\n",
       "    'partnerId': 102,\n",
       "    'metadataProfileId': 8,\n",
       "    'metadataProfileVersion': 2,\n",
       "    'metadataObjectType': 1,\n",
       "    'objectId': '0_cn4txv2q',\n",
       "    'version': 32,\n",
       "    'createdAt': 1637853149,\n",
       "    'updatedAt': 1637853149,\n",
       "    'status': 1,\n",
       "    'xml': '<metadata><WatermarkImageEntry>0_ynf6zczg</WatermarkImageEntry></metadata>',\n",
       "    'objectType': 'KalturaMetadata'},\n",
       "   {'id': 70720,\n",
       "    'partnerId': 102,\n",
       "    'metadataProfileId': 6,\n",
       "    'metadataProfileVersion': 2,\n",
       "    'metadataObjectType': 1,\n",
       "    'objectId': '0_cn4txv2q',\n",
       "    'version': 12,\n",
       "    'createdAt': 1637853483,\n",
       "    'updatedAt': 1637872239,\n",
       "    'status': 1,\n",
       "    'xml': '<metadata> <Title_en>Plenary highlights: CAP, budget and a social security pass</Title_en>  <Title_de>Highlights der Plenartagung: GAP, Haushalt und Sozialversicherungspass</Title_de>  <Title_fr>Points importants de la session plénière\\xa0: PAC, budget et «\\xa0passe\\xa0» de sécurité sociale</Title_fr>  <Title_it>Plenaria, punti salienti: PAC, bilancio e tessera di sicurezza sociale</Title_it>  <Title_es>Temas candentes en el Pleno: la PAC, el presupuesto de 2022 y la Tarjeta Sanitaria Europea</Title_es>  <Title_pl>Najważniejsze wydarzenia z sesji plenarnej: WPR, budżet i paszport ubezpieczeń społecznych</Title_pl>  <Title_ro>Repere în plen: PAC, bugetul și permisul de securitate socială</Title_ro>  <Title_nl>Hoogtepunten plenaire zitting: GLB, begroting en socialezekerheidspas</Title_nl>  <Title_hu>A plenáris ülés fő pillanatai: KAP, költségvetés és társ.bizt. kártya</Title_hu>  <Title_pt>Destaques do plenário: PAC, orçamento e passe de segurança social</Title_pt>  <Title_el>Βασικά σημεία της ολομέλειας: ΚΓΠ, προϋπολογισμός και διαβατήριο κοινωνικής ασφάλισης</Title_el>  <Title_sv>Höjdpunkter från plenarsammanträdet: GJP, budgeten och ett europeiskt socialförsäkringskort</Title_sv>  <Title_cs>Hlavní body plenárního zasedání: SZP, rozpočet a pas sociálního zabezpečení</Title_cs>  <Title_bg>Акценти от пленарната сесия: ОСП, бюджет и документ за социално осигуряване</Title_bg>  <Title_sk>Zásadné body plenárneho zasadnutia: SPP, rozpočet a\\xa0pas sociálneho zabezpečenia</Title_sk>  <Title_da>Højdepunkter fra plenarmødet: Den fælles landbrugspolitik, budget og et sygesikringspas</Title_da>  <Title_fi>Täysistunnon kohokohdat: YMP, budjetti ja sosiaaliturvapassi</Title_fi>  <Title_lt>Plenariniame posėdyje: BŽŪP, biudžetas ir socialinės apsaugos leidimas</Title_lt>  <Title_sl>Poudarki s plenarne seje: SKP, proračun in izkaznica za socialno varnost</Title_sl>  <Title_et>Tipphetked täiskogult: ÜPP, eelarve ja sotsiaalkindlustuspass</Title_et>  <Title_hr>Plenarne vijesti: ZPP, proračun i propusnica socijalne sigurnosti</Title_hr>  <Title_ga>Príomhphointí an tseisiúin iomlánaigh: CBT, buiséad agus pas slándála sóisialta</Title_ga>  <Title_lv>Plenārsesijas nozīmīgākie jautājumi: KLP, budžets un sociālā nodrošinājuma karte</Title_lv>  <Title_mt>Punti ewlenin mis-sessjoni plenarja: PAK, baġit, u pass tas-sigurtà soċjali</Title_mt> </metadata>',\n",
       "    'objectType': 'KalturaMetadata'}],\n",
       "  'totalCount': 2,\n",
       "  'objectType': 'KalturaMetadataListResponse'}]"
      ]
     },
     "execution_count": 45,
     "metadata": {},
     "output_type": "execute_result"
    }
   ],
   "source": [
    "body"
   ]
  },
  {
   "cell_type": "code",
   "execution_count": 67,
   "metadata": {},
   "outputs": [],
   "source": [
    "def get_subtitles(body):\n",
    "    subtitles = {}\n",
    "    for part in body:\n",
    "        if 'playbackCaptions' in part:\n",
    "            for subtitle in part['playbackCaptions']:\n",
    "                if 'languageCode' in subtitle:\n",
    "                    lang_code = subtitle['languageCode']\n",
    "                else:\n",
    "                    lang_code = None\n",
    "                if 'webVttUrl' in subtitle:\n",
    "                    webvtt = subtitle['webVttUrl']\n",
    "                else:\n",
    "                    webvtt = None\n",
    "                if webvtt is not None and lang_code is not None:\n",
    "                    subtitles[lang_code] = webvtt\n",
    "            else:\n",
    "                continue\n",
    "    return subtitles"
   ]
  },
  {
   "cell_type": "code",
   "execution_count": 68,
   "metadata": {},
   "outputs": [
    {
     "data": {
      "text/plain": [
       "{'en': 'https://kmc.europarltv.europa.eu/api_v3/index.php/service/caption_captionasset/action/serveWebVTT/captionAssetId/0_k0nepex6/segmentIndex/-1/version/2/captions.vtt',\n",
       " 'de': 'https://kmc.europarltv.europa.eu/api_v3/index.php/service/caption_captionasset/action/serveWebVTT/captionAssetId/0_0xqms43u/segmentIndex/-1/version/2/captions.vtt',\n",
       " 'fr': 'https://kmc.europarltv.europa.eu/api_v3/index.php/service/caption_captionasset/action/serveWebVTT/captionAssetId/0_c4hon1qz/segmentIndex/-1/version/2/captions.vtt',\n",
       " 'it': 'https://kmc.europarltv.europa.eu/api_v3/index.php/service/caption_captionasset/action/serveWebVTT/captionAssetId/0_xnaslm5m/segmentIndex/-1/version/2/captions.vtt',\n",
       " 'es': 'https://kmc.europarltv.europa.eu/api_v3/index.php/service/caption_captionasset/action/serveWebVTT/captionAssetId/0_qecujyx3/segmentIndex/-1/version/2/captions.vtt',\n",
       " 'pl': 'https://kmc.europarltv.europa.eu/api_v3/index.php/service/caption_captionasset/action/serveWebVTT/captionAssetId/0_l7p924km/segmentIndex/-1/version/2/captions.vtt',\n",
       " 'ro': 'https://kmc.europarltv.europa.eu/api_v3/index.php/service/caption_captionasset/action/serveWebVTT/captionAssetId/0_tyo0mgqq/segmentIndex/-1/version/2/captions.vtt',\n",
       " 'nl': 'https://kmc.europarltv.europa.eu/api_v3/index.php/service/caption_captionasset/action/serveWebVTT/captionAssetId/0_2b0as7bm/segmentIndex/-1/version/2/captions.vtt',\n",
       " 'hu': 'https://kmc.europarltv.europa.eu/api_v3/index.php/service/caption_captionasset/action/serveWebVTT/captionAssetId/0_tnqrlqq5/segmentIndex/-1/version/2/captions.vtt',\n",
       " 'pt': 'https://kmc.europarltv.europa.eu/api_v3/index.php/service/caption_captionasset/action/serveWebVTT/captionAssetId/0_iw23q8gg/segmentIndex/-1/version/2/captions.vtt',\n",
       " 'el': 'https://kmc.europarltv.europa.eu/api_v3/index.php/service/caption_captionasset/action/serveWebVTT/captionAssetId/0_9fhu07mw/segmentIndex/-1/version/2/captions.vtt',\n",
       " 'sv': 'https://kmc.europarltv.europa.eu/api_v3/index.php/service/caption_captionasset/action/serveWebVTT/captionAssetId/0_6ct736lo/segmentIndex/-1/version/2/captions.vtt',\n",
       " 'cs': 'https://kmc.europarltv.europa.eu/api_v3/index.php/service/caption_captionasset/action/serveWebVTT/captionAssetId/0_kvt1fsm7/segmentIndex/-1/version/2/captions.vtt',\n",
       " 'bg': 'https://kmc.europarltv.europa.eu/api_v3/index.php/service/caption_captionasset/action/serveWebVTT/captionAssetId/0_wwri3309/segmentIndex/-1/version/2/captions.vtt',\n",
       " 'sk': 'https://kmc.europarltv.europa.eu/api_v3/index.php/service/caption_captionasset/action/serveWebVTT/captionAssetId/0_vaq4vzvt/segmentIndex/-1/version/2/captions.vtt',\n",
       " 'da': 'https://kmc.europarltv.europa.eu/api_v3/index.php/service/caption_captionasset/action/serveWebVTT/captionAssetId/0_onaubx0d/segmentIndex/-1/version/2/captions.vtt',\n",
       " 'fi': 'https://kmc.europarltv.europa.eu/api_v3/index.php/service/caption_captionasset/action/serveWebVTT/captionAssetId/0_npr2a65f/segmentIndex/-1/version/2/captions.vtt',\n",
       " 'lt': 'https://kmc.europarltv.europa.eu/api_v3/index.php/service/caption_captionasset/action/serveWebVTT/captionAssetId/0_o0ncwn12/segmentIndex/-1/version/2/captions.vtt',\n",
       " 'sl': 'https://kmc.europarltv.europa.eu/api_v3/index.php/service/caption_captionasset/action/serveWebVTT/captionAssetId/0_ydrzkvv4/segmentIndex/-1/version/2/captions.vtt',\n",
       " 'et': 'https://kmc.europarltv.europa.eu/api_v3/index.php/service/caption_captionasset/action/serveWebVTT/captionAssetId/0_w6j7jzlm/segmentIndex/-1/version/2/captions.vtt',\n",
       " 'hr': 'https://kmc.europarltv.europa.eu/api_v3/index.php/service/caption_captionasset/action/serveWebVTT/captionAssetId/0_hhy2f2m9/segmentIndex/-1/version/2/captions.vtt',\n",
       " 'ga': 'https://kmc.europarltv.europa.eu/api_v3/index.php/service/caption_captionasset/action/serveWebVTT/captionAssetId/0_fll1iin9/segmentIndex/-1/version/2/captions.vtt',\n",
       " 'lv': 'https://kmc.europarltv.europa.eu/api_v3/index.php/service/caption_captionasset/action/serveWebVTT/captionAssetId/0_ffqm35n6/segmentIndex/-1/version/2/captions.vtt',\n",
       " 'mt': 'https://kmc.europarltv.europa.eu/api_v3/index.php/service/caption_captionasset/action/serveWebVTT/captionAssetId/0_8b0itzsi/segmentIndex/-1/version/2/captions.vtt'}"
      ]
     },
     "execution_count": 68,
     "metadata": {},
     "output_type": "execute_result"
    }
   ],
   "source": [
    "reque"
   ]
  }
 ],
 "metadata": {
  "kernelspec": {
   "display_name": "Python 3",
   "language": "python",
   "name": "python3"
  },
  "language_info": {
   "codemirror_mode": {
    "name": "ipython",
    "version": 3
   },
   "file_extension": ".py",
   "mimetype": "text/x-python",
   "name": "python",
   "nbconvert_exporter": "python",
   "pygments_lexer": "ipython3",
   "version": "3.6.9"
  }
 },
 "nbformat": 4,
 "nbformat_minor": 2
}
