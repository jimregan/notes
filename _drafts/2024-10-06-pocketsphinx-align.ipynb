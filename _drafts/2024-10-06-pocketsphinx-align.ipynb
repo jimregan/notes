{
 "cells": [
  {
   "cell_type": "markdown",
   "metadata": {},
   "source": [
    "# Trying to use pocketsphinx to word align\n",
    "\n",
    "> \"Because timing accuracy in ASR is getting progressively worse, look backwards\"\n",
    "\n",
    "- branch: master\n",
    "- comments: false\n",
    "- categories: [pocketsphinx, hsi, alignment]"
   ]
  },
  {
   "cell_type": "code",
   "execution_count": 1,
   "metadata": {},
   "outputs": [],
   "source": [
    "from pydub import AudioSegment\n",
    "import pocketsphinx\n",
    "import tempfile"
   ]
  },
  {
   "cell_type": "code",
   "execution_count": 2,
   "metadata": {},
   "outputs": [],
   "source": [
    "MAPPING = \"\"\"\n",
    "ɑː AA\n",
    "æ AE\n",
    "ə AH\n",
    "ɐ AH\n",
    "ʌ AH\n",
    "ɔː AO\n",
    "aʊ AW\n",
    "aɪ AY\n",
    "b B\n",
    "tʃ CH\n",
    "d D\n",
    "ð DH\n",
    "ɛ EH\n",
    "ɚ ER\n",
    "ɜː ER\n",
    "eɪ EY\n",
    "f F\n",
    "ɡ G\n",
    "h HH\n",
    "ɪ IH\n",
    "i IY\n",
    "iː IY\n",
    "dʒ JH\n",
    "k K\n",
    "l L\n",
    "m M\n",
    "n N\n",
    "ŋ NG\n",
    "oʊ OW\n",
    "ɔɪ OY\n",
    "p P\n",
    "ɹ R\n",
    "s S\n",
    "ʃ SH\n",
    "t T\n",
    "θ TH\n",
    "ʊ UH\n",
    "uː UW\n",
    "v V\n",
    "w W\n",
    "j Y\n",
    "z Z\n",
    "ʒ ZH\n",
    "ɾ D\n",
    "\"\"\""
   ]
  },
  {
   "cell_type": "code",
   "execution_count": 3,
   "metadata": {},
   "outputs": [],
   "source": [
    "espeak_to_cmudict = {}\n",
    "for line in MAPPING.split(\"\\n\"):\n",
    "    if line == \"\":\n",
    "        continue\n",
    "    line = line.strip()\n",
    "    parts = line.split(\" \")\n",
    "\n",
    "    if len(parts) != 2:\n",
    "        print(line)\n",
    "        continue\n",
    "    k, v = line.split(\" \")\n",
    "    if not k in espeak_to_cmudict:\n",
    "        espeak_to_cmudict[k] = v\n",
    "    "
   ]
  },
  {
   "cell_type": "code",
   "execution_count": 4,
   "metadata": {},
   "outputs": [],
   "source": [
    "import re\n",
    "\n",
    "cmudict_keys = espeak_to_cmudict.keys()\n",
    "cmudict_keys = sorted(cmudict_keys, key=len, reverse=True)\n",
    "espeak_regex = re.compile(rf\"({'|'.join(cmudict_keys)})\")\n",
    "\n",
    "def cmudictify(espeak):\n",
    "    espeak = espeak.replace(\"ˈ\", \"\").replace(\"ˌ\", \"\")\n",
    "    return \" \".join([espeak_to_cmudict[x] for x in re.findall(espeak_regex, espeak)])"
   ]
  },
  {
   "cell_type": "code",
   "execution_count": 46,
   "metadata": {},
   "outputs": [],
   "source": [
    "text = \"Yeah, that's true. I mean, they are the same size and they are a little bit, but I think I I should go more for something that style.\"\n",
    "phones = \"/jˈæ ðˈæs tɹˈuː ə mˈiːn ðˈeɪ ɚ ðə sˈeɪm sˈaɪz ən ðˈeɪ ɚ ə lˈɪɾə bˈɪɾ bˈʌt ˈaɪ θˈɪŋk ˈaɪ ˈaɪ ʃˈʊ ɡˈoʊ mˈɔːɹ fɚ sˈʌmθɪŋ ðˈæt stˈaɪl./\"\n",
    "EGFILE = \"/Users/joregan/Playing/hsi/audio/hsi_5_0718_211_002_main.wav\"\n",
    "EGSTART = 70.028\n",
    "EGEND = 75.441"
   ]
  },
  {
   "cell_type": "code",
   "execution_count": null,
   "metadata": {},
   "outputs": [],
   "source": [
    "text = \"no it's a cheetah, ah, yes it's a cheetah ah and, uh, that one is from, uh, India and, uh, it's really\"\n",
    "phones = \"/nˈoʊ ɪts ɐ tʃˈiːt ˈɑːɛ jˈɑs ɪts ɐ tʃˈiːtə ˈɑː ænd ˈɛ ðˈæt wˌʌn ɪz fɹˈɑːm ˈɛ ˈɪndiæ ænd ˈɛ ɪts ɹˈili/\"\n",
    "EGFILE = \"/Users/joregan/Playing/hsi/audio/hsi_7_0719_210_001_main.wav\"\n",
    "\n",
    "EGTEXT2 = \"So it was standing somewhere in the middle of the room and it was flying around.\"\n",
    "EGSTART2 = 122.709\n",
    "EGEND2 = 126.344"
   ]
  },
  {
   "cell_type": "code",
   "execution_count": 7,
   "metadata": {},
   "outputs": [],
   "source": [
    "def normword(text):\n",
    "    text = text.strip(\",.;:!?\")\n",
    "    return text.lower()\n",
    "\n",
    "def normphon(phon):\n",
    "    phon = phon.strip(\",.;:!?\")\n",
    "    return phon\n",
    "\n",
    "def make_lexicon(text, phon):\n",
    "    if phon.startswith(\"/\") and phon.endswith(\"/\"):\n",
    "        phon = phon[1:-1]\n",
    "    words = [normword(x) for x in text.split(\" \")]\n",
    "    phonwords = [cmudictify(normphon(x)) for x in phon.split(\" \")]\n",
    "    assert len(words) == len(phonwords)\n",
    "    output = list(set(zip(words, phonwords)))\n",
    "    return output\n",
    "    "
   ]
  },
  {
   "cell_type": "code",
   "execution_count": 12,
   "metadata": {},
   "outputs": [],
   "source": [
    "def make_ps_dict(entries):\n",
    "    counts = {}\n",
    "    output = []\n",
    "    lex = sorted(entries)\n",
    "    for entry in lex:\n",
    "        count = 1\n",
    "        if not entry[0] in counts:\n",
    "            counts[entry[0]] = 1\n",
    "        else:\n",
    "            counts[entry[0]] += 1\n",
    "            count = counts[entry[0]]\n",
    "        if count != 1:\n",
    "            subscript = f\"({count})\"\n",
    "        else:\n",
    "            subscript = \"\"\n",
    "        output.append(f\"{entry[0]}{subscript} {entry[1]}\")\n",
    "    return output"
   ]
  },
  {
   "cell_type": "code",
   "execution_count": 13,
   "metadata": {},
   "outputs": [],
   "source": [
    "def make_fsg_transitions_from_text(text):\n",
    "    words = [normword(x) for x in text.split(\" \")]\n",
    "    enum = [x for x in enumerate(words)]\n",
    "    trans = [(x[0], x[0] + 1, 1.0, x[1]) for x in enum]\n",
    "    return trans"
   ]
  },
  {
   "cell_type": "code",
   "execution_count": null,
   "metadata": {},
   "outputs": [],
   "source": [
    "audio = AudioSegment.from_file(EGFILE)\n",
    "audio = audio.set_frame_rate(16000)"
   ]
  },
  {
   "cell_type": "code",
   "execution_count": 29,
   "metadata": {},
   "outputs": [],
   "source": [
    "def align_with_pocketsphinx(text, phones, audio, start, end):\n",
    "    lex = make_lexicon(text, phones)\n",
    "    entries = make_ps_dict(lex)\n",
    "    segments = []\n",
    "\n",
    "    with (\n",
    "        tempfile.NamedTemporaryFile(suffix=\".dict\") as dictf,\n",
    "        tempfile.NamedTemporaryFile(suffix=\".wav\") as wavf,\n",
    "    ):\n",
    "\n",
    "        with open(dictf.name, \"w\") as dictout:\n",
    "            for entry in entries:\n",
    "                dictout.write(entry + \"\\n\")\n",
    "\n",
    "        audioseg = audio[int(start * 1000):int(end * 1000)]\n",
    "        audioseg.export(wavf.name, format=\"wav\", parameters=[\"-ac\", \"1\", \"-acodec\", \"pcm_s16le\", \"-ar\", \"16000\"])\n",
    "\n",
    "\n",
    "        fsgt = make_fsg_transitions_from_text(text)\n",
    "        start_state = fsgt[0][0]\n",
    "        end_state = fsgt[-1][1]\n",
    "\n",
    "        decoder = pocketsphinx.Decoder(lm=None, dict=dictf.name)\n",
    "        fsg = decoder.create_fsg(\"dummy\", start_state, end_state, fsgt)\n",
    "        decoder.add_fsg(\"dummy\", fsg)\n",
    "        decoder.activate_search(\"dummy\")\n",
    "        decoder.start_utt()\n",
    "        # decoder.process_raw(seg.get_array_of_samples('B'))\n",
    "        decoder.process_raw(wavf.read(), full_utt=True)\n",
    "        decoder.end_utt()\n",
    "        for seg in decoder.seg():\n",
    "            segments.append({\n",
    "                \"word\": seg.word,\n",
    "                \"start_frame\": seg.start_frame,\n",
    "                \"end_frame\": seg.end_frame\n",
    "            })\n",
    "    return segments"
   ]
  },
  {
   "cell_type": "code",
   "execution_count": 30,
   "metadata": {},
   "outputs": [
    {
     "name": "stdout",
     "output_type": "stream",
     "text": [
      "<_pocketsphinx.Segment object at 0x7fd10895a030>\n",
      "<_pocketsphinx.Segment object at 0x7fd0f0225f30>\n",
      "<_pocketsphinx.Segment object at 0x7fd10895a030>\n",
      "<_pocketsphinx.Segment object at 0x7fd0f0225f30>\n",
      "<_pocketsphinx.Segment object at 0x7fd10895a030>\n",
      "<_pocketsphinx.Segment object at 0x7fd0f0225f30>\n",
      "<_pocketsphinx.Segment object at 0x7fd10895a030>\n",
      "<_pocketsphinx.Segment object at 0x7fd0f0225f30>\n",
      "<_pocketsphinx.Segment object at 0x7fd10895a030>\n",
      "<_pocketsphinx.Segment object at 0x7fd0f0225f30>\n",
      "<_pocketsphinx.Segment object at 0x7fd10895a030>\n",
      "<_pocketsphinx.Segment object at 0x7fd0f0225f30>\n",
      "<_pocketsphinx.Segment object at 0x7fd10895a030>\n",
      "<_pocketsphinx.Segment object at 0x7fd0f0225f30>\n",
      "<_pocketsphinx.Segment object at 0x7fd10895a030>\n",
      "<_pocketsphinx.Segment object at 0x7fd0f0225f30>\n",
      "<_pocketsphinx.Segment object at 0x7fd10895a030>\n",
      "<_pocketsphinx.Segment object at 0x7fd0f0225f30>\n",
      "<_pocketsphinx.Segment object at 0x7fd10895a030>\n",
      "<_pocketsphinx.Segment object at 0x7fd0f0225f30>\n",
      "<_pocketsphinx.Segment object at 0x7fd10895a030>\n",
      "<_pocketsphinx.Segment object at 0x7fd0f0225f30>\n",
      "<_pocketsphinx.Segment object at 0x7fd10895a030>\n",
      "<_pocketsphinx.Segment object at 0x7fd0f0225f30>\n",
      "<_pocketsphinx.Segment object at 0x7fd10895a030>\n",
      "<_pocketsphinx.Segment object at 0x7fd0f0225f30>\n",
      "<_pocketsphinx.Segment object at 0x7fd10895a030>\n",
      "<_pocketsphinx.Segment object at 0x7fd0f0225f30>\n",
      "<_pocketsphinx.Segment object at 0x7fd10895a030>\n"
     ]
    }
   ],
   "source": [
    "for seg in decoder.seg():\n",
    "    print(seg)"
   ]
  },
  {
   "cell_type": "code",
   "execution_count": 21,
   "metadata": {},
   "outputs": [],
   "source": [
    "with open(\"/tmp/mytmp.dict\", \"w\") as dictout:\n",
    "    for entry in entries:\n",
    "        dictout.write(entry + \"\\n\")\n"
   ]
  },
  {
   "cell_type": "code",
   "execution_count": 31,
   "metadata": {},
   "outputs": [
    {
     "data": {
      "text/plain": [
       "<_io.BufferedRandom name='/tmp/clip.wav'>"
      ]
     },
     "execution_count": 31,
     "metadata": {},
     "output_type": "execute_result"
    }
   ],
   "source": [
    "audioseg.export(\"/tmp/clip.wav\", format=\"wav\", parameters=[\"-ac\", \"1\", \"-acodec\", \"pcm_s16le\", \"-ar\", \"16000\"])"
   ]
  },
  {
   "cell_type": "code",
   "execution_count": 32,
   "metadata": {},
   "outputs": [],
   "source": [
    "psjson=!/opt/homebrew/bin/pocketsphinx align /tmp/clip.wav \"yeah that's true i mean they are the same size and they are a little bit but i think i i should go more for something that style\""
   ]
  },
  {
   "cell_type": "code",
   "execution_count": 33,
   "metadata": {},
   "outputs": [
    {
     "data": {
      "text/plain": [
       "['{\"b\":0.000,\"d\":5.410,\"p\":1.000,\"t\":\"yeah that\\'s true i mean they are the same size and they are a little bit but i think i i should go more for something that style\",\"w\":[{\"b\":0.000,\"d\":0.250,\"p\":0.964,\"t\":\"yeah\"},{\"b\":0.250,\"d\":0.150,\"p\":0.937,\"t\":\"that\\'s\"},{\"b\":0.400,\"d\":0.200,\"p\":0.978,\"t\":\"true\"},{\"b\":0.600,\"d\":0.060,\"p\":0.974,\"t\":\"i\"},{\"b\":0.660,\"d\":0.180,\"p\":0.980,\"t\":\"mean\"},{\"b\":0.840,\"d\":0.140,\"p\":0.979,\"t\":\"they\"},{\"b\":0.980,\"d\":0.070,\"p\":0.983,\"t\":\"are(2)\"},{\"b\":1.050,\"d\":0.110,\"p\":0.987,\"t\":\"the\"},{\"b\":1.160,\"d\":0.260,\"p\":0.974,\"t\":\"same\"},{\"b\":1.420,\"d\":0.380,\"p\":0.956,\"t\":\"size\"},{\"b\":1.800,\"d\":0.120,\"p\":0.976,\"t\":\"and\"},{\"b\":1.920,\"d\":0.110,\"p\":0.986,\"t\":\"they\"},{\"b\":2.030,\"d\":0.140,\"p\":0.983,\"t\":\"are(2)\"},{\"b\":2.170,\"d\":0.030,\"p\":0.990,\"t\":\"a\"},{\"b\":2.200,\"d\":0.180,\"p\":0.914,\"t\":\"little\"},{\"b\":2.380,\"d\":0.140,\"p\":0.980,\"t\":\"bit\"},{\"b\":2.520,\"d\":0.220,\"p\":0.934,\"t\":\"but\"},{\"b\":2.740,\"d\":0.110,\"p\":0.983,\"t\":\"i\"},{\"b\":2.850,\"d\":0.260,\"p\":0.968,\"t\":\"think\"},{\"b\":3.110,\"d\":0.190,\"p\":0.975,\"t\":\"i\"},{\"b\":3.300,\"d\":0.090,\"p\":0.977,\"t\":\"i\"},{\"b\":3.390,\"d\":0.200,\"p\":0.976,\"t\":\"should\"},{\"b\":3.590,\"d\":0.150,\"p\":0.982,\"t\":\"go\"},{\"b\":3.740,\"d\":0.220,\"p\":0.979,\"t\":\"more\"},{\"b\":3.960,\"d\":0.200,\"p\":0.978,\"t\":\"for(2)\"},{\"b\":4.160,\"d\":0.320,\"p\":0.972,\"t\":\"something\"},{\"b\":4.480,\"d\":0.300,\"p\":0.961,\"t\":\"that\"},{\"b\":4.780,\"d\":0.510,\"p\":0.967,\"t\":\"style\"},{\"b\":5.290,\"d\":0.110,\"p\":0.955,\"t\":\"<sil>\"}]}']"
      ]
     },
     "execution_count": 33,
     "metadata": {},
     "output_type": "execute_result"
    }
   ],
   "source": [
    "psjson"
   ]
  },
  {
   "cell_type": "code",
   "execution_count": 34,
   "metadata": {},
   "outputs": [],
   "source": [
    "import json\n",
    "data = json.loads(str(psjson[0]))"
   ]
  },
  {
   "cell_type": "code",
   "execution_count": 35,
   "metadata": {},
   "outputs": [
    {
     "data": {
      "text/plain": [
       "{'b': 0.0,\n",
       " 'd': 5.41,\n",
       " 'p': 1.0,\n",
       " 't': \"yeah that's true i mean they are the same size and they are a little bit but i think i i should go more for something that style\",\n",
       " 'w': [{'b': 0.0, 'd': 0.25, 'p': 0.964, 't': 'yeah'},\n",
       "  {'b': 0.25, 'd': 0.15, 'p': 0.937, 't': \"that's\"},\n",
       "  {'b': 0.4, 'd': 0.2, 'p': 0.978, 't': 'true'},\n",
       "  {'b': 0.6, 'd': 0.06, 'p': 0.974, 't': 'i'},\n",
       "  {'b': 0.66, 'd': 0.18, 'p': 0.98, 't': 'mean'},\n",
       "  {'b': 0.84, 'd': 0.14, 'p': 0.979, 't': 'they'},\n",
       "  {'b': 0.98, 'd': 0.07, 'p': 0.983, 't': 'are(2)'},\n",
       "  {'b': 1.05, 'd': 0.11, 'p': 0.987, 't': 'the'},\n",
       "  {'b': 1.16, 'd': 0.26, 'p': 0.974, 't': 'same'},\n",
       "  {'b': 1.42, 'd': 0.38, 'p': 0.956, 't': 'size'},\n",
       "  {'b': 1.8, 'd': 0.12, 'p': 0.976, 't': 'and'},\n",
       "  {'b': 1.92, 'd': 0.11, 'p': 0.986, 't': 'they'},\n",
       "  {'b': 2.03, 'd': 0.14, 'p': 0.983, 't': 'are(2)'},\n",
       "  {'b': 2.17, 'd': 0.03, 'p': 0.99, 't': 'a'},\n",
       "  {'b': 2.2, 'd': 0.18, 'p': 0.914, 't': 'little'},\n",
       "  {'b': 2.38, 'd': 0.14, 'p': 0.98, 't': 'bit'},\n",
       "  {'b': 2.52, 'd': 0.22, 'p': 0.934, 't': 'but'},\n",
       "  {'b': 2.74, 'd': 0.11, 'p': 0.983, 't': 'i'},\n",
       "  {'b': 2.85, 'd': 0.26, 'p': 0.968, 't': 'think'},\n",
       "  {'b': 3.11, 'd': 0.19, 'p': 0.975, 't': 'i'},\n",
       "  {'b': 3.3, 'd': 0.09, 'p': 0.977, 't': 'i'},\n",
       "  {'b': 3.39, 'd': 0.2, 'p': 0.976, 't': 'should'},\n",
       "  {'b': 3.59, 'd': 0.15, 'p': 0.982, 't': 'go'},\n",
       "  {'b': 3.74, 'd': 0.22, 'p': 0.979, 't': 'more'},\n",
       "  {'b': 3.96, 'd': 0.2, 'p': 0.978, 't': 'for(2)'},\n",
       "  {'b': 4.16, 'd': 0.32, 'p': 0.972, 't': 'something'},\n",
       "  {'b': 4.48, 'd': 0.3, 'p': 0.961, 't': 'that'},\n",
       "  {'b': 4.78, 'd': 0.51, 'p': 0.967, 't': 'style'},\n",
       "  {'b': 5.29, 'd': 0.11, 'p': 0.955, 't': '<sil>'}]}"
      ]
     },
     "execution_count": 35,
     "metadata": {},
     "output_type": "execute_result"
    }
   ],
   "source": [
    "data"
   ]
  },
  {
   "cell_type": "code",
   "execution_count": 36,
   "metadata": {},
   "outputs": [],
   "source": [
    "with open(\"/tmp/audacity.tsv\", \"w\") as tsvf:\n",
    "    for word in data[\"w\"]:\n",
    "        tsvf.write(f\"{word['b']}\\t{word['b']+word['d']}\\t{word['t']}\\n\")"
   ]
  },
  {
   "cell_type": "code",
   "execution_count": 43,
   "metadata": {},
   "outputs": [],
   "source": [
    "!/opt/homebrew/bin/sox /tmp/clip.wav $(/opt/homebrew/bin/pocketsphinx soxflags) > /tmp/ps.raw"
   ]
  },
  {
   "cell_type": "code",
   "execution_count": 44,
   "metadata": {},
   "outputs": [
    {
     "data": {
      "text/plain": [
       "<pocketsphinx.Pocketsphinx at 0x7fd0f0242400>"
      ]
     },
     "execution_count": 44,
     "metadata": {},
     "output_type": "execute_result"
    }
   ],
   "source": [
    "from pocketsphinx import Pocketsphinx\n",
    "\n",
    "psphone = Pocketsphinx(\n",
    "    allphone=\"/opt/homebrew/Cellar/cmu-pocketsphinx/5.0.3/share/pocketsphinx/model/en-us/en-us-phone.lm.bin\",\n",
    "    lw=2.0,\n",
    "    pip=0.3,\n",
    "    beam=1e-200,\n",
    "    pbeam=1e-20,\n",
    ")\n",
    "psphone.decode(\"/tmp/ps.raw\")"
   ]
  },
  {
   "cell_type": "code",
   "execution_count": 45,
   "metadata": {},
   "outputs": [
    {
     "data": {
      "text/plain": [
       "'SIL T Y AE D UH T UW AH M IH N EY Y ER D IH SH AO L SH AY SH ER M EY Y ER DH EH V IH D DH AH D EH TH IH NG G EH UW EY SH IH G UH OW W AO ER V F ER SH AH N D IH NG D EH CH AY AW L SIL'"
      ]
     },
     "execution_count": 45,
     "metadata": {},
     "output_type": "execute_result"
    }
   ],
   "source": [
    "psphone.hypothesis()"
   ]
  },
  {
   "cell_type": "code",
   "execution_count": null,
   "metadata": {},
   "outputs": [],
   "source": [
    "# jˈæ ðˈæs tɹˈuː ə mˈiːn ðˈeɪ ɚ ðə sˈeɪm sˈaɪz ən ðˈeɪ ˈɑːɹ ə lˈɪɾə bˈɪɾ bˈʌt ˈaɪ θˈɪŋk ˈaɪ ˈaɪ ʃˈʊ ɡˈoʊ mˈɔːɹ fɚ sˈʌmθɪŋ ðˈæt stˈaɪl."
   ]
  },
  {
   "cell_type": "code",
   "execution_count": null,
   "metadata": {},
   "outputs": [],
   "source": []
  }
 ],
 "metadata": {
  "kernelspec": {
   "display_name": "hf",
   "language": "python",
   "name": "python3"
  },
  "language_info": {
   "codemirror_mode": {
    "name": "ipython",
    "version": 3
   },
   "file_extension": ".py",
   "mimetype": "text/x-python",
   "name": "python",
   "nbconvert_exporter": "python",
   "pygments_lexer": "ipython3",
   "version": "3.9.15"
  }
 },
 "nbformat": 4,
 "nbformat_minor": 2
}
