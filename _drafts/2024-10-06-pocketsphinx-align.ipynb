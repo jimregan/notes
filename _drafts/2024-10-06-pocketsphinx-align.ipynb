{
 "cells": [
  {
   "cell_type": "code",
   "execution_count": 1,
   "metadata": {},
   "outputs": [],
   "source": [
    "from pydub import AudioSegment"
   ]
  },
  {
   "cell_type": "code",
   "execution_count": 14,
   "metadata": {},
   "outputs": [],
   "source": [
    "%%capture\n",
    "%pip install pocketsphinx"
   ]
  },
  {
   "cell_type": "code",
   "execution_count": 31,
   "metadata": {},
   "outputs": [],
   "source": [
    "MAPPING = \"\"\"\n",
    "ɑː AA\n",
    "æ AE\n",
    "ə AH\n",
    "ɐ AH\n",
    "ʌ AH\n",
    "ɔː AO\n",
    "aʊ AW\n",
    "aɪ AY\n",
    "b B\n",
    "tʃ CH\n",
    "d D\n",
    "ð DH\n",
    "ɛ EH\n",
    "ɚ ER\n",
    "ɜː ER\n",
    "eɪ EY\n",
    "f F\n",
    "ɡ G\n",
    "h HH\n",
    "ɪ IH\n",
    "i IY\n",
    "iː IY\n",
    "dʒ JH\n",
    "k K\n",
    "l L\n",
    "m M\n",
    "n N\n",
    "ŋ NG\n",
    "oʊ OW\n",
    "ɔɪ OY\n",
    "p P\n",
    "ɹ R\n",
    "s S\n",
    "ʃ SH\n",
    "t T\n",
    "θ TH\n",
    "ʊ UH\n",
    "uː UW\n",
    "v V\n",
    "w W\n",
    "j Y\n",
    "z Z\n",
    "ʒ ZH\n",
    "ɾ D\n",
    "\"\"\""
   ]
  },
  {
   "cell_type": "code",
   "execution_count": 62,
   "metadata": {},
   "outputs": [],
   "source": [
    "espeak_to_cmudict = {}\n",
    "for line in MAPPING.split(\"\\n\"):\n",
    "    if line == \"\":\n",
    "        continue\n",
    "    line = line.strip()\n",
    "    parts = line.split(\" \")\n",
    "\n",
    "    if len(parts) != 2:\n",
    "        print(line)\n",
    "        continue\n",
    "    k, v = line.split(\" \")\n",
    "    if not k in espeak_to_cmudict:\n",
    "        espeak_to_cmudict[k] = v\n",
    "    "
   ]
  },
  {
   "cell_type": "code",
   "execution_count": 75,
   "metadata": {},
   "outputs": [],
   "source": [
    "import re\n",
    "\n",
    "cmudict_keys = espeak_to_cmudict.keys()\n",
    "cmudict_keys = sorted(cmudict_keys, key=len, reverse=True)\n",
    "espeak_regex = re.compile(rf\"({'|'.join(cmudict_keys)})\")\n",
    "\n",
    "def cmudictify(espeak):\n",
    "    espeak = espeak.replace(\"ˈ\", \"\").replace(\"ˌ\", \"\")\n",
    "    out = []\n",
    "    pos = 0\n",
    "    while(match := espeak_regex.search(espeak, pos)) is not None:\n",
    "        print(match)\n",
    "        pos = match.start() + 1\n",
    "        out.append(espeak_to_cmudict[match[1]])\n",
    "    return \" \".join(out)"
   ]
  },
  {
   "cell_type": "code",
   "execution_count": 68,
   "metadata": {},
   "outputs": [
    {
     "data": {
      "text/plain": [
       "re.compile(r'.*(ɑː|ɔː|aʊ|aɪ|tʃ|ɜː|eɪ|iː|dʒ|oʊ|ɔɪ|uː|æ|ə|ɐ|ʌ|b|d|ð|ɛ|ɚ|f|ɡ|h|ɪ|i|k|l|m|n|ŋ|p|ɹ|s|ʃ|t|θ|ʊ|v|w|j|z|ʒ|ɾ).*',\n",
       "           re.UNICODE)"
      ]
     },
     "execution_count": 68,
     "metadata": {},
     "output_type": "execute_result"
    }
   ],
   "source": [
    "espeak_regex"
   ]
  },
  {
   "cell_type": "code",
   "execution_count": 58,
   "metadata": {},
   "outputs": [],
   "source": [
    "EGTEXT = \"Yeah, that's true. I mean, they are the same size and they are a little bit, but I think I I should go more for something that style.\"\n",
    "EGPHON = \"/jˈæ ðˈæs tɹˈuː ə mˈiːn ðˈeɪ ɚ ðə sˈeɪm sˈaɪz ən ðˈeɪ ˈɑːɹ ə lˈɪɾə bˈɪɾ bˈʌt ˈaɪ θˈɪŋk ˈaɪ ˈaɪ ʃˈʊ ɡˈoʊ mˈɔːɹ fɚ sˈʌmθɪŋ ðˈæt stˈaɪl./\"\n",
    "EGFILE = \"/Users/joregan/Playing/hsi/audio/hsi_7_0719_210_001_main.wav\"\n",
    "EGSTART = 70.028\n",
    "EGEND = 75.441"
   ]
  },
  {
   "cell_type": "code",
   "execution_count": 72,
   "metadata": {},
   "outputs": [],
   "source": [
    "def normword(text):\n",
    "    text = text.strip(\",.;:!?\")\n",
    "    return text.lower()\n",
    "\n",
    "def normphon(phon):\n",
    "    phon = phon.strip(\",.;:!?\")\n",
    "    return phon\n",
    "\n",
    "def make_lexicon(text, phon):\n",
    "    if phon.startswith(\"/\") and phon.endswith(\"/\"):\n",
    "        phon = phon[1:-1]\n",
    "    words = [normword(x) for x in text.split(\" \")]\n",
    "    phonwords = [cmudictify(normphon(x)) for x in phon.split(\" \")]\n",
    "    assert len(words) == len(phonwords)\n",
    "    output = list(set(zip(words, phonwords)))\n",
    "    return output\n",
    "    "
   ]
  },
  {
   "cell_type": "code",
   "execution_count": 76,
   "metadata": {},
   "outputs": [
    {
     "name": "stdout",
     "output_type": "stream",
     "text": [
      "<re.Match object; span=(0, 1), match='ð'>\n",
      "<re.Match object; span=(1, 3), match='eɪ'>\n",
      "<re.Match object; span=(2, 3), match='ɪ'>\n"
     ]
    },
    {
     "data": {
      "text/plain": [
       "'DH EY IH'"
      ]
     },
     "execution_count": 76,
     "metadata": {},
     "output_type": "execute_result"
    }
   ],
   "source": [
    "cmudictify(\"ðeɪ\")\n"
   ]
  },
  {
   "cell_type": "code",
   "execution_count": 77,
   "metadata": {},
   "outputs": [
    {
     "data": {
      "text/plain": [
       "['ð', 'eɪ']"
      ]
     },
     "execution_count": 77,
     "metadata": {},
     "output_type": "execute_result"
    }
   ],
   "source": [
    "re.findall(espeak_regex, \"ðeɪ\")"
   ]
  },
  {
   "cell_type": "code",
   "execution_count": 36,
   "metadata": {},
   "outputs": [
    {
     "data": {
      "text/plain": [
       "[('they', 'DH EY IH'),\n",
       " ('i', 'AH'),\n",
       " ('for', 'F ER'),\n",
       " ('more', 'M AO R'),\n",
       " ('size', 'S AY IH Z'),\n",
       " ('a', 'AH'),\n",
       " ('the', 'DH AH'),\n",
       " ('bit', 'B IH'),\n",
       " ('but', 'B AH T'),\n",
       " ('that', 'DH AE T'),\n",
       " ('yeah', 'Y AE'),\n",
       " ('are', 'ER'),\n",
       " ('something', 'S AH M TH IH NG'),\n",
       " ('little', 'L IH AH'),\n",
       " (\"that's\", 'DH AE S'),\n",
       " ('and', 'AH N'),\n",
       " ('are', 'AA R'),\n",
       " ('same', 'S EY IH M'),\n",
       " ('think', 'TH IH NG K'),\n",
       " ('true', 'T R UW'),\n",
       " ('mean', 'M IY N'),\n",
       " ('go', 'G OW UH'),\n",
       " ('style', 'S T AY IH L'),\n",
       " ('i', 'AY IH'),\n",
       " ('should', 'SH UH')]"
      ]
     },
     "execution_count": 36,
     "metadata": {},
     "output_type": "execute_result"
    }
   ],
   "source": [
    "make_lexicon(EGTEXT, EGPHON)"
   ]
  }
 ],
 "metadata": {
  "language_info": {
   "name": "python"
  }
 },
 "nbformat": 4,
 "nbformat_minor": 2
}
