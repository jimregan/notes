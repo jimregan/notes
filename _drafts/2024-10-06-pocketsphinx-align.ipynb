{
 "cells": [
  {
   "cell_type": "markdown",
   "metadata": {},
   "source": [
    "# Trying to use pocketsphinx to word align\n",
    "\n",
    "> \"Because timing accuracy in ASR is getting progressively worse, look backwards\"\n",
    "\n",
    "- branch: master\n",
    "- comments: false\n",
    "- categories: [pocketsphinx, hsi, alignment]"
   ]
  },
  {
   "cell_type": "code",
   "execution_count": 1,
   "metadata": {},
   "outputs": [],
   "source": [
    "from pydub import AudioSegment"
   ]
  },
  {
   "cell_type": "code",
   "execution_count": 14,
   "metadata": {},
   "outputs": [],
   "source": [
    "%%capture\n",
    "%pip install pocketsphinx"
   ]
  },
  {
   "cell_type": "code",
   "execution_count": 31,
   "metadata": {},
   "outputs": [],
   "source": [
    "MAPPING = \"\"\"\n",
    "ɑː AA\n",
    "æ AE\n",
    "ə AH\n",
    "ɐ AH\n",
    "ʌ AH\n",
    "ɔː AO\n",
    "aʊ AW\n",
    "aɪ AY\n",
    "b B\n",
    "tʃ CH\n",
    "d D\n",
    "ð DH\n",
    "ɛ EH\n",
    "ɚ ER\n",
    "ɜː ER\n",
    "eɪ EY\n",
    "f F\n",
    "ɡ G\n",
    "h HH\n",
    "ɪ IH\n",
    "i IY\n",
    "iː IY\n",
    "dʒ JH\n",
    "k K\n",
    "l L\n",
    "m M\n",
    "n N\n",
    "ŋ NG\n",
    "oʊ OW\n",
    "ɔɪ OY\n",
    "p P\n",
    "ɹ R\n",
    "s S\n",
    "ʃ SH\n",
    "t T\n",
    "θ TH\n",
    "ʊ UH\n",
    "uː UW\n",
    "v V\n",
    "w W\n",
    "j Y\n",
    "z Z\n",
    "ʒ ZH\n",
    "ɾ D\n",
    "\"\"\""
   ]
  },
  {
   "cell_type": "code",
   "execution_count": 62,
   "metadata": {},
   "outputs": [],
   "source": [
    "espeak_to_cmudict = {}\n",
    "for line in MAPPING.split(\"\\n\"):\n",
    "    if line == \"\":\n",
    "        continue\n",
    "    line = line.strip()\n",
    "    parts = line.split(\" \")\n",
    "\n",
    "    if len(parts) != 2:\n",
    "        print(line)\n",
    "        continue\n",
    "    k, v = line.split(\" \")\n",
    "    if not k in espeak_to_cmudict:\n",
    "        espeak_to_cmudict[k] = v\n",
    "    "
   ]
  },
  {
   "cell_type": "code",
   "execution_count": 81,
   "metadata": {},
   "outputs": [],
   "source": [
    "import re\n",
    "\n",
    "cmudict_keys = espeak_to_cmudict.keys()\n",
    "cmudict_keys = sorted(cmudict_keys, key=len, reverse=True)\n",
    "espeak_regex = re.compile(rf\"({'|'.join(cmudict_keys)})\")\n",
    "\n",
    "def cmudictify(espeak):\n",
    "    espeak = espeak.replace(\"ˈ\", \"\").replace(\"ˌ\", \"\")\n",
    "    return \" \".join([espeak_to_cmudict[x] for x in re.findall(espeak_regex, espeak)])"
   ]
  },
  {
   "cell_type": "code",
   "execution_count": 58,
   "metadata": {},
   "outputs": [],
   "source": [
    "EGTEXT = \"Yeah, that's true. I mean, they are the same size and they are a little bit, but I think I I should go more for something that style.\"\n",
    "EGPHON = \"/jˈæ ðˈæs tɹˈuː ə mˈiːn ðˈeɪ ɚ ðə sˈeɪm sˈaɪz ən ðˈeɪ ˈɑːɹ ə lˈɪɾə bˈɪɾ bˈʌt ˈaɪ θˈɪŋk ˈaɪ ˈaɪ ʃˈʊ ɡˈoʊ mˈɔːɹ fɚ sˈʌmθɪŋ ðˈæt stˈaɪl./\"\n",
    "EGFILE = \"/Users/joregan/Playing/hsi/audio/hsi_7_0719_210_001_main.wav\"\n",
    "EGSTART = 70.028\n",
    "EGEND = 75.441"
   ]
  },
  {
   "cell_type": "code",
   "execution_count": 79,
   "metadata": {},
   "outputs": [],
   "source": [
    "def normword(text):\n",
    "    text = text.strip(\",.;:!?\")\n",
    "    return text.lower()\n",
    "\n",
    "def normphon(phon):\n",
    "    phon = phon.strip(\",.;:!?\")\n",
    "    return phon\n",
    "\n",
    "def make_lexicon(text, phon):\n",
    "    if phon.startswith(\"/\") and phon.endswith(\"/\"):\n",
    "        phon = phon[1:-1]\n",
    "    words = [normword(x) for x in text.split(\" \")]\n",
    "    phonwords = [cmudictify(normphon(x)) for x in phon.split(\" \")]\n",
    "    assert len(words) == len(phonwords)\n",
    "    output = list(set(zip(words, phonwords)))\n",
    "    return output\n",
    "    "
   ]
  },
  {
   "cell_type": "code",
   "execution_count": 83,
   "metadata": {},
   "outputs": [],
   "source": [
    "lex = make_lexicon(EGTEXT, EGPHON)"
   ]
  },
  {
   "cell_type": "code",
   "execution_count": 141,
   "metadata": {},
   "outputs": [],
   "source": [
    "audio = AudioSegment.from_file(EGFILE)"
   ]
  },
  {
   "cell_type": "code",
   "execution_count": 142,
   "metadata": {},
   "outputs": [],
   "source": [
    "audio = audio.set_frame_rate(16000)"
   ]
  },
  {
   "cell_type": "code",
   "execution_count": 143,
   "metadata": {},
   "outputs": [],
   "source": [
    "seg = audio[int(EGSTART * 1000):int(EGEND * 1000)]"
   ]
  },
  {
   "cell_type": "code",
   "execution_count": 128,
   "metadata": {},
   "outputs": [],
   "source": [
    "def make_ps_dict(entries):\n",
    "    counts = {}\n",
    "    output = []\n",
    "    lex = sorted(entries)\n",
    "    for entry in lex:\n",
    "        count = 1\n",
    "        if not entry[0] in counts:\n",
    "            counts[entry[0]] = 1\n",
    "        else:\n",
    "            counts[entry[0]] += 1\n",
    "            count = counts[entry[0]]\n",
    "        if count != 1:\n",
    "            subscript = f\"({count})\"\n",
    "        else:\n",
    "            subscript = \"\"\n",
    "        output.append(f\"{entry[0]}{subscript} {entry[1]}\")\n",
    "    return output"
   ]
  },
  {
   "cell_type": "code",
   "execution_count": 97,
   "metadata": {},
   "outputs": [],
   "source": [
    "def make_fsg_transitions_from_text(text):\n",
    "    words = [normword(x) for x in text.split(\" \")]\n",
    "    enum = [x for x in enumerate(words)]\n",
    "    trans = [(x[0], x[0] + 1, 1.0, x[1]) for x in enum]\n",
    "    return trans"
   ]
  },
  {
   "cell_type": "code",
   "execution_count": 99,
   "metadata": {},
   "outputs": [],
   "source": [
    "fsgt = make_fsg_transitions_from_text(EGTEXT)"
   ]
  },
  {
   "cell_type": "code",
   "execution_count": 100,
   "metadata": {},
   "outputs": [],
   "source": [
    "start_state = fsgt[0][0]\n",
    "end_state = fsgt[-1][1]"
   ]
  },
  {
   "cell_type": "code",
   "execution_count": 160,
   "metadata": {},
   "outputs": [],
   "source": [
    "import pocketsphinx"
   ]
  },
  {
   "cell_type": "markdown",
   "metadata": {},
   "source": [
    "This was the first attempt. Adding `None` for the dictionary (as the docs suggested) didn't help: can't add words to a dictionary that doesn't exist.\n",
    "\n",
    "This may yet be a thing, because I can't be sure that it really failed to align using the grammar: audio handling sucks, and I should maybe have passed ffmpeg parameters before writing the audio."
   ]
  },
  {
   "cell_type": "code",
   "execution_count": 161,
   "metadata": {},
   "outputs": [],
   "source": [
    "import tempfile\n",
    "entries = make_ps_dict(lex)\n",
    "\n",
    "with (\n",
    "    tempfile.NamedTemporaryFile(suffix=\".dict\") as dictf,\n",
    "    tempfile.NamedTemporaryFile(suffix=\".wav\") as wavf,\n",
    "):\n",
    "    with open(dictf.name, \"w\") as dictout:\n",
    "        for entry in entries:\n",
    "            dictout.write(entry + \"\\n\")\n",
    "    \n",
    "    seg.export(wavf.name, format=\"wav\")\n",
    "\n",
    "    decoder = pocketsphinx.Decoder(lm=None, dict=dictf.name)\n",
    "    fsg = decoder.create_fsg(\"dummy\", start_state, end_state, fsgt)\n",
    "    decoder.add_fsg(\"dummy\", fsg)\n",
    "    decoder.activate_search(\"dummy\")\n",
    "    decoder.start_utt()\n",
    "    # decoder.process_raw(seg.get_array_of_samples('B'))\n",
    "    decoder.process_raw(wavf.read(), full_utt=True)\n",
    "    decoder.end_utt()"
   ]
  },
  {
   "cell_type": "code",
   "execution_count": 166,
   "metadata": {},
   "outputs": [
    {
     "name": "stderr",
     "output_type": "stream",
     "text": [
      "ERROR: \"fsg_search.c\", line 944: Final result does not match the grammar in frame 1082\n"
     ]
    }
   ],
   "source": [
    "decoder.seg()"
   ]
  },
  {
   "cell_type": "code",
   "execution_count": 164,
   "metadata": {},
   "outputs": [],
   "source": [
    "fsg.writefile(\"/tmp/fsm\")"
   ]
  },
  {
   "cell_type": "code",
   "execution_count": 165,
   "metadata": {},
   "outputs": [
    {
     "name": "stdout",
     "output_type": "stream",
     "text": [
      "FSG_BEGIN dummy\n",
      "NUM_STATES 29\n",
      "START_STATE 0\n",
      "FINAL_STATE 28\n",
      "TRANSITION 0 0 0.000000 [NOISE]\n",
      "TRANSITION 0 0 0.005001 <sil>\n",
      "TRANSITION 0 1 1.000000 yeah\n",
      "TRANSITION 1 1 0.000000 [NOISE]\n",
      "TRANSITION 1 1 0.005001 <sil>\n",
      "TRANSITION 1 2 1.000000 that's\n",
      "TRANSITION 2 2 0.000000 [NOISE]\n",
      "TRANSITION 2 2 0.005001 <sil>\n",
      "TRANSITION 2 3 1.000000 true\n",
      "TRANSITION 3 3 0.000000 [NOISE]\n",
      "TRANSITION 3 3 0.005001 <sil>\n",
      "TRANSITION 3 4 1.000000 i(2)\n",
      "TRANSITION 3 4 1.000000 i\n",
      "TRANSITION 4 4 0.000000 [NOISE]\n",
      "TRANSITION 4 4 0.005001 <sil>\n",
      "TRANSITION 4 5 1.000000 mean\n",
      "TRANSITION 5 5 0.000000 [NOISE]\n",
      "TRANSITION 5 5 0.005001 <sil>\n",
      "TRANSITION 5 6 1.000000 they\n",
      "TRANSITION 6 6 0.000000 [NOISE]\n",
      "TRANSITION 6 6 0.005001 <sil>\n",
      "TRANSITION 6 7 1.000000 are(2)\n",
      "TRANSITION 6 7 1.000000 are\n",
      "TRANSITION 7 7 0.000000 [NOISE]\n",
      "TRANSITION 7 7 0.005001 <sil>\n",
      "TRANSITION 7 8 1.000000 the\n",
      "TRANSITION 8 8 0.000000 [NOISE]\n",
      "TRANSITION 8 8 0.005001 <sil>\n",
      "TRANSITION 8 9 1.000000 same\n",
      "TRANSITION 9 9 0.000000 [NOISE]\n",
      "TRANSITION 9 9 0.005001 <sil>\n",
      "TRANSITION 9 10 1.000000 size\n",
      "TRANSITION 10 10 0.000000 [NOISE]\n",
      "TRANSITION 10 10 0.005001 <sil>\n",
      "TRANSITION 10 11 1.000000 and\n",
      "TRANSITION 11 11 0.000000 [NOISE]\n",
      "TRANSITION 11 11 0.005001 <sil>\n",
      "TRANSITION 11 12 1.000000 they\n",
      "TRANSITION 12 12 0.000000 [NOISE]\n",
      "TRANSITION 12 12 0.005001 <sil>\n",
      "TRANSITION 12 13 1.000000 are(2)\n",
      "TRANSITION 12 13 1.000000 are\n",
      "TRANSITION 13 13 0.000000 [NOISE]\n",
      "TRANSITION 13 13 0.005001 <sil>\n",
      "TRANSITION 13 14 1.000000 a\n",
      "TRANSITION 14 14 0.000000 [NOISE]\n",
      "TRANSITION 14 14 0.005001 <sil>\n",
      "TRANSITION 14 15 1.000000 little\n",
      "TRANSITION 15 15 0.000000 [NOISE]\n",
      "TRANSITION 15 15 0.005001 <sil>\n",
      "TRANSITION 15 16 1.000000 bit\n",
      "TRANSITION 16 16 0.000000 [NOISE]\n",
      "TRANSITION 16 16 0.005001 <sil>\n",
      "TRANSITION 16 17 1.000000 but\n",
      "TRANSITION 17 17 0.000000 [NOISE]\n",
      "TRANSITION 17 17 0.005001 <sil>\n",
      "TRANSITION 17 18 1.000000 i(2)\n",
      "TRANSITION 17 18 1.000000 i\n",
      "TRANSITION 18 18 0.000000 [NOISE]\n",
      "TRANSITION 18 18 0.005001 <sil>\n",
      "TRANSITION 18 19 1.000000 think\n",
      "TRANSITION 19 20 1.000000 i(2)\n",
      "TRANSITION 19 20 1.000000 i\n",
      "TRANSITION 19 19 0.000000 [NOISE]\n",
      "TRANSITION 19 19 0.005001 <sil>\n",
      "TRANSITION 20 20 0.000000 [NOISE]\n",
      "TRANSITION 20 20 0.005001 <sil>\n",
      "TRANSITION 20 21 1.000000 i(2)\n",
      "TRANSITION 20 21 1.000000 i\n",
      "TRANSITION 21 21 0.000000 [NOISE]\n",
      "TRANSITION 21 21 0.005001 <sil>\n",
      "TRANSITION 21 22 1.000000 should\n",
      "TRANSITION 22 22 0.000000 [NOISE]\n",
      "TRANSITION 22 22 0.005001 <sil>\n",
      "TRANSITION 22 23 1.000000 go\n",
      "TRANSITION 23 23 0.000000 [NOISE]\n",
      "TRANSITION 23 23 0.005001 <sil>\n",
      "TRANSITION 23 24 1.000000 more\n",
      "TRANSITION 24 24 0.000000 [NOISE]\n",
      "TRANSITION 24 24 0.005001 <sil>\n",
      "TRANSITION 24 25 1.000000 for\n",
      "TRANSITION 25 25 0.000000 [NOISE]\n",
      "TRANSITION 25 25 0.005001 <sil>\n",
      "TRANSITION 25 26 1.000000 something\n",
      "TRANSITION 26 26 0.000000 [NOISE]\n",
      "TRANSITION 26 26 0.005001 <sil>\n",
      "TRANSITION 26 27 1.000000 that\n",
      "TRANSITION 27 27 0.000000 [NOISE]\n",
      "TRANSITION 27 27 0.005001 <sil>\n",
      "TRANSITION 27 28 1.000000 style\n",
      "TRANSITION 28 28 0.000000 [NOISE]\n",
      "TRANSITION 28 28 0.005001 <sil>\n",
      "FSG_END\n"
     ]
    }
   ],
   "source": [
    "!cat /tmp/fsm"
   ]
  },
  {
   "cell_type": "code",
   "execution_count": 167,
   "metadata": {},
   "outputs": [],
   "source": [
    "with open(\"/tmp/mytmp.dict\", \"w\") as dictout:\n",
    "    for entry in entries:\n",
    "        dictout.write(entry + \"\\n\")\n"
   ]
  },
  {
   "cell_type": "code",
   "execution_count": 168,
   "metadata": {},
   "outputs": [
    {
     "data": {
      "text/plain": [
       "<_io.BufferedRandom name='/tmp/clip.wav'>"
      ]
     },
     "execution_count": 168,
     "metadata": {},
     "output_type": "execute_result"
    }
   ],
   "source": [
    "seg.export(\"/tmp/clip.wav\", format=\"wav\")"
   ]
  },
  {
   "cell_type": "code",
   "execution_count": 171,
   "metadata": {},
   "outputs": [],
   "source": [
    "!sox /tmp/clip.wav $(pocketsphinx soxflags) > /tmp/ps.raw\n",
    "psjson=!pocketsphinx align /tmp/ps.raw \"yeah that's true i mean they are the same size and they are a little bit but i think i i should go more for something that style\""
   ]
  },
  {
   "cell_type": "code",
   "execution_count": 174,
   "metadata": {},
   "outputs": [
    {
     "data": {
      "text/plain": [
       "['{\"b\":0.000,\"d\":5.410,\"p\":1.000,\"t\":\"yeah that\\'s true i mean they are the same size and they are a little bit but i think i i should go more for something that style\",\"w\":[{\"b\":0.000,\"d\":0.250,\"p\":0.964,\"t\":\"yeah\"},{\"b\":0.250,\"d\":0.150,\"p\":0.937,\"t\":\"that\\'s\"},{\"b\":0.400,\"d\":0.200,\"p\":0.978,\"t\":\"true\"},{\"b\":0.600,\"d\":0.060,\"p\":0.974,\"t\":\"i\"},{\"b\":0.660,\"d\":0.180,\"p\":0.980,\"t\":\"mean\"},{\"b\":0.840,\"d\":0.140,\"p\":0.979,\"t\":\"they\"},{\"b\":0.980,\"d\":0.070,\"p\":0.983,\"t\":\"are(2)\"},{\"b\":1.050,\"d\":0.110,\"p\":0.987,\"t\":\"the\"},{\"b\":1.160,\"d\":0.260,\"p\":0.974,\"t\":\"same\"},{\"b\":1.420,\"d\":0.380,\"p\":0.956,\"t\":\"size\"},{\"b\":1.800,\"d\":0.120,\"p\":0.975,\"t\":\"and\"},{\"b\":1.920,\"d\":0.110,\"p\":0.986,\"t\":\"they\"},{\"b\":2.030,\"d\":0.140,\"p\":0.983,\"t\":\"are(2)\"},{\"b\":2.170,\"d\":0.030,\"p\":0.990,\"t\":\"a\"},{\"b\":2.200,\"d\":0.180,\"p\":0.914,\"t\":\"little\"},{\"b\":2.380,\"d\":0.140,\"p\":0.980,\"t\":\"bit\"},{\"b\":2.520,\"d\":0.220,\"p\":0.935,\"t\":\"but\"},{\"b\":2.740,\"d\":0.110,\"p\":0.983,\"t\":\"i\"},{\"b\":2.850,\"d\":0.260,\"p\":0.968,\"t\":\"think\"},{\"b\":3.110,\"d\":0.190,\"p\":0.975,\"t\":\"i\"},{\"b\":3.300,\"d\":0.090,\"p\":0.977,\"t\":\"i\"},{\"b\":3.390,\"d\":0.200,\"p\":0.976,\"t\":\"should\"},{\"b\":3.590,\"d\":0.150,\"p\":0.982,\"t\":\"go\"},{\"b\":3.740,\"d\":0.220,\"p\":0.979,\"t\":\"more\"},{\"b\":3.960,\"d\":0.200,\"p\":0.978,\"t\":\"for(2)\"},{\"b\":4.160,\"d\":0.320,\"p\":0.971,\"t\":\"something\"},{\"b\":4.480,\"d\":0.300,\"p\":0.961,\"t\":\"that\"},{\"b\":4.780,\"d\":0.510,\"p\":0.968,\"t\":\"style\"},{\"b\":5.290,\"d\":0.110,\"p\":0.955,\"t\":\"<sil>\"}]}']"
      ]
     },
     "execution_count": 174,
     "metadata": {},
     "output_type": "execute_result"
    }
   ],
   "source": [
    "psjson"
   ]
  },
  {
   "cell_type": "code",
   "execution_count": 175,
   "metadata": {},
   "outputs": [],
   "source": [
    "import json\n",
    "data = json.loads(str(psjson[0]))"
   ]
  },
  {
   "cell_type": "code",
   "execution_count": 176,
   "metadata": {},
   "outputs": [
    {
     "data": {
      "text/plain": [
       "{'b': 0.0,\n",
       " 'd': 5.41,\n",
       " 'p': 1.0,\n",
       " 't': \"yeah that's true i mean they are the same size and they are a little bit but i think i i should go more for something that style\",\n",
       " 'w': [{'b': 0.0, 'd': 0.25, 'p': 0.964, 't': 'yeah'},\n",
       "  {'b': 0.25, 'd': 0.15, 'p': 0.937, 't': \"that's\"},\n",
       "  {'b': 0.4, 'd': 0.2, 'p': 0.978, 't': 'true'},\n",
       "  {'b': 0.6, 'd': 0.06, 'p': 0.974, 't': 'i'},\n",
       "  {'b': 0.66, 'd': 0.18, 'p': 0.98, 't': 'mean'},\n",
       "  {'b': 0.84, 'd': 0.14, 'p': 0.979, 't': 'they'},\n",
       "  {'b': 0.98, 'd': 0.07, 'p': 0.983, 't': 'are(2)'},\n",
       "  {'b': 1.05, 'd': 0.11, 'p': 0.987, 't': 'the'},\n",
       "  {'b': 1.16, 'd': 0.26, 'p': 0.974, 't': 'same'},\n",
       "  {'b': 1.42, 'd': 0.38, 'p': 0.956, 't': 'size'},\n",
       "  {'b': 1.8, 'd': 0.12, 'p': 0.975, 't': 'and'},\n",
       "  {'b': 1.92, 'd': 0.11, 'p': 0.986, 't': 'they'},\n",
       "  {'b': 2.03, 'd': 0.14, 'p': 0.983, 't': 'are(2)'},\n",
       "  {'b': 2.17, 'd': 0.03, 'p': 0.99, 't': 'a'},\n",
       "  {'b': 2.2, 'd': 0.18, 'p': 0.914, 't': 'little'},\n",
       "  {'b': 2.38, 'd': 0.14, 'p': 0.98, 't': 'bit'},\n",
       "  {'b': 2.52, 'd': 0.22, 'p': 0.935, 't': 'but'},\n",
       "  {'b': 2.74, 'd': 0.11, 'p': 0.983, 't': 'i'},\n",
       "  {'b': 2.85, 'd': 0.26, 'p': 0.968, 't': 'think'},\n",
       "  {'b': 3.11, 'd': 0.19, 'p': 0.975, 't': 'i'},\n",
       "  {'b': 3.3, 'd': 0.09, 'p': 0.977, 't': 'i'},\n",
       "  {'b': 3.39, 'd': 0.2, 'p': 0.976, 't': 'should'},\n",
       "  {'b': 3.59, 'd': 0.15, 'p': 0.982, 't': 'go'},\n",
       "  {'b': 3.74, 'd': 0.22, 'p': 0.979, 't': 'more'},\n",
       "  {'b': 3.96, 'd': 0.2, 'p': 0.978, 't': 'for(2)'},\n",
       "  {'b': 4.16, 'd': 0.32, 'p': 0.971, 't': 'something'},\n",
       "  {'b': 4.48, 'd': 0.3, 'p': 0.961, 't': 'that'},\n",
       "  {'b': 4.78, 'd': 0.51, 'p': 0.968, 't': 'style'},\n",
       "  {'b': 5.29, 'd': 0.11, 'p': 0.955, 't': '<sil>'}]}"
      ]
     },
     "execution_count": 176,
     "metadata": {},
     "output_type": "execute_result"
    }
   ],
   "source": [
    "data"
   ]
  },
  {
   "cell_type": "code",
   "execution_count": 179,
   "metadata": {},
   "outputs": [],
   "source": [
    "from praatio import textgrid"
   ]
  },
  {
   "cell_type": "code",
   "execution_count": 178,
   "metadata": {},
   "outputs": [
    {
     "name": "stdout",
     "output_type": "stream",
     "text": [
      "{'b': 0.0, 'd': 0.25, 'p': 0.964, 't': 'yeah'}\n",
      "{'b': 0.25, 'd': 0.15, 'p': 0.937, 't': \"that's\"}\n",
      "{'b': 0.4, 'd': 0.2, 'p': 0.978, 't': 'true'}\n",
      "{'b': 0.6, 'd': 0.06, 'p': 0.974, 't': 'i'}\n",
      "{'b': 0.66, 'd': 0.18, 'p': 0.98, 't': 'mean'}\n",
      "{'b': 0.84, 'd': 0.14, 'p': 0.979, 't': 'they'}\n",
      "{'b': 0.98, 'd': 0.07, 'p': 0.983, 't': 'are(2)'}\n",
      "{'b': 1.05, 'd': 0.11, 'p': 0.987, 't': 'the'}\n",
      "{'b': 1.16, 'd': 0.26, 'p': 0.974, 't': 'same'}\n",
      "{'b': 1.42, 'd': 0.38, 'p': 0.956, 't': 'size'}\n",
      "{'b': 1.8, 'd': 0.12, 'p': 0.975, 't': 'and'}\n",
      "{'b': 1.92, 'd': 0.11, 'p': 0.986, 't': 'they'}\n",
      "{'b': 2.03, 'd': 0.14, 'p': 0.983, 't': 'are(2)'}\n",
      "{'b': 2.17, 'd': 0.03, 'p': 0.99, 't': 'a'}\n",
      "{'b': 2.2, 'd': 0.18, 'p': 0.914, 't': 'little'}\n",
      "{'b': 2.38, 'd': 0.14, 'p': 0.98, 't': 'bit'}\n",
      "{'b': 2.52, 'd': 0.22, 'p': 0.935, 't': 'but'}\n",
      "{'b': 2.74, 'd': 0.11, 'p': 0.983, 't': 'i'}\n",
      "{'b': 2.85, 'd': 0.26, 'p': 0.968, 't': 'think'}\n",
      "{'b': 3.11, 'd': 0.19, 'p': 0.975, 't': 'i'}\n",
      "{'b': 3.3, 'd': 0.09, 'p': 0.977, 't': 'i'}\n",
      "{'b': 3.39, 'd': 0.2, 'p': 0.976, 't': 'should'}\n",
      "{'b': 3.59, 'd': 0.15, 'p': 0.982, 't': 'go'}\n",
      "{'b': 3.74, 'd': 0.22, 'p': 0.979, 't': 'more'}\n",
      "{'b': 3.96, 'd': 0.2, 'p': 0.978, 't': 'for(2)'}\n",
      "{'b': 4.16, 'd': 0.32, 'p': 0.971, 't': 'something'}\n",
      "{'b': 4.48, 'd': 0.3, 'p': 0.961, 't': 'that'}\n",
      "{'b': 4.78, 'd': 0.51, 'p': 0.968, 't': 'style'}\n",
      "{'b': 5.29, 'd': 0.11, 'p': 0.955, 't': '<sil>'}\n"
     ]
    }
   ],
   "source": [
    "for word in data[\"w\"]:\n",
    "    print(word)"
   ]
  }
 ],
 "metadata": {
  "language_info": {
   "name": "python"
  }
 },
 "nbformat": 4,
 "nbformat_minor": 2
}
