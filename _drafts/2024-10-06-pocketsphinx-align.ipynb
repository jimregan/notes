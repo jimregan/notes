{
 "cells": [
  {
   "cell_type": "code",
   "execution_count": 1,
   "metadata": {},
   "outputs": [],
   "source": [
    "from pydub import AudioSegment"
   ]
  },
  {
   "cell_type": "code",
   "execution_count": 14,
   "metadata": {},
   "outputs": [],
   "source": [
    "%%capture\n",
    "%pip install pocketsphinx"
   ]
  },
  {
   "cell_type": "code",
   "execution_count": 31,
   "metadata": {},
   "outputs": [],
   "source": [
    "MAPPING = \"\"\"\n",
    "ɑː AA\n",
    "æ AE\n",
    "ə AH\n",
    "ɐ AH\n",
    "ʌ AH\n",
    "ɔː AO\n",
    "aʊ AW\n",
    "aɪ AY\n",
    "b B\n",
    "tʃ CH\n",
    "d D\n",
    "ð DH\n",
    "ɛ EH\n",
    "ɚ ER\n",
    "ɜː ER\n",
    "eɪ EY\n",
    "f F\n",
    "ɡ G\n",
    "h HH\n",
    "ɪ IH\n",
    "i IY\n",
    "iː IY\n",
    "dʒ JH\n",
    "k K\n",
    "l L\n",
    "m M\n",
    "n N\n",
    "ŋ NG\n",
    "oʊ OW\n",
    "ɔɪ OY\n",
    "p P\n",
    "ɹ R\n",
    "s S\n",
    "ʃ SH\n",
    "t T\n",
    "θ TH\n",
    "ʊ UH\n",
    "uː UW\n",
    "v V\n",
    "w W\n",
    "j Y\n",
    "z Z\n",
    "ʒ ZH\n",
    "ɾ D\n",
    "\"\"\""
   ]
  },
  {
   "cell_type": "code",
   "execution_count": 62,
   "metadata": {},
   "outputs": [],
   "source": [
    "espeak_to_cmudict = {}\n",
    "for line in MAPPING.split(\"\\n\"):\n",
    "    if line == \"\":\n",
    "        continue\n",
    "    line = line.strip()\n",
    "    parts = line.split(\" \")\n",
    "\n",
    "    if len(parts) != 2:\n",
    "        print(line)\n",
    "        continue\n",
    "    k, v = line.split(\" \")\n",
    "    if not k in espeak_to_cmudict:\n",
    "        espeak_to_cmudict[k] = v\n",
    "    "
   ]
  },
  {
   "cell_type": "code",
   "execution_count": 81,
   "metadata": {},
   "outputs": [],
   "source": [
    "import re\n",
    "\n",
    "cmudict_keys = espeak_to_cmudict.keys()\n",
    "cmudict_keys = sorted(cmudict_keys, key=len, reverse=True)\n",
    "espeak_regex = re.compile(rf\"({'|'.join(cmudict_keys)})\")\n",
    "\n",
    "def cmudictify(espeak):\n",
    "    espeak = espeak.replace(\"ˈ\", \"\").replace(\"ˌ\", \"\")\n",
    "    return \" \".join([espeak_to_cmudict[x] for x in re.findall(espeak_regex, espeak)])"
   ]
  },
  {
   "cell_type": "code",
   "execution_count": 58,
   "metadata": {},
   "outputs": [],
   "source": [
    "EGTEXT = \"Yeah, that's true. I mean, they are the same size and they are a little bit, but I think I I should go more for something that style.\"\n",
    "EGPHON = \"/jˈæ ðˈæs tɹˈuː ə mˈiːn ðˈeɪ ɚ ðə sˈeɪm sˈaɪz ən ðˈeɪ ˈɑːɹ ə lˈɪɾə bˈɪɾ bˈʌt ˈaɪ θˈɪŋk ˈaɪ ˈaɪ ʃˈʊ ɡˈoʊ mˈɔːɹ fɚ sˈʌmθɪŋ ðˈæt stˈaɪl./\"\n",
    "EGFILE = \"/Users/joregan/Playing/hsi/audio/hsi_7_0719_210_001_main.wav\"\n",
    "EGSTART = 70.028\n",
    "EGEND = 75.441"
   ]
  },
  {
   "cell_type": "code",
   "execution_count": 79,
   "metadata": {},
   "outputs": [],
   "source": [
    "def normword(text):\n",
    "    text = text.strip(\",.;:!?\")\n",
    "    return text.lower()\n",
    "\n",
    "def normphon(phon):\n",
    "    phon = phon.strip(\",.;:!?\")\n",
    "    return phon\n",
    "\n",
    "def make_lexicon(text, phon):\n",
    "    if phon.startswith(\"/\") and phon.endswith(\"/\"):\n",
    "        phon = phon[1:-1]\n",
    "    words = [normword(x) for x in text.split(\" \")]\n",
    "    phonwords = [cmudictify(normphon(x)) for x in phon.split(\" \")]\n",
    "    assert len(words) == len(phonwords)\n",
    "    output = list(set(zip(words, phonwords)))\n",
    "    return output\n",
    "    "
   ]
  },
  {
   "cell_type": "code",
   "execution_count": 83,
   "metadata": {},
   "outputs": [],
   "source": [
    "lex = make_lexicon(EGTEXT, EGPHON)"
   ]
  },
  {
   "cell_type": "code",
   "execution_count": 85,
   "metadata": {},
   "outputs": [],
   "source": [
    "audio = AudioSegment.from_file(EGFILE)"
   ]
  },
  {
   "cell_type": "code",
   "execution_count": 86,
   "metadata": {},
   "outputs": [],
   "source": [
    "audio = audio.set_frame_rate(16000)"
   ]
  },
  {
   "cell_type": "code",
   "execution_count": 87,
   "metadata": {},
   "outputs": [],
   "source": [
    "seg = audio[int(EGSTART * 1000):int(EGEND * 1000)]"
   ]
  },
  {
   "cell_type": "code",
   "execution_count": 90,
   "metadata": {},
   "outputs": [
    {
     "data": {
      "text/html": [
       "\n",
       "                    <audio controls>\n",
       "                        <source src=\"data:audio/mpeg;base64,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\" type=\"audio/mpeg\"/>\n",
       "                        Your browser does not support the audio element.\n",
       "                    </audio>\n",
       "                  "
      ],
      "text/plain": [
       "<pydub.audio_segment.AudioSegment at 0x7fb7788490a0>"
      ]
     },
     "execution_count": 90,
     "metadata": {},
     "output_type": "execute_result"
    }
   ],
   "source": [
    "seg.get_array_of_samples()"
   ]
  },
  {
   "cell_type": "code",
   "execution_count": 128,
   "metadata": {},
   "outputs": [],
   "source": [
    "def make_ps_dict(entries):\n",
    "    counts = {}\n",
    "    output = []\n",
    "    lex = sorted(entries)\n",
    "    for entry in lex:\n",
    "        count = 1\n",
    "        if not entry[0] in counts:\n",
    "            counts[entry[0]] = 1\n",
    "        else:\n",
    "            counts[entry[0]] += 1\n",
    "            count = counts[entry[0]]\n",
    "        if count != 1:\n",
    "            subscript = f\"({count})\"\n",
    "        else:\n",
    "            subscript = \"\"\n",
    "        output.append(f\"{entry[0]}{subscript} {entry[1]}\")\n",
    "    return output"
   ]
  },
  {
   "cell_type": "code",
   "execution_count": 97,
   "metadata": {},
   "outputs": [],
   "source": [
    "def make_fsg_transitions_from_text(text):\n",
    "    words = [normword(x) for x in text.split(\" \")]\n",
    "    enum = [x for x in enumerate(words)]\n",
    "    trans = [(x[0], x[0] + 1, 1.0, x[1]) for x in enum]\n",
    "    return trans"
   ]
  },
  {
   "cell_type": "code",
   "execution_count": 99,
   "metadata": {},
   "outputs": [],
   "source": [
    "fsgt = make_fsg_transitions_from_text(EGTEXT)"
   ]
  },
  {
   "cell_type": "code",
   "execution_count": 100,
   "metadata": {},
   "outputs": [],
   "source": [
    "start_state = fsgt[0][0]\n",
    "end_state = fsgt[-1][1]"
   ]
  },
  {
   "cell_type": "code",
   "execution_count": 125,
   "metadata": {},
   "outputs": [],
   "source": [
    "import pocketsphinx\n",
    "\n",
    "decoder = pocketsphinx.Decoder(lm=None)\n",
    "fsg = decoder.create_fsg(\"dummy\", start_state, end_state, fsgt)"
   ]
  },
  {
   "cell_type": "code",
   "execution_count": 132,
   "metadata": {},
   "outputs": [],
   "source": [
    "import tempfile\n",
    "entries = make_ps_dict(lex)\n",
    "\n",
    "with tempfile.NamedTemporaryFile(suffix=\".dict\") as dictf:\n",
    "    with open(dictf.name, \"w\") as dictout:\n",
    "        for entry in entries:\n",
    "            dictout.write(entry + \"\\n\")\n",
    "\n",
    "    decoder = pocketsphinx.Decoder(lm=None, dict=dictf.name)\n",
    "    fsg = decoder.create_fsg(\"dummy\", start_state, end_state, fsgt)"
   ]
  },
  {
   "cell_type": "code",
   "execution_count": 133,
   "metadata": {},
   "outputs": [],
   "source": [
    "import tempfile\n",
    "entries = make_ps_dict(lex)\n",
    "\n",
    "with open(\"/tmp/testing.dict\", \"w\") as dictout:\n",
    "    for entry in entries:\n",
    "        dictout.write(entry + \"\\n\")\n",
    "\n",
    "decoder = pocketsphinx.Decoder(lm=None, dict=\"/tmp/testing.dict\")\n",
    "fsg = decoder.create_fsg(\"dummy\", start_state, end_state, fsgt)"
   ]
  },
  {
   "cell_type": "code",
   "execution_count": 134,
   "metadata": {},
   "outputs": [
    {
     "ename": "ValueError",
     "evalue": "Buffer dtype mismatch, expected 'const unsigned char' but got 'int'",
     "output_type": "error",
     "traceback": [
      "\u001b[0;31m---------------------------------------------------------------------------\u001b[0m",
      "\u001b[0;31mValueError\u001b[0m                                Traceback (most recent call last)",
      "Cell \u001b[0;32mIn [134], line 1\u001b[0m\n\u001b[0;32m----> 1\u001b[0m \u001b[43mdecoder\u001b[49m\u001b[38;5;241;43m.\u001b[39;49m\u001b[43mprocess_raw\u001b[49m\u001b[43m(\u001b[49m\u001b[43mseg\u001b[49m\u001b[38;5;241;43m.\u001b[39;49m\u001b[43mget_array_of_samples\u001b[49m\u001b[43m(\u001b[49m\u001b[43m)\u001b[49m\u001b[43m)\u001b[49m\n",
      "File \u001b[0;32m_pocketsphinx.pyx:964\u001b[0m, in \u001b[0;36m_pocketsphinx.Decoder.process_raw\u001b[0;34m()\u001b[0m\n",
      "\u001b[0;31mValueError\u001b[0m: Buffer dtype mismatch, expected 'const unsigned char' but got 'int'"
     ]
    }
   ],
   "source": [
    "decoder.process_raw(seg.get_array_of_samples())"
   ]
  }
 ],
 "metadata": {
  "language_info": {
   "name": "python"
  }
 },
 "nbformat": 4,
 "nbformat_minor": 2
}
