{
 "cells": [
  {
   "cell_type": "markdown",
   "metadata": {},
   "source": [
    "# Trying to use pocketsphinx to word align\n",
    "\n",
    "> \"Because timing accuracy in ASR is getting progressively worse, look backwards\"\n",
    "\n",
    "- branch: master\n",
    "- comments: false\n",
    "- categories: [pocketsphinx, hsi, alignment]"
   ]
  },
  {
   "cell_type": "code",
   "execution_count": 1,
   "metadata": {},
   "outputs": [],
   "source": [
    "from pydub import AudioSegment\n",
    "import pocketsphinx\n",
    "import tempfile"
   ]
  },
  {
   "cell_type": "code",
   "execution_count": 2,
   "metadata": {},
   "outputs": [],
   "source": [
    "MAPPING = \"\"\"\n",
    "ɑː AA\n",
    "æ AE\n",
    "ə AH\n",
    "ɐ AH\n",
    "ʌ AH\n",
    "ɔː AO\n",
    "aʊ AW\n",
    "aɪ AY\n",
    "b B\n",
    "tʃ CH\n",
    "d D\n",
    "ð DH\n",
    "ɛ EH\n",
    "ɚ ER\n",
    "ɜː ER\n",
    "eɪ EY\n",
    "f F\n",
    "ɡ G\n",
    "h HH\n",
    "ɪ IH\n",
    "i IY\n",
    "iː IY\n",
    "dʒ JH\n",
    "k K\n",
    "l L\n",
    "m M\n",
    "n N\n",
    "ŋ NG\n",
    "oʊ OW\n",
    "ɔɪ OY\n",
    "p P\n",
    "ɹ R\n",
    "s S\n",
    "ʃ SH\n",
    "t T\n",
    "θ TH\n",
    "ʊ UH\n",
    "uː UW\n",
    "v V\n",
    "w W\n",
    "j Y\n",
    "z Z\n",
    "ʒ ZH\n",
    "ɾ D\n",
    "\"\"\""
   ]
  },
  {
   "cell_type": "code",
   "execution_count": 3,
   "metadata": {},
   "outputs": [],
   "source": [
    "espeak_to_cmudict = {}\n",
    "for line in MAPPING.split(\"\\n\"):\n",
    "    if line == \"\":\n",
    "        continue\n",
    "    line = line.strip()\n",
    "    parts = line.split(\" \")\n",
    "\n",
    "    if len(parts) != 2:\n",
    "        print(line)\n",
    "        continue\n",
    "    k, v = line.split(\" \")\n",
    "    if not k in espeak_to_cmudict:\n",
    "        espeak_to_cmudict[k] = v\n",
    "    "
   ]
  },
  {
   "cell_type": "code",
   "execution_count": 4,
   "metadata": {},
   "outputs": [],
   "source": [
    "import re\n",
    "\n",
    "cmudict_keys = espeak_to_cmudict.keys()\n",
    "cmudict_keys = sorted(cmudict_keys, key=len, reverse=True)\n",
    "espeak_regex = re.compile(rf\"({'|'.join(cmudict_keys)})\")\n",
    "\n",
    "def cmudictify(espeak):\n",
    "    espeak = espeak.replace(\"ˈ\", \"\").replace(\"ˌ\", \"\")\n",
    "    return \" \".join([espeak_to_cmudict[x] for x in re.findall(espeak_regex, espeak)])"
   ]
  },
  {
   "cell_type": "code",
   "execution_count": 35,
   "metadata": {},
   "outputs": [],
   "source": [
    "EGTEXT = \"Yeah, that's true. I mean, they are the same size and they are a little bit, but I think I I should go more for something that style.\"\n",
    "EGPHON = \"/jˈæ ðˈæs tɹˈuː ə mˈiːn ðˈeɪ ɚ ðə sˈeɪm sˈaɪz ən ðˈeɪ ɚ ə lˈɪɾə bˈɪɾ bˈʌt ˈaɪ θˈɪŋk ˈaɪ ˈaɪ ʃˈʊ ɡˈoʊ mˈɔːɹ fɚ sˈʌmθɪŋ ðˈæt stˈaɪl./\"\n",
    "EGFILE = \"/Users/joregan/Playing/hsi/audio/hsi_7_0719_210_001_main.wav\"\n",
    "EGSTART = 70.028\n",
    "EGEND = 75.441"
   ]
  },
  {
   "cell_type": "code",
   "execution_count": null,
   "metadata": {},
   "outputs": [],
   "source": [
    "EGTEXT = \"no it's a cheetah, ah, yes it's a cheetah ah and, uh, that one is from, uh, India and, uh, it's really\"\n",
    "EGPHON = \"/nˈoʊ ɪts ɐ tʃˈiːt ˈɑːɛ jˈɑs ɪts ɐ tʃˈiːtə ˈɑː ænd ˈɛ ðˈæt wˌʌn ɪz fɹˈɑːm ˈɛ ˈɪndiæ ænd ˈɛ ɪts ɹˈili/\"\n",
    "EGFILE = \"/Users/joregan/Playing/hsi/audio/hsi_5_0718_211_002_main.wav\"\n",
    "\n",
    "EGTEXT2 = \"So it was standing somewhere in the middle of the room and it was flying around.\"\n",
    "EGSTART2 = 122.709\n",
    "EGEND2 = 126.344"
   ]
  },
  {
   "cell_type": "code",
   "execution_count": 7,
   "metadata": {},
   "outputs": [],
   "source": [
    "def normword(text):\n",
    "    text = text.strip(\",.;:!?\")\n",
    "    return text.lower()\n",
    "\n",
    "def normphon(phon):\n",
    "    phon = phon.strip(\",.;:!?\")\n",
    "    return phon\n",
    "\n",
    "def make_lexicon(text, phon):\n",
    "    if phon.startswith(\"/\") and phon.endswith(\"/\"):\n",
    "        phon = phon[1:-1]\n",
    "    words = [normword(x) for x in text.split(\" \")]\n",
    "    phonwords = [cmudictify(normphon(x)) for x in phon.split(\" \")]\n",
    "    assert len(words) == len(phonwords)\n",
    "    output = list(set(zip(words, phonwords)))\n",
    "    return output\n",
    "    "
   ]
  },
  {
   "cell_type": "code",
   "execution_count": 8,
   "metadata": {},
   "outputs": [],
   "source": [
    "def make_ps_dict(entries):\n",
    "    counts = {}\n",
    "    output = []\n",
    "    lex = sorted(entries)\n",
    "    for entry in lex:\n",
    "        count = 1\n",
    "        if not entry[0] in counts:\n",
    "            counts[entry[0]] = 1\n",
    "        else:\n",
    "            counts[entry[0]] += 1\n",
    "            count = counts[entry[0]]\n",
    "        if count != 1:\n",
    "            subscript = f\"({count})\"\n",
    "        else:\n",
    "            subscript = \"\"\n",
    "        output.append(f\"{entry[0]}{subscript} {entry[1]}\")\n",
    "    return output"
   ]
  },
  {
   "cell_type": "code",
   "execution_count": 9,
   "metadata": {},
   "outputs": [],
   "source": [
    "def make_fsg_transitions_from_text(text):\n",
    "    words = [normword(x) for x in text.split(\" \")]\n",
    "    enum = [x for x in enumerate(words)]\n",
    "    trans = [(x[0], x[0] + 1, 1.0, x[1]) for x in enum]\n",
    "    return trans"
   ]
  },
  {
   "cell_type": "code",
   "execution_count": 10,
   "metadata": {},
   "outputs": [],
   "source": [
    "audio = AudioSegment.from_file(EGFILE)\n",
    "audio = audio.set_frame_rate(16000)"
   ]
  },
  {
   "cell_type": "code",
   "execution_count": 36,
   "metadata": {},
   "outputs": [],
   "source": [
    "def align_with_pocketsphinx(text, phones, audio, start, end):\n",
    "    lex = make_lexicon(text, phones)\n",
    "    entries = make_ps_dict(lex)\n",
    "    segments = []\n",
    "\n",
    "    with (\n",
    "        tempfile.NamedTemporaryFile(suffix=\".dict\", delete=False) as dictf,\n",
    "        tempfile.NamedTemporaryFile(suffix=\".raw\", delete=False) as wavf,\n",
    "    ):\n",
    "\n",
    "        with open(dictf.name, \"w\") as dictout:\n",
    "            for entry in entries:\n",
    "                print(entry)\n",
    "                dictout.write(entry + \"\\n\")\n",
    "\n",
    "        audioseg = audio[int(start * 1000):int(end * 1000)]\n",
    "        audioseg.export(wavf.name, format=\"s16le\", parameters=[\"-ac\", \"1\", \"-acodec\", \"pcm_s16le\", \"-f\", \"s16le\", \"-ar\", \"16000\"])\n",
    "        print(wavf.name)\n",
    "\n",
    "        fsgt = make_fsg_transitions_from_text(text)\n",
    "        start_state = fsgt[0][0]\n",
    "        end_state = fsgt[-1][1]\n",
    "\n",
    "        decoder = pocketsphinx.Decoder(lm=None, dict=dictf.name)\n",
    "        fsg = decoder.create_fsg(\"dummy\", start_state, end_state, fsgt)\n",
    "        fsg.writefile(\"/tmp/fsm\")\n",
    "        decoder.add_fsg(\"dummy\", fsg)\n",
    "        decoder.activate_search(\"dummy\")\n",
    "        decoder.start_utt()\n",
    "        # decoder.process_raw(seg.get_array_of_samples('B'))\n",
    "        decoder.process_raw(wavf.read(), full_utt=True)\n",
    "        decoder.end_utt()\n",
    "        for seg in decoder.seg():\n",
    "            segments.append({\n",
    "                \"word\": seg.word,\n",
    "                \"start_frame\": seg.start_frame,\n",
    "                \"end_frame\": seg.end_frame\n",
    "            })\n",
    "    return segments"
   ]
  },
  {
   "cell_type": "code",
   "execution_count": 37,
   "metadata": {},
   "outputs": [
    {
     "name": "stdout",
     "output_type": "stream",
     "text": [
      "a AH\n",
      "and AH N\n",
      "are ER\n",
      "bit B IH D\n",
      "but B AH T\n",
      "for F ER\n",
      "go G OW\n",
      "i AH\n",
      "i(2) AY\n",
      "little L IH D AH\n",
      "mean M IY N\n",
      "more M AO R\n",
      "same S EY M\n",
      "should SH UH\n",
      "size S AY Z\n",
      "something S AH M TH IH NG\n",
      "style S T AY L\n",
      "that DH AE T\n",
      "that's DH AE S\n",
      "the DH AH\n",
      "they DH EY\n",
      "think TH IH NG K\n",
      "true T R UW\n",
      "yeah Y AE\n",
      "/var/folders/d9/cbkhg23x349_t692zq6yhcv00000gn/T/tmpu2pmfssj.raw\n"
     ]
    },
    {
     "name": "stderr",
     "output_type": "stream",
     "text": [
      "ERROR: \"fsg_search.c\", line 944: Final result does not match the grammar in frame 540\n"
     ]
    },
    {
     "ename": "TypeError",
     "evalue": "'NoneType' object is not iterable",
     "output_type": "error",
     "traceback": [
      "\u001b[0;31m---------------------------------------------------------------------------\u001b[0m",
      "\u001b[0;31mTypeError\u001b[0m                                 Traceback (most recent call last)",
      "Cell \u001b[0;32mIn [37], line 1\u001b[0m\n\u001b[0;32m----> 1\u001b[0m segs \u001b[38;5;241m=\u001b[39m \u001b[43malign_with_pocketsphinx\u001b[49m\u001b[43m(\u001b[49m\u001b[43mEGTEXT\u001b[49m\u001b[43m,\u001b[49m\u001b[43m \u001b[49m\u001b[43mEGPHON\u001b[49m\u001b[43m,\u001b[49m\u001b[43m \u001b[49m\u001b[43maudio\u001b[49m\u001b[43m,\u001b[49m\u001b[43m \u001b[49m\u001b[43mEGSTART\u001b[49m\u001b[43m,\u001b[49m\u001b[43m \u001b[49m\u001b[43mEGEND\u001b[49m\u001b[43m)\u001b[49m\n",
      "Cell \u001b[0;32mIn [36], line 33\u001b[0m, in \u001b[0;36malign_with_pocketsphinx\u001b[0;34m(text, phones, audio, start, end)\u001b[0m\n\u001b[1;32m     31\u001b[0m     decoder\u001b[38;5;241m.\u001b[39mprocess_raw(wavf\u001b[38;5;241m.\u001b[39mread(), full_utt\u001b[38;5;241m=\u001b[39m\u001b[38;5;28;01mTrue\u001b[39;00m)\n\u001b[1;32m     32\u001b[0m     decoder\u001b[38;5;241m.\u001b[39mend_utt()\n\u001b[0;32m---> 33\u001b[0m     \u001b[38;5;28;01mfor\u001b[39;00m seg \u001b[38;5;129;01min\u001b[39;00m decoder\u001b[38;5;241m.\u001b[39mseg():\n\u001b[1;32m     34\u001b[0m         segments\u001b[38;5;241m.\u001b[39mappend({\n\u001b[1;32m     35\u001b[0m             \u001b[38;5;124m\"\u001b[39m\u001b[38;5;124mword\u001b[39m\u001b[38;5;124m\"\u001b[39m: seg\u001b[38;5;241m.\u001b[39mword,\n\u001b[1;32m     36\u001b[0m             \u001b[38;5;124m\"\u001b[39m\u001b[38;5;124mstart_frame\u001b[39m\u001b[38;5;124m\"\u001b[39m: seg\u001b[38;5;241m.\u001b[39mstart_frame,\n\u001b[1;32m     37\u001b[0m             \u001b[38;5;124m\"\u001b[39m\u001b[38;5;124mend_frame\u001b[39m\u001b[38;5;124m\"\u001b[39m: seg\u001b[38;5;241m.\u001b[39mend_frame\n\u001b[1;32m     38\u001b[0m         })\n\u001b[1;32m     39\u001b[0m \u001b[38;5;28;01mreturn\u001b[39;00m segments\n",
      "\u001b[0;31mTypeError\u001b[0m: 'NoneType' object is not iterable"
     ]
    }
   ],
   "source": [
    "segs = align_with_pocketsphinx(EGTEXT, EGPHON, audio, EGSTART, EGEND)"
   ]
  },
  {
   "cell_type": "code",
   "execution_count": 43,
   "metadata": {},
   "outputs": [],
   "source": [
    "!/opt/homebrew/bin/sox /tmp/clip.wav $(/opt/homebrew/bin/pocketsphinx soxflags) > /tmp/ps.raw"
   ]
  }
 ],
 "metadata": {
  "kernelspec": {
   "display_name": "hf",
   "language": "python",
   "name": "python3"
  },
  "language_info": {
   "codemirror_mode": {
    "name": "ipython",
    "version": 3
   },
   "file_extension": ".py",
   "mimetype": "text/x-python",
   "name": "python",
   "nbconvert_exporter": "python",
   "pygments_lexer": "ipython3",
   "version": "3.9.15"
  }
 },
 "nbformat": 4,
 "nbformat_minor": 2
}
