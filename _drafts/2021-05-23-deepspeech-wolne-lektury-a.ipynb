{
 "cells": [
  {
   "cell_type": "code",
   "execution_count": 1,
   "id": "brutal-eight",
   "metadata": {
    "execution": {
     "iopub.execute_input": "2021-05-23T01:39:14.374022Z",
     "iopub.status.busy": "2021-05-23T01:39:14.372291Z",
     "iopub.status.idle": "2021-05-23T01:39:25.531355Z",
     "shell.execute_reply": "2021-05-23T01:39:25.530501Z",
     "shell.execute_reply.started": "2021-05-23T01:32:43.981357Z"
    },
    "papermill": {
     "duration": 11.171628,
     "end_time": "2021-05-23T01:39:25.531531",
     "exception": false,
     "start_time": "2021-05-23T01:39:14.359903",
     "status": "completed"
    },
    "tags": []
   },
   "outputs": [
    {
     "name": "stdout",
     "output_type": "stream",
     "text": [
      "Collecting deepspeech\r\n",
      "  Downloading deepspeech-0.9.3-cp37-cp37m-manylinux1_x86_64.whl (9.2 MB)\r\n",
      "\u001b[K     |████████████████████████████████| 9.2 MB 7.3 MB/s \r\n",
      "\u001b[?25hRequirement already satisfied: numpy>=1.14.5 in /opt/conda/lib/python3.7/site-packages (from deepspeech) (1.19.5)\r\n",
      "Installing collected packages: deepspeech\r\n",
      "Successfully installed deepspeech-0.9.3\r\n"
     ]
    }
   ],
   "source": [
    "!pip install deepspeech"
   ]
  },
  {
   "cell_type": "code",
   "execution_count": null,
   "id": "silver-combining",
   "metadata": {
    "execution": {
     "iopub.execute_input": "2021-05-23T01:39:25.573544Z",
     "iopub.status.busy": "2021-05-23T01:39:25.572360Z",
     "iopub.status.idle": "2021-05-23T03:58:14.637267Z",
     "shell.execute_reply": "2021-05-23T03:58:14.634952Z"
    },
    "papermill": {
     "duration": 8329.090778,
     "end_time": "2021-05-23T03:58:14.637572",
     "exception": false,
     "start_time": "2021-05-23T01:39:25.546794",
     "status": "completed"
    },
    "tags": []
   },
   "outputs": [],
   "source": [
    "!for i in ../input/wolne-lektury-audio-zip/a*.zip; do unzip $i; for j in *.mp3; do base=$(basename \"$j\" \".mp3\"); out=\"$base.wav\"; ffmpeg -i $j -acodec pcm_s16le -ac 1 -ar 16000 $out; deepspeech --model ../input/polish-deepspeech-models/output_graph_pl.pbmm --scorer ../input/polish-deepspeech-models/kenlm_pl.scorer --json --audio $out > $base.json; rm $out $j; done; done"
   ]
  }
 ],
 "metadata": {
  "kernelspec": {
   "display_name": "Python 3",
   "language": "python",
   "name": "python3"
  },
  "language_info": {
   "codemirror_mode": {
    "name": "ipython",
    "version": 3
   },
   "file_extension": ".py",
   "mimetype": "text/x-python",
   "name": "python",
   "nbconvert_exporter": "python",
   "pygments_lexer": "ipython3",
   "version": "3.8.2"
  },
  "papermill": {
   "default_parameters": {},
   "duration": 8349.111611,
   "end_time": "2021-05-23T03:58:15.487655",
   "environment_variables": {},
   "exception": null,
   "input_path": "__notebook__.ipynb",
   "output_path": "__notebook__.ipynb",
   "parameters": {},
   "start_time": "2021-05-23T01:39:06.376044",
   "version": "2.3.3"
  }
 },
 "nbformat": 4,
 "nbformat_minor": 5
}
