{
 "cells": [
  {
   "cell_type": "code",
   "execution_count": 1,
   "metadata": {},
   "outputs": [],
   "source": [
    "import requests\n",
    "from bs4 import BeautifulSoup"
   ]
  },
  {
   "cell_type": "code",
   "execution_count": 41,
   "metadata": {},
   "outputs": [],
   "source": [
    "def get_years():\n",
    "    _TOP = \"https://www.speech.kth.se/qpsr/\"\n",
    "    _TOP_HTML = requests.get(_TOP)\n",
    "    assert _TOP_HTML.status_code == 200\n",
    "\n",
    "    _TOP_SOUP = BeautifulSoup(_TOP_HTML.text, 'html.parser')\n",
    "    by_years = _TOP_SOUP.find_all(\"select\", {\"name\": \"year\"})\n",
    "    years = [opt.text for by_year in by_years for opt in by_year.find_all(\"option\")]\n",
    "    return years"
   ]
  },
  {
   "cell_type": "code",
   "execution_count": 3,
   "metadata": {},
   "outputs": [],
   "source": []
  }
 ],
 "metadata": {
  "interpreter": {
   "hash": "2603f07046c437130ee32ef9381ac7221f7902403001eace09f7e749adb599f7"
  },
  "kernelspec": {
   "display_name": "Python 3.9.7 ('base')",
   "language": "python",
   "name": "python3"
  },
  "language_info": {
   "codemirror_mode": {
    "name": "ipython",
    "version": 3
   },
   "file_extension": ".py",
   "mimetype": "text/x-python",
   "name": "python",
   "nbconvert_exporter": "python",
   "pygments_lexer": "ipython3",
   "version": "3.9.7"
  },
  "orig_nbformat": 4
 },
 "nbformat": 4,
 "nbformat_minor": 2
}
