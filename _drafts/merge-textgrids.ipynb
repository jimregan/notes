{
 "cells": [
  {
   "cell_type": "code",
   "execution_count": 4,
   "metadata": {},
   "outputs": [],
   "source": [
    "from praatio import textgrid"
   ]
  },
  {
   "cell_type": "code",
   "execution_count": 2,
   "metadata": {},
   "outputs": [],
   "source": [
    "from pathlib import Path"
   ]
  },
  {
   "cell_type": "code",
   "execution_count": 3,
   "metadata": {},
   "outputs": [],
   "source": [
    "_BARE = Path(\"/home/jim/Playing/snc-comparison/bare/\")\n",
    "_AUG = Path(\"/home/jim/Playing/snc-comparison/augmented/\")\n",
    "_MRG = Path(\"/home/jim/Playing/snc-comparison/merged/\")"
   ]
  },
  {
   "cell_type": "code",
   "execution_count": null,
   "metadata": {},
   "outputs": [],
   "source": [
    "for tg_file in _BARE.glob(\"*.TextGrid\"):\n",
    "    aug_tg_file = _AUG / f\"{tg_file.stem}.TextGrid\"\n",
    "    mrg_tg_file = _MRG / f\"{tg_file.stem}.TextGrid\"\n",
    "    tg_bare = textgrid.openTextgrid(tg_file, False)\n",
    "    tg_aug = textgrid.openTextgrid(aug_tg_file, False)"
   ]
  },
  {
   "cell_type": "code",
   "execution_count": 6,
   "metadata": {},
   "outputs": [],
   "source": [
    "_bare_sample = _BARE / \"snc_Gearrscealta_an_Phiarsaigh_0001.TextGrid\"\n",
    "_aug_sample = _AUG / \"snc_Gearrscealta_an_Phiarsaigh_0001.TextGrid\"\n",
    "_tg_bare = textgrid.openTextgrid(_bare_sample, False)\n",
    "_aug_bare = textgrid.openTextgrid(_aug_sample, False)"
   ]
  },
  {
   "cell_type": "code",
   "execution_count": 15,
   "metadata": {},
   "outputs": [],
   "source": [
    "_tg_bare.addTier(textgrid.IntervalTier(\"words1\", _aug_bare.tierDict['words'].entryList))\n",
    "_tg_bare.addTier(textgrid.IntervalTier(\"phones1\", _aug_bare.tierDict['phones'].entryList))"
   ]
  },
  {
   "cell_type": "code",
   "execution_count": 19,
   "metadata": {},
   "outputs": [
    {
     "name": "stdout",
     "output_type": "stream",
     "text": [
      "Textgrid has a min timestamp of (0.0) but tier has (0.85)\n",
      "Textgrid has a max timestamp of (7.5117) but tier has (4.71)\n",
      "Textgrid has a min timestamp of (0.0) but tier has (0.85)\n",
      "Textgrid has a max timestamp of (7.5117) but tier has (4.71)\n"
     ]
    }
   ],
   "source": [
    "_tg_bare.save(_MRG / \"snc_Gearrscealta_an_Phiarsaigh_0001.TextGrid\", \"long_textgrid\", True)"
   ]
  }
 ],
 "metadata": {
  "kernelspec": {
   "display_name": "Python 3",
   "language": "python",
   "name": "python3"
  },
  "language_info": {
   "codemirror_mode": {
    "name": "ipython",
    "version": 3
   },
   "file_extension": ".py",
   "mimetype": "text/x-python",
   "name": "python",
   "nbconvert_exporter": "python",
   "pygments_lexer": "ipython3",
   "version": "3.6.9"
  }
 },
 "nbformat": 4,
 "nbformat_minor": 2
}
