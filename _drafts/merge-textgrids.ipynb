{
 "cells": [
  {
   "cell_type": "markdown",
   "metadata": {},
   "source": [
    "Turns out there's an [example](https://github.com/timmahrt/praatIO/blob/main/examples/merge_tiers.py)"
   ]
  },
  {
   "cell_type": "code",
   "execution_count": 4,
   "metadata": {},
   "outputs": [],
   "source": [
    "from praatio import textgrid"
   ]
  },
  {
   "cell_type": "code",
   "execution_count": 2,
   "metadata": {},
   "outputs": [],
   "source": [
    "from pathlib import Path"
   ]
  },
  {
   "cell_type": "code",
   "execution_count": 3,
   "metadata": {},
   "outputs": [],
   "source": [
    "_BARE = Path(\"/home/jim/Playing/snc-comparison/bare/\")\n",
    "_AUG = Path(\"/home/jim/Playing/snc-comparison/augmented/\")\n",
    "_MRG = Path(\"/home/jim/Playing/snc-comparison/merged/\")"
   ]
  },
  {
   "cell_type": "code",
   "execution_count": null,
   "metadata": {},
   "outputs": [],
   "source": [
    "for tg_file in _BARE.glob(\"*.TextGrid\"):\n",
    "    aug_tg_file = _AUG / f\"{tg_file.stem}.TextGrid\"\n",
    "    mrg_tg_file = _MRG / f\"{tg_file.stem}.TextGrid\"\n",
    "    tg_bare = textgrid.openTextgrid(tg_file, False)\n",
    "    tg_aug = textgrid.openTextgrid(aug_tg_file, False)\n",
    "    tg_bare.addTier(textgrid.IntervalTier(\"words1\", tg_aug.tierDict['words'].entryList))\n",
    "    tg_bare.addTier(textgrid.IntervalTier(\"phones1\", tg_aug.tierDict['phones'].entryList))\n",
    "    tg_bare.save(mrg_tg_file, \"long_textgrid\", True)"
   ]
  }
 ],
 "metadata": {
  "kernelspec": {
   "display_name": "Python 3",
   "language": "python",
   "name": "python3"
  },
  "language_info": {
   "codemirror_mode": {
    "name": "ipython",
    "version": 3
   },
   "file_extension": ".py",
   "mimetype": "text/x-python",
   "name": "python",
   "nbconvert_exporter": "python",
   "pygments_lexer": "ipython3",
   "version": "3.6.9"
  }
 },
 "nbformat": 4,
 "nbformat_minor": 2
}
