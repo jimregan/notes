{
 "cells": [
  {
   "cell_type": "markdown",
   "metadata": {},
   "source": [
    "# Extract segments for ctc-forced-aligner\n",
    "\n",
    "> \"From tsv-formatted data\"\n",
    "\n",
    "- hidden: true\n",
    "- branch: master\n",
    "- categories: [forced-alignment, ctc, hsi]"
   ]
  },
  {
   "cell_type": "code",
   "execution_count": 1,
   "metadata": {},
   "outputs": [],
   "source": [
    "from pathlib import Path"
   ]
  },
  {
   "cell_type": "code",
   "execution_count": 3,
   "metadata": {},
   "outputs": [
    {
     "name": "stdout",
     "output_type": "stream",
     "text": [
      "237.16626686591627\t237.93940299427976\n"
     ]
    }
   ],
   "source": [
    "segments = {}\n",
    "count = 0\n",
    "for tsvfile in Path(\"/tmp/textgrid_cut\").glob(\"*.csv\"):\n",
    "    current = []\n",
    "    filestem = tsvfile.stem\n",
    "    with open(str(tsvfile)) as tsvf:\n",
    "        for line in tsvf.readlines():\n",
    "            line = line.strip()\n",
    "            if line == \"\":\n",
    "                continue\n",
    "            parts = line.split(\"\\t\")\n",
    "            if len(parts) != 3:\n",
    "                print(line)\n",
    "                continue\n",
    "            start = float(parts[0])\n",
    "            end = float(parts[1])\n",
    "            text = parts[2]\n",
    "            duration = (end - start)\n",
    "            current.append((start, end, text))\n",
    "        segments[filestem] = current"
   ]
  },
  {
   "cell_type": "code",
   "execution_count": 4,
   "metadata": {},
   "outputs": [
    {
     "data": {
      "text/plain": [
       "70"
      ]
     },
     "execution_count": 4,
     "metadata": {},
     "output_type": "execute_result"
    }
   ],
   "source": [
    "len(segments)"
   ]
  },
  {
   "cell_type": "code",
   "execution_count": 6,
   "metadata": {},
   "outputs": [],
   "source": [
    "from pydub import AudioSegment\n",
    "\n",
    "parameters = [\"-ac\", \"1\", \"-acodec\", \"pcm_s16le\", \"-ar\", \"16000\"]\n",
    "matcha_data = {}\n",
    "\n",
    "outdir = Path(\"/tmp/audio_clips\")\n",
    "\n",
    "if not outdir.is_dir():\n",
    "    outdir.mkdir()\n",
    "\n",
    "for scene in segments:\n",
    "    parts = scene.split(\"_\")\n",
    "    if parts[-1] == \"main\":\n",
    "        speaker = int(parts[1]) - 2\n",
    "    else:\n",
    "        if parts[1] == \"3\":\n",
    "            speaker = 5\n",
    "        else:\n",
    "            speaker = 6\n",
    "    if speaker not in matcha_data:\n",
    "        matcha_data[speaker] = []\n",
    "    \n",
    "    orig_audio = AudioSegment.from_file(f\"/Users/joregan/Playing/hsi/audio/audio_cut/{scene}.wav\")\n",
    "\n",
    "    for seg in segments[scene]:\n",
    "        start = int(seg[0] * 1000)\n",
    "        end = int(seg[1] * 1000)\n",
    "        text = seg[2]\n",
    "\n",
    "        chunk = orig_audio[start:end]\n",
    "        chunk_basename = f\"{scene}_{start}_{end}.wav\"\n",
    "        chunk_name = str(outdir / chunk_basename)\n",
    "\n",
    "        chunk.export(chunk_name, format=\"wav\", parameters=parameters)\n",
    "        with open(str(outdir / chunk_basename.replace(\".wav\", \".txt\")), \"w\") as txtout:\n",
    "            txtout.write(text)"
   ]
  },
  {
   "cell_type": "markdown",
   "metadata": {},
   "source": [
    "Aligner built with [this docker]({% post_url 2024-10-15-ctc-forced-aligner-lowenergy-docker %})\n",
    "\n",
    "```bash\n",
    "docker run -it --entrypoint /bin/bash -v'/home/joregan/audio_clips:/audio' --gpus all ctc-forced-aligner\n",
    "```\n",
    "\n",
    "\n",
    "```bash\n",
    "for i in /audio/*.wav;do ctc-forced-aligner --audio_path $i --text_path $(echo $i|sed -e 's/wav/txt/') --language en ;done\n",
    "```"
   ]
  }
 ],
 "metadata": {
  "kernelspec": {
   "display_name": "hf",
   "language": "python",
   "name": "python3"
  },
  "language_info": {
   "codemirror_mode": {
    "name": "ipython",
    "version": 3
   },
   "file_extension": ".py",
   "mimetype": "text/x-python",
   "name": "python",
   "nbconvert_exporter": "python",
   "pygments_lexer": "ipython3",
   "version": "3.9.15"
  }
 },
 "nbformat": 4,
 "nbformat_minor": 2
}
