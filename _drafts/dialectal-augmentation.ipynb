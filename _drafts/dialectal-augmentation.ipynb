{
 "cells": [
  {
   "cell_type": "markdown",
   "id": "cb912ae6",
   "metadata": {
    "slideshow": {
     "slide_type": "slide"
    }
   },
   "source": [
    "# Joint Normalisation and Dialectal Augmentation for Irish ASR"
   ]
  },
  {
   "cell_type": "markdown",
   "id": "63b0d76e",
   "metadata": {
    "slideshow": {
     "slide_type": "-"
    }
   },
   "source": [
    "Text normalisation is a typical component of a text-to-speech (TTS) system, responsible for expanding acronyms, and converting digits and similar expressions, such as dates and times, into a form suitable for reading. In automatic speech recognition (ASR), text normalisation has been used in corpus and language model preparation[^1].\n",
    "\n",
    "Text normalisation systems typically produce a single readable form of a given expression—after all, it would be redundant, if not confusing, if a TTS system were to read out more than one form of an expression. The particular form of an expression can be domain specific: “six a m” or “six o’clock” might be appropriate normalisations of the time 06:00 for civilian use, but a speech synthesiser designed for military use ought to read that time as “oh six hundred hours”[^3].\n",
    "\n",
    "The current popularity of ASR is in large part driven by intelligent assistants, such as Alexa or Siri, and in these contexts it typically serves as the input to an information extraction system. The ability to correctly transcribe time and date expressions is essential to much of the basic functionality of these assistants, such as setting alarms or adding events to a calendar.\n",
    "\n",
    "Irish is a Goidelic language from the Celtic language family, closely related to Scots Gaelic and Manx. Ethnologue (2019)[^4] classifies it as “threatened”, with 170,300 L1 speakers. Irish is a lightly inflected language—nouns decline for three cases (though there are vestigial forms of a fourth[^6]) but, like other languages in the Celtic family, it additionally has word-initial mutations, which can increase the complexity of the inflection. Originally a purely phonetic feature, these initial mutations have evolved to take on a grammatical element: for example, the third person possessive determiner “a” distinguishes among meanings of “his”, “her”, and “their” by the initial mutation of the following noun.\n",
    "\n",
    "There are three main dialects of Irish, named after the provinces where they are still spoken: Munster, Connaught, and Ulster. It is sometimes posited that the fourth province, Leinster, must have had a dialect of its own, but the evidence from the Anglicisation of placenames suggests that the Northern (Ulster) and Southern (Munster) dialects extended further South and North, respectively, while the Central (Connaught) dialect also extended to the South-East. Where once the Goidelic languages formed a dialect continuum, the shrinking of the areas where Irish is spoken lead to their isolation from each other, with resulting loss in mutual intelligibility, though the availability of Irish-language media and online communities has in more recent times brought about an increase in mutual intelligibility.\n",
    "\n",
    "In addition to the native dialects, _An Caighdeán Oifigiúil_ (“The Official Standard”), a form of the language created by the Irish Government's publications office for official publications and subsequently adopted for education, may itself be considered a distinct dialect, albeit a non-spoken dialect.[^7] Intended as a “common core”[^8] of the native dialects, \n",
    "\n",
    "The dialects differ in terms of pronunciation, grammar, and lexicon. They also differ somewhat in terms of how certain kinds of expressions are verbalised: the time “6:15” is verbalised “ceathrú _tar éis_ a sé (a chlog)” in Munster and Connaught, while in Ulster, it is “ceathrú _i ndiaidh_ a sé (a chlog)”; in all dialects “a chlog” (_o’clock_) is optional, and “ceathrú” (_quarter_) could be replaced by “cúig déag” (_fifteen_).\n",
    "\n",
    "\n",
    "...\n",
    "\n",
    "In the Gaois corpus[^2], the phrase “míle naoi gcéad nócha a sé” returns a single result, while its expression in digits, “1996”, returns 1,222 results; the equivalent in Gaeltacht Irish, “naoi déag nócha a sé”, returns none.\n",
    "\n",
    "[^1] V. Panayotov, G. Chen, D. Povey and S. Khudanpur, “Librispeech: An ASR corpus based on public domain audio books,” _2015 IEEE International Conference on Acoustics, Speech and Signal Processing (ICASSP)_, 2015, pp. 5206-5210, doi: 10.1109/ICASSP.2015.7178964.\n",
    "\n",
    "[^2] http://www.gaois.ie\n",
    "\n",
    "[^3] Military time in digits is written without the colon, however; it may be also be appropriate to distinguish civilian and \n",
    "\n",
    "[^4] Irish at _Ethnologue_ (22nd ed., 2019)\n",
    "\n",
    "[^5] Ó Giollagáin, C., Mac Donnacha, S. et al. (2007). _Comprehensive linguistic study of the use of Irish in the Gaeltacht: Principal findings and recommendations_. Dublin: Stationery Office.\n",
    "\n",
    "[^6] A prepositional case, by convention called the dative case.\n",
    "\n",
    "[^7] The _Lárchanúint_ (“central dialect” or “core dialect”) was an effort to distill Irish pronunciation down to a set of common el\n",
    "\n",
    "[^8] “This standard is to an extent based on a ‘common core’ of all Irish dialects, or the most frequent forms, and partly on random choice”. Ó Siadhail, Mícheál (1980). _Learning Irish._ Dublin Institute for Advanced Studies. p. 221."
   ]
  },
  {
   "cell_type": "markdown",
   "id": "256663cf",
   "metadata": {},
   "source": [
    "https://www.casemine.com/judgement/uk/5da028014653d058440f94a5\n",
    "    only a person of unusual independence of mind and pertinacity will attempt to conduct his or her legal business through the medium of Irish\n",
    "    "
   ]
  }
 ],
 "metadata": {
  "celltoolbar": "Slideshow",
  "kernelspec": {
   "display_name": "Python 3",
   "language": "python",
   "name": "python3"
  },
  "language_info": {
   "codemirror_mode": {
    "name": "ipython",
    "version": 3
   },
   "file_extension": ".py",
   "mimetype": "text/x-python",
   "name": "python",
   "nbconvert_exporter": "python",
   "pygments_lexer": "ipython3",
   "version": "3.8.2"
  }
 },
 "nbformat": 4,
 "nbformat_minor": 5
}
