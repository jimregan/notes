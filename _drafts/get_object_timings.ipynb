{
 "cells": [
  {
   "cell_type": "code",
   "execution_count": null,
   "metadata": {},
   "outputs": [],
   "source": [
    "datapath = \"/Users/joregan/Playing/hsi/\""
   ]
  },
  {
   "cell_type": "code",
   "execution_count": null,
   "metadata": {},
   "outputs": [],
   "source": [
    "from pathlib import Path\n",
    "\n",
    "DATAPATH = Path(datapath)"
   ]
  },
  {
   "cell_type": "code",
   "execution_count": 1,
   "metadata": {},
   "outputs": [],
   "source": [
    "OBJECT_HEADER = \"TimeCode,ObjectName,ObjectPosX,ObjectPosY,ObjectPosZ\"\n",
    "TIMECODE_HEADER = \"Frame,Time (Seconds),TimeCode\""
   ]
  },
  {
   "cell_type": "code",
   "execution_count": 7,
   "metadata": {},
   "outputs": [],
   "source": [
    "# SAMPLE_OBJECT_HEADER = \"Format Version,1.23,Take Name,hsi_7_0719_209_003,Take Notes,,Capture Frame Rate,200.000000,Export Frame Rate,120.000000,Capture Start Time,2024-07-19 03.14.02.737 PM,Capture Start Frame,367318,Total Frames in Take,90242,Total Exported Frames,54146,Rotation Type,Quaternion,Length Units,Millimeters,Coordinate Space,Global\"\n",
    "\n",
    "def read_timecode(filename):\n",
    "    header_data = {}\n",
    "    frame_data = []\n",
    "    header_line_seen = False\n",
    "    with open(filename) as inf:\n",
    "        for line in inf.readlines():\n",
    "            line = line.strip()\n",
    "            if line.startswith(\"Format Version,\"):\n",
    "                header_data = {k[0]: k[1] for k in zip(line.split(\",\")[0::2], line.split(\",\")[1::2])}\n",
    "            if not header_line_seen:\n",
    "                if line.strip() == TIMECODE_HEADER:\n",
    "                    header_line_seen = True\n",
    "                else:\n",
    "                    continue\n",
    "            else:\n",
    "                parts = line.split(\",\")\n",
    "                frame_data.append({\n",
    "                    \"frame\": parts[0],\n",
    "                    \"abs_time\": parts[1],\n",
    "                    \"timecode\": parts[2]\n",
    "                })\n",
    "    return header_data, frame_data"
   ]
  },
  {
   "cell_type": "code",
   "execution_count": 10,
   "metadata": {},
   "outputs": [],
   "source": [
    "def read_ojects(filename):\n",
    "    header_seen = False\n",
    "    object_codes = []\n",
    "    with open(filename) as inf:\n",
    "        for line in inf.readlines():\n",
    "            line = line.strip()\n",
    "            if not header_seen:\n",
    "                if line == OBJECT_HEADER:\n",
    "                    header_seen = True\n",
    "                else:\n",
    "                    continue\n",
    "            else:\n",
    "                parts = line.split(\",\")\n",
    "                timeparts = parts[0].split(\":\")\n",
    "                assert timeparts[3][0] == \"0\", f\"in {filename}: non-zero padded time ({line})\"\n",
    "                timeparts[3] = timeparts[3][1:]\n",
    "                time = \":\".join(timeparts)\n",
    "                object_codes.append({\n",
    "                    \"timecode\": time,\n",
    "                    \"name\": parts[1],\n",
    "                    \"x\": parts[2],\n",
    "                    \"y\": parts[3],\n",
    "                    \"z\": parts[4]\n",
    "                })\n",
    "    return object_codes"
   ]
  },
  {
   "cell_type": "code",
   "execution_count": 20,
   "metadata": {},
   "outputs": [],
   "source": [
    "test = read_ojects(\"/Users/joregan/Playing/hsi/objects/hsi_7_0719_209_002_objects.csv\")"
   ]
  },
  {
   "cell_type": "code",
   "execution_count": 17,
   "metadata": {},
   "outputs": [],
   "source": [
    "import json\n",
    "\n",
    "def id_to_name(filename):\n",
    "    fwd = {}\n",
    "    bck = {}\n",
    "    with open(filename) as inf:\n",
    "        data = json.load(inf)\n",
    "    for child in data[\"origin\"][\"children\"]:\n",
    "        bck[child[\"name\"]] = child[\"unique_id\"]\n",
    "        fwd[child[\"unique_id\"]] = child[\"name\"]\n",
    "    return fwd, bck"
   ]
  },
  {
   "cell_type": "code",
   "execution_count": null,
   "metadata": {},
   "outputs": [],
   "source": [
    "def unique_object_times(data):\n",
    "    output = []\n",
    "    "
   ]
  },
  {
   "cell_type": "code",
   "execution_count": 32,
   "metadata": {},
   "outputs": [],
   "source": [
    "def object_window(data, span=5):\n",
    "    allcounts = []\n",
    "    def prcnt():\n",
    "        out = {}\n",
    "        for count in counts:\n",
    "            out[count] = counts[count] / 5\n",
    "        return out\n",
    "\n",
    "    for i in range(len(data) - (span - 1)):\n",
    "        window = data[i:i+5]\n",
    "        counts = {}\n",
    "        timecodes = []\n",
    "        for item in window:\n",
    "            timecodes.append(item[\"timecode\"])\n",
    "            if not item[\"name\"] in counts:\n",
    "                counts[item[\"name\"]] = 1\n",
    "            else:\n",
    "                counts[item[\"name\"]] += 1\n",
    "    \n",
    "        countspct = prcnt()\n",
    "        stable = (len(counts) == 1)\n",
    "        allcounts.append({\n",
    "            \"stable\": stable,\n",
    "            \"items\": countspct,\n",
    "            \"timecodes\": timecodes\n",
    "        })\n",
    "    return allcounts"
   ]
  },
  {
   "cell_type": "code",
   "execution_count": 33,
   "metadata": {},
   "outputs": [],
   "source": [
    "wd = object_window(test)"
   ]
  },
  {
   "cell_type": "code",
   "execution_count": 34,
   "metadata": {},
   "outputs": [
    {
     "data": {
      "text/plain": [
       "{'stable': True,\n",
       " 'items': {'FloorLamp_4062327b': 1.0},\n",
       " 'timecodes': ['18:42:45:00.07',\n",
       "  '18:42:45:01.04',\n",
       "  '18:42:45:02.02',\n",
       "  '18:42:45:02.07',\n",
       "  '18:42:45:04.00']}"
      ]
     },
     "execution_count": 34,
     "metadata": {},
     "output_type": "execute_result"
    }
   ],
   "source": [
    "wd[-1]"
   ]
  }
 ],
 "metadata": {
  "kernelspec": {
   "display_name": "hf",
   "language": "python",
   "name": "python3"
  },
  "language_info": {
   "codemirror_mode": {
    "name": "ipython",
    "version": 3
   },
   "file_extension": ".py",
   "mimetype": "text/x-python",
   "name": "python",
   "nbconvert_exporter": "python",
   "pygments_lexer": "ipython3",
   "version": "3.9.15"
  }
 },
 "nbformat": 4,
 "nbformat_minor": 2
}
