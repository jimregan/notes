{
 "cells": [
  {
   "cell_type": "code",
   "execution_count": null,
   "metadata": {},
   "outputs": [],
   "source": [
    "datapath = \"/Users/joregan/Playing/hsi/\""
   ]
  },
  {
   "cell_type": "code",
   "execution_count": null,
   "metadata": {},
   "outputs": [],
   "source": [
    "from pathlib import Path\n",
    "\n",
    "DATAPATH = Path(datapath)"
   ]
  },
  {
   "cell_type": "code",
   "execution_count": 1,
   "metadata": {},
   "outputs": [],
   "source": [
    "OBJECT_HEADER = \"TimeCode,ObjectName,ObjectPosX,ObjectPosY,ObjectPosZ\"\n",
    "TIMECODE_HEADER = \"Frame,Time (Seconds),TimeCode\""
   ]
  },
  {
   "cell_type": "code",
   "execution_count": 7,
   "metadata": {},
   "outputs": [],
   "source": [
    "# SAMPLE_OBJECT_HEADER = \"Format Version,1.23,Take Name,hsi_7_0719_209_003,Take Notes,,Capture Frame Rate,200.000000,Export Frame Rate,120.000000,Capture Start Time,2024-07-19 03.14.02.737 PM,Capture Start Frame,367318,Total Frames in Take,90242,Total Exported Frames,54146,Rotation Type,Quaternion,Length Units,Millimeters,Coordinate Space,Global\"\n",
    "\n",
    "def read_timecode(filename):\n",
    "    header_data = {}\n",
    "    frame_data = []\n",
    "    header_line_seen = False\n",
    "    with open(filename) as inf:\n",
    "        for line in inf.readlines():\n",
    "            line = line.strip()\n",
    "            if line.startswith(\"Format Version,\"):\n",
    "                header_data = {k[0]: k[1] for k in zip(line.split(\",\")[0::2], line.split(\",\")[1::2])}\n",
    "            if not header_line_seen:\n",
    "                if line.strip() == TIMECODE_HEADER:\n",
    "                    header_line_seen = True\n",
    "                else:\n",
    "                    continue\n",
    "            else:\n",
    "                parts = line.split(\",\")\n",
    "                frame_data.append({\n",
    "                    \"frame\": parts[0],\n",
    "                    \"abs_time\": parts[1],\n",
    "                    \"timecode\": parts[2]\n",
    "                })\n",
    "    return header_data, frame_data"
   ]
  },
  {
   "cell_type": "code",
   "execution_count": 10,
   "metadata": {},
   "outputs": [],
   "source": [
    "def read_ojects(filename):\n",
    "    header_seen = False\n",
    "    object_codes = []\n",
    "    with open(filename) as inf:\n",
    "        for line in inf.readlines():\n",
    "            line = line.strip()\n",
    "            if not header_seen:\n",
    "                if line == OBJECT_HEADER:\n",
    "                    header_seen = True\n",
    "                else:\n",
    "                    continue\n",
    "            else:\n",
    "                parts = line.split(\",\")\n",
    "                timeparts = parts[0].split(\":\")\n",
    "                assert timeparts[3][0] == \"0\", f\"in {filename}: non-zero padded time ({line})\"\n",
    "                timeparts[3] = timeparts[3][1:]\n",
    "                time = \":\".join(timeparts)\n",
    "                object_codes.append({\n",
    "                    \"timecode\": time,\n",
    "                    \"name\": parts[1],\n",
    "                    \"x\": parts[2],\n",
    "                    \"y\": parts[3],\n",
    "                    \"z\": parts[4]\n",
    "                })\n",
    "    return object_codes"
   ]
  },
  {
   "cell_type": "code",
   "execution_count": 20,
   "metadata": {},
   "outputs": [],
   "source": [
    "test = read_ojects(\"/Users/joregan/Playing/hsi/objects/hsi_7_0719_209_002_objects.csv\")"
   ]
  },
  {
   "cell_type": "code",
   "execution_count": 17,
   "metadata": {},
   "outputs": [],
   "source": [
    "import json\n",
    "\n",
    "def id_to_name(filename):\n",
    "    fwd = {}\n",
    "    bck = {}\n",
    "    with open(filename) as inf:\n",
    "        data = json.load(inf)\n",
    "    for child in data[\"origin\"][\"children\"]:\n",
    "        bck[child[\"name\"]] = child[\"unique_id\"]\n",
    "        fwd[child[\"unique_id\"]] = child[\"name\"]\n",
    "    return fwd, bck"
   ]
  },
  {
   "cell_type": "code",
   "execution_count": 43,
   "metadata": {},
   "outputs": [],
   "source": [
    "def unique_object_times(data):\n",
    "    output = []\n",
    "\n",
    "    last_tc = \"\"\n",
    "    cur = {}\n",
    "    for i in range(len(data)):\n",
    "        if data[i][\"timecode\"] == last_tc:\n",
    "            cur[\"names\"].add(data[i][\"name\"])\n",
    "        else:\n",
    "            if cur != {}:\n",
    "                output.append(cur)\n",
    "            cur = {}\n",
    "            cur[\"timecode\"] = data[i][\"timecode\"]\n",
    "            cur[\"names\"] = set()\n",
    "            cur[\"names\"].add(data[i][\"name\"])\n",
    "        last_tc = data[i][\"timecode\"]\n",
    "    return output"
   ]
  },
  {
   "cell_type": "code",
   "execution_count": 45,
   "metadata": {},
   "outputs": [],
   "source": [
    "uniq = unique_object_times(test)"
   ]
  },
  {
   "cell_type": "code",
   "execution_count": 58,
   "metadata": {},
   "outputs": [],
   "source": [
    "def object_window(data, span=5):\n",
    "    allcounts = []\n",
    "    def prcnt():\n",
    "        out = {}\n",
    "        for count in counts:\n",
    "            out[count] = counts[count] / 5\n",
    "        return out\n",
    "\n",
    "    for i in range(len(data) - (span - 1)):\n",
    "        window = data[i:i+5]\n",
    "        counts = {}\n",
    "        id_to_set = {}\n",
    "        timecodes = []\n",
    "        for item in window:\n",
    "            timecodes.append(item[\"timecode\"])\n",
    "            set_id = \"__\".join(item[\"names\"]) if len(item[\"names\"]) != 1 else list(item[\"names\"])[0]\n",
    "            if not set_id in counts:\n",
    "                counts[set_id] = 1\n",
    "                id_to_set[set_id] = item[\"names\"]\n",
    "            else:\n",
    "                counts[set_id] += 1\n",
    "    \n",
    "        countspct = prcnt()\n",
    "        stable = (len(counts) == 1)\n",
    "        allcounts.append({\n",
    "            \"stable\": stable,\n",
    "            \"items\": countspct,\n",
    "            \"timecodes\": timecodes\n",
    "        })\n",
    "    return allcounts"
   ]
  },
  {
   "cell_type": "code",
   "execution_count": 69,
   "metadata": {},
   "outputs": [],
   "source": [
    "wd = object_window(uniq)"
   ]
  },
  {
   "cell_type": "code",
   "execution_count": 68,
   "metadata": {},
   "outputs": [],
   "source": [
    "# TODO: unstable windows will still have the remants of the windows\n",
    "def merge_stable(data):\n",
    "    to_del = []\n",
    "    i = 0\n",
    "    j = 1\n",
    "    while j < len(data):\n",
    "        if data[i][\"stable\"] and data[j][\"stable\"]:\n",
    "            data[i][\"timecodes\"].append(data[j][\"timecodes\"][-1])\n",
    "            to_del.append(j)\n",
    "            j += 1\n",
    "        else:\n",
    "            i = j\n",
    "            j += 1\n",
    "    for k in reversed(to_del):\n",
    "        del(data[k])\n",
    "    return data"
   ]
  },
  {
   "cell_type": "code",
   "execution_count": 71,
   "metadata": {},
   "outputs": [
    {
     "data": {
      "text/plain": [
       "[{'stable': True,\n",
       "  'items': {'HousePlant_8110ba59': 1.0},\n",
       "  'timecodes': ['18:34:53:02.04',\n",
       "   '18:34:53:03.04',\n",
       "   '18:34:53:04.01',\n",
       "   '18:34:53:04.05',\n",
       "   '18:34:53:05.01',\n",
       "   '18:34:53:05.06',\n",
       "   '18:34:53:06.07',\n",
       "   '18:34:53:07.07',\n",
       "   '18:34:53:08.07',\n",
       "   '18:34:53:09.05',\n",
       "   '18:34:53:10.03',\n",
       "   '18:34:53:11.00']},\n",
       " {'stable': False,\n",
       "  'items': {'HousePlant_8110ba59': 0.8,\n",
       "   'Vase_75ce7b48__Dresser_29dd319f': 0.2},\n",
       "  'timecodes': ['18:34:53:08.07',\n",
       "   '18:34:53:09.05',\n",
       "   '18:34:53:10.03',\n",
       "   '18:34:53:11.00',\n",
       "   '18:34:53:12.02']},\n",
       " {'stable': False,\n",
       "  'items': {'HousePlant_8110ba59': 0.6,\n",
       "   'Vase_75ce7b48__Dresser_29dd319f': 0.2,\n",
       "   'Vase_75ce7b48': 0.2},\n",
       "  'timecodes': ['18:34:53:09.05',\n",
       "   '18:34:53:10.03',\n",
       "   '18:34:53:11.00',\n",
       "   '18:34:53:12.02',\n",
       "   '18:34:53:12.06']}]"
      ]
     },
     "execution_count": 71,
     "metadata": {},
     "output_type": "execute_result"
    }
   ],
   "source": [
    "merge_stable(wd)[0:3]"
   ]
  }
 ],
 "metadata": {
  "kernelspec": {
   "display_name": "hf",
   "language": "python",
   "name": "python3"
  },
  "language_info": {
   "codemirror_mode": {
    "name": "ipython",
    "version": 3
   },
   "file_extension": ".py",
   "mimetype": "text/x-python",
   "name": "python",
   "nbconvert_exporter": "python",
   "pygments_lexer": "ipython3",
   "version": "3.9.15"
  }
 },
 "nbformat": 4,
 "nbformat_minor": 2
}
