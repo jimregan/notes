{
  "nbformat": 4,
  "nbformat_minor": 0,
  "metadata": {
    "colab": {
      "name": "make-fsa-pdf.ipynb",
      "provenance": []
    },
    "kernelspec": {
      "name": "python3",
      "display_name": "Python 3"
    },
    "language_info": {
      "name": "python"
    }
  },
  "cells": [
    {
      "cell_type": "code",
      "metadata": {
        "id": "EDwRPmL9-p_K"
      },
      "source": [
        "%%capture\n",
        "!apt install lttoolbox-dev"
      ],
      "execution_count": null,
      "outputs": []
    },
    {
      "cell_type": "code",
      "metadata": {
        "colab": {
          "base_uri": "https://localhost:8080/"
        },
        "id": "6S3PFB1o-yQQ",
        "outputId": "3b33793e-e482-46d2-d96a-a49ebb6cc070"
      },
      "source": [
        "%%writefile test.dix\n",
        "<dictionary>\n",
        "  <alphabet>abcdefghijklmnopqrstuvwxyz</alphabet>\n",
        "  <sdefs>\n",
        "    <sdef n=\"n\"/>\n",
        "  </sdefs>\n",
        "  <pardefs>\n",
        "    <pardef n=\"foo\">\n",
        "      <e><i>zcgr</i></e>\n",
        "      <e><i>czgr</i></e>\n",
        "      <e><i>cgzr</i></e>\n",
        "      <e><i>cgrz</i></e>\n",
        "    </pardef>\n",
        "  </pardefs>\n",
        "\n",
        "  <section id=\"main\" type=\"standard\">\n",
        "    <e><i>zba</i><par n=\"foo\"/><i>ondz</i></e>\n",
        "  </section>\n",
        "</dictionary>"
      ],
      "execution_count": null,
      "outputs": [
        {
          "output_type": "stream",
          "text": [
            "Overwriting test.dix\n"
          ],
          "name": "stdout"
        }
      ]
    },
    {
      "cell_type": "code",
      "metadata": {
        "colab": {
          "base_uri": "https://localhost:8080/"
        },
        "id": "0RdDrYTL_SHl",
        "outputId": "87d23c9b-dde2-427c-dd9e-e509b73afcd6"
      },
      "source": [
        "!lt-comp lr test.dix test.bin"
      ],
      "execution_count": null,
      "outputs": [
        {
          "output_type": "stream",
          "text": [
            "main@standard 15 17\n"
          ],
          "name": "stdout"
        }
      ]
    },
    {
      "cell_type": "code",
      "metadata": {
        "id": "S5ErGAdX_Xcm"
      },
      "source": [
        "!lt-print test.bin > text.fst"
      ],
      "execution_count": null,
      "outputs": []
    },
    {
      "cell_type": "code",
      "metadata": {
        "colab": {
          "base_uri": "https://localhost:8080/"
        },
        "id": "Pi9wySFoC-8M",
        "outputId": "cc0b9ef0-122f-4934-aabc-9e70b5df6d5b"
      },
      "source": [
        "!cat text.fst|awk -F'\\t' '{print $3}'|sort|uniq"
      ],
      "execution_count": null,
      "outputs": [
        {
          "output_type": "stream",
          "text": [
            "\n",
            "a\n",
            "b\n",
            "c\n",
            "d\n",
            "g\n",
            "n\n",
            "o\n",
            "r\n",
            "z\n"
          ],
          "name": "stdout"
        }
      ]
    },
    {
      "cell_type": "code",
      "metadata": {
        "id": "0m8MZLORAi2I"
      },
      "source": [
        "%%capture\n",
        "!apt install libfst-tools"
      ],
      "execution_count": null,
      "outputs": []
    },
    {
      "cell_type": "code",
      "metadata": {
        "colab": {
          "base_uri": "https://localhost:8080/"
        },
        "id": "Z3lCRnVOA0_8",
        "outputId": "19133aaa-3843-46b2-8785-a3308eeb3abe"
      },
      "source": [
        "%%writefile syms.syms\n",
        "<eps> 0\n",
        "a 1\n",
        "b 2\n",
        "c 3\n",
        "d 4\n",
        "g 5\n",
        "n 6\n",
        "o 7\n",
        "r 8\n",
        "z 9"
      ],
      "execution_count": null,
      "outputs": [
        {
          "output_type": "stream",
          "text": [
            "Overwriting syms.syms\n"
          ],
          "name": "stdout"
        }
      ]
    },
    {
      "cell_type": "code",
      "metadata": {
        "id": "AdFFDxSpBUBr"
      },
      "source": [
        "!fstcompile --isymbols=syms.syms --osymbols=syms.syms text.fst binary.fst"
      ],
      "execution_count": null,
      "outputs": []
    },
    {
      "cell_type": "code",
      "metadata": {
        "colab": {
          "base_uri": "https://localhost:8080/"
        },
        "id": "kmOMggplCLGq",
        "outputId": "019e12a6-90ef-4a44-ad96-a268d7252441"
      },
      "source": [
        "%%writefile syms2.syms\n",
        "<eps> 0\n",
        "a}ae1 1\n",
        "b}b 2\n",
        "c|k}k 3\n",
        "d}d 4\n",
        "g}g 5\n",
        "n}n 6\n",
        "o|u}aw2 7\n",
        "r}r 8\n",
        "| 9"
      ],
      "execution_count": null,
      "outputs": [
        {
          "output_type": "stream",
          "text": [
            "Writing syms2.syms\n"
          ],
          "name": "stdout"
        }
      ]
    },
    {
      "cell_type": "code",
      "metadata": {
        "id": "qufQnWMdBd9D"
      },
      "source": [
        "!fstdraw --isymbols=syms2.syms --osymbols=syms2.syms binary.fst binary.dot"
      ],
      "execution_count": null,
      "outputs": []
    },
    {
      "cell_type": "code",
      "metadata": {
        "id": "IfphV4IjBwF5"
      },
      "source": [
        "import graphviz\n",
        "from IPython.display import display\n",
        "\n",
        "with open(\"binary.dot\") as f:\n",
        "    dot_graph = f.read()\n",
        "\n",
        "# remove the display(...)\n",
        "\n",
        "gvz=graphviz.Source(dot_graph)\n",
        "display(gvz)"
      ],
      "execution_count": null,
      "outputs": []
    },
    {
      "cell_type": "code",
      "metadata": {
        "id": "XljeeNq3D7qN"
      },
      "source": [
        "!cat binary.dot"
      ],
      "execution_count": null,
      "outputs": []
    },
    {
      "cell_type": "code",
      "metadata": {
        "colab": {
          "base_uri": "https://localhost:8080/",
          "height": 216
        },
        "id": "fC5PNKuLERyP",
        "outputId": "dd325eb2-7f42-498b-bfae-18a839aa0e84"
      },
      "source": [
        "source = \"\"\"\n",
        "digraph FST {\n",
        "rankdir = LR;\n",
        "orientation = Portrait;\n",
        "0 [label = \"0\", shape = circle, style = bold, fontsize = 14]\n",
        "\t0 -> 1 [label = \"|\", fontsize = 14];\n",
        "1 [label = \"1\", shape = circle, style = solid, fontsize = 14]\n",
        "\t1 -> 2 [label = \"b}b\", fontsize = 14];\n",
        "2 [label = \"2\", shape = circle, style = solid, fontsize = 14]\n",
        "\t2 -> 3 [label = \"a}ae1\", fontsize = 14];\n",
        "3 [label = \"3\", shape = circle, style = solid, fontsize = 14]\n",
        "\t3 -> 4 [label = \"|\", fontsize = 14];\n",
        "\t3 -> 5 [label = \"c|k}k\", fontsize = 14];\n",
        "4 [label = \"4\", shape = circle, style = solid, fontsize = 14]\n",
        "\t4 -> 6 [label = \"c|k}k\", fontsize = 14];\n",
        "5 [label = \"5\", shape = circle, style = solid, fontsize = 14]\n",
        "\t5 -> 6 [label = \"|\", fontsize = 14];\n",
        "\t5 -> 7 [label = \"g}g\", fontsize = 14];\n",
        "6 [label = \"6\", shape = circle, style = solid, fontsize = 14]\n",
        "\t6 -> 8 [label = \"g}g\", fontsize = 14];\n",
        "7 [label = \"7\", shape = circle, style = solid, fontsize = 14]\n",
        "\t7 -> 8 [label = \"|\", fontsize = 14];\n",
        "\t7 -> 9 [label = \"r}r\", fontsize = 14];\n",
        "8 [label = \"8\", shape = circle, style = solid, fontsize = 14]\n",
        "\t8 -> 10 [label = \"r}r\", fontsize = 14];\n",
        "9 [label = \"9\", shape = circle, style = solid, fontsize = 14]\n",
        "\t9 -> 10 [label = \"|\", fontsize = 14];\n",
        "10 [label = \"10\", shape = circle, style = solid, fontsize = 14]\n",
        "\t10 -> 11 [label = \"o|u}aw2\", fontsize = 14];\n",
        "11 [label = \"11\", shape = circle, style = solid, fontsize = 14]\n",
        "\t11 -> 12 [label = \"n}n\", fontsize = 14];\n",
        "12 [label = \"12\", shape = circle, style = solid, fontsize = 14]\n",
        "\t12 -> 13 [label = \"d}d\", fontsize = 14];\n",
        "13 [label = \"13\", shape = circle, style = solid, fontsize = 14]\n",
        "\t13 -> 14 [label = \"|\", fontsize = 14];\n",
        "14 [label = \"14\", shape = doublecircle, style = solid, fontsize = 14]\n",
        "}\n",
        "\"\"\"\n",
        "\n",
        "# remove the display(...)\n",
        "\n",
        "gvz=graphviz.Source(source)\n",
        "display(gvz)"
      ],
      "execution_count": null,
      "outputs": [
        {
          "output_type": "display_data",
          "data": {
            "text/plain": [
              "<graphviz.files.Source at 0x7ffb23fbcdd0>"
            ],
            "image/svg+xml": "<?xml version=\"1.0\" encoding=\"UTF-8\" standalone=\"no\"?>\n<!DOCTYPE svg PUBLIC \"-//W3C//DTD SVG 1.1//EN\"\n \"http://www.w3.org/Graphics/SVG/1.1/DTD/svg11.dtd\">\n<!-- Generated by graphviz version 2.40.1 (20161225.0304)\n -->\n<!-- Title: FST Pages: 1 -->\n<svg width=\"1127pt\" height=\"131pt\"\n viewBox=\"0.00 0.00 1126.68 131.00\" xmlns=\"http://www.w3.org/2000/svg\" xmlns:xlink=\"http://www.w3.org/1999/xlink\">\n<g id=\"graph0\" class=\"graph\" transform=\"scale(1 1) rotate(0) translate(4 127)\">\n<title>FST</title>\n<polygon fill=\"#ffffff\" stroke=\"transparent\" points=\"-4,4 -4,-127 1122.6817,-127 1122.6817,4 -4,4\"/>\n<!-- 0 -->\n<g id=\"node1\" class=\"node\">\n<title>0</title>\n<ellipse fill=\"none\" stroke=\"#000000\" stroke-width=\"2\" cx=\"18\" cy=\"-78\" rx=\"18\" ry=\"18\"/>\n<text text-anchor=\"middle\" x=\"18\" y=\"-74.3\" font-family=\"Times,serif\" font-size=\"14.00\" fill=\"#000000\">0</text>\n</g>\n<!-- 1 -->\n<g id=\"node2\" class=\"node\">\n<title>1</title>\n<ellipse fill=\"none\" stroke=\"#000000\" cx=\"94\" cy=\"-78\" rx=\"18\" ry=\"18\"/>\n<text text-anchor=\"middle\" x=\"94\" y=\"-74.3\" font-family=\"Times,serif\" font-size=\"14.00\" fill=\"#000000\">1</text>\n</g>\n<!-- 0&#45;&gt;1 -->\n<g id=\"edge1\" class=\"edge\">\n<title>0&#45;&gt;1</title>\n<path fill=\"none\" stroke=\"#000000\" d=\"M36.0109,-78C44.8434,-78 55.6901,-78 65.6035,-78\"/>\n<polygon fill=\"#000000\" stroke=\"#000000\" points=\"65.855,-81.5001 75.855,-78 65.8549,-74.5001 65.855,-81.5001\"/>\n<text text-anchor=\"middle\" x=\"56\" y=\"-81.8\" font-family=\"Times,serif\" font-size=\"14.00\" fill=\"#000000\">|</text>\n</g>\n<!-- 2 -->\n<g id=\"node3\" class=\"node\">\n<title>2</title>\n<ellipse fill=\"none\" stroke=\"#000000\" cx=\"188\" cy=\"-78\" rx=\"18\" ry=\"18\"/>\n<text text-anchor=\"middle\" x=\"188\" y=\"-74.3\" font-family=\"Times,serif\" font-size=\"14.00\" fill=\"#000000\">2</text>\n</g>\n<!-- 1&#45;&gt;2 -->\n<g id=\"edge2\" class=\"edge\">\n<title>1&#45;&gt;2</title>\n<path fill=\"none\" stroke=\"#000000\" d=\"M112.1241,-78C125.6484,-78 144.3808,-78 159.8486,-78\"/>\n<polygon fill=\"#000000\" stroke=\"#000000\" points=\"159.9315,-81.5001 169.9315,-78 159.9315,-74.5001 159.9315,-81.5001\"/>\n<text text-anchor=\"middle\" x=\"141\" y=\"-81.8\" font-family=\"Times,serif\" font-size=\"14.00\" fill=\"#000000\">b}b</text>\n</g>\n<!-- 3 -->\n<g id=\"node4\" class=\"node\">\n<title>3</title>\n<ellipse fill=\"none\" stroke=\"#000000\" cx=\"293\" cy=\"-78\" rx=\"18\" ry=\"18\"/>\n<text text-anchor=\"middle\" x=\"293\" y=\"-74.3\" font-family=\"Times,serif\" font-size=\"14.00\" fill=\"#000000\">3</text>\n</g>\n<!-- 2&#45;&gt;3 -->\n<g id=\"edge3\" class=\"edge\">\n<title>2&#45;&gt;3</title>\n<path fill=\"none\" stroke=\"#000000\" d=\"M206.2896,-78C222.3998,-78 246.1225,-78 264.6841,-78\"/>\n<polygon fill=\"#000000\" stroke=\"#000000\" points=\"264.92,-81.5001 274.92,-78 264.92,-74.5001 264.92,-81.5001\"/>\n<text text-anchor=\"middle\" x=\"240.5\" y=\"-81.8\" font-family=\"Times,serif\" font-size=\"14.00\" fill=\"#000000\">a}ae1</text>\n</g>\n<!-- 4 -->\n<g id=\"node5\" class=\"node\">\n<title>4</title>\n<ellipse fill=\"none\" stroke=\"#000000\" cx=\"396\" cy=\"-105\" rx=\"18\" ry=\"18\"/>\n<text text-anchor=\"middle\" x=\"396\" y=\"-101.3\" font-family=\"Times,serif\" font-size=\"14.00\" fill=\"#000000\">4</text>\n</g>\n<!-- 3&#45;&gt;4 -->\n<g id=\"edge4\" class=\"edge\">\n<title>3&#45;&gt;4</title>\n<path fill=\"none\" stroke=\"#000000\" d=\"M310.4725,-82.5802C326.3795,-86.75 350.126,-92.9748 368.5639,-97.808\"/>\n<polygon fill=\"#000000\" stroke=\"#000000\" points=\"367.881,-101.2472 378.4417,-100.3973 369.6561,-94.476 367.881,-101.2472\"/>\n<text text-anchor=\"middle\" x=\"344.5\" y=\"-98.8\" font-family=\"Times,serif\" font-size=\"14.00\" fill=\"#000000\">|</text>\n</g>\n<!-- 5 -->\n<g id=\"node6\" class=\"node\">\n<title>5</title>\n<ellipse fill=\"none\" stroke=\"#000000\" cx=\"396\" cy=\"-51\" rx=\"18\" ry=\"18\"/>\n<text text-anchor=\"middle\" x=\"396\" y=\"-47.3\" font-family=\"Times,serif\" font-size=\"14.00\" fill=\"#000000\">5</text>\n</g>\n<!-- 3&#45;&gt;5 -->\n<g id=\"edge5\" class=\"edge\">\n<title>3&#45;&gt;5</title>\n<path fill=\"none\" stroke=\"#000000\" d=\"M310.5566,-73.0381C316.4146,-71.4052 322.9817,-69.5992 329,-68 341.9173,-64.5676 356.2766,-60.9041 368.3781,-57.8603\"/>\n<polygon fill=\"#000000\" stroke=\"#000000\" points=\"369.4883,-61.1904 378.3387,-55.3663 367.788,-54.4001 369.4883,-61.1904\"/>\n<text text-anchor=\"middle\" x=\"344.5\" y=\"-71.8\" font-family=\"Times,serif\" font-size=\"14.00\" fill=\"#000000\">c|k}k</text>\n</g>\n<!-- 6 -->\n<g id=\"node7\" class=\"node\">\n<title>6</title>\n<ellipse fill=\"none\" stroke=\"#000000\" cx=\"499\" cy=\"-94\" rx=\"18\" ry=\"18\"/>\n<text text-anchor=\"middle\" x=\"499\" y=\"-90.3\" font-family=\"Times,serif\" font-size=\"14.00\" fill=\"#000000\">6</text>\n</g>\n<!-- 4&#45;&gt;6 -->\n<g id=\"edge6\" class=\"edge\">\n<title>4&#45;&gt;6</title>\n<path fill=\"none\" stroke=\"#000000\" d=\"M413.9412,-103.0839C429.6482,-101.4065 452.7319,-98.9413 470.8898,-97.0021\"/>\n<polygon fill=\"#000000\" stroke=\"#000000\" points=\"471.347,-100.4732 480.9188,-95.931 470.6036,-93.5128 471.347,-100.4732\"/>\n<text text-anchor=\"middle\" x=\"447.5\" y=\"-104.8\" font-family=\"Times,serif\" font-size=\"14.00\" fill=\"#000000\">c|k}k</text>\n</g>\n<!-- 5&#45;&gt;6 -->\n<g id=\"edge7\" class=\"edge\">\n<title>5&#45;&gt;6</title>\n<path fill=\"none\" stroke=\"#000000\" d=\"M412.8635,-57.6058C426.4528,-62.9746 446.0248,-70.81 463,-78 466.3123,-79.4029 469.783,-80.9048 473.2074,-82.4056\"/>\n<polygon fill=\"#000000\" stroke=\"#000000\" points=\"472.0042,-85.7006 482.5649,-86.5499 474.8388,-79.3002 472.0042,-85.7006\"/>\n<text text-anchor=\"middle\" x=\"447.5\" y=\"-81.8\" font-family=\"Times,serif\" font-size=\"14.00\" fill=\"#000000\">|</text>\n</g>\n<!-- 7 -->\n<g id=\"node8\" class=\"node\">\n<title>7</title>\n<ellipse fill=\"none\" stroke=\"#000000\" cx=\"499\" cy=\"-29\" rx=\"18\" ry=\"18\"/>\n<text text-anchor=\"middle\" x=\"499\" y=\"-25.3\" font-family=\"Times,serif\" font-size=\"14.00\" fill=\"#000000\">7</text>\n</g>\n<!-- 5&#45;&gt;7 -->\n<g id=\"edge8\" class=\"edge\">\n<title>5&#45;&gt;7</title>\n<path fill=\"none\" stroke=\"#000000\" d=\"M410.6359,-40.1604C416.8882,-36.1607 424.4717,-32.0957 432,-30 444.4819,-26.5254 458.7846,-25.8848 470.9612,-26.27\"/>\n<polygon fill=\"#000000\" stroke=\"#000000\" points=\"470.8371,-29.7684 481.0154,-26.8271 471.2244,-22.7791 470.8371,-29.7684\"/>\n<text text-anchor=\"middle\" x=\"447.5\" y=\"-33.8\" font-family=\"Times,serif\" font-size=\"14.00\" fill=\"#000000\">g}g</text>\n</g>\n<!-- 8 -->\n<g id=\"node9\" class=\"node\">\n<title>8</title>\n<ellipse fill=\"none\" stroke=\"#000000\" cx=\"593\" cy=\"-72\" rx=\"18\" ry=\"18\"/>\n<text text-anchor=\"middle\" x=\"593\" y=\"-68.3\" font-family=\"Times,serif\" font-size=\"14.00\" fill=\"#000000\">8</text>\n</g>\n<!-- 6&#45;&gt;8 -->\n<g id=\"edge9\" class=\"edge\">\n<title>6&#45;&gt;8</title>\n<path fill=\"none\" stroke=\"#000000\" d=\"M516.6807,-89.862C530.4666,-86.6355 549.8559,-82.0976 565.6411,-78.4032\"/>\n<polygon fill=\"#000000\" stroke=\"#000000\" points=\"566.4593,-81.8063 575.3986,-76.1195 564.8641,-74.9905 566.4593,-81.8063\"/>\n<text text-anchor=\"middle\" x=\"546\" y=\"-87.8\" font-family=\"Times,serif\" font-size=\"14.00\" fill=\"#000000\">g}g</text>\n</g>\n<!-- 7&#45;&gt;8 -->\n<g id=\"edge10\" class=\"edge\">\n<title>7&#45;&gt;8</title>\n<path fill=\"none\" stroke=\"#000000\" d=\"M515.3736,-36.49C529.7081,-43.0473 550.7747,-52.6842 567.3461,-60.2647\"/>\n<polygon fill=\"#000000\" stroke=\"#000000\" points=\"565.949,-63.4744 576.4987,-64.4515 568.861,-57.1088 565.949,-63.4744\"/>\n<text text-anchor=\"middle\" x=\"546\" y=\"-57.8\" font-family=\"Times,serif\" font-size=\"14.00\" fill=\"#000000\">|</text>\n</g>\n<!-- 9 -->\n<g id=\"node10\" class=\"node\">\n<title>9</title>\n<ellipse fill=\"none\" stroke=\"#000000\" cx=\"593\" cy=\"-18\" rx=\"18\" ry=\"18\"/>\n<text text-anchor=\"middle\" x=\"593\" y=\"-14.3\" font-family=\"Times,serif\" font-size=\"14.00\" fill=\"#000000\">9</text>\n</g>\n<!-- 7&#45;&gt;9 -->\n<g id=\"edge11\" class=\"edge\">\n<title>7&#45;&gt;9</title>\n<path fill=\"none\" stroke=\"#000000\" d=\"M516.3875,-23.2119C522.2342,-21.524 528.8374,-19.8942 535,-19 544.631,-17.6026 555.2552,-17.1176 564.7506,-17.0554\"/>\n<polygon fill=\"#000000\" stroke=\"#000000\" points=\"564.85,-20.5562 574.8785,-17.1387 564.9076,-13.5565 564.85,-20.5562\"/>\n<text text-anchor=\"middle\" x=\"546\" y=\"-22.8\" font-family=\"Times,serif\" font-size=\"14.00\" fill=\"#000000\">r}r</text>\n</g>\n<!-- 10 -->\n<g id=\"node11\" class=\"node\">\n<title>10</title>\n<ellipse fill=\"none\" stroke=\"#000000\" cx=\"683.7982\" cy=\"-45\" rx=\"20.5982\" ry=\"20.5982\"/>\n<text text-anchor=\"middle\" x=\"683.7982\" y=\"-41.3\" font-family=\"Times,serif\" font-size=\"14.00\" fill=\"#000000\">10</text>\n</g>\n<!-- 8&#45;&gt;10 -->\n<g id=\"edge12\" class=\"edge\">\n<title>8&#45;&gt;10</title>\n<path fill=\"none\" stroke=\"#000000\" d=\"M610.5068,-66.7941C622.7813,-63.1441 639.4971,-58.1735 653.8655,-53.9009\"/>\n<polygon fill=\"#000000\" stroke=\"#000000\" points=\"655.2284,-57.1471 663.8159,-50.942 653.2331,-50.4375 655.2284,-57.1471\"/>\n<text text-anchor=\"middle\" x=\"637\" y=\"-63.8\" font-family=\"Times,serif\" font-size=\"14.00\" fill=\"#000000\">r}r</text>\n</g>\n<!-- 9&#45;&gt;10 -->\n<g id=\"edge13\" class=\"edge\">\n<title>9&#45;&gt;10</title>\n<path fill=\"none\" stroke=\"#000000\" d=\"M610.5068,-23.2059C622.7813,-26.8559 639.4971,-31.8265 653.8655,-36.0991\"/>\n<polygon fill=\"#000000\" stroke=\"#000000\" points=\"653.2331,-39.5625 663.8159,-39.058 655.2284,-32.8529 653.2331,-39.5625\"/>\n<text text-anchor=\"middle\" x=\"637\" y=\"-37.8\" font-family=\"Times,serif\" font-size=\"14.00\" fill=\"#000000\">|</text>\n</g>\n<!-- 11 -->\n<g id=\"node12\" class=\"node\">\n<title>11</title>\n<ellipse fill=\"none\" stroke=\"#000000\" cx=\"809.7445\" cy=\"-45\" rx=\"20.2975\" ry=\"20.2975\"/>\n<text text-anchor=\"middle\" x=\"809.7445\" y=\"-41.3\" font-family=\"Times,serif\" font-size=\"14.00\" fill=\"#000000\">11</text>\n</g>\n<!-- 10&#45;&gt;11 -->\n<g id=\"edge14\" class=\"edge\">\n<title>10&#45;&gt;11</title>\n<path fill=\"none\" stroke=\"#000000\" d=\"M704.8787,-45C725.191,-45 756.1454,-45 779.1646,-45\"/>\n<polygon fill=\"#000000\" stroke=\"#000000\" points=\"779.4304,-48.5001 789.4304,-45 779.4303,-41.5001 779.4304,-48.5001\"/>\n<text text-anchor=\"middle\" x=\"747.0963\" y=\"-48.8\" font-family=\"Times,serif\" font-size=\"14.00\" fill=\"#000000\">o|u}aw2</text>\n</g>\n<!-- 12 -->\n<g id=\"node13\" class=\"node\">\n<title>12</title>\n<ellipse fill=\"none\" stroke=\"#000000\" cx=\"908.6909\" cy=\"-45\" rx=\"20.5982\" ry=\"20.5982\"/>\n<text text-anchor=\"middle\" x=\"908.6909\" y=\"-41.3\" font-family=\"Times,serif\" font-size=\"14.00\" fill=\"#000000\">12</text>\n</g>\n<!-- 11&#45;&gt;12 -->\n<g id=\"edge15\" class=\"edge\">\n<title>11&#45;&gt;12</title>\n<path fill=\"none\" stroke=\"#000000\" d=\"M830.2463,-45C843.9519,-45 862.2376,-45 877.7066,-45\"/>\n<polygon fill=\"#000000\" stroke=\"#000000\" points=\"877.875,-48.5001 887.875,-45 877.8749,-41.5001 877.875,-48.5001\"/>\n<text text-anchor=\"middle\" x=\"858.8927\" y=\"-48.8\" font-family=\"Times,serif\" font-size=\"14.00\" fill=\"#000000\">n}n</text>\n</g>\n<!-- 13 -->\n<g id=\"node14\" class=\"node\">\n<title>13</title>\n<ellipse fill=\"none\" stroke=\"#000000\" cx=\"1008.2872\" cy=\"-45\" rx=\"20.5982\" ry=\"20.5982\"/>\n<text text-anchor=\"middle\" x=\"1008.2872\" y=\"-41.3\" font-family=\"Times,serif\" font-size=\"14.00\" fill=\"#000000\">13</text>\n</g>\n<!-- 12&#45;&gt;13 -->\n<g id=\"edge16\" class=\"edge\">\n<title>12&#45;&gt;13</title>\n<path fill=\"none\" stroke=\"#000000\" d=\"M929.8127,-45C943.5454,-45 961.6918,-45 977.0753,-45\"/>\n<polygon fill=\"#000000\" stroke=\"#000000\" points=\"977.1959,-48.5001 987.1958,-45 977.1958,-41.5001 977.1959,-48.5001\"/>\n<text text-anchor=\"middle\" x=\"958.489\" y=\"-48.8\" font-family=\"Times,serif\" font-size=\"14.00\" fill=\"#000000\">d}d</text>\n</g>\n<!-- 14 -->\n<g id=\"node15\" class=\"node\">\n<title>14</title>\n<ellipse fill=\"none\" stroke=\"#000000\" cx=\"1093.8835\" cy=\"-45\" rx=\"20.6302\" ry=\"20.6302\"/>\n<ellipse fill=\"none\" stroke=\"#000000\" cx=\"1093.8835\" cy=\"-45\" rx=\"24.5979\" ry=\"24.5979\"/>\n<text text-anchor=\"middle\" x=\"1093.8835\" y=\"-41.3\" font-family=\"Times,serif\" font-size=\"14.00\" fill=\"#000000\">14</text>\n</g>\n<!-- 13&#45;&gt;14 -->\n<g id=\"edge17\" class=\"edge\">\n<title>13&#45;&gt;14</title>\n<path fill=\"none\" stroke=\"#000000\" d=\"M1029.4458,-45C1038.3377,-45 1048.9208,-45 1058.9143,-45\"/>\n<polygon fill=\"#000000\" stroke=\"#000000\" points=\"1059.0196,-48.5001 1069.0195,-45 1059.0195,-41.5001 1059.0196,-48.5001\"/>\n<text text-anchor=\"middle\" x=\"1049.0854\" y=\"-48.8\" font-family=\"Times,serif\" font-size=\"14.00\" fill=\"#000000\">|</text>\n</g>\n</g>\n</svg>\n"
          },
          "metadata": {
            "tags": []
          }
        }
      ]
    },
    {
      "cell_type": "code",
      "metadata": {
        "colab": {
          "base_uri": "https://localhost:8080/"
        },
        "id": "isNdfmqXG9eY",
        "outputId": "4c049de6-81a8-4fab-bd9b-8f5c3ed09ac0"
      },
      "source": [
        "!pip install dot2tex"
      ],
      "execution_count": null,
      "outputs": [
        {
          "output_type": "stream",
          "text": [
            "Collecting dot2tex\n",
            "  Downloading https://files.pythonhosted.org/packages/ca/9e/26e11dfd9762eda401181b4cf388de5421d4ccfdddef0ddc1a8c9256e072/dot2tex-2.11.3-py2.py3-none-any.whl\n",
            "Requirement already satisfied: pyparsing in /usr/local/lib/python3.7/dist-packages (from dot2tex) (2.4.7)\n",
            "Installing collected packages: dot2tex\n",
            "Successfully installed dot2tex-2.11.3\n"
          ],
          "name": "stdout"
        }
      ]
    },
    {
      "cell_type": "code",
      "metadata": {
        "colab": {
          "base_uri": "https://localhost:8080/"
        },
        "id": "sdFsBsThHRJn",
        "outputId": "98237b9b-e668-404c-8956-88f3d7ae64ff"
      },
      "source": [
        "%%writefile real.dot\n",
        "digraph FST {\n",
        "rankdir = LR;\n",
        "orientation = Portrait;\n",
        "0 [label = \"0\", shape = circle, style = bold, fontsize = 14]\n",
        "\t0 -> 1 [label = \"|\", fontsize = 14];\n",
        "1 [label = \"1\", shape = circle, style = solid, fontsize = 14]\n",
        "\t1 -> 2 [label = \"b}b\", fontsize = 14];\n",
        "2 [label = \"2\", shape = circle, style = solid, fontsize = 14]\n",
        "\t2 -> 3 [label = \"a}ae1\", fontsize = 14];\n",
        "3 [label = \"3\", shape = circle, style = solid, fontsize = 14]\n",
        "\t3 -> 4 [label = \"|\", fontsize = 14];\n",
        "\t3 -> 5 [label = \"c|k}k\", fontsize = 14];\n",
        "4 [label = \"4\", shape = circle, style = solid, fontsize = 14]\n",
        "\t4 -> 6 [label = \"c|k}k\", fontsize = 14];\n",
        "5 [label = \"5\", shape = circle, style = solid, fontsize = 14]\n",
        "\t5 -> 6 [label = \"|\", fontsize = 14];\n",
        "\t5 -> 7 [label = \"g}g\", fontsize = 14];\n",
        "6 [label = \"6\", shape = circle, style = solid, fontsize = 14]\n",
        "\t6 -> 8 [label = \"g}g\", fontsize = 14];\n",
        "7 [label = \"7\", shape = circle, style = solid, fontsize = 14]\n",
        "\t7 -> 8 [label = \"|\", fontsize = 14];\n",
        "\t7 -> 9 [label = \"r}r\", fontsize = 14];\n",
        "8 [label = \"8\", shape = circle, style = solid, fontsize = 14]\n",
        "\t8 -> 10 [label = \"r}r\", fontsize = 14];\n",
        "9 [label = \"9\", shape = circle, style = solid, fontsize = 14]\n",
        "\t9 -> 10 [label = \"|\", fontsize = 14];\n",
        "10 [label = \"10\", shape = circle, style = solid, fontsize = 14]\n",
        "\t10 -> 11 [label = \"o|u}aw2\", fontsize = 14];\n",
        "11 [label = \"11\", shape = circle, style = solid, fontsize = 14]\n",
        "\t11 -> 12 [label = \"n}n\", fontsize = 14];\n",
        "12 [label = \"12\", shape = circle, style = solid, fontsize = 14]\n",
        "\t12 -> 13 [label = \"d}d\", fontsize = 14];\n",
        "13 [label = \"13\", shape = circle, style = solid, fontsize = 14]\n",
        "\t13 -> 14 [label = \"|\", fontsize = 14];\n",
        "14 [label = \"14\", shape = doublecircle, style = solid, fontsize = 14]\n",
        "}\n"
      ],
      "execution_count": null,
      "outputs": [
        {
          "output_type": "stream",
          "text": [
            "Overwriting real.dot\n"
          ],
          "name": "stdout"
        }
      ]
    },
    {
      "cell_type": "code",
      "metadata": {
        "id": "Dlt_FeJKHRCs"
      },
      "source": [
        "!dot -Tpng real.dot -o fst.png"
      ],
      "execution_count": null,
      "outputs": []
    },
    {
      "cell_type": "code",
      "metadata": {
        "id": "X6ZHA2CwJmZk"
      },
      "source": [
        "!dot -Tpdf real.dot -o fst.pdf"
      ],
      "execution_count": null,
      "outputs": []
    }
  ]
}