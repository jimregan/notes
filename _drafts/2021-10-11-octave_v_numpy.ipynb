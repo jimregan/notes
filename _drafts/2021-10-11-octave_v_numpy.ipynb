{
  "nbformat": 4,
  "nbformat_minor": 0,
  "metadata": {
    "colab": {
      "name": "octave-v-numpy.ipynb",
      "provenance": []
    },
    "kernelspec": {
      "name": "python3",
      "display_name": "Python 3"
    },
    "language_info": {
      "name": "python"
    }
  },
  "cells": [
    {
      "cell_type": "code",
      "metadata": {
        "id": "ywDhwYiyCHls"
      },
      "source": [
        "%%capture\n",
        "!apt install octave"
      ],
      "execution_count": null,
      "outputs": []
    },
    {
      "cell_type": "code",
      "metadata": {
        "id": "mgf8zx6dCwPh"
      },
      "source": [
        "import numpy as np"
      ],
      "execution_count": null,
      "outputs": []
    },
    {
      "cell_type": "markdown",
      "metadata": {
        "id": "m18JRzxtIoET"
      },
      "source": [
        "# Convolve"
      ]
    },
    {
      "cell_type": "code",
      "metadata": {
        "colab": {
          "base_uri": "https://localhost:8080/"
        },
        "id": "6aCaYOmjCZX9",
        "outputId": "41b5328d-ee67-423c-e8d9-49547215d17b"
      },
      "source": [
        "%%writefile conv1.m\n",
        "% https://www.mathworks.com/help/matlab/ref/conv.html\n",
        "u = [1 1 1];\n",
        "v = [1 1 0 0 0 1 1];\n",
        "w = conv(u,v)"
      ],
      "execution_count": null,
      "outputs": [
        {
          "output_type": "stream",
          "name": "stdout",
          "text": [
            "Writing conv1.m\n"
          ]
        }
      ]
    },
    {
      "cell_type": "code",
      "metadata": {
        "colab": {
          "base_uri": "https://localhost:8080/"
        },
        "id": "DuoiEwGYCdan",
        "outputId": "e230b97c-23a8-4fc3-f726-fc8718e2c21c"
      },
      "source": [
        "!octave conv1.m"
      ],
      "execution_count": null,
      "outputs": [
        {
          "output_type": "stream",
          "name": "stdout",
          "text": [
            "octave: X11 DISPLAY environment variable not set\n",
            "octave: disabling GUI features\n",
            "w =\n",
            "\n",
            "   1   2   2   1   0   1   2   2   1\n",
            "\n"
          ]
        }
      ]
    },
    {
      "cell_type": "code",
      "metadata": {
        "colab": {
          "base_uri": "https://localhost:8080/"
        },
        "id": "zC6JqYDWCgv7",
        "outputId": "47619128-1b05-4d1c-9b8a-ec14eb757411"
      },
      "source": [
        "u = [1, 1, 1]\n",
        "v = [1, 1, 0, 0, 0, 1, 1]\n",
        "w = np.convolve(u, v)\n",
        "w"
      ],
      "execution_count": null,
      "outputs": [
        {
          "output_type": "execute_result",
          "data": {
            "text/plain": [
              "array([1, 2, 2, 1, 0, 1, 2, 2, 1])"
            ]
          },
          "metadata": {},
          "execution_count": 8
        }
      ]
    },
    {
      "cell_type": "markdown",
      "metadata": {
        "id": "Xlyc7zvMIsKf"
      },
      "source": [
        "# Matrix multiplication"
      ]
    },
    {
      "cell_type": "code",
      "metadata": {
        "colab": {
          "base_uri": "https://localhost:8080/"
        },
        "id": "1BczWPiUFXSO",
        "outputId": "90916edc-fd03-4d7c-c16f-bcc006011326"
      },
      "source": [
        "%%writefile matmul.m\n",
        "% https://www.tutorialspoint.com/matlab/matlab_matrix_multiplication.htm\n",
        "a = [ 1 2 3; 2 3 4; 1 2 5]\n",
        "b = [ 2 1 3 ; 5 0 -2; 2 3 -1]\n",
        "prod = a * b"
      ],
      "execution_count": null,
      "outputs": [
        {
          "output_type": "stream",
          "name": "stdout",
          "text": [
            "Writing matmul.m\n"
          ]
        }
      ]
    },
    {
      "cell_type": "code",
      "metadata": {
        "colab": {
          "base_uri": "https://localhost:8080/"
        },
        "id": "07F-e4OiDBg0",
        "outputId": "b22e10e8-85e0-46af-cc73-aad2ed426cd0"
      },
      "source": [
        "!octave matmul.m"
      ],
      "execution_count": null,
      "outputs": [
        {
          "output_type": "stream",
          "name": "stdout",
          "text": [
            "octave: X11 DISPLAY environment variable not set\n",
            "octave: disabling GUI features\n",
            "a =\n",
            "\n",
            "   1   2   3\n",
            "   2   3   4\n",
            "   1   2   5\n",
            "\n",
            "b =\n",
            "\n",
            "   2   1   3\n",
            "   5   0  -2\n",
            "   2   3  -1\n",
            "\n",
            "prod =\n",
            "\n",
            "   18   10   -4\n",
            "   27   14   -4\n",
            "   22   16   -6\n",
            "\n"
          ]
        }
      ]
    },
    {
      "cell_type": "code",
      "metadata": {
        "colab": {
          "base_uri": "https://localhost:8080/"
        },
        "id": "CXNtOeBnFkCs",
        "outputId": "53138c90-05ac-45da-8b3d-6efb801ef0ce"
      },
      "source": [
        "a = np.array([[1, 2, 3], [2, 3, 4], [1, 2, 5]])\n",
        "b = np.array([[2, 1, 3], [5, 0, -2], [2, 3, -1]])\n",
        "prod = a @ b\n",
        "prod"
      ],
      "execution_count": null,
      "outputs": [
        {
          "output_type": "execute_result",
          "data": {
            "text/plain": [
              "array([[18, 10, -4],\n",
              "       [27, 14, -4],\n",
              "       [22, 16, -6]])"
            ]
          },
          "metadata": {},
          "execution_count": 15
        }
      ]
    },
    {
      "cell_type": "markdown",
      "metadata": {
        "id": "lhS-_1M3Iwwc"
      },
      "source": [
        "# Element-wise multiplication"
      ]
    },
    {
      "cell_type": "code",
      "metadata": {
        "colab": {
          "base_uri": "https://localhost:8080/"
        },
        "id": "t692D9elIXAt",
        "outputId": "d806a9b2-c872-473c-f505-0c931a969cde"
      },
      "source": [
        "%%writefile ew_matmul.m\n",
        "a = [ 1 2 3; 2 3 4; 1 2 5]\n",
        "b = [ 2 1 3 ; 5 0 -2; 2 3 -1]\n",
        "prod = a .* b"
      ],
      "execution_count": null,
      "outputs": [
        {
          "output_type": "stream",
          "name": "stdout",
          "text": [
            "Writing ew_matmul.m\n"
          ]
        }
      ]
    },
    {
      "cell_type": "code",
      "metadata": {
        "colab": {
          "base_uri": "https://localhost:8080/"
        },
        "id": "WO9IJ3CNIbxE",
        "outputId": "ffd1e454-b62c-4292-eaf0-fd6ca9d066a6"
      },
      "source": [
        "!octave ew_matmul.m"
      ],
      "execution_count": null,
      "outputs": [
        {
          "output_type": "stream",
          "name": "stdout",
          "text": [
            "octave: X11 DISPLAY environment variable not set\n",
            "octave: disabling GUI features\n",
            "a =\n",
            "\n",
            "   1   2   3\n",
            "   2   3   4\n",
            "   1   2   5\n",
            "\n",
            "b =\n",
            "\n",
            "   2   1   3\n",
            "   5   0  -2\n",
            "   2   3  -1\n",
            "\n",
            "prod =\n",
            "\n",
            "    2    2    9\n",
            "   10    0   -8\n",
            "    2    6   -5\n",
            "\n"
          ]
        }
      ]
    },
    {
      "cell_type": "code",
      "metadata": {
        "colab": {
          "base_uri": "https://localhost:8080/"
        },
        "id": "-25czhWZIg0o",
        "outputId": "ac61584a-5d05-40ac-c9ed-1cf2880ddbff"
      },
      "source": [
        "prod = a * b\n",
        "prod"
      ],
      "execution_count": null,
      "outputs": [
        {
          "output_type": "execute_result",
          "data": {
            "text/plain": [
              "array([[ 2,  2,  9],\n",
              "       [10,  0, -8],\n",
              "       [ 2,  6, -5]])"
            ]
          },
          "metadata": {},
          "execution_count": 19
        }
      ]
    }
  ]
}