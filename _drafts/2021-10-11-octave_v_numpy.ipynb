{
  "nbformat": 4,
  "nbformat_minor": 0,
  "metadata": {
    "colab": {
      "name": "octave-v-numpy.ipynb",
      "provenance": []
    },
    "kernelspec": {
      "name": "python3",
      "display_name": "Python 3"
    },
    "language_info": {
      "name": "python"
    }
  },
  "cells": [
    {
      "cell_type": "code",
      "metadata": {
        "id": "ywDhwYiyCHls"
      },
      "source": [
        "%%capture\n",
        "!apt install octave"
      ],
      "execution_count": null,
      "outputs": []
    },
    {
      "cell_type": "code",
      "metadata": {
        "id": "mgf8zx6dCwPh"
      },
      "source": [
        "import numpy as np"
      ],
      "execution_count": 6,
      "outputs": []
    },
    {
      "cell_type": "code",
      "metadata": {
        "colab": {
          "base_uri": "https://localhost:8080/"
        },
        "id": "6aCaYOmjCZX9",
        "outputId": "41b5328d-ee67-423c-e8d9-49547215d17b"
      },
      "source": [
        "%%writefile conv1.m\n",
        "% https://www.mathworks.com/help/matlab/ref/conv.html\n",
        "u = [1 1 1];\n",
        "v = [1 1 0 0 0 1 1];\n",
        "w = conv(u,v)"
      ],
      "execution_count": 2,
      "outputs": [
        {
          "output_type": "stream",
          "name": "stdout",
          "text": [
            "Writing conv1.m\n"
          ]
        }
      ]
    },
    {
      "cell_type": "code",
      "metadata": {
        "colab": {
          "base_uri": "https://localhost:8080/"
        },
        "id": "DuoiEwGYCdan",
        "outputId": "e230b97c-23a8-4fc3-f726-fc8718e2c21c"
      },
      "source": [
        "!octave conv1.m"
      ],
      "execution_count": 3,
      "outputs": [
        {
          "output_type": "stream",
          "name": "stdout",
          "text": [
            "octave: X11 DISPLAY environment variable not set\n",
            "octave: disabling GUI features\n",
            "w =\n",
            "\n",
            "   1   2   2   1   0   1   2   2   1\n",
            "\n"
          ]
        }
      ]
    },
    {
      "cell_type": "code",
      "metadata": {
        "colab": {
          "base_uri": "https://localhost:8080/"
        },
        "id": "zC6JqYDWCgv7",
        "outputId": "b41e3cc6-6304-4dc1-c77f-8d19c25517b2"
      },
      "source": [
        "np.convolve([1, 1, 1], [1, 1, 0, 0, 0, 1, 1])"
      ],
      "execution_count": 7,
      "outputs": [
        {
          "output_type": "execute_result",
          "data": {
            "text/plain": [
              "array([1, 2, 2, 1, 0, 1, 2, 2, 1])"
            ]
          },
          "metadata": {},
          "execution_count": 7
        }
      ]
    },
    {
      "cell_type": "code",
      "metadata": {
        "id": "07F-e4OiDBg0"
      },
      "source": [
        ""
      ],
      "execution_count": null,
      "outputs": []
    }
  ]
}