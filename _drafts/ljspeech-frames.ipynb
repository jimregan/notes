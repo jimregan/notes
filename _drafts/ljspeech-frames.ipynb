{
 "cells": [
  {
   "cell_type": "code",
   "execution_count": 3,
   "metadata": {},
   "outputs": [],
   "source": [
    "import soundfile as sf\n",
    "from pathlib import Path"
   ]
  },
  {
   "cell_type": "code",
   "execution_count": 5,
   "metadata": {},
   "outputs": [],
   "source": [
    "WAVDIR = \"/home/joregan/ljspeech/LJSpeech-1.1/wav16\"\n",
    "OUTDIR = \"/home/joregan/ljspeech/data/\""
   ]
  },
  {
   "cell_type": "code",
   "execution_count": 9,
   "metadata": {},
   "outputs": [],
   "source": [
    "WAVPATH = Path(WAVDIR)\n",
    "OUTPATH = Path(OUTDIR)\n",
    "IDSPATH = Path(\"/home/joregan/ljspeech/ids/\")"
   ]
  },
  {
   "cell_type": "code",
   "execution_count": 6,
   "metadata": {},
   "outputs": [],
   "source": [
    "frames = {}\n",
    "for wf in WAVPATH.glob(\"*.wav\"):\n",
    "    stem = wf.stem\n",
    "    data, sr = sf.read(str(wf))\n",
    "    frames[stem] = len(data)"
   ]
  },
  {
   "cell_type": "code",
   "execution_count": 15,
   "metadata": {},
   "outputs": [],
   "source": [
    "train_frames = {}\n",
    "train_file = OUTPATH / \"train.tsv\"\n",
    "with open(str(train_file)) as f:\n",
    "    for line in f.readlines():\n",
    "        if not \"\\t\" in line:\n",
    "            continue\n",
    "        pieces = line.strip().split(\"\\t\")\n",
    "        assert len(pieces) == 2\n",
    "        train_frames[pieces[0]] = int(pieces[1])"
   ]
  },
  {
   "cell_type": "code",
   "execution_count": 22,
   "metadata": {},
   "outputs": [],
   "source": [
    "MINS = [i * 5 for i in range(1, 25)]\n",
    "HOURS = [i * 2 for i in range(1, 9)]"
   ]
  },
  {
   "cell_type": "code",
   "execution_count": 25,
   "metadata": {},
   "outputs": [],
   "source": [
    "for min in MINS:\n",
    "    frames = min * 60 * 16000\n",
    "    idlist = [k for k in train_frames.keys()]\n",
    "    outtsv = OUTPATH / f\"{min}mins.tsv\"\n",
    "    with open(outtsv, \"w\") as of:\n",
    "        current = 0\n",
    "        of.write(f\"{WAVDIR}\\n\")\n",
    "        while frames > 0 and frames > current:\n",
    "            id = idlist.pop(0)\n",
    "            current = train_frames[id]\n",
    "            of.write(f\"{id}\\t{current}\\n\")\n",
    "            frames = frames - current\n",
    "        max = 0\n",
    "        maxid = \"\"\n",
    "        for id in idlist:\n",
    "            time = train_frames[id]\n",
    "            if time > current:\n",
    "                continue\n",
    "            if time > max:\n",
    "                max = time\n",
    "                maxid = id\n",
    "        of.write(f\"{maxid}\\t{max}\\n\")"
   ]
  },
  {
   "cell_type": "code",
   "execution_count": null,
   "metadata": {},
   "outputs": [],
   "source": [
    "for min in HOURS:\n",
    "    frames = min * 60 * 60 * 16000\n",
    "    idlist = [k for k in train_frames.keys()]\n",
    "    outtsv = OUTPATH / f\"{min}hrs.tsv\"\n",
    "    with open(outtsv, \"w\") as of:\n",
    "        current = 0\n",
    "        of.write(f\"{WAVDIR}\\n\")\n",
    "        while frames > 0 and frames > current:\n",
    "            id = idlist.pop(0)\n",
    "            current = train_frames[id]\n",
    "            of.write(f\"{id}\\t{current}\\n\")\n",
    "            frames = frames - current\n",
    "        max = 0\n",
    "        maxid = \"\"\n",
    "        for id in idlist:\n",
    "            time = train_frames[id]\n",
    "            if time > current:\n",
    "                continue\n",
    "            if time > max:\n",
    "                max = time\n",
    "                maxid = id\n",
    "        of.write(f\"{maxid}\\t{max}\\n\")"
   ]
  },
  {
   "cell_type": "code",
   "execution_count": 12,
   "metadata": {},
   "outputs": [
    {
     "name": "stdout",
     "output_type": "stream",
     "text": [
      "Current:  20min\n",
      "Current:  4h\n"
     ]
    },
    {
     "ename": "KeyError",
     "evalue": "'121600'",
     "output_type": "error",
     "traceback": [
      "\u001b[0;31m---------------------------------------------------------------------------\u001b[0m",
      "\u001b[0;31mKeyError\u001b[0m                                  Traceback (most recent call last)",
      "\u001b[1;32m/home/joregan/ljspeech-frames.ipynb Cell 5'\u001b[0m in \u001b[0;36m<cell line: 1>\u001b[0;34m()\u001b[0m\n\u001b[1;32m      <a href='vscode-notebook-cell://ssh-remote%2Bsbtaldeep21/home/joregan/ljspeech-frames.ipynb#ch0000004vscode-remote?line=6'>7</a>\u001b[0m \u001b[39mfor\u001b[39;00m line \u001b[39min\u001b[39;00m f\u001b[39m.\u001b[39mreadlines():\n\u001b[1;32m      <a href='vscode-notebook-cell://ssh-remote%2Bsbtaldeep21/home/joregan/ljspeech-frames.ipynb#ch0000004vscode-remote?line=7'>8</a>\u001b[0m     curstem \u001b[39m=\u001b[39m line\u001b[39m.\u001b[39mstrip()\n\u001b[0;32m----> <a href='vscode-notebook-cell://ssh-remote%2Bsbtaldeep21/home/joregan/ljspeech-frames.ipynb#ch0000004vscode-remote?line=8'>9</a>\u001b[0m     of\u001b[39m.\u001b[39mwrite(\u001b[39mf\u001b[39m\u001b[39m\"\u001b[39m\u001b[39m{\u001b[39;00mcurstem\u001b[39m}\u001b[39;00m\u001b[39m\\t\u001b[39;00m\u001b[39m{\u001b[39;00mframes[curstem]\u001b[39m}\u001b[39;00m\u001b[39m\\n\u001b[39;00m\u001b[39m\"\u001b[39m)\n",
      "\u001b[0;31mKeyError\u001b[0m: '121600'"
     ]
    }
   ],
   "source": [
    "for idfile in IDSPATH.glob(\"*.ids\"):\n",
    "    stem = idfile.stem\n",
    "    outtsv = OUTPATH / f\"{stem}.tsv\"\n",
    "    print(\"Current: \", stem)\n",
    "    with open(str(idfile)) as f, open(outtsv, \"w\") as of:\n",
    "        of.write(f\"{WAVDIR}\\n\")\n",
    "        for line in f.readlines():\n",
    "            curstem = line.strip()\n",
    "            of.write(f\"{curstem}\\t{train_frames[curstem]}\\n\")\n",
    "            "
   ]
  }
 ],
 "metadata": {
  "interpreter": {
   "hash": "5aaff6959852088ba68e3b74670bab30a036b45e314ed2af36f9a8ccbd21216c"
  },
  "kernelspec": {
   "display_name": "Python 3.8.13 ('fs2')",
   "language": "python",
   "name": "python3"
  },
  "language_info": {
   "codemirror_mode": {
    "name": "ipython",
    "version": 3
   },
   "file_extension": ".py",
   "mimetype": "text/x-python",
   "name": "python",
   "nbconvert_exporter": "python",
   "pygments_lexer": "ipython3",
   "version": "3.8.13"
  },
  "orig_nbformat": 4
 },
 "nbformat": 4,
 "nbformat_minor": 2
}
