{
 "cells": [
  {
   "cell_type": "code",
   "execution_count": 2,
   "metadata": {},
   "outputs": [],
   "source": [
    "from pathlib import Path"
   ]
  },
  {
   "cell_type": "code",
   "execution_count": 3,
   "metadata": {},
   "outputs": [],
   "source": [
    "DIR = '/Users/joregan/Downloads/CliniSpeechNet-10/als/speaker_01'"
   ]
  },
  {
   "cell_type": "code",
   "execution_count": 4,
   "metadata": {},
   "outputs": [],
   "source": [
    "files = [str(a.absolute()) for a in Path(DIR).glob('*.mp3')]"
   ]
  },
  {
   "cell_type": "code",
   "execution_count": 5,
   "metadata": {},
   "outputs": [
    {
     "data": {
      "text/plain": [
       "['/Users/joregan/Downloads/CliniSpeechNet-10/als/speaker_01/1083260-1087140.mp3',\n",
       " '/Users/joregan/Downloads/CliniSpeechNet-10/als/speaker_01/1049800-1060200.mp3',\n",
       " '/Users/joregan/Downloads/CliniSpeechNet-10/als/speaker_01/291640-311460.mp3',\n",
       " '/Users/joregan/Downloads/CliniSpeechNet-10/als/speaker_01/1036900-1043880.mp3',\n",
       " '/Users/joregan/Downloads/CliniSpeechNet-10/als/speaker_01/208040-215700.mp3',\n",
       " '/Users/joregan/Downloads/CliniSpeechNet-10/als/speaker_01/272540-291640.mp3',\n",
       " '/Users/joregan/Downloads/CliniSpeechNet-10/als/speaker_01/353460-367680.mp3',\n",
       " '/Users/joregan/Downloads/CliniSpeechNet-10/als/speaker_01/218320-220320.mp3',\n",
       " '/Users/joregan/Downloads/CliniSpeechNet-10/als/speaker_01/375800-378440.mp3',\n",
       " '/Users/joregan/Downloads/CliniSpeechNet-10/als/speaker_01/772440-780440.mp3',\n",
       " '/Users/joregan/Downloads/CliniSpeechNet-10/als/speaker_01/781000-787000.mp3',\n",
       " '/Users/joregan/Downloads/CliniSpeechNet-10/als/speaker_01/248360-251560.mp3',\n",
       " '/Users/joregan/Downloads/CliniSpeechNet-10/als/speaker_01/787100-793900.mp3',\n",
       " '/Users/joregan/Downloads/CliniSpeechNet-10/als/speaker_01/216000-217820.mp3',\n",
       " '/Users/joregan/Downloads/CliniSpeechNet-10/als/speaker_01/379220-412700.mp3',\n",
       " '/Users/joregan/Downloads/CliniSpeechNet-10/als/speaker_01/1077300-1079760.mp3']"
      ]
     },
     "execution_count": 5,
     "metadata": {},
     "output_type": "execute_result"
    }
   ],
   "source": [
    "files"
   ]
  },
  {
   "cell_type": "code",
   "execution_count": 6,
   "metadata": {},
   "outputs": [
    {
     "ename": "ModuleNotFoundError",
     "evalue": "No module named 'speechbrain'",
     "output_type": "error",
     "traceback": [
      "\u001b[0;31m---------------------------------------------------------------------------\u001b[0m",
      "\u001b[0;31mModuleNotFoundError\u001b[0m                       Traceback (most recent call last)",
      "\u001b[1;32m/Users/joregan/Playing/notes/_drafts/speechbrain.ipynb Cell 5\u001b[0m line \u001b[0;36m1\n\u001b[0;32m----> <a href='vscode-notebook-cell:/Users/joregan/Playing/notes/_drafts/speechbrain.ipynb#W4sZmlsZQ%3D%3D?line=0'>1</a>\u001b[0m \u001b[39mfrom\u001b[39;00m \u001b[39mspeechbrain\u001b[39;00m\u001b[39m.\u001b[39;00m\u001b[39mpretrained\u001b[39;00m \u001b[39mimport\u001b[39;00m SpeakerRecognition\n",
      "\u001b[0;31mModuleNotFoundError\u001b[0m: No module named 'speechbrain'"
     ]
    }
   ],
   "source": [
    "from speechbrain.pretrained import SpeakerRecognition\n",
    "verification = SpeakerRecognition.from_hparams(source=\"speechbrain/spkrec-ecapa-voxceleb\", savedir=\"pretrained_models/spkrec-ecapa-voxceleb\")"
   ]
  },
  {
   "cell_type": "code",
   "execution_count": null,
   "metadata": {},
   "outputs": [],
   "source": [
    "preds = []\n",
    "for i in range(1, len(files)):\n",
    "    preds.append(verification.verify_files(files[0], files[i]))"
   ]
  }
 ],
 "metadata": {
  "kernelspec": {
   "display_name": "speechbrain",
   "language": "python",
   "name": "python3"
  },
  "language_info": {
   "codemirror_mode": {
    "name": "ipython",
    "version": 3
   },
   "file_extension": ".py",
   "mimetype": "text/x-python",
   "name": "python",
   "nbconvert_exporter": "python",
   "pygments_lexer": "ipython3",
   "version": "3.10.13"
  }
 },
 "nbformat": 4,
 "nbformat_minor": 2
}
