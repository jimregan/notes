{
  "nbformat": 4,
  "nbformat_minor": 0,
  "metadata": {
    "colab": {
      "provenance": []
    },
    "kernelspec": {
      "name": "python3",
      "display_name": "Python 3"
    },
    "language_info": {
      "name": "python"
    }
  },
  "cells": [
    {
      "cell_type": "code",
      "execution_count": null,
      "metadata": {
        "id": "GS2XLmM548In"
      },
      "outputs": [],
      "source": [
        "!pip install spacy\n",
        "!python -m spacy download en_core_web_sm"
      ]
    },
    {
      "cell_type": "code",
      "source": [
        "nlp = spacy.load('en_core_web_sm')\n",
        "\n",
        "sentence = \"I didn't know what he meant.\"\n",
        "\n",
        "doc = nlp(sentence)\n",
        "\n"
      ],
      "metadata": {
        "id": "UXkv8sKo5pTK"
      },
      "execution_count": 19,
      "outputs": []
    },
    {
      "cell_type": "code",
      "source": [
        "doc.to_json()"
      ],
      "metadata": {
        "colab": {
          "base_uri": "https://localhost:8080/"
        },
        "id": "NKyNXz_M-xvT",
        "outputId": "cdf556fc-71b3-4d3c-e0a7-cdf02f5264dc"
      },
      "execution_count": 20,
      "outputs": [
        {
          "output_type": "execute_result",
          "data": {
            "text/plain": [
              "{'text': \"I didn't know what he meant.\",\n",
              " 'ents': [],\n",
              " 'sents': [{'start': 0, 'end': 28}],\n",
              " 'tokens': [{'id': 0,\n",
              "   'start': 0,\n",
              "   'end': 1,\n",
              "   'tag': 'PRP',\n",
              "   'pos': 'PRON',\n",
              "   'morph': 'Case=Nom|Number=Sing|Person=1|PronType=Prs',\n",
              "   'lemma': 'I',\n",
              "   'dep': 'nsubj',\n",
              "   'head': 3},\n",
              "  {'id': 1,\n",
              "   'start': 2,\n",
              "   'end': 5,\n",
              "   'tag': 'VBD',\n",
              "   'pos': 'AUX',\n",
              "   'morph': 'Tense=Past|VerbForm=Fin',\n",
              "   'lemma': 'do',\n",
              "   'dep': 'aux',\n",
              "   'head': 3},\n",
              "  {'id': 2,\n",
              "   'start': 5,\n",
              "   'end': 8,\n",
              "   'tag': 'RB',\n",
              "   'pos': 'PART',\n",
              "   'morph': 'Polarity=Neg',\n",
              "   'lemma': 'not',\n",
              "   'dep': 'neg',\n",
              "   'head': 3},\n",
              "  {'id': 3,\n",
              "   'start': 9,\n",
              "   'end': 13,\n",
              "   'tag': 'VB',\n",
              "   'pos': 'VERB',\n",
              "   'morph': 'VerbForm=Inf',\n",
              "   'lemma': 'know',\n",
              "   'dep': 'ROOT',\n",
              "   'head': 3},\n",
              "  {'id': 4,\n",
              "   'start': 14,\n",
              "   'end': 18,\n",
              "   'tag': 'WP',\n",
              "   'pos': 'PRON',\n",
              "   'morph': '',\n",
              "   'lemma': 'what',\n",
              "   'dep': 'dobj',\n",
              "   'head': 6},\n",
              "  {'id': 5,\n",
              "   'start': 19,\n",
              "   'end': 21,\n",
              "   'tag': 'PRP',\n",
              "   'pos': 'PRON',\n",
              "   'morph': 'Case=Nom|Gender=Masc|Number=Sing|Person=3|PronType=Prs',\n",
              "   'lemma': 'he',\n",
              "   'dep': 'nsubj',\n",
              "   'head': 6},\n",
              "  {'id': 6,\n",
              "   'start': 22,\n",
              "   'end': 27,\n",
              "   'tag': 'VBD',\n",
              "   'pos': 'VERB',\n",
              "   'morph': 'Tense=Past|VerbForm=Fin',\n",
              "   'lemma': 'mean',\n",
              "   'dep': 'ccomp',\n",
              "   'head': 3},\n",
              "  {'id': 7,\n",
              "   'start': 27,\n",
              "   'end': 28,\n",
              "   'tag': '.',\n",
              "   'pos': 'PUNCT',\n",
              "   'morph': 'PunctType=Peri',\n",
              "   'lemma': '.',\n",
              "   'dep': 'punct',\n",
              "   'head': 3}]}"
            ]
          },
          "metadata": {},
          "execution_count": 20
        }
      ]
    },
    {
      "cell_type": "code",
      "source": [],
      "metadata": {
        "id": "XoTrmwyV_XLS"
      },
      "execution_count": null,
      "outputs": []
    }
  ]
}