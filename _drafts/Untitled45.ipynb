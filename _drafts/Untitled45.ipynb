{
  "nbformat": 4,
  "nbformat_minor": 0,
  "metadata": {
    "colab": {
      "provenance": []
    },
    "kernelspec": {
      "name": "python3",
      "display_name": "Python 3"
    },
    "language_info": {
      "name": "python"
    }
  },
  "cells": [
    {
      "cell_type": "code",
      "execution_count": 1,
      "metadata": {
        "id": "7O-JiDtdMYF-"
      },
      "outputs": [],
      "source": [
        "%%capture\n",
        "%pip install spacy"
      ]
    },
    {
      "cell_type": "code",
      "source": [
        "import numpy\n",
        "numpy.version.version"
      ],
      "metadata": {
        "colab": {
          "base_uri": "https://localhost:8080/",
          "height": 35
        },
        "id": "kaLwIaDVKO0Z",
        "outputId": "c9f6102b-057d-401d-e162-538e59238baa"
      },
      "execution_count": 16,
      "outputs": [
        {
          "output_type": "execute_result",
          "data": {
            "text/plain": [
              "'1.26.4'"
            ],
            "application/vnd.google.colaboratory.intrinsic+json": {
              "type": "string"
            }
          },
          "metadata": {},
          "execution_count": 16
        }
      ]
    },
    {
      "cell_type": "code",
      "source": [
        "!pip install -U numpy"
      ],
      "metadata": {
        "colab": {
          "base_uri": "https://localhost:8080/"
        },
        "id": "z041m8scKcpA",
        "outputId": "8ccc8148-fa97-446a-9c8d-85f587e62b69"
      },
      "execution_count": 17,
      "outputs": [
        {
          "output_type": "stream",
          "name": "stdout",
          "text": [
            "Requirement already satisfied: numpy in /usr/local/lib/python3.10/dist-packages (1.26.4)\n",
            "Collecting numpy\n",
            "  Downloading numpy-2.1.3-cp310-cp310-manylinux_2_17_x86_64.manylinux2014_x86_64.whl.metadata (62 kB)\n",
            "\u001b[2K     \u001b[90m━━━━━━━━━━━━━━━━━━━━━━━━━━━━━━━━━━━━━━━━\u001b[0m \u001b[32m62.0/62.0 kB\u001b[0m \u001b[31m1.9 MB/s\u001b[0m eta \u001b[36m0:00:00\u001b[0m\n",
            "\u001b[?25hDownloading numpy-2.1.3-cp310-cp310-manylinux_2_17_x86_64.manylinux2014_x86_64.whl (16.3 MB)\n",
            "\u001b[2K   \u001b[90m━━━━━━━━━━━━━━━━━━━━━━━━━━━━━━━━━━━━━━━━\u001b[0m \u001b[32m16.3/16.3 MB\u001b[0m \u001b[31m31.9 MB/s\u001b[0m eta \u001b[36m0:00:00\u001b[0m\n",
            "\u001b[?25hInstalling collected packages: numpy\n",
            "  Attempting uninstall: numpy\n",
            "    Found existing installation: numpy 1.26.4\n",
            "    Uninstalling numpy-1.26.4:\n",
            "      Successfully uninstalled numpy-1.26.4\n",
            "\u001b[31mERROR: pip's dependency resolver does not currently take into account all the packages that are installed. This behaviour is the source of the following dependency conflicts.\n",
            "cupy-cuda12x 12.2.0 requires numpy<1.27,>=1.20, but you have numpy 2.1.3 which is incompatible.\n",
            "gensim 4.3.3 requires numpy<2.0,>=1.18.5, but you have numpy 2.1.3 which is incompatible.\n",
            "langchain 0.3.4 requires numpy<2,>=1; python_version < \"3.12\", but you have numpy 2.1.3 which is incompatible.\n",
            "matplotlib 3.8.0 requires numpy<2,>=1.21, but you have numpy 2.1.3 which is incompatible.\n",
            "numba 0.60.0 requires numpy<2.1,>=1.22, but you have numpy 2.1.3 which is incompatible.\n",
            "pytensor 2.25.5 requires numpy<2,>=1.17.0, but you have numpy 2.1.3 which is incompatible.\n",
            "tensorflow 2.17.0 requires numpy<2.0.0,>=1.23.5; python_version <= \"3.11\", but you have numpy 2.1.3 which is incompatible.\n",
            "thinc 8.2.5 requires numpy<2.0.0,>=1.19.0; python_version >= \"3.9\", but you have numpy 2.1.3 which is incompatible.\u001b[0m\u001b[31m\n",
            "\u001b[0mSuccessfully installed numpy-2.1.3\n"
          ]
        }
      ]
    },
    {
      "cell_type": "code",
      "source": [
        "!wget https://files.pythonhosted.org/packages/0c/40/8db3db763077fe80b71859f57731261aeb03cc624635f97a3bcfe55ab37b/neuralcoref-4.0.tar.gz"
      ],
      "metadata": {
        "colab": {
          "base_uri": "https://localhost:8080/"
        },
        "id": "RmuFBAaVEysD",
        "outputId": "9ae3db2e-c9b6-4745-f097-c8449042bb98"
      },
      "execution_count": 6,
      "outputs": [
        {
          "output_type": "stream",
          "name": "stdout",
          "text": [
            "--2024-11-07 10:04:09--  https://files.pythonhosted.org/packages/0c/40/8db3db763077fe80b71859f57731261aeb03cc624635f97a3bcfe55ab37b/neuralcoref-4.0.tar.gz\n",
            "Resolving files.pythonhosted.org (files.pythonhosted.org)... 151.101.0.223, 151.101.64.223, 151.101.128.223, ...\n",
            "Connecting to files.pythonhosted.org (files.pythonhosted.org)|151.101.0.223|:443... connected.\n",
            "HTTP request sent, awaiting response... 200 OK\n",
            "Length: 368730 (360K) [binary/octet-stream]\n",
            "Saving to: ‘neuralcoref-4.0.tar.gz’\n",
            "\n",
            "\rneuralcoref-4.0.tar   0%[                    ]       0  --.-KB/s               \rneuralcoref-4.0.tar 100%[===================>] 360.09K  --.-KB/s    in 0.04s   \n",
            "\n",
            "2024-11-07 10:04:09 (7.99 MB/s) - ‘neuralcoref-4.0.tar.gz’ saved [368730/368730]\n",
            "\n"
          ]
        }
      ]
    },
    {
      "cell_type": "code",
      "source": [
        "%cd /content\n",
        "!rm -rf neuralcoref-4.0"
      ],
      "metadata": {
        "colab": {
          "base_uri": "https://localhost:8080/"
        },
        "id": "nlQZwOW6LR32",
        "outputId": "f45d559a-b648-42ff-8615-40c9fcc2569f"
      },
      "execution_count": 36,
      "outputs": [
        {
          "output_type": "stream",
          "name": "stdout",
          "text": [
            "/content\n"
          ]
        }
      ]
    },
    {
      "cell_type": "code",
      "source": [
        "!git clone https://github.com/huggingface/neuralcoref"
      ],
      "metadata": {
        "colab": {
          "base_uri": "https://localhost:8080/"
        },
        "id": "uYxY1IE6MqY3",
        "outputId": "30111dd7-bc94-469f-85f7-a26e6c0fdad6"
      },
      "execution_count": 38,
      "outputs": [
        {
          "output_type": "stream",
          "name": "stdout",
          "text": [
            "Cloning into 'neuralcoref'...\n",
            "remote: Enumerating objects: 772, done.\u001b[K\n",
            "remote: Counting objects: 100% (24/24), done.\u001b[K\n",
            "remote: Compressing objects: 100% (16/16), done.\u001b[K\n",
            "remote: Total 772 (delta 10), reused 16 (delta 7), pack-reused 748 (from 1)\u001b[K\n",
            "Receiving objects: 100% (772/772), 67.85 MiB | 28.51 MiB/s, done.\n",
            "Resolving deltas: 100% (407/407), done.\n"
          ]
        }
      ]
    },
    {
      "cell_type": "code",
      "source": [
        "!tar zxvf neuralcoref-4.0.tar.gz"
      ],
      "metadata": {
        "colab": {
          "base_uri": "https://localhost:8080/"
        },
        "id": "NustDWlqFOX4",
        "outputId": "02103835-0a88-4fde-fd4d-1b3bdba0bcdc"
      },
      "execution_count": 32,
      "outputs": [
        {
          "output_type": "stream",
          "name": "stdout",
          "text": [
            "neuralcoref-4.0/\n",
            "neuralcoref-4.0/include/\n",
            "neuralcoref-4.0/include/msvc9/\n",
            "neuralcoref-4.0/include/msvc9/stdint.h\n",
            "neuralcoref-4.0/include/murmurhash/\n",
            "neuralcoref-4.0/include/murmurhash/MurmurHash2.h\n",
            "neuralcoref-4.0/include/murmurhash/MurmurHash3.h\n",
            "neuralcoref-4.0/include/numpy/\n",
            "neuralcoref-4.0/include/numpy/__multiarray_api.h\n",
            "neuralcoref-4.0/include/numpy/__ufunc_api.h\n",
            "neuralcoref-4.0/include/numpy/_neighborhood_iterator_imp.h\n",
            "neuralcoref-4.0/include/numpy/_numpyconfig.h\n",
            "neuralcoref-4.0/include/numpy/arrayobject.h\n",
            "neuralcoref-4.0/include/numpy/arrayscalars.h\n",
            "neuralcoref-4.0/include/numpy/halffloat.h\n",
            "neuralcoref-4.0/include/numpy/ndarrayobject.h\n",
            "neuralcoref-4.0/include/numpy/ndarraytypes.h\n",
            "neuralcoref-4.0/include/numpy/noprefix.h\n",
            "neuralcoref-4.0/include/numpy/npy_3kcompat.h\n",
            "neuralcoref-4.0/include/numpy/npy_common.h\n",
            "neuralcoref-4.0/include/numpy/npy_cpu.h\n",
            "neuralcoref-4.0/include/numpy/npy_deprecated_api.h\n",
            "neuralcoref-4.0/include/numpy/npy_endian.h\n",
            "neuralcoref-4.0/include/numpy/npy_interrupt.h\n",
            "neuralcoref-4.0/include/numpy/npy_math.h\n",
            "neuralcoref-4.0/include/numpy/npy_no_deprecated_api.h\n",
            "neuralcoref-4.0/include/numpy/npy_os.h\n",
            "neuralcoref-4.0/include/numpy/numpyconfig.h\n",
            "neuralcoref-4.0/include/numpy/old_defines.h\n",
            "neuralcoref-4.0/include/numpy/oldnumeric.h\n",
            "neuralcoref-4.0/include/numpy/ufuncobject.h\n",
            "neuralcoref-4.0/include/numpy/utils.h\n",
            "neuralcoref-4.0/LICENSE.txt\n",
            "neuralcoref-4.0/MANIFEST.in\n",
            "neuralcoref-4.0/neuralcoref/\n",
            "neuralcoref-4.0/neuralcoref/__init__.py\n",
            "neuralcoref-4.0/neuralcoref/file_utils.py\n",
            "neuralcoref-4.0/neuralcoref/neuralcoref.cpp\n",
            "neuralcoref-4.0/neuralcoref/tests/\n",
            "neuralcoref-4.0/neuralcoref/tests/__init__.py\n",
            "neuralcoref-4.0/neuralcoref/tests/test_neuralcoref.py\n",
            "neuralcoref-4.0/neuralcoref/train/\n",
            "neuralcoref-4.0/neuralcoref/train/__init__.py\n",
            "neuralcoref-4.0/neuralcoref/train/algorithm.py\n",
            "neuralcoref-4.0/neuralcoref/train/compat.py\n",
            "neuralcoref-4.0/neuralcoref/train/conllparser.py\n",
            "neuralcoref-4.0/neuralcoref/train/dataset.py\n",
            "neuralcoref-4.0/neuralcoref/train/document.py\n",
            "neuralcoref-4.0/neuralcoref/train/evaluator.py\n",
            "neuralcoref-4.0/neuralcoref/train/learn.py\n",
            "neuralcoref-4.0/neuralcoref/train/model.py\n",
            "neuralcoref-4.0/neuralcoref/train/utils.py\n",
            "neuralcoref-4.0/neuralcoref.egg-info/\n",
            "neuralcoref-4.0/neuralcoref.egg-info/dependency_links.txt\n",
            "neuralcoref-4.0/neuralcoref.egg-info/not-zip-safe\n",
            "neuralcoref-4.0/neuralcoref.egg-info/PKG-INFO\n",
            "neuralcoref-4.0/neuralcoref.egg-info/requires.txt\n",
            "neuralcoref-4.0/neuralcoref.egg-info/SOURCES.txt\n",
            "neuralcoref-4.0/neuralcoref.egg-info/top_level.txt\n",
            "neuralcoref-4.0/PKG-INFO\n",
            "neuralcoref-4.0/README.md\n",
            "neuralcoref-4.0/setup.cfg\n",
            "neuralcoref-4.0/setup.py\n"
          ]
        }
      ]
    },
    {
      "cell_type": "code",
      "source": [
        "%cd /content/neuralcoref"
      ],
      "metadata": {
        "colab": {
          "base_uri": "https://localhost:8080/"
        },
        "id": "bVg31WNgFRd-",
        "outputId": "5635a2d6-ce76-4028-9e7c-3d156f383e87"
      },
      "execution_count": 39,
      "outputs": [
        {
          "output_type": "stream",
          "name": "stdout",
          "text": [
            "/content/neuralcoref\n"
          ]
        }
      ]
    },
    {
      "cell_type": "code",
      "source": [
        "!cat setup.py|sed -e 's/, msvccompiler//' > tmp\n",
        "!mv tmp setup.py"
      ],
      "metadata": {
        "id": "OHDvhE3pFY5N"
      },
      "execution_count": 40,
      "outputs": []
    },
    {
      "cell_type": "code",
      "source": [
        "!pip install cython"
      ],
      "metadata": {
        "colab": {
          "base_uri": "https://localhost:8080/"
        },
        "id": "AosOmNnoLwea",
        "outputId": "006577ba-2684-49a2-fb32-bb864ebf8b15"
      },
      "execution_count": 41,
      "outputs": [
        {
          "output_type": "stream",
          "name": "stdout",
          "text": [
            "Requirement already satisfied: cython in /usr/local/lib/python3.10/dist-packages (3.0.11)\n"
          ]
        }
      ]
    },
    {
      "cell_type": "code",
      "source": [
        "%pip install -r requirements.txt"
      ],
      "metadata": {
        "colab": {
          "base_uri": "https://localhost:8080/"
        },
        "id": "aW0Aa5ioLzgy",
        "outputId": "ad758d74-fc81-41e9-9eae-36b1b9bc387b"
      },
      "execution_count": 42,
      "outputs": [
        {
          "output_type": "stream",
          "name": "stdout",
          "text": [
            "Collecting spacy<3.0.0,>=2.1.0 (from -r requirements.txt (line 1))\n",
            "  Downloading spacy-2.3.9-cp310-cp310-manylinux_2_17_x86_64.manylinux2014_x86_64.whl.metadata (15 kB)\n",
            "Requirement already satisfied: cython>=0.25 in /usr/local/lib/python3.10/dist-packages (from -r requirements.txt (line 2)) (3.0.11)\n",
            "Requirement already satisfied: pytest in /usr/local/lib/python3.10/dist-packages (from -r requirements.txt (line 3)) (7.4.4)\n",
            "Requirement already satisfied: murmurhash<1.1.0,>=0.28.0 in /usr/local/lib/python3.10/dist-packages (from spacy<3.0.0,>=2.1.0->-r requirements.txt (line 1)) (1.0.10)\n",
            "Requirement already satisfied: cymem<2.1.0,>=2.0.2 in /usr/local/lib/python3.10/dist-packages (from spacy<3.0.0,>=2.1.0->-r requirements.txt (line 1)) (2.0.8)\n",
            "Requirement already satisfied: preshed<3.1.0,>=3.0.2 in /usr/local/lib/python3.10/dist-packages (from spacy<3.0.0,>=2.1.0->-r requirements.txt (line 1)) (3.0.9)\n",
            "Collecting thinc<7.5.0,>=7.4.1 (from spacy<3.0.0,>=2.1.0->-r requirements.txt (line 1))\n",
            "  Downloading thinc-7.4.6-cp310-cp310-manylinux_2_17_x86_64.manylinux2014_x86_64.whl.metadata (23 kB)\n",
            "Requirement already satisfied: blis<0.8.0,>=0.4.0 in /usr/local/lib/python3.10/dist-packages (from spacy<3.0.0,>=2.1.0->-r requirements.txt (line 1)) (0.7.11)\n",
            "Collecting wasabi<1.1.0,>=0.4.0 (from spacy<3.0.0,>=2.1.0->-r requirements.txt (line 1))\n",
            "  Downloading wasabi-0.10.1-py3-none-any.whl.metadata (28 kB)\n",
            "Collecting srsly<1.1.0,>=1.0.2 (from spacy<3.0.0,>=2.1.0->-r requirements.txt (line 1))\n",
            "  Downloading srsly-1.0.7-cp310-cp310-manylinux_2_17_x86_64.manylinux2014_x86_64.whl.metadata (13 kB)\n",
            "Collecting catalogue<1.1.0,>=0.0.7 (from spacy<3.0.0,>=2.1.0->-r requirements.txt (line 1))\n",
            "  Downloading catalogue-1.0.2-py2.py3-none-any.whl.metadata (13 kB)\n",
            "Requirement already satisfied: tqdm<5.0.0,>=4.38.0 in /usr/local/lib/python3.10/dist-packages (from spacy<3.0.0,>=2.1.0->-r requirements.txt (line 1)) (4.66.6)\n",
            "Requirement already satisfied: setuptools in /usr/local/lib/python3.10/dist-packages (from spacy<3.0.0,>=2.1.0->-r requirements.txt (line 1)) (75.1.0)\n",
            "Requirement already satisfied: numpy>=1.15.0 in /usr/local/lib/python3.10/dist-packages (from spacy<3.0.0,>=2.1.0->-r requirements.txt (line 1)) (2.1.3)\n",
            "Collecting plac<1.2.0,>=0.9.6 (from spacy<3.0.0,>=2.1.0->-r requirements.txt (line 1))\n",
            "  Downloading plac-1.1.3-py2.py3-none-any.whl.metadata (2.3 kB)\n",
            "Requirement already satisfied: requests<3.0.0,>=2.13.0 in /usr/local/lib/python3.10/dist-packages (from spacy<3.0.0,>=2.1.0->-r requirements.txt (line 1)) (2.32.3)\n",
            "Requirement already satisfied: iniconfig in /usr/local/lib/python3.10/dist-packages (from pytest->-r requirements.txt (line 3)) (2.0.0)\n",
            "Requirement already satisfied: packaging in /usr/local/lib/python3.10/dist-packages (from pytest->-r requirements.txt (line 3)) (24.1)\n",
            "Requirement already satisfied: pluggy<2.0,>=0.12 in /usr/local/lib/python3.10/dist-packages (from pytest->-r requirements.txt (line 3)) (1.5.0)\n",
            "Requirement already satisfied: exceptiongroup>=1.0.0rc8 in /usr/local/lib/python3.10/dist-packages (from pytest->-r requirements.txt (line 3)) (1.2.2)\n",
            "Requirement already satisfied: tomli>=1.0.0 in /usr/local/lib/python3.10/dist-packages (from pytest->-r requirements.txt (line 3)) (2.0.2)\n",
            "Requirement already satisfied: charset-normalizer<4,>=2 in /usr/local/lib/python3.10/dist-packages (from requests<3.0.0,>=2.13.0->spacy<3.0.0,>=2.1.0->-r requirements.txt (line 1)) (3.4.0)\n",
            "Requirement already satisfied: idna<4,>=2.5 in /usr/local/lib/python3.10/dist-packages (from requests<3.0.0,>=2.13.0->spacy<3.0.0,>=2.1.0->-r requirements.txt (line 1)) (3.10)\n",
            "Requirement already satisfied: urllib3<3,>=1.21.1 in /usr/local/lib/python3.10/dist-packages (from requests<3.0.0,>=2.13.0->spacy<3.0.0,>=2.1.0->-r requirements.txt (line 1)) (2.2.3)\n",
            "Requirement already satisfied: certifi>=2017.4.17 in /usr/local/lib/python3.10/dist-packages (from requests<3.0.0,>=2.13.0->spacy<3.0.0,>=2.1.0->-r requirements.txt (line 1)) (2024.8.30)\n",
            "Downloading spacy-2.3.9-cp310-cp310-manylinux_2_17_x86_64.manylinux2014_x86_64.whl (4.9 MB)\n",
            "\u001b[2K   \u001b[90m━━━━━━━━━━━━━━━━━━━━━━━━━━━━━━━━━━━━━━━━\u001b[0m \u001b[32m4.9/4.9 MB\u001b[0m \u001b[31m44.3 MB/s\u001b[0m eta \u001b[36m0:00:00\u001b[0m\n",
            "\u001b[?25hDownloading catalogue-1.0.2-py2.py3-none-any.whl (16 kB)\n",
            "Downloading plac-1.1.3-py2.py3-none-any.whl (20 kB)\n",
            "Downloading srsly-1.0.7-cp310-cp310-manylinux_2_17_x86_64.manylinux2014_x86_64.whl (369 kB)\n",
            "\u001b[2K   \u001b[90m━━━━━━━━━━━━━━━━━━━━━━━━━━━━━━━━━━━━━━━━\u001b[0m \u001b[32m369.2/369.2 kB\u001b[0m \u001b[31m25.9 MB/s\u001b[0m eta \u001b[36m0:00:00\u001b[0m\n",
            "\u001b[?25hDownloading thinc-7.4.6-cp310-cp310-manylinux_2_17_x86_64.manylinux2014_x86_64.whl (1.0 MB)\n",
            "\u001b[2K   \u001b[90m━━━━━━━━━━━━━━━━━━━━━━━━━━━━━━━━━━━━━━━━\u001b[0m \u001b[32m1.0/1.0 MB\u001b[0m \u001b[31m46.8 MB/s\u001b[0m eta \u001b[36m0:00:00\u001b[0m\n",
            "\u001b[?25hDownloading wasabi-0.10.1-py3-none-any.whl (26 kB)\n",
            "Installing collected packages: wasabi, plac, srsly, catalogue, thinc, spacy\n",
            "  Attempting uninstall: wasabi\n",
            "    Found existing installation: wasabi 1.1.3\n",
            "    Uninstalling wasabi-1.1.3:\n",
            "      Successfully uninstalled wasabi-1.1.3\n",
            "  Attempting uninstall: srsly\n",
            "    Found existing installation: srsly 2.4.8\n",
            "    Uninstalling srsly-2.4.8:\n",
            "      Successfully uninstalled srsly-2.4.8\n",
            "  Attempting uninstall: catalogue\n",
            "    Found existing installation: catalogue 2.0.10\n",
            "    Uninstalling catalogue-2.0.10:\n",
            "      Successfully uninstalled catalogue-2.0.10\n",
            "  Attempting uninstall: thinc\n",
            "    Found existing installation: thinc 8.2.5\n",
            "    Uninstalling thinc-8.2.5:\n",
            "      Successfully uninstalled thinc-8.2.5\n",
            "  Attempting uninstall: spacy\n",
            "    Found existing installation: spacy 3.7.5\n",
            "    Uninstalling spacy-3.7.5:\n",
            "      Successfully uninstalled spacy-3.7.5\n",
            "\u001b[31mERROR: pip's dependency resolver does not currently take into account all the packages that are installed. This behaviour is the source of the following dependency conflicts.\n",
            "confection 0.1.5 requires srsly<3.0.0,>=2.4.0, but you have srsly 1.0.7 which is incompatible.\n",
            "en-core-web-sm 3.7.1 requires spacy<3.8.0,>=3.7.2, but you have spacy 2.3.9 which is incompatible.\n",
            "weasel 0.4.1 requires srsly<3.0.0,>=2.4.3, but you have srsly 1.0.7 which is incompatible.\u001b[0m\u001b[31m\n",
            "\u001b[0mSuccessfully installed catalogue-1.0.2 plac-1.1.3 spacy-2.3.9 srsly-1.0.7 thinc-7.4.6 wasabi-0.10.1\n"
          ]
        }
      ]
    },
    {
      "cell_type": "code",
      "source": [
        "%pip install -e ."
      ],
      "metadata": {
        "colab": {
          "base_uri": "https://localhost:8080/"
        },
        "id": "fyXFvWvFESg6",
        "outputId": "ea983920-e036-4cdb-f108-1cc430d1f973"
      },
      "execution_count": 43,
      "outputs": [
        {
          "output_type": "stream",
          "name": "stdout",
          "text": [
            "Obtaining file:///content/neuralcoref\n",
            "  \u001b[1;31merror\u001b[0m: \u001b[1msubprocess-exited-with-error\u001b[0m\n",
            "  \n",
            "  \u001b[31m×\u001b[0m \u001b[32mpython setup.py egg_info\u001b[0m did not run successfully.\n",
            "  \u001b[31m│\u001b[0m exit code: \u001b[1;36m1\u001b[0m\n",
            "  \u001b[31m╰─>\u001b[0m See above for output.\n",
            "  \n",
            "  \u001b[1;35mnote\u001b[0m: This error originates from a subprocess, and is likely not a problem with pip.\n",
            "  Preparing metadata (setup.py) ... \u001b[?25l\u001b[?25herror\n",
            "\u001b[1;31merror\u001b[0m: \u001b[1mmetadata-generation-failed\u001b[0m\n",
            "\n",
            "\u001b[31m×\u001b[0m Encountered error while generating package metadata.\n",
            "\u001b[31m╰─>\u001b[0m See above for output.\n",
            "\n",
            "\u001b[1;35mnote\u001b[0m: This is an issue with the package mentioned above, not pip.\n",
            "\u001b[1;36mhint\u001b[0m: See above for details.\n"
          ]
        }
      ]
    },
    {
      "cell_type": "code",
      "source": [
        "!pip uninstall cython -y"
      ],
      "metadata": {
        "colab": {
          "base_uri": "https://localhost:8080/"
        },
        "id": "4MJ-kxvJLAs2",
        "outputId": "792185cb-b40a-4090-ff7a-42cd5920b23f"
      },
      "execution_count": 29,
      "outputs": [
        {
          "output_type": "stream",
          "name": "stdout",
          "text": [
            "\u001b[33mWARNING: Skipping cython as it is not installed.\u001b[0m\u001b[33m\n",
            "\u001b[0m"
          ]
        }
      ]
    },
    {
      "cell_type": "code",
      "source": [
        "!python setup.py bdist_wheel"
      ],
      "metadata": {
        "colab": {
          "base_uri": "https://localhost:8080/"
        },
        "id": "4PLqG44sFuCJ",
        "outputId": "ff9beef5-ecd7-4983-e93f-7f3cd5999d5f"
      },
      "execution_count": 30,
      "outputs": [
        {
          "output_type": "stream",
          "name": "stdout",
          "text": [
            "/usr/local/lib/python3.10/dist-packages/setuptools/__init__.py:94: _DeprecatedInstaller: setuptools.installer and fetch_build_eggs are deprecated.\n",
            "!!\n",
            "\n",
            "        ********************************************************************************\n",
            "        Requirements should be satisfied by a PEP 517 installer.\n",
            "        If you are using pip, you can try `pip install --use-pep517`.\n",
            "        ********************************************************************************\n",
            "\n",
            "!!\n",
            "  dist.fetch_build_eggs(dist.setup_requires)\n",
            "running bdist_wheel\n",
            "running build\n",
            "running build_py\n",
            "creating build/lib.linux-x86_64-cpython-310/neuralcoref\n",
            "copying neuralcoref/file_utils.py -> build/lib.linux-x86_64-cpython-310/neuralcoref\n",
            "copying neuralcoref/__init__.py -> build/lib.linux-x86_64-cpython-310/neuralcoref\n",
            "creating build/lib.linux-x86_64-cpython-310/neuralcoref/tests\n",
            "copying neuralcoref/tests/test_neuralcoref.py -> build/lib.linux-x86_64-cpython-310/neuralcoref/tests\n",
            "copying neuralcoref/tests/__init__.py -> build/lib.linux-x86_64-cpython-310/neuralcoref/tests\n",
            "creating build/lib.linux-x86_64-cpython-310/neuralcoref/train\n",
            "copying neuralcoref/train/compat.py -> build/lib.linux-x86_64-cpython-310/neuralcoref/train\n",
            "copying neuralcoref/train/model.py -> build/lib.linux-x86_64-cpython-310/neuralcoref/train\n",
            "copying neuralcoref/train/document.py -> build/lib.linux-x86_64-cpython-310/neuralcoref/train\n",
            "copying neuralcoref/train/conllparser.py -> build/lib.linux-x86_64-cpython-310/neuralcoref/train\n",
            "copying neuralcoref/train/algorithm.py -> build/lib.linux-x86_64-cpython-310/neuralcoref/train\n",
            "copying neuralcoref/train/dataset.py -> build/lib.linux-x86_64-cpython-310/neuralcoref/train\n",
            "copying neuralcoref/train/evaluator.py -> build/lib.linux-x86_64-cpython-310/neuralcoref/train\n",
            "copying neuralcoref/train/utils.py -> build/lib.linux-x86_64-cpython-310/neuralcoref/train\n",
            "copying neuralcoref/train/learn.py -> build/lib.linux-x86_64-cpython-310/neuralcoref/train\n",
            "copying neuralcoref/train/__init__.py -> build/lib.linux-x86_64-cpython-310/neuralcoref/train\n",
            "running build_ext\n",
            "building 'neuralcoref.neuralcoref' extension\n",
            "creating build/temp.linux-x86_64-cpython-310/neuralcoref\n",
            "x86_64-linux-gnu-g++ -Wno-unused-result -Wsign-compare -DNDEBUG -g -fwrapv -O2 -Wall -g -fstack-protector-strong -Wformat -Werror=format-security -g -fwrapv -O2 -fPIC -I/usr/include/python3.10 -I/content/neuralcoref-4.0/include -I/usr/include/python3.10 -c neuralcoref/neuralcoref.cpp -o build/temp.linux-x86_64-cpython-310/neuralcoref/neuralcoref.o -O2 -Wno-strict-prototypes -Wno-unused-function\n",
            "\u001b[01m\u001b[Kcc1plus:\u001b[m\u001b[K \u001b[01;35m\u001b[Kwarning: \u001b[m\u001b[Kcommand-line option ‘\u001b[01m\u001b[K-Wno-strict-prototypes\u001b[m\u001b[K’ is valid for C/ObjC but not for C++\n",
            "In file included from \u001b[01m\u001b[K/content/neuralcoref-4.0/include/numpy/ndarraytypes.h:1728\u001b[m\u001b[K,\n",
            "                 from \u001b[01m\u001b[K/content/neuralcoref-4.0/include/numpy/ndarrayobject.h:17\u001b[m\u001b[K,\n",
            "                 from \u001b[01m\u001b[K/content/neuralcoref-4.0/include/numpy/arrayobject.h:15\u001b[m\u001b[K,\n",
            "                 from \u001b[01m\u001b[Kneuralcoref/neuralcoref.cpp:607\u001b[m\u001b[K:\n",
            "\u001b[01m\u001b[K/content/neuralcoref-4.0/include/numpy/npy_deprecated_api.h:11:2:\u001b[m\u001b[K \u001b[01;35m\u001b[Kwarning: \u001b[m\u001b[K#warning \"Using deprecated NumPy API, disable it by #defining NPY_NO_DEPRECATED_API NPY_1_7_API_VERSION\" [\u001b[01;35m\u001b[K\u001b]8;;https://gcc.gnu.org/onlinedocs/gcc/Warning-Options.html#index-Wcpp\u0007-Wcpp\u001b]8;;\u0007\u001b[m\u001b[K]\n",
            "   11 | #\u001b[01;35m\u001b[Kwarning\u001b[m\u001b[K \"Using deprecated NumPy API, disable it by #defining NPY_NO_DEPRECATED_API NPY_1_7_API_VERSION\"\n",
            "      |  \u001b[01;35m\u001b[K^~~~~~~\u001b[m\u001b[K\n",
            "\u001b[01m\u001b[Kneuralcoref/neuralcoref.cpp:\u001b[m\u001b[K In function ‘\u001b[01m\u001b[K__pyx_ctuple_int__and_int __pyx_f_11neuralcoref_11neuralcoref_enlarge_span(__pyx_t_5spacy_7structs_TokenC*, int, int, int, int, __pyx_t_11neuralcoref_11neuralcoref_HashesList)\u001b[m\u001b[K’:\n",
            "\u001b[01m\u001b[Kneuralcoref/neuralcoref.cpp:8989:40:\u001b[m\u001b[K \u001b[01;35m\u001b[Kwarning: \u001b[m\u001b[Kcomparison of integer expressions of different signedness: ‘\u001b[01m\u001b[Kuint32_t\u001b[m\u001b[K’ {aka ‘\u001b[01m\u001b[Kunsigned int\u001b[m\u001b[K’} and ‘\u001b[01m\u001b[Kint\u001b[m\u001b[K’ [\u001b[01;35m\u001b[K\u001b]8;;https://gcc.gnu.org/onlinedocs/gcc/Warning-Options.html#index-Wsign-compare\u0007-Wsign-compare\u001b]8;;\u0007\u001b[m\u001b[K]\n",
            " 8989 |     __pyx_t_5 = ((\u001b[01;35m\u001b[K__pyx_v_maxchild_idx > __pyx_v_sent_start\u001b[m\u001b[K) != 0);\n",
            "      |                   \u001b[01;35m\u001b[K~~~~~~~~~~~~~~~~~~~~~^~~~~~~~~~~~~~~~~~~~\u001b[m\u001b[K\n",
            "\u001b[01m\u001b[Kneuralcoref/neuralcoref.cpp:9046:40:\u001b[m\u001b[K \u001b[01;35m\u001b[Kwarning: \u001b[m\u001b[Kcomparison of integer expressions of different signedness: ‘\u001b[01m\u001b[Kuint32_t\u001b[m\u001b[K’ {aka ‘\u001b[01m\u001b[Kunsigned int\u001b[m\u001b[K’} and ‘\u001b[01m\u001b[Kint\u001b[m\u001b[K’ [\u001b[01;35m\u001b[K\u001b]8;;https://gcc.gnu.org/onlinedocs/gcc/Warning-Options.html#index-Wsign-compare\u0007-Wsign-compare\u001b]8;;\u0007\u001b[m\u001b[K]\n",
            " 9046 |     __pyx_t_5 = ((\u001b[01;35m\u001b[K__pyx_v_minchild_idx < (__pyx_v_sent_end - 1)\u001b[m\u001b[K) != 0);\n",
            "      |                   \u001b[01;35m\u001b[K~~~~~~~~~~~~~~~~~~~~~^~~~~~~~~~~~~~~~~~~~~~~~\u001b[m\u001b[K\n",
            "In file included from \u001b[01m\u001b[K/usr/include/python3.10/Python.h:74\u001b[m\u001b[K,\n",
            "                 from \u001b[01m\u001b[Kneuralcoref/neuralcoref.cpp:4\u001b[m\u001b[K:\n",
            "\u001b[01m\u001b[Kneuralcoref/neuralcoref.cpp:\u001b[m\u001b[K In function ‘\u001b[01m\u001b[Kvoid __pyx_tp_dealloc_array(PyObject*)\u001b[m\u001b[K’:\n",
            "\u001b[01m\u001b[K/usr/include/python3.10/object.h:133:33:\u001b[m\u001b[K \u001b[01;31m\u001b[Kerror: \u001b[m\u001b[Klvalue required as increment operand\n",
            "  133 | #define Py_REFCNT(ob) \u001b[01;31m\u001b[K_Py_REFCNT(_PyObject_CAST_CONST(ob))\u001b[m\u001b[K\n",
            "      |                       \u001b[01;31m\u001b[K~~~~~~~~~~^~~~~~~~~~~~~~~~~~~~~~~~~~\u001b[m\u001b[K\n",
            "\u001b[01m\u001b[Kneuralcoref/neuralcoref.cpp:47321:7:\u001b[m\u001b[K \u001b[01;36m\u001b[Knote: \u001b[m\u001b[Kin expansion of macro ‘\u001b[01m\u001b[KPy_REFCNT\u001b[m\u001b[K’\n",
            "47321 |     ++\u001b[01;36m\u001b[KPy_REFCNT\u001b[m\u001b[K(o);\n",
            "      |       \u001b[01;36m\u001b[K^~~~~~~~~\u001b[m\u001b[K\n",
            "\u001b[01m\u001b[K/usr/include/python3.10/object.h:133:33:\u001b[m\u001b[K \u001b[01;31m\u001b[Kerror: \u001b[m\u001b[Klvalue required as decrement operand\n",
            "  133 | #define Py_REFCNT(ob) \u001b[01;31m\u001b[K_Py_REFCNT(_PyObject_CAST_CONST(ob))\u001b[m\u001b[K\n",
            "      |                       \u001b[01;31m\u001b[K~~~~~~~~~~^~~~~~~~~~~~~~~~~~~~~~~~~~\u001b[m\u001b[K\n",
            "\u001b[01m\u001b[Kneuralcoref/neuralcoref.cpp:47323:7:\u001b[m\u001b[K \u001b[01;36m\u001b[Knote: \u001b[m\u001b[Kin expansion of macro ‘\u001b[01m\u001b[KPy_REFCNT\u001b[m\u001b[K’\n",
            "47323 |     --\u001b[01;36m\u001b[KPy_REFCNT\u001b[m\u001b[K(o);\n",
            "      |       \u001b[01;36m\u001b[K^~~~~~~~~\u001b[m\u001b[K\n",
            "\u001b[01m\u001b[Kneuralcoref/neuralcoref.cpp:\u001b[m\u001b[K In function ‘\u001b[01m\u001b[Kvoid __pyx_tp_dealloc_memoryview(PyObject*)\u001b[m\u001b[K’:\n",
            "\u001b[01m\u001b[K/usr/include/python3.10/object.h:133:33:\u001b[m\u001b[K \u001b[01;31m\u001b[Kerror: \u001b[m\u001b[Klvalue required as increment operand\n",
            "  133 | #define Py_REFCNT(ob) \u001b[01;31m\u001b[K_Py_REFCNT(_PyObject_CAST_CONST(ob))\u001b[m\u001b[K\n",
            "      |                       \u001b[01;31m\u001b[K~~~~~~~~~~^~~~~~~~~~~~~~~~~~~~~~~~~~\u001b[m\u001b[K\n",
            "\u001b[01m\u001b[Kneuralcoref/neuralcoref.cpp:47610:7:\u001b[m\u001b[K \u001b[01;36m\u001b[Knote: \u001b[m\u001b[Kin expansion of macro ‘\u001b[01m\u001b[KPy_REFCNT\u001b[m\u001b[K’\n",
            "47610 |     ++\u001b[01;36m\u001b[KPy_REFCNT\u001b[m\u001b[K(o);\n",
            "      |       \u001b[01;36m\u001b[K^~~~~~~~~\u001b[m\u001b[K\n",
            "\u001b[01m\u001b[K/usr/include/python3.10/object.h:133:33:\u001b[m\u001b[K \u001b[01;31m\u001b[Kerror: \u001b[m\u001b[Klvalue required as decrement operand\n",
            "  133 | #define Py_REFCNT(ob) \u001b[01;31m\u001b[K_Py_REFCNT(_PyObject_CAST_CONST(ob))\u001b[m\u001b[K\n",
            "      |                       \u001b[01;31m\u001b[K~~~~~~~~~~^~~~~~~~~~~~~~~~~~~~~~~~~~\u001b[m\u001b[K\n",
            "\u001b[01m\u001b[Kneuralcoref/neuralcoref.cpp:47612:7:\u001b[m\u001b[K \u001b[01;36m\u001b[Knote: \u001b[m\u001b[Kin expansion of macro ‘\u001b[01m\u001b[KPy_REFCNT\u001b[m\u001b[K’\n",
            "47612 |     --\u001b[01;36m\u001b[KPy_REFCNT\u001b[m\u001b[K(o);\n",
            "      |       \u001b[01;36m\u001b[K^~~~~~~~~\u001b[m\u001b[K\n",
            "\u001b[01m\u001b[Kneuralcoref/neuralcoref.cpp:\u001b[m\u001b[K In function ‘\u001b[01m\u001b[Kvoid __pyx_tp_dealloc__memoryviewslice(PyObject*)\u001b[m\u001b[K’:\n",
            "\u001b[01m\u001b[K/usr/include/python3.10/object.h:133:33:\u001b[m\u001b[K \u001b[01;31m\u001b[Kerror: \u001b[m\u001b[Klvalue required as increment operand\n",
            "  133 | #define Py_REFCNT(ob) \u001b[01;31m\u001b[K_Py_REFCNT(_PyObject_CAST_CONST(ob))\u001b[m\u001b[K\n",
            "      |                       \u001b[01;31m\u001b[K~~~~~~~~~~^~~~~~~~~~~~~~~~~~~~~~~~~~\u001b[m\u001b[K\n",
            "\u001b[01m\u001b[Kneuralcoref/neuralcoref.cpp:47849:7:\u001b[m\u001b[K \u001b[01;36m\u001b[Knote: \u001b[m\u001b[Kin expansion of macro ‘\u001b[01m\u001b[KPy_REFCNT\u001b[m\u001b[K’\n",
            "47849 |     ++\u001b[01;36m\u001b[KPy_REFCNT\u001b[m\u001b[K(o);\n",
            "      |       \u001b[01;36m\u001b[K^~~~~~~~~\u001b[m\u001b[K\n",
            "\u001b[01m\u001b[K/usr/include/python3.10/object.h:133:33:\u001b[m\u001b[K \u001b[01;31m\u001b[Kerror: \u001b[m\u001b[Klvalue required as decrement operand\n",
            "  133 | #define Py_REFCNT(ob) \u001b[01;31m\u001b[K_Py_REFCNT(_PyObject_CAST_CONST(ob))\u001b[m\u001b[K\n",
            "      |                       \u001b[01;31m\u001b[K~~~~~~~~~~^~~~~~~~~~~~~~~~~~~~~~~~~~\u001b[m\u001b[K\n",
            "\u001b[01m\u001b[Kneuralcoref/neuralcoref.cpp:47851:7:\u001b[m\u001b[K \u001b[01;36m\u001b[Knote: \u001b[m\u001b[Kin expansion of macro ‘\u001b[01m\u001b[KPy_REFCNT\u001b[m\u001b[K’\n",
            "47851 |     --\u001b[01;36m\u001b[KPy_REFCNT\u001b[m\u001b[K(o);\n",
            "      |       \u001b[01;36m\u001b[K^~~~~~~~~\u001b[m\u001b[K\n",
            "\u001b[01m\u001b[Kneuralcoref/neuralcoref.cpp:\u001b[m\u001b[K In function ‘\u001b[01m\u001b[Kint __Pyx_modinit_type_init_code()\u001b[m\u001b[K’:\n",
            "\u001b[01m\u001b[Kneuralcoref/neuralcoref.cpp:49313:54:\u001b[m\u001b[K \u001b[01;31m\u001b[Kerror: \u001b[m\u001b[K‘\u001b[01m\u001b[KPyTypeObject\u001b[m\u001b[K’ {aka ‘\u001b[01m\u001b[Kstruct _typeobject\u001b[m\u001b[K’} has no member named ‘\u001b[01m\u001b[Ktp_print\u001b[m\u001b[K’\n",
            "49313 |   __pyx_type_11neuralcoref_11neuralcoref_NeuralCoref.\u001b[01;31m\u001b[Ktp_print\u001b[m\u001b[K = 0;\n",
            "      |                                                      \u001b[01;31m\u001b[K^~~~~~~~\u001b[m\u001b[K\n",
            "\u001b[01m\u001b[Kneuralcoref/neuralcoref.cpp:49340:112:\u001b[m\u001b[K \u001b[01;31m\u001b[Kerror: \u001b[m\u001b[K‘\u001b[01m\u001b[KPyTypeObject\u001b[m\u001b[K’ {aka ‘\u001b[01m\u001b[Kstruct _typeobject\u001b[m\u001b[K’} has no member named ‘\u001b[01m\u001b[Ktp_print\u001b[m\u001b[K’\n",
            "49340 | uralcoref___pyx_scope_struct____pyx_f_11neuralcoref_11neuralcoref_get_span_type.\u001b[01;31m\u001b[Ktp_print\u001b[m\u001b[K = 0;\n",
            "      |                                                                                 \u001b[01;31m\u001b[K^~~~~~~~\u001b[m\u001b[K\n",
            "\n",
            "\u001b[01m\u001b[Kneuralcoref/neuralcoref.cpp:49346:71:\u001b[m\u001b[K \u001b[01;31m\u001b[Kerror: \u001b[m\u001b[K‘\u001b[01m\u001b[KPyTypeObject\u001b[m\u001b[K’ {aka ‘\u001b[01m\u001b[Kstruct _typeobject\u001b[m\u001b[K’} has no member named ‘\u001b[01m\u001b[Ktp_print\u001b[m\u001b[K’\n",
            "49346 |   __pyx_type_11neuralcoref_11neuralcoref___pyx_scope_struct_1_genexpr.\u001b[01;31m\u001b[Ktp_print\u001b[m\u001b[K = 0;\n",
            "      |                                                                       \u001b[01;31m\u001b[K^~~~~~~~\u001b[m\u001b[K\n",
            "\u001b[01m\u001b[Kneuralcoref/neuralcoref.cpp:49352:76:\u001b[m\u001b[K \u001b[01;31m\u001b[Kerror: \u001b[m\u001b[K‘\u001b[01m\u001b[KPyTypeObject\u001b[m\u001b[K’ {aka ‘\u001b[01m\u001b[Kstruct _typeobject\u001b[m\u001b[K’} has no member named ‘\u001b[01m\u001b[Ktp_print\u001b[m\u001b[K’\n",
            "49352 |   __pyx_type_11neuralcoref_11neuralcoref___pyx_scope_struct_2_get_resolved.\u001b[01;31m\u001b[Ktp_print\u001b[m\u001b[K = 0;\n",
            "      |                                                                            \u001b[01;31m\u001b[K^~~~~~~~\u001b[m\u001b[K\n",
            "\u001b[01m\u001b[Kneuralcoref/neuralcoref.cpp:49358:71:\u001b[m\u001b[K \u001b[01;31m\u001b[Kerror: \u001b[m\u001b[K‘\u001b[01m\u001b[KPyTypeObject\u001b[m\u001b[K’ {aka ‘\u001b[01m\u001b[Kstruct _typeobject\u001b[m\u001b[K’} has no member named ‘\u001b[01m\u001b[Ktp_print\u001b[m\u001b[K’\n",
            "49358 |   __pyx_type_11neuralcoref_11neuralcoref___pyx_scope_struct_3_genexpr.\u001b[01;31m\u001b[Ktp_print\u001b[m\u001b[K = 0;\n",
            "      |                                                                       \u001b[01;31m\u001b[K^~~~~~~~\u001b[m\u001b[K\n",
            "\u001b[01m\u001b[Kneuralcoref/neuralcoref.cpp:49364:122:\u001b[m\u001b[K \u001b[01;31m\u001b[Kerror: \u001b[m\u001b[K‘\u001b[01m\u001b[KPyTypeObject\u001b[m\u001b[K’ {aka ‘\u001b[01m\u001b[Kstruct _typeobject\u001b[m\u001b[K’} has no member named ‘\u001b[01m\u001b[Ktp_print\u001b[m\u001b[K’\n",
            "49364 | __pyx_scope_struct_4___pyx_f_11neuralcoref_11neuralcoref_extract_mentions_spans.\u001b[01;31m\u001b[Ktp_print\u001b[m\u001b[K = 0;\n",
            "      |                                                                                 \u001b[01;31m\u001b[K^~~~~~~~\u001b[m\u001b[K\n",
            "\n",
            "\u001b[01m\u001b[Kneuralcoref/neuralcoref.cpp:49370:71:\u001b[m\u001b[K \u001b[01;31m\u001b[Kerror: \u001b[m\u001b[K‘\u001b[01m\u001b[KPyTypeObject\u001b[m\u001b[K’ {aka ‘\u001b[01m\u001b[Kstruct _typeobject\u001b[m\u001b[K’} has no member named ‘\u001b[01m\u001b[Ktp_print\u001b[m\u001b[K’\n",
            "49370 |   __pyx_type_11neuralcoref_11neuralcoref___pyx_scope_struct_5_genexpr.\u001b[01;31m\u001b[Ktp_print\u001b[m\u001b[K = 0;\n",
            "      |                                                                       \u001b[01;31m\u001b[K^~~~~~~~\u001b[m\u001b[K\n",
            "\u001b[01m\u001b[Kneuralcoref/neuralcoref.cpp:49376:72:\u001b[m\u001b[K \u001b[01;31m\u001b[Kerror: \u001b[m\u001b[K‘\u001b[01m\u001b[KPyTypeObject\u001b[m\u001b[K’ {aka ‘\u001b[01m\u001b[Kstruct _typeobject\u001b[m\u001b[K’} has no member named ‘\u001b[01m\u001b[Ktp_print\u001b[m\u001b[K’\n",
            "49376 |   __pyx_type_11neuralcoref_11neuralcoref___pyx_scope_struct_6___iter__.\u001b[01;31m\u001b[Ktp_print\u001b[m\u001b[K = 0;\n",
            "      |                                                                        \u001b[01;31m\u001b[K^~~~~~~~\u001b[m\u001b[K\n",
            "\u001b[01m\u001b[Kneuralcoref/neuralcoref.cpp:49382:77:\u001b[m\u001b[K \u001b[01;31m\u001b[Kerror: \u001b[m\u001b[K‘\u001b[01m\u001b[KPyTypeObject\u001b[m\u001b[K’ {aka ‘\u001b[01m\u001b[Kstruct _typeobject\u001b[m\u001b[K’} has no member named ‘\u001b[01m\u001b[Ktp_print\u001b[m\u001b[K’\n",
            "49382 |   __pyx_type_11neuralcoref_11neuralcoref___pyx_scope_struct_7_set_conv_dict.\u001b[01;31m\u001b[Ktp_print\u001b[m\u001b[K = 0;\n",
            "      |                                                                             \u001b[01;31m\u001b[K^~~~~~~~\u001b[m\u001b[K\n",
            "\u001b[01m\u001b[Kneuralcoref/neuralcoref.cpp:49388:71:\u001b[m\u001b[K \u001b[01;31m\u001b[Kerror: \u001b[m\u001b[K‘\u001b[01m\u001b[KPyTypeObject\u001b[m\u001b[K’ {aka ‘\u001b[01m\u001b[Kstruct _typeobject\u001b[m\u001b[K’} has no member named ‘\u001b[01m\u001b[Ktp_print\u001b[m\u001b[K’\n",
            "49388 |   __pyx_type_11neuralcoref_11neuralcoref___pyx_scope_struct_8_genexpr.\u001b[01;31m\u001b[Ktp_print\u001b[m\u001b[K = 0;\n",
            "      |                                                                       \u001b[01;31m\u001b[K^~~~~~~~\u001b[m\u001b[K\n",
            "\u001b[01m\u001b[Kneuralcoref/neuralcoref.cpp:49394:68:\u001b[m\u001b[K \u001b[01;31m\u001b[Kerror: \u001b[m\u001b[K‘\u001b[01m\u001b[KPyTypeObject\u001b[m\u001b[K’ {aka ‘\u001b[01m\u001b[Kstruct _typeobject\u001b[m\u001b[K’} has no member named ‘\u001b[01m\u001b[Ktp_print\u001b[m\u001b[K’\n",
            "49394 |   __pyx_type_11neuralcoref_11neuralcoref___pyx_scope_struct_9_pipe.\u001b[01;31m\u001b[Ktp_print\u001b[m\u001b[K = 0;\n",
            "      |                                                                    \u001b[01;31m\u001b[K^~~~~~~~\u001b[m\u001b[K\n",
            "\u001b[01m\u001b[Kneuralcoref/neuralcoref.cpp:49400:72:\u001b[m\u001b[K \u001b[01;31m\u001b[Kerror: \u001b[m\u001b[K‘\u001b[01m\u001b[KPyTypeObject\u001b[m\u001b[K’ {aka ‘\u001b[01m\u001b[Kstruct _typeobject\u001b[m\u001b[K’} has no member named ‘\u001b[01m\u001b[Ktp_print\u001b[m\u001b[K’\n",
            "49400 |   __pyx_type_11neuralcoref_11neuralcoref___pyx_scope_struct_10_predict.\u001b[01;31m\u001b[Ktp_print\u001b[m\u001b[K = 0;\n",
            "      |                                                                        \u001b[01;31m\u001b[K^~~~~~~~\u001b[m\u001b[K\n",
            "\u001b[01m\u001b[Kneuralcoref/neuralcoref.cpp:49406:72:\u001b[m\u001b[K \u001b[01;31m\u001b[Kerror: \u001b[m\u001b[K‘\u001b[01m\u001b[KPyTypeObject\u001b[m\u001b[K’ {aka ‘\u001b[01m\u001b[Kstruct _typeobject\u001b[m\u001b[K’} has no member named ‘\u001b[01m\u001b[Ktp_print\u001b[m\u001b[K’\n",
            "49406 |   __pyx_type_11neuralcoref_11neuralcoref___pyx_scope_struct_11_genexpr.\u001b[01;31m\u001b[Ktp_print\u001b[m\u001b[K = 0;\n",
            "      |                                                                        \u001b[01;31m\u001b[K^~~~~~~~\u001b[m\u001b[K\n",
            "\u001b[01m\u001b[Kneuralcoref/neuralcoref.cpp:49412:72:\u001b[m\u001b[K \u001b[01;31m\u001b[Kerror: \u001b[m\u001b[K‘\u001b[01m\u001b[KPyTypeObject\u001b[m\u001b[K’ {aka ‘\u001b[01m\u001b[Kstruct _typeobject\u001b[m\u001b[K’} has no member named ‘\u001b[01m\u001b[Ktp_print\u001b[m\u001b[K’\n",
            "49412 |   __pyx_type_11neuralcoref_11neuralcoref___pyx_scope_struct_12_genexpr.\u001b[01;31m\u001b[Ktp_print\u001b[m\u001b[K = 0;\n",
            "      |                                                                        \u001b[01;31m\u001b[K^~~~~~~~\u001b[m\u001b[K\n",
            "\u001b[01m\u001b[Kneuralcoref/neuralcoref.cpp:49418:72:\u001b[m\u001b[K \u001b[01;31m\u001b[Kerror: \u001b[m\u001b[K‘\u001b[01m\u001b[KPyTypeObject\u001b[m\u001b[K’ {aka ‘\u001b[01m\u001b[Kstruct _typeobject\u001b[m\u001b[K’} has no member named ‘\u001b[01m\u001b[Ktp_print\u001b[m\u001b[K’\n",
            "49418 |   __pyx_type_11neuralcoref_11neuralcoref___pyx_scope_struct_13_genexpr.\u001b[01;31m\u001b[Ktp_print\u001b[m\u001b[K = 0;\n",
            "      |                                                                        \u001b[01;31m\u001b[K^~~~~~~~\u001b[m\u001b[K\n",
            "\u001b[01m\u001b[Kneuralcoref/neuralcoref.cpp:49424:72:\u001b[m\u001b[K \u001b[01;31m\u001b[Kerror: \u001b[m\u001b[K‘\u001b[01m\u001b[KPyTypeObject\u001b[m\u001b[K’ {aka ‘\u001b[01m\u001b[Kstruct _typeobject\u001b[m\u001b[K’} has no member named ‘\u001b[01m\u001b[Ktp_print\u001b[m\u001b[K’\n",
            "49424 |   __pyx_type_11neuralcoref_11neuralcoref___pyx_scope_struct_14_genexpr.\u001b[01;31m\u001b[Ktp_print\u001b[m\u001b[K = 0;\n",
            "      |                                                                        \u001b[01;31m\u001b[K^~~~~~~~\u001b[m\u001b[K\n",
            "\u001b[01m\u001b[Kneuralcoref/neuralcoref.cpp:49430:72:\u001b[m\u001b[K \u001b[01;31m\u001b[Kerror: \u001b[m\u001b[K‘\u001b[01m\u001b[KPyTypeObject\u001b[m\u001b[K’ {aka ‘\u001b[01m\u001b[Kstruct _typeobject\u001b[m\u001b[K’} has no member named ‘\u001b[01m\u001b[Ktp_print\u001b[m\u001b[K’\n",
            "49430 |   __pyx_type_11neuralcoref_11neuralcoref___pyx_scope_struct_15_to_disk.\u001b[01;31m\u001b[Ktp_print\u001b[m\u001b[K = 0;\n",
            "      |                                                                        \u001b[01;31m\u001b[K^~~~~~~~\u001b[m\u001b[K\n",
            "\u001b[01m\u001b[Kneuralcoref/neuralcoref.cpp:49436:74:\u001b[m\u001b[K \u001b[01;31m\u001b[Kerror: \u001b[m\u001b[K‘\u001b[01m\u001b[KPyTypeObject\u001b[m\u001b[K’ {aka ‘\u001b[01m\u001b[Kstruct _typeobject\u001b[m\u001b[K’} has no member named ‘\u001b[01m\u001b[Ktp_print\u001b[m\u001b[K’\n",
            "49436 |   __pyx_type_11neuralcoref_11neuralcoref___pyx_scope_struct_16_from_disk.\u001b[01;31m\u001b[Ktp_print\u001b[m\u001b[K = 0;\n",
            "      |                                                                          \u001b[01;31m\u001b[K^~~~~~~~\u001b[m\u001b[K\n",
            "\u001b[01m\u001b[Kneuralcoref/neuralcoref.cpp:49442:73:\u001b[m\u001b[K \u001b[01;31m\u001b[Kerror: \u001b[m\u001b[K‘\u001b[01m\u001b[KPyTypeObject\u001b[m\u001b[K’ {aka ‘\u001b[01m\u001b[Kstruct _typeobject\u001b[m\u001b[K’} has no member named ‘\u001b[01m\u001b[Ktp_print\u001b[m\u001b[K’\n",
            "49442 |   __pyx_type_11neuralcoref_11neuralcoref___pyx_scope_struct_17_to_bytes.\u001b[01;31m\u001b[Ktp_print\u001b[m\u001b[K = 0;\n",
            "      |                                                                         \u001b[01;31m\u001b[K^~~~~~~~\u001b[m\u001b[K\n",
            "\u001b[01m\u001b[Kneuralcoref/neuralcoref.cpp:49448:75:\u001b[m\u001b[K \u001b[01;31m\u001b[Kerror: \u001b[m\u001b[K‘\u001b[01m\u001b[KPyTypeObject\u001b[m\u001b[K’ {aka ‘\u001b[01m\u001b[Kstruct _typeobject\u001b[m\u001b[K’} has no member named ‘\u001b[01m\u001b[Ktp_print\u001b[m\u001b[K’\n",
            "49448 |   __pyx_type_11neuralcoref_11neuralcoref___pyx_scope_struct_18_from_bytes.\u001b[01;31m\u001b[Ktp_print\u001b[m\u001b[K = 0;\n",
            "      |                                                                           \u001b[01;31m\u001b[K^~~~~~~~\u001b[m\u001b[K\n",
            "\u001b[01m\u001b[Kneuralcoref/neuralcoref.cpp:49456:26:\u001b[m\u001b[K \u001b[01;31m\u001b[Kerror: \u001b[m\u001b[K‘\u001b[01m\u001b[KPyTypeObject\u001b[m\u001b[K’ {aka ‘\u001b[01m\u001b[Kstruct _typeobject\u001b[m\u001b[K’} has no member named ‘\u001b[01m\u001b[Ktp_print\u001b[m\u001b[K’\n",
            "49456 |   __pyx_type___pyx_array.\u001b[01;31m\u001b[Ktp_print\u001b[m\u001b[K = 0;\n",
            "      |                          \u001b[01;31m\u001b[K^~~~~~~~\u001b[m\u001b[K\n",
            "\u001b[01m\u001b[Kneuralcoref/neuralcoref.cpp:49461:32:\u001b[m\u001b[K \u001b[01;31m\u001b[Kerror: \u001b[m\u001b[K‘\u001b[01m\u001b[KPyTypeObject\u001b[m\u001b[K’ {aka ‘\u001b[01m\u001b[Kstruct _typeobject\u001b[m\u001b[K’} has no member named ‘\u001b[01m\u001b[Ktp_print\u001b[m\u001b[K’\n",
            "49461 |   __pyx_type___pyx_MemviewEnum.\u001b[01;31m\u001b[Ktp_print\u001b[m\u001b[K = 0;\n",
            "      |                                \u001b[01;31m\u001b[K^~~~~~~~\u001b[m\u001b[K\n",
            "\u001b[01m\u001b[Kneuralcoref/neuralcoref.cpp:49476:31:\u001b[m\u001b[K \u001b[01;31m\u001b[Kerror: \u001b[m\u001b[K‘\u001b[01m\u001b[KPyTypeObject\u001b[m\u001b[K’ {aka ‘\u001b[01m\u001b[Kstruct _typeobject\u001b[m\u001b[K’} has no member named ‘\u001b[01m\u001b[Ktp_print\u001b[m\u001b[K’\n",
            "49476 |   __pyx_type___pyx_memoryview.\u001b[01;31m\u001b[Ktp_print\u001b[m\u001b[K = 0;\n",
            "      |                               \u001b[01;31m\u001b[K^~~~~~~~\u001b[m\u001b[K\n",
            "\u001b[01m\u001b[Kneuralcoref/neuralcoref.cpp:49489:36:\u001b[m\u001b[K \u001b[01;31m\u001b[Kerror: \u001b[m\u001b[K‘\u001b[01m\u001b[KPyTypeObject\u001b[m\u001b[K’ {aka ‘\u001b[01m\u001b[Kstruct _typeobject\u001b[m\u001b[K’} has no member named ‘\u001b[01m\u001b[Ktp_print\u001b[m\u001b[K’\n",
            "49489 |   __pyx_type___pyx_memoryviewslice.\u001b[01;31m\u001b[Ktp_print\u001b[m\u001b[K = 0;\n",
            "      |                                    \u001b[01;31m\u001b[K^~~~~~~~\u001b[m\u001b[K\n",
            "In file included from \u001b[01m\u001b[K/usr/include/python3.10/unicodeobject.h:1046\u001b[m\u001b[K,\n",
            "                 from \u001b[01m\u001b[K/usr/include/python3.10/Python.h:83\u001b[m\u001b[K,\n",
            "                 from \u001b[01m\u001b[Kneuralcoref/neuralcoref.cpp:4\u001b[m\u001b[K:\n",
            "\u001b[01m\u001b[Kneuralcoref/neuralcoref.cpp:\u001b[m\u001b[K In function ‘\u001b[01m\u001b[Kint __Pyx_ParseOptionalKeywords(PyObject*, PyObject***, PyObject*, PyObject**, Py_ssize_t, const char*)\u001b[m\u001b[K’:\n",
            "\u001b[01m\u001b[K/usr/include/python3.10/cpython/unicodeobject.h:451:61:\u001b[m\u001b[K \u001b[01;35m\u001b[Kwarning: \u001b[m\u001b[K‘\u001b[01m\u001b[KPy_ssize_t _PyUnicode_get_wstr_length(PyObject*)\u001b[m\u001b[K’ is deprecated [\u001b[01;35m\u001b[K\u001b]8;;https://gcc.gnu.org/onlinedocs/gcc/Warning-Options.html#index-Wdeprecated-declarations\u0007-Wdeprecated-declarations\u001b]8;;\u0007\u001b[m\u001b[K]\n",
            "  451 | #define PyUnicode_WSTR_LENGTH(op) \u001b[01;35m\u001b[K_PyUnicode_get_wstr_length((PyObject*)op)\u001b[m\u001b[K\n",
            "      |                                   \u001b[01;35m\u001b[K~~~~~~~~~~~~~~~~~~~~~~~~~~^~~~~~~~~~~~~~~\u001b[m\u001b[K\n",
            "\u001b[01m\u001b[K/usr/include/python3.10/cpython/unicodeobject.h:261:7:\u001b[m\u001b[K \u001b[01;36m\u001b[Knote: \u001b[m\u001b[Kin expansion of macro ‘\u001b[01m\u001b[KPyUnicode_WSTR_LENGTH\u001b[m\u001b[K’\n",
            "  261 |       \u001b[01;36m\u001b[KPyUnicode_WSTR_LENGTH\u001b[m\u001b[K(op) :                    \\\n",
            "      |       \u001b[01;36m\u001b[K^~~~~~~~~~~~~~~~~~~~~\u001b[m\u001b[K\n",
            "\u001b[01m\u001b[Kneuralcoref/neuralcoref.cpp:51983:22:\u001b[m\u001b[K \u001b[01;36m\u001b[Knote: \u001b[m\u001b[Kin expansion of macro ‘\u001b[01m\u001b[KPyUnicode_GET_SIZE\u001b[m\u001b[K’\n",
            "51983 |                     (\u001b[01;36m\u001b[KPyUnicode_GET_SIZE\u001b[m\u001b[K(**name) != PyUnicode_GET_SIZE(key)) ? 1 :\n",
            "      |                      \u001b[01;36m\u001b[K^~~~~~~~~~~~~~~~~~\u001b[m\u001b[K\n",
            "\u001b[01m\u001b[K/usr/include/python3.10/cpython/unicodeobject.h:446:26:\u001b[m\u001b[K \u001b[01;36m\u001b[Knote: \u001b[m\u001b[Kdeclared here\n",
            "  446 | static inline Py_ssize_t \u001b[01;36m\u001b[K_PyUnicode_get_wstr_length\u001b[m\u001b[K(PyObject *op) {\n",
            "      |                          \u001b[01;36m\u001b[K^~~~~~~~~~~~~~~~~~~~~~~~~~\u001b[m\u001b[K\n",
            "\u001b[01m\u001b[K/usr/include/python3.10/cpython/unicodeobject.h:262:33:\u001b[m\u001b[K \u001b[01;35m\u001b[Kwarning: \u001b[m\u001b[K‘\u001b[01m\u001b[KPy_UNICODE* PyUnicode_AsUnicode(PyObject*)\u001b[m\u001b[K’ is deprecated [\u001b[01;35m\u001b[K\u001b]8;;https://gcc.gnu.org/onlinedocs/gcc/Warning-Options.html#index-Wdeprecated-declarations\u0007-Wdeprecated-declarations\u001b]8;;\u0007\u001b[m\u001b[K]\n",
            "  262 |       ((void)\u001b[01;35m\u001b[KPyUnicode_AsUnicode(_PyObject_CAST(op))\u001b[m\u001b[K,\\\n",
            "      |              \u001b[01;35m\u001b[K~~~~~~~~~~~~~~~~~~~^~~~~~~~~~~~~~~~~~~~\u001b[m\u001b[K\n",
            "\u001b[01m\u001b[Kneuralcoref/neuralcoref.cpp:51983:22:\u001b[m\u001b[K \u001b[01;36m\u001b[Knote: \u001b[m\u001b[Kin expansion of macro ‘\u001b[01m\u001b[KPyUnicode_GET_SIZE\u001b[m\u001b[K’\n",
            "51983 |                     (\u001b[01;36m\u001b[KPyUnicode_GET_SIZE\u001b[m\u001b[K(**name) != PyUnicode_GET_SIZE(key)) ? 1 :\n",
            "      |                      \u001b[01;36m\u001b[K^~~~~~~~~~~~~~~~~~\u001b[m\u001b[K\n",
            "\u001b[01m\u001b[K/usr/include/python3.10/cpython/unicodeobject.h:580:45:\u001b[m\u001b[K \u001b[01;36m\u001b[Knote: \u001b[m\u001b[Kdeclared here\n",
            "  580 | Py_DEPRECATED(3.3) PyAPI_FUNC(Py_UNICODE *) \u001b[01;36m\u001b[KPyUnicode_AsUnicode\u001b[m\u001b[K(\n",
            "      |                                             \u001b[01;36m\u001b[K^~~~~~~~~~~~~~~~~~~\u001b[m\u001b[K\n",
            "\u001b[01m\u001b[K/usr/include/python3.10/cpython/unicodeobject.h:451:61:\u001b[m\u001b[K \u001b[01;35m\u001b[Kwarning: \u001b[m\u001b[K‘\u001b[01m\u001b[KPy_ssize_t _PyUnicode_get_wstr_length(PyObject*)\u001b[m\u001b[K’ is deprecated [\u001b[01;35m\u001b[K\u001b]8;;https://gcc.gnu.org/onlinedocs/gcc/Warning-Options.html#index-Wdeprecated-declarations\u0007-Wdeprecated-declarations\u001b]8;;\u0007\u001b[m\u001b[K]\n",
            "  451 | #define PyUnicode_WSTR_LENGTH(op) \u001b[01;35m\u001b[K_PyUnicode_get_wstr_length((PyObject*)op)\u001b[m\u001b[K\n",
            "      |                                   \u001b[01;35m\u001b[K~~~~~~~~~~~~~~~~~~~~~~~~~~^~~~~~~~~~~~~~~\u001b[m\u001b[K\n",
            "\u001b[01m\u001b[K/usr/include/python3.10/cpython/unicodeobject.h:264:8:\u001b[m\u001b[K \u001b[01;36m\u001b[Knote: \u001b[m\u001b[Kin expansion of macro ‘\u001b[01m\u001b[KPyUnicode_WSTR_LENGTH\u001b[m\u001b[K’\n",
            "  264 |        \u001b[01;36m\u001b[KPyUnicode_WSTR_LENGTH\u001b[m\u001b[K(op)))\n",
            "      |        \u001b[01;36m\u001b[K^~~~~~~~~~~~~~~~~~~~~\u001b[m\u001b[K\n",
            "\u001b[01m\u001b[Kneuralcoref/neuralcoref.cpp:51983:22:\u001b[m\u001b[K \u001b[01;36m\u001b[Knote: \u001b[m\u001b[Kin expansion of macro ‘\u001b[01m\u001b[KPyUnicode_GET_SIZE\u001b[m\u001b[K’\n",
            "51983 |                     (\u001b[01;36m\u001b[KPyUnicode_GET_SIZE\u001b[m\u001b[K(**name) != PyUnicode_GET_SIZE(key)) ? 1 :\n",
            "      |                      \u001b[01;36m\u001b[K^~~~~~~~~~~~~~~~~~\u001b[m\u001b[K\n",
            "\u001b[01m\u001b[K/usr/include/python3.10/cpython/unicodeobject.h:446:26:\u001b[m\u001b[K \u001b[01;36m\u001b[Knote: \u001b[m\u001b[Kdeclared here\n",
            "  446 | static inline Py_ssize_t \u001b[01;36m\u001b[K_PyUnicode_get_wstr_length\u001b[m\u001b[K(PyObject *op) {\n",
            "      |                          \u001b[01;36m\u001b[K^~~~~~~~~~~~~~~~~~~~~~~~~~\u001b[m\u001b[K\n",
            "\u001b[01m\u001b[K/usr/include/python3.10/cpython/unicodeobject.h:451:61:\u001b[m\u001b[K \u001b[01;35m\u001b[Kwarning: \u001b[m\u001b[K‘\u001b[01m\u001b[KPy_ssize_t _PyUnicode_get_wstr_length(PyObject*)\u001b[m\u001b[K’ is deprecated [\u001b[01;35m\u001b[K\u001b]8;;https://gcc.gnu.org/onlinedocs/gcc/Warning-Options.html#index-Wdeprecated-declarations\u0007-Wdeprecated-declarations\u001b]8;;\u0007\u001b[m\u001b[K]\n",
            "  451 | #define PyUnicode_WSTR_LENGTH(op) \u001b[01;35m\u001b[K_PyUnicode_get_wstr_length((PyObject*)op)\u001b[m\u001b[K\n",
            "      |                                   \u001b[01;35m\u001b[K~~~~~~~~~~~~~~~~~~~~~~~~~~^~~~~~~~~~~~~~~\u001b[m\u001b[K\n",
            "\u001b[01m\u001b[K/usr/include/python3.10/cpython/unicodeobject.h:261:7:\u001b[m\u001b[K \u001b[01;36m\u001b[Knote: \u001b[m\u001b[Kin expansion of macro ‘\u001b[01m\u001b[KPyUnicode_WSTR_LENGTH\u001b[m\u001b[K’\n",
            "  261 |       \u001b[01;36m\u001b[KPyUnicode_WSTR_LENGTH\u001b[m\u001b[K(op) :                    \\\n",
            "      |       \u001b[01;36m\u001b[K^~~~~~~~~~~~~~~~~~~~~\u001b[m\u001b[K\n",
            "\u001b[01m\u001b[Kneuralcoref/neuralcoref.cpp:51983:52:\u001b[m\u001b[K \u001b[01;36m\u001b[Knote: \u001b[m\u001b[Kin expansion of macro ‘\u001b[01m\u001b[KPyUnicode_GET_SIZE\u001b[m\u001b[K’\n",
            "51983 |                     (PyUnicode_GET_SIZE(**name) != \u001b[01;36m\u001b[KPyUnicode_GET_SIZE\u001b[m\u001b[K(key)) ? 1 :\n",
            "      |                                                    \u001b[01;36m\u001b[K^~~~~~~~~~~~~~~~~~\u001b[m\u001b[K\n",
            "\u001b[01m\u001b[K/usr/include/python3.10/cpython/unicodeobject.h:446:26:\u001b[m\u001b[K \u001b[01;36m\u001b[Knote: \u001b[m\u001b[Kdeclared here\n",
            "  446 | static inline Py_ssize_t \u001b[01;36m\u001b[K_PyUnicode_get_wstr_length\u001b[m\u001b[K(PyObject *op) {\n",
            "      |                          \u001b[01;36m\u001b[K^~~~~~~~~~~~~~~~~~~~~~~~~~\u001b[m\u001b[K\n",
            "\u001b[01m\u001b[K/usr/include/python3.10/cpython/unicodeobject.h:262:33:\u001b[m\u001b[K \u001b[01;35m\u001b[Kwarning: \u001b[m\u001b[K‘\u001b[01m\u001b[KPy_UNICODE* PyUnicode_AsUnicode(PyObject*)\u001b[m\u001b[K’ is deprecated [\u001b[01;35m\u001b[K\u001b]8;;https://gcc.gnu.org/onlinedocs/gcc/Warning-Options.html#index-Wdeprecated-declarations\u0007-Wdeprecated-declarations\u001b]8;;\u0007\u001b[m\u001b[K]\n",
            "  262 |       ((void)\u001b[01;35m\u001b[KPyUnicode_AsUnicode(_PyObject_CAST(op))\u001b[m\u001b[K,\\\n",
            "      |              \u001b[01;35m\u001b[K~~~~~~~~~~~~~~~~~~~^~~~~~~~~~~~~~~~~~~~\u001b[m\u001b[K\n",
            "\u001b[01m\u001b[Kneuralcoref/neuralcoref.cpp:51983:52:\u001b[m\u001b[K \u001b[01;36m\u001b[Knote: \u001b[m\u001b[Kin expansion of macro ‘\u001b[01m\u001b[KPyUnicode_GET_SIZE\u001b[m\u001b[K’\n",
            "51983 |                     (PyUnicode_GET_SIZE(**name) != \u001b[01;36m\u001b[KPyUnicode_GET_SIZE\u001b[m\u001b[K(key)) ? 1 :\n",
            "      |                                                    \u001b[01;36m\u001b[K^~~~~~~~~~~~~~~~~~\u001b[m\u001b[K\n",
            "\u001b[01m\u001b[K/usr/include/python3.10/cpython/unicodeobject.h:580:45:\u001b[m\u001b[K \u001b[01;36m\u001b[Knote: \u001b[m\u001b[Kdeclared here\n",
            "  580 | Py_DEPRECATED(3.3) PyAPI_FUNC(Py_UNICODE *) \u001b[01;36m\u001b[KPyUnicode_AsUnicode\u001b[m\u001b[K(\n",
            "      |                                             \u001b[01;36m\u001b[K^~~~~~~~~~~~~~~~~~~\u001b[m\u001b[K\n",
            "\u001b[01m\u001b[K/usr/include/python3.10/cpython/unicodeobject.h:451:61:\u001b[m\u001b[K \u001b[01;35m\u001b[Kwarning: \u001b[m\u001b[K‘\u001b[01m\u001b[KPy_ssize_t _PyUnicode_get_wstr_length(PyObject*)\u001b[m\u001b[K’ is deprecated [\u001b[01;35m\u001b[K\u001b]8;;https://gcc.gnu.org/onlinedocs/gcc/Warning-Options.html#index-Wdeprecated-declarations\u0007-Wdeprecated-declarations\u001b]8;;\u0007\u001b[m\u001b[K]\n",
            "  451 | #define PyUnicode_WSTR_LENGTH(op) \u001b[01;35m\u001b[K_PyUnicode_get_wstr_length((PyObject*)op)\u001b[m\u001b[K\n",
            "      |                                   \u001b[01;35m\u001b[K~~~~~~~~~~~~~~~~~~~~~~~~~~^~~~~~~~~~~~~~~\u001b[m\u001b[K\n",
            "\u001b[01m\u001b[K/usr/include/python3.10/cpython/unicodeobject.h:264:8:\u001b[m\u001b[K \u001b[01;36m\u001b[Knote: \u001b[m\u001b[Kin expansion of macro ‘\u001b[01m\u001b[KPyUnicode_WSTR_LENGTH\u001b[m\u001b[K’\n",
            "  264 |        \u001b[01;36m\u001b[KPyUnicode_WSTR_LENGTH\u001b[m\u001b[K(op)))\n",
            "      |        \u001b[01;36m\u001b[K^~~~~~~~~~~~~~~~~~~~~\u001b[m\u001b[K\n",
            "\u001b[01m\u001b[Kneuralcoref/neuralcoref.cpp:51983:52:\u001b[m\u001b[K \u001b[01;36m\u001b[Knote: \u001b[m\u001b[Kin expansion of macro ‘\u001b[01m\u001b[KPyUnicode_GET_SIZE\u001b[m\u001b[K’\n",
            "51983 |                     (PyUnicode_GET_SIZE(**name) != \u001b[01;36m\u001b[KPyUnicode_GET_SIZE\u001b[m\u001b[K(key)) ? 1 :\n",
            "      |                                                    \u001b[01;36m\u001b[K^~~~~~~~~~~~~~~~~~\u001b[m\u001b[K\n",
            "\u001b[01m\u001b[K/usr/include/python3.10/cpython/unicodeobject.h:446:26:\u001b[m\u001b[K \u001b[01;36m\u001b[Knote: \u001b[m\u001b[Kdeclared here\n",
            "  446 | static inline Py_ssize_t \u001b[01;36m\u001b[K_PyUnicode_get_wstr_length\u001b[m\u001b[K(PyObject *op) {\n",
            "      |                          \u001b[01;36m\u001b[K^~~~~~~~~~~~~~~~~~~~~~~~~~\u001b[m\u001b[K\n",
            "\u001b[01m\u001b[K/usr/include/python3.10/cpython/unicodeobject.h:451:61:\u001b[m\u001b[K \u001b[01;35m\u001b[Kwarning: \u001b[m\u001b[K‘\u001b[01m\u001b[KPy_ssize_t _PyUnicode_get_wstr_length(PyObject*)\u001b[m\u001b[K’ is deprecated [\u001b[01;35m\u001b[K\u001b]8;;https://gcc.gnu.org/onlinedocs/gcc/Warning-Options.html#index-Wdeprecated-declarations\u0007-Wdeprecated-declarations\u001b]8;;\u0007\u001b[m\u001b[K]\n",
            "  451 | #define PyUnicode_WSTR_LENGTH(op) \u001b[01;35m\u001b[K_PyUnicode_get_wstr_length((PyObject*)op)\u001b[m\u001b[K\n",
            "      |                                   \u001b[01;35m\u001b[K~~~~~~~~~~~~~~~~~~~~~~~~~~^~~~~~~~~~~~~~~\u001b[m\u001b[K\n",
            "\u001b[01m\u001b[K/usr/include/python3.10/cpython/unicodeobject.h:261:7:\u001b[m\u001b[K \u001b[01;36m\u001b[Knote: \u001b[m\u001b[Kin expansion of macro ‘\u001b[01m\u001b[KPyUnicode_WSTR_LENGTH\u001b[m\u001b[K’\n",
            "  261 |       \u001b[01;36m\u001b[KPyUnicode_WSTR_LENGTH\u001b[m\u001b[K(op) :                    \\\n",
            "      |       \u001b[01;36m\u001b[K^~~~~~~~~~~~~~~~~~~~~\u001b[m\u001b[K\n",
            "\u001b[01m\u001b[Kneuralcoref/neuralcoref.cpp:51999:26:\u001b[m\u001b[K \u001b[01;36m\u001b[Knote: \u001b[m\u001b[Kin expansion of macro ‘\u001b[01m\u001b[KPyUnicode_GET_SIZE\u001b[m\u001b[K’\n",
            "51999 |                         (\u001b[01;36m\u001b[KPyUnicode_GET_SIZE\u001b[m\u001b[K(**argname) != PyUnicode_GET_SIZE(key)) ? 1 :\n",
            "      |                          \u001b[01;36m\u001b[K^~~~~~~~~~~~~~~~~~\u001b[m\u001b[K\n",
            "\u001b[01m\u001b[K/usr/include/python3.10/cpython/unicodeobject.h:446:26:\u001b[m\u001b[K \u001b[01;36m\u001b[Knote: \u001b[m\u001b[Kdeclared here\n",
            "  446 | static inline Py_ssize_t \u001b[01;36m\u001b[K_PyUnicode_get_wstr_length\u001b[m\u001b[K(PyObject *op) {\n",
            "      |                          \u001b[01;36m\u001b[K^~~~~~~~~~~~~~~~~~~~~~~~~~\u001b[m\u001b[K\n",
            "\u001b[01m\u001b[K/usr/include/python3.10/cpython/unicodeobject.h:262:33:\u001b[m\u001b[K \u001b[01;35m\u001b[Kwarning: \u001b[m\u001b[K‘\u001b[01m\u001b[KPy_UNICODE* PyUnicode_AsUnicode(PyObject*)\u001b[m\u001b[K’ is deprecated [\u001b[01;35m\u001b[K\u001b]8;;https://gcc.gnu.org/onlinedocs/gcc/Warning-Options.html#index-Wdeprecated-declarations\u0007-Wdeprecated-declarations\u001b]8;;\u0007\u001b[m\u001b[K]\n",
            "  262 |       ((void)\u001b[01;35m\u001b[KPyUnicode_AsUnicode(_PyObject_CAST(op))\u001b[m\u001b[K,\\\n",
            "      |              \u001b[01;35m\u001b[K~~~~~~~~~~~~~~~~~~~^~~~~~~~~~~~~~~~~~~~\u001b[m\u001b[K\n",
            "\u001b[01m\u001b[Kneuralcoref/neuralcoref.cpp:51999:26:\u001b[m\u001b[K \u001b[01;36m\u001b[Knote: \u001b[m\u001b[Kin expansion of macro ‘\u001b[01m\u001b[KPyUnicode_GET_SIZE\u001b[m\u001b[K’\n",
            "51999 |                         (\u001b[01;36m\u001b[KPyUnicode_GET_SIZE\u001b[m\u001b[K(**argname) != PyUnicode_GET_SIZE(key)) ? 1 :\n",
            "      |                          \u001b[01;36m\u001b[K^~~~~~~~~~~~~~~~~~\u001b[m\u001b[K\n",
            "\u001b[01m\u001b[K/usr/include/python3.10/cpython/unicodeobject.h:580:45:\u001b[m\u001b[K \u001b[01;36m\u001b[Knote: \u001b[m\u001b[Kdeclared here\n",
            "  580 | Py_DEPRECATED(3.3) PyAPI_FUNC(Py_UNICODE *) \u001b[01;36m\u001b[KPyUnicode_AsUnicode\u001b[m\u001b[K(\n",
            "      |                                             \u001b[01;36m\u001b[K^~~~~~~~~~~~~~~~~~~\u001b[m\u001b[K\n",
            "\u001b[01m\u001b[K/usr/include/python3.10/cpython/unicodeobject.h:451:61:\u001b[m\u001b[K \u001b[01;35m\u001b[Kwarning: \u001b[m\u001b[K‘\u001b[01m\u001b[KPy_ssize_t _PyUnicode_get_wstr_length(PyObject*)\u001b[m\u001b[K’ is deprecated [\u001b[01;35m\u001b[K\u001b]8;;https://gcc.gnu.org/onlinedocs/gcc/Warning-Options.html#index-Wdeprecated-declarations\u0007-Wdeprecated-declarations\u001b]8;;\u0007\u001b[m\u001b[K]\n",
            "  451 | #define PyUnicode_WSTR_LENGTH(op) \u001b[01;35m\u001b[K_PyUnicode_get_wstr_length((PyObject*)op)\u001b[m\u001b[K\n",
            "      |                                   \u001b[01;35m\u001b[K~~~~~~~~~~~~~~~~~~~~~~~~~~^~~~~~~~~~~~~~~\u001b[m\u001b[K\n",
            "\u001b[01m\u001b[K/usr/include/python3.10/cpython/unicodeobject.h:264:8:\u001b[m\u001b[K \u001b[01;36m\u001b[Knote: \u001b[m\u001b[Kin expansion of macro ‘\u001b[01m\u001b[KPyUnicode_WSTR_LENGTH\u001b[m\u001b[K’\n",
            "  264 |        \u001b[01;36m\u001b[KPyUnicode_WSTR_LENGTH\u001b[m\u001b[K(op)))\n",
            "      |        \u001b[01;36m\u001b[K^~~~~~~~~~~~~~~~~~~~~\u001b[m\u001b[K\n",
            "\u001b[01m\u001b[Kneuralcoref/neuralcoref.cpp:51999:26:\u001b[m\u001b[K \u001b[01;36m\u001b[Knote: \u001b[m\u001b[Kin expansion of macro ‘\u001b[01m\u001b[KPyUnicode_GET_SIZE\u001b[m\u001b[K’\n",
            "51999 |                         (\u001b[01;36m\u001b[KPyUnicode_GET_SIZE\u001b[m\u001b[K(**argname) != PyUnicode_GET_SIZE(key)) ? 1 :\n",
            "      |                          \u001b[01;36m\u001b[K^~~~~~~~~~~~~~~~~~\u001b[m\u001b[K\n",
            "\u001b[01m\u001b[K/usr/include/python3.10/cpython/unicodeobject.h:446:26:\u001b[m\u001b[K \u001b[01;36m\u001b[Knote: \u001b[m\u001b[Kdeclared here\n",
            "  446 | static inline Py_ssize_t \u001b[01;36m\u001b[K_PyUnicode_get_wstr_length\u001b[m\u001b[K(PyObject *op) {\n",
            "      |                          \u001b[01;36m\u001b[K^~~~~~~~~~~~~~~~~~~~~~~~~~\u001b[m\u001b[K\n",
            "\u001b[01m\u001b[K/usr/include/python3.10/cpython/unicodeobject.h:451:61:\u001b[m\u001b[K \u001b[01;35m\u001b[Kwarning: \u001b[m\u001b[K‘\u001b[01m\u001b[KPy_ssize_t _PyUnicode_get_wstr_length(PyObject*)\u001b[m\u001b[K’ is deprecated [\u001b[01;35m\u001b[K\u001b]8;;https://gcc.gnu.org/onlinedocs/gcc/Warning-Options.html#index-Wdeprecated-declarations\u0007-Wdeprecated-declarations\u001b]8;;\u0007\u001b[m\u001b[K]\n",
            "  451 | #define PyUnicode_WSTR_LENGTH(op) \u001b[01;35m\u001b[K_PyUnicode_get_wstr_length((PyObject*)op)\u001b[m\u001b[K\n",
            "      |                                   \u001b[01;35m\u001b[K~~~~~~~~~~~~~~~~~~~~~~~~~~^~~~~~~~~~~~~~~\u001b[m\u001b[K\n",
            "\u001b[01m\u001b[K/usr/include/python3.10/cpython/unicodeobject.h:261:7:\u001b[m\u001b[K \u001b[01;36m\u001b[Knote: \u001b[m\u001b[Kin expansion of macro ‘\u001b[01m\u001b[KPyUnicode_WSTR_LENGTH\u001b[m\u001b[K’\n",
            "  261 |       \u001b[01;36m\u001b[KPyUnicode_WSTR_LENGTH\u001b[m\u001b[K(op) :                    \\\n",
            "      |       \u001b[01;36m\u001b[K^~~~~~~~~~~~~~~~~~~~~\u001b[m\u001b[K\n",
            "\u001b[01m\u001b[Kneuralcoref/neuralcoref.cpp:51999:59:\u001b[m\u001b[K \u001b[01;36m\u001b[Knote: \u001b[m\u001b[Kin expansion of macro ‘\u001b[01m\u001b[KPyUnicode_GET_SIZE\u001b[m\u001b[K’\n",
            "51999 |                         (PyUnicode_GET_SIZE(**argname) != \u001b[01;36m\u001b[KPyUnicode_GET_SIZE\u001b[m\u001b[K(key)) ? 1 :\n",
            "      |                                                           \u001b[01;36m\u001b[K^~~~~~~~~~~~~~~~~~\u001b[m\u001b[K\n",
            "\u001b[01m\u001b[K/usr/include/python3.10/cpython/unicodeobject.h:446:26:\u001b[m\u001b[K \u001b[01;36m\u001b[Knote: \u001b[m\u001b[Kdeclared here\n",
            "  446 | static inline Py_ssize_t \u001b[01;36m\u001b[K_PyUnicode_get_wstr_length\u001b[m\u001b[K(PyObject *op) {\n",
            "      |                          \u001b[01;36m\u001b[K^~~~~~~~~~~~~~~~~~~~~~~~~~\u001b[m\u001b[K\n",
            "\u001b[01m\u001b[K/usr/include/python3.10/cpython/unicodeobject.h:262:33:\u001b[m\u001b[K \u001b[01;35m\u001b[Kwarning: \u001b[m\u001b[K‘\u001b[01m\u001b[KPy_UNICODE* PyUnicode_AsUnicode(PyObject*)\u001b[m\u001b[K’ is deprecated [\u001b[01;35m\u001b[K\u001b]8;;https://gcc.gnu.org/onlinedocs/gcc/Warning-Options.html#index-Wdeprecated-declarations\u0007-Wdeprecated-declarations\u001b]8;;\u0007\u001b[m\u001b[K]\n",
            "  262 |       ((void)\u001b[01;35m\u001b[KPyUnicode_AsUnicode(_PyObject_CAST(op))\u001b[m\u001b[K,\\\n",
            "      |              \u001b[01;35m\u001b[K~~~~~~~~~~~~~~~~~~~^~~~~~~~~~~~~~~~~~~~\u001b[m\u001b[K\n",
            "\u001b[01m\u001b[Kneuralcoref/neuralcoref.cpp:51999:59:\u001b[m\u001b[K \u001b[01;36m\u001b[Knote: \u001b[m\u001b[Kin expansion of macro ‘\u001b[01m\u001b[KPyUnicode_GET_SIZE\u001b[m\u001b[K’\n",
            "51999 |                         (PyUnicode_GET_SIZE(**argname) != \u001b[01;36m\u001b[KPyUnicode_GET_SIZE\u001b[m\u001b[K(key)) ? 1 :\n",
            "      |                                                           \u001b[01;36m\u001b[K^~~~~~~~~~~~~~~~~~\u001b[m\u001b[K\n",
            "\u001b[01m\u001b[K/usr/include/python3.10/cpython/unicodeobject.h:580:45:\u001b[m\u001b[K \u001b[01;36m\u001b[Knote: \u001b[m\u001b[Kdeclared here\n",
            "  580 | Py_DEPRECATED(3.3) PyAPI_FUNC(Py_UNICODE *) \u001b[01;36m\u001b[KPyUnicode_AsUnicode\u001b[m\u001b[K(\n",
            "      |                                             \u001b[01;36m\u001b[K^~~~~~~~~~~~~~~~~~~\u001b[m\u001b[K\n",
            "\u001b[01m\u001b[K/usr/include/python3.10/cpython/unicodeobject.h:451:61:\u001b[m\u001b[K \u001b[01;35m\u001b[Kwarning: \u001b[m\u001b[K‘\u001b[01m\u001b[KPy_ssize_t _PyUnicode_get_wstr_length(PyObject*)\u001b[m\u001b[K’ is deprecated [\u001b[01;35m\u001b[K\u001b]8;;https://gcc.gnu.org/onlinedocs/gcc/Warning-Options.html#index-Wdeprecated-declarations\u0007-Wdeprecated-declarations\u001b]8;;\u0007\u001b[m\u001b[K]\n",
            "  451 | #define PyUnicode_WSTR_LENGTH(op) \u001b[01;35m\u001b[K_PyUnicode_get_wstr_length((PyObject*)op)\u001b[m\u001b[K\n",
            "      |                                   \u001b[01;35m\u001b[K~~~~~~~~~~~~~~~~~~~~~~~~~~^~~~~~~~~~~~~~~\u001b[m\u001b[K\n",
            "\u001b[01m\u001b[K/usr/include/python3.10/cpython/unicodeobject.h:264:8:\u001b[m\u001b[K \u001b[01;36m\u001b[Knote: \u001b[m\u001b[Kin expansion of macro ‘\u001b[01m\u001b[KPyUnicode_WSTR_LENGTH\u001b[m\u001b[K’\n",
            "  264 |        \u001b[01;36m\u001b[KPyUnicode_WSTR_LENGTH\u001b[m\u001b[K(op)))\n",
            "      |        \u001b[01;36m\u001b[K^~~~~~~~~~~~~~~~~~~~~\u001b[m\u001b[K\n",
            "\u001b[01m\u001b[Kneuralcoref/neuralcoref.cpp:51999:59:\u001b[m\u001b[K \u001b[01;36m\u001b[Knote: \u001b[m\u001b[Kin expansion of macro ‘\u001b[01m\u001b[KPyUnicode_GET_SIZE\u001b[m\u001b[K’\n",
            "51999 |                         (PyUnicode_GET_SIZE(**argname) != \u001b[01;36m\u001b[KPyUnicode_GET_SIZE\u001b[m\u001b[K(key)) ? 1 :\n",
            "      |                                                           \u001b[01;36m\u001b[K^~~~~~~~~~~~~~~~~~\u001b[m\u001b[K\n",
            "\u001b[01m\u001b[K/usr/include/python3.10/cpython/unicodeobject.h:446:26:\u001b[m\u001b[K \u001b[01;36m\u001b[Knote: \u001b[m\u001b[Kdeclared here\n",
            "  446 | static inline Py_ssize_t \u001b[01;36m\u001b[K_PyUnicode_get_wstr_length\u001b[m\u001b[K(PyObject *op) {\n",
            "      |                          \u001b[01;36m\u001b[K^~~~~~~~~~~~~~~~~~~~~~~~~~\u001b[m\u001b[K\n",
            "\u001b[01m\u001b[Kneuralcoref/neuralcoref.cpp:\u001b[m\u001b[K In function ‘\u001b[01m\u001b[KPyObject* __Pyx_Coroutine_Send(PyObject*, PyObject*)\u001b[m\u001b[K’:\n",
            "\u001b[01m\u001b[Kneuralcoref/neuralcoref.cpp:53921:19:\u001b[m\u001b[K \u001b[01;31m\u001b[Kerror: \u001b[m\u001b[K‘\u001b[01m\u001b[K_PyGen_Send\u001b[m\u001b[K’ was not declared in this scope; did you mean ‘\u001b[01m\u001b[K_PyGen_yf\u001b[m\u001b[K’?\n",
            "53921 |             ret = \u001b[01;31m\u001b[K_PyGen_Send\u001b[m\u001b[K((PyGenObject*)yf, value == Py_None ? NULL : value);\n",
            "      |                   \u001b[01;31m\u001b[K^~~~~~~~~~~\u001b[m\u001b[K\n",
            "      |                   \u001b[32m\u001b[K_PyGen_yf\u001b[m\u001b[K\n",
            "\u001b[01m\u001b[Kneuralcoref/neuralcoref.cpp:53926:19:\u001b[m\u001b[K \u001b[01;31m\u001b[Kerror: \u001b[m\u001b[K‘\u001b[01m\u001b[K_PyGen_Send\u001b[m\u001b[K’ was not declared in this scope; did you mean ‘\u001b[01m\u001b[K_PyGen_yf\u001b[m\u001b[K’?\n",
            "53926 |             ret = \u001b[01;31m\u001b[K_PyGen_Send\u001b[m\u001b[K((PyGenObject*)yf, value == Py_None ? NULL : value);\n",
            "      |                   \u001b[01;31m\u001b[K^~~~~~~~~~~\u001b[m\u001b[K\n",
            "      |                   \u001b[32m\u001b[K_PyGen_yf\u001b[m\u001b[K\n",
            "\u001b[01m\u001b[Kneuralcoref/neuralcoref.cpp:\u001b[m\u001b[K In function ‘\u001b[01m\u001b[KPyObject* __Pyx_Generator_Next(PyObject*)\u001b[m\u001b[K’:\n",
            "\u001b[01m\u001b[Kneuralcoref/neuralcoref.cpp:54010:19:\u001b[m\u001b[K \u001b[01;31m\u001b[Kerror: \u001b[m\u001b[K‘\u001b[01m\u001b[K_PyGen_Send\u001b[m\u001b[K’ was not declared in this scope; did you mean ‘\u001b[01m\u001b[K_PyGen_yf\u001b[m\u001b[K’?\n",
            "54010 |             ret = \u001b[01;31m\u001b[K_PyGen_Send\u001b[m\u001b[K((PyGenObject*)yf, NULL);\n",
            "      |                   \u001b[01;31m\u001b[K^~~~~~~~~~~\u001b[m\u001b[K\n",
            "      |                   \u001b[32m\u001b[K_PyGen_yf\u001b[m\u001b[K\n",
            "\u001b[01m\u001b[Kneuralcoref/neuralcoref.cpp:\u001b[m\u001b[K In function ‘\u001b[01m\u001b[KPyObject* __Pyx_decode_c_string(const char*, Py_ssize_t, Py_ssize_t, const char*, const char*, PyObject* (*)(const char*, Py_ssize_t, const char*))\u001b[m\u001b[K’:\n",
            "\u001b[01m\u001b[Kneuralcoref/neuralcoref.cpp:55241:37:\u001b[m\u001b[K \u001b[01;35m\u001b[Kwarning: \u001b[m\u001b[K‘\u001b[01m\u001b[KPyObject* PyUnicode_FromUnicode(const Py_UNICODE*, Py_ssize_t)\u001b[m\u001b[K’ is deprecated [\u001b[01;35m\u001b[K\u001b]8;;https://gcc.gnu.org/onlinedocs/gcc/Warning-Options.html#index-Wdeprecated-declarations\u0007-Wdeprecated-declarations\u001b]8;;\u0007\u001b[m\u001b[K]\n",
            "55241 |         return \u001b[01;35m\u001b[KPyUnicode_FromUnicode(NULL, 0)\u001b[m\u001b[K;\n",
            "      |                \u001b[01;35m\u001b[K~~~~~~~~~~~~~~~~~~~~~^~~~~~~~~\u001b[m\u001b[K\n",
            "In file included from \u001b[01m\u001b[K/usr/include/python3.10/unicodeobject.h:1046\u001b[m\u001b[K,\n",
            "                 from \u001b[01m\u001b[K/usr/include/python3.10/Python.h:83\u001b[m\u001b[K,\n",
            "                 from \u001b[01m\u001b[Kneuralcoref/neuralcoref.cpp:4\u001b[m\u001b[K:\n",
            "\u001b[01m\u001b[K/usr/include/python3.10/cpython/unicodeobject.h:551:42:\u001b[m\u001b[K \u001b[01;36m\u001b[Knote: \u001b[m\u001b[Kdeclared here\n",
            "  551 | Py_DEPRECATED(3.3) PyAPI_FUNC(PyObject*) \u001b[01;36m\u001b[KPyUnicode_FromUnicode\u001b[m\u001b[K(\n",
            "      |                                          \u001b[01;36m\u001b[K^~~~~~~~~~~~~~~~~~~~~\u001b[m\u001b[K\n",
            "error: command '/usr/bin/x86_64-linux-gnu-g++' failed with exit code 1\n"
          ]
        }
      ]
    },
    {
      "cell_type": "code",
      "source": [
        "!python -m spacy download en_core_web_sm"
      ],
      "metadata": {
        "colab": {
          "base_uri": "https://localhost:8080/"
        },
        "id": "J4hWB1ysDPNy",
        "outputId": "393fddf5-6cc8-46bf-a4a5-5f9b4561d903"
      },
      "execution_count": 21,
      "outputs": [
        {
          "output_type": "stream",
          "name": "stdout",
          "text": [
            "\u001b[33mDEPRECATION: https://github.com/explosion/spacy-models/releases/download/en_core_web_sm-2.3.1/en_core_web_sm-2.3.1.tar.gz#egg=en_core_web_sm==2.3.1 contains an egg fragment with a non-PEP 508 name pip 25.0 will enforce this behaviour change. A possible replacement is to use the req @ url syntax, and remove the egg fragment. Discussion can be found at https://github.com/pypa/pip/issues/11617\u001b[0m\u001b[33m\n",
            "\u001b[0mCollecting en_core_web_sm==2.3.1\n",
            "  Using cached en_core_web_sm-2.3.1-py3-none-any.whl\n",
            "Requirement already satisfied: spacy<2.4.0,>=2.3.0 in /usr/local/lib/python3.10/dist-packages (from en_core_web_sm==2.3.1) (2.3.9)\n",
            "Requirement already satisfied: murmurhash<1.1.0,>=0.28.0 in /usr/local/lib/python3.10/dist-packages (from spacy<2.4.0,>=2.3.0->en_core_web_sm==2.3.1) (1.0.10)\n",
            "Requirement already satisfied: cymem<2.1.0,>=2.0.2 in /usr/local/lib/python3.10/dist-packages (from spacy<2.4.0,>=2.3.0->en_core_web_sm==2.3.1) (2.0.8)\n",
            "Requirement already satisfied: preshed<3.1.0,>=3.0.2 in /usr/local/lib/python3.10/dist-packages (from spacy<2.4.0,>=2.3.0->en_core_web_sm==2.3.1) (3.0.9)\n",
            "Requirement already satisfied: thinc<7.5.0,>=7.4.1 in /usr/local/lib/python3.10/dist-packages (from spacy<2.4.0,>=2.3.0->en_core_web_sm==2.3.1) (7.4.6)\n",
            "Requirement already satisfied: blis<0.8.0,>=0.4.0 in /usr/local/lib/python3.10/dist-packages (from spacy<2.4.0,>=2.3.0->en_core_web_sm==2.3.1) (0.7.11)\n",
            "Requirement already satisfied: wasabi<1.1.0,>=0.4.0 in /usr/local/lib/python3.10/dist-packages (from spacy<2.4.0,>=2.3.0->en_core_web_sm==2.3.1) (0.10.1)\n",
            "Requirement already satisfied: srsly<1.1.0,>=1.0.2 in /usr/local/lib/python3.10/dist-packages (from spacy<2.4.0,>=2.3.0->en_core_web_sm==2.3.1) (1.0.7)\n",
            "Requirement already satisfied: catalogue<1.1.0,>=0.0.7 in /usr/local/lib/python3.10/dist-packages (from spacy<2.4.0,>=2.3.0->en_core_web_sm==2.3.1) (1.0.2)\n",
            "Requirement already satisfied: tqdm<5.0.0,>=4.38.0 in /usr/local/lib/python3.10/dist-packages (from spacy<2.4.0,>=2.3.0->en_core_web_sm==2.3.1) (4.66.6)\n",
            "Requirement already satisfied: setuptools in /usr/local/lib/python3.10/dist-packages (from spacy<2.4.0,>=2.3.0->en_core_web_sm==2.3.1) (75.1.0)\n",
            "Requirement already satisfied: numpy>=1.15.0 in /usr/local/lib/python3.10/dist-packages (from spacy<2.4.0,>=2.3.0->en_core_web_sm==2.3.1) (1.26.4)\n",
            "Requirement already satisfied: plac<1.2.0,>=0.9.6 in /usr/local/lib/python3.10/dist-packages (from spacy<2.4.0,>=2.3.0->en_core_web_sm==2.3.1) (1.1.3)\n",
            "Requirement already satisfied: requests<3.0.0,>=2.13.0 in /usr/local/lib/python3.10/dist-packages (from spacy<2.4.0,>=2.3.0->en_core_web_sm==2.3.1) (2.32.3)\n",
            "Requirement already satisfied: charset-normalizer<4,>=2 in /usr/local/lib/python3.10/dist-packages (from requests<3.0.0,>=2.13.0->spacy<2.4.0,>=2.3.0->en_core_web_sm==2.3.1) (3.4.0)\n",
            "Requirement already satisfied: idna<4,>=2.5 in /usr/local/lib/python3.10/dist-packages (from requests<3.0.0,>=2.13.0->spacy<2.4.0,>=2.3.0->en_core_web_sm==2.3.1) (3.10)\n",
            "Requirement already satisfied: urllib3<3,>=1.21.1 in /usr/local/lib/python3.10/dist-packages (from requests<3.0.0,>=2.13.0->spacy<2.4.0,>=2.3.0->en_core_web_sm==2.3.1) (2.2.3)\n",
            "Requirement already satisfied: certifi>=2017.4.17 in /usr/local/lib/python3.10/dist-packages (from requests<3.0.0,>=2.13.0->spacy<2.4.0,>=2.3.0->en_core_web_sm==2.3.1) (2024.8.30)\n",
            "\u001b[38;5;2m✔ Download and installation successful\u001b[0m\n",
            "You can now load the model via spacy.load('en_core_web_sm')\n"
          ]
        }
      ]
    },
    {
      "cell_type": "code",
      "source": [
        "import spacy\n",
        "import neuralcoref\n",
        "\n",
        "nlp = spacy.load('en_core_web_sm')\n",
        "neuralcoref.add_to_pipe(nlp)\n",
        "doc1 = nlp('My sister has a dog. She loves him.')\n",
        "print(doc1._.coref_clusters)\n",
        "\n",
        "doc2 = nlp('Angela lives in Boston. She is quite happy in that city.')\n",
        "for ent in doc2.ents:\n",
        "    print(ent._.coref_cluster)"
      ],
      "metadata": {
        "colab": {
          "base_uri": "https://localhost:8080/",
          "height": 251
        },
        "id": "yKOYV_spC6PK",
        "outputId": "47a2d407-a6e0-4505-e70d-5b4b9ecb534c"
      },
      "execution_count": 22,
      "outputs": [
        {
          "output_type": "error",
          "ename": "AttributeError",
          "evalue": "module 'neuralcoref' has no attribute 'add_to_pipe'",
          "traceback": [
            "\u001b[0;31m---------------------------------------------------------------------------\u001b[0m",
            "\u001b[0;31mAttributeError\u001b[0m                            Traceback (most recent call last)",
            "\u001b[0;32m<ipython-input-22-3ca6f86c1858>\u001b[0m in \u001b[0;36m<cell line: 5>\u001b[0;34m()\u001b[0m\n\u001b[1;32m      3\u001b[0m \u001b[0;34m\u001b[0m\u001b[0m\n\u001b[1;32m      4\u001b[0m \u001b[0mnlp\u001b[0m \u001b[0;34m=\u001b[0m \u001b[0mspacy\u001b[0m\u001b[0;34m.\u001b[0m\u001b[0mload\u001b[0m\u001b[0;34m(\u001b[0m\u001b[0;34m'en_core_web_sm'\u001b[0m\u001b[0;34m)\u001b[0m\u001b[0;34m\u001b[0m\u001b[0;34m\u001b[0m\u001b[0m\n\u001b[0;32m----> 5\u001b[0;31m \u001b[0mneuralcoref\u001b[0m\u001b[0;34m.\u001b[0m\u001b[0madd_to_pipe\u001b[0m\u001b[0;34m(\u001b[0m\u001b[0mnlp\u001b[0m\u001b[0;34m)\u001b[0m\u001b[0;34m\u001b[0m\u001b[0;34m\u001b[0m\u001b[0m\n\u001b[0m\u001b[1;32m      6\u001b[0m \u001b[0mdoc1\u001b[0m \u001b[0;34m=\u001b[0m \u001b[0mnlp\u001b[0m\u001b[0;34m(\u001b[0m\u001b[0;34m'My sister has a dog. She loves him.'\u001b[0m\u001b[0;34m)\u001b[0m\u001b[0;34m\u001b[0m\u001b[0;34m\u001b[0m\u001b[0m\n\u001b[1;32m      7\u001b[0m \u001b[0mprint\u001b[0m\u001b[0;34m(\u001b[0m\u001b[0mdoc1\u001b[0m\u001b[0;34m.\u001b[0m\u001b[0m_\u001b[0m\u001b[0;34m.\u001b[0m\u001b[0mcoref_clusters\u001b[0m\u001b[0;34m)\u001b[0m\u001b[0;34m\u001b[0m\u001b[0;34m\u001b[0m\u001b[0m\n",
            "\u001b[0;31mAttributeError\u001b[0m: module 'neuralcoref' has no attribute 'add_to_pipe'"
          ]
        }
      ]
    }
  ]
}