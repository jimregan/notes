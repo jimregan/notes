{
  "nbformat": 4,
  "nbformat_minor": 0,
  "metadata": {
    "colab": {
      "provenance": []
    },
    "kernelspec": {
      "name": "python3",
      "display_name": "Python 3"
    },
    "language_info": {
      "name": "python"
    }
  },
  "cells": [
    {
      "cell_type": "code",
      "execution_count": null,
      "metadata": {
        "id": "GS2XLmM548In"
      },
      "outputs": [],
      "source": [
        "!pip install spacy\n",
        "!python -m spacy download en_core_web_sm"
      ]
    },
    {
      "cell_type": "code",
      "source": [
        "nlp = spacy.load('en_core_web_sm')\n",
        "\n",
        "sentence = \"Mm-hmm.\"\n",
        "\n",
        "doc = nlp(sentence)\n",
        "\n"
      ],
      "metadata": {
        "id": "UXkv8sKo5pTK"
      },
      "execution_count": 21,
      "outputs": []
    },
    {
      "cell_type": "code",
      "source": [
        "doc.to_json()"
      ],
      "metadata": {
        "colab": {
          "base_uri": "https://localhost:8080/"
        },
        "id": "NKyNXz_M-xvT",
        "outputId": "ade52dc8-7f70-4996-f652-e6f74065b454"
      },
      "execution_count": 22,
      "outputs": [
        {
          "output_type": "execute_result",
          "data": {
            "text/plain": [
              "{'text': 'Mm-hmm.',\n",
              " 'ents': [],\n",
              " 'sents': [{'start': 0, 'end': 7}],\n",
              " 'tokens': [{'id': 0,\n",
              "   'start': 0,\n",
              "   'end': 2,\n",
              "   'tag': 'NNP',\n",
              "   'pos': 'PROPN',\n",
              "   'morph': 'Number=Sing',\n",
              "   'lemma': 'Mm',\n",
              "   'dep': 'compound',\n",
              "   'head': 2},\n",
              "  {'id': 1,\n",
              "   'start': 2,\n",
              "   'end': 3,\n",
              "   'tag': 'HYPH',\n",
              "   'pos': 'PUNCT',\n",
              "   'morph': 'PunctType=Dash',\n",
              "   'lemma': '-',\n",
              "   'dep': 'punct',\n",
              "   'head': 2},\n",
              "  {'id': 2,\n",
              "   'start': 3,\n",
              "   'end': 6,\n",
              "   'tag': 'NN',\n",
              "   'pos': 'NOUN',\n",
              "   'morph': 'Number=Sing',\n",
              "   'lemma': 'hmm',\n",
              "   'dep': 'ROOT',\n",
              "   'head': 2},\n",
              "  {'id': 3,\n",
              "   'start': 6,\n",
              "   'end': 7,\n",
              "   'tag': '.',\n",
              "   'pos': 'PUNCT',\n",
              "   'morph': 'PunctType=Peri',\n",
              "   'lemma': '.',\n",
              "   'dep': 'punct',\n",
              "   'head': 2}]}"
            ]
          },
          "metadata": {},
          "execution_count": 22
        }
      ]
    },
    {
      "cell_type": "code",
      "source": [],
      "metadata": {
        "id": "XoTrmwyV_XLS"
      },
      "execution_count": null,
      "outputs": []
    }
  ]
}