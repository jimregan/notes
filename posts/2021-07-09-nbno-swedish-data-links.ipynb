{
 "cells": [
  {
   "cell_type": "markdown",
   "metadata": {},
   "source": [
    "# Swedish data from nb.no\n",
    "\n",
    "> \"Data links, incomplete\"\n",
    "\n",
    "- toc: false\n",
    "- branch: master\n",
    "- badges: false\n",
    "- comments: true\n",
    "- hidden: true\n",
    "- categories: [kaggle, swedish, incomplete]\n",
    "\n"
   ]
  },
  {
   "cell_type": "markdown",
   "metadata": {},
   "source": [
    "Original on [Kaggle](https://www.kaggle.com/jimregan/notebooka49317b570) (private)"
   ]
  },
  {
   "cell_type": "code",
   "execution_count": null,
   "metadata": {
    "_cell_guid": "b1076dfc-b9ad-4769-8c92-a6c4dae69d19",
    "_uuid": "8f2839f25d086af736a60e9eeb907d3b93b6e0e5",
    "execution": {
     "iopub.execute_input": "2021-07-09T18:20:58.001517Z",
     "iopub.status.busy": "2021-07-09T18:20:58.000739Z",
     "iopub.status.idle": "2021-07-09T18:21:00.844578Z",
     "shell.execute_reply": "2021-07-09T18:21:00.843475Z",
     "shell.execute_reply.started": "2021-07-09T18:20:58.001394Z"
    }
   },
   "outputs": [],
   "source": [
    "!wget https://www.nb.no/sbfil/talegjenkjenning/22kHz/sv.22khz.txt.tar.gz"
   ]
  },
  {
   "cell_type": "code",
   "execution_count": null,
   "metadata": {
    "execution": {
     "iopub.execute_input": "2021-07-09T18:21:13.761421Z",
     "iopub.status.busy": "2021-07-09T18:21:13.760939Z",
     "iopub.status.idle": "2021-07-09T18:21:14.533326Z",
     "shell.execute_reply": "2021-07-09T18:21:14.531647Z",
     "shell.execute_reply.started": "2021-07-09T18:21:13.761376Z"
    }
   },
   "outputs": [],
   "source": [
    "!tar zxvf sv.22khz.txt.tar.gz"
   ]
  },
  {
   "cell_type": "code",
   "execution_count": null,
   "metadata": {
    "execution": {
     "iopub.execute_input": "2021-07-09T19:00:49.35045Z",
     "iopub.status.busy": "2021-07-09T19:00:49.349917Z",
     "iopub.status.idle": "2021-07-09T19:00:50.108716Z",
     "shell.execute_reply": "2021-07-09T19:00:50.107274Z",
     "shell.execute_reply.started": "2021-07-09T19:00:49.350391Z"
    }
   },
   "outputs": [],
   "source": [
    "!cat ./txt/dsm_txt/sw_mod_010.txt"
   ]
  },
  {
   "cell_type": "code",
   "execution_count": null,
   "metadata": {
    "execution": {
     "iopub.execute_input": "2021-07-09T19:03:01.958241Z",
     "iopub.status.busy": "2021-07-09T19:03:01.957788Z",
     "iopub.status.idle": "2021-07-09T19:04:33.798593Z",
     "shell.execute_reply": "2021-07-09T19:04:33.79734Z",
     "shell.execute_reply.started": "2021-07-09T19:03:01.958198Z"
    }
   },
   "outputs": [],
   "source": [
    "!wget https://www.nb.no/sbfil/talegjenkjenning/16kHz_2020/se_2020/lydfiler_16_1.tar.gz"
   ]
  },
  {
   "cell_type": "code",
   "execution_count": null,
   "metadata": {
    "execution": {
     "iopub.execute_input": "2021-07-09T19:04:46.438905Z",
     "iopub.status.busy": "2021-07-09T19:04:46.438423Z",
     "iopub.status.idle": "2021-07-09T19:05:14.078676Z",
     "shell.execute_reply": "2021-07-09T19:05:14.077683Z",
     "shell.execute_reply.started": "2021-07-09T19:04:46.438861Z"
    }
   },
   "outputs": [],
   "source": [
    "!tar zxvf lydfiler_16_1.tar.gz"
   ]
  },
  {
   "cell_type": "code",
   "execution_count": null,
   "metadata": {
    "execution": {
     "iopub.execute_input": "2021-07-09T19:05:49.224123Z",
     "iopub.status.busy": "2021-07-09T19:05:49.22359Z",
     "iopub.status.idle": "2021-07-09T19:05:52.846426Z",
     "shell.execute_reply": "2021-07-09T19:05:52.845303Z",
     "shell.execute_reply.started": "2021-07-09T19:05:49.224078Z"
    }
   },
   "outputs": [],
   "source": [
    "!wget https://www.nb.no/sbfil/talegjenkjenning/16kHz_2020/se_2020/ADB_SWE_0467.tar.gz"
   ]
  },
  {
   "cell_type": "code",
   "execution_count": null,
   "metadata": {
    "execution": {
     "iopub.execute_input": "2021-07-09T19:06:11.137587Z",
     "iopub.status.busy": "2021-07-09T19:06:11.136953Z",
     "iopub.status.idle": "2021-07-09T19:06:13.114195Z",
     "shell.execute_reply": "2021-07-09T19:06:13.112861Z",
     "shell.execute_reply.started": "2021-07-09T19:06:11.137526Z"
    }
   },
   "outputs": [],
   "source": [
    "!tar zxvf ADB_SWE_0467.tar.gz"
   ]
  },
  {
   "cell_type": "code",
   "execution_count": null,
   "metadata": {
    "execution": {
     "iopub.execute_input": "2021-07-09T19:51:34.47145Z",
     "iopub.status.busy": "2021-07-09T19:51:34.471101Z",
     "iopub.status.idle": "2021-07-09T19:52:43.609714Z",
     "shell.execute_reply": "2021-07-09T19:52:43.608549Z",
     "shell.execute_reply.started": "2021-07-09T19:51:34.471357Z"
    }
   },
   "outputs": [],
   "source": [
    "!wget http://www.nb.no/sbfil/talegjenkjenning/16kHz/sve.16khz.0467-1.tar.gz"
   ]
  },
  {
   "cell_type": "code",
   "execution_count": null,
   "metadata": {
    "execution": {
     "iopub.execute_input": "2021-07-09T19:52:53.529872Z",
     "iopub.status.busy": "2021-07-09T19:52:53.529604Z",
     "iopub.status.idle": "2021-07-09T19:53:36.140135Z",
     "shell.execute_reply": "2021-07-09T19:53:36.139241Z",
     "shell.execute_reply.started": "2021-07-09T19:52:53.529849Z"
    }
   },
   "outputs": [],
   "source": [
    "!tar zxvf sve.16khz.0467-1.tar.gz"
   ]
  },
  {
   "cell_type": "code",
   "execution_count": null,
   "metadata": {
    "execution": {
     "iopub.execute_input": "2021-07-09T20:04:52.984646Z",
     "iopub.status.busy": "2021-07-09T20:04:52.983889Z",
     "iopub.status.idle": "2021-07-09T20:10:34.388655Z",
     "shell.execute_reply": "2021-07-09T20:10:34.387606Z",
     "shell.execute_reply.started": "2021-07-09T20:04:52.9846Z"
    }
   },
   "outputs": [],
   "source": [
    "!wget https://www.nb.no/sbfil/talesyntese/sve.ibm.talesyntese.tar.gz"
   ]
  },
  {
   "cell_type": "code",
   "execution_count": null,
   "metadata": {
    "execution": {
     "iopub.execute_input": "2021-07-09T20:10:53.286355Z",
     "iopub.status.busy": "2021-07-09T20:10:53.285952Z",
     "iopub.status.idle": "2021-07-09T20:12:31.483873Z",
     "shell.execute_reply": "2021-07-09T20:12:31.483017Z",
     "shell.execute_reply.started": "2021-07-09T20:10:53.28633Z"
    }
   },
   "outputs": [],
   "source": [
    "!tar zxvf sve.ibm.talesyntese.tar.gz"
   ]
  },
  {
   "cell_type": "code",
   "execution_count": null,
   "metadata": {
    "execution": {
     "iopub.execute_input": "2021-07-09T19:06:36.881248Z",
     "iopub.status.busy": "2021-07-09T19:06:36.88087Z",
     "iopub.status.idle": "2021-07-09T19:06:37.638379Z",
     "shell.execute_reply": "2021-07-09T19:06:37.636952Z",
     "shell.execute_reply.started": "2021-07-09T19:06:36.881211Z"
    }
   },
   "outputs": [],
   "source": [
    "!cat se10x016-08071999-1334_r4670016.json\n"
   ]
  },
  {
   "cell_type": "code",
   "execution_count": null,
   "metadata": {
    "execution": {
     "iopub.execute_input": "2021-07-09T19:08:15.457473Z",
     "iopub.status.busy": "2021-07-09T19:08:15.45698Z",
     "iopub.status.idle": "2021-07-09T19:08:16.200369Z",
     "shell.execute_reply": "2021-07-09T19:08:16.198901Z",
     "shell.execute_reply.started": "2021-07-09T19:08:15.457434Z"
    }
   },
   "outputs": [],
   "source": [
    "ls -al se/se16x735-04111999-1559/se16x735-04111999-1559_u0107303-1.wav\n"
   ]
  }
 ],
 "metadata": {
  "kernelspec": {
   "display_name": "Python 3",
   "language": "python",
   "name": "python3"
  },
  "language_info": {
   "codemirror_mode": {
    "name": "ipython",
    "version": 3
   },
   "file_extension": ".py",
   "mimetype": "text/x-python",
   "name": "python",
   "nbconvert_exporter": "python",
   "pygments_lexer": "ipython3",
   "version": "3.8.2"
  }
 },
 "nbformat": 4,
 "nbformat_minor": 4
}
