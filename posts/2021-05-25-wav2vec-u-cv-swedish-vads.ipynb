{
  "nbformat": 4,
  "nbformat_minor": 5,
  "metadata": {
    "kernelspec": {
      "display_name": "Python 3",
      "language": "python",
      "name": "python3"
    },
    "language_info": {
      "codemirror_mode": {
        "name": "ipython",
        "version": 3
      },
      "file_extension": ".py",
      "mimetype": "text/x-python",
      "name": "python",
      "nbconvert_exporter": "python",
      "pygments_lexer": "ipython3",
      "version": "3.7.10"
    },
    "papermill": {
      "default_parameters": {},
      "duration": 10424.127967,
      "end_time": "2021-05-26T01:03:31.043219",
      "environment_variables": {},
      "exception": null,
      "input_path": "__notebook__.ipynb",
      "output_path": "__notebook__.ipynb",
      "parameters": {},
      "start_time": "2021-05-25T22:09:46.915252",
      "version": "2.3.3"
    },
    "colab": {
      "name": "2021-05-25-wav2vec-u-cv-swedish-vads.ipynb",
      "provenance": []
    }
  },
  "cells": [
    {
      "cell_type": "markdown",
      "metadata": {
        "id": "L8rZurAaBkyD"
      },
      "source": [
        "# wav2vec-u Common Voice Swedish - vad\n",
        "\n",
        "> \"vad/silence removal\"\n",
        "\n",
        "- toc: false\n",
        "- branch: master\n",
        "- badges: false\n",
        "- hidden: true\n",
        "- categories: [kaggle, wav2vec-u]\n"
      ],
      "id": "L8rZurAaBkyD"
    },
    {
      "cell_type": "markdown",
      "metadata": {
        "id": "fTtsci4SBkiP"
      },
      "source": [
        "Original [here](https://www.kaggle.com/jimregan/wav2vec-u-cv-swedish-vads)"
      ],
      "id": "fTtsci4SBkiP"
    },
    {
      "cell_type": "code",
      "metadata": {
        "execution": {
          "iopub.execute_input": "2021-05-25T22:09:56.432449Z",
          "iopub.status.busy": "2021-05-25T22:09:56.431380Z",
          "iopub.status.idle": "2021-05-25T22:09:56.437281Z",
          "shell.execute_reply": "2021-05-25T22:09:56.436577Z",
          "shell.execute_reply.started": "2021-05-25T21:59:52.937901Z"
        },
        "papermill": {
          "duration": 0.026349,
          "end_time": "2021-05-25T22:09:56.437491",
          "exception": false,
          "start_time": "2021-05-25T22:09:56.411142",
          "status": "completed"
        },
        "tags": [],
        "id": "previous-render",
        "outputId": "d62fa7e1-a830-44ee-a889-02d322339c58"
      },
      "source": [
        "%cd /tmp"
      ],
      "id": "previous-render",
      "execution_count": null,
      "outputs": [
        {
          "output_type": "stream",
          "text": [
            "/tmp\n"
          ],
          "name": "stdout"
        }
      ]
    },
    {
      "cell_type": "code",
      "metadata": {
        "_cell_guid": "b1076dfc-b9ad-4769-8c92-a6c4dae69d19",
        "_uuid": "8f2839f25d086af736a60e9eeb907d3b93b6e0e5",
        "execution": {
          "iopub.execute_input": "2021-05-25T22:09:56.460369Z",
          "iopub.status.busy": "2021-05-25T22:09:56.459668Z",
          "iopub.status.idle": "2021-05-25T22:09:59.180912Z",
          "shell.execute_reply": "2021-05-25T22:09:59.180327Z",
          "shell.execute_reply.started": "2021-05-25T21:59:52.944817Z"
        },
        "papermill": {
          "duration": 2.735168,
          "end_time": "2021-05-25T22:09:59.181084",
          "exception": false,
          "start_time": "2021-05-25T22:09:56.445916",
          "status": "completed"
        },
        "tags": [],
        "id": "complicated-sense"
      },
      "source": [
        "!git clone https://github.com/pytorch/fairseq/"
      ],
      "id": "complicated-sense",
      "execution_count": null,
      "outputs": []
    },
    {
      "cell_type": "code",
      "metadata": {
        "execution": {
          "iopub.execute_input": "2021-05-25T22:09:59.218518Z",
          "iopub.status.busy": "2021-05-25T22:09:59.217579Z",
          "iopub.status.idle": "2021-05-25T22:09:59.224323Z",
          "shell.execute_reply": "2021-05-25T22:09:59.222981Z",
          "shell.execute_reply.started": "2021-05-25T21:59:53.235485Z"
        },
        "papermill": {
          "duration": 0.02747,
          "end_time": "2021-05-25T22:09:59.224679",
          "exception": false,
          "start_time": "2021-05-25T22:09:59.197209",
          "status": "completed"
        },
        "tags": [],
        "id": "essential-depression",
        "outputId": "e1448b2f-508e-4191-8c04-c9d4d3f672c8"
      },
      "source": [
        "%cd fairseq/examples/wav2vec/unsupervised"
      ],
      "id": "essential-depression",
      "execution_count": null,
      "outputs": [
        {
          "output_type": "stream",
          "text": [
            "/tmp/fairseq/examples/wav2vec/unsupervised\n"
          ],
          "name": "stdout"
        }
      ]
    },
    {
      "cell_type": "code",
      "metadata": {
        "execution": {
          "iopub.execute_input": "2021-05-25T22:09:59.267204Z",
          "iopub.status.busy": "2021-05-25T22:09:59.266166Z",
          "iopub.status.idle": "2021-05-25T22:10:00.267340Z",
          "shell.execute_reply": "2021-05-25T22:10:00.266626Z",
          "shell.execute_reply.started": "2021-05-25T21:59:54.130439Z"
        },
        "papermill": {
          "duration": 1.026281,
          "end_time": "2021-05-25T22:10:00.267496",
          "exception": false,
          "start_time": "2021-05-25T22:09:59.241215",
          "status": "completed"
        },
        "tags": [],
        "id": "monthly-madison"
      },
      "source": [
        "!git clone https://github.com/zhenghuatan/rVADfast"
      ],
      "id": "monthly-madison",
      "execution_count": null,
      "outputs": []
    },
    {
      "cell_type": "code",
      "metadata": {
        "execution": {
          "iopub.execute_input": "2021-05-25T22:10:00.309543Z",
          "iopub.status.busy": "2021-05-25T22:10:00.305365Z",
          "iopub.status.idle": "2021-05-25T22:10:01.784357Z",
          "shell.execute_reply": "2021-05-25T22:10:01.784951Z",
          "shell.execute_reply.started": "2021-05-25T21:59:56.371828Z"
        },
        "papermill": {
          "duration": 1.501815,
          "end_time": "2021-05-25T22:10:01.785179",
          "exception": false,
          "start_time": "2021-05-25T22:10:00.283364",
          "status": "completed"
        },
        "tags": [],
        "id": "aware-dryer"
      },
      "source": [
        "!cat scripts/vads.py|sed -e 's!/path/to/rVADfast_py_2.0!/tmp/fairseq/examples/wav2vec/unsupervised/rVADfast!' > tmp\n",
        "!mv tmp scripts/vads.py"
      ],
      "id": "aware-dryer",
      "execution_count": null,
      "outputs": []
    },
    {
      "cell_type": "code",
      "metadata": {
        "execution": {
          "iopub.execute_input": "2021-05-25T22:10:01.824535Z",
          "iopub.status.busy": "2021-05-25T22:10:01.823465Z",
          "iopub.status.idle": "2021-05-26T01:02:57.147342Z",
          "shell.execute_reply": "2021-05-26T01:02:57.147906Z"
        },
        "papermill": {
          "duration": 10375.3466,
          "end_time": "2021-05-26T01:02:57.148118",
          "exception": false,
          "start_time": "2021-05-25T22:10:01.801518",
          "status": "completed"
        },
        "tags": [],
        "id": "aging-bibliography",
        "outputId": "4b8f37c5-d20e-4951-909c-b7294ac796f1"
      },
      "source": [
        "!for i in train valid test;do cat /kaggle/input/fork-of-wav2vec-u-cv-swedish-tsv/$i.tsv|python scripts/vads.py > /kaggle/working/$i.vads;done"
      ],
      "id": "aging-bibliography",
      "execution_count": null,
      "outputs": [
        {
          "output_type": "stream",
          "text": [
            "100%|█████████████████████████████████████| 2331/2331 [1:01:46<00:00,  1.59s/it]\r\n",
            "100%|███████████████████████████████████████| 2019/2019 [53:39<00:00,  1.59s/it]\r\n",
            "100%|███████████████████████████████████████| 2027/2027 [57:26<00:00,  1.70s/it]\r\n"
          ],
          "name": "stdout"
        }
      ]
    },
    {
      "cell_type": "code",
      "metadata": {
        "execution": {
          "iopub.execute_input": "2021-05-26T01:03:01.143282Z",
          "iopub.status.busy": "2021-05-26T01:03:01.142555Z",
          "iopub.status.idle": "2021-05-26T01:03:04.026541Z",
          "shell.execute_reply": "2021-05-26T01:03:04.027078Z"
        },
        "papermill": {
          "duration": 4.906717,
          "end_time": "2021-05-26T01:03:04.027282",
          "exception": false,
          "start_time": "2021-05-26T01:02:59.120565",
          "status": "completed"
        },
        "tags": [],
        "id": "valuable-newman"
      },
      "source": [
        "!mkdir /kaggle/working/wav\n",
        "!mkdir /kaggle/working/wav/train\n",
        "!mkdir /kaggle/working/wav/test\n",
        "!mkdir /kaggle/working/wav/valid"
      ],
      "id": "valuable-newman",
      "execution_count": null,
      "outputs": []
    },
    {
      "cell_type": "code",
      "metadata": {
        "execution": {
          "iopub.execute_input": "2021-05-26T01:03:08.009581Z",
          "iopub.status.busy": "2021-05-26T01:03:08.008608Z",
          "iopub.status.idle": "2021-05-26T01:03:27.185798Z",
          "shell.execute_reply": "2021-05-26T01:03:27.186352Z"
        },
        "papermill": {
          "duration": 21.158973,
          "end_time": "2021-05-26T01:03:27.186538",
          "exception": false,
          "start_time": "2021-05-26T01:03:06.027565",
          "status": "completed"
        },
        "tags": [],
        "id": "postal-fleet"
      },
      "source": [
        "!for i in train test valid; do python scripts/remove_silence.py --tsv /kaggle/input/fork-of-wav2vec-u-cv-swedish-tsv/$i.tsv --vads /kaggle/working/$i.vads --out /kaggle/working/wav/$i;done\n"
      ],
      "id": "postal-fleet",
      "execution_count": null,
      "outputs": []
    }
  ]
}
