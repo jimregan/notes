{
 "cells": [
  {
   "cell_type": "markdown",
   "id": "V1MpqggPRioI",
   "metadata": {
    "id": "V1MpqggPRioI"
   },
   "source": [
    "# Download Swedish Literature Bank\n",
    "\n",
    "> \"Download Swedish Literature Bank for use on Kaggle\"\n",
    "\n",
    "- toc: false\n",
    "- branch: master\n",
    "- hidden: true\n",
    "- categories: [kaggle, swedish]"
   ]
  },
  {
   "cell_type": "markdown",
   "id": "5ec03843-4d07-46bf-af5a-fde16f3f3436",
   "metadata": {
    "id": "9F5FvG3lRuvn"
   },
   "source": [
    "Original on [Kaggle](https://www.kaggle.com/jimregan/download-swedish-literature-bank)"
   ]
  },
  {
   "cell_type": "code",
   "execution_count": null,
   "id": "extra-finding",
   "metadata": {
    "_cell_guid": "b1076dfc-b9ad-4769-8c92-a6c4dae69d19",
    "_uuid": "8f2839f25d086af736a60e9eeb907d3b93b6e0e5",
    "execution": {
     "iopub.execute_input": "2021-06-18T09:02:37.484313Z",
     "iopub.status.busy": "2021-06-18T09:02:37.483397Z",
     "iopub.status.idle": "2021-06-18T09:05:44.997361Z",
     "shell.execute_reply": "2021-06-18T09:05:44.997797Z"
    },
    "id": "extra-finding",
    "papermill": {
     "duration": 187.520651,
     "end_time": "2021-06-18T09:05:44.998099",
     "exception": false,
     "start_time": "2021-06-18T09:02:37.477448",
     "status": "completed"
    },
    "tags": []
   },
   "outputs": [],
   "source": [
    "!wget http://spraakbanken.gu.se/lb/resurser/meningsmangder/lb.xml.bz2"
   ]
  },
  {
   "cell_type": "code",
   "execution_count": null,
   "id": "deluxe-polymer",
   "metadata": {
    "execution": {
     "iopub.execute_input": "2021-06-18T09:05:45.383272Z",
     "iopub.status.busy": "2021-06-18T09:05:45.382746Z",
     "iopub.status.idle": "2021-06-18T09:06:19.931493Z",
     "shell.execute_reply": "2021-06-18T09:06:19.930866Z"
    },
    "id": "deluxe-polymer",
    "papermill": {
     "duration": 34.741116,
     "end_time": "2021-06-18T09:06:19.931643",
     "exception": false,
     "start_time": "2021-06-18T09:05:45.190527",
     "status": "completed"
    },
    "tags": []
   },
   "outputs": [],
   "source": [
    "!wget https://svn.spraakdata.gu.se/sb-arkiv/pub/frekvens/stats_LB.txt\n"
   ]
  }
 ],
 "metadata": {
  "colab": {
   "name": "2021-06-18-download-swedish-literature-bank.ipynb",
   "provenance": []
  },
  "kernelspec": {
   "display_name": "Python 3 (ipykernel)",
   "language": "python",
   "name": "python3"
  },
  "language_info": {
   "codemirror_mode": {
    "name": "ipython",
    "version": 3
   },
   "file_extension": ".py",
   "mimetype": "text/x-python",
   "name": "python",
   "nbconvert_exporter": "python",
   "pygments_lexer": "ipython3",
   "version": "3.8.12"
  },
  "papermill": {
   "default_parameters": {},
   "duration": 228.539974,
   "end_time": "2021-06-18T09:06:20.774398",
   "environment_variables": {},
   "exception": null,
   "input_path": "__notebook__.ipynb",
   "output_path": "__notebook__.ipynb",
   "parameters": {},
   "start_time": "2021-06-18T09:02:32.234424",
   "version": "2.3.2"
  }
 },
 "nbformat": 4,
 "nbformat_minor": 5
}
