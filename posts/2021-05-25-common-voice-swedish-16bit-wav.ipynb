{
  "nbformat": 4,
  "nbformat_minor": 5,
  "metadata": {
    "kernelspec": {
      "display_name": "Python 3",
      "language": "python",
      "name": "python3"
    },
    "language_info": {
      "codemirror_mode": {
        "name": "ipython",
        "version": 3
      },
      "file_extension": ".py",
      "mimetype": "text/x-python",
      "name": "python",
      "nbconvert_exporter": "python",
      "pygments_lexer": "ipython3",
      "version": "3.7.10"
    },
    "papermill": {
      "default_parameters": {},
      "duration": 415.17271,
      "end_time": "2021-05-25T11:12:20.696217",
      "environment_variables": {},
      "exception": null,
      "input_path": "__notebook__.ipynb",
      "output_path": "__notebook__.ipynb",
      "parameters": {},
      "start_time": "2021-05-25T11:05:25.523507",
      "version": "2.3.3"
    },
    "colab": {
      "name": "2021-05-25-common-voice-swedish-16bit-wav.ipynb",
      "provenance": []
    }
  },
  "cells": [
    {
      "cell_type": "markdown",
      "metadata": {
        "id": "maZbfhUJ3Szb"
      },
      "source": [
        "# Convert Common Voice Swedish to 16bit wav\n",
        "\n",
        "> \"For use with wav2vec-u\"\n",
        "\n",
        "- toc: false\n",
        "- branch: master\n",
        "- badges: false\n",
        "- hidden: true\n",
        "- categories: [kaggle, wav2vec-u]\n"
      ],
      "id": "maZbfhUJ3Szb"
    },
    {
      "cell_type": "markdown",
      "metadata": {
        "id": "ty83TI0B3SeX"
      },
      "source": [
        "Original [here](https://www.kaggle.com/jimregan/common-voice-swedish-16bit-wav)"
      ],
      "id": "ty83TI0B3SeX"
    },
    {
      "cell_type": "code",
      "metadata": {
        "execution": {
          "iopub.execute_input": "2021-05-25T11:05:33.159903Z",
          "iopub.status.busy": "2021-05-25T11:05:33.159252Z",
          "iopub.status.idle": "2021-05-25T11:12:15.999176Z",
          "shell.execute_reply": "2021-05-25T11:12:15.998501Z"
        },
        "papermill": {
          "duration": 402.854191,
          "end_time": "2021-05-25T11:12:15.999355",
          "exception": false,
          "start_time": "2021-05-25T11:05:33.145164",
          "status": "completed"
        },
        "tags": [],
        "id": "broad-imperial"
      },
      "source": [
        "!for i in ../input/download-common-voice-swedish/cv-corpus-6.1-2020-12-11/sv-SE/clips/*.mp3;do o=$(basename $i '.mp3'); ffmpeg -i \"$i\" -acodec pcm_s16le -ac 1 -ar 16000 $o.wav;done"
      ],
      "id": "broad-imperial",
      "execution_count": null,
      "outputs": []
    }
  ]
}
