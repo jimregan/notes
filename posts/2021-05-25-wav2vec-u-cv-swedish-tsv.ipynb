{
  "nbformat": 4,
  "nbformat_minor": 5,
  "metadata": {
    "kernelspec": {
      "display_name": "Python 3",
      "language": "python",
      "name": "python3"
    },
    "language_info": {
      "codemirror_mode": {
        "name": "ipython",
        "version": 3
      },
      "file_extension": ".py",
      "mimetype": "text/x-python",
      "name": "python",
      "nbconvert_exporter": "python",
      "pygments_lexer": "ipython3",
      "version": "3.7.10"
    },
    "papermill": {
      "default_parameters": {},
      "duration": 34.760746,
      "end_time": "2021-05-25T21:44:58.783253",
      "environment_variables": {},
      "exception": null,
      "input_path": "__notebook__.ipynb",
      "output_path": "__notebook__.ipynb",
      "parameters": {},
      "start_time": "2021-05-25T21:44:24.022507",
      "version": "2.3.3"
    },
    "colab": {
      "name": "2021-05-25-wav2vec-u-cv-swedish-tsv.ipynb",
      "provenance": []
    }
  },
  "cells": [
    {
      "cell_type": "markdown",
      "metadata": {
        "id": "02ZpTFN-7eW3"
      },
      "source": [
        "# wav2vec-u Common Voice Swedish - prepare tsv\n",
        "\n",
        "> \"For use with wav2vec-u\"\n",
        "\n",
        "- toc: false\n",
        "- branch: master\n",
        "- badges: false\n",
        "- hidden: true\n",
        "- categories: [kaggle, wav2vec-u]\n"
      ],
      "id": "02ZpTFN-7eW3"
    },
    {
      "cell_type": "markdown",
      "metadata": {
        "id": "JY3a6fwR7eL8"
      },
      "source": [
        "Original [here](https://www.kaggle.com/jimregan/fork-of-wav2vec-u-cv-swedish-tsv)"
      ],
      "id": "JY3a6fwR7eL8"
    },
    {
      "cell_type": "code",
      "metadata": {
        "execution": {
          "iopub.execute_input": "2021-05-25T21:44:31.789326Z",
          "iopub.status.busy": "2021-05-25T21:44:31.788419Z",
          "iopub.status.idle": "2021-05-25T21:44:57.416350Z",
          "shell.execute_reply": "2021-05-25T21:44:57.415470Z",
          "shell.execute_reply.started": "2021-05-25T11:50:13.947646Z"
        },
        "papermill": {
          "duration": 25.643335,
          "end_time": "2021-05-25T21:44:57.416512",
          "exception": false,
          "start_time": "2021-05-25T21:44:31.773177",
          "status": "completed"
        },
        "tags": [],
        "id": "oriented-grant"
      },
      "source": [
        "import soundfile\n",
        "input = {\n",
        "    'train': '/kaggle/input/download-common-voice-swedish/cv-corpus-6.1-2020-12-11/sv-SE/train.tsv',\n",
        "    'test': '/kaggle/input/download-common-voice-swedish/cv-corpus-6.1-2020-12-11/sv-SE/test.tsv',\n",
        "    'valid': '/kaggle/input/download-common-voice-swedish/cv-corpus-6.1-2020-12-11/sv-SE/dev.tsv'\n",
        "}\n",
        "for split in input.keys():\n",
        "    with open(input[split], 'r') as tsv:\n",
        "        with open(f'/kaggle/working/{split}.tsv', 'w') as out:\n",
        "            print('/kaggle/input/common-voice-swedish-16bit-wav/', file=out)\n",
        "            for line in tsv.readlines():\n",
        "                data = line.split('\\t')\n",
        "                if data[1] == 'path':\n",
        "                    continue\n",
        "                file = data[1]\n",
        "                file = file.replace('.mp3', '.wav')\n",
        "                path = f'/kaggle/input/common-voice-swedish-16bit-wav/{file}'\n",
        "                frames = soundfile.info(path).frames\n",
        "                print(\"{}\\t{}\".format(file, frames), file=out)"
      ],
      "id": "oriented-grant",
      "execution_count": null,
      "outputs": []
    }
  ]
}
