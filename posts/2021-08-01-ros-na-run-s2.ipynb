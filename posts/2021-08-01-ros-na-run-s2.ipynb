{
 "cells": [
  {
   "cell_type": "markdown",
   "id": "28a52fc0",
   "metadata": {},
   "source": [
    "# Download Ros na Rún season 2\n",
    "\n",
    "> \"Dataset\"\n",
    "\n",
    "- toc: false\n",
    "- branch: master\n",
    "- badges: false\n",
    "- comments: true\n",
    "- hidden: true\n",
    "- categories: [kaggle, irish, rosnarun, dataset, unlabelled]"
   ]
  },
  {
   "cell_type": "markdown",
   "id": "5abff8df",
   "metadata": {},
   "source": [
    "Original on [Kaggle](https://www.kaggle.com/jimregan/ros-na-run-s2)"
   ]
  },
  {
   "cell_type": "code",
   "execution_count": null,
   "id": "6d650346",
   "metadata": {
    "_cell_guid": "b1076dfc-b9ad-4769-8c92-a6c4dae69d19",
    "_uuid": "8f2839f25d086af736a60e9eeb907d3b93b6e0e5",
    "execution": {
     "iopub.execute_input": "2021-08-01T21:28:37.664148Z",
     "iopub.status.busy": "2021-08-01T21:28:37.662441Z",
     "iopub.status.idle": "2021-08-01T21:28:51.217117Z",
     "shell.execute_reply": "2021-08-01T21:28:51.216275Z",
     "shell.execute_reply.started": "2021-08-01T21:15:46.900846Z"
    },
    "papermill": {
     "duration": 13.566819,
     "end_time": "2021-08-01T21:28:51.217282",
     "exception": false,
     "start_time": "2021-08-01T21:28:37.650463",
     "status": "completed"
    },
    "tags": []
   },
   "outputs": [],
   "source": [
    "%%capture\n",
    "!pip install youtube-dl"
   ]
  },
  {
   "cell_type": "code",
   "execution_count": null,
   "id": "96176446",
   "metadata": {
    "execution": {
     "iopub.execute_input": "2021-08-01T21:28:51.235260Z",
     "iopub.status.busy": "2021-08-01T21:28:51.230603Z",
     "iopub.status.idle": "2021-08-01T22:07:49.083114Z",
     "shell.execute_reply": "2021-08-01T22:07:49.082498Z",
     "shell.execute_reply.started": "2021-08-01T21:26:38.098520Z"
    },
    "papermill": {
     "duration": 2337.861561,
     "end_time": "2021-08-01T22:07:49.083260",
     "exception": false,
     "start_time": "2021-08-01T21:28:51.221699",
     "status": "completed"
    },
    "tags": []
   },
   "outputs": [],
   "source": [
    "!youtube-dl -f bestaudio PLtVSQEQG0xVHeyao6vZyaY3kXGfbFFiAk"
   ]
  }
 ],
 "metadata": {
  "kernelspec": {
   "display_name": "Python 3",
   "language": "python",
   "name": "python3"
  },
  "language_info": {
   "codemirror_mode": {
    "name": "ipython",
    "version": 3
   },
   "file_extension": ".py",
   "mimetype": "text/x-python",
   "name": "python",
   "nbconvert_exporter": "python",
   "pygments_lexer": "ipython3",
   "version": "3.8.2"
  },
  "papermill": {
   "default_parameters": {},
   "duration": 2364.862898,
   "end_time": "2021-08-01T22:07:54.076466",
   "environment_variables": {},
   "exception": null,
   "input_path": "__notebook__.ipynb",
   "output_path": "__notebook__.ipynb",
   "parameters": {},
   "start_time": "2021-08-01T21:28:29.213568",
   "version": "2.3.3"
  }
 },
 "nbformat": 4,
 "nbformat_minor": 5
}
