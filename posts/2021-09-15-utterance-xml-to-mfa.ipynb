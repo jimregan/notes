{
 "cells": [
  {
   "cell_type": "markdown",
   "metadata": {},
   "source": [
    "# \"Utterance XML to json\"\n",
    "\n",
    "> Dataset\n",
    "\n",
    "- toc: false\n",
    "- branch: master\n",
    "- badges: false\n",
    "- comments: true\n",
    "- hidden: true\n",
    "- categories: [irish, abair, mfa]"
   ]
  },
  {
   "cell_type": "code",
   "execution_count": 1,
   "metadata": {
    "id": "jjpTXXpDt-v-"
   },
   "outputs": [],
   "source": [
    "sample = \"\"\"\n",
    "<?xml version=\"1.0\" encoding=\"utf-8\"?>\n",
    "<utterance input_string=\"\">\n",
    "<sentence input_string=\"\">\n",
    "<token input_string=\"SILENCE_TOKEN\">\n",
    "<word input_string=\"SILENCE_TOKEN\" trans_source=\"src\" trans_output_format=\"final\">\n",
    "<syllable >\n",
    "<phoneme symbol=\"sil\" end=\"1.19\"/>\n",
    "</syllable>\n",
    "</word>\n",
    "</token>\n",
    "</sentence>\n",
    "</utterance>\n",
    "\"\"\""
   ]
  },
  {
   "cell_type": "code",
   "execution_count": 2,
   "metadata": {
    "id": "9dlZZHaDuCIw"
   },
   "outputs": [],
   "source": [
    "import xml.etree.ElementTree as ET"
   ]
  },
  {
   "cell_type": "code",
   "execution_count": 3,
   "metadata": {
    "id": "wcB6QUIEuaYM"
   },
   "outputs": [],
   "source": [
    "class Utterance:\n",
    "    def __init__(self, input, sentences):\n",
    "        self.input = input\n",
    "        self.sentences = sentences"
   ]
  },
  {
   "cell_type": "code",
   "execution_count": 4,
   "metadata": {
    "id": "KP-hde8puoqV"
   },
   "outputs": [],
   "source": [
    "class Sentence:\n",
    "    def __init__(self, input, tokens):\n",
    "        self.input = input\n",
    "        self.tokens = tokens"
   ]
  },
  {
   "cell_type": "code",
   "execution_count": 5,
   "metadata": {
    "id": "nGLSIO4MuxDV"
   },
   "outputs": [],
   "source": [
    "class Token:\n",
    "    def __init__(self, input, words):\n",
    "        self.input = input\n",
    "        self.words = words"
   ]
  },
  {
   "cell_type": "code",
   "execution_count": 6,
   "metadata": {
    "id": "LfZdwq3eu2US"
   },
   "outputs": [],
   "source": [
    "class Word:\n",
    "    def __init__(self, input, source, syllables):\n",
    "        self.input = input\n",
    "        self.source = source\n",
    "        self.syllables = syllables\n",
    "        if self.syllables is None:\n",
    "            self.syllables = []\n",
    "\n",
    "    def get_phonemes(self):\n",
    "        return \" \".join([a.get_phonemes() for a in self.syllables])\n",
    "\n",
    "    def get_clean_word(self):\n",
    "        word = self.input\n",
    "        if word[0:1] in \"nt\" and word[1:2] in \"AÁEÉIÍOÓUÚ\":\n",
    "            return word[0:1] + \"-\" + word[1:].lower()\n",
    "        else:\n",
    "            return word.lower()"
   ]
  },
  {
   "cell_type": "code",
   "execution_count": 7,
   "metadata": {
    "id": "s9cELSRmu_Nf"
   },
   "outputs": [],
   "source": [
    "class Syllable:\n",
    "    def __init__(self, stress: int = 0, phonemes = None):\n",
    "        self.stress = stress\n",
    "        self.phonemes = phonemes\n",
    "        if self.phonemes is None:\n",
    "            self.phonemes = []\n",
    "\n",
    "    def get_phonemes(self):\n",
    "        return \" \".join([a.symbol for a in self.phonemes])"
   ]
  },
  {
   "cell_type": "code",
   "execution_count": 8,
   "metadata": {
    "id": "zc3dFZmGvFHW"
   },
   "outputs": [],
   "source": [
    "class Phoneme:\n",
    "    def __init__(self, symbol: str = \"\", end: float = 0.0):\n",
    "        self.symbol = symbol\n",
    "        self.end = end"
   ]
  },
  {
   "cell_type": "code",
   "execution_count": 9,
   "metadata": {
    "id": "AgUr7UDCvVFf"
   },
   "outputs": [],
   "source": [
    "import io\n",
    "sio = io.StringIO(sample.strip())"
   ]
  },
  {
   "cell_type": "code",
   "execution_count": 10,
   "metadata": {
    "id": "O_F_IbXuvYEA"
   },
   "outputs": [],
   "source": [
    "def from_xml(source):\n",
    "    tree = ET.parse(source)\n",
    "    root = tree.getroot()\n",
    "    if 'input_string' in root.attrib:\n",
    "        input = root.attrib['input_string']\n",
    "    else:\n",
    "        input = ''\n",
    "    sentences = []\n",
    "    for sentence in root.findall('./sentence'):\n",
    "        if 'input_string' in sentence.attrib:\n",
    "            input = sentence.attrib['input_string']\n",
    "        else:\n",
    "            input = ''\n",
    "        tokens = []\n",
    "        for token in sentence.findall('./token'):\n",
    "            if 'input_string' in token.attrib:\n",
    "                input = token.attrib['input_string']\n",
    "            else:\n",
    "                input = ''\n",
    "            words = []\n",
    "            for word in token.findall('./word'):\n",
    "                if 'input_string' in word.attrib:\n",
    "                    input = word.attrib['input_string']\n",
    "                else:\n",
    "                    input = \"\"\n",
    "                if 'trans_source' in word.attrib:\n",
    "                    source = word.attrib['trans_source']\n",
    "                else:\n",
    "                    source = \"\"\n",
    "                syllables = []\n",
    "                for syllable in word.findall('./syllable'):\n",
    "                    phonemes = []\n",
    "                    if 'stress' in syllable.attrib:\n",
    "                        if syllable.attrib['stress'] == 'None':\n",
    "                            stress = 0\n",
    "                        else:\n",
    "                            stress = int(syllable.attrib['stress'])\n",
    "                    else:\n",
    "                        stress = 0\n",
    "                    for phoneme in syllable.findall('./phoneme'):\n",
    "                        if 'symbol' in phoneme.attrib:\n",
    "                            symbol = phoneme.attrib['symbol']\n",
    "                        else:\n",
    "                            symbol = ''\n",
    "                        if 'end' in phoneme.attrib:\n",
    "                            end = float(phoneme.attrib['end'])\n",
    "                        else:\n",
    "                            symbol = 0.0\n",
    "                        phonemes.append(Phoneme(symbol, end))\n",
    "                    syllables.append(Syllable(stress, phonemes))\n",
    "                words.append(Word(input, source, syllables))\n",
    "            tokens.append(Token(input, words))\n",
    "        sentences.append(Sentence(input, tokens))\n",
    "    return Utterance(input, sentences)"
   ]
  },
  {
   "cell_type": "code",
   "execution_count": 11,
   "metadata": {
    "id": "efC60Efq7eDY"
   },
   "outputs": [],
   "source": [
    "utt = from_xml(sio)"
   ]
  },
  {
   "cell_type": "code",
   "execution_count": 12,
   "metadata": {
    "colab": {
     "base_uri": "https://localhost:8080/",
     "height": 52
    },
    "id": "tLH-kimU9P7y",
    "outputId": "128cf053-4942-4661-c9c6-b47ba9f252e7"
   },
   "outputs": [
    {
     "data": {
      "text/plain": [
       "'{\"input\": \"SILENCE_TOKEN\", \"sentences\": [{\"input\": \"SILENCE_TOKEN\", \"tokens\": [{\"input\": \"SILENCE_TOKEN\", \"words\": [{\"input\": \"SILENCE_TOKEN\", \"source\": \"src\", \"syllables\": [{\"stress\": 0, \"phonemes\": [{\"symbol\": \"sil\", \"end\": 1.19}]}]}]}]}]}'"
      ]
     },
     "execution_count": 12,
     "metadata": {},
     "output_type": "execute_result"
    }
   ],
   "source": [
    "import json\n",
    "json.dumps(utt, default=lambda o: o.__dict__)"
   ]
  },
  {
   "cell_type": "code",
   "execution_count": 13,
   "metadata": {},
   "outputs": [
    {
     "name": "stdout",
     "output_type": "stream",
     "text": [
      "silence_token sil\n"
     ]
    }
   ],
   "source": [
    "for sent in utt.sentences:\n",
    "    for tok in sent.tokens:\n",
    "        for word in tok.words:\n",
    "            print(f'{word.get_clean_word()} {word.get_phonemes()}')"
   ]
  }
 ],
 "metadata": {
  "colab": {
   "name": "utterance-xml-to-json.ipynb",
   "provenance": []
  },
  "kernelspec": {
   "display_name": "Python 3",
   "language": "python",
   "name": "python3"
  },
  "language_info": {
   "codemirror_mode": {
    "name": "ipython",
    "version": 3
   },
   "file_extension": ".py",
   "mimetype": "text/x-python",
   "name": "python",
   "nbconvert_exporter": "python",
   "pygments_lexer": "ipython3",
   "version": "3.6.9"
  }
 },
 "nbformat": 4,
 "nbformat_minor": 1
}
