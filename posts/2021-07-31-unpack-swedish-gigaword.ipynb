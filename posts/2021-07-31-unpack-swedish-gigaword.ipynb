{
 "cells": [
  {
   "cell_type": "markdown",
   "id": "be6dbad7",
   "metadata": {},
   "source": [
    "# \"Unpack Swedish Gigaword\"\n",
    "\n",
    "> \"Dataset\"\n",
    "\n",
    "- toc: false\n",
    "- branch: master\n",
    "- hidden: true\n",
    "- categories: [kaggle, swedish, incomplete]"
   ]
  },
  {
   "cell_type": "markdown",
   "id": "667209a9",
   "metadata": {},
   "source": [
    "Original on [Kaggle](https://www.kaggle.com/jimregan/unpack-swedish-gigaword)"
   ]
  },
  {
   "cell_type": "code",
   "execution_count": null,
   "id": "c996bfaf",
   "metadata": {
    "_cell_guid": "b1076dfc-b9ad-4769-8c92-a6c4dae69d19",
    "_uuid": "8f2839f25d086af736a60e9eeb907d3b93b6e0e5",
    "execution": {
     "iopub.execute_input": "2021-07-31T19:19:27.624336Z",
     "iopub.status.busy": "2021-07-31T19:19:27.623714Z",
     "iopub.status.idle": "2021-07-31T19:21:53.373422Z",
     "shell.execute_reply": "2021-07-31T19:21:53.372616Z"
    },
    "papermill": {
     "duration": 145.764075,
     "end_time": "2021-07-31T19:21:53.373605",
     "exception": false,
     "start_time": "2021-07-31T19:19:27.609530",
     "status": "completed"
    },
    "tags": []
   },
   "outputs": [],
   "source": [
    "!for i in ../input/download-swedish-gigaword/*.tar;do tar xvf $i;done"
   ]
  }
 ],
 "metadata": {
  "kernelspec": {
   "display_name": "Python 3",
   "language": "python",
   "name": "python3"
  },
  "language_info": {
   "codemirror_mode": {
    "name": "ipython",
    "version": 3
   },
   "file_extension": ".py",
   "mimetype": "text/x-python",
   "name": "python",
   "nbconvert_exporter": "python",
   "pygments_lexer": "ipython3",
   "version": "3.8.2"
  },
  "papermill": {
   "default_parameters": {},
   "duration": 171.805811,
   "end_time": "2021-07-31T19:22:11.730565",
   "environment_variables": {},
   "exception": null,
   "input_path": "__notebook__.ipynb",
   "output_path": "__notebook__.ipynb",
   "parameters": {},
   "start_time": "2021-07-31T19:19:19.924754",
   "version": "2.3.3"
  }
 },
 "nbformat": 4,
 "nbformat_minor": 5
}
