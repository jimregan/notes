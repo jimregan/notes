{
  "nbformat": 4,
  "nbformat_minor": 0,
  "metadata": {
    "colab": {
      "name": "MTM100 sucks at Irish.ipynb",
      "provenance": [],
      "collapsed_sections": []
    },
    "kernelspec": {
      "name": "python3",
      "display_name": "Python 3"
    },
    "language_info": {
      "name": "python"
    },
    "accelerator": "GPU"
  },
  "cells": [
    {
      "cell_type": "markdown",
      "metadata": {
        "id": "k-jIhdTaraCF"
      },
      "source": [
        "# \"M2M100 sucks at Irish\"\n",
        "> \"So, do massively multilingual MT models trained on massively crawled datasets lead to great output? No\"\n",
        "\n",
        "- toc: false\n",
        "- branch: master\n",
        "- comments: true\n",
        "- categories: [m2m100, badmt]"
      ]
    },
    {
      "cell_type": "markdown",
      "metadata": {
        "id": "M8Wyams00Ju8"
      },
      "source": [
        "Huggingface Transformers added the [M2M 100 model](https://about.fb.com/news/2020/10/first-multilingual-machine-translation-model/), I tried it out and tweeted screenshots of the appalling output, so I thought I'd recreate the translations to show they were very real."
      ]
    },
    {
      "cell_type": "code",
      "metadata": {
        "id": "RH4ayEZ009vC"
      },
      "source": [
        "!pip install sentencepiece transformers"
      ],
      "execution_count": null,
      "outputs": []
    },
    {
      "cell_type": "code",
      "metadata": {
        "id": "A2CNBxYZ1I70"
      },
      "source": [
        "from transformers import M2M100ForConditionalGeneration, M2M100Tokenizer\n",
        "\n",
        "model = M2M100ForConditionalGeneration.from_pretrained(\"facebook/m2m100_418M\")\n",
        "tokenizer = M2M100Tokenizer.from_pretrained(\"facebook/m2m100_418M\")"
      ],
      "execution_count": null,
      "outputs": []
    },
    {
      "cell_type": "code",
      "metadata": {
        "id": "No1LeMD41miZ"
      },
      "source": [
        "def translate(text, src_lang=\"pl\", trg_lang=\"ga\"):\n",
        "  tokenizer.src_lang = src_lang\n",
        "  encoded = tokenizer(text, return_tensors=\"pt\")\n",
        "  generated_tokens = model.generate(**encoded, forced_bos_token_id=tokenizer.get_lang_id(trg_lang))\n",
        "  print(tokenizer.batch_decode(generated_tokens, skip_special_tokens=True))"
      ],
      "execution_count": null,
      "outputs": []
    },
    {
      "cell_type": "markdown",
      "metadata": {
        "id": "eKlVSc86szm1"
      },
      "source": [
        "> twitter: https://twitter.com/jimregan/status/1381637685413081089"
      ]
    },
    {
      "cell_type": "markdown",
      "metadata": {
        "id": "R7F4esr7xV7L"
      },
      "source": [
        "“One must love one's wife”"
      ]
    },
    {
      "cell_type": "code",
      "metadata": {
        "colab": {
          "base_uri": "https://localhost:8080/"
        },
        "id": "WOqtG56Yswr2",
        "outputId": "4c98df36-0539-4cfb-f593-20694e5be4e9"
      },
      "source": [
        "translate(\"Trzeba kochać swoją żonę\")"
      ],
      "execution_count": null,
      "outputs": [
        {
          "output_type": "stream",
          "text": [
            "['Brazzers físeán catagóir Inexperienced, Déagóir Inexperienced']\n"
          ],
          "name": "stdout"
        }
      ]
    },
    {
      "cell_type": "markdown",
      "metadata": {
        "id": "Wv2_4NlVtOum"
      },
      "source": [
        "> twitter: https://twitter.com/jimregan/status/1381638666716602372"
      ]
    },
    {
      "cell_type": "markdown",
      "metadata": {
        "id": "7fi0Hp-8xaeQ"
      },
      "source": [
        "“What are you on about?” or “What are you getting at?”"
      ]
    },
    {
      "cell_type": "code",
      "metadata": {
        "colab": {
          "base_uri": "https://localhost:8080/"
        },
        "id": "_9MITiO7tSw8",
        "outputId": "f4e1c671-c935-401d-c5a4-9e64f9632654"
      },
      "source": [
        "translate(\"O co Ci chodzi?\")"
      ],
      "execution_count": null,
      "outputs": [
        {
          "output_type": "stream",
          "text": [
            "['Brazzers físeán catagóir Inexperienced, Déagóir Inexperienced']\n"
          ],
          "name": "stdout"
        }
      ]
    },
    {
      "cell_type": "markdown",
      "metadata": {
        "id": "JioTXEFmtfm1"
      },
      "source": [
        "> twitter: https://twitter.com/jimregan/status/1381638904416243715"
      ]
    },
    {
      "cell_type": "markdown",
      "metadata": {
        "id": "rEblRcH0xh9J"
      },
      "source": [
        "Let's try English:"
      ]
    },
    {
      "cell_type": "code",
      "metadata": {
        "colab": {
          "base_uri": "https://localhost:8080/"
        },
        "id": "RG4EhlqYtgxA",
        "outputId": "8cf2a351-3460-466e-e634-a2d377c56782"
      },
      "source": [
        "translate(\"Hello, how are you?\", src_lang='en')"
      ],
      "execution_count": null,
      "outputs": [
        {
          "output_type": "stream",
          "text": [
            "['Brazzers físeán catagóir Inexperienced, Déagóir Inexperienced, Déagóir Inexperienced']\n"
          ],
          "name": "stdout"
        }
      ]
    },
    {
      "cell_type": "markdown",
      "metadata": {
        "id": "c3iUC567txfj"
      },
      "source": [
        "> twitter: https://twitter.com/jimregan/status/1381639237926334468"
      ]
    },
    {
      "cell_type": "markdown",
      "metadata": {
        "id": "WPp8NOg4xmVv"
      },
      "source": [
        "How poetic. How about some actual poetry? (Pan Tadeusz)"
      ]
    },
    {
      "cell_type": "code",
      "metadata": {
        "colab": {
          "base_uri": "https://localhost:8080/"
        },
        "id": "uN_1Im_0ty16",
        "outputId": "58c80ca4-af49-4020-f9c7-de6ac2fc4e82"
      },
      "source": [
        "translate(\"Litwo, Ojczyzno moja! ty jesteś jak zdrowie; Ile cię trzeba cenić, ten tylko się dowie, Kto cię stracił.\")"
      ],
      "execution_count": null,
      "outputs": [
        {
          "output_type": "stream",
          "text": [
            "['Brazzers, Brazzers, Brazzers, Brazzers, Brazzers, Brazzers, Brazzers, Brazzers, Brazzers, Brazzers, Brazzers, Brazzers, Brazzers, Brazzers, Brazzers, Brazzers, Brazzers, Brazzers, Brazzers, Brazzers, Brazzers, Brazzers, Brazzers, Brazzers, Brazzers, Brazzers, Brazzers, Brazzers, Brazzers, Brazzers, Brazzers, Brazzers, Brazzers, Brazzers, Brazzers, Brazzers, Brazzers, Brazzers, Brazzers, Brazzers, Brazzers, Brazzers, Brazzers, Brazzers, Brazzers, Brazzers, Brazzers, Brazzers']\n"
          ],
          "name": "stdout"
        }
      ]
    },
    {
      "cell_type": "markdown",
      "metadata": {
        "id": "KZmj9jpyuNpd"
      },
      "source": [
        "> twitter: https://twitter.com/jimregan/status/1381641689786413059"
      ]
    },
    {
      "cell_type": "markdown",
      "metadata": {
        "id": "05tueFfQxs7_"
      },
      "source": [
        "“It seems to me that you are not sober”"
      ]
    },
    {
      "cell_type": "code",
      "metadata": {
        "colab": {
          "base_uri": "https://localhost:8080/"
        },
        "id": "4annBI3RuR8t",
        "outputId": "f9afa57e-1770-498a-85eb-dc2a9dc78384"
      },
      "source": [
        "translate(\"Mi się wydaje, że nie jesteś trzeźwy\", trg_lang='en')"
      ],
      "execution_count": null,
      "outputs": [
        {
          "output_type": "stream",
          "text": [
            "['I don’t think you’re trembling.']\n"
          ],
          "name": "stdout"
        }
      ]
    }
  ]
}