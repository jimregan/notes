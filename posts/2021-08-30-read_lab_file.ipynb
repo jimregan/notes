{
  "nbformat": 4,
  "nbformat_minor": 0,
  "metadata": {
    "colab": {
      "name": "read-lab-file.ipynb",
      "provenance": []
    },
    "kernelspec": {
      "name": "python3",
      "display_name": "Python 3"
    },
    "language_info": {
      "name": "python"
    }
  },
  "cells": [
    {
      "cell_type": "markdown",
      "metadata": {
        "id": "NyW1y4JciXfW"
      },
      "source": [
        "# Read .lab files\n",
        "\n",
        "> \"Simple loader\"\n",
        "\n",
        "- toc: false\n",
        "- branch: master\n",
        "- badges: false\n",
        "- comments: true\n",
        "- categories: [lab, speech]"
      ]
    },
    {
      "cell_type": "code",
      "metadata": {
        "colab": {
          "base_uri": "https://localhost:8080/"
        },
        "id": "gHEEvcgDf1Cg",
        "outputId": "d9b6eb5b-8473-44eb-8c04-846395ccc80a"
      },
      "source": [
        "%%writefile test.lab\n",
        "#\n",
        "0 230 f\n",
        "230 350 o\n",
        "350 470 n"
      ],
      "execution_count": 4,
      "outputs": [
        {
          "output_type": "stream",
          "name": "stdout",
          "text": [
            "Writing test.lab\n"
          ]
        }
      ]
    },
    {
      "cell_type": "code",
      "metadata": {
        "id": "3PiKqYXGgKtI"
      },
      "source": [
        "def _read_lab(filename: str):\n",
        "    ret = []\n",
        "    with open(filename) as file:\n",
        "        for line in file.readlines():\n",
        "            if line.strip() == '':\n",
        "                continue\n",
        "            if line.startswith('#'):\n",
        "                continue\n",
        "            l = line.rstrip().split(' ')\n",
        "            if len(l) != 3:\n",
        "                continue\n",
        "            tmp = {}\n",
        "            tmp['start'] = l[0]\n",
        "            tmp['end'] = l[1]\n",
        "            tmp['phone'] = l[2]\n",
        "            ret.append(tmp)\n",
        "    return ret"
      ],
      "execution_count": 9,
      "outputs": []
    },
    {
      "cell_type": "code",
      "metadata": {
        "colab": {
          "base_uri": "https://localhost:8080/"
        },
        "id": "2vdIC4HxhfPL",
        "outputId": "950669ec-de3c-4b6d-ef90-155f1d5f8bc1"
      },
      "source": [
        "_read_lab('test.lab')"
      ],
      "execution_count": 10,
      "outputs": [
        {
          "output_type": "execute_result",
          "data": {
            "text/plain": [
              "[{'end': '230', 'phone': 'f', 'start': '0'},\n",
              " {'end': '350', 'phone': 'o', 'start': '230'},\n",
              " {'end': '470', 'phone': 'n', 'start': '350'}]"
            ]
          },
          "metadata": {},
          "execution_count": 10
        }
      ]
    }
  ]
}
