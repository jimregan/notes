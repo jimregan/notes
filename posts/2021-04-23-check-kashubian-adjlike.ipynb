{
 "cells": [
  {
   "cell_type": "markdown",
   "id": "7c32a974",
   "metadata": {},
   "source": [
    "# \"Checking a Kashubian adjective-like declension\"\n",
    "> \"Check if I haven't left anything out\"\n",
    "\n",
    "- toc: false\n",
    "- branch: master\n",
    "- comments: true\n",
    "- categories: [kashubian, declension]"
   ]
  },
  {
   "cell_type": "code",
   "execution_count": 1,
   "id": "304d6307",
   "metadata": {},
   "outputs": [],
   "source": [
    "def _list_to_check(pos):\n",
    "    num = ['sg', 'pl']\n",
    "    gen = ['mp', 'ma', 'mi', 'f', 'nt']\n",
    "    cas = ['nom', 'gen', 'dat', 'acc', 'ins', 'loc', 'voc']\n",
    "    out = []\n",
    "    for n in num:\n",
    "        for g in gen:\n",
    "            for c in cas:\n",
    "                out.append(f\"{pos}.{g}.{n}.{c}\")\n",
    "    return out"
   ]
  },
  {
   "cell_type": "code",
   "execution_count": 5,
   "id": "7d529081",
   "metadata": {},
   "outputs": [
    {
     "data": {
      "text/plain": [
       "70"
      ]
     },
     "execution_count": 5,
     "metadata": {},
     "output_type": "execute_result"
    }
   ],
   "source": [
    "len(_list_to_check('num.ord'))"
   ]
  },
  {
   "cell_type": "code",
   "execution_count": 14,
   "id": "3b1f0c8b",
   "metadata": {},
   "outputs": [],
   "source": [
    "dredzi = \"\"\"\n",
    "drëdżi\tdrëdżi\tnum.ord.mp|ma|mi.sg.nom|voc\n",
    "drëgô\tdrëdżi\tnum.ord.f.sg.nom|voc\n",
    "drëdżé\tdrëdżi\tnum.ord.nt.sg.nom|acc|voc\n",
    "drëgą\tdrëdżi\tnum.ord.f.sg.acc|ins\n",
    "drëdżi\tdrëdżi\tnum.ord.f.sg.gen|dat|loc\n",
    "drëdżim\tdrëdżi\tnum.ord.mp|ma|mi|nt.sg.loc|ins\n",
    "drëdżé\tdrëdżi\tnum.ord.nt|f|mi|ma.pl.nom|acc|voc\n",
    "drëdżich\tdrëdżi\tnum.ord.nt|f|mi|ma|mp.pl.gen|loc\n",
    "drëdżima\tdrëdżi\tnum.ord.nt|f|mi|ma.pl.ins\n",
    "drëdżégò\tdrëdżi\tnum.ord.nt|mi|ma|mp.sg.gen\n",
    "drëdżégò\tdrëdżi\tnum.ord.ma|mp.sg.acc\n",
    "drëdżémù\tdrëdżi\tnum.ord.nt|mi|ma|mp.sg.dat\n",
    "drëdżi\tdrëdżi\tnum.ord.mp.pl.nom|voc\n",
    "drëdżich\tdrëdżi\tnum.ord.mp.pl.acc\n",
    "drëdżim\tdrëdżi\tnum.ord.nt|f|mi|ma|mp.pl.dat\n",
    "\"\"\""
   ]
  },
  {
   "cell_type": "code",
   "execution_count": 22,
   "id": "5ac0871a",
   "metadata": {},
   "outputs": [],
   "source": [
    "def _do_expand(stack, todo):\n",
    "    onward = []\n",
    "    if not '.' in todo:\n",
    "        return [f'{a}.{b}' for a in stack for b in todo.split('|')]\n",
    "    cur, rest = todo.split('.', 1)\n",
    "    if stack == []:\n",
    "        onward = cur.split('|')\n",
    "        return _do_expand(onward, rest)\n",
    "    else:\n",
    "        onward = [f'{a}.{b}' for a in stack for b in cur.split('|')]\n",
    "        return _do_expand(onward, rest)\n",
    "def expand_compressed(lines):\n",
    "    output = []\n",
    "    for i in lines:\n",
    "        form, lemma, postag = i.split('\\t')\n",
    "        newtags = _do_expand([], postag)\n",
    "        output.extend([f\"{form}\\t{lemma}\\t{itag}\" for itag in newtags])\n",
    "    return output"
   ]
  },
  {
   "cell_type": "code",
   "execution_count": null,
   "id": "eae95fb3",
   "metadata": {},
   "outputs": [],
   "source": [
    "expand_compressed([l for l in dredzi.split('\\n') if l != ''])"
   ]
  },
  {
   "cell_type": "code",
   "execution_count": 25,
   "id": "b33f0fc0",
   "metadata": {},
   "outputs": [],
   "source": [
    "vals = expand_compressed([l for l in dredzi.split('\\n') if l != ''])"
   ]
  },
  {
   "cell_type": "code",
   "execution_count": 26,
   "id": "da9408ac",
   "metadata": {},
   "outputs": [],
   "source": [
    "tags = [a.split('\\t')[-1] for a in vals]"
   ]
  },
  {
   "cell_type": "code",
   "execution_count": 31,
   "id": "06becd93",
   "metadata": {},
   "outputs": [
    {
     "name": "stdout",
     "output_type": "stream",
     "text": [
      "num.ord.mi.sg.acc\n",
      "num.ord.mp.pl.ins\n"
     ]
    }
   ],
   "source": [
    "for tc in _list_to_check('num.ord'):\n",
    "    if not tc in tags:\n",
    "        print(tc)"
   ]
  },
  {
   "cell_type": "code",
   "execution_count": null,
   "id": "c6d042f5",
   "metadata": {},
   "outputs": [],
   "source": [
    "dredzi = \"\"\"\n",
    "drëdżi\tdrëdżi\tnum.ord.mp|ma|mi.sg.nom|voc\n",
    "drëdżi\tdrëdżi\tnum.ord.mi.sg.acc\n",
    "drëgô\tdrëdżi\tnum.ord.f.sg.nom|voc\n",
    "drëdżé\tdrëdżi\tnum.ord.nt.sg.nom|acc|voc\n",
    "drëgą\tdrëdżi\tnum.ord.f.sg.acc|ins\n",
    "drëdżi\tdrëdżi\tnum.ord.f.sg.gen|dat|loc\n",
    "drëdżim\tdrëdżi\tnum.ord.mp|ma|mi|nt.sg.loc|ins\n",
    "drëdżé\tdrëdżi\tnum.ord.nt|f|mi|ma.pl.nom|acc|voc\n",
    "drëdżich\tdrëdżi\tnum.ord.nt|f|mi|ma|mp.pl.gen|loc\n",
    "drëdżima\tdrëdżi\tnum.ord.nt|f|mi|ma|mp.pl.ins\n",
    "drëdżégò\tdrëdżi\tnum.ord.nt|mi|ma|mp.sg.gen\n",
    "drëdżégò\tdrëdżi\tnum.ord.ma|mp.sg.acc\n",
    "drëdżémù\tdrëdżi\tnum.ord.nt|mi|ma|mp.sg.dat\n",
    "drëdżi\tdrëdżi\tnum.ord.mp.pl.nom|voc\n",
    "drëdżich\tdrëdżi\tnum.ord.mp.pl.acc\n",
    "drëdżim\tdrëdżi\tnum.ord.nt|f|mi|ma|mp.pl.dat\n",
    "\"\"\""
   ]
  }
 ],
 "metadata": {
  "kernelspec": {
   "display_name": "Python 3",
   "language": "python",
   "name": "python3"
  },
  "language_info": {
   "codemirror_mode": {
    "name": "ipython",
    "version": 3
   },
   "file_extension": ".py",
   "mimetype": "text/x-python",
   "name": "python",
   "nbconvert_exporter": "python",
   "pygments_lexer": "ipython3",
   "version": "3.8.2"
  }
 },
 "nbformat": 4,
 "nbformat_minor": 5
}
